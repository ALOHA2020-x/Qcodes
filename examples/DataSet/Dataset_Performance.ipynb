{
 "cells": [
  {
   "cell_type": "markdown",
   "metadata": {},
   "source": [
    "# DataSet Performance\n",
    "\n",
    "This notebook shows the trade-off between inserting data into a database row-by-row and as binary blobs. Inserting the data row-by-row means that we have direct access to all the data and may perform queries directly on the values of the data. On the other hand, as we shall see, this is much slower than inserting the data directly as binary blobs."
   ]
  },
  {
   "cell_type": "markdown",
   "metadata": {},
   "source": [
    "First, we choose a new location for the database to ensure that we don't add a bunch of benchmarking data to the default one."
   ]
  },
  {
   "cell_type": "code",
   "execution_count": 1,
   "metadata": {
    "execution": {
     "iopub.execute_input": "2021-02-11T12:49:44.013893Z",
     "iopub.status.busy": "2021-02-11T12:49:44.013273Z",
     "iopub.status.idle": "2021-02-11T12:49:45.159618Z",
     "shell.execute_reply": "2021-02-11T12:49:45.158910Z"
    }
   },
   "outputs": [
    {
     "name": "stdout",
     "output_type": "stream",
     "text": [
      "Logging hadn't been started.\n",
      "Activating auto-logging. Current session state plus future input saved.\n",
      "Filename       : /home/vsts/.qcodes/logs/command_history.log\n",
      "Mode           : append\n",
      "Output logging : True\n",
      "Raw input log  : False\n",
      "Timestamping   : True\n",
      "State          : active\n"
     ]
    },
    {
     "name": "stdout",
     "output_type": "stream",
     "text": [
      "Qcodes Logfile : /home/vsts/.qcodes/logs/210211-7006-qcodes.log\n"
     ]
    }
   ],
   "source": [
    "import os\n",
    "cwd = os.getcwd()\n",
    "import qcodes as qc\n",
    "qc.config[\"core\"][\"db_location\"] = os.path.join(cwd, 'testing.db')\n"
   ]
  },
  {
   "cell_type": "code",
   "execution_count": 2,
   "metadata": {
    "execution": {
     "iopub.execute_input": "2021-02-11T12:49:45.166055Z",
     "iopub.status.busy": "2021-02-11T12:49:45.165410Z",
     "iopub.status.idle": "2021-02-11T12:49:45.369999Z",
     "shell.execute_reply": "2021-02-11T12:49:45.370485Z"
    }
   },
   "outputs": [],
   "source": [
    "%matplotlib inline\n",
    "import time\n",
    "import matplotlib.pyplot as plt\n",
    "import numpy as np\n",
    "\n",
    "import qcodes as qc\n",
    "from qcodes.instrument.parameter import ManualParameter\n",
    "from qcodes.dataset.experiment_container import (Experiment,\n",
    "                                                 load_last_experiment,\n",
    "                                                 new_experiment)\n",
    "from qcodes.dataset.sqlite.database import initialise_database\n",
    "from qcodes import load_or_create_experiment\n",
    "from qcodes.dataset.measurements import Measurement"
   ]
  },
  {
   "cell_type": "code",
   "execution_count": 3,
   "metadata": {
    "execution": {
     "iopub.execute_input": "2021-02-11T12:49:45.374699Z",
     "iopub.status.busy": "2021-02-11T12:49:45.374056Z",
     "iopub.status.idle": "2021-02-11T12:49:45.492955Z",
     "shell.execute_reply": "2021-02-11T12:49:45.493632Z"
    }
   },
   "outputs": [
    {
     "name": "stdout",
     "output_type": "stream",
     "text": [
      "\r",
      "0it [00:00, ?it/s]"
     ]
    },
    {
     "name": "stdout",
     "output_type": "stream",
     "text": [
      "\r",
      "Upgrading database; v0 -> v1: : 0it [00:00, ?it/s]"
     ]
    },
    {
     "name": "stdout",
     "output_type": "stream",
     "text": [
      "\r",
      "Upgrading database; v0 -> v1: : 0it [00:00, ?it/s]"
     ]
    },
    {
     "name": "stdout",
     "output_type": "stream",
     "text": [
      "\n",
      "\r",
      "  0%|          | 0/1 [00:00<?, ?it/s]"
     ]
    },
    {
     "name": "stdout",
     "output_type": "stream",
     "text": [
      "\r",
      "Upgrading database; v1 -> v2:   0%|          | 0/1 [00:00<?, ?it/s]"
     ]
    },
    {
     "name": "stdout",
     "output_type": "stream",
     "text": [
      "\r",
      "Upgrading database; v1 -> v2: 100%|██████████| 1/1 [00:00<00:00, 477.77it/s]"
     ]
    },
    {
     "name": "stdout",
     "output_type": "stream",
     "text": [
      "\n",
      "\r",
      "0it [00:00, ?it/s]"
     ]
    },
    {
     "name": "stdout",
     "output_type": "stream",
     "text": [
      "\r",
      "Upgrading database; v2 -> v3: : 0it [00:00, ?it/s]"
     ]
    },
    {
     "name": "stdout",
     "output_type": "stream",
     "text": [
      "\r",
      "Upgrading database; v2 -> v3: : 0it [00:00, ?it/s]"
     ]
    },
    {
     "name": "stdout",
     "output_type": "stream",
     "text": [
      "\n",
      "\r",
      "0it [00:00, ?it/s]"
     ]
    },
    {
     "name": "stdout",
     "output_type": "stream",
     "text": [
      "\r",
      "Upgrading database; v3 -> v4: : 0it [00:00, ?it/s]"
     ]
    },
    {
     "name": "stdout",
     "output_type": "stream",
     "text": [
      "\r",
      "Upgrading database; v3 -> v4: : 0it [00:00, ?it/s]"
     ]
    },
    {
     "name": "stdout",
     "output_type": "stream",
     "text": [
      "\n",
      "\r",
      "  0%|          | 0/1 [00:00<?, ?it/s]"
     ]
    },
    {
     "name": "stdout",
     "output_type": "stream",
     "text": [
      "\r",
      "Upgrading database; v4 -> v5:   0%|          | 0/1 [00:00<?, ?it/s]"
     ]
    },
    {
     "name": "stdout",
     "output_type": "stream",
     "text": [
      "\r",
      "Upgrading database; v4 -> v5: 100%|██████████| 1/1 [00:00<00:00, 798.15it/s]"
     ]
    },
    {
     "name": "stdout",
     "output_type": "stream",
     "text": [
      "\n",
      "\r",
      "0it [00:00, ?it/s]"
     ]
    },
    {
     "name": "stdout",
     "output_type": "stream",
     "text": [
      "\r",
      "Upgrading database; v5 -> v6: : 0it [00:00, ?it/s]"
     ]
    },
    {
     "name": "stdout",
     "output_type": "stream",
     "text": [
      "\r",
      "Upgrading database; v5 -> v6: : 0it [00:00, ?it/s]"
     ]
    },
    {
     "name": "stdout",
     "output_type": "stream",
     "text": [
      "\n",
      "\r",
      "  0%|          | 0/1 [00:00<?, ?it/s]"
     ]
    },
    {
     "name": "stdout",
     "output_type": "stream",
     "text": [
      "\r",
      "Upgrading database; v6 -> v7:   0%|          | 0/1 [00:00<?, ?it/s]"
     ]
    },
    {
     "name": "stdout",
     "output_type": "stream",
     "text": [
      "\r",
      "Upgrading database; v6 -> v7: 100%|██████████| 1/1 [00:00<00:00, 334.95it/s]"
     ]
    },
    {
     "name": "stdout",
     "output_type": "stream",
     "text": [
      "\n",
      "\r",
      "  0%|          | 0/1 [00:00<?, ?it/s]"
     ]
    },
    {
     "name": "stdout",
     "output_type": "stream",
     "text": [
      "\r",
      "Upgrading database; v7 -> v8:   0%|          | 0/1 [00:00<?, ?it/s]"
     ]
    },
    {
     "name": "stdout",
     "output_type": "stream",
     "text": [
      "\r",
      "Upgrading database; v7 -> v8: 100%|██████████| 1/1 [00:00<00:00, 971.35it/s]"
     ]
    },
    {
     "name": "stdout",
     "output_type": "stream",
     "text": [
      "\n",
      "\r",
      "  0%|          | 0/1 [00:00<?, ?it/s]"
     ]
    },
    {
     "name": "stdout",
     "output_type": "stream",
     "text": [
      "\r",
      "Upgrading database; v8 -> v9:   0%|          | 0/1 [00:00<?, ?it/s]"
     ]
    },
    {
     "name": "stdout",
     "output_type": "stream",
     "text": [
      "\r",
      "Upgrading database; v8 -> v9: 100%|██████████| 1/1 [00:00<00:00, 486.86it/s]"
     ]
    },
    {
     "name": "stdout",
     "output_type": "stream",
     "text": [
      "\n"
     ]
    }
   ],
   "source": [
    "initialise_database()\n",
    "exp = load_or_create_experiment(experiment_name='tutorial_exp', sample_name=\"no sample\")"
   ]
  },
  {
   "cell_type": "markdown",
   "metadata": {},
   "source": [
    "Here, we define a simple function to benchmark the time it takes to insert n points with either numeric or array data type.\n",
    "We will compare both the time used to call ``add_result`` and the time used for the full measurement."
   ]
  },
  {
   "cell_type": "code",
   "execution_count": 4,
   "metadata": {
    "execution": {
     "iopub.execute_input": "2021-02-11T12:49:45.503194Z",
     "iopub.status.busy": "2021-02-11T12:49:45.502568Z",
     "iopub.status.idle": "2021-02-11T12:49:45.506085Z",
     "shell.execute_reply": "2021-02-11T12:49:45.506603Z"
    }
   },
   "outputs": [],
   "source": [
    "def insert_data(paramtype, npoints, nreps=1):\n",
    "\n",
    "    meas = Measurement(exp=exp)\n",
    "\n",
    "    x1 = ManualParameter('x1')\n",
    "    x2 = ManualParameter('x2')\n",
    "    x3 = ManualParameter('x3')\n",
    "    y1 = ManualParameter('y1')\n",
    "    y2 = ManualParameter('y2')\n",
    "\n",
    "    meas.register_parameter(x1, paramtype=paramtype)\n",
    "    meas.register_parameter(x2, paramtype=paramtype)\n",
    "    meas.register_parameter(x3, paramtype=paramtype)\n",
    "    meas.register_parameter(y1, setpoints=[x1, x2, x3],\n",
    "                            paramtype=paramtype)\n",
    "    meas.register_parameter(y2, setpoints=[x1, x2, x3],\n",
    "                            paramtype=paramtype)\n",
    "    start = time.perf_counter()\n",
    "    with meas.run() as datasaver:\n",
    "        start_adding = time.perf_counter()\n",
    "        for i in range(nreps):\n",
    "            datasaver.add_result((x1, np.random.rand(npoints)),\n",
    "                                 (x2, np.random.rand(npoints)),\n",
    "                                 (x3, np.random.rand(npoints)),\n",
    "                                 (y1, np.random.rand(npoints)),\n",
    "                                 (y2, np.random.rand(npoints)))\n",
    "        stop_adding = time.perf_counter()\n",
    "        run_id = datasaver.run_id\n",
    "    stop = time.perf_counter()\n",
    "    tot_time = stop - start\n",
    "    add_time = stop_adding - start_adding\n",
    "    return tot_time, add_time, run_id"
   ]
  },
  {
   "cell_type": "markdown",
   "metadata": {},
   "source": [
    "## Comparison between numeric/array data and binary blob"
   ]
  },
  {
   "cell_type": "markdown",
   "metadata": {},
   "source": [
    "### Case1: Short experiment time"
   ]
  },
  {
   "cell_type": "code",
   "execution_count": 5,
   "metadata": {
    "execution": {
     "iopub.execute_input": "2021-02-11T12:49:45.513286Z",
     "iopub.status.busy": "2021-02-11T12:49:45.512004Z",
     "iopub.status.idle": "2021-02-11T12:49:46.371961Z",
     "shell.execute_reply": "2021-02-11T12:49:46.372452Z"
    }
   },
   "outputs": [
    {
     "name": "stdout",
     "output_type": "stream",
     "text": [
      "Starting experimental run with id: 1. \n",
      "Starting experimental run with id: 2. \n",
      "Starting experimental run with id: 3. \n",
      "Starting experimental run with id: 4. \n",
      "Starting experimental run with id: 5. \n"
     ]
    },
    {
     "name": "stdout",
     "output_type": "stream",
     "text": [
      "Starting experimental run with id: 6. \n"
     ]
    },
    {
     "name": "stdout",
     "output_type": "stream",
     "text": [
      "Starting experimental run with id: 7. \n"
     ]
    },
    {
     "name": "stdout",
     "output_type": "stream",
     "text": [
      "Starting experimental run with id: 8. \n",
      "Starting experimental run with id: 9. \n"
     ]
    },
    {
     "name": "stdout",
     "output_type": "stream",
     "text": [
      "Starting experimental run with id: 10. \n",
      "Starting experimental run with id: 11. \n"
     ]
    },
    {
     "name": "stdout",
     "output_type": "stream",
     "text": [
      "Starting experimental run with id: 12. \n"
     ]
    },
    {
     "name": "stdout",
     "output_type": "stream",
     "text": [
      "Starting experimental run with id: 13. \n"
     ]
    },
    {
     "name": "stdout",
     "output_type": "stream",
     "text": [
      "Starting experimental run with id: 14. \n"
     ]
    }
   ],
   "source": [
    "sizes = [1,500,1000,2000,3000,4000,5000]\n",
    "t_numeric = []\n",
    "t_numeric_add = []\n",
    "t_array = []\n",
    "t_array_add = []\n",
    "for size in sizes:\n",
    "    tn, tna, run_id_n =  insert_data('numeric', size)\n",
    "    t_numeric.append(tn)\n",
    "    t_numeric_add.append(tna)\n",
    "\n",
    "    ta, taa, run_id_a =  insert_data('array', size)\n",
    "    t_array.append(ta)\n",
    "    t_array_add.append(taa)"
   ]
  },
  {
   "cell_type": "code",
   "execution_count": 6,
   "metadata": {
    "execution": {
     "iopub.execute_input": "2021-02-11T12:49:46.405684Z",
     "iopub.status.busy": "2021-02-11T12:49:46.404083Z",
     "iopub.status.idle": "2021-02-11T12:49:46.608128Z",
     "shell.execute_reply": "2021-02-11T12:49:46.608741Z"
    }
   },
   "outputs": [
    {
     "data": {
      "image/png": "[encoded data removed]",
      "text/plain": [
       "<Figure size 432x288 with 1 Axes>"
      ]
     },
     "metadata": {
      "needs_background": "light"
     },
     "output_type": "display_data"
    }
   ],
   "source": [
    "fig, ax = plt.subplots(1,1)\n",
    "ax.plot(sizes, t_numeric, 'o-', label='Inserting row-by-row')\n",
    "ax.plot(sizes, t_numeric_add, 'o-', label='Inserting row-by-row: add_result only')\n",
    "ax.plot(sizes, t_array, 'd-', label='Inserting as binary blob')\n",
    "ax.plot(sizes, t_array_add, 'd-', label='Inserting as binary blob: add_result only')\n",
    "ax.legend()\n",
    "ax.set_xlabel('Array length')\n",
    "ax.set_ylabel('Time (s)')\n",
    "fig.tight_layout()"
   ]
  },
  {
   "cell_type": "markdown",
   "metadata": {},
   "source": [
    "As shown in the latter figure, the time to setup and and close the experiment is approximately 0.4 sec. In case of small array sizes, the difference between inserting values of data as arrays and inserting them row-by-row is relatively unimportant. At larger array sizes, i.e. above 10000 points, the cost of writing data as individual datapoints starts to become important.\n"
   ]
  },
  {
   "cell_type": "markdown",
   "metadata": {},
   "source": [
    "### Case2: Long experiment time "
   ]
  },
  {
   "cell_type": "code",
   "execution_count": 7,
   "metadata": {
    "execution": {
     "iopub.execute_input": "2021-02-11T12:49:46.616095Z",
     "iopub.status.busy": "2021-02-11T12:49:46.614866Z",
     "iopub.status.idle": "2021-02-11T12:50:47.617753Z",
     "shell.execute_reply": "2021-02-11T12:50:47.617159Z"
    }
   },
   "outputs": [
    {
     "name": "stdout",
     "output_type": "stream",
     "text": [
      "Starting experimental run with id: 15. \n",
      "Starting experimental run with id: 16. \n"
     ]
    },
    {
     "name": "stdout",
     "output_type": "stream",
     "text": [
      "Starting experimental run with id: 17. \n"
     ]
    },
    {
     "name": "stdout",
     "output_type": "stream",
     "text": [
      "Starting experimental run with id: 18. \n"
     ]
    },
    {
     "name": "stdout",
     "output_type": "stream",
     "text": [
      "Starting experimental run with id: 19. \n"
     ]
    },
    {
     "name": "stdout",
     "output_type": "stream",
     "text": [
      "Starting experimental run with id: 20. \n"
     ]
    },
    {
     "name": "stdout",
     "output_type": "stream",
     "text": [
      "Starting experimental run with id: 21. \n"
     ]
    },
    {
     "name": "stdout",
     "output_type": "stream",
     "text": [
      "Starting experimental run with id: 22. \n"
     ]
    },
    {
     "name": "stdout",
     "output_type": "stream",
     "text": [
      "Starting experimental run with id: 23. \n"
     ]
    },
    {
     "name": "stdout",
     "output_type": "stream",
     "text": [
      "Starting experimental run with id: 24. \n"
     ]
    },
    {
     "name": "stdout",
     "output_type": "stream",
     "text": [
      "Starting experimental run with id: 25. \n"
     ]
    },
    {
     "name": "stdout",
     "output_type": "stream",
     "text": [
      "Starting experimental run with id: 26. \n"
     ]
    },
    {
     "name": "stdout",
     "output_type": "stream",
     "text": [
      "Starting experimental run with id: 27. \n"
     ]
    },
    {
     "name": "stdout",
     "output_type": "stream",
     "text": [
      "Starting experimental run with id: 28. \n"
     ]
    }
   ],
   "source": [
    "sizes = [1,500,1000,2000,3000,4000,5000]\n",
    "nreps = 100\n",
    "t_numeric = []\n",
    "t_numeric_add = []\n",
    "t_numeric_run_ids = []\n",
    "t_array = []\n",
    "t_array_add = []\n",
    "t_array_run_ids = []\n",
    "for size in sizes:\n",
    "    tn, tna, run_id_n =  insert_data('numeric', size, nreps=nreps)\n",
    "    t_numeric.append(tn)\n",
    "    t_numeric_add.append(tna)\n",
    "    t_numeric_run_ids.append(run_id_n)\n",
    "\n",
    "    ta, taa, run_id_a =  insert_data('array', size, nreps=nreps)\n",
    "    t_array.append(ta)\n",
    "    t_array_add.append(taa)\n",
    "    t_array_run_ids.append(run_id_a)"
   ]
  },
  {
   "cell_type": "code",
   "execution_count": 8,
   "metadata": {
    "execution": {
     "iopub.execute_input": "2021-02-11T12:50:47.644878Z",
     "iopub.status.busy": "2021-02-11T12:50:47.635920Z",
     "iopub.status.idle": "2021-02-11T12:50:47.846505Z",
     "shell.execute_reply": "2021-02-11T12:50:47.846987Z"
    },
    "scrolled": true
   },
   "outputs": [
    {
     "data": {
      "image/png": "[encoded data removed]",
      "text/plain": [
       "<Figure size 432x288 with 1 Axes>"
      ]
     },
     "metadata": {
      "needs_background": "light"
     },
     "output_type": "display_data"
    }
   ],
   "source": [
    "fig, ax = plt.subplots(1,1)\n",
    "ax.plot(sizes, t_numeric, 'o-', label='Inserting row-by-row')\n",
    "ax.plot(sizes, t_numeric_add, 'o-', label='Inserting row-by-row: add_result only')\n",
    "ax.plot(sizes, t_array, 'd-', label='Inserting as binary blob')\n",
    "ax.plot(sizes, t_array_add, 'd-', label='Inserting as binary blob: add_result only')\n",
    "ax.legend()\n",
    "ax.set_xlabel('Array length')\n",
    "ax.set_ylabel('Time (s)')\n",
    "fig.tight_layout()"
   ]
  },
  {
   "cell_type": "markdown",
   "metadata": {},
   "source": [
    "However, as we increase the length of the experiment, as seen here by repeating the insertion 100 times, we see a big difference between inserting values of the data row-by-row and inserting it as a binary blob."
   ]
  },
  {
   "cell_type": "markdown",
   "metadata": {},
   "source": [
    "## Loading the data "
   ]
  },
  {
   "cell_type": "code",
   "execution_count": 9,
   "metadata": {
    "execution": {
     "iopub.execute_input": "2021-02-11T12:50:47.851695Z",
     "iopub.status.busy": "2021-02-11T12:50:47.850783Z",
     "iopub.status.idle": "2021-02-11T12:50:47.854898Z",
     "shell.execute_reply": "2021-02-11T12:50:47.854358Z"
    }
   },
   "outputs": [],
   "source": [
    "from qcodes.dataset.data_set import load_by_id\n",
    "from qcodes.dataset.data_export import get_data_by_id"
   ]
  },
  {
   "cell_type": "markdown",
   "metadata": {},
   "source": [
    "As usual you can load the data by using the ``load_by_id`` function but you will notice that the different storage methods\n",
    "are reflected in shape of the data as it is retrieved. "
   ]
  },
  {
   "cell_type": "code",
   "execution_count": 10,
   "metadata": {
    "execution": {
     "iopub.execute_input": "2021-02-11T12:50:47.858466Z",
     "iopub.status.busy": "2021-02-11T12:50:47.857857Z",
     "iopub.status.idle": "2021-02-11T12:50:47.861429Z",
     "shell.execute_reply": "2021-02-11T12:50:47.862313Z"
    }
   },
   "outputs": [],
   "source": [
    "run_id_n = t_numeric_run_ids[0]\n",
    "run_id_a = t_array_run_ids[0]"
   ]
  },
  {
   "cell_type": "code",
   "execution_count": 11,
   "metadata": {
    "execution": {
     "iopub.execute_input": "2021-02-11T12:50:47.866697Z",
     "iopub.status.busy": "2021-02-11T12:50:47.866095Z",
     "iopub.status.idle": "2021-02-11T12:50:47.876432Z",
     "shell.execute_reply": "2021-02-11T12:50:47.875533Z"
    },
    "scrolled": true
   },
   "outputs": [
    {
     "data": {
      "text/plain": [
       "{'x1': {'x1': array([0.69729469, 0.69729469, 0.37253395, 0.37253395, 0.23478544,\n",
       "         0.23478544, 0.9860365 , 0.9860365 , 0.53361617, 0.53361617,\n",
       "         0.05347503, 0.05347503, 0.11033235, 0.11033235, 0.07904941,\n",
       "         0.07904941, 0.73811629, 0.73811629, 0.0267616 , 0.0267616 ,\n",
       "         0.53217934, 0.53217934, 0.50145774, 0.50145774, 0.40927693,\n",
       "         0.40927693, 0.29356084, 0.29356084, 0.71239518, 0.71239518,\n",
       "         0.14466394, 0.14466394, 0.52320047, 0.52320047, 0.85918888,\n",
       "         0.85918888, 0.78763489, 0.78763489, 0.40507039, 0.40507039,\n",
       "         0.35849619, 0.35849619, 0.26218746, 0.26218746, 0.39868164,\n",
       "         0.39868164, 0.90274574, 0.90274574, 0.31298419, 0.31298419,\n",
       "         0.75680744, 0.75680744, 0.25243203, 0.25243203, 0.83782752,\n",
       "         0.83782752, 0.70512921, 0.70512921, 0.48515636, 0.48515636,\n",
       "         0.13649894, 0.13649894, 0.26527659, 0.26527659, 0.97651043,\n",
       "         0.97651043, 0.3248817 , 0.3248817 , 0.35226779, 0.35226779,\n",
       "         0.79886725, 0.79886725, 0.40389856, 0.40389856, 0.41749605,\n",
       "         0.41749605, 0.9732694 , 0.9732694 , 0.17648082, 0.17648082,\n",
       "         0.07813674, 0.07813674, 0.71528535, 0.71528535, 0.92202718,\n",
       "         0.92202718, 0.87631571, 0.87631571, 0.80326121, 0.80326121,\n",
       "         0.74086969, 0.74086969, 0.86830053, 0.86830053, 0.51909206,\n",
       "         0.51909206, 0.6757316 , 0.6757316 , 0.54374689, 0.54374689,\n",
       "         0.29055126, 0.29055126, 0.12787547, 0.12787547, 0.11627053,\n",
       "         0.11627053, 0.31857808, 0.31857808, 0.93370675, 0.93370675,\n",
       "         0.22163892, 0.22163892, 0.21607468, 0.21607468, 0.33769873,\n",
       "         0.33769873, 0.27713057, 0.27713057, 0.97190791, 0.97190791,\n",
       "         0.99708061, 0.99708061, 0.85065612, 0.85065612, 0.5171965 ,\n",
       "         0.5171965 , 0.2856645 , 0.2856645 , 0.20725644, 0.20725644,\n",
       "         0.86661299, 0.86661299, 0.86133276, 0.86133276, 0.25810385,\n",
       "         0.25810385, 0.85795009, 0.85795009, 0.65834161, 0.65834161,\n",
       "         0.04276261, 0.04276261, 0.43939305, 0.43939305, 0.79074836,\n",
       "         0.79074836, 0.4131855 , 0.4131855 , 0.09473024, 0.09473024,\n",
       "         0.51527875, 0.51527875, 0.25148651, 0.25148651, 0.94571362,\n",
       "         0.94571362, 0.32637866, 0.32637866, 0.30659695, 0.30659695,\n",
       "         0.22325843, 0.22325843, 0.13918531, 0.13918531, 0.72972563,\n",
       "         0.72972563, 0.50319498, 0.50319498, 0.03315504, 0.03315504,\n",
       "         0.89325544, 0.89325544, 0.60085794, 0.60085794, 0.90804637,\n",
       "         0.90804637, 0.75977691, 0.75977691, 0.78574015, 0.78574015,\n",
       "         0.96703161, 0.96703161, 0.0952454 , 0.0952454 , 0.66490214,\n",
       "         0.66490214, 0.7797043 , 0.7797043 , 0.58014983, 0.58014983,\n",
       "         0.07571711, 0.07571711, 0.55326737, 0.55326737, 0.43992939,\n",
       "         0.43992939, 0.423113  , 0.423113  , 0.58793204, 0.58793204])}}"
      ]
     },
     "execution_count": 1,
     "metadata": {},
     "output_type": "execute_result"
    }
   ],
   "source": [
    "ds = load_by_id(run_id_n)\n",
    "ds.get_parameter_data('x1')"
   ]
  },
  {
   "cell_type": "markdown",
   "metadata": {},
   "source": [
    "And a dataset stored as binary arrays"
   ]
  },
  {
   "cell_type": "code",
   "execution_count": 12,
   "metadata": {
    "execution": {
     "iopub.execute_input": "2021-02-11T12:50:47.880797Z",
     "iopub.status.busy": "2021-02-11T12:50:47.880181Z",
     "iopub.status.idle": "2021-02-11T12:50:47.946945Z",
     "shell.execute_reply": "2021-02-11T12:50:47.947470Z"
    },
    "scrolled": true
   },
   "outputs": [
    {
     "data": {
      "text/plain": [
       "{'x1': {'x1': array([[1.64885428e-01],\n",
       "         [1.64885428e-01],\n",
       "         [3.62124313e-01],\n",
       "         [3.62124313e-01],\n",
       "         [2.84260084e-02],\n",
       "         [2.84260084e-02],\n",
       "         [3.04200617e-01],\n",
       "         [3.04200617e-01],\n",
       "         [1.60194716e-01],\n",
       "         [1.60194716e-01],\n",
       "         [3.76986986e-01],\n",
       "         [3.76986986e-01],\n",
       "         [9.53917083e-01],\n",
       "         [9.53917083e-01],\n",
       "         [3.71114390e-02],\n",
       "         [3.71114390e-02],\n",
       "         [3.47158094e-01],\n",
       "         [3.47158094e-01],\n",
       "         [8.28967485e-01],\n",
       "         [8.28967485e-01],\n",
       "         [7.27095430e-01],\n",
       "         [7.27095430e-01],\n",
       "         [9.49253827e-01],\n",
       "         [9.49253827e-01],\n",
       "         [5.40148827e-02],\n",
       "         [5.40148827e-02],\n",
       "         [5.41780474e-01],\n",
       "         [5.41780474e-01],\n",
       "         [8.42451400e-01],\n",
       "         [8.42451400e-01],\n",
       "         [8.68230941e-01],\n",
       "         [8.68230941e-01],\n",
       "         [4.00555232e-01],\n",
       "         [4.00555232e-01],\n",
       "         [1.40050427e-01],\n",
       "         [1.40050427e-01],\n",
       "         [4.25609380e-01],\n",
       "         [4.25609380e-01],\n",
       "         [5.99317151e-01],\n",
       "         [5.99317151e-01],\n",
       "         [9.05671012e-01],\n",
       "         [9.05671012e-01],\n",
       "         [7.05064888e-01],\n",
       "         [7.05064888e-01],\n",
       "         [5.43138582e-01],\n",
       "         [5.43138582e-01],\n",
       "         [8.02110745e-01],\n",
       "         [8.02110745e-01],\n",
       "         [4.04940098e-03],\n",
       "         [4.04940098e-03],\n",
       "         [5.35596096e-01],\n",
       "         [5.35596096e-01],\n",
       "         [4.25677829e-01],\n",
       "         [4.25677829e-01],\n",
       "         [1.32357249e-01],\n",
       "         [1.32357249e-01],\n",
       "         [7.28579839e-04],\n",
       "         [7.28579839e-04],\n",
       "         [2.58905105e-01],\n",
       "         [2.58905105e-01],\n",
       "         [4.87938695e-01],\n",
       "         [4.87938695e-01],\n",
       "         [5.78547026e-01],\n",
       "         [5.78547026e-01],\n",
       "         [5.18960776e-01],\n",
       "         [5.18960776e-01],\n",
       "         [9.15903269e-01],\n",
       "         [9.15903269e-01],\n",
       "         [6.98917579e-01],\n",
       "         [6.98917579e-01],\n",
       "         [9.78955545e-01],\n",
       "         [9.78955545e-01],\n",
       "         [4.03437379e-01],\n",
       "         [4.03437379e-01],\n",
       "         [5.23027684e-01],\n",
       "         [5.23027684e-01],\n",
       "         [2.68421460e-01],\n",
       "         [2.68421460e-01],\n",
       "         [8.53858302e-02],\n",
       "         [8.53858302e-02],\n",
       "         [5.83829249e-01],\n",
       "         [5.83829249e-01],\n",
       "         [6.63264121e-01],\n",
       "         [6.63264121e-01],\n",
       "         [5.75997359e-01],\n",
       "         [5.75997359e-01],\n",
       "         [3.48759752e-01],\n",
       "         [3.48759752e-01],\n",
       "         [2.59540682e-01],\n",
       "         [2.59540682e-01],\n",
       "         [7.76844288e-02],\n",
       "         [7.76844288e-02],\n",
       "         [2.95413664e-01],\n",
       "         [2.95413664e-01],\n",
       "         [6.05834232e-01],\n",
       "         [6.05834232e-01],\n",
       "         [8.88681763e-01],\n",
       "         [8.88681763e-01],\n",
       "         [8.07710484e-01],\n",
       "         [8.07710484e-01],\n",
       "         [5.34968649e-01],\n",
       "         [5.34968649e-01],\n",
       "         [9.42450349e-01],\n",
       "         [9.42450349e-01],\n",
       "         [7.64865453e-01],\n",
       "         [7.64865453e-01],\n",
       "         [8.89012712e-01],\n",
       "         [8.89012712e-01],\n",
       "         [9.41849391e-01],\n",
       "         [9.41849391e-01],\n",
       "         [8.41680697e-01],\n",
       "         [8.41680697e-01],\n",
       "         [2.13154580e-01],\n",
       "         [2.13154580e-01],\n",
       "         [5.67787826e-01],\n",
       "         [5.67787826e-01],\n",
       "         [5.59743639e-01],\n",
       "         [5.59743639e-01],\n",
       "         [2.03408077e-01],\n",
       "         [2.03408077e-01],\n",
       "         [6.24719273e-02],\n",
       "         [6.24719273e-02],\n",
       "         [9.12334863e-01],\n",
       "         [9.12334863e-01],\n",
       "         [6.78437585e-01],\n",
       "         [6.78437585e-01],\n",
       "         [4.79263014e-01],\n",
       "         [4.79263014e-01],\n",
       "         [9.81811026e-01],\n",
       "         [9.81811026e-01],\n",
       "         [9.09558193e-01],\n",
       "         [9.09558193e-01],\n",
       "         [6.53865429e-01],\n",
       "         [6.53865429e-01],\n",
       "         [7.76149212e-01],\n",
       "         [7.76149212e-01],\n",
       "         [3.03440322e-01],\n",
       "         [3.03440322e-01],\n",
       "         [2.41519804e-01],\n",
       "         [2.41519804e-01],\n",
       "         [4.06573119e-01],\n",
       "         [4.06573119e-01],\n",
       "         [9.94209873e-01],\n",
       "         [9.94209873e-01],\n",
       "         [8.09977219e-01],\n",
       "         [8.09977219e-01],\n",
       "         [5.74267612e-01],\n",
       "         [5.74267612e-01],\n",
       "         [2.69565356e-01],\n",
       "         [2.69565356e-01],\n",
       "         [5.37844615e-01],\n",
       "         [5.37844615e-01],\n",
       "         [5.57082854e-01],\n",
       "         [5.57082854e-01],\n",
       "         [1.11180000e-01],\n",
       "         [1.11180000e-01],\n",
       "         [3.39690361e-01],\n",
       "         [3.39690361e-01],\n",
       "         [5.47568695e-01],\n",
       "         [5.47568695e-01],\n",
       "         [4.70451838e-01],\n",
       "         [4.70451838e-01],\n",
       "         [5.58246252e-01],\n",
       "         [5.58246252e-01],\n",
       "         [4.30326784e-01],\n",
       "         [4.30326784e-01],\n",
       "         [4.60333555e-01],\n",
       "         [4.60333555e-01],\n",
       "         [2.41826896e-01],\n",
       "         [2.41826896e-01],\n",
       "         [1.82078857e-02],\n",
       "         [1.82078857e-02],\n",
       "         [8.95661098e-01],\n",
       "         [8.95661098e-01],\n",
       "         [5.72839259e-01],\n",
       "         [5.72839259e-01],\n",
       "         [8.37302791e-01],\n",
       "         [8.37302791e-01],\n",
       "         [5.91384421e-01],\n",
       "         [5.91384421e-01],\n",
       "         [3.49988466e-01],\n",
       "         [3.49988466e-01],\n",
       "         [5.86412232e-01],\n",
       "         [5.86412232e-01],\n",
       "         [3.81853749e-01],\n",
       "         [3.81853749e-01],\n",
       "         [4.17399708e-01],\n",
       "         [4.17399708e-01],\n",
       "         [1.22513496e-01],\n",
       "         [1.22513496e-01],\n",
       "         [5.01697973e-01],\n",
       "         [5.01697973e-01],\n",
       "         [1.57248746e-02],\n",
       "         [1.57248746e-02],\n",
       "         [9.62121582e-01],\n",
       "         [9.62121582e-01],\n",
       "         [6.05551470e-01],\n",
       "         [6.05551470e-01],\n",
       "         [9.45259514e-01],\n",
       "         [9.45259514e-01]])}}"
      ]
     },
     "execution_count": 1,
     "metadata": {},
     "output_type": "execute_result"
    }
   ],
   "source": [
    "ds = load_by_id(run_id_a)\n",
    "ds.get_parameter_data('x1')"
   ]
  },
  {
   "cell_type": "code",
   "execution_count": null,
   "metadata": {},
   "outputs": [],
   "source": []
  }
 ],
 "metadata": {
  "kernelspec": {
   "display_name": "Python 3",
   "language": "python",
   "name": "python3"
  },
  "language_info": {
   "codemirror_mode": {
    "name": "ipython",
    "version": 3
   },
   "file_extension": ".py",
   "mimetype": "text/x-python",
   "name": "python",
   "nbconvert_exporter": "python",
   "pygments_lexer": "ipython3",
   "version": "3.7.9"
  },
  "nbsphinx": {
   "timeout": 600
  },
  "toc": {
   "base_numbering": 1,
   "nav_menu": {},
   "number_sections": true,
   "sideBar": true,
   "skip_h1_title": false,
   "title_cell": "Table of Contents",
   "title_sidebar": "Contents",
   "toc_cell": false,
   "toc_position": {},
   "toc_section_display": true,
   "toc_window_display": false
  },
  "varInspector": {
   "cols": {
    "lenName": 16,
    "lenType": 16,
    "lenVar": 40
   },
   "kernels_config": {
    "python": {
     "delete_cmd_postfix": "",
     "delete_cmd_prefix": "del ",
     "library": "var_list.py",
     "varRefreshCmd": "print(var_dic_list())"
    },
    "r": {
     "delete_cmd_postfix": ") ",
     "delete_cmd_prefix": "rm(",
     "library": "var_list.r",
     "varRefreshCmd": "cat(var_dic_list()) "
    }
   },
   "types_to_exclude": [
    "module",
    "function",
    "builtin_function_or_method",
    "instance",
    "_Feature"
   ],
   "window_display": false
  }
 },
 "nbformat": 4,
 "nbformat_minor": 2
}
