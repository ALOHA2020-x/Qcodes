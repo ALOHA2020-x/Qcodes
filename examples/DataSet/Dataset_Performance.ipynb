{
 "cells": [
  {
   "cell_type": "markdown",
   "metadata": {},
   "source": [
    "# DataSet Performance\n",
    "\n",
    "This notebook shows the trade-off between inserting data into a database row-by-row and as binary blobs. Inserting the data row-by-row means that we have direct access to all the data and may perform queries directly on the values of the data. On the other hand, as we shall see, this is much slower than inserting the data directly as binary blobs."
   ]
  },
  {
   "cell_type": "markdown",
   "metadata": {},
   "source": [
    "First, we choose a new location for the database to ensure that we don't add a bunch of benchmarking data to the default one."
   ]
  },
  {
   "cell_type": "code",
   "execution_count": 1,
   "metadata": {},
   "outputs": [
    {
     "name": "stdout",
     "output_type": "stream",
     "text": [
      "Logging hadn't been started.\n",
      "Activating auto-logging. Current session state plus future input saved.\n",
      "Filename       : /home/vsts/.qcodes/logs/command_history.log\n",
      "Mode           : append\n",
      "Output logging : True\n",
      "Raw input log  : False\n",
      "Timestamping   : True\n",
      "State          : active\n"
     ]
    },
    {
     "name": "stdout",
     "output_type": "stream",
     "text": [
      "Qcodes Logfile : /home/vsts/.qcodes/logs/200611-22335-qcodes.log\n"
     ]
    }
   ],
   "source": [
    "import os\n",
    "cwd = os.getcwd()\n",
    "import qcodes as qc\n",
    "qc.config[\"core\"][\"db_location\"] = os.path.join(cwd, 'testing.db')\n"
   ]
  },
  {
   "cell_type": "code",
   "execution_count": 2,
   "metadata": {},
   "outputs": [],
   "source": [
    "%matplotlib inline\n",
    "import time\n",
    "import matplotlib.pyplot as plt\n",
    "import numpy as np\n",
    "\n",
    "import qcodes as qc\n",
    "from qcodes.instrument.parameter import ManualParameter\n",
    "from qcodes.dataset.experiment_container import (Experiment,\n",
    "                                                 load_last_experiment,\n",
    "                                                 new_experiment)\n",
    "from qcodes.dataset.sqlite.database import initialise_database\n",
    "from qcodes import load_or_create_experiment\n",
    "from qcodes.dataset.measurements import Measurement"
   ]
  },
  {
   "cell_type": "code",
   "execution_count": 3,
   "metadata": {},
   "outputs": [
    {
     "name": "stdout",
     "output_type": "stream",
     "text": [
      "\r",
      "0it [00:00, ?it/s]"
     ]
    },
    {
     "name": "stdout",
     "output_type": "stream",
     "text": [
      "\r",
      "Upgrading database; v0 -> v1: : 0it [00:00, ?it/s]"
     ]
    },
    {
     "name": "stdout",
     "output_type": "stream",
     "text": [
      "\r",
      "Upgrading database; v0 -> v1: : 0it [00:00, ?it/s]"
     ]
    },
    {
     "name": "stdout",
     "output_type": "stream",
     "text": [
      "\n",
      "\r",
      "  0%|          | 0/1 [00:00<?, ?it/s]"
     ]
    },
    {
     "name": "stdout",
     "output_type": "stream",
     "text": [
      "\r",
      "Upgrading database; v1 -> v2:   0%|          | 0/1 [00:00<?, ?it/s]"
     ]
    },
    {
     "name": "stdout",
     "output_type": "stream",
     "text": [
      "\r",
      "Upgrading database; v1 -> v2: 100%|██████████| 1/1 [00:00<00:00, 799.22it/s]"
     ]
    },
    {
     "name": "stdout",
     "output_type": "stream",
     "text": [
      "\n",
      "\r",
      "0it [00:00, ?it/s]"
     ]
    },
    {
     "name": "stdout",
     "output_type": "stream",
     "text": [
      "\r",
      "Upgrading database; v2 -> v3: : 0it [00:00, ?it/s]"
     ]
    },
    {
     "name": "stdout",
     "output_type": "stream",
     "text": [
      "\r",
      "Upgrading database; v2 -> v3: : 0it [00:00, ?it/s]"
     ]
    },
    {
     "name": "stdout",
     "output_type": "stream",
     "text": [
      "\n",
      "\r",
      "0it [00:00, ?it/s]"
     ]
    },
    {
     "name": "stdout",
     "output_type": "stream",
     "text": [
      "\r",
      "Upgrading database; v3 -> v4: : 0it [00:00, ?it/s]"
     ]
    },
    {
     "name": "stdout",
     "output_type": "stream",
     "text": [
      "\r",
      "Upgrading database; v3 -> v4: : 0it [00:00, ?it/s]"
     ]
    },
    {
     "name": "stdout",
     "output_type": "stream",
     "text": [
      "\n",
      "\r",
      "  0%|          | 0/1 [00:00<?, ?it/s]"
     ]
    },
    {
     "name": "stdout",
     "output_type": "stream",
     "text": [
      "\r",
      "Upgrading database; v4 -> v5:   0%|          | 0/1 [00:00<?, ?it/s]"
     ]
    },
    {
     "name": "stdout",
     "output_type": "stream",
     "text": [
      "\r",
      "Upgrading database; v4 -> v5: 100%|██████████| 1/1 [00:00<00:00, 540.71it/s]"
     ]
    },
    {
     "name": "stdout",
     "output_type": "stream",
     "text": [
      "\n",
      "\r",
      "0it [00:00, ?it/s]"
     ]
    },
    {
     "name": "stdout",
     "output_type": "stream",
     "text": [
      "\r",
      "Upgrading database; v5 -> v6: : 0it [00:00, ?it/s]"
     ]
    },
    {
     "name": "stdout",
     "output_type": "stream",
     "text": [
      "\r",
      "Upgrading database; v5 -> v6: : 0it [00:00, ?it/s]"
     ]
    },
    {
     "name": "stdout",
     "output_type": "stream",
     "text": [
      "\n",
      "\r",
      "  0%|          | 0/1 [00:00<?, ?it/s]"
     ]
    },
    {
     "name": "stdout",
     "output_type": "stream",
     "text": [
      "\r",
      "Upgrading database; v6 -> v7:   0%|          | 0/1 [00:00<?, ?it/s]"
     ]
    },
    {
     "name": "stdout",
     "output_type": "stream",
     "text": [
      "\r",
      "Upgrading database; v6 -> v7: 100%|██████████| 1/1 [00:00<00:00, 206.60it/s]"
     ]
    },
    {
     "name": "stdout",
     "output_type": "stream",
     "text": [
      "\n",
      "\r",
      "  0%|          | 0/1 [00:00<?, ?it/s]"
     ]
    },
    {
     "name": "stdout",
     "output_type": "stream",
     "text": [
      "\r",
      "Upgrading database; v7 -> v8:   0%|          | 0/1 [00:00<?, ?it/s]"
     ]
    },
    {
     "name": "stdout",
     "output_type": "stream",
     "text": [
      "\r",
      "Upgrading database; v7 -> v8: 100%|██████████| 1/1 [00:00<00:00, 643.30it/s]"
     ]
    },
    {
     "name": "stdout",
     "output_type": "stream",
     "text": [
      "\n",
      "\r",
      "  0%|          | 0/1 [00:00<?, ?it/s]"
     ]
    },
    {
     "name": "stdout",
     "output_type": "stream",
     "text": [
      "\r",
      "Upgrading database; v8 -> v9:   0%|          | 0/1 [00:00<?, ?it/s]"
     ]
    },
    {
     "name": "stdout",
     "output_type": "stream",
     "text": [
      "\r",
      "Upgrading database; v8 -> v9: 100%|██████████| 1/1 [00:00<00:00, 823.70it/s]"
     ]
    },
    {
     "name": "stdout",
     "output_type": "stream",
     "text": [
      "\n"
     ]
    }
   ],
   "source": [
    "initialise_database()\n",
    "exp = load_or_create_experiment(experiment_name='tutorial_exp', sample_name=\"no sample\")"
   ]
  },
  {
   "cell_type": "markdown",
   "metadata": {},
   "source": [
    "Here, we define a simple function to benchmark the time it takes to insert n points with either numeric or array data type.\n",
    "We will compare both the time used to call ``add_result`` and the time used for the full measurement."
   ]
  },
  {
   "cell_type": "code",
   "execution_count": 4,
   "metadata": {},
   "outputs": [],
   "source": [
    "def insert_data(paramtype, npoints, nreps=1):\n",
    "\n",
    "    meas = Measurement(exp=exp)\n",
    "\n",
    "    x1 = ManualParameter('x1')\n",
    "    x2 = ManualParameter('x2')\n",
    "    x3 = ManualParameter('x3')\n",
    "    y1 = ManualParameter('y1')\n",
    "    y2 = ManualParameter('y2')\n",
    "\n",
    "    meas.register_parameter(x1, paramtype=paramtype)\n",
    "    meas.register_parameter(x2, paramtype=paramtype)\n",
    "    meas.register_parameter(x3, paramtype=paramtype)\n",
    "    meas.register_parameter(y1, setpoints=[x1, x2, x3],\n",
    "                            paramtype=paramtype)\n",
    "    meas.register_parameter(y2, setpoints=[x1, x2, x3],\n",
    "                            paramtype=paramtype)\n",
    "    start = time.perf_counter()\n",
    "    with meas.run() as datasaver:\n",
    "        start_adding = time.perf_counter()\n",
    "        for i in range(nreps):\n",
    "            datasaver.add_result((x1, np.random.rand(npoints)),\n",
    "                                 (x2, np.random.rand(npoints)),\n",
    "                                 (x3, np.random.rand(npoints)),\n",
    "                                 (y1, np.random.rand(npoints)),\n",
    "                                 (y2, np.random.rand(npoints)))\n",
    "        stop_adding = time.perf_counter()\n",
    "        run_id = datasaver.run_id\n",
    "    stop = time.perf_counter()\n",
    "    tot_time = stop - start\n",
    "    add_time = stop_adding - start_adding\n",
    "    return tot_time, add_time, run_id"
   ]
  },
  {
   "cell_type": "markdown",
   "metadata": {},
   "source": [
    "## Comparison between numeric/array data and binary blob"
   ]
  },
  {
   "cell_type": "markdown",
   "metadata": {},
   "source": [
    "### Case1: Short experiment time"
   ]
  },
  {
   "cell_type": "code",
   "execution_count": 5,
   "metadata": {},
   "outputs": [
    {
     "name": "stdout",
     "output_type": "stream",
     "text": [
      "Starting experimental run with id: 1. \n",
      "Starting experimental run with id: 2. \n"
     ]
    },
    {
     "name": "stdout",
     "output_type": "stream",
     "text": [
      "Starting experimental run with id: 3. \n"
     ]
    },
    {
     "name": "stdout",
     "output_type": "stream",
     "text": [
      "Starting experimental run with id: 4. \n"
     ]
    },
    {
     "name": "stdout",
     "output_type": "stream",
     "text": [
      "Starting experimental run with id: 5. \n",
      "Starting experimental run with id: 6. \n"
     ]
    },
    {
     "name": "stdout",
     "output_type": "stream",
     "text": [
      "Starting experimental run with id: 7. \n"
     ]
    },
    {
     "name": "stdout",
     "output_type": "stream",
     "text": [
      "Starting experimental run with id: 8. \n"
     ]
    },
    {
     "name": "stdout",
     "output_type": "stream",
     "text": [
      "Starting experimental run with id: 9. \n"
     ]
    },
    {
     "name": "stdout",
     "output_type": "stream",
     "text": [
      "Starting experimental run with id: 10. \n"
     ]
    },
    {
     "name": "stdout",
     "output_type": "stream",
     "text": [
      "Starting experimental run with id: 11. \n"
     ]
    },
    {
     "name": "stdout",
     "output_type": "stream",
     "text": [
      "Starting experimental run with id: 12. \n",
      "Starting experimental run with id: 13. \n"
     ]
    },
    {
     "name": "stdout",
     "output_type": "stream",
     "text": [
      "Starting experimental run with id: 14. \n"
     ]
    }
   ],
   "source": [
    "sizes = [1,500,1000,2000,3000,4000,5000]\n",
    "t_numeric = []\n",
    "t_numeric_add = []\n",
    "t_array = []\n",
    "t_array_add = []\n",
    "for size in sizes:\n",
    "    tn, tna, run_id_n =  insert_data('numeric', size)\n",
    "    t_numeric.append(tn)\n",
    "    t_numeric_add.append(tna)\n",
    "\n",
    "    ta, taa, run_id_a =  insert_data('array', size)\n",
    "    t_array.append(ta)\n",
    "    t_array_add.append(taa)"
   ]
  },
  {
   "cell_type": "code",
   "execution_count": 6,
   "metadata": {},
   "outputs": [
    {
     "data": {
      "image/png": "[encoded data removed]",
      "text/plain": [
       "<Figure size 432x288 with 1 Axes>"
      ]
     },
     "metadata": {
      "needs_background": "light"
     },
     "output_type": "display_data"
    }
   ],
   "source": [
    "fig, ax = plt.subplots(1,1)\n",
    "ax.plot(sizes, t_numeric, 'o-', label='Inserting row-by-row')\n",
    "ax.plot(sizes, t_numeric_add, 'o-', label='Inserting row-by-row: add_result only')\n",
    "ax.plot(sizes, t_array, 'd-', label='Inserting as binary blob')\n",
    "ax.plot(sizes, t_array_add, 'd-', label='Inserting as binary blob: add_result only')\n",
    "ax.legend()\n",
    "ax.set_xlabel('Array length')\n",
    "ax.set_ylabel('Time (s)')\n",
    "fig.tight_layout()"
   ]
  },
  {
   "cell_type": "markdown",
   "metadata": {},
   "source": [
    "As shown in the latter figure, the time to setup and and close the experiment is approximately 0.4 sec. In case of small array sizes, the difference between inserting values of data as arrays and inserting them row-by-row is relatively unimportant. At larger array sizes, i.e. above 10000 points, the cost of writing data as individual datapoints starts to become important.\n"
   ]
  },
  {
   "cell_type": "markdown",
   "metadata": {},
   "source": [
    "### Case2: Long experiment time "
   ]
  },
  {
   "cell_type": "code",
   "execution_count": 7,
   "metadata": {},
   "outputs": [
    {
     "name": "stdout",
     "output_type": "stream",
     "text": [
      "Starting experimental run with id: 15. \n",
      "Starting experimental run with id: 16. \n",
      "Starting experimental run with id: 17. \n"
     ]
    },
    {
     "name": "stdout",
     "output_type": "stream",
     "text": [
      "Starting experimental run with id: 18. \n"
     ]
    },
    {
     "name": "stdout",
     "output_type": "stream",
     "text": [
      "Starting experimental run with id: 19. \n"
     ]
    },
    {
     "name": "stdout",
     "output_type": "stream",
     "text": [
      "Starting experimental run with id: 20. \n"
     ]
    },
    {
     "name": "stdout",
     "output_type": "stream",
     "text": [
      "Starting experimental run with id: 21. \n"
     ]
    },
    {
     "name": "stdout",
     "output_type": "stream",
     "text": [
      "Starting experimental run with id: 22. \n"
     ]
    },
    {
     "name": "stdout",
     "output_type": "stream",
     "text": [
      "Starting experimental run with id: 23. \n"
     ]
    },
    {
     "name": "stdout",
     "output_type": "stream",
     "text": [
      "Starting experimental run with id: 24. \n"
     ]
    },
    {
     "name": "stdout",
     "output_type": "stream",
     "text": [
      "Starting experimental run with id: 25. \n"
     ]
    },
    {
     "name": "stdout",
     "output_type": "stream",
     "text": [
      "Starting experimental run with id: 26. \n"
     ]
    },
    {
     "name": "stdout",
     "output_type": "stream",
     "text": [
      "Starting experimental run with id: 27. \n"
     ]
    },
    {
     "name": "stdout",
     "output_type": "stream",
     "text": [
      "Starting experimental run with id: 28. \n"
     ]
    }
   ],
   "source": [
    "sizes = [1,500,1000,2000,3000,4000,5000]\n",
    "nreps = 100\n",
    "t_numeric = []\n",
    "t_numeric_add = []\n",
    "t_numeric_run_ids = []\n",
    "t_array = []\n",
    "t_array_add = []\n",
    "t_array_run_ids = []\n",
    "for size in sizes:\n",
    "    tn, tna, run_id_n =  insert_data('numeric', size, nreps=nreps)\n",
    "    t_numeric.append(tn)\n",
    "    t_numeric_add.append(tna)\n",
    "    t_numeric_run_ids.append(run_id_n)\n",
    "\n",
    "    ta, taa, run_id_a =  insert_data('array', size, nreps=nreps)\n",
    "    t_array.append(ta)\n",
    "    t_array_add.append(taa)\n",
    "    t_array_run_ids.append(run_id_a)"
   ]
  },
  {
   "cell_type": "code",
   "execution_count": 8,
   "metadata": {
    "scrolled": true
   },
   "outputs": [
    {
     "data": {
      "image/png": "[encoded data removed]",
      "text/plain": [
       "<Figure size 432x288 with 1 Axes>"
      ]
     },
     "metadata": {
      "needs_background": "light"
     },
     "output_type": "display_data"
    }
   ],
   "source": [
    "fig, ax = plt.subplots(1,1)\n",
    "ax.plot(sizes, t_numeric, 'o-', label='Inserting row-by-row')\n",
    "ax.plot(sizes, t_numeric_add, 'o-', label='Inserting row-by-row: add_result only')\n",
    "ax.plot(sizes, t_array, 'd-', label='Inserting as binary blob')\n",
    "ax.plot(sizes, t_array_add, 'd-', label='Inserting as binary blob: add_result only')\n",
    "ax.legend()\n",
    "ax.set_xlabel('Array length')\n",
    "ax.set_ylabel('Time (s)')\n",
    "fig.tight_layout()"
   ]
  },
  {
   "cell_type": "markdown",
   "metadata": {},
   "source": [
    "However, as we increase the length of the experiment, as seen here by repeating the insertion 100 times, we see a big difference between inserting values of the data row-by-row and inserting it as a binary blob."
   ]
  },
  {
   "cell_type": "markdown",
   "metadata": {},
   "source": [
    "## Loading the data "
   ]
  },
  {
   "cell_type": "code",
   "execution_count": 9,
   "metadata": {},
   "outputs": [],
   "source": [
    "from qcodes.dataset.data_set import load_by_id\n",
    "from qcodes.dataset.data_export import get_data_by_id"
   ]
  },
  {
   "cell_type": "markdown",
   "metadata": {},
   "source": [
    "As usual you can load the data by using the ``load_by_id`` function but you will notice that the different storage methods\n",
    "are reflected in shape of the data as it is retrieved. "
   ]
  },
  {
   "cell_type": "code",
   "execution_count": 10,
   "metadata": {},
   "outputs": [],
   "source": [
    "run_id_n = t_numeric_run_ids[0]\n",
    "run_id_a = t_array_run_ids[0]"
   ]
  },
  {
   "cell_type": "code",
   "execution_count": 11,
   "metadata": {
    "scrolled": true
   },
   "outputs": [
    {
     "data": {
      "text/plain": [
       "{'x1': {'x1': array([0.51789955, 0.51789955, 0.27084502, 0.27084502, 0.23293534,\n",
       "         0.23293534, 0.50332995, 0.50332995, 0.5318594 , 0.5318594 ,\n",
       "         0.80955046, 0.80955046, 0.38680975, 0.38680975, 0.755521  ,\n",
       "         0.755521  , 0.87066275, 0.87066275, 0.95692315, 0.95692315,\n",
       "         0.47055012, 0.47055012, 0.57096151, 0.57096151, 0.79465782,\n",
       "         0.79465782, 0.89588386, 0.89588386, 0.31927043, 0.31927043,\n",
       "         0.11793084, 0.11793084, 0.30869281, 0.30869281, 0.82596538,\n",
       "         0.82596538, 0.75632614, 0.75632614, 0.78232195, 0.78232195,\n",
       "         0.40442696, 0.40442696, 0.84050129, 0.84050129, 0.86007011,\n",
       "         0.86007011, 0.63920049, 0.63920049, 0.71333185, 0.71333185,\n",
       "         0.09686956, 0.09686956, 0.10242799, 0.10242799, 0.25778188,\n",
       "         0.25778188, 0.05686919, 0.05686919, 0.83665693, 0.83665693,\n",
       "         0.06801047, 0.06801047, 0.58823043, 0.58823043, 0.49251927,\n",
       "         0.49251927, 0.06162662, 0.06162662, 0.63844024, 0.63844024,\n",
       "         0.25206108, 0.25206108, 0.08243112, 0.08243112, 0.54511396,\n",
       "         0.54511396, 0.44182621, 0.44182621, 0.57799556, 0.57799556,\n",
       "         0.55106564, 0.55106564, 0.19915261, 0.19915261, 0.55979256,\n",
       "         0.55979256, 0.66630274, 0.66630274, 0.32757446, 0.32757446,\n",
       "         0.84274568, 0.84274568, 0.00382756, 0.00382756, 0.57651292,\n",
       "         0.57651292, 0.53917787, 0.53917787, 0.40310465, 0.40310465,\n",
       "         0.12375776, 0.12375776, 0.15091944, 0.15091944, 0.97338797,\n",
       "         0.97338797, 0.93751299, 0.93751299, 0.62765656, 0.62765656,\n",
       "         0.24953629, 0.24953629, 0.15860441, 0.15860441, 0.27827222,\n",
       "         0.27827222, 0.24206428, 0.24206428, 0.51448383, 0.51448383,\n",
       "         0.25419918, 0.25419918, 0.08263848, 0.08263848, 0.37412508,\n",
       "         0.37412508, 0.27396123, 0.27396123, 0.51131991, 0.51131991,\n",
       "         0.59671897, 0.59671897, 0.38846987, 0.38846987, 0.72154658,\n",
       "         0.72154658, 0.5259322 , 0.5259322 , 0.81980494, 0.81980494,\n",
       "         0.44170902, 0.44170902, 0.87747388, 0.87747388, 0.54200265,\n",
       "         0.54200265, 0.9182756 , 0.9182756 , 0.0724625 , 0.0724625 ,\n",
       "         0.86139888, 0.86139888, 0.70224463, 0.70224463, 0.46404912,\n",
       "         0.46404912, 0.50328486, 0.50328486, 0.82616529, 0.82616529,\n",
       "         0.27824498, 0.27824498, 0.36298992, 0.36298992, 0.3494288 ,\n",
       "         0.3494288 , 0.57591277, 0.57591277, 0.0963841 , 0.0963841 ,\n",
       "         0.46579109, 0.46579109, 0.29696827, 0.29696827, 0.93237375,\n",
       "         0.93237375, 0.23344938, 0.23344938, 0.16673814, 0.16673814,\n",
       "         0.22110679, 0.22110679, 0.49272092, 0.49272092, 0.90531643,\n",
       "         0.90531643, 0.41979003, 0.41979003, 0.529251  , 0.529251  ,\n",
       "         0.18697265, 0.18697265, 0.59327306, 0.59327306, 0.82439923,\n",
       "         0.82439923, 0.81125588, 0.81125588, 0.44333481, 0.44333481])}}"
      ]
     },
     "execution_count": 11,
     "metadata": {},
     "output_type": "execute_result"
    }
   ],
   "source": [
    "ds = load_by_id(run_id_n)\n",
    "ds.get_parameter_data('x1')"
   ]
  },
  {
   "cell_type": "markdown",
   "metadata": {},
   "source": [
    "And a dataset stored as binary arrays"
   ]
  },
  {
   "cell_type": "code",
   "execution_count": 12,
   "metadata": {
    "scrolled": true
   },
   "outputs": [
    {
     "data": {
      "text/plain": [
       "{'x1': {'x1': array([[0.81091172],\n",
       "         [0.81091172],\n",
       "         [0.8495562 ],\n",
       "         [0.8495562 ],\n",
       "         [0.46159649],\n",
       "         [0.46159649],\n",
       "         [0.90344224],\n",
       "         [0.90344224],\n",
       "         [0.45335493],\n",
       "         [0.45335493],\n",
       "         [0.94513651],\n",
       "         [0.94513651],\n",
       "         [0.60650242],\n",
       "         [0.60650242],\n",
       "         [0.96856669],\n",
       "         [0.96856669],\n",
       "         [0.05437362],\n",
       "         [0.05437362],\n",
       "         [0.70170473],\n",
       "         [0.70170473],\n",
       "         [0.29175667],\n",
       "         [0.29175667],\n",
       "         [0.25916198],\n",
       "         [0.25916198],\n",
       "         [0.53110439],\n",
       "         [0.53110439],\n",
       "         [0.28538259],\n",
       "         [0.28538259],\n",
       "         [0.15212725],\n",
       "         [0.15212725],\n",
       "         [0.78009867],\n",
       "         [0.78009867],\n",
       "         [0.43917469],\n",
       "         [0.43917469],\n",
       "         [0.29032376],\n",
       "         [0.29032376],\n",
       "         [0.7379876 ],\n",
       "         [0.7379876 ],\n",
       "         [0.02885755],\n",
       "         [0.02885755],\n",
       "         [0.07452916],\n",
       "         [0.07452916],\n",
       "         [0.91473956],\n",
       "         [0.91473956],\n",
       "         [0.61882626],\n",
       "         [0.61882626],\n",
       "         [0.25511406],\n",
       "         [0.25511406],\n",
       "         [0.89077577],\n",
       "         [0.89077577],\n",
       "         [0.72529854],\n",
       "         [0.72529854],\n",
       "         [0.48717894],\n",
       "         [0.48717894],\n",
       "         [0.25547092],\n",
       "         [0.25547092],\n",
       "         [0.11815447],\n",
       "         [0.11815447],\n",
       "         [0.59025205],\n",
       "         [0.59025205],\n",
       "         [0.52076996],\n",
       "         [0.52076996],\n",
       "         [0.02606169],\n",
       "         [0.02606169],\n",
       "         [0.84256151],\n",
       "         [0.84256151],\n",
       "         [0.11842127],\n",
       "         [0.11842127],\n",
       "         [0.56976903],\n",
       "         [0.56976903],\n",
       "         [0.10292919],\n",
       "         [0.10292919],\n",
       "         [0.83994285],\n",
       "         [0.83994285],\n",
       "         [0.10639579],\n",
       "         [0.10639579],\n",
       "         [0.0520655 ],\n",
       "         [0.0520655 ],\n",
       "         [0.26982779],\n",
       "         [0.26982779],\n",
       "         [0.63991577],\n",
       "         [0.63991577],\n",
       "         [0.93323918],\n",
       "         [0.93323918],\n",
       "         [0.67468865],\n",
       "         [0.67468865],\n",
       "         [0.31180267],\n",
       "         [0.31180267],\n",
       "         [0.81170731],\n",
       "         [0.81170731],\n",
       "         [0.41232291],\n",
       "         [0.41232291],\n",
       "         [0.71653987],\n",
       "         [0.71653987],\n",
       "         [0.36411388],\n",
       "         [0.36411388],\n",
       "         [0.55538353],\n",
       "         [0.55538353],\n",
       "         [0.24361683],\n",
       "         [0.24361683],\n",
       "         [0.95767528],\n",
       "         [0.95767528],\n",
       "         [0.88448589],\n",
       "         [0.88448589],\n",
       "         [0.49488814],\n",
       "         [0.49488814],\n",
       "         [0.98862978],\n",
       "         [0.98862978],\n",
       "         [0.39589395],\n",
       "         [0.39589395],\n",
       "         [0.68809539],\n",
       "         [0.68809539],\n",
       "         [0.89872788],\n",
       "         [0.89872788],\n",
       "         [0.55211304],\n",
       "         [0.55211304],\n",
       "         [0.83185083],\n",
       "         [0.83185083],\n",
       "         [0.53135109],\n",
       "         [0.53135109],\n",
       "         [0.2268725 ],\n",
       "         [0.2268725 ],\n",
       "         [0.26525938],\n",
       "         [0.26525938],\n",
       "         [0.18696246],\n",
       "         [0.18696246],\n",
       "         [0.97921692],\n",
       "         [0.97921692],\n",
       "         [0.75472584],\n",
       "         [0.75472584],\n",
       "         [0.6359611 ],\n",
       "         [0.6359611 ],\n",
       "         [0.27131697],\n",
       "         [0.27131697],\n",
       "         [0.04664378],\n",
       "         [0.04664378],\n",
       "         [0.97618013],\n",
       "         [0.97618013],\n",
       "         [0.7989393 ],\n",
       "         [0.7989393 ],\n",
       "         [0.62444375],\n",
       "         [0.62444375],\n",
       "         [0.83841514],\n",
       "         [0.83841514],\n",
       "         [0.53398229],\n",
       "         [0.53398229],\n",
       "         [0.59721298],\n",
       "         [0.59721298],\n",
       "         [0.81352199],\n",
       "         [0.81352199],\n",
       "         [0.66170849],\n",
       "         [0.66170849],\n",
       "         [0.01915334],\n",
       "         [0.01915334],\n",
       "         [0.02019342],\n",
       "         [0.02019342],\n",
       "         [0.59698265],\n",
       "         [0.59698265],\n",
       "         [0.09073829],\n",
       "         [0.09073829],\n",
       "         [0.47207778],\n",
       "         [0.47207778],\n",
       "         [0.34890209],\n",
       "         [0.34890209],\n",
       "         [0.70204405],\n",
       "         [0.70204405],\n",
       "         [0.27532351],\n",
       "         [0.27532351],\n",
       "         [0.06538996],\n",
       "         [0.06538996],\n",
       "         [0.70736689],\n",
       "         [0.70736689],\n",
       "         [0.55609795],\n",
       "         [0.55609795],\n",
       "         [0.70242872],\n",
       "         [0.70242872],\n",
       "         [0.83778745],\n",
       "         [0.83778745],\n",
       "         [0.38446904],\n",
       "         [0.38446904],\n",
       "         [0.63966052],\n",
       "         [0.63966052],\n",
       "         [0.40757586],\n",
       "         [0.40757586],\n",
       "         [0.87999954],\n",
       "         [0.87999954],\n",
       "         [0.48360083],\n",
       "         [0.48360083],\n",
       "         [0.31076654],\n",
       "         [0.31076654],\n",
       "         [0.93234143],\n",
       "         [0.93234143],\n",
       "         [0.66297404],\n",
       "         [0.66297404],\n",
       "         [0.4708475 ],\n",
       "         [0.4708475 ],\n",
       "         [0.4102251 ],\n",
       "         [0.4102251 ],\n",
       "         [0.16880312],\n",
       "         [0.16880312]])}}"
      ]
     },
     "execution_count": 12,
     "metadata": {},
     "output_type": "execute_result"
    }
   ],
   "source": [
    "ds = load_by_id(run_id_a)\n",
    "ds.get_parameter_data('x1')"
   ]
  },
  {
   "cell_type": "code",
   "execution_count": null,
   "metadata": {},
   "outputs": [],
   "source": []
  }
 ],
 "metadata": {
  "kernelspec": {
   "display_name": "Python 3",
   "language": "python",
   "name": "python3"
  },
  "language_info": {
   "codemirror_mode": {
    "name": "ipython",
    "version": 3
   },
   "file_extension": ".py",
   "mimetype": "text/x-python",
   "name": "python",
   "nbconvert_exporter": "python",
   "pygments_lexer": "ipython3",
   "version": "3.7.7"
  },
  "nbsphinx": {
   "timeout": 600
  },
  "toc": {
   "base_numbering": 1,
   "nav_menu": {},
   "number_sections": true,
   "sideBar": true,
   "skip_h1_title": false,
   "title_cell": "Table of Contents",
   "title_sidebar": "Contents",
   "toc_cell": false,
   "toc_position": {},
   "toc_section_display": true,
   "toc_window_display": false
  },
  "varInspector": {
   "cols": {
    "lenName": 16,
    "lenType": 16,
    "lenVar": 40
   },
   "kernels_config": {
    "python": {
     "delete_cmd_postfix": "",
     "delete_cmd_prefix": "del ",
     "library": "var_list.py",
     "varRefreshCmd": "print(var_dic_list())"
    },
    "r": {
     "delete_cmd_postfix": ") ",
     "delete_cmd_prefix": "rm(",
     "library": "var_list.r",
     "varRefreshCmd": "cat(var_dic_list()) "
    }
   },
   "types_to_exclude": [
    "module",
    "function",
    "builtin_function_or_method",
    "instance",
    "_Feature"
   ],
   "window_display": false
  }
 },
 "nbformat": 4,
 "nbformat_minor": 2
}
