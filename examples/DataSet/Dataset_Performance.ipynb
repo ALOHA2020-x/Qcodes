{
 "cells": [
  {
   "cell_type": "markdown",
   "metadata": {},
   "source": [
    "# DataSet Performance\n",
    "\n",
    "This notebook shows the trade-off between inserting data into a database row-by-row and as binary blobs. Inserting the data row-by-row means that we have direct access to all the data and may perform queries directly on the values of the data. On the other hand, as we shall see, this is much slower than inserting the data directly as binary blobs."
   ]
  },
  {
   "cell_type": "markdown",
   "metadata": {},
   "source": [
    "First, we choose a new location for the database to ensure that we don't add a bunch of benchmarking data to the default one."
   ]
  },
  {
   "cell_type": "code",
   "execution_count": 1,
   "metadata": {},
   "outputs": [
    {
     "name": "stdout",
     "output_type": "stream",
     "text": [
      "Logging hadn't been started.\n",
      "Activating auto-logging. Current session state plus future input saved.\n",
      "Filename       : /home/vsts/.qcodes/logs/command_history.log\n",
      "Mode           : append\n",
      "Output logging : True\n",
      "Raw input log  : False\n",
      "Timestamping   : True\n",
      "State          : active\n"
     ]
    },
    {
     "name": "stdout",
     "output_type": "stream",
     "text": [
      "Qcodes Logfile : /home/vsts/.qcodes/logs/200622-19159-qcodes.log\n"
     ]
    }
   ],
   "source": [
    "import os\n",
    "cwd = os.getcwd()\n",
    "import qcodes as qc\n",
    "qc.config[\"core\"][\"db_location\"] = os.path.join(cwd, 'testing.db')\n"
   ]
  },
  {
   "cell_type": "code",
   "execution_count": 2,
   "metadata": {},
   "outputs": [],
   "source": [
    "%matplotlib inline\n",
    "import time\n",
    "import matplotlib.pyplot as plt\n",
    "import numpy as np\n",
    "\n",
    "import qcodes as qc\n",
    "from qcodes.instrument.parameter import ManualParameter\n",
    "from qcodes.dataset.experiment_container import (Experiment,\n",
    "                                                 load_last_experiment,\n",
    "                                                 new_experiment)\n",
    "from qcodes.dataset.sqlite.database import initialise_database\n",
    "from qcodes import load_or_create_experiment\n",
    "from qcodes.dataset.measurements import Measurement"
   ]
  },
  {
   "cell_type": "code",
   "execution_count": 3,
   "metadata": {},
   "outputs": [
    {
     "name": "stdout",
     "output_type": "stream",
     "text": [
      "\r",
      "0it [00:00, ?it/s]"
     ]
    },
    {
     "name": "stdout",
     "output_type": "stream",
     "text": [
      "\r",
      "Upgrading database; v0 -> v1: : 0it [00:00, ?it/s]"
     ]
    },
    {
     "name": "stdout",
     "output_type": "stream",
     "text": [
      "\r",
      "Upgrading database; v0 -> v1: : 0it [00:00, ?it/s]"
     ]
    },
    {
     "name": "stdout",
     "output_type": "stream",
     "text": [
      "\n",
      "\r",
      "  0%|          | 0/1 [00:00<?, ?it/s]"
     ]
    },
    {
     "name": "stdout",
     "output_type": "stream",
     "text": [
      "\r",
      "Upgrading database; v1 -> v2:   0%|          | 0/1 [00:00<?, ?it/s]"
     ]
    },
    {
     "name": "stdout",
     "output_type": "stream",
     "text": [
      "\r",
      "Upgrading database; v1 -> v2: 100%|██████████| 1/1 [00:00<00:00, 875.27it/s]"
     ]
    },
    {
     "name": "stdout",
     "output_type": "stream",
     "text": [
      "\n",
      "\r",
      "0it [00:00, ?it/s]"
     ]
    },
    {
     "name": "stdout",
     "output_type": "stream",
     "text": [
      "\r",
      "Upgrading database; v2 -> v3: : 0it [00:00, ?it/s]"
     ]
    },
    {
     "name": "stdout",
     "output_type": "stream",
     "text": [
      "\r",
      "Upgrading database; v2 -> v3: : 0it [00:00, ?it/s]"
     ]
    },
    {
     "name": "stdout",
     "output_type": "stream",
     "text": [
      "\n",
      "\r",
      "0it [00:00, ?it/s]"
     ]
    },
    {
     "name": "stdout",
     "output_type": "stream",
     "text": [
      "\r",
      "Upgrading database; v3 -> v4: : 0it [00:00, ?it/s]"
     ]
    },
    {
     "name": "stdout",
     "output_type": "stream",
     "text": [
      "\r",
      "Upgrading database; v3 -> v4: : 0it [00:00, ?it/s]"
     ]
    },
    {
     "name": "stdout",
     "output_type": "stream",
     "text": [
      "\n",
      "\r",
      "  0%|          | 0/1 [00:00<?, ?it/s]"
     ]
    },
    {
     "name": "stdout",
     "output_type": "stream",
     "text": [
      "\r",
      "Upgrading database; v4 -> v5:   0%|          | 0/1 [00:00<?, ?it/s]"
     ]
    },
    {
     "name": "stdout",
     "output_type": "stream",
     "text": [
      "\r",
      "Upgrading database; v4 -> v5: 100%|██████████| 1/1 [00:00<00:00, 826.95it/s]"
     ]
    },
    {
     "name": "stdout",
     "output_type": "stream",
     "text": [
      "\n",
      "\r",
      "0it [00:00, ?it/s]"
     ]
    },
    {
     "name": "stdout",
     "output_type": "stream",
     "text": [
      "\r",
      "Upgrading database; v5 -> v6: : 0it [00:00, ?it/s]"
     ]
    },
    {
     "name": "stdout",
     "output_type": "stream",
     "text": [
      "\r",
      "Upgrading database; v5 -> v6: : 0it [00:00, ?it/s]"
     ]
    },
    {
     "name": "stdout",
     "output_type": "stream",
     "text": [
      "\n",
      "\r",
      "  0%|          | 0/1 [00:00<?, ?it/s]"
     ]
    },
    {
     "name": "stdout",
     "output_type": "stream",
     "text": [
      "\r",
      "Upgrading database; v6 -> v7:   0%|          | 0/1 [00:00<?, ?it/s]"
     ]
    },
    {
     "name": "stdout",
     "output_type": "stream",
     "text": [
      "\r",
      "Upgrading database; v6 -> v7: 100%|██████████| 1/1 [00:00<00:00, 313.41it/s]"
     ]
    },
    {
     "name": "stdout",
     "output_type": "stream",
     "text": [
      "\n",
      "\r",
      "  0%|          | 0/1 [00:00<?, ?it/s]"
     ]
    },
    {
     "name": "stdout",
     "output_type": "stream",
     "text": [
      "\r",
      "Upgrading database; v7 -> v8:   0%|          | 0/1 [00:00<?, ?it/s]"
     ]
    },
    {
     "name": "stdout",
     "output_type": "stream",
     "text": [
      "\r",
      "Upgrading database; v7 -> v8: 100%|██████████| 1/1 [00:00<00:00, 815.22it/s]"
     ]
    },
    {
     "name": "stdout",
     "output_type": "stream",
     "text": [
      "\n",
      "\r",
      "  0%|          | 0/1 [00:00<?, ?it/s]"
     ]
    },
    {
     "name": "stdout",
     "output_type": "stream",
     "text": [
      "\r",
      "Upgrading database; v8 -> v9:   0%|          | 0/1 [00:00<?, ?it/s]"
     ]
    },
    {
     "name": "stdout",
     "output_type": "stream",
     "text": [
      "\r",
      "Upgrading database; v8 -> v9: 100%|██████████| 1/1 [00:00<00:00, 1016.06it/s]"
     ]
    },
    {
     "name": "stdout",
     "output_type": "stream",
     "text": [
      "\n"
     ]
    }
   ],
   "source": [
    "initialise_database()\n",
    "exp = load_or_create_experiment(experiment_name='tutorial_exp', sample_name=\"no sample\")"
   ]
  },
  {
   "cell_type": "markdown",
   "metadata": {},
   "source": [
    "Here, we define a simple function to benchmark the time it takes to insert n points with either numeric or array data type.\n",
    "We will compare both the time used to call ``add_result`` and the time used for the full measurement."
   ]
  },
  {
   "cell_type": "code",
   "execution_count": 4,
   "metadata": {},
   "outputs": [],
   "source": [
    "def insert_data(paramtype, npoints, nreps=1):\n",
    "\n",
    "    meas = Measurement(exp=exp)\n",
    "\n",
    "    x1 = ManualParameter('x1')\n",
    "    x2 = ManualParameter('x2')\n",
    "    x3 = ManualParameter('x3')\n",
    "    y1 = ManualParameter('y1')\n",
    "    y2 = ManualParameter('y2')\n",
    "\n",
    "    meas.register_parameter(x1, paramtype=paramtype)\n",
    "    meas.register_parameter(x2, paramtype=paramtype)\n",
    "    meas.register_parameter(x3, paramtype=paramtype)\n",
    "    meas.register_parameter(y1, setpoints=[x1, x2, x3],\n",
    "                            paramtype=paramtype)\n",
    "    meas.register_parameter(y2, setpoints=[x1, x2, x3],\n",
    "                            paramtype=paramtype)\n",
    "    start = time.perf_counter()\n",
    "    with meas.run() as datasaver:\n",
    "        start_adding = time.perf_counter()\n",
    "        for i in range(nreps):\n",
    "            datasaver.add_result((x1, np.random.rand(npoints)),\n",
    "                                 (x2, np.random.rand(npoints)),\n",
    "                                 (x3, np.random.rand(npoints)),\n",
    "                                 (y1, np.random.rand(npoints)),\n",
    "                                 (y2, np.random.rand(npoints)))\n",
    "        stop_adding = time.perf_counter()\n",
    "        run_id = datasaver.run_id\n",
    "    stop = time.perf_counter()\n",
    "    tot_time = stop - start\n",
    "    add_time = stop_adding - start_adding\n",
    "    return tot_time, add_time, run_id"
   ]
  },
  {
   "cell_type": "markdown",
   "metadata": {},
   "source": [
    "## Comparison between numeric/array data and binary blob"
   ]
  },
  {
   "cell_type": "markdown",
   "metadata": {},
   "source": [
    "### Case1: Short experiment time"
   ]
  },
  {
   "cell_type": "code",
   "execution_count": 5,
   "metadata": {},
   "outputs": [
    {
     "name": "stdout",
     "output_type": "stream",
     "text": [
      "Starting experimental run with id: 1. \n",
      "Starting experimental run with id: 2. \n",
      "Starting experimental run with id: 3. \n",
      "Starting experimental run with id: 4. \n",
      "Starting experimental run with id: 5. \n"
     ]
    },
    {
     "name": "stdout",
     "output_type": "stream",
     "text": [
      "Starting experimental run with id: 6. \n"
     ]
    },
    {
     "name": "stdout",
     "output_type": "stream",
     "text": [
      "Starting experimental run with id: 7. \n"
     ]
    },
    {
     "name": "stdout",
     "output_type": "stream",
     "text": [
      "Starting experimental run with id: 8. \n",
      "Starting experimental run with id: 9. \n"
     ]
    },
    {
     "name": "stdout",
     "output_type": "stream",
     "text": [
      "Starting experimental run with id: 10. \n",
      "Starting experimental run with id: 11. \n"
     ]
    },
    {
     "name": "stdout",
     "output_type": "stream",
     "text": [
      "Starting experimental run with id: 12. \n",
      "Starting experimental run with id: 13. \n"
     ]
    },
    {
     "name": "stdout",
     "output_type": "stream",
     "text": [
      "Starting experimental run with id: 14. \n"
     ]
    }
   ],
   "source": [
    "sizes = [1,500,1000,2000,3000,4000,5000]\n",
    "t_numeric = []\n",
    "t_numeric_add = []\n",
    "t_array = []\n",
    "t_array_add = []\n",
    "for size in sizes:\n",
    "    tn, tna, run_id_n =  insert_data('numeric', size)\n",
    "    t_numeric.append(tn)\n",
    "    t_numeric_add.append(tna)\n",
    "\n",
    "    ta, taa, run_id_a =  insert_data('array', size)\n",
    "    t_array.append(ta)\n",
    "    t_array_add.append(taa)"
   ]
  },
  {
   "cell_type": "code",
   "execution_count": 6,
   "metadata": {},
   "outputs": [
    {
     "data": {
      "image/png": "[encoded data removed]",
      "text/plain": [
       "<Figure size 432x288 with 1 Axes>"
      ]
     },
     "metadata": {
      "needs_background": "light"
     },
     "output_type": "display_data"
    }
   ],
   "source": [
    "fig, ax = plt.subplots(1,1)\n",
    "ax.plot(sizes, t_numeric, 'o-', label='Inserting row-by-row')\n",
    "ax.plot(sizes, t_numeric_add, 'o-', label='Inserting row-by-row: add_result only')\n",
    "ax.plot(sizes, t_array, 'd-', label='Inserting as binary blob')\n",
    "ax.plot(sizes, t_array_add, 'd-', label='Inserting as binary blob: add_result only')\n",
    "ax.legend()\n",
    "ax.set_xlabel('Array length')\n",
    "ax.set_ylabel('Time (s)')\n",
    "fig.tight_layout()"
   ]
  },
  {
   "cell_type": "markdown",
   "metadata": {},
   "source": [
    "As shown in the latter figure, the time to setup and and close the experiment is approximately 0.4 sec. In case of small array sizes, the difference between inserting values of data as arrays and inserting them row-by-row is relatively unimportant. At larger array sizes, i.e. above 10000 points, the cost of writing data as individual datapoints starts to become important.\n"
   ]
  },
  {
   "cell_type": "markdown",
   "metadata": {},
   "source": [
    "### Case2: Long experiment time "
   ]
  },
  {
   "cell_type": "code",
   "execution_count": 7,
   "metadata": {},
   "outputs": [
    {
     "name": "stdout",
     "output_type": "stream",
     "text": [
      "Starting experimental run with id: 15. \n",
      "Starting experimental run with id: 16. \n",
      "Starting experimental run with id: 17. \n"
     ]
    },
    {
     "name": "stdout",
     "output_type": "stream",
     "text": [
      "Starting experimental run with id: 18. \n",
      "Starting experimental run with id: 19. \n"
     ]
    },
    {
     "name": "stdout",
     "output_type": "stream",
     "text": [
      "Starting experimental run with id: 20. \n"
     ]
    },
    {
     "name": "stdout",
     "output_type": "stream",
     "text": [
      "Starting experimental run with id: 21. \n"
     ]
    },
    {
     "name": "stdout",
     "output_type": "stream",
     "text": [
      "Starting experimental run with id: 22. \n"
     ]
    },
    {
     "name": "stdout",
     "output_type": "stream",
     "text": [
      "Starting experimental run with id: 23. \n"
     ]
    },
    {
     "name": "stdout",
     "output_type": "stream",
     "text": [
      "Starting experimental run with id: 24. \n"
     ]
    },
    {
     "name": "stdout",
     "output_type": "stream",
     "text": [
      "Starting experimental run with id: 25. \n"
     ]
    },
    {
     "name": "stdout",
     "output_type": "stream",
     "text": [
      "Starting experimental run with id: 26. \n"
     ]
    },
    {
     "name": "stdout",
     "output_type": "stream",
     "text": [
      "Starting experimental run with id: 27. \n"
     ]
    },
    {
     "name": "stdout",
     "output_type": "stream",
     "text": [
      "Starting experimental run with id: 28. \n"
     ]
    }
   ],
   "source": [
    "sizes = [1,500,1000,2000,3000,4000,5000]\n",
    "nreps = 100\n",
    "t_numeric = []\n",
    "t_numeric_add = []\n",
    "t_numeric_run_ids = []\n",
    "t_array = []\n",
    "t_array_add = []\n",
    "t_array_run_ids = []\n",
    "for size in sizes:\n",
    "    tn, tna, run_id_n =  insert_data('numeric', size, nreps=nreps)\n",
    "    t_numeric.append(tn)\n",
    "    t_numeric_add.append(tna)\n",
    "    t_numeric_run_ids.append(run_id_n)\n",
    "\n",
    "    ta, taa, run_id_a =  insert_data('array', size, nreps=nreps)\n",
    "    t_array.append(ta)\n",
    "    t_array_add.append(taa)\n",
    "    t_array_run_ids.append(run_id_a)"
   ]
  },
  {
   "cell_type": "code",
   "execution_count": 8,
   "metadata": {
    "scrolled": true
   },
   "outputs": [
    {
     "data": {
      "image/png": "[encoded data removed]",
      "text/plain": [
       "<Figure size 432x288 with 1 Axes>"
      ]
     },
     "metadata": {
      "needs_background": "light"
     },
     "output_type": "display_data"
    }
   ],
   "source": [
    "fig, ax = plt.subplots(1,1)\n",
    "ax.plot(sizes, t_numeric, 'o-', label='Inserting row-by-row')\n",
    "ax.plot(sizes, t_numeric_add, 'o-', label='Inserting row-by-row: add_result only')\n",
    "ax.plot(sizes, t_array, 'd-', label='Inserting as binary blob')\n",
    "ax.plot(sizes, t_array_add, 'd-', label='Inserting as binary blob: add_result only')\n",
    "ax.legend()\n",
    "ax.set_xlabel('Array length')\n",
    "ax.set_ylabel('Time (s)')\n",
    "fig.tight_layout()"
   ]
  },
  {
   "cell_type": "markdown",
   "metadata": {},
   "source": [
    "However, as we increase the length of the experiment, as seen here by repeating the insertion 100 times, we see a big difference between inserting values of the data row-by-row and inserting it as a binary blob."
   ]
  },
  {
   "cell_type": "markdown",
   "metadata": {},
   "source": [
    "## Loading the data "
   ]
  },
  {
   "cell_type": "code",
   "execution_count": 9,
   "metadata": {},
   "outputs": [],
   "source": [
    "from qcodes.dataset.data_set import load_by_id\n",
    "from qcodes.dataset.data_export import get_data_by_id"
   ]
  },
  {
   "cell_type": "markdown",
   "metadata": {},
   "source": [
    "As usual you can load the data by using the ``load_by_id`` function but you will notice that the different storage methods\n",
    "are reflected in shape of the data as it is retrieved. "
   ]
  },
  {
   "cell_type": "code",
   "execution_count": 10,
   "metadata": {},
   "outputs": [],
   "source": [
    "run_id_n = t_numeric_run_ids[0]\n",
    "run_id_a = t_array_run_ids[0]"
   ]
  },
  {
   "cell_type": "code",
   "execution_count": 11,
   "metadata": {
    "scrolled": true
   },
   "outputs": [
    {
     "data": {
      "text/plain": [
       "{'x1': {'x1': array([0.62858612, 0.62858612, 0.50819638, 0.50819638, 0.50110995,\n",
       "         0.50110995, 0.66510054, 0.66510054, 0.16145833, 0.16145833,\n",
       "         0.26478166, 0.26478166, 0.57122874, 0.57122874, 0.86155841,\n",
       "         0.86155841, 0.06163961, 0.06163961, 0.95244906, 0.95244906,\n",
       "         0.21239541, 0.21239541, 0.95973427, 0.95973427, 0.10939606,\n",
       "         0.10939606, 0.43009311, 0.43009311, 0.39940162, 0.39940162,\n",
       "         0.49860651, 0.49860651, 0.2204631 , 0.2204631 , 0.91457246,\n",
       "         0.91457246, 0.66362198, 0.66362198, 0.86249424, 0.86249424,\n",
       "         0.68198061, 0.68198061, 0.64084593, 0.64084593, 0.19347256,\n",
       "         0.19347256, 0.78615952, 0.78615952, 0.03127891, 0.03127891,\n",
       "         0.64608101, 0.64608101, 0.89897164, 0.89897164, 0.87281332,\n",
       "         0.87281332, 0.40799573, 0.40799573, 0.50520085, 0.50520085,\n",
       "         0.89569282, 0.89569282, 0.58007096, 0.58007096, 0.38209031,\n",
       "         0.38209031, 0.59002699, 0.59002699, 0.84957233, 0.84957233,\n",
       "         0.00995851, 0.00995851, 0.66097541, 0.66097541, 0.40466755,\n",
       "         0.40466755, 0.29240118, 0.29240118, 0.23740676, 0.23740676,\n",
       "         0.85964422, 0.85964422, 0.23800544, 0.23800544, 0.07255952,\n",
       "         0.07255952, 0.32939112, 0.32939112, 0.00185238, 0.00185238,\n",
       "         0.21034333, 0.21034333, 0.70650164, 0.70650164, 0.28080496,\n",
       "         0.28080496, 0.46809251, 0.46809251, 0.10717216, 0.10717216,\n",
       "         0.76679078, 0.76679078, 0.85776122, 0.85776122, 0.57262098,\n",
       "         0.57262098, 0.51237212, 0.51237212, 0.70013114, 0.70013114,\n",
       "         0.6564368 , 0.6564368 , 0.72698422, 0.72698422, 0.17581402,\n",
       "         0.17581402, 0.83325429, 0.83325429, 0.7488092 , 0.7488092 ,\n",
       "         0.19592334, 0.19592334, 0.75726638, 0.75726638, 0.53205731,\n",
       "         0.53205731, 0.82646218, 0.82646218, 0.53596221, 0.53596221,\n",
       "         0.11626615, 0.11626615, 0.4054331 , 0.4054331 , 0.51875473,\n",
       "         0.51875473, 0.37360115, 0.37360115, 0.78484446, 0.78484446,\n",
       "         0.47665635, 0.47665635, 0.06377977, 0.06377977, 0.57917805,\n",
       "         0.57917805, 0.58731431, 0.58731431, 0.94669524, 0.94669524,\n",
       "         0.58443498, 0.58443498, 0.49401957, 0.49401957, 0.37227472,\n",
       "         0.37227472, 0.08915233, 0.08915233, 0.02761299, 0.02761299,\n",
       "         0.6098311 , 0.6098311 , 0.10893837, 0.10893837, 0.73013544,\n",
       "         0.73013544, 0.02698806, 0.02698806, 0.26820394, 0.26820394,\n",
       "         0.10282592, 0.10282592, 0.89825243, 0.89825243, 0.25014502,\n",
       "         0.25014502, 0.02425584, 0.02425584, 0.4844033 , 0.4844033 ,\n",
       "         0.37300849, 0.37300849, 0.37489066, 0.37489066, 0.83230074,\n",
       "         0.83230074, 0.73259003, 0.73259003, 0.87684093, 0.87684093,\n",
       "         0.96796247, 0.96796247, 0.72976946, 0.72976946, 0.19587684,\n",
       "         0.19587684, 0.82144773, 0.82144773, 0.46118092, 0.46118092])}}"
      ]
     },
     "execution_count": 11,
     "metadata": {},
     "output_type": "execute_result"
    }
   ],
   "source": [
    "ds = load_by_id(run_id_n)\n",
    "ds.get_parameter_data('x1')"
   ]
  },
  {
   "cell_type": "markdown",
   "metadata": {},
   "source": [
    "And a dataset stored as binary arrays"
   ]
  },
  {
   "cell_type": "code",
   "execution_count": 12,
   "metadata": {
    "scrolled": true
   },
   "outputs": [
    {
     "data": {
      "text/plain": [
       "{'x1': {'x1': array([[0.77908892],\n",
       "         [0.77908892],\n",
       "         [0.01764207],\n",
       "         [0.01764207],\n",
       "         [0.61748382],\n",
       "         [0.61748382],\n",
       "         [0.14779958],\n",
       "         [0.14779958],\n",
       "         [0.88843613],\n",
       "         [0.88843613],\n",
       "         [0.88751328],\n",
       "         [0.88751328],\n",
       "         [0.98570333],\n",
       "         [0.98570333],\n",
       "         [0.2325507 ],\n",
       "         [0.2325507 ],\n",
       "         [0.43633956],\n",
       "         [0.43633956],\n",
       "         [0.31736697],\n",
       "         [0.31736697],\n",
       "         [0.14039295],\n",
       "         [0.14039295],\n",
       "         [0.56269419],\n",
       "         [0.56269419],\n",
       "         [0.28550492],\n",
       "         [0.28550492],\n",
       "         [0.84563554],\n",
       "         [0.84563554],\n",
       "         [0.13774373],\n",
       "         [0.13774373],\n",
       "         [0.18631333],\n",
       "         [0.18631333],\n",
       "         [0.68776112],\n",
       "         [0.68776112],\n",
       "         [0.10845279],\n",
       "         [0.10845279],\n",
       "         [0.96090871],\n",
       "         [0.96090871],\n",
       "         [0.4558581 ],\n",
       "         [0.4558581 ],\n",
       "         [0.37312329],\n",
       "         [0.37312329],\n",
       "         [0.80239039],\n",
       "         [0.80239039],\n",
       "         [0.06386003],\n",
       "         [0.06386003],\n",
       "         [0.49126223],\n",
       "         [0.49126223],\n",
       "         [0.50735348],\n",
       "         [0.50735348],\n",
       "         [0.42253782],\n",
       "         [0.42253782],\n",
       "         [0.6097968 ],\n",
       "         [0.6097968 ],\n",
       "         [0.96426966],\n",
       "         [0.96426966],\n",
       "         [0.35355844],\n",
       "         [0.35355844],\n",
       "         [0.27310175],\n",
       "         [0.27310175],\n",
       "         [0.43993465],\n",
       "         [0.43993465],\n",
       "         [0.74766476],\n",
       "         [0.74766476],\n",
       "         [0.12739662],\n",
       "         [0.12739662],\n",
       "         [0.05782694],\n",
       "         [0.05782694],\n",
       "         [0.66083718],\n",
       "         [0.66083718],\n",
       "         [0.88330807],\n",
       "         [0.88330807],\n",
       "         [0.03546171],\n",
       "         [0.03546171],\n",
       "         [0.41996436],\n",
       "         [0.41996436],\n",
       "         [0.61180306],\n",
       "         [0.61180306],\n",
       "         [0.43310782],\n",
       "         [0.43310782],\n",
       "         [0.30601268],\n",
       "         [0.30601268],\n",
       "         [0.79649137],\n",
       "         [0.79649137],\n",
       "         [0.59094746],\n",
       "         [0.59094746],\n",
       "         [0.32195536],\n",
       "         [0.32195536],\n",
       "         [0.64479023],\n",
       "         [0.64479023],\n",
       "         [0.95385295],\n",
       "         [0.95385295],\n",
       "         [0.24794933],\n",
       "         [0.24794933],\n",
       "         [0.33302968],\n",
       "         [0.33302968],\n",
       "         [0.31429761],\n",
       "         [0.31429761],\n",
       "         [0.66071265],\n",
       "         [0.66071265],\n",
       "         [0.35246337],\n",
       "         [0.35246337],\n",
       "         [0.59043597],\n",
       "         [0.59043597],\n",
       "         [0.68539137],\n",
       "         [0.68539137],\n",
       "         [0.85279475],\n",
       "         [0.85279475],\n",
       "         [0.39218572],\n",
       "         [0.39218572],\n",
       "         [0.27419051],\n",
       "         [0.27419051],\n",
       "         [0.8047514 ],\n",
       "         [0.8047514 ],\n",
       "         [0.54751998],\n",
       "         [0.54751998],\n",
       "         [0.80679564],\n",
       "         [0.80679564],\n",
       "         [0.50731084],\n",
       "         [0.50731084],\n",
       "         [0.88708358],\n",
       "         [0.88708358],\n",
       "         [0.0276474 ],\n",
       "         [0.0276474 ],\n",
       "         [0.18232521],\n",
       "         [0.18232521],\n",
       "         [0.66450829],\n",
       "         [0.66450829],\n",
       "         [0.69808109],\n",
       "         [0.69808109],\n",
       "         [0.80614002],\n",
       "         [0.80614002],\n",
       "         [0.41835886],\n",
       "         [0.41835886],\n",
       "         [0.59695942],\n",
       "         [0.59695942],\n",
       "         [0.65652402],\n",
       "         [0.65652402],\n",
       "         [0.05431504],\n",
       "         [0.05431504],\n",
       "         [0.86452097],\n",
       "         [0.86452097],\n",
       "         [0.20321157],\n",
       "         [0.20321157],\n",
       "         [0.41030176],\n",
       "         [0.41030176],\n",
       "         [0.71394565],\n",
       "         [0.71394565],\n",
       "         [0.23581574],\n",
       "         [0.23581574],\n",
       "         [0.32201334],\n",
       "         [0.32201334],\n",
       "         [0.50338349],\n",
       "         [0.50338349],\n",
       "         [0.1508673 ],\n",
       "         [0.1508673 ],\n",
       "         [0.35659762],\n",
       "         [0.35659762],\n",
       "         [0.68047992],\n",
       "         [0.68047992],\n",
       "         [0.62802585],\n",
       "         [0.62802585],\n",
       "         [0.81729043],\n",
       "         [0.81729043],\n",
       "         [0.0214734 ],\n",
       "         [0.0214734 ],\n",
       "         [0.38874909],\n",
       "         [0.38874909],\n",
       "         [0.95357488],\n",
       "         [0.95357488],\n",
       "         [0.26123826],\n",
       "         [0.26123826],\n",
       "         [0.06423954],\n",
       "         [0.06423954],\n",
       "         [0.13235119],\n",
       "         [0.13235119],\n",
       "         [0.37892351],\n",
       "         [0.37892351],\n",
       "         [0.53818684],\n",
       "         [0.53818684],\n",
       "         [0.14460185],\n",
       "         [0.14460185],\n",
       "         [0.66171061],\n",
       "         [0.66171061],\n",
       "         [0.53227358],\n",
       "         [0.53227358],\n",
       "         [0.43488106],\n",
       "         [0.43488106],\n",
       "         [0.338259  ],\n",
       "         [0.338259  ],\n",
       "         [0.90858464],\n",
       "         [0.90858464],\n",
       "         [0.77702953],\n",
       "         [0.77702953],\n",
       "         [0.48903991],\n",
       "         [0.48903991],\n",
       "         [0.74386994],\n",
       "         [0.74386994],\n",
       "         [0.37006162],\n",
       "         [0.37006162]])}}"
      ]
     },
     "execution_count": 12,
     "metadata": {},
     "output_type": "execute_result"
    }
   ],
   "source": [
    "ds = load_by_id(run_id_a)\n",
    "ds.get_parameter_data('x1')"
   ]
  },
  {
   "cell_type": "code",
   "execution_count": null,
   "metadata": {},
   "outputs": [],
   "source": []
  }
 ],
 "metadata": {
  "kernelspec": {
   "display_name": "Python 3",
   "language": "python",
   "name": "python3"
  },
  "language_info": {
   "codemirror_mode": {
    "name": "ipython",
    "version": 3
   },
   "file_extension": ".py",
   "mimetype": "text/x-python",
   "name": "python",
   "nbconvert_exporter": "python",
   "pygments_lexer": "ipython3",
   "version": "3.7.7"
  },
  "nbsphinx": {
   "timeout": 600
  },
  "toc": {
   "base_numbering": 1,
   "nav_menu": {},
   "number_sections": true,
   "sideBar": true,
   "skip_h1_title": false,
   "title_cell": "Table of Contents",
   "title_sidebar": "Contents",
   "toc_cell": false,
   "toc_position": {},
   "toc_section_display": true,
   "toc_window_display": false
  },
  "varInspector": {
   "cols": {
    "lenName": 16,
    "lenType": 16,
    "lenVar": 40
   },
   "kernels_config": {
    "python": {
     "delete_cmd_postfix": "",
     "delete_cmd_prefix": "del ",
     "library": "var_list.py",
     "varRefreshCmd": "print(var_dic_list())"
    },
    "r": {
     "delete_cmd_postfix": ") ",
     "delete_cmd_prefix": "rm(",
     "library": "var_list.r",
     "varRefreshCmd": "cat(var_dic_list()) "
    }
   },
   "types_to_exclude": [
    "module",
    "function",
    "builtin_function_or_method",
    "instance",
    "_Feature"
   ],
   "window_display": false
  }
 },
 "nbformat": 4,
 "nbformat_minor": 2
}
