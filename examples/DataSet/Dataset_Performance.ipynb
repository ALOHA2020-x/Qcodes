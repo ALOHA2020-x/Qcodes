{
 "cells": [
  {
   "cell_type": "markdown",
   "metadata": {},
   "source": [
    "# DataSet Performance\n",
    "\n",
    "This notebook shows the trade-off between inserting data into a database row-by-row and as binary blobs. Inserting the data row-by-row means that we have direct access to all the data and may perform queries directly on the values of the data. On the other hand, as we shall see, this is much slower than inserting the data directly as binary blobs."
   ]
  },
  {
   "cell_type": "markdown",
   "metadata": {},
   "source": [
    "First, we choose a new location for the database to ensure that we don't add a bunch of benchmarking data to the default one."
   ]
  },
  {
   "cell_type": "code",
   "execution_count": 1,
   "metadata": {
    "execution": {
     "iopub.execute_input": "2021-02-23T07:30:49.179982Z",
     "iopub.status.busy": "2021-02-23T07:30:49.179338Z",
     "iopub.status.idle": "2021-02-23T07:30:50.135522Z",
     "shell.execute_reply": "2021-02-23T07:30:50.136039Z"
    }
   },
   "outputs": [
    {
     "name": "stdout",
     "output_type": "stream",
     "text": [
      "Logging hadn't been started.\n",
      "Activating auto-logging. Current session state plus future input saved.\n",
      "Filename       : /home/runner/.qcodes/logs/command_history.log\n",
      "Mode           : append\n",
      "Output logging : True\n",
      "Raw input log  : False\n",
      "Timestamping   : True\n",
      "State          : active\n"
     ]
    },
    {
     "name": "stdout",
     "output_type": "stream",
     "text": [
      "Qcodes Logfile : /home/runner/.qcodes/logs/210223-4020-qcodes.log\n"
     ]
    }
   ],
   "source": [
    "import os\n",
    "cwd = os.getcwd()\n",
    "import qcodes as qc\n",
    "qc.config[\"core\"][\"db_location\"] = os.path.join(cwd, 'testing.db')\n"
   ]
  },
  {
   "cell_type": "code",
   "execution_count": 2,
   "metadata": {
    "execution": {
     "iopub.execute_input": "2021-02-23T07:30:50.142441Z",
     "iopub.status.busy": "2021-02-23T07:30:50.141359Z",
     "iopub.status.idle": "2021-02-23T07:30:50.348831Z",
     "shell.execute_reply": "2021-02-23T07:30:50.348226Z"
    }
   },
   "outputs": [],
   "source": [
    "%matplotlib inline\n",
    "import time\n",
    "import matplotlib.pyplot as plt\n",
    "import numpy as np\n",
    "\n",
    "import qcodes as qc\n",
    "from qcodes.instrument.parameter import ManualParameter\n",
    "from qcodes.dataset.experiment_container import (Experiment,\n",
    "                                                 load_last_experiment,\n",
    "                                                 new_experiment)\n",
    "from qcodes.dataset.sqlite.database import initialise_database\n",
    "from qcodes import load_or_create_experiment\n",
    "from qcodes.dataset.measurements import Measurement"
   ]
  },
  {
   "cell_type": "code",
   "execution_count": 3,
   "metadata": {
    "execution": {
     "iopub.execute_input": "2021-02-23T07:30:50.353273Z",
     "iopub.status.busy": "2021-02-23T07:30:50.352431Z",
     "iopub.status.idle": "2021-02-23T07:30:50.667744Z",
     "shell.execute_reply": "2021-02-23T07:30:50.667180Z"
    }
   },
   "outputs": [
    {
     "name": "stdout",
     "output_type": "stream",
     "text": [
      "\r",
      "0it [00:00, ?it/s]"
     ]
    },
    {
     "name": "stdout",
     "output_type": "stream",
     "text": [
      "\r",
      "Upgrading database; v0 -> v1: : 0it [00:00, ?it/s]"
     ]
    },
    {
     "name": "stdout",
     "output_type": "stream",
     "text": [
      "\r",
      "Upgrading database; v0 -> v1: : 0it [00:00, ?it/s]"
     ]
    },
    {
     "name": "stdout",
     "output_type": "stream",
     "text": [
      "\n",
      "\r",
      "  0%|          | 0/1 [00:00<?, ?it/s]"
     ]
    },
    {
     "name": "stdout",
     "output_type": "stream",
     "text": [
      "\r",
      "Upgrading database; v1 -> v2:   0%|          | 0/1 [00:00<?, ?it/s]"
     ]
    },
    {
     "name": "stdout",
     "output_type": "stream",
     "text": [
      "\r",
      "Upgrading database; v1 -> v2: 100%|██████████| 1/1 [00:00<00:00, 453.44it/s]"
     ]
    },
    {
     "name": "stdout",
     "output_type": "stream",
     "text": [
      "\n",
      "\r",
      "0it [00:00, ?it/s]"
     ]
    },
    {
     "name": "stdout",
     "output_type": "stream",
     "text": [
      "\r",
      "Upgrading database; v2 -> v3: : 0it [00:00, ?it/s]"
     ]
    },
    {
     "name": "stdout",
     "output_type": "stream",
     "text": [
      "\r",
      "Upgrading database; v2 -> v3: : 0it [00:00, ?it/s]"
     ]
    },
    {
     "name": "stdout",
     "output_type": "stream",
     "text": [
      "\n",
      "\r",
      "0it [00:00, ?it/s]"
     ]
    },
    {
     "name": "stdout",
     "output_type": "stream",
     "text": [
      "\r",
      "Upgrading database; v3 -> v4: : 0it [00:00, ?it/s]"
     ]
    },
    {
     "name": "stdout",
     "output_type": "stream",
     "text": [
      "\r",
      "Upgrading database; v3 -> v4: : 0it [00:00, ?it/s]"
     ]
    },
    {
     "name": "stdout",
     "output_type": "stream",
     "text": [
      "\n",
      "\r",
      "  0%|          | 0/1 [00:00<?, ?it/s]"
     ]
    },
    {
     "name": "stdout",
     "output_type": "stream",
     "text": [
      "\r",
      "Upgrading database; v4 -> v5:   0%|          | 0/1 [00:00<?, ?it/s]"
     ]
    },
    {
     "name": "stdout",
     "output_type": "stream",
     "text": [
      "\r",
      "Upgrading database; v4 -> v5: 100%|██████████| 1/1 [00:00<00:00, 320.35it/s]"
     ]
    },
    {
     "name": "stdout",
     "output_type": "stream",
     "text": [
      "\n",
      "\r",
      "0it [00:00, ?it/s]"
     ]
    },
    {
     "name": "stdout",
     "output_type": "stream",
     "text": [
      "\r",
      "Upgrading database; v5 -> v6: : 0it [00:00, ?it/s]"
     ]
    },
    {
     "name": "stdout",
     "output_type": "stream",
     "text": [
      "\r",
      "Upgrading database; v5 -> v6: : 0it [00:00, ?it/s]"
     ]
    },
    {
     "name": "stdout",
     "output_type": "stream",
     "text": [
      "\n",
      "\r",
      "  0%|          | 0/1 [00:00<?, ?it/s]"
     ]
    },
    {
     "name": "stdout",
     "output_type": "stream",
     "text": [
      "\r",
      "Upgrading database; v6 -> v7:   0%|          | 0/1 [00:00<?, ?it/s]"
     ]
    },
    {
     "name": "stdout",
     "output_type": "stream",
     "text": [
      "\r",
      "Upgrading database; v6 -> v7: 100%|██████████| 1/1 [00:00<00:00, 78.12it/s]"
     ]
    },
    {
     "name": "stdout",
     "output_type": "stream",
     "text": [
      "\n",
      "\r",
      "  0%|          | 0/1 [00:00<?, ?it/s]"
     ]
    },
    {
     "name": "stdout",
     "output_type": "stream",
     "text": [
      "\r",
      "Upgrading database; v7 -> v8:   0%|          | 0/1 [00:00<?, ?it/s]"
     ]
    },
    {
     "name": "stdout",
     "output_type": "stream",
     "text": [
      "\r",
      "Upgrading database; v7 -> v8: 100%|██████████| 1/1 [00:00<00:00, 475.33it/s]"
     ]
    },
    {
     "name": "stdout",
     "output_type": "stream",
     "text": [
      "\n",
      "\r",
      "  0%|          | 0/1 [00:00<?, ?it/s]"
     ]
    },
    {
     "name": "stdout",
     "output_type": "stream",
     "text": [
      "\r",
      "Upgrading database; v8 -> v9:   0%|          | 0/1 [00:00<?, ?it/s]"
     ]
    },
    {
     "name": "stdout",
     "output_type": "stream",
     "text": [
      "\r",
      "Upgrading database; v8 -> v9: 100%|██████████| 1/1 [00:00<00:00, 381.96it/s]"
     ]
    },
    {
     "name": "stdout",
     "output_type": "stream",
     "text": [
      "\n"
     ]
    }
   ],
   "source": [
    "initialise_database()\n",
    "exp = load_or_create_experiment(experiment_name='tutorial_exp', sample_name=\"no sample\")"
   ]
  },
  {
   "cell_type": "markdown",
   "metadata": {},
   "source": [
    "Here, we define a simple function to benchmark the time it takes to insert n points with either numeric or array data type.\n",
    "We will compare both the time used to call ``add_result`` and the time used for the full measurement."
   ]
  },
  {
   "cell_type": "code",
   "execution_count": 4,
   "metadata": {
    "execution": {
     "iopub.execute_input": "2021-02-23T07:30:50.677407Z",
     "iopub.status.busy": "2021-02-23T07:30:50.676727Z",
     "iopub.status.idle": "2021-02-23T07:30:50.681209Z",
     "shell.execute_reply": "2021-02-23T07:30:50.680613Z"
    }
   },
   "outputs": [],
   "source": [
    "def insert_data(paramtype, npoints, nreps=1):\n",
    "\n",
    "    meas = Measurement(exp=exp)\n",
    "\n",
    "    x1 = ManualParameter('x1')\n",
    "    x2 = ManualParameter('x2')\n",
    "    x3 = ManualParameter('x3')\n",
    "    y1 = ManualParameter('y1')\n",
    "    y2 = ManualParameter('y2')\n",
    "\n",
    "    meas.register_parameter(x1, paramtype=paramtype)\n",
    "    meas.register_parameter(x2, paramtype=paramtype)\n",
    "    meas.register_parameter(x3, paramtype=paramtype)\n",
    "    meas.register_parameter(y1, setpoints=[x1, x2, x3],\n",
    "                            paramtype=paramtype)\n",
    "    meas.register_parameter(y2, setpoints=[x1, x2, x3],\n",
    "                            paramtype=paramtype)\n",
    "    start = time.perf_counter()\n",
    "    with meas.run() as datasaver:\n",
    "        start_adding = time.perf_counter()\n",
    "        for i in range(nreps):\n",
    "            datasaver.add_result((x1, np.random.rand(npoints)),\n",
    "                                 (x2, np.random.rand(npoints)),\n",
    "                                 (x3, np.random.rand(npoints)),\n",
    "                                 (y1, np.random.rand(npoints)),\n",
    "                                 (y2, np.random.rand(npoints)))\n",
    "        stop_adding = time.perf_counter()\n",
    "        run_id = datasaver.run_id\n",
    "    stop = time.perf_counter()\n",
    "    tot_time = stop - start\n",
    "    add_time = stop_adding - start_adding\n",
    "    return tot_time, add_time, run_id"
   ]
  },
  {
   "cell_type": "markdown",
   "metadata": {},
   "source": [
    "## Comparison between numeric/array data and binary blob"
   ]
  },
  {
   "cell_type": "markdown",
   "metadata": {},
   "source": [
    "### Case1: Short experiment time"
   ]
  },
  {
   "cell_type": "code",
   "execution_count": 5,
   "metadata": {
    "execution": {
     "iopub.execute_input": "2021-02-23T07:30:50.688248Z",
     "iopub.status.busy": "2021-02-23T07:30:50.686866Z",
     "iopub.status.idle": "2021-02-23T07:30:52.087733Z",
     "shell.execute_reply": "2021-02-23T07:30:52.086865Z"
    }
   },
   "outputs": [
    {
     "name": "stdout",
     "output_type": "stream",
     "text": [
      "Starting experimental run with id: 1. \n"
     ]
    },
    {
     "name": "stdout",
     "output_type": "stream",
     "text": [
      "Starting experimental run with id: 2. \n"
     ]
    },
    {
     "name": "stdout",
     "output_type": "stream",
     "text": [
      "Starting experimental run with id: 3. \n",
      "Starting experimental run with id: 4. \n"
     ]
    },
    {
     "name": "stdout",
     "output_type": "stream",
     "text": [
      "Starting experimental run with id: 5. \n"
     ]
    },
    {
     "name": "stdout",
     "output_type": "stream",
     "text": [
      "Starting experimental run with id: 6. \n",
      "Starting experimental run with id: 7. \n"
     ]
    },
    {
     "name": "stdout",
     "output_type": "stream",
     "text": [
      "Starting experimental run with id: 8. \n"
     ]
    },
    {
     "name": "stdout",
     "output_type": "stream",
     "text": [
      "Starting experimental run with id: 9. \n"
     ]
    },
    {
     "name": "stdout",
     "output_type": "stream",
     "text": [
      "Starting experimental run with id: 10. \n"
     ]
    },
    {
     "name": "stdout",
     "output_type": "stream",
     "text": [
      "Starting experimental run with id: 11. \n"
     ]
    },
    {
     "name": "stdout",
     "output_type": "stream",
     "text": [
      "Starting experimental run with id: 12. \n"
     ]
    },
    {
     "name": "stdout",
     "output_type": "stream",
     "text": [
      "Starting experimental run with id: 13. \n"
     ]
    },
    {
     "name": "stdout",
     "output_type": "stream",
     "text": [
      "Starting experimental run with id: 14. \n"
     ]
    }
   ],
   "source": [
    "sizes = [1,500,1000,2000,3000,4000,5000]\n",
    "t_numeric = []\n",
    "t_numeric_add = []\n",
    "t_array = []\n",
    "t_array_add = []\n",
    "for size in sizes:\n",
    "    tn, tna, run_id_n =  insert_data('numeric', size)\n",
    "    t_numeric.append(tn)\n",
    "    t_numeric_add.append(tna)\n",
    "\n",
    "    ta, taa, run_id_a =  insert_data('array', size)\n",
    "    t_array.append(ta)\n",
    "    t_array_add.append(taa)"
   ]
  },
  {
   "cell_type": "code",
   "execution_count": 6,
   "metadata": {
    "execution": {
     "iopub.execute_input": "2021-02-23T07:30:52.107406Z",
     "iopub.status.busy": "2021-02-23T07:30:52.092293Z",
     "iopub.status.idle": "2021-02-23T07:30:52.334780Z",
     "shell.execute_reply": "2021-02-23T07:30:52.335596Z"
    }
   },
   "outputs": [
    {
     "data": {
      "image/png": "[encoded data removed]",
      "text/plain": [
       "<Figure size 432x288 with 1 Axes>"
      ]
     },
     "metadata": {
      "needs_background": "light"
     },
     "output_type": "display_data"
    }
   ],
   "source": [
    "fig, ax = plt.subplots(1,1)\n",
    "ax.plot(sizes, t_numeric, 'o-', label='Inserting row-by-row')\n",
    "ax.plot(sizes, t_numeric_add, 'o-', label='Inserting row-by-row: add_result only')\n",
    "ax.plot(sizes, t_array, 'd-', label='Inserting as binary blob')\n",
    "ax.plot(sizes, t_array_add, 'd-', label='Inserting as binary blob: add_result only')\n",
    "ax.legend()\n",
    "ax.set_xlabel('Array length')\n",
    "ax.set_ylabel('Time (s)')\n",
    "fig.tight_layout()"
   ]
  },
  {
   "cell_type": "markdown",
   "metadata": {},
   "source": [
    "As shown in the latter figure, the time to setup and and close the experiment is approximately 0.4 sec. In case of small array sizes, the difference between inserting values of data as arrays and inserting them row-by-row is relatively unimportant. At larger array sizes, i.e. above 10000 points, the cost of writing data as individual datapoints starts to become important.\n"
   ]
  },
  {
   "cell_type": "markdown",
   "metadata": {},
   "source": [
    "### Case2: Long experiment time "
   ]
  },
  {
   "cell_type": "code",
   "execution_count": 7,
   "metadata": {
    "execution": {
     "iopub.execute_input": "2021-02-23T07:30:52.343684Z",
     "iopub.status.busy": "2021-02-23T07:30:52.342726Z",
     "iopub.status.idle": "2021-02-23T07:32:01.541957Z",
     "shell.execute_reply": "2021-02-23T07:32:01.542480Z"
    }
   },
   "outputs": [
    {
     "name": "stdout",
     "output_type": "stream",
     "text": [
      "Starting experimental run with id: 15. \n",
      "Starting experimental run with id: 16. \n"
     ]
    },
    {
     "name": "stdout",
     "output_type": "stream",
     "text": [
      "Starting experimental run with id: 17. \n"
     ]
    },
    {
     "name": "stdout",
     "output_type": "stream",
     "text": [
      "Starting experimental run with id: 18. \n"
     ]
    },
    {
     "name": "stdout",
     "output_type": "stream",
     "text": [
      "Starting experimental run with id: 19. \n"
     ]
    },
    {
     "name": "stdout",
     "output_type": "stream",
     "text": [
      "Starting experimental run with id: 20. \n"
     ]
    },
    {
     "name": "stdout",
     "output_type": "stream",
     "text": [
      "Starting experimental run with id: 21. \n"
     ]
    },
    {
     "name": "stdout",
     "output_type": "stream",
     "text": [
      "Starting experimental run with id: 22. \n"
     ]
    },
    {
     "name": "stdout",
     "output_type": "stream",
     "text": [
      "Starting experimental run with id: 23. \n"
     ]
    },
    {
     "name": "stdout",
     "output_type": "stream",
     "text": [
      "Starting experimental run with id: 24. \n"
     ]
    },
    {
     "name": "stdout",
     "output_type": "stream",
     "text": [
      "Starting experimental run with id: 25. \n"
     ]
    },
    {
     "name": "stdout",
     "output_type": "stream",
     "text": [
      "Starting experimental run with id: 26. \n"
     ]
    },
    {
     "name": "stdout",
     "output_type": "stream",
     "text": [
      "Starting experimental run with id: 27. \n"
     ]
    },
    {
     "name": "stdout",
     "output_type": "stream",
     "text": [
      "Starting experimental run with id: 28. \n"
     ]
    }
   ],
   "source": [
    "sizes = [1,500,1000,2000,3000,4000,5000]\n",
    "nreps = 100\n",
    "t_numeric = []\n",
    "t_numeric_add = []\n",
    "t_numeric_run_ids = []\n",
    "t_array = []\n",
    "t_array_add = []\n",
    "t_array_run_ids = []\n",
    "for size in sizes:\n",
    "    tn, tna, run_id_n =  insert_data('numeric', size, nreps=nreps)\n",
    "    t_numeric.append(tn)\n",
    "    t_numeric_add.append(tna)\n",
    "    t_numeric_run_ids.append(run_id_n)\n",
    "\n",
    "    ta, taa, run_id_a =  insert_data('array', size, nreps=nreps)\n",
    "    t_array.append(ta)\n",
    "    t_array_add.append(taa)\n",
    "    t_array_run_ids.append(run_id_a)"
   ]
  },
  {
   "cell_type": "code",
   "execution_count": 8,
   "metadata": {
    "execution": {
     "iopub.execute_input": "2021-02-23T07:32:01.563810Z",
     "iopub.status.busy": "2021-02-23T07:32:01.555974Z",
     "iopub.status.idle": "2021-02-23T07:32:01.818205Z",
     "shell.execute_reply": "2021-02-23T07:32:01.817628Z"
    },
    "scrolled": true
   },
   "outputs": [
    {
     "data": {
      "image/png": "[encoded data removed]",
      "text/plain": [
       "<Figure size 432x288 with 1 Axes>"
      ]
     },
     "metadata": {
      "needs_background": "light"
     },
     "output_type": "display_data"
    }
   ],
   "source": [
    "fig, ax = plt.subplots(1,1)\n",
    "ax.plot(sizes, t_numeric, 'o-', label='Inserting row-by-row')\n",
    "ax.plot(sizes, t_numeric_add, 'o-', label='Inserting row-by-row: add_result only')\n",
    "ax.plot(sizes, t_array, 'd-', label='Inserting as binary blob')\n",
    "ax.plot(sizes, t_array_add, 'd-', label='Inserting as binary blob: add_result only')\n",
    "ax.legend()\n",
    "ax.set_xlabel('Array length')\n",
    "ax.set_ylabel('Time (s)')\n",
    "fig.tight_layout()"
   ]
  },
  {
   "cell_type": "markdown",
   "metadata": {},
   "source": [
    "However, as we increase the length of the experiment, as seen here by repeating the insertion 100 times, we see a big difference between inserting values of the data row-by-row and inserting it as a binary blob."
   ]
  },
  {
   "cell_type": "markdown",
   "metadata": {},
   "source": [
    "## Loading the data "
   ]
  },
  {
   "cell_type": "code",
   "execution_count": 9,
   "metadata": {
    "execution": {
     "iopub.execute_input": "2021-02-23T07:32:01.825266Z",
     "iopub.status.busy": "2021-02-23T07:32:01.824047Z",
     "iopub.status.idle": "2021-02-23T07:32:01.828094Z",
     "shell.execute_reply": "2021-02-23T07:32:01.827537Z"
    }
   },
   "outputs": [],
   "source": [
    "from qcodes.dataset.data_set import load_by_id\n",
    "from qcodes.dataset.data_export import get_data_by_id"
   ]
  },
  {
   "cell_type": "markdown",
   "metadata": {},
   "source": [
    "As usual you can load the data by using the ``load_by_id`` function but you will notice that the different storage methods\n",
    "are reflected in shape of the data as it is retrieved. "
   ]
  },
  {
   "cell_type": "code",
   "execution_count": 10,
   "metadata": {
    "execution": {
     "iopub.execute_input": "2021-02-23T07:32:01.832889Z",
     "iopub.status.busy": "2021-02-23T07:32:01.832192Z",
     "iopub.status.idle": "2021-02-23T07:32:01.835371Z",
     "shell.execute_reply": "2021-02-23T07:32:01.834837Z"
    }
   },
   "outputs": [],
   "source": [
    "run_id_n = t_numeric_run_ids[0]\n",
    "run_id_a = t_array_run_ids[0]"
   ]
  },
  {
   "cell_type": "code",
   "execution_count": 11,
   "metadata": {
    "execution": {
     "iopub.execute_input": "2021-02-23T07:32:01.839392Z",
     "iopub.status.busy": "2021-02-23T07:32:01.838769Z",
     "iopub.status.idle": "2021-02-23T07:32:01.849405Z",
     "shell.execute_reply": "2021-02-23T07:32:01.849944Z"
    },
    "scrolled": true
   },
   "outputs": [
    {
     "data": {
      "text/plain": [
       "{'x1': {'x1': array([0.65433739, 0.65433739, 0.40315059, 0.40315059, 0.76356958,\n",
       "         0.76356958, 0.6961112 , 0.6961112 , 0.10041639, 0.10041639,\n",
       "         0.6773628 , 0.6773628 , 0.14815082, 0.14815082, 0.09308854,\n",
       "         0.09308854, 0.49330979, 0.49330979, 0.71635493, 0.71635493,\n",
       "         0.94573056, 0.94573056, 0.51221688, 0.51221688, 0.90239085,\n",
       "         0.90239085, 0.73944823, 0.73944823, 0.09676773, 0.09676773,\n",
       "         0.63525516, 0.63525516, 0.27801083, 0.27801083, 0.16559579,\n",
       "         0.16559579, 0.36213015, 0.36213015, 0.97718192, 0.97718192,\n",
       "         0.70212389, 0.70212389, 0.90540761, 0.90540761, 0.17147787,\n",
       "         0.17147787, 0.59228125, 0.59228125, 0.24846798, 0.24846798,\n",
       "         0.75798935, 0.75798935, 0.99062948, 0.99062948, 0.68179368,\n",
       "         0.68179368, 0.39924085, 0.39924085, 0.404331  , 0.404331  ,\n",
       "         0.60069151, 0.60069151, 0.99471304, 0.99471304, 0.42751049,\n",
       "         0.42751049, 0.63768009, 0.63768009, 0.90021591, 0.90021591,\n",
       "         0.02839355, 0.02839355, 0.82641589, 0.82641589, 0.32229859,\n",
       "         0.32229859, 0.97409918, 0.97409918, 0.13888029, 0.13888029,\n",
       "         0.96398446, 0.96398446, 0.98626615, 0.98626615, 0.67410264,\n",
       "         0.67410264, 0.24115901, 0.24115901, 0.12281337, 0.12281337,\n",
       "         0.07201105, 0.07201105, 0.63368033, 0.63368033, 0.57570873,\n",
       "         0.57570873, 0.14252751, 0.14252751, 0.47579429, 0.47579429,\n",
       "         0.39976785, 0.39976785, 0.58628238, 0.58628238, 0.31323823,\n",
       "         0.31323823, 0.17740806, 0.17740806, 0.07556208, 0.07556208,\n",
       "         0.69576394, 0.69576394, 0.59663005, 0.59663005, 0.35588333,\n",
       "         0.35588333, 0.26674845, 0.26674845, 0.46162774, 0.46162774,\n",
       "         0.33134409, 0.33134409, 0.63636766, 0.63636766, 0.18611637,\n",
       "         0.18611637, 0.30867793, 0.30867793, 0.40521066, 0.40521066,\n",
       "         0.5075939 , 0.5075939 , 0.65275783, 0.65275783, 0.52684516,\n",
       "         0.52684516, 0.70888743, 0.70888743, 0.83688929, 0.83688929,\n",
       "         0.48406279, 0.48406279, 0.56111756, 0.56111756, 0.63105839,\n",
       "         0.63105839, 0.04199719, 0.04199719, 0.93876479, 0.93876479,\n",
       "         0.65560879, 0.65560879, 0.80921221, 0.80921221, 0.59688388,\n",
       "         0.59688388, 0.09335413, 0.09335413, 0.79007151, 0.79007151,\n",
       "         0.48325947, 0.48325947, 0.29285811, 0.29285811, 0.4491221 ,\n",
       "         0.4491221 , 0.76553423, 0.76553423, 0.61175604, 0.61175604,\n",
       "         0.82946542, 0.82946542, 0.30302761, 0.30302761, 0.29276399,\n",
       "         0.29276399, 0.28814171, 0.28814171, 0.35098155, 0.35098155,\n",
       "         0.24536341, 0.24536341, 0.77187757, 0.77187757, 0.27677278,\n",
       "         0.27677278, 0.46641624, 0.46641624, 0.33785679, 0.33785679,\n",
       "         0.60848772, 0.60848772, 0.88753513, 0.88753513, 0.88373665,\n",
       "         0.88373665, 0.9663276 , 0.9663276 , 0.52689099, 0.52689099])}}"
      ]
     },
     "execution_count": 1,
     "metadata": {},
     "output_type": "execute_result"
    }
   ],
   "source": [
    "ds = load_by_id(run_id_n)\n",
    "ds.get_parameter_data('x1')"
   ]
  },
  {
   "cell_type": "markdown",
   "metadata": {},
   "source": [
    "And a dataset stored as binary arrays"
   ]
  },
  {
   "cell_type": "code",
   "execution_count": 12,
   "metadata": {
    "execution": {
     "iopub.execute_input": "2021-02-23T07:32:01.854528Z",
     "iopub.status.busy": "2021-02-23T07:32:01.853893Z",
     "iopub.status.idle": "2021-02-23T07:32:01.929339Z",
     "shell.execute_reply": "2021-02-23T07:32:01.929885Z"
    },
    "scrolled": true
   },
   "outputs": [
    {
     "data": {
      "text/plain": [
       "{'x1': {'x1': array([[7.77974720e-01],\n",
       "         [7.77974720e-01],\n",
       "         [7.71528897e-02],\n",
       "         [7.71528897e-02],\n",
       "         [1.04230959e-03],\n",
       "         [1.04230959e-03],\n",
       "         [2.08366569e-01],\n",
       "         [2.08366569e-01],\n",
       "         [2.39801705e-01],\n",
       "         [2.39801705e-01],\n",
       "         [8.72128760e-01],\n",
       "         [8.72128760e-01],\n",
       "         [4.95644838e-02],\n",
       "         [4.95644838e-02],\n",
       "         [3.18179987e-01],\n",
       "         [3.18179987e-01],\n",
       "         [3.95602696e-02],\n",
       "         [3.95602696e-02],\n",
       "         [6.00045182e-03],\n",
       "         [6.00045182e-03],\n",
       "         [2.45921526e-02],\n",
       "         [2.45921526e-02],\n",
       "         [7.91991610e-01],\n",
       "         [7.91991610e-01],\n",
       "         [7.10989700e-01],\n",
       "         [7.10989700e-01],\n",
       "         [2.75549601e-01],\n",
       "         [2.75549601e-01],\n",
       "         [3.15821338e-01],\n",
       "         [3.15821338e-01],\n",
       "         [3.41876832e-01],\n",
       "         [3.41876832e-01],\n",
       "         [3.72765488e-01],\n",
       "         [3.72765488e-01],\n",
       "         [6.14622515e-01],\n",
       "         [6.14622515e-01],\n",
       "         [4.77107999e-01],\n",
       "         [4.77107999e-01],\n",
       "         [8.48826702e-03],\n",
       "         [8.48826702e-03],\n",
       "         [1.58718459e-01],\n",
       "         [1.58718459e-01],\n",
       "         [8.88598410e-01],\n",
       "         [8.88598410e-01],\n",
       "         [6.87745234e-02],\n",
       "         [6.87745234e-02],\n",
       "         [9.51969903e-01],\n",
       "         [9.51969903e-01],\n",
       "         [3.17706476e-01],\n",
       "         [3.17706476e-01],\n",
       "         [5.21279901e-01],\n",
       "         [5.21279901e-01],\n",
       "         [6.81186267e-01],\n",
       "         [6.81186267e-01],\n",
       "         [6.44442265e-01],\n",
       "         [6.44442265e-01],\n",
       "         [6.86890547e-01],\n",
       "         [6.86890547e-01],\n",
       "         [7.33513755e-01],\n",
       "         [7.33513755e-01],\n",
       "         [9.25092685e-01],\n",
       "         [9.25092685e-01],\n",
       "         [1.82118709e-01],\n",
       "         [1.82118709e-01],\n",
       "         [1.62355213e-01],\n",
       "         [1.62355213e-01],\n",
       "         [4.73351448e-01],\n",
       "         [4.73351448e-01],\n",
       "         [8.94923968e-01],\n",
       "         [8.94923968e-01],\n",
       "         [6.29752560e-01],\n",
       "         [6.29752560e-01],\n",
       "         [6.78367716e-01],\n",
       "         [6.78367716e-01],\n",
       "         [6.26946004e-02],\n",
       "         [6.26946004e-02],\n",
       "         [8.26359899e-01],\n",
       "         [8.26359899e-01],\n",
       "         [5.87889088e-01],\n",
       "         [5.87889088e-01],\n",
       "         [4.85739306e-01],\n",
       "         [4.85739306e-01],\n",
       "         [7.76765182e-01],\n",
       "         [7.76765182e-01],\n",
       "         [5.03106650e-01],\n",
       "         [5.03106650e-01],\n",
       "         [1.76697154e-02],\n",
       "         [1.76697154e-02],\n",
       "         [4.57789736e-02],\n",
       "         [4.57789736e-02],\n",
       "         [7.05193211e-01],\n",
       "         [7.05193211e-01],\n",
       "         [4.22876601e-01],\n",
       "         [4.22876601e-01],\n",
       "         [9.79254645e-01],\n",
       "         [9.79254645e-01],\n",
       "         [8.17539219e-01],\n",
       "         [8.17539219e-01],\n",
       "         [6.96953620e-01],\n",
       "         [6.96953620e-01],\n",
       "         [4.28511572e-01],\n",
       "         [4.28511572e-01],\n",
       "         [7.67246480e-01],\n",
       "         [7.67246480e-01],\n",
       "         [8.71092766e-01],\n",
       "         [8.71092766e-01],\n",
       "         [4.20941464e-01],\n",
       "         [4.20941464e-01],\n",
       "         [8.57585983e-01],\n",
       "         [8.57585983e-01],\n",
       "         [8.69176899e-01],\n",
       "         [8.69176899e-01],\n",
       "         [9.29817236e-01],\n",
       "         [9.29817236e-01],\n",
       "         [3.23753423e-01],\n",
       "         [3.23753423e-01],\n",
       "         [3.60202170e-01],\n",
       "         [3.60202170e-01],\n",
       "         [3.41579052e-01],\n",
       "         [3.41579052e-01],\n",
       "         [7.36769378e-01],\n",
       "         [7.36769378e-01],\n",
       "         [8.63143141e-01],\n",
       "         [8.63143141e-01],\n",
       "         [3.41262406e-01],\n",
       "         [3.41262406e-01],\n",
       "         [6.57112367e-01],\n",
       "         [6.57112367e-01],\n",
       "         [3.51306072e-01],\n",
       "         [3.51306072e-01],\n",
       "         [6.61813913e-01],\n",
       "         [6.61813913e-01],\n",
       "         [3.65411927e-02],\n",
       "         [3.65411927e-02],\n",
       "         [5.06219754e-02],\n",
       "         [5.06219754e-02],\n",
       "         [6.44017619e-01],\n",
       "         [6.44017619e-01],\n",
       "         [3.69890795e-01],\n",
       "         [3.69890795e-01],\n",
       "         [5.56149316e-02],\n",
       "         [5.56149316e-02],\n",
       "         [1.65953365e-02],\n",
       "         [1.65953365e-02],\n",
       "         [5.50329780e-01],\n",
       "         [5.50329780e-01],\n",
       "         [8.05663347e-02],\n",
       "         [8.05663347e-02],\n",
       "         [9.70704634e-02],\n",
       "         [9.70704634e-02],\n",
       "         [3.23206761e-01],\n",
       "         [3.23206761e-01],\n",
       "         [7.91756157e-01],\n",
       "         [7.91756157e-01],\n",
       "         [3.55099645e-01],\n",
       "         [3.55099645e-01],\n",
       "         [4.79452151e-01],\n",
       "         [4.79452151e-01],\n",
       "         [3.86932327e-01],\n",
       "         [3.86932327e-01],\n",
       "         [9.85664599e-01],\n",
       "         [9.85664599e-01],\n",
       "         [9.60131974e-01],\n",
       "         [9.60131974e-01],\n",
       "         [9.05410742e-01],\n",
       "         [9.05410742e-01],\n",
       "         [1.63080105e-02],\n",
       "         [1.63080105e-02],\n",
       "         [3.10842193e-04],\n",
       "         [3.10842193e-04],\n",
       "         [7.85755728e-01],\n",
       "         [7.85755728e-01],\n",
       "         [3.09244029e-01],\n",
       "         [3.09244029e-01],\n",
       "         [6.41689287e-01],\n",
       "         [6.41689287e-01],\n",
       "         [8.07137919e-02],\n",
       "         [8.07137919e-02],\n",
       "         [4.98269188e-01],\n",
       "         [4.98269188e-01],\n",
       "         [9.65885675e-02],\n",
       "         [9.65885675e-02],\n",
       "         [7.53145346e-01],\n",
       "         [7.53145346e-01],\n",
       "         [4.36642257e-01],\n",
       "         [4.36642257e-01],\n",
       "         [1.53570329e-01],\n",
       "         [1.53570329e-01],\n",
       "         [6.77211200e-01],\n",
       "         [6.77211200e-01],\n",
       "         [9.38332895e-01],\n",
       "         [9.38332895e-01],\n",
       "         [7.73303517e-01],\n",
       "         [7.73303517e-01],\n",
       "         [5.55912903e-01],\n",
       "         [5.55912903e-01],\n",
       "         [5.29678078e-01],\n",
       "         [5.29678078e-01],\n",
       "         [7.96160904e-01],\n",
       "         [7.96160904e-01]])}}"
      ]
     },
     "execution_count": 1,
     "metadata": {},
     "output_type": "execute_result"
    }
   ],
   "source": [
    "ds = load_by_id(run_id_a)\n",
    "ds.get_parameter_data('x1')"
   ]
  },
  {
   "cell_type": "code",
   "execution_count": null,
   "metadata": {},
   "outputs": [],
   "source": []
  }
 ],
 "metadata": {
  "kernelspec": {
   "display_name": "Python 3",
   "language": "python",
   "name": "python3"
  },
  "language_info": {
   "codemirror_mode": {
    "name": "ipython",
    "version": 3
   },
   "file_extension": ".py",
   "mimetype": "text/x-python",
   "name": "python",
   "nbconvert_exporter": "python",
   "pygments_lexer": "ipython3",
   "version": "3.7.9"
  },
  "nbsphinx": {
   "timeout": 600
  },
  "toc": {
   "base_numbering": 1,
   "nav_menu": {},
   "number_sections": true,
   "sideBar": true,
   "skip_h1_title": false,
   "title_cell": "Table of Contents",
   "title_sidebar": "Contents",
   "toc_cell": false,
   "toc_position": {},
   "toc_section_display": true,
   "toc_window_display": false
  },
  "varInspector": {
   "cols": {
    "lenName": 16,
    "lenType": 16,
    "lenVar": 40
   },
   "kernels_config": {
    "python": {
     "delete_cmd_postfix": "",
     "delete_cmd_prefix": "del ",
     "library": "var_list.py",
     "varRefreshCmd": "print(var_dic_list())"
    },
    "r": {
     "delete_cmd_postfix": ") ",
     "delete_cmd_prefix": "rm(",
     "library": "var_list.r",
     "varRefreshCmd": "cat(var_dic_list()) "
    }
   },
   "types_to_exclude": [
    "module",
    "function",
    "builtin_function_or_method",
    "instance",
    "_Feature"
   ],
   "window_display": false
  }
 },
 "nbformat": 4,
 "nbformat_minor": 2
}
