{
 "cells": [
  {
   "cell_type": "markdown",
   "metadata": {},
   "source": [
    "# DataSet Performance\n",
    "\n",
    "This notebook shows the trade-off between inserting data into a database row-by-row and as binary blobs. Inserting the data row-by-row means that we have direct access to all the data and may perform queries directly on the values of the data. On the other hand, as we shall see, this is much slower than inserting the data directly as binary blobs."
   ]
  },
  {
   "cell_type": "markdown",
   "metadata": {},
   "source": [
    "First, we choose a new location for the database to ensure that we don't add a bunch of benchmarking data to the default one."
   ]
  },
  {
   "cell_type": "code",
   "execution_count": 1,
   "metadata": {
    "execution": {
     "iopub.execute_input": "2020-09-23T06:51:25.563734Z",
     "iopub.status.busy": "2020-09-23T06:51:25.563226Z",
     "iopub.status.idle": "2020-09-23T06:51:26.591192Z",
     "shell.execute_reply": "2020-09-23T06:51:26.591650Z"
    }
   },
   "outputs": [
    {
     "name": "stdout",
     "output_type": "stream",
     "text": [
      "Logging hadn't been started.\n",
      "Activating auto-logging. Current session state plus future input saved.\n",
      "Filename       : /home/vsts/.qcodes/logs/command_history.log\n",
      "Mode           : append\n",
      "Output logging : True\n",
      "Raw input log  : False\n",
      "Timestamping   : True\n",
      "State          : active\n"
     ]
    },
    {
     "name": "stdout",
     "output_type": "stream",
     "text": [
      "Qcodes Logfile : /home/vsts/.qcodes/logs/200923-19646-qcodes.log\n"
     ]
    }
   ],
   "source": [
    "import os\n",
    "cwd = os.getcwd()\n",
    "import qcodes as qc\n",
    "qc.config[\"core\"][\"db_location\"] = os.path.join(cwd, 'testing.db')\n"
   ]
  },
  {
   "cell_type": "code",
   "execution_count": 2,
   "metadata": {
    "execution": {
     "iopub.execute_input": "2020-09-23T06:51:26.597893Z",
     "iopub.status.busy": "2020-09-23T06:51:26.597086Z",
     "iopub.status.idle": "2020-09-23T06:51:26.783053Z",
     "shell.execute_reply": "2020-09-23T06:51:26.783496Z"
    }
   },
   "outputs": [],
   "source": [
    "%matplotlib inline\n",
    "import time\n",
    "import matplotlib.pyplot as plt\n",
    "import numpy as np\n",
    "\n",
    "import qcodes as qc\n",
    "from qcodes.instrument.parameter import ManualParameter\n",
    "from qcodes.dataset.experiment_container import (Experiment,\n",
    "                                                 load_last_experiment,\n",
    "                                                 new_experiment)\n",
    "from qcodes.dataset.sqlite.database import initialise_database\n",
    "from qcodes import load_or_create_experiment\n",
    "from qcodes.dataset.measurements import Measurement"
   ]
  },
  {
   "cell_type": "code",
   "execution_count": 3,
   "metadata": {
    "execution": {
     "iopub.execute_input": "2020-09-23T06:51:26.787080Z",
     "iopub.status.busy": "2020-09-23T06:51:26.786498Z",
     "iopub.status.idle": "2020-09-23T06:51:26.908591Z",
     "shell.execute_reply": "2020-09-23T06:51:26.909060Z"
    }
   },
   "outputs": [
    {
     "name": "stdout",
     "output_type": "stream",
     "text": [
      "\r",
      "0it [00:00, ?it/s]"
     ]
    },
    {
     "name": "stdout",
     "output_type": "stream",
     "text": [
      "\r",
      "Upgrading database; v0 -> v1: : 0it [00:00, ?it/s]"
     ]
    },
    {
     "name": "stdout",
     "output_type": "stream",
     "text": [
      "\r",
      "Upgrading database; v0 -> v1: : 0it [00:00, ?it/s]"
     ]
    },
    {
     "name": "stdout",
     "output_type": "stream",
     "text": [
      "\n",
      "\r",
      "  0%|          | 0/1 [00:00<?, ?it/s]"
     ]
    },
    {
     "name": "stdout",
     "output_type": "stream",
     "text": [
      "\r",
      "Upgrading database; v1 -> v2:   0%|          | 0/1 [00:00<?, ?it/s]"
     ]
    },
    {
     "name": "stdout",
     "output_type": "stream",
     "text": [
      "\r",
      "Upgrading database; v1 -> v2: 100%|██████████| 1/1 [00:00<00:00, 332.06it/s]"
     ]
    },
    {
     "name": "stdout",
     "output_type": "stream",
     "text": [
      "\n",
      "\r",
      "0it [00:00, ?it/s]"
     ]
    },
    {
     "name": "stdout",
     "output_type": "stream",
     "text": [
      "\r",
      "Upgrading database; v2 -> v3: : 0it [00:00, ?it/s]"
     ]
    },
    {
     "name": "stdout",
     "output_type": "stream",
     "text": [
      "\r",
      "Upgrading database; v2 -> v3: : 0it [00:00, ?it/s]"
     ]
    },
    {
     "name": "stdout",
     "output_type": "stream",
     "text": [
      "\n",
      "\r",
      "0it [00:00, ?it/s]"
     ]
    },
    {
     "name": "stdout",
     "output_type": "stream",
     "text": [
      "\r",
      "Upgrading database; v3 -> v4: : 0it [00:00, ?it/s]"
     ]
    },
    {
     "name": "stdout",
     "output_type": "stream",
     "text": [
      "\r",
      "Upgrading database; v3 -> v4: : 0it [00:00, ?it/s]"
     ]
    },
    {
     "name": "stdout",
     "output_type": "stream",
     "text": [
      "\n",
      "\r",
      "  0%|          | 0/1 [00:00<?, ?it/s]"
     ]
    },
    {
     "name": "stdout",
     "output_type": "stream",
     "text": [
      "\r",
      "Upgrading database; v4 -> v5:   0%|          | 0/1 [00:00<?, ?it/s]"
     ]
    },
    {
     "name": "stdout",
     "output_type": "stream",
     "text": [
      "\r",
      "Upgrading database; v4 -> v5: 100%|██████████| 1/1 [00:00<00:00, 377.66it/s]"
     ]
    },
    {
     "name": "stdout",
     "output_type": "stream",
     "text": [
      "\n",
      "\r",
      "0it [00:00, ?it/s]"
     ]
    },
    {
     "name": "stdout",
     "output_type": "stream",
     "text": [
      "\r",
      "Upgrading database; v5 -> v6: : 0it [00:00, ?it/s]"
     ]
    },
    {
     "name": "stdout",
     "output_type": "stream",
     "text": [
      "\r",
      "Upgrading database; v5 -> v6: : 0it [00:00, ?it/s]"
     ]
    },
    {
     "name": "stdout",
     "output_type": "stream",
     "text": [
      "\n",
      "\r",
      "  0%|          | 0/1 [00:00<?, ?it/s]"
     ]
    },
    {
     "name": "stdout",
     "output_type": "stream",
     "text": [
      "\r",
      "Upgrading database; v6 -> v7:   0%|          | 0/1 [00:00<?, ?it/s]"
     ]
    },
    {
     "name": "stdout",
     "output_type": "stream",
     "text": [
      "\r",
      "Upgrading database; v6 -> v7: 100%|██████████| 1/1 [00:00<00:00, 243.29it/s]"
     ]
    },
    {
     "name": "stdout",
     "output_type": "stream",
     "text": [
      "\n",
      "\r",
      "  0%|          | 0/1 [00:00<?, ?it/s]"
     ]
    },
    {
     "name": "stdout",
     "output_type": "stream",
     "text": [
      "\r",
      "Upgrading database; v7 -> v8:   0%|          | 0/1 [00:00<?, ?it/s]"
     ]
    },
    {
     "name": "stdout",
     "output_type": "stream",
     "text": [
      "\r",
      "Upgrading database; v7 -> v8: 100%|██████████| 1/1 [00:00<00:00, 369.80it/s]"
     ]
    },
    {
     "name": "stdout",
     "output_type": "stream",
     "text": [
      "\n",
      "\r",
      "  0%|          | 0/1 [00:00<?, ?it/s]"
     ]
    },
    {
     "name": "stdout",
     "output_type": "stream",
     "text": [
      "\r",
      "Upgrading database; v8 -> v9:   0%|          | 0/1 [00:00<?, ?it/s]"
     ]
    },
    {
     "name": "stdout",
     "output_type": "stream",
     "text": [
      "\r",
      "Upgrading database; v8 -> v9: 100%|██████████| 1/1 [00:00<00:00, 486.35it/s]"
     ]
    },
    {
     "name": "stdout",
     "output_type": "stream",
     "text": [
      "\n"
     ]
    }
   ],
   "source": [
    "initialise_database()\n",
    "exp = load_or_create_experiment(experiment_name='tutorial_exp', sample_name=\"no sample\")"
   ]
  },
  {
   "cell_type": "markdown",
   "metadata": {},
   "source": [
    "Here, we define a simple function to benchmark the time it takes to insert n points with either numeric or array data type.\n",
    "We will compare both the time used to call ``add_result`` and the time used for the full measurement."
   ]
  },
  {
   "cell_type": "code",
   "execution_count": 4,
   "metadata": {
    "execution": {
     "iopub.execute_input": "2020-09-23T06:51:26.916611Z",
     "iopub.status.busy": "2020-09-23T06:51:26.915865Z",
     "iopub.status.idle": "2020-09-23T06:51:26.919823Z",
     "shell.execute_reply": "2020-09-23T06:51:26.919318Z"
    }
   },
   "outputs": [],
   "source": [
    "def insert_data(paramtype, npoints, nreps=1):\n",
    "\n",
    "    meas = Measurement(exp=exp)\n",
    "\n",
    "    x1 = ManualParameter('x1')\n",
    "    x2 = ManualParameter('x2')\n",
    "    x3 = ManualParameter('x3')\n",
    "    y1 = ManualParameter('y1')\n",
    "    y2 = ManualParameter('y2')\n",
    "\n",
    "    meas.register_parameter(x1, paramtype=paramtype)\n",
    "    meas.register_parameter(x2, paramtype=paramtype)\n",
    "    meas.register_parameter(x3, paramtype=paramtype)\n",
    "    meas.register_parameter(y1, setpoints=[x1, x2, x3],\n",
    "                            paramtype=paramtype)\n",
    "    meas.register_parameter(y2, setpoints=[x1, x2, x3],\n",
    "                            paramtype=paramtype)\n",
    "    start = time.perf_counter()\n",
    "    with meas.run() as datasaver:\n",
    "        start_adding = time.perf_counter()\n",
    "        for i in range(nreps):\n",
    "            datasaver.add_result((x1, np.random.rand(npoints)),\n",
    "                                 (x2, np.random.rand(npoints)),\n",
    "                                 (x3, np.random.rand(npoints)),\n",
    "                                 (y1, np.random.rand(npoints)),\n",
    "                                 (y2, np.random.rand(npoints)))\n",
    "        stop_adding = time.perf_counter()\n",
    "        run_id = datasaver.run_id\n",
    "    stop = time.perf_counter()\n",
    "    tot_time = stop - start\n",
    "    add_time = stop_adding - start_adding\n",
    "    return tot_time, add_time, run_id"
   ]
  },
  {
   "cell_type": "markdown",
   "metadata": {},
   "source": [
    "## Comparison between numeric/array data and binary blob"
   ]
  },
  {
   "cell_type": "markdown",
   "metadata": {},
   "source": [
    "### Case1: Short experiment time"
   ]
  },
  {
   "cell_type": "code",
   "execution_count": 5,
   "metadata": {
    "execution": {
     "iopub.execute_input": "2020-09-23T06:51:26.925982Z",
     "iopub.status.busy": "2020-09-23T06:51:26.925401Z",
     "iopub.status.idle": "2020-09-23T06:51:27.752796Z",
     "shell.execute_reply": "2020-09-23T06:51:27.751925Z"
    }
   },
   "outputs": [
    {
     "name": "stdout",
     "output_type": "stream",
     "text": [
      "Starting experimental run with id: 1. \n",
      "Starting experimental run with id: 2. \n",
      "Starting experimental run with id: 3. \n",
      "Starting experimental run with id: 4. \n",
      "Starting experimental run with id: 5. \n"
     ]
    },
    {
     "name": "stdout",
     "output_type": "stream",
     "text": [
      "Starting experimental run with id: 6. \n"
     ]
    },
    {
     "name": "stdout",
     "output_type": "stream",
     "text": [
      "Starting experimental run with id: 7. \n"
     ]
    },
    {
     "name": "stdout",
     "output_type": "stream",
     "text": [
      "Starting experimental run with id: 8. \n",
      "Starting experimental run with id: 9. \n"
     ]
    },
    {
     "name": "stdout",
     "output_type": "stream",
     "text": [
      "Starting experimental run with id: 10. \n",
      "Starting experimental run with id: 11. \n"
     ]
    },
    {
     "name": "stdout",
     "output_type": "stream",
     "text": [
      "Starting experimental run with id: 12. \n",
      "Starting experimental run with id: 13. \n"
     ]
    },
    {
     "name": "stdout",
     "output_type": "stream",
     "text": [
      "Starting experimental run with id: 14. \n"
     ]
    }
   ],
   "source": [
    "sizes = [1,500,1000,2000,3000,4000,5000]\n",
    "t_numeric = []\n",
    "t_numeric_add = []\n",
    "t_array = []\n",
    "t_array_add = []\n",
    "for size in sizes:\n",
    "    tn, tna, run_id_n =  insert_data('numeric', size)\n",
    "    t_numeric.append(tn)\n",
    "    t_numeric_add.append(tna)\n",
    "\n",
    "    ta, taa, run_id_a =  insert_data('array', size)\n",
    "    t_array.append(ta)\n",
    "    t_array_add.append(taa)"
   ]
  },
  {
   "cell_type": "code",
   "execution_count": 6,
   "metadata": {
    "execution": {
     "iopub.execute_input": "2020-09-23T06:51:27.771521Z",
     "iopub.status.busy": "2020-09-23T06:51:27.770677Z",
     "iopub.status.idle": "2020-09-23T06:51:27.965042Z",
     "shell.execute_reply": "2020-09-23T06:51:27.964365Z"
    }
   },
   "outputs": [
    {
     "data": {
      "image/png": "[encoded data removed]",
      "text/plain": [
       "<Figure size 432x288 with 1 Axes>"
      ]
     },
     "metadata": {
      "needs_background": "light"
     },
     "output_type": "display_data"
    }
   ],
   "source": [
    "fig, ax = plt.subplots(1,1)\n",
    "ax.plot(sizes, t_numeric, 'o-', label='Inserting row-by-row')\n",
    "ax.plot(sizes, t_numeric_add, 'o-', label='Inserting row-by-row: add_result only')\n",
    "ax.plot(sizes, t_array, 'd-', label='Inserting as binary blob')\n",
    "ax.plot(sizes, t_array_add, 'd-', label='Inserting as binary blob: add_result only')\n",
    "ax.legend()\n",
    "ax.set_xlabel('Array length')\n",
    "ax.set_ylabel('Time (s)')\n",
    "fig.tight_layout()"
   ]
  },
  {
   "cell_type": "markdown",
   "metadata": {},
   "source": [
    "As shown in the latter figure, the time to setup and and close the experiment is approximately 0.4 sec. In case of small array sizes, the difference between inserting values of data as arrays and inserting them row-by-row is relatively unimportant. At larger array sizes, i.e. above 10000 points, the cost of writing data as individual datapoints starts to become important.\n"
   ]
  },
  {
   "cell_type": "markdown",
   "metadata": {},
   "source": [
    "### Case2: Long experiment time "
   ]
  },
  {
   "cell_type": "code",
   "execution_count": 7,
   "metadata": {
    "execution": {
     "iopub.execute_input": "2020-09-23T06:51:27.972915Z",
     "iopub.status.busy": "2020-09-23T06:51:27.971870Z",
     "iopub.status.idle": "2020-09-23T06:52:24.707591Z",
     "shell.execute_reply": "2020-09-23T06:52:24.706587Z"
    }
   },
   "outputs": [
    {
     "name": "stdout",
     "output_type": "stream",
     "text": [
      "Starting experimental run with id: 15. \n",
      "Starting experimental run with id: 16. \n",
      "Starting experimental run with id: 17. \n"
     ]
    },
    {
     "name": "stdout",
     "output_type": "stream",
     "text": [
      "Starting experimental run with id: 18. \n",
      "Starting experimental run with id: 19. \n"
     ]
    },
    {
     "name": "stdout",
     "output_type": "stream",
     "text": [
      "Starting experimental run with id: 20. \n"
     ]
    },
    {
     "name": "stdout",
     "output_type": "stream",
     "text": [
      "Starting experimental run with id: 21. \n"
     ]
    },
    {
     "name": "stdout",
     "output_type": "stream",
     "text": [
      "Starting experimental run with id: 22. \n"
     ]
    },
    {
     "name": "stdout",
     "output_type": "stream",
     "text": [
      "Starting experimental run with id: 23. \n"
     ]
    },
    {
     "name": "stdout",
     "output_type": "stream",
     "text": [
      "Starting experimental run with id: 24. \n"
     ]
    },
    {
     "name": "stdout",
     "output_type": "stream",
     "text": [
      "Starting experimental run with id: 25. \n"
     ]
    },
    {
     "name": "stdout",
     "output_type": "stream",
     "text": [
      "Starting experimental run with id: 26. \n"
     ]
    },
    {
     "name": "stdout",
     "output_type": "stream",
     "text": [
      "Starting experimental run with id: 27. \n"
     ]
    },
    {
     "name": "stdout",
     "output_type": "stream",
     "text": [
      "Starting experimental run with id: 28. \n"
     ]
    }
   ],
   "source": [
    "sizes = [1,500,1000,2000,3000,4000,5000]\n",
    "nreps = 100\n",
    "t_numeric = []\n",
    "t_numeric_add = []\n",
    "t_numeric_run_ids = []\n",
    "t_array = []\n",
    "t_array_add = []\n",
    "t_array_run_ids = []\n",
    "for size in sizes:\n",
    "    tn, tna, run_id_n =  insert_data('numeric', size, nreps=nreps)\n",
    "    t_numeric.append(tn)\n",
    "    t_numeric_add.append(tna)\n",
    "    t_numeric_run_ids.append(run_id_n)\n",
    "\n",
    "    ta, taa, run_id_a =  insert_data('array', size, nreps=nreps)\n",
    "    t_array.append(ta)\n",
    "    t_array_add.append(taa)\n",
    "    t_array_run_ids.append(run_id_a)"
   ]
  },
  {
   "cell_type": "code",
   "execution_count": 8,
   "metadata": {
    "execution": {
     "iopub.execute_input": "2020-09-23T06:52:24.728683Z",
     "iopub.status.busy": "2020-09-23T06:52:24.713286Z",
     "iopub.status.idle": "2020-09-23T06:52:24.937276Z",
     "shell.execute_reply": "2020-09-23T06:52:24.936760Z"
    },
    "scrolled": true
   },
   "outputs": [
    {
     "data": {
      "image/png": "[encoded data removed]",
      "text/plain": [
       "<Figure size 432x288 with 1 Axes>"
      ]
     },
     "metadata": {
      "needs_background": "light"
     },
     "output_type": "display_data"
    }
   ],
   "source": [
    "fig, ax = plt.subplots(1,1)\n",
    "ax.plot(sizes, t_numeric, 'o-', label='Inserting row-by-row')\n",
    "ax.plot(sizes, t_numeric_add, 'o-', label='Inserting row-by-row: add_result only')\n",
    "ax.plot(sizes, t_array, 'd-', label='Inserting as binary blob')\n",
    "ax.plot(sizes, t_array_add, 'd-', label='Inserting as binary blob: add_result only')\n",
    "ax.legend()\n",
    "ax.set_xlabel('Array length')\n",
    "ax.set_ylabel('Time (s)')\n",
    "fig.tight_layout()"
   ]
  },
  {
   "cell_type": "markdown",
   "metadata": {},
   "source": [
    "However, as we increase the length of the experiment, as seen here by repeating the insertion 100 times, we see a big difference between inserting values of the data row-by-row and inserting it as a binary blob."
   ]
  },
  {
   "cell_type": "markdown",
   "metadata": {},
   "source": [
    "## Loading the data "
   ]
  },
  {
   "cell_type": "code",
   "execution_count": 9,
   "metadata": {
    "execution": {
     "iopub.execute_input": "2020-09-23T06:52:24.941851Z",
     "iopub.status.busy": "2020-09-23T06:52:24.940755Z",
     "iopub.status.idle": "2020-09-23T06:52:24.944897Z",
     "shell.execute_reply": "2020-09-23T06:52:24.944407Z"
    }
   },
   "outputs": [],
   "source": [
    "from qcodes.dataset.data_set import load_by_id\n",
    "from qcodes.dataset.data_export import get_data_by_id"
   ]
  },
  {
   "cell_type": "markdown",
   "metadata": {},
   "source": [
    "As usual you can load the data by using the ``load_by_id`` function but you will notice that the different storage methods\n",
    "are reflected in shape of the data as it is retrieved. "
   ]
  },
  {
   "cell_type": "code",
   "execution_count": 10,
   "metadata": {
    "execution": {
     "iopub.execute_input": "2020-09-23T06:52:24.951537Z",
     "iopub.status.busy": "2020-09-23T06:52:24.950882Z",
     "iopub.status.idle": "2020-09-23T06:52:24.954315Z",
     "shell.execute_reply": "2020-09-23T06:52:24.954817Z"
    }
   },
   "outputs": [],
   "source": [
    "run_id_n = t_numeric_run_ids[0]\n",
    "run_id_a = t_array_run_ids[0]"
   ]
  },
  {
   "cell_type": "code",
   "execution_count": 11,
   "metadata": {
    "execution": {
     "iopub.execute_input": "2020-09-23T06:52:24.958468Z",
     "iopub.status.busy": "2020-09-23T06:52:24.957910Z",
     "iopub.status.idle": "2020-09-23T06:52:24.971290Z",
     "shell.execute_reply": "2020-09-23T06:52:24.970714Z"
    },
    "scrolled": true
   },
   "outputs": [
    {
     "data": {
      "text/plain": [
       "{'x1': {'x1': array([7.34655665e-02, 7.34655665e-02, 7.60330093e-01, 7.60330093e-01,\n",
       "         9.50156850e-01, 9.50156850e-01, 3.48930190e-01, 3.48930190e-01,\n",
       "         3.03903527e-01, 3.03903527e-01, 4.98196092e-01, 4.98196092e-01,\n",
       "         2.88541147e-01, 2.88541147e-01, 1.71864150e-01, 1.71864150e-01,\n",
       "         1.80523643e-01, 1.80523643e-01, 5.52337955e-01, 5.52337955e-01,\n",
       "         5.40025940e-02, 5.40025940e-02, 4.80715273e-01, 4.80715273e-01,\n",
       "         6.66767203e-01, 6.66767203e-01, 6.55307471e-01, 6.55307471e-01,\n",
       "         4.02131918e-01, 4.02131918e-01, 6.00891081e-01, 6.00891081e-01,\n",
       "         3.33966645e-02, 3.33966645e-02, 4.11742866e-01, 4.11742866e-01,\n",
       "         8.15607251e-01, 8.15607251e-01, 1.49502707e-01, 1.49502707e-01,\n",
       "         3.91206776e-01, 3.91206776e-01, 2.28604654e-01, 2.28604654e-01,\n",
       "         2.94648532e-01, 2.94648532e-01, 9.07033377e-01, 9.07033377e-01,\n",
       "         5.80621665e-01, 5.80621665e-01, 5.62163648e-01, 5.62163648e-01,\n",
       "         3.49004945e-01, 3.49004945e-01, 7.00095582e-01, 7.00095582e-01,\n",
       "         6.80182427e-01, 6.80182427e-01, 1.61979191e-01, 1.61979191e-01,\n",
       "         4.56267745e-04, 4.56267745e-04, 1.00207387e-01, 1.00207387e-01,\n",
       "         6.82473014e-02, 6.82473014e-02, 2.47556260e-01, 2.47556260e-01,\n",
       "         3.87002674e-02, 3.87002674e-02, 4.94043317e-01, 4.94043317e-01,\n",
       "         3.40078968e-01, 3.40078968e-01, 7.26874901e-01, 7.26874901e-01,\n",
       "         1.33324227e-01, 1.33324227e-01, 7.42892250e-01, 7.42892250e-01,\n",
       "         1.26723724e-01, 1.26723724e-01, 5.76097760e-01, 5.76097760e-01,\n",
       "         4.49584529e-01, 4.49584529e-01, 9.17947396e-01, 9.17947396e-01,\n",
       "         7.24320555e-01, 7.24320555e-01, 2.47307947e-01, 2.47307947e-01,\n",
       "         3.61066111e-01, 3.61066111e-01, 8.57042769e-01, 8.57042769e-01,\n",
       "         2.44350674e-01, 2.44350674e-01, 4.05052754e-01, 4.05052754e-01,\n",
       "         3.21700631e-01, 3.21700631e-01, 8.71340775e-02, 8.71340775e-02,\n",
       "         8.78785288e-01, 8.78785288e-01, 8.03067729e-03, 8.03067729e-03,\n",
       "         6.79651444e-01, 6.79651444e-01, 4.95985976e-01, 4.95985976e-01,\n",
       "         6.94976096e-02, 6.94976096e-02, 4.60121921e-01, 4.60121921e-01,\n",
       "         6.06528545e-01, 6.06528545e-01, 3.39107647e-01, 3.39107647e-01,\n",
       "         7.57524273e-02, 7.57524273e-02, 5.11230874e-01, 5.11230874e-01,\n",
       "         3.80229555e-01, 3.80229555e-01, 1.90755199e-01, 1.90755199e-01,\n",
       "         3.18509790e-01, 3.18509790e-01, 2.46723251e-01, 2.46723251e-01,\n",
       "         1.98259344e-01, 1.98259344e-01, 4.42565720e-01, 4.42565720e-01,\n",
       "         5.58486258e-02, 5.58486258e-02, 2.67530287e-01, 2.67530287e-01,\n",
       "         9.37503001e-01, 9.37503001e-01, 8.50934806e-01, 8.50934806e-01,\n",
       "         1.07787782e-01, 1.07787782e-01, 1.14078315e-01, 1.14078315e-01,\n",
       "         3.18771815e-01, 3.18771815e-01, 4.42520976e-01, 4.42520976e-01,\n",
       "         4.82240823e-01, 4.82240823e-01, 4.66085405e-02, 4.66085405e-02,\n",
       "         6.85381022e-01, 6.85381022e-01, 8.88155853e-01, 8.88155853e-01,\n",
       "         1.62647416e-01, 1.62647416e-01, 1.53916960e-01, 1.53916960e-01,\n",
       "         7.48940990e-01, 7.48940990e-01, 2.43925458e-01, 2.43925458e-01,\n",
       "         6.03945031e-01, 6.03945031e-01, 4.60447733e-01, 4.60447733e-01,\n",
       "         8.71482136e-01, 8.71482136e-01, 8.47069829e-01, 8.47069829e-01,\n",
       "         5.57325559e-02, 5.57325559e-02, 7.11300445e-01, 7.11300445e-01,\n",
       "         8.68305718e-01, 8.68305718e-01, 1.21242735e-01, 1.21242735e-01,\n",
       "         7.17173926e-01, 7.17173926e-01, 1.97463716e-01, 1.97463716e-01,\n",
       "         8.39314183e-01, 8.39314183e-01, 3.39904911e-01, 3.39904911e-01,\n",
       "         5.42764989e-01, 5.42764989e-01, 9.32203679e-01, 9.32203679e-01,\n",
       "         1.19244007e-01, 1.19244007e-01, 2.01832834e-01, 2.01832834e-01])}}"
      ]
     },
     "execution_count": 1,
     "metadata": {},
     "output_type": "execute_result"
    }
   ],
   "source": [
    "ds = load_by_id(run_id_n)\n",
    "ds.get_parameter_data('x1')"
   ]
  },
  {
   "cell_type": "markdown",
   "metadata": {},
   "source": [
    "And a dataset stored as binary arrays"
   ]
  },
  {
   "cell_type": "code",
   "execution_count": 12,
   "metadata": {
    "execution": {
     "iopub.execute_input": "2020-09-23T06:52:24.974814Z",
     "iopub.status.busy": "2020-09-23T06:52:24.974226Z",
     "iopub.status.idle": "2020-09-23T06:52:25.037816Z",
     "shell.execute_reply": "2020-09-23T06:52:25.038305Z"
    },
    "scrolled": true
   },
   "outputs": [
    {
     "data": {
      "text/plain": [
       "{'x1': {'x1': array([[0.32852755],\n",
       "         [0.32852755],\n",
       "         [0.25701142],\n",
       "         [0.25701142],\n",
       "         [0.60045004],\n",
       "         [0.60045004],\n",
       "         [0.34680516],\n",
       "         [0.34680516],\n",
       "         [0.93310425],\n",
       "         [0.93310425],\n",
       "         [0.14352515],\n",
       "         [0.14352515],\n",
       "         [0.00797549],\n",
       "         [0.00797549],\n",
       "         [0.73212264],\n",
       "         [0.73212264],\n",
       "         [0.84097358],\n",
       "         [0.84097358],\n",
       "         [0.4472945 ],\n",
       "         [0.4472945 ],\n",
       "         [0.09947027],\n",
       "         [0.09947027],\n",
       "         [0.89519601],\n",
       "         [0.89519601],\n",
       "         [0.32367333],\n",
       "         [0.32367333],\n",
       "         [0.13247365],\n",
       "         [0.13247365],\n",
       "         [0.1482737 ],\n",
       "         [0.1482737 ],\n",
       "         [0.06414314],\n",
       "         [0.06414314],\n",
       "         [0.74591589],\n",
       "         [0.74591589],\n",
       "         [0.52441358],\n",
       "         [0.52441358],\n",
       "         [0.79970889],\n",
       "         [0.79970889],\n",
       "         [0.83806228],\n",
       "         [0.83806228],\n",
       "         [0.07276217],\n",
       "         [0.07276217],\n",
       "         [0.86773404],\n",
       "         [0.86773404],\n",
       "         [0.33730799],\n",
       "         [0.33730799],\n",
       "         [0.61648461],\n",
       "         [0.61648461],\n",
       "         [0.48841555],\n",
       "         [0.48841555],\n",
       "         [0.38151912],\n",
       "         [0.38151912],\n",
       "         [0.87387669],\n",
       "         [0.87387669],\n",
       "         [0.34099637],\n",
       "         [0.34099637],\n",
       "         [0.14448503],\n",
       "         [0.14448503],\n",
       "         [0.98890802],\n",
       "         [0.98890802],\n",
       "         [0.53117787],\n",
       "         [0.53117787],\n",
       "         [0.24943212],\n",
       "         [0.24943212],\n",
       "         [0.19953813],\n",
       "         [0.19953813],\n",
       "         [0.21419052],\n",
       "         [0.21419052],\n",
       "         [0.32704946],\n",
       "         [0.32704946],\n",
       "         [0.11434729],\n",
       "         [0.11434729],\n",
       "         [0.15579391],\n",
       "         [0.15579391],\n",
       "         [0.88543741],\n",
       "         [0.88543741],\n",
       "         [0.13500569],\n",
       "         [0.13500569],\n",
       "         [0.55285206],\n",
       "         [0.55285206],\n",
       "         [0.85362578],\n",
       "         [0.85362578],\n",
       "         [0.53425306],\n",
       "         [0.53425306],\n",
       "         [0.02069666],\n",
       "         [0.02069666],\n",
       "         [0.98441988],\n",
       "         [0.98441988],\n",
       "         [0.19466615],\n",
       "         [0.19466615],\n",
       "         [0.55009004],\n",
       "         [0.55009004],\n",
       "         [0.92236969],\n",
       "         [0.92236969],\n",
       "         [0.79553977],\n",
       "         [0.79553977],\n",
       "         [0.26987237],\n",
       "         [0.26987237],\n",
       "         [0.57382162],\n",
       "         [0.57382162],\n",
       "         [0.43927139],\n",
       "         [0.43927139],\n",
       "         [0.05876852],\n",
       "         [0.05876852],\n",
       "         [0.8605916 ],\n",
       "         [0.8605916 ],\n",
       "         [0.96828088],\n",
       "         [0.96828088],\n",
       "         [0.29348692],\n",
       "         [0.29348692],\n",
       "         [0.94228406],\n",
       "         [0.94228406],\n",
       "         [0.54563242],\n",
       "         [0.54563242],\n",
       "         [0.01495041],\n",
       "         [0.01495041],\n",
       "         [0.34564663],\n",
       "         [0.34564663],\n",
       "         [0.9451131 ],\n",
       "         [0.9451131 ],\n",
       "         [0.072523  ],\n",
       "         [0.072523  ],\n",
       "         [0.20095939],\n",
       "         [0.20095939],\n",
       "         [0.19697389],\n",
       "         [0.19697389],\n",
       "         [0.70970081],\n",
       "         [0.70970081],\n",
       "         [0.5925407 ],\n",
       "         [0.5925407 ],\n",
       "         [0.79866645],\n",
       "         [0.79866645],\n",
       "         [0.95959698],\n",
       "         [0.95959698],\n",
       "         [0.19409928],\n",
       "         [0.19409928],\n",
       "         [0.24354473],\n",
       "         [0.24354473],\n",
       "         [0.86978018],\n",
       "         [0.86978018],\n",
       "         [0.15333286],\n",
       "         [0.15333286],\n",
       "         [0.71038453],\n",
       "         [0.71038453],\n",
       "         [0.97647892],\n",
       "         [0.97647892],\n",
       "         [0.38715894],\n",
       "         [0.38715894],\n",
       "         [0.3329091 ],\n",
       "         [0.3329091 ],\n",
       "         [0.70551443],\n",
       "         [0.70551443],\n",
       "         [0.12168407],\n",
       "         [0.12168407],\n",
       "         [0.64678122],\n",
       "         [0.64678122],\n",
       "         [0.01393849],\n",
       "         [0.01393849],\n",
       "         [0.41183401],\n",
       "         [0.41183401],\n",
       "         [0.69614508],\n",
       "         [0.69614508],\n",
       "         [0.18912885],\n",
       "         [0.18912885],\n",
       "         [0.02514684],\n",
       "         [0.02514684],\n",
       "         [0.91949276],\n",
       "         [0.91949276],\n",
       "         [0.60465883],\n",
       "         [0.60465883],\n",
       "         [0.07899763],\n",
       "         [0.07899763],\n",
       "         [0.01360842],\n",
       "         [0.01360842],\n",
       "         [0.26354587],\n",
       "         [0.26354587],\n",
       "         [0.23639737],\n",
       "         [0.23639737],\n",
       "         [0.87957015],\n",
       "         [0.87957015],\n",
       "         [0.78565659],\n",
       "         [0.78565659],\n",
       "         [0.09591576],\n",
       "         [0.09591576],\n",
       "         [0.67657971],\n",
       "         [0.67657971],\n",
       "         [0.25453875],\n",
       "         [0.25453875],\n",
       "         [0.20576437],\n",
       "         [0.20576437],\n",
       "         [0.16564721],\n",
       "         [0.16564721],\n",
       "         [0.09985468],\n",
       "         [0.09985468],\n",
       "         [0.71875765],\n",
       "         [0.71875765],\n",
       "         [0.48461444],\n",
       "         [0.48461444],\n",
       "         [0.74102616],\n",
       "         [0.74102616]])}}"
      ]
     },
     "execution_count": 1,
     "metadata": {},
     "output_type": "execute_result"
    }
   ],
   "source": [
    "ds = load_by_id(run_id_a)\n",
    "ds.get_parameter_data('x1')"
   ]
  },
  {
   "cell_type": "code",
   "execution_count": null,
   "metadata": {},
   "outputs": [],
   "source": []
  }
 ],
 "metadata": {
  "kernelspec": {
   "display_name": "Python 3",
   "language": "python",
   "name": "python3"
  },
  "language_info": {
   "codemirror_mode": {
    "name": "ipython",
    "version": 3
   },
   "file_extension": ".py",
   "mimetype": "text/x-python",
   "name": "python",
   "nbconvert_exporter": "python",
   "pygments_lexer": "ipython3",
   "version": "3.7.7"
  },
  "nbsphinx": {
   "timeout": 600
  },
  "toc": {
   "base_numbering": 1,
   "nav_menu": {},
   "number_sections": true,
   "sideBar": true,
   "skip_h1_title": false,
   "title_cell": "Table of Contents",
   "title_sidebar": "Contents",
   "toc_cell": false,
   "toc_position": {},
   "toc_section_display": true,
   "toc_window_display": false
  },
  "varInspector": {
   "cols": {
    "lenName": 16,
    "lenType": 16,
    "lenVar": 40
   },
   "kernels_config": {
    "python": {
     "delete_cmd_postfix": "",
     "delete_cmd_prefix": "del ",
     "library": "var_list.py",
     "varRefreshCmd": "print(var_dic_list())"
    },
    "r": {
     "delete_cmd_postfix": ") ",
     "delete_cmd_prefix": "rm(",
     "library": "var_list.r",
     "varRefreshCmd": "cat(var_dic_list()) "
    }
   },
   "types_to_exclude": [
    "module",
    "function",
    "builtin_function_or_method",
    "instance",
    "_Feature"
   ],
   "window_display": false
  }
 },
 "nbformat": 4,
 "nbformat_minor": 2
}
