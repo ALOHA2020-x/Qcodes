{
 "cells": [
  {
   "cell_type": "markdown",
   "metadata": {},
   "source": [
    "# DataSet Performance\n",
    "\n",
    "This notebook shows the trade-off between inserting data into a database row-by-row and as binary blobs. Inserting the data row-by-row means that we have direct access to all the data and may perform queries directly on the values of the data. On the other hand, as we shall see, this is much slower than inserting the data directly as binary blobs."
   ]
  },
  {
   "cell_type": "markdown",
   "metadata": {},
   "source": [
    "First, we choose a new location for the database to ensure that we don't add a bunch of benchmarking data to the default one."
   ]
  },
  {
   "cell_type": "code",
   "execution_count": 1,
   "metadata": {
    "execution": {
     "iopub.execute_input": "2021-02-18T06:22:33.557333Z",
     "iopub.status.busy": "2021-02-18T06:22:33.556323Z",
     "iopub.status.idle": "2021-02-18T06:22:34.389527Z",
     "shell.execute_reply": "2021-02-18T06:22:34.388419Z"
    }
   },
   "outputs": [
    {
     "name": "stdout",
     "output_type": "stream",
     "text": [
      "Logging hadn't been started.\n",
      "Activating auto-logging. Current session state plus future input saved.\n",
      "Filename       : /home/runner/.qcodes/logs/command_history.log\n",
      "Mode           : append\n",
      "Output logging : True\n",
      "Raw input log  : False\n",
      "Timestamping   : True\n",
      "State          : active\n"
     ]
    },
    {
     "name": "stdout",
     "output_type": "stream",
     "text": [
      "Qcodes Logfile : /home/runner/.qcodes/logs/210218-3866-qcodes.log\n"
     ]
    }
   ],
   "source": [
    "import os\n",
    "cwd = os.getcwd()\n",
    "import qcodes as qc\n",
    "qc.config[\"core\"][\"db_location\"] = os.path.join(cwd, 'testing.db')\n"
   ]
  },
  {
   "cell_type": "code",
   "execution_count": 2,
   "metadata": {
    "execution": {
     "iopub.execute_input": "2021-02-18T06:22:34.396203Z",
     "iopub.status.busy": "2021-02-18T06:22:34.394927Z",
     "iopub.status.idle": "2021-02-18T06:22:34.581337Z",
     "shell.execute_reply": "2021-02-18T06:22:34.579906Z"
    }
   },
   "outputs": [],
   "source": [
    "%matplotlib inline\n",
    "import time\n",
    "import matplotlib.pyplot as plt\n",
    "import numpy as np\n",
    "\n",
    "import qcodes as qc\n",
    "from qcodes.instrument.parameter import ManualParameter\n",
    "from qcodes.dataset.experiment_container import (Experiment,\n",
    "                                                 load_last_experiment,\n",
    "                                                 new_experiment)\n",
    "from qcodes.dataset.sqlite.database import initialise_database\n",
    "from qcodes import load_or_create_experiment\n",
    "from qcodes.dataset.measurements import Measurement"
   ]
  },
  {
   "cell_type": "code",
   "execution_count": 3,
   "metadata": {
    "execution": {
     "iopub.execute_input": "2021-02-18T06:22:34.585260Z",
     "iopub.status.busy": "2021-02-18T06:22:34.584634Z",
     "iopub.status.idle": "2021-02-18T06:22:34.692615Z",
     "shell.execute_reply": "2021-02-18T06:22:34.693075Z"
    }
   },
   "outputs": [
    {
     "name": "stdout",
     "output_type": "stream",
     "text": [
      "\r",
      "0it [00:00, ?it/s]"
     ]
    },
    {
     "name": "stdout",
     "output_type": "stream",
     "text": [
      "\r",
      "Upgrading database; v0 -> v1: : 0it [00:00, ?it/s]"
     ]
    },
    {
     "name": "stdout",
     "output_type": "stream",
     "text": [
      "\r",
      "Upgrading database; v0 -> v1: : 0it [00:00, ?it/s]"
     ]
    },
    {
     "name": "stdout",
     "output_type": "stream",
     "text": [
      "\n",
      "\r",
      "  0%|          | 0/1 [00:00<?, ?it/s]"
     ]
    },
    {
     "name": "stdout",
     "output_type": "stream",
     "text": [
      "\r",
      "Upgrading database; v1 -> v2:   0%|          | 0/1 [00:00<?, ?it/s]"
     ]
    },
    {
     "name": "stdout",
     "output_type": "stream",
     "text": [
      "\r",
      "Upgrading database; v1 -> v2: 100%|██████████| 1/1 [00:00<00:00, 573.15it/s]"
     ]
    },
    {
     "name": "stdout",
     "output_type": "stream",
     "text": [
      "\n",
      "\r",
      "0it [00:00, ?it/s]"
     ]
    },
    {
     "name": "stdout",
     "output_type": "stream",
     "text": [
      "\r",
      "Upgrading database; v2 -> v3: : 0it [00:00, ?it/s]"
     ]
    },
    {
     "name": "stdout",
     "output_type": "stream",
     "text": [
      "\r",
      "Upgrading database; v2 -> v3: : 0it [00:00, ?it/s]"
     ]
    },
    {
     "name": "stdout",
     "output_type": "stream",
     "text": [
      "\n",
      "\r",
      "0it [00:00, ?it/s]"
     ]
    },
    {
     "name": "stdout",
     "output_type": "stream",
     "text": [
      "\r",
      "Upgrading database; v3 -> v4: : 0it [00:00, ?it/s]"
     ]
    },
    {
     "name": "stdout",
     "output_type": "stream",
     "text": [
      "\r",
      "Upgrading database; v3 -> v4: : 0it [00:00, ?it/s]"
     ]
    },
    {
     "name": "stdout",
     "output_type": "stream",
     "text": [
      "\n",
      "\r",
      "  0%|          | 0/1 [00:00<?, ?it/s]"
     ]
    },
    {
     "name": "stdout",
     "output_type": "stream",
     "text": [
      "\r",
      "Upgrading database; v4 -> v5:   0%|          | 0/1 [00:00<?, ?it/s]"
     ]
    },
    {
     "name": "stdout",
     "output_type": "stream",
     "text": [
      "\r",
      "Upgrading database; v4 -> v5: 100%|██████████| 1/1 [00:00<00:00, 401.10it/s]"
     ]
    },
    {
     "name": "stdout",
     "output_type": "stream",
     "text": [
      "\n",
      "\r",
      "0it [00:00, ?it/s]"
     ]
    },
    {
     "name": "stdout",
     "output_type": "stream",
     "text": [
      "\r",
      "Upgrading database; v5 -> v6: : 0it [00:00, ?it/s]"
     ]
    },
    {
     "name": "stdout",
     "output_type": "stream",
     "text": [
      "\r",
      "Upgrading database; v5 -> v6: : 0it [00:00, ?it/s]"
     ]
    },
    {
     "name": "stdout",
     "output_type": "stream",
     "text": [
      "\n",
      "\r",
      "  0%|          | 0/1 [00:00<?, ?it/s]"
     ]
    },
    {
     "name": "stdout",
     "output_type": "stream",
     "text": [
      "\r",
      "Upgrading database; v6 -> v7:   0%|          | 0/1 [00:00<?, ?it/s]"
     ]
    },
    {
     "name": "stdout",
     "output_type": "stream",
     "text": [
      "\r",
      "Upgrading database; v6 -> v7: 100%|██████████| 1/1 [00:00<00:00, 523.70it/s]"
     ]
    },
    {
     "name": "stdout",
     "output_type": "stream",
     "text": [
      "\n",
      "\r",
      "  0%|          | 0/1 [00:00<?, ?it/s]"
     ]
    },
    {
     "name": "stdout",
     "output_type": "stream",
     "text": [
      "\r",
      "Upgrading database; v7 -> v8:   0%|          | 0/1 [00:00<?, ?it/s]"
     ]
    },
    {
     "name": "stdout",
     "output_type": "stream",
     "text": [
      "\r",
      "Upgrading database; v7 -> v8: 100%|██████████| 1/1 [00:00<00:00, 452.61it/s]"
     ]
    },
    {
     "name": "stdout",
     "output_type": "stream",
     "text": [
      "\n",
      "\r",
      "  0%|          | 0/1 [00:00<?, ?it/s]"
     ]
    },
    {
     "name": "stdout",
     "output_type": "stream",
     "text": [
      "\r",
      "Upgrading database; v8 -> v9:   0%|          | 0/1 [00:00<?, ?it/s]"
     ]
    },
    {
     "name": "stdout",
     "output_type": "stream",
     "text": [
      "\r",
      "Upgrading database; v8 -> v9: 100%|██████████| 1/1 [00:00<00:00, 1133.90it/s]"
     ]
    },
    {
     "name": "stdout",
     "output_type": "stream",
     "text": [
      "\n"
     ]
    }
   ],
   "source": [
    "initialise_database()\n",
    "exp = load_or_create_experiment(experiment_name='tutorial_exp', sample_name=\"no sample\")"
   ]
  },
  {
   "cell_type": "markdown",
   "metadata": {},
   "source": [
    "Here, we define a simple function to benchmark the time it takes to insert n points with either numeric or array data type.\n",
    "We will compare both the time used to call ``add_result`` and the time used for the full measurement."
   ]
  },
  {
   "cell_type": "code",
   "execution_count": 4,
   "metadata": {
    "execution": {
     "iopub.execute_input": "2021-02-18T06:22:34.702522Z",
     "iopub.status.busy": "2021-02-18T06:22:34.701195Z",
     "iopub.status.idle": "2021-02-18T06:22:34.703170Z",
     "shell.execute_reply": "2021-02-18T06:22:34.703636Z"
    }
   },
   "outputs": [],
   "source": [
    "def insert_data(paramtype, npoints, nreps=1):\n",
    "\n",
    "    meas = Measurement(exp=exp)\n",
    "\n",
    "    x1 = ManualParameter('x1')\n",
    "    x2 = ManualParameter('x2')\n",
    "    x3 = ManualParameter('x3')\n",
    "    y1 = ManualParameter('y1')\n",
    "    y2 = ManualParameter('y2')\n",
    "\n",
    "    meas.register_parameter(x1, paramtype=paramtype)\n",
    "    meas.register_parameter(x2, paramtype=paramtype)\n",
    "    meas.register_parameter(x3, paramtype=paramtype)\n",
    "    meas.register_parameter(y1, setpoints=[x1, x2, x3],\n",
    "                            paramtype=paramtype)\n",
    "    meas.register_parameter(y2, setpoints=[x1, x2, x3],\n",
    "                            paramtype=paramtype)\n",
    "    start = time.perf_counter()\n",
    "    with meas.run() as datasaver:\n",
    "        start_adding = time.perf_counter()\n",
    "        for i in range(nreps):\n",
    "            datasaver.add_result((x1, np.random.rand(npoints)),\n",
    "                                 (x2, np.random.rand(npoints)),\n",
    "                                 (x3, np.random.rand(npoints)),\n",
    "                                 (y1, np.random.rand(npoints)),\n",
    "                                 (y2, np.random.rand(npoints)))\n",
    "        stop_adding = time.perf_counter()\n",
    "        run_id = datasaver.run_id\n",
    "    stop = time.perf_counter()\n",
    "    tot_time = stop - start\n",
    "    add_time = stop_adding - start_adding\n",
    "    return tot_time, add_time, run_id"
   ]
  },
  {
   "cell_type": "markdown",
   "metadata": {},
   "source": [
    "## Comparison between numeric/array data and binary blob"
   ]
  },
  {
   "cell_type": "markdown",
   "metadata": {},
   "source": [
    "### Case1: Short experiment time"
   ]
  },
  {
   "cell_type": "code",
   "execution_count": 5,
   "metadata": {
    "execution": {
     "iopub.execute_input": "2021-02-18T06:22:34.710563Z",
     "iopub.status.busy": "2021-02-18T06:22:34.709931Z",
     "iopub.status.idle": "2021-02-18T06:22:35.486974Z",
     "shell.execute_reply": "2021-02-18T06:22:35.486497Z"
    }
   },
   "outputs": [
    {
     "name": "stdout",
     "output_type": "stream",
     "text": [
      "Starting experimental run with id: 1. \n",
      "Starting experimental run with id: 2. \n",
      "Starting experimental run with id: 3. \n",
      "Starting experimental run with id: 4. \n",
      "Starting experimental run with id: 5. \n"
     ]
    },
    {
     "name": "stdout",
     "output_type": "stream",
     "text": [
      "Starting experimental run with id: 6. "
     ]
    },
    {
     "name": "stdout",
     "output_type": "stream",
     "text": [
      "\n"
     ]
    },
    {
     "name": "stdout",
     "output_type": "stream",
     "text": [
      "Starting experimental run with id: 7. \n"
     ]
    },
    {
     "name": "stdout",
     "output_type": "stream",
     "text": [
      "Starting experimental run with id: 8. \n",
      "Starting experimental run with id: 9. \n"
     ]
    },
    {
     "name": "stdout",
     "output_type": "stream",
     "text": [
      "Starting experimental run with id: 10. \n",
      "Starting experimental run with id: 11. \n"
     ]
    },
    {
     "name": "stdout",
     "output_type": "stream",
     "text": [
      "Starting experimental run with id: 12. \n",
      "Starting experimental run with id: 13. \n"
     ]
    },
    {
     "name": "stdout",
     "output_type": "stream",
     "text": [
      "Starting experimental run with id: 14. \n"
     ]
    }
   ],
   "source": [
    "sizes = [1,500,1000,2000,3000,4000,5000]\n",
    "t_numeric = []\n",
    "t_numeric_add = []\n",
    "t_array = []\n",
    "t_array_add = []\n",
    "for size in sizes:\n",
    "    tn, tna, run_id_n =  insert_data('numeric', size)\n",
    "    t_numeric.append(tn)\n",
    "    t_numeric_add.append(tna)\n",
    "\n",
    "    ta, taa, run_id_a =  insert_data('array', size)\n",
    "    t_array.append(ta)\n",
    "    t_array_add.append(taa)"
   ]
  },
  {
   "cell_type": "code",
   "execution_count": 6,
   "metadata": {
    "execution": {
     "iopub.execute_input": "2021-02-18T06:22:35.504863Z",
     "iopub.status.busy": "2021-02-18T06:22:35.504248Z",
     "iopub.status.idle": "2021-02-18T06:22:35.685878Z",
     "shell.execute_reply": "2021-02-18T06:22:35.686758Z"
    }
   },
   "outputs": [
    {
     "data": {
      "image/png": "[encoded data removed]",
      "text/plain": [
       "<Figure size 432x288 with 1 Axes>"
      ]
     },
     "metadata": {
      "needs_background": "light"
     },
     "output_type": "display_data"
    }
   ],
   "source": [
    "fig, ax = plt.subplots(1,1)\n",
    "ax.plot(sizes, t_numeric, 'o-', label='Inserting row-by-row')\n",
    "ax.plot(sizes, t_numeric_add, 'o-', label='Inserting row-by-row: add_result only')\n",
    "ax.plot(sizes, t_array, 'd-', label='Inserting as binary blob')\n",
    "ax.plot(sizes, t_array_add, 'd-', label='Inserting as binary blob: add_result only')\n",
    "ax.legend()\n",
    "ax.set_xlabel('Array length')\n",
    "ax.set_ylabel('Time (s)')\n",
    "fig.tight_layout()"
   ]
  },
  {
   "cell_type": "markdown",
   "metadata": {},
   "source": [
    "As shown in the latter figure, the time to setup and and close the experiment is approximately 0.4 sec. In case of small array sizes, the difference between inserting values of data as arrays and inserting them row-by-row is relatively unimportant. At larger array sizes, i.e. above 10000 points, the cost of writing data as individual datapoints starts to become important.\n"
   ]
  },
  {
   "cell_type": "markdown",
   "metadata": {},
   "source": [
    "### Case2: Long experiment time "
   ]
  },
  {
   "cell_type": "code",
   "execution_count": 7,
   "metadata": {
    "execution": {
     "iopub.execute_input": "2021-02-18T06:22:35.694791Z",
     "iopub.status.busy": "2021-02-18T06:22:35.694129Z",
     "iopub.status.idle": "2021-02-18T06:23:32.746290Z",
     "shell.execute_reply": "2021-02-18T06:23:32.744669Z"
    }
   },
   "outputs": [
    {
     "name": "stdout",
     "output_type": "stream",
     "text": [
      "Starting experimental run with id: 15. \n",
      "Starting experimental run with id: 16. \n",
      "Starting experimental run with id: 17. \n"
     ]
    },
    {
     "name": "stdout",
     "output_type": "stream",
     "text": [
      "Starting experimental run with id: 18. \n",
      "Starting experimental run with id: 19. \n"
     ]
    },
    {
     "name": "stdout",
     "output_type": "stream",
     "text": [
      "Starting experimental run with id: 20. \n"
     ]
    },
    {
     "name": "stdout",
     "output_type": "stream",
     "text": [
      "Starting experimental run with id: 21. \n"
     ]
    },
    {
     "name": "stdout",
     "output_type": "stream",
     "text": [
      "Starting experimental run with id: 22. \n"
     ]
    },
    {
     "name": "stdout",
     "output_type": "stream",
     "text": [
      "Starting experimental run with id: 23. \n"
     ]
    },
    {
     "name": "stdout",
     "output_type": "stream",
     "text": [
      "Starting experimental run with id: 24. \n"
     ]
    },
    {
     "name": "stdout",
     "output_type": "stream",
     "text": [
      "Starting experimental run with id: 25. \n"
     ]
    },
    {
     "name": "stdout",
     "output_type": "stream",
     "text": [
      "Starting experimental run with id: 26. \n"
     ]
    },
    {
     "name": "stdout",
     "output_type": "stream",
     "text": [
      "Starting experimental run with id: 27. \n"
     ]
    },
    {
     "name": "stdout",
     "output_type": "stream",
     "text": [
      "Starting experimental run with id: 28. \n"
     ]
    }
   ],
   "source": [
    "sizes = [1,500,1000,2000,3000,4000,5000]\n",
    "nreps = 100\n",
    "t_numeric = []\n",
    "t_numeric_add = []\n",
    "t_numeric_run_ids = []\n",
    "t_array = []\n",
    "t_array_add = []\n",
    "t_array_run_ids = []\n",
    "for size in sizes:\n",
    "    tn, tna, run_id_n =  insert_data('numeric', size, nreps=nreps)\n",
    "    t_numeric.append(tn)\n",
    "    t_numeric_add.append(tna)\n",
    "    t_numeric_run_ids.append(run_id_n)\n",
    "\n",
    "    ta, taa, run_id_a =  insert_data('array', size, nreps=nreps)\n",
    "    t_array.append(ta)\n",
    "    t_array_add.append(taa)\n",
    "    t_array_run_ids.append(run_id_a)"
   ]
  },
  {
   "cell_type": "code",
   "execution_count": 8,
   "metadata": {
    "execution": {
     "iopub.execute_input": "2021-02-18T06:23:32.787919Z",
     "iopub.status.busy": "2021-02-18T06:23:32.752563Z",
     "iopub.status.idle": "2021-02-18T06:23:32.954076Z",
     "shell.execute_reply": "2021-02-18T06:23:32.954605Z"
    },
    "scrolled": true
   },
   "outputs": [
    {
     "data": {
      "image/png": "[encoded data removed]",
      "text/plain": [
       "<Figure size 432x288 with 1 Axes>"
      ]
     },
     "metadata": {
      "needs_background": "light"
     },
     "output_type": "display_data"
    }
   ],
   "source": [
    "fig, ax = plt.subplots(1,1)\n",
    "ax.plot(sizes, t_numeric, 'o-', label='Inserting row-by-row')\n",
    "ax.plot(sizes, t_numeric_add, 'o-', label='Inserting row-by-row: add_result only')\n",
    "ax.plot(sizes, t_array, 'd-', label='Inserting as binary blob')\n",
    "ax.plot(sizes, t_array_add, 'd-', label='Inserting as binary blob: add_result only')\n",
    "ax.legend()\n",
    "ax.set_xlabel('Array length')\n",
    "ax.set_ylabel('Time (s)')\n",
    "fig.tight_layout()"
   ]
  },
  {
   "cell_type": "markdown",
   "metadata": {},
   "source": [
    "However, as we increase the length of the experiment, as seen here by repeating the insertion 100 times, we see a big difference between inserting values of the data row-by-row and inserting it as a binary blob."
   ]
  },
  {
   "cell_type": "markdown",
   "metadata": {},
   "source": [
    "## Loading the data "
   ]
  },
  {
   "cell_type": "code",
   "execution_count": 9,
   "metadata": {
    "execution": {
     "iopub.execute_input": "2021-02-18T06:23:32.958921Z",
     "iopub.status.busy": "2021-02-18T06:23:32.958327Z",
     "iopub.status.idle": "2021-02-18T06:23:32.962720Z",
     "shell.execute_reply": "2021-02-18T06:23:32.962216Z"
    }
   },
   "outputs": [],
   "source": [
    "from qcodes.dataset.data_set import load_by_id\n",
    "from qcodes.dataset.data_export import get_data_by_id"
   ]
  },
  {
   "cell_type": "markdown",
   "metadata": {},
   "source": [
    "As usual you can load the data by using the ``load_by_id`` function but you will notice that the different storage methods\n",
    "are reflected in shape of the data as it is retrieved. "
   ]
  },
  {
   "cell_type": "code",
   "execution_count": 10,
   "metadata": {
    "execution": {
     "iopub.execute_input": "2021-02-18T06:23:32.967927Z",
     "iopub.status.busy": "2021-02-18T06:23:32.966621Z",
     "iopub.status.idle": "2021-02-18T06:23:32.968600Z",
     "shell.execute_reply": "2021-02-18T06:23:32.969113Z"
    }
   },
   "outputs": [],
   "source": [
    "run_id_n = t_numeric_run_ids[0]\n",
    "run_id_a = t_array_run_ids[0]"
   ]
  },
  {
   "cell_type": "code",
   "execution_count": 11,
   "metadata": {
    "execution": {
     "iopub.execute_input": "2021-02-18T06:23:32.972548Z",
     "iopub.status.busy": "2021-02-18T06:23:32.971960Z",
     "iopub.status.idle": "2021-02-18T06:23:32.981201Z",
     "shell.execute_reply": "2021-02-18T06:23:32.981659Z"
    },
    "scrolled": true
   },
   "outputs": [
    {
     "data": {
      "text/plain": [
       "{'x1': {'x1': array([0.86872016, 0.86872016, 0.22057753, 0.22057753, 0.01156167,\n",
       "         0.01156167, 0.76330562, 0.76330562, 0.14264435, 0.14264435,\n",
       "         0.45818752, 0.45818752, 0.49183964, 0.49183964, 0.56743331,\n",
       "         0.56743331, 0.45886147, 0.45886147, 0.14476891, 0.14476891,\n",
       "         0.17733972, 0.17733972, 0.16247839, 0.16247839, 0.08682442,\n",
       "         0.08682442, 0.23303219, 0.23303219, 0.44917742, 0.44917742,\n",
       "         0.16358106, 0.16358106, 0.9620443 , 0.9620443 , 0.78069539,\n",
       "         0.78069539, 0.92343644, 0.92343644, 0.04436319, 0.04436319,\n",
       "         0.29204194, 0.29204194, 0.73891049, 0.73891049, 0.7539979 ,\n",
       "         0.7539979 , 0.78369919, 0.78369919, 0.17507793, 0.17507793,\n",
       "         0.36461118, 0.36461118, 0.84421604, 0.84421604, 0.12816463,\n",
       "         0.12816463, 0.68786431, 0.68786431, 0.40604998, 0.40604998,\n",
       "         0.90582344, 0.90582344, 0.12441972, 0.12441972, 0.5395695 ,\n",
       "         0.5395695 , 0.33997727, 0.33997727, 0.27080047, 0.27080047,\n",
       "         0.60979222, 0.60979222, 0.67891123, 0.67891123, 0.44683706,\n",
       "         0.44683706, 0.55897433, 0.55897433, 0.43890221, 0.43890221,\n",
       "         0.9980897 , 0.9980897 , 0.30570496, 0.30570496, 0.06416535,\n",
       "         0.06416535, 0.47883951, 0.47883951, 0.77817589, 0.77817589,\n",
       "         0.80479388, 0.80479388, 0.97807059, 0.97807059, 0.12196961,\n",
       "         0.12196961, 0.66855303, 0.66855303, 0.10499125, 0.10499125,\n",
       "         0.69560661, 0.69560661, 0.61800522, 0.61800522, 0.71773226,\n",
       "         0.71773226, 0.28774323, 0.28774323, 0.96732857, 0.96732857,\n",
       "         0.02560562, 0.02560562, 0.65385115, 0.65385115, 0.70271933,\n",
       "         0.70271933, 0.08317775, 0.08317775, 0.55997925, 0.55997925,\n",
       "         0.60629522, 0.60629522, 0.89108643, 0.89108643, 0.34245361,\n",
       "         0.34245361, 0.52003918, 0.52003918, 0.84016779, 0.84016779,\n",
       "         0.59064557, 0.59064557, 0.89443291, 0.89443291, 0.06137332,\n",
       "         0.06137332, 0.64223363, 0.64223363, 0.59027112, 0.59027112,\n",
       "         0.38511032, 0.38511032, 0.13774317, 0.13774317, 0.53689977,\n",
       "         0.53689977, 0.68311756, 0.68311756, 0.49344385, 0.49344385,\n",
       "         0.49638691, 0.49638691, 0.66284226, 0.66284226, 0.80149   ,\n",
       "         0.80149   , 0.13649581, 0.13649581, 0.88454277, 0.88454277,\n",
       "         0.6439891 , 0.6439891 , 0.04146016, 0.04146016, 0.20672792,\n",
       "         0.20672792, 0.20708755, 0.20708755, 0.51099105, 0.51099105,\n",
       "         0.51121602, 0.51121602, 0.45729977, 0.45729977, 0.16298275,\n",
       "         0.16298275, 0.99927598, 0.99927598, 0.70418507, 0.70418507,\n",
       "         0.88223571, 0.88223571, 0.47444015, 0.47444015, 0.88397257,\n",
       "         0.88397257, 0.12297551, 0.12297551, 0.91471861, 0.91471861,\n",
       "         0.4272122 , 0.4272122 , 0.0692138 , 0.0692138 , 0.8602001 ,\n",
       "         0.8602001 , 0.95163912, 0.95163912, 0.98129445, 0.98129445])}}"
      ]
     },
     "execution_count": 1,
     "metadata": {},
     "output_type": "execute_result"
    }
   ],
   "source": [
    "ds = load_by_id(run_id_n)\n",
    "ds.get_parameter_data('x1')"
   ]
  },
  {
   "cell_type": "markdown",
   "metadata": {},
   "source": [
    "And a dataset stored as binary arrays"
   ]
  },
  {
   "cell_type": "code",
   "execution_count": 12,
   "metadata": {
    "execution": {
     "iopub.execute_input": "2021-02-18T06:23:32.985254Z",
     "iopub.status.busy": "2021-02-18T06:23:32.984652Z",
     "iopub.status.idle": "2021-02-18T06:23:33.041998Z",
     "shell.execute_reply": "2021-02-18T06:23:33.042469Z"
    },
    "scrolled": true
   },
   "outputs": [
    {
     "data": {
      "text/plain": [
       "{'x1': {'x1': array([[0.54475498],\n",
       "         [0.54475498],\n",
       "         [0.66080157],\n",
       "         [0.66080157],\n",
       "         [0.78471128],\n",
       "         [0.78471128],\n",
       "         [0.51225402],\n",
       "         [0.51225402],\n",
       "         [0.05851919],\n",
       "         [0.05851919],\n",
       "         [0.61513999],\n",
       "         [0.61513999],\n",
       "         [0.08907497],\n",
       "         [0.08907497],\n",
       "         [0.03807751],\n",
       "         [0.03807751],\n",
       "         [0.00522342],\n",
       "         [0.00522342],\n",
       "         [0.52077953],\n",
       "         [0.52077953],\n",
       "         [0.15474988],\n",
       "         [0.15474988],\n",
       "         [0.1733148 ],\n",
       "         [0.1733148 ],\n",
       "         [0.52138748],\n",
       "         [0.52138748],\n",
       "         [0.78207606],\n",
       "         [0.78207606],\n",
       "         [0.78580481],\n",
       "         [0.78580481],\n",
       "         [0.45275693],\n",
       "         [0.45275693],\n",
       "         [0.20485331],\n",
       "         [0.20485331],\n",
       "         [0.46529221],\n",
       "         [0.46529221],\n",
       "         [0.22592562],\n",
       "         [0.22592562],\n",
       "         [0.47942163],\n",
       "         [0.47942163],\n",
       "         [0.57686339],\n",
       "         [0.57686339],\n",
       "         [0.75608187],\n",
       "         [0.75608187],\n",
       "         [0.67014254],\n",
       "         [0.67014254],\n",
       "         [0.38331375],\n",
       "         [0.38331375],\n",
       "         [0.72823135],\n",
       "         [0.72823135],\n",
       "         [0.04247691],\n",
       "         [0.04247691],\n",
       "         [0.07950965],\n",
       "         [0.07950965],\n",
       "         [0.86525472],\n",
       "         [0.86525472],\n",
       "         [0.72243957],\n",
       "         [0.72243957],\n",
       "         [0.397543  ],\n",
       "         [0.397543  ],\n",
       "         [0.46770354],\n",
       "         [0.46770354],\n",
       "         [0.14849956],\n",
       "         [0.14849956],\n",
       "         [0.88118675],\n",
       "         [0.88118675],\n",
       "         [0.60140517],\n",
       "         [0.60140517],\n",
       "         [0.20803132],\n",
       "         [0.20803132],\n",
       "         [0.98401606],\n",
       "         [0.98401606],\n",
       "         [0.48093706],\n",
       "         [0.48093706],\n",
       "         [0.68676547],\n",
       "         [0.68676547],\n",
       "         [0.0661813 ],\n",
       "         [0.0661813 ],\n",
       "         [0.71420895],\n",
       "         [0.71420895],\n",
       "         [0.98603255],\n",
       "         [0.98603255],\n",
       "         [0.187412  ],\n",
       "         [0.187412  ],\n",
       "         [0.05915931],\n",
       "         [0.05915931],\n",
       "         [0.54648498],\n",
       "         [0.54648498],\n",
       "         [0.54332568],\n",
       "         [0.54332568],\n",
       "         [0.49754322],\n",
       "         [0.49754322],\n",
       "         [0.46003429],\n",
       "         [0.46003429],\n",
       "         [0.37307646],\n",
       "         [0.37307646],\n",
       "         [0.8173584 ],\n",
       "         [0.8173584 ],\n",
       "         [0.00448096],\n",
       "         [0.00448096],\n",
       "         [0.54324704],\n",
       "         [0.54324704],\n",
       "         [0.49877703],\n",
       "         [0.49877703],\n",
       "         [0.41461844],\n",
       "         [0.41461844],\n",
       "         [0.98271171],\n",
       "         [0.98271171],\n",
       "         [0.47175645],\n",
       "         [0.47175645],\n",
       "         [0.57304748],\n",
       "         [0.57304748],\n",
       "         [0.34807184],\n",
       "         [0.34807184],\n",
       "         [0.58660282],\n",
       "         [0.58660282],\n",
       "         [0.78762948],\n",
       "         [0.78762948],\n",
       "         [0.23654961],\n",
       "         [0.23654961],\n",
       "         [0.30620894],\n",
       "         [0.30620894],\n",
       "         [0.32141785],\n",
       "         [0.32141785],\n",
       "         [0.38379825],\n",
       "         [0.38379825],\n",
       "         [0.48540177],\n",
       "         [0.48540177],\n",
       "         [0.48392933],\n",
       "         [0.48392933],\n",
       "         [0.46384894],\n",
       "         [0.46384894],\n",
       "         [0.70976678],\n",
       "         [0.70976678],\n",
       "         [0.56593337],\n",
       "         [0.56593337],\n",
       "         [0.87047325],\n",
       "         [0.87047325],\n",
       "         [0.5191192 ],\n",
       "         [0.5191192 ],\n",
       "         [0.39575213],\n",
       "         [0.39575213],\n",
       "         [0.19126948],\n",
       "         [0.19126948],\n",
       "         [0.65896934],\n",
       "         [0.65896934],\n",
       "         [0.75546753],\n",
       "         [0.75546753],\n",
       "         [0.98990665],\n",
       "         [0.98990665],\n",
       "         [0.31058926],\n",
       "         [0.31058926],\n",
       "         [0.24813155],\n",
       "         [0.24813155],\n",
       "         [0.37575947],\n",
       "         [0.37575947],\n",
       "         [0.94710171],\n",
       "         [0.94710171],\n",
       "         [0.60504044],\n",
       "         [0.60504044],\n",
       "         [0.27254742],\n",
       "         [0.27254742],\n",
       "         [0.0395997 ],\n",
       "         [0.0395997 ],\n",
       "         [0.49117248],\n",
       "         [0.49117248],\n",
       "         [0.25675388],\n",
       "         [0.25675388],\n",
       "         [0.95512384],\n",
       "         [0.95512384],\n",
       "         [0.39639795],\n",
       "         [0.39639795],\n",
       "         [0.36577039],\n",
       "         [0.36577039],\n",
       "         [0.02930843],\n",
       "         [0.02930843],\n",
       "         [0.27956633],\n",
       "         [0.27956633],\n",
       "         [0.21327392],\n",
       "         [0.21327392],\n",
       "         [0.41297884],\n",
       "         [0.41297884],\n",
       "         [0.21753168],\n",
       "         [0.21753168],\n",
       "         [0.945205  ],\n",
       "         [0.945205  ],\n",
       "         [0.08222203],\n",
       "         [0.08222203],\n",
       "         [0.56929264],\n",
       "         [0.56929264],\n",
       "         [0.03200761],\n",
       "         [0.03200761],\n",
       "         [0.9702056 ],\n",
       "         [0.9702056 ],\n",
       "         [0.52543665],\n",
       "         [0.52543665],\n",
       "         [0.34267189],\n",
       "         [0.34267189],\n",
       "         [0.33566311],\n",
       "         [0.33566311]])}}"
      ]
     },
     "execution_count": 1,
     "metadata": {},
     "output_type": "execute_result"
    }
   ],
   "source": [
    "ds = load_by_id(run_id_a)\n",
    "ds.get_parameter_data('x1')"
   ]
  },
  {
   "cell_type": "code",
   "execution_count": null,
   "metadata": {},
   "outputs": [],
   "source": []
  }
 ],
 "metadata": {
  "kernelspec": {
   "display_name": "Python 3",
   "language": "python",
   "name": "python3"
  },
  "language_info": {
   "codemirror_mode": {
    "name": "ipython",
    "version": 3
   },
   "file_extension": ".py",
   "mimetype": "text/x-python",
   "name": "python",
   "nbconvert_exporter": "python",
   "pygments_lexer": "ipython3",
   "version": "3.7.9"
  },
  "nbsphinx": {
   "timeout": 600
  },
  "toc": {
   "base_numbering": 1,
   "nav_menu": {},
   "number_sections": true,
   "sideBar": true,
   "skip_h1_title": false,
   "title_cell": "Table of Contents",
   "title_sidebar": "Contents",
   "toc_cell": false,
   "toc_position": {},
   "toc_section_display": true,
   "toc_window_display": false
  },
  "varInspector": {
   "cols": {
    "lenName": 16,
    "lenType": 16,
    "lenVar": 40
   },
   "kernels_config": {
    "python": {
     "delete_cmd_postfix": "",
     "delete_cmd_prefix": "del ",
     "library": "var_list.py",
     "varRefreshCmd": "print(var_dic_list())"
    },
    "r": {
     "delete_cmd_postfix": ") ",
     "delete_cmd_prefix": "rm(",
     "library": "var_list.r",
     "varRefreshCmd": "cat(var_dic_list()) "
    }
   },
   "types_to_exclude": [
    "module",
    "function",
    "builtin_function_or_method",
    "instance",
    "_Feature"
   ],
   "window_display": false
  }
 },
 "nbformat": 4,
 "nbformat_minor": 2
}
