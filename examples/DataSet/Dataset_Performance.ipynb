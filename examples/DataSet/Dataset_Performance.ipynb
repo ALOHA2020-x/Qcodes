{
 "cells": [
  {
   "cell_type": "markdown",
   "metadata": {},
   "source": [
    "# DataSet Performance\n",
    "\n",
    "This notebook shows the trade-off between inserting data into a database row-by-row and as binary blobs. Inserting the data row-by-row means that we have direct access to all the data and may perform queries directly on the values of the data. On the other hand, as we shall see, this is much slower than inserting the data directly as binary blobs."
   ]
  },
  {
   "cell_type": "markdown",
   "metadata": {},
   "source": [
    "First, we choose a new location for the database to ensure that we don't add a bunch of benchmarking data to the default one."
   ]
  },
  {
   "cell_type": "code",
   "execution_count": 1,
   "metadata": {
    "execution": {
     "iopub.execute_input": "2020-11-03T07:00:33.149495Z",
     "iopub.status.busy": "2020-11-03T07:00:33.148889Z",
     "iopub.status.idle": "2020-11-03T07:00:34.197169Z",
     "shell.execute_reply": "2020-11-03T07:00:34.196549Z"
    }
   },
   "outputs": [
    {
     "name": "stdout",
     "output_type": "stream",
     "text": [
      "Logging hadn't been started.\n",
      "Activating auto-logging. Current session state plus future input saved.\n",
      "Filename       : /home/vsts/.qcodes/logs/command_history.log\n",
      "Mode           : append\n",
      "Output logging : True\n",
      "Raw input log  : False\n",
      "Timestamping   : True\n",
      "State          : active\n"
     ]
    },
    {
     "name": "stdout",
     "output_type": "stream",
     "text": [
      "Qcodes Logfile : /home/vsts/.qcodes/logs/201103-14346-qcodes.log\n"
     ]
    }
   ],
   "source": [
    "import os\n",
    "cwd = os.getcwd()\n",
    "import qcodes as qc\n",
    "qc.config[\"core\"][\"db_location\"] = os.path.join(cwd, 'testing.db')\n"
   ]
  },
  {
   "cell_type": "code",
   "execution_count": 2,
   "metadata": {
    "execution": {
     "iopub.execute_input": "2020-11-03T07:00:34.203415Z",
     "iopub.status.busy": "2020-11-03T07:00:34.202537Z",
     "iopub.status.idle": "2020-11-03T07:00:34.402133Z",
     "shell.execute_reply": "2020-11-03T07:00:34.401557Z"
    }
   },
   "outputs": [],
   "source": [
    "%matplotlib inline\n",
    "import time\n",
    "import matplotlib.pyplot as plt\n",
    "import numpy as np\n",
    "\n",
    "import qcodes as qc\n",
    "from qcodes.instrument.parameter import ManualParameter\n",
    "from qcodes.dataset.experiment_container import (Experiment,\n",
    "                                                 load_last_experiment,\n",
    "                                                 new_experiment)\n",
    "from qcodes.dataset.sqlite.database import initialise_database\n",
    "from qcodes import load_or_create_experiment\n",
    "from qcodes.dataset.measurements import Measurement"
   ]
  },
  {
   "cell_type": "code",
   "execution_count": 3,
   "metadata": {
    "execution": {
     "iopub.execute_input": "2020-11-03T07:00:34.406175Z",
     "iopub.status.busy": "2020-11-03T07:00:34.405393Z",
     "iopub.status.idle": "2020-11-03T07:00:34.518924Z",
     "shell.execute_reply": "2020-11-03T07:00:34.518306Z"
    }
   },
   "outputs": [
    {
     "name": "stdout",
     "output_type": "stream",
     "text": [
      "\r",
      "0it [00:00, ?it/s]"
     ]
    },
    {
     "name": "stdout",
     "output_type": "stream",
     "text": [
      "\r",
      "Upgrading database; v0 -> v1: : 0it [00:00, ?it/s]"
     ]
    },
    {
     "name": "stdout",
     "output_type": "stream",
     "text": [
      "\r",
      "Upgrading database; v0 -> v1: : 0it [00:00, ?it/s]"
     ]
    },
    {
     "name": "stdout",
     "output_type": "stream",
     "text": [
      "\n",
      "\r",
      "  0%|          | 0/1 [00:00<?, ?it/s]"
     ]
    },
    {
     "name": "stdout",
     "output_type": "stream",
     "text": [
      "\r",
      "Upgrading database; v1 -> v2:   0%|          | 0/1 [00:00<?, ?it/s]"
     ]
    },
    {
     "name": "stdout",
     "output_type": "stream",
     "text": [
      "\r",
      "Upgrading database; v1 -> v2: 100%|██████████| 1/1 [00:00<00:00, 467.44it/s]"
     ]
    },
    {
     "name": "stdout",
     "output_type": "stream",
     "text": [
      "\n",
      "\r",
      "0it [00:00, ?it/s]"
     ]
    },
    {
     "name": "stdout",
     "output_type": "stream",
     "text": [
      "\r",
      "Upgrading database; v2 -> v3: : 0it [00:00, ?it/s]"
     ]
    },
    {
     "name": "stdout",
     "output_type": "stream",
     "text": [
      "\r",
      "Upgrading database; v2 -> v3: : 0it [00:00, ?it/s]"
     ]
    },
    {
     "name": "stdout",
     "output_type": "stream",
     "text": [
      "\n",
      "\r",
      "0it [00:00, ?it/s]"
     ]
    },
    {
     "name": "stdout",
     "output_type": "stream",
     "text": [
      "\r",
      "Upgrading database; v3 -> v4: : 0it [00:00, ?it/s]"
     ]
    },
    {
     "name": "stdout",
     "output_type": "stream",
     "text": [
      "\r",
      "Upgrading database; v3 -> v4: : 0it [00:00, ?it/s]"
     ]
    },
    {
     "name": "stdout",
     "output_type": "stream",
     "text": [
      "\n",
      "\r",
      "  0%|          | 0/1 [00:00<?, ?it/s]"
     ]
    },
    {
     "name": "stdout",
     "output_type": "stream",
     "text": [
      "\r",
      "Upgrading database; v4 -> v5:   0%|          | 0/1 [00:00<?, ?it/s]"
     ]
    },
    {
     "name": "stdout",
     "output_type": "stream",
     "text": [
      "\r",
      "Upgrading database; v4 -> v5: 100%|██████████| 1/1 [00:00<00:00, 307.93it/s]"
     ]
    },
    {
     "name": "stdout",
     "output_type": "stream",
     "text": [
      "\n",
      "\r",
      "0it [00:00, ?it/s]"
     ]
    },
    {
     "name": "stdout",
     "output_type": "stream",
     "text": [
      "\r",
      "Upgrading database; v5 -> v6: : 0it [00:00, ?it/s]"
     ]
    },
    {
     "name": "stdout",
     "output_type": "stream",
     "text": [
      "\r",
      "Upgrading database; v5 -> v6: : 0it [00:00, ?it/s]"
     ]
    },
    {
     "name": "stdout",
     "output_type": "stream",
     "text": [
      "\n",
      "\r",
      "  0%|          | 0/1 [00:00<?, ?it/s]"
     ]
    },
    {
     "name": "stdout",
     "output_type": "stream",
     "text": [
      "\r",
      "Upgrading database; v6 -> v7:   0%|          | 0/1 [00:00<?, ?it/s]"
     ]
    },
    {
     "name": "stdout",
     "output_type": "stream",
     "text": [
      "\r",
      "Upgrading database; v6 -> v7: 100%|██████████| 1/1 [00:00<00:00, 263.96it/s]"
     ]
    },
    {
     "name": "stdout",
     "output_type": "stream",
     "text": [
      "\n",
      "\r",
      "  0%|          | 0/1 [00:00<?, ?it/s]"
     ]
    },
    {
     "name": "stdout",
     "output_type": "stream",
     "text": [
      "\r",
      "Upgrading database; v7 -> v8:   0%|          | 0/1 [00:00<?, ?it/s]"
     ]
    },
    {
     "name": "stdout",
     "output_type": "stream",
     "text": [
      "\r",
      "Upgrading database; v7 -> v8: 100%|██████████| 1/1 [00:00<00:00, 430.01it/s]"
     ]
    },
    {
     "name": "stdout",
     "output_type": "stream",
     "text": [
      "\n",
      "\r",
      "  0%|          | 0/1 [00:00<?, ?it/s]"
     ]
    },
    {
     "name": "stdout",
     "output_type": "stream",
     "text": [
      "\r",
      "Upgrading database; v8 -> v9:   0%|          | 0/1 [00:00<?, ?it/s]"
     ]
    },
    {
     "name": "stdout",
     "output_type": "stream",
     "text": [
      "\r",
      "Upgrading database; v8 -> v9: 100%|██████████| 1/1 [00:00<00:00, 480.06it/s]"
     ]
    },
    {
     "name": "stdout",
     "output_type": "stream",
     "text": [
      "\n"
     ]
    }
   ],
   "source": [
    "initialise_database()\n",
    "exp = load_or_create_experiment(experiment_name='tutorial_exp', sample_name=\"no sample\")"
   ]
  },
  {
   "cell_type": "markdown",
   "metadata": {},
   "source": [
    "Here, we define a simple function to benchmark the time it takes to insert n points with either numeric or array data type.\n",
    "We will compare both the time used to call ``add_result`` and the time used for the full measurement."
   ]
  },
  {
   "cell_type": "code",
   "execution_count": 4,
   "metadata": {
    "execution": {
     "iopub.execute_input": "2020-11-03T07:00:34.528013Z",
     "iopub.status.busy": "2020-11-03T07:00:34.527383Z",
     "iopub.status.idle": "2020-11-03T07:00:34.531277Z",
     "shell.execute_reply": "2020-11-03T07:00:34.530689Z"
    }
   },
   "outputs": [],
   "source": [
    "def insert_data(paramtype, npoints, nreps=1):\n",
    "\n",
    "    meas = Measurement(exp=exp)\n",
    "\n",
    "    x1 = ManualParameter('x1')\n",
    "    x2 = ManualParameter('x2')\n",
    "    x3 = ManualParameter('x3')\n",
    "    y1 = ManualParameter('y1')\n",
    "    y2 = ManualParameter('y2')\n",
    "\n",
    "    meas.register_parameter(x1, paramtype=paramtype)\n",
    "    meas.register_parameter(x2, paramtype=paramtype)\n",
    "    meas.register_parameter(x3, paramtype=paramtype)\n",
    "    meas.register_parameter(y1, setpoints=[x1, x2, x3],\n",
    "                            paramtype=paramtype)\n",
    "    meas.register_parameter(y2, setpoints=[x1, x2, x3],\n",
    "                            paramtype=paramtype)\n",
    "    start = time.perf_counter()\n",
    "    with meas.run() as datasaver:\n",
    "        start_adding = time.perf_counter()\n",
    "        for i in range(nreps):\n",
    "            datasaver.add_result((x1, np.random.rand(npoints)),\n",
    "                                 (x2, np.random.rand(npoints)),\n",
    "                                 (x3, np.random.rand(npoints)),\n",
    "                                 (y1, np.random.rand(npoints)),\n",
    "                                 (y2, np.random.rand(npoints)))\n",
    "        stop_adding = time.perf_counter()\n",
    "        run_id = datasaver.run_id\n",
    "    stop = time.perf_counter()\n",
    "    tot_time = stop - start\n",
    "    add_time = stop_adding - start_adding\n",
    "    return tot_time, add_time, run_id"
   ]
  },
  {
   "cell_type": "markdown",
   "metadata": {},
   "source": [
    "## Comparison between numeric/array data and binary blob"
   ]
  },
  {
   "cell_type": "markdown",
   "metadata": {},
   "source": [
    "### Case1: Short experiment time"
   ]
  },
  {
   "cell_type": "code",
   "execution_count": 5,
   "metadata": {
    "execution": {
     "iopub.execute_input": "2020-11-03T07:00:34.537883Z",
     "iopub.status.busy": "2020-11-03T07:00:34.537241Z",
     "iopub.status.idle": "2020-11-03T07:00:35.406934Z",
     "shell.execute_reply": "2020-11-03T07:00:35.406290Z"
    }
   },
   "outputs": [
    {
     "name": "stdout",
     "output_type": "stream",
     "text": [
      "Starting experimental run with id: 1. \n",
      "Starting experimental run with id: 2. \n",
      "Starting experimental run with id: 3. \n",
      "Starting experimental run with id: 4. \n",
      "Starting experimental run with id: 5. \n"
     ]
    },
    {
     "name": "stdout",
     "output_type": "stream",
     "text": [
      "Starting experimental run with id: 6. \n"
     ]
    },
    {
     "name": "stdout",
     "output_type": "stream",
     "text": [
      "Starting experimental run with id: 7. \n"
     ]
    },
    {
     "name": "stdout",
     "output_type": "stream",
     "text": [
      "Starting experimental run with id: 8. \n",
      "Starting experimental run with id: 9. \n"
     ]
    },
    {
     "name": "stdout",
     "output_type": "stream",
     "text": [
      "Starting experimental run with id: 10. \n",
      "Starting experimental run with id: 11. \n"
     ]
    },
    {
     "name": "stdout",
     "output_type": "stream",
     "text": [
      "Starting experimental run with id: 12. \n"
     ]
    },
    {
     "name": "stdout",
     "output_type": "stream",
     "text": [
      "Starting experimental run with id: 13. \n"
     ]
    },
    {
     "name": "stdout",
     "output_type": "stream",
     "text": [
      "Starting experimental run with id: 14. \n"
     ]
    }
   ],
   "source": [
    "sizes = [1,500,1000,2000,3000,4000,5000]\n",
    "t_numeric = []\n",
    "t_numeric_add = []\n",
    "t_array = []\n",
    "t_array_add = []\n",
    "for size in sizes:\n",
    "    tn, tna, run_id_n =  insert_data('numeric', size)\n",
    "    t_numeric.append(tn)\n",
    "    t_numeric_add.append(tna)\n",
    "\n",
    "    ta, taa, run_id_a =  insert_data('array', size)\n",
    "    t_array.append(ta)\n",
    "    t_array_add.append(taa)"
   ]
  },
  {
   "cell_type": "code",
   "execution_count": 6,
   "metadata": {
    "execution": {
     "iopub.execute_input": "2020-11-03T07:00:35.426935Z",
     "iopub.status.busy": "2020-11-03T07:00:35.426269Z",
     "iopub.status.idle": "2020-11-03T07:00:35.628227Z",
     "shell.execute_reply": "2020-11-03T07:00:35.627660Z"
    }
   },
   "outputs": [
    {
     "data": {
      "image/png": "[encoded data removed]",
      "text/plain": [
       "<Figure size 432x288 with 1 Axes>"
      ]
     },
     "metadata": {
      "needs_background": "light"
     },
     "output_type": "display_data"
    }
   ],
   "source": [
    "fig, ax = plt.subplots(1,1)\n",
    "ax.plot(sizes, t_numeric, 'o-', label='Inserting row-by-row')\n",
    "ax.plot(sizes, t_numeric_add, 'o-', label='Inserting row-by-row: add_result only')\n",
    "ax.plot(sizes, t_array, 'd-', label='Inserting as binary blob')\n",
    "ax.plot(sizes, t_array_add, 'd-', label='Inserting as binary blob: add_result only')\n",
    "ax.legend()\n",
    "ax.set_xlabel('Array length')\n",
    "ax.set_ylabel('Time (s)')\n",
    "fig.tight_layout()"
   ]
  },
  {
   "cell_type": "markdown",
   "metadata": {},
   "source": [
    "As shown in the latter figure, the time to setup and and close the experiment is approximately 0.4 sec. In case of small array sizes, the difference between inserting values of data as arrays and inserting them row-by-row is relatively unimportant. At larger array sizes, i.e. above 10000 points, the cost of writing data as individual datapoints starts to become important.\n"
   ]
  },
  {
   "cell_type": "markdown",
   "metadata": {},
   "source": [
    "### Case2: Long experiment time "
   ]
  },
  {
   "cell_type": "code",
   "execution_count": 7,
   "metadata": {
    "execution": {
     "iopub.execute_input": "2020-11-03T07:00:35.635326Z",
     "iopub.status.busy": "2020-11-03T07:00:35.634199Z",
     "iopub.status.idle": "2020-11-03T07:01:34.266479Z",
     "shell.execute_reply": "2020-11-03T07:01:34.265936Z"
    }
   },
   "outputs": [
    {
     "name": "stdout",
     "output_type": "stream",
     "text": [
      "Starting experimental run with id: 15. \n",
      "Starting experimental run with id: 16. \n",
      "Starting experimental run with id: 17. \n"
     ]
    },
    {
     "name": "stdout",
     "output_type": "stream",
     "text": [
      "Starting experimental run with id: 18. \n",
      "Starting experimental run with id: 19. \n"
     ]
    },
    {
     "name": "stdout",
     "output_type": "stream",
     "text": [
      "Starting experimental run with id: 20. \n"
     ]
    },
    {
     "name": "stdout",
     "output_type": "stream",
     "text": [
      "Starting experimental run with id: 21. \n"
     ]
    },
    {
     "name": "stdout",
     "output_type": "stream",
     "text": [
      "Starting experimental run with id: 22. \n"
     ]
    },
    {
     "name": "stdout",
     "output_type": "stream",
     "text": [
      "Starting experimental run with id: 23. \n"
     ]
    },
    {
     "name": "stdout",
     "output_type": "stream",
     "text": [
      "Starting experimental run with id: 24. \n"
     ]
    },
    {
     "name": "stdout",
     "output_type": "stream",
     "text": [
      "Starting experimental run with id: 25. \n"
     ]
    },
    {
     "name": "stdout",
     "output_type": "stream",
     "text": [
      "Starting experimental run with id: 26. \n"
     ]
    },
    {
     "name": "stdout",
     "output_type": "stream",
     "text": [
      "Starting experimental run with id: 27. \n"
     ]
    },
    {
     "name": "stdout",
     "output_type": "stream",
     "text": [
      "Starting experimental run with id: 28. \n"
     ]
    }
   ],
   "source": [
    "sizes = [1,500,1000,2000,3000,4000,5000]\n",
    "nreps = 100\n",
    "t_numeric = []\n",
    "t_numeric_add = []\n",
    "t_numeric_run_ids = []\n",
    "t_array = []\n",
    "t_array_add = []\n",
    "t_array_run_ids = []\n",
    "for size in sizes:\n",
    "    tn, tna, run_id_n =  insert_data('numeric', size, nreps=nreps)\n",
    "    t_numeric.append(tn)\n",
    "    t_numeric_add.append(tna)\n",
    "    t_numeric_run_ids.append(run_id_n)\n",
    "\n",
    "    ta, taa, run_id_a =  insert_data('array', size, nreps=nreps)\n",
    "    t_array.append(ta)\n",
    "    t_array_add.append(taa)\n",
    "    t_array_run_ids.append(run_id_a)"
   ]
  },
  {
   "cell_type": "code",
   "execution_count": 8,
   "metadata": {
    "execution": {
     "iopub.execute_input": "2020-11-03T07:01:34.291893Z",
     "iopub.status.busy": "2020-11-03T07:01:34.290923Z",
     "iopub.status.idle": "2020-11-03T07:01:34.507025Z",
     "shell.execute_reply": "2020-11-03T07:01:34.506473Z"
    },
    "scrolled": true
   },
   "outputs": [
    {
     "data": {
      "image/png": "[encoded data removed]",
      "text/plain": [
       "<Figure size 432x288 with 1 Axes>"
      ]
     },
     "metadata": {
      "needs_background": "light"
     },
     "output_type": "display_data"
    }
   ],
   "source": [
    "fig, ax = plt.subplots(1,1)\n",
    "ax.plot(sizes, t_numeric, 'o-', label='Inserting row-by-row')\n",
    "ax.plot(sizes, t_numeric_add, 'o-', label='Inserting row-by-row: add_result only')\n",
    "ax.plot(sizes, t_array, 'd-', label='Inserting as binary blob')\n",
    "ax.plot(sizes, t_array_add, 'd-', label='Inserting as binary blob: add_result only')\n",
    "ax.legend()\n",
    "ax.set_xlabel('Array length')\n",
    "ax.set_ylabel('Time (s)')\n",
    "fig.tight_layout()"
   ]
  },
  {
   "cell_type": "markdown",
   "metadata": {},
   "source": [
    "However, as we increase the length of the experiment, as seen here by repeating the insertion 100 times, we see a big difference between inserting values of the data row-by-row and inserting it as a binary blob."
   ]
  },
  {
   "cell_type": "markdown",
   "metadata": {},
   "source": [
    "## Loading the data "
   ]
  },
  {
   "cell_type": "code",
   "execution_count": 9,
   "metadata": {
    "execution": {
     "iopub.execute_input": "2020-11-03T07:01:34.512218Z",
     "iopub.status.busy": "2020-11-03T07:01:34.511134Z",
     "iopub.status.idle": "2020-11-03T07:01:34.513789Z",
     "shell.execute_reply": "2020-11-03T07:01:34.514334Z"
    }
   },
   "outputs": [],
   "source": [
    "from qcodes.dataset.data_set import load_by_id\n",
    "from qcodes.dataset.data_export import get_data_by_id"
   ]
  },
  {
   "cell_type": "markdown",
   "metadata": {},
   "source": [
    "As usual you can load the data by using the ``load_by_id`` function but you will notice that the different storage methods\n",
    "are reflected in shape of the data as it is retrieved. "
   ]
  },
  {
   "cell_type": "code",
   "execution_count": 10,
   "metadata": {
    "execution": {
     "iopub.execute_input": "2020-11-03T07:01:34.518903Z",
     "iopub.status.busy": "2020-11-03T07:01:34.517605Z",
     "iopub.status.idle": "2020-11-03T07:01:34.519576Z",
     "shell.execute_reply": "2020-11-03T07:01:34.520100Z"
    }
   },
   "outputs": [],
   "source": [
    "run_id_n = t_numeric_run_ids[0]\n",
    "run_id_a = t_array_run_ids[0]"
   ]
  },
  {
   "cell_type": "code",
   "execution_count": 11,
   "metadata": {
    "execution": {
     "iopub.execute_input": "2020-11-03T07:01:34.523550Z",
     "iopub.status.busy": "2020-11-03T07:01:34.522960Z",
     "iopub.status.idle": "2020-11-03T07:01:34.534144Z",
     "shell.execute_reply": "2020-11-03T07:01:34.533673Z"
    },
    "scrolled": true
   },
   "outputs": [
    {
     "data": {
      "text/plain": [
       "{'x1': {'x1': array([0.01729006, 0.01729006, 0.72625486, 0.72625486, 0.43561188,\n",
       "         0.43561188, 0.03312303, 0.03312303, 0.56610697, 0.56610697,\n",
       "         0.94397804, 0.94397804, 0.49155768, 0.49155768, 0.17167824,\n",
       "         0.17167824, 0.31987859, 0.31987859, 0.23483337, 0.23483337,\n",
       "         0.03769341, 0.03769341, 0.47708763, 0.47708763, 0.00551941,\n",
       "         0.00551941, 0.36001512, 0.36001512, 0.72516432, 0.72516432,\n",
       "         0.9831822 , 0.9831822 , 0.73951061, 0.73951061, 0.58622179,\n",
       "         0.58622179, 0.38660686, 0.38660686, 0.689797  , 0.689797  ,\n",
       "         0.31822   , 0.31822   , 0.34138147, 0.34138147, 0.05483697,\n",
       "         0.05483697, 0.79074227, 0.79074227, 0.81276946, 0.81276946,\n",
       "         0.86732676, 0.86732676, 0.85923708, 0.85923708, 0.64692718,\n",
       "         0.64692718, 0.38567189, 0.38567189, 0.93786269, 0.93786269,\n",
       "         0.18997652, 0.18997652, 0.77233252, 0.77233252, 0.5350306 ,\n",
       "         0.5350306 , 0.19495694, 0.19495694, 0.86874315, 0.86874315,\n",
       "         0.34779833, 0.34779833, 0.1409864 , 0.1409864 , 0.4985446 ,\n",
       "         0.4985446 , 0.08042662, 0.08042662, 0.98099315, 0.98099315,\n",
       "         0.5309501 , 0.5309501 , 0.64227671, 0.64227671, 0.70673868,\n",
       "         0.70673868, 0.84247007, 0.84247007, 0.57540226, 0.57540226,\n",
       "         0.15272643, 0.15272643, 0.3372338 , 0.3372338 , 0.45191622,\n",
       "         0.45191622, 0.77816669, 0.77816669, 0.08335843, 0.08335843,\n",
       "         0.55287746, 0.55287746, 0.6840036 , 0.6840036 , 0.0405565 ,\n",
       "         0.0405565 , 0.89618413, 0.89618413, 0.61630565, 0.61630565,\n",
       "         0.95431761, 0.95431761, 0.74020992, 0.74020992, 0.92496351,\n",
       "         0.92496351, 0.75946524, 0.75946524, 0.43528919, 0.43528919,\n",
       "         0.71519923, 0.71519923, 0.15205033, 0.15205033, 0.80332242,\n",
       "         0.80332242, 0.95418732, 0.95418732, 0.05451968, 0.05451968,\n",
       "         0.81546354, 0.81546354, 0.9369122 , 0.9369122 , 0.61033355,\n",
       "         0.61033355, 0.25620032, 0.25620032, 0.37630726, 0.37630726,\n",
       "         0.43620261, 0.43620261, 0.42663413, 0.42663413, 0.59969851,\n",
       "         0.59969851, 0.91514773, 0.91514773, 0.15534256, 0.15534256,\n",
       "         0.95708209, 0.95708209, 0.6934786 , 0.6934786 , 0.65878216,\n",
       "         0.65878216, 0.66490669, 0.66490669, 0.01477555, 0.01477555,\n",
       "         0.47600002, 0.47600002, 0.63043312, 0.63043312, 0.49589207,\n",
       "         0.49589207, 0.96042332, 0.96042332, 0.89491132, 0.89491132,\n",
       "         0.37130408, 0.37130408, 0.8499397 , 0.8499397 , 0.7996764 ,\n",
       "         0.7996764 , 0.68949661, 0.68949661, 0.09491554, 0.09491554,\n",
       "         0.43167039, 0.43167039, 0.85580979, 0.85580979, 0.7259007 ,\n",
       "         0.7259007 , 0.52600064, 0.52600064, 0.96693593, 0.96693593,\n",
       "         0.67716974, 0.67716974, 0.54883399, 0.54883399, 0.90912802,\n",
       "         0.90912802, 0.74735626, 0.74735626, 0.05561152, 0.05561152])}}"
      ]
     },
     "execution_count": 1,
     "metadata": {},
     "output_type": "execute_result"
    }
   ],
   "source": [
    "ds = load_by_id(run_id_n)\n",
    "ds.get_parameter_data('x1')"
   ]
  },
  {
   "cell_type": "markdown",
   "metadata": {},
   "source": [
    "And a dataset stored as binary arrays"
   ]
  },
  {
   "cell_type": "code",
   "execution_count": 12,
   "metadata": {
    "execution": {
     "iopub.execute_input": "2020-11-03T07:01:34.537584Z",
     "iopub.status.busy": "2020-11-03T07:01:34.537010Z",
     "iopub.status.idle": "2020-11-03T07:01:34.597487Z",
     "shell.execute_reply": "2020-11-03T07:01:34.598057Z"
    },
    "scrolled": true
   },
   "outputs": [
    {
     "data": {
      "text/plain": [
       "{'x1': {'x1': array([[0.99064199],\n",
       "         [0.99064199],\n",
       "         [0.98725102],\n",
       "         [0.98725102],\n",
       "         [0.71319569],\n",
       "         [0.71319569],\n",
       "         [0.04301812],\n",
       "         [0.04301812],\n",
       "         [0.42771852],\n",
       "         [0.42771852],\n",
       "         [0.4632094 ],\n",
       "         [0.4632094 ],\n",
       "         [0.26677293],\n",
       "         [0.26677293],\n",
       "         [0.34136174],\n",
       "         [0.34136174],\n",
       "         [0.57582861],\n",
       "         [0.57582861],\n",
       "         [0.2845698 ],\n",
       "         [0.2845698 ],\n",
       "         [0.66225312],\n",
       "         [0.66225312],\n",
       "         [0.32503256],\n",
       "         [0.32503256],\n",
       "         [0.32424022],\n",
       "         [0.32424022],\n",
       "         [0.34980543],\n",
       "         [0.34980543],\n",
       "         [0.33250909],\n",
       "         [0.33250909],\n",
       "         [0.44006987],\n",
       "         [0.44006987],\n",
       "         [0.51376587],\n",
       "         [0.51376587],\n",
       "         [0.30153199],\n",
       "         [0.30153199],\n",
       "         [0.90173956],\n",
       "         [0.90173956],\n",
       "         [0.43628442],\n",
       "         [0.43628442],\n",
       "         [0.71314229],\n",
       "         [0.71314229],\n",
       "         [0.17010628],\n",
       "         [0.17010628],\n",
       "         [0.49866636],\n",
       "         [0.49866636],\n",
       "         [0.98773377],\n",
       "         [0.98773377],\n",
       "         [0.64488772],\n",
       "         [0.64488772],\n",
       "         [0.66135213],\n",
       "         [0.66135213],\n",
       "         [0.24845666],\n",
       "         [0.24845666],\n",
       "         [0.47626207],\n",
       "         [0.47626207],\n",
       "         [0.84939876],\n",
       "         [0.84939876],\n",
       "         [0.90413735],\n",
       "         [0.90413735],\n",
       "         [0.25791814],\n",
       "         [0.25791814],\n",
       "         [0.0421692 ],\n",
       "         [0.0421692 ],\n",
       "         [0.63281514],\n",
       "         [0.63281514],\n",
       "         [0.19787011],\n",
       "         [0.19787011],\n",
       "         [0.65595029],\n",
       "         [0.65595029],\n",
       "         [0.89962521],\n",
       "         [0.89962521],\n",
       "         [0.76368021],\n",
       "         [0.76368021],\n",
       "         [0.83757314],\n",
       "         [0.83757314],\n",
       "         [0.85943949],\n",
       "         [0.85943949],\n",
       "         [0.66469091],\n",
       "         [0.66469091],\n",
       "         [0.37709043],\n",
       "         [0.37709043],\n",
       "         [0.12797554],\n",
       "         [0.12797554],\n",
       "         [0.63554921],\n",
       "         [0.63554921],\n",
       "         [0.7324041 ],\n",
       "         [0.7324041 ],\n",
       "         [0.46870904],\n",
       "         [0.46870904],\n",
       "         [0.24232098],\n",
       "         [0.24232098],\n",
       "         [0.90793113],\n",
       "         [0.90793113],\n",
       "         [0.72497587],\n",
       "         [0.72497587],\n",
       "         [0.63759299],\n",
       "         [0.63759299],\n",
       "         [0.63056512],\n",
       "         [0.63056512],\n",
       "         [0.68283561],\n",
       "         [0.68283561],\n",
       "         [0.7355705 ],\n",
       "         [0.7355705 ],\n",
       "         [0.89101892],\n",
       "         [0.89101892],\n",
       "         [0.0418242 ],\n",
       "         [0.0418242 ],\n",
       "         [0.08777773],\n",
       "         [0.08777773],\n",
       "         [0.74031533],\n",
       "         [0.74031533],\n",
       "         [0.79343577],\n",
       "         [0.79343577],\n",
       "         [0.62917844],\n",
       "         [0.62917844],\n",
       "         [0.52059746],\n",
       "         [0.52059746],\n",
       "         [0.75001368],\n",
       "         [0.75001368],\n",
       "         [0.89049012],\n",
       "         [0.89049012],\n",
       "         [0.55417523],\n",
       "         [0.55417523],\n",
       "         [0.46751619],\n",
       "         [0.46751619],\n",
       "         [0.41153714],\n",
       "         [0.41153714],\n",
       "         [0.14385608],\n",
       "         [0.14385608],\n",
       "         [0.20781848],\n",
       "         [0.20781848],\n",
       "         [0.77246855],\n",
       "         [0.77246855],\n",
       "         [0.66238434],\n",
       "         [0.66238434],\n",
       "         [0.94836617],\n",
       "         [0.94836617],\n",
       "         [0.72960472],\n",
       "         [0.72960472],\n",
       "         [0.92417719],\n",
       "         [0.92417719],\n",
       "         [0.95152521],\n",
       "         [0.95152521],\n",
       "         [0.19804317],\n",
       "         [0.19804317],\n",
       "         [0.76963661],\n",
       "         [0.76963661],\n",
       "         [0.02115272],\n",
       "         [0.02115272],\n",
       "         [0.33610218],\n",
       "         [0.33610218],\n",
       "         [0.61169113],\n",
       "         [0.61169113],\n",
       "         [0.85298915],\n",
       "         [0.85298915],\n",
       "         [0.48984836],\n",
       "         [0.48984836],\n",
       "         [0.46049214],\n",
       "         [0.46049214],\n",
       "         [0.44221012],\n",
       "         [0.44221012],\n",
       "         [0.69840893],\n",
       "         [0.69840893],\n",
       "         [0.76650739],\n",
       "         [0.76650739],\n",
       "         [0.15238576],\n",
       "         [0.15238576],\n",
       "         [0.14461751],\n",
       "         [0.14461751],\n",
       "         [0.37422024],\n",
       "         [0.37422024],\n",
       "         [0.12015672],\n",
       "         [0.12015672],\n",
       "         [0.24849945],\n",
       "         [0.24849945],\n",
       "         [0.52475496],\n",
       "         [0.52475496],\n",
       "         [0.71248879],\n",
       "         [0.71248879],\n",
       "         [0.336949  ],\n",
       "         [0.336949  ],\n",
       "         [0.1355788 ],\n",
       "         [0.1355788 ],\n",
       "         [0.3628447 ],\n",
       "         [0.3628447 ],\n",
       "         [0.42894598],\n",
       "         [0.42894598],\n",
       "         [0.74198881],\n",
       "         [0.74198881],\n",
       "         [0.37695311],\n",
       "         [0.37695311],\n",
       "         [0.95662567],\n",
       "         [0.95662567],\n",
       "         [0.79892953],\n",
       "         [0.79892953],\n",
       "         [0.66479392],\n",
       "         [0.66479392],\n",
       "         [0.76752261],\n",
       "         [0.76752261]])}}"
      ]
     },
     "execution_count": 1,
     "metadata": {},
     "output_type": "execute_result"
    }
   ],
   "source": [
    "ds = load_by_id(run_id_a)\n",
    "ds.get_parameter_data('x1')"
   ]
  },
  {
   "cell_type": "code",
   "execution_count": null,
   "metadata": {},
   "outputs": [],
   "source": []
  }
 ],
 "metadata": {
  "kernelspec": {
   "display_name": "Python 3",
   "language": "python",
   "name": "python3"
  },
  "language_info": {
   "codemirror_mode": {
    "name": "ipython",
    "version": 3
   },
   "file_extension": ".py",
   "mimetype": "text/x-python",
   "name": "python",
   "nbconvert_exporter": "python",
   "pygments_lexer": "ipython3",
   "version": "3.7.9"
  },
  "nbsphinx": {
   "timeout": 600
  },
  "toc": {
   "base_numbering": 1,
   "nav_menu": {},
   "number_sections": true,
   "sideBar": true,
   "skip_h1_title": false,
   "title_cell": "Table of Contents",
   "title_sidebar": "Contents",
   "toc_cell": false,
   "toc_position": {},
   "toc_section_display": true,
   "toc_window_display": false
  },
  "varInspector": {
   "cols": {
    "lenName": 16,
    "lenType": 16,
    "lenVar": 40
   },
   "kernels_config": {
    "python": {
     "delete_cmd_postfix": "",
     "delete_cmd_prefix": "del ",
     "library": "var_list.py",
     "varRefreshCmd": "print(var_dic_list())"
    },
    "r": {
     "delete_cmd_postfix": ") ",
     "delete_cmd_prefix": "rm(",
     "library": "var_list.r",
     "varRefreshCmd": "cat(var_dic_list()) "
    }
   },
   "types_to_exclude": [
    "module",
    "function",
    "builtin_function_or_method",
    "instance",
    "_Feature"
   ],
   "window_display": false
  }
 },
 "nbformat": 4,
 "nbformat_minor": 2
}
