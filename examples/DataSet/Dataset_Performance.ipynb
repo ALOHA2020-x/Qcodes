{
 "cells": [
  {
   "cell_type": "markdown",
   "metadata": {},
   "source": [
    "# DataSet Performance\n",
    "\n",
    "This notebook shows the trade-off between inserting data into a database row-by-row and as binary blobs. Inserting the data row-by-row means that we have direct access to all the data and may perform queries directly on the values of the data. On the other hand, as we shall see, this is much slower than inserting the data directly as binary blobs."
   ]
  },
  {
   "cell_type": "markdown",
   "metadata": {},
   "source": [
    "First, we choose a new location for the database to ensure that we don't add a bunch of benchmarking data to the default one."
   ]
  },
  {
   "cell_type": "code",
   "execution_count": 1,
   "metadata": {
    "execution": {
     "iopub.execute_input": "2021-01-08T07:19:47.050642Z",
     "iopub.status.busy": "2021-01-08T07:19:47.050138Z",
     "iopub.status.idle": "2021-01-08T07:19:48.076910Z",
     "shell.execute_reply": "2021-01-08T07:19:48.077338Z"
    }
   },
   "outputs": [
    {
     "name": "stdout",
     "output_type": "stream",
     "text": [
      "Logging hadn't been started.\n",
      "Activating auto-logging. Current session state plus future input saved.\n",
      "Filename       : /home/vsts/.qcodes/logs/command_history.log\n",
      "Mode           : append\n",
      "Output logging : True\n",
      "Raw input log  : False\n",
      "Timestamping   : True\n",
      "State          : active\n"
     ]
    },
    {
     "name": "stdout",
     "output_type": "stream",
     "text": [
      "Qcodes Logfile : /home/vsts/.qcodes/logs/210108-13539-qcodes.log\n"
     ]
    }
   ],
   "source": [
    "import os\n",
    "cwd = os.getcwd()\n",
    "import qcodes as qc\n",
    "qc.config[\"core\"][\"db_location\"] = os.path.join(cwd, 'testing.db')\n"
   ]
  },
  {
   "cell_type": "code",
   "execution_count": 2,
   "metadata": {
    "execution": {
     "iopub.execute_input": "2021-01-08T07:19:48.083681Z",
     "iopub.status.busy": "2021-01-08T07:19:48.083193Z",
     "iopub.status.idle": "2021-01-08T07:19:48.271159Z",
     "shell.execute_reply": "2021-01-08T07:19:48.269739Z"
    }
   },
   "outputs": [],
   "source": [
    "%matplotlib inline\n",
    "import time\n",
    "import matplotlib.pyplot as plt\n",
    "import numpy as np\n",
    "\n",
    "import qcodes as qc\n",
    "from qcodes.instrument.parameter import ManualParameter\n",
    "from qcodes.dataset.experiment_container import (Experiment,\n",
    "                                                 load_last_experiment,\n",
    "                                                 new_experiment)\n",
    "from qcodes.dataset.sqlite.database import initialise_database\n",
    "from qcodes import load_or_create_experiment\n",
    "from qcodes.dataset.measurements import Measurement"
   ]
  },
  {
   "cell_type": "code",
   "execution_count": 3,
   "metadata": {
    "execution": {
     "iopub.execute_input": "2021-01-08T07:19:48.276132Z",
     "iopub.status.busy": "2021-01-08T07:19:48.275289Z",
     "iopub.status.idle": "2021-01-08T07:19:48.381137Z",
     "shell.execute_reply": "2021-01-08T07:19:48.380571Z"
    }
   },
   "outputs": [
    {
     "name": "stdout",
     "output_type": "stream",
     "text": [
      "\r",
      "0it [00:00, ?it/s]"
     ]
    },
    {
     "name": "stdout",
     "output_type": "stream",
     "text": [
      "\r",
      "Upgrading database; v0 -> v1: : 0it [00:00, ?it/s]"
     ]
    },
    {
     "name": "stdout",
     "output_type": "stream",
     "text": [
      "\r",
      "Upgrading database; v0 -> v1: : 0it [00:00, ?it/s]"
     ]
    },
    {
     "name": "stdout",
     "output_type": "stream",
     "text": [
      "\n",
      "\r",
      "  0%|          | 0/1 [00:00<?, ?it/s]"
     ]
    },
    {
     "name": "stdout",
     "output_type": "stream",
     "text": [
      "\r",
      "Upgrading database; v1 -> v2:   0%|          | 0/1 [00:00<?, ?it/s]"
     ]
    },
    {
     "name": "stdout",
     "output_type": "stream",
     "text": [
      "\r",
      "Upgrading database; v1 -> v2: 100%|██████████| 1/1 [00:00<00:00, 1283.84it/s]"
     ]
    },
    {
     "name": "stdout",
     "output_type": "stream",
     "text": [
      "\n",
      "\r",
      "0it [00:00, ?it/s]"
     ]
    },
    {
     "name": "stdout",
     "output_type": "stream",
     "text": [
      "\r",
      "Upgrading database; v2 -> v3: : 0it [00:00, ?it/s]"
     ]
    },
    {
     "name": "stdout",
     "output_type": "stream",
     "text": [
      "\r",
      "Upgrading database; v2 -> v3: : 0it [00:00, ?it/s]"
     ]
    },
    {
     "name": "stdout",
     "output_type": "stream",
     "text": [
      "\n",
      "\r",
      "0it [00:00, ?it/s]"
     ]
    },
    {
     "name": "stdout",
     "output_type": "stream",
     "text": [
      "\r",
      "Upgrading database; v3 -> v4: : 0it [00:00, ?it/s]"
     ]
    },
    {
     "name": "stdout",
     "output_type": "stream",
     "text": [
      "\r",
      "Upgrading database; v3 -> v4: : 0it [00:00, ?it/s]"
     ]
    },
    {
     "name": "stdout",
     "output_type": "stream",
     "text": [
      "\n",
      "\r",
      "  0%|          | 0/1 [00:00<?, ?it/s]"
     ]
    },
    {
     "name": "stdout",
     "output_type": "stream",
     "text": [
      "\r",
      "Upgrading database; v4 -> v5:   0%|          | 0/1 [00:00<?, ?it/s]"
     ]
    },
    {
     "name": "stdout",
     "output_type": "stream",
     "text": [
      "\r",
      "Upgrading database; v4 -> v5: 100%|██████████| 1/1 [00:00<00:00, 1045.44it/s]"
     ]
    },
    {
     "name": "stdout",
     "output_type": "stream",
     "text": [
      "\n",
      "\r",
      "0it [00:00, ?it/s]"
     ]
    },
    {
     "name": "stdout",
     "output_type": "stream",
     "text": [
      "\r",
      "Upgrading database; v5 -> v6: : 0it [00:00, ?it/s]"
     ]
    },
    {
     "name": "stdout",
     "output_type": "stream",
     "text": [
      "\r",
      "Upgrading database; v5 -> v6: : 0it [00:00, ?it/s]"
     ]
    },
    {
     "name": "stdout",
     "output_type": "stream",
     "text": [
      "\n",
      "\r",
      "  0%|          | 0/1 [00:00<?, ?it/s]"
     ]
    },
    {
     "name": "stdout",
     "output_type": "stream",
     "text": [
      "\r",
      "Upgrading database; v6 -> v7:   0%|          | 0/1 [00:00<?, ?it/s]"
     ]
    },
    {
     "name": "stdout",
     "output_type": "stream",
     "text": [
      "\r",
      "Upgrading database; v6 -> v7: 100%|██████████| 1/1 [00:00<00:00, 302.12it/s]"
     ]
    },
    {
     "name": "stdout",
     "output_type": "stream",
     "text": [
      "\n",
      "\r",
      "  0%|          | 0/1 [00:00<?, ?it/s]"
     ]
    },
    {
     "name": "stdout",
     "output_type": "stream",
     "text": [
      "\r",
      "Upgrading database; v7 -> v8:   0%|          | 0/1 [00:00<?, ?it/s]"
     ]
    },
    {
     "name": "stdout",
     "output_type": "stream",
     "text": [
      "\r",
      "Upgrading database; v7 -> v8: 100%|██████████| 1/1 [00:00<00:00, 770.16it/s]"
     ]
    },
    {
     "name": "stdout",
     "output_type": "stream",
     "text": [
      "\n",
      "\r",
      "  0%|          | 0/1 [00:00<?, ?it/s]"
     ]
    },
    {
     "name": "stdout",
     "output_type": "stream",
     "text": [
      "\r",
      "Upgrading database; v8 -> v9:   0%|          | 0/1 [00:00<?, ?it/s]"
     ]
    },
    {
     "name": "stdout",
     "output_type": "stream",
     "text": [
      "\r",
      "Upgrading database; v8 -> v9: 100%|██████████| 1/1 [00:00<00:00, 758.60it/s]"
     ]
    },
    {
     "name": "stdout",
     "output_type": "stream",
     "text": [
      "\n"
     ]
    }
   ],
   "source": [
    "initialise_database()\n",
    "exp = load_or_create_experiment(experiment_name='tutorial_exp', sample_name=\"no sample\")"
   ]
  },
  {
   "cell_type": "markdown",
   "metadata": {},
   "source": [
    "Here, we define a simple function to benchmark the time it takes to insert n points with either numeric or array data type.\n",
    "We will compare both the time used to call ``add_result`` and the time used for the full measurement."
   ]
  },
  {
   "cell_type": "code",
   "execution_count": 4,
   "metadata": {
    "execution": {
     "iopub.execute_input": "2021-01-08T07:19:48.392053Z",
     "iopub.status.busy": "2021-01-08T07:19:48.388917Z",
     "iopub.status.idle": "2021-01-08T07:19:48.394420Z",
     "shell.execute_reply": "2021-01-08T07:19:48.393828Z"
    }
   },
   "outputs": [],
   "source": [
    "def insert_data(paramtype, npoints, nreps=1):\n",
    "\n",
    "    meas = Measurement(exp=exp)\n",
    "\n",
    "    x1 = ManualParameter('x1')\n",
    "    x2 = ManualParameter('x2')\n",
    "    x3 = ManualParameter('x3')\n",
    "    y1 = ManualParameter('y1')\n",
    "    y2 = ManualParameter('y2')\n",
    "\n",
    "    meas.register_parameter(x1, paramtype=paramtype)\n",
    "    meas.register_parameter(x2, paramtype=paramtype)\n",
    "    meas.register_parameter(x3, paramtype=paramtype)\n",
    "    meas.register_parameter(y1, setpoints=[x1, x2, x3],\n",
    "                            paramtype=paramtype)\n",
    "    meas.register_parameter(y2, setpoints=[x1, x2, x3],\n",
    "                            paramtype=paramtype)\n",
    "    start = time.perf_counter()\n",
    "    with meas.run() as datasaver:\n",
    "        start_adding = time.perf_counter()\n",
    "        for i in range(nreps):\n",
    "            datasaver.add_result((x1, np.random.rand(npoints)),\n",
    "                                 (x2, np.random.rand(npoints)),\n",
    "                                 (x3, np.random.rand(npoints)),\n",
    "                                 (y1, np.random.rand(npoints)),\n",
    "                                 (y2, np.random.rand(npoints)))\n",
    "        stop_adding = time.perf_counter()\n",
    "        run_id = datasaver.run_id\n",
    "    stop = time.perf_counter()\n",
    "    tot_time = stop - start\n",
    "    add_time = stop_adding - start_adding\n",
    "    return tot_time, add_time, run_id"
   ]
  },
  {
   "cell_type": "markdown",
   "metadata": {},
   "source": [
    "## Comparison between numeric/array data and binary blob"
   ]
  },
  {
   "cell_type": "markdown",
   "metadata": {},
   "source": [
    "### Case1: Short experiment time"
   ]
  },
  {
   "cell_type": "code",
   "execution_count": 5,
   "metadata": {
    "execution": {
     "iopub.execute_input": "2021-01-08T07:19:48.403749Z",
     "iopub.status.busy": "2021-01-08T07:19:48.402649Z",
     "iopub.status.idle": "2021-01-08T07:19:49.161024Z",
     "shell.execute_reply": "2021-01-08T07:19:49.160313Z"
    }
   },
   "outputs": [
    {
     "name": "stdout",
     "output_type": "stream",
     "text": [
      "Starting experimental run with id: 1. \n",
      "Starting experimental run with id: 2. \n",
      "Starting experimental run with id: 3. \n",
      "Starting experimental run with id: 4. \n",
      "Starting experimental run with id: 5. \n"
     ]
    },
    {
     "name": "stdout",
     "output_type": "stream",
     "text": [
      "Starting experimental run with id: 6. \n"
     ]
    },
    {
     "name": "stdout",
     "output_type": "stream",
     "text": [
      "Starting experimental run with id: 7. \n"
     ]
    },
    {
     "name": "stdout",
     "output_type": "stream",
     "text": [
      "Starting experimental run with id: 8. \n",
      "Starting experimental run with id: 9. \n"
     ]
    },
    {
     "name": "stdout",
     "output_type": "stream",
     "text": [
      "Starting experimental run with id: 10. \n"
     ]
    },
    {
     "name": "stdout",
     "output_type": "stream",
     "text": [
      "Starting experimental run with id: 11. \n"
     ]
    },
    {
     "name": "stdout",
     "output_type": "stream",
     "text": [
      "Starting experimental run with id: 12. \n",
      "Starting experimental run with id: 13. \n"
     ]
    },
    {
     "name": "stdout",
     "output_type": "stream",
     "text": [
      "Starting experimental run with id: 14. \n"
     ]
    }
   ],
   "source": [
    "sizes = [1,500,1000,2000,3000,4000,5000]\n",
    "t_numeric = []\n",
    "t_numeric_add = []\n",
    "t_array = []\n",
    "t_array_add = []\n",
    "for size in sizes:\n",
    "    tn, tna, run_id_n =  insert_data('numeric', size)\n",
    "    t_numeric.append(tn)\n",
    "    t_numeric_add.append(tna)\n",
    "\n",
    "    ta, taa, run_id_a =  insert_data('array', size)\n",
    "    t_array.append(ta)\n",
    "    t_array_add.append(taa)"
   ]
  },
  {
   "cell_type": "code",
   "execution_count": 6,
   "metadata": {
    "execution": {
     "iopub.execute_input": "2021-01-08T07:19:49.176712Z",
     "iopub.status.busy": "2021-01-08T07:19:49.164789Z",
     "iopub.status.idle": "2021-01-08T07:19:49.357695Z",
     "shell.execute_reply": "2021-01-08T07:19:49.358371Z"
    }
   },
   "outputs": [
    {
     "data": {
      "image/png": "[encoded data removed]",
      "text/plain": [
       "<Figure size 432x288 with 1 Axes>"
      ]
     },
     "metadata": {
      "needs_background": "light"
     },
     "output_type": "display_data"
    }
   ],
   "source": [
    "fig, ax = plt.subplots(1,1)\n",
    "ax.plot(sizes, t_numeric, 'o-', label='Inserting row-by-row')\n",
    "ax.plot(sizes, t_numeric_add, 'o-', label='Inserting row-by-row: add_result only')\n",
    "ax.plot(sizes, t_array, 'd-', label='Inserting as binary blob')\n",
    "ax.plot(sizes, t_array_add, 'd-', label='Inserting as binary blob: add_result only')\n",
    "ax.legend()\n",
    "ax.set_xlabel('Array length')\n",
    "ax.set_ylabel('Time (s)')\n",
    "fig.tight_layout()"
   ]
  },
  {
   "cell_type": "markdown",
   "metadata": {},
   "source": [
    "As shown in the latter figure, the time to setup and and close the experiment is approximately 0.4 sec. In case of small array sizes, the difference between inserting values of data as arrays and inserting them row-by-row is relatively unimportant. At larger array sizes, i.e. above 10000 points, the cost of writing data as individual datapoints starts to become important.\n"
   ]
  },
  {
   "cell_type": "markdown",
   "metadata": {},
   "source": [
    "### Case2: Long experiment time "
   ]
  },
  {
   "cell_type": "code",
   "execution_count": 7,
   "metadata": {
    "execution": {
     "iopub.execute_input": "2021-01-08T07:19:49.364455Z",
     "iopub.status.busy": "2021-01-08T07:19:49.363958Z",
     "iopub.status.idle": "2021-01-08T07:20:43.510819Z",
     "shell.execute_reply": "2021-01-08T07:20:43.508993Z"
    }
   },
   "outputs": [
    {
     "name": "stdout",
     "output_type": "stream",
     "text": [
      "Starting experimental run with id: 15. \n",
      "Starting experimental run with id: 16. \n",
      "Starting experimental run with id: 17. \n"
     ]
    },
    {
     "name": "stdout",
     "output_type": "stream",
     "text": [
      "Starting experimental run with id: 18. \n",
      "Starting experimental run with id: 19. \n"
     ]
    },
    {
     "name": "stdout",
     "output_type": "stream",
     "text": [
      "Starting experimental run with id: 20. \n"
     ]
    },
    {
     "name": "stdout",
     "output_type": "stream",
     "text": [
      "Starting experimental run with id: 21. \n"
     ]
    },
    {
     "name": "stdout",
     "output_type": "stream",
     "text": [
      "Starting experimental run with id: 22. \n"
     ]
    },
    {
     "name": "stdout",
     "output_type": "stream",
     "text": [
      "Starting experimental run with id: 23. \n"
     ]
    },
    {
     "name": "stdout",
     "output_type": "stream",
     "text": [
      "Starting experimental run with id: 24. \n"
     ]
    },
    {
     "name": "stdout",
     "output_type": "stream",
     "text": [
      "Starting experimental run with id: 25. \n"
     ]
    },
    {
     "name": "stdout",
     "output_type": "stream",
     "text": [
      "Starting experimental run with id: 26. \n"
     ]
    },
    {
     "name": "stdout",
     "output_type": "stream",
     "text": [
      "Starting experimental run with id: 27. \n"
     ]
    },
    {
     "name": "stdout",
     "output_type": "stream",
     "text": [
      "Starting experimental run with id: 28. \n"
     ]
    }
   ],
   "source": [
    "sizes = [1,500,1000,2000,3000,4000,5000]\n",
    "nreps = 100\n",
    "t_numeric = []\n",
    "t_numeric_add = []\n",
    "t_numeric_run_ids = []\n",
    "t_array = []\n",
    "t_array_add = []\n",
    "t_array_run_ids = []\n",
    "for size in sizes:\n",
    "    tn, tna, run_id_n =  insert_data('numeric', size, nreps=nreps)\n",
    "    t_numeric.append(tn)\n",
    "    t_numeric_add.append(tna)\n",
    "    t_numeric_run_ids.append(run_id_n)\n",
    "\n",
    "    ta, taa, run_id_a =  insert_data('array', size, nreps=nreps)\n",
    "    t_array.append(ta)\n",
    "    t_array_add.append(taa)\n",
    "    t_array_run_ids.append(run_id_a)"
   ]
  },
  {
   "cell_type": "code",
   "execution_count": 8,
   "metadata": {
    "execution": {
     "iopub.execute_input": "2021-01-08T07:20:43.546073Z",
     "iopub.status.busy": "2021-01-08T07:20:43.545593Z",
     "iopub.status.idle": "2021-01-08T07:20:43.696641Z",
     "shell.execute_reply": "2021-01-08T07:20:43.697093Z"
    },
    "scrolled": true
   },
   "outputs": [
    {
     "data": {
      "image/png": "[encoded data removed]",
      "text/plain": [
       "<Figure size 432x288 with 1 Axes>"
      ]
     },
     "metadata": {
      "needs_background": "light"
     },
     "output_type": "display_data"
    }
   ],
   "source": [
    "fig, ax = plt.subplots(1,1)\n",
    "ax.plot(sizes, t_numeric, 'o-', label='Inserting row-by-row')\n",
    "ax.plot(sizes, t_numeric_add, 'o-', label='Inserting row-by-row: add_result only')\n",
    "ax.plot(sizes, t_array, 'd-', label='Inserting as binary blob')\n",
    "ax.plot(sizes, t_array_add, 'd-', label='Inserting as binary blob: add_result only')\n",
    "ax.legend()\n",
    "ax.set_xlabel('Array length')\n",
    "ax.set_ylabel('Time (s)')\n",
    "fig.tight_layout()"
   ]
  },
  {
   "cell_type": "markdown",
   "metadata": {},
   "source": [
    "However, as we increase the length of the experiment, as seen here by repeating the insertion 100 times, we see a big difference between inserting values of the data row-by-row and inserting it as a binary blob."
   ]
  },
  {
   "cell_type": "markdown",
   "metadata": {},
   "source": [
    "## Loading the data "
   ]
  },
  {
   "cell_type": "code",
   "execution_count": 9,
   "metadata": {
    "execution": {
     "iopub.execute_input": "2021-01-08T07:20:43.700707Z",
     "iopub.status.busy": "2021-01-08T07:20:43.700108Z",
     "iopub.status.idle": "2021-01-08T07:20:43.703184Z",
     "shell.execute_reply": "2021-01-08T07:20:43.703896Z"
    }
   },
   "outputs": [],
   "source": [
    "from qcodes.dataset.data_set import load_by_id\n",
    "from qcodes.dataset.data_export import get_data_by_id"
   ]
  },
  {
   "cell_type": "markdown",
   "metadata": {},
   "source": [
    "As usual you can load the data by using the ``load_by_id`` function but you will notice that the different storage methods\n",
    "are reflected in shape of the data as it is retrieved. "
   ]
  },
  {
   "cell_type": "code",
   "execution_count": 10,
   "metadata": {
    "execution": {
     "iopub.execute_input": "2021-01-08T07:20:43.706611Z",
     "iopub.status.busy": "2021-01-08T07:20:43.705849Z",
     "iopub.status.idle": "2021-01-08T07:20:43.709007Z",
     "shell.execute_reply": "2021-01-08T07:20:43.709524Z"
    }
   },
   "outputs": [],
   "source": [
    "run_id_n = t_numeric_run_ids[0]\n",
    "run_id_a = t_array_run_ids[0]"
   ]
  },
  {
   "cell_type": "code",
   "execution_count": 11,
   "metadata": {
    "execution": {
     "iopub.execute_input": "2021-01-08T07:20:43.712423Z",
     "iopub.status.busy": "2021-01-08T07:20:43.711096Z",
     "iopub.status.idle": "2021-01-08T07:20:43.721702Z",
     "shell.execute_reply": "2021-01-08T07:20:43.721202Z"
    },
    "scrolled": true
   },
   "outputs": [
    {
     "data": {
      "text/plain": [
       "{'x1': {'x1': array([0.15342099, 0.15342099, 0.07413488, 0.07413488, 0.26366939,\n",
       "         0.26366939, 0.63747737, 0.63747737, 0.16903101, 0.16903101,\n",
       "         0.28815713, 0.28815713, 0.65984573, 0.65984573, 0.60743124,\n",
       "         0.60743124, 0.36458031, 0.36458031, 0.50722023, 0.50722023,\n",
       "         0.01668965, 0.01668965, 0.71896898, 0.71896898, 0.77876501,\n",
       "         0.77876501, 0.0445874 , 0.0445874 , 0.66808401, 0.66808401,\n",
       "         0.15931557, 0.15931557, 0.74044031, 0.74044031, 0.81424345,\n",
       "         0.81424345, 0.78557543, 0.78557543, 0.99413662, 0.99413662,\n",
       "         0.93785324, 0.93785324, 0.55860684, 0.55860684, 0.42676153,\n",
       "         0.42676153, 0.9598574 , 0.9598574 , 0.20472567, 0.20472567,\n",
       "         0.85509429, 0.85509429, 0.04997407, 0.04997407, 0.37265966,\n",
       "         0.37265966, 0.02345726, 0.02345726, 0.44479345, 0.44479345,\n",
       "         0.17685372, 0.17685372, 0.91643963, 0.91643963, 0.984002  ,\n",
       "         0.984002  , 0.91448192, 0.91448192, 0.06215588, 0.06215588,\n",
       "         0.97460826, 0.97460826, 0.09531083, 0.09531083, 0.18256253,\n",
       "         0.18256253, 0.60975091, 0.60975091, 0.15398711, 0.15398711,\n",
       "         0.21334918, 0.21334918, 0.07631028, 0.07631028, 0.42618526,\n",
       "         0.42618526, 0.60640039, 0.60640039, 0.72056752, 0.72056752,\n",
       "         0.64651697, 0.64651697, 0.34954488, 0.34954488, 0.5380901 ,\n",
       "         0.5380901 , 0.73247601, 0.73247601, 0.74107547, 0.74107547,\n",
       "         0.23392033, 0.23392033, 0.53052181, 0.53052181, 0.60865153,\n",
       "         0.60865153, 0.71687718, 0.71687718, 0.31033551, 0.31033551,\n",
       "         0.10336502, 0.10336502, 0.19572077, 0.19572077, 0.06868838,\n",
       "         0.06868838, 0.88734511, 0.88734511, 0.55939656, 0.55939656,\n",
       "         0.40473368, 0.40473368, 0.58915178, 0.58915178, 0.46916411,\n",
       "         0.46916411, 0.62452525, 0.62452525, 0.32072138, 0.32072138,\n",
       "         0.46763013, 0.46763013, 0.74996911, 0.74996911, 0.27080416,\n",
       "         0.27080416, 0.96605319, 0.96605319, 0.69497575, 0.69497575,\n",
       "         0.99387419, 0.99387419, 0.04509028, 0.04509028, 0.423407  ,\n",
       "         0.423407  , 0.70693337, 0.70693337, 0.14128216, 0.14128216,\n",
       "         0.25215789, 0.25215789, 0.77418143, 0.77418143, 0.81723694,\n",
       "         0.81723694, 0.45867432, 0.45867432, 0.46176661, 0.46176661,\n",
       "         0.2664389 , 0.2664389 , 0.21488725, 0.21488725, 0.12543255,\n",
       "         0.12543255, 0.14776821, 0.14776821, 0.34077245, 0.34077245,\n",
       "         0.38515424, 0.38515424, 0.30915947, 0.30915947, 0.98613004,\n",
       "         0.98613004, 0.64431898, 0.64431898, 0.48766978, 0.48766978,\n",
       "         0.46294845, 0.46294845, 0.5776438 , 0.5776438 , 0.22290815,\n",
       "         0.22290815, 0.88932844, 0.88932844, 0.56395051, 0.56395051,\n",
       "         0.37321162, 0.37321162, 0.62097478, 0.62097478, 0.65847317,\n",
       "         0.65847317, 0.73174548, 0.73174548, 0.08837612, 0.08837612])}}"
      ]
     },
     "execution_count": 1,
     "metadata": {},
     "output_type": "execute_result"
    }
   ],
   "source": [
    "ds = load_by_id(run_id_n)\n",
    "ds.get_parameter_data('x1')"
   ]
  },
  {
   "cell_type": "markdown",
   "metadata": {},
   "source": [
    "And a dataset stored as binary arrays"
   ]
  },
  {
   "cell_type": "code",
   "execution_count": 12,
   "metadata": {
    "execution": {
     "iopub.execute_input": "2021-01-08T07:20:43.724805Z",
     "iopub.status.busy": "2021-01-08T07:20:43.724385Z",
     "iopub.status.idle": "2021-01-08T07:20:43.773785Z",
     "shell.execute_reply": "2021-01-08T07:20:43.772851Z"
    },
    "scrolled": true
   },
   "outputs": [
    {
     "data": {
      "text/plain": [
       "{'x1': {'x1': array([[0.53779502],\n",
       "         [0.53779502],\n",
       "         [0.40388593],\n",
       "         [0.40388593],\n",
       "         [0.78496351],\n",
       "         [0.78496351],\n",
       "         [0.7393949 ],\n",
       "         [0.7393949 ],\n",
       "         [0.93194182],\n",
       "         [0.93194182],\n",
       "         [0.4828225 ],\n",
       "         [0.4828225 ],\n",
       "         [0.8395161 ],\n",
       "         [0.8395161 ],\n",
       "         [0.53846845],\n",
       "         [0.53846845],\n",
       "         [0.53268247],\n",
       "         [0.53268247],\n",
       "         [0.47148073],\n",
       "         [0.47148073],\n",
       "         [0.49248392],\n",
       "         [0.49248392],\n",
       "         [0.16563769],\n",
       "         [0.16563769],\n",
       "         [0.66658968],\n",
       "         [0.66658968],\n",
       "         [0.83932751],\n",
       "         [0.83932751],\n",
       "         [0.54706899],\n",
       "         [0.54706899],\n",
       "         [0.16037563],\n",
       "         [0.16037563],\n",
       "         [0.37366314],\n",
       "         [0.37366314],\n",
       "         [0.18760175],\n",
       "         [0.18760175],\n",
       "         [0.16839811],\n",
       "         [0.16839811],\n",
       "         [0.7350244 ],\n",
       "         [0.7350244 ],\n",
       "         [0.35486439],\n",
       "         [0.35486439],\n",
       "         [0.1176751 ],\n",
       "         [0.1176751 ],\n",
       "         [0.71655277],\n",
       "         [0.71655277],\n",
       "         [0.18581008],\n",
       "         [0.18581008],\n",
       "         [0.19323922],\n",
       "         [0.19323922],\n",
       "         [0.54306034],\n",
       "         [0.54306034],\n",
       "         [0.9666035 ],\n",
       "         [0.9666035 ],\n",
       "         [0.66435677],\n",
       "         [0.66435677],\n",
       "         [0.02390811],\n",
       "         [0.02390811],\n",
       "         [0.72148524],\n",
       "         [0.72148524],\n",
       "         [0.44492593],\n",
       "         [0.44492593],\n",
       "         [0.1704078 ],\n",
       "         [0.1704078 ],\n",
       "         [0.9699747 ],\n",
       "         [0.9699747 ],\n",
       "         [0.39890267],\n",
       "         [0.39890267],\n",
       "         [0.4581389 ],\n",
       "         [0.4581389 ],\n",
       "         [0.4357571 ],\n",
       "         [0.4357571 ],\n",
       "         [0.71171648],\n",
       "         [0.71171648],\n",
       "         [0.5902287 ],\n",
       "         [0.5902287 ],\n",
       "         [0.00656223],\n",
       "         [0.00656223],\n",
       "         [0.53024585],\n",
       "         [0.53024585],\n",
       "         [0.1200471 ],\n",
       "         [0.1200471 ],\n",
       "         [0.22812054],\n",
       "         [0.22812054],\n",
       "         [0.4979613 ],\n",
       "         [0.4979613 ],\n",
       "         [0.91709885],\n",
       "         [0.91709885],\n",
       "         [0.69657254],\n",
       "         [0.69657254],\n",
       "         [0.46166728],\n",
       "         [0.46166728],\n",
       "         [0.14200898],\n",
       "         [0.14200898],\n",
       "         [0.58435679],\n",
       "         [0.58435679],\n",
       "         [0.4153206 ],\n",
       "         [0.4153206 ],\n",
       "         [0.24289694],\n",
       "         [0.24289694],\n",
       "         [0.84089122],\n",
       "         [0.84089122],\n",
       "         [0.02066259],\n",
       "         [0.02066259],\n",
       "         [0.03342251],\n",
       "         [0.03342251],\n",
       "         [0.0754993 ],\n",
       "         [0.0754993 ],\n",
       "         [0.544488  ],\n",
       "         [0.544488  ],\n",
       "         [0.0749964 ],\n",
       "         [0.0749964 ],\n",
       "         [0.08048319],\n",
       "         [0.08048319],\n",
       "         [0.67829073],\n",
       "         [0.67829073],\n",
       "         [0.01940626],\n",
       "         [0.01940626],\n",
       "         [0.83940811],\n",
       "         [0.83940811],\n",
       "         [0.01371015],\n",
       "         [0.01371015],\n",
       "         [0.27235168],\n",
       "         [0.27235168],\n",
       "         [0.89371481],\n",
       "         [0.89371481],\n",
       "         [0.39696386],\n",
       "         [0.39696386],\n",
       "         [0.25337767],\n",
       "         [0.25337767],\n",
       "         [0.41824532],\n",
       "         [0.41824532],\n",
       "         [0.31966153],\n",
       "         [0.31966153],\n",
       "         [0.35576234],\n",
       "         [0.35576234],\n",
       "         [0.85830378],\n",
       "         [0.85830378],\n",
       "         [0.65453595],\n",
       "         [0.65453595],\n",
       "         [0.2357603 ],\n",
       "         [0.2357603 ],\n",
       "         [0.18069538],\n",
       "         [0.18069538],\n",
       "         [0.68778717],\n",
       "         [0.68778717],\n",
       "         [0.17402938],\n",
       "         [0.17402938],\n",
       "         [0.94300624],\n",
       "         [0.94300624],\n",
       "         [0.51609804],\n",
       "         [0.51609804],\n",
       "         [0.80758543],\n",
       "         [0.80758543],\n",
       "         [0.75963948],\n",
       "         [0.75963948],\n",
       "         [0.68437708],\n",
       "         [0.68437708],\n",
       "         [0.06444981],\n",
       "         [0.06444981],\n",
       "         [0.25307423],\n",
       "         [0.25307423],\n",
       "         [0.51641363],\n",
       "         [0.51641363],\n",
       "         [0.37578948],\n",
       "         [0.37578948],\n",
       "         [0.32643512],\n",
       "         [0.32643512],\n",
       "         [0.88269677],\n",
       "         [0.88269677],\n",
       "         [0.03812006],\n",
       "         [0.03812006],\n",
       "         [0.63179908],\n",
       "         [0.63179908],\n",
       "         [0.42464185],\n",
       "         [0.42464185],\n",
       "         [0.87425728],\n",
       "         [0.87425728],\n",
       "         [0.29318314],\n",
       "         [0.29318314],\n",
       "         [0.46032667],\n",
       "         [0.46032667],\n",
       "         [0.07338348],\n",
       "         [0.07338348],\n",
       "         [0.5031405 ],\n",
       "         [0.5031405 ],\n",
       "         [0.48286165],\n",
       "         [0.48286165],\n",
       "         [0.17233901],\n",
       "         [0.17233901],\n",
       "         [0.44576592],\n",
       "         [0.44576592],\n",
       "         [0.76107331],\n",
       "         [0.76107331],\n",
       "         [0.58371922],\n",
       "         [0.58371922],\n",
       "         [0.03497994],\n",
       "         [0.03497994],\n",
       "         [0.46753591],\n",
       "         [0.46753591]])}}"
      ]
     },
     "execution_count": 1,
     "metadata": {},
     "output_type": "execute_result"
    }
   ],
   "source": [
    "ds = load_by_id(run_id_a)\n",
    "ds.get_parameter_data('x1')"
   ]
  },
  {
   "cell_type": "code",
   "execution_count": null,
   "metadata": {},
   "outputs": [],
   "source": []
  }
 ],
 "metadata": {
  "kernelspec": {
   "display_name": "Python 3",
   "language": "python",
   "name": "python3"
  },
  "language_info": {
   "codemirror_mode": {
    "name": "ipython",
    "version": 3
   },
   "file_extension": ".py",
   "mimetype": "text/x-python",
   "name": "python",
   "nbconvert_exporter": "python",
   "pygments_lexer": "ipython3",
   "version": "3.7.9"
  },
  "nbsphinx": {
   "timeout": 600
  },
  "toc": {
   "base_numbering": 1,
   "nav_menu": {},
   "number_sections": true,
   "sideBar": true,
   "skip_h1_title": false,
   "title_cell": "Table of Contents",
   "title_sidebar": "Contents",
   "toc_cell": false,
   "toc_position": {},
   "toc_section_display": true,
   "toc_window_display": false
  },
  "varInspector": {
   "cols": {
    "lenName": 16,
    "lenType": 16,
    "lenVar": 40
   },
   "kernels_config": {
    "python": {
     "delete_cmd_postfix": "",
     "delete_cmd_prefix": "del ",
     "library": "var_list.py",
     "varRefreshCmd": "print(var_dic_list())"
    },
    "r": {
     "delete_cmd_postfix": ") ",
     "delete_cmd_prefix": "rm(",
     "library": "var_list.r",
     "varRefreshCmd": "cat(var_dic_list()) "
    }
   },
   "types_to_exclude": [
    "module",
    "function",
    "builtin_function_or_method",
    "instance",
    "_Feature"
   ],
   "window_display": false
  }
 },
 "nbformat": 4,
 "nbformat_minor": 2
}
