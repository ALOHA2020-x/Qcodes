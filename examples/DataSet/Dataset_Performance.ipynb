{
 "cells": [
  {
   "cell_type": "markdown",
   "metadata": {},
   "source": [
    "# DataSet Performance\n",
    "\n",
    "This notebook shows the trade-off between inserting data into a database row-by-row and as binary blobs. Inserting the data row-by-row means that we have direct access to all the data and may perform queries directly on the values of the data. On the other hand, as we shall see, this is much slower than inserting the data directly as binary blobs."
   ]
  },
  {
   "cell_type": "markdown",
   "metadata": {},
   "source": [
    "First, we choose a new location for the database to ensure that we don't add a bunch of benchmarking data to the default one."
   ]
  },
  {
   "cell_type": "code",
   "execution_count": 1,
   "metadata": {
    "execution": {
     "iopub.execute_input": "2021-05-17T09:27:59.022548Z",
     "iopub.status.busy": "2021-05-17T09:27:59.021944Z",
     "iopub.status.idle": "2021-05-17T09:28:00.251900Z",
     "shell.execute_reply": "2021-05-17T09:28:00.252470Z"
    }
   },
   "outputs": [
    {
     "name": "stdout",
     "output_type": "stream",
     "text": [
      "Logging hadn't been started.\n",
      "Activating auto-logging. Current session state plus future input saved.\n",
      "Filename       : /home/runner/.qcodes/logs/command_history.log\n",
      "Mode           : append\n",
      "Output logging : True\n",
      "Raw input log  : False\n",
      "Timestamping   : True\n",
      "State          : active\n"
     ]
    },
    {
     "name": "stdout",
     "output_type": "stream",
     "text": [
      "Qcodes Logfile : /home/runner/.qcodes/logs/210517-4720-qcodes.log\n"
     ]
    }
   ],
   "source": [
    "import os\n",
    "cwd = os.getcwd()\n",
    "import qcodes as qc\n",
    "qc.config[\"core\"][\"db_location\"] = os.path.join(cwd, 'testing.db')\n"
   ]
  },
  {
   "cell_type": "code",
   "execution_count": 2,
   "metadata": {
    "execution": {
     "iopub.execute_input": "2021-05-17T09:28:00.260145Z",
     "iopub.status.busy": "2021-05-17T09:28:00.258907Z",
     "iopub.status.idle": "2021-05-17T09:28:00.489451Z",
     "shell.execute_reply": "2021-05-17T09:28:00.488891Z"
    }
   },
   "outputs": [],
   "source": [
    "%matplotlib inline\n",
    "import time\n",
    "import matplotlib.pyplot as plt\n",
    "import numpy as np\n",
    "\n",
    "import qcodes as qc\n",
    "from qcodes.instrument.parameter import ManualParameter\n",
    "from qcodes.dataset.experiment_container import (Experiment,\n",
    "                                                 load_last_experiment,\n",
    "                                                 new_experiment)\n",
    "from qcodes.dataset.sqlite.database import initialise_database\n",
    "from qcodes import load_or_create_experiment\n",
    "from qcodes.dataset.measurements import Measurement"
   ]
  },
  {
   "cell_type": "code",
   "execution_count": 3,
   "metadata": {
    "execution": {
     "iopub.execute_input": "2021-05-17T09:28:00.493889Z",
     "iopub.status.busy": "2021-05-17T09:28:00.493179Z",
     "iopub.status.idle": "2021-05-17T09:28:00.577138Z",
     "shell.execute_reply": "2021-05-17T09:28:00.577717Z"
    }
   },
   "outputs": [
    {
     "name": "stdout",
     "output_type": "stream",
     "text": [
      "\r",
      "0it [00:00, ?it/s]"
     ]
    },
    {
     "name": "stdout",
     "output_type": "stream",
     "text": [
      "\r",
      "Upgrading database; v0 -> v1: : 0it [00:00, ?it/s]"
     ]
    },
    {
     "name": "stdout",
     "output_type": "stream",
     "text": [
      "\r",
      "Upgrading database; v0 -> v1: : 0it [00:00, ?it/s]"
     ]
    },
    {
     "name": "stdout",
     "output_type": "stream",
     "text": [
      "\n",
      "\r",
      "  0%|          | 0/1 [00:00<?, ?it/s]"
     ]
    },
    {
     "name": "stdout",
     "output_type": "stream",
     "text": [
      "\r",
      "Upgrading database; v1 -> v2:   0%|          | 0/1 [00:00<?, ?it/s]"
     ]
    },
    {
     "name": "stdout",
     "output_type": "stream",
     "text": [
      "\r",
      "Upgrading database; v1 -> v2: 100%|██████████| 1/1 [00:00<00:00, 384.13it/s]"
     ]
    },
    {
     "name": "stdout",
     "output_type": "stream",
     "text": [
      "\n",
      "\r",
      "0it [00:00, ?it/s]"
     ]
    },
    {
     "name": "stdout",
     "output_type": "stream",
     "text": [
      "\r",
      "Upgrading database; v2 -> v3: : 0it [00:00, ?it/s]"
     ]
    },
    {
     "name": "stdout",
     "output_type": "stream",
     "text": [
      "\r",
      "Upgrading database; v2 -> v3: : 0it [00:00, ?it/s]"
     ]
    },
    {
     "name": "stdout",
     "output_type": "stream",
     "text": [
      "\n",
      "\r",
      "0it [00:00, ?it/s]"
     ]
    },
    {
     "name": "stdout",
     "output_type": "stream",
     "text": [
      "\r",
      "Upgrading database; v3 -> v4: : 0it [00:00, ?it/s]"
     ]
    },
    {
     "name": "stdout",
     "output_type": "stream",
     "text": [
      "\r",
      "Upgrading database; v3 -> v4: : 0it [00:00, ?it/s]"
     ]
    },
    {
     "name": "stdout",
     "output_type": "stream",
     "text": [
      "\n",
      "\r",
      "  0%|          | 0/1 [00:00<?, ?it/s]"
     ]
    },
    {
     "name": "stdout",
     "output_type": "stream",
     "text": [
      "\r",
      "Upgrading database; v4 -> v5:   0%|          | 0/1 [00:00<?, ?it/s]"
     ]
    },
    {
     "name": "stdout",
     "output_type": "stream",
     "text": [
      "\r",
      "Upgrading database; v4 -> v5: 100%|██████████| 1/1 [00:00<00:00, 490.62it/s]"
     ]
    },
    {
     "name": "stdout",
     "output_type": "stream",
     "text": [
      "\n",
      "\r",
      "0it [00:00, ?it/s]"
     ]
    },
    {
     "name": "stdout",
     "output_type": "stream",
     "text": [
      "\r",
      "Upgrading database; v5 -> v6: : 0it [00:00, ?it/s]"
     ]
    },
    {
     "name": "stdout",
     "output_type": "stream",
     "text": [
      "\r",
      "Upgrading database; v5 -> v6: : 0it [00:00, ?it/s]"
     ]
    },
    {
     "name": "stdout",
     "output_type": "stream",
     "text": [
      "\n",
      "\r",
      "  0%|          | 0/1 [00:00<?, ?it/s]"
     ]
    },
    {
     "name": "stdout",
     "output_type": "stream",
     "text": [
      "\r",
      "Upgrading database; v6 -> v7:   0%|          | 0/1 [00:00<?, ?it/s]"
     ]
    },
    {
     "name": "stdout",
     "output_type": "stream",
     "text": [
      "\r",
      "Upgrading database; v6 -> v7: 100%|██████████| 1/1 [00:00<00:00, 196.38it/s]"
     ]
    },
    {
     "name": "stdout",
     "output_type": "stream",
     "text": [
      "\n",
      "\r",
      "  0%|          | 0/1 [00:00<?, ?it/s]"
     ]
    },
    {
     "name": "stdout",
     "output_type": "stream",
     "text": [
      "\r",
      "Upgrading database; v7 -> v8:   0%|          | 0/1 [00:00<?, ?it/s]"
     ]
    },
    {
     "name": "stdout",
     "output_type": "stream",
     "text": [
      "\r",
      "Upgrading database; v7 -> v8: 100%|██████████| 1/1 [00:00<00:00, 968.66it/s]"
     ]
    },
    {
     "name": "stdout",
     "output_type": "stream",
     "text": [
      "\n",
      "\r",
      "  0%|          | 0/1 [00:00<?, ?it/s]"
     ]
    },
    {
     "name": "stdout",
     "output_type": "stream",
     "text": [
      "\r",
      "Upgrading database; v8 -> v9:   0%|          | 0/1 [00:00<?, ?it/s]"
     ]
    },
    {
     "name": "stdout",
     "output_type": "stream",
     "text": [
      "\r",
      "Upgrading database; v8 -> v9: 100%|██████████| 1/1 [00:00<00:00, 895.84it/s]"
     ]
    },
    {
     "name": "stdout",
     "output_type": "stream",
     "text": [
      "\n"
     ]
    }
   ],
   "source": [
    "initialise_database()\n",
    "exp = load_or_create_experiment(experiment_name='tutorial_exp', sample_name=\"no sample\")"
   ]
  },
  {
   "cell_type": "markdown",
   "metadata": {},
   "source": [
    "Here, we define a simple function to benchmark the time it takes to insert n points with either numeric or array data type.\n",
    "We will compare both the time used to call ``add_result`` and the time used for the full measurement."
   ]
  },
  {
   "cell_type": "code",
   "execution_count": 4,
   "metadata": {
    "execution": {
     "iopub.execute_input": "2021-05-17T09:28:00.588731Z",
     "iopub.status.busy": "2021-05-17T09:28:00.587267Z",
     "iopub.status.idle": "2021-05-17T09:28:00.589395Z",
     "shell.execute_reply": "2021-05-17T09:28:00.589879Z"
    }
   },
   "outputs": [],
   "source": [
    "def insert_data(paramtype, npoints, nreps=1):\n",
    "\n",
    "    meas = Measurement(exp=exp)\n",
    "\n",
    "    x1 = ManualParameter('x1')\n",
    "    x2 = ManualParameter('x2')\n",
    "    x3 = ManualParameter('x3')\n",
    "    y1 = ManualParameter('y1')\n",
    "    y2 = ManualParameter('y2')\n",
    "\n",
    "    meas.register_parameter(x1, paramtype=paramtype)\n",
    "    meas.register_parameter(x2, paramtype=paramtype)\n",
    "    meas.register_parameter(x3, paramtype=paramtype)\n",
    "    meas.register_parameter(y1, setpoints=[x1, x2, x3],\n",
    "                            paramtype=paramtype)\n",
    "    meas.register_parameter(y2, setpoints=[x1, x2, x3],\n",
    "                            paramtype=paramtype)\n",
    "    start = time.perf_counter()\n",
    "    with meas.run() as datasaver:\n",
    "        start_adding = time.perf_counter()\n",
    "        for i in range(nreps):\n",
    "            datasaver.add_result((x1, np.random.rand(npoints)),\n",
    "                                 (x2, np.random.rand(npoints)),\n",
    "                                 (x3, np.random.rand(npoints)),\n",
    "                                 (y1, np.random.rand(npoints)),\n",
    "                                 (y2, np.random.rand(npoints)))\n",
    "        stop_adding = time.perf_counter()\n",
    "        run_id = datasaver.run_id\n",
    "    stop = time.perf_counter()\n",
    "    tot_time = stop - start\n",
    "    add_time = stop_adding - start_adding\n",
    "    return tot_time, add_time, run_id"
   ]
  },
  {
   "cell_type": "markdown",
   "metadata": {},
   "source": [
    "## Comparison between numeric/array data and binary blob"
   ]
  },
  {
   "cell_type": "markdown",
   "metadata": {},
   "source": [
    "### Case1: Short experiment time"
   ]
  },
  {
   "cell_type": "code",
   "execution_count": 5,
   "metadata": {
    "execution": {
     "iopub.execute_input": "2021-05-17T09:28:00.597870Z",
     "iopub.status.busy": "2021-05-17T09:28:00.596940Z",
     "iopub.status.idle": "2021-05-17T09:28:01.457672Z",
     "shell.execute_reply": "2021-05-17T09:28:01.458294Z"
    }
   },
   "outputs": [
    {
     "name": "stdout",
     "output_type": "stream",
     "text": [
      "Starting experimental run with id: 1. \n",
      "Starting experimental run with id: 2. \n",
      "Starting experimental run with id: 3. \n"
     ]
    },
    {
     "name": "stdout",
     "output_type": "stream",
     "text": [
      "Starting experimental run with id: 4. \n"
     ]
    },
    {
     "name": "stdout",
     "output_type": "stream",
     "text": [
      "Starting experimental run with id: 5. \n"
     ]
    },
    {
     "name": "stdout",
     "output_type": "stream",
     "text": [
      "Starting experimental run with id: 6. \n",
      "Starting experimental run with id: 7. \n",
      "Starting experimental run with id: 8. \n"
     ]
    },
    {
     "name": "stdout",
     "output_type": "stream",
     "text": [
      "Starting experimental run with id: 9. \n"
     ]
    },
    {
     "name": "stdout",
     "output_type": "stream",
     "text": [
      "Starting experimental run with id: 10. \n",
      "Starting experimental run with id: 11. \n"
     ]
    },
    {
     "name": "stdout",
     "output_type": "stream",
     "text": [
      "Starting experimental run with id: 12. \n",
      "Starting experimental run with id: 13. \n"
     ]
    },
    {
     "name": "stdout",
     "output_type": "stream",
     "text": [
      "Starting experimental run with id: 14. \n"
     ]
    }
   ],
   "source": [
    "sizes = [1,500,1000,2000,3000,4000,5000]\n",
    "t_numeric = []\n",
    "t_numeric_add = []\n",
    "t_array = []\n",
    "t_array_add = []\n",
    "for size in sizes:\n",
    "    tn, tna, run_id_n =  insert_data('numeric', size)\n",
    "    t_numeric.append(tn)\n",
    "    t_numeric_add.append(tna)\n",
    "\n",
    "    ta, taa, run_id_a =  insert_data('array', size)\n",
    "    t_array.append(ta)\n",
    "    t_array_add.append(taa)"
   ]
  },
  {
   "cell_type": "code",
   "execution_count": 6,
   "metadata": {
    "execution": {
     "iopub.execute_input": "2021-05-17T09:28:01.479683Z",
     "iopub.status.busy": "2021-05-17T09:28:01.463079Z",
     "iopub.status.idle": "2021-05-17T09:28:01.751082Z",
     "shell.execute_reply": "2021-05-17T09:28:01.750517Z"
    }
   },
   "outputs": [
    {
     "data": {
      "image/png": "[encoded data removed]",
      "text/plain": [
       "<Figure size 432x288 with 1 Axes>"
      ]
     },
     "metadata": {
      "needs_background": "light"
     },
     "output_type": "display_data"
    }
   ],
   "source": [
    "fig, ax = plt.subplots(1,1)\n",
    "ax.plot(sizes, t_numeric, 'o-', label='Inserting row-by-row')\n",
    "ax.plot(sizes, t_numeric_add, 'o-', label='Inserting row-by-row: add_result only')\n",
    "ax.plot(sizes, t_array, 'd-', label='Inserting as binary blob')\n",
    "ax.plot(sizes, t_array_add, 'd-', label='Inserting as binary blob: add_result only')\n",
    "ax.legend()\n",
    "ax.set_xlabel('Array length')\n",
    "ax.set_ylabel('Time (s)')\n",
    "fig.tight_layout()"
   ]
  },
  {
   "cell_type": "markdown",
   "metadata": {},
   "source": [
    "As shown in the latter figure, the time to setup and and close the experiment is approximately 0.4 sec. In case of small array sizes, the difference between inserting values of data as arrays and inserting them row-by-row is relatively unimportant. At larger array sizes, i.e. above 10000 points, the cost of writing data as individual datapoints starts to become important.\n"
   ]
  },
  {
   "cell_type": "markdown",
   "metadata": {},
   "source": [
    "### Case2: Long experiment time "
   ]
  },
  {
   "cell_type": "code",
   "execution_count": 7,
   "metadata": {
    "execution": {
     "iopub.execute_input": "2021-05-17T09:28:01.814868Z",
     "iopub.status.busy": "2021-05-17T09:28:01.758713Z",
     "iopub.status.idle": "2021-05-17T09:28:57.246043Z",
     "shell.execute_reply": "2021-05-17T09:28:57.245494Z"
    }
   },
   "outputs": [
    {
     "name": "stdout",
     "output_type": "stream",
     "text": [
      "Starting experimental run with id: 15. \n",
      "Starting experimental run with id: 16. \n"
     ]
    },
    {
     "name": "stdout",
     "output_type": "stream",
     "text": [
      "Starting experimental run with id: 17. \n"
     ]
    },
    {
     "name": "stdout",
     "output_type": "stream",
     "text": [
      "Starting experimental run with id: 18. \n"
     ]
    },
    {
     "name": "stdout",
     "output_type": "stream",
     "text": [
      "Starting experimental run with id: 19. \n"
     ]
    },
    {
     "name": "stdout",
     "output_type": "stream",
     "text": [
      "Starting experimental run with id: 20. \n"
     ]
    },
    {
     "name": "stdout",
     "output_type": "stream",
     "text": [
      "Starting experimental run with id: 21. \n"
     ]
    },
    {
     "name": "stdout",
     "output_type": "stream",
     "text": [
      "Starting experimental run with id: 22. \n"
     ]
    },
    {
     "name": "stdout",
     "output_type": "stream",
     "text": [
      "Starting experimental run with id: 23. \n"
     ]
    },
    {
     "name": "stdout",
     "output_type": "stream",
     "text": [
      "Starting experimental run with id: 24. \n"
     ]
    },
    {
     "name": "stdout",
     "output_type": "stream",
     "text": [
      "Starting experimental run with id: 25. \n"
     ]
    },
    {
     "name": "stdout",
     "output_type": "stream",
     "text": [
      "Starting experimental run with id: 26. \n"
     ]
    },
    {
     "name": "stdout",
     "output_type": "stream",
     "text": [
      "Starting experimental run with id: 27. \n"
     ]
    },
    {
     "name": "stdout",
     "output_type": "stream",
     "text": [
      "Starting experimental run with id: 28. \n"
     ]
    }
   ],
   "source": [
    "sizes = [1,500,1000,2000,3000,4000,5000]\n",
    "nreps = 100\n",
    "t_numeric = []\n",
    "t_numeric_add = []\n",
    "t_numeric_run_ids = []\n",
    "t_array = []\n",
    "t_array_add = []\n",
    "t_array_run_ids = []\n",
    "for size in sizes:\n",
    "    tn, tna, run_id_n =  insert_data('numeric', size, nreps=nreps)\n",
    "    t_numeric.append(tn)\n",
    "    t_numeric_add.append(tna)\n",
    "    t_numeric_run_ids.append(run_id_n)\n",
    "\n",
    "    ta, taa, run_id_a =  insert_data('array', size, nreps=nreps)\n",
    "    t_array.append(ta)\n",
    "    t_array_add.append(taa)\n",
    "    t_array_run_ids.append(run_id_a)"
   ]
  },
  {
   "cell_type": "code",
   "execution_count": 8,
   "metadata": {
    "execution": {
     "iopub.execute_input": "2021-05-17T09:28:57.282441Z",
     "iopub.status.busy": "2021-05-17T09:28:57.276517Z",
     "iopub.status.idle": "2021-05-17T09:28:57.521270Z",
     "shell.execute_reply": "2021-05-17T09:28:57.520527Z"
    },
    "scrolled": true
   },
   "outputs": [
    {
     "data": {
      "image/png": "[encoded data removed]",
      "text/plain": [
       "<Figure size 432x288 with 1 Axes>"
      ]
     },
     "metadata": {
      "needs_background": "light"
     },
     "output_type": "display_data"
    }
   ],
   "source": [
    "fig, ax = plt.subplots(1,1)\n",
    "ax.plot(sizes, t_numeric, 'o-', label='Inserting row-by-row')\n",
    "ax.plot(sizes, t_numeric_add, 'o-', label='Inserting row-by-row: add_result only')\n",
    "ax.plot(sizes, t_array, 'd-', label='Inserting as binary blob')\n",
    "ax.plot(sizes, t_array_add, 'd-', label='Inserting as binary blob: add_result only')\n",
    "ax.legend()\n",
    "ax.set_xlabel('Array length')\n",
    "ax.set_ylabel('Time (s)')\n",
    "fig.tight_layout()"
   ]
  },
  {
   "cell_type": "markdown",
   "metadata": {},
   "source": [
    "However, as we increase the length of the experiment, as seen here by repeating the insertion 100 times, we see a big difference between inserting values of the data row-by-row and inserting it as a binary blob."
   ]
  },
  {
   "cell_type": "markdown",
   "metadata": {},
   "source": [
    "## Loading the data "
   ]
  },
  {
   "cell_type": "code",
   "execution_count": 9,
   "metadata": {
    "execution": {
     "iopub.execute_input": "2021-05-17T09:28:57.526038Z",
     "iopub.status.busy": "2021-05-17T09:28:57.525375Z",
     "iopub.status.idle": "2021-05-17T09:28:57.527693Z",
     "shell.execute_reply": "2021-05-17T09:28:57.528164Z"
    }
   },
   "outputs": [],
   "source": [
    "from qcodes.dataset.data_set import load_by_id"
   ]
  },
  {
   "cell_type": "markdown",
   "metadata": {},
   "source": [
    "As usual you can load the data by using the ``load_by_id`` function but you will notice that the different storage methods\n",
    "are reflected in shape of the data as it is retrieved. "
   ]
  },
  {
   "cell_type": "code",
   "execution_count": 10,
   "metadata": {
    "execution": {
     "iopub.execute_input": "2021-05-17T09:28:57.533449Z",
     "iopub.status.busy": "2021-05-17T09:28:57.532130Z",
     "iopub.status.idle": "2021-05-17T09:28:57.534103Z",
     "shell.execute_reply": "2021-05-17T09:28:57.534552Z"
    }
   },
   "outputs": [],
   "source": [
    "run_id_n = t_numeric_run_ids[0]\n",
    "run_id_a = t_array_run_ids[0]"
   ]
  },
  {
   "cell_type": "code",
   "execution_count": 11,
   "metadata": {
    "execution": {
     "iopub.execute_input": "2021-05-17T09:28:57.538014Z",
     "iopub.status.busy": "2021-05-17T09:28:57.537483Z",
     "iopub.status.idle": "2021-05-17T09:28:57.548571Z",
     "shell.execute_reply": "2021-05-17T09:28:57.547872Z"
    },
    "scrolled": true
   },
   "outputs": [
    {
     "data": {
      "text/plain": [
       "{'x1': {'x1': array([0.47089206, 0.47089206, 0.5391896 , 0.5391896 , 0.60079998,\n",
       "         0.60079998, 0.22096489, 0.22096489, 0.26408388, 0.26408388,\n",
       "         0.0808278 , 0.0808278 , 0.12531801, 0.12531801, 0.81858212,\n",
       "         0.81858212, 0.15271267, 0.15271267, 0.73115382, 0.73115382,\n",
       "         0.32623285, 0.32623285, 0.52412026, 0.52412026, 0.33173656,\n",
       "         0.33173656, 0.16766602, 0.16766602, 0.37655954, 0.37655954,\n",
       "         0.55336557, 0.55336557, 0.00165262, 0.00165262, 0.33417154,\n",
       "         0.33417154, 0.73651459, 0.73651459, 0.06253431, 0.06253431,\n",
       "         0.75344942, 0.75344942, 0.32350601, 0.32350601, 0.25884376,\n",
       "         0.25884376, 0.70884812, 0.70884812, 0.61066234, 0.61066234,\n",
       "         0.93882958, 0.93882958, 0.51082518, 0.51082518, 0.0499558 ,\n",
       "         0.0499558 , 0.53367933, 0.53367933, 0.84552558, 0.84552558,\n",
       "         0.77172495, 0.77172495, 0.59165239, 0.59165239, 0.54881771,\n",
       "         0.54881771, 0.31369789, 0.31369789, 0.72048161, 0.72048161,\n",
       "         0.72019394, 0.72019394, 0.91555053, 0.91555053, 0.23573029,\n",
       "         0.23573029, 0.54825652, 0.54825652, 0.97222612, 0.97222612,\n",
       "         0.18883838, 0.18883838, 0.03630118, 0.03630118, 0.97908633,\n",
       "         0.97908633, 0.20242027, 0.20242027, 0.29924934, 0.29924934,\n",
       "         0.67240397, 0.67240397, 0.46264691, 0.46264691, 0.0842143 ,\n",
       "         0.0842143 , 0.97229936, 0.97229936, 0.81843656, 0.81843656,\n",
       "         0.67326345, 0.67326345, 0.12585093, 0.12585093, 0.98215792,\n",
       "         0.98215792, 0.95866883, 0.95866883, 0.76958154, 0.76958154,\n",
       "         0.28496446, 0.28496446, 0.9920084 , 0.9920084 , 0.72500305,\n",
       "         0.72500305, 0.19541743, 0.19541743, 0.29558705, 0.29558705,\n",
       "         0.79394617, 0.79394617, 0.25353095, 0.25353095, 0.10417217,\n",
       "         0.10417217, 0.88858277, 0.88858277, 0.02285768, 0.02285768,\n",
       "         0.32682412, 0.32682412, 0.03380756, 0.03380756, 0.47517161,\n",
       "         0.47517161, 0.38234634, 0.38234634, 0.03097304, 0.03097304,\n",
       "         0.84071832, 0.84071832, 0.68668295, 0.68668295, 0.5985591 ,\n",
       "         0.5985591 , 0.66667111, 0.66667111, 0.15141398, 0.15141398,\n",
       "         0.06251294, 0.06251294, 0.15935421, 0.15935421, 0.44169064,\n",
       "         0.44169064, 0.00838157, 0.00838157, 0.18062826, 0.18062826,\n",
       "         0.59729729, 0.59729729, 0.05715091, 0.05715091, 0.76651095,\n",
       "         0.76651095, 0.39777284, 0.39777284, 0.5183683 , 0.5183683 ,\n",
       "         0.27495718, 0.27495718, 0.8895701 , 0.8895701 , 0.17764578,\n",
       "         0.17764578, 0.91738571, 0.91738571, 0.60646126, 0.60646126,\n",
       "         0.57214622, 0.57214622, 0.04079627, 0.04079627, 0.29136586,\n",
       "         0.29136586, 0.37817057, 0.37817057, 0.40449937, 0.40449937,\n",
       "         0.21527374, 0.21527374, 0.54053623, 0.54053623, 0.20060038,\n",
       "         0.20060038, 0.05959499, 0.05959499, 0.50503295, 0.50503295])}}"
      ]
     },
     "execution_count": 1,
     "metadata": {},
     "output_type": "execute_result"
    }
   ],
   "source": [
    "ds = load_by_id(run_id_n)\n",
    "ds.get_parameter_data('x1')"
   ]
  },
  {
   "cell_type": "markdown",
   "metadata": {},
   "source": [
    "And a dataset stored as binary arrays"
   ]
  },
  {
   "cell_type": "code",
   "execution_count": 12,
   "metadata": {
    "execution": {
     "iopub.execute_input": "2021-05-17T09:28:57.552727Z",
     "iopub.status.busy": "2021-05-17T09:28:57.552134Z",
     "iopub.status.idle": "2021-05-17T09:28:57.617498Z",
     "shell.execute_reply": "2021-05-17T09:28:57.618094Z"
    },
    "scrolled": true
   },
   "outputs": [
    {
     "data": {
      "text/plain": [
       "{'x1': {'x1': array([[0.69330346],\n",
       "         [0.69330346],\n",
       "         [0.10151527],\n",
       "         [0.10151527],\n",
       "         [0.91661637],\n",
       "         [0.91661637],\n",
       "         [0.10361372],\n",
       "         [0.10361372],\n",
       "         [0.23146145],\n",
       "         [0.23146145],\n",
       "         [0.00812295],\n",
       "         [0.00812295],\n",
       "         [0.35723389],\n",
       "         [0.35723389],\n",
       "         [0.55449336],\n",
       "         [0.55449336],\n",
       "         [0.12753732],\n",
       "         [0.12753732],\n",
       "         [0.57175309],\n",
       "         [0.57175309],\n",
       "         [0.06366283],\n",
       "         [0.06366283],\n",
       "         [0.58311877],\n",
       "         [0.58311877],\n",
       "         [0.2472903 ],\n",
       "         [0.2472903 ],\n",
       "         [0.95767951],\n",
       "         [0.95767951],\n",
       "         [0.11610957],\n",
       "         [0.11610957],\n",
       "         [0.59644338],\n",
       "         [0.59644338],\n",
       "         [0.62158941],\n",
       "         [0.62158941],\n",
       "         [0.75182357],\n",
       "         [0.75182357],\n",
       "         [0.53988935],\n",
       "         [0.53988935],\n",
       "         [0.71833526],\n",
       "         [0.71833526],\n",
       "         [0.35750968],\n",
       "         [0.35750968],\n",
       "         [0.80811563],\n",
       "         [0.80811563],\n",
       "         [0.68936429],\n",
       "         [0.68936429],\n",
       "         [0.50602879],\n",
       "         [0.50602879],\n",
       "         [0.30706109],\n",
       "         [0.30706109],\n",
       "         [0.84490565],\n",
       "         [0.84490565],\n",
       "         [0.63098918],\n",
       "         [0.63098918],\n",
       "         [0.5611833 ],\n",
       "         [0.5611833 ],\n",
       "         [0.44255754],\n",
       "         [0.44255754],\n",
       "         [0.89187818],\n",
       "         [0.89187818],\n",
       "         [0.45055298],\n",
       "         [0.45055298],\n",
       "         [0.78999864],\n",
       "         [0.78999864],\n",
       "         [0.66234634],\n",
       "         [0.66234634],\n",
       "         [0.71139087],\n",
       "         [0.71139087],\n",
       "         [0.3384535 ],\n",
       "         [0.3384535 ],\n",
       "         [0.91272499],\n",
       "         [0.91272499],\n",
       "         [0.23656302],\n",
       "         [0.23656302],\n",
       "         [0.7479397 ],\n",
       "         [0.7479397 ],\n",
       "         [0.22661548],\n",
       "         [0.22661548],\n",
       "         [0.0899845 ],\n",
       "         [0.0899845 ],\n",
       "         [0.03149506],\n",
       "         [0.03149506],\n",
       "         [0.75872829],\n",
       "         [0.75872829],\n",
       "         [0.02616206],\n",
       "         [0.02616206],\n",
       "         [0.14466984],\n",
       "         [0.14466984],\n",
       "         [0.04915278],\n",
       "         [0.04915278],\n",
       "         [0.52560998],\n",
       "         [0.52560998],\n",
       "         [0.0855232 ],\n",
       "         [0.0855232 ],\n",
       "         [0.89051355],\n",
       "         [0.89051355],\n",
       "         [0.90022852],\n",
       "         [0.90022852],\n",
       "         [0.16560624],\n",
       "         [0.16560624],\n",
       "         [0.09211071],\n",
       "         [0.09211071],\n",
       "         [0.79006314],\n",
       "         [0.79006314],\n",
       "         [0.34914932],\n",
       "         [0.34914932],\n",
       "         [0.45712141],\n",
       "         [0.45712141],\n",
       "         [0.0575286 ],\n",
       "         [0.0575286 ],\n",
       "         [0.37654966],\n",
       "         [0.37654966],\n",
       "         [0.09513977],\n",
       "         [0.09513977],\n",
       "         [0.18627202],\n",
       "         [0.18627202],\n",
       "         [0.36266913],\n",
       "         [0.36266913],\n",
       "         [0.92724573],\n",
       "         [0.92724573],\n",
       "         [0.49090605],\n",
       "         [0.49090605],\n",
       "         [0.68670048],\n",
       "         [0.68670048],\n",
       "         [0.77116224],\n",
       "         [0.77116224],\n",
       "         [0.93342357],\n",
       "         [0.93342357],\n",
       "         [0.46620036],\n",
       "         [0.46620036],\n",
       "         [0.2013095 ],\n",
       "         [0.2013095 ],\n",
       "         [0.46245028],\n",
       "         [0.46245028],\n",
       "         [0.98966112],\n",
       "         [0.98966112],\n",
       "         [0.29733302],\n",
       "         [0.29733302],\n",
       "         [0.73561402],\n",
       "         [0.73561402],\n",
       "         [0.94759636],\n",
       "         [0.94759636],\n",
       "         [0.11503598],\n",
       "         [0.11503598],\n",
       "         [0.99280109],\n",
       "         [0.99280109],\n",
       "         [0.3002436 ],\n",
       "         [0.3002436 ],\n",
       "         [0.6961136 ],\n",
       "         [0.6961136 ],\n",
       "         [0.43332251],\n",
       "         [0.43332251],\n",
       "         [0.399432  ],\n",
       "         [0.399432  ],\n",
       "         [0.47507172],\n",
       "         [0.47507172],\n",
       "         [0.49938914],\n",
       "         [0.49938914],\n",
       "         [0.53081152],\n",
       "         [0.53081152],\n",
       "         [0.04880758],\n",
       "         [0.04880758],\n",
       "         [0.34675689],\n",
       "         [0.34675689],\n",
       "         [0.69190458],\n",
       "         [0.69190458],\n",
       "         [0.86153267],\n",
       "         [0.86153267],\n",
       "         [0.0622006 ],\n",
       "         [0.0622006 ],\n",
       "         [0.58120915],\n",
       "         [0.58120915],\n",
       "         [0.34546249],\n",
       "         [0.34546249],\n",
       "         [0.02256664],\n",
       "         [0.02256664],\n",
       "         [0.97698888],\n",
       "         [0.97698888],\n",
       "         [0.60963773],\n",
       "         [0.60963773],\n",
       "         [0.17613438],\n",
       "         [0.17613438],\n",
       "         [0.54067909],\n",
       "         [0.54067909],\n",
       "         [0.09020564],\n",
       "         [0.09020564],\n",
       "         [0.87742806],\n",
       "         [0.87742806],\n",
       "         [0.01423519],\n",
       "         [0.01423519],\n",
       "         [0.54844683],\n",
       "         [0.54844683],\n",
       "         [0.42144577],\n",
       "         [0.42144577],\n",
       "         [0.09021346],\n",
       "         [0.09021346],\n",
       "         [0.71957358],\n",
       "         [0.71957358],\n",
       "         [0.72067961],\n",
       "         [0.72067961]])}}"
      ]
     },
     "execution_count": 1,
     "metadata": {},
     "output_type": "execute_result"
    }
   ],
   "source": [
    "ds = load_by_id(run_id_a)\n",
    "ds.get_parameter_data('x1')"
   ]
  },
  {
   "cell_type": "code",
   "execution_count": null,
   "metadata": {},
   "outputs": [],
   "source": []
  }
 ],
 "metadata": {
  "kernelspec": {
   "display_name": "Python 3",
   "language": "python",
   "name": "python3"
  },
  "language_info": {
   "codemirror_mode": {
    "name": "ipython",
    "version": 3
   },
   "file_extension": ".py",
   "mimetype": "text/x-python",
   "name": "python",
   "nbconvert_exporter": "python",
   "pygments_lexer": "ipython3",
   "version": "3.7.10"
  },
  "nbsphinx": {
   "timeout": 600
  },
  "toc": {
   "base_numbering": 1,
   "nav_menu": {},
   "number_sections": true,
   "sideBar": true,
   "skip_h1_title": false,
   "title_cell": "Table of Contents",
   "title_sidebar": "Contents",
   "toc_cell": false,
   "toc_position": {},
   "toc_section_display": true,
   "toc_window_display": false
  },
  "varInspector": {
   "cols": {
    "lenName": 16,
    "lenType": 16,
    "lenVar": 40
   },
   "kernels_config": {
    "python": {
     "delete_cmd_postfix": "",
     "delete_cmd_prefix": "del ",
     "library": "var_list.py",
     "varRefreshCmd": "print(var_dic_list())"
    },
    "r": {
     "delete_cmd_postfix": ") ",
     "delete_cmd_prefix": "rm(",
     "library": "var_list.r",
     "varRefreshCmd": "cat(var_dic_list()) "
    }
   },
   "types_to_exclude": [
    "module",
    "function",
    "builtin_function_or_method",
    "instance",
    "_Feature"
   ],
   "window_display": false
  }
 },
 "nbformat": 4,
 "nbformat_minor": 4
}
