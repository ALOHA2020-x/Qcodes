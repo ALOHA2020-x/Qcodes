{
 "cells": [
  {
   "cell_type": "markdown",
   "metadata": {},
   "source": [
    "# DataSet Performance\n",
    "\n",
    "This notebook shows the trade-off between inserting data into a database row-by-row and as binary blobs. Inserting the data row-by-row means that we have direct access to all the data and may perform queries directly on the values of the data. On the other hand, as we shall see, this is much slower than inserting the data directly as binary blobs."
   ]
  },
  {
   "cell_type": "markdown",
   "metadata": {},
   "source": [
    "First, we choose a new location for the database to ensure that we don't add a bunch of benchmarking data to the default one."
   ]
  },
  {
   "cell_type": "code",
   "execution_count": 1,
   "metadata": {
    "execution": {
     "iopub.execute_input": "2020-11-10T11:08:10.938756Z",
     "iopub.status.busy": "2020-11-10T11:08:10.937940Z",
     "iopub.status.idle": "2020-11-10T11:08:12.011006Z",
     "shell.execute_reply": "2020-11-10T11:08:12.009770Z"
    }
   },
   "outputs": [
    {
     "name": "stdout",
     "output_type": "stream",
     "text": [
      "Logging hadn't been started.\n",
      "Activating auto-logging. Current session state plus future input saved.\n",
      "Filename       : /home/vsts/.qcodes/logs/command_history.log\n",
      "Mode           : append\n",
      "Output logging : True\n",
      "Raw input log  : False\n",
      "Timestamping   : True\n",
      "State          : active\n"
     ]
    },
    {
     "name": "stdout",
     "output_type": "stream",
     "text": [
      "Qcodes Logfile : /home/vsts/.qcodes/logs/201110-14138-qcodes.log\n"
     ]
    }
   ],
   "source": [
    "import os\n",
    "cwd = os.getcwd()\n",
    "import qcodes as qc\n",
    "qc.config[\"core\"][\"db_location\"] = os.path.join(cwd, 'testing.db')\n"
   ]
  },
  {
   "cell_type": "code",
   "execution_count": 2,
   "metadata": {
    "execution": {
     "iopub.execute_input": "2020-11-10T11:08:12.018116Z",
     "iopub.status.busy": "2020-11-10T11:08:12.017360Z",
     "iopub.status.idle": "2020-11-10T11:08:12.206324Z",
     "shell.execute_reply": "2020-11-10T11:08:12.205808Z"
    }
   },
   "outputs": [],
   "source": [
    "%matplotlib inline\n",
    "import time\n",
    "import matplotlib.pyplot as plt\n",
    "import numpy as np\n",
    "\n",
    "import qcodes as qc\n",
    "from qcodes.instrument.parameter import ManualParameter\n",
    "from qcodes.dataset.experiment_container import (Experiment,\n",
    "                                                 load_last_experiment,\n",
    "                                                 new_experiment)\n",
    "from qcodes.dataset.sqlite.database import initialise_database\n",
    "from qcodes import load_or_create_experiment\n",
    "from qcodes.dataset.measurements import Measurement"
   ]
  },
  {
   "cell_type": "code",
   "execution_count": 3,
   "metadata": {
    "execution": {
     "iopub.execute_input": "2020-11-10T11:08:12.210244Z",
     "iopub.status.busy": "2020-11-10T11:08:12.209449Z",
     "iopub.status.idle": "2020-11-10T11:08:12.351081Z",
     "shell.execute_reply": "2020-11-10T11:08:12.350565Z"
    }
   },
   "outputs": [
    {
     "name": "stdout",
     "output_type": "stream",
     "text": [
      "\r",
      "0it [00:00, ?it/s]"
     ]
    },
    {
     "name": "stdout",
     "output_type": "stream",
     "text": [
      "\r",
      "Upgrading database; v0 -> v1: : 0it [00:00, ?it/s]"
     ]
    },
    {
     "name": "stdout",
     "output_type": "stream",
     "text": [
      "\r",
      "Upgrading database; v0 -> v1: : 0it [00:00, ?it/s]"
     ]
    },
    {
     "name": "stdout",
     "output_type": "stream",
     "text": [
      "\n",
      "\r",
      "  0%|          | 0/1 [00:00<?, ?it/s]"
     ]
    },
    {
     "name": "stdout",
     "output_type": "stream",
     "text": [
      "\r",
      "Upgrading database; v1 -> v2:   0%|          | 0/1 [00:00<?, ?it/s]"
     ]
    },
    {
     "name": "stdout",
     "output_type": "stream",
     "text": [
      "\r",
      "Upgrading database; v1 -> v2: 100%|██████████| 1/1 [00:00<00:00, 611.06it/s]"
     ]
    },
    {
     "name": "stdout",
     "output_type": "stream",
     "text": [
      "\n",
      "\r",
      "0it [00:00, ?it/s]"
     ]
    },
    {
     "name": "stdout",
     "output_type": "stream",
     "text": [
      "\r",
      "Upgrading database; v2 -> v3: : 0it [00:00, ?it/s]"
     ]
    },
    {
     "name": "stdout",
     "output_type": "stream",
     "text": [
      "\r",
      "Upgrading database; v2 -> v3: : 0it [00:00, ?it/s]"
     ]
    },
    {
     "name": "stdout",
     "output_type": "stream",
     "text": [
      "\n",
      "\r",
      "0it [00:00, ?it/s]"
     ]
    },
    {
     "name": "stdout",
     "output_type": "stream",
     "text": [
      "\r",
      "Upgrading database; v3 -> v4: : 0it [00:00, ?it/s]"
     ]
    },
    {
     "name": "stdout",
     "output_type": "stream",
     "text": [
      "\r",
      "Upgrading database; v3 -> v4: : 0it [00:00, ?it/s]"
     ]
    },
    {
     "name": "stdout",
     "output_type": "stream",
     "text": [
      "\n",
      "\r",
      "  0%|          | 0/1 [00:00<?, ?it/s]"
     ]
    },
    {
     "name": "stdout",
     "output_type": "stream",
     "text": [
      "\r",
      "Upgrading database; v4 -> v5:   0%|          | 0/1 [00:00<?, ?it/s]"
     ]
    },
    {
     "name": "stdout",
     "output_type": "stream",
     "text": [
      "\r",
      "Upgrading database; v4 -> v5: 100%|██████████| 1/1 [00:00<00:00, 444.83it/s]"
     ]
    },
    {
     "name": "stdout",
     "output_type": "stream",
     "text": [
      "\n",
      "\r",
      "0it [00:00, ?it/s]"
     ]
    },
    {
     "name": "stdout",
     "output_type": "stream",
     "text": [
      "\r",
      "Upgrading database; v5 -> v6: : 0it [00:00, ?it/s]"
     ]
    },
    {
     "name": "stdout",
     "output_type": "stream",
     "text": [
      "\r",
      "Upgrading database; v5 -> v6: : 0it [00:00, ?it/s]"
     ]
    },
    {
     "name": "stdout",
     "output_type": "stream",
     "text": [
      "\n",
      "\r",
      "  0%|          | 0/1 [00:00<?, ?it/s]"
     ]
    },
    {
     "name": "stdout",
     "output_type": "stream",
     "text": [
      "\r",
      "Upgrading database; v6 -> v7:   0%|          | 0/1 [00:00<?, ?it/s]"
     ]
    },
    {
     "name": "stdout",
     "output_type": "stream",
     "text": [
      "\r",
      "Upgrading database; v6 -> v7: 100%|██████████| 1/1 [00:00<00:00, 248.70it/s]"
     ]
    },
    {
     "name": "stdout",
     "output_type": "stream",
     "text": [
      "\n",
      "\r",
      "  0%|          | 0/1 [00:00<?, ?it/s]"
     ]
    },
    {
     "name": "stdout",
     "output_type": "stream",
     "text": [
      "\r",
      "Upgrading database; v7 -> v8:   0%|          | 0/1 [00:00<?, ?it/s]"
     ]
    },
    {
     "name": "stdout",
     "output_type": "stream",
     "text": [
      "\r",
      "Upgrading database; v7 -> v8: 100%|██████████| 1/1 [00:00<00:00, 549.06it/s]"
     ]
    },
    {
     "name": "stdout",
     "output_type": "stream",
     "text": [
      "\n",
      "\r",
      "  0%|          | 0/1 [00:00<?, ?it/s]"
     ]
    },
    {
     "name": "stdout",
     "output_type": "stream",
     "text": [
      "\r",
      "Upgrading database; v8 -> v9:   0%|          | 0/1 [00:00<?, ?it/s]"
     ]
    },
    {
     "name": "stdout",
     "output_type": "stream",
     "text": [
      "\r",
      "Upgrading database; v8 -> v9: 100%|██████████| 1/1 [00:00<00:00, 463.46it/s]"
     ]
    },
    {
     "name": "stdout",
     "output_type": "stream",
     "text": [
      "\n"
     ]
    }
   ],
   "source": [
    "initialise_database()\n",
    "exp = load_or_create_experiment(experiment_name='tutorial_exp', sample_name=\"no sample\")"
   ]
  },
  {
   "cell_type": "markdown",
   "metadata": {},
   "source": [
    "Here, we define a simple function to benchmark the time it takes to insert n points with either numeric or array data type.\n",
    "We will compare both the time used to call ``add_result`` and the time used for the full measurement."
   ]
  },
  {
   "cell_type": "code",
   "execution_count": 4,
   "metadata": {
    "execution": {
     "iopub.execute_input": "2020-11-10T11:08:12.358525Z",
     "iopub.status.busy": "2020-11-10T11:08:12.357581Z",
     "iopub.status.idle": "2020-11-10T11:08:12.361235Z",
     "shell.execute_reply": "2020-11-10T11:08:12.360711Z"
    }
   },
   "outputs": [],
   "source": [
    "def insert_data(paramtype, npoints, nreps=1):\n",
    "\n",
    "    meas = Measurement(exp=exp)\n",
    "\n",
    "    x1 = ManualParameter('x1')\n",
    "    x2 = ManualParameter('x2')\n",
    "    x3 = ManualParameter('x3')\n",
    "    y1 = ManualParameter('y1')\n",
    "    y2 = ManualParameter('y2')\n",
    "\n",
    "    meas.register_parameter(x1, paramtype=paramtype)\n",
    "    meas.register_parameter(x2, paramtype=paramtype)\n",
    "    meas.register_parameter(x3, paramtype=paramtype)\n",
    "    meas.register_parameter(y1, setpoints=[x1, x2, x3],\n",
    "                            paramtype=paramtype)\n",
    "    meas.register_parameter(y2, setpoints=[x1, x2, x3],\n",
    "                            paramtype=paramtype)\n",
    "    start = time.perf_counter()\n",
    "    with meas.run() as datasaver:\n",
    "        start_adding = time.perf_counter()\n",
    "        for i in range(nreps):\n",
    "            datasaver.add_result((x1, np.random.rand(npoints)),\n",
    "                                 (x2, np.random.rand(npoints)),\n",
    "                                 (x3, np.random.rand(npoints)),\n",
    "                                 (y1, np.random.rand(npoints)),\n",
    "                                 (y2, np.random.rand(npoints)))\n",
    "        stop_adding = time.perf_counter()\n",
    "        run_id = datasaver.run_id\n",
    "    stop = time.perf_counter()\n",
    "    tot_time = stop - start\n",
    "    add_time = stop_adding - start_adding\n",
    "    return tot_time, add_time, run_id"
   ]
  },
  {
   "cell_type": "markdown",
   "metadata": {},
   "source": [
    "## Comparison between numeric/array data and binary blob"
   ]
  },
  {
   "cell_type": "markdown",
   "metadata": {},
   "source": [
    "### Case1: Short experiment time"
   ]
  },
  {
   "cell_type": "code",
   "execution_count": 5,
   "metadata": {
    "execution": {
     "iopub.execute_input": "2020-11-10T11:08:12.367883Z",
     "iopub.status.busy": "2020-11-10T11:08:12.367263Z",
     "iopub.status.idle": "2020-11-10T11:08:13.223682Z",
     "shell.execute_reply": "2020-11-10T11:08:13.222745Z"
    }
   },
   "outputs": [
    {
     "name": "stdout",
     "output_type": "stream",
     "text": [
      "Starting experimental run with id: 1. \n",
      "Starting experimental run with id: 2. \n",
      "Starting experimental run with id: 3. \n",
      "Starting experimental run with id: 4. \n"
     ]
    },
    {
     "name": "stdout",
     "output_type": "stream",
     "text": [
      "Starting experimental run with id: 5. \n"
     ]
    },
    {
     "name": "stdout",
     "output_type": "stream",
     "text": [
      "Starting experimental run with id: 6. \n"
     ]
    },
    {
     "name": "stdout",
     "output_type": "stream",
     "text": [
      "Starting experimental run with id: 7. \n"
     ]
    },
    {
     "name": "stdout",
     "output_type": "stream",
     "text": [
      "Starting experimental run with id: 8. \n",
      "Starting experimental run with id: 9. \n"
     ]
    },
    {
     "name": "stdout",
     "output_type": "stream",
     "text": [
      "Starting experimental run with id: 10. \n",
      "Starting experimental run with id: 11. \n"
     ]
    },
    {
     "name": "stdout",
     "output_type": "stream",
     "text": [
      "Starting experimental run with id: 12. \n",
      "Starting experimental run with id: 13. \n"
     ]
    },
    {
     "name": "stdout",
     "output_type": "stream",
     "text": [
      "Starting experimental run with id: 14. \n"
     ]
    }
   ],
   "source": [
    "sizes = [1,500,1000,2000,3000,4000,5000]\n",
    "t_numeric = []\n",
    "t_numeric_add = []\n",
    "t_array = []\n",
    "t_array_add = []\n",
    "for size in sizes:\n",
    "    tn, tna, run_id_n =  insert_data('numeric', size)\n",
    "    t_numeric.append(tn)\n",
    "    t_numeric_add.append(tna)\n",
    "\n",
    "    ta, taa, run_id_a =  insert_data('array', size)\n",
    "    t_array.append(ta)\n",
    "    t_array_add.append(taa)"
   ]
  },
  {
   "cell_type": "code",
   "execution_count": 6,
   "metadata": {
    "execution": {
     "iopub.execute_input": "2020-11-10T11:08:13.266383Z",
     "iopub.status.busy": "2020-11-10T11:08:13.253399Z",
     "iopub.status.idle": "2020-11-10T11:08:13.426530Z",
     "shell.execute_reply": "2020-11-10T11:08:13.427322Z"
    }
   },
   "outputs": [
    {
     "data": {
      "image/png": "[encoded data removed]",
      "text/plain": [
       "<Figure size 432x288 with 1 Axes>"
      ]
     },
     "metadata": {
      "needs_background": "light"
     },
     "output_type": "display_data"
    }
   ],
   "source": [
    "fig, ax = plt.subplots(1,1)\n",
    "ax.plot(sizes, t_numeric, 'o-', label='Inserting row-by-row')\n",
    "ax.plot(sizes, t_numeric_add, 'o-', label='Inserting row-by-row: add_result only')\n",
    "ax.plot(sizes, t_array, 'd-', label='Inserting as binary blob')\n",
    "ax.plot(sizes, t_array_add, 'd-', label='Inserting as binary blob: add_result only')\n",
    "ax.legend()\n",
    "ax.set_xlabel('Array length')\n",
    "ax.set_ylabel('Time (s)')\n",
    "fig.tight_layout()"
   ]
  },
  {
   "cell_type": "markdown",
   "metadata": {},
   "source": [
    "As shown in the latter figure, the time to setup and and close the experiment is approximately 0.4 sec. In case of small array sizes, the difference between inserting values of data as arrays and inserting them row-by-row is relatively unimportant. At larger array sizes, i.e. above 10000 points, the cost of writing data as individual datapoints starts to become important.\n"
   ]
  },
  {
   "cell_type": "markdown",
   "metadata": {},
   "source": [
    "### Case2: Long experiment time "
   ]
  },
  {
   "cell_type": "code",
   "execution_count": 7,
   "metadata": {
    "execution": {
     "iopub.execute_input": "2020-11-10T11:08:13.434909Z",
     "iopub.status.busy": "2020-11-10T11:08:13.434224Z",
     "iopub.status.idle": "2020-11-10T11:09:12.412410Z",
     "shell.execute_reply": "2020-11-10T11:09:12.413201Z"
    }
   },
   "outputs": [
    {
     "name": "stdout",
     "output_type": "stream",
     "text": [
      "Starting experimental run with id: 15. \n",
      "Starting experimental run with id: 16. \n",
      "Starting experimental run with id: 17. \n"
     ]
    },
    {
     "name": "stdout",
     "output_type": "stream",
     "text": [
      "Starting experimental run with id: 18. \n",
      "Starting experimental run with id: 19. \n"
     ]
    },
    {
     "name": "stdout",
     "output_type": "stream",
     "text": [
      "Starting experimental run with id: 20. \n"
     ]
    },
    {
     "name": "stdout",
     "output_type": "stream",
     "text": [
      "Starting experimental run with id: 21. \n"
     ]
    },
    {
     "name": "stdout",
     "output_type": "stream",
     "text": [
      "Starting experimental run with id: 22. \n"
     ]
    },
    {
     "name": "stdout",
     "output_type": "stream",
     "text": [
      "Starting experimental run with id: 23. \n"
     ]
    },
    {
     "name": "stdout",
     "output_type": "stream",
     "text": [
      "Starting experimental run with id: 24. \n"
     ]
    },
    {
     "name": "stdout",
     "output_type": "stream",
     "text": [
      "Starting experimental run with id: 25. \n"
     ]
    },
    {
     "name": "stdout",
     "output_type": "stream",
     "text": [
      "Starting experimental run with id: 26. \n"
     ]
    },
    {
     "name": "stdout",
     "output_type": "stream",
     "text": [
      "Starting experimental run with id: 27. \n"
     ]
    },
    {
     "name": "stdout",
     "output_type": "stream",
     "text": [
      "Starting experimental run with id: 28. \n"
     ]
    }
   ],
   "source": [
    "sizes = [1,500,1000,2000,3000,4000,5000]\n",
    "nreps = 100\n",
    "t_numeric = []\n",
    "t_numeric_add = []\n",
    "t_numeric_run_ids = []\n",
    "t_array = []\n",
    "t_array_add = []\n",
    "t_array_run_ids = []\n",
    "for size in sizes:\n",
    "    tn, tna, run_id_n =  insert_data('numeric', size, nreps=nreps)\n",
    "    t_numeric.append(tn)\n",
    "    t_numeric_add.append(tna)\n",
    "    t_numeric_run_ids.append(run_id_n)\n",
    "\n",
    "    ta, taa, run_id_a =  insert_data('array', size, nreps=nreps)\n",
    "    t_array.append(ta)\n",
    "    t_array_add.append(taa)\n",
    "    t_array_run_ids.append(run_id_a)"
   ]
  },
  {
   "cell_type": "code",
   "execution_count": 8,
   "metadata": {
    "execution": {
     "iopub.execute_input": "2020-11-10T11:09:12.440831Z",
     "iopub.status.busy": "2020-11-10T11:09:12.439442Z",
     "iopub.status.idle": "2020-11-10T11:09:12.635698Z",
     "shell.execute_reply": "2020-11-10T11:09:12.636144Z"
    },
    "scrolled": true
   },
   "outputs": [
    {
     "data": {
      "image/png": "[encoded data removed]",
      "text/plain": [
       "<Figure size 432x288 with 1 Axes>"
      ]
     },
     "metadata": {
      "needs_background": "light"
     },
     "output_type": "display_data"
    }
   ],
   "source": [
    "fig, ax = plt.subplots(1,1)\n",
    "ax.plot(sizes, t_numeric, 'o-', label='Inserting row-by-row')\n",
    "ax.plot(sizes, t_numeric_add, 'o-', label='Inserting row-by-row: add_result only')\n",
    "ax.plot(sizes, t_array, 'd-', label='Inserting as binary blob')\n",
    "ax.plot(sizes, t_array_add, 'd-', label='Inserting as binary blob: add_result only')\n",
    "ax.legend()\n",
    "ax.set_xlabel('Array length')\n",
    "ax.set_ylabel('Time (s)')\n",
    "fig.tight_layout()"
   ]
  },
  {
   "cell_type": "markdown",
   "metadata": {},
   "source": [
    "However, as we increase the length of the experiment, as seen here by repeating the insertion 100 times, we see a big difference between inserting values of the data row-by-row and inserting it as a binary blob."
   ]
  },
  {
   "cell_type": "markdown",
   "metadata": {},
   "source": [
    "## Loading the data "
   ]
  },
  {
   "cell_type": "code",
   "execution_count": 9,
   "metadata": {
    "execution": {
     "iopub.execute_input": "2020-11-10T11:09:12.641371Z",
     "iopub.status.busy": "2020-11-10T11:09:12.640290Z",
     "iopub.status.idle": "2020-11-10T11:09:12.643659Z",
     "shell.execute_reply": "2020-11-10T11:09:12.643110Z"
    }
   },
   "outputs": [],
   "source": [
    "from qcodes.dataset.data_set import load_by_id\n",
    "from qcodes.dataset.data_export import get_data_by_id"
   ]
  },
  {
   "cell_type": "markdown",
   "metadata": {},
   "source": [
    "As usual you can load the data by using the ``load_by_id`` function but you will notice that the different storage methods\n",
    "are reflected in shape of the data as it is retrieved. "
   ]
  },
  {
   "cell_type": "code",
   "execution_count": 10,
   "metadata": {
    "execution": {
     "iopub.execute_input": "2020-11-10T11:09:12.648030Z",
     "iopub.status.busy": "2020-11-10T11:09:12.646895Z",
     "iopub.status.idle": "2020-11-10T11:09:12.648680Z",
     "shell.execute_reply": "2020-11-10T11:09:12.649137Z"
    }
   },
   "outputs": [],
   "source": [
    "run_id_n = t_numeric_run_ids[0]\n",
    "run_id_a = t_array_run_ids[0]"
   ]
  },
  {
   "cell_type": "code",
   "execution_count": 11,
   "metadata": {
    "execution": {
     "iopub.execute_input": "2020-11-10T11:09:12.652347Z",
     "iopub.status.busy": "2020-11-10T11:09:12.651812Z",
     "iopub.status.idle": "2020-11-10T11:09:12.669307Z",
     "shell.execute_reply": "2020-11-10T11:09:12.669733Z"
    },
    "scrolled": true
   },
   "outputs": [
    {
     "data": {
      "text/plain": [
       "{'x1': {'x1': array([0.15429338, 0.15429338, 0.40054149, 0.40054149, 0.33243975,\n",
       "         0.33243975, 0.49317156, 0.49317156, 0.98027806, 0.98027806,\n",
       "         0.00895862, 0.00895862, 0.55087192, 0.55087192, 0.62711776,\n",
       "         0.62711776, 0.89662296, 0.89662296, 0.69747332, 0.69747332,\n",
       "         0.70014014, 0.70014014, 0.9459463 , 0.9459463 , 0.06360201,\n",
       "         0.06360201, 0.72688581, 0.72688581, 0.83680746, 0.83680746,\n",
       "         0.92487097, 0.92487097, 0.33838907, 0.33838907, 0.71505281,\n",
       "         0.71505281, 0.58816618, 0.58816618, 0.86012025, 0.86012025,\n",
       "         0.65597965, 0.65597965, 0.13800035, 0.13800035, 0.16470247,\n",
       "         0.16470247, 0.05709691, 0.05709691, 0.51435519, 0.51435519,\n",
       "         0.84388495, 0.84388495, 0.54487696, 0.54487696, 0.37982354,\n",
       "         0.37982354, 0.53661619, 0.53661619, 0.97241361, 0.97241361,\n",
       "         0.55723144, 0.55723144, 0.31681398, 0.31681398, 0.52251012,\n",
       "         0.52251012, 0.48464391, 0.48464391, 0.23912234, 0.23912234,\n",
       "         0.04200138, 0.04200138, 0.08122717, 0.08122717, 0.00661761,\n",
       "         0.00661761, 0.21150723, 0.21150723, 0.71706358, 0.71706358,\n",
       "         0.22620404, 0.22620404, 0.9859139 , 0.9859139 , 0.19882856,\n",
       "         0.19882856, 0.02679585, 0.02679585, 0.35229557, 0.35229557,\n",
       "         0.3868522 , 0.3868522 , 0.39391396, 0.39391396, 0.10336095,\n",
       "         0.10336095, 0.59487539, 0.59487539, 0.61601951, 0.61601951,\n",
       "         0.83209373, 0.83209373, 0.96143434, 0.96143434, 0.95700789,\n",
       "         0.95700789, 0.66915942, 0.66915942, 0.78146767, 0.78146767,\n",
       "         0.844326  , 0.844326  , 0.10375935, 0.10375935, 0.61637114,\n",
       "         0.61637114, 0.89742733, 0.89742733, 0.86472614, 0.86472614,\n",
       "         0.30018218, 0.30018218, 0.29630979, 0.29630979, 0.89325541,\n",
       "         0.89325541, 0.04096887, 0.04096887, 0.83370707, 0.83370707,\n",
       "         0.33454647, 0.33454647, 0.83817004, 0.83817004, 0.3560394 ,\n",
       "         0.3560394 , 0.3528569 , 0.3528569 , 0.06722784, 0.06722784,\n",
       "         0.95555858, 0.95555858, 0.34226427, 0.34226427, 0.35091366,\n",
       "         0.35091366, 0.0377739 , 0.0377739 , 0.16279884, 0.16279884,\n",
       "         0.13370982, 0.13370982, 0.30319698, 0.30319698, 0.70027966,\n",
       "         0.70027966, 0.77671301, 0.77671301, 0.81646883, 0.81646883,\n",
       "         0.10316047, 0.10316047, 0.70597336, 0.70597336, 0.50660778,\n",
       "         0.50660778, 0.28235734, 0.28235734, 0.41191036, 0.41191036,\n",
       "         0.68995265, 0.68995265, 0.24046417, 0.24046417, 0.42717188,\n",
       "         0.42717188, 0.15781144, 0.15781144, 0.7942283 , 0.7942283 ,\n",
       "         0.91840188, 0.91840188, 0.07321992, 0.07321992, 0.37990071,\n",
       "         0.37990071, 0.10388711, 0.10388711, 0.84415419, 0.84415419,\n",
       "         0.57057543, 0.57057543, 0.28000218, 0.28000218, 0.69968514,\n",
       "         0.69968514, 0.9758159 , 0.9758159 , 0.70330204, 0.70330204])}}"
      ]
     },
     "execution_count": 1,
     "metadata": {},
     "output_type": "execute_result"
    }
   ],
   "source": [
    "ds = load_by_id(run_id_n)\n",
    "ds.get_parameter_data('x1')"
   ]
  },
  {
   "cell_type": "markdown",
   "metadata": {},
   "source": [
    "And a dataset stored as binary arrays"
   ]
  },
  {
   "cell_type": "code",
   "execution_count": 12,
   "metadata": {
    "execution": {
     "iopub.execute_input": "2020-11-10T11:09:12.673169Z",
     "iopub.status.busy": "2020-11-10T11:09:12.672625Z",
     "iopub.status.idle": "2020-11-10T11:09:12.731752Z",
     "shell.execute_reply": "2020-11-10T11:09:12.732221Z"
    },
    "scrolled": true
   },
   "outputs": [
    {
     "data": {
      "text/plain": [
       "{'x1': {'x1': array([[0.65707348],\n",
       "         [0.65707348],\n",
       "         [0.11894905],\n",
       "         [0.11894905],\n",
       "         [0.16136673],\n",
       "         [0.16136673],\n",
       "         [0.45127939],\n",
       "         [0.45127939],\n",
       "         [0.01898945],\n",
       "         [0.01898945],\n",
       "         [0.93837843],\n",
       "         [0.93837843],\n",
       "         [0.38650255],\n",
       "         [0.38650255],\n",
       "         [0.45458217],\n",
       "         [0.45458217],\n",
       "         [0.05222488],\n",
       "         [0.05222488],\n",
       "         [0.00852386],\n",
       "         [0.00852386],\n",
       "         [0.09576536],\n",
       "         [0.09576536],\n",
       "         [0.63955453],\n",
       "         [0.63955453],\n",
       "         [0.81195407],\n",
       "         [0.81195407],\n",
       "         [0.6570655 ],\n",
       "         [0.6570655 ],\n",
       "         [0.2213362 ],\n",
       "         [0.2213362 ],\n",
       "         [0.35678565],\n",
       "         [0.35678565],\n",
       "         [0.27533985],\n",
       "         [0.27533985],\n",
       "         [0.9252522 ],\n",
       "         [0.9252522 ],\n",
       "         [0.11196634],\n",
       "         [0.11196634],\n",
       "         [0.70022738],\n",
       "         [0.70022738],\n",
       "         [0.05751073],\n",
       "         [0.05751073],\n",
       "         [0.07484549],\n",
       "         [0.07484549],\n",
       "         [0.40161553],\n",
       "         [0.40161553],\n",
       "         [0.44416092],\n",
       "         [0.44416092],\n",
       "         [0.71166802],\n",
       "         [0.71166802],\n",
       "         [0.50592177],\n",
       "         [0.50592177],\n",
       "         [0.35349022],\n",
       "         [0.35349022],\n",
       "         [0.89443071],\n",
       "         [0.89443071],\n",
       "         [0.01181006],\n",
       "         [0.01181006],\n",
       "         [0.74590514],\n",
       "         [0.74590514],\n",
       "         [0.85241548],\n",
       "         [0.85241548],\n",
       "         [0.39009736],\n",
       "         [0.39009736],\n",
       "         [0.64819941],\n",
       "         [0.64819941],\n",
       "         [0.71158457],\n",
       "         [0.71158457],\n",
       "         [0.56312043],\n",
       "         [0.56312043],\n",
       "         [0.03028978],\n",
       "         [0.03028978],\n",
       "         [0.98996481],\n",
       "         [0.98996481],\n",
       "         [0.27971045],\n",
       "         [0.27971045],\n",
       "         [0.18676332],\n",
       "         [0.18676332],\n",
       "         [0.94991989],\n",
       "         [0.94991989],\n",
       "         [0.24860686],\n",
       "         [0.24860686],\n",
       "         [0.32357968],\n",
       "         [0.32357968],\n",
       "         [0.30671072],\n",
       "         [0.30671072],\n",
       "         [0.13806037],\n",
       "         [0.13806037],\n",
       "         [0.23389517],\n",
       "         [0.23389517],\n",
       "         [0.53625716],\n",
       "         [0.53625716],\n",
       "         [0.0309548 ],\n",
       "         [0.0309548 ],\n",
       "         [0.25018941],\n",
       "         [0.25018941],\n",
       "         [0.82497783],\n",
       "         [0.82497783],\n",
       "         [0.14616602],\n",
       "         [0.14616602],\n",
       "         [0.87140853],\n",
       "         [0.87140853],\n",
       "         [0.26031474],\n",
       "         [0.26031474],\n",
       "         [0.03080834],\n",
       "         [0.03080834],\n",
       "         [0.05995322],\n",
       "         [0.05995322],\n",
       "         [0.90185585],\n",
       "         [0.90185585],\n",
       "         [0.43333733],\n",
       "         [0.43333733],\n",
       "         [0.75135576],\n",
       "         [0.75135576],\n",
       "         [0.78563968],\n",
       "         [0.78563968],\n",
       "         [0.23148431],\n",
       "         [0.23148431],\n",
       "         [0.09239042],\n",
       "         [0.09239042],\n",
       "         [0.0509693 ],\n",
       "         [0.0509693 ],\n",
       "         [0.89563975],\n",
       "         [0.89563975],\n",
       "         [0.33921933],\n",
       "         [0.33921933],\n",
       "         [0.61533484],\n",
       "         [0.61533484],\n",
       "         [0.02545842],\n",
       "         [0.02545842],\n",
       "         [0.50167874],\n",
       "         [0.50167874],\n",
       "         [0.75821306],\n",
       "         [0.75821306],\n",
       "         [0.99070482],\n",
       "         [0.99070482],\n",
       "         [0.73771704],\n",
       "         [0.73771704],\n",
       "         [0.58320448],\n",
       "         [0.58320448],\n",
       "         [0.2802764 ],\n",
       "         [0.2802764 ],\n",
       "         [0.4509303 ],\n",
       "         [0.4509303 ],\n",
       "         [0.32541812],\n",
       "         [0.32541812],\n",
       "         [0.0525255 ],\n",
       "         [0.0525255 ],\n",
       "         [0.75723938],\n",
       "         [0.75723938],\n",
       "         [0.70695339],\n",
       "         [0.70695339],\n",
       "         [0.91929672],\n",
       "         [0.91929672],\n",
       "         [0.88226425],\n",
       "         [0.88226425],\n",
       "         [0.25293651],\n",
       "         [0.25293651],\n",
       "         [0.38772627],\n",
       "         [0.38772627],\n",
       "         [0.76555388],\n",
       "         [0.76555388],\n",
       "         [0.59221942],\n",
       "         [0.59221942],\n",
       "         [0.09676037],\n",
       "         [0.09676037],\n",
       "         [0.92264757],\n",
       "         [0.92264757],\n",
       "         [0.84440443],\n",
       "         [0.84440443],\n",
       "         [0.99675296],\n",
       "         [0.99675296],\n",
       "         [0.32069563],\n",
       "         [0.32069563],\n",
       "         [0.40676761],\n",
       "         [0.40676761],\n",
       "         [0.44090528],\n",
       "         [0.44090528],\n",
       "         [0.2296985 ],\n",
       "         [0.2296985 ],\n",
       "         [0.73603346],\n",
       "         [0.73603346],\n",
       "         [0.43663677],\n",
       "         [0.43663677],\n",
       "         [0.20053939],\n",
       "         [0.20053939],\n",
       "         [0.82381359],\n",
       "         [0.82381359],\n",
       "         [0.1340638 ],\n",
       "         [0.1340638 ],\n",
       "         [0.14596513],\n",
       "         [0.14596513],\n",
       "         [0.12000727],\n",
       "         [0.12000727],\n",
       "         [0.69405868],\n",
       "         [0.69405868],\n",
       "         [0.30832311],\n",
       "         [0.30832311],\n",
       "         [0.13360599],\n",
       "         [0.13360599]])}}"
      ]
     },
     "execution_count": 1,
     "metadata": {},
     "output_type": "execute_result"
    }
   ],
   "source": [
    "ds = load_by_id(run_id_a)\n",
    "ds.get_parameter_data('x1')"
   ]
  },
  {
   "cell_type": "code",
   "execution_count": null,
   "metadata": {},
   "outputs": [],
   "source": []
  }
 ],
 "metadata": {
  "kernelspec": {
   "display_name": "Python 3",
   "language": "python",
   "name": "python3"
  },
  "language_info": {
   "codemirror_mode": {
    "name": "ipython",
    "version": 3
   },
   "file_extension": ".py",
   "mimetype": "text/x-python",
   "name": "python",
   "nbconvert_exporter": "python",
   "pygments_lexer": "ipython3",
   "version": "3.7.9"
  },
  "nbsphinx": {
   "timeout": 600
  },
  "toc": {
   "base_numbering": 1,
   "nav_menu": {},
   "number_sections": true,
   "sideBar": true,
   "skip_h1_title": false,
   "title_cell": "Table of Contents",
   "title_sidebar": "Contents",
   "toc_cell": false,
   "toc_position": {},
   "toc_section_display": true,
   "toc_window_display": false
  },
  "varInspector": {
   "cols": {
    "lenName": 16,
    "lenType": 16,
    "lenVar": 40
   },
   "kernels_config": {
    "python": {
     "delete_cmd_postfix": "",
     "delete_cmd_prefix": "del ",
     "library": "var_list.py",
     "varRefreshCmd": "print(var_dic_list())"
    },
    "r": {
     "delete_cmd_postfix": ") ",
     "delete_cmd_prefix": "rm(",
     "library": "var_list.r",
     "varRefreshCmd": "cat(var_dic_list()) "
    }
   },
   "types_to_exclude": [
    "module",
    "function",
    "builtin_function_or_method",
    "instance",
    "_Feature"
   ],
   "window_display": false
  }
 },
 "nbformat": 4,
 "nbformat_minor": 2
}
