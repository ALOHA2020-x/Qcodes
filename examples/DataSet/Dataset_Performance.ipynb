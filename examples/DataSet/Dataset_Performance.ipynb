{
 "cells": [
  {
   "cell_type": "markdown",
   "metadata": {},
   "source": [
    "# DataSet Performance\n",
    "\n",
    "This notebook shows the trade-off between inserting data into a database row-by-row and as binary blobs. Inserting the data row-by-row means that we have direct access to all the data and may perform queries directly on the values of the data. On the other hand, as we shall see, this is much slower than inserting the data directly as binary blobs."
   ]
  },
  {
   "cell_type": "markdown",
   "metadata": {},
   "source": [
    "First, we choose a new location for the database to ensure that we don't add a bunch of benchmarking data to the default one."
   ]
  },
  {
   "cell_type": "code",
   "execution_count": 1,
   "metadata": {
    "execution": {
     "iopub.execute_input": "2021-01-28T12:40:28.806911Z",
     "iopub.status.busy": "2021-01-28T12:40:28.806380Z",
     "iopub.status.idle": "2021-01-28T12:40:29.764794Z",
     "shell.execute_reply": "2021-01-28T12:40:29.763442Z"
    }
   },
   "outputs": [
    {
     "name": "stdout",
     "output_type": "stream",
     "text": [
      "Logging hadn't been started.\n",
      "Activating auto-logging. Current session state plus future input saved.\n",
      "Filename       : /home/vsts/.qcodes/logs/command_history.log\n",
      "Mode           : append\n",
      "Output logging : True\n",
      "Raw input log  : False\n",
      "Timestamping   : True\n",
      "State          : active\n"
     ]
    },
    {
     "name": "stdout",
     "output_type": "stream",
     "text": [
      "Qcodes Logfile : /home/vsts/.qcodes/logs/210128-13687-qcodes.log\n"
     ]
    }
   ],
   "source": [
    "import os\n",
    "cwd = os.getcwd()\n",
    "import qcodes as qc\n",
    "qc.config[\"core\"][\"db_location\"] = os.path.join(cwd, 'testing.db')\n"
   ]
  },
  {
   "cell_type": "code",
   "execution_count": 2,
   "metadata": {
    "execution": {
     "iopub.execute_input": "2021-01-28T12:40:29.771237Z",
     "iopub.status.busy": "2021-01-28T12:40:29.770722Z",
     "iopub.status.idle": "2021-01-28T12:40:29.940858Z",
     "shell.execute_reply": "2021-01-28T12:40:29.939592Z"
    }
   },
   "outputs": [],
   "source": [
    "%matplotlib inline\n",
    "import time\n",
    "import matplotlib.pyplot as plt\n",
    "import numpy as np\n",
    "\n",
    "import qcodes as qc\n",
    "from qcodes.instrument.parameter import ManualParameter\n",
    "from qcodes.dataset.experiment_container import (Experiment,\n",
    "                                                 load_last_experiment,\n",
    "                                                 new_experiment)\n",
    "from qcodes.dataset.sqlite.database import initialise_database\n",
    "from qcodes import load_or_create_experiment\n",
    "from qcodes.dataset.measurements import Measurement"
   ]
  },
  {
   "cell_type": "code",
   "execution_count": 3,
   "metadata": {
    "execution": {
     "iopub.execute_input": "2021-01-28T12:40:29.945819Z",
     "iopub.status.busy": "2021-01-28T12:40:29.944541Z",
     "iopub.status.idle": "2021-01-28T12:40:30.043804Z",
     "shell.execute_reply": "2021-01-28T12:40:30.043237Z"
    }
   },
   "outputs": [
    {
     "name": "stdout",
     "output_type": "stream",
     "text": [
      "\r",
      "0it [00:00, ?it/s]"
     ]
    },
    {
     "name": "stdout",
     "output_type": "stream",
     "text": [
      "\r",
      "Upgrading database; v0 -> v1: : 0it [00:00, ?it/s]"
     ]
    },
    {
     "name": "stdout",
     "output_type": "stream",
     "text": [
      "\r",
      "Upgrading database; v0 -> v1: : 0it [00:00, ?it/s]"
     ]
    },
    {
     "name": "stdout",
     "output_type": "stream",
     "text": [
      "\n",
      "\r",
      "  0%|          | 0/1 [00:00<?, ?it/s]"
     ]
    },
    {
     "name": "stdout",
     "output_type": "stream",
     "text": [
      "\r",
      "Upgrading database; v1 -> v2:   0%|          | 0/1 [00:00<?, ?it/s]"
     ]
    },
    {
     "name": "stdout",
     "output_type": "stream",
     "text": [
      "\r",
      "Upgrading database; v1 -> v2: 100%|██████████| 1/1 [00:00<00:00, 723.78it/s]"
     ]
    },
    {
     "name": "stdout",
     "output_type": "stream",
     "text": [
      "\n",
      "\r",
      "0it [00:00, ?it/s]"
     ]
    },
    {
     "name": "stdout",
     "output_type": "stream",
     "text": [
      "\r",
      "Upgrading database; v2 -> v3: : 0it [00:00, ?it/s]"
     ]
    },
    {
     "name": "stdout",
     "output_type": "stream",
     "text": [
      "\r",
      "Upgrading database; v2 -> v3: : 0it [00:00, ?it/s]"
     ]
    },
    {
     "name": "stdout",
     "output_type": "stream",
     "text": [
      "\n",
      "\r",
      "0it [00:00, ?it/s]"
     ]
    },
    {
     "name": "stdout",
     "output_type": "stream",
     "text": [
      "\r",
      "Upgrading database; v3 -> v4: : 0it [00:00, ?it/s]"
     ]
    },
    {
     "name": "stdout",
     "output_type": "stream",
     "text": [
      "\r",
      "Upgrading database; v3 -> v4: : 0it [00:00, ?it/s]"
     ]
    },
    {
     "name": "stdout",
     "output_type": "stream",
     "text": [
      "\n",
      "\r",
      "  0%|          | 0/1 [00:00<?, ?it/s]"
     ]
    },
    {
     "name": "stdout",
     "output_type": "stream",
     "text": [
      "\r",
      "Upgrading database; v4 -> v5:   0%|          | 0/1 [00:00<?, ?it/s]"
     ]
    },
    {
     "name": "stdout",
     "output_type": "stream",
     "text": [
      "\r",
      "Upgrading database; v4 -> v5: 100%|██████████| 1/1 [00:00<00:00, 511.88it/s]"
     ]
    },
    {
     "name": "stdout",
     "output_type": "stream",
     "text": [
      "\n",
      "\r",
      "0it [00:00, ?it/s]"
     ]
    },
    {
     "name": "stdout",
     "output_type": "stream",
     "text": [
      "\r",
      "Upgrading database; v5 -> v6: : 0it [00:00, ?it/s]"
     ]
    },
    {
     "name": "stdout",
     "output_type": "stream",
     "text": [
      "\r",
      "Upgrading database; v5 -> v6: : 0it [00:00, ?it/s]"
     ]
    },
    {
     "name": "stdout",
     "output_type": "stream",
     "text": [
      "\n",
      "\r",
      "  0%|          | 0/1 [00:00<?, ?it/s]"
     ]
    },
    {
     "name": "stdout",
     "output_type": "stream",
     "text": [
      "\r",
      "Upgrading database; v6 -> v7:   0%|          | 0/1 [00:00<?, ?it/s]"
     ]
    },
    {
     "name": "stdout",
     "output_type": "stream",
     "text": [
      "\r",
      "Upgrading database; v6 -> v7: 100%|██████████| 1/1 [00:00<00:00, 277.00it/s]"
     ]
    },
    {
     "name": "stdout",
     "output_type": "stream",
     "text": [
      "\n",
      "\r",
      "  0%|          | 0/1 [00:00<?, ?it/s]"
     ]
    },
    {
     "name": "stdout",
     "output_type": "stream",
     "text": [
      "\r",
      "Upgrading database; v7 -> v8:   0%|          | 0/1 [00:00<?, ?it/s]"
     ]
    },
    {
     "name": "stdout",
     "output_type": "stream",
     "text": [
      "\r",
      "Upgrading database; v7 -> v8: 100%|██████████| 1/1 [00:00<00:00, 1309.90it/s]"
     ]
    },
    {
     "name": "stdout",
     "output_type": "stream",
     "text": [
      "\n",
      "\r",
      "  0%|          | 0/1 [00:00<?, ?it/s]"
     ]
    },
    {
     "name": "stdout",
     "output_type": "stream",
     "text": [
      "\r",
      "Upgrading database; v8 -> v9:   0%|          | 0/1 [00:00<?, ?it/s]"
     ]
    },
    {
     "name": "stdout",
     "output_type": "stream",
     "text": [
      "\r",
      "Upgrading database; v8 -> v9: 100%|██████████| 1/1 [00:00<00:00, 692.47it/s]"
     ]
    },
    {
     "name": "stdout",
     "output_type": "stream",
     "text": [
      "\n"
     ]
    }
   ],
   "source": [
    "initialise_database()\n",
    "exp = load_or_create_experiment(experiment_name='tutorial_exp', sample_name=\"no sample\")"
   ]
  },
  {
   "cell_type": "markdown",
   "metadata": {},
   "source": [
    "Here, we define a simple function to benchmark the time it takes to insert n points with either numeric or array data type.\n",
    "We will compare both the time used to call ``add_result`` and the time used for the full measurement."
   ]
  },
  {
   "cell_type": "code",
   "execution_count": 4,
   "metadata": {
    "execution": {
     "iopub.execute_input": "2021-01-28T12:40:30.052578Z",
     "iopub.status.busy": "2021-01-28T12:40:30.051422Z",
     "iopub.status.idle": "2021-01-28T12:40:30.053081Z",
     "shell.execute_reply": "2021-01-28T12:40:30.053567Z"
    }
   },
   "outputs": [],
   "source": [
    "def insert_data(paramtype, npoints, nreps=1):\n",
    "\n",
    "    meas = Measurement(exp=exp)\n",
    "\n",
    "    x1 = ManualParameter('x1')\n",
    "    x2 = ManualParameter('x2')\n",
    "    x3 = ManualParameter('x3')\n",
    "    y1 = ManualParameter('y1')\n",
    "    y2 = ManualParameter('y2')\n",
    "\n",
    "    meas.register_parameter(x1, paramtype=paramtype)\n",
    "    meas.register_parameter(x2, paramtype=paramtype)\n",
    "    meas.register_parameter(x3, paramtype=paramtype)\n",
    "    meas.register_parameter(y1, setpoints=[x1, x2, x3],\n",
    "                            paramtype=paramtype)\n",
    "    meas.register_parameter(y2, setpoints=[x1, x2, x3],\n",
    "                            paramtype=paramtype)\n",
    "    start = time.perf_counter()\n",
    "    with meas.run() as datasaver:\n",
    "        start_adding = time.perf_counter()\n",
    "        for i in range(nreps):\n",
    "            datasaver.add_result((x1, np.random.rand(npoints)),\n",
    "                                 (x2, np.random.rand(npoints)),\n",
    "                                 (x3, np.random.rand(npoints)),\n",
    "                                 (y1, np.random.rand(npoints)),\n",
    "                                 (y2, np.random.rand(npoints)))\n",
    "        stop_adding = time.perf_counter()\n",
    "        run_id = datasaver.run_id\n",
    "    stop = time.perf_counter()\n",
    "    tot_time = stop - start\n",
    "    add_time = stop_adding - start_adding\n",
    "    return tot_time, add_time, run_id"
   ]
  },
  {
   "cell_type": "markdown",
   "metadata": {},
   "source": [
    "## Comparison between numeric/array data and binary blob"
   ]
  },
  {
   "cell_type": "markdown",
   "metadata": {},
   "source": [
    "### Case1: Short experiment time"
   ]
  },
  {
   "cell_type": "code",
   "execution_count": 5,
   "metadata": {
    "execution": {
     "iopub.execute_input": "2021-01-28T12:40:30.060068Z",
     "iopub.status.busy": "2021-01-28T12:40:30.059403Z",
     "iopub.status.idle": "2021-01-28T12:40:30.839887Z",
     "shell.execute_reply": "2021-01-28T12:40:30.839212Z"
    }
   },
   "outputs": [
    {
     "name": "stdout",
     "output_type": "stream",
     "text": [
      "Starting experimental run with id: 1. \n",
      "Starting experimental run with id: 2. \n",
      "Starting experimental run with id: 3. \n",
      "Starting experimental run with id: 4. \n",
      "Starting experimental run with id: 5. \n"
     ]
    },
    {
     "name": "stdout",
     "output_type": "stream",
     "text": [
      "Starting experimental run with id: 6. \n"
     ]
    },
    {
     "name": "stdout",
     "output_type": "stream",
     "text": [
      "Starting experimental run with id: 7. \n"
     ]
    },
    {
     "name": "stdout",
     "output_type": "stream",
     "text": [
      "Starting experimental run with id: 8. \n",
      "Starting experimental run with id: 9. \n"
     ]
    },
    {
     "name": "stdout",
     "output_type": "stream",
     "text": [
      "Starting experimental run with id: 10. \n",
      "Starting experimental run with id: 11. \n"
     ]
    },
    {
     "name": "stdout",
     "output_type": "stream",
     "text": [
      "Starting experimental run with id: 12. \n",
      "Starting experimental run with id: 13. \n"
     ]
    },
    {
     "name": "stdout",
     "output_type": "stream",
     "text": [
      "Starting experimental run with id: 14. \n"
     ]
    }
   ],
   "source": [
    "sizes = [1,500,1000,2000,3000,4000,5000]\n",
    "t_numeric = []\n",
    "t_numeric_add = []\n",
    "t_array = []\n",
    "t_array_add = []\n",
    "for size in sizes:\n",
    "    tn, tna, run_id_n =  insert_data('numeric', size)\n",
    "    t_numeric.append(tn)\n",
    "    t_numeric_add.append(tna)\n",
    "\n",
    "    ta, taa, run_id_a =  insert_data('array', size)\n",
    "    t_array.append(ta)\n",
    "    t_array_add.append(taa)"
   ]
  },
  {
   "cell_type": "code",
   "execution_count": 6,
   "metadata": {
    "execution": {
     "iopub.execute_input": "2021-01-28T12:40:30.857158Z",
     "iopub.status.busy": "2021-01-28T12:40:30.856646Z",
     "iopub.status.idle": "2021-01-28T12:40:31.025621Z",
     "shell.execute_reply": "2021-01-28T12:40:31.026299Z"
    }
   },
   "outputs": [
    {
     "data": {
      "image/png": "[encoded data removed]",
      "text/plain": [
       "<Figure size 432x288 with 1 Axes>"
      ]
     },
     "metadata": {
      "needs_background": "light"
     },
     "output_type": "display_data"
    }
   ],
   "source": [
    "fig, ax = plt.subplots(1,1)\n",
    "ax.plot(sizes, t_numeric, 'o-', label='Inserting row-by-row')\n",
    "ax.plot(sizes, t_numeric_add, 'o-', label='Inserting row-by-row: add_result only')\n",
    "ax.plot(sizes, t_array, 'd-', label='Inserting as binary blob')\n",
    "ax.plot(sizes, t_array_add, 'd-', label='Inserting as binary blob: add_result only')\n",
    "ax.legend()\n",
    "ax.set_xlabel('Array length')\n",
    "ax.set_ylabel('Time (s)')\n",
    "fig.tight_layout()"
   ]
  },
  {
   "cell_type": "markdown",
   "metadata": {},
   "source": [
    "As shown in the latter figure, the time to setup and and close the experiment is approximately 0.4 sec. In case of small array sizes, the difference between inserting values of data as arrays and inserting them row-by-row is relatively unimportant. At larger array sizes, i.e. above 10000 points, the cost of writing data as individual datapoints starts to become important.\n"
   ]
  },
  {
   "cell_type": "markdown",
   "metadata": {},
   "source": [
    "### Case2: Long experiment time "
   ]
  },
  {
   "cell_type": "code",
   "execution_count": 7,
   "metadata": {
    "execution": {
     "iopub.execute_input": "2021-01-28T12:40:31.029546Z",
     "iopub.status.busy": "2021-01-28T12:40:31.028601Z",
     "iopub.status.idle": "2021-01-28T12:41:26.949357Z",
     "shell.execute_reply": "2021-01-28T12:41:26.948033Z"
    }
   },
   "outputs": [
    {
     "name": "stdout",
     "output_type": "stream",
     "text": [
      "Starting experimental run with id: 15. \n",
      "Starting experimental run with id: 16. \n",
      "Starting experimental run with id: 17. \n"
     ]
    },
    {
     "name": "stdout",
     "output_type": "stream",
     "text": [
      "Starting experimental run with id: 18. \n",
      "Starting experimental run with id: 19. \n"
     ]
    },
    {
     "name": "stdout",
     "output_type": "stream",
     "text": [
      "Starting experimental run with id: 20. \n"
     ]
    },
    {
     "name": "stdout",
     "output_type": "stream",
     "text": [
      "Starting experimental run with id: 21. \n"
     ]
    },
    {
     "name": "stdout",
     "output_type": "stream",
     "text": [
      "Starting experimental run with id: 22. \n"
     ]
    },
    {
     "name": "stdout",
     "output_type": "stream",
     "text": [
      "Starting experimental run with id: 23. \n"
     ]
    },
    {
     "name": "stdout",
     "output_type": "stream",
     "text": [
      "Starting experimental run with id: 24. \n"
     ]
    },
    {
     "name": "stdout",
     "output_type": "stream",
     "text": [
      "Starting experimental run with id: 25. \n"
     ]
    },
    {
     "name": "stdout",
     "output_type": "stream",
     "text": [
      "Starting experimental run with id: 26. \n"
     ]
    },
    {
     "name": "stdout",
     "output_type": "stream",
     "text": [
      "Starting experimental run with id: 27. \n"
     ]
    },
    {
     "name": "stdout",
     "output_type": "stream",
     "text": [
      "Starting experimental run with id: 28. \n"
     ]
    }
   ],
   "source": [
    "sizes = [1,500,1000,2000,3000,4000,5000]\n",
    "nreps = 100\n",
    "t_numeric = []\n",
    "t_numeric_add = []\n",
    "t_numeric_run_ids = []\n",
    "t_array = []\n",
    "t_array_add = []\n",
    "t_array_run_ids = []\n",
    "for size in sizes:\n",
    "    tn, tna, run_id_n =  insert_data('numeric', size, nreps=nreps)\n",
    "    t_numeric.append(tn)\n",
    "    t_numeric_add.append(tna)\n",
    "    t_numeric_run_ids.append(run_id_n)\n",
    "\n",
    "    ta, taa, run_id_a =  insert_data('array', size, nreps=nreps)\n",
    "    t_array.append(ta)\n",
    "    t_array_add.append(taa)\n",
    "    t_array_run_ids.append(run_id_a)"
   ]
  },
  {
   "cell_type": "code",
   "execution_count": 8,
   "metadata": {
    "execution": {
     "iopub.execute_input": "2021-01-28T12:41:26.954977Z",
     "iopub.status.busy": "2021-01-28T12:41:26.953846Z",
     "iopub.status.idle": "2021-01-28T12:41:27.141276Z",
     "shell.execute_reply": "2021-01-28T12:41:27.142031Z"
    },
    "scrolled": true
   },
   "outputs": [
    {
     "data": {
      "image/png": "[encoded data removed]",
      "text/plain": [
       "<Figure size 432x288 with 1 Axes>"
      ]
     },
     "metadata": {
      "needs_background": "light"
     },
     "output_type": "display_data"
    }
   ],
   "source": [
    "fig, ax = plt.subplots(1,1)\n",
    "ax.plot(sizes, t_numeric, 'o-', label='Inserting row-by-row')\n",
    "ax.plot(sizes, t_numeric_add, 'o-', label='Inserting row-by-row: add_result only')\n",
    "ax.plot(sizes, t_array, 'd-', label='Inserting as binary blob')\n",
    "ax.plot(sizes, t_array_add, 'd-', label='Inserting as binary blob: add_result only')\n",
    "ax.legend()\n",
    "ax.set_xlabel('Array length')\n",
    "ax.set_ylabel('Time (s)')\n",
    "fig.tight_layout()"
   ]
  },
  {
   "cell_type": "markdown",
   "metadata": {},
   "source": [
    "However, as we increase the length of the experiment, as seen here by repeating the insertion 100 times, we see a big difference between inserting values of the data row-by-row and inserting it as a binary blob."
   ]
  },
  {
   "cell_type": "markdown",
   "metadata": {},
   "source": [
    "## Loading the data "
   ]
  },
  {
   "cell_type": "code",
   "execution_count": 9,
   "metadata": {
    "execution": {
     "iopub.execute_input": "2021-01-28T12:41:27.145368Z",
     "iopub.status.busy": "2021-01-28T12:41:27.144326Z",
     "iopub.status.idle": "2021-01-28T12:41:27.149118Z",
     "shell.execute_reply": "2021-01-28T12:41:27.149677Z"
    }
   },
   "outputs": [],
   "source": [
    "from qcodes.dataset.data_set import load_by_id\n",
    "from qcodes.dataset.data_export import get_data_by_id"
   ]
  },
  {
   "cell_type": "markdown",
   "metadata": {},
   "source": [
    "As usual you can load the data by using the ``load_by_id`` function but you will notice that the different storage methods\n",
    "are reflected in shape of the data as it is retrieved. "
   ]
  },
  {
   "cell_type": "code",
   "execution_count": 10,
   "metadata": {
    "execution": {
     "iopub.execute_input": "2021-01-28T12:41:27.153084Z",
     "iopub.status.busy": "2021-01-28T12:41:27.152565Z",
     "iopub.status.idle": "2021-01-28T12:41:27.155785Z",
     "shell.execute_reply": "2021-01-28T12:41:27.155285Z"
    }
   },
   "outputs": [],
   "source": [
    "run_id_n = t_numeric_run_ids[0]\n",
    "run_id_a = t_array_run_ids[0]"
   ]
  },
  {
   "cell_type": "code",
   "execution_count": 11,
   "metadata": {
    "execution": {
     "iopub.execute_input": "2021-01-28T12:41:27.159281Z",
     "iopub.status.busy": "2021-01-28T12:41:27.158758Z",
     "iopub.status.idle": "2021-01-28T12:41:27.170220Z",
     "shell.execute_reply": "2021-01-28T12:41:27.169335Z"
    },
    "scrolled": true
   },
   "outputs": [
    {
     "data": {
      "text/plain": [
       "{'x1': {'x1': array([0.79732548, 0.79732548, 0.91200451, 0.91200451, 0.30014489,\n",
       "         0.30014489, 0.90030817, 0.90030817, 0.44282806, 0.44282806,\n",
       "         0.57271837, 0.57271837, 0.95200838, 0.95200838, 0.17207019,\n",
       "         0.17207019, 0.78610307, 0.78610307, 0.47322026, 0.47322026,\n",
       "         0.34626276, 0.34626276, 0.16159676, 0.16159676, 0.89152347,\n",
       "         0.89152347, 0.0659024 , 0.0659024 , 0.78629305, 0.78629305,\n",
       "         0.78187919, 0.78187919, 0.91157339, 0.91157339, 0.72233964,\n",
       "         0.72233964, 0.55797125, 0.55797125, 0.99373475, 0.99373475,\n",
       "         0.66045694, 0.66045694, 0.11780564, 0.11780564, 0.52880844,\n",
       "         0.52880844, 0.09976388, 0.09976388, 0.15667903, 0.15667903,\n",
       "         0.19158649, 0.19158649, 0.21823151, 0.21823151, 0.6085963 ,\n",
       "         0.6085963 , 0.18618342, 0.18618342, 0.40954343, 0.40954343,\n",
       "         0.84835564, 0.84835564, 0.57391466, 0.57391466, 0.84030127,\n",
       "         0.84030127, 0.07678462, 0.07678462, 0.53673444, 0.53673444,\n",
       "         0.099745  , 0.099745  , 0.67984485, 0.67984485, 0.93989309,\n",
       "         0.93989309, 0.41509942, 0.41509942, 0.98621425, 0.98621425,\n",
       "         0.04245748, 0.04245748, 0.9409453 , 0.9409453 , 0.24768786,\n",
       "         0.24768786, 0.35941375, 0.35941375, 0.77935126, 0.77935126,\n",
       "         0.95325312, 0.95325312, 0.92104448, 0.92104448, 0.54526751,\n",
       "         0.54526751, 0.53223928, 0.53223928, 0.25555386, 0.25555386,\n",
       "         0.56166273, 0.56166273, 0.45724196, 0.45724196, 0.18573108,\n",
       "         0.18573108, 0.19096369, 0.19096369, 0.69550478, 0.69550478,\n",
       "         0.86838135, 0.86838135, 0.83589034, 0.83589034, 0.61747621,\n",
       "         0.61747621, 0.42040116, 0.42040116, 0.39124806, 0.39124806,\n",
       "         0.19832421, 0.19832421, 0.46554818, 0.46554818, 0.47455148,\n",
       "         0.47455148, 0.42781246, 0.42781246, 0.70627331, 0.70627331,\n",
       "         0.47279539, 0.47279539, 0.63344391, 0.63344391, 0.84877331,\n",
       "         0.84877331, 0.77856971, 0.77856971, 0.88608573, 0.88608573,\n",
       "         0.20927836, 0.20927836, 0.85562262, 0.85562262, 0.10320114,\n",
       "         0.10320114, 0.59218047, 0.59218047, 0.01600949, 0.01600949,\n",
       "         0.46235869, 0.46235869, 0.04926414, 0.04926414, 0.57793951,\n",
       "         0.57793951, 0.65616916, 0.65616916, 0.98355903, 0.98355903,\n",
       "         0.75188691, 0.75188691, 0.43855619, 0.43855619, 0.8320745 ,\n",
       "         0.8320745 , 0.66893691, 0.66893691, 0.64203752, 0.64203752,\n",
       "         0.82237554, 0.82237554, 0.51737395, 0.51737395, 0.7885334 ,\n",
       "         0.7885334 , 0.76645206, 0.76645206, 0.14622362, 0.14622362,\n",
       "         0.39579741, 0.39579741, 0.32536919, 0.32536919, 0.72129607,\n",
       "         0.72129607, 0.63696737, 0.63696737, 0.81318823, 0.81318823,\n",
       "         0.5979265 , 0.5979265 , 0.26208328, 0.26208328, 0.48702219,\n",
       "         0.48702219, 0.78424068, 0.78424068, 0.2901537 , 0.2901537 ])}}"
      ]
     },
     "execution_count": 1,
     "metadata": {},
     "output_type": "execute_result"
    }
   ],
   "source": [
    "ds = load_by_id(run_id_n)\n",
    "ds.get_parameter_data('x1')"
   ]
  },
  {
   "cell_type": "markdown",
   "metadata": {},
   "source": [
    "And a dataset stored as binary arrays"
   ]
  },
  {
   "cell_type": "code",
   "execution_count": 12,
   "metadata": {
    "execution": {
     "iopub.execute_input": "2021-01-28T12:41:27.173558Z",
     "iopub.status.busy": "2021-01-28T12:41:27.173040Z",
     "iopub.status.idle": "2021-01-28T12:41:27.227947Z",
     "shell.execute_reply": "2021-01-28T12:41:27.227369Z"
    },
    "scrolled": true
   },
   "outputs": [
    {
     "data": {
      "text/plain": [
       "{'x1': {'x1': array([[0.6935787 ],\n",
       "         [0.6935787 ],\n",
       "         [0.05221878],\n",
       "         [0.05221878],\n",
       "         [0.04166922],\n",
       "         [0.04166922],\n",
       "         [0.07737686],\n",
       "         [0.07737686],\n",
       "         [0.7765728 ],\n",
       "         [0.7765728 ],\n",
       "         [0.77318301],\n",
       "         [0.77318301],\n",
       "         [0.71929087],\n",
       "         [0.71929087],\n",
       "         [0.54880784],\n",
       "         [0.54880784],\n",
       "         [0.49374849],\n",
       "         [0.49374849],\n",
       "         [0.55090379],\n",
       "         [0.55090379],\n",
       "         [0.09658881],\n",
       "         [0.09658881],\n",
       "         [0.96712639],\n",
       "         [0.96712639],\n",
       "         [0.34289421],\n",
       "         [0.34289421],\n",
       "         [0.26586708],\n",
       "         [0.26586708],\n",
       "         [0.17050762],\n",
       "         [0.17050762],\n",
       "         [0.15709952],\n",
       "         [0.15709952],\n",
       "         [0.41059823],\n",
       "         [0.41059823],\n",
       "         [0.19171615],\n",
       "         [0.19171615],\n",
       "         [0.97041339],\n",
       "         [0.97041339],\n",
       "         [0.85076323],\n",
       "         [0.85076323],\n",
       "         [0.72778302],\n",
       "         [0.72778302],\n",
       "         [0.73749744],\n",
       "         [0.73749744],\n",
       "         [0.64386589],\n",
       "         [0.64386589],\n",
       "         [0.77026478],\n",
       "         [0.77026478],\n",
       "         [0.31554624],\n",
       "         [0.31554624],\n",
       "         [0.12124012],\n",
       "         [0.12124012],\n",
       "         [0.01970375],\n",
       "         [0.01970375],\n",
       "         [0.35429581],\n",
       "         [0.35429581],\n",
       "         [0.20328461],\n",
       "         [0.20328461],\n",
       "         [0.56814521],\n",
       "         [0.56814521],\n",
       "         [0.06108945],\n",
       "         [0.06108945],\n",
       "         [0.46197143],\n",
       "         [0.46197143],\n",
       "         [0.48550148],\n",
       "         [0.48550148],\n",
       "         [0.07758287],\n",
       "         [0.07758287],\n",
       "         [0.27671554],\n",
       "         [0.27671554],\n",
       "         [0.52977178],\n",
       "         [0.52977178],\n",
       "         [0.28834228],\n",
       "         [0.28834228],\n",
       "         [0.61849319],\n",
       "         [0.61849319],\n",
       "         [0.36567277],\n",
       "         [0.36567277],\n",
       "         [0.14877377],\n",
       "         [0.14877377],\n",
       "         [0.18404621],\n",
       "         [0.18404621],\n",
       "         [0.57084255],\n",
       "         [0.57084255],\n",
       "         [0.20183243],\n",
       "         [0.20183243],\n",
       "         [0.27930974],\n",
       "         [0.27930974],\n",
       "         [0.09336073],\n",
       "         [0.09336073],\n",
       "         [0.30970787],\n",
       "         [0.30970787],\n",
       "         [0.64595384],\n",
       "         [0.64595384],\n",
       "         [0.6886391 ],\n",
       "         [0.6886391 ],\n",
       "         [0.98434171],\n",
       "         [0.98434171],\n",
       "         [0.69491855],\n",
       "         [0.69491855],\n",
       "         [0.30175186],\n",
       "         [0.30175186],\n",
       "         [0.37747876],\n",
       "         [0.37747876],\n",
       "         [0.53609279],\n",
       "         [0.53609279],\n",
       "         [0.97380594],\n",
       "         [0.97380594],\n",
       "         [0.80117097],\n",
       "         [0.80117097],\n",
       "         [0.968796  ],\n",
       "         [0.968796  ],\n",
       "         [0.84997622],\n",
       "         [0.84997622],\n",
       "         [0.99145971],\n",
       "         [0.99145971],\n",
       "         [0.23017719],\n",
       "         [0.23017719],\n",
       "         [0.1579631 ],\n",
       "         [0.1579631 ],\n",
       "         [0.8510469 ],\n",
       "         [0.8510469 ],\n",
       "         [0.74160696],\n",
       "         [0.74160696],\n",
       "         [0.50485331],\n",
       "         [0.50485331],\n",
       "         [0.79247352],\n",
       "         [0.79247352],\n",
       "         [0.77925989],\n",
       "         [0.77925989],\n",
       "         [0.86084164],\n",
       "         [0.86084164],\n",
       "         [0.07429387],\n",
       "         [0.07429387],\n",
       "         [0.54376315],\n",
       "         [0.54376315],\n",
       "         [0.22436035],\n",
       "         [0.22436035],\n",
       "         [0.64125992],\n",
       "         [0.64125992],\n",
       "         [0.02533147],\n",
       "         [0.02533147],\n",
       "         [0.26542048],\n",
       "         [0.26542048],\n",
       "         [0.0216929 ],\n",
       "         [0.0216929 ],\n",
       "         [0.96275825],\n",
       "         [0.96275825],\n",
       "         [0.6340635 ],\n",
       "         [0.6340635 ],\n",
       "         [0.88551054],\n",
       "         [0.88551054],\n",
       "         [0.15626274],\n",
       "         [0.15626274],\n",
       "         [0.2269957 ],\n",
       "         [0.2269957 ],\n",
       "         [0.19167245],\n",
       "         [0.19167245],\n",
       "         [0.18439116],\n",
       "         [0.18439116],\n",
       "         [0.58447146],\n",
       "         [0.58447146],\n",
       "         [0.63787202],\n",
       "         [0.63787202],\n",
       "         [0.96986762],\n",
       "         [0.96986762],\n",
       "         [0.90768775],\n",
       "         [0.90768775],\n",
       "         [0.52207414],\n",
       "         [0.52207414],\n",
       "         [0.79270368],\n",
       "         [0.79270368],\n",
       "         [0.20386605],\n",
       "         [0.20386605],\n",
       "         [0.17198619],\n",
       "         [0.17198619],\n",
       "         [0.71131823],\n",
       "         [0.71131823],\n",
       "         [0.99248224],\n",
       "         [0.99248224],\n",
       "         [0.45467179],\n",
       "         [0.45467179],\n",
       "         [0.33621575],\n",
       "         [0.33621575],\n",
       "         [0.25705654],\n",
       "         [0.25705654],\n",
       "         [0.9412208 ],\n",
       "         [0.9412208 ],\n",
       "         [0.41283071],\n",
       "         [0.41283071],\n",
       "         [0.00441941],\n",
       "         [0.00441941],\n",
       "         [0.54343796],\n",
       "         [0.54343796],\n",
       "         [0.14246331],\n",
       "         [0.14246331],\n",
       "         [0.54289379],\n",
       "         [0.54289379],\n",
       "         [0.06039412],\n",
       "         [0.06039412]])}}"
      ]
     },
     "execution_count": 1,
     "metadata": {},
     "output_type": "execute_result"
    }
   ],
   "source": [
    "ds = load_by_id(run_id_a)\n",
    "ds.get_parameter_data('x1')"
   ]
  },
  {
   "cell_type": "code",
   "execution_count": null,
   "metadata": {},
   "outputs": [],
   "source": []
  }
 ],
 "metadata": {
  "kernelspec": {
   "display_name": "Python 3",
   "language": "python",
   "name": "python3"
  },
  "language_info": {
   "codemirror_mode": {
    "name": "ipython",
    "version": 3
   },
   "file_extension": ".py",
   "mimetype": "text/x-python",
   "name": "python",
   "nbconvert_exporter": "python",
   "pygments_lexer": "ipython3",
   "version": "3.7.9"
  },
  "nbsphinx": {
   "timeout": 600
  },
  "toc": {
   "base_numbering": 1,
   "nav_menu": {},
   "number_sections": true,
   "sideBar": true,
   "skip_h1_title": false,
   "title_cell": "Table of Contents",
   "title_sidebar": "Contents",
   "toc_cell": false,
   "toc_position": {},
   "toc_section_display": true,
   "toc_window_display": false
  },
  "varInspector": {
   "cols": {
    "lenName": 16,
    "lenType": 16,
    "lenVar": 40
   },
   "kernels_config": {
    "python": {
     "delete_cmd_postfix": "",
     "delete_cmd_prefix": "del ",
     "library": "var_list.py",
     "varRefreshCmd": "print(var_dic_list())"
    },
    "r": {
     "delete_cmd_postfix": ") ",
     "delete_cmd_prefix": "rm(",
     "library": "var_list.r",
     "varRefreshCmd": "cat(var_dic_list()) "
    }
   },
   "types_to_exclude": [
    "module",
    "function",
    "builtin_function_or_method",
    "instance",
    "_Feature"
   ],
   "window_display": false
  }
 },
 "nbformat": 4,
 "nbformat_minor": 2
}
