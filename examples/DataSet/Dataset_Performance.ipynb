{
 "cells": [
  {
   "cell_type": "markdown",
   "execution_count": 1,
   "metadata": {},
   "source": [
    "# DataSet Performance\n",
    "\n",
    "This notebook shows the trade-off between inserting data into a database row-by-row and as binary blobs. Inserting the data row-by-row means that we have direct access to all the data and may perform queries directly on the values of the data. On the other hand, as we shall see, this is much slower than inserting the data directly as binary blobs."
   ]
  },
  {
   "cell_type": "markdown",
   "execution_count": 1,
   "metadata": {},
   "source": [
    "First, we choose a new location for the database to ensure that we don't add a bunch of benchmarking data to the default one."
   ]
  },
  {
   "cell_type": "code",
   "execution_count": 1,
   "metadata": {
    "execution": {
     "iopub.execute_input": "2020-09-14T06:54:23.079242Z",
     "iopub.status.busy": "2020-09-14T06:54:23.078736Z",
     "iopub.status.idle": "2020-09-14T06:54:24.141032Z",
     "shell.execute_reply": "2020-09-14T06:54:24.139825Z"
    }
   },
   "outputs": [
    {
     "name": "stdout",
     "output_type": "stream",
     "text": [
      "Logging hadn't been started.\n",
      "Activating auto-logging. Current session state plus future input saved.\n",
      "Filename       : /home/vsts/.qcodes/logs/command_history.log\n",
      "Mode           : append\n",
      "Output logging : True\n",
      "Raw input log  : False\n",
      "Timestamping   : True\n",
      "State          : active\n"
     ]
    },
    {
     "name": "stdout",
     "output_type": "stream",
     "text": [
      "Qcodes Logfile : /home/vsts/.qcodes/logs/200914-20215-qcodes.log\n"
     ]
    }
   ],
   "source": [
    "import os\n",
    "cwd = os.getcwd()\n",
    "import qcodes as qc\n",
    "qc.config[\"core\"][\"db_location\"] = os.path.join(cwd, 'testing.db')\n"
   ]
  },
  {
   "cell_type": "code",
   "execution_count": 2,
   "metadata": {
    "execution": {
     "iopub.execute_input": "2020-09-14T06:54:24.147431Z",
     "iopub.status.busy": "2020-09-14T06:54:24.146710Z",
     "iopub.status.idle": "2020-09-14T06:54:24.333063Z",
     "shell.execute_reply": "2020-09-14T06:54:24.331933Z"
    }
   },
   "outputs": [],
   "source": [
    "%matplotlib inline\n",
    "import time\n",
    "import matplotlib.pyplot as plt\n",
    "import numpy as np\n",
    "\n",
    "import qcodes as qc\n",
    "from qcodes.instrument.parameter import ManualParameter\n",
    "from qcodes.dataset.experiment_container import (Experiment,\n",
    "                                                 load_last_experiment,\n",
    "                                                 new_experiment)\n",
    "from qcodes.dataset.sqlite.database import initialise_database\n",
    "from qcodes import load_or_create_experiment\n",
    "from qcodes.dataset.measurements import Measurement"
   ]
  },
  {
   "cell_type": "code",
   "execution_count": 3,
   "metadata": {
    "execution": {
     "iopub.execute_input": "2020-09-14T06:54:24.336448Z",
     "iopub.status.busy": "2020-09-14T06:54:24.335959Z",
     "iopub.status.idle": "2020-09-14T06:54:24.432372Z",
     "shell.execute_reply": "2020-09-14T06:54:24.431821Z"
    }
   },
   "outputs": [
    {
     "name": "stdout",
     "output_type": "stream",
     "text": [
      "\r",
      "0it [00:00, ?it/s]"
     ]
    },
    {
     "name": "stdout",
     "output_type": "stream",
     "text": [
      "\r",
      "Upgrading database; v0 -> v1: : 0it [00:00, ?it/s]"
     ]
    },
    {
     "name": "stdout",
     "output_type": "stream",
     "text": [
      "\r",
      "Upgrading database; v0 -> v1: : 0it [00:00, ?it/s]"
     ]
    },
    {
     "name": "stdout",
     "output_type": "stream",
     "text": [
      "\n",
      "\r",
      "  0%|          | 0/1 [00:00<?, ?it/s]"
     ]
    },
    {
     "name": "stdout",
     "output_type": "stream",
     "text": [
      "\r",
      "Upgrading database; v1 -> v2:   0%|          | 0/1 [00:00<?, ?it/s]"
     ]
    },
    {
     "name": "stdout",
     "output_type": "stream",
     "text": [
      "\r",
      "Upgrading database; v1 -> v2: 100%|██████████| 1/1 [00:00<00:00, 447.77it/s]"
     ]
    },
    {
     "name": "stdout",
     "output_type": "stream",
     "text": [
      "\n",
      "\r",
      "0it [00:00, ?it/s]"
     ]
    },
    {
     "name": "stdout",
     "output_type": "stream",
     "text": [
      "\r",
      "Upgrading database; v2 -> v3: : 0it [00:00, ?it/s]"
     ]
    },
    {
     "name": "stdout",
     "output_type": "stream",
     "text": [
      "\r",
      "Upgrading database; v2 -> v3: : 0it [00:00, ?it/s]"
     ]
    },
    {
     "name": "stdout",
     "output_type": "stream",
     "text": [
      "\n",
      "\r",
      "0it [00:00, ?it/s]"
     ]
    },
    {
     "name": "stdout",
     "output_type": "stream",
     "text": [
      "\r",
      "Upgrading database; v3 -> v4: : 0it [00:00, ?it/s]"
     ]
    },
    {
     "name": "stdout",
     "output_type": "stream",
     "text": [
      "\r",
      "Upgrading database; v3 -> v4: : 0it [00:00, ?it/s]"
     ]
    },
    {
     "name": "stdout",
     "output_type": "stream",
     "text": [
      "\n",
      "\r",
      "  0%|          | 0/1 [00:00<?, ?it/s]"
     ]
    },
    {
     "name": "stdout",
     "output_type": "stream",
     "text": [
      "\r",
      "Upgrading database; v4 -> v5:   0%|          | 0/1 [00:00<?, ?it/s]"
     ]
    },
    {
     "name": "stdout",
     "output_type": "stream",
     "text": [
      "\r",
      "Upgrading database; v4 -> v5: 100%|██████████| 1/1 [00:00<00:00, 420.31it/s]"
     ]
    },
    {
     "name": "stdout",
     "output_type": "stream",
     "text": [
      "\n",
      "\r",
      "0it [00:00, ?it/s]"
     ]
    },
    {
     "name": "stdout",
     "output_type": "stream",
     "text": [
      "\r",
      "Upgrading database; v5 -> v6: : 0it [00:00, ?it/s]"
     ]
    },
    {
     "name": "stdout",
     "output_type": "stream",
     "text": [
      "\r",
      "Upgrading database; v5 -> v6: : 0it [00:00, ?it/s]"
     ]
    },
    {
     "name": "stdout",
     "output_type": "stream",
     "text": [
      "\n",
      "\r",
      "  0%|          | 0/1 [00:00<?, ?it/s]"
     ]
    },
    {
     "name": "stdout",
     "output_type": "stream",
     "text": [
      "\r",
      "Upgrading database; v6 -> v7:   0%|          | 0/1 [00:00<?, ?it/s]"
     ]
    },
    {
     "name": "stdout",
     "output_type": "stream",
     "text": [
      "\r",
      "Upgrading database; v6 -> v7: 100%|██████████| 1/1 [00:00<00:00, 219.83it/s]"
     ]
    },
    {
     "name": "stdout",
     "output_type": "stream",
     "text": [
      "\n",
      "\r",
      "  0%|          | 0/1 [00:00<?, ?it/s]"
     ]
    },
    {
     "name": "stdout",
     "output_type": "stream",
     "text": [
      "\r",
      "Upgrading database; v7 -> v8:   0%|          | 0/1 [00:00<?, ?it/s]"
     ]
    },
    {
     "name": "stdout",
     "output_type": "stream",
     "text": [
      "\r",
      "Upgrading database; v7 -> v8: 100%|██████████| 1/1 [00:00<00:00, 378.27it/s]"
     ]
    },
    {
     "name": "stdout",
     "output_type": "stream",
     "text": [
      "\n",
      "\r",
      "  0%|          | 0/1 [00:00<?, ?it/s]"
     ]
    },
    {
     "name": "stdout",
     "output_type": "stream",
     "text": [
      "\r",
      "Upgrading database; v8 -> v9:   0%|          | 0/1 [00:00<?, ?it/s]"
     ]
    },
    {
     "name": "stdout",
     "output_type": "stream",
     "text": [
      "\r",
      "Upgrading database; v8 -> v9: 100%|██████████| 1/1 [00:00<00:00, 455.46it/s]"
     ]
    },
    {
     "name": "stdout",
     "output_type": "stream",
     "text": [
      "\n"
     ]
    }
   ],
   "source": [
    "initialise_database()\n",
    "exp = load_or_create_experiment(experiment_name='tutorial_exp', sample_name=\"no sample\")"
   ]
  },
  {
   "cell_type": "markdown",
   "execution_count": 4,
   "metadata": {},
   "source": [
    "Here, we define a simple function to benchmark the time it takes to insert n points with either numeric or array data type.\n",
    "We will compare both the time used to call ``add_result`` and the time used for the full measurement."
   ]
  },
  {
   "cell_type": "code",
   "execution_count": 4,
   "metadata": {
    "execution": {
     "iopub.execute_input": "2020-09-14T06:54:24.441714Z",
     "iopub.status.busy": "2020-09-14T06:54:24.440605Z",
     "iopub.status.idle": "2020-09-14T06:54:24.442237Z",
     "shell.execute_reply": "2020-09-14T06:54:24.442756Z"
    }
   },
   "outputs": [],
   "source": [
    "def insert_data(paramtype, npoints, nreps=1):\n",
    "\n",
    "    meas = Measurement(exp=exp)\n",
    "\n",
    "    x1 = ManualParameter('x1')\n",
    "    x2 = ManualParameter('x2')\n",
    "    x3 = ManualParameter('x3')\n",
    "    y1 = ManualParameter('y1')\n",
    "    y2 = ManualParameter('y2')\n",
    "\n",
    "    meas.register_parameter(x1, paramtype=paramtype)\n",
    "    meas.register_parameter(x2, paramtype=paramtype)\n",
    "    meas.register_parameter(x3, paramtype=paramtype)\n",
    "    meas.register_parameter(y1, setpoints=[x1, x2, x3],\n",
    "                            paramtype=paramtype)\n",
    "    meas.register_parameter(y2, setpoints=[x1, x2, x3],\n",
    "                            paramtype=paramtype)\n",
    "    start = time.perf_counter()\n",
    "    with meas.run() as datasaver:\n",
    "        start_adding = time.perf_counter()\n",
    "        for i in range(nreps):\n",
    "            datasaver.add_result((x1, np.random.rand(npoints)),\n",
    "                                 (x2, np.random.rand(npoints)),\n",
    "                                 (x3, np.random.rand(npoints)),\n",
    "                                 (y1, np.random.rand(npoints)),\n",
    "                                 (y2, np.random.rand(npoints)))\n",
    "        stop_adding = time.perf_counter()\n",
    "        run_id = datasaver.run_id\n",
    "    stop = time.perf_counter()\n",
    "    tot_time = stop - start\n",
    "    add_time = stop_adding - start_adding\n",
    "    return tot_time, add_time, run_id"
   ]
  },
  {
   "cell_type": "markdown",
   "execution_count": 5,
   "metadata": {},
   "source": [
    "## Comparison between numeric/array data and binary blob"
   ]
  },
  {
   "cell_type": "markdown",
   "execution_count": 5,
   "metadata": {},
   "source": [
    "### Case1: Short experiment time"
   ]
  },
  {
   "cell_type": "code",
   "execution_count": 5,
   "metadata": {
    "execution": {
     "iopub.execute_input": "2020-09-14T06:54:24.447624Z",
     "iopub.status.busy": "2020-09-14T06:54:24.446493Z",
     "iopub.status.idle": "2020-09-14T06:54:25.369206Z",
     "shell.execute_reply": "2020-09-14T06:54:25.368650Z"
    }
   },
   "outputs": [
    {
     "name": "stdout",
     "output_type": "stream",
     "text": [
      "Starting experimental run with id: 1. \n",
      "Starting experimental run with id: 2. \n",
      "Starting experimental run with id: 3. \n"
     ]
    },
    {
     "name": "stdout",
     "output_type": "stream",
     "text": [
      "Starting experimental run with id: 4. \n"
     ]
    },
    {
     "name": "stdout",
     "output_type": "stream",
     "text": [
      "Starting experimental run with id: 5. \n"
     ]
    },
    {
     "name": "stdout",
     "output_type": "stream",
     "text": [
      "Starting experimental run with id: 6. \n"
     ]
    },
    {
     "name": "stdout",
     "output_type": "stream",
     "text": [
      "Starting experimental run with id: 7. \n",
      "Starting experimental run with id: 8. \n"
     ]
    },
    {
     "name": "stdout",
     "output_type": "stream",
     "text": [
      "Starting experimental run with id: 9. \n"
     ]
    },
    {
     "name": "stdout",
     "output_type": "stream",
     "text": [
      "Starting experimental run with id: 10. \n",
      "Starting experimental run with id: 11. \n"
     ]
    },
    {
     "name": "stdout",
     "output_type": "stream",
     "text": [
      "Starting experimental run with id: 12. \n"
     ]
    },
    {
     "name": "stdout",
     "output_type": "stream",
     "text": [
      "Starting experimental run with id: 13. \n"
     ]
    },
    {
     "name": "stdout",
     "output_type": "stream",
     "text": [
      "Starting experimental run with id: 14. \n"
     ]
    }
   ],
   "source": [
    "sizes = [1,500,1000,2000,3000,4000,5000]\n",
    "t_numeric = []\n",
    "t_numeric_add = []\n",
    "t_array = []\n",
    "t_array_add = []\n",
    "for size in sizes:\n",
    "    tn, tna, run_id_n =  insert_data('numeric', size)\n",
    "    t_numeric.append(tn)\n",
    "    t_numeric_add.append(tna)\n",
    "\n",
    "    ta, taa, run_id_a =  insert_data('array', size)\n",
    "    t_array.append(ta)\n",
    "    t_array_add.append(taa)"
   ]
  },
  {
   "cell_type": "code",
   "execution_count": 6,
   "metadata": {
    "execution": {
     "iopub.execute_input": "2020-09-14T06:54:25.374963Z",
     "iopub.status.busy": "2020-09-14T06:54:25.374183Z",
     "iopub.status.idle": "2020-09-14T06:54:25.560247Z",
     "shell.execute_reply": "2020-09-14T06:54:25.560647Z"
    }
   },
   "outputs": [
    {
     "data": {
      "image/png": "[encoded data removed]",
      "text/plain": [
       "<Figure size 432x288 with 1 Axes>"
      ]
     },
     "metadata": {
      "needs_background": "light"
     },
     "output_type": "display_data"
    }
   ],
   "source": [
    "fig, ax = plt.subplots(1,1)\n",
    "ax.plot(sizes, t_numeric, 'o-', label='Inserting row-by-row')\n",
    "ax.plot(sizes, t_numeric_add, 'o-', label='Inserting row-by-row: add_result only')\n",
    "ax.plot(sizes, t_array, 'd-', label='Inserting as binary blob')\n",
    "ax.plot(sizes, t_array_add, 'd-', label='Inserting as binary blob: add_result only')\n",
    "ax.legend()\n",
    "ax.set_xlabel('Array length')\n",
    "ax.set_ylabel('Time (s)')\n",
    "fig.tight_layout()"
   ]
  },
  {
   "cell_type": "markdown",
   "execution_count": 7,
   "metadata": {},
   "source": [
    "As shown in the latter figure, the time to setup and and close the experiment is approximately 0.4 sec. In case of small array sizes, the difference between inserting values of data as arrays and inserting them row-by-row is relatively unimportant. At larger array sizes, i.e. above 10000 points, the cost of writing data as individual datapoints starts to become important.\n"
   ]
  },
  {
   "cell_type": "markdown",
   "execution_count": 7,
   "metadata": {},
   "source": [
    "### Case2: Long experiment time "
   ]
  },
  {
   "cell_type": "code",
   "execution_count": 7,
   "metadata": {
    "execution": {
     "iopub.execute_input": "2020-09-14T06:54:25.567216Z",
     "iopub.status.busy": "2020-09-14T06:54:25.566310Z",
     "iopub.status.idle": "2020-09-14T06:55:24.965963Z",
     "shell.execute_reply": "2020-09-14T06:55:24.966751Z"
    }
   },
   "outputs": [
    {
     "name": "stdout",
     "output_type": "stream",
     "text": [
      "Starting experimental run with id: 15. \n",
      "Starting experimental run with id: 16. \n",
      "Starting experimental run with id: 17. \n"
     ]
    },
    {
     "name": "stdout",
     "output_type": "stream",
     "text": [
      "Starting experimental run with id: 18. \n",
      "Starting experimental run with id: 19. \n"
     ]
    },
    {
     "name": "stdout",
     "output_type": "stream",
     "text": [
      "Starting experimental run with id: 20. \n"
     ]
    },
    {
     "name": "stdout",
     "output_type": "stream",
     "text": [
      "Starting experimental run with id: 21. \n"
     ]
    },
    {
     "name": "stdout",
     "output_type": "stream",
     "text": [
      "Starting experimental run with id: 22. \n"
     ]
    },
    {
     "name": "stdout",
     "output_type": "stream",
     "text": [
      "Starting experimental run with id: 23. \n"
     ]
    },
    {
     "name": "stdout",
     "output_type": "stream",
     "text": [
      "Starting experimental run with id: 24. \n"
     ]
    },
    {
     "name": "stdout",
     "output_type": "stream",
     "text": [
      "Starting experimental run with id: 25. \n"
     ]
    },
    {
     "name": "stdout",
     "output_type": "stream",
     "text": [
      "Starting experimental run with id: 26. \n"
     ]
    },
    {
     "name": "stdout",
     "output_type": "stream",
     "text": [
      "Starting experimental run with id: 27. \n"
     ]
    },
    {
     "name": "stdout",
     "output_type": "stream",
     "text": [
      "Starting experimental run with id: 28. \n"
     ]
    }
   ],
   "source": [
    "sizes = [1,500,1000,2000,3000,4000,5000]\n",
    "nreps = 100\n",
    "t_numeric = []\n",
    "t_numeric_add = []\n",
    "t_numeric_run_ids = []\n",
    "t_array = []\n",
    "t_array_add = []\n",
    "t_array_run_ids = []\n",
    "for size in sizes:\n",
    "    tn, tna, run_id_n =  insert_data('numeric', size, nreps=nreps)\n",
    "    t_numeric.append(tn)\n",
    "    t_numeric_add.append(tna)\n",
    "    t_numeric_run_ids.append(run_id_n)\n",
    "\n",
    "    ta, taa, run_id_a =  insert_data('array', size, nreps=nreps)\n",
    "    t_array.append(ta)\n",
    "    t_array_add.append(taa)\n",
    "    t_array_run_ids.append(run_id_a)"
   ]
  },
  {
   "cell_type": "code",
   "execution_count": 8,
   "metadata": {
    "execution": {
     "iopub.execute_input": "2020-09-14T06:55:24.976595Z",
     "iopub.status.busy": "2020-09-14T06:55:24.972567Z",
     "iopub.status.idle": "2020-09-14T06:55:25.163610Z",
     "shell.execute_reply": "2020-09-14T06:55:25.164371Z"
    },
    "scrolled": true
   },
   "outputs": [
    {
     "data": {
      "image/png": "[encoded data removed]",
      "text/plain": [
       "<Figure size 432x288 with 1 Axes>"
      ]
     },
     "metadata": {
      "needs_background": "light"
     },
     "output_type": "display_data"
    }
   ],
   "source": [
    "fig, ax = plt.subplots(1,1)\n",
    "ax.plot(sizes, t_numeric, 'o-', label='Inserting row-by-row')\n",
    "ax.plot(sizes, t_numeric_add, 'o-', label='Inserting row-by-row: add_result only')\n",
    "ax.plot(sizes, t_array, 'd-', label='Inserting as binary blob')\n",
    "ax.plot(sizes, t_array_add, 'd-', label='Inserting as binary blob: add_result only')\n",
    "ax.legend()\n",
    "ax.set_xlabel('Array length')\n",
    "ax.set_ylabel('Time (s)')\n",
    "fig.tight_layout()"
   ]
  },
  {
   "cell_type": "markdown",
   "execution_count": 9,
   "metadata": {},
   "source": [
    "However, as we increase the length of the experiment, as seen here by repeating the insertion 100 times, we see a big difference between inserting values of the data row-by-row and inserting it as a binary blob."
   ]
  },
  {
   "cell_type": "markdown",
   "execution_count": 9,
   "metadata": {},
   "source": [
    "## Loading the data "
   ]
  },
  {
   "cell_type": "code",
   "execution_count": 9,
   "metadata": {
    "execution": {
     "iopub.execute_input": "2020-09-14T06:55:25.169876Z",
     "iopub.status.busy": "2020-09-14T06:55:25.168607Z",
     "iopub.status.idle": "2020-09-14T06:55:25.170878Z",
     "shell.execute_reply": "2020-09-14T06:55:25.171598Z"
    }
   },
   "outputs": [],
   "source": [
    "from qcodes.dataset.data_set import load_by_id\n",
    "from qcodes.dataset.data_export import get_data_by_id"
   ]
  },
  {
   "cell_type": "markdown",
   "execution_count": 10,
   "metadata": {},
   "source": [
    "As usual you can load the data by using the ``load_by_id`` function but you will notice that the different storage methods\n",
    "are reflected in shape of the data as it is retrieved. "
   ]
  },
  {
   "cell_type": "code",
   "execution_count": 10,
   "metadata": {
    "execution": {
     "iopub.execute_input": "2020-09-14T06:55:25.175212Z",
     "iopub.status.busy": "2020-09-14T06:55:25.174674Z",
     "iopub.status.idle": "2020-09-14T06:55:25.177076Z",
     "shell.execute_reply": "2020-09-14T06:55:25.176522Z"
    }
   },
   "outputs": [],
   "source": [
    "run_id_n = t_numeric_run_ids[0]\n",
    "run_id_a = t_array_run_ids[0]"
   ]
  },
  {
   "cell_type": "code",
   "execution_count": 11,
   "metadata": {
    "execution": {
     "iopub.execute_input": "2020-09-14T06:55:25.180113Z",
     "iopub.status.busy": "2020-09-14T06:55:25.179647Z",
     "iopub.status.idle": "2020-09-14T06:55:25.188491Z",
     "shell.execute_reply": "2020-09-14T06:55:25.187927Z"
    },
    "scrolled": true
   },
   "outputs": [
    {
     "data": {
      "text/plain": [
       "{'x1': {'x1': array([0.25473806, 0.25473806, 0.813452  , 0.813452  , 0.62483314,\n",
       "         0.62483314, 0.84019385, 0.84019385, 0.50637621, 0.50637621,\n",
       "         0.78808348, 0.78808348, 0.59845393, 0.59845393, 0.42463102,\n",
       "         0.42463102, 0.01603692, 0.01603692, 0.95312206, 0.95312206,\n",
       "         0.91622718, 0.91622718, 0.94798187, 0.94798187, 0.95210386,\n",
       "         0.95210386, 0.58794547, 0.58794547, 0.34392231, 0.34392231,\n",
       "         0.68743697, 0.68743697, 0.25510624, 0.25510624, 0.32133841,\n",
       "         0.32133841, 0.09000212, 0.09000212, 0.77077529, 0.77077529,\n",
       "         0.87827499, 0.87827499, 0.55164915, 0.55164915, 0.86335639,\n",
       "         0.86335639, 0.9018643 , 0.9018643 , 0.73263082, 0.73263082,\n",
       "         0.95402526, 0.95402526, 0.05611537, 0.05611537, 0.02186058,\n",
       "         0.02186058, 0.54942435, 0.54942435, 0.58226923, 0.58226923,\n",
       "         0.91954839, 0.91954839, 0.13372905, 0.13372905, 0.63008381,\n",
       "         0.63008381, 0.50672887, 0.50672887, 0.70597363, 0.70597363,\n",
       "         0.38596743, 0.38596743, 0.90641443, 0.90641443, 0.56472382,\n",
       "         0.56472382, 0.46897714, 0.46897714, 0.55514412, 0.55514412,\n",
       "         0.84392463, 0.84392463, 0.48584612, 0.48584612, 0.36949677,\n",
       "         0.36949677, 0.64318963, 0.64318963, 0.35113025, 0.35113025,\n",
       "         0.1440568 , 0.1440568 , 0.59819691, 0.59819691, 0.32766974,\n",
       "         0.32766974, 0.05629091, 0.05629091, 0.55791735, 0.55791735,\n",
       "         0.3065786 , 0.3065786 , 0.36963621, 0.36963621, 0.09291706,\n",
       "         0.09291706, 0.62185888, 0.62185888, 0.62086624, 0.62086624,\n",
       "         0.80074338, 0.80074338, 0.76319834, 0.76319834, 0.9044936 ,\n",
       "         0.9044936 , 0.62876076, 0.62876076, 0.15208436, 0.15208436,\n",
       "         0.40576984, 0.40576984, 0.74914635, 0.74914635, 0.70559406,\n",
       "         0.70559406, 0.51234541, 0.51234541, 0.77183432, 0.77183432,\n",
       "         0.49453261, 0.49453261, 0.09274893, 0.09274893, 0.29676889,\n",
       "         0.29676889, 0.81188964, 0.81188964, 0.60095955, 0.60095955,\n",
       "         0.70253144, 0.70253144, 0.51013243, 0.51013243, 0.46291047,\n",
       "         0.46291047, 0.16380712, 0.16380712, 0.41536263, 0.41536263,\n",
       "         0.22102497, 0.22102497, 0.1805551 , 0.1805551 , 0.66397822,\n",
       "         0.66397822, 0.51378605, 0.51378605, 0.80815648, 0.80815648,\n",
       "         0.19987585, 0.19987585, 0.26494482, 0.26494482, 0.38075699,\n",
       "         0.38075699, 0.86599238, 0.86599238, 0.73130512, 0.73130512,\n",
       "         0.21985674, 0.21985674, 0.25070253, 0.25070253, 0.10730433,\n",
       "         0.10730433, 0.73915209, 0.73915209, 0.98066526, 0.98066526,\n",
       "         0.70378899, 0.70378899, 0.5242801 , 0.5242801 , 0.49468192,\n",
       "         0.49468192, 0.05117496, 0.05117496, 0.21303645, 0.21303645,\n",
       "         0.44459989, 0.44459989, 0.22200636, 0.22200636, 0.39836702,\n",
       "         0.39836702, 0.90433538, 0.90433538, 0.52292319, 0.52292319])}}"
      ]
     },
     "execution_count": 1,
     "metadata": {},
     "output_type": "execute_result"
    }
   ],
   "source": [
    "ds = load_by_id(run_id_n)\n",
    "ds.get_parameter_data('x1')"
   ]
  },
  {
   "cell_type": "markdown",
   "execution_count": 12,
   "metadata": {},
   "source": [
    "And a dataset stored as binary arrays"
   ]
  },
  {
   "cell_type": "code",
   "execution_count": 12,
   "metadata": {
    "execution": {
     "iopub.execute_input": "2020-09-14T06:55:25.191489Z",
     "iopub.status.busy": "2020-09-14T06:55:25.190990Z",
     "iopub.status.idle": "2020-09-14T06:55:25.249977Z",
     "shell.execute_reply": "2020-09-14T06:55:25.250528Z"
    },
    "scrolled": true
   },
   "outputs": [
    {
     "data": {
      "text/plain": [
       "{'x1': {'x1': array([[0.56533447],\n",
       "         [0.56533447],\n",
       "         [0.93935622],\n",
       "         [0.93935622],\n",
       "         [0.99311564],\n",
       "         [0.99311564],\n",
       "         [0.13880072],\n",
       "         [0.13880072],\n",
       "         [0.0400099 ],\n",
       "         [0.0400099 ],\n",
       "         [0.18501918],\n",
       "         [0.18501918],\n",
       "         [0.59289717],\n",
       "         [0.59289717],\n",
       "         [0.46533795],\n",
       "         [0.46533795],\n",
       "         [0.6317579 ],\n",
       "         [0.6317579 ],\n",
       "         [0.4099954 ],\n",
       "         [0.4099954 ],\n",
       "         [0.13600259],\n",
       "         [0.13600259],\n",
       "         [0.45898845],\n",
       "         [0.45898845],\n",
       "         [0.38506342],\n",
       "         [0.38506342],\n",
       "         [0.86699985],\n",
       "         [0.86699985],\n",
       "         [0.63587315],\n",
       "         [0.63587315],\n",
       "         [0.86329244],\n",
       "         [0.86329244],\n",
       "         [0.3430335 ],\n",
       "         [0.3430335 ],\n",
       "         [0.30540698],\n",
       "         [0.30540698],\n",
       "         [0.49565013],\n",
       "         [0.49565013],\n",
       "         [0.42894981],\n",
       "         [0.42894981],\n",
       "         [0.9297128 ],\n",
       "         [0.9297128 ],\n",
       "         [0.04495755],\n",
       "         [0.04495755],\n",
       "         [0.90619707],\n",
       "         [0.90619707],\n",
       "         [0.22525579],\n",
       "         [0.22525579],\n",
       "         [0.52047858],\n",
       "         [0.52047858],\n",
       "         [0.2581384 ],\n",
       "         [0.2581384 ],\n",
       "         [0.06962164],\n",
       "         [0.06962164],\n",
       "         [0.4650129 ],\n",
       "         [0.4650129 ],\n",
       "         [0.20932313],\n",
       "         [0.20932313],\n",
       "         [0.07945248],\n",
       "         [0.07945248],\n",
       "         [0.76257611],\n",
       "         [0.76257611],\n",
       "         [0.17295763],\n",
       "         [0.17295763],\n",
       "         [0.80790485],\n",
       "         [0.80790485],\n",
       "         [0.9729685 ],\n",
       "         [0.9729685 ],\n",
       "         [0.99223477],\n",
       "         [0.99223477],\n",
       "         [0.41683212],\n",
       "         [0.41683212],\n",
       "         [0.23277358],\n",
       "         [0.23277358],\n",
       "         [0.66464181],\n",
       "         [0.66464181],\n",
       "         [0.0878448 ],\n",
       "         [0.0878448 ],\n",
       "         [0.21108103],\n",
       "         [0.21108103],\n",
       "         [0.83130365],\n",
       "         [0.83130365],\n",
       "         [0.69941566],\n",
       "         [0.69941566],\n",
       "         [0.60137008],\n",
       "         [0.60137008],\n",
       "         [0.74671813],\n",
       "         [0.74671813],\n",
       "         [0.82372114],\n",
       "         [0.82372114],\n",
       "         [0.2857086 ],\n",
       "         [0.2857086 ],\n",
       "         [0.99083058],\n",
       "         [0.99083058],\n",
       "         [0.94220208],\n",
       "         [0.94220208],\n",
       "         [0.55218448],\n",
       "         [0.55218448],\n",
       "         [0.85019484],\n",
       "         [0.85019484],\n",
       "         [0.80248482],\n",
       "         [0.80248482],\n",
       "         [0.3302166 ],\n",
       "         [0.3302166 ],\n",
       "         [0.67614255],\n",
       "         [0.67614255],\n",
       "         [0.1695372 ],\n",
       "         [0.1695372 ],\n",
       "         [0.66520935],\n",
       "         [0.66520935],\n",
       "         [0.7381153 ],\n",
       "         [0.7381153 ],\n",
       "         [0.12145477],\n",
       "         [0.12145477],\n",
       "         [0.33242239],\n",
       "         [0.33242239],\n",
       "         [0.70040024],\n",
       "         [0.70040024],\n",
       "         [0.9722173 ],\n",
       "         [0.9722173 ],\n",
       "         [0.26899829],\n",
       "         [0.26899829],\n",
       "         [0.06859156],\n",
       "         [0.06859156],\n",
       "         [0.18123575],\n",
       "         [0.18123575],\n",
       "         [0.15819636],\n",
       "         [0.15819636],\n",
       "         [0.72797272],\n",
       "         [0.72797272],\n",
       "         [0.92394156],\n",
       "         [0.92394156],\n",
       "         [0.803934  ],\n",
       "         [0.803934  ],\n",
       "         [0.30452173],\n",
       "         [0.30452173],\n",
       "         [0.35938417],\n",
       "         [0.35938417],\n",
       "         [0.93212607],\n",
       "         [0.93212607],\n",
       "         [0.11752811],\n",
       "         [0.11752811],\n",
       "         [0.73603438],\n",
       "         [0.73603438],\n",
       "         [0.27598592],\n",
       "         [0.27598592],\n",
       "         [0.20358271],\n",
       "         [0.20358271],\n",
       "         [0.49082982],\n",
       "         [0.49082982],\n",
       "         [0.10070456],\n",
       "         [0.10070456],\n",
       "         [0.06270875],\n",
       "         [0.06270875],\n",
       "         [0.72944234],\n",
       "         [0.72944234],\n",
       "         [0.25933246],\n",
       "         [0.25933246],\n",
       "         [0.73554444],\n",
       "         [0.73554444],\n",
       "         [0.44629903],\n",
       "         [0.44629903],\n",
       "         [0.3226796 ],\n",
       "         [0.3226796 ],\n",
       "         [0.9978244 ],\n",
       "         [0.9978244 ],\n",
       "         [0.16348326],\n",
       "         [0.16348326],\n",
       "         [0.58095867],\n",
       "         [0.58095867],\n",
       "         [0.33349175],\n",
       "         [0.33349175],\n",
       "         [0.0254397 ],\n",
       "         [0.0254397 ],\n",
       "         [0.17495904],\n",
       "         [0.17495904],\n",
       "         [0.53312022],\n",
       "         [0.53312022],\n",
       "         [0.0825859 ],\n",
       "         [0.0825859 ],\n",
       "         [0.8725756 ],\n",
       "         [0.8725756 ],\n",
       "         [0.80383026],\n",
       "         [0.80383026],\n",
       "         [0.16792689],\n",
       "         [0.16792689],\n",
       "         [0.2975133 ],\n",
       "         [0.2975133 ],\n",
       "         [0.4637743 ],\n",
       "         [0.4637743 ],\n",
       "         [0.24527106],\n",
       "         [0.24527106],\n",
       "         [0.59466413],\n",
       "         [0.59466413],\n",
       "         [0.465669  ],\n",
       "         [0.465669  ],\n",
       "         [0.75893243],\n",
       "         [0.75893243],\n",
       "         [0.46813431],\n",
       "         [0.46813431]])}}"
      ]
     },
     "execution_count": 1,
     "metadata": {},
     "output_type": "execute_result"
    }
   ],
   "source": [
    "ds = load_by_id(run_id_a)\n",
    "ds.get_parameter_data('x1')"
   ]
  },
  {
   "cell_type": "code",
   "execution_count": 13,
   "metadata": {},
   "outputs": [],
   "source": []
  }
 ],
 "metadata": {
  "kernelspec": {
   "display_name": "Python 3",
   "language": "python",
   "name": "python3"
  },
  "language_info": {
   "codemirror_mode": {
    "name": "ipython",
    "version": 3
   },
   "file_extension": ".py",
   "mimetype": "text/x-python",
   "name": "python",
   "nbconvert_exporter": "python",
   "pygments_lexer": "ipython3",
   "version": "3.7.7"
  },
  "nbsphinx": {
   "timeout": 600
  },
  "toc": {
   "base_numbering": 1,
   "nav_menu": {},
   "number_sections": true,
   "sideBar": true,
   "skip_h1_title": false,
   "title_cell": "Table of Contents",
   "title_sidebar": "Contents",
   "toc_cell": false,
   "toc_position": {},
   "toc_section_display": true,
   "toc_window_display": false
  },
  "varInspector": {
   "cols": {
    "lenName": 16,
    "lenType": 16,
    "lenVar": 40
   },
   "kernels_config": {
    "python": {
     "delete_cmd_postfix": "",
     "delete_cmd_prefix": "del ",
     "library": "var_list.py",
     "varRefreshCmd": "print(var_dic_list())"
    },
    "r": {
     "delete_cmd_postfix": ") ",
     "delete_cmd_prefix": "rm(",
     "library": "var_list.r",
     "varRefreshCmd": "cat(var_dic_list()) "
    }
   },
   "types_to_exclude": [
    "module",
    "function",
    "builtin_function_or_method",
    "instance",
    "_Feature"
   ],
   "window_display": false
  }
 },
 "nbformat": 4,
 "nbformat_minor": 2
}
