{
 "cells": [
  {
   "cell_type": "markdown",
   "metadata": {},
   "source": [
    "# DataSet Performance\n",
    "\n",
    "This notebook shows the trade-off between inserting data into a database row-by-row and as binary blobs. Inserting the data row-by-row means that we have direct access to all the data and may perform queries directly on the values of the data. On the other hand, as we shall see, this is much slower than inserting the data directly as binary blobs."
   ]
  },
  {
   "cell_type": "markdown",
   "metadata": {},
   "source": [
    "First, we choose a new location for the database to ensure that we don't add a bunch of benchmarking data to the default one."
   ]
  },
  {
   "cell_type": "code",
   "execution_count": 1,
   "metadata": {
    "execution": {
     "iopub.execute_input": "2021-01-28T13:39:05.958356Z",
     "iopub.status.busy": "2021-01-28T13:39:05.957854Z",
     "iopub.status.idle": "2021-01-28T13:39:06.994279Z",
     "shell.execute_reply": "2021-01-28T13:39:06.993694Z"
    }
   },
   "outputs": [
    {
     "name": "stdout",
     "output_type": "stream",
     "text": [
      "Logging hadn't been started.\n",
      "Activating auto-logging. Current session state plus future input saved.\n",
      "Filename       : /home/vsts/.qcodes/logs/command_history.log\n",
      "Mode           : append\n",
      "Output logging : True\n",
      "Raw input log  : False\n",
      "Timestamping   : True\n",
      "State          : active\n"
     ]
    },
    {
     "name": "stdout",
     "output_type": "stream",
     "text": [
      "Qcodes Logfile : /home/vsts/.qcodes/logs/210128-13673-qcodes.log\n"
     ]
    }
   ],
   "source": [
    "import os\n",
    "cwd = os.getcwd()\n",
    "import qcodes as qc\n",
    "qc.config[\"core\"][\"db_location\"] = os.path.join(cwd, 'testing.db')\n"
   ]
  },
  {
   "cell_type": "code",
   "execution_count": 2,
   "metadata": {
    "execution": {
     "iopub.execute_input": "2021-01-28T13:39:07.000555Z",
     "iopub.status.busy": "2021-01-28T13:39:06.999727Z",
     "iopub.status.idle": "2021-01-28T13:39:07.189808Z",
     "shell.execute_reply": "2021-01-28T13:39:07.188989Z"
    }
   },
   "outputs": [],
   "source": [
    "%matplotlib inline\n",
    "import time\n",
    "import matplotlib.pyplot as plt\n",
    "import numpy as np\n",
    "\n",
    "import qcodes as qc\n",
    "from qcodes.instrument.parameter import ManualParameter\n",
    "from qcodes.dataset.experiment_container import (Experiment,\n",
    "                                                 load_last_experiment,\n",
    "                                                 new_experiment)\n",
    "from qcodes.dataset.sqlite.database import initialise_database\n",
    "from qcodes import load_or_create_experiment\n",
    "from qcodes.dataset.measurements import Measurement"
   ]
  },
  {
   "cell_type": "code",
   "execution_count": 3,
   "metadata": {
    "execution": {
     "iopub.execute_input": "2021-01-28T13:39:07.193974Z",
     "iopub.status.busy": "2021-01-28T13:39:07.193438Z",
     "iopub.status.idle": "2021-01-28T13:39:07.308711Z",
     "shell.execute_reply": "2021-01-28T13:39:07.308283Z"
    }
   },
   "outputs": [
    {
     "name": "stdout",
     "output_type": "stream",
     "text": [
      "\r",
      "0it [00:00, ?it/s]"
     ]
    },
    {
     "name": "stdout",
     "output_type": "stream",
     "text": [
      "\r",
      "Upgrading database; v0 -> v1: : 0it [00:00, ?it/s]"
     ]
    },
    {
     "name": "stdout",
     "output_type": "stream",
     "text": [
      "\r",
      "Upgrading database; v0 -> v1: : 0it [00:00, ?it/s]"
     ]
    },
    {
     "name": "stdout",
     "output_type": "stream",
     "text": [
      "\n",
      "\r",
      "  0%|          | 0/1 [00:00<?, ?it/s]"
     ]
    },
    {
     "name": "stdout",
     "output_type": "stream",
     "text": [
      "\r",
      "Upgrading database; v1 -> v2:   0%|          | 0/1 [00:00<?, ?it/s]"
     ]
    },
    {
     "name": "stdout",
     "output_type": "stream",
     "text": [
      "\r",
      "Upgrading database; v1 -> v2: 100%|██████████| 1/1 [00:00<00:00, 517.94it/s]"
     ]
    },
    {
     "name": "stdout",
     "output_type": "stream",
     "text": [
      "\n",
      "\r",
      "0it [00:00, ?it/s]"
     ]
    },
    {
     "name": "stdout",
     "output_type": "stream",
     "text": [
      "\r",
      "Upgrading database; v2 -> v3: : 0it [00:00, ?it/s]"
     ]
    },
    {
     "name": "stdout",
     "output_type": "stream",
     "text": [
      "\r",
      "Upgrading database; v2 -> v3: : 0it [00:00, ?it/s]"
     ]
    },
    {
     "name": "stdout",
     "output_type": "stream",
     "text": [
      "\n",
      "\r",
      "0it [00:00, ?it/s]"
     ]
    },
    {
     "name": "stdout",
     "output_type": "stream",
     "text": [
      "\r",
      "Upgrading database; v3 -> v4: : 0it [00:00, ?it/s]"
     ]
    },
    {
     "name": "stdout",
     "output_type": "stream",
     "text": [
      "\r",
      "Upgrading database; v3 -> v4: : 0it [00:00, ?it/s]"
     ]
    },
    {
     "name": "stdout",
     "output_type": "stream",
     "text": [
      "\n",
      "\r",
      "  0%|          | 0/1 [00:00<?, ?it/s]"
     ]
    },
    {
     "name": "stdout",
     "output_type": "stream",
     "text": [
      "\r",
      "Upgrading database; v4 -> v5:   0%|          | 0/1 [00:00<?, ?it/s]"
     ]
    },
    {
     "name": "stdout",
     "output_type": "stream",
     "text": [
      "\r",
      "Upgrading database; v4 -> v5: 100%|██████████| 1/1 [00:00<00:00, 784.42it/s]"
     ]
    },
    {
     "name": "stdout",
     "output_type": "stream",
     "text": [
      "\n",
      "\r",
      "0it [00:00, ?it/s]"
     ]
    },
    {
     "name": "stdout",
     "output_type": "stream",
     "text": [
      "\r",
      "Upgrading database; v5 -> v6: : 0it [00:00, ?it/s]"
     ]
    },
    {
     "name": "stdout",
     "output_type": "stream",
     "text": [
      "\r",
      "Upgrading database; v5 -> v6: : 0it [00:00, ?it/s]"
     ]
    },
    {
     "name": "stdout",
     "output_type": "stream",
     "text": [
      "\n",
      "\r",
      "  0%|          | 0/1 [00:00<?, ?it/s]"
     ]
    },
    {
     "name": "stdout",
     "output_type": "stream",
     "text": [
      "\r",
      "Upgrading database; v6 -> v7:   0%|          | 0/1 [00:00<?, ?it/s]"
     ]
    },
    {
     "name": "stdout",
     "output_type": "stream",
     "text": [
      "\r",
      "Upgrading database; v6 -> v7: 100%|██████████| 1/1 [00:00<00:00, 251.29it/s]"
     ]
    },
    {
     "name": "stdout",
     "output_type": "stream",
     "text": [
      "\n",
      "\r",
      "  0%|          | 0/1 [00:00<?, ?it/s]"
     ]
    },
    {
     "name": "stdout",
     "output_type": "stream",
     "text": [
      "\r",
      "Upgrading database; v7 -> v8:   0%|          | 0/1 [00:00<?, ?it/s]"
     ]
    },
    {
     "name": "stdout",
     "output_type": "stream",
     "text": [
      "\r",
      "Upgrading database; v7 -> v8: 100%|██████████| 1/1 [00:00<00:00, 468.69it/s]"
     ]
    },
    {
     "name": "stdout",
     "output_type": "stream",
     "text": [
      "\n",
      "\r",
      "  0%|          | 0/1 [00:00<?, ?it/s]"
     ]
    },
    {
     "name": "stdout",
     "output_type": "stream",
     "text": [
      "\r",
      "Upgrading database; v8 -> v9:   0%|          | 0/1 [00:00<?, ?it/s]"
     ]
    },
    {
     "name": "stdout",
     "output_type": "stream",
     "text": [
      "\r",
      "Upgrading database; v8 -> v9: 100%|██████████| 1/1 [00:00<00:00, 1038.19it/s]"
     ]
    },
    {
     "name": "stdout",
     "output_type": "stream",
     "text": [
      "\n"
     ]
    }
   ],
   "source": [
    "initialise_database()\n",
    "exp = load_or_create_experiment(experiment_name='tutorial_exp', sample_name=\"no sample\")"
   ]
  },
  {
   "cell_type": "markdown",
   "metadata": {},
   "source": [
    "Here, we define a simple function to benchmark the time it takes to insert n points with either numeric or array data type.\n",
    "We will compare both the time used to call ``add_result`` and the time used for the full measurement."
   ]
  },
  {
   "cell_type": "code",
   "execution_count": 4,
   "metadata": {
    "execution": {
     "iopub.execute_input": "2021-01-28T13:39:07.317805Z",
     "iopub.status.busy": "2021-01-28T13:39:07.316912Z",
     "iopub.status.idle": "2021-01-28T13:39:07.319393Z",
     "shell.execute_reply": "2021-01-28T13:39:07.318728Z"
    }
   },
   "outputs": [],
   "source": [
    "def insert_data(paramtype, npoints, nreps=1):\n",
    "\n",
    "    meas = Measurement(exp=exp)\n",
    "\n",
    "    x1 = ManualParameter('x1')\n",
    "    x2 = ManualParameter('x2')\n",
    "    x3 = ManualParameter('x3')\n",
    "    y1 = ManualParameter('y1')\n",
    "    y2 = ManualParameter('y2')\n",
    "\n",
    "    meas.register_parameter(x1, paramtype=paramtype)\n",
    "    meas.register_parameter(x2, paramtype=paramtype)\n",
    "    meas.register_parameter(x3, paramtype=paramtype)\n",
    "    meas.register_parameter(y1, setpoints=[x1, x2, x3],\n",
    "                            paramtype=paramtype)\n",
    "    meas.register_parameter(y2, setpoints=[x1, x2, x3],\n",
    "                            paramtype=paramtype)\n",
    "    start = time.perf_counter()\n",
    "    with meas.run() as datasaver:\n",
    "        start_adding = time.perf_counter()\n",
    "        for i in range(nreps):\n",
    "            datasaver.add_result((x1, np.random.rand(npoints)),\n",
    "                                 (x2, np.random.rand(npoints)),\n",
    "                                 (x3, np.random.rand(npoints)),\n",
    "                                 (y1, np.random.rand(npoints)),\n",
    "                                 (y2, np.random.rand(npoints)))\n",
    "        stop_adding = time.perf_counter()\n",
    "        run_id = datasaver.run_id\n",
    "    stop = time.perf_counter()\n",
    "    tot_time = stop - start\n",
    "    add_time = stop_adding - start_adding\n",
    "    return tot_time, add_time, run_id"
   ]
  },
  {
   "cell_type": "markdown",
   "metadata": {},
   "source": [
    "## Comparison between numeric/array data and binary blob"
   ]
  },
  {
   "cell_type": "markdown",
   "metadata": {},
   "source": [
    "### Case1: Short experiment time"
   ]
  },
  {
   "cell_type": "code",
   "execution_count": 5,
   "metadata": {
    "execution": {
     "iopub.execute_input": "2021-01-28T13:39:07.325778Z",
     "iopub.status.busy": "2021-01-28T13:39:07.325270Z",
     "iopub.status.idle": "2021-01-28T13:39:08.204059Z",
     "shell.execute_reply": "2021-01-28T13:39:08.203437Z"
    }
   },
   "outputs": [
    {
     "name": "stdout",
     "output_type": "stream",
     "text": [
      "Starting experimental run with id: 1. \n",
      "Starting experimental run with id: 2. \n",
      "Starting experimental run with id: 3. \n",
      "Starting experimental run with id: 4. \n",
      "Starting experimental run with id: 5. \n"
     ]
    },
    {
     "name": "stdout",
     "output_type": "stream",
     "text": [
      "Starting experimental run with id: 6. \n"
     ]
    },
    {
     "name": "stdout",
     "output_type": "stream",
     "text": [
      "Starting experimental run with id: 7. \n"
     ]
    },
    {
     "name": "stdout",
     "output_type": "stream",
     "text": [
      "Starting experimental run with id: 8. \n",
      "Starting experimental run with id: 9. \n"
     ]
    },
    {
     "name": "stdout",
     "output_type": "stream",
     "text": [
      "Starting experimental run with id: 10. \n",
      "Starting experimental run with id: 11. \n"
     ]
    },
    {
     "name": "stdout",
     "output_type": "stream",
     "text": [
      "Starting experimental run with id: 12. \n"
     ]
    },
    {
     "name": "stdout",
     "output_type": "stream",
     "text": [
      "Starting experimental run with id: 13. \n"
     ]
    },
    {
     "name": "stdout",
     "output_type": "stream",
     "text": [
      "Starting experimental run with id: 14. \n"
     ]
    }
   ],
   "source": [
    "sizes = [1,500,1000,2000,3000,4000,5000]\n",
    "t_numeric = []\n",
    "t_numeric_add = []\n",
    "t_array = []\n",
    "t_array_add = []\n",
    "for size in sizes:\n",
    "    tn, tna, run_id_n =  insert_data('numeric', size)\n",
    "    t_numeric.append(tn)\n",
    "    t_numeric_add.append(tna)\n",
    "\n",
    "    ta, taa, run_id_a =  insert_data('array', size)\n",
    "    t_array.append(ta)\n",
    "    t_array_add.append(taa)"
   ]
  },
  {
   "cell_type": "code",
   "execution_count": 6,
   "metadata": {
    "execution": {
     "iopub.execute_input": "2021-01-28T13:39:08.221301Z",
     "iopub.status.busy": "2021-01-28T13:39:08.209723Z",
     "iopub.status.idle": "2021-01-28T13:39:08.410267Z",
     "shell.execute_reply": "2021-01-28T13:39:08.409794Z"
    }
   },
   "outputs": [
    {
     "data": {
      "image/png": "[encoded data removed]",
      "text/plain": [
       "<Figure size 432x288 with 1 Axes>"
      ]
     },
     "metadata": {
      "needs_background": "light"
     },
     "output_type": "display_data"
    }
   ],
   "source": [
    "fig, ax = plt.subplots(1,1)\n",
    "ax.plot(sizes, t_numeric, 'o-', label='Inserting row-by-row')\n",
    "ax.plot(sizes, t_numeric_add, 'o-', label='Inserting row-by-row: add_result only')\n",
    "ax.plot(sizes, t_array, 'd-', label='Inserting as binary blob')\n",
    "ax.plot(sizes, t_array_add, 'd-', label='Inserting as binary blob: add_result only')\n",
    "ax.legend()\n",
    "ax.set_xlabel('Array length')\n",
    "ax.set_ylabel('Time (s)')\n",
    "fig.tight_layout()"
   ]
  },
  {
   "cell_type": "markdown",
   "metadata": {},
   "source": [
    "As shown in the latter figure, the time to setup and and close the experiment is approximately 0.4 sec. In case of small array sizes, the difference between inserting values of data as arrays and inserting them row-by-row is relatively unimportant. At larger array sizes, i.e. above 10000 points, the cost of writing data as individual datapoints starts to become important.\n"
   ]
  },
  {
   "cell_type": "markdown",
   "metadata": {},
   "source": [
    "### Case2: Long experiment time "
   ]
  },
  {
   "cell_type": "code",
   "execution_count": 7,
   "metadata": {
    "execution": {
     "iopub.execute_input": "2021-01-28T13:39:08.416438Z",
     "iopub.status.busy": "2021-01-28T13:39:08.415914Z",
     "iopub.status.idle": "2021-01-28T13:40:08.564311Z",
     "shell.execute_reply": "2021-01-28T13:40:08.563597Z"
    }
   },
   "outputs": [
    {
     "name": "stdout",
     "output_type": "stream",
     "text": [
      "Starting experimental run with id: 15. \n",
      "Starting experimental run with id: 16. \n",
      "Starting experimental run with id: 17. \n"
     ]
    },
    {
     "name": "stdout",
     "output_type": "stream",
     "text": [
      "Starting experimental run with id: 18. \n",
      "Starting experimental run with id: 19. \n"
     ]
    },
    {
     "name": "stdout",
     "output_type": "stream",
     "text": [
      "Starting experimental run with id: 20. \n"
     ]
    },
    {
     "name": "stdout",
     "output_type": "stream",
     "text": [
      "Starting experimental run with id: 21. \n"
     ]
    },
    {
     "name": "stdout",
     "output_type": "stream",
     "text": [
      "Starting experimental run with id: 22. \n"
     ]
    },
    {
     "name": "stdout",
     "output_type": "stream",
     "text": [
      "Starting experimental run with id: 23. \n"
     ]
    },
    {
     "name": "stdout",
     "output_type": "stream",
     "text": [
      "Starting experimental run with id: 24. \n"
     ]
    },
    {
     "name": "stdout",
     "output_type": "stream",
     "text": [
      "Starting experimental run with id: 25. \n"
     ]
    },
    {
     "name": "stdout",
     "output_type": "stream",
     "text": [
      "Starting experimental run with id: 26. \n"
     ]
    },
    {
     "name": "stdout",
     "output_type": "stream",
     "text": [
      "Starting experimental run with id: 27. \n"
     ]
    },
    {
     "name": "stdout",
     "output_type": "stream",
     "text": [
      "Starting experimental run with id: 28. \n"
     ]
    }
   ],
   "source": [
    "sizes = [1,500,1000,2000,3000,4000,5000]\n",
    "nreps = 100\n",
    "t_numeric = []\n",
    "t_numeric_add = []\n",
    "t_numeric_run_ids = []\n",
    "t_array = []\n",
    "t_array_add = []\n",
    "t_array_run_ids = []\n",
    "for size in sizes:\n",
    "    tn, tna, run_id_n =  insert_data('numeric', size, nreps=nreps)\n",
    "    t_numeric.append(tn)\n",
    "    t_numeric_add.append(tna)\n",
    "    t_numeric_run_ids.append(run_id_n)\n",
    "\n",
    "    ta, taa, run_id_a =  insert_data('array', size, nreps=nreps)\n",
    "    t_array.append(ta)\n",
    "    t_array_add.append(taa)\n",
    "    t_array_run_ids.append(run_id_a)"
   ]
  },
  {
   "cell_type": "code",
   "execution_count": 8,
   "metadata": {
    "execution": {
     "iopub.execute_input": "2021-01-28T13:40:08.591590Z",
     "iopub.status.busy": "2021-01-28T13:40:08.582657Z",
     "iopub.status.idle": "2021-01-28T13:40:08.768712Z",
     "shell.execute_reply": "2021-01-28T13:40:08.769251Z"
    },
    "scrolled": true
   },
   "outputs": [
    {
     "data": {
      "image/png": "[encoded data removed]",
      "text/plain": [
       "<Figure size 432x288 with 1 Axes>"
      ]
     },
     "metadata": {
      "needs_background": "light"
     },
     "output_type": "display_data"
    }
   ],
   "source": [
    "fig, ax = plt.subplots(1,1)\n",
    "ax.plot(sizes, t_numeric, 'o-', label='Inserting row-by-row')\n",
    "ax.plot(sizes, t_numeric_add, 'o-', label='Inserting row-by-row: add_result only')\n",
    "ax.plot(sizes, t_array, 'd-', label='Inserting as binary blob')\n",
    "ax.plot(sizes, t_array_add, 'd-', label='Inserting as binary blob: add_result only')\n",
    "ax.legend()\n",
    "ax.set_xlabel('Array length')\n",
    "ax.set_ylabel('Time (s)')\n",
    "fig.tight_layout()"
   ]
  },
  {
   "cell_type": "markdown",
   "metadata": {},
   "source": [
    "However, as we increase the length of the experiment, as seen here by repeating the insertion 100 times, we see a big difference between inserting values of the data row-by-row and inserting it as a binary blob."
   ]
  },
  {
   "cell_type": "markdown",
   "metadata": {},
   "source": [
    "## Loading the data "
   ]
  },
  {
   "cell_type": "code",
   "execution_count": 9,
   "metadata": {
    "execution": {
     "iopub.execute_input": "2021-01-28T13:40:08.773529Z",
     "iopub.status.busy": "2021-01-28T13:40:08.772616Z",
     "iopub.status.idle": "2021-01-28T13:40:08.775700Z",
     "shell.execute_reply": "2021-01-28T13:40:08.775257Z"
    }
   },
   "outputs": [],
   "source": [
    "from qcodes.dataset.data_set import load_by_id\n",
    "from qcodes.dataset.data_export import get_data_by_id"
   ]
  },
  {
   "cell_type": "markdown",
   "metadata": {},
   "source": [
    "As usual you can load the data by using the ``load_by_id`` function but you will notice that the different storage methods\n",
    "are reflected in shape of the data as it is retrieved. "
   ]
  },
  {
   "cell_type": "code",
   "execution_count": 10,
   "metadata": {
    "execution": {
     "iopub.execute_input": "2021-01-28T13:40:08.780099Z",
     "iopub.status.busy": "2021-01-28T13:40:08.779003Z",
     "iopub.status.idle": "2021-01-28T13:40:08.780644Z",
     "shell.execute_reply": "2021-01-28T13:40:08.781159Z"
    }
   },
   "outputs": [],
   "source": [
    "run_id_n = t_numeric_run_ids[0]\n",
    "run_id_a = t_array_run_ids[0]"
   ]
  },
  {
   "cell_type": "code",
   "execution_count": 11,
   "metadata": {
    "execution": {
     "iopub.execute_input": "2021-01-28T13:40:08.784478Z",
     "iopub.status.busy": "2021-01-28T13:40:08.783808Z",
     "iopub.status.idle": "2021-01-28T13:40:08.795808Z",
     "shell.execute_reply": "2021-01-28T13:40:08.796431Z"
    },
    "scrolled": true
   },
   "outputs": [
    {
     "data": {
      "text/plain": [
       "{'x1': {'x1': array([0.10589714, 0.10589714, 0.15460369, 0.15460369, 0.2925718 ,\n",
       "         0.2925718 , 0.62913077, 0.62913077, 0.24172852, 0.24172852,\n",
       "         0.00713913, 0.00713913, 0.59135422, 0.59135422, 0.89747822,\n",
       "         0.89747822, 0.69575708, 0.69575708, 0.97794032, 0.97794032,\n",
       "         0.17464926, 0.17464926, 0.98383842, 0.98383842, 0.25585956,\n",
       "         0.25585956, 0.45929578, 0.45929578, 0.70855825, 0.70855825,\n",
       "         0.11769511, 0.11769511, 0.4539467 , 0.4539467 , 0.08159264,\n",
       "         0.08159264, 0.30597881, 0.30597881, 0.66395818, 0.66395818,\n",
       "         0.62361568, 0.62361568, 0.27637149, 0.27637149, 0.63831424,\n",
       "         0.63831424, 0.23054748, 0.23054748, 0.52076921, 0.52076921,\n",
       "         0.06814267, 0.06814267, 0.56014413, 0.56014413, 0.22334266,\n",
       "         0.22334266, 0.56979602, 0.56979602, 0.82269453, 0.82269453,\n",
       "         0.68134745, 0.68134745, 0.07321602, 0.07321602, 0.37830731,\n",
       "         0.37830731, 0.26616009, 0.26616009, 0.85348004, 0.85348004,\n",
       "         0.80209274, 0.80209274, 0.38870168, 0.38870168, 0.96440767,\n",
       "         0.96440767, 0.5368807 , 0.5368807 , 0.47393856, 0.47393856,\n",
       "         0.29029076, 0.29029076, 0.71098004, 0.71098004, 0.43788938,\n",
       "         0.43788938, 0.88162123, 0.88162123, 0.90046384, 0.90046384,\n",
       "         0.14286731, 0.14286731, 0.7783407 , 0.7783407 , 0.12767919,\n",
       "         0.12767919, 0.91930227, 0.91930227, 0.39499689, 0.39499689,\n",
       "         0.77079325, 0.77079325, 0.51735622, 0.51735622, 0.52643332,\n",
       "         0.52643332, 0.10760726, 0.10760726, 0.62422435, 0.62422435,\n",
       "         0.11831043, 0.11831043, 0.99777079, 0.99777079, 0.43606651,\n",
       "         0.43606651, 0.0583584 , 0.0583584 , 0.62299234, 0.62299234,\n",
       "         0.82456541, 0.82456541, 0.74469561, 0.74469561, 0.0997433 ,\n",
       "         0.0997433 , 0.55794803, 0.55794803, 0.61924006, 0.61924006,\n",
       "         0.47865215, 0.47865215, 0.91893298, 0.91893298, 0.93375611,\n",
       "         0.93375611, 0.19258064, 0.19258064, 0.55211515, 0.55211515,\n",
       "         0.95290646, 0.95290646, 0.24553253, 0.24553253, 0.1065298 ,\n",
       "         0.1065298 , 0.44411946, 0.44411946, 0.33692621, 0.33692621,\n",
       "         0.49285237, 0.49285237, 0.4476554 , 0.4476554 , 0.1717416 ,\n",
       "         0.1717416 , 0.27683252, 0.27683252, 0.66823151, 0.66823151,\n",
       "         0.75907817, 0.75907817, 0.28286029, 0.28286029, 0.45763691,\n",
       "         0.45763691, 0.7692573 , 0.7692573 , 0.38058789, 0.38058789,\n",
       "         0.41670759, 0.41670759, 0.32940768, 0.32940768, 0.59490241,\n",
       "         0.59490241, 0.23581837, 0.23581837, 0.21975572, 0.21975572,\n",
       "         0.87800815, 0.87800815, 0.44791205, 0.44791205, 0.05260893,\n",
       "         0.05260893, 0.09187959, 0.09187959, 0.41180539, 0.41180539,\n",
       "         0.98479758, 0.98479758, 0.08448429, 0.08448429, 0.20434218,\n",
       "         0.20434218, 0.61331449, 0.61331449, 0.29635964, 0.29635964])}}"
      ]
     },
     "execution_count": 1,
     "metadata": {},
     "output_type": "execute_result"
    }
   ],
   "source": [
    "ds = load_by_id(run_id_n)\n",
    "ds.get_parameter_data('x1')"
   ]
  },
  {
   "cell_type": "markdown",
   "metadata": {},
   "source": [
    "And a dataset stored as binary arrays"
   ]
  },
  {
   "cell_type": "code",
   "execution_count": 12,
   "metadata": {
    "execution": {
     "iopub.execute_input": "2021-01-28T13:40:08.800376Z",
     "iopub.status.busy": "2021-01-28T13:40:08.799649Z",
     "iopub.status.idle": "2021-01-28T13:40:08.855024Z",
     "shell.execute_reply": "2021-01-28T13:40:08.855972Z"
    },
    "scrolled": true
   },
   "outputs": [
    {
     "data": {
      "text/plain": [
       "{'x1': {'x1': array([[0.17866488],\n",
       "         [0.17866488],\n",
       "         [0.4050814 ],\n",
       "         [0.4050814 ],\n",
       "         [0.31802515],\n",
       "         [0.31802515],\n",
       "         [0.76501661],\n",
       "         [0.76501661],\n",
       "         [0.68298467],\n",
       "         [0.68298467],\n",
       "         [0.71034043],\n",
       "         [0.71034043],\n",
       "         [0.43962831],\n",
       "         [0.43962831],\n",
       "         [0.70830997],\n",
       "         [0.70830997],\n",
       "         [0.08158979],\n",
       "         [0.08158979],\n",
       "         [0.86507563],\n",
       "         [0.86507563],\n",
       "         [0.47492624],\n",
       "         [0.47492624],\n",
       "         [0.69608701],\n",
       "         [0.69608701],\n",
       "         [0.42314202],\n",
       "         [0.42314202],\n",
       "         [0.51530996],\n",
       "         [0.51530996],\n",
       "         [0.43367218],\n",
       "         [0.43367218],\n",
       "         [0.94514417],\n",
       "         [0.94514417],\n",
       "         [0.97327097],\n",
       "         [0.97327097],\n",
       "         [0.69693502],\n",
       "         [0.69693502],\n",
       "         [0.21009431],\n",
       "         [0.21009431],\n",
       "         [0.35809136],\n",
       "         [0.35809136],\n",
       "         [0.67662175],\n",
       "         [0.67662175],\n",
       "         [0.83208597],\n",
       "         [0.83208597],\n",
       "         [0.88907226],\n",
       "         [0.88907226],\n",
       "         [0.56758468],\n",
       "         [0.56758468],\n",
       "         [0.1456875 ],\n",
       "         [0.1456875 ],\n",
       "         [0.55002287],\n",
       "         [0.55002287],\n",
       "         [0.85961097],\n",
       "         [0.85961097],\n",
       "         [0.81485832],\n",
       "         [0.81485832],\n",
       "         [0.5615831 ],\n",
       "         [0.5615831 ],\n",
       "         [0.2985183 ],\n",
       "         [0.2985183 ],\n",
       "         [0.53103399],\n",
       "         [0.53103399],\n",
       "         [0.81866117],\n",
       "         [0.81866117],\n",
       "         [0.18694604],\n",
       "         [0.18694604],\n",
       "         [0.60489314],\n",
       "         [0.60489314],\n",
       "         [0.30870965],\n",
       "         [0.30870965],\n",
       "         [0.11728494],\n",
       "         [0.11728494],\n",
       "         [0.71605928],\n",
       "         [0.71605928],\n",
       "         [0.07045649],\n",
       "         [0.07045649],\n",
       "         [0.03883624],\n",
       "         [0.03883624],\n",
       "         [0.05241927],\n",
       "         [0.05241927],\n",
       "         [0.2586871 ],\n",
       "         [0.2586871 ],\n",
       "         [0.74024892],\n",
       "         [0.74024892],\n",
       "         [0.8811877 ],\n",
       "         [0.8811877 ],\n",
       "         [0.44963154],\n",
       "         [0.44963154],\n",
       "         [0.56964349],\n",
       "         [0.56964349],\n",
       "         [0.9056467 ],\n",
       "         [0.9056467 ],\n",
       "         [0.06118513],\n",
       "         [0.06118513],\n",
       "         [0.32344604],\n",
       "         [0.32344604],\n",
       "         [0.0798354 ],\n",
       "         [0.0798354 ],\n",
       "         [0.72876771],\n",
       "         [0.72876771],\n",
       "         [0.20848971],\n",
       "         [0.20848971],\n",
       "         [0.57974069],\n",
       "         [0.57974069],\n",
       "         [0.37944416],\n",
       "         [0.37944416],\n",
       "         [0.1849033 ],\n",
       "         [0.1849033 ],\n",
       "         [0.23700322],\n",
       "         [0.23700322],\n",
       "         [0.18559591],\n",
       "         [0.18559591],\n",
       "         [0.9697243 ],\n",
       "         [0.9697243 ],\n",
       "         [0.89315272],\n",
       "         [0.89315272],\n",
       "         [0.03570849],\n",
       "         [0.03570849],\n",
       "         [0.08733597],\n",
       "         [0.08733597],\n",
       "         [0.83394094],\n",
       "         [0.83394094],\n",
       "         [0.0889345 ],\n",
       "         [0.0889345 ],\n",
       "         [0.04920363],\n",
       "         [0.04920363],\n",
       "         [0.775757  ],\n",
       "         [0.775757  ],\n",
       "         [0.30895237],\n",
       "         [0.30895237],\n",
       "         [0.59702443],\n",
       "         [0.59702443],\n",
       "         [0.18466518],\n",
       "         [0.18466518],\n",
       "         [0.39756777],\n",
       "         [0.39756777],\n",
       "         [0.40993555],\n",
       "         [0.40993555],\n",
       "         [0.19102819],\n",
       "         [0.19102819],\n",
       "         [0.48559717],\n",
       "         [0.48559717],\n",
       "         [0.76732473],\n",
       "         [0.76732473],\n",
       "         [0.26974222],\n",
       "         [0.26974222],\n",
       "         [0.55994184],\n",
       "         [0.55994184],\n",
       "         [0.53299689],\n",
       "         [0.53299689],\n",
       "         [0.26314157],\n",
       "         [0.26314157],\n",
       "         [0.76661571],\n",
       "         [0.76661571],\n",
       "         [0.55718181],\n",
       "         [0.55718181],\n",
       "         [0.44631408],\n",
       "         [0.44631408],\n",
       "         [0.85690729],\n",
       "         [0.85690729],\n",
       "         [0.08759261],\n",
       "         [0.08759261],\n",
       "         [0.9854918 ],\n",
       "         [0.9854918 ],\n",
       "         [0.37068255],\n",
       "         [0.37068255],\n",
       "         [0.18185615],\n",
       "         [0.18185615],\n",
       "         [0.46682359],\n",
       "         [0.46682359],\n",
       "         [0.84630745],\n",
       "         [0.84630745],\n",
       "         [0.45309803],\n",
       "         [0.45309803],\n",
       "         [0.21819078],\n",
       "         [0.21819078],\n",
       "         [0.13496014],\n",
       "         [0.13496014],\n",
       "         [0.14882391],\n",
       "         [0.14882391],\n",
       "         [0.16505185],\n",
       "         [0.16505185],\n",
       "         [0.00864805],\n",
       "         [0.00864805],\n",
       "         [0.6904411 ],\n",
       "         [0.6904411 ],\n",
       "         [0.16310725],\n",
       "         [0.16310725],\n",
       "         [0.18378243],\n",
       "         [0.18378243],\n",
       "         [0.36055614],\n",
       "         [0.36055614],\n",
       "         [0.41635827],\n",
       "         [0.41635827],\n",
       "         [0.86557618],\n",
       "         [0.86557618],\n",
       "         [0.83726046],\n",
       "         [0.83726046],\n",
       "         [0.37934304],\n",
       "         [0.37934304]])}}"
      ]
     },
     "execution_count": 1,
     "metadata": {},
     "output_type": "execute_result"
    }
   ],
   "source": [
    "ds = load_by_id(run_id_a)\n",
    "ds.get_parameter_data('x1')"
   ]
  },
  {
   "cell_type": "code",
   "execution_count": null,
   "metadata": {},
   "outputs": [],
   "source": []
  }
 ],
 "metadata": {
  "kernelspec": {
   "display_name": "Python 3",
   "language": "python",
   "name": "python3"
  },
  "language_info": {
   "codemirror_mode": {
    "name": "ipython",
    "version": 3
   },
   "file_extension": ".py",
   "mimetype": "text/x-python",
   "name": "python",
   "nbconvert_exporter": "python",
   "pygments_lexer": "ipython3",
   "version": "3.7.9"
  },
  "nbsphinx": {
   "timeout": 600
  },
  "toc": {
   "base_numbering": 1,
   "nav_menu": {},
   "number_sections": true,
   "sideBar": true,
   "skip_h1_title": false,
   "title_cell": "Table of Contents",
   "title_sidebar": "Contents",
   "toc_cell": false,
   "toc_position": {},
   "toc_section_display": true,
   "toc_window_display": false
  },
  "varInspector": {
   "cols": {
    "lenName": 16,
    "lenType": 16,
    "lenVar": 40
   },
   "kernels_config": {
    "python": {
     "delete_cmd_postfix": "",
     "delete_cmd_prefix": "del ",
     "library": "var_list.py",
     "varRefreshCmd": "print(var_dic_list())"
    },
    "r": {
     "delete_cmd_postfix": ") ",
     "delete_cmd_prefix": "rm(",
     "library": "var_list.r",
     "varRefreshCmd": "cat(var_dic_list()) "
    }
   },
   "types_to_exclude": [
    "module",
    "function",
    "builtin_function_or_method",
    "instance",
    "_Feature"
   ],
   "window_display": false
  }
 },
 "nbformat": 4,
 "nbformat_minor": 2
}
