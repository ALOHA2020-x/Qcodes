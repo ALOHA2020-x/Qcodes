{
 "cells": [
  {
   "cell_type": "markdown",
   "metadata": {},
   "source": [
    "# DataSet Performance\n",
    "\n",
    "This notebook shows the trade-off between inserting data into a database row-by-row and as binary blobs. Inserting the data row-by-row means that we have direct access to all the data and may perform queries directly on the values of the data. On the other hand, as we shall see, this is much slower than inserting the data directly as binary blobs."
   ]
  },
  {
   "cell_type": "markdown",
   "metadata": {},
   "source": [
    "First, we choose a new location for the database to ensure that we don't add a bunch of benchmarking data to the default one."
   ]
  },
  {
   "cell_type": "code",
   "execution_count": 1,
   "metadata": {
    "execution": {
     "iopub.execute_input": "2021-05-20T17:01:13.880120Z",
     "iopub.status.busy": "2021-05-20T17:01:13.879221Z",
     "iopub.status.idle": "2021-05-20T17:01:15.001700Z",
     "shell.execute_reply": "2021-05-20T17:01:15.002790Z"
    }
   },
   "outputs": [
    {
     "name": "stdout",
     "output_type": "stream",
     "text": [
      "Logging hadn't been started.\n",
      "Activating auto-logging. Current session state plus future input saved.\n",
      "Filename       : /home/runner/.qcodes/logs/command_history.log\n",
      "Mode           : append\n",
      "Output logging : True\n",
      "Raw input log  : False\n",
      "Timestamping   : True\n",
      "State          : active\n"
     ]
    },
    {
     "name": "stdout",
     "output_type": "stream",
     "text": [
      "Qcodes Logfile : /home/runner/.qcodes/logs/210520-4490-qcodes.log\n"
     ]
    }
   ],
   "source": [
    "import os\n",
    "cwd = os.getcwd()\n",
    "import qcodes as qc\n",
    "qc.config[\"core\"][\"db_location\"] = os.path.join(cwd, 'testing.db')\n"
   ]
  },
  {
   "cell_type": "code",
   "execution_count": 2,
   "metadata": {
    "execution": {
     "iopub.execute_input": "2021-05-20T17:01:15.010247Z",
     "iopub.status.busy": "2021-05-20T17:01:15.009696Z",
     "iopub.status.idle": "2021-05-20T17:01:15.209728Z",
     "shell.execute_reply": "2021-05-20T17:01:15.209049Z"
    }
   },
   "outputs": [],
   "source": [
    "%matplotlib inline\n",
    "import time\n",
    "import matplotlib.pyplot as plt\n",
    "import numpy as np\n",
    "\n",
    "import qcodes as qc\n",
    "from qcodes.instrument.parameter import ManualParameter\n",
    "from qcodes.dataset.experiment_container import (Experiment,\n",
    "                                                 load_last_experiment,\n",
    "                                                 new_experiment)\n",
    "from qcodes.dataset.sqlite.database import initialise_database\n",
    "from qcodes import load_or_create_experiment\n",
    "from qcodes.dataset.measurements import Measurement"
   ]
  },
  {
   "cell_type": "code",
   "execution_count": 3,
   "metadata": {
    "execution": {
     "iopub.execute_input": "2021-05-20T17:01:15.213448Z",
     "iopub.status.busy": "2021-05-20T17:01:15.212847Z",
     "iopub.status.idle": "2021-05-20T17:01:15.281969Z",
     "shell.execute_reply": "2021-05-20T17:01:15.281538Z"
    }
   },
   "outputs": [
    {
     "name": "stdout",
     "output_type": "stream",
     "text": [
      "\r",
      "0it [00:00, ?it/s]"
     ]
    },
    {
     "name": "stdout",
     "output_type": "stream",
     "text": [
      "\r",
      "Upgrading database; v0 -> v1: : 0it [00:00, ?it/s]"
     ]
    },
    {
     "name": "stdout",
     "output_type": "stream",
     "text": [
      "\r",
      "Upgrading database; v0 -> v1: : 0it [00:00, ?it/s]"
     ]
    },
    {
     "name": "stdout",
     "output_type": "stream",
     "text": [
      "\n",
      "\r",
      "  0%|          | 0/1 [00:00<?, ?it/s]"
     ]
    },
    {
     "name": "stdout",
     "output_type": "stream",
     "text": [
      "\r",
      "Upgrading database; v1 -> v2:   0%|          | 0/1 [00:00<?, ?it/s]"
     ]
    },
    {
     "name": "stdout",
     "output_type": "stream",
     "text": [
      "\r",
      "Upgrading database; v1 -> v2: 100%|██████████| 1/1 [00:00<00:00, 477.38it/s]"
     ]
    },
    {
     "name": "stdout",
     "output_type": "stream",
     "text": [
      "\n",
      "\r",
      "0it [00:00, ?it/s]"
     ]
    },
    {
     "name": "stdout",
     "output_type": "stream",
     "text": [
      "\r",
      "Upgrading database; v2 -> v3: : 0it [00:00, ?it/s]"
     ]
    },
    {
     "name": "stdout",
     "output_type": "stream",
     "text": [
      "\r",
      "Upgrading database; v2 -> v3: : 0it [00:00, ?it/s]"
     ]
    },
    {
     "name": "stdout",
     "output_type": "stream",
     "text": [
      "\n",
      "\r",
      "0it [00:00, ?it/s]"
     ]
    },
    {
     "name": "stdout",
     "output_type": "stream",
     "text": [
      "\r",
      "Upgrading database; v3 -> v4: : 0it [00:00, ?it/s]"
     ]
    },
    {
     "name": "stdout",
     "output_type": "stream",
     "text": [
      "\r",
      "Upgrading database; v3 -> v4: : 0it [00:00, ?it/s]"
     ]
    },
    {
     "name": "stdout",
     "output_type": "stream",
     "text": [
      "\n",
      "\r",
      "  0%|          | 0/1 [00:00<?, ?it/s]"
     ]
    },
    {
     "name": "stdout",
     "output_type": "stream",
     "text": [
      "\r",
      "Upgrading database; v4 -> v5:   0%|          | 0/1 [00:00<?, ?it/s]"
     ]
    },
    {
     "name": "stdout",
     "output_type": "stream",
     "text": [
      "\r",
      "Upgrading database; v4 -> v5: 100%|██████████| 1/1 [00:00<00:00, 1143.17it/s]"
     ]
    },
    {
     "name": "stdout",
     "output_type": "stream",
     "text": [
      "\n",
      "\r",
      "0it [00:00, ?it/s]"
     ]
    },
    {
     "name": "stdout",
     "output_type": "stream",
     "text": [
      "\r",
      "Upgrading database; v5 -> v6: : 0it [00:00, ?it/s]"
     ]
    },
    {
     "name": "stdout",
     "output_type": "stream",
     "text": [
      "\r",
      "Upgrading database; v5 -> v6: : 0it [00:00, ?it/s]"
     ]
    },
    {
     "name": "stdout",
     "output_type": "stream",
     "text": [
      "\n",
      "\r",
      "  0%|          | 0/1 [00:00<?, ?it/s]"
     ]
    },
    {
     "name": "stdout",
     "output_type": "stream",
     "text": [
      "\r",
      "Upgrading database; v6 -> v7:   0%|          | 0/1 [00:00<?, ?it/s]"
     ]
    },
    {
     "name": "stdout",
     "output_type": "stream",
     "text": [
      "\r",
      "Upgrading database; v6 -> v7: 100%|██████████| 1/1 [00:00<00:00, 298.76it/s]"
     ]
    },
    {
     "name": "stdout",
     "output_type": "stream",
     "text": [
      "\n",
      "\r",
      "  0%|          | 0/1 [00:00<?, ?it/s]"
     ]
    },
    {
     "name": "stdout",
     "output_type": "stream",
     "text": [
      "\r",
      "Upgrading database; v7 -> v8:   0%|          | 0/1 [00:00<?, ?it/s]"
     ]
    },
    {
     "name": "stdout",
     "output_type": "stream",
     "text": [
      "\r",
      "Upgrading database; v7 -> v8: 100%|██████████| 1/1 [00:00<00:00, 459.00it/s]"
     ]
    },
    {
     "name": "stdout",
     "output_type": "stream",
     "text": [
      "\n",
      "\r",
      "  0%|          | 0/1 [00:00<?, ?it/s]"
     ]
    },
    {
     "name": "stdout",
     "output_type": "stream",
     "text": [
      "\r",
      "Upgrading database; v8 -> v9:   0%|          | 0/1 [00:00<?, ?it/s]"
     ]
    },
    {
     "name": "stdout",
     "output_type": "stream",
     "text": [
      "\r",
      "Upgrading database; v8 -> v9: 100%|██████████| 1/1 [00:00<00:00, 1298.14it/s]"
     ]
    },
    {
     "name": "stdout",
     "output_type": "stream",
     "text": [
      "\n"
     ]
    }
   ],
   "source": [
    "initialise_database()\n",
    "exp = load_or_create_experiment(experiment_name='tutorial_exp', sample_name=\"no sample\")"
   ]
  },
  {
   "cell_type": "markdown",
   "metadata": {},
   "source": [
    "Here, we define a simple function to benchmark the time it takes to insert n points with either numeric or array data type.\n",
    "We will compare both the time used to call ``add_result`` and the time used for the full measurement."
   ]
  },
  {
   "cell_type": "code",
   "execution_count": 4,
   "metadata": {
    "execution": {
     "iopub.execute_input": "2021-05-20T17:01:15.291374Z",
     "iopub.status.busy": "2021-05-20T17:01:15.290562Z",
     "iopub.status.idle": "2021-05-20T17:01:15.295095Z",
     "shell.execute_reply": "2021-05-20T17:01:15.294572Z"
    }
   },
   "outputs": [],
   "source": [
    "def insert_data(paramtype, npoints, nreps=1):\n",
    "\n",
    "    meas = Measurement(exp=exp)\n",
    "\n",
    "    x1 = ManualParameter('x1')\n",
    "    x2 = ManualParameter('x2')\n",
    "    x3 = ManualParameter('x3')\n",
    "    y1 = ManualParameter('y1')\n",
    "    y2 = ManualParameter('y2')\n",
    "\n",
    "    meas.register_parameter(x1, paramtype=paramtype)\n",
    "    meas.register_parameter(x2, paramtype=paramtype)\n",
    "    meas.register_parameter(x3, paramtype=paramtype)\n",
    "    meas.register_parameter(y1, setpoints=[x1, x2, x3],\n",
    "                            paramtype=paramtype)\n",
    "    meas.register_parameter(y2, setpoints=[x1, x2, x3],\n",
    "                            paramtype=paramtype)\n",
    "    start = time.perf_counter()\n",
    "    with meas.run() as datasaver:\n",
    "        start_adding = time.perf_counter()\n",
    "        for i in range(nreps):\n",
    "            datasaver.add_result((x1, np.random.rand(npoints)),\n",
    "                                 (x2, np.random.rand(npoints)),\n",
    "                                 (x3, np.random.rand(npoints)),\n",
    "                                 (y1, np.random.rand(npoints)),\n",
    "                                 (y2, np.random.rand(npoints)))\n",
    "        stop_adding = time.perf_counter()\n",
    "        run_id = datasaver.run_id\n",
    "    stop = time.perf_counter()\n",
    "    tot_time = stop - start\n",
    "    add_time = stop_adding - start_adding\n",
    "    return tot_time, add_time, run_id"
   ]
  },
  {
   "cell_type": "markdown",
   "metadata": {},
   "source": [
    "## Comparison between numeric/array data and binary blob"
   ]
  },
  {
   "cell_type": "markdown",
   "metadata": {},
   "source": [
    "### Case1: Short experiment time"
   ]
  },
  {
   "cell_type": "code",
   "execution_count": 5,
   "metadata": {
    "execution": {
     "iopub.execute_input": "2021-05-20T17:01:15.302602Z",
     "iopub.status.busy": "2021-05-20T17:01:15.301871Z",
     "iopub.status.idle": "2021-05-20T17:01:16.108200Z",
     "shell.execute_reply": "2021-05-20T17:01:16.107701Z"
    }
   },
   "outputs": [
    {
     "name": "stdout",
     "output_type": "stream",
     "text": [
      "Starting experimental run with id: 1. \n",
      "Starting experimental run with id: 2. \n",
      "Starting experimental run with id: 3. \n"
     ]
    },
    {
     "name": "stdout",
     "output_type": "stream",
     "text": [
      "Starting experimental run with id: 4. \n"
     ]
    },
    {
     "name": "stdout",
     "output_type": "stream",
     "text": [
      "Starting experimental run with id: 5. \n"
     ]
    },
    {
     "name": "stdout",
     "output_type": "stream",
     "text": [
      "Starting experimental run with id: 6. \n"
     ]
    },
    {
     "name": "stdout",
     "output_type": "stream",
     "text": [
      "Starting experimental run with id: 7. \n",
      "Starting experimental run with id: 8. \n",
      "Starting experimental run with id: 9. \n"
     ]
    },
    {
     "name": "stdout",
     "output_type": "stream",
     "text": [
      "Starting experimental run with id: 10. \n",
      "Starting experimental run with id: 11. \n",
      "Starting experimental run with id: 12. \n",
      "Starting experimental run with id: 13. \n"
     ]
    },
    {
     "name": "stdout",
     "output_type": "stream",
     "text": [
      "Starting experimental run with id: 14. \n"
     ]
    }
   ],
   "source": [
    "sizes = [1,500,1000,2000,3000,4000,5000]\n",
    "t_numeric = []\n",
    "t_numeric_add = []\n",
    "t_array = []\n",
    "t_array_add = []\n",
    "for size in sizes:\n",
    "    tn, tna, run_id_n =  insert_data('numeric', size)\n",
    "    t_numeric.append(tn)\n",
    "    t_numeric_add.append(tna)\n",
    "\n",
    "    ta, taa, run_id_a =  insert_data('array', size)\n",
    "    t_array.append(ta)\n",
    "    t_array_add.append(taa)"
   ]
  },
  {
   "cell_type": "code",
   "execution_count": 6,
   "metadata": {
    "execution": {
     "iopub.execute_input": "2021-05-20T17:01:16.129204Z",
     "iopub.status.busy": "2021-05-20T17:01:16.116859Z",
     "iopub.status.idle": "2021-05-20T17:01:16.340059Z",
     "shell.execute_reply": "2021-05-20T17:01:16.340489Z"
    }
   },
   "outputs": [
    {
     "data": {
      "image/png": "[encoded data removed]",
      "text/plain": [
       "<Figure size 432x288 with 1 Axes>"
      ]
     },
     "metadata": {
      "needs_background": "light"
     },
     "output_type": "display_data"
    }
   ],
   "source": [
    "fig, ax = plt.subplots(1,1)\n",
    "ax.plot(sizes, t_numeric, 'o-', label='Inserting row-by-row')\n",
    "ax.plot(sizes, t_numeric_add, 'o-', label='Inserting row-by-row: add_result only')\n",
    "ax.plot(sizes, t_array, 'd-', label='Inserting as binary blob')\n",
    "ax.plot(sizes, t_array_add, 'd-', label='Inserting as binary blob: add_result only')\n",
    "ax.legend()\n",
    "ax.set_xlabel('Array length')\n",
    "ax.set_ylabel('Time (s)')\n",
    "fig.tight_layout()"
   ]
  },
  {
   "cell_type": "markdown",
   "metadata": {},
   "source": [
    "As shown in the latter figure, the time to setup and and close the experiment is approximately 0.4 sec. In case of small array sizes, the difference between inserting values of data as arrays and inserting them row-by-row is relatively unimportant. At larger array sizes, i.e. above 10000 points, the cost of writing data as individual datapoints starts to become important.\n"
   ]
  },
  {
   "cell_type": "markdown",
   "metadata": {},
   "source": [
    "### Case2: Long experiment time "
   ]
  },
  {
   "cell_type": "code",
   "execution_count": 7,
   "metadata": {
    "execution": {
     "iopub.execute_input": "2021-05-20T17:01:16.346867Z",
     "iopub.status.busy": "2021-05-20T17:01:16.345991Z",
     "iopub.status.idle": "2021-05-20T17:02:09.808771Z",
     "shell.execute_reply": "2021-05-20T17:02:09.807497Z"
    }
   },
   "outputs": [
    {
     "name": "stdout",
     "output_type": "stream",
     "text": [
      "Starting experimental run with id: 15. \n",
      "Starting experimental run with id: 16. \n",
      "Starting experimental run with id: 17. \n"
     ]
    },
    {
     "name": "stdout",
     "output_type": "stream",
     "text": [
      "Starting experimental run with id: 18. \n",
      "Starting experimental run with id: 19. \n"
     ]
    },
    {
     "name": "stdout",
     "output_type": "stream",
     "text": [
      "Starting experimental run with id: 20. \n"
     ]
    },
    {
     "name": "stdout",
     "output_type": "stream",
     "text": [
      "Starting experimental run with id: 21. \n"
     ]
    },
    {
     "name": "stdout",
     "output_type": "stream",
     "text": [
      "Starting experimental run with id: 22. \n"
     ]
    },
    {
     "name": "stdout",
     "output_type": "stream",
     "text": [
      "Starting experimental run with id: 23. \n"
     ]
    },
    {
     "name": "stdout",
     "output_type": "stream",
     "text": [
      "Starting experimental run with id: 24. \n"
     ]
    },
    {
     "name": "stdout",
     "output_type": "stream",
     "text": [
      "Starting experimental run with id: 25. \n"
     ]
    },
    {
     "name": "stdout",
     "output_type": "stream",
     "text": [
      "Starting experimental run with id: 26. \n"
     ]
    },
    {
     "name": "stdout",
     "output_type": "stream",
     "text": [
      "Starting experimental run with id: 27. \n"
     ]
    },
    {
     "name": "stdout",
     "output_type": "stream",
     "text": [
      "Starting experimental run with id: 28. \n"
     ]
    }
   ],
   "source": [
    "sizes = [1,500,1000,2000,3000,4000,5000]\n",
    "nreps = 100\n",
    "t_numeric = []\n",
    "t_numeric_add = []\n",
    "t_numeric_run_ids = []\n",
    "t_array = []\n",
    "t_array_add = []\n",
    "t_array_run_ids = []\n",
    "for size in sizes:\n",
    "    tn, tna, run_id_n =  insert_data('numeric', size, nreps=nreps)\n",
    "    t_numeric.append(tn)\n",
    "    t_numeric_add.append(tna)\n",
    "    t_numeric_run_ids.append(run_id_n)\n",
    "\n",
    "    ta, taa, run_id_a =  insert_data('array', size, nreps=nreps)\n",
    "    t_array.append(ta)\n",
    "    t_array_add.append(taa)\n",
    "    t_array_run_ids.append(run_id_a)"
   ]
  },
  {
   "cell_type": "code",
   "execution_count": 8,
   "metadata": {
    "execution": {
     "iopub.execute_input": "2021-05-20T17:02:09.827691Z",
     "iopub.status.busy": "2021-05-20T17:02:09.827196Z",
     "iopub.status.idle": "2021-05-20T17:02:10.016376Z",
     "shell.execute_reply": "2021-05-20T17:02:10.015826Z"
    },
    "scrolled": true
   },
   "outputs": [
    {
     "data": {
      "image/png": "[encoded data removed]",
      "text/plain": [
       "<Figure size 432x288 with 1 Axes>"
      ]
     },
     "metadata": {
      "needs_background": "light"
     },
     "output_type": "display_data"
    }
   ],
   "source": [
    "fig, ax = plt.subplots(1,1)\n",
    "ax.plot(sizes, t_numeric, 'o-', label='Inserting row-by-row')\n",
    "ax.plot(sizes, t_numeric_add, 'o-', label='Inserting row-by-row: add_result only')\n",
    "ax.plot(sizes, t_array, 'd-', label='Inserting as binary blob')\n",
    "ax.plot(sizes, t_array_add, 'd-', label='Inserting as binary blob: add_result only')\n",
    "ax.legend()\n",
    "ax.set_xlabel('Array length')\n",
    "ax.set_ylabel('Time (s)')\n",
    "fig.tight_layout()"
   ]
  },
  {
   "cell_type": "markdown",
   "metadata": {},
   "source": [
    "However, as we increase the length of the experiment, as seen here by repeating the insertion 100 times, we see a big difference between inserting values of the data row-by-row and inserting it as a binary blob."
   ]
  },
  {
   "cell_type": "markdown",
   "metadata": {},
   "source": [
    "## Loading the data "
   ]
  },
  {
   "cell_type": "code",
   "execution_count": 9,
   "metadata": {
    "execution": {
     "iopub.execute_input": "2021-05-20T17:02:10.021072Z",
     "iopub.status.busy": "2021-05-20T17:02:10.020535Z",
     "iopub.status.idle": "2021-05-20T17:02:10.024208Z",
     "shell.execute_reply": "2021-05-20T17:02:10.023769Z"
    }
   },
   "outputs": [],
   "source": [
    "from qcodes.dataset.data_set import load_by_id"
   ]
  },
  {
   "cell_type": "markdown",
   "metadata": {},
   "source": [
    "As usual you can load the data by using the ``load_by_id`` function but you will notice that the different storage methods\n",
    "are reflected in shape of the data as it is retrieved. "
   ]
  },
  {
   "cell_type": "code",
   "execution_count": 10,
   "metadata": {
    "execution": {
     "iopub.execute_input": "2021-05-20T17:02:10.028930Z",
     "iopub.status.busy": "2021-05-20T17:02:10.027714Z",
     "iopub.status.idle": "2021-05-20T17:02:10.029596Z",
     "shell.execute_reply": "2021-05-20T17:02:10.030070Z"
    }
   },
   "outputs": [],
   "source": [
    "run_id_n = t_numeric_run_ids[0]\n",
    "run_id_a = t_array_run_ids[0]"
   ]
  },
  {
   "cell_type": "code",
   "execution_count": 11,
   "metadata": {
    "execution": {
     "iopub.execute_input": "2021-05-20T17:02:10.033389Z",
     "iopub.status.busy": "2021-05-20T17:02:10.032801Z",
     "iopub.status.idle": "2021-05-20T17:02:10.042082Z",
     "shell.execute_reply": "2021-05-20T17:02:10.042552Z"
    },
    "scrolled": true
   },
   "outputs": [
    {
     "data": {
      "text/plain": [
       "{'x1': {'x1': array([0.83417607, 0.83417607, 0.86388101, 0.86388101, 0.18885913,\n",
       "         0.18885913, 0.62989257, 0.62989257, 0.06731299, 0.06731299,\n",
       "         0.60385457, 0.60385457, 0.03681733, 0.03681733, 0.09987296,\n",
       "         0.09987296, 0.04533705, 0.04533705, 0.46976207, 0.46976207,\n",
       "         0.91814646, 0.91814646, 0.11055568, 0.11055568, 0.80542025,\n",
       "         0.80542025, 0.05671751, 0.05671751, 0.0062334 , 0.0062334 ,\n",
       "         0.77970815, 0.77970815, 0.45014709, 0.45014709, 0.34954893,\n",
       "         0.34954893, 0.49517228, 0.49517228, 0.29989086, 0.29989086,\n",
       "         0.06654014, 0.06654014, 0.44035821, 0.44035821, 0.48505541,\n",
       "         0.48505541, 0.81420301, 0.81420301, 0.08561389, 0.08561389,\n",
       "         0.15249835, 0.15249835, 0.31044892, 0.31044892, 0.14623773,\n",
       "         0.14623773, 0.76044205, 0.76044205, 0.56610338, 0.56610338,\n",
       "         0.06226401, 0.06226401, 0.28163866, 0.28163866, 0.40129792,\n",
       "         0.40129792, 0.34791172, 0.34791172, 0.83775483, 0.83775483,\n",
       "         0.25308876, 0.25308876, 0.83347913, 0.83347913, 0.62622647,\n",
       "         0.62622647, 0.20059473, 0.20059473, 0.48603737, 0.48603737,\n",
       "         0.78647549, 0.78647549, 0.35361035, 0.35361035, 0.18255012,\n",
       "         0.18255012, 0.5267414 , 0.5267414 , 0.32075738, 0.32075738,\n",
       "         0.01837413, 0.01837413, 0.36764283, 0.36764283, 0.72342517,\n",
       "         0.72342517, 0.52238119, 0.52238119, 0.92765309, 0.92765309,\n",
       "         0.59638846, 0.59638846, 0.53815583, 0.53815583, 0.03166625,\n",
       "         0.03166625, 0.20619821, 0.20619821, 0.05421847, 0.05421847,\n",
       "         0.07614456, 0.07614456, 0.11934296, 0.11934296, 0.55587848,\n",
       "         0.55587848, 0.02447084, 0.02447084, 0.48305243, 0.48305243,\n",
       "         0.72656157, 0.72656157, 0.84014913, 0.84014913, 0.41802219,\n",
       "         0.41802219, 0.2999086 , 0.2999086 , 0.94894827, 0.94894827,\n",
       "         0.61617398, 0.61617398, 0.21313507, 0.21313507, 0.05809319,\n",
       "         0.05809319, 0.90170731, 0.90170731, 0.41405339, 0.41405339,\n",
       "         0.6120129 , 0.6120129 , 0.15662548, 0.15662548, 0.37221038,\n",
       "         0.37221038, 0.61841395, 0.61841395, 0.30826751, 0.30826751,\n",
       "         0.24010103, 0.24010103, 0.26902005, 0.26902005, 0.98582946,\n",
       "         0.98582946, 0.19297014, 0.19297014, 0.09039644, 0.09039644,\n",
       "         0.24573081, 0.24573081, 0.64623459, 0.64623459, 0.84935422,\n",
       "         0.84935422, 0.29035894, 0.29035894, 0.64244966, 0.64244966,\n",
       "         0.10601575, 0.10601575, 0.10069697, 0.10069697, 0.88947802,\n",
       "         0.88947802, 0.62521891, 0.62521891, 0.47960965, 0.47960965,\n",
       "         0.27183952, 0.27183952, 0.50374034, 0.50374034, 0.86840882,\n",
       "         0.86840882, 0.67663641, 0.67663641, 0.86397257, 0.86397257,\n",
       "         0.87655784, 0.87655784, 0.95049706, 0.95049706, 0.72995737,\n",
       "         0.72995737, 0.8785416 , 0.8785416 , 0.89829881, 0.89829881])}}"
      ]
     },
     "execution_count": 1,
     "metadata": {},
     "output_type": "execute_result"
    }
   ],
   "source": [
    "ds = load_by_id(run_id_n)\n",
    "ds.get_parameter_data('x1')"
   ]
  },
  {
   "cell_type": "markdown",
   "metadata": {},
   "source": [
    "And a dataset stored as binary arrays"
   ]
  },
  {
   "cell_type": "code",
   "execution_count": 12,
   "metadata": {
    "execution": {
     "iopub.execute_input": "2021-05-20T17:02:10.045951Z",
     "iopub.status.busy": "2021-05-20T17:02:10.045375Z",
     "iopub.status.idle": "2021-05-20T17:02:10.097807Z",
     "shell.execute_reply": "2021-05-20T17:02:10.098269Z"
    },
    "scrolled": true
   },
   "outputs": [
    {
     "data": {
      "text/plain": [
       "{'x1': {'x1': array([[0.51282053],\n",
       "         [0.51282053],\n",
       "         [0.27527586],\n",
       "         [0.27527586],\n",
       "         [0.89266467],\n",
       "         [0.89266467],\n",
       "         [0.989119  ],\n",
       "         [0.989119  ],\n",
       "         [0.56265189],\n",
       "         [0.56265189],\n",
       "         [0.30086044],\n",
       "         [0.30086044],\n",
       "         [0.17717828],\n",
       "         [0.17717828],\n",
       "         [0.21244713],\n",
       "         [0.21244713],\n",
       "         [0.60485735],\n",
       "         [0.60485735],\n",
       "         [0.12081719],\n",
       "         [0.12081719],\n",
       "         [0.72551837],\n",
       "         [0.72551837],\n",
       "         [0.25159942],\n",
       "         [0.25159942],\n",
       "         [0.40536592],\n",
       "         [0.40536592],\n",
       "         [0.12788781],\n",
       "         [0.12788781],\n",
       "         [0.21073078],\n",
       "         [0.21073078],\n",
       "         [0.02572671],\n",
       "         [0.02572671],\n",
       "         [0.36891803],\n",
       "         [0.36891803],\n",
       "         [0.68863697],\n",
       "         [0.68863697],\n",
       "         [0.71678978],\n",
       "         [0.71678978],\n",
       "         [0.40296788],\n",
       "         [0.40296788],\n",
       "         [0.11169842],\n",
       "         [0.11169842],\n",
       "         [0.62972278],\n",
       "         [0.62972278],\n",
       "         [0.5849103 ],\n",
       "         [0.5849103 ],\n",
       "         [0.7404112 ],\n",
       "         [0.7404112 ],\n",
       "         [0.65028684],\n",
       "         [0.65028684],\n",
       "         [0.42458131],\n",
       "         [0.42458131],\n",
       "         [0.72284063],\n",
       "         [0.72284063],\n",
       "         [0.8938565 ],\n",
       "         [0.8938565 ],\n",
       "         [0.2606126 ],\n",
       "         [0.2606126 ],\n",
       "         [0.67722934],\n",
       "         [0.67722934],\n",
       "         [0.02273711],\n",
       "         [0.02273711],\n",
       "         [0.61489935],\n",
       "         [0.61489935],\n",
       "         [0.87849115],\n",
       "         [0.87849115],\n",
       "         [0.61650851],\n",
       "         [0.61650851],\n",
       "         [0.14191056],\n",
       "         [0.14191056],\n",
       "         [0.53015405],\n",
       "         [0.53015405],\n",
       "         [0.65816128],\n",
       "         [0.65816128],\n",
       "         [0.33443582],\n",
       "         [0.33443582],\n",
       "         [0.01099357],\n",
       "         [0.01099357],\n",
       "         [0.15559346],\n",
       "         [0.15559346],\n",
       "         [0.81445625],\n",
       "         [0.81445625],\n",
       "         [0.98535683],\n",
       "         [0.98535683],\n",
       "         [0.34304293],\n",
       "         [0.34304293],\n",
       "         [0.01813547],\n",
       "         [0.01813547],\n",
       "         [0.64416944],\n",
       "         [0.64416944],\n",
       "         [0.79063514],\n",
       "         [0.79063514],\n",
       "         [0.01544956],\n",
       "         [0.01544956],\n",
       "         [0.71562001],\n",
       "         [0.71562001],\n",
       "         [0.80074382],\n",
       "         [0.80074382],\n",
       "         [0.13445898],\n",
       "         [0.13445898],\n",
       "         [0.42987463],\n",
       "         [0.42987463],\n",
       "         [0.47695342],\n",
       "         [0.47695342],\n",
       "         [0.52404665],\n",
       "         [0.52404665],\n",
       "         [0.18971271],\n",
       "         [0.18971271],\n",
       "         [0.95642941],\n",
       "         [0.95642941],\n",
       "         [0.59176066],\n",
       "         [0.59176066],\n",
       "         [0.46156569],\n",
       "         [0.46156569],\n",
       "         [0.55209506],\n",
       "         [0.55209506],\n",
       "         [0.64949433],\n",
       "         [0.64949433],\n",
       "         [0.88863634],\n",
       "         [0.88863634],\n",
       "         [0.57091043],\n",
       "         [0.57091043],\n",
       "         [0.05981673],\n",
       "         [0.05981673],\n",
       "         [0.73229189],\n",
       "         [0.73229189],\n",
       "         [0.11749226],\n",
       "         [0.11749226],\n",
       "         [0.74388436],\n",
       "         [0.74388436],\n",
       "         [0.66278077],\n",
       "         [0.66278077],\n",
       "         [0.54744072],\n",
       "         [0.54744072],\n",
       "         [0.66610827],\n",
       "         [0.66610827],\n",
       "         [0.10353333],\n",
       "         [0.10353333],\n",
       "         [0.99778678],\n",
       "         [0.99778678],\n",
       "         [0.00465996],\n",
       "         [0.00465996],\n",
       "         [0.92569931],\n",
       "         [0.92569931],\n",
       "         [0.23672295],\n",
       "         [0.23672295],\n",
       "         [0.73459922],\n",
       "         [0.73459922],\n",
       "         [0.97172386],\n",
       "         [0.97172386],\n",
       "         [0.08991695],\n",
       "         [0.08991695],\n",
       "         [0.666341  ],\n",
       "         [0.666341  ],\n",
       "         [0.82384152],\n",
       "         [0.82384152],\n",
       "         [0.92509725],\n",
       "         [0.92509725],\n",
       "         [0.24424421],\n",
       "         [0.24424421],\n",
       "         [0.82247233],\n",
       "         [0.82247233],\n",
       "         [0.14522779],\n",
       "         [0.14522779],\n",
       "         [0.26162621],\n",
       "         [0.26162621],\n",
       "         [0.43479215],\n",
       "         [0.43479215],\n",
       "         [0.01818042],\n",
       "         [0.01818042],\n",
       "         [0.37079788],\n",
       "         [0.37079788],\n",
       "         [0.49902618],\n",
       "         [0.49902618],\n",
       "         [0.01907339],\n",
       "         [0.01907339],\n",
       "         [0.28414632],\n",
       "         [0.28414632],\n",
       "         [0.26369816],\n",
       "         [0.26369816],\n",
       "         [0.08795201],\n",
       "         [0.08795201],\n",
       "         [0.72374984],\n",
       "         [0.72374984],\n",
       "         [0.35613539],\n",
       "         [0.35613539],\n",
       "         [0.91777803],\n",
       "         [0.91777803],\n",
       "         [0.13631234],\n",
       "         [0.13631234],\n",
       "         [0.85469259],\n",
       "         [0.85469259],\n",
       "         [0.37198538],\n",
       "         [0.37198538],\n",
       "         [0.21002152],\n",
       "         [0.21002152],\n",
       "         [0.06920643],\n",
       "         [0.06920643],\n",
       "         [0.61040274],\n",
       "         [0.61040274]])}}"
      ]
     },
     "execution_count": 1,
     "metadata": {},
     "output_type": "execute_result"
    }
   ],
   "source": [
    "ds = load_by_id(run_id_a)\n",
    "ds.get_parameter_data('x1')"
   ]
  },
  {
   "cell_type": "code",
   "execution_count": null,
   "metadata": {},
   "outputs": [],
   "source": []
  }
 ],
 "metadata": {
  "kernelspec": {
   "display_name": "Python 3",
   "language": "python",
   "name": "python3"
  },
  "language_info": {
   "codemirror_mode": {
    "name": "ipython",
    "version": 3
   },
   "file_extension": ".py",
   "mimetype": "text/x-python",
   "name": "python",
   "nbconvert_exporter": "python",
   "pygments_lexer": "ipython3",
   "version": "3.7.10"
  },
  "nbsphinx": {
   "timeout": 600
  },
  "toc": {
   "base_numbering": 1,
   "nav_menu": {},
   "number_sections": true,
   "sideBar": true,
   "skip_h1_title": false,
   "title_cell": "Table of Contents",
   "title_sidebar": "Contents",
   "toc_cell": false,
   "toc_position": {},
   "toc_section_display": true,
   "toc_window_display": false
  },
  "varInspector": {
   "cols": {
    "lenName": 16,
    "lenType": 16,
    "lenVar": 40
   },
   "kernels_config": {
    "python": {
     "delete_cmd_postfix": "",
     "delete_cmd_prefix": "del ",
     "library": "var_list.py",
     "varRefreshCmd": "print(var_dic_list())"
    },
    "r": {
     "delete_cmd_postfix": ") ",
     "delete_cmd_prefix": "rm(",
     "library": "var_list.r",
     "varRefreshCmd": "cat(var_dic_list()) "
    }
   },
   "types_to_exclude": [
    "module",
    "function",
    "builtin_function_or_method",
    "instance",
    "_Feature"
   ],
   "window_display": false
  }
 },
 "nbformat": 4,
 "nbformat_minor": 4
}
