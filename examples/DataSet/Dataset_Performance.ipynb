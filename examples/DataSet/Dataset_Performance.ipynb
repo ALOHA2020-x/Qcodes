{
 "cells": [
  {
   "cell_type": "markdown",
   "metadata": {},
   "source": [
    "# DataSet Performance\n",
    "\n",
    "This notebook shows the trade-off between inserting data into a database row-by-row and as binary blobs. Inserting the data row-by-row means that we have direct access to all the data and may perform queries directly on the values of the data. On the other hand, as we shall see, this is much slower than inserting the data directly as binary blobs."
   ]
  },
  {
   "cell_type": "markdown",
   "metadata": {},
   "source": [
    "First, we choose a new location for the database to ensure that we don't add a bunch of benchmarking data to the default one."
   ]
  },
  {
   "cell_type": "code",
   "execution_count": 1,
   "metadata": {
    "execution": {
     "iopub.execute_input": "2021-03-12T13:36:23.210708Z",
     "iopub.status.busy": "2021-03-12T13:36:23.210037Z",
     "iopub.status.idle": "2021-03-12T13:36:24.224611Z",
     "shell.execute_reply": "2021-03-12T13:36:24.225162Z"
    }
   },
   "outputs": [
    {
     "name": "stdout",
     "output_type": "stream",
     "text": [
      "Logging hadn't been started.\n",
      "Activating auto-logging. Current session state plus future input saved.\n",
      "Filename       : /home/runner/.qcodes/logs/command_history.log\n",
      "Mode           : append\n",
      "Output logging : True\n",
      "Raw input log  : False\n",
      "Timestamping   : True\n",
      "State          : active\n"
     ]
    },
    {
     "name": "stdout",
     "output_type": "stream",
     "text": [
      "Qcodes Logfile : /home/runner/.qcodes/logs/210312-4028-qcodes.log\n"
     ]
    }
   ],
   "source": [
    "import os\n",
    "cwd = os.getcwd()\n",
    "import qcodes as qc\n",
    "qc.config[\"core\"][\"db_location\"] = os.path.join(cwd, 'testing.db')\n"
   ]
  },
  {
   "cell_type": "code",
   "execution_count": 2,
   "metadata": {
    "execution": {
     "iopub.execute_input": "2021-03-12T13:36:24.232949Z",
     "iopub.status.busy": "2021-03-12T13:36:24.231659Z",
     "iopub.status.idle": "2021-03-12T13:36:24.454629Z",
     "shell.execute_reply": "2021-03-12T13:36:24.453660Z"
    }
   },
   "outputs": [],
   "source": [
    "%matplotlib inline\n",
    "import time\n",
    "import matplotlib.pyplot as plt\n",
    "import numpy as np\n",
    "\n",
    "import qcodes as qc\n",
    "from qcodes.instrument.parameter import ManualParameter\n",
    "from qcodes.dataset.experiment_container import (Experiment,\n",
    "                                                 load_last_experiment,\n",
    "                                                 new_experiment)\n",
    "from qcodes.dataset.sqlite.database import initialise_database\n",
    "from qcodes import load_or_create_experiment\n",
    "from qcodes.dataset.measurements import Measurement"
   ]
  },
  {
   "cell_type": "code",
   "execution_count": 3,
   "metadata": {
    "execution": {
     "iopub.execute_input": "2021-03-12T13:36:24.459493Z",
     "iopub.status.busy": "2021-03-12T13:36:24.458603Z",
     "iopub.status.idle": "2021-03-12T13:36:24.583239Z",
     "shell.execute_reply": "2021-03-12T13:36:24.582652Z"
    }
   },
   "outputs": [
    {
     "name": "stdout",
     "output_type": "stream",
     "text": [
      "\r",
      "0it [00:00, ?it/s]"
     ]
    },
    {
     "name": "stdout",
     "output_type": "stream",
     "text": [
      "\r",
      "Upgrading database; v0 -> v1: : 0it [00:00, ?it/s]"
     ]
    },
    {
     "name": "stdout",
     "output_type": "stream",
     "text": [
      "\r",
      "Upgrading database; v0 -> v1: : 0it [00:00, ?it/s]"
     ]
    },
    {
     "name": "stdout",
     "output_type": "stream",
     "text": [
      "\n",
      "\r",
      "  0%|          | 0/1 [00:00<?, ?it/s]"
     ]
    },
    {
     "name": "stdout",
     "output_type": "stream",
     "text": [
      "\r",
      "Upgrading database; v1 -> v2:   0%|          | 0/1 [00:00<?, ?it/s]"
     ]
    },
    {
     "name": "stdout",
     "output_type": "stream",
     "text": [
      "\r",
      "Upgrading database; v1 -> v2: 100%|██████████| 1/1 [00:00<00:00, 925.08it/s]"
     ]
    },
    {
     "name": "stdout",
     "output_type": "stream",
     "text": [
      "\n",
      "\r",
      "0it [00:00, ?it/s]"
     ]
    },
    {
     "name": "stdout",
     "output_type": "stream",
     "text": [
      "\r",
      "Upgrading database; v2 -> v3: : 0it [00:00, ?it/s]"
     ]
    },
    {
     "name": "stdout",
     "output_type": "stream",
     "text": [
      "\r",
      "Upgrading database; v2 -> v3: : 0it [00:00, ?it/s]"
     ]
    },
    {
     "name": "stdout",
     "output_type": "stream",
     "text": [
      "\n",
      "\r",
      "0it [00:00, ?it/s]"
     ]
    },
    {
     "name": "stdout",
     "output_type": "stream",
     "text": [
      "\r",
      "Upgrading database; v3 -> v4: : 0it [00:00, ?it/s]"
     ]
    },
    {
     "name": "stdout",
     "output_type": "stream",
     "text": [
      "\r",
      "Upgrading database; v3 -> v4: : 0it [00:00, ?it/s]"
     ]
    },
    {
     "name": "stdout",
     "output_type": "stream",
     "text": [
      "\n",
      "\r",
      "  0%|          | 0/1 [00:00<?, ?it/s]"
     ]
    },
    {
     "name": "stdout",
     "output_type": "stream",
     "text": [
      "\r",
      "Upgrading database; v4 -> v5:   0%|          | 0/1 [00:00<?, ?it/s]"
     ]
    },
    {
     "name": "stdout",
     "output_type": "stream",
     "text": [
      "\r",
      "Upgrading database; v4 -> v5: 100%|██████████| 1/1 [00:00<00:00, 364.03it/s]"
     ]
    },
    {
     "name": "stdout",
     "output_type": "stream",
     "text": [
      "\n",
      "\r",
      "0it [00:00, ?it/s]"
     ]
    },
    {
     "name": "stdout",
     "output_type": "stream",
     "text": [
      "\r",
      "Upgrading database; v5 -> v6: : 0it [00:00, ?it/s]"
     ]
    },
    {
     "name": "stdout",
     "output_type": "stream",
     "text": [
      "\r",
      "Upgrading database; v5 -> v6: : 0it [00:00, ?it/s]"
     ]
    },
    {
     "name": "stdout",
     "output_type": "stream",
     "text": [
      "\n",
      "\r",
      "  0%|          | 0/1 [00:00<?, ?it/s]"
     ]
    },
    {
     "name": "stdout",
     "output_type": "stream",
     "text": [
      "\r",
      "Upgrading database; v6 -> v7:   0%|          | 0/1 [00:00<?, ?it/s]"
     ]
    },
    {
     "name": "stdout",
     "output_type": "stream",
     "text": [
      "\r",
      "Upgrading database; v6 -> v7: 100%|██████████| 1/1 [00:00<00:00, 363.52it/s]"
     ]
    },
    {
     "name": "stdout",
     "output_type": "stream",
     "text": [
      "\n",
      "\r",
      "  0%|          | 0/1 [00:00<?, ?it/s]"
     ]
    },
    {
     "name": "stdout",
     "output_type": "stream",
     "text": [
      "\r",
      "Upgrading database; v7 -> v8:   0%|          | 0/1 [00:00<?, ?it/s]"
     ]
    },
    {
     "name": "stdout",
     "output_type": "stream",
     "text": [
      "\r",
      "Upgrading database; v7 -> v8: 100%|██████████| 1/1 [00:00<00:00, 381.61it/s]"
     ]
    },
    {
     "name": "stdout",
     "output_type": "stream",
     "text": [
      "\n",
      "\r",
      "  0%|          | 0/1 [00:00<?, ?it/s]"
     ]
    },
    {
     "name": "stdout",
     "output_type": "stream",
     "text": [
      "\r",
      "Upgrading database; v8 -> v9:   0%|          | 0/1 [00:00<?, ?it/s]"
     ]
    },
    {
     "name": "stdout",
     "output_type": "stream",
     "text": [
      "\r",
      "Upgrading database; v8 -> v9: 100%|██████████| 1/1 [00:00<00:00, 135.65it/s]"
     ]
    },
    {
     "name": "stdout",
     "output_type": "stream",
     "text": [
      "\n"
     ]
    }
   ],
   "source": [
    "initialise_database()\n",
    "exp = load_or_create_experiment(experiment_name='tutorial_exp', sample_name=\"no sample\")"
   ]
  },
  {
   "cell_type": "markdown",
   "metadata": {},
   "source": [
    "Here, we define a simple function to benchmark the time it takes to insert n points with either numeric or array data type.\n",
    "We will compare both the time used to call ``add_result`` and the time used for the full measurement."
   ]
  },
  {
   "cell_type": "code",
   "execution_count": 4,
   "metadata": {
    "execution": {
     "iopub.execute_input": "2021-03-12T13:36:24.594165Z",
     "iopub.status.busy": "2021-03-12T13:36:24.590810Z",
     "iopub.status.idle": "2021-03-12T13:36:24.596123Z",
     "shell.execute_reply": "2021-03-12T13:36:24.595556Z"
    }
   },
   "outputs": [],
   "source": [
    "def insert_data(paramtype, npoints, nreps=1):\n",
    "\n",
    "    meas = Measurement(exp=exp)\n",
    "\n",
    "    x1 = ManualParameter('x1')\n",
    "    x2 = ManualParameter('x2')\n",
    "    x3 = ManualParameter('x3')\n",
    "    y1 = ManualParameter('y1')\n",
    "    y2 = ManualParameter('y2')\n",
    "\n",
    "    meas.register_parameter(x1, paramtype=paramtype)\n",
    "    meas.register_parameter(x2, paramtype=paramtype)\n",
    "    meas.register_parameter(x3, paramtype=paramtype)\n",
    "    meas.register_parameter(y1, setpoints=[x1, x2, x3],\n",
    "                            paramtype=paramtype)\n",
    "    meas.register_parameter(y2, setpoints=[x1, x2, x3],\n",
    "                            paramtype=paramtype)\n",
    "    start = time.perf_counter()\n",
    "    with meas.run() as datasaver:\n",
    "        start_adding = time.perf_counter()\n",
    "        for i in range(nreps):\n",
    "            datasaver.add_result((x1, np.random.rand(npoints)),\n",
    "                                 (x2, np.random.rand(npoints)),\n",
    "                                 (x3, np.random.rand(npoints)),\n",
    "                                 (y1, np.random.rand(npoints)),\n",
    "                                 (y2, np.random.rand(npoints)))\n",
    "        stop_adding = time.perf_counter()\n",
    "        run_id = datasaver.run_id\n",
    "    stop = time.perf_counter()\n",
    "    tot_time = stop - start\n",
    "    add_time = stop_adding - start_adding\n",
    "    return tot_time, add_time, run_id"
   ]
  },
  {
   "cell_type": "markdown",
   "metadata": {},
   "source": [
    "## Comparison between numeric/array data and binary blob"
   ]
  },
  {
   "cell_type": "markdown",
   "metadata": {},
   "source": [
    "### Case1: Short experiment time"
   ]
  },
  {
   "cell_type": "code",
   "execution_count": 5,
   "metadata": {
    "execution": {
     "iopub.execute_input": "2021-03-12T13:36:24.603451Z",
     "iopub.status.busy": "2021-03-12T13:36:24.602150Z",
     "iopub.status.idle": "2021-03-12T13:36:25.506685Z",
     "shell.execute_reply": "2021-03-12T13:36:25.506083Z"
    }
   },
   "outputs": [
    {
     "name": "stdout",
     "output_type": "stream",
     "text": [
      "Starting experimental run with id: 1. \n",
      "Starting experimental run with id: 2. \n",
      "Starting experimental run with id: 3. \n",
      "Starting experimental run with id: 4. \n"
     ]
    },
    {
     "name": "stdout",
     "output_type": "stream",
     "text": [
      "Starting experimental run with id: 5. \n"
     ]
    },
    {
     "name": "stdout",
     "output_type": "stream",
     "text": [
      "Starting experimental run with id: 6. \n"
     ]
    },
    {
     "name": "stdout",
     "output_type": "stream",
     "text": [
      "Starting experimental run with id: 7. \n"
     ]
    },
    {
     "name": "stdout",
     "output_type": "stream",
     "text": [
      "Starting experimental run with id: 8. \n",
      "Starting experimental run with id: 9. \n"
     ]
    },
    {
     "name": "stdout",
     "output_type": "stream",
     "text": [
      "Starting experimental run with id: 10. \n",
      "Starting experimental run with id: 11. \n"
     ]
    },
    {
     "name": "stdout",
     "output_type": "stream",
     "text": [
      "Starting experimental run with id: 12. \n"
     ]
    },
    {
     "name": "stdout",
     "output_type": "stream",
     "text": [
      "Starting experimental run with id: 13. \n"
     ]
    },
    {
     "name": "stdout",
     "output_type": "stream",
     "text": [
      "Starting experimental run with id: 14. \n"
     ]
    }
   ],
   "source": [
    "sizes = [1,500,1000,2000,3000,4000,5000]\n",
    "t_numeric = []\n",
    "t_numeric_add = []\n",
    "t_array = []\n",
    "t_array_add = []\n",
    "for size in sizes:\n",
    "    tn, tna, run_id_n =  insert_data('numeric', size)\n",
    "    t_numeric.append(tn)\n",
    "    t_numeric_add.append(tna)\n",
    "\n",
    "    ta, taa, run_id_a =  insert_data('array', size)\n",
    "    t_array.append(ta)\n",
    "    t_array_add.append(taa)"
   ]
  },
  {
   "cell_type": "code",
   "execution_count": 6,
   "metadata": {
    "execution": {
     "iopub.execute_input": "2021-03-12T13:36:25.529171Z",
     "iopub.status.busy": "2021-03-12T13:36:25.519050Z",
     "iopub.status.idle": "2021-03-12T13:36:25.766792Z",
     "shell.execute_reply": "2021-03-12T13:36:25.767598Z"
    }
   },
   "outputs": [
    {
     "data": {
      "image/png": "[encoded data removed]",
      "text/plain": [
       "<Figure size 432x288 with 1 Axes>"
      ]
     },
     "metadata": {
      "needs_background": "light"
     },
     "output_type": "display_data"
    }
   ],
   "source": [
    "fig, ax = plt.subplots(1,1)\n",
    "ax.plot(sizes, t_numeric, 'o-', label='Inserting row-by-row')\n",
    "ax.plot(sizes, t_numeric_add, 'o-', label='Inserting row-by-row: add_result only')\n",
    "ax.plot(sizes, t_array, 'd-', label='Inserting as binary blob')\n",
    "ax.plot(sizes, t_array_add, 'd-', label='Inserting as binary blob: add_result only')\n",
    "ax.legend()\n",
    "ax.set_xlabel('Array length')\n",
    "ax.set_ylabel('Time (s)')\n",
    "fig.tight_layout()"
   ]
  },
  {
   "cell_type": "markdown",
   "metadata": {},
   "source": [
    "As shown in the latter figure, the time to setup and and close the experiment is approximately 0.4 sec. In case of small array sizes, the difference between inserting values of data as arrays and inserting them row-by-row is relatively unimportant. At larger array sizes, i.e. above 10000 points, the cost of writing data as individual datapoints starts to become important.\n"
   ]
  },
  {
   "cell_type": "markdown",
   "metadata": {},
   "source": [
    "### Case2: Long experiment time "
   ]
  },
  {
   "cell_type": "code",
   "execution_count": 7,
   "metadata": {
    "execution": {
     "iopub.execute_input": "2021-03-12T13:36:25.775501Z",
     "iopub.status.busy": "2021-03-12T13:36:25.774497Z",
     "iopub.status.idle": "2021-03-12T13:37:29.756207Z",
     "shell.execute_reply": "2021-03-12T13:37:29.755617Z"
    }
   },
   "outputs": [
    {
     "name": "stdout",
     "output_type": "stream",
     "text": [
      "Starting experimental run with id: 15. \n",
      "Starting experimental run with id: 16. \n"
     ]
    },
    {
     "name": "stdout",
     "output_type": "stream",
     "text": [
      "Starting experimental run with id: 17. \n"
     ]
    },
    {
     "name": "stdout",
     "output_type": "stream",
     "text": [
      "Starting experimental run with id: 18. \n"
     ]
    },
    {
     "name": "stdout",
     "output_type": "stream",
     "text": [
      "Starting experimental run with id: 19. \n"
     ]
    },
    {
     "name": "stdout",
     "output_type": "stream",
     "text": [
      "Starting experimental run with id: 20. \n"
     ]
    },
    {
     "name": "stdout",
     "output_type": "stream",
     "text": [
      "Starting experimental run with id: 21. \n"
     ]
    },
    {
     "name": "stdout",
     "output_type": "stream",
     "text": [
      "Starting experimental run with id: 22. \n"
     ]
    },
    {
     "name": "stdout",
     "output_type": "stream",
     "text": [
      "Starting experimental run with id: 23. \n"
     ]
    },
    {
     "name": "stdout",
     "output_type": "stream",
     "text": [
      "Starting experimental run with id: 24. \n"
     ]
    },
    {
     "name": "stdout",
     "output_type": "stream",
     "text": [
      "Starting experimental run with id: 25. \n"
     ]
    },
    {
     "name": "stdout",
     "output_type": "stream",
     "text": [
      "Starting experimental run with id: 26. \n"
     ]
    },
    {
     "name": "stdout",
     "output_type": "stream",
     "text": [
      "Starting experimental run with id: 27. \n"
     ]
    },
    {
     "name": "stdout",
     "output_type": "stream",
     "text": [
      "Starting experimental run with id: 28. \n"
     ]
    }
   ],
   "source": [
    "sizes = [1,500,1000,2000,3000,4000,5000]\n",
    "nreps = 100\n",
    "t_numeric = []\n",
    "t_numeric_add = []\n",
    "t_numeric_run_ids = []\n",
    "t_array = []\n",
    "t_array_add = []\n",
    "t_array_run_ids = []\n",
    "for size in sizes:\n",
    "    tn, tna, run_id_n =  insert_data('numeric', size, nreps=nreps)\n",
    "    t_numeric.append(tn)\n",
    "    t_numeric_add.append(tna)\n",
    "    t_numeric_run_ids.append(run_id_n)\n",
    "\n",
    "    ta, taa, run_id_a =  insert_data('array', size, nreps=nreps)\n",
    "    t_array.append(ta)\n",
    "    t_array_add.append(taa)\n",
    "    t_array_run_ids.append(run_id_a)"
   ]
  },
  {
   "cell_type": "code",
   "execution_count": 8,
   "metadata": {
    "execution": {
     "iopub.execute_input": "2021-03-12T13:37:29.780582Z",
     "iopub.status.busy": "2021-03-12T13:37:29.778017Z",
     "iopub.status.idle": "2021-03-12T13:37:30.030155Z",
     "shell.execute_reply": "2021-03-12T13:37:30.029600Z"
    },
    "scrolled": true
   },
   "outputs": [
    {
     "data": {
      "image/png": "[encoded data removed]",
      "text/plain": [
       "<Figure size 432x288 with 1 Axes>"
      ]
     },
     "metadata": {
      "needs_background": "light"
     },
     "output_type": "display_data"
    }
   ],
   "source": [
    "fig, ax = plt.subplots(1,1)\n",
    "ax.plot(sizes, t_numeric, 'o-', label='Inserting row-by-row')\n",
    "ax.plot(sizes, t_numeric_add, 'o-', label='Inserting row-by-row: add_result only')\n",
    "ax.plot(sizes, t_array, 'd-', label='Inserting as binary blob')\n",
    "ax.plot(sizes, t_array_add, 'd-', label='Inserting as binary blob: add_result only')\n",
    "ax.legend()\n",
    "ax.set_xlabel('Array length')\n",
    "ax.set_ylabel('Time (s)')\n",
    "fig.tight_layout()"
   ]
  },
  {
   "cell_type": "markdown",
   "metadata": {},
   "source": [
    "However, as we increase the length of the experiment, as seen here by repeating the insertion 100 times, we see a big difference between inserting values of the data row-by-row and inserting it as a binary blob."
   ]
  },
  {
   "cell_type": "markdown",
   "metadata": {},
   "source": [
    "## Loading the data "
   ]
  },
  {
   "cell_type": "code",
   "execution_count": 9,
   "metadata": {
    "execution": {
     "iopub.execute_input": "2021-03-12T13:37:30.035183Z",
     "iopub.status.busy": "2021-03-12T13:37:30.034073Z",
     "iopub.status.idle": "2021-03-12T13:37:30.037180Z",
     "shell.execute_reply": "2021-03-12T13:37:30.037686Z"
    }
   },
   "outputs": [],
   "source": [
    "from qcodes.dataset.data_set import load_by_id\n",
    "from qcodes.dataset.data_export import get_data_by_id"
   ]
  },
  {
   "cell_type": "markdown",
   "metadata": {},
   "source": [
    "As usual you can load the data by using the ``load_by_id`` function but you will notice that the different storage methods\n",
    "are reflected in shape of the data as it is retrieved. "
   ]
  },
  {
   "cell_type": "code",
   "execution_count": 10,
   "metadata": {
    "execution": {
     "iopub.execute_input": "2021-03-12T13:37:30.047425Z",
     "iopub.status.busy": "2021-03-12T13:37:30.046674Z",
     "iopub.status.idle": "2021-03-12T13:37:30.059898Z",
     "shell.execute_reply": "2021-03-12T13:37:30.059329Z"
    }
   },
   "outputs": [],
   "source": [
    "run_id_n = t_numeric_run_ids[0]\n",
    "run_id_a = t_array_run_ids[0]"
   ]
  },
  {
   "cell_type": "code",
   "execution_count": 11,
   "metadata": {
    "execution": {
     "iopub.execute_input": "2021-03-12T13:37:30.064215Z",
     "iopub.status.busy": "2021-03-12T13:37:30.063455Z",
     "iopub.status.idle": "2021-03-12T13:37:30.075613Z",
     "shell.execute_reply": "2021-03-12T13:37:30.074959Z"
    },
    "scrolled": true
   },
   "outputs": [
    {
     "data": {
      "text/plain": [
       "{'x1': {'x1': array([4.09833984e-01, 4.09833984e-01, 2.55650439e-01, 2.55650439e-01,\n",
       "         3.36283054e-01, 3.36283054e-01, 3.78102320e-01, 3.78102320e-01,\n",
       "         3.89212296e-01, 3.89212296e-01, 1.93254503e-01, 1.93254503e-01,\n",
       "         5.32843096e-01, 5.32843096e-01, 9.75738661e-01, 9.75738661e-01,\n",
       "         4.93858674e-01, 4.93858674e-01, 3.93085804e-01, 3.93085804e-01,\n",
       "         3.82095514e-01, 3.82095514e-01, 2.78272850e-01, 2.78272850e-01,\n",
       "         6.12068427e-02, 6.12068427e-02, 4.92803325e-03, 4.92803325e-03,\n",
       "         7.18255007e-01, 7.18255007e-01, 6.72395068e-01, 6.72395068e-01,\n",
       "         1.54902896e-01, 1.54902896e-01, 8.38535297e-01, 8.38535297e-01,\n",
       "         5.74188587e-01, 5.74188587e-01, 1.59482334e-01, 1.59482334e-01,\n",
       "         1.74802746e-02, 1.74802746e-02, 8.19686512e-01, 8.19686512e-01,\n",
       "         3.51172542e-01, 3.51172542e-01, 9.53913789e-01, 9.53913789e-01,\n",
       "         1.78298014e-01, 1.78298014e-01, 7.80102808e-02, 7.80102808e-02,\n",
       "         1.77220304e-01, 1.77220304e-01, 9.27018115e-01, 9.27018115e-01,\n",
       "         3.25557901e-01, 3.25557901e-01, 2.54962536e-01, 2.54962536e-01,\n",
       "         4.61051802e-02, 4.61051802e-02, 8.34712752e-01, 8.34712752e-01,\n",
       "         9.07301730e-01, 9.07301730e-01, 3.17020626e-01, 3.17020626e-01,\n",
       "         8.07188036e-01, 8.07188036e-01, 3.15404994e-01, 3.15404994e-01,\n",
       "         4.75234761e-01, 4.75234761e-01, 4.32860147e-02, 4.32860147e-02,\n",
       "         7.14577836e-01, 7.14577836e-01, 2.21965039e-01, 2.21965039e-01,\n",
       "         2.91684301e-01, 2.91684301e-01, 1.08123038e-02, 1.08123038e-02,\n",
       "         2.98701688e-01, 2.98701688e-01, 4.34197386e-01, 4.34197386e-01,\n",
       "         9.84204845e-01, 9.84204845e-01, 7.95654027e-01, 7.95654027e-01,\n",
       "         3.65570605e-01, 3.65570605e-01, 5.76701397e-01, 5.76701397e-01,\n",
       "         9.62361803e-01, 9.62361803e-01, 4.58388110e-01, 4.58388110e-01,\n",
       "         5.82058490e-02, 5.82058490e-02, 7.40084817e-01, 7.40084817e-01,\n",
       "         2.16852337e-01, 2.16852337e-01, 5.92056589e-04, 5.92056589e-04,\n",
       "         1.99357743e-01, 1.99357743e-01, 5.27373669e-01, 5.27373669e-01,\n",
       "         3.40692640e-01, 3.40692640e-01, 7.91188735e-01, 7.91188735e-01,\n",
       "         6.65959363e-01, 6.65959363e-01, 3.01684576e-01, 3.01684576e-01,\n",
       "         4.77866119e-01, 4.77866119e-01, 6.14991188e-01, 6.14991188e-01,\n",
       "         9.91244719e-02, 9.91244719e-02, 3.33895488e-01, 3.33895488e-01,\n",
       "         9.20262908e-02, 9.20262908e-02, 3.23242820e-01, 3.23242820e-01,\n",
       "         9.44506818e-01, 9.44506818e-01, 1.64552669e-01, 1.64552669e-01,\n",
       "         9.86137673e-01, 9.86137673e-01, 7.31105199e-01, 7.31105199e-01,\n",
       "         3.59953338e-01, 3.59953338e-01, 7.11154538e-02, 7.11154538e-02,\n",
       "         6.60839975e-01, 6.60839975e-01, 3.36251160e-01, 3.36251160e-01,\n",
       "         1.93474732e-01, 1.93474732e-01, 3.56598264e-02, 3.56598264e-02,\n",
       "         3.26112400e-01, 3.26112400e-01, 8.26020082e-01, 8.26020082e-01,\n",
       "         6.20989720e-01, 6.20989720e-01, 1.06540659e-01, 1.06540659e-01,\n",
       "         3.91263758e-01, 3.91263758e-01, 7.97783868e-01, 7.97783868e-01,\n",
       "         3.90420701e-01, 3.90420701e-01, 1.75255521e-01, 1.75255521e-01,\n",
       "         2.39683273e-01, 2.39683273e-01, 4.94584167e-02, 4.94584167e-02,\n",
       "         8.67176733e-01, 8.67176733e-01, 8.32413172e-01, 8.32413172e-01,\n",
       "         7.18776460e-01, 7.18776460e-01, 7.75252888e-01, 7.75252888e-01,\n",
       "         7.80435901e-01, 7.80435901e-01, 6.41389946e-01, 6.41389946e-01,\n",
       "         5.68126775e-01, 5.68126775e-01, 8.59567281e-01, 8.59567281e-01,\n",
       "         9.89169502e-02, 9.89169502e-02, 9.02115235e-01, 9.02115235e-01,\n",
       "         4.15754212e-01, 4.15754212e-01, 3.37994779e-01, 3.37994779e-01,\n",
       "         2.19924879e-01, 2.19924879e-01, 8.79455866e-01, 8.79455866e-01])}}"
      ]
     },
     "execution_count": 1,
     "metadata": {},
     "output_type": "execute_result"
    }
   ],
   "source": [
    "ds = load_by_id(run_id_n)\n",
    "ds.get_parameter_data('x1')"
   ]
  },
  {
   "cell_type": "markdown",
   "metadata": {},
   "source": [
    "And a dataset stored as binary arrays"
   ]
  },
  {
   "cell_type": "code",
   "execution_count": 12,
   "metadata": {
    "execution": {
     "iopub.execute_input": "2021-03-12T13:37:30.079861Z",
     "iopub.status.busy": "2021-03-12T13:37:30.079218Z",
     "iopub.status.idle": "2021-03-12T13:37:30.152679Z",
     "shell.execute_reply": "2021-03-12T13:37:30.153263Z"
    },
    "scrolled": true
   },
   "outputs": [
    {
     "data": {
      "text/plain": [
       "{'x1': {'x1': array([[0.07318828],\n",
       "         [0.07318828],\n",
       "         [0.9568209 ],\n",
       "         [0.9568209 ],\n",
       "         [0.36429638],\n",
       "         [0.36429638],\n",
       "         [0.50875831],\n",
       "         [0.50875831],\n",
       "         [0.16236371],\n",
       "         [0.16236371],\n",
       "         [0.25857101],\n",
       "         [0.25857101],\n",
       "         [0.24473685],\n",
       "         [0.24473685],\n",
       "         [0.21435885],\n",
       "         [0.21435885],\n",
       "         [0.09444438],\n",
       "         [0.09444438],\n",
       "         [0.73262744],\n",
       "         [0.73262744],\n",
       "         [0.61701096],\n",
       "         [0.61701096],\n",
       "         [0.16287426],\n",
       "         [0.16287426],\n",
       "         [0.60599198],\n",
       "         [0.60599198],\n",
       "         [0.04346302],\n",
       "         [0.04346302],\n",
       "         [0.34723394],\n",
       "         [0.34723394],\n",
       "         [0.54215812],\n",
       "         [0.54215812],\n",
       "         [0.95751467],\n",
       "         [0.95751467],\n",
       "         [0.25094648],\n",
       "         [0.25094648],\n",
       "         [0.72123995],\n",
       "         [0.72123995],\n",
       "         [0.90419743],\n",
       "         [0.90419743],\n",
       "         [0.24857965],\n",
       "         [0.24857965],\n",
       "         [0.98663199],\n",
       "         [0.98663199],\n",
       "         [0.88037871],\n",
       "         [0.88037871],\n",
       "         [0.73903295],\n",
       "         [0.73903295],\n",
       "         [0.57590118],\n",
       "         [0.57590118],\n",
       "         [0.54346502],\n",
       "         [0.54346502],\n",
       "         [0.0543301 ],\n",
       "         [0.0543301 ],\n",
       "         [0.09184368],\n",
       "         [0.09184368],\n",
       "         [0.8225428 ],\n",
       "         [0.8225428 ],\n",
       "         [0.27986335],\n",
       "         [0.27986335],\n",
       "         [0.1018548 ],\n",
       "         [0.1018548 ],\n",
       "         [0.4120531 ],\n",
       "         [0.4120531 ],\n",
       "         [0.24400494],\n",
       "         [0.24400494],\n",
       "         [0.66787085],\n",
       "         [0.66787085],\n",
       "         [0.8782276 ],\n",
       "         [0.8782276 ],\n",
       "         [0.90669046],\n",
       "         [0.90669046],\n",
       "         [0.78529598],\n",
       "         [0.78529598],\n",
       "         [0.85434984],\n",
       "         [0.85434984],\n",
       "         [0.92548774],\n",
       "         [0.92548774],\n",
       "         [0.5923959 ],\n",
       "         [0.5923959 ],\n",
       "         [0.87369635],\n",
       "         [0.87369635],\n",
       "         [0.78862224],\n",
       "         [0.78862224],\n",
       "         [0.58642387],\n",
       "         [0.58642387],\n",
       "         [0.31081351],\n",
       "         [0.31081351],\n",
       "         [0.01761673],\n",
       "         [0.01761673],\n",
       "         [0.2605048 ],\n",
       "         [0.2605048 ],\n",
       "         [0.78550526],\n",
       "         [0.78550526],\n",
       "         [0.47784544],\n",
       "         [0.47784544],\n",
       "         [0.82060566],\n",
       "         [0.82060566],\n",
       "         [0.73933351],\n",
       "         [0.73933351],\n",
       "         [0.82353717],\n",
       "         [0.82353717],\n",
       "         [0.98850751],\n",
       "         [0.98850751],\n",
       "         [0.54129807],\n",
       "         [0.54129807],\n",
       "         [0.37700906],\n",
       "         [0.37700906],\n",
       "         [0.49740415],\n",
       "         [0.49740415],\n",
       "         [0.83972074],\n",
       "         [0.83972074],\n",
       "         [0.33578404],\n",
       "         [0.33578404],\n",
       "         [0.39479631],\n",
       "         [0.39479631],\n",
       "         [0.88434706],\n",
       "         [0.88434706],\n",
       "         [0.35691244],\n",
       "         [0.35691244],\n",
       "         [0.66906311],\n",
       "         [0.66906311],\n",
       "         [0.30397926],\n",
       "         [0.30397926],\n",
       "         [0.40031884],\n",
       "         [0.40031884],\n",
       "         [0.50130696],\n",
       "         [0.50130696],\n",
       "         [0.15543854],\n",
       "         [0.15543854],\n",
       "         [0.53451511],\n",
       "         [0.53451511],\n",
       "         [0.82962838],\n",
       "         [0.82962838],\n",
       "         [0.53817439],\n",
       "         [0.53817439],\n",
       "         [0.28017627],\n",
       "         [0.28017627],\n",
       "         [0.416635  ],\n",
       "         [0.416635  ],\n",
       "         [0.7247735 ],\n",
       "         [0.7247735 ],\n",
       "         [0.87514666],\n",
       "         [0.87514666],\n",
       "         [0.12349265],\n",
       "         [0.12349265],\n",
       "         [0.1642202 ],\n",
       "         [0.1642202 ],\n",
       "         [0.59828122],\n",
       "         [0.59828122],\n",
       "         [0.40522973],\n",
       "         [0.40522973],\n",
       "         [0.2189998 ],\n",
       "         [0.2189998 ],\n",
       "         [0.55965136],\n",
       "         [0.55965136],\n",
       "         [0.34748868],\n",
       "         [0.34748868],\n",
       "         [0.95981737],\n",
       "         [0.95981737],\n",
       "         [0.66622722],\n",
       "         [0.66622722],\n",
       "         [0.87637735],\n",
       "         [0.87637735],\n",
       "         [0.01444052],\n",
       "         [0.01444052],\n",
       "         [0.68542552],\n",
       "         [0.68542552],\n",
       "         [0.75795887],\n",
       "         [0.75795887],\n",
       "         [0.81743347],\n",
       "         [0.81743347],\n",
       "         [0.93930302],\n",
       "         [0.93930302],\n",
       "         [0.26509445],\n",
       "         [0.26509445],\n",
       "         [0.51063862],\n",
       "         [0.51063862],\n",
       "         [0.05459464],\n",
       "         [0.05459464],\n",
       "         [0.37663045],\n",
       "         [0.37663045],\n",
       "         [0.28111721],\n",
       "         [0.28111721],\n",
       "         [0.81610638],\n",
       "         [0.81610638],\n",
       "         [0.48974495],\n",
       "         [0.48974495],\n",
       "         [0.71881548],\n",
       "         [0.71881548],\n",
       "         [0.94739315],\n",
       "         [0.94739315],\n",
       "         [0.81002192],\n",
       "         [0.81002192],\n",
       "         [0.46985653],\n",
       "         [0.46985653],\n",
       "         [0.49481119],\n",
       "         [0.49481119],\n",
       "         [0.93575098],\n",
       "         [0.93575098]])}}"
      ]
     },
     "execution_count": 1,
     "metadata": {},
     "output_type": "execute_result"
    }
   ],
   "source": [
    "ds = load_by_id(run_id_a)\n",
    "ds.get_parameter_data('x1')"
   ]
  },
  {
   "cell_type": "code",
   "execution_count": null,
   "metadata": {},
   "outputs": [],
   "source": []
  }
 ],
 "metadata": {
  "kernelspec": {
   "display_name": "Python 3",
   "language": "python",
   "name": "python3"
  },
  "language_info": {
   "codemirror_mode": {
    "name": "ipython",
    "version": 3
   },
   "file_extension": ".py",
   "mimetype": "text/x-python",
   "name": "python",
   "nbconvert_exporter": "python",
   "pygments_lexer": "ipython3",
   "version": "3.7.10"
  },
  "nbsphinx": {
   "timeout": 600
  },
  "toc": {
   "base_numbering": 1,
   "nav_menu": {},
   "number_sections": true,
   "sideBar": true,
   "skip_h1_title": false,
   "title_cell": "Table of Contents",
   "title_sidebar": "Contents",
   "toc_cell": false,
   "toc_position": {},
   "toc_section_display": true,
   "toc_window_display": false
  },
  "varInspector": {
   "cols": {
    "lenName": 16,
    "lenType": 16,
    "lenVar": 40
   },
   "kernels_config": {
    "python": {
     "delete_cmd_postfix": "",
     "delete_cmd_prefix": "del ",
     "library": "var_list.py",
     "varRefreshCmd": "print(var_dic_list())"
    },
    "r": {
     "delete_cmd_postfix": ") ",
     "delete_cmd_prefix": "rm(",
     "library": "var_list.r",
     "varRefreshCmd": "cat(var_dic_list()) "
    }
   },
   "types_to_exclude": [
    "module",
    "function",
    "builtin_function_or_method",
    "instance",
    "_Feature"
   ],
   "window_display": false
  }
 },
 "nbformat": 4,
 "nbformat_minor": 2
}
