{
 "cells": [
  {
   "cell_type": "markdown",
   "metadata": {},
   "source": [
    "# DataSet Performance\n",
    "\n",
    "This notebook shows the trade-off between inserting data into a database row-by-row and as binary blobs. Inserting the data row-by-row means that we have direct access to all the data and may perform queries directly on the values of the data. On the other hand, as we shall see, this is much slower than inserting the data directly as binary blobs."
   ]
  },
  {
   "cell_type": "markdown",
   "metadata": {},
   "source": [
    "First, we choose a new location for the database to ensure that we don't add a bunch of benchmarking data to the default one."
   ]
  },
  {
   "cell_type": "code",
   "execution_count": 1,
   "metadata": {},
   "outputs": [
    {
     "name": "stdout",
     "output_type": "stream",
     "text": [
      "Logging hadn't been started.\n",
      "Activating auto-logging. Current session state plus future input saved.\n",
      "Filename       : /home/vsts/.qcodes/logs/command_history.log\n",
      "Mode           : append\n",
      "Output logging : True\n",
      "Raw input log  : False\n",
      "Timestamping   : True\n",
      "State          : active\n"
     ]
    },
    {
     "name": "stdout",
     "output_type": "stream",
     "text": [
      "Qcodes Logfile : /home/vsts/.qcodes/logs/200325-18428-qcodes.log\n"
     ]
    }
   ],
   "source": [
    "import os\n",
    "cwd = os.getcwd()\n",
    "import qcodes as qc\n",
    "qc.config[\"core\"][\"db_location\"] = os.path.join(cwd, 'testing.db')\n"
   ]
  },
  {
   "cell_type": "code",
   "execution_count": 2,
   "metadata": {},
   "outputs": [],
   "source": [
    "%matplotlib inline\n",
    "import time\n",
    "import matplotlib.pyplot as plt\n",
    "import numpy as np\n",
    "\n",
    "import qcodes as qc\n",
    "from qcodes.instrument.parameter import ManualParameter\n",
    "from qcodes.dataset.experiment_container import (Experiment,\n",
    "                                                 load_last_experiment,\n",
    "                                                 new_experiment)\n",
    "from qcodes.dataset.sqlite.database import initialise_database\n",
    "from qcodes import load_or_create_experiment\n",
    "from qcodes.dataset.measurements import Measurement"
   ]
  },
  {
   "cell_type": "code",
   "execution_count": 3,
   "metadata": {},
   "outputs": [
    {
     "name": "stdout",
     "output_type": "stream",
     "text": [
      "\r",
      "0it [00:00, ?it/s]"
     ]
    },
    {
     "name": "stdout",
     "output_type": "stream",
     "text": [
      "\r",
      "Upgrading database; v0 -> v1: : 0it [00:00, ?it/s]"
     ]
    },
    {
     "name": "stdout",
     "output_type": "stream",
     "text": [
      "\r",
      "Upgrading database; v0 -> v1: : 0it [00:00, ?it/s]"
     ]
    },
    {
     "name": "stdout",
     "output_type": "stream",
     "text": [
      "\n",
      "\r",
      "  0%|          | 0/1 [00:00<?, ?it/s]"
     ]
    },
    {
     "name": "stdout",
     "output_type": "stream",
     "text": [
      "\r",
      "Upgrading database; v1 -> v2:   0%|          | 0/1 [00:00<?, ?it/s]"
     ]
    },
    {
     "name": "stdout",
     "output_type": "stream",
     "text": [
      "\r",
      "Upgrading database; v1 -> v2: 100%|██████████| 1/1 [00:00<00:00, 929.18it/s]"
     ]
    },
    {
     "name": "stdout",
     "output_type": "stream",
     "text": [
      "\n",
      "\r",
      "0it [00:00, ?it/s]"
     ]
    },
    {
     "name": "stdout",
     "output_type": "stream",
     "text": [
      "\r",
      "Upgrading database; v2 -> v3: : 0it [00:00, ?it/s]"
     ]
    },
    {
     "name": "stdout",
     "output_type": "stream",
     "text": [
      "\r",
      "Upgrading database; v2 -> v3: : 0it [00:00, ?it/s]"
     ]
    },
    {
     "name": "stdout",
     "output_type": "stream",
     "text": [
      "\n",
      "\r",
      "0it [00:00, ?it/s]"
     ]
    },
    {
     "name": "stdout",
     "output_type": "stream",
     "text": [
      "\r",
      "Upgrading database; v3 -> v4: : 0it [00:00, ?it/s]"
     ]
    },
    {
     "name": "stdout",
     "output_type": "stream",
     "text": [
      "\r",
      "Upgrading database; v3 -> v4: : 0it [00:00, ?it/s]"
     ]
    },
    {
     "name": "stdout",
     "output_type": "stream",
     "text": [
      "\n",
      "\r",
      "  0%|          | 0/1 [00:00<?, ?it/s]"
     ]
    },
    {
     "name": "stdout",
     "output_type": "stream",
     "text": [
      "\r",
      "Upgrading database; v4 -> v5:   0%|          | 0/1 [00:00<?, ?it/s]"
     ]
    },
    {
     "name": "stdout",
     "output_type": "stream",
     "text": [
      "\r",
      "Upgrading database; v4 -> v5: 100%|██████████| 1/1 [00:00<00:00, 720.18it/s]"
     ]
    },
    {
     "name": "stdout",
     "output_type": "stream",
     "text": [
      "\n",
      "\r",
      "0it [00:00, ?it/s]"
     ]
    },
    {
     "name": "stdout",
     "output_type": "stream",
     "text": [
      "\r",
      "Upgrading database; v5 -> v6: : 0it [00:00, ?it/s]"
     ]
    },
    {
     "name": "stdout",
     "output_type": "stream",
     "text": [
      "\r",
      "Upgrading database; v5 -> v6: : 0it [00:00, ?it/s]"
     ]
    },
    {
     "name": "stdout",
     "output_type": "stream",
     "text": [
      "\n",
      "\r",
      "  0%|          | 0/1 [00:00<?, ?it/s]"
     ]
    },
    {
     "name": "stdout",
     "output_type": "stream",
     "text": [
      "\r",
      "Upgrading database; v6 -> v7:   0%|          | 0/1 [00:00<?, ?it/s]"
     ]
    },
    {
     "name": "stdout",
     "output_type": "stream",
     "text": [
      "\r",
      "Upgrading database; v6 -> v7: 100%|██████████| 1/1 [00:00<00:00, 347.35it/s]"
     ]
    },
    {
     "name": "stdout",
     "output_type": "stream",
     "text": [
      "\n",
      "\r",
      "  0%|          | 0/1 [00:00<?, ?it/s]"
     ]
    },
    {
     "name": "stdout",
     "output_type": "stream",
     "text": [
      "\r",
      "Upgrading database; v7 -> v8:   0%|          | 0/1 [00:00<?, ?it/s]"
     ]
    },
    {
     "name": "stdout",
     "output_type": "stream",
     "text": [
      "\r",
      "Upgrading database; v7 -> v8: 100%|██████████| 1/1 [00:00<00:00, 568.72it/s]"
     ]
    },
    {
     "name": "stdout",
     "output_type": "stream",
     "text": [
      "\n",
      "\r",
      "  0%|          | 0/1 [00:00<?, ?it/s]"
     ]
    },
    {
     "name": "stdout",
     "output_type": "stream",
     "text": [
      "\r",
      "Upgrading database; v8 -> v9:   0%|          | 0/1 [00:00<?, ?it/s]"
     ]
    },
    {
     "name": "stdout",
     "output_type": "stream",
     "text": [
      "\r",
      "Upgrading database; v8 -> v9: 100%|██████████| 1/1 [00:00<00:00, 786.19it/s]"
     ]
    },
    {
     "name": "stdout",
     "output_type": "stream",
     "text": [
      "\n"
     ]
    }
   ],
   "source": [
    "initialise_database()\n",
    "exp = load_or_create_experiment(experiment_name='tutorial_exp', sample_name=\"no sample\")"
   ]
  },
  {
   "cell_type": "markdown",
   "metadata": {},
   "source": [
    "Here, we define a simple function to benchmark the time it takes to insert n points with either numeric or array data type.\n",
    "We will compare both the time used to call ``add_result`` and the time used for the full measurement."
   ]
  },
  {
   "cell_type": "code",
   "execution_count": 4,
   "metadata": {},
   "outputs": [],
   "source": [
    "def insert_data(paramtype, npoints, nreps=1):\n",
    "\n",
    "    meas = Measurement(exp=exp)\n",
    "\n",
    "    x1 = ManualParameter('x1')\n",
    "    x2 = ManualParameter('x2')\n",
    "    x3 = ManualParameter('x3')\n",
    "    y1 = ManualParameter('y1')\n",
    "    y2 = ManualParameter('y2')\n",
    "\n",
    "    meas.register_parameter(x1, paramtype=paramtype)\n",
    "    meas.register_parameter(x2, paramtype=paramtype)\n",
    "    meas.register_parameter(x3, paramtype=paramtype)\n",
    "    meas.register_parameter(y1, setpoints=[x1, x2, x3],\n",
    "                            paramtype=paramtype)\n",
    "    meas.register_parameter(y2, setpoints=[x1, x2, x3],\n",
    "                            paramtype=paramtype)\n",
    "    start = time.perf_counter()\n",
    "    with meas.run() as datasaver:\n",
    "        start_adding = time.perf_counter()\n",
    "        for i in range(nreps):\n",
    "            datasaver.add_result((x1, np.random.rand(npoints)),\n",
    "                                 (x2, np.random.rand(npoints)),\n",
    "                                 (x3, np.random.rand(npoints)),\n",
    "                                 (y1, np.random.rand(npoints)),\n",
    "                                 (y2, np.random.rand(npoints)))\n",
    "        stop_adding = time.perf_counter()\n",
    "        run_id = datasaver.run_id\n",
    "    stop = time.perf_counter()\n",
    "    tot_time = stop - start\n",
    "    add_time = stop_adding - start_adding\n",
    "    return tot_time, add_time, run_id"
   ]
  },
  {
   "cell_type": "markdown",
   "metadata": {},
   "source": [
    "## Comparison between numeric/array data and binary blob"
   ]
  },
  {
   "cell_type": "markdown",
   "metadata": {},
   "source": [
    "### Case1: Short experiment time"
   ]
  },
  {
   "cell_type": "code",
   "execution_count": 5,
   "metadata": {},
   "outputs": [
    {
     "name": "stdout",
     "output_type": "stream",
     "text": [
      "Starting experimental run with id: 1. \n",
      "Starting experimental run with id: 2. \n",
      "Starting experimental run with id: 3. \n"
     ]
    },
    {
     "name": "stdout",
     "output_type": "stream",
     "text": [
      "Starting experimental run with id: 4. \n"
     ]
    },
    {
     "name": "stdout",
     "output_type": "stream",
     "text": [
      "Starting experimental run with id: 5. \n",
      "Starting experimental run with id: 6. \n"
     ]
    },
    {
     "name": "stdout",
     "output_type": "stream",
     "text": [
      "Starting experimental run with id: 7. \n"
     ]
    },
    {
     "name": "stdout",
     "output_type": "stream",
     "text": [
      "Starting experimental run with id: 8. \n",
      "Starting experimental run with id: 9. \n"
     ]
    },
    {
     "name": "stdout",
     "output_type": "stream",
     "text": [
      "Starting experimental run with id: 10. \n",
      "Starting experimental run with id: 11. \n"
     ]
    },
    {
     "name": "stdout",
     "output_type": "stream",
     "text": [
      "Starting experimental run with id: 12. \n",
      "Starting experimental run with id: 13. \n"
     ]
    },
    {
     "name": "stdout",
     "output_type": "stream",
     "text": [
      "Starting experimental run with id: 14. \n"
     ]
    }
   ],
   "source": [
    "sizes = [1,500,1000,2000,3000,4000,5000]\n",
    "t_numeric = []\n",
    "t_numeric_add = []\n",
    "t_array = []\n",
    "t_array_add = []\n",
    "for size in sizes:\n",
    "    tn, tna, run_id_n =  insert_data('numeric', size)\n",
    "    t_numeric.append(tn)\n",
    "    t_numeric_add.append(tna)\n",
    "\n",
    "    ta, taa, run_id_a =  insert_data('array', size)\n",
    "    t_array.append(ta)\n",
    "    t_array_add.append(taa)"
   ]
  },
  {
   "cell_type": "code",
   "execution_count": 6,
   "metadata": {},
   "outputs": [
    {
     "data": {
      "image/png": "[encoded data removed]",
      "text/plain": [
       "<Figure size 432x288 with 1 Axes>"
      ]
     },
     "metadata": {
      "needs_background": "light"
     },
     "output_type": "display_data"
    }
   ],
   "source": [
    "fig, ax = plt.subplots(1,1)\n",
    "ax.plot(sizes, t_numeric, 'o-', label='Inserting row-by-row')\n",
    "ax.plot(sizes, t_numeric_add, 'o-', label='Inserting row-by-row: add_result only')\n",
    "ax.plot(sizes, t_array, 'd-', label='Inserting as binary blob')\n",
    "ax.plot(sizes, t_array_add, 'd-', label='Inserting as binary blob: add_result only')\n",
    "ax.legend()\n",
    "ax.set_xlabel('Array length')\n",
    "ax.set_ylabel('Time (s)')\n",
    "fig.tight_layout()"
   ]
  },
  {
   "cell_type": "markdown",
   "metadata": {},
   "source": [
    "As shown in the latter figure, the time to setup and and close the experiment is approximately 0.4 sec. In case of small array sizes, the difference between inserting values of data as arrays and inserting them row-by-row is relatively unimportant. At larger array sizes, i.e. above 10000 points, the cost of writing data as individual datapoints starts to become important.\n"
   ]
  },
  {
   "cell_type": "markdown",
   "metadata": {},
   "source": [
    "### Case2: Long experiment time "
   ]
  },
  {
   "cell_type": "code",
   "execution_count": 7,
   "metadata": {},
   "outputs": [
    {
     "name": "stdout",
     "output_type": "stream",
     "text": [
      "Starting experimental run with id: 15. \n",
      "Starting experimental run with id: 16. \n",
      "Starting experimental run with id: 17. \n"
     ]
    },
    {
     "name": "stdout",
     "output_type": "stream",
     "text": [
      "Starting experimental run with id: 18. \n",
      "Starting experimental run with id: 19. \n"
     ]
    },
    {
     "name": "stdout",
     "output_type": "stream",
     "text": [
      "Starting experimental run with id: 20. \n"
     ]
    },
    {
     "name": "stdout",
     "output_type": "stream",
     "text": [
      "Starting experimental run with id: 21. \n"
     ]
    },
    {
     "name": "stdout",
     "output_type": "stream",
     "text": [
      "Starting experimental run with id: 22. \n"
     ]
    },
    {
     "name": "stdout",
     "output_type": "stream",
     "text": [
      "Starting experimental run with id: 23. \n"
     ]
    },
    {
     "name": "stdout",
     "output_type": "stream",
     "text": [
      "Starting experimental run with id: 24. \n"
     ]
    },
    {
     "name": "stdout",
     "output_type": "stream",
     "text": [
      "Starting experimental run with id: 25. \n"
     ]
    },
    {
     "name": "stdout",
     "output_type": "stream",
     "text": [
      "Starting experimental run with id: 26. \n"
     ]
    },
    {
     "name": "stdout",
     "output_type": "stream",
     "text": [
      "Starting experimental run with id: 27. \n"
     ]
    },
    {
     "name": "stdout",
     "output_type": "stream",
     "text": [
      "Starting experimental run with id: 28. \n"
     ]
    }
   ],
   "source": [
    "sizes = [1,500,1000,2000,3000,4000,5000]\n",
    "nreps = 100\n",
    "t_numeric = []\n",
    "t_numeric_add = []\n",
    "t_numeric_run_ids = []\n",
    "t_array = []\n",
    "t_array_add = []\n",
    "t_array_run_ids = []\n",
    "for size in sizes:\n",
    "    tn, tna, run_id_n =  insert_data('numeric', size, nreps=nreps)\n",
    "    t_numeric.append(tn)\n",
    "    t_numeric_add.append(tna)\n",
    "    t_numeric_run_ids.append(run_id_n)\n",
    "\n",
    "    ta, taa, run_id_a =  insert_data('array', size, nreps=nreps)\n",
    "    t_array.append(ta)\n",
    "    t_array_add.append(taa)\n",
    "    t_array_run_ids.append(run_id_a)"
   ]
  },
  {
   "cell_type": "code",
   "execution_count": 8,
   "metadata": {
    "scrolled": true
   },
   "outputs": [
    {
     "data": {
      "image/png": "[encoded data removed]",
      "text/plain": [
       "<Figure size 432x288 with 1 Axes>"
      ]
     },
     "metadata": {
      "needs_background": "light"
     },
     "output_type": "display_data"
    }
   ],
   "source": [
    "fig, ax = plt.subplots(1,1)\n",
    "ax.plot(sizes, t_numeric, 'o-', label='Inserting row-by-row')\n",
    "ax.plot(sizes, t_numeric_add, 'o-', label='Inserting row-by-row: add_result only')\n",
    "ax.plot(sizes, t_array, 'd-', label='Inserting as binary blob')\n",
    "ax.plot(sizes, t_array_add, 'd-', label='Inserting as binary blob: add_result only')\n",
    "ax.legend()\n",
    "ax.set_xlabel('Array length')\n",
    "ax.set_ylabel('Time (s)')\n",
    "fig.tight_layout()"
   ]
  },
  {
   "cell_type": "markdown",
   "metadata": {},
   "source": [
    "However, as we increase the length of the experiment, as seen here by repeating the insertion 100 times, we see a big difference between inserting values of the data row-by-row and inserting it as a binary blob."
   ]
  },
  {
   "cell_type": "markdown",
   "metadata": {},
   "source": [
    "## Loading the data "
   ]
  },
  {
   "cell_type": "code",
   "execution_count": 9,
   "metadata": {},
   "outputs": [],
   "source": [
    "from qcodes.dataset.data_set import load_by_id\n",
    "from qcodes.dataset.data_export import get_data_by_id"
   ]
  },
  {
   "cell_type": "markdown",
   "metadata": {},
   "source": [
    "As usual you can load the data by using the ``load_by_id`` function but you will notice that the different storage methods\n",
    "are reflected in shape of the data as it is retrieved. "
   ]
  },
  {
   "cell_type": "code",
   "execution_count": 10,
   "metadata": {},
   "outputs": [],
   "source": [
    "run_id_n = t_numeric_run_ids[0]\n",
    "run_id_a = t_array_run_ids[0]"
   ]
  },
  {
   "cell_type": "code",
   "execution_count": 11,
   "metadata": {
    "scrolled": true
   },
   "outputs": [
    {
     "data": {
      "text/plain": [
       "{'x1': {'x1': array([0.32372834, 0.32372834, 0.03383564, 0.03383564, 0.4020875 ,\n",
       "         0.4020875 , 0.31748774, 0.31748774, 0.86306019, 0.86306019,\n",
       "         0.55578443, 0.55578443, 0.65266343, 0.65266343, 0.57047877,\n",
       "         0.57047877, 0.21393864, 0.21393864, 0.39311035, 0.39311035,\n",
       "         0.48421215, 0.48421215, 0.42123173, 0.42123173, 0.0587457 ,\n",
       "         0.0587457 , 0.21099875, 0.21099875, 0.34962412, 0.34962412,\n",
       "         0.11291956, 0.11291956, 0.40669018, 0.40669018, 0.79402639,\n",
       "         0.79402639, 0.13715754, 0.13715754, 0.67350421, 0.67350421,\n",
       "         0.5342058 , 0.5342058 , 0.37884771, 0.37884771, 0.80184583,\n",
       "         0.80184583, 0.71801597, 0.71801597, 0.19195451, 0.19195451,\n",
       "         0.20473508, 0.20473508, 0.17900302, 0.17900302, 0.97546802,\n",
       "         0.97546802, 0.97546133, 0.97546133, 0.94580341, 0.94580341,\n",
       "         0.75870327, 0.75870327, 0.14287022, 0.14287022, 0.67634745,\n",
       "         0.67634745, 0.53292841, 0.53292841, 0.22275432, 0.22275432,\n",
       "         0.39498225, 0.39498225, 0.35874867, 0.35874867, 0.69150368,\n",
       "         0.69150368, 0.25640454, 0.25640454, 0.27200131, 0.27200131,\n",
       "         0.42607774, 0.42607774, 0.8194306 , 0.8194306 , 0.72139275,\n",
       "         0.72139275, 0.57708928, 0.57708928, 0.94471749, 0.94471749,\n",
       "         0.18507431, 0.18507431, 0.04189149, 0.04189149, 0.39375335,\n",
       "         0.39375335, 0.07090368, 0.07090368, 0.31767753, 0.31767753,\n",
       "         0.25746828, 0.25746828, 0.27857035, 0.27857035, 0.77722648,\n",
       "         0.77722648, 0.57739552, 0.57739552, 0.78706212, 0.78706212,\n",
       "         0.24895532, 0.24895532, 0.48693739, 0.48693739, 0.21297459,\n",
       "         0.21297459, 0.75851227, 0.75851227, 0.72886956, 0.72886956,\n",
       "         0.35568456, 0.35568456, 0.73820667, 0.73820667, 0.92076124,\n",
       "         0.92076124, 0.78502656, 0.78502656, 0.01812772, 0.01812772,\n",
       "         0.29362385, 0.29362385, 0.84271671, 0.84271671, 0.29924758,\n",
       "         0.29924758, 0.25737575, 0.25737575, 0.33788953, 0.33788953,\n",
       "         0.91095121, 0.91095121, 0.6158682 , 0.6158682 , 0.99174481,\n",
       "         0.99174481, 0.66857366, 0.66857366, 0.75941028, 0.75941028,\n",
       "         0.69100243, 0.69100243, 0.74000453, 0.74000453, 0.78006322,\n",
       "         0.78006322, 0.02963534, 0.02963534, 0.43306494, 0.43306494,\n",
       "         0.29355714, 0.29355714, 0.08714605, 0.08714605, 0.45294766,\n",
       "         0.45294766, 0.25998581, 0.25998581, 0.86210969, 0.86210969,\n",
       "         0.31296121, 0.31296121, 0.51321064, 0.51321064, 0.3324774 ,\n",
       "         0.3324774 , 0.2492893 , 0.2492893 , 0.18588444, 0.18588444,\n",
       "         0.90450738, 0.90450738, 0.30184209, 0.30184209, 0.57677342,\n",
       "         0.57677342, 0.94403565, 0.94403565, 0.88048429, 0.88048429,\n",
       "         0.14847384, 0.14847384, 0.36564701, 0.36564701, 0.94749244,\n",
       "         0.94749244, 0.42638245, 0.42638245, 0.5555669 , 0.5555669 ])}}"
      ]
     },
     "execution_count": 11,
     "metadata": {},
     "output_type": "execute_result"
    }
   ],
   "source": [
    "ds = load_by_id(run_id_n)\n",
    "ds.get_parameter_data('x1')"
   ]
  },
  {
   "cell_type": "markdown",
   "metadata": {},
   "source": [
    "And a dataset stored as binary arrays"
   ]
  },
  {
   "cell_type": "code",
   "execution_count": 12,
   "metadata": {
    "scrolled": true
   },
   "outputs": [
    {
     "data": {
      "text/plain": [
       "{'x1': {'x1': array([[0.18981486],\n",
       "         [0.18981486],\n",
       "         [0.32080828],\n",
       "         [0.32080828],\n",
       "         [0.11864211],\n",
       "         [0.11864211],\n",
       "         [0.83774508],\n",
       "         [0.83774508],\n",
       "         [0.41102609],\n",
       "         [0.41102609],\n",
       "         [0.67301429],\n",
       "         [0.67301429],\n",
       "         [0.90748654],\n",
       "         [0.90748654],\n",
       "         [0.57322676],\n",
       "         [0.57322676],\n",
       "         [0.01528153],\n",
       "         [0.01528153],\n",
       "         [0.47479666],\n",
       "         [0.47479666],\n",
       "         [0.68193885],\n",
       "         [0.68193885],\n",
       "         [0.66461967],\n",
       "         [0.66461967],\n",
       "         [0.90103485],\n",
       "         [0.90103485],\n",
       "         [0.00636598],\n",
       "         [0.00636598],\n",
       "         [0.05783182],\n",
       "         [0.05783182],\n",
       "         [0.70712644],\n",
       "         [0.70712644],\n",
       "         [0.4563565 ],\n",
       "         [0.4563565 ],\n",
       "         [0.02507268],\n",
       "         [0.02507268],\n",
       "         [0.40226388],\n",
       "         [0.40226388],\n",
       "         [0.27388652],\n",
       "         [0.27388652],\n",
       "         [0.07233019],\n",
       "         [0.07233019],\n",
       "         [0.24689615],\n",
       "         [0.24689615],\n",
       "         [0.32230344],\n",
       "         [0.32230344],\n",
       "         [0.02303489],\n",
       "         [0.02303489],\n",
       "         [0.99100477],\n",
       "         [0.99100477],\n",
       "         [0.85119697],\n",
       "         [0.85119697],\n",
       "         [0.05208079],\n",
       "         [0.05208079],\n",
       "         [0.37116607],\n",
       "         [0.37116607],\n",
       "         [0.94079982],\n",
       "         [0.94079982],\n",
       "         [0.13221645],\n",
       "         [0.13221645],\n",
       "         [0.82044182],\n",
       "         [0.82044182],\n",
       "         [0.05031728],\n",
       "         [0.05031728],\n",
       "         [0.20294974],\n",
       "         [0.20294974],\n",
       "         [0.25088534],\n",
       "         [0.25088534],\n",
       "         [0.44395018],\n",
       "         [0.44395018],\n",
       "         [0.12923344],\n",
       "         [0.12923344],\n",
       "         [0.56756069],\n",
       "         [0.56756069],\n",
       "         [0.3818266 ],\n",
       "         [0.3818266 ],\n",
       "         [0.12787861],\n",
       "         [0.12787861],\n",
       "         [0.3206384 ],\n",
       "         [0.3206384 ],\n",
       "         [0.63831986],\n",
       "         [0.63831986],\n",
       "         [0.8542212 ],\n",
       "         [0.8542212 ],\n",
       "         [0.33948816],\n",
       "         [0.33948816],\n",
       "         [0.801633  ],\n",
       "         [0.801633  ],\n",
       "         [0.13042917],\n",
       "         [0.13042917],\n",
       "         [0.44083297],\n",
       "         [0.44083297],\n",
       "         [0.68444569],\n",
       "         [0.68444569],\n",
       "         [0.06765245],\n",
       "         [0.06765245],\n",
       "         [0.47242984],\n",
       "         [0.47242984],\n",
       "         [0.89157024],\n",
       "         [0.89157024],\n",
       "         [0.1550492 ],\n",
       "         [0.1550492 ],\n",
       "         [0.98488268],\n",
       "         [0.98488268],\n",
       "         [0.27794645],\n",
       "         [0.27794645],\n",
       "         [0.14804762],\n",
       "         [0.14804762],\n",
       "         [0.20014381],\n",
       "         [0.20014381],\n",
       "         [0.06296268],\n",
       "         [0.06296268],\n",
       "         [0.43626116],\n",
       "         [0.43626116],\n",
       "         [0.93500536],\n",
       "         [0.93500536],\n",
       "         [0.52591006],\n",
       "         [0.52591006],\n",
       "         [0.52781886],\n",
       "         [0.52781886],\n",
       "         [0.02211446],\n",
       "         [0.02211446],\n",
       "         [0.19049349],\n",
       "         [0.19049349],\n",
       "         [0.92940597],\n",
       "         [0.92940597],\n",
       "         [0.68986695],\n",
       "         [0.68986695],\n",
       "         [0.24197387],\n",
       "         [0.24197387],\n",
       "         [0.61118567],\n",
       "         [0.61118567],\n",
       "         [0.26803312],\n",
       "         [0.26803312],\n",
       "         [0.81864599],\n",
       "         [0.81864599],\n",
       "         [0.57913497],\n",
       "         [0.57913497],\n",
       "         [0.66809989],\n",
       "         [0.66809989],\n",
       "         [0.72388703],\n",
       "         [0.72388703],\n",
       "         [0.21387765],\n",
       "         [0.21387765],\n",
       "         [0.1024008 ],\n",
       "         [0.1024008 ],\n",
       "         [0.54513502],\n",
       "         [0.54513502],\n",
       "         [0.43888365],\n",
       "         [0.43888365],\n",
       "         [0.95080725],\n",
       "         [0.95080725],\n",
       "         [0.41846701],\n",
       "         [0.41846701],\n",
       "         [0.92148062],\n",
       "         [0.92148062],\n",
       "         [0.01796618],\n",
       "         [0.01796618],\n",
       "         [0.60659085],\n",
       "         [0.60659085],\n",
       "         [0.24287911],\n",
       "         [0.24287911],\n",
       "         [0.59776607],\n",
       "         [0.59776607],\n",
       "         [0.3133491 ],\n",
       "         [0.3133491 ],\n",
       "         [0.17391981],\n",
       "         [0.17391981],\n",
       "         [0.46816307],\n",
       "         [0.46816307],\n",
       "         [0.25678601],\n",
       "         [0.25678601],\n",
       "         [0.10722865],\n",
       "         [0.10722865],\n",
       "         [0.27948622],\n",
       "         [0.27948622],\n",
       "         [0.12673442],\n",
       "         [0.12673442],\n",
       "         [0.83439905],\n",
       "         [0.83439905],\n",
       "         [0.97318139],\n",
       "         [0.97318139],\n",
       "         [0.98143318],\n",
       "         [0.98143318],\n",
       "         [0.29047803],\n",
       "         [0.29047803],\n",
       "         [0.75576464],\n",
       "         [0.75576464],\n",
       "         [0.19565169],\n",
       "         [0.19565169],\n",
       "         [0.49433994],\n",
       "         [0.49433994],\n",
       "         [0.33794097],\n",
       "         [0.33794097],\n",
       "         [0.48584374],\n",
       "         [0.48584374],\n",
       "         [0.13537672],\n",
       "         [0.13537672],\n",
       "         [0.14409877],\n",
       "         [0.14409877]])}}"
      ]
     },
     "execution_count": 12,
     "metadata": {},
     "output_type": "execute_result"
    }
   ],
   "source": [
    "ds = load_by_id(run_id_a)\n",
    "ds.get_parameter_data('x1')"
   ]
  },
  {
   "cell_type": "code",
   "execution_count": null,
   "metadata": {},
   "outputs": [],
   "source": []
  }
 ],
 "metadata": {
  "kernelspec": {
   "display_name": "Python 3",
   "language": "python",
   "name": "python3"
  },
  "language_info": {
   "codemirror_mode": {
    "name": "ipython",
    "version": 3
   },
   "file_extension": ".py",
   "mimetype": "text/x-python",
   "name": "python",
   "nbconvert_exporter": "python",
   "pygments_lexer": "ipython3",
   "version": "3.7.5"
  },
  "nbsphinx": {
   "timeout": 600
  },
  "toc": {
   "base_numbering": 1,
   "nav_menu": {},
   "number_sections": true,
   "sideBar": true,
   "skip_h1_title": false,
   "title_cell": "Table of Contents",
   "title_sidebar": "Contents",
   "toc_cell": false,
   "toc_position": {},
   "toc_section_display": true,
   "toc_window_display": false
  },
  "varInspector": {
   "cols": {
    "lenName": 16,
    "lenType": 16,
    "lenVar": 40
   },
   "kernels_config": {
    "python": {
     "delete_cmd_postfix": "",
     "delete_cmd_prefix": "del ",
     "library": "var_list.py",
     "varRefreshCmd": "print(var_dic_list())"
    },
    "r": {
     "delete_cmd_postfix": ") ",
     "delete_cmd_prefix": "rm(",
     "library": "var_list.r",
     "varRefreshCmd": "cat(var_dic_list()) "
    }
   },
   "types_to_exclude": [
    "module",
    "function",
    "builtin_function_or_method",
    "instance",
    "_Feature"
   ],
   "window_display": false
  }
 },
 "nbformat": 4,
 "nbformat_minor": 2
}
