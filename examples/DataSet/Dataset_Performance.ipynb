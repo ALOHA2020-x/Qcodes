{
 "cells": [
  {
   "cell_type": "markdown",
   "metadata": {},
   "source": [
    "# DataSet Performance\n",
    "\n",
    "This notebook shows the trade-off between inserting data into a database row-by-row and as binary blobs. Inserting the data row-by-row means that we have direct access to all the data and may perform queries directly on the values of the data. On the other hand, as we shall see, this is much slower than inserting the data directly as binary blobs."
   ]
  },
  {
   "cell_type": "markdown",
   "metadata": {},
   "source": [
    "First, we choose a new location for the database to ensure that we don't add a bunch of benchmarking data to the default one."
   ]
  },
  {
   "cell_type": "code",
   "execution_count": 1,
   "metadata": {
    "execution": {
     "iopub.execute_input": "2020-12-21T09:41:26.481332Z",
     "iopub.status.busy": "2020-12-21T09:41:26.480454Z",
     "iopub.status.idle": "2020-12-21T09:41:27.558240Z",
     "shell.execute_reply": "2020-12-21T09:41:27.558694Z"
    }
   },
   "outputs": [
    {
     "name": "stdout",
     "output_type": "stream",
     "text": [
      "Logging hadn't been started.\n",
      "Activating auto-logging. Current session state plus future input saved.\n",
      "Filename       : /home/vsts/.qcodes/logs/command_history.log\n",
      "Mode           : append\n",
      "Output logging : True\n",
      "Raw input log  : False\n",
      "Timestamping   : True\n",
      "State          : active\n"
     ]
    },
    {
     "name": "stdout",
     "output_type": "stream",
     "text": [
      "Qcodes Logfile : /home/vsts/.qcodes/logs/201221-13412-qcodes.log\n"
     ]
    }
   ],
   "source": [
    "import os\n",
    "cwd = os.getcwd()\n",
    "import qcodes as qc\n",
    "qc.config[\"core\"][\"db_location\"] = os.path.join(cwd, 'testing.db')\n"
   ]
  },
  {
   "cell_type": "code",
   "execution_count": 2,
   "metadata": {
    "execution": {
     "iopub.execute_input": "2020-12-21T09:41:27.566429Z",
     "iopub.status.busy": "2020-12-21T09:41:27.564480Z",
     "iopub.status.idle": "2020-12-21T09:41:27.749161Z",
     "shell.execute_reply": "2020-12-21T09:41:27.747891Z"
    }
   },
   "outputs": [],
   "source": [
    "%matplotlib inline\n",
    "import time\n",
    "import matplotlib.pyplot as plt\n",
    "import numpy as np\n",
    "\n",
    "import qcodes as qc\n",
    "from qcodes.instrument.parameter import ManualParameter\n",
    "from qcodes.dataset.experiment_container import (Experiment,\n",
    "                                                 load_last_experiment,\n",
    "                                                 new_experiment)\n",
    "from qcodes.dataset.sqlite.database import initialise_database\n",
    "from qcodes import load_or_create_experiment\n",
    "from qcodes.dataset.measurements import Measurement"
   ]
  },
  {
   "cell_type": "code",
   "execution_count": 3,
   "metadata": {
    "execution": {
     "iopub.execute_input": "2020-12-21T09:41:27.753972Z",
     "iopub.status.busy": "2020-12-21T09:41:27.752965Z",
     "iopub.status.idle": "2020-12-21T09:41:27.895608Z",
     "shell.execute_reply": "2020-12-21T09:41:27.895037Z"
    }
   },
   "outputs": [
    {
     "name": "stdout",
     "output_type": "stream",
     "text": [
      "\r",
      "0it [00:00, ?it/s]"
     ]
    },
    {
     "name": "stdout",
     "output_type": "stream",
     "text": [
      "\r",
      "Upgrading database; v0 -> v1: : 0it [00:00, ?it/s]"
     ]
    },
    {
     "name": "stdout",
     "output_type": "stream",
     "text": [
      "\r",
      "Upgrading database; v0 -> v1: : 0it [00:00, ?it/s]"
     ]
    },
    {
     "name": "stdout",
     "output_type": "stream",
     "text": [
      "\n",
      "\r",
      "  0%|          | 0/1 [00:00<?, ?it/s]"
     ]
    },
    {
     "name": "stdout",
     "output_type": "stream",
     "text": [
      "\r",
      "Upgrading database; v1 -> v2:   0%|          | 0/1 [00:00<?, ?it/s]"
     ]
    },
    {
     "name": "stdout",
     "output_type": "stream",
     "text": [
      "\r",
      "Upgrading database; v1 -> v2: 100%|██████████| 1/1 [00:00<00:00, 849.39it/s]"
     ]
    },
    {
     "name": "stdout",
     "output_type": "stream",
     "text": [
      "\n",
      "\r",
      "0it [00:00, ?it/s]"
     ]
    },
    {
     "name": "stdout",
     "output_type": "stream",
     "text": [
      "\r",
      "Upgrading database; v2 -> v3: : 0it [00:00, ?it/s]"
     ]
    },
    {
     "name": "stdout",
     "output_type": "stream",
     "text": [
      "\r",
      "Upgrading database; v2 -> v3: : 0it [00:00, ?it/s]"
     ]
    },
    {
     "name": "stdout",
     "output_type": "stream",
     "text": [
      "\n",
      "\r",
      "0it [00:00, ?it/s]"
     ]
    },
    {
     "name": "stdout",
     "output_type": "stream",
     "text": [
      "\r",
      "Upgrading database; v3 -> v4: : 0it [00:00, ?it/s]"
     ]
    },
    {
     "name": "stdout",
     "output_type": "stream",
     "text": [
      "\r",
      "Upgrading database; v3 -> v4: : 0it [00:00, ?it/s]"
     ]
    },
    {
     "name": "stdout",
     "output_type": "stream",
     "text": [
      "\n",
      "\r",
      "  0%|          | 0/1 [00:00<?, ?it/s]"
     ]
    },
    {
     "name": "stdout",
     "output_type": "stream",
     "text": [
      "\r",
      "Upgrading database; v4 -> v5:   0%|          | 0/1 [00:00<?, ?it/s]"
     ]
    },
    {
     "name": "stdout",
     "output_type": "stream",
     "text": [
      "\r",
      "Upgrading database; v4 -> v5: 100%|██████████| 1/1 [00:00<00:00, 430.23it/s]"
     ]
    },
    {
     "name": "stdout",
     "output_type": "stream",
     "text": [
      "\n",
      "\r",
      "0it [00:00, ?it/s]"
     ]
    },
    {
     "name": "stdout",
     "output_type": "stream",
     "text": [
      "\r",
      "Upgrading database; v5 -> v6: : 0it [00:00, ?it/s]"
     ]
    },
    {
     "name": "stdout",
     "output_type": "stream",
     "text": [
      "\r",
      "Upgrading database; v5 -> v6: : 0it [00:00, ?it/s]"
     ]
    },
    {
     "name": "stdout",
     "output_type": "stream",
     "text": [
      "\n",
      "\r",
      "  0%|          | 0/1 [00:00<?, ?it/s]"
     ]
    },
    {
     "name": "stdout",
     "output_type": "stream",
     "text": [
      "\r",
      "Upgrading database; v6 -> v7:   0%|          | 0/1 [00:00<?, ?it/s]"
     ]
    },
    {
     "name": "stdout",
     "output_type": "stream",
     "text": [
      "\r",
      "Upgrading database; v6 -> v7: 100%|██████████| 1/1 [00:00<00:00, 298.12it/s]"
     ]
    },
    {
     "name": "stdout",
     "output_type": "stream",
     "text": [
      "\n",
      "\r",
      "  0%|          | 0/1 [00:00<?, ?it/s]"
     ]
    },
    {
     "name": "stdout",
     "output_type": "stream",
     "text": [
      "\r",
      "Upgrading database; v7 -> v8:   0%|          | 0/1 [00:00<?, ?it/s]"
     ]
    },
    {
     "name": "stdout",
     "output_type": "stream",
     "text": [
      "\r",
      "Upgrading database; v7 -> v8: 100%|██████████| 1/1 [00:00<00:00, 445.59it/s]"
     ]
    },
    {
     "name": "stdout",
     "output_type": "stream",
     "text": [
      "\n",
      "\r",
      "  0%|          | 0/1 [00:00<?, ?it/s]"
     ]
    },
    {
     "name": "stdout",
     "output_type": "stream",
     "text": [
      "\r",
      "Upgrading database; v8 -> v9:   0%|          | 0/1 [00:00<?, ?it/s]"
     ]
    },
    {
     "name": "stdout",
     "output_type": "stream",
     "text": [
      "\r",
      "Upgrading database; v8 -> v9: 100%|██████████| 1/1 [00:00<00:00, 991.33it/s]"
     ]
    },
    {
     "name": "stdout",
     "output_type": "stream",
     "text": [
      "\n"
     ]
    }
   ],
   "source": [
    "initialise_database()\n",
    "exp = load_or_create_experiment(experiment_name='tutorial_exp', sample_name=\"no sample\")"
   ]
  },
  {
   "cell_type": "markdown",
   "metadata": {},
   "source": [
    "Here, we define a simple function to benchmark the time it takes to insert n points with either numeric or array data type.\n",
    "We will compare both the time used to call ``add_result`` and the time used for the full measurement."
   ]
  },
  {
   "cell_type": "code",
   "execution_count": 4,
   "metadata": {
    "execution": {
     "iopub.execute_input": "2020-12-21T09:41:27.904219Z",
     "iopub.status.busy": "2020-12-21T09:41:27.903679Z",
     "iopub.status.idle": "2020-12-21T09:41:27.907287Z",
     "shell.execute_reply": "2020-12-21T09:41:27.906520Z"
    }
   },
   "outputs": [],
   "source": [
    "def insert_data(paramtype, npoints, nreps=1):\n",
    "\n",
    "    meas = Measurement(exp=exp)\n",
    "\n",
    "    x1 = ManualParameter('x1')\n",
    "    x2 = ManualParameter('x2')\n",
    "    x3 = ManualParameter('x3')\n",
    "    y1 = ManualParameter('y1')\n",
    "    y2 = ManualParameter('y2')\n",
    "\n",
    "    meas.register_parameter(x1, paramtype=paramtype)\n",
    "    meas.register_parameter(x2, paramtype=paramtype)\n",
    "    meas.register_parameter(x3, paramtype=paramtype)\n",
    "    meas.register_parameter(y1, setpoints=[x1, x2, x3],\n",
    "                            paramtype=paramtype)\n",
    "    meas.register_parameter(y2, setpoints=[x1, x2, x3],\n",
    "                            paramtype=paramtype)\n",
    "    start = time.perf_counter()\n",
    "    with meas.run() as datasaver:\n",
    "        start_adding = time.perf_counter()\n",
    "        for i in range(nreps):\n",
    "            datasaver.add_result((x1, np.random.rand(npoints)),\n",
    "                                 (x2, np.random.rand(npoints)),\n",
    "                                 (x3, np.random.rand(npoints)),\n",
    "                                 (y1, np.random.rand(npoints)),\n",
    "                                 (y2, np.random.rand(npoints)))\n",
    "        stop_adding = time.perf_counter()\n",
    "        run_id = datasaver.run_id\n",
    "    stop = time.perf_counter()\n",
    "    tot_time = stop - start\n",
    "    add_time = stop_adding - start_adding\n",
    "    return tot_time, add_time, run_id"
   ]
  },
  {
   "cell_type": "markdown",
   "metadata": {},
   "source": [
    "## Comparison between numeric/array data and binary blob"
   ]
  },
  {
   "cell_type": "markdown",
   "metadata": {},
   "source": [
    "### Case1: Short experiment time"
   ]
  },
  {
   "cell_type": "code",
   "execution_count": 5,
   "metadata": {
    "execution": {
     "iopub.execute_input": "2020-12-21T09:41:27.914024Z",
     "iopub.status.busy": "2020-12-21T09:41:27.913181Z",
     "iopub.status.idle": "2020-12-21T09:41:28.859413Z",
     "shell.execute_reply": "2020-12-21T09:41:28.858811Z"
    }
   },
   "outputs": [
    {
     "name": "stdout",
     "output_type": "stream",
     "text": [
      "Starting experimental run with id: 1. \n",
      "Starting experimental run with id: 2. \n",
      "Starting experimental run with id: 3. \n"
     ]
    },
    {
     "name": "stdout",
     "output_type": "stream",
     "text": [
      "Starting experimental run with id: 4. \n"
     ]
    },
    {
     "name": "stdout",
     "output_type": "stream",
     "text": [
      "Starting experimental run with id: 5. \n"
     ]
    },
    {
     "name": "stdout",
     "output_type": "stream",
     "text": [
      "Starting experimental run with id: 6. \n",
      "Starting experimental run with id: 7. \n"
     ]
    },
    {
     "name": "stdout",
     "output_type": "stream",
     "text": [
      "Starting experimental run with id: 8. \n"
     ]
    },
    {
     "name": "stdout",
     "output_type": "stream",
     "text": [
      "Starting experimental run with id: 9. \n"
     ]
    },
    {
     "name": "stdout",
     "output_type": "stream",
     "text": [
      "Starting experimental run with id: 10. \n",
      "Starting experimental run with id: 11. \n"
     ]
    },
    {
     "name": "stdout",
     "output_type": "stream",
     "text": [
      "Starting experimental run with id: 12. \n"
     ]
    },
    {
     "name": "stdout",
     "output_type": "stream",
     "text": [
      "Starting experimental run with id: 13. \n"
     ]
    },
    {
     "name": "stdout",
     "output_type": "stream",
     "text": [
      "Starting experimental run with id: 14. \n"
     ]
    }
   ],
   "source": [
    "sizes = [1,500,1000,2000,3000,4000,5000]\n",
    "t_numeric = []\n",
    "t_numeric_add = []\n",
    "t_array = []\n",
    "t_array_add = []\n",
    "for size in sizes:\n",
    "    tn, tna, run_id_n =  insert_data('numeric', size)\n",
    "    t_numeric.append(tn)\n",
    "    t_numeric_add.append(tna)\n",
    "\n",
    "    ta, taa, run_id_a =  insert_data('array', size)\n",
    "    t_array.append(ta)\n",
    "    t_array_add.append(taa)"
   ]
  },
  {
   "cell_type": "code",
   "execution_count": 6,
   "metadata": {
    "execution": {
     "iopub.execute_input": "2020-12-21T09:41:28.876339Z",
     "iopub.status.busy": "2020-12-21T09:41:28.863828Z",
     "iopub.status.idle": "2020-12-21T09:41:29.058532Z",
     "shell.execute_reply": "2020-12-21T09:41:29.058984Z"
    }
   },
   "outputs": [
    {
     "data": {
      "image/png": "[encoded data removed]",
      "text/plain": [
       "<Figure size 432x288 with 1 Axes>"
      ]
     },
     "metadata": {
      "needs_background": "light"
     },
     "output_type": "display_data"
    }
   ],
   "source": [
    "fig, ax = plt.subplots(1,1)\n",
    "ax.plot(sizes, t_numeric, 'o-', label='Inserting row-by-row')\n",
    "ax.plot(sizes, t_numeric_add, 'o-', label='Inserting row-by-row: add_result only')\n",
    "ax.plot(sizes, t_array, 'd-', label='Inserting as binary blob')\n",
    "ax.plot(sizes, t_array_add, 'd-', label='Inserting as binary blob: add_result only')\n",
    "ax.legend()\n",
    "ax.set_xlabel('Array length')\n",
    "ax.set_ylabel('Time (s)')\n",
    "fig.tight_layout()"
   ]
  },
  {
   "cell_type": "markdown",
   "metadata": {},
   "source": [
    "As shown in the latter figure, the time to setup and and close the experiment is approximately 0.4 sec. In case of small array sizes, the difference between inserting values of data as arrays and inserting them row-by-row is relatively unimportant. At larger array sizes, i.e. above 10000 points, the cost of writing data as individual datapoints starts to become important.\n"
   ]
  },
  {
   "cell_type": "markdown",
   "metadata": {},
   "source": [
    "### Case2: Long experiment time "
   ]
  },
  {
   "cell_type": "code",
   "execution_count": 7,
   "metadata": {
    "execution": {
     "iopub.execute_input": "2020-12-21T09:41:29.066558Z",
     "iopub.status.busy": "2020-12-21T09:41:29.065881Z",
     "iopub.status.idle": "2020-12-21T09:42:29.035726Z",
     "shell.execute_reply": "2020-12-21T09:42:29.034491Z"
    }
   },
   "outputs": [
    {
     "name": "stdout",
     "output_type": "stream",
     "text": [
      "Starting experimental run with id: 15. \n",
      "Starting experimental run with id: 16. \n",
      "Starting experimental run with id: 17. \n"
     ]
    },
    {
     "name": "stdout",
     "output_type": "stream",
     "text": [
      "Starting experimental run with id: 18. \n",
      "Starting experimental run with id: 19. \n"
     ]
    },
    {
     "name": "stdout",
     "output_type": "stream",
     "text": [
      "Starting experimental run with id: 20. \n"
     ]
    },
    {
     "name": "stdout",
     "output_type": "stream",
     "text": [
      "Starting experimental run with id: 21. \n"
     ]
    },
    {
     "name": "stdout",
     "output_type": "stream",
     "text": [
      "Starting experimental run with id: 22. \n"
     ]
    },
    {
     "name": "stdout",
     "output_type": "stream",
     "text": [
      "Starting experimental run with id: 23. \n"
     ]
    },
    {
     "name": "stdout",
     "output_type": "stream",
     "text": [
      "Starting experimental run with id: 24. \n"
     ]
    },
    {
     "name": "stdout",
     "output_type": "stream",
     "text": [
      "Starting experimental run with id: 25. \n"
     ]
    },
    {
     "name": "stdout",
     "output_type": "stream",
     "text": [
      "Starting experimental run with id: 26. \n"
     ]
    },
    {
     "name": "stdout",
     "output_type": "stream",
     "text": [
      "Starting experimental run with id: 27. \n"
     ]
    },
    {
     "name": "stdout",
     "output_type": "stream",
     "text": [
      "Starting experimental run with id: 28. \n"
     ]
    }
   ],
   "source": [
    "sizes = [1,500,1000,2000,3000,4000,5000]\n",
    "nreps = 100\n",
    "t_numeric = []\n",
    "t_numeric_add = []\n",
    "t_numeric_run_ids = []\n",
    "t_array = []\n",
    "t_array_add = []\n",
    "t_array_run_ids = []\n",
    "for size in sizes:\n",
    "    tn, tna, run_id_n =  insert_data('numeric', size, nreps=nreps)\n",
    "    t_numeric.append(tn)\n",
    "    t_numeric_add.append(tna)\n",
    "    t_numeric_run_ids.append(run_id_n)\n",
    "\n",
    "    ta, taa, run_id_a =  insert_data('array', size, nreps=nreps)\n",
    "    t_array.append(ta)\n",
    "    t_array_add.append(taa)\n",
    "    t_array_run_ids.append(run_id_a)"
   ]
  },
  {
   "cell_type": "code",
   "execution_count": 8,
   "metadata": {
    "execution": {
     "iopub.execute_input": "2020-12-21T09:42:29.077073Z",
     "iopub.status.busy": "2020-12-21T09:42:29.063016Z",
     "iopub.status.idle": "2020-12-21T09:42:29.241996Z",
     "shell.execute_reply": "2020-12-21T09:42:29.242544Z"
    },
    "scrolled": true
   },
   "outputs": [
    {
     "data": {
      "image/png": "[encoded data removed]",
      "text/plain": [
       "<Figure size 432x288 with 1 Axes>"
      ]
     },
     "metadata": {
      "needs_background": "light"
     },
     "output_type": "display_data"
    }
   ],
   "source": [
    "fig, ax = plt.subplots(1,1)\n",
    "ax.plot(sizes, t_numeric, 'o-', label='Inserting row-by-row')\n",
    "ax.plot(sizes, t_numeric_add, 'o-', label='Inserting row-by-row: add_result only')\n",
    "ax.plot(sizes, t_array, 'd-', label='Inserting as binary blob')\n",
    "ax.plot(sizes, t_array_add, 'd-', label='Inserting as binary blob: add_result only')\n",
    "ax.legend()\n",
    "ax.set_xlabel('Array length')\n",
    "ax.set_ylabel('Time (s)')\n",
    "fig.tight_layout()"
   ]
  },
  {
   "cell_type": "markdown",
   "metadata": {},
   "source": [
    "However, as we increase the length of the experiment, as seen here by repeating the insertion 100 times, we see a big difference between inserting values of the data row-by-row and inserting it as a binary blob."
   ]
  },
  {
   "cell_type": "markdown",
   "metadata": {},
   "source": [
    "## Loading the data "
   ]
  },
  {
   "cell_type": "code",
   "execution_count": 9,
   "metadata": {
    "execution": {
     "iopub.execute_input": "2020-12-21T09:42:29.246780Z",
     "iopub.status.busy": "2020-12-21T09:42:29.245963Z",
     "iopub.status.idle": "2020-12-21T09:42:29.249129Z",
     "shell.execute_reply": "2020-12-21T09:42:29.248584Z"
    }
   },
   "outputs": [],
   "source": [
    "from qcodes.dataset.data_set import load_by_id\n",
    "from qcodes.dataset.data_export import get_data_by_id"
   ]
  },
  {
   "cell_type": "markdown",
   "metadata": {},
   "source": [
    "As usual you can load the data by using the ``load_by_id`` function but you will notice that the different storage methods\n",
    "are reflected in shape of the data as it is retrieved. "
   ]
  },
  {
   "cell_type": "code",
   "execution_count": 10,
   "metadata": {
    "execution": {
     "iopub.execute_input": "2020-12-21T09:42:29.252822Z",
     "iopub.status.busy": "2020-12-21T09:42:29.252308Z",
     "iopub.status.idle": "2020-12-21T09:42:29.254529Z",
     "shell.execute_reply": "2020-12-21T09:42:29.254083Z"
    }
   },
   "outputs": [],
   "source": [
    "run_id_n = t_numeric_run_ids[0]\n",
    "run_id_a = t_array_run_ids[0]"
   ]
  },
  {
   "cell_type": "code",
   "execution_count": 11,
   "metadata": {
    "execution": {
     "iopub.execute_input": "2020-12-21T09:42:29.257723Z",
     "iopub.status.busy": "2020-12-21T09:42:29.257212Z",
     "iopub.status.idle": "2020-12-21T09:42:29.266744Z",
     "shell.execute_reply": "2020-12-21T09:42:29.266274Z"
    },
    "scrolled": true
   },
   "outputs": [
    {
     "data": {
      "text/plain": [
       "{'x1': {'x1': array([0.76650003, 0.76650003, 0.44099852, 0.44099852, 0.31386437,\n",
       "         0.31386437, 0.21044441, 0.21044441, 0.56266538, 0.56266538,\n",
       "         0.75457218, 0.75457218, 0.38141248, 0.38141248, 0.57373878,\n",
       "         0.57373878, 0.27848014, 0.27848014, 0.1756352 , 0.1756352 ,\n",
       "         0.31484167, 0.31484167, 0.57332491, 0.57332491, 0.37151961,\n",
       "         0.37151961, 0.52016651, 0.52016651, 0.27107723, 0.27107723,\n",
       "         0.62604983, 0.62604983, 0.9258976 , 0.9258976 , 0.61059913,\n",
       "         0.61059913, 0.60872012, 0.60872012, 0.11811558, 0.11811558,\n",
       "         0.37464119, 0.37464119, 0.72418026, 0.72418026, 0.37935188,\n",
       "         0.37935188, 0.09093807, 0.09093807, 0.08180847, 0.08180847,\n",
       "         0.17773618, 0.17773618, 0.56347644, 0.56347644, 0.68705413,\n",
       "         0.68705413, 0.40734783, 0.40734783, 0.37420308, 0.37420308,\n",
       "         0.49803556, 0.49803556, 0.54126839, 0.54126839, 0.0031541 ,\n",
       "         0.0031541 , 0.56432419, 0.56432419, 0.68363327, 0.68363327,\n",
       "         0.55739798, 0.55739798, 0.63248352, 0.63248352, 0.16735461,\n",
       "         0.16735461, 0.01966626, 0.01966626, 0.69438895, 0.69438895,\n",
       "         0.00812341, 0.00812341, 0.58802336, 0.58802336, 0.96744444,\n",
       "         0.96744444, 0.2889244 , 0.2889244 , 0.22972583, 0.22972583,\n",
       "         0.3478713 , 0.3478713 , 0.99381423, 0.99381423, 0.86783684,\n",
       "         0.86783684, 0.81468367, 0.81468367, 0.53878514, 0.53878514,\n",
       "         0.95995428, 0.95995428, 0.19706001, 0.19706001, 0.17846483,\n",
       "         0.17846483, 0.45287792, 0.45287792, 0.85919109, 0.85919109,\n",
       "         0.92013338, 0.92013338, 0.56558964, 0.56558964, 0.64137436,\n",
       "         0.64137436, 0.94141602, 0.94141602, 0.7159042 , 0.7159042 ,\n",
       "         0.85967174, 0.85967174, 0.53419159, 0.53419159, 0.94437088,\n",
       "         0.94437088, 0.17227802, 0.17227802, 0.50327363, 0.50327363,\n",
       "         0.50771695, 0.50771695, 0.17710147, 0.17710147, 0.81251918,\n",
       "         0.81251918, 0.90939249, 0.90939249, 0.78760526, 0.78760526,\n",
       "         0.4634788 , 0.4634788 , 0.91608349, 0.91608349, 0.79566137,\n",
       "         0.79566137, 0.0751123 , 0.0751123 , 0.30223456, 0.30223456,\n",
       "         0.86259883, 0.86259883, 0.66611398, 0.66611398, 0.39000915,\n",
       "         0.39000915, 0.90371213, 0.90371213, 0.33404393, 0.33404393,\n",
       "         0.12251877, 0.12251877, 0.65121418, 0.65121418, 0.72022053,\n",
       "         0.72022053, 0.84815884, 0.84815884, 0.95517137, 0.95517137,\n",
       "         0.35638809, 0.35638809, 0.63268257, 0.63268257, 0.88901924,\n",
       "         0.88901924, 0.74680236, 0.74680236, 0.57515721, 0.57515721,\n",
       "         0.02366113, 0.02366113, 0.51085975, 0.51085975, 0.6246674 ,\n",
       "         0.6246674 , 0.16127186, 0.16127186, 0.351329  , 0.351329  ,\n",
       "         0.60388573, 0.60388573, 0.84930945, 0.84930945, 0.71649314,\n",
       "         0.71649314, 0.67911397, 0.67911397, 0.71731251, 0.71731251])}}"
      ]
     },
     "execution_count": 1,
     "metadata": {},
     "output_type": "execute_result"
    }
   ],
   "source": [
    "ds = load_by_id(run_id_n)\n",
    "ds.get_parameter_data('x1')"
   ]
  },
  {
   "cell_type": "markdown",
   "metadata": {},
   "source": [
    "And a dataset stored as binary arrays"
   ]
  },
  {
   "cell_type": "code",
   "execution_count": 12,
   "metadata": {
    "execution": {
     "iopub.execute_input": "2020-12-21T09:42:29.269961Z",
     "iopub.status.busy": "2020-12-21T09:42:29.269437Z",
     "iopub.status.idle": "2020-12-21T09:42:29.324072Z",
     "shell.execute_reply": "2020-12-21T09:42:29.323096Z"
    },
    "scrolled": true
   },
   "outputs": [
    {
     "data": {
      "text/plain": [
       "{'x1': {'x1': array([[3.71634262e-01],\n",
       "         [3.71634262e-01],\n",
       "         [3.15918378e-01],\n",
       "         [3.15918378e-01],\n",
       "         [8.06587450e-01],\n",
       "         [8.06587450e-01],\n",
       "         [7.58209383e-01],\n",
       "         [7.58209383e-01],\n",
       "         [2.27538857e-01],\n",
       "         [2.27538857e-01],\n",
       "         [7.48953464e-01],\n",
       "         [7.48953464e-01],\n",
       "         [4.12220738e-01],\n",
       "         [4.12220738e-01],\n",
       "         [8.35100736e-01],\n",
       "         [8.35100736e-01],\n",
       "         [9.04940221e-01],\n",
       "         [9.04940221e-01],\n",
       "         [9.65155540e-01],\n",
       "         [9.65155540e-01],\n",
       "         [4.37435766e-02],\n",
       "         [4.37435766e-02],\n",
       "         [8.73473397e-01],\n",
       "         [8.73473397e-01],\n",
       "         [1.13802885e-01],\n",
       "         [1.13802885e-01],\n",
       "         [8.67664552e-01],\n",
       "         [8.67664552e-01],\n",
       "         [3.75932380e-01],\n",
       "         [3.75932380e-01],\n",
       "         [9.63580633e-01],\n",
       "         [9.63580633e-01],\n",
       "         [7.55301748e-01],\n",
       "         [7.55301748e-01],\n",
       "         [5.45317284e-01],\n",
       "         [5.45317284e-01],\n",
       "         [2.01739935e-01],\n",
       "         [2.01739935e-01],\n",
       "         [8.39052129e-01],\n",
       "         [8.39052129e-01],\n",
       "         [5.66004165e-01],\n",
       "         [5.66004165e-01],\n",
       "         [7.05483861e-01],\n",
       "         [7.05483861e-01],\n",
       "         [4.58118527e-01],\n",
       "         [4.58118527e-01],\n",
       "         [5.02486906e-01],\n",
       "         [5.02486906e-01],\n",
       "         [1.18373923e-01],\n",
       "         [1.18373923e-01],\n",
       "         [3.72749635e-01],\n",
       "         [3.72749635e-01],\n",
       "         [9.97139240e-01],\n",
       "         [9.97139240e-01],\n",
       "         [9.80779179e-01],\n",
       "         [9.80779179e-01],\n",
       "         [5.43780768e-01],\n",
       "         [5.43780768e-01],\n",
       "         [5.39559332e-01],\n",
       "         [5.39559332e-01],\n",
       "         [1.29486531e-01],\n",
       "         [1.29486531e-01],\n",
       "         [6.03935071e-01],\n",
       "         [6.03935071e-01],\n",
       "         [7.91168988e-02],\n",
       "         [7.91168988e-02],\n",
       "         [4.40037315e-01],\n",
       "         [4.40037315e-01],\n",
       "         [1.26266242e-01],\n",
       "         [1.26266242e-01],\n",
       "         [1.50740852e-01],\n",
       "         [1.50740852e-01],\n",
       "         [4.06625552e-01],\n",
       "         [4.06625552e-01],\n",
       "         [6.25431061e-01],\n",
       "         [6.25431061e-01],\n",
       "         [7.36871858e-04],\n",
       "         [7.36871858e-04],\n",
       "         [2.86442762e-01],\n",
       "         [2.86442762e-01],\n",
       "         [1.50085487e-01],\n",
       "         [1.50085487e-01],\n",
       "         [7.27966491e-01],\n",
       "         [7.27966491e-01],\n",
       "         [2.06566570e-01],\n",
       "         [2.06566570e-01],\n",
       "         [7.90065247e-01],\n",
       "         [7.90065247e-01],\n",
       "         [8.68236756e-01],\n",
       "         [8.68236756e-01],\n",
       "         [6.41225798e-01],\n",
       "         [6.41225798e-01],\n",
       "         [5.92938403e-01],\n",
       "         [5.92938403e-01],\n",
       "         [9.78813647e-01],\n",
       "         [9.78813647e-01],\n",
       "         [7.00744768e-01],\n",
       "         [7.00744768e-01],\n",
       "         [1.38013387e-01],\n",
       "         [1.38013387e-01],\n",
       "         [8.24460163e-01],\n",
       "         [8.24460163e-01],\n",
       "         [9.37168084e-01],\n",
       "         [9.37168084e-01],\n",
       "         [6.83337388e-01],\n",
       "         [6.83337388e-01],\n",
       "         [9.32908739e-01],\n",
       "         [9.32908739e-01],\n",
       "         [1.53669367e-01],\n",
       "         [1.53669367e-01],\n",
       "         [3.50334173e-01],\n",
       "         [3.50334173e-01],\n",
       "         [8.05240174e-02],\n",
       "         [8.05240174e-02],\n",
       "         [8.63853364e-01],\n",
       "         [8.63853364e-01],\n",
       "         [4.79861643e-02],\n",
       "         [4.79861643e-02],\n",
       "         [4.80862300e-01],\n",
       "         [4.80862300e-01],\n",
       "         [3.86978468e-01],\n",
       "         [3.86978468e-01],\n",
       "         [7.59609339e-01],\n",
       "         [7.59609339e-01],\n",
       "         [5.61007392e-01],\n",
       "         [5.61007392e-01],\n",
       "         [1.46134061e-01],\n",
       "         [1.46134061e-01],\n",
       "         [6.74844398e-01],\n",
       "         [6.74844398e-01],\n",
       "         [9.04246704e-01],\n",
       "         [9.04246704e-01],\n",
       "         [2.77110510e-04],\n",
       "         [2.77110510e-04],\n",
       "         [1.66259643e-01],\n",
       "         [1.66259643e-01],\n",
       "         [4.78012186e-01],\n",
       "         [4.78012186e-01],\n",
       "         [4.17078644e-01],\n",
       "         [4.17078644e-01],\n",
       "         [1.80986248e-01],\n",
       "         [1.80986248e-01],\n",
       "         [7.08941413e-01],\n",
       "         [7.08941413e-01],\n",
       "         [9.21307626e-01],\n",
       "         [9.21307626e-01],\n",
       "         [8.94123830e-01],\n",
       "         [8.94123830e-01],\n",
       "         [2.85424514e-01],\n",
       "         [2.85424514e-01],\n",
       "         [1.94013276e-01],\n",
       "         [1.94013276e-01],\n",
       "         [1.17134374e-01],\n",
       "         [1.17134374e-01],\n",
       "         [5.49645820e-01],\n",
       "         [5.49645820e-01],\n",
       "         [5.65374533e-01],\n",
       "         [5.65374533e-01],\n",
       "         [6.28409734e-01],\n",
       "         [6.28409734e-01],\n",
       "         [1.72767184e-01],\n",
       "         [1.72767184e-01],\n",
       "         [7.65034868e-01],\n",
       "         [7.65034868e-01],\n",
       "         [9.62677228e-01],\n",
       "         [9.62677228e-01],\n",
       "         [3.29009832e-01],\n",
       "         [3.29009832e-01],\n",
       "         [1.97095219e-01],\n",
       "         [1.97095219e-01],\n",
       "         [3.11903201e-01],\n",
       "         [3.11903201e-01],\n",
       "         [1.80500426e-02],\n",
       "         [1.80500426e-02],\n",
       "         [2.18865992e-01],\n",
       "         [2.18865992e-01],\n",
       "         [8.39140890e-01],\n",
       "         [8.39140890e-01],\n",
       "         [3.02092401e-01],\n",
       "         [3.02092401e-01],\n",
       "         [2.58659580e-02],\n",
       "         [2.58659580e-02],\n",
       "         [5.27841599e-01],\n",
       "         [5.27841599e-01],\n",
       "         [6.06052993e-01],\n",
       "         [6.06052993e-01],\n",
       "         [3.39040675e-01],\n",
       "         [3.39040675e-01],\n",
       "         [5.28133988e-01],\n",
       "         [5.28133988e-01],\n",
       "         [7.10463911e-01],\n",
       "         [7.10463911e-01],\n",
       "         [8.51612541e-01],\n",
       "         [8.51612541e-01],\n",
       "         [3.08742785e-01],\n",
       "         [3.08742785e-01],\n",
       "         [3.83982439e-02],\n",
       "         [3.83982439e-02],\n",
       "         [3.79101525e-01],\n",
       "         [3.79101525e-01]])}}"
      ]
     },
     "execution_count": 1,
     "metadata": {},
     "output_type": "execute_result"
    }
   ],
   "source": [
    "ds = load_by_id(run_id_a)\n",
    "ds.get_parameter_data('x1')"
   ]
  },
  {
   "cell_type": "code",
   "execution_count": null,
   "metadata": {},
   "outputs": [],
   "source": []
  }
 ],
 "metadata": {
  "kernelspec": {
   "display_name": "Python 3",
   "language": "python",
   "name": "python3"
  },
  "language_info": {
   "codemirror_mode": {
    "name": "ipython",
    "version": 3
   },
   "file_extension": ".py",
   "mimetype": "text/x-python",
   "name": "python",
   "nbconvert_exporter": "python",
   "pygments_lexer": "ipython3",
   "version": "3.7.9"
  },
  "nbsphinx": {
   "timeout": 600
  },
  "toc": {
   "base_numbering": 1,
   "nav_menu": {},
   "number_sections": true,
   "sideBar": true,
   "skip_h1_title": false,
   "title_cell": "Table of Contents",
   "title_sidebar": "Contents",
   "toc_cell": false,
   "toc_position": {},
   "toc_section_display": true,
   "toc_window_display": false
  },
  "varInspector": {
   "cols": {
    "lenName": 16,
    "lenType": 16,
    "lenVar": 40
   },
   "kernels_config": {
    "python": {
     "delete_cmd_postfix": "",
     "delete_cmd_prefix": "del ",
     "library": "var_list.py",
     "varRefreshCmd": "print(var_dic_list())"
    },
    "r": {
     "delete_cmd_postfix": ") ",
     "delete_cmd_prefix": "rm(",
     "library": "var_list.r",
     "varRefreshCmd": "cat(var_dic_list()) "
    }
   },
   "types_to_exclude": [
    "module",
    "function",
    "builtin_function_or_method",
    "instance",
    "_Feature"
   ],
   "window_display": false
  }
 },
 "nbformat": 4,
 "nbformat_minor": 2
}
