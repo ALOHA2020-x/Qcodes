{
 "cells": [
  {
   "cell_type": "markdown",
   "metadata": {},
   "source": [
    "# DataSet Performance\n",
    "\n",
    "This notebook shows the trade-off between inserting data into a database row-by-row and as binary blobs. Inserting the data row-by-row means that we have direct access to all the data and may perform queries directly on the values of the data. On the other hand, as we shall see, this is much slower than inserting the data directly as binary blobs."
   ]
  },
  {
   "cell_type": "markdown",
   "metadata": {},
   "source": [
    "First, we choose a new location for the database to ensure that we don't add a bunch of benchmarking data to the default one."
   ]
  },
  {
   "cell_type": "code",
   "execution_count": 1,
   "metadata": {
    "execution": {
     "iopub.execute_input": "2020-11-25T07:59:43.189657Z",
     "iopub.status.busy": "2020-11-25T07:59:43.189054Z",
     "iopub.status.idle": "2020-11-25T07:59:44.387807Z",
     "shell.execute_reply": "2020-11-25T07:59:44.386970Z"
    }
   },
   "outputs": [
    {
     "name": "stdout",
     "output_type": "stream",
     "text": [
      "Logging hadn't been started.\n",
      "Activating auto-logging. Current session state plus future input saved.\n",
      "Filename       : /home/vsts/.qcodes/logs/command_history.log\n",
      "Mode           : append\n",
      "Output logging : True\n",
      "Raw input log  : False\n",
      "Timestamping   : True\n",
      "State          : active\n"
     ]
    },
    {
     "name": "stdout",
     "output_type": "stream",
     "text": [
      "Qcodes Logfile : /home/vsts/.qcodes/logs/201125-14267-qcodes.log\n"
     ]
    }
   ],
   "source": [
    "import os\n",
    "cwd = os.getcwd()\n",
    "import qcodes as qc\n",
    "qc.config[\"core\"][\"db_location\"] = os.path.join(cwd, 'testing.db')\n"
   ]
  },
  {
   "cell_type": "code",
   "execution_count": 2,
   "metadata": {
    "execution": {
     "iopub.execute_input": "2020-11-25T07:59:44.395345Z",
     "iopub.status.busy": "2020-11-25T07:59:44.394487Z",
     "iopub.status.idle": "2020-11-25T07:59:44.605023Z",
     "shell.execute_reply": "2020-11-25T07:59:44.604167Z"
    }
   },
   "outputs": [],
   "source": [
    "%matplotlib inline\n",
    "import time\n",
    "import matplotlib.pyplot as plt\n",
    "import numpy as np\n",
    "\n",
    "import qcodes as qc\n",
    "from qcodes.instrument.parameter import ManualParameter\n",
    "from qcodes.dataset.experiment_container import (Experiment,\n",
    "                                                 load_last_experiment,\n",
    "                                                 new_experiment)\n",
    "from qcodes.dataset.sqlite.database import initialise_database\n",
    "from qcodes import load_or_create_experiment\n",
    "from qcodes.dataset.measurements import Measurement"
   ]
  },
  {
   "cell_type": "code",
   "execution_count": 3,
   "metadata": {
    "execution": {
     "iopub.execute_input": "2020-11-25T07:59:44.609169Z",
     "iopub.status.busy": "2020-11-25T07:59:44.608456Z",
     "iopub.status.idle": "2020-11-25T07:59:44.758105Z",
     "shell.execute_reply": "2020-11-25T07:59:44.757359Z"
    }
   },
   "outputs": [
    {
     "name": "stdout",
     "output_type": "stream",
     "text": [
      "\r",
      "0it [00:00, ?it/s]"
     ]
    },
    {
     "name": "stdout",
     "output_type": "stream",
     "text": [
      "\r",
      "Upgrading database; v0 -> v1: : 0it [00:00, ?it/s]"
     ]
    },
    {
     "name": "stdout",
     "output_type": "stream",
     "text": [
      "\r",
      "Upgrading database; v0 -> v1: : 0it [00:00, ?it/s]"
     ]
    },
    {
     "name": "stdout",
     "output_type": "stream",
     "text": [
      "\n",
      "\r",
      "  0%|          | 0/1 [00:00<?, ?it/s]"
     ]
    },
    {
     "name": "stdout",
     "output_type": "stream",
     "text": [
      "\r",
      "Upgrading database; v1 -> v2:   0%|          | 0/1 [00:00<?, ?it/s]"
     ]
    },
    {
     "name": "stdout",
     "output_type": "stream",
     "text": [
      "\r",
      "Upgrading database; v1 -> v2: 100%|██████████| 1/1 [00:00<00:00, 536.01it/s]"
     ]
    },
    {
     "name": "stdout",
     "output_type": "stream",
     "text": [
      "\n",
      "\r",
      "0it [00:00, ?it/s]"
     ]
    },
    {
     "name": "stdout",
     "output_type": "stream",
     "text": [
      "\r",
      "Upgrading database; v2 -> v3: : 0it [00:00, ?it/s]"
     ]
    },
    {
     "name": "stdout",
     "output_type": "stream",
     "text": [
      "\r",
      "Upgrading database; v2 -> v3: : 0it [00:00, ?it/s]"
     ]
    },
    {
     "name": "stdout",
     "output_type": "stream",
     "text": [
      "\n",
      "\r",
      "0it [00:00, ?it/s]"
     ]
    },
    {
     "name": "stdout",
     "output_type": "stream",
     "text": [
      "\r",
      "Upgrading database; v3 -> v4: : 0it [00:00, ?it/s]"
     ]
    },
    {
     "name": "stdout",
     "output_type": "stream",
     "text": [
      "\r",
      "Upgrading database; v3 -> v4: : 0it [00:00, ?it/s]"
     ]
    },
    {
     "name": "stdout",
     "output_type": "stream",
     "text": [
      "\n",
      "\r",
      "  0%|          | 0/1 [00:00<?, ?it/s]"
     ]
    },
    {
     "name": "stdout",
     "output_type": "stream",
     "text": [
      "\r",
      "Upgrading database; v4 -> v5:   0%|          | 0/1 [00:00<?, ?it/s]"
     ]
    },
    {
     "name": "stdout",
     "output_type": "stream",
     "text": [
      "\r",
      "Upgrading database; v4 -> v5: 100%|██████████| 1/1 [00:00<00:00, 467.12it/s]"
     ]
    },
    {
     "name": "stdout",
     "output_type": "stream",
     "text": [
      "\n",
      "\r",
      "0it [00:00, ?it/s]"
     ]
    },
    {
     "name": "stdout",
     "output_type": "stream",
     "text": [
      "\r",
      "Upgrading database; v5 -> v6: : 0it [00:00, ?it/s]"
     ]
    },
    {
     "name": "stdout",
     "output_type": "stream",
     "text": [
      "\r",
      "Upgrading database; v5 -> v6: : 0it [00:00, ?it/s]"
     ]
    },
    {
     "name": "stdout",
     "output_type": "stream",
     "text": [
      "\n",
      "\r",
      "  0%|          | 0/1 [00:00<?, ?it/s]"
     ]
    },
    {
     "name": "stdout",
     "output_type": "stream",
     "text": [
      "\r",
      "Upgrading database; v6 -> v7:   0%|          | 0/1 [00:00<?, ?it/s]"
     ]
    },
    {
     "name": "stdout",
     "output_type": "stream",
     "text": [
      "\r",
      "Upgrading database; v6 -> v7: 100%|██████████| 1/1 [00:00<00:00, 221.70it/s]"
     ]
    },
    {
     "name": "stdout",
     "output_type": "stream",
     "text": [
      "\n",
      "\r",
      "  0%|          | 0/1 [00:00<?, ?it/s]"
     ]
    },
    {
     "name": "stdout",
     "output_type": "stream",
     "text": [
      "\r",
      "Upgrading database; v7 -> v8:   0%|          | 0/1 [00:00<?, ?it/s]"
     ]
    },
    {
     "name": "stdout",
     "output_type": "stream",
     "text": [
      "\r",
      "Upgrading database; v7 -> v8: 100%|██████████| 1/1 [00:00<00:00, 518.84it/s]"
     ]
    },
    {
     "name": "stdout",
     "output_type": "stream",
     "text": [
      "\n",
      "\r",
      "  0%|          | 0/1 [00:00<?, ?it/s]"
     ]
    },
    {
     "name": "stdout",
     "output_type": "stream",
     "text": [
      "\r",
      "Upgrading database; v8 -> v9:   0%|          | 0/1 [00:00<?, ?it/s]"
     ]
    },
    {
     "name": "stdout",
     "output_type": "stream",
     "text": [
      "\r",
      "Upgrading database; v8 -> v9: 100%|██████████| 1/1 [00:00<00:00, 996.51it/s]"
     ]
    },
    {
     "name": "stdout",
     "output_type": "stream",
     "text": [
      "\n"
     ]
    }
   ],
   "source": [
    "initialise_database()\n",
    "exp = load_or_create_experiment(experiment_name='tutorial_exp', sample_name=\"no sample\")"
   ]
  },
  {
   "cell_type": "markdown",
   "metadata": {},
   "source": [
    "Here, we define a simple function to benchmark the time it takes to insert n points with either numeric or array data type.\n",
    "We will compare both the time used to call ``add_result`` and the time used for the full measurement."
   ]
  },
  {
   "cell_type": "code",
   "execution_count": 4,
   "metadata": {
    "execution": {
     "iopub.execute_input": "2020-11-25T07:59:44.768193Z",
     "iopub.status.busy": "2020-11-25T07:59:44.767542Z",
     "iopub.status.idle": "2020-11-25T07:59:44.770805Z",
     "shell.execute_reply": "2020-11-25T07:59:44.771383Z"
    }
   },
   "outputs": [],
   "source": [
    "def insert_data(paramtype, npoints, nreps=1):\n",
    "\n",
    "    meas = Measurement(exp=exp)\n",
    "\n",
    "    x1 = ManualParameter('x1')\n",
    "    x2 = ManualParameter('x2')\n",
    "    x3 = ManualParameter('x3')\n",
    "    y1 = ManualParameter('y1')\n",
    "    y2 = ManualParameter('y2')\n",
    "\n",
    "    meas.register_parameter(x1, paramtype=paramtype)\n",
    "    meas.register_parameter(x2, paramtype=paramtype)\n",
    "    meas.register_parameter(x3, paramtype=paramtype)\n",
    "    meas.register_parameter(y1, setpoints=[x1, x2, x3],\n",
    "                            paramtype=paramtype)\n",
    "    meas.register_parameter(y2, setpoints=[x1, x2, x3],\n",
    "                            paramtype=paramtype)\n",
    "    start = time.perf_counter()\n",
    "    with meas.run() as datasaver:\n",
    "        start_adding = time.perf_counter()\n",
    "        for i in range(nreps):\n",
    "            datasaver.add_result((x1, np.random.rand(npoints)),\n",
    "                                 (x2, np.random.rand(npoints)),\n",
    "                                 (x3, np.random.rand(npoints)),\n",
    "                                 (y1, np.random.rand(npoints)),\n",
    "                                 (y2, np.random.rand(npoints)))\n",
    "        stop_adding = time.perf_counter()\n",
    "        run_id = datasaver.run_id\n",
    "    stop = time.perf_counter()\n",
    "    tot_time = stop - start\n",
    "    add_time = stop_adding - start_adding\n",
    "    return tot_time, add_time, run_id"
   ]
  },
  {
   "cell_type": "markdown",
   "metadata": {},
   "source": [
    "## Comparison between numeric/array data and binary blob"
   ]
  },
  {
   "cell_type": "markdown",
   "metadata": {},
   "source": [
    "### Case1: Short experiment time"
   ]
  },
  {
   "cell_type": "code",
   "execution_count": 5,
   "metadata": {
    "execution": {
     "iopub.execute_input": "2020-11-25T07:59:44.777807Z",
     "iopub.status.busy": "2020-11-25T07:59:44.776542Z",
     "iopub.status.idle": "2020-11-25T07:59:45.781624Z",
     "shell.execute_reply": "2020-11-25T07:59:45.782462Z"
    }
   },
   "outputs": [
    {
     "name": "stdout",
     "output_type": "stream",
     "text": [
      "Starting experimental run with id: 1. \n",
      "Starting experimental run with id: 2. \n",
      "Starting experimental run with id: 3. \n"
     ]
    },
    {
     "name": "stdout",
     "output_type": "stream",
     "text": [
      "Starting experimental run with id: 4. \n"
     ]
    },
    {
     "name": "stdout",
     "output_type": "stream",
     "text": [
      "Starting experimental run with id: 5. \n"
     ]
    },
    {
     "name": "stdout",
     "output_type": "stream",
     "text": [
      "Starting experimental run with id: 6. \n",
      "Starting experimental run with id: 7. \n"
     ]
    },
    {
     "name": "stdout",
     "output_type": "stream",
     "text": [
      "Starting experimental run with id: 8. \n"
     ]
    },
    {
     "name": "stdout",
     "output_type": "stream",
     "text": [
      "Starting experimental run with id: 9. \n"
     ]
    },
    {
     "name": "stdout",
     "output_type": "stream",
     "text": [
      "Starting experimental run with id: 10. \n"
     ]
    },
    {
     "name": "stdout",
     "output_type": "stream",
     "text": [
      "Starting experimental run with id: 11. \n"
     ]
    },
    {
     "name": "stdout",
     "output_type": "stream",
     "text": [
      "Starting experimental run with id: 12. \n"
     ]
    },
    {
     "name": "stdout",
     "output_type": "stream",
     "text": [
      "Starting experimental run with id: 13. \n"
     ]
    },
    {
     "name": "stdout",
     "output_type": "stream",
     "text": [
      "Starting experimental run with id: 14. \n"
     ]
    }
   ],
   "source": [
    "sizes = [1,500,1000,2000,3000,4000,5000]\n",
    "t_numeric = []\n",
    "t_numeric_add = []\n",
    "t_array = []\n",
    "t_array_add = []\n",
    "for size in sizes:\n",
    "    tn, tna, run_id_n =  insert_data('numeric', size)\n",
    "    t_numeric.append(tn)\n",
    "    t_numeric_add.append(tna)\n",
    "\n",
    "    ta, taa, run_id_a =  insert_data('array', size)\n",
    "    t_array.append(ta)\n",
    "    t_array_add.append(taa)"
   ]
  },
  {
   "cell_type": "code",
   "execution_count": 6,
   "metadata": {
    "execution": {
     "iopub.execute_input": "2020-11-25T07:59:45.802342Z",
     "iopub.status.busy": "2020-11-25T07:59:45.792035Z",
     "iopub.status.idle": "2020-11-25T07:59:46.037732Z",
     "shell.execute_reply": "2020-11-25T07:59:46.038576Z"
    }
   },
   "outputs": [
    {
     "data": {
      "image/png": "[encoded data removed]",
      "text/plain": [
       "<Figure size 432x288 with 1 Axes>"
      ]
     },
     "metadata": {
      "needs_background": "light"
     },
     "output_type": "display_data"
    }
   ],
   "source": [
    "fig, ax = plt.subplots(1,1)\n",
    "ax.plot(sizes, t_numeric, 'o-', label='Inserting row-by-row')\n",
    "ax.plot(sizes, t_numeric_add, 'o-', label='Inserting row-by-row: add_result only')\n",
    "ax.plot(sizes, t_array, 'd-', label='Inserting as binary blob')\n",
    "ax.plot(sizes, t_array_add, 'd-', label='Inserting as binary blob: add_result only')\n",
    "ax.legend()\n",
    "ax.set_xlabel('Array length')\n",
    "ax.set_ylabel('Time (s)')\n",
    "fig.tight_layout()"
   ]
  },
  {
   "cell_type": "markdown",
   "metadata": {},
   "source": [
    "As shown in the latter figure, the time to setup and and close the experiment is approximately 0.4 sec. In case of small array sizes, the difference between inserting values of data as arrays and inserting them row-by-row is relatively unimportant. At larger array sizes, i.e. above 10000 points, the cost of writing data as individual datapoints starts to become important.\n"
   ]
  },
  {
   "cell_type": "markdown",
   "metadata": {},
   "source": [
    "### Case2: Long experiment time "
   ]
  },
  {
   "cell_type": "code",
   "execution_count": 7,
   "metadata": {
    "execution": {
     "iopub.execute_input": "2020-11-25T07:59:46.046812Z",
     "iopub.status.busy": "2020-11-25T07:59:46.045524Z",
     "iopub.status.idle": "2020-11-25T08:00:55.823753Z",
     "shell.execute_reply": "2020-11-25T08:00:55.824277Z"
    }
   },
   "outputs": [
    {
     "name": "stdout",
     "output_type": "stream",
     "text": [
      "Starting experimental run with id: 15. \n",
      "Starting experimental run with id: 16. \n",
      "Starting experimental run with id: 17. \n"
     ]
    },
    {
     "name": "stdout",
     "output_type": "stream",
     "text": [
      "Starting experimental run with id: 18. \n",
      "Starting experimental run with id: 19. \n"
     ]
    },
    {
     "name": "stdout",
     "output_type": "stream",
     "text": [
      "Starting experimental run with id: 20. \n"
     ]
    },
    {
     "name": "stdout",
     "output_type": "stream",
     "text": [
      "Starting experimental run with id: 21. \n"
     ]
    },
    {
     "name": "stdout",
     "output_type": "stream",
     "text": [
      "Starting experimental run with id: 22. \n"
     ]
    },
    {
     "name": "stdout",
     "output_type": "stream",
     "text": [
      "Starting experimental run with id: 23. \n"
     ]
    },
    {
     "name": "stdout",
     "output_type": "stream",
     "text": [
      "Starting experimental run with id: 24. \n"
     ]
    },
    {
     "name": "stdout",
     "output_type": "stream",
     "text": [
      "Starting experimental run with id: 25. \n"
     ]
    },
    {
     "name": "stdout",
     "output_type": "stream",
     "text": [
      "Starting experimental run with id: 26. \n"
     ]
    },
    {
     "name": "stdout",
     "output_type": "stream",
     "text": [
      "Starting experimental run with id: 27. \n"
     ]
    },
    {
     "name": "stdout",
     "output_type": "stream",
     "text": [
      "Starting experimental run with id: 28. \n"
     ]
    }
   ],
   "source": [
    "sizes = [1,500,1000,2000,3000,4000,5000]\n",
    "nreps = 100\n",
    "t_numeric = []\n",
    "t_numeric_add = []\n",
    "t_numeric_run_ids = []\n",
    "t_array = []\n",
    "t_array_add = []\n",
    "t_array_run_ids = []\n",
    "for size in sizes:\n",
    "    tn, tna, run_id_n =  insert_data('numeric', size, nreps=nreps)\n",
    "    t_numeric.append(tn)\n",
    "    t_numeric_add.append(tna)\n",
    "    t_numeric_run_ids.append(run_id_n)\n",
    "\n",
    "    ta, taa, run_id_a =  insert_data('array', size, nreps=nreps)\n",
    "    t_array.append(ta)\n",
    "    t_array_add.append(taa)\n",
    "    t_array_run_ids.append(run_id_a)"
   ]
  },
  {
   "cell_type": "code",
   "execution_count": 8,
   "metadata": {
    "execution": {
     "iopub.execute_input": "2020-11-25T08:00:55.856195Z",
     "iopub.status.busy": "2020-11-25T08:00:55.847557Z",
     "iopub.status.idle": "2020-11-25T08:00:56.087920Z",
     "shell.execute_reply": "2020-11-25T08:00:56.087184Z"
    },
    "scrolled": true
   },
   "outputs": [
    {
     "data": {
      "image/png": "[encoded data removed]",
      "text/plain": [
       "<Figure size 432x288 with 1 Axes>"
      ]
     },
     "metadata": {
      "needs_background": "light"
     },
     "output_type": "display_data"
    }
   ],
   "source": [
    "fig, ax = plt.subplots(1,1)\n",
    "ax.plot(sizes, t_numeric, 'o-', label='Inserting row-by-row')\n",
    "ax.plot(sizes, t_numeric_add, 'o-', label='Inserting row-by-row: add_result only')\n",
    "ax.plot(sizes, t_array, 'd-', label='Inserting as binary blob')\n",
    "ax.plot(sizes, t_array_add, 'd-', label='Inserting as binary blob: add_result only')\n",
    "ax.legend()\n",
    "ax.set_xlabel('Array length')\n",
    "ax.set_ylabel('Time (s)')\n",
    "fig.tight_layout()"
   ]
  },
  {
   "cell_type": "markdown",
   "metadata": {},
   "source": [
    "However, as we increase the length of the experiment, as seen here by repeating the insertion 100 times, we see a big difference between inserting values of the data row-by-row and inserting it as a binary blob."
   ]
  },
  {
   "cell_type": "markdown",
   "metadata": {},
   "source": [
    "## Loading the data "
   ]
  },
  {
   "cell_type": "code",
   "execution_count": 9,
   "metadata": {
    "execution": {
     "iopub.execute_input": "2020-11-25T08:00:56.093461Z",
     "iopub.status.busy": "2020-11-25T08:00:56.092415Z",
     "iopub.status.idle": "2020-11-25T08:00:56.096792Z",
     "shell.execute_reply": "2020-11-25T08:00:56.097264Z"
    }
   },
   "outputs": [],
   "source": [
    "from qcodes.dataset.data_set import load_by_id\n",
    "from qcodes.dataset.data_export import get_data_by_id"
   ]
  },
  {
   "cell_type": "markdown",
   "metadata": {},
   "source": [
    "As usual you can load the data by using the ``load_by_id`` function but you will notice that the different storage methods\n",
    "are reflected in shape of the data as it is retrieved. "
   ]
  },
  {
   "cell_type": "code",
   "execution_count": 10,
   "metadata": {
    "execution": {
     "iopub.execute_input": "2020-11-25T08:00:56.103143Z",
     "iopub.status.busy": "2020-11-25T08:00:56.101696Z",
     "iopub.status.idle": "2020-11-25T08:00:56.103749Z",
     "shell.execute_reply": "2020-11-25T08:00:56.104532Z"
    }
   },
   "outputs": [],
   "source": [
    "run_id_n = t_numeric_run_ids[0]\n",
    "run_id_a = t_array_run_ids[0]"
   ]
  },
  {
   "cell_type": "code",
   "execution_count": 11,
   "metadata": {
    "execution": {
     "iopub.execute_input": "2020-11-25T08:00:56.108590Z",
     "iopub.status.busy": "2020-11-25T08:00:56.107941Z",
     "iopub.status.idle": "2020-11-25T08:00:56.120029Z",
     "shell.execute_reply": "2020-11-25T08:00:56.119283Z"
    },
    "scrolled": true
   },
   "outputs": [
    {
     "data": {
      "text/plain": [
       "{'x1': {'x1': array([0.13764474, 0.13764474, 0.36328144, 0.36328144, 0.51867785,\n",
       "         0.51867785, 0.55607527, 0.55607527, 0.99082473, 0.99082473,\n",
       "         0.90066153, 0.90066153, 0.48715721, 0.48715721, 0.98722723,\n",
       "         0.98722723, 0.17665911, 0.17665911, 0.03273355, 0.03273355,\n",
       "         0.26260366, 0.26260366, 0.85276747, 0.85276747, 0.82261847,\n",
       "         0.82261847, 0.16158646, 0.16158646, 0.61380387, 0.61380387,\n",
       "         0.15402993, 0.15402993, 0.63176005, 0.63176005, 0.71480694,\n",
       "         0.71480694, 0.61854012, 0.61854012, 0.07644577, 0.07644577,\n",
       "         0.90893578, 0.90893578, 0.09561409, 0.09561409, 0.43535041,\n",
       "         0.43535041, 0.41791915, 0.41791915, 0.12302001, 0.12302001,\n",
       "         0.5913854 , 0.5913854 , 0.47431342, 0.47431342, 0.17475685,\n",
       "         0.17475685, 0.60733423, 0.60733423, 0.13007829, 0.13007829,\n",
       "         0.12071366, 0.12071366, 0.05850334, 0.05850334, 0.55359206,\n",
       "         0.55359206, 0.00582695, 0.00582695, 0.69052339, 0.69052339,\n",
       "         0.8397717 , 0.8397717 , 0.1633576 , 0.1633576 , 0.78116194,\n",
       "         0.78116194, 0.54185047, 0.54185047, 0.6156758 , 0.6156758 ,\n",
       "         0.42742293, 0.42742293, 0.6140462 , 0.6140462 , 0.7266347 ,\n",
       "         0.7266347 , 0.55995275, 0.55995275, 0.92912477, 0.92912477,\n",
       "         0.98928605, 0.98928605, 0.18224381, 0.18224381, 0.85495359,\n",
       "         0.85495359, 0.40311417, 0.40311417, 0.03351467, 0.03351467,\n",
       "         0.02370246, 0.02370246, 0.17568365, 0.17568365, 0.4343304 ,\n",
       "         0.4343304 , 0.70426793, 0.70426793, 0.22988985, 0.22988985,\n",
       "         0.12845379, 0.12845379, 0.16410598, 0.16410598, 0.62388194,\n",
       "         0.62388194, 0.9088722 , 0.9088722 , 0.66608841, 0.66608841,\n",
       "         0.40794885, 0.40794885, 0.06036641, 0.06036641, 0.70807852,\n",
       "         0.70807852, 0.67087804, 0.67087804, 0.56709717, 0.56709717,\n",
       "         0.23342147, 0.23342147, 0.32489375, 0.32489375, 0.85423636,\n",
       "         0.85423636, 0.21528881, 0.21528881, 0.87761235, 0.87761235,\n",
       "         0.43619518, 0.43619518, 0.92719773, 0.92719773, 0.81851033,\n",
       "         0.81851033, 0.37740967, 0.37740967, 0.80671767, 0.80671767,\n",
       "         0.73034039, 0.73034039, 0.66797555, 0.66797555, 0.02871105,\n",
       "         0.02871105, 0.59685123, 0.59685123, 0.57064032, 0.57064032,\n",
       "         0.97354283, 0.97354283, 0.37530994, 0.37530994, 0.06922198,\n",
       "         0.06922198, 0.74556252, 0.74556252, 0.31590405, 0.31590405,\n",
       "         0.98278942, 0.98278942, 0.25711071, 0.25711071, 0.55970359,\n",
       "         0.55970359, 0.97651937, 0.97651937, 0.22606544, 0.22606544,\n",
       "         0.55156374, 0.55156374, 0.89378476, 0.89378476, 0.9954838 ,\n",
       "         0.9954838 , 0.96767256, 0.96767256, 0.26222291, 0.26222291,\n",
       "         0.74819641, 0.74819641, 0.87676081, 0.87676081, 0.65859543,\n",
       "         0.65859543, 0.868717  , 0.868717  , 0.49278934, 0.49278934])}}"
      ]
     },
     "execution_count": 1,
     "metadata": {},
     "output_type": "execute_result"
    }
   ],
   "source": [
    "ds = load_by_id(run_id_n)\n",
    "ds.get_parameter_data('x1')"
   ]
  },
  {
   "cell_type": "markdown",
   "metadata": {},
   "source": [
    "And a dataset stored as binary arrays"
   ]
  },
  {
   "cell_type": "code",
   "execution_count": 12,
   "metadata": {
    "execution": {
     "iopub.execute_input": "2020-11-25T08:00:56.123686Z",
     "iopub.status.busy": "2020-11-25T08:00:56.123115Z",
     "iopub.status.idle": "2020-11-25T08:00:56.196798Z",
     "shell.execute_reply": "2020-11-25T08:00:56.197410Z"
    },
    "scrolled": true
   },
   "outputs": [
    {
     "data": {
      "text/plain": [
       "{'x1': {'x1': array([[0.65984567],\n",
       "         [0.65984567],\n",
       "         [0.56672092],\n",
       "         [0.56672092],\n",
       "         [0.71423947],\n",
       "         [0.71423947],\n",
       "         [0.68998461],\n",
       "         [0.68998461],\n",
       "         [0.1696641 ],\n",
       "         [0.1696641 ],\n",
       "         [0.92016754],\n",
       "         [0.92016754],\n",
       "         [0.11643455],\n",
       "         [0.11643455],\n",
       "         [0.44739885],\n",
       "         [0.44739885],\n",
       "         [0.55315074],\n",
       "         [0.55315074],\n",
       "         [0.11119915],\n",
       "         [0.11119915],\n",
       "         [0.25484773],\n",
       "         [0.25484773],\n",
       "         [0.25808605],\n",
       "         [0.25808605],\n",
       "         [0.86029903],\n",
       "         [0.86029903],\n",
       "         [0.30446143],\n",
       "         [0.30446143],\n",
       "         [0.58460687],\n",
       "         [0.58460687],\n",
       "         [0.12009995],\n",
       "         [0.12009995],\n",
       "         [0.58812447],\n",
       "         [0.58812447],\n",
       "         [0.13987366],\n",
       "         [0.13987366],\n",
       "         [0.31413052],\n",
       "         [0.31413052],\n",
       "         [0.48945109],\n",
       "         [0.48945109],\n",
       "         [0.08665796],\n",
       "         [0.08665796],\n",
       "         [0.43099962],\n",
       "         [0.43099962],\n",
       "         [0.33337029],\n",
       "         [0.33337029],\n",
       "         [0.76411413],\n",
       "         [0.76411413],\n",
       "         [0.71854839],\n",
       "         [0.71854839],\n",
       "         [0.88419837],\n",
       "         [0.88419837],\n",
       "         [0.62384137],\n",
       "         [0.62384137],\n",
       "         [0.3976448 ],\n",
       "         [0.3976448 ],\n",
       "         [0.59831065],\n",
       "         [0.59831065],\n",
       "         [0.66126636],\n",
       "         [0.66126636],\n",
       "         [0.44813218],\n",
       "         [0.44813218],\n",
       "         [0.68712766],\n",
       "         [0.68712766],\n",
       "         [0.31857659],\n",
       "         [0.31857659],\n",
       "         [0.08943506],\n",
       "         [0.08943506],\n",
       "         [0.03098378],\n",
       "         [0.03098378],\n",
       "         [0.08486399],\n",
       "         [0.08486399],\n",
       "         [0.69050205],\n",
       "         [0.69050205],\n",
       "         [0.43030699],\n",
       "         [0.43030699],\n",
       "         [0.92869515],\n",
       "         [0.92869515],\n",
       "         [0.39831232],\n",
       "         [0.39831232],\n",
       "         [0.89837584],\n",
       "         [0.89837584],\n",
       "         [0.67373128],\n",
       "         [0.67373128],\n",
       "         [0.81575241],\n",
       "         [0.81575241],\n",
       "         [0.87887674],\n",
       "         [0.87887674],\n",
       "         [0.72142974],\n",
       "         [0.72142974],\n",
       "         [0.94898316],\n",
       "         [0.94898316],\n",
       "         [0.59497795],\n",
       "         [0.59497795],\n",
       "         [0.25734828],\n",
       "         [0.25734828],\n",
       "         [0.99821335],\n",
       "         [0.99821335],\n",
       "         [0.72861763],\n",
       "         [0.72861763],\n",
       "         [0.90610146],\n",
       "         [0.90610146],\n",
       "         [0.19941302],\n",
       "         [0.19941302],\n",
       "         [0.41613706],\n",
       "         [0.41613706],\n",
       "         [0.82271494],\n",
       "         [0.82271494],\n",
       "         [0.88427767],\n",
       "         [0.88427767],\n",
       "         [0.78658254],\n",
       "         [0.78658254],\n",
       "         [0.38242561],\n",
       "         [0.38242561],\n",
       "         [0.13809351],\n",
       "         [0.13809351],\n",
       "         [0.9390348 ],\n",
       "         [0.9390348 ],\n",
       "         [0.94417269],\n",
       "         [0.94417269],\n",
       "         [0.4152496 ],\n",
       "         [0.4152496 ],\n",
       "         [0.62441046],\n",
       "         [0.62441046],\n",
       "         [0.95479819],\n",
       "         [0.95479819],\n",
       "         [0.68120686],\n",
       "         [0.68120686],\n",
       "         [0.07867236],\n",
       "         [0.07867236],\n",
       "         [0.66677826],\n",
       "         [0.66677826],\n",
       "         [0.9291143 ],\n",
       "         [0.9291143 ],\n",
       "         [0.22678182],\n",
       "         [0.22678182],\n",
       "         [0.53614576],\n",
       "         [0.53614576],\n",
       "         [0.01921042],\n",
       "         [0.01921042],\n",
       "         [0.65196179],\n",
       "         [0.65196179],\n",
       "         [0.98432535],\n",
       "         [0.98432535],\n",
       "         [0.99809368],\n",
       "         [0.99809368],\n",
       "         [0.51575408],\n",
       "         [0.51575408],\n",
       "         [0.60706075],\n",
       "         [0.60706075],\n",
       "         [0.50377293],\n",
       "         [0.50377293],\n",
       "         [0.45645543],\n",
       "         [0.45645543],\n",
       "         [0.424163  ],\n",
       "         [0.424163  ],\n",
       "         [0.27370588],\n",
       "         [0.27370588],\n",
       "         [0.73784248],\n",
       "         [0.73784248],\n",
       "         [0.48038606],\n",
       "         [0.48038606],\n",
       "         [0.23143568],\n",
       "         [0.23143568],\n",
       "         [0.77643763],\n",
       "         [0.77643763],\n",
       "         [0.01156689],\n",
       "         [0.01156689],\n",
       "         [0.53734732],\n",
       "         [0.53734732],\n",
       "         [0.29093511],\n",
       "         [0.29093511],\n",
       "         [0.78978077],\n",
       "         [0.78978077],\n",
       "         [0.36484384],\n",
       "         [0.36484384],\n",
       "         [0.38950461],\n",
       "         [0.38950461],\n",
       "         [0.15640433],\n",
       "         [0.15640433],\n",
       "         [0.79317058],\n",
       "         [0.79317058],\n",
       "         [0.47783093],\n",
       "         [0.47783093],\n",
       "         [0.2569461 ],\n",
       "         [0.2569461 ],\n",
       "         [0.94595696],\n",
       "         [0.94595696],\n",
       "         [0.98248555],\n",
       "         [0.98248555],\n",
       "         [0.94332135],\n",
       "         [0.94332135],\n",
       "         [0.49383171],\n",
       "         [0.49383171],\n",
       "         [0.75738246],\n",
       "         [0.75738246],\n",
       "         [0.11067253],\n",
       "         [0.11067253],\n",
       "         [0.77571094],\n",
       "         [0.77571094]])}}"
      ]
     },
     "execution_count": 1,
     "metadata": {},
     "output_type": "execute_result"
    }
   ],
   "source": [
    "ds = load_by_id(run_id_a)\n",
    "ds.get_parameter_data('x1')"
   ]
  },
  {
   "cell_type": "code",
   "execution_count": null,
   "metadata": {},
   "outputs": [],
   "source": []
  }
 ],
 "metadata": {
  "kernelspec": {
   "display_name": "Python 3",
   "language": "python",
   "name": "python3"
  },
  "language_info": {
   "codemirror_mode": {
    "name": "ipython",
    "version": 3
   },
   "file_extension": ".py",
   "mimetype": "text/x-python",
   "name": "python",
   "nbconvert_exporter": "python",
   "pygments_lexer": "ipython3",
   "version": "3.7.9"
  },
  "nbsphinx": {
   "timeout": 600
  },
  "toc": {
   "base_numbering": 1,
   "nav_menu": {},
   "number_sections": true,
   "sideBar": true,
   "skip_h1_title": false,
   "title_cell": "Table of Contents",
   "title_sidebar": "Contents",
   "toc_cell": false,
   "toc_position": {},
   "toc_section_display": true,
   "toc_window_display": false
  },
  "varInspector": {
   "cols": {
    "lenName": 16,
    "lenType": 16,
    "lenVar": 40
   },
   "kernels_config": {
    "python": {
     "delete_cmd_postfix": "",
     "delete_cmd_prefix": "del ",
     "library": "var_list.py",
     "varRefreshCmd": "print(var_dic_list())"
    },
    "r": {
     "delete_cmd_postfix": ") ",
     "delete_cmd_prefix": "rm(",
     "library": "var_list.r",
     "varRefreshCmd": "cat(var_dic_list()) "
    }
   },
   "types_to_exclude": [
    "module",
    "function",
    "builtin_function_or_method",
    "instance",
    "_Feature"
   ],
   "window_display": false
  }
 },
 "nbformat": 4,
 "nbformat_minor": 2
}
