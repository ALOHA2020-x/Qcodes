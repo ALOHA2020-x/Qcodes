{
 "cells": [
  {
   "cell_type": "markdown",
   "metadata": {},
   "source": [
    "# DataSet Performance\n",
    "\n",
    "This notebook shows the trade-off between inserting data into a database row-by-row and as binary blobs. Inserting the data row-by-row means that we have direct access to all the data and may perform queries directly on the values of the data. On the other hand, as we shall see, this is much slower than inserting the data directly as binary blobs."
   ]
  },
  {
   "cell_type": "markdown",
   "metadata": {},
   "source": [
    "First, we choose a new location for the database to ensure that we don't add a bunch of benchmarking data to the default one."
   ]
  },
  {
   "cell_type": "code",
   "execution_count": 1,
   "metadata": {},
   "outputs": [
    {
     "name": "stdout",
     "output_type": "stream",
     "text": [
      "Logging hadn't been started.\n",
      "Activating auto-logging. Current session state plus future input saved.\n",
      "Filename       : /home/vsts/.qcodes/logs/command_history.log\n",
      "Mode           : append\n",
      "Output logging : True\n",
      "Raw input log  : False\n",
      "Timestamping   : True\n",
      "State          : active\n"
     ]
    },
    {
     "name": "stdout",
     "output_type": "stream",
     "text": [
      "Qcodes Logfile : /home/vsts/.qcodes/logs/200624-19744-qcodes.log\n"
     ]
    }
   ],
   "source": [
    "import os\n",
    "cwd = os.getcwd()\n",
    "import qcodes as qc\n",
    "qc.config[\"core\"][\"db_location\"] = os.path.join(cwd, 'testing.db')\n"
   ]
  },
  {
   "cell_type": "code",
   "execution_count": 2,
   "metadata": {},
   "outputs": [],
   "source": [
    "%matplotlib inline\n",
    "import time\n",
    "import matplotlib.pyplot as plt\n",
    "import numpy as np\n",
    "\n",
    "import qcodes as qc\n",
    "from qcodes.instrument.parameter import ManualParameter\n",
    "from qcodes.dataset.experiment_container import (Experiment,\n",
    "                                                 load_last_experiment,\n",
    "                                                 new_experiment)\n",
    "from qcodes.dataset.sqlite.database import initialise_database\n",
    "from qcodes import load_or_create_experiment\n",
    "from qcodes.dataset.measurements import Measurement"
   ]
  },
  {
   "cell_type": "code",
   "execution_count": 3,
   "metadata": {},
   "outputs": [
    {
     "name": "stdout",
     "output_type": "stream",
     "text": [
      "\r",
      "0it [00:00, ?it/s]"
     ]
    },
    {
     "name": "stdout",
     "output_type": "stream",
     "text": [
      "\r",
      "Upgrading database; v0 -> v1: : 0it [00:00, ?it/s]"
     ]
    },
    {
     "name": "stdout",
     "output_type": "stream",
     "text": [
      "\r",
      "Upgrading database; v0 -> v1: : 0it [00:00, ?it/s]"
     ]
    },
    {
     "name": "stdout",
     "output_type": "stream",
     "text": [
      "\n",
      "\r",
      "  0%|          | 0/1 [00:00<?, ?it/s]"
     ]
    },
    {
     "name": "stdout",
     "output_type": "stream",
     "text": [
      "\r",
      "Upgrading database; v1 -> v2:   0%|          | 0/1 [00:00<?, ?it/s]"
     ]
    },
    {
     "name": "stdout",
     "output_type": "stream",
     "text": [
      "\r",
      "Upgrading database; v1 -> v2: 100%|██████████| 1/1 [00:00<00:00, 922.84it/s]"
     ]
    },
    {
     "name": "stdout",
     "output_type": "stream",
     "text": [
      "\n",
      "\r",
      "0it [00:00, ?it/s]"
     ]
    },
    {
     "name": "stdout",
     "output_type": "stream",
     "text": [
      "\r",
      "Upgrading database; v2 -> v3: : 0it [00:00, ?it/s]"
     ]
    },
    {
     "name": "stdout",
     "output_type": "stream",
     "text": [
      "\r",
      "Upgrading database; v2 -> v3: : 0it [00:00, ?it/s]"
     ]
    },
    {
     "name": "stdout",
     "output_type": "stream",
     "text": [
      "\n",
      "\r",
      "0it [00:00, ?it/s]"
     ]
    },
    {
     "name": "stdout",
     "output_type": "stream",
     "text": [
      "\r",
      "Upgrading database; v3 -> v4: : 0it [00:00, ?it/s]"
     ]
    },
    {
     "name": "stdout",
     "output_type": "stream",
     "text": [
      "\r",
      "Upgrading database; v3 -> v4: : 0it [00:00, ?it/s]"
     ]
    },
    {
     "name": "stdout",
     "output_type": "stream",
     "text": [
      "\n",
      "\r",
      "  0%|          | 0/1 [00:00<?, ?it/s]"
     ]
    },
    {
     "name": "stdout",
     "output_type": "stream",
     "text": [
      "\r",
      "Upgrading database; v4 -> v5:   0%|          | 0/1 [00:00<?, ?it/s]"
     ]
    },
    {
     "name": "stdout",
     "output_type": "stream",
     "text": [
      "\r",
      "Upgrading database; v4 -> v5: 100%|██████████| 1/1 [00:00<00:00, 869.65it/s]"
     ]
    },
    {
     "name": "stdout",
     "output_type": "stream",
     "text": [
      "\n",
      "\r",
      "0it [00:00, ?it/s]"
     ]
    },
    {
     "name": "stdout",
     "output_type": "stream",
     "text": [
      "\r",
      "Upgrading database; v5 -> v6: : 0it [00:00, ?it/s]"
     ]
    },
    {
     "name": "stdout",
     "output_type": "stream",
     "text": [
      "\r",
      "Upgrading database; v5 -> v6: : 0it [00:00, ?it/s]"
     ]
    },
    {
     "name": "stdout",
     "output_type": "stream",
     "text": [
      "\n",
      "\r",
      "  0%|          | 0/1 [00:00<?, ?it/s]"
     ]
    },
    {
     "name": "stdout",
     "output_type": "stream",
     "text": [
      "\r",
      "Upgrading database; v6 -> v7:   0%|          | 0/1 [00:00<?, ?it/s]"
     ]
    },
    {
     "name": "stdout",
     "output_type": "stream",
     "text": [
      "\r",
      "Upgrading database; v6 -> v7: 100%|██████████| 1/1 [00:00<00:00, 356.08it/s]"
     ]
    },
    {
     "name": "stdout",
     "output_type": "stream",
     "text": [
      "\n",
      "\r",
      "  0%|          | 0/1 [00:00<?, ?it/s]"
     ]
    },
    {
     "name": "stdout",
     "output_type": "stream",
     "text": [
      "\r",
      "Upgrading database; v7 -> v8:   0%|          | 0/1 [00:00<?, ?it/s]"
     ]
    },
    {
     "name": "stdout",
     "output_type": "stream",
     "text": [
      "\r",
      "Upgrading database; v7 -> v8: 100%|██████████| 1/1 [00:00<00:00, 723.41it/s]"
     ]
    },
    {
     "name": "stdout",
     "output_type": "stream",
     "text": [
      "\n",
      "\r",
      "  0%|          | 0/1 [00:00<?, ?it/s]"
     ]
    },
    {
     "name": "stdout",
     "output_type": "stream",
     "text": [
      "\r",
      "Upgrading database; v8 -> v9:   0%|          | 0/1 [00:00<?, ?it/s]"
     ]
    },
    {
     "name": "stdout",
     "output_type": "stream",
     "text": [
      "\r",
      "Upgrading database; v8 -> v9: 100%|██████████| 1/1 [00:00<00:00, 970.23it/s]"
     ]
    },
    {
     "name": "stdout",
     "output_type": "stream",
     "text": [
      "\n"
     ]
    }
   ],
   "source": [
    "initialise_database()\n",
    "exp = load_or_create_experiment(experiment_name='tutorial_exp', sample_name=\"no sample\")"
   ]
  },
  {
   "cell_type": "markdown",
   "metadata": {},
   "source": [
    "Here, we define a simple function to benchmark the time it takes to insert n points with either numeric or array data type.\n",
    "We will compare both the time used to call ``add_result`` and the time used for the full measurement."
   ]
  },
  {
   "cell_type": "code",
   "execution_count": 4,
   "metadata": {},
   "outputs": [],
   "source": [
    "def insert_data(paramtype, npoints, nreps=1):\n",
    "\n",
    "    meas = Measurement(exp=exp)\n",
    "\n",
    "    x1 = ManualParameter('x1')\n",
    "    x2 = ManualParameter('x2')\n",
    "    x3 = ManualParameter('x3')\n",
    "    y1 = ManualParameter('y1')\n",
    "    y2 = ManualParameter('y2')\n",
    "\n",
    "    meas.register_parameter(x1, paramtype=paramtype)\n",
    "    meas.register_parameter(x2, paramtype=paramtype)\n",
    "    meas.register_parameter(x3, paramtype=paramtype)\n",
    "    meas.register_parameter(y1, setpoints=[x1, x2, x3],\n",
    "                            paramtype=paramtype)\n",
    "    meas.register_parameter(y2, setpoints=[x1, x2, x3],\n",
    "                            paramtype=paramtype)\n",
    "    start = time.perf_counter()\n",
    "    with meas.run() as datasaver:\n",
    "        start_adding = time.perf_counter()\n",
    "        for i in range(nreps):\n",
    "            datasaver.add_result((x1, np.random.rand(npoints)),\n",
    "                                 (x2, np.random.rand(npoints)),\n",
    "                                 (x3, np.random.rand(npoints)),\n",
    "                                 (y1, np.random.rand(npoints)),\n",
    "                                 (y2, np.random.rand(npoints)))\n",
    "        stop_adding = time.perf_counter()\n",
    "        run_id = datasaver.run_id\n",
    "    stop = time.perf_counter()\n",
    "    tot_time = stop - start\n",
    "    add_time = stop_adding - start_adding\n",
    "    return tot_time, add_time, run_id"
   ]
  },
  {
   "cell_type": "markdown",
   "metadata": {},
   "source": [
    "## Comparison between numeric/array data and binary blob"
   ]
  },
  {
   "cell_type": "markdown",
   "metadata": {},
   "source": [
    "### Case1: Short experiment time"
   ]
  },
  {
   "cell_type": "code",
   "execution_count": 5,
   "metadata": {},
   "outputs": [
    {
     "name": "stdout",
     "output_type": "stream",
     "text": [
      "Starting experimental run with id: 1. \n",
      "Starting experimental run with id: 2. \n",
      "Starting experimental run with id: 3. \n"
     ]
    },
    {
     "name": "stdout",
     "output_type": "stream",
     "text": [
      "Starting experimental run with id: 4. \n"
     ]
    },
    {
     "name": "stdout",
     "output_type": "stream",
     "text": [
      "Starting experimental run with id: 5. \n"
     ]
    },
    {
     "name": "stdout",
     "output_type": "stream",
     "text": [
      "Starting experimental run with id: 6. \n",
      "Starting experimental run with id: 7. \n",
      "Starting experimental run with id: 8. \n"
     ]
    },
    {
     "name": "stdout",
     "output_type": "stream",
     "text": [
      "Starting experimental run with id: 9. \n"
     ]
    },
    {
     "name": "stdout",
     "output_type": "stream",
     "text": [
      "Starting experimental run with id: 10. \n",
      "Starting experimental run with id: 11. \n"
     ]
    },
    {
     "name": "stdout",
     "output_type": "stream",
     "text": [
      "Starting experimental run with id: 12. \n"
     ]
    },
    {
     "name": "stdout",
     "output_type": "stream",
     "text": [
      "Starting experimental run with id: 13. \n"
     ]
    },
    {
     "name": "stdout",
     "output_type": "stream",
     "text": [
      "Starting experimental run with id: 14. \n"
     ]
    }
   ],
   "source": [
    "sizes = [1,500,1000,2000,3000,4000,5000]\n",
    "t_numeric = []\n",
    "t_numeric_add = []\n",
    "t_array = []\n",
    "t_array_add = []\n",
    "for size in sizes:\n",
    "    tn, tna, run_id_n =  insert_data('numeric', size)\n",
    "    t_numeric.append(tn)\n",
    "    t_numeric_add.append(tna)\n",
    "\n",
    "    ta, taa, run_id_a =  insert_data('array', size)\n",
    "    t_array.append(ta)\n",
    "    t_array_add.append(taa)"
   ]
  },
  {
   "cell_type": "code",
   "execution_count": 6,
   "metadata": {},
   "outputs": [
    {
     "data": {
      "image/png": "[encoded data removed]",
      "text/plain": [
       "<Figure size 432x288 with 1 Axes>"
      ]
     },
     "metadata": {
      "needs_background": "light"
     },
     "output_type": "display_data"
    }
   ],
   "source": [
    "fig, ax = plt.subplots(1,1)\n",
    "ax.plot(sizes, t_numeric, 'o-', label='Inserting row-by-row')\n",
    "ax.plot(sizes, t_numeric_add, 'o-', label='Inserting row-by-row: add_result only')\n",
    "ax.plot(sizes, t_array, 'd-', label='Inserting as binary blob')\n",
    "ax.plot(sizes, t_array_add, 'd-', label='Inserting as binary blob: add_result only')\n",
    "ax.legend()\n",
    "ax.set_xlabel('Array length')\n",
    "ax.set_ylabel('Time (s)')\n",
    "fig.tight_layout()"
   ]
  },
  {
   "cell_type": "markdown",
   "metadata": {},
   "source": [
    "As shown in the latter figure, the time to setup and and close the experiment is approximately 0.4 sec. In case of small array sizes, the difference between inserting values of data as arrays and inserting them row-by-row is relatively unimportant. At larger array sizes, i.e. above 10000 points, the cost of writing data as individual datapoints starts to become important.\n"
   ]
  },
  {
   "cell_type": "markdown",
   "metadata": {},
   "source": [
    "### Case2: Long experiment time "
   ]
  },
  {
   "cell_type": "code",
   "execution_count": 7,
   "metadata": {},
   "outputs": [
    {
     "name": "stdout",
     "output_type": "stream",
     "text": [
      "Starting experimental run with id: 15. \n",
      "Starting experimental run with id: 16. \n",
      "Starting experimental run with id: 17. \n"
     ]
    },
    {
     "name": "stdout",
     "output_type": "stream",
     "text": [
      "Starting experimental run with id: 18. \n",
      "Starting experimental run with id: 19. \n"
     ]
    },
    {
     "name": "stdout",
     "output_type": "stream",
     "text": [
      "Starting experimental run with id: 20. \n"
     ]
    },
    {
     "name": "stdout",
     "output_type": "stream",
     "text": [
      "Starting experimental run with id: 21. \n"
     ]
    },
    {
     "name": "stdout",
     "output_type": "stream",
     "text": [
      "Starting experimental run with id: 22. \n"
     ]
    },
    {
     "name": "stdout",
     "output_type": "stream",
     "text": [
      "Starting experimental run with id: 23. \n"
     ]
    },
    {
     "name": "stdout",
     "output_type": "stream",
     "text": [
      "Starting experimental run with id: 24. \n"
     ]
    },
    {
     "name": "stdout",
     "output_type": "stream",
     "text": [
      "Starting experimental run with id: 25. \n"
     ]
    },
    {
     "name": "stdout",
     "output_type": "stream",
     "text": [
      "Starting experimental run with id: 26. \n"
     ]
    },
    {
     "name": "stdout",
     "output_type": "stream",
     "text": [
      "Starting experimental run with id: 27. \n"
     ]
    },
    {
     "name": "stdout",
     "output_type": "stream",
     "text": [
      "Starting experimental run with id: 28. \n"
     ]
    }
   ],
   "source": [
    "sizes = [1,500,1000,2000,3000,4000,5000]\n",
    "nreps = 100\n",
    "t_numeric = []\n",
    "t_numeric_add = []\n",
    "t_numeric_run_ids = []\n",
    "t_array = []\n",
    "t_array_add = []\n",
    "t_array_run_ids = []\n",
    "for size in sizes:\n",
    "    tn, tna, run_id_n =  insert_data('numeric', size, nreps=nreps)\n",
    "    t_numeric.append(tn)\n",
    "    t_numeric_add.append(tna)\n",
    "    t_numeric_run_ids.append(run_id_n)\n",
    "\n",
    "    ta, taa, run_id_a =  insert_data('array', size, nreps=nreps)\n",
    "    t_array.append(ta)\n",
    "    t_array_add.append(taa)\n",
    "    t_array_run_ids.append(run_id_a)"
   ]
  },
  {
   "cell_type": "code",
   "execution_count": 8,
   "metadata": {
    "scrolled": true
   },
   "outputs": [
    {
     "data": {
      "image/png": "[encoded data removed]",
      "text/plain": [
       "<Figure size 432x288 with 1 Axes>"
      ]
     },
     "metadata": {
      "needs_background": "light"
     },
     "output_type": "display_data"
    }
   ],
   "source": [
    "fig, ax = plt.subplots(1,1)\n",
    "ax.plot(sizes, t_numeric, 'o-', label='Inserting row-by-row')\n",
    "ax.plot(sizes, t_numeric_add, 'o-', label='Inserting row-by-row: add_result only')\n",
    "ax.plot(sizes, t_array, 'd-', label='Inserting as binary blob')\n",
    "ax.plot(sizes, t_array_add, 'd-', label='Inserting as binary blob: add_result only')\n",
    "ax.legend()\n",
    "ax.set_xlabel('Array length')\n",
    "ax.set_ylabel('Time (s)')\n",
    "fig.tight_layout()"
   ]
  },
  {
   "cell_type": "markdown",
   "metadata": {},
   "source": [
    "However, as we increase the length of the experiment, as seen here by repeating the insertion 100 times, we see a big difference between inserting values of the data row-by-row and inserting it as a binary blob."
   ]
  },
  {
   "cell_type": "markdown",
   "metadata": {},
   "source": [
    "## Loading the data "
   ]
  },
  {
   "cell_type": "code",
   "execution_count": 9,
   "metadata": {},
   "outputs": [],
   "source": [
    "from qcodes.dataset.data_set import load_by_id\n",
    "from qcodes.dataset.data_export import get_data_by_id"
   ]
  },
  {
   "cell_type": "markdown",
   "metadata": {},
   "source": [
    "As usual you can load the data by using the ``load_by_id`` function but you will notice that the different storage methods\n",
    "are reflected in shape of the data as it is retrieved. "
   ]
  },
  {
   "cell_type": "code",
   "execution_count": 10,
   "metadata": {},
   "outputs": [],
   "source": [
    "run_id_n = t_numeric_run_ids[0]\n",
    "run_id_a = t_array_run_ids[0]"
   ]
  },
  {
   "cell_type": "code",
   "execution_count": 11,
   "metadata": {
    "scrolled": true
   },
   "outputs": [
    {
     "data": {
      "text/plain": [
       "{'x1': {'x1': array([0.04683203, 0.04683203, 0.07254979, 0.07254979, 0.4825672 ,\n",
       "         0.4825672 , 0.95453176, 0.95453176, 0.86650477, 0.86650477,\n",
       "         0.20953398, 0.20953398, 0.92066731, 0.92066731, 0.30301447,\n",
       "         0.30301447, 0.68399486, 0.68399486, 0.41341448, 0.41341448,\n",
       "         0.02920277, 0.02920277, 0.35991356, 0.35991356, 0.63222795,\n",
       "         0.63222795, 0.27753977, 0.27753977, 0.37401718, 0.37401718,\n",
       "         0.46406825, 0.46406825, 0.83361743, 0.83361743, 0.84889985,\n",
       "         0.84889985, 0.87846963, 0.87846963, 0.96123256, 0.96123256,\n",
       "         0.86644665, 0.86644665, 0.57778534, 0.57778534, 0.20375346,\n",
       "         0.20375346, 0.86143324, 0.86143324, 0.08897496, 0.08897496,\n",
       "         0.78302293, 0.78302293, 0.69775668, 0.69775668, 0.71611292,\n",
       "         0.71611292, 0.5900477 , 0.5900477 , 0.73824776, 0.73824776,\n",
       "         0.28036954, 0.28036954, 0.00482172, 0.00482172, 0.86621331,\n",
       "         0.86621331, 0.55749131, 0.55749131, 0.59762481, 0.59762481,\n",
       "         0.47338774, 0.47338774, 0.90508302, 0.90508302, 0.88002304,\n",
       "         0.88002304, 0.23718545, 0.23718545, 0.78758802, 0.78758802,\n",
       "         0.59567918, 0.59567918, 0.22368648, 0.22368648, 0.05938457,\n",
       "         0.05938457, 0.11583824, 0.11583824, 0.02633824, 0.02633824,\n",
       "         0.70598195, 0.70598195, 0.53600383, 0.53600383, 0.62983551,\n",
       "         0.62983551, 0.84490464, 0.84490464, 0.98952471, 0.98952471,\n",
       "         0.6379786 , 0.6379786 , 0.17819016, 0.17819016, 0.62537201,\n",
       "         0.62537201, 0.38004446, 0.38004446, 0.097703  , 0.097703  ,\n",
       "         0.25034879, 0.25034879, 0.53641247, 0.53641247, 0.05623587,\n",
       "         0.05623587, 0.85686795, 0.85686795, 0.08239358, 0.08239358,\n",
       "         0.31538899, 0.31538899, 0.50417044, 0.50417044, 0.75739849,\n",
       "         0.75739849, 0.58621061, 0.58621061, 0.75440286, 0.75440286,\n",
       "         0.18578859, 0.18578859, 0.00731932, 0.00731932, 0.55468235,\n",
       "         0.55468235, 0.46460223, 0.46460223, 0.88701199, 0.88701199,\n",
       "         0.46201628, 0.46201628, 0.29564729, 0.29564729, 0.15513278,\n",
       "         0.15513278, 0.22831669, 0.22831669, 0.50773744, 0.50773744,\n",
       "         0.95461754, 0.95461754, 0.71778461, 0.71778461, 0.35250536,\n",
       "         0.35250536, 0.1373295 , 0.1373295 , 0.06108254, 0.06108254,\n",
       "         0.74643421, 0.74643421, 0.11337327, 0.11337327, 0.57587291,\n",
       "         0.57587291, 0.72190107, 0.72190107, 0.05359427, 0.05359427,\n",
       "         0.74650318, 0.74650318, 0.14624412, 0.14624412, 0.93476382,\n",
       "         0.93476382, 0.72494719, 0.72494719, 0.70035986, 0.70035986,\n",
       "         0.71851029, 0.71851029, 0.23158989, 0.23158989, 0.44843007,\n",
       "         0.44843007, 0.2851308 , 0.2851308 , 0.20529392, 0.20529392,\n",
       "         0.97709522, 0.97709522, 0.12476593, 0.12476593, 0.98086292,\n",
       "         0.98086292, 0.69388837, 0.69388837, 0.41422611, 0.41422611])}}"
      ]
     },
     "execution_count": 11,
     "metadata": {},
     "output_type": "execute_result"
    }
   ],
   "source": [
    "ds = load_by_id(run_id_n)\n",
    "ds.get_parameter_data('x1')"
   ]
  },
  {
   "cell_type": "markdown",
   "metadata": {},
   "source": [
    "And a dataset stored as binary arrays"
   ]
  },
  {
   "cell_type": "code",
   "execution_count": 12,
   "metadata": {
    "scrolled": true
   },
   "outputs": [
    {
     "data": {
      "text/plain": [
       "{'x1': {'x1': array([[0.11014527],\n",
       "         [0.11014527],\n",
       "         [0.23879379],\n",
       "         [0.23879379],\n",
       "         [0.35195957],\n",
       "         [0.35195957],\n",
       "         [0.76916551],\n",
       "         [0.76916551],\n",
       "         [0.99134228],\n",
       "         [0.99134228],\n",
       "         [0.55823898],\n",
       "         [0.55823898],\n",
       "         [0.08115956],\n",
       "         [0.08115956],\n",
       "         [0.38721799],\n",
       "         [0.38721799],\n",
       "         [0.55364272],\n",
       "         [0.55364272],\n",
       "         [0.66961815],\n",
       "         [0.66961815],\n",
       "         [0.02066979],\n",
       "         [0.02066979],\n",
       "         [0.66951831],\n",
       "         [0.66951831],\n",
       "         [0.33771101],\n",
       "         [0.33771101],\n",
       "         [0.52385258],\n",
       "         [0.52385258],\n",
       "         [0.08104381],\n",
       "         [0.08104381],\n",
       "         [0.91189897],\n",
       "         [0.91189897],\n",
       "         [0.46199386],\n",
       "         [0.46199386],\n",
       "         [0.89200323],\n",
       "         [0.89200323],\n",
       "         [0.57146584],\n",
       "         [0.57146584],\n",
       "         [0.34676025],\n",
       "         [0.34676025],\n",
       "         [0.24511619],\n",
       "         [0.24511619],\n",
       "         [0.2085888 ],\n",
       "         [0.2085888 ],\n",
       "         [0.73032514],\n",
       "         [0.73032514],\n",
       "         [0.29055498],\n",
       "         [0.29055498],\n",
       "         [0.77123115],\n",
       "         [0.77123115],\n",
       "         [0.4122244 ],\n",
       "         [0.4122244 ],\n",
       "         [0.44429718],\n",
       "         [0.44429718],\n",
       "         [0.71754989],\n",
       "         [0.71754989],\n",
       "         [0.30300316],\n",
       "         [0.30300316],\n",
       "         [0.23752387],\n",
       "         [0.23752387],\n",
       "         [0.61415092],\n",
       "         [0.61415092],\n",
       "         [0.24914396],\n",
       "         [0.24914396],\n",
       "         [0.52901599],\n",
       "         [0.52901599],\n",
       "         [0.53122053],\n",
       "         [0.53122053],\n",
       "         [0.6136755 ],\n",
       "         [0.6136755 ],\n",
       "         [0.5422946 ],\n",
       "         [0.5422946 ],\n",
       "         [0.01980916],\n",
       "         [0.01980916],\n",
       "         [0.30099979],\n",
       "         [0.30099979],\n",
       "         [0.57955901],\n",
       "         [0.57955901],\n",
       "         [0.41521673],\n",
       "         [0.41521673],\n",
       "         [0.62629082],\n",
       "         [0.62629082],\n",
       "         [0.96545815],\n",
       "         [0.96545815],\n",
       "         [0.36686476],\n",
       "         [0.36686476],\n",
       "         [0.17988507],\n",
       "         [0.17988507],\n",
       "         [0.86347027],\n",
       "         [0.86347027],\n",
       "         [0.96988605],\n",
       "         [0.96988605],\n",
       "         [0.38450829],\n",
       "         [0.38450829],\n",
       "         [0.65364203],\n",
       "         [0.65364203],\n",
       "         [0.18114894],\n",
       "         [0.18114894],\n",
       "         [0.87172492],\n",
       "         [0.87172492],\n",
       "         [0.67782273],\n",
       "         [0.67782273],\n",
       "         [0.40732772],\n",
       "         [0.40732772],\n",
       "         [0.09259545],\n",
       "         [0.09259545],\n",
       "         [0.28405049],\n",
       "         [0.28405049],\n",
       "         [0.44246318],\n",
       "         [0.44246318],\n",
       "         [0.79487411],\n",
       "         [0.79487411],\n",
       "         [0.350946  ],\n",
       "         [0.350946  ],\n",
       "         [0.80127967],\n",
       "         [0.80127967],\n",
       "         [0.47006806],\n",
       "         [0.47006806],\n",
       "         [0.35177786],\n",
       "         [0.35177786],\n",
       "         [0.3511768 ],\n",
       "         [0.3511768 ],\n",
       "         [0.80459799],\n",
       "         [0.80459799],\n",
       "         [0.05725795],\n",
       "         [0.05725795],\n",
       "         [0.56475394],\n",
       "         [0.56475394],\n",
       "         [0.50947377],\n",
       "         [0.50947377],\n",
       "         [0.70274561],\n",
       "         [0.70274561],\n",
       "         [0.74113516],\n",
       "         [0.74113516],\n",
       "         [0.21388232],\n",
       "         [0.21388232],\n",
       "         [0.15854323],\n",
       "         [0.15854323],\n",
       "         [0.48296202],\n",
       "         [0.48296202],\n",
       "         [0.04047265],\n",
       "         [0.04047265],\n",
       "         [0.43305363],\n",
       "         [0.43305363],\n",
       "         [0.34693042],\n",
       "         [0.34693042],\n",
       "         [0.30934006],\n",
       "         [0.30934006],\n",
       "         [0.05292832],\n",
       "         [0.05292832],\n",
       "         [0.34799781],\n",
       "         [0.34799781],\n",
       "         [0.02779319],\n",
       "         [0.02779319],\n",
       "         [0.41697382],\n",
       "         [0.41697382],\n",
       "         [0.17502559],\n",
       "         [0.17502559],\n",
       "         [0.73444854],\n",
       "         [0.73444854],\n",
       "         [0.12959182],\n",
       "         [0.12959182],\n",
       "         [0.32805042],\n",
       "         [0.32805042],\n",
       "         [0.28914637],\n",
       "         [0.28914637],\n",
       "         [0.43271439],\n",
       "         [0.43271439],\n",
       "         [0.04867456],\n",
       "         [0.04867456],\n",
       "         [0.2622046 ],\n",
       "         [0.2622046 ],\n",
       "         [0.47948413],\n",
       "         [0.47948413],\n",
       "         [0.46311923],\n",
       "         [0.46311923],\n",
       "         [0.93472472],\n",
       "         [0.93472472],\n",
       "         [0.55138186],\n",
       "         [0.55138186],\n",
       "         [0.83975717],\n",
       "         [0.83975717],\n",
       "         [0.10733261],\n",
       "         [0.10733261],\n",
       "         [0.55885189],\n",
       "         [0.55885189],\n",
       "         [0.36886729],\n",
       "         [0.36886729],\n",
       "         [0.60866088],\n",
       "         [0.60866088],\n",
       "         [0.9663044 ],\n",
       "         [0.9663044 ],\n",
       "         [0.74118764],\n",
       "         [0.74118764],\n",
       "         [0.94702755],\n",
       "         [0.94702755],\n",
       "         [0.36261851],\n",
       "         [0.36261851],\n",
       "         [0.49079042],\n",
       "         [0.49079042]])}}"
      ]
     },
     "execution_count": 12,
     "metadata": {},
     "output_type": "execute_result"
    }
   ],
   "source": [
    "ds = load_by_id(run_id_a)\n",
    "ds.get_parameter_data('x1')"
   ]
  },
  {
   "cell_type": "code",
   "execution_count": null,
   "metadata": {},
   "outputs": [],
   "source": []
  }
 ],
 "metadata": {
  "kernelspec": {
   "display_name": "Python 3",
   "language": "python",
   "name": "python3"
  },
  "language_info": {
   "codemirror_mode": {
    "name": "ipython",
    "version": 3
   },
   "file_extension": ".py",
   "mimetype": "text/x-python",
   "name": "python",
   "nbconvert_exporter": "python",
   "pygments_lexer": "ipython3",
   "version": "3.7.7"
  },
  "nbsphinx": {
   "timeout": 600
  },
  "toc": {
   "base_numbering": 1,
   "nav_menu": {},
   "number_sections": true,
   "sideBar": true,
   "skip_h1_title": false,
   "title_cell": "Table of Contents",
   "title_sidebar": "Contents",
   "toc_cell": false,
   "toc_position": {},
   "toc_section_display": true,
   "toc_window_display": false
  },
  "varInspector": {
   "cols": {
    "lenName": 16,
    "lenType": 16,
    "lenVar": 40
   },
   "kernels_config": {
    "python": {
     "delete_cmd_postfix": "",
     "delete_cmd_prefix": "del ",
     "library": "var_list.py",
     "varRefreshCmd": "print(var_dic_list())"
    },
    "r": {
     "delete_cmd_postfix": ") ",
     "delete_cmd_prefix": "rm(",
     "library": "var_list.r",
     "varRefreshCmd": "cat(var_dic_list()) "
    }
   },
   "types_to_exclude": [
    "module",
    "function",
    "builtin_function_or_method",
    "instance",
    "_Feature"
   ],
   "window_display": false
  }
 },
 "nbformat": 4,
 "nbformat_minor": 2
}
