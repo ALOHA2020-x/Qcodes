{
 "cells": [
  {
   "cell_type": "markdown",
   "metadata": {},
   "source": [
    "# DataSet Performance\n",
    "\n",
    "This notebook shows the trade-off between inserting data into a database row-by-row and as binary blobs. Inserting the data row-by-row means that we have direct access to all the data and may perform queries directly on the values of the data. On the other hand, as we shall see, this is much slower than inserting the data directly as binary blobs."
   ]
  },
  {
   "cell_type": "markdown",
   "metadata": {},
   "source": [
    "First, we choose a new location for the database to ensure that we don't add a bunch of benchmarking data to the default one."
   ]
  },
  {
   "cell_type": "code",
   "execution_count": 1,
   "metadata": {
    "execution": {
     "iopub.execute_input": "2021-01-12T09:05:25.398218Z",
     "iopub.status.busy": "2021-01-12T09:05:25.397339Z",
     "iopub.status.idle": "2021-01-12T09:05:26.530577Z",
     "shell.execute_reply": "2021-01-12T09:05:26.533806Z"
    }
   },
   "outputs": [
    {
     "name": "stdout",
     "output_type": "stream",
     "text": [
      "Logging hadn't been started.\n",
      "Activating auto-logging. Current session state plus future input saved.\n",
      "Filename       : /home/vsts/.qcodes/logs/command_history.log\n",
      "Mode           : append\n",
      "Output logging : True\n",
      "Raw input log  : False\n",
      "Timestamping   : True\n",
      "State          : active\n"
     ]
    },
    {
     "name": "stdout",
     "output_type": "stream",
     "text": [
      "Qcodes Logfile : /home/vsts/.qcodes/logs/210112-13277-qcodes.log\n"
     ]
    }
   ],
   "source": [
    "import os\n",
    "cwd = os.getcwd()\n",
    "import qcodes as qc\n",
    "qc.config[\"core\"][\"db_location\"] = os.path.join(cwd, 'testing.db')\n"
   ]
  },
  {
   "cell_type": "code",
   "execution_count": 2,
   "metadata": {
    "execution": {
     "iopub.execute_input": "2021-01-12T09:05:26.542559Z",
     "iopub.status.busy": "2021-01-12T09:05:26.541300Z",
     "iopub.status.idle": "2021-01-12T09:05:26.748230Z",
     "shell.execute_reply": "2021-01-12T09:05:26.748691Z"
    }
   },
   "outputs": [],
   "source": [
    "%matplotlib inline\n",
    "import time\n",
    "import matplotlib.pyplot as plt\n",
    "import numpy as np\n",
    "\n",
    "import qcodes as qc\n",
    "from qcodes.instrument.parameter import ManualParameter\n",
    "from qcodes.dataset.experiment_container import (Experiment,\n",
    "                                                 load_last_experiment,\n",
    "                                                 new_experiment)\n",
    "from qcodes.dataset.sqlite.database import initialise_database\n",
    "from qcodes import load_or_create_experiment\n",
    "from qcodes.dataset.measurements import Measurement"
   ]
  },
  {
   "cell_type": "code",
   "execution_count": 3,
   "metadata": {
    "execution": {
     "iopub.execute_input": "2021-01-12T09:05:26.752399Z",
     "iopub.status.busy": "2021-01-12T09:05:26.751863Z",
     "iopub.status.idle": "2021-01-12T09:05:26.880921Z",
     "shell.execute_reply": "2021-01-12T09:05:26.880059Z"
    }
   },
   "outputs": [
    {
     "name": "stdout",
     "output_type": "stream",
     "text": [
      "\r",
      "0it [00:00, ?it/s]"
     ]
    },
    {
     "name": "stdout",
     "output_type": "stream",
     "text": [
      "\r",
      "Upgrading database; v0 -> v1: : 0it [00:00, ?it/s]"
     ]
    },
    {
     "name": "stdout",
     "output_type": "stream",
     "text": [
      "\r",
      "Upgrading database; v0 -> v1: : 0it [00:00, ?it/s]"
     ]
    },
    {
     "name": "stdout",
     "output_type": "stream",
     "text": [
      "\n",
      "\r",
      "  0%|          | 0/1 [00:00<?, ?it/s]"
     ]
    },
    {
     "name": "stdout",
     "output_type": "stream",
     "text": [
      "\r",
      "Upgrading database; v1 -> v2:   0%|          | 0/1 [00:00<?, ?it/s]"
     ]
    },
    {
     "name": "stdout",
     "output_type": "stream",
     "text": [
      "\r",
      "Upgrading database; v1 -> v2: 100%|██████████| 1/1 [00:00<00:00, 1130.84it/s]"
     ]
    },
    {
     "name": "stdout",
     "output_type": "stream",
     "text": [
      "\n",
      "\r",
      "0it [00:00, ?it/s]"
     ]
    },
    {
     "name": "stdout",
     "output_type": "stream",
     "text": [
      "\r",
      "Upgrading database; v2 -> v3: : 0it [00:00, ?it/s]"
     ]
    },
    {
     "name": "stdout",
     "output_type": "stream",
     "text": [
      "\r",
      "Upgrading database; v2 -> v3: : 0it [00:00, ?it/s]"
     ]
    },
    {
     "name": "stdout",
     "output_type": "stream",
     "text": [
      "\n",
      "\r",
      "0it [00:00, ?it/s]"
     ]
    },
    {
     "name": "stdout",
     "output_type": "stream",
     "text": [
      "\r",
      "Upgrading database; v3 -> v4: : 0it [00:00, ?it/s]"
     ]
    },
    {
     "name": "stdout",
     "output_type": "stream",
     "text": [
      "\r",
      "Upgrading database; v3 -> v4: : 0it [00:00, ?it/s]"
     ]
    },
    {
     "name": "stdout",
     "output_type": "stream",
     "text": [
      "\n",
      "\r",
      "  0%|          | 0/1 [00:00<?, ?it/s]"
     ]
    },
    {
     "name": "stdout",
     "output_type": "stream",
     "text": [
      "\r",
      "Upgrading database; v4 -> v5:   0%|          | 0/1 [00:00<?, ?it/s]"
     ]
    },
    {
     "name": "stdout",
     "output_type": "stream",
     "text": [
      "\r",
      "Upgrading database; v4 -> v5: 100%|██████████| 1/1 [00:00<00:00, 428.51it/s]"
     ]
    },
    {
     "name": "stdout",
     "output_type": "stream",
     "text": [
      "\n",
      "\r",
      "0it [00:00, ?it/s]"
     ]
    },
    {
     "name": "stdout",
     "output_type": "stream",
     "text": [
      "\r",
      "Upgrading database; v5 -> v6: : 0it [00:00, ?it/s]"
     ]
    },
    {
     "name": "stdout",
     "output_type": "stream",
     "text": [
      "\r",
      "Upgrading database; v5 -> v6: : 0it [00:00, ?it/s]"
     ]
    },
    {
     "name": "stdout",
     "output_type": "stream",
     "text": [
      "\n",
      "\r",
      "  0%|          | 0/1 [00:00<?, ?it/s]"
     ]
    },
    {
     "name": "stdout",
     "output_type": "stream",
     "text": [
      "\r",
      "Upgrading database; v6 -> v7:   0%|          | 0/1 [00:00<?, ?it/s]"
     ]
    },
    {
     "name": "stdout",
     "output_type": "stream",
     "text": [
      "\r",
      "Upgrading database; v6 -> v7: 100%|██████████| 1/1 [00:00<00:00, 225.06it/s]"
     ]
    },
    {
     "name": "stdout",
     "output_type": "stream",
     "text": [
      "\n",
      "\r",
      "  0%|          | 0/1 [00:00<?, ?it/s]"
     ]
    },
    {
     "name": "stdout",
     "output_type": "stream",
     "text": [
      "\r",
      "Upgrading database; v7 -> v8:   0%|          | 0/1 [00:00<?, ?it/s]"
     ]
    },
    {
     "name": "stdout",
     "output_type": "stream",
     "text": [
      "\r",
      "Upgrading database; v7 -> v8: 100%|██████████| 1/1 [00:00<00:00, 537.32it/s]"
     ]
    },
    {
     "name": "stdout",
     "output_type": "stream",
     "text": [
      "\n",
      "\r",
      "  0%|          | 0/1 [00:00<?, ?it/s]"
     ]
    },
    {
     "name": "stdout",
     "output_type": "stream",
     "text": [
      "\r",
      "Upgrading database; v8 -> v9:   0%|          | 0/1 [00:00<?, ?it/s]"
     ]
    },
    {
     "name": "stdout",
     "output_type": "stream",
     "text": [
      "\r",
      "Upgrading database; v8 -> v9: 100%|██████████| 1/1 [00:00<00:00, 486.97it/s]"
     ]
    },
    {
     "name": "stdout",
     "output_type": "stream",
     "text": [
      "\n"
     ]
    }
   ],
   "source": [
    "initialise_database()\n",
    "exp = load_or_create_experiment(experiment_name='tutorial_exp', sample_name=\"no sample\")"
   ]
  },
  {
   "cell_type": "markdown",
   "metadata": {},
   "source": [
    "Here, we define a simple function to benchmark the time it takes to insert n points with either numeric or array data type.\n",
    "We will compare both the time used to call ``add_result`` and the time used for the full measurement."
   ]
  },
  {
   "cell_type": "code",
   "execution_count": 4,
   "metadata": {
    "execution": {
     "iopub.execute_input": "2021-01-12T09:05:26.889569Z",
     "iopub.status.busy": "2021-01-12T09:05:26.889042Z",
     "iopub.status.idle": "2021-01-12T09:05:26.892620Z",
     "shell.execute_reply": "2021-01-12T09:05:26.892129Z"
    }
   },
   "outputs": [],
   "source": [
    "def insert_data(paramtype, npoints, nreps=1):\n",
    "\n",
    "    meas = Measurement(exp=exp)\n",
    "\n",
    "    x1 = ManualParameter('x1')\n",
    "    x2 = ManualParameter('x2')\n",
    "    x3 = ManualParameter('x3')\n",
    "    y1 = ManualParameter('y1')\n",
    "    y2 = ManualParameter('y2')\n",
    "\n",
    "    meas.register_parameter(x1, paramtype=paramtype)\n",
    "    meas.register_parameter(x2, paramtype=paramtype)\n",
    "    meas.register_parameter(x3, paramtype=paramtype)\n",
    "    meas.register_parameter(y1, setpoints=[x1, x2, x3],\n",
    "                            paramtype=paramtype)\n",
    "    meas.register_parameter(y2, setpoints=[x1, x2, x3],\n",
    "                            paramtype=paramtype)\n",
    "    start = time.perf_counter()\n",
    "    with meas.run() as datasaver:\n",
    "        start_adding = time.perf_counter()\n",
    "        for i in range(nreps):\n",
    "            datasaver.add_result((x1, np.random.rand(npoints)),\n",
    "                                 (x2, np.random.rand(npoints)),\n",
    "                                 (x3, np.random.rand(npoints)),\n",
    "                                 (y1, np.random.rand(npoints)),\n",
    "                                 (y2, np.random.rand(npoints)))\n",
    "        stop_adding = time.perf_counter()\n",
    "        run_id = datasaver.run_id\n",
    "    stop = time.perf_counter()\n",
    "    tot_time = stop - start\n",
    "    add_time = stop_adding - start_adding\n",
    "    return tot_time, add_time, run_id"
   ]
  },
  {
   "cell_type": "markdown",
   "metadata": {},
   "source": [
    "## Comparison between numeric/array data and binary blob"
   ]
  },
  {
   "cell_type": "markdown",
   "metadata": {},
   "source": [
    "### Case1: Short experiment time"
   ]
  },
  {
   "cell_type": "code",
   "execution_count": 5,
   "metadata": {
    "execution": {
     "iopub.execute_input": "2021-01-12T09:05:26.901376Z",
     "iopub.status.busy": "2021-01-12T09:05:26.900818Z",
     "iopub.status.idle": "2021-01-12T09:05:27.756590Z",
     "shell.execute_reply": "2021-01-12T09:05:27.755698Z"
    }
   },
   "outputs": [
    {
     "name": "stdout",
     "output_type": "stream",
     "text": [
      "Starting experimental run with id: 1. \n",
      "Starting experimental run with id: 2. \n",
      "Starting experimental run with id: 3. \n",
      "Starting experimental run with id: 4. \n"
     ]
    },
    {
     "name": "stdout",
     "output_type": "stream",
     "text": [
      "Starting experimental run with id: 5. \n"
     ]
    },
    {
     "name": "stdout",
     "output_type": "stream",
     "text": [
      "Starting experimental run with id: 6. \n"
     ]
    },
    {
     "name": "stdout",
     "output_type": "stream",
     "text": [
      "Starting experimental run with id: 7. \n"
     ]
    },
    {
     "name": "stdout",
     "output_type": "stream",
     "text": [
      "Starting experimental run with id: 8. \n",
      "Starting experimental run with id: 9. \n"
     ]
    },
    {
     "name": "stdout",
     "output_type": "stream",
     "text": [
      "Starting experimental run with id: 10. \n",
      "Starting experimental run with id: 11. \n"
     ]
    },
    {
     "name": "stdout",
     "output_type": "stream",
     "text": [
      "Starting experimental run with id: 12. \n",
      "Starting experimental run with id: 13. \n"
     ]
    },
    {
     "name": "stdout",
     "output_type": "stream",
     "text": [
      "Starting experimental run with id: 14. \n"
     ]
    }
   ],
   "source": [
    "sizes = [1,500,1000,2000,3000,4000,5000]\n",
    "t_numeric = []\n",
    "t_numeric_add = []\n",
    "t_array = []\n",
    "t_array_add = []\n",
    "for size in sizes:\n",
    "    tn, tna, run_id_n =  insert_data('numeric', size)\n",
    "    t_numeric.append(tn)\n",
    "    t_numeric_add.append(tna)\n",
    "\n",
    "    ta, taa, run_id_a =  insert_data('array', size)\n",
    "    t_array.append(ta)\n",
    "    t_array_add.append(taa)"
   ]
  },
  {
   "cell_type": "code",
   "execution_count": 6,
   "metadata": {
    "execution": {
     "iopub.execute_input": "2021-01-12T09:05:27.786163Z",
     "iopub.status.busy": "2021-01-12T09:05:27.773139Z",
     "iopub.status.idle": "2021-01-12T09:05:27.952451Z",
     "shell.execute_reply": "2021-01-12T09:05:27.952996Z"
    }
   },
   "outputs": [
    {
     "data": {
      "image/png": "[encoded data removed]",
      "text/plain": [
       "<Figure size 432x288 with 1 Axes>"
      ]
     },
     "metadata": {
      "needs_background": "light"
     },
     "output_type": "display_data"
    }
   ],
   "source": [
    "fig, ax = plt.subplots(1,1)\n",
    "ax.plot(sizes, t_numeric, 'o-', label='Inserting row-by-row')\n",
    "ax.plot(sizes, t_numeric_add, 'o-', label='Inserting row-by-row: add_result only')\n",
    "ax.plot(sizes, t_array, 'd-', label='Inserting as binary blob')\n",
    "ax.plot(sizes, t_array_add, 'd-', label='Inserting as binary blob: add_result only')\n",
    "ax.legend()\n",
    "ax.set_xlabel('Array length')\n",
    "ax.set_ylabel('Time (s)')\n",
    "fig.tight_layout()"
   ]
  },
  {
   "cell_type": "markdown",
   "metadata": {},
   "source": [
    "As shown in the latter figure, the time to setup and and close the experiment is approximately 0.4 sec. In case of small array sizes, the difference between inserting values of data as arrays and inserting them row-by-row is relatively unimportant. At larger array sizes, i.e. above 10000 points, the cost of writing data as individual datapoints starts to become important.\n"
   ]
  },
  {
   "cell_type": "markdown",
   "metadata": {},
   "source": [
    "### Case2: Long experiment time "
   ]
  },
  {
   "cell_type": "code",
   "execution_count": 7,
   "metadata": {
    "execution": {
     "iopub.execute_input": "2021-01-12T09:05:27.955494Z",
     "iopub.status.busy": "2021-01-12T09:05:27.954988Z",
     "iopub.status.idle": "2021-01-12T09:06:27.484517Z",
     "shell.execute_reply": "2021-01-12T09:06:27.485099Z"
    }
   },
   "outputs": [
    {
     "name": "stdout",
     "output_type": "stream",
     "text": [
      "Starting experimental run with id: 15. \n",
      "Starting experimental run with id: 16. \n",
      "Starting experimental run with id: 17. \n"
     ]
    },
    {
     "name": "stdout",
     "output_type": "stream",
     "text": [
      "Starting experimental run with id: 18. \n",
      "Starting experimental run with id: 19. \n"
     ]
    },
    {
     "name": "stdout",
     "output_type": "stream",
     "text": [
      "Starting experimental run with id: 20. \n"
     ]
    },
    {
     "name": "stdout",
     "output_type": "stream",
     "text": [
      "Starting experimental run with id: 21. \n"
     ]
    },
    {
     "name": "stdout",
     "output_type": "stream",
     "text": [
      "Starting experimental run with id: 22. \n"
     ]
    },
    {
     "name": "stdout",
     "output_type": "stream",
     "text": [
      "Starting experimental run with id: 23. \n"
     ]
    },
    {
     "name": "stdout",
     "output_type": "stream",
     "text": [
      "Starting experimental run with id: 24. \n"
     ]
    },
    {
     "name": "stdout",
     "output_type": "stream",
     "text": [
      "Starting experimental run with id: 25. \n"
     ]
    },
    {
     "name": "stdout",
     "output_type": "stream",
     "text": [
      "Starting experimental run with id: 26. \n"
     ]
    },
    {
     "name": "stdout",
     "output_type": "stream",
     "text": [
      "Starting experimental run with id: 27. \n"
     ]
    },
    {
     "name": "stdout",
     "output_type": "stream",
     "text": [
      "Starting experimental run with id: 28. \n"
     ]
    }
   ],
   "source": [
    "sizes = [1,500,1000,2000,3000,4000,5000]\n",
    "nreps = 100\n",
    "t_numeric = []\n",
    "t_numeric_add = []\n",
    "t_numeric_run_ids = []\n",
    "t_array = []\n",
    "t_array_add = []\n",
    "t_array_run_ids = []\n",
    "for size in sizes:\n",
    "    tn, tna, run_id_n =  insert_data('numeric', size, nreps=nreps)\n",
    "    t_numeric.append(tn)\n",
    "    t_numeric_add.append(tna)\n",
    "    t_numeric_run_ids.append(run_id_n)\n",
    "\n",
    "    ta, taa, run_id_a =  insert_data('array', size, nreps=nreps)\n",
    "    t_array.append(ta)\n",
    "    t_array_add.append(taa)\n",
    "    t_array_run_ids.append(run_id_a)"
   ]
  },
  {
   "cell_type": "code",
   "execution_count": 8,
   "metadata": {
    "execution": {
     "iopub.execute_input": "2021-01-12T09:06:27.515929Z",
     "iopub.status.busy": "2021-01-12T09:06:27.490793Z",
     "iopub.status.idle": "2021-01-12T09:06:27.690164Z",
     "shell.execute_reply": "2021-01-12T09:06:27.690820Z"
    },
    "scrolled": true
   },
   "outputs": [
    {
     "data": {
      "image/png": "[encoded data removed]",
      "text/plain": [
       "<Figure size 432x288 with 1 Axes>"
      ]
     },
     "metadata": {
      "needs_background": "light"
     },
     "output_type": "display_data"
    }
   ],
   "source": [
    "fig, ax = plt.subplots(1,1)\n",
    "ax.plot(sizes, t_numeric, 'o-', label='Inserting row-by-row')\n",
    "ax.plot(sizes, t_numeric_add, 'o-', label='Inserting row-by-row: add_result only')\n",
    "ax.plot(sizes, t_array, 'd-', label='Inserting as binary blob')\n",
    "ax.plot(sizes, t_array_add, 'd-', label='Inserting as binary blob: add_result only')\n",
    "ax.legend()\n",
    "ax.set_xlabel('Array length')\n",
    "ax.set_ylabel('Time (s)')\n",
    "fig.tight_layout()"
   ]
  },
  {
   "cell_type": "markdown",
   "metadata": {},
   "source": [
    "However, as we increase the length of the experiment, as seen here by repeating the insertion 100 times, we see a big difference between inserting values of the data row-by-row and inserting it as a binary blob."
   ]
  },
  {
   "cell_type": "markdown",
   "metadata": {},
   "source": [
    "## Loading the data "
   ]
  },
  {
   "cell_type": "code",
   "execution_count": 9,
   "metadata": {
    "execution": {
     "iopub.execute_input": "2021-01-12T09:06:27.695167Z",
     "iopub.status.busy": "2021-01-12T09:06:27.694148Z",
     "iopub.status.idle": "2021-01-12T09:06:27.696791Z",
     "shell.execute_reply": "2021-01-12T09:06:27.697318Z"
    }
   },
   "outputs": [],
   "source": [
    "from qcodes.dataset.data_set import load_by_id\n",
    "from qcodes.dataset.data_export import get_data_by_id"
   ]
  },
  {
   "cell_type": "markdown",
   "metadata": {},
   "source": [
    "As usual you can load the data by using the ``load_by_id`` function but you will notice that the different storage methods\n",
    "are reflected in shape of the data as it is retrieved. "
   ]
  },
  {
   "cell_type": "code",
   "execution_count": 10,
   "metadata": {
    "execution": {
     "iopub.execute_input": "2021-01-12T09:06:27.700707Z",
     "iopub.status.busy": "2021-01-12T09:06:27.700175Z",
     "iopub.status.idle": "2021-01-12T09:06:27.702671Z",
     "shell.execute_reply": "2021-01-12T09:06:27.702137Z"
    }
   },
   "outputs": [],
   "source": [
    "run_id_n = t_numeric_run_ids[0]\n",
    "run_id_a = t_array_run_ids[0]"
   ]
  },
  {
   "cell_type": "code",
   "execution_count": 11,
   "metadata": {
    "execution": {
     "iopub.execute_input": "2021-01-12T09:06:27.705799Z",
     "iopub.status.busy": "2021-01-12T09:06:27.705300Z",
     "iopub.status.idle": "2021-01-12T09:06:27.714285Z",
     "shell.execute_reply": "2021-01-12T09:06:27.714799Z"
    },
    "scrolled": true
   },
   "outputs": [
    {
     "data": {
      "text/plain": [
       "{'x1': {'x1': array([0.31781555, 0.31781555, 0.2677523 , 0.2677523 , 0.95325372,\n",
       "         0.95325372, 0.90583695, 0.90583695, 0.49026464, 0.49026464,\n",
       "         0.80001224, 0.80001224, 0.20955446, 0.20955446, 0.74788548,\n",
       "         0.74788548, 0.36450567, 0.36450567, 0.46333703, 0.46333703,\n",
       "         0.45801325, 0.45801325, 0.48259329, 0.48259329, 0.63245304,\n",
       "         0.63245304, 0.66025228, 0.66025228, 0.99111055, 0.99111055,\n",
       "         0.12308295, 0.12308295, 0.90440606, 0.90440606, 0.81246541,\n",
       "         0.81246541, 0.43812542, 0.43812542, 0.30896836, 0.30896836,\n",
       "         0.31285328, 0.31285328, 0.72425553, 0.72425553, 0.85009099,\n",
       "         0.85009099, 0.58771873, 0.58771873, 0.77065237, 0.77065237,\n",
       "         0.30441594, 0.30441594, 0.58134029, 0.58134029, 0.74784533,\n",
       "         0.74784533, 0.11832924, 0.11832924, 0.07328421, 0.07328421,\n",
       "         0.13343423, 0.13343423, 0.62493274, 0.62493274, 0.07154728,\n",
       "         0.07154728, 0.70461641, 0.70461641, 0.05064932, 0.05064932,\n",
       "         0.92962898, 0.92962898, 0.04785579, 0.04785579, 0.97533975,\n",
       "         0.97533975, 0.21826508, 0.21826508, 0.49560391, 0.49560391,\n",
       "         0.0835445 , 0.0835445 , 0.31399008, 0.31399008, 0.45334285,\n",
       "         0.45334285, 0.24496534, 0.24496534, 0.24492469, 0.24492469,\n",
       "         0.33539582, 0.33539582, 0.84452421, 0.84452421, 0.17478313,\n",
       "         0.17478313, 0.24143562, 0.24143562, 0.81355415, 0.81355415,\n",
       "         0.16810208, 0.16810208, 0.15329807, 0.15329807, 0.20221963,\n",
       "         0.20221963, 0.17372057, 0.17372057, 0.99817907, 0.99817907,\n",
       "         0.63421091, 0.63421091, 0.27254439, 0.27254439, 0.77247277,\n",
       "         0.77247277, 0.875185  , 0.875185  , 0.86147387, 0.86147387,\n",
       "         0.28915177, 0.28915177, 0.85116855, 0.85116855, 0.4959481 ,\n",
       "         0.4959481 , 0.21710986, 0.21710986, 0.31722305, 0.31722305,\n",
       "         0.55278939, 0.55278939, 0.94629209, 0.94629209, 0.76259055,\n",
       "         0.76259055, 0.40500632, 0.40500632, 0.46311814, 0.46311814,\n",
       "         0.10169816, 0.10169816, 0.07335732, 0.07335732, 0.02247619,\n",
       "         0.02247619, 0.88605686, 0.88605686, 0.70080718, 0.70080718,\n",
       "         0.81589156, 0.81589156, 0.42822789, 0.42822789, 0.63264047,\n",
       "         0.63264047, 0.37766731, 0.37766731, 0.6464978 , 0.6464978 ,\n",
       "         0.0460155 , 0.0460155 , 0.51948124, 0.51948124, 0.16377952,\n",
       "         0.16377952, 0.7065687 , 0.7065687 , 0.12096725, 0.12096725,\n",
       "         0.19878231, 0.19878231, 0.35582619, 0.35582619, 0.79533394,\n",
       "         0.79533394, 0.61767377, 0.61767377, 0.53159232, 0.53159232,\n",
       "         0.59318302, 0.59318302, 0.7831054 , 0.7831054 , 0.6752922 ,\n",
       "         0.6752922 , 0.16728873, 0.16728873, 0.32238193, 0.32238193,\n",
       "         0.3189278 , 0.3189278 , 0.61329807, 0.61329807, 0.20595224,\n",
       "         0.20595224, 0.27113145, 0.27113145, 0.50462682, 0.50462682])}}"
      ]
     },
     "execution_count": 1,
     "metadata": {},
     "output_type": "execute_result"
    }
   ],
   "source": [
    "ds = load_by_id(run_id_n)\n",
    "ds.get_parameter_data('x1')"
   ]
  },
  {
   "cell_type": "markdown",
   "metadata": {},
   "source": [
    "And a dataset stored as binary arrays"
   ]
  },
  {
   "cell_type": "code",
   "execution_count": 12,
   "metadata": {
    "execution": {
     "iopub.execute_input": "2021-01-12T09:06:27.717991Z",
     "iopub.status.busy": "2021-01-12T09:06:27.717485Z",
     "iopub.status.idle": "2021-01-12T09:06:27.778549Z",
     "shell.execute_reply": "2021-01-12T09:06:27.779092Z"
    },
    "scrolled": true
   },
   "outputs": [
    {
     "data": {
      "text/plain": [
       "{'x1': {'x1': array([[0.95460848],\n",
       "         [0.95460848],\n",
       "         [0.71038593],\n",
       "         [0.71038593],\n",
       "         [0.26559488],\n",
       "         [0.26559488],\n",
       "         [0.46665171],\n",
       "         [0.46665171],\n",
       "         [0.32514341],\n",
       "         [0.32514341],\n",
       "         [0.43363893],\n",
       "         [0.43363893],\n",
       "         [0.75251131],\n",
       "         [0.75251131],\n",
       "         [0.32764475],\n",
       "         [0.32764475],\n",
       "         [0.81320198],\n",
       "         [0.81320198],\n",
       "         [0.70132988],\n",
       "         [0.70132988],\n",
       "         [0.07305865],\n",
       "         [0.07305865],\n",
       "         [0.5244913 ],\n",
       "         [0.5244913 ],\n",
       "         [0.13786608],\n",
       "         [0.13786608],\n",
       "         [0.06834617],\n",
       "         [0.06834617],\n",
       "         [0.07590141],\n",
       "         [0.07590141],\n",
       "         [0.18364693],\n",
       "         [0.18364693],\n",
       "         [0.51678017],\n",
       "         [0.51678017],\n",
       "         [0.85867112],\n",
       "         [0.85867112],\n",
       "         [0.38606353],\n",
       "         [0.38606353],\n",
       "         [0.17162436],\n",
       "         [0.17162436],\n",
       "         [0.9032196 ],\n",
       "         [0.9032196 ],\n",
       "         [0.24899992],\n",
       "         [0.24899992],\n",
       "         [0.85193775],\n",
       "         [0.85193775],\n",
       "         [0.01409575],\n",
       "         [0.01409575],\n",
       "         [0.12328794],\n",
       "         [0.12328794],\n",
       "         [0.04920184],\n",
       "         [0.04920184],\n",
       "         [0.49191612],\n",
       "         [0.49191612],\n",
       "         [0.27483639],\n",
       "         [0.27483639],\n",
       "         [0.96591646],\n",
       "         [0.96591646],\n",
       "         [0.76697649],\n",
       "         [0.76697649],\n",
       "         [0.279096  ],\n",
       "         [0.279096  ],\n",
       "         [0.08650349],\n",
       "         [0.08650349],\n",
       "         [0.26990497],\n",
       "         [0.26990497],\n",
       "         [0.76007787],\n",
       "         [0.76007787],\n",
       "         [0.64530054],\n",
       "         [0.64530054],\n",
       "         [0.74657647],\n",
       "         [0.74657647],\n",
       "         [0.45980341],\n",
       "         [0.45980341],\n",
       "         [0.1929109 ],\n",
       "         [0.1929109 ],\n",
       "         [0.69330437],\n",
       "         [0.69330437],\n",
       "         [0.86880644],\n",
       "         [0.86880644],\n",
       "         [0.32466846],\n",
       "         [0.32466846],\n",
       "         [0.33010217],\n",
       "         [0.33010217],\n",
       "         [0.08443001],\n",
       "         [0.08443001],\n",
       "         [0.65114092],\n",
       "         [0.65114092],\n",
       "         [0.19467655],\n",
       "         [0.19467655],\n",
       "         [0.34038876],\n",
       "         [0.34038876],\n",
       "         [0.28994832],\n",
       "         [0.28994832],\n",
       "         [0.2273721 ],\n",
       "         [0.2273721 ],\n",
       "         [0.36810923],\n",
       "         [0.36810923],\n",
       "         [0.62194083],\n",
       "         [0.62194083],\n",
       "         [0.25388378],\n",
       "         [0.25388378],\n",
       "         [0.23929656],\n",
       "         [0.23929656],\n",
       "         [0.52569577],\n",
       "         [0.52569577],\n",
       "         [0.75750258],\n",
       "         [0.75750258],\n",
       "         [0.12746254],\n",
       "         [0.12746254],\n",
       "         [0.97102264],\n",
       "         [0.97102264],\n",
       "         [0.13249669],\n",
       "         [0.13249669],\n",
       "         [0.10667493],\n",
       "         [0.10667493],\n",
       "         [0.29338157],\n",
       "         [0.29338157],\n",
       "         [0.57307084],\n",
       "         [0.57307084],\n",
       "         [0.22958663],\n",
       "         [0.22958663],\n",
       "         [0.96493714],\n",
       "         [0.96493714],\n",
       "         [0.43393379],\n",
       "         [0.43393379],\n",
       "         [0.13258899],\n",
       "         [0.13258899],\n",
       "         [0.45311034],\n",
       "         [0.45311034],\n",
       "         [0.04834401],\n",
       "         [0.04834401],\n",
       "         [0.56742447],\n",
       "         [0.56742447],\n",
       "         [0.84607273],\n",
       "         [0.84607273],\n",
       "         [0.77167217],\n",
       "         [0.77167217],\n",
       "         [0.90161951],\n",
       "         [0.90161951],\n",
       "         [0.29794536],\n",
       "         [0.29794536],\n",
       "         [0.2829404 ],\n",
       "         [0.2829404 ],\n",
       "         [0.44824739],\n",
       "         [0.44824739],\n",
       "         [0.00631961],\n",
       "         [0.00631961],\n",
       "         [0.5094177 ],\n",
       "         [0.5094177 ],\n",
       "         [0.60296757],\n",
       "         [0.60296757],\n",
       "         [0.73535944],\n",
       "         [0.73535944],\n",
       "         [0.2925737 ],\n",
       "         [0.2925737 ],\n",
       "         [0.28450234],\n",
       "         [0.28450234],\n",
       "         [0.72329653],\n",
       "         [0.72329653],\n",
       "         [0.67755485],\n",
       "         [0.67755485],\n",
       "         [0.12074542],\n",
       "         [0.12074542],\n",
       "         [0.07588628],\n",
       "         [0.07588628],\n",
       "         [0.32088545],\n",
       "         [0.32088545],\n",
       "         [0.95081506],\n",
       "         [0.95081506],\n",
       "         [0.25964293],\n",
       "         [0.25964293],\n",
       "         [0.38411163],\n",
       "         [0.38411163],\n",
       "         [0.16638264],\n",
       "         [0.16638264],\n",
       "         [0.65573803],\n",
       "         [0.65573803],\n",
       "         [0.67781342],\n",
       "         [0.67781342],\n",
       "         [0.96619226],\n",
       "         [0.96619226],\n",
       "         [0.64362231],\n",
       "         [0.64362231],\n",
       "         [0.46303591],\n",
       "         [0.46303591],\n",
       "         [0.83238074],\n",
       "         [0.83238074],\n",
       "         [0.37078179],\n",
       "         [0.37078179],\n",
       "         [0.86782853],\n",
       "         [0.86782853],\n",
       "         [0.64115384],\n",
       "         [0.64115384],\n",
       "         [0.73486676],\n",
       "         [0.73486676],\n",
       "         [0.69316546],\n",
       "         [0.69316546],\n",
       "         [0.35695449],\n",
       "         [0.35695449]])}}"
      ]
     },
     "execution_count": 1,
     "metadata": {},
     "output_type": "execute_result"
    }
   ],
   "source": [
    "ds = load_by_id(run_id_a)\n",
    "ds.get_parameter_data('x1')"
   ]
  },
  {
   "cell_type": "code",
   "execution_count": null,
   "metadata": {},
   "outputs": [],
   "source": []
  }
 ],
 "metadata": {
  "kernelspec": {
   "display_name": "Python 3",
   "language": "python",
   "name": "python3"
  },
  "language_info": {
   "codemirror_mode": {
    "name": "ipython",
    "version": 3
   },
   "file_extension": ".py",
   "mimetype": "text/x-python",
   "name": "python",
   "nbconvert_exporter": "python",
   "pygments_lexer": "ipython3",
   "version": "3.7.9"
  },
  "nbsphinx": {
   "timeout": 600
  },
  "toc": {
   "base_numbering": 1,
   "nav_menu": {},
   "number_sections": true,
   "sideBar": true,
   "skip_h1_title": false,
   "title_cell": "Table of Contents",
   "title_sidebar": "Contents",
   "toc_cell": false,
   "toc_position": {},
   "toc_section_display": true,
   "toc_window_display": false
  },
  "varInspector": {
   "cols": {
    "lenName": 16,
    "lenType": 16,
    "lenVar": 40
   },
   "kernels_config": {
    "python": {
     "delete_cmd_postfix": "",
     "delete_cmd_prefix": "del ",
     "library": "var_list.py",
     "varRefreshCmd": "print(var_dic_list())"
    },
    "r": {
     "delete_cmd_postfix": ") ",
     "delete_cmd_prefix": "rm(",
     "library": "var_list.r",
     "varRefreshCmd": "cat(var_dic_list()) "
    }
   },
   "types_to_exclude": [
    "module",
    "function",
    "builtin_function_or_method",
    "instance",
    "_Feature"
   ],
   "window_display": false
  }
 },
 "nbformat": 4,
 "nbformat_minor": 2
}
