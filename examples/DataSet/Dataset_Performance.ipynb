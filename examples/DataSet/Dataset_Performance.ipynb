{
 "cells": [
  {
   "cell_type": "markdown",
   "metadata": {},
   "source": [
    "# DataSet Performance\n",
    "\n",
    "This notebook shows the trade-off between inserting data into a database row-by-row and as binary blobs. Inserting the data row-by-row means that we have direct access to all the data and may perform queries directly on the values of the data. On the other hand, as we shall see, this is much slower than inserting the data directly as binary blobs."
   ]
  },
  {
   "cell_type": "markdown",
   "metadata": {},
   "source": [
    "First, we choose a new location for the database to ensure that we don't add a bunch of benchmarking data to the default one."
   ]
  },
  {
   "cell_type": "code",
   "execution_count": 1,
   "metadata": {
    "execution": {
     "iopub.execute_input": "2020-11-18T17:07:34.094190Z",
     "iopub.status.busy": "2020-11-18T17:07:34.093327Z",
     "iopub.status.idle": "2020-11-18T17:07:35.123986Z",
     "shell.execute_reply": "2020-11-18T17:07:35.123038Z"
    }
   },
   "outputs": [
    {
     "name": "stdout",
     "output_type": "stream",
     "text": [
      "Logging hadn't been started.\n",
      "Activating auto-logging. Current session state plus future input saved.\n",
      "Filename       : /home/vsts/.qcodes/logs/command_history.log\n",
      "Mode           : append\n",
      "Output logging : True\n",
      "Raw input log  : False\n",
      "Timestamping   : True\n",
      "State          : active\n"
     ]
    },
    {
     "name": "stdout",
     "output_type": "stream",
     "text": [
      "Qcodes Logfile : /home/vsts/.qcodes/logs/201118-14067-qcodes.log\n"
     ]
    }
   ],
   "source": [
    "import os\n",
    "cwd = os.getcwd()\n",
    "import qcodes as qc\n",
    "qc.config[\"core\"][\"db_location\"] = os.path.join(cwd, 'testing.db')\n"
   ]
  },
  {
   "cell_type": "code",
   "execution_count": 2,
   "metadata": {
    "execution": {
     "iopub.execute_input": "2020-11-18T17:07:35.130918Z",
     "iopub.status.busy": "2020-11-18T17:07:35.130315Z",
     "iopub.status.idle": "2020-11-18T17:07:35.326336Z",
     "shell.execute_reply": "2020-11-18T17:07:35.325614Z"
    }
   },
   "outputs": [],
   "source": [
    "%matplotlib inline\n",
    "import time\n",
    "import matplotlib.pyplot as plt\n",
    "import numpy as np\n",
    "\n",
    "import qcodes as qc\n",
    "from qcodes.instrument.parameter import ManualParameter\n",
    "from qcodes.dataset.experiment_container import (Experiment,\n",
    "                                                 load_last_experiment,\n",
    "                                                 new_experiment)\n",
    "from qcodes.dataset.sqlite.database import initialise_database\n",
    "from qcodes import load_or_create_experiment\n",
    "from qcodes.dataset.measurements import Measurement"
   ]
  },
  {
   "cell_type": "code",
   "execution_count": 3,
   "metadata": {
    "execution": {
     "iopub.execute_input": "2020-11-18T17:07:35.330738Z",
     "iopub.status.busy": "2020-11-18T17:07:35.330111Z",
     "iopub.status.idle": "2020-11-18T17:07:35.460223Z",
     "shell.execute_reply": "2020-11-18T17:07:35.459715Z"
    }
   },
   "outputs": [
    {
     "name": "stdout",
     "output_type": "stream",
     "text": [
      "\r",
      "0it [00:00, ?it/s]"
     ]
    },
    {
     "name": "stdout",
     "output_type": "stream",
     "text": [
      "\r",
      "Upgrading database; v0 -> v1: : 0it [00:00, ?it/s]"
     ]
    },
    {
     "name": "stdout",
     "output_type": "stream",
     "text": [
      "\r",
      "Upgrading database; v0 -> v1: : 0it [00:00, ?it/s]"
     ]
    },
    {
     "name": "stdout",
     "output_type": "stream",
     "text": [
      "\n",
      "\r",
      "  0%|          | 0/1 [00:00<?, ?it/s]"
     ]
    },
    {
     "name": "stdout",
     "output_type": "stream",
     "text": [
      "\r",
      "Upgrading database; v1 -> v2:   0%|          | 0/1 [00:00<?, ?it/s]"
     ]
    },
    {
     "name": "stdout",
     "output_type": "stream",
     "text": [
      "\r",
      "Upgrading database; v1 -> v2: 100%|██████████| 1/1 [00:00<00:00, 790.93it/s]"
     ]
    },
    {
     "name": "stdout",
     "output_type": "stream",
     "text": [
      "\n",
      "\r",
      "0it [00:00, ?it/s]"
     ]
    },
    {
     "name": "stdout",
     "output_type": "stream",
     "text": [
      "\r",
      "Upgrading database; v2 -> v3: : 0it [00:00, ?it/s]"
     ]
    },
    {
     "name": "stdout",
     "output_type": "stream",
     "text": [
      "\r",
      "Upgrading database; v2 -> v3: : 0it [00:00, ?it/s]"
     ]
    },
    {
     "name": "stdout",
     "output_type": "stream",
     "text": [
      "\n",
      "\r",
      "0it [00:00, ?it/s]"
     ]
    },
    {
     "name": "stdout",
     "output_type": "stream",
     "text": [
      "\r",
      "Upgrading database; v3 -> v4: : 0it [00:00, ?it/s]"
     ]
    },
    {
     "name": "stdout",
     "output_type": "stream",
     "text": [
      "\r",
      "Upgrading database; v3 -> v4: : 0it [00:00, ?it/s]"
     ]
    },
    {
     "name": "stdout",
     "output_type": "stream",
     "text": [
      "\n",
      "\r",
      "  0%|          | 0/1 [00:00<?, ?it/s]"
     ]
    },
    {
     "name": "stdout",
     "output_type": "stream",
     "text": [
      "\r",
      "Upgrading database; v4 -> v5:   0%|          | 0/1 [00:00<?, ?it/s]"
     ]
    },
    {
     "name": "stdout",
     "output_type": "stream",
     "text": [
      "\r",
      "Upgrading database; v4 -> v5: 100%|██████████| 1/1 [00:00<00:00, 426.60it/s]"
     ]
    },
    {
     "name": "stdout",
     "output_type": "stream",
     "text": [
      "\n",
      "\r",
      "0it [00:00, ?it/s]"
     ]
    },
    {
     "name": "stdout",
     "output_type": "stream",
     "text": [
      "\r",
      "Upgrading database; v5 -> v6: : 0it [00:00, ?it/s]"
     ]
    },
    {
     "name": "stdout",
     "output_type": "stream",
     "text": [
      "\r",
      "Upgrading database; v5 -> v6: : 0it [00:00, ?it/s]"
     ]
    },
    {
     "name": "stdout",
     "output_type": "stream",
     "text": [
      "\n",
      "\r",
      "  0%|          | 0/1 [00:00<?, ?it/s]"
     ]
    },
    {
     "name": "stdout",
     "output_type": "stream",
     "text": [
      "\r",
      "Upgrading database; v6 -> v7:   0%|          | 0/1 [00:00<?, ?it/s]"
     ]
    },
    {
     "name": "stdout",
     "output_type": "stream",
     "text": [
      "\r",
      "Upgrading database; v6 -> v7: 100%|██████████| 1/1 [00:00<00:00, 386.04it/s]"
     ]
    },
    {
     "name": "stdout",
     "output_type": "stream",
     "text": [
      "\n",
      "\r",
      "  0%|          | 0/1 [00:00<?, ?it/s]"
     ]
    },
    {
     "name": "stdout",
     "output_type": "stream",
     "text": [
      "\r",
      "Upgrading database; v7 -> v8:   0%|          | 0/1 [00:00<?, ?it/s]"
     ]
    },
    {
     "name": "stdout",
     "output_type": "stream",
     "text": [
      "\r",
      "Upgrading database; v7 -> v8: 100%|██████████| 1/1 [00:00<00:00, 557.16it/s]"
     ]
    },
    {
     "name": "stdout",
     "output_type": "stream",
     "text": [
      "\n",
      "\r",
      "  0%|          | 0/1 [00:00<?, ?it/s]"
     ]
    },
    {
     "name": "stdout",
     "output_type": "stream",
     "text": [
      "\r",
      "Upgrading database; v8 -> v9:   0%|          | 0/1 [00:00<?, ?it/s]"
     ]
    },
    {
     "name": "stdout",
     "output_type": "stream",
     "text": [
      "\r",
      "Upgrading database; v8 -> v9: 100%|██████████| 1/1 [00:00<00:00, 1234.34it/s]"
     ]
    },
    {
     "name": "stdout",
     "output_type": "stream",
     "text": [
      "\n"
     ]
    }
   ],
   "source": [
    "initialise_database()\n",
    "exp = load_or_create_experiment(experiment_name='tutorial_exp', sample_name=\"no sample\")"
   ]
  },
  {
   "cell_type": "markdown",
   "metadata": {},
   "source": [
    "Here, we define a simple function to benchmark the time it takes to insert n points with either numeric or array data type.\n",
    "We will compare both the time used to call ``add_result`` and the time used for the full measurement."
   ]
  },
  {
   "cell_type": "code",
   "execution_count": 4,
   "metadata": {
    "execution": {
     "iopub.execute_input": "2020-11-18T17:07:35.469846Z",
     "iopub.status.busy": "2020-11-18T17:07:35.468521Z",
     "iopub.status.idle": "2020-11-18T17:07:35.470490Z",
     "shell.execute_reply": "2020-11-18T17:07:35.470984Z"
    }
   },
   "outputs": [],
   "source": [
    "def insert_data(paramtype, npoints, nreps=1):\n",
    "\n",
    "    meas = Measurement(exp=exp)\n",
    "\n",
    "    x1 = ManualParameter('x1')\n",
    "    x2 = ManualParameter('x2')\n",
    "    x3 = ManualParameter('x3')\n",
    "    y1 = ManualParameter('y1')\n",
    "    y2 = ManualParameter('y2')\n",
    "\n",
    "    meas.register_parameter(x1, paramtype=paramtype)\n",
    "    meas.register_parameter(x2, paramtype=paramtype)\n",
    "    meas.register_parameter(x3, paramtype=paramtype)\n",
    "    meas.register_parameter(y1, setpoints=[x1, x2, x3],\n",
    "                            paramtype=paramtype)\n",
    "    meas.register_parameter(y2, setpoints=[x1, x2, x3],\n",
    "                            paramtype=paramtype)\n",
    "    start = time.perf_counter()\n",
    "    with meas.run() as datasaver:\n",
    "        start_adding = time.perf_counter()\n",
    "        for i in range(nreps):\n",
    "            datasaver.add_result((x1, np.random.rand(npoints)),\n",
    "                                 (x2, np.random.rand(npoints)),\n",
    "                                 (x3, np.random.rand(npoints)),\n",
    "                                 (y1, np.random.rand(npoints)),\n",
    "                                 (y2, np.random.rand(npoints)))\n",
    "        stop_adding = time.perf_counter()\n",
    "        run_id = datasaver.run_id\n",
    "    stop = time.perf_counter()\n",
    "    tot_time = stop - start\n",
    "    add_time = stop_adding - start_adding\n",
    "    return tot_time, add_time, run_id"
   ]
  },
  {
   "cell_type": "markdown",
   "metadata": {},
   "source": [
    "## Comparison between numeric/array data and binary blob"
   ]
  },
  {
   "cell_type": "markdown",
   "metadata": {},
   "source": [
    "### Case1: Short experiment time"
   ]
  },
  {
   "cell_type": "code",
   "execution_count": 5,
   "metadata": {
    "execution": {
     "iopub.execute_input": "2020-11-18T17:07:35.477747Z",
     "iopub.status.busy": "2020-11-18T17:07:35.477168Z",
     "iopub.status.idle": "2020-11-18T17:07:36.312809Z",
     "shell.execute_reply": "2020-11-18T17:07:36.312296Z"
    }
   },
   "outputs": [
    {
     "name": "stdout",
     "output_type": "stream",
     "text": [
      "Starting experimental run with id: 1. \n",
      "Starting experimental run with id: 2. \n",
      "Starting experimental run with id: 3. \n",
      "Starting experimental run with id: 4. \n"
     ]
    },
    {
     "name": "stdout",
     "output_type": "stream",
     "text": [
      "Starting experimental run with id: 5. \n"
     ]
    },
    {
     "name": "stdout",
     "output_type": "stream",
     "text": [
      "Starting experimental run with id: 6. \n"
     ]
    },
    {
     "name": "stdout",
     "output_type": "stream",
     "text": [
      "Starting experimental run with id: 7. \n"
     ]
    },
    {
     "name": "stdout",
     "output_type": "stream",
     "text": [
      "Starting experimental run with id: 8. \n",
      "Starting experimental run with id: 9. \n"
     ]
    },
    {
     "name": "stdout",
     "output_type": "stream",
     "text": [
      "Starting experimental run with id: 10. \n",
      "Starting experimental run with id: 11. \n"
     ]
    },
    {
     "name": "stdout",
     "output_type": "stream",
     "text": [
      "Starting experimental run with id: 12. \n",
      "Starting experimental run with id: 13. \n"
     ]
    },
    {
     "name": "stdout",
     "output_type": "stream",
     "text": [
      "Starting experimental run with id: 14. \n"
     ]
    }
   ],
   "source": [
    "sizes = [1,500,1000,2000,3000,4000,5000]\n",
    "t_numeric = []\n",
    "t_numeric_add = []\n",
    "t_array = []\n",
    "t_array_add = []\n",
    "for size in sizes:\n",
    "    tn, tna, run_id_n =  insert_data('numeric', size)\n",
    "    t_numeric.append(tn)\n",
    "    t_numeric_add.append(tna)\n",
    "\n",
    "    ta, taa, run_id_a =  insert_data('array', size)\n",
    "    t_array.append(ta)\n",
    "    t_array_add.append(taa)"
   ]
  },
  {
   "cell_type": "code",
   "execution_count": 6,
   "metadata": {
    "execution": {
     "iopub.execute_input": "2020-11-18T17:07:36.330609Z",
     "iopub.status.busy": "2020-11-18T17:07:36.330031Z",
     "iopub.status.idle": "2020-11-18T17:07:36.497658Z",
     "shell.execute_reply": "2020-11-18T17:07:36.498205Z"
    }
   },
   "outputs": [
    {
     "data": {
      "image/png": "[encoded data removed]",
      "text/plain": [
       "<Figure size 432x288 with 1 Axes>"
      ]
     },
     "metadata": {
      "needs_background": "light"
     },
     "output_type": "display_data"
    }
   ],
   "source": [
    "fig, ax = plt.subplots(1,1)\n",
    "ax.plot(sizes, t_numeric, 'o-', label='Inserting row-by-row')\n",
    "ax.plot(sizes, t_numeric_add, 'o-', label='Inserting row-by-row: add_result only')\n",
    "ax.plot(sizes, t_array, 'd-', label='Inserting as binary blob')\n",
    "ax.plot(sizes, t_array_add, 'd-', label='Inserting as binary blob: add_result only')\n",
    "ax.legend()\n",
    "ax.set_xlabel('Array length')\n",
    "ax.set_ylabel('Time (s)')\n",
    "fig.tight_layout()"
   ]
  },
  {
   "cell_type": "markdown",
   "metadata": {},
   "source": [
    "As shown in the latter figure, the time to setup and and close the experiment is approximately 0.4 sec. In case of small array sizes, the difference between inserting values of data as arrays and inserting them row-by-row is relatively unimportant. At larger array sizes, i.e. above 10000 points, the cost of writing data as individual datapoints starts to become important.\n"
   ]
  },
  {
   "cell_type": "markdown",
   "metadata": {},
   "source": [
    "### Case2: Long experiment time "
   ]
  },
  {
   "cell_type": "code",
   "execution_count": 7,
   "metadata": {
    "execution": {
     "iopub.execute_input": "2020-11-18T17:07:36.500679Z",
     "iopub.status.busy": "2020-11-18T17:07:36.500208Z",
     "iopub.status.idle": "2020-11-18T17:08:31.405396Z",
     "shell.execute_reply": "2020-11-18T17:08:31.406206Z"
    }
   },
   "outputs": [
    {
     "name": "stdout",
     "output_type": "stream",
     "text": [
      "Starting experimental run with id: 15. \n",
      "Starting experimental run with id: 16. \n",
      "Starting experimental run with id: 17. \n"
     ]
    },
    {
     "name": "stdout",
     "output_type": "stream",
     "text": [
      "Starting experimental run with id: 18. \n",
      "Starting experimental run with id: 19. \n"
     ]
    },
    {
     "name": "stdout",
     "output_type": "stream",
     "text": [
      "Starting experimental run with id: 20. \n"
     ]
    },
    {
     "name": "stdout",
     "output_type": "stream",
     "text": [
      "Starting experimental run with id: 21. \n"
     ]
    },
    {
     "name": "stdout",
     "output_type": "stream",
     "text": [
      "Starting experimental run with id: 22. \n"
     ]
    },
    {
     "name": "stdout",
     "output_type": "stream",
     "text": [
      "Starting experimental run with id: 23. \n"
     ]
    },
    {
     "name": "stdout",
     "output_type": "stream",
     "text": [
      "Starting experimental run with id: 24. \n"
     ]
    },
    {
     "name": "stdout",
     "output_type": "stream",
     "text": [
      "Starting experimental run with id: 25. \n"
     ]
    },
    {
     "name": "stdout",
     "output_type": "stream",
     "text": [
      "Starting experimental run with id: 26. \n"
     ]
    },
    {
     "name": "stdout",
     "output_type": "stream",
     "text": [
      "Starting experimental run with id: 27. \n"
     ]
    },
    {
     "name": "stdout",
     "output_type": "stream",
     "text": [
      "Starting experimental run with id: 28. \n"
     ]
    }
   ],
   "source": [
    "sizes = [1,500,1000,2000,3000,4000,5000]\n",
    "nreps = 100\n",
    "t_numeric = []\n",
    "t_numeric_add = []\n",
    "t_numeric_run_ids = []\n",
    "t_array = []\n",
    "t_array_add = []\n",
    "t_array_run_ids = []\n",
    "for size in sizes:\n",
    "    tn, tna, run_id_n =  insert_data('numeric', size, nreps=nreps)\n",
    "    t_numeric.append(tn)\n",
    "    t_numeric_add.append(tna)\n",
    "    t_numeric_run_ids.append(run_id_n)\n",
    "\n",
    "    ta, taa, run_id_a =  insert_data('array', size, nreps=nreps)\n",
    "    t_array.append(ta)\n",
    "    t_array_add.append(taa)\n",
    "    t_array_run_ids.append(run_id_a)"
   ]
  },
  {
   "cell_type": "code",
   "execution_count": 8,
   "metadata": {
    "execution": {
     "iopub.execute_input": "2020-11-18T17:08:31.438257Z",
     "iopub.status.busy": "2020-11-18T17:08:31.428182Z",
     "iopub.status.idle": "2020-11-18T17:08:31.579867Z",
     "shell.execute_reply": "2020-11-18T17:08:31.580188Z"
    },
    "scrolled": true
   },
   "outputs": [
    {
     "data": {
      "image/png": "[encoded data removed]",
      "text/plain": [
       "<Figure size 432x288 with 1 Axes>"
      ]
     },
     "metadata": {
      "needs_background": "light"
     },
     "output_type": "display_data"
    }
   ],
   "source": [
    "fig, ax = plt.subplots(1,1)\n",
    "ax.plot(sizes, t_numeric, 'o-', label='Inserting row-by-row')\n",
    "ax.plot(sizes, t_numeric_add, 'o-', label='Inserting row-by-row: add_result only')\n",
    "ax.plot(sizes, t_array, 'd-', label='Inserting as binary blob')\n",
    "ax.plot(sizes, t_array_add, 'd-', label='Inserting as binary blob: add_result only')\n",
    "ax.legend()\n",
    "ax.set_xlabel('Array length')\n",
    "ax.set_ylabel('Time (s)')\n",
    "fig.tight_layout()"
   ]
  },
  {
   "cell_type": "markdown",
   "metadata": {},
   "source": [
    "However, as we increase the length of the experiment, as seen here by repeating the insertion 100 times, we see a big difference between inserting values of the data row-by-row and inserting it as a binary blob."
   ]
  },
  {
   "cell_type": "markdown",
   "metadata": {},
   "source": [
    "## Loading the data "
   ]
  },
  {
   "cell_type": "code",
   "execution_count": 9,
   "metadata": {
    "execution": {
     "iopub.execute_input": "2020-11-18T17:08:31.583404Z",
     "iopub.status.busy": "2020-11-18T17:08:31.582999Z",
     "iopub.status.idle": "2020-11-18T17:08:31.585841Z",
     "shell.execute_reply": "2020-11-18T17:08:31.586644Z"
    }
   },
   "outputs": [],
   "source": [
    "from qcodes.dataset.data_set import load_by_id\n",
    "from qcodes.dataset.data_export import get_data_by_id"
   ]
  },
  {
   "cell_type": "markdown",
   "metadata": {},
   "source": [
    "As usual you can load the data by using the ``load_by_id`` function but you will notice that the different storage methods\n",
    "are reflected in shape of the data as it is retrieved. "
   ]
  },
  {
   "cell_type": "code",
   "execution_count": 10,
   "metadata": {
    "execution": {
     "iopub.execute_input": "2020-11-18T17:08:31.589213Z",
     "iopub.status.busy": "2020-11-18T17:08:31.588283Z",
     "iopub.status.idle": "2020-11-18T17:08:31.591672Z",
     "shell.execute_reply": "2020-11-18T17:08:31.592308Z"
    }
   },
   "outputs": [],
   "source": [
    "run_id_n = t_numeric_run_ids[0]\n",
    "run_id_a = t_array_run_ids[0]"
   ]
  },
  {
   "cell_type": "code",
   "execution_count": 11,
   "metadata": {
    "execution": {
     "iopub.execute_input": "2020-11-18T17:08:31.595191Z",
     "iopub.status.busy": "2020-11-18T17:08:31.594402Z",
     "iopub.status.idle": "2020-11-18T17:08:31.605541Z",
     "shell.execute_reply": "2020-11-18T17:08:31.605086Z"
    },
    "scrolled": true
   },
   "outputs": [
    {
     "data": {
      "text/plain": [
       "{'x1': {'x1': array([0.06221115, 0.06221115, 0.1341465 , 0.1341465 , 0.23433091,\n",
       "         0.23433091, 0.81930662, 0.81930662, 0.57826575, 0.57826575,\n",
       "         0.03899557, 0.03899557, 0.66863153, 0.66863153, 0.70410951,\n",
       "         0.70410951, 0.24042497, 0.24042497, 0.07720527, 0.07720527,\n",
       "         0.54169067, 0.54169067, 0.67067373, 0.67067373, 0.09909054,\n",
       "         0.09909054, 0.26476735, 0.26476735, 0.52473068, 0.52473068,\n",
       "         0.13767188, 0.13767188, 0.89301371, 0.89301371, 0.93988475,\n",
       "         0.93988475, 0.74114282, 0.74114282, 0.31634995, 0.31634995,\n",
       "         0.4466718 , 0.4466718 , 0.78138403, 0.78138403, 0.40596988,\n",
       "         0.40596988, 0.07310927, 0.07310927, 0.95763178, 0.95763178,\n",
       "         0.88097626, 0.88097626, 0.10267085, 0.10267085, 0.50559658,\n",
       "         0.50559658, 0.32988096, 0.32988096, 0.59628382, 0.59628382,\n",
       "         0.23488562, 0.23488562, 0.07598422, 0.07598422, 0.17778044,\n",
       "         0.17778044, 0.59900983, 0.59900983, 0.94814409, 0.94814409,\n",
       "         0.09991522, 0.09991522, 0.50244836, 0.50244836, 0.20629102,\n",
       "         0.20629102, 0.40643938, 0.40643938, 0.04978746, 0.04978746,\n",
       "         0.39979045, 0.39979045, 0.92750135, 0.92750135, 0.36212184,\n",
       "         0.36212184, 0.1455275 , 0.1455275 , 0.94152193, 0.94152193,\n",
       "         0.05571497, 0.05571497, 0.00676013, 0.00676013, 0.17896943,\n",
       "         0.17896943, 0.04695985, 0.04695985, 0.3361974 , 0.3361974 ,\n",
       "         0.10171735, 0.10171735, 0.70483254, 0.70483254, 0.75256654,\n",
       "         0.75256654, 0.70464095, 0.70464095, 0.06653471, 0.06653471,\n",
       "         0.08068044, 0.08068044, 0.06025105, 0.06025105, 0.22236109,\n",
       "         0.22236109, 0.84053727, 0.84053727, 0.59965049, 0.59965049,\n",
       "         0.12531113, 0.12531113, 0.34848258, 0.34848258, 0.02148147,\n",
       "         0.02148147, 0.9053905 , 0.9053905 , 0.49054221, 0.49054221,\n",
       "         0.15173699, 0.15173699, 0.54202857, 0.54202857, 0.33934447,\n",
       "         0.33934447, 0.15908412, 0.15908412, 0.09576839, 0.09576839,\n",
       "         0.46436712, 0.46436712, 0.89202521, 0.89202521, 0.92412327,\n",
       "         0.92412327, 0.48488518, 0.48488518, 0.25310905, 0.25310905,\n",
       "         0.95296469, 0.95296469, 0.23084803, 0.23084803, 0.89220338,\n",
       "         0.89220338, 0.56756179, 0.56756179, 0.23080942, 0.23080942,\n",
       "         0.29489804, 0.29489804, 0.91023178, 0.91023178, 0.57468513,\n",
       "         0.57468513, 0.96990337, 0.96990337, 0.48713563, 0.48713563,\n",
       "         0.79382378, 0.79382378, 0.18268392, 0.18268392, 0.38798093,\n",
       "         0.38798093, 0.17723275, 0.17723275, 0.98823075, 0.98823075,\n",
       "         0.26052248, 0.26052248, 0.96371465, 0.96371465, 0.89924315,\n",
       "         0.89924315, 0.50687054, 0.50687054, 0.58003703, 0.58003703,\n",
       "         0.26458399, 0.26458399, 0.47956636, 0.47956636, 0.38881526,\n",
       "         0.38881526, 0.94207572, 0.94207572, 0.25396085, 0.25396085])}}"
      ]
     },
     "execution_count": 1,
     "metadata": {},
     "output_type": "execute_result"
    }
   ],
   "source": [
    "ds = load_by_id(run_id_n)\n",
    "ds.get_parameter_data('x1')"
   ]
  },
  {
   "cell_type": "markdown",
   "metadata": {},
   "source": [
    "And a dataset stored as binary arrays"
   ]
  },
  {
   "cell_type": "code",
   "execution_count": 12,
   "metadata": {
    "execution": {
     "iopub.execute_input": "2020-11-18T17:08:31.608907Z",
     "iopub.status.busy": "2020-11-18T17:08:31.608012Z",
     "iopub.status.idle": "2020-11-18T17:08:31.663733Z",
     "shell.execute_reply": "2020-11-18T17:08:31.662888Z"
    },
    "scrolled": true
   },
   "outputs": [
    {
     "data": {
      "text/plain": [
       "{'x1': {'x1': array([[0.39723294],\n",
       "         [0.39723294],\n",
       "         [0.05479281],\n",
       "         [0.05479281],\n",
       "         [0.85125268],\n",
       "         [0.85125268],\n",
       "         [0.80873241],\n",
       "         [0.80873241],\n",
       "         [0.8884475 ],\n",
       "         [0.8884475 ],\n",
       "         [0.42326664],\n",
       "         [0.42326664],\n",
       "         [0.76504533],\n",
       "         [0.76504533],\n",
       "         [0.06028032],\n",
       "         [0.06028032],\n",
       "         [0.04861349],\n",
       "         [0.04861349],\n",
       "         [0.19278736],\n",
       "         [0.19278736],\n",
       "         [0.51596243],\n",
       "         [0.51596243],\n",
       "         [0.93501721],\n",
       "         [0.93501721],\n",
       "         [0.66307495],\n",
       "         [0.66307495],\n",
       "         [0.29706428],\n",
       "         [0.29706428],\n",
       "         [0.30476425],\n",
       "         [0.30476425],\n",
       "         [0.6663262 ],\n",
       "         [0.6663262 ],\n",
       "         [0.38387587],\n",
       "         [0.38387587],\n",
       "         [0.91957872],\n",
       "         [0.91957872],\n",
       "         [0.89769414],\n",
       "         [0.89769414],\n",
       "         [0.72037695],\n",
       "         [0.72037695],\n",
       "         [0.44826241],\n",
       "         [0.44826241],\n",
       "         [0.40232365],\n",
       "         [0.40232365],\n",
       "         [0.55376761],\n",
       "         [0.55376761],\n",
       "         [0.17491318],\n",
       "         [0.17491318],\n",
       "         [0.65401113],\n",
       "         [0.65401113],\n",
       "         [0.8029005 ],\n",
       "         [0.8029005 ],\n",
       "         [0.02061422],\n",
       "         [0.02061422],\n",
       "         [0.8912214 ],\n",
       "         [0.8912214 ],\n",
       "         [0.73596897],\n",
       "         [0.73596897],\n",
       "         [0.13284838],\n",
       "         [0.13284838],\n",
       "         [0.59226237],\n",
       "         [0.59226237],\n",
       "         [0.39280913],\n",
       "         [0.39280913],\n",
       "         [0.82231159],\n",
       "         [0.82231159],\n",
       "         [0.58107146],\n",
       "         [0.58107146],\n",
       "         [0.49494891],\n",
       "         [0.49494891],\n",
       "         [0.84781793],\n",
       "         [0.84781793],\n",
       "         [0.54063103],\n",
       "         [0.54063103],\n",
       "         [0.64182451],\n",
       "         [0.64182451],\n",
       "         [0.70925286],\n",
       "         [0.70925286],\n",
       "         [0.22641496],\n",
       "         [0.22641496],\n",
       "         [0.40419513],\n",
       "         [0.40419513],\n",
       "         [0.3638473 ],\n",
       "         [0.3638473 ],\n",
       "         [0.02585748],\n",
       "         [0.02585748],\n",
       "         [0.0331344 ],\n",
       "         [0.0331344 ],\n",
       "         [0.39024299],\n",
       "         [0.39024299],\n",
       "         [0.14685778],\n",
       "         [0.14685778],\n",
       "         [0.81470757],\n",
       "         [0.81470757],\n",
       "         [0.4763285 ],\n",
       "         [0.4763285 ],\n",
       "         [0.46131419],\n",
       "         [0.46131419],\n",
       "         [0.24869928],\n",
       "         [0.24869928],\n",
       "         [0.02469356],\n",
       "         [0.02469356],\n",
       "         [0.61407152],\n",
       "         [0.61407152],\n",
       "         [0.87894248],\n",
       "         [0.87894248],\n",
       "         [0.54143644],\n",
       "         [0.54143644],\n",
       "         [0.17344078],\n",
       "         [0.17344078],\n",
       "         [0.3000332 ],\n",
       "         [0.3000332 ],\n",
       "         [0.19672011],\n",
       "         [0.19672011],\n",
       "         [0.75150763],\n",
       "         [0.75150763],\n",
       "         [0.25496379],\n",
       "         [0.25496379],\n",
       "         [0.71443272],\n",
       "         [0.71443272],\n",
       "         [0.44819475],\n",
       "         [0.44819475],\n",
       "         [0.91700488],\n",
       "         [0.91700488],\n",
       "         [0.51933201],\n",
       "         [0.51933201],\n",
       "         [0.21373084],\n",
       "         [0.21373084],\n",
       "         [0.91445068],\n",
       "         [0.91445068],\n",
       "         [0.73961032],\n",
       "         [0.73961032],\n",
       "         [0.69433651],\n",
       "         [0.69433651],\n",
       "         [0.34827288],\n",
       "         [0.34827288],\n",
       "         [0.27907419],\n",
       "         [0.27907419],\n",
       "         [0.67771239],\n",
       "         [0.67771239],\n",
       "         [0.28507739],\n",
       "         [0.28507739],\n",
       "         [0.31238214],\n",
       "         [0.31238214],\n",
       "         [0.8001419 ],\n",
       "         [0.8001419 ],\n",
       "         [0.85259961],\n",
       "         [0.85259961],\n",
       "         [0.07144114],\n",
       "         [0.07144114],\n",
       "         [0.45698626],\n",
       "         [0.45698626],\n",
       "         [0.1964256 ],\n",
       "         [0.1964256 ],\n",
       "         [0.84073124],\n",
       "         [0.84073124],\n",
       "         [0.02630508],\n",
       "         [0.02630508],\n",
       "         [0.0785792 ],\n",
       "         [0.0785792 ],\n",
       "         [0.63314248],\n",
       "         [0.63314248],\n",
       "         [0.38984898],\n",
       "         [0.38984898],\n",
       "         [0.63444932],\n",
       "         [0.63444932],\n",
       "         [0.27140364],\n",
       "         [0.27140364],\n",
       "         [0.76478603],\n",
       "         [0.76478603],\n",
       "         [0.89157372],\n",
       "         [0.89157372],\n",
       "         [0.33673055],\n",
       "         [0.33673055],\n",
       "         [0.47543532],\n",
       "         [0.47543532],\n",
       "         [0.45810414],\n",
       "         [0.45810414],\n",
       "         [0.8562744 ],\n",
       "         [0.8562744 ],\n",
       "         [0.88867755],\n",
       "         [0.88867755],\n",
       "         [0.28386047],\n",
       "         [0.28386047],\n",
       "         [0.75792548],\n",
       "         [0.75792548],\n",
       "         [0.75963968],\n",
       "         [0.75963968],\n",
       "         [0.31991241],\n",
       "         [0.31991241],\n",
       "         [0.02704614],\n",
       "         [0.02704614],\n",
       "         [0.84316207],\n",
       "         [0.84316207],\n",
       "         [0.06272313],\n",
       "         [0.06272313],\n",
       "         [0.51279615],\n",
       "         [0.51279615],\n",
       "         [0.84983963],\n",
       "         [0.84983963]])}}"
      ]
     },
     "execution_count": 1,
     "metadata": {},
     "output_type": "execute_result"
    }
   ],
   "source": [
    "ds = load_by_id(run_id_a)\n",
    "ds.get_parameter_data('x1')"
   ]
  },
  {
   "cell_type": "code",
   "execution_count": null,
   "metadata": {},
   "outputs": [],
   "source": []
  }
 ],
 "metadata": {
  "kernelspec": {
   "display_name": "Python 3",
   "language": "python",
   "name": "python3"
  },
  "language_info": {
   "codemirror_mode": {
    "name": "ipython",
    "version": 3
   },
   "file_extension": ".py",
   "mimetype": "text/x-python",
   "name": "python",
   "nbconvert_exporter": "python",
   "pygments_lexer": "ipython3",
   "version": "3.7.9"
  },
  "nbsphinx": {
   "timeout": 600
  },
  "toc": {
   "base_numbering": 1,
   "nav_menu": {},
   "number_sections": true,
   "sideBar": true,
   "skip_h1_title": false,
   "title_cell": "Table of Contents",
   "title_sidebar": "Contents",
   "toc_cell": false,
   "toc_position": {},
   "toc_section_display": true,
   "toc_window_display": false
  },
  "varInspector": {
   "cols": {
    "lenName": 16,
    "lenType": 16,
    "lenVar": 40
   },
   "kernels_config": {
    "python": {
     "delete_cmd_postfix": "",
     "delete_cmd_prefix": "del ",
     "library": "var_list.py",
     "varRefreshCmd": "print(var_dic_list())"
    },
    "r": {
     "delete_cmd_postfix": ") ",
     "delete_cmd_prefix": "rm(",
     "library": "var_list.r",
     "varRefreshCmd": "cat(var_dic_list()) "
    }
   },
   "types_to_exclude": [
    "module",
    "function",
    "builtin_function_or_method",
    "instance",
    "_Feature"
   ],
   "window_display": false
  }
 },
 "nbformat": 4,
 "nbformat_minor": 2
}
