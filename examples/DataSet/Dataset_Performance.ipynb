{
 "cells": [
  {
   "cell_type": "markdown",
   "metadata": {},
   "source": [
    "# DataSet Performance\n",
    "\n",
    "This notebook shows the trade-off between inserting data into a database row-by-row and as binary blobs. Inserting the data row-by-row means that we have direct access to all the data and may perform queries directly on the values of the data. On the other hand, as we shall see, this is much slower than inserting the data directly as binary blobs."
   ]
  },
  {
   "cell_type": "markdown",
   "metadata": {},
   "source": [
    "First, we choose a new location for the database to ensure that we don't add a bunch of benchmarking data to the default one."
   ]
  },
  {
   "cell_type": "code",
   "execution_count": 1,
   "metadata": {
    "execution": {
     "iopub.execute_input": "2021-03-04T09:52:33.248054Z",
     "iopub.status.busy": "2021-03-04T09:52:33.247391Z",
     "iopub.status.idle": "2021-03-04T09:52:34.076527Z",
     "shell.execute_reply": "2021-03-04T09:52:34.077026Z"
    }
   },
   "outputs": [
    {
     "name": "stdout",
     "output_type": "stream",
     "text": [
      "Logging hadn't been started.\n",
      "Activating auto-logging. Current session state plus future input saved.\n",
      "Filename       : /home/runner/.qcodes/logs/command_history.log\n",
      "Mode           : append\n",
      "Output logging : True\n",
      "Raw input log  : False\n",
      "Timestamping   : True\n",
      "State          : active\n"
     ]
    },
    {
     "name": "stdout",
     "output_type": "stream",
     "text": [
      "Qcodes Logfile : /home/runner/.qcodes/logs/210304-5218-qcodes.log\n"
     ]
    }
   ],
   "source": [
    "import os\n",
    "cwd = os.getcwd()\n",
    "import qcodes as qc\n",
    "qc.config[\"core\"][\"db_location\"] = os.path.join(cwd, 'testing.db')\n"
   ]
  },
  {
   "cell_type": "code",
   "execution_count": 2,
   "metadata": {
    "execution": {
     "iopub.execute_input": "2021-03-04T09:52:34.083841Z",
     "iopub.status.busy": "2021-03-04T09:52:34.082763Z",
     "iopub.status.idle": "2021-03-04T09:52:34.264648Z",
     "shell.execute_reply": "2021-03-04T09:52:34.264097Z"
    }
   },
   "outputs": [],
   "source": [
    "%matplotlib inline\n",
    "import time\n",
    "import matplotlib.pyplot as plt\n",
    "import numpy as np\n",
    "\n",
    "import qcodes as qc\n",
    "from qcodes.instrument.parameter import ManualParameter\n",
    "from qcodes.dataset.experiment_container import (Experiment,\n",
    "                                                 load_last_experiment,\n",
    "                                                 new_experiment)\n",
    "from qcodes.dataset.sqlite.database import initialise_database\n",
    "from qcodes import load_or_create_experiment\n",
    "from qcodes.dataset.measurements import Measurement"
   ]
  },
  {
   "cell_type": "code",
   "execution_count": 3,
   "metadata": {
    "execution": {
     "iopub.execute_input": "2021-03-04T09:52:34.268707Z",
     "iopub.status.busy": "2021-03-04T09:52:34.267938Z",
     "iopub.status.idle": "2021-03-04T09:52:34.368268Z",
     "shell.execute_reply": "2021-03-04T09:52:34.367672Z"
    }
   },
   "outputs": [
    {
     "name": "stdout",
     "output_type": "stream",
     "text": [
      "\r",
      "0it [00:00, ?it/s]"
     ]
    },
    {
     "name": "stdout",
     "output_type": "stream",
     "text": [
      "\r",
      "Upgrading database; v0 -> v1: : 0it [00:00, ?it/s]"
     ]
    },
    {
     "name": "stdout",
     "output_type": "stream",
     "text": [
      "\r",
      "Upgrading database; v0 -> v1: : 0it [00:00, ?it/s]"
     ]
    },
    {
     "name": "stdout",
     "output_type": "stream",
     "text": [
      "\n",
      "\r",
      "  0%|          | 0/1 [00:00<?, ?it/s]"
     ]
    },
    {
     "name": "stdout",
     "output_type": "stream",
     "text": [
      "\r",
      "Upgrading database; v1 -> v2:   0%|          | 0/1 [00:00<?, ?it/s]"
     ]
    },
    {
     "name": "stdout",
     "output_type": "stream",
     "text": [
      "\r",
      "Upgrading database; v1 -> v2: 100%|██████████| 1/1 [00:00<00:00, 1160.25it/s]"
     ]
    },
    {
     "name": "stdout",
     "output_type": "stream",
     "text": [
      "\n",
      "\r",
      "0it [00:00, ?it/s]"
     ]
    },
    {
     "name": "stdout",
     "output_type": "stream",
     "text": [
      "\r",
      "Upgrading database; v2 -> v3: : 0it [00:00, ?it/s]"
     ]
    },
    {
     "name": "stdout",
     "output_type": "stream",
     "text": [
      "\r",
      "Upgrading database; v2 -> v3: : 0it [00:00, ?it/s]"
     ]
    },
    {
     "name": "stdout",
     "output_type": "stream",
     "text": [
      "\n",
      "\r",
      "0it [00:00, ?it/s]"
     ]
    },
    {
     "name": "stdout",
     "output_type": "stream",
     "text": [
      "\r",
      "Upgrading database; v3 -> v4: : 0it [00:00, ?it/s]"
     ]
    },
    {
     "name": "stdout",
     "output_type": "stream",
     "text": [
      "\r",
      "Upgrading database; v3 -> v4: : 0it [00:00, ?it/s]"
     ]
    },
    {
     "name": "stdout",
     "output_type": "stream",
     "text": [
      "\n",
      "\r",
      "  0%|          | 0/1 [00:00<?, ?it/s]"
     ]
    },
    {
     "name": "stdout",
     "output_type": "stream",
     "text": [
      "\r",
      "Upgrading database; v4 -> v5:   0%|          | 0/1 [00:00<?, ?it/s]"
     ]
    },
    {
     "name": "stdout",
     "output_type": "stream",
     "text": [
      "\r",
      "Upgrading database; v4 -> v5: 100%|██████████| 1/1 [00:00<00:00, 455.26it/s]"
     ]
    },
    {
     "name": "stdout",
     "output_type": "stream",
     "text": [
      "\n",
      "\r",
      "0it [00:00, ?it/s]"
     ]
    },
    {
     "name": "stdout",
     "output_type": "stream",
     "text": [
      "\r",
      "Upgrading database; v5 -> v6: : 0it [00:00, ?it/s]"
     ]
    },
    {
     "name": "stdout",
     "output_type": "stream",
     "text": [
      "\r",
      "Upgrading database; v5 -> v6: : 0it [00:00, ?it/s]"
     ]
    },
    {
     "name": "stdout",
     "output_type": "stream",
     "text": [
      "\n",
      "\r",
      "  0%|          | 0/1 [00:00<?, ?it/s]"
     ]
    },
    {
     "name": "stdout",
     "output_type": "stream",
     "text": [
      "\r",
      "Upgrading database; v6 -> v7:   0%|          | 0/1 [00:00<?, ?it/s]"
     ]
    },
    {
     "name": "stdout",
     "output_type": "stream",
     "text": [
      "\r",
      "Upgrading database; v6 -> v7: 100%|██████████| 1/1 [00:00<00:00, 368.12it/s]"
     ]
    },
    {
     "name": "stdout",
     "output_type": "stream",
     "text": [
      "\n",
      "\r",
      "  0%|          | 0/1 [00:00<?, ?it/s]"
     ]
    },
    {
     "name": "stdout",
     "output_type": "stream",
     "text": [
      "\r",
      "Upgrading database; v7 -> v8:   0%|          | 0/1 [00:00<?, ?it/s]"
     ]
    },
    {
     "name": "stdout",
     "output_type": "stream",
     "text": [
      "\r",
      "Upgrading database; v7 -> v8: 100%|██████████| 1/1 [00:00<00:00, 672.27it/s]"
     ]
    },
    {
     "name": "stdout",
     "output_type": "stream",
     "text": [
      "\n",
      "\r",
      "  0%|          | 0/1 [00:00<?, ?it/s]"
     ]
    },
    {
     "name": "stdout",
     "output_type": "stream",
     "text": [
      "\r",
      "Upgrading database; v8 -> v9:   0%|          | 0/1 [00:00<?, ?it/s]"
     ]
    },
    {
     "name": "stdout",
     "output_type": "stream",
     "text": [
      "\r",
      "Upgrading database; v8 -> v9: 100%|██████████| 1/1 [00:00<00:00, 956.95it/s]"
     ]
    },
    {
     "name": "stdout",
     "output_type": "stream",
     "text": [
      "\n"
     ]
    }
   ],
   "source": [
    "initialise_database()\n",
    "exp = load_or_create_experiment(experiment_name='tutorial_exp', sample_name=\"no sample\")"
   ]
  },
  {
   "cell_type": "markdown",
   "metadata": {},
   "source": [
    "Here, we define a simple function to benchmark the time it takes to insert n points with either numeric or array data type.\n",
    "We will compare both the time used to call ``add_result`` and the time used for the full measurement."
   ]
  },
  {
   "cell_type": "code",
   "execution_count": 4,
   "metadata": {
    "execution": {
     "iopub.execute_input": "2021-03-04T09:52:34.376566Z",
     "iopub.status.busy": "2021-03-04T09:52:34.374966Z",
     "iopub.status.idle": "2021-03-04T09:52:34.378345Z",
     "shell.execute_reply": "2021-03-04T09:52:34.378875Z"
    }
   },
   "outputs": [],
   "source": [
    "def insert_data(paramtype, npoints, nreps=1):\n",
    "\n",
    "    meas = Measurement(exp=exp)\n",
    "\n",
    "    x1 = ManualParameter('x1')\n",
    "    x2 = ManualParameter('x2')\n",
    "    x3 = ManualParameter('x3')\n",
    "    y1 = ManualParameter('y1')\n",
    "    y2 = ManualParameter('y2')\n",
    "\n",
    "    meas.register_parameter(x1, paramtype=paramtype)\n",
    "    meas.register_parameter(x2, paramtype=paramtype)\n",
    "    meas.register_parameter(x3, paramtype=paramtype)\n",
    "    meas.register_parameter(y1, setpoints=[x1, x2, x3],\n",
    "                            paramtype=paramtype)\n",
    "    meas.register_parameter(y2, setpoints=[x1, x2, x3],\n",
    "                            paramtype=paramtype)\n",
    "    start = time.perf_counter()\n",
    "    with meas.run() as datasaver:\n",
    "        start_adding = time.perf_counter()\n",
    "        for i in range(nreps):\n",
    "            datasaver.add_result((x1, np.random.rand(npoints)),\n",
    "                                 (x2, np.random.rand(npoints)),\n",
    "                                 (x3, np.random.rand(npoints)),\n",
    "                                 (y1, np.random.rand(npoints)),\n",
    "                                 (y2, np.random.rand(npoints)))\n",
    "        stop_adding = time.perf_counter()\n",
    "        run_id = datasaver.run_id\n",
    "    stop = time.perf_counter()\n",
    "    tot_time = stop - start\n",
    "    add_time = stop_adding - start_adding\n",
    "    return tot_time, add_time, run_id"
   ]
  },
  {
   "cell_type": "markdown",
   "metadata": {},
   "source": [
    "## Comparison between numeric/array data and binary blob"
   ]
  },
  {
   "cell_type": "markdown",
   "metadata": {},
   "source": [
    "### Case1: Short experiment time"
   ]
  },
  {
   "cell_type": "code",
   "execution_count": 5,
   "metadata": {
    "execution": {
     "iopub.execute_input": "2021-03-04T09:52:34.385025Z",
     "iopub.status.busy": "2021-03-04T09:52:34.383826Z",
     "iopub.status.idle": "2021-03-04T09:52:35.173062Z",
     "shell.execute_reply": "2021-03-04T09:52:35.173533Z"
    }
   },
   "outputs": [
    {
     "name": "stdout",
     "output_type": "stream",
     "text": [
      "Starting experimental run with id: 1. \n",
      "Starting experimental run with id: 2. \n",
      "Starting experimental run with id: 3. \n",
      "Starting experimental run with id: 4. \n",
      "Starting experimental run with id: 5. \n"
     ]
    },
    {
     "name": "stdout",
     "output_type": "stream",
     "text": [
      "Starting experimental run with id: 6. \n"
     ]
    },
    {
     "name": "stdout",
     "output_type": "stream",
     "text": [
      "Starting experimental run with id: 7. \n"
     ]
    },
    {
     "name": "stdout",
     "output_type": "stream",
     "text": [
      "Starting experimental run with id: 8. \n",
      "Starting experimental run with id: 9. \n"
     ]
    },
    {
     "name": "stdout",
     "output_type": "stream",
     "text": [
      "Starting experimental run with id: 10. \n",
      "Starting experimental run with id: 11. \n"
     ]
    },
    {
     "name": "stdout",
     "output_type": "stream",
     "text": [
      "Starting experimental run with id: 12. \n"
     ]
    },
    {
     "name": "stdout",
     "output_type": "stream",
     "text": [
      "Starting experimental run with id: 13. \n"
     ]
    },
    {
     "name": "stdout",
     "output_type": "stream",
     "text": [
      "Starting experimental run with id: 14. \n"
     ]
    }
   ],
   "source": [
    "sizes = [1,500,1000,2000,3000,4000,5000]\n",
    "t_numeric = []\n",
    "t_numeric_add = []\n",
    "t_array = []\n",
    "t_array_add = []\n",
    "for size in sizes:\n",
    "    tn, tna, run_id_n =  insert_data('numeric', size)\n",
    "    t_numeric.append(tn)\n",
    "    t_numeric_add.append(tna)\n",
    "\n",
    "    ta, taa, run_id_a =  insert_data('array', size)\n",
    "    t_array.append(ta)\n",
    "    t_array_add.append(taa)"
   ]
  },
  {
   "cell_type": "code",
   "execution_count": 6,
   "metadata": {
    "execution": {
     "iopub.execute_input": "2021-03-04T09:52:35.191926Z",
     "iopub.status.busy": "2021-03-04T09:52:35.191275Z",
     "iopub.status.idle": "2021-03-04T09:52:35.417294Z",
     "shell.execute_reply": "2021-03-04T09:52:35.416731Z"
    }
   },
   "outputs": [
    {
     "data": {
      "image/png": "[encoded data removed]",
      "text/plain": [
       "<Figure size 432x288 with 1 Axes>"
      ]
     },
     "metadata": {
      "needs_background": "light"
     },
     "output_type": "display_data"
    }
   ],
   "source": [
    "fig, ax = plt.subplots(1,1)\n",
    "ax.plot(sizes, t_numeric, 'o-', label='Inserting row-by-row')\n",
    "ax.plot(sizes, t_numeric_add, 'o-', label='Inserting row-by-row: add_result only')\n",
    "ax.plot(sizes, t_array, 'd-', label='Inserting as binary blob')\n",
    "ax.plot(sizes, t_array_add, 'd-', label='Inserting as binary blob: add_result only')\n",
    "ax.legend()\n",
    "ax.set_xlabel('Array length')\n",
    "ax.set_ylabel('Time (s)')\n",
    "fig.tight_layout()"
   ]
  },
  {
   "cell_type": "markdown",
   "metadata": {},
   "source": [
    "As shown in the latter figure, the time to setup and and close the experiment is approximately 0.4 sec. In case of small array sizes, the difference between inserting values of data as arrays and inserting them row-by-row is relatively unimportant. At larger array sizes, i.e. above 10000 points, the cost of writing data as individual datapoints starts to become important.\n"
   ]
  },
  {
   "cell_type": "markdown",
   "metadata": {},
   "source": [
    "### Case2: Long experiment time "
   ]
  },
  {
   "cell_type": "code",
   "execution_count": 7,
   "metadata": {
    "execution": {
     "iopub.execute_input": "2021-03-04T09:52:35.425120Z",
     "iopub.status.busy": "2021-03-04T09:52:35.424468Z",
     "iopub.status.idle": "2021-03-04T09:53:32.003376Z",
     "shell.execute_reply": "2021-03-04T09:53:32.003996Z"
    }
   },
   "outputs": [
    {
     "name": "stdout",
     "output_type": "stream",
     "text": [
      "Starting experimental run with id: 15. \n",
      "Starting experimental run with id: 16. \n",
      "Starting experimental run with id: 17. \n"
     ]
    },
    {
     "name": "stdout",
     "output_type": "stream",
     "text": [
      "Starting experimental run with id: 18. \n"
     ]
    },
    {
     "name": "stdout",
     "output_type": "stream",
     "text": [
      "Starting experimental run with id: 19. \n"
     ]
    },
    {
     "name": "stdout",
     "output_type": "stream",
     "text": [
      "Starting experimental run with id: 20. \n"
     ]
    },
    {
     "name": "stdout",
     "output_type": "stream",
     "text": [
      "Starting experimental run with id: 21. \n"
     ]
    },
    {
     "name": "stdout",
     "output_type": "stream",
     "text": [
      "Starting experimental run with id: 22. \n"
     ]
    },
    {
     "name": "stdout",
     "output_type": "stream",
     "text": [
      "Starting experimental run with id: 23. \n"
     ]
    },
    {
     "name": "stdout",
     "output_type": "stream",
     "text": [
      "Starting experimental run with id: 24. \n"
     ]
    },
    {
     "name": "stdout",
     "output_type": "stream",
     "text": [
      "Starting experimental run with id: 25. \n"
     ]
    },
    {
     "name": "stdout",
     "output_type": "stream",
     "text": [
      "Starting experimental run with id: 26. \n"
     ]
    },
    {
     "name": "stdout",
     "output_type": "stream",
     "text": [
      "Starting experimental run with id: 27. \n"
     ]
    },
    {
     "name": "stdout",
     "output_type": "stream",
     "text": [
      "Starting experimental run with id: 28. \n"
     ]
    }
   ],
   "source": [
    "sizes = [1,500,1000,2000,3000,4000,5000]\n",
    "nreps = 100\n",
    "t_numeric = []\n",
    "t_numeric_add = []\n",
    "t_numeric_run_ids = []\n",
    "t_array = []\n",
    "t_array_add = []\n",
    "t_array_run_ids = []\n",
    "for size in sizes:\n",
    "    tn, tna, run_id_n =  insert_data('numeric', size, nreps=nreps)\n",
    "    t_numeric.append(tn)\n",
    "    t_numeric_add.append(tna)\n",
    "    t_numeric_run_ids.append(run_id_n)\n",
    "\n",
    "    ta, taa, run_id_a =  insert_data('array', size, nreps=nreps)\n",
    "    t_array.append(ta)\n",
    "    t_array_add.append(taa)\n",
    "    t_array_run_ids.append(run_id_a)"
   ]
  },
  {
   "cell_type": "code",
   "execution_count": 8,
   "metadata": {
    "execution": {
     "iopub.execute_input": "2021-03-04T09:53:32.056138Z",
     "iopub.status.busy": "2021-03-04T09:53:32.026604Z",
     "iopub.status.idle": "2021-03-04T09:53:32.250116Z",
     "shell.execute_reply": "2021-03-04T09:53:32.250656Z"
    },
    "scrolled": true
   },
   "outputs": [
    {
     "data": {
      "image/png": "[encoded data removed]",
      "text/plain": [
       "<Figure size 432x288 with 1 Axes>"
      ]
     },
     "metadata": {
      "needs_background": "light"
     },
     "output_type": "display_data"
    }
   ],
   "source": [
    "fig, ax = plt.subplots(1,1)\n",
    "ax.plot(sizes, t_numeric, 'o-', label='Inserting row-by-row')\n",
    "ax.plot(sizes, t_numeric_add, 'o-', label='Inserting row-by-row: add_result only')\n",
    "ax.plot(sizes, t_array, 'd-', label='Inserting as binary blob')\n",
    "ax.plot(sizes, t_array_add, 'd-', label='Inserting as binary blob: add_result only')\n",
    "ax.legend()\n",
    "ax.set_xlabel('Array length')\n",
    "ax.set_ylabel('Time (s)')\n",
    "fig.tight_layout()"
   ]
  },
  {
   "cell_type": "markdown",
   "metadata": {},
   "source": [
    "However, as we increase the length of the experiment, as seen here by repeating the insertion 100 times, we see a big difference between inserting values of the data row-by-row and inserting it as a binary blob."
   ]
  },
  {
   "cell_type": "markdown",
   "metadata": {},
   "source": [
    "## Loading the data "
   ]
  },
  {
   "cell_type": "code",
   "execution_count": 9,
   "metadata": {
    "execution": {
     "iopub.execute_input": "2021-03-04T09:53:32.262618Z",
     "iopub.status.busy": "2021-03-04T09:53:32.261456Z",
     "iopub.status.idle": "2021-03-04T09:53:32.270813Z",
     "shell.execute_reply": "2021-03-04T09:53:32.267329Z"
    }
   },
   "outputs": [],
   "source": [
    "from qcodes.dataset.data_set import load_by_id\n",
    "from qcodes.dataset.data_export import get_data_by_id"
   ]
  },
  {
   "cell_type": "markdown",
   "metadata": {},
   "source": [
    "As usual you can load the data by using the ``load_by_id`` function but you will notice that the different storage methods\n",
    "are reflected in shape of the data as it is retrieved. "
   ]
  },
  {
   "cell_type": "code",
   "execution_count": 10,
   "metadata": {
    "execution": {
     "iopub.execute_input": "2021-03-04T09:53:32.275903Z",
     "iopub.status.busy": "2021-03-04T09:53:32.274550Z",
     "iopub.status.idle": "2021-03-04T09:53:32.276525Z",
     "shell.execute_reply": "2021-03-04T09:53:32.277005Z"
    }
   },
   "outputs": [],
   "source": [
    "run_id_n = t_numeric_run_ids[0]\n",
    "run_id_a = t_array_run_ids[0]"
   ]
  },
  {
   "cell_type": "code",
   "execution_count": 11,
   "metadata": {
    "execution": {
     "iopub.execute_input": "2021-03-04T09:53:32.281810Z",
     "iopub.status.busy": "2021-03-04T09:53:32.281138Z",
     "iopub.status.idle": "2021-03-04T09:53:32.290887Z",
     "shell.execute_reply": "2021-03-04T09:53:32.290260Z"
    },
    "scrolled": true
   },
   "outputs": [
    {
     "data": {
      "text/plain": [
       "{'x1': {'x1': array([0.61991422, 0.61991422, 0.6909922 , 0.6909922 , 0.41894378,\n",
       "         0.41894378, 0.20332376, 0.20332376, 0.90448142, 0.90448142,\n",
       "         0.27062181, 0.27062181, 0.1318181 , 0.1318181 , 0.2054769 ,\n",
       "         0.2054769 , 0.18642257, 0.18642257, 0.89620104, 0.89620104,\n",
       "         0.54852694, 0.54852694, 0.36084595, 0.36084595, 0.80263004,\n",
       "         0.80263004, 0.26255984, 0.26255984, 0.59731259, 0.59731259,\n",
       "         0.55276686, 0.55276686, 0.68995505, 0.68995505, 0.13655881,\n",
       "         0.13655881, 0.68115672, 0.68115672, 0.29685732, 0.29685732,\n",
       "         0.66300688, 0.66300688, 0.56127054, 0.56127054, 0.51468992,\n",
       "         0.51468992, 0.068706  , 0.068706  , 0.42838358, 0.42838358,\n",
       "         0.448788  , 0.448788  , 0.85772153, 0.85772153, 0.70181836,\n",
       "         0.70181836, 0.94808317, 0.94808317, 0.90791237, 0.90791237,\n",
       "         0.35282193, 0.35282193, 0.74513807, 0.74513807, 0.66173089,\n",
       "         0.66173089, 0.55288191, 0.55288191, 0.74653117, 0.74653117,\n",
       "         0.94217271, 0.94217271, 0.1593882 , 0.1593882 , 0.92435137,\n",
       "         0.92435137, 0.71481034, 0.71481034, 0.56789397, 0.56789397,\n",
       "         0.04208436, 0.04208436, 0.92476753, 0.92476753, 0.49555469,\n",
       "         0.49555469, 0.87278689, 0.87278689, 0.04062051, 0.04062051,\n",
       "         0.61390368, 0.61390368, 0.95542973, 0.95542973, 0.82431977,\n",
       "         0.82431977, 0.77521989, 0.77521989, 0.09255265, 0.09255265,\n",
       "         0.87143653, 0.87143653, 0.07039415, 0.07039415, 0.01698569,\n",
       "         0.01698569, 0.92424817, 0.92424817, 0.64975199, 0.64975199,\n",
       "         0.68233612, 0.68233612, 0.53544031, 0.53544031, 0.75656326,\n",
       "         0.75656326, 0.62307167, 0.62307167, 0.3372944 , 0.3372944 ,\n",
       "         0.5562789 , 0.5562789 , 0.40006941, 0.40006941, 0.67644397,\n",
       "         0.67644397, 0.25815044, 0.25815044, 0.99492505, 0.99492505,\n",
       "         0.27367618, 0.27367618, 0.0327423 , 0.0327423 , 0.2513279 ,\n",
       "         0.2513279 , 0.40504267, 0.40504267, 0.77207765, 0.77207765,\n",
       "         0.90009101, 0.90009101, 0.7708809 , 0.7708809 , 0.40036458,\n",
       "         0.40036458, 0.72726247, 0.72726247, 0.03359868, 0.03359868,\n",
       "         0.97473044, 0.97473044, 0.85026444, 0.85026444, 0.42588631,\n",
       "         0.42588631, 0.74827499, 0.74827499, 0.14656358, 0.14656358,\n",
       "         0.41696903, 0.41696903, 0.83147554, 0.83147554, 0.9567918 ,\n",
       "         0.9567918 , 0.67912609, 0.67912609, 0.38407935, 0.38407935,\n",
       "         0.68659738, 0.68659738, 0.94729226, 0.94729226, 0.74453696,\n",
       "         0.74453696, 0.74089866, 0.74089866, 0.5632816 , 0.5632816 ,\n",
       "         0.64279947, 0.64279947, 0.30153791, 0.30153791, 0.62848445,\n",
       "         0.62848445, 0.60982737, 0.60982737, 0.14243573, 0.14243573,\n",
       "         0.16523488, 0.16523488, 0.63157976, 0.63157976, 0.10905338,\n",
       "         0.10905338, 0.32261583, 0.32261583, 0.98365339, 0.98365339])}}"
      ]
     },
     "execution_count": 1,
     "metadata": {},
     "output_type": "execute_result"
    }
   ],
   "source": [
    "ds = load_by_id(run_id_n)\n",
    "ds.get_parameter_data('x1')"
   ]
  },
  {
   "cell_type": "markdown",
   "metadata": {},
   "source": [
    "And a dataset stored as binary arrays"
   ]
  },
  {
   "cell_type": "code",
   "execution_count": 12,
   "metadata": {
    "execution": {
     "iopub.execute_input": "2021-03-04T09:53:32.295037Z",
     "iopub.status.busy": "2021-03-04T09:53:32.294275Z",
     "iopub.status.idle": "2021-03-04T09:53:32.360534Z",
     "shell.execute_reply": "2021-03-04T09:53:32.361094Z"
    },
    "scrolled": true
   },
   "outputs": [
    {
     "data": {
      "text/plain": [
       "{'x1': {'x1': array([[0.86666795],\n",
       "         [0.86666795],\n",
       "         [0.98674225],\n",
       "         [0.98674225],\n",
       "         [0.17643397],\n",
       "         [0.17643397],\n",
       "         [0.38040979],\n",
       "         [0.38040979],\n",
       "         [0.60967377],\n",
       "         [0.60967377],\n",
       "         [0.66726802],\n",
       "         [0.66726802],\n",
       "         [0.25307809],\n",
       "         [0.25307809],\n",
       "         [0.00878181],\n",
       "         [0.00878181],\n",
       "         [0.7018633 ],\n",
       "         [0.7018633 ],\n",
       "         [0.95011006],\n",
       "         [0.95011006],\n",
       "         [0.77266743],\n",
       "         [0.77266743],\n",
       "         [0.49642724],\n",
       "         [0.49642724],\n",
       "         [0.83817029],\n",
       "         [0.83817029],\n",
       "         [0.10841415],\n",
       "         [0.10841415],\n",
       "         [0.93950591],\n",
       "         [0.93950591],\n",
       "         [0.14337092],\n",
       "         [0.14337092],\n",
       "         [0.31866149],\n",
       "         [0.31866149],\n",
       "         [0.32063401],\n",
       "         [0.32063401],\n",
       "         [0.05429299],\n",
       "         [0.05429299],\n",
       "         [0.96561802],\n",
       "         [0.96561802],\n",
       "         [0.42131224],\n",
       "         [0.42131224],\n",
       "         [0.98269814],\n",
       "         [0.98269814],\n",
       "         [0.71515006],\n",
       "         [0.71515006],\n",
       "         [0.48366017],\n",
       "         [0.48366017],\n",
       "         [0.20853777],\n",
       "         [0.20853777],\n",
       "         [0.94714892],\n",
       "         [0.94714892],\n",
       "         [0.28681   ],\n",
       "         [0.28681   ],\n",
       "         [0.81874725],\n",
       "         [0.81874725],\n",
       "         [0.11307258],\n",
       "         [0.11307258],\n",
       "         [0.14662499],\n",
       "         [0.14662499],\n",
       "         [0.6285808 ],\n",
       "         [0.6285808 ],\n",
       "         [0.56014839],\n",
       "         [0.56014839],\n",
       "         [0.88427212],\n",
       "         [0.88427212],\n",
       "         [0.92551299],\n",
       "         [0.92551299],\n",
       "         [0.18984473],\n",
       "         [0.18984473],\n",
       "         [0.59278656],\n",
       "         [0.59278656],\n",
       "         [0.91196563],\n",
       "         [0.91196563],\n",
       "         [0.92150463],\n",
       "         [0.92150463],\n",
       "         [0.00633242],\n",
       "         [0.00633242],\n",
       "         [0.70665141],\n",
       "         [0.70665141],\n",
       "         [0.19608985],\n",
       "         [0.19608985],\n",
       "         [0.16916557],\n",
       "         [0.16916557],\n",
       "         [0.2586224 ],\n",
       "         [0.2586224 ],\n",
       "         [0.78002985],\n",
       "         [0.78002985],\n",
       "         [0.30210203],\n",
       "         [0.30210203],\n",
       "         [0.86123273],\n",
       "         [0.86123273],\n",
       "         [0.73731252],\n",
       "         [0.73731252],\n",
       "         [0.40496976],\n",
       "         [0.40496976],\n",
       "         [0.34032429],\n",
       "         [0.34032429],\n",
       "         [0.85375499],\n",
       "         [0.85375499],\n",
       "         [0.19276556],\n",
       "         [0.19276556],\n",
       "         [0.28870898],\n",
       "         [0.28870898],\n",
       "         [0.60361547],\n",
       "         [0.60361547],\n",
       "         [0.12290121],\n",
       "         [0.12290121],\n",
       "         [0.2173618 ],\n",
       "         [0.2173618 ],\n",
       "         [0.13163895],\n",
       "         [0.13163895],\n",
       "         [0.70352657],\n",
       "         [0.70352657],\n",
       "         [0.04437269],\n",
       "         [0.04437269],\n",
       "         [0.37796312],\n",
       "         [0.37796312],\n",
       "         [0.64779289],\n",
       "         [0.64779289],\n",
       "         [0.34636321],\n",
       "         [0.34636321],\n",
       "         [0.30032994],\n",
       "         [0.30032994],\n",
       "         [0.28095385],\n",
       "         [0.28095385],\n",
       "         [0.15455703],\n",
       "         [0.15455703],\n",
       "         [0.56714422],\n",
       "         [0.56714422],\n",
       "         [0.64691606],\n",
       "         [0.64691606],\n",
       "         [0.12156582],\n",
       "         [0.12156582],\n",
       "         [0.79696946],\n",
       "         [0.79696946],\n",
       "         [0.10436127],\n",
       "         [0.10436127],\n",
       "         [0.24637672],\n",
       "         [0.24637672],\n",
       "         [0.87442877],\n",
       "         [0.87442877],\n",
       "         [0.50786123],\n",
       "         [0.50786123],\n",
       "         [0.06003829],\n",
       "         [0.06003829],\n",
       "         [0.96417215],\n",
       "         [0.96417215],\n",
       "         [0.48549995],\n",
       "         [0.48549995],\n",
       "         [0.21989954],\n",
       "         [0.21989954],\n",
       "         [0.41826882],\n",
       "         [0.41826882],\n",
       "         [0.21744224],\n",
       "         [0.21744224],\n",
       "         [0.31516847],\n",
       "         [0.31516847],\n",
       "         [0.15217221],\n",
       "         [0.15217221],\n",
       "         [0.89150143],\n",
       "         [0.89150143],\n",
       "         [0.67855839],\n",
       "         [0.67855839],\n",
       "         [0.78840877],\n",
       "         [0.78840877],\n",
       "         [0.0063288 ],\n",
       "         [0.0063288 ],\n",
       "         [0.75415448],\n",
       "         [0.75415448],\n",
       "         [0.8107736 ],\n",
       "         [0.8107736 ],\n",
       "         [0.89865238],\n",
       "         [0.89865238],\n",
       "         [0.47827827],\n",
       "         [0.47827827],\n",
       "         [0.16726412],\n",
       "         [0.16726412],\n",
       "         [0.97092059],\n",
       "         [0.97092059],\n",
       "         [0.70261661],\n",
       "         [0.70261661],\n",
       "         [0.10206322],\n",
       "         [0.10206322],\n",
       "         [0.75769194],\n",
       "         [0.75769194],\n",
       "         [0.97427643],\n",
       "         [0.97427643],\n",
       "         [0.70522252],\n",
       "         [0.70522252],\n",
       "         [0.88056477],\n",
       "         [0.88056477],\n",
       "         [0.94833475],\n",
       "         [0.94833475],\n",
       "         [0.23092316],\n",
       "         [0.23092316],\n",
       "         [0.89733636],\n",
       "         [0.89733636],\n",
       "         [0.57935583],\n",
       "         [0.57935583]])}}"
      ]
     },
     "execution_count": 1,
     "metadata": {},
     "output_type": "execute_result"
    }
   ],
   "source": [
    "ds = load_by_id(run_id_a)\n",
    "ds.get_parameter_data('x1')"
   ]
  },
  {
   "cell_type": "code",
   "execution_count": null,
   "metadata": {},
   "outputs": [],
   "source": []
  }
 ],
 "metadata": {
  "kernelspec": {
   "display_name": "Python 3",
   "language": "python",
   "name": "python3"
  },
  "language_info": {
   "codemirror_mode": {
    "name": "ipython",
    "version": 3
   },
   "file_extension": ".py",
   "mimetype": "text/x-python",
   "name": "python",
   "nbconvert_exporter": "python",
   "pygments_lexer": "ipython3",
   "version": "3.7.10"
  },
  "nbsphinx": {
   "timeout": 600
  },
  "toc": {
   "base_numbering": 1,
   "nav_menu": {},
   "number_sections": true,
   "sideBar": true,
   "skip_h1_title": false,
   "title_cell": "Table of Contents",
   "title_sidebar": "Contents",
   "toc_cell": false,
   "toc_position": {},
   "toc_section_display": true,
   "toc_window_display": false
  },
  "varInspector": {
   "cols": {
    "lenName": 16,
    "lenType": 16,
    "lenVar": 40
   },
   "kernels_config": {
    "python": {
     "delete_cmd_postfix": "",
     "delete_cmd_prefix": "del ",
     "library": "var_list.py",
     "varRefreshCmd": "print(var_dic_list())"
    },
    "r": {
     "delete_cmd_postfix": ") ",
     "delete_cmd_prefix": "rm(",
     "library": "var_list.r",
     "varRefreshCmd": "cat(var_dic_list()) "
    }
   },
   "types_to_exclude": [
    "module",
    "function",
    "builtin_function_or_method",
    "instance",
    "_Feature"
   ],
   "window_display": false
  }
 },
 "nbformat": 4,
 "nbformat_minor": 2
}
