{
 "cells": [
  {
   "cell_type": "markdown",
   "metadata": {},
   "source": [
    "# DataSet Performance\n",
    "\n",
    "This notebook shows the trade-off between inserting data into a database row-by-row and as binary blobs. Inserting the data row-by-row means that we have direct access to all the data and may perform queries directly on the values of the data. On the other hand, as we shall see, this is much slower than inserting the data directly as binary blobs."
   ]
  },
  {
   "cell_type": "markdown",
   "metadata": {},
   "source": [
    "First, we choose a new location for the database to ensure that we don't add a bunch of benchmarking data to the default one."
   ]
  },
  {
   "cell_type": "code",
   "execution_count": 1,
   "metadata": {
    "execution": {
     "iopub.execute_input": "2020-11-09T13:18:02.182573Z",
     "iopub.status.busy": "2020-11-09T13:18:02.181658Z",
     "iopub.status.idle": "2020-11-09T13:18:03.164903Z",
     "shell.execute_reply": "2020-11-09T13:18:03.164264Z"
    }
   },
   "outputs": [
    {
     "name": "stdout",
     "output_type": "stream",
     "text": [
      "Logging hadn't been started.\n",
      "Activating auto-logging. Current session state plus future input saved.\n",
      "Filename       : /home/vsts/.qcodes/logs/command_history.log\n",
      "Mode           : append\n",
      "Output logging : True\n",
      "Raw input log  : False\n",
      "Timestamping   : True\n",
      "State          : active\n"
     ]
    },
    {
     "name": "stdout",
     "output_type": "stream",
     "text": [
      "Qcodes Logfile : /home/vsts/.qcodes/logs/201109-14629-qcodes.log\n"
     ]
    }
   ],
   "source": [
    "import os\n",
    "cwd = os.getcwd()\n",
    "import qcodes as qc\n",
    "qc.config[\"core\"][\"db_location\"] = os.path.join(cwd, 'testing.db')\n"
   ]
  },
  {
   "cell_type": "code",
   "execution_count": 2,
   "metadata": {
    "execution": {
     "iopub.execute_input": "2020-11-09T13:18:03.170598Z",
     "iopub.status.busy": "2020-11-09T13:18:03.169567Z",
     "iopub.status.idle": "2020-11-09T13:18:03.347069Z",
     "shell.execute_reply": "2020-11-09T13:18:03.346103Z"
    }
   },
   "outputs": [],
   "source": [
    "%matplotlib inline\n",
    "import time\n",
    "import matplotlib.pyplot as plt\n",
    "import numpy as np\n",
    "\n",
    "import qcodes as qc\n",
    "from qcodes.instrument.parameter import ManualParameter\n",
    "from qcodes.dataset.experiment_container import (Experiment,\n",
    "                                                 load_last_experiment,\n",
    "                                                 new_experiment)\n",
    "from qcodes.dataset.sqlite.database import initialise_database\n",
    "from qcodes import load_or_create_experiment\n",
    "from qcodes.dataset.measurements import Measurement"
   ]
  },
  {
   "cell_type": "code",
   "execution_count": 3,
   "metadata": {
    "execution": {
     "iopub.execute_input": "2020-11-09T13:18:03.351687Z",
     "iopub.status.busy": "2020-11-09T13:18:03.351240Z",
     "iopub.status.idle": "2020-11-09T13:18:03.468555Z",
     "shell.execute_reply": "2020-11-09T13:18:03.468022Z"
    }
   },
   "outputs": [
    {
     "name": "stdout",
     "output_type": "stream",
     "text": [
      "\r",
      "0it [00:00, ?it/s]"
     ]
    },
    {
     "name": "stdout",
     "output_type": "stream",
     "text": [
      "\r",
      "Upgrading database; v0 -> v1: : 0it [00:00, ?it/s]"
     ]
    },
    {
     "name": "stdout",
     "output_type": "stream",
     "text": [
      "\r",
      "Upgrading database; v0 -> v1: : 0it [00:00, ?it/s]"
     ]
    },
    {
     "name": "stdout",
     "output_type": "stream",
     "text": [
      "\n",
      "\r",
      "  0%|          | 0/1 [00:00<?, ?it/s]"
     ]
    },
    {
     "name": "stdout",
     "output_type": "stream",
     "text": [
      "\r",
      "Upgrading database; v1 -> v2:   0%|          | 0/1 [00:00<?, ?it/s]"
     ]
    },
    {
     "name": "stdout",
     "output_type": "stream",
     "text": [
      "\r",
      "Upgrading database; v1 -> v2: 100%|██████████| 1/1 [00:00<00:00, 520.19it/s]"
     ]
    },
    {
     "name": "stdout",
     "output_type": "stream",
     "text": [
      "\n",
      "\r",
      "0it [00:00, ?it/s]"
     ]
    },
    {
     "name": "stdout",
     "output_type": "stream",
     "text": [
      "\r",
      "Upgrading database; v2 -> v3: : 0it [00:00, ?it/s]"
     ]
    },
    {
     "name": "stdout",
     "output_type": "stream",
     "text": [
      "\r",
      "Upgrading database; v2 -> v3: : 0it [00:00, ?it/s]"
     ]
    },
    {
     "name": "stdout",
     "output_type": "stream",
     "text": [
      "\n",
      "\r",
      "0it [00:00, ?it/s]"
     ]
    },
    {
     "name": "stdout",
     "output_type": "stream",
     "text": [
      "\r",
      "Upgrading database; v3 -> v4: : 0it [00:00, ?it/s]"
     ]
    },
    {
     "name": "stdout",
     "output_type": "stream",
     "text": [
      "\r",
      "Upgrading database; v3 -> v4: : 0it [00:00, ?it/s]"
     ]
    },
    {
     "name": "stdout",
     "output_type": "stream",
     "text": [
      "\n",
      "\r",
      "  0%|          | 0/1 [00:00<?, ?it/s]"
     ]
    },
    {
     "name": "stdout",
     "output_type": "stream",
     "text": [
      "\r",
      "Upgrading database; v4 -> v5:   0%|          | 0/1 [00:00<?, ?it/s]"
     ]
    },
    {
     "name": "stdout",
     "output_type": "stream",
     "text": [
      "\r",
      "Upgrading database; v4 -> v5: 100%|██████████| 1/1 [00:00<00:00, 444.03it/s]"
     ]
    },
    {
     "name": "stdout",
     "output_type": "stream",
     "text": [
      "\n",
      "\r",
      "0it [00:00, ?it/s]"
     ]
    },
    {
     "name": "stdout",
     "output_type": "stream",
     "text": [
      "\r",
      "Upgrading database; v5 -> v6: : 0it [00:00, ?it/s]"
     ]
    },
    {
     "name": "stdout",
     "output_type": "stream",
     "text": [
      "\r",
      "Upgrading database; v5 -> v6: : 0it [00:00, ?it/s]"
     ]
    },
    {
     "name": "stdout",
     "output_type": "stream",
     "text": [
      "\n",
      "\r",
      "  0%|          | 0/1 [00:00<?, ?it/s]"
     ]
    },
    {
     "name": "stdout",
     "output_type": "stream",
     "text": [
      "\r",
      "Upgrading database; v6 -> v7:   0%|          | 0/1 [00:00<?, ?it/s]"
     ]
    },
    {
     "name": "stdout",
     "output_type": "stream",
     "text": [
      "\r",
      "Upgrading database; v6 -> v7: 100%|██████████| 1/1 [00:00<00:00, 283.55it/s]"
     ]
    },
    {
     "name": "stdout",
     "output_type": "stream",
     "text": [
      "\n",
      "\r",
      "  0%|          | 0/1 [00:00<?, ?it/s]"
     ]
    },
    {
     "name": "stdout",
     "output_type": "stream",
     "text": [
      "\r",
      "Upgrading database; v7 -> v8:   0%|          | 0/1 [00:00<?, ?it/s]"
     ]
    },
    {
     "name": "stdout",
     "output_type": "stream",
     "text": [
      "\r",
      "Upgrading database; v7 -> v8: 100%|██████████| 1/1 [00:00<00:00, 484.27it/s]"
     ]
    },
    {
     "name": "stdout",
     "output_type": "stream",
     "text": [
      "\n",
      "\r",
      "  0%|          | 0/1 [00:00<?, ?it/s]"
     ]
    },
    {
     "name": "stdout",
     "output_type": "stream",
     "text": [
      "\r",
      "Upgrading database; v8 -> v9:   0%|          | 0/1 [00:00<?, ?it/s]"
     ]
    },
    {
     "name": "stdout",
     "output_type": "stream",
     "text": [
      "\r",
      "Upgrading database; v8 -> v9: 100%|██████████| 1/1 [00:00<00:00, 469.58it/s]"
     ]
    },
    {
     "name": "stdout",
     "output_type": "stream",
     "text": [
      "\n"
     ]
    }
   ],
   "source": [
    "initialise_database()\n",
    "exp = load_or_create_experiment(experiment_name='tutorial_exp', sample_name=\"no sample\")"
   ]
  },
  {
   "cell_type": "markdown",
   "metadata": {},
   "source": [
    "Here, we define a simple function to benchmark the time it takes to insert n points with either numeric or array data type.\n",
    "We will compare both the time used to call ``add_result`` and the time used for the full measurement."
   ]
  },
  {
   "cell_type": "code",
   "execution_count": 4,
   "metadata": {
    "execution": {
     "iopub.execute_input": "2020-11-09T13:18:03.476236Z",
     "iopub.status.busy": "2020-11-09T13:18:03.475740Z",
     "iopub.status.idle": "2020-11-09T13:18:03.478584Z",
     "shell.execute_reply": "2020-11-09T13:18:03.479263Z"
    }
   },
   "outputs": [],
   "source": [
    "def insert_data(paramtype, npoints, nreps=1):\n",
    "\n",
    "    meas = Measurement(exp=exp)\n",
    "\n",
    "    x1 = ManualParameter('x1')\n",
    "    x2 = ManualParameter('x2')\n",
    "    x3 = ManualParameter('x3')\n",
    "    y1 = ManualParameter('y1')\n",
    "    y2 = ManualParameter('y2')\n",
    "\n",
    "    meas.register_parameter(x1, paramtype=paramtype)\n",
    "    meas.register_parameter(x2, paramtype=paramtype)\n",
    "    meas.register_parameter(x3, paramtype=paramtype)\n",
    "    meas.register_parameter(y1, setpoints=[x1, x2, x3],\n",
    "                            paramtype=paramtype)\n",
    "    meas.register_parameter(y2, setpoints=[x1, x2, x3],\n",
    "                            paramtype=paramtype)\n",
    "    start = time.perf_counter()\n",
    "    with meas.run() as datasaver:\n",
    "        start_adding = time.perf_counter()\n",
    "        for i in range(nreps):\n",
    "            datasaver.add_result((x1, np.random.rand(npoints)),\n",
    "                                 (x2, np.random.rand(npoints)),\n",
    "                                 (x3, np.random.rand(npoints)),\n",
    "                                 (y1, np.random.rand(npoints)),\n",
    "                                 (y2, np.random.rand(npoints)))\n",
    "        stop_adding = time.perf_counter()\n",
    "        run_id = datasaver.run_id\n",
    "    stop = time.perf_counter()\n",
    "    tot_time = stop - start\n",
    "    add_time = stop_adding - start_adding\n",
    "    return tot_time, add_time, run_id"
   ]
  },
  {
   "cell_type": "markdown",
   "metadata": {},
   "source": [
    "## Comparison between numeric/array data and binary blob"
   ]
  },
  {
   "cell_type": "markdown",
   "metadata": {},
   "source": [
    "### Case1: Short experiment time"
   ]
  },
  {
   "cell_type": "code",
   "execution_count": 5,
   "metadata": {
    "execution": {
     "iopub.execute_input": "2020-11-09T13:18:03.484377Z",
     "iopub.status.busy": "2020-11-09T13:18:03.483466Z",
     "iopub.status.idle": "2020-11-09T13:18:04.303048Z",
     "shell.execute_reply": "2020-11-09T13:18:04.302569Z"
    }
   },
   "outputs": [
    {
     "name": "stdout",
     "output_type": "stream",
     "text": [
      "Starting experimental run with id: 1. \n",
      "Starting experimental run with id: 2. \n",
      "Starting experimental run with id: 3. \n",
      "Starting experimental run with id: 4. \n",
      "Starting experimental run with id: 5. \n"
     ]
    },
    {
     "name": "stdout",
     "output_type": "stream",
     "text": [
      "Starting experimental run with id: 6. \n"
     ]
    },
    {
     "name": "stdout",
     "output_type": "stream",
     "text": [
      "Starting experimental run with id: 7. \n"
     ]
    },
    {
     "name": "stdout",
     "output_type": "stream",
     "text": [
      "Starting experimental run with id: 8. \n",
      "Starting experimental run with id: 9. \n"
     ]
    },
    {
     "name": "stdout",
     "output_type": "stream",
     "text": [
      "Starting experimental run with id: 10. \n",
      "Starting experimental run with id: 11. \n"
     ]
    },
    {
     "name": "stdout",
     "output_type": "stream",
     "text": [
      "Starting experimental run with id: 12. \n",
      "Starting experimental run with id: 13. \n"
     ]
    },
    {
     "name": "stdout",
     "output_type": "stream",
     "text": [
      "Starting experimental run with id: 14. \n"
     ]
    }
   ],
   "source": [
    "sizes = [1,500,1000,2000,3000,4000,5000]\n",
    "t_numeric = []\n",
    "t_numeric_add = []\n",
    "t_array = []\n",
    "t_array_add = []\n",
    "for size in sizes:\n",
    "    tn, tna, run_id_n =  insert_data('numeric', size)\n",
    "    t_numeric.append(tn)\n",
    "    t_numeric_add.append(tna)\n",
    "\n",
    "    ta, taa, run_id_a =  insert_data('array', size)\n",
    "    t_array.append(ta)\n",
    "    t_array_add.append(taa)"
   ]
  },
  {
   "cell_type": "code",
   "execution_count": 6,
   "metadata": {
    "execution": {
     "iopub.execute_input": "2020-11-09T13:18:04.320595Z",
     "iopub.status.busy": "2020-11-09T13:18:04.320022Z",
     "iopub.status.idle": "2020-11-09T13:18:04.498559Z",
     "shell.execute_reply": "2020-11-09T13:18:04.499113Z"
    }
   },
   "outputs": [
    {
     "data": {
      "image/png": "[encoded data removed]",
      "text/plain": [
       "<Figure size 432x288 with 1 Axes>"
      ]
     },
     "metadata": {
      "needs_background": "light"
     },
     "output_type": "display_data"
    }
   ],
   "source": [
    "fig, ax = plt.subplots(1,1)\n",
    "ax.plot(sizes, t_numeric, 'o-', label='Inserting row-by-row')\n",
    "ax.plot(sizes, t_numeric_add, 'o-', label='Inserting row-by-row: add_result only')\n",
    "ax.plot(sizes, t_array, 'd-', label='Inserting as binary blob')\n",
    "ax.plot(sizes, t_array_add, 'd-', label='Inserting as binary blob: add_result only')\n",
    "ax.legend()\n",
    "ax.set_xlabel('Array length')\n",
    "ax.set_ylabel('Time (s)')\n",
    "fig.tight_layout()"
   ]
  },
  {
   "cell_type": "markdown",
   "metadata": {},
   "source": [
    "As shown in the latter figure, the time to setup and and close the experiment is approximately 0.4 sec. In case of small array sizes, the difference between inserting values of data as arrays and inserting them row-by-row is relatively unimportant. At larger array sizes, i.e. above 10000 points, the cost of writing data as individual datapoints starts to become important.\n"
   ]
  },
  {
   "cell_type": "markdown",
   "metadata": {},
   "source": [
    "### Case2: Long experiment time "
   ]
  },
  {
   "cell_type": "code",
   "execution_count": 7,
   "metadata": {
    "execution": {
     "iopub.execute_input": "2020-11-09T13:18:04.506077Z",
     "iopub.status.busy": "2020-11-09T13:18:04.505479Z",
     "iopub.status.idle": "2020-11-09T13:18:59.401080Z",
     "shell.execute_reply": "2020-11-09T13:18:59.400504Z"
    }
   },
   "outputs": [
    {
     "name": "stdout",
     "output_type": "stream",
     "text": [
      "Starting experimental run with id: 15. \n",
      "Starting experimental run with id: 16. \n",
      "Starting experimental run with id: 17. \n"
     ]
    },
    {
     "name": "stdout",
     "output_type": "stream",
     "text": [
      "Starting experimental run with id: 18. \n",
      "Starting experimental run with id: 19. \n"
     ]
    },
    {
     "name": "stdout",
     "output_type": "stream",
     "text": [
      "Starting experimental run with id: 20. \n"
     ]
    },
    {
     "name": "stdout",
     "output_type": "stream",
     "text": [
      "Starting experimental run with id: 21. \n"
     ]
    },
    {
     "name": "stdout",
     "output_type": "stream",
     "text": [
      "Starting experimental run with id: 22. \n"
     ]
    },
    {
     "name": "stdout",
     "output_type": "stream",
     "text": [
      "Starting experimental run with id: 23. \n"
     ]
    },
    {
     "name": "stdout",
     "output_type": "stream",
     "text": [
      "Starting experimental run with id: 24. \n"
     ]
    },
    {
     "name": "stdout",
     "output_type": "stream",
     "text": [
      "Starting experimental run with id: 25. \n"
     ]
    },
    {
     "name": "stdout",
     "output_type": "stream",
     "text": [
      "Starting experimental run with id: 26. \n"
     ]
    },
    {
     "name": "stdout",
     "output_type": "stream",
     "text": [
      "Starting experimental run with id: 27. \n"
     ]
    },
    {
     "name": "stdout",
     "output_type": "stream",
     "text": [
      "Starting experimental run with id: 28. \n"
     ]
    }
   ],
   "source": [
    "sizes = [1,500,1000,2000,3000,4000,5000]\n",
    "nreps = 100\n",
    "t_numeric = []\n",
    "t_numeric_add = []\n",
    "t_numeric_run_ids = []\n",
    "t_array = []\n",
    "t_array_add = []\n",
    "t_array_run_ids = []\n",
    "for size in sizes:\n",
    "    tn, tna, run_id_n =  insert_data('numeric', size, nreps=nreps)\n",
    "    t_numeric.append(tn)\n",
    "    t_numeric_add.append(tna)\n",
    "    t_numeric_run_ids.append(run_id_n)\n",
    "\n",
    "    ta, taa, run_id_a =  insert_data('array', size, nreps=nreps)\n",
    "    t_array.append(ta)\n",
    "    t_array_add.append(taa)\n",
    "    t_array_run_ids.append(run_id_a)"
   ]
  },
  {
   "cell_type": "code",
   "execution_count": 8,
   "metadata": {
    "execution": {
     "iopub.execute_input": "2020-11-09T13:18:59.436477Z",
     "iopub.status.busy": "2020-11-09T13:18:59.416229Z",
     "iopub.status.idle": "2020-11-09T13:18:59.584177Z",
     "shell.execute_reply": "2020-11-09T13:18:59.584629Z"
    },
    "scrolled": true
   },
   "outputs": [
    {
     "data": {
      "image/png": "[encoded data removed]",
      "text/plain": [
       "<Figure size 432x288 with 1 Axes>"
      ]
     },
     "metadata": {
      "needs_background": "light"
     },
     "output_type": "display_data"
    }
   ],
   "source": [
    "fig, ax = plt.subplots(1,1)\n",
    "ax.plot(sizes, t_numeric, 'o-', label='Inserting row-by-row')\n",
    "ax.plot(sizes, t_numeric_add, 'o-', label='Inserting row-by-row: add_result only')\n",
    "ax.plot(sizes, t_array, 'd-', label='Inserting as binary blob')\n",
    "ax.plot(sizes, t_array_add, 'd-', label='Inserting as binary blob: add_result only')\n",
    "ax.legend()\n",
    "ax.set_xlabel('Array length')\n",
    "ax.set_ylabel('Time (s)')\n",
    "fig.tight_layout()"
   ]
  },
  {
   "cell_type": "markdown",
   "metadata": {},
   "source": [
    "However, as we increase the length of the experiment, as seen here by repeating the insertion 100 times, we see a big difference between inserting values of the data row-by-row and inserting it as a binary blob."
   ]
  },
  {
   "cell_type": "markdown",
   "metadata": {},
   "source": [
    "## Loading the data "
   ]
  },
  {
   "cell_type": "code",
   "execution_count": 9,
   "metadata": {
    "execution": {
     "iopub.execute_input": "2020-11-09T13:18:59.588838Z",
     "iopub.status.busy": "2020-11-09T13:18:59.588314Z",
     "iopub.status.idle": "2020-11-09T13:18:59.591352Z",
     "shell.execute_reply": "2020-11-09T13:18:59.591959Z"
    }
   },
   "outputs": [],
   "source": [
    "from qcodes.dataset.data_set import load_by_id\n",
    "from qcodes.dataset.data_export import get_data_by_id"
   ]
  },
  {
   "cell_type": "markdown",
   "metadata": {},
   "source": [
    "As usual you can load the data by using the ``load_by_id`` function but you will notice that the different storage methods\n",
    "are reflected in shape of the data as it is retrieved. "
   ]
  },
  {
   "cell_type": "code",
   "execution_count": 10,
   "metadata": {
    "execution": {
     "iopub.execute_input": "2020-11-09T13:18:59.595113Z",
     "iopub.status.busy": "2020-11-09T13:18:59.594199Z",
     "iopub.status.idle": "2020-11-09T13:18:59.598149Z",
     "shell.execute_reply": "2020-11-09T13:18:59.598583Z"
    }
   },
   "outputs": [],
   "source": [
    "run_id_n = t_numeric_run_ids[0]\n",
    "run_id_a = t_array_run_ids[0]"
   ]
  },
  {
   "cell_type": "code",
   "execution_count": 11,
   "metadata": {
    "execution": {
     "iopub.execute_input": "2020-11-09T13:18:59.601929Z",
     "iopub.status.busy": "2020-11-09T13:18:59.601420Z",
     "iopub.status.idle": "2020-11-09T13:18:59.609958Z",
     "shell.execute_reply": "2020-11-09T13:18:59.609542Z"
    },
    "scrolled": true
   },
   "outputs": [
    {
     "data": {
      "text/plain": [
       "{'x1': {'x1': array([0.74675577, 0.74675577, 0.09563181, 0.09563181, 0.45333296,\n",
       "         0.45333296, 0.33599153, 0.33599153, 0.67817616, 0.67817616,\n",
       "         0.02785552, 0.02785552, 0.1839397 , 0.1839397 , 0.09093597,\n",
       "         0.09093597, 0.26842925, 0.26842925, 0.94396553, 0.94396553,\n",
       "         0.78622799, 0.78622799, 0.63764008, 0.63764008, 0.6165074 ,\n",
       "         0.6165074 , 0.68937491, 0.68937491, 0.50031934, 0.50031934,\n",
       "         0.02867006, 0.02867006, 0.8843381 , 0.8843381 , 0.24709996,\n",
       "         0.24709996, 0.90558206, 0.90558206, 0.27623503, 0.27623503,\n",
       "         0.62833995, 0.62833995, 0.36457937, 0.36457937, 0.30822208,\n",
       "         0.30822208, 0.00832644, 0.00832644, 0.7710964 , 0.7710964 ,\n",
       "         0.1393443 , 0.1393443 , 0.93790964, 0.93790964, 0.10520857,\n",
       "         0.10520857, 0.43524271, 0.43524271, 0.42555757, 0.42555757,\n",
       "         0.10873183, 0.10873183, 0.78014842, 0.78014842, 0.71261075,\n",
       "         0.71261075, 0.01363371, 0.01363371, 0.03915068, 0.03915068,\n",
       "         0.52923387, 0.52923387, 0.85396621, 0.85396621, 0.25854957,\n",
       "         0.25854957, 0.74372609, 0.74372609, 0.85612298, 0.85612298,\n",
       "         0.92992382, 0.92992382, 0.62796509, 0.62796509, 0.72942681,\n",
       "         0.72942681, 0.62068136, 0.62068136, 0.89114428, 0.89114428,\n",
       "         0.7706322 , 0.7706322 , 0.85174208, 0.85174208, 0.65355319,\n",
       "         0.65355319, 0.48418623, 0.48418623, 0.62521454, 0.62521454,\n",
       "         0.27998753, 0.27998753, 0.87465578, 0.87465578, 0.14711525,\n",
       "         0.14711525, 0.28836877, 0.28836877, 0.8777918 , 0.8777918 ,\n",
       "         0.77102505, 0.77102505, 0.15951011, 0.15951011, 0.09596852,\n",
       "         0.09596852, 0.41215021, 0.41215021, 0.77467019, 0.77467019,\n",
       "         0.01851135, 0.01851135, 0.51962186, 0.51962186, 0.79800434,\n",
       "         0.79800434, 0.91076114, 0.91076114, 0.38213061, 0.38213061,\n",
       "         0.25136996, 0.25136996, 0.31343611, 0.31343611, 0.49276146,\n",
       "         0.49276146, 0.9912942 , 0.9912942 , 0.73858218, 0.73858218,\n",
       "         0.15202527, 0.15202527, 0.82678352, 0.82678352, 0.53008552,\n",
       "         0.53008552, 0.04372125, 0.04372125, 0.19360143, 0.19360143,\n",
       "         0.28002353, 0.28002353, 0.44243045, 0.44243045, 0.64338452,\n",
       "         0.64338452, 0.30318178, 0.30318178, 0.09466623, 0.09466623,\n",
       "         0.18250303, 0.18250303, 0.90996816, 0.90996816, 0.41955819,\n",
       "         0.41955819, 0.61808628, 0.61808628, 0.28701519, 0.28701519,\n",
       "         0.26207354, 0.26207354, 0.96372975, 0.96372975, 0.57581855,\n",
       "         0.57581855, 0.74961791, 0.74961791, 0.52542945, 0.52542945,\n",
       "         0.98336721, 0.98336721, 0.0327976 , 0.0327976 , 0.40939108,\n",
       "         0.40939108, 0.2969196 , 0.2969196 , 0.99049999, 0.99049999,\n",
       "         0.20142672, 0.20142672, 0.0600766 , 0.0600766 , 0.12323001,\n",
       "         0.12323001, 0.12742922, 0.12742922, 0.80334011, 0.80334011])}}"
      ]
     },
     "execution_count": 1,
     "metadata": {},
     "output_type": "execute_result"
    }
   ],
   "source": [
    "ds = load_by_id(run_id_n)\n",
    "ds.get_parameter_data('x1')"
   ]
  },
  {
   "cell_type": "markdown",
   "metadata": {},
   "source": [
    "And a dataset stored as binary arrays"
   ]
  },
  {
   "cell_type": "code",
   "execution_count": 12,
   "metadata": {
    "execution": {
     "iopub.execute_input": "2020-11-09T13:18:59.613185Z",
     "iopub.status.busy": "2020-11-09T13:18:59.612643Z",
     "iopub.status.idle": "2020-11-09T13:18:59.661018Z",
     "shell.execute_reply": "2020-11-09T13:18:59.661445Z"
    },
    "scrolled": true
   },
   "outputs": [
    {
     "data": {
      "text/plain": [
       "{'x1': {'x1': array([[0.10919117],\n",
       "         [0.10919117],\n",
       "         [0.01491312],\n",
       "         [0.01491312],\n",
       "         [0.35439013],\n",
       "         [0.35439013],\n",
       "         [0.89020402],\n",
       "         [0.89020402],\n",
       "         [0.20090339],\n",
       "         [0.20090339],\n",
       "         [0.29349425],\n",
       "         [0.29349425],\n",
       "         [0.70646253],\n",
       "         [0.70646253],\n",
       "         [0.66977483],\n",
       "         [0.66977483],\n",
       "         [0.35849656],\n",
       "         [0.35849656],\n",
       "         [0.44048342],\n",
       "         [0.44048342],\n",
       "         [0.34216515],\n",
       "         [0.34216515],\n",
       "         [0.17678921],\n",
       "         [0.17678921],\n",
       "         [0.76032279],\n",
       "         [0.76032279],\n",
       "         [0.27151202],\n",
       "         [0.27151202],\n",
       "         [0.31857878],\n",
       "         [0.31857878],\n",
       "         [0.80012958],\n",
       "         [0.80012958],\n",
       "         [0.79696826],\n",
       "         [0.79696826],\n",
       "         [0.10687185],\n",
       "         [0.10687185],\n",
       "         [0.79390979],\n",
       "         [0.79390979],\n",
       "         [0.33417723],\n",
       "         [0.33417723],\n",
       "         [0.10492947],\n",
       "         [0.10492947],\n",
       "         [0.54942054],\n",
       "         [0.54942054],\n",
       "         [0.50446293],\n",
       "         [0.50446293],\n",
       "         [0.55420419],\n",
       "         [0.55420419],\n",
       "         [0.69934179],\n",
       "         [0.69934179],\n",
       "         [0.64333542],\n",
       "         [0.64333542],\n",
       "         [0.96149955],\n",
       "         [0.96149955],\n",
       "         [0.20532051],\n",
       "         [0.20532051],\n",
       "         [0.85930997],\n",
       "         [0.85930997],\n",
       "         [0.58888414],\n",
       "         [0.58888414],\n",
       "         [0.07008454],\n",
       "         [0.07008454],\n",
       "         [0.91805648],\n",
       "         [0.91805648],\n",
       "         [0.5919728 ],\n",
       "         [0.5919728 ],\n",
       "         [0.39991437],\n",
       "         [0.39991437],\n",
       "         [0.34352139],\n",
       "         [0.34352139],\n",
       "         [0.97061401],\n",
       "         [0.97061401],\n",
       "         [0.3783954 ],\n",
       "         [0.3783954 ],\n",
       "         [0.1303759 ],\n",
       "         [0.1303759 ],\n",
       "         [0.44836588],\n",
       "         [0.44836588],\n",
       "         [0.14310906],\n",
       "         [0.14310906],\n",
       "         [0.68381553],\n",
       "         [0.68381553],\n",
       "         [0.30888401],\n",
       "         [0.30888401],\n",
       "         [0.83404676],\n",
       "         [0.83404676],\n",
       "         [0.80598442],\n",
       "         [0.80598442],\n",
       "         [0.21501448],\n",
       "         [0.21501448],\n",
       "         [0.34088263],\n",
       "         [0.34088263],\n",
       "         [0.57175009],\n",
       "         [0.57175009],\n",
       "         [0.59668317],\n",
       "         [0.59668317],\n",
       "         [0.59336301],\n",
       "         [0.59336301],\n",
       "         [0.40048377],\n",
       "         [0.40048377],\n",
       "         [0.96607211],\n",
       "         [0.96607211],\n",
       "         [0.94121857],\n",
       "         [0.94121857],\n",
       "         [0.11077065],\n",
       "         [0.11077065],\n",
       "         [0.42144949],\n",
       "         [0.42144949],\n",
       "         [0.23044108],\n",
       "         [0.23044108],\n",
       "         [0.15958144],\n",
       "         [0.15958144],\n",
       "         [0.25641747],\n",
       "         [0.25641747],\n",
       "         [0.2482439 ],\n",
       "         [0.2482439 ],\n",
       "         [0.83745854],\n",
       "         [0.83745854],\n",
       "         [0.20149276],\n",
       "         [0.20149276],\n",
       "         [0.94807175],\n",
       "         [0.94807175],\n",
       "         [0.25717907],\n",
       "         [0.25717907],\n",
       "         [0.59124311],\n",
       "         [0.59124311],\n",
       "         [0.60172864],\n",
       "         [0.60172864],\n",
       "         [0.46984482],\n",
       "         [0.46984482],\n",
       "         [0.10961977],\n",
       "         [0.10961977],\n",
       "         [0.86443652],\n",
       "         [0.86443652],\n",
       "         [0.2275013 ],\n",
       "         [0.2275013 ],\n",
       "         [0.18114052],\n",
       "         [0.18114052],\n",
       "         [0.82403691],\n",
       "         [0.82403691],\n",
       "         [0.23968963],\n",
       "         [0.23968963],\n",
       "         [0.66335129],\n",
       "         [0.66335129],\n",
       "         [0.92705935],\n",
       "         [0.92705935],\n",
       "         [0.72553446],\n",
       "         [0.72553446],\n",
       "         [0.69218185],\n",
       "         [0.69218185],\n",
       "         [0.12406845],\n",
       "         [0.12406845],\n",
       "         [0.47708918],\n",
       "         [0.47708918],\n",
       "         [0.11798826],\n",
       "         [0.11798826],\n",
       "         [0.72079202],\n",
       "         [0.72079202],\n",
       "         [0.57106471],\n",
       "         [0.57106471],\n",
       "         [0.27934355],\n",
       "         [0.27934355],\n",
       "         [0.41426582],\n",
       "         [0.41426582],\n",
       "         [0.28890504],\n",
       "         [0.28890504],\n",
       "         [0.96548455],\n",
       "         [0.96548455],\n",
       "         [0.07356395],\n",
       "         [0.07356395],\n",
       "         [0.20540377],\n",
       "         [0.20540377],\n",
       "         [0.95184639],\n",
       "         [0.95184639],\n",
       "         [0.8216159 ],\n",
       "         [0.8216159 ],\n",
       "         [0.97967302],\n",
       "         [0.97967302],\n",
       "         [0.43486723],\n",
       "         [0.43486723],\n",
       "         [0.17624423],\n",
       "         [0.17624423],\n",
       "         [0.10009681],\n",
       "         [0.10009681],\n",
       "         [0.90133879],\n",
       "         [0.90133879],\n",
       "         [0.98261858],\n",
       "         [0.98261858],\n",
       "         [0.01359789],\n",
       "         [0.01359789],\n",
       "         [0.10857005],\n",
       "         [0.10857005],\n",
       "         [0.92490392],\n",
       "         [0.92490392],\n",
       "         [0.72942117],\n",
       "         [0.72942117],\n",
       "         [0.84852039],\n",
       "         [0.84852039],\n",
       "         [0.83149328],\n",
       "         [0.83149328]])}}"
      ]
     },
     "execution_count": 1,
     "metadata": {},
     "output_type": "execute_result"
    }
   ],
   "source": [
    "ds = load_by_id(run_id_a)\n",
    "ds.get_parameter_data('x1')"
   ]
  },
  {
   "cell_type": "code",
   "execution_count": null,
   "metadata": {},
   "outputs": [],
   "source": []
  }
 ],
 "metadata": {
  "kernelspec": {
   "display_name": "Python 3",
   "language": "python",
   "name": "python3"
  },
  "language_info": {
   "codemirror_mode": {
    "name": "ipython",
    "version": 3
   },
   "file_extension": ".py",
   "mimetype": "text/x-python",
   "name": "python",
   "nbconvert_exporter": "python",
   "pygments_lexer": "ipython3",
   "version": "3.7.9"
  },
  "nbsphinx": {
   "timeout": 600
  },
  "toc": {
   "base_numbering": 1,
   "nav_menu": {},
   "number_sections": true,
   "sideBar": true,
   "skip_h1_title": false,
   "title_cell": "Table of Contents",
   "title_sidebar": "Contents",
   "toc_cell": false,
   "toc_position": {},
   "toc_section_display": true,
   "toc_window_display": false
  },
  "varInspector": {
   "cols": {
    "lenName": 16,
    "lenType": 16,
    "lenVar": 40
   },
   "kernels_config": {
    "python": {
     "delete_cmd_postfix": "",
     "delete_cmd_prefix": "del ",
     "library": "var_list.py",
     "varRefreshCmd": "print(var_dic_list())"
    },
    "r": {
     "delete_cmd_postfix": ") ",
     "delete_cmd_prefix": "rm(",
     "library": "var_list.r",
     "varRefreshCmd": "cat(var_dic_list()) "
    }
   },
   "types_to_exclude": [
    "module",
    "function",
    "builtin_function_or_method",
    "instance",
    "_Feature"
   ],
   "window_display": false
  }
 },
 "nbformat": 4,
 "nbformat_minor": 2
}
