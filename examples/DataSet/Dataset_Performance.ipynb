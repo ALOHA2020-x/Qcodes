{
 "cells": [
  {
   "cell_type": "markdown",
   "metadata": {},
   "source": [
    "# DataSet Performance\n",
    "\n",
    "This notebook shows the trade-off between inserting data into a database row-by-row and as binary blobs. Inserting the data row-by-row means that we have direct access to all the data and may perform queries directly on the values of the data. On the other hand, as we shall see, this is much slower than inserting the data directly as binary blobs."
   ]
  },
  {
   "cell_type": "markdown",
   "metadata": {},
   "source": [
    "First, we choose a new location for the database to ensure that we don't add a bunch of benchmarking data to the default one."
   ]
  },
  {
   "cell_type": "code",
   "execution_count": 1,
   "metadata": {},
   "outputs": [
    {
     "name": "stdout",
     "output_type": "stream",
     "text": [
      "Logging hadn't been started.\n",
      "Activating auto-logging. Current session state plus future input saved.\n",
      "Filename       : /home/vsts/.qcodes/logs/command_history.log\n",
      "Mode           : append\n",
      "Output logging : True\n",
      "Raw input log  : False\n",
      "Timestamping   : True\n",
      "State          : active\n"
     ]
    },
    {
     "name": "stdout",
     "output_type": "stream",
     "text": [
      "Qcodes Logfile : /home/vsts/.qcodes/logs/200416-18317-qcodes.log\n"
     ]
    }
   ],
   "source": [
    "import os\n",
    "cwd = os.getcwd()\n",
    "import qcodes as qc\n",
    "qc.config[\"core\"][\"db_location\"] = os.path.join(cwd, 'testing.db')\n"
   ]
  },
  {
   "cell_type": "code",
   "execution_count": 2,
   "metadata": {},
   "outputs": [],
   "source": [
    "%matplotlib inline\n",
    "import time\n",
    "import matplotlib.pyplot as plt\n",
    "import numpy as np\n",
    "\n",
    "import qcodes as qc\n",
    "from qcodes.instrument.parameter import ManualParameter\n",
    "from qcodes.dataset.experiment_container import (Experiment,\n",
    "                                                 load_last_experiment,\n",
    "                                                 new_experiment)\n",
    "from qcodes.dataset.sqlite.database import initialise_database\n",
    "from qcodes import load_or_create_experiment\n",
    "from qcodes.dataset.measurements import Measurement"
   ]
  },
  {
   "cell_type": "code",
   "execution_count": 3,
   "metadata": {},
   "outputs": [
    {
     "name": "stdout",
     "output_type": "stream",
     "text": [
      "\r",
      "0it [00:00, ?it/s]"
     ]
    },
    {
     "name": "stdout",
     "output_type": "stream",
     "text": [
      "\r",
      "Upgrading database; v0 -> v1: : 0it [00:00, ?it/s]"
     ]
    },
    {
     "name": "stdout",
     "output_type": "stream",
     "text": [
      "\r",
      "Upgrading database; v0 -> v1: : 0it [00:00, ?it/s]"
     ]
    },
    {
     "name": "stdout",
     "output_type": "stream",
     "text": [
      "\n",
      "\r",
      "  0%|          | 0/1 [00:00<?, ?it/s]"
     ]
    },
    {
     "name": "stdout",
     "output_type": "stream",
     "text": [
      "\r",
      "Upgrading database; v1 -> v2:   0%|          | 0/1 [00:00<?, ?it/s]"
     ]
    },
    {
     "name": "stdout",
     "output_type": "stream",
     "text": [
      "\r",
      "Upgrading database; v1 -> v2: 100%|██████████| 1/1 [00:00<00:00, 949.80it/s]"
     ]
    },
    {
     "name": "stdout",
     "output_type": "stream",
     "text": [
      "\n",
      "\r",
      "0it [00:00, ?it/s]"
     ]
    },
    {
     "name": "stdout",
     "output_type": "stream",
     "text": [
      "\r",
      "Upgrading database; v2 -> v3: : 0it [00:00, ?it/s]"
     ]
    },
    {
     "name": "stdout",
     "output_type": "stream",
     "text": [
      "\r",
      "Upgrading database; v2 -> v3: : 0it [00:00, ?it/s]"
     ]
    },
    {
     "name": "stdout",
     "output_type": "stream",
     "text": [
      "\n",
      "\r",
      "0it [00:00, ?it/s]"
     ]
    },
    {
     "name": "stdout",
     "output_type": "stream",
     "text": [
      "\r",
      "Upgrading database; v3 -> v4: : 0it [00:00, ?it/s]"
     ]
    },
    {
     "name": "stdout",
     "output_type": "stream",
     "text": [
      "\r",
      "Upgrading database; v3 -> v4: : 0it [00:00, ?it/s]"
     ]
    },
    {
     "name": "stdout",
     "output_type": "stream",
     "text": [
      "\n",
      "\r",
      "  0%|          | 0/1 [00:00<?, ?it/s]"
     ]
    },
    {
     "name": "stdout",
     "output_type": "stream",
     "text": [
      "\r",
      "Upgrading database; v4 -> v5:   0%|          | 0/1 [00:00<?, ?it/s]"
     ]
    },
    {
     "name": "stdout",
     "output_type": "stream",
     "text": [
      "\r",
      "Upgrading database; v4 -> v5: 100%|██████████| 1/1 [00:00<00:00, 786.48it/s]"
     ]
    },
    {
     "name": "stdout",
     "output_type": "stream",
     "text": [
      "\n",
      "\r",
      "0it [00:00, ?it/s]"
     ]
    },
    {
     "name": "stdout",
     "output_type": "stream",
     "text": [
      "\r",
      "Upgrading database; v5 -> v6: : 0it [00:00, ?it/s]"
     ]
    },
    {
     "name": "stdout",
     "output_type": "stream",
     "text": [
      "\r",
      "Upgrading database; v5 -> v6: : 0it [00:00, ?it/s]"
     ]
    },
    {
     "name": "stdout",
     "output_type": "stream",
     "text": [
      "\n",
      "\r",
      "  0%|          | 0/1 [00:00<?, ?it/s]"
     ]
    },
    {
     "name": "stdout",
     "output_type": "stream",
     "text": [
      "\r",
      "Upgrading database; v6 -> v7:   0%|          | 0/1 [00:00<?, ?it/s]"
     ]
    },
    {
     "name": "stdout",
     "output_type": "stream",
     "text": [
      "\r",
      "Upgrading database; v6 -> v7: 100%|██████████| 1/1 [00:00<00:00, 406.50it/s]"
     ]
    },
    {
     "name": "stdout",
     "output_type": "stream",
     "text": [
      "\n",
      "\r",
      "  0%|          | 0/1 [00:00<?, ?it/s]"
     ]
    },
    {
     "name": "stdout",
     "output_type": "stream",
     "text": [
      "\r",
      "Upgrading database; v7 -> v8:   0%|          | 0/1 [00:00<?, ?it/s]"
     ]
    },
    {
     "name": "stdout",
     "output_type": "stream",
     "text": [
      "\r",
      "Upgrading database; v7 -> v8: 100%|██████████| 1/1 [00:00<00:00, 676.50it/s]"
     ]
    },
    {
     "name": "stdout",
     "output_type": "stream",
     "text": [
      "\n",
      "\r",
      "  0%|          | 0/1 [00:00<?, ?it/s]"
     ]
    },
    {
     "name": "stdout",
     "output_type": "stream",
     "text": [
      "\r",
      "Upgrading database; v8 -> v9:   0%|          | 0/1 [00:00<?, ?it/s]"
     ]
    },
    {
     "name": "stdout",
     "output_type": "stream",
     "text": [
      "\r",
      "Upgrading database; v8 -> v9: 100%|██████████| 1/1 [00:00<00:00, 982.04it/s]"
     ]
    },
    {
     "name": "stdout",
     "output_type": "stream",
     "text": [
      "\n"
     ]
    }
   ],
   "source": [
    "initialise_database()\n",
    "exp = load_or_create_experiment(experiment_name='tutorial_exp', sample_name=\"no sample\")"
   ]
  },
  {
   "cell_type": "markdown",
   "metadata": {},
   "source": [
    "Here, we define a simple function to benchmark the time it takes to insert n points with either numeric or array data type.\n",
    "We will compare both the time used to call ``add_result`` and the time used for the full measurement."
   ]
  },
  {
   "cell_type": "code",
   "execution_count": 4,
   "metadata": {},
   "outputs": [],
   "source": [
    "def insert_data(paramtype, npoints, nreps=1):\n",
    "\n",
    "    meas = Measurement(exp=exp)\n",
    "\n",
    "    x1 = ManualParameter('x1')\n",
    "    x2 = ManualParameter('x2')\n",
    "    x3 = ManualParameter('x3')\n",
    "    y1 = ManualParameter('y1')\n",
    "    y2 = ManualParameter('y2')\n",
    "\n",
    "    meas.register_parameter(x1, paramtype=paramtype)\n",
    "    meas.register_parameter(x2, paramtype=paramtype)\n",
    "    meas.register_parameter(x3, paramtype=paramtype)\n",
    "    meas.register_parameter(y1, setpoints=[x1, x2, x3],\n",
    "                            paramtype=paramtype)\n",
    "    meas.register_parameter(y2, setpoints=[x1, x2, x3],\n",
    "                            paramtype=paramtype)\n",
    "    start = time.perf_counter()\n",
    "    with meas.run() as datasaver:\n",
    "        start_adding = time.perf_counter()\n",
    "        for i in range(nreps):\n",
    "            datasaver.add_result((x1, np.random.rand(npoints)),\n",
    "                                 (x2, np.random.rand(npoints)),\n",
    "                                 (x3, np.random.rand(npoints)),\n",
    "                                 (y1, np.random.rand(npoints)),\n",
    "                                 (y2, np.random.rand(npoints)))\n",
    "        stop_adding = time.perf_counter()\n",
    "        run_id = datasaver.run_id\n",
    "    stop = time.perf_counter()\n",
    "    tot_time = stop - start\n",
    "    add_time = stop_adding - start_adding\n",
    "    return tot_time, add_time, run_id"
   ]
  },
  {
   "cell_type": "markdown",
   "metadata": {},
   "source": [
    "## Comparison between numeric/array data and binary blob"
   ]
  },
  {
   "cell_type": "markdown",
   "metadata": {},
   "source": [
    "### Case1: Short experiment time"
   ]
  },
  {
   "cell_type": "code",
   "execution_count": 5,
   "metadata": {},
   "outputs": [
    {
     "name": "stdout",
     "output_type": "stream",
     "text": [
      "Starting experimental run with id: 1. \n",
      "Starting experimental run with id: 2. \n",
      "Starting experimental run with id: 3. \n"
     ]
    },
    {
     "name": "stdout",
     "output_type": "stream",
     "text": [
      "Starting experimental run with id: 4. \n"
     ]
    },
    {
     "name": "stdout",
     "output_type": "stream",
     "text": [
      "Starting experimental run with id: 5. \n"
     ]
    },
    {
     "name": "stdout",
     "output_type": "stream",
     "text": [
      "Starting experimental run with id: 6. \n"
     ]
    },
    {
     "name": "stdout",
     "output_type": "stream",
     "text": [
      "Starting experimental run with id: 7. \n"
     ]
    },
    {
     "name": "stdout",
     "output_type": "stream",
     "text": [
      "Starting experimental run with id: 8. \n",
      "Starting experimental run with id: 9. \n"
     ]
    },
    {
     "name": "stdout",
     "output_type": "stream",
     "text": [
      "Starting experimental run with id: 10. \n",
      "Starting experimental run with id: 11. \n"
     ]
    },
    {
     "name": "stdout",
     "output_type": "stream",
     "text": [
      "Starting experimental run with id: 12. \n"
     ]
    },
    {
     "name": "stdout",
     "output_type": "stream",
     "text": [
      "Starting experimental run with id: 13. \n"
     ]
    },
    {
     "name": "stdout",
     "output_type": "stream",
     "text": [
      "Starting experimental run with id: 14. \n"
     ]
    }
   ],
   "source": [
    "sizes = [1,500,1000,2000,3000,4000,5000]\n",
    "t_numeric = []\n",
    "t_numeric_add = []\n",
    "t_array = []\n",
    "t_array_add = []\n",
    "for size in sizes:\n",
    "    tn, tna, run_id_n =  insert_data('numeric', size)\n",
    "    t_numeric.append(tn)\n",
    "    t_numeric_add.append(tna)\n",
    "\n",
    "    ta, taa, run_id_a =  insert_data('array', size)\n",
    "    t_array.append(ta)\n",
    "    t_array_add.append(taa)"
   ]
  },
  {
   "cell_type": "code",
   "execution_count": 6,
   "metadata": {},
   "outputs": [
    {
     "data": {
      "image/png": "[encoded data removed]",
      "text/plain": [
       "<Figure size 432x288 with 1 Axes>"
      ]
     },
     "metadata": {
      "needs_background": "light"
     },
     "output_type": "display_data"
    }
   ],
   "source": [
    "fig, ax = plt.subplots(1,1)\n",
    "ax.plot(sizes, t_numeric, 'o-', label='Inserting row-by-row')\n",
    "ax.plot(sizes, t_numeric_add, 'o-', label='Inserting row-by-row: add_result only')\n",
    "ax.plot(sizes, t_array, 'd-', label='Inserting as binary blob')\n",
    "ax.plot(sizes, t_array_add, 'd-', label='Inserting as binary blob: add_result only')\n",
    "ax.legend()\n",
    "ax.set_xlabel('Array length')\n",
    "ax.set_ylabel('Time (s)')\n",
    "fig.tight_layout()"
   ]
  },
  {
   "cell_type": "markdown",
   "metadata": {},
   "source": [
    "As shown in the latter figure, the time to setup and and close the experiment is approximately 0.4 sec. In case of small array sizes, the difference between inserting values of data as arrays and inserting them row-by-row is relatively unimportant. At larger array sizes, i.e. above 10000 points, the cost of writing data as individual datapoints starts to become important.\n"
   ]
  },
  {
   "cell_type": "markdown",
   "metadata": {},
   "source": [
    "### Case2: Long experiment time "
   ]
  },
  {
   "cell_type": "code",
   "execution_count": 7,
   "metadata": {},
   "outputs": [
    {
     "name": "stdout",
     "output_type": "stream",
     "text": [
      "Starting experimental run with id: 15. \n",
      "Starting experimental run with id: 16. \n"
     ]
    },
    {
     "name": "stdout",
     "output_type": "stream",
     "text": [
      "Starting experimental run with id: 17. \n"
     ]
    },
    {
     "name": "stdout",
     "output_type": "stream",
     "text": [
      "Starting experimental run with id: 18. \n",
      "Starting experimental run with id: 19. \n"
     ]
    },
    {
     "name": "stdout",
     "output_type": "stream",
     "text": [
      "Starting experimental run with id: 20. \n"
     ]
    },
    {
     "name": "stdout",
     "output_type": "stream",
     "text": [
      "Starting experimental run with id: 21. \n"
     ]
    },
    {
     "name": "stdout",
     "output_type": "stream",
     "text": [
      "Starting experimental run with id: 22. \n"
     ]
    },
    {
     "name": "stdout",
     "output_type": "stream",
     "text": [
      "Starting experimental run with id: 23. \n"
     ]
    },
    {
     "name": "stdout",
     "output_type": "stream",
     "text": [
      "Starting experimental run with id: 24. \n"
     ]
    },
    {
     "name": "stdout",
     "output_type": "stream",
     "text": [
      "Starting experimental run with id: 25. \n"
     ]
    },
    {
     "name": "stdout",
     "output_type": "stream",
     "text": [
      "Starting experimental run with id: 26. \n"
     ]
    },
    {
     "name": "stdout",
     "output_type": "stream",
     "text": [
      "Starting experimental run with id: 27. \n"
     ]
    },
    {
     "name": "stdout",
     "output_type": "stream",
     "text": [
      "Starting experimental run with id: 28. \n"
     ]
    }
   ],
   "source": [
    "sizes = [1,500,1000,2000,3000,4000,5000]\n",
    "nreps = 100\n",
    "t_numeric = []\n",
    "t_numeric_add = []\n",
    "t_numeric_run_ids = []\n",
    "t_array = []\n",
    "t_array_add = []\n",
    "t_array_run_ids = []\n",
    "for size in sizes:\n",
    "    tn, tna, run_id_n =  insert_data('numeric', size, nreps=nreps)\n",
    "    t_numeric.append(tn)\n",
    "    t_numeric_add.append(tna)\n",
    "    t_numeric_run_ids.append(run_id_n)\n",
    "\n",
    "    ta, taa, run_id_a =  insert_data('array', size, nreps=nreps)\n",
    "    t_array.append(ta)\n",
    "    t_array_add.append(taa)\n",
    "    t_array_run_ids.append(run_id_a)"
   ]
  },
  {
   "cell_type": "code",
   "execution_count": 8,
   "metadata": {
    "scrolled": true
   },
   "outputs": [
    {
     "data": {
      "image/png": "[encoded data removed]",
      "text/plain": [
       "<Figure size 432x288 with 1 Axes>"
      ]
     },
     "metadata": {
      "needs_background": "light"
     },
     "output_type": "display_data"
    }
   ],
   "source": [
    "fig, ax = plt.subplots(1,1)\n",
    "ax.plot(sizes, t_numeric, 'o-', label='Inserting row-by-row')\n",
    "ax.plot(sizes, t_numeric_add, 'o-', label='Inserting row-by-row: add_result only')\n",
    "ax.plot(sizes, t_array, 'd-', label='Inserting as binary blob')\n",
    "ax.plot(sizes, t_array_add, 'd-', label='Inserting as binary blob: add_result only')\n",
    "ax.legend()\n",
    "ax.set_xlabel('Array length')\n",
    "ax.set_ylabel('Time (s)')\n",
    "fig.tight_layout()"
   ]
  },
  {
   "cell_type": "markdown",
   "metadata": {},
   "source": [
    "However, as we increase the length of the experiment, as seen here by repeating the insertion 100 times, we see a big difference between inserting values of the data row-by-row and inserting it as a binary blob."
   ]
  },
  {
   "cell_type": "markdown",
   "metadata": {},
   "source": [
    "## Loading the data "
   ]
  },
  {
   "cell_type": "code",
   "execution_count": 9,
   "metadata": {},
   "outputs": [],
   "source": [
    "from qcodes.dataset.data_set import load_by_id\n",
    "from qcodes.dataset.data_export import get_data_by_id"
   ]
  },
  {
   "cell_type": "markdown",
   "metadata": {},
   "source": [
    "As usual you can load the data by using the ``load_by_id`` function but you will notice that the different storage methods\n",
    "are reflected in shape of the data as it is retrieved. "
   ]
  },
  {
   "cell_type": "code",
   "execution_count": 10,
   "metadata": {},
   "outputs": [],
   "source": [
    "run_id_n = t_numeric_run_ids[0]\n",
    "run_id_a = t_array_run_ids[0]"
   ]
  },
  {
   "cell_type": "code",
   "execution_count": 11,
   "metadata": {
    "scrolled": true
   },
   "outputs": [
    {
     "data": {
      "text/plain": [
       "{'x1': {'x1': array([0.46381767, 0.46381767, 0.82930312, 0.82930312, 0.03683619,\n",
       "         0.03683619, 0.88836705, 0.88836705, 0.56915923, 0.56915923,\n",
       "         0.89546877, 0.89546877, 0.74370273, 0.74370273, 0.49121564,\n",
       "         0.49121564, 0.61669567, 0.61669567, 0.88841756, 0.88841756,\n",
       "         0.11019158, 0.11019158, 0.89585889, 0.89585889, 0.31086938,\n",
       "         0.31086938, 0.74474222, 0.74474222, 0.18311045, 0.18311045,\n",
       "         0.55744031, 0.55744031, 0.82005576, 0.82005576, 0.29546544,\n",
       "         0.29546544, 0.15473781, 0.15473781, 0.46906426, 0.46906426,\n",
       "         0.030722  , 0.030722  , 0.93856656, 0.93856656, 0.3077312 ,\n",
       "         0.3077312 , 0.51837375, 0.51837375, 0.50640472, 0.50640472,\n",
       "         0.4839232 , 0.4839232 , 0.39557487, 0.39557487, 0.429389  ,\n",
       "         0.429389  , 0.02421565, 0.02421565, 0.36269138, 0.36269138,\n",
       "         0.29580673, 0.29580673, 0.8746195 , 0.8746195 , 0.46729981,\n",
       "         0.46729981, 0.54166347, 0.54166347, 0.66403702, 0.66403702,\n",
       "         0.37146106, 0.37146106, 0.00723734, 0.00723734, 0.7049366 ,\n",
       "         0.7049366 , 0.30581773, 0.30581773, 0.51333995, 0.51333995,\n",
       "         0.13994843, 0.13994843, 0.72209044, 0.72209044, 0.79036922,\n",
       "         0.79036922, 0.96469892, 0.96469892, 0.27491804, 0.27491804,\n",
       "         0.14750946, 0.14750946, 0.25066979, 0.25066979, 0.6196135 ,\n",
       "         0.6196135 , 0.32781154, 0.32781154, 0.33493347, 0.33493347,\n",
       "         0.48078843, 0.48078843, 0.85510646, 0.85510646, 0.92428908,\n",
       "         0.92428908, 0.14279344, 0.14279344, 0.67602351, 0.67602351,\n",
       "         0.22899871, 0.22899871, 0.33916815, 0.33916815, 0.02132025,\n",
       "         0.02132025, 0.21191198, 0.21191198, 0.20336798, 0.20336798,\n",
       "         0.96221171, 0.96221171, 0.41827017, 0.41827017, 0.57665919,\n",
       "         0.57665919, 0.59189935, 0.59189935, 0.47466228, 0.47466228,\n",
       "         0.97564766, 0.97564766, 0.12346209, 0.12346209, 0.81751289,\n",
       "         0.81751289, 0.79136718, 0.79136718, 0.65385592, 0.65385592,\n",
       "         0.92133649, 0.92133649, 0.80257963, 0.80257963, 0.45065476,\n",
       "         0.45065476, 0.38688501, 0.38688501, 0.25767121, 0.25767121,\n",
       "         0.71759529, 0.71759529, 0.84521109, 0.84521109, 0.75665736,\n",
       "         0.75665736, 0.94509211, 0.94509211, 0.03000547, 0.03000547,\n",
       "         0.73313312, 0.73313312, 0.56252195, 0.56252195, 0.16392916,\n",
       "         0.16392916, 0.03994306, 0.03994306, 0.35861026, 0.35861026,\n",
       "         0.86448739, 0.86448739, 0.49919565, 0.49919565, 0.90849933,\n",
       "         0.90849933, 0.46054998, 0.46054998, 0.68001892, 0.68001892,\n",
       "         0.56845864, 0.56845864, 0.21831649, 0.21831649, 0.68237732,\n",
       "         0.68237732, 0.41124023, 0.41124023, 0.87132154, 0.87132154,\n",
       "         0.81678923, 0.81678923, 0.90729013, 0.90729013, 0.30964478,\n",
       "         0.30964478, 0.15583214, 0.15583214, 0.44665265, 0.44665265])}}"
      ]
     },
     "execution_count": 11,
     "metadata": {},
     "output_type": "execute_result"
    }
   ],
   "source": [
    "ds = load_by_id(run_id_n)\n",
    "ds.get_parameter_data('x1')"
   ]
  },
  {
   "cell_type": "markdown",
   "metadata": {},
   "source": [
    "And a dataset stored as binary arrays"
   ]
  },
  {
   "cell_type": "code",
   "execution_count": 12,
   "metadata": {
    "scrolled": true
   },
   "outputs": [
    {
     "data": {
      "text/plain": [
       "{'x1': {'x1': array([[0.08493666],\n",
       "         [0.08493666],\n",
       "         [0.39204418],\n",
       "         [0.39204418],\n",
       "         [0.82464753],\n",
       "         [0.82464753],\n",
       "         [0.49054252],\n",
       "         [0.49054252],\n",
       "         [0.1917801 ],\n",
       "         [0.1917801 ],\n",
       "         [0.12385787],\n",
       "         [0.12385787],\n",
       "         [0.04666352],\n",
       "         [0.04666352],\n",
       "         [0.50613547],\n",
       "         [0.50613547],\n",
       "         [0.27816999],\n",
       "         [0.27816999],\n",
       "         [0.8377843 ],\n",
       "         [0.8377843 ],\n",
       "         [0.38474183],\n",
       "         [0.38474183],\n",
       "         [0.65629663],\n",
       "         [0.65629663],\n",
       "         [0.5460881 ],\n",
       "         [0.5460881 ],\n",
       "         [0.11126501],\n",
       "         [0.11126501],\n",
       "         [0.19924738],\n",
       "         [0.19924738],\n",
       "         [0.81840995],\n",
       "         [0.81840995],\n",
       "         [0.14049302],\n",
       "         [0.14049302],\n",
       "         [0.45878297],\n",
       "         [0.45878297],\n",
       "         [0.04065602],\n",
       "         [0.04065602],\n",
       "         [0.80370997],\n",
       "         [0.80370997],\n",
       "         [0.41197585],\n",
       "         [0.41197585],\n",
       "         [0.58502002],\n",
       "         [0.58502002],\n",
       "         [0.96347568],\n",
       "         [0.96347568],\n",
       "         [0.36466111],\n",
       "         [0.36466111],\n",
       "         [0.85630263],\n",
       "         [0.85630263],\n",
       "         [0.41945457],\n",
       "         [0.41945457],\n",
       "         [0.07541231],\n",
       "         [0.07541231],\n",
       "         [0.92213874],\n",
       "         [0.92213874],\n",
       "         [0.36263655],\n",
       "         [0.36263655],\n",
       "         [0.25478211],\n",
       "         [0.25478211],\n",
       "         [0.80119105],\n",
       "         [0.80119105],\n",
       "         [0.18260724],\n",
       "         [0.18260724],\n",
       "         [0.07281998],\n",
       "         [0.07281998],\n",
       "         [0.5971399 ],\n",
       "         [0.5971399 ],\n",
       "         [0.32081628],\n",
       "         [0.32081628],\n",
       "         [0.42355974],\n",
       "         [0.42355974],\n",
       "         [0.59442673],\n",
       "         [0.59442673],\n",
       "         [0.89235897],\n",
       "         [0.89235897],\n",
       "         [0.3846926 ],\n",
       "         [0.3846926 ],\n",
       "         [0.71349086],\n",
       "         [0.71349086],\n",
       "         [0.67780294],\n",
       "         [0.67780294],\n",
       "         [0.20127459],\n",
       "         [0.20127459],\n",
       "         [0.54636801],\n",
       "         [0.54636801],\n",
       "         [0.94868985],\n",
       "         [0.94868985],\n",
       "         [0.50809558],\n",
       "         [0.50809558],\n",
       "         [0.9016063 ],\n",
       "         [0.9016063 ],\n",
       "         [0.01024795],\n",
       "         [0.01024795],\n",
       "         [0.67842701],\n",
       "         [0.67842701],\n",
       "         [0.23957401],\n",
       "         [0.23957401],\n",
       "         [0.17564381],\n",
       "         [0.17564381],\n",
       "         [0.49060559],\n",
       "         [0.49060559],\n",
       "         [0.58441076],\n",
       "         [0.58441076],\n",
       "         [0.7023882 ],\n",
       "         [0.7023882 ],\n",
       "         [0.18047134],\n",
       "         [0.18047134],\n",
       "         [0.56035963],\n",
       "         [0.56035963],\n",
       "         [0.27876867],\n",
       "         [0.27876867],\n",
       "         [0.31173942],\n",
       "         [0.31173942],\n",
       "         [0.57501897],\n",
       "         [0.57501897],\n",
       "         [0.44355895],\n",
       "         [0.44355895],\n",
       "         [0.56872769],\n",
       "         [0.56872769],\n",
       "         [0.19679292],\n",
       "         [0.19679292],\n",
       "         [0.44212756],\n",
       "         [0.44212756],\n",
       "         [0.58004598],\n",
       "         [0.58004598],\n",
       "         [0.46130473],\n",
       "         [0.46130473],\n",
       "         [0.25631832],\n",
       "         [0.25631832],\n",
       "         [0.96290005],\n",
       "         [0.96290005],\n",
       "         [0.61197443],\n",
       "         [0.61197443],\n",
       "         [0.02048231],\n",
       "         [0.02048231],\n",
       "         [0.1781256 ],\n",
       "         [0.1781256 ],\n",
       "         [0.90368525],\n",
       "         [0.90368525],\n",
       "         [0.26944802],\n",
       "         [0.26944802],\n",
       "         [0.8666376 ],\n",
       "         [0.8666376 ],\n",
       "         [0.80331231],\n",
       "         [0.80331231],\n",
       "         [0.87613701],\n",
       "         [0.87613701],\n",
       "         [0.46224772],\n",
       "         [0.46224772],\n",
       "         [0.76357486],\n",
       "         [0.76357486],\n",
       "         [0.09917173],\n",
       "         [0.09917173],\n",
       "         [0.94382089],\n",
       "         [0.94382089],\n",
       "         [0.49104707],\n",
       "         [0.49104707],\n",
       "         [0.51974347],\n",
       "         [0.51974347],\n",
       "         [0.59484384],\n",
       "         [0.59484384],\n",
       "         [0.96785403],\n",
       "         [0.96785403],\n",
       "         [0.21863727],\n",
       "         [0.21863727],\n",
       "         [0.53119048],\n",
       "         [0.53119048],\n",
       "         [0.96144786],\n",
       "         [0.96144786],\n",
       "         [0.72251859],\n",
       "         [0.72251859],\n",
       "         [0.50811721],\n",
       "         [0.50811721],\n",
       "         [0.44410272],\n",
       "         [0.44410272],\n",
       "         [0.06934286],\n",
       "         [0.06934286],\n",
       "         [0.49814568],\n",
       "         [0.49814568],\n",
       "         [0.16049796],\n",
       "         [0.16049796],\n",
       "         [0.24636119],\n",
       "         [0.24636119],\n",
       "         [0.7702311 ],\n",
       "         [0.7702311 ],\n",
       "         [0.70692161],\n",
       "         [0.70692161],\n",
       "         [0.6113162 ],\n",
       "         [0.6113162 ],\n",
       "         [0.10687721],\n",
       "         [0.10687721],\n",
       "         [0.48023416],\n",
       "         [0.48023416],\n",
       "         [0.88464714],\n",
       "         [0.88464714],\n",
       "         [0.84916184],\n",
       "         [0.84916184],\n",
       "         [0.73151461],\n",
       "         [0.73151461]])}}"
      ]
     },
     "execution_count": 12,
     "metadata": {},
     "output_type": "execute_result"
    }
   ],
   "source": [
    "ds = load_by_id(run_id_a)\n",
    "ds.get_parameter_data('x1')"
   ]
  },
  {
   "cell_type": "code",
   "execution_count": null,
   "metadata": {},
   "outputs": [],
   "source": []
  }
 ],
 "metadata": {
  "kernelspec": {
   "display_name": "Python 3",
   "language": "python",
   "name": "python3"
  },
  "language_info": {
   "codemirror_mode": {
    "name": "ipython",
    "version": 3
   },
   "file_extension": ".py",
   "mimetype": "text/x-python",
   "name": "python",
   "nbconvert_exporter": "python",
   "pygments_lexer": "ipython3",
   "version": "3.7.7"
  },
  "nbsphinx": {
   "timeout": 600
  },
  "toc": {
   "base_numbering": 1,
   "nav_menu": {},
   "number_sections": true,
   "sideBar": true,
   "skip_h1_title": false,
   "title_cell": "Table of Contents",
   "title_sidebar": "Contents",
   "toc_cell": false,
   "toc_position": {},
   "toc_section_display": true,
   "toc_window_display": false
  },
  "varInspector": {
   "cols": {
    "lenName": 16,
    "lenType": 16,
    "lenVar": 40
   },
   "kernels_config": {
    "python": {
     "delete_cmd_postfix": "",
     "delete_cmd_prefix": "del ",
     "library": "var_list.py",
     "varRefreshCmd": "print(var_dic_list())"
    },
    "r": {
     "delete_cmd_postfix": ") ",
     "delete_cmd_prefix": "rm(",
     "library": "var_list.r",
     "varRefreshCmd": "cat(var_dic_list()) "
    }
   },
   "types_to_exclude": [
    "module",
    "function",
    "builtin_function_or_method",
    "instance",
    "_Feature"
   ],
   "window_display": false
  }
 },
 "nbformat": 4,
 "nbformat_minor": 2
}
