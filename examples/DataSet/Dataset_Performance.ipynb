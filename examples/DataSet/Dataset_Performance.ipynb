{
 "cells": [
  {
   "cell_type": "markdown",
   "metadata": {},
   "source": [
    "# DataSet Performance\n",
    "\n",
    "This notebook shows the trade-off between inserting data into a database row-by-row and as binary blobs. Inserting the data row-by-row means that we have direct access to all the data and may perform queries directly on the values of the data. On the other hand, as we shall see, this is much slower than inserting the data directly as binary blobs."
   ]
  },
  {
   "cell_type": "markdown",
   "metadata": {},
   "source": [
    "First, we choose a new location for the database to ensure that we don't add a bunch of benchmarking data to the default one."
   ]
  },
  {
   "cell_type": "code",
   "execution_count": 1,
   "metadata": {
    "execution": {
     "iopub.execute_input": "2021-03-29T06:57:20.732161Z",
     "iopub.status.busy": "2021-03-29T06:57:20.731484Z",
     "iopub.status.idle": "2021-03-29T06:57:21.852700Z",
     "shell.execute_reply": "2021-03-29T06:57:21.852081Z"
    }
   },
   "outputs": [
    {
     "name": "stdout",
     "output_type": "stream",
     "text": [
      "Logging hadn't been started.\n",
      "Activating auto-logging. Current session state plus future input saved.\n",
      "Filename       : /home/runner/.qcodes/logs/command_history.log\n",
      "Mode           : append\n",
      "Output logging : True\n",
      "Raw input log  : False\n",
      "Timestamping   : True\n",
      "State          : active\n"
     ]
    },
    {
     "name": "stdout",
     "output_type": "stream",
     "text": [
      "Qcodes Logfile : /home/runner/.qcodes/logs/210329-4453-qcodes.log\n"
     ]
    }
   ],
   "source": [
    "import os\n",
    "cwd = os.getcwd()\n",
    "import qcodes as qc\n",
    "qc.config[\"core\"][\"db_location\"] = os.path.join(cwd, 'testing.db')\n"
   ]
  },
  {
   "cell_type": "code",
   "execution_count": 2,
   "metadata": {
    "execution": {
     "iopub.execute_input": "2021-03-29T06:57:21.860463Z",
     "iopub.status.busy": "2021-03-29T06:57:21.859042Z",
     "iopub.status.idle": "2021-03-29T06:57:22.093961Z",
     "shell.execute_reply": "2021-03-29T06:57:22.093002Z"
    }
   },
   "outputs": [],
   "source": [
    "%matplotlib inline\n",
    "import time\n",
    "import matplotlib.pyplot as plt\n",
    "import numpy as np\n",
    "\n",
    "import qcodes as qc\n",
    "from qcodes.instrument.parameter import ManualParameter\n",
    "from qcodes.dataset.experiment_container import (Experiment,\n",
    "                                                 load_last_experiment,\n",
    "                                                 new_experiment)\n",
    "from qcodes.dataset.sqlite.database import initialise_database\n",
    "from qcodes import load_or_create_experiment\n",
    "from qcodes.dataset.measurements import Measurement"
   ]
  },
  {
   "cell_type": "code",
   "execution_count": 3,
   "metadata": {
    "execution": {
     "iopub.execute_input": "2021-03-29T06:57:22.098952Z",
     "iopub.status.busy": "2021-03-29T06:57:22.097523Z",
     "iopub.status.idle": "2021-03-29T06:57:22.181774Z",
     "shell.execute_reply": "2021-03-29T06:57:22.182254Z"
    }
   },
   "outputs": [
    {
     "name": "stdout",
     "output_type": "stream",
     "text": [
      "\r",
      "0it [00:00, ?it/s]"
     ]
    },
    {
     "name": "stdout",
     "output_type": "stream",
     "text": [
      "\r",
      "Upgrading database; v0 -> v1: : 0it [00:00, ?it/s]"
     ]
    },
    {
     "name": "stdout",
     "output_type": "stream",
     "text": [
      "\r",
      "Upgrading database; v0 -> v1: : 0it [00:00, ?it/s]"
     ]
    },
    {
     "name": "stdout",
     "output_type": "stream",
     "text": [
      "\n",
      "\r",
      "  0%|          | 0/1 [00:00<?, ?it/s]"
     ]
    },
    {
     "name": "stdout",
     "output_type": "stream",
     "text": [
      "\r",
      "Upgrading database; v1 -> v2:   0%|          | 0/1 [00:00<?, ?it/s]"
     ]
    },
    {
     "name": "stdout",
     "output_type": "stream",
     "text": [
      "\r",
      "Upgrading database; v1 -> v2: 100%|██████████| 1/1 [00:00<00:00, 428.65it/s]"
     ]
    },
    {
     "name": "stdout",
     "output_type": "stream",
     "text": [
      "\n",
      "\r",
      "0it [00:00, ?it/s]"
     ]
    },
    {
     "name": "stdout",
     "output_type": "stream",
     "text": [
      "\r",
      "Upgrading database; v2 -> v3: : 0it [00:00, ?it/s]"
     ]
    },
    {
     "name": "stdout",
     "output_type": "stream",
     "text": [
      "\r",
      "Upgrading database; v2 -> v3: : 0it [00:00, ?it/s]"
     ]
    },
    {
     "name": "stdout",
     "output_type": "stream",
     "text": [
      "\n",
      "\r",
      "0it [00:00, ?it/s]"
     ]
    },
    {
     "name": "stdout",
     "output_type": "stream",
     "text": [
      "\r",
      "Upgrading database; v3 -> v4: : 0it [00:00, ?it/s]"
     ]
    },
    {
     "name": "stdout",
     "output_type": "stream",
     "text": [
      "\r",
      "Upgrading database; v3 -> v4: : 0it [00:00, ?it/s]"
     ]
    },
    {
     "name": "stdout",
     "output_type": "stream",
     "text": [
      "\n",
      "\r",
      "  0%|          | 0/1 [00:00<?, ?it/s]"
     ]
    },
    {
     "name": "stdout",
     "output_type": "stream",
     "text": [
      "\r",
      "Upgrading database; v4 -> v5:   0%|          | 0/1 [00:00<?, ?it/s]"
     ]
    },
    {
     "name": "stdout",
     "output_type": "stream",
     "text": [
      "\r",
      "Upgrading database; v4 -> v5: 100%|██████████| 1/1 [00:00<00:00, 494.38it/s]"
     ]
    },
    {
     "name": "stdout",
     "output_type": "stream",
     "text": [
      "\n",
      "\r",
      "0it [00:00, ?it/s]"
     ]
    },
    {
     "name": "stdout",
     "output_type": "stream",
     "text": [
      "\r",
      "Upgrading database; v5 -> v6: : 0it [00:00, ?it/s]"
     ]
    },
    {
     "name": "stdout",
     "output_type": "stream",
     "text": [
      "\r",
      "Upgrading database; v5 -> v6: : 0it [00:00, ?it/s]"
     ]
    },
    {
     "name": "stdout",
     "output_type": "stream",
     "text": [
      "\n",
      "\r",
      "  0%|          | 0/1 [00:00<?, ?it/s]"
     ]
    },
    {
     "name": "stdout",
     "output_type": "stream",
     "text": [
      "\r",
      "Upgrading database; v6 -> v7:   0%|          | 0/1 [00:00<?, ?it/s]"
     ]
    },
    {
     "name": "stdout",
     "output_type": "stream",
     "text": [
      "\r",
      "Upgrading database; v6 -> v7: 100%|██████████| 1/1 [00:00<00:00, 290.59it/s]"
     ]
    },
    {
     "name": "stdout",
     "output_type": "stream",
     "text": [
      "\n",
      "\r",
      "  0%|          | 0/1 [00:00<?, ?it/s]"
     ]
    },
    {
     "name": "stdout",
     "output_type": "stream",
     "text": [
      "\r",
      "Upgrading database; v7 -> v8:   0%|          | 0/1 [00:00<?, ?it/s]"
     ]
    },
    {
     "name": "stdout",
     "output_type": "stream",
     "text": [
      "\r",
      "Upgrading database; v7 -> v8: 100%|██████████| 1/1 [00:00<00:00, 363.36it/s]"
     ]
    },
    {
     "name": "stdout",
     "output_type": "stream",
     "text": [
      "\n",
      "\r",
      "  0%|          | 0/1 [00:00<?, ?it/s]"
     ]
    },
    {
     "name": "stdout",
     "output_type": "stream",
     "text": [
      "\r",
      "Upgrading database; v8 -> v9:   0%|          | 0/1 [00:00<?, ?it/s]"
     ]
    },
    {
     "name": "stdout",
     "output_type": "stream",
     "text": [
      "\r",
      "Upgrading database; v8 -> v9: 100%|██████████| 1/1 [00:00<00:00, 414.01it/s]"
     ]
    },
    {
     "name": "stdout",
     "output_type": "stream",
     "text": [
      "\n"
     ]
    }
   ],
   "source": [
    "initialise_database()\n",
    "exp = load_or_create_experiment(experiment_name='tutorial_exp', sample_name=\"no sample\")"
   ]
  },
  {
   "cell_type": "markdown",
   "metadata": {},
   "source": [
    "Here, we define a simple function to benchmark the time it takes to insert n points with either numeric or array data type.\n",
    "We will compare both the time used to call ``add_result`` and the time used for the full measurement."
   ]
  },
  {
   "cell_type": "code",
   "execution_count": 4,
   "metadata": {
    "execution": {
     "iopub.execute_input": "2021-03-29T06:57:22.191601Z",
     "iopub.status.busy": "2021-03-29T06:57:22.190704Z",
     "iopub.status.idle": "2021-03-29T06:57:22.194390Z",
     "shell.execute_reply": "2021-03-29T06:57:22.194880Z"
    }
   },
   "outputs": [],
   "source": [
    "def insert_data(paramtype, npoints, nreps=1):\n",
    "\n",
    "    meas = Measurement(exp=exp)\n",
    "\n",
    "    x1 = ManualParameter('x1')\n",
    "    x2 = ManualParameter('x2')\n",
    "    x3 = ManualParameter('x3')\n",
    "    y1 = ManualParameter('y1')\n",
    "    y2 = ManualParameter('y2')\n",
    "\n",
    "    meas.register_parameter(x1, paramtype=paramtype)\n",
    "    meas.register_parameter(x2, paramtype=paramtype)\n",
    "    meas.register_parameter(x3, paramtype=paramtype)\n",
    "    meas.register_parameter(y1, setpoints=[x1, x2, x3],\n",
    "                            paramtype=paramtype)\n",
    "    meas.register_parameter(y2, setpoints=[x1, x2, x3],\n",
    "                            paramtype=paramtype)\n",
    "    start = time.perf_counter()\n",
    "    with meas.run() as datasaver:\n",
    "        start_adding = time.perf_counter()\n",
    "        for i in range(nreps):\n",
    "            datasaver.add_result((x1, np.random.rand(npoints)),\n",
    "                                 (x2, np.random.rand(npoints)),\n",
    "                                 (x3, np.random.rand(npoints)),\n",
    "                                 (y1, np.random.rand(npoints)),\n",
    "                                 (y2, np.random.rand(npoints)))\n",
    "        stop_adding = time.perf_counter()\n",
    "        run_id = datasaver.run_id\n",
    "    stop = time.perf_counter()\n",
    "    tot_time = stop - start\n",
    "    add_time = stop_adding - start_adding\n",
    "    return tot_time, add_time, run_id"
   ]
  },
  {
   "cell_type": "markdown",
   "metadata": {},
   "source": [
    "## Comparison between numeric/array data and binary blob"
   ]
  },
  {
   "cell_type": "markdown",
   "metadata": {},
   "source": [
    "### Case1: Short experiment time"
   ]
  },
  {
   "cell_type": "code",
   "execution_count": 5,
   "metadata": {
    "execution": {
     "iopub.execute_input": "2021-03-29T06:57:22.202236Z",
     "iopub.status.busy": "2021-03-29T06:57:22.201423Z",
     "iopub.status.idle": "2021-03-29T06:57:23.098709Z",
     "shell.execute_reply": "2021-03-29T06:57:23.098031Z"
    }
   },
   "outputs": [
    {
     "name": "stdout",
     "output_type": "stream",
     "text": [
      "Starting experimental run with id: 1. \n",
      "Starting experimental run with id: 2. \n",
      "Starting experimental run with id: 3. \n",
      "Starting experimental run with id: 4. \n"
     ]
    },
    {
     "name": "stdout",
     "output_type": "stream",
     "text": [
      "Starting experimental run with id: 5. \n"
     ]
    },
    {
     "name": "stdout",
     "output_type": "stream",
     "text": [
      "Starting experimental run with id: 6. \n",
      "Starting experimental run with id: 7. \n"
     ]
    },
    {
     "name": "stdout",
     "output_type": "stream",
     "text": [
      "Starting experimental run with id: 8. \n",
      "Starting experimental run with id: 9. \n"
     ]
    },
    {
     "name": "stdout",
     "output_type": "stream",
     "text": [
      "Starting experimental run with id: 10. \n",
      "Starting experimental run with id: 11. \n"
     ]
    },
    {
     "name": "stdout",
     "output_type": "stream",
     "text": [
      "Starting experimental run with id: 12. \n",
      "Starting experimental run with id: 13. \n"
     ]
    },
    {
     "name": "stdout",
     "output_type": "stream",
     "text": [
      "Starting experimental run with id: 14. \n"
     ]
    }
   ],
   "source": [
    "sizes = [1,500,1000,2000,3000,4000,5000]\n",
    "t_numeric = []\n",
    "t_numeric_add = []\n",
    "t_array = []\n",
    "t_array_add = []\n",
    "for size in sizes:\n",
    "    tn, tna, run_id_n =  insert_data('numeric', size)\n",
    "    t_numeric.append(tn)\n",
    "    t_numeric_add.append(tna)\n",
    "\n",
    "    ta, taa, run_id_a =  insert_data('array', size)\n",
    "    t_array.append(ta)\n",
    "    t_array_add.append(taa)"
   ]
  },
  {
   "cell_type": "code",
   "execution_count": 6,
   "metadata": {
    "execution": {
     "iopub.execute_input": "2021-03-29T06:57:23.126898Z",
     "iopub.status.busy": "2021-03-29T06:57:23.117460Z",
     "iopub.status.idle": "2021-03-29T06:57:23.409500Z",
     "shell.execute_reply": "2021-03-29T06:57:23.408889Z"
    }
   },
   "outputs": [
    {
     "data": {
      "image/png": "[encoded data removed]",
      "text/plain": [
       "<Figure size 432x288 with 1 Axes>"
      ]
     },
     "metadata": {
      "needs_background": "light"
     },
     "output_type": "display_data"
    }
   ],
   "source": [
    "fig, ax = plt.subplots(1,1)\n",
    "ax.plot(sizes, t_numeric, 'o-', label='Inserting row-by-row')\n",
    "ax.plot(sizes, t_numeric_add, 'o-', label='Inserting row-by-row: add_result only')\n",
    "ax.plot(sizes, t_array, 'd-', label='Inserting as binary blob')\n",
    "ax.plot(sizes, t_array_add, 'd-', label='Inserting as binary blob: add_result only')\n",
    "ax.legend()\n",
    "ax.set_xlabel('Array length')\n",
    "ax.set_ylabel('Time (s)')\n",
    "fig.tight_layout()"
   ]
  },
  {
   "cell_type": "markdown",
   "metadata": {},
   "source": [
    "As shown in the latter figure, the time to setup and and close the experiment is approximately 0.4 sec. In case of small array sizes, the difference between inserting values of data as arrays and inserting them row-by-row is relatively unimportant. At larger array sizes, i.e. above 10000 points, the cost of writing data as individual datapoints starts to become important.\n"
   ]
  },
  {
   "cell_type": "markdown",
   "metadata": {},
   "source": [
    "### Case2: Long experiment time "
   ]
  },
  {
   "cell_type": "code",
   "execution_count": 7,
   "metadata": {
    "execution": {
     "iopub.execute_input": "2021-03-29T06:57:23.417691Z",
     "iopub.status.busy": "2021-03-29T06:57:23.417002Z",
     "iopub.status.idle": "2021-03-29T06:58:28.420976Z",
     "shell.execute_reply": "2021-03-29T06:58:28.419894Z"
    }
   },
   "outputs": [
    {
     "name": "stdout",
     "output_type": "stream",
     "text": [
      "Starting experimental run with id: 15. \n",
      "Starting experimental run with id: 16. \n"
     ]
    },
    {
     "name": "stdout",
     "output_type": "stream",
     "text": [
      "Starting experimental run with id: 17. \n"
     ]
    },
    {
     "name": "stdout",
     "output_type": "stream",
     "text": [
      "Starting experimental run with id: 18. \n"
     ]
    },
    {
     "name": "stdout",
     "output_type": "stream",
     "text": [
      "Starting experimental run with id: 19. \n"
     ]
    },
    {
     "name": "stdout",
     "output_type": "stream",
     "text": [
      "Starting experimental run with id: 20. \n"
     ]
    },
    {
     "name": "stdout",
     "output_type": "stream",
     "text": [
      "Starting experimental run with id: 21. \n"
     ]
    },
    {
     "name": "stdout",
     "output_type": "stream",
     "text": [
      "Starting experimental run with id: 22. \n"
     ]
    },
    {
     "name": "stdout",
     "output_type": "stream",
     "text": [
      "Starting experimental run with id: 23. \n"
     ]
    },
    {
     "name": "stdout",
     "output_type": "stream",
     "text": [
      "Starting experimental run with id: 24. \n"
     ]
    },
    {
     "name": "stdout",
     "output_type": "stream",
     "text": [
      "Starting experimental run with id: 25. \n"
     ]
    },
    {
     "name": "stdout",
     "output_type": "stream",
     "text": [
      "Starting experimental run with id: 26. \n"
     ]
    },
    {
     "name": "stdout",
     "output_type": "stream",
     "text": [
      "Starting experimental run with id: 27. \n"
     ]
    },
    {
     "name": "stdout",
     "output_type": "stream",
     "text": [
      "Starting experimental run with id: 28. \n"
     ]
    }
   ],
   "source": [
    "sizes = [1,500,1000,2000,3000,4000,5000]\n",
    "nreps = 100\n",
    "t_numeric = []\n",
    "t_numeric_add = []\n",
    "t_numeric_run_ids = []\n",
    "t_array = []\n",
    "t_array_add = []\n",
    "t_array_run_ids = []\n",
    "for size in sizes:\n",
    "    tn, tna, run_id_n =  insert_data('numeric', size, nreps=nreps)\n",
    "    t_numeric.append(tn)\n",
    "    t_numeric_add.append(tna)\n",
    "    t_numeric_run_ids.append(run_id_n)\n",
    "\n",
    "    ta, taa, run_id_a =  insert_data('array', size, nreps=nreps)\n",
    "    t_array.append(ta)\n",
    "    t_array_add.append(taa)\n",
    "    t_array_run_ids.append(run_id_a)"
   ]
  },
  {
   "cell_type": "code",
   "execution_count": 8,
   "metadata": {
    "execution": {
     "iopub.execute_input": "2021-03-29T06:58:28.446471Z",
     "iopub.status.busy": "2021-03-29T06:58:28.440228Z",
     "iopub.status.idle": "2021-03-29T06:58:28.719313Z",
     "shell.execute_reply": "2021-03-29T06:58:28.718624Z"
    },
    "scrolled": true
   },
   "outputs": [
    {
     "data": {
      "image/png": "[encoded data removed]",
      "text/plain": [
       "<Figure size 432x288 with 1 Axes>"
      ]
     },
     "metadata": {
      "needs_background": "light"
     },
     "output_type": "display_data"
    }
   ],
   "source": [
    "fig, ax = plt.subplots(1,1)\n",
    "ax.plot(sizes, t_numeric, 'o-', label='Inserting row-by-row')\n",
    "ax.plot(sizes, t_numeric_add, 'o-', label='Inserting row-by-row: add_result only')\n",
    "ax.plot(sizes, t_array, 'd-', label='Inserting as binary blob')\n",
    "ax.plot(sizes, t_array_add, 'd-', label='Inserting as binary blob: add_result only')\n",
    "ax.legend()\n",
    "ax.set_xlabel('Array length')\n",
    "ax.set_ylabel('Time (s)')\n",
    "fig.tight_layout()"
   ]
  },
  {
   "cell_type": "markdown",
   "metadata": {},
   "source": [
    "However, as we increase the length of the experiment, as seen here by repeating the insertion 100 times, we see a big difference between inserting values of the data row-by-row and inserting it as a binary blob."
   ]
  },
  {
   "cell_type": "markdown",
   "metadata": {},
   "source": [
    "## Loading the data "
   ]
  },
  {
   "cell_type": "code",
   "execution_count": 9,
   "metadata": {
    "execution": {
     "iopub.execute_input": "2021-03-29T06:58:28.724373Z",
     "iopub.status.busy": "2021-03-29T06:58:28.723044Z",
     "iopub.status.idle": "2021-03-29T06:58:28.726901Z",
     "shell.execute_reply": "2021-03-29T06:58:28.727519Z"
    }
   },
   "outputs": [],
   "source": [
    "from qcodes.dataset.data_set import load_by_id\n",
    "from qcodes.dataset.data_export import get_data_by_id"
   ]
  },
  {
   "cell_type": "markdown",
   "metadata": {},
   "source": [
    "As usual you can load the data by using the ``load_by_id`` function but you will notice that the different storage methods\n",
    "are reflected in shape of the data as it is retrieved. "
   ]
  },
  {
   "cell_type": "code",
   "execution_count": 10,
   "metadata": {
    "execution": {
     "iopub.execute_input": "2021-03-29T06:58:28.733551Z",
     "iopub.status.busy": "2021-03-29T06:58:28.731906Z",
     "iopub.status.idle": "2021-03-29T06:58:28.734300Z",
     "shell.execute_reply": "2021-03-29T06:58:28.734776Z"
    }
   },
   "outputs": [],
   "source": [
    "run_id_n = t_numeric_run_ids[0]\n",
    "run_id_a = t_array_run_ids[0]"
   ]
  },
  {
   "cell_type": "code",
   "execution_count": 11,
   "metadata": {
    "execution": {
     "iopub.execute_input": "2021-03-29T06:58:28.738496Z",
     "iopub.status.busy": "2021-03-29T06:58:28.737804Z",
     "iopub.status.idle": "2021-03-29T06:58:28.749050Z",
     "shell.execute_reply": "2021-03-29T06:58:28.748369Z"
    },
    "scrolled": true
   },
   "outputs": [
    {
     "data": {
      "text/plain": [
       "{'x1': {'x1': array([0.90866116, 0.90866116, 0.40499131, 0.40499131, 0.90355131,\n",
       "         0.90355131, 0.3515867 , 0.3515867 , 0.19648177, 0.19648177,\n",
       "         0.49872485, 0.49872485, 0.01744862, 0.01744862, 0.56915076,\n",
       "         0.56915076, 0.19556435, 0.19556435, 0.70611395, 0.70611395,\n",
       "         0.10283831, 0.10283831, 0.70478867, 0.70478867, 0.29469367,\n",
       "         0.29469367, 0.7390122 , 0.7390122 , 0.56532737, 0.56532737,\n",
       "         0.60778404, 0.60778404, 0.57874843, 0.57874843, 0.26892147,\n",
       "         0.26892147, 0.5129196 , 0.5129196 , 0.86061825, 0.86061825,\n",
       "         0.49486355, 0.49486355, 0.62371331, 0.62371331, 0.73935002,\n",
       "         0.73935002, 0.07577309, 0.07577309, 0.21330129, 0.21330129,\n",
       "         0.24042657, 0.24042657, 0.31297367, 0.31297367, 0.70640364,\n",
       "         0.70640364, 0.96171035, 0.96171035, 0.07889745, 0.07889745,\n",
       "         0.97802179, 0.97802179, 0.99519918, 0.99519918, 0.70196131,\n",
       "         0.70196131, 0.77052918, 0.77052918, 0.14949711, 0.14949711,\n",
       "         0.53310689, 0.53310689, 0.78029938, 0.78029938, 0.59561377,\n",
       "         0.59561377, 0.65446665, 0.65446665, 0.63382547, 0.63382547,\n",
       "         0.40454395, 0.40454395, 0.03667837, 0.03667837, 0.88972027,\n",
       "         0.88972027, 0.61196862, 0.61196862, 0.49725073, 0.49725073,\n",
       "         0.37581788, 0.37581788, 0.70793293, 0.70793293, 0.96470671,\n",
       "         0.96470671, 0.43474373, 0.43474373, 0.32151052, 0.32151052,\n",
       "         0.24024476, 0.24024476, 0.82529842, 0.82529842, 0.89685577,\n",
       "         0.89685577, 0.64872401, 0.64872401, 0.60443384, 0.60443384,\n",
       "         0.57630918, 0.57630918, 0.10400275, 0.10400275, 0.59904332,\n",
       "         0.59904332, 0.20843759, 0.20843759, 0.18544631, 0.18544631,\n",
       "         0.14648841, 0.14648841, 0.33456588, 0.33456588, 0.96568249,\n",
       "         0.96568249, 0.03419628, 0.03419628, 0.60975109, 0.60975109,\n",
       "         0.490918  , 0.490918  , 0.50468706, 0.50468706, 0.69294389,\n",
       "         0.69294389, 0.95643465, 0.95643465, 0.06671686, 0.06671686,\n",
       "         0.72271435, 0.72271435, 0.98067148, 0.98067148, 0.89664638,\n",
       "         0.89664638, 0.77194896, 0.77194896, 0.07322055, 0.07322055,\n",
       "         0.2299215 , 0.2299215 , 0.30774802, 0.30774802, 0.45908793,\n",
       "         0.45908793, 0.32604835, 0.32604835, 0.24508466, 0.24508466,\n",
       "         0.81195677, 0.81195677, 0.44894258, 0.44894258, 0.62625571,\n",
       "         0.62625571, 0.09124644, 0.09124644, 0.78567899, 0.78567899,\n",
       "         0.28916381, 0.28916381, 0.62076828, 0.62076828, 0.89985822,\n",
       "         0.89985822, 0.73210036, 0.73210036, 0.1967045 , 0.1967045 ,\n",
       "         0.79472741, 0.79472741, 0.86784794, 0.86784794, 0.06293592,\n",
       "         0.06293592, 0.66632854, 0.66632854, 0.32346161, 0.32346161,\n",
       "         0.42135027, 0.42135027, 0.51175596, 0.51175596, 0.62024218,\n",
       "         0.62024218, 0.06098647, 0.06098647, 0.15439324, 0.15439324])}}"
      ]
     },
     "execution_count": 1,
     "metadata": {},
     "output_type": "execute_result"
    }
   ],
   "source": [
    "ds = load_by_id(run_id_n)\n",
    "ds.get_parameter_data('x1')"
   ]
  },
  {
   "cell_type": "markdown",
   "metadata": {},
   "source": [
    "And a dataset stored as binary arrays"
   ]
  },
  {
   "cell_type": "code",
   "execution_count": 12,
   "metadata": {
    "execution": {
     "iopub.execute_input": "2021-03-29T06:58:28.753074Z",
     "iopub.status.busy": "2021-03-29T06:58:28.752418Z",
     "iopub.status.idle": "2021-03-29T06:58:28.832265Z",
     "shell.execute_reply": "2021-03-29T06:58:28.831619Z"
    },
    "scrolled": true
   },
   "outputs": [
    {
     "data": {
      "text/plain": [
       "{'x1': {'x1': array([[0.72697131],\n",
       "         [0.72697131],\n",
       "         [0.43137247],\n",
       "         [0.43137247],\n",
       "         [0.54601478],\n",
       "         [0.54601478],\n",
       "         [0.82122964],\n",
       "         [0.82122964],\n",
       "         [0.69783134],\n",
       "         [0.69783134],\n",
       "         [0.20632008],\n",
       "         [0.20632008],\n",
       "         [0.32815872],\n",
       "         [0.32815872],\n",
       "         [0.74410018],\n",
       "         [0.74410018],\n",
       "         [0.03613906],\n",
       "         [0.03613906],\n",
       "         [0.1466374 ],\n",
       "         [0.1466374 ],\n",
       "         [0.59101662],\n",
       "         [0.59101662],\n",
       "         [0.09029744],\n",
       "         [0.09029744],\n",
       "         [0.62050121],\n",
       "         [0.62050121],\n",
       "         [0.44844494],\n",
       "         [0.44844494],\n",
       "         [0.65006325],\n",
       "         [0.65006325],\n",
       "         [0.72300899],\n",
       "         [0.72300899],\n",
       "         [0.43051358],\n",
       "         [0.43051358],\n",
       "         [0.07928311],\n",
       "         [0.07928311],\n",
       "         [0.33208253],\n",
       "         [0.33208253],\n",
       "         [0.88252303],\n",
       "         [0.88252303],\n",
       "         [0.40275005],\n",
       "         [0.40275005],\n",
       "         [0.85694988],\n",
       "         [0.85694988],\n",
       "         [0.17397124],\n",
       "         [0.17397124],\n",
       "         [0.2640765 ],\n",
       "         [0.2640765 ],\n",
       "         [0.22200146],\n",
       "         [0.22200146],\n",
       "         [0.61893111],\n",
       "         [0.61893111],\n",
       "         [0.88023445],\n",
       "         [0.88023445],\n",
       "         [0.38313079],\n",
       "         [0.38313079],\n",
       "         [0.74638982],\n",
       "         [0.74638982],\n",
       "         [0.45180075],\n",
       "         [0.45180075],\n",
       "         [0.5499804 ],\n",
       "         [0.5499804 ],\n",
       "         [0.67539203],\n",
       "         [0.67539203],\n",
       "         [0.94652274],\n",
       "         [0.94652274],\n",
       "         [0.3983573 ],\n",
       "         [0.3983573 ],\n",
       "         [0.76469209],\n",
       "         [0.76469209],\n",
       "         [0.98287654],\n",
       "         [0.98287654],\n",
       "         [0.09152273],\n",
       "         [0.09152273],\n",
       "         [0.81775562],\n",
       "         [0.81775562],\n",
       "         [0.15628003],\n",
       "         [0.15628003],\n",
       "         [0.42187662],\n",
       "         [0.42187662],\n",
       "         [0.38972224],\n",
       "         [0.38972224],\n",
       "         [0.80181206],\n",
       "         [0.80181206],\n",
       "         [0.16752466],\n",
       "         [0.16752466],\n",
       "         [0.37932905],\n",
       "         [0.37932905],\n",
       "         [0.68691082],\n",
       "         [0.68691082],\n",
       "         [0.27793034],\n",
       "         [0.27793034],\n",
       "         [0.88533207],\n",
       "         [0.88533207],\n",
       "         [0.65725065],\n",
       "         [0.65725065],\n",
       "         [0.20246732],\n",
       "         [0.20246732],\n",
       "         [0.57749668],\n",
       "         [0.57749668],\n",
       "         [0.25935609],\n",
       "         [0.25935609],\n",
       "         [0.33773598],\n",
       "         [0.33773598],\n",
       "         [0.61506711],\n",
       "         [0.61506711],\n",
       "         [0.99714462],\n",
       "         [0.99714462],\n",
       "         [0.11675347],\n",
       "         [0.11675347],\n",
       "         [0.84416021],\n",
       "         [0.84416021],\n",
       "         [0.5257852 ],\n",
       "         [0.5257852 ],\n",
       "         [0.72897829],\n",
       "         [0.72897829],\n",
       "         [0.40104657],\n",
       "         [0.40104657],\n",
       "         [0.76135777],\n",
       "         [0.76135777],\n",
       "         [0.92034159],\n",
       "         [0.92034159],\n",
       "         [0.12029477],\n",
       "         [0.12029477],\n",
       "         [0.27438107],\n",
       "         [0.27438107],\n",
       "         [0.87558629],\n",
       "         [0.87558629],\n",
       "         [0.58198174],\n",
       "         [0.58198174],\n",
       "         [0.53024027],\n",
       "         [0.53024027],\n",
       "         [0.15426503],\n",
       "         [0.15426503],\n",
       "         [0.49300253],\n",
       "         [0.49300253],\n",
       "         [0.20047002],\n",
       "         [0.20047002],\n",
       "         [0.28452118],\n",
       "         [0.28452118],\n",
       "         [0.98117163],\n",
       "         [0.98117163],\n",
       "         [0.30949436],\n",
       "         [0.30949436],\n",
       "         [0.11210915],\n",
       "         [0.11210915],\n",
       "         [0.68244054],\n",
       "         [0.68244054],\n",
       "         [0.99049348],\n",
       "         [0.99049348],\n",
       "         [0.253847  ],\n",
       "         [0.253847  ],\n",
       "         [0.93814179],\n",
       "         [0.93814179],\n",
       "         [0.01448342],\n",
       "         [0.01448342],\n",
       "         [0.14195833],\n",
       "         [0.14195833],\n",
       "         [0.49297053],\n",
       "         [0.49297053],\n",
       "         [0.96594979],\n",
       "         [0.96594979],\n",
       "         [0.61247932],\n",
       "         [0.61247932],\n",
       "         [0.36057133],\n",
       "         [0.36057133],\n",
       "         [0.25617668],\n",
       "         [0.25617668],\n",
       "         [0.72920452],\n",
       "         [0.72920452],\n",
       "         [0.16937481],\n",
       "         [0.16937481],\n",
       "         [0.98380307],\n",
       "         [0.98380307],\n",
       "         [0.32826412],\n",
       "         [0.32826412],\n",
       "         [0.77645001],\n",
       "         [0.77645001],\n",
       "         [0.65483106],\n",
       "         [0.65483106],\n",
       "         [0.33118886],\n",
       "         [0.33118886],\n",
       "         [0.49658701],\n",
       "         [0.49658701],\n",
       "         [0.21603184],\n",
       "         [0.21603184],\n",
       "         [0.10443174],\n",
       "         [0.10443174],\n",
       "         [0.34783609],\n",
       "         [0.34783609],\n",
       "         [0.25643871],\n",
       "         [0.25643871],\n",
       "         [0.07142818],\n",
       "         [0.07142818],\n",
       "         [0.20075637],\n",
       "         [0.20075637],\n",
       "         [0.48345474],\n",
       "         [0.48345474],\n",
       "         [0.2206442 ],\n",
       "         [0.2206442 ]])}}"
      ]
     },
     "execution_count": 1,
     "metadata": {},
     "output_type": "execute_result"
    }
   ],
   "source": [
    "ds = load_by_id(run_id_a)\n",
    "ds.get_parameter_data('x1')"
   ]
  },
  {
   "cell_type": "code",
   "execution_count": null,
   "metadata": {},
   "outputs": [],
   "source": []
  }
 ],
 "metadata": {
  "kernelspec": {
   "display_name": "Python 3",
   "language": "python",
   "name": "python3"
  },
  "language_info": {
   "codemirror_mode": {
    "name": "ipython",
    "version": 3
   },
   "file_extension": ".py",
   "mimetype": "text/x-python",
   "name": "python",
   "nbconvert_exporter": "python",
   "pygments_lexer": "ipython3",
   "version": "3.7.10"
  },
  "nbsphinx": {
   "timeout": 600
  },
  "toc": {
   "base_numbering": 1,
   "nav_menu": {},
   "number_sections": true,
   "sideBar": true,
   "skip_h1_title": false,
   "title_cell": "Table of Contents",
   "title_sidebar": "Contents",
   "toc_cell": false,
   "toc_position": {},
   "toc_section_display": true,
   "toc_window_display": false
  },
  "varInspector": {
   "cols": {
    "lenName": 16,
    "lenType": 16,
    "lenVar": 40
   },
   "kernels_config": {
    "python": {
     "delete_cmd_postfix": "",
     "delete_cmd_prefix": "del ",
     "library": "var_list.py",
     "varRefreshCmd": "print(var_dic_list())"
    },
    "r": {
     "delete_cmd_postfix": ") ",
     "delete_cmd_prefix": "rm(",
     "library": "var_list.r",
     "varRefreshCmd": "cat(var_dic_list()) "
    }
   },
   "types_to_exclude": [
    "module",
    "function",
    "builtin_function_or_method",
    "instance",
    "_Feature"
   ],
   "window_display": false
  }
 },
 "nbformat": 4,
 "nbformat_minor": 2
}
