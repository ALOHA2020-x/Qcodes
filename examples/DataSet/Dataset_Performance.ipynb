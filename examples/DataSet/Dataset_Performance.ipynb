{
 "cells": [
  {
   "cell_type": "markdown",
   "metadata": {},
   "source": [
    "# DataSet Performance\n",
    "\n",
    "This notebook shows the trade-off between inserting data into a database row-by-row and as binary blobs. Inserting the data row-by-row means that we have direct access to all the data and may perform queries directly on the values of the data. On the other hand, as we shall see, this is much slower than inserting the data directly as binary blobs."
   ]
  },
  {
   "cell_type": "markdown",
   "metadata": {},
   "source": [
    "First, we choose a new location for the database to ensure that we don't add a bunch of benchmarking data to the default one."
   ]
  },
  {
   "cell_type": "code",
   "execution_count": 1,
   "metadata": {
    "execution": {
     "iopub.execute_input": "2020-12-26T12:30:43.983398Z",
     "iopub.status.busy": "2020-12-26T12:30:43.982630Z",
     "iopub.status.idle": "2020-12-26T12:30:44.878651Z",
     "shell.execute_reply": "2020-12-26T12:30:44.878095Z"
    }
   },
   "outputs": [
    {
     "name": "stdout",
     "output_type": "stream",
     "text": [
      "Logging hadn't been started.\n",
      "Activating auto-logging. Current session state plus future input saved.\n",
      "Filename       : /home/vsts/.qcodes/logs/command_history.log\n",
      "Mode           : append\n",
      "Output logging : True\n",
      "Raw input log  : False\n",
      "Timestamping   : True\n",
      "State          : active\n"
     ]
    },
    {
     "name": "stdout",
     "output_type": "stream",
     "text": [
      "Qcodes Logfile : /home/vsts/.qcodes/logs/201226-13809-qcodes.log\n"
     ]
    }
   ],
   "source": [
    "import os\n",
    "cwd = os.getcwd()\n",
    "import qcodes as qc\n",
    "qc.config[\"core\"][\"db_location\"] = os.path.join(cwd, 'testing.db')\n"
   ]
  },
  {
   "cell_type": "code",
   "execution_count": 2,
   "metadata": {
    "execution": {
     "iopub.execute_input": "2020-12-26T12:30:44.885732Z",
     "iopub.status.busy": "2020-12-26T12:30:44.883487Z",
     "iopub.status.idle": "2020-12-26T12:30:45.043393Z",
     "shell.execute_reply": "2020-12-26T12:30:45.043817Z"
    }
   },
   "outputs": [],
   "source": [
    "%matplotlib inline\n",
    "import time\n",
    "import matplotlib.pyplot as plt\n",
    "import numpy as np\n",
    "\n",
    "import qcodes as qc\n",
    "from qcodes.instrument.parameter import ManualParameter\n",
    "from qcodes.dataset.experiment_container import (Experiment,\n",
    "                                                 load_last_experiment,\n",
    "                                                 new_experiment)\n",
    "from qcodes.dataset.sqlite.database import initialise_database\n",
    "from qcodes import load_or_create_experiment\n",
    "from qcodes.dataset.measurements import Measurement"
   ]
  },
  {
   "cell_type": "code",
   "execution_count": 3,
   "metadata": {
    "execution": {
     "iopub.execute_input": "2020-12-26T12:30:45.047169Z",
     "iopub.status.busy": "2020-12-26T12:30:45.046685Z",
     "iopub.status.idle": "2020-12-26T12:30:45.142554Z",
     "shell.execute_reply": "2020-12-26T12:30:45.142907Z"
    }
   },
   "outputs": [
    {
     "name": "stdout",
     "output_type": "stream",
     "text": [
      "\r",
      "0it [00:00, ?it/s]"
     ]
    },
    {
     "name": "stdout",
     "output_type": "stream",
     "text": [
      "\r",
      "Upgrading database; v0 -> v1: : 0it [00:00, ?it/s]"
     ]
    },
    {
     "name": "stdout",
     "output_type": "stream",
     "text": [
      "\r",
      "Upgrading database; v0 -> v1: : 0it [00:00, ?it/s]"
     ]
    },
    {
     "name": "stdout",
     "output_type": "stream",
     "text": [
      "\n",
      "\r",
      "  0%|          | 0/1 [00:00<?, ?it/s]"
     ]
    },
    {
     "name": "stdout",
     "output_type": "stream",
     "text": [
      "\r",
      "Upgrading database; v1 -> v2:   0%|          | 0/1 [00:00<?, ?it/s]"
     ]
    },
    {
     "name": "stdout",
     "output_type": "stream",
     "text": [
      "\r",
      "Upgrading database; v1 -> v2: 100%|██████████| 1/1 [00:00<00:00, 1327.31it/s]"
     ]
    },
    {
     "name": "stdout",
     "output_type": "stream",
     "text": [
      "\n",
      "\r",
      "0it [00:00, ?it/s]"
     ]
    },
    {
     "name": "stdout",
     "output_type": "stream",
     "text": [
      "\r",
      "Upgrading database; v2 -> v3: : 0it [00:00, ?it/s]"
     ]
    },
    {
     "name": "stdout",
     "output_type": "stream",
     "text": [
      "\r",
      "Upgrading database; v2 -> v3: : 0it [00:00, ?it/s]"
     ]
    },
    {
     "name": "stdout",
     "output_type": "stream",
     "text": [
      "\n",
      "\r",
      "0it [00:00, ?it/s]"
     ]
    },
    {
     "name": "stdout",
     "output_type": "stream",
     "text": [
      "\r",
      "Upgrading database; v3 -> v4: : 0it [00:00, ?it/s]"
     ]
    },
    {
     "name": "stdout",
     "output_type": "stream",
     "text": [
      "\r",
      "Upgrading database; v3 -> v4: : 0it [00:00, ?it/s]"
     ]
    },
    {
     "name": "stdout",
     "output_type": "stream",
     "text": [
      "\n",
      "\r",
      "  0%|          | 0/1 [00:00<?, ?it/s]"
     ]
    },
    {
     "name": "stdout",
     "output_type": "stream",
     "text": [
      "\r",
      "Upgrading database; v4 -> v5:   0%|          | 0/1 [00:00<?, ?it/s]"
     ]
    },
    {
     "name": "stdout",
     "output_type": "stream",
     "text": [
      "\r",
      "Upgrading database; v4 -> v5: 100%|██████████| 1/1 [00:00<00:00, 1302.98it/s]"
     ]
    },
    {
     "name": "stdout",
     "output_type": "stream",
     "text": [
      "\n",
      "\r",
      "0it [00:00, ?it/s]"
     ]
    },
    {
     "name": "stdout",
     "output_type": "stream",
     "text": [
      "\r",
      "Upgrading database; v5 -> v6: : 0it [00:00, ?it/s]"
     ]
    },
    {
     "name": "stdout",
     "output_type": "stream",
     "text": [
      "\r",
      "Upgrading database; v5 -> v6: : 0it [00:00, ?it/s]"
     ]
    },
    {
     "name": "stdout",
     "output_type": "stream",
     "text": [
      "\n",
      "\r",
      "  0%|          | 0/1 [00:00<?, ?it/s]"
     ]
    },
    {
     "name": "stdout",
     "output_type": "stream",
     "text": [
      "\r",
      "Upgrading database; v6 -> v7:   0%|          | 0/1 [00:00<?, ?it/s]"
     ]
    },
    {
     "name": "stdout",
     "output_type": "stream",
     "text": [
      "\r",
      "Upgrading database; v6 -> v7: 100%|██████████| 1/1 [00:00<00:00, 490.79it/s]"
     ]
    },
    {
     "name": "stdout",
     "output_type": "stream",
     "text": [
      "\n",
      "\r",
      "  0%|          | 0/1 [00:00<?, ?it/s]"
     ]
    },
    {
     "name": "stdout",
     "output_type": "stream",
     "text": [
      "\r",
      "Upgrading database; v7 -> v8:   0%|          | 0/1 [00:00<?, ?it/s]"
     ]
    },
    {
     "name": "stdout",
     "output_type": "stream",
     "text": [
      "\r",
      "Upgrading database; v7 -> v8: 100%|██████████| 1/1 [00:00<00:00, 1066.17it/s]"
     ]
    },
    {
     "name": "stdout",
     "output_type": "stream",
     "text": [
      "\n",
      "\r",
      "  0%|          | 0/1 [00:00<?, ?it/s]"
     ]
    },
    {
     "name": "stdout",
     "output_type": "stream",
     "text": [
      "\r",
      "Upgrading database; v8 -> v9:   0%|          | 0/1 [00:00<?, ?it/s]"
     ]
    },
    {
     "name": "stdout",
     "output_type": "stream",
     "text": [
      "\r",
      "Upgrading database; v8 -> v9: 100%|██████████| 1/1 [00:00<00:00, 1126.29it/s]"
     ]
    },
    {
     "name": "stdout",
     "output_type": "stream",
     "text": [
      "\n"
     ]
    }
   ],
   "source": [
    "initialise_database()\n",
    "exp = load_or_create_experiment(experiment_name='tutorial_exp', sample_name=\"no sample\")"
   ]
  },
  {
   "cell_type": "markdown",
   "metadata": {},
   "source": [
    "Here, we define a simple function to benchmark the time it takes to insert n points with either numeric or array data type.\n",
    "We will compare both the time used to call ``add_result`` and the time used for the full measurement."
   ]
  },
  {
   "cell_type": "code",
   "execution_count": 4,
   "metadata": {
    "execution": {
     "iopub.execute_input": "2020-12-26T12:30:45.150176Z",
     "iopub.status.busy": "2020-12-26T12:30:45.149714Z",
     "iopub.status.idle": "2020-12-26T12:30:45.152911Z",
     "shell.execute_reply": "2020-12-26T12:30:45.152428Z"
    }
   },
   "outputs": [],
   "source": [
    "def insert_data(paramtype, npoints, nreps=1):\n",
    "\n",
    "    meas = Measurement(exp=exp)\n",
    "\n",
    "    x1 = ManualParameter('x1')\n",
    "    x2 = ManualParameter('x2')\n",
    "    x3 = ManualParameter('x3')\n",
    "    y1 = ManualParameter('y1')\n",
    "    y2 = ManualParameter('y2')\n",
    "\n",
    "    meas.register_parameter(x1, paramtype=paramtype)\n",
    "    meas.register_parameter(x2, paramtype=paramtype)\n",
    "    meas.register_parameter(x3, paramtype=paramtype)\n",
    "    meas.register_parameter(y1, setpoints=[x1, x2, x3],\n",
    "                            paramtype=paramtype)\n",
    "    meas.register_parameter(y2, setpoints=[x1, x2, x3],\n",
    "                            paramtype=paramtype)\n",
    "    start = time.perf_counter()\n",
    "    with meas.run() as datasaver:\n",
    "        start_adding = time.perf_counter()\n",
    "        for i in range(nreps):\n",
    "            datasaver.add_result((x1, np.random.rand(npoints)),\n",
    "                                 (x2, np.random.rand(npoints)),\n",
    "                                 (x3, np.random.rand(npoints)),\n",
    "                                 (y1, np.random.rand(npoints)),\n",
    "                                 (y2, np.random.rand(npoints)))\n",
    "        stop_adding = time.perf_counter()\n",
    "        run_id = datasaver.run_id\n",
    "    stop = time.perf_counter()\n",
    "    tot_time = stop - start\n",
    "    add_time = stop_adding - start_adding\n",
    "    return tot_time, add_time, run_id"
   ]
  },
  {
   "cell_type": "markdown",
   "metadata": {},
   "source": [
    "## Comparison between numeric/array data and binary blob"
   ]
  },
  {
   "cell_type": "markdown",
   "metadata": {},
   "source": [
    "### Case1: Short experiment time"
   ]
  },
  {
   "cell_type": "code",
   "execution_count": 5,
   "metadata": {
    "execution": {
     "iopub.execute_input": "2020-12-26T12:30:45.158572Z",
     "iopub.status.busy": "2020-12-26T12:30:45.158064Z",
     "iopub.status.idle": "2020-12-26T12:30:45.864326Z",
     "shell.execute_reply": "2020-12-26T12:30:45.863854Z"
    }
   },
   "outputs": [
    {
     "name": "stdout",
     "output_type": "stream",
     "text": [
      "Starting experimental run with id: 1. \n",
      "Starting experimental run with id: 2. \n",
      "Starting experimental run with id: 3. \n",
      "Starting experimental run with id: 4. \n",
      "Starting experimental run with id: 5. \n",
      "Starting experimental run with id: 6. \n",
      "Starting experimental run with id: 7. \n"
     ]
    },
    {
     "name": "stdout",
     "output_type": "stream",
     "text": [
      "Starting experimental run with id: 8. \n"
     ]
    },
    {
     "name": "stdout",
     "output_type": "stream",
     "text": [
      "Starting experimental run with id: 9. \n",
      "Starting experimental run with id: 10. \n",
      "Starting experimental run with id: 11. \n"
     ]
    },
    {
     "name": "stdout",
     "output_type": "stream",
     "text": [
      "Starting experimental run with id: 12. \n",
      "Starting experimental run with id: 13. \n"
     ]
    },
    {
     "name": "stdout",
     "output_type": "stream",
     "text": [
      "Starting experimental run with id: 14. \n"
     ]
    }
   ],
   "source": [
    "sizes = [1,500,1000,2000,3000,4000,5000]\n",
    "t_numeric = []\n",
    "t_numeric_add = []\n",
    "t_array = []\n",
    "t_array_add = []\n",
    "for size in sizes:\n",
    "    tn, tna, run_id_n =  insert_data('numeric', size)\n",
    "    t_numeric.append(tn)\n",
    "    t_numeric_add.append(tna)\n",
    "\n",
    "    ta, taa, run_id_a =  insert_data('array', size)\n",
    "    t_array.append(ta)\n",
    "    t_array_add.append(taa)"
   ]
  },
  {
   "cell_type": "code",
   "execution_count": 6,
   "metadata": {
    "execution": {
     "iopub.execute_input": "2020-12-26T12:30:45.879318Z",
     "iopub.status.busy": "2020-12-26T12:30:45.878880Z",
     "iopub.status.idle": "2020-12-26T12:30:46.048045Z",
     "shell.execute_reply": "2020-12-26T12:30:46.048414Z"
    }
   },
   "outputs": [
    {
     "data": {
      "image/png": "[encoded data removed]",
      "text/plain": [
       "<Figure size 432x288 with 1 Axes>"
      ]
     },
     "metadata": {
      "needs_background": "light"
     },
     "output_type": "display_data"
    }
   ],
   "source": [
    "fig, ax = plt.subplots(1,1)\n",
    "ax.plot(sizes, t_numeric, 'o-', label='Inserting row-by-row')\n",
    "ax.plot(sizes, t_numeric_add, 'o-', label='Inserting row-by-row: add_result only')\n",
    "ax.plot(sizes, t_array, 'd-', label='Inserting as binary blob')\n",
    "ax.plot(sizes, t_array_add, 'd-', label='Inserting as binary blob: add_result only')\n",
    "ax.legend()\n",
    "ax.set_xlabel('Array length')\n",
    "ax.set_ylabel('Time (s)')\n",
    "fig.tight_layout()"
   ]
  },
  {
   "cell_type": "markdown",
   "metadata": {},
   "source": [
    "As shown in the latter figure, the time to setup and and close the experiment is approximately 0.4 sec. In case of small array sizes, the difference between inserting values of data as arrays and inserting them row-by-row is relatively unimportant. At larger array sizes, i.e. above 10000 points, the cost of writing data as individual datapoints starts to become important.\n"
   ]
  },
  {
   "cell_type": "markdown",
   "metadata": {},
   "source": [
    "### Case2: Long experiment time "
   ]
  },
  {
   "cell_type": "code",
   "execution_count": 7,
   "metadata": {
    "execution": {
     "iopub.execute_input": "2020-12-26T12:30:46.054334Z",
     "iopub.status.busy": "2020-12-26T12:30:46.053338Z",
     "iopub.status.idle": "2020-12-26T12:31:38.271772Z",
     "shell.execute_reply": "2020-12-26T12:31:38.271251Z"
    }
   },
   "outputs": [
    {
     "name": "stdout",
     "output_type": "stream",
     "text": [
      "Starting experimental run with id: 15. \n",
      "Starting experimental run with id: 16. \n",
      "Starting experimental run with id: 17. \n"
     ]
    },
    {
     "name": "stdout",
     "output_type": "stream",
     "text": [
      "Starting experimental run with id: 18. \n",
      "Starting experimental run with id: 19. \n"
     ]
    },
    {
     "name": "stdout",
     "output_type": "stream",
     "text": [
      "Starting experimental run with id: 20. \n"
     ]
    },
    {
     "name": "stdout",
     "output_type": "stream",
     "text": [
      "Starting experimental run with id: 21. \n"
     ]
    },
    {
     "name": "stdout",
     "output_type": "stream",
     "text": [
      "Starting experimental run with id: 22. \n"
     ]
    },
    {
     "name": "stdout",
     "output_type": "stream",
     "text": [
      "Starting experimental run with id: 23. \n"
     ]
    },
    {
     "name": "stdout",
     "output_type": "stream",
     "text": [
      "Starting experimental run with id: 24. \n"
     ]
    },
    {
     "name": "stdout",
     "output_type": "stream",
     "text": [
      "Starting experimental run with id: 25. \n"
     ]
    },
    {
     "name": "stdout",
     "output_type": "stream",
     "text": [
      "Starting experimental run with id: 26. \n"
     ]
    },
    {
     "name": "stdout",
     "output_type": "stream",
     "text": [
      "Starting experimental run with id: 27. \n"
     ]
    },
    {
     "name": "stdout",
     "output_type": "stream",
     "text": [
      "Starting experimental run with id: 28. \n"
     ]
    }
   ],
   "source": [
    "sizes = [1,500,1000,2000,3000,4000,5000]\n",
    "nreps = 100\n",
    "t_numeric = []\n",
    "t_numeric_add = []\n",
    "t_numeric_run_ids = []\n",
    "t_array = []\n",
    "t_array_add = []\n",
    "t_array_run_ids = []\n",
    "for size in sizes:\n",
    "    tn, tna, run_id_n =  insert_data('numeric', size, nreps=nreps)\n",
    "    t_numeric.append(tn)\n",
    "    t_numeric_add.append(tna)\n",
    "    t_numeric_run_ids.append(run_id_n)\n",
    "\n",
    "    ta, taa, run_id_a =  insert_data('array', size, nreps=nreps)\n",
    "    t_array.append(ta)\n",
    "    t_array_add.append(taa)\n",
    "    t_array_run_ids.append(run_id_a)"
   ]
  },
  {
   "cell_type": "code",
   "execution_count": 8,
   "metadata": {
    "execution": {
     "iopub.execute_input": "2020-12-26T12:31:38.297197Z",
     "iopub.status.busy": "2020-12-26T12:31:38.293678Z",
     "iopub.status.idle": "2020-12-26T12:31:38.445924Z",
     "shell.execute_reply": "2020-12-26T12:31:38.446288Z"
    },
    "scrolled": true
   },
   "outputs": [
    {
     "data": {
      "image/png": "[encoded data removed]",
      "text/plain": [
       "<Figure size 432x288 with 1 Axes>"
      ]
     },
     "metadata": {
      "needs_background": "light"
     },
     "output_type": "display_data"
    }
   ],
   "source": [
    "fig, ax = plt.subplots(1,1)\n",
    "ax.plot(sizes, t_numeric, 'o-', label='Inserting row-by-row')\n",
    "ax.plot(sizes, t_numeric_add, 'o-', label='Inserting row-by-row: add_result only')\n",
    "ax.plot(sizes, t_array, 'd-', label='Inserting as binary blob')\n",
    "ax.plot(sizes, t_array_add, 'd-', label='Inserting as binary blob: add_result only')\n",
    "ax.legend()\n",
    "ax.set_xlabel('Array length')\n",
    "ax.set_ylabel('Time (s)')\n",
    "fig.tight_layout()"
   ]
  },
  {
   "cell_type": "markdown",
   "metadata": {},
   "source": [
    "However, as we increase the length of the experiment, as seen here by repeating the insertion 100 times, we see a big difference between inserting values of the data row-by-row and inserting it as a binary blob."
   ]
  },
  {
   "cell_type": "markdown",
   "metadata": {},
   "source": [
    "## Loading the data "
   ]
  },
  {
   "cell_type": "code",
   "execution_count": 9,
   "metadata": {
    "execution": {
     "iopub.execute_input": "2020-12-26T12:31:38.449960Z",
     "iopub.status.busy": "2020-12-26T12:31:38.449159Z",
     "iopub.status.idle": "2020-12-26T12:31:38.451935Z",
     "shell.execute_reply": "2020-12-26T12:31:38.451436Z"
    }
   },
   "outputs": [],
   "source": [
    "from qcodes.dataset.data_set import load_by_id\n",
    "from qcodes.dataset.data_export import get_data_by_id"
   ]
  },
  {
   "cell_type": "markdown",
   "metadata": {},
   "source": [
    "As usual you can load the data by using the ``load_by_id`` function but you will notice that the different storage methods\n",
    "are reflected in shape of the data as it is retrieved. "
   ]
  },
  {
   "cell_type": "code",
   "execution_count": 10,
   "metadata": {
    "execution": {
     "iopub.execute_input": "2020-12-26T12:31:38.455368Z",
     "iopub.status.busy": "2020-12-26T12:31:38.454937Z",
     "iopub.status.idle": "2020-12-26T12:31:38.456012Z",
     "shell.execute_reply": "2020-12-26T12:31:38.456452Z"
    }
   },
   "outputs": [],
   "source": [
    "run_id_n = t_numeric_run_ids[0]\n",
    "run_id_a = t_array_run_ids[0]"
   ]
  },
  {
   "cell_type": "code",
   "execution_count": 11,
   "metadata": {
    "execution": {
     "iopub.execute_input": "2020-12-26T12:31:38.459081Z",
     "iopub.status.busy": "2020-12-26T12:31:38.458642Z",
     "iopub.status.idle": "2020-12-26T12:31:38.466856Z",
     "shell.execute_reply": "2020-12-26T12:31:38.466381Z"
    },
    "scrolled": true
   },
   "outputs": [
    {
     "data": {
      "text/plain": [
       "{'x1': {'x1': array([0.12279793, 0.12279793, 0.40660166, 0.40660166, 0.11335262,\n",
       "         0.11335262, 0.8608111 , 0.8608111 , 0.17310968, 0.17310968,\n",
       "         0.09155137, 0.09155137, 0.1298237 , 0.1298237 , 0.55186641,\n",
       "         0.55186641, 0.97526109, 0.97526109, 0.86073153, 0.86073153,\n",
       "         0.00174859, 0.00174859, 0.88441667, 0.88441667, 0.90476445,\n",
       "         0.90476445, 0.97440456, 0.97440456, 0.60965776, 0.60965776,\n",
       "         0.46566382, 0.46566382, 0.32627384, 0.32627384, 0.29831389,\n",
       "         0.29831389, 0.3385561 , 0.3385561 , 0.76804816, 0.76804816,\n",
       "         0.02560601, 0.02560601, 0.28571832, 0.28571832, 0.29960713,\n",
       "         0.29960713, 0.24262219, 0.24262219, 0.04010461, 0.04010461,\n",
       "         0.83500472, 0.83500472, 0.87362618, 0.87362618, 0.01444723,\n",
       "         0.01444723, 0.5558175 , 0.5558175 , 0.42992535, 0.42992535,\n",
       "         0.76055306, 0.76055306, 0.06540908, 0.06540908, 0.76989908,\n",
       "         0.76989908, 0.97640077, 0.97640077, 0.90856326, 0.90856326,\n",
       "         0.89936728, 0.89936728, 0.61797951, 0.61797951, 0.46712293,\n",
       "         0.46712293, 0.20943079, 0.20943079, 0.30680648, 0.30680648,\n",
       "         0.11631883, 0.11631883, 0.36924795, 0.36924795, 0.98490362,\n",
       "         0.98490362, 0.07972159, 0.07972159, 0.4995427 , 0.4995427 ,\n",
       "         0.87127279, 0.87127279, 0.85651628, 0.85651628, 0.48523511,\n",
       "         0.48523511, 0.82895441, 0.82895441, 0.70744394, 0.70744394,\n",
       "         0.80614065, 0.80614065, 0.01029535, 0.01029535, 0.97182028,\n",
       "         0.97182028, 0.69055214, 0.69055214, 0.96529146, 0.96529146,\n",
       "         0.16851347, 0.16851347, 0.84655737, 0.84655737, 0.62314916,\n",
       "         0.62314916, 0.62803886, 0.62803886, 0.60523733, 0.60523733,\n",
       "         0.28477785, 0.28477785, 0.91855402, 0.91855402, 0.56168991,\n",
       "         0.56168991, 0.06801485, 0.06801485, 0.59958518, 0.59958518,\n",
       "         0.71720639, 0.71720639, 0.53920249, 0.53920249, 0.03397166,\n",
       "         0.03397166, 0.88650457, 0.88650457, 0.62348552, 0.62348552,\n",
       "         0.44406614, 0.44406614, 0.74842438, 0.74842438, 0.28454926,\n",
       "         0.28454926, 0.35674076, 0.35674076, 0.05762669, 0.05762669,\n",
       "         0.93391108, 0.93391108, 0.28333017, 0.28333017, 0.96748871,\n",
       "         0.96748871, 0.05127176, 0.05127176, 0.02377081, 0.02377081,\n",
       "         0.59062857, 0.59062857, 0.76175973, 0.76175973, 0.08777708,\n",
       "         0.08777708, 0.6881119 , 0.6881119 , 0.93235272, 0.93235272,\n",
       "         0.54930311, 0.54930311, 0.55221153, 0.55221153, 0.09603764,\n",
       "         0.09603764, 0.27353059, 0.27353059, 0.75103633, 0.75103633,\n",
       "         0.37358836, 0.37358836, 0.49261787, 0.49261787, 0.86861472,\n",
       "         0.86861472, 0.30993739, 0.30993739, 0.50415383, 0.50415383,\n",
       "         0.93380452, 0.93380452, 0.16748324, 0.16748324, 0.75237511,\n",
       "         0.75237511, 0.20020364, 0.20020364, 0.0687331 , 0.0687331 ])}}"
      ]
     },
     "execution_count": 1,
     "metadata": {},
     "output_type": "execute_result"
    }
   ],
   "source": [
    "ds = load_by_id(run_id_n)\n",
    "ds.get_parameter_data('x1')"
   ]
  },
  {
   "cell_type": "markdown",
   "metadata": {},
   "source": [
    "And a dataset stored as binary arrays"
   ]
  },
  {
   "cell_type": "code",
   "execution_count": 12,
   "metadata": {
    "execution": {
     "iopub.execute_input": "2020-12-26T12:31:38.469659Z",
     "iopub.status.busy": "2020-12-26T12:31:38.469233Z",
     "iopub.status.idle": "2020-12-26T12:31:38.514605Z",
     "shell.execute_reply": "2020-12-26T12:31:38.515123Z"
    },
    "scrolled": true
   },
   "outputs": [
    {
     "data": {
      "text/plain": [
       "{'x1': {'x1': array([[0.27001908],\n",
       "         [0.27001908],\n",
       "         [0.60643334],\n",
       "         [0.60643334],\n",
       "         [0.38732591],\n",
       "         [0.38732591],\n",
       "         [0.70707486],\n",
       "         [0.70707486],\n",
       "         [0.47509557],\n",
       "         [0.47509557],\n",
       "         [0.4408951 ],\n",
       "         [0.4408951 ],\n",
       "         [0.23514161],\n",
       "         [0.23514161],\n",
       "         [0.18264767],\n",
       "         [0.18264767],\n",
       "         [0.54573807],\n",
       "         [0.54573807],\n",
       "         [0.18092894],\n",
       "         [0.18092894],\n",
       "         [0.53865042],\n",
       "         [0.53865042],\n",
       "         [0.10853318],\n",
       "         [0.10853318],\n",
       "         [0.99715582],\n",
       "         [0.99715582],\n",
       "         [0.64882978],\n",
       "         [0.64882978],\n",
       "         [0.03949723],\n",
       "         [0.03949723],\n",
       "         [0.07394599],\n",
       "         [0.07394599],\n",
       "         [0.57191625],\n",
       "         [0.57191625],\n",
       "         [0.8230658 ],\n",
       "         [0.8230658 ],\n",
       "         [0.7344646 ],\n",
       "         [0.7344646 ],\n",
       "         [0.74011425],\n",
       "         [0.74011425],\n",
       "         [0.54164228],\n",
       "         [0.54164228],\n",
       "         [0.76778773],\n",
       "         [0.76778773],\n",
       "         [0.65733583],\n",
       "         [0.65733583],\n",
       "         [0.58739997],\n",
       "         [0.58739997],\n",
       "         [0.18918126],\n",
       "         [0.18918126],\n",
       "         [0.18020953],\n",
       "         [0.18020953],\n",
       "         [0.37536554],\n",
       "         [0.37536554],\n",
       "         [0.70758152],\n",
       "         [0.70758152],\n",
       "         [0.91721744],\n",
       "         [0.91721744],\n",
       "         [0.82289377],\n",
       "         [0.82289377],\n",
       "         [0.4766799 ],\n",
       "         [0.4766799 ],\n",
       "         [0.28101295],\n",
       "         [0.28101295],\n",
       "         [0.31936722],\n",
       "         [0.31936722],\n",
       "         [0.64522499],\n",
       "         [0.64522499],\n",
       "         [0.83885713],\n",
       "         [0.83885713],\n",
       "         [0.6512149 ],\n",
       "         [0.6512149 ],\n",
       "         [0.28319379],\n",
       "         [0.28319379],\n",
       "         [0.70518956],\n",
       "         [0.70518956],\n",
       "         [0.01799448],\n",
       "         [0.01799448],\n",
       "         [0.15972507],\n",
       "         [0.15972507],\n",
       "         [0.6925264 ],\n",
       "         [0.6925264 ],\n",
       "         [0.92324107],\n",
       "         [0.92324107],\n",
       "         [0.97124015],\n",
       "         [0.97124015],\n",
       "         [0.91989174],\n",
       "         [0.91989174],\n",
       "         [0.70050079],\n",
       "         [0.70050079],\n",
       "         [0.17154206],\n",
       "         [0.17154206],\n",
       "         [0.27058783],\n",
       "         [0.27058783],\n",
       "         [0.30807354],\n",
       "         [0.30807354],\n",
       "         [0.75351471],\n",
       "         [0.75351471],\n",
       "         [0.57336311],\n",
       "         [0.57336311],\n",
       "         [0.42458739],\n",
       "         [0.42458739],\n",
       "         [0.8294353 ],\n",
       "         [0.8294353 ],\n",
       "         [0.65067898],\n",
       "         [0.65067898],\n",
       "         [0.43419877],\n",
       "         [0.43419877],\n",
       "         [0.62913878],\n",
       "         [0.62913878],\n",
       "         [0.42469524],\n",
       "         [0.42469524],\n",
       "         [0.33755636],\n",
       "         [0.33755636],\n",
       "         [0.77780944],\n",
       "         [0.77780944],\n",
       "         [0.43608396],\n",
       "         [0.43608396],\n",
       "         [0.60616988],\n",
       "         [0.60616988],\n",
       "         [0.54037978],\n",
       "         [0.54037978],\n",
       "         [0.95539734],\n",
       "         [0.95539734],\n",
       "         [0.26168382],\n",
       "         [0.26168382],\n",
       "         [0.94387267],\n",
       "         [0.94387267],\n",
       "         [0.91714076],\n",
       "         [0.91714076],\n",
       "         [0.32955485],\n",
       "         [0.32955485],\n",
       "         [0.96239627],\n",
       "         [0.96239627],\n",
       "         [0.8185406 ],\n",
       "         [0.8185406 ],\n",
       "         [0.96154753],\n",
       "         [0.96154753],\n",
       "         [0.77431459],\n",
       "         [0.77431459],\n",
       "         [0.91280231],\n",
       "         [0.91280231],\n",
       "         [0.15077597],\n",
       "         [0.15077597],\n",
       "         [0.31139454],\n",
       "         [0.31139454],\n",
       "         [0.36994643],\n",
       "         [0.36994643],\n",
       "         [0.44400942],\n",
       "         [0.44400942],\n",
       "         [0.13184488],\n",
       "         [0.13184488],\n",
       "         [0.15573028],\n",
       "         [0.15573028],\n",
       "         [0.58639948],\n",
       "         [0.58639948],\n",
       "         [0.76638654],\n",
       "         [0.76638654],\n",
       "         [0.60065444],\n",
       "         [0.60065444],\n",
       "         [0.46856079],\n",
       "         [0.46856079],\n",
       "         [0.96958626],\n",
       "         [0.96958626],\n",
       "         [0.25865458],\n",
       "         [0.25865458],\n",
       "         [0.61912593],\n",
       "         [0.61912593],\n",
       "         [0.47717677],\n",
       "         [0.47717677],\n",
       "         [0.37904221],\n",
       "         [0.37904221],\n",
       "         [0.44450125],\n",
       "         [0.44450125],\n",
       "         [0.20806109],\n",
       "         [0.20806109],\n",
       "         [0.28423872],\n",
       "         [0.28423872],\n",
       "         [0.36557597],\n",
       "         [0.36557597],\n",
       "         [0.71274096],\n",
       "         [0.71274096],\n",
       "         [0.55490462],\n",
       "         [0.55490462],\n",
       "         [0.32812898],\n",
       "         [0.32812898],\n",
       "         [0.68720259],\n",
       "         [0.68720259],\n",
       "         [0.30987488],\n",
       "         [0.30987488],\n",
       "         [0.69574581],\n",
       "         [0.69574581],\n",
       "         [0.01491975],\n",
       "         [0.01491975],\n",
       "         [0.58550144],\n",
       "         [0.58550144],\n",
       "         [0.65479685],\n",
       "         [0.65479685],\n",
       "         [0.57320914],\n",
       "         [0.57320914]])}}"
      ]
     },
     "execution_count": 1,
     "metadata": {},
     "output_type": "execute_result"
    }
   ],
   "source": [
    "ds = load_by_id(run_id_a)\n",
    "ds.get_parameter_data('x1')"
   ]
  },
  {
   "cell_type": "code",
   "execution_count": null,
   "metadata": {},
   "outputs": [],
   "source": []
  }
 ],
 "metadata": {
  "kernelspec": {
   "display_name": "Python 3",
   "language": "python",
   "name": "python3"
  },
  "language_info": {
   "codemirror_mode": {
    "name": "ipython",
    "version": 3
   },
   "file_extension": ".py",
   "mimetype": "text/x-python",
   "name": "python",
   "nbconvert_exporter": "python",
   "pygments_lexer": "ipython3",
   "version": "3.7.9"
  },
  "nbsphinx": {
   "timeout": 600
  },
  "toc": {
   "base_numbering": 1,
   "nav_menu": {},
   "number_sections": true,
   "sideBar": true,
   "skip_h1_title": false,
   "title_cell": "Table of Contents",
   "title_sidebar": "Contents",
   "toc_cell": false,
   "toc_position": {},
   "toc_section_display": true,
   "toc_window_display": false
  },
  "varInspector": {
   "cols": {
    "lenName": 16,
    "lenType": 16,
    "lenVar": 40
   },
   "kernels_config": {
    "python": {
     "delete_cmd_postfix": "",
     "delete_cmd_prefix": "del ",
     "library": "var_list.py",
     "varRefreshCmd": "print(var_dic_list())"
    },
    "r": {
     "delete_cmd_postfix": ") ",
     "delete_cmd_prefix": "rm(",
     "library": "var_list.r",
     "varRefreshCmd": "cat(var_dic_list()) "
    }
   },
   "types_to_exclude": [
    "module",
    "function",
    "builtin_function_or_method",
    "instance",
    "_Feature"
   ],
   "window_display": false
  }
 },
 "nbformat": 4,
 "nbformat_minor": 2
}
