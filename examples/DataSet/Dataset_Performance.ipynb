{
 "cells": [
  {
   "cell_type": "markdown",
   "metadata": {},
   "source": [
    "# DataSet Performance\n",
    "\n",
    "This notebook shows the trade-off between inserting data into a database row-by-row and as binary blobs. Inserting the data row-by-row means that we have direct access to all the data and may perform queries directly on the values of the data. On the other hand, as we shall see, this is much slower than inserting the data directly as binary blobs."
   ]
  },
  {
   "cell_type": "markdown",
   "metadata": {},
   "source": [
    "First, we choose a new location for the database to ensure that we don't add a bunch of benchmarking data to the default one."
   ]
  },
  {
   "cell_type": "code",
   "execution_count": 1,
   "metadata": {
    "execution": {
     "iopub.execute_input": "2020-12-07T08:27:36.625073Z",
     "iopub.status.busy": "2020-12-07T08:27:36.624528Z",
     "iopub.status.idle": "2020-12-07T08:27:37.526448Z",
     "shell.execute_reply": "2020-12-07T08:27:37.525907Z"
    }
   },
   "outputs": [
    {
     "name": "stdout",
     "output_type": "stream",
     "text": [
      "Logging hadn't been started.\n",
      "Activating auto-logging. Current session state plus future input saved.\n",
      "Filename       : /home/vsts/.qcodes/logs/command_history.log\n",
      "Mode           : append\n",
      "Output logging : True\n",
      "Raw input log  : False\n",
      "Timestamping   : True\n",
      "State          : active\n"
     ]
    },
    {
     "name": "stdout",
     "output_type": "stream",
     "text": [
      "Qcodes Logfile : /home/vsts/.qcodes/logs/201207-14113-qcodes.log\n"
     ]
    }
   ],
   "source": [
    "import os\n",
    "cwd = os.getcwd()\n",
    "import qcodes as qc\n",
    "qc.config[\"core\"][\"db_location\"] = os.path.join(cwd, 'testing.db')\n"
   ]
  },
  {
   "cell_type": "code",
   "execution_count": 2,
   "metadata": {
    "execution": {
     "iopub.execute_input": "2020-12-07T08:27:37.533443Z",
     "iopub.status.busy": "2020-12-07T08:27:37.531619Z",
     "iopub.status.idle": "2020-12-07T08:27:37.697595Z",
     "shell.execute_reply": "2020-12-07T08:27:37.696636Z"
    }
   },
   "outputs": [],
   "source": [
    "%matplotlib inline\n",
    "import time\n",
    "import matplotlib.pyplot as plt\n",
    "import numpy as np\n",
    "\n",
    "import qcodes as qc\n",
    "from qcodes.instrument.parameter import ManualParameter\n",
    "from qcodes.dataset.experiment_container import (Experiment,\n",
    "                                                 load_last_experiment,\n",
    "                                                 new_experiment)\n",
    "from qcodes.dataset.sqlite.database import initialise_database\n",
    "from qcodes import load_or_create_experiment\n",
    "from qcodes.dataset.measurements import Measurement"
   ]
  },
  {
   "cell_type": "code",
   "execution_count": 3,
   "metadata": {
    "execution": {
     "iopub.execute_input": "2020-12-07T08:27:37.701060Z",
     "iopub.status.busy": "2020-12-07T08:27:37.700578Z",
     "iopub.status.idle": "2020-12-07T08:27:37.818202Z",
     "shell.execute_reply": "2020-12-07T08:27:37.817716Z"
    }
   },
   "outputs": [
    {
     "name": "stdout",
     "output_type": "stream",
     "text": [
      "\r",
      "0it [00:00, ?it/s]"
     ]
    },
    {
     "name": "stdout",
     "output_type": "stream",
     "text": [
      "\r",
      "Upgrading database; v0 -> v1: : 0it [00:00, ?it/s]"
     ]
    },
    {
     "name": "stdout",
     "output_type": "stream",
     "text": [
      "\r",
      "Upgrading database; v0 -> v1: : 0it [00:00, ?it/s]"
     ]
    },
    {
     "name": "stdout",
     "output_type": "stream",
     "text": [
      "\n",
      "\r",
      "  0%|          | 0/1 [00:00<?, ?it/s]"
     ]
    },
    {
     "name": "stdout",
     "output_type": "stream",
     "text": [
      "\r",
      "Upgrading database; v1 -> v2:   0%|          | 0/1 [00:00<?, ?it/s]"
     ]
    },
    {
     "name": "stdout",
     "output_type": "stream",
     "text": [
      "\r",
      "Upgrading database; v1 -> v2: 100%|██████████| 1/1 [00:00<00:00, 609.02it/s]"
     ]
    },
    {
     "name": "stdout",
     "output_type": "stream",
     "text": [
      "\n",
      "\r",
      "0it [00:00, ?it/s]"
     ]
    },
    {
     "name": "stdout",
     "output_type": "stream",
     "text": [
      "\r",
      "Upgrading database; v2 -> v3: : 0it [00:00, ?it/s]"
     ]
    },
    {
     "name": "stdout",
     "output_type": "stream",
     "text": [
      "\r",
      "Upgrading database; v2 -> v3: : 0it [00:00, ?it/s]"
     ]
    },
    {
     "name": "stdout",
     "output_type": "stream",
     "text": [
      "\n",
      "\r",
      "0it [00:00, ?it/s]"
     ]
    },
    {
     "name": "stdout",
     "output_type": "stream",
     "text": [
      "\r",
      "Upgrading database; v3 -> v4: : 0it [00:00, ?it/s]"
     ]
    },
    {
     "name": "stdout",
     "output_type": "stream",
     "text": [
      "\r",
      "Upgrading database; v3 -> v4: : 0it [00:00, ?it/s]"
     ]
    },
    {
     "name": "stdout",
     "output_type": "stream",
     "text": [
      "\n",
      "\r",
      "  0%|          | 0/1 [00:00<?, ?it/s]"
     ]
    },
    {
     "name": "stdout",
     "output_type": "stream",
     "text": [
      "\r",
      "Upgrading database; v4 -> v5:   0%|          | 0/1 [00:00<?, ?it/s]"
     ]
    },
    {
     "name": "stdout",
     "output_type": "stream",
     "text": [
      "\r",
      "Upgrading database; v4 -> v5: 100%|██████████| 1/1 [00:00<00:00, 545.71it/s]"
     ]
    },
    {
     "name": "stdout",
     "output_type": "stream",
     "text": [
      "\n",
      "\r",
      "0it [00:00, ?it/s]"
     ]
    },
    {
     "name": "stdout",
     "output_type": "stream",
     "text": [
      "\r",
      "Upgrading database; v5 -> v6: : 0it [00:00, ?it/s]"
     ]
    },
    {
     "name": "stdout",
     "output_type": "stream",
     "text": [
      "\r",
      "Upgrading database; v5 -> v6: : 0it [00:00, ?it/s]"
     ]
    },
    {
     "name": "stdout",
     "output_type": "stream",
     "text": [
      "\n",
      "\r",
      "  0%|          | 0/1 [00:00<?, ?it/s]"
     ]
    },
    {
     "name": "stdout",
     "output_type": "stream",
     "text": [
      "\r",
      "Upgrading database; v6 -> v7:   0%|          | 0/1 [00:00<?, ?it/s]"
     ]
    },
    {
     "name": "stdout",
     "output_type": "stream",
     "text": [
      "\r",
      "Upgrading database; v6 -> v7: 100%|██████████| 1/1 [00:00<00:00, 366.70it/s]"
     ]
    },
    {
     "name": "stdout",
     "output_type": "stream",
     "text": [
      "\n",
      "\r",
      "  0%|          | 0/1 [00:00<?, ?it/s]"
     ]
    },
    {
     "name": "stdout",
     "output_type": "stream",
     "text": [
      "\r",
      "Upgrading database; v7 -> v8:   0%|          | 0/1 [00:00<?, ?it/s]"
     ]
    },
    {
     "name": "stdout",
     "output_type": "stream",
     "text": [
      "\r",
      "Upgrading database; v7 -> v8: 100%|██████████| 1/1 [00:00<00:00, 1210.48it/s]"
     ]
    },
    {
     "name": "stdout",
     "output_type": "stream",
     "text": [
      "\n",
      "\r",
      "  0%|          | 0/1 [00:00<?, ?it/s]"
     ]
    },
    {
     "name": "stdout",
     "output_type": "stream",
     "text": [
      "\r",
      "Upgrading database; v8 -> v9:   0%|          | 0/1 [00:00<?, ?it/s]"
     ]
    },
    {
     "name": "stdout",
     "output_type": "stream",
     "text": [
      "\r",
      "Upgrading database; v8 -> v9: 100%|██████████| 1/1 [00:00<00:00, 729.82it/s]"
     ]
    },
    {
     "name": "stdout",
     "output_type": "stream",
     "text": [
      "\n"
     ]
    }
   ],
   "source": [
    "initialise_database()\n",
    "exp = load_or_create_experiment(experiment_name='tutorial_exp', sample_name=\"no sample\")"
   ]
  },
  {
   "cell_type": "markdown",
   "metadata": {},
   "source": [
    "Here, we define a simple function to benchmark the time it takes to insert n points with either numeric or array data type.\n",
    "We will compare both the time used to call ``add_result`` and the time used for the full measurement."
   ]
  },
  {
   "cell_type": "code",
   "execution_count": 4,
   "metadata": {
    "execution": {
     "iopub.execute_input": "2020-12-07T08:27:37.827118Z",
     "iopub.status.busy": "2020-12-07T08:27:37.825942Z",
     "iopub.status.idle": "2020-12-07T08:27:37.827628Z",
     "shell.execute_reply": "2020-12-07T08:27:37.828061Z"
    }
   },
   "outputs": [],
   "source": [
    "def insert_data(paramtype, npoints, nreps=1):\n",
    "\n",
    "    meas = Measurement(exp=exp)\n",
    "\n",
    "    x1 = ManualParameter('x1')\n",
    "    x2 = ManualParameter('x2')\n",
    "    x3 = ManualParameter('x3')\n",
    "    y1 = ManualParameter('y1')\n",
    "    y2 = ManualParameter('y2')\n",
    "\n",
    "    meas.register_parameter(x1, paramtype=paramtype)\n",
    "    meas.register_parameter(x2, paramtype=paramtype)\n",
    "    meas.register_parameter(x3, paramtype=paramtype)\n",
    "    meas.register_parameter(y1, setpoints=[x1, x2, x3],\n",
    "                            paramtype=paramtype)\n",
    "    meas.register_parameter(y2, setpoints=[x1, x2, x3],\n",
    "                            paramtype=paramtype)\n",
    "    start = time.perf_counter()\n",
    "    with meas.run() as datasaver:\n",
    "        start_adding = time.perf_counter()\n",
    "        for i in range(nreps):\n",
    "            datasaver.add_result((x1, np.random.rand(npoints)),\n",
    "                                 (x2, np.random.rand(npoints)),\n",
    "                                 (x3, np.random.rand(npoints)),\n",
    "                                 (y1, np.random.rand(npoints)),\n",
    "                                 (y2, np.random.rand(npoints)))\n",
    "        stop_adding = time.perf_counter()\n",
    "        run_id = datasaver.run_id\n",
    "    stop = time.perf_counter()\n",
    "    tot_time = stop - start\n",
    "    add_time = stop_adding - start_adding\n",
    "    return tot_time, add_time, run_id"
   ]
  },
  {
   "cell_type": "markdown",
   "metadata": {},
   "source": [
    "## Comparison between numeric/array data and binary blob"
   ]
  },
  {
   "cell_type": "markdown",
   "metadata": {},
   "source": [
    "### Case1: Short experiment time"
   ]
  },
  {
   "cell_type": "code",
   "execution_count": 5,
   "metadata": {
    "execution": {
     "iopub.execute_input": "2020-12-07T08:27:37.834327Z",
     "iopub.status.busy": "2020-12-07T08:27:37.833731Z",
     "iopub.status.idle": "2020-12-07T08:27:38.612288Z",
     "shell.execute_reply": "2020-12-07T08:27:38.611391Z"
    }
   },
   "outputs": [
    {
     "name": "stdout",
     "output_type": "stream",
     "text": [
      "Starting experimental run with id: 1. \n",
      "Starting experimental run with id: 2. \n",
      "Starting experimental run with id: 3. \n",
      "Starting experimental run with id: 4. \n",
      "Starting experimental run with id: 5. \n"
     ]
    },
    {
     "name": "stdout",
     "output_type": "stream",
     "text": [
      "Starting experimental run with id: 6. \n"
     ]
    },
    {
     "name": "stdout",
     "output_type": "stream",
     "text": [
      "Starting experimental run with id: 7. \n"
     ]
    },
    {
     "name": "stdout",
     "output_type": "stream",
     "text": [
      "Starting experimental run with id: 8. \n",
      "Starting experimental run with id: 9. \n"
     ]
    },
    {
     "name": "stdout",
     "output_type": "stream",
     "text": [
      "Starting experimental run with id: 10. \n",
      "Starting experimental run with id: 11. \n"
     ]
    },
    {
     "name": "stdout",
     "output_type": "stream",
     "text": [
      "Starting experimental run with id: 12. \n",
      "Starting experimental run with id: 13. \n"
     ]
    },
    {
     "name": "stdout",
     "output_type": "stream",
     "text": [
      "Starting experimental run with id: 14. \n"
     ]
    }
   ],
   "source": [
    "sizes = [1,500,1000,2000,3000,4000,5000]\n",
    "t_numeric = []\n",
    "t_numeric_add = []\n",
    "t_array = []\n",
    "t_array_add = []\n",
    "for size in sizes:\n",
    "    tn, tna, run_id_n =  insert_data('numeric', size)\n",
    "    t_numeric.append(tn)\n",
    "    t_numeric_add.append(tna)\n",
    "\n",
    "    ta, taa, run_id_a =  insert_data('array', size)\n",
    "    t_array.append(ta)\n",
    "    t_array_add.append(taa)"
   ]
  },
  {
   "cell_type": "code",
   "execution_count": 6,
   "metadata": {
    "execution": {
     "iopub.execute_input": "2020-12-07T08:27:38.641037Z",
     "iopub.status.busy": "2020-12-07T08:27:38.627139Z",
     "iopub.status.idle": "2020-12-07T08:27:38.800777Z",
     "shell.execute_reply": "2020-12-07T08:27:38.801433Z"
    }
   },
   "outputs": [
    {
     "data": {
      "image/png": "[encoded data removed]",
      "text/plain": [
       "<Figure size 432x288 with 1 Axes>"
      ]
     },
     "metadata": {
      "needs_background": "light"
     },
     "output_type": "display_data"
    }
   ],
   "source": [
    "fig, ax = plt.subplots(1,1)\n",
    "ax.plot(sizes, t_numeric, 'o-', label='Inserting row-by-row')\n",
    "ax.plot(sizes, t_numeric_add, 'o-', label='Inserting row-by-row: add_result only')\n",
    "ax.plot(sizes, t_array, 'd-', label='Inserting as binary blob')\n",
    "ax.plot(sizes, t_array_add, 'd-', label='Inserting as binary blob: add_result only')\n",
    "ax.legend()\n",
    "ax.set_xlabel('Array length')\n",
    "ax.set_ylabel('Time (s)')\n",
    "fig.tight_layout()"
   ]
  },
  {
   "cell_type": "markdown",
   "metadata": {},
   "source": [
    "As shown in the latter figure, the time to setup and and close the experiment is approximately 0.4 sec. In case of small array sizes, the difference between inserting values of data as arrays and inserting them row-by-row is relatively unimportant. At larger array sizes, i.e. above 10000 points, the cost of writing data as individual datapoints starts to become important.\n"
   ]
  },
  {
   "cell_type": "markdown",
   "metadata": {},
   "source": [
    "### Case2: Long experiment time "
   ]
  },
  {
   "cell_type": "code",
   "execution_count": 7,
   "metadata": {
    "execution": {
     "iopub.execute_input": "2020-12-07T08:27:38.804346Z",
     "iopub.status.busy": "2020-12-07T08:27:38.803450Z",
     "iopub.status.idle": "2020-12-07T08:28:31.928457Z",
     "shell.execute_reply": "2020-12-07T08:28:31.929173Z"
    }
   },
   "outputs": [
    {
     "name": "stdout",
     "output_type": "stream",
     "text": [
      "Starting experimental run with id: 15. \n",
      "Starting experimental run with id: 16. \n",
      "Starting experimental run with id: 17. \n"
     ]
    },
    {
     "name": "stdout",
     "output_type": "stream",
     "text": [
      "Starting experimental run with id: 18. \n",
      "Starting experimental run with id: 19. \n"
     ]
    },
    {
     "name": "stdout",
     "output_type": "stream",
     "text": [
      "Starting experimental run with id: 20. \n"
     ]
    },
    {
     "name": "stdout",
     "output_type": "stream",
     "text": [
      "Starting experimental run with id: 21. \n"
     ]
    },
    {
     "name": "stdout",
     "output_type": "stream",
     "text": [
      "Starting experimental run with id: 22. \n"
     ]
    },
    {
     "name": "stdout",
     "output_type": "stream",
     "text": [
      "Starting experimental run with id: 23. \n"
     ]
    },
    {
     "name": "stdout",
     "output_type": "stream",
     "text": [
      "Starting experimental run with id: 24. \n"
     ]
    },
    {
     "name": "stdout",
     "output_type": "stream",
     "text": [
      "Starting experimental run with id: 25. \n"
     ]
    },
    {
     "name": "stdout",
     "output_type": "stream",
     "text": [
      "Starting experimental run with id: 26. \n"
     ]
    },
    {
     "name": "stdout",
     "output_type": "stream",
     "text": [
      "Starting experimental run with id: 27. \n"
     ]
    },
    {
     "name": "stdout",
     "output_type": "stream",
     "text": [
      "Starting experimental run with id: 28. \n"
     ]
    }
   ],
   "source": [
    "sizes = [1,500,1000,2000,3000,4000,5000]\n",
    "nreps = 100\n",
    "t_numeric = []\n",
    "t_numeric_add = []\n",
    "t_numeric_run_ids = []\n",
    "t_array = []\n",
    "t_array_add = []\n",
    "t_array_run_ids = []\n",
    "for size in sizes:\n",
    "    tn, tna, run_id_n =  insert_data('numeric', size, nreps=nreps)\n",
    "    t_numeric.append(tn)\n",
    "    t_numeric_add.append(tna)\n",
    "    t_numeric_run_ids.append(run_id_n)\n",
    "\n",
    "    ta, taa, run_id_a =  insert_data('array', size, nreps=nreps)\n",
    "    t_array.append(ta)\n",
    "    t_array_add.append(taa)\n",
    "    t_array_run_ids.append(run_id_a)"
   ]
  },
  {
   "cell_type": "code",
   "execution_count": 8,
   "metadata": {
    "execution": {
     "iopub.execute_input": "2020-12-07T08:28:31.962103Z",
     "iopub.status.busy": "2020-12-07T08:28:31.954364Z",
     "iopub.status.idle": "2020-12-07T08:28:32.109529Z",
     "shell.execute_reply": "2020-12-07T08:28:32.110100Z"
    },
    "scrolled": true
   },
   "outputs": [
    {
     "data": {
      "image/png": "[encoded data removed]",
      "text/plain": [
       "<Figure size 432x288 with 1 Axes>"
      ]
     },
     "metadata": {
      "needs_background": "light"
     },
     "output_type": "display_data"
    }
   ],
   "source": [
    "fig, ax = plt.subplots(1,1)\n",
    "ax.plot(sizes, t_numeric, 'o-', label='Inserting row-by-row')\n",
    "ax.plot(sizes, t_numeric_add, 'o-', label='Inserting row-by-row: add_result only')\n",
    "ax.plot(sizes, t_array, 'd-', label='Inserting as binary blob')\n",
    "ax.plot(sizes, t_array_add, 'd-', label='Inserting as binary blob: add_result only')\n",
    "ax.legend()\n",
    "ax.set_xlabel('Array length')\n",
    "ax.set_ylabel('Time (s)')\n",
    "fig.tight_layout()"
   ]
  },
  {
   "cell_type": "markdown",
   "metadata": {},
   "source": [
    "However, as we increase the length of the experiment, as seen here by repeating the insertion 100 times, we see a big difference between inserting values of the data row-by-row and inserting it as a binary blob."
   ]
  },
  {
   "cell_type": "markdown",
   "metadata": {},
   "source": [
    "## Loading the data "
   ]
  },
  {
   "cell_type": "code",
   "execution_count": 9,
   "metadata": {
    "execution": {
     "iopub.execute_input": "2020-12-07T08:28:32.113976Z",
     "iopub.status.busy": "2020-12-07T08:28:32.113418Z",
     "iopub.status.idle": "2020-12-07T08:28:32.115252Z",
     "shell.execute_reply": "2020-12-07T08:28:32.115906Z"
    }
   },
   "outputs": [],
   "source": [
    "from qcodes.dataset.data_set import load_by_id\n",
    "from qcodes.dataset.data_export import get_data_by_id"
   ]
  },
  {
   "cell_type": "markdown",
   "metadata": {},
   "source": [
    "As usual you can load the data by using the ``load_by_id`` function but you will notice that the different storage methods\n",
    "are reflected in shape of the data as it is retrieved. "
   ]
  },
  {
   "cell_type": "code",
   "execution_count": 10,
   "metadata": {
    "execution": {
     "iopub.execute_input": "2020-12-07T08:28:32.119332Z",
     "iopub.status.busy": "2020-12-07T08:28:32.118348Z",
     "iopub.status.idle": "2020-12-07T08:28:32.122366Z",
     "shell.execute_reply": "2020-12-07T08:28:32.123147Z"
    }
   },
   "outputs": [],
   "source": [
    "run_id_n = t_numeric_run_ids[0]\n",
    "run_id_a = t_array_run_ids[0]"
   ]
  },
  {
   "cell_type": "code",
   "execution_count": 11,
   "metadata": {
    "execution": {
     "iopub.execute_input": "2020-12-07T08:28:32.126342Z",
     "iopub.status.busy": "2020-12-07T08:28:32.125809Z",
     "iopub.status.idle": "2020-12-07T08:28:32.133983Z",
     "shell.execute_reply": "2020-12-07T08:28:32.134481Z"
    },
    "scrolled": true
   },
   "outputs": [
    {
     "data": {
      "text/plain": [
       "{'x1': {'x1': array([0.84229593, 0.84229593, 0.96759625, 0.96759625, 0.6002783 ,\n",
       "         0.6002783 , 0.73838808, 0.73838808, 0.6984386 , 0.6984386 ,\n",
       "         0.65882445, 0.65882445, 0.33539443, 0.33539443, 0.55613652,\n",
       "         0.55613652, 0.71132556, 0.71132556, 0.62894571, 0.62894571,\n",
       "         0.77970043, 0.77970043, 0.66514779, 0.66514779, 0.69379944,\n",
       "         0.69379944, 0.63756906, 0.63756906, 0.18636055, 0.18636055,\n",
       "         0.43888218, 0.43888218, 0.15063719, 0.15063719, 0.91941675,\n",
       "         0.91941675, 0.41483143, 0.41483143, 0.49472613, 0.49472613,\n",
       "         0.60100673, 0.60100673, 0.6314043 , 0.6314043 , 0.17469584,\n",
       "         0.17469584, 0.73434017, 0.73434017, 0.76583146, 0.76583146,\n",
       "         0.77845419, 0.77845419, 0.81138137, 0.81138137, 0.21322675,\n",
       "         0.21322675, 0.48346259, 0.48346259, 0.48848288, 0.48848288,\n",
       "         0.26829665, 0.26829665, 0.99330524, 0.99330524, 0.74953655,\n",
       "         0.74953655, 0.78410611, 0.78410611, 0.79055344, 0.79055344,\n",
       "         0.42114934, 0.42114934, 0.53440173, 0.53440173, 0.16046825,\n",
       "         0.16046825, 0.44180577, 0.44180577, 0.66337642, 0.66337642,\n",
       "         0.18255523, 0.18255523, 0.91754782, 0.91754782, 0.99211934,\n",
       "         0.99211934, 0.85425645, 0.85425645, 0.32519683, 0.32519683,\n",
       "         0.97206611, 0.97206611, 0.24252935, 0.24252935, 0.41648292,\n",
       "         0.41648292, 0.0302861 , 0.0302861 , 0.62163675, 0.62163675,\n",
       "         0.29399234, 0.29399234, 0.75778873, 0.75778873, 0.54182321,\n",
       "         0.54182321, 0.43526632, 0.43526632, 0.70951586, 0.70951586,\n",
       "         0.62386631, 0.62386631, 0.28708076, 0.28708076, 0.68371708,\n",
       "         0.68371708, 0.67835975, 0.67835975, 0.26443579, 0.26443579,\n",
       "         0.81984347, 0.81984347, 0.36876761, 0.36876761, 0.22574853,\n",
       "         0.22574853, 0.56472031, 0.56472031, 0.88617071, 0.88617071,\n",
       "         0.71892597, 0.71892597, 0.58265852, 0.58265852, 0.4476413 ,\n",
       "         0.4476413 , 0.6772483 , 0.6772483 , 0.71257502, 0.71257502,\n",
       "         0.13492292, 0.13492292, 0.36211788, 0.36211788, 0.33448684,\n",
       "         0.33448684, 0.86246709, 0.86246709, 0.42572452, 0.42572452,\n",
       "         0.87702559, 0.87702559, 0.92255174, 0.92255174, 0.44878172,\n",
       "         0.44878172, 0.03330832, 0.03330832, 0.87174877, 0.87174877,\n",
       "         0.58168099, 0.58168099, 0.34833237, 0.34833237, 0.74137901,\n",
       "         0.74137901, 0.75805082, 0.75805082, 0.66930316, 0.66930316,\n",
       "         0.59165742, 0.59165742, 0.96436491, 0.96436491, 0.3955196 ,\n",
       "         0.3955196 , 0.38054284, 0.38054284, 0.84000244, 0.84000244,\n",
       "         0.57542934, 0.57542934, 0.54314049, 0.54314049, 0.21031871,\n",
       "         0.21031871, 0.85792193, 0.85792193, 0.77105526, 0.77105526,\n",
       "         0.81926474, 0.81926474, 0.96526583, 0.96526583, 0.65947984,\n",
       "         0.65947984, 0.0200094 , 0.0200094 , 0.2801069 , 0.2801069 ])}}"
      ]
     },
     "execution_count": 1,
     "metadata": {},
     "output_type": "execute_result"
    }
   ],
   "source": [
    "ds = load_by_id(run_id_n)\n",
    "ds.get_parameter_data('x1')"
   ]
  },
  {
   "cell_type": "markdown",
   "metadata": {},
   "source": [
    "And a dataset stored as binary arrays"
   ]
  },
  {
   "cell_type": "code",
   "execution_count": 12,
   "metadata": {
    "execution": {
     "iopub.execute_input": "2020-12-07T08:28:32.137350Z",
     "iopub.status.busy": "2020-12-07T08:28:32.136831Z",
     "iopub.status.idle": "2020-12-07T08:28:32.186894Z",
     "shell.execute_reply": "2020-12-07T08:28:32.187813Z"
    },
    "scrolled": true
   },
   "outputs": [
    {
     "data": {
      "text/plain": [
       "{'x1': {'x1': array([[0.03119855],\n",
       "         [0.03119855],\n",
       "         [0.60422284],\n",
       "         [0.60422284],\n",
       "         [0.96824716],\n",
       "         [0.96824716],\n",
       "         [0.77863467],\n",
       "         [0.77863467],\n",
       "         [0.31767724],\n",
       "         [0.31767724],\n",
       "         [0.77669357],\n",
       "         [0.77669357],\n",
       "         [0.70914595],\n",
       "         [0.70914595],\n",
       "         [0.47801197],\n",
       "         [0.47801197],\n",
       "         [0.39686244],\n",
       "         [0.39686244],\n",
       "         [0.42065641],\n",
       "         [0.42065641],\n",
       "         [0.21492924],\n",
       "         [0.21492924],\n",
       "         [0.24598765],\n",
       "         [0.24598765],\n",
       "         [0.41025387],\n",
       "         [0.41025387],\n",
       "         [0.42567962],\n",
       "         [0.42567962],\n",
       "         [0.11692725],\n",
       "         [0.11692725],\n",
       "         [0.16793199],\n",
       "         [0.16793199],\n",
       "         [0.55383114],\n",
       "         [0.55383114],\n",
       "         [0.10707248],\n",
       "         [0.10707248],\n",
       "         [0.61221727],\n",
       "         [0.61221727],\n",
       "         [0.77463243],\n",
       "         [0.77463243],\n",
       "         [0.54605189],\n",
       "         [0.54605189],\n",
       "         [0.7573384 ],\n",
       "         [0.7573384 ],\n",
       "         [0.76576642],\n",
       "         [0.76576642],\n",
       "         [0.55909237],\n",
       "         [0.55909237],\n",
       "         [0.99788761],\n",
       "         [0.99788761],\n",
       "         [0.40328558],\n",
       "         [0.40328558],\n",
       "         [0.01097602],\n",
       "         [0.01097602],\n",
       "         [0.45871981],\n",
       "         [0.45871981],\n",
       "         [0.94808232],\n",
       "         [0.94808232],\n",
       "         [0.00219928],\n",
       "         [0.00219928],\n",
       "         [0.03229767],\n",
       "         [0.03229767],\n",
       "         [0.54632106],\n",
       "         [0.54632106],\n",
       "         [0.22765591],\n",
       "         [0.22765591],\n",
       "         [0.42598217],\n",
       "         [0.42598217],\n",
       "         [0.807997  ],\n",
       "         [0.807997  ],\n",
       "         [0.58713726],\n",
       "         [0.58713726],\n",
       "         [0.26016825],\n",
       "         [0.26016825],\n",
       "         [0.80267836],\n",
       "         [0.80267836],\n",
       "         [0.76084466],\n",
       "         [0.76084466],\n",
       "         [0.35725818],\n",
       "         [0.35725818],\n",
       "         [0.62410115],\n",
       "         [0.62410115],\n",
       "         [0.89292591],\n",
       "         [0.89292591],\n",
       "         [0.33681749],\n",
       "         [0.33681749],\n",
       "         [0.62199003],\n",
       "         [0.62199003],\n",
       "         [0.95185923],\n",
       "         [0.95185923],\n",
       "         [0.93406738],\n",
       "         [0.93406738],\n",
       "         [0.95774899],\n",
       "         [0.95774899],\n",
       "         [0.40664162],\n",
       "         [0.40664162],\n",
       "         [0.11209378],\n",
       "         [0.11209378],\n",
       "         [0.56715912],\n",
       "         [0.56715912],\n",
       "         [0.08430277],\n",
       "         [0.08430277],\n",
       "         [0.761808  ],\n",
       "         [0.761808  ],\n",
       "         [0.67652653],\n",
       "         [0.67652653],\n",
       "         [0.58443858],\n",
       "         [0.58443858],\n",
       "         [0.03125077],\n",
       "         [0.03125077],\n",
       "         [0.36591055],\n",
       "         [0.36591055],\n",
       "         [0.07728917],\n",
       "         [0.07728917],\n",
       "         [0.66300454],\n",
       "         [0.66300454],\n",
       "         [0.28642134],\n",
       "         [0.28642134],\n",
       "         [0.34646848],\n",
       "         [0.34646848],\n",
       "         [0.93079364],\n",
       "         [0.93079364],\n",
       "         [0.06728183],\n",
       "         [0.06728183],\n",
       "         [0.77702034],\n",
       "         [0.77702034],\n",
       "         [0.93000466],\n",
       "         [0.93000466],\n",
       "         [0.37525272],\n",
       "         [0.37525272],\n",
       "         [0.01593729],\n",
       "         [0.01593729],\n",
       "         [0.47291363],\n",
       "         [0.47291363],\n",
       "         [0.6082013 ],\n",
       "         [0.6082013 ],\n",
       "         [0.72013945],\n",
       "         [0.72013945],\n",
       "         [0.45762019],\n",
       "         [0.45762019],\n",
       "         [0.43634961],\n",
       "         [0.43634961],\n",
       "         [0.8046696 ],\n",
       "         [0.8046696 ],\n",
       "         [0.96590177],\n",
       "         [0.96590177],\n",
       "         [0.39224331],\n",
       "         [0.39224331],\n",
       "         [0.87106016],\n",
       "         [0.87106016],\n",
       "         [0.62462476],\n",
       "         [0.62462476],\n",
       "         [0.33121779],\n",
       "         [0.33121779],\n",
       "         [0.13245756],\n",
       "         [0.13245756],\n",
       "         [0.15578199],\n",
       "         [0.15578199],\n",
       "         [0.97231842],\n",
       "         [0.97231842],\n",
       "         [0.47140968],\n",
       "         [0.47140968],\n",
       "         [0.09980639],\n",
       "         [0.09980639],\n",
       "         [0.66444774],\n",
       "         [0.66444774],\n",
       "         [0.69286712],\n",
       "         [0.69286712],\n",
       "         [0.3867937 ],\n",
       "         [0.3867937 ],\n",
       "         [0.84067895],\n",
       "         [0.84067895],\n",
       "         [0.73177422],\n",
       "         [0.73177422],\n",
       "         [0.07194158],\n",
       "         [0.07194158],\n",
       "         [0.63781359],\n",
       "         [0.63781359],\n",
       "         [0.92592701],\n",
       "         [0.92592701],\n",
       "         [0.81896861],\n",
       "         [0.81896861],\n",
       "         [0.22615838],\n",
       "         [0.22615838],\n",
       "         [0.82141537],\n",
       "         [0.82141537],\n",
       "         [0.63094742],\n",
       "         [0.63094742],\n",
       "         [0.31454231],\n",
       "         [0.31454231],\n",
       "         [0.96271447],\n",
       "         [0.96271447],\n",
       "         [0.09886066],\n",
       "         [0.09886066],\n",
       "         [0.0920025 ],\n",
       "         [0.0920025 ],\n",
       "         [0.54961167],\n",
       "         [0.54961167],\n",
       "         [0.67971302],\n",
       "         [0.67971302]])}}"
      ]
     },
     "execution_count": 1,
     "metadata": {},
     "output_type": "execute_result"
    }
   ],
   "source": [
    "ds = load_by_id(run_id_a)\n",
    "ds.get_parameter_data('x1')"
   ]
  },
  {
   "cell_type": "code",
   "execution_count": null,
   "metadata": {},
   "outputs": [],
   "source": []
  }
 ],
 "metadata": {
  "kernelspec": {
   "display_name": "Python 3",
   "language": "python",
   "name": "python3"
  },
  "language_info": {
   "codemirror_mode": {
    "name": "ipython",
    "version": 3
   },
   "file_extension": ".py",
   "mimetype": "text/x-python",
   "name": "python",
   "nbconvert_exporter": "python",
   "pygments_lexer": "ipython3",
   "version": "3.7.9"
  },
  "nbsphinx": {
   "timeout": 600
  },
  "toc": {
   "base_numbering": 1,
   "nav_menu": {},
   "number_sections": true,
   "sideBar": true,
   "skip_h1_title": false,
   "title_cell": "Table of Contents",
   "title_sidebar": "Contents",
   "toc_cell": false,
   "toc_position": {},
   "toc_section_display": true,
   "toc_window_display": false
  },
  "varInspector": {
   "cols": {
    "lenName": 16,
    "lenType": 16,
    "lenVar": 40
   },
   "kernels_config": {
    "python": {
     "delete_cmd_postfix": "",
     "delete_cmd_prefix": "del ",
     "library": "var_list.py",
     "varRefreshCmd": "print(var_dic_list())"
    },
    "r": {
     "delete_cmd_postfix": ") ",
     "delete_cmd_prefix": "rm(",
     "library": "var_list.r",
     "varRefreshCmd": "cat(var_dic_list()) "
    }
   },
   "types_to_exclude": [
    "module",
    "function",
    "builtin_function_or_method",
    "instance",
    "_Feature"
   ],
   "window_display": false
  }
 },
 "nbformat": 4,
 "nbformat_minor": 2
}
