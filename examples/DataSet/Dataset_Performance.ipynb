{
 "cells": [
  {
   "cell_type": "markdown",
   "execution_count": 1,
   "metadata": {},
   "source": [
    "# DataSet Performance\n",
    "\n",
    "This notebook shows the trade-off between inserting data into a database row-by-row and as binary blobs. Inserting the data row-by-row means that we have direct access to all the data and may perform queries directly on the values of the data. On the other hand, as we shall see, this is much slower than inserting the data directly as binary blobs."
   ]
  },
  {
   "cell_type": "markdown",
   "execution_count": 1,
   "metadata": {},
   "source": [
    "First, we choose a new location for the database to ensure that we don't add a bunch of benchmarking data to the default one."
   ]
  },
  {
   "cell_type": "code",
   "execution_count": 1,
   "metadata": {
    "execution": {
     "iopub.execute_input": "2020-09-14T11:31:52.702763Z",
     "iopub.status.busy": "2020-09-14T11:31:52.701929Z",
     "iopub.status.idle": "2020-09-14T11:31:53.762374Z",
     "shell.execute_reply": "2020-09-14T11:31:53.762863Z"
    }
   },
   "outputs": [
    {
     "name": "stdout",
     "output_type": "stream",
     "text": [
      "Logging hadn't been started.\n",
      "Activating auto-logging. Current session state plus future input saved.\n",
      "Filename       : /home/vsts/.qcodes/logs/command_history.log\n",
      "Mode           : append\n",
      "Output logging : True\n",
      "Raw input log  : False\n",
      "Timestamping   : True\n",
      "State          : active\n"
     ]
    },
    {
     "name": "stdout",
     "output_type": "stream",
     "text": [
      "Qcodes Logfile : /home/vsts/.qcodes/logs/200914-18788-qcodes.log\n"
     ]
    }
   ],
   "source": [
    "import os\n",
    "cwd = os.getcwd()\n",
    "import qcodes as qc\n",
    "qc.config[\"core\"][\"db_location\"] = os.path.join(cwd, 'testing.db')\n"
   ]
  },
  {
   "cell_type": "code",
   "execution_count": 2,
   "metadata": {
    "execution": {
     "iopub.execute_input": "2020-09-14T11:31:53.769113Z",
     "iopub.status.busy": "2020-09-14T11:31:53.768449Z",
     "iopub.status.idle": "2020-09-14T11:31:53.939769Z",
     "shell.execute_reply": "2020-09-14T11:31:53.940264Z"
    }
   },
   "outputs": [],
   "source": [
    "%matplotlib inline\n",
    "import time\n",
    "import matplotlib.pyplot as plt\n",
    "import numpy as np\n",
    "\n",
    "import qcodes as qc\n",
    "from qcodes.instrument.parameter import ManualParameter\n",
    "from qcodes.dataset.experiment_container import (Experiment,\n",
    "                                                 load_last_experiment,\n",
    "                                                 new_experiment)\n",
    "from qcodes.dataset.sqlite.database import initialise_database\n",
    "from qcodes import load_or_create_experiment\n",
    "from qcodes.dataset.measurements import Measurement"
   ]
  },
  {
   "cell_type": "code",
   "execution_count": 3,
   "metadata": {
    "execution": {
     "iopub.execute_input": "2020-09-14T11:31:53.944281Z",
     "iopub.status.busy": "2020-09-14T11:31:53.943537Z",
     "iopub.status.idle": "2020-09-14T11:31:54.017921Z",
     "shell.execute_reply": "2020-09-14T11:31:54.017351Z"
    }
   },
   "outputs": [
    {
     "name": "stdout",
     "output_type": "stream",
     "text": [
      "\r",
      "0it [00:00, ?it/s]"
     ]
    },
    {
     "name": "stdout",
     "output_type": "stream",
     "text": [
      "\r",
      "Upgrading database; v0 -> v1: : 0it [00:00, ?it/s]"
     ]
    },
    {
     "name": "stdout",
     "output_type": "stream",
     "text": [
      "\r",
      "Upgrading database; v0 -> v1: : 0it [00:00, ?it/s]"
     ]
    },
    {
     "name": "stdout",
     "output_type": "stream",
     "text": [
      "\n",
      "\r",
      "  0%|          | 0/1 [00:00<?, ?it/s]"
     ]
    },
    {
     "name": "stdout",
     "output_type": "stream",
     "text": [
      "\r",
      "Upgrading database; v1 -> v2:   0%|          | 0/1 [00:00<?, ?it/s]"
     ]
    },
    {
     "name": "stdout",
     "output_type": "stream",
     "text": [
      "\r",
      "Upgrading database; v1 -> v2: 100%|██████████| 1/1 [00:00<00:00, 402.06it/s]"
     ]
    },
    {
     "name": "stdout",
     "output_type": "stream",
     "text": [
      "\n",
      "\r",
      "0it [00:00, ?it/s]"
     ]
    },
    {
     "name": "stdout",
     "output_type": "stream",
     "text": [
      "\r",
      "Upgrading database; v2 -> v3: : 0it [00:00, ?it/s]"
     ]
    },
    {
     "name": "stdout",
     "output_type": "stream",
     "text": [
      "\r",
      "Upgrading database; v2 -> v3: : 0it [00:00, ?it/s]"
     ]
    },
    {
     "name": "stdout",
     "output_type": "stream",
     "text": [
      "\n",
      "\r",
      "0it [00:00, ?it/s]"
     ]
    },
    {
     "name": "stdout",
     "output_type": "stream",
     "text": [
      "\r",
      "Upgrading database; v3 -> v4: : 0it [00:00, ?it/s]"
     ]
    },
    {
     "name": "stdout",
     "output_type": "stream",
     "text": [
      "\r",
      "Upgrading database; v3 -> v4: : 0it [00:00, ?it/s]"
     ]
    },
    {
     "name": "stdout",
     "output_type": "stream",
     "text": [
      "\n",
      "\r",
      "  0%|          | 0/1 [00:00<?, ?it/s]"
     ]
    },
    {
     "name": "stdout",
     "output_type": "stream",
     "text": [
      "\r",
      "Upgrading database; v4 -> v5:   0%|          | 0/1 [00:00<?, ?it/s]"
     ]
    },
    {
     "name": "stdout",
     "output_type": "stream",
     "text": [
      "\r",
      "Upgrading database; v4 -> v5: 100%|██████████| 1/1 [00:00<00:00, 408.52it/s]"
     ]
    },
    {
     "name": "stdout",
     "output_type": "stream",
     "text": [
      "\n",
      "\r",
      "0it [00:00, ?it/s]"
     ]
    },
    {
     "name": "stdout",
     "output_type": "stream",
     "text": [
      "\r",
      "Upgrading database; v5 -> v6: : 0it [00:00, ?it/s]"
     ]
    },
    {
     "name": "stdout",
     "output_type": "stream",
     "text": [
      "\r",
      "Upgrading database; v5 -> v6: : 0it [00:00, ?it/s]"
     ]
    },
    {
     "name": "stdout",
     "output_type": "stream",
     "text": [
      "\n",
      "\r",
      "  0%|          | 0/1 [00:00<?, ?it/s]"
     ]
    },
    {
     "name": "stdout",
     "output_type": "stream",
     "text": [
      "\r",
      "Upgrading database; v6 -> v7:   0%|          | 0/1 [00:00<?, ?it/s]"
     ]
    },
    {
     "name": "stdout",
     "output_type": "stream",
     "text": [
      "\r",
      "Upgrading database; v6 -> v7: 100%|██████████| 1/1 [00:00<00:00, 388.36it/s]"
     ]
    },
    {
     "name": "stdout",
     "output_type": "stream",
     "text": [
      "\n",
      "\r",
      "  0%|          | 0/1 [00:00<?, ?it/s]"
     ]
    },
    {
     "name": "stdout",
     "output_type": "stream",
     "text": [
      "\r",
      "Upgrading database; v7 -> v8:   0%|          | 0/1 [00:00<?, ?it/s]"
     ]
    },
    {
     "name": "stdout",
     "output_type": "stream",
     "text": [
      "\r",
      "Upgrading database; v7 -> v8: 100%|██████████| 1/1 [00:00<00:00, 430.49it/s]"
     ]
    },
    {
     "name": "stdout",
     "output_type": "stream",
     "text": [
      "\n",
      "\r",
      "  0%|          | 0/1 [00:00<?, ?it/s]"
     ]
    },
    {
     "name": "stdout",
     "output_type": "stream",
     "text": [
      "\r",
      "Upgrading database; v8 -> v9:   0%|          | 0/1 [00:00<?, ?it/s]"
     ]
    },
    {
     "name": "stdout",
     "output_type": "stream",
     "text": [
      "\r",
      "Upgrading database; v8 -> v9: 100%|██████████| 1/1 [00:00<00:00, 1157.69it/s]"
     ]
    },
    {
     "name": "stdout",
     "output_type": "stream",
     "text": [
      "\n"
     ]
    }
   ],
   "source": [
    "initialise_database()\n",
    "exp = load_or_create_experiment(experiment_name='tutorial_exp', sample_name=\"no sample\")"
   ]
  },
  {
   "cell_type": "markdown",
   "execution_count": 4,
   "metadata": {},
   "source": [
    "Here, we define a simple function to benchmark the time it takes to insert n points with either numeric or array data type.\n",
    "We will compare both the time used to call ``add_result`` and the time used for the full measurement."
   ]
  },
  {
   "cell_type": "code",
   "execution_count": 4,
   "metadata": {
    "execution": {
     "iopub.execute_input": "2020-09-14T11:31:54.027093Z",
     "iopub.status.busy": "2020-09-14T11:31:54.026460Z",
     "iopub.status.idle": "2020-09-14T11:31:54.031081Z",
     "shell.execute_reply": "2020-09-14T11:31:54.030518Z"
    }
   },
   "outputs": [],
   "source": [
    "def insert_data(paramtype, npoints, nreps=1):\n",
    "\n",
    "    meas = Measurement(exp=exp)\n",
    "\n",
    "    x1 = ManualParameter('x1')\n",
    "    x2 = ManualParameter('x2')\n",
    "    x3 = ManualParameter('x3')\n",
    "    y1 = ManualParameter('y1')\n",
    "    y2 = ManualParameter('y2')\n",
    "\n",
    "    meas.register_parameter(x1, paramtype=paramtype)\n",
    "    meas.register_parameter(x2, paramtype=paramtype)\n",
    "    meas.register_parameter(x3, paramtype=paramtype)\n",
    "    meas.register_parameter(y1, setpoints=[x1, x2, x3],\n",
    "                            paramtype=paramtype)\n",
    "    meas.register_parameter(y2, setpoints=[x1, x2, x3],\n",
    "                            paramtype=paramtype)\n",
    "    start = time.perf_counter()\n",
    "    with meas.run() as datasaver:\n",
    "        start_adding = time.perf_counter()\n",
    "        for i in range(nreps):\n",
    "            datasaver.add_result((x1, np.random.rand(npoints)),\n",
    "                                 (x2, np.random.rand(npoints)),\n",
    "                                 (x3, np.random.rand(npoints)),\n",
    "                                 (y1, np.random.rand(npoints)),\n",
    "                                 (y2, np.random.rand(npoints)))\n",
    "        stop_adding = time.perf_counter()\n",
    "        run_id = datasaver.run_id\n",
    "    stop = time.perf_counter()\n",
    "    tot_time = stop - start\n",
    "    add_time = stop_adding - start_adding\n",
    "    return tot_time, add_time, run_id"
   ]
  },
  {
   "cell_type": "markdown",
   "execution_count": 5,
   "metadata": {},
   "source": [
    "## Comparison between numeric/array data and binary blob"
   ]
  },
  {
   "cell_type": "markdown",
   "execution_count": 5,
   "metadata": {},
   "source": [
    "### Case1: Short experiment time"
   ]
  },
  {
   "cell_type": "code",
   "execution_count": 5,
   "metadata": {
    "execution": {
     "iopub.execute_input": "2020-09-14T11:31:54.038329Z",
     "iopub.status.busy": "2020-09-14T11:31:54.037424Z",
     "iopub.status.idle": "2020-09-14T11:31:54.905958Z",
     "shell.execute_reply": "2020-09-14T11:31:54.905467Z"
    }
   },
   "outputs": [
    {
     "name": "stdout",
     "output_type": "stream",
     "text": [
      "Starting experimental run with id: 1. \n",
      "Starting experimental run with id: 2. \n",
      "Starting experimental run with id: 3. \n"
     ]
    },
    {
     "name": "stdout",
     "output_type": "stream",
     "text": [
      "Starting experimental run with id: 4. \n"
     ]
    },
    {
     "name": "stdout",
     "output_type": "stream",
     "text": [
      "Starting experimental run with id: 5. \n"
     ]
    },
    {
     "name": "stdout",
     "output_type": "stream",
     "text": [
      "Starting experimental run with id: 6. \n"
     ]
    },
    {
     "name": "stdout",
     "output_type": "stream",
     "text": [
      "Starting experimental run with id: 7. \n",
      "Starting experimental run with id: 8. \n"
     ]
    },
    {
     "name": "stdout",
     "output_type": "stream",
     "text": [
      "Starting experimental run with id: 9. \n"
     ]
    },
    {
     "name": "stdout",
     "output_type": "stream",
     "text": [
      "Starting experimental run with id: 10. \n",
      "Starting experimental run with id: 11. \n"
     ]
    },
    {
     "name": "stdout",
     "output_type": "stream",
     "text": [
      "Starting experimental run with id: 12. \n",
      "Starting experimental run with id: 13. \n"
     ]
    },
    {
     "name": "stdout",
     "output_type": "stream",
     "text": [
      "Starting experimental run with id: 14. \n"
     ]
    }
   ],
   "source": [
    "sizes = [1,500,1000,2000,3000,4000,5000]\n",
    "t_numeric = []\n",
    "t_numeric_add = []\n",
    "t_array = []\n",
    "t_array_add = []\n",
    "for size in sizes:\n",
    "    tn, tna, run_id_n =  insert_data('numeric', size)\n",
    "    t_numeric.append(tn)\n",
    "    t_numeric_add.append(tna)\n",
    "\n",
    "    ta, taa, run_id_a =  insert_data('array', size)\n",
    "    t_array.append(ta)\n",
    "    t_array_add.append(taa)"
   ]
  },
  {
   "cell_type": "code",
   "execution_count": 6,
   "metadata": {
    "execution": {
     "iopub.execute_input": "2020-09-14T11:31:54.910832Z",
     "iopub.status.busy": "2020-09-14T11:31:54.910150Z",
     "iopub.status.idle": "2020-09-14T11:31:55.147368Z",
     "shell.execute_reply": "2020-09-14T11:31:55.146897Z"
    }
   },
   "outputs": [
    {
     "data": {
      "image/png": "[encoded data removed]",
      "text/plain": [
       "<Figure size 432x288 with 1 Axes>"
      ]
     },
     "metadata": {
      "needs_background": "light"
     },
     "output_type": "display_data"
    }
   ],
   "source": [
    "fig, ax = plt.subplots(1,1)\n",
    "ax.plot(sizes, t_numeric, 'o-', label='Inserting row-by-row')\n",
    "ax.plot(sizes, t_numeric_add, 'o-', label='Inserting row-by-row: add_result only')\n",
    "ax.plot(sizes, t_array, 'd-', label='Inserting as binary blob')\n",
    "ax.plot(sizes, t_array_add, 'd-', label='Inserting as binary blob: add_result only')\n",
    "ax.legend()\n",
    "ax.set_xlabel('Array length')\n",
    "ax.set_ylabel('Time (s)')\n",
    "fig.tight_layout()"
   ]
  },
  {
   "cell_type": "markdown",
   "execution_count": 7,
   "metadata": {},
   "source": [
    "As shown in the latter figure, the time to setup and and close the experiment is approximately 0.4 sec. In case of small array sizes, the difference between inserting values of data as arrays and inserting them row-by-row is relatively unimportant. At larger array sizes, i.e. above 10000 points, the cost of writing data as individual datapoints starts to become important.\n"
   ]
  },
  {
   "cell_type": "markdown",
   "execution_count": 7,
   "metadata": {},
   "source": [
    "### Case2: Long experiment time "
   ]
  },
  {
   "cell_type": "code",
   "execution_count": 7,
   "metadata": {
    "execution": {
     "iopub.execute_input": "2020-09-14T11:31:55.154731Z",
     "iopub.status.busy": "2020-09-14T11:31:55.153568Z",
     "iopub.status.idle": "2020-09-14T11:32:54.109577Z",
     "shell.execute_reply": "2020-09-14T11:32:54.110134Z"
    }
   },
   "outputs": [
    {
     "name": "stdout",
     "output_type": "stream",
     "text": [
      "Starting experimental run with id: 15. \n",
      "Starting experimental run with id: 16. \n",
      "Starting experimental run with id: 17. \n"
     ]
    },
    {
     "name": "stdout",
     "output_type": "stream",
     "text": [
      "Starting experimental run with id: 18. \n",
      "Starting experimental run with id: 19. \n"
     ]
    },
    {
     "name": "stdout",
     "output_type": "stream",
     "text": [
      "Starting experimental run with id: 20. \n"
     ]
    },
    {
     "name": "stdout",
     "output_type": "stream",
     "text": [
      "Starting experimental run with id: 21. \n"
     ]
    },
    {
     "name": "stdout",
     "output_type": "stream",
     "text": [
      "Starting experimental run with id: 22. \n"
     ]
    },
    {
     "name": "stdout",
     "output_type": "stream",
     "text": [
      "Starting experimental run with id: 23. \n"
     ]
    },
    {
     "name": "stdout",
     "output_type": "stream",
     "text": [
      "Starting experimental run with id: 24. \n"
     ]
    },
    {
     "name": "stdout",
     "output_type": "stream",
     "text": [
      "Starting experimental run with id: 25. \n"
     ]
    },
    {
     "name": "stdout",
     "output_type": "stream",
     "text": [
      "Starting experimental run with id: 26. \n"
     ]
    },
    {
     "name": "stdout",
     "output_type": "stream",
     "text": [
      "Starting experimental run with id: 27. \n"
     ]
    },
    {
     "name": "stdout",
     "output_type": "stream",
     "text": [
      "Starting experimental run with id: 28. \n"
     ]
    }
   ],
   "source": [
    "sizes = [1,500,1000,2000,3000,4000,5000]\n",
    "nreps = 100\n",
    "t_numeric = []\n",
    "t_numeric_add = []\n",
    "t_numeric_run_ids = []\n",
    "t_array = []\n",
    "t_array_add = []\n",
    "t_array_run_ids = []\n",
    "for size in sizes:\n",
    "    tn, tna, run_id_n =  insert_data('numeric', size, nreps=nreps)\n",
    "    t_numeric.append(tn)\n",
    "    t_numeric_add.append(tna)\n",
    "    t_numeric_run_ids.append(run_id_n)\n",
    "\n",
    "    ta, taa, run_id_a =  insert_data('array', size, nreps=nreps)\n",
    "    t_array.append(ta)\n",
    "    t_array_add.append(taa)\n",
    "    t_array_run_ids.append(run_id_a)"
   ]
  },
  {
   "cell_type": "code",
   "execution_count": 8,
   "metadata": {
    "execution": {
     "iopub.execute_input": "2020-09-14T11:32:54.127868Z",
     "iopub.status.busy": "2020-09-14T11:32:54.124768Z",
     "iopub.status.idle": "2020-09-14T11:32:54.350287Z",
     "shell.execute_reply": "2020-09-14T11:32:54.349821Z"
    },
    "scrolled": true
   },
   "outputs": [
    {
     "data": {
      "image/png": "[encoded data removed]",
      "text/plain": [
       "<Figure size 432x288 with 1 Axes>"
      ]
     },
     "metadata": {
      "needs_background": "light"
     },
     "output_type": "display_data"
    }
   ],
   "source": [
    "fig, ax = plt.subplots(1,1)\n",
    "ax.plot(sizes, t_numeric, 'o-', label='Inserting row-by-row')\n",
    "ax.plot(sizes, t_numeric_add, 'o-', label='Inserting row-by-row: add_result only')\n",
    "ax.plot(sizes, t_array, 'd-', label='Inserting as binary blob')\n",
    "ax.plot(sizes, t_array_add, 'd-', label='Inserting as binary blob: add_result only')\n",
    "ax.legend()\n",
    "ax.set_xlabel('Array length')\n",
    "ax.set_ylabel('Time (s)')\n",
    "fig.tight_layout()"
   ]
  },
  {
   "cell_type": "markdown",
   "execution_count": 9,
   "metadata": {},
   "source": [
    "However, as we increase the length of the experiment, as seen here by repeating the insertion 100 times, we see a big difference between inserting values of the data row-by-row and inserting it as a binary blob."
   ]
  },
  {
   "cell_type": "markdown",
   "execution_count": 9,
   "metadata": {},
   "source": [
    "## Loading the data "
   ]
  },
  {
   "cell_type": "code",
   "execution_count": 9,
   "metadata": {
    "execution": {
     "iopub.execute_input": "2020-09-14T11:32:54.355043Z",
     "iopub.status.busy": "2020-09-14T11:32:54.354371Z",
     "iopub.status.idle": "2020-09-14T11:32:54.357608Z",
     "shell.execute_reply": "2020-09-14T11:32:54.356973Z"
    }
   },
   "outputs": [],
   "source": [
    "from qcodes.dataset.data_set import load_by_id\n",
    "from qcodes.dataset.data_export import get_data_by_id"
   ]
  },
  {
   "cell_type": "markdown",
   "execution_count": 10,
   "metadata": {},
   "source": [
    "As usual you can load the data by using the ``load_by_id`` function but you will notice that the different storage methods\n",
    "are reflected in shape of the data as it is retrieved. "
   ]
  },
  {
   "cell_type": "code",
   "execution_count": 10,
   "metadata": {
    "execution": {
     "iopub.execute_input": "2020-09-14T11:32:54.361665Z",
     "iopub.status.busy": "2020-09-14T11:32:54.361170Z",
     "iopub.status.idle": "2020-09-14T11:32:54.364767Z",
     "shell.execute_reply": "2020-09-14T11:32:54.364276Z"
    }
   },
   "outputs": [],
   "source": [
    "run_id_n = t_numeric_run_ids[0]\n",
    "run_id_a = t_array_run_ids[0]"
   ]
  },
  {
   "cell_type": "code",
   "execution_count": 11,
   "metadata": {
    "execution": {
     "iopub.execute_input": "2020-09-14T11:32:54.369297Z",
     "iopub.status.busy": "2020-09-14T11:32:54.368762Z",
     "iopub.status.idle": "2020-09-14T11:32:54.377913Z",
     "shell.execute_reply": "2020-09-14T11:32:54.377434Z"
    },
    "scrolled": true
   },
   "outputs": [
    {
     "data": {
      "text/plain": [
       "{'x1': {'x1': array([5.81766090e-01, 5.81766090e-01, 1.49406165e-01, 1.49406165e-01,\n",
       "         3.20388244e-01, 3.20388244e-01, 2.09332018e-01, 2.09332018e-01,\n",
       "         1.59993218e-01, 1.59993218e-01, 7.96697748e-01, 7.96697748e-01,\n",
       "         5.93187512e-01, 5.93187512e-01, 8.48271812e-01, 8.48271812e-01,\n",
       "         3.74939718e-01, 3.74939718e-01, 5.82844965e-02, 5.82844965e-02,\n",
       "         8.22099604e-01, 8.22099604e-01, 5.09917297e-01, 5.09917297e-01,\n",
       "         1.24072698e-01, 1.24072698e-01, 7.65987973e-01, 7.65987973e-01,\n",
       "         5.67340309e-01, 5.67340309e-01, 4.59413268e-01, 4.59413268e-01,\n",
       "         1.04210661e-01, 1.04210661e-01, 6.82750657e-01, 6.82750657e-01,\n",
       "         6.25928486e-01, 6.25928486e-01, 2.62898787e-01, 2.62898787e-01,\n",
       "         4.62636623e-01, 4.62636623e-01, 5.58943522e-01, 5.58943522e-01,\n",
       "         3.71029684e-01, 3.71029684e-01, 6.58024097e-01, 6.58024097e-01,\n",
       "         6.98855485e-01, 6.98855485e-01, 4.14448249e-01, 4.14448249e-01,\n",
       "         8.47960758e-01, 8.47960758e-01, 1.59383369e-01, 1.59383369e-01,\n",
       "         3.39826731e-01, 3.39826731e-01, 6.69408017e-01, 6.69408017e-01,\n",
       "         8.82190361e-01, 8.82190361e-01, 7.03803474e-01, 7.03803474e-01,\n",
       "         5.00937807e-01, 5.00937807e-01, 1.01981813e-01, 1.01981813e-01,\n",
       "         2.37237488e-02, 2.37237488e-02, 6.53506071e-01, 6.53506071e-01,\n",
       "         5.03452617e-01, 5.03452617e-01, 2.30473852e-01, 2.30473852e-01,\n",
       "         6.39854044e-01, 6.39854044e-01, 5.80153420e-01, 5.80153420e-01,\n",
       "         3.87366288e-02, 3.87366288e-02, 8.24267378e-01, 8.24267378e-01,\n",
       "         8.84428145e-01, 8.84428145e-01, 2.74667716e-01, 2.74667716e-01,\n",
       "         3.89920577e-01, 3.89920577e-01, 4.10916126e-01, 4.10916126e-01,\n",
       "         7.52827099e-01, 7.52827099e-01, 6.44302513e-01, 6.44302513e-01,\n",
       "         4.06166769e-02, 4.06166769e-02, 3.03353337e-01, 3.03353337e-01,\n",
       "         4.38383158e-04, 4.38383158e-04, 4.38901845e-01, 4.38901845e-01,\n",
       "         8.01866780e-01, 8.01866780e-01, 5.35580480e-01, 5.35580480e-01,\n",
       "         6.36186069e-01, 6.36186069e-01, 3.30263279e-01, 3.30263279e-01,\n",
       "         8.18633083e-01, 8.18633083e-01, 8.99525500e-01, 8.99525500e-01,\n",
       "         2.90242712e-01, 2.90242712e-01, 2.34929149e-01, 2.34929149e-01,\n",
       "         4.04409045e-01, 4.04409045e-01, 5.01807011e-01, 5.01807011e-01,\n",
       "         8.43246248e-02, 8.43246248e-02, 3.71274923e-01, 3.71274923e-01,\n",
       "         8.26104542e-01, 8.26104542e-01, 7.75406618e-01, 7.75406618e-01,\n",
       "         5.62784365e-01, 5.62784365e-01, 5.22361871e-01, 5.22361871e-01,\n",
       "         9.19450889e-01, 9.19450889e-01, 8.27840252e-01, 8.27840252e-01,\n",
       "         3.12026462e-01, 3.12026462e-01, 4.13193053e-01, 4.13193053e-01,\n",
       "         5.59596590e-01, 5.59596590e-01, 9.99736617e-01, 9.99736617e-01,\n",
       "         1.48186778e-01, 1.48186778e-01, 4.64568285e-01, 4.64568285e-01,\n",
       "         9.79262612e-01, 9.79262612e-01, 5.31137724e-01, 5.31137724e-01,\n",
       "         1.59216112e-01, 1.59216112e-01, 8.94879319e-01, 8.94879319e-01,\n",
       "         4.82729622e-02, 4.82729622e-02, 2.04693981e-01, 2.04693981e-01,\n",
       "         4.58459345e-03, 4.58459345e-03, 7.24373651e-01, 7.24373651e-01,\n",
       "         3.40710334e-01, 3.40710334e-01, 7.85638825e-01, 7.85638825e-01,\n",
       "         3.70037280e-01, 3.70037280e-01, 1.50631486e-01, 1.50631486e-01,\n",
       "         7.02930164e-01, 7.02930164e-01, 5.19385633e-01, 5.19385633e-01,\n",
       "         5.09156033e-01, 5.09156033e-01, 4.50403205e-01, 4.50403205e-01,\n",
       "         9.91052866e-01, 9.91052866e-01, 5.73545590e-01, 5.73545590e-01,\n",
       "         3.28721647e-01, 3.28721647e-01, 7.92302451e-01, 7.92302451e-01,\n",
       "         9.25946296e-02, 9.25946296e-02, 6.58490024e-01, 6.58490024e-01,\n",
       "         3.78939434e-02, 3.78939434e-02, 2.77327272e-01, 2.77327272e-01])}}"
      ]
     },
     "execution_count": 1,
     "metadata": {},
     "output_type": "execute_result"
    }
   ],
   "source": [
    "ds = load_by_id(run_id_n)\n",
    "ds.get_parameter_data('x1')"
   ]
  },
  {
   "cell_type": "markdown",
   "execution_count": 12,
   "metadata": {},
   "source": [
    "And a dataset stored as binary arrays"
   ]
  },
  {
   "cell_type": "code",
   "execution_count": 12,
   "metadata": {
    "execution": {
     "iopub.execute_input": "2020-09-14T11:32:54.381293Z",
     "iopub.status.busy": "2020-09-14T11:32:54.380648Z",
     "iopub.status.idle": "2020-09-14T11:32:54.446681Z",
     "shell.execute_reply": "2020-09-14T11:32:54.445932Z"
    },
    "scrolled": true
   },
   "outputs": [
    {
     "data": {
      "text/plain": [
       "{'x1': {'x1': array([[0.13946009],\n",
       "         [0.13946009],\n",
       "         [0.5637213 ],\n",
       "         [0.5637213 ],\n",
       "         [0.37529449],\n",
       "         [0.37529449],\n",
       "         [0.10235746],\n",
       "         [0.10235746],\n",
       "         [0.37888168],\n",
       "         [0.37888168],\n",
       "         [0.44967706],\n",
       "         [0.44967706],\n",
       "         [0.10373932],\n",
       "         [0.10373932],\n",
       "         [0.2593357 ],\n",
       "         [0.2593357 ],\n",
       "         [0.38177504],\n",
       "         [0.38177504],\n",
       "         [0.76396618],\n",
       "         [0.76396618],\n",
       "         [0.74704419],\n",
       "         [0.74704419],\n",
       "         [0.69932323],\n",
       "         [0.69932323],\n",
       "         [0.62211719],\n",
       "         [0.62211719],\n",
       "         [0.24475525],\n",
       "         [0.24475525],\n",
       "         [0.33390456],\n",
       "         [0.33390456],\n",
       "         [0.43662502],\n",
       "         [0.43662502],\n",
       "         [0.41344603],\n",
       "         [0.41344603],\n",
       "         [0.81954997],\n",
       "         [0.81954997],\n",
       "         [0.16848863],\n",
       "         [0.16848863],\n",
       "         [0.18044234],\n",
       "         [0.18044234],\n",
       "         [0.52001683],\n",
       "         [0.52001683],\n",
       "         [0.44898552],\n",
       "         [0.44898552],\n",
       "         [0.34568002],\n",
       "         [0.34568002],\n",
       "         [0.29733534],\n",
       "         [0.29733534],\n",
       "         [0.17544015],\n",
       "         [0.17544015],\n",
       "         [0.80827386],\n",
       "         [0.80827386],\n",
       "         [0.93358682],\n",
       "         [0.93358682],\n",
       "         [0.86130354],\n",
       "         [0.86130354],\n",
       "         [0.54472769],\n",
       "         [0.54472769],\n",
       "         [0.16527347],\n",
       "         [0.16527347],\n",
       "         [0.66464102],\n",
       "         [0.66464102],\n",
       "         [0.4665243 ],\n",
       "         [0.4665243 ],\n",
       "         [0.76473844],\n",
       "         [0.76473844],\n",
       "         [0.91202258],\n",
       "         [0.91202258],\n",
       "         [0.90317351],\n",
       "         [0.90317351],\n",
       "         [0.36953685],\n",
       "         [0.36953685],\n",
       "         [0.73093331],\n",
       "         [0.73093331],\n",
       "         [0.2850359 ],\n",
       "         [0.2850359 ],\n",
       "         [0.28400406],\n",
       "         [0.28400406],\n",
       "         [0.09573625],\n",
       "         [0.09573625],\n",
       "         [0.70328537],\n",
       "         [0.70328537],\n",
       "         [0.15566347],\n",
       "         [0.15566347],\n",
       "         [0.76341233],\n",
       "         [0.76341233],\n",
       "         [0.00646039],\n",
       "         [0.00646039],\n",
       "         [0.34638194],\n",
       "         [0.34638194],\n",
       "         [0.48703075],\n",
       "         [0.48703075],\n",
       "         [0.2381886 ],\n",
       "         [0.2381886 ],\n",
       "         [0.60244876],\n",
       "         [0.60244876],\n",
       "         [0.33412228],\n",
       "         [0.33412228],\n",
       "         [0.88197202],\n",
       "         [0.88197202],\n",
       "         [0.0255035 ],\n",
       "         [0.0255035 ],\n",
       "         [0.32252264],\n",
       "         [0.32252264],\n",
       "         [0.24730892],\n",
       "         [0.24730892],\n",
       "         [0.74206967],\n",
       "         [0.74206967],\n",
       "         [0.24046007],\n",
       "         [0.24046007],\n",
       "         [0.83123901],\n",
       "         [0.83123901],\n",
       "         [0.58563096],\n",
       "         [0.58563096],\n",
       "         [0.07150777],\n",
       "         [0.07150777],\n",
       "         [0.48322735],\n",
       "         [0.48322735],\n",
       "         [0.74304291],\n",
       "         [0.74304291],\n",
       "         [0.61090027],\n",
       "         [0.61090027],\n",
       "         [0.46427543],\n",
       "         [0.46427543],\n",
       "         [0.30507907],\n",
       "         [0.30507907],\n",
       "         [0.1605718 ],\n",
       "         [0.1605718 ],\n",
       "         [0.43110023],\n",
       "         [0.43110023],\n",
       "         [0.89359039],\n",
       "         [0.89359039],\n",
       "         [0.42911242],\n",
       "         [0.42911242],\n",
       "         [0.05683223],\n",
       "         [0.05683223],\n",
       "         [0.32597487],\n",
       "         [0.32597487],\n",
       "         [0.84789831],\n",
       "         [0.84789831],\n",
       "         [0.41596243],\n",
       "         [0.41596243],\n",
       "         [0.87929372],\n",
       "         [0.87929372],\n",
       "         [0.55178349],\n",
       "         [0.55178349],\n",
       "         [0.33522915],\n",
       "         [0.33522915],\n",
       "         [0.73255994],\n",
       "         [0.73255994],\n",
       "         [0.51216856],\n",
       "         [0.51216856],\n",
       "         [0.40224267],\n",
       "         [0.40224267],\n",
       "         [0.98700036],\n",
       "         [0.98700036],\n",
       "         [0.34742106],\n",
       "         [0.34742106],\n",
       "         [0.14668202],\n",
       "         [0.14668202],\n",
       "         [0.6497654 ],\n",
       "         [0.6497654 ],\n",
       "         [0.98476537],\n",
       "         [0.98476537],\n",
       "         [0.54252047],\n",
       "         [0.54252047],\n",
       "         [0.40281914],\n",
       "         [0.40281914],\n",
       "         [0.20878957],\n",
       "         [0.20878957],\n",
       "         [0.37535669],\n",
       "         [0.37535669],\n",
       "         [0.34266008],\n",
       "         [0.34266008],\n",
       "         [0.03464866],\n",
       "         [0.03464866],\n",
       "         [0.26455275],\n",
       "         [0.26455275],\n",
       "         [0.69822172],\n",
       "         [0.69822172],\n",
       "         [0.79435092],\n",
       "         [0.79435092],\n",
       "         [0.97099781],\n",
       "         [0.97099781],\n",
       "         [0.04956328],\n",
       "         [0.04956328],\n",
       "         [0.99093908],\n",
       "         [0.99093908],\n",
       "         [0.09016018],\n",
       "         [0.09016018],\n",
       "         [0.38487895],\n",
       "         [0.38487895],\n",
       "         [0.44296614],\n",
       "         [0.44296614],\n",
       "         [0.45019245],\n",
       "         [0.45019245],\n",
       "         [0.55400425],\n",
       "         [0.55400425],\n",
       "         [0.65391058],\n",
       "         [0.65391058]])}}"
      ]
     },
     "execution_count": 1,
     "metadata": {},
     "output_type": "execute_result"
    }
   ],
   "source": [
    "ds = load_by_id(run_id_a)\n",
    "ds.get_parameter_data('x1')"
   ]
  },
  {
   "cell_type": "code",
   "execution_count": 13,
   "metadata": {},
   "outputs": [],
   "source": []
  }
 ],
 "metadata": {
  "kernelspec": {
   "display_name": "Python 3",
   "language": "python",
   "name": "python3"
  },
  "language_info": {
   "codemirror_mode": {
    "name": "ipython",
    "version": 3
   },
   "file_extension": ".py",
   "mimetype": "text/x-python",
   "name": "python",
   "nbconvert_exporter": "python",
   "pygments_lexer": "ipython3",
   "version": "3.7.7"
  },
  "nbsphinx": {
   "timeout": 600
  },
  "toc": {
   "base_numbering": 1,
   "nav_menu": {},
   "number_sections": true,
   "sideBar": true,
   "skip_h1_title": false,
   "title_cell": "Table of Contents",
   "title_sidebar": "Contents",
   "toc_cell": false,
   "toc_position": {},
   "toc_section_display": true,
   "toc_window_display": false
  },
  "varInspector": {
   "cols": {
    "lenName": 16,
    "lenType": 16,
    "lenVar": 40
   },
   "kernels_config": {
    "python": {
     "delete_cmd_postfix": "",
     "delete_cmd_prefix": "del ",
     "library": "var_list.py",
     "varRefreshCmd": "print(var_dic_list())"
    },
    "r": {
     "delete_cmd_postfix": ") ",
     "delete_cmd_prefix": "rm(",
     "library": "var_list.r",
     "varRefreshCmd": "cat(var_dic_list()) "
    }
   },
   "types_to_exclude": [
    "module",
    "function",
    "builtin_function_or_method",
    "instance",
    "_Feature"
   ],
   "window_display": false
  }
 },
 "nbformat": 4,
 "nbformat_minor": 2
}
