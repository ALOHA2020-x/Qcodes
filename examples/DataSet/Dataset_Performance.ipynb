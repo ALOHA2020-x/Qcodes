{
 "cells": [
  {
   "cell_type": "markdown",
   "metadata": {},
   "source": [
    "# DataSet Performance\n",
    "\n",
    "This notebook shows the trade-off between inserting data into a database row-by-row and as binary blobs. Inserting the data row-by-row means that we have direct access to all the data and may perform queries directly on the values of the data. On the other hand, as we shall see, this is much slower than inserting the data directly as binary blobs."
   ]
  },
  {
   "cell_type": "markdown",
   "metadata": {},
   "source": [
    "First, we choose a new location for the database to ensure that we don't add a bunch of benchmarking data to the default one."
   ]
  },
  {
   "cell_type": "code",
   "execution_count": 1,
   "metadata": {},
   "outputs": [
    {
     "name": "stdout",
     "output_type": "stream",
     "text": [
      "Logging hadn't been started.\n",
      "Activating auto-logging. Current session state plus future input saved.\n",
      "Filename       : /home/vsts/.qcodes/logs/command_history.log\n",
      "Mode           : append\n",
      "Output logging : True\n",
      "Raw input log  : False\n",
      "Timestamping   : True\n",
      "State          : active\n"
     ]
    },
    {
     "name": "stdout",
     "output_type": "stream",
     "text": [
      "Qcodes Logfile : /home/vsts/.qcodes/logs/200704-20944-qcodes.log\n"
     ]
    }
   ],
   "source": [
    "import os\n",
    "cwd = os.getcwd()\n",
    "import qcodes as qc\n",
    "qc.config[\"core\"][\"db_location\"] = os.path.join(cwd, 'testing.db')\n"
   ]
  },
  {
   "cell_type": "code",
   "execution_count": 2,
   "metadata": {},
   "outputs": [],
   "source": [
    "%matplotlib inline\n",
    "import time\n",
    "import matplotlib.pyplot as plt\n",
    "import numpy as np\n",
    "\n",
    "import qcodes as qc\n",
    "from qcodes.instrument.parameter import ManualParameter\n",
    "from qcodes.dataset.experiment_container import (Experiment,\n",
    "                                                 load_last_experiment,\n",
    "                                                 new_experiment)\n",
    "from qcodes.dataset.sqlite.database import initialise_database\n",
    "from qcodes import load_or_create_experiment\n",
    "from qcodes.dataset.measurements import Measurement"
   ]
  },
  {
   "cell_type": "code",
   "execution_count": 3,
   "metadata": {},
   "outputs": [
    {
     "name": "stdout",
     "output_type": "stream",
     "text": [
      "\r",
      "0it [00:00, ?it/s]"
     ]
    },
    {
     "name": "stdout",
     "output_type": "stream",
     "text": [
      "\r",
      "Upgrading database; v0 -> v1: : 0it [00:00, ?it/s]"
     ]
    },
    {
     "name": "stdout",
     "output_type": "stream",
     "text": [
      "\r",
      "Upgrading database; v0 -> v1: : 0it [00:00, ?it/s]"
     ]
    },
    {
     "name": "stdout",
     "output_type": "stream",
     "text": [
      "\n",
      "\r",
      "  0%|          | 0/1 [00:00<?, ?it/s]"
     ]
    },
    {
     "name": "stdout",
     "output_type": "stream",
     "text": [
      "\r",
      "Upgrading database; v1 -> v2:   0%|          | 0/1 [00:00<?, ?it/s]"
     ]
    },
    {
     "name": "stdout",
     "output_type": "stream",
     "text": [
      "\r",
      "Upgrading database; v1 -> v2: 100%|██████████| 1/1 [00:00<00:00, 1089.43it/s]"
     ]
    },
    {
     "name": "stdout",
     "output_type": "stream",
     "text": [
      "\n",
      "\r",
      "0it [00:00, ?it/s]"
     ]
    },
    {
     "name": "stdout",
     "output_type": "stream",
     "text": [
      "\r",
      "Upgrading database; v2 -> v3: : 0it [00:00, ?it/s]"
     ]
    },
    {
     "name": "stdout",
     "output_type": "stream",
     "text": [
      "\r",
      "Upgrading database; v2 -> v3: : 0it [00:00, ?it/s]"
     ]
    },
    {
     "name": "stdout",
     "output_type": "stream",
     "text": [
      "\n",
      "\r",
      "0it [00:00, ?it/s]"
     ]
    },
    {
     "name": "stdout",
     "output_type": "stream",
     "text": [
      "\r",
      "Upgrading database; v3 -> v4: : 0it [00:00, ?it/s]"
     ]
    },
    {
     "name": "stdout",
     "output_type": "stream",
     "text": [
      "\r",
      "Upgrading database; v3 -> v4: : 0it [00:00, ?it/s]"
     ]
    },
    {
     "name": "stdout",
     "output_type": "stream",
     "text": [
      "\n",
      "\r",
      "  0%|          | 0/1 [00:00<?, ?it/s]"
     ]
    },
    {
     "name": "stdout",
     "output_type": "stream",
     "text": [
      "\r",
      "Upgrading database; v4 -> v5:   0%|          | 0/1 [00:00<?, ?it/s]"
     ]
    },
    {
     "name": "stdout",
     "output_type": "stream",
     "text": [
      "\r",
      "Upgrading database; v4 -> v5: 100%|██████████| 1/1 [00:00<00:00, 968.21it/s]"
     ]
    },
    {
     "name": "stdout",
     "output_type": "stream",
     "text": [
      "\n",
      "\r",
      "0it [00:00, ?it/s]"
     ]
    },
    {
     "name": "stdout",
     "output_type": "stream",
     "text": [
      "\r",
      "Upgrading database; v5 -> v6: : 0it [00:00, ?it/s]"
     ]
    },
    {
     "name": "stdout",
     "output_type": "stream",
     "text": [
      "\r",
      "Upgrading database; v5 -> v6: : 0it [00:00, ?it/s]"
     ]
    },
    {
     "name": "stdout",
     "output_type": "stream",
     "text": [
      "\n",
      "\r",
      "  0%|          | 0/1 [00:00<?, ?it/s]"
     ]
    },
    {
     "name": "stdout",
     "output_type": "stream",
     "text": [
      "\r",
      "Upgrading database; v6 -> v7:   0%|          | 0/1 [00:00<?, ?it/s]"
     ]
    },
    {
     "name": "stdout",
     "output_type": "stream",
     "text": [
      "\r",
      "Upgrading database; v6 -> v7: 100%|██████████| 1/1 [00:00<00:00, 343.43it/s]"
     ]
    },
    {
     "name": "stdout",
     "output_type": "stream",
     "text": [
      "\n",
      "\r",
      "  0%|          | 0/1 [00:00<?, ?it/s]"
     ]
    },
    {
     "name": "stdout",
     "output_type": "stream",
     "text": [
      "\r",
      "Upgrading database; v7 -> v8:   0%|          | 0/1 [00:00<?, ?it/s]"
     ]
    },
    {
     "name": "stdout",
     "output_type": "stream",
     "text": [
      "\r",
      "Upgrading database; v7 -> v8: 100%|██████████| 1/1 [00:00<00:00, 926.30it/s]"
     ]
    },
    {
     "name": "stdout",
     "output_type": "stream",
     "text": [
      "\n",
      "\r",
      "  0%|          | 0/1 [00:00<?, ?it/s]"
     ]
    },
    {
     "name": "stdout",
     "output_type": "stream",
     "text": [
      "\r",
      "Upgrading database; v8 -> v9:   0%|          | 0/1 [00:00<?, ?it/s]"
     ]
    },
    {
     "name": "stdout",
     "output_type": "stream",
     "text": [
      "\r",
      "Upgrading database; v8 -> v9: 100%|██████████| 1/1 [00:00<00:00, 1177.18it/s]"
     ]
    },
    {
     "name": "stdout",
     "output_type": "stream",
     "text": [
      "\n"
     ]
    }
   ],
   "source": [
    "initialise_database()\n",
    "exp = load_or_create_experiment(experiment_name='tutorial_exp', sample_name=\"no sample\")"
   ]
  },
  {
   "cell_type": "markdown",
   "metadata": {},
   "source": [
    "Here, we define a simple function to benchmark the time it takes to insert n points with either numeric or array data type.\n",
    "We will compare both the time used to call ``add_result`` and the time used for the full measurement."
   ]
  },
  {
   "cell_type": "code",
   "execution_count": 4,
   "metadata": {},
   "outputs": [],
   "source": [
    "def insert_data(paramtype, npoints, nreps=1):\n",
    "\n",
    "    meas = Measurement(exp=exp)\n",
    "\n",
    "    x1 = ManualParameter('x1')\n",
    "    x2 = ManualParameter('x2')\n",
    "    x3 = ManualParameter('x3')\n",
    "    y1 = ManualParameter('y1')\n",
    "    y2 = ManualParameter('y2')\n",
    "\n",
    "    meas.register_parameter(x1, paramtype=paramtype)\n",
    "    meas.register_parameter(x2, paramtype=paramtype)\n",
    "    meas.register_parameter(x3, paramtype=paramtype)\n",
    "    meas.register_parameter(y1, setpoints=[x1, x2, x3],\n",
    "                            paramtype=paramtype)\n",
    "    meas.register_parameter(y2, setpoints=[x1, x2, x3],\n",
    "                            paramtype=paramtype)\n",
    "    start = time.perf_counter()\n",
    "    with meas.run() as datasaver:\n",
    "        start_adding = time.perf_counter()\n",
    "        for i in range(nreps):\n",
    "            datasaver.add_result((x1, np.random.rand(npoints)),\n",
    "                                 (x2, np.random.rand(npoints)),\n",
    "                                 (x3, np.random.rand(npoints)),\n",
    "                                 (y1, np.random.rand(npoints)),\n",
    "                                 (y2, np.random.rand(npoints)))\n",
    "        stop_adding = time.perf_counter()\n",
    "        run_id = datasaver.run_id\n",
    "    stop = time.perf_counter()\n",
    "    tot_time = stop - start\n",
    "    add_time = stop_adding - start_adding\n",
    "    return tot_time, add_time, run_id"
   ]
  },
  {
   "cell_type": "markdown",
   "metadata": {},
   "source": [
    "## Comparison between numeric/array data and binary blob"
   ]
  },
  {
   "cell_type": "markdown",
   "metadata": {},
   "source": [
    "### Case1: Short experiment time"
   ]
  },
  {
   "cell_type": "code",
   "execution_count": 5,
   "metadata": {},
   "outputs": [
    {
     "name": "stdout",
     "output_type": "stream",
     "text": [
      "Starting experimental run with id: 1. \n",
      "Starting experimental run with id: 2. \n",
      "Starting experimental run with id: 3. \n"
     ]
    },
    {
     "name": "stdout",
     "output_type": "stream",
     "text": [
      "Starting experimental run with id: 4. \n"
     ]
    },
    {
     "name": "stdout",
     "output_type": "stream",
     "text": [
      "Starting experimental run with id: 5. \n"
     ]
    },
    {
     "name": "stdout",
     "output_type": "stream",
     "text": [
      "Starting experimental run with id: 6. \n"
     ]
    },
    {
     "name": "stdout",
     "output_type": "stream",
     "text": [
      "Starting experimental run with id: 7. \n",
      "Starting experimental run with id: 8. \n",
      "Starting experimental run with id: 9. \n"
     ]
    },
    {
     "name": "stdout",
     "output_type": "stream",
     "text": [
      "Starting experimental run with id: 10. \n",
      "Starting experimental run with id: 11. \n",
      "Starting experimental run with id: 12. \n",
      "Starting experimental run with id: 13. \n"
     ]
    },
    {
     "name": "stdout",
     "output_type": "stream",
     "text": [
      "Starting experimental run with id: 14. \n"
     ]
    }
   ],
   "source": [
    "sizes = [1,500,1000,2000,3000,4000,5000]\n",
    "t_numeric = []\n",
    "t_numeric_add = []\n",
    "t_array = []\n",
    "t_array_add = []\n",
    "for size in sizes:\n",
    "    tn, tna, run_id_n =  insert_data('numeric', size)\n",
    "    t_numeric.append(tn)\n",
    "    t_numeric_add.append(tna)\n",
    "\n",
    "    ta, taa, run_id_a =  insert_data('array', size)\n",
    "    t_array.append(ta)\n",
    "    t_array_add.append(taa)"
   ]
  },
  {
   "cell_type": "code",
   "execution_count": 6,
   "metadata": {},
   "outputs": [
    {
     "data": {
      "image/png": "[encoded data removed]",
      "text/plain": [
       "<Figure size 432x288 with 1 Axes>"
      ]
     },
     "metadata": {
      "needs_background": "light"
     },
     "output_type": "display_data"
    }
   ],
   "source": [
    "fig, ax = plt.subplots(1,1)\n",
    "ax.plot(sizes, t_numeric, 'o-', label='Inserting row-by-row')\n",
    "ax.plot(sizes, t_numeric_add, 'o-', label='Inserting row-by-row: add_result only')\n",
    "ax.plot(sizes, t_array, 'd-', label='Inserting as binary blob')\n",
    "ax.plot(sizes, t_array_add, 'd-', label='Inserting as binary blob: add_result only')\n",
    "ax.legend()\n",
    "ax.set_xlabel('Array length')\n",
    "ax.set_ylabel('Time (s)')\n",
    "fig.tight_layout()"
   ]
  },
  {
   "cell_type": "markdown",
   "metadata": {},
   "source": [
    "As shown in the latter figure, the time to setup and and close the experiment is approximately 0.4 sec. In case of small array sizes, the difference between inserting values of data as arrays and inserting them row-by-row is relatively unimportant. At larger array sizes, i.e. above 10000 points, the cost of writing data as individual datapoints starts to become important.\n"
   ]
  },
  {
   "cell_type": "markdown",
   "metadata": {},
   "source": [
    "### Case2: Long experiment time "
   ]
  },
  {
   "cell_type": "code",
   "execution_count": 7,
   "metadata": {},
   "outputs": [
    {
     "name": "stdout",
     "output_type": "stream",
     "text": [
      "Starting experimental run with id: 15. \n",
      "Starting experimental run with id: 16. \n",
      "Starting experimental run with id: 17. \n"
     ]
    },
    {
     "name": "stdout",
     "output_type": "stream",
     "text": [
      "Starting experimental run with id: 18. \n",
      "Starting experimental run with id: 19. \n"
     ]
    },
    {
     "name": "stdout",
     "output_type": "stream",
     "text": [
      "Starting experimental run with id: 20. \n"
     ]
    },
    {
     "name": "stdout",
     "output_type": "stream",
     "text": [
      "Starting experimental run with id: 21. \n"
     ]
    },
    {
     "name": "stdout",
     "output_type": "stream",
     "text": [
      "Starting experimental run with id: 22. \n"
     ]
    },
    {
     "name": "stdout",
     "output_type": "stream",
     "text": [
      "Starting experimental run with id: 23. \n"
     ]
    },
    {
     "name": "stdout",
     "output_type": "stream",
     "text": [
      "Starting experimental run with id: 24. \n"
     ]
    },
    {
     "name": "stdout",
     "output_type": "stream",
     "text": [
      "Starting experimental run with id: 25. \n"
     ]
    },
    {
     "name": "stdout",
     "output_type": "stream",
     "text": [
      "Starting experimental run with id: 26. \n"
     ]
    },
    {
     "name": "stdout",
     "output_type": "stream",
     "text": [
      "Starting experimental run with id: 27. \n"
     ]
    },
    {
     "name": "stdout",
     "output_type": "stream",
     "text": [
      "Starting experimental run with id: 28. \n"
     ]
    }
   ],
   "source": [
    "sizes = [1,500,1000,2000,3000,4000,5000]\n",
    "nreps = 100\n",
    "t_numeric = []\n",
    "t_numeric_add = []\n",
    "t_numeric_run_ids = []\n",
    "t_array = []\n",
    "t_array_add = []\n",
    "t_array_run_ids = []\n",
    "for size in sizes:\n",
    "    tn, tna, run_id_n =  insert_data('numeric', size, nreps=nreps)\n",
    "    t_numeric.append(tn)\n",
    "    t_numeric_add.append(tna)\n",
    "    t_numeric_run_ids.append(run_id_n)\n",
    "\n",
    "    ta, taa, run_id_a =  insert_data('array', size, nreps=nreps)\n",
    "    t_array.append(ta)\n",
    "    t_array_add.append(taa)\n",
    "    t_array_run_ids.append(run_id_a)"
   ]
  },
  {
   "cell_type": "code",
   "execution_count": 8,
   "metadata": {
    "scrolled": true
   },
   "outputs": [
    {
     "data": {
      "image/png": "[encoded data removed]",
      "text/plain": [
       "<Figure size 432x288 with 1 Axes>"
      ]
     },
     "metadata": {
      "needs_background": "light"
     },
     "output_type": "display_data"
    }
   ],
   "source": [
    "fig, ax = plt.subplots(1,1)\n",
    "ax.plot(sizes, t_numeric, 'o-', label='Inserting row-by-row')\n",
    "ax.plot(sizes, t_numeric_add, 'o-', label='Inserting row-by-row: add_result only')\n",
    "ax.plot(sizes, t_array, 'd-', label='Inserting as binary blob')\n",
    "ax.plot(sizes, t_array_add, 'd-', label='Inserting as binary blob: add_result only')\n",
    "ax.legend()\n",
    "ax.set_xlabel('Array length')\n",
    "ax.set_ylabel('Time (s)')\n",
    "fig.tight_layout()"
   ]
  },
  {
   "cell_type": "markdown",
   "metadata": {},
   "source": [
    "However, as we increase the length of the experiment, as seen here by repeating the insertion 100 times, we see a big difference between inserting values of the data row-by-row and inserting it as a binary blob."
   ]
  },
  {
   "cell_type": "markdown",
   "metadata": {},
   "source": [
    "## Loading the data "
   ]
  },
  {
   "cell_type": "code",
   "execution_count": 9,
   "metadata": {},
   "outputs": [],
   "source": [
    "from qcodes.dataset.data_set import load_by_id\n",
    "from qcodes.dataset.data_export import get_data_by_id"
   ]
  },
  {
   "cell_type": "markdown",
   "metadata": {},
   "source": [
    "As usual you can load the data by using the ``load_by_id`` function but you will notice that the different storage methods\n",
    "are reflected in shape of the data as it is retrieved. "
   ]
  },
  {
   "cell_type": "code",
   "execution_count": 10,
   "metadata": {},
   "outputs": [],
   "source": [
    "run_id_n = t_numeric_run_ids[0]\n",
    "run_id_a = t_array_run_ids[0]"
   ]
  },
  {
   "cell_type": "code",
   "execution_count": 11,
   "metadata": {
    "scrolled": true
   },
   "outputs": [
    {
     "data": {
      "text/plain": [
       "{'x1': {'x1': array([0.56391024, 0.56391024, 0.56950442, 0.56950442, 0.9792827 ,\n",
       "         0.9792827 , 0.07038282, 0.07038282, 0.86364542, 0.86364542,\n",
       "         0.08952688, 0.08952688, 0.71677319, 0.71677319, 0.30877203,\n",
       "         0.30877203, 0.95478193, 0.95478193, 0.1880239 , 0.1880239 ,\n",
       "         0.90069504, 0.90069504, 0.76946429, 0.76946429, 0.75320968,\n",
       "         0.75320968, 0.24054373, 0.24054373, 0.30033082, 0.30033082,\n",
       "         0.7968539 , 0.7968539 , 0.53320743, 0.53320743, 0.25511156,\n",
       "         0.25511156, 0.09404562, 0.09404562, 0.13966019, 0.13966019,\n",
       "         0.9170676 , 0.9170676 , 0.59578769, 0.59578769, 0.63434109,\n",
       "         0.63434109, 0.28367443, 0.28367443, 0.69793608, 0.69793608,\n",
       "         0.11223916, 0.11223916, 0.6951057 , 0.6951057 , 0.29901287,\n",
       "         0.29901287, 0.20554507, 0.20554507, 0.19604935, 0.19604935,\n",
       "         0.23384185, 0.23384185, 0.03295778, 0.03295778, 0.0095849 ,\n",
       "         0.0095849 , 0.37907689, 0.37907689, 0.62398995, 0.62398995,\n",
       "         0.22256542, 0.22256542, 0.49224016, 0.49224016, 0.81113007,\n",
       "         0.81113007, 0.34490297, 0.34490297, 0.87857653, 0.87857653,\n",
       "         0.84791487, 0.84791487, 0.48086034, 0.48086034, 0.37482294,\n",
       "         0.37482294, 0.34151652, 0.34151652, 0.75661403, 0.75661403,\n",
       "         0.99295657, 0.99295657, 0.12471152, 0.12471152, 0.53240347,\n",
       "         0.53240347, 0.43683338, 0.43683338, 0.70314581, 0.70314581,\n",
       "         0.08297118, 0.08297118, 0.86530359, 0.86530359, 0.14077083,\n",
       "         0.14077083, 0.42377893, 0.42377893, 0.15900538, 0.15900538,\n",
       "         0.55406374, 0.55406374, 0.20493778, 0.20493778, 0.9808663 ,\n",
       "         0.9808663 , 0.93952642, 0.93952642, 0.86749047, 0.86749047,\n",
       "         0.03095856, 0.03095856, 0.29207847, 0.29207847, 0.98622275,\n",
       "         0.98622275, 0.300668  , 0.300668  , 0.64565209, 0.64565209,\n",
       "         0.78727745, 0.78727745, 0.1828673 , 0.1828673 , 0.34749857,\n",
       "         0.34749857, 0.80557533, 0.80557533, 0.81717681, 0.81717681,\n",
       "         0.97758404, 0.97758404, 0.47747454, 0.47747454, 0.98553583,\n",
       "         0.98553583, 0.54083404, 0.54083404, 0.73178985, 0.73178985,\n",
       "         0.49045791, 0.49045791, 0.18154527, 0.18154527, 0.50343397,\n",
       "         0.50343397, 0.19522548, 0.19522548, 0.41909877, 0.41909877,\n",
       "         0.73334546, 0.73334546, 0.89589197, 0.89589197, 0.0199733 ,\n",
       "         0.0199733 , 0.10154729, 0.10154729, 0.08702557, 0.08702557,\n",
       "         0.10164427, 0.10164427, 0.28029447, 0.28029447, 0.2939884 ,\n",
       "         0.2939884 , 0.03540083, 0.03540083, 0.88891224, 0.88891224,\n",
       "         0.62670817, 0.62670817, 0.52976162, 0.52976162, 0.48390709,\n",
       "         0.48390709, 0.3750803 , 0.3750803 , 0.23216924, 0.23216924,\n",
       "         0.1041673 , 0.1041673 , 0.77043561, 0.77043561, 0.06741488,\n",
       "         0.06741488, 0.57578518, 0.57578518, 0.73103523, 0.73103523])}}"
      ]
     },
     "execution_count": 11,
     "metadata": {},
     "output_type": "execute_result"
    }
   ],
   "source": [
    "ds = load_by_id(run_id_n)\n",
    "ds.get_parameter_data('x1')"
   ]
  },
  {
   "cell_type": "markdown",
   "metadata": {},
   "source": [
    "And a dataset stored as binary arrays"
   ]
  },
  {
   "cell_type": "code",
   "execution_count": 12,
   "metadata": {
    "scrolled": true
   },
   "outputs": [
    {
     "data": {
      "text/plain": [
       "{'x1': {'x1': array([[6.87312191e-01],\n",
       "         [6.87312191e-01],\n",
       "         [7.93380220e-01],\n",
       "         [7.93380220e-01],\n",
       "         [5.00397921e-01],\n",
       "         [5.00397921e-01],\n",
       "         [3.47404688e-01],\n",
       "         [3.47404688e-01],\n",
       "         [4.85730294e-01],\n",
       "         [4.85730294e-01],\n",
       "         [1.24562502e-01],\n",
       "         [1.24562502e-01],\n",
       "         [2.39655572e-01],\n",
       "         [2.39655572e-01],\n",
       "         [9.95339880e-01],\n",
       "         [9.95339880e-01],\n",
       "         [3.15720734e-01],\n",
       "         [3.15720734e-01],\n",
       "         [4.23668408e-01],\n",
       "         [4.23668408e-01],\n",
       "         [7.88486163e-01],\n",
       "         [7.88486163e-01],\n",
       "         [8.50683366e-02],\n",
       "         [8.50683366e-02],\n",
       "         [8.47894565e-02],\n",
       "         [8.47894565e-02],\n",
       "         [7.36479555e-01],\n",
       "         [7.36479555e-01],\n",
       "         [6.64828695e-01],\n",
       "         [6.64828695e-01],\n",
       "         [7.53534842e-01],\n",
       "         [7.53534842e-01],\n",
       "         [6.46177845e-01],\n",
       "         [6.46177845e-01],\n",
       "         [5.72239985e-01],\n",
       "         [5.72239985e-01],\n",
       "         [4.32232402e-01],\n",
       "         [4.32232402e-01],\n",
       "         [6.73462203e-02],\n",
       "         [6.73462203e-02],\n",
       "         [6.18682747e-01],\n",
       "         [6.18682747e-01],\n",
       "         [8.74080029e-02],\n",
       "         [8.74080029e-02],\n",
       "         [3.60814095e-01],\n",
       "         [3.60814095e-01],\n",
       "         [9.72006530e-01],\n",
       "         [9.72006530e-01],\n",
       "         [4.86171341e-01],\n",
       "         [4.86171341e-01],\n",
       "         [6.77801222e-01],\n",
       "         [6.77801222e-01],\n",
       "         [4.84883545e-01],\n",
       "         [4.84883545e-01],\n",
       "         [6.41623655e-02],\n",
       "         [6.41623655e-02],\n",
       "         [4.10054338e-01],\n",
       "         [4.10054338e-01],\n",
       "         [2.44650941e-01],\n",
       "         [2.44650941e-01],\n",
       "         [1.52585314e-02],\n",
       "         [1.52585314e-02],\n",
       "         [4.48503350e-01],\n",
       "         [4.48503350e-01],\n",
       "         [4.74440288e-01],\n",
       "         [4.74440288e-01],\n",
       "         [4.70964673e-01],\n",
       "         [4.70964673e-01],\n",
       "         [6.26529075e-01],\n",
       "         [6.26529075e-01],\n",
       "         [1.60047183e-02],\n",
       "         [1.60047183e-02],\n",
       "         [1.11529571e-02],\n",
       "         [1.11529571e-02],\n",
       "         [3.25600796e-01],\n",
       "         [3.25600796e-01],\n",
       "         [8.91409425e-01],\n",
       "         [8.91409425e-01],\n",
       "         [2.48169130e-01],\n",
       "         [2.48169130e-01],\n",
       "         [2.55114965e-01],\n",
       "         [2.55114965e-01],\n",
       "         [9.07777692e-01],\n",
       "         [9.07777692e-01],\n",
       "         [7.99237693e-01],\n",
       "         [7.99237693e-01],\n",
       "         [2.65381739e-01],\n",
       "         [2.65381739e-01],\n",
       "         [8.71448890e-01],\n",
       "         [8.71448890e-01],\n",
       "         [4.89727509e-01],\n",
       "         [4.89727509e-01],\n",
       "         [9.57441434e-01],\n",
       "         [9.57441434e-01],\n",
       "         [9.43597181e-01],\n",
       "         [9.43597181e-01],\n",
       "         [8.14197891e-01],\n",
       "         [8.14197891e-01],\n",
       "         [4.27757793e-01],\n",
       "         [4.27757793e-01],\n",
       "         [5.89660341e-01],\n",
       "         [5.89660341e-01],\n",
       "         [9.99851021e-01],\n",
       "         [9.99851021e-01],\n",
       "         [5.65140899e-01],\n",
       "         [5.65140899e-01],\n",
       "         [4.26973823e-02],\n",
       "         [4.26973823e-02],\n",
       "         [5.64396255e-01],\n",
       "         [5.64396255e-01],\n",
       "         [2.79378062e-01],\n",
       "         [2.79378062e-01],\n",
       "         [7.76857518e-01],\n",
       "         [7.76857518e-01],\n",
       "         [6.45771220e-03],\n",
       "         [6.45771220e-03],\n",
       "         [4.03211025e-01],\n",
       "         [4.03211025e-01],\n",
       "         [3.82277778e-01],\n",
       "         [3.82277778e-01],\n",
       "         [5.68152376e-01],\n",
       "         [5.68152376e-01],\n",
       "         [9.28596326e-01],\n",
       "         [9.28596326e-01],\n",
       "         [7.41037922e-01],\n",
       "         [7.41037922e-01],\n",
       "         [5.91515459e-01],\n",
       "         [5.91515459e-01],\n",
       "         [1.02022149e-01],\n",
       "         [1.02022149e-01],\n",
       "         [6.92454964e-01],\n",
       "         [6.92454964e-01],\n",
       "         [5.42754005e-02],\n",
       "         [5.42754005e-02],\n",
       "         [5.89566378e-01],\n",
       "         [5.89566378e-01],\n",
       "         [4.55657622e-02],\n",
       "         [4.55657622e-02],\n",
       "         [8.81612880e-01],\n",
       "         [8.81612880e-01],\n",
       "         [3.36500452e-01],\n",
       "         [3.36500452e-01],\n",
       "         [9.38731929e-01],\n",
       "         [9.38731929e-01],\n",
       "         [2.82739434e-01],\n",
       "         [2.82739434e-01],\n",
       "         [4.15114984e-01],\n",
       "         [4.15114984e-01],\n",
       "         [4.97481415e-01],\n",
       "         [4.97481415e-01],\n",
       "         [7.18312748e-01],\n",
       "         [7.18312748e-01],\n",
       "         [4.75929823e-01],\n",
       "         [4.75929823e-01],\n",
       "         [1.34254446e-01],\n",
       "         [1.34254446e-01],\n",
       "         [1.39227319e-01],\n",
       "         [1.39227319e-01],\n",
       "         [6.60703516e-01],\n",
       "         [6.60703516e-01],\n",
       "         [3.71376985e-01],\n",
       "         [3.71376985e-01],\n",
       "         [2.00449086e-01],\n",
       "         [2.00449086e-01],\n",
       "         [9.74222539e-01],\n",
       "         [9.74222539e-01],\n",
       "         [4.46960899e-01],\n",
       "         [4.46960899e-01],\n",
       "         [5.18234383e-01],\n",
       "         [5.18234383e-01],\n",
       "         [9.29944195e-01],\n",
       "         [9.29944195e-01],\n",
       "         [4.63715460e-01],\n",
       "         [4.63715460e-01],\n",
       "         [2.87516041e-01],\n",
       "         [2.87516041e-01],\n",
       "         [9.15207023e-02],\n",
       "         [9.15207023e-02],\n",
       "         [3.46717618e-01],\n",
       "         [3.46717618e-01],\n",
       "         [7.42118597e-04],\n",
       "         [7.42118597e-04],\n",
       "         [7.00901981e-01],\n",
       "         [7.00901981e-01],\n",
       "         [5.68968144e-01],\n",
       "         [5.68968144e-01],\n",
       "         [6.52635979e-01],\n",
       "         [6.52635979e-01],\n",
       "         [1.95960912e-01],\n",
       "         [1.95960912e-01],\n",
       "         [2.33872778e-01],\n",
       "         [2.33872778e-01],\n",
       "         [4.35481910e-01],\n",
       "         [4.35481910e-01],\n",
       "         [5.26059015e-01],\n",
       "         [5.26059015e-01],\n",
       "         [4.34911888e-01],\n",
       "         [4.34911888e-01],\n",
       "         [5.04124842e-01],\n",
       "         [5.04124842e-01]])}}"
      ]
     },
     "execution_count": 12,
     "metadata": {},
     "output_type": "execute_result"
    }
   ],
   "source": [
    "ds = load_by_id(run_id_a)\n",
    "ds.get_parameter_data('x1')"
   ]
  },
  {
   "cell_type": "code",
   "execution_count": null,
   "metadata": {},
   "outputs": [],
   "source": []
  }
 ],
 "metadata": {
  "kernelspec": {
   "display_name": "Python 3",
   "language": "python",
   "name": "python3"
  },
  "language_info": {
   "codemirror_mode": {
    "name": "ipython",
    "version": 3
   },
   "file_extension": ".py",
   "mimetype": "text/x-python",
   "name": "python",
   "nbconvert_exporter": "python",
   "pygments_lexer": "ipython3",
   "version": "3.7.7"
  },
  "nbsphinx": {
   "timeout": 600
  },
  "toc": {
   "base_numbering": 1,
   "nav_menu": {},
   "number_sections": true,
   "sideBar": true,
   "skip_h1_title": false,
   "title_cell": "Table of Contents",
   "title_sidebar": "Contents",
   "toc_cell": false,
   "toc_position": {},
   "toc_section_display": true,
   "toc_window_display": false
  },
  "varInspector": {
   "cols": {
    "lenName": 16,
    "lenType": 16,
    "lenVar": 40
   },
   "kernels_config": {
    "python": {
     "delete_cmd_postfix": "",
     "delete_cmd_prefix": "del ",
     "library": "var_list.py",
     "varRefreshCmd": "print(var_dic_list())"
    },
    "r": {
     "delete_cmd_postfix": ") ",
     "delete_cmd_prefix": "rm(",
     "library": "var_list.r",
     "varRefreshCmd": "cat(var_dic_list()) "
    }
   },
   "types_to_exclude": [
    "module",
    "function",
    "builtin_function_or_method",
    "instance",
    "_Feature"
   ],
   "window_display": false
  }
 },
 "nbformat": 4,
 "nbformat_minor": 2
}
