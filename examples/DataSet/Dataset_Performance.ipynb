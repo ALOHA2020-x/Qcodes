{
 "cells": [
  {
   "cell_type": "markdown",
   "metadata": {},
   "source": [
    "# DataSet Performance\n",
    "\n",
    "This notebook shows the trade-off between inserting data into a database row-by-row and as binary blobs. Inserting the data row-by-row means that we have direct access to all the data and may perform queries directly on the values of the data. On the other hand, as we shall see, this is much slower than inserting the data directly as binary blobs."
   ]
  },
  {
   "cell_type": "markdown",
   "metadata": {},
   "source": [
    "First, we choose a new location for the database to ensure that we don't add a bunch of benchmarking data to the default one."
   ]
  },
  {
   "cell_type": "code",
   "execution_count": 1,
   "metadata": {
    "execution": {
     "iopub.execute_input": "2021-02-17T17:19:31.493851Z",
     "iopub.status.busy": "2021-02-17T17:19:31.493271Z",
     "iopub.status.idle": "2021-02-17T17:19:32.478659Z",
     "shell.execute_reply": "2021-02-17T17:19:32.477360Z"
    }
   },
   "outputs": [
    {
     "name": "stdout",
     "output_type": "stream",
     "text": [
      "Logging hadn't been started.\n",
      "Activating auto-logging. Current session state plus future input saved.\n",
      "Filename       : /home/runner/.qcodes/logs/command_history.log\n",
      "Mode           : append\n",
      "Output logging : True\n",
      "Raw input log  : False\n",
      "Timestamping   : True\n",
      "State          : active\n"
     ]
    },
    {
     "name": "stdout",
     "output_type": "stream",
     "text": [
      "Qcodes Logfile : /home/runner/.qcodes/logs/210217-4386-qcodes.log\n"
     ]
    }
   ],
   "source": [
    "import os\n",
    "cwd = os.getcwd()\n",
    "import qcodes as qc\n",
    "qc.config[\"core\"][\"db_location\"] = os.path.join(cwd, 'testing.db')\n"
   ]
  },
  {
   "cell_type": "code",
   "execution_count": 2,
   "metadata": {
    "execution": {
     "iopub.execute_input": "2021-02-17T17:19:32.485618Z",
     "iopub.status.busy": "2021-02-17T17:19:32.485008Z",
     "iopub.status.idle": "2021-02-17T17:19:32.695130Z",
     "shell.execute_reply": "2021-02-17T17:19:32.694076Z"
    }
   },
   "outputs": [],
   "source": [
    "%matplotlib inline\n",
    "import time\n",
    "import matplotlib.pyplot as plt\n",
    "import numpy as np\n",
    "\n",
    "import qcodes as qc\n",
    "from qcodes.instrument.parameter import ManualParameter\n",
    "from qcodes.dataset.experiment_container import (Experiment,\n",
    "                                                 load_last_experiment,\n",
    "                                                 new_experiment)\n",
    "from qcodes.dataset.sqlite.database import initialise_database\n",
    "from qcodes import load_or_create_experiment\n",
    "from qcodes.dataset.measurements import Measurement"
   ]
  },
  {
   "cell_type": "code",
   "execution_count": 3,
   "metadata": {
    "execution": {
     "iopub.execute_input": "2021-02-17T17:19:32.700103Z",
     "iopub.status.busy": "2021-02-17T17:19:32.699304Z",
     "iopub.status.idle": "2021-02-17T17:19:32.846949Z",
     "shell.execute_reply": "2021-02-17T17:19:32.845954Z"
    }
   },
   "outputs": [
    {
     "name": "stdout",
     "output_type": "stream",
     "text": [
      "\r",
      "0it [00:00, ?it/s]"
     ]
    },
    {
     "name": "stdout",
     "output_type": "stream",
     "text": [
      "\r",
      "Upgrading database; v0 -> v1: : 0it [00:00, ?it/s]"
     ]
    },
    {
     "name": "stdout",
     "output_type": "stream",
     "text": [
      "\r",
      "Upgrading database; v0 -> v1: : 0it [00:00, ?it/s]"
     ]
    },
    {
     "name": "stdout",
     "output_type": "stream",
     "text": [
      "\n",
      "\r",
      "  0%|          | 0/1 [00:00<?, ?it/s]"
     ]
    },
    {
     "name": "stdout",
     "output_type": "stream",
     "text": [
      "\r",
      "Upgrading database; v1 -> v2:   0%|          | 0/1 [00:00<?, ?it/s]"
     ]
    },
    {
     "name": "stdout",
     "output_type": "stream",
     "text": [
      "\r",
      "Upgrading database; v1 -> v2: 100%|██████████| 1/1 [00:00<00:00, 346.92it/s]"
     ]
    },
    {
     "name": "stdout",
     "output_type": "stream",
     "text": [
      "\n",
      "\r",
      "0it [00:00, ?it/s]"
     ]
    },
    {
     "name": "stdout",
     "output_type": "stream",
     "text": [
      "\r",
      "Upgrading database; v2 -> v3: : 0it [00:00, ?it/s]"
     ]
    },
    {
     "name": "stdout",
     "output_type": "stream",
     "text": [
      "\r",
      "Upgrading database; v2 -> v3: : 0it [00:00, ?it/s]"
     ]
    },
    {
     "name": "stdout",
     "output_type": "stream",
     "text": [
      "\n",
      "\r",
      "0it [00:00, ?it/s]"
     ]
    },
    {
     "name": "stdout",
     "output_type": "stream",
     "text": [
      "\r",
      "Upgrading database; v3 -> v4: : 0it [00:00, ?it/s]"
     ]
    },
    {
     "name": "stdout",
     "output_type": "stream",
     "text": [
      "\r",
      "Upgrading database; v3 -> v4: : 0it [00:00, ?it/s]"
     ]
    },
    {
     "name": "stdout",
     "output_type": "stream",
     "text": [
      "\n",
      "\r",
      "  0%|          | 0/1 [00:00<?, ?it/s]"
     ]
    },
    {
     "name": "stdout",
     "output_type": "stream",
     "text": [
      "\r",
      "Upgrading database; v4 -> v5:   0%|          | 0/1 [00:00<?, ?it/s]"
     ]
    },
    {
     "name": "stdout",
     "output_type": "stream",
     "text": [
      "\r",
      "Upgrading database; v4 -> v5: 100%|██████████| 1/1 [00:00<00:00, 477.06it/s]"
     ]
    },
    {
     "name": "stdout",
     "output_type": "stream",
     "text": [
      "\n",
      "\r",
      "0it [00:00, ?it/s]"
     ]
    },
    {
     "name": "stdout",
     "output_type": "stream",
     "text": [
      "\r",
      "Upgrading database; v5 -> v6: : 0it [00:00, ?it/s]"
     ]
    },
    {
     "name": "stdout",
     "output_type": "stream",
     "text": [
      "\r",
      "Upgrading database; v5 -> v6: : 0it [00:00, ?it/s]"
     ]
    },
    {
     "name": "stdout",
     "output_type": "stream",
     "text": [
      "\n",
      "\r",
      "  0%|          | 0/1 [00:00<?, ?it/s]"
     ]
    },
    {
     "name": "stdout",
     "output_type": "stream",
     "text": [
      "\r",
      "Upgrading database; v6 -> v7:   0%|          | 0/1 [00:00<?, ?it/s]"
     ]
    },
    {
     "name": "stdout",
     "output_type": "stream",
     "text": [
      "\r",
      "Upgrading database; v6 -> v7: 100%|██████████| 1/1 [00:00<00:00, 247.82it/s]"
     ]
    },
    {
     "name": "stdout",
     "output_type": "stream",
     "text": [
      "\n",
      "\r",
      "  0%|          | 0/1 [00:00<?, ?it/s]"
     ]
    },
    {
     "name": "stdout",
     "output_type": "stream",
     "text": [
      "\r",
      "Upgrading database; v7 -> v8:   0%|          | 0/1 [00:00<?, ?it/s]"
     ]
    },
    {
     "name": "stdout",
     "output_type": "stream",
     "text": [
      "\r",
      "Upgrading database; v7 -> v8: 100%|██████████| 1/1 [00:00<00:00, 746.85it/s]"
     ]
    },
    {
     "name": "stdout",
     "output_type": "stream",
     "text": [
      "\n",
      "\r",
      "  0%|          | 0/1 [00:00<?, ?it/s]"
     ]
    },
    {
     "name": "stdout",
     "output_type": "stream",
     "text": [
      "\r",
      "Upgrading database; v8 -> v9:   0%|          | 0/1 [00:00<?, ?it/s]"
     ]
    },
    {
     "name": "stdout",
     "output_type": "stream",
     "text": [
      "\r",
      "Upgrading database; v8 -> v9: 100%|██████████| 1/1 [00:00<00:00, 365.45it/s]"
     ]
    },
    {
     "name": "stdout",
     "output_type": "stream",
     "text": [
      "\n"
     ]
    }
   ],
   "source": [
    "initialise_database()\n",
    "exp = load_or_create_experiment(experiment_name='tutorial_exp', sample_name=\"no sample\")"
   ]
  },
  {
   "cell_type": "markdown",
   "metadata": {},
   "source": [
    "Here, we define a simple function to benchmark the time it takes to insert n points with either numeric or array data type.\n",
    "We will compare both the time used to call ``add_result`` and the time used for the full measurement."
   ]
  },
  {
   "cell_type": "code",
   "execution_count": 4,
   "metadata": {
    "execution": {
     "iopub.execute_input": "2021-02-17T17:19:32.857970Z",
     "iopub.status.busy": "2021-02-17T17:19:32.857310Z",
     "iopub.status.idle": "2021-02-17T17:19:32.861300Z",
     "shell.execute_reply": "2021-02-17T17:19:32.860807Z"
    }
   },
   "outputs": [],
   "source": [
    "def insert_data(paramtype, npoints, nreps=1):\n",
    "\n",
    "    meas = Measurement(exp=exp)\n",
    "\n",
    "    x1 = ManualParameter('x1')\n",
    "    x2 = ManualParameter('x2')\n",
    "    x3 = ManualParameter('x3')\n",
    "    y1 = ManualParameter('y1')\n",
    "    y2 = ManualParameter('y2')\n",
    "\n",
    "    meas.register_parameter(x1, paramtype=paramtype)\n",
    "    meas.register_parameter(x2, paramtype=paramtype)\n",
    "    meas.register_parameter(x3, paramtype=paramtype)\n",
    "    meas.register_parameter(y1, setpoints=[x1, x2, x3],\n",
    "                            paramtype=paramtype)\n",
    "    meas.register_parameter(y2, setpoints=[x1, x2, x3],\n",
    "                            paramtype=paramtype)\n",
    "    start = time.perf_counter()\n",
    "    with meas.run() as datasaver:\n",
    "        start_adding = time.perf_counter()\n",
    "        for i in range(nreps):\n",
    "            datasaver.add_result((x1, np.random.rand(npoints)),\n",
    "                                 (x2, np.random.rand(npoints)),\n",
    "                                 (x3, np.random.rand(npoints)),\n",
    "                                 (y1, np.random.rand(npoints)),\n",
    "                                 (y2, np.random.rand(npoints)))\n",
    "        stop_adding = time.perf_counter()\n",
    "        run_id = datasaver.run_id\n",
    "    stop = time.perf_counter()\n",
    "    tot_time = stop - start\n",
    "    add_time = stop_adding - start_adding\n",
    "    return tot_time, add_time, run_id"
   ]
  },
  {
   "cell_type": "markdown",
   "metadata": {},
   "source": [
    "## Comparison between numeric/array data and binary blob"
   ]
  },
  {
   "cell_type": "markdown",
   "metadata": {},
   "source": [
    "### Case1: Short experiment time"
   ]
  },
  {
   "cell_type": "code",
   "execution_count": 5,
   "metadata": {
    "execution": {
     "iopub.execute_input": "2021-02-17T17:19:32.869513Z",
     "iopub.status.busy": "2021-02-17T17:19:32.868812Z",
     "iopub.status.idle": "2021-02-17T17:19:33.755301Z",
     "shell.execute_reply": "2021-02-17T17:19:33.754574Z"
    }
   },
   "outputs": [
    {
     "name": "stdout",
     "output_type": "stream",
     "text": [
      "Starting experimental run with id: 1. \n",
      "Starting experimental run with id: 2. \n",
      "Starting experimental run with id: 3. \n",
      "Starting experimental run with id: 4. \n"
     ]
    },
    {
     "name": "stdout",
     "output_type": "stream",
     "text": [
      "Starting experimental run with id: 5. "
     ]
    },
    {
     "name": "stdout",
     "output_type": "stream",
     "text": [
      "\n"
     ]
    },
    {
     "name": "stdout",
     "output_type": "stream",
     "text": [
      "Starting experimental run with id: 6. \n",
      "Starting experimental run with id: 7. \n"
     ]
    },
    {
     "name": "stdout",
     "output_type": "stream",
     "text": [
      "Starting experimental run with id: 8. \n",
      "Starting experimental run with id: 9. \n"
     ]
    },
    {
     "name": "stdout",
     "output_type": "stream",
     "text": [
      "Starting experimental run with id: 10. \n",
      "Starting experimental run with id: 11. \n"
     ]
    },
    {
     "name": "stdout",
     "output_type": "stream",
     "text": [
      "Starting experimental run with id: 12. \n",
      "Starting experimental run with id: 13. \n"
     ]
    },
    {
     "name": "stdout",
     "output_type": "stream",
     "text": [
      "Starting experimental run with id: 14. \n"
     ]
    }
   ],
   "source": [
    "sizes = [1,500,1000,2000,3000,4000,5000]\n",
    "t_numeric = []\n",
    "t_numeric_add = []\n",
    "t_array = []\n",
    "t_array_add = []\n",
    "for size in sizes:\n",
    "    tn, tna, run_id_n =  insert_data('numeric', size)\n",
    "    t_numeric.append(tn)\n",
    "    t_numeric_add.append(tna)\n",
    "\n",
    "    ta, taa, run_id_a =  insert_data('array', size)\n",
    "    t_array.append(ta)\n",
    "    t_array_add.append(taa)"
   ]
  },
  {
   "cell_type": "code",
   "execution_count": 6,
   "metadata": {
    "execution": {
     "iopub.execute_input": "2021-02-17T17:19:33.774927Z",
     "iopub.status.busy": "2021-02-17T17:19:33.774289Z",
     "iopub.status.idle": "2021-02-17T17:19:33.968469Z",
     "shell.execute_reply": "2021-02-17T17:19:33.967648Z"
    }
   },
   "outputs": [
    {
     "data": {
      "image/png": "[encoded data removed]",
      "text/plain": [
       "<Figure size 432x288 with 1 Axes>"
      ]
     },
     "metadata": {
      "needs_background": "light"
     },
     "output_type": "display_data"
    }
   ],
   "source": [
    "fig, ax = plt.subplots(1,1)\n",
    "ax.plot(sizes, t_numeric, 'o-', label='Inserting row-by-row')\n",
    "ax.plot(sizes, t_numeric_add, 'o-', label='Inserting row-by-row: add_result only')\n",
    "ax.plot(sizes, t_array, 'd-', label='Inserting as binary blob')\n",
    "ax.plot(sizes, t_array_add, 'd-', label='Inserting as binary blob: add_result only')\n",
    "ax.legend()\n",
    "ax.set_xlabel('Array length')\n",
    "ax.set_ylabel('Time (s)')\n",
    "fig.tight_layout()"
   ]
  },
  {
   "cell_type": "markdown",
   "metadata": {},
   "source": [
    "As shown in the latter figure, the time to setup and and close the experiment is approximately 0.4 sec. In case of small array sizes, the difference between inserting values of data as arrays and inserting them row-by-row is relatively unimportant. At larger array sizes, i.e. above 10000 points, the cost of writing data as individual datapoints starts to become important.\n"
   ]
  },
  {
   "cell_type": "markdown",
   "metadata": {},
   "source": [
    "### Case2: Long experiment time "
   ]
  },
  {
   "cell_type": "code",
   "execution_count": 7,
   "metadata": {
    "execution": {
     "iopub.execute_input": "2021-02-17T17:19:33.976542Z",
     "iopub.status.busy": "2021-02-17T17:19:33.975912Z",
     "iopub.status.idle": "2021-02-17T17:20:34.851090Z",
     "shell.execute_reply": "2021-02-17T17:20:34.850302Z"
    }
   },
   "outputs": [
    {
     "name": "stdout",
     "output_type": "stream",
     "text": [
      "Starting experimental run with id: 15. \n",
      "Starting experimental run with id: 16. \n",
      "Starting experimental run with id: 17. \n"
     ]
    },
    {
     "name": "stdout",
     "output_type": "stream",
     "text": [
      "Starting experimental run with id: 18. \n"
     ]
    },
    {
     "name": "stdout",
     "output_type": "stream",
     "text": [
      "Starting experimental run with id: 19. \n"
     ]
    },
    {
     "name": "stdout",
     "output_type": "stream",
     "text": [
      "Starting experimental run with id: 20. \n"
     ]
    },
    {
     "name": "stdout",
     "output_type": "stream",
     "text": [
      "Starting experimental run with id: 21. \n"
     ]
    },
    {
     "name": "stdout",
     "output_type": "stream",
     "text": [
      "Starting experimental run with id: 22. \n"
     ]
    },
    {
     "name": "stdout",
     "output_type": "stream",
     "text": [
      "Starting experimental run with id: 23. \n"
     ]
    },
    {
     "name": "stdout",
     "output_type": "stream",
     "text": [
      "Starting experimental run with id: 24. \n"
     ]
    },
    {
     "name": "stdout",
     "output_type": "stream",
     "text": [
      "Starting experimental run with id: 25. \n"
     ]
    },
    {
     "name": "stdout",
     "output_type": "stream",
     "text": [
      "Starting experimental run with id: 26. \n"
     ]
    },
    {
     "name": "stdout",
     "output_type": "stream",
     "text": [
      "Starting experimental run with id: 27. \n"
     ]
    },
    {
     "name": "stdout",
     "output_type": "stream",
     "text": [
      "Starting experimental run with id: 28. \n"
     ]
    }
   ],
   "source": [
    "sizes = [1,500,1000,2000,3000,4000,5000]\n",
    "nreps = 100\n",
    "t_numeric = []\n",
    "t_numeric_add = []\n",
    "t_numeric_run_ids = []\n",
    "t_array = []\n",
    "t_array_add = []\n",
    "t_array_run_ids = []\n",
    "for size in sizes:\n",
    "    tn, tna, run_id_n =  insert_data('numeric', size, nreps=nreps)\n",
    "    t_numeric.append(tn)\n",
    "    t_numeric_add.append(tna)\n",
    "    t_numeric_run_ids.append(run_id_n)\n",
    "\n",
    "    ta, taa, run_id_a =  insert_data('array', size, nreps=nreps)\n",
    "    t_array.append(ta)\n",
    "    t_array_add.append(taa)\n",
    "    t_array_run_ids.append(run_id_a)"
   ]
  },
  {
   "cell_type": "code",
   "execution_count": 8,
   "metadata": {
    "execution": {
     "iopub.execute_input": "2021-02-17T17:20:34.897456Z",
     "iopub.status.busy": "2021-02-17T17:20:34.896074Z",
     "iopub.status.idle": "2021-02-17T17:20:35.089743Z",
     "shell.execute_reply": "2021-02-17T17:20:35.089235Z"
    },
    "scrolled": true
   },
   "outputs": [
    {
     "data": {
      "image/png": "[encoded data removed]",
      "text/plain": [
       "<Figure size 432x288 with 1 Axes>"
      ]
     },
     "metadata": {
      "needs_background": "light"
     },
     "output_type": "display_data"
    }
   ],
   "source": [
    "fig, ax = plt.subplots(1,1)\n",
    "ax.plot(sizes, t_numeric, 'o-', label='Inserting row-by-row')\n",
    "ax.plot(sizes, t_numeric_add, 'o-', label='Inserting row-by-row: add_result only')\n",
    "ax.plot(sizes, t_array, 'd-', label='Inserting as binary blob')\n",
    "ax.plot(sizes, t_array_add, 'd-', label='Inserting as binary blob: add_result only')\n",
    "ax.legend()\n",
    "ax.set_xlabel('Array length')\n",
    "ax.set_ylabel('Time (s)')\n",
    "fig.tight_layout()"
   ]
  },
  {
   "cell_type": "markdown",
   "metadata": {},
   "source": [
    "However, as we increase the length of the experiment, as seen here by repeating the insertion 100 times, we see a big difference between inserting values of the data row-by-row and inserting it as a binary blob."
   ]
  },
  {
   "cell_type": "markdown",
   "metadata": {},
   "source": [
    "## Loading the data "
   ]
  },
  {
   "cell_type": "code",
   "execution_count": 9,
   "metadata": {
    "execution": {
     "iopub.execute_input": "2021-02-17T17:20:35.094762Z",
     "iopub.status.busy": "2021-02-17T17:20:35.093672Z",
     "iopub.status.idle": "2021-02-17T17:20:35.097081Z",
     "shell.execute_reply": "2021-02-17T17:20:35.096593Z"
    }
   },
   "outputs": [],
   "source": [
    "from qcodes.dataset.data_set import load_by_id\n",
    "from qcodes.dataset.data_export import get_data_by_id"
   ]
  },
  {
   "cell_type": "markdown",
   "metadata": {},
   "source": [
    "As usual you can load the data by using the ``load_by_id`` function but you will notice that the different storage methods\n",
    "are reflected in shape of the data as it is retrieved. "
   ]
  },
  {
   "cell_type": "code",
   "execution_count": 10,
   "metadata": {
    "execution": {
     "iopub.execute_input": "2021-02-17T17:20:35.102222Z",
     "iopub.status.busy": "2021-02-17T17:20:35.100917Z",
     "iopub.status.idle": "2021-02-17T17:20:35.102877Z",
     "shell.execute_reply": "2021-02-17T17:20:35.103347Z"
    }
   },
   "outputs": [],
   "source": [
    "run_id_n = t_numeric_run_ids[0]\n",
    "run_id_a = t_array_run_ids[0]"
   ]
  },
  {
   "cell_type": "code",
   "execution_count": 11,
   "metadata": {
    "execution": {
     "iopub.execute_input": "2021-02-17T17:20:35.107128Z",
     "iopub.status.busy": "2021-02-17T17:20:35.106571Z",
     "iopub.status.idle": "2021-02-17T17:20:35.116291Z",
     "shell.execute_reply": "2021-02-17T17:20:35.116809Z"
    },
    "scrolled": true
   },
   "outputs": [
    {
     "data": {
      "text/plain": [
       "{'x1': {'x1': array([0.51583971, 0.51583971, 0.27002227, 0.27002227, 0.93612493,\n",
       "         0.93612493, 0.22924921, 0.22924921, 0.69238592, 0.69238592,\n",
       "         0.18095626, 0.18095626, 0.43561275, 0.43561275, 0.94127014,\n",
       "         0.94127014, 0.646931  , 0.646931  , 0.62983553, 0.62983553,\n",
       "         0.63182626, 0.63182626, 0.0929968 , 0.0929968 , 0.65854046,\n",
       "         0.65854046, 0.182804  , 0.182804  , 0.75031378, 0.75031378,\n",
       "         0.76837168, 0.76837168, 0.33757116, 0.33757116, 0.3429982 ,\n",
       "         0.3429982 , 0.70558154, 0.70558154, 0.32997529, 0.32997529,\n",
       "         0.58725231, 0.58725231, 0.9189926 , 0.9189926 , 0.26776374,\n",
       "         0.26776374, 0.87588813, 0.87588813, 0.11651474, 0.11651474,\n",
       "         0.22362717, 0.22362717, 0.54212722, 0.54212722, 0.15373722,\n",
       "         0.15373722, 0.46555872, 0.46555872, 0.76425267, 0.76425267,\n",
       "         0.85730849, 0.85730849, 0.73997215, 0.73997215, 0.92845645,\n",
       "         0.92845645, 0.46041073, 0.46041073, 0.43140899, 0.43140899,\n",
       "         0.73034435, 0.73034435, 0.93893894, 0.93893894, 0.92096088,\n",
       "         0.92096088, 0.8935818 , 0.8935818 , 0.06324069, 0.06324069,\n",
       "         0.96506541, 0.96506541, 0.14470396, 0.14470396, 0.91066967,\n",
       "         0.91066967, 0.25217815, 0.25217815, 0.78150615, 0.78150615,\n",
       "         0.50899479, 0.50899479, 0.77224153, 0.77224153, 0.26901403,\n",
       "         0.26901403, 0.34530289, 0.34530289, 0.06924892, 0.06924892,\n",
       "         0.2413097 , 0.2413097 , 0.47113239, 0.47113239, 0.75917926,\n",
       "         0.75917926, 0.82008921, 0.82008921, 0.46236768, 0.46236768,\n",
       "         0.89759957, 0.89759957, 0.4542538 , 0.4542538 , 0.0091312 ,\n",
       "         0.0091312 , 0.1130822 , 0.1130822 , 0.23959282, 0.23959282,\n",
       "         0.83260817, 0.83260817, 0.66407142, 0.66407142, 0.97472508,\n",
       "         0.97472508, 0.97863114, 0.97863114, 0.67093662, 0.67093662,\n",
       "         0.69366765, 0.69366765, 0.21510069, 0.21510069, 0.27221712,\n",
       "         0.27221712, 0.79307974, 0.79307974, 0.41165195, 0.41165195,\n",
       "         0.67911526, 0.67911526, 0.89204583, 0.89204583, 0.95245634,\n",
       "         0.95245634, 0.234881  , 0.234881  , 0.46631723, 0.46631723,\n",
       "         0.21421428, 0.21421428, 0.33853658, 0.33853658, 0.62402717,\n",
       "         0.62402717, 0.06644091, 0.06644091, 0.45552138, 0.45552138,\n",
       "         0.68280278, 0.68280278, 0.02592423, 0.02592423, 0.09893756,\n",
       "         0.09893756, 0.05981488, 0.05981488, 0.97519501, 0.97519501,\n",
       "         0.38178605, 0.38178605, 0.55582352, 0.55582352, 0.22145967,\n",
       "         0.22145967, 0.5747307 , 0.5747307 , 0.71584796, 0.71584796,\n",
       "         0.83846653, 0.83846653, 0.02639654, 0.02639654, 0.85189012,\n",
       "         0.85189012, 0.79698031, 0.79698031, 0.85093925, 0.85093925,\n",
       "         0.91595628, 0.91595628, 0.57459437, 0.57459437, 0.95187319,\n",
       "         0.95187319, 0.33161707, 0.33161707, 0.97855814, 0.97855814])}}"
      ]
     },
     "execution_count": 1,
     "metadata": {},
     "output_type": "execute_result"
    }
   ],
   "source": [
    "ds = load_by_id(run_id_n)\n",
    "ds.get_parameter_data('x1')"
   ]
  },
  {
   "cell_type": "markdown",
   "metadata": {},
   "source": [
    "And a dataset stored as binary arrays"
   ]
  },
  {
   "cell_type": "code",
   "execution_count": 12,
   "metadata": {
    "execution": {
     "iopub.execute_input": "2021-02-17T17:20:35.120643Z",
     "iopub.status.busy": "2021-02-17T17:20:35.120095Z",
     "iopub.status.idle": "2021-02-17T17:20:35.179575Z",
     "shell.execute_reply": "2021-02-17T17:20:35.180307Z"
    },
    "scrolled": true
   },
   "outputs": [
    {
     "data": {
      "text/plain": [
       "{'x1': {'x1': array([[7.31119949e-01],\n",
       "         [7.31119949e-01],\n",
       "         [6.95250457e-01],\n",
       "         [6.95250457e-01],\n",
       "         [4.62884242e-01],\n",
       "         [4.62884242e-01],\n",
       "         [6.92130619e-01],\n",
       "         [6.92130619e-01],\n",
       "         [3.74004395e-01],\n",
       "         [3.74004395e-01],\n",
       "         [9.52379636e-01],\n",
       "         [9.52379636e-01],\n",
       "         [3.16962651e-01],\n",
       "         [3.16962651e-01],\n",
       "         [9.90866797e-02],\n",
       "         [9.90866797e-02],\n",
       "         [4.19481328e-01],\n",
       "         [4.19481328e-01],\n",
       "         [4.24070944e-01],\n",
       "         [4.24070944e-01],\n",
       "         [8.06724506e-01],\n",
       "         [8.06724506e-01],\n",
       "         [7.77978012e-01],\n",
       "         [7.77978012e-01],\n",
       "         [6.01022721e-01],\n",
       "         [6.01022721e-01],\n",
       "         [7.18263199e-01],\n",
       "         [7.18263199e-01],\n",
       "         [1.41973981e-02],\n",
       "         [1.41973981e-02],\n",
       "         [6.69258348e-01],\n",
       "         [6.69258348e-01],\n",
       "         [8.86876602e-01],\n",
       "         [8.86876602e-01],\n",
       "         [9.84107339e-01],\n",
       "         [9.84107339e-01],\n",
       "         [1.10341281e-01],\n",
       "         [1.10341281e-01],\n",
       "         [1.90400601e-01],\n",
       "         [1.90400601e-01],\n",
       "         [9.81898509e-01],\n",
       "         [9.81898509e-01],\n",
       "         [1.99796899e-01],\n",
       "         [1.99796899e-01],\n",
       "         [2.92498562e-01],\n",
       "         [2.92498562e-01],\n",
       "         [6.11833237e-02],\n",
       "         [6.11833237e-02],\n",
       "         [7.45166416e-01],\n",
       "         [7.45166416e-01],\n",
       "         [7.16226950e-01],\n",
       "         [7.16226950e-01],\n",
       "         [3.34550102e-01],\n",
       "         [3.34550102e-01],\n",
       "         [9.75978655e-01],\n",
       "         [9.75978655e-01],\n",
       "         [6.36117301e-01],\n",
       "         [6.36117301e-01],\n",
       "         [7.97516657e-01],\n",
       "         [7.97516657e-01],\n",
       "         [2.02864237e-01],\n",
       "         [2.02864237e-01],\n",
       "         [3.97316678e-01],\n",
       "         [3.97316678e-01],\n",
       "         [7.29391928e-01],\n",
       "         [7.29391928e-01],\n",
       "         [6.43111417e-01],\n",
       "         [6.43111417e-01],\n",
       "         [5.44931509e-01],\n",
       "         [5.44931509e-01],\n",
       "         [4.42838294e-01],\n",
       "         [4.42838294e-01],\n",
       "         [4.26361213e-01],\n",
       "         [4.26361213e-01],\n",
       "         [5.72285091e-03],\n",
       "         [5.72285091e-03],\n",
       "         [4.51257860e-01],\n",
       "         [4.51257860e-01],\n",
       "         [5.39081886e-01],\n",
       "         [5.39081886e-01],\n",
       "         [5.95350211e-01],\n",
       "         [5.95350211e-01],\n",
       "         [6.25774521e-03],\n",
       "         [6.25774521e-03],\n",
       "         [1.62251655e-01],\n",
       "         [1.62251655e-01],\n",
       "         [9.25525009e-01],\n",
       "         [9.25525009e-01],\n",
       "         [6.73672868e-01],\n",
       "         [6.73672868e-01],\n",
       "         [5.96211638e-02],\n",
       "         [5.96211638e-02],\n",
       "         [1.13502682e-01],\n",
       "         [1.13502682e-01],\n",
       "         [7.93709715e-01],\n",
       "         [7.93709715e-01],\n",
       "         [3.79698130e-01],\n",
       "         [3.79698130e-01],\n",
       "         [4.43436151e-02],\n",
       "         [4.43436151e-02],\n",
       "         [5.31411653e-01],\n",
       "         [5.31411653e-01],\n",
       "         [7.25231578e-01],\n",
       "         [7.25231578e-01],\n",
       "         [8.74935734e-03],\n",
       "         [8.74935734e-03],\n",
       "         [2.59562997e-01],\n",
       "         [2.59562997e-01],\n",
       "         [7.29791992e-01],\n",
       "         [7.29791992e-01],\n",
       "         [3.90527102e-01],\n",
       "         [3.90527102e-01],\n",
       "         [8.61152533e-01],\n",
       "         [8.61152533e-01],\n",
       "         [4.93988713e-01],\n",
       "         [4.93988713e-01],\n",
       "         [8.60443011e-02],\n",
       "         [8.60443011e-02],\n",
       "         [6.57157770e-01],\n",
       "         [6.57157770e-01],\n",
       "         [2.72110789e-01],\n",
       "         [2.72110789e-01],\n",
       "         [1.87299245e-01],\n",
       "         [1.87299245e-01],\n",
       "         [9.36685458e-01],\n",
       "         [9.36685458e-01],\n",
       "         [9.38918739e-01],\n",
       "         [9.38918739e-01],\n",
       "         [7.24118007e-01],\n",
       "         [7.24118007e-01],\n",
       "         [1.71088814e-01],\n",
       "         [1.71088814e-01],\n",
       "         [6.49332439e-01],\n",
       "         [6.49332439e-01],\n",
       "         [4.74881745e-02],\n",
       "         [4.74881745e-02],\n",
       "         [6.59338706e-01],\n",
       "         [6.59338706e-01],\n",
       "         [5.00636878e-01],\n",
       "         [5.00636878e-01],\n",
       "         [7.76981586e-01],\n",
       "         [7.76981586e-01],\n",
       "         [3.33335265e-01],\n",
       "         [3.33335265e-01],\n",
       "         [1.70761830e-01],\n",
       "         [1.70761830e-01],\n",
       "         [3.39588219e-01],\n",
       "         [3.39588219e-01],\n",
       "         [8.96057483e-01],\n",
       "         [8.96057483e-01],\n",
       "         [4.31205747e-01],\n",
       "         [4.31205747e-01],\n",
       "         [2.72059560e-01],\n",
       "         [2.72059560e-01],\n",
       "         [4.40487181e-01],\n",
       "         [4.40487181e-01],\n",
       "         [4.03909401e-01],\n",
       "         [4.03909401e-01],\n",
       "         [2.49040652e-01],\n",
       "         [2.49040652e-01],\n",
       "         [5.48748948e-01],\n",
       "         [5.48748948e-01],\n",
       "         [2.57234497e-01],\n",
       "         [2.57234497e-01],\n",
       "         [7.63713931e-02],\n",
       "         [7.63713931e-02],\n",
       "         [8.14263143e-01],\n",
       "         [8.14263143e-01],\n",
       "         [9.16135416e-01],\n",
       "         [9.16135416e-01],\n",
       "         [9.35805041e-01],\n",
       "         [9.35805041e-01],\n",
       "         [9.57989693e-01],\n",
       "         [9.57989693e-01],\n",
       "         [1.58679772e-01],\n",
       "         [1.58679772e-01],\n",
       "         [7.26076113e-01],\n",
       "         [7.26076113e-01],\n",
       "         [7.34343153e-01],\n",
       "         [7.34343153e-01],\n",
       "         [8.69556102e-01],\n",
       "         [8.69556102e-01],\n",
       "         [5.43867806e-04],\n",
       "         [5.43867806e-04],\n",
       "         [7.45597356e-02],\n",
       "         [7.45597356e-02],\n",
       "         [9.95892931e-01],\n",
       "         [9.95892931e-01],\n",
       "         [3.00911597e-01],\n",
       "         [3.00911597e-01],\n",
       "         [2.67004518e-01],\n",
       "         [2.67004518e-01],\n",
       "         [4.53616703e-01],\n",
       "         [4.53616703e-01],\n",
       "         [7.16793737e-01],\n",
       "         [7.16793737e-01],\n",
       "         [3.61703165e-01],\n",
       "         [3.61703165e-01],\n",
       "         [4.67588940e-02],\n",
       "         [4.67588940e-02]])}}"
      ]
     },
     "execution_count": 1,
     "metadata": {},
     "output_type": "execute_result"
    }
   ],
   "source": [
    "ds = load_by_id(run_id_a)\n",
    "ds.get_parameter_data('x1')"
   ]
  },
  {
   "cell_type": "code",
   "execution_count": null,
   "metadata": {},
   "outputs": [],
   "source": []
  }
 ],
 "metadata": {
  "kernelspec": {
   "display_name": "Python 3",
   "language": "python",
   "name": "python3"
  },
  "language_info": {
   "codemirror_mode": {
    "name": "ipython",
    "version": 3
   },
   "file_extension": ".py",
   "mimetype": "text/x-python",
   "name": "python",
   "nbconvert_exporter": "python",
   "pygments_lexer": "ipython3",
   "version": "3.7.9"
  },
  "nbsphinx": {
   "timeout": 600
  },
  "toc": {
   "base_numbering": 1,
   "nav_menu": {},
   "number_sections": true,
   "sideBar": true,
   "skip_h1_title": false,
   "title_cell": "Table of Contents",
   "title_sidebar": "Contents",
   "toc_cell": false,
   "toc_position": {},
   "toc_section_display": true,
   "toc_window_display": false
  },
  "varInspector": {
   "cols": {
    "lenName": 16,
    "lenType": 16,
    "lenVar": 40
   },
   "kernels_config": {
    "python": {
     "delete_cmd_postfix": "",
     "delete_cmd_prefix": "del ",
     "library": "var_list.py",
     "varRefreshCmd": "print(var_dic_list())"
    },
    "r": {
     "delete_cmd_postfix": ") ",
     "delete_cmd_prefix": "rm(",
     "library": "var_list.r",
     "varRefreshCmd": "cat(var_dic_list()) "
    }
   },
   "types_to_exclude": [
    "module",
    "function",
    "builtin_function_or_method",
    "instance",
    "_Feature"
   ],
   "window_display": false
  }
 },
 "nbformat": 4,
 "nbformat_minor": 2
}
