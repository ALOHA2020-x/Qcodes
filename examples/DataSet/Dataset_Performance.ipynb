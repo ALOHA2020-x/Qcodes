{
 "cells": [
  {
   "cell_type": "markdown",
   "metadata": {},
   "source": [
    "# DataSet Performance\n",
    "\n",
    "This notebook shows the trade-off between inserting data into a database row-by-row and as binary blobs. Inserting the data row-by-row means that we have direct access to all the data and may perform queries directly on the values of the data. On the other hand, as we shall see, this is much slower than inserting the data directly as binary blobs."
   ]
  },
  {
   "cell_type": "markdown",
   "metadata": {},
   "source": [
    "First, we choose a new location for the database to ensure that we don't add a bunch of benchmarking data to the default one."
   ]
  },
  {
   "cell_type": "code",
   "execution_count": 1,
   "metadata": {},
   "outputs": [
    {
     "name": "stdout",
     "output_type": "stream",
     "text": [
      "Logging hadn't been started.\n",
      "Activating auto-logging. Current session state plus future input saved.\n",
      "Filename       : /home/vsts/.qcodes/logs/command_history.log\n",
      "Mode           : append\n",
      "Output logging : True\n",
      "Raw input log  : False\n",
      "Timestamping   : True\n",
      "State          : active\n"
     ]
    },
    {
     "name": "stdout",
     "output_type": "stream",
     "text": [
      "Qcodes Logfile : /home/vsts/.qcodes/logs/200518-19122-qcodes.log\n"
     ]
    }
   ],
   "source": [
    "import os\n",
    "cwd = os.getcwd()\n",
    "import qcodes as qc\n",
    "qc.config[\"core\"][\"db_location\"] = os.path.join(cwd, 'testing.db')\n"
   ]
  },
  {
   "cell_type": "code",
   "execution_count": 2,
   "metadata": {},
   "outputs": [],
   "source": [
    "%matplotlib inline\n",
    "import time\n",
    "import matplotlib.pyplot as plt\n",
    "import numpy as np\n",
    "\n",
    "import qcodes as qc\n",
    "from qcodes.instrument.parameter import ManualParameter\n",
    "from qcodes.dataset.experiment_container import (Experiment,\n",
    "                                                 load_last_experiment,\n",
    "                                                 new_experiment)\n",
    "from qcodes.dataset.sqlite.database import initialise_database\n",
    "from qcodes import load_or_create_experiment\n",
    "from qcodes.dataset.measurements import Measurement"
   ]
  },
  {
   "cell_type": "code",
   "execution_count": 3,
   "metadata": {},
   "outputs": [
    {
     "name": "stdout",
     "output_type": "stream",
     "text": [
      "\r",
      "0it [00:00, ?it/s]"
     ]
    },
    {
     "name": "stdout",
     "output_type": "stream",
     "text": [
      "\r",
      "Upgrading database; v0 -> v1: : 0it [00:00, ?it/s]"
     ]
    },
    {
     "name": "stdout",
     "output_type": "stream",
     "text": [
      "\r",
      "Upgrading database; v0 -> v1: : 0it [00:00, ?it/s]"
     ]
    },
    {
     "name": "stdout",
     "output_type": "stream",
     "text": [
      "\n",
      "\r",
      "  0%|          | 0/1 [00:00<?, ?it/s]"
     ]
    },
    {
     "name": "stdout",
     "output_type": "stream",
     "text": [
      "\r",
      "Upgrading database; v1 -> v2:   0%|          | 0/1 [00:00<?, ?it/s]"
     ]
    },
    {
     "name": "stdout",
     "output_type": "stream",
     "text": [
      "\r",
      "Upgrading database; v1 -> v2: 100%|██████████| 1/1 [00:00<00:00, 894.50it/s]"
     ]
    },
    {
     "name": "stdout",
     "output_type": "stream",
     "text": [
      "\n",
      "\r",
      "0it [00:00, ?it/s]"
     ]
    },
    {
     "name": "stdout",
     "output_type": "stream",
     "text": [
      "\r",
      "Upgrading database; v2 -> v3: : 0it [00:00, ?it/s]"
     ]
    },
    {
     "name": "stdout",
     "output_type": "stream",
     "text": [
      "\r",
      "Upgrading database; v2 -> v3: : 0it [00:00, ?it/s]"
     ]
    },
    {
     "name": "stdout",
     "output_type": "stream",
     "text": [
      "\n",
      "\r",
      "0it [00:00, ?it/s]"
     ]
    },
    {
     "name": "stdout",
     "output_type": "stream",
     "text": [
      "\r",
      "Upgrading database; v3 -> v4: : 0it [00:00, ?it/s]"
     ]
    },
    {
     "name": "stdout",
     "output_type": "stream",
     "text": [
      "\r",
      "Upgrading database; v3 -> v4: : 0it [00:00, ?it/s]"
     ]
    },
    {
     "name": "stdout",
     "output_type": "stream",
     "text": [
      "\n",
      "\r",
      "  0%|          | 0/1 [00:00<?, ?it/s]"
     ]
    },
    {
     "name": "stdout",
     "output_type": "stream",
     "text": [
      "\r",
      "Upgrading database; v4 -> v5:   0%|          | 0/1 [00:00<?, ?it/s]"
     ]
    },
    {
     "name": "stdout",
     "output_type": "stream",
     "text": [
      "\r",
      "Upgrading database; v4 -> v5: 100%|██████████| 1/1 [00:00<00:00, 822.90it/s]"
     ]
    },
    {
     "name": "stdout",
     "output_type": "stream",
     "text": [
      "\n",
      "\r",
      "0it [00:00, ?it/s]"
     ]
    },
    {
     "name": "stdout",
     "output_type": "stream",
     "text": [
      "\r",
      "Upgrading database; v5 -> v6: : 0it [00:00, ?it/s]"
     ]
    },
    {
     "name": "stdout",
     "output_type": "stream",
     "text": [
      "\r",
      "Upgrading database; v5 -> v6: : 0it [00:00, ?it/s]"
     ]
    },
    {
     "name": "stdout",
     "output_type": "stream",
     "text": [
      "\n",
      "\r",
      "  0%|          | 0/1 [00:00<?, ?it/s]"
     ]
    },
    {
     "name": "stdout",
     "output_type": "stream",
     "text": [
      "\r",
      "Upgrading database; v6 -> v7:   0%|          | 0/1 [00:00<?, ?it/s]"
     ]
    },
    {
     "name": "stdout",
     "output_type": "stream",
     "text": [
      "\r",
      "Upgrading database; v6 -> v7: 100%|██████████| 1/1 [00:00<00:00, 475.60it/s]"
     ]
    },
    {
     "name": "stdout",
     "output_type": "stream",
     "text": [
      "\n",
      "\r",
      "  0%|          | 0/1 [00:00<?, ?it/s]"
     ]
    },
    {
     "name": "stdout",
     "output_type": "stream",
     "text": [
      "\r",
      "Upgrading database; v7 -> v8:   0%|          | 0/1 [00:00<?, ?it/s]"
     ]
    },
    {
     "name": "stdout",
     "output_type": "stream",
     "text": [
      "\r",
      "Upgrading database; v7 -> v8: 100%|██████████| 1/1 [00:00<00:00, 879.68it/s]"
     ]
    },
    {
     "name": "stdout",
     "output_type": "stream",
     "text": [
      "\n",
      "\r",
      "  0%|          | 0/1 [00:00<?, ?it/s]"
     ]
    },
    {
     "name": "stdout",
     "output_type": "stream",
     "text": [
      "\r",
      "Upgrading database; v8 -> v9:   0%|          | 0/1 [00:00<?, ?it/s]"
     ]
    },
    {
     "name": "stdout",
     "output_type": "stream",
     "text": [
      "\r",
      "Upgrading database; v8 -> v9: 100%|██████████| 1/1 [00:00<00:00, 840.71it/s]"
     ]
    },
    {
     "name": "stdout",
     "output_type": "stream",
     "text": [
      "\n"
     ]
    }
   ],
   "source": [
    "initialise_database()\n",
    "exp = load_or_create_experiment(experiment_name='tutorial_exp', sample_name=\"no sample\")"
   ]
  },
  {
   "cell_type": "markdown",
   "metadata": {},
   "source": [
    "Here, we define a simple function to benchmark the time it takes to insert n points with either numeric or array data type.\n",
    "We will compare both the time used to call ``add_result`` and the time used for the full measurement."
   ]
  },
  {
   "cell_type": "code",
   "execution_count": 4,
   "metadata": {},
   "outputs": [],
   "source": [
    "def insert_data(paramtype, npoints, nreps=1):\n",
    "\n",
    "    meas = Measurement(exp=exp)\n",
    "\n",
    "    x1 = ManualParameter('x1')\n",
    "    x2 = ManualParameter('x2')\n",
    "    x3 = ManualParameter('x3')\n",
    "    y1 = ManualParameter('y1')\n",
    "    y2 = ManualParameter('y2')\n",
    "\n",
    "    meas.register_parameter(x1, paramtype=paramtype)\n",
    "    meas.register_parameter(x2, paramtype=paramtype)\n",
    "    meas.register_parameter(x3, paramtype=paramtype)\n",
    "    meas.register_parameter(y1, setpoints=[x1, x2, x3],\n",
    "                            paramtype=paramtype)\n",
    "    meas.register_parameter(y2, setpoints=[x1, x2, x3],\n",
    "                            paramtype=paramtype)\n",
    "    start = time.perf_counter()\n",
    "    with meas.run() as datasaver:\n",
    "        start_adding = time.perf_counter()\n",
    "        for i in range(nreps):\n",
    "            datasaver.add_result((x1, np.random.rand(npoints)),\n",
    "                                 (x2, np.random.rand(npoints)),\n",
    "                                 (x3, np.random.rand(npoints)),\n",
    "                                 (y1, np.random.rand(npoints)),\n",
    "                                 (y2, np.random.rand(npoints)))\n",
    "        stop_adding = time.perf_counter()\n",
    "        run_id = datasaver.run_id\n",
    "    stop = time.perf_counter()\n",
    "    tot_time = stop - start\n",
    "    add_time = stop_adding - start_adding\n",
    "    return tot_time, add_time, run_id"
   ]
  },
  {
   "cell_type": "markdown",
   "metadata": {},
   "source": [
    "## Comparison between numeric/array data and binary blob"
   ]
  },
  {
   "cell_type": "markdown",
   "metadata": {},
   "source": [
    "### Case1: Short experiment time"
   ]
  },
  {
   "cell_type": "code",
   "execution_count": 5,
   "metadata": {},
   "outputs": [
    {
     "name": "stdout",
     "output_type": "stream",
     "text": [
      "Starting experimental run with id: 1. \n",
      "Starting experimental run with id: 2. \n",
      "Starting experimental run with id: 3. \n",
      "Starting experimental run with id: 4. \n"
     ]
    },
    {
     "name": "stdout",
     "output_type": "stream",
     "text": [
      "Starting experimental run with id: 5. \n"
     ]
    },
    {
     "name": "stdout",
     "output_type": "stream",
     "text": [
      "Starting experimental run with id: 6. \n",
      "Starting experimental run with id: 7. \n"
     ]
    },
    {
     "name": "stdout",
     "output_type": "stream",
     "text": [
      "Starting experimental run with id: 8. \n",
      "Starting experimental run with id: 9. \n"
     ]
    },
    {
     "name": "stdout",
     "output_type": "stream",
     "text": [
      "Starting experimental run with id: 10. \n",
      "Starting experimental run with id: 11. \n"
     ]
    },
    {
     "name": "stdout",
     "output_type": "stream",
     "text": [
      "Starting experimental run with id: 12. \n"
     ]
    },
    {
     "name": "stdout",
     "output_type": "stream",
     "text": [
      "Starting experimental run with id: 13. \n"
     ]
    },
    {
     "name": "stdout",
     "output_type": "stream",
     "text": [
      "Starting experimental run with id: 14. \n"
     ]
    }
   ],
   "source": [
    "sizes = [1,500,1000,2000,3000,4000,5000]\n",
    "t_numeric = []\n",
    "t_numeric_add = []\n",
    "t_array = []\n",
    "t_array_add = []\n",
    "for size in sizes:\n",
    "    tn, tna, run_id_n =  insert_data('numeric', size)\n",
    "    t_numeric.append(tn)\n",
    "    t_numeric_add.append(tna)\n",
    "\n",
    "    ta, taa, run_id_a =  insert_data('array', size)\n",
    "    t_array.append(ta)\n",
    "    t_array_add.append(taa)"
   ]
  },
  {
   "cell_type": "code",
   "execution_count": 6,
   "metadata": {},
   "outputs": [
    {
     "data": {
      "image/png": "[encoded data removed]",
      "text/plain": [
       "<Figure size 432x288 with 1 Axes>"
      ]
     },
     "metadata": {
      "needs_background": "light"
     },
     "output_type": "display_data"
    }
   ],
   "source": [
    "fig, ax = plt.subplots(1,1)\n",
    "ax.plot(sizes, t_numeric, 'o-', label='Inserting row-by-row')\n",
    "ax.plot(sizes, t_numeric_add, 'o-', label='Inserting row-by-row: add_result only')\n",
    "ax.plot(sizes, t_array, 'd-', label='Inserting as binary blob')\n",
    "ax.plot(sizes, t_array_add, 'd-', label='Inserting as binary blob: add_result only')\n",
    "ax.legend()\n",
    "ax.set_xlabel('Array length')\n",
    "ax.set_ylabel('Time (s)')\n",
    "fig.tight_layout()"
   ]
  },
  {
   "cell_type": "markdown",
   "metadata": {},
   "source": [
    "As shown in the latter figure, the time to setup and and close the experiment is approximately 0.4 sec. In case of small array sizes, the difference between inserting values of data as arrays and inserting them row-by-row is relatively unimportant. At larger array sizes, i.e. above 10000 points, the cost of writing data as individual datapoints starts to become important.\n"
   ]
  },
  {
   "cell_type": "markdown",
   "metadata": {},
   "source": [
    "### Case2: Long experiment time "
   ]
  },
  {
   "cell_type": "code",
   "execution_count": 7,
   "metadata": {},
   "outputs": [
    {
     "name": "stdout",
     "output_type": "stream",
     "text": [
      "Starting experimental run with id: 15. \n",
      "Starting experimental run with id: 16. \n",
      "Starting experimental run with id: 17. \n"
     ]
    },
    {
     "name": "stdout",
     "output_type": "stream",
     "text": [
      "Starting experimental run with id: 18. \n",
      "Starting experimental run with id: 19. \n"
     ]
    },
    {
     "name": "stdout",
     "output_type": "stream",
     "text": [
      "Starting experimental run with id: 20. \n"
     ]
    },
    {
     "name": "stdout",
     "output_type": "stream",
     "text": [
      "Starting experimental run with id: 21. \n"
     ]
    },
    {
     "name": "stdout",
     "output_type": "stream",
     "text": [
      "Starting experimental run with id: 22. \n"
     ]
    },
    {
     "name": "stdout",
     "output_type": "stream",
     "text": [
      "Starting experimental run with id: 23. \n"
     ]
    },
    {
     "name": "stdout",
     "output_type": "stream",
     "text": [
      "Starting experimental run with id: 24. \n"
     ]
    },
    {
     "name": "stdout",
     "output_type": "stream",
     "text": [
      "Starting experimental run with id: 25. \n"
     ]
    },
    {
     "name": "stdout",
     "output_type": "stream",
     "text": [
      "Starting experimental run with id: 26. \n"
     ]
    },
    {
     "name": "stdout",
     "output_type": "stream",
     "text": [
      "Starting experimental run with id: 27. \n"
     ]
    },
    {
     "name": "stdout",
     "output_type": "stream",
     "text": [
      "Starting experimental run with id: 28. \n"
     ]
    }
   ],
   "source": [
    "sizes = [1,500,1000,2000,3000,4000,5000]\n",
    "nreps = 100\n",
    "t_numeric = []\n",
    "t_numeric_add = []\n",
    "t_numeric_run_ids = []\n",
    "t_array = []\n",
    "t_array_add = []\n",
    "t_array_run_ids = []\n",
    "for size in sizes:\n",
    "    tn, tna, run_id_n =  insert_data('numeric', size, nreps=nreps)\n",
    "    t_numeric.append(tn)\n",
    "    t_numeric_add.append(tna)\n",
    "    t_numeric_run_ids.append(run_id_n)\n",
    "\n",
    "    ta, taa, run_id_a =  insert_data('array', size, nreps=nreps)\n",
    "    t_array.append(ta)\n",
    "    t_array_add.append(taa)\n",
    "    t_array_run_ids.append(run_id_a)"
   ]
  },
  {
   "cell_type": "code",
   "execution_count": 8,
   "metadata": {
    "scrolled": true
   },
   "outputs": [
    {
     "data": {
      "image/png": "[encoded data removed]",
      "text/plain": [
       "<Figure size 432x288 with 1 Axes>"
      ]
     },
     "metadata": {
      "needs_background": "light"
     },
     "output_type": "display_data"
    }
   ],
   "source": [
    "fig, ax = plt.subplots(1,1)\n",
    "ax.plot(sizes, t_numeric, 'o-', label='Inserting row-by-row')\n",
    "ax.plot(sizes, t_numeric_add, 'o-', label='Inserting row-by-row: add_result only')\n",
    "ax.plot(sizes, t_array, 'd-', label='Inserting as binary blob')\n",
    "ax.plot(sizes, t_array_add, 'd-', label='Inserting as binary blob: add_result only')\n",
    "ax.legend()\n",
    "ax.set_xlabel('Array length')\n",
    "ax.set_ylabel('Time (s)')\n",
    "fig.tight_layout()"
   ]
  },
  {
   "cell_type": "markdown",
   "metadata": {},
   "source": [
    "However, as we increase the length of the experiment, as seen here by repeating the insertion 100 times, we see a big difference between inserting values of the data row-by-row and inserting it as a binary blob."
   ]
  },
  {
   "cell_type": "markdown",
   "metadata": {},
   "source": [
    "## Loading the data "
   ]
  },
  {
   "cell_type": "code",
   "execution_count": 9,
   "metadata": {},
   "outputs": [],
   "source": [
    "from qcodes.dataset.data_set import load_by_id\n",
    "from qcodes.dataset.data_export import get_data_by_id"
   ]
  },
  {
   "cell_type": "markdown",
   "metadata": {},
   "source": [
    "As usual you can load the data by using the ``load_by_id`` function but you will notice that the different storage methods\n",
    "are reflected in shape of the data as it is retrieved. "
   ]
  },
  {
   "cell_type": "code",
   "execution_count": 10,
   "metadata": {},
   "outputs": [],
   "source": [
    "run_id_n = t_numeric_run_ids[0]\n",
    "run_id_a = t_array_run_ids[0]"
   ]
  },
  {
   "cell_type": "code",
   "execution_count": 11,
   "metadata": {
    "scrolled": true
   },
   "outputs": [
    {
     "data": {
      "text/plain": [
       "{'x1': {'x1': array([0.70955974, 0.70955974, 0.88706256, 0.88706256, 0.08953506,\n",
       "         0.08953506, 0.81359353, 0.81359353, 0.40293881, 0.40293881,\n",
       "         0.23587953, 0.23587953, 0.81743827, 0.81743827, 0.48309979,\n",
       "         0.48309979, 0.10427876, 0.10427876, 0.05749395, 0.05749395,\n",
       "         0.91941943, 0.91941943, 0.25461363, 0.25461363, 0.53883071,\n",
       "         0.53883071, 0.36989868, 0.36989868, 0.90294906, 0.90294906,\n",
       "         0.76519946, 0.76519946, 0.66557704, 0.66557704, 0.10561752,\n",
       "         0.10561752, 0.32329385, 0.32329385, 0.15661928, 0.15661928,\n",
       "         0.01746915, 0.01746915, 0.08731123, 0.08731123, 0.76861871,\n",
       "         0.76861871, 0.49240755, 0.49240755, 0.57614737, 0.57614737,\n",
       "         0.6308832 , 0.6308832 , 0.90073028, 0.90073028, 0.00723255,\n",
       "         0.00723255, 0.44693827, 0.44693827, 0.88530891, 0.88530891,\n",
       "         0.54844497, 0.54844497, 0.91587249, 0.91587249, 0.26343651,\n",
       "         0.26343651, 0.77379048, 0.77379048, 0.70675125, 0.70675125,\n",
       "         0.52977915, 0.52977915, 0.72923244, 0.72923244, 0.53127067,\n",
       "         0.53127067, 0.82346404, 0.82346404, 0.15759474, 0.15759474,\n",
       "         0.56158936, 0.56158936, 0.66794069, 0.66794069, 0.78751995,\n",
       "         0.78751995, 0.26928424, 0.26928424, 0.91782381, 0.91782381,\n",
       "         0.82550505, 0.82550505, 0.80070971, 0.80070971, 0.24806175,\n",
       "         0.24806175, 0.62852671, 0.62852671, 0.73858569, 0.73858569,\n",
       "         0.07892997, 0.07892997, 0.97142882, 0.97142882, 0.60337024,\n",
       "         0.60337024, 0.28370657, 0.28370657, 0.37843502, 0.37843502,\n",
       "         0.18706794, 0.18706794, 0.79919317, 0.79919317, 0.8103452 ,\n",
       "         0.8103452 , 0.60765657, 0.60765657, 0.22047936, 0.22047936,\n",
       "         0.87585556, 0.87585556, 0.52099329, 0.52099329, 0.36759254,\n",
       "         0.36759254, 0.88644805, 0.88644805, 0.71572373, 0.71572373,\n",
       "         0.60326135, 0.60326135, 0.39392544, 0.39392544, 0.33592418,\n",
       "         0.33592418, 0.13840344, 0.13840344, 0.94822512, 0.94822512,\n",
       "         0.44770742, 0.44770742, 0.6766452 , 0.6766452 , 0.95364219,\n",
       "         0.95364219, 0.2480345 , 0.2480345 , 0.97766728, 0.97766728,\n",
       "         0.77911559, 0.77911559, 0.73310508, 0.73310508, 0.56287729,\n",
       "         0.56287729, 0.65432516, 0.65432516, 0.06040148, 0.06040148,\n",
       "         0.27498993, 0.27498993, 0.69931285, 0.69931285, 0.74095066,\n",
       "         0.74095066, 0.89983737, 0.89983737, 0.82235039, 0.82235039,\n",
       "         0.01082976, 0.01082976, 0.00143074, 0.00143074, 0.57881735,\n",
       "         0.57881735, 0.38526841, 0.38526841, 0.77895726, 0.77895726,\n",
       "         0.66341587, 0.66341587, 0.05206361, 0.05206361, 0.51155816,\n",
       "         0.51155816, 0.47982769, 0.47982769, 0.30626047, 0.30626047,\n",
       "         0.02502005, 0.02502005, 0.08611694, 0.08611694, 0.31383137,\n",
       "         0.31383137, 0.95601045, 0.95601045, 0.7192214 , 0.7192214 ])}}"
      ]
     },
     "execution_count": 11,
     "metadata": {},
     "output_type": "execute_result"
    }
   ],
   "source": [
    "ds = load_by_id(run_id_n)\n",
    "ds.get_parameter_data('x1')"
   ]
  },
  {
   "cell_type": "markdown",
   "metadata": {},
   "source": [
    "And a dataset stored as binary arrays"
   ]
  },
  {
   "cell_type": "code",
   "execution_count": 12,
   "metadata": {
    "scrolled": true
   },
   "outputs": [
    {
     "data": {
      "text/plain": [
       "{'x1': {'x1': array([[0.82821444],\n",
       "         [0.82821444],\n",
       "         [0.24106977],\n",
       "         [0.24106977],\n",
       "         [0.92135301],\n",
       "         [0.92135301],\n",
       "         [0.29102538],\n",
       "         [0.29102538],\n",
       "         [0.31644106],\n",
       "         [0.31644106],\n",
       "         [0.94351846],\n",
       "         [0.94351846],\n",
       "         [0.76011855],\n",
       "         [0.76011855],\n",
       "         [0.56202513],\n",
       "         [0.56202513],\n",
       "         [0.58800644],\n",
       "         [0.58800644],\n",
       "         [0.70060936],\n",
       "         [0.70060936],\n",
       "         [0.8436971 ],\n",
       "         [0.8436971 ],\n",
       "         [0.55088574],\n",
       "         [0.55088574],\n",
       "         [0.2549358 ],\n",
       "         [0.2549358 ],\n",
       "         [0.04045547],\n",
       "         [0.04045547],\n",
       "         [0.47808786],\n",
       "         [0.47808786],\n",
       "         [0.57536054],\n",
       "         [0.57536054],\n",
       "         [0.86814016],\n",
       "         [0.86814016],\n",
       "         [0.08653698],\n",
       "         [0.08653698],\n",
       "         [0.12600733],\n",
       "         [0.12600733],\n",
       "         [0.66539457],\n",
       "         [0.66539457],\n",
       "         [0.48940304],\n",
       "         [0.48940304],\n",
       "         [0.76693004],\n",
       "         [0.76693004],\n",
       "         [0.72655454],\n",
       "         [0.72655454],\n",
       "         [0.13304599],\n",
       "         [0.13304599],\n",
       "         [0.15226004],\n",
       "         [0.15226004],\n",
       "         [0.92777529],\n",
       "         [0.92777529],\n",
       "         [0.33506146],\n",
       "         [0.33506146],\n",
       "         [0.64552275],\n",
       "         [0.64552275],\n",
       "         [0.70222363],\n",
       "         [0.70222363],\n",
       "         [0.48683125],\n",
       "         [0.48683125],\n",
       "         [0.02844381],\n",
       "         [0.02844381],\n",
       "         [0.64785571],\n",
       "         [0.64785571],\n",
       "         [0.91015511],\n",
       "         [0.91015511],\n",
       "         [0.44706287],\n",
       "         [0.44706287],\n",
       "         [0.74054201],\n",
       "         [0.74054201],\n",
       "         [0.86986549],\n",
       "         [0.86986549],\n",
       "         [0.12536328],\n",
       "         [0.12536328],\n",
       "         [0.23352799],\n",
       "         [0.23352799],\n",
       "         [0.41948623],\n",
       "         [0.41948623],\n",
       "         [0.45877329],\n",
       "         [0.45877329],\n",
       "         [0.02656292],\n",
       "         [0.02656292],\n",
       "         [0.70771649],\n",
       "         [0.70771649],\n",
       "         [0.16157456],\n",
       "         [0.16157456],\n",
       "         [0.23725382],\n",
       "         [0.23725382],\n",
       "         [0.47427357],\n",
       "         [0.47427357],\n",
       "         [0.76732165],\n",
       "         [0.76732165],\n",
       "         [0.95900638],\n",
       "         [0.95900638],\n",
       "         [0.46960239],\n",
       "         [0.46960239],\n",
       "         [0.41176685],\n",
       "         [0.41176685],\n",
       "         [0.95350135],\n",
       "         [0.95350135],\n",
       "         [0.98266025],\n",
       "         [0.98266025],\n",
       "         [0.5147417 ],\n",
       "         [0.5147417 ],\n",
       "         [0.80183375],\n",
       "         [0.80183375],\n",
       "         [0.94977105],\n",
       "         [0.94977105],\n",
       "         [0.801226  ],\n",
       "         [0.801226  ],\n",
       "         [0.69899292],\n",
       "         [0.69899292],\n",
       "         [0.07585547],\n",
       "         [0.07585547],\n",
       "         [0.2969562 ],\n",
       "         [0.2969562 ],\n",
       "         [0.47230796],\n",
       "         [0.47230796],\n",
       "         [0.23097118],\n",
       "         [0.23097118],\n",
       "         [0.09296189],\n",
       "         [0.09296189],\n",
       "         [0.18972046],\n",
       "         [0.18972046],\n",
       "         [0.91345847],\n",
       "         [0.91345847],\n",
       "         [0.51121892],\n",
       "         [0.51121892],\n",
       "         [0.13506858],\n",
       "         [0.13506858],\n",
       "         [0.36021875],\n",
       "         [0.36021875],\n",
       "         [0.25254983],\n",
       "         [0.25254983],\n",
       "         [0.2763347 ],\n",
       "         [0.2763347 ],\n",
       "         [0.57263299],\n",
       "         [0.57263299],\n",
       "         [0.16033938],\n",
       "         [0.16033938],\n",
       "         [0.12557581],\n",
       "         [0.12557581],\n",
       "         [0.52397429],\n",
       "         [0.52397429],\n",
       "         [0.21480965],\n",
       "         [0.21480965],\n",
       "         [0.75874618],\n",
       "         [0.75874618],\n",
       "         [0.09494581],\n",
       "         [0.09494581],\n",
       "         [0.63937557],\n",
       "         [0.63937557],\n",
       "         [0.64400236],\n",
       "         [0.64400236],\n",
       "         [0.08963282],\n",
       "         [0.08963282],\n",
       "         [0.31630748],\n",
       "         [0.31630748],\n",
       "         [0.7018649 ],\n",
       "         [0.7018649 ],\n",
       "         [0.73217349],\n",
       "         [0.73217349],\n",
       "         [0.85677002],\n",
       "         [0.85677002],\n",
       "         [0.38604111],\n",
       "         [0.38604111],\n",
       "         [0.9340427 ],\n",
       "         [0.9340427 ],\n",
       "         [0.37213937],\n",
       "         [0.37213937],\n",
       "         [0.25517227],\n",
       "         [0.25517227],\n",
       "         [0.40553552],\n",
       "         [0.40553552],\n",
       "         [0.84099899],\n",
       "         [0.84099899],\n",
       "         [0.68038601],\n",
       "         [0.68038601],\n",
       "         [0.59921347],\n",
       "         [0.59921347],\n",
       "         [0.98912997],\n",
       "         [0.98912997],\n",
       "         [0.64007531],\n",
       "         [0.64007531],\n",
       "         [0.86397749],\n",
       "         [0.86397749],\n",
       "         [0.94837979],\n",
       "         [0.94837979],\n",
       "         [0.80909183],\n",
       "         [0.80909183],\n",
       "         [0.2150513 ],\n",
       "         [0.2150513 ],\n",
       "         [0.75553177],\n",
       "         [0.75553177],\n",
       "         [0.10856363],\n",
       "         [0.10856363],\n",
       "         [0.02921898],\n",
       "         [0.02921898],\n",
       "         [0.29617308],\n",
       "         [0.29617308]])}}"
      ]
     },
     "execution_count": 12,
     "metadata": {},
     "output_type": "execute_result"
    }
   ],
   "source": [
    "ds = load_by_id(run_id_a)\n",
    "ds.get_parameter_data('x1')"
   ]
  },
  {
   "cell_type": "code",
   "execution_count": null,
   "metadata": {},
   "outputs": [],
   "source": []
  }
 ],
 "metadata": {
  "kernelspec": {
   "display_name": "Python 3",
   "language": "python",
   "name": "python3"
  },
  "language_info": {
   "codemirror_mode": {
    "name": "ipython",
    "version": 3
   },
   "file_extension": ".py",
   "mimetype": "text/x-python",
   "name": "python",
   "nbconvert_exporter": "python",
   "pygments_lexer": "ipython3",
   "version": "3.7.7"
  },
  "nbsphinx": {
   "timeout": 600
  },
  "toc": {
   "base_numbering": 1,
   "nav_menu": {},
   "number_sections": true,
   "sideBar": true,
   "skip_h1_title": false,
   "title_cell": "Table of Contents",
   "title_sidebar": "Contents",
   "toc_cell": false,
   "toc_position": {},
   "toc_section_display": true,
   "toc_window_display": false
  },
  "varInspector": {
   "cols": {
    "lenName": 16,
    "lenType": 16,
    "lenVar": 40
   },
   "kernels_config": {
    "python": {
     "delete_cmd_postfix": "",
     "delete_cmd_prefix": "del ",
     "library": "var_list.py",
     "varRefreshCmd": "print(var_dic_list())"
    },
    "r": {
     "delete_cmd_postfix": ") ",
     "delete_cmd_prefix": "rm(",
     "library": "var_list.r",
     "varRefreshCmd": "cat(var_dic_list()) "
    }
   },
   "types_to_exclude": [
    "module",
    "function",
    "builtin_function_or_method",
    "instance",
    "_Feature"
   ],
   "window_display": false
  }
 },
 "nbformat": 4,
 "nbformat_minor": 2
}
