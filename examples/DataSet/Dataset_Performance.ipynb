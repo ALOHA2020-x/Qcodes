{
 "cells": [
  {
   "cell_type": "markdown",
   "metadata": {},
   "source": [
    "# DataSet Performance\n",
    "\n",
    "This notebook shows the trade-off between inserting data into a database row-by-row and as binary blobs. Inserting the data row-by-row means that we have direct access to all the data and may perform queries directly on the values of the data. On the other hand, as we shall see, this is much slower than inserting the data directly as binary blobs."
   ]
  },
  {
   "cell_type": "markdown",
   "metadata": {},
   "source": [
    "First, we choose a new location for the database to ensure that we don't add a bunch of benchmarking data to the default one."
   ]
  },
  {
   "cell_type": "code",
   "execution_count": 1,
   "metadata": {
    "execution": {
     "iopub.execute_input": "2021-05-12T07:20:36.192264Z",
     "iopub.status.busy": "2021-05-12T07:20:36.191515Z",
     "iopub.status.idle": "2021-05-12T07:20:37.448585Z",
     "shell.execute_reply": "2021-05-12T07:20:37.449026Z"
    }
   },
   "outputs": [
    {
     "name": "stdout",
     "output_type": "stream",
     "text": [
      "Logging hadn't been started.\n",
      "Activating auto-logging. Current session state plus future input saved.\n",
      "Filename       : /home/runner/.qcodes/logs/command_history.log\n",
      "Mode           : append\n",
      "Output logging : True\n",
      "Raw input log  : False\n",
      "Timestamping   : True\n",
      "State          : active\n"
     ]
    },
    {
     "name": "stdout",
     "output_type": "stream",
     "text": [
      "Qcodes Logfile : /home/runner/.qcodes/logs/210512-4699-qcodes.log\n"
     ]
    }
   ],
   "source": [
    "import os\n",
    "cwd = os.getcwd()\n",
    "import qcodes as qc\n",
    "qc.config[\"core\"][\"db_location\"] = os.path.join(cwd, 'testing.db')\n"
   ]
  },
  {
   "cell_type": "code",
   "execution_count": 2,
   "metadata": {
    "execution": {
     "iopub.execute_input": "2021-05-12T07:20:37.456472Z",
     "iopub.status.busy": "2021-05-12T07:20:37.455472Z",
     "iopub.status.idle": "2021-05-12T07:20:37.672107Z",
     "shell.execute_reply": "2021-05-12T07:20:37.671544Z"
    }
   },
   "outputs": [],
   "source": [
    "%matplotlib inline\n",
    "import time\n",
    "import matplotlib.pyplot as plt\n",
    "import numpy as np\n",
    "\n",
    "import qcodes as qc\n",
    "from qcodes.instrument.parameter import ManualParameter\n",
    "from qcodes.dataset.experiment_container import (Experiment,\n",
    "                                                 load_last_experiment,\n",
    "                                                 new_experiment)\n",
    "from qcodes.dataset.sqlite.database import initialise_database\n",
    "from qcodes import load_or_create_experiment\n",
    "from qcodes.dataset.measurements import Measurement"
   ]
  },
  {
   "cell_type": "code",
   "execution_count": 3,
   "metadata": {
    "execution": {
     "iopub.execute_input": "2021-05-12T07:20:37.676493Z",
     "iopub.status.busy": "2021-05-12T07:20:37.675896Z",
     "iopub.status.idle": "2021-05-12T07:20:37.749987Z",
     "shell.execute_reply": "2021-05-12T07:20:37.750479Z"
    }
   },
   "outputs": [
    {
     "name": "stdout",
     "output_type": "stream",
     "text": [
      "\r",
      "0it [00:00, ?it/s]"
     ]
    },
    {
     "name": "stdout",
     "output_type": "stream",
     "text": [
      "\r",
      "Upgrading database; v0 -> v1: : 0it [00:00, ?it/s]"
     ]
    },
    {
     "name": "stdout",
     "output_type": "stream",
     "text": [
      "\r",
      "Upgrading database; v0 -> v1: : 0it [00:00, ?it/s]"
     ]
    },
    {
     "name": "stdout",
     "output_type": "stream",
     "text": [
      "\n",
      "\r",
      "  0%|          | 0/1 [00:00<?, ?it/s]"
     ]
    },
    {
     "name": "stdout",
     "output_type": "stream",
     "text": [
      "\r",
      "Upgrading database; v1 -> v2:   0%|          | 0/1 [00:00<?, ?it/s]"
     ]
    },
    {
     "name": "stdout",
     "output_type": "stream",
     "text": [
      "\r",
      "Upgrading database; v1 -> v2: 100%|██████████| 1/1 [00:00<00:00, 1187.52it/s]"
     ]
    },
    {
     "name": "stdout",
     "output_type": "stream",
     "text": [
      "\n",
      "\r",
      "0it [00:00, ?it/s]"
     ]
    },
    {
     "name": "stdout",
     "output_type": "stream",
     "text": [
      "\r",
      "Upgrading database; v2 -> v3: : 0it [00:00, ?it/s]"
     ]
    },
    {
     "name": "stdout",
     "output_type": "stream",
     "text": [
      "\r",
      "Upgrading database; v2 -> v3: : 0it [00:00, ?it/s]"
     ]
    },
    {
     "name": "stdout",
     "output_type": "stream",
     "text": [
      "\n",
      "\r",
      "0it [00:00, ?it/s]"
     ]
    },
    {
     "name": "stdout",
     "output_type": "stream",
     "text": [
      "\r",
      "Upgrading database; v3 -> v4: : 0it [00:00, ?it/s]"
     ]
    },
    {
     "name": "stdout",
     "output_type": "stream",
     "text": [
      "\r",
      "Upgrading database; v3 -> v4: : 0it [00:00, ?it/s]"
     ]
    },
    {
     "name": "stdout",
     "output_type": "stream",
     "text": [
      "\n",
      "\r",
      "  0%|          | 0/1 [00:00<?, ?it/s]"
     ]
    },
    {
     "name": "stdout",
     "output_type": "stream",
     "text": [
      "\r",
      "Upgrading database; v4 -> v5:   0%|          | 0/1 [00:00<?, ?it/s]"
     ]
    },
    {
     "name": "stdout",
     "output_type": "stream",
     "text": [
      "\r",
      "Upgrading database; v4 -> v5: 100%|██████████| 1/1 [00:00<00:00, 560.96it/s]"
     ]
    },
    {
     "name": "stdout",
     "output_type": "stream",
     "text": [
      "\n",
      "\r",
      "0it [00:00, ?it/s]"
     ]
    },
    {
     "name": "stdout",
     "output_type": "stream",
     "text": [
      "\r",
      "Upgrading database; v5 -> v6: : 0it [00:00, ?it/s]"
     ]
    },
    {
     "name": "stdout",
     "output_type": "stream",
     "text": [
      "\r",
      "Upgrading database; v5 -> v6: : 0it [00:00, ?it/s]"
     ]
    },
    {
     "name": "stdout",
     "output_type": "stream",
     "text": [
      "\n",
      "\r",
      "  0%|          | 0/1 [00:00<?, ?it/s]"
     ]
    },
    {
     "name": "stdout",
     "output_type": "stream",
     "text": [
      "\r",
      "Upgrading database; v6 -> v7:   0%|          | 0/1 [00:00<?, ?it/s]"
     ]
    },
    {
     "name": "stdout",
     "output_type": "stream",
     "text": [
      "\r",
      "Upgrading database; v6 -> v7: 100%|██████████| 1/1 [00:00<00:00, 315.65it/s]"
     ]
    },
    {
     "name": "stdout",
     "output_type": "stream",
     "text": [
      "\n",
      "\r",
      "  0%|          | 0/1 [00:00<?, ?it/s]"
     ]
    },
    {
     "name": "stdout",
     "output_type": "stream",
     "text": [
      "\r",
      "Upgrading database; v7 -> v8:   0%|          | 0/1 [00:00<?, ?it/s]"
     ]
    },
    {
     "name": "stdout",
     "output_type": "stream",
     "text": [
      "\r",
      "Upgrading database; v7 -> v8: 100%|██████████| 1/1 [00:00<00:00, 411.41it/s]"
     ]
    },
    {
     "name": "stdout",
     "output_type": "stream",
     "text": [
      "\n",
      "\r",
      "  0%|          | 0/1 [00:00<?, ?it/s]"
     ]
    },
    {
     "name": "stdout",
     "output_type": "stream",
     "text": [
      "\r",
      "Upgrading database; v8 -> v9:   0%|          | 0/1 [00:00<?, ?it/s]"
     ]
    },
    {
     "name": "stdout",
     "output_type": "stream",
     "text": [
      "\r",
      "Upgrading database; v8 -> v9: 100%|██████████| 1/1 [00:00<00:00, 465.26it/s]"
     ]
    },
    {
     "name": "stdout",
     "output_type": "stream",
     "text": [
      "\n"
     ]
    }
   ],
   "source": [
    "initialise_database()\n",
    "exp = load_or_create_experiment(experiment_name='tutorial_exp', sample_name=\"no sample\")"
   ]
  },
  {
   "cell_type": "markdown",
   "metadata": {},
   "source": [
    "Here, we define a simple function to benchmark the time it takes to insert n points with either numeric or array data type.\n",
    "We will compare both the time used to call ``add_result`` and the time used for the full measurement."
   ]
  },
  {
   "cell_type": "code",
   "execution_count": 4,
   "metadata": {
    "execution": {
     "iopub.execute_input": "2021-05-12T07:20:37.761523Z",
     "iopub.status.busy": "2021-05-12T07:20:37.758621Z",
     "iopub.status.idle": "2021-05-12T07:20:37.763985Z",
     "shell.execute_reply": "2021-05-12T07:20:37.763424Z"
    }
   },
   "outputs": [],
   "source": [
    "def insert_data(paramtype, npoints, nreps=1):\n",
    "\n",
    "    meas = Measurement(exp=exp)\n",
    "\n",
    "    x1 = ManualParameter('x1')\n",
    "    x2 = ManualParameter('x2')\n",
    "    x3 = ManualParameter('x3')\n",
    "    y1 = ManualParameter('y1')\n",
    "    y2 = ManualParameter('y2')\n",
    "\n",
    "    meas.register_parameter(x1, paramtype=paramtype)\n",
    "    meas.register_parameter(x2, paramtype=paramtype)\n",
    "    meas.register_parameter(x3, paramtype=paramtype)\n",
    "    meas.register_parameter(y1, setpoints=[x1, x2, x3],\n",
    "                            paramtype=paramtype)\n",
    "    meas.register_parameter(y2, setpoints=[x1, x2, x3],\n",
    "                            paramtype=paramtype)\n",
    "    start = time.perf_counter()\n",
    "    with meas.run() as datasaver:\n",
    "        start_adding = time.perf_counter()\n",
    "        for i in range(nreps):\n",
    "            datasaver.add_result((x1, np.random.rand(npoints)),\n",
    "                                 (x2, np.random.rand(npoints)),\n",
    "                                 (x3, np.random.rand(npoints)),\n",
    "                                 (y1, np.random.rand(npoints)),\n",
    "                                 (y2, np.random.rand(npoints)))\n",
    "        stop_adding = time.perf_counter()\n",
    "        run_id = datasaver.run_id\n",
    "    stop = time.perf_counter()\n",
    "    tot_time = stop - start\n",
    "    add_time = stop_adding - start_adding\n",
    "    return tot_time, add_time, run_id"
   ]
  },
  {
   "cell_type": "markdown",
   "metadata": {},
   "source": [
    "## Comparison between numeric/array data and binary blob"
   ]
  },
  {
   "cell_type": "markdown",
   "metadata": {},
   "source": [
    "### Case1: Short experiment time"
   ]
  },
  {
   "cell_type": "code",
   "execution_count": 5,
   "metadata": {
    "execution": {
     "iopub.execute_input": "2021-05-12T07:20:37.770613Z",
     "iopub.status.busy": "2021-05-12T07:20:37.769501Z",
     "iopub.status.idle": "2021-05-12T07:20:38.616470Z",
     "shell.execute_reply": "2021-05-12T07:20:38.617320Z"
    }
   },
   "outputs": [
    {
     "name": "stdout",
     "output_type": "stream",
     "text": [
      "Starting experimental run with id: 1. \n",
      "Starting experimental run with id: 2. \n",
      "Starting experimental run with id: 3. \n"
     ]
    },
    {
     "name": "stdout",
     "output_type": "stream",
     "text": [
      "Starting experimental run with id: 4. \n"
     ]
    },
    {
     "name": "stdout",
     "output_type": "stream",
     "text": [
      "Starting experimental run with id: 5. \n"
     ]
    },
    {
     "name": "stdout",
     "output_type": "stream",
     "text": [
      "Starting experimental run with id: 6. \n"
     ]
    },
    {
     "name": "stdout",
     "output_type": "stream",
     "text": [
      "Starting experimental run with id: 7. \n",
      "Starting experimental run with id: 8. \n",
      "Starting experimental run with id: 9. \n"
     ]
    },
    {
     "name": "stdout",
     "output_type": "stream",
     "text": [
      "Starting experimental run with id: 10. \n",
      "Starting experimental run with id: 11. \n",
      "Starting experimental run with id: 12. \n",
      "Starting experimental run with id: 13. \n"
     ]
    },
    {
     "name": "stdout",
     "output_type": "stream",
     "text": [
      "Starting experimental run with id: 14. \n"
     ]
    }
   ],
   "source": [
    "sizes = [1,500,1000,2000,3000,4000,5000]\n",
    "t_numeric = []\n",
    "t_numeric_add = []\n",
    "t_array = []\n",
    "t_array_add = []\n",
    "for size in sizes:\n",
    "    tn, tna, run_id_n =  insert_data('numeric', size)\n",
    "    t_numeric.append(tn)\n",
    "    t_numeric_add.append(tna)\n",
    "\n",
    "    ta, taa, run_id_a =  insert_data('array', size)\n",
    "    t_array.append(ta)\n",
    "    t_array_add.append(taa)"
   ]
  },
  {
   "cell_type": "code",
   "execution_count": 6,
   "metadata": {
    "execution": {
     "iopub.execute_input": "2021-05-12T07:20:38.676256Z",
     "iopub.status.busy": "2021-05-12T07:20:38.654135Z",
     "iopub.status.idle": "2021-05-12T07:20:38.919493Z",
     "shell.execute_reply": "2021-05-12T07:20:38.918880Z"
    }
   },
   "outputs": [
    {
     "data": {
      "image/png": "[encoded data removed]",
      "text/plain": [
       "<Figure size 432x288 with 1 Axes>"
      ]
     },
     "metadata": {
      "needs_background": "light"
     },
     "output_type": "display_data"
    }
   ],
   "source": [
    "fig, ax = plt.subplots(1,1)\n",
    "ax.plot(sizes, t_numeric, 'o-', label='Inserting row-by-row')\n",
    "ax.plot(sizes, t_numeric_add, 'o-', label='Inserting row-by-row: add_result only')\n",
    "ax.plot(sizes, t_array, 'd-', label='Inserting as binary blob')\n",
    "ax.plot(sizes, t_array_add, 'd-', label='Inserting as binary blob: add_result only')\n",
    "ax.legend()\n",
    "ax.set_xlabel('Array length')\n",
    "ax.set_ylabel('Time (s)')\n",
    "fig.tight_layout()"
   ]
  },
  {
   "cell_type": "markdown",
   "metadata": {},
   "source": [
    "As shown in the latter figure, the time to setup and and close the experiment is approximately 0.4 sec. In case of small array sizes, the difference between inserting values of data as arrays and inserting them row-by-row is relatively unimportant. At larger array sizes, i.e. above 10000 points, the cost of writing data as individual datapoints starts to become important.\n"
   ]
  },
  {
   "cell_type": "markdown",
   "metadata": {},
   "source": [
    "### Case2: Long experiment time "
   ]
  },
  {
   "cell_type": "code",
   "execution_count": 7,
   "metadata": {
    "execution": {
     "iopub.execute_input": "2021-05-12T07:20:38.975739Z",
     "iopub.status.busy": "2021-05-12T07:20:38.926369Z",
     "iopub.status.idle": "2021-05-12T07:21:31.643915Z",
     "shell.execute_reply": "2021-05-12T07:21:31.644473Z"
    }
   },
   "outputs": [
    {
     "name": "stdout",
     "output_type": "stream",
     "text": [
      "Starting experimental run with id: 15. \n",
      "Starting experimental run with id: 16. \n"
     ]
    },
    {
     "name": "stdout",
     "output_type": "stream",
     "text": [
      "Starting experimental run with id: 17. \n"
     ]
    },
    {
     "name": "stdout",
     "output_type": "stream",
     "text": [
      "Starting experimental run with id: 18. \n",
      "Starting experimental run with id: 19. \n"
     ]
    },
    {
     "name": "stdout",
     "output_type": "stream",
     "text": [
      "Starting experimental run with id: 20. \n"
     ]
    },
    {
     "name": "stdout",
     "output_type": "stream",
     "text": [
      "Starting experimental run with id: 21. \n"
     ]
    },
    {
     "name": "stdout",
     "output_type": "stream",
     "text": [
      "Starting experimental run with id: 22. \n"
     ]
    },
    {
     "name": "stdout",
     "output_type": "stream",
     "text": [
      "Starting experimental run with id: 23. \n"
     ]
    },
    {
     "name": "stdout",
     "output_type": "stream",
     "text": [
      "Starting experimental run with id: 24. \n"
     ]
    },
    {
     "name": "stdout",
     "output_type": "stream",
     "text": [
      "Starting experimental run with id: 25. \n"
     ]
    },
    {
     "name": "stdout",
     "output_type": "stream",
     "text": [
      "Starting experimental run with id: 26. \n"
     ]
    },
    {
     "name": "stdout",
     "output_type": "stream",
     "text": [
      "Starting experimental run with id: 27. \n"
     ]
    },
    {
     "name": "stdout",
     "output_type": "stream",
     "text": [
      "Starting experimental run with id: 28. \n"
     ]
    }
   ],
   "source": [
    "sizes = [1,500,1000,2000,3000,4000,5000]\n",
    "nreps = 100\n",
    "t_numeric = []\n",
    "t_numeric_add = []\n",
    "t_numeric_run_ids = []\n",
    "t_array = []\n",
    "t_array_add = []\n",
    "t_array_run_ids = []\n",
    "for size in sizes:\n",
    "    tn, tna, run_id_n =  insert_data('numeric', size, nreps=nreps)\n",
    "    t_numeric.append(tn)\n",
    "    t_numeric_add.append(tna)\n",
    "    t_numeric_run_ids.append(run_id_n)\n",
    "\n",
    "    ta, taa, run_id_a =  insert_data('array', size, nreps=nreps)\n",
    "    t_array.append(ta)\n",
    "    t_array_add.append(taa)\n",
    "    t_array_run_ids.append(run_id_a)"
   ]
  },
  {
   "cell_type": "code",
   "execution_count": 8,
   "metadata": {
    "execution": {
     "iopub.execute_input": "2021-05-12T07:21:31.693003Z",
     "iopub.status.busy": "2021-05-12T07:21:31.678814Z",
     "iopub.status.idle": "2021-05-12T07:21:31.910410Z",
     "shell.execute_reply": "2021-05-12T07:21:31.910900Z"
    },
    "scrolled": true
   },
   "outputs": [
    {
     "data": {
      "image/png": "[encoded data removed]",
      "text/plain": [
       "<Figure size 432x288 with 1 Axes>"
      ]
     },
     "metadata": {
      "needs_background": "light"
     },
     "output_type": "display_data"
    }
   ],
   "source": [
    "fig, ax = plt.subplots(1,1)\n",
    "ax.plot(sizes, t_numeric, 'o-', label='Inserting row-by-row')\n",
    "ax.plot(sizes, t_numeric_add, 'o-', label='Inserting row-by-row: add_result only')\n",
    "ax.plot(sizes, t_array, 'd-', label='Inserting as binary blob')\n",
    "ax.plot(sizes, t_array_add, 'd-', label='Inserting as binary blob: add_result only')\n",
    "ax.legend()\n",
    "ax.set_xlabel('Array length')\n",
    "ax.set_ylabel('Time (s)')\n",
    "fig.tight_layout()"
   ]
  },
  {
   "cell_type": "markdown",
   "metadata": {},
   "source": [
    "However, as we increase the length of the experiment, as seen here by repeating the insertion 100 times, we see a big difference between inserting values of the data row-by-row and inserting it as a binary blob."
   ]
  },
  {
   "cell_type": "markdown",
   "metadata": {},
   "source": [
    "## Loading the data "
   ]
  },
  {
   "cell_type": "code",
   "execution_count": 9,
   "metadata": {
    "execution": {
     "iopub.execute_input": "2021-05-12T07:21:31.915627Z",
     "iopub.status.busy": "2021-05-12T07:21:31.914937Z",
     "iopub.status.idle": "2021-05-12T07:21:31.918698Z",
     "shell.execute_reply": "2021-05-12T07:21:31.919207Z"
    }
   },
   "outputs": [],
   "source": [
    "from qcodes.dataset.data_set import load_by_id"
   ]
  },
  {
   "cell_type": "markdown",
   "metadata": {},
   "source": [
    "As usual you can load the data by using the ``load_by_id`` function but you will notice that the different storage methods\n",
    "are reflected in shape of the data as it is retrieved. "
   ]
  },
  {
   "cell_type": "code",
   "execution_count": 10,
   "metadata": {
    "execution": {
     "iopub.execute_input": "2021-05-12T07:21:31.925078Z",
     "iopub.status.busy": "2021-05-12T07:21:31.923528Z",
     "iopub.status.idle": "2021-05-12T07:21:31.925760Z",
     "shell.execute_reply": "2021-05-12T07:21:31.926310Z"
    }
   },
   "outputs": [],
   "source": [
    "run_id_n = t_numeric_run_ids[0]\n",
    "run_id_a = t_array_run_ids[0]"
   ]
  },
  {
   "cell_type": "code",
   "execution_count": 11,
   "metadata": {
    "execution": {
     "iopub.execute_input": "2021-05-12T07:21:31.930932Z",
     "iopub.status.busy": "2021-05-12T07:21:31.930299Z",
     "iopub.status.idle": "2021-05-12T07:21:31.943504Z",
     "shell.execute_reply": "2021-05-12T07:21:31.944062Z"
    },
    "scrolled": true
   },
   "outputs": [
    {
     "data": {
      "text/plain": [
       "{'x1': {'x1': array([0.90324035, 0.90324035, 0.8594999 , 0.8594999 , 0.57637155,\n",
       "         0.57637155, 0.78748158, 0.78748158, 0.57587195, 0.57587195,\n",
       "         0.2741677 , 0.2741677 , 0.52963398, 0.52963398, 0.61862123,\n",
       "         0.61862123, 0.66538794, 0.66538794, 0.11199594, 0.11199594,\n",
       "         0.30678177, 0.30678177, 0.73204658, 0.73204658, 0.01763528,\n",
       "         0.01763528, 0.36265455, 0.36265455, 0.72970461, 0.72970461,\n",
       "         0.22093591, 0.22093591, 0.31953909, 0.31953909, 0.46512712,\n",
       "         0.46512712, 0.58328375, 0.58328375, 0.61785135, 0.61785135,\n",
       "         0.74969557, 0.74969557, 0.00638041, 0.00638041, 0.49829676,\n",
       "         0.49829676, 0.55263021, 0.55263021, 0.04449785, 0.04449785,\n",
       "         0.84143241, 0.84143241, 0.14165999, 0.14165999, 0.30044979,\n",
       "         0.30044979, 0.07378931, 0.07378931, 0.38952348, 0.38952348,\n",
       "         0.85105444, 0.85105444, 0.35694005, 0.35694005, 0.75563847,\n",
       "         0.75563847, 0.53900875, 0.53900875, 0.9381781 , 0.9381781 ,\n",
       "         0.96832493, 0.96832493, 0.96038857, 0.96038857, 0.66638352,\n",
       "         0.66638352, 0.12568962, 0.12568962, 0.67854824, 0.67854824,\n",
       "         0.93834676, 0.93834676, 0.45110085, 0.45110085, 0.41301955,\n",
       "         0.41301955, 0.92351128, 0.92351128, 0.9335716 , 0.9335716 ,\n",
       "         0.62234394, 0.62234394, 0.40455184, 0.40455184, 0.96999665,\n",
       "         0.96999665, 0.25065388, 0.25065388, 0.45257198, 0.45257198,\n",
       "         0.53482115, 0.53482115, 0.81212863, 0.81212863, 0.17999969,\n",
       "         0.17999969, 0.56759851, 0.56759851, 0.90345396, 0.90345396,\n",
       "         0.89021798, 0.89021798, 0.993202  , 0.993202  , 0.70084512,\n",
       "         0.70084512, 0.41487485, 0.41487485, 0.16785366, 0.16785366,\n",
       "         0.43310646, 0.43310646, 0.41234487, 0.41234487, 0.00619477,\n",
       "         0.00619477, 0.52011619, 0.52011619, 0.4541591 , 0.4541591 ,\n",
       "         0.36631691, 0.36631691, 0.65726023, 0.65726023, 0.23559263,\n",
       "         0.23559263, 0.61859518, 0.61859518, 0.05958365, 0.05958365,\n",
       "         0.19765084, 0.19765084, 0.24513384, 0.24513384, 0.19415682,\n",
       "         0.19415682, 0.58478267, 0.58478267, 0.71386342, 0.71386342,\n",
       "         0.8443313 , 0.8443313 , 0.88682034, 0.88682034, 0.60505117,\n",
       "         0.60505117, 0.98036073, 0.98036073, 0.05812299, 0.05812299,\n",
       "         0.71190455, 0.71190455, 0.63377044, 0.63377044, 0.14409161,\n",
       "         0.14409161, 0.81239653, 0.81239653, 0.04476444, 0.04476444,\n",
       "         0.20177547, 0.20177547, 0.68743948, 0.68743948, 0.02187486,\n",
       "         0.02187486, 0.75029639, 0.75029639, 0.65715706, 0.65715706,\n",
       "         0.00973095, 0.00973095, 0.72349357, 0.72349357, 0.02934701,\n",
       "         0.02934701, 0.30654065, 0.30654065, 0.37727938, 0.37727938,\n",
       "         0.68928301, 0.68928301, 0.6615305 , 0.6615305 , 0.64879748,\n",
       "         0.64879748, 0.51267065, 0.51267065, 0.34043526, 0.34043526])}}"
      ]
     },
     "execution_count": 1,
     "metadata": {},
     "output_type": "execute_result"
    }
   ],
   "source": [
    "ds = load_by_id(run_id_n)\n",
    "ds.get_parameter_data('x1')"
   ]
  },
  {
   "cell_type": "markdown",
   "metadata": {},
   "source": [
    "And a dataset stored as binary arrays"
   ]
  },
  {
   "cell_type": "code",
   "execution_count": 12,
   "metadata": {
    "execution": {
     "iopub.execute_input": "2021-05-12T07:21:31.948333Z",
     "iopub.status.busy": "2021-05-12T07:21:31.947627Z",
     "iopub.status.idle": "2021-05-12T07:21:32.016224Z",
     "shell.execute_reply": "2021-05-12T07:21:32.016795Z"
    },
    "scrolled": true
   },
   "outputs": [
    {
     "data": {
      "text/plain": [
       "{'x1': {'x1': array([[0.81594025],\n",
       "         [0.81594025],\n",
       "         [0.37880023],\n",
       "         [0.37880023],\n",
       "         [0.32880952],\n",
       "         [0.32880952],\n",
       "         [0.29939957],\n",
       "         [0.29939957],\n",
       "         [0.16914997],\n",
       "         [0.16914997],\n",
       "         [0.01954713],\n",
       "         [0.01954713],\n",
       "         [0.28263575],\n",
       "         [0.28263575],\n",
       "         [0.83387211],\n",
       "         [0.83387211],\n",
       "         [0.17148479],\n",
       "         [0.17148479],\n",
       "         [0.61135511],\n",
       "         [0.61135511],\n",
       "         [0.63296031],\n",
       "         [0.63296031],\n",
       "         [0.38159156],\n",
       "         [0.38159156],\n",
       "         [0.11180152],\n",
       "         [0.11180152],\n",
       "         [0.86151257],\n",
       "         [0.86151257],\n",
       "         [0.40504974],\n",
       "         [0.40504974],\n",
       "         [0.30434778],\n",
       "         [0.30434778],\n",
       "         [0.18313602],\n",
       "         [0.18313602],\n",
       "         [0.18637949],\n",
       "         [0.18637949],\n",
       "         [0.65638713],\n",
       "         [0.65638713],\n",
       "         [0.52853797],\n",
       "         [0.52853797],\n",
       "         [0.27388495],\n",
       "         [0.27388495],\n",
       "         [0.99219129],\n",
       "         [0.99219129],\n",
       "         [0.77089359],\n",
       "         [0.77089359],\n",
       "         [0.91756341],\n",
       "         [0.91756341],\n",
       "         [0.66852667],\n",
       "         [0.66852667],\n",
       "         [0.29587681],\n",
       "         [0.29587681],\n",
       "         [0.06914646],\n",
       "         [0.06914646],\n",
       "         [0.67953168],\n",
       "         [0.67953168],\n",
       "         [0.34898989],\n",
       "         [0.34898989],\n",
       "         [0.93762127],\n",
       "         [0.93762127],\n",
       "         [0.4733461 ],\n",
       "         [0.4733461 ],\n",
       "         [0.94282321],\n",
       "         [0.94282321],\n",
       "         [0.09543617],\n",
       "         [0.09543617],\n",
       "         [0.97540573],\n",
       "         [0.97540573],\n",
       "         [0.36677498],\n",
       "         [0.36677498],\n",
       "         [0.98564513],\n",
       "         [0.98564513],\n",
       "         [0.45516084],\n",
       "         [0.45516084],\n",
       "         [0.90989903],\n",
       "         [0.90989903],\n",
       "         [0.87268549],\n",
       "         [0.87268549],\n",
       "         [0.60634141],\n",
       "         [0.60634141],\n",
       "         [0.87294006],\n",
       "         [0.87294006],\n",
       "         [0.99589723],\n",
       "         [0.99589723],\n",
       "         [0.62304177],\n",
       "         [0.62304177],\n",
       "         [0.68568785],\n",
       "         [0.68568785],\n",
       "         [0.95196988],\n",
       "         [0.95196988],\n",
       "         [0.29569983],\n",
       "         [0.29569983],\n",
       "         [0.52404141],\n",
       "         [0.52404141],\n",
       "         [0.14033603],\n",
       "         [0.14033603],\n",
       "         [0.77951521],\n",
       "         [0.77951521],\n",
       "         [0.30182649],\n",
       "         [0.30182649],\n",
       "         [0.04850721],\n",
       "         [0.04850721],\n",
       "         [0.48483201],\n",
       "         [0.48483201],\n",
       "         [0.07056651],\n",
       "         [0.07056651],\n",
       "         [0.67111484],\n",
       "         [0.67111484],\n",
       "         [0.20584194],\n",
       "         [0.20584194],\n",
       "         [0.32402237],\n",
       "         [0.32402237],\n",
       "         [0.03040302],\n",
       "         [0.03040302],\n",
       "         [0.40714927],\n",
       "         [0.40714927],\n",
       "         [0.52915772],\n",
       "         [0.52915772],\n",
       "         [0.18539652],\n",
       "         [0.18539652],\n",
       "         [0.85104685],\n",
       "         [0.85104685],\n",
       "         [0.76981519],\n",
       "         [0.76981519],\n",
       "         [0.88320492],\n",
       "         [0.88320492],\n",
       "         [0.19027937],\n",
       "         [0.19027937],\n",
       "         [0.04123144],\n",
       "         [0.04123144],\n",
       "         [0.82150601],\n",
       "         [0.82150601],\n",
       "         [0.69710625],\n",
       "         [0.69710625],\n",
       "         [0.38393994],\n",
       "         [0.38393994],\n",
       "         [0.50204158],\n",
       "         [0.50204158],\n",
       "         [0.10786569],\n",
       "         [0.10786569],\n",
       "         [0.48678139],\n",
       "         [0.48678139],\n",
       "         [0.98128416],\n",
       "         [0.98128416],\n",
       "         [0.68328984],\n",
       "         [0.68328984],\n",
       "         [0.53110048],\n",
       "         [0.53110048],\n",
       "         [0.8020632 ],\n",
       "         [0.8020632 ],\n",
       "         [0.81946897],\n",
       "         [0.81946897],\n",
       "         [0.42276708],\n",
       "         [0.42276708],\n",
       "         [0.31272516],\n",
       "         [0.31272516],\n",
       "         [0.81422564],\n",
       "         [0.81422564],\n",
       "         [0.78066048],\n",
       "         [0.78066048],\n",
       "         [0.46275173],\n",
       "         [0.46275173],\n",
       "         [0.779597  ],\n",
       "         [0.779597  ],\n",
       "         [0.76636649],\n",
       "         [0.76636649],\n",
       "         [0.46835147],\n",
       "         [0.46835147],\n",
       "         [0.88894873],\n",
       "         [0.88894873],\n",
       "         [0.41133022],\n",
       "         [0.41133022],\n",
       "         [0.84940305],\n",
       "         [0.84940305],\n",
       "         [0.73792868],\n",
       "         [0.73792868],\n",
       "         [0.37998527],\n",
       "         [0.37998527],\n",
       "         [0.68745004],\n",
       "         [0.68745004],\n",
       "         [0.86396765],\n",
       "         [0.86396765],\n",
       "         [0.78318492],\n",
       "         [0.78318492],\n",
       "         [0.1712411 ],\n",
       "         [0.1712411 ],\n",
       "         [0.97671635],\n",
       "         [0.97671635],\n",
       "         [0.553983  ],\n",
       "         [0.553983  ],\n",
       "         [0.04733042],\n",
       "         [0.04733042],\n",
       "         [0.91042381],\n",
       "         [0.91042381],\n",
       "         [0.68579144],\n",
       "         [0.68579144],\n",
       "         [0.26649488],\n",
       "         [0.26649488],\n",
       "         [0.17215765],\n",
       "         [0.17215765]])}}"
      ]
     },
     "execution_count": 1,
     "metadata": {},
     "output_type": "execute_result"
    }
   ],
   "source": [
    "ds = load_by_id(run_id_a)\n",
    "ds.get_parameter_data('x1')"
   ]
  },
  {
   "cell_type": "code",
   "execution_count": null,
   "metadata": {},
   "outputs": [],
   "source": []
  }
 ],
 "metadata": {
  "kernelspec": {
   "display_name": "Python 3",
   "language": "python",
   "name": "python3"
  },
  "language_info": {
   "codemirror_mode": {
    "name": "ipython",
    "version": 3
   },
   "file_extension": ".py",
   "mimetype": "text/x-python",
   "name": "python",
   "nbconvert_exporter": "python",
   "pygments_lexer": "ipython3",
   "version": "3.7.10"
  },
  "nbsphinx": {
   "timeout": 600
  },
  "toc": {
   "base_numbering": 1,
   "nav_menu": {},
   "number_sections": true,
   "sideBar": true,
   "skip_h1_title": false,
   "title_cell": "Table of Contents",
   "title_sidebar": "Contents",
   "toc_cell": false,
   "toc_position": {},
   "toc_section_display": true,
   "toc_window_display": false
  },
  "varInspector": {
   "cols": {
    "lenName": 16,
    "lenType": 16,
    "lenVar": 40
   },
   "kernels_config": {
    "python": {
     "delete_cmd_postfix": "",
     "delete_cmd_prefix": "del ",
     "library": "var_list.py",
     "varRefreshCmd": "print(var_dic_list())"
    },
    "r": {
     "delete_cmd_postfix": ") ",
     "delete_cmd_prefix": "rm(",
     "library": "var_list.r",
     "varRefreshCmd": "cat(var_dic_list()) "
    }
   },
   "types_to_exclude": [
    "module",
    "function",
    "builtin_function_or_method",
    "instance",
    "_Feature"
   ],
   "window_display": false
  }
 },
 "nbformat": 4,
 "nbformat_minor": 4
}
