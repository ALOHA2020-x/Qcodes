{
 "cells": [
  {
   "cell_type": "markdown",
   "metadata": {},
   "source": [
    "# DataSet Performance\n",
    "\n",
    "This notebook shows the trade-off between inserting data into a database row-by-row and as binary blobs. Inserting the data row-by-row means that we have direct access to all the data and may perform queries directly on the values of the data. On the other hand, as we shall see, this is much slower than inserting the data directly as binary blobs."
   ]
  },
  {
   "cell_type": "markdown",
   "metadata": {},
   "source": [
    "First, we choose a new location for the database to ensure that we don't add a bunch of benchmarking data to the default one."
   ]
  },
  {
   "cell_type": "code",
   "execution_count": 1,
   "metadata": {
    "execution": {
     "iopub.execute_input": "2021-04-09T08:54:40.419192Z",
     "iopub.status.busy": "2021-04-09T08:54:40.418664Z",
     "iopub.status.idle": "2021-04-09T08:54:41.314275Z",
     "shell.execute_reply": "2021-04-09T08:54:41.314772Z"
    }
   },
   "outputs": [
    {
     "name": "stdout",
     "output_type": "stream",
     "text": [
      "Logging hadn't been started.\n",
      "Activating auto-logging. Current session state plus future input saved.\n",
      "Filename       : /home/runner/.qcodes/logs/command_history.log\n",
      "Mode           : append\n",
      "Output logging : True\n",
      "Raw input log  : False\n",
      "Timestamping   : True\n",
      "State          : active\n"
     ]
    },
    {
     "name": "stdout",
     "output_type": "stream",
     "text": [
      "Qcodes Logfile : /home/runner/.qcodes/logs/210409-4373-qcodes.log\n"
     ]
    }
   ],
   "source": [
    "import os\n",
    "cwd = os.getcwd()\n",
    "import qcodes as qc\n",
    "qc.config[\"core\"][\"db_location\"] = os.path.join(cwd, 'testing.db')\n"
   ]
  },
  {
   "cell_type": "code",
   "execution_count": 2,
   "metadata": {
    "execution": {
     "iopub.execute_input": "2021-04-09T08:54:41.320959Z",
     "iopub.status.busy": "2021-04-09T08:54:41.320386Z",
     "iopub.status.idle": "2021-04-09T08:54:41.539979Z",
     "shell.execute_reply": "2021-04-09T08:54:41.539044Z"
    }
   },
   "outputs": [],
   "source": [
    "%matplotlib inline\n",
    "import time\n",
    "import matplotlib.pyplot as plt\n",
    "import numpy as np\n",
    "\n",
    "import qcodes as qc\n",
    "from qcodes.instrument.parameter import ManualParameter\n",
    "from qcodes.dataset.experiment_container import (Experiment,\n",
    "                                                 load_last_experiment,\n",
    "                                                 new_experiment)\n",
    "from qcodes.dataset.sqlite.database import initialise_database\n",
    "from qcodes import load_or_create_experiment\n",
    "from qcodes.dataset.measurements import Measurement"
   ]
  },
  {
   "cell_type": "code",
   "execution_count": 3,
   "metadata": {
    "execution": {
     "iopub.execute_input": "2021-04-09T08:54:41.544229Z",
     "iopub.status.busy": "2021-04-09T08:54:41.543498Z",
     "iopub.status.idle": "2021-04-09T08:54:41.610919Z",
     "shell.execute_reply": "2021-04-09T08:54:41.610469Z"
    }
   },
   "outputs": [
    {
     "name": "stdout",
     "output_type": "stream",
     "text": [
      "\r",
      "0it [00:00, ?it/s]"
     ]
    },
    {
     "name": "stdout",
     "output_type": "stream",
     "text": [
      "\r",
      "Upgrading database; v0 -> v1: : 0it [00:00, ?it/s]"
     ]
    },
    {
     "name": "stdout",
     "output_type": "stream",
     "text": [
      "\r",
      "Upgrading database; v0 -> v1: : 0it [00:00, ?it/s]"
     ]
    },
    {
     "name": "stdout",
     "output_type": "stream",
     "text": [
      "\n",
      "\r",
      "  0%|          | 0/1 [00:00<?, ?it/s]"
     ]
    },
    {
     "name": "stdout",
     "output_type": "stream",
     "text": [
      "\r",
      "Upgrading database; v1 -> v2:   0%|          | 0/1 [00:00<?, ?it/s]"
     ]
    },
    {
     "name": "stdout",
     "output_type": "stream",
     "text": [
      "\r",
      "Upgrading database; v1 -> v2: 100%|██████████| 1/1 [00:00<00:00, 1339.61it/s]"
     ]
    },
    {
     "name": "stdout",
     "output_type": "stream",
     "text": [
      "\n",
      "\r",
      "0it [00:00, ?it/s]"
     ]
    },
    {
     "name": "stdout",
     "output_type": "stream",
     "text": [
      "\r",
      "Upgrading database; v2 -> v3: : 0it [00:00, ?it/s]"
     ]
    },
    {
     "name": "stdout",
     "output_type": "stream",
     "text": [
      "\r",
      "Upgrading database; v2 -> v3: : 0it [00:00, ?it/s]"
     ]
    },
    {
     "name": "stdout",
     "output_type": "stream",
     "text": [
      "\n",
      "\r",
      "0it [00:00, ?it/s]"
     ]
    },
    {
     "name": "stdout",
     "output_type": "stream",
     "text": [
      "\r",
      "Upgrading database; v3 -> v4: : 0it [00:00, ?it/s]"
     ]
    },
    {
     "name": "stdout",
     "output_type": "stream",
     "text": [
      "\r",
      "Upgrading database; v3 -> v4: : 0it [00:00, ?it/s]"
     ]
    },
    {
     "name": "stdout",
     "output_type": "stream",
     "text": [
      "\n",
      "\r",
      "  0%|          | 0/1 [00:00<?, ?it/s]"
     ]
    },
    {
     "name": "stdout",
     "output_type": "stream",
     "text": [
      "\r",
      "Upgrading database; v4 -> v5:   0%|          | 0/1 [00:00<?, ?it/s]"
     ]
    },
    {
     "name": "stdout",
     "output_type": "stream",
     "text": [
      "\r",
      "Upgrading database; v4 -> v5: 100%|██████████| 1/1 [00:00<00:00, 518.01it/s]"
     ]
    },
    {
     "name": "stdout",
     "output_type": "stream",
     "text": [
      "\n",
      "\r",
      "0it [00:00, ?it/s]"
     ]
    },
    {
     "name": "stdout",
     "output_type": "stream",
     "text": [
      "\r",
      "Upgrading database; v5 -> v6: : 0it [00:00, ?it/s]"
     ]
    },
    {
     "name": "stdout",
     "output_type": "stream",
     "text": [
      "\r",
      "Upgrading database; v5 -> v6: : 0it [00:00, ?it/s]"
     ]
    },
    {
     "name": "stdout",
     "output_type": "stream",
     "text": [
      "\n",
      "\r",
      "  0%|          | 0/1 [00:00<?, ?it/s]"
     ]
    },
    {
     "name": "stdout",
     "output_type": "stream",
     "text": [
      "\r",
      "Upgrading database; v6 -> v7:   0%|          | 0/1 [00:00<?, ?it/s]"
     ]
    },
    {
     "name": "stdout",
     "output_type": "stream",
     "text": [
      "\r",
      "Upgrading database; v6 -> v7: 100%|██████████| 1/1 [00:00<00:00, 331.70it/s]"
     ]
    },
    {
     "name": "stdout",
     "output_type": "stream",
     "text": [
      "\n",
      "\r",
      "  0%|          | 0/1 [00:00<?, ?it/s]"
     ]
    },
    {
     "name": "stdout",
     "output_type": "stream",
     "text": [
      "\r",
      "Upgrading database; v7 -> v8:   0%|          | 0/1 [00:00<?, ?it/s]"
     ]
    },
    {
     "name": "stdout",
     "output_type": "stream",
     "text": [
      "\r",
      "Upgrading database; v7 -> v8: 100%|██████████| 1/1 [00:00<00:00, 479.73it/s]"
     ]
    },
    {
     "name": "stdout",
     "output_type": "stream",
     "text": [
      "\n",
      "\r",
      "  0%|          | 0/1 [00:00<?, ?it/s]"
     ]
    },
    {
     "name": "stdout",
     "output_type": "stream",
     "text": [
      "\r",
      "Upgrading database; v8 -> v9:   0%|          | 0/1 [00:00<?, ?it/s]"
     ]
    },
    {
     "name": "stdout",
     "output_type": "stream",
     "text": [
      "\r",
      "Upgrading database; v8 -> v9: 100%|██████████| 1/1 [00:00<00:00, 496.54it/s]"
     ]
    },
    {
     "name": "stdout",
     "output_type": "stream",
     "text": [
      "\n"
     ]
    }
   ],
   "source": [
    "initialise_database()\n",
    "exp = load_or_create_experiment(experiment_name='tutorial_exp', sample_name=\"no sample\")"
   ]
  },
  {
   "cell_type": "markdown",
   "metadata": {},
   "source": [
    "Here, we define a simple function to benchmark the time it takes to insert n points with either numeric or array data type.\n",
    "We will compare both the time used to call ``add_result`` and the time used for the full measurement."
   ]
  },
  {
   "cell_type": "code",
   "execution_count": 4,
   "metadata": {
    "execution": {
     "iopub.execute_input": "2021-04-09T08:54:41.619010Z",
     "iopub.status.busy": "2021-04-09T08:54:41.618478Z",
     "iopub.status.idle": "2021-04-09T08:54:41.621069Z",
     "shell.execute_reply": "2021-04-09T08:54:41.621483Z"
    }
   },
   "outputs": [],
   "source": [
    "def insert_data(paramtype, npoints, nreps=1):\n",
    "\n",
    "    meas = Measurement(exp=exp)\n",
    "\n",
    "    x1 = ManualParameter('x1')\n",
    "    x2 = ManualParameter('x2')\n",
    "    x3 = ManualParameter('x3')\n",
    "    y1 = ManualParameter('y1')\n",
    "    y2 = ManualParameter('y2')\n",
    "\n",
    "    meas.register_parameter(x1, paramtype=paramtype)\n",
    "    meas.register_parameter(x2, paramtype=paramtype)\n",
    "    meas.register_parameter(x3, paramtype=paramtype)\n",
    "    meas.register_parameter(y1, setpoints=[x1, x2, x3],\n",
    "                            paramtype=paramtype)\n",
    "    meas.register_parameter(y2, setpoints=[x1, x2, x3],\n",
    "                            paramtype=paramtype)\n",
    "    start = time.perf_counter()\n",
    "    with meas.run() as datasaver:\n",
    "        start_adding = time.perf_counter()\n",
    "        for i in range(nreps):\n",
    "            datasaver.add_result((x1, np.random.rand(npoints)),\n",
    "                                 (x2, np.random.rand(npoints)),\n",
    "                                 (x3, np.random.rand(npoints)),\n",
    "                                 (y1, np.random.rand(npoints)),\n",
    "                                 (y2, np.random.rand(npoints)))\n",
    "        stop_adding = time.perf_counter()\n",
    "        run_id = datasaver.run_id\n",
    "    stop = time.perf_counter()\n",
    "    tot_time = stop - start\n",
    "    add_time = stop_adding - start_adding\n",
    "    return tot_time, add_time, run_id"
   ]
  },
  {
   "cell_type": "markdown",
   "metadata": {},
   "source": [
    "## Comparison between numeric/array data and binary blob"
   ]
  },
  {
   "cell_type": "markdown",
   "metadata": {},
   "source": [
    "### Case1: Short experiment time"
   ]
  },
  {
   "cell_type": "code",
   "execution_count": 5,
   "metadata": {
    "execution": {
     "iopub.execute_input": "2021-04-09T08:54:41.627519Z",
     "iopub.status.busy": "2021-04-09T08:54:41.626094Z",
     "iopub.status.idle": "2021-04-09T08:54:42.331228Z",
     "shell.execute_reply": "2021-04-09T08:54:42.331631Z"
    }
   },
   "outputs": [
    {
     "name": "stdout",
     "output_type": "stream",
     "text": [
      "Starting experimental run with id: 1. \n",
      "Starting experimental run with id: 2. \n",
      "Starting experimental run with id: 3. \n",
      "Starting experimental run with id: 4. \n",
      "Starting experimental run with id: 5. \n",
      "Starting experimental run with id: 6. \n"
     ]
    },
    {
     "name": "stdout",
     "output_type": "stream",
     "text": [
      "Starting experimental run with id: 7. \n"
     ]
    },
    {
     "name": "stdout",
     "output_type": "stream",
     "text": [
      "Starting experimental run with id: 8. \n"
     ]
    },
    {
     "name": "stdout",
     "output_type": "stream",
     "text": [
      "Starting experimental run with id: 9. \n",
      "Starting experimental run with id: 10. \n"
     ]
    },
    {
     "name": "stdout",
     "output_type": "stream",
     "text": [
      "Starting experimental run with id: 11. \n"
     ]
    },
    {
     "name": "stdout",
     "output_type": "stream",
     "text": [
      "Starting experimental run with id: 12. \n",
      "Starting experimental run with id: 13. \n"
     ]
    },
    {
     "name": "stdout",
     "output_type": "stream",
     "text": [
      "Starting experimental run with id: 14. \n"
     ]
    }
   ],
   "source": [
    "sizes = [1,500,1000,2000,3000,4000,5000]\n",
    "t_numeric = []\n",
    "t_numeric_add = []\n",
    "t_array = []\n",
    "t_array_add = []\n",
    "for size in sizes:\n",
    "    tn, tna, run_id_n =  insert_data('numeric', size)\n",
    "    t_numeric.append(tn)\n",
    "    t_numeric_add.append(tna)\n",
    "\n",
    "    ta, taa, run_id_a =  insert_data('array', size)\n",
    "    t_array.append(ta)\n",
    "    t_array_add.append(taa)"
   ]
  },
  {
   "cell_type": "code",
   "execution_count": 6,
   "metadata": {
    "execution": {
     "iopub.execute_input": "2021-04-09T08:54:42.348233Z",
     "iopub.status.busy": "2021-04-09T08:54:42.347736Z",
     "iopub.status.idle": "2021-04-09T08:54:42.523876Z",
     "shell.execute_reply": "2021-04-09T08:54:42.524277Z"
    }
   },
   "outputs": [
    {
     "data": {
      "image/png": "[encoded data removed]",
      "text/plain": [
       "<Figure size 432x288 with 1 Axes>"
      ]
     },
     "metadata": {
      "needs_background": "light"
     },
     "output_type": "display_data"
    }
   ],
   "source": [
    "fig, ax = plt.subplots(1,1)\n",
    "ax.plot(sizes, t_numeric, 'o-', label='Inserting row-by-row')\n",
    "ax.plot(sizes, t_numeric_add, 'o-', label='Inserting row-by-row: add_result only')\n",
    "ax.plot(sizes, t_array, 'd-', label='Inserting as binary blob')\n",
    "ax.plot(sizes, t_array_add, 'd-', label='Inserting as binary blob: add_result only')\n",
    "ax.legend()\n",
    "ax.set_xlabel('Array length')\n",
    "ax.set_ylabel('Time (s)')\n",
    "fig.tight_layout()"
   ]
  },
  {
   "cell_type": "markdown",
   "metadata": {},
   "source": [
    "As shown in the latter figure, the time to setup and and close the experiment is approximately 0.4 sec. In case of small array sizes, the difference between inserting values of data as arrays and inserting them row-by-row is relatively unimportant. At larger array sizes, i.e. above 10000 points, the cost of writing data as individual datapoints starts to become important.\n"
   ]
  },
  {
   "cell_type": "markdown",
   "metadata": {},
   "source": [
    "### Case2: Long experiment time "
   ]
  },
  {
   "cell_type": "code",
   "execution_count": 7,
   "metadata": {
    "execution": {
     "iopub.execute_input": "2021-04-09T08:54:42.530114Z",
     "iopub.status.busy": "2021-04-09T08:54:42.529616Z",
     "iopub.status.idle": "2021-04-09T08:55:32.282250Z",
     "shell.execute_reply": "2021-04-09T08:55:32.281705Z"
    }
   },
   "outputs": [
    {
     "name": "stdout",
     "output_type": "stream",
     "text": [
      "Starting experimental run with id: 15. \n",
      "Starting experimental run with id: 16. \n",
      "Starting experimental run with id: 17. \n"
     ]
    },
    {
     "name": "stdout",
     "output_type": "stream",
     "text": [
      "Starting experimental run with id: 18. \n",
      "Starting experimental run with id: 19. \n"
     ]
    },
    {
     "name": "stdout",
     "output_type": "stream",
     "text": [
      "Starting experimental run with id: 20. \n"
     ]
    },
    {
     "name": "stdout",
     "output_type": "stream",
     "text": [
      "Starting experimental run with id: 21. \n"
     ]
    },
    {
     "name": "stdout",
     "output_type": "stream",
     "text": [
      "Starting experimental run with id: 22. \n"
     ]
    },
    {
     "name": "stdout",
     "output_type": "stream",
     "text": [
      "Starting experimental run with id: 23. \n"
     ]
    },
    {
     "name": "stdout",
     "output_type": "stream",
     "text": [
      "Starting experimental run with id: 24. \n"
     ]
    },
    {
     "name": "stdout",
     "output_type": "stream",
     "text": [
      "Starting experimental run with id: 25. \n"
     ]
    },
    {
     "name": "stdout",
     "output_type": "stream",
     "text": [
      "Starting experimental run with id: 26. \n"
     ]
    },
    {
     "name": "stdout",
     "output_type": "stream",
     "text": [
      "Starting experimental run with id: 27. \n"
     ]
    },
    {
     "name": "stdout",
     "output_type": "stream",
     "text": [
      "Starting experimental run with id: 28. \n"
     ]
    }
   ],
   "source": [
    "sizes = [1,500,1000,2000,3000,4000,5000]\n",
    "nreps = 100\n",
    "t_numeric = []\n",
    "t_numeric_add = []\n",
    "t_numeric_run_ids = []\n",
    "t_array = []\n",
    "t_array_add = []\n",
    "t_array_run_ids = []\n",
    "for size in sizes:\n",
    "    tn, tna, run_id_n =  insert_data('numeric', size, nreps=nreps)\n",
    "    t_numeric.append(tn)\n",
    "    t_numeric_add.append(tna)\n",
    "    t_numeric_run_ids.append(run_id_n)\n",
    "\n",
    "    ta, taa, run_id_a =  insert_data('array', size, nreps=nreps)\n",
    "    t_array.append(ta)\n",
    "    t_array_add.append(taa)\n",
    "    t_array_run_ids.append(run_id_a)"
   ]
  },
  {
   "cell_type": "code",
   "execution_count": 8,
   "metadata": {
    "execution": {
     "iopub.execute_input": "2021-04-09T08:55:32.320434Z",
     "iopub.status.busy": "2021-04-09T08:55:32.307406Z",
     "iopub.status.idle": "2021-04-09T08:55:32.444976Z",
     "shell.execute_reply": "2021-04-09T08:55:32.445481Z"
    },
    "scrolled": true
   },
   "outputs": [
    {
     "data": {
      "image/png": "[encoded data removed]",
      "text/plain": [
       "<Figure size 432x288 with 1 Axes>"
      ]
     },
     "metadata": {
      "needs_background": "light"
     },
     "output_type": "display_data"
    }
   ],
   "source": [
    "fig, ax = plt.subplots(1,1)\n",
    "ax.plot(sizes, t_numeric, 'o-', label='Inserting row-by-row')\n",
    "ax.plot(sizes, t_numeric_add, 'o-', label='Inserting row-by-row: add_result only')\n",
    "ax.plot(sizes, t_array, 'd-', label='Inserting as binary blob')\n",
    "ax.plot(sizes, t_array_add, 'd-', label='Inserting as binary blob: add_result only')\n",
    "ax.legend()\n",
    "ax.set_xlabel('Array length')\n",
    "ax.set_ylabel('Time (s)')\n",
    "fig.tight_layout()"
   ]
  },
  {
   "cell_type": "markdown",
   "metadata": {},
   "source": [
    "However, as we increase the length of the experiment, as seen here by repeating the insertion 100 times, we see a big difference between inserting values of the data row-by-row and inserting it as a binary blob."
   ]
  },
  {
   "cell_type": "markdown",
   "metadata": {},
   "source": [
    "## Loading the data "
   ]
  },
  {
   "cell_type": "code",
   "execution_count": 9,
   "metadata": {
    "execution": {
     "iopub.execute_input": "2021-04-09T08:55:32.447964Z",
     "iopub.status.busy": "2021-04-09T08:55:32.447479Z",
     "iopub.status.idle": "2021-04-09T08:55:32.450712Z",
     "shell.execute_reply": "2021-04-09T08:55:32.451233Z"
    }
   },
   "outputs": [],
   "source": [
    "from qcodes.dataset.data_set import load_by_id\n",
    "from qcodes.dataset.data_export import get_data_by_id"
   ]
  },
  {
   "cell_type": "markdown",
   "metadata": {},
   "source": [
    "As usual you can load the data by using the ``load_by_id`` function but you will notice that the different storage methods\n",
    "are reflected in shape of the data as it is retrieved. "
   ]
  },
  {
   "cell_type": "code",
   "execution_count": 10,
   "metadata": {
    "execution": {
     "iopub.execute_input": "2021-04-09T08:55:32.454829Z",
     "iopub.status.busy": "2021-04-09T08:55:32.454324Z",
     "iopub.status.idle": "2021-04-09T08:55:32.455837Z",
     "shell.execute_reply": "2021-04-09T08:55:32.456243Z"
    }
   },
   "outputs": [],
   "source": [
    "run_id_n = t_numeric_run_ids[0]\n",
    "run_id_a = t_array_run_ids[0]"
   ]
  },
  {
   "cell_type": "code",
   "execution_count": 11,
   "metadata": {
    "execution": {
     "iopub.execute_input": "2021-04-09T08:55:32.459193Z",
     "iopub.status.busy": "2021-04-09T08:55:32.458677Z",
     "iopub.status.idle": "2021-04-09T08:55:32.467384Z",
     "shell.execute_reply": "2021-04-09T08:55:32.466938Z"
    },
    "scrolled": true
   },
   "outputs": [
    {
     "data": {
      "text/plain": [
       "{'x1': {'x1': array([0.95838992, 0.95838992, 0.68527911, 0.68527911, 0.90387537,\n",
       "         0.90387537, 0.20007639, 0.20007639, 0.3359182 , 0.3359182 ,\n",
       "         0.40003254, 0.40003254, 0.22371702, 0.22371702, 0.57271445,\n",
       "         0.57271445, 0.61454714, 0.61454714, 0.56093757, 0.56093757,\n",
       "         0.23868151, 0.23868151, 0.37310025, 0.37310025, 0.0632172 ,\n",
       "         0.0632172 , 0.60695723, 0.60695723, 0.63547112, 0.63547112,\n",
       "         0.54437201, 0.54437201, 0.0010602 , 0.0010602 , 0.14064806,\n",
       "         0.14064806, 0.19722816, 0.19722816, 0.08286285, 0.08286285,\n",
       "         0.00128772, 0.00128772, 0.31229027, 0.31229027, 0.33382794,\n",
       "         0.33382794, 0.7266632 , 0.7266632 , 0.28705906, 0.28705906,\n",
       "         0.62217994, 0.62217994, 0.55688624, 0.55688624, 0.47842202,\n",
       "         0.47842202, 0.01807632, 0.01807632, 0.9178797 , 0.9178797 ,\n",
       "         0.47274278, 0.47274278, 0.74521291, 0.74521291, 0.7148003 ,\n",
       "         0.7148003 , 0.24585913, 0.24585913, 0.87578243, 0.87578243,\n",
       "         0.28913119, 0.28913119, 0.4176563 , 0.4176563 , 0.32752967,\n",
       "         0.32752967, 0.08219699, 0.08219699, 0.1688955 , 0.1688955 ,\n",
       "         0.50116908, 0.50116908, 0.4651674 , 0.4651674 , 0.28273812,\n",
       "         0.28273812, 0.5030283 , 0.5030283 , 0.63731285, 0.63731285,\n",
       "         0.29582023, 0.29582023, 0.07671793, 0.07671793, 0.96890733,\n",
       "         0.96890733, 0.48629439, 0.48629439, 0.77603342, 0.77603342,\n",
       "         0.11729157, 0.11729157, 0.96795641, 0.96795641, 0.07031448,\n",
       "         0.07031448, 0.0823845 , 0.0823845 , 0.88374293, 0.88374293,\n",
       "         0.15691614, 0.15691614, 0.22971783, 0.22971783, 0.57549897,\n",
       "         0.57549897, 0.71703056, 0.71703056, 0.05533294, 0.05533294,\n",
       "         0.83084034, 0.83084034, 0.17430678, 0.17430678, 0.37979755,\n",
       "         0.37979755, 0.23427423, 0.23427423, 0.39762752, 0.39762752,\n",
       "         0.78528078, 0.78528078, 0.23977276, 0.23977276, 0.79057428,\n",
       "         0.79057428, 0.12245232, 0.12245232, 0.05039054, 0.05039054,\n",
       "         0.69657405, 0.69657405, 0.75313784, 0.75313784, 0.46079399,\n",
       "         0.46079399, 0.19896151, 0.19896151, 0.13177475, 0.13177475,\n",
       "         0.20813528, 0.20813528, 0.90992109, 0.90992109, 0.72764334,\n",
       "         0.72764334, 0.54012234, 0.54012234, 0.93284635, 0.93284635,\n",
       "         0.38039258, 0.38039258, 0.52830532, 0.52830532, 0.04713551,\n",
       "         0.04713551, 0.69452676, 0.69452676, 0.16489577, 0.16489577,\n",
       "         0.82799729, 0.82799729, 0.32416145, 0.32416145, 0.30364618,\n",
       "         0.30364618, 0.02311775, 0.02311775, 0.61974232, 0.61974232,\n",
       "         0.76421116, 0.76421116, 0.93170136, 0.93170136, 0.43538305,\n",
       "         0.43538305, 0.12973894, 0.12973894, 0.6294908 , 0.6294908 ,\n",
       "         0.48694384, 0.48694384, 0.50337706, 0.50337706, 0.70557723,\n",
       "         0.70557723, 0.80279515, 0.80279515, 0.36945613, 0.36945613])}}"
      ]
     },
     "execution_count": 1,
     "metadata": {},
     "output_type": "execute_result"
    }
   ],
   "source": [
    "ds = load_by_id(run_id_n)\n",
    "ds.get_parameter_data('x1')"
   ]
  },
  {
   "cell_type": "markdown",
   "metadata": {},
   "source": [
    "And a dataset stored as binary arrays"
   ]
  },
  {
   "cell_type": "code",
   "execution_count": 12,
   "metadata": {
    "execution": {
     "iopub.execute_input": "2021-04-09T08:55:32.470333Z",
     "iopub.status.busy": "2021-04-09T08:55:32.469842Z",
     "iopub.status.idle": "2021-04-09T08:55:32.518710Z",
     "shell.execute_reply": "2021-04-09T08:55:32.519236Z"
    },
    "scrolled": true
   },
   "outputs": [
    {
     "data": {
      "text/plain": [
       "{'x1': {'x1': array([[1.41506539e-01],\n",
       "         [1.41506539e-01],\n",
       "         [6.15197878e-02],\n",
       "         [6.15197878e-02],\n",
       "         [4.00046931e-01],\n",
       "         [4.00046931e-01],\n",
       "         [4.93676445e-02],\n",
       "         [4.93676445e-02],\n",
       "         [9.80495285e-01],\n",
       "         [9.80495285e-01],\n",
       "         [8.54728868e-01],\n",
       "         [8.54728868e-01],\n",
       "         [1.45441162e-01],\n",
       "         [1.45441162e-01],\n",
       "         [6.15297475e-02],\n",
       "         [6.15297475e-02],\n",
       "         [9.57534960e-01],\n",
       "         [9.57534960e-01],\n",
       "         [7.67633272e-01],\n",
       "         [7.67633272e-01],\n",
       "         [4.22831471e-01],\n",
       "         [4.22831471e-01],\n",
       "         [9.50565970e-01],\n",
       "         [9.50565970e-01],\n",
       "         [2.85686892e-01],\n",
       "         [2.85686892e-01],\n",
       "         [8.26762566e-01],\n",
       "         [8.26762566e-01],\n",
       "         [1.54891327e-01],\n",
       "         [1.54891327e-01],\n",
       "         [9.02991376e-02],\n",
       "         [9.02991376e-02],\n",
       "         [7.55162934e-01],\n",
       "         [7.55162934e-01],\n",
       "         [6.05390323e-01],\n",
       "         [6.05390323e-01],\n",
       "         [9.60734619e-02],\n",
       "         [9.60734619e-02],\n",
       "         [5.08563722e-01],\n",
       "         [5.08563722e-01],\n",
       "         [7.39896157e-01],\n",
       "         [7.39896157e-01],\n",
       "         [1.51352111e-01],\n",
       "         [1.51352111e-01],\n",
       "         [6.97057551e-01],\n",
       "         [6.97057551e-01],\n",
       "         [2.50036732e-01],\n",
       "         [2.50036732e-01],\n",
       "         [3.40652318e-01],\n",
       "         [3.40652318e-01],\n",
       "         [4.20592655e-01],\n",
       "         [4.20592655e-01],\n",
       "         [7.47777304e-01],\n",
       "         [7.47777304e-01],\n",
       "         [7.52895348e-01],\n",
       "         [7.52895348e-01],\n",
       "         [3.78485702e-01],\n",
       "         [3.78485702e-01],\n",
       "         [6.70555587e-01],\n",
       "         [6.70555587e-01],\n",
       "         [5.34151374e-01],\n",
       "         [5.34151374e-01],\n",
       "         [4.59157494e-01],\n",
       "         [4.59157494e-01],\n",
       "         [7.48149885e-01],\n",
       "         [7.48149885e-01],\n",
       "         [9.20335164e-01],\n",
       "         [9.20335164e-01],\n",
       "         [4.58845183e-01],\n",
       "         [4.58845183e-01],\n",
       "         [8.13482536e-01],\n",
       "         [8.13482536e-01],\n",
       "         [4.82982061e-01],\n",
       "         [4.82982061e-01],\n",
       "         [8.07553714e-02],\n",
       "         [8.07553714e-02],\n",
       "         [4.16862397e-02],\n",
       "         [4.16862397e-02],\n",
       "         [8.37473651e-01],\n",
       "         [8.37473651e-01],\n",
       "         [9.55664087e-01],\n",
       "         [9.55664087e-01],\n",
       "         [4.57407166e-01],\n",
       "         [4.57407166e-01],\n",
       "         [1.63678457e-01],\n",
       "         [1.63678457e-01],\n",
       "         [7.40618101e-01],\n",
       "         [7.40618101e-01],\n",
       "         [3.67121643e-02],\n",
       "         [3.67121643e-02],\n",
       "         [4.80694737e-01],\n",
       "         [4.80694737e-01],\n",
       "         [4.80835820e-01],\n",
       "         [4.80835820e-01],\n",
       "         [3.11753176e-02],\n",
       "         [3.11753176e-02],\n",
       "         [2.11126233e-01],\n",
       "         [2.11126233e-01],\n",
       "         [3.83489032e-01],\n",
       "         [3.83489032e-01],\n",
       "         [1.64631205e-01],\n",
       "         [1.64631205e-01],\n",
       "         [3.79529489e-01],\n",
       "         [3.79529489e-01],\n",
       "         [4.45902227e-01],\n",
       "         [4.45902227e-01],\n",
       "         [6.14284842e-01],\n",
       "         [6.14284842e-01],\n",
       "         [3.93810992e-03],\n",
       "         [3.93810992e-03],\n",
       "         [2.15578650e-01],\n",
       "         [2.15578650e-01],\n",
       "         [5.02592632e-01],\n",
       "         [5.02592632e-01],\n",
       "         [6.56340188e-01],\n",
       "         [6.56340188e-01],\n",
       "         [6.34025718e-01],\n",
       "         [6.34025718e-01],\n",
       "         [2.79444156e-01],\n",
       "         [2.79444156e-01],\n",
       "         [8.09742147e-01],\n",
       "         [8.09742147e-01],\n",
       "         [5.68183076e-03],\n",
       "         [5.68183076e-03],\n",
       "         [7.59099951e-01],\n",
       "         [7.59099951e-01],\n",
       "         [3.68523678e-01],\n",
       "         [3.68523678e-01],\n",
       "         [5.93753858e-01],\n",
       "         [5.93753858e-01],\n",
       "         [8.90355284e-01],\n",
       "         [8.90355284e-01],\n",
       "         [9.55120196e-01],\n",
       "         [9.55120196e-01],\n",
       "         [4.99934526e-01],\n",
       "         [4.99934526e-01],\n",
       "         [4.13280602e-01],\n",
       "         [4.13280602e-01],\n",
       "         [6.54763804e-01],\n",
       "         [6.54763804e-01],\n",
       "         [9.22045726e-01],\n",
       "         [9.22045726e-01],\n",
       "         [2.97658969e-01],\n",
       "         [2.97658969e-01],\n",
       "         [3.92739608e-01],\n",
       "         [3.92739608e-01],\n",
       "         [4.26979300e-01],\n",
       "         [4.26979300e-01],\n",
       "         [6.17105571e-01],\n",
       "         [6.17105571e-01],\n",
       "         [7.67854413e-01],\n",
       "         [7.67854413e-01],\n",
       "         [4.54415834e-01],\n",
       "         [4.54415834e-01],\n",
       "         [2.44043014e-01],\n",
       "         [2.44043014e-01],\n",
       "         [4.91645930e-01],\n",
       "         [4.91645930e-01],\n",
       "         [6.98168777e-01],\n",
       "         [6.98168777e-01],\n",
       "         [5.67046665e-01],\n",
       "         [5.67046665e-01],\n",
       "         [3.92967786e-01],\n",
       "         [3.92967786e-01],\n",
       "         [4.28485171e-01],\n",
       "         [4.28485171e-01],\n",
       "         [6.16808973e-01],\n",
       "         [6.16808973e-01],\n",
       "         [7.33187851e-01],\n",
       "         [7.33187851e-01],\n",
       "         [2.58505078e-01],\n",
       "         [2.58505078e-01],\n",
       "         [8.27692410e-01],\n",
       "         [8.27692410e-01],\n",
       "         [8.05794415e-02],\n",
       "         [8.05794415e-02],\n",
       "         [4.78464079e-01],\n",
       "         [4.78464079e-01],\n",
       "         [1.48344506e-04],\n",
       "         [1.48344506e-04],\n",
       "         [4.26947965e-01],\n",
       "         [4.26947965e-01],\n",
       "         [7.68165664e-01],\n",
       "         [7.68165664e-01],\n",
       "         [4.40442559e-02],\n",
       "         [4.40442559e-02],\n",
       "         [4.45159939e-01],\n",
       "         [4.45159939e-01],\n",
       "         [4.42399699e-01],\n",
       "         [4.42399699e-01],\n",
       "         [5.55616170e-01],\n",
       "         [5.55616170e-01],\n",
       "         [7.34203697e-01],\n",
       "         [7.34203697e-01],\n",
       "         [3.17542607e-01],\n",
       "         [3.17542607e-01],\n",
       "         [6.87804125e-01],\n",
       "         [6.87804125e-01],\n",
       "         [5.13052357e-01],\n",
       "         [5.13052357e-01]])}}"
      ]
     },
     "execution_count": 1,
     "metadata": {},
     "output_type": "execute_result"
    }
   ],
   "source": [
    "ds = load_by_id(run_id_a)\n",
    "ds.get_parameter_data('x1')"
   ]
  },
  {
   "cell_type": "code",
   "execution_count": null,
   "metadata": {},
   "outputs": [],
   "source": []
  }
 ],
 "metadata": {
  "kernelspec": {
   "display_name": "Python 3",
   "language": "python",
   "name": "python3"
  },
  "language_info": {
   "codemirror_mode": {
    "name": "ipython",
    "version": 3
   },
   "file_extension": ".py",
   "mimetype": "text/x-python",
   "name": "python",
   "nbconvert_exporter": "python",
   "pygments_lexer": "ipython3",
   "version": "3.7.10"
  },
  "nbsphinx": {
   "timeout": 600
  },
  "toc": {
   "base_numbering": 1,
   "nav_menu": {},
   "number_sections": true,
   "sideBar": true,
   "skip_h1_title": false,
   "title_cell": "Table of Contents",
   "title_sidebar": "Contents",
   "toc_cell": false,
   "toc_position": {},
   "toc_section_display": true,
   "toc_window_display": false
  },
  "varInspector": {
   "cols": {
    "lenName": 16,
    "lenType": 16,
    "lenVar": 40
   },
   "kernels_config": {
    "python": {
     "delete_cmd_postfix": "",
     "delete_cmd_prefix": "del ",
     "library": "var_list.py",
     "varRefreshCmd": "print(var_dic_list())"
    },
    "r": {
     "delete_cmd_postfix": ") ",
     "delete_cmd_prefix": "rm(",
     "library": "var_list.r",
     "varRefreshCmd": "cat(var_dic_list()) "
    }
   },
   "types_to_exclude": [
    "module",
    "function",
    "builtin_function_or_method",
    "instance",
    "_Feature"
   ],
   "window_display": false
  }
 },
 "nbformat": 4,
 "nbformat_minor": 2
}
