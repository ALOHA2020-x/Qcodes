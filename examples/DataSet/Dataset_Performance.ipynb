{
 "cells": [
  {
   "cell_type": "markdown",
   "metadata": {},
   "source": [
    "# DataSet Performance\n",
    "\n",
    "This notebook shows the trade-off between inserting data into a database row-by-row and as binary blobs. Inserting the data row-by-row means that we have direct access to all the data and may perform queries directly on the values of the data. On the other hand, as we shall see, this is much slower than inserting the data directly as binary blobs."
   ]
  },
  {
   "cell_type": "markdown",
   "metadata": {},
   "source": [
    "First, we choose a new location for the database to ensure that we don't add a bunch of benchmarking data to the default one."
   ]
  },
  {
   "cell_type": "code",
   "execution_count": 1,
   "metadata": {
    "execution": {
     "iopub.execute_input": "2021-03-08T11:06:03.215253Z",
     "iopub.status.busy": "2021-03-08T11:06:03.214525Z",
     "iopub.status.idle": "2021-03-08T11:06:04.225465Z",
     "shell.execute_reply": "2021-03-08T11:06:04.225979Z"
    }
   },
   "outputs": [
    {
     "name": "stdout",
     "output_type": "stream",
     "text": [
      "Logging hadn't been started.\n",
      "Activating auto-logging. Current session state plus future input saved.\n",
      "Filename       : /home/runner/.qcodes/logs/command_history.log\n",
      "Mode           : append\n",
      "Output logging : True\n",
      "Raw input log  : False\n",
      "Timestamping   : True\n",
      "State          : active\n"
     ]
    },
    {
     "name": "stdout",
     "output_type": "stream",
     "text": [
      "Qcodes Logfile : /home/runner/.qcodes/logs/210308-3983-qcodes.log\n"
     ]
    }
   ],
   "source": [
    "import os\n",
    "cwd = os.getcwd()\n",
    "import qcodes as qc\n",
    "qc.config[\"core\"][\"db_location\"] = os.path.join(cwd, 'testing.db')\n"
   ]
  },
  {
   "cell_type": "code",
   "execution_count": 2,
   "metadata": {
    "execution": {
     "iopub.execute_input": "2021-03-08T11:06:04.233951Z",
     "iopub.status.busy": "2021-03-08T11:06:04.231920Z",
     "iopub.status.idle": "2021-03-08T11:06:04.442557Z",
     "shell.execute_reply": "2021-03-08T11:06:04.441422Z"
    }
   },
   "outputs": [],
   "source": [
    "%matplotlib inline\n",
    "import time\n",
    "import matplotlib.pyplot as plt\n",
    "import numpy as np\n",
    "\n",
    "import qcodes as qc\n",
    "from qcodes.instrument.parameter import ManualParameter\n",
    "from qcodes.dataset.experiment_container import (Experiment,\n",
    "                                                 load_last_experiment,\n",
    "                                                 new_experiment)\n",
    "from qcodes.dataset.sqlite.database import initialise_database\n",
    "from qcodes import load_or_create_experiment\n",
    "from qcodes.dataset.measurements import Measurement"
   ]
  },
  {
   "cell_type": "code",
   "execution_count": 3,
   "metadata": {
    "execution": {
     "iopub.execute_input": "2021-03-08T11:06:04.447113Z",
     "iopub.status.busy": "2021-03-08T11:06:04.446420Z",
     "iopub.status.idle": "2021-03-08T11:06:04.572710Z",
     "shell.execute_reply": "2021-03-08T11:06:04.573289Z"
    }
   },
   "outputs": [
    {
     "name": "stdout",
     "output_type": "stream",
     "text": [
      "\r",
      "0it [00:00, ?it/s]"
     ]
    },
    {
     "name": "stdout",
     "output_type": "stream",
     "text": [
      "\r",
      "Upgrading database; v0 -> v1: : 0it [00:00, ?it/s]"
     ]
    },
    {
     "name": "stdout",
     "output_type": "stream",
     "text": [
      "\r",
      "Upgrading database; v0 -> v1: : 0it [00:00, ?it/s]"
     ]
    },
    {
     "name": "stdout",
     "output_type": "stream",
     "text": [
      "\n",
      "\r",
      "  0%|          | 0/1 [00:00<?, ?it/s]"
     ]
    },
    {
     "name": "stdout",
     "output_type": "stream",
     "text": [
      "\r",
      "Upgrading database; v1 -> v2:   0%|          | 0/1 [00:00<?, ?it/s]"
     ]
    },
    {
     "name": "stdout",
     "output_type": "stream",
     "text": [
      "\r",
      "Upgrading database; v1 -> v2: 100%|██████████| 1/1 [00:00<00:00, 897.18it/s]"
     ]
    },
    {
     "name": "stdout",
     "output_type": "stream",
     "text": [
      "\n",
      "\r",
      "0it [00:00, ?it/s]"
     ]
    },
    {
     "name": "stdout",
     "output_type": "stream",
     "text": [
      "\r",
      "Upgrading database; v2 -> v3: : 0it [00:00, ?it/s]"
     ]
    },
    {
     "name": "stdout",
     "output_type": "stream",
     "text": [
      "\r",
      "Upgrading database; v2 -> v3: : 0it [00:00, ?it/s]"
     ]
    },
    {
     "name": "stdout",
     "output_type": "stream",
     "text": [
      "\n",
      "\r",
      "0it [00:00, ?it/s]"
     ]
    },
    {
     "name": "stdout",
     "output_type": "stream",
     "text": [
      "\r",
      "Upgrading database; v3 -> v4: : 0it [00:00, ?it/s]"
     ]
    },
    {
     "name": "stdout",
     "output_type": "stream",
     "text": [
      "\r",
      "Upgrading database; v3 -> v4: : 0it [00:00, ?it/s]"
     ]
    },
    {
     "name": "stdout",
     "output_type": "stream",
     "text": [
      "\n",
      "\r",
      "  0%|          | 0/1 [00:00<?, ?it/s]"
     ]
    },
    {
     "name": "stdout",
     "output_type": "stream",
     "text": [
      "\r",
      "Upgrading database; v4 -> v5:   0%|          | 0/1 [00:00<?, ?it/s]"
     ]
    },
    {
     "name": "stdout",
     "output_type": "stream",
     "text": [
      "\r",
      "Upgrading database; v4 -> v5: 100%|██████████| 1/1 [00:00<00:00, 286.30it/s]"
     ]
    },
    {
     "name": "stdout",
     "output_type": "stream",
     "text": [
      "\n",
      "\r",
      "0it [00:00, ?it/s]"
     ]
    },
    {
     "name": "stdout",
     "output_type": "stream",
     "text": [
      "\r",
      "Upgrading database; v5 -> v6: : 0it [00:00, ?it/s]"
     ]
    },
    {
     "name": "stdout",
     "output_type": "stream",
     "text": [
      "\r",
      "Upgrading database; v5 -> v6: : 0it [00:00, ?it/s]"
     ]
    },
    {
     "name": "stdout",
     "output_type": "stream",
     "text": [
      "\n",
      "\r",
      "  0%|          | 0/1 [00:00<?, ?it/s]"
     ]
    },
    {
     "name": "stdout",
     "output_type": "stream",
     "text": [
      "\r",
      "Upgrading database; v6 -> v7:   0%|          | 0/1 [00:00<?, ?it/s]"
     ]
    },
    {
     "name": "stdout",
     "output_type": "stream",
     "text": [
      "\r",
      "Upgrading database; v6 -> v7: 100%|██████████| 1/1 [00:00<00:00, 375.77it/s]"
     ]
    },
    {
     "name": "stdout",
     "output_type": "stream",
     "text": [
      "\n",
      "\r",
      "  0%|          | 0/1 [00:00<?, ?it/s]"
     ]
    },
    {
     "name": "stdout",
     "output_type": "stream",
     "text": [
      "\r",
      "Upgrading database; v7 -> v8:   0%|          | 0/1 [00:00<?, ?it/s]"
     ]
    },
    {
     "name": "stdout",
     "output_type": "stream",
     "text": [
      "\r",
      "Upgrading database; v7 -> v8: 100%|██████████| 1/1 [00:00<00:00, 923.04it/s]"
     ]
    },
    {
     "name": "stdout",
     "output_type": "stream",
     "text": [
      "\n",
      "\r",
      "  0%|          | 0/1 [00:00<?, ?it/s]"
     ]
    },
    {
     "name": "stdout",
     "output_type": "stream",
     "text": [
      "\r",
      "Upgrading database; v8 -> v9:   0%|          | 0/1 [00:00<?, ?it/s]"
     ]
    },
    {
     "name": "stdout",
     "output_type": "stream",
     "text": [
      "\r",
      "Upgrading database; v8 -> v9: 100%|██████████| 1/1 [00:00<00:00, 529.25it/s]"
     ]
    },
    {
     "name": "stdout",
     "output_type": "stream",
     "text": [
      "\n"
     ]
    }
   ],
   "source": [
    "initialise_database()\n",
    "exp = load_or_create_experiment(experiment_name='tutorial_exp', sample_name=\"no sample\")"
   ]
  },
  {
   "cell_type": "markdown",
   "metadata": {},
   "source": [
    "Here, we define a simple function to benchmark the time it takes to insert n points with either numeric or array data type.\n",
    "We will compare both the time used to call ``add_result`` and the time used for the full measurement."
   ]
  },
  {
   "cell_type": "code",
   "execution_count": 4,
   "metadata": {
    "execution": {
     "iopub.execute_input": "2021-03-08T11:06:04.583849Z",
     "iopub.status.busy": "2021-03-08T11:06:04.583059Z",
     "iopub.status.idle": "2021-03-08T11:06:04.590506Z",
     "shell.execute_reply": "2021-03-08T11:06:04.589897Z"
    }
   },
   "outputs": [],
   "source": [
    "def insert_data(paramtype, npoints, nreps=1):\n",
    "\n",
    "    meas = Measurement(exp=exp)\n",
    "\n",
    "    x1 = ManualParameter('x1')\n",
    "    x2 = ManualParameter('x2')\n",
    "    x3 = ManualParameter('x3')\n",
    "    y1 = ManualParameter('y1')\n",
    "    y2 = ManualParameter('y2')\n",
    "\n",
    "    meas.register_parameter(x1, paramtype=paramtype)\n",
    "    meas.register_parameter(x2, paramtype=paramtype)\n",
    "    meas.register_parameter(x3, paramtype=paramtype)\n",
    "    meas.register_parameter(y1, setpoints=[x1, x2, x3],\n",
    "                            paramtype=paramtype)\n",
    "    meas.register_parameter(y2, setpoints=[x1, x2, x3],\n",
    "                            paramtype=paramtype)\n",
    "    start = time.perf_counter()\n",
    "    with meas.run() as datasaver:\n",
    "        start_adding = time.perf_counter()\n",
    "        for i in range(nreps):\n",
    "            datasaver.add_result((x1, np.random.rand(npoints)),\n",
    "                                 (x2, np.random.rand(npoints)),\n",
    "                                 (x3, np.random.rand(npoints)),\n",
    "                                 (y1, np.random.rand(npoints)),\n",
    "                                 (y2, np.random.rand(npoints)))\n",
    "        stop_adding = time.perf_counter()\n",
    "        run_id = datasaver.run_id\n",
    "    stop = time.perf_counter()\n",
    "    tot_time = stop - start\n",
    "    add_time = stop_adding - start_adding\n",
    "    return tot_time, add_time, run_id"
   ]
  },
  {
   "cell_type": "markdown",
   "metadata": {},
   "source": [
    "## Comparison between numeric/array data and binary blob"
   ]
  },
  {
   "cell_type": "markdown",
   "metadata": {},
   "source": [
    "### Case1: Short experiment time"
   ]
  },
  {
   "cell_type": "code",
   "execution_count": 5,
   "metadata": {
    "execution": {
     "iopub.execute_input": "2021-03-08T11:06:04.599280Z",
     "iopub.status.busy": "2021-03-08T11:06:04.598437Z",
     "iopub.status.idle": "2021-03-08T11:06:05.495872Z",
     "shell.execute_reply": "2021-03-08T11:06:05.496390Z"
    }
   },
   "outputs": [
    {
     "name": "stdout",
     "output_type": "stream",
     "text": [
      "Starting experimental run with id: 1. \n",
      "Starting experimental run with id: 2. \n",
      "Starting experimental run with id: 3. \n",
      "Starting experimental run with id: 4. \n"
     ]
    },
    {
     "name": "stdout",
     "output_type": "stream",
     "text": [
      "Starting experimental run with id: 5. \n"
     ]
    },
    {
     "name": "stdout",
     "output_type": "stream",
     "text": [
      "Starting experimental run with id: 6. \n",
      "Starting experimental run with id: 7. \n"
     ]
    },
    {
     "name": "stdout",
     "output_type": "stream",
     "text": [
      "Starting experimental run with id: 8. \n"
     ]
    },
    {
     "name": "stdout",
     "output_type": "stream",
     "text": [
      "Starting experimental run with id: 9. \n"
     ]
    },
    {
     "name": "stdout",
     "output_type": "stream",
     "text": [
      "Starting experimental run with id: 10. \n",
      "Starting experimental run with id: 11. \n"
     ]
    },
    {
     "name": "stdout",
     "output_type": "stream",
     "text": [
      "Starting experimental run with id: 12. \n"
     ]
    },
    {
     "name": "stdout",
     "output_type": "stream",
     "text": [
      "Starting experimental run with id: 13. \n"
     ]
    },
    {
     "name": "stdout",
     "output_type": "stream",
     "text": [
      "Starting experimental run with id: 14. \n"
     ]
    }
   ],
   "source": [
    "sizes = [1,500,1000,2000,3000,4000,5000]\n",
    "t_numeric = []\n",
    "t_numeric_add = []\n",
    "t_array = []\n",
    "t_array_add = []\n",
    "for size in sizes:\n",
    "    tn, tna, run_id_n =  insert_data('numeric', size)\n",
    "    t_numeric.append(tn)\n",
    "    t_numeric_add.append(tna)\n",
    "\n",
    "    ta, taa, run_id_a =  insert_data('array', size)\n",
    "    t_array.append(ta)\n",
    "    t_array_add.append(taa)"
   ]
  },
  {
   "cell_type": "code",
   "execution_count": 6,
   "metadata": {
    "execution": {
     "iopub.execute_input": "2021-03-08T11:06:05.525133Z",
     "iopub.status.busy": "2021-03-08T11:06:05.519846Z",
     "iopub.status.idle": "2021-03-08T11:06:05.762232Z",
     "shell.execute_reply": "2021-03-08T11:06:05.763163Z"
    }
   },
   "outputs": [
    {
     "data": {
      "image/png": "[encoded data removed]",
      "text/plain": [
       "<Figure size 432x288 with 1 Axes>"
      ]
     },
     "metadata": {
      "needs_background": "light"
     },
     "output_type": "display_data"
    }
   ],
   "source": [
    "fig, ax = plt.subplots(1,1)\n",
    "ax.plot(sizes, t_numeric, 'o-', label='Inserting row-by-row')\n",
    "ax.plot(sizes, t_numeric_add, 'o-', label='Inserting row-by-row: add_result only')\n",
    "ax.plot(sizes, t_array, 'd-', label='Inserting as binary blob')\n",
    "ax.plot(sizes, t_array_add, 'd-', label='Inserting as binary blob: add_result only')\n",
    "ax.legend()\n",
    "ax.set_xlabel('Array length')\n",
    "ax.set_ylabel('Time (s)')\n",
    "fig.tight_layout()"
   ]
  },
  {
   "cell_type": "markdown",
   "metadata": {},
   "source": [
    "As shown in the latter figure, the time to setup and and close the experiment is approximately 0.4 sec. In case of small array sizes, the difference between inserting values of data as arrays and inserting them row-by-row is relatively unimportant. At larger array sizes, i.e. above 10000 points, the cost of writing data as individual datapoints starts to become important.\n"
   ]
  },
  {
   "cell_type": "markdown",
   "metadata": {},
   "source": [
    "### Case2: Long experiment time "
   ]
  },
  {
   "cell_type": "code",
   "execution_count": 7,
   "metadata": {
    "execution": {
     "iopub.execute_input": "2021-03-08T11:06:05.774010Z",
     "iopub.status.busy": "2021-03-08T11:06:05.766313Z",
     "iopub.status.idle": "2021-03-08T11:07:12.040750Z",
     "shell.execute_reply": "2021-03-08T11:07:12.039537Z"
    }
   },
   "outputs": [
    {
     "name": "stdout",
     "output_type": "stream",
     "text": [
      "Starting experimental run with id: 15. \n",
      "Starting experimental run with id: 16. \n"
     ]
    },
    {
     "name": "stdout",
     "output_type": "stream",
     "text": [
      "Starting experimental run with id: 17. \n"
     ]
    },
    {
     "name": "stdout",
     "output_type": "stream",
     "text": [
      "Starting experimental run with id: 18. \n"
     ]
    },
    {
     "name": "stdout",
     "output_type": "stream",
     "text": [
      "Starting experimental run with id: 19. \n"
     ]
    },
    {
     "name": "stdout",
     "output_type": "stream",
     "text": [
      "Starting experimental run with id: 20. \n"
     ]
    },
    {
     "name": "stdout",
     "output_type": "stream",
     "text": [
      "Starting experimental run with id: 21. \n"
     ]
    },
    {
     "name": "stdout",
     "output_type": "stream",
     "text": [
      "Starting experimental run with id: 22. \n"
     ]
    },
    {
     "name": "stdout",
     "output_type": "stream",
     "text": [
      "Starting experimental run with id: 23. \n"
     ]
    },
    {
     "name": "stdout",
     "output_type": "stream",
     "text": [
      "Starting experimental run with id: 24. \n"
     ]
    },
    {
     "name": "stdout",
     "output_type": "stream",
     "text": [
      "Starting experimental run with id: 25. \n"
     ]
    },
    {
     "name": "stdout",
     "output_type": "stream",
     "text": [
      "Starting experimental run with id: 26. \n"
     ]
    },
    {
     "name": "stdout",
     "output_type": "stream",
     "text": [
      "Starting experimental run with id: 27. \n"
     ]
    },
    {
     "name": "stdout",
     "output_type": "stream",
     "text": [
      "Starting experimental run with id: 28. \n"
     ]
    }
   ],
   "source": [
    "sizes = [1,500,1000,2000,3000,4000,5000]\n",
    "nreps = 100\n",
    "t_numeric = []\n",
    "t_numeric_add = []\n",
    "t_numeric_run_ids = []\n",
    "t_array = []\n",
    "t_array_add = []\n",
    "t_array_run_ids = []\n",
    "for size in sizes:\n",
    "    tn, tna, run_id_n =  insert_data('numeric', size, nreps=nreps)\n",
    "    t_numeric.append(tn)\n",
    "    t_numeric_add.append(tna)\n",
    "    t_numeric_run_ids.append(run_id_n)\n",
    "\n",
    "    ta, taa, run_id_a =  insert_data('array', size, nreps=nreps)\n",
    "    t_array.append(ta)\n",
    "    t_array_add.append(taa)\n",
    "    t_array_run_ids.append(run_id_a)"
   ]
  },
  {
   "cell_type": "code",
   "execution_count": 8,
   "metadata": {
    "execution": {
     "iopub.execute_input": "2021-03-08T11:07:12.066857Z",
     "iopub.status.busy": "2021-03-08T11:07:12.045813Z",
     "iopub.status.idle": "2021-03-08T11:07:12.330724Z",
     "shell.execute_reply": "2021-03-08T11:07:12.329985Z"
    },
    "scrolled": true
   },
   "outputs": [
    {
     "data": {
      "image/png": "[encoded data removed]",
      "text/plain": [
       "<Figure size 432x288 with 1 Axes>"
      ]
     },
     "metadata": {
      "needs_background": "light"
     },
     "output_type": "display_data"
    }
   ],
   "source": [
    "fig, ax = plt.subplots(1,1)\n",
    "ax.plot(sizes, t_numeric, 'o-', label='Inserting row-by-row')\n",
    "ax.plot(sizes, t_numeric_add, 'o-', label='Inserting row-by-row: add_result only')\n",
    "ax.plot(sizes, t_array, 'd-', label='Inserting as binary blob')\n",
    "ax.plot(sizes, t_array_add, 'd-', label='Inserting as binary blob: add_result only')\n",
    "ax.legend()\n",
    "ax.set_xlabel('Array length')\n",
    "ax.set_ylabel('Time (s)')\n",
    "fig.tight_layout()"
   ]
  },
  {
   "cell_type": "markdown",
   "metadata": {},
   "source": [
    "However, as we increase the length of the experiment, as seen here by repeating the insertion 100 times, we see a big difference between inserting values of the data row-by-row and inserting it as a binary blob."
   ]
  },
  {
   "cell_type": "markdown",
   "metadata": {},
   "source": [
    "## Loading the data "
   ]
  },
  {
   "cell_type": "code",
   "execution_count": 9,
   "metadata": {
    "execution": {
     "iopub.execute_input": "2021-03-08T11:07:12.336235Z",
     "iopub.status.busy": "2021-03-08T11:07:12.334657Z",
     "iopub.status.idle": "2021-03-08T11:07:12.338864Z",
     "shell.execute_reply": "2021-03-08T11:07:12.339427Z"
    }
   },
   "outputs": [],
   "source": [
    "from qcodes.dataset.data_set import load_by_id\n",
    "from qcodes.dataset.data_export import get_data_by_id"
   ]
  },
  {
   "cell_type": "markdown",
   "metadata": {},
   "source": [
    "As usual you can load the data by using the ``load_by_id`` function but you will notice that the different storage methods\n",
    "are reflected in shape of the data as it is retrieved. "
   ]
  },
  {
   "cell_type": "code",
   "execution_count": 10,
   "metadata": {
    "execution": {
     "iopub.execute_input": "2021-03-08T11:07:12.345786Z",
     "iopub.status.busy": "2021-03-08T11:07:12.343169Z",
     "iopub.status.idle": "2021-03-08T11:07:12.346609Z",
     "shell.execute_reply": "2021-03-08T11:07:12.347176Z"
    }
   },
   "outputs": [],
   "source": [
    "run_id_n = t_numeric_run_ids[0]\n",
    "run_id_a = t_array_run_ids[0]"
   ]
  },
  {
   "cell_type": "code",
   "execution_count": 11,
   "metadata": {
    "execution": {
     "iopub.execute_input": "2021-03-08T11:07:12.351119Z",
     "iopub.status.busy": "2021-03-08T11:07:12.350389Z",
     "iopub.status.idle": "2021-03-08T11:07:12.361924Z",
     "shell.execute_reply": "2021-03-08T11:07:12.361332Z"
    },
    "scrolled": true
   },
   "outputs": [
    {
     "data": {
      "text/plain": [
       "{'x1': {'x1': array([5.72485551e-01, 5.72485551e-01, 1.27396096e-01, 1.27396096e-01,\n",
       "         4.71953383e-01, 4.71953383e-01, 4.67845682e-01, 4.67845682e-01,\n",
       "         3.69495893e-01, 3.69495893e-01, 1.16847103e-01, 1.16847103e-01,\n",
       "         1.05623028e-01, 1.05623028e-01, 6.92377736e-01, 6.92377736e-01,\n",
       "         4.03014696e-01, 4.03014696e-01, 4.78489081e-01, 4.78489081e-01,\n",
       "         9.85618178e-01, 9.85618178e-01, 8.38933874e-05, 8.38933874e-05,\n",
       "         8.51424698e-01, 8.51424698e-01, 6.08819628e-01, 6.08819628e-01,\n",
       "         7.05908074e-01, 7.05908074e-01, 2.14075993e-01, 2.14075993e-01,\n",
       "         5.33578837e-01, 5.33578837e-01, 8.19440679e-01, 8.19440679e-01,\n",
       "         1.17298230e-01, 1.17298230e-01, 4.89396329e-01, 4.89396329e-01,\n",
       "         9.01132903e-01, 9.01132903e-01, 8.11151387e-01, 8.11151387e-01,\n",
       "         3.92266937e-01, 3.92266937e-01, 2.20724464e-03, 2.20724464e-03,\n",
       "         4.77322758e-01, 4.77322758e-01, 3.82009091e-01, 3.82009091e-01,\n",
       "         7.15795378e-01, 7.15795378e-01, 3.02932271e-01, 3.02932271e-01,\n",
       "         2.36235385e-01, 2.36235385e-01, 9.97653082e-01, 9.97653082e-01,\n",
       "         3.81566849e-01, 3.81566849e-01, 1.87125115e-01, 1.87125115e-01,\n",
       "         2.54857184e-01, 2.54857184e-01, 7.75404365e-01, 7.75404365e-01,\n",
       "         1.04972583e-01, 1.04972583e-01, 8.14705296e-01, 8.14705296e-01,\n",
       "         3.09632103e-01, 3.09632103e-01, 1.69655923e-01, 1.69655923e-01,\n",
       "         5.19748041e-01, 5.19748041e-01, 3.32769765e-01, 3.32769765e-01,\n",
       "         3.43426417e-01, 3.43426417e-01, 3.75696559e-01, 3.75696559e-01,\n",
       "         8.57612583e-01, 8.57612583e-01, 1.48128834e-01, 1.48128834e-01,\n",
       "         7.79303790e-01, 7.79303790e-01, 2.21017651e-01, 2.21017651e-01,\n",
       "         1.66137128e-01, 1.66137128e-01, 9.73864985e-01, 9.73864985e-01,\n",
       "         1.45868257e-01, 1.45868257e-01, 1.22958844e-01, 1.22958844e-01,\n",
       "         2.15370504e-01, 2.15370504e-01, 7.93913067e-01, 7.93913067e-01,\n",
       "         8.32003944e-01, 8.32003944e-01, 9.96140272e-01, 9.96140272e-01,\n",
       "         5.83032152e-01, 5.83032152e-01, 1.56933211e-01, 1.56933211e-01,\n",
       "         2.29737509e-01, 2.29737509e-01, 6.90451084e-01, 6.90451084e-01,\n",
       "         9.26829097e-01, 9.26829097e-01, 5.72364540e-02, 5.72364540e-02,\n",
       "         7.14467135e-02, 7.14467135e-02, 2.82578919e-02, 2.82578919e-02,\n",
       "         6.80277515e-01, 6.80277515e-01, 3.60669492e-01, 3.60669492e-01,\n",
       "         1.86280258e-01, 1.86280258e-01, 7.85707535e-01, 7.85707535e-01,\n",
       "         7.44492663e-01, 7.44492663e-01, 7.67380506e-01, 7.67380506e-01,\n",
       "         8.84737220e-02, 8.84737220e-02, 6.28710425e-02, 6.28710425e-02,\n",
       "         5.00364590e-02, 5.00364590e-02, 8.56117647e-01, 8.56117647e-01,\n",
       "         1.62575499e-02, 1.62575499e-02, 7.16450234e-01, 7.16450234e-01,\n",
       "         7.11665498e-01, 7.11665498e-01, 6.30795166e-01, 6.30795166e-01,\n",
       "         8.70788626e-02, 8.70788626e-02, 7.86431385e-01, 7.86431385e-01,\n",
       "         8.52112324e-01, 8.52112324e-01, 2.60546530e-01, 2.60546530e-01,\n",
       "         9.51623373e-01, 9.51623373e-01, 5.71691838e-02, 5.71691838e-02,\n",
       "         1.86572836e-01, 1.86572836e-01, 4.98190941e-01, 4.98190941e-01,\n",
       "         6.79431023e-01, 6.79431023e-01, 4.56998746e-02, 4.56998746e-02,\n",
       "         9.19918818e-01, 9.19918818e-01, 3.83015514e-01, 3.83015514e-01,\n",
       "         7.12216252e-02, 7.12216252e-02, 2.44625337e-01, 2.44625337e-01,\n",
       "         6.64572499e-01, 6.64572499e-01, 3.03994301e-01, 3.03994301e-01,\n",
       "         3.10293142e-01, 3.10293142e-01, 6.79506838e-02, 6.79506838e-02,\n",
       "         2.00282744e-02, 2.00282744e-02, 6.31859004e-01, 6.31859004e-01,\n",
       "         1.40022169e-01, 1.40022169e-01, 6.60592615e-01, 6.60592615e-01,\n",
       "         9.96618072e-01, 9.96618072e-01, 2.09348615e-01, 2.09348615e-01])}}"
      ]
     },
     "execution_count": 1,
     "metadata": {},
     "output_type": "execute_result"
    }
   ],
   "source": [
    "ds = load_by_id(run_id_n)\n",
    "ds.get_parameter_data('x1')"
   ]
  },
  {
   "cell_type": "markdown",
   "metadata": {},
   "source": [
    "And a dataset stored as binary arrays"
   ]
  },
  {
   "cell_type": "code",
   "execution_count": 12,
   "metadata": {
    "execution": {
     "iopub.execute_input": "2021-03-08T11:07:12.365783Z",
     "iopub.status.busy": "2021-03-08T11:07:12.365187Z",
     "iopub.status.idle": "2021-03-08T11:07:12.441998Z",
     "shell.execute_reply": "2021-03-08T11:07:12.441277Z"
    },
    "scrolled": true
   },
   "outputs": [
    {
     "data": {
      "text/plain": [
       "{'x1': {'x1': array([[0.05215401],\n",
       "         [0.05215401],\n",
       "         [0.40739579],\n",
       "         [0.40739579],\n",
       "         [0.12446642],\n",
       "         [0.12446642],\n",
       "         [0.42006113],\n",
       "         [0.42006113],\n",
       "         [0.32952192],\n",
       "         [0.32952192],\n",
       "         [0.79806349],\n",
       "         [0.79806349],\n",
       "         [0.52702093],\n",
       "         [0.52702093],\n",
       "         [0.65636258],\n",
       "         [0.65636258],\n",
       "         [0.13147092],\n",
       "         [0.13147092],\n",
       "         [0.51893322],\n",
       "         [0.51893322],\n",
       "         [0.3722718 ],\n",
       "         [0.3722718 ],\n",
       "         [0.40422235],\n",
       "         [0.40422235],\n",
       "         [0.52746325],\n",
       "         [0.52746325],\n",
       "         [0.59606633],\n",
       "         [0.59606633],\n",
       "         [0.0011541 ],\n",
       "         [0.0011541 ],\n",
       "         [0.98301874],\n",
       "         [0.98301874],\n",
       "         [0.40705711],\n",
       "         [0.40705711],\n",
       "         [0.45049531],\n",
       "         [0.45049531],\n",
       "         [0.4670566 ],\n",
       "         [0.4670566 ],\n",
       "         [0.96608825],\n",
       "         [0.96608825],\n",
       "         [0.23439448],\n",
       "         [0.23439448],\n",
       "         [0.63751699],\n",
       "         [0.63751699],\n",
       "         [0.0771402 ],\n",
       "         [0.0771402 ],\n",
       "         [0.62220217],\n",
       "         [0.62220217],\n",
       "         [0.13228638],\n",
       "         [0.13228638],\n",
       "         [0.45124517],\n",
       "         [0.45124517],\n",
       "         [0.44971277],\n",
       "         [0.44971277],\n",
       "         [0.29144836],\n",
       "         [0.29144836],\n",
       "         [0.7613604 ],\n",
       "         [0.7613604 ],\n",
       "         [0.27116197],\n",
       "         [0.27116197],\n",
       "         [0.80804368],\n",
       "         [0.80804368],\n",
       "         [0.49447607],\n",
       "         [0.49447607],\n",
       "         [0.46839158],\n",
       "         [0.46839158],\n",
       "         [0.44694702],\n",
       "         [0.44694702],\n",
       "         [0.46462152],\n",
       "         [0.46462152],\n",
       "         [0.41937176],\n",
       "         [0.41937176],\n",
       "         [0.4906755 ],\n",
       "         [0.4906755 ],\n",
       "         [0.97118753],\n",
       "         [0.97118753],\n",
       "         [0.79583099],\n",
       "         [0.79583099],\n",
       "         [0.25210197],\n",
       "         [0.25210197],\n",
       "         [0.53915147],\n",
       "         [0.53915147],\n",
       "         [0.23540845],\n",
       "         [0.23540845],\n",
       "         [0.82295368],\n",
       "         [0.82295368],\n",
       "         [0.69815257],\n",
       "         [0.69815257],\n",
       "         [0.72631428],\n",
       "         [0.72631428],\n",
       "         [0.6243041 ],\n",
       "         [0.6243041 ],\n",
       "         [0.67401865],\n",
       "         [0.67401865],\n",
       "         [0.9094949 ],\n",
       "         [0.9094949 ],\n",
       "         [0.80286286],\n",
       "         [0.80286286],\n",
       "         [0.33561613],\n",
       "         [0.33561613],\n",
       "         [0.40302174],\n",
       "         [0.40302174],\n",
       "         [0.8149714 ],\n",
       "         [0.8149714 ],\n",
       "         [0.43907437],\n",
       "         [0.43907437],\n",
       "         [0.58719981],\n",
       "         [0.58719981],\n",
       "         [0.25475587],\n",
       "         [0.25475587],\n",
       "         [0.34980044],\n",
       "         [0.34980044],\n",
       "         [0.83259231],\n",
       "         [0.83259231],\n",
       "         [0.46961251],\n",
       "         [0.46961251],\n",
       "         [0.42245558],\n",
       "         [0.42245558],\n",
       "         [0.91566742],\n",
       "         [0.91566742],\n",
       "         [0.59421573],\n",
       "         [0.59421573],\n",
       "         [0.14197114],\n",
       "         [0.14197114],\n",
       "         [0.2699198 ],\n",
       "         [0.2699198 ],\n",
       "         [0.38135535],\n",
       "         [0.38135535],\n",
       "         [0.68075673],\n",
       "         [0.68075673],\n",
       "         [0.84285115],\n",
       "         [0.84285115],\n",
       "         [0.80366375],\n",
       "         [0.80366375],\n",
       "         [0.22032056],\n",
       "         [0.22032056],\n",
       "         [0.6296082 ],\n",
       "         [0.6296082 ],\n",
       "         [0.2528744 ],\n",
       "         [0.2528744 ],\n",
       "         [0.57133434],\n",
       "         [0.57133434],\n",
       "         [0.32513527],\n",
       "         [0.32513527],\n",
       "         [0.32759675],\n",
       "         [0.32759675],\n",
       "         [0.28632587],\n",
       "         [0.28632587],\n",
       "         [0.07965219],\n",
       "         [0.07965219],\n",
       "         [0.25342172],\n",
       "         [0.25342172],\n",
       "         [0.02859952],\n",
       "         [0.02859952],\n",
       "         [0.51155419],\n",
       "         [0.51155419],\n",
       "         [0.02749643],\n",
       "         [0.02749643],\n",
       "         [0.21274266],\n",
       "         [0.21274266],\n",
       "         [0.21863358],\n",
       "         [0.21863358],\n",
       "         [0.53705062],\n",
       "         [0.53705062],\n",
       "         [0.21434912],\n",
       "         [0.21434912],\n",
       "         [0.98270915],\n",
       "         [0.98270915],\n",
       "         [0.36343353],\n",
       "         [0.36343353],\n",
       "         [0.76610839],\n",
       "         [0.76610839],\n",
       "         [0.3313157 ],\n",
       "         [0.3313157 ],\n",
       "         [0.53448283],\n",
       "         [0.53448283],\n",
       "         [0.06873273],\n",
       "         [0.06873273],\n",
       "         [0.10199899],\n",
       "         [0.10199899],\n",
       "         [0.19414459],\n",
       "         [0.19414459],\n",
       "         [0.77468254],\n",
       "         [0.77468254],\n",
       "         [0.8123012 ],\n",
       "         [0.8123012 ],\n",
       "         [0.39270283],\n",
       "         [0.39270283],\n",
       "         [0.12416861],\n",
       "         [0.12416861],\n",
       "         [0.49838465],\n",
       "         [0.49838465],\n",
       "         [0.29536572],\n",
       "         [0.29536572],\n",
       "         [0.93128845],\n",
       "         [0.93128845],\n",
       "         [0.8910333 ],\n",
       "         [0.8910333 ],\n",
       "         [0.53782132],\n",
       "         [0.53782132]])}}"
      ]
     },
     "execution_count": 1,
     "metadata": {},
     "output_type": "execute_result"
    }
   ],
   "source": [
    "ds = load_by_id(run_id_a)\n",
    "ds.get_parameter_data('x1')"
   ]
  },
  {
   "cell_type": "code",
   "execution_count": null,
   "metadata": {},
   "outputs": [],
   "source": []
  }
 ],
 "metadata": {
  "kernelspec": {
   "display_name": "Python 3",
   "language": "python",
   "name": "python3"
  },
  "language_info": {
   "codemirror_mode": {
    "name": "ipython",
    "version": 3
   },
   "file_extension": ".py",
   "mimetype": "text/x-python",
   "name": "python",
   "nbconvert_exporter": "python",
   "pygments_lexer": "ipython3",
   "version": "3.7.10"
  },
  "nbsphinx": {
   "timeout": 600
  },
  "toc": {
   "base_numbering": 1,
   "nav_menu": {},
   "number_sections": true,
   "sideBar": true,
   "skip_h1_title": false,
   "title_cell": "Table of Contents",
   "title_sidebar": "Contents",
   "toc_cell": false,
   "toc_position": {},
   "toc_section_display": true,
   "toc_window_display": false
  },
  "varInspector": {
   "cols": {
    "lenName": 16,
    "lenType": 16,
    "lenVar": 40
   },
   "kernels_config": {
    "python": {
     "delete_cmd_postfix": "",
     "delete_cmd_prefix": "del ",
     "library": "var_list.py",
     "varRefreshCmd": "print(var_dic_list())"
    },
    "r": {
     "delete_cmd_postfix": ") ",
     "delete_cmd_prefix": "rm(",
     "library": "var_list.r",
     "varRefreshCmd": "cat(var_dic_list()) "
    }
   },
   "types_to_exclude": [
    "module",
    "function",
    "builtin_function_or_method",
    "instance",
    "_Feature"
   ],
   "window_display": false
  }
 },
 "nbformat": 4,
 "nbformat_minor": 2
}
