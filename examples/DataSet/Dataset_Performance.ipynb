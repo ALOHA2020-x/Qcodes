{
 "cells": [
  {
   "cell_type": "markdown",
   "metadata": {},
   "source": [
    "# DataSet Performance\n",
    "\n",
    "This notebook shows the trade-off between inserting data into a database row-by-row and as binary blobs. Inserting the data row-by-row means that we have direct access to all the data and may perform queries directly on the values of the data. On the other hand, as we shall see, this is much slower than inserting the data directly as binary blobs."
   ]
  },
  {
   "cell_type": "markdown",
   "metadata": {},
   "source": [
    "First, we choose a new location for the database to ensure that we don't add a bunch of benchmarking data to the default one."
   ]
  },
  {
   "cell_type": "code",
   "execution_count": 1,
   "metadata": {
    "execution": {
     "iopub.execute_input": "2021-04-02T10:31:55.964150Z",
     "iopub.status.busy": "2021-04-02T10:31:55.963548Z",
     "iopub.status.idle": "2021-04-02T10:31:57.002716Z",
     "shell.execute_reply": "2021-04-02T10:31:57.001607Z"
    }
   },
   "outputs": [
    {
     "name": "stdout",
     "output_type": "stream",
     "text": [
      "Logging hadn't been started.\n",
      "Activating auto-logging. Current session state plus future input saved.\n",
      "Filename       : /home/runner/.qcodes/logs/command_history.log\n",
      "Mode           : append\n",
      "Output logging : True\n",
      "Raw input log  : False\n",
      "Timestamping   : True\n",
      "State          : active\n"
     ]
    },
    {
     "name": "stdout",
     "output_type": "stream",
     "text": [
      "Qcodes Logfile : /home/runner/.qcodes/logs/210402-4444-qcodes.log\n"
     ]
    }
   ],
   "source": [
    "import os\n",
    "cwd = os.getcwd()\n",
    "import qcodes as qc\n",
    "qc.config[\"core\"][\"db_location\"] = os.path.join(cwd, 'testing.db')\n"
   ]
  },
  {
   "cell_type": "code",
   "execution_count": 2,
   "metadata": {
    "execution": {
     "iopub.execute_input": "2021-04-02T10:31:57.010623Z",
     "iopub.status.busy": "2021-04-02T10:31:57.008751Z",
     "iopub.status.idle": "2021-04-02T10:31:57.264306Z",
     "shell.execute_reply": "2021-04-02T10:31:57.265171Z"
    }
   },
   "outputs": [],
   "source": [
    "%matplotlib inline\n",
    "import time\n",
    "import matplotlib.pyplot as plt\n",
    "import numpy as np\n",
    "\n",
    "import qcodes as qc\n",
    "from qcodes.instrument.parameter import ManualParameter\n",
    "from qcodes.dataset.experiment_container import (Experiment,\n",
    "                                                 load_last_experiment,\n",
    "                                                 new_experiment)\n",
    "from qcodes.dataset.sqlite.database import initialise_database\n",
    "from qcodes import load_or_create_experiment\n",
    "from qcodes.dataset.measurements import Measurement"
   ]
  },
  {
   "cell_type": "code",
   "execution_count": 3,
   "metadata": {
    "execution": {
     "iopub.execute_input": "2021-04-02T10:31:57.269746Z",
     "iopub.status.busy": "2021-04-02T10:31:57.268814Z",
     "iopub.status.idle": "2021-04-02T10:31:57.343092Z",
     "shell.execute_reply": "2021-04-02T10:31:57.342570Z"
    }
   },
   "outputs": [
    {
     "name": "stdout",
     "output_type": "stream",
     "text": [
      "\r",
      "0it [00:00, ?it/s]"
     ]
    },
    {
     "name": "stdout",
     "output_type": "stream",
     "text": [
      "\r",
      "Upgrading database; v0 -> v1: : 0it [00:00, ?it/s]"
     ]
    },
    {
     "name": "stdout",
     "output_type": "stream",
     "text": [
      "\r",
      "Upgrading database; v0 -> v1: : 0it [00:00, ?it/s]"
     ]
    },
    {
     "name": "stdout",
     "output_type": "stream",
     "text": [
      "\n",
      "\r",
      "  0%|          | 0/1 [00:00<?, ?it/s]"
     ]
    },
    {
     "name": "stdout",
     "output_type": "stream",
     "text": [
      "\r",
      "Upgrading database; v1 -> v2:   0%|          | 0/1 [00:00<?, ?it/s]"
     ]
    },
    {
     "name": "stdout",
     "output_type": "stream",
     "text": [
      "\r",
      "Upgrading database; v1 -> v2: 100%|██████████| 1/1 [00:00<00:00, 1108.14it/s]"
     ]
    },
    {
     "name": "stdout",
     "output_type": "stream",
     "text": [
      "\n",
      "\r",
      "0it [00:00, ?it/s]"
     ]
    },
    {
     "name": "stdout",
     "output_type": "stream",
     "text": [
      "\r",
      "Upgrading database; v2 -> v3: : 0it [00:00, ?it/s]"
     ]
    },
    {
     "name": "stdout",
     "output_type": "stream",
     "text": [
      "\r",
      "Upgrading database; v2 -> v3: : 0it [00:00, ?it/s]"
     ]
    },
    {
     "name": "stdout",
     "output_type": "stream",
     "text": [
      "\n",
      "\r",
      "0it [00:00, ?it/s]"
     ]
    },
    {
     "name": "stdout",
     "output_type": "stream",
     "text": [
      "\r",
      "Upgrading database; v3 -> v4: : 0it [00:00, ?it/s]"
     ]
    },
    {
     "name": "stdout",
     "output_type": "stream",
     "text": [
      "\r",
      "Upgrading database; v3 -> v4: : 0it [00:00, ?it/s]"
     ]
    },
    {
     "name": "stdout",
     "output_type": "stream",
     "text": [
      "\n",
      "\r",
      "  0%|          | 0/1 [00:00<?, ?it/s]"
     ]
    },
    {
     "name": "stdout",
     "output_type": "stream",
     "text": [
      "\r",
      "Upgrading database; v4 -> v5:   0%|          | 0/1 [00:00<?, ?it/s]"
     ]
    },
    {
     "name": "stdout",
     "output_type": "stream",
     "text": [
      "\r",
      "Upgrading database; v4 -> v5: 100%|██████████| 1/1 [00:00<00:00, 741.70it/s]"
     ]
    },
    {
     "name": "stdout",
     "output_type": "stream",
     "text": [
      "\n",
      "\r",
      "0it [00:00, ?it/s]"
     ]
    },
    {
     "name": "stdout",
     "output_type": "stream",
     "text": [
      "\r",
      "Upgrading database; v5 -> v6: : 0it [00:00, ?it/s]"
     ]
    },
    {
     "name": "stdout",
     "output_type": "stream",
     "text": [
      "\r",
      "Upgrading database; v5 -> v6: : 0it [00:00, ?it/s]"
     ]
    },
    {
     "name": "stdout",
     "output_type": "stream",
     "text": [
      "\n",
      "\r",
      "  0%|          | 0/1 [00:00<?, ?it/s]"
     ]
    },
    {
     "name": "stdout",
     "output_type": "stream",
     "text": [
      "\r",
      "Upgrading database; v6 -> v7:   0%|          | 0/1 [00:00<?, ?it/s]"
     ]
    },
    {
     "name": "stdout",
     "output_type": "stream",
     "text": [
      "\r",
      "Upgrading database; v6 -> v7: 100%|██████████| 1/1 [00:00<00:00, 286.95it/s]"
     ]
    },
    {
     "name": "stdout",
     "output_type": "stream",
     "text": [
      "\n",
      "\r",
      "  0%|          | 0/1 [00:00<?, ?it/s]"
     ]
    },
    {
     "name": "stdout",
     "output_type": "stream",
     "text": [
      "\r",
      "Upgrading database; v7 -> v8:   0%|          | 0/1 [00:00<?, ?it/s]"
     ]
    },
    {
     "name": "stdout",
     "output_type": "stream",
     "text": [
      "\r",
      "Upgrading database; v7 -> v8: 100%|██████████| 1/1 [00:00<00:00, 415.07it/s]"
     ]
    },
    {
     "name": "stdout",
     "output_type": "stream",
     "text": [
      "\n",
      "\r",
      "  0%|          | 0/1 [00:00<?, ?it/s]"
     ]
    },
    {
     "name": "stdout",
     "output_type": "stream",
     "text": [
      "\r",
      "Upgrading database; v8 -> v9:   0%|          | 0/1 [00:00<?, ?it/s]"
     ]
    },
    {
     "name": "stdout",
     "output_type": "stream",
     "text": [
      "\r",
      "Upgrading database; v8 -> v9: 100%|██████████| 1/1 [00:00<00:00, 446.96it/s]"
     ]
    },
    {
     "name": "stdout",
     "output_type": "stream",
     "text": [
      "\n"
     ]
    }
   ],
   "source": [
    "initialise_database()\n",
    "exp = load_or_create_experiment(experiment_name='tutorial_exp', sample_name=\"no sample\")"
   ]
  },
  {
   "cell_type": "markdown",
   "metadata": {},
   "source": [
    "Here, we define a simple function to benchmark the time it takes to insert n points with either numeric or array data type.\n",
    "We will compare both the time used to call ``add_result`` and the time used for the full measurement."
   ]
  },
  {
   "cell_type": "code",
   "execution_count": 4,
   "metadata": {
    "execution": {
     "iopub.execute_input": "2021-04-02T10:31:57.353276Z",
     "iopub.status.busy": "2021-04-02T10:31:57.351972Z",
     "iopub.status.idle": "2021-04-02T10:31:57.354004Z",
     "shell.execute_reply": "2021-04-02T10:31:57.354474Z"
    }
   },
   "outputs": [],
   "source": [
    "def insert_data(paramtype, npoints, nreps=1):\n",
    "\n",
    "    meas = Measurement(exp=exp)\n",
    "\n",
    "    x1 = ManualParameter('x1')\n",
    "    x2 = ManualParameter('x2')\n",
    "    x3 = ManualParameter('x3')\n",
    "    y1 = ManualParameter('y1')\n",
    "    y2 = ManualParameter('y2')\n",
    "\n",
    "    meas.register_parameter(x1, paramtype=paramtype)\n",
    "    meas.register_parameter(x2, paramtype=paramtype)\n",
    "    meas.register_parameter(x3, paramtype=paramtype)\n",
    "    meas.register_parameter(y1, setpoints=[x1, x2, x3],\n",
    "                            paramtype=paramtype)\n",
    "    meas.register_parameter(y2, setpoints=[x1, x2, x3],\n",
    "                            paramtype=paramtype)\n",
    "    start = time.perf_counter()\n",
    "    with meas.run() as datasaver:\n",
    "        start_adding = time.perf_counter()\n",
    "        for i in range(nreps):\n",
    "            datasaver.add_result((x1, np.random.rand(npoints)),\n",
    "                                 (x2, np.random.rand(npoints)),\n",
    "                                 (x3, np.random.rand(npoints)),\n",
    "                                 (y1, np.random.rand(npoints)),\n",
    "                                 (y2, np.random.rand(npoints)))\n",
    "        stop_adding = time.perf_counter()\n",
    "        run_id = datasaver.run_id\n",
    "    stop = time.perf_counter()\n",
    "    tot_time = stop - start\n",
    "    add_time = stop_adding - start_adding\n",
    "    return tot_time, add_time, run_id"
   ]
  },
  {
   "cell_type": "markdown",
   "metadata": {},
   "source": [
    "## Comparison between numeric/array data and binary blob"
   ]
  },
  {
   "cell_type": "markdown",
   "metadata": {},
   "source": [
    "### Case1: Short experiment time"
   ]
  },
  {
   "cell_type": "code",
   "execution_count": 5,
   "metadata": {
    "execution": {
     "iopub.execute_input": "2021-04-02T10:31:57.360806Z",
     "iopub.status.busy": "2021-04-02T10:31:57.359999Z",
     "iopub.status.idle": "2021-04-02T10:31:58.212008Z",
     "shell.execute_reply": "2021-04-02T10:31:58.211090Z"
    }
   },
   "outputs": [
    {
     "name": "stdout",
     "output_type": "stream",
     "text": [
      "Starting experimental run with id: 1. \n",
      "Starting experimental run with id: 2. \n",
      "Starting experimental run with id: 3. \n",
      "Starting experimental run with id: 4. \n",
      "Starting experimental run with id: 5. \n"
     ]
    },
    {
     "name": "stdout",
     "output_type": "stream",
     "text": [
      "Starting experimental run with id: 6. \n"
     ]
    },
    {
     "name": "stdout",
     "output_type": "stream",
     "text": [
      "Starting experimental run with id: 7. \n"
     ]
    },
    {
     "name": "stdout",
     "output_type": "stream",
     "text": [
      "Starting experimental run with id: 8. \n",
      "Starting experimental run with id: 9. \n"
     ]
    },
    {
     "name": "stdout",
     "output_type": "stream",
     "text": [
      "Starting experimental run with id: 10. \n",
      "Starting experimental run with id: 11. \n"
     ]
    },
    {
     "name": "stdout",
     "output_type": "stream",
     "text": [
      "Starting experimental run with id: 12. \n",
      "Starting experimental run with id: 13. \n"
     ]
    },
    {
     "name": "stdout",
     "output_type": "stream",
     "text": [
      "Starting experimental run with id: 14. \n"
     ]
    }
   ],
   "source": [
    "sizes = [1,500,1000,2000,3000,4000,5000]\n",
    "t_numeric = []\n",
    "t_numeric_add = []\n",
    "t_array = []\n",
    "t_array_add = []\n",
    "for size in sizes:\n",
    "    tn, tna, run_id_n =  insert_data('numeric', size)\n",
    "    t_numeric.append(tn)\n",
    "    t_numeric_add.append(tna)\n",
    "\n",
    "    ta, taa, run_id_a =  insert_data('array', size)\n",
    "    t_array.append(ta)\n",
    "    t_array_add.append(taa)"
   ]
  },
  {
   "cell_type": "code",
   "execution_count": 6,
   "metadata": {
    "execution": {
     "iopub.execute_input": "2021-04-02T10:31:58.232598Z",
     "iopub.status.busy": "2021-04-02T10:31:58.230650Z",
     "iopub.status.idle": "2021-04-02T10:31:58.415297Z",
     "shell.execute_reply": "2021-04-02T10:31:58.415772Z"
    }
   },
   "outputs": [
    {
     "data": {
      "image/png": "[encoded data removed]",
      "text/plain": [
       "<Figure size 432x288 with 1 Axes>"
      ]
     },
     "metadata": {
      "needs_background": "light"
     },
     "output_type": "display_data"
    }
   ],
   "source": [
    "fig, ax = plt.subplots(1,1)\n",
    "ax.plot(sizes, t_numeric, 'o-', label='Inserting row-by-row')\n",
    "ax.plot(sizes, t_numeric_add, 'o-', label='Inserting row-by-row: add_result only')\n",
    "ax.plot(sizes, t_array, 'd-', label='Inserting as binary blob')\n",
    "ax.plot(sizes, t_array_add, 'd-', label='Inserting as binary blob: add_result only')\n",
    "ax.legend()\n",
    "ax.set_xlabel('Array length')\n",
    "ax.set_ylabel('Time (s)')\n",
    "fig.tight_layout()"
   ]
  },
  {
   "cell_type": "markdown",
   "metadata": {},
   "source": [
    "As shown in the latter figure, the time to setup and and close the experiment is approximately 0.4 sec. In case of small array sizes, the difference between inserting values of data as arrays and inserting them row-by-row is relatively unimportant. At larger array sizes, i.e. above 10000 points, the cost of writing data as individual datapoints starts to become important.\n"
   ]
  },
  {
   "cell_type": "markdown",
   "metadata": {},
   "source": [
    "### Case2: Long experiment time "
   ]
  },
  {
   "cell_type": "code",
   "execution_count": 7,
   "metadata": {
    "execution": {
     "iopub.execute_input": "2021-04-02T10:31:58.423922Z",
     "iopub.status.busy": "2021-04-02T10:31:58.423325Z",
     "iopub.status.idle": "2021-04-02T10:32:59.900230Z",
     "shell.execute_reply": "2021-04-02T10:32:59.899331Z"
    }
   },
   "outputs": [
    {
     "name": "stdout",
     "output_type": "stream",
     "text": [
      "Starting experimental run with id: 15. \n",
      "Starting experimental run with id: 16. \n",
      "Starting experimental run with id: 17. \n"
     ]
    },
    {
     "name": "stdout",
     "output_type": "stream",
     "text": [
      "Starting experimental run with id: 18. \n",
      "Starting experimental run with id: 19. \n"
     ]
    },
    {
     "name": "stdout",
     "output_type": "stream",
     "text": [
      "Starting experimental run with id: 20. \n"
     ]
    },
    {
     "name": "stdout",
     "output_type": "stream",
     "text": [
      "Starting experimental run with id: 21. \n"
     ]
    },
    {
     "name": "stdout",
     "output_type": "stream",
     "text": [
      "Starting experimental run with id: 22. \n"
     ]
    },
    {
     "name": "stdout",
     "output_type": "stream",
     "text": [
      "Starting experimental run with id: 23. \n"
     ]
    },
    {
     "name": "stdout",
     "output_type": "stream",
     "text": [
      "Starting experimental run with id: 24. \n"
     ]
    },
    {
     "name": "stdout",
     "output_type": "stream",
     "text": [
      "Starting experimental run with id: 25. \n"
     ]
    },
    {
     "name": "stdout",
     "output_type": "stream",
     "text": [
      "Starting experimental run with id: 26. \n"
     ]
    },
    {
     "name": "stdout",
     "output_type": "stream",
     "text": [
      "Starting experimental run with id: 27. \n"
     ]
    },
    {
     "name": "stdout",
     "output_type": "stream",
     "text": [
      "Starting experimental run with id: 28. \n"
     ]
    }
   ],
   "source": [
    "sizes = [1,500,1000,2000,3000,4000,5000]\n",
    "nreps = 100\n",
    "t_numeric = []\n",
    "t_numeric_add = []\n",
    "t_numeric_run_ids = []\n",
    "t_array = []\n",
    "t_array_add = []\n",
    "t_array_run_ids = []\n",
    "for size in sizes:\n",
    "    tn, tna, run_id_n =  insert_data('numeric', size, nreps=nreps)\n",
    "    t_numeric.append(tn)\n",
    "    t_numeric_add.append(tna)\n",
    "    t_numeric_run_ids.append(run_id_n)\n",
    "\n",
    "    ta, taa, run_id_a =  insert_data('array', size, nreps=nreps)\n",
    "    t_array.append(ta)\n",
    "    t_array_add.append(taa)\n",
    "    t_array_run_ids.append(run_id_a)"
   ]
  },
  {
   "cell_type": "code",
   "execution_count": 8,
   "metadata": {
    "execution": {
     "iopub.execute_input": "2021-04-02T10:32:59.929539Z",
     "iopub.status.busy": "2021-04-02T10:32:59.919945Z",
     "iopub.status.idle": "2021-04-02T10:33:00.093966Z",
     "shell.execute_reply": "2021-04-02T10:33:00.094515Z"
    },
    "scrolled": true
   },
   "outputs": [
    {
     "data": {
      "image/png": "[encoded data removed]",
      "text/plain": [
       "<Figure size 432x288 with 1 Axes>"
      ]
     },
     "metadata": {
      "needs_background": "light"
     },
     "output_type": "display_data"
    }
   ],
   "source": [
    "fig, ax = plt.subplots(1,1)\n",
    "ax.plot(sizes, t_numeric, 'o-', label='Inserting row-by-row')\n",
    "ax.plot(sizes, t_numeric_add, 'o-', label='Inserting row-by-row: add_result only')\n",
    "ax.plot(sizes, t_array, 'd-', label='Inserting as binary blob')\n",
    "ax.plot(sizes, t_array_add, 'd-', label='Inserting as binary blob: add_result only')\n",
    "ax.legend()\n",
    "ax.set_xlabel('Array length')\n",
    "ax.set_ylabel('Time (s)')\n",
    "fig.tight_layout()"
   ]
  },
  {
   "cell_type": "markdown",
   "metadata": {},
   "source": [
    "However, as we increase the length of the experiment, as seen here by repeating the insertion 100 times, we see a big difference between inserting values of the data row-by-row and inserting it as a binary blob."
   ]
  },
  {
   "cell_type": "markdown",
   "metadata": {},
   "source": [
    "## Loading the data "
   ]
  },
  {
   "cell_type": "code",
   "execution_count": 9,
   "metadata": {
    "execution": {
     "iopub.execute_input": "2021-04-02T10:33:00.097460Z",
     "iopub.status.busy": "2021-04-02T10:33:00.096878Z",
     "iopub.status.idle": "2021-04-02T10:33:00.100684Z",
     "shell.execute_reply": "2021-04-02T10:33:00.101271Z"
    }
   },
   "outputs": [],
   "source": [
    "from qcodes.dataset.data_set import load_by_id\n",
    "from qcodes.dataset.data_export import get_data_by_id"
   ]
  },
  {
   "cell_type": "markdown",
   "metadata": {},
   "source": [
    "As usual you can load the data by using the ``load_by_id`` function but you will notice that the different storage methods\n",
    "are reflected in shape of the data as it is retrieved. "
   ]
  },
  {
   "cell_type": "code",
   "execution_count": 10,
   "metadata": {
    "execution": {
     "iopub.execute_input": "2021-04-02T10:33:00.105414Z",
     "iopub.status.busy": "2021-04-02T10:33:00.104837Z",
     "iopub.status.idle": "2021-04-02T10:33:00.107109Z",
     "shell.execute_reply": "2021-04-02T10:33:00.106598Z"
    }
   },
   "outputs": [],
   "source": [
    "run_id_n = t_numeric_run_ids[0]\n",
    "run_id_a = t_array_run_ids[0]"
   ]
  },
  {
   "cell_type": "code",
   "execution_count": 11,
   "metadata": {
    "execution": {
     "iopub.execute_input": "2021-04-02T10:33:00.110700Z",
     "iopub.status.busy": "2021-04-02T10:33:00.110128Z",
     "iopub.status.idle": "2021-04-02T10:33:00.120307Z",
     "shell.execute_reply": "2021-04-02T10:33:00.119791Z"
    },
    "scrolled": true
   },
   "outputs": [
    {
     "data": {
      "text/plain": [
       "{'x1': {'x1': array([8.63775221e-01, 8.63775221e-01, 5.56620155e-01, 5.56620155e-01,\n",
       "         3.11848828e-01, 3.11848828e-01, 2.29633127e-01, 2.29633127e-01,\n",
       "         1.16382906e-01, 1.16382906e-01, 4.46838396e-01, 4.46838396e-01,\n",
       "         7.01996141e-02, 7.01996141e-02, 8.53150251e-01, 8.53150251e-01,\n",
       "         1.50071927e-01, 1.50071927e-01, 9.71242572e-01, 9.71242572e-01,\n",
       "         1.83024995e-01, 1.83024995e-01, 9.62456427e-01, 9.62456427e-01,\n",
       "         5.55591521e-01, 5.55591521e-01, 1.57349110e-01, 1.57349110e-01,\n",
       "         6.10529614e-01, 6.10529614e-01, 1.25474801e-02, 1.25474801e-02,\n",
       "         2.46609515e-03, 2.46609515e-03, 1.23571253e-01, 1.23571253e-01,\n",
       "         4.95069092e-02, 4.95069092e-02, 1.19298468e-01, 1.19298468e-01,\n",
       "         1.34313747e-01, 1.34313747e-01, 8.70752199e-01, 8.70752199e-01,\n",
       "         3.26153940e-01, 3.26153940e-01, 5.32613083e-01, 5.32613083e-01,\n",
       "         2.15426068e-01, 2.15426068e-01, 5.21291054e-01, 5.21291054e-01,\n",
       "         8.89467331e-01, 8.89467331e-01, 1.01172049e-01, 1.01172049e-01,\n",
       "         5.20058236e-01, 5.20058236e-01, 5.78913827e-01, 5.78913827e-01,\n",
       "         3.65619220e-02, 3.65619220e-02, 7.20594365e-01, 7.20594365e-01,\n",
       "         9.84826835e-01, 9.84826835e-01, 8.92706988e-01, 8.92706988e-01,\n",
       "         2.06615187e-01, 2.06615187e-01, 8.13769422e-01, 8.13769422e-01,\n",
       "         2.60502345e-01, 2.60502345e-01, 6.63745330e-01, 6.63745330e-01,\n",
       "         4.26316349e-01, 4.26316349e-01, 7.60855909e-02, 7.60855909e-02,\n",
       "         8.10582893e-01, 8.10582893e-01, 5.82921624e-01, 5.82921624e-01,\n",
       "         2.64906781e-01, 2.64906781e-01, 4.19881416e-01, 4.19881416e-01,\n",
       "         6.30165449e-01, 6.30165449e-01, 4.28691602e-01, 4.28691602e-01,\n",
       "         1.84517201e-01, 1.84517201e-01, 4.37359491e-01, 4.37359491e-01,\n",
       "         7.35926011e-04, 7.35926011e-04, 8.57395779e-01, 8.57395779e-01,\n",
       "         6.19950515e-01, 6.19950515e-01, 3.79242379e-01, 3.79242379e-01,\n",
       "         1.82634752e-01, 1.82634752e-01, 5.05204420e-02, 5.05204420e-02,\n",
       "         1.18426652e-01, 1.18426652e-01, 6.55443443e-03, 6.55443443e-03,\n",
       "         4.09871051e-01, 4.09871051e-01, 5.98062486e-03, 5.98062486e-03,\n",
       "         8.11434044e-01, 8.11434044e-01, 3.09064301e-01, 3.09064301e-01,\n",
       "         4.03579426e-01, 4.03579426e-01, 4.74299958e-01, 4.74299958e-01,\n",
       "         4.73324249e-01, 4.73324249e-01, 3.20518431e-02, 3.20518431e-02,\n",
       "         9.36747056e-01, 9.36747056e-01, 8.88105339e-01, 8.88105339e-01,\n",
       "         2.20992392e-01, 2.20992392e-01, 8.69247182e-01, 8.69247182e-01,\n",
       "         9.95575669e-01, 9.95575669e-01, 7.25536692e-01, 7.25536692e-01,\n",
       "         3.03863224e-01, 3.03863224e-01, 5.45730850e-01, 5.45730850e-01,\n",
       "         9.25340081e-01, 9.25340081e-01, 1.29341609e-01, 1.29341609e-01,\n",
       "         5.20528662e-01, 5.20528662e-01, 2.31438658e-01, 2.31438658e-01,\n",
       "         4.23829474e-02, 4.23829474e-02, 6.61093666e-02, 6.61093666e-02,\n",
       "         3.44170416e-01, 3.44170416e-01, 3.02670731e-01, 3.02670731e-01,\n",
       "         2.40397221e-01, 2.40397221e-01, 9.78990540e-01, 9.78990540e-01,\n",
       "         2.82099335e-01, 2.82099335e-01, 5.09928057e-01, 5.09928057e-01,\n",
       "         6.68060182e-01, 6.68060182e-01, 8.92766478e-01, 8.92766478e-01,\n",
       "         6.90661989e-01, 6.90661989e-01, 3.00868719e-01, 3.00868719e-01,\n",
       "         3.76407926e-01, 3.76407926e-01, 9.14940365e-02, 9.14940365e-02,\n",
       "         9.90045957e-02, 9.90045957e-02, 1.58526936e-01, 1.58526936e-01,\n",
       "         8.60576451e-01, 8.60576451e-01, 8.40502926e-01, 8.40502926e-01,\n",
       "         3.13666921e-01, 3.13666921e-01, 1.42574467e-01, 1.42574467e-01,\n",
       "         6.69966175e-01, 6.69966175e-01, 4.89416329e-01, 4.89416329e-01,\n",
       "         1.33872287e-01, 1.33872287e-01, 1.60161097e-01, 1.60161097e-01])}}"
      ]
     },
     "execution_count": 1,
     "metadata": {},
     "output_type": "execute_result"
    }
   ],
   "source": [
    "ds = load_by_id(run_id_n)\n",
    "ds.get_parameter_data('x1')"
   ]
  },
  {
   "cell_type": "markdown",
   "metadata": {},
   "source": [
    "And a dataset stored as binary arrays"
   ]
  },
  {
   "cell_type": "code",
   "execution_count": 12,
   "metadata": {
    "execution": {
     "iopub.execute_input": "2021-04-02T10:33:00.123847Z",
     "iopub.status.busy": "2021-04-02T10:33:00.123263Z",
     "iopub.status.idle": "2021-04-02T10:33:00.182081Z",
     "shell.execute_reply": "2021-04-02T10:33:00.182958Z"
    },
    "scrolled": true
   },
   "outputs": [
    {
     "data": {
      "text/plain": [
       "{'x1': {'x1': array([[0.78683057],\n",
       "         [0.78683057],\n",
       "         [0.93684787],\n",
       "         [0.93684787],\n",
       "         [0.2695439 ],\n",
       "         [0.2695439 ],\n",
       "         [0.14285482],\n",
       "         [0.14285482],\n",
       "         [0.94683864],\n",
       "         [0.94683864],\n",
       "         [0.26546652],\n",
       "         [0.26546652],\n",
       "         [0.30191862],\n",
       "         [0.30191862],\n",
       "         [0.71380212],\n",
       "         [0.71380212],\n",
       "         [0.93959533],\n",
       "         [0.93959533],\n",
       "         [0.4770072 ],\n",
       "         [0.4770072 ],\n",
       "         [0.31016247],\n",
       "         [0.31016247],\n",
       "         [0.00320751],\n",
       "         [0.00320751],\n",
       "         [0.62932263],\n",
       "         [0.62932263],\n",
       "         [0.47409601],\n",
       "         [0.47409601],\n",
       "         [0.74805776],\n",
       "         [0.74805776],\n",
       "         [0.20824877],\n",
       "         [0.20824877],\n",
       "         [0.34041494],\n",
       "         [0.34041494],\n",
       "         [0.34342114],\n",
       "         [0.34342114],\n",
       "         [0.31291389],\n",
       "         [0.31291389],\n",
       "         [0.74418547],\n",
       "         [0.74418547],\n",
       "         [0.84155482],\n",
       "         [0.84155482],\n",
       "         [0.92107552],\n",
       "         [0.92107552],\n",
       "         [0.18342356],\n",
       "         [0.18342356],\n",
       "         [0.09160539],\n",
       "         [0.09160539],\n",
       "         [0.5165914 ],\n",
       "         [0.5165914 ],\n",
       "         [0.81455896],\n",
       "         [0.81455896],\n",
       "         [0.50235363],\n",
       "         [0.50235363],\n",
       "         [0.12483452],\n",
       "         [0.12483452],\n",
       "         [0.29784202],\n",
       "         [0.29784202],\n",
       "         [0.0442577 ],\n",
       "         [0.0442577 ],\n",
       "         [0.36998922],\n",
       "         [0.36998922],\n",
       "         [0.56564794],\n",
       "         [0.56564794],\n",
       "         [0.81302784],\n",
       "         [0.81302784],\n",
       "         [0.90647911],\n",
       "         [0.90647911],\n",
       "         [0.35555275],\n",
       "         [0.35555275],\n",
       "         [0.32901708],\n",
       "         [0.32901708],\n",
       "         [0.93273505],\n",
       "         [0.93273505],\n",
       "         [0.40391701],\n",
       "         [0.40391701],\n",
       "         [0.54558681],\n",
       "         [0.54558681],\n",
       "         [0.98127746],\n",
       "         [0.98127746],\n",
       "         [0.41209104],\n",
       "         [0.41209104],\n",
       "         [0.38550451],\n",
       "         [0.38550451],\n",
       "         [0.00304597],\n",
       "         [0.00304597],\n",
       "         [0.76461154],\n",
       "         [0.76461154],\n",
       "         [0.73543891],\n",
       "         [0.73543891],\n",
       "         [0.02547995],\n",
       "         [0.02547995],\n",
       "         [0.65485149],\n",
       "         [0.65485149],\n",
       "         [0.76686226],\n",
       "         [0.76686226],\n",
       "         [0.8891931 ],\n",
       "         [0.8891931 ],\n",
       "         [0.83066326],\n",
       "         [0.83066326],\n",
       "         [0.43690028],\n",
       "         [0.43690028],\n",
       "         [0.22619048],\n",
       "         [0.22619048],\n",
       "         [0.60133983],\n",
       "         [0.60133983],\n",
       "         [0.81803647],\n",
       "         [0.81803647],\n",
       "         [0.27413592],\n",
       "         [0.27413592],\n",
       "         [0.5382923 ],\n",
       "         [0.5382923 ],\n",
       "         [0.88500135],\n",
       "         [0.88500135],\n",
       "         [0.42187614],\n",
       "         [0.42187614],\n",
       "         [0.00196134],\n",
       "         [0.00196134],\n",
       "         [0.479314  ],\n",
       "         [0.479314  ],\n",
       "         [0.81782744],\n",
       "         [0.81782744],\n",
       "         [0.67874579],\n",
       "         [0.67874579],\n",
       "         [0.6442479 ],\n",
       "         [0.6442479 ],\n",
       "         [0.91947607],\n",
       "         [0.91947607],\n",
       "         [0.50407278],\n",
       "         [0.50407278],\n",
       "         [0.82919162],\n",
       "         [0.82919162],\n",
       "         [0.71174312],\n",
       "         [0.71174312],\n",
       "         [0.81196502],\n",
       "         [0.81196502],\n",
       "         [0.0577556 ],\n",
       "         [0.0577556 ],\n",
       "         [0.22460315],\n",
       "         [0.22460315],\n",
       "         [0.71916713],\n",
       "         [0.71916713],\n",
       "         [0.88027467],\n",
       "         [0.88027467],\n",
       "         [0.35821678],\n",
       "         [0.35821678],\n",
       "         [0.25205949],\n",
       "         [0.25205949],\n",
       "         [0.95826933],\n",
       "         [0.95826933],\n",
       "         [0.85095479],\n",
       "         [0.85095479],\n",
       "         [0.02817137],\n",
       "         [0.02817137],\n",
       "         [0.93176458],\n",
       "         [0.93176458],\n",
       "         [0.88470968],\n",
       "         [0.88470968],\n",
       "         [0.59757016],\n",
       "         [0.59757016],\n",
       "         [0.97521748],\n",
       "         [0.97521748],\n",
       "         [0.13583082],\n",
       "         [0.13583082],\n",
       "         [0.07983542],\n",
       "         [0.07983542],\n",
       "         [0.56156163],\n",
       "         [0.56156163],\n",
       "         [0.03936023],\n",
       "         [0.03936023],\n",
       "         [0.60140695],\n",
       "         [0.60140695],\n",
       "         [0.22181667],\n",
       "         [0.22181667],\n",
       "         [0.85784749],\n",
       "         [0.85784749],\n",
       "         [0.15000597],\n",
       "         [0.15000597],\n",
       "         [0.02019567],\n",
       "         [0.02019567],\n",
       "         [0.39390904],\n",
       "         [0.39390904],\n",
       "         [0.93462127],\n",
       "         [0.93462127],\n",
       "         [0.2770213 ],\n",
       "         [0.2770213 ],\n",
       "         [0.41695865],\n",
       "         [0.41695865],\n",
       "         [0.72622899],\n",
       "         [0.72622899],\n",
       "         [0.26888756],\n",
       "         [0.26888756],\n",
       "         [0.17397632],\n",
       "         [0.17397632],\n",
       "         [0.81726645],\n",
       "         [0.81726645],\n",
       "         [0.7521252 ],\n",
       "         [0.7521252 ],\n",
       "         [0.00348515],\n",
       "         [0.00348515]])}}"
      ]
     },
     "execution_count": 1,
     "metadata": {},
     "output_type": "execute_result"
    }
   ],
   "source": [
    "ds = load_by_id(run_id_a)\n",
    "ds.get_parameter_data('x1')"
   ]
  },
  {
   "cell_type": "code",
   "execution_count": null,
   "metadata": {},
   "outputs": [],
   "source": []
  }
 ],
 "metadata": {
  "kernelspec": {
   "display_name": "Python 3",
   "language": "python",
   "name": "python3"
  },
  "language_info": {
   "codemirror_mode": {
    "name": "ipython",
    "version": 3
   },
   "file_extension": ".py",
   "mimetype": "text/x-python",
   "name": "python",
   "nbconvert_exporter": "python",
   "pygments_lexer": "ipython3",
   "version": "3.7.10"
  },
  "nbsphinx": {
   "timeout": 600
  },
  "toc": {
   "base_numbering": 1,
   "nav_menu": {},
   "number_sections": true,
   "sideBar": true,
   "skip_h1_title": false,
   "title_cell": "Table of Contents",
   "title_sidebar": "Contents",
   "toc_cell": false,
   "toc_position": {},
   "toc_section_display": true,
   "toc_window_display": false
  },
  "varInspector": {
   "cols": {
    "lenName": 16,
    "lenType": 16,
    "lenVar": 40
   },
   "kernels_config": {
    "python": {
     "delete_cmd_postfix": "",
     "delete_cmd_prefix": "del ",
     "library": "var_list.py",
     "varRefreshCmd": "print(var_dic_list())"
    },
    "r": {
     "delete_cmd_postfix": ") ",
     "delete_cmd_prefix": "rm(",
     "library": "var_list.r",
     "varRefreshCmd": "cat(var_dic_list()) "
    }
   },
   "types_to_exclude": [
    "module",
    "function",
    "builtin_function_or_method",
    "instance",
    "_Feature"
   ],
   "window_display": false
  }
 },
 "nbformat": 4,
 "nbformat_minor": 2
}
