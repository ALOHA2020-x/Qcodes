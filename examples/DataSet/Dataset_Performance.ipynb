{
 "cells": [
  {
   "cell_type": "markdown",
   "metadata": {},
   "source": [
    "# DataSet Performance\n",
    "\n",
    "This notebook shows the trade-off between inserting data into a database row-by-row and as binary blobs. Inserting the data row-by-row means that we have direct access to all the data and may perform queries directly on the values of the data. On the other hand, as we shall see, this is much slower than inserting the data directly as binary blobs."
   ]
  },
  {
   "cell_type": "markdown",
   "metadata": {},
   "source": [
    "First, we choose a new location for the database to ensure that we don't add a bunch of benchmarking data to the default one."
   ]
  },
  {
   "cell_type": "code",
   "execution_count": 1,
   "metadata": {
    "execution": {
     "iopub.execute_input": "2021-01-22T08:44:55.765593Z",
     "iopub.status.busy": "2021-01-22T08:44:55.765212Z",
     "iopub.status.idle": "2021-01-22T08:44:56.584933Z",
     "shell.execute_reply": "2021-01-22T08:44:56.585364Z"
    }
   },
   "outputs": [
    {
     "name": "stdout",
     "output_type": "stream",
     "text": [
      "Logging hadn't been started.\n",
      "Activating auto-logging. Current session state plus future input saved.\n",
      "Filename       : /home/vsts/.qcodes/logs/command_history.log\n",
      "Mode           : append\n",
      "Output logging : True\n",
      "Raw input log  : False\n",
      "Timestamping   : True\n",
      "State          : active\n"
     ]
    },
    {
     "name": "stdout",
     "output_type": "stream",
     "text": [
      "Qcodes Logfile : /home/vsts/.qcodes/logs/210122-13968-qcodes.log\n"
     ]
    }
   ],
   "source": [
    "import os\n",
    "cwd = os.getcwd()\n",
    "import qcodes as qc\n",
    "qc.config[\"core\"][\"db_location\"] = os.path.join(cwd, 'testing.db')\n"
   ]
  },
  {
   "cell_type": "code",
   "execution_count": 2,
   "metadata": {
    "execution": {
     "iopub.execute_input": "2021-01-22T08:44:56.591431Z",
     "iopub.status.busy": "2021-01-22T08:44:56.590339Z",
     "iopub.status.idle": "2021-01-22T08:44:56.736374Z",
     "shell.execute_reply": "2021-01-22T08:44:56.735626Z"
    }
   },
   "outputs": [],
   "source": [
    "%matplotlib inline\n",
    "import time\n",
    "import matplotlib.pyplot as plt\n",
    "import numpy as np\n",
    "\n",
    "import qcodes as qc\n",
    "from qcodes.instrument.parameter import ManualParameter\n",
    "from qcodes.dataset.experiment_container import (Experiment,\n",
    "                                                 load_last_experiment,\n",
    "                                                 new_experiment)\n",
    "from qcodes.dataset.sqlite.database import initialise_database\n",
    "from qcodes import load_or_create_experiment\n",
    "from qcodes.dataset.measurements import Measurement"
   ]
  },
  {
   "cell_type": "code",
   "execution_count": 3,
   "metadata": {
    "execution": {
     "iopub.execute_input": "2021-01-22T08:44:56.739736Z",
     "iopub.status.busy": "2021-01-22T08:44:56.738892Z",
     "iopub.status.idle": "2021-01-22T08:44:56.834480Z",
     "shell.execute_reply": "2021-01-22T08:44:56.833986Z"
    }
   },
   "outputs": [
    {
     "name": "stdout",
     "output_type": "stream",
     "text": [
      "\r",
      "0it [00:00, ?it/s]"
     ]
    },
    {
     "name": "stdout",
     "output_type": "stream",
     "text": [
      "\r",
      "Upgrading database; v0 -> v1: : 0it [00:00, ?it/s]"
     ]
    },
    {
     "name": "stdout",
     "output_type": "stream",
     "text": [
      "\r",
      "Upgrading database; v0 -> v1: : 0it [00:00, ?it/s]"
     ]
    },
    {
     "name": "stdout",
     "output_type": "stream",
     "text": [
      "\n",
      "\r",
      "  0%|          | 0/1 [00:00<?, ?it/s]"
     ]
    },
    {
     "name": "stdout",
     "output_type": "stream",
     "text": [
      "\r",
      "Upgrading database; v1 -> v2:   0%|          | 0/1 [00:00<?, ?it/s]"
     ]
    },
    {
     "name": "stdout",
     "output_type": "stream",
     "text": [
      "\r",
      "Upgrading database; v1 -> v2: 100%|██████████| 1/1 [00:00<00:00, 473.02it/s]"
     ]
    },
    {
     "name": "stdout",
     "output_type": "stream",
     "text": [
      "\n",
      "\r",
      "0it [00:00, ?it/s]"
     ]
    },
    {
     "name": "stdout",
     "output_type": "stream",
     "text": [
      "\r",
      "Upgrading database; v2 -> v3: : 0it [00:00, ?it/s]"
     ]
    },
    {
     "name": "stdout",
     "output_type": "stream",
     "text": [
      "\r",
      "Upgrading database; v2 -> v3: : 0it [00:00, ?it/s]"
     ]
    },
    {
     "name": "stdout",
     "output_type": "stream",
     "text": [
      "\n",
      "\r",
      "0it [00:00, ?it/s]"
     ]
    },
    {
     "name": "stdout",
     "output_type": "stream",
     "text": [
      "\r",
      "Upgrading database; v3 -> v4: : 0it [00:00, ?it/s]"
     ]
    },
    {
     "name": "stdout",
     "output_type": "stream",
     "text": [
      "\r",
      "Upgrading database; v3 -> v4: : 0it [00:00, ?it/s]"
     ]
    },
    {
     "name": "stdout",
     "output_type": "stream",
     "text": [
      "\n",
      "\r",
      "  0%|          | 0/1 [00:00<?, ?it/s]"
     ]
    },
    {
     "name": "stdout",
     "output_type": "stream",
     "text": [
      "\r",
      "Upgrading database; v4 -> v5:   0%|          | 0/1 [00:00<?, ?it/s]"
     ]
    },
    {
     "name": "stdout",
     "output_type": "stream",
     "text": [
      "\r",
      "Upgrading database; v4 -> v5: 100%|██████████| 1/1 [00:00<00:00, 1398.10it/s]"
     ]
    },
    {
     "name": "stdout",
     "output_type": "stream",
     "text": [
      "\n",
      "\r",
      "0it [00:00, ?it/s]"
     ]
    },
    {
     "name": "stdout",
     "output_type": "stream",
     "text": [
      "\r",
      "Upgrading database; v5 -> v6: : 0it [00:00, ?it/s]"
     ]
    },
    {
     "name": "stdout",
     "output_type": "stream",
     "text": [
      "\r",
      "Upgrading database; v5 -> v6: : 0it [00:00, ?it/s]"
     ]
    },
    {
     "name": "stdout",
     "output_type": "stream",
     "text": [
      "\n",
      "\r",
      "  0%|          | 0/1 [00:00<?, ?it/s]"
     ]
    },
    {
     "name": "stdout",
     "output_type": "stream",
     "text": [
      "\r",
      "Upgrading database; v6 -> v7:   0%|          | 0/1 [00:00<?, ?it/s]"
     ]
    },
    {
     "name": "stdout",
     "output_type": "stream",
     "text": [
      "\r",
      "Upgrading database; v6 -> v7: 100%|██████████| 1/1 [00:00<00:00, 505.28it/s]"
     ]
    },
    {
     "name": "stdout",
     "output_type": "stream",
     "text": [
      "\n",
      "\r",
      "  0%|          | 0/1 [00:00<?, ?it/s]"
     ]
    },
    {
     "name": "stdout",
     "output_type": "stream",
     "text": [
      "\r",
      "Upgrading database; v7 -> v8:   0%|          | 0/1 [00:00<?, ?it/s]"
     ]
    },
    {
     "name": "stdout",
     "output_type": "stream",
     "text": [
      "\r",
      "Upgrading database; v7 -> v8: 100%|██████████| 1/1 [00:00<00:00, 1074.36it/s]"
     ]
    },
    {
     "name": "stdout",
     "output_type": "stream",
     "text": [
      "\n",
      "\r",
      "  0%|          | 0/1 [00:00<?, ?it/s]"
     ]
    },
    {
     "name": "stdout",
     "output_type": "stream",
     "text": [
      "\r",
      "Upgrading database; v8 -> v9:   0%|          | 0/1 [00:00<?, ?it/s]"
     ]
    },
    {
     "name": "stdout",
     "output_type": "stream",
     "text": [
      "\r",
      "Upgrading database; v8 -> v9: 100%|██████████| 1/1 [00:00<00:00, 592.58it/s]"
     ]
    },
    {
     "name": "stdout",
     "output_type": "stream",
     "text": [
      "\n"
     ]
    }
   ],
   "source": [
    "initialise_database()\n",
    "exp = load_or_create_experiment(experiment_name='tutorial_exp', sample_name=\"no sample\")"
   ]
  },
  {
   "cell_type": "markdown",
   "metadata": {},
   "source": [
    "Here, we define a simple function to benchmark the time it takes to insert n points with either numeric or array data type.\n",
    "We will compare both the time used to call ``add_result`` and the time used for the full measurement."
   ]
  },
  {
   "cell_type": "code",
   "execution_count": 4,
   "metadata": {
    "execution": {
     "iopub.execute_input": "2021-01-22T08:44:56.841905Z",
     "iopub.status.busy": "2021-01-22T08:44:56.840889Z",
     "iopub.status.idle": "2021-01-22T08:44:56.842366Z",
     "shell.execute_reply": "2021-01-22T08:44:56.842816Z"
    }
   },
   "outputs": [],
   "source": [
    "def insert_data(paramtype, npoints, nreps=1):\n",
    "\n",
    "    meas = Measurement(exp=exp)\n",
    "\n",
    "    x1 = ManualParameter('x1')\n",
    "    x2 = ManualParameter('x2')\n",
    "    x3 = ManualParameter('x3')\n",
    "    y1 = ManualParameter('y1')\n",
    "    y2 = ManualParameter('y2')\n",
    "\n",
    "    meas.register_parameter(x1, paramtype=paramtype)\n",
    "    meas.register_parameter(x2, paramtype=paramtype)\n",
    "    meas.register_parameter(x3, paramtype=paramtype)\n",
    "    meas.register_parameter(y1, setpoints=[x1, x2, x3],\n",
    "                            paramtype=paramtype)\n",
    "    meas.register_parameter(y2, setpoints=[x1, x2, x3],\n",
    "                            paramtype=paramtype)\n",
    "    start = time.perf_counter()\n",
    "    with meas.run() as datasaver:\n",
    "        start_adding = time.perf_counter()\n",
    "        for i in range(nreps):\n",
    "            datasaver.add_result((x1, np.random.rand(npoints)),\n",
    "                                 (x2, np.random.rand(npoints)),\n",
    "                                 (x3, np.random.rand(npoints)),\n",
    "                                 (y1, np.random.rand(npoints)),\n",
    "                                 (y2, np.random.rand(npoints)))\n",
    "        stop_adding = time.perf_counter()\n",
    "        run_id = datasaver.run_id\n",
    "    stop = time.perf_counter()\n",
    "    tot_time = stop - start\n",
    "    add_time = stop_adding - start_adding\n",
    "    return tot_time, add_time, run_id"
   ]
  },
  {
   "cell_type": "markdown",
   "metadata": {},
   "source": [
    "## Comparison between numeric/array data and binary blob"
   ]
  },
  {
   "cell_type": "markdown",
   "metadata": {},
   "source": [
    "### Case1: Short experiment time"
   ]
  },
  {
   "cell_type": "code",
   "execution_count": 5,
   "metadata": {
    "execution": {
     "iopub.execute_input": "2021-01-22T08:44:56.847907Z",
     "iopub.status.busy": "2021-01-22T08:44:56.847456Z",
     "iopub.status.idle": "2021-01-22T08:44:57.505671Z",
     "shell.execute_reply": "2021-01-22T08:44:57.506001Z"
    }
   },
   "outputs": [
    {
     "name": "stdout",
     "output_type": "stream",
     "text": [
      "Starting experimental run with id: 1. \n",
      "Starting experimental run with id: 2. \n",
      "Starting experimental run with id: 3. \n",
      "Starting experimental run with id: 4. \n",
      "Starting experimental run with id: 5. \n",
      "Starting experimental run with id: 6. \n",
      "Starting experimental run with id: 7. \n"
     ]
    },
    {
     "name": "stdout",
     "output_type": "stream",
     "text": [
      "Starting experimental run with id: 8. \n",
      "Starting experimental run with id: 9. \n"
     ]
    },
    {
     "name": "stdout",
     "output_type": "stream",
     "text": [
      "Starting experimental run with id: 10. \n",
      "Starting experimental run with id: 11. \n"
     ]
    },
    {
     "name": "stdout",
     "output_type": "stream",
     "text": [
      "Starting experimental run with id: 12. \n",
      "Starting experimental run with id: 13. \n"
     ]
    },
    {
     "name": "stdout",
     "output_type": "stream",
     "text": [
      "Starting experimental run with id: 14. \n"
     ]
    }
   ],
   "source": [
    "sizes = [1,500,1000,2000,3000,4000,5000]\n",
    "t_numeric = []\n",
    "t_numeric_add = []\n",
    "t_array = []\n",
    "t_array_add = []\n",
    "for size in sizes:\n",
    "    tn, tna, run_id_n =  insert_data('numeric', size)\n",
    "    t_numeric.append(tn)\n",
    "    t_numeric_add.append(tna)\n",
    "\n",
    "    ta, taa, run_id_a =  insert_data('array', size)\n",
    "    t_array.append(ta)\n",
    "    t_array_add.append(taa)"
   ]
  },
  {
   "cell_type": "code",
   "execution_count": 6,
   "metadata": {
    "execution": {
     "iopub.execute_input": "2021-01-22T08:44:57.519822Z",
     "iopub.status.busy": "2021-01-22T08:44:57.519201Z",
     "iopub.status.idle": "2021-01-22T08:44:57.677008Z",
     "shell.execute_reply": "2021-01-22T08:44:57.676557Z"
    }
   },
   "outputs": [
    {
     "data": {
      "image/png": "[encoded data removed]",
      "text/plain": [
       "<Figure size 432x288 with 1 Axes>"
      ]
     },
     "metadata": {
      "needs_background": "light"
     },
     "output_type": "display_data"
    }
   ],
   "source": [
    "fig, ax = plt.subplots(1,1)\n",
    "ax.plot(sizes, t_numeric, 'o-', label='Inserting row-by-row')\n",
    "ax.plot(sizes, t_numeric_add, 'o-', label='Inserting row-by-row: add_result only')\n",
    "ax.plot(sizes, t_array, 'd-', label='Inserting as binary blob')\n",
    "ax.plot(sizes, t_array_add, 'd-', label='Inserting as binary blob: add_result only')\n",
    "ax.legend()\n",
    "ax.set_xlabel('Array length')\n",
    "ax.set_ylabel('Time (s)')\n",
    "fig.tight_layout()"
   ]
  },
  {
   "cell_type": "markdown",
   "metadata": {},
   "source": [
    "As shown in the latter figure, the time to setup and and close the experiment is approximately 0.4 sec. In case of small array sizes, the difference between inserting values of data as arrays and inserting them row-by-row is relatively unimportant. At larger array sizes, i.e. above 10000 points, the cost of writing data as individual datapoints starts to become important.\n"
   ]
  },
  {
   "cell_type": "markdown",
   "metadata": {},
   "source": [
    "### Case2: Long experiment time "
   ]
  },
  {
   "cell_type": "code",
   "execution_count": 7,
   "metadata": {
    "execution": {
     "iopub.execute_input": "2021-01-22T08:44:57.682615Z",
     "iopub.status.busy": "2021-01-22T08:44:57.682214Z",
     "iopub.status.idle": "2021-01-22T08:45:48.250217Z",
     "shell.execute_reply": "2021-01-22T08:45:48.250568Z"
    }
   },
   "outputs": [
    {
     "name": "stdout",
     "output_type": "stream",
     "text": [
      "Starting experimental run with id: 15. \n"
     ]
    },
    {
     "name": "stdout",
     "output_type": "stream",
     "text": [
      "Starting experimental run with id: 16. \n",
      "Starting experimental run with id: 17. \n"
     ]
    },
    {
     "name": "stdout",
     "output_type": "stream",
     "text": [
      "Starting experimental run with id: 18. \n",
      "Starting experimental run with id: 19. \n"
     ]
    },
    {
     "name": "stdout",
     "output_type": "stream",
     "text": [
      "Starting experimental run with id: 20. \n"
     ]
    },
    {
     "name": "stdout",
     "output_type": "stream",
     "text": [
      "Starting experimental run with id: 21. \n"
     ]
    },
    {
     "name": "stdout",
     "output_type": "stream",
     "text": [
      "Starting experimental run with id: 22. \n"
     ]
    },
    {
     "name": "stdout",
     "output_type": "stream",
     "text": [
      "Starting experimental run with id: 23. \n"
     ]
    },
    {
     "name": "stdout",
     "output_type": "stream",
     "text": [
      "Starting experimental run with id: 24. \n"
     ]
    },
    {
     "name": "stdout",
     "output_type": "stream",
     "text": [
      "Starting experimental run with id: 25. \n"
     ]
    },
    {
     "name": "stdout",
     "output_type": "stream",
     "text": [
      "Starting experimental run with id: 26. \n"
     ]
    },
    {
     "name": "stdout",
     "output_type": "stream",
     "text": [
      "Starting experimental run with id: 27. \n"
     ]
    },
    {
     "name": "stdout",
     "output_type": "stream",
     "text": [
      "Starting experimental run with id: 28. \n"
     ]
    }
   ],
   "source": [
    "sizes = [1,500,1000,2000,3000,4000,5000]\n",
    "nreps = 100\n",
    "t_numeric = []\n",
    "t_numeric_add = []\n",
    "t_numeric_run_ids = []\n",
    "t_array = []\n",
    "t_array_add = []\n",
    "t_array_run_ids = []\n",
    "for size in sizes:\n",
    "    tn, tna, run_id_n =  insert_data('numeric', size, nreps=nreps)\n",
    "    t_numeric.append(tn)\n",
    "    t_numeric_add.append(tna)\n",
    "    t_numeric_run_ids.append(run_id_n)\n",
    "\n",
    "    ta, taa, run_id_a =  insert_data('array', size, nreps=nreps)\n",
    "    t_array.append(ta)\n",
    "    t_array_add.append(taa)\n",
    "    t_array_run_ids.append(run_id_a)"
   ]
  },
  {
   "cell_type": "code",
   "execution_count": 8,
   "metadata": {
    "execution": {
     "iopub.execute_input": "2021-01-22T08:45:48.272723Z",
     "iopub.status.busy": "2021-01-22T08:45:48.264384Z",
     "iopub.status.idle": "2021-01-22T08:45:48.409315Z",
     "shell.execute_reply": "2021-01-22T08:45:48.409646Z"
    },
    "scrolled": true
   },
   "outputs": [
    {
     "data": {
      "image/png": "[encoded data removed]",
      "text/plain": [
       "<Figure size 432x288 with 1 Axes>"
      ]
     },
     "metadata": {
      "needs_background": "light"
     },
     "output_type": "display_data"
    }
   ],
   "source": [
    "fig, ax = plt.subplots(1,1)\n",
    "ax.plot(sizes, t_numeric, 'o-', label='Inserting row-by-row')\n",
    "ax.plot(sizes, t_numeric_add, 'o-', label='Inserting row-by-row: add_result only')\n",
    "ax.plot(sizes, t_array, 'd-', label='Inserting as binary blob')\n",
    "ax.plot(sizes, t_array_add, 'd-', label='Inserting as binary blob: add_result only')\n",
    "ax.legend()\n",
    "ax.set_xlabel('Array length')\n",
    "ax.set_ylabel('Time (s)')\n",
    "fig.tight_layout()"
   ]
  },
  {
   "cell_type": "markdown",
   "metadata": {},
   "source": [
    "However, as we increase the length of the experiment, as seen here by repeating the insertion 100 times, we see a big difference between inserting values of the data row-by-row and inserting it as a binary blob."
   ]
  },
  {
   "cell_type": "markdown",
   "metadata": {},
   "source": [
    "## Loading the data "
   ]
  },
  {
   "cell_type": "code",
   "execution_count": 9,
   "metadata": {
    "execution": {
     "iopub.execute_input": "2021-01-22T08:45:48.412825Z",
     "iopub.status.busy": "2021-01-22T08:45:48.412425Z",
     "iopub.status.idle": "2021-01-22T08:45:48.414665Z",
     "shell.execute_reply": "2021-01-22T08:45:48.415221Z"
    }
   },
   "outputs": [],
   "source": [
    "from qcodes.dataset.data_set import load_by_id\n",
    "from qcodes.dataset.data_export import get_data_by_id"
   ]
  },
  {
   "cell_type": "markdown",
   "metadata": {},
   "source": [
    "As usual you can load the data by using the ``load_by_id`` function but you will notice that the different storage methods\n",
    "are reflected in shape of the data as it is retrieved. "
   ]
  },
  {
   "cell_type": "code",
   "execution_count": 10,
   "metadata": {
    "execution": {
     "iopub.execute_input": "2021-01-22T08:45:48.418418Z",
     "iopub.status.busy": "2021-01-22T08:45:48.417800Z",
     "iopub.status.idle": "2021-01-22T08:45:48.421076Z",
     "shell.execute_reply": "2021-01-22T08:45:48.420323Z"
    }
   },
   "outputs": [],
   "source": [
    "run_id_n = t_numeric_run_ids[0]\n",
    "run_id_a = t_array_run_ids[0]"
   ]
  },
  {
   "cell_type": "code",
   "execution_count": 11,
   "metadata": {
    "execution": {
     "iopub.execute_input": "2021-01-22T08:45:48.423590Z",
     "iopub.status.busy": "2021-01-22T08:45:48.423202Z",
     "iopub.status.idle": "2021-01-22T08:45:48.431477Z",
     "shell.execute_reply": "2021-01-22T08:45:48.431058Z"
    },
    "scrolled": true
   },
   "outputs": [
    {
     "data": {
      "text/plain": [
       "{'x1': {'x1': array([0.39617334, 0.39617334, 0.27657487, 0.27657487, 0.6528491 ,\n",
       "         0.6528491 , 0.47684947, 0.47684947, 0.45305787, 0.45305787,\n",
       "         0.25203206, 0.25203206, 0.81316615, 0.81316615, 0.88355363,\n",
       "         0.88355363, 0.83268067, 0.83268067, 0.61552344, 0.61552344,\n",
       "         0.45329692, 0.45329692, 0.1081142 , 0.1081142 , 0.39823404,\n",
       "         0.39823404, 0.86970652, 0.86970652, 0.26841486, 0.26841486,\n",
       "         0.13369686, 0.13369686, 0.6193396 , 0.6193396 , 0.55063676,\n",
       "         0.55063676, 0.47966162, 0.47966162, 0.35337464, 0.35337464,\n",
       "         0.31830895, 0.31830895, 0.14509918, 0.14509918, 0.14983562,\n",
       "         0.14983562, 0.25039963, 0.25039963, 0.71514204, 0.71514204,\n",
       "         0.36902523, 0.36902523, 0.31217457, 0.31217457, 0.81133844,\n",
       "         0.81133844, 0.32007013, 0.32007013, 0.28929069, 0.28929069,\n",
       "         0.36470745, 0.36470745, 0.70067005, 0.70067005, 0.60025856,\n",
       "         0.60025856, 0.31981696, 0.31981696, 0.78011977, 0.78011977,\n",
       "         0.01696336, 0.01696336, 0.7898263 , 0.7898263 , 0.78311051,\n",
       "         0.78311051, 0.48205707, 0.48205707, 0.26761085, 0.26761085,\n",
       "         0.1469611 , 0.1469611 , 0.14602674, 0.14602674, 0.84532275,\n",
       "         0.84532275, 0.3614994 , 0.3614994 , 0.58232468, 0.58232468,\n",
       "         0.94721518, 0.94721518, 0.48554343, 0.48554343, 0.10362503,\n",
       "         0.10362503, 0.83290202, 0.83290202, 0.94525005, 0.94525005,\n",
       "         0.63622271, 0.63622271, 0.66937317, 0.66937317, 0.92543231,\n",
       "         0.92543231, 0.53599164, 0.53599164, 0.32864733, 0.32864733,\n",
       "         0.48215141, 0.48215141, 0.65299548, 0.65299548, 0.94579252,\n",
       "         0.94579252, 0.06384641, 0.06384641, 0.64684853, 0.64684853,\n",
       "         0.34926427, 0.34926427, 0.96356009, 0.96356009, 0.77967816,\n",
       "         0.77967816, 0.47672786, 0.47672786, 0.05661188, 0.05661188,\n",
       "         0.61080092, 0.61080092, 0.17047361, 0.17047361, 0.27202308,\n",
       "         0.27202308, 0.28269997, 0.28269997, 0.29353147, 0.29353147,\n",
       "         0.35653451, 0.35653451, 0.9515266 , 0.9515266 , 0.28054824,\n",
       "         0.28054824, 0.54477948, 0.54477948, 0.9270027 , 0.9270027 ,\n",
       "         0.32158835, 0.32158835, 0.72014153, 0.72014153, 0.59904023,\n",
       "         0.59904023, 0.42258222, 0.42258222, 0.42849516, 0.42849516,\n",
       "         0.66355574, 0.66355574, 0.45390002, 0.45390002, 0.98086169,\n",
       "         0.98086169, 0.85671961, 0.85671961, 0.40718753, 0.40718753,\n",
       "         0.86806365, 0.86806365, 0.3904738 , 0.3904738 , 0.49540218,\n",
       "         0.49540218, 0.8725611 , 0.8725611 , 0.17419579, 0.17419579,\n",
       "         0.70962815, 0.70962815, 0.42989795, 0.42989795, 0.52168872,\n",
       "         0.52168872, 0.09302101, 0.09302101, 0.75805707, 0.75805707,\n",
       "         0.26917364, 0.26917364, 0.48016259, 0.48016259, 0.56613165,\n",
       "         0.56613165, 0.85453906, 0.85453906, 0.40347272, 0.40347272])}}"
      ]
     },
     "execution_count": 1,
     "metadata": {},
     "output_type": "execute_result"
    }
   ],
   "source": [
    "ds = load_by_id(run_id_n)\n",
    "ds.get_parameter_data('x1')"
   ]
  },
  {
   "cell_type": "markdown",
   "metadata": {},
   "source": [
    "And a dataset stored as binary arrays"
   ]
  },
  {
   "cell_type": "code",
   "execution_count": 12,
   "metadata": {
    "execution": {
     "iopub.execute_input": "2021-01-22T08:45:48.433953Z",
     "iopub.status.busy": "2021-01-22T08:45:48.433567Z",
     "iopub.status.idle": "2021-01-22T08:45:48.475392Z",
     "shell.execute_reply": "2021-01-22T08:45:48.475929Z"
    },
    "scrolled": true
   },
   "outputs": [
    {
     "data": {
      "text/plain": [
       "{'x1': {'x1': array([[0.70675237],\n",
       "         [0.70675237],\n",
       "         [0.28583371],\n",
       "         [0.28583371],\n",
       "         [0.40099381],\n",
       "         [0.40099381],\n",
       "         [0.70235766],\n",
       "         [0.70235766],\n",
       "         [0.78096071],\n",
       "         [0.78096071],\n",
       "         [0.72378075],\n",
       "         [0.72378075],\n",
       "         [0.05505448],\n",
       "         [0.05505448],\n",
       "         [0.02804272],\n",
       "         [0.02804272],\n",
       "         [0.58499995],\n",
       "         [0.58499995],\n",
       "         [0.86474205],\n",
       "         [0.86474205],\n",
       "         [0.35984034],\n",
       "         [0.35984034],\n",
       "         [0.34254741],\n",
       "         [0.34254741],\n",
       "         [0.24978785],\n",
       "         [0.24978785],\n",
       "         [0.34267787],\n",
       "         [0.34267787],\n",
       "         [0.93589601],\n",
       "         [0.93589601],\n",
       "         [0.507519  ],\n",
       "         [0.507519  ],\n",
       "         [0.32363833],\n",
       "         [0.32363833],\n",
       "         [0.06298827],\n",
       "         [0.06298827],\n",
       "         [0.83251513],\n",
       "         [0.83251513],\n",
       "         [0.58803393],\n",
       "         [0.58803393],\n",
       "         [0.40004007],\n",
       "         [0.40004007],\n",
       "         [0.01303935],\n",
       "         [0.01303935],\n",
       "         [0.58134999],\n",
       "         [0.58134999],\n",
       "         [0.08749998],\n",
       "         [0.08749998],\n",
       "         [0.15754878],\n",
       "         [0.15754878],\n",
       "         [0.75814266],\n",
       "         [0.75814266],\n",
       "         [0.89804488],\n",
       "         [0.89804488],\n",
       "         [0.09584756],\n",
       "         [0.09584756],\n",
       "         [0.25567684],\n",
       "         [0.25567684],\n",
       "         [0.15766011],\n",
       "         [0.15766011],\n",
       "         [0.38070751],\n",
       "         [0.38070751],\n",
       "         [0.33428781],\n",
       "         [0.33428781],\n",
       "         [0.55831511],\n",
       "         [0.55831511],\n",
       "         [0.02300431],\n",
       "         [0.02300431],\n",
       "         [0.14489813],\n",
       "         [0.14489813],\n",
       "         [0.55838204],\n",
       "         [0.55838204],\n",
       "         [0.43652751],\n",
       "         [0.43652751],\n",
       "         [0.53785613],\n",
       "         [0.53785613],\n",
       "         [0.35965504],\n",
       "         [0.35965504],\n",
       "         [0.3276241 ],\n",
       "         [0.3276241 ],\n",
       "         [0.935382  ],\n",
       "         [0.935382  ],\n",
       "         [0.16702951],\n",
       "         [0.16702951],\n",
       "         [0.67777855],\n",
       "         [0.67777855],\n",
       "         [0.93296434],\n",
       "         [0.93296434],\n",
       "         [0.59144667],\n",
       "         [0.59144667],\n",
       "         [0.61327726],\n",
       "         [0.61327726],\n",
       "         [0.58752479],\n",
       "         [0.58752479],\n",
       "         [0.69601531],\n",
       "         [0.69601531],\n",
       "         [0.26751427],\n",
       "         [0.26751427],\n",
       "         [0.68882506],\n",
       "         [0.68882506],\n",
       "         [0.19854345],\n",
       "         [0.19854345],\n",
       "         [0.94486283],\n",
       "         [0.94486283],\n",
       "         [0.93311667],\n",
       "         [0.93311667],\n",
       "         [0.33827514],\n",
       "         [0.33827514],\n",
       "         [0.65732052],\n",
       "         [0.65732052],\n",
       "         [0.10162995],\n",
       "         [0.10162995],\n",
       "         [0.92926764],\n",
       "         [0.92926764],\n",
       "         [0.83940635],\n",
       "         [0.83940635],\n",
       "         [0.61205602],\n",
       "         [0.61205602],\n",
       "         [0.51680086],\n",
       "         [0.51680086],\n",
       "         [0.37496117],\n",
       "         [0.37496117],\n",
       "         [0.29467546],\n",
       "         [0.29467546],\n",
       "         [0.175017  ],\n",
       "         [0.175017  ],\n",
       "         [0.3224912 ],\n",
       "         [0.3224912 ],\n",
       "         [0.86809466],\n",
       "         [0.86809466],\n",
       "         [0.67767146],\n",
       "         [0.67767146],\n",
       "         [0.57767566],\n",
       "         [0.57767566],\n",
       "         [0.05857562],\n",
       "         [0.05857562],\n",
       "         [0.24628571],\n",
       "         [0.24628571],\n",
       "         [0.53629308],\n",
       "         [0.53629308],\n",
       "         [0.03675944],\n",
       "         [0.03675944],\n",
       "         [0.66859261],\n",
       "         [0.66859261],\n",
       "         [0.62392264],\n",
       "         [0.62392264],\n",
       "         [0.18361273],\n",
       "         [0.18361273],\n",
       "         [0.02976772],\n",
       "         [0.02976772],\n",
       "         [0.64915684],\n",
       "         [0.64915684],\n",
       "         [0.17370543],\n",
       "         [0.17370543],\n",
       "         [0.44850677],\n",
       "         [0.44850677],\n",
       "         [0.06746046],\n",
       "         [0.06746046],\n",
       "         [0.727735  ],\n",
       "         [0.727735  ],\n",
       "         [0.73501261],\n",
       "         [0.73501261],\n",
       "         [0.20936818],\n",
       "         [0.20936818],\n",
       "         [0.7445763 ],\n",
       "         [0.7445763 ],\n",
       "         [0.08661767],\n",
       "         [0.08661767],\n",
       "         [0.15231196],\n",
       "         [0.15231196],\n",
       "         [0.85716951],\n",
       "         [0.85716951],\n",
       "         [0.41377076],\n",
       "         [0.41377076],\n",
       "         [0.28155089],\n",
       "         [0.28155089],\n",
       "         [0.62014565],\n",
       "         [0.62014565],\n",
       "         [0.58390376],\n",
       "         [0.58390376],\n",
       "         [0.68496256],\n",
       "         [0.68496256],\n",
       "         [0.1046556 ],\n",
       "         [0.1046556 ],\n",
       "         [0.48723714],\n",
       "         [0.48723714],\n",
       "         [0.56589482],\n",
       "         [0.56589482],\n",
       "         [0.32962163],\n",
       "         [0.32962163],\n",
       "         [0.71131439],\n",
       "         [0.71131439],\n",
       "         [0.0507888 ],\n",
       "         [0.0507888 ],\n",
       "         [0.2578774 ],\n",
       "         [0.2578774 ],\n",
       "         [0.66637   ],\n",
       "         [0.66637   ],\n",
       "         [0.87493543],\n",
       "         [0.87493543]])}}"
      ]
     },
     "execution_count": 1,
     "metadata": {},
     "output_type": "execute_result"
    }
   ],
   "source": [
    "ds = load_by_id(run_id_a)\n",
    "ds.get_parameter_data('x1')"
   ]
  },
  {
   "cell_type": "code",
   "execution_count": null,
   "metadata": {},
   "outputs": [],
   "source": []
  }
 ],
 "metadata": {
  "kernelspec": {
   "display_name": "Python 3",
   "language": "python",
   "name": "python3"
  },
  "language_info": {
   "codemirror_mode": {
    "name": "ipython",
    "version": 3
   },
   "file_extension": ".py",
   "mimetype": "text/x-python",
   "name": "python",
   "nbconvert_exporter": "python",
   "pygments_lexer": "ipython3",
   "version": "3.7.9"
  },
  "nbsphinx": {
   "timeout": 600
  },
  "toc": {
   "base_numbering": 1,
   "nav_menu": {},
   "number_sections": true,
   "sideBar": true,
   "skip_h1_title": false,
   "title_cell": "Table of Contents",
   "title_sidebar": "Contents",
   "toc_cell": false,
   "toc_position": {},
   "toc_section_display": true,
   "toc_window_display": false
  },
  "varInspector": {
   "cols": {
    "lenName": 16,
    "lenType": 16,
    "lenVar": 40
   },
   "kernels_config": {
    "python": {
     "delete_cmd_postfix": "",
     "delete_cmd_prefix": "del ",
     "library": "var_list.py",
     "varRefreshCmd": "print(var_dic_list())"
    },
    "r": {
     "delete_cmd_postfix": ") ",
     "delete_cmd_prefix": "rm(",
     "library": "var_list.r",
     "varRefreshCmd": "cat(var_dic_list()) "
    }
   },
   "types_to_exclude": [
    "module",
    "function",
    "builtin_function_or_method",
    "instance",
    "_Feature"
   ],
   "window_display": false
  }
 },
 "nbformat": 4,
 "nbformat_minor": 2
}
