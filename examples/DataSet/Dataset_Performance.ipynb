{
 "cells": [
  {
   "cell_type": "markdown",
   "metadata": {},
   "source": [
    "# DataSet Performance\n",
    "\n",
    "This notebook shows the trade-off between inserting data into a database row-by-row and as binary blobs. Inserting the data row-by-row means that we have direct access to all the data and may perform queries directly on the values of the data. On the other hand, as we shall see, this is much slower than inserting the data directly as binary blobs."
   ]
  },
  {
   "cell_type": "markdown",
   "metadata": {},
   "source": [
    "First, we choose a new location for the database to ensure that we don't add a bunch of benchmarking data to the default one."
   ]
  },
  {
   "cell_type": "code",
   "execution_count": 1,
   "metadata": {
    "execution": {
     "iopub.execute_input": "2020-10-27T08:36:43.759126Z",
     "iopub.status.busy": "2020-10-27T08:36:43.758544Z",
     "iopub.status.idle": "2020-10-27T08:36:44.850325Z",
     "shell.execute_reply": "2020-10-27T08:36:44.850764Z"
    }
   },
   "outputs": [
    {
     "name": "stdout",
     "output_type": "stream",
     "text": [
      "Logging hadn't been started.\n",
      "Activating auto-logging. Current session state plus future input saved.\n",
      "Filename       : /home/vsts/.qcodes/logs/command_history.log\n",
      "Mode           : append\n",
      "Output logging : True\n",
      "Raw input log  : False\n",
      "Timestamping   : True\n",
      "State          : active\n"
     ]
    },
    {
     "name": "stdout",
     "output_type": "stream",
     "text": [
      "Qcodes Logfile : /home/vsts/.qcodes/logs/201027-14451-qcodes.log\n"
     ]
    }
   ],
   "source": [
    "import os\n",
    "cwd = os.getcwd()\n",
    "import qcodes as qc\n",
    "qc.config[\"core\"][\"db_location\"] = os.path.join(cwd, 'testing.db')\n"
   ]
  },
  {
   "cell_type": "code",
   "execution_count": 2,
   "metadata": {
    "execution": {
     "iopub.execute_input": "2020-10-27T08:36:44.857426Z",
     "iopub.status.busy": "2020-10-27T08:36:44.855988Z",
     "iopub.status.idle": "2020-10-27T08:36:45.039370Z",
     "shell.execute_reply": "2020-10-27T08:36:45.037991Z"
    }
   },
   "outputs": [],
   "source": [
    "%matplotlib inline\n",
    "import time\n",
    "import matplotlib.pyplot as plt\n",
    "import numpy as np\n",
    "\n",
    "import qcodes as qc\n",
    "from qcodes.instrument.parameter import ManualParameter\n",
    "from qcodes.dataset.experiment_container import (Experiment,\n",
    "                                                 load_last_experiment,\n",
    "                                                 new_experiment)\n",
    "from qcodes.dataset.sqlite.database import initialise_database\n",
    "from qcodes import load_or_create_experiment\n",
    "from qcodes.dataset.measurements import Measurement"
   ]
  },
  {
   "cell_type": "code",
   "execution_count": 3,
   "metadata": {
    "execution": {
     "iopub.execute_input": "2020-10-27T08:36:45.044541Z",
     "iopub.status.busy": "2020-10-27T08:36:45.043611Z",
     "iopub.status.idle": "2020-10-27T08:36:45.156304Z",
     "shell.execute_reply": "2020-10-27T08:36:45.155736Z"
    }
   },
   "outputs": [
    {
     "name": "stdout",
     "output_type": "stream",
     "text": [
      "\r",
      "0it [00:00, ?it/s]"
     ]
    },
    {
     "name": "stdout",
     "output_type": "stream",
     "text": [
      "\r",
      "Upgrading database; v0 -> v1: : 0it [00:00, ?it/s]"
     ]
    },
    {
     "name": "stdout",
     "output_type": "stream",
     "text": [
      "\r",
      "Upgrading database; v0 -> v1: : 0it [00:00, ?it/s]"
     ]
    },
    {
     "name": "stdout",
     "output_type": "stream",
     "text": [
      "\n",
      "\r",
      "  0%|          | 0/1 [00:00<?, ?it/s]"
     ]
    },
    {
     "name": "stdout",
     "output_type": "stream",
     "text": [
      "\r",
      "Upgrading database; v1 -> v2:   0%|          | 0/1 [00:00<?, ?it/s]"
     ]
    },
    {
     "name": "stdout",
     "output_type": "stream",
     "text": [
      "\r",
      "Upgrading database; v1 -> v2: 100%|██████████| 1/1 [00:00<00:00, 377.90it/s]"
     ]
    },
    {
     "name": "stdout",
     "output_type": "stream",
     "text": [
      "\n",
      "\r",
      "0it [00:00, ?it/s]"
     ]
    },
    {
     "name": "stdout",
     "output_type": "stream",
     "text": [
      "\r",
      "Upgrading database; v2 -> v3: : 0it [00:00, ?it/s]"
     ]
    },
    {
     "name": "stdout",
     "output_type": "stream",
     "text": [
      "\r",
      "Upgrading database; v2 -> v3: : 0it [00:00, ?it/s]"
     ]
    },
    {
     "name": "stdout",
     "output_type": "stream",
     "text": [
      "\n",
      "\r",
      "0it [00:00, ?it/s]"
     ]
    },
    {
     "name": "stdout",
     "output_type": "stream",
     "text": [
      "\r",
      "Upgrading database; v3 -> v4: : 0it [00:00, ?it/s]"
     ]
    },
    {
     "name": "stdout",
     "output_type": "stream",
     "text": [
      "\r",
      "Upgrading database; v3 -> v4: : 0it [00:00, ?it/s]"
     ]
    },
    {
     "name": "stdout",
     "output_type": "stream",
     "text": [
      "\n",
      "\r",
      "  0%|          | 0/1 [00:00<?, ?it/s]"
     ]
    },
    {
     "name": "stdout",
     "output_type": "stream",
     "text": [
      "\r",
      "Upgrading database; v4 -> v5:   0%|          | 0/1 [00:00<?, ?it/s]"
     ]
    },
    {
     "name": "stdout",
     "output_type": "stream",
     "text": [
      "\r",
      "Upgrading database; v4 -> v5: 100%|██████████| 1/1 [00:00<00:00, 845.11it/s]"
     ]
    },
    {
     "name": "stdout",
     "output_type": "stream",
     "text": [
      "\n",
      "\r",
      "0it [00:00, ?it/s]"
     ]
    },
    {
     "name": "stdout",
     "output_type": "stream",
     "text": [
      "\r",
      "Upgrading database; v5 -> v6: : 0it [00:00, ?it/s]"
     ]
    },
    {
     "name": "stdout",
     "output_type": "stream",
     "text": [
      "\r",
      "Upgrading database; v5 -> v6: : 0it [00:00, ?it/s]"
     ]
    },
    {
     "name": "stdout",
     "output_type": "stream",
     "text": [
      "\n",
      "\r",
      "  0%|          | 0/1 [00:00<?, ?it/s]"
     ]
    },
    {
     "name": "stdout",
     "output_type": "stream",
     "text": [
      "\r",
      "Upgrading database; v6 -> v7:   0%|          | 0/1 [00:00<?, ?it/s]"
     ]
    },
    {
     "name": "stdout",
     "output_type": "stream",
     "text": [
      "\r",
      "Upgrading database; v6 -> v7: 100%|██████████| 1/1 [00:00<00:00, 439.06it/s]"
     ]
    },
    {
     "name": "stdout",
     "output_type": "stream",
     "text": [
      "\n",
      "\r",
      "  0%|          | 0/1 [00:00<?, ?it/s]"
     ]
    },
    {
     "name": "stdout",
     "output_type": "stream",
     "text": [
      "\r",
      "Upgrading database; v7 -> v8:   0%|          | 0/1 [00:00<?, ?it/s]"
     ]
    },
    {
     "name": "stdout",
     "output_type": "stream",
     "text": [
      "\r",
      "Upgrading database; v7 -> v8: 100%|██████████| 1/1 [00:00<00:00, 1205.61it/s]"
     ]
    },
    {
     "name": "stdout",
     "output_type": "stream",
     "text": [
      "\n",
      "\r",
      "  0%|          | 0/1 [00:00<?, ?it/s]"
     ]
    },
    {
     "name": "stdout",
     "output_type": "stream",
     "text": [
      "\r",
      "Upgrading database; v8 -> v9:   0%|          | 0/1 [00:00<?, ?it/s]"
     ]
    },
    {
     "name": "stdout",
     "output_type": "stream",
     "text": [
      "\r",
      "Upgrading database; v8 -> v9: 100%|██████████| 1/1 [00:00<00:00, 1107.85it/s]"
     ]
    },
    {
     "name": "stdout",
     "output_type": "stream",
     "text": [
      "\n"
     ]
    }
   ],
   "source": [
    "initialise_database()\n",
    "exp = load_or_create_experiment(experiment_name='tutorial_exp', sample_name=\"no sample\")"
   ]
  },
  {
   "cell_type": "markdown",
   "metadata": {},
   "source": [
    "Here, we define a simple function to benchmark the time it takes to insert n points with either numeric or array data type.\n",
    "We will compare both the time used to call ``add_result`` and the time used for the full measurement."
   ]
  },
  {
   "cell_type": "code",
   "execution_count": 4,
   "metadata": {
    "execution": {
     "iopub.execute_input": "2020-10-27T08:36:45.164546Z",
     "iopub.status.busy": "2020-10-27T08:36:45.163248Z",
     "iopub.status.idle": "2020-10-27T08:36:45.166909Z",
     "shell.execute_reply": "2020-10-27T08:36:45.167374Z"
    }
   },
   "outputs": [],
   "source": [
    "def insert_data(paramtype, npoints, nreps=1):\n",
    "\n",
    "    meas = Measurement(exp=exp)\n",
    "\n",
    "    x1 = ManualParameter('x1')\n",
    "    x2 = ManualParameter('x2')\n",
    "    x3 = ManualParameter('x3')\n",
    "    y1 = ManualParameter('y1')\n",
    "    y2 = ManualParameter('y2')\n",
    "\n",
    "    meas.register_parameter(x1, paramtype=paramtype)\n",
    "    meas.register_parameter(x2, paramtype=paramtype)\n",
    "    meas.register_parameter(x3, paramtype=paramtype)\n",
    "    meas.register_parameter(y1, setpoints=[x1, x2, x3],\n",
    "                            paramtype=paramtype)\n",
    "    meas.register_parameter(y2, setpoints=[x1, x2, x3],\n",
    "                            paramtype=paramtype)\n",
    "    start = time.perf_counter()\n",
    "    with meas.run() as datasaver:\n",
    "        start_adding = time.perf_counter()\n",
    "        for i in range(nreps):\n",
    "            datasaver.add_result((x1, np.random.rand(npoints)),\n",
    "                                 (x2, np.random.rand(npoints)),\n",
    "                                 (x3, np.random.rand(npoints)),\n",
    "                                 (y1, np.random.rand(npoints)),\n",
    "                                 (y2, np.random.rand(npoints)))\n",
    "        stop_adding = time.perf_counter()\n",
    "        run_id = datasaver.run_id\n",
    "    stop = time.perf_counter()\n",
    "    tot_time = stop - start\n",
    "    add_time = stop_adding - start_adding\n",
    "    return tot_time, add_time, run_id"
   ]
  },
  {
   "cell_type": "markdown",
   "metadata": {},
   "source": [
    "## Comparison between numeric/array data and binary blob"
   ]
  },
  {
   "cell_type": "markdown",
   "metadata": {},
   "source": [
    "### Case1: Short experiment time"
   ]
  },
  {
   "cell_type": "code",
   "execution_count": 5,
   "metadata": {
    "execution": {
     "iopub.execute_input": "2020-10-27T08:36:45.173545Z",
     "iopub.status.busy": "2020-10-27T08:36:45.172362Z",
     "iopub.status.idle": "2020-10-27T08:36:45.982797Z",
     "shell.execute_reply": "2020-10-27T08:36:45.982286Z"
    }
   },
   "outputs": [
    {
     "name": "stdout",
     "output_type": "stream",
     "text": [
      "Starting experimental run with id: 1. \n",
      "Starting experimental run with id: 2. \n",
      "Starting experimental run with id: 3. \n",
      "Starting experimental run with id: 4. \n",
      "Starting experimental run with id: 5. \n"
     ]
    },
    {
     "name": "stdout",
     "output_type": "stream",
     "text": [
      "Starting experimental run with id: 6. \n"
     ]
    },
    {
     "name": "stdout",
     "output_type": "stream",
     "text": [
      "Starting experimental run with id: 7. \n"
     ]
    },
    {
     "name": "stdout",
     "output_type": "stream",
     "text": [
      "Starting experimental run with id: 8. \n",
      "Starting experimental run with id: 9. \n"
     ]
    },
    {
     "name": "stdout",
     "output_type": "stream",
     "text": [
      "Starting experimental run with id: 10. \n",
      "Starting experimental run with id: 11. \n"
     ]
    },
    {
     "name": "stdout",
     "output_type": "stream",
     "text": [
      "Starting experimental run with id: 12. \n",
      "Starting experimental run with id: 13. \n"
     ]
    },
    {
     "name": "stdout",
     "output_type": "stream",
     "text": [
      "Starting experimental run with id: 14. \n"
     ]
    }
   ],
   "source": [
    "sizes = [1,500,1000,2000,3000,4000,5000]\n",
    "t_numeric = []\n",
    "t_numeric_add = []\n",
    "t_array = []\n",
    "t_array_add = []\n",
    "for size in sizes:\n",
    "    tn, tna, run_id_n =  insert_data('numeric', size)\n",
    "    t_numeric.append(tn)\n",
    "    t_numeric_add.append(tna)\n",
    "\n",
    "    ta, taa, run_id_a =  insert_data('array', size)\n",
    "    t_array.append(ta)\n",
    "    t_array_add.append(taa)"
   ]
  },
  {
   "cell_type": "code",
   "execution_count": 6,
   "metadata": {
    "execution": {
     "iopub.execute_input": "2020-10-27T08:36:45.999011Z",
     "iopub.status.busy": "2020-10-27T08:36:45.986985Z",
     "iopub.status.idle": "2020-10-27T08:36:46.186105Z",
     "shell.execute_reply": "2020-10-27T08:36:46.186530Z"
    }
   },
   "outputs": [
    {
     "data": {
      "image/png": "[encoded data removed]",
      "text/plain": [
       "<Figure size 432x288 with 1 Axes>"
      ]
     },
     "metadata": {
      "needs_background": "light"
     },
     "output_type": "display_data"
    }
   ],
   "source": [
    "fig, ax = plt.subplots(1,1)\n",
    "ax.plot(sizes, t_numeric, 'o-', label='Inserting row-by-row')\n",
    "ax.plot(sizes, t_numeric_add, 'o-', label='Inserting row-by-row: add_result only')\n",
    "ax.plot(sizes, t_array, 'd-', label='Inserting as binary blob')\n",
    "ax.plot(sizes, t_array_add, 'd-', label='Inserting as binary blob: add_result only')\n",
    "ax.legend()\n",
    "ax.set_xlabel('Array length')\n",
    "ax.set_ylabel('Time (s)')\n",
    "fig.tight_layout()"
   ]
  },
  {
   "cell_type": "markdown",
   "metadata": {},
   "source": [
    "As shown in the latter figure, the time to setup and and close the experiment is approximately 0.4 sec. In case of small array sizes, the difference between inserting values of data as arrays and inserting them row-by-row is relatively unimportant. At larger array sizes, i.e. above 10000 points, the cost of writing data as individual datapoints starts to become important.\n"
   ]
  },
  {
   "cell_type": "markdown",
   "metadata": {},
   "source": [
    "### Case2: Long experiment time "
   ]
  },
  {
   "cell_type": "code",
   "execution_count": 7,
   "metadata": {
    "execution": {
     "iopub.execute_input": "2020-10-27T08:36:46.193204Z",
     "iopub.status.busy": "2020-10-27T08:36:46.192626Z",
     "iopub.status.idle": "2020-10-27T08:37:43.543003Z",
     "shell.execute_reply": "2020-10-27T08:37:43.543467Z"
    }
   },
   "outputs": [
    {
     "name": "stdout",
     "output_type": "stream",
     "text": [
      "Starting experimental run with id: 15. \n",
      "Starting experimental run with id: 16. \n",
      "Starting experimental run with id: 17. \n"
     ]
    },
    {
     "name": "stdout",
     "output_type": "stream",
     "text": [
      "Starting experimental run with id: 18. \n",
      "Starting experimental run with id: 19. \n"
     ]
    },
    {
     "name": "stdout",
     "output_type": "stream",
     "text": [
      "Starting experimental run with id: 20. \n"
     ]
    },
    {
     "name": "stdout",
     "output_type": "stream",
     "text": [
      "Starting experimental run with id: 21. \n"
     ]
    },
    {
     "name": "stdout",
     "output_type": "stream",
     "text": [
      "Starting experimental run with id: 22. \n"
     ]
    },
    {
     "name": "stdout",
     "output_type": "stream",
     "text": [
      "Starting experimental run with id: 23. \n"
     ]
    },
    {
     "name": "stdout",
     "output_type": "stream",
     "text": [
      "Starting experimental run with id: 24. \n"
     ]
    },
    {
     "name": "stdout",
     "output_type": "stream",
     "text": [
      "Starting experimental run with id: 25. \n"
     ]
    },
    {
     "name": "stdout",
     "output_type": "stream",
     "text": [
      "Starting experimental run with id: 26. \n"
     ]
    },
    {
     "name": "stdout",
     "output_type": "stream",
     "text": [
      "Starting experimental run with id: 27. \n"
     ]
    },
    {
     "name": "stdout",
     "output_type": "stream",
     "text": [
      "Starting experimental run with id: 28. \n"
     ]
    }
   ],
   "source": [
    "sizes = [1,500,1000,2000,3000,4000,5000]\n",
    "nreps = 100\n",
    "t_numeric = []\n",
    "t_numeric_add = []\n",
    "t_numeric_run_ids = []\n",
    "t_array = []\n",
    "t_array_add = []\n",
    "t_array_run_ids = []\n",
    "for size in sizes:\n",
    "    tn, tna, run_id_n =  insert_data('numeric', size, nreps=nreps)\n",
    "    t_numeric.append(tn)\n",
    "    t_numeric_add.append(tna)\n",
    "    t_numeric_run_ids.append(run_id_n)\n",
    "\n",
    "    ta, taa, run_id_a =  insert_data('array', size, nreps=nreps)\n",
    "    t_array.append(ta)\n",
    "    t_array_add.append(taa)\n",
    "    t_array_run_ids.append(run_id_a)"
   ]
  },
  {
   "cell_type": "code",
   "execution_count": 8,
   "metadata": {
    "execution": {
     "iopub.execute_input": "2020-10-27T08:37:43.572601Z",
     "iopub.status.busy": "2020-10-27T08:37:43.549201Z",
     "iopub.status.idle": "2020-10-27T08:37:43.747211Z",
     "shell.execute_reply": "2020-10-27T08:37:43.747636Z"
    },
    "scrolled": true
   },
   "outputs": [
    {
     "data": {
      "image/png": "[encoded data removed]",
      "text/plain": [
       "<Figure size 432x288 with 1 Axes>"
      ]
     },
     "metadata": {
      "needs_background": "light"
     },
     "output_type": "display_data"
    }
   ],
   "source": [
    "fig, ax = plt.subplots(1,1)\n",
    "ax.plot(sizes, t_numeric, 'o-', label='Inserting row-by-row')\n",
    "ax.plot(sizes, t_numeric_add, 'o-', label='Inserting row-by-row: add_result only')\n",
    "ax.plot(sizes, t_array, 'd-', label='Inserting as binary blob')\n",
    "ax.plot(sizes, t_array_add, 'd-', label='Inserting as binary blob: add_result only')\n",
    "ax.legend()\n",
    "ax.set_xlabel('Array length')\n",
    "ax.set_ylabel('Time (s)')\n",
    "fig.tight_layout()"
   ]
  },
  {
   "cell_type": "markdown",
   "metadata": {},
   "source": [
    "However, as we increase the length of the experiment, as seen here by repeating the insertion 100 times, we see a big difference between inserting values of the data row-by-row and inserting it as a binary blob."
   ]
  },
  {
   "cell_type": "markdown",
   "metadata": {},
   "source": [
    "## Loading the data "
   ]
  },
  {
   "cell_type": "code",
   "execution_count": 9,
   "metadata": {
    "execution": {
     "iopub.execute_input": "2020-10-27T08:37:43.751666Z",
     "iopub.status.busy": "2020-10-27T08:37:43.750829Z",
     "iopub.status.idle": "2020-10-27T08:37:43.753972Z",
     "shell.execute_reply": "2020-10-27T08:37:43.753520Z"
    }
   },
   "outputs": [],
   "source": [
    "from qcodes.dataset.data_set import load_by_id\n",
    "from qcodes.dataset.data_export import get_data_by_id"
   ]
  },
  {
   "cell_type": "markdown",
   "metadata": {},
   "source": [
    "As usual you can load the data by using the ``load_by_id`` function but you will notice that the different storage methods\n",
    "are reflected in shape of the data as it is retrieved. "
   ]
  },
  {
   "cell_type": "code",
   "execution_count": 10,
   "metadata": {
    "execution": {
     "iopub.execute_input": "2020-10-27T08:37:43.757550Z",
     "iopub.status.busy": "2020-10-27T08:37:43.757054Z",
     "iopub.status.idle": "2020-10-27T08:37:43.759092Z",
     "shell.execute_reply": "2020-10-27T08:37:43.758649Z"
    }
   },
   "outputs": [],
   "source": [
    "run_id_n = t_numeric_run_ids[0]\n",
    "run_id_a = t_array_run_ids[0]"
   ]
  },
  {
   "cell_type": "code",
   "execution_count": 11,
   "metadata": {
    "execution": {
     "iopub.execute_input": "2020-10-27T08:37:43.762053Z",
     "iopub.status.busy": "2020-10-27T08:37:43.761514Z",
     "iopub.status.idle": "2020-10-27T08:37:43.770481Z",
     "shell.execute_reply": "2020-10-27T08:37:43.770032Z"
    },
    "scrolled": true
   },
   "outputs": [
    {
     "data": {
      "text/plain": [
       "{'x1': {'x1': array([6.01658350e-01, 6.01658350e-01, 8.85165921e-02, 8.85165921e-02,\n",
       "         6.94981539e-01, 6.94981539e-01, 3.33260080e-01, 3.33260080e-01,\n",
       "         2.01170981e-01, 2.01170981e-01, 2.43644324e-01, 2.43644324e-01,\n",
       "         6.87460698e-01, 6.87460698e-01, 6.34873898e-01, 6.34873898e-01,\n",
       "         5.38365707e-01, 5.38365707e-01, 5.32269788e-01, 5.32269788e-01,\n",
       "         9.89487280e-01, 9.89487280e-01, 7.13758243e-04, 7.13758243e-04,\n",
       "         6.20164849e-02, 6.20164849e-02, 8.19417328e-01, 8.19417328e-01,\n",
       "         8.57341335e-01, 8.57341335e-01, 9.32758171e-01, 9.32758171e-01,\n",
       "         1.65606313e-01, 1.65606313e-01, 1.00067340e-01, 1.00067340e-01,\n",
       "         6.84741960e-01, 6.84741960e-01, 5.05447932e-01, 5.05447932e-01,\n",
       "         4.06043945e-01, 4.06043945e-01, 9.35906008e-02, 9.35906008e-02,\n",
       "         3.72152024e-01, 3.72152024e-01, 4.19732332e-01, 4.19732332e-01,\n",
       "         6.01834834e-01, 6.01834834e-01, 9.13916193e-01, 9.13916193e-01,\n",
       "         4.46084173e-01, 4.46084173e-01, 1.21389792e-01, 1.21389792e-01,\n",
       "         2.35188090e-01, 2.35188090e-01, 6.29244858e-01, 6.29244858e-01,\n",
       "         2.77212833e-01, 2.77212833e-01, 4.02876277e-01, 4.02876277e-01,\n",
       "         4.58576233e-01, 4.58576233e-01, 4.04943695e-01, 4.04943695e-01,\n",
       "         5.93831450e-01, 5.93831450e-01, 9.80560360e-01, 9.80560360e-01,\n",
       "         9.83223802e-01, 9.83223802e-01, 4.51825357e-01, 4.51825357e-01,\n",
       "         7.31997422e-01, 7.31997422e-01, 7.89123294e-01, 7.89123294e-01,\n",
       "         6.21464195e-01, 6.21464195e-01, 8.72530560e-02, 8.72530560e-02,\n",
       "         8.30150616e-01, 8.30150616e-01, 3.91569301e-01, 3.91569301e-01,\n",
       "         4.88605634e-01, 4.88605634e-01, 8.55832240e-01, 8.55832240e-01,\n",
       "         7.02188679e-02, 7.02188679e-02, 8.84428780e-01, 8.84428780e-01,\n",
       "         1.87528088e-01, 1.87528088e-01, 8.20125540e-01, 8.20125540e-01,\n",
       "         2.85312962e-01, 2.85312962e-01, 9.50239178e-01, 9.50239178e-01,\n",
       "         7.84327967e-01, 7.84327967e-01, 3.96751114e-01, 3.96751114e-01,\n",
       "         5.54772339e-01, 5.54772339e-01, 7.71106932e-01, 7.71106932e-01,\n",
       "         1.12635596e-01, 1.12635596e-01, 4.16700514e-01, 4.16700514e-01,\n",
       "         1.02160669e-01, 1.02160669e-01, 3.22646647e-01, 3.22646647e-01,\n",
       "         3.92761768e-01, 3.92761768e-01, 7.35563568e-01, 7.35563568e-01,\n",
       "         4.40292095e-01, 4.40292095e-01, 4.71081981e-01, 4.71081981e-01,\n",
       "         9.09943684e-01, 9.09943684e-01, 8.02477465e-01, 8.02477465e-01,\n",
       "         1.85641967e-01, 1.85641967e-01, 7.51266162e-01, 7.51266162e-01,\n",
       "         1.29278605e-01, 1.29278605e-01, 8.19331280e-01, 8.19331280e-01,\n",
       "         7.50183834e-01, 7.50183834e-01, 8.56307660e-01, 8.56307660e-01,\n",
       "         9.23841590e-02, 9.23841590e-02, 1.25542187e-01, 1.25542187e-01,\n",
       "         5.97291588e-01, 5.97291588e-01, 1.60460961e-01, 1.60460961e-01,\n",
       "         6.82786063e-01, 6.82786063e-01, 3.58946811e-01, 3.58946811e-01,\n",
       "         8.67993925e-01, 8.67993925e-01, 2.21913146e-03, 2.21913146e-03,\n",
       "         5.76676722e-01, 5.76676722e-01, 3.63318554e-01, 3.63318554e-01,\n",
       "         4.88634015e-01, 4.88634015e-01, 9.49181739e-01, 9.49181739e-01,\n",
       "         4.99448400e-01, 4.99448400e-01, 6.21662227e-01, 6.21662227e-01,\n",
       "         1.79067547e-01, 1.79067547e-01, 9.23058809e-01, 9.23058809e-01,\n",
       "         1.73786015e-01, 1.73786015e-01, 9.37830509e-01, 9.37830509e-01,\n",
       "         3.55041154e-01, 3.55041154e-01, 3.49517889e-01, 3.49517889e-01,\n",
       "         4.60260322e-01, 4.60260322e-01, 9.01972650e-01, 9.01972650e-01,\n",
       "         5.48133048e-01, 5.48133048e-01, 4.54557355e-01, 4.54557355e-01,\n",
       "         9.22459071e-01, 9.22459071e-01, 4.75141778e-01, 4.75141778e-01,\n",
       "         3.01342149e-01, 3.01342149e-01, 5.48270524e-01, 5.48270524e-01])}}"
      ]
     },
     "execution_count": 1,
     "metadata": {},
     "output_type": "execute_result"
    }
   ],
   "source": [
    "ds = load_by_id(run_id_n)\n",
    "ds.get_parameter_data('x1')"
   ]
  },
  {
   "cell_type": "markdown",
   "metadata": {},
   "source": [
    "And a dataset stored as binary arrays"
   ]
  },
  {
   "cell_type": "code",
   "execution_count": 12,
   "metadata": {
    "execution": {
     "iopub.execute_input": "2020-10-27T08:37:43.773489Z",
     "iopub.status.busy": "2020-10-27T08:37:43.772956Z",
     "iopub.status.idle": "2020-10-27T08:37:43.828510Z",
     "shell.execute_reply": "2020-10-27T08:37:43.828964Z"
    },
    "scrolled": true
   },
   "outputs": [
    {
     "data": {
      "text/plain": [
       "{'x1': {'x1': array([[0.69591504],\n",
       "         [0.69591504],\n",
       "         [0.14725843],\n",
       "         [0.14725843],\n",
       "         [0.56718692],\n",
       "         [0.56718692],\n",
       "         [0.61505467],\n",
       "         [0.61505467],\n",
       "         [0.60055026],\n",
       "         [0.60055026],\n",
       "         [0.71440214],\n",
       "         [0.71440214],\n",
       "         [0.25585584],\n",
       "         [0.25585584],\n",
       "         [0.20665745],\n",
       "         [0.20665745],\n",
       "         [0.12258362],\n",
       "         [0.12258362],\n",
       "         [0.8258914 ],\n",
       "         [0.8258914 ],\n",
       "         [0.94794508],\n",
       "         [0.94794508],\n",
       "         [0.05638501],\n",
       "         [0.05638501],\n",
       "         [0.5176796 ],\n",
       "         [0.5176796 ],\n",
       "         [0.81958341],\n",
       "         [0.81958341],\n",
       "         [0.53223996],\n",
       "         [0.53223996],\n",
       "         [0.1361538 ],\n",
       "         [0.1361538 ],\n",
       "         [0.59914021],\n",
       "         [0.59914021],\n",
       "         [0.51631614],\n",
       "         [0.51631614],\n",
       "         [0.14278485],\n",
       "         [0.14278485],\n",
       "         [0.80516032],\n",
       "         [0.80516032],\n",
       "         [0.9075083 ],\n",
       "         [0.9075083 ],\n",
       "         [0.04985682],\n",
       "         [0.04985682],\n",
       "         [0.84222843],\n",
       "         [0.84222843],\n",
       "         [0.15490393],\n",
       "         [0.15490393],\n",
       "         [0.70089138],\n",
       "         [0.70089138],\n",
       "         [0.74322824],\n",
       "         [0.74322824],\n",
       "         [0.71187971],\n",
       "         [0.71187971],\n",
       "         [0.34966226],\n",
       "         [0.34966226],\n",
       "         [0.32846154],\n",
       "         [0.32846154],\n",
       "         [0.26452344],\n",
       "         [0.26452344],\n",
       "         [0.49823819],\n",
       "         [0.49823819],\n",
       "         [0.02515013],\n",
       "         [0.02515013],\n",
       "         [0.86326469],\n",
       "         [0.86326469],\n",
       "         [0.67816397],\n",
       "         [0.67816397],\n",
       "         [0.52493564],\n",
       "         [0.52493564],\n",
       "         [0.69615982],\n",
       "         [0.69615982],\n",
       "         [0.65894524],\n",
       "         [0.65894524],\n",
       "         [0.37755125],\n",
       "         [0.37755125],\n",
       "         [0.13384491],\n",
       "         [0.13384491],\n",
       "         [0.83120041],\n",
       "         [0.83120041],\n",
       "         [0.92752176],\n",
       "         [0.92752176],\n",
       "         [0.4894205 ],\n",
       "         [0.4894205 ],\n",
       "         [0.42981681],\n",
       "         [0.42981681],\n",
       "         [0.27876965],\n",
       "         [0.27876965],\n",
       "         [0.9736835 ],\n",
       "         [0.9736835 ],\n",
       "         [0.07343877],\n",
       "         [0.07343877],\n",
       "         [0.46194158],\n",
       "         [0.46194158],\n",
       "         [0.93112724],\n",
       "         [0.93112724],\n",
       "         [0.52148073],\n",
       "         [0.52148073],\n",
       "         [0.2547625 ],\n",
       "         [0.2547625 ],\n",
       "         [0.86331813],\n",
       "         [0.86331813],\n",
       "         [0.35419592],\n",
       "         [0.35419592],\n",
       "         [0.67146188],\n",
       "         [0.67146188],\n",
       "         [0.60952333],\n",
       "         [0.60952333],\n",
       "         [0.47237515],\n",
       "         [0.47237515],\n",
       "         [0.93974361],\n",
       "         [0.93974361],\n",
       "         [0.84785351],\n",
       "         [0.84785351],\n",
       "         [0.76110018],\n",
       "         [0.76110018],\n",
       "         [0.81910686],\n",
       "         [0.81910686],\n",
       "         [0.32814135],\n",
       "         [0.32814135],\n",
       "         [0.3120971 ],\n",
       "         [0.3120971 ],\n",
       "         [0.19493155],\n",
       "         [0.19493155],\n",
       "         [0.35984111],\n",
       "         [0.35984111],\n",
       "         [0.59578066],\n",
       "         [0.59578066],\n",
       "         [0.60144929],\n",
       "         [0.60144929],\n",
       "         [0.9752371 ],\n",
       "         [0.9752371 ],\n",
       "         [0.84092789],\n",
       "         [0.84092789],\n",
       "         [0.65396021],\n",
       "         [0.65396021],\n",
       "         [0.00690017],\n",
       "         [0.00690017],\n",
       "         [0.27165289],\n",
       "         [0.27165289],\n",
       "         [0.64645856],\n",
       "         [0.64645856],\n",
       "         [0.80660113],\n",
       "         [0.80660113],\n",
       "         [0.30380335],\n",
       "         [0.30380335],\n",
       "         [0.82531588],\n",
       "         [0.82531588],\n",
       "         [0.32873532],\n",
       "         [0.32873532],\n",
       "         [0.55399195],\n",
       "         [0.55399195],\n",
       "         [0.81540169],\n",
       "         [0.81540169],\n",
       "         [0.59586648],\n",
       "         [0.59586648],\n",
       "         [0.90286361],\n",
       "         [0.90286361],\n",
       "         [0.3380392 ],\n",
       "         [0.3380392 ],\n",
       "         [0.28412269],\n",
       "         [0.28412269],\n",
       "         [0.68426088],\n",
       "         [0.68426088],\n",
       "         [0.77158483],\n",
       "         [0.77158483],\n",
       "         [0.87748101],\n",
       "         [0.87748101],\n",
       "         [0.76589086],\n",
       "         [0.76589086],\n",
       "         [0.29749841],\n",
       "         [0.29749841],\n",
       "         [0.53667247],\n",
       "         [0.53667247],\n",
       "         [0.37317373],\n",
       "         [0.37317373],\n",
       "         [0.19358627],\n",
       "         [0.19358627],\n",
       "         [0.82333043],\n",
       "         [0.82333043],\n",
       "         [0.91168894],\n",
       "         [0.91168894],\n",
       "         [0.49339905],\n",
       "         [0.49339905],\n",
       "         [0.22134725],\n",
       "         [0.22134725],\n",
       "         [0.38303019],\n",
       "         [0.38303019],\n",
       "         [0.30386404],\n",
       "         [0.30386404],\n",
       "         [0.41840437],\n",
       "         [0.41840437],\n",
       "         [0.19399137],\n",
       "         [0.19399137],\n",
       "         [0.48415541],\n",
       "         [0.48415541],\n",
       "         [0.05248602],\n",
       "         [0.05248602],\n",
       "         [0.81206494],\n",
       "         [0.81206494]])}}"
      ]
     },
     "execution_count": 1,
     "metadata": {},
     "output_type": "execute_result"
    }
   ],
   "source": [
    "ds = load_by_id(run_id_a)\n",
    "ds.get_parameter_data('x1')"
   ]
  },
  {
   "cell_type": "code",
   "execution_count": null,
   "metadata": {},
   "outputs": [],
   "source": []
  }
 ],
 "metadata": {
  "kernelspec": {
   "display_name": "Python 3",
   "language": "python",
   "name": "python3"
  },
  "language_info": {
   "codemirror_mode": {
    "name": "ipython",
    "version": 3
   },
   "file_extension": ".py",
   "mimetype": "text/x-python",
   "name": "python",
   "nbconvert_exporter": "python",
   "pygments_lexer": "ipython3",
   "version": "3.7.7"
  },
  "nbsphinx": {
   "timeout": 600
  },
  "toc": {
   "base_numbering": 1,
   "nav_menu": {},
   "number_sections": true,
   "sideBar": true,
   "skip_h1_title": false,
   "title_cell": "Table of Contents",
   "title_sidebar": "Contents",
   "toc_cell": false,
   "toc_position": {},
   "toc_section_display": true,
   "toc_window_display": false
  },
  "varInspector": {
   "cols": {
    "lenName": 16,
    "lenType": 16,
    "lenVar": 40
   },
   "kernels_config": {
    "python": {
     "delete_cmd_postfix": "",
     "delete_cmd_prefix": "del ",
     "library": "var_list.py",
     "varRefreshCmd": "print(var_dic_list())"
    },
    "r": {
     "delete_cmd_postfix": ") ",
     "delete_cmd_prefix": "rm(",
     "library": "var_list.r",
     "varRefreshCmd": "cat(var_dic_list()) "
    }
   },
   "types_to_exclude": [
    "module",
    "function",
    "builtin_function_or_method",
    "instance",
    "_Feature"
   ],
   "window_display": false
  }
 },
 "nbformat": 4,
 "nbformat_minor": 2
}
