{
 "cells": [
  {
   "cell_type": "markdown",
   "metadata": {},
   "source": [
    "# DataSet Performance\n",
    "\n",
    "This notebook shows the trade-off between inserting data into a database row-by-row and as binary blobs. Inserting the data row-by-row means that we have direct access to all the data and may perform queries directly on the values of the data. On the other hand, as we shall see, this is much slower than inserting the data directly as binary blobs."
   ]
  },
  {
   "cell_type": "markdown",
   "metadata": {},
   "source": [
    "First, we choose a new location for the database to ensure that we don't add a bunch of benchmarking data to the default one."
   ]
  },
  {
   "cell_type": "code",
   "execution_count": 1,
   "metadata": {
    "execution": {
     "iopub.execute_input": "2021-03-29T15:40:20.200771Z",
     "iopub.status.busy": "2021-03-29T15:40:20.200101Z",
     "iopub.status.idle": "2021-03-29T15:40:21.301242Z",
     "shell.execute_reply": "2021-03-29T15:40:21.301848Z"
    }
   },
   "outputs": [
    {
     "name": "stdout",
     "output_type": "stream",
     "text": [
      "Logging hadn't been started.\n",
      "Activating auto-logging. Current session state plus future input saved.\n",
      "Filename       : /home/runner/.qcodes/logs/command_history.log\n",
      "Mode           : append\n",
      "Output logging : True\n",
      "Raw input log  : False\n",
      "Timestamping   : True\n",
      "State          : active\n"
     ]
    },
    {
     "name": "stdout",
     "output_type": "stream",
     "text": [
      "Qcodes Logfile : /home/runner/.qcodes/logs/210329-4614-qcodes.log\n"
     ]
    }
   ],
   "source": [
    "import os\n",
    "cwd = os.getcwd()\n",
    "import qcodes as qc\n",
    "qc.config[\"core\"][\"db_location\"] = os.path.join(cwd, 'testing.db')\n"
   ]
  },
  {
   "cell_type": "code",
   "execution_count": 2,
   "metadata": {
    "execution": {
     "iopub.execute_input": "2021-03-29T15:40:21.309906Z",
     "iopub.status.busy": "2021-03-29T15:40:21.308387Z",
     "iopub.status.idle": "2021-03-29T15:40:21.565670Z",
     "shell.execute_reply": "2021-03-29T15:40:21.565098Z"
    }
   },
   "outputs": [],
   "source": [
    "%matplotlib inline\n",
    "import time\n",
    "import matplotlib.pyplot as plt\n",
    "import numpy as np\n",
    "\n",
    "import qcodes as qc\n",
    "from qcodes.instrument.parameter import ManualParameter\n",
    "from qcodes.dataset.experiment_container import (Experiment,\n",
    "                                                 load_last_experiment,\n",
    "                                                 new_experiment)\n",
    "from qcodes.dataset.sqlite.database import initialise_database\n",
    "from qcodes import load_or_create_experiment\n",
    "from qcodes.dataset.measurements import Measurement"
   ]
  },
  {
   "cell_type": "code",
   "execution_count": 3,
   "metadata": {
    "execution": {
     "iopub.execute_input": "2021-03-29T15:40:21.570086Z",
     "iopub.status.busy": "2021-03-29T15:40:21.569281Z",
     "iopub.status.idle": "2021-03-29T15:40:21.656507Z",
     "shell.execute_reply": "2021-03-29T15:40:21.656986Z"
    }
   },
   "outputs": [
    {
     "name": "stdout",
     "output_type": "stream",
     "text": [
      "\r",
      "0it [00:00, ?it/s]"
     ]
    },
    {
     "name": "stdout",
     "output_type": "stream",
     "text": [
      "\r",
      "Upgrading database; v0 -> v1: : 0it [00:00, ?it/s]"
     ]
    },
    {
     "name": "stdout",
     "output_type": "stream",
     "text": [
      "\r",
      "Upgrading database; v0 -> v1: : 0it [00:00, ?it/s]"
     ]
    },
    {
     "name": "stdout",
     "output_type": "stream",
     "text": [
      "\n",
      "\r",
      "  0%|          | 0/1 [00:00<?, ?it/s]"
     ]
    },
    {
     "name": "stdout",
     "output_type": "stream",
     "text": [
      "\r",
      "Upgrading database; v1 -> v2:   0%|          | 0/1 [00:00<?, ?it/s]"
     ]
    },
    {
     "name": "stdout",
     "output_type": "stream",
     "text": [
      "\r",
      "Upgrading database; v1 -> v2: 100%|██████████| 1/1 [00:00<00:00, 342.22it/s]"
     ]
    },
    {
     "name": "stdout",
     "output_type": "stream",
     "text": [
      "\n",
      "\r",
      "0it [00:00, ?it/s]"
     ]
    },
    {
     "name": "stdout",
     "output_type": "stream",
     "text": [
      "\r",
      "Upgrading database; v2 -> v3: : 0it [00:00, ?it/s]"
     ]
    },
    {
     "name": "stdout",
     "output_type": "stream",
     "text": [
      "\r",
      "Upgrading database; v2 -> v3: : 0it [00:00, ?it/s]"
     ]
    },
    {
     "name": "stdout",
     "output_type": "stream",
     "text": [
      "\n",
      "\r",
      "0it [00:00, ?it/s]"
     ]
    },
    {
     "name": "stdout",
     "output_type": "stream",
     "text": [
      "\r",
      "Upgrading database; v3 -> v4: : 0it [00:00, ?it/s]"
     ]
    },
    {
     "name": "stdout",
     "output_type": "stream",
     "text": [
      "\r",
      "Upgrading database; v3 -> v4: : 0it [00:00, ?it/s]"
     ]
    },
    {
     "name": "stdout",
     "output_type": "stream",
     "text": [
      "\n",
      "\r",
      "  0%|          | 0/1 [00:00<?, ?it/s]"
     ]
    },
    {
     "name": "stdout",
     "output_type": "stream",
     "text": [
      "\r",
      "Upgrading database; v4 -> v5:   0%|          | 0/1 [00:00<?, ?it/s]"
     ]
    },
    {
     "name": "stdout",
     "output_type": "stream",
     "text": [
      "\r",
      "Upgrading database; v4 -> v5: 100%|██████████| 1/1 [00:00<00:00, 317.82it/s]"
     ]
    },
    {
     "name": "stdout",
     "output_type": "stream",
     "text": [
      "\n",
      "\r",
      "0it [00:00, ?it/s]"
     ]
    },
    {
     "name": "stdout",
     "output_type": "stream",
     "text": [
      "\r",
      "Upgrading database; v5 -> v6: : 0it [00:00, ?it/s]"
     ]
    },
    {
     "name": "stdout",
     "output_type": "stream",
     "text": [
      "\r",
      "Upgrading database; v5 -> v6: : 0it [00:00, ?it/s]"
     ]
    },
    {
     "name": "stdout",
     "output_type": "stream",
     "text": [
      "\n",
      "\r",
      "  0%|          | 0/1 [00:00<?, ?it/s]"
     ]
    },
    {
     "name": "stdout",
     "output_type": "stream",
     "text": [
      "\r",
      "Upgrading database; v6 -> v7:   0%|          | 0/1 [00:00<?, ?it/s]"
     ]
    },
    {
     "name": "stdout",
     "output_type": "stream",
     "text": [
      "\r",
      "Upgrading database; v6 -> v7: 100%|██████████| 1/1 [00:00<00:00, 208.49it/s]"
     ]
    },
    {
     "name": "stdout",
     "output_type": "stream",
     "text": [
      "\n",
      "\r",
      "  0%|          | 0/1 [00:00<?, ?it/s]"
     ]
    },
    {
     "name": "stdout",
     "output_type": "stream",
     "text": [
      "\r",
      "Upgrading database; v7 -> v8:   0%|          | 0/1 [00:00<?, ?it/s]"
     ]
    },
    {
     "name": "stdout",
     "output_type": "stream",
     "text": [
      "\r",
      "Upgrading database; v7 -> v8: 100%|██████████| 1/1 [00:00<00:00, 696.50it/s]"
     ]
    },
    {
     "name": "stdout",
     "output_type": "stream",
     "text": [
      "\n",
      "\r",
      "  0%|          | 0/1 [00:00<?, ?it/s]"
     ]
    },
    {
     "name": "stdout",
     "output_type": "stream",
     "text": [
      "\r",
      "Upgrading database; v8 -> v9:   0%|          | 0/1 [00:00<?, ?it/s]"
     ]
    },
    {
     "name": "stdout",
     "output_type": "stream",
     "text": [
      "\r",
      "Upgrading database; v8 -> v9: 100%|██████████| 1/1 [00:00<00:00, 391.22it/s]"
     ]
    },
    {
     "name": "stdout",
     "output_type": "stream",
     "text": [
      "\n"
     ]
    }
   ],
   "source": [
    "initialise_database()\n",
    "exp = load_or_create_experiment(experiment_name='tutorial_exp', sample_name=\"no sample\")"
   ]
  },
  {
   "cell_type": "markdown",
   "metadata": {},
   "source": [
    "Here, we define a simple function to benchmark the time it takes to insert n points with either numeric or array data type.\n",
    "We will compare both the time used to call ``add_result`` and the time used for the full measurement."
   ]
  },
  {
   "cell_type": "code",
   "execution_count": 4,
   "metadata": {
    "execution": {
     "iopub.execute_input": "2021-03-29T15:40:21.668062Z",
     "iopub.status.busy": "2021-03-29T15:40:21.666606Z",
     "iopub.status.idle": "2021-03-29T15:40:21.668771Z",
     "shell.execute_reply": "2021-03-29T15:40:21.669288Z"
    }
   },
   "outputs": [],
   "source": [
    "def insert_data(paramtype, npoints, nreps=1):\n",
    "\n",
    "    meas = Measurement(exp=exp)\n",
    "\n",
    "    x1 = ManualParameter('x1')\n",
    "    x2 = ManualParameter('x2')\n",
    "    x3 = ManualParameter('x3')\n",
    "    y1 = ManualParameter('y1')\n",
    "    y2 = ManualParameter('y2')\n",
    "\n",
    "    meas.register_parameter(x1, paramtype=paramtype)\n",
    "    meas.register_parameter(x2, paramtype=paramtype)\n",
    "    meas.register_parameter(x3, paramtype=paramtype)\n",
    "    meas.register_parameter(y1, setpoints=[x1, x2, x3],\n",
    "                            paramtype=paramtype)\n",
    "    meas.register_parameter(y2, setpoints=[x1, x2, x3],\n",
    "                            paramtype=paramtype)\n",
    "    start = time.perf_counter()\n",
    "    with meas.run() as datasaver:\n",
    "        start_adding = time.perf_counter()\n",
    "        for i in range(nreps):\n",
    "            datasaver.add_result((x1, np.random.rand(npoints)),\n",
    "                                 (x2, np.random.rand(npoints)),\n",
    "                                 (x3, np.random.rand(npoints)),\n",
    "                                 (y1, np.random.rand(npoints)),\n",
    "                                 (y2, np.random.rand(npoints)))\n",
    "        stop_adding = time.perf_counter()\n",
    "        run_id = datasaver.run_id\n",
    "    stop = time.perf_counter()\n",
    "    tot_time = stop - start\n",
    "    add_time = stop_adding - start_adding\n",
    "    return tot_time, add_time, run_id"
   ]
  },
  {
   "cell_type": "markdown",
   "metadata": {},
   "source": [
    "## Comparison between numeric/array data and binary blob"
   ]
  },
  {
   "cell_type": "markdown",
   "metadata": {},
   "source": [
    "### Case1: Short experiment time"
   ]
  },
  {
   "cell_type": "code",
   "execution_count": 5,
   "metadata": {
    "execution": {
     "iopub.execute_input": "2021-03-29T15:40:21.676379Z",
     "iopub.status.busy": "2021-03-29T15:40:21.674968Z",
     "iopub.status.idle": "2021-03-29T15:40:22.593505Z",
     "shell.execute_reply": "2021-03-29T15:40:22.593968Z"
    }
   },
   "outputs": [
    {
     "name": "stdout",
     "output_type": "stream",
     "text": [
      "Starting experimental run with id: 1. \n",
      "Starting experimental run with id: 2. \n",
      "Starting experimental run with id: 3. \n",
      "Starting experimental run with id: 4. \n"
     ]
    },
    {
     "name": "stdout",
     "output_type": "stream",
     "text": [
      "Starting experimental run with id: 5. \n"
     ]
    },
    {
     "name": "stdout",
     "output_type": "stream",
     "text": [
      "Starting experimental run with id: 6. \n"
     ]
    },
    {
     "name": "stdout",
     "output_type": "stream",
     "text": [
      "Starting experimental run with id: 7. \n"
     ]
    },
    {
     "name": "stdout",
     "output_type": "stream",
     "text": [
      "Starting experimental run with id: 8. \n",
      "Starting experimental run with id: 9. \n"
     ]
    },
    {
     "name": "stdout",
     "output_type": "stream",
     "text": [
      "Starting experimental run with id: 10. \n",
      "Starting experimental run with id: 11. \n"
     ]
    },
    {
     "name": "stdout",
     "output_type": "stream",
     "text": [
      "Starting experimental run with id: 12. \n",
      "Starting experimental run with id: 13. \n"
     ]
    },
    {
     "name": "stdout",
     "output_type": "stream",
     "text": [
      "Starting experimental run with id: 14. \n"
     ]
    }
   ],
   "source": [
    "sizes = [1,500,1000,2000,3000,4000,5000]\n",
    "t_numeric = []\n",
    "t_numeric_add = []\n",
    "t_array = []\n",
    "t_array_add = []\n",
    "for size in sizes:\n",
    "    tn, tna, run_id_n =  insert_data('numeric', size)\n",
    "    t_numeric.append(tn)\n",
    "    t_numeric_add.append(tna)\n",
    "\n",
    "    ta, taa, run_id_a =  insert_data('array', size)\n",
    "    t_array.append(ta)\n",
    "    t_array_add.append(taa)"
   ]
  },
  {
   "cell_type": "code",
   "execution_count": 6,
   "metadata": {
    "execution": {
     "iopub.execute_input": "2021-03-29T15:40:22.614461Z",
     "iopub.status.busy": "2021-03-29T15:40:22.613801Z",
     "iopub.status.idle": "2021-03-29T15:40:22.838064Z",
     "shell.execute_reply": "2021-03-29T15:40:22.838835Z"
    }
   },
   "outputs": [
    {
     "data": {
      "image/png": "[encoded data removed]",
      "text/plain": [
       "<Figure size 432x288 with 1 Axes>"
      ]
     },
     "metadata": {
      "needs_background": "light"
     },
     "output_type": "display_data"
    }
   ],
   "source": [
    "fig, ax = plt.subplots(1,1)\n",
    "ax.plot(sizes, t_numeric, 'o-', label='Inserting row-by-row')\n",
    "ax.plot(sizes, t_numeric_add, 'o-', label='Inserting row-by-row: add_result only')\n",
    "ax.plot(sizes, t_array, 'd-', label='Inserting as binary blob')\n",
    "ax.plot(sizes, t_array_add, 'd-', label='Inserting as binary blob: add_result only')\n",
    "ax.legend()\n",
    "ax.set_xlabel('Array length')\n",
    "ax.set_ylabel('Time (s)')\n",
    "fig.tight_layout()"
   ]
  },
  {
   "cell_type": "markdown",
   "metadata": {},
   "source": [
    "As shown in the latter figure, the time to setup and and close the experiment is approximately 0.4 sec. In case of small array sizes, the difference between inserting values of data as arrays and inserting them row-by-row is relatively unimportant. At larger array sizes, i.e. above 10000 points, the cost of writing data as individual datapoints starts to become important.\n"
   ]
  },
  {
   "cell_type": "markdown",
   "metadata": {},
   "source": [
    "### Case2: Long experiment time "
   ]
  },
  {
   "cell_type": "code",
   "execution_count": 7,
   "metadata": {
    "execution": {
     "iopub.execute_input": "2021-03-29T15:40:22.846311Z",
     "iopub.status.busy": "2021-03-29T15:40:22.845031Z",
     "iopub.status.idle": "2021-03-29T15:41:23.845057Z",
     "shell.execute_reply": "2021-03-29T15:41:23.844161Z"
    }
   },
   "outputs": [
    {
     "name": "stdout",
     "output_type": "stream",
     "text": [
      "Starting experimental run with id: 15. \n",
      "Starting experimental run with id: 16. \n"
     ]
    },
    {
     "name": "stdout",
     "output_type": "stream",
     "text": [
      "Starting experimental run with id: 17. \n"
     ]
    },
    {
     "name": "stdout",
     "output_type": "stream",
     "text": [
      "Starting experimental run with id: 18. \n"
     ]
    },
    {
     "name": "stdout",
     "output_type": "stream",
     "text": [
      "Starting experimental run with id: 19. \n"
     ]
    },
    {
     "name": "stdout",
     "output_type": "stream",
     "text": [
      "Starting experimental run with id: 20. \n"
     ]
    },
    {
     "name": "stdout",
     "output_type": "stream",
     "text": [
      "Starting experimental run with id: 21. \n"
     ]
    },
    {
     "name": "stdout",
     "output_type": "stream",
     "text": [
      "Starting experimental run with id: 22. \n"
     ]
    },
    {
     "name": "stdout",
     "output_type": "stream",
     "text": [
      "Starting experimental run with id: 23. \n"
     ]
    },
    {
     "name": "stdout",
     "output_type": "stream",
     "text": [
      "Starting experimental run with id: 24. \n"
     ]
    },
    {
     "name": "stdout",
     "output_type": "stream",
     "text": [
      "Starting experimental run with id: 25. \n"
     ]
    },
    {
     "name": "stdout",
     "output_type": "stream",
     "text": [
      "Starting experimental run with id: 26. \n"
     ]
    },
    {
     "name": "stdout",
     "output_type": "stream",
     "text": [
      "Starting experimental run with id: 27. \n"
     ]
    },
    {
     "name": "stdout",
     "output_type": "stream",
     "text": [
      "Starting experimental run with id: 28. \n"
     ]
    }
   ],
   "source": [
    "sizes = [1,500,1000,2000,3000,4000,5000]\n",
    "nreps = 100\n",
    "t_numeric = []\n",
    "t_numeric_add = []\n",
    "t_numeric_run_ids = []\n",
    "t_array = []\n",
    "t_array_add = []\n",
    "t_array_run_ids = []\n",
    "for size in sizes:\n",
    "    tn, tna, run_id_n =  insert_data('numeric', size, nreps=nreps)\n",
    "    t_numeric.append(tn)\n",
    "    t_numeric_add.append(tna)\n",
    "    t_numeric_run_ids.append(run_id_n)\n",
    "\n",
    "    ta, taa, run_id_a =  insert_data('array', size, nreps=nreps)\n",
    "    t_array.append(ta)\n",
    "    t_array_add.append(taa)\n",
    "    t_array_run_ids.append(run_id_a)"
   ]
  },
  {
   "cell_type": "code",
   "execution_count": 8,
   "metadata": {
    "execution": {
     "iopub.execute_input": "2021-03-29T15:41:23.877584Z",
     "iopub.status.busy": "2021-03-29T15:41:23.864429Z",
     "iopub.status.idle": "2021-03-29T15:41:24.074231Z",
     "shell.execute_reply": "2021-03-29T15:41:24.074736Z"
    },
    "scrolled": true
   },
   "outputs": [
    {
     "data": {
      "image/png": "[encoded data removed]",
      "text/plain": [
       "<Figure size 432x288 with 1 Axes>"
      ]
     },
     "metadata": {
      "needs_background": "light"
     },
     "output_type": "display_data"
    }
   ],
   "source": [
    "fig, ax = plt.subplots(1,1)\n",
    "ax.plot(sizes, t_numeric, 'o-', label='Inserting row-by-row')\n",
    "ax.plot(sizes, t_numeric_add, 'o-', label='Inserting row-by-row: add_result only')\n",
    "ax.plot(sizes, t_array, 'd-', label='Inserting as binary blob')\n",
    "ax.plot(sizes, t_array_add, 'd-', label='Inserting as binary blob: add_result only')\n",
    "ax.legend()\n",
    "ax.set_xlabel('Array length')\n",
    "ax.set_ylabel('Time (s)')\n",
    "fig.tight_layout()"
   ]
  },
  {
   "cell_type": "markdown",
   "metadata": {},
   "source": [
    "However, as we increase the length of the experiment, as seen here by repeating the insertion 100 times, we see a big difference between inserting values of the data row-by-row and inserting it as a binary blob."
   ]
  },
  {
   "cell_type": "markdown",
   "metadata": {},
   "source": [
    "## Loading the data "
   ]
  },
  {
   "cell_type": "code",
   "execution_count": 9,
   "metadata": {
    "execution": {
     "iopub.execute_input": "2021-03-29T15:41:24.079765Z",
     "iopub.status.busy": "2021-03-29T15:41:24.078859Z",
     "iopub.status.idle": "2021-03-29T15:41:24.082312Z",
     "shell.execute_reply": "2021-03-29T15:41:24.082788Z"
    }
   },
   "outputs": [],
   "source": [
    "from qcodes.dataset.data_set import load_by_id\n",
    "from qcodes.dataset.data_export import get_data_by_id"
   ]
  },
  {
   "cell_type": "markdown",
   "metadata": {},
   "source": [
    "As usual you can load the data by using the ``load_by_id`` function but you will notice that the different storage methods\n",
    "are reflected in shape of the data as it is retrieved. "
   ]
  },
  {
   "cell_type": "code",
   "execution_count": 10,
   "metadata": {
    "execution": {
     "iopub.execute_input": "2021-03-29T15:41:24.086955Z",
     "iopub.status.busy": "2021-03-29T15:41:24.086283Z",
     "iopub.status.idle": "2021-03-29T15:41:24.089853Z",
     "shell.execute_reply": "2021-03-29T15:41:24.090294Z"
    }
   },
   "outputs": [],
   "source": [
    "run_id_n = t_numeric_run_ids[0]\n",
    "run_id_a = t_array_run_ids[0]"
   ]
  },
  {
   "cell_type": "code",
   "execution_count": 11,
   "metadata": {
    "execution": {
     "iopub.execute_input": "2021-03-29T15:41:24.093848Z",
     "iopub.status.busy": "2021-03-29T15:41:24.093296Z",
     "iopub.status.idle": "2021-03-29T15:41:24.154920Z",
     "shell.execute_reply": "2021-03-29T15:41:24.155462Z"
    },
    "scrolled": true
   },
   "outputs": [
    {
     "data": {
      "text/plain": [
       "{'x1': {'x1': array([0.12054789, 0.12054789, 0.37425717, 0.37425717, 0.50442013,\n",
       "         0.50442013, 0.22136204, 0.22136204, 0.78209783, 0.78209783,\n",
       "         0.81280077, 0.81280077, 0.61219208, 0.61219208, 0.3390491 ,\n",
       "         0.3390491 , 0.3963346 , 0.3963346 , 0.14568506, 0.14568506,\n",
       "         0.50060441, 0.50060441, 0.15407496, 0.15407496, 0.64275658,\n",
       "         0.64275658, 0.57960804, 0.57960804, 0.74479707, 0.74479707,\n",
       "         0.2703396 , 0.2703396 , 0.16320808, 0.16320808, 0.45024488,\n",
       "         0.45024488, 0.39716611, 0.39716611, 0.53971493, 0.53971493,\n",
       "         0.69980715, 0.69980715, 0.95089031, 0.95089031, 0.05434607,\n",
       "         0.05434607, 0.53743671, 0.53743671, 0.34857745, 0.34857745,\n",
       "         0.72649755, 0.72649755, 0.33135135, 0.33135135, 0.62708275,\n",
       "         0.62708275, 0.89462663, 0.89462663, 0.02227009, 0.02227009,\n",
       "         0.80812188, 0.80812188, 0.0726409 , 0.0726409 , 0.20249557,\n",
       "         0.20249557, 0.79394626, 0.79394626, 0.57479977, 0.57479977,\n",
       "         0.87729833, 0.87729833, 0.5953754 , 0.5953754 , 0.97027831,\n",
       "         0.97027831, 0.96952354, 0.96952354, 0.96471314, 0.96471314,\n",
       "         0.88037343, 0.88037343, 0.4412115 , 0.4412115 , 0.14952383,\n",
       "         0.14952383, 0.47417419, 0.47417419, 0.65534204, 0.65534204,\n",
       "         0.59407678, 0.59407678, 0.85789227, 0.85789227, 0.34646043,\n",
       "         0.34646043, 0.6660039 , 0.6660039 , 0.97699063, 0.97699063,\n",
       "         0.01020319, 0.01020319, 0.2822579 , 0.2822579 , 0.95582601,\n",
       "         0.95582601, 0.69557893, 0.69557893, 0.41563816, 0.41563816,\n",
       "         0.19508436, 0.19508436, 0.10365212, 0.10365212, 0.5614134 ,\n",
       "         0.5614134 , 0.92093199, 0.92093199, 0.95782995, 0.95782995,\n",
       "         0.45512922, 0.45512922, 0.64173564, 0.64173564, 0.39137359,\n",
       "         0.39137359, 0.82037554, 0.82037554, 0.09324413, 0.09324413,\n",
       "         0.39502666, 0.39502666, 0.66698437, 0.66698437, 0.2084179 ,\n",
       "         0.2084179 , 0.14399365, 0.14399365, 0.61242109, 0.61242109,\n",
       "         0.47594531, 0.47594531, 0.89884334, 0.89884334, 0.88673656,\n",
       "         0.88673656, 0.68139952, 0.68139952, 0.27636019, 0.27636019,\n",
       "         0.44459143, 0.44459143, 0.57845603, 0.57845603, 0.92006994,\n",
       "         0.92006994, 0.31965684, 0.31965684, 0.62358271, 0.62358271,\n",
       "         0.94833854, 0.94833854, 0.57896411, 0.57896411, 0.87300939,\n",
       "         0.87300939, 0.89557065, 0.89557065, 0.698437  , 0.698437  ,\n",
       "         0.88821558, 0.88821558, 0.45825963, 0.45825963, 0.55273981,\n",
       "         0.55273981, 0.94782231, 0.94782231, 0.49025518, 0.49025518,\n",
       "         0.77500239, 0.77500239, 0.37445211, 0.37445211, 0.64741377,\n",
       "         0.64741377, 0.45873173, 0.45873173, 0.76255161, 0.76255161,\n",
       "         0.54569228, 0.54569228, 0.18575448, 0.18575448, 0.60686782,\n",
       "         0.60686782, 0.10293379, 0.10293379, 0.422723  , 0.422723  ])}}"
      ]
     },
     "execution_count": 1,
     "metadata": {},
     "output_type": "execute_result"
    }
   ],
   "source": [
    "ds = load_by_id(run_id_n)\n",
    "ds.get_parameter_data('x1')"
   ]
  },
  {
   "cell_type": "markdown",
   "metadata": {},
   "source": [
    "And a dataset stored as binary arrays"
   ]
  },
  {
   "cell_type": "code",
   "execution_count": 12,
   "metadata": {
    "execution": {
     "iopub.execute_input": "2021-03-29T15:41:24.159707Z",
     "iopub.status.busy": "2021-03-29T15:41:24.159044Z",
     "iopub.status.idle": "2021-03-29T15:41:24.229444Z",
     "shell.execute_reply": "2021-03-29T15:41:24.229957Z"
    },
    "scrolled": true
   },
   "outputs": [
    {
     "data": {
      "text/plain": [
       "{'x1': {'x1': array([[0.28505689],\n",
       "         [0.28505689],\n",
       "         [0.80890145],\n",
       "         [0.80890145],\n",
       "         [0.88113628],\n",
       "         [0.88113628],\n",
       "         [0.21188134],\n",
       "         [0.21188134],\n",
       "         [0.15837542],\n",
       "         [0.15837542],\n",
       "         [0.34129766],\n",
       "         [0.34129766],\n",
       "         [0.30735473],\n",
       "         [0.30735473],\n",
       "         [0.09509694],\n",
       "         [0.09509694],\n",
       "         [0.90952421],\n",
       "         [0.90952421],\n",
       "         [0.96376527],\n",
       "         [0.96376527],\n",
       "         [0.42135999],\n",
       "         [0.42135999],\n",
       "         [0.95674006],\n",
       "         [0.95674006],\n",
       "         [0.96365015],\n",
       "         [0.96365015],\n",
       "         [0.01750715],\n",
       "         [0.01750715],\n",
       "         [0.14282993],\n",
       "         [0.14282993],\n",
       "         [0.35120365],\n",
       "         [0.35120365],\n",
       "         [0.95710795],\n",
       "         [0.95710795],\n",
       "         [0.93440138],\n",
       "         [0.93440138],\n",
       "         [0.49007835],\n",
       "         [0.49007835],\n",
       "         [0.94813446],\n",
       "         [0.94813446],\n",
       "         [0.3210965 ],\n",
       "         [0.3210965 ],\n",
       "         [0.3583286 ],\n",
       "         [0.3583286 ],\n",
       "         [0.06118753],\n",
       "         [0.06118753],\n",
       "         [0.91697642],\n",
       "         [0.91697642],\n",
       "         [0.82650984],\n",
       "         [0.82650984],\n",
       "         [0.77992169],\n",
       "         [0.77992169],\n",
       "         [0.92309407],\n",
       "         [0.92309407],\n",
       "         [0.07771371],\n",
       "         [0.07771371],\n",
       "         [0.27238077],\n",
       "         [0.27238077],\n",
       "         [0.87071344],\n",
       "         [0.87071344],\n",
       "         [0.47577476],\n",
       "         [0.47577476],\n",
       "         [0.53936463],\n",
       "         [0.53936463],\n",
       "         [0.23814987],\n",
       "         [0.23814987],\n",
       "         [0.16430944],\n",
       "         [0.16430944],\n",
       "         [0.14586626],\n",
       "         [0.14586626],\n",
       "         [0.04341443],\n",
       "         [0.04341443],\n",
       "         [0.04693806],\n",
       "         [0.04693806],\n",
       "         [0.99550341],\n",
       "         [0.99550341],\n",
       "         [0.45330535],\n",
       "         [0.45330535],\n",
       "         [0.37124431],\n",
       "         [0.37124431],\n",
       "         [0.55033298],\n",
       "         [0.55033298],\n",
       "         [0.74162393],\n",
       "         [0.74162393],\n",
       "         [0.61798909],\n",
       "         [0.61798909],\n",
       "         [0.71061891],\n",
       "         [0.71061891],\n",
       "         [0.34162332],\n",
       "         [0.34162332],\n",
       "         [0.71125156],\n",
       "         [0.71125156],\n",
       "         [0.08272176],\n",
       "         [0.08272176],\n",
       "         [0.30193463],\n",
       "         [0.30193463],\n",
       "         [0.86928365],\n",
       "         [0.86928365],\n",
       "         [0.26660634],\n",
       "         [0.26660634],\n",
       "         [0.53001966],\n",
       "         [0.53001966],\n",
       "         [0.36902027],\n",
       "         [0.36902027],\n",
       "         [0.57941818],\n",
       "         [0.57941818],\n",
       "         [0.56401255],\n",
       "         [0.56401255],\n",
       "         [0.50609847],\n",
       "         [0.50609847],\n",
       "         [0.06267196],\n",
       "         [0.06267196],\n",
       "         [0.2114303 ],\n",
       "         [0.2114303 ],\n",
       "         [0.39374587],\n",
       "         [0.39374587],\n",
       "         [0.81459611],\n",
       "         [0.81459611],\n",
       "         [0.53622697],\n",
       "         [0.53622697],\n",
       "         [0.76080126],\n",
       "         [0.76080126],\n",
       "         [0.10990252],\n",
       "         [0.10990252],\n",
       "         [0.12343828],\n",
       "         [0.12343828],\n",
       "         [0.26475344],\n",
       "         [0.26475344],\n",
       "         [0.70603727],\n",
       "         [0.70603727],\n",
       "         [0.45923798],\n",
       "         [0.45923798],\n",
       "         [0.0822661 ],\n",
       "         [0.0822661 ],\n",
       "         [0.79230033],\n",
       "         [0.79230033],\n",
       "         [0.63447848],\n",
       "         [0.63447848],\n",
       "         [0.81690731],\n",
       "         [0.81690731],\n",
       "         [0.15629386],\n",
       "         [0.15629386],\n",
       "         [0.83201379],\n",
       "         [0.83201379],\n",
       "         [0.15134665],\n",
       "         [0.15134665],\n",
       "         [0.67230551],\n",
       "         [0.67230551],\n",
       "         [0.89603006],\n",
       "         [0.89603006],\n",
       "         [0.90814373],\n",
       "         [0.90814373],\n",
       "         [0.62439032],\n",
       "         [0.62439032],\n",
       "         [0.42851167],\n",
       "         [0.42851167],\n",
       "         [0.04688969],\n",
       "         [0.04688969],\n",
       "         [0.87592229],\n",
       "         [0.87592229],\n",
       "         [0.3962787 ],\n",
       "         [0.3962787 ],\n",
       "         [0.83523704],\n",
       "         [0.83523704],\n",
       "         [0.80316197],\n",
       "         [0.80316197],\n",
       "         [0.79801057],\n",
       "         [0.79801057],\n",
       "         [0.38598945],\n",
       "         [0.38598945],\n",
       "         [0.6818956 ],\n",
       "         [0.6818956 ],\n",
       "         [0.95085435],\n",
       "         [0.95085435],\n",
       "         [0.56928401],\n",
       "         [0.56928401],\n",
       "         [0.20364607],\n",
       "         [0.20364607],\n",
       "         [0.07664173],\n",
       "         [0.07664173],\n",
       "         [0.2280921 ],\n",
       "         [0.2280921 ],\n",
       "         [0.44196828],\n",
       "         [0.44196828],\n",
       "         [0.82879093],\n",
       "         [0.82879093],\n",
       "         [0.79125936],\n",
       "         [0.79125936],\n",
       "         [0.91992167],\n",
       "         [0.91992167],\n",
       "         [0.49478453],\n",
       "         [0.49478453],\n",
       "         [0.49676739],\n",
       "         [0.49676739],\n",
       "         [0.97137557],\n",
       "         [0.97137557],\n",
       "         [0.36739108],\n",
       "         [0.36739108],\n",
       "         [0.40498621],\n",
       "         [0.40498621]])}}"
      ]
     },
     "execution_count": 1,
     "metadata": {},
     "output_type": "execute_result"
    }
   ],
   "source": [
    "ds = load_by_id(run_id_a)\n",
    "ds.get_parameter_data('x1')"
   ]
  },
  {
   "cell_type": "code",
   "execution_count": null,
   "metadata": {},
   "outputs": [],
   "source": []
  }
 ],
 "metadata": {
  "kernelspec": {
   "display_name": "Python 3",
   "language": "python",
   "name": "python3"
  },
  "language_info": {
   "codemirror_mode": {
    "name": "ipython",
    "version": 3
   },
   "file_extension": ".py",
   "mimetype": "text/x-python",
   "name": "python",
   "nbconvert_exporter": "python",
   "pygments_lexer": "ipython3",
   "version": "3.7.10"
  },
  "nbsphinx": {
   "timeout": 600
  },
  "toc": {
   "base_numbering": 1,
   "nav_menu": {},
   "number_sections": true,
   "sideBar": true,
   "skip_h1_title": false,
   "title_cell": "Table of Contents",
   "title_sidebar": "Contents",
   "toc_cell": false,
   "toc_position": {},
   "toc_section_display": true,
   "toc_window_display": false
  },
  "varInspector": {
   "cols": {
    "lenName": 16,
    "lenType": 16,
    "lenVar": 40
   },
   "kernels_config": {
    "python": {
     "delete_cmd_postfix": "",
     "delete_cmd_prefix": "del ",
     "library": "var_list.py",
     "varRefreshCmd": "print(var_dic_list())"
    },
    "r": {
     "delete_cmd_postfix": ") ",
     "delete_cmd_prefix": "rm(",
     "library": "var_list.r",
     "varRefreshCmd": "cat(var_dic_list()) "
    }
   },
   "types_to_exclude": [
    "module",
    "function",
    "builtin_function_or_method",
    "instance",
    "_Feature"
   ],
   "window_display": false
  }
 },
 "nbformat": 4,
 "nbformat_minor": 2
}
