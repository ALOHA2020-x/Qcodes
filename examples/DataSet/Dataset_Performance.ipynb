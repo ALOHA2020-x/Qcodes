{
 "cells": [
  {
   "cell_type": "markdown",
   "metadata": {},
   "source": [
    "# DataSet Performance\n",
    "\n",
    "This notebook shows the trade-off between inserting data into a database row-by-row and as binary blobs. Inserting the data row-by-row means that we have direct access to all the data and may perform queries directly on the values of the data. On the other hand, as we shall see, this is much slower than inserting the data directly as binary blobs."
   ]
  },
  {
   "cell_type": "markdown",
   "metadata": {},
   "source": [
    "First, we choose a new location for the database to ensure that we don't add a bunch of benchmarking data to the default one."
   ]
  },
  {
   "cell_type": "code",
   "execution_count": 1,
   "metadata": {
    "execution": {
     "iopub.execute_input": "2020-10-26T22:25:19.018277Z",
     "iopub.status.busy": "2020-10-26T22:25:19.017645Z",
     "iopub.status.idle": "2020-10-26T22:25:20.108553Z",
     "shell.execute_reply": "2020-10-26T22:25:20.107746Z"
    }
   },
   "outputs": [
    {
     "name": "stdout",
     "output_type": "stream",
     "text": [
      "Logging hadn't been started.\n",
      "Activating auto-logging. Current session state plus future input saved.\n",
      "Filename       : /home/vsts/.qcodes/logs/command_history.log\n",
      "Mode           : append\n",
      "Output logging : True\n",
      "Raw input log  : False\n",
      "Timestamping   : True\n",
      "State          : active\n"
     ]
    },
    {
     "name": "stdout",
     "output_type": "stream",
     "text": [
      "Qcodes Logfile : /home/vsts/.qcodes/logs/201026-14575-qcodes.log\n"
     ]
    }
   ],
   "source": [
    "import os\n",
    "cwd = os.getcwd()\n",
    "import qcodes as qc\n",
    "qc.config[\"core\"][\"db_location\"] = os.path.join(cwd, 'testing.db')\n"
   ]
  },
  {
   "cell_type": "code",
   "execution_count": 2,
   "metadata": {
    "execution": {
     "iopub.execute_input": "2020-10-26T22:25:20.114984Z",
     "iopub.status.busy": "2020-10-26T22:25:20.114270Z",
     "iopub.status.idle": "2020-10-26T22:25:20.298431Z",
     "shell.execute_reply": "2020-10-26T22:25:20.297618Z"
    }
   },
   "outputs": [],
   "source": [
    "%matplotlib inline\n",
    "import time\n",
    "import matplotlib.pyplot as plt\n",
    "import numpy as np\n",
    "\n",
    "import qcodes as qc\n",
    "from qcodes.instrument.parameter import ManualParameter\n",
    "from qcodes.dataset.experiment_container import (Experiment,\n",
    "                                                 load_last_experiment,\n",
    "                                                 new_experiment)\n",
    "from qcodes.dataset.sqlite.database import initialise_database\n",
    "from qcodes import load_or_create_experiment\n",
    "from qcodes.dataset.measurements import Measurement"
   ]
  },
  {
   "cell_type": "code",
   "execution_count": 3,
   "metadata": {
    "execution": {
     "iopub.execute_input": "2020-10-26T22:25:20.302849Z",
     "iopub.status.busy": "2020-10-26T22:25:20.302166Z",
     "iopub.status.idle": "2020-10-26T22:25:20.401279Z",
     "shell.execute_reply": "2020-10-26T22:25:20.401839Z"
    }
   },
   "outputs": [
    {
     "name": "stdout",
     "output_type": "stream",
     "text": [
      "\r",
      "0it [00:00, ?it/s]"
     ]
    },
    {
     "name": "stdout",
     "output_type": "stream",
     "text": [
      "\r",
      "Upgrading database; v0 -> v1: : 0it [00:00, ?it/s]"
     ]
    },
    {
     "name": "stdout",
     "output_type": "stream",
     "text": [
      "\r",
      "Upgrading database; v0 -> v1: : 0it [00:00, ?it/s]"
     ]
    },
    {
     "name": "stdout",
     "output_type": "stream",
     "text": [
      "\n",
      "\r",
      "  0%|          | 0/1 [00:00<?, ?it/s]"
     ]
    },
    {
     "name": "stdout",
     "output_type": "stream",
     "text": [
      "\r",
      "Upgrading database; v1 -> v2:   0%|          | 0/1 [00:00<?, ?it/s]"
     ]
    },
    {
     "name": "stdout",
     "output_type": "stream",
     "text": [
      "\r",
      "Upgrading database; v1 -> v2: 100%|██████████| 1/1 [00:00<00:00, 451.19it/s]"
     ]
    },
    {
     "name": "stdout",
     "output_type": "stream",
     "text": [
      "\n",
      "\r",
      "0it [00:00, ?it/s]"
     ]
    },
    {
     "name": "stdout",
     "output_type": "stream",
     "text": [
      "\r",
      "Upgrading database; v2 -> v3: : 0it [00:00, ?it/s]"
     ]
    },
    {
     "name": "stdout",
     "output_type": "stream",
     "text": [
      "\r",
      "Upgrading database; v2 -> v3: : 0it [00:00, ?it/s]"
     ]
    },
    {
     "name": "stdout",
     "output_type": "stream",
     "text": [
      "\n",
      "\r",
      "0it [00:00, ?it/s]"
     ]
    },
    {
     "name": "stdout",
     "output_type": "stream",
     "text": [
      "\r",
      "Upgrading database; v3 -> v4: : 0it [00:00, ?it/s]"
     ]
    },
    {
     "name": "stdout",
     "output_type": "stream",
     "text": [
      "\r",
      "Upgrading database; v3 -> v4: : 0it [00:00, ?it/s]"
     ]
    },
    {
     "name": "stdout",
     "output_type": "stream",
     "text": [
      "\n",
      "\r",
      "  0%|          | 0/1 [00:00<?, ?it/s]"
     ]
    },
    {
     "name": "stdout",
     "output_type": "stream",
     "text": [
      "\r",
      "Upgrading database; v4 -> v5:   0%|          | 0/1 [00:00<?, ?it/s]"
     ]
    },
    {
     "name": "stdout",
     "output_type": "stream",
     "text": [
      "\r",
      "Upgrading database; v4 -> v5: 100%|██████████| 1/1 [00:00<00:00, 785.30it/s]"
     ]
    },
    {
     "name": "stdout",
     "output_type": "stream",
     "text": [
      "\n",
      "\r",
      "0it [00:00, ?it/s]"
     ]
    },
    {
     "name": "stdout",
     "output_type": "stream",
     "text": [
      "\r",
      "Upgrading database; v5 -> v6: : 0it [00:00, ?it/s]"
     ]
    },
    {
     "name": "stdout",
     "output_type": "stream",
     "text": [
      "\r",
      "Upgrading database; v5 -> v6: : 0it [00:00, ?it/s]"
     ]
    },
    {
     "name": "stdout",
     "output_type": "stream",
     "text": [
      "\n",
      "\r",
      "  0%|          | 0/1 [00:00<?, ?it/s]"
     ]
    },
    {
     "name": "stdout",
     "output_type": "stream",
     "text": [
      "\r",
      "Upgrading database; v6 -> v7:   0%|          | 0/1 [00:00<?, ?it/s]"
     ]
    },
    {
     "name": "stdout",
     "output_type": "stream",
     "text": [
      "\r",
      "Upgrading database; v6 -> v7: 100%|██████████| 1/1 [00:00<00:00, 333.84it/s]"
     ]
    },
    {
     "name": "stdout",
     "output_type": "stream",
     "text": [
      "\n",
      "\r",
      "  0%|          | 0/1 [00:00<?, ?it/s]"
     ]
    },
    {
     "name": "stdout",
     "output_type": "stream",
     "text": [
      "\r",
      "Upgrading database; v7 -> v8:   0%|          | 0/1 [00:00<?, ?it/s]"
     ]
    },
    {
     "name": "stdout",
     "output_type": "stream",
     "text": [
      "\r",
      "Upgrading database; v7 -> v8: 100%|██████████| 1/1 [00:00<00:00, 674.00it/s]"
     ]
    },
    {
     "name": "stdout",
     "output_type": "stream",
     "text": [
      "\n",
      "\r",
      "  0%|          | 0/1 [00:00<?, ?it/s]"
     ]
    },
    {
     "name": "stdout",
     "output_type": "stream",
     "text": [
      "\r",
      "Upgrading database; v8 -> v9:   0%|          | 0/1 [00:00<?, ?it/s]"
     ]
    },
    {
     "name": "stdout",
     "output_type": "stream",
     "text": [
      "\r",
      "Upgrading database; v8 -> v9: 100%|██████████| 1/1 [00:00<00:00, 960.89it/s]"
     ]
    },
    {
     "name": "stdout",
     "output_type": "stream",
     "text": [
      "\n"
     ]
    }
   ],
   "source": [
    "initialise_database()\n",
    "exp = load_or_create_experiment(experiment_name='tutorial_exp', sample_name=\"no sample\")"
   ]
  },
  {
   "cell_type": "markdown",
   "metadata": {},
   "source": [
    "Here, we define a simple function to benchmark the time it takes to insert n points with either numeric or array data type.\n",
    "We will compare both the time used to call ``add_result`` and the time used for the full measurement."
   ]
  },
  {
   "cell_type": "code",
   "execution_count": 4,
   "metadata": {
    "execution": {
     "iopub.execute_input": "2020-10-26T22:25:20.409725Z",
     "iopub.status.busy": "2020-10-26T22:25:20.408611Z",
     "iopub.status.idle": "2020-10-26T22:25:20.412964Z",
     "shell.execute_reply": "2020-10-26T22:25:20.412311Z"
    }
   },
   "outputs": [],
   "source": [
    "def insert_data(paramtype, npoints, nreps=1):\n",
    "\n",
    "    meas = Measurement(exp=exp)\n",
    "\n",
    "    x1 = ManualParameter('x1')\n",
    "    x2 = ManualParameter('x2')\n",
    "    x3 = ManualParameter('x3')\n",
    "    y1 = ManualParameter('y1')\n",
    "    y2 = ManualParameter('y2')\n",
    "\n",
    "    meas.register_parameter(x1, paramtype=paramtype)\n",
    "    meas.register_parameter(x2, paramtype=paramtype)\n",
    "    meas.register_parameter(x3, paramtype=paramtype)\n",
    "    meas.register_parameter(y1, setpoints=[x1, x2, x3],\n",
    "                            paramtype=paramtype)\n",
    "    meas.register_parameter(y2, setpoints=[x1, x2, x3],\n",
    "                            paramtype=paramtype)\n",
    "    start = time.perf_counter()\n",
    "    with meas.run() as datasaver:\n",
    "        start_adding = time.perf_counter()\n",
    "        for i in range(nreps):\n",
    "            datasaver.add_result((x1, np.random.rand(npoints)),\n",
    "                                 (x2, np.random.rand(npoints)),\n",
    "                                 (x3, np.random.rand(npoints)),\n",
    "                                 (y1, np.random.rand(npoints)),\n",
    "                                 (y2, np.random.rand(npoints)))\n",
    "        stop_adding = time.perf_counter()\n",
    "        run_id = datasaver.run_id\n",
    "    stop = time.perf_counter()\n",
    "    tot_time = stop - start\n",
    "    add_time = stop_adding - start_adding\n",
    "    return tot_time, add_time, run_id"
   ]
  },
  {
   "cell_type": "markdown",
   "metadata": {},
   "source": [
    "## Comparison between numeric/array data and binary blob"
   ]
  },
  {
   "cell_type": "markdown",
   "metadata": {},
   "source": [
    "### Case1: Short experiment time"
   ]
  },
  {
   "cell_type": "code",
   "execution_count": 5,
   "metadata": {
    "execution": {
     "iopub.execute_input": "2020-10-26T22:25:20.417907Z",
     "iopub.status.busy": "2020-10-26T22:25:20.417232Z",
     "iopub.status.idle": "2020-10-26T22:25:21.231987Z",
     "shell.execute_reply": "2020-10-26T22:25:21.232860Z"
    }
   },
   "outputs": [
    {
     "name": "stdout",
     "output_type": "stream",
     "text": [
      "Starting experimental run with id: 1. \n",
      "Starting experimental run with id: 2. \n",
      "Starting experimental run with id: 3. \n",
      "Starting experimental run with id: 4. \n",
      "Starting experimental run with id: 5. \n"
     ]
    },
    {
     "name": "stdout",
     "output_type": "stream",
     "text": [
      "Starting experimental run with id: 6. \n"
     ]
    },
    {
     "name": "stdout",
     "output_type": "stream",
     "text": [
      "Starting experimental run with id: 7. \n"
     ]
    },
    {
     "name": "stdout",
     "output_type": "stream",
     "text": [
      "Starting experimental run with id: 8. \n",
      "Starting experimental run with id: 9. \n"
     ]
    },
    {
     "name": "stdout",
     "output_type": "stream",
     "text": [
      "Starting experimental run with id: 10. \n",
      "Starting experimental run with id: 11. \n"
     ]
    },
    {
     "name": "stdout",
     "output_type": "stream",
     "text": [
      "Starting experimental run with id: 12. \n",
      "Starting experimental run with id: 13. \n"
     ]
    },
    {
     "name": "stdout",
     "output_type": "stream",
     "text": [
      "Starting experimental run with id: 14. \n"
     ]
    }
   ],
   "source": [
    "sizes = [1,500,1000,2000,3000,4000,5000]\n",
    "t_numeric = []\n",
    "t_numeric_add = []\n",
    "t_array = []\n",
    "t_array_add = []\n",
    "for size in sizes:\n",
    "    tn, tna, run_id_n =  insert_data('numeric', size)\n",
    "    t_numeric.append(tn)\n",
    "    t_numeric_add.append(tna)\n",
    "\n",
    "    ta, taa, run_id_a =  insert_data('array', size)\n",
    "    t_array.append(ta)\n",
    "    t_array_add.append(taa)"
   ]
  },
  {
   "cell_type": "code",
   "execution_count": 6,
   "metadata": {
    "execution": {
     "iopub.execute_input": "2020-10-26T22:25:21.251425Z",
     "iopub.status.busy": "2020-10-26T22:25:21.250784Z",
     "iopub.status.idle": "2020-10-26T22:25:21.474809Z",
     "shell.execute_reply": "2020-10-26T22:25:21.475587Z"
    }
   },
   "outputs": [
    {
     "data": {
      "image/png": "[encoded data removed]",
      "text/plain": [
       "<Figure size 432x288 with 1 Axes>"
      ]
     },
     "metadata": {
      "needs_background": "light"
     },
     "output_type": "display_data"
    }
   ],
   "source": [
    "fig, ax = plt.subplots(1,1)\n",
    "ax.plot(sizes, t_numeric, 'o-', label='Inserting row-by-row')\n",
    "ax.plot(sizes, t_numeric_add, 'o-', label='Inserting row-by-row: add_result only')\n",
    "ax.plot(sizes, t_array, 'd-', label='Inserting as binary blob')\n",
    "ax.plot(sizes, t_array_add, 'd-', label='Inserting as binary blob: add_result only')\n",
    "ax.legend()\n",
    "ax.set_xlabel('Array length')\n",
    "ax.set_ylabel('Time (s)')\n",
    "fig.tight_layout()"
   ]
  },
  {
   "cell_type": "markdown",
   "metadata": {},
   "source": [
    "As shown in the latter figure, the time to setup and and close the experiment is approximately 0.4 sec. In case of small array sizes, the difference between inserting values of data as arrays and inserting them row-by-row is relatively unimportant. At larger array sizes, i.e. above 10000 points, the cost of writing data as individual datapoints starts to become important.\n"
   ]
  },
  {
   "cell_type": "markdown",
   "metadata": {},
   "source": [
    "### Case2: Long experiment time "
   ]
  },
  {
   "cell_type": "code",
   "execution_count": 7,
   "metadata": {
    "execution": {
     "iopub.execute_input": "2020-10-26T22:25:21.482892Z",
     "iopub.status.busy": "2020-10-26T22:25:21.481939Z",
     "iopub.status.idle": "2020-10-26T22:26:19.616350Z",
     "shell.execute_reply": "2020-10-26T22:26:19.615672Z"
    }
   },
   "outputs": [
    {
     "name": "stdout",
     "output_type": "stream",
     "text": [
      "Starting experimental run with id: 15. \n",
      "Starting experimental run with id: 16. \n",
      "Starting experimental run with id: 17. \n"
     ]
    },
    {
     "name": "stdout",
     "output_type": "stream",
     "text": [
      "Starting experimental run with id: 18. \n",
      "Starting experimental run with id: 19. \n"
     ]
    },
    {
     "name": "stdout",
     "output_type": "stream",
     "text": [
      "Starting experimental run with id: 20. \n"
     ]
    },
    {
     "name": "stdout",
     "output_type": "stream",
     "text": [
      "Starting experimental run with id: 21. \n"
     ]
    },
    {
     "name": "stdout",
     "output_type": "stream",
     "text": [
      "Starting experimental run with id: 22. \n"
     ]
    },
    {
     "name": "stdout",
     "output_type": "stream",
     "text": [
      "Starting experimental run with id: 23. \n"
     ]
    },
    {
     "name": "stdout",
     "output_type": "stream",
     "text": [
      "Starting experimental run with id: 24. \n"
     ]
    },
    {
     "name": "stdout",
     "output_type": "stream",
     "text": [
      "Starting experimental run with id: 25. \n"
     ]
    },
    {
     "name": "stdout",
     "output_type": "stream",
     "text": [
      "Starting experimental run with id: 26. \n"
     ]
    },
    {
     "name": "stdout",
     "output_type": "stream",
     "text": [
      "Starting experimental run with id: 27. \n"
     ]
    },
    {
     "name": "stdout",
     "output_type": "stream",
     "text": [
      "Starting experimental run with id: 28. \n"
     ]
    }
   ],
   "source": [
    "sizes = [1,500,1000,2000,3000,4000,5000]\n",
    "nreps = 100\n",
    "t_numeric = []\n",
    "t_numeric_add = []\n",
    "t_numeric_run_ids = []\n",
    "t_array = []\n",
    "t_array_add = []\n",
    "t_array_run_ids = []\n",
    "for size in sizes:\n",
    "    tn, tna, run_id_n =  insert_data('numeric', size, nreps=nreps)\n",
    "    t_numeric.append(tn)\n",
    "    t_numeric_add.append(tna)\n",
    "    t_numeric_run_ids.append(run_id_n)\n",
    "\n",
    "    ta, taa, run_id_a =  insert_data('array', size, nreps=nreps)\n",
    "    t_array.append(ta)\n",
    "    t_array_add.append(taa)\n",
    "    t_array_run_ids.append(run_id_a)"
   ]
  },
  {
   "cell_type": "code",
   "execution_count": 8,
   "metadata": {
    "execution": {
     "iopub.execute_input": "2020-10-26T22:26:19.638854Z",
     "iopub.status.busy": "2020-10-26T22:26:19.636134Z",
     "iopub.status.idle": "2020-10-26T22:26:19.855788Z",
     "shell.execute_reply": "2020-10-26T22:26:19.856273Z"
    },
    "scrolled": true
   },
   "outputs": [
    {
     "data": {
      "image/png": "[encoded data removed]",
      "text/plain": [
       "<Figure size 432x288 with 1 Axes>"
      ]
     },
     "metadata": {
      "needs_background": "light"
     },
     "output_type": "display_data"
    }
   ],
   "source": [
    "fig, ax = plt.subplots(1,1)\n",
    "ax.plot(sizes, t_numeric, 'o-', label='Inserting row-by-row')\n",
    "ax.plot(sizes, t_numeric_add, 'o-', label='Inserting row-by-row: add_result only')\n",
    "ax.plot(sizes, t_array, 'd-', label='Inserting as binary blob')\n",
    "ax.plot(sizes, t_array_add, 'd-', label='Inserting as binary blob: add_result only')\n",
    "ax.legend()\n",
    "ax.set_xlabel('Array length')\n",
    "ax.set_ylabel('Time (s)')\n",
    "fig.tight_layout()"
   ]
  },
  {
   "cell_type": "markdown",
   "metadata": {},
   "source": [
    "However, as we increase the length of the experiment, as seen here by repeating the insertion 100 times, we see a big difference between inserting values of the data row-by-row and inserting it as a binary blob."
   ]
  },
  {
   "cell_type": "markdown",
   "metadata": {},
   "source": [
    "## Loading the data "
   ]
  },
  {
   "cell_type": "code",
   "execution_count": 9,
   "metadata": {
    "execution": {
     "iopub.execute_input": "2020-10-26T22:26:19.860807Z",
     "iopub.status.busy": "2020-10-26T22:26:19.859812Z",
     "iopub.status.idle": "2020-10-26T22:26:19.863473Z",
     "shell.execute_reply": "2020-10-26T22:26:19.862668Z"
    }
   },
   "outputs": [],
   "source": [
    "from qcodes.dataset.data_set import load_by_id\n",
    "from qcodes.dataset.data_export import get_data_by_id"
   ]
  },
  {
   "cell_type": "markdown",
   "metadata": {},
   "source": [
    "As usual you can load the data by using the ``load_by_id`` function but you will notice that the different storage methods\n",
    "are reflected in shape of the data as it is retrieved. "
   ]
  },
  {
   "cell_type": "code",
   "execution_count": 10,
   "metadata": {
    "execution": {
     "iopub.execute_input": "2020-10-26T22:26:19.868188Z",
     "iopub.status.busy": "2020-10-26T22:26:19.866718Z",
     "iopub.status.idle": "2020-10-26T22:26:19.868923Z",
     "shell.execute_reply": "2020-10-26T22:26:19.869365Z"
    }
   },
   "outputs": [],
   "source": [
    "run_id_n = t_numeric_run_ids[0]\n",
    "run_id_a = t_array_run_ids[0]"
   ]
  },
  {
   "cell_type": "code",
   "execution_count": 11,
   "metadata": {
    "execution": {
     "iopub.execute_input": "2020-10-26T22:26:19.872537Z",
     "iopub.status.busy": "2020-10-26T22:26:19.872005Z",
     "iopub.status.idle": "2020-10-26T22:26:19.883218Z",
     "shell.execute_reply": "2020-10-26T22:26:19.882454Z"
    },
    "scrolled": true
   },
   "outputs": [
    {
     "data": {
      "text/plain": [
       "{'x1': {'x1': array([0.15086782, 0.15086782, 0.75963122, 0.75963122, 0.52210215,\n",
       "         0.52210215, 0.57952299, 0.57952299, 0.11329516, 0.11329516,\n",
       "         0.85769613, 0.85769613, 0.06733153, 0.06733153, 0.64141043,\n",
       "         0.64141043, 0.41811799, 0.41811799, 0.46218228, 0.46218228,\n",
       "         0.83149577, 0.83149577, 0.559577  , 0.559577  , 0.69915203,\n",
       "         0.69915203, 0.66550046, 0.66550046, 0.80434875, 0.80434875,\n",
       "         0.18332806, 0.18332806, 0.18031434, 0.18031434, 0.29161282,\n",
       "         0.29161282, 0.31219421, 0.31219421, 0.08907022, 0.08907022,\n",
       "         0.40083909, 0.40083909, 0.43248966, 0.43248966, 0.00621071,\n",
       "         0.00621071, 0.72607999, 0.72607999, 0.5278913 , 0.5278913 ,\n",
       "         0.33449587, 0.33449587, 0.11700491, 0.11700491, 0.62335046,\n",
       "         0.62335046, 0.73041971, 0.73041971, 0.80700279, 0.80700279,\n",
       "         0.57663757, 0.57663757, 0.05458633, 0.05458633, 0.13819956,\n",
       "         0.13819956, 0.00476755, 0.00476755, 0.02249068, 0.02249068,\n",
       "         0.24166768, 0.24166768, 0.45972465, 0.45972465, 0.60524905,\n",
       "         0.60524905, 0.64717644, 0.64717644, 0.01457346, 0.01457346,\n",
       "         0.96196677, 0.96196677, 0.48524078, 0.48524078, 0.75040057,\n",
       "         0.75040057, 0.0475518 , 0.0475518 , 0.95917328, 0.95917328,\n",
       "         0.43003657, 0.43003657, 0.06082503, 0.06082503, 0.99669967,\n",
       "         0.99669967, 0.13820241, 0.13820241, 0.50528951, 0.50528951,\n",
       "         0.57213363, 0.57213363, 0.81185052, 0.81185052, 0.00747398,\n",
       "         0.00747398, 0.52216282, 0.52216282, 0.99882643, 0.99882643,\n",
       "         0.29528469, 0.29528469, 0.544347  , 0.544347  , 0.90430257,\n",
       "         0.90430257, 0.25127743, 0.25127743, 0.83458076, 0.83458076,\n",
       "         0.39688148, 0.39688148, 0.86037033, 0.86037033, 0.14560147,\n",
       "         0.14560147, 0.51416852, 0.51416852, 0.99498749, 0.99498749,\n",
       "         0.93144969, 0.93144969, 0.48827695, 0.48827695, 0.66753067,\n",
       "         0.66753067, 0.45515371, 0.45515371, 0.31742856, 0.31742856,\n",
       "         0.17523553, 0.17523553, 0.17353113, 0.17353113, 0.69814345,\n",
       "         0.69814345, 0.14910806, 0.14910806, 0.52693872, 0.52693872,\n",
       "         0.30353736, 0.30353736, 0.96545419, 0.96545419, 0.70878573,\n",
       "         0.70878573, 0.57142094, 0.57142094, 0.69212683, 0.69212683,\n",
       "         0.64952673, 0.64952673, 0.80890598, 0.80890598, 0.98227773,\n",
       "         0.98227773, 0.2859804 , 0.2859804 , 0.72792633, 0.72792633,\n",
       "         0.22241486, 0.22241486, 0.44467005, 0.44467005, 0.76482998,\n",
       "         0.76482998, 0.65861765, 0.65861765, 0.07764239, 0.07764239,\n",
       "         0.07806325, 0.07806325, 0.1617928 , 0.1617928 , 0.19883573,\n",
       "         0.19883573, 0.81009506, 0.81009506, 0.52033201, 0.52033201,\n",
       "         0.71905898, 0.71905898, 0.50290519, 0.50290519, 0.57249037,\n",
       "         0.57249037, 0.15432217, 0.15432217, 0.58773814, 0.58773814])}}"
      ]
     },
     "execution_count": 1,
     "metadata": {},
     "output_type": "execute_result"
    }
   ],
   "source": [
    "ds = load_by_id(run_id_n)\n",
    "ds.get_parameter_data('x1')"
   ]
  },
  {
   "cell_type": "markdown",
   "metadata": {},
   "source": [
    "And a dataset stored as binary arrays"
   ]
  },
  {
   "cell_type": "code",
   "execution_count": 12,
   "metadata": {
    "execution": {
     "iopub.execute_input": "2020-10-26T22:26:19.886746Z",
     "iopub.status.busy": "2020-10-26T22:26:19.885972Z",
     "iopub.status.idle": "2020-10-26T22:26:19.946841Z",
     "shell.execute_reply": "2020-10-26T22:26:19.946268Z"
    },
    "scrolled": true
   },
   "outputs": [
    {
     "data": {
      "text/plain": [
       "{'x1': {'x1': array([[0.8851128 ],\n",
       "         [0.8851128 ],\n",
       "         [0.48974376],\n",
       "         [0.48974376],\n",
       "         [0.05620971],\n",
       "         [0.05620971],\n",
       "         [0.68148381],\n",
       "         [0.68148381],\n",
       "         [0.19085356],\n",
       "         [0.19085356],\n",
       "         [0.06381781],\n",
       "         [0.06381781],\n",
       "         [0.26034485],\n",
       "         [0.26034485],\n",
       "         [0.75863312],\n",
       "         [0.75863312],\n",
       "         [0.36122116],\n",
       "         [0.36122116],\n",
       "         [0.57728975],\n",
       "         [0.57728975],\n",
       "         [0.72079577],\n",
       "         [0.72079577],\n",
       "         [0.80147123],\n",
       "         [0.80147123],\n",
       "         [0.36631492],\n",
       "         [0.36631492],\n",
       "         [0.72075944],\n",
       "         [0.72075944],\n",
       "         [0.37724419],\n",
       "         [0.37724419],\n",
       "         [0.32405621],\n",
       "         [0.32405621],\n",
       "         [0.93752726],\n",
       "         [0.93752726],\n",
       "         [0.57845367],\n",
       "         [0.57845367],\n",
       "         [0.10945547],\n",
       "         [0.10945547],\n",
       "         [0.55430068],\n",
       "         [0.55430068],\n",
       "         [0.60614552],\n",
       "         [0.60614552],\n",
       "         [0.0489622 ],\n",
       "         [0.0489622 ],\n",
       "         [0.05699979],\n",
       "         [0.05699979],\n",
       "         [0.80120338],\n",
       "         [0.80120338],\n",
       "         [0.20618041],\n",
       "         [0.20618041],\n",
       "         [0.99276671],\n",
       "         [0.99276671],\n",
       "         [0.769416  ],\n",
       "         [0.769416  ],\n",
       "         [0.37799003],\n",
       "         [0.37799003],\n",
       "         [0.89418782],\n",
       "         [0.89418782],\n",
       "         [0.76555061],\n",
       "         [0.76555061],\n",
       "         [0.47176122],\n",
       "         [0.47176122],\n",
       "         [0.80850937],\n",
       "         [0.80850937],\n",
       "         [0.51135898],\n",
       "         [0.51135898],\n",
       "         [0.6112778 ],\n",
       "         [0.6112778 ],\n",
       "         [0.81121229],\n",
       "         [0.81121229],\n",
       "         [0.62183313],\n",
       "         [0.62183313],\n",
       "         [0.592644  ],\n",
       "         [0.592644  ],\n",
       "         [0.91551202],\n",
       "         [0.91551202],\n",
       "         [0.12682293],\n",
       "         [0.12682293],\n",
       "         [0.06960296],\n",
       "         [0.06960296],\n",
       "         [0.51435057],\n",
       "         [0.51435057],\n",
       "         [0.10705758],\n",
       "         [0.10705758],\n",
       "         [0.01827672],\n",
       "         [0.01827672],\n",
       "         [0.41411892],\n",
       "         [0.41411892],\n",
       "         [0.42311041],\n",
       "         [0.42311041],\n",
       "         [0.2015084 ],\n",
       "         [0.2015084 ],\n",
       "         [0.76162704],\n",
       "         [0.76162704],\n",
       "         [0.36171315],\n",
       "         [0.36171315],\n",
       "         [0.9190528 ],\n",
       "         [0.9190528 ],\n",
       "         [0.42571646],\n",
       "         [0.42571646],\n",
       "         [0.99854552],\n",
       "         [0.99854552],\n",
       "         [0.14812365],\n",
       "         [0.14812365],\n",
       "         [0.59202565],\n",
       "         [0.59202565],\n",
       "         [0.96056245],\n",
       "         [0.96056245],\n",
       "         [0.83435704],\n",
       "         [0.83435704],\n",
       "         [0.03426174],\n",
       "         [0.03426174],\n",
       "         [0.07456929],\n",
       "         [0.07456929],\n",
       "         [0.76683006],\n",
       "         [0.76683006],\n",
       "         [0.83746586],\n",
       "         [0.83746586],\n",
       "         [0.88411503],\n",
       "         [0.88411503],\n",
       "         [0.74717508],\n",
       "         [0.74717508],\n",
       "         [0.85878867],\n",
       "         [0.85878867],\n",
       "         [0.6246637 ],\n",
       "         [0.6246637 ],\n",
       "         [0.7367436 ],\n",
       "         [0.7367436 ],\n",
       "         [0.7641719 ],\n",
       "         [0.7641719 ],\n",
       "         [0.14180825],\n",
       "         [0.14180825],\n",
       "         [0.93725175],\n",
       "         [0.93725175],\n",
       "         [0.63438327],\n",
       "         [0.63438327],\n",
       "         [0.23895146],\n",
       "         [0.23895146],\n",
       "         [0.69409613],\n",
       "         [0.69409613],\n",
       "         [0.5213907 ],\n",
       "         [0.5213907 ],\n",
       "         [0.83308286],\n",
       "         [0.83308286],\n",
       "         [0.36738286],\n",
       "         [0.36738286],\n",
       "         [0.91393103],\n",
       "         [0.91393103],\n",
       "         [0.74728622],\n",
       "         [0.74728622],\n",
       "         [0.05556196],\n",
       "         [0.05556196],\n",
       "         [0.83201871],\n",
       "         [0.83201871],\n",
       "         [0.84879613],\n",
       "         [0.84879613],\n",
       "         [0.63371489],\n",
       "         [0.63371489],\n",
       "         [0.48761194],\n",
       "         [0.48761194],\n",
       "         [0.5650395 ],\n",
       "         [0.5650395 ],\n",
       "         [0.287427  ],\n",
       "         [0.287427  ],\n",
       "         [0.46522108],\n",
       "         [0.46522108],\n",
       "         [0.88603943],\n",
       "         [0.88603943],\n",
       "         [0.96734626],\n",
       "         [0.96734626],\n",
       "         [0.67055847],\n",
       "         [0.67055847],\n",
       "         [0.37180077],\n",
       "         [0.37180077],\n",
       "         [0.58321281],\n",
       "         [0.58321281],\n",
       "         [0.83175035],\n",
       "         [0.83175035],\n",
       "         [0.81388256],\n",
       "         [0.81388256],\n",
       "         [0.42582604],\n",
       "         [0.42582604],\n",
       "         [0.02560886],\n",
       "         [0.02560886],\n",
       "         [0.74266761],\n",
       "         [0.74266761],\n",
       "         [0.72412732],\n",
       "         [0.72412732],\n",
       "         [0.39129138],\n",
       "         [0.39129138],\n",
       "         [0.09785487],\n",
       "         [0.09785487],\n",
       "         [0.30615082],\n",
       "         [0.30615082],\n",
       "         [0.59959049],\n",
       "         [0.59959049],\n",
       "         [0.27858436],\n",
       "         [0.27858436],\n",
       "         [0.88303956],\n",
       "         [0.88303956]])}}"
      ]
     },
     "execution_count": 1,
     "metadata": {},
     "output_type": "execute_result"
    }
   ],
   "source": [
    "ds = load_by_id(run_id_a)\n",
    "ds.get_parameter_data('x1')"
   ]
  },
  {
   "cell_type": "code",
   "execution_count": null,
   "metadata": {},
   "outputs": [],
   "source": []
  }
 ],
 "metadata": {
  "kernelspec": {
   "display_name": "Python 3",
   "language": "python",
   "name": "python3"
  },
  "language_info": {
   "codemirror_mode": {
    "name": "ipython",
    "version": 3
   },
   "file_extension": ".py",
   "mimetype": "text/x-python",
   "name": "python",
   "nbconvert_exporter": "python",
   "pygments_lexer": "ipython3",
   "version": "3.7.7"
  },
  "nbsphinx": {
   "timeout": 600
  },
  "toc": {
   "base_numbering": 1,
   "nav_menu": {},
   "number_sections": true,
   "sideBar": true,
   "skip_h1_title": false,
   "title_cell": "Table of Contents",
   "title_sidebar": "Contents",
   "toc_cell": false,
   "toc_position": {},
   "toc_section_display": true,
   "toc_window_display": false
  },
  "varInspector": {
   "cols": {
    "lenName": 16,
    "lenType": 16,
    "lenVar": 40
   },
   "kernels_config": {
    "python": {
     "delete_cmd_postfix": "",
     "delete_cmd_prefix": "del ",
     "library": "var_list.py",
     "varRefreshCmd": "print(var_dic_list())"
    },
    "r": {
     "delete_cmd_postfix": ") ",
     "delete_cmd_prefix": "rm(",
     "library": "var_list.r",
     "varRefreshCmd": "cat(var_dic_list()) "
    }
   },
   "types_to_exclude": [
    "module",
    "function",
    "builtin_function_or_method",
    "instance",
    "_Feature"
   ],
   "window_display": false
  }
 },
 "nbformat": 4,
 "nbformat_minor": 2
}
