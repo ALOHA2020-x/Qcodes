{
 "cells": [
  {
   "cell_type": "markdown",
   "metadata": {},
   "source": [
    "# DataSet Performance\n",
    "\n",
    "This notebook shows the trade-off between inserting data into a database row-by-row and as binary blobs. Inserting the data row-by-row means that we have direct access to all the data and may perform queries directly on the values of the data. On the other hand, as we shall see, this is much slower than inserting the data directly as binary blobs."
   ]
  },
  {
   "cell_type": "markdown",
   "metadata": {},
   "source": [
    "First, we choose a new location for the database to ensure that we don't add a bunch of benchmarking data to the default one."
   ]
  },
  {
   "cell_type": "code",
   "execution_count": 1,
   "metadata": {
    "execution": {
     "iopub.execute_input": "2020-11-02T16:32:23.176016Z",
     "iopub.status.busy": "2020-11-02T16:32:23.175390Z",
     "iopub.status.idle": "2020-11-02T16:32:24.243348Z",
     "shell.execute_reply": "2020-11-02T16:32:24.242684Z"
    }
   },
   "outputs": [
    {
     "name": "stdout",
     "output_type": "stream",
     "text": [
      "Logging hadn't been started.\n",
      "Activating auto-logging. Current session state plus future input saved.\n",
      "Filename       : /home/vsts/.qcodes/logs/command_history.log\n",
      "Mode           : append\n",
      "Output logging : True\n",
      "Raw input log  : False\n",
      "Timestamping   : True\n",
      "State          : active\n"
     ]
    },
    {
     "name": "stdout",
     "output_type": "stream",
     "text": [
      "Qcodes Logfile : /home/vsts/.qcodes/logs/201102-14370-qcodes.log\n"
     ]
    }
   ],
   "source": [
    "import os\n",
    "cwd = os.getcwd()\n",
    "import qcodes as qc\n",
    "qc.config[\"core\"][\"db_location\"] = os.path.join(cwd, 'testing.db')\n"
   ]
  },
  {
   "cell_type": "code",
   "execution_count": 2,
   "metadata": {
    "execution": {
     "iopub.execute_input": "2020-11-02T16:32:24.249374Z",
     "iopub.status.busy": "2020-11-02T16:32:24.248365Z",
     "iopub.status.idle": "2020-11-02T16:32:24.445723Z",
     "shell.execute_reply": "2020-11-02T16:32:24.446295Z"
    }
   },
   "outputs": [],
   "source": [
    "%matplotlib inline\n",
    "import time\n",
    "import matplotlib.pyplot as plt\n",
    "import numpy as np\n",
    "\n",
    "import qcodes as qc\n",
    "from qcodes.instrument.parameter import ManualParameter\n",
    "from qcodes.dataset.experiment_container import (Experiment,\n",
    "                                                 load_last_experiment,\n",
    "                                                 new_experiment)\n",
    "from qcodes.dataset.sqlite.database import initialise_database\n",
    "from qcodes import load_or_create_experiment\n",
    "from qcodes.dataset.measurements import Measurement"
   ]
  },
  {
   "cell_type": "code",
   "execution_count": 3,
   "metadata": {
    "execution": {
     "iopub.execute_input": "2020-11-02T16:32:24.450718Z",
     "iopub.status.busy": "2020-11-02T16:32:24.449902Z",
     "iopub.status.idle": "2020-11-02T16:32:24.561824Z",
     "shell.execute_reply": "2020-11-02T16:32:24.560989Z"
    }
   },
   "outputs": [
    {
     "name": "stdout",
     "output_type": "stream",
     "text": [
      "\r",
      "0it [00:00, ?it/s]"
     ]
    },
    {
     "name": "stdout",
     "output_type": "stream",
     "text": [
      "\r",
      "Upgrading database; v0 -> v1: : 0it [00:00, ?it/s]"
     ]
    },
    {
     "name": "stdout",
     "output_type": "stream",
     "text": [
      "\r",
      "Upgrading database; v0 -> v1: : 0it [00:00, ?it/s]"
     ]
    },
    {
     "name": "stdout",
     "output_type": "stream",
     "text": [
      "\n",
      "\r",
      "  0%|          | 0/1 [00:00<?, ?it/s]"
     ]
    },
    {
     "name": "stdout",
     "output_type": "stream",
     "text": [
      "\r",
      "Upgrading database; v1 -> v2:   0%|          | 0/1 [00:00<?, ?it/s]"
     ]
    },
    {
     "name": "stdout",
     "output_type": "stream",
     "text": [
      "\r",
      "Upgrading database; v1 -> v2: 100%|██████████| 1/1 [00:00<00:00, 590.25it/s]"
     ]
    },
    {
     "name": "stdout",
     "output_type": "stream",
     "text": [
      "\n",
      "\r",
      "0it [00:00, ?it/s]"
     ]
    },
    {
     "name": "stdout",
     "output_type": "stream",
     "text": [
      "\r",
      "Upgrading database; v2 -> v3: : 0it [00:00, ?it/s]"
     ]
    },
    {
     "name": "stdout",
     "output_type": "stream",
     "text": [
      "\r",
      "Upgrading database; v2 -> v3: : 0it [00:00, ?it/s]"
     ]
    },
    {
     "name": "stdout",
     "output_type": "stream",
     "text": [
      "\n",
      "\r",
      "0it [00:00, ?it/s]"
     ]
    },
    {
     "name": "stdout",
     "output_type": "stream",
     "text": [
      "\r",
      "Upgrading database; v3 -> v4: : 0it [00:00, ?it/s]"
     ]
    },
    {
     "name": "stdout",
     "output_type": "stream",
     "text": [
      "\r",
      "Upgrading database; v3 -> v4: : 0it [00:00, ?it/s]"
     ]
    },
    {
     "name": "stdout",
     "output_type": "stream",
     "text": [
      "\n",
      "\r",
      "  0%|          | 0/1 [00:00<?, ?it/s]"
     ]
    },
    {
     "name": "stdout",
     "output_type": "stream",
     "text": [
      "\r",
      "Upgrading database; v4 -> v5:   0%|          | 0/1 [00:00<?, ?it/s]"
     ]
    },
    {
     "name": "stdout",
     "output_type": "stream",
     "text": [
      "\r",
      "Upgrading database; v4 -> v5: 100%|██████████| 1/1 [00:00<00:00, 504.67it/s]"
     ]
    },
    {
     "name": "stdout",
     "output_type": "stream",
     "text": [
      "\n",
      "\r",
      "0it [00:00, ?it/s]"
     ]
    },
    {
     "name": "stdout",
     "output_type": "stream",
     "text": [
      "\r",
      "Upgrading database; v5 -> v6: : 0it [00:00, ?it/s]"
     ]
    },
    {
     "name": "stdout",
     "output_type": "stream",
     "text": [
      "\r",
      "Upgrading database; v5 -> v6: : 0it [00:00, ?it/s]"
     ]
    },
    {
     "name": "stdout",
     "output_type": "stream",
     "text": [
      "\n",
      "\r",
      "  0%|          | 0/1 [00:00<?, ?it/s]"
     ]
    },
    {
     "name": "stdout",
     "output_type": "stream",
     "text": [
      "\r",
      "Upgrading database; v6 -> v7:   0%|          | 0/1 [00:00<?, ?it/s]"
     ]
    },
    {
     "name": "stdout",
     "output_type": "stream",
     "text": [
      "\r",
      "Upgrading database; v6 -> v7: 100%|██████████| 1/1 [00:00<00:00, 292.33it/s]"
     ]
    },
    {
     "name": "stdout",
     "output_type": "stream",
     "text": [
      "\n",
      "\r",
      "  0%|          | 0/1 [00:00<?, ?it/s]"
     ]
    },
    {
     "name": "stdout",
     "output_type": "stream",
     "text": [
      "\r",
      "Upgrading database; v7 -> v8:   0%|          | 0/1 [00:00<?, ?it/s]"
     ]
    },
    {
     "name": "stdout",
     "output_type": "stream",
     "text": [
      "\r",
      "Upgrading database; v7 -> v8: 100%|██████████| 1/1 [00:00<00:00, 399.27it/s]"
     ]
    },
    {
     "name": "stdout",
     "output_type": "stream",
     "text": [
      "\n",
      "\r",
      "  0%|          | 0/1 [00:00<?, ?it/s]"
     ]
    },
    {
     "name": "stdout",
     "output_type": "stream",
     "text": [
      "\r",
      "Upgrading database; v8 -> v9:   0%|          | 0/1 [00:00<?, ?it/s]"
     ]
    },
    {
     "name": "stdout",
     "output_type": "stream",
     "text": [
      "\r",
      "Upgrading database; v8 -> v9: 100%|██████████| 1/1 [00:00<00:00, 409.48it/s]"
     ]
    },
    {
     "name": "stdout",
     "output_type": "stream",
     "text": [
      "\n"
     ]
    }
   ],
   "source": [
    "initialise_database()\n",
    "exp = load_or_create_experiment(experiment_name='tutorial_exp', sample_name=\"no sample\")"
   ]
  },
  {
   "cell_type": "markdown",
   "metadata": {},
   "source": [
    "Here, we define a simple function to benchmark the time it takes to insert n points with either numeric or array data type.\n",
    "We will compare both the time used to call ``add_result`` and the time used for the full measurement."
   ]
  },
  {
   "cell_type": "code",
   "execution_count": 4,
   "metadata": {
    "execution": {
     "iopub.execute_input": "2020-11-02T16:32:24.571589Z",
     "iopub.status.busy": "2020-11-02T16:32:24.570964Z",
     "iopub.status.idle": "2020-11-02T16:32:24.574790Z",
     "shell.execute_reply": "2020-11-02T16:32:24.574252Z"
    }
   },
   "outputs": [],
   "source": [
    "def insert_data(paramtype, npoints, nreps=1):\n",
    "\n",
    "    meas = Measurement(exp=exp)\n",
    "\n",
    "    x1 = ManualParameter('x1')\n",
    "    x2 = ManualParameter('x2')\n",
    "    x3 = ManualParameter('x3')\n",
    "    y1 = ManualParameter('y1')\n",
    "    y2 = ManualParameter('y2')\n",
    "\n",
    "    meas.register_parameter(x1, paramtype=paramtype)\n",
    "    meas.register_parameter(x2, paramtype=paramtype)\n",
    "    meas.register_parameter(x3, paramtype=paramtype)\n",
    "    meas.register_parameter(y1, setpoints=[x1, x2, x3],\n",
    "                            paramtype=paramtype)\n",
    "    meas.register_parameter(y2, setpoints=[x1, x2, x3],\n",
    "                            paramtype=paramtype)\n",
    "    start = time.perf_counter()\n",
    "    with meas.run() as datasaver:\n",
    "        start_adding = time.perf_counter()\n",
    "        for i in range(nreps):\n",
    "            datasaver.add_result((x1, np.random.rand(npoints)),\n",
    "                                 (x2, np.random.rand(npoints)),\n",
    "                                 (x3, np.random.rand(npoints)),\n",
    "                                 (y1, np.random.rand(npoints)),\n",
    "                                 (y2, np.random.rand(npoints)))\n",
    "        stop_adding = time.perf_counter()\n",
    "        run_id = datasaver.run_id\n",
    "    stop = time.perf_counter()\n",
    "    tot_time = stop - start\n",
    "    add_time = stop_adding - start_adding\n",
    "    return tot_time, add_time, run_id"
   ]
  },
  {
   "cell_type": "markdown",
   "metadata": {},
   "source": [
    "## Comparison between numeric/array data and binary blob"
   ]
  },
  {
   "cell_type": "markdown",
   "metadata": {},
   "source": [
    "### Case1: Short experiment time"
   ]
  },
  {
   "cell_type": "code",
   "execution_count": 5,
   "metadata": {
    "execution": {
     "iopub.execute_input": "2020-11-02T16:32:24.581138Z",
     "iopub.status.busy": "2020-11-02T16:32:24.580511Z",
     "iopub.status.idle": "2020-11-02T16:32:25.415951Z",
     "shell.execute_reply": "2020-11-02T16:32:25.415392Z"
    }
   },
   "outputs": [
    {
     "name": "stdout",
     "output_type": "stream",
     "text": [
      "Starting experimental run with id: 1. \n",
      "Starting experimental run with id: 2. \n",
      "Starting experimental run with id: 3. \n",
      "Starting experimental run with id: 4. \n",
      "Starting experimental run with id: 5. \n"
     ]
    },
    {
     "name": "stdout",
     "output_type": "stream",
     "text": [
      "Starting experimental run with id: 6. \n"
     ]
    },
    {
     "name": "stdout",
     "output_type": "stream",
     "text": [
      "Starting experimental run with id: 7. \n"
     ]
    },
    {
     "name": "stdout",
     "output_type": "stream",
     "text": [
      "Starting experimental run with id: 8. \n",
      "Starting experimental run with id: 9. \n"
     ]
    },
    {
     "name": "stdout",
     "output_type": "stream",
     "text": [
      "Starting experimental run with id: 10. \n",
      "Starting experimental run with id: 11. \n"
     ]
    },
    {
     "name": "stdout",
     "output_type": "stream",
     "text": [
      "Starting experimental run with id: 12. \n",
      "Starting experimental run with id: 13. \n"
     ]
    },
    {
     "name": "stdout",
     "output_type": "stream",
     "text": [
      "Starting experimental run with id: 14. \n"
     ]
    }
   ],
   "source": [
    "sizes = [1,500,1000,2000,3000,4000,5000]\n",
    "t_numeric = []\n",
    "t_numeric_add = []\n",
    "t_array = []\n",
    "t_array_add = []\n",
    "for size in sizes:\n",
    "    tn, tna, run_id_n =  insert_data('numeric', size)\n",
    "    t_numeric.append(tn)\n",
    "    t_numeric_add.append(tna)\n",
    "\n",
    "    ta, taa, run_id_a =  insert_data('array', size)\n",
    "    t_array.append(ta)\n",
    "    t_array_add.append(taa)"
   ]
  },
  {
   "cell_type": "code",
   "execution_count": 6,
   "metadata": {
    "execution": {
     "iopub.execute_input": "2020-11-02T16:32:25.446802Z",
     "iopub.status.busy": "2020-11-02T16:32:25.442043Z",
     "iopub.status.idle": "2020-11-02T16:32:25.632942Z",
     "shell.execute_reply": "2020-11-02T16:32:25.633460Z"
    }
   },
   "outputs": [
    {
     "data": {
      "image/png": "[encoded data removed]",
      "text/plain": [
       "<Figure size 432x288 with 1 Axes>"
      ]
     },
     "metadata": {
      "needs_background": "light"
     },
     "output_type": "display_data"
    }
   ],
   "source": [
    "fig, ax = plt.subplots(1,1)\n",
    "ax.plot(sizes, t_numeric, 'o-', label='Inserting row-by-row')\n",
    "ax.plot(sizes, t_numeric_add, 'o-', label='Inserting row-by-row: add_result only')\n",
    "ax.plot(sizes, t_array, 'd-', label='Inserting as binary blob')\n",
    "ax.plot(sizes, t_array_add, 'd-', label='Inserting as binary blob: add_result only')\n",
    "ax.legend()\n",
    "ax.set_xlabel('Array length')\n",
    "ax.set_ylabel('Time (s)')\n",
    "fig.tight_layout()"
   ]
  },
  {
   "cell_type": "markdown",
   "metadata": {},
   "source": [
    "As shown in the latter figure, the time to setup and and close the experiment is approximately 0.4 sec. In case of small array sizes, the difference between inserting values of data as arrays and inserting them row-by-row is relatively unimportant. At larger array sizes, i.e. above 10000 points, the cost of writing data as individual datapoints starts to become important.\n"
   ]
  },
  {
   "cell_type": "markdown",
   "metadata": {},
   "source": [
    "### Case2: Long experiment time "
   ]
  },
  {
   "cell_type": "code",
   "execution_count": 7,
   "metadata": {
    "execution": {
     "iopub.execute_input": "2020-11-02T16:32:25.638401Z",
     "iopub.status.busy": "2020-11-02T16:32:25.635959Z",
     "iopub.status.idle": "2020-11-02T16:33:26.325750Z",
     "shell.execute_reply": "2020-11-02T16:33:26.326253Z"
    }
   },
   "outputs": [
    {
     "name": "stdout",
     "output_type": "stream",
     "text": [
      "Starting experimental run with id: 15. \n",
      "Starting experimental run with id: 16. \n",
      "Starting experimental run with id: 17. \n"
     ]
    },
    {
     "name": "stdout",
     "output_type": "stream",
     "text": [
      "Starting experimental run with id: 18. \n",
      "Starting experimental run with id: 19. \n"
     ]
    },
    {
     "name": "stdout",
     "output_type": "stream",
     "text": [
      "Starting experimental run with id: 20. \n"
     ]
    },
    {
     "name": "stdout",
     "output_type": "stream",
     "text": [
      "Starting experimental run with id: 21. \n"
     ]
    },
    {
     "name": "stdout",
     "output_type": "stream",
     "text": [
      "Starting experimental run with id: 22. \n"
     ]
    },
    {
     "name": "stdout",
     "output_type": "stream",
     "text": [
      "Starting experimental run with id: 23. \n"
     ]
    },
    {
     "name": "stdout",
     "output_type": "stream",
     "text": [
      "Starting experimental run with id: 24. \n"
     ]
    },
    {
     "name": "stdout",
     "output_type": "stream",
     "text": [
      "Starting experimental run with id: 25. \n"
     ]
    },
    {
     "name": "stdout",
     "output_type": "stream",
     "text": [
      "Starting experimental run with id: 26. \n"
     ]
    },
    {
     "name": "stdout",
     "output_type": "stream",
     "text": [
      "Starting experimental run with id: 27. \n"
     ]
    },
    {
     "name": "stdout",
     "output_type": "stream",
     "text": [
      "Starting experimental run with id: 28. \n"
     ]
    }
   ],
   "source": [
    "sizes = [1,500,1000,2000,3000,4000,5000]\n",
    "nreps = 100\n",
    "t_numeric = []\n",
    "t_numeric_add = []\n",
    "t_numeric_run_ids = []\n",
    "t_array = []\n",
    "t_array_add = []\n",
    "t_array_run_ids = []\n",
    "for size in sizes:\n",
    "    tn, tna, run_id_n =  insert_data('numeric', size, nreps=nreps)\n",
    "    t_numeric.append(tn)\n",
    "    t_numeric_add.append(tna)\n",
    "    t_numeric_run_ids.append(run_id_n)\n",
    "\n",
    "    ta, taa, run_id_a =  insert_data('array', size, nreps=nreps)\n",
    "    t_array.append(ta)\n",
    "    t_array_add.append(taa)\n",
    "    t_array_run_ids.append(run_id_a)"
   ]
  },
  {
   "cell_type": "code",
   "execution_count": 8,
   "metadata": {
    "execution": {
     "iopub.execute_input": "2020-11-02T16:33:26.346591Z",
     "iopub.status.busy": "2020-11-02T16:33:26.344199Z",
     "iopub.status.idle": "2020-11-02T16:33:26.549446Z",
     "shell.execute_reply": "2020-11-02T16:33:26.549996Z"
    },
    "scrolled": true
   },
   "outputs": [
    {
     "data": {
      "image/png": "[encoded data removed]",
      "text/plain": [
       "<Figure size 432x288 with 1 Axes>"
      ]
     },
     "metadata": {
      "needs_background": "light"
     },
     "output_type": "display_data"
    }
   ],
   "source": [
    "fig, ax = plt.subplots(1,1)\n",
    "ax.plot(sizes, t_numeric, 'o-', label='Inserting row-by-row')\n",
    "ax.plot(sizes, t_numeric_add, 'o-', label='Inserting row-by-row: add_result only')\n",
    "ax.plot(sizes, t_array, 'd-', label='Inserting as binary blob')\n",
    "ax.plot(sizes, t_array_add, 'd-', label='Inserting as binary blob: add_result only')\n",
    "ax.legend()\n",
    "ax.set_xlabel('Array length')\n",
    "ax.set_ylabel('Time (s)')\n",
    "fig.tight_layout()"
   ]
  },
  {
   "cell_type": "markdown",
   "metadata": {},
   "source": [
    "However, as we increase the length of the experiment, as seen here by repeating the insertion 100 times, we see a big difference between inserting values of the data row-by-row and inserting it as a binary blob."
   ]
  },
  {
   "cell_type": "markdown",
   "metadata": {},
   "source": [
    "## Loading the data "
   ]
  },
  {
   "cell_type": "code",
   "execution_count": 9,
   "metadata": {
    "execution": {
     "iopub.execute_input": "2020-11-02T16:33:26.555426Z",
     "iopub.status.busy": "2020-11-02T16:33:26.554146Z",
     "iopub.status.idle": "2020-11-02T16:33:26.558038Z",
     "shell.execute_reply": "2020-11-02T16:33:26.558548Z"
    }
   },
   "outputs": [],
   "source": [
    "from qcodes.dataset.data_set import load_by_id\n",
    "from qcodes.dataset.data_export import get_data_by_id"
   ]
  },
  {
   "cell_type": "markdown",
   "metadata": {},
   "source": [
    "As usual you can load the data by using the ``load_by_id`` function but you will notice that the different storage methods\n",
    "are reflected in shape of the data as it is retrieved. "
   ]
  },
  {
   "cell_type": "code",
   "execution_count": 10,
   "metadata": {
    "execution": {
     "iopub.execute_input": "2020-11-02T16:33:26.562387Z",
     "iopub.status.busy": "2020-11-02T16:33:26.561730Z",
     "iopub.status.idle": "2020-11-02T16:33:26.563848Z",
     "shell.execute_reply": "2020-11-02T16:33:26.564392Z"
    }
   },
   "outputs": [],
   "source": [
    "run_id_n = t_numeric_run_ids[0]\n",
    "run_id_a = t_array_run_ids[0]"
   ]
  },
  {
   "cell_type": "code",
   "execution_count": 11,
   "metadata": {
    "execution": {
     "iopub.execute_input": "2020-11-02T16:33:26.567715Z",
     "iopub.status.busy": "2020-11-02T16:33:26.567092Z",
     "iopub.status.idle": "2020-11-02T16:33:26.576537Z",
     "shell.execute_reply": "2020-11-02T16:33:26.577125Z"
    },
    "scrolled": true
   },
   "outputs": [
    {
     "data": {
      "text/plain": [
       "{'x1': {'x1': array([0.64251209, 0.64251209, 0.90777299, 0.90777299, 0.80500849,\n",
       "         0.80500849, 0.36300226, 0.36300226, 0.09487198, 0.09487198,\n",
       "         0.07054805, 0.07054805, 0.74696235, 0.74696235, 0.57398472,\n",
       "         0.57398472, 0.88981153, 0.88981153, 0.57214567, 0.57214567,\n",
       "         0.39099425, 0.39099425, 0.35398918, 0.35398918, 0.64693263,\n",
       "         0.64693263, 0.45794911, 0.45794911, 0.79937996, 0.79937996,\n",
       "         0.79781751, 0.79781751, 0.75092692, 0.75092692, 0.52331992,\n",
       "         0.52331992, 0.54554757, 0.54554757, 0.01343709, 0.01343709,\n",
       "         0.62531486, 0.62531486, 0.38118741, 0.38118741, 0.78172171,\n",
       "         0.78172171, 0.76614417, 0.76614417, 0.07731879, 0.07731879,\n",
       "         0.71850782, 0.71850782, 0.65933445, 0.65933445, 0.20381718,\n",
       "         0.20381718, 0.71113512, 0.71113512, 0.00699558, 0.00699558,\n",
       "         0.42848449, 0.42848449, 0.30314858, 0.30314858, 0.54963618,\n",
       "         0.54963618, 0.19547465, 0.19547465, 0.72382478, 0.72382478,\n",
       "         0.39424188, 0.39424188, 0.19835377, 0.19835377, 0.71354891,\n",
       "         0.71354891, 0.61922854, 0.61922854, 0.54409499, 0.54409499,\n",
       "         0.56502576, 0.56502576, 0.60221446, 0.60221446, 0.24466983,\n",
       "         0.24466983, 0.8843612 , 0.8843612 , 0.13474155, 0.13474155,\n",
       "         0.95482902, 0.95482902, 0.3082853 , 0.3082853 , 0.90441448,\n",
       "         0.90441448, 0.91724343, 0.91724343, 0.34916608, 0.34916608,\n",
       "         0.41478791, 0.41478791, 0.83346703, 0.83346703, 0.48472581,\n",
       "         0.48472581, 0.68691712, 0.68691712, 0.88613684, 0.88613684,\n",
       "         0.97794476, 0.97794476, 0.74514751, 0.74514751, 0.46273961,\n",
       "         0.46273961, 0.22422911, 0.22422911, 0.18083815, 0.18083815,\n",
       "         0.00602366, 0.00602366, 0.25594498, 0.25594498, 0.4346977 ,\n",
       "         0.4346977 , 0.00248473, 0.00248473, 0.08840314, 0.08840314,\n",
       "         0.52158241, 0.52158241, 0.83362075, 0.83362075, 0.48526389,\n",
       "         0.48526389, 0.38730973, 0.38730973, 0.51790952, 0.51790952,\n",
       "         0.4353442 , 0.4353442 , 0.44682994, 0.44682994, 0.91785629,\n",
       "         0.91785629, 0.95644396, 0.95644396, 0.205314  , 0.205314  ,\n",
       "         0.50154475, 0.50154475, 0.53972064, 0.53972064, 0.28655683,\n",
       "         0.28655683, 0.85859422, 0.85859422, 0.41714751, 0.41714751,\n",
       "         0.47016982, 0.47016982, 0.25270715, 0.25270715, 0.42896115,\n",
       "         0.42896115, 0.92635902, 0.92635902, 0.30377044, 0.30377044,\n",
       "         0.51924742, 0.51924742, 0.18475973, 0.18475973, 0.69218775,\n",
       "         0.69218775, 0.88125692, 0.88125692, 0.94661605, 0.94661605,\n",
       "         0.15140553, 0.15140553, 0.98756986, 0.98756986, 0.89802502,\n",
       "         0.89802502, 0.73198219, 0.73198219, 0.59658584, 0.59658584,\n",
       "         0.80212534, 0.80212534, 0.85483255, 0.85483255, 0.24482234,\n",
       "         0.24482234, 0.44347962, 0.44347962, 0.83891877, 0.83891877])}}"
      ]
     },
     "execution_count": 1,
     "metadata": {},
     "output_type": "execute_result"
    }
   ],
   "source": [
    "ds = load_by_id(run_id_n)\n",
    "ds.get_parameter_data('x1')"
   ]
  },
  {
   "cell_type": "markdown",
   "metadata": {},
   "source": [
    "And a dataset stored as binary arrays"
   ]
  },
  {
   "cell_type": "code",
   "execution_count": 12,
   "metadata": {
    "execution": {
     "iopub.execute_input": "2020-11-02T16:33:26.579720Z",
     "iopub.status.busy": "2020-11-02T16:33:26.579128Z",
     "iopub.status.idle": "2020-11-02T16:33:26.644101Z",
     "shell.execute_reply": "2020-11-02T16:33:26.643574Z"
    },
    "scrolled": true
   },
   "outputs": [
    {
     "data": {
      "text/plain": [
       "{'x1': {'x1': array([[0.08226239],\n",
       "         [0.08226239],\n",
       "         [0.75085705],\n",
       "         [0.75085705],\n",
       "         [0.94041028],\n",
       "         [0.94041028],\n",
       "         [0.08472406],\n",
       "         [0.08472406],\n",
       "         [0.04147334],\n",
       "         [0.04147334],\n",
       "         [0.42190256],\n",
       "         [0.42190256],\n",
       "         [0.10153299],\n",
       "         [0.10153299],\n",
       "         [0.99707084],\n",
       "         [0.99707084],\n",
       "         [0.65968206],\n",
       "         [0.65968206],\n",
       "         [0.75331112],\n",
       "         [0.75331112],\n",
       "         [0.63304714],\n",
       "         [0.63304714],\n",
       "         [0.19310267],\n",
       "         [0.19310267],\n",
       "         [0.5015051 ],\n",
       "         [0.5015051 ],\n",
       "         [0.96093522],\n",
       "         [0.96093522],\n",
       "         [0.51873356],\n",
       "         [0.51873356],\n",
       "         [0.51386148],\n",
       "         [0.51386148],\n",
       "         [0.3691367 ],\n",
       "         [0.3691367 ],\n",
       "         [0.86248416],\n",
       "         [0.86248416],\n",
       "         [0.33398442],\n",
       "         [0.33398442],\n",
       "         [0.72506051],\n",
       "         [0.72506051],\n",
       "         [0.27349783],\n",
       "         [0.27349783],\n",
       "         [0.81607903],\n",
       "         [0.81607903],\n",
       "         [0.83577669],\n",
       "         [0.83577669],\n",
       "         [0.01208136],\n",
       "         [0.01208136],\n",
       "         [0.60493188],\n",
       "         [0.60493188],\n",
       "         [0.88622541],\n",
       "         [0.88622541],\n",
       "         [0.06706725],\n",
       "         [0.06706725],\n",
       "         [0.67329565],\n",
       "         [0.67329565],\n",
       "         [0.91836932],\n",
       "         [0.91836932],\n",
       "         [0.16104839],\n",
       "         [0.16104839],\n",
       "         [0.94152085],\n",
       "         [0.94152085],\n",
       "         [0.74302248],\n",
       "         [0.74302248],\n",
       "         [0.27215653],\n",
       "         [0.27215653],\n",
       "         [0.52688955],\n",
       "         [0.52688955],\n",
       "         [0.88446921],\n",
       "         [0.88446921],\n",
       "         [0.50551872],\n",
       "         [0.50551872],\n",
       "         [0.94334377],\n",
       "         [0.94334377],\n",
       "         [0.88515927],\n",
       "         [0.88515927],\n",
       "         [0.16189172],\n",
       "         [0.16189172],\n",
       "         [0.43524071],\n",
       "         [0.43524071],\n",
       "         [0.45660655],\n",
       "         [0.45660655],\n",
       "         [0.29262351],\n",
       "         [0.29262351],\n",
       "         [0.88689182],\n",
       "         [0.88689182],\n",
       "         [0.11589545],\n",
       "         [0.11589545],\n",
       "         [0.64377584],\n",
       "         [0.64377584],\n",
       "         [0.25939641],\n",
       "         [0.25939641],\n",
       "         [0.5201516 ],\n",
       "         [0.5201516 ],\n",
       "         [0.9149117 ],\n",
       "         [0.9149117 ],\n",
       "         [0.52862237],\n",
       "         [0.52862237],\n",
       "         [0.47655832],\n",
       "         [0.47655832],\n",
       "         [0.35704228],\n",
       "         [0.35704228],\n",
       "         [0.46833801],\n",
       "         [0.46833801],\n",
       "         [0.32993525],\n",
       "         [0.32993525],\n",
       "         [0.5714418 ],\n",
       "         [0.5714418 ],\n",
       "         [0.18940467],\n",
       "         [0.18940467],\n",
       "         [0.83479796],\n",
       "         [0.83479796],\n",
       "         [0.20377062],\n",
       "         [0.20377062],\n",
       "         [0.93518702],\n",
       "         [0.93518702],\n",
       "         [0.89311497],\n",
       "         [0.89311497],\n",
       "         [0.12235774],\n",
       "         [0.12235774],\n",
       "         [0.3178538 ],\n",
       "         [0.3178538 ],\n",
       "         [0.55303597],\n",
       "         [0.55303597],\n",
       "         [0.42356404],\n",
       "         [0.42356404],\n",
       "         [0.53277313],\n",
       "         [0.53277313],\n",
       "         [0.32758327],\n",
       "         [0.32758327],\n",
       "         [0.13276786],\n",
       "         [0.13276786],\n",
       "         [0.15261015],\n",
       "         [0.15261015],\n",
       "         [0.12638959],\n",
       "         [0.12638959],\n",
       "         [0.57088613],\n",
       "         [0.57088613],\n",
       "         [0.41329508],\n",
       "         [0.41329508],\n",
       "         [0.35716835],\n",
       "         [0.35716835],\n",
       "         [0.12069916],\n",
       "         [0.12069916],\n",
       "         [0.04683505],\n",
       "         [0.04683505],\n",
       "         [0.48313578],\n",
       "         [0.48313578],\n",
       "         [0.71744321],\n",
       "         [0.71744321],\n",
       "         [0.2793072 ],\n",
       "         [0.2793072 ],\n",
       "         [0.25849262],\n",
       "         [0.25849262],\n",
       "         [0.44125252],\n",
       "         [0.44125252],\n",
       "         [0.69084013],\n",
       "         [0.69084013],\n",
       "         [0.03564888],\n",
       "         [0.03564888],\n",
       "         [0.29718609],\n",
       "         [0.29718609],\n",
       "         [0.60088652],\n",
       "         [0.60088652],\n",
       "         [0.84411465],\n",
       "         [0.84411465],\n",
       "         [0.00149677],\n",
       "         [0.00149677],\n",
       "         [0.83392453],\n",
       "         [0.83392453],\n",
       "         [0.00143373],\n",
       "         [0.00143373],\n",
       "         [0.59749044],\n",
       "         [0.59749044],\n",
       "         [0.66510728],\n",
       "         [0.66510728],\n",
       "         [0.3046116 ],\n",
       "         [0.3046116 ],\n",
       "         [0.84998172],\n",
       "         [0.84998172],\n",
       "         [0.62206223],\n",
       "         [0.62206223],\n",
       "         [0.18795965],\n",
       "         [0.18795965],\n",
       "         [0.55344027],\n",
       "         [0.55344027],\n",
       "         [0.07033676],\n",
       "         [0.07033676],\n",
       "         [0.80469439],\n",
       "         [0.80469439],\n",
       "         [0.26836263],\n",
       "         [0.26836263],\n",
       "         [0.15226659],\n",
       "         [0.15226659],\n",
       "         [0.25407414],\n",
       "         [0.25407414],\n",
       "         [0.49221673],\n",
       "         [0.49221673],\n",
       "         [0.20605137],\n",
       "         [0.20605137]])}}"
      ]
     },
     "execution_count": 1,
     "metadata": {},
     "output_type": "execute_result"
    }
   ],
   "source": [
    "ds = load_by_id(run_id_a)\n",
    "ds.get_parameter_data('x1')"
   ]
  },
  {
   "cell_type": "code",
   "execution_count": null,
   "metadata": {},
   "outputs": [],
   "source": []
  }
 ],
 "metadata": {
  "kernelspec": {
   "display_name": "Python 3",
   "language": "python",
   "name": "python3"
  },
  "language_info": {
   "codemirror_mode": {
    "name": "ipython",
    "version": 3
   },
   "file_extension": ".py",
   "mimetype": "text/x-python",
   "name": "python",
   "nbconvert_exporter": "python",
   "pygments_lexer": "ipython3",
   "version": "3.7.9"
  },
  "nbsphinx": {
   "timeout": 600
  },
  "toc": {
   "base_numbering": 1,
   "nav_menu": {},
   "number_sections": true,
   "sideBar": true,
   "skip_h1_title": false,
   "title_cell": "Table of Contents",
   "title_sidebar": "Contents",
   "toc_cell": false,
   "toc_position": {},
   "toc_section_display": true,
   "toc_window_display": false
  },
  "varInspector": {
   "cols": {
    "lenName": 16,
    "lenType": 16,
    "lenVar": 40
   },
   "kernels_config": {
    "python": {
     "delete_cmd_postfix": "",
     "delete_cmd_prefix": "del ",
     "library": "var_list.py",
     "varRefreshCmd": "print(var_dic_list())"
    },
    "r": {
     "delete_cmd_postfix": ") ",
     "delete_cmd_prefix": "rm(",
     "library": "var_list.r",
     "varRefreshCmd": "cat(var_dic_list()) "
    }
   },
   "types_to_exclude": [
    "module",
    "function",
    "builtin_function_or_method",
    "instance",
    "_Feature"
   ],
   "window_display": false
  }
 },
 "nbformat": 4,
 "nbformat_minor": 2
}
