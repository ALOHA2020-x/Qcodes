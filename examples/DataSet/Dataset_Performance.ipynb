{
 "cells": [
  {
   "cell_type": "markdown",
   "metadata": {},
   "source": [
    "# DataSet Performance\n",
    "\n",
    "This notebook shows the trade-off between inserting data into a database row-by-row and as binary blobs. Inserting the data row-by-row means that we have direct access to all the data and may perform queries directly on the values of the data. On the other hand, as we shall see, this is much slower than inserting the data directly as binary blobs."
   ]
  },
  {
   "cell_type": "markdown",
   "metadata": {},
   "source": [
    "First, we choose a new location for the database to ensure that we don't add a bunch of benchmarking data to the default one."
   ]
  },
  {
   "cell_type": "code",
   "execution_count": 1,
   "metadata": {
    "execution": {
     "iopub.execute_input": "2020-10-29T11:07:51.695108Z",
     "iopub.status.busy": "2020-10-29T11:07:51.693668Z",
     "iopub.status.idle": "2020-10-29T11:07:52.706492Z",
     "shell.execute_reply": "2020-10-29T11:07:52.705875Z"
    }
   },
   "outputs": [
    {
     "name": "stdout",
     "output_type": "stream",
     "text": [
      "Logging hadn't been started.\n",
      "Activating auto-logging. Current session state plus future input saved.\n",
      "Filename       : /home/vsts/.qcodes/logs/command_history.log\n",
      "Mode           : append\n",
      "Output logging : True\n",
      "Raw input log  : False\n",
      "Timestamping   : True\n",
      "State          : active\n"
     ]
    },
    {
     "name": "stdout",
     "output_type": "stream",
     "text": [
      "Qcodes Logfile : /home/vsts/.qcodes/logs/201029-14841-qcodes.log\n"
     ]
    }
   ],
   "source": [
    "import os\n",
    "cwd = os.getcwd()\n",
    "import qcodes as qc\n",
    "qc.config[\"core\"][\"db_location\"] = os.path.join(cwd, 'testing.db')\n"
   ]
  },
  {
   "cell_type": "code",
   "execution_count": 2,
   "metadata": {
    "execution": {
     "iopub.execute_input": "2020-10-29T11:07:52.713051Z",
     "iopub.status.busy": "2020-10-29T11:07:52.712022Z",
     "iopub.status.idle": "2020-10-29T11:07:52.883304Z",
     "shell.execute_reply": "2020-10-29T11:07:52.882480Z"
    }
   },
   "outputs": [],
   "source": [
    "%matplotlib inline\n",
    "import time\n",
    "import matplotlib.pyplot as plt\n",
    "import numpy as np\n",
    "\n",
    "import qcodes as qc\n",
    "from qcodes.instrument.parameter import ManualParameter\n",
    "from qcodes.dataset.experiment_container import (Experiment,\n",
    "                                                 load_last_experiment,\n",
    "                                                 new_experiment)\n",
    "from qcodes.dataset.sqlite.database import initialise_database\n",
    "from qcodes import load_or_create_experiment\n",
    "from qcodes.dataset.measurements import Measurement"
   ]
  },
  {
   "cell_type": "code",
   "execution_count": 3,
   "metadata": {
    "execution": {
     "iopub.execute_input": "2020-10-29T11:07:52.887061Z",
     "iopub.status.busy": "2020-10-29T11:07:52.886426Z",
     "iopub.status.idle": "2020-10-29T11:07:52.986294Z",
     "shell.execute_reply": "2020-10-29T11:07:52.985719Z"
    }
   },
   "outputs": [
    {
     "name": "stdout",
     "output_type": "stream",
     "text": [
      "\r",
      "0it [00:00, ?it/s]"
     ]
    },
    {
     "name": "stdout",
     "output_type": "stream",
     "text": [
      "\r",
      "Upgrading database; v0 -> v1: : 0it [00:00, ?it/s]"
     ]
    },
    {
     "name": "stdout",
     "output_type": "stream",
     "text": [
      "\r",
      "Upgrading database; v0 -> v1: : 0it [00:00, ?it/s]"
     ]
    },
    {
     "name": "stdout",
     "output_type": "stream",
     "text": [
      "\n",
      "\r",
      "  0%|          | 0/1 [00:00<?, ?it/s]"
     ]
    },
    {
     "name": "stdout",
     "output_type": "stream",
     "text": [
      "\r",
      "Upgrading database; v1 -> v2:   0%|          | 0/1 [00:00<?, ?it/s]"
     ]
    },
    {
     "name": "stdout",
     "output_type": "stream",
     "text": [
      "\r",
      "Upgrading database; v1 -> v2: 100%|██████████| 1/1 [00:00<00:00, 1204.91it/s]"
     ]
    },
    {
     "name": "stdout",
     "output_type": "stream",
     "text": [
      "\n",
      "\r",
      "0it [00:00, ?it/s]"
     ]
    },
    {
     "name": "stdout",
     "output_type": "stream",
     "text": [
      "\r",
      "Upgrading database; v2 -> v3: : 0it [00:00, ?it/s]"
     ]
    },
    {
     "name": "stdout",
     "output_type": "stream",
     "text": [
      "\r",
      "Upgrading database; v2 -> v3: : 0it [00:00, ?it/s]"
     ]
    },
    {
     "name": "stdout",
     "output_type": "stream",
     "text": [
      "\n",
      "\r",
      "0it [00:00, ?it/s]"
     ]
    },
    {
     "name": "stdout",
     "output_type": "stream",
     "text": [
      "\r",
      "Upgrading database; v3 -> v4: : 0it [00:00, ?it/s]"
     ]
    },
    {
     "name": "stdout",
     "output_type": "stream",
     "text": [
      "\r",
      "Upgrading database; v3 -> v4: : 0it [00:00, ?it/s]"
     ]
    },
    {
     "name": "stdout",
     "output_type": "stream",
     "text": [
      "\n",
      "\r",
      "  0%|          | 0/1 [00:00<?, ?it/s]"
     ]
    },
    {
     "name": "stdout",
     "output_type": "stream",
     "text": [
      "\r",
      "Upgrading database; v4 -> v5:   0%|          | 0/1 [00:00<?, ?it/s]"
     ]
    },
    {
     "name": "stdout",
     "output_type": "stream",
     "text": [
      "\r",
      "Upgrading database; v4 -> v5: 100%|██████████| 1/1 [00:00<00:00, 430.67it/s]"
     ]
    },
    {
     "name": "stdout",
     "output_type": "stream",
     "text": [
      "\n",
      "\r",
      "0it [00:00, ?it/s]"
     ]
    },
    {
     "name": "stdout",
     "output_type": "stream",
     "text": [
      "\r",
      "Upgrading database; v5 -> v6: : 0it [00:00, ?it/s]"
     ]
    },
    {
     "name": "stdout",
     "output_type": "stream",
     "text": [
      "\r",
      "Upgrading database; v5 -> v6: : 0it [00:00, ?it/s]"
     ]
    },
    {
     "name": "stdout",
     "output_type": "stream",
     "text": [
      "\n",
      "\r",
      "  0%|          | 0/1 [00:00<?, ?it/s]"
     ]
    },
    {
     "name": "stdout",
     "output_type": "stream",
     "text": [
      "\r",
      "Upgrading database; v6 -> v7:   0%|          | 0/1 [00:00<?, ?it/s]"
     ]
    },
    {
     "name": "stdout",
     "output_type": "stream",
     "text": [
      "\r",
      "Upgrading database; v6 -> v7: 100%|██████████| 1/1 [00:00<00:00, 460.86it/s]"
     ]
    },
    {
     "name": "stdout",
     "output_type": "stream",
     "text": [
      "\n",
      "\r",
      "  0%|          | 0/1 [00:00<?, ?it/s]"
     ]
    },
    {
     "name": "stdout",
     "output_type": "stream",
     "text": [
      "\r",
      "Upgrading database; v7 -> v8:   0%|          | 0/1 [00:00<?, ?it/s]"
     ]
    },
    {
     "name": "stdout",
     "output_type": "stream",
     "text": [
      "\r",
      "Upgrading database; v7 -> v8: 100%|██████████| 1/1 [00:00<00:00, 569.34it/s]"
     ]
    },
    {
     "name": "stdout",
     "output_type": "stream",
     "text": [
      "\n",
      "\r",
      "  0%|          | 0/1 [00:00<?, ?it/s]"
     ]
    },
    {
     "name": "stdout",
     "output_type": "stream",
     "text": [
      "\r",
      "Upgrading database; v8 -> v9:   0%|          | 0/1 [00:00<?, ?it/s]"
     ]
    },
    {
     "name": "stdout",
     "output_type": "stream",
     "text": [
      "\r",
      "Upgrading database; v8 -> v9: 100%|██████████| 1/1 [00:00<00:00, 1418.43it/s]"
     ]
    },
    {
     "name": "stdout",
     "output_type": "stream",
     "text": [
      "\n"
     ]
    }
   ],
   "source": [
    "initialise_database()\n",
    "exp = load_or_create_experiment(experiment_name='tutorial_exp', sample_name=\"no sample\")"
   ]
  },
  {
   "cell_type": "markdown",
   "metadata": {},
   "source": [
    "Here, we define a simple function to benchmark the time it takes to insert n points with either numeric or array data type.\n",
    "We will compare both the time used to call ``add_result`` and the time used for the full measurement."
   ]
  },
  {
   "cell_type": "code",
   "execution_count": 4,
   "metadata": {
    "execution": {
     "iopub.execute_input": "2020-10-29T11:07:52.996115Z",
     "iopub.status.busy": "2020-10-29T11:07:52.994957Z",
     "iopub.status.idle": "2020-10-29T11:07:52.997447Z",
     "shell.execute_reply": "2020-10-29T11:07:52.996908Z"
    }
   },
   "outputs": [],
   "source": [
    "def insert_data(paramtype, npoints, nreps=1):\n",
    "\n",
    "    meas = Measurement(exp=exp)\n",
    "\n",
    "    x1 = ManualParameter('x1')\n",
    "    x2 = ManualParameter('x2')\n",
    "    x3 = ManualParameter('x3')\n",
    "    y1 = ManualParameter('y1')\n",
    "    y2 = ManualParameter('y2')\n",
    "\n",
    "    meas.register_parameter(x1, paramtype=paramtype)\n",
    "    meas.register_parameter(x2, paramtype=paramtype)\n",
    "    meas.register_parameter(x3, paramtype=paramtype)\n",
    "    meas.register_parameter(y1, setpoints=[x1, x2, x3],\n",
    "                            paramtype=paramtype)\n",
    "    meas.register_parameter(y2, setpoints=[x1, x2, x3],\n",
    "                            paramtype=paramtype)\n",
    "    start = time.perf_counter()\n",
    "    with meas.run() as datasaver:\n",
    "        start_adding = time.perf_counter()\n",
    "        for i in range(nreps):\n",
    "            datasaver.add_result((x1, np.random.rand(npoints)),\n",
    "                                 (x2, np.random.rand(npoints)),\n",
    "                                 (x3, np.random.rand(npoints)),\n",
    "                                 (y1, np.random.rand(npoints)),\n",
    "                                 (y2, np.random.rand(npoints)))\n",
    "        stop_adding = time.perf_counter()\n",
    "        run_id = datasaver.run_id\n",
    "    stop = time.perf_counter()\n",
    "    tot_time = stop - start\n",
    "    add_time = stop_adding - start_adding\n",
    "    return tot_time, add_time, run_id"
   ]
  },
  {
   "cell_type": "markdown",
   "metadata": {},
   "source": [
    "## Comparison between numeric/array data and binary blob"
   ]
  },
  {
   "cell_type": "markdown",
   "metadata": {},
   "source": [
    "### Case1: Short experiment time"
   ]
  },
  {
   "cell_type": "code",
   "execution_count": 5,
   "metadata": {
    "execution": {
     "iopub.execute_input": "2020-10-29T11:07:53.003102Z",
     "iopub.status.busy": "2020-10-29T11:07:53.002026Z",
     "iopub.status.idle": "2020-10-29T11:07:53.749643Z",
     "shell.execute_reply": "2020-10-29T11:07:53.750071Z"
    }
   },
   "outputs": [
    {
     "name": "stdout",
     "output_type": "stream",
     "text": [
      "Starting experimental run with id: 1. \n",
      "Starting experimental run with id: 2. \n",
      "Starting experimental run with id: 3. \n",
      "Starting experimental run with id: 4. \n",
      "Starting experimental run with id: 5. \n"
     ]
    },
    {
     "name": "stdout",
     "output_type": "stream",
     "text": [
      "Starting experimental run with id: 6. \n"
     ]
    },
    {
     "name": "stdout",
     "output_type": "stream",
     "text": [
      "Starting experimental run with id: 7. "
     ]
    },
    {
     "name": "stdout",
     "output_type": "stream",
     "text": [
      "\n"
     ]
    },
    {
     "name": "stdout",
     "output_type": "stream",
     "text": [
      "Starting experimental run with id: 8. \n",
      "Starting experimental run with id: 9. \n"
     ]
    },
    {
     "name": "stdout",
     "output_type": "stream",
     "text": [
      "Starting experimental run with id: 10. \n"
     ]
    },
    {
     "name": "stdout",
     "output_type": "stream",
     "text": [
      "Starting experimental run with id: 11. \n"
     ]
    },
    {
     "name": "stdout",
     "output_type": "stream",
     "text": [
      "Starting experimental run with id: 12. \n",
      "Starting experimental run with id: 13. \n"
     ]
    },
    {
     "name": "stdout",
     "output_type": "stream",
     "text": [
      "Starting experimental run with id: 14. \n"
     ]
    }
   ],
   "source": [
    "sizes = [1,500,1000,2000,3000,4000,5000]\n",
    "t_numeric = []\n",
    "t_numeric_add = []\n",
    "t_array = []\n",
    "t_array_add = []\n",
    "for size in sizes:\n",
    "    tn, tna, run_id_n =  insert_data('numeric', size)\n",
    "    t_numeric.append(tn)\n",
    "    t_numeric_add.append(tna)\n",
    "\n",
    "    ta, taa, run_id_a =  insert_data('array', size)\n",
    "    t_array.append(ta)\n",
    "    t_array_add.append(taa)"
   ]
  },
  {
   "cell_type": "code",
   "execution_count": 6,
   "metadata": {
    "execution": {
     "iopub.execute_input": "2020-10-29T11:07:53.754542Z",
     "iopub.status.busy": "2020-10-29T11:07:53.753900Z",
     "iopub.status.idle": "2020-10-29T11:07:53.966507Z",
     "shell.execute_reply": "2020-10-29T11:07:53.966016Z"
    }
   },
   "outputs": [
    {
     "data": {
      "image/png": "[encoded data removed]",
      "text/plain": [
       "<Figure size 432x288 with 1 Axes>"
      ]
     },
     "metadata": {
      "needs_background": "light"
     },
     "output_type": "display_data"
    }
   ],
   "source": [
    "fig, ax = plt.subplots(1,1)\n",
    "ax.plot(sizes, t_numeric, 'o-', label='Inserting row-by-row')\n",
    "ax.plot(sizes, t_numeric_add, 'o-', label='Inserting row-by-row: add_result only')\n",
    "ax.plot(sizes, t_array, 'd-', label='Inserting as binary blob')\n",
    "ax.plot(sizes, t_array_add, 'd-', label='Inserting as binary blob: add_result only')\n",
    "ax.legend()\n",
    "ax.set_xlabel('Array length')\n",
    "ax.set_ylabel('Time (s)')\n",
    "fig.tight_layout()"
   ]
  },
  {
   "cell_type": "markdown",
   "metadata": {},
   "source": [
    "As shown in the latter figure, the time to setup and and close the experiment is approximately 0.4 sec. In case of small array sizes, the difference between inserting values of data as arrays and inserting them row-by-row is relatively unimportant. At larger array sizes, i.e. above 10000 points, the cost of writing data as individual datapoints starts to become important.\n"
   ]
  },
  {
   "cell_type": "markdown",
   "metadata": {},
   "source": [
    "### Case2: Long experiment time "
   ]
  },
  {
   "cell_type": "code",
   "execution_count": 7,
   "metadata": {
    "execution": {
     "iopub.execute_input": "2020-10-29T11:07:53.972701Z",
     "iopub.status.busy": "2020-10-29T11:07:53.971492Z",
     "iopub.status.idle": "2020-10-29T11:08:48.591223Z",
     "shell.execute_reply": "2020-10-29T11:08:48.591728Z"
    }
   },
   "outputs": [
    {
     "name": "stdout",
     "output_type": "stream",
     "text": [
      "Starting experimental run with id: 15. \n",
      "Starting experimental run with id: 16. \n",
      "Starting experimental run with id: 17. \n"
     ]
    },
    {
     "name": "stdout",
     "output_type": "stream",
     "text": [
      "Starting experimental run with id: 18. \n",
      "Starting experimental run with id: 19. \n"
     ]
    },
    {
     "name": "stdout",
     "output_type": "stream",
     "text": [
      "Starting experimental run with id: 20. \n"
     ]
    },
    {
     "name": "stdout",
     "output_type": "stream",
     "text": [
      "Starting experimental run with id: 21. \n"
     ]
    },
    {
     "name": "stdout",
     "output_type": "stream",
     "text": [
      "Starting experimental run with id: 22. \n"
     ]
    },
    {
     "name": "stdout",
     "output_type": "stream",
     "text": [
      "Starting experimental run with id: 23. \n"
     ]
    },
    {
     "name": "stdout",
     "output_type": "stream",
     "text": [
      "Starting experimental run with id: 24. \n"
     ]
    },
    {
     "name": "stdout",
     "output_type": "stream",
     "text": [
      "Starting experimental run with id: 25. \n"
     ]
    },
    {
     "name": "stdout",
     "output_type": "stream",
     "text": [
      "Starting experimental run with id: 26. \n"
     ]
    },
    {
     "name": "stdout",
     "output_type": "stream",
     "text": [
      "Starting experimental run with id: 27. \n"
     ]
    },
    {
     "name": "stdout",
     "output_type": "stream",
     "text": [
      "Starting experimental run with id: 28. \n"
     ]
    }
   ],
   "source": [
    "sizes = [1,500,1000,2000,3000,4000,5000]\n",
    "nreps = 100\n",
    "t_numeric = []\n",
    "t_numeric_add = []\n",
    "t_numeric_run_ids = []\n",
    "t_array = []\n",
    "t_array_add = []\n",
    "t_array_run_ids = []\n",
    "for size in sizes:\n",
    "    tn, tna, run_id_n =  insert_data('numeric', size, nreps=nreps)\n",
    "    t_numeric.append(tn)\n",
    "    t_numeric_add.append(tna)\n",
    "    t_numeric_run_ids.append(run_id_n)\n",
    "\n",
    "    ta, taa, run_id_a =  insert_data('array', size, nreps=nreps)\n",
    "    t_array.append(ta)\n",
    "    t_array_add.append(taa)\n",
    "    t_array_run_ids.append(run_id_a)"
   ]
  },
  {
   "cell_type": "code",
   "execution_count": 8,
   "metadata": {
    "execution": {
     "iopub.execute_input": "2020-10-29T11:08:48.617183Z",
     "iopub.status.busy": "2020-10-29T11:08:48.616144Z",
     "iopub.status.idle": "2020-10-29T11:08:48.801362Z",
     "shell.execute_reply": "2020-10-29T11:08:48.800624Z"
    },
    "scrolled": true
   },
   "outputs": [
    {
     "data": {
      "image/png": "[encoded data removed]",
      "text/plain": [
       "<Figure size 432x288 with 1 Axes>"
      ]
     },
     "metadata": {
      "needs_background": "light"
     },
     "output_type": "display_data"
    }
   ],
   "source": [
    "fig, ax = plt.subplots(1,1)\n",
    "ax.plot(sizes, t_numeric, 'o-', label='Inserting row-by-row')\n",
    "ax.plot(sizes, t_numeric_add, 'o-', label='Inserting row-by-row: add_result only')\n",
    "ax.plot(sizes, t_array, 'd-', label='Inserting as binary blob')\n",
    "ax.plot(sizes, t_array_add, 'd-', label='Inserting as binary blob: add_result only')\n",
    "ax.legend()\n",
    "ax.set_xlabel('Array length')\n",
    "ax.set_ylabel('Time (s)')\n",
    "fig.tight_layout()"
   ]
  },
  {
   "cell_type": "markdown",
   "metadata": {},
   "source": [
    "However, as we increase the length of the experiment, as seen here by repeating the insertion 100 times, we see a big difference between inserting values of the data row-by-row and inserting it as a binary blob."
   ]
  },
  {
   "cell_type": "markdown",
   "metadata": {},
   "source": [
    "## Loading the data "
   ]
  },
  {
   "cell_type": "code",
   "execution_count": 9,
   "metadata": {
    "execution": {
     "iopub.execute_input": "2020-10-29T11:08:48.806241Z",
     "iopub.status.busy": "2020-10-29T11:08:48.804856Z",
     "iopub.status.idle": "2020-10-29T11:08:48.809230Z",
     "shell.execute_reply": "2020-10-29T11:08:48.808751Z"
    }
   },
   "outputs": [],
   "source": [
    "from qcodes.dataset.data_set import load_by_id\n",
    "from qcodes.dataset.data_export import get_data_by_id"
   ]
  },
  {
   "cell_type": "markdown",
   "metadata": {},
   "source": [
    "As usual you can load the data by using the ``load_by_id`` function but you will notice that the different storage methods\n",
    "are reflected in shape of the data as it is retrieved. "
   ]
  },
  {
   "cell_type": "code",
   "execution_count": 10,
   "metadata": {
    "execution": {
     "iopub.execute_input": "2020-10-29T11:08:48.813047Z",
     "iopub.status.busy": "2020-10-29T11:08:48.812505Z",
     "iopub.status.idle": "2020-10-29T11:08:48.816077Z",
     "shell.execute_reply": "2020-10-29T11:08:48.815636Z"
    }
   },
   "outputs": [],
   "source": [
    "run_id_n = t_numeric_run_ids[0]\n",
    "run_id_a = t_array_run_ids[0]"
   ]
  },
  {
   "cell_type": "code",
   "execution_count": 11,
   "metadata": {
    "execution": {
     "iopub.execute_input": "2020-10-29T11:08:48.819647Z",
     "iopub.status.busy": "2020-10-29T11:08:48.818880Z",
     "iopub.status.idle": "2020-10-29T11:08:48.829608Z",
     "shell.execute_reply": "2020-10-29T11:08:48.829166Z"
    },
    "scrolled": true
   },
   "outputs": [
    {
     "data": {
      "text/plain": [
       "{'x1': {'x1': array([0.06724481, 0.06724481, 0.32722974, 0.32722974, 0.11393771,\n",
       "         0.11393771, 0.58861522, 0.58861522, 0.35231197, 0.35231197,\n",
       "         0.30056919, 0.30056919, 0.61679789, 0.61679789, 0.6654091 ,\n",
       "         0.6654091 , 0.80126692, 0.80126692, 0.46963238, 0.46963238,\n",
       "         0.49876986, 0.49876986, 0.45186714, 0.45186714, 0.49064389,\n",
       "         0.49064389, 0.54770235, 0.54770235, 0.19041118, 0.19041118,\n",
       "         0.34694073, 0.34694073, 0.72565615, 0.72565615, 0.42911261,\n",
       "         0.42911261, 0.27408465, 0.27408465, 0.12228662, 0.12228662,\n",
       "         0.50084525, 0.50084525, 0.60799381, 0.60799381, 0.25953054,\n",
       "         0.25953054, 0.32390802, 0.32390802, 0.47733788, 0.47733788,\n",
       "         0.49338764, 0.49338764, 0.7582911 , 0.7582911 , 0.44371855,\n",
       "         0.44371855, 0.23157421, 0.23157421, 0.44244481, 0.44244481,\n",
       "         0.80572392, 0.80572392, 0.48832441, 0.48832441, 0.62272671,\n",
       "         0.62272671, 0.10684933, 0.10684933, 0.71877278, 0.71877278,\n",
       "         0.22592395, 0.22592395, 0.75311021, 0.75311021, 0.93975933,\n",
       "         0.93975933, 0.83902619, 0.83902619, 0.48873174, 0.48873174,\n",
       "         0.52330265, 0.52330265, 0.05572455, 0.05572455, 0.69297741,\n",
       "         0.69297741, 0.02443401, 0.02443401, 0.9533192 , 0.9533192 ,\n",
       "         0.00120071, 0.00120071, 0.39744198, 0.39744198, 0.42364855,\n",
       "         0.42364855, 0.46145896, 0.46145896, 0.17044209, 0.17044209,\n",
       "         0.13407233, 0.13407233, 0.73162508, 0.73162508, 0.35628002,\n",
       "         0.35628002, 0.81545266, 0.81545266, 0.46303833, 0.46303833,\n",
       "         0.0055718 , 0.0055718 , 0.24170086, 0.24170086, 0.80677688,\n",
       "         0.80677688, 0.5093575 , 0.5093575 , 0.71170783, 0.71170783,\n",
       "         0.67194161, 0.67194161, 0.22752695, 0.22752695, 0.66098853,\n",
       "         0.66098853, 0.98357553, 0.98357553, 0.27056322, 0.27056322,\n",
       "         0.09576639, 0.09576639, 0.93952594, 0.93952594, 0.59230054,\n",
       "         0.59230054, 0.25106611, 0.25106611, 0.53043007, 0.53043007,\n",
       "         0.74246891, 0.74246891, 0.58087501, 0.58087501, 0.09927005,\n",
       "         0.09927005, 0.29435583, 0.29435583, 0.73247724, 0.73247724,\n",
       "         0.67748081, 0.67748081, 0.24806916, 0.24806916, 0.60961087,\n",
       "         0.60961087, 0.91692374, 0.91692374, 0.12159355, 0.12159355,\n",
       "         0.22703016, 0.22703016, 0.99298882, 0.99298882, 0.30291716,\n",
       "         0.30291716, 0.33621873, 0.33621873, 0.13274135, 0.13274135,\n",
       "         0.29144289, 0.29144289, 0.18979246, 0.18979246, 0.13339796,\n",
       "         0.13339796, 0.40673143, 0.40673143, 0.13266678, 0.13266678,\n",
       "         0.00785249, 0.00785249, 0.40816129, 0.40816129, 0.93360644,\n",
       "         0.93360644, 0.51035903, 0.51035903, 0.78468282, 0.78468282,\n",
       "         0.43339114, 0.43339114, 0.53352276, 0.53352276, 0.80024986,\n",
       "         0.80024986, 0.09654514, 0.09654514, 0.87275213, 0.87275213])}}"
      ]
     },
     "execution_count": 1,
     "metadata": {},
     "output_type": "execute_result"
    }
   ],
   "source": [
    "ds = load_by_id(run_id_n)\n",
    "ds.get_parameter_data('x1')"
   ]
  },
  {
   "cell_type": "markdown",
   "metadata": {},
   "source": [
    "And a dataset stored as binary arrays"
   ]
  },
  {
   "cell_type": "code",
   "execution_count": 12,
   "metadata": {
    "execution": {
     "iopub.execute_input": "2020-10-29T11:08:48.832713Z",
     "iopub.status.busy": "2020-10-29T11:08:48.832178Z",
     "iopub.status.idle": "2020-10-29T11:08:48.888856Z",
     "shell.execute_reply": "2020-10-29T11:08:48.888357Z"
    },
    "scrolled": true
   },
   "outputs": [
    {
     "data": {
      "text/plain": [
       "{'x1': {'x1': array([[0.45281643],\n",
       "         [0.45281643],\n",
       "         [0.6083289 ],\n",
       "         [0.6083289 ],\n",
       "         [0.28331026],\n",
       "         [0.28331026],\n",
       "         [0.24656417],\n",
       "         [0.24656417],\n",
       "         [0.81362228],\n",
       "         [0.81362228],\n",
       "         [0.12240603],\n",
       "         [0.12240603],\n",
       "         [0.37980831],\n",
       "         [0.37980831],\n",
       "         [0.46742043],\n",
       "         [0.46742043],\n",
       "         [0.46529877],\n",
       "         [0.46529877],\n",
       "         [0.97474358],\n",
       "         [0.97474358],\n",
       "         [0.99093854],\n",
       "         [0.99093854],\n",
       "         [0.5006322 ],\n",
       "         [0.5006322 ],\n",
       "         [0.48558324],\n",
       "         [0.48558324],\n",
       "         [0.76971119],\n",
       "         [0.76971119],\n",
       "         [0.19763861],\n",
       "         [0.19763861],\n",
       "         [0.14866392],\n",
       "         [0.14866392],\n",
       "         [0.69863387],\n",
       "         [0.69863387],\n",
       "         [0.86035706],\n",
       "         [0.86035706],\n",
       "         [0.93226333],\n",
       "         [0.93226333],\n",
       "         [0.64098628],\n",
       "         [0.64098628],\n",
       "         [0.60791074],\n",
       "         [0.60791074],\n",
       "         [0.74194392],\n",
       "         [0.74194392],\n",
       "         [0.86582936],\n",
       "         [0.86582936],\n",
       "         [0.36790363],\n",
       "         [0.36790363],\n",
       "         [0.86183537],\n",
       "         [0.86183537],\n",
       "         [0.59191132],\n",
       "         [0.59191132],\n",
       "         [0.46077337],\n",
       "         [0.46077337],\n",
       "         [0.21405016],\n",
       "         [0.21405016],\n",
       "         [0.60810644],\n",
       "         [0.60810644],\n",
       "         [0.49194439],\n",
       "         [0.49194439],\n",
       "         [0.13261912],\n",
       "         [0.13261912],\n",
       "         [0.88611544],\n",
       "         [0.88611544],\n",
       "         [0.34076371],\n",
       "         [0.34076371],\n",
       "         [0.66867492],\n",
       "         [0.66867492],\n",
       "         [0.88335114],\n",
       "         [0.88335114],\n",
       "         [0.5105063 ],\n",
       "         [0.5105063 ],\n",
       "         [0.62688713],\n",
       "         [0.62688713],\n",
       "         [0.75303041],\n",
       "         [0.75303041],\n",
       "         [0.03858112],\n",
       "         [0.03858112],\n",
       "         [0.40450332],\n",
       "         [0.40450332],\n",
       "         [0.3616723 ],\n",
       "         [0.3616723 ],\n",
       "         [0.84934128],\n",
       "         [0.84934128],\n",
       "         [0.95880215],\n",
       "         [0.95880215],\n",
       "         [0.18141147],\n",
       "         [0.18141147],\n",
       "         [0.48507603],\n",
       "         [0.48507603],\n",
       "         [0.94535609],\n",
       "         [0.94535609],\n",
       "         [0.03160505],\n",
       "         [0.03160505],\n",
       "         [0.274871  ],\n",
       "         [0.274871  ],\n",
       "         [0.44202949],\n",
       "         [0.44202949],\n",
       "         [0.18729857],\n",
       "         [0.18729857],\n",
       "         [0.17531367],\n",
       "         [0.17531367],\n",
       "         [0.43433524],\n",
       "         [0.43433524],\n",
       "         [0.08563828],\n",
       "         [0.08563828],\n",
       "         [0.40505368],\n",
       "         [0.40505368],\n",
       "         [0.15828279],\n",
       "         [0.15828279],\n",
       "         [0.02857032],\n",
       "         [0.02857032],\n",
       "         [0.99562691],\n",
       "         [0.99562691],\n",
       "         [0.84259934],\n",
       "         [0.84259934],\n",
       "         [0.43892399],\n",
       "         [0.43892399],\n",
       "         [0.69571115],\n",
       "         [0.69571115],\n",
       "         [0.90205298],\n",
       "         [0.90205298],\n",
       "         [0.28133444],\n",
       "         [0.28133444],\n",
       "         [0.50304739],\n",
       "         [0.50304739],\n",
       "         [0.68109716],\n",
       "         [0.68109716],\n",
       "         [0.37931503],\n",
       "         [0.37931503],\n",
       "         [0.02319319],\n",
       "         [0.02319319],\n",
       "         [0.78158738],\n",
       "         [0.78158738],\n",
       "         [0.71411893],\n",
       "         [0.71411893],\n",
       "         [0.00148025],\n",
       "         [0.00148025],\n",
       "         [0.90850508],\n",
       "         [0.90850508],\n",
       "         [0.71766976],\n",
       "         [0.71766976],\n",
       "         [0.89969664],\n",
       "         [0.89969664],\n",
       "         [0.51462469],\n",
       "         [0.51462469],\n",
       "         [0.22826779],\n",
       "         [0.22826779],\n",
       "         [0.14326981],\n",
       "         [0.14326981],\n",
       "         [0.6764382 ],\n",
       "         [0.6764382 ],\n",
       "         [0.71323955],\n",
       "         [0.71323955],\n",
       "         [0.16568742],\n",
       "         [0.16568742],\n",
       "         [0.92164756],\n",
       "         [0.92164756],\n",
       "         [0.42161607],\n",
       "         [0.42161607],\n",
       "         [0.66398848],\n",
       "         [0.66398848],\n",
       "         [0.39732494],\n",
       "         [0.39732494],\n",
       "         [0.63952065],\n",
       "         [0.63952065],\n",
       "         [0.68485345],\n",
       "         [0.68485345],\n",
       "         [0.79101627],\n",
       "         [0.79101627],\n",
       "         [0.1851437 ],\n",
       "         [0.1851437 ],\n",
       "         [0.75276627],\n",
       "         [0.75276627],\n",
       "         [0.16437984],\n",
       "         [0.16437984],\n",
       "         [0.48853071],\n",
       "         [0.48853071],\n",
       "         [0.86404777],\n",
       "         [0.86404777],\n",
       "         [0.77634729],\n",
       "         [0.77634729],\n",
       "         [0.41384432],\n",
       "         [0.41384432],\n",
       "         [0.06432922],\n",
       "         [0.06432922],\n",
       "         [0.0196849 ],\n",
       "         [0.0196849 ],\n",
       "         [0.33052958],\n",
       "         [0.33052958],\n",
       "         [0.46625434],\n",
       "         [0.46625434],\n",
       "         [0.05924415],\n",
       "         [0.05924415],\n",
       "         [0.55626847],\n",
       "         [0.55626847],\n",
       "         [0.33256255],\n",
       "         [0.33256255],\n",
       "         [0.1634938 ],\n",
       "         [0.1634938 ]])}}"
      ]
     },
     "execution_count": 1,
     "metadata": {},
     "output_type": "execute_result"
    }
   ],
   "source": [
    "ds = load_by_id(run_id_a)\n",
    "ds.get_parameter_data('x1')"
   ]
  },
  {
   "cell_type": "code",
   "execution_count": null,
   "metadata": {},
   "outputs": [],
   "source": []
  }
 ],
 "metadata": {
  "kernelspec": {
   "display_name": "Python 3",
   "language": "python",
   "name": "python3"
  },
  "language_info": {
   "codemirror_mode": {
    "name": "ipython",
    "version": 3
   },
   "file_extension": ".py",
   "mimetype": "text/x-python",
   "name": "python",
   "nbconvert_exporter": "python",
   "pygments_lexer": "ipython3",
   "version": "3.7.9"
  },
  "nbsphinx": {
   "timeout": 600
  },
  "toc": {
   "base_numbering": 1,
   "nav_menu": {},
   "number_sections": true,
   "sideBar": true,
   "skip_h1_title": false,
   "title_cell": "Table of Contents",
   "title_sidebar": "Contents",
   "toc_cell": false,
   "toc_position": {},
   "toc_section_display": true,
   "toc_window_display": false
  },
  "varInspector": {
   "cols": {
    "lenName": 16,
    "lenType": 16,
    "lenVar": 40
   },
   "kernels_config": {
    "python": {
     "delete_cmd_postfix": "",
     "delete_cmd_prefix": "del ",
     "library": "var_list.py",
     "varRefreshCmd": "print(var_dic_list())"
    },
    "r": {
     "delete_cmd_postfix": ") ",
     "delete_cmd_prefix": "rm(",
     "library": "var_list.r",
     "varRefreshCmd": "cat(var_dic_list()) "
    }
   },
   "types_to_exclude": [
    "module",
    "function",
    "builtin_function_or_method",
    "instance",
    "_Feature"
   ],
   "window_display": false
  }
 },
 "nbformat": 4,
 "nbformat_minor": 2
}
