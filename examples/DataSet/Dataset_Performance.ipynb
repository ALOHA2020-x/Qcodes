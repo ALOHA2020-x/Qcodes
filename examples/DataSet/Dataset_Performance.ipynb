{
 "cells": [
  {
   "cell_type": "markdown",
   "metadata": {},
   "source": [
    "# DataSet Performance\n",
    "\n",
    "This notebook shows the trade-off between inserting data into a database row-by-row and as binary blobs. Inserting the data row-by-row means that we have direct access to all the data and may perform queries directly on the values of the data. On the other hand, as we shall see, this is much slower than inserting the data directly as binary blobs."
   ]
  },
  {
   "cell_type": "markdown",
   "metadata": {},
   "source": [
    "First, we choose a new location for the database to ensure that we don't add a bunch of benchmarking data to the default one."
   ]
  },
  {
   "cell_type": "code",
   "execution_count": 1,
   "metadata": {},
   "outputs": [
    {
     "name": "stdout",
     "output_type": "stream",
     "text": [
      "Logging hadn't been started.\n",
      "Activating auto-logging. Current session state plus future input saved.\n",
      "Filename       : /home/vsts/.qcodes/logs/command_history.log\n",
      "Mode           : append\n",
      "Output logging : True\n",
      "Raw input log  : False\n",
      "Timestamping   : True\n",
      "State          : active\n"
     ]
    },
    {
     "name": "stdout",
     "output_type": "stream",
     "text": [
      "Qcodes Logfile : /home/vsts/.qcodes/logs/200602-18876-qcodes.log\n"
     ]
    }
   ],
   "source": [
    "import os\n",
    "cwd = os.getcwd()\n",
    "import qcodes as qc\n",
    "qc.config[\"core\"][\"db_location\"] = os.path.join(cwd, 'testing.db')\n"
   ]
  },
  {
   "cell_type": "code",
   "execution_count": 2,
   "metadata": {},
   "outputs": [],
   "source": [
    "%matplotlib inline\n",
    "import time\n",
    "import matplotlib.pyplot as plt\n",
    "import numpy as np\n",
    "\n",
    "import qcodes as qc\n",
    "from qcodes.instrument.parameter import ManualParameter\n",
    "from qcodes.dataset.experiment_container import (Experiment,\n",
    "                                                 load_last_experiment,\n",
    "                                                 new_experiment)\n",
    "from qcodes.dataset.sqlite.database import initialise_database\n",
    "from qcodes import load_or_create_experiment\n",
    "from qcodes.dataset.measurements import Measurement"
   ]
  },
  {
   "cell_type": "code",
   "execution_count": 3,
   "metadata": {},
   "outputs": [
    {
     "name": "stdout",
     "output_type": "stream",
     "text": [
      "\r",
      "0it [00:00, ?it/s]"
     ]
    },
    {
     "name": "stdout",
     "output_type": "stream",
     "text": [
      "\r",
      "Upgrading database; v0 -> v1: : 0it [00:00, ?it/s]"
     ]
    },
    {
     "name": "stdout",
     "output_type": "stream",
     "text": [
      "\r",
      "Upgrading database; v0 -> v1: : 0it [00:00, ?it/s]"
     ]
    },
    {
     "name": "stdout",
     "output_type": "stream",
     "text": [
      "\n",
      "\r",
      "  0%|          | 0/1 [00:00<?, ?it/s]"
     ]
    },
    {
     "name": "stdout",
     "output_type": "stream",
     "text": [
      "\r",
      "Upgrading database; v1 -> v2:   0%|          | 0/1 [00:00<?, ?it/s]"
     ]
    },
    {
     "name": "stdout",
     "output_type": "stream",
     "text": [
      "\r",
      "Upgrading database; v1 -> v2: 100%|██████████| 1/1 [00:00<00:00, 1174.88it/s]"
     ]
    },
    {
     "name": "stdout",
     "output_type": "stream",
     "text": [
      "\n",
      "\r",
      "0it [00:00, ?it/s]"
     ]
    },
    {
     "name": "stdout",
     "output_type": "stream",
     "text": [
      "\r",
      "Upgrading database; v2 -> v3: : 0it [00:00, ?it/s]"
     ]
    },
    {
     "name": "stdout",
     "output_type": "stream",
     "text": [
      "\r",
      "Upgrading database; v2 -> v3: : 0it [00:00, ?it/s]"
     ]
    },
    {
     "name": "stdout",
     "output_type": "stream",
     "text": [
      "\n",
      "\r",
      "0it [00:00, ?it/s]"
     ]
    },
    {
     "name": "stdout",
     "output_type": "stream",
     "text": [
      "\r",
      "Upgrading database; v3 -> v4: : 0it [00:00, ?it/s]"
     ]
    },
    {
     "name": "stdout",
     "output_type": "stream",
     "text": [
      "\r",
      "Upgrading database; v3 -> v4: : 0it [00:00, ?it/s]"
     ]
    },
    {
     "name": "stdout",
     "output_type": "stream",
     "text": [
      "\n",
      "\r",
      "  0%|          | 0/1 [00:00<?, ?it/s]"
     ]
    },
    {
     "name": "stdout",
     "output_type": "stream",
     "text": [
      "\r",
      "Upgrading database; v4 -> v5:   0%|          | 0/1 [00:00<?, ?it/s]"
     ]
    },
    {
     "name": "stdout",
     "output_type": "stream",
     "text": [
      "\r",
      "Upgrading database; v4 -> v5: 100%|██████████| 1/1 [00:00<00:00, 682.33it/s]"
     ]
    },
    {
     "name": "stdout",
     "output_type": "stream",
     "text": [
      "\n",
      "\r",
      "0it [00:00, ?it/s]"
     ]
    },
    {
     "name": "stdout",
     "output_type": "stream",
     "text": [
      "\r",
      "Upgrading database; v5 -> v6: : 0it [00:00, ?it/s]"
     ]
    },
    {
     "name": "stdout",
     "output_type": "stream",
     "text": [
      "\r",
      "Upgrading database; v5 -> v6: : 0it [00:00, ?it/s]"
     ]
    },
    {
     "name": "stdout",
     "output_type": "stream",
     "text": [
      "\n",
      "\r",
      "  0%|          | 0/1 [00:00<?, ?it/s]"
     ]
    },
    {
     "name": "stdout",
     "output_type": "stream",
     "text": [
      "\r",
      "Upgrading database; v6 -> v7:   0%|          | 0/1 [00:00<?, ?it/s]"
     ]
    },
    {
     "name": "stdout",
     "output_type": "stream",
     "text": [
      "\r",
      "Upgrading database; v6 -> v7: 100%|██████████| 1/1 [00:00<00:00, 386.75it/s]"
     ]
    },
    {
     "name": "stdout",
     "output_type": "stream",
     "text": [
      "\n",
      "\r",
      "  0%|          | 0/1 [00:00<?, ?it/s]"
     ]
    },
    {
     "name": "stdout",
     "output_type": "stream",
     "text": [
      "\r",
      "Upgrading database; v7 -> v8:   0%|          | 0/1 [00:00<?, ?it/s]"
     ]
    },
    {
     "name": "stdout",
     "output_type": "stream",
     "text": [
      "\r",
      "Upgrading database; v7 -> v8: 100%|██████████| 1/1 [00:00<00:00, 792.72it/s]"
     ]
    },
    {
     "name": "stdout",
     "output_type": "stream",
     "text": [
      "\n",
      "\r",
      "  0%|          | 0/1 [00:00<?, ?it/s]"
     ]
    },
    {
     "name": "stdout",
     "output_type": "stream",
     "text": [
      "\r",
      "Upgrading database; v8 -> v9:   0%|          | 0/1 [00:00<?, ?it/s]"
     ]
    },
    {
     "name": "stdout",
     "output_type": "stream",
     "text": [
      "\r",
      "Upgrading database; v8 -> v9: 100%|██████████| 1/1 [00:00<00:00, 1040.77it/s]"
     ]
    },
    {
     "name": "stdout",
     "output_type": "stream",
     "text": [
      "\n"
     ]
    }
   ],
   "source": [
    "initialise_database()\n",
    "exp = load_or_create_experiment(experiment_name='tutorial_exp', sample_name=\"no sample\")"
   ]
  },
  {
   "cell_type": "markdown",
   "metadata": {},
   "source": [
    "Here, we define a simple function to benchmark the time it takes to insert n points with either numeric or array data type.\n",
    "We will compare both the time used to call ``add_result`` and the time used for the full measurement."
   ]
  },
  {
   "cell_type": "code",
   "execution_count": 4,
   "metadata": {},
   "outputs": [],
   "source": [
    "def insert_data(paramtype, npoints, nreps=1):\n",
    "\n",
    "    meas = Measurement(exp=exp)\n",
    "\n",
    "    x1 = ManualParameter('x1')\n",
    "    x2 = ManualParameter('x2')\n",
    "    x3 = ManualParameter('x3')\n",
    "    y1 = ManualParameter('y1')\n",
    "    y2 = ManualParameter('y2')\n",
    "\n",
    "    meas.register_parameter(x1, paramtype=paramtype)\n",
    "    meas.register_parameter(x2, paramtype=paramtype)\n",
    "    meas.register_parameter(x3, paramtype=paramtype)\n",
    "    meas.register_parameter(y1, setpoints=[x1, x2, x3],\n",
    "                            paramtype=paramtype)\n",
    "    meas.register_parameter(y2, setpoints=[x1, x2, x3],\n",
    "                            paramtype=paramtype)\n",
    "    start = time.perf_counter()\n",
    "    with meas.run() as datasaver:\n",
    "        start_adding = time.perf_counter()\n",
    "        for i in range(nreps):\n",
    "            datasaver.add_result((x1, np.random.rand(npoints)),\n",
    "                                 (x2, np.random.rand(npoints)),\n",
    "                                 (x3, np.random.rand(npoints)),\n",
    "                                 (y1, np.random.rand(npoints)),\n",
    "                                 (y2, np.random.rand(npoints)))\n",
    "        stop_adding = time.perf_counter()\n",
    "        run_id = datasaver.run_id\n",
    "    stop = time.perf_counter()\n",
    "    tot_time = stop - start\n",
    "    add_time = stop_adding - start_adding\n",
    "    return tot_time, add_time, run_id"
   ]
  },
  {
   "cell_type": "markdown",
   "metadata": {},
   "source": [
    "## Comparison between numeric/array data and binary blob"
   ]
  },
  {
   "cell_type": "markdown",
   "metadata": {},
   "source": [
    "### Case1: Short experiment time"
   ]
  },
  {
   "cell_type": "code",
   "execution_count": 5,
   "metadata": {},
   "outputs": [
    {
     "name": "stdout",
     "output_type": "stream",
     "text": [
      "Starting experimental run with id: 1. \n",
      "Starting experimental run with id: 2. \n",
      "Starting experimental run with id: 3. \n",
      "Starting experimental run with id: 4. \n"
     ]
    },
    {
     "name": "stdout",
     "output_type": "stream",
     "text": [
      "Starting experimental run with id: 5. \n"
     ]
    },
    {
     "name": "stdout",
     "output_type": "stream",
     "text": [
      "Starting experimental run with id: 6. \n",
      "Starting experimental run with id: 7. \n"
     ]
    },
    {
     "name": "stdout",
     "output_type": "stream",
     "text": [
      "Starting experimental run with id: 8. \n",
      "Starting experimental run with id: 9. \n"
     ]
    },
    {
     "name": "stdout",
     "output_type": "stream",
     "text": [
      "Starting experimental run with id: 10. \n",
      "Starting experimental run with id: 11. \n"
     ]
    },
    {
     "name": "stdout",
     "output_type": "stream",
     "text": [
      "Starting experimental run with id: 12. \n"
     ]
    },
    {
     "name": "stdout",
     "output_type": "stream",
     "text": [
      "Starting experimental run with id: 13. \n"
     ]
    },
    {
     "name": "stdout",
     "output_type": "stream",
     "text": [
      "Starting experimental run with id: 14. \n"
     ]
    }
   ],
   "source": [
    "sizes = [1,500,1000,2000,3000,4000,5000]\n",
    "t_numeric = []\n",
    "t_numeric_add = []\n",
    "t_array = []\n",
    "t_array_add = []\n",
    "for size in sizes:\n",
    "    tn, tna, run_id_n =  insert_data('numeric', size)\n",
    "    t_numeric.append(tn)\n",
    "    t_numeric_add.append(tna)\n",
    "\n",
    "    ta, taa, run_id_a =  insert_data('array', size)\n",
    "    t_array.append(ta)\n",
    "    t_array_add.append(taa)"
   ]
  },
  {
   "cell_type": "code",
   "execution_count": 6,
   "metadata": {},
   "outputs": [
    {
     "data": {
      "image/png": "[encoded data removed]",
      "text/plain": [
       "<Figure size 432x288 with 1 Axes>"
      ]
     },
     "metadata": {
      "needs_background": "light"
     },
     "output_type": "display_data"
    }
   ],
   "source": [
    "fig, ax = plt.subplots(1,1)\n",
    "ax.plot(sizes, t_numeric, 'o-', label='Inserting row-by-row')\n",
    "ax.plot(sizes, t_numeric_add, 'o-', label='Inserting row-by-row: add_result only')\n",
    "ax.plot(sizes, t_array, 'd-', label='Inserting as binary blob')\n",
    "ax.plot(sizes, t_array_add, 'd-', label='Inserting as binary blob: add_result only')\n",
    "ax.legend()\n",
    "ax.set_xlabel('Array length')\n",
    "ax.set_ylabel('Time (s)')\n",
    "fig.tight_layout()"
   ]
  },
  {
   "cell_type": "markdown",
   "metadata": {},
   "source": [
    "As shown in the latter figure, the time to setup and and close the experiment is approximately 0.4 sec. In case of small array sizes, the difference between inserting values of data as arrays and inserting them row-by-row is relatively unimportant. At larger array sizes, i.e. above 10000 points, the cost of writing data as individual datapoints starts to become important.\n"
   ]
  },
  {
   "cell_type": "markdown",
   "metadata": {},
   "source": [
    "### Case2: Long experiment time "
   ]
  },
  {
   "cell_type": "code",
   "execution_count": 7,
   "metadata": {},
   "outputs": [
    {
     "name": "stdout",
     "output_type": "stream",
     "text": [
      "Starting experimental run with id: 15. \n",
      "Starting experimental run with id: 16. \n",
      "Starting experimental run with id: 17. \n"
     ]
    },
    {
     "name": "stdout",
     "output_type": "stream",
     "text": [
      "Starting experimental run with id: 18. \n",
      "Starting experimental run with id: 19. \n"
     ]
    },
    {
     "name": "stdout",
     "output_type": "stream",
     "text": [
      "Starting experimental run with id: 20. \n"
     ]
    },
    {
     "name": "stdout",
     "output_type": "stream",
     "text": [
      "Starting experimental run with id: 21. \n"
     ]
    },
    {
     "name": "stdout",
     "output_type": "stream",
     "text": [
      "Starting experimental run with id: 22. \n"
     ]
    },
    {
     "name": "stdout",
     "output_type": "stream",
     "text": [
      "Starting experimental run with id: 23. \n"
     ]
    },
    {
     "name": "stdout",
     "output_type": "stream",
     "text": [
      "Starting experimental run with id: 24. \n"
     ]
    },
    {
     "name": "stdout",
     "output_type": "stream",
     "text": [
      "Starting experimental run with id: 25. \n"
     ]
    },
    {
     "name": "stdout",
     "output_type": "stream",
     "text": [
      "Starting experimental run with id: 26. \n"
     ]
    },
    {
     "name": "stdout",
     "output_type": "stream",
     "text": [
      "Starting experimental run with id: 27. \n"
     ]
    },
    {
     "name": "stdout",
     "output_type": "stream",
     "text": [
      "Starting experimental run with id: 28. \n"
     ]
    }
   ],
   "source": [
    "sizes = [1,500,1000,2000,3000,4000,5000]\n",
    "nreps = 100\n",
    "t_numeric = []\n",
    "t_numeric_add = []\n",
    "t_numeric_run_ids = []\n",
    "t_array = []\n",
    "t_array_add = []\n",
    "t_array_run_ids = []\n",
    "for size in sizes:\n",
    "    tn, tna, run_id_n =  insert_data('numeric', size, nreps=nreps)\n",
    "    t_numeric.append(tn)\n",
    "    t_numeric_add.append(tna)\n",
    "    t_numeric_run_ids.append(run_id_n)\n",
    "\n",
    "    ta, taa, run_id_a =  insert_data('array', size, nreps=nreps)\n",
    "    t_array.append(ta)\n",
    "    t_array_add.append(taa)\n",
    "    t_array_run_ids.append(run_id_a)"
   ]
  },
  {
   "cell_type": "code",
   "execution_count": 8,
   "metadata": {
    "scrolled": true
   },
   "outputs": [
    {
     "data": {
      "image/png": "[encoded data removed]",
      "text/plain": [
       "<Figure size 432x288 with 1 Axes>"
      ]
     },
     "metadata": {
      "needs_background": "light"
     },
     "output_type": "display_data"
    }
   ],
   "source": [
    "fig, ax = plt.subplots(1,1)\n",
    "ax.plot(sizes, t_numeric, 'o-', label='Inserting row-by-row')\n",
    "ax.plot(sizes, t_numeric_add, 'o-', label='Inserting row-by-row: add_result only')\n",
    "ax.plot(sizes, t_array, 'd-', label='Inserting as binary blob')\n",
    "ax.plot(sizes, t_array_add, 'd-', label='Inserting as binary blob: add_result only')\n",
    "ax.legend()\n",
    "ax.set_xlabel('Array length')\n",
    "ax.set_ylabel('Time (s)')\n",
    "fig.tight_layout()"
   ]
  },
  {
   "cell_type": "markdown",
   "metadata": {},
   "source": [
    "However, as we increase the length of the experiment, as seen here by repeating the insertion 100 times, we see a big difference between inserting values of the data row-by-row and inserting it as a binary blob."
   ]
  },
  {
   "cell_type": "markdown",
   "metadata": {},
   "source": [
    "## Loading the data "
   ]
  },
  {
   "cell_type": "code",
   "execution_count": 9,
   "metadata": {},
   "outputs": [],
   "source": [
    "from qcodes.dataset.data_set import load_by_id\n",
    "from qcodes.dataset.data_export import get_data_by_id"
   ]
  },
  {
   "cell_type": "markdown",
   "metadata": {},
   "source": [
    "As usual you can load the data by using the ``load_by_id`` function but you will notice that the different storage methods\n",
    "are reflected in shape of the data as it is retrieved. "
   ]
  },
  {
   "cell_type": "code",
   "execution_count": 10,
   "metadata": {},
   "outputs": [],
   "source": [
    "run_id_n = t_numeric_run_ids[0]\n",
    "run_id_a = t_array_run_ids[0]"
   ]
  },
  {
   "cell_type": "code",
   "execution_count": 11,
   "metadata": {
    "scrolled": true
   },
   "outputs": [
    {
     "data": {
      "text/plain": [
       "{'x1': {'x1': array([0.84330213, 0.84330213, 0.61279322, 0.61279322, 0.85840649,\n",
       "         0.85840649, 0.71544558, 0.71544558, 0.4190202 , 0.4190202 ,\n",
       "         0.03945681, 0.03945681, 0.54784565, 0.54784565, 0.16107173,\n",
       "         0.16107173, 0.99751488, 0.99751488, 0.94920746, 0.94920746,\n",
       "         0.55766193, 0.55766193, 0.88762213, 0.88762213, 0.80959054,\n",
       "         0.80959054, 0.91147775, 0.91147775, 0.43047787, 0.43047787,\n",
       "         0.36698041, 0.36698041, 0.25619344, 0.25619344, 0.29402515,\n",
       "         0.29402515, 0.00350105, 0.00350105, 0.65847496, 0.65847496,\n",
       "         0.82920918, 0.82920918, 0.48968918, 0.48968918, 0.32866046,\n",
       "         0.32866046, 0.13015265, 0.13015265, 0.8654552 , 0.8654552 ,\n",
       "         0.20616152, 0.20616152, 0.01532017, 0.01532017, 0.61177282,\n",
       "         0.61177282, 0.87680087, 0.87680087, 0.57941798, 0.57941798,\n",
       "         0.22059449, 0.22059449, 0.42215005, 0.42215005, 0.62853859,\n",
       "         0.62853859, 0.53151279, 0.53151279, 0.15555849, 0.15555849,\n",
       "         0.57054598, 0.57054598, 0.4478977 , 0.4478977 , 0.30101479,\n",
       "         0.30101479, 0.85461753, 0.85461753, 0.06669217, 0.06669217,\n",
       "         0.77441002, 0.77441002, 0.28709458, 0.28709458, 0.50898974,\n",
       "         0.50898974, 0.50724845, 0.50724845, 0.65176158, 0.65176158,\n",
       "         0.29083376, 0.29083376, 0.03463054, 0.03463054, 0.65423327,\n",
       "         0.65423327, 0.49281884, 0.49281884, 0.4454392 , 0.4454392 ,\n",
       "         0.12541242, 0.12541242, 0.58386099, 0.58386099, 0.36264975,\n",
       "         0.36264975, 0.47921423, 0.47921423, 0.14277898, 0.14277898,\n",
       "         0.73255819, 0.73255819, 0.71024631, 0.71024631, 0.15261142,\n",
       "         0.15261142, 0.50418343, 0.50418343, 0.55528895, 0.55528895,\n",
       "         0.23844764, 0.23844764, 0.78694374, 0.78694374, 0.62221582,\n",
       "         0.62221582, 0.79864889, 0.79864889, 0.80760735, 0.80760735,\n",
       "         0.59887355, 0.59887355, 0.75217453, 0.75217453, 0.16621292,\n",
       "         0.16621292, 0.40508323, 0.40508323, 0.40331363, 0.40331363,\n",
       "         0.05573218, 0.05573218, 0.58203013, 0.58203013, 0.26850219,\n",
       "         0.26850219, 0.21388742, 0.21388742, 0.37081514, 0.37081514,\n",
       "         0.16522016, 0.16522016, 0.37247983, 0.37247983, 0.87374581,\n",
       "         0.87374581, 0.37663978, 0.37663978, 0.91507364, 0.91507364,\n",
       "         0.57770741, 0.57770741, 0.92068306, 0.92068306, 0.82980429,\n",
       "         0.82980429, 0.48325749, 0.48325749, 0.49477148, 0.49477148,\n",
       "         0.66886003, 0.66886003, 0.62779595, 0.62779595, 0.99177911,\n",
       "         0.99177911, 0.71562922, 0.71562922, 0.86560612, 0.86560612,\n",
       "         0.15206064, 0.15206064, 0.28577983, 0.28577983, 0.73679267,\n",
       "         0.73679267, 0.5227485 , 0.5227485 , 0.70769362, 0.70769362,\n",
       "         0.60219338, 0.60219338, 0.41776036, 0.41776036, 0.742922  ,\n",
       "         0.742922  , 0.79621655, 0.79621655, 0.21117325, 0.21117325])}}"
      ]
     },
     "execution_count": 11,
     "metadata": {},
     "output_type": "execute_result"
    }
   ],
   "source": [
    "ds = load_by_id(run_id_n)\n",
    "ds.get_parameter_data('x1')"
   ]
  },
  {
   "cell_type": "markdown",
   "metadata": {},
   "source": [
    "And a dataset stored as binary arrays"
   ]
  },
  {
   "cell_type": "code",
   "execution_count": 12,
   "metadata": {
    "scrolled": true
   },
   "outputs": [
    {
     "data": {
      "text/plain": [
       "{'x1': {'x1': array([[0.17361833],\n",
       "         [0.17361833],\n",
       "         [0.64323201],\n",
       "         [0.64323201],\n",
       "         [0.63559868],\n",
       "         [0.63559868],\n",
       "         [0.30853032],\n",
       "         [0.30853032],\n",
       "         [0.03897556],\n",
       "         [0.03897556],\n",
       "         [0.72340292],\n",
       "         [0.72340292],\n",
       "         [0.61522374],\n",
       "         [0.61522374],\n",
       "         [0.01114995],\n",
       "         [0.01114995],\n",
       "         [0.11252248],\n",
       "         [0.11252248],\n",
       "         [0.91862156],\n",
       "         [0.91862156],\n",
       "         [0.9887046 ],\n",
       "         [0.9887046 ],\n",
       "         [0.41285803],\n",
       "         [0.41285803],\n",
       "         [0.08277452],\n",
       "         [0.08277452],\n",
       "         [0.76291191],\n",
       "         [0.76291191],\n",
       "         [0.3919589 ],\n",
       "         [0.3919589 ],\n",
       "         [0.14940775],\n",
       "         [0.14940775],\n",
       "         [0.25912464],\n",
       "         [0.25912464],\n",
       "         [0.1560228 ],\n",
       "         [0.1560228 ],\n",
       "         [0.20503039],\n",
       "         [0.20503039],\n",
       "         [0.33658622],\n",
       "         [0.33658622],\n",
       "         [0.30942484],\n",
       "         [0.30942484],\n",
       "         [0.6545135 ],\n",
       "         [0.6545135 ],\n",
       "         [0.39388636],\n",
       "         [0.39388636],\n",
       "         [0.07858388],\n",
       "         [0.07858388],\n",
       "         [0.64220548],\n",
       "         [0.64220548],\n",
       "         [0.25784503],\n",
       "         [0.25784503],\n",
       "         [0.14803991],\n",
       "         [0.14803991],\n",
       "         [0.60112877],\n",
       "         [0.60112877],\n",
       "         [0.28015135],\n",
       "         [0.28015135],\n",
       "         [0.93130005],\n",
       "         [0.93130005],\n",
       "         [0.80775697],\n",
       "         [0.80775697],\n",
       "         [0.12022224],\n",
       "         [0.12022224],\n",
       "         [0.09821348],\n",
       "         [0.09821348],\n",
       "         [0.38619716],\n",
       "         [0.38619716],\n",
       "         [0.8696165 ],\n",
       "         [0.8696165 ],\n",
       "         [0.10761195],\n",
       "         [0.10761195],\n",
       "         [0.85633238],\n",
       "         [0.85633238],\n",
       "         [0.15282122],\n",
       "         [0.15282122],\n",
       "         [0.20190076],\n",
       "         [0.20190076],\n",
       "         [0.19472743],\n",
       "         [0.19472743],\n",
       "         [0.86757377],\n",
       "         [0.86757377],\n",
       "         [0.12200435],\n",
       "         [0.12200435],\n",
       "         [0.66875509],\n",
       "         [0.66875509],\n",
       "         [0.19340064],\n",
       "         [0.19340064],\n",
       "         [0.59141086],\n",
       "         [0.59141086],\n",
       "         [0.18432131],\n",
       "         [0.18432131],\n",
       "         [0.62647013],\n",
       "         [0.62647013],\n",
       "         [0.43912692],\n",
       "         [0.43912692],\n",
       "         [0.83795895],\n",
       "         [0.83795895],\n",
       "         [0.38420562],\n",
       "         [0.38420562],\n",
       "         [0.39559076],\n",
       "         [0.39559076],\n",
       "         [0.82342672],\n",
       "         [0.82342672],\n",
       "         [0.79884698],\n",
       "         [0.79884698],\n",
       "         [0.57645703],\n",
       "         [0.57645703],\n",
       "         [0.03339846],\n",
       "         [0.03339846],\n",
       "         [0.8576282 ],\n",
       "         [0.8576282 ],\n",
       "         [0.43968843],\n",
       "         [0.43968843],\n",
       "         [0.95242597],\n",
       "         [0.95242597],\n",
       "         [0.06721164],\n",
       "         [0.06721164],\n",
       "         [0.29713676],\n",
       "         [0.29713676],\n",
       "         [0.57911728],\n",
       "         [0.57911728],\n",
       "         [0.45572265],\n",
       "         [0.45572265],\n",
       "         [0.61151572],\n",
       "         [0.61151572],\n",
       "         [0.87585025],\n",
       "         [0.87585025],\n",
       "         [0.26787025],\n",
       "         [0.26787025],\n",
       "         [0.28467932],\n",
       "         [0.28467932],\n",
       "         [0.99388599],\n",
       "         [0.99388599],\n",
       "         [0.86835109],\n",
       "         [0.86835109],\n",
       "         [0.304887  ],\n",
       "         [0.304887  ],\n",
       "         [0.45582587],\n",
       "         [0.45582587],\n",
       "         [0.24726574],\n",
       "         [0.24726574],\n",
       "         [0.75591749],\n",
       "         [0.75591749],\n",
       "         [0.1846743 ],\n",
       "         [0.1846743 ],\n",
       "         [0.02147258],\n",
       "         [0.02147258],\n",
       "         [0.27690464],\n",
       "         [0.27690464],\n",
       "         [0.73059321],\n",
       "         [0.73059321],\n",
       "         [0.93494605],\n",
       "         [0.93494605],\n",
       "         [0.09779643],\n",
       "         [0.09779643],\n",
       "         [0.89215756],\n",
       "         [0.89215756],\n",
       "         [0.58182631],\n",
       "         [0.58182631],\n",
       "         [0.34611148],\n",
       "         [0.34611148],\n",
       "         [0.88029783],\n",
       "         [0.88029783],\n",
       "         [0.48630862],\n",
       "         [0.48630862],\n",
       "         [0.34172534],\n",
       "         [0.34172534],\n",
       "         [0.61900896],\n",
       "         [0.61900896],\n",
       "         [0.50503212],\n",
       "         [0.50503212],\n",
       "         [0.76702241],\n",
       "         [0.76702241],\n",
       "         [0.83809243],\n",
       "         [0.83809243],\n",
       "         [0.37608963],\n",
       "         [0.37608963],\n",
       "         [0.32716958],\n",
       "         [0.32716958],\n",
       "         [0.27316297],\n",
       "         [0.27316297],\n",
       "         [0.35376833],\n",
       "         [0.35376833],\n",
       "         [0.63736591],\n",
       "         [0.63736591],\n",
       "         [0.68519368],\n",
       "         [0.68519368],\n",
       "         [0.08224021],\n",
       "         [0.08224021],\n",
       "         [0.16248626],\n",
       "         [0.16248626],\n",
       "         [0.50176796],\n",
       "         [0.50176796],\n",
       "         [0.0309987 ],\n",
       "         [0.0309987 ],\n",
       "         [0.75652246],\n",
       "         [0.75652246],\n",
       "         [0.70528549],\n",
       "         [0.70528549]])}}"
      ]
     },
     "execution_count": 12,
     "metadata": {},
     "output_type": "execute_result"
    }
   ],
   "source": [
    "ds = load_by_id(run_id_a)\n",
    "ds.get_parameter_data('x1')"
   ]
  },
  {
   "cell_type": "code",
   "execution_count": null,
   "metadata": {},
   "outputs": [],
   "source": []
  }
 ],
 "metadata": {
  "kernelspec": {
   "display_name": "Python 3",
   "language": "python",
   "name": "python3"
  },
  "language_info": {
   "codemirror_mode": {
    "name": "ipython",
    "version": 3
   },
   "file_extension": ".py",
   "mimetype": "text/x-python",
   "name": "python",
   "nbconvert_exporter": "python",
   "pygments_lexer": "ipython3",
   "version": "3.7.7"
  },
  "nbsphinx": {
   "timeout": 600
  },
  "toc": {
   "base_numbering": 1,
   "nav_menu": {},
   "number_sections": true,
   "sideBar": true,
   "skip_h1_title": false,
   "title_cell": "Table of Contents",
   "title_sidebar": "Contents",
   "toc_cell": false,
   "toc_position": {},
   "toc_section_display": true,
   "toc_window_display": false
  },
  "varInspector": {
   "cols": {
    "lenName": 16,
    "lenType": 16,
    "lenVar": 40
   },
   "kernels_config": {
    "python": {
     "delete_cmd_postfix": "",
     "delete_cmd_prefix": "del ",
     "library": "var_list.py",
     "varRefreshCmd": "print(var_dic_list())"
    },
    "r": {
     "delete_cmd_postfix": ") ",
     "delete_cmd_prefix": "rm(",
     "library": "var_list.r",
     "varRefreshCmd": "cat(var_dic_list()) "
    }
   },
   "types_to_exclude": [
    "module",
    "function",
    "builtin_function_or_method",
    "instance",
    "_Feature"
   ],
   "window_display": false
  }
 },
 "nbformat": 4,
 "nbformat_minor": 2
}
