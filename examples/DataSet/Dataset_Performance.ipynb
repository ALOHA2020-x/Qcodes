{
 "cells": [
  {
   "cell_type": "markdown",
   "metadata": {},
   "source": [
    "# DataSet Performance\n",
    "\n",
    "This notebook shows the trade-off between inserting data into a database row-by-row and as binary blobs. Inserting the data row-by-row means that we have direct access to all the data and may perform queries directly on the values of the data. On the other hand, as we shall see, this is much slower than inserting the data directly as binary blobs."
   ]
  },
  {
   "cell_type": "markdown",
   "metadata": {},
   "source": [
    "First, we choose a new location for the database to ensure that we don't add a bunch of benchmarking data to the default one."
   ]
  },
  {
   "cell_type": "code",
   "execution_count": 1,
   "metadata": {
    "execution": {
     "iopub.execute_input": "2021-04-19T07:18:44.823787Z",
     "iopub.status.busy": "2021-04-19T07:18:44.823107Z",
     "iopub.status.idle": "2021-04-19T07:18:45.630061Z",
     "shell.execute_reply": "2021-04-19T07:18:45.628680Z"
    }
   },
   "outputs": [
    {
     "name": "stdout",
     "output_type": "stream",
     "text": [
      "Logging hadn't been started.\n",
      "Activating auto-logging. Current session state plus future input saved.\n",
      "Filename       : /home/runner/.qcodes/logs/command_history.log\n",
      "Mode           : append\n",
      "Output logging : True\n",
      "Raw input log  : False\n",
      "Timestamping   : True\n",
      "State          : active\n"
     ]
    },
    {
     "name": "stdout",
     "output_type": "stream",
     "text": [
      "Qcodes Logfile : /home/runner/.qcodes/logs/210419-4389-qcodes.log\n"
     ]
    }
   ],
   "source": [
    "import os\n",
    "cwd = os.getcwd()\n",
    "import qcodes as qc\n",
    "qc.config[\"core\"][\"db_location\"] = os.path.join(cwd, 'testing.db')\n"
   ]
  },
  {
   "cell_type": "code",
   "execution_count": 2,
   "metadata": {
    "execution": {
     "iopub.execute_input": "2021-04-19T07:18:45.635444Z",
     "iopub.status.busy": "2021-04-19T07:18:45.634994Z",
     "iopub.status.idle": "2021-04-19T07:18:45.834417Z",
     "shell.execute_reply": "2021-04-19T07:18:45.833364Z"
    }
   },
   "outputs": [],
   "source": [
    "%matplotlib inline\n",
    "import time\n",
    "import matplotlib.pyplot as plt\n",
    "import numpy as np\n",
    "\n",
    "import qcodes as qc\n",
    "from qcodes.instrument.parameter import ManualParameter\n",
    "from qcodes.dataset.experiment_container import (Experiment,\n",
    "                                                 load_last_experiment,\n",
    "                                                 new_experiment)\n",
    "from qcodes.dataset.sqlite.database import initialise_database\n",
    "from qcodes import load_or_create_experiment\n",
    "from qcodes.dataset.measurements import Measurement"
   ]
  },
  {
   "cell_type": "code",
   "execution_count": 3,
   "metadata": {
    "execution": {
     "iopub.execute_input": "2021-04-19T07:18:45.837418Z",
     "iopub.status.busy": "2021-04-19T07:18:45.836906Z",
     "iopub.status.idle": "2021-04-19T07:18:45.898452Z",
     "shell.execute_reply": "2021-04-19T07:18:45.898096Z"
    }
   },
   "outputs": [
    {
     "name": "stdout",
     "output_type": "stream",
     "text": [
      "\r",
      "0it [00:00, ?it/s]"
     ]
    },
    {
     "name": "stdout",
     "output_type": "stream",
     "text": [
      "\r",
      "Upgrading database; v0 -> v1: : 0it [00:00, ?it/s]"
     ]
    },
    {
     "name": "stdout",
     "output_type": "stream",
     "text": [
      "\r",
      "Upgrading database; v0 -> v1: : 0it [00:00, ?it/s]"
     ]
    },
    {
     "name": "stdout",
     "output_type": "stream",
     "text": [
      "\n",
      "\r",
      "  0%|          | 0/1 [00:00<?, ?it/s]"
     ]
    },
    {
     "name": "stdout",
     "output_type": "stream",
     "text": [
      "\r",
      "Upgrading database; v1 -> v2:   0%|          | 0/1 [00:00<?, ?it/s]"
     ]
    },
    {
     "name": "stdout",
     "output_type": "stream",
     "text": [
      "\r",
      "Upgrading database; v1 -> v2: 100%|██████████| 1/1 [00:00<00:00, 567.18it/s]"
     ]
    },
    {
     "name": "stdout",
     "output_type": "stream",
     "text": [
      "\n",
      "\r",
      "0it [00:00, ?it/s]"
     ]
    },
    {
     "name": "stdout",
     "output_type": "stream",
     "text": [
      "\r",
      "Upgrading database; v2 -> v3: : 0it [00:00, ?it/s]"
     ]
    },
    {
     "name": "stdout",
     "output_type": "stream",
     "text": [
      "\r",
      "Upgrading database; v2 -> v3: : 0it [00:00, ?it/s]"
     ]
    },
    {
     "name": "stdout",
     "output_type": "stream",
     "text": [
      "\n",
      "\r",
      "0it [00:00, ?it/s]"
     ]
    },
    {
     "name": "stdout",
     "output_type": "stream",
     "text": [
      "\r",
      "Upgrading database; v3 -> v4: : 0it [00:00, ?it/s]"
     ]
    },
    {
     "name": "stdout",
     "output_type": "stream",
     "text": [
      "\r",
      "Upgrading database; v3 -> v4: : 0it [00:00, ?it/s]"
     ]
    },
    {
     "name": "stdout",
     "output_type": "stream",
     "text": [
      "\n",
      "\r",
      "  0%|          | 0/1 [00:00<?, ?it/s]"
     ]
    },
    {
     "name": "stdout",
     "output_type": "stream",
     "text": [
      "\r",
      "Upgrading database; v4 -> v5:   0%|          | 0/1 [00:00<?, ?it/s]"
     ]
    },
    {
     "name": "stdout",
     "output_type": "stream",
     "text": [
      "\r",
      "Upgrading database; v4 -> v5: 100%|██████████| 1/1 [00:00<00:00, 840.54it/s]"
     ]
    },
    {
     "name": "stdout",
     "output_type": "stream",
     "text": [
      "\n",
      "\r",
      "0it [00:00, ?it/s]"
     ]
    },
    {
     "name": "stdout",
     "output_type": "stream",
     "text": [
      "\r",
      "Upgrading database; v5 -> v6: : 0it [00:00, ?it/s]"
     ]
    },
    {
     "name": "stdout",
     "output_type": "stream",
     "text": [
      "\r",
      "Upgrading database; v5 -> v6: : 0it [00:00, ?it/s]"
     ]
    },
    {
     "name": "stdout",
     "output_type": "stream",
     "text": [
      "\n",
      "\r",
      "  0%|          | 0/1 [00:00<?, ?it/s]"
     ]
    },
    {
     "name": "stdout",
     "output_type": "stream",
     "text": [
      "\r",
      "Upgrading database; v6 -> v7:   0%|          | 0/1 [00:00<?, ?it/s]"
     ]
    },
    {
     "name": "stdout",
     "output_type": "stream",
     "text": [
      "\r",
      "Upgrading database; v6 -> v7: 100%|██████████| 1/1 [00:00<00:00, 278.10it/s]"
     ]
    },
    {
     "name": "stdout",
     "output_type": "stream",
     "text": [
      "\n",
      "\r",
      "  0%|          | 0/1 [00:00<?, ?it/s]"
     ]
    },
    {
     "name": "stdout",
     "output_type": "stream",
     "text": [
      "\r",
      "Upgrading database; v7 -> v8:   0%|          | 0/1 [00:00<?, ?it/s]"
     ]
    },
    {
     "name": "stdout",
     "output_type": "stream",
     "text": [
      "\r",
      "Upgrading database; v7 -> v8: 100%|██████████| 1/1 [00:00<00:00, 599.87it/s]"
     ]
    },
    {
     "name": "stdout",
     "output_type": "stream",
     "text": [
      "\n",
      "\r",
      "  0%|          | 0/1 [00:00<?, ?it/s]"
     ]
    },
    {
     "name": "stdout",
     "output_type": "stream",
     "text": [
      "\r",
      "Upgrading database; v8 -> v9:   0%|          | 0/1 [00:00<?, ?it/s]"
     ]
    },
    {
     "name": "stdout",
     "output_type": "stream",
     "text": [
      "\r",
      "Upgrading database; v8 -> v9: 100%|██████████| 1/1 [00:00<00:00, 752.07it/s]"
     ]
    },
    {
     "name": "stdout",
     "output_type": "stream",
     "text": [
      "\n"
     ]
    }
   ],
   "source": [
    "initialise_database()\n",
    "exp = load_or_create_experiment(experiment_name='tutorial_exp', sample_name=\"no sample\")"
   ]
  },
  {
   "cell_type": "markdown",
   "metadata": {},
   "source": [
    "Here, we define a simple function to benchmark the time it takes to insert n points with either numeric or array data type.\n",
    "We will compare both the time used to call ``add_result`` and the time used for the full measurement."
   ]
  },
  {
   "cell_type": "code",
   "execution_count": 4,
   "metadata": {
    "execution": {
     "iopub.execute_input": "2021-04-19T07:18:45.905664Z",
     "iopub.status.busy": "2021-04-19T07:18:45.905241Z",
     "iopub.status.idle": "2021-04-19T07:18:45.908614Z",
     "shell.execute_reply": "2021-04-19T07:18:45.908235Z"
    }
   },
   "outputs": [],
   "source": [
    "def insert_data(paramtype, npoints, nreps=1):\n",
    "\n",
    "    meas = Measurement(exp=exp)\n",
    "\n",
    "    x1 = ManualParameter('x1')\n",
    "    x2 = ManualParameter('x2')\n",
    "    x3 = ManualParameter('x3')\n",
    "    y1 = ManualParameter('y1')\n",
    "    y2 = ManualParameter('y2')\n",
    "\n",
    "    meas.register_parameter(x1, paramtype=paramtype)\n",
    "    meas.register_parameter(x2, paramtype=paramtype)\n",
    "    meas.register_parameter(x3, paramtype=paramtype)\n",
    "    meas.register_parameter(y1, setpoints=[x1, x2, x3],\n",
    "                            paramtype=paramtype)\n",
    "    meas.register_parameter(y2, setpoints=[x1, x2, x3],\n",
    "                            paramtype=paramtype)\n",
    "    start = time.perf_counter()\n",
    "    with meas.run() as datasaver:\n",
    "        start_adding = time.perf_counter()\n",
    "        for i in range(nreps):\n",
    "            datasaver.add_result((x1, np.random.rand(npoints)),\n",
    "                                 (x2, np.random.rand(npoints)),\n",
    "                                 (x3, np.random.rand(npoints)),\n",
    "                                 (y1, np.random.rand(npoints)),\n",
    "                                 (y2, np.random.rand(npoints)))\n",
    "        stop_adding = time.perf_counter()\n",
    "        run_id = datasaver.run_id\n",
    "    stop = time.perf_counter()\n",
    "    tot_time = stop - start\n",
    "    add_time = stop_adding - start_adding\n",
    "    return tot_time, add_time, run_id"
   ]
  },
  {
   "cell_type": "markdown",
   "metadata": {},
   "source": [
    "## Comparison between numeric/array data and binary blob"
   ]
  },
  {
   "cell_type": "markdown",
   "metadata": {},
   "source": [
    "### Case1: Short experiment time"
   ]
  },
  {
   "cell_type": "code",
   "execution_count": 5,
   "metadata": {
    "execution": {
     "iopub.execute_input": "2021-04-19T07:18:45.914686Z",
     "iopub.status.busy": "2021-04-19T07:18:45.913721Z",
     "iopub.status.idle": "2021-04-19T07:18:46.561380Z",
     "shell.execute_reply": "2021-04-19T07:18:46.560942Z"
    }
   },
   "outputs": [
    {
     "name": "stdout",
     "output_type": "stream",
     "text": [
      "Starting experimental run with id: 1. \n",
      "Starting experimental run with id: 2. \n",
      "Starting experimental run with id: 3. \n",
      "Starting experimental run with id: 4. \n",
      "Starting experimental run with id: 5. \n",
      "Starting experimental run with id: 6. \n",
      "Starting experimental run with id: 7. \n"
     ]
    },
    {
     "name": "stdout",
     "output_type": "stream",
     "text": [
      "Starting experimental run with id: 8. \n",
      "Starting experimental run with id: 9. \n"
     ]
    },
    {
     "name": "stdout",
     "output_type": "stream",
     "text": [
      "Starting experimental run with id: 10. \n",
      "Starting experimental run with id: 11. \n"
     ]
    },
    {
     "name": "stdout",
     "output_type": "stream",
     "text": [
      "Starting experimental run with id: 12. \n",
      "Starting experimental run with id: 13. \n",
      "Starting experimental run with id: 14. \n"
     ]
    }
   ],
   "source": [
    "sizes = [1,500,1000,2000,3000,4000,5000]\n",
    "t_numeric = []\n",
    "t_numeric_add = []\n",
    "t_array = []\n",
    "t_array_add = []\n",
    "for size in sizes:\n",
    "    tn, tna, run_id_n =  insert_data('numeric', size)\n",
    "    t_numeric.append(tn)\n",
    "    t_numeric_add.append(tna)\n",
    "\n",
    "    ta, taa, run_id_a =  insert_data('array', size)\n",
    "    t_array.append(ta)\n",
    "    t_array_add.append(taa)"
   ]
  },
  {
   "cell_type": "code",
   "execution_count": 6,
   "metadata": {
    "execution": {
     "iopub.execute_input": "2021-04-19T07:18:46.577141Z",
     "iopub.status.busy": "2021-04-19T07:18:46.566303Z",
     "iopub.status.idle": "2021-04-19T07:18:46.721111Z",
     "shell.execute_reply": "2021-04-19T07:18:46.721662Z"
    }
   },
   "outputs": [
    {
     "data": {
      "image/png": "[encoded data removed]",
      "text/plain": [
       "<Figure size 432x288 with 1 Axes>"
      ]
     },
     "metadata": {
      "needs_background": "light"
     },
     "output_type": "display_data"
    }
   ],
   "source": [
    "fig, ax = plt.subplots(1,1)\n",
    "ax.plot(sizes, t_numeric, 'o-', label='Inserting row-by-row')\n",
    "ax.plot(sizes, t_numeric_add, 'o-', label='Inserting row-by-row: add_result only')\n",
    "ax.plot(sizes, t_array, 'd-', label='Inserting as binary blob')\n",
    "ax.plot(sizes, t_array_add, 'd-', label='Inserting as binary blob: add_result only')\n",
    "ax.legend()\n",
    "ax.set_xlabel('Array length')\n",
    "ax.set_ylabel('Time (s)')\n",
    "fig.tight_layout()"
   ]
  },
  {
   "cell_type": "markdown",
   "metadata": {},
   "source": [
    "As shown in the latter figure, the time to setup and and close the experiment is approximately 0.4 sec. In case of small array sizes, the difference between inserting values of data as arrays and inserting them row-by-row is relatively unimportant. At larger array sizes, i.e. above 10000 points, the cost of writing data as individual datapoints starts to become important.\n"
   ]
  },
  {
   "cell_type": "markdown",
   "metadata": {},
   "source": [
    "### Case2: Long experiment time "
   ]
  },
  {
   "cell_type": "code",
   "execution_count": 7,
   "metadata": {
    "execution": {
     "iopub.execute_input": "2021-04-19T07:18:46.727206Z",
     "iopub.status.busy": "2021-04-19T07:18:46.726253Z",
     "iopub.status.idle": "2021-04-19T07:19:31.822603Z",
     "shell.execute_reply": "2021-04-19T07:19:31.820980Z"
    }
   },
   "outputs": [
    {
     "name": "stdout",
     "output_type": "stream",
     "text": [
      "Starting experimental run with id: 15. \n",
      "Starting experimental run with id: 16. \n",
      "Starting experimental run with id: 17. \n"
     ]
    },
    {
     "name": "stdout",
     "output_type": "stream",
     "text": [
      "Starting experimental run with id: 18. \n",
      "Starting experimental run with id: 19. \n"
     ]
    },
    {
     "name": "stdout",
     "output_type": "stream",
     "text": [
      "Starting experimental run with id: 20. \n"
     ]
    },
    {
     "name": "stdout",
     "output_type": "stream",
     "text": [
      "Starting experimental run with id: 21. \n"
     ]
    },
    {
     "name": "stdout",
     "output_type": "stream",
     "text": [
      "Starting experimental run with id: 22. \n"
     ]
    },
    {
     "name": "stdout",
     "output_type": "stream",
     "text": [
      "Starting experimental run with id: 23. \n"
     ]
    },
    {
     "name": "stdout",
     "output_type": "stream",
     "text": [
      "Starting experimental run with id: 24. \n"
     ]
    },
    {
     "name": "stdout",
     "output_type": "stream",
     "text": [
      "Starting experimental run with id: 25. \n"
     ]
    },
    {
     "name": "stdout",
     "output_type": "stream",
     "text": [
      "Starting experimental run with id: 26. \n"
     ]
    },
    {
     "name": "stdout",
     "output_type": "stream",
     "text": [
      "Starting experimental run with id: 27. \n"
     ]
    },
    {
     "name": "stdout",
     "output_type": "stream",
     "text": [
      "Starting experimental run with id: 28. \n"
     ]
    }
   ],
   "source": [
    "sizes = [1,500,1000,2000,3000,4000,5000]\n",
    "nreps = 100\n",
    "t_numeric = []\n",
    "t_numeric_add = []\n",
    "t_numeric_run_ids = []\n",
    "t_array = []\n",
    "t_array_add = []\n",
    "t_array_run_ids = []\n",
    "for size in sizes:\n",
    "    tn, tna, run_id_n =  insert_data('numeric', size, nreps=nreps)\n",
    "    t_numeric.append(tn)\n",
    "    t_numeric_add.append(tna)\n",
    "    t_numeric_run_ids.append(run_id_n)\n",
    "\n",
    "    ta, taa, run_id_a =  insert_data('array', size, nreps=nreps)\n",
    "    t_array.append(ta)\n",
    "    t_array_add.append(taa)\n",
    "    t_array_run_ids.append(run_id_a)"
   ]
  },
  {
   "cell_type": "code",
   "execution_count": 8,
   "metadata": {
    "execution": {
     "iopub.execute_input": "2021-04-19T07:19:31.846797Z",
     "iopub.status.busy": "2021-04-19T07:19:31.838783Z",
     "iopub.status.idle": "2021-04-19T07:19:31.968275Z",
     "shell.execute_reply": "2021-04-19T07:19:31.968624Z"
    },
    "scrolled": true
   },
   "outputs": [
    {
     "data": {
      "image/png": "[encoded data removed]",
      "text/plain": [
       "<Figure size 432x288 with 1 Axes>"
      ]
     },
     "metadata": {
      "needs_background": "light"
     },
     "output_type": "display_data"
    }
   ],
   "source": [
    "fig, ax = plt.subplots(1,1)\n",
    "ax.plot(sizes, t_numeric, 'o-', label='Inserting row-by-row')\n",
    "ax.plot(sizes, t_numeric_add, 'o-', label='Inserting row-by-row: add_result only')\n",
    "ax.plot(sizes, t_array, 'd-', label='Inserting as binary blob')\n",
    "ax.plot(sizes, t_array_add, 'd-', label='Inserting as binary blob: add_result only')\n",
    "ax.legend()\n",
    "ax.set_xlabel('Array length')\n",
    "ax.set_ylabel('Time (s)')\n",
    "fig.tight_layout()"
   ]
  },
  {
   "cell_type": "markdown",
   "metadata": {},
   "source": [
    "However, as we increase the length of the experiment, as seen here by repeating the insertion 100 times, we see a big difference between inserting values of the data row-by-row and inserting it as a binary blob."
   ]
  },
  {
   "cell_type": "markdown",
   "metadata": {},
   "source": [
    "## Loading the data "
   ]
  },
  {
   "cell_type": "code",
   "execution_count": 9,
   "metadata": {
    "execution": {
     "iopub.execute_input": "2021-04-19T07:19:31.971629Z",
     "iopub.status.busy": "2021-04-19T07:19:31.970964Z",
     "iopub.status.idle": "2021-04-19T07:19:31.972890Z",
     "shell.execute_reply": "2021-04-19T07:19:31.973290Z"
    }
   },
   "outputs": [],
   "source": [
    "from qcodes.dataset.data_set import load_by_id"
   ]
  },
  {
   "cell_type": "markdown",
   "metadata": {},
   "source": [
    "As usual you can load the data by using the ``load_by_id`` function but you will notice that the different storage methods\n",
    "are reflected in shape of the data as it is retrieved. "
   ]
  },
  {
   "cell_type": "code",
   "execution_count": 10,
   "metadata": {
    "execution": {
     "iopub.execute_input": "2021-04-19T07:19:31.975265Z",
     "iopub.status.busy": "2021-04-19T07:19:31.974726Z",
     "iopub.status.idle": "2021-04-19T07:19:31.977202Z",
     "shell.execute_reply": "2021-04-19T07:19:31.977601Z"
    }
   },
   "outputs": [],
   "source": [
    "run_id_n = t_numeric_run_ids[0]\n",
    "run_id_a = t_array_run_ids[0]"
   ]
  },
  {
   "cell_type": "code",
   "execution_count": 11,
   "metadata": {
    "execution": {
     "iopub.execute_input": "2021-04-19T07:19:31.979424Z",
     "iopub.status.busy": "2021-04-19T07:19:31.978995Z",
     "iopub.status.idle": "2021-04-19T07:19:31.987586Z",
     "shell.execute_reply": "2021-04-19T07:19:31.988057Z"
    },
    "scrolled": true
   },
   "outputs": [
    {
     "data": {
      "text/plain": [
       "{'x1': {'x1': array([8.05981446e-01, 8.05981446e-01, 2.17246467e-03, 2.17246467e-03,\n",
       "         4.96528518e-01, 4.96528518e-01, 9.26415820e-01, 9.26415820e-01,\n",
       "         1.05304628e-01, 1.05304628e-01, 2.09058595e-01, 2.09058595e-01,\n",
       "         8.31845393e-01, 8.31845393e-01, 9.19590827e-01, 9.19590827e-01,\n",
       "         1.48006781e-01, 1.48006781e-01, 1.85943756e-01, 1.85943756e-01,\n",
       "         6.34156132e-01, 6.34156132e-01, 4.37374888e-01, 4.37374888e-01,\n",
       "         6.22000022e-01, 6.22000022e-01, 3.18877504e-01, 3.18877504e-01,\n",
       "         2.00404078e-01, 2.00404078e-01, 5.08140202e-01, 5.08140202e-01,\n",
       "         5.30266553e-01, 5.30266553e-01, 3.10135877e-01, 3.10135877e-01,\n",
       "         3.48787037e-01, 3.48787037e-01, 2.66132518e-01, 2.66132518e-01,\n",
       "         9.74831314e-01, 9.74831314e-01, 4.68412402e-01, 4.68412402e-01,\n",
       "         8.74635431e-01, 8.74635431e-01, 5.37937207e-01, 5.37937207e-01,\n",
       "         9.68414184e-01, 9.68414184e-01, 1.89510722e-01, 1.89510722e-01,\n",
       "         8.62406591e-01, 8.62406591e-01, 5.73834280e-02, 5.73834280e-02,\n",
       "         1.83420535e-01, 1.83420535e-01, 9.74064604e-01, 9.74064604e-01,\n",
       "         9.32377219e-01, 9.32377219e-01, 7.37104050e-01, 7.37104050e-01,\n",
       "         2.55093073e-01, 2.55093073e-01, 7.55325384e-01, 7.55325384e-01,\n",
       "         3.10909110e-02, 3.10909110e-02, 5.90432599e-01, 5.90432599e-01,\n",
       "         2.39945094e-01, 2.39945094e-01, 8.45389553e-01, 8.45389553e-01,\n",
       "         8.35185726e-01, 8.35185726e-01, 2.52422547e-01, 2.52422547e-01,\n",
       "         7.98577757e-01, 7.98577757e-01, 6.80629512e-01, 6.80629512e-01,\n",
       "         3.17964002e-01, 3.17964002e-01, 4.13047817e-01, 4.13047817e-01,\n",
       "         1.65092633e-02, 1.65092633e-02, 6.43787332e-01, 6.43787332e-01,\n",
       "         8.19725496e-01, 8.19725496e-01, 1.21760484e-01, 1.21760484e-01,\n",
       "         7.11364970e-01, 7.11364970e-01, 8.56615913e-01, 8.56615913e-01,\n",
       "         4.85980386e-01, 4.85980386e-01, 6.72112427e-01, 6.72112427e-01,\n",
       "         6.32213148e-01, 6.32213148e-01, 8.32111924e-01, 8.32111924e-01,\n",
       "         5.03286526e-01, 5.03286526e-01, 1.36829813e-01, 1.36829813e-01,\n",
       "         5.40261298e-01, 5.40261298e-01, 8.15303107e-01, 8.15303107e-01,\n",
       "         4.48610996e-01, 4.48610996e-01, 2.13768234e-01, 2.13768234e-01,\n",
       "         2.89898779e-02, 2.89898779e-02, 9.64513875e-01, 9.64513875e-01,\n",
       "         6.21869865e-01, 6.21869865e-01, 4.36370490e-01, 4.36370490e-01,\n",
       "         4.15579458e-01, 4.15579458e-01, 5.01507319e-01, 5.01507319e-01,\n",
       "         1.46812651e-01, 1.46812651e-01, 5.62756366e-01, 5.62756366e-01,\n",
       "         5.81970187e-01, 5.81970187e-01, 6.45064360e-01, 6.45064360e-01,\n",
       "         1.09379330e-01, 1.09379330e-01, 7.61162510e-01, 7.61162510e-01,\n",
       "         2.16596050e-01, 2.16596050e-01, 8.43476200e-01, 8.43476200e-01,\n",
       "         6.74908624e-01, 6.74908624e-01, 4.83613904e-01, 4.83613904e-01,\n",
       "         6.88670344e-04, 6.88670344e-04, 3.02638813e-01, 3.02638813e-01,\n",
       "         5.97584452e-01, 5.97584452e-01, 9.19470590e-01, 9.19470590e-01,\n",
       "         7.63704666e-01, 7.63704666e-01, 1.38640445e-01, 1.38640445e-01,\n",
       "         6.95277894e-01, 6.95277894e-01, 3.27772337e-01, 3.27772337e-01,\n",
       "         5.20619973e-01, 5.20619973e-01, 3.79446482e-02, 3.79446482e-02,\n",
       "         6.19344859e-01, 6.19344859e-01, 7.30557109e-01, 7.30557109e-01,\n",
       "         3.28395855e-01, 3.28395855e-01, 7.93273974e-01, 7.93273974e-01,\n",
       "         2.95935671e-01, 2.95935671e-01, 4.05568297e-01, 4.05568297e-01,\n",
       "         7.92538808e-01, 7.92538808e-01, 6.26850769e-01, 6.26850769e-01,\n",
       "         3.80786152e-01, 3.80786152e-01, 5.87898149e-01, 5.87898149e-01,\n",
       "         7.96593986e-01, 7.96593986e-01, 2.58075226e-02, 2.58075226e-02,\n",
       "         1.38263762e-01, 1.38263762e-01, 3.33184570e-01, 3.33184570e-01])}}"
      ]
     },
     "execution_count": 1,
     "metadata": {},
     "output_type": "execute_result"
    }
   ],
   "source": [
    "ds = load_by_id(run_id_n)\n",
    "ds.get_parameter_data('x1')"
   ]
  },
  {
   "cell_type": "markdown",
   "metadata": {},
   "source": [
    "And a dataset stored as binary arrays"
   ]
  },
  {
   "cell_type": "code",
   "execution_count": 12,
   "metadata": {
    "execution": {
     "iopub.execute_input": "2021-04-19T07:19:31.990113Z",
     "iopub.status.busy": "2021-04-19T07:19:31.989657Z",
     "iopub.status.idle": "2021-04-19T07:19:32.040255Z",
     "shell.execute_reply": "2021-04-19T07:19:32.039796Z"
    },
    "scrolled": true
   },
   "outputs": [
    {
     "data": {
      "text/plain": [
       "{'x1': {'x1': array([[0.07749071],\n",
       "         [0.07749071],\n",
       "         [0.39962775],\n",
       "         [0.39962775],\n",
       "         [0.00642169],\n",
       "         [0.00642169],\n",
       "         [0.16806178],\n",
       "         [0.16806178],\n",
       "         [0.76713806],\n",
       "         [0.76713806],\n",
       "         [0.73794308],\n",
       "         [0.73794308],\n",
       "         [0.61539999],\n",
       "         [0.61539999],\n",
       "         [0.13765205],\n",
       "         [0.13765205],\n",
       "         [0.23713968],\n",
       "         [0.23713968],\n",
       "         [0.3438887 ],\n",
       "         [0.3438887 ],\n",
       "         [0.92257664],\n",
       "         [0.92257664],\n",
       "         [0.63450683],\n",
       "         [0.63450683],\n",
       "         [0.542343  ],\n",
       "         [0.542343  ],\n",
       "         [0.258488  ],\n",
       "         [0.258488  ],\n",
       "         [0.70896541],\n",
       "         [0.70896541],\n",
       "         [0.8753726 ],\n",
       "         [0.8753726 ],\n",
       "         [0.82629235],\n",
       "         [0.82629235],\n",
       "         [0.32778495],\n",
       "         [0.32778495],\n",
       "         [0.55873789],\n",
       "         [0.55873789],\n",
       "         [0.31450491],\n",
       "         [0.31450491],\n",
       "         [0.44367488],\n",
       "         [0.44367488],\n",
       "         [0.00156902],\n",
       "         [0.00156902],\n",
       "         [0.46860601],\n",
       "         [0.46860601],\n",
       "         [0.29503198],\n",
       "         [0.29503198],\n",
       "         [0.17393026],\n",
       "         [0.17393026],\n",
       "         [0.46908518],\n",
       "         [0.46908518],\n",
       "         [0.55228823],\n",
       "         [0.55228823],\n",
       "         [0.84132816],\n",
       "         [0.84132816],\n",
       "         [0.84264999],\n",
       "         [0.84264999],\n",
       "         [0.16947411],\n",
       "         [0.16947411],\n",
       "         [0.57143472],\n",
       "         [0.57143472],\n",
       "         [0.03218331],\n",
       "         [0.03218331],\n",
       "         [0.98068155],\n",
       "         [0.98068155],\n",
       "         [0.50991631],\n",
       "         [0.50991631],\n",
       "         [0.81653285],\n",
       "         [0.81653285],\n",
       "         [0.02354619],\n",
       "         [0.02354619],\n",
       "         [0.39484743],\n",
       "         [0.39484743],\n",
       "         [0.90089173],\n",
       "         [0.90089173],\n",
       "         [0.11833201],\n",
       "         [0.11833201],\n",
       "         [0.69066819],\n",
       "         [0.69066819],\n",
       "         [0.61196204],\n",
       "         [0.61196204],\n",
       "         [0.02593198],\n",
       "         [0.02593198],\n",
       "         [0.9062329 ],\n",
       "         [0.9062329 ],\n",
       "         [0.09477718],\n",
       "         [0.09477718],\n",
       "         [0.43769797],\n",
       "         [0.43769797],\n",
       "         [0.10309774],\n",
       "         [0.10309774],\n",
       "         [0.41995449],\n",
       "         [0.41995449],\n",
       "         [0.26352623],\n",
       "         [0.26352623],\n",
       "         [0.27774123],\n",
       "         [0.27774123],\n",
       "         [0.86860892],\n",
       "         [0.86860892],\n",
       "         [0.07249476],\n",
       "         [0.07249476],\n",
       "         [0.47793723],\n",
       "         [0.47793723],\n",
       "         [0.10055246],\n",
       "         [0.10055246],\n",
       "         [0.21290838],\n",
       "         [0.21290838],\n",
       "         [0.99910581],\n",
       "         [0.99910581],\n",
       "         [0.76572343],\n",
       "         [0.76572343],\n",
       "         [0.13303878],\n",
       "         [0.13303878],\n",
       "         [0.91330066],\n",
       "         [0.91330066],\n",
       "         [0.52677181],\n",
       "         [0.52677181],\n",
       "         [0.51733702],\n",
       "         [0.51733702],\n",
       "         [0.47318617],\n",
       "         [0.47318617],\n",
       "         [0.06518372],\n",
       "         [0.06518372],\n",
       "         [0.60850377],\n",
       "         [0.60850377],\n",
       "         [0.25159191],\n",
       "         [0.25159191],\n",
       "         [0.29018568],\n",
       "         [0.29018568],\n",
       "         [0.90659026],\n",
       "         [0.90659026],\n",
       "         [0.17347899],\n",
       "         [0.17347899],\n",
       "         [0.69289705],\n",
       "         [0.69289705],\n",
       "         [0.35149714],\n",
       "         [0.35149714],\n",
       "         [0.52980257],\n",
       "         [0.52980257],\n",
       "         [0.32965004],\n",
       "         [0.32965004],\n",
       "         [0.75181111],\n",
       "         [0.75181111],\n",
       "         [0.13111798],\n",
       "         [0.13111798],\n",
       "         [0.6506301 ],\n",
       "         [0.6506301 ],\n",
       "         [0.18870691],\n",
       "         [0.18870691],\n",
       "         [0.24700846],\n",
       "         [0.24700846],\n",
       "         [0.30538764],\n",
       "         [0.30538764],\n",
       "         [0.53717833],\n",
       "         [0.53717833],\n",
       "         [0.74250476],\n",
       "         [0.74250476],\n",
       "         [0.00455231],\n",
       "         [0.00455231],\n",
       "         [0.56071715],\n",
       "         [0.56071715],\n",
       "         [0.97199488],\n",
       "         [0.97199488],\n",
       "         [0.11893063],\n",
       "         [0.11893063],\n",
       "         [0.62272394],\n",
       "         [0.62272394],\n",
       "         [0.26860887],\n",
       "         [0.26860887],\n",
       "         [0.39049788],\n",
       "         [0.39049788],\n",
       "         [0.1418755 ],\n",
       "         [0.1418755 ],\n",
       "         [0.79893424],\n",
       "         [0.79893424],\n",
       "         [0.02316348],\n",
       "         [0.02316348],\n",
       "         [0.29801415],\n",
       "         [0.29801415],\n",
       "         [0.91104955],\n",
       "         [0.91104955],\n",
       "         [0.18237335],\n",
       "         [0.18237335],\n",
       "         [0.58313097],\n",
       "         [0.58313097],\n",
       "         [0.92090001],\n",
       "         [0.92090001],\n",
       "         [0.13286645],\n",
       "         [0.13286645],\n",
       "         [0.06123729],\n",
       "         [0.06123729],\n",
       "         [0.72423276],\n",
       "         [0.72423276],\n",
       "         [0.6443693 ],\n",
       "         [0.6443693 ],\n",
       "         [0.03364163],\n",
       "         [0.03364163],\n",
       "         [0.7694341 ],\n",
       "         [0.7694341 ]])}}"
      ]
     },
     "execution_count": 1,
     "metadata": {},
     "output_type": "execute_result"
    }
   ],
   "source": [
    "ds = load_by_id(run_id_a)\n",
    "ds.get_parameter_data('x1')"
   ]
  },
  {
   "cell_type": "code",
   "execution_count": null,
   "metadata": {},
   "outputs": [],
   "source": []
  }
 ],
 "metadata": {
  "kernelspec": {
   "display_name": "Python 3",
   "language": "python",
   "name": "python3"
  },
  "language_info": {
   "codemirror_mode": {
    "name": "ipython",
    "version": 3
   },
   "file_extension": ".py",
   "mimetype": "text/x-python",
   "name": "python",
   "nbconvert_exporter": "python",
   "pygments_lexer": "ipython3",
   "version": "3.7.10"
  },
  "nbsphinx": {
   "timeout": 600
  },
  "toc": {
   "base_numbering": 1,
   "nav_menu": {},
   "number_sections": true,
   "sideBar": true,
   "skip_h1_title": false,
   "title_cell": "Table of Contents",
   "title_sidebar": "Contents",
   "toc_cell": false,
   "toc_position": {},
   "toc_section_display": true,
   "toc_window_display": false
  },
  "varInspector": {
   "cols": {
    "lenName": 16,
    "lenType": 16,
    "lenVar": 40
   },
   "kernels_config": {
    "python": {
     "delete_cmd_postfix": "",
     "delete_cmd_prefix": "del ",
     "library": "var_list.py",
     "varRefreshCmd": "print(var_dic_list())"
    },
    "r": {
     "delete_cmd_postfix": ") ",
     "delete_cmd_prefix": "rm(",
     "library": "var_list.r",
     "varRefreshCmd": "cat(var_dic_list()) "
    }
   },
   "types_to_exclude": [
    "module",
    "function",
    "builtin_function_or_method",
    "instance",
    "_Feature"
   ],
   "window_display": false
  }
 },
 "nbformat": 4,
 "nbformat_minor": 4
}
