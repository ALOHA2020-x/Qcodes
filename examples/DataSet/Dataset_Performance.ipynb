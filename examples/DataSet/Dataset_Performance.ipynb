{
 "cells": [
  {
   "cell_type": "markdown",
   "metadata": {},
   "source": [
    "# DataSet Performance\n",
    "\n",
    "This notebook shows the trade-off between inserting data into a database row-by-row and as binary blobs. Inserting the data row-by-row means that we have direct access to all the data and may perform queries directly on the values of the data. On the other hand, as we shall see, this is much slower than inserting the data directly as binary blobs."
   ]
  },
  {
   "cell_type": "markdown",
   "metadata": {},
   "source": [
    "First, we choose a new location for the database to ensure that we don't add a bunch of benchmarking data to the default one."
   ]
  },
  {
   "cell_type": "code",
   "execution_count": 1,
   "metadata": {
    "execution": {
     "iopub.execute_input": "2020-12-11T09:33:36.062966Z",
     "iopub.status.busy": "2020-12-11T09:33:36.062112Z",
     "iopub.status.idle": "2020-12-11T09:33:37.203699Z",
     "shell.execute_reply": "2020-12-11T09:33:37.202705Z"
    }
   },
   "outputs": [
    {
     "name": "stdout",
     "output_type": "stream",
     "text": [
      "Logging hadn't been started.\n",
      "Activating auto-logging. Current session state plus future input saved.\n",
      "Filename       : /home/vsts/.qcodes/logs/command_history.log\n",
      "Mode           : append\n",
      "Output logging : True\n",
      "Raw input log  : False\n",
      "Timestamping   : True\n",
      "State          : active\n"
     ]
    },
    {
     "name": "stdout",
     "output_type": "stream",
     "text": [
      "Qcodes Logfile : /home/vsts/.qcodes/logs/201211-14554-qcodes.log\n"
     ]
    }
   ],
   "source": [
    "import os\n",
    "cwd = os.getcwd()\n",
    "import qcodes as qc\n",
    "qc.config[\"core\"][\"db_location\"] = os.path.join(cwd, 'testing.db')\n"
   ]
  },
  {
   "cell_type": "code",
   "execution_count": 2,
   "metadata": {
    "execution": {
     "iopub.execute_input": "2020-12-11T09:33:37.209879Z",
     "iopub.status.busy": "2020-12-11T09:33:37.208642Z",
     "iopub.status.idle": "2020-12-11T09:33:37.402458Z",
     "shell.execute_reply": "2020-12-11T09:33:37.401936Z"
    }
   },
   "outputs": [],
   "source": [
    "%matplotlib inline\n",
    "import time\n",
    "import matplotlib.pyplot as plt\n",
    "import numpy as np\n",
    "\n",
    "import qcodes as qc\n",
    "from qcodes.instrument.parameter import ManualParameter\n",
    "from qcodes.dataset.experiment_container import (Experiment,\n",
    "                                                 load_last_experiment,\n",
    "                                                 new_experiment)\n",
    "from qcodes.dataset.sqlite.database import initialise_database\n",
    "from qcodes import load_or_create_experiment\n",
    "from qcodes.dataset.measurements import Measurement"
   ]
  },
  {
   "cell_type": "code",
   "execution_count": 3,
   "metadata": {
    "execution": {
     "iopub.execute_input": "2020-12-11T09:33:37.406425Z",
     "iopub.status.busy": "2020-12-11T09:33:37.405733Z",
     "iopub.status.idle": "2020-12-11T09:33:37.515341Z",
     "shell.execute_reply": "2020-12-11T09:33:37.514583Z"
    }
   },
   "outputs": [
    {
     "name": "stdout",
     "output_type": "stream",
     "text": [
      "\r",
      "0it [00:00, ?it/s]"
     ]
    },
    {
     "name": "stdout",
     "output_type": "stream",
     "text": [
      "\r",
      "Upgrading database; v0 -> v1: : 0it [00:00, ?it/s]"
     ]
    },
    {
     "name": "stdout",
     "output_type": "stream",
     "text": [
      "\r",
      "Upgrading database; v0 -> v1: : 0it [00:00, ?it/s]"
     ]
    },
    {
     "name": "stdout",
     "output_type": "stream",
     "text": [
      "\n",
      "\r",
      "  0%|          | 0/1 [00:00<?, ?it/s]"
     ]
    },
    {
     "name": "stdout",
     "output_type": "stream",
     "text": [
      "\r",
      "Upgrading database; v1 -> v2:   0%|          | 0/1 [00:00<?, ?it/s]"
     ]
    },
    {
     "name": "stdout",
     "output_type": "stream",
     "text": [
      "\r",
      "Upgrading database; v1 -> v2: 100%|██████████| 1/1 [00:00<00:00, 492.64it/s]"
     ]
    },
    {
     "name": "stdout",
     "output_type": "stream",
     "text": [
      "\n",
      "\r",
      "0it [00:00, ?it/s]"
     ]
    },
    {
     "name": "stdout",
     "output_type": "stream",
     "text": [
      "\r",
      "Upgrading database; v2 -> v3: : 0it [00:00, ?it/s]"
     ]
    },
    {
     "name": "stdout",
     "output_type": "stream",
     "text": [
      "\r",
      "Upgrading database; v2 -> v3: : 0it [00:00, ?it/s]"
     ]
    },
    {
     "name": "stdout",
     "output_type": "stream",
     "text": [
      "\n",
      "\r",
      "0it [00:00, ?it/s]"
     ]
    },
    {
     "name": "stdout",
     "output_type": "stream",
     "text": [
      "\r",
      "Upgrading database; v3 -> v4: : 0it [00:00, ?it/s]"
     ]
    },
    {
     "name": "stdout",
     "output_type": "stream",
     "text": [
      "\r",
      "Upgrading database; v3 -> v4: : 0it [00:00, ?it/s]"
     ]
    },
    {
     "name": "stdout",
     "output_type": "stream",
     "text": [
      "\n",
      "\r",
      "  0%|          | 0/1 [00:00<?, ?it/s]"
     ]
    },
    {
     "name": "stdout",
     "output_type": "stream",
     "text": [
      "\r",
      "Upgrading database; v4 -> v5:   0%|          | 0/1 [00:00<?, ?it/s]"
     ]
    },
    {
     "name": "stdout",
     "output_type": "stream",
     "text": [
      "\r",
      "Upgrading database; v4 -> v5: 100%|██████████| 1/1 [00:00<00:00, 729.32it/s]"
     ]
    },
    {
     "name": "stdout",
     "output_type": "stream",
     "text": [
      "\n",
      "\r",
      "0it [00:00, ?it/s]"
     ]
    },
    {
     "name": "stdout",
     "output_type": "stream",
     "text": [
      "\r",
      "Upgrading database; v5 -> v6: : 0it [00:00, ?it/s]"
     ]
    },
    {
     "name": "stdout",
     "output_type": "stream",
     "text": [
      "\r",
      "Upgrading database; v5 -> v6: : 0it [00:00, ?it/s]"
     ]
    },
    {
     "name": "stdout",
     "output_type": "stream",
     "text": [
      "\n",
      "\r",
      "  0%|          | 0/1 [00:00<?, ?it/s]"
     ]
    },
    {
     "name": "stdout",
     "output_type": "stream",
     "text": [
      "\r",
      "Upgrading database; v6 -> v7:   0%|          | 0/1 [00:00<?, ?it/s]"
     ]
    },
    {
     "name": "stdout",
     "output_type": "stream",
     "text": [
      "\r",
      "Upgrading database; v6 -> v7: 100%|██████████| 1/1 [00:00<00:00, 341.75it/s]"
     ]
    },
    {
     "name": "stdout",
     "output_type": "stream",
     "text": [
      "\n",
      "\r",
      "  0%|          | 0/1 [00:00<?, ?it/s]"
     ]
    },
    {
     "name": "stdout",
     "output_type": "stream",
     "text": [
      "\r",
      "Upgrading database; v7 -> v8:   0%|          | 0/1 [00:00<?, ?it/s]"
     ]
    },
    {
     "name": "stdout",
     "output_type": "stream",
     "text": [
      "\r",
      "Upgrading database; v7 -> v8: 100%|██████████| 1/1 [00:00<00:00, 649.07it/s]"
     ]
    },
    {
     "name": "stdout",
     "output_type": "stream",
     "text": [
      "\n",
      "\r",
      "  0%|          | 0/1 [00:00<?, ?it/s]"
     ]
    },
    {
     "name": "stdout",
     "output_type": "stream",
     "text": [
      "\r",
      "Upgrading database; v8 -> v9:   0%|          | 0/1 [00:00<?, ?it/s]"
     ]
    },
    {
     "name": "stdout",
     "output_type": "stream",
     "text": [
      "\r",
      "Upgrading database; v8 -> v9: 100%|██████████| 1/1 [00:00<00:00, 470.00it/s]"
     ]
    },
    {
     "name": "stdout",
     "output_type": "stream",
     "text": [
      "\n"
     ]
    }
   ],
   "source": [
    "initialise_database()\n",
    "exp = load_or_create_experiment(experiment_name='tutorial_exp', sample_name=\"no sample\")"
   ]
  },
  {
   "cell_type": "markdown",
   "metadata": {},
   "source": [
    "Here, we define a simple function to benchmark the time it takes to insert n points with either numeric or array data type.\n",
    "We will compare both the time used to call ``add_result`` and the time used for the full measurement."
   ]
  },
  {
   "cell_type": "code",
   "execution_count": 4,
   "metadata": {
    "execution": {
     "iopub.execute_input": "2020-12-11T09:33:37.524748Z",
     "iopub.status.busy": "2020-12-11T09:33:37.524190Z",
     "iopub.status.idle": "2020-12-11T09:33:37.528659Z",
     "shell.execute_reply": "2020-12-11T09:33:37.528087Z"
    }
   },
   "outputs": [],
   "source": [
    "def insert_data(paramtype, npoints, nreps=1):\n",
    "\n",
    "    meas = Measurement(exp=exp)\n",
    "\n",
    "    x1 = ManualParameter('x1')\n",
    "    x2 = ManualParameter('x2')\n",
    "    x3 = ManualParameter('x3')\n",
    "    y1 = ManualParameter('y1')\n",
    "    y2 = ManualParameter('y2')\n",
    "\n",
    "    meas.register_parameter(x1, paramtype=paramtype)\n",
    "    meas.register_parameter(x2, paramtype=paramtype)\n",
    "    meas.register_parameter(x3, paramtype=paramtype)\n",
    "    meas.register_parameter(y1, setpoints=[x1, x2, x3],\n",
    "                            paramtype=paramtype)\n",
    "    meas.register_parameter(y2, setpoints=[x1, x2, x3],\n",
    "                            paramtype=paramtype)\n",
    "    start = time.perf_counter()\n",
    "    with meas.run() as datasaver:\n",
    "        start_adding = time.perf_counter()\n",
    "        for i in range(nreps):\n",
    "            datasaver.add_result((x1, np.random.rand(npoints)),\n",
    "                                 (x2, np.random.rand(npoints)),\n",
    "                                 (x3, np.random.rand(npoints)),\n",
    "                                 (y1, np.random.rand(npoints)),\n",
    "                                 (y2, np.random.rand(npoints)))\n",
    "        stop_adding = time.perf_counter()\n",
    "        run_id = datasaver.run_id\n",
    "    stop = time.perf_counter()\n",
    "    tot_time = stop - start\n",
    "    add_time = stop_adding - start_adding\n",
    "    return tot_time, add_time, run_id"
   ]
  },
  {
   "cell_type": "markdown",
   "metadata": {},
   "source": [
    "## Comparison between numeric/array data and binary blob"
   ]
  },
  {
   "cell_type": "markdown",
   "metadata": {},
   "source": [
    "### Case1: Short experiment time"
   ]
  },
  {
   "cell_type": "code",
   "execution_count": 5,
   "metadata": {
    "execution": {
     "iopub.execute_input": "2020-12-11T09:33:37.536039Z",
     "iopub.status.busy": "2020-12-11T09:33:37.535076Z",
     "iopub.status.idle": "2020-12-11T09:33:38.367895Z",
     "shell.execute_reply": "2020-12-11T09:33:38.367306Z"
    }
   },
   "outputs": [
    {
     "name": "stdout",
     "output_type": "stream",
     "text": [
      "Starting experimental run with id: 1. \n",
      "Starting experimental run with id: 2. \n",
      "Starting experimental run with id: 3. \n",
      "Starting experimental run with id: 4. \n",
      "Starting experimental run with id: 5. \n"
     ]
    },
    {
     "name": "stdout",
     "output_type": "stream",
     "text": [
      "Starting experimental run with id: 6. \n"
     ]
    },
    {
     "name": "stdout",
     "output_type": "stream",
     "text": [
      "Starting experimental run with id: 7. \n"
     ]
    },
    {
     "name": "stdout",
     "output_type": "stream",
     "text": [
      "Starting experimental run with id: 8. \n",
      "Starting experimental run with id: 9. \n"
     ]
    },
    {
     "name": "stdout",
     "output_type": "stream",
     "text": [
      "Starting experimental run with id: 10. \n",
      "Starting experimental run with id: 11. \n"
     ]
    },
    {
     "name": "stdout",
     "output_type": "stream",
     "text": [
      "Starting experimental run with id: 12. \n"
     ]
    },
    {
     "name": "stdout",
     "output_type": "stream",
     "text": [
      "Starting experimental run with id: 13. \n"
     ]
    },
    {
     "name": "stdout",
     "output_type": "stream",
     "text": [
      "Starting experimental run with id: 14. \n"
     ]
    }
   ],
   "source": [
    "sizes = [1,500,1000,2000,3000,4000,5000]\n",
    "t_numeric = []\n",
    "t_numeric_add = []\n",
    "t_array = []\n",
    "t_array_add = []\n",
    "for size in sizes:\n",
    "    tn, tna, run_id_n =  insert_data('numeric', size)\n",
    "    t_numeric.append(tn)\n",
    "    t_numeric_add.append(tna)\n",
    "\n",
    "    ta, taa, run_id_a =  insert_data('array', size)\n",
    "    t_array.append(ta)\n",
    "    t_array_add.append(taa)"
   ]
  },
  {
   "cell_type": "code",
   "execution_count": 6,
   "metadata": {
    "execution": {
     "iopub.execute_input": "2020-12-11T09:33:38.388096Z",
     "iopub.status.busy": "2020-12-11T09:33:38.387519Z",
     "iopub.status.idle": "2020-12-11T09:33:38.633276Z",
     "shell.execute_reply": "2020-12-11T09:33:38.632421Z"
    }
   },
   "outputs": [
    {
     "data": {
      "image/png": "[encoded data removed]",
      "text/plain": [
       "<Figure size 432x288 with 1 Axes>"
      ]
     },
     "metadata": {
      "needs_background": "light"
     },
     "output_type": "display_data"
    }
   ],
   "source": [
    "fig, ax = plt.subplots(1,1)\n",
    "ax.plot(sizes, t_numeric, 'o-', label='Inserting row-by-row')\n",
    "ax.plot(sizes, t_numeric_add, 'o-', label='Inserting row-by-row: add_result only')\n",
    "ax.plot(sizes, t_array, 'd-', label='Inserting as binary blob')\n",
    "ax.plot(sizes, t_array_add, 'd-', label='Inserting as binary blob: add_result only')\n",
    "ax.legend()\n",
    "ax.set_xlabel('Array length')\n",
    "ax.set_ylabel('Time (s)')\n",
    "fig.tight_layout()"
   ]
  },
  {
   "cell_type": "markdown",
   "metadata": {},
   "source": [
    "As shown in the latter figure, the time to setup and and close the experiment is approximately 0.4 sec. In case of small array sizes, the difference between inserting values of data as arrays and inserting them row-by-row is relatively unimportant. At larger array sizes, i.e. above 10000 points, the cost of writing data as individual datapoints starts to become important.\n"
   ]
  },
  {
   "cell_type": "markdown",
   "metadata": {},
   "source": [
    "### Case2: Long experiment time "
   ]
  },
  {
   "cell_type": "code",
   "execution_count": 7,
   "metadata": {
    "execution": {
     "iopub.execute_input": "2020-12-11T09:33:38.640442Z",
     "iopub.status.busy": "2020-12-11T09:33:38.638044Z",
     "iopub.status.idle": "2020-12-11T09:34:37.685733Z",
     "shell.execute_reply": "2020-12-11T09:34:37.685197Z"
    }
   },
   "outputs": [
    {
     "name": "stdout",
     "output_type": "stream",
     "text": [
      "Starting experimental run with id: 15. \n",
      "Starting experimental run with id: 16. \n",
      "Starting experimental run with id: 17. \n"
     ]
    },
    {
     "name": "stdout",
     "output_type": "stream",
     "text": [
      "Starting experimental run with id: 18. \n",
      "Starting experimental run with id: 19. \n"
     ]
    },
    {
     "name": "stdout",
     "output_type": "stream",
     "text": [
      "Starting experimental run with id: 20. \n"
     ]
    },
    {
     "name": "stdout",
     "output_type": "stream",
     "text": [
      "Starting experimental run with id: 21. \n"
     ]
    },
    {
     "name": "stdout",
     "output_type": "stream",
     "text": [
      "Starting experimental run with id: 22. \n"
     ]
    },
    {
     "name": "stdout",
     "output_type": "stream",
     "text": [
      "Starting experimental run with id: 23. \n"
     ]
    },
    {
     "name": "stdout",
     "output_type": "stream",
     "text": [
      "Starting experimental run with id: 24. \n"
     ]
    },
    {
     "name": "stdout",
     "output_type": "stream",
     "text": [
      "Starting experimental run with id: 25. \n"
     ]
    },
    {
     "name": "stdout",
     "output_type": "stream",
     "text": [
      "Starting experimental run with id: 26. \n"
     ]
    },
    {
     "name": "stdout",
     "output_type": "stream",
     "text": [
      "Starting experimental run with id: 27. \n"
     ]
    },
    {
     "name": "stdout",
     "output_type": "stream",
     "text": [
      "Starting experimental run with id: 28. \n"
     ]
    }
   ],
   "source": [
    "sizes = [1,500,1000,2000,3000,4000,5000]\n",
    "nreps = 100\n",
    "t_numeric = []\n",
    "t_numeric_add = []\n",
    "t_numeric_run_ids = []\n",
    "t_array = []\n",
    "t_array_add = []\n",
    "t_array_run_ids = []\n",
    "for size in sizes:\n",
    "    tn, tna, run_id_n =  insert_data('numeric', size, nreps=nreps)\n",
    "    t_numeric.append(tn)\n",
    "    t_numeric_add.append(tna)\n",
    "    t_numeric_run_ids.append(run_id_n)\n",
    "\n",
    "    ta, taa, run_id_a =  insert_data('array', size, nreps=nreps)\n",
    "    t_array.append(ta)\n",
    "    t_array_add.append(taa)\n",
    "    t_array_run_ids.append(run_id_a)"
   ]
  },
  {
   "cell_type": "code",
   "execution_count": 8,
   "metadata": {
    "execution": {
     "iopub.execute_input": "2020-12-11T09:34:37.710681Z",
     "iopub.status.busy": "2020-12-11T09:34:37.708121Z",
     "iopub.status.idle": "2020-12-11T09:34:37.938924Z",
     "shell.execute_reply": "2020-12-11T09:34:37.939407Z"
    },
    "scrolled": true
   },
   "outputs": [
    {
     "data": {
      "image/png": "[encoded data removed]",
      "text/plain": [
       "<Figure size 432x288 with 1 Axes>"
      ]
     },
     "metadata": {
      "needs_background": "light"
     },
     "output_type": "display_data"
    }
   ],
   "source": [
    "fig, ax = plt.subplots(1,1)\n",
    "ax.plot(sizes, t_numeric, 'o-', label='Inserting row-by-row')\n",
    "ax.plot(sizes, t_numeric_add, 'o-', label='Inserting row-by-row: add_result only')\n",
    "ax.plot(sizes, t_array, 'd-', label='Inserting as binary blob')\n",
    "ax.plot(sizes, t_array_add, 'd-', label='Inserting as binary blob: add_result only')\n",
    "ax.legend()\n",
    "ax.set_xlabel('Array length')\n",
    "ax.set_ylabel('Time (s)')\n",
    "fig.tight_layout()"
   ]
  },
  {
   "cell_type": "markdown",
   "metadata": {},
   "source": [
    "However, as we increase the length of the experiment, as seen here by repeating the insertion 100 times, we see a big difference between inserting values of the data row-by-row and inserting it as a binary blob."
   ]
  },
  {
   "cell_type": "markdown",
   "metadata": {},
   "source": [
    "## Loading the data "
   ]
  },
  {
   "cell_type": "code",
   "execution_count": 9,
   "metadata": {
    "execution": {
     "iopub.execute_input": "2020-12-11T09:34:37.944259Z",
     "iopub.status.busy": "2020-12-11T09:34:37.943084Z",
     "iopub.status.idle": "2020-12-11T09:34:37.946151Z",
     "shell.execute_reply": "2020-12-11T09:34:37.946693Z"
    }
   },
   "outputs": [],
   "source": [
    "from qcodes.dataset.data_set import load_by_id\n",
    "from qcodes.dataset.data_export import get_data_by_id"
   ]
  },
  {
   "cell_type": "markdown",
   "metadata": {},
   "source": [
    "As usual you can load the data by using the ``load_by_id`` function but you will notice that the different storage methods\n",
    "are reflected in shape of the data as it is retrieved. "
   ]
  },
  {
   "cell_type": "code",
   "execution_count": 10,
   "metadata": {
    "execution": {
     "iopub.execute_input": "2020-12-11T09:34:37.951346Z",
     "iopub.status.busy": "2020-12-11T09:34:37.950085Z",
     "iopub.status.idle": "2020-12-11T09:34:37.951944Z",
     "shell.execute_reply": "2020-12-11T09:34:37.952559Z"
    }
   },
   "outputs": [],
   "source": [
    "run_id_n = t_numeric_run_ids[0]\n",
    "run_id_a = t_array_run_ids[0]"
   ]
  },
  {
   "cell_type": "code",
   "execution_count": 11,
   "metadata": {
    "execution": {
     "iopub.execute_input": "2020-12-11T09:34:37.956023Z",
     "iopub.status.busy": "2020-12-11T09:34:37.955425Z",
     "iopub.status.idle": "2020-12-11T09:34:37.969026Z",
     "shell.execute_reply": "2020-12-11T09:34:37.969593Z"
    },
    "scrolled": true
   },
   "outputs": [
    {
     "data": {
      "text/plain": [
       "{'x1': {'x1': array([0.22954954, 0.22954954, 0.42802801, 0.42802801, 0.52415811,\n",
       "         0.52415811, 0.77766539, 0.77766539, 0.97602586, 0.97602586,\n",
       "         0.74227969, 0.74227969, 0.24311319, 0.24311319, 0.4375906 ,\n",
       "         0.4375906 , 0.56972879, 0.56972879, 0.06037117, 0.06037117,\n",
       "         0.09868943, 0.09868943, 0.58784263, 0.58784263, 0.03329113,\n",
       "         0.03329113, 0.55757783, 0.55757783, 0.90534815, 0.90534815,\n",
       "         0.86626251, 0.86626251, 0.36251964, 0.36251964, 0.24538248,\n",
       "         0.24538248, 0.82040701, 0.82040701, 0.08969569, 0.08969569,\n",
       "         0.48466463, 0.48466463, 0.73862214, 0.73862214, 0.12197039,\n",
       "         0.12197039, 0.9940199 , 0.9940199 , 0.98324717, 0.98324717,\n",
       "         0.18041305, 0.18041305, 0.22719727, 0.22719727, 0.68922944,\n",
       "         0.68922944, 0.83820308, 0.83820308, 0.98485723, 0.98485723,\n",
       "         0.32651333, 0.32651333, 0.38042111, 0.38042111, 0.84980074,\n",
       "         0.84980074, 0.25876105, 0.25876105, 0.42995545, 0.42995545,\n",
       "         0.9728526 , 0.9728526 , 0.92361284, 0.92361284, 0.16394684,\n",
       "         0.16394684, 0.40955664, 0.40955664, 0.22596073, 0.22596073,\n",
       "         0.57506012, 0.57506012, 0.75568759, 0.75568759, 0.93843725,\n",
       "         0.93843725, 0.36325115, 0.36325115, 0.86184053, 0.86184053,\n",
       "         0.55218879, 0.55218879, 0.98679322, 0.98679322, 0.80726266,\n",
       "         0.80726266, 0.80300014, 0.80300014, 0.08364598, 0.08364598,\n",
       "         0.36135382, 0.36135382, 0.63388212, 0.63388212, 0.59670819,\n",
       "         0.59670819, 0.78064446, 0.78064446, 0.58192731, 0.58192731,\n",
       "         0.18321372, 0.18321372, 0.95489833, 0.95489833, 0.32071864,\n",
       "         0.32071864, 0.5453535 , 0.5453535 , 0.41821083, 0.41821083,\n",
       "         0.91677535, 0.91677535, 0.70628987, 0.70628987, 0.29453833,\n",
       "         0.29453833, 0.58176489, 0.58176489, 0.29364304, 0.29364304,\n",
       "         0.01587628, 0.01587628, 0.45807859, 0.45807859, 0.03105525,\n",
       "         0.03105525, 0.65279354, 0.65279354, 0.034603  , 0.034603  ,\n",
       "         0.84040974, 0.84040974, 0.25600208, 0.25600208, 0.56939685,\n",
       "         0.56939685, 0.70672746, 0.70672746, 0.675767  , 0.675767  ,\n",
       "         0.08720113, 0.08720113, 0.27149363, 0.27149363, 0.76427061,\n",
       "         0.76427061, 0.14836381, 0.14836381, 0.56766421, 0.56766421,\n",
       "         0.26405464, 0.26405464, 0.07705646, 0.07705646, 0.63577489,\n",
       "         0.63577489, 0.72434725, 0.72434725, 0.17823789, 0.17823789,\n",
       "         0.95229804, 0.95229804, 0.28527471, 0.28527471, 0.18282313,\n",
       "         0.18282313, 0.73823039, 0.73823039, 0.9756947 , 0.9756947 ,\n",
       "         0.0422723 , 0.0422723 , 0.42339398, 0.42339398, 0.48064783,\n",
       "         0.48064783, 0.94750418, 0.94750418, 0.86976064, 0.86976064,\n",
       "         0.0245128 , 0.0245128 , 0.35013548, 0.35013548, 0.75509826,\n",
       "         0.75509826, 0.558539  , 0.558539  , 0.5242433 , 0.5242433 ])}}"
      ]
     },
     "execution_count": 1,
     "metadata": {},
     "output_type": "execute_result"
    }
   ],
   "source": [
    "ds = load_by_id(run_id_n)\n",
    "ds.get_parameter_data('x1')"
   ]
  },
  {
   "cell_type": "markdown",
   "metadata": {},
   "source": [
    "And a dataset stored as binary arrays"
   ]
  },
  {
   "cell_type": "code",
   "execution_count": 12,
   "metadata": {
    "execution": {
     "iopub.execute_input": "2020-12-11T09:34:37.973051Z",
     "iopub.status.busy": "2020-12-11T09:34:37.972514Z",
     "iopub.status.idle": "2020-12-11T09:34:38.039735Z",
     "shell.execute_reply": "2020-12-11T09:34:38.040327Z"
    },
    "scrolled": true
   },
   "outputs": [
    {
     "data": {
      "text/plain": [
       "{'x1': {'x1': array([[0.42272392],\n",
       "         [0.42272392],\n",
       "         [0.05104859],\n",
       "         [0.05104859],\n",
       "         [0.53092262],\n",
       "         [0.53092262],\n",
       "         [0.9957391 ],\n",
       "         [0.9957391 ],\n",
       "         [0.01593763],\n",
       "         [0.01593763],\n",
       "         [0.57372324],\n",
       "         [0.57372324],\n",
       "         [0.10389873],\n",
       "         [0.10389873],\n",
       "         [0.50428419],\n",
       "         [0.50428419],\n",
       "         [0.6196975 ],\n",
       "         [0.6196975 ],\n",
       "         [0.25033694],\n",
       "         [0.25033694],\n",
       "         [0.14370317],\n",
       "         [0.14370317],\n",
       "         [0.76315764],\n",
       "         [0.76315764],\n",
       "         [0.60938967],\n",
       "         [0.60938967],\n",
       "         [0.12791266],\n",
       "         [0.12791266],\n",
       "         [0.36350501],\n",
       "         [0.36350501],\n",
       "         [0.97691247],\n",
       "         [0.97691247],\n",
       "         [0.93338295],\n",
       "         [0.93338295],\n",
       "         [0.37544004],\n",
       "         [0.37544004],\n",
       "         [0.62312288],\n",
       "         [0.62312288],\n",
       "         [0.64698213],\n",
       "         [0.64698213],\n",
       "         [0.07775243],\n",
       "         [0.07775243],\n",
       "         [0.64373451],\n",
       "         [0.64373451],\n",
       "         [0.93130365],\n",
       "         [0.93130365],\n",
       "         [0.67758746],\n",
       "         [0.67758746],\n",
       "         [0.9954383 ],\n",
       "         [0.9954383 ],\n",
       "         [0.89256589],\n",
       "         [0.89256589],\n",
       "         [0.37005127],\n",
       "         [0.37005127],\n",
       "         [0.96541184],\n",
       "         [0.96541184],\n",
       "         [0.94999372],\n",
       "         [0.94999372],\n",
       "         [0.36945864],\n",
       "         [0.36945864],\n",
       "         [0.55221993],\n",
       "         [0.55221993],\n",
       "         [0.52712427],\n",
       "         [0.52712427],\n",
       "         [0.98800901],\n",
       "         [0.98800901],\n",
       "         [0.29923138],\n",
       "         [0.29923138],\n",
       "         [0.97388098],\n",
       "         [0.97388098],\n",
       "         [0.3981454 ],\n",
       "         [0.3981454 ],\n",
       "         [0.48747107],\n",
       "         [0.48747107],\n",
       "         [0.67689001],\n",
       "         [0.67689001],\n",
       "         [0.73632895],\n",
       "         [0.73632895],\n",
       "         [0.40219815],\n",
       "         [0.40219815],\n",
       "         [0.61876724],\n",
       "         [0.61876724],\n",
       "         [0.44089472],\n",
       "         [0.44089472],\n",
       "         [0.65572451],\n",
       "         [0.65572451],\n",
       "         [0.59631459],\n",
       "         [0.59631459],\n",
       "         [0.01806947],\n",
       "         [0.01806947],\n",
       "         [0.60336582],\n",
       "         [0.60336582],\n",
       "         [0.95582701],\n",
       "         [0.95582701],\n",
       "         [0.43078255],\n",
       "         [0.43078255],\n",
       "         [0.78326841],\n",
       "         [0.78326841],\n",
       "         [0.62660281],\n",
       "         [0.62660281],\n",
       "         [0.93866687],\n",
       "         [0.93866687],\n",
       "         [0.81592706],\n",
       "         [0.81592706],\n",
       "         [0.67591544],\n",
       "         [0.67591544],\n",
       "         [0.4443695 ],\n",
       "         [0.4443695 ],\n",
       "         [0.32915701],\n",
       "         [0.32915701],\n",
       "         [0.8252184 ],\n",
       "         [0.8252184 ],\n",
       "         [0.29313621],\n",
       "         [0.29313621],\n",
       "         [0.827317  ],\n",
       "         [0.827317  ],\n",
       "         [0.37337216],\n",
       "         [0.37337216],\n",
       "         [0.12266693],\n",
       "         [0.12266693],\n",
       "         [0.2355977 ],\n",
       "         [0.2355977 ],\n",
       "         [0.97410049],\n",
       "         [0.97410049],\n",
       "         [0.32744447],\n",
       "         [0.32744447],\n",
       "         [0.62676113],\n",
       "         [0.62676113],\n",
       "         [0.11257162],\n",
       "         [0.11257162],\n",
       "         [0.93419139],\n",
       "         [0.93419139],\n",
       "         [0.86063709],\n",
       "         [0.86063709],\n",
       "         [0.90720715],\n",
       "         [0.90720715],\n",
       "         [0.72725615],\n",
       "         [0.72725615],\n",
       "         [0.45548462],\n",
       "         [0.45548462],\n",
       "         [0.5054997 ],\n",
       "         [0.5054997 ],\n",
       "         [0.80966177],\n",
       "         [0.80966177],\n",
       "         [0.47768081],\n",
       "         [0.47768081],\n",
       "         [0.757028  ],\n",
       "         [0.757028  ],\n",
       "         [0.12776542],\n",
       "         [0.12776542],\n",
       "         [0.07880698],\n",
       "         [0.07880698],\n",
       "         [0.36648641],\n",
       "         [0.36648641],\n",
       "         [0.7952305 ],\n",
       "         [0.7952305 ],\n",
       "         [0.31221786],\n",
       "         [0.31221786],\n",
       "         [0.8036638 ],\n",
       "         [0.8036638 ],\n",
       "         [0.59817992],\n",
       "         [0.59817992],\n",
       "         [0.48419616],\n",
       "         [0.48419616],\n",
       "         [0.83009378],\n",
       "         [0.83009378],\n",
       "         [0.61611845],\n",
       "         [0.61611845],\n",
       "         [0.1061483 ],\n",
       "         [0.1061483 ],\n",
       "         [0.15690461],\n",
       "         [0.15690461],\n",
       "         [0.97815548],\n",
       "         [0.97815548],\n",
       "         [0.56929426],\n",
       "         [0.56929426],\n",
       "         [0.01442945],\n",
       "         [0.01442945],\n",
       "         [0.82901286],\n",
       "         [0.82901286],\n",
       "         [0.39679228],\n",
       "         [0.39679228],\n",
       "         [0.40531599],\n",
       "         [0.40531599],\n",
       "         [0.10345934],\n",
       "         [0.10345934],\n",
       "         [0.99856529],\n",
       "         [0.99856529],\n",
       "         [0.24688085],\n",
       "         [0.24688085],\n",
       "         [0.56352468],\n",
       "         [0.56352468],\n",
       "         [0.78971303],\n",
       "         [0.78971303],\n",
       "         [0.51822302],\n",
       "         [0.51822302],\n",
       "         [0.57531487],\n",
       "         [0.57531487],\n",
       "         [0.44451867],\n",
       "         [0.44451867]])}}"
      ]
     },
     "execution_count": 1,
     "metadata": {},
     "output_type": "execute_result"
    }
   ],
   "source": [
    "ds = load_by_id(run_id_a)\n",
    "ds.get_parameter_data('x1')"
   ]
  },
  {
   "cell_type": "code",
   "execution_count": null,
   "metadata": {},
   "outputs": [],
   "source": []
  }
 ],
 "metadata": {
  "kernelspec": {
   "display_name": "Python 3",
   "language": "python",
   "name": "python3"
  },
  "language_info": {
   "codemirror_mode": {
    "name": "ipython",
    "version": 3
   },
   "file_extension": ".py",
   "mimetype": "text/x-python",
   "name": "python",
   "nbconvert_exporter": "python",
   "pygments_lexer": "ipython3",
   "version": "3.7.9"
  },
  "nbsphinx": {
   "timeout": 600
  },
  "toc": {
   "base_numbering": 1,
   "nav_menu": {},
   "number_sections": true,
   "sideBar": true,
   "skip_h1_title": false,
   "title_cell": "Table of Contents",
   "title_sidebar": "Contents",
   "toc_cell": false,
   "toc_position": {},
   "toc_section_display": true,
   "toc_window_display": false
  },
  "varInspector": {
   "cols": {
    "lenName": 16,
    "lenType": 16,
    "lenVar": 40
   },
   "kernels_config": {
    "python": {
     "delete_cmd_postfix": "",
     "delete_cmd_prefix": "del ",
     "library": "var_list.py",
     "varRefreshCmd": "print(var_dic_list())"
    },
    "r": {
     "delete_cmd_postfix": ") ",
     "delete_cmd_prefix": "rm(",
     "library": "var_list.r",
     "varRefreshCmd": "cat(var_dic_list()) "
    }
   },
   "types_to_exclude": [
    "module",
    "function",
    "builtin_function_or_method",
    "instance",
    "_Feature"
   ],
   "window_display": false
  }
 },
 "nbformat": 4,
 "nbformat_minor": 2
}
