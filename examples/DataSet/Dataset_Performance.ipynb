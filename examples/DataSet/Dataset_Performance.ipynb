{
 "cells": [
  {
   "cell_type": "markdown",
   "metadata": {},
   "source": [
    "# DataSet Performance\n",
    "\n",
    "This notebook shows the trade-off between inserting data into a database row-by-row and as binary blobs. Inserting the data row-by-row means that we have direct access to all the data and may perform queries directly on the values of the data. On the other hand, as we shall see, this is much slower than inserting the data directly as binary blobs."
   ]
  },
  {
   "cell_type": "markdown",
   "metadata": {},
   "source": [
    "First, we choose a new location for the database to ensure that we don't add a bunch of benchmarking data to the default one."
   ]
  },
  {
   "cell_type": "code",
   "execution_count": 1,
   "metadata": {
    "execution": {
     "iopub.execute_input": "2021-04-06T06:16:04.311549Z",
     "iopub.status.busy": "2021-04-06T06:16:04.311073Z",
     "iopub.status.idle": "2021-04-06T06:16:05.183135Z",
     "shell.execute_reply": "2021-04-06T06:16:05.182521Z"
    }
   },
   "outputs": [
    {
     "name": "stdout",
     "output_type": "stream",
     "text": [
      "Logging hadn't been started.\n",
      "Activating auto-logging. Current session state plus future input saved.\n",
      "Filename       : /home/runner/.qcodes/logs/command_history.log\n",
      "Mode           : append\n",
      "Output logging : True\n",
      "Raw input log  : False\n",
      "Timestamping   : True\n",
      "State          : active\n"
     ]
    },
    {
     "name": "stdout",
     "output_type": "stream",
     "text": [
      "Qcodes Logfile : /home/runner/.qcodes/logs/210406-4829-qcodes.log\n"
     ]
    }
   ],
   "source": [
    "import os\n",
    "cwd = os.getcwd()\n",
    "import qcodes as qc\n",
    "qc.config[\"core\"][\"db_location\"] = os.path.join(cwd, 'testing.db')\n"
   ]
  },
  {
   "cell_type": "code",
   "execution_count": 2,
   "metadata": {
    "execution": {
     "iopub.execute_input": "2021-04-06T06:16:05.189638Z",
     "iopub.status.busy": "2021-04-06T06:16:05.188338Z",
     "iopub.status.idle": "2021-04-06T06:16:05.395602Z",
     "shell.execute_reply": "2021-04-06T06:16:05.394735Z"
    }
   },
   "outputs": [],
   "source": [
    "%matplotlib inline\n",
    "import time\n",
    "import matplotlib.pyplot as plt\n",
    "import numpy as np\n",
    "\n",
    "import qcodes as qc\n",
    "from qcodes.instrument.parameter import ManualParameter\n",
    "from qcodes.dataset.experiment_container import (Experiment,\n",
    "                                                 load_last_experiment,\n",
    "                                                 new_experiment)\n",
    "from qcodes.dataset.sqlite.database import initialise_database\n",
    "from qcodes import load_or_create_experiment\n",
    "from qcodes.dataset.measurements import Measurement"
   ]
  },
  {
   "cell_type": "code",
   "execution_count": 3,
   "metadata": {
    "execution": {
     "iopub.execute_input": "2021-04-06T06:16:05.399230Z",
     "iopub.status.busy": "2021-04-06T06:16:05.398655Z",
     "iopub.status.idle": "2021-04-06T06:16:05.454766Z",
     "shell.execute_reply": "2021-04-06T06:16:05.454336Z"
    }
   },
   "outputs": [
    {
     "name": "stdout",
     "output_type": "stream",
     "text": [
      "\r",
      "0it [00:00, ?it/s]"
     ]
    },
    {
     "name": "stdout",
     "output_type": "stream",
     "text": [
      "\r",
      "Upgrading database; v0 -> v1: : 0it [00:00, ?it/s]"
     ]
    },
    {
     "name": "stdout",
     "output_type": "stream",
     "text": [
      "\r",
      "Upgrading database; v0 -> v1: : 0it [00:00, ?it/s]"
     ]
    },
    {
     "name": "stdout",
     "output_type": "stream",
     "text": [
      "\n",
      "\r",
      "  0%|          | 0/1 [00:00<?, ?it/s]"
     ]
    },
    {
     "name": "stdout",
     "output_type": "stream",
     "text": [
      "\r",
      "Upgrading database; v1 -> v2:   0%|          | 0/1 [00:00<?, ?it/s]"
     ]
    },
    {
     "name": "stdout",
     "output_type": "stream",
     "text": [
      "\r",
      "Upgrading database; v1 -> v2: 100%|██████████| 1/1 [00:00<00:00, 1320.21it/s]"
     ]
    },
    {
     "name": "stdout",
     "output_type": "stream",
     "text": [
      "\n",
      "\r",
      "0it [00:00, ?it/s]"
     ]
    },
    {
     "name": "stdout",
     "output_type": "stream",
     "text": [
      "\r",
      "Upgrading database; v2 -> v3: : 0it [00:00, ?it/s]"
     ]
    },
    {
     "name": "stdout",
     "output_type": "stream",
     "text": [
      "\r",
      "Upgrading database; v2 -> v3: : 0it [00:00, ?it/s]"
     ]
    },
    {
     "name": "stdout",
     "output_type": "stream",
     "text": [
      "\n",
      "\r",
      "0it [00:00, ?it/s]"
     ]
    },
    {
     "name": "stdout",
     "output_type": "stream",
     "text": [
      "\r",
      "Upgrading database; v3 -> v4: : 0it [00:00, ?it/s]"
     ]
    },
    {
     "name": "stdout",
     "output_type": "stream",
     "text": [
      "\r",
      "Upgrading database; v3 -> v4: : 0it [00:00, ?it/s]"
     ]
    },
    {
     "name": "stdout",
     "output_type": "stream",
     "text": [
      "\n",
      "\r",
      "  0%|          | 0/1 [00:00<?, ?it/s]"
     ]
    },
    {
     "name": "stdout",
     "output_type": "stream",
     "text": [
      "\r",
      "Upgrading database; v4 -> v5:   0%|          | 0/1 [00:00<?, ?it/s]"
     ]
    },
    {
     "name": "stdout",
     "output_type": "stream",
     "text": [
      "\r",
      "Upgrading database; v4 -> v5: 100%|██████████| 1/1 [00:00<00:00, 979.98it/s]"
     ]
    },
    {
     "name": "stdout",
     "output_type": "stream",
     "text": [
      "\n",
      "\r",
      "0it [00:00, ?it/s]"
     ]
    },
    {
     "name": "stdout",
     "output_type": "stream",
     "text": [
      "\r",
      "Upgrading database; v5 -> v6: : 0it [00:00, ?it/s]"
     ]
    },
    {
     "name": "stdout",
     "output_type": "stream",
     "text": [
      "\r",
      "Upgrading database; v5 -> v6: : 0it [00:00, ?it/s]"
     ]
    },
    {
     "name": "stdout",
     "output_type": "stream",
     "text": [
      "\n",
      "\r",
      "  0%|          | 0/1 [00:00<?, ?it/s]"
     ]
    },
    {
     "name": "stdout",
     "output_type": "stream",
     "text": [
      "\r",
      "Upgrading database; v6 -> v7:   0%|          | 0/1 [00:00<?, ?it/s]"
     ]
    },
    {
     "name": "stdout",
     "output_type": "stream",
     "text": [
      "\r",
      "Upgrading database; v6 -> v7: 100%|██████████| 1/1 [00:00<00:00, 408.80it/s]"
     ]
    },
    {
     "name": "stdout",
     "output_type": "stream",
     "text": [
      "\n",
      "\r",
      "  0%|          | 0/1 [00:00<?, ?it/s]"
     ]
    },
    {
     "name": "stdout",
     "output_type": "stream",
     "text": [
      "\r",
      "Upgrading database; v7 -> v8:   0%|          | 0/1 [00:00<?, ?it/s]"
     ]
    },
    {
     "name": "stdout",
     "output_type": "stream",
     "text": [
      "\r",
      "Upgrading database; v7 -> v8: 100%|██████████| 1/1 [00:00<00:00, 517.50it/s]"
     ]
    },
    {
     "name": "stdout",
     "output_type": "stream",
     "text": [
      "\n",
      "\r",
      "  0%|          | 0/1 [00:00<?, ?it/s]"
     ]
    },
    {
     "name": "stdout",
     "output_type": "stream",
     "text": [
      "\r",
      "Upgrading database; v8 -> v9:   0%|          | 0/1 [00:00<?, ?it/s]"
     ]
    },
    {
     "name": "stdout",
     "output_type": "stream",
     "text": [
      "\r",
      "Upgrading database; v8 -> v9: 100%|██████████| 1/1 [00:00<00:00, 542.46it/s]"
     ]
    },
    {
     "name": "stdout",
     "output_type": "stream",
     "text": [
      "\n"
     ]
    }
   ],
   "source": [
    "initialise_database()\n",
    "exp = load_or_create_experiment(experiment_name='tutorial_exp', sample_name=\"no sample\")"
   ]
  },
  {
   "cell_type": "markdown",
   "metadata": {},
   "source": [
    "Here, we define a simple function to benchmark the time it takes to insert n points with either numeric or array data type.\n",
    "We will compare both the time used to call ``add_result`` and the time used for the full measurement."
   ]
  },
  {
   "cell_type": "code",
   "execution_count": 4,
   "metadata": {
    "execution": {
     "iopub.execute_input": "2021-04-06T06:16:05.462168Z",
     "iopub.status.busy": "2021-04-06T06:16:05.460903Z",
     "iopub.status.idle": "2021-04-06T06:16:05.464628Z",
     "shell.execute_reply": "2021-04-06T06:16:05.465034Z"
    }
   },
   "outputs": [],
   "source": [
    "def insert_data(paramtype, npoints, nreps=1):\n",
    "\n",
    "    meas = Measurement(exp=exp)\n",
    "\n",
    "    x1 = ManualParameter('x1')\n",
    "    x2 = ManualParameter('x2')\n",
    "    x3 = ManualParameter('x3')\n",
    "    y1 = ManualParameter('y1')\n",
    "    y2 = ManualParameter('y2')\n",
    "\n",
    "    meas.register_parameter(x1, paramtype=paramtype)\n",
    "    meas.register_parameter(x2, paramtype=paramtype)\n",
    "    meas.register_parameter(x3, paramtype=paramtype)\n",
    "    meas.register_parameter(y1, setpoints=[x1, x2, x3],\n",
    "                            paramtype=paramtype)\n",
    "    meas.register_parameter(y2, setpoints=[x1, x2, x3],\n",
    "                            paramtype=paramtype)\n",
    "    start = time.perf_counter()\n",
    "    with meas.run() as datasaver:\n",
    "        start_adding = time.perf_counter()\n",
    "        for i in range(nreps):\n",
    "            datasaver.add_result((x1, np.random.rand(npoints)),\n",
    "                                 (x2, np.random.rand(npoints)),\n",
    "                                 (x3, np.random.rand(npoints)),\n",
    "                                 (y1, np.random.rand(npoints)),\n",
    "                                 (y2, np.random.rand(npoints)))\n",
    "        stop_adding = time.perf_counter()\n",
    "        run_id = datasaver.run_id\n",
    "    stop = time.perf_counter()\n",
    "    tot_time = stop - start\n",
    "    add_time = stop_adding - start_adding\n",
    "    return tot_time, add_time, run_id"
   ]
  },
  {
   "cell_type": "markdown",
   "metadata": {},
   "source": [
    "## Comparison between numeric/array data and binary blob"
   ]
  },
  {
   "cell_type": "markdown",
   "metadata": {},
   "source": [
    "### Case1: Short experiment time"
   ]
  },
  {
   "cell_type": "code",
   "execution_count": 5,
   "metadata": {
    "execution": {
     "iopub.execute_input": "2021-04-06T06:16:05.470537Z",
     "iopub.status.busy": "2021-04-06T06:16:05.469542Z",
     "iopub.status.idle": "2021-04-06T06:16:06.190102Z",
     "shell.execute_reply": "2021-04-06T06:16:06.189659Z"
    }
   },
   "outputs": [
    {
     "name": "stdout",
     "output_type": "stream",
     "text": [
      "Starting experimental run with id: 1. \n",
      "Starting experimental run with id: 2. \n",
      "Starting experimental run with id: 3. \n",
      "Starting experimental run with id: 4. \n",
      "Starting experimental run with id: 5. \n",
      "Starting experimental run with id: 6. \n",
      "Starting experimental run with id: 7. \n"
     ]
    },
    {
     "name": "stdout",
     "output_type": "stream",
     "text": [
      "Starting experimental run with id: 8. \n"
     ]
    },
    {
     "name": "stdout",
     "output_type": "stream",
     "text": [
      "Starting experimental run with id: 9. \n",
      "Starting experimental run with id: 10. \n",
      "Starting experimental run with id: 11. \n"
     ]
    },
    {
     "name": "stdout",
     "output_type": "stream",
     "text": [
      "Starting experimental run with id: 12. \n",
      "Starting experimental run with id: 13. \n",
      "Starting experimental run with id: 14. \n"
     ]
    }
   ],
   "source": [
    "sizes = [1,500,1000,2000,3000,4000,5000]\n",
    "t_numeric = []\n",
    "t_numeric_add = []\n",
    "t_array = []\n",
    "t_array_add = []\n",
    "for size in sizes:\n",
    "    tn, tna, run_id_n =  insert_data('numeric', size)\n",
    "    t_numeric.append(tn)\n",
    "    t_numeric_add.append(tna)\n",
    "\n",
    "    ta, taa, run_id_a =  insert_data('array', size)\n",
    "    t_array.append(ta)\n",
    "    t_array_add.append(taa)"
   ]
  },
  {
   "cell_type": "code",
   "execution_count": 6,
   "metadata": {
    "execution": {
     "iopub.execute_input": "2021-04-06T06:16:06.215230Z",
     "iopub.status.busy": "2021-04-06T06:16:06.205911Z",
     "iopub.status.idle": "2021-04-06T06:16:06.375317Z",
     "shell.execute_reply": "2021-04-06T06:16:06.374896Z"
    }
   },
   "outputs": [
    {
     "data": {
      "image/png": "[encoded data removed]",
      "text/plain": [
       "<Figure size 432x288 with 1 Axes>"
      ]
     },
     "metadata": {
      "needs_background": "light"
     },
     "output_type": "display_data"
    }
   ],
   "source": [
    "fig, ax = plt.subplots(1,1)\n",
    "ax.plot(sizes, t_numeric, 'o-', label='Inserting row-by-row')\n",
    "ax.plot(sizes, t_numeric_add, 'o-', label='Inserting row-by-row: add_result only')\n",
    "ax.plot(sizes, t_array, 'd-', label='Inserting as binary blob')\n",
    "ax.plot(sizes, t_array_add, 'd-', label='Inserting as binary blob: add_result only')\n",
    "ax.legend()\n",
    "ax.set_xlabel('Array length')\n",
    "ax.set_ylabel('Time (s)')\n",
    "fig.tight_layout()"
   ]
  },
  {
   "cell_type": "markdown",
   "metadata": {},
   "source": [
    "As shown in the latter figure, the time to setup and and close the experiment is approximately 0.4 sec. In case of small array sizes, the difference between inserting values of data as arrays and inserting them row-by-row is relatively unimportant. At larger array sizes, i.e. above 10000 points, the cost of writing data as individual datapoints starts to become important.\n"
   ]
  },
  {
   "cell_type": "markdown",
   "metadata": {},
   "source": [
    "### Case2: Long experiment time "
   ]
  },
  {
   "cell_type": "code",
   "execution_count": 7,
   "metadata": {
    "execution": {
     "iopub.execute_input": "2021-04-06T06:16:06.381935Z",
     "iopub.status.busy": "2021-04-06T06:16:06.381248Z",
     "iopub.status.idle": "2021-04-06T06:16:56.802529Z",
     "shell.execute_reply": "2021-04-06T06:16:56.801689Z"
    }
   },
   "outputs": [
    {
     "name": "stdout",
     "output_type": "stream",
     "text": [
      "Starting experimental run with id: 15. \n",
      "Starting experimental run with id: 16. \n",
      "Starting experimental run with id: 17. \n"
     ]
    },
    {
     "name": "stdout",
     "output_type": "stream",
     "text": [
      "Starting experimental run with id: 18. \n",
      "Starting experimental run with id: 19. \n"
     ]
    },
    {
     "name": "stdout",
     "output_type": "stream",
     "text": [
      "Starting experimental run with id: 20. \n"
     ]
    },
    {
     "name": "stdout",
     "output_type": "stream",
     "text": [
      "Starting experimental run with id: 21. \n"
     ]
    },
    {
     "name": "stdout",
     "output_type": "stream",
     "text": [
      "Starting experimental run with id: 22. \n"
     ]
    },
    {
     "name": "stdout",
     "output_type": "stream",
     "text": [
      "Starting experimental run with id: 23. \n"
     ]
    },
    {
     "name": "stdout",
     "output_type": "stream",
     "text": [
      "Starting experimental run with id: 24. \n"
     ]
    },
    {
     "name": "stdout",
     "output_type": "stream",
     "text": [
      "Starting experimental run with id: 25. \n"
     ]
    },
    {
     "name": "stdout",
     "output_type": "stream",
     "text": [
      "Starting experimental run with id: 26. \n"
     ]
    },
    {
     "name": "stdout",
     "output_type": "stream",
     "text": [
      "Starting experimental run with id: 27. \n"
     ]
    },
    {
     "name": "stdout",
     "output_type": "stream",
     "text": [
      "Starting experimental run with id: 28. \n"
     ]
    }
   ],
   "source": [
    "sizes = [1,500,1000,2000,3000,4000,5000]\n",
    "nreps = 100\n",
    "t_numeric = []\n",
    "t_numeric_add = []\n",
    "t_numeric_run_ids = []\n",
    "t_array = []\n",
    "t_array_add = []\n",
    "t_array_run_ids = []\n",
    "for size in sizes:\n",
    "    tn, tna, run_id_n =  insert_data('numeric', size, nreps=nreps)\n",
    "    t_numeric.append(tn)\n",
    "    t_numeric_add.append(tna)\n",
    "    t_numeric_run_ids.append(run_id_n)\n",
    "\n",
    "    ta, taa, run_id_a =  insert_data('array', size, nreps=nreps)\n",
    "    t_array.append(ta)\n",
    "    t_array_add.append(taa)\n",
    "    t_array_run_ids.append(run_id_a)"
   ]
  },
  {
   "cell_type": "code",
   "execution_count": 8,
   "metadata": {
    "execution": {
     "iopub.execute_input": "2021-04-06T06:16:56.840247Z",
     "iopub.status.busy": "2021-04-06T06:16:56.828055Z",
     "iopub.status.idle": "2021-04-06T06:16:56.968026Z",
     "shell.execute_reply": "2021-04-06T06:16:56.968705Z"
    },
    "scrolled": true
   },
   "outputs": [
    {
     "data": {
      "image/png": "[encoded data removed]",
      "text/plain": [
       "<Figure size 432x288 with 1 Axes>"
      ]
     },
     "metadata": {
      "needs_background": "light"
     },
     "output_type": "display_data"
    }
   ],
   "source": [
    "fig, ax = plt.subplots(1,1)\n",
    "ax.plot(sizes, t_numeric, 'o-', label='Inserting row-by-row')\n",
    "ax.plot(sizes, t_numeric_add, 'o-', label='Inserting row-by-row: add_result only')\n",
    "ax.plot(sizes, t_array, 'd-', label='Inserting as binary blob')\n",
    "ax.plot(sizes, t_array_add, 'd-', label='Inserting as binary blob: add_result only')\n",
    "ax.legend()\n",
    "ax.set_xlabel('Array length')\n",
    "ax.set_ylabel('Time (s)')\n",
    "fig.tight_layout()"
   ]
  },
  {
   "cell_type": "markdown",
   "metadata": {},
   "source": [
    "However, as we increase the length of the experiment, as seen here by repeating the insertion 100 times, we see a big difference between inserting values of the data row-by-row and inserting it as a binary blob."
   ]
  },
  {
   "cell_type": "markdown",
   "metadata": {},
   "source": [
    "## Loading the data "
   ]
  },
  {
   "cell_type": "code",
   "execution_count": 9,
   "metadata": {
    "execution": {
     "iopub.execute_input": "2021-04-06T06:16:56.971825Z",
     "iopub.status.busy": "2021-04-06T06:16:56.970867Z",
     "iopub.status.idle": "2021-04-06T06:16:56.976435Z",
     "shell.execute_reply": "2021-04-06T06:16:56.975533Z"
    }
   },
   "outputs": [],
   "source": [
    "from qcodes.dataset.data_set import load_by_id\n",
    "from qcodes.dataset.data_export import get_data_by_id"
   ]
  },
  {
   "cell_type": "markdown",
   "metadata": {},
   "source": [
    "As usual you can load the data by using the ``load_by_id`` function but you will notice that the different storage methods\n",
    "are reflected in shape of the data as it is retrieved. "
   ]
  },
  {
   "cell_type": "code",
   "execution_count": 10,
   "metadata": {
    "execution": {
     "iopub.execute_input": "2021-04-06T06:16:56.979753Z",
     "iopub.status.busy": "2021-04-06T06:16:56.979248Z",
     "iopub.status.idle": "2021-04-06T06:16:56.981170Z",
     "shell.execute_reply": "2021-04-06T06:16:56.981559Z"
    }
   },
   "outputs": [],
   "source": [
    "run_id_n = t_numeric_run_ids[0]\n",
    "run_id_a = t_array_run_ids[0]"
   ]
  },
  {
   "cell_type": "code",
   "execution_count": 11,
   "metadata": {
    "execution": {
     "iopub.execute_input": "2021-04-06T06:16:56.984499Z",
     "iopub.status.busy": "2021-04-06T06:16:56.984025Z",
     "iopub.status.idle": "2021-04-06T06:16:56.992561Z",
     "shell.execute_reply": "2021-04-06T06:16:56.992134Z"
    },
    "scrolled": true
   },
   "outputs": [
    {
     "data": {
      "text/plain": [
       "{'x1': {'x1': array([0.25752272, 0.25752272, 0.91332049, 0.91332049, 0.10312088,\n",
       "         0.10312088, 0.84647753, 0.84647753, 0.36747552, 0.36747552,\n",
       "         0.84563876, 0.84563876, 0.76955332, 0.76955332, 0.66007389,\n",
       "         0.66007389, 0.03368662, 0.03368662, 0.9114263 , 0.9114263 ,\n",
       "         0.2927037 , 0.2927037 , 0.95170199, 0.95170199, 0.30291133,\n",
       "         0.30291133, 0.82247806, 0.82247806, 0.27133463, 0.27133463,\n",
       "         0.54333258, 0.54333258, 0.32650056, 0.32650056, 0.28100951,\n",
       "         0.28100951, 0.15743589, 0.15743589, 0.39799918, 0.39799918,\n",
       "         0.83013752, 0.83013752, 0.04802426, 0.04802426, 0.12505845,\n",
       "         0.12505845, 0.74025216, 0.74025216, 0.87652122, 0.87652122,\n",
       "         0.29186648, 0.29186648, 0.46298372, 0.46298372, 0.88077925,\n",
       "         0.88077925, 0.92965235, 0.92965235, 0.83003007, 0.83003007,\n",
       "         0.40187904, 0.40187904, 0.12389042, 0.12389042, 0.45048254,\n",
       "         0.45048254, 0.83177489, 0.83177489, 0.20647782, 0.20647782,\n",
       "         0.07951935, 0.07951935, 0.19616333, 0.19616333, 0.20802928,\n",
       "         0.20802928, 0.16605364, 0.16605364, 0.02121322, 0.02121322,\n",
       "         0.95264199, 0.95264199, 0.39820518, 0.39820518, 0.00213247,\n",
       "         0.00213247, 0.45352446, 0.45352446, 0.19345701, 0.19345701,\n",
       "         0.22698285, 0.22698285, 0.81385413, 0.81385413, 0.49942428,\n",
       "         0.49942428, 0.47499605, 0.47499605, 0.66712433, 0.66712433,\n",
       "         0.07819921, 0.07819921, 0.07467474, 0.07467474, 0.86311411,\n",
       "         0.86311411, 0.06859762, 0.06859762, 0.08862748, 0.08862748,\n",
       "         0.6042733 , 0.6042733 , 0.66152004, 0.66152004, 0.57375758,\n",
       "         0.57375758, 0.51306857, 0.51306857, 0.35330311, 0.35330311,\n",
       "         0.45129219, 0.45129219, 0.93553851, 0.93553851, 0.14360116,\n",
       "         0.14360116, 0.53929236, 0.53929236, 0.25522246, 0.25522246,\n",
       "         0.9749022 , 0.9749022 , 0.82798391, 0.82798391, 0.52013193,\n",
       "         0.52013193, 0.96020477, 0.96020477, 0.54210584, 0.54210584,\n",
       "         0.37597659, 0.37597659, 0.70955176, 0.70955176, 0.31824676,\n",
       "         0.31824676, 0.50121484, 0.50121484, 0.39363322, 0.39363322,\n",
       "         0.06648164, 0.06648164, 0.50016748, 0.50016748, 0.22768371,\n",
       "         0.22768371, 0.56838689, 0.56838689, 0.89343493, 0.89343493,\n",
       "         0.61525543, 0.61525543, 0.88765372, 0.88765372, 0.98296661,\n",
       "         0.98296661, 0.07534663, 0.07534663, 0.08020019, 0.08020019,\n",
       "         0.59724822, 0.59724822, 0.24769582, 0.24769582, 0.81572331,\n",
       "         0.81572331, 0.26449478, 0.26449478, 0.88029513, 0.88029513,\n",
       "         0.66109023, 0.66109023, 0.65419874, 0.65419874, 0.28590917,\n",
       "         0.28590917, 0.38790573, 0.38790573, 0.58671281, 0.58671281,\n",
       "         0.42131398, 0.42131398, 0.8412487 , 0.8412487 , 0.37425432,\n",
       "         0.37425432, 0.4539071 , 0.4539071 , 0.39076376, 0.39076376])}}"
      ]
     },
     "execution_count": 1,
     "metadata": {},
     "output_type": "execute_result"
    }
   ],
   "source": [
    "ds = load_by_id(run_id_n)\n",
    "ds.get_parameter_data('x1')"
   ]
  },
  {
   "cell_type": "markdown",
   "metadata": {},
   "source": [
    "And a dataset stored as binary arrays"
   ]
  },
  {
   "cell_type": "code",
   "execution_count": 12,
   "metadata": {
    "execution": {
     "iopub.execute_input": "2021-04-06T06:16:56.995453Z",
     "iopub.status.busy": "2021-04-06T06:16:56.994960Z",
     "iopub.status.idle": "2021-04-06T06:16:57.043736Z",
     "shell.execute_reply": "2021-04-06T06:16:57.044202Z"
    },
    "scrolled": true
   },
   "outputs": [
    {
     "data": {
      "text/plain": [
       "{'x1': {'x1': array([[0.42813719],\n",
       "         [0.42813719],\n",
       "         [0.22711875],\n",
       "         [0.22711875],\n",
       "         [0.04784766],\n",
       "         [0.04784766],\n",
       "         [0.13073883],\n",
       "         [0.13073883],\n",
       "         [0.44557767],\n",
       "         [0.44557767],\n",
       "         [0.65135223],\n",
       "         [0.65135223],\n",
       "         [0.34448764],\n",
       "         [0.34448764],\n",
       "         [0.21228159],\n",
       "         [0.21228159],\n",
       "         [0.7218319 ],\n",
       "         [0.7218319 ],\n",
       "         [0.14340032],\n",
       "         [0.14340032],\n",
       "         [0.8190737 ],\n",
       "         [0.8190737 ],\n",
       "         [0.48696923],\n",
       "         [0.48696923],\n",
       "         [0.36151725],\n",
       "         [0.36151725],\n",
       "         [0.15682545],\n",
       "         [0.15682545],\n",
       "         [0.83382212],\n",
       "         [0.83382212],\n",
       "         [0.9787936 ],\n",
       "         [0.9787936 ],\n",
       "         [0.55434241],\n",
       "         [0.55434241],\n",
       "         [0.96576549],\n",
       "         [0.96576549],\n",
       "         [0.47913258],\n",
       "         [0.47913258],\n",
       "         [0.34326814],\n",
       "         [0.34326814],\n",
       "         [0.34417369],\n",
       "         [0.34417369],\n",
       "         [0.85414266],\n",
       "         [0.85414266],\n",
       "         [0.04194959],\n",
       "         [0.04194959],\n",
       "         [0.08442336],\n",
       "         [0.08442336],\n",
       "         [0.93606098],\n",
       "         [0.93606098],\n",
       "         [0.52682584],\n",
       "         [0.52682584],\n",
       "         [0.74808763],\n",
       "         [0.74808763],\n",
       "         [0.98061204],\n",
       "         [0.98061204],\n",
       "         [0.43192595],\n",
       "         [0.43192595],\n",
       "         [0.25143633],\n",
       "         [0.25143633],\n",
       "         [0.769111  ],\n",
       "         [0.769111  ],\n",
       "         [0.60597795],\n",
       "         [0.60597795],\n",
       "         [0.26884817],\n",
       "         [0.26884817],\n",
       "         [0.16019314],\n",
       "         [0.16019314],\n",
       "         [0.97018571],\n",
       "         [0.97018571],\n",
       "         [0.09925488],\n",
       "         [0.09925488],\n",
       "         [0.60131034],\n",
       "         [0.60131034],\n",
       "         [0.34906259],\n",
       "         [0.34906259],\n",
       "         [0.81729471],\n",
       "         [0.81729471],\n",
       "         [0.96321071],\n",
       "         [0.96321071],\n",
       "         [0.90531012],\n",
       "         [0.90531012],\n",
       "         [0.01156452],\n",
       "         [0.01156452],\n",
       "         [0.19231008],\n",
       "         [0.19231008],\n",
       "         [0.5561411 ],\n",
       "         [0.5561411 ],\n",
       "         [0.13233754],\n",
       "         [0.13233754],\n",
       "         [0.51419068],\n",
       "         [0.51419068],\n",
       "         [0.94290739],\n",
       "         [0.94290739],\n",
       "         [0.87093062],\n",
       "         [0.87093062],\n",
       "         [0.83897603],\n",
       "         [0.83897603],\n",
       "         [0.12104717],\n",
       "         [0.12104717],\n",
       "         [0.45740303],\n",
       "         [0.45740303],\n",
       "         [0.34871826],\n",
       "         [0.34871826],\n",
       "         [0.51799059],\n",
       "         [0.51799059],\n",
       "         [0.00597932],\n",
       "         [0.00597932],\n",
       "         [0.04064333],\n",
       "         [0.04064333],\n",
       "         [0.09372401],\n",
       "         [0.09372401],\n",
       "         [0.30178312],\n",
       "         [0.30178312],\n",
       "         [0.54484111],\n",
       "         [0.54484111],\n",
       "         [0.04622023],\n",
       "         [0.04622023],\n",
       "         [0.75403533],\n",
       "         [0.75403533],\n",
       "         [0.29568405],\n",
       "         [0.29568405],\n",
       "         [0.14674165],\n",
       "         [0.14674165],\n",
       "         [0.31621373],\n",
       "         [0.31621373],\n",
       "         [0.06760414],\n",
       "         [0.06760414],\n",
       "         [0.89080147],\n",
       "         [0.89080147],\n",
       "         [0.92078337],\n",
       "         [0.92078337],\n",
       "         [0.24145681],\n",
       "         [0.24145681],\n",
       "         [0.73685157],\n",
       "         [0.73685157],\n",
       "         [0.3969953 ],\n",
       "         [0.3969953 ],\n",
       "         [0.05095247],\n",
       "         [0.05095247],\n",
       "         [0.77277849],\n",
       "         [0.77277849],\n",
       "         [0.18935419],\n",
       "         [0.18935419],\n",
       "         [0.60348514],\n",
       "         [0.60348514],\n",
       "         [0.12858929],\n",
       "         [0.12858929],\n",
       "         [0.73436894],\n",
       "         [0.73436894],\n",
       "         [0.06259669],\n",
       "         [0.06259669],\n",
       "         [0.95606062],\n",
       "         [0.95606062],\n",
       "         [0.18835366],\n",
       "         [0.18835366],\n",
       "         [0.37452831],\n",
       "         [0.37452831],\n",
       "         [0.65885776],\n",
       "         [0.65885776],\n",
       "         [0.35120379],\n",
       "         [0.35120379],\n",
       "         [0.88923896],\n",
       "         [0.88923896],\n",
       "         [0.49325886],\n",
       "         [0.49325886],\n",
       "         [0.341391  ],\n",
       "         [0.341391  ],\n",
       "         [0.54527862],\n",
       "         [0.54527862],\n",
       "         [0.44198244],\n",
       "         [0.44198244],\n",
       "         [0.78542121],\n",
       "         [0.78542121],\n",
       "         [0.04154233],\n",
       "         [0.04154233],\n",
       "         [0.44900123],\n",
       "         [0.44900123],\n",
       "         [0.30190759],\n",
       "         [0.30190759],\n",
       "         [0.35461091],\n",
       "         [0.35461091],\n",
       "         [0.93807968],\n",
       "         [0.93807968],\n",
       "         [0.52394848],\n",
       "         [0.52394848],\n",
       "         [0.25986711],\n",
       "         [0.25986711],\n",
       "         [0.5309423 ],\n",
       "         [0.5309423 ],\n",
       "         [0.17891017],\n",
       "         [0.17891017],\n",
       "         [0.7124751 ],\n",
       "         [0.7124751 ],\n",
       "         [0.99087354],\n",
       "         [0.99087354],\n",
       "         [0.2794008 ],\n",
       "         [0.2794008 ],\n",
       "         [0.98710543],\n",
       "         [0.98710543]])}}"
      ]
     },
     "execution_count": 1,
     "metadata": {},
     "output_type": "execute_result"
    }
   ],
   "source": [
    "ds = load_by_id(run_id_a)\n",
    "ds.get_parameter_data('x1')"
   ]
  },
  {
   "cell_type": "code",
   "execution_count": null,
   "metadata": {},
   "outputs": [],
   "source": []
  }
 ],
 "metadata": {
  "kernelspec": {
   "display_name": "Python 3",
   "language": "python",
   "name": "python3"
  },
  "language_info": {
   "codemirror_mode": {
    "name": "ipython",
    "version": 3
   },
   "file_extension": ".py",
   "mimetype": "text/x-python",
   "name": "python",
   "nbconvert_exporter": "python",
   "pygments_lexer": "ipython3",
   "version": "3.7.10"
  },
  "nbsphinx": {
   "timeout": 600
  },
  "toc": {
   "base_numbering": 1,
   "nav_menu": {},
   "number_sections": true,
   "sideBar": true,
   "skip_h1_title": false,
   "title_cell": "Table of Contents",
   "title_sidebar": "Contents",
   "toc_cell": false,
   "toc_position": {},
   "toc_section_display": true,
   "toc_window_display": false
  },
  "varInspector": {
   "cols": {
    "lenName": 16,
    "lenType": 16,
    "lenVar": 40
   },
   "kernels_config": {
    "python": {
     "delete_cmd_postfix": "",
     "delete_cmd_prefix": "del ",
     "library": "var_list.py",
     "varRefreshCmd": "print(var_dic_list())"
    },
    "r": {
     "delete_cmd_postfix": ") ",
     "delete_cmd_prefix": "rm(",
     "library": "var_list.r",
     "varRefreshCmd": "cat(var_dic_list()) "
    }
   },
   "types_to_exclude": [
    "module",
    "function",
    "builtin_function_or_method",
    "instance",
    "_Feature"
   ],
   "window_display": false
  }
 },
 "nbformat": 4,
 "nbformat_minor": 2
}
