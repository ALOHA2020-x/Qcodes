{
 "cells": [
  {
   "cell_type": "markdown",
   "metadata": {},
   "source": [
    "# DataSet Performance\n",
    "\n",
    "This notebook shows the trade-off between inserting data into a database row-by-row and as binary blobs. Inserting the data row-by-row means that we have direct access to all the data and may perform queries directly on the values of the data. On the other hand, as we shall see, this is much slower than inserting the data directly as binary blobs."
   ]
  },
  {
   "cell_type": "markdown",
   "metadata": {},
   "source": [
    "First, we choose a new location for the database to ensure that we don't add a bunch of benchmarking data to the default one."
   ]
  },
  {
   "cell_type": "code",
   "execution_count": 1,
   "metadata": {
    "execution": {
     "iopub.execute_input": "2021-02-26T08:17:25.650239Z",
     "iopub.status.busy": "2021-02-26T08:17:25.649689Z",
     "iopub.status.idle": "2021-02-26T08:17:26.532525Z",
     "shell.execute_reply": "2021-02-26T08:17:26.532971Z"
    }
   },
   "outputs": [
    {
     "name": "stdout",
     "output_type": "stream",
     "text": [
      "Logging hadn't been started.\n",
      "Activating auto-logging. Current session state plus future input saved.\n",
      "Filename       : /home/runner/.qcodes/logs/command_history.log\n",
      "Mode           : append\n",
      "Output logging : True\n",
      "Raw input log  : False\n",
      "Timestamping   : True\n",
      "State          : active\n"
     ]
    },
    {
     "name": "stdout",
     "output_type": "stream",
     "text": [
      "Qcodes Logfile : /home/runner/.qcodes/logs/210226-4419-qcodes.log\n"
     ]
    }
   ],
   "source": [
    "import os\n",
    "cwd = os.getcwd()\n",
    "import qcodes as qc\n",
    "qc.config[\"core\"][\"db_location\"] = os.path.join(cwd, 'testing.db')\n"
   ]
  },
  {
   "cell_type": "code",
   "execution_count": 2,
   "metadata": {
    "execution": {
     "iopub.execute_input": "2021-02-26T08:17:26.539754Z",
     "iopub.status.busy": "2021-02-26T08:17:26.538928Z",
     "iopub.status.idle": "2021-02-26T08:17:26.730638Z",
     "shell.execute_reply": "2021-02-26T08:17:26.730031Z"
    }
   },
   "outputs": [],
   "source": [
    "%matplotlib inline\n",
    "import time\n",
    "import matplotlib.pyplot as plt\n",
    "import numpy as np\n",
    "\n",
    "import qcodes as qc\n",
    "from qcodes.instrument.parameter import ManualParameter\n",
    "from qcodes.dataset.experiment_container import (Experiment,\n",
    "                                                 load_last_experiment,\n",
    "                                                 new_experiment)\n",
    "from qcodes.dataset.sqlite.database import initialise_database\n",
    "from qcodes import load_or_create_experiment\n",
    "from qcodes.dataset.measurements import Measurement"
   ]
  },
  {
   "cell_type": "code",
   "execution_count": 3,
   "metadata": {
    "execution": {
     "iopub.execute_input": "2021-02-26T08:17:26.735025Z",
     "iopub.status.busy": "2021-02-26T08:17:26.734045Z",
     "iopub.status.idle": "2021-02-26T08:17:26.845187Z",
     "shell.execute_reply": "2021-02-26T08:17:26.844674Z"
    }
   },
   "outputs": [
    {
     "name": "stdout",
     "output_type": "stream",
     "text": [
      "\r",
      "0it [00:00, ?it/s]"
     ]
    },
    {
     "name": "stdout",
     "output_type": "stream",
     "text": [
      "\r",
      "Upgrading database; v0 -> v1: : 0it [00:00, ?it/s]"
     ]
    },
    {
     "name": "stdout",
     "output_type": "stream",
     "text": [
      "\r",
      "Upgrading database; v0 -> v1: : 0it [00:00, ?it/s]"
     ]
    },
    {
     "name": "stdout",
     "output_type": "stream",
     "text": [
      "\n",
      "\r",
      "  0%|          | 0/1 [00:00<?, ?it/s]"
     ]
    },
    {
     "name": "stdout",
     "output_type": "stream",
     "text": [
      "\r",
      "Upgrading database; v1 -> v2:   0%|          | 0/1 [00:00<?, ?it/s]"
     ]
    },
    {
     "name": "stdout",
     "output_type": "stream",
     "text": [
      "\r",
      "Upgrading database; v1 -> v2: 100%|██████████| 1/1 [00:00<00:00, 1399.97it/s]"
     ]
    },
    {
     "name": "stdout",
     "output_type": "stream",
     "text": [
      "\n",
      "\r",
      "0it [00:00, ?it/s]"
     ]
    },
    {
     "name": "stdout",
     "output_type": "stream",
     "text": [
      "\r",
      "Upgrading database; v2 -> v3: : 0it [00:00, ?it/s]"
     ]
    },
    {
     "name": "stdout",
     "output_type": "stream",
     "text": [
      "\r",
      "Upgrading database; v2 -> v3: : 0it [00:00, ?it/s]"
     ]
    },
    {
     "name": "stdout",
     "output_type": "stream",
     "text": [
      "\n",
      "\r",
      "0it [00:00, ?it/s]"
     ]
    },
    {
     "name": "stdout",
     "output_type": "stream",
     "text": [
      "\r",
      "Upgrading database; v3 -> v4: : 0it [00:00, ?it/s]"
     ]
    },
    {
     "name": "stdout",
     "output_type": "stream",
     "text": [
      "\r",
      "Upgrading database; v3 -> v4: : 0it [00:00, ?it/s]"
     ]
    },
    {
     "name": "stdout",
     "output_type": "stream",
     "text": [
      "\n",
      "\r",
      "  0%|          | 0/1 [00:00<?, ?it/s]"
     ]
    },
    {
     "name": "stdout",
     "output_type": "stream",
     "text": [
      "\r",
      "Upgrading database; v4 -> v5:   0%|          | 0/1 [00:00<?, ?it/s]"
     ]
    },
    {
     "name": "stdout",
     "output_type": "stream",
     "text": [
      "\r",
      "Upgrading database; v4 -> v5: 100%|██████████| 1/1 [00:00<00:00, 461.83it/s]"
     ]
    },
    {
     "name": "stdout",
     "output_type": "stream",
     "text": [
      "\n",
      "\r",
      "0it [00:00, ?it/s]"
     ]
    },
    {
     "name": "stdout",
     "output_type": "stream",
     "text": [
      "\r",
      "Upgrading database; v5 -> v6: : 0it [00:00, ?it/s]"
     ]
    },
    {
     "name": "stdout",
     "output_type": "stream",
     "text": [
      "\r",
      "Upgrading database; v5 -> v6: : 0it [00:00, ?it/s]"
     ]
    },
    {
     "name": "stdout",
     "output_type": "stream",
     "text": [
      "\n",
      "\r",
      "  0%|          | 0/1 [00:00<?, ?it/s]"
     ]
    },
    {
     "name": "stdout",
     "output_type": "stream",
     "text": [
      "\r",
      "Upgrading database; v6 -> v7:   0%|          | 0/1 [00:00<?, ?it/s]"
     ]
    },
    {
     "name": "stdout",
     "output_type": "stream",
     "text": [
      "\r",
      "Upgrading database; v6 -> v7: 100%|██████████| 1/1 [00:00<00:00, 347.93it/s]"
     ]
    },
    {
     "name": "stdout",
     "output_type": "stream",
     "text": [
      "\n",
      "\r",
      "  0%|          | 0/1 [00:00<?, ?it/s]"
     ]
    },
    {
     "name": "stdout",
     "output_type": "stream",
     "text": [
      "\r",
      "Upgrading database; v7 -> v8:   0%|          | 0/1 [00:00<?, ?it/s]"
     ]
    },
    {
     "name": "stdout",
     "output_type": "stream",
     "text": [
      "\r",
      "Upgrading database; v7 -> v8: 100%|██████████| 1/1 [00:00<00:00, 1147.55it/s]"
     ]
    },
    {
     "name": "stdout",
     "output_type": "stream",
     "text": [
      "\n",
      "\r",
      "  0%|          | 0/1 [00:00<?, ?it/s]"
     ]
    },
    {
     "name": "stdout",
     "output_type": "stream",
     "text": [
      "\r",
      "Upgrading database; v8 -> v9:   0%|          | 0/1 [00:00<?, ?it/s]"
     ]
    },
    {
     "name": "stdout",
     "output_type": "stream",
     "text": [
      "\r",
      "Upgrading database; v8 -> v9: 100%|██████████| 1/1 [00:00<00:00, 505.22it/s]"
     ]
    },
    {
     "name": "stdout",
     "output_type": "stream",
     "text": [
      "\n"
     ]
    }
   ],
   "source": [
    "initialise_database()\n",
    "exp = load_or_create_experiment(experiment_name='tutorial_exp', sample_name=\"no sample\")"
   ]
  },
  {
   "cell_type": "markdown",
   "metadata": {},
   "source": [
    "Here, we define a simple function to benchmark the time it takes to insert n points with either numeric or array data type.\n",
    "We will compare both the time used to call ``add_result`` and the time used for the full measurement."
   ]
  },
  {
   "cell_type": "code",
   "execution_count": 4,
   "metadata": {
    "execution": {
     "iopub.execute_input": "2021-02-26T08:17:26.853812Z",
     "iopub.status.busy": "2021-02-26T08:17:26.852395Z",
     "iopub.status.idle": "2021-02-26T08:17:26.856411Z",
     "shell.execute_reply": "2021-02-26T08:17:26.856882Z"
    }
   },
   "outputs": [],
   "source": [
    "def insert_data(paramtype, npoints, nreps=1):\n",
    "\n",
    "    meas = Measurement(exp=exp)\n",
    "\n",
    "    x1 = ManualParameter('x1')\n",
    "    x2 = ManualParameter('x2')\n",
    "    x3 = ManualParameter('x3')\n",
    "    y1 = ManualParameter('y1')\n",
    "    y2 = ManualParameter('y2')\n",
    "\n",
    "    meas.register_parameter(x1, paramtype=paramtype)\n",
    "    meas.register_parameter(x2, paramtype=paramtype)\n",
    "    meas.register_parameter(x3, paramtype=paramtype)\n",
    "    meas.register_parameter(y1, setpoints=[x1, x2, x3],\n",
    "                            paramtype=paramtype)\n",
    "    meas.register_parameter(y2, setpoints=[x1, x2, x3],\n",
    "                            paramtype=paramtype)\n",
    "    start = time.perf_counter()\n",
    "    with meas.run() as datasaver:\n",
    "        start_adding = time.perf_counter()\n",
    "        for i in range(nreps):\n",
    "            datasaver.add_result((x1, np.random.rand(npoints)),\n",
    "                                 (x2, np.random.rand(npoints)),\n",
    "                                 (x3, np.random.rand(npoints)),\n",
    "                                 (y1, np.random.rand(npoints)),\n",
    "                                 (y2, np.random.rand(npoints)))\n",
    "        stop_adding = time.perf_counter()\n",
    "        run_id = datasaver.run_id\n",
    "    stop = time.perf_counter()\n",
    "    tot_time = stop - start\n",
    "    add_time = stop_adding - start_adding\n",
    "    return tot_time, add_time, run_id"
   ]
  },
  {
   "cell_type": "markdown",
   "metadata": {},
   "source": [
    "## Comparison between numeric/array data and binary blob"
   ]
  },
  {
   "cell_type": "markdown",
   "metadata": {},
   "source": [
    "### Case1: Short experiment time"
   ]
  },
  {
   "cell_type": "code",
   "execution_count": 5,
   "metadata": {
    "execution": {
     "iopub.execute_input": "2021-02-26T08:17:26.864636Z",
     "iopub.status.busy": "2021-02-26T08:17:26.863700Z",
     "iopub.status.idle": "2021-02-26T08:17:27.710805Z",
     "shell.execute_reply": "2021-02-26T08:17:27.709922Z"
    }
   },
   "outputs": [
    {
     "name": "stdout",
     "output_type": "stream",
     "text": [
      "Starting experimental run with id: 1. \n",
      "Starting experimental run with id: 2. \n",
      "Starting experimental run with id: 3. \n",
      "Starting experimental run with id: 4. \n",
      "Starting experimental run with id: 5. \n"
     ]
    },
    {
     "name": "stdout",
     "output_type": "stream",
     "text": [
      "Starting experimental run with id: 6. \n"
     ]
    },
    {
     "name": "stdout",
     "output_type": "stream",
     "text": [
      "Starting experimental run with id: 7. \n"
     ]
    },
    {
     "name": "stdout",
     "output_type": "stream",
     "text": [
      "Starting experimental run with id: 8. \n",
      "Starting experimental run with id: 9. \n"
     ]
    },
    {
     "name": "stdout",
     "output_type": "stream",
     "text": [
      "Starting experimental run with id: 10. \n",
      "Starting experimental run with id: 11. \n"
     ]
    },
    {
     "name": "stdout",
     "output_type": "stream",
     "text": [
      "Starting experimental run with id: 12. \n",
      "Starting experimental run with id: 13. \n"
     ]
    },
    {
     "name": "stdout",
     "output_type": "stream",
     "text": [
      "Starting experimental run with id: 14. \n"
     ]
    }
   ],
   "source": [
    "sizes = [1,500,1000,2000,3000,4000,5000]\n",
    "t_numeric = []\n",
    "t_numeric_add = []\n",
    "t_array = []\n",
    "t_array_add = []\n",
    "for size in sizes:\n",
    "    tn, tna, run_id_n =  insert_data('numeric', size)\n",
    "    t_numeric.append(tn)\n",
    "    t_numeric_add.append(tna)\n",
    "\n",
    "    ta, taa, run_id_a =  insert_data('array', size)\n",
    "    t_array.append(ta)\n",
    "    t_array_add.append(taa)"
   ]
  },
  {
   "cell_type": "code",
   "execution_count": 6,
   "metadata": {
    "execution": {
     "iopub.execute_input": "2021-02-26T08:17:27.755915Z",
     "iopub.status.busy": "2021-02-26T08:17:27.754969Z",
     "iopub.status.idle": "2021-02-26T08:17:27.919746Z",
     "shell.execute_reply": "2021-02-26T08:17:27.918974Z"
    }
   },
   "outputs": [
    {
     "data": {
      "image/png": "[encoded data removed]",
      "text/plain": [
       "<Figure size 432x288 with 1 Axes>"
      ]
     },
     "metadata": {
      "needs_background": "light"
     },
     "output_type": "display_data"
    }
   ],
   "source": [
    "fig, ax = plt.subplots(1,1)\n",
    "ax.plot(sizes, t_numeric, 'o-', label='Inserting row-by-row')\n",
    "ax.plot(sizes, t_numeric_add, 'o-', label='Inserting row-by-row: add_result only')\n",
    "ax.plot(sizes, t_array, 'd-', label='Inserting as binary blob')\n",
    "ax.plot(sizes, t_array_add, 'd-', label='Inserting as binary blob: add_result only')\n",
    "ax.legend()\n",
    "ax.set_xlabel('Array length')\n",
    "ax.set_ylabel('Time (s)')\n",
    "fig.tight_layout()"
   ]
  },
  {
   "cell_type": "markdown",
   "metadata": {},
   "source": [
    "As shown in the latter figure, the time to setup and and close the experiment is approximately 0.4 sec. In case of small array sizes, the difference between inserting values of data as arrays and inserting them row-by-row is relatively unimportant. At larger array sizes, i.e. above 10000 points, the cost of writing data as individual datapoints starts to become important.\n"
   ]
  },
  {
   "cell_type": "markdown",
   "metadata": {},
   "source": [
    "### Case2: Long experiment time "
   ]
  },
  {
   "cell_type": "code",
   "execution_count": 7,
   "metadata": {
    "execution": {
     "iopub.execute_input": "2021-02-26T08:17:27.927642Z",
     "iopub.status.busy": "2021-02-26T08:17:27.927007Z",
     "iopub.status.idle": "2021-02-26T08:18:28.167156Z",
     "shell.execute_reply": "2021-02-26T08:18:28.166559Z"
    }
   },
   "outputs": [
    {
     "name": "stdout",
     "output_type": "stream",
     "text": [
      "Starting experimental run with id: 15. \n",
      "Starting experimental run with id: 16. \n",
      "Starting experimental run with id: 17. \n"
     ]
    },
    {
     "name": "stdout",
     "output_type": "stream",
     "text": [
      "Starting experimental run with id: 18. \n"
     ]
    },
    {
     "name": "stdout",
     "output_type": "stream",
     "text": [
      "Starting experimental run with id: 19. \n"
     ]
    },
    {
     "name": "stdout",
     "output_type": "stream",
     "text": [
      "Starting experimental run with id: 20. \n"
     ]
    },
    {
     "name": "stdout",
     "output_type": "stream",
     "text": [
      "Starting experimental run with id: 21. \n"
     ]
    },
    {
     "name": "stdout",
     "output_type": "stream",
     "text": [
      "Starting experimental run with id: 22. \n"
     ]
    },
    {
     "name": "stdout",
     "output_type": "stream",
     "text": [
      "Starting experimental run with id: 23. \n"
     ]
    },
    {
     "name": "stdout",
     "output_type": "stream",
     "text": [
      "Starting experimental run with id: 24. \n"
     ]
    },
    {
     "name": "stdout",
     "output_type": "stream",
     "text": [
      "Starting experimental run with id: 25. \n"
     ]
    },
    {
     "name": "stdout",
     "output_type": "stream",
     "text": [
      "Starting experimental run with id: 26. \n"
     ]
    },
    {
     "name": "stdout",
     "output_type": "stream",
     "text": [
      "Starting experimental run with id: 27. \n"
     ]
    },
    {
     "name": "stdout",
     "output_type": "stream",
     "text": [
      "Starting experimental run with id: 28. \n"
     ]
    }
   ],
   "source": [
    "sizes = [1,500,1000,2000,3000,4000,5000]\n",
    "nreps = 100\n",
    "t_numeric = []\n",
    "t_numeric_add = []\n",
    "t_numeric_run_ids = []\n",
    "t_array = []\n",
    "t_array_add = []\n",
    "t_array_run_ids = []\n",
    "for size in sizes:\n",
    "    tn, tna, run_id_n =  insert_data('numeric', size, nreps=nreps)\n",
    "    t_numeric.append(tn)\n",
    "    t_numeric_add.append(tna)\n",
    "    t_numeric_run_ids.append(run_id_n)\n",
    "\n",
    "    ta, taa, run_id_a =  insert_data('array', size, nreps=nreps)\n",
    "    t_array.append(ta)\n",
    "    t_array_add.append(taa)\n",
    "    t_array_run_ids.append(run_id_a)"
   ]
  },
  {
   "cell_type": "code",
   "execution_count": 8,
   "metadata": {
    "execution": {
     "iopub.execute_input": "2021-02-26T08:18:28.207886Z",
     "iopub.status.busy": "2021-02-26T08:18:28.207286Z",
     "iopub.status.idle": "2021-02-26T08:18:28.376689Z",
     "shell.execute_reply": "2021-02-26T08:18:28.376196Z"
    },
    "scrolled": true
   },
   "outputs": [
    {
     "data": {
      "image/png": "[encoded data removed]",
      "text/plain": [
       "<Figure size 432x288 with 1 Axes>"
      ]
     },
     "metadata": {
      "needs_background": "light"
     },
     "output_type": "display_data"
    }
   ],
   "source": [
    "fig, ax = plt.subplots(1,1)\n",
    "ax.plot(sizes, t_numeric, 'o-', label='Inserting row-by-row')\n",
    "ax.plot(sizes, t_numeric_add, 'o-', label='Inserting row-by-row: add_result only')\n",
    "ax.plot(sizes, t_array, 'd-', label='Inserting as binary blob')\n",
    "ax.plot(sizes, t_array_add, 'd-', label='Inserting as binary blob: add_result only')\n",
    "ax.legend()\n",
    "ax.set_xlabel('Array length')\n",
    "ax.set_ylabel('Time (s)')\n",
    "fig.tight_layout()"
   ]
  },
  {
   "cell_type": "markdown",
   "metadata": {},
   "source": [
    "However, as we increase the length of the experiment, as seen here by repeating the insertion 100 times, we see a big difference between inserting values of the data row-by-row and inserting it as a binary blob."
   ]
  },
  {
   "cell_type": "markdown",
   "metadata": {},
   "source": [
    "## Loading the data "
   ]
  },
  {
   "cell_type": "code",
   "execution_count": 9,
   "metadata": {
    "execution": {
     "iopub.execute_input": "2021-02-26T08:18:28.381243Z",
     "iopub.status.busy": "2021-02-26T08:18:28.380235Z",
     "iopub.status.idle": "2021-02-26T08:18:28.383047Z",
     "shell.execute_reply": "2021-02-26T08:18:28.383442Z"
    }
   },
   "outputs": [],
   "source": [
    "from qcodes.dataset.data_set import load_by_id\n",
    "from qcodes.dataset.data_export import get_data_by_id"
   ]
  },
  {
   "cell_type": "markdown",
   "metadata": {},
   "source": [
    "As usual you can load the data by using the ``load_by_id`` function but you will notice that the different storage methods\n",
    "are reflected in shape of the data as it is retrieved. "
   ]
  },
  {
   "cell_type": "code",
   "execution_count": 10,
   "metadata": {
    "execution": {
     "iopub.execute_input": "2021-02-26T08:18:28.388169Z",
     "iopub.status.busy": "2021-02-26T08:18:28.386916Z",
     "iopub.status.idle": "2021-02-26T08:18:28.388765Z",
     "shell.execute_reply": "2021-02-26T08:18:28.389184Z"
    }
   },
   "outputs": [],
   "source": [
    "run_id_n = t_numeric_run_ids[0]\n",
    "run_id_a = t_array_run_ids[0]"
   ]
  },
  {
   "cell_type": "code",
   "execution_count": 11,
   "metadata": {
    "execution": {
     "iopub.execute_input": "2021-02-26T08:18:28.392456Z",
     "iopub.status.busy": "2021-02-26T08:18:28.391897Z",
     "iopub.status.idle": "2021-02-26T08:18:28.401733Z",
     "shell.execute_reply": "2021-02-26T08:18:28.401245Z"
    },
    "scrolled": true
   },
   "outputs": [
    {
     "data": {
      "text/plain": [
       "{'x1': {'x1': array([0.52093579, 0.52093579, 0.01379614, 0.01379614, 0.89855338,\n",
       "         0.89855338, 0.59155012, 0.59155012, 0.42168311, 0.42168311,\n",
       "         0.7378415 , 0.7378415 , 0.04314706, 0.04314706, 0.97569806,\n",
       "         0.97569806, 0.4348269 , 0.4348269 , 0.39212146, 0.39212146,\n",
       "         0.03920838, 0.03920838, 0.75430915, 0.75430915, 0.41185045,\n",
       "         0.41185045, 0.76459271, 0.76459271, 0.98754434, 0.98754434,\n",
       "         0.72430077, 0.72430077, 0.74750634, 0.74750634, 0.75877972,\n",
       "         0.75877972, 0.91717677, 0.91717677, 0.65343545, 0.65343545,\n",
       "         0.66300857, 0.66300857, 0.76421668, 0.76421668, 0.11885551,\n",
       "         0.11885551, 0.71979788, 0.71979788, 0.73797381, 0.73797381,\n",
       "         0.07372664, 0.07372664, 0.29801752, 0.29801752, 0.52286902,\n",
       "         0.52286902, 0.06879812, 0.06879812, 0.19614297, 0.19614297,\n",
       "         0.64438235, 0.64438235, 0.21671521, 0.21671521, 0.4134317 ,\n",
       "         0.4134317 , 0.34768708, 0.34768708, 0.97184056, 0.97184056,\n",
       "         0.38481771, 0.38481771, 0.25516513, 0.25516513, 0.40617292,\n",
       "         0.40617292, 0.94936271, 0.94936271, 0.40254693, 0.40254693,\n",
       "         0.60516416, 0.60516416, 0.94492988, 0.94492988, 0.75767388,\n",
       "         0.75767388, 0.34924589, 0.34924589, 0.91585922, 0.91585922,\n",
       "         0.19287461, 0.19287461, 0.43097642, 0.43097642, 0.37970083,\n",
       "         0.37970083, 0.36880269, 0.36880269, 0.13650492, 0.13650492,\n",
       "         0.46083978, 0.46083978, 0.9856946 , 0.9856946 , 0.77165911,\n",
       "         0.77165911, 0.1814624 , 0.1814624 , 0.41334128, 0.41334128,\n",
       "         0.31323906, 0.31323906, 0.66504177, 0.66504177, 0.35829344,\n",
       "         0.35829344, 0.70312745, 0.70312745, 0.32312318, 0.32312318,\n",
       "         0.73742592, 0.73742592, 0.82950161, 0.82950161, 0.03385611,\n",
       "         0.03385611, 0.22300859, 0.22300859, 0.67114302, 0.67114302,\n",
       "         0.55312445, 0.55312445, 0.39608659, 0.39608659, 0.77807503,\n",
       "         0.77807503, 0.54177549, 0.54177549, 0.03234781, 0.03234781,\n",
       "         0.82933077, 0.82933077, 0.21982308, 0.21982308, 0.20627957,\n",
       "         0.20627957, 0.54455377, 0.54455377, 0.16449866, 0.16449866,\n",
       "         0.81852   , 0.81852   , 0.72849618, 0.72849618, 0.7652431 ,\n",
       "         0.7652431 , 0.3111462 , 0.3111462 , 0.36497959, 0.36497959,\n",
       "         0.48617669, 0.48617669, 0.5462437 , 0.5462437 , 0.59051363,\n",
       "         0.59051363, 0.95087961, 0.95087961, 0.19783368, 0.19783368,\n",
       "         0.89295189, 0.89295189, 0.68698619, 0.68698619, 0.45639637,\n",
       "         0.45639637, 0.52424363, 0.52424363, 0.39598975, 0.39598975,\n",
       "         0.89582952, 0.89582952, 0.27635188, 0.27635188, 0.74365355,\n",
       "         0.74365355, 0.86035828, 0.86035828, 0.38365582, 0.38365582,\n",
       "         0.90760771, 0.90760771, 0.00673567, 0.00673567, 0.14536926,\n",
       "         0.14536926, 0.19408655, 0.19408655, 0.11610653, 0.11610653])}}"
      ]
     },
     "execution_count": 1,
     "metadata": {},
     "output_type": "execute_result"
    }
   ],
   "source": [
    "ds = load_by_id(run_id_n)\n",
    "ds.get_parameter_data('x1')"
   ]
  },
  {
   "cell_type": "markdown",
   "metadata": {},
   "source": [
    "And a dataset stored as binary arrays"
   ]
  },
  {
   "cell_type": "code",
   "execution_count": 12,
   "metadata": {
    "execution": {
     "iopub.execute_input": "2021-02-26T08:18:28.404868Z",
     "iopub.status.busy": "2021-02-26T08:18:28.404347Z",
     "iopub.status.idle": "2021-02-26T08:18:28.460967Z",
     "shell.execute_reply": "2021-02-26T08:18:28.460496Z"
    },
    "scrolled": true
   },
   "outputs": [
    {
     "data": {
      "text/plain": [
       "{'x1': {'x1': array([[0.38098511],\n",
       "         [0.38098511],\n",
       "         [0.36842811],\n",
       "         [0.36842811],\n",
       "         [0.84657143],\n",
       "         [0.84657143],\n",
       "         [0.69947457],\n",
       "         [0.69947457],\n",
       "         [0.19243515],\n",
       "         [0.19243515],\n",
       "         [0.16276953],\n",
       "         [0.16276953],\n",
       "         [0.03039634],\n",
       "         [0.03039634],\n",
       "         [0.20964454],\n",
       "         [0.20964454],\n",
       "         [0.76915858],\n",
       "         [0.76915858],\n",
       "         [0.50355487],\n",
       "         [0.50355487],\n",
       "         [0.83103418],\n",
       "         [0.83103418],\n",
       "         [0.7094217 ],\n",
       "         [0.7094217 ],\n",
       "         [0.91521374],\n",
       "         [0.91521374],\n",
       "         [0.62530083],\n",
       "         [0.62530083],\n",
       "         [0.85027315],\n",
       "         [0.85027315],\n",
       "         [0.61644231],\n",
       "         [0.61644231],\n",
       "         [0.54516362],\n",
       "         [0.54516362],\n",
       "         [0.80574103],\n",
       "         [0.80574103],\n",
       "         [0.36720017],\n",
       "         [0.36720017],\n",
       "         [0.10046912],\n",
       "         [0.10046912],\n",
       "         [0.26038817],\n",
       "         [0.26038817],\n",
       "         [0.71007   ],\n",
       "         [0.71007   ],\n",
       "         [0.54231476],\n",
       "         [0.54231476],\n",
       "         [0.95492088],\n",
       "         [0.95492088],\n",
       "         [0.19421948],\n",
       "         [0.19421948],\n",
       "         [0.7941281 ],\n",
       "         [0.7941281 ],\n",
       "         [0.94889354],\n",
       "         [0.94889354],\n",
       "         [0.81179115],\n",
       "         [0.81179115],\n",
       "         [0.60533441],\n",
       "         [0.60533441],\n",
       "         [0.8441043 ],\n",
       "         [0.8441043 ],\n",
       "         [0.45464211],\n",
       "         [0.45464211],\n",
       "         [0.83997563],\n",
       "         [0.83997563],\n",
       "         [0.40927298],\n",
       "         [0.40927298],\n",
       "         [0.13601683],\n",
       "         [0.13601683],\n",
       "         [0.50098529],\n",
       "         [0.50098529],\n",
       "         [0.26830494],\n",
       "         [0.26830494],\n",
       "         [0.92231763],\n",
       "         [0.92231763],\n",
       "         [0.43842548],\n",
       "         [0.43842548],\n",
       "         [0.41868078],\n",
       "         [0.41868078],\n",
       "         [0.11118339],\n",
       "         [0.11118339],\n",
       "         [0.08607331],\n",
       "         [0.08607331],\n",
       "         [0.31143367],\n",
       "         [0.31143367],\n",
       "         [0.58456233],\n",
       "         [0.58456233],\n",
       "         [0.94155213],\n",
       "         [0.94155213],\n",
       "         [0.72258472],\n",
       "         [0.72258472],\n",
       "         [0.42849889],\n",
       "         [0.42849889],\n",
       "         [0.86692806],\n",
       "         [0.86692806],\n",
       "         [0.04467421],\n",
       "         [0.04467421],\n",
       "         [0.38326179],\n",
       "         [0.38326179],\n",
       "         [0.14419454],\n",
       "         [0.14419454],\n",
       "         [0.16137599],\n",
       "         [0.16137599],\n",
       "         [0.26667005],\n",
       "         [0.26667005],\n",
       "         [0.80770021],\n",
       "         [0.80770021],\n",
       "         [0.04430473],\n",
       "         [0.04430473],\n",
       "         [0.48156296],\n",
       "         [0.48156296],\n",
       "         [0.46692015],\n",
       "         [0.46692015],\n",
       "         [0.12965547],\n",
       "         [0.12965547],\n",
       "         [0.15393789],\n",
       "         [0.15393789],\n",
       "         [0.64829993],\n",
       "         [0.64829993],\n",
       "         [0.83401931],\n",
       "         [0.83401931],\n",
       "         [0.11046011],\n",
       "         [0.11046011],\n",
       "         [0.53759152],\n",
       "         [0.53759152],\n",
       "         [0.98412015],\n",
       "         [0.98412015],\n",
       "         [0.54943369],\n",
       "         [0.54943369],\n",
       "         [0.70270849],\n",
       "         [0.70270849],\n",
       "         [0.01606669],\n",
       "         [0.01606669],\n",
       "         [0.3517178 ],\n",
       "         [0.3517178 ],\n",
       "         [0.09637915],\n",
       "         [0.09637915],\n",
       "         [0.40804905],\n",
       "         [0.40804905],\n",
       "         [0.81661137],\n",
       "         [0.81661137],\n",
       "         [0.64964353],\n",
       "         [0.64964353],\n",
       "         [0.9281252 ],\n",
       "         [0.9281252 ],\n",
       "         [0.05018849],\n",
       "         [0.05018849],\n",
       "         [0.62061544],\n",
       "         [0.62061544],\n",
       "         [0.27411758],\n",
       "         [0.27411758],\n",
       "         [0.91257745],\n",
       "         [0.91257745],\n",
       "         [0.46737732],\n",
       "         [0.46737732],\n",
       "         [0.78739948],\n",
       "         [0.78739948],\n",
       "         [0.23382539],\n",
       "         [0.23382539],\n",
       "         [0.33443578],\n",
       "         [0.33443578],\n",
       "         [0.90088281],\n",
       "         [0.90088281],\n",
       "         [0.59878669],\n",
       "         [0.59878669],\n",
       "         [0.0328216 ],\n",
       "         [0.0328216 ],\n",
       "         [0.90983274],\n",
       "         [0.90983274],\n",
       "         [0.23918421],\n",
       "         [0.23918421],\n",
       "         [0.3433237 ],\n",
       "         [0.3433237 ],\n",
       "         [0.68145186],\n",
       "         [0.68145186],\n",
       "         [0.38628701],\n",
       "         [0.38628701],\n",
       "         [0.0153272 ],\n",
       "         [0.0153272 ],\n",
       "         [0.95034506],\n",
       "         [0.95034506],\n",
       "         [0.89952648],\n",
       "         [0.89952648],\n",
       "         [0.86570709],\n",
       "         [0.86570709],\n",
       "         [0.80141713],\n",
       "         [0.80141713],\n",
       "         [0.47281668],\n",
       "         [0.47281668],\n",
       "         [0.97184104],\n",
       "         [0.97184104],\n",
       "         [0.16972128],\n",
       "         [0.16972128],\n",
       "         [0.01261021],\n",
       "         [0.01261021],\n",
       "         [0.55253396],\n",
       "         [0.55253396],\n",
       "         [0.91998273],\n",
       "         [0.91998273],\n",
       "         [0.22340912],\n",
       "         [0.22340912]])}}"
      ]
     },
     "execution_count": 1,
     "metadata": {},
     "output_type": "execute_result"
    }
   ],
   "source": [
    "ds = load_by_id(run_id_a)\n",
    "ds.get_parameter_data('x1')"
   ]
  },
  {
   "cell_type": "code",
   "execution_count": null,
   "metadata": {},
   "outputs": [],
   "source": []
  }
 ],
 "metadata": {
  "kernelspec": {
   "display_name": "Python 3",
   "language": "python",
   "name": "python3"
  },
  "language_info": {
   "codemirror_mode": {
    "name": "ipython",
    "version": 3
   },
   "file_extension": ".py",
   "mimetype": "text/x-python",
   "name": "python",
   "nbconvert_exporter": "python",
   "pygments_lexer": "ipython3",
   "version": "3.7.10"
  },
  "nbsphinx": {
   "timeout": 600
  },
  "toc": {
   "base_numbering": 1,
   "nav_menu": {},
   "number_sections": true,
   "sideBar": true,
   "skip_h1_title": false,
   "title_cell": "Table of Contents",
   "title_sidebar": "Contents",
   "toc_cell": false,
   "toc_position": {},
   "toc_section_display": true,
   "toc_window_display": false
  },
  "varInspector": {
   "cols": {
    "lenName": 16,
    "lenType": 16,
    "lenVar": 40
   },
   "kernels_config": {
    "python": {
     "delete_cmd_postfix": "",
     "delete_cmd_prefix": "del ",
     "library": "var_list.py",
     "varRefreshCmd": "print(var_dic_list())"
    },
    "r": {
     "delete_cmd_postfix": ") ",
     "delete_cmd_prefix": "rm(",
     "library": "var_list.r",
     "varRefreshCmd": "cat(var_dic_list()) "
    }
   },
   "types_to_exclude": [
    "module",
    "function",
    "builtin_function_or_method",
    "instance",
    "_Feature"
   ],
   "window_display": false
  }
 },
 "nbformat": 4,
 "nbformat_minor": 2
}
