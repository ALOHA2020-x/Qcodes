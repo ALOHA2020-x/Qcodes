{
 "cells": [
  {
   "cell_type": "markdown",
   "metadata": {},
   "source": [
    "# DataSet Performance\n",
    "\n",
    "This notebook shows the trade-off between inserting data into a database row-by-row and as binary blobs. Inserting the data row-by-row means that we have direct access to all the data and may perform queries directly on the values of the data. On the other hand, as we shall see, this is much slower than inserting the data directly as binary blobs."
   ]
  },
  {
   "cell_type": "markdown",
   "metadata": {},
   "source": [
    "First, we choose a new location for the database to ensure that we don't add a bunch of benchmarking data to the default one."
   ]
  },
  {
   "cell_type": "code",
   "execution_count": 1,
   "metadata": {},
   "outputs": [
    {
     "name": "stdout",
     "output_type": "stream",
     "text": [
      "Logging hadn't been started.\n",
      "Activating auto-logging. Current session state plus future input saved.\n",
      "Filename       : /home/vsts/.qcodes/logs/command_history.log\n",
      "Mode           : append\n",
      "Output logging : True\n",
      "Raw input log  : False\n",
      "Timestamping   : True\n",
      "State          : active\n"
     ]
    },
    {
     "name": "stdout",
     "output_type": "stream",
     "text": [
      "Qcodes Logfile : /home/vsts/.qcodes/logs/200904-18807-qcodes.log\n"
     ]
    }
   ],
   "source": [
    "import os\n",
    "cwd = os.getcwd()\n",
    "import qcodes as qc\n",
    "qc.config[\"core\"][\"db_location\"] = os.path.join(cwd, 'testing.db')\n"
   ]
  },
  {
   "cell_type": "code",
   "execution_count": 2,
   "metadata": {},
   "outputs": [],
   "source": [
    "%matplotlib inline\n",
    "import time\n",
    "import matplotlib.pyplot as plt\n",
    "import numpy as np\n",
    "\n",
    "import qcodes as qc\n",
    "from qcodes.instrument.parameter import ManualParameter\n",
    "from qcodes.dataset.experiment_container import (Experiment,\n",
    "                                                 load_last_experiment,\n",
    "                                                 new_experiment)\n",
    "from qcodes.dataset.sqlite.database import initialise_database\n",
    "from qcodes import load_or_create_experiment\n",
    "from qcodes.dataset.measurements import Measurement"
   ]
  },
  {
   "cell_type": "code",
   "execution_count": 3,
   "metadata": {},
   "outputs": [
    {
     "name": "stdout",
     "output_type": "stream",
     "text": [
      "\r",
      "0it [00:00, ?it/s]"
     ]
    },
    {
     "name": "stdout",
     "output_type": "stream",
     "text": [
      "\r",
      "Upgrading database; v0 -> v1: : 0it [00:00, ?it/s]"
     ]
    },
    {
     "name": "stdout",
     "output_type": "stream",
     "text": [
      "\r",
      "Upgrading database; v0 -> v1: : 0it [00:00, ?it/s]"
     ]
    },
    {
     "name": "stdout",
     "output_type": "stream",
     "text": [
      "\n",
      "\r",
      "  0%|          | 0/1 [00:00<?, ?it/s]"
     ]
    },
    {
     "name": "stdout",
     "output_type": "stream",
     "text": [
      "\r",
      "Upgrading database; v1 -> v2:   0%|          | 0/1 [00:00<?, ?it/s]"
     ]
    },
    {
     "name": "stdout",
     "output_type": "stream",
     "text": [
      "\r",
      "Upgrading database; v1 -> v2: 100%|██████████| 1/1 [00:00<00:00, 763.57it/s]"
     ]
    },
    {
     "name": "stdout",
     "output_type": "stream",
     "text": [
      "\n",
      "\r",
      "0it [00:00, ?it/s]"
     ]
    },
    {
     "name": "stdout",
     "output_type": "stream",
     "text": [
      "\r",
      "Upgrading database; v2 -> v3: : 0it [00:00, ?it/s]"
     ]
    },
    {
     "name": "stdout",
     "output_type": "stream",
     "text": [
      "\r",
      "Upgrading database; v2 -> v3: : 0it [00:00, ?it/s]"
     ]
    },
    {
     "name": "stdout",
     "output_type": "stream",
     "text": [
      "\n",
      "\r",
      "0it [00:00, ?it/s]"
     ]
    },
    {
     "name": "stdout",
     "output_type": "stream",
     "text": [
      "\r",
      "Upgrading database; v3 -> v4: : 0it [00:00, ?it/s]"
     ]
    },
    {
     "name": "stdout",
     "output_type": "stream",
     "text": [
      "\r",
      "Upgrading database; v3 -> v4: : 0it [00:00, ?it/s]"
     ]
    },
    {
     "name": "stdout",
     "output_type": "stream",
     "text": [
      "\n",
      "\r",
      "  0%|          | 0/1 [00:00<?, ?it/s]"
     ]
    },
    {
     "name": "stdout",
     "output_type": "stream",
     "text": [
      "\r",
      "Upgrading database; v4 -> v5:   0%|          | 0/1 [00:00<?, ?it/s]"
     ]
    },
    {
     "name": "stdout",
     "output_type": "stream",
     "text": [
      "\r",
      "Upgrading database; v4 -> v5: 100%|██████████| 1/1 [00:00<00:00, 742.49it/s]"
     ]
    },
    {
     "name": "stdout",
     "output_type": "stream",
     "text": [
      "\n",
      "\r",
      "0it [00:00, ?it/s]"
     ]
    },
    {
     "name": "stdout",
     "output_type": "stream",
     "text": [
      "\r",
      "Upgrading database; v5 -> v6: : 0it [00:00, ?it/s]"
     ]
    },
    {
     "name": "stdout",
     "output_type": "stream",
     "text": [
      "\r",
      "Upgrading database; v5 -> v6: : 0it [00:00, ?it/s]"
     ]
    },
    {
     "name": "stdout",
     "output_type": "stream",
     "text": [
      "\n",
      "\r",
      "  0%|          | 0/1 [00:00<?, ?it/s]"
     ]
    },
    {
     "name": "stdout",
     "output_type": "stream",
     "text": [
      "\r",
      "Upgrading database; v6 -> v7:   0%|          | 0/1 [00:00<?, ?it/s]"
     ]
    },
    {
     "name": "stdout",
     "output_type": "stream",
     "text": [
      "\r",
      "Upgrading database; v6 -> v7: 100%|██████████| 1/1 [00:00<00:00, 424.05it/s]"
     ]
    },
    {
     "name": "stdout",
     "output_type": "stream",
     "text": [
      "\n",
      "\r",
      "  0%|          | 0/1 [00:00<?, ?it/s]"
     ]
    },
    {
     "name": "stdout",
     "output_type": "stream",
     "text": [
      "\r",
      "Upgrading database; v7 -> v8:   0%|          | 0/1 [00:00<?, ?it/s]"
     ]
    },
    {
     "name": "stdout",
     "output_type": "stream",
     "text": [
      "\r",
      "Upgrading database; v7 -> v8: 100%|██████████| 1/1 [00:00<00:00, 657.72it/s]"
     ]
    },
    {
     "name": "stdout",
     "output_type": "stream",
     "text": [
      "\n",
      "\r",
      "  0%|          | 0/1 [00:00<?, ?it/s]"
     ]
    },
    {
     "name": "stdout",
     "output_type": "stream",
     "text": [
      "\r",
      "Upgrading database; v8 -> v9:   0%|          | 0/1 [00:00<?, ?it/s]"
     ]
    },
    {
     "name": "stdout",
     "output_type": "stream",
     "text": [
      "\r",
      "Upgrading database; v8 -> v9: 100%|██████████| 1/1 [00:00<00:00, 783.54it/s]"
     ]
    },
    {
     "name": "stdout",
     "output_type": "stream",
     "text": [
      "\n"
     ]
    }
   ],
   "source": [
    "initialise_database()\n",
    "exp = load_or_create_experiment(experiment_name='tutorial_exp', sample_name=\"no sample\")"
   ]
  },
  {
   "cell_type": "markdown",
   "metadata": {},
   "source": [
    "Here, we define a simple function to benchmark the time it takes to insert n points with either numeric or array data type.\n",
    "We will compare both the time used to call ``add_result`` and the time used for the full measurement."
   ]
  },
  {
   "cell_type": "code",
   "execution_count": 4,
   "metadata": {},
   "outputs": [],
   "source": [
    "def insert_data(paramtype, npoints, nreps=1):\n",
    "\n",
    "    meas = Measurement(exp=exp)\n",
    "\n",
    "    x1 = ManualParameter('x1')\n",
    "    x2 = ManualParameter('x2')\n",
    "    x3 = ManualParameter('x3')\n",
    "    y1 = ManualParameter('y1')\n",
    "    y2 = ManualParameter('y2')\n",
    "\n",
    "    meas.register_parameter(x1, paramtype=paramtype)\n",
    "    meas.register_parameter(x2, paramtype=paramtype)\n",
    "    meas.register_parameter(x3, paramtype=paramtype)\n",
    "    meas.register_parameter(y1, setpoints=[x1, x2, x3],\n",
    "                            paramtype=paramtype)\n",
    "    meas.register_parameter(y2, setpoints=[x1, x2, x3],\n",
    "                            paramtype=paramtype)\n",
    "    start = time.perf_counter()\n",
    "    with meas.run() as datasaver:\n",
    "        start_adding = time.perf_counter()\n",
    "        for i in range(nreps):\n",
    "            datasaver.add_result((x1, np.random.rand(npoints)),\n",
    "                                 (x2, np.random.rand(npoints)),\n",
    "                                 (x3, np.random.rand(npoints)),\n",
    "                                 (y1, np.random.rand(npoints)),\n",
    "                                 (y2, np.random.rand(npoints)))\n",
    "        stop_adding = time.perf_counter()\n",
    "        run_id = datasaver.run_id\n",
    "    stop = time.perf_counter()\n",
    "    tot_time = stop - start\n",
    "    add_time = stop_adding - start_adding\n",
    "    return tot_time, add_time, run_id"
   ]
  },
  {
   "cell_type": "markdown",
   "metadata": {},
   "source": [
    "## Comparison between numeric/array data and binary blob"
   ]
  },
  {
   "cell_type": "markdown",
   "metadata": {},
   "source": [
    "### Case1: Short experiment time"
   ]
  },
  {
   "cell_type": "code",
   "execution_count": 5,
   "metadata": {},
   "outputs": [
    {
     "name": "stdout",
     "output_type": "stream",
     "text": [
      "Starting experimental run with id: 1. \n",
      "Starting experimental run with id: 2. \n",
      "Starting experimental run with id: 3. \n",
      "Starting experimental run with id: 4. \n"
     ]
    },
    {
     "name": "stdout",
     "output_type": "stream",
     "text": [
      "Starting experimental run with id: 5. \n"
     ]
    },
    {
     "name": "stdout",
     "output_type": "stream",
     "text": [
      "Starting experimental run with id: 6. \n",
      "Starting experimental run with id: 7. \n"
     ]
    },
    {
     "name": "stdout",
     "output_type": "stream",
     "text": [
      "Starting experimental run with id: 8. \n",
      "Starting experimental run with id: 9. \n"
     ]
    },
    {
     "name": "stdout",
     "output_type": "stream",
     "text": [
      "Starting experimental run with id: 10. \n",
      "Starting experimental run with id: 11. \n"
     ]
    },
    {
     "name": "stdout",
     "output_type": "stream",
     "text": [
      "Starting experimental run with id: 12. \n",
      "Starting experimental run with id: 13. \n"
     ]
    },
    {
     "name": "stdout",
     "output_type": "stream",
     "text": [
      "Starting experimental run with id: 14. \n"
     ]
    }
   ],
   "source": [
    "sizes = [1,500,1000,2000,3000,4000,5000]\n",
    "t_numeric = []\n",
    "t_numeric_add = []\n",
    "t_array = []\n",
    "t_array_add = []\n",
    "for size in sizes:\n",
    "    tn, tna, run_id_n =  insert_data('numeric', size)\n",
    "    t_numeric.append(tn)\n",
    "    t_numeric_add.append(tna)\n",
    "\n",
    "    ta, taa, run_id_a =  insert_data('array', size)\n",
    "    t_array.append(ta)\n",
    "    t_array_add.append(taa)"
   ]
  },
  {
   "cell_type": "code",
   "execution_count": 6,
   "metadata": {},
   "outputs": [
    {
     "data": {
      "image/png": "[encoded data removed]",
      "text/plain": [
       "<Figure size 432x288 with 1 Axes>"
      ]
     },
     "metadata": {
      "needs_background": "light"
     },
     "output_type": "display_data"
    }
   ],
   "source": [
    "fig, ax = plt.subplots(1,1)\n",
    "ax.plot(sizes, t_numeric, 'o-', label='Inserting row-by-row')\n",
    "ax.plot(sizes, t_numeric_add, 'o-', label='Inserting row-by-row: add_result only')\n",
    "ax.plot(sizes, t_array, 'd-', label='Inserting as binary blob')\n",
    "ax.plot(sizes, t_array_add, 'd-', label='Inserting as binary blob: add_result only')\n",
    "ax.legend()\n",
    "ax.set_xlabel('Array length')\n",
    "ax.set_ylabel('Time (s)')\n",
    "fig.tight_layout()"
   ]
  },
  {
   "cell_type": "markdown",
   "metadata": {},
   "source": [
    "As shown in the latter figure, the time to setup and and close the experiment is approximately 0.4 sec. In case of small array sizes, the difference between inserting values of data as arrays and inserting them row-by-row is relatively unimportant. At larger array sizes, i.e. above 10000 points, the cost of writing data as individual datapoints starts to become important.\n"
   ]
  },
  {
   "cell_type": "markdown",
   "metadata": {},
   "source": [
    "### Case2: Long experiment time "
   ]
  },
  {
   "cell_type": "code",
   "execution_count": 7,
   "metadata": {},
   "outputs": [
    {
     "name": "stdout",
     "output_type": "stream",
     "text": [
      "Starting experimental run with id: 15. \n",
      "Starting experimental run with id: 16. \n",
      "Starting experimental run with id: 17. \n"
     ]
    },
    {
     "name": "stdout",
     "output_type": "stream",
     "text": [
      "Starting experimental run with id: 18. \n",
      "Starting experimental run with id: 19. \n"
     ]
    },
    {
     "name": "stdout",
     "output_type": "stream",
     "text": [
      "Starting experimental run with id: 20. \n"
     ]
    },
    {
     "name": "stdout",
     "output_type": "stream",
     "text": [
      "Starting experimental run with id: 21. \n"
     ]
    },
    {
     "name": "stdout",
     "output_type": "stream",
     "text": [
      "Starting experimental run with id: 22. \n"
     ]
    },
    {
     "name": "stdout",
     "output_type": "stream",
     "text": [
      "Starting experimental run with id: 23. \n"
     ]
    },
    {
     "name": "stdout",
     "output_type": "stream",
     "text": [
      "Starting experimental run with id: 24. \n"
     ]
    },
    {
     "name": "stdout",
     "output_type": "stream",
     "text": [
      "Starting experimental run with id: 25. \n"
     ]
    },
    {
     "name": "stdout",
     "output_type": "stream",
     "text": [
      "Starting experimental run with id: 26. \n"
     ]
    },
    {
     "name": "stdout",
     "output_type": "stream",
     "text": [
      "Starting experimental run with id: 27. \n"
     ]
    },
    {
     "name": "stdout",
     "output_type": "stream",
     "text": [
      "Starting experimental run with id: 28. \n"
     ]
    }
   ],
   "source": [
    "sizes = [1,500,1000,2000,3000,4000,5000]\n",
    "nreps = 100\n",
    "t_numeric = []\n",
    "t_numeric_add = []\n",
    "t_numeric_run_ids = []\n",
    "t_array = []\n",
    "t_array_add = []\n",
    "t_array_run_ids = []\n",
    "for size in sizes:\n",
    "    tn, tna, run_id_n =  insert_data('numeric', size, nreps=nreps)\n",
    "    t_numeric.append(tn)\n",
    "    t_numeric_add.append(tna)\n",
    "    t_numeric_run_ids.append(run_id_n)\n",
    "\n",
    "    ta, taa, run_id_a =  insert_data('array', size, nreps=nreps)\n",
    "    t_array.append(ta)\n",
    "    t_array_add.append(taa)\n",
    "    t_array_run_ids.append(run_id_a)"
   ]
  },
  {
   "cell_type": "code",
   "execution_count": 8,
   "metadata": {
    "scrolled": true
   },
   "outputs": [
    {
     "data": {
      "image/png": "[encoded data removed]",
      "text/plain": [
       "<Figure size 432x288 with 1 Axes>"
      ]
     },
     "metadata": {
      "needs_background": "light"
     },
     "output_type": "display_data"
    }
   ],
   "source": [
    "fig, ax = plt.subplots(1,1)\n",
    "ax.plot(sizes, t_numeric, 'o-', label='Inserting row-by-row')\n",
    "ax.plot(sizes, t_numeric_add, 'o-', label='Inserting row-by-row: add_result only')\n",
    "ax.plot(sizes, t_array, 'd-', label='Inserting as binary blob')\n",
    "ax.plot(sizes, t_array_add, 'd-', label='Inserting as binary blob: add_result only')\n",
    "ax.legend()\n",
    "ax.set_xlabel('Array length')\n",
    "ax.set_ylabel('Time (s)')\n",
    "fig.tight_layout()"
   ]
  },
  {
   "cell_type": "markdown",
   "metadata": {},
   "source": [
    "However, as we increase the length of the experiment, as seen here by repeating the insertion 100 times, we see a big difference between inserting values of the data row-by-row and inserting it as a binary blob."
   ]
  },
  {
   "cell_type": "markdown",
   "metadata": {},
   "source": [
    "## Loading the data "
   ]
  },
  {
   "cell_type": "code",
   "execution_count": 9,
   "metadata": {},
   "outputs": [],
   "source": [
    "from qcodes.dataset.data_set import load_by_id\n",
    "from qcodes.dataset.data_export import get_data_by_id"
   ]
  },
  {
   "cell_type": "markdown",
   "metadata": {},
   "source": [
    "As usual you can load the data by using the ``load_by_id`` function but you will notice that the different storage methods\n",
    "are reflected in shape of the data as it is retrieved. "
   ]
  },
  {
   "cell_type": "code",
   "execution_count": 10,
   "metadata": {},
   "outputs": [],
   "source": [
    "run_id_n = t_numeric_run_ids[0]\n",
    "run_id_a = t_array_run_ids[0]"
   ]
  },
  {
   "cell_type": "code",
   "execution_count": 11,
   "metadata": {
    "scrolled": true
   },
   "outputs": [
    {
     "data": {
      "text/plain": [
       "{'x1': {'x1': array([0.31905507, 0.31905507, 0.28488085, 0.28488085, 0.77852194,\n",
       "         0.77852194, 0.3573399 , 0.3573399 , 0.52439831, 0.52439831,\n",
       "         0.77803875, 0.77803875, 0.3982951 , 0.3982951 , 0.74347258,\n",
       "         0.74347258, 0.51997965, 0.51997965, 0.28431067, 0.28431067,\n",
       "         0.48584327, 0.48584327, 0.18352949, 0.18352949, 0.9864433 ,\n",
       "         0.9864433 , 0.395339  , 0.395339  , 0.50814069, 0.50814069,\n",
       "         0.73033261, 0.73033261, 0.00484094, 0.00484094, 0.43463681,\n",
       "         0.43463681, 0.18662614, 0.18662614, 0.40679827, 0.40679827,\n",
       "         0.646315  , 0.646315  , 0.68034029, 0.68034029, 0.76063032,\n",
       "         0.76063032, 0.22713749, 0.22713749, 0.26651995, 0.26651995,\n",
       "         0.79594567, 0.79594567, 0.98310304, 0.98310304, 0.63094027,\n",
       "         0.63094027, 0.23168752, 0.23168752, 0.68556977, 0.68556977,\n",
       "         0.70842887, 0.70842887, 0.65669007, 0.65669007, 0.43612949,\n",
       "         0.43612949, 0.53296802, 0.53296802, 0.63040085, 0.63040085,\n",
       "         0.34556481, 0.34556481, 0.49737825, 0.49737825, 0.7112546 ,\n",
       "         0.7112546 , 0.6415919 , 0.6415919 , 0.10879555, 0.10879555,\n",
       "         0.82228624, 0.82228624, 0.96060872, 0.96060872, 0.28763252,\n",
       "         0.28763252, 0.53687434, 0.53687434, 0.47719263, 0.47719263,\n",
       "         0.06065059, 0.06065059, 0.8965205 , 0.8965205 , 0.46910237,\n",
       "         0.46910237, 0.13598098, 0.13598098, 0.63350365, 0.63350365,\n",
       "         0.75622027, 0.75622027, 0.35237057, 0.35237057, 0.44955503,\n",
       "         0.44955503, 0.692861  , 0.692861  , 0.16084958, 0.16084958,\n",
       "         0.97457633, 0.97457633, 0.00746001, 0.00746001, 0.57240707,\n",
       "         0.57240707, 0.00578182, 0.00578182, 0.38021906, 0.38021906,\n",
       "         0.43357001, 0.43357001, 0.38026669, 0.38026669, 0.7680305 ,\n",
       "         0.7680305 , 0.03811924, 0.03811924, 0.39789736, 0.39789736,\n",
       "         0.71948674, 0.71948674, 0.37457355, 0.37457355, 0.62521942,\n",
       "         0.62521942, 0.54515596, 0.54515596, 0.90249539, 0.90249539,\n",
       "         0.37150147, 0.37150147, 0.54250693, 0.54250693, 0.83233583,\n",
       "         0.83233583, 0.72089513, 0.72089513, 0.82197826, 0.82197826,\n",
       "         0.41484838, 0.41484838, 0.89456934, 0.89456934, 0.96695416,\n",
       "         0.96695416, 0.52117915, 0.52117915, 0.94523287, 0.94523287,\n",
       "         0.36659202, 0.36659202, 0.89963055, 0.89963055, 0.95123019,\n",
       "         0.95123019, 0.66228299, 0.66228299, 0.57536404, 0.57536404,\n",
       "         0.77082258, 0.77082258, 0.56364336, 0.56364336, 0.0586046 ,\n",
       "         0.0586046 , 0.4794551 , 0.4794551 , 0.07992374, 0.07992374,\n",
       "         0.46587803, 0.46587803, 0.83703197, 0.83703197, 0.783473  ,\n",
       "         0.783473  , 0.03319489, 0.03319489, 0.271574  , 0.271574  ,\n",
       "         0.5021066 , 0.5021066 , 0.92635122, 0.92635122, 0.31339967,\n",
       "         0.31339967, 0.11025009, 0.11025009, 0.729558  , 0.729558  ])}}"
      ]
     },
     "execution_count": 11,
     "metadata": {},
     "output_type": "execute_result"
    }
   ],
   "source": [
    "ds = load_by_id(run_id_n)\n",
    "ds.get_parameter_data('x1')"
   ]
  },
  {
   "cell_type": "markdown",
   "metadata": {},
   "source": [
    "And a dataset stored as binary arrays"
   ]
  },
  {
   "cell_type": "code",
   "execution_count": 12,
   "metadata": {
    "scrolled": true
   },
   "outputs": [
    {
     "data": {
      "text/plain": [
       "{'x1': {'x1': array([[0.47816886],\n",
       "         [0.47816886],\n",
       "         [0.19012621],\n",
       "         [0.19012621],\n",
       "         [0.0858437 ],\n",
       "         [0.0858437 ],\n",
       "         [0.02973175],\n",
       "         [0.02973175],\n",
       "         [0.52508693],\n",
       "         [0.52508693],\n",
       "         [0.96368329],\n",
       "         [0.96368329],\n",
       "         [0.85795366],\n",
       "         [0.85795366],\n",
       "         [0.45463053],\n",
       "         [0.45463053],\n",
       "         [0.86045734],\n",
       "         [0.86045734],\n",
       "         [0.64988964],\n",
       "         [0.64988964],\n",
       "         [0.63670769],\n",
       "         [0.63670769],\n",
       "         [0.8556474 ],\n",
       "         [0.8556474 ],\n",
       "         [0.22821978],\n",
       "         [0.22821978],\n",
       "         [0.52546059],\n",
       "         [0.52546059],\n",
       "         [0.66111284],\n",
       "         [0.66111284],\n",
       "         [0.99995311],\n",
       "         [0.99995311],\n",
       "         [0.6473175 ],\n",
       "         [0.6473175 ],\n",
       "         [0.26789295],\n",
       "         [0.26789295],\n",
       "         [0.42878025],\n",
       "         [0.42878025],\n",
       "         [0.62916983],\n",
       "         [0.62916983],\n",
       "         [0.84945629],\n",
       "         [0.84945629],\n",
       "         [0.13620969],\n",
       "         [0.13620969],\n",
       "         [0.34084033],\n",
       "         [0.34084033],\n",
       "         [0.47416999],\n",
       "         [0.47416999],\n",
       "         [0.70650112],\n",
       "         [0.70650112],\n",
       "         [0.94655638],\n",
       "         [0.94655638],\n",
       "         [0.78636093],\n",
       "         [0.78636093],\n",
       "         [0.96956414],\n",
       "         [0.96956414],\n",
       "         [0.42996279],\n",
       "         [0.42996279],\n",
       "         [0.63347205],\n",
       "         [0.63347205],\n",
       "         [0.91489559],\n",
       "         [0.91489559],\n",
       "         [0.59382092],\n",
       "         [0.59382092],\n",
       "         [0.38354799],\n",
       "         [0.38354799],\n",
       "         [0.63502428],\n",
       "         [0.63502428],\n",
       "         [0.63715893],\n",
       "         [0.63715893],\n",
       "         [0.65217438],\n",
       "         [0.65217438],\n",
       "         [0.74777469],\n",
       "         [0.74777469],\n",
       "         [0.06058711],\n",
       "         [0.06058711],\n",
       "         [0.95115774],\n",
       "         [0.95115774],\n",
       "         [0.24252469],\n",
       "         [0.24252469],\n",
       "         [0.18419914],\n",
       "         [0.18419914],\n",
       "         [0.52667204],\n",
       "         [0.52667204],\n",
       "         [0.11975701],\n",
       "         [0.11975701],\n",
       "         [0.87787411],\n",
       "         [0.87787411],\n",
       "         [0.20474182],\n",
       "         [0.20474182],\n",
       "         [0.05579153],\n",
       "         [0.05579153],\n",
       "         [0.70471867],\n",
       "         [0.70471867],\n",
       "         [0.15470752],\n",
       "         [0.15470752],\n",
       "         [0.28826873],\n",
       "         [0.28826873],\n",
       "         [0.79709814],\n",
       "         [0.79709814],\n",
       "         [0.6690265 ],\n",
       "         [0.6690265 ],\n",
       "         [0.69504928],\n",
       "         [0.69504928],\n",
       "         [0.4258228 ],\n",
       "         [0.4258228 ],\n",
       "         [0.71892524],\n",
       "         [0.71892524],\n",
       "         [0.45711616],\n",
       "         [0.45711616],\n",
       "         [0.77143628],\n",
       "         [0.77143628],\n",
       "         [0.46092542],\n",
       "         [0.46092542],\n",
       "         [0.25577349],\n",
       "         [0.25577349],\n",
       "         [0.53291999],\n",
       "         [0.53291999],\n",
       "         [0.88355138],\n",
       "         [0.88355138],\n",
       "         [0.25868684],\n",
       "         [0.25868684],\n",
       "         [0.12597979],\n",
       "         [0.12597979],\n",
       "         [0.81414872],\n",
       "         [0.81414872],\n",
       "         [0.10655007],\n",
       "         [0.10655007],\n",
       "         [0.14234064],\n",
       "         [0.14234064],\n",
       "         [0.41968069],\n",
       "         [0.41968069],\n",
       "         [0.49540108],\n",
       "         [0.49540108],\n",
       "         [0.93933772],\n",
       "         [0.93933772],\n",
       "         [0.99319114],\n",
       "         [0.99319114],\n",
       "         [0.89947315],\n",
       "         [0.89947315],\n",
       "         [0.61434778],\n",
       "         [0.61434778],\n",
       "         [0.78178794],\n",
       "         [0.78178794],\n",
       "         [0.34911495],\n",
       "         [0.34911495],\n",
       "         [0.95710882],\n",
       "         [0.95710882],\n",
       "         [0.75905827],\n",
       "         [0.75905827],\n",
       "         [0.44028067],\n",
       "         [0.44028067],\n",
       "         [0.799896  ],\n",
       "         [0.799896  ],\n",
       "         [0.82263214],\n",
       "         [0.82263214],\n",
       "         [0.49979424],\n",
       "         [0.49979424],\n",
       "         [0.93203656],\n",
       "         [0.93203656],\n",
       "         [0.3018275 ],\n",
       "         [0.3018275 ],\n",
       "         [0.01044617],\n",
       "         [0.01044617],\n",
       "         [0.10324076],\n",
       "         [0.10324076],\n",
       "         [0.88555596],\n",
       "         [0.88555596],\n",
       "         [0.39146091],\n",
       "         [0.39146091],\n",
       "         [0.1201753 ],\n",
       "         [0.1201753 ],\n",
       "         [0.75883511],\n",
       "         [0.75883511],\n",
       "         [0.26513639],\n",
       "         [0.26513639],\n",
       "         [0.16325949],\n",
       "         [0.16325949],\n",
       "         [0.80466401],\n",
       "         [0.80466401],\n",
       "         [0.89831796],\n",
       "         [0.89831796],\n",
       "         [0.93905496],\n",
       "         [0.93905496],\n",
       "         [0.26355526],\n",
       "         [0.26355526],\n",
       "         [0.09826018],\n",
       "         [0.09826018],\n",
       "         [0.66938688],\n",
       "         [0.66938688],\n",
       "         [0.23126659],\n",
       "         [0.23126659],\n",
       "         [0.55998419],\n",
       "         [0.55998419],\n",
       "         [0.80395924],\n",
       "         [0.80395924],\n",
       "         [0.20914122],\n",
       "         [0.20914122],\n",
       "         [0.42730865],\n",
       "         [0.42730865]])}}"
      ]
     },
     "execution_count": 12,
     "metadata": {},
     "output_type": "execute_result"
    }
   ],
   "source": [
    "ds = load_by_id(run_id_a)\n",
    "ds.get_parameter_data('x1')"
   ]
  },
  {
   "cell_type": "code",
   "execution_count": null,
   "metadata": {},
   "outputs": [],
   "source": []
  }
 ],
 "metadata": {
  "kernelspec": {
   "display_name": "Python 3",
   "language": "python",
   "name": "python3"
  },
  "language_info": {
   "codemirror_mode": {
    "name": "ipython",
    "version": 3
   },
   "file_extension": ".py",
   "mimetype": "text/x-python",
   "name": "python",
   "nbconvert_exporter": "python",
   "pygments_lexer": "ipython3",
   "version": "3.7.7"
  },
  "nbsphinx": {
   "timeout": 600
  },
  "toc": {
   "base_numbering": 1,
   "nav_menu": {},
   "number_sections": true,
   "sideBar": true,
   "skip_h1_title": false,
   "title_cell": "Table of Contents",
   "title_sidebar": "Contents",
   "toc_cell": false,
   "toc_position": {},
   "toc_section_display": true,
   "toc_window_display": false
  },
  "varInspector": {
   "cols": {
    "lenName": 16,
    "lenType": 16,
    "lenVar": 40
   },
   "kernels_config": {
    "python": {
     "delete_cmd_postfix": "",
     "delete_cmd_prefix": "del ",
     "library": "var_list.py",
     "varRefreshCmd": "print(var_dic_list())"
    },
    "r": {
     "delete_cmd_postfix": ") ",
     "delete_cmd_prefix": "rm(",
     "library": "var_list.r",
     "varRefreshCmd": "cat(var_dic_list()) "
    }
   },
   "types_to_exclude": [
    "module",
    "function",
    "builtin_function_or_method",
    "instance",
    "_Feature"
   ],
   "window_display": false
  }
 },
 "nbformat": 4,
 "nbformat_minor": 2
}
