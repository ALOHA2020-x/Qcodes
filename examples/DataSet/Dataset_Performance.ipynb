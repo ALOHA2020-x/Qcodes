{
 "cells": [
  {
   "cell_type": "markdown",
   "metadata": {},
   "source": [
    "# DataSet Performance\n",
    "\n",
    "This notebook shows the trade-off between inserting data into a database row-by-row and as binary blobs. Inserting the data row-by-row means that we have direct access to all the data and may perform queries directly on the values of the data. On the other hand, as we shall see, this is much slower than inserting the data directly as binary blobs."
   ]
  },
  {
   "cell_type": "markdown",
   "metadata": {},
   "source": [
    "First, we choose a new location for the database to ensure that we don't add a bunch of benchmarking data to the default one."
   ]
  },
  {
   "cell_type": "code",
   "execution_count": 1,
   "metadata": {
    "execution": {
     "iopub.execute_input": "2020-09-24T10:53:44.932377Z",
     "iopub.status.busy": "2020-09-24T10:53:44.931668Z",
     "iopub.status.idle": "2020-09-24T10:53:46.029547Z",
     "shell.execute_reply": "2020-09-24T10:53:46.030076Z"
    }
   },
   "outputs": [
    {
     "name": "stdout",
     "output_type": "stream",
     "text": [
      "Logging hadn't been started.\n",
      "Activating auto-logging. Current session state plus future input saved.\n",
      "Filename       : /home/vsts/.qcodes/logs/command_history.log\n",
      "Mode           : append\n",
      "Output logging : True\n",
      "Raw input log  : False\n",
      "Timestamping   : True\n",
      "State          : active\n"
     ]
    },
    {
     "name": "stdout",
     "output_type": "stream",
     "text": [
      "Qcodes Logfile : /home/vsts/.qcodes/logs/200924-18990-qcodes.log\n"
     ]
    }
   ],
   "source": [
    "import os\n",
    "cwd = os.getcwd()\n",
    "import qcodes as qc\n",
    "qc.config[\"core\"][\"db_location\"] = os.path.join(cwd, 'testing.db')\n"
   ]
  },
  {
   "cell_type": "code",
   "execution_count": 2,
   "metadata": {
    "execution": {
     "iopub.execute_input": "2020-09-24T10:53:46.037639Z",
     "iopub.status.busy": "2020-09-24T10:53:46.036098Z",
     "iopub.status.idle": "2020-09-24T10:53:46.235063Z",
     "shell.execute_reply": "2020-09-24T10:53:46.234050Z"
    }
   },
   "outputs": [],
   "source": [
    "%matplotlib inline\n",
    "import time\n",
    "import matplotlib.pyplot as plt\n",
    "import numpy as np\n",
    "\n",
    "import qcodes as qc\n",
    "from qcodes.instrument.parameter import ManualParameter\n",
    "from qcodes.dataset.experiment_container import (Experiment,\n",
    "                                                 load_last_experiment,\n",
    "                                                 new_experiment)\n",
    "from qcodes.dataset.sqlite.database import initialise_database\n",
    "from qcodes import load_or_create_experiment\n",
    "from qcodes.dataset.measurements import Measurement"
   ]
  },
  {
   "cell_type": "code",
   "execution_count": 3,
   "metadata": {
    "execution": {
     "iopub.execute_input": "2020-09-24T10:53:46.239349Z",
     "iopub.status.busy": "2020-09-24T10:53:46.238806Z",
     "iopub.status.idle": "2020-09-24T10:53:46.355249Z",
     "shell.execute_reply": "2020-09-24T10:53:46.355934Z"
    }
   },
   "outputs": [
    {
     "name": "stdout",
     "output_type": "stream",
     "text": [
      "\r",
      "0it [00:00, ?it/s]"
     ]
    },
    {
     "name": "stdout",
     "output_type": "stream",
     "text": [
      "\r",
      "Upgrading database; v0 -> v1: : 0it [00:00, ?it/s]"
     ]
    },
    {
     "name": "stdout",
     "output_type": "stream",
     "text": [
      "\r",
      "Upgrading database; v0 -> v1: : 0it [00:00, ?it/s]"
     ]
    },
    {
     "name": "stdout",
     "output_type": "stream",
     "text": [
      "\n",
      "\r",
      "  0%|          | 0/1 [00:00<?, ?it/s]"
     ]
    },
    {
     "name": "stdout",
     "output_type": "stream",
     "text": [
      "\r",
      "Upgrading database; v1 -> v2:   0%|          | 0/1 [00:00<?, ?it/s]"
     ]
    },
    {
     "name": "stdout",
     "output_type": "stream",
     "text": [
      "\r",
      "Upgrading database; v1 -> v2: 100%|██████████| 1/1 [00:00<00:00, 264.83it/s]"
     ]
    },
    {
     "name": "stdout",
     "output_type": "stream",
     "text": [
      "\n",
      "\r",
      "0it [00:00, ?it/s]"
     ]
    },
    {
     "name": "stdout",
     "output_type": "stream",
     "text": [
      "\r",
      "Upgrading database; v2 -> v3: : 0it [00:00, ?it/s]"
     ]
    },
    {
     "name": "stdout",
     "output_type": "stream",
     "text": [
      "\r",
      "Upgrading database; v2 -> v3: : 0it [00:00, ?it/s]"
     ]
    },
    {
     "name": "stdout",
     "output_type": "stream",
     "text": [
      "\n",
      "\r",
      "0it [00:00, ?it/s]"
     ]
    },
    {
     "name": "stdout",
     "output_type": "stream",
     "text": [
      "\r",
      "Upgrading database; v3 -> v4: : 0it [00:00, ?it/s]"
     ]
    },
    {
     "name": "stdout",
     "output_type": "stream",
     "text": [
      "\r",
      "Upgrading database; v3 -> v4: : 0it [00:00, ?it/s]"
     ]
    },
    {
     "name": "stdout",
     "output_type": "stream",
     "text": [
      "\n",
      "\r",
      "  0%|          | 0/1 [00:00<?, ?it/s]"
     ]
    },
    {
     "name": "stdout",
     "output_type": "stream",
     "text": [
      "\r",
      "Upgrading database; v4 -> v5:   0%|          | 0/1 [00:00<?, ?it/s]"
     ]
    },
    {
     "name": "stdout",
     "output_type": "stream",
     "text": [
      "\r",
      "Upgrading database; v4 -> v5: 100%|██████████| 1/1 [00:00<00:00, 359.10it/s]"
     ]
    },
    {
     "name": "stdout",
     "output_type": "stream",
     "text": [
      "\n",
      "\r",
      "0it [00:00, ?it/s]"
     ]
    },
    {
     "name": "stdout",
     "output_type": "stream",
     "text": [
      "\r",
      "Upgrading database; v5 -> v6: : 0it [00:00, ?it/s]"
     ]
    },
    {
     "name": "stdout",
     "output_type": "stream",
     "text": [
      "\r",
      "Upgrading database; v5 -> v6: : 0it [00:00, ?it/s]"
     ]
    },
    {
     "name": "stdout",
     "output_type": "stream",
     "text": [
      "\n",
      "\r",
      "  0%|          | 0/1 [00:00<?, ?it/s]"
     ]
    },
    {
     "name": "stdout",
     "output_type": "stream",
     "text": [
      "\r",
      "Upgrading database; v6 -> v7:   0%|          | 0/1 [00:00<?, ?it/s]"
     ]
    },
    {
     "name": "stdout",
     "output_type": "stream",
     "text": [
      "\r",
      "Upgrading database; v6 -> v7: 100%|██████████| 1/1 [00:00<00:00, 209.89it/s]"
     ]
    },
    {
     "name": "stdout",
     "output_type": "stream",
     "text": [
      "\n",
      "\r",
      "  0%|          | 0/1 [00:00<?, ?it/s]"
     ]
    },
    {
     "name": "stdout",
     "output_type": "stream",
     "text": [
      "\r",
      "Upgrading database; v7 -> v8:   0%|          | 0/1 [00:00<?, ?it/s]"
     ]
    },
    {
     "name": "stdout",
     "output_type": "stream",
     "text": [
      "\r",
      "Upgrading database; v7 -> v8: 100%|██████████| 1/1 [00:00<00:00, 424.83it/s]"
     ]
    },
    {
     "name": "stdout",
     "output_type": "stream",
     "text": [
      "\n",
      "\r",
      "  0%|          | 0/1 [00:00<?, ?it/s]"
     ]
    },
    {
     "name": "stdout",
     "output_type": "stream",
     "text": [
      "\r",
      "Upgrading database; v8 -> v9:   0%|          | 0/1 [00:00<?, ?it/s]"
     ]
    },
    {
     "name": "stdout",
     "output_type": "stream",
     "text": [
      "\r",
      "Upgrading database; v8 -> v9: 100%|██████████| 1/1 [00:00<00:00, 424.27it/s]"
     ]
    },
    {
     "name": "stdout",
     "output_type": "stream",
     "text": [
      "\n"
     ]
    }
   ],
   "source": [
    "initialise_database()\n",
    "exp = load_or_create_experiment(experiment_name='tutorial_exp', sample_name=\"no sample\")"
   ]
  },
  {
   "cell_type": "markdown",
   "metadata": {},
   "source": [
    "Here, we define a simple function to benchmark the time it takes to insert n points with either numeric or array data type.\n",
    "We will compare both the time used to call ``add_result`` and the time used for the full measurement."
   ]
  },
  {
   "cell_type": "code",
   "execution_count": 4,
   "metadata": {
    "execution": {
     "iopub.execute_input": "2020-09-24T10:53:46.365533Z",
     "iopub.status.busy": "2020-09-24T10:53:46.364906Z",
     "iopub.status.idle": "2020-09-24T10:53:46.369115Z",
     "shell.execute_reply": "2020-09-24T10:53:46.368289Z"
    }
   },
   "outputs": [],
   "source": [
    "def insert_data(paramtype, npoints, nreps=1):\n",
    "\n",
    "    meas = Measurement(exp=exp)\n",
    "\n",
    "    x1 = ManualParameter('x1')\n",
    "    x2 = ManualParameter('x2')\n",
    "    x3 = ManualParameter('x3')\n",
    "    y1 = ManualParameter('y1')\n",
    "    y2 = ManualParameter('y2')\n",
    "\n",
    "    meas.register_parameter(x1, paramtype=paramtype)\n",
    "    meas.register_parameter(x2, paramtype=paramtype)\n",
    "    meas.register_parameter(x3, paramtype=paramtype)\n",
    "    meas.register_parameter(y1, setpoints=[x1, x2, x3],\n",
    "                            paramtype=paramtype)\n",
    "    meas.register_parameter(y2, setpoints=[x1, x2, x3],\n",
    "                            paramtype=paramtype)\n",
    "    start = time.perf_counter()\n",
    "    with meas.run() as datasaver:\n",
    "        start_adding = time.perf_counter()\n",
    "        for i in range(nreps):\n",
    "            datasaver.add_result((x1, np.random.rand(npoints)),\n",
    "                                 (x2, np.random.rand(npoints)),\n",
    "                                 (x3, np.random.rand(npoints)),\n",
    "                                 (y1, np.random.rand(npoints)),\n",
    "                                 (y2, np.random.rand(npoints)))\n",
    "        stop_adding = time.perf_counter()\n",
    "        run_id = datasaver.run_id\n",
    "    stop = time.perf_counter()\n",
    "    tot_time = stop - start\n",
    "    add_time = stop_adding - start_adding\n",
    "    return tot_time, add_time, run_id"
   ]
  },
  {
   "cell_type": "markdown",
   "metadata": {},
   "source": [
    "## Comparison between numeric/array data and binary blob"
   ]
  },
  {
   "cell_type": "markdown",
   "metadata": {},
   "source": [
    "### Case1: Short experiment time"
   ]
  },
  {
   "cell_type": "code",
   "execution_count": 5,
   "metadata": {
    "execution": {
     "iopub.execute_input": "2020-09-24T10:53:46.375833Z",
     "iopub.status.busy": "2020-09-24T10:53:46.374843Z",
     "iopub.status.idle": "2020-09-24T10:53:47.246489Z",
     "shell.execute_reply": "2020-09-24T10:53:47.245468Z"
    }
   },
   "outputs": [
    {
     "name": "stdout",
     "output_type": "stream",
     "text": [
      "Starting experimental run with id: 1. \n",
      "Starting experimental run with id: 2. \n",
      "Starting experimental run with id: 3. \n",
      "Starting experimental run with id: 4. \n"
     ]
    },
    {
     "name": "stdout",
     "output_type": "stream",
     "text": [
      "Starting experimental run with id: 5. \n"
     ]
    },
    {
     "name": "stdout",
     "output_type": "stream",
     "text": [
      "Starting experimental run with id: 6. \n"
     ]
    },
    {
     "name": "stdout",
     "output_type": "stream",
     "text": [
      "Starting experimental run with id: 7. \n"
     ]
    },
    {
     "name": "stdout",
     "output_type": "stream",
     "text": [
      "Starting experimental run with id: 8. \n",
      "Starting experimental run with id: 9. \n"
     ]
    },
    {
     "name": "stdout",
     "output_type": "stream",
     "text": [
      "Starting experimental run with id: 10. \n",
      "Starting experimental run with id: 11. \n"
     ]
    },
    {
     "name": "stdout",
     "output_type": "stream",
     "text": [
      "Starting experimental run with id: 12. \n"
     ]
    },
    {
     "name": "stdout",
     "output_type": "stream",
     "text": [
      "Starting experimental run with id: 13. \n"
     ]
    },
    {
     "name": "stdout",
     "output_type": "stream",
     "text": [
      "Starting experimental run with id: 14. \n"
     ]
    }
   ],
   "source": [
    "sizes = [1,500,1000,2000,3000,4000,5000]\n",
    "t_numeric = []\n",
    "t_numeric_add = []\n",
    "t_array = []\n",
    "t_array_add = []\n",
    "for size in sizes:\n",
    "    tn, tna, run_id_n =  insert_data('numeric', size)\n",
    "    t_numeric.append(tn)\n",
    "    t_numeric_add.append(tna)\n",
    "\n",
    "    ta, taa, run_id_a =  insert_data('array', size)\n",
    "    t_array.append(ta)\n",
    "    t_array_add.append(taa)"
   ]
  },
  {
   "cell_type": "code",
   "execution_count": 6,
   "metadata": {
    "execution": {
     "iopub.execute_input": "2020-09-24T10:53:47.265033Z",
     "iopub.status.busy": "2020-09-24T10:53:47.264218Z",
     "iopub.status.idle": "2020-09-24T10:53:47.482644Z",
     "shell.execute_reply": "2020-09-24T10:53:47.482106Z"
    }
   },
   "outputs": [
    {
     "data": {
      "image/png": "[encoded data removed]",
      "text/plain": [
       "<Figure size 432x288 with 1 Axes>"
      ]
     },
     "metadata": {
      "needs_background": "light"
     },
     "output_type": "display_data"
    }
   ],
   "source": [
    "fig, ax = plt.subplots(1,1)\n",
    "ax.plot(sizes, t_numeric, 'o-', label='Inserting row-by-row')\n",
    "ax.plot(sizes, t_numeric_add, 'o-', label='Inserting row-by-row: add_result only')\n",
    "ax.plot(sizes, t_array, 'd-', label='Inserting as binary blob')\n",
    "ax.plot(sizes, t_array_add, 'd-', label='Inserting as binary blob: add_result only')\n",
    "ax.legend()\n",
    "ax.set_xlabel('Array length')\n",
    "ax.set_ylabel('Time (s)')\n",
    "fig.tight_layout()"
   ]
  },
  {
   "cell_type": "markdown",
   "metadata": {},
   "source": [
    "As shown in the latter figure, the time to setup and and close the experiment is approximately 0.4 sec. In case of small array sizes, the difference between inserting values of data as arrays and inserting them row-by-row is relatively unimportant. At larger array sizes, i.e. above 10000 points, the cost of writing data as individual datapoints starts to become important.\n"
   ]
  },
  {
   "cell_type": "markdown",
   "metadata": {},
   "source": [
    "### Case2: Long experiment time "
   ]
  },
  {
   "cell_type": "code",
   "execution_count": 7,
   "metadata": {
    "execution": {
     "iopub.execute_input": "2020-09-24T10:53:47.491287Z",
     "iopub.status.busy": "2020-09-24T10:53:47.490604Z",
     "iopub.status.idle": "2020-09-24T10:54:49.236337Z",
     "shell.execute_reply": "2020-09-24T10:54:49.236822Z"
    }
   },
   "outputs": [
    {
     "name": "stdout",
     "output_type": "stream",
     "text": [
      "Starting experimental run with id: 15. \n",
      "Starting experimental run with id: 16. \n",
      "Starting experimental run with id: 17. \n"
     ]
    },
    {
     "name": "stdout",
     "output_type": "stream",
     "text": [
      "Starting experimental run with id: 18. \n",
      "Starting experimental run with id: 19. \n"
     ]
    },
    {
     "name": "stdout",
     "output_type": "stream",
     "text": [
      "Starting experimental run with id: 20. \n"
     ]
    },
    {
     "name": "stdout",
     "output_type": "stream",
     "text": [
      "Starting experimental run with id: 21. \n"
     ]
    },
    {
     "name": "stdout",
     "output_type": "stream",
     "text": [
      "Starting experimental run with id: 22. \n"
     ]
    },
    {
     "name": "stdout",
     "output_type": "stream",
     "text": [
      "Starting experimental run with id: 23. \n"
     ]
    },
    {
     "name": "stdout",
     "output_type": "stream",
     "text": [
      "Starting experimental run with id: 24. \n"
     ]
    },
    {
     "name": "stdout",
     "output_type": "stream",
     "text": [
      "Starting experimental run with id: 25. \n"
     ]
    },
    {
     "name": "stdout",
     "output_type": "stream",
     "text": [
      "Starting experimental run with id: 26. \n"
     ]
    },
    {
     "name": "stdout",
     "output_type": "stream",
     "text": [
      "Starting experimental run with id: 27. \n"
     ]
    },
    {
     "name": "stdout",
     "output_type": "stream",
     "text": [
      "Starting experimental run with id: 28. \n"
     ]
    }
   ],
   "source": [
    "sizes = [1,500,1000,2000,3000,4000,5000]\n",
    "nreps = 100\n",
    "t_numeric = []\n",
    "t_numeric_add = []\n",
    "t_numeric_run_ids = []\n",
    "t_array = []\n",
    "t_array_add = []\n",
    "t_array_run_ids = []\n",
    "for size in sizes:\n",
    "    tn, tna, run_id_n =  insert_data('numeric', size, nreps=nreps)\n",
    "    t_numeric.append(tn)\n",
    "    t_numeric_add.append(tna)\n",
    "    t_numeric_run_ids.append(run_id_n)\n",
    "\n",
    "    ta, taa, run_id_a =  insert_data('array', size, nreps=nreps)\n",
    "    t_array.append(ta)\n",
    "    t_array_add.append(taa)\n",
    "    t_array_run_ids.append(run_id_a)"
   ]
  },
  {
   "cell_type": "code",
   "execution_count": 8,
   "metadata": {
    "execution": {
     "iopub.execute_input": "2020-09-24T10:54:49.267941Z",
     "iopub.status.busy": "2020-09-24T10:54:49.258338Z",
     "iopub.status.idle": "2020-09-24T10:54:49.493363Z",
     "shell.execute_reply": "2020-09-24T10:54:49.492709Z"
    },
    "scrolled": true
   },
   "outputs": [
    {
     "data": {
      "image/png": "[encoded data removed]",
      "text/plain": [
       "<Figure size 432x288 with 1 Axes>"
      ]
     },
     "metadata": {
      "needs_background": "light"
     },
     "output_type": "display_data"
    }
   ],
   "source": [
    "fig, ax = plt.subplots(1,1)\n",
    "ax.plot(sizes, t_numeric, 'o-', label='Inserting row-by-row')\n",
    "ax.plot(sizes, t_numeric_add, 'o-', label='Inserting row-by-row: add_result only')\n",
    "ax.plot(sizes, t_array, 'd-', label='Inserting as binary blob')\n",
    "ax.plot(sizes, t_array_add, 'd-', label='Inserting as binary blob: add_result only')\n",
    "ax.legend()\n",
    "ax.set_xlabel('Array length')\n",
    "ax.set_ylabel('Time (s)')\n",
    "fig.tight_layout()"
   ]
  },
  {
   "cell_type": "markdown",
   "metadata": {},
   "source": [
    "However, as we increase the length of the experiment, as seen here by repeating the insertion 100 times, we see a big difference between inserting values of the data row-by-row and inserting it as a binary blob."
   ]
  },
  {
   "cell_type": "markdown",
   "metadata": {},
   "source": [
    "## Loading the data "
   ]
  },
  {
   "cell_type": "code",
   "execution_count": 9,
   "metadata": {
    "execution": {
     "iopub.execute_input": "2020-09-24T10:54:49.499140Z",
     "iopub.status.busy": "2020-09-24T10:54:49.497485Z",
     "iopub.status.idle": "2020-09-24T10:54:49.502391Z",
     "shell.execute_reply": "2020-09-24T10:54:49.501801Z"
    }
   },
   "outputs": [],
   "source": [
    "from qcodes.dataset.data_set import load_by_id\n",
    "from qcodes.dataset.data_export import get_data_by_id"
   ]
  },
  {
   "cell_type": "markdown",
   "metadata": {},
   "source": [
    "As usual you can load the data by using the ``load_by_id`` function but you will notice that the different storage methods\n",
    "are reflected in shape of the data as it is retrieved. "
   ]
  },
  {
   "cell_type": "code",
   "execution_count": 10,
   "metadata": {
    "execution": {
     "iopub.execute_input": "2020-09-24T10:54:49.506400Z",
     "iopub.status.busy": "2020-09-24T10:54:49.505764Z",
     "iopub.status.idle": "2020-09-24T10:54:49.509860Z",
     "shell.execute_reply": "2020-09-24T10:54:49.509238Z"
    }
   },
   "outputs": [],
   "source": [
    "run_id_n = t_numeric_run_ids[0]\n",
    "run_id_a = t_array_run_ids[0]"
   ]
  },
  {
   "cell_type": "code",
   "execution_count": 11,
   "metadata": {
    "execution": {
     "iopub.execute_input": "2020-09-24T10:54:49.517156Z",
     "iopub.status.busy": "2020-09-24T10:54:49.516545Z",
     "iopub.status.idle": "2020-09-24T10:54:49.523632Z",
     "shell.execute_reply": "2020-09-24T10:54:49.523045Z"
    },
    "scrolled": true
   },
   "outputs": [
    {
     "data": {
      "text/plain": [
       "{'x1': {'x1': array([0.37501065, 0.37501065, 0.1597217 , 0.1597217 , 0.15365567,\n",
       "         0.15365567, 0.05442782, 0.05442782, 0.74307268, 0.74307268,\n",
       "         0.78888469, 0.78888469, 0.57199734, 0.57199734, 0.08286872,\n",
       "         0.08286872, 0.70575099, 0.70575099, 0.41349119, 0.41349119,\n",
       "         0.93793812, 0.93793812, 0.85956884, 0.85956884, 0.70219665,\n",
       "         0.70219665, 0.40180062, 0.40180062, 0.28363665, 0.28363665,\n",
       "         0.95211697, 0.95211697, 0.92782927, 0.92782927, 0.85117306,\n",
       "         0.85117306, 0.39090181, 0.39090181, 0.3871927 , 0.3871927 ,\n",
       "         0.61600583, 0.61600583, 0.91966127, 0.91966127, 0.91739365,\n",
       "         0.91739365, 0.65564711, 0.65564711, 0.09673509, 0.09673509,\n",
       "         0.80339276, 0.80339276, 0.7607419 , 0.7607419 , 0.07859198,\n",
       "         0.07859198, 0.60736987, 0.60736987, 0.68795704, 0.68795704,\n",
       "         0.89590591, 0.89590591, 0.13163721, 0.13163721, 0.9404192 ,\n",
       "         0.9404192 , 0.38505173, 0.38505173, 0.20234596, 0.20234596,\n",
       "         0.27254855, 0.27254855, 0.52254184, 0.52254184, 0.41066778,\n",
       "         0.41066778, 0.78663593, 0.78663593, 0.30549811, 0.30549811,\n",
       "         0.84615736, 0.84615736, 0.45918112, 0.45918112, 0.21693376,\n",
       "         0.21693376, 0.51624438, 0.51624438, 0.65327253, 0.65327253,\n",
       "         0.94326255, 0.94326255, 0.49647406, 0.49647406, 0.71251978,\n",
       "         0.71251978, 0.006151  , 0.006151  , 0.24689165, 0.24689165,\n",
       "         0.93015704, 0.93015704, 0.55679464, 0.55679464, 0.93415389,\n",
       "         0.93415389, 0.44326827, 0.44326827, 0.82566215, 0.82566215,\n",
       "         0.69025185, 0.69025185, 0.41556658, 0.41556658, 0.08199393,\n",
       "         0.08199393, 0.08661517, 0.08661517, 0.17802556, 0.17802556,\n",
       "         0.54683939, 0.54683939, 0.07167889, 0.07167889, 0.78491437,\n",
       "         0.78491437, 0.0706265 , 0.0706265 , 0.18897054, 0.18897054,\n",
       "         0.3785613 , 0.3785613 , 0.75839137, 0.75839137, 0.60674671,\n",
       "         0.60674671, 0.66372319, 0.66372319, 0.28763515, 0.28763515,\n",
       "         0.78048567, 0.78048567, 0.03599736, 0.03599736, 0.20666005,\n",
       "         0.20666005, 0.05190932, 0.05190932, 0.03985397, 0.03985397,\n",
       "         0.11160199, 0.11160199, 0.73744354, 0.73744354, 0.20298257,\n",
       "         0.20298257, 0.35667734, 0.35667734, 0.47739764, 0.47739764,\n",
       "         0.71979112, 0.71979112, 0.73000869, 0.73000869, 0.38844959,\n",
       "         0.38844959, 0.68873295, 0.68873295, 0.73822874, 0.73822874,\n",
       "         0.67714623, 0.67714623, 0.26383101, 0.26383101, 0.83532309,\n",
       "         0.83532309, 0.30272305, 0.30272305, 0.78309582, 0.78309582,\n",
       "         0.54413845, 0.54413845, 0.2179873 , 0.2179873 , 0.27758234,\n",
       "         0.27758234, 0.10483834, 0.10483834, 0.13741386, 0.13741386,\n",
       "         0.90638515, 0.90638515, 0.60265056, 0.60265056, 0.50936439,\n",
       "         0.50936439, 0.57522992, 0.57522992, 0.84038384, 0.84038384])}}"
      ]
     },
     "execution_count": 1,
     "metadata": {},
     "output_type": "execute_result"
    }
   ],
   "source": [
    "ds = load_by_id(run_id_n)\n",
    "ds.get_parameter_data('x1')"
   ]
  },
  {
   "cell_type": "markdown",
   "metadata": {},
   "source": [
    "And a dataset stored as binary arrays"
   ]
  },
  {
   "cell_type": "code",
   "execution_count": 12,
   "metadata": {
    "execution": {
     "iopub.execute_input": "2020-09-24T10:54:49.527111Z",
     "iopub.status.busy": "2020-09-24T10:54:49.526496Z",
     "iopub.status.idle": "2020-09-24T10:54:49.594032Z",
     "shell.execute_reply": "2020-09-24T10:54:49.593354Z"
    },
    "scrolled": true
   },
   "outputs": [
    {
     "data": {
      "text/plain": [
       "{'x1': {'x1': array([[0.60594968],\n",
       "         [0.60594968],\n",
       "         [0.55249584],\n",
       "         [0.55249584],\n",
       "         [0.88567997],\n",
       "         [0.88567997],\n",
       "         [0.74983169],\n",
       "         [0.74983169],\n",
       "         [0.42838579],\n",
       "         [0.42838579],\n",
       "         [0.07037876],\n",
       "         [0.07037876],\n",
       "         [0.7072204 ],\n",
       "         [0.7072204 ],\n",
       "         [0.08725912],\n",
       "         [0.08725912],\n",
       "         [0.36679082],\n",
       "         [0.36679082],\n",
       "         [0.11498688],\n",
       "         [0.11498688],\n",
       "         [0.84310605],\n",
       "         [0.84310605],\n",
       "         [0.88749082],\n",
       "         [0.88749082],\n",
       "         [0.82747368],\n",
       "         [0.82747368],\n",
       "         [0.53099916],\n",
       "         [0.53099916],\n",
       "         [0.63140959],\n",
       "         [0.63140959],\n",
       "         [0.73589454],\n",
       "         [0.73589454],\n",
       "         [0.30034087],\n",
       "         [0.30034087],\n",
       "         [0.85396317],\n",
       "         [0.85396317],\n",
       "         [0.94007706],\n",
       "         [0.94007706],\n",
       "         [0.26302587],\n",
       "         [0.26302587],\n",
       "         [0.3412139 ],\n",
       "         [0.3412139 ],\n",
       "         [0.42814002],\n",
       "         [0.42814002],\n",
       "         [0.61093818],\n",
       "         [0.61093818],\n",
       "         [0.7210255 ],\n",
       "         [0.7210255 ],\n",
       "         [0.51140902],\n",
       "         [0.51140902],\n",
       "         [0.27375815],\n",
       "         [0.27375815],\n",
       "         [0.00766574],\n",
       "         [0.00766574],\n",
       "         [0.28687496],\n",
       "         [0.28687496],\n",
       "         [0.37396604],\n",
       "         [0.37396604],\n",
       "         [0.22963582],\n",
       "         [0.22963582],\n",
       "         [0.06260772],\n",
       "         [0.06260772],\n",
       "         [0.94960248],\n",
       "         [0.94960248],\n",
       "         [0.649274  ],\n",
       "         [0.649274  ],\n",
       "         [0.0845653 ],\n",
       "         [0.0845653 ],\n",
       "         [0.68123898],\n",
       "         [0.68123898],\n",
       "         [0.36585622],\n",
       "         [0.36585622],\n",
       "         [0.04732037],\n",
       "         [0.04732037],\n",
       "         [0.35902791],\n",
       "         [0.35902791],\n",
       "         [0.46761292],\n",
       "         [0.46761292],\n",
       "         [0.19040679],\n",
       "         [0.19040679],\n",
       "         [0.53478232],\n",
       "         [0.53478232],\n",
       "         [0.44350613],\n",
       "         [0.44350613],\n",
       "         [0.98743498],\n",
       "         [0.98743498],\n",
       "         [0.27312062],\n",
       "         [0.27312062],\n",
       "         [0.82545393],\n",
       "         [0.82545393],\n",
       "         [0.60005863],\n",
       "         [0.60005863],\n",
       "         [0.75983632],\n",
       "         [0.75983632],\n",
       "         [0.66351982],\n",
       "         [0.66351982],\n",
       "         [0.07513741],\n",
       "         [0.07513741],\n",
       "         [0.96073195],\n",
       "         [0.96073195],\n",
       "         [0.74999415],\n",
       "         [0.74999415],\n",
       "         [0.03448414],\n",
       "         [0.03448414],\n",
       "         [0.25001153],\n",
       "         [0.25001153],\n",
       "         [0.45441608],\n",
       "         [0.45441608],\n",
       "         [0.79634568],\n",
       "         [0.79634568],\n",
       "         [0.61572202],\n",
       "         [0.61572202],\n",
       "         [0.76647317],\n",
       "         [0.76647317],\n",
       "         [0.00278585],\n",
       "         [0.00278585],\n",
       "         [0.80593976],\n",
       "         [0.80593976],\n",
       "         [0.16268808],\n",
       "         [0.16268808],\n",
       "         [0.48604929],\n",
       "         [0.48604929],\n",
       "         [0.03127836],\n",
       "         [0.03127836],\n",
       "         [0.23596225],\n",
       "         [0.23596225],\n",
       "         [0.95902397],\n",
       "         [0.95902397],\n",
       "         [0.12729057],\n",
       "         [0.12729057],\n",
       "         [0.50663374],\n",
       "         [0.50663374],\n",
       "         [0.10502344],\n",
       "         [0.10502344],\n",
       "         [0.51537837],\n",
       "         [0.51537837],\n",
       "         [0.14237466],\n",
       "         [0.14237466],\n",
       "         [0.50630273],\n",
       "         [0.50630273],\n",
       "         [0.03445225],\n",
       "         [0.03445225],\n",
       "         [0.44500837],\n",
       "         [0.44500837],\n",
       "         [0.46582127],\n",
       "         [0.46582127],\n",
       "         [0.31826819],\n",
       "         [0.31826819],\n",
       "         [0.84668664],\n",
       "         [0.84668664],\n",
       "         [0.43501078],\n",
       "         [0.43501078],\n",
       "         [0.28875433],\n",
       "         [0.28875433],\n",
       "         [0.86492831],\n",
       "         [0.86492831],\n",
       "         [0.30075961],\n",
       "         [0.30075961],\n",
       "         [0.43258762],\n",
       "         [0.43258762],\n",
       "         [0.87882902],\n",
       "         [0.87882902],\n",
       "         [0.94417043],\n",
       "         [0.94417043],\n",
       "         [0.62287438],\n",
       "         [0.62287438],\n",
       "         [0.43754705],\n",
       "         [0.43754705],\n",
       "         [0.85047641],\n",
       "         [0.85047641],\n",
       "         [0.77833562],\n",
       "         [0.77833562],\n",
       "         [0.89051768],\n",
       "         [0.89051768],\n",
       "         [0.56998941],\n",
       "         [0.56998941],\n",
       "         [0.03761779],\n",
       "         [0.03761779],\n",
       "         [0.27113143],\n",
       "         [0.27113143],\n",
       "         [0.03739317],\n",
       "         [0.03739317],\n",
       "         [0.21840754],\n",
       "         [0.21840754],\n",
       "         [0.16994067],\n",
       "         [0.16994067],\n",
       "         [0.9798801 ],\n",
       "         [0.9798801 ],\n",
       "         [0.08524064],\n",
       "         [0.08524064],\n",
       "         [0.21111642],\n",
       "         [0.21111642],\n",
       "         [0.857378  ],\n",
       "         [0.857378  ],\n",
       "         [0.45952435],\n",
       "         [0.45952435],\n",
       "         [0.57151149],\n",
       "         [0.57151149],\n",
       "         [0.65828806],\n",
       "         [0.65828806]])}}"
      ]
     },
     "execution_count": 1,
     "metadata": {},
     "output_type": "execute_result"
    }
   ],
   "source": [
    "ds = load_by_id(run_id_a)\n",
    "ds.get_parameter_data('x1')"
   ]
  },
  {
   "cell_type": "code",
   "execution_count": null,
   "metadata": {},
   "outputs": [],
   "source": []
  }
 ],
 "metadata": {
  "kernelspec": {
   "display_name": "Python 3",
   "language": "python",
   "name": "python3"
  },
  "language_info": {
   "codemirror_mode": {
    "name": "ipython",
    "version": 3
   },
   "file_extension": ".py",
   "mimetype": "text/x-python",
   "name": "python",
   "nbconvert_exporter": "python",
   "pygments_lexer": "ipython3",
   "version": "3.7.7"
  },
  "nbsphinx": {
   "timeout": 600
  },
  "toc": {
   "base_numbering": 1,
   "nav_menu": {},
   "number_sections": true,
   "sideBar": true,
   "skip_h1_title": false,
   "title_cell": "Table of Contents",
   "title_sidebar": "Contents",
   "toc_cell": false,
   "toc_position": {},
   "toc_section_display": true,
   "toc_window_display": false
  },
  "varInspector": {
   "cols": {
    "lenName": 16,
    "lenType": 16,
    "lenVar": 40
   },
   "kernels_config": {
    "python": {
     "delete_cmd_postfix": "",
     "delete_cmd_prefix": "del ",
     "library": "var_list.py",
     "varRefreshCmd": "print(var_dic_list())"
    },
    "r": {
     "delete_cmd_postfix": ") ",
     "delete_cmd_prefix": "rm(",
     "library": "var_list.r",
     "varRefreshCmd": "cat(var_dic_list()) "
    }
   },
   "types_to_exclude": [
    "module",
    "function",
    "builtin_function_or_method",
    "instance",
    "_Feature"
   ],
   "window_display": false
  }
 },
 "nbformat": 4,
 "nbformat_minor": 2
}
