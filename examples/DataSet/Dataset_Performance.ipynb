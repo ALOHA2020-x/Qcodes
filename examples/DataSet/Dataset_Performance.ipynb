{
 "cells": [
  {
   "cell_type": "markdown",
   "metadata": {},
   "source": [
    "# DataSet Performance\n",
    "\n",
    "This notebook shows the trade-off between inserting data into a database row-by-row and as binary blobs. Inserting the data row-by-row means that we have direct access to all the data and may perform queries directly on the values of the data. On the other hand, as we shall see, this is much slower than inserting the data directly as binary blobs."
   ]
  },
  {
   "cell_type": "markdown",
   "metadata": {},
   "source": [
    "First, we choose a new location for the database to ensure that we don't add a bunch of benchmarking data to the default one."
   ]
  },
  {
   "cell_type": "code",
   "execution_count": 1,
   "metadata": {
    "execution": {
     "iopub.execute_input": "2021-01-29T08:29:09.245140Z",
     "iopub.status.busy": "2021-01-29T08:29:09.244568Z",
     "iopub.status.idle": "2021-01-29T08:29:10.313681Z",
     "shell.execute_reply": "2021-01-29T08:29:10.313092Z"
    }
   },
   "outputs": [
    {
     "name": "stdout",
     "output_type": "stream",
     "text": [
      "Logging hadn't been started.\n",
      "Activating auto-logging. Current session state plus future input saved.\n",
      "Filename       : /home/vsts/.qcodes/logs/command_history.log\n",
      "Mode           : append\n",
      "Output logging : True\n",
      "Raw input log  : False\n",
      "Timestamping   : True\n",
      "State          : active\n"
     ]
    },
    {
     "name": "stdout",
     "output_type": "stream",
     "text": [
      "Qcodes Logfile : /home/vsts/.qcodes/logs/210129-13706-qcodes.log\n"
     ]
    }
   ],
   "source": [
    "import os\n",
    "cwd = os.getcwd()\n",
    "import qcodes as qc\n",
    "qc.config[\"core\"][\"db_location\"] = os.path.join(cwd, 'testing.db')\n"
   ]
  },
  {
   "cell_type": "code",
   "execution_count": 2,
   "metadata": {
    "execution": {
     "iopub.execute_input": "2021-01-29T08:29:10.320215Z",
     "iopub.status.busy": "2021-01-29T08:29:10.319600Z",
     "iopub.status.idle": "2021-01-29T08:29:10.508506Z",
     "shell.execute_reply": "2021-01-29T08:29:10.507564Z"
    }
   },
   "outputs": [],
   "source": [
    "%matplotlib inline\n",
    "import time\n",
    "import matplotlib.pyplot as plt\n",
    "import numpy as np\n",
    "\n",
    "import qcodes as qc\n",
    "from qcodes.instrument.parameter import ManualParameter\n",
    "from qcodes.dataset.experiment_container import (Experiment,\n",
    "                                                 load_last_experiment,\n",
    "                                                 new_experiment)\n",
    "from qcodes.dataset.sqlite.database import initialise_database\n",
    "from qcodes import load_or_create_experiment\n",
    "from qcodes.dataset.measurements import Measurement"
   ]
  },
  {
   "cell_type": "code",
   "execution_count": 3,
   "metadata": {
    "execution": {
     "iopub.execute_input": "2021-01-29T08:29:10.512646Z",
     "iopub.status.busy": "2021-01-29T08:29:10.511951Z",
     "iopub.status.idle": "2021-01-29T08:29:10.620863Z",
     "shell.execute_reply": "2021-01-29T08:29:10.621286Z"
    }
   },
   "outputs": [
    {
     "name": "stdout",
     "output_type": "stream",
     "text": [
      "\r",
      "0it [00:00, ?it/s]"
     ]
    },
    {
     "name": "stdout",
     "output_type": "stream",
     "text": [
      "\r",
      "Upgrading database; v0 -> v1: : 0it [00:00, ?it/s]"
     ]
    },
    {
     "name": "stdout",
     "output_type": "stream",
     "text": [
      "\r",
      "Upgrading database; v0 -> v1: : 0it [00:00, ?it/s]"
     ]
    },
    {
     "name": "stdout",
     "output_type": "stream",
     "text": [
      "\n",
      "\r",
      "  0%|          | 0/1 [00:00<?, ?it/s]"
     ]
    },
    {
     "name": "stdout",
     "output_type": "stream",
     "text": [
      "\r",
      "Upgrading database; v1 -> v2:   0%|          | 0/1 [00:00<?, ?it/s]"
     ]
    },
    {
     "name": "stdout",
     "output_type": "stream",
     "text": [
      "\r",
      "Upgrading database; v1 -> v2: 100%|██████████| 1/1 [00:00<00:00, 446.58it/s]"
     ]
    },
    {
     "name": "stdout",
     "output_type": "stream",
     "text": [
      "\n",
      "\r",
      "0it [00:00, ?it/s]"
     ]
    },
    {
     "name": "stdout",
     "output_type": "stream",
     "text": [
      "\r",
      "Upgrading database; v2 -> v3: : 0it [00:00, ?it/s]"
     ]
    },
    {
     "name": "stdout",
     "output_type": "stream",
     "text": [
      "\r",
      "Upgrading database; v2 -> v3: : 0it [00:00, ?it/s]"
     ]
    },
    {
     "name": "stdout",
     "output_type": "stream",
     "text": [
      "\n",
      "\r",
      "0it [00:00, ?it/s]"
     ]
    },
    {
     "name": "stdout",
     "output_type": "stream",
     "text": [
      "\r",
      "Upgrading database; v3 -> v4: : 0it [00:00, ?it/s]"
     ]
    },
    {
     "name": "stdout",
     "output_type": "stream",
     "text": [
      "\r",
      "Upgrading database; v3 -> v4: : 0it [00:00, ?it/s]"
     ]
    },
    {
     "name": "stdout",
     "output_type": "stream",
     "text": [
      "\n",
      "\r",
      "  0%|          | 0/1 [00:00<?, ?it/s]"
     ]
    },
    {
     "name": "stdout",
     "output_type": "stream",
     "text": [
      "\r",
      "Upgrading database; v4 -> v5:   0%|          | 0/1 [00:00<?, ?it/s]"
     ]
    },
    {
     "name": "stdout",
     "output_type": "stream",
     "text": [
      "\r",
      "Upgrading database; v4 -> v5: 100%|██████████| 1/1 [00:00<00:00, 914.59it/s]"
     ]
    },
    {
     "name": "stdout",
     "output_type": "stream",
     "text": [
      "\n",
      "\r",
      "0it [00:00, ?it/s]"
     ]
    },
    {
     "name": "stdout",
     "output_type": "stream",
     "text": [
      "\r",
      "Upgrading database; v5 -> v6: : 0it [00:00, ?it/s]"
     ]
    },
    {
     "name": "stdout",
     "output_type": "stream",
     "text": [
      "\r",
      "Upgrading database; v5 -> v6: : 0it [00:00, ?it/s]"
     ]
    },
    {
     "name": "stdout",
     "output_type": "stream",
     "text": [
      "\n",
      "\r",
      "  0%|          | 0/1 [00:00<?, ?it/s]"
     ]
    },
    {
     "name": "stdout",
     "output_type": "stream",
     "text": [
      "\r",
      "Upgrading database; v6 -> v7:   0%|          | 0/1 [00:00<?, ?it/s]"
     ]
    },
    {
     "name": "stdout",
     "output_type": "stream",
     "text": [
      "\r",
      "Upgrading database; v6 -> v7: 100%|██████████| 1/1 [00:00<00:00, 537.59it/s]"
     ]
    },
    {
     "name": "stdout",
     "output_type": "stream",
     "text": [
      "\n",
      "\r",
      "  0%|          | 0/1 [00:00<?, ?it/s]"
     ]
    },
    {
     "name": "stdout",
     "output_type": "stream",
     "text": [
      "\r",
      "Upgrading database; v7 -> v8:   0%|          | 0/1 [00:00<?, ?it/s]"
     ]
    },
    {
     "name": "stdout",
     "output_type": "stream",
     "text": [
      "\r",
      "Upgrading database; v7 -> v8: 100%|██████████| 1/1 [00:00<00:00, 832.04it/s]"
     ]
    },
    {
     "name": "stdout",
     "output_type": "stream",
     "text": [
      "\n",
      "\r",
      "  0%|          | 0/1 [00:00<?, ?it/s]"
     ]
    },
    {
     "name": "stdout",
     "output_type": "stream",
     "text": [
      "\r",
      "Upgrading database; v8 -> v9:   0%|          | 0/1 [00:00<?, ?it/s]"
     ]
    },
    {
     "name": "stdout",
     "output_type": "stream",
     "text": [
      "\r",
      "Upgrading database; v8 -> v9: 100%|██████████| 1/1 [00:00<00:00, 453.49it/s]"
     ]
    },
    {
     "name": "stdout",
     "output_type": "stream",
     "text": [
      "\n"
     ]
    }
   ],
   "source": [
    "initialise_database()\n",
    "exp = load_or_create_experiment(experiment_name='tutorial_exp', sample_name=\"no sample\")"
   ]
  },
  {
   "cell_type": "markdown",
   "metadata": {},
   "source": [
    "Here, we define a simple function to benchmark the time it takes to insert n points with either numeric or array data type.\n",
    "We will compare both the time used to call ``add_result`` and the time used for the full measurement."
   ]
  },
  {
   "cell_type": "code",
   "execution_count": 4,
   "metadata": {
    "execution": {
     "iopub.execute_input": "2021-01-29T08:29:10.630137Z",
     "iopub.status.busy": "2021-01-29T08:29:10.629252Z",
     "iopub.status.idle": "2021-01-29T08:29:10.632110Z",
     "shell.execute_reply": "2021-01-29T08:29:10.632569Z"
    }
   },
   "outputs": [],
   "source": [
    "def insert_data(paramtype, npoints, nreps=1):\n",
    "\n",
    "    meas = Measurement(exp=exp)\n",
    "\n",
    "    x1 = ManualParameter('x1')\n",
    "    x2 = ManualParameter('x2')\n",
    "    x3 = ManualParameter('x3')\n",
    "    y1 = ManualParameter('y1')\n",
    "    y2 = ManualParameter('y2')\n",
    "\n",
    "    meas.register_parameter(x1, paramtype=paramtype)\n",
    "    meas.register_parameter(x2, paramtype=paramtype)\n",
    "    meas.register_parameter(x3, paramtype=paramtype)\n",
    "    meas.register_parameter(y1, setpoints=[x1, x2, x3],\n",
    "                            paramtype=paramtype)\n",
    "    meas.register_parameter(y2, setpoints=[x1, x2, x3],\n",
    "                            paramtype=paramtype)\n",
    "    start = time.perf_counter()\n",
    "    with meas.run() as datasaver:\n",
    "        start_adding = time.perf_counter()\n",
    "        for i in range(nreps):\n",
    "            datasaver.add_result((x1, np.random.rand(npoints)),\n",
    "                                 (x2, np.random.rand(npoints)),\n",
    "                                 (x3, np.random.rand(npoints)),\n",
    "                                 (y1, np.random.rand(npoints)),\n",
    "                                 (y2, np.random.rand(npoints)))\n",
    "        stop_adding = time.perf_counter()\n",
    "        run_id = datasaver.run_id\n",
    "    stop = time.perf_counter()\n",
    "    tot_time = stop - start\n",
    "    add_time = stop_adding - start_adding\n",
    "    return tot_time, add_time, run_id"
   ]
  },
  {
   "cell_type": "markdown",
   "metadata": {},
   "source": [
    "## Comparison between numeric/array data and binary blob"
   ]
  },
  {
   "cell_type": "markdown",
   "metadata": {},
   "source": [
    "### Case1: Short experiment time"
   ]
  },
  {
   "cell_type": "code",
   "execution_count": 5,
   "metadata": {
    "execution": {
     "iopub.execute_input": "2021-01-29T08:29:10.639345Z",
     "iopub.status.busy": "2021-01-29T08:29:10.638763Z",
     "iopub.status.idle": "2021-01-29T08:29:11.477611Z",
     "shell.execute_reply": "2021-01-29T08:29:11.477011Z"
    }
   },
   "outputs": [
    {
     "name": "stdout",
     "output_type": "stream",
     "text": [
      "Starting experimental run with id: 1. \n",
      "Starting experimental run with id: 2. \n",
      "Starting experimental run with id: 3. \n",
      "Starting experimental run with id: 4. \n",
      "Starting experimental run with id: 5. \n"
     ]
    },
    {
     "name": "stdout",
     "output_type": "stream",
     "text": [
      "Starting experimental run with id: 6. \n"
     ]
    },
    {
     "name": "stdout",
     "output_type": "stream",
     "text": [
      "Starting experimental run with id: 7. \n"
     ]
    },
    {
     "name": "stdout",
     "output_type": "stream",
     "text": [
      "Starting experimental run with id: 8. \n",
      "Starting experimental run with id: 9. \n"
     ]
    },
    {
     "name": "stdout",
     "output_type": "stream",
     "text": [
      "Starting experimental run with id: 10. \n",
      "Starting experimental run with id: 11. \n"
     ]
    },
    {
     "name": "stdout",
     "output_type": "stream",
     "text": [
      "Starting experimental run with id: 12. \n",
      "Starting experimental run with id: 13. \n"
     ]
    },
    {
     "name": "stdout",
     "output_type": "stream",
     "text": [
      "Starting experimental run with id: 14. \n"
     ]
    }
   ],
   "source": [
    "sizes = [1,500,1000,2000,3000,4000,5000]\n",
    "t_numeric = []\n",
    "t_numeric_add = []\n",
    "t_array = []\n",
    "t_array_add = []\n",
    "for size in sizes:\n",
    "    tn, tna, run_id_n =  insert_data('numeric', size)\n",
    "    t_numeric.append(tn)\n",
    "    t_numeric_add.append(tna)\n",
    "\n",
    "    ta, taa, run_id_a =  insert_data('array', size)\n",
    "    t_array.append(ta)\n",
    "    t_array_add.append(taa)"
   ]
  },
  {
   "cell_type": "code",
   "execution_count": 6,
   "metadata": {
    "execution": {
     "iopub.execute_input": "2021-01-29T08:29:11.484567Z",
     "iopub.status.busy": "2021-01-29T08:29:11.483994Z",
     "iopub.status.idle": "2021-01-29T08:29:11.725509Z",
     "shell.execute_reply": "2021-01-29T08:29:11.725016Z"
    }
   },
   "outputs": [
    {
     "data": {
      "image/png": "[encoded data removed]",
      "text/plain": [
       "<Figure size 432x288 with 1 Axes>"
      ]
     },
     "metadata": {
      "needs_background": "light"
     },
     "output_type": "display_data"
    }
   ],
   "source": [
    "fig, ax = plt.subplots(1,1)\n",
    "ax.plot(sizes, t_numeric, 'o-', label='Inserting row-by-row')\n",
    "ax.plot(sizes, t_numeric_add, 'o-', label='Inserting row-by-row: add_result only')\n",
    "ax.plot(sizes, t_array, 'd-', label='Inserting as binary blob')\n",
    "ax.plot(sizes, t_array_add, 'd-', label='Inserting as binary blob: add_result only')\n",
    "ax.legend()\n",
    "ax.set_xlabel('Array length')\n",
    "ax.set_ylabel('Time (s)')\n",
    "fig.tight_layout()"
   ]
  },
  {
   "cell_type": "markdown",
   "metadata": {},
   "source": [
    "As shown in the latter figure, the time to setup and and close the experiment is approximately 0.4 sec. In case of small array sizes, the difference between inserting values of data as arrays and inserting them row-by-row is relatively unimportant. At larger array sizes, i.e. above 10000 points, the cost of writing data as individual datapoints starts to become important.\n"
   ]
  },
  {
   "cell_type": "markdown",
   "metadata": {},
   "source": [
    "### Case2: Long experiment time "
   ]
  },
  {
   "cell_type": "code",
   "execution_count": 7,
   "metadata": {
    "execution": {
     "iopub.execute_input": "2021-01-29T08:29:11.733268Z",
     "iopub.status.busy": "2021-01-29T08:29:11.732620Z",
     "iopub.status.idle": "2021-01-29T08:30:11.661590Z",
     "shell.execute_reply": "2021-01-29T08:30:11.661064Z"
    }
   },
   "outputs": [
    {
     "name": "stdout",
     "output_type": "stream",
     "text": [
      "Starting experimental run with id: 15. \n",
      "Starting experimental run with id: 16. \n",
      "Starting experimental run with id: 17. \n"
     ]
    },
    {
     "name": "stdout",
     "output_type": "stream",
     "text": [
      "Starting experimental run with id: 18. \n",
      "Starting experimental run with id: 19. \n"
     ]
    },
    {
     "name": "stdout",
     "output_type": "stream",
     "text": [
      "Starting experimental run with id: 20. \n"
     ]
    },
    {
     "name": "stdout",
     "output_type": "stream",
     "text": [
      "Starting experimental run with id: 21. \n"
     ]
    },
    {
     "name": "stdout",
     "output_type": "stream",
     "text": [
      "Starting experimental run with id: 22. \n"
     ]
    },
    {
     "name": "stdout",
     "output_type": "stream",
     "text": [
      "Starting experimental run with id: 23. \n"
     ]
    },
    {
     "name": "stdout",
     "output_type": "stream",
     "text": [
      "Starting experimental run with id: 24. \n"
     ]
    },
    {
     "name": "stdout",
     "output_type": "stream",
     "text": [
      "Starting experimental run with id: 25. \n"
     ]
    },
    {
     "name": "stdout",
     "output_type": "stream",
     "text": [
      "Starting experimental run with id: 26. \n"
     ]
    },
    {
     "name": "stdout",
     "output_type": "stream",
     "text": [
      "Starting experimental run with id: 27. \n"
     ]
    },
    {
     "name": "stdout",
     "output_type": "stream",
     "text": [
      "Starting experimental run with id: 28. \n"
     ]
    }
   ],
   "source": [
    "sizes = [1,500,1000,2000,3000,4000,5000]\n",
    "nreps = 100\n",
    "t_numeric = []\n",
    "t_numeric_add = []\n",
    "t_numeric_run_ids = []\n",
    "t_array = []\n",
    "t_array_add = []\n",
    "t_array_run_ids = []\n",
    "for size in sizes:\n",
    "    tn, tna, run_id_n =  insert_data('numeric', size, nreps=nreps)\n",
    "    t_numeric.append(tn)\n",
    "    t_numeric_add.append(tna)\n",
    "    t_numeric_run_ids.append(run_id_n)\n",
    "\n",
    "    ta, taa, run_id_a =  insert_data('array', size, nreps=nreps)\n",
    "    t_array.append(ta)\n",
    "    t_array_add.append(taa)\n",
    "    t_array_run_ids.append(run_id_a)"
   ]
  },
  {
   "cell_type": "code",
   "execution_count": 8,
   "metadata": {
    "execution": {
     "iopub.execute_input": "2021-01-29T08:30:11.693268Z",
     "iopub.status.busy": "2021-01-29T08:30:11.667436Z",
     "iopub.status.idle": "2021-01-29T08:30:11.876937Z",
     "shell.execute_reply": "2021-01-29T08:30:11.877405Z"
    },
    "scrolled": true
   },
   "outputs": [
    {
     "data": {
      "image/png": "[encoded data removed]",
      "text/plain": [
       "<Figure size 432x288 with 1 Axes>"
      ]
     },
     "metadata": {
      "needs_background": "light"
     },
     "output_type": "display_data"
    }
   ],
   "source": [
    "fig, ax = plt.subplots(1,1)\n",
    "ax.plot(sizes, t_numeric, 'o-', label='Inserting row-by-row')\n",
    "ax.plot(sizes, t_numeric_add, 'o-', label='Inserting row-by-row: add_result only')\n",
    "ax.plot(sizes, t_array, 'd-', label='Inserting as binary blob')\n",
    "ax.plot(sizes, t_array_add, 'd-', label='Inserting as binary blob: add_result only')\n",
    "ax.legend()\n",
    "ax.set_xlabel('Array length')\n",
    "ax.set_ylabel('Time (s)')\n",
    "fig.tight_layout()"
   ]
  },
  {
   "cell_type": "markdown",
   "metadata": {},
   "source": [
    "However, as we increase the length of the experiment, as seen here by repeating the insertion 100 times, we see a big difference between inserting values of the data row-by-row and inserting it as a binary blob."
   ]
  },
  {
   "cell_type": "markdown",
   "metadata": {},
   "source": [
    "## Loading the data "
   ]
  },
  {
   "cell_type": "code",
   "execution_count": 9,
   "metadata": {
    "execution": {
     "iopub.execute_input": "2021-01-29T08:30:11.881953Z",
     "iopub.status.busy": "2021-01-29T08:30:11.880827Z",
     "iopub.status.idle": "2021-01-29T08:30:11.883671Z",
     "shell.execute_reply": "2021-01-29T08:30:11.884122Z"
    }
   },
   "outputs": [],
   "source": [
    "from qcodes.dataset.data_set import load_by_id\n",
    "from qcodes.dataset.data_export import get_data_by_id"
   ]
  },
  {
   "cell_type": "markdown",
   "metadata": {},
   "source": [
    "As usual you can load the data by using the ``load_by_id`` function but you will notice that the different storage methods\n",
    "are reflected in shape of the data as it is retrieved. "
   ]
  },
  {
   "cell_type": "code",
   "execution_count": 10,
   "metadata": {
    "execution": {
     "iopub.execute_input": "2021-01-29T08:30:11.889253Z",
     "iopub.status.busy": "2021-01-29T08:30:11.887649Z",
     "iopub.status.idle": "2021-01-29T08:30:11.889869Z",
     "shell.execute_reply": "2021-01-29T08:30:11.890426Z"
    }
   },
   "outputs": [],
   "source": [
    "run_id_n = t_numeric_run_ids[0]\n",
    "run_id_a = t_array_run_ids[0]"
   ]
  },
  {
   "cell_type": "code",
   "execution_count": 11,
   "metadata": {
    "execution": {
     "iopub.execute_input": "2021-01-29T08:30:11.893840Z",
     "iopub.status.busy": "2021-01-29T08:30:11.893308Z",
     "iopub.status.idle": "2021-01-29T08:30:11.902354Z",
     "shell.execute_reply": "2021-01-29T08:30:11.902888Z"
    },
    "scrolled": true
   },
   "outputs": [
    {
     "data": {
      "text/plain": [
       "{'x1': {'x1': array([0.47926632, 0.47926632, 0.44653753, 0.44653753, 0.8855083 ,\n",
       "         0.8855083 , 0.43597988, 0.43597988, 0.82473698, 0.82473698,\n",
       "         0.44757726, 0.44757726, 0.30354864, 0.30354864, 0.8964071 ,\n",
       "         0.8964071 , 0.05530683, 0.05530683, 0.97213167, 0.97213167,\n",
       "         0.05868314, 0.05868314, 0.03624688, 0.03624688, 0.54820659,\n",
       "         0.54820659, 0.95540075, 0.95540075, 0.18615805, 0.18615805,\n",
       "         0.3550296 , 0.3550296 , 0.14317247, 0.14317247, 0.58296824,\n",
       "         0.58296824, 0.23381084, 0.23381084, 0.29059487, 0.29059487,\n",
       "         0.05507575, 0.05507575, 0.39773559, 0.39773559, 0.96220822,\n",
       "         0.96220822, 0.40710701, 0.40710701, 0.94460922, 0.94460922,\n",
       "         0.32981397, 0.32981397, 0.26273792, 0.26273792, 0.08055244,\n",
       "         0.08055244, 0.75812795, 0.75812795, 0.69426437, 0.69426437,\n",
       "         0.30480222, 0.30480222, 0.47823525, 0.47823525, 0.9717543 ,\n",
       "         0.9717543 , 0.56497486, 0.56497486, 0.23141165, 0.23141165,\n",
       "         0.33415481, 0.33415481, 0.88525557, 0.88525557, 0.89503371,\n",
       "         0.89503371, 0.33975543, 0.33975543, 0.58098743, 0.58098743,\n",
       "         0.02701393, 0.02701393, 0.48167435, 0.48167435, 0.31395875,\n",
       "         0.31395875, 0.69389799, 0.69389799, 0.90967694, 0.90967694,\n",
       "         0.07186068, 0.07186068, 0.40125638, 0.40125638, 0.80387242,\n",
       "         0.80387242, 0.95227682, 0.95227682, 0.25734401, 0.25734401,\n",
       "         0.04905843, 0.04905843, 0.56436912, 0.56436912, 0.33285968,\n",
       "         0.33285968, 0.50896265, 0.50896265, 0.62529227, 0.62529227,\n",
       "         0.31435218, 0.31435218, 0.78813684, 0.78813684, 0.52059237,\n",
       "         0.52059237, 0.12977757, 0.12977757, 0.34433701, 0.34433701,\n",
       "         0.24008003, 0.24008003, 0.38072931, 0.38072931, 0.27205009,\n",
       "         0.27205009, 0.00157216, 0.00157216, 0.51367489, 0.51367489,\n",
       "         0.58249225, 0.58249225, 0.08859118, 0.08859118, 0.26629538,\n",
       "         0.26629538, 0.43517424, 0.43517424, 0.88537281, 0.88537281,\n",
       "         0.10733256, 0.10733256, 0.72552926, 0.72552926, 0.55233411,\n",
       "         0.55233411, 0.15094264, 0.15094264, 0.93935122, 0.93935122,\n",
       "         0.17130491, 0.17130491, 0.71538021, 0.71538021, 0.00409433,\n",
       "         0.00409433, 0.06199243, 0.06199243, 0.34873295, 0.34873295,\n",
       "         0.40752021, 0.40752021, 0.27403125, 0.27403125, 0.60882776,\n",
       "         0.60882776, 0.00951443, 0.00951443, 0.01733398, 0.01733398,\n",
       "         0.62119799, 0.62119799, 0.58111936, 0.58111936, 0.99342618,\n",
       "         0.99342618, 0.69400338, 0.69400338, 0.04051454, 0.04051454,\n",
       "         0.98020554, 0.98020554, 0.9716031 , 0.9716031 , 0.57065085,\n",
       "         0.57065085, 0.04762444, 0.04762444, 0.25817419, 0.25817419,\n",
       "         0.98441275, 0.98441275, 0.03221543, 0.03221543, 0.75560374,\n",
       "         0.75560374, 0.14674898, 0.14674898, 0.11018245, 0.11018245])}}"
      ]
     },
     "execution_count": 1,
     "metadata": {},
     "output_type": "execute_result"
    }
   ],
   "source": [
    "ds = load_by_id(run_id_n)\n",
    "ds.get_parameter_data('x1')"
   ]
  },
  {
   "cell_type": "markdown",
   "metadata": {},
   "source": [
    "And a dataset stored as binary arrays"
   ]
  },
  {
   "cell_type": "code",
   "execution_count": 12,
   "metadata": {
    "execution": {
     "iopub.execute_input": "2021-01-29T08:30:11.907765Z",
     "iopub.status.busy": "2021-01-29T08:30:11.906809Z",
     "iopub.status.idle": "2021-01-29T08:30:11.959913Z",
     "shell.execute_reply": "2021-01-29T08:30:11.960374Z"
    },
    "scrolled": true
   },
   "outputs": [
    {
     "data": {
      "text/plain": [
       "{'x1': {'x1': array([[5.21974443e-01],\n",
       "         [5.21974443e-01],\n",
       "         [6.70477477e-01],\n",
       "         [6.70477477e-01],\n",
       "         [9.08941194e-01],\n",
       "         [9.08941194e-01],\n",
       "         [3.17608363e-01],\n",
       "         [3.17608363e-01],\n",
       "         [9.03305898e-01],\n",
       "         [9.03305898e-01],\n",
       "         [2.98263421e-01],\n",
       "         [2.98263421e-01],\n",
       "         [5.57621288e-01],\n",
       "         [5.57621288e-01],\n",
       "         [4.52573741e-01],\n",
       "         [4.52573741e-01],\n",
       "         [4.08272289e-01],\n",
       "         [4.08272289e-01],\n",
       "         [9.90645006e-01],\n",
       "         [9.90645006e-01],\n",
       "         [8.84495240e-01],\n",
       "         [8.84495240e-01],\n",
       "         [7.28363444e-01],\n",
       "         [7.28363444e-01],\n",
       "         [6.57525382e-01],\n",
       "         [6.57525382e-01],\n",
       "         [9.38624036e-01],\n",
       "         [9.38624036e-01],\n",
       "         [7.95064838e-01],\n",
       "         [7.95064838e-01],\n",
       "         [2.06529536e-01],\n",
       "         [2.06529536e-01],\n",
       "         [6.13968910e-01],\n",
       "         [6.13968910e-01],\n",
       "         [6.06746827e-01],\n",
       "         [6.06746827e-01],\n",
       "         [2.14493994e-01],\n",
       "         [2.14493994e-01],\n",
       "         [6.65121974e-04],\n",
       "         [6.65121974e-04],\n",
       "         [2.84500665e-01],\n",
       "         [2.84500665e-01],\n",
       "         [3.25101350e-01],\n",
       "         [3.25101350e-01],\n",
       "         [1.40770483e-01],\n",
       "         [1.40770483e-01],\n",
       "         [8.60537813e-01],\n",
       "         [8.60537813e-01],\n",
       "         [2.86728947e-01],\n",
       "         [2.86728947e-01],\n",
       "         [4.83452728e-01],\n",
       "         [4.83452728e-01],\n",
       "         [3.06095023e-01],\n",
       "         [3.06095023e-01],\n",
       "         [6.17801604e-01],\n",
       "         [6.17801604e-01],\n",
       "         [1.86255212e-01],\n",
       "         [1.86255212e-01],\n",
       "         [9.61383450e-01],\n",
       "         [9.61383450e-01],\n",
       "         [5.06896399e-01],\n",
       "         [5.06896399e-01],\n",
       "         [3.64524634e-01],\n",
       "         [3.64524634e-01],\n",
       "         [7.35176203e-01],\n",
       "         [7.35176203e-01],\n",
       "         [1.44564838e-01],\n",
       "         [1.44564838e-01],\n",
       "         [5.29586438e-01],\n",
       "         [5.29586438e-01],\n",
       "         [1.71543323e-03],\n",
       "         [1.71543323e-03],\n",
       "         [6.59904113e-01],\n",
       "         [6.59904113e-01],\n",
       "         [4.87550671e-01],\n",
       "         [4.87550671e-01],\n",
       "         [5.00512634e-01],\n",
       "         [5.00512634e-01],\n",
       "         [3.96761357e-01],\n",
       "         [3.96761357e-01],\n",
       "         [8.42797700e-01],\n",
       "         [8.42797700e-01],\n",
       "         [3.90551832e-01],\n",
       "         [3.90551832e-01],\n",
       "         [6.83422771e-01],\n",
       "         [6.83422771e-01],\n",
       "         [9.99243010e-01],\n",
       "         [9.99243010e-01],\n",
       "         [9.52089810e-01],\n",
       "         [9.52089810e-01],\n",
       "         [6.89662765e-01],\n",
       "         [6.89662765e-01],\n",
       "         [6.22792765e-01],\n",
       "         [6.22792765e-01],\n",
       "         [6.06269195e-01],\n",
       "         [6.06269195e-01],\n",
       "         [4.69915473e-01],\n",
       "         [4.69915473e-01],\n",
       "         [4.33115736e-01],\n",
       "         [4.33115736e-01],\n",
       "         [7.74288567e-01],\n",
       "         [7.74288567e-01],\n",
       "         [9.11261418e-02],\n",
       "         [9.11261418e-02],\n",
       "         [9.44903806e-01],\n",
       "         [9.44903806e-01],\n",
       "         [2.13277037e-01],\n",
       "         [2.13277037e-01],\n",
       "         [6.02303623e-02],\n",
       "         [6.02303623e-02],\n",
       "         [1.91688110e-02],\n",
       "         [1.91688110e-02],\n",
       "         [8.27713239e-01],\n",
       "         [8.27713239e-01],\n",
       "         [7.93342519e-02],\n",
       "         [7.93342519e-02],\n",
       "         [4.29270161e-01],\n",
       "         [4.29270161e-01],\n",
       "         [3.17470512e-01],\n",
       "         [3.17470512e-01],\n",
       "         [3.70576755e-01],\n",
       "         [3.70576755e-01],\n",
       "         [6.25932780e-01],\n",
       "         [6.25932780e-01],\n",
       "         [7.46811107e-01],\n",
       "         [7.46811107e-01],\n",
       "         [9.79516284e-01],\n",
       "         [9.79516284e-01],\n",
       "         [1.04670988e-01],\n",
       "         [1.04670988e-01],\n",
       "         [8.26260792e-01],\n",
       "         [8.26260792e-01],\n",
       "         [5.19687133e-02],\n",
       "         [5.19687133e-02],\n",
       "         [3.08667078e-01],\n",
       "         [3.08667078e-01],\n",
       "         [9.07095205e-01],\n",
       "         [9.07095205e-01],\n",
       "         [6.57450099e-01],\n",
       "         [6.57450099e-01],\n",
       "         [4.93957214e-01],\n",
       "         [4.93957214e-01],\n",
       "         [2.41857852e-01],\n",
       "         [2.41857852e-01],\n",
       "         [9.63449900e-01],\n",
       "         [9.63449900e-01],\n",
       "         [4.55322456e-01],\n",
       "         [4.55322456e-01],\n",
       "         [4.77991525e-01],\n",
       "         [4.77991525e-01],\n",
       "         [6.64817966e-01],\n",
       "         [6.64817966e-01],\n",
       "         [7.28575462e-02],\n",
       "         [7.28575462e-02],\n",
       "         [3.10799192e-01],\n",
       "         [3.10799192e-01],\n",
       "         [5.07248764e-02],\n",
       "         [5.07248764e-02],\n",
       "         [7.92954890e-01],\n",
       "         [7.92954890e-01],\n",
       "         [4.40991053e-01],\n",
       "         [4.40991053e-01],\n",
       "         [4.66102432e-01],\n",
       "         [4.66102432e-01],\n",
       "         [7.69781119e-01],\n",
       "         [7.69781119e-01],\n",
       "         [1.98282996e-01],\n",
       "         [1.98282996e-01],\n",
       "         [7.82927381e-01],\n",
       "         [7.82927381e-01],\n",
       "         [4.26485831e-01],\n",
       "         [4.26485831e-01],\n",
       "         [8.47745587e-01],\n",
       "         [8.47745587e-01],\n",
       "         [6.89908114e-01],\n",
       "         [6.89908114e-01],\n",
       "         [8.47379943e-01],\n",
       "         [8.47379943e-01],\n",
       "         [7.52956113e-01],\n",
       "         [7.52956113e-01],\n",
       "         [5.58456913e-01],\n",
       "         [5.58456913e-01],\n",
       "         [5.53758643e-01],\n",
       "         [5.53758643e-01],\n",
       "         [1.50928974e-02],\n",
       "         [1.50928974e-02],\n",
       "         [6.29921644e-01],\n",
       "         [6.29921644e-01],\n",
       "         [1.57294778e-01],\n",
       "         [1.57294778e-01],\n",
       "         [9.39286578e-01],\n",
       "         [9.39286578e-01],\n",
       "         [3.58999348e-01],\n",
       "         [3.58999348e-01],\n",
       "         [7.21286149e-01],\n",
       "         [7.21286149e-01],\n",
       "         [1.03479957e-01],\n",
       "         [1.03479957e-01],\n",
       "         [6.39582526e-01],\n",
       "         [6.39582526e-01]])}}"
      ]
     },
     "execution_count": 1,
     "metadata": {},
     "output_type": "execute_result"
    }
   ],
   "source": [
    "ds = load_by_id(run_id_a)\n",
    "ds.get_parameter_data('x1')"
   ]
  },
  {
   "cell_type": "code",
   "execution_count": null,
   "metadata": {},
   "outputs": [],
   "source": []
  }
 ],
 "metadata": {
  "kernelspec": {
   "display_name": "Python 3",
   "language": "python",
   "name": "python3"
  },
  "language_info": {
   "codemirror_mode": {
    "name": "ipython",
    "version": 3
   },
   "file_extension": ".py",
   "mimetype": "text/x-python",
   "name": "python",
   "nbconvert_exporter": "python",
   "pygments_lexer": "ipython3",
   "version": "3.7.9"
  },
  "nbsphinx": {
   "timeout": 600
  },
  "toc": {
   "base_numbering": 1,
   "nav_menu": {},
   "number_sections": true,
   "sideBar": true,
   "skip_h1_title": false,
   "title_cell": "Table of Contents",
   "title_sidebar": "Contents",
   "toc_cell": false,
   "toc_position": {},
   "toc_section_display": true,
   "toc_window_display": false
  },
  "varInspector": {
   "cols": {
    "lenName": 16,
    "lenType": 16,
    "lenVar": 40
   },
   "kernels_config": {
    "python": {
     "delete_cmd_postfix": "",
     "delete_cmd_prefix": "del ",
     "library": "var_list.py",
     "varRefreshCmd": "print(var_dic_list())"
    },
    "r": {
     "delete_cmd_postfix": ") ",
     "delete_cmd_prefix": "rm(",
     "library": "var_list.r",
     "varRefreshCmd": "cat(var_dic_list()) "
    }
   },
   "types_to_exclude": [
    "module",
    "function",
    "builtin_function_or_method",
    "instance",
    "_Feature"
   ],
   "window_display": false
  }
 },
 "nbformat": 4,
 "nbformat_minor": 2
}
