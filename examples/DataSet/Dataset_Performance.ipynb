{
 "cells": [
  {
   "cell_type": "markdown",
   "metadata": {},
   "source": [
    "# DataSet Performance\n",
    "\n",
    "This notebook shows the trade-off between inserting data into a database row-by-row and as binary blobs. Inserting the data row-by-row means that we have direct access to all the data and may perform queries directly on the values of the data. On the other hand, as we shall see, this is much slower than inserting the data directly as binary blobs."
   ]
  },
  {
   "cell_type": "markdown",
   "metadata": {},
   "source": [
    "First, we choose a new location for the database to ensure that we don't add a bunch of benchmarking data to the default one."
   ]
  },
  {
   "cell_type": "code",
   "execution_count": 1,
   "metadata": {
    "execution": {
     "iopub.execute_input": "2020-12-18T13:47:16.530575Z",
     "iopub.status.busy": "2020-12-18T13:47:16.529979Z",
     "iopub.status.idle": "2020-12-18T13:47:17.778297Z",
     "shell.execute_reply": "2020-12-18T13:47:17.778842Z"
    }
   },
   "outputs": [
    {
     "name": "stdout",
     "output_type": "stream",
     "text": [
      "Logging hadn't been started.\n",
      "Activating auto-logging. Current session state plus future input saved.\n",
      "Filename       : /home/vsts/.qcodes/logs/command_history.log\n",
      "Mode           : append\n",
      "Output logging : True\n",
      "Raw input log  : False\n",
      "Timestamping   : True\n",
      "State          : active\n"
     ]
    },
    {
     "name": "stdout",
     "output_type": "stream",
     "text": [
      "Qcodes Logfile : /home/vsts/.qcodes/logs/201218-13281-qcodes.log\n"
     ]
    }
   ],
   "source": [
    "import os\n",
    "cwd = os.getcwd()\n",
    "import qcodes as qc\n",
    "qc.config[\"core\"][\"db_location\"] = os.path.join(cwd, 'testing.db')\n"
   ]
  },
  {
   "cell_type": "code",
   "execution_count": 2,
   "metadata": {
    "execution": {
     "iopub.execute_input": "2020-12-18T13:47:17.786431Z",
     "iopub.status.busy": "2020-12-18T13:47:17.785804Z",
     "iopub.status.idle": "2020-12-18T13:47:18.009946Z",
     "shell.execute_reply": "2020-12-18T13:47:18.008881Z"
    }
   },
   "outputs": [],
   "source": [
    "%matplotlib inline\n",
    "import time\n",
    "import matplotlib.pyplot as plt\n",
    "import numpy as np\n",
    "\n",
    "import qcodes as qc\n",
    "from qcodes.instrument.parameter import ManualParameter\n",
    "from qcodes.dataset.experiment_container import (Experiment,\n",
    "                                                 load_last_experiment,\n",
    "                                                 new_experiment)\n",
    "from qcodes.dataset.sqlite.database import initialise_database\n",
    "from qcodes import load_or_create_experiment\n",
    "from qcodes.dataset.measurements import Measurement"
   ]
  },
  {
   "cell_type": "code",
   "execution_count": 3,
   "metadata": {
    "execution": {
     "iopub.execute_input": "2020-12-18T13:47:18.014555Z",
     "iopub.status.busy": "2020-12-18T13:47:18.013572Z",
     "iopub.status.idle": "2020-12-18T13:47:18.154400Z",
     "shell.execute_reply": "2020-12-18T13:47:18.153705Z"
    }
   },
   "outputs": [
    {
     "name": "stdout",
     "output_type": "stream",
     "text": [
      "\r",
      "0it [00:00, ?it/s]"
     ]
    },
    {
     "name": "stdout",
     "output_type": "stream",
     "text": [
      "\r",
      "Upgrading database; v0 -> v1: : 0it [00:00, ?it/s]"
     ]
    },
    {
     "name": "stdout",
     "output_type": "stream",
     "text": [
      "\r",
      "Upgrading database; v0 -> v1: : 0it [00:00, ?it/s]"
     ]
    },
    {
     "name": "stdout",
     "output_type": "stream",
     "text": [
      "\n",
      "\r",
      "  0%|          | 0/1 [00:00<?, ?it/s]"
     ]
    },
    {
     "name": "stdout",
     "output_type": "stream",
     "text": [
      "\r",
      "Upgrading database; v1 -> v2:   0%|          | 0/1 [00:00<?, ?it/s]"
     ]
    },
    {
     "name": "stdout",
     "output_type": "stream",
     "text": [
      "\r",
      "Upgrading database; v1 -> v2: 100%|██████████| 1/1 [00:00<00:00, 703.62it/s]"
     ]
    },
    {
     "name": "stdout",
     "output_type": "stream",
     "text": [
      "\n",
      "\r",
      "0it [00:00, ?it/s]"
     ]
    },
    {
     "name": "stdout",
     "output_type": "stream",
     "text": [
      "\r",
      "Upgrading database; v2 -> v3: : 0it [00:00, ?it/s]"
     ]
    },
    {
     "name": "stdout",
     "output_type": "stream",
     "text": [
      "\r",
      "Upgrading database; v2 -> v3: : 0it [00:00, ?it/s]"
     ]
    },
    {
     "name": "stdout",
     "output_type": "stream",
     "text": [
      "\n",
      "\r",
      "0it [00:00, ?it/s]"
     ]
    },
    {
     "name": "stdout",
     "output_type": "stream",
     "text": [
      "\r",
      "Upgrading database; v3 -> v4: : 0it [00:00, ?it/s]"
     ]
    },
    {
     "name": "stdout",
     "output_type": "stream",
     "text": [
      "\r",
      "Upgrading database; v3 -> v4: : 0it [00:00, ?it/s]"
     ]
    },
    {
     "name": "stdout",
     "output_type": "stream",
     "text": [
      "\n",
      "\r",
      "  0%|          | 0/1 [00:00<?, ?it/s]"
     ]
    },
    {
     "name": "stdout",
     "output_type": "stream",
     "text": [
      "\r",
      "Upgrading database; v4 -> v5:   0%|          | 0/1 [00:00<?, ?it/s]"
     ]
    },
    {
     "name": "stdout",
     "output_type": "stream",
     "text": [
      "\r",
      "Upgrading database; v4 -> v5: 100%|██████████| 1/1 [00:00<00:00, 421.11it/s]"
     ]
    },
    {
     "name": "stdout",
     "output_type": "stream",
     "text": [
      "\n",
      "\r",
      "0it [00:00, ?it/s]"
     ]
    },
    {
     "name": "stdout",
     "output_type": "stream",
     "text": [
      "\r",
      "Upgrading database; v5 -> v6: : 0it [00:00, ?it/s]"
     ]
    },
    {
     "name": "stdout",
     "output_type": "stream",
     "text": [
      "\r",
      "Upgrading database; v5 -> v6: : 0it [00:00, ?it/s]"
     ]
    },
    {
     "name": "stdout",
     "output_type": "stream",
     "text": [
      "\n",
      "\r",
      "  0%|          | 0/1 [00:00<?, ?it/s]"
     ]
    },
    {
     "name": "stdout",
     "output_type": "stream",
     "text": [
      "\r",
      "Upgrading database; v6 -> v7:   0%|          | 0/1 [00:00<?, ?it/s]"
     ]
    },
    {
     "name": "stdout",
     "output_type": "stream",
     "text": [
      "\r",
      "Upgrading database; v6 -> v7: 100%|██████████| 1/1 [00:00<00:00, 346.09it/s]"
     ]
    },
    {
     "name": "stdout",
     "output_type": "stream",
     "text": [
      "\n",
      "\r",
      "  0%|          | 0/1 [00:00<?, ?it/s]"
     ]
    },
    {
     "name": "stdout",
     "output_type": "stream",
     "text": [
      "\r",
      "Upgrading database; v7 -> v8:   0%|          | 0/1 [00:00<?, ?it/s]"
     ]
    },
    {
     "name": "stdout",
     "output_type": "stream",
     "text": [
      "\r",
      "Upgrading database; v7 -> v8: 100%|██████████| 1/1 [00:00<00:00, 440.44it/s]"
     ]
    },
    {
     "name": "stdout",
     "output_type": "stream",
     "text": [
      "\n",
      "\r",
      "  0%|          | 0/1 [00:00<?, ?it/s]"
     ]
    },
    {
     "name": "stdout",
     "output_type": "stream",
     "text": [
      "\r",
      "Upgrading database; v8 -> v9:   0%|          | 0/1 [00:00<?, ?it/s]"
     ]
    },
    {
     "name": "stdout",
     "output_type": "stream",
     "text": [
      "\r",
      "Upgrading database; v8 -> v9: 100%|██████████| 1/1 [00:00<00:00, 801.51it/s]"
     ]
    },
    {
     "name": "stdout",
     "output_type": "stream",
     "text": [
      "\n"
     ]
    }
   ],
   "source": [
    "initialise_database()\n",
    "exp = load_or_create_experiment(experiment_name='tutorial_exp', sample_name=\"no sample\")"
   ]
  },
  {
   "cell_type": "markdown",
   "metadata": {},
   "source": [
    "Here, we define a simple function to benchmark the time it takes to insert n points with either numeric or array data type.\n",
    "We will compare both the time used to call ``add_result`` and the time used for the full measurement."
   ]
  },
  {
   "cell_type": "code",
   "execution_count": 4,
   "metadata": {
    "execution": {
     "iopub.execute_input": "2020-12-18T13:47:18.164401Z",
     "iopub.status.busy": "2020-12-18T13:47:18.162625Z",
     "iopub.status.idle": "2020-12-18T13:47:18.166834Z",
     "shell.execute_reply": "2020-12-18T13:47:18.167389Z"
    }
   },
   "outputs": [],
   "source": [
    "def insert_data(paramtype, npoints, nreps=1):\n",
    "\n",
    "    meas = Measurement(exp=exp)\n",
    "\n",
    "    x1 = ManualParameter('x1')\n",
    "    x2 = ManualParameter('x2')\n",
    "    x3 = ManualParameter('x3')\n",
    "    y1 = ManualParameter('y1')\n",
    "    y2 = ManualParameter('y2')\n",
    "\n",
    "    meas.register_parameter(x1, paramtype=paramtype)\n",
    "    meas.register_parameter(x2, paramtype=paramtype)\n",
    "    meas.register_parameter(x3, paramtype=paramtype)\n",
    "    meas.register_parameter(y1, setpoints=[x1, x2, x3],\n",
    "                            paramtype=paramtype)\n",
    "    meas.register_parameter(y2, setpoints=[x1, x2, x3],\n",
    "                            paramtype=paramtype)\n",
    "    start = time.perf_counter()\n",
    "    with meas.run() as datasaver:\n",
    "        start_adding = time.perf_counter()\n",
    "        for i in range(nreps):\n",
    "            datasaver.add_result((x1, np.random.rand(npoints)),\n",
    "                                 (x2, np.random.rand(npoints)),\n",
    "                                 (x3, np.random.rand(npoints)),\n",
    "                                 (y1, np.random.rand(npoints)),\n",
    "                                 (y2, np.random.rand(npoints)))\n",
    "        stop_adding = time.perf_counter()\n",
    "        run_id = datasaver.run_id\n",
    "    stop = time.perf_counter()\n",
    "    tot_time = stop - start\n",
    "    add_time = stop_adding - start_adding\n",
    "    return tot_time, add_time, run_id"
   ]
  },
  {
   "cell_type": "markdown",
   "metadata": {},
   "source": [
    "## Comparison between numeric/array data and binary blob"
   ]
  },
  {
   "cell_type": "markdown",
   "metadata": {},
   "source": [
    "### Case1: Short experiment time"
   ]
  },
  {
   "cell_type": "code",
   "execution_count": 5,
   "metadata": {
    "execution": {
     "iopub.execute_input": "2020-12-18T13:47:18.175353Z",
     "iopub.status.busy": "2020-12-18T13:47:18.174529Z",
     "iopub.status.idle": "2020-12-18T13:47:19.103016Z",
     "shell.execute_reply": "2020-12-18T13:47:19.103994Z"
    }
   },
   "outputs": [
    {
     "name": "stdout",
     "output_type": "stream",
     "text": [
      "Starting experimental run with id: 1. \n",
      "Starting experimental run with id: 2. \n",
      "Starting experimental run with id: 3. \n"
     ]
    },
    {
     "name": "stdout",
     "output_type": "stream",
     "text": [
      "Starting experimental run with id: 4. \n"
     ]
    },
    {
     "name": "stdout",
     "output_type": "stream",
     "text": [
      "Starting experimental run with id: 5. \n"
     ]
    },
    {
     "name": "stdout",
     "output_type": "stream",
     "text": [
      "Starting experimental run with id: 6. \n",
      "Starting experimental run with id: 7. \n"
     ]
    },
    {
     "name": "stdout",
     "output_type": "stream",
     "text": [
      "Starting experimental run with id: 8. \n"
     ]
    },
    {
     "name": "stdout",
     "output_type": "stream",
     "text": [
      "Starting experimental run with id: 9. \n"
     ]
    },
    {
     "name": "stdout",
     "output_type": "stream",
     "text": [
      "Starting experimental run with id: 10. \n",
      "Starting experimental run with id: 11. \n"
     ]
    },
    {
     "name": "stdout",
     "output_type": "stream",
     "text": [
      "Starting experimental run with id: 12. \n"
     ]
    },
    {
     "name": "stdout",
     "output_type": "stream",
     "text": [
      "Starting experimental run with id: 13. \n"
     ]
    },
    {
     "name": "stdout",
     "output_type": "stream",
     "text": [
      "Starting experimental run with id: 14. \n"
     ]
    }
   ],
   "source": [
    "sizes = [1,500,1000,2000,3000,4000,5000]\n",
    "t_numeric = []\n",
    "t_numeric_add = []\n",
    "t_array = []\n",
    "t_array_add = []\n",
    "for size in sizes:\n",
    "    tn, tna, run_id_n =  insert_data('numeric', size)\n",
    "    t_numeric.append(tn)\n",
    "    t_numeric_add.append(tna)\n",
    "\n",
    "    ta, taa, run_id_a =  insert_data('array', size)\n",
    "    t_array.append(ta)\n",
    "    t_array_add.append(taa)"
   ]
  },
  {
   "cell_type": "code",
   "execution_count": 6,
   "metadata": {
    "execution": {
     "iopub.execute_input": "2020-12-18T13:47:19.127745Z",
     "iopub.status.busy": "2020-12-18T13:47:19.125977Z",
     "iopub.status.idle": "2020-12-18T13:47:19.362787Z",
     "shell.execute_reply": "2020-12-18T13:47:19.363536Z"
    }
   },
   "outputs": [
    {
     "data": {
      "image/png": "[encoded data removed]",
      "text/plain": [
       "<Figure size 432x288 with 1 Axes>"
      ]
     },
     "metadata": {
      "needs_background": "light"
     },
     "output_type": "display_data"
    }
   ],
   "source": [
    "fig, ax = plt.subplots(1,1)\n",
    "ax.plot(sizes, t_numeric, 'o-', label='Inserting row-by-row')\n",
    "ax.plot(sizes, t_numeric_add, 'o-', label='Inserting row-by-row: add_result only')\n",
    "ax.plot(sizes, t_array, 'd-', label='Inserting as binary blob')\n",
    "ax.plot(sizes, t_array_add, 'd-', label='Inserting as binary blob: add_result only')\n",
    "ax.legend()\n",
    "ax.set_xlabel('Array length')\n",
    "ax.set_ylabel('Time (s)')\n",
    "fig.tight_layout()"
   ]
  },
  {
   "cell_type": "markdown",
   "metadata": {},
   "source": [
    "As shown in the latter figure, the time to setup and and close the experiment is approximately 0.4 sec. In case of small array sizes, the difference between inserting values of data as arrays and inserting them row-by-row is relatively unimportant. At larger array sizes, i.e. above 10000 points, the cost of writing data as individual datapoints starts to become important.\n"
   ]
  },
  {
   "cell_type": "markdown",
   "metadata": {},
   "source": [
    "### Case2: Long experiment time "
   ]
  },
  {
   "cell_type": "code",
   "execution_count": 7,
   "metadata": {
    "execution": {
     "iopub.execute_input": "2020-12-18T13:47:19.371350Z",
     "iopub.status.busy": "2020-12-18T13:47:19.370433Z",
     "iopub.status.idle": "2020-12-18T13:48:21.353659Z",
     "shell.execute_reply": "2020-12-18T13:48:21.353076Z"
    }
   },
   "outputs": [
    {
     "name": "stdout",
     "output_type": "stream",
     "text": [
      "Starting experimental run with id: 15. \n",
      "Starting experimental run with id: 16. \n",
      "Starting experimental run with id: 17. \n"
     ]
    },
    {
     "name": "stdout",
     "output_type": "stream",
     "text": [
      "Starting experimental run with id: 18. \n",
      "Starting experimental run with id: 19. \n"
     ]
    },
    {
     "name": "stdout",
     "output_type": "stream",
     "text": [
      "Starting experimental run with id: 20. \n"
     ]
    },
    {
     "name": "stdout",
     "output_type": "stream",
     "text": [
      "Starting experimental run with id: 21. \n"
     ]
    },
    {
     "name": "stdout",
     "output_type": "stream",
     "text": [
      "Starting experimental run with id: 22. \n"
     ]
    },
    {
     "name": "stdout",
     "output_type": "stream",
     "text": [
      "Starting experimental run with id: 23. \n"
     ]
    },
    {
     "name": "stdout",
     "output_type": "stream",
     "text": [
      "Starting experimental run with id: 24. \n"
     ]
    },
    {
     "name": "stdout",
     "output_type": "stream",
     "text": [
      "Starting experimental run with id: 25. \n"
     ]
    },
    {
     "name": "stdout",
     "output_type": "stream",
     "text": [
      "Starting experimental run with id: 26. \n"
     ]
    },
    {
     "name": "stdout",
     "output_type": "stream",
     "text": [
      "Starting experimental run with id: 27. \n"
     ]
    },
    {
     "name": "stdout",
     "output_type": "stream",
     "text": [
      "Starting experimental run with id: 28. \n"
     ]
    }
   ],
   "source": [
    "sizes = [1,500,1000,2000,3000,4000,5000]\n",
    "nreps = 100\n",
    "t_numeric = []\n",
    "t_numeric_add = []\n",
    "t_numeric_run_ids = []\n",
    "t_array = []\n",
    "t_array_add = []\n",
    "t_array_run_ids = []\n",
    "for size in sizes:\n",
    "    tn, tna, run_id_n =  insert_data('numeric', size, nreps=nreps)\n",
    "    t_numeric.append(tn)\n",
    "    t_numeric_add.append(tna)\n",
    "    t_numeric_run_ids.append(run_id_n)\n",
    "\n",
    "    ta, taa, run_id_a =  insert_data('array', size, nreps=nreps)\n",
    "    t_array.append(ta)\n",
    "    t_array_add.append(taa)\n",
    "    t_array_run_ids.append(run_id_a)"
   ]
  },
  {
   "cell_type": "code",
   "execution_count": 8,
   "metadata": {
    "execution": {
     "iopub.execute_input": "2020-12-18T13:48:21.402415Z",
     "iopub.status.busy": "2020-12-18T13:48:21.377110Z",
     "iopub.status.idle": "2020-12-18T13:48:21.606389Z",
     "shell.execute_reply": "2020-12-18T13:48:21.606908Z"
    },
    "scrolled": true
   },
   "outputs": [
    {
     "data": {
      "image/png": "[encoded data removed]",
      "text/plain": [
       "<Figure size 432x288 with 1 Axes>"
      ]
     },
     "metadata": {
      "needs_background": "light"
     },
     "output_type": "display_data"
    }
   ],
   "source": [
    "fig, ax = plt.subplots(1,1)\n",
    "ax.plot(sizes, t_numeric, 'o-', label='Inserting row-by-row')\n",
    "ax.plot(sizes, t_numeric_add, 'o-', label='Inserting row-by-row: add_result only')\n",
    "ax.plot(sizes, t_array, 'd-', label='Inserting as binary blob')\n",
    "ax.plot(sizes, t_array_add, 'd-', label='Inserting as binary blob: add_result only')\n",
    "ax.legend()\n",
    "ax.set_xlabel('Array length')\n",
    "ax.set_ylabel('Time (s)')\n",
    "fig.tight_layout()"
   ]
  },
  {
   "cell_type": "markdown",
   "metadata": {},
   "source": [
    "However, as we increase the length of the experiment, as seen here by repeating the insertion 100 times, we see a big difference between inserting values of the data row-by-row and inserting it as a binary blob."
   ]
  },
  {
   "cell_type": "markdown",
   "metadata": {},
   "source": [
    "## Loading the data "
   ]
  },
  {
   "cell_type": "code",
   "execution_count": 9,
   "metadata": {
    "execution": {
     "iopub.execute_input": "2020-12-18T13:48:21.612023Z",
     "iopub.status.busy": "2020-12-18T13:48:21.611322Z",
     "iopub.status.idle": "2020-12-18T13:48:21.615564Z",
     "shell.execute_reply": "2020-12-18T13:48:21.614936Z"
    }
   },
   "outputs": [],
   "source": [
    "from qcodes.dataset.data_set import load_by_id\n",
    "from qcodes.dataset.data_export import get_data_by_id"
   ]
  },
  {
   "cell_type": "markdown",
   "metadata": {},
   "source": [
    "As usual you can load the data by using the ``load_by_id`` function but you will notice that the different storage methods\n",
    "are reflected in shape of the data as it is retrieved. "
   ]
  },
  {
   "cell_type": "code",
   "execution_count": 10,
   "metadata": {
    "execution": {
     "iopub.execute_input": "2020-12-18T13:48:21.619900Z",
     "iopub.status.busy": "2020-12-18T13:48:21.619304Z",
     "iopub.status.idle": "2020-12-18T13:48:21.622220Z",
     "shell.execute_reply": "2020-12-18T13:48:21.621614Z"
    }
   },
   "outputs": [],
   "source": [
    "run_id_n = t_numeric_run_ids[0]\n",
    "run_id_a = t_array_run_ids[0]"
   ]
  },
  {
   "cell_type": "code",
   "execution_count": 11,
   "metadata": {
    "execution": {
     "iopub.execute_input": "2020-12-18T13:48:21.625995Z",
     "iopub.status.busy": "2020-12-18T13:48:21.625312Z",
     "iopub.status.idle": "2020-12-18T13:48:21.636817Z",
     "shell.execute_reply": "2020-12-18T13:48:21.636267Z"
    },
    "scrolled": true
   },
   "outputs": [
    {
     "data": {
      "text/plain": [
       "{'x1': {'x1': array([0.64418434, 0.64418434, 0.98459126, 0.98459126, 0.32817598,\n",
       "         0.32817598, 0.95104962, 0.95104962, 0.28546619, 0.28546619,\n",
       "         0.2981262 , 0.2981262 , 0.69140217, 0.69140217, 0.26731619,\n",
       "         0.26731619, 0.58558619, 0.58558619, 0.36470033, 0.36470033,\n",
       "         0.80517648, 0.80517648, 0.41032212, 0.41032212, 0.87474429,\n",
       "         0.87474429, 0.81890091, 0.81890091, 0.3520199 , 0.3520199 ,\n",
       "         0.7298567 , 0.7298567 , 0.20780477, 0.20780477, 0.46872835,\n",
       "         0.46872835, 0.83921615, 0.83921615, 0.27705001, 0.27705001,\n",
       "         0.37686589, 0.37686589, 0.17751158, 0.17751158, 0.50432757,\n",
       "         0.50432757, 0.56289713, 0.56289713, 0.77365687, 0.77365687,\n",
       "         0.69673677, 0.69673677, 0.30755949, 0.30755949, 0.41769589,\n",
       "         0.41769589, 0.76813966, 0.76813966, 0.72556138, 0.72556138,\n",
       "         0.31747284, 0.31747284, 0.00824861, 0.00824861, 0.73515385,\n",
       "         0.73515385, 0.60839006, 0.60839006, 0.6846644 , 0.6846644 ,\n",
       "         0.62415224, 0.62415224, 0.15850937, 0.15850937, 0.94888396,\n",
       "         0.94888396, 0.31786101, 0.31786101, 0.51637084, 0.51637084,\n",
       "         0.81901978, 0.81901978, 0.36877939, 0.36877939, 0.66253124,\n",
       "         0.66253124, 0.08409495, 0.08409495, 0.39717217, 0.39717217,\n",
       "         0.29222831, 0.29222831, 0.03094677, 0.03094677, 0.13881586,\n",
       "         0.13881586, 0.88535682, 0.88535682, 0.23123777, 0.23123777,\n",
       "         0.13827018, 0.13827018, 0.19828882, 0.19828882, 0.38263815,\n",
       "         0.38263815, 0.17801244, 0.17801244, 0.39589063, 0.39589063,\n",
       "         0.74594326, 0.74594326, 0.03347025, 0.03347025, 0.99360149,\n",
       "         0.99360149, 0.58222568, 0.58222568, 0.16382429, 0.16382429,\n",
       "         0.49580342, 0.49580342, 0.97351262, 0.97351262, 0.32708504,\n",
       "         0.32708504, 0.50600957, 0.50600957, 0.53179385, 0.53179385,\n",
       "         0.61338743, 0.61338743, 0.28362571, 0.28362571, 0.40517369,\n",
       "         0.40517369, 0.59851665, 0.59851665, 0.55724879, 0.55724879,\n",
       "         0.91894337, 0.91894337, 0.43697001, 0.43697001, 0.66130928,\n",
       "         0.66130928, 0.4622605 , 0.4622605 , 0.88221579, 0.88221579,\n",
       "         0.47013192, 0.47013192, 0.89312246, 0.89312246, 0.09650435,\n",
       "         0.09650435, 0.74521234, 0.74521234, 0.18188084, 0.18188084,\n",
       "         0.69653571, 0.69653571, 0.6251386 , 0.6251386 , 0.86481832,\n",
       "         0.86481832, 0.97784284, 0.97784284, 0.71719683, 0.71719683,\n",
       "         0.14470345, 0.14470345, 0.90012622, 0.90012622, 0.70297715,\n",
       "         0.70297715, 0.44683093, 0.44683093, 0.68069442, 0.68069442,\n",
       "         0.09755071, 0.09755071, 0.61380474, 0.61380474, 0.98748019,\n",
       "         0.98748019, 0.64282391, 0.64282391, 0.34534672, 0.34534672,\n",
       "         0.28607577, 0.28607577, 0.36759727, 0.36759727, 0.2143328 ,\n",
       "         0.2143328 , 0.68262602, 0.68262602, 0.32367021, 0.32367021])}}"
      ]
     },
     "execution_count": 1,
     "metadata": {},
     "output_type": "execute_result"
    }
   ],
   "source": [
    "ds = load_by_id(run_id_n)\n",
    "ds.get_parameter_data('x1')"
   ]
  },
  {
   "cell_type": "markdown",
   "metadata": {},
   "source": [
    "And a dataset stored as binary arrays"
   ]
  },
  {
   "cell_type": "code",
   "execution_count": 12,
   "metadata": {
    "execution": {
     "iopub.execute_input": "2020-12-18T13:48:21.640190Z",
     "iopub.status.busy": "2020-12-18T13:48:21.639615Z",
     "iopub.status.idle": "2020-12-18T13:48:21.704590Z",
     "shell.execute_reply": "2020-12-18T13:48:21.705258Z"
    },
    "scrolled": true
   },
   "outputs": [
    {
     "data": {
      "text/plain": [
       "{'x1': {'x1': array([[0.20523634],\n",
       "         [0.20523634],\n",
       "         [0.76860835],\n",
       "         [0.76860835],\n",
       "         [0.47205736],\n",
       "         [0.47205736],\n",
       "         [0.69501854],\n",
       "         [0.69501854],\n",
       "         [0.24474898],\n",
       "         [0.24474898],\n",
       "         [0.42718243],\n",
       "         [0.42718243],\n",
       "         [0.5987213 ],\n",
       "         [0.5987213 ],\n",
       "         [0.39176095],\n",
       "         [0.39176095],\n",
       "         [0.78063714],\n",
       "         [0.78063714],\n",
       "         [0.99148036],\n",
       "         [0.99148036],\n",
       "         [0.68921896],\n",
       "         [0.68921896],\n",
       "         [0.67809292],\n",
       "         [0.67809292],\n",
       "         [0.26834522],\n",
       "         [0.26834522],\n",
       "         [0.64394949],\n",
       "         [0.64394949],\n",
       "         [0.00994938],\n",
       "         [0.00994938],\n",
       "         [0.15117663],\n",
       "         [0.15117663],\n",
       "         [0.84771891],\n",
       "         [0.84771891],\n",
       "         [0.78889155],\n",
       "         [0.78889155],\n",
       "         [0.15849452],\n",
       "         [0.15849452],\n",
       "         [0.55167247],\n",
       "         [0.55167247],\n",
       "         [0.27025408],\n",
       "         [0.27025408],\n",
       "         [0.7394037 ],\n",
       "         [0.7394037 ],\n",
       "         [0.09760254],\n",
       "         [0.09760254],\n",
       "         [0.35578676],\n",
       "         [0.35578676],\n",
       "         [0.42864344],\n",
       "         [0.42864344],\n",
       "         [0.94357639],\n",
       "         [0.94357639],\n",
       "         [0.00990079],\n",
       "         [0.00990079],\n",
       "         [0.90242004],\n",
       "         [0.90242004],\n",
       "         [0.55919626],\n",
       "         [0.55919626],\n",
       "         [0.02574001],\n",
       "         [0.02574001],\n",
       "         [0.61198746],\n",
       "         [0.61198746],\n",
       "         [0.57853172],\n",
       "         [0.57853172],\n",
       "         [0.75624242],\n",
       "         [0.75624242],\n",
       "         [0.48668393],\n",
       "         [0.48668393],\n",
       "         [0.97974324],\n",
       "         [0.97974324],\n",
       "         [0.60018947],\n",
       "         [0.60018947],\n",
       "         [0.80024191],\n",
       "         [0.80024191],\n",
       "         [0.80778718],\n",
       "         [0.80778718],\n",
       "         [0.10707338],\n",
       "         [0.10707338],\n",
       "         [0.32364797],\n",
       "         [0.32364797],\n",
       "         [0.94835289],\n",
       "         [0.94835289],\n",
       "         [0.97651212],\n",
       "         [0.97651212],\n",
       "         [0.68044622],\n",
       "         [0.68044622],\n",
       "         [0.18042264],\n",
       "         [0.18042264],\n",
       "         [0.28337371],\n",
       "         [0.28337371],\n",
       "         [0.97708487],\n",
       "         [0.97708487],\n",
       "         [0.38597268],\n",
       "         [0.38597268],\n",
       "         [0.70304741],\n",
       "         [0.70304741],\n",
       "         [0.7535115 ],\n",
       "         [0.7535115 ],\n",
       "         [0.89675818],\n",
       "         [0.89675818],\n",
       "         [0.435518  ],\n",
       "         [0.435518  ],\n",
       "         [0.50031784],\n",
       "         [0.50031784],\n",
       "         [0.02097912],\n",
       "         [0.02097912],\n",
       "         [0.09697169],\n",
       "         [0.09697169],\n",
       "         [0.72083016],\n",
       "         [0.72083016],\n",
       "         [0.05444504],\n",
       "         [0.05444504],\n",
       "         [0.32015736],\n",
       "         [0.32015736],\n",
       "         [0.15302184],\n",
       "         [0.15302184],\n",
       "         [0.32653668],\n",
       "         [0.32653668],\n",
       "         [0.78330498],\n",
       "         [0.78330498],\n",
       "         [0.85900695],\n",
       "         [0.85900695],\n",
       "         [0.24284517],\n",
       "         [0.24284517],\n",
       "         [0.84402385],\n",
       "         [0.84402385],\n",
       "         [0.8307627 ],\n",
       "         [0.8307627 ],\n",
       "         [0.6979545 ],\n",
       "         [0.6979545 ],\n",
       "         [0.15426601],\n",
       "         [0.15426601],\n",
       "         [0.47036163],\n",
       "         [0.47036163],\n",
       "         [0.3191982 ],\n",
       "         [0.3191982 ],\n",
       "         [0.68322169],\n",
       "         [0.68322169],\n",
       "         [0.90743145],\n",
       "         [0.90743145],\n",
       "         [0.95089829],\n",
       "         [0.95089829],\n",
       "         [0.45514961],\n",
       "         [0.45514961],\n",
       "         [0.33605405],\n",
       "         [0.33605405],\n",
       "         [0.61017142],\n",
       "         [0.61017142],\n",
       "         [0.00381853],\n",
       "         [0.00381853],\n",
       "         [0.13926001],\n",
       "         [0.13926001],\n",
       "         [0.08019038],\n",
       "         [0.08019038],\n",
       "         [0.82471431],\n",
       "         [0.82471431],\n",
       "         [0.7208615 ],\n",
       "         [0.7208615 ],\n",
       "         [0.63675801],\n",
       "         [0.63675801],\n",
       "         [0.81996646],\n",
       "         [0.81996646],\n",
       "         [0.61147992],\n",
       "         [0.61147992],\n",
       "         [0.95337624],\n",
       "         [0.95337624],\n",
       "         [0.5319944 ],\n",
       "         [0.5319944 ],\n",
       "         [0.99947579],\n",
       "         [0.99947579],\n",
       "         [0.46519501],\n",
       "         [0.46519501],\n",
       "         [0.58345344],\n",
       "         [0.58345344],\n",
       "         [0.78002213],\n",
       "         [0.78002213],\n",
       "         [0.85083377],\n",
       "         [0.85083377],\n",
       "         [0.33866727],\n",
       "         [0.33866727],\n",
       "         [0.16609978],\n",
       "         [0.16609978],\n",
       "         [0.47077645],\n",
       "         [0.47077645],\n",
       "         [0.08436298],\n",
       "         [0.08436298],\n",
       "         [0.32439707],\n",
       "         [0.32439707],\n",
       "         [0.26181529],\n",
       "         [0.26181529],\n",
       "         [0.04062172],\n",
       "         [0.04062172],\n",
       "         [0.47887385],\n",
       "         [0.47887385],\n",
       "         [0.16505575],\n",
       "         [0.16505575],\n",
       "         [0.90587283],\n",
       "         [0.90587283],\n",
       "         [0.17724532],\n",
       "         [0.17724532]])}}"
      ]
     },
     "execution_count": 1,
     "metadata": {},
     "output_type": "execute_result"
    }
   ],
   "source": [
    "ds = load_by_id(run_id_a)\n",
    "ds.get_parameter_data('x1')"
   ]
  },
  {
   "cell_type": "code",
   "execution_count": null,
   "metadata": {},
   "outputs": [],
   "source": []
  }
 ],
 "metadata": {
  "kernelspec": {
   "display_name": "Python 3",
   "language": "python",
   "name": "python3"
  },
  "language_info": {
   "codemirror_mode": {
    "name": "ipython",
    "version": 3
   },
   "file_extension": ".py",
   "mimetype": "text/x-python",
   "name": "python",
   "nbconvert_exporter": "python",
   "pygments_lexer": "ipython3",
   "version": "3.7.9"
  },
  "nbsphinx": {
   "timeout": 600
  },
  "toc": {
   "base_numbering": 1,
   "nav_menu": {},
   "number_sections": true,
   "sideBar": true,
   "skip_h1_title": false,
   "title_cell": "Table of Contents",
   "title_sidebar": "Contents",
   "toc_cell": false,
   "toc_position": {},
   "toc_section_display": true,
   "toc_window_display": false
  },
  "varInspector": {
   "cols": {
    "lenName": 16,
    "lenType": 16,
    "lenVar": 40
   },
   "kernels_config": {
    "python": {
     "delete_cmd_postfix": "",
     "delete_cmd_prefix": "del ",
     "library": "var_list.py",
     "varRefreshCmd": "print(var_dic_list())"
    },
    "r": {
     "delete_cmd_postfix": ") ",
     "delete_cmd_prefix": "rm(",
     "library": "var_list.r",
     "varRefreshCmd": "cat(var_dic_list()) "
    }
   },
   "types_to_exclude": [
    "module",
    "function",
    "builtin_function_or_method",
    "instance",
    "_Feature"
   ],
   "window_display": false
  }
 },
 "nbformat": 4,
 "nbformat_minor": 2
}
