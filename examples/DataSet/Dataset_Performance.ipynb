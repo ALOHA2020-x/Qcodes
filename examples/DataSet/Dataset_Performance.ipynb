{
 "cells": [
  {
   "cell_type": "markdown",
   "metadata": {},
   "source": [
    "# DataSet Performance\n",
    "\n",
    "This notebook shows the trade-off between inserting data into a database row-by-row and as binary blobs. Inserting the data row-by-row means that we have direct access to all the data and may perform queries directly on the values of the data. On the other hand, as we shall see, this is much slower than inserting the data directly as binary blobs."
   ]
  },
  {
   "cell_type": "markdown",
   "metadata": {},
   "source": [
    "First, we choose a new location for the database to ensure that we don't add a bunch of benchmarking data to the default one."
   ]
  },
  {
   "cell_type": "code",
   "execution_count": 1,
   "metadata": {
    "execution": {
     "iopub.execute_input": "2021-05-18T07:04:37.290737Z",
     "iopub.status.busy": "2021-05-18T07:04:37.290039Z",
     "iopub.status.idle": "2021-05-18T07:04:38.524206Z",
     "shell.execute_reply": "2021-05-18T07:04:38.523528Z"
    }
   },
   "outputs": [
    {
     "name": "stdout",
     "output_type": "stream",
     "text": [
      "Logging hadn't been started.\n",
      "Activating auto-logging. Current session state plus future input saved.\n",
      "Filename       : /home/runner/.qcodes/logs/command_history.log\n",
      "Mode           : append\n",
      "Output logging : True\n",
      "Raw input log  : False\n",
      "Timestamping   : True\n",
      "State          : active\n"
     ]
    },
    {
     "name": "stdout",
     "output_type": "stream",
     "text": [
      "Qcodes Logfile : /home/runner/.qcodes/logs/210518-4720-qcodes.log\n"
     ]
    }
   ],
   "source": [
    "import os\n",
    "cwd = os.getcwd()\n",
    "import qcodes as qc\n",
    "qc.config[\"core\"][\"db_location\"] = os.path.join(cwd, 'testing.db')\n"
   ]
  },
  {
   "cell_type": "code",
   "execution_count": 2,
   "metadata": {
    "execution": {
     "iopub.execute_input": "2021-05-18T07:04:38.531721Z",
     "iopub.status.busy": "2021-05-18T07:04:38.530454Z",
     "iopub.status.idle": "2021-05-18T07:04:38.770532Z",
     "shell.execute_reply": "2021-05-18T07:04:38.770024Z"
    }
   },
   "outputs": [],
   "source": [
    "%matplotlib inline\n",
    "import time\n",
    "import matplotlib.pyplot as plt\n",
    "import numpy as np\n",
    "\n",
    "import qcodes as qc\n",
    "from qcodes.instrument.parameter import ManualParameter\n",
    "from qcodes.dataset.experiment_container import (Experiment,\n",
    "                                                 load_last_experiment,\n",
    "                                                 new_experiment)\n",
    "from qcodes.dataset.sqlite.database import initialise_database\n",
    "from qcodes import load_or_create_experiment\n",
    "from qcodes.dataset.measurements import Measurement"
   ]
  },
  {
   "cell_type": "code",
   "execution_count": 3,
   "metadata": {
    "execution": {
     "iopub.execute_input": "2021-05-18T07:04:38.777790Z",
     "iopub.status.busy": "2021-05-18T07:04:38.777141Z",
     "iopub.status.idle": "2021-05-18T07:04:38.862278Z",
     "shell.execute_reply": "2021-05-18T07:04:38.862780Z"
    }
   },
   "outputs": [
    {
     "name": "stdout",
     "output_type": "stream",
     "text": [
      "\r",
      "0it [00:00, ?it/s]"
     ]
    },
    {
     "name": "stdout",
     "output_type": "stream",
     "text": [
      "\r",
      "Upgrading database; v0 -> v1: : 0it [00:00, ?it/s]"
     ]
    },
    {
     "name": "stdout",
     "output_type": "stream",
     "text": [
      "\r",
      "Upgrading database; v0 -> v1: : 0it [00:00, ?it/s]"
     ]
    },
    {
     "name": "stdout",
     "output_type": "stream",
     "text": [
      "\n",
      "\r",
      "  0%|          | 0/1 [00:00<?, ?it/s]"
     ]
    },
    {
     "name": "stdout",
     "output_type": "stream",
     "text": [
      "\r",
      "Upgrading database; v1 -> v2:   0%|          | 0/1 [00:00<?, ?it/s]"
     ]
    },
    {
     "name": "stdout",
     "output_type": "stream",
     "text": [
      "\r",
      "Upgrading database; v1 -> v2: 100%|██████████| 1/1 [00:00<00:00, 569.18it/s]"
     ]
    },
    {
     "name": "stdout",
     "output_type": "stream",
     "text": [
      "\n",
      "\r",
      "0it [00:00, ?it/s]"
     ]
    },
    {
     "name": "stdout",
     "output_type": "stream",
     "text": [
      "\r",
      "Upgrading database; v2 -> v3: : 0it [00:00, ?it/s]"
     ]
    },
    {
     "name": "stdout",
     "output_type": "stream",
     "text": [
      "\r",
      "Upgrading database; v2 -> v3: : 0it [00:00, ?it/s]"
     ]
    },
    {
     "name": "stdout",
     "output_type": "stream",
     "text": [
      "\n",
      "\r",
      "0it [00:00, ?it/s]"
     ]
    },
    {
     "name": "stdout",
     "output_type": "stream",
     "text": [
      "\r",
      "Upgrading database; v3 -> v4: : 0it [00:00, ?it/s]"
     ]
    },
    {
     "name": "stdout",
     "output_type": "stream",
     "text": [
      "\r",
      "Upgrading database; v3 -> v4: : 0it [00:00, ?it/s]"
     ]
    },
    {
     "name": "stdout",
     "output_type": "stream",
     "text": [
      "\n",
      "\r",
      "  0%|          | 0/1 [00:00<?, ?it/s]"
     ]
    },
    {
     "name": "stdout",
     "output_type": "stream",
     "text": [
      "\r",
      "Upgrading database; v4 -> v5:   0%|          | 0/1 [00:00<?, ?it/s]"
     ]
    },
    {
     "name": "stdout",
     "output_type": "stream",
     "text": [
      "\r",
      "Upgrading database; v4 -> v5: 100%|██████████| 1/1 [00:00<00:00, 399.19it/s]"
     ]
    },
    {
     "name": "stdout",
     "output_type": "stream",
     "text": [
      "\n",
      "\r",
      "0it [00:00, ?it/s]"
     ]
    },
    {
     "name": "stdout",
     "output_type": "stream",
     "text": [
      "\r",
      "Upgrading database; v5 -> v6: : 0it [00:00, ?it/s]"
     ]
    },
    {
     "name": "stdout",
     "output_type": "stream",
     "text": [
      "\r",
      "Upgrading database; v5 -> v6: : 0it [00:00, ?it/s]"
     ]
    },
    {
     "name": "stdout",
     "output_type": "stream",
     "text": [
      "\n",
      "\r",
      "  0%|          | 0/1 [00:00<?, ?it/s]"
     ]
    },
    {
     "name": "stdout",
     "output_type": "stream",
     "text": [
      "\r",
      "Upgrading database; v6 -> v7:   0%|          | 0/1 [00:00<?, ?it/s]"
     ]
    },
    {
     "name": "stdout",
     "output_type": "stream",
     "text": [
      "\r",
      "Upgrading database; v6 -> v7: 100%|██████████| 1/1 [00:00<00:00, 278.03it/s]"
     ]
    },
    {
     "name": "stdout",
     "output_type": "stream",
     "text": [
      "\n",
      "\r",
      "  0%|          | 0/1 [00:00<?, ?it/s]"
     ]
    },
    {
     "name": "stdout",
     "output_type": "stream",
     "text": [
      "\r",
      "Upgrading database; v7 -> v8:   0%|          | 0/1 [00:00<?, ?it/s]"
     ]
    },
    {
     "name": "stdout",
     "output_type": "stream",
     "text": [
      "\r",
      "Upgrading database; v7 -> v8: 100%|██████████| 1/1 [00:00<00:00, 454.42it/s]"
     ]
    },
    {
     "name": "stdout",
     "output_type": "stream",
     "text": [
      "\n",
      "\r",
      "  0%|          | 0/1 [00:00<?, ?it/s]"
     ]
    },
    {
     "name": "stdout",
     "output_type": "stream",
     "text": [
      "\r",
      "Upgrading database; v8 -> v9:   0%|          | 0/1 [00:00<?, ?it/s]"
     ]
    },
    {
     "name": "stdout",
     "output_type": "stream",
     "text": [
      "\r",
      "Upgrading database; v8 -> v9: 100%|██████████| 1/1 [00:00<00:00, 470.69it/s]"
     ]
    },
    {
     "name": "stdout",
     "output_type": "stream",
     "text": [
      "\n"
     ]
    }
   ],
   "source": [
    "initialise_database()\n",
    "exp = load_or_create_experiment(experiment_name='tutorial_exp', sample_name=\"no sample\")"
   ]
  },
  {
   "cell_type": "markdown",
   "metadata": {},
   "source": [
    "Here, we define a simple function to benchmark the time it takes to insert n points with either numeric or array data type.\n",
    "We will compare both the time used to call ``add_result`` and the time used for the full measurement."
   ]
  },
  {
   "cell_type": "code",
   "execution_count": 4,
   "metadata": {
    "execution": {
     "iopub.execute_input": "2021-05-18T07:04:38.876271Z",
     "iopub.status.busy": "2021-05-18T07:04:38.874621Z",
     "iopub.status.idle": "2021-05-18T07:04:38.876983Z",
     "shell.execute_reply": "2021-05-18T07:04:38.877499Z"
    }
   },
   "outputs": [],
   "source": [
    "def insert_data(paramtype, npoints, nreps=1):\n",
    "\n",
    "    meas = Measurement(exp=exp)\n",
    "\n",
    "    x1 = ManualParameter('x1')\n",
    "    x2 = ManualParameter('x2')\n",
    "    x3 = ManualParameter('x3')\n",
    "    y1 = ManualParameter('y1')\n",
    "    y2 = ManualParameter('y2')\n",
    "\n",
    "    meas.register_parameter(x1, paramtype=paramtype)\n",
    "    meas.register_parameter(x2, paramtype=paramtype)\n",
    "    meas.register_parameter(x3, paramtype=paramtype)\n",
    "    meas.register_parameter(y1, setpoints=[x1, x2, x3],\n",
    "                            paramtype=paramtype)\n",
    "    meas.register_parameter(y2, setpoints=[x1, x2, x3],\n",
    "                            paramtype=paramtype)\n",
    "    start = time.perf_counter()\n",
    "    with meas.run() as datasaver:\n",
    "        start_adding = time.perf_counter()\n",
    "        for i in range(nreps):\n",
    "            datasaver.add_result((x1, np.random.rand(npoints)),\n",
    "                                 (x2, np.random.rand(npoints)),\n",
    "                                 (x3, np.random.rand(npoints)),\n",
    "                                 (y1, np.random.rand(npoints)),\n",
    "                                 (y2, np.random.rand(npoints)))\n",
    "        stop_adding = time.perf_counter()\n",
    "        run_id = datasaver.run_id\n",
    "    stop = time.perf_counter()\n",
    "    tot_time = stop - start\n",
    "    add_time = stop_adding - start_adding\n",
    "    return tot_time, add_time, run_id"
   ]
  },
  {
   "cell_type": "markdown",
   "metadata": {},
   "source": [
    "## Comparison between numeric/array data and binary blob"
   ]
  },
  {
   "cell_type": "markdown",
   "metadata": {},
   "source": [
    "### Case1: Short experiment time"
   ]
  },
  {
   "cell_type": "code",
   "execution_count": 5,
   "metadata": {
    "execution": {
     "iopub.execute_input": "2021-05-18T07:04:38.885120Z",
     "iopub.status.busy": "2021-05-18T07:04:38.882238Z",
     "iopub.status.idle": "2021-05-18T07:04:39.725156Z",
     "shell.execute_reply": "2021-05-18T07:04:39.724483Z"
    }
   },
   "outputs": [
    {
     "name": "stdout",
     "output_type": "stream",
     "text": [
      "Starting experimental run with id: 1. \n",
      "Starting experimental run with id: 2. \n",
      "Starting experimental run with id: 3. \n"
     ]
    },
    {
     "name": "stdout",
     "output_type": "stream",
     "text": [
      "Starting experimental run with id: 4. \n"
     ]
    },
    {
     "name": "stdout",
     "output_type": "stream",
     "text": [
      "Starting experimental run with id: 5. \n"
     ]
    },
    {
     "name": "stdout",
     "output_type": "stream",
     "text": [
      "Starting experimental run with id: 6. \n"
     ]
    },
    {
     "name": "stdout",
     "output_type": "stream",
     "text": [
      "Starting experimental run with id: 7. \n",
      "Starting experimental run with id: 8. \n"
     ]
    },
    {
     "name": "stdout",
     "output_type": "stream",
     "text": [
      "Starting experimental run with id: 9. \n"
     ]
    },
    {
     "name": "stdout",
     "output_type": "stream",
     "text": [
      "Starting experimental run with id: 10. \n",
      "Starting experimental run with id: 11. \n"
     ]
    },
    {
     "name": "stdout",
     "output_type": "stream",
     "text": [
      "Starting experimental run with id: 12. \n",
      "Starting experimental run with id: 13. \n"
     ]
    },
    {
     "name": "stdout",
     "output_type": "stream",
     "text": [
      "Starting experimental run with id: 14. \n"
     ]
    }
   ],
   "source": [
    "sizes = [1,500,1000,2000,3000,4000,5000]\n",
    "t_numeric = []\n",
    "t_numeric_add = []\n",
    "t_array = []\n",
    "t_array_add = []\n",
    "for size in sizes:\n",
    "    tn, tna, run_id_n =  insert_data('numeric', size)\n",
    "    t_numeric.append(tn)\n",
    "    t_numeric_add.append(tna)\n",
    "\n",
    "    ta, taa, run_id_a =  insert_data('array', size)\n",
    "    t_array.append(ta)\n",
    "    t_array_add.append(taa)"
   ]
  },
  {
   "cell_type": "code",
   "execution_count": 6,
   "metadata": {
    "execution": {
     "iopub.execute_input": "2021-05-18T07:04:39.760577Z",
     "iopub.status.busy": "2021-05-18T07:04:39.744882Z",
     "iopub.status.idle": "2021-05-18T07:04:40.013904Z",
     "shell.execute_reply": "2021-05-18T07:04:40.012862Z"
    }
   },
   "outputs": [
    {
     "data": {
      "image/png": "[encoded data removed]",
      "text/plain": [
       "<Figure size 432x288 with 1 Axes>"
      ]
     },
     "metadata": {
      "needs_background": "light"
     },
     "output_type": "display_data"
    }
   ],
   "source": [
    "fig, ax = plt.subplots(1,1)\n",
    "ax.plot(sizes, t_numeric, 'o-', label='Inserting row-by-row')\n",
    "ax.plot(sizes, t_numeric_add, 'o-', label='Inserting row-by-row: add_result only')\n",
    "ax.plot(sizes, t_array, 'd-', label='Inserting as binary blob')\n",
    "ax.plot(sizes, t_array_add, 'd-', label='Inserting as binary blob: add_result only')\n",
    "ax.legend()\n",
    "ax.set_xlabel('Array length')\n",
    "ax.set_ylabel('Time (s)')\n",
    "fig.tight_layout()"
   ]
  },
  {
   "cell_type": "markdown",
   "metadata": {},
   "source": [
    "As shown in the latter figure, the time to setup and and close the experiment is approximately 0.4 sec. In case of small array sizes, the difference between inserting values of data as arrays and inserting them row-by-row is relatively unimportant. At larger array sizes, i.e. above 10000 points, the cost of writing data as individual datapoints starts to become important.\n"
   ]
  },
  {
   "cell_type": "markdown",
   "metadata": {},
   "source": [
    "### Case2: Long experiment time "
   ]
  },
  {
   "cell_type": "code",
   "execution_count": 7,
   "metadata": {
    "execution": {
     "iopub.execute_input": "2021-05-18T07:04:40.079372Z",
     "iopub.status.busy": "2021-05-18T07:04:40.021487Z",
     "iopub.status.idle": "2021-05-18T07:05:34.792914Z",
     "shell.execute_reply": "2021-05-18T07:05:34.793518Z"
    }
   },
   "outputs": [
    {
     "name": "stdout",
     "output_type": "stream",
     "text": [
      "Starting experimental run with id: 15. \n",
      "Starting experimental run with id: 16. \n"
     ]
    },
    {
     "name": "stdout",
     "output_type": "stream",
     "text": [
      "Starting experimental run with id: 17. \n"
     ]
    },
    {
     "name": "stdout",
     "output_type": "stream",
     "text": [
      "Starting experimental run with id: 18. \n"
     ]
    },
    {
     "name": "stdout",
     "output_type": "stream",
     "text": [
      "Starting experimental run with id: 19. \n"
     ]
    },
    {
     "name": "stdout",
     "output_type": "stream",
     "text": [
      "Starting experimental run with id: 20. \n"
     ]
    },
    {
     "name": "stdout",
     "output_type": "stream",
     "text": [
      "Starting experimental run with id: 21. \n"
     ]
    },
    {
     "name": "stdout",
     "output_type": "stream",
     "text": [
      "Starting experimental run with id: 22. \n"
     ]
    },
    {
     "name": "stdout",
     "output_type": "stream",
     "text": [
      "Starting experimental run with id: 23. \n"
     ]
    },
    {
     "name": "stdout",
     "output_type": "stream",
     "text": [
      "Starting experimental run with id: 24. \n"
     ]
    },
    {
     "name": "stdout",
     "output_type": "stream",
     "text": [
      "Starting experimental run with id: 25. \n"
     ]
    },
    {
     "name": "stdout",
     "output_type": "stream",
     "text": [
      "Starting experimental run with id: 26. \n"
     ]
    },
    {
     "name": "stdout",
     "output_type": "stream",
     "text": [
      "Starting experimental run with id: 27. \n"
     ]
    },
    {
     "name": "stdout",
     "output_type": "stream",
     "text": [
      "Starting experimental run with id: 28. \n"
     ]
    }
   ],
   "source": [
    "sizes = [1,500,1000,2000,3000,4000,5000]\n",
    "nreps = 100\n",
    "t_numeric = []\n",
    "t_numeric_add = []\n",
    "t_numeric_run_ids = []\n",
    "t_array = []\n",
    "t_array_add = []\n",
    "t_array_run_ids = []\n",
    "for size in sizes:\n",
    "    tn, tna, run_id_n =  insert_data('numeric', size, nreps=nreps)\n",
    "    t_numeric.append(tn)\n",
    "    t_numeric_add.append(tna)\n",
    "    t_numeric_run_ids.append(run_id_n)\n",
    "\n",
    "    ta, taa, run_id_a =  insert_data('array', size, nreps=nreps)\n",
    "    t_array.append(ta)\n",
    "    t_array_add.append(taa)\n",
    "    t_array_run_ids.append(run_id_a)"
   ]
  },
  {
   "cell_type": "code",
   "execution_count": 8,
   "metadata": {
    "execution": {
     "iopub.execute_input": "2021-05-18T07:05:34.831706Z",
     "iopub.status.busy": "2021-05-18T07:05:34.828330Z",
     "iopub.status.idle": "2021-05-18T07:05:35.071763Z",
     "shell.execute_reply": "2021-05-18T07:05:35.071265Z"
    },
    "scrolled": true
   },
   "outputs": [
    {
     "data": {
      "image/png": "[encoded data removed]",
      "text/plain": [
       "<Figure size 432x288 with 1 Axes>"
      ]
     },
     "metadata": {
      "needs_background": "light"
     },
     "output_type": "display_data"
    }
   ],
   "source": [
    "fig, ax = plt.subplots(1,1)\n",
    "ax.plot(sizes, t_numeric, 'o-', label='Inserting row-by-row')\n",
    "ax.plot(sizes, t_numeric_add, 'o-', label='Inserting row-by-row: add_result only')\n",
    "ax.plot(sizes, t_array, 'd-', label='Inserting as binary blob')\n",
    "ax.plot(sizes, t_array_add, 'd-', label='Inserting as binary blob: add_result only')\n",
    "ax.legend()\n",
    "ax.set_xlabel('Array length')\n",
    "ax.set_ylabel('Time (s)')\n",
    "fig.tight_layout()"
   ]
  },
  {
   "cell_type": "markdown",
   "metadata": {},
   "source": [
    "However, as we increase the length of the experiment, as seen here by repeating the insertion 100 times, we see a big difference between inserting values of the data row-by-row and inserting it as a binary blob."
   ]
  },
  {
   "cell_type": "markdown",
   "metadata": {},
   "source": [
    "## Loading the data "
   ]
  },
  {
   "cell_type": "code",
   "execution_count": 9,
   "metadata": {
    "execution": {
     "iopub.execute_input": "2021-05-18T07:05:35.076674Z",
     "iopub.status.busy": "2021-05-18T07:05:35.076098Z",
     "iopub.status.idle": "2021-05-18T07:05:35.079952Z",
     "shell.execute_reply": "2021-05-18T07:05:35.079476Z"
    }
   },
   "outputs": [],
   "source": [
    "from qcodes.dataset.data_set import load_by_id"
   ]
  },
  {
   "cell_type": "markdown",
   "metadata": {},
   "source": [
    "As usual you can load the data by using the ``load_by_id`` function but you will notice that the different storage methods\n",
    "are reflected in shape of the data as it is retrieved. "
   ]
  },
  {
   "cell_type": "code",
   "execution_count": 10,
   "metadata": {
    "execution": {
     "iopub.execute_input": "2021-05-18T07:05:35.085904Z",
     "iopub.status.busy": "2021-05-18T07:05:35.083497Z",
     "iopub.status.idle": "2021-05-18T07:05:35.086627Z",
     "shell.execute_reply": "2021-05-18T07:05:35.087108Z"
    }
   },
   "outputs": [],
   "source": [
    "run_id_n = t_numeric_run_ids[0]\n",
    "run_id_a = t_array_run_ids[0]"
   ]
  },
  {
   "cell_type": "code",
   "execution_count": 11,
   "metadata": {
    "execution": {
     "iopub.execute_input": "2021-05-18T07:05:35.090870Z",
     "iopub.status.busy": "2021-05-18T07:05:35.090096Z",
     "iopub.status.idle": "2021-05-18T07:05:35.102823Z",
     "shell.execute_reply": "2021-05-18T07:05:35.102221Z"
    },
    "scrolled": true
   },
   "outputs": [
    {
     "data": {
      "text/plain": [
       "{'x1': {'x1': array([0.69461091, 0.69461091, 0.02055026, 0.02055026, 0.52891065,\n",
       "         0.52891065, 0.10960239, 0.10960239, 0.08328274, 0.08328274,\n",
       "         0.36591891, 0.36591891, 0.21031695, 0.21031695, 0.31745369,\n",
       "         0.31745369, 0.6313856 , 0.6313856 , 0.64473999, 0.64473999,\n",
       "         0.64327766, 0.64327766, 0.72655875, 0.72655875, 0.87508908,\n",
       "         0.87508908, 0.33362777, 0.33362777, 0.21701269, 0.21701269,\n",
       "         0.04570877, 0.04570877, 0.03249921, 0.03249921, 0.79436106,\n",
       "         0.79436106, 0.66432362, 0.66432362, 0.64742026, 0.64742026,\n",
       "         0.99649676, 0.99649676, 0.46023194, 0.46023194, 0.33804615,\n",
       "         0.33804615, 0.92822218, 0.92822218, 0.79325389, 0.79325389,\n",
       "         0.52271039, 0.52271039, 0.60918387, 0.60918387, 0.51182829,\n",
       "         0.51182829, 0.55822837, 0.55822837, 0.19990666, 0.19990666,\n",
       "         0.5599297 , 0.5599297 , 0.28377669, 0.28377669, 0.79080042,\n",
       "         0.79080042, 0.37701944, 0.37701944, 0.29051539, 0.29051539,\n",
       "         0.4598589 , 0.4598589 , 0.54748465, 0.54748465, 0.90297897,\n",
       "         0.90297897, 0.6460137 , 0.6460137 , 0.79374991, 0.79374991,\n",
       "         0.1548044 , 0.1548044 , 0.76336151, 0.76336151, 0.48285284,\n",
       "         0.48285284, 0.40347376, 0.40347376, 0.57255629, 0.57255629,\n",
       "         0.16273567, 0.16273567, 0.87574888, 0.87574888, 0.77084183,\n",
       "         0.77084183, 0.73614616, 0.73614616, 0.62241061, 0.62241061,\n",
       "         0.01072381, 0.01072381, 0.31674526, 0.31674526, 0.39009459,\n",
       "         0.39009459, 0.09069279, 0.09069279, 0.9261607 , 0.9261607 ,\n",
       "         0.71580304, 0.71580304, 0.27368049, 0.27368049, 0.55636764,\n",
       "         0.55636764, 0.47137353, 0.47137353, 0.66444868, 0.66444868,\n",
       "         0.70033243, 0.70033243, 0.1859819 , 0.1859819 , 0.47601697,\n",
       "         0.47601697, 0.19100754, 0.19100754, 0.26007192, 0.26007192,\n",
       "         0.03026454, 0.03026454, 0.01293734, 0.01293734, 0.64814021,\n",
       "         0.64814021, 0.50096708, 0.50096708, 0.67289921, 0.67289921,\n",
       "         0.52262959, 0.52262959, 0.84316052, 0.84316052, 0.86073357,\n",
       "         0.86073357, 0.43004117, 0.43004117, 0.67425293, 0.67425293,\n",
       "         0.03147607, 0.03147607, 0.21847745, 0.21847745, 0.57525955,\n",
       "         0.57525955, 0.9943371 , 0.9943371 , 0.10128635, 0.10128635,\n",
       "         0.58843395, 0.58843395, 0.00667606, 0.00667606, 0.12550353,\n",
       "         0.12550353, 0.67770127, 0.67770127, 0.07361213, 0.07361213,\n",
       "         0.50496023, 0.50496023, 0.39907664, 0.39907664, 0.26995438,\n",
       "         0.26995438, 0.09562737, 0.09562737, 0.80950925, 0.80950925,\n",
       "         0.33462859, 0.33462859, 0.77009235, 0.77009235, 0.16247698,\n",
       "         0.16247698, 0.09124337, 0.09124337, 0.81980529, 0.81980529,\n",
       "         0.33346432, 0.33346432, 0.15784015, 0.15784015, 0.7194967 ,\n",
       "         0.7194967 , 0.31357605, 0.31357605, 0.98178173, 0.98178173])}}"
      ]
     },
     "execution_count": 1,
     "metadata": {},
     "output_type": "execute_result"
    }
   ],
   "source": [
    "ds = load_by_id(run_id_n)\n",
    "ds.get_parameter_data('x1')"
   ]
  },
  {
   "cell_type": "markdown",
   "metadata": {},
   "source": [
    "And a dataset stored as binary arrays"
   ]
  },
  {
   "cell_type": "code",
   "execution_count": 12,
   "metadata": {
    "execution": {
     "iopub.execute_input": "2021-05-18T07:05:35.106992Z",
     "iopub.status.busy": "2021-05-18T07:05:35.106399Z",
     "iopub.status.idle": "2021-05-18T07:05:35.179464Z",
     "shell.execute_reply": "2021-05-18T07:05:35.180276Z"
    },
    "scrolled": true
   },
   "outputs": [
    {
     "data": {
      "text/plain": [
       "{'x1': {'x1': array([[0.96874545],\n",
       "         [0.96874545],\n",
       "         [0.66594214],\n",
       "         [0.66594214],\n",
       "         [0.70671637],\n",
       "         [0.70671637],\n",
       "         [0.49244812],\n",
       "         [0.49244812],\n",
       "         [0.60798468],\n",
       "         [0.60798468],\n",
       "         [0.29148245],\n",
       "         [0.29148245],\n",
       "         [0.52073239],\n",
       "         [0.52073239],\n",
       "         [0.60483309],\n",
       "         [0.60483309],\n",
       "         [0.08540233],\n",
       "         [0.08540233],\n",
       "         [0.10063263],\n",
       "         [0.10063263],\n",
       "         [0.39874791],\n",
       "         [0.39874791],\n",
       "         [0.17700221],\n",
       "         [0.17700221],\n",
       "         [0.30519233],\n",
       "         [0.30519233],\n",
       "         [0.73982107],\n",
       "         [0.73982107],\n",
       "         [0.85746431],\n",
       "         [0.85746431],\n",
       "         [0.28555219],\n",
       "         [0.28555219],\n",
       "         [0.13805017],\n",
       "         [0.13805017],\n",
       "         [0.40982209],\n",
       "         [0.40982209],\n",
       "         [0.12369736],\n",
       "         [0.12369736],\n",
       "         [0.88387337],\n",
       "         [0.88387337],\n",
       "         [0.01685691],\n",
       "         [0.01685691],\n",
       "         [0.13026677],\n",
       "         [0.13026677],\n",
       "         [0.98090436],\n",
       "         [0.98090436],\n",
       "         [0.81488786],\n",
       "         [0.81488786],\n",
       "         [0.01618062],\n",
       "         [0.01618062],\n",
       "         [0.93303618],\n",
       "         [0.93303618],\n",
       "         [0.78230427],\n",
       "         [0.78230427],\n",
       "         [0.97926953],\n",
       "         [0.97926953],\n",
       "         [0.42632341],\n",
       "         [0.42632341],\n",
       "         [0.88596539],\n",
       "         [0.88596539],\n",
       "         [0.67576094],\n",
       "         [0.67576094],\n",
       "         [0.26674861],\n",
       "         [0.26674861],\n",
       "         [0.36114343],\n",
       "         [0.36114343],\n",
       "         [0.37797587],\n",
       "         [0.37797587],\n",
       "         [0.18139029],\n",
       "         [0.18139029],\n",
       "         [0.28922952],\n",
       "         [0.28922952],\n",
       "         [0.72567047],\n",
       "         [0.72567047],\n",
       "         [0.67202029],\n",
       "         [0.67202029],\n",
       "         [0.66695731],\n",
       "         [0.66695731],\n",
       "         [0.67837744],\n",
       "         [0.67837744],\n",
       "         [0.86065356],\n",
       "         [0.86065356],\n",
       "         [0.80777274],\n",
       "         [0.80777274],\n",
       "         [0.54693691],\n",
       "         [0.54693691],\n",
       "         [0.86529388],\n",
       "         [0.86529388],\n",
       "         [0.76139268],\n",
       "         [0.76139268],\n",
       "         [0.77233381],\n",
       "         [0.77233381],\n",
       "         [0.26140921],\n",
       "         [0.26140921],\n",
       "         [0.56970799],\n",
       "         [0.56970799],\n",
       "         [0.16403319],\n",
       "         [0.16403319],\n",
       "         [0.54179049],\n",
       "         [0.54179049],\n",
       "         [0.02865588],\n",
       "         [0.02865588],\n",
       "         [0.70730587],\n",
       "         [0.70730587],\n",
       "         [0.79361237],\n",
       "         [0.79361237],\n",
       "         [0.38435186],\n",
       "         [0.38435186],\n",
       "         [0.58208006],\n",
       "         [0.58208006],\n",
       "         [0.63473882],\n",
       "         [0.63473882],\n",
       "         [0.72266206],\n",
       "         [0.72266206],\n",
       "         [0.47828985],\n",
       "         [0.47828985],\n",
       "         [0.55130706],\n",
       "         [0.55130706],\n",
       "         [0.08969102],\n",
       "         [0.08969102],\n",
       "         [0.43651208],\n",
       "         [0.43651208],\n",
       "         [0.40703524],\n",
       "         [0.40703524],\n",
       "         [0.44291543],\n",
       "         [0.44291543],\n",
       "         [0.1369876 ],\n",
       "         [0.1369876 ],\n",
       "         [0.25468446],\n",
       "         [0.25468446],\n",
       "         [0.82075805],\n",
       "         [0.82075805],\n",
       "         [0.46094407],\n",
       "         [0.46094407],\n",
       "         [0.53469959],\n",
       "         [0.53469959],\n",
       "         [0.30764286],\n",
       "         [0.30764286],\n",
       "         [0.67527499],\n",
       "         [0.67527499],\n",
       "         [0.1745099 ],\n",
       "         [0.1745099 ],\n",
       "         [0.8503531 ],\n",
       "         [0.8503531 ],\n",
       "         [0.28701999],\n",
       "         [0.28701999],\n",
       "         [0.16252791],\n",
       "         [0.16252791],\n",
       "         [0.91496103],\n",
       "         [0.91496103],\n",
       "         [0.36318318],\n",
       "         [0.36318318],\n",
       "         [0.23957297],\n",
       "         [0.23957297],\n",
       "         [0.72830727],\n",
       "         [0.72830727],\n",
       "         [0.70734701],\n",
       "         [0.70734701],\n",
       "         [0.40739962],\n",
       "         [0.40739962],\n",
       "         [0.10130559],\n",
       "         [0.10130559],\n",
       "         [0.20338649],\n",
       "         [0.20338649],\n",
       "         [0.97699578],\n",
       "         [0.97699578],\n",
       "         [0.06752389],\n",
       "         [0.06752389],\n",
       "         [0.95579667],\n",
       "         [0.95579667],\n",
       "         [0.50718496],\n",
       "         [0.50718496],\n",
       "         [0.67776784],\n",
       "         [0.67776784],\n",
       "         [0.12493953],\n",
       "         [0.12493953],\n",
       "         [0.64438402],\n",
       "         [0.64438402],\n",
       "         [0.53925277],\n",
       "         [0.53925277],\n",
       "         [0.59241165],\n",
       "         [0.59241165],\n",
       "         [0.11177447],\n",
       "         [0.11177447],\n",
       "         [0.90381318],\n",
       "         [0.90381318],\n",
       "         [0.93828029],\n",
       "         [0.93828029],\n",
       "         [0.13858975],\n",
       "         [0.13858975],\n",
       "         [0.35459174],\n",
       "         [0.35459174],\n",
       "         [0.27582054],\n",
       "         [0.27582054],\n",
       "         [0.86230753],\n",
       "         [0.86230753],\n",
       "         [0.30118944],\n",
       "         [0.30118944],\n",
       "         [0.36050707],\n",
       "         [0.36050707]])}}"
      ]
     },
     "execution_count": 1,
     "metadata": {},
     "output_type": "execute_result"
    }
   ],
   "source": [
    "ds = load_by_id(run_id_a)\n",
    "ds.get_parameter_data('x1')"
   ]
  },
  {
   "cell_type": "code",
   "execution_count": null,
   "metadata": {},
   "outputs": [],
   "source": []
  }
 ],
 "metadata": {
  "kernelspec": {
   "display_name": "Python 3",
   "language": "python",
   "name": "python3"
  },
  "language_info": {
   "codemirror_mode": {
    "name": "ipython",
    "version": 3
   },
   "file_extension": ".py",
   "mimetype": "text/x-python",
   "name": "python",
   "nbconvert_exporter": "python",
   "pygments_lexer": "ipython3",
   "version": "3.7.10"
  },
  "nbsphinx": {
   "timeout": 600
  },
  "toc": {
   "base_numbering": 1,
   "nav_menu": {},
   "number_sections": true,
   "sideBar": true,
   "skip_h1_title": false,
   "title_cell": "Table of Contents",
   "title_sidebar": "Contents",
   "toc_cell": false,
   "toc_position": {},
   "toc_section_display": true,
   "toc_window_display": false
  },
  "varInspector": {
   "cols": {
    "lenName": 16,
    "lenType": 16,
    "lenVar": 40
   },
   "kernels_config": {
    "python": {
     "delete_cmd_postfix": "",
     "delete_cmd_prefix": "del ",
     "library": "var_list.py",
     "varRefreshCmd": "print(var_dic_list())"
    },
    "r": {
     "delete_cmd_postfix": ") ",
     "delete_cmd_prefix": "rm(",
     "library": "var_list.r",
     "varRefreshCmd": "cat(var_dic_list()) "
    }
   },
   "types_to_exclude": [
    "module",
    "function",
    "builtin_function_or_method",
    "instance",
    "_Feature"
   ],
   "window_display": false
  }
 },
 "nbformat": 4,
 "nbformat_minor": 4
}
