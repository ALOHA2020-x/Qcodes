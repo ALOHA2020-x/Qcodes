{
 "cells": [
  {
   "cell_type": "markdown",
   "metadata": {},
   "source": [
    "# DataSet Performance\n",
    "\n",
    "This notebook shows the trade-off between inserting data into a database row-by-row and as binary blobs. Inserting the data row-by-row means that we have direct access to all the data and may perform queries directly on the values of the data. On the other hand, as we shall see, this is much slower than inserting the data directly as binary blobs."
   ]
  },
  {
   "cell_type": "markdown",
   "metadata": {},
   "source": [
    "First, we choose a new location for the database to ensure that we don't add a bunch of benchmarking data to the default one."
   ]
  },
  {
   "cell_type": "code",
   "execution_count": 1,
   "metadata": {
    "execution": {
     "iopub.execute_input": "2021-02-17T17:41:52.503985Z",
     "iopub.status.busy": "2021-02-17T17:41:52.503255Z",
     "iopub.status.idle": "2021-02-17T17:41:53.455284Z",
     "shell.execute_reply": "2021-02-17T17:41:53.455781Z"
    }
   },
   "outputs": [
    {
     "name": "stdout",
     "output_type": "stream",
     "text": [
      "Logging hadn't been started.\n",
      "Activating auto-logging. Current session state plus future input saved.\n",
      "Filename       : /home/runner/.qcodes/logs/command_history.log\n",
      "Mode           : append\n",
      "Output logging : True\n",
      "Raw input log  : False\n",
      "Timestamping   : True\n",
      "State          : active\n"
     ]
    },
    {
     "name": "stdout",
     "output_type": "stream",
     "text": [
      "Qcodes Logfile : /home/runner/.qcodes/logs/210217-4042-qcodes.log\n"
     ]
    }
   ],
   "source": [
    "import os\n",
    "cwd = os.getcwd()\n",
    "import qcodes as qc\n",
    "qc.config[\"core\"][\"db_location\"] = os.path.join(cwd, 'testing.db')\n"
   ]
  },
  {
   "cell_type": "code",
   "execution_count": 2,
   "metadata": {
    "execution": {
     "iopub.execute_input": "2021-02-17T17:41:53.464566Z",
     "iopub.status.busy": "2021-02-17T17:41:53.462094Z",
     "iopub.status.idle": "2021-02-17T17:41:53.659135Z",
     "shell.execute_reply": "2021-02-17T17:41:53.658263Z"
    }
   },
   "outputs": [],
   "source": [
    "%matplotlib inline\n",
    "import time\n",
    "import matplotlib.pyplot as plt\n",
    "import numpy as np\n",
    "\n",
    "import qcodes as qc\n",
    "from qcodes.instrument.parameter import ManualParameter\n",
    "from qcodes.dataset.experiment_container import (Experiment,\n",
    "                                                 load_last_experiment,\n",
    "                                                 new_experiment)\n",
    "from qcodes.dataset.sqlite.database import initialise_database\n",
    "from qcodes import load_or_create_experiment\n",
    "from qcodes.dataset.measurements import Measurement"
   ]
  },
  {
   "cell_type": "code",
   "execution_count": 3,
   "metadata": {
    "execution": {
     "iopub.execute_input": "2021-02-17T17:41:53.663416Z",
     "iopub.status.busy": "2021-02-17T17:41:53.662796Z",
     "iopub.status.idle": "2021-02-17T17:41:53.769239Z",
     "shell.execute_reply": "2021-02-17T17:41:53.769779Z"
    }
   },
   "outputs": [
    {
     "name": "stdout",
     "output_type": "stream",
     "text": [
      "\r",
      "0it [00:00, ?it/s]"
     ]
    },
    {
     "name": "stdout",
     "output_type": "stream",
     "text": [
      "\r",
      "Upgrading database; v0 -> v1: : 0it [00:00, ?it/s]"
     ]
    },
    {
     "name": "stdout",
     "output_type": "stream",
     "text": [
      "\r",
      "Upgrading database; v0 -> v1: : 0it [00:00, ?it/s]"
     ]
    },
    {
     "name": "stdout",
     "output_type": "stream",
     "text": [
      "\n",
      "\r",
      "  0%|          | 0/1 [00:00<?, ?it/s]"
     ]
    },
    {
     "name": "stdout",
     "output_type": "stream",
     "text": [
      "\r",
      "Upgrading database; v1 -> v2:   0%|          | 0/1 [00:00<?, ?it/s]"
     ]
    },
    {
     "name": "stdout",
     "output_type": "stream",
     "text": [
      "\r",
      "Upgrading database; v1 -> v2: 100%|██████████| 1/1 [00:00<00:00, 498.79it/s]"
     ]
    },
    {
     "name": "stdout",
     "output_type": "stream",
     "text": [
      "\n",
      "\r",
      "0it [00:00, ?it/s]"
     ]
    },
    {
     "name": "stdout",
     "output_type": "stream",
     "text": [
      "\r",
      "Upgrading database; v2 -> v3: : 0it [00:00, ?it/s]"
     ]
    },
    {
     "name": "stdout",
     "output_type": "stream",
     "text": [
      "\r",
      "Upgrading database; v2 -> v3: : 0it [00:00, ?it/s]"
     ]
    },
    {
     "name": "stdout",
     "output_type": "stream",
     "text": [
      "\n",
      "\r",
      "0it [00:00, ?it/s]"
     ]
    },
    {
     "name": "stdout",
     "output_type": "stream",
     "text": [
      "\r",
      "Upgrading database; v3 -> v4: : 0it [00:00, ?it/s]"
     ]
    },
    {
     "name": "stdout",
     "output_type": "stream",
     "text": [
      "\r",
      "Upgrading database; v3 -> v4: : 0it [00:00, ?it/s]"
     ]
    },
    {
     "name": "stdout",
     "output_type": "stream",
     "text": [
      "\n",
      "\r",
      "  0%|          | 0/1 [00:00<?, ?it/s]"
     ]
    },
    {
     "name": "stdout",
     "output_type": "stream",
     "text": [
      "\r",
      "Upgrading database; v4 -> v5:   0%|          | 0/1 [00:00<?, ?it/s]"
     ]
    },
    {
     "name": "stdout",
     "output_type": "stream",
     "text": [
      "\r",
      "Upgrading database; v4 -> v5: 100%|██████████| 1/1 [00:00<00:00, 429.22it/s]"
     ]
    },
    {
     "name": "stdout",
     "output_type": "stream",
     "text": [
      "\n",
      "\r",
      "0it [00:00, ?it/s]"
     ]
    },
    {
     "name": "stdout",
     "output_type": "stream",
     "text": [
      "\r",
      "Upgrading database; v5 -> v6: : 0it [00:00, ?it/s]"
     ]
    },
    {
     "name": "stdout",
     "output_type": "stream",
     "text": [
      "\r",
      "Upgrading database; v5 -> v6: : 0it [00:00, ?it/s]"
     ]
    },
    {
     "name": "stdout",
     "output_type": "stream",
     "text": [
      "\n",
      "\r",
      "  0%|          | 0/1 [00:00<?, ?it/s]"
     ]
    },
    {
     "name": "stdout",
     "output_type": "stream",
     "text": [
      "\r",
      "Upgrading database; v6 -> v7:   0%|          | 0/1 [00:00<?, ?it/s]"
     ]
    },
    {
     "name": "stdout",
     "output_type": "stream",
     "text": [
      "\r",
      "Upgrading database; v6 -> v7: 100%|██████████| 1/1 [00:00<00:00, 386.18it/s]"
     ]
    },
    {
     "name": "stdout",
     "output_type": "stream",
     "text": [
      "\n",
      "\r",
      "  0%|          | 0/1 [00:00<?, ?it/s]"
     ]
    },
    {
     "name": "stdout",
     "output_type": "stream",
     "text": [
      "\r",
      "Upgrading database; v7 -> v8:   0%|          | 0/1 [00:00<?, ?it/s]"
     ]
    },
    {
     "name": "stdout",
     "output_type": "stream",
     "text": [
      "\r",
      "Upgrading database; v7 -> v8: 100%|██████████| 1/1 [00:00<00:00, 617.99it/s]"
     ]
    },
    {
     "name": "stdout",
     "output_type": "stream",
     "text": [
      "\n",
      "\r",
      "  0%|          | 0/1 [00:00<?, ?it/s]"
     ]
    },
    {
     "name": "stdout",
     "output_type": "stream",
     "text": [
      "\r",
      "Upgrading database; v8 -> v9:   0%|          | 0/1 [00:00<?, ?it/s]"
     ]
    },
    {
     "name": "stdout",
     "output_type": "stream",
     "text": [
      "\r",
      "Upgrading database; v8 -> v9: 100%|██████████| 1/1 [00:00<00:00, 401.60it/s]"
     ]
    },
    {
     "name": "stdout",
     "output_type": "stream",
     "text": [
      "\n"
     ]
    }
   ],
   "source": [
    "initialise_database()\n",
    "exp = load_or_create_experiment(experiment_name='tutorial_exp', sample_name=\"no sample\")"
   ]
  },
  {
   "cell_type": "markdown",
   "metadata": {},
   "source": [
    "Here, we define a simple function to benchmark the time it takes to insert n points with either numeric or array data type.\n",
    "We will compare both the time used to call ``add_result`` and the time used for the full measurement."
   ]
  },
  {
   "cell_type": "code",
   "execution_count": 4,
   "metadata": {
    "execution": {
     "iopub.execute_input": "2021-02-17T17:41:53.779682Z",
     "iopub.status.busy": "2021-02-17T17:41:53.777520Z",
     "iopub.status.idle": "2021-02-17T17:41:53.782916Z",
     "shell.execute_reply": "2021-02-17T17:41:53.782277Z"
    }
   },
   "outputs": [],
   "source": [
    "def insert_data(paramtype, npoints, nreps=1):\n",
    "\n",
    "    meas = Measurement(exp=exp)\n",
    "\n",
    "    x1 = ManualParameter('x1')\n",
    "    x2 = ManualParameter('x2')\n",
    "    x3 = ManualParameter('x3')\n",
    "    y1 = ManualParameter('y1')\n",
    "    y2 = ManualParameter('y2')\n",
    "\n",
    "    meas.register_parameter(x1, paramtype=paramtype)\n",
    "    meas.register_parameter(x2, paramtype=paramtype)\n",
    "    meas.register_parameter(x3, paramtype=paramtype)\n",
    "    meas.register_parameter(y1, setpoints=[x1, x2, x3],\n",
    "                            paramtype=paramtype)\n",
    "    meas.register_parameter(y2, setpoints=[x1, x2, x3],\n",
    "                            paramtype=paramtype)\n",
    "    start = time.perf_counter()\n",
    "    with meas.run() as datasaver:\n",
    "        start_adding = time.perf_counter()\n",
    "        for i in range(nreps):\n",
    "            datasaver.add_result((x1, np.random.rand(npoints)),\n",
    "                                 (x2, np.random.rand(npoints)),\n",
    "                                 (x3, np.random.rand(npoints)),\n",
    "                                 (y1, np.random.rand(npoints)),\n",
    "                                 (y2, np.random.rand(npoints)))\n",
    "        stop_adding = time.perf_counter()\n",
    "        run_id = datasaver.run_id\n",
    "    stop = time.perf_counter()\n",
    "    tot_time = stop - start\n",
    "    add_time = stop_adding - start_adding\n",
    "    return tot_time, add_time, run_id"
   ]
  },
  {
   "cell_type": "markdown",
   "metadata": {},
   "source": [
    "## Comparison between numeric/array data and binary blob"
   ]
  },
  {
   "cell_type": "markdown",
   "metadata": {},
   "source": [
    "### Case1: Short experiment time"
   ]
  },
  {
   "cell_type": "code",
   "execution_count": 5,
   "metadata": {
    "execution": {
     "iopub.execute_input": "2021-02-17T17:41:53.790611Z",
     "iopub.status.busy": "2021-02-17T17:41:53.789334Z",
     "iopub.status.idle": "2021-02-17T17:41:54.664713Z",
     "shell.execute_reply": "2021-02-17T17:41:54.663680Z"
    }
   },
   "outputs": [
    {
     "name": "stdout",
     "output_type": "stream",
     "text": [
      "Starting experimental run with id: 1. \n",
      "Starting experimental run with id: 2. \n",
      "Starting experimental run with id: 3. \n",
      "Starting experimental run with id: 4. \n",
      "Starting experimental run with id: 5. \n"
     ]
    },
    {
     "name": "stdout",
     "output_type": "stream",
     "text": [
      "Starting experimental run with id: 6. \n"
     ]
    },
    {
     "name": "stdout",
     "output_type": "stream",
     "text": [
      "Starting experimental run with id: 7. \n"
     ]
    },
    {
     "name": "stdout",
     "output_type": "stream",
     "text": [
      "Starting experimental run with id: 8. \n",
      "Starting experimental run with id: 9. \n"
     ]
    },
    {
     "name": "stdout",
     "output_type": "stream",
     "text": [
      "Starting experimental run with id: 10. \n",
      "Starting experimental run with id: 11. \n"
     ]
    },
    {
     "name": "stdout",
     "output_type": "stream",
     "text": [
      "Starting experimental run with id: 12. \n"
     ]
    },
    {
     "name": "stdout",
     "output_type": "stream",
     "text": [
      "Starting experimental run with id: 13. \n"
     ]
    },
    {
     "name": "stdout",
     "output_type": "stream",
     "text": [
      "Starting experimental run with id: 14. \n"
     ]
    }
   ],
   "source": [
    "sizes = [1,500,1000,2000,3000,4000,5000]\n",
    "t_numeric = []\n",
    "t_numeric_add = []\n",
    "t_array = []\n",
    "t_array_add = []\n",
    "for size in sizes:\n",
    "    tn, tna, run_id_n =  insert_data('numeric', size)\n",
    "    t_numeric.append(tn)\n",
    "    t_numeric_add.append(tna)\n",
    "\n",
    "    ta, taa, run_id_a =  insert_data('array', size)\n",
    "    t_array.append(ta)\n",
    "    t_array_add.append(taa)"
   ]
  },
  {
   "cell_type": "code",
   "execution_count": 6,
   "metadata": {
    "execution": {
     "iopub.execute_input": "2021-02-17T17:41:54.694051Z",
     "iopub.status.busy": "2021-02-17T17:41:54.685994Z",
     "iopub.status.idle": "2021-02-17T17:41:54.921399Z",
     "shell.execute_reply": "2021-02-17T17:41:54.920851Z"
    }
   },
   "outputs": [
    {
     "data": {
      "image/png": "[encoded data removed]",
      "text/plain": [
       "<Figure size 432x288 with 1 Axes>"
      ]
     },
     "metadata": {
      "needs_background": "light"
     },
     "output_type": "display_data"
    }
   ],
   "source": [
    "fig, ax = plt.subplots(1,1)\n",
    "ax.plot(sizes, t_numeric, 'o-', label='Inserting row-by-row')\n",
    "ax.plot(sizes, t_numeric_add, 'o-', label='Inserting row-by-row: add_result only')\n",
    "ax.plot(sizes, t_array, 'd-', label='Inserting as binary blob')\n",
    "ax.plot(sizes, t_array_add, 'd-', label='Inserting as binary blob: add_result only')\n",
    "ax.legend()\n",
    "ax.set_xlabel('Array length')\n",
    "ax.set_ylabel('Time (s)')\n",
    "fig.tight_layout()"
   ]
  },
  {
   "cell_type": "markdown",
   "metadata": {},
   "source": [
    "As shown in the latter figure, the time to setup and and close the experiment is approximately 0.4 sec. In case of small array sizes, the difference between inserting values of data as arrays and inserting them row-by-row is relatively unimportant. At larger array sizes, i.e. above 10000 points, the cost of writing data as individual datapoints starts to become important.\n"
   ]
  },
  {
   "cell_type": "markdown",
   "metadata": {},
   "source": [
    "### Case2: Long experiment time "
   ]
  },
  {
   "cell_type": "code",
   "execution_count": 7,
   "metadata": {
    "execution": {
     "iopub.execute_input": "2021-02-17T17:41:54.929270Z",
     "iopub.status.busy": "2021-02-17T17:41:54.928146Z",
     "iopub.status.idle": "2021-02-17T17:42:56.163429Z",
     "shell.execute_reply": "2021-02-17T17:42:56.162919Z"
    }
   },
   "outputs": [
    {
     "name": "stdout",
     "output_type": "stream",
     "text": [
      "Starting experimental run with id: 15. \n",
      "Starting experimental run with id: 16. \n"
     ]
    },
    {
     "name": "stdout",
     "output_type": "stream",
     "text": [
      "Starting experimental run with id: 17. \n"
     ]
    },
    {
     "name": "stdout",
     "output_type": "stream",
     "text": [
      "Starting experimental run with id: 18. \n"
     ]
    },
    {
     "name": "stdout",
     "output_type": "stream",
     "text": [
      "Starting experimental run with id: 19. \n"
     ]
    },
    {
     "name": "stdout",
     "output_type": "stream",
     "text": [
      "Starting experimental run with id: 20. \n"
     ]
    },
    {
     "name": "stdout",
     "output_type": "stream",
     "text": [
      "Starting experimental run with id: 21. \n"
     ]
    },
    {
     "name": "stdout",
     "output_type": "stream",
     "text": [
      "Starting experimental run with id: 22. \n"
     ]
    },
    {
     "name": "stdout",
     "output_type": "stream",
     "text": [
      "Starting experimental run with id: 23. \n"
     ]
    },
    {
     "name": "stdout",
     "output_type": "stream",
     "text": [
      "Starting experimental run with id: 24. \n"
     ]
    },
    {
     "name": "stdout",
     "output_type": "stream",
     "text": [
      "Starting experimental run with id: 25. \n"
     ]
    },
    {
     "name": "stdout",
     "output_type": "stream",
     "text": [
      "Starting experimental run with id: 26. \n"
     ]
    },
    {
     "name": "stdout",
     "output_type": "stream",
     "text": [
      "Starting experimental run with id: 27. \n"
     ]
    },
    {
     "name": "stdout",
     "output_type": "stream",
     "text": [
      "Starting experimental run with id: 28. \n"
     ]
    }
   ],
   "source": [
    "sizes = [1,500,1000,2000,3000,4000,5000]\n",
    "nreps = 100\n",
    "t_numeric = []\n",
    "t_numeric_add = []\n",
    "t_numeric_run_ids = []\n",
    "t_array = []\n",
    "t_array_add = []\n",
    "t_array_run_ids = []\n",
    "for size in sizes:\n",
    "    tn, tna, run_id_n =  insert_data('numeric', size, nreps=nreps)\n",
    "    t_numeric.append(tn)\n",
    "    t_numeric_add.append(tna)\n",
    "    t_numeric_run_ids.append(run_id_n)\n",
    "\n",
    "    ta, taa, run_id_a =  insert_data('array', size, nreps=nreps)\n",
    "    t_array.append(ta)\n",
    "    t_array_add.append(taa)\n",
    "    t_array_run_ids.append(run_id_a)"
   ]
  },
  {
   "cell_type": "code",
   "execution_count": 8,
   "metadata": {
    "execution": {
     "iopub.execute_input": "2021-02-17T17:42:56.191424Z",
     "iopub.status.busy": "2021-02-17T17:42:56.186767Z",
     "iopub.status.idle": "2021-02-17T17:42:56.428043Z",
     "shell.execute_reply": "2021-02-17T17:42:56.427376Z"
    },
    "scrolled": true
   },
   "outputs": [
    {
     "data": {
      "image/png": "[encoded data removed]",
      "text/plain": [
       "<Figure size 432x288 with 1 Axes>"
      ]
     },
     "metadata": {
      "needs_background": "light"
     },
     "output_type": "display_data"
    }
   ],
   "source": [
    "fig, ax = plt.subplots(1,1)\n",
    "ax.plot(sizes, t_numeric, 'o-', label='Inserting row-by-row')\n",
    "ax.plot(sizes, t_numeric_add, 'o-', label='Inserting row-by-row: add_result only')\n",
    "ax.plot(sizes, t_array, 'd-', label='Inserting as binary blob')\n",
    "ax.plot(sizes, t_array_add, 'd-', label='Inserting as binary blob: add_result only')\n",
    "ax.legend()\n",
    "ax.set_xlabel('Array length')\n",
    "ax.set_ylabel('Time (s)')\n",
    "fig.tight_layout()"
   ]
  },
  {
   "cell_type": "markdown",
   "metadata": {},
   "source": [
    "However, as we increase the length of the experiment, as seen here by repeating the insertion 100 times, we see a big difference between inserting values of the data row-by-row and inserting it as a binary blob."
   ]
  },
  {
   "cell_type": "markdown",
   "metadata": {},
   "source": [
    "## Loading the data "
   ]
  },
  {
   "cell_type": "code",
   "execution_count": 9,
   "metadata": {
    "execution": {
     "iopub.execute_input": "2021-02-17T17:42:56.433417Z",
     "iopub.status.busy": "2021-02-17T17:42:56.432198Z",
     "iopub.status.idle": "2021-02-17T17:42:56.436252Z",
     "shell.execute_reply": "2021-02-17T17:42:56.435548Z"
    }
   },
   "outputs": [],
   "source": [
    "from qcodes.dataset.data_set import load_by_id\n",
    "from qcodes.dataset.data_export import get_data_by_id"
   ]
  },
  {
   "cell_type": "markdown",
   "metadata": {},
   "source": [
    "As usual you can load the data by using the ``load_by_id`` function but you will notice that the different storage methods\n",
    "are reflected in shape of the data as it is retrieved. "
   ]
  },
  {
   "cell_type": "code",
   "execution_count": 10,
   "metadata": {
    "execution": {
     "iopub.execute_input": "2021-02-17T17:42:56.441851Z",
     "iopub.status.busy": "2021-02-17T17:42:56.440344Z",
     "iopub.status.idle": "2021-02-17T17:42:56.442499Z",
     "shell.execute_reply": "2021-02-17T17:42:56.443065Z"
    }
   },
   "outputs": [],
   "source": [
    "run_id_n = t_numeric_run_ids[0]\n",
    "run_id_a = t_array_run_ids[0]"
   ]
  },
  {
   "cell_type": "code",
   "execution_count": 11,
   "metadata": {
    "execution": {
     "iopub.execute_input": "2021-02-17T17:42:56.446972Z",
     "iopub.status.busy": "2021-02-17T17:42:56.446291Z",
     "iopub.status.idle": "2021-02-17T17:42:56.456410Z",
     "shell.execute_reply": "2021-02-17T17:42:56.456932Z"
    },
    "scrolled": true
   },
   "outputs": [
    {
     "data": {
      "text/plain": [
       "{'x1': {'x1': array([0.75413628, 0.75413628, 0.14392345, 0.14392345, 0.0148302 ,\n",
       "         0.0148302 , 0.33644437, 0.33644437, 0.34045386, 0.34045386,\n",
       "         0.77415502, 0.77415502, 0.31004635, 0.31004635, 0.36540594,\n",
       "         0.36540594, 0.36523423, 0.36523423, 0.99895013, 0.99895013,\n",
       "         0.59235843, 0.59235843, 0.05873402, 0.05873402, 0.07261609,\n",
       "         0.07261609, 0.21096109, 0.21096109, 0.99883222, 0.99883222,\n",
       "         0.97305041, 0.97305041, 0.92672322, 0.92672322, 0.08630552,\n",
       "         0.08630552, 0.93256592, 0.93256592, 0.86969304, 0.86969304,\n",
       "         0.67236429, 0.67236429, 0.42435372, 0.42435372, 0.41466473,\n",
       "         0.41466473, 0.10634525, 0.10634525, 0.42749765, 0.42749765,\n",
       "         0.50998382, 0.50998382, 0.96065655, 0.96065655, 0.12024667,\n",
       "         0.12024667, 0.52578101, 0.52578101, 0.63603922, 0.63603922,\n",
       "         0.68931648, 0.68931648, 0.89057487, 0.89057487, 0.27621455,\n",
       "         0.27621455, 0.75061094, 0.75061094, 0.83345989, 0.83345989,\n",
       "         0.90115784, 0.90115784, 0.23089984, 0.23089984, 0.14155663,\n",
       "         0.14155663, 0.03551738, 0.03551738, 0.92844436, 0.92844436,\n",
       "         0.51069567, 0.51069567, 0.74836099, 0.74836099, 0.39337141,\n",
       "         0.39337141, 0.62131121, 0.62131121, 0.1819471 , 0.1819471 ,\n",
       "         0.55040107, 0.55040107, 0.76650828, 0.76650828, 0.613381  ,\n",
       "         0.613381  , 0.4892348 , 0.4892348 , 0.92890556, 0.92890556,\n",
       "         0.70296519, 0.70296519, 0.50310565, 0.50310565, 0.31631463,\n",
       "         0.31631463, 0.71718469, 0.71718469, 0.11570544, 0.11570544,\n",
       "         0.0544002 , 0.0544002 , 0.07371293, 0.07371293, 0.80459873,\n",
       "         0.80459873, 0.3580593 , 0.3580593 , 0.45561232, 0.45561232,\n",
       "         0.52977917, 0.52977917, 0.82371957, 0.82371957, 0.11508692,\n",
       "         0.11508692, 0.53045778, 0.53045778, 0.75947591, 0.75947591,\n",
       "         0.20948708, 0.20948708, 0.44731163, 0.44731163, 0.23790854,\n",
       "         0.23790854, 0.40432599, 0.40432599, 0.29406294, 0.29406294,\n",
       "         0.26086251, 0.26086251, 0.88336374, 0.88336374, 0.4468752 ,\n",
       "         0.4468752 , 0.13536325, 0.13536325, 0.56268863, 0.56268863,\n",
       "         0.68654663, 0.68654663, 0.35447176, 0.35447176, 0.4315128 ,\n",
       "         0.4315128 , 0.62439109, 0.62439109, 0.67454447, 0.67454447,\n",
       "         0.36880103, 0.36880103, 0.52847412, 0.52847412, 0.11197975,\n",
       "         0.11197975, 0.97443731, 0.97443731, 0.21740154, 0.21740154,\n",
       "         0.75865958, 0.75865958, 0.69933871, 0.69933871, 0.94730118,\n",
       "         0.94730118, 0.29118186, 0.29118186, 0.94135621, 0.94135621,\n",
       "         0.45999804, 0.45999804, 0.34070865, 0.34070865, 0.08256799,\n",
       "         0.08256799, 0.30067937, 0.30067937, 0.042259  , 0.042259  ,\n",
       "         0.03086308, 0.03086308, 0.73559626, 0.73559626, 0.73223651,\n",
       "         0.73223651, 0.18122947, 0.18122947, 0.64568035, 0.64568035])}}"
      ]
     },
     "execution_count": 1,
     "metadata": {},
     "output_type": "execute_result"
    }
   ],
   "source": [
    "ds = load_by_id(run_id_n)\n",
    "ds.get_parameter_data('x1')"
   ]
  },
  {
   "cell_type": "markdown",
   "metadata": {},
   "source": [
    "And a dataset stored as binary arrays"
   ]
  },
  {
   "cell_type": "code",
   "execution_count": 12,
   "metadata": {
    "execution": {
     "iopub.execute_input": "2021-02-17T17:42:56.460774Z",
     "iopub.status.busy": "2021-02-17T17:42:56.460124Z",
     "iopub.status.idle": "2021-02-17T17:42:56.529504Z",
     "shell.execute_reply": "2021-02-17T17:42:56.530018Z"
    },
    "scrolled": true
   },
   "outputs": [
    {
     "data": {
      "text/plain": [
       "{'x1': {'x1': array([[0.78052474],\n",
       "         [0.78052474],\n",
       "         [0.34648988],\n",
       "         [0.34648988],\n",
       "         [0.55003044],\n",
       "         [0.55003044],\n",
       "         [0.91814841],\n",
       "         [0.91814841],\n",
       "         [0.40953529],\n",
       "         [0.40953529],\n",
       "         [0.91963653],\n",
       "         [0.91963653],\n",
       "         [0.34484587],\n",
       "         [0.34484587],\n",
       "         [0.91354679],\n",
       "         [0.91354679],\n",
       "         [0.20810983],\n",
       "         [0.20810983],\n",
       "         [0.88386781],\n",
       "         [0.88386781],\n",
       "         [0.01946581],\n",
       "         [0.01946581],\n",
       "         [0.23826137],\n",
       "         [0.23826137],\n",
       "         [0.20710854],\n",
       "         [0.20710854],\n",
       "         [0.49012097],\n",
       "         [0.49012097],\n",
       "         [0.53579006],\n",
       "         [0.53579006],\n",
       "         [0.37926602],\n",
       "         [0.37926602],\n",
       "         [0.85138103],\n",
       "         [0.85138103],\n",
       "         [0.790671  ],\n",
       "         [0.790671  ],\n",
       "         [0.95959989],\n",
       "         [0.95959989],\n",
       "         [0.31776129],\n",
       "         [0.31776129],\n",
       "         [0.71226577],\n",
       "         [0.71226577],\n",
       "         [0.84804373],\n",
       "         [0.84804373],\n",
       "         [0.76995803],\n",
       "         [0.76995803],\n",
       "         [0.13100294],\n",
       "         [0.13100294],\n",
       "         [0.6498383 ],\n",
       "         [0.6498383 ],\n",
       "         [0.65245543],\n",
       "         [0.65245543],\n",
       "         [0.35826582],\n",
       "         [0.35826582],\n",
       "         [0.81536244],\n",
       "         [0.81536244],\n",
       "         [0.40564954],\n",
       "         [0.40564954],\n",
       "         [0.26987913],\n",
       "         [0.26987913],\n",
       "         [0.98355038],\n",
       "         [0.98355038],\n",
       "         [0.20399933],\n",
       "         [0.20399933],\n",
       "         [0.19510025],\n",
       "         [0.19510025],\n",
       "         [0.18525174],\n",
       "         [0.18525174],\n",
       "         [0.32569425],\n",
       "         [0.32569425],\n",
       "         [0.72227124],\n",
       "         [0.72227124],\n",
       "         [0.14009147],\n",
       "         [0.14009147],\n",
       "         [0.52148815],\n",
       "         [0.52148815],\n",
       "         [0.55627673],\n",
       "         [0.55627673],\n",
       "         [0.34786263],\n",
       "         [0.34786263],\n",
       "         [0.60239178],\n",
       "         [0.60239178],\n",
       "         [0.93575388],\n",
       "         [0.93575388],\n",
       "         [0.57030986],\n",
       "         [0.57030986],\n",
       "         [0.93179906],\n",
       "         [0.93179906],\n",
       "         [0.55884606],\n",
       "         [0.55884606],\n",
       "         [0.29327451],\n",
       "         [0.29327451],\n",
       "         [0.9119479 ],\n",
       "         [0.9119479 ],\n",
       "         [0.54178187],\n",
       "         [0.54178187],\n",
       "         [0.58960003],\n",
       "         [0.58960003],\n",
       "         [0.85238755],\n",
       "         [0.85238755],\n",
       "         [0.66934122],\n",
       "         [0.66934122],\n",
       "         [0.8898721 ],\n",
       "         [0.8898721 ],\n",
       "         [0.13184127],\n",
       "         [0.13184127],\n",
       "         [0.47296562],\n",
       "         [0.47296562],\n",
       "         [0.74250461],\n",
       "         [0.74250461],\n",
       "         [0.09590712],\n",
       "         [0.09590712],\n",
       "         [0.24515554],\n",
       "         [0.24515554],\n",
       "         [0.2079158 ],\n",
       "         [0.2079158 ],\n",
       "         [0.60931934],\n",
       "         [0.60931934],\n",
       "         [0.64318897],\n",
       "         [0.64318897],\n",
       "         [0.96125701],\n",
       "         [0.96125701],\n",
       "         [0.11308905],\n",
       "         [0.11308905],\n",
       "         [0.54352088],\n",
       "         [0.54352088],\n",
       "         [0.58279035],\n",
       "         [0.58279035],\n",
       "         [0.52960639],\n",
       "         [0.52960639],\n",
       "         [0.15360708],\n",
       "         [0.15360708],\n",
       "         [0.78972142],\n",
       "         [0.78972142],\n",
       "         [0.79715319],\n",
       "         [0.79715319],\n",
       "         [0.54009672],\n",
       "         [0.54009672],\n",
       "         [0.84252739],\n",
       "         [0.84252739],\n",
       "         [0.9246163 ],\n",
       "         [0.9246163 ],\n",
       "         [0.50322345],\n",
       "         [0.50322345],\n",
       "         [0.74807746],\n",
       "         [0.74807746],\n",
       "         [0.06647605],\n",
       "         [0.06647605],\n",
       "         [0.71054074],\n",
       "         [0.71054074],\n",
       "         [0.23865962],\n",
       "         [0.23865962],\n",
       "         [0.15118556],\n",
       "         [0.15118556],\n",
       "         [0.62321911],\n",
       "         [0.62321911],\n",
       "         [0.11908634],\n",
       "         [0.11908634],\n",
       "         [0.71936857],\n",
       "         [0.71936857],\n",
       "         [0.91850922],\n",
       "         [0.91850922],\n",
       "         [0.53823888],\n",
       "         [0.53823888],\n",
       "         [0.73993117],\n",
       "         [0.73993117],\n",
       "         [0.26006728],\n",
       "         [0.26006728],\n",
       "         [0.83349103],\n",
       "         [0.83349103],\n",
       "         [0.05618305],\n",
       "         [0.05618305],\n",
       "         [0.82735718],\n",
       "         [0.82735718],\n",
       "         [0.1519882 ],\n",
       "         [0.1519882 ],\n",
       "         [0.79392442],\n",
       "         [0.79392442],\n",
       "         [0.73038149],\n",
       "         [0.73038149],\n",
       "         [0.1279517 ],\n",
       "         [0.1279517 ],\n",
       "         [0.11930939],\n",
       "         [0.11930939],\n",
       "         [0.56099665],\n",
       "         [0.56099665],\n",
       "         [0.8998977 ],\n",
       "         [0.8998977 ],\n",
       "         [0.51848939],\n",
       "         [0.51848939],\n",
       "         [0.73628145],\n",
       "         [0.73628145],\n",
       "         [0.53139633],\n",
       "         [0.53139633],\n",
       "         [0.024454  ],\n",
       "         [0.024454  ],\n",
       "         [0.92147019],\n",
       "         [0.92147019],\n",
       "         [0.61127528],\n",
       "         [0.61127528]])}}"
      ]
     },
     "execution_count": 1,
     "metadata": {},
     "output_type": "execute_result"
    }
   ],
   "source": [
    "ds = load_by_id(run_id_a)\n",
    "ds.get_parameter_data('x1')"
   ]
  },
  {
   "cell_type": "code",
   "execution_count": null,
   "metadata": {},
   "outputs": [],
   "source": []
  }
 ],
 "metadata": {
  "kernelspec": {
   "display_name": "Python 3",
   "language": "python",
   "name": "python3"
  },
  "language_info": {
   "codemirror_mode": {
    "name": "ipython",
    "version": 3
   },
   "file_extension": ".py",
   "mimetype": "text/x-python",
   "name": "python",
   "nbconvert_exporter": "python",
   "pygments_lexer": "ipython3",
   "version": "3.7.9"
  },
  "nbsphinx": {
   "timeout": 600
  },
  "toc": {
   "base_numbering": 1,
   "nav_menu": {},
   "number_sections": true,
   "sideBar": true,
   "skip_h1_title": false,
   "title_cell": "Table of Contents",
   "title_sidebar": "Contents",
   "toc_cell": false,
   "toc_position": {},
   "toc_section_display": true,
   "toc_window_display": false
  },
  "varInspector": {
   "cols": {
    "lenName": 16,
    "lenType": 16,
    "lenVar": 40
   },
   "kernels_config": {
    "python": {
     "delete_cmd_postfix": "",
     "delete_cmd_prefix": "del ",
     "library": "var_list.py",
     "varRefreshCmd": "print(var_dic_list())"
    },
    "r": {
     "delete_cmd_postfix": ") ",
     "delete_cmd_prefix": "rm(",
     "library": "var_list.r",
     "varRefreshCmd": "cat(var_dic_list()) "
    }
   },
   "types_to_exclude": [
    "module",
    "function",
    "builtin_function_or_method",
    "instance",
    "_Feature"
   ],
   "window_display": false
  }
 },
 "nbformat": 4,
 "nbformat_minor": 2
}
