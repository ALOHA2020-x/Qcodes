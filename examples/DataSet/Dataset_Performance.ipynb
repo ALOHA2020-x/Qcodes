{
 "cells": [
  {
   "cell_type": "markdown",
   "metadata": {},
   "source": [
    "# DataSet Performance\n",
    "\n",
    "This notebook shows the trade-off between inserting data into a database row-by-row and as binary blobs. Inserting the data row-by-row means that we have direct access to all the data and may perform queries directly on the values of the data. On the other hand, as we shall see, this is much slower than inserting the data directly as binary blobs."
   ]
  },
  {
   "cell_type": "markdown",
   "metadata": {},
   "source": [
    "First, we choose a new location for the database to ensure that we don't add a bunch of benchmarking data to the default one."
   ]
  },
  {
   "cell_type": "code",
   "execution_count": 1,
   "metadata": {
    "execution": {
     "iopub.execute_input": "2020-10-05T08:18:25.056489Z",
     "iopub.status.busy": "2020-10-05T08:18:25.055971Z",
     "iopub.status.idle": "2020-10-05T08:18:25.894810Z",
     "shell.execute_reply": "2020-10-05T08:18:25.894301Z"
    }
   },
   "outputs": [
    {
     "name": "stdout",
     "output_type": "stream",
     "text": [
      "Logging hadn't been started.\n",
      "Activating auto-logging. Current session state plus future input saved.\n",
      "Filename       : /home/vsts/.qcodes/logs/command_history.log\n",
      "Mode           : append\n",
      "Output logging : True\n",
      "Raw input log  : False\n",
      "Timestamping   : True\n",
      "State          : active\n"
     ]
    },
    {
     "name": "stdout",
     "output_type": "stream",
     "text": [
      "Qcodes Logfile : /home/vsts/.qcodes/logs/201005-18736-qcodes.log\n"
     ]
    }
   ],
   "source": [
    "import os\n",
    "cwd = os.getcwd()\n",
    "import qcodes as qc\n",
    "qc.config[\"core\"][\"db_location\"] = os.path.join(cwd, 'testing.db')\n"
   ]
  },
  {
   "cell_type": "code",
   "execution_count": 2,
   "metadata": {
    "execution": {
     "iopub.execute_input": "2020-10-05T08:18:25.901298Z",
     "iopub.status.busy": "2020-10-05T08:18:25.899843Z",
     "iopub.status.idle": "2020-10-05T08:18:26.049594Z",
     "shell.execute_reply": "2020-10-05T08:18:26.048333Z"
    }
   },
   "outputs": [],
   "source": [
    "%matplotlib inline\n",
    "import time\n",
    "import matplotlib.pyplot as plt\n",
    "import numpy as np\n",
    "\n",
    "import qcodes as qc\n",
    "from qcodes.instrument.parameter import ManualParameter\n",
    "from qcodes.dataset.experiment_container import (Experiment,\n",
    "                                                 load_last_experiment,\n",
    "                                                 new_experiment)\n",
    "from qcodes.dataset.sqlite.database import initialise_database\n",
    "from qcodes import load_or_create_experiment\n",
    "from qcodes.dataset.measurements import Measurement"
   ]
  },
  {
   "cell_type": "code",
   "execution_count": 3,
   "metadata": {
    "execution": {
     "iopub.execute_input": "2020-10-05T08:18:26.052768Z",
     "iopub.status.busy": "2020-10-05T08:18:26.052318Z",
     "iopub.status.idle": "2020-10-05T08:18:26.143878Z",
     "shell.execute_reply": "2020-10-05T08:18:26.143333Z"
    }
   },
   "outputs": [
    {
     "name": "stdout",
     "output_type": "stream",
     "text": [
      "\r",
      "0it [00:00, ?it/s]"
     ]
    },
    {
     "name": "stdout",
     "output_type": "stream",
     "text": [
      "\r",
      "Upgrading database; v0 -> v1: : 0it [00:00, ?it/s]"
     ]
    },
    {
     "name": "stdout",
     "output_type": "stream",
     "text": [
      "\r",
      "Upgrading database; v0 -> v1: : 0it [00:00, ?it/s]"
     ]
    },
    {
     "name": "stdout",
     "output_type": "stream",
     "text": [
      "\n",
      "\r",
      "  0%|          | 0/1 [00:00<?, ?it/s]"
     ]
    },
    {
     "name": "stdout",
     "output_type": "stream",
     "text": [
      "\r",
      "Upgrading database; v1 -> v2:   0%|          | 0/1 [00:00<?, ?it/s]"
     ]
    },
    {
     "name": "stdout",
     "output_type": "stream",
     "text": [
      "\r",
      "Upgrading database; v1 -> v2: 100%|██████████| 1/1 [00:00<00:00, 891.46it/s]"
     ]
    },
    {
     "name": "stdout",
     "output_type": "stream",
     "text": [
      "\n",
      "\r",
      "0it [00:00, ?it/s]"
     ]
    },
    {
     "name": "stdout",
     "output_type": "stream",
     "text": [
      "\r",
      "Upgrading database; v2 -> v3: : 0it [00:00, ?it/s]"
     ]
    },
    {
     "name": "stdout",
     "output_type": "stream",
     "text": [
      "\r",
      "Upgrading database; v2 -> v3: : 0it [00:00, ?it/s]"
     ]
    },
    {
     "name": "stdout",
     "output_type": "stream",
     "text": [
      "\n",
      "\r",
      "0it [00:00, ?it/s]"
     ]
    },
    {
     "name": "stdout",
     "output_type": "stream",
     "text": [
      "\r",
      "Upgrading database; v3 -> v4: : 0it [00:00, ?it/s]"
     ]
    },
    {
     "name": "stdout",
     "output_type": "stream",
     "text": [
      "\r",
      "Upgrading database; v3 -> v4: : 0it [00:00, ?it/s]"
     ]
    },
    {
     "name": "stdout",
     "output_type": "stream",
     "text": [
      "\n",
      "\r",
      "  0%|          | 0/1 [00:00<?, ?it/s]"
     ]
    },
    {
     "name": "stdout",
     "output_type": "stream",
     "text": [
      "\r",
      "Upgrading database; v4 -> v5:   0%|          | 0/1 [00:00<?, ?it/s]"
     ]
    },
    {
     "name": "stdout",
     "output_type": "stream",
     "text": [
      "\r",
      "Upgrading database; v4 -> v5: 100%|██████████| 1/1 [00:00<00:00, 461.32it/s]"
     ]
    },
    {
     "name": "stdout",
     "output_type": "stream",
     "text": [
      "\n",
      "\r",
      "0it [00:00, ?it/s]"
     ]
    },
    {
     "name": "stdout",
     "output_type": "stream",
     "text": [
      "\r",
      "Upgrading database; v5 -> v6: : 0it [00:00, ?it/s]"
     ]
    },
    {
     "name": "stdout",
     "output_type": "stream",
     "text": [
      "\r",
      "Upgrading database; v5 -> v6: : 0it [00:00, ?it/s]"
     ]
    },
    {
     "name": "stdout",
     "output_type": "stream",
     "text": [
      "\n",
      "\r",
      "  0%|          | 0/1 [00:00<?, ?it/s]"
     ]
    },
    {
     "name": "stdout",
     "output_type": "stream",
     "text": [
      "\r",
      "Upgrading database; v6 -> v7:   0%|          | 0/1 [00:00<?, ?it/s]"
     ]
    },
    {
     "name": "stdout",
     "output_type": "stream",
     "text": [
      "\r",
      "Upgrading database; v6 -> v7: 100%|██████████| 1/1 [00:00<00:00, 422.94it/s]"
     ]
    },
    {
     "name": "stdout",
     "output_type": "stream",
     "text": [
      "\n",
      "\r",
      "  0%|          | 0/1 [00:00<?, ?it/s]"
     ]
    },
    {
     "name": "stdout",
     "output_type": "stream",
     "text": [
      "\r",
      "Upgrading database; v7 -> v8:   0%|          | 0/1 [00:00<?, ?it/s]"
     ]
    },
    {
     "name": "stdout",
     "output_type": "stream",
     "text": [
      "\r",
      "Upgrading database; v7 -> v8: 100%|██████████| 1/1 [00:00<00:00, 471.80it/s]"
     ]
    },
    {
     "name": "stdout",
     "output_type": "stream",
     "text": [
      "\n",
      "\r",
      "  0%|          | 0/1 [00:00<?, ?it/s]"
     ]
    },
    {
     "name": "stdout",
     "output_type": "stream",
     "text": [
      "\r",
      "Upgrading database; v8 -> v9:   0%|          | 0/1 [00:00<?, ?it/s]"
     ]
    },
    {
     "name": "stdout",
     "output_type": "stream",
     "text": [
      "\r",
      "Upgrading database; v8 -> v9: 100%|██████████| 1/1 [00:00<00:00, 1339.18it/s]"
     ]
    },
    {
     "name": "stdout",
     "output_type": "stream",
     "text": [
      "\n"
     ]
    }
   ],
   "source": [
    "initialise_database()\n",
    "exp = load_or_create_experiment(experiment_name='tutorial_exp', sample_name=\"no sample\")"
   ]
  },
  {
   "cell_type": "markdown",
   "metadata": {},
   "source": [
    "Here, we define a simple function to benchmark the time it takes to insert n points with either numeric or array data type.\n",
    "We will compare both the time used to call ``add_result`` and the time used for the full measurement."
   ]
  },
  {
   "cell_type": "code",
   "execution_count": 4,
   "metadata": {
    "execution": {
     "iopub.execute_input": "2020-10-05T08:18:26.151952Z",
     "iopub.status.busy": "2020-10-05T08:18:26.150417Z",
     "iopub.status.idle": "2020-10-05T08:18:26.153648Z",
     "shell.execute_reply": "2020-10-05T08:18:26.154030Z"
    }
   },
   "outputs": [],
   "source": [
    "def insert_data(paramtype, npoints, nreps=1):\n",
    "\n",
    "    meas = Measurement(exp=exp)\n",
    "\n",
    "    x1 = ManualParameter('x1')\n",
    "    x2 = ManualParameter('x2')\n",
    "    x3 = ManualParameter('x3')\n",
    "    y1 = ManualParameter('y1')\n",
    "    y2 = ManualParameter('y2')\n",
    "\n",
    "    meas.register_parameter(x1, paramtype=paramtype)\n",
    "    meas.register_parameter(x2, paramtype=paramtype)\n",
    "    meas.register_parameter(x3, paramtype=paramtype)\n",
    "    meas.register_parameter(y1, setpoints=[x1, x2, x3],\n",
    "                            paramtype=paramtype)\n",
    "    meas.register_parameter(y2, setpoints=[x1, x2, x3],\n",
    "                            paramtype=paramtype)\n",
    "    start = time.perf_counter()\n",
    "    with meas.run() as datasaver:\n",
    "        start_adding = time.perf_counter()\n",
    "        for i in range(nreps):\n",
    "            datasaver.add_result((x1, np.random.rand(npoints)),\n",
    "                                 (x2, np.random.rand(npoints)),\n",
    "                                 (x3, np.random.rand(npoints)),\n",
    "                                 (y1, np.random.rand(npoints)),\n",
    "                                 (y2, np.random.rand(npoints)))\n",
    "        stop_adding = time.perf_counter()\n",
    "        run_id = datasaver.run_id\n",
    "    stop = time.perf_counter()\n",
    "    tot_time = stop - start\n",
    "    add_time = stop_adding - start_adding\n",
    "    return tot_time, add_time, run_id"
   ]
  },
  {
   "cell_type": "markdown",
   "metadata": {},
   "source": [
    "## Comparison between numeric/array data and binary blob"
   ]
  },
  {
   "cell_type": "markdown",
   "metadata": {},
   "source": [
    "### Case1: Short experiment time"
   ]
  },
  {
   "cell_type": "code",
   "execution_count": 5,
   "metadata": {
    "execution": {
     "iopub.execute_input": "2020-10-05T08:18:26.159844Z",
     "iopub.status.busy": "2020-10-05T08:18:26.158697Z",
     "iopub.status.idle": "2020-10-05T08:18:26.828642Z",
     "shell.execute_reply": "2020-10-05T08:18:26.828090Z"
    }
   },
   "outputs": [
    {
     "name": "stdout",
     "output_type": "stream",
     "text": [
      "Starting experimental run with id: 1. \n",
      "Starting experimental run with id: 2. \n",
      "Starting experimental run with id: 3. \n",
      "Starting experimental run with id: 4. \n",
      "Starting experimental run with id: 5. \n",
      "Starting experimental run with id: 6. \n"
     ]
    },
    {
     "name": "stdout",
     "output_type": "stream",
     "text": [
      "Starting experimental run with id: 7. \n"
     ]
    },
    {
     "name": "stdout",
     "output_type": "stream",
     "text": [
      "Starting experimental run with id: 8. \n"
     ]
    },
    {
     "name": "stdout",
     "output_type": "stream",
     "text": [
      "Starting experimental run with id: 9. \n",
      "Starting experimental run with id: 10. \n",
      "Starting experimental run with id: 11. \n"
     ]
    },
    {
     "name": "stdout",
     "output_type": "stream",
     "text": [
      "Starting experimental run with id: 12. \n",
      "Starting experimental run with id: 13. \n"
     ]
    },
    {
     "name": "stdout",
     "output_type": "stream",
     "text": [
      "Starting experimental run with id: 14. \n"
     ]
    }
   ],
   "source": [
    "sizes = [1,500,1000,2000,3000,4000,5000]\n",
    "t_numeric = []\n",
    "t_numeric_add = []\n",
    "t_array = []\n",
    "t_array_add = []\n",
    "for size in sizes:\n",
    "    tn, tna, run_id_n =  insert_data('numeric', size)\n",
    "    t_numeric.append(tn)\n",
    "    t_numeric_add.append(tna)\n",
    "\n",
    "    ta, taa, run_id_a =  insert_data('array', size)\n",
    "    t_array.append(ta)\n",
    "    t_array_add.append(taa)"
   ]
  },
  {
   "cell_type": "code",
   "execution_count": 6,
   "metadata": {
    "execution": {
     "iopub.execute_input": "2020-10-05T08:18:26.833616Z",
     "iopub.status.busy": "2020-10-05T08:18:26.833218Z",
     "iopub.status.idle": "2020-10-05T08:18:26.999843Z",
     "shell.execute_reply": "2020-10-05T08:18:27.000755Z"
    }
   },
   "outputs": [
    {
     "data": {
      "image/png": "[encoded data removed]",
      "text/plain": [
       "<Figure size 432x288 with 1 Axes>"
      ]
     },
     "metadata": {
      "needs_background": "light"
     },
     "output_type": "display_data"
    }
   ],
   "source": [
    "fig, ax = plt.subplots(1,1)\n",
    "ax.plot(sizes, t_numeric, 'o-', label='Inserting row-by-row')\n",
    "ax.plot(sizes, t_numeric_add, 'o-', label='Inserting row-by-row: add_result only')\n",
    "ax.plot(sizes, t_array, 'd-', label='Inserting as binary blob')\n",
    "ax.plot(sizes, t_array_add, 'd-', label='Inserting as binary blob: add_result only')\n",
    "ax.legend()\n",
    "ax.set_xlabel('Array length')\n",
    "ax.set_ylabel('Time (s)')\n",
    "fig.tight_layout()"
   ]
  },
  {
   "cell_type": "markdown",
   "metadata": {},
   "source": [
    "As shown in the latter figure, the time to setup and and close the experiment is approximately 0.4 sec. In case of small array sizes, the difference between inserting values of data as arrays and inserting them row-by-row is relatively unimportant. At larger array sizes, i.e. above 10000 points, the cost of writing data as individual datapoints starts to become important.\n"
   ]
  },
  {
   "cell_type": "markdown",
   "metadata": {},
   "source": [
    "### Case2: Long experiment time "
   ]
  },
  {
   "cell_type": "code",
   "execution_count": 7,
   "metadata": {
    "execution": {
     "iopub.execute_input": "2020-10-05T08:18:27.008105Z",
     "iopub.status.busy": "2020-10-05T08:18:27.007522Z",
     "iopub.status.idle": "2020-10-05T08:19:15.916031Z",
     "shell.execute_reply": "2020-10-05T08:19:15.916817Z"
    }
   },
   "outputs": [
    {
     "name": "stdout",
     "output_type": "stream",
     "text": [
      "Starting experimental run with id: 15. \n",
      "Starting experimental run with id: 16. \n",
      "Starting experimental run with id: 17. \n"
     ]
    },
    {
     "name": "stdout",
     "output_type": "stream",
     "text": [
      "Starting experimental run with id: 18. \n",
      "Starting experimental run with id: 19. \n"
     ]
    },
    {
     "name": "stdout",
     "output_type": "stream",
     "text": [
      "Starting experimental run with id: 20. \n"
     ]
    },
    {
     "name": "stdout",
     "output_type": "stream",
     "text": [
      "Starting experimental run with id: 21. \n"
     ]
    },
    {
     "name": "stdout",
     "output_type": "stream",
     "text": [
      "Starting experimental run with id: 22. \n"
     ]
    },
    {
     "name": "stdout",
     "output_type": "stream",
     "text": [
      "Starting experimental run with id: 23. \n"
     ]
    },
    {
     "name": "stdout",
     "output_type": "stream",
     "text": [
      "Starting experimental run with id: 24. \n"
     ]
    },
    {
     "name": "stdout",
     "output_type": "stream",
     "text": [
      "Starting experimental run with id: 25. \n"
     ]
    },
    {
     "name": "stdout",
     "output_type": "stream",
     "text": [
      "Starting experimental run with id: 26. \n"
     ]
    },
    {
     "name": "stdout",
     "output_type": "stream",
     "text": [
      "Starting experimental run with id: 27. \n"
     ]
    },
    {
     "name": "stdout",
     "output_type": "stream",
     "text": [
      "Starting experimental run with id: 28. \n"
     ]
    }
   ],
   "source": [
    "sizes = [1,500,1000,2000,3000,4000,5000]\n",
    "nreps = 100\n",
    "t_numeric = []\n",
    "t_numeric_add = []\n",
    "t_numeric_run_ids = []\n",
    "t_array = []\n",
    "t_array_add = []\n",
    "t_array_run_ids = []\n",
    "for size in sizes:\n",
    "    tn, tna, run_id_n =  insert_data('numeric', size, nreps=nreps)\n",
    "    t_numeric.append(tn)\n",
    "    t_numeric_add.append(tna)\n",
    "    t_numeric_run_ids.append(run_id_n)\n",
    "\n",
    "    ta, taa, run_id_a =  insert_data('array', size, nreps=nreps)\n",
    "    t_array.append(ta)\n",
    "    t_array_add.append(taa)\n",
    "    t_array_run_ids.append(run_id_a)"
   ]
  },
  {
   "cell_type": "code",
   "execution_count": 8,
   "metadata": {
    "execution": {
     "iopub.execute_input": "2020-10-05T08:19:15.937953Z",
     "iopub.status.busy": "2020-10-05T08:19:15.935009Z",
     "iopub.status.idle": "2020-10-05T08:19:16.079453Z",
     "shell.execute_reply": "2020-10-05T08:19:16.078658Z"
    },
    "scrolled": true
   },
   "outputs": [
    {
     "data": {
      "image/png": "[encoded data removed]",
      "text/plain": [
       "<Figure size 432x288 with 1 Axes>"
      ]
     },
     "metadata": {
      "needs_background": "light"
     },
     "output_type": "display_data"
    }
   ],
   "source": [
    "fig, ax = plt.subplots(1,1)\n",
    "ax.plot(sizes, t_numeric, 'o-', label='Inserting row-by-row')\n",
    "ax.plot(sizes, t_numeric_add, 'o-', label='Inserting row-by-row: add_result only')\n",
    "ax.plot(sizes, t_array, 'd-', label='Inserting as binary blob')\n",
    "ax.plot(sizes, t_array_add, 'd-', label='Inserting as binary blob: add_result only')\n",
    "ax.legend()\n",
    "ax.set_xlabel('Array length')\n",
    "ax.set_ylabel('Time (s)')\n",
    "fig.tight_layout()"
   ]
  },
  {
   "cell_type": "markdown",
   "metadata": {},
   "source": [
    "However, as we increase the length of the experiment, as seen here by repeating the insertion 100 times, we see a big difference between inserting values of the data row-by-row and inserting it as a binary blob."
   ]
  },
  {
   "cell_type": "markdown",
   "metadata": {},
   "source": [
    "## Loading the data "
   ]
  },
  {
   "cell_type": "code",
   "execution_count": 9,
   "metadata": {
    "execution": {
     "iopub.execute_input": "2020-10-05T08:19:16.083240Z",
     "iopub.status.busy": "2020-10-05T08:19:16.082470Z",
     "iopub.status.idle": "2020-10-05T08:19:16.084522Z",
     "shell.execute_reply": "2020-10-05T08:19:16.084891Z"
    }
   },
   "outputs": [],
   "source": [
    "from qcodes.dataset.data_set import load_by_id\n",
    "from qcodes.dataset.data_export import get_data_by_id"
   ]
  },
  {
   "cell_type": "markdown",
   "metadata": {},
   "source": [
    "As usual you can load the data by using the ``load_by_id`` function but you will notice that the different storage methods\n",
    "are reflected in shape of the data as it is retrieved. "
   ]
  },
  {
   "cell_type": "code",
   "execution_count": 10,
   "metadata": {
    "execution": {
     "iopub.execute_input": "2020-10-05T08:19:16.088008Z",
     "iopub.status.busy": "2020-10-05T08:19:16.087291Z",
     "iopub.status.idle": "2020-10-05T08:19:16.089173Z",
     "shell.execute_reply": "2020-10-05T08:19:16.088730Z"
    }
   },
   "outputs": [],
   "source": [
    "run_id_n = t_numeric_run_ids[0]\n",
    "run_id_a = t_array_run_ids[0]"
   ]
  },
  {
   "cell_type": "code",
   "execution_count": 11,
   "metadata": {
    "execution": {
     "iopub.execute_input": "2020-10-05T08:19:16.091808Z",
     "iopub.status.busy": "2020-10-05T08:19:16.091222Z",
     "iopub.status.idle": "2020-10-05T08:19:16.098647Z",
     "shell.execute_reply": "2020-10-05T08:19:16.098254Z"
    },
    "scrolled": true
   },
   "outputs": [
    {
     "data": {
      "text/plain": [
       "{'x1': {'x1': array([0.1838376 , 0.1838376 , 0.68750936, 0.68750936, 0.44294542,\n",
       "         0.44294542, 0.31855644, 0.31855644, 0.3638151 , 0.3638151 ,\n",
       "         0.25013866, 0.25013866, 0.48679558, 0.48679558, 0.24858508,\n",
       "         0.24858508, 0.0442448 , 0.0442448 , 0.92413574, 0.92413574,\n",
       "         0.05895389, 0.05895389, 0.22104335, 0.22104335, 0.96359472,\n",
       "         0.96359472, 0.04716797, 0.04716797, 0.44503964, 0.44503964,\n",
       "         0.28493354, 0.28493354, 0.85270286, 0.85270286, 0.98954285,\n",
       "         0.98954285, 0.32631908, 0.32631908, 0.6492534 , 0.6492534 ,\n",
       "         0.42977631, 0.42977631, 0.82493005, 0.82493005, 0.77051105,\n",
       "         0.77051105, 0.83117389, 0.83117389, 0.41982751, 0.41982751,\n",
       "         0.59567224, 0.59567224, 0.93563694, 0.93563694, 0.27748635,\n",
       "         0.27748635, 0.76475542, 0.76475542, 0.40353587, 0.40353587,\n",
       "         0.81617732, 0.81617732, 0.98672532, 0.98672532, 0.6717409 ,\n",
       "         0.6717409 , 0.20510518, 0.20510518, 0.15158481, 0.15158481,\n",
       "         0.82596932, 0.82596932, 0.83129415, 0.83129415, 0.46009715,\n",
       "         0.46009715, 0.04044455, 0.04044455, 0.67625305, 0.67625305,\n",
       "         0.23429848, 0.23429848, 0.29225037, 0.29225037, 0.31110908,\n",
       "         0.31110908, 0.76277078, 0.76277078, 0.35264271, 0.35264271,\n",
       "         0.86336347, 0.86336347, 0.4230229 , 0.4230229 , 0.96102603,\n",
       "         0.96102603, 0.42121799, 0.42121799, 0.61196342, 0.61196342,\n",
       "         0.50375924, 0.50375924, 0.1513175 , 0.1513175 , 0.05514302,\n",
       "         0.05514302, 0.35163691, 0.35163691, 0.82076572, 0.82076572,\n",
       "         0.28927792, 0.28927792, 0.17848464, 0.17848464, 0.32470856,\n",
       "         0.32470856, 0.8885619 , 0.8885619 , 0.91962753, 0.91962753,\n",
       "         0.89342834, 0.89342834, 0.17520738, 0.17520738, 0.73852396,\n",
       "         0.73852396, 0.2933913 , 0.2933913 , 0.89524836, 0.89524836,\n",
       "         0.80590726, 0.80590726, 0.9305204 , 0.9305204 , 0.58227049,\n",
       "         0.58227049, 0.98354152, 0.98354152, 0.81807786, 0.81807786,\n",
       "         0.37608037, 0.37608037, 0.6855106 , 0.6855106 , 0.62379272,\n",
       "         0.62379272, 0.7045224 , 0.7045224 , 0.02767948, 0.02767948,\n",
       "         0.47612465, 0.47612465, 0.43631584, 0.43631584, 0.21674348,\n",
       "         0.21674348, 0.09864366, 0.09864366, 0.9924912 , 0.9924912 ,\n",
       "         0.53473116, 0.53473116, 0.65721627, 0.65721627, 0.04282129,\n",
       "         0.04282129, 0.47657649, 0.47657649, 0.73378442, 0.73378442,\n",
       "         0.53007691, 0.53007691, 0.59667544, 0.59667544, 0.83236892,\n",
       "         0.83236892, 0.80848996, 0.80848996, 0.81692869, 0.81692869,\n",
       "         0.28813863, 0.28813863, 0.31536326, 0.31536326, 0.73378004,\n",
       "         0.73378004, 0.37901526, 0.37901526, 0.13783716, 0.13783716,\n",
       "         0.82727177, 0.82727177, 0.86312659, 0.86312659, 0.20084016,\n",
       "         0.20084016, 0.46342071, 0.46342071, 0.7453401 , 0.7453401 ])}}"
      ]
     },
     "execution_count": 1,
     "metadata": {},
     "output_type": "execute_result"
    }
   ],
   "source": [
    "ds = load_by_id(run_id_n)\n",
    "ds.get_parameter_data('x1')"
   ]
  },
  {
   "cell_type": "markdown",
   "metadata": {},
   "source": [
    "And a dataset stored as binary arrays"
   ]
  },
  {
   "cell_type": "code",
   "execution_count": 12,
   "metadata": {
    "execution": {
     "iopub.execute_input": "2020-10-05T08:19:16.101088Z",
     "iopub.status.busy": "2020-10-05T08:19:16.100664Z",
     "iopub.status.idle": "2020-10-05T08:19:16.147782Z",
     "shell.execute_reply": "2020-10-05T08:19:16.148629Z"
    },
    "scrolled": true
   },
   "outputs": [
    {
     "data": {
      "text/plain": [
       "{'x1': {'x1': array([[0.60356117],\n",
       "         [0.60356117],\n",
       "         [0.82523947],\n",
       "         [0.82523947],\n",
       "         [0.66048369],\n",
       "         [0.66048369],\n",
       "         [0.98012337],\n",
       "         [0.98012337],\n",
       "         [0.14719999],\n",
       "         [0.14719999],\n",
       "         [0.18467493],\n",
       "         [0.18467493],\n",
       "         [0.8570534 ],\n",
       "         [0.8570534 ],\n",
       "         [0.75432913],\n",
       "         [0.75432913],\n",
       "         [0.50329413],\n",
       "         [0.50329413],\n",
       "         [0.94359875],\n",
       "         [0.94359875],\n",
       "         [0.99393316],\n",
       "         [0.99393316],\n",
       "         [0.32007032],\n",
       "         [0.32007032],\n",
       "         [0.33389708],\n",
       "         [0.33389708],\n",
       "         [0.60602854],\n",
       "         [0.60602854],\n",
       "         [0.56954873],\n",
       "         [0.56954873],\n",
       "         [0.58424193],\n",
       "         [0.58424193],\n",
       "         [0.87795835],\n",
       "         [0.87795835],\n",
       "         [0.93336782],\n",
       "         [0.93336782],\n",
       "         [0.02228631],\n",
       "         [0.02228631],\n",
       "         [0.31692563],\n",
       "         [0.31692563],\n",
       "         [0.10582978],\n",
       "         [0.10582978],\n",
       "         [0.98987406],\n",
       "         [0.98987406],\n",
       "         [0.64000696],\n",
       "         [0.64000696],\n",
       "         [0.10560902],\n",
       "         [0.10560902],\n",
       "         [0.59188201],\n",
       "         [0.59188201],\n",
       "         [0.74034484],\n",
       "         [0.74034484],\n",
       "         [0.6058784 ],\n",
       "         [0.6058784 ],\n",
       "         [0.93494568],\n",
       "         [0.93494568],\n",
       "         [0.50532611],\n",
       "         [0.50532611],\n",
       "         [0.02952817],\n",
       "         [0.02952817],\n",
       "         [0.95120729],\n",
       "         [0.95120729],\n",
       "         [0.24907012],\n",
       "         [0.24907012],\n",
       "         [0.92982841],\n",
       "         [0.92982841],\n",
       "         [0.89505155],\n",
       "         [0.89505155],\n",
       "         [0.68681785],\n",
       "         [0.68681785],\n",
       "         [0.45490421],\n",
       "         [0.45490421],\n",
       "         [0.5395509 ],\n",
       "         [0.5395509 ],\n",
       "         [0.68377371],\n",
       "         [0.68377371],\n",
       "         [0.35151907],\n",
       "         [0.35151907],\n",
       "         [0.32349722],\n",
       "         [0.32349722],\n",
       "         [0.92002163],\n",
       "         [0.92002163],\n",
       "         [0.82392246],\n",
       "         [0.82392246],\n",
       "         [0.51558366],\n",
       "         [0.51558366],\n",
       "         [0.19087786],\n",
       "         [0.19087786],\n",
       "         [0.44579566],\n",
       "         [0.44579566],\n",
       "         [0.74221758],\n",
       "         [0.74221758],\n",
       "         [0.1311789 ],\n",
       "         [0.1311789 ],\n",
       "         [0.61945235],\n",
       "         [0.61945235],\n",
       "         [0.19648031],\n",
       "         [0.19648031],\n",
       "         [0.96598074],\n",
       "         [0.96598074],\n",
       "         [0.86911456],\n",
       "         [0.86911456],\n",
       "         [0.99559647],\n",
       "         [0.99559647],\n",
       "         [0.49242754],\n",
       "         [0.49242754],\n",
       "         [0.91939343],\n",
       "         [0.91939343],\n",
       "         [0.12519524],\n",
       "         [0.12519524],\n",
       "         [0.31130716],\n",
       "         [0.31130716],\n",
       "         [0.15094803],\n",
       "         [0.15094803],\n",
       "         [0.22970452],\n",
       "         [0.22970452],\n",
       "         [0.00935683],\n",
       "         [0.00935683],\n",
       "         [0.51053912],\n",
       "         [0.51053912],\n",
       "         [0.42026095],\n",
       "         [0.42026095],\n",
       "         [0.0502597 ],\n",
       "         [0.0502597 ],\n",
       "         [0.24225813],\n",
       "         [0.24225813],\n",
       "         [0.67551797],\n",
       "         [0.67551797],\n",
       "         [0.15595431],\n",
       "         [0.15595431],\n",
       "         [0.91526642],\n",
       "         [0.91526642],\n",
       "         [0.30344848],\n",
       "         [0.30344848],\n",
       "         [0.05621908],\n",
       "         [0.05621908],\n",
       "         [0.0503674 ],\n",
       "         [0.0503674 ],\n",
       "         [0.60310964],\n",
       "         [0.60310964],\n",
       "         [0.91235379],\n",
       "         [0.91235379],\n",
       "         [0.27369593],\n",
       "         [0.27369593],\n",
       "         [0.51379908],\n",
       "         [0.51379908],\n",
       "         [0.84550692],\n",
       "         [0.84550692],\n",
       "         [0.02220796],\n",
       "         [0.02220796],\n",
       "         [0.4558829 ],\n",
       "         [0.4558829 ],\n",
       "         [0.66426176],\n",
       "         [0.66426176],\n",
       "         [0.99869083],\n",
       "         [0.99869083],\n",
       "         [0.60360824],\n",
       "         [0.60360824],\n",
       "         [0.16525671],\n",
       "         [0.16525671],\n",
       "         [0.20468265],\n",
       "         [0.20468265],\n",
       "         [0.21327714],\n",
       "         [0.21327714],\n",
       "         [0.05650498],\n",
       "         [0.05650498],\n",
       "         [0.36374615],\n",
       "         [0.36374615],\n",
       "         [0.65664581],\n",
       "         [0.65664581],\n",
       "         [0.43595973],\n",
       "         [0.43595973],\n",
       "         [0.89289195],\n",
       "         [0.89289195],\n",
       "         [0.37568476],\n",
       "         [0.37568476],\n",
       "         [0.26620944],\n",
       "         [0.26620944],\n",
       "         [0.23138564],\n",
       "         [0.23138564],\n",
       "         [0.63285238],\n",
       "         [0.63285238],\n",
       "         [0.05503925],\n",
       "         [0.05503925],\n",
       "         [0.52125232],\n",
       "         [0.52125232],\n",
       "         [0.83574406],\n",
       "         [0.83574406],\n",
       "         [0.33976969],\n",
       "         [0.33976969],\n",
       "         [0.67623903],\n",
       "         [0.67623903],\n",
       "         [0.0639431 ],\n",
       "         [0.0639431 ],\n",
       "         [0.63045536],\n",
       "         [0.63045536],\n",
       "         [0.70855403],\n",
       "         [0.70855403],\n",
       "         [0.16189046],\n",
       "         [0.16189046]])}}"
      ]
     },
     "execution_count": 1,
     "metadata": {},
     "output_type": "execute_result"
    }
   ],
   "source": [
    "ds = load_by_id(run_id_a)\n",
    "ds.get_parameter_data('x1')"
   ]
  },
  {
   "cell_type": "code",
   "execution_count": null,
   "metadata": {},
   "outputs": [],
   "source": []
  }
 ],
 "metadata": {
  "kernelspec": {
   "display_name": "Python 3",
   "language": "python",
   "name": "python3"
  },
  "language_info": {
   "codemirror_mode": {
    "name": "ipython",
    "version": 3
   },
   "file_extension": ".py",
   "mimetype": "text/x-python",
   "name": "python",
   "nbconvert_exporter": "python",
   "pygments_lexer": "ipython3",
   "version": "3.7.7"
  },
  "nbsphinx": {
   "timeout": 600
  },
  "toc": {
   "base_numbering": 1,
   "nav_menu": {},
   "number_sections": true,
   "sideBar": true,
   "skip_h1_title": false,
   "title_cell": "Table of Contents",
   "title_sidebar": "Contents",
   "toc_cell": false,
   "toc_position": {},
   "toc_section_display": true,
   "toc_window_display": false
  },
  "varInspector": {
   "cols": {
    "lenName": 16,
    "lenType": 16,
    "lenVar": 40
   },
   "kernels_config": {
    "python": {
     "delete_cmd_postfix": "",
     "delete_cmd_prefix": "del ",
     "library": "var_list.py",
     "varRefreshCmd": "print(var_dic_list())"
    },
    "r": {
     "delete_cmd_postfix": ") ",
     "delete_cmd_prefix": "rm(",
     "library": "var_list.r",
     "varRefreshCmd": "cat(var_dic_list()) "
    }
   },
   "types_to_exclude": [
    "module",
    "function",
    "builtin_function_or_method",
    "instance",
    "_Feature"
   ],
   "window_display": false
  }
 },
 "nbformat": 4,
 "nbformat_minor": 2
}
