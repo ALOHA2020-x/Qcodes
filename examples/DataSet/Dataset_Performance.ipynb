{
 "cells": [
  {
   "cell_type": "markdown",
   "metadata": {},
   "source": [
    "# DataSet Performance\n",
    "\n",
    "This notebook shows the trade-off between inserting data into a database row-by-row and as binary blobs. Inserting the data row-by-row means that we have direct access to all the data and may perform queries directly on the values of the data. On the other hand, as we shall see, this is much slower than inserting the data directly as binary blobs."
   ]
  },
  {
   "cell_type": "markdown",
   "metadata": {},
   "source": [
    "First, we choose a new location for the database to ensure that we don't add a bunch of benchmarking data to the default one."
   ]
  },
  {
   "cell_type": "code",
   "execution_count": 1,
   "metadata": {},
   "outputs": [
    {
     "name": "stdout",
     "output_type": "stream",
     "text": [
      "Logging hadn't been started.\n",
      "Activating auto-logging. Current session state plus future input saved.\n",
      "Filename       : /home/vsts/.qcodes/logs/command_history.log\n",
      "Mode           : append\n",
      "Output logging : True\n",
      "Raw input log  : False\n",
      "Timestamping   : True\n",
      "State          : active\n"
     ]
    },
    {
     "name": "stdout",
     "output_type": "stream",
     "text": [
      "Qcodes Logfile : /home/vsts/.qcodes/logs/200414-18390-qcodes.log\n"
     ]
    }
   ],
   "source": [
    "import os\n",
    "cwd = os.getcwd()\n",
    "import qcodes as qc\n",
    "qc.config[\"core\"][\"db_location\"] = os.path.join(cwd, 'testing.db')\n"
   ]
  },
  {
   "cell_type": "code",
   "execution_count": 2,
   "metadata": {},
   "outputs": [],
   "source": [
    "%matplotlib inline\n",
    "import time\n",
    "import matplotlib.pyplot as plt\n",
    "import numpy as np\n",
    "\n",
    "import qcodes as qc\n",
    "from qcodes.instrument.parameter import ManualParameter\n",
    "from qcodes.dataset.experiment_container import (Experiment,\n",
    "                                                 load_last_experiment,\n",
    "                                                 new_experiment)\n",
    "from qcodes.dataset.sqlite.database import initialise_database\n",
    "from qcodes import load_or_create_experiment\n",
    "from qcodes.dataset.measurements import Measurement"
   ]
  },
  {
   "cell_type": "code",
   "execution_count": 3,
   "metadata": {},
   "outputs": [
    {
     "name": "stdout",
     "output_type": "stream",
     "text": [
      "\r",
      "0it [00:00, ?it/s]"
     ]
    },
    {
     "name": "stdout",
     "output_type": "stream",
     "text": [
      "\r",
      "Upgrading database; v0 -> v1: : 0it [00:00, ?it/s]"
     ]
    },
    {
     "name": "stdout",
     "output_type": "stream",
     "text": [
      "\r",
      "Upgrading database; v0 -> v1: : 0it [00:00, ?it/s]"
     ]
    },
    {
     "name": "stdout",
     "output_type": "stream",
     "text": [
      "\n",
      "\r",
      "  0%|          | 0/1 [00:00<?, ?it/s]"
     ]
    },
    {
     "name": "stdout",
     "output_type": "stream",
     "text": [
      "\r",
      "Upgrading database; v1 -> v2:   0%|          | 0/1 [00:00<?, ?it/s]"
     ]
    },
    {
     "name": "stdout",
     "output_type": "stream",
     "text": [
      "\r",
      "Upgrading database; v1 -> v2: 100%|██████████| 1/1 [00:00<00:00, 848.02it/s]"
     ]
    },
    {
     "name": "stdout",
     "output_type": "stream",
     "text": [
      "\n",
      "\r",
      "0it [00:00, ?it/s]"
     ]
    },
    {
     "name": "stdout",
     "output_type": "stream",
     "text": [
      "\r",
      "Upgrading database; v2 -> v3: : 0it [00:00, ?it/s]"
     ]
    },
    {
     "name": "stdout",
     "output_type": "stream",
     "text": [
      "\r",
      "Upgrading database; v2 -> v3: : 0it [00:00, ?it/s]"
     ]
    },
    {
     "name": "stdout",
     "output_type": "stream",
     "text": [
      "\n",
      "\r",
      "0it [00:00, ?it/s]"
     ]
    },
    {
     "name": "stdout",
     "output_type": "stream",
     "text": [
      "\r",
      "Upgrading database; v3 -> v4: : 0it [00:00, ?it/s]"
     ]
    },
    {
     "name": "stdout",
     "output_type": "stream",
     "text": [
      "\r",
      "Upgrading database; v3 -> v4: : 0it [00:00, ?it/s]"
     ]
    },
    {
     "name": "stdout",
     "output_type": "stream",
     "text": [
      "\n",
      "\r",
      "  0%|          | 0/1 [00:00<?, ?it/s]"
     ]
    },
    {
     "name": "stdout",
     "output_type": "stream",
     "text": [
      "\r",
      "Upgrading database; v4 -> v5:   0%|          | 0/1 [00:00<?, ?it/s]"
     ]
    },
    {
     "name": "stdout",
     "output_type": "stream",
     "text": [
      "\r",
      "Upgrading database; v4 -> v5: 100%|██████████| 1/1 [00:00<00:00, 636.18it/s]"
     ]
    },
    {
     "name": "stdout",
     "output_type": "stream",
     "text": [
      "\n",
      "\r",
      "0it [00:00, ?it/s]"
     ]
    },
    {
     "name": "stdout",
     "output_type": "stream",
     "text": [
      "\r",
      "Upgrading database; v5 -> v6: : 0it [00:00, ?it/s]"
     ]
    },
    {
     "name": "stdout",
     "output_type": "stream",
     "text": [
      "\r",
      "Upgrading database; v5 -> v6: : 0it [00:00, ?it/s]"
     ]
    },
    {
     "name": "stdout",
     "output_type": "stream",
     "text": [
      "\n",
      "\r",
      "  0%|          | 0/1 [00:00<?, ?it/s]"
     ]
    },
    {
     "name": "stdout",
     "output_type": "stream",
     "text": [
      "\r",
      "Upgrading database; v6 -> v7:   0%|          | 0/1 [00:00<?, ?it/s]"
     ]
    },
    {
     "name": "stdout",
     "output_type": "stream",
     "text": [
      "\r",
      "Upgrading database; v6 -> v7: 100%|██████████| 1/1 [00:00<00:00, 397.26it/s]"
     ]
    },
    {
     "name": "stdout",
     "output_type": "stream",
     "text": [
      "\n",
      "\r",
      "  0%|          | 0/1 [00:00<?, ?it/s]"
     ]
    },
    {
     "name": "stdout",
     "output_type": "stream",
     "text": [
      "\r",
      "Upgrading database; v7 -> v8:   0%|          | 0/1 [00:00<?, ?it/s]"
     ]
    },
    {
     "name": "stdout",
     "output_type": "stream",
     "text": [
      "\r",
      "Upgrading database; v7 -> v8: 100%|██████████| 1/1 [00:00<00:00, 577.65it/s]"
     ]
    },
    {
     "name": "stdout",
     "output_type": "stream",
     "text": [
      "\n",
      "\r",
      "  0%|          | 0/1 [00:00<?, ?it/s]"
     ]
    },
    {
     "name": "stdout",
     "output_type": "stream",
     "text": [
      "\r",
      "Upgrading database; v8 -> v9:   0%|          | 0/1 [00:00<?, ?it/s]"
     ]
    },
    {
     "name": "stdout",
     "output_type": "stream",
     "text": [
      "\r",
      "Upgrading database; v8 -> v9: 100%|██████████| 1/1 [00:00<00:00, 899.68it/s]"
     ]
    },
    {
     "name": "stdout",
     "output_type": "stream",
     "text": [
      "\n"
     ]
    }
   ],
   "source": [
    "initialise_database()\n",
    "exp = load_or_create_experiment(experiment_name='tutorial_exp', sample_name=\"no sample\")"
   ]
  },
  {
   "cell_type": "markdown",
   "metadata": {},
   "source": [
    "Here, we define a simple function to benchmark the time it takes to insert n points with either numeric or array data type.\n",
    "We will compare both the time used to call ``add_result`` and the time used for the full measurement."
   ]
  },
  {
   "cell_type": "code",
   "execution_count": 4,
   "metadata": {},
   "outputs": [],
   "source": [
    "def insert_data(paramtype, npoints, nreps=1):\n",
    "\n",
    "    meas = Measurement(exp=exp)\n",
    "\n",
    "    x1 = ManualParameter('x1')\n",
    "    x2 = ManualParameter('x2')\n",
    "    x3 = ManualParameter('x3')\n",
    "    y1 = ManualParameter('y1')\n",
    "    y2 = ManualParameter('y2')\n",
    "\n",
    "    meas.register_parameter(x1, paramtype=paramtype)\n",
    "    meas.register_parameter(x2, paramtype=paramtype)\n",
    "    meas.register_parameter(x3, paramtype=paramtype)\n",
    "    meas.register_parameter(y1, setpoints=[x1, x2, x3],\n",
    "                            paramtype=paramtype)\n",
    "    meas.register_parameter(y2, setpoints=[x1, x2, x3],\n",
    "                            paramtype=paramtype)\n",
    "    start = time.perf_counter()\n",
    "    with meas.run() as datasaver:\n",
    "        start_adding = time.perf_counter()\n",
    "        for i in range(nreps):\n",
    "            datasaver.add_result((x1, np.random.rand(npoints)),\n",
    "                                 (x2, np.random.rand(npoints)),\n",
    "                                 (x3, np.random.rand(npoints)),\n",
    "                                 (y1, np.random.rand(npoints)),\n",
    "                                 (y2, np.random.rand(npoints)))\n",
    "        stop_adding = time.perf_counter()\n",
    "        run_id = datasaver.run_id\n",
    "    stop = time.perf_counter()\n",
    "    tot_time = stop - start\n",
    "    add_time = stop_adding - start_adding\n",
    "    return tot_time, add_time, run_id"
   ]
  },
  {
   "cell_type": "markdown",
   "metadata": {},
   "source": [
    "## Comparison between numeric/array data and binary blob"
   ]
  },
  {
   "cell_type": "markdown",
   "metadata": {},
   "source": [
    "### Case1: Short experiment time"
   ]
  },
  {
   "cell_type": "code",
   "execution_count": 5,
   "metadata": {},
   "outputs": [
    {
     "name": "stdout",
     "output_type": "stream",
     "text": [
      "Starting experimental run with id: 1. \n",
      "Starting experimental run with id: 2. \n",
      "Starting experimental run with id: 3. \n"
     ]
    },
    {
     "name": "stdout",
     "output_type": "stream",
     "text": [
      "Starting experimental run with id: 4. \n"
     ]
    },
    {
     "name": "stdout",
     "output_type": "stream",
     "text": [
      "Starting experimental run with id: 5. \n",
      "Starting experimental run with id: 6. \n"
     ]
    },
    {
     "name": "stdout",
     "output_type": "stream",
     "text": [
      "Starting experimental run with id: 7. \n"
     ]
    },
    {
     "name": "stdout",
     "output_type": "stream",
     "text": [
      "Starting experimental run with id: 8. \n",
      "Starting experimental run with id: 9. \n"
     ]
    },
    {
     "name": "stdout",
     "output_type": "stream",
     "text": [
      "Starting experimental run with id: 10. \n",
      "Starting experimental run with id: 11. \n"
     ]
    },
    {
     "name": "stdout",
     "output_type": "stream",
     "text": [
      "Starting experimental run with id: 12. \n"
     ]
    },
    {
     "name": "stdout",
     "output_type": "stream",
     "text": [
      "Starting experimental run with id: 13. \n"
     ]
    },
    {
     "name": "stdout",
     "output_type": "stream",
     "text": [
      "Starting experimental run with id: 14. \n"
     ]
    }
   ],
   "source": [
    "sizes = [1,500,1000,2000,3000,4000,5000]\n",
    "t_numeric = []\n",
    "t_numeric_add = []\n",
    "t_array = []\n",
    "t_array_add = []\n",
    "for size in sizes:\n",
    "    tn, tna, run_id_n =  insert_data('numeric', size)\n",
    "    t_numeric.append(tn)\n",
    "    t_numeric_add.append(tna)\n",
    "\n",
    "    ta, taa, run_id_a =  insert_data('array', size)\n",
    "    t_array.append(ta)\n",
    "    t_array_add.append(taa)"
   ]
  },
  {
   "cell_type": "code",
   "execution_count": 6,
   "metadata": {},
   "outputs": [
    {
     "data": {
      "image/png": "[encoded data removed]",
      "text/plain": [
       "<Figure size 432x288 with 1 Axes>"
      ]
     },
     "metadata": {
      "needs_background": "light"
     },
     "output_type": "display_data"
    }
   ],
   "source": [
    "fig, ax = plt.subplots(1,1)\n",
    "ax.plot(sizes, t_numeric, 'o-', label='Inserting row-by-row')\n",
    "ax.plot(sizes, t_numeric_add, 'o-', label='Inserting row-by-row: add_result only')\n",
    "ax.plot(sizes, t_array, 'd-', label='Inserting as binary blob')\n",
    "ax.plot(sizes, t_array_add, 'd-', label='Inserting as binary blob: add_result only')\n",
    "ax.legend()\n",
    "ax.set_xlabel('Array length')\n",
    "ax.set_ylabel('Time (s)')\n",
    "fig.tight_layout()"
   ]
  },
  {
   "cell_type": "markdown",
   "metadata": {},
   "source": [
    "As shown in the latter figure, the time to setup and and close the experiment is approximately 0.4 sec. In case of small array sizes, the difference between inserting values of data as arrays and inserting them row-by-row is relatively unimportant. At larger array sizes, i.e. above 10000 points, the cost of writing data as individual datapoints starts to become important.\n"
   ]
  },
  {
   "cell_type": "markdown",
   "metadata": {},
   "source": [
    "### Case2: Long experiment time "
   ]
  },
  {
   "cell_type": "code",
   "execution_count": 7,
   "metadata": {},
   "outputs": [
    {
     "name": "stdout",
     "output_type": "stream",
     "text": [
      "Starting experimental run with id: 15. \n",
      "Starting experimental run with id: 16. \n",
      "Starting experimental run with id: 17. \n"
     ]
    },
    {
     "name": "stdout",
     "output_type": "stream",
     "text": [
      "Starting experimental run with id: 18. \n",
      "Starting experimental run with id: 19. \n"
     ]
    },
    {
     "name": "stdout",
     "output_type": "stream",
     "text": [
      "Starting experimental run with id: 20. \n"
     ]
    },
    {
     "name": "stdout",
     "output_type": "stream",
     "text": [
      "Starting experimental run with id: 21. \n"
     ]
    },
    {
     "name": "stdout",
     "output_type": "stream",
     "text": [
      "Starting experimental run with id: 22. \n"
     ]
    },
    {
     "name": "stdout",
     "output_type": "stream",
     "text": [
      "Starting experimental run with id: 23. \n"
     ]
    },
    {
     "name": "stdout",
     "output_type": "stream",
     "text": [
      "Starting experimental run with id: 24. \n"
     ]
    },
    {
     "name": "stdout",
     "output_type": "stream",
     "text": [
      "Starting experimental run with id: 25. \n"
     ]
    },
    {
     "name": "stdout",
     "output_type": "stream",
     "text": [
      "Starting experimental run with id: 26. \n"
     ]
    },
    {
     "name": "stdout",
     "output_type": "stream",
     "text": [
      "Starting experimental run with id: 27. \n"
     ]
    },
    {
     "name": "stdout",
     "output_type": "stream",
     "text": [
      "Starting experimental run with id: 28. \n"
     ]
    }
   ],
   "source": [
    "sizes = [1,500,1000,2000,3000,4000,5000]\n",
    "nreps = 100\n",
    "t_numeric = []\n",
    "t_numeric_add = []\n",
    "t_numeric_run_ids = []\n",
    "t_array = []\n",
    "t_array_add = []\n",
    "t_array_run_ids = []\n",
    "for size in sizes:\n",
    "    tn, tna, run_id_n =  insert_data('numeric', size, nreps=nreps)\n",
    "    t_numeric.append(tn)\n",
    "    t_numeric_add.append(tna)\n",
    "    t_numeric_run_ids.append(run_id_n)\n",
    "\n",
    "    ta, taa, run_id_a =  insert_data('array', size, nreps=nreps)\n",
    "    t_array.append(ta)\n",
    "    t_array_add.append(taa)\n",
    "    t_array_run_ids.append(run_id_a)"
   ]
  },
  {
   "cell_type": "code",
   "execution_count": 8,
   "metadata": {
    "scrolled": true
   },
   "outputs": [
    {
     "data": {
      "image/png": "[encoded data removed]",
      "text/plain": [
       "<Figure size 432x288 with 1 Axes>"
      ]
     },
     "metadata": {
      "needs_background": "light"
     },
     "output_type": "display_data"
    }
   ],
   "source": [
    "fig, ax = plt.subplots(1,1)\n",
    "ax.plot(sizes, t_numeric, 'o-', label='Inserting row-by-row')\n",
    "ax.plot(sizes, t_numeric_add, 'o-', label='Inserting row-by-row: add_result only')\n",
    "ax.plot(sizes, t_array, 'd-', label='Inserting as binary blob')\n",
    "ax.plot(sizes, t_array_add, 'd-', label='Inserting as binary blob: add_result only')\n",
    "ax.legend()\n",
    "ax.set_xlabel('Array length')\n",
    "ax.set_ylabel('Time (s)')\n",
    "fig.tight_layout()"
   ]
  },
  {
   "cell_type": "markdown",
   "metadata": {},
   "source": [
    "However, as we increase the length of the experiment, as seen here by repeating the insertion 100 times, we see a big difference between inserting values of the data row-by-row and inserting it as a binary blob."
   ]
  },
  {
   "cell_type": "markdown",
   "metadata": {},
   "source": [
    "## Loading the data "
   ]
  },
  {
   "cell_type": "code",
   "execution_count": 9,
   "metadata": {},
   "outputs": [],
   "source": [
    "from qcodes.dataset.data_set import load_by_id\n",
    "from qcodes.dataset.data_export import get_data_by_id"
   ]
  },
  {
   "cell_type": "markdown",
   "metadata": {},
   "source": [
    "As usual you can load the data by using the ``load_by_id`` function but you will notice that the different storage methods\n",
    "are reflected in shape of the data as it is retrieved. "
   ]
  },
  {
   "cell_type": "code",
   "execution_count": 10,
   "metadata": {},
   "outputs": [],
   "source": [
    "run_id_n = t_numeric_run_ids[0]\n",
    "run_id_a = t_array_run_ids[0]"
   ]
  },
  {
   "cell_type": "code",
   "execution_count": 11,
   "metadata": {
    "scrolled": true
   },
   "outputs": [
    {
     "data": {
      "text/plain": [
       "{'x1': {'x1': array([0.67902073, 0.67902073, 0.73143181, 0.73143181, 0.80237816,\n",
       "         0.80237816, 0.1503294 , 0.1503294 , 0.11112024, 0.11112024,\n",
       "         0.4840749 , 0.4840749 , 0.4241392 , 0.4241392 , 0.24497953,\n",
       "         0.24497953, 0.18142161, 0.18142161, 0.8355742 , 0.8355742 ,\n",
       "         0.43012266, 0.43012266, 0.1417424 , 0.1417424 , 0.57071712,\n",
       "         0.57071712, 0.02446142, 0.02446142, 0.72466353, 0.72466353,\n",
       "         0.8528858 , 0.8528858 , 0.05563092, 0.05563092, 0.27409732,\n",
       "         0.27409732, 0.42530274, 0.42530274, 0.10257927, 0.10257927,\n",
       "         0.60081822, 0.60081822, 0.27316127, 0.27316127, 0.14602272,\n",
       "         0.14602272, 0.03353403, 0.03353403, 0.26451265, 0.26451265,\n",
       "         0.09436429, 0.09436429, 0.47196502, 0.47196502, 0.82113818,\n",
       "         0.82113818, 0.0616315 , 0.0616315 , 0.02383423, 0.02383423,\n",
       "         0.6914444 , 0.6914444 , 0.77394061, 0.77394061, 0.69488138,\n",
       "         0.69488138, 0.68810306, 0.68810306, 0.8924931 , 0.8924931 ,\n",
       "         0.381972  , 0.381972  , 0.99834843, 0.99834843, 0.53604285,\n",
       "         0.53604285, 0.41953721, 0.41953721, 0.75907372, 0.75907372,\n",
       "         0.61285654, 0.61285654, 0.38491378, 0.38491378, 0.12891975,\n",
       "         0.12891975, 0.03968808, 0.03968808, 0.47720114, 0.47720114,\n",
       "         0.36179923, 0.36179923, 0.50895224, 0.50895224, 0.3148492 ,\n",
       "         0.3148492 , 0.73486415, 0.73486415, 0.01795678, 0.01795678,\n",
       "         0.43458753, 0.43458753, 0.66096479, 0.66096479, 0.84526453,\n",
       "         0.84526453, 0.06161028, 0.06161028, 0.19573954, 0.19573954,\n",
       "         0.94946274, 0.94946274, 0.69433409, 0.69433409, 0.76280438,\n",
       "         0.76280438, 0.56174794, 0.56174794, 0.81864841, 0.81864841,\n",
       "         0.50674324, 0.50674324, 0.5732645 , 0.5732645 , 0.13986993,\n",
       "         0.13986993, 0.88394664, 0.88394664, 0.23497878, 0.23497878,\n",
       "         0.69666386, 0.69666386, 0.15520129, 0.15520129, 0.36631462,\n",
       "         0.36631462, 0.84106368, 0.84106368, 0.5529063 , 0.5529063 ,\n",
       "         0.5262801 , 0.5262801 , 0.74002393, 0.74002393, 0.95629954,\n",
       "         0.95629954, 0.59740952, 0.59740952, 0.00463004, 0.00463004,\n",
       "         0.19739372, 0.19739372, 0.53411167, 0.53411167, 0.67350838,\n",
       "         0.67350838, 0.70824944, 0.70824944, 0.78333033, 0.78333033,\n",
       "         0.96284045, 0.96284045, 0.07724978, 0.07724978, 0.10980887,\n",
       "         0.10980887, 0.80660423, 0.80660423, 0.88833193, 0.88833193,\n",
       "         0.3601936 , 0.3601936 , 0.29897862, 0.29897862, 0.32939537,\n",
       "         0.32939537, 0.15102539, 0.15102539, 0.66582868, 0.66582868,\n",
       "         0.30756428, 0.30756428, 0.68363907, 0.68363907, 0.56558312,\n",
       "         0.56558312, 0.83540538, 0.83540538, 0.98218155, 0.98218155,\n",
       "         0.57357866, 0.57357866, 0.31778809, 0.31778809, 0.54503391,\n",
       "         0.54503391, 0.69436115, 0.69436115, 0.97598186, 0.97598186])}}"
      ]
     },
     "execution_count": 11,
     "metadata": {},
     "output_type": "execute_result"
    }
   ],
   "source": [
    "ds = load_by_id(run_id_n)\n",
    "ds.get_parameter_data('x1')"
   ]
  },
  {
   "cell_type": "markdown",
   "metadata": {},
   "source": [
    "And a dataset stored as binary arrays"
   ]
  },
  {
   "cell_type": "code",
   "execution_count": 12,
   "metadata": {
    "scrolled": true
   },
   "outputs": [
    {
     "data": {
      "text/plain": [
       "{'x1': {'x1': array([[0.87262316],\n",
       "         [0.87262316],\n",
       "         [0.72507127],\n",
       "         [0.72507127],\n",
       "         [0.76861531],\n",
       "         [0.76861531],\n",
       "         [0.16468858],\n",
       "         [0.16468858],\n",
       "         [0.86755074],\n",
       "         [0.86755074],\n",
       "         [0.06414809],\n",
       "         [0.06414809],\n",
       "         [0.54123554],\n",
       "         [0.54123554],\n",
       "         [0.48931857],\n",
       "         [0.48931857],\n",
       "         [0.78677073],\n",
       "         [0.78677073],\n",
       "         [0.47150264],\n",
       "         [0.47150264],\n",
       "         [0.97038866],\n",
       "         [0.97038866],\n",
       "         [0.19356267],\n",
       "         [0.19356267],\n",
       "         [0.43812499],\n",
       "         [0.43812499],\n",
       "         [0.85746077],\n",
       "         [0.85746077],\n",
       "         [0.10550267],\n",
       "         [0.10550267],\n",
       "         [0.16234109],\n",
       "         [0.16234109],\n",
       "         [0.81453003],\n",
       "         [0.81453003],\n",
       "         [0.83201261],\n",
       "         [0.83201261],\n",
       "         [0.63361918],\n",
       "         [0.63361918],\n",
       "         [0.92699243],\n",
       "         [0.92699243],\n",
       "         [0.51218922],\n",
       "         [0.51218922],\n",
       "         [0.58405977],\n",
       "         [0.58405977],\n",
       "         [0.31142172],\n",
       "         [0.31142172],\n",
       "         [0.19253677],\n",
       "         [0.19253677],\n",
       "         [0.29339385],\n",
       "         [0.29339385],\n",
       "         [0.38431716],\n",
       "         [0.38431716],\n",
       "         [0.01629655],\n",
       "         [0.01629655],\n",
       "         [0.55129235],\n",
       "         [0.55129235],\n",
       "         [0.39022049],\n",
       "         [0.39022049],\n",
       "         [0.44986401],\n",
       "         [0.44986401],\n",
       "         [0.11756424],\n",
       "         [0.11756424],\n",
       "         [0.36381293],\n",
       "         [0.36381293],\n",
       "         [0.6757606 ],\n",
       "         [0.6757606 ],\n",
       "         [0.01711249],\n",
       "         [0.01711249],\n",
       "         [0.74997585],\n",
       "         [0.74997585],\n",
       "         [0.19912976],\n",
       "         [0.19912976],\n",
       "         [0.86983601],\n",
       "         [0.86983601],\n",
       "         [0.92282065],\n",
       "         [0.92282065],\n",
       "         [0.76730894],\n",
       "         [0.76730894],\n",
       "         [0.95925596],\n",
       "         [0.95925596],\n",
       "         [0.87022038],\n",
       "         [0.87022038],\n",
       "         [0.2182381 ],\n",
       "         [0.2182381 ],\n",
       "         [0.13860184],\n",
       "         [0.13860184],\n",
       "         [0.8166007 ],\n",
       "         [0.8166007 ],\n",
       "         [0.83736092],\n",
       "         [0.83736092],\n",
       "         [0.80777853],\n",
       "         [0.80777853],\n",
       "         [0.08764779],\n",
       "         [0.08764779],\n",
       "         [0.51229226],\n",
       "         [0.51229226],\n",
       "         [0.0549047 ],\n",
       "         [0.0549047 ],\n",
       "         [0.98228099],\n",
       "         [0.98228099],\n",
       "         [0.01384577],\n",
       "         [0.01384577],\n",
       "         [0.7534564 ],\n",
       "         [0.7534564 ],\n",
       "         [0.05444391],\n",
       "         [0.05444391],\n",
       "         [0.91752479],\n",
       "         [0.91752479],\n",
       "         [0.59658737],\n",
       "         [0.59658737],\n",
       "         [0.18739089],\n",
       "         [0.18739089],\n",
       "         [0.59321725],\n",
       "         [0.59321725],\n",
       "         [0.37304187],\n",
       "         [0.37304187],\n",
       "         [0.0339579 ],\n",
       "         [0.0339579 ],\n",
       "         [0.00575552],\n",
       "         [0.00575552],\n",
       "         [0.12563228],\n",
       "         [0.12563228],\n",
       "         [0.72482765],\n",
       "         [0.72482765],\n",
       "         [0.78268198],\n",
       "         [0.78268198],\n",
       "         [0.39803283],\n",
       "         [0.39803283],\n",
       "         [0.32958385],\n",
       "         [0.32958385],\n",
       "         [0.12519098],\n",
       "         [0.12519098],\n",
       "         [0.74889981],\n",
       "         [0.74889981],\n",
       "         [0.27061262],\n",
       "         [0.27061262],\n",
       "         [0.61518735],\n",
       "         [0.61518735],\n",
       "         [0.69942637],\n",
       "         [0.69942637],\n",
       "         [0.12370763],\n",
       "         [0.12370763],\n",
       "         [0.80897953],\n",
       "         [0.80897953],\n",
       "         [0.73467013],\n",
       "         [0.73467013],\n",
       "         [0.5271188 ],\n",
       "         [0.5271188 ],\n",
       "         [0.288509  ],\n",
       "         [0.288509  ],\n",
       "         [0.04624664],\n",
       "         [0.04624664],\n",
       "         [0.41957465],\n",
       "         [0.41957465],\n",
       "         [0.955929  ],\n",
       "         [0.955929  ],\n",
       "         [0.15998995],\n",
       "         [0.15998995],\n",
       "         [0.30790868],\n",
       "         [0.30790868],\n",
       "         [0.30421783],\n",
       "         [0.30421783],\n",
       "         [0.47646838],\n",
       "         [0.47646838],\n",
       "         [0.9841245 ],\n",
       "         [0.9841245 ],\n",
       "         [0.07181142],\n",
       "         [0.07181142],\n",
       "         [0.99352482],\n",
       "         [0.99352482],\n",
       "         [0.34952206],\n",
       "         [0.34952206],\n",
       "         [0.86035711],\n",
       "         [0.86035711],\n",
       "         [0.00510438],\n",
       "         [0.00510438],\n",
       "         [0.76072024],\n",
       "         [0.76072024],\n",
       "         [0.90705533],\n",
       "         [0.90705533],\n",
       "         [0.26350178],\n",
       "         [0.26350178],\n",
       "         [0.32734165],\n",
       "         [0.32734165],\n",
       "         [0.1015424 ],\n",
       "         [0.1015424 ],\n",
       "         [0.9927039 ],\n",
       "         [0.9927039 ],\n",
       "         [0.77345745],\n",
       "         [0.77345745],\n",
       "         [0.91297189],\n",
       "         [0.91297189],\n",
       "         [0.99556848],\n",
       "         [0.99556848],\n",
       "         [0.7986161 ],\n",
       "         [0.7986161 ],\n",
       "         [0.28304078],\n",
       "         [0.28304078],\n",
       "         [0.0931587 ],\n",
       "         [0.0931587 ]])}}"
      ]
     },
     "execution_count": 12,
     "metadata": {},
     "output_type": "execute_result"
    }
   ],
   "source": [
    "ds = load_by_id(run_id_a)\n",
    "ds.get_parameter_data('x1')"
   ]
  },
  {
   "cell_type": "code",
   "execution_count": null,
   "metadata": {},
   "outputs": [],
   "source": []
  }
 ],
 "metadata": {
  "kernelspec": {
   "display_name": "Python 3",
   "language": "python",
   "name": "python3"
  },
  "language_info": {
   "codemirror_mode": {
    "name": "ipython",
    "version": 3
   },
   "file_extension": ".py",
   "mimetype": "text/x-python",
   "name": "python",
   "nbconvert_exporter": "python",
   "pygments_lexer": "ipython3",
   "version": "3.7.7"
  },
  "nbsphinx": {
   "timeout": 600
  },
  "toc": {
   "base_numbering": 1,
   "nav_menu": {},
   "number_sections": true,
   "sideBar": true,
   "skip_h1_title": false,
   "title_cell": "Table of Contents",
   "title_sidebar": "Contents",
   "toc_cell": false,
   "toc_position": {},
   "toc_section_display": true,
   "toc_window_display": false
  },
  "varInspector": {
   "cols": {
    "lenName": 16,
    "lenType": 16,
    "lenVar": 40
   },
   "kernels_config": {
    "python": {
     "delete_cmd_postfix": "",
     "delete_cmd_prefix": "del ",
     "library": "var_list.py",
     "varRefreshCmd": "print(var_dic_list())"
    },
    "r": {
     "delete_cmd_postfix": ") ",
     "delete_cmd_prefix": "rm(",
     "library": "var_list.r",
     "varRefreshCmd": "cat(var_dic_list()) "
    }
   },
   "types_to_exclude": [
    "module",
    "function",
    "builtin_function_or_method",
    "instance",
    "_Feature"
   ],
   "window_display": false
  }
 },
 "nbformat": 4,
 "nbformat_minor": 2
}
