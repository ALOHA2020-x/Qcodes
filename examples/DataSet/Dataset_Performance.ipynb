{
 "cells": [
  {
   "cell_type": "markdown",
   "metadata": {},
   "source": [
    "# DataSet Performance\n",
    "\n",
    "This notebook shows the trade-off between inserting data into a database row-by-row and as binary blobs. Inserting the data row-by-row means that we have direct access to all the data and may perform queries directly on the values of the data. On the other hand, as we shall see, this is much slower than inserting the data directly as binary blobs."
   ]
  },
  {
   "cell_type": "markdown",
   "metadata": {},
   "source": [
    "First, we choose a new location for the database to ensure that we don't add a bunch of benchmarking data to the default one."
   ]
  },
  {
   "cell_type": "code",
   "execution_count": 1,
   "metadata": {
    "execution": {
     "iopub.execute_input": "2021-05-03T07:12:06.951207Z",
     "iopub.status.busy": "2021-05-03T07:12:06.950650Z",
     "iopub.status.idle": "2021-05-03T07:12:08.173448Z",
     "shell.execute_reply": "2021-05-03T07:12:08.172711Z"
    }
   },
   "outputs": [
    {
     "name": "stdout",
     "output_type": "stream",
     "text": [
      "Logging hadn't been started.\n",
      "Activating auto-logging. Current session state plus future input saved.\n",
      "Filename       : /home/runner/.qcodes/logs/command_history.log\n",
      "Mode           : append\n",
      "Output logging : True\n",
      "Raw input log  : False\n",
      "Timestamping   : True\n",
      "State          : active\n"
     ]
    },
    {
     "name": "stdout",
     "output_type": "stream",
     "text": [
      "Qcodes Logfile : /home/runner/.qcodes/logs/210503-4682-qcodes.log\n"
     ]
    }
   ],
   "source": [
    "import os\n",
    "cwd = os.getcwd()\n",
    "import qcodes as qc\n",
    "qc.config[\"core\"][\"db_location\"] = os.path.join(cwd, 'testing.db')\n"
   ]
  },
  {
   "cell_type": "code",
   "execution_count": 2,
   "metadata": {
    "execution": {
     "iopub.execute_input": "2021-05-03T07:12:08.181713Z",
     "iopub.status.busy": "2021-05-03T07:12:08.180848Z",
     "iopub.status.idle": "2021-05-03T07:12:08.398026Z",
     "shell.execute_reply": "2021-05-03T07:12:08.396575Z"
    }
   },
   "outputs": [],
   "source": [
    "%matplotlib inline\n",
    "import time\n",
    "import matplotlib.pyplot as plt\n",
    "import numpy as np\n",
    "\n",
    "import qcodes as qc\n",
    "from qcodes.instrument.parameter import ManualParameter\n",
    "from qcodes.dataset.experiment_container import (Experiment,\n",
    "                                                 load_last_experiment,\n",
    "                                                 new_experiment)\n",
    "from qcodes.dataset.sqlite.database import initialise_database\n",
    "from qcodes import load_or_create_experiment\n",
    "from qcodes.dataset.measurements import Measurement"
   ]
  },
  {
   "cell_type": "code",
   "execution_count": 3,
   "metadata": {
    "execution": {
     "iopub.execute_input": "2021-05-03T07:12:08.402530Z",
     "iopub.status.busy": "2021-05-03T07:12:08.401945Z",
     "iopub.status.idle": "2021-05-03T07:12:08.532709Z",
     "shell.execute_reply": "2021-05-03T07:12:08.532164Z"
    }
   },
   "outputs": [
    {
     "name": "stdout",
     "output_type": "stream",
     "text": [
      "\r",
      "0it [00:00, ?it/s]"
     ]
    },
    {
     "name": "stdout",
     "output_type": "stream",
     "text": [
      "\r",
      "Upgrading database; v0 -> v1: : 0it [00:00, ?it/s]"
     ]
    },
    {
     "name": "stdout",
     "output_type": "stream",
     "text": [
      "\r",
      "Upgrading database; v0 -> v1: : 0it [00:00, ?it/s]"
     ]
    },
    {
     "name": "stdout",
     "output_type": "stream",
     "text": [
      "\n",
      "\r",
      "  0%|          | 0/1 [00:00<?, ?it/s]"
     ]
    },
    {
     "name": "stdout",
     "output_type": "stream",
     "text": [
      "\r",
      "Upgrading database; v1 -> v2:   0%|          | 0/1 [00:00<?, ?it/s]"
     ]
    },
    {
     "name": "stdout",
     "output_type": "stream",
     "text": [
      "\r",
      "Upgrading database; v1 -> v2: 100%|██████████| 1/1 [00:00<00:00, 676.83it/s]"
     ]
    },
    {
     "name": "stdout",
     "output_type": "stream",
     "text": [
      "\n",
      "\r",
      "0it [00:00, ?it/s]"
     ]
    },
    {
     "name": "stdout",
     "output_type": "stream",
     "text": [
      "\r",
      "Upgrading database; v2 -> v3: : 0it [00:00, ?it/s]"
     ]
    },
    {
     "name": "stdout",
     "output_type": "stream",
     "text": [
      "\r",
      "Upgrading database; v2 -> v3: : 0it [00:00, ?it/s]"
     ]
    },
    {
     "name": "stdout",
     "output_type": "stream",
     "text": [
      "\n",
      "\r",
      "0it [00:00, ?it/s]"
     ]
    },
    {
     "name": "stdout",
     "output_type": "stream",
     "text": [
      "\r",
      "Upgrading database; v3 -> v4: : 0it [00:00, ?it/s]"
     ]
    },
    {
     "name": "stdout",
     "output_type": "stream",
     "text": [
      "\r",
      "Upgrading database; v3 -> v4: : 0it [00:00, ?it/s]"
     ]
    },
    {
     "name": "stdout",
     "output_type": "stream",
     "text": [
      "\n",
      "\r",
      "  0%|          | 0/1 [00:00<?, ?it/s]"
     ]
    },
    {
     "name": "stdout",
     "output_type": "stream",
     "text": [
      "\r",
      "Upgrading database; v4 -> v5:   0%|          | 0/1 [00:00<?, ?it/s]"
     ]
    },
    {
     "name": "stdout",
     "output_type": "stream",
     "text": [
      "\r",
      "Upgrading database; v4 -> v5: 100%|██████████| 1/1 [00:00<00:00, 569.88it/s]"
     ]
    },
    {
     "name": "stdout",
     "output_type": "stream",
     "text": [
      "\n",
      "\r",
      "0it [00:00, ?it/s]"
     ]
    },
    {
     "name": "stdout",
     "output_type": "stream",
     "text": [
      "\r",
      "Upgrading database; v5 -> v6: : 0it [00:00, ?it/s]"
     ]
    },
    {
     "name": "stdout",
     "output_type": "stream",
     "text": [
      "\r",
      "Upgrading database; v5 -> v6: : 0it [00:00, ?it/s]"
     ]
    },
    {
     "name": "stdout",
     "output_type": "stream",
     "text": [
      "\n",
      "\r",
      "  0%|          | 0/1 [00:00<?, ?it/s]"
     ]
    },
    {
     "name": "stdout",
     "output_type": "stream",
     "text": [
      "\r",
      "Upgrading database; v6 -> v7:   0%|          | 0/1 [00:00<?, ?it/s]"
     ]
    },
    {
     "name": "stdout",
     "output_type": "stream",
     "text": [
      "\r",
      "Upgrading database; v6 -> v7: 100%|██████████| 1/1 [00:00<00:00, 270.64it/s]"
     ]
    },
    {
     "name": "stdout",
     "output_type": "stream",
     "text": [
      "\n",
      "\r",
      "  0%|          | 0/1 [00:00<?, ?it/s]"
     ]
    },
    {
     "name": "stdout",
     "output_type": "stream",
     "text": [
      "\r",
      "Upgrading database; v7 -> v8:   0%|          | 0/1 [00:00<?, ?it/s]"
     ]
    },
    {
     "name": "stdout",
     "output_type": "stream",
     "text": [
      "\r",
      "Upgrading database; v7 -> v8: 100%|██████████| 1/1 [00:00<00:00, 417.34it/s]"
     ]
    },
    {
     "name": "stdout",
     "output_type": "stream",
     "text": [
      "\n",
      "\r",
      "  0%|          | 0/1 [00:00<?, ?it/s]"
     ]
    },
    {
     "name": "stdout",
     "output_type": "stream",
     "text": [
      "\r",
      "Upgrading database; v8 -> v9:   0%|          | 0/1 [00:00<?, ?it/s]"
     ]
    },
    {
     "name": "stdout",
     "output_type": "stream",
     "text": [
      "\r",
      "Upgrading database; v8 -> v9: 100%|██████████| 1/1 [00:00<00:00, 458.24it/s]"
     ]
    },
    {
     "name": "stdout",
     "output_type": "stream",
     "text": [
      "\n"
     ]
    }
   ],
   "source": [
    "initialise_database()\n",
    "exp = load_or_create_experiment(experiment_name='tutorial_exp', sample_name=\"no sample\")"
   ]
  },
  {
   "cell_type": "markdown",
   "metadata": {},
   "source": [
    "Here, we define a simple function to benchmark the time it takes to insert n points with either numeric or array data type.\n",
    "We will compare both the time used to call ``add_result`` and the time used for the full measurement."
   ]
  },
  {
   "cell_type": "code",
   "execution_count": 4,
   "metadata": {
    "execution": {
     "iopub.execute_input": "2021-05-03T07:12:08.541976Z",
     "iopub.status.busy": "2021-05-03T07:12:08.541294Z",
     "iopub.status.idle": "2021-05-03T07:12:08.544371Z",
     "shell.execute_reply": "2021-05-03T07:12:08.544793Z"
    }
   },
   "outputs": [],
   "source": [
    "def insert_data(paramtype, npoints, nreps=1):\n",
    "\n",
    "    meas = Measurement(exp=exp)\n",
    "\n",
    "    x1 = ManualParameter('x1')\n",
    "    x2 = ManualParameter('x2')\n",
    "    x3 = ManualParameter('x3')\n",
    "    y1 = ManualParameter('y1')\n",
    "    y2 = ManualParameter('y2')\n",
    "\n",
    "    meas.register_parameter(x1, paramtype=paramtype)\n",
    "    meas.register_parameter(x2, paramtype=paramtype)\n",
    "    meas.register_parameter(x3, paramtype=paramtype)\n",
    "    meas.register_parameter(y1, setpoints=[x1, x2, x3],\n",
    "                            paramtype=paramtype)\n",
    "    meas.register_parameter(y2, setpoints=[x1, x2, x3],\n",
    "                            paramtype=paramtype)\n",
    "    start = time.perf_counter()\n",
    "    with meas.run() as datasaver:\n",
    "        start_adding = time.perf_counter()\n",
    "        for i in range(nreps):\n",
    "            datasaver.add_result((x1, np.random.rand(npoints)),\n",
    "                                 (x2, np.random.rand(npoints)),\n",
    "                                 (x3, np.random.rand(npoints)),\n",
    "                                 (y1, np.random.rand(npoints)),\n",
    "                                 (y2, np.random.rand(npoints)))\n",
    "        stop_adding = time.perf_counter()\n",
    "        run_id = datasaver.run_id\n",
    "    stop = time.perf_counter()\n",
    "    tot_time = stop - start\n",
    "    add_time = stop_adding - start_adding\n",
    "    return tot_time, add_time, run_id"
   ]
  },
  {
   "cell_type": "markdown",
   "metadata": {},
   "source": [
    "## Comparison between numeric/array data and binary blob"
   ]
  },
  {
   "cell_type": "markdown",
   "metadata": {},
   "source": [
    "### Case1: Short experiment time"
   ]
  },
  {
   "cell_type": "code",
   "execution_count": 5,
   "metadata": {
    "execution": {
     "iopub.execute_input": "2021-05-03T07:12:08.551410Z",
     "iopub.status.busy": "2021-05-03T07:12:08.549020Z",
     "iopub.status.idle": "2021-05-03T07:12:09.316176Z",
     "shell.execute_reply": "2021-05-03T07:12:09.315615Z"
    }
   },
   "outputs": [
    {
     "name": "stdout",
     "output_type": "stream",
     "text": [
      "Starting experimental run with id: 1. \n",
      "Starting experimental run with id: 2. \n",
      "Starting experimental run with id: 3. \n",
      "Starting experimental run with id: 4. \n",
      "Starting experimental run with id: 5. \n"
     ]
    },
    {
     "name": "stdout",
     "output_type": "stream",
     "text": [
      "Starting experimental run with id: 6. \n"
     ]
    },
    {
     "name": "stdout",
     "output_type": "stream",
     "text": [
      "Starting experimental run with id: 7. \n"
     ]
    },
    {
     "name": "stdout",
     "output_type": "stream",
     "text": [
      "Starting experimental run with id: 8. \n",
      "Starting experimental run with id: 9. \n"
     ]
    },
    {
     "name": "stdout",
     "output_type": "stream",
     "text": [
      "Starting experimental run with id: 10. \n",
      "Starting experimental run with id: 11. \n"
     ]
    },
    {
     "name": "stdout",
     "output_type": "stream",
     "text": [
      "Starting experimental run with id: 12. \n",
      "Starting experimental run with id: 13. \n"
     ]
    },
    {
     "name": "stdout",
     "output_type": "stream",
     "text": [
      "Starting experimental run with id: 14. \n"
     ]
    }
   ],
   "source": [
    "sizes = [1,500,1000,2000,3000,4000,5000]\n",
    "t_numeric = []\n",
    "t_numeric_add = []\n",
    "t_array = []\n",
    "t_array_add = []\n",
    "for size in sizes:\n",
    "    tn, tna, run_id_n =  insert_data('numeric', size)\n",
    "    t_numeric.append(tn)\n",
    "    t_numeric_add.append(tna)\n",
    "\n",
    "    ta, taa, run_id_a =  insert_data('array', size)\n",
    "    t_array.append(ta)\n",
    "    t_array_add.append(taa)"
   ]
  },
  {
   "cell_type": "code",
   "execution_count": 6,
   "metadata": {
    "execution": {
     "iopub.execute_input": "2021-05-03T07:12:09.335989Z",
     "iopub.status.busy": "2021-05-03T07:12:09.320581Z",
     "iopub.status.idle": "2021-05-03T07:12:09.525825Z",
     "shell.execute_reply": "2021-05-03T07:12:09.526426Z"
    }
   },
   "outputs": [
    {
     "data": {
      "image/png": "[encoded data removed]",
      "text/plain": [
       "<Figure size 432x288 with 1 Axes>"
      ]
     },
     "metadata": {
      "needs_background": "light"
     },
     "output_type": "display_data"
    }
   ],
   "source": [
    "fig, ax = plt.subplots(1,1)\n",
    "ax.plot(sizes, t_numeric, 'o-', label='Inserting row-by-row')\n",
    "ax.plot(sizes, t_numeric_add, 'o-', label='Inserting row-by-row: add_result only')\n",
    "ax.plot(sizes, t_array, 'd-', label='Inserting as binary blob')\n",
    "ax.plot(sizes, t_array_add, 'd-', label='Inserting as binary blob: add_result only')\n",
    "ax.legend()\n",
    "ax.set_xlabel('Array length')\n",
    "ax.set_ylabel('Time (s)')\n",
    "fig.tight_layout()"
   ]
  },
  {
   "cell_type": "markdown",
   "metadata": {},
   "source": [
    "As shown in the latter figure, the time to setup and and close the experiment is approximately 0.4 sec. In case of small array sizes, the difference between inserting values of data as arrays and inserting them row-by-row is relatively unimportant. At larger array sizes, i.e. above 10000 points, the cost of writing data as individual datapoints starts to become important.\n"
   ]
  },
  {
   "cell_type": "markdown",
   "metadata": {},
   "source": [
    "### Case2: Long experiment time "
   ]
  },
  {
   "cell_type": "code",
   "execution_count": 7,
   "metadata": {
    "execution": {
     "iopub.execute_input": "2021-05-03T07:12:09.529165Z",
     "iopub.status.busy": "2021-05-03T07:12:09.528608Z",
     "iopub.status.idle": "2021-05-03T07:13:07.091642Z",
     "shell.execute_reply": "2021-05-03T07:13:07.091062Z"
    }
   },
   "outputs": [
    {
     "name": "stdout",
     "output_type": "stream",
     "text": [
      "Starting experimental run with id: 15. \n",
      "Starting experimental run with id: 16. \n",
      "Starting experimental run with id: 17. \n"
     ]
    },
    {
     "name": "stdout",
     "output_type": "stream",
     "text": [
      "Starting experimental run with id: 18. \n",
      "Starting experimental run with id: 19. \n"
     ]
    },
    {
     "name": "stdout",
     "output_type": "stream",
     "text": [
      "Starting experimental run with id: 20. \n"
     ]
    },
    {
     "name": "stdout",
     "output_type": "stream",
     "text": [
      "Starting experimental run with id: 21. \n"
     ]
    },
    {
     "name": "stdout",
     "output_type": "stream",
     "text": [
      "Starting experimental run with id: 22. \n"
     ]
    },
    {
     "name": "stdout",
     "output_type": "stream",
     "text": [
      "Starting experimental run with id: 23. \n"
     ]
    },
    {
     "name": "stdout",
     "output_type": "stream",
     "text": [
      "Starting experimental run with id: 24. \n"
     ]
    },
    {
     "name": "stdout",
     "output_type": "stream",
     "text": [
      "Starting experimental run with id: 25. \n"
     ]
    },
    {
     "name": "stdout",
     "output_type": "stream",
     "text": [
      "Starting experimental run with id: 26. \n"
     ]
    },
    {
     "name": "stdout",
     "output_type": "stream",
     "text": [
      "Starting experimental run with id: 27. \n"
     ]
    },
    {
     "name": "stdout",
     "output_type": "stream",
     "text": [
      "Starting experimental run with id: 28. \n"
     ]
    }
   ],
   "source": [
    "sizes = [1,500,1000,2000,3000,4000,5000]\n",
    "nreps = 100\n",
    "t_numeric = []\n",
    "t_numeric_add = []\n",
    "t_numeric_run_ids = []\n",
    "t_array = []\n",
    "t_array_add = []\n",
    "t_array_run_ids = []\n",
    "for size in sizes:\n",
    "    tn, tna, run_id_n =  insert_data('numeric', size, nreps=nreps)\n",
    "    t_numeric.append(tn)\n",
    "    t_numeric_add.append(tna)\n",
    "    t_numeric_run_ids.append(run_id_n)\n",
    "\n",
    "    ta, taa, run_id_a =  insert_data('array', size, nreps=nreps)\n",
    "    t_array.append(ta)\n",
    "    t_array_add.append(taa)\n",
    "    t_array_run_ids.append(run_id_a)"
   ]
  },
  {
   "cell_type": "code",
   "execution_count": 8,
   "metadata": {
    "execution": {
     "iopub.execute_input": "2021-05-03T07:13:07.135695Z",
     "iopub.status.busy": "2021-05-03T07:13:07.120919Z",
     "iopub.status.idle": "2021-05-03T07:13:07.291744Z",
     "shell.execute_reply": "2021-05-03T07:13:07.292501Z"
    },
    "scrolled": true
   },
   "outputs": [
    {
     "data": {
      "image/png": "[encoded data removed]",
      "text/plain": [
       "<Figure size 432x288 with 1 Axes>"
      ]
     },
     "metadata": {
      "needs_background": "light"
     },
     "output_type": "display_data"
    }
   ],
   "source": [
    "fig, ax = plt.subplots(1,1)\n",
    "ax.plot(sizes, t_numeric, 'o-', label='Inserting row-by-row')\n",
    "ax.plot(sizes, t_numeric_add, 'o-', label='Inserting row-by-row: add_result only')\n",
    "ax.plot(sizes, t_array, 'd-', label='Inserting as binary blob')\n",
    "ax.plot(sizes, t_array_add, 'd-', label='Inserting as binary blob: add_result only')\n",
    "ax.legend()\n",
    "ax.set_xlabel('Array length')\n",
    "ax.set_ylabel('Time (s)')\n",
    "fig.tight_layout()"
   ]
  },
  {
   "cell_type": "markdown",
   "metadata": {},
   "source": [
    "However, as we increase the length of the experiment, as seen here by repeating the insertion 100 times, we see a big difference between inserting values of the data row-by-row and inserting it as a binary blob."
   ]
  },
  {
   "cell_type": "markdown",
   "metadata": {},
   "source": [
    "## Loading the data "
   ]
  },
  {
   "cell_type": "code",
   "execution_count": 9,
   "metadata": {
    "execution": {
     "iopub.execute_input": "2021-05-03T07:13:07.297513Z",
     "iopub.status.busy": "2021-05-03T07:13:07.296556Z",
     "iopub.status.idle": "2021-05-03T07:13:07.300522Z",
     "shell.execute_reply": "2021-05-03T07:13:07.300029Z"
    }
   },
   "outputs": [],
   "source": [
    "from qcodes.dataset.data_set import load_by_id"
   ]
  },
  {
   "cell_type": "markdown",
   "metadata": {},
   "source": [
    "As usual you can load the data by using the ``load_by_id`` function but you will notice that the different storage methods\n",
    "are reflected in shape of the data as it is retrieved. "
   ]
  },
  {
   "cell_type": "code",
   "execution_count": 10,
   "metadata": {
    "execution": {
     "iopub.execute_input": "2021-05-03T07:13:07.304684Z",
     "iopub.status.busy": "2021-05-03T07:13:07.304137Z",
     "iopub.status.idle": "2021-05-03T07:13:07.307886Z",
     "shell.execute_reply": "2021-05-03T07:13:07.307402Z"
    }
   },
   "outputs": [],
   "source": [
    "run_id_n = t_numeric_run_ids[0]\n",
    "run_id_a = t_array_run_ids[0]"
   ]
  },
  {
   "cell_type": "code",
   "execution_count": 11,
   "metadata": {
    "execution": {
     "iopub.execute_input": "2021-05-03T07:13:07.311755Z",
     "iopub.status.busy": "2021-05-03T07:13:07.311200Z",
     "iopub.status.idle": "2021-05-03T07:13:07.323486Z",
     "shell.execute_reply": "2021-05-03T07:13:07.322771Z"
    },
    "scrolled": true
   },
   "outputs": [
    {
     "data": {
      "text/plain": [
       "{'x1': {'x1': array([0.03974829, 0.03974829, 0.95744979, 0.95744979, 0.55596136,\n",
       "         0.55596136, 0.79338373, 0.79338373, 0.25926737, 0.25926737,\n",
       "         0.34056787, 0.34056787, 0.64945081, 0.64945081, 0.25501997,\n",
       "         0.25501997, 0.47205409, 0.47205409, 0.25415664, 0.25415664,\n",
       "         0.78908754, 0.78908754, 0.24266785, 0.24266785, 0.92837099,\n",
       "         0.92837099, 0.70934394, 0.70934394, 0.01627622, 0.01627622,\n",
       "         0.7145015 , 0.7145015 , 0.88531681, 0.88531681, 0.55754931,\n",
       "         0.55754931, 0.72311163, 0.72311163, 0.56746276, 0.56746276,\n",
       "         0.68443557, 0.68443557, 0.03647741, 0.03647741, 0.65769658,\n",
       "         0.65769658, 0.62223175, 0.62223175, 0.86372877, 0.86372877,\n",
       "         0.69180903, 0.69180903, 0.11619261, 0.11619261, 0.3518267 ,\n",
       "         0.3518267 , 0.85541633, 0.85541633, 0.61369582, 0.61369582,\n",
       "         0.00784751, 0.00784751, 0.58744383, 0.58744383, 0.84661913,\n",
       "         0.84661913, 0.62629528, 0.62629528, 0.1939354 , 0.1939354 ,\n",
       "         0.17845212, 0.17845212, 0.91486147, 0.91486147, 0.53983319,\n",
       "         0.53983319, 0.99239684, 0.99239684, 0.42628202, 0.42628202,\n",
       "         0.9000873 , 0.9000873 , 0.22007427, 0.22007427, 0.10311284,\n",
       "         0.10311284, 0.18411546, 0.18411546, 0.85641251, 0.85641251,\n",
       "         0.95213399, 0.95213399, 0.76280509, 0.76280509, 0.58010556,\n",
       "         0.58010556, 0.08913358, 0.08913358, 0.30716026, 0.30716026,\n",
       "         0.12817588, 0.12817588, 0.61035592, 0.61035592, 0.2625343 ,\n",
       "         0.2625343 , 0.95328193, 0.95328193, 0.09246018, 0.09246018,\n",
       "         0.71642803, 0.71642803, 0.07782835, 0.07782835, 0.33623906,\n",
       "         0.33623906, 0.29242824, 0.29242824, 0.94324896, 0.94324896,\n",
       "         0.45155013, 0.45155013, 0.28140775, 0.28140775, 0.01856108,\n",
       "         0.01856108, 0.19533118, 0.19533118, 0.39795208, 0.39795208,\n",
       "         0.08983989, 0.08983989, 0.26383068, 0.26383068, 0.88867077,\n",
       "         0.88867077, 0.99679618, 0.99679618, 0.60720333, 0.60720333,\n",
       "         0.04629736, 0.04629736, 0.23473685, 0.23473685, 0.20708461,\n",
       "         0.20708461, 0.0732249 , 0.0732249 , 0.79418639, 0.79418639,\n",
       "         0.92874195, 0.92874195, 0.31835571, 0.31835571, 0.83989051,\n",
       "         0.83989051, 0.92780479, 0.92780479, 0.89184156, 0.89184156,\n",
       "         0.03705022, 0.03705022, 0.37744638, 0.37744638, 0.06622312,\n",
       "         0.06622312, 0.71313472, 0.71313472, 0.98948253, 0.98948253,\n",
       "         0.85993904, 0.85993904, 0.79751512, 0.79751512, 0.47309089,\n",
       "         0.47309089, 0.11005057, 0.11005057, 0.9952941 , 0.9952941 ,\n",
       "         0.11532107, 0.11532107, 0.94117498, 0.94117498, 0.4379132 ,\n",
       "         0.4379132 , 0.16059847, 0.16059847, 0.39596638, 0.39596638,\n",
       "         0.27547432, 0.27547432, 0.89821149, 0.89821149, 0.09835081,\n",
       "         0.09835081, 0.61717136, 0.61717136, 0.05768432, 0.05768432])}}"
      ]
     },
     "execution_count": 1,
     "metadata": {},
     "output_type": "execute_result"
    }
   ],
   "source": [
    "ds = load_by_id(run_id_n)\n",
    "ds.get_parameter_data('x1')"
   ]
  },
  {
   "cell_type": "markdown",
   "metadata": {},
   "source": [
    "And a dataset stored as binary arrays"
   ]
  },
  {
   "cell_type": "code",
   "execution_count": 12,
   "metadata": {
    "execution": {
     "iopub.execute_input": "2021-05-03T07:13:07.327352Z",
     "iopub.status.busy": "2021-05-03T07:13:07.326793Z",
     "iopub.status.idle": "2021-05-03T07:13:07.386618Z",
     "shell.execute_reply": "2021-05-03T07:13:07.386099Z"
    },
    "scrolled": true
   },
   "outputs": [
    {
     "data": {
      "text/plain": [
       "{'x1': {'x1': array([[0.84988567],\n",
       "         [0.84988567],\n",
       "         [0.04380172],\n",
       "         [0.04380172],\n",
       "         [0.41305818],\n",
       "         [0.41305818],\n",
       "         [0.55413247],\n",
       "         [0.55413247],\n",
       "         [0.30384101],\n",
       "         [0.30384101],\n",
       "         [0.11709399],\n",
       "         [0.11709399],\n",
       "         [0.91019328],\n",
       "         [0.91019328],\n",
       "         [0.96564989],\n",
       "         [0.96564989],\n",
       "         [0.12068192],\n",
       "         [0.12068192],\n",
       "         [0.35835929],\n",
       "         [0.35835929],\n",
       "         [0.5457228 ],\n",
       "         [0.5457228 ],\n",
       "         [0.33053913],\n",
       "         [0.33053913],\n",
       "         [0.40493684],\n",
       "         [0.40493684],\n",
       "         [0.86910017],\n",
       "         [0.86910017],\n",
       "         [0.71242746],\n",
       "         [0.71242746],\n",
       "         [0.29081499],\n",
       "         [0.29081499],\n",
       "         [0.60970616],\n",
       "         [0.60970616],\n",
       "         [0.59294463],\n",
       "         [0.59294463],\n",
       "         [0.5655033 ],\n",
       "         [0.5655033 ],\n",
       "         [0.21733801],\n",
       "         [0.21733801],\n",
       "         [0.95982939],\n",
       "         [0.95982939],\n",
       "         [0.37914633],\n",
       "         [0.37914633],\n",
       "         [0.32635133],\n",
       "         [0.32635133],\n",
       "         [0.8825424 ],\n",
       "         [0.8825424 ],\n",
       "         [0.47194917],\n",
       "         [0.47194917],\n",
       "         [0.97066978],\n",
       "         [0.97066978],\n",
       "         [0.20682356],\n",
       "         [0.20682356],\n",
       "         [0.11209999],\n",
       "         [0.11209999],\n",
       "         [0.50520674],\n",
       "         [0.50520674],\n",
       "         [0.97148914],\n",
       "         [0.97148914],\n",
       "         [0.2200194 ],\n",
       "         [0.2200194 ],\n",
       "         [0.14079492],\n",
       "         [0.14079492],\n",
       "         [0.60176938],\n",
       "         [0.60176938],\n",
       "         [0.88489489],\n",
       "         [0.88489489],\n",
       "         [0.18489584],\n",
       "         [0.18489584],\n",
       "         [0.28029888],\n",
       "         [0.28029888],\n",
       "         [0.13110236],\n",
       "         [0.13110236],\n",
       "         [0.03254833],\n",
       "         [0.03254833],\n",
       "         [0.49007343],\n",
       "         [0.49007343],\n",
       "         [0.1765741 ],\n",
       "         [0.1765741 ],\n",
       "         [0.71107339],\n",
       "         [0.71107339],\n",
       "         [0.24778295],\n",
       "         [0.24778295],\n",
       "         [0.63952514],\n",
       "         [0.63952514],\n",
       "         [0.6768487 ],\n",
       "         [0.6768487 ],\n",
       "         [0.44245717],\n",
       "         [0.44245717],\n",
       "         [0.14791206],\n",
       "         [0.14791206],\n",
       "         [0.14647645],\n",
       "         [0.14647645],\n",
       "         [0.04870097],\n",
       "         [0.04870097],\n",
       "         [0.50330211],\n",
       "         [0.50330211],\n",
       "         [0.99365975],\n",
       "         [0.99365975],\n",
       "         [0.09025131],\n",
       "         [0.09025131],\n",
       "         [0.72748645],\n",
       "         [0.72748645],\n",
       "         [0.67582976],\n",
       "         [0.67582976],\n",
       "         [0.12536233],\n",
       "         [0.12536233],\n",
       "         [0.96873001],\n",
       "         [0.96873001],\n",
       "         [0.47081472],\n",
       "         [0.47081472],\n",
       "         [0.61197951],\n",
       "         [0.61197951],\n",
       "         [0.36818572],\n",
       "         [0.36818572],\n",
       "         [0.73643251],\n",
       "         [0.73643251],\n",
       "         [0.48778961],\n",
       "         [0.48778961],\n",
       "         [0.2250013 ],\n",
       "         [0.2250013 ],\n",
       "         [0.28840254],\n",
       "         [0.28840254],\n",
       "         [0.23227694],\n",
       "         [0.23227694],\n",
       "         [0.45403011],\n",
       "         [0.45403011],\n",
       "         [0.28503759],\n",
       "         [0.28503759],\n",
       "         [0.67091678],\n",
       "         [0.67091678],\n",
       "         [0.71095082],\n",
       "         [0.71095082],\n",
       "         [0.92602977],\n",
       "         [0.92602977],\n",
       "         [0.4935866 ],\n",
       "         [0.4935866 ],\n",
       "         [0.03237308],\n",
       "         [0.03237308],\n",
       "         [0.49569819],\n",
       "         [0.49569819],\n",
       "         [0.02767062],\n",
       "         [0.02767062],\n",
       "         [0.33002082],\n",
       "         [0.33002082],\n",
       "         [0.17681007],\n",
       "         [0.17681007],\n",
       "         [0.04191598],\n",
       "         [0.04191598],\n",
       "         [0.3475061 ],\n",
       "         [0.3475061 ],\n",
       "         [0.58336992],\n",
       "         [0.58336992],\n",
       "         [0.29819376],\n",
       "         [0.29819376],\n",
       "         [0.58130609],\n",
       "         [0.58130609],\n",
       "         [0.86012955],\n",
       "         [0.86012955],\n",
       "         [0.69473349],\n",
       "         [0.69473349],\n",
       "         [0.78777304],\n",
       "         [0.78777304],\n",
       "         [0.96633033],\n",
       "         [0.96633033],\n",
       "         [0.82455116],\n",
       "         [0.82455116],\n",
       "         [0.9570191 ],\n",
       "         [0.9570191 ],\n",
       "         [0.20482131],\n",
       "         [0.20482131],\n",
       "         [0.17648625],\n",
       "         [0.17648625],\n",
       "         [0.56328552],\n",
       "         [0.56328552],\n",
       "         [0.42083898],\n",
       "         [0.42083898],\n",
       "         [0.08573961],\n",
       "         [0.08573961],\n",
       "         [0.06256619],\n",
       "         [0.06256619],\n",
       "         [0.89172917],\n",
       "         [0.89172917],\n",
       "         [0.03308174],\n",
       "         [0.03308174],\n",
       "         [0.81963718],\n",
       "         [0.81963718],\n",
       "         [0.29002764],\n",
       "         [0.29002764],\n",
       "         [0.67137598],\n",
       "         [0.67137598],\n",
       "         [0.01206058],\n",
       "         [0.01206058],\n",
       "         [0.65996687],\n",
       "         [0.65996687],\n",
       "         [0.82818537],\n",
       "         [0.82818537],\n",
       "         [0.11101428],\n",
       "         [0.11101428]])}}"
      ]
     },
     "execution_count": 1,
     "metadata": {},
     "output_type": "execute_result"
    }
   ],
   "source": [
    "ds = load_by_id(run_id_a)\n",
    "ds.get_parameter_data('x1')"
   ]
  },
  {
   "cell_type": "code",
   "execution_count": null,
   "metadata": {},
   "outputs": [],
   "source": []
  }
 ],
 "metadata": {
  "kernelspec": {
   "display_name": "Python 3",
   "language": "python",
   "name": "python3"
  },
  "language_info": {
   "codemirror_mode": {
    "name": "ipython",
    "version": 3
   },
   "file_extension": ".py",
   "mimetype": "text/x-python",
   "name": "python",
   "nbconvert_exporter": "python",
   "pygments_lexer": "ipython3",
   "version": "3.7.10"
  },
  "nbsphinx": {
   "timeout": 600
  },
  "toc": {
   "base_numbering": 1,
   "nav_menu": {},
   "number_sections": true,
   "sideBar": true,
   "skip_h1_title": false,
   "title_cell": "Table of Contents",
   "title_sidebar": "Contents",
   "toc_cell": false,
   "toc_position": {},
   "toc_section_display": true,
   "toc_window_display": false
  },
  "varInspector": {
   "cols": {
    "lenName": 16,
    "lenType": 16,
    "lenVar": 40
   },
   "kernels_config": {
    "python": {
     "delete_cmd_postfix": "",
     "delete_cmd_prefix": "del ",
     "library": "var_list.py",
     "varRefreshCmd": "print(var_dic_list())"
    },
    "r": {
     "delete_cmd_postfix": ") ",
     "delete_cmd_prefix": "rm(",
     "library": "var_list.r",
     "varRefreshCmd": "cat(var_dic_list()) "
    }
   },
   "types_to_exclude": [
    "module",
    "function",
    "builtin_function_or_method",
    "instance",
    "_Feature"
   ],
   "window_display": false
  }
 },
 "nbformat": 4,
 "nbformat_minor": 4
}
