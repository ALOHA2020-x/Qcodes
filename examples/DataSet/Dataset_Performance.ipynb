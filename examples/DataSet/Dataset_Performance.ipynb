{
 "cells": [
  {
   "cell_type": "markdown",
   "metadata": {},
   "source": [
    "# DataSet Performance\n",
    "\n",
    "This notebook shows the trade-off between inserting data into a database row-by-row and as binary blobs. Inserting the data row-by-row means that we have direct access to all the data and may perform queries directly on the values of the data. On the other hand, as we shall see, this is much slower than inserting the data directly as binary blobs."
   ]
  },
  {
   "cell_type": "markdown",
   "metadata": {},
   "source": [
    "First, we choose a new location for the database to ensure that we don't add a bunch of benchmarking data to the default one."
   ]
  },
  {
   "cell_type": "code",
   "execution_count": 1,
   "metadata": {
    "execution": {
     "iopub.execute_input": "2021-03-03T09:11:00.350993Z",
     "iopub.status.busy": "2021-03-03T09:11:00.350363Z",
     "iopub.status.idle": "2021-03-03T09:11:01.390694Z",
     "shell.execute_reply": "2021-03-03T09:11:01.391190Z"
    }
   },
   "outputs": [
    {
     "name": "stdout",
     "output_type": "stream",
     "text": [
      "Logging hadn't been started.\n",
      "Activating auto-logging. Current session state plus future input saved.\n",
      "Filename       : /home/runner/.qcodes/logs/command_history.log\n",
      "Mode           : append\n",
      "Output logging : True\n",
      "Raw input log  : False\n",
      "Timestamping   : True\n",
      "State          : active\n"
     ]
    },
    {
     "name": "stdout",
     "output_type": "stream",
     "text": [
      "Qcodes Logfile : /home/runner/.qcodes/logs/210303-4351-qcodes.log\n"
     ]
    }
   ],
   "source": [
    "import os\n",
    "cwd = os.getcwd()\n",
    "import qcodes as qc\n",
    "qc.config[\"core\"][\"db_location\"] = os.path.join(cwd, 'testing.db')\n"
   ]
  },
  {
   "cell_type": "code",
   "execution_count": 2,
   "metadata": {
    "execution": {
     "iopub.execute_input": "2021-03-03T09:11:01.398542Z",
     "iopub.status.busy": "2021-03-03T09:11:01.393963Z",
     "iopub.status.idle": "2021-03-03T09:11:01.629646Z",
     "shell.execute_reply": "2021-03-03T09:11:01.628658Z"
    }
   },
   "outputs": [],
   "source": [
    "%matplotlib inline\n",
    "import time\n",
    "import matplotlib.pyplot as plt\n",
    "import numpy as np\n",
    "\n",
    "import qcodes as qc\n",
    "from qcodes.instrument.parameter import ManualParameter\n",
    "from qcodes.dataset.experiment_container import (Experiment,\n",
    "                                                 load_last_experiment,\n",
    "                                                 new_experiment)\n",
    "from qcodes.dataset.sqlite.database import initialise_database\n",
    "from qcodes import load_or_create_experiment\n",
    "from qcodes.dataset.measurements import Measurement"
   ]
  },
  {
   "cell_type": "code",
   "execution_count": 3,
   "metadata": {
    "execution": {
     "iopub.execute_input": "2021-03-03T09:11:01.634343Z",
     "iopub.status.busy": "2021-03-03T09:11:01.633492Z",
     "iopub.status.idle": "2021-03-03T09:11:01.951187Z",
     "shell.execute_reply": "2021-03-03T09:11:01.951758Z"
    }
   },
   "outputs": [
    {
     "name": "stdout",
     "output_type": "stream",
     "text": [
      "\r",
      "0it [00:00, ?it/s]"
     ]
    },
    {
     "name": "stdout",
     "output_type": "stream",
     "text": [
      "\r",
      "Upgrading database; v0 -> v1: : 0it [00:00, ?it/s]"
     ]
    },
    {
     "name": "stdout",
     "output_type": "stream",
     "text": [
      "\r",
      "Upgrading database; v0 -> v1: : 0it [00:00, ?it/s]"
     ]
    },
    {
     "name": "stdout",
     "output_type": "stream",
     "text": [
      "\n",
      "\r",
      "  0%|          | 0/1 [00:00<?, ?it/s]"
     ]
    },
    {
     "name": "stdout",
     "output_type": "stream",
     "text": [
      "\r",
      "Upgrading database; v1 -> v2:   0%|          | 0/1 [00:00<?, ?it/s]"
     ]
    },
    {
     "name": "stdout",
     "output_type": "stream",
     "text": [
      "\r",
      "Upgrading database; v1 -> v2: 100%|██████████| 1/1 [00:00<00:00, 415.73it/s]"
     ]
    },
    {
     "name": "stdout",
     "output_type": "stream",
     "text": [
      "\n",
      "\r",
      "0it [00:00, ?it/s]"
     ]
    },
    {
     "name": "stdout",
     "output_type": "stream",
     "text": [
      "\r",
      "Upgrading database; v2 -> v3: : 0it [00:00, ?it/s]"
     ]
    },
    {
     "name": "stdout",
     "output_type": "stream",
     "text": [
      "\r",
      "Upgrading database; v2 -> v3: : 0it [00:00, ?it/s]"
     ]
    },
    {
     "name": "stdout",
     "output_type": "stream",
     "text": [
      "\n",
      "\r",
      "0it [00:00, ?it/s]"
     ]
    },
    {
     "name": "stdout",
     "output_type": "stream",
     "text": [
      "\r",
      "Upgrading database; v3 -> v4: : 0it [00:00, ?it/s]"
     ]
    },
    {
     "name": "stdout",
     "output_type": "stream",
     "text": [
      "\r",
      "Upgrading database; v3 -> v4: : 0it [00:00, ?it/s]"
     ]
    },
    {
     "name": "stdout",
     "output_type": "stream",
     "text": [
      "\n",
      "\r",
      "  0%|          | 0/1 [00:00<?, ?it/s]"
     ]
    },
    {
     "name": "stdout",
     "output_type": "stream",
     "text": [
      "\r",
      "Upgrading database; v4 -> v5:   0%|          | 0/1 [00:00<?, ?it/s]"
     ]
    },
    {
     "name": "stdout",
     "output_type": "stream",
     "text": [
      "\r",
      "Upgrading database; v4 -> v5: 100%|██████████| 1/1 [00:00<00:00, 356.99it/s]"
     ]
    },
    {
     "name": "stdout",
     "output_type": "stream",
     "text": [
      "\n",
      "\r",
      "0it [00:00, ?it/s]"
     ]
    },
    {
     "name": "stdout",
     "output_type": "stream",
     "text": [
      "\r",
      "Upgrading database; v5 -> v6: : 0it [00:00, ?it/s]"
     ]
    },
    {
     "name": "stdout",
     "output_type": "stream",
     "text": [
      "\r",
      "Upgrading database; v5 -> v6: : 0it [00:00, ?it/s]"
     ]
    },
    {
     "name": "stdout",
     "output_type": "stream",
     "text": [
      "\n",
      "\r",
      "  0%|          | 0/1 [00:00<?, ?it/s]"
     ]
    },
    {
     "name": "stdout",
     "output_type": "stream",
     "text": [
      "\r",
      "Upgrading database; v6 -> v7:   0%|          | 0/1 [00:00<?, ?it/s]"
     ]
    },
    {
     "name": "stdout",
     "output_type": "stream",
     "text": [
      "\r",
      "Upgrading database; v6 -> v7: 100%|██████████| 1/1 [00:00<00:00, 83.22it/s]"
     ]
    },
    {
     "name": "stdout",
     "output_type": "stream",
     "text": [
      "\n",
      "\r",
      "  0%|          | 0/1 [00:00<?, ?it/s]"
     ]
    },
    {
     "name": "stdout",
     "output_type": "stream",
     "text": [
      "\r",
      "Upgrading database; v7 -> v8:   0%|          | 0/1 [00:00<?, ?it/s]"
     ]
    },
    {
     "name": "stdout",
     "output_type": "stream",
     "text": [
      "\r",
      "Upgrading database; v7 -> v8: 100%|██████████| 1/1 [00:00<00:00, 347.90it/s]"
     ]
    },
    {
     "name": "stdout",
     "output_type": "stream",
     "text": [
      "\n",
      "\r",
      "  0%|          | 0/1 [00:00<?, ?it/s]"
     ]
    },
    {
     "name": "stdout",
     "output_type": "stream",
     "text": [
      "\r",
      "Upgrading database; v8 -> v9:   0%|          | 0/1 [00:00<?, ?it/s]"
     ]
    },
    {
     "name": "stdout",
     "output_type": "stream",
     "text": [
      "\r",
      "Upgrading database; v8 -> v9: 100%|██████████| 1/1 [00:00<00:00, 732.76it/s]"
     ]
    },
    {
     "name": "stdout",
     "output_type": "stream",
     "text": [
      "\n"
     ]
    }
   ],
   "source": [
    "initialise_database()\n",
    "exp = load_or_create_experiment(experiment_name='tutorial_exp', sample_name=\"no sample\")"
   ]
  },
  {
   "cell_type": "markdown",
   "metadata": {},
   "source": [
    "Here, we define a simple function to benchmark the time it takes to insert n points with either numeric or array data type.\n",
    "We will compare both the time used to call ``add_result`` and the time used for the full measurement."
   ]
  },
  {
   "cell_type": "code",
   "execution_count": 4,
   "metadata": {
    "execution": {
     "iopub.execute_input": "2021-03-03T09:11:01.961926Z",
     "iopub.status.busy": "2021-03-03T09:11:01.961203Z",
     "iopub.status.idle": "2021-03-03T09:11:01.965183Z",
     "shell.execute_reply": "2021-03-03T09:11:01.965708Z"
    }
   },
   "outputs": [],
   "source": [
    "def insert_data(paramtype, npoints, nreps=1):\n",
    "\n",
    "    meas = Measurement(exp=exp)\n",
    "\n",
    "    x1 = ManualParameter('x1')\n",
    "    x2 = ManualParameter('x2')\n",
    "    x3 = ManualParameter('x3')\n",
    "    y1 = ManualParameter('y1')\n",
    "    y2 = ManualParameter('y2')\n",
    "\n",
    "    meas.register_parameter(x1, paramtype=paramtype)\n",
    "    meas.register_parameter(x2, paramtype=paramtype)\n",
    "    meas.register_parameter(x3, paramtype=paramtype)\n",
    "    meas.register_parameter(y1, setpoints=[x1, x2, x3],\n",
    "                            paramtype=paramtype)\n",
    "    meas.register_parameter(y2, setpoints=[x1, x2, x3],\n",
    "                            paramtype=paramtype)\n",
    "    start = time.perf_counter()\n",
    "    with meas.run() as datasaver:\n",
    "        start_adding = time.perf_counter()\n",
    "        for i in range(nreps):\n",
    "            datasaver.add_result((x1, np.random.rand(npoints)),\n",
    "                                 (x2, np.random.rand(npoints)),\n",
    "                                 (x3, np.random.rand(npoints)),\n",
    "                                 (y1, np.random.rand(npoints)),\n",
    "                                 (y2, np.random.rand(npoints)))\n",
    "        stop_adding = time.perf_counter()\n",
    "        run_id = datasaver.run_id\n",
    "    stop = time.perf_counter()\n",
    "    tot_time = stop - start\n",
    "    add_time = stop_adding - start_adding\n",
    "    return tot_time, add_time, run_id"
   ]
  },
  {
   "cell_type": "markdown",
   "metadata": {},
   "source": [
    "## Comparison between numeric/array data and binary blob"
   ]
  },
  {
   "cell_type": "markdown",
   "metadata": {},
   "source": [
    "### Case1: Short experiment time"
   ]
  },
  {
   "cell_type": "code",
   "execution_count": 5,
   "metadata": {
    "execution": {
     "iopub.execute_input": "2021-03-03T09:11:01.974783Z",
     "iopub.status.busy": "2021-03-03T09:11:01.973229Z",
     "iopub.status.idle": "2021-03-03T09:11:03.487964Z",
     "shell.execute_reply": "2021-03-03T09:11:03.487037Z"
    }
   },
   "outputs": [
    {
     "name": "stdout",
     "output_type": "stream",
     "text": [
      "Starting experimental run with id: 1. \n"
     ]
    },
    {
     "name": "stdout",
     "output_type": "stream",
     "text": [
      "Starting experimental run with id: 2. "
     ]
    },
    {
     "name": "stdout",
     "output_type": "stream",
     "text": [
      "\n"
     ]
    },
    {
     "name": "stdout",
     "output_type": "stream",
     "text": [
      "Starting experimental run with id: 3. \n",
      "Starting experimental run with id: 4. \n"
     ]
    },
    {
     "name": "stdout",
     "output_type": "stream",
     "text": [
      "Starting experimental run with id: 5. \n"
     ]
    },
    {
     "name": "stdout",
     "output_type": "stream",
     "text": [
      "Starting experimental run with id: 6. \n",
      "Starting experimental run with id: 7. \n"
     ]
    },
    {
     "name": "stdout",
     "output_type": "stream",
     "text": [
      "Starting experimental run with id: 8. \n",
      "Starting experimental run with id: 9. \n"
     ]
    },
    {
     "name": "stdout",
     "output_type": "stream",
     "text": [
      "Starting experimental run with id: 10. \n",
      "Starting experimental run with id: 11. \n"
     ]
    },
    {
     "name": "stdout",
     "output_type": "stream",
     "text": [
      "Starting experimental run with id: 12. \n",
      "Starting experimental run with id: 13. \n"
     ]
    },
    {
     "name": "stdout",
     "output_type": "stream",
     "text": [
      "Starting experimental run with id: 14. \n"
     ]
    }
   ],
   "source": [
    "sizes = [1,500,1000,2000,3000,4000,5000]\n",
    "t_numeric = []\n",
    "t_numeric_add = []\n",
    "t_array = []\n",
    "t_array_add = []\n",
    "for size in sizes:\n",
    "    tn, tna, run_id_n =  insert_data('numeric', size)\n",
    "    t_numeric.append(tn)\n",
    "    t_numeric_add.append(tna)\n",
    "\n",
    "    ta, taa, run_id_a =  insert_data('array', size)\n",
    "    t_array.append(ta)\n",
    "    t_array_add.append(taa)"
   ]
  },
  {
   "cell_type": "code",
   "execution_count": 6,
   "metadata": {
    "execution": {
     "iopub.execute_input": "2021-03-03T09:11:03.546151Z",
     "iopub.status.busy": "2021-03-03T09:11:03.545158Z",
     "iopub.status.idle": "2021-03-03T09:11:03.774828Z",
     "shell.execute_reply": "2021-03-03T09:11:03.773847Z"
    }
   },
   "outputs": [
    {
     "data": {
      "image/png": "[encoded data removed]",
      "text/plain": [
       "<Figure size 432x288 with 1 Axes>"
      ]
     },
     "metadata": {
      "needs_background": "light"
     },
     "output_type": "display_data"
    }
   ],
   "source": [
    "fig, ax = plt.subplots(1,1)\n",
    "ax.plot(sizes, t_numeric, 'o-', label='Inserting row-by-row')\n",
    "ax.plot(sizes, t_numeric_add, 'o-', label='Inserting row-by-row: add_result only')\n",
    "ax.plot(sizes, t_array, 'd-', label='Inserting as binary blob')\n",
    "ax.plot(sizes, t_array_add, 'd-', label='Inserting as binary blob: add_result only')\n",
    "ax.legend()\n",
    "ax.set_xlabel('Array length')\n",
    "ax.set_ylabel('Time (s)')\n",
    "fig.tight_layout()"
   ]
  },
  {
   "cell_type": "markdown",
   "metadata": {},
   "source": [
    "As shown in the latter figure, the time to setup and and close the experiment is approximately 0.4 sec. In case of small array sizes, the difference between inserting values of data as arrays and inserting them row-by-row is relatively unimportant. At larger array sizes, i.e. above 10000 points, the cost of writing data as individual datapoints starts to become important.\n"
   ]
  },
  {
   "cell_type": "markdown",
   "metadata": {},
   "source": [
    "### Case2: Long experiment time "
   ]
  },
  {
   "cell_type": "code",
   "execution_count": 7,
   "metadata": {
    "execution": {
     "iopub.execute_input": "2021-03-03T09:11:03.783916Z",
     "iopub.status.busy": "2021-03-03T09:11:03.782919Z",
     "iopub.status.idle": "2021-03-03T09:12:13.474615Z",
     "shell.execute_reply": "2021-03-03T09:12:13.475150Z"
    }
   },
   "outputs": [
    {
     "name": "stdout",
     "output_type": "stream",
     "text": [
      "Starting experimental run with id: 15. \n",
      "Starting experimental run with id: 16. \n"
     ]
    },
    {
     "name": "stdout",
     "output_type": "stream",
     "text": [
      "Starting experimental run with id: 17. \n"
     ]
    },
    {
     "name": "stdout",
     "output_type": "stream",
     "text": [
      "Starting experimental run with id: 18. \n"
     ]
    },
    {
     "name": "stdout",
     "output_type": "stream",
     "text": [
      "Starting experimental run with id: 19. \n"
     ]
    },
    {
     "name": "stdout",
     "output_type": "stream",
     "text": [
      "Starting experimental run with id: 20. \n"
     ]
    },
    {
     "name": "stdout",
     "output_type": "stream",
     "text": [
      "Starting experimental run with id: 21. \n"
     ]
    },
    {
     "name": "stdout",
     "output_type": "stream",
     "text": [
      "Starting experimental run with id: 22. \n"
     ]
    },
    {
     "name": "stdout",
     "output_type": "stream",
     "text": [
      "Starting experimental run with id: 23. \n"
     ]
    },
    {
     "name": "stdout",
     "output_type": "stream",
     "text": [
      "Starting experimental run with id: 24. \n"
     ]
    },
    {
     "name": "stdout",
     "output_type": "stream",
     "text": [
      "Starting experimental run with id: 25. \n"
     ]
    },
    {
     "name": "stdout",
     "output_type": "stream",
     "text": [
      "Starting experimental run with id: 26. \n"
     ]
    },
    {
     "name": "stdout",
     "output_type": "stream",
     "text": [
      "Starting experimental run with id: 27. \n"
     ]
    },
    {
     "name": "stdout",
     "output_type": "stream",
     "text": [
      "Starting experimental run with id: 28. \n"
     ]
    }
   ],
   "source": [
    "sizes = [1,500,1000,2000,3000,4000,5000]\n",
    "nreps = 100\n",
    "t_numeric = []\n",
    "t_numeric_add = []\n",
    "t_numeric_run_ids = []\n",
    "t_array = []\n",
    "t_array_add = []\n",
    "t_array_run_ids = []\n",
    "for size in sizes:\n",
    "    tn, tna, run_id_n =  insert_data('numeric', size, nreps=nreps)\n",
    "    t_numeric.append(tn)\n",
    "    t_numeric_add.append(tna)\n",
    "    t_numeric_run_ids.append(run_id_n)\n",
    "\n",
    "    ta, taa, run_id_a =  insert_data('array', size, nreps=nreps)\n",
    "    t_array.append(ta)\n",
    "    t_array_add.append(taa)\n",
    "    t_array_run_ids.append(run_id_a)"
   ]
  },
  {
   "cell_type": "code",
   "execution_count": 8,
   "metadata": {
    "execution": {
     "iopub.execute_input": "2021-03-03T09:12:13.502564Z",
     "iopub.status.busy": "2021-03-03T09:12:13.486806Z",
     "iopub.status.idle": "2021-03-03T09:12:13.743682Z",
     "shell.execute_reply": "2021-03-03T09:12:13.743122Z"
    },
    "scrolled": true
   },
   "outputs": [
    {
     "data": {
      "image/png": "[encoded data removed]",
      "text/plain": [
       "<Figure size 432x288 with 1 Axes>"
      ]
     },
     "metadata": {
      "needs_background": "light"
     },
     "output_type": "display_data"
    }
   ],
   "source": [
    "fig, ax = plt.subplots(1,1)\n",
    "ax.plot(sizes, t_numeric, 'o-', label='Inserting row-by-row')\n",
    "ax.plot(sizes, t_numeric_add, 'o-', label='Inserting row-by-row: add_result only')\n",
    "ax.plot(sizes, t_array, 'd-', label='Inserting as binary blob')\n",
    "ax.plot(sizes, t_array_add, 'd-', label='Inserting as binary blob: add_result only')\n",
    "ax.legend()\n",
    "ax.set_xlabel('Array length')\n",
    "ax.set_ylabel('Time (s)')\n",
    "fig.tight_layout()"
   ]
  },
  {
   "cell_type": "markdown",
   "metadata": {},
   "source": [
    "However, as we increase the length of the experiment, as seen here by repeating the insertion 100 times, we see a big difference between inserting values of the data row-by-row and inserting it as a binary blob."
   ]
  },
  {
   "cell_type": "markdown",
   "metadata": {},
   "source": [
    "## Loading the data "
   ]
  },
  {
   "cell_type": "code",
   "execution_count": 9,
   "metadata": {
    "execution": {
     "iopub.execute_input": "2021-03-03T09:12:13.748368Z",
     "iopub.status.busy": "2021-03-03T09:12:13.747322Z",
     "iopub.status.idle": "2021-03-03T09:12:13.751927Z",
     "shell.execute_reply": "2021-03-03T09:12:13.751386Z"
    }
   },
   "outputs": [],
   "source": [
    "from qcodes.dataset.data_set import load_by_id\n",
    "from qcodes.dataset.data_export import get_data_by_id"
   ]
  },
  {
   "cell_type": "markdown",
   "metadata": {},
   "source": [
    "As usual you can load the data by using the ``load_by_id`` function but you will notice that the different storage methods\n",
    "are reflected in shape of the data as it is retrieved. "
   ]
  },
  {
   "cell_type": "code",
   "execution_count": 10,
   "metadata": {
    "execution": {
     "iopub.execute_input": "2021-03-03T09:12:13.756740Z",
     "iopub.status.busy": "2021-03-03T09:12:13.756090Z",
     "iopub.status.idle": "2021-03-03T09:12:13.761451Z",
     "shell.execute_reply": "2021-03-03T09:12:13.760472Z"
    }
   },
   "outputs": [],
   "source": [
    "run_id_n = t_numeric_run_ids[0]\n",
    "run_id_a = t_array_run_ids[0]"
   ]
  },
  {
   "cell_type": "code",
   "execution_count": 11,
   "metadata": {
    "execution": {
     "iopub.execute_input": "2021-03-03T09:12:13.765436Z",
     "iopub.status.busy": "2021-03-03T09:12:13.764777Z",
     "iopub.status.idle": "2021-03-03T09:12:13.775988Z",
     "shell.execute_reply": "2021-03-03T09:12:13.776531Z"
    },
    "scrolled": true
   },
   "outputs": [
    {
     "data": {
      "text/plain": [
       "{'x1': {'x1': array([0.58792629, 0.58792629, 0.80533264, 0.80533264, 0.81359386,\n",
       "         0.81359386, 0.60682705, 0.60682705, 0.06080421, 0.06080421,\n",
       "         0.59740438, 0.59740438, 0.19313434, 0.19313434, 0.35981631,\n",
       "         0.35981631, 0.02725592, 0.02725592, 0.03402615, 0.03402615,\n",
       "         0.38397764, 0.38397764, 0.37704134, 0.37704134, 0.03910726,\n",
       "         0.03910726, 0.59886681, 0.59886681, 0.95060733, 0.95060733,\n",
       "         0.15496857, 0.15496857, 0.26117458, 0.26117458, 0.31610754,\n",
       "         0.31610754, 0.97705464, 0.97705464, 0.23474913, 0.23474913,\n",
       "         0.32920917, 0.32920917, 0.48778868, 0.48778868, 0.70782919,\n",
       "         0.70782919, 0.67194814, 0.67194814, 0.20266355, 0.20266355,\n",
       "         0.87514529, 0.87514529, 0.84334932, 0.84334932, 0.80516499,\n",
       "         0.80516499, 0.19773995, 0.19773995, 0.84875172, 0.84875172,\n",
       "         0.75439911, 0.75439911, 0.06386848, 0.06386848, 0.59060192,\n",
       "         0.59060192, 0.51572106, 0.51572106, 0.69487088, 0.69487088,\n",
       "         0.97846184, 0.97846184, 0.76438264, 0.76438264, 0.45120271,\n",
       "         0.45120271, 0.87006903, 0.87006903, 0.01668179, 0.01668179,\n",
       "         0.5270985 , 0.5270985 , 0.56711003, 0.56711003, 0.91848475,\n",
       "         0.91848475, 0.01372666, 0.01372666, 0.65815913, 0.65815913,\n",
       "         0.43798258, 0.43798258, 0.94277848, 0.94277848, 0.87499626,\n",
       "         0.87499626, 0.94096979, 0.94096979, 0.02678342, 0.02678342,\n",
       "         0.96289839, 0.96289839, 0.16259635, 0.16259635, 0.45201369,\n",
       "         0.45201369, 0.39838371, 0.39838371, 0.54247511, 0.54247511,\n",
       "         0.3810596 , 0.3810596 , 0.54311837, 0.54311837, 0.87890815,\n",
       "         0.87890815, 0.85911124, 0.85911124, 0.21571288, 0.21571288,\n",
       "         0.84585615, 0.84585615, 0.37927652, 0.37927652, 0.18716273,\n",
       "         0.18716273, 0.87982484, 0.87982484, 0.16170219, 0.16170219,\n",
       "         0.18128465, 0.18128465, 0.52861144, 0.52861144, 0.93449406,\n",
       "         0.93449406, 0.11117797, 0.11117797, 0.3026728 , 0.3026728 ,\n",
       "         0.18956981, 0.18956981, 0.64591218, 0.64591218, 0.21999411,\n",
       "         0.21999411, 0.2902384 , 0.2902384 , 0.39896938, 0.39896938,\n",
       "         0.70399135, 0.70399135, 0.60637347, 0.60637347, 0.6748847 ,\n",
       "         0.6748847 , 0.06300368, 0.06300368, 0.28167694, 0.28167694,\n",
       "         0.73499899, 0.73499899, 0.67777184, 0.67777184, 0.71325655,\n",
       "         0.71325655, 0.4705098 , 0.4705098 , 0.09251023, 0.09251023,\n",
       "         0.88077137, 0.88077137, 0.35803872, 0.35803872, 0.36750483,\n",
       "         0.36750483, 0.16236841, 0.16236841, 0.01798406, 0.01798406,\n",
       "         0.11476528, 0.11476528, 0.25967248, 0.25967248, 0.03693457,\n",
       "         0.03693457, 0.91261831, 0.91261831, 0.98725696, 0.98725696,\n",
       "         0.21684463, 0.21684463, 0.02163338, 0.02163338, 0.38284883,\n",
       "         0.38284883, 0.39809603, 0.39809603, 0.19869939, 0.19869939])}}"
      ]
     },
     "execution_count": 1,
     "metadata": {},
     "output_type": "execute_result"
    }
   ],
   "source": [
    "ds = load_by_id(run_id_n)\n",
    "ds.get_parameter_data('x1')"
   ]
  },
  {
   "cell_type": "markdown",
   "metadata": {},
   "source": [
    "And a dataset stored as binary arrays"
   ]
  },
  {
   "cell_type": "code",
   "execution_count": 12,
   "metadata": {
    "execution": {
     "iopub.execute_input": "2021-03-03T09:12:13.780753Z",
     "iopub.status.busy": "2021-03-03T09:12:13.780116Z",
     "iopub.status.idle": "2021-03-03T09:12:13.853857Z",
     "shell.execute_reply": "2021-03-03T09:12:13.854399Z"
    },
    "scrolled": true
   },
   "outputs": [
    {
     "data": {
      "text/plain": [
       "{'x1': {'x1': array([[0.80237222],\n",
       "         [0.80237222],\n",
       "         [0.28643954],\n",
       "         [0.28643954],\n",
       "         [0.70835626],\n",
       "         [0.70835626],\n",
       "         [0.51268326],\n",
       "         [0.51268326],\n",
       "         [0.27462019],\n",
       "         [0.27462019],\n",
       "         [0.49377168],\n",
       "         [0.49377168],\n",
       "         [0.36366841],\n",
       "         [0.36366841],\n",
       "         [0.56439704],\n",
       "         [0.56439704],\n",
       "         [0.35802549],\n",
       "         [0.35802549],\n",
       "         [0.29825348],\n",
       "         [0.29825348],\n",
       "         [0.51357597],\n",
       "         [0.51357597],\n",
       "         [0.7505516 ],\n",
       "         [0.7505516 ],\n",
       "         [0.10724499],\n",
       "         [0.10724499],\n",
       "         [0.97164404],\n",
       "         [0.97164404],\n",
       "         [0.62438795],\n",
       "         [0.62438795],\n",
       "         [0.77743402],\n",
       "         [0.77743402],\n",
       "         [0.85757291],\n",
       "         [0.85757291],\n",
       "         [0.08424796],\n",
       "         [0.08424796],\n",
       "         [0.25190728],\n",
       "         [0.25190728],\n",
       "         [0.15396903],\n",
       "         [0.15396903],\n",
       "         [0.5896357 ],\n",
       "         [0.5896357 ],\n",
       "         [0.81266286],\n",
       "         [0.81266286],\n",
       "         [0.93298083],\n",
       "         [0.93298083],\n",
       "         [0.70397552],\n",
       "         [0.70397552],\n",
       "         [0.67405563],\n",
       "         [0.67405563],\n",
       "         [0.50267427],\n",
       "         [0.50267427],\n",
       "         [0.09191237],\n",
       "         [0.09191237],\n",
       "         [0.55117118],\n",
       "         [0.55117118],\n",
       "         [0.62621873],\n",
       "         [0.62621873],\n",
       "         [0.87861443],\n",
       "         [0.87861443],\n",
       "         [0.77231245],\n",
       "         [0.77231245],\n",
       "         [0.54607178],\n",
       "         [0.54607178],\n",
       "         [0.84887529],\n",
       "         [0.84887529],\n",
       "         [0.39622143],\n",
       "         [0.39622143],\n",
       "         [0.16132465],\n",
       "         [0.16132465],\n",
       "         [0.6567152 ],\n",
       "         [0.6567152 ],\n",
       "         [0.72841777],\n",
       "         [0.72841777],\n",
       "         [0.19270959],\n",
       "         [0.19270959],\n",
       "         [0.59130839],\n",
       "         [0.59130839],\n",
       "         [0.81446847],\n",
       "         [0.81446847],\n",
       "         [0.51777475],\n",
       "         [0.51777475],\n",
       "         [0.93113713],\n",
       "         [0.93113713],\n",
       "         [0.75066313],\n",
       "         [0.75066313],\n",
       "         [0.83413667],\n",
       "         [0.83413667],\n",
       "         [0.27205884],\n",
       "         [0.27205884],\n",
       "         [0.72622685],\n",
       "         [0.72622685],\n",
       "         [0.22131978],\n",
       "         [0.22131978],\n",
       "         [0.3001515 ],\n",
       "         [0.3001515 ],\n",
       "         [0.81713424],\n",
       "         [0.81713424],\n",
       "         [0.57037901],\n",
       "         [0.57037901],\n",
       "         [0.06779042],\n",
       "         [0.06779042],\n",
       "         [0.30099182],\n",
       "         [0.30099182],\n",
       "         [0.49103134],\n",
       "         [0.49103134],\n",
       "         [0.57119395],\n",
       "         [0.57119395],\n",
       "         [0.24784669],\n",
       "         [0.24784669],\n",
       "         [0.31008397],\n",
       "         [0.31008397],\n",
       "         [0.69681738],\n",
       "         [0.69681738],\n",
       "         [0.36989205],\n",
       "         [0.36989205],\n",
       "         [0.47605292],\n",
       "         [0.47605292],\n",
       "         [0.06891467],\n",
       "         [0.06891467],\n",
       "         [0.95088864],\n",
       "         [0.95088864],\n",
       "         [0.71689754],\n",
       "         [0.71689754],\n",
       "         [0.28327031],\n",
       "         [0.28327031],\n",
       "         [0.08940049],\n",
       "         [0.08940049],\n",
       "         [0.42485357],\n",
       "         [0.42485357],\n",
       "         [0.51828242],\n",
       "         [0.51828242],\n",
       "         [0.83016516],\n",
       "         [0.83016516],\n",
       "         [0.73584987],\n",
       "         [0.73584987],\n",
       "         [0.94624431],\n",
       "         [0.94624431],\n",
       "         [0.42350797],\n",
       "         [0.42350797],\n",
       "         [0.42643047],\n",
       "         [0.42643047],\n",
       "         [0.56968131],\n",
       "         [0.56968131],\n",
       "         [0.58376433],\n",
       "         [0.58376433],\n",
       "         [0.60768332],\n",
       "         [0.60768332],\n",
       "         [0.34021014],\n",
       "         [0.34021014],\n",
       "         [0.70978431],\n",
       "         [0.70978431],\n",
       "         [0.50614953],\n",
       "         [0.50614953],\n",
       "         [0.19377773],\n",
       "         [0.19377773],\n",
       "         [0.33127982],\n",
       "         [0.33127982],\n",
       "         [0.30898155],\n",
       "         [0.30898155],\n",
       "         [0.49800677],\n",
       "         [0.49800677],\n",
       "         [0.08364807],\n",
       "         [0.08364807],\n",
       "         [0.60550998],\n",
       "         [0.60550998],\n",
       "         [0.17595677],\n",
       "         [0.17595677],\n",
       "         [0.38273822],\n",
       "         [0.38273822],\n",
       "         [0.38076976],\n",
       "         [0.38076976],\n",
       "         [0.19751481],\n",
       "         [0.19751481],\n",
       "         [0.97989737],\n",
       "         [0.97989737],\n",
       "         [0.43393889],\n",
       "         [0.43393889],\n",
       "         [0.34477193],\n",
       "         [0.34477193],\n",
       "         [0.04614545],\n",
       "         [0.04614545],\n",
       "         [0.24720401],\n",
       "         [0.24720401],\n",
       "         [0.78298677],\n",
       "         [0.78298677],\n",
       "         [0.54184938],\n",
       "         [0.54184938],\n",
       "         [0.47763801],\n",
       "         [0.47763801],\n",
       "         [0.92237896],\n",
       "         [0.92237896],\n",
       "         [0.62941186],\n",
       "         [0.62941186],\n",
       "         [0.75976989],\n",
       "         [0.75976989],\n",
       "         [0.51910501],\n",
       "         [0.51910501],\n",
       "         [0.52054242],\n",
       "         [0.52054242]])}}"
      ]
     },
     "execution_count": 1,
     "metadata": {},
     "output_type": "execute_result"
    }
   ],
   "source": [
    "ds = load_by_id(run_id_a)\n",
    "ds.get_parameter_data('x1')"
   ]
  },
  {
   "cell_type": "code",
   "execution_count": null,
   "metadata": {},
   "outputs": [],
   "source": []
  }
 ],
 "metadata": {
  "kernelspec": {
   "display_name": "Python 3",
   "language": "python",
   "name": "python3"
  },
  "language_info": {
   "codemirror_mode": {
    "name": "ipython",
    "version": 3
   },
   "file_extension": ".py",
   "mimetype": "text/x-python",
   "name": "python",
   "nbconvert_exporter": "python",
   "pygments_lexer": "ipython3",
   "version": "3.7.10"
  },
  "nbsphinx": {
   "timeout": 600
  },
  "toc": {
   "base_numbering": 1,
   "nav_menu": {},
   "number_sections": true,
   "sideBar": true,
   "skip_h1_title": false,
   "title_cell": "Table of Contents",
   "title_sidebar": "Contents",
   "toc_cell": false,
   "toc_position": {},
   "toc_section_display": true,
   "toc_window_display": false
  },
  "varInspector": {
   "cols": {
    "lenName": 16,
    "lenType": 16,
    "lenVar": 40
   },
   "kernels_config": {
    "python": {
     "delete_cmd_postfix": "",
     "delete_cmd_prefix": "del ",
     "library": "var_list.py",
     "varRefreshCmd": "print(var_dic_list())"
    },
    "r": {
     "delete_cmd_postfix": ") ",
     "delete_cmd_prefix": "rm(",
     "library": "var_list.r",
     "varRefreshCmd": "cat(var_dic_list()) "
    }
   },
   "types_to_exclude": [
    "module",
    "function",
    "builtin_function_or_method",
    "instance",
    "_Feature"
   ],
   "window_display": false
  }
 },
 "nbformat": 4,
 "nbformat_minor": 2
}
