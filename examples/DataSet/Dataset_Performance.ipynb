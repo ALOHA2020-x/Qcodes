{
 "cells": [
  {
   "cell_type": "markdown",
   "metadata": {},
   "source": [
    "# DataSet Performance\n",
    "\n",
    "This notebook shows the trade-off between inserting data into a database row-by-row and as binary blobs. Inserting the data row-by-row means that we have direct access to all the data and may perform queries directly on the values of the data. On the other hand, as we shall see, this is much slower than inserting the data directly as binary blobs."
   ]
  },
  {
   "cell_type": "markdown",
   "metadata": {},
   "source": [
    "First, we choose a new location for the database to ensure that we don't add a bunch of benchmarking data to the default one."
   ]
  },
  {
   "cell_type": "code",
   "execution_count": 1,
   "metadata": {
    "execution": {
     "iopub.execute_input": "2021-04-08T12:19:48.995815Z",
     "iopub.status.busy": "2021-04-08T12:19:48.995041Z",
     "iopub.status.idle": "2021-04-08T12:19:50.195630Z",
     "shell.execute_reply": "2021-04-08T12:19:50.194604Z"
    }
   },
   "outputs": [
    {
     "name": "stdout",
     "output_type": "stream",
     "text": [
      "Logging hadn't been started.\n",
      "Activating auto-logging. Current session state plus future input saved.\n",
      "Filename       : /home/runner/.qcodes/logs/command_history.log\n",
      "Mode           : append\n",
      "Output logging : True\n",
      "Raw input log  : False\n",
      "Timestamping   : True\n",
      "State          : active\n"
     ]
    },
    {
     "name": "stdout",
     "output_type": "stream",
     "text": [
      "Qcodes Logfile : /home/runner/.qcodes/logs/210408-4592-qcodes.log\n"
     ]
    }
   ],
   "source": [
    "import os\n",
    "cwd = os.getcwd()\n",
    "import qcodes as qc\n",
    "qc.config[\"core\"][\"db_location\"] = os.path.join(cwd, 'testing.db')\n"
   ]
  },
  {
   "cell_type": "code",
   "execution_count": 2,
   "metadata": {
    "execution": {
     "iopub.execute_input": "2021-04-08T12:19:50.204140Z",
     "iopub.status.busy": "2021-04-08T12:19:50.202021Z",
     "iopub.status.idle": "2021-04-08T12:19:50.470615Z",
     "shell.execute_reply": "2021-04-08T12:19:50.469640Z"
    }
   },
   "outputs": [],
   "source": [
    "%matplotlib inline\n",
    "import time\n",
    "import matplotlib.pyplot as plt\n",
    "import numpy as np\n",
    "\n",
    "import qcodes as qc\n",
    "from qcodes.instrument.parameter import ManualParameter\n",
    "from qcodes.dataset.experiment_container import (Experiment,\n",
    "                                                 load_last_experiment,\n",
    "                                                 new_experiment)\n",
    "from qcodes.dataset.sqlite.database import initialise_database\n",
    "from qcodes import load_or_create_experiment\n",
    "from qcodes.dataset.measurements import Measurement"
   ]
  },
  {
   "cell_type": "code",
   "execution_count": 3,
   "metadata": {
    "execution": {
     "iopub.execute_input": "2021-04-08T12:19:50.475323Z",
     "iopub.status.busy": "2021-04-08T12:19:50.474096Z",
     "iopub.status.idle": "2021-04-08T12:19:50.563757Z",
     "shell.execute_reply": "2021-04-08T12:19:50.564275Z"
    }
   },
   "outputs": [
    {
     "name": "stdout",
     "output_type": "stream",
     "text": [
      "\r",
      "0it [00:00, ?it/s]"
     ]
    },
    {
     "name": "stdout",
     "output_type": "stream",
     "text": [
      "\r",
      "Upgrading database; v0 -> v1: : 0it [00:00, ?it/s]"
     ]
    },
    {
     "name": "stdout",
     "output_type": "stream",
     "text": [
      "\r",
      "Upgrading database; v0 -> v1: : 0it [00:00, ?it/s]"
     ]
    },
    {
     "name": "stdout",
     "output_type": "stream",
     "text": [
      "\n",
      "\r",
      "  0%|          | 0/1 [00:00<?, ?it/s]"
     ]
    },
    {
     "name": "stdout",
     "output_type": "stream",
     "text": [
      "\r",
      "Upgrading database; v1 -> v2:   0%|          | 0/1 [00:00<?, ?it/s]"
     ]
    },
    {
     "name": "stdout",
     "output_type": "stream",
     "text": [
      "\r",
      "Upgrading database; v1 -> v2: 100%|██████████| 1/1 [00:00<00:00, 387.29it/s]"
     ]
    },
    {
     "name": "stdout",
     "output_type": "stream",
     "text": [
      "\n",
      "\r",
      "0it [00:00, ?it/s]"
     ]
    },
    {
     "name": "stdout",
     "output_type": "stream",
     "text": [
      "\r",
      "Upgrading database; v2 -> v3: : 0it [00:00, ?it/s]"
     ]
    },
    {
     "name": "stdout",
     "output_type": "stream",
     "text": [
      "\r",
      "Upgrading database; v2 -> v3: : 0it [00:00, ?it/s]"
     ]
    },
    {
     "name": "stdout",
     "output_type": "stream",
     "text": [
      "\n",
      "\r",
      "0it [00:00, ?it/s]"
     ]
    },
    {
     "name": "stdout",
     "output_type": "stream",
     "text": [
      "\r",
      "Upgrading database; v3 -> v4: : 0it [00:00, ?it/s]"
     ]
    },
    {
     "name": "stdout",
     "output_type": "stream",
     "text": [
      "\r",
      "Upgrading database; v3 -> v4: : 0it [00:00, ?it/s]"
     ]
    },
    {
     "name": "stdout",
     "output_type": "stream",
     "text": [
      "\n",
      "\r",
      "  0%|          | 0/1 [00:00<?, ?it/s]"
     ]
    },
    {
     "name": "stdout",
     "output_type": "stream",
     "text": [
      "\r",
      "Upgrading database; v4 -> v5:   0%|          | 0/1 [00:00<?, ?it/s]"
     ]
    },
    {
     "name": "stdout",
     "output_type": "stream",
     "text": [
      "\r",
      "Upgrading database; v4 -> v5: 100%|██████████| 1/1 [00:00<00:00, 486.63it/s]"
     ]
    },
    {
     "name": "stdout",
     "output_type": "stream",
     "text": [
      "\n",
      "\r",
      "0it [00:00, ?it/s]"
     ]
    },
    {
     "name": "stdout",
     "output_type": "stream",
     "text": [
      "\r",
      "Upgrading database; v5 -> v6: : 0it [00:00, ?it/s]"
     ]
    },
    {
     "name": "stdout",
     "output_type": "stream",
     "text": [
      "\r",
      "Upgrading database; v5 -> v6: : 0it [00:00, ?it/s]"
     ]
    },
    {
     "name": "stdout",
     "output_type": "stream",
     "text": [
      "\n",
      "\r",
      "  0%|          | 0/1 [00:00<?, ?it/s]"
     ]
    },
    {
     "name": "stdout",
     "output_type": "stream",
     "text": [
      "\r",
      "Upgrading database; v6 -> v7:   0%|          | 0/1 [00:00<?, ?it/s]"
     ]
    },
    {
     "name": "stdout",
     "output_type": "stream",
     "text": [
      "\r",
      "Upgrading database; v6 -> v7: 100%|██████████| 1/1 [00:00<00:00, 384.27it/s]"
     ]
    },
    {
     "name": "stdout",
     "output_type": "stream",
     "text": [
      "\n",
      "\r",
      "  0%|          | 0/1 [00:00<?, ?it/s]"
     ]
    },
    {
     "name": "stdout",
     "output_type": "stream",
     "text": [
      "\r",
      "Upgrading database; v7 -> v8:   0%|          | 0/1 [00:00<?, ?it/s]"
     ]
    },
    {
     "name": "stdout",
     "output_type": "stream",
     "text": [
      "\r",
      "Upgrading database; v7 -> v8: 100%|██████████| 1/1 [00:00<00:00, 284.17it/s]"
     ]
    },
    {
     "name": "stdout",
     "output_type": "stream",
     "text": [
      "\n",
      "\r",
      "  0%|          | 0/1 [00:00<?, ?it/s]"
     ]
    },
    {
     "name": "stdout",
     "output_type": "stream",
     "text": [
      "\r",
      "Upgrading database; v8 -> v9:   0%|          | 0/1 [00:00<?, ?it/s]"
     ]
    },
    {
     "name": "stdout",
     "output_type": "stream",
     "text": [
      "\r",
      "Upgrading database; v8 -> v9: 100%|██████████| 1/1 [00:00<00:00, 448.16it/s]"
     ]
    },
    {
     "name": "stdout",
     "output_type": "stream",
     "text": [
      "\n"
     ]
    }
   ],
   "source": [
    "initialise_database()\n",
    "exp = load_or_create_experiment(experiment_name='tutorial_exp', sample_name=\"no sample\")"
   ]
  },
  {
   "cell_type": "markdown",
   "metadata": {},
   "source": [
    "Here, we define a simple function to benchmark the time it takes to insert n points with either numeric or array data type.\n",
    "We will compare both the time used to call ``add_result`` and the time used for the full measurement."
   ]
  },
  {
   "cell_type": "code",
   "execution_count": 4,
   "metadata": {
    "execution": {
     "iopub.execute_input": "2021-04-08T12:19:50.573556Z",
     "iopub.status.busy": "2021-04-08T12:19:50.572840Z",
     "iopub.status.idle": "2021-04-08T12:19:50.577219Z",
     "shell.execute_reply": "2021-04-08T12:19:50.577747Z"
    }
   },
   "outputs": [],
   "source": [
    "def insert_data(paramtype, npoints, nreps=1):\n",
    "\n",
    "    meas = Measurement(exp=exp)\n",
    "\n",
    "    x1 = ManualParameter('x1')\n",
    "    x2 = ManualParameter('x2')\n",
    "    x3 = ManualParameter('x3')\n",
    "    y1 = ManualParameter('y1')\n",
    "    y2 = ManualParameter('y2')\n",
    "\n",
    "    meas.register_parameter(x1, paramtype=paramtype)\n",
    "    meas.register_parameter(x2, paramtype=paramtype)\n",
    "    meas.register_parameter(x3, paramtype=paramtype)\n",
    "    meas.register_parameter(y1, setpoints=[x1, x2, x3],\n",
    "                            paramtype=paramtype)\n",
    "    meas.register_parameter(y2, setpoints=[x1, x2, x3],\n",
    "                            paramtype=paramtype)\n",
    "    start = time.perf_counter()\n",
    "    with meas.run() as datasaver:\n",
    "        start_adding = time.perf_counter()\n",
    "        for i in range(nreps):\n",
    "            datasaver.add_result((x1, np.random.rand(npoints)),\n",
    "                                 (x2, np.random.rand(npoints)),\n",
    "                                 (x3, np.random.rand(npoints)),\n",
    "                                 (y1, np.random.rand(npoints)),\n",
    "                                 (y2, np.random.rand(npoints)))\n",
    "        stop_adding = time.perf_counter()\n",
    "        run_id = datasaver.run_id\n",
    "    stop = time.perf_counter()\n",
    "    tot_time = stop - start\n",
    "    add_time = stop_adding - start_adding\n",
    "    return tot_time, add_time, run_id"
   ]
  },
  {
   "cell_type": "markdown",
   "metadata": {},
   "source": [
    "## Comparison between numeric/array data and binary blob"
   ]
  },
  {
   "cell_type": "markdown",
   "metadata": {},
   "source": [
    "### Case1: Short experiment time"
   ]
  },
  {
   "cell_type": "code",
   "execution_count": 5,
   "metadata": {
    "execution": {
     "iopub.execute_input": "2021-04-08T12:19:50.584908Z",
     "iopub.status.busy": "2021-04-08T12:19:50.582494Z",
     "iopub.status.idle": "2021-04-08T12:19:51.505296Z",
     "shell.execute_reply": "2021-04-08T12:19:51.505793Z"
    }
   },
   "outputs": [
    {
     "name": "stdout",
     "output_type": "stream",
     "text": [
      "Starting experimental run with id: 1. \n",
      "Starting experimental run with id: 2. \n",
      "Starting experimental run with id: 3. \n",
      "Starting experimental run with id: 4. \n"
     ]
    },
    {
     "name": "stdout",
     "output_type": "stream",
     "text": [
      "Starting experimental run with id: 5. \n"
     ]
    },
    {
     "name": "stdout",
     "output_type": "stream",
     "text": [
      "Starting experimental run with id: 6. \n",
      "Starting experimental run with id: 7. \n"
     ]
    },
    {
     "name": "stdout",
     "output_type": "stream",
     "text": [
      "Starting experimental run with id: 8. \n",
      "Starting experimental run with id: 9. \n"
     ]
    },
    {
     "name": "stdout",
     "output_type": "stream",
     "text": [
      "Starting experimental run with id: 10. \n",
      "Starting experimental run with id: 11. \n"
     ]
    },
    {
     "name": "stdout",
     "output_type": "stream",
     "text": [
      "Starting experimental run with id: 12. \n",
      "Starting experimental run with id: 13. \n"
     ]
    },
    {
     "name": "stdout",
     "output_type": "stream",
     "text": [
      "Starting experimental run with id: 14. \n"
     ]
    }
   ],
   "source": [
    "sizes = [1,500,1000,2000,3000,4000,5000]\n",
    "t_numeric = []\n",
    "t_numeric_add = []\n",
    "t_array = []\n",
    "t_array_add = []\n",
    "for size in sizes:\n",
    "    tn, tna, run_id_n =  insert_data('numeric', size)\n",
    "    t_numeric.append(tn)\n",
    "    t_numeric_add.append(tna)\n",
    "\n",
    "    ta, taa, run_id_a =  insert_data('array', size)\n",
    "    t_array.append(ta)\n",
    "    t_array_add.append(taa)"
   ]
  },
  {
   "cell_type": "code",
   "execution_count": 6,
   "metadata": {
    "execution": {
     "iopub.execute_input": "2021-04-08T12:19:51.528706Z",
     "iopub.status.busy": "2021-04-08T12:19:51.527984Z",
     "iopub.status.idle": "2021-04-08T12:19:51.767147Z",
     "shell.execute_reply": "2021-04-08T12:19:51.768051Z"
    }
   },
   "outputs": [
    {
     "data": {
      "image/png": "[encoded data removed]",
      "text/plain": [
       "<Figure size 432x288 with 1 Axes>"
      ]
     },
     "metadata": {
      "needs_background": "light"
     },
     "output_type": "display_data"
    }
   ],
   "source": [
    "fig, ax = plt.subplots(1,1)\n",
    "ax.plot(sizes, t_numeric, 'o-', label='Inserting row-by-row')\n",
    "ax.plot(sizes, t_numeric_add, 'o-', label='Inserting row-by-row: add_result only')\n",
    "ax.plot(sizes, t_array, 'd-', label='Inserting as binary blob')\n",
    "ax.plot(sizes, t_array_add, 'd-', label='Inserting as binary blob: add_result only')\n",
    "ax.legend()\n",
    "ax.set_xlabel('Array length')\n",
    "ax.set_ylabel('Time (s)')\n",
    "fig.tight_layout()"
   ]
  },
  {
   "cell_type": "markdown",
   "metadata": {},
   "source": [
    "As shown in the latter figure, the time to setup and and close the experiment is approximately 0.4 sec. In case of small array sizes, the difference between inserting values of data as arrays and inserting them row-by-row is relatively unimportant. At larger array sizes, i.e. above 10000 points, the cost of writing data as individual datapoints starts to become important.\n"
   ]
  },
  {
   "cell_type": "markdown",
   "metadata": {},
   "source": [
    "### Case2: Long experiment time "
   ]
  },
  {
   "cell_type": "code",
   "execution_count": 7,
   "metadata": {
    "execution": {
     "iopub.execute_input": "2021-04-08T12:19:51.777552Z",
     "iopub.status.busy": "2021-04-08T12:19:51.775124Z",
     "iopub.status.idle": "2021-04-08T12:20:54.193775Z",
     "shell.execute_reply": "2021-04-08T12:20:54.192796Z"
    }
   },
   "outputs": [
    {
     "name": "stdout",
     "output_type": "stream",
     "text": [
      "Starting experimental run with id: 15. \n",
      "Starting experimental run with id: 16. \n"
     ]
    },
    {
     "name": "stdout",
     "output_type": "stream",
     "text": [
      "Starting experimental run with id: 17. \n"
     ]
    },
    {
     "name": "stdout",
     "output_type": "stream",
     "text": [
      "Starting experimental run with id: 18. \n"
     ]
    },
    {
     "name": "stdout",
     "output_type": "stream",
     "text": [
      "Starting experimental run with id: 19. \n"
     ]
    },
    {
     "name": "stdout",
     "output_type": "stream",
     "text": [
      "Starting experimental run with id: 20. \n"
     ]
    },
    {
     "name": "stdout",
     "output_type": "stream",
     "text": [
      "Starting experimental run with id: 21. \n"
     ]
    },
    {
     "name": "stdout",
     "output_type": "stream",
     "text": [
      "Starting experimental run with id: 22. \n"
     ]
    },
    {
     "name": "stdout",
     "output_type": "stream",
     "text": [
      "Starting experimental run with id: 23. \n"
     ]
    },
    {
     "name": "stdout",
     "output_type": "stream",
     "text": [
      "Starting experimental run with id: 24. \n"
     ]
    },
    {
     "name": "stdout",
     "output_type": "stream",
     "text": [
      "Starting experimental run with id: 25. \n"
     ]
    },
    {
     "name": "stdout",
     "output_type": "stream",
     "text": [
      "Starting experimental run with id: 26. \n"
     ]
    },
    {
     "name": "stdout",
     "output_type": "stream",
     "text": [
      "Starting experimental run with id: 27. \n"
     ]
    },
    {
     "name": "stdout",
     "output_type": "stream",
     "text": [
      "Starting experimental run with id: 28. \n"
     ]
    }
   ],
   "source": [
    "sizes = [1,500,1000,2000,3000,4000,5000]\n",
    "nreps = 100\n",
    "t_numeric = []\n",
    "t_numeric_add = []\n",
    "t_numeric_run_ids = []\n",
    "t_array = []\n",
    "t_array_add = []\n",
    "t_array_run_ids = []\n",
    "for size in sizes:\n",
    "    tn, tna, run_id_n =  insert_data('numeric', size, nreps=nreps)\n",
    "    t_numeric.append(tn)\n",
    "    t_numeric_add.append(tna)\n",
    "    t_numeric_run_ids.append(run_id_n)\n",
    "\n",
    "    ta, taa, run_id_a =  insert_data('array', size, nreps=nreps)\n",
    "    t_array.append(ta)\n",
    "    t_array_add.append(taa)\n",
    "    t_array_run_ids.append(run_id_a)"
   ]
  },
  {
   "cell_type": "code",
   "execution_count": 8,
   "metadata": {
    "execution": {
     "iopub.execute_input": "2021-04-08T12:20:54.248956Z",
     "iopub.status.busy": "2021-04-08T12:20:54.247542Z",
     "iopub.status.idle": "2021-04-08T12:20:54.431701Z",
     "shell.execute_reply": "2021-04-08T12:20:54.432776Z"
    },
    "scrolled": true
   },
   "outputs": [
    {
     "data": {
      "image/png": "[encoded data removed]",
      "text/plain": [
       "<Figure size 432x288 with 1 Axes>"
      ]
     },
     "metadata": {
      "needs_background": "light"
     },
     "output_type": "display_data"
    }
   ],
   "source": [
    "fig, ax = plt.subplots(1,1)\n",
    "ax.plot(sizes, t_numeric, 'o-', label='Inserting row-by-row')\n",
    "ax.plot(sizes, t_numeric_add, 'o-', label='Inserting row-by-row: add_result only')\n",
    "ax.plot(sizes, t_array, 'd-', label='Inserting as binary blob')\n",
    "ax.plot(sizes, t_array_add, 'd-', label='Inserting as binary blob: add_result only')\n",
    "ax.legend()\n",
    "ax.set_xlabel('Array length')\n",
    "ax.set_ylabel('Time (s)')\n",
    "fig.tight_layout()"
   ]
  },
  {
   "cell_type": "markdown",
   "metadata": {},
   "source": [
    "However, as we increase the length of the experiment, as seen here by repeating the insertion 100 times, we see a big difference between inserting values of the data row-by-row and inserting it as a binary blob."
   ]
  },
  {
   "cell_type": "markdown",
   "metadata": {},
   "source": [
    "## Loading the data "
   ]
  },
  {
   "cell_type": "code",
   "execution_count": 9,
   "metadata": {
    "execution": {
     "iopub.execute_input": "2021-04-08T12:20:54.438222Z",
     "iopub.status.busy": "2021-04-08T12:20:54.436922Z",
     "iopub.status.idle": "2021-04-08T12:20:54.441037Z",
     "shell.execute_reply": "2021-04-08T12:20:54.440379Z"
    }
   },
   "outputs": [],
   "source": [
    "from qcodes.dataset.data_set import load_by_id\n",
    "from qcodes.dataset.data_export import get_data_by_id"
   ]
  },
  {
   "cell_type": "markdown",
   "metadata": {},
   "source": [
    "As usual you can load the data by using the ``load_by_id`` function but you will notice that the different storage methods\n",
    "are reflected in shape of the data as it is retrieved. "
   ]
  },
  {
   "cell_type": "code",
   "execution_count": 10,
   "metadata": {
    "execution": {
     "iopub.execute_input": "2021-04-08T12:20:54.445654Z",
     "iopub.status.busy": "2021-04-08T12:20:54.444732Z",
     "iopub.status.idle": "2021-04-08T12:20:54.447539Z",
     "shell.execute_reply": "2021-04-08T12:20:54.446982Z"
    }
   },
   "outputs": [],
   "source": [
    "run_id_n = t_numeric_run_ids[0]\n",
    "run_id_a = t_array_run_ids[0]"
   ]
  },
  {
   "cell_type": "code",
   "execution_count": 11,
   "metadata": {
    "execution": {
     "iopub.execute_input": "2021-04-08T12:20:54.451492Z",
     "iopub.status.busy": "2021-04-08T12:20:54.450837Z",
     "iopub.status.idle": "2021-04-08T12:20:54.461791Z",
     "shell.execute_reply": "2021-04-08T12:20:54.461246Z"
    },
    "scrolled": true
   },
   "outputs": [
    {
     "data": {
      "text/plain": [
       "{'x1': {'x1': array([0.84483737, 0.84483737, 0.50485955, 0.50485955, 0.81368516,\n",
       "         0.81368516, 0.53355413, 0.53355413, 0.62683062, 0.62683062,\n",
       "         0.77957873, 0.77957873, 0.19901058, 0.19901058, 0.97562651,\n",
       "         0.97562651, 0.52411214, 0.52411214, 0.5009925 , 0.5009925 ,\n",
       "         0.78417311, 0.78417311, 0.68684582, 0.68684582, 0.89763173,\n",
       "         0.89763173, 0.98383306, 0.98383306, 0.7170072 , 0.7170072 ,\n",
       "         0.74167066, 0.74167066, 0.40175796, 0.40175796, 0.88819186,\n",
       "         0.88819186, 0.02391561, 0.02391561, 0.15382966, 0.15382966,\n",
       "         0.06946393, 0.06946393, 0.11178543, 0.11178543, 0.52844665,\n",
       "         0.52844665, 0.27661915, 0.27661915, 0.12592363, 0.12592363,\n",
       "         0.49808035, 0.49808035, 0.12916415, 0.12916415, 0.18174678,\n",
       "         0.18174678, 0.19956789, 0.19956789, 0.714109  , 0.714109  ,\n",
       "         0.83876065, 0.83876065, 0.5071357 , 0.5071357 , 0.21225486,\n",
       "         0.21225486, 0.101193  , 0.101193  , 0.21194437, 0.21194437,\n",
       "         0.87142003, 0.87142003, 0.24693545, 0.24693545, 0.14092864,\n",
       "         0.14092864, 0.61057053, 0.61057053, 0.98156524, 0.98156524,\n",
       "         0.2519278 , 0.2519278 , 0.59096092, 0.59096092, 0.22075167,\n",
       "         0.22075167, 0.77989461, 0.77989461, 0.64498907, 0.64498907,\n",
       "         0.67413039, 0.67413039, 0.03584666, 0.03584666, 0.20400359,\n",
       "         0.20400359, 0.29544684, 0.29544684, 0.81136934, 0.81136934,\n",
       "         0.37227456, 0.37227456, 0.38931387, 0.38931387, 0.9204646 ,\n",
       "         0.9204646 , 0.66143472, 0.66143472, 0.28636603, 0.28636603,\n",
       "         0.42089021, 0.42089021, 0.4415774 , 0.4415774 , 0.60247206,\n",
       "         0.60247206, 0.40302015, 0.40302015, 0.56350267, 0.56350267,\n",
       "         0.32286528, 0.32286528, 0.83027949, 0.83027949, 0.93766193,\n",
       "         0.93766193, 0.51505555, 0.51505555, 0.52156444, 0.52156444,\n",
       "         0.47174894, 0.47174894, 0.77358816, 0.77358816, 0.83620386,\n",
       "         0.83620386, 0.50757056, 0.50757056, 0.9112769 , 0.9112769 ,\n",
       "         0.24730359, 0.24730359, 0.35130886, 0.35130886, 0.55892246,\n",
       "         0.55892246, 0.57006668, 0.57006668, 0.51355257, 0.51355257,\n",
       "         0.87685305, 0.87685305, 0.1360474 , 0.1360474 , 0.35491005,\n",
       "         0.35491005, 0.95200788, 0.95200788, 0.5581647 , 0.5581647 ,\n",
       "         0.25611968, 0.25611968, 0.52366053, 0.52366053, 0.36099313,\n",
       "         0.36099313, 0.34766544, 0.34766544, 0.67979998, 0.67979998,\n",
       "         0.66311614, 0.66311614, 0.68523339, 0.68523339, 0.46396879,\n",
       "         0.46396879, 0.95414332, 0.95414332, 0.18282966, 0.18282966,\n",
       "         0.40173245, 0.40173245, 0.97922978, 0.97922978, 0.19601585,\n",
       "         0.19601585, 0.35422625, 0.35422625, 0.87647022, 0.87647022,\n",
       "         0.75565475, 0.75565475, 0.7140484 , 0.7140484 , 0.74900958,\n",
       "         0.74900958, 0.0229422 , 0.0229422 , 0.68705634, 0.68705634])}}"
      ]
     },
     "execution_count": 1,
     "metadata": {},
     "output_type": "execute_result"
    }
   ],
   "source": [
    "ds = load_by_id(run_id_n)\n",
    "ds.get_parameter_data('x1')"
   ]
  },
  {
   "cell_type": "markdown",
   "metadata": {},
   "source": [
    "And a dataset stored as binary arrays"
   ]
  },
  {
   "cell_type": "code",
   "execution_count": 12,
   "metadata": {
    "execution": {
     "iopub.execute_input": "2021-04-08T12:20:54.467439Z",
     "iopub.status.busy": "2021-04-08T12:20:54.466746Z",
     "iopub.status.idle": "2021-04-08T12:20:54.539708Z",
     "shell.execute_reply": "2021-04-08T12:20:54.540280Z"
    },
    "scrolled": true
   },
   "outputs": [
    {
     "data": {
      "text/plain": [
       "{'x1': {'x1': array([[0.85167131],\n",
       "         [0.85167131],\n",
       "         [0.03429163],\n",
       "         [0.03429163],\n",
       "         [0.77149898],\n",
       "         [0.77149898],\n",
       "         [0.5950228 ],\n",
       "         [0.5950228 ],\n",
       "         [0.78607812],\n",
       "         [0.78607812],\n",
       "         [0.47632506],\n",
       "         [0.47632506],\n",
       "         [0.92992423],\n",
       "         [0.92992423],\n",
       "         [0.23989475],\n",
       "         [0.23989475],\n",
       "         [0.06043988],\n",
       "         [0.06043988],\n",
       "         [0.41837077],\n",
       "         [0.41837077],\n",
       "         [0.40696761],\n",
       "         [0.40696761],\n",
       "         [0.48525348],\n",
       "         [0.48525348],\n",
       "         [0.01875321],\n",
       "         [0.01875321],\n",
       "         [0.76242473],\n",
       "         [0.76242473],\n",
       "         [0.82426589],\n",
       "         [0.82426589],\n",
       "         [0.89992359],\n",
       "         [0.89992359],\n",
       "         [0.1260693 ],\n",
       "         [0.1260693 ],\n",
       "         [0.51422946],\n",
       "         [0.51422946],\n",
       "         [0.17171303],\n",
       "         [0.17171303],\n",
       "         [0.06674504],\n",
       "         [0.06674504],\n",
       "         [0.62102281],\n",
       "         [0.62102281],\n",
       "         [0.83303296],\n",
       "         [0.83303296],\n",
       "         [0.46586386],\n",
       "         [0.46586386],\n",
       "         [0.28432387],\n",
       "         [0.28432387],\n",
       "         [0.00718612],\n",
       "         [0.00718612],\n",
       "         [0.90270101],\n",
       "         [0.90270101],\n",
       "         [0.84748978],\n",
       "         [0.84748978],\n",
       "         [0.13298909],\n",
       "         [0.13298909],\n",
       "         [0.92841767],\n",
       "         [0.92841767],\n",
       "         [0.62187629],\n",
       "         [0.62187629],\n",
       "         [0.58094445],\n",
       "         [0.58094445],\n",
       "         [0.42835397],\n",
       "         [0.42835397],\n",
       "         [0.99877504],\n",
       "         [0.99877504],\n",
       "         [0.13902696],\n",
       "         [0.13902696],\n",
       "         [0.8660214 ],\n",
       "         [0.8660214 ],\n",
       "         [0.94120938],\n",
       "         [0.94120938],\n",
       "         [0.85675961],\n",
       "         [0.85675961],\n",
       "         [0.144746  ],\n",
       "         [0.144746  ],\n",
       "         [0.49495661],\n",
       "         [0.49495661],\n",
       "         [0.88369444],\n",
       "         [0.88369444],\n",
       "         [0.21383834],\n",
       "         [0.21383834],\n",
       "         [0.27303582],\n",
       "         [0.27303582],\n",
       "         [0.69684025],\n",
       "         [0.69684025],\n",
       "         [0.13573699],\n",
       "         [0.13573699],\n",
       "         [0.70766349],\n",
       "         [0.70766349],\n",
       "         [0.49648561],\n",
       "         [0.49648561],\n",
       "         [0.85483418],\n",
       "         [0.85483418],\n",
       "         [0.59081142],\n",
       "         [0.59081142],\n",
       "         [0.35640686],\n",
       "         [0.35640686],\n",
       "         [0.19285217],\n",
       "         [0.19285217],\n",
       "         [0.40812144],\n",
       "         [0.40812144],\n",
       "         [0.14796939],\n",
       "         [0.14796939],\n",
       "         [0.94613487],\n",
       "         [0.94613487],\n",
       "         [0.72544657],\n",
       "         [0.72544657],\n",
       "         [0.80140888],\n",
       "         [0.80140888],\n",
       "         [0.58176708],\n",
       "         [0.58176708],\n",
       "         [0.94909975],\n",
       "         [0.94909975],\n",
       "         [0.19874007],\n",
       "         [0.19874007],\n",
       "         [0.88978437],\n",
       "         [0.88978437],\n",
       "         [0.19551581],\n",
       "         [0.19551581],\n",
       "         [0.46472959],\n",
       "         [0.46472959],\n",
       "         [0.45722894],\n",
       "         [0.45722894],\n",
       "         [0.30326453],\n",
       "         [0.30326453],\n",
       "         [0.15165973],\n",
       "         [0.15165973],\n",
       "         [0.96729306],\n",
       "         [0.96729306],\n",
       "         [0.22247344],\n",
       "         [0.22247344],\n",
       "         [0.96280565],\n",
       "         [0.96280565],\n",
       "         [0.7447104 ],\n",
       "         [0.7447104 ],\n",
       "         [0.26024186],\n",
       "         [0.26024186],\n",
       "         [0.27206251],\n",
       "         [0.27206251],\n",
       "         [0.80307366],\n",
       "         [0.80307366],\n",
       "         [0.90987926],\n",
       "         [0.90987926],\n",
       "         [0.56540782],\n",
       "         [0.56540782],\n",
       "         [0.42598637],\n",
       "         [0.42598637],\n",
       "         [0.90665908],\n",
       "         [0.90665908],\n",
       "         [0.07506208],\n",
       "         [0.07506208],\n",
       "         [0.34901464],\n",
       "         [0.34901464],\n",
       "         [0.46515037],\n",
       "         [0.46515037],\n",
       "         [0.46245536],\n",
       "         [0.46245536],\n",
       "         [0.97749722],\n",
       "         [0.97749722],\n",
       "         [0.19717074],\n",
       "         [0.19717074],\n",
       "         [0.34672416],\n",
       "         [0.34672416],\n",
       "         [0.73060954],\n",
       "         [0.73060954],\n",
       "         [0.47467504],\n",
       "         [0.47467504],\n",
       "         [0.45339779],\n",
       "         [0.45339779],\n",
       "         [0.39222738],\n",
       "         [0.39222738],\n",
       "         [0.97620879],\n",
       "         [0.97620879],\n",
       "         [0.02828781],\n",
       "         [0.02828781],\n",
       "         [0.49324802],\n",
       "         [0.49324802],\n",
       "         [0.3065807 ],\n",
       "         [0.3065807 ],\n",
       "         [0.49841143],\n",
       "         [0.49841143],\n",
       "         [0.51203814],\n",
       "         [0.51203814],\n",
       "         [0.42961253],\n",
       "         [0.42961253],\n",
       "         [0.72385919],\n",
       "         [0.72385919],\n",
       "         [0.82504704],\n",
       "         [0.82504704],\n",
       "         [0.10496544],\n",
       "         [0.10496544],\n",
       "         [0.74603085],\n",
       "         [0.74603085],\n",
       "         [0.20492904],\n",
       "         [0.20492904],\n",
       "         [0.7902135 ],\n",
       "         [0.7902135 ],\n",
       "         [0.6551177 ],\n",
       "         [0.6551177 ]])}}"
      ]
     },
     "execution_count": 1,
     "metadata": {},
     "output_type": "execute_result"
    }
   ],
   "source": [
    "ds = load_by_id(run_id_a)\n",
    "ds.get_parameter_data('x1')"
   ]
  },
  {
   "cell_type": "code",
   "execution_count": null,
   "metadata": {},
   "outputs": [],
   "source": []
  }
 ],
 "metadata": {
  "kernelspec": {
   "display_name": "Python 3",
   "language": "python",
   "name": "python3"
  },
  "language_info": {
   "codemirror_mode": {
    "name": "ipython",
    "version": 3
   },
   "file_extension": ".py",
   "mimetype": "text/x-python",
   "name": "python",
   "nbconvert_exporter": "python",
   "pygments_lexer": "ipython3",
   "version": "3.7.10"
  },
  "nbsphinx": {
   "timeout": 600
  },
  "toc": {
   "base_numbering": 1,
   "nav_menu": {},
   "number_sections": true,
   "sideBar": true,
   "skip_h1_title": false,
   "title_cell": "Table of Contents",
   "title_sidebar": "Contents",
   "toc_cell": false,
   "toc_position": {},
   "toc_section_display": true,
   "toc_window_display": false
  },
  "varInspector": {
   "cols": {
    "lenName": 16,
    "lenType": 16,
    "lenVar": 40
   },
   "kernels_config": {
    "python": {
     "delete_cmd_postfix": "",
     "delete_cmd_prefix": "del ",
     "library": "var_list.py",
     "varRefreshCmd": "print(var_dic_list())"
    },
    "r": {
     "delete_cmd_postfix": ") ",
     "delete_cmd_prefix": "rm(",
     "library": "var_list.r",
     "varRefreshCmd": "cat(var_dic_list()) "
    }
   },
   "types_to_exclude": [
    "module",
    "function",
    "builtin_function_or_method",
    "instance",
    "_Feature"
   ],
   "window_display": false
  }
 },
 "nbformat": 4,
 "nbformat_minor": 2
}
