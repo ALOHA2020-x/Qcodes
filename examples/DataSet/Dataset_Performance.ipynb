{
 "cells": [
  {
   "cell_type": "markdown",
   "metadata": {},
   "source": [
    "# DataSet Performance\n",
    "\n",
    "This notebook shows the trade-off between inserting data into a database row-by-row and as binary blobs. Inserting the data row-by-row means that we have direct access to all the data and may perform queries directly on the values of the data. On the other hand, as we shall see, this is much slower than inserting the data directly as binary blobs."
   ]
  },
  {
   "cell_type": "markdown",
   "metadata": {},
   "source": [
    "First, we choose a new location for the database to ensure that we don't add a bunch of benchmarking data to the default one."
   ]
  },
  {
   "cell_type": "code",
   "execution_count": 1,
   "metadata": {},
   "outputs": [
    {
     "name": "stdout",
     "output_type": "stream",
     "text": [
      "Logging hadn't been started.\n",
      "Activating auto-logging. Current session state plus future input saved.\n",
      "Filename       : /home/vsts/.qcodes/logs/command_history.log\n",
      "Mode           : append\n",
      "Output logging : True\n",
      "Raw input log  : False\n",
      "Timestamping   : True\n",
      "State          : active\n"
     ]
    },
    {
     "name": "stdout",
     "output_type": "stream",
     "text": [
      "Qcodes Logfile : /home/vsts/.qcodes/logs/200520-19194-qcodes.log\n"
     ]
    }
   ],
   "source": [
    "import os\n",
    "cwd = os.getcwd()\n",
    "import qcodes as qc\n",
    "qc.config[\"core\"][\"db_location\"] = os.path.join(cwd, 'testing.db')\n"
   ]
  },
  {
   "cell_type": "code",
   "execution_count": 2,
   "metadata": {},
   "outputs": [],
   "source": [
    "%matplotlib inline\n",
    "import time\n",
    "import matplotlib.pyplot as plt\n",
    "import numpy as np\n",
    "\n",
    "import qcodes as qc\n",
    "from qcodes.instrument.parameter import ManualParameter\n",
    "from qcodes.dataset.experiment_container import (Experiment,\n",
    "                                                 load_last_experiment,\n",
    "                                                 new_experiment)\n",
    "from qcodes.dataset.sqlite.database import initialise_database\n",
    "from qcodes import load_or_create_experiment\n",
    "from qcodes.dataset.measurements import Measurement"
   ]
  },
  {
   "cell_type": "code",
   "execution_count": 3,
   "metadata": {},
   "outputs": [
    {
     "name": "stdout",
     "output_type": "stream",
     "text": [
      "\r",
      "0it [00:00, ?it/s]"
     ]
    },
    {
     "name": "stdout",
     "output_type": "stream",
     "text": [
      "\r",
      "Upgrading database; v0 -> v1: : 0it [00:00, ?it/s]"
     ]
    },
    {
     "name": "stdout",
     "output_type": "stream",
     "text": [
      "\r",
      "Upgrading database; v0 -> v1: : 0it [00:00, ?it/s]"
     ]
    },
    {
     "name": "stdout",
     "output_type": "stream",
     "text": [
      "\n",
      "\r",
      "  0%|          | 0/1 [00:00<?, ?it/s]"
     ]
    },
    {
     "name": "stdout",
     "output_type": "stream",
     "text": [
      "\r",
      "Upgrading database; v1 -> v2:   0%|          | 0/1 [00:00<?, ?it/s]"
     ]
    },
    {
     "name": "stdout",
     "output_type": "stream",
     "text": [
      "\r",
      "Upgrading database; v1 -> v2: 100%|██████████| 1/1 [00:00<00:00, 874.00it/s]"
     ]
    },
    {
     "name": "stdout",
     "output_type": "stream",
     "text": [
      "\n",
      "\r",
      "0it [00:00, ?it/s]"
     ]
    },
    {
     "name": "stdout",
     "output_type": "stream",
     "text": [
      "\r",
      "Upgrading database; v2 -> v3: : 0it [00:00, ?it/s]"
     ]
    },
    {
     "name": "stdout",
     "output_type": "stream",
     "text": [
      "\r",
      "Upgrading database; v2 -> v3: : 0it [00:00, ?it/s]"
     ]
    },
    {
     "name": "stdout",
     "output_type": "stream",
     "text": [
      "\n",
      "\r",
      "0it [00:00, ?it/s]"
     ]
    },
    {
     "name": "stdout",
     "output_type": "stream",
     "text": [
      "\r",
      "Upgrading database; v3 -> v4: : 0it [00:00, ?it/s]"
     ]
    },
    {
     "name": "stdout",
     "output_type": "stream",
     "text": [
      "\r",
      "Upgrading database; v3 -> v4: : 0it [00:00, ?it/s]"
     ]
    },
    {
     "name": "stdout",
     "output_type": "stream",
     "text": [
      "\n",
      "\r",
      "  0%|          | 0/1 [00:00<?, ?it/s]"
     ]
    },
    {
     "name": "stdout",
     "output_type": "stream",
     "text": [
      "\r",
      "Upgrading database; v4 -> v5:   0%|          | 0/1 [00:00<?, ?it/s]"
     ]
    },
    {
     "name": "stdout",
     "output_type": "stream",
     "text": [
      "\r",
      "Upgrading database; v4 -> v5: 100%|██████████| 1/1 [00:00<00:00, 858.96it/s]"
     ]
    },
    {
     "name": "stdout",
     "output_type": "stream",
     "text": [
      "\n",
      "\r",
      "0it [00:00, ?it/s]"
     ]
    },
    {
     "name": "stdout",
     "output_type": "stream",
     "text": [
      "\r",
      "Upgrading database; v5 -> v6: : 0it [00:00, ?it/s]"
     ]
    },
    {
     "name": "stdout",
     "output_type": "stream",
     "text": [
      "\r",
      "Upgrading database; v5 -> v6: : 0it [00:00, ?it/s]"
     ]
    },
    {
     "name": "stdout",
     "output_type": "stream",
     "text": [
      "\n",
      "\r",
      "  0%|          | 0/1 [00:00<?, ?it/s]"
     ]
    },
    {
     "name": "stdout",
     "output_type": "stream",
     "text": [
      "\r",
      "Upgrading database; v6 -> v7:   0%|          | 0/1 [00:00<?, ?it/s]"
     ]
    },
    {
     "name": "stdout",
     "output_type": "stream",
     "text": [
      "\r",
      "Upgrading database; v6 -> v7: 100%|██████████| 1/1 [00:00<00:00, 407.49it/s]"
     ]
    },
    {
     "name": "stdout",
     "output_type": "stream",
     "text": [
      "\n",
      "\r",
      "  0%|          | 0/1 [00:00<?, ?it/s]"
     ]
    },
    {
     "name": "stdout",
     "output_type": "stream",
     "text": [
      "\r",
      "Upgrading database; v7 -> v8:   0%|          | 0/1 [00:00<?, ?it/s]"
     ]
    },
    {
     "name": "stdout",
     "output_type": "stream",
     "text": [
      "\r",
      "Upgrading database; v7 -> v8: 100%|██████████| 1/1 [00:00<00:00, 870.19it/s]"
     ]
    },
    {
     "name": "stdout",
     "output_type": "stream",
     "text": [
      "\n",
      "\r",
      "  0%|          | 0/1 [00:00<?, ?it/s]"
     ]
    },
    {
     "name": "stdout",
     "output_type": "stream",
     "text": [
      "\r",
      "Upgrading database; v8 -> v9:   0%|          | 0/1 [00:00<?, ?it/s]"
     ]
    },
    {
     "name": "stdout",
     "output_type": "stream",
     "text": [
      "\r",
      "Upgrading database; v8 -> v9: 100%|██████████| 1/1 [00:00<00:00, 921.02it/s]"
     ]
    },
    {
     "name": "stdout",
     "output_type": "stream",
     "text": [
      "\n"
     ]
    }
   ],
   "source": [
    "initialise_database()\n",
    "exp = load_or_create_experiment(experiment_name='tutorial_exp', sample_name=\"no sample\")"
   ]
  },
  {
   "cell_type": "markdown",
   "metadata": {},
   "source": [
    "Here, we define a simple function to benchmark the time it takes to insert n points with either numeric or array data type.\n",
    "We will compare both the time used to call ``add_result`` and the time used for the full measurement."
   ]
  },
  {
   "cell_type": "code",
   "execution_count": 4,
   "metadata": {},
   "outputs": [],
   "source": [
    "def insert_data(paramtype, npoints, nreps=1):\n",
    "\n",
    "    meas = Measurement(exp=exp)\n",
    "\n",
    "    x1 = ManualParameter('x1')\n",
    "    x2 = ManualParameter('x2')\n",
    "    x3 = ManualParameter('x3')\n",
    "    y1 = ManualParameter('y1')\n",
    "    y2 = ManualParameter('y2')\n",
    "\n",
    "    meas.register_parameter(x1, paramtype=paramtype)\n",
    "    meas.register_parameter(x2, paramtype=paramtype)\n",
    "    meas.register_parameter(x3, paramtype=paramtype)\n",
    "    meas.register_parameter(y1, setpoints=[x1, x2, x3],\n",
    "                            paramtype=paramtype)\n",
    "    meas.register_parameter(y2, setpoints=[x1, x2, x3],\n",
    "                            paramtype=paramtype)\n",
    "    start = time.perf_counter()\n",
    "    with meas.run() as datasaver:\n",
    "        start_adding = time.perf_counter()\n",
    "        for i in range(nreps):\n",
    "            datasaver.add_result((x1, np.random.rand(npoints)),\n",
    "                                 (x2, np.random.rand(npoints)),\n",
    "                                 (x3, np.random.rand(npoints)),\n",
    "                                 (y1, np.random.rand(npoints)),\n",
    "                                 (y2, np.random.rand(npoints)))\n",
    "        stop_adding = time.perf_counter()\n",
    "        run_id = datasaver.run_id\n",
    "    stop = time.perf_counter()\n",
    "    tot_time = stop - start\n",
    "    add_time = stop_adding - start_adding\n",
    "    return tot_time, add_time, run_id"
   ]
  },
  {
   "cell_type": "markdown",
   "metadata": {},
   "source": [
    "## Comparison between numeric/array data and binary blob"
   ]
  },
  {
   "cell_type": "markdown",
   "metadata": {},
   "source": [
    "### Case1: Short experiment time"
   ]
  },
  {
   "cell_type": "code",
   "execution_count": 5,
   "metadata": {},
   "outputs": [
    {
     "name": "stdout",
     "output_type": "stream",
     "text": [
      "Starting experimental run with id: 1. \n",
      "Starting experimental run with id: 2. \n",
      "Starting experimental run with id: 3. \n",
      "Starting experimental run with id: 4. \n"
     ]
    },
    {
     "name": "stdout",
     "output_type": "stream",
     "text": [
      "Starting experimental run with id: 5. \n"
     ]
    },
    {
     "name": "stdout",
     "output_type": "stream",
     "text": [
      "Starting experimental run with id: 6. \n",
      "Starting experimental run with id: 7. \n"
     ]
    },
    {
     "name": "stdout",
     "output_type": "stream",
     "text": [
      "Starting experimental run with id: 8. \n"
     ]
    },
    {
     "name": "stdout",
     "output_type": "stream",
     "text": [
      "Starting experimental run with id: 9. \n"
     ]
    },
    {
     "name": "stdout",
     "output_type": "stream",
     "text": [
      "Starting experimental run with id: 10. \n",
      "Starting experimental run with id: 11. \n"
     ]
    },
    {
     "name": "stdout",
     "output_type": "stream",
     "text": [
      "Starting experimental run with id: 12. \n",
      "Starting experimental run with id: 13. \n"
     ]
    },
    {
     "name": "stdout",
     "output_type": "stream",
     "text": [
      "Starting experimental run with id: 14. \n"
     ]
    }
   ],
   "source": [
    "sizes = [1,500,1000,2000,3000,4000,5000]\n",
    "t_numeric = []\n",
    "t_numeric_add = []\n",
    "t_array = []\n",
    "t_array_add = []\n",
    "for size in sizes:\n",
    "    tn, tna, run_id_n =  insert_data('numeric', size)\n",
    "    t_numeric.append(tn)\n",
    "    t_numeric_add.append(tna)\n",
    "\n",
    "    ta, taa, run_id_a =  insert_data('array', size)\n",
    "    t_array.append(ta)\n",
    "    t_array_add.append(taa)"
   ]
  },
  {
   "cell_type": "code",
   "execution_count": 6,
   "metadata": {},
   "outputs": [
    {
     "data": {
      "image/png": "[encoded data removed]",
      "text/plain": [
       "<Figure size 432x288 with 1 Axes>"
      ]
     },
     "metadata": {
      "needs_background": "light"
     },
     "output_type": "display_data"
    }
   ],
   "source": [
    "fig, ax = plt.subplots(1,1)\n",
    "ax.plot(sizes, t_numeric, 'o-', label='Inserting row-by-row')\n",
    "ax.plot(sizes, t_numeric_add, 'o-', label='Inserting row-by-row: add_result only')\n",
    "ax.plot(sizes, t_array, 'd-', label='Inserting as binary blob')\n",
    "ax.plot(sizes, t_array_add, 'd-', label='Inserting as binary blob: add_result only')\n",
    "ax.legend()\n",
    "ax.set_xlabel('Array length')\n",
    "ax.set_ylabel('Time (s)')\n",
    "fig.tight_layout()"
   ]
  },
  {
   "cell_type": "markdown",
   "metadata": {},
   "source": [
    "As shown in the latter figure, the time to setup and and close the experiment is approximately 0.4 sec. In case of small array sizes, the difference between inserting values of data as arrays and inserting them row-by-row is relatively unimportant. At larger array sizes, i.e. above 10000 points, the cost of writing data as individual datapoints starts to become important.\n"
   ]
  },
  {
   "cell_type": "markdown",
   "metadata": {},
   "source": [
    "### Case2: Long experiment time "
   ]
  },
  {
   "cell_type": "code",
   "execution_count": 7,
   "metadata": {},
   "outputs": [
    {
     "name": "stdout",
     "output_type": "stream",
     "text": [
      "Starting experimental run with id: 15. \n",
      "Starting experimental run with id: 16. \n",
      "Starting experimental run with id: 17. \n"
     ]
    },
    {
     "name": "stdout",
     "output_type": "stream",
     "text": [
      "Starting experimental run with id: 18. \n",
      "Starting experimental run with id: 19. \n"
     ]
    },
    {
     "name": "stdout",
     "output_type": "stream",
     "text": [
      "Starting experimental run with id: 20. \n"
     ]
    },
    {
     "name": "stdout",
     "output_type": "stream",
     "text": [
      "Starting experimental run with id: 21. \n"
     ]
    },
    {
     "name": "stdout",
     "output_type": "stream",
     "text": [
      "Starting experimental run with id: 22. \n"
     ]
    },
    {
     "name": "stdout",
     "output_type": "stream",
     "text": [
      "Starting experimental run with id: 23. \n"
     ]
    },
    {
     "name": "stdout",
     "output_type": "stream",
     "text": [
      "Starting experimental run with id: 24. \n"
     ]
    },
    {
     "name": "stdout",
     "output_type": "stream",
     "text": [
      "Starting experimental run with id: 25. \n"
     ]
    },
    {
     "name": "stdout",
     "output_type": "stream",
     "text": [
      "Starting experimental run with id: 26. \n"
     ]
    },
    {
     "name": "stdout",
     "output_type": "stream",
     "text": [
      "Starting experimental run with id: 27. \n"
     ]
    },
    {
     "name": "stdout",
     "output_type": "stream",
     "text": [
      "Starting experimental run with id: 28. \n"
     ]
    }
   ],
   "source": [
    "sizes = [1,500,1000,2000,3000,4000,5000]\n",
    "nreps = 100\n",
    "t_numeric = []\n",
    "t_numeric_add = []\n",
    "t_numeric_run_ids = []\n",
    "t_array = []\n",
    "t_array_add = []\n",
    "t_array_run_ids = []\n",
    "for size in sizes:\n",
    "    tn, tna, run_id_n =  insert_data('numeric', size, nreps=nreps)\n",
    "    t_numeric.append(tn)\n",
    "    t_numeric_add.append(tna)\n",
    "    t_numeric_run_ids.append(run_id_n)\n",
    "\n",
    "    ta, taa, run_id_a =  insert_data('array', size, nreps=nreps)\n",
    "    t_array.append(ta)\n",
    "    t_array_add.append(taa)\n",
    "    t_array_run_ids.append(run_id_a)"
   ]
  },
  {
   "cell_type": "code",
   "execution_count": 8,
   "metadata": {
    "scrolled": true
   },
   "outputs": [
    {
     "data": {
      "image/png": "[encoded data removed]",
      "text/plain": [
       "<Figure size 432x288 with 1 Axes>"
      ]
     },
     "metadata": {
      "needs_background": "light"
     },
     "output_type": "display_data"
    }
   ],
   "source": [
    "fig, ax = plt.subplots(1,1)\n",
    "ax.plot(sizes, t_numeric, 'o-', label='Inserting row-by-row')\n",
    "ax.plot(sizes, t_numeric_add, 'o-', label='Inserting row-by-row: add_result only')\n",
    "ax.plot(sizes, t_array, 'd-', label='Inserting as binary blob')\n",
    "ax.plot(sizes, t_array_add, 'd-', label='Inserting as binary blob: add_result only')\n",
    "ax.legend()\n",
    "ax.set_xlabel('Array length')\n",
    "ax.set_ylabel('Time (s)')\n",
    "fig.tight_layout()"
   ]
  },
  {
   "cell_type": "markdown",
   "metadata": {},
   "source": [
    "However, as we increase the length of the experiment, as seen here by repeating the insertion 100 times, we see a big difference between inserting values of the data row-by-row and inserting it as a binary blob."
   ]
  },
  {
   "cell_type": "markdown",
   "metadata": {},
   "source": [
    "## Loading the data "
   ]
  },
  {
   "cell_type": "code",
   "execution_count": 9,
   "metadata": {},
   "outputs": [],
   "source": [
    "from qcodes.dataset.data_set import load_by_id\n",
    "from qcodes.dataset.data_export import get_data_by_id"
   ]
  },
  {
   "cell_type": "markdown",
   "metadata": {},
   "source": [
    "As usual you can load the data by using the ``load_by_id`` function but you will notice that the different storage methods\n",
    "are reflected in shape of the data as it is retrieved. "
   ]
  },
  {
   "cell_type": "code",
   "execution_count": 10,
   "metadata": {},
   "outputs": [],
   "source": [
    "run_id_n = t_numeric_run_ids[0]\n",
    "run_id_a = t_array_run_ids[0]"
   ]
  },
  {
   "cell_type": "code",
   "execution_count": 11,
   "metadata": {
    "scrolled": true
   },
   "outputs": [
    {
     "data": {
      "text/plain": [
       "{'x1': {'x1': array([0.29436389, 0.29436389, 0.65340963, 0.65340963, 0.73545194,\n",
       "         0.73545194, 0.90823289, 0.90823289, 0.99934395, 0.99934395,\n",
       "         0.94082746, 0.94082746, 0.71589691, 0.71589691, 0.21826322,\n",
       "         0.21826322, 0.35278872, 0.35278872, 0.34401815, 0.34401815,\n",
       "         0.30464995, 0.30464995, 0.52778556, 0.52778556, 0.31860393,\n",
       "         0.31860393, 0.20491034, 0.20491034, 0.9101414 , 0.9101414 ,\n",
       "         0.28928887, 0.28928887, 0.73444116, 0.73444116, 0.23802335,\n",
       "         0.23802335, 0.03196474, 0.03196474, 0.54982304, 0.54982304,\n",
       "         0.51999408, 0.51999408, 0.5921396 , 0.5921396 , 0.07608522,\n",
       "         0.07608522, 0.48159843, 0.48159843, 0.82071096, 0.82071096,\n",
       "         0.14951545, 0.14951545, 0.57261717, 0.57261717, 0.60998375,\n",
       "         0.60998375, 0.62478145, 0.62478145, 0.3250748 , 0.3250748 ,\n",
       "         0.66613488, 0.66613488, 0.00112526, 0.00112526, 0.37339718,\n",
       "         0.37339718, 0.67453237, 0.67453237, 0.17866003, 0.17866003,\n",
       "         0.787391  , 0.787391  , 0.55441059, 0.55441059, 0.05714746,\n",
       "         0.05714746, 0.53193733, 0.53193733, 0.53333278, 0.53333278,\n",
       "         0.73249101, 0.73249101, 0.57045902, 0.57045902, 0.44950325,\n",
       "         0.44950325, 0.82009099, 0.82009099, 0.6536074 , 0.6536074 ,\n",
       "         0.6242249 , 0.6242249 , 0.1117831 , 0.1117831 , 0.30603472,\n",
       "         0.30603472, 0.51072241, 0.51072241, 0.81750296, 0.81750296,\n",
       "         0.28871978, 0.28871978, 0.66212186, 0.66212186, 0.93858057,\n",
       "         0.93858057, 0.40408562, 0.40408562, 0.21841875, 0.21841875,\n",
       "         0.4691342 , 0.4691342 , 0.64704825, 0.64704825, 0.33461821,\n",
       "         0.33461821, 0.08110484, 0.08110484, 0.35576909, 0.35576909,\n",
       "         0.21174735, 0.21174735, 0.91631199, 0.91631199, 0.07639099,\n",
       "         0.07639099, 0.13200384, 0.13200384, 0.95608553, 0.95608553,\n",
       "         0.4586433 , 0.4586433 , 0.94456641, 0.94456641, 0.67434707,\n",
       "         0.67434707, 0.75718896, 0.75718896, 0.31940217, 0.31940217,\n",
       "         0.53398799, 0.53398799, 0.97253227, 0.97253227, 0.80408477,\n",
       "         0.80408477, 0.14224   , 0.14224   , 0.23477448, 0.23477448,\n",
       "         0.65246015, 0.65246015, 0.78102807, 0.78102807, 0.90084933,\n",
       "         0.90084933, 0.80131858, 0.80131858, 0.24336387, 0.24336387,\n",
       "         0.32428978, 0.32428978, 0.42167477, 0.42167477, 0.85610471,\n",
       "         0.85610471, 0.39198254, 0.39198254, 0.47498892, 0.47498892,\n",
       "         0.61367247, 0.61367247, 0.74820104, 0.74820104, 0.34066379,\n",
       "         0.34066379, 0.95257603, 0.95257603, 0.892879  , 0.892879  ,\n",
       "         0.42877094, 0.42877094, 0.96370515, 0.96370515, 0.15447375,\n",
       "         0.15447375, 0.47814422, 0.47814422, 0.39132154, 0.39132154,\n",
       "         0.50810797, 0.50810797, 0.44165725, 0.44165725, 0.81063607,\n",
       "         0.81063607, 0.5556382 , 0.5556382 , 0.664579  , 0.664579  ])}}"
      ]
     },
     "execution_count": 11,
     "metadata": {},
     "output_type": "execute_result"
    }
   ],
   "source": [
    "ds = load_by_id(run_id_n)\n",
    "ds.get_parameter_data('x1')"
   ]
  },
  {
   "cell_type": "markdown",
   "metadata": {},
   "source": [
    "And a dataset stored as binary arrays"
   ]
  },
  {
   "cell_type": "code",
   "execution_count": 12,
   "metadata": {
    "scrolled": true
   },
   "outputs": [
    {
     "data": {
      "text/plain": [
       "{'x1': {'x1': array([[0.52927034],\n",
       "         [0.52927034],\n",
       "         [0.42959209],\n",
       "         [0.42959209],\n",
       "         [0.76735692],\n",
       "         [0.76735692],\n",
       "         [0.66177603],\n",
       "         [0.66177603],\n",
       "         [0.9304195 ],\n",
       "         [0.9304195 ],\n",
       "         [0.8892832 ],\n",
       "         [0.8892832 ],\n",
       "         [0.38309187],\n",
       "         [0.38309187],\n",
       "         [0.54991186],\n",
       "         [0.54991186],\n",
       "         [0.18438719],\n",
       "         [0.18438719],\n",
       "         [0.07301041],\n",
       "         [0.07301041],\n",
       "         [0.4579113 ],\n",
       "         [0.4579113 ],\n",
       "         [0.62390856],\n",
       "         [0.62390856],\n",
       "         [0.77115953],\n",
       "         [0.77115953],\n",
       "         [0.23453663],\n",
       "         [0.23453663],\n",
       "         [0.01608298],\n",
       "         [0.01608298],\n",
       "         [0.23850669],\n",
       "         [0.23850669],\n",
       "         [0.78095087],\n",
       "         [0.78095087],\n",
       "         [0.70517685],\n",
       "         [0.70517685],\n",
       "         [0.99676598],\n",
       "         [0.99676598],\n",
       "         [0.18344739],\n",
       "         [0.18344739],\n",
       "         [0.44022941],\n",
       "         [0.44022941],\n",
       "         [0.55021008],\n",
       "         [0.55021008],\n",
       "         [0.23005958],\n",
       "         [0.23005958],\n",
       "         [0.40312325],\n",
       "         [0.40312325],\n",
       "         [0.04735043],\n",
       "         [0.04735043],\n",
       "         [0.78664609],\n",
       "         [0.78664609],\n",
       "         [0.02099963],\n",
       "         [0.02099963],\n",
       "         [0.89303215],\n",
       "         [0.89303215],\n",
       "         [0.53396773],\n",
       "         [0.53396773],\n",
       "         [0.07128563],\n",
       "         [0.07128563],\n",
       "         [0.41735102],\n",
       "         [0.41735102],\n",
       "         [0.0601471 ],\n",
       "         [0.0601471 ],\n",
       "         [0.6811723 ],\n",
       "         [0.6811723 ],\n",
       "         [0.1819713 ],\n",
       "         [0.1819713 ],\n",
       "         [0.85257392],\n",
       "         [0.85257392],\n",
       "         [0.68880522],\n",
       "         [0.68880522],\n",
       "         [0.53390684],\n",
       "         [0.53390684],\n",
       "         [0.99413742],\n",
       "         [0.99413742],\n",
       "         [0.82096502],\n",
       "         [0.82096502],\n",
       "         [0.99766471],\n",
       "         [0.99766471],\n",
       "         [0.2410519 ],\n",
       "         [0.2410519 ],\n",
       "         [0.465499  ],\n",
       "         [0.465499  ],\n",
       "         [0.18795259],\n",
       "         [0.18795259],\n",
       "         [0.4745338 ],\n",
       "         [0.4745338 ],\n",
       "         [0.97596223],\n",
       "         [0.97596223],\n",
       "         [0.09554241],\n",
       "         [0.09554241],\n",
       "         [0.31958906],\n",
       "         [0.31958906],\n",
       "         [0.38853164],\n",
       "         [0.38853164],\n",
       "         [0.1040733 ],\n",
       "         [0.1040733 ],\n",
       "         [0.54539895],\n",
       "         [0.54539895],\n",
       "         [0.33331139],\n",
       "         [0.33331139],\n",
       "         [0.03438214],\n",
       "         [0.03438214],\n",
       "         [0.39920098],\n",
       "         [0.39920098],\n",
       "         [0.49006409],\n",
       "         [0.49006409],\n",
       "         [0.06972115],\n",
       "         [0.06972115],\n",
       "         [0.76017928],\n",
       "         [0.76017928],\n",
       "         [0.47464121],\n",
       "         [0.47464121],\n",
       "         [0.12631085],\n",
       "         [0.12631085],\n",
       "         [0.7440837 ],\n",
       "         [0.7440837 ],\n",
       "         [0.60457751],\n",
       "         [0.60457751],\n",
       "         [0.25474485],\n",
       "         [0.25474485],\n",
       "         [0.88117198],\n",
       "         [0.88117198],\n",
       "         [0.25413924],\n",
       "         [0.25413924],\n",
       "         [0.8203204 ],\n",
       "         [0.8203204 ],\n",
       "         [0.32327542],\n",
       "         [0.32327542],\n",
       "         [0.03347795],\n",
       "         [0.03347795],\n",
       "         [0.09693606],\n",
       "         [0.09693606],\n",
       "         [0.77231881],\n",
       "         [0.77231881],\n",
       "         [0.44195927],\n",
       "         [0.44195927],\n",
       "         [0.99571569],\n",
       "         [0.99571569],\n",
       "         [0.31066526],\n",
       "         [0.31066526],\n",
       "         [0.38053464],\n",
       "         [0.38053464],\n",
       "         [0.4080902 ],\n",
       "         [0.4080902 ],\n",
       "         [0.95091475],\n",
       "         [0.95091475],\n",
       "         [0.71240706],\n",
       "         [0.71240706],\n",
       "         [0.32399376],\n",
       "         [0.32399376],\n",
       "         [0.27134242],\n",
       "         [0.27134242],\n",
       "         [0.31417012],\n",
       "         [0.31417012],\n",
       "         [0.97077343],\n",
       "         [0.97077343],\n",
       "         [0.47035748],\n",
       "         [0.47035748],\n",
       "         [0.58465822],\n",
       "         [0.58465822],\n",
       "         [0.85184014],\n",
       "         [0.85184014],\n",
       "         [0.70501109],\n",
       "         [0.70501109],\n",
       "         [0.69993716],\n",
       "         [0.69993716],\n",
       "         [0.71646781],\n",
       "         [0.71646781],\n",
       "         [0.39408618],\n",
       "         [0.39408618],\n",
       "         [0.63678382],\n",
       "         [0.63678382],\n",
       "         [0.92419894],\n",
       "         [0.92419894],\n",
       "         [0.65457915],\n",
       "         [0.65457915],\n",
       "         [0.21343338],\n",
       "         [0.21343338],\n",
       "         [0.11800258],\n",
       "         [0.11800258],\n",
       "         [0.35946202],\n",
       "         [0.35946202],\n",
       "         [0.08607109],\n",
       "         [0.08607109],\n",
       "         [0.31963515],\n",
       "         [0.31963515],\n",
       "         [0.43610296],\n",
       "         [0.43610296],\n",
       "         [0.14364464],\n",
       "         [0.14364464],\n",
       "         [0.95834252],\n",
       "         [0.95834252],\n",
       "         [0.22340275],\n",
       "         [0.22340275],\n",
       "         [0.56537654],\n",
       "         [0.56537654],\n",
       "         [0.13228692],\n",
       "         [0.13228692]])}}"
      ]
     },
     "execution_count": 12,
     "metadata": {},
     "output_type": "execute_result"
    }
   ],
   "source": [
    "ds = load_by_id(run_id_a)\n",
    "ds.get_parameter_data('x1')"
   ]
  },
  {
   "cell_type": "code",
   "execution_count": null,
   "metadata": {},
   "outputs": [],
   "source": []
  }
 ],
 "metadata": {
  "kernelspec": {
   "display_name": "Python 3",
   "language": "python",
   "name": "python3"
  },
  "language_info": {
   "codemirror_mode": {
    "name": "ipython",
    "version": 3
   },
   "file_extension": ".py",
   "mimetype": "text/x-python",
   "name": "python",
   "nbconvert_exporter": "python",
   "pygments_lexer": "ipython3",
   "version": "3.7.7"
  },
  "nbsphinx": {
   "timeout": 600
  },
  "toc": {
   "base_numbering": 1,
   "nav_menu": {},
   "number_sections": true,
   "sideBar": true,
   "skip_h1_title": false,
   "title_cell": "Table of Contents",
   "title_sidebar": "Contents",
   "toc_cell": false,
   "toc_position": {},
   "toc_section_display": true,
   "toc_window_display": false
  },
  "varInspector": {
   "cols": {
    "lenName": 16,
    "lenType": 16,
    "lenVar": 40
   },
   "kernels_config": {
    "python": {
     "delete_cmd_postfix": "",
     "delete_cmd_prefix": "del ",
     "library": "var_list.py",
     "varRefreshCmd": "print(var_dic_list())"
    },
    "r": {
     "delete_cmd_postfix": ") ",
     "delete_cmd_prefix": "rm(",
     "library": "var_list.r",
     "varRefreshCmd": "cat(var_dic_list()) "
    }
   },
   "types_to_exclude": [
    "module",
    "function",
    "builtin_function_or_method",
    "instance",
    "_Feature"
   ],
   "window_display": false
  }
 },
 "nbformat": 4,
 "nbformat_minor": 2
}
