{
 "cells": [
  {
   "cell_type": "markdown",
   "metadata": {},
   "source": [
    "# DataSet Performance\n",
    "\n",
    "This notebook shows the trade-off between inserting data into a database row-by-row and as binary blobs. Inserting the data row-by-row means that we have direct access to all the data and may perform queries directly on the values of the data. On the other hand, as we shall see, this is much slower than inserting the data directly as binary blobs."
   ]
  },
  {
   "cell_type": "markdown",
   "metadata": {},
   "source": [
    "First, we choose a new location for the database to ensure that we don't add a bunch of benchmarking data to the default one."
   ]
  },
  {
   "cell_type": "code",
   "execution_count": 1,
   "metadata": {
    "execution": {
     "iopub.execute_input": "2020-11-17T12:58:36.132403Z",
     "iopub.status.busy": "2020-11-17T12:58:36.131491Z",
     "iopub.status.idle": "2020-11-17T12:58:37.175610Z",
     "shell.execute_reply": "2020-11-17T12:58:37.175047Z"
    }
   },
   "outputs": [
    {
     "name": "stdout",
     "output_type": "stream",
     "text": [
      "Logging hadn't been started.\n",
      "Activating auto-logging. Current session state plus future input saved.\n",
      "Filename       : /home/vsts/.qcodes/logs/command_history.log\n",
      "Mode           : append\n",
      "Output logging : True\n",
      "Raw input log  : False\n",
      "Timestamping   : True\n",
      "State          : active\n"
     ]
    },
    {
     "name": "stdout",
     "output_type": "stream",
     "text": [
      "Qcodes Logfile : /home/vsts/.qcodes/logs/201117-13891-qcodes.log\n"
     ]
    }
   ],
   "source": [
    "import os\n",
    "cwd = os.getcwd()\n",
    "import qcodes as qc\n",
    "qc.config[\"core\"][\"db_location\"] = os.path.join(cwd, 'testing.db')\n"
   ]
  },
  {
   "cell_type": "code",
   "execution_count": 2,
   "metadata": {
    "execution": {
     "iopub.execute_input": "2020-11-17T12:58:37.182459Z",
     "iopub.status.busy": "2020-11-17T12:58:37.181410Z",
     "iopub.status.idle": "2020-11-17T12:58:37.372125Z",
     "shell.execute_reply": "2020-11-17T12:58:37.371074Z"
    }
   },
   "outputs": [],
   "source": [
    "%matplotlib inline\n",
    "import time\n",
    "import matplotlib.pyplot as plt\n",
    "import numpy as np\n",
    "\n",
    "import qcodes as qc\n",
    "from qcodes.instrument.parameter import ManualParameter\n",
    "from qcodes.dataset.experiment_container import (Experiment,\n",
    "                                                 load_last_experiment,\n",
    "                                                 new_experiment)\n",
    "from qcodes.dataset.sqlite.database import initialise_database\n",
    "from qcodes import load_or_create_experiment\n",
    "from qcodes.dataset.measurements import Measurement"
   ]
  },
  {
   "cell_type": "code",
   "execution_count": 3,
   "metadata": {
    "execution": {
     "iopub.execute_input": "2020-11-17T12:58:37.377279Z",
     "iopub.status.busy": "2020-11-17T12:58:37.376311Z",
     "iopub.status.idle": "2020-11-17T12:58:37.494130Z",
     "shell.execute_reply": "2020-11-17T12:58:37.494558Z"
    }
   },
   "outputs": [
    {
     "name": "stdout",
     "output_type": "stream",
     "text": [
      "\r",
      "0it [00:00, ?it/s]"
     ]
    },
    {
     "name": "stdout",
     "output_type": "stream",
     "text": [
      "\r",
      "Upgrading database; v0 -> v1: : 0it [00:00, ?it/s]"
     ]
    },
    {
     "name": "stdout",
     "output_type": "stream",
     "text": [
      "\r",
      "Upgrading database; v0 -> v1: : 0it [00:00, ?it/s]"
     ]
    },
    {
     "name": "stdout",
     "output_type": "stream",
     "text": [
      "\n",
      "\r",
      "  0%|          | 0/1 [00:00<?, ?it/s]"
     ]
    },
    {
     "name": "stdout",
     "output_type": "stream",
     "text": [
      "\r",
      "Upgrading database; v1 -> v2:   0%|          | 0/1 [00:00<?, ?it/s]"
     ]
    },
    {
     "name": "stdout",
     "output_type": "stream",
     "text": [
      "\r",
      "Upgrading database; v1 -> v2: 100%|██████████| 1/1 [00:00<00:00, 498.97it/s]"
     ]
    },
    {
     "name": "stdout",
     "output_type": "stream",
     "text": [
      "\n",
      "\r",
      "0it [00:00, ?it/s]"
     ]
    },
    {
     "name": "stdout",
     "output_type": "stream",
     "text": [
      "\r",
      "Upgrading database; v2 -> v3: : 0it [00:00, ?it/s]"
     ]
    },
    {
     "name": "stdout",
     "output_type": "stream",
     "text": [
      "\r",
      "Upgrading database; v2 -> v3: : 0it [00:00, ?it/s]"
     ]
    },
    {
     "name": "stdout",
     "output_type": "stream",
     "text": [
      "\n",
      "\r",
      "0it [00:00, ?it/s]"
     ]
    },
    {
     "name": "stdout",
     "output_type": "stream",
     "text": [
      "\r",
      "Upgrading database; v3 -> v4: : 0it [00:00, ?it/s]"
     ]
    },
    {
     "name": "stdout",
     "output_type": "stream",
     "text": [
      "\r",
      "Upgrading database; v3 -> v4: : 0it [00:00, ?it/s]"
     ]
    },
    {
     "name": "stdout",
     "output_type": "stream",
     "text": [
      "\n",
      "\r",
      "  0%|          | 0/1 [00:00<?, ?it/s]"
     ]
    },
    {
     "name": "stdout",
     "output_type": "stream",
     "text": [
      "\r",
      "Upgrading database; v4 -> v5:   0%|          | 0/1 [00:00<?, ?it/s]"
     ]
    },
    {
     "name": "stdout",
     "output_type": "stream",
     "text": [
      "\r",
      "Upgrading database; v4 -> v5: 100%|██████████| 1/1 [00:00<00:00, 833.86it/s]"
     ]
    },
    {
     "name": "stdout",
     "output_type": "stream",
     "text": [
      "\n",
      "\r",
      "0it [00:00, ?it/s]"
     ]
    },
    {
     "name": "stdout",
     "output_type": "stream",
     "text": [
      "\r",
      "Upgrading database; v5 -> v6: : 0it [00:00, ?it/s]"
     ]
    },
    {
     "name": "stdout",
     "output_type": "stream",
     "text": [
      "\r",
      "Upgrading database; v5 -> v6: : 0it [00:00, ?it/s]"
     ]
    },
    {
     "name": "stdout",
     "output_type": "stream",
     "text": [
      "\n",
      "\r",
      "  0%|          | 0/1 [00:00<?, ?it/s]"
     ]
    },
    {
     "name": "stdout",
     "output_type": "stream",
     "text": [
      "\r",
      "Upgrading database; v6 -> v7:   0%|          | 0/1 [00:00<?, ?it/s]"
     ]
    },
    {
     "name": "stdout",
     "output_type": "stream",
     "text": [
      "\r",
      "Upgrading database; v6 -> v7: 100%|██████████| 1/1 [00:00<00:00, 315.57it/s]"
     ]
    },
    {
     "name": "stdout",
     "output_type": "stream",
     "text": [
      "\n",
      "\r",
      "  0%|          | 0/1 [00:00<?, ?it/s]"
     ]
    },
    {
     "name": "stdout",
     "output_type": "stream",
     "text": [
      "\r",
      "Upgrading database; v7 -> v8:   0%|          | 0/1 [00:00<?, ?it/s]"
     ]
    },
    {
     "name": "stdout",
     "output_type": "stream",
     "text": [
      "\r",
      "Upgrading database; v7 -> v8: 100%|██████████| 1/1 [00:00<00:00, 1139.76it/s]"
     ]
    },
    {
     "name": "stdout",
     "output_type": "stream",
     "text": [
      "\n",
      "\r",
      "  0%|          | 0/1 [00:00<?, ?it/s]"
     ]
    },
    {
     "name": "stdout",
     "output_type": "stream",
     "text": [
      "\r",
      "Upgrading database; v8 -> v9:   0%|          | 0/1 [00:00<?, ?it/s]"
     ]
    },
    {
     "name": "stdout",
     "output_type": "stream",
     "text": [
      "\r",
      "Upgrading database; v8 -> v9: 100%|██████████| 1/1 [00:00<00:00, 466.86it/s]"
     ]
    },
    {
     "name": "stdout",
     "output_type": "stream",
     "text": [
      "\n"
     ]
    }
   ],
   "source": [
    "initialise_database()\n",
    "exp = load_or_create_experiment(experiment_name='tutorial_exp', sample_name=\"no sample\")"
   ]
  },
  {
   "cell_type": "markdown",
   "metadata": {},
   "source": [
    "Here, we define a simple function to benchmark the time it takes to insert n points with either numeric or array data type.\n",
    "We will compare both the time used to call ``add_result`` and the time used for the full measurement."
   ]
  },
  {
   "cell_type": "code",
   "execution_count": 4,
   "metadata": {
    "execution": {
     "iopub.execute_input": "2020-11-17T12:58:37.503045Z",
     "iopub.status.busy": "2020-11-17T12:58:37.502454Z",
     "iopub.status.idle": "2020-11-17T12:58:37.506186Z",
     "shell.execute_reply": "2020-11-17T12:58:37.505680Z"
    }
   },
   "outputs": [],
   "source": [
    "def insert_data(paramtype, npoints, nreps=1):\n",
    "\n",
    "    meas = Measurement(exp=exp)\n",
    "\n",
    "    x1 = ManualParameter('x1')\n",
    "    x2 = ManualParameter('x2')\n",
    "    x3 = ManualParameter('x3')\n",
    "    y1 = ManualParameter('y1')\n",
    "    y2 = ManualParameter('y2')\n",
    "\n",
    "    meas.register_parameter(x1, paramtype=paramtype)\n",
    "    meas.register_parameter(x2, paramtype=paramtype)\n",
    "    meas.register_parameter(x3, paramtype=paramtype)\n",
    "    meas.register_parameter(y1, setpoints=[x1, x2, x3],\n",
    "                            paramtype=paramtype)\n",
    "    meas.register_parameter(y2, setpoints=[x1, x2, x3],\n",
    "                            paramtype=paramtype)\n",
    "    start = time.perf_counter()\n",
    "    with meas.run() as datasaver:\n",
    "        start_adding = time.perf_counter()\n",
    "        for i in range(nreps):\n",
    "            datasaver.add_result((x1, np.random.rand(npoints)),\n",
    "                                 (x2, np.random.rand(npoints)),\n",
    "                                 (x3, np.random.rand(npoints)),\n",
    "                                 (y1, np.random.rand(npoints)),\n",
    "                                 (y2, np.random.rand(npoints)))\n",
    "        stop_adding = time.perf_counter()\n",
    "        run_id = datasaver.run_id\n",
    "    stop = time.perf_counter()\n",
    "    tot_time = stop - start\n",
    "    add_time = stop_adding - start_adding\n",
    "    return tot_time, add_time, run_id"
   ]
  },
  {
   "cell_type": "markdown",
   "metadata": {},
   "source": [
    "## Comparison between numeric/array data and binary blob"
   ]
  },
  {
   "cell_type": "markdown",
   "metadata": {},
   "source": [
    "### Case1: Short experiment time"
   ]
  },
  {
   "cell_type": "code",
   "execution_count": 5,
   "metadata": {
    "execution": {
     "iopub.execute_input": "2020-11-17T12:58:37.511943Z",
     "iopub.status.busy": "2020-11-17T12:58:37.510790Z",
     "iopub.status.idle": "2020-11-17T12:58:38.372997Z",
     "shell.execute_reply": "2020-11-17T12:58:38.373573Z"
    }
   },
   "outputs": [
    {
     "name": "stdout",
     "output_type": "stream",
     "text": [
      "Starting experimental run with id: 1. \n",
      "Starting experimental run with id: 2. \n",
      "Starting experimental run with id: 3. \n",
      "Starting experimental run with id: 4. \n",
      "Starting experimental run with id: 5. \n"
     ]
    },
    {
     "name": "stdout",
     "output_type": "stream",
     "text": [
      "Starting experimental run with id: 6. \n"
     ]
    },
    {
     "name": "stdout",
     "output_type": "stream",
     "text": [
      "Starting experimental run with id: 7. \n"
     ]
    },
    {
     "name": "stdout",
     "output_type": "stream",
     "text": [
      "Starting experimental run with id: 8. \n",
      "Starting experimental run with id: 9. \n"
     ]
    },
    {
     "name": "stdout",
     "output_type": "stream",
     "text": [
      "Starting experimental run with id: 10. \n",
      "Starting experimental run with id: 11. \n"
     ]
    },
    {
     "name": "stdout",
     "output_type": "stream",
     "text": [
      "Starting experimental run with id: 12. \n"
     ]
    },
    {
     "name": "stdout",
     "output_type": "stream",
     "text": [
      "Starting experimental run with id: 13. \n"
     ]
    },
    {
     "name": "stdout",
     "output_type": "stream",
     "text": [
      "Starting experimental run with id: 14. \n"
     ]
    }
   ],
   "source": [
    "sizes = [1,500,1000,2000,3000,4000,5000]\n",
    "t_numeric = []\n",
    "t_numeric_add = []\n",
    "t_array = []\n",
    "t_array_add = []\n",
    "for size in sizes:\n",
    "    tn, tna, run_id_n =  insert_data('numeric', size)\n",
    "    t_numeric.append(tn)\n",
    "    t_numeric_add.append(tna)\n",
    "\n",
    "    ta, taa, run_id_a =  insert_data('array', size)\n",
    "    t_array.append(ta)\n",
    "    t_array_add.append(taa)"
   ]
  },
  {
   "cell_type": "code",
   "execution_count": 6,
   "metadata": {
    "execution": {
     "iopub.execute_input": "2020-11-17T12:58:38.391131Z",
     "iopub.status.busy": "2020-11-17T12:58:38.378267Z",
     "iopub.status.idle": "2020-11-17T12:58:38.571510Z",
     "shell.execute_reply": "2020-11-17T12:58:38.572303Z"
    }
   },
   "outputs": [
    {
     "data": {
      "image/png": "[encoded data removed]",
      "text/plain": [
       "<Figure size 432x288 with 1 Axes>"
      ]
     },
     "metadata": {
      "needs_background": "light"
     },
     "output_type": "display_data"
    }
   ],
   "source": [
    "fig, ax = plt.subplots(1,1)\n",
    "ax.plot(sizes, t_numeric, 'o-', label='Inserting row-by-row')\n",
    "ax.plot(sizes, t_numeric_add, 'o-', label='Inserting row-by-row: add_result only')\n",
    "ax.plot(sizes, t_array, 'd-', label='Inserting as binary blob')\n",
    "ax.plot(sizes, t_array_add, 'd-', label='Inserting as binary blob: add_result only')\n",
    "ax.legend()\n",
    "ax.set_xlabel('Array length')\n",
    "ax.set_ylabel('Time (s)')\n",
    "fig.tight_layout()"
   ]
  },
  {
   "cell_type": "markdown",
   "metadata": {},
   "source": [
    "As shown in the latter figure, the time to setup and and close the experiment is approximately 0.4 sec. In case of small array sizes, the difference between inserting values of data as arrays and inserting them row-by-row is relatively unimportant. At larger array sizes, i.e. above 10000 points, the cost of writing data as individual datapoints starts to become important.\n"
   ]
  },
  {
   "cell_type": "markdown",
   "metadata": {},
   "source": [
    "### Case2: Long experiment time "
   ]
  },
  {
   "cell_type": "code",
   "execution_count": 7,
   "metadata": {
    "execution": {
     "iopub.execute_input": "2020-11-17T12:58:38.579671Z",
     "iopub.status.busy": "2020-11-17T12:58:38.578625Z",
     "iopub.status.idle": "2020-11-17T12:59:40.356127Z",
     "shell.execute_reply": "2020-11-17T12:59:40.356876Z"
    }
   },
   "outputs": [
    {
     "name": "stdout",
     "output_type": "stream",
     "text": [
      "Starting experimental run with id: 15. \n",
      "Starting experimental run with id: 16. \n",
      "Starting experimental run with id: 17. \n"
     ]
    },
    {
     "name": "stdout",
     "output_type": "stream",
     "text": [
      "Starting experimental run with id: 18. \n",
      "Starting experimental run with id: 19. \n"
     ]
    },
    {
     "name": "stdout",
     "output_type": "stream",
     "text": [
      "Starting experimental run with id: 20. \n"
     ]
    },
    {
     "name": "stdout",
     "output_type": "stream",
     "text": [
      "Starting experimental run with id: 21. \n"
     ]
    },
    {
     "name": "stdout",
     "output_type": "stream",
     "text": [
      "Starting experimental run with id: 22. \n"
     ]
    },
    {
     "name": "stdout",
     "output_type": "stream",
     "text": [
      "Starting experimental run with id: 23. \n"
     ]
    },
    {
     "name": "stdout",
     "output_type": "stream",
     "text": [
      "Starting experimental run with id: 24. \n"
     ]
    },
    {
     "name": "stdout",
     "output_type": "stream",
     "text": [
      "Starting experimental run with id: 25. \n"
     ]
    },
    {
     "name": "stdout",
     "output_type": "stream",
     "text": [
      "Starting experimental run with id: 26. \n"
     ]
    },
    {
     "name": "stdout",
     "output_type": "stream",
     "text": [
      "Starting experimental run with id: 27. \n"
     ]
    },
    {
     "name": "stdout",
     "output_type": "stream",
     "text": [
      "Starting experimental run with id: 28. \n"
     ]
    }
   ],
   "source": [
    "sizes = [1,500,1000,2000,3000,4000,5000]\n",
    "nreps = 100\n",
    "t_numeric = []\n",
    "t_numeric_add = []\n",
    "t_numeric_run_ids = []\n",
    "t_array = []\n",
    "t_array_add = []\n",
    "t_array_run_ids = []\n",
    "for size in sizes:\n",
    "    tn, tna, run_id_n =  insert_data('numeric', size, nreps=nreps)\n",
    "    t_numeric.append(tn)\n",
    "    t_numeric_add.append(tna)\n",
    "    t_numeric_run_ids.append(run_id_n)\n",
    "\n",
    "    ta, taa, run_id_a =  insert_data('array', size, nreps=nreps)\n",
    "    t_array.append(ta)\n",
    "    t_array_add.append(taa)\n",
    "    t_array_run_ids.append(run_id_a)"
   ]
  },
  {
   "cell_type": "code",
   "execution_count": 8,
   "metadata": {
    "execution": {
     "iopub.execute_input": "2020-11-17T12:59:40.398683Z",
     "iopub.status.busy": "2020-11-17T12:59:40.373791Z",
     "iopub.status.idle": "2020-11-17T12:59:40.568604Z",
     "shell.execute_reply": "2020-11-17T12:59:40.569030Z"
    },
    "scrolled": true
   },
   "outputs": [
    {
     "data": {
      "image/png": "[encoded data removed]",
      "text/plain": [
       "<Figure size 432x288 with 1 Axes>"
      ]
     },
     "metadata": {
      "needs_background": "light"
     },
     "output_type": "display_data"
    }
   ],
   "source": [
    "fig, ax = plt.subplots(1,1)\n",
    "ax.plot(sizes, t_numeric, 'o-', label='Inserting row-by-row')\n",
    "ax.plot(sizes, t_numeric_add, 'o-', label='Inserting row-by-row: add_result only')\n",
    "ax.plot(sizes, t_array, 'd-', label='Inserting as binary blob')\n",
    "ax.plot(sizes, t_array_add, 'd-', label='Inserting as binary blob: add_result only')\n",
    "ax.legend()\n",
    "ax.set_xlabel('Array length')\n",
    "ax.set_ylabel('Time (s)')\n",
    "fig.tight_layout()"
   ]
  },
  {
   "cell_type": "markdown",
   "metadata": {},
   "source": [
    "However, as we increase the length of the experiment, as seen here by repeating the insertion 100 times, we see a big difference between inserting values of the data row-by-row and inserting it as a binary blob."
   ]
  },
  {
   "cell_type": "markdown",
   "metadata": {},
   "source": [
    "## Loading the data "
   ]
  },
  {
   "cell_type": "code",
   "execution_count": 9,
   "metadata": {
    "execution": {
     "iopub.execute_input": "2020-11-17T12:59:40.573150Z",
     "iopub.status.busy": "2020-11-17T12:59:40.572212Z",
     "iopub.status.idle": "2020-11-17T12:59:40.575727Z",
     "shell.execute_reply": "2020-11-17T12:59:40.575161Z"
    }
   },
   "outputs": [],
   "source": [
    "from qcodes.dataset.data_set import load_by_id\n",
    "from qcodes.dataset.data_export import get_data_by_id"
   ]
  },
  {
   "cell_type": "markdown",
   "metadata": {},
   "source": [
    "As usual you can load the data by using the ``load_by_id`` function but you will notice that the different storage methods\n",
    "are reflected in shape of the data as it is retrieved. "
   ]
  },
  {
   "cell_type": "code",
   "execution_count": 10,
   "metadata": {
    "execution": {
     "iopub.execute_input": "2020-11-17T12:59:40.580229Z",
     "iopub.status.busy": "2020-11-17T12:59:40.579181Z",
     "iopub.status.idle": "2020-11-17T12:59:40.580846Z",
     "shell.execute_reply": "2020-11-17T12:59:40.581291Z"
    }
   },
   "outputs": [],
   "source": [
    "run_id_n = t_numeric_run_ids[0]\n",
    "run_id_a = t_array_run_ids[0]"
   ]
  },
  {
   "cell_type": "code",
   "execution_count": 11,
   "metadata": {
    "execution": {
     "iopub.execute_input": "2020-11-17T12:59:40.584814Z",
     "iopub.status.busy": "2020-11-17T12:59:40.584283Z",
     "iopub.status.idle": "2020-11-17T12:59:40.594076Z",
     "shell.execute_reply": "2020-11-17T12:59:40.593598Z"
    },
    "scrolled": true
   },
   "outputs": [
    {
     "data": {
      "text/plain": [
       "{'x1': {'x1': array([0.30112685, 0.30112685, 0.13179257, 0.13179257, 0.90871264,\n",
       "         0.90871264, 0.97943299, 0.97943299, 0.05584965, 0.05584965,\n",
       "         0.52774327, 0.52774327, 0.25016333, 0.25016333, 0.31792336,\n",
       "         0.31792336, 0.41762834, 0.41762834, 0.32044657, 0.32044657,\n",
       "         0.46215014, 0.46215014, 0.30613052, 0.30613052, 0.34335213,\n",
       "         0.34335213, 0.3662786 , 0.3662786 , 0.03940129, 0.03940129,\n",
       "         0.90886984, 0.90886984, 0.09878994, 0.09878994, 0.37243339,\n",
       "         0.37243339, 0.1455881 , 0.1455881 , 0.81463688, 0.81463688,\n",
       "         0.25217879, 0.25217879, 0.87108005, 0.87108005, 0.39692184,\n",
       "         0.39692184, 0.35161491, 0.35161491, 0.36341607, 0.36341607,\n",
       "         0.57464996, 0.57464996, 0.03254384, 0.03254384, 0.46037259,\n",
       "         0.46037259, 0.51743832, 0.51743832, 0.37576334, 0.37576334,\n",
       "         0.53359639, 0.53359639, 0.48373197, 0.48373197, 0.88701051,\n",
       "         0.88701051, 0.40270032, 0.40270032, 0.26666046, 0.26666046,\n",
       "         0.84552118, 0.84552118, 0.58051815, 0.58051815, 0.52695299,\n",
       "         0.52695299, 0.15144365, 0.15144365, 0.40437271, 0.40437271,\n",
       "         0.39222169, 0.39222169, 0.20792022, 0.20792022, 0.8162751 ,\n",
       "         0.8162751 , 0.25861571, 0.25861571, 0.70463286, 0.70463286,\n",
       "         0.07470174, 0.07470174, 0.02752739, 0.02752739, 0.90822215,\n",
       "         0.90822215, 0.55940076, 0.55940076, 0.0733941 , 0.0733941 ,\n",
       "         0.20367843, 0.20367843, 0.86542459, 0.86542459, 0.1720875 ,\n",
       "         0.1720875 , 0.68420737, 0.68420737, 0.88170616, 0.88170616,\n",
       "         0.22712021, 0.22712021, 0.75241031, 0.75241031, 0.40492837,\n",
       "         0.40492837, 0.61550797, 0.61550797, 0.08826565, 0.08826565,\n",
       "         0.73037795, 0.73037795, 0.52536826, 0.52536826, 0.18904528,\n",
       "         0.18904528, 0.44285566, 0.44285566, 0.62623545, 0.62623545,\n",
       "         0.67578775, 0.67578775, 0.53112534, 0.53112534, 0.0836533 ,\n",
       "         0.0836533 , 0.62839012, 0.62839012, 0.89910768, 0.89910768,\n",
       "         0.45308552, 0.45308552, 0.51030118, 0.51030118, 0.2788562 ,\n",
       "         0.2788562 , 0.998284  , 0.998284  , 0.75594646, 0.75594646,\n",
       "         0.32512117, 0.32512117, 0.4537418 , 0.4537418 , 0.62044166,\n",
       "         0.62044166, 0.56366834, 0.56366834, 0.73004385, 0.73004385,\n",
       "         0.54363551, 0.54363551, 0.74921227, 0.74921227, 0.46917926,\n",
       "         0.46917926, 0.88026795, 0.88026795, 0.48994561, 0.48994561,\n",
       "         0.05171863, 0.05171863, 0.00825829, 0.00825829, 0.99873783,\n",
       "         0.99873783, 0.96159558, 0.96159558, 0.63379725, 0.63379725,\n",
       "         0.72996907, 0.72996907, 0.22230144, 0.22230144, 0.07210907,\n",
       "         0.07210907, 0.71337288, 0.71337288, 0.03839632, 0.03839632,\n",
       "         0.13947131, 0.13947131, 0.50816662, 0.50816662, 0.72228486,\n",
       "         0.72228486, 0.92059103, 0.92059103, 0.46679006, 0.46679006])}}"
      ]
     },
     "execution_count": 1,
     "metadata": {},
     "output_type": "execute_result"
    }
   ],
   "source": [
    "ds = load_by_id(run_id_n)\n",
    "ds.get_parameter_data('x1')"
   ]
  },
  {
   "cell_type": "markdown",
   "metadata": {},
   "source": [
    "And a dataset stored as binary arrays"
   ]
  },
  {
   "cell_type": "code",
   "execution_count": 12,
   "metadata": {
    "execution": {
     "iopub.execute_input": "2020-11-17T12:59:40.597250Z",
     "iopub.status.busy": "2020-11-17T12:59:40.596718Z",
     "iopub.status.idle": "2020-11-17T12:59:40.656047Z",
     "shell.execute_reply": "2020-11-17T12:59:40.656844Z"
    },
    "scrolled": true
   },
   "outputs": [
    {
     "data": {
      "text/plain": [
       "{'x1': {'x1': array([[0.97627468],\n",
       "         [0.97627468],\n",
       "         [0.77307232],\n",
       "         [0.77307232],\n",
       "         [0.38520342],\n",
       "         [0.38520342],\n",
       "         [0.33074742],\n",
       "         [0.33074742],\n",
       "         [0.39639309],\n",
       "         [0.39639309],\n",
       "         [0.88450437],\n",
       "         [0.88450437],\n",
       "         [0.71259416],\n",
       "         [0.71259416],\n",
       "         [0.4204214 ],\n",
       "         [0.4204214 ],\n",
       "         [0.4961441 ],\n",
       "         [0.4961441 ],\n",
       "         [0.53770589],\n",
       "         [0.53770589],\n",
       "         [0.35986026],\n",
       "         [0.35986026],\n",
       "         [0.99269118],\n",
       "         [0.99269118],\n",
       "         [0.03930071],\n",
       "         [0.03930071],\n",
       "         [0.74673333],\n",
       "         [0.74673333],\n",
       "         [0.03787185],\n",
       "         [0.03787185],\n",
       "         [0.56459997],\n",
       "         [0.56459997],\n",
       "         [0.36008488],\n",
       "         [0.36008488],\n",
       "         [0.81357122],\n",
       "         [0.81357122],\n",
       "         [0.25353026],\n",
       "         [0.25353026],\n",
       "         [0.55123945],\n",
       "         [0.55123945],\n",
       "         [0.62298654],\n",
       "         [0.62298654],\n",
       "         [0.53268104],\n",
       "         [0.53268104],\n",
       "         [0.07713847],\n",
       "         [0.07713847],\n",
       "         [0.50036291],\n",
       "         [0.50036291],\n",
       "         [0.64977025],\n",
       "         [0.64977025],\n",
       "         [0.42815851],\n",
       "         [0.42815851],\n",
       "         [0.97722894],\n",
       "         [0.97722894],\n",
       "         [0.62901736],\n",
       "         [0.62901736],\n",
       "         [0.6782597 ],\n",
       "         [0.6782597 ],\n",
       "         [0.24742271],\n",
       "         [0.24742271],\n",
       "         [0.29718944],\n",
       "         [0.29718944],\n",
       "         [0.42748852],\n",
       "         [0.42748852],\n",
       "         [0.71145421],\n",
       "         [0.71145421],\n",
       "         [0.89032228],\n",
       "         [0.89032228],\n",
       "         [0.93330467],\n",
       "         [0.93330467],\n",
       "         [0.43316595],\n",
       "         [0.43316595],\n",
       "         [0.55518525],\n",
       "         [0.55518525],\n",
       "         [0.06263962],\n",
       "         [0.06263962],\n",
       "         [0.78996302],\n",
       "         [0.78996302],\n",
       "         [0.18113056],\n",
       "         [0.18113056],\n",
       "         [0.28529777],\n",
       "         [0.28529777],\n",
       "         [0.29607675],\n",
       "         [0.29607675],\n",
       "         [0.92393035],\n",
       "         [0.92393035],\n",
       "         [0.51367017],\n",
       "         [0.51367017],\n",
       "         [0.85889369],\n",
       "         [0.85889369],\n",
       "         [0.6778215 ],\n",
       "         [0.6778215 ],\n",
       "         [0.28225653],\n",
       "         [0.28225653],\n",
       "         [0.15777485],\n",
       "         [0.15777485],\n",
       "         [0.45845733],\n",
       "         [0.45845733],\n",
       "         [0.53246167],\n",
       "         [0.53246167],\n",
       "         [0.28569404],\n",
       "         [0.28569404],\n",
       "         [0.77431762],\n",
       "         [0.77431762],\n",
       "         [0.39119022],\n",
       "         [0.39119022],\n",
       "         [0.29400949],\n",
       "         [0.29400949],\n",
       "         [0.94214078],\n",
       "         [0.94214078],\n",
       "         [0.16796298],\n",
       "         [0.16796298],\n",
       "         [0.20180582],\n",
       "         [0.20180582],\n",
       "         [0.11263509],\n",
       "         [0.11263509],\n",
       "         [0.50605344],\n",
       "         [0.50605344],\n",
       "         [0.45155472],\n",
       "         [0.45155472],\n",
       "         [0.83624687],\n",
       "         [0.83624687],\n",
       "         [0.36632885],\n",
       "         [0.36632885],\n",
       "         [0.53599684],\n",
       "         [0.53599684],\n",
       "         [0.88922812],\n",
       "         [0.88922812],\n",
       "         [0.51039973],\n",
       "         [0.51039973],\n",
       "         [0.97233316],\n",
       "         [0.97233316],\n",
       "         [0.16978327],\n",
       "         [0.16978327],\n",
       "         [0.14629928],\n",
       "         [0.14629928],\n",
       "         [0.89057159],\n",
       "         [0.89057159],\n",
       "         [0.7763399 ],\n",
       "         [0.7763399 ],\n",
       "         [0.77380924],\n",
       "         [0.77380924],\n",
       "         [0.09473809],\n",
       "         [0.09473809],\n",
       "         [0.03190882],\n",
       "         [0.03190882],\n",
       "         [0.50531553],\n",
       "         [0.50531553],\n",
       "         [0.96047593],\n",
       "         [0.96047593],\n",
       "         [0.33212756],\n",
       "         [0.33212756],\n",
       "         [0.59232159],\n",
       "         [0.59232159],\n",
       "         [0.44667858],\n",
       "         [0.44667858],\n",
       "         [0.61721944],\n",
       "         [0.61721944],\n",
       "         [0.79552366],\n",
       "         [0.79552366],\n",
       "         [0.27141023],\n",
       "         [0.27141023],\n",
       "         [0.93773127],\n",
       "         [0.93773127],\n",
       "         [0.31983875],\n",
       "         [0.31983875],\n",
       "         [0.11674965],\n",
       "         [0.11674965],\n",
       "         [0.40358733],\n",
       "         [0.40358733],\n",
       "         [0.87867218],\n",
       "         [0.87867218],\n",
       "         [0.4453119 ],\n",
       "         [0.4453119 ],\n",
       "         [0.89923339],\n",
       "         [0.89923339],\n",
       "         [0.03747795],\n",
       "         [0.03747795],\n",
       "         [0.23165257],\n",
       "         [0.23165257],\n",
       "         [0.34646455],\n",
       "         [0.34646455],\n",
       "         [0.1990616 ],\n",
       "         [0.1990616 ],\n",
       "         [0.01373359],\n",
       "         [0.01373359],\n",
       "         [0.83452407],\n",
       "         [0.83452407],\n",
       "         [0.42532907],\n",
       "         [0.42532907],\n",
       "         [0.68719049],\n",
       "         [0.68719049],\n",
       "         [0.83585781],\n",
       "         [0.83585781],\n",
       "         [0.75419289],\n",
       "         [0.75419289],\n",
       "         [0.58272016],\n",
       "         [0.58272016],\n",
       "         [0.08145884],\n",
       "         [0.08145884]])}}"
      ]
     },
     "execution_count": 1,
     "metadata": {},
     "output_type": "execute_result"
    }
   ],
   "source": [
    "ds = load_by_id(run_id_a)\n",
    "ds.get_parameter_data('x1')"
   ]
  },
  {
   "cell_type": "code",
   "execution_count": null,
   "metadata": {},
   "outputs": [],
   "source": []
  }
 ],
 "metadata": {
  "kernelspec": {
   "display_name": "Python 3",
   "language": "python",
   "name": "python3"
  },
  "language_info": {
   "codemirror_mode": {
    "name": "ipython",
    "version": 3
   },
   "file_extension": ".py",
   "mimetype": "text/x-python",
   "name": "python",
   "nbconvert_exporter": "python",
   "pygments_lexer": "ipython3",
   "version": "3.7.9"
  },
  "nbsphinx": {
   "timeout": 600
  },
  "toc": {
   "base_numbering": 1,
   "nav_menu": {},
   "number_sections": true,
   "sideBar": true,
   "skip_h1_title": false,
   "title_cell": "Table of Contents",
   "title_sidebar": "Contents",
   "toc_cell": false,
   "toc_position": {},
   "toc_section_display": true,
   "toc_window_display": false
  },
  "varInspector": {
   "cols": {
    "lenName": 16,
    "lenType": 16,
    "lenVar": 40
   },
   "kernels_config": {
    "python": {
     "delete_cmd_postfix": "",
     "delete_cmd_prefix": "del ",
     "library": "var_list.py",
     "varRefreshCmd": "print(var_dic_list())"
    },
    "r": {
     "delete_cmd_postfix": ") ",
     "delete_cmd_prefix": "rm(",
     "library": "var_list.r",
     "varRefreshCmd": "cat(var_dic_list()) "
    }
   },
   "types_to_exclude": [
    "module",
    "function",
    "builtin_function_or_method",
    "instance",
    "_Feature"
   ],
   "window_display": false
  }
 },
 "nbformat": 4,
 "nbformat_minor": 2
}
