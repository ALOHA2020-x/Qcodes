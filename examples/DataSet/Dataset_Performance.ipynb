{
 "cells": [
  {
   "cell_type": "markdown",
   "metadata": {},
   "source": [
    "# DataSet Performance\n",
    "\n",
    "This notebook shows the trade-off between inserting data into a database row-by-row and as binary blobs. Inserting the data row-by-row means that we have direct access to all the data and may perform queries directly on the values of the data. On the other hand, as we shall see, this is much slower than inserting the data directly as binary blobs."
   ]
  },
  {
   "cell_type": "markdown",
   "metadata": {},
   "source": [
    "First, we choose a new location for the database to ensure that we don't add a bunch of benchmarking data to the default one."
   ]
  },
  {
   "cell_type": "code",
   "execution_count": 1,
   "metadata": {
    "execution": {
     "iopub.execute_input": "2021-03-01T13:00:40.941352Z",
     "iopub.status.busy": "2021-03-01T13:00:40.940372Z",
     "iopub.status.idle": "2021-03-01T13:00:41.799475Z",
     "shell.execute_reply": "2021-03-01T13:00:41.798433Z"
    }
   },
   "outputs": [
    {
     "name": "stdout",
     "output_type": "stream",
     "text": [
      "Logging hadn't been started.\n",
      "Activating auto-logging. Current session state plus future input saved.\n",
      "Filename       : /home/runner/.qcodes/logs/command_history.log\n",
      "Mode           : append\n",
      "Output logging : True\n",
      "Raw input log  : False\n",
      "Timestamping   : True\n",
      "State          : active\n"
     ]
    },
    {
     "name": "stdout",
     "output_type": "stream",
     "text": [
      "Qcodes Logfile : /home/runner/.qcodes/logs/210301-4083-qcodes.log\n"
     ]
    }
   ],
   "source": [
    "import os\n",
    "cwd = os.getcwd()\n",
    "import qcodes as qc\n",
    "qc.config[\"core\"][\"db_location\"] = os.path.join(cwd, 'testing.db')\n"
   ]
  },
  {
   "cell_type": "code",
   "execution_count": 2,
   "metadata": {
    "execution": {
     "iopub.execute_input": "2021-03-01T13:00:41.805781Z",
     "iopub.status.busy": "2021-03-01T13:00:41.805226Z",
     "iopub.status.idle": "2021-03-01T13:00:41.986158Z",
     "shell.execute_reply": "2021-03-01T13:00:41.985613Z"
    }
   },
   "outputs": [],
   "source": [
    "%matplotlib inline\n",
    "import time\n",
    "import matplotlib.pyplot as plt\n",
    "import numpy as np\n",
    "\n",
    "import qcodes as qc\n",
    "from qcodes.instrument.parameter import ManualParameter\n",
    "from qcodes.dataset.experiment_container import (Experiment,\n",
    "                                                 load_last_experiment,\n",
    "                                                 new_experiment)\n",
    "from qcodes.dataset.sqlite.database import initialise_database\n",
    "from qcodes import load_or_create_experiment\n",
    "from qcodes.dataset.measurements import Measurement"
   ]
  },
  {
   "cell_type": "code",
   "execution_count": 3,
   "metadata": {
    "execution": {
     "iopub.execute_input": "2021-03-01T13:00:41.990416Z",
     "iopub.status.busy": "2021-03-01T13:00:41.989640Z",
     "iopub.status.idle": "2021-03-01T13:00:42.088883Z",
     "shell.execute_reply": "2021-03-01T13:00:42.089366Z"
    }
   },
   "outputs": [
    {
     "name": "stdout",
     "output_type": "stream",
     "text": [
      "\r",
      "0it [00:00, ?it/s]"
     ]
    },
    {
     "name": "stdout",
     "output_type": "stream",
     "text": [
      "\r",
      "Upgrading database; v0 -> v1: : 0it [00:00, ?it/s]"
     ]
    },
    {
     "name": "stdout",
     "output_type": "stream",
     "text": [
      "\r",
      "Upgrading database; v0 -> v1: : 0it [00:00, ?it/s]"
     ]
    },
    {
     "name": "stdout",
     "output_type": "stream",
     "text": [
      "\n",
      "\r",
      "  0%|          | 0/1 [00:00<?, ?it/s]"
     ]
    },
    {
     "name": "stdout",
     "output_type": "stream",
     "text": [
      "\r",
      "Upgrading database; v1 -> v2:   0%|          | 0/1 [00:00<?, ?it/s]"
     ]
    },
    {
     "name": "stdout",
     "output_type": "stream",
     "text": [
      "\r",
      "Upgrading database; v1 -> v2: 100%|██████████| 1/1 [00:00<00:00, 1005.83it/s]"
     ]
    },
    {
     "name": "stdout",
     "output_type": "stream",
     "text": [
      "\n",
      "\r",
      "0it [00:00, ?it/s]"
     ]
    },
    {
     "name": "stdout",
     "output_type": "stream",
     "text": [
      "\r",
      "Upgrading database; v2 -> v3: : 0it [00:00, ?it/s]"
     ]
    },
    {
     "name": "stdout",
     "output_type": "stream",
     "text": [
      "\r",
      "Upgrading database; v2 -> v3: : 0it [00:00, ?it/s]"
     ]
    },
    {
     "name": "stdout",
     "output_type": "stream",
     "text": [
      "\n",
      "\r",
      "0it [00:00, ?it/s]"
     ]
    },
    {
     "name": "stdout",
     "output_type": "stream",
     "text": [
      "\r",
      "Upgrading database; v3 -> v4: : 0it [00:00, ?it/s]"
     ]
    },
    {
     "name": "stdout",
     "output_type": "stream",
     "text": [
      "\r",
      "Upgrading database; v3 -> v4: : 0it [00:00, ?it/s]"
     ]
    },
    {
     "name": "stdout",
     "output_type": "stream",
     "text": [
      "\n",
      "\r",
      "  0%|          | 0/1 [00:00<?, ?it/s]"
     ]
    },
    {
     "name": "stdout",
     "output_type": "stream",
     "text": [
      "\r",
      "Upgrading database; v4 -> v5:   0%|          | 0/1 [00:00<?, ?it/s]"
     ]
    },
    {
     "name": "stdout",
     "output_type": "stream",
     "text": [
      "\r",
      "Upgrading database; v4 -> v5: 100%|██████████| 1/1 [00:00<00:00, 1030.54it/s]"
     ]
    },
    {
     "name": "stdout",
     "output_type": "stream",
     "text": [
      "\n",
      "\r",
      "0it [00:00, ?it/s]"
     ]
    },
    {
     "name": "stdout",
     "output_type": "stream",
     "text": [
      "\r",
      "Upgrading database; v5 -> v6: : 0it [00:00, ?it/s]"
     ]
    },
    {
     "name": "stdout",
     "output_type": "stream",
     "text": [
      "\r",
      "Upgrading database; v5 -> v6: : 0it [00:00, ?it/s]"
     ]
    },
    {
     "name": "stdout",
     "output_type": "stream",
     "text": [
      "\n",
      "\r",
      "  0%|          | 0/1 [00:00<?, ?it/s]"
     ]
    },
    {
     "name": "stdout",
     "output_type": "stream",
     "text": [
      "\r",
      "Upgrading database; v6 -> v7:   0%|          | 0/1 [00:00<?, ?it/s]"
     ]
    },
    {
     "name": "stdout",
     "output_type": "stream",
     "text": [
      "\r",
      "Upgrading database; v6 -> v7: 100%|██████████| 1/1 [00:00<00:00, 342.70it/s]"
     ]
    },
    {
     "name": "stdout",
     "output_type": "stream",
     "text": [
      "\n",
      "\r",
      "  0%|          | 0/1 [00:00<?, ?it/s]"
     ]
    },
    {
     "name": "stdout",
     "output_type": "stream",
     "text": [
      "\r",
      "Upgrading database; v7 -> v8:   0%|          | 0/1 [00:00<?, ?it/s]"
     ]
    },
    {
     "name": "stdout",
     "output_type": "stream",
     "text": [
      "\r",
      "Upgrading database; v7 -> v8: 100%|██████████| 1/1 [00:00<00:00, 587.85it/s]"
     ]
    },
    {
     "name": "stdout",
     "output_type": "stream",
     "text": [
      "\n",
      "\r",
      "  0%|          | 0/1 [00:00<?, ?it/s]"
     ]
    },
    {
     "name": "stdout",
     "output_type": "stream",
     "text": [
      "\r",
      "Upgrading database; v8 -> v9:   0%|          | 0/1 [00:00<?, ?it/s]"
     ]
    },
    {
     "name": "stdout",
     "output_type": "stream",
     "text": [
      "\r",
      "Upgrading database; v8 -> v9: 100%|██████████| 1/1 [00:00<00:00, 934.56it/s]"
     ]
    },
    {
     "name": "stdout",
     "output_type": "stream",
     "text": [
      "\n"
     ]
    }
   ],
   "source": [
    "initialise_database()\n",
    "exp = load_or_create_experiment(experiment_name='tutorial_exp', sample_name=\"no sample\")"
   ]
  },
  {
   "cell_type": "markdown",
   "metadata": {},
   "source": [
    "Here, we define a simple function to benchmark the time it takes to insert n points with either numeric or array data type.\n",
    "We will compare both the time used to call ``add_result`` and the time used for the full measurement."
   ]
  },
  {
   "cell_type": "code",
   "execution_count": 4,
   "metadata": {
    "execution": {
     "iopub.execute_input": "2021-03-01T13:00:42.098063Z",
     "iopub.status.busy": "2021-03-01T13:00:42.096955Z",
     "iopub.status.idle": "2021-03-01T13:00:42.098648Z",
     "shell.execute_reply": "2021-03-01T13:00:42.099114Z"
    }
   },
   "outputs": [],
   "source": [
    "def insert_data(paramtype, npoints, nreps=1):\n",
    "\n",
    "    meas = Measurement(exp=exp)\n",
    "\n",
    "    x1 = ManualParameter('x1')\n",
    "    x2 = ManualParameter('x2')\n",
    "    x3 = ManualParameter('x3')\n",
    "    y1 = ManualParameter('y1')\n",
    "    y2 = ManualParameter('y2')\n",
    "\n",
    "    meas.register_parameter(x1, paramtype=paramtype)\n",
    "    meas.register_parameter(x2, paramtype=paramtype)\n",
    "    meas.register_parameter(x3, paramtype=paramtype)\n",
    "    meas.register_parameter(y1, setpoints=[x1, x2, x3],\n",
    "                            paramtype=paramtype)\n",
    "    meas.register_parameter(y2, setpoints=[x1, x2, x3],\n",
    "                            paramtype=paramtype)\n",
    "    start = time.perf_counter()\n",
    "    with meas.run() as datasaver:\n",
    "        start_adding = time.perf_counter()\n",
    "        for i in range(nreps):\n",
    "            datasaver.add_result((x1, np.random.rand(npoints)),\n",
    "                                 (x2, np.random.rand(npoints)),\n",
    "                                 (x3, np.random.rand(npoints)),\n",
    "                                 (y1, np.random.rand(npoints)),\n",
    "                                 (y2, np.random.rand(npoints)))\n",
    "        stop_adding = time.perf_counter()\n",
    "        run_id = datasaver.run_id\n",
    "    stop = time.perf_counter()\n",
    "    tot_time = stop - start\n",
    "    add_time = stop_adding - start_adding\n",
    "    return tot_time, add_time, run_id"
   ]
  },
  {
   "cell_type": "markdown",
   "metadata": {},
   "source": [
    "## Comparison between numeric/array data and binary blob"
   ]
  },
  {
   "cell_type": "markdown",
   "metadata": {},
   "source": [
    "### Case1: Short experiment time"
   ]
  },
  {
   "cell_type": "code",
   "execution_count": 5,
   "metadata": {
    "execution": {
     "iopub.execute_input": "2021-03-01T13:00:42.105823Z",
     "iopub.status.busy": "2021-03-01T13:00:42.105197Z",
     "iopub.status.idle": "2021-03-01T13:00:42.833117Z",
     "shell.execute_reply": "2021-03-01T13:00:42.832625Z"
    }
   },
   "outputs": [
    {
     "name": "stdout",
     "output_type": "stream",
     "text": [
      "Starting experimental run with id: 1. \n",
      "Starting experimental run with id: 2. \n",
      "Starting experimental run with id: 3. \n",
      "Starting experimental run with id: 4. \n",
      "Starting experimental run with id: 5. \n",
      "Starting experimental run with id: 6. \n"
     ]
    },
    {
     "name": "stdout",
     "output_type": "stream",
     "text": [
      "Starting experimental run with id: 7. \n"
     ]
    },
    {
     "name": "stdout",
     "output_type": "stream",
     "text": [
      "Starting experimental run with id: 8. \n",
      "Starting experimental run with id: 9. \n",
      "Starting experimental run with id: 10. \n"
     ]
    },
    {
     "name": "stdout",
     "output_type": "stream",
     "text": [
      "Starting experimental run with id: 11. \n"
     ]
    },
    {
     "name": "stdout",
     "output_type": "stream",
     "text": [
      "Starting experimental run with id: 12. \n",
      "Starting experimental run with id: 13. \n"
     ]
    },
    {
     "name": "stdout",
     "output_type": "stream",
     "text": [
      "Starting experimental run with id: 14. \n"
     ]
    }
   ],
   "source": [
    "sizes = [1,500,1000,2000,3000,4000,5000]\n",
    "t_numeric = []\n",
    "t_numeric_add = []\n",
    "t_array = []\n",
    "t_array_add = []\n",
    "for size in sizes:\n",
    "    tn, tna, run_id_n =  insert_data('numeric', size)\n",
    "    t_numeric.append(tn)\n",
    "    t_numeric_add.append(tna)\n",
    "\n",
    "    ta, taa, run_id_a =  insert_data('array', size)\n",
    "    t_array.append(ta)\n",
    "    t_array_add.append(taa)"
   ]
  },
  {
   "cell_type": "code",
   "execution_count": 6,
   "metadata": {
    "execution": {
     "iopub.execute_input": "2021-03-01T13:00:42.849131Z",
     "iopub.status.busy": "2021-03-01T13:00:42.838391Z",
     "iopub.status.idle": "2021-03-01T13:00:43.041130Z",
     "shell.execute_reply": "2021-03-01T13:00:43.041891Z"
    }
   },
   "outputs": [
    {
     "data": {
      "image/png": "[encoded data removed]",
      "text/plain": [
       "<Figure size 432x288 with 1 Axes>"
      ]
     },
     "metadata": {
      "needs_background": "light"
     },
     "output_type": "display_data"
    }
   ],
   "source": [
    "fig, ax = plt.subplots(1,1)\n",
    "ax.plot(sizes, t_numeric, 'o-', label='Inserting row-by-row')\n",
    "ax.plot(sizes, t_numeric_add, 'o-', label='Inserting row-by-row: add_result only')\n",
    "ax.plot(sizes, t_array, 'd-', label='Inserting as binary blob')\n",
    "ax.plot(sizes, t_array_add, 'd-', label='Inserting as binary blob: add_result only')\n",
    "ax.legend()\n",
    "ax.set_xlabel('Array length')\n",
    "ax.set_ylabel('Time (s)')\n",
    "fig.tight_layout()"
   ]
  },
  {
   "cell_type": "markdown",
   "metadata": {},
   "source": [
    "As shown in the latter figure, the time to setup and and close the experiment is approximately 0.4 sec. In case of small array sizes, the difference between inserting values of data as arrays and inserting them row-by-row is relatively unimportant. At larger array sizes, i.e. above 10000 points, the cost of writing data as individual datapoints starts to become important.\n"
   ]
  },
  {
   "cell_type": "markdown",
   "metadata": {},
   "source": [
    "### Case2: Long experiment time "
   ]
  },
  {
   "cell_type": "code",
   "execution_count": 7,
   "metadata": {
    "execution": {
     "iopub.execute_input": "2021-03-01T13:00:43.048455Z",
     "iopub.status.busy": "2021-03-01T13:00:43.047445Z",
     "iopub.status.idle": "2021-03-01T13:01:39.220875Z",
     "shell.execute_reply": "2021-03-01T13:01:39.219918Z"
    }
   },
   "outputs": [
    {
     "name": "stdout",
     "output_type": "stream",
     "text": [
      "Starting experimental run with id: 15. \n",
      "Starting experimental run with id: 16. \n",
      "Starting experimental run with id: 17. \n"
     ]
    },
    {
     "name": "stdout",
     "output_type": "stream",
     "text": [
      "Starting experimental run with id: 18. \n",
      "Starting experimental run with id: 19. \n"
     ]
    },
    {
     "name": "stdout",
     "output_type": "stream",
     "text": [
      "Starting experimental run with id: 20. \n"
     ]
    },
    {
     "name": "stdout",
     "output_type": "stream",
     "text": [
      "Starting experimental run with id: 21. \n"
     ]
    },
    {
     "name": "stdout",
     "output_type": "stream",
     "text": [
      "Starting experimental run with id: 22. \n"
     ]
    },
    {
     "name": "stdout",
     "output_type": "stream",
     "text": [
      "Starting experimental run with id: 23. \n"
     ]
    },
    {
     "name": "stdout",
     "output_type": "stream",
     "text": [
      "Starting experimental run with id: 24. \n"
     ]
    },
    {
     "name": "stdout",
     "output_type": "stream",
     "text": [
      "Starting experimental run with id: 25. \n"
     ]
    },
    {
     "name": "stdout",
     "output_type": "stream",
     "text": [
      "Starting experimental run with id: 26. \n"
     ]
    },
    {
     "name": "stdout",
     "output_type": "stream",
     "text": [
      "Starting experimental run with id: 27. \n"
     ]
    },
    {
     "name": "stdout",
     "output_type": "stream",
     "text": [
      "Starting experimental run with id: 28. \n"
     ]
    }
   ],
   "source": [
    "sizes = [1,500,1000,2000,3000,4000,5000]\n",
    "nreps = 100\n",
    "t_numeric = []\n",
    "t_numeric_add = []\n",
    "t_numeric_run_ids = []\n",
    "t_array = []\n",
    "t_array_add = []\n",
    "t_array_run_ids = []\n",
    "for size in sizes:\n",
    "    tn, tna, run_id_n =  insert_data('numeric', size, nreps=nreps)\n",
    "    t_numeric.append(tn)\n",
    "    t_numeric_add.append(tna)\n",
    "    t_numeric_run_ids.append(run_id_n)\n",
    "\n",
    "    ta, taa, run_id_a =  insert_data('array', size, nreps=nreps)\n",
    "    t_array.append(ta)\n",
    "    t_array_add.append(taa)\n",
    "    t_array_run_ids.append(run_id_a)"
   ]
  },
  {
   "cell_type": "code",
   "execution_count": 8,
   "metadata": {
    "execution": {
     "iopub.execute_input": "2021-03-01T13:01:39.251994Z",
     "iopub.status.busy": "2021-03-01T13:01:39.246865Z",
     "iopub.status.idle": "2021-03-01T13:01:39.428698Z",
     "shell.execute_reply": "2021-03-01T13:01:39.429457Z"
    },
    "scrolled": true
   },
   "outputs": [
    {
     "data": {
      "image/png": "[encoded data removed]",
      "text/plain": [
       "<Figure size 432x288 with 1 Axes>"
      ]
     },
     "metadata": {
      "needs_background": "light"
     },
     "output_type": "display_data"
    }
   ],
   "source": [
    "fig, ax = plt.subplots(1,1)\n",
    "ax.plot(sizes, t_numeric, 'o-', label='Inserting row-by-row')\n",
    "ax.plot(sizes, t_numeric_add, 'o-', label='Inserting row-by-row: add_result only')\n",
    "ax.plot(sizes, t_array, 'd-', label='Inserting as binary blob')\n",
    "ax.plot(sizes, t_array_add, 'd-', label='Inserting as binary blob: add_result only')\n",
    "ax.legend()\n",
    "ax.set_xlabel('Array length')\n",
    "ax.set_ylabel('Time (s)')\n",
    "fig.tight_layout()"
   ]
  },
  {
   "cell_type": "markdown",
   "metadata": {},
   "source": [
    "However, as we increase the length of the experiment, as seen here by repeating the insertion 100 times, we see a big difference between inserting values of the data row-by-row and inserting it as a binary blob."
   ]
  },
  {
   "cell_type": "markdown",
   "metadata": {},
   "source": [
    "## Loading the data "
   ]
  },
  {
   "cell_type": "code",
   "execution_count": 9,
   "metadata": {
    "execution": {
     "iopub.execute_input": "2021-03-01T13:01:39.435353Z",
     "iopub.status.busy": "2021-03-01T13:01:39.434307Z",
     "iopub.status.idle": "2021-03-01T13:01:39.437939Z",
     "shell.execute_reply": "2021-03-01T13:01:39.438420Z"
    }
   },
   "outputs": [],
   "source": [
    "from qcodes.dataset.data_set import load_by_id\n",
    "from qcodes.dataset.data_export import get_data_by_id"
   ]
  },
  {
   "cell_type": "markdown",
   "metadata": {},
   "source": [
    "As usual you can load the data by using the ``load_by_id`` function but you will notice that the different storage methods\n",
    "are reflected in shape of the data as it is retrieved. "
   ]
  },
  {
   "cell_type": "code",
   "execution_count": 10,
   "metadata": {
    "execution": {
     "iopub.execute_input": "2021-03-01T13:01:39.442174Z",
     "iopub.status.busy": "2021-03-01T13:01:39.441614Z",
     "iopub.status.idle": "2021-03-01T13:01:39.444058Z",
     "shell.execute_reply": "2021-03-01T13:01:39.443611Z"
    }
   },
   "outputs": [],
   "source": [
    "run_id_n = t_numeric_run_ids[0]\n",
    "run_id_a = t_array_run_ids[0]"
   ]
  },
  {
   "cell_type": "code",
   "execution_count": 11,
   "metadata": {
    "execution": {
     "iopub.execute_input": "2021-03-01T13:01:39.447451Z",
     "iopub.status.busy": "2021-03-01T13:01:39.446843Z",
     "iopub.status.idle": "2021-03-01T13:01:39.455880Z",
     "shell.execute_reply": "2021-03-01T13:01:39.456294Z"
    },
    "scrolled": true
   },
   "outputs": [
    {
     "data": {
      "text/plain": [
       "{'x1': {'x1': array([0.3186037 , 0.3186037 , 0.43621927, 0.43621927, 0.38325505,\n",
       "         0.38325505, 0.66659732, 0.66659732, 0.63073487, 0.63073487,\n",
       "         0.17483431, 0.17483431, 0.13776696, 0.13776696, 0.16331242,\n",
       "         0.16331242, 0.02879392, 0.02879392, 0.84276872, 0.84276872,\n",
       "         0.33422697, 0.33422697, 0.74986795, 0.74986795, 0.03193973,\n",
       "         0.03193973, 0.86094007, 0.86094007, 0.53824174, 0.53824174,\n",
       "         0.81446497, 0.81446497, 0.66330081, 0.66330081, 0.01613786,\n",
       "         0.01613786, 0.03379914, 0.03379914, 0.42111945, 0.42111945,\n",
       "         0.05175968, 0.05175968, 0.43018893, 0.43018893, 0.45372471,\n",
       "         0.45372471, 0.24779129, 0.24779129, 0.0171237 , 0.0171237 ,\n",
       "         0.47733067, 0.47733067, 0.25972906, 0.25972906, 0.23498072,\n",
       "         0.23498072, 0.98994501, 0.98994501, 0.05696073, 0.05696073,\n",
       "         0.93911101, 0.93911101, 0.20529622, 0.20529622, 0.19023525,\n",
       "         0.19023525, 0.31999626, 0.31999626, 0.32515146, 0.32515146,\n",
       "         0.21023746, 0.21023746, 0.66875603, 0.66875603, 0.12457007,\n",
       "         0.12457007, 0.35022848, 0.35022848, 0.08964298, 0.08964298,\n",
       "         0.14747386, 0.14747386, 0.63599824, 0.63599824, 0.14495162,\n",
       "         0.14495162, 0.89117362, 0.89117362, 0.74951915, 0.74951915,\n",
       "         0.30065848, 0.30065848, 0.51524994, 0.51524994, 0.12334732,\n",
       "         0.12334732, 0.47458028, 0.47458028, 0.08046267, 0.08046267,\n",
       "         0.84681042, 0.84681042, 0.97996571, 0.97996571, 0.44717317,\n",
       "         0.44717317, 0.46281584, 0.46281584, 0.47400223, 0.47400223,\n",
       "         0.28504797, 0.28504797, 0.29220838, 0.29220838, 0.40754862,\n",
       "         0.40754862, 0.47190903, 0.47190903, 0.74848121, 0.74848121,\n",
       "         0.41872603, 0.41872603, 0.84725503, 0.84725503, 0.53771448,\n",
       "         0.53771448, 0.34198145, 0.34198145, 0.5638699 , 0.5638699 ,\n",
       "         0.44794948, 0.44794948, 0.62771429, 0.62771429, 0.08424349,\n",
       "         0.08424349, 0.45537926, 0.45537926, 0.93169364, 0.93169364,\n",
       "         0.92174872, 0.92174872, 0.98356661, 0.98356661, 0.70056397,\n",
       "         0.70056397, 0.42154218, 0.42154218, 0.33974684, 0.33974684,\n",
       "         0.18388246, 0.18388246, 0.33866754, 0.33866754, 0.53471996,\n",
       "         0.53471996, 0.97140467, 0.97140467, 0.33108571, 0.33108571,\n",
       "         0.87471846, 0.87471846, 0.01634385, 0.01634385, 0.53010665,\n",
       "         0.53010665, 0.780788  , 0.780788  , 0.67106073, 0.67106073,\n",
       "         0.79699693, 0.79699693, 0.21448971, 0.21448971, 0.17429197,\n",
       "         0.17429197, 0.39790882, 0.39790882, 0.27697276, 0.27697276,\n",
       "         0.89575262, 0.89575262, 0.48136878, 0.48136878, 0.80273078,\n",
       "         0.80273078, 0.98128722, 0.98128722, 0.38548222, 0.38548222,\n",
       "         0.89001051, 0.89001051, 0.5792646 , 0.5792646 , 0.89618456,\n",
       "         0.89618456, 0.79507614, 0.79507614, 0.09210265, 0.09210265])}}"
      ]
     },
     "execution_count": 1,
     "metadata": {},
     "output_type": "execute_result"
    }
   ],
   "source": [
    "ds = load_by_id(run_id_n)\n",
    "ds.get_parameter_data('x1')"
   ]
  },
  {
   "cell_type": "markdown",
   "metadata": {},
   "source": [
    "And a dataset stored as binary arrays"
   ]
  },
  {
   "cell_type": "code",
   "execution_count": 12,
   "metadata": {
    "execution": {
     "iopub.execute_input": "2021-03-01T13:01:39.459614Z",
     "iopub.status.busy": "2021-03-01T13:01:39.459077Z",
     "iopub.status.idle": "2021-03-01T13:01:39.517103Z",
     "shell.execute_reply": "2021-03-01T13:01:39.516190Z"
    },
    "scrolled": true
   },
   "outputs": [
    {
     "data": {
      "text/plain": [
       "{'x1': {'x1': array([[0.90439495],\n",
       "         [0.90439495],\n",
       "         [0.50409993],\n",
       "         [0.50409993],\n",
       "         [0.68641747],\n",
       "         [0.68641747],\n",
       "         [0.81007112],\n",
       "         [0.81007112],\n",
       "         [0.3147787 ],\n",
       "         [0.3147787 ],\n",
       "         [0.3110067 ],\n",
       "         [0.3110067 ],\n",
       "         [0.93480408],\n",
       "         [0.93480408],\n",
       "         [0.09231901],\n",
       "         [0.09231901],\n",
       "         [0.59768014],\n",
       "         [0.59768014],\n",
       "         [0.69396281],\n",
       "         [0.69396281],\n",
       "         [0.61320334],\n",
       "         [0.61320334],\n",
       "         [0.15183536],\n",
       "         [0.15183536],\n",
       "         [0.20323055],\n",
       "         [0.20323055],\n",
       "         [0.25163378],\n",
       "         [0.25163378],\n",
       "         [0.1006036 ],\n",
       "         [0.1006036 ],\n",
       "         [0.2436709 ],\n",
       "         [0.2436709 ],\n",
       "         [0.22290834],\n",
       "         [0.22290834],\n",
       "         [0.29929879],\n",
       "         [0.29929879],\n",
       "         [0.91580085],\n",
       "         [0.91580085],\n",
       "         [0.3655696 ],\n",
       "         [0.3655696 ],\n",
       "         [0.32836597],\n",
       "         [0.32836597],\n",
       "         [0.81426934],\n",
       "         [0.81426934],\n",
       "         [0.53048573],\n",
       "         [0.53048573],\n",
       "         [0.13723112],\n",
       "         [0.13723112],\n",
       "         [0.14941321],\n",
       "         [0.14941321],\n",
       "         [0.30903714],\n",
       "         [0.30903714],\n",
       "         [0.2827184 ],\n",
       "         [0.2827184 ],\n",
       "         [0.07270534],\n",
       "         [0.07270534],\n",
       "         [0.10129559],\n",
       "         [0.10129559],\n",
       "         [0.67238147],\n",
       "         [0.67238147],\n",
       "         [0.9651213 ],\n",
       "         [0.9651213 ],\n",
       "         [0.68589872],\n",
       "         [0.68589872],\n",
       "         [0.8919303 ],\n",
       "         [0.8919303 ],\n",
       "         [0.95231085],\n",
       "         [0.95231085],\n",
       "         [0.08993978],\n",
       "         [0.08993978],\n",
       "         [0.70110641],\n",
       "         [0.70110641],\n",
       "         [0.60724525],\n",
       "         [0.60724525],\n",
       "         [0.90011964],\n",
       "         [0.90011964],\n",
       "         [0.70229682],\n",
       "         [0.70229682],\n",
       "         [0.58274329],\n",
       "         [0.58274329],\n",
       "         [0.26485443],\n",
       "         [0.26485443],\n",
       "         [0.63534851],\n",
       "         [0.63534851],\n",
       "         [0.71688907],\n",
       "         [0.71688907],\n",
       "         [0.79564048],\n",
       "         [0.79564048],\n",
       "         [0.88014746],\n",
       "         [0.88014746],\n",
       "         [0.13169406],\n",
       "         [0.13169406],\n",
       "         [0.568375  ],\n",
       "         [0.568375  ],\n",
       "         [0.24532021],\n",
       "         [0.24532021],\n",
       "         [0.9313272 ],\n",
       "         [0.9313272 ],\n",
       "         [0.7459842 ],\n",
       "         [0.7459842 ],\n",
       "         [0.11881177],\n",
       "         [0.11881177],\n",
       "         [0.82121728],\n",
       "         [0.82121728],\n",
       "         [0.68341464],\n",
       "         [0.68341464],\n",
       "         [0.92819265],\n",
       "         [0.92819265],\n",
       "         [0.86834056],\n",
       "         [0.86834056],\n",
       "         [0.20658655],\n",
       "         [0.20658655],\n",
       "         [0.16417905],\n",
       "         [0.16417905],\n",
       "         [0.40450178],\n",
       "         [0.40450178],\n",
       "         [0.72952277],\n",
       "         [0.72952277],\n",
       "         [0.70614216],\n",
       "         [0.70614216],\n",
       "         [0.67673873],\n",
       "         [0.67673873],\n",
       "         [0.70663839],\n",
       "         [0.70663839],\n",
       "         [0.62594428],\n",
       "         [0.62594428],\n",
       "         [0.51164606],\n",
       "         [0.51164606],\n",
       "         [0.31673768],\n",
       "         [0.31673768],\n",
       "         [0.56043185],\n",
       "         [0.56043185],\n",
       "         [0.47629503],\n",
       "         [0.47629503],\n",
       "         [0.5851769 ],\n",
       "         [0.5851769 ],\n",
       "         [0.67170532],\n",
       "         [0.67170532],\n",
       "         [0.98504986],\n",
       "         [0.98504986],\n",
       "         [0.10285166],\n",
       "         [0.10285166],\n",
       "         [0.17588283],\n",
       "         [0.17588283],\n",
       "         [0.98942573],\n",
       "         [0.98942573],\n",
       "         [0.61594342],\n",
       "         [0.61594342],\n",
       "         [0.72196385],\n",
       "         [0.72196385],\n",
       "         [0.04592923],\n",
       "         [0.04592923],\n",
       "         [0.31003323],\n",
       "         [0.31003323],\n",
       "         [0.96489725],\n",
       "         [0.96489725],\n",
       "         [0.26837723],\n",
       "         [0.26837723],\n",
       "         [0.82150055],\n",
       "         [0.82150055],\n",
       "         [0.97971081],\n",
       "         [0.97971081],\n",
       "         [0.44864489],\n",
       "         [0.44864489],\n",
       "         [0.48363874],\n",
       "         [0.48363874],\n",
       "         [0.1179232 ],\n",
       "         [0.1179232 ],\n",
       "         [0.46359991],\n",
       "         [0.46359991],\n",
       "         [0.93239952],\n",
       "         [0.93239952],\n",
       "         [0.46884554],\n",
       "         [0.46884554],\n",
       "         [0.80208139],\n",
       "         [0.80208139],\n",
       "         [0.78047085],\n",
       "         [0.78047085],\n",
       "         [0.66716174],\n",
       "         [0.66716174],\n",
       "         [0.95887697],\n",
       "         [0.95887697],\n",
       "         [0.03220372],\n",
       "         [0.03220372],\n",
       "         [0.84345379],\n",
       "         [0.84345379],\n",
       "         [0.78173467],\n",
       "         [0.78173467],\n",
       "         [0.26782728],\n",
       "         [0.26782728],\n",
       "         [0.80418478],\n",
       "         [0.80418478],\n",
       "         [0.37160931],\n",
       "         [0.37160931],\n",
       "         [0.08457705],\n",
       "         [0.08457705],\n",
       "         [0.12083354],\n",
       "         [0.12083354],\n",
       "         [0.55294214],\n",
       "         [0.55294214]])}}"
      ]
     },
     "execution_count": 1,
     "metadata": {},
     "output_type": "execute_result"
    }
   ],
   "source": [
    "ds = load_by_id(run_id_a)\n",
    "ds.get_parameter_data('x1')"
   ]
  },
  {
   "cell_type": "code",
   "execution_count": null,
   "metadata": {},
   "outputs": [],
   "source": []
  }
 ],
 "metadata": {
  "kernelspec": {
   "display_name": "Python 3",
   "language": "python",
   "name": "python3"
  },
  "language_info": {
   "codemirror_mode": {
    "name": "ipython",
    "version": 3
   },
   "file_extension": ".py",
   "mimetype": "text/x-python",
   "name": "python",
   "nbconvert_exporter": "python",
   "pygments_lexer": "ipython3",
   "version": "3.7.10"
  },
  "nbsphinx": {
   "timeout": 600
  },
  "toc": {
   "base_numbering": 1,
   "nav_menu": {},
   "number_sections": true,
   "sideBar": true,
   "skip_h1_title": false,
   "title_cell": "Table of Contents",
   "title_sidebar": "Contents",
   "toc_cell": false,
   "toc_position": {},
   "toc_section_display": true,
   "toc_window_display": false
  },
  "varInspector": {
   "cols": {
    "lenName": 16,
    "lenType": 16,
    "lenVar": 40
   },
   "kernels_config": {
    "python": {
     "delete_cmd_postfix": "",
     "delete_cmd_prefix": "del ",
     "library": "var_list.py",
     "varRefreshCmd": "print(var_dic_list())"
    },
    "r": {
     "delete_cmd_postfix": ") ",
     "delete_cmd_prefix": "rm(",
     "library": "var_list.r",
     "varRefreshCmd": "cat(var_dic_list()) "
    }
   },
   "types_to_exclude": [
    "module",
    "function",
    "builtin_function_or_method",
    "instance",
    "_Feature"
   ],
   "window_display": false
  }
 },
 "nbformat": 4,
 "nbformat_minor": 2
}
