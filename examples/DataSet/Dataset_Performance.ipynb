{
 "cells": [
  {
   "cell_type": "markdown",
   "metadata": {},
   "source": [
    "# DataSet Performance\n",
    "\n",
    "This notebook shows the trade-off between inserting data into a database row-by-row and as binary blobs. Inserting the data row-by-row means that we have direct access to all the data and may perform queries directly on the values of the data. On the other hand, as we shall see, this is much slower than inserting the data directly as binary blobs."
   ]
  },
  {
   "cell_type": "markdown",
   "metadata": {},
   "source": [
    "First, we choose a new location for the database to ensure that we don't add a bunch of benchmarking data to the default one."
   ]
  },
  {
   "cell_type": "code",
   "execution_count": 1,
   "metadata": {
    "execution": {
     "iopub.execute_input": "2021-03-02T19:17:43.545757Z",
     "iopub.status.busy": "2021-03-02T19:17:43.545140Z",
     "iopub.status.idle": "2021-03-02T19:17:44.459721Z",
     "shell.execute_reply": "2021-03-02T19:17:44.460166Z"
    }
   },
   "outputs": [
    {
     "name": "stdout",
     "output_type": "stream",
     "text": [
      "Logging hadn't been started.\n",
      "Activating auto-logging. Current session state plus future input saved.\n",
      "Filename       : /home/runner/.qcodes/logs/command_history.log\n",
      "Mode           : append\n",
      "Output logging : True\n",
      "Raw input log  : False\n",
      "Timestamping   : True\n",
      "State          : active\n"
     ]
    },
    {
     "name": "stdout",
     "output_type": "stream",
     "text": [
      "Qcodes Logfile : /home/runner/.qcodes/logs/210302-4055-qcodes.log\n"
     ]
    }
   ],
   "source": [
    "import os\n",
    "cwd = os.getcwd()\n",
    "import qcodes as qc\n",
    "qc.config[\"core\"][\"db_location\"] = os.path.join(cwd, 'testing.db')\n"
   ]
  },
  {
   "cell_type": "code",
   "execution_count": 2,
   "metadata": {
    "execution": {
     "iopub.execute_input": "2021-03-02T19:17:44.469727Z",
     "iopub.status.busy": "2021-03-02T19:17:44.467753Z",
     "iopub.status.idle": "2021-03-02T19:17:44.672654Z",
     "shell.execute_reply": "2021-03-02T19:17:44.673347Z"
    }
   },
   "outputs": [],
   "source": [
    "%matplotlib inline\n",
    "import time\n",
    "import matplotlib.pyplot as plt\n",
    "import numpy as np\n",
    "\n",
    "import qcodes as qc\n",
    "from qcodes.instrument.parameter import ManualParameter\n",
    "from qcodes.dataset.experiment_container import (Experiment,\n",
    "                                                 load_last_experiment,\n",
    "                                                 new_experiment)\n",
    "from qcodes.dataset.sqlite.database import initialise_database\n",
    "from qcodes import load_or_create_experiment\n",
    "from qcodes.dataset.measurements import Measurement"
   ]
  },
  {
   "cell_type": "code",
   "execution_count": 3,
   "metadata": {
    "execution": {
     "iopub.execute_input": "2021-03-02T19:17:44.677971Z",
     "iopub.status.busy": "2021-03-02T19:17:44.677333Z",
     "iopub.status.idle": "2021-03-02T19:17:44.812687Z",
     "shell.execute_reply": "2021-03-02T19:17:44.813178Z"
    }
   },
   "outputs": [
    {
     "name": "stdout",
     "output_type": "stream",
     "text": [
      "\r",
      "0it [00:00, ?it/s]"
     ]
    },
    {
     "name": "stdout",
     "output_type": "stream",
     "text": [
      "\r",
      "Upgrading database; v0 -> v1: : 0it [00:00, ?it/s]"
     ]
    },
    {
     "name": "stdout",
     "output_type": "stream",
     "text": [
      "\r",
      "Upgrading database; v0 -> v1: : 0it [00:00, ?it/s]"
     ]
    },
    {
     "name": "stdout",
     "output_type": "stream",
     "text": [
      "\n",
      "\r",
      "  0%|          | 0/1 [00:00<?, ?it/s]"
     ]
    },
    {
     "name": "stdout",
     "output_type": "stream",
     "text": [
      "\r",
      "Upgrading database; v1 -> v2:   0%|          | 0/1 [00:00<?, ?it/s]"
     ]
    },
    {
     "name": "stdout",
     "output_type": "stream",
     "text": [
      "\r",
      "Upgrading database; v1 -> v2: 100%|██████████| 1/1 [00:00<00:00, 481.66it/s]"
     ]
    },
    {
     "name": "stdout",
     "output_type": "stream",
     "text": [
      "\n",
      "\r",
      "0it [00:00, ?it/s]"
     ]
    },
    {
     "name": "stdout",
     "output_type": "stream",
     "text": [
      "\r",
      "Upgrading database; v2 -> v3: : 0it [00:00, ?it/s]"
     ]
    },
    {
     "name": "stdout",
     "output_type": "stream",
     "text": [
      "\r",
      "Upgrading database; v2 -> v3: : 0it [00:00, ?it/s]"
     ]
    },
    {
     "name": "stdout",
     "output_type": "stream",
     "text": [
      "\n",
      "\r",
      "0it [00:00, ?it/s]"
     ]
    },
    {
     "name": "stdout",
     "output_type": "stream",
     "text": [
      "\r",
      "Upgrading database; v3 -> v4: : 0it [00:00, ?it/s]"
     ]
    },
    {
     "name": "stdout",
     "output_type": "stream",
     "text": [
      "\r",
      "Upgrading database; v3 -> v4: : 0it [00:00, ?it/s]"
     ]
    },
    {
     "name": "stdout",
     "output_type": "stream",
     "text": [
      "\n",
      "\r",
      "  0%|          | 0/1 [00:00<?, ?it/s]"
     ]
    },
    {
     "name": "stdout",
     "output_type": "stream",
     "text": [
      "\r",
      "Upgrading database; v4 -> v5:   0%|          | 0/1 [00:00<?, ?it/s]"
     ]
    },
    {
     "name": "stdout",
     "output_type": "stream",
     "text": [
      "\r",
      "Upgrading database; v4 -> v5: 100%|██████████| 1/1 [00:00<00:00, 989.69it/s]"
     ]
    },
    {
     "name": "stdout",
     "output_type": "stream",
     "text": [
      "\n",
      "\r",
      "0it [00:00, ?it/s]"
     ]
    },
    {
     "name": "stdout",
     "output_type": "stream",
     "text": [
      "\r",
      "Upgrading database; v5 -> v6: : 0it [00:00, ?it/s]"
     ]
    },
    {
     "name": "stdout",
     "output_type": "stream",
     "text": [
      "\r",
      "Upgrading database; v5 -> v6: : 0it [00:00, ?it/s]"
     ]
    },
    {
     "name": "stdout",
     "output_type": "stream",
     "text": [
      "\n",
      "\r",
      "  0%|          | 0/1 [00:00<?, ?it/s]"
     ]
    },
    {
     "name": "stdout",
     "output_type": "stream",
     "text": [
      "\r",
      "Upgrading database; v6 -> v7:   0%|          | 0/1 [00:00<?, ?it/s]"
     ]
    },
    {
     "name": "stdout",
     "output_type": "stream",
     "text": [
      "\r",
      "Upgrading database; v6 -> v7: 100%|██████████| 1/1 [00:00<00:00, 342.92it/s]"
     ]
    },
    {
     "name": "stdout",
     "output_type": "stream",
     "text": [
      "\n",
      "\r",
      "  0%|          | 0/1 [00:00<?, ?it/s]"
     ]
    },
    {
     "name": "stdout",
     "output_type": "stream",
     "text": [
      "\r",
      "Upgrading database; v7 -> v8:   0%|          | 0/1 [00:00<?, ?it/s]"
     ]
    },
    {
     "name": "stdout",
     "output_type": "stream",
     "text": [
      "\r",
      "Upgrading database; v7 -> v8: 100%|██████████| 1/1 [00:00<00:00, 94.80it/s]"
     ]
    },
    {
     "name": "stdout",
     "output_type": "stream",
     "text": [
      "\n",
      "\r",
      "  0%|          | 0/1 [00:00<?, ?it/s]"
     ]
    },
    {
     "name": "stdout",
     "output_type": "stream",
     "text": [
      "\r",
      "Upgrading database; v8 -> v9:   0%|          | 0/1 [00:00<?, ?it/s]"
     ]
    },
    {
     "name": "stdout",
     "output_type": "stream",
     "text": [
      "\r",
      "Upgrading database; v8 -> v9: 100%|██████████| 1/1 [00:00<00:00, 562.69it/s]"
     ]
    },
    {
     "name": "stdout",
     "output_type": "stream",
     "text": [
      "\n"
     ]
    }
   ],
   "source": [
    "initialise_database()\n",
    "exp = load_or_create_experiment(experiment_name='tutorial_exp', sample_name=\"no sample\")"
   ]
  },
  {
   "cell_type": "markdown",
   "metadata": {},
   "source": [
    "Here, we define a simple function to benchmark the time it takes to insert n points with either numeric or array data type.\n",
    "We will compare both the time used to call ``add_result`` and the time used for the full measurement."
   ]
  },
  {
   "cell_type": "code",
   "execution_count": 4,
   "metadata": {
    "execution": {
     "iopub.execute_input": "2021-03-02T19:17:44.823276Z",
     "iopub.status.busy": "2021-03-02T19:17:44.821960Z",
     "iopub.status.idle": "2021-03-02T19:17:44.824122Z",
     "shell.execute_reply": "2021-03-02T19:17:44.824667Z"
    }
   },
   "outputs": [],
   "source": [
    "def insert_data(paramtype, npoints, nreps=1):\n",
    "\n",
    "    meas = Measurement(exp=exp)\n",
    "\n",
    "    x1 = ManualParameter('x1')\n",
    "    x2 = ManualParameter('x2')\n",
    "    x3 = ManualParameter('x3')\n",
    "    y1 = ManualParameter('y1')\n",
    "    y2 = ManualParameter('y2')\n",
    "\n",
    "    meas.register_parameter(x1, paramtype=paramtype)\n",
    "    meas.register_parameter(x2, paramtype=paramtype)\n",
    "    meas.register_parameter(x3, paramtype=paramtype)\n",
    "    meas.register_parameter(y1, setpoints=[x1, x2, x3],\n",
    "                            paramtype=paramtype)\n",
    "    meas.register_parameter(y2, setpoints=[x1, x2, x3],\n",
    "                            paramtype=paramtype)\n",
    "    start = time.perf_counter()\n",
    "    with meas.run() as datasaver:\n",
    "        start_adding = time.perf_counter()\n",
    "        for i in range(nreps):\n",
    "            datasaver.add_result((x1, np.random.rand(npoints)),\n",
    "                                 (x2, np.random.rand(npoints)),\n",
    "                                 (x3, np.random.rand(npoints)),\n",
    "                                 (y1, np.random.rand(npoints)),\n",
    "                                 (y2, np.random.rand(npoints)))\n",
    "        stop_adding = time.perf_counter()\n",
    "        run_id = datasaver.run_id\n",
    "    stop = time.perf_counter()\n",
    "    tot_time = stop - start\n",
    "    add_time = stop_adding - start_adding\n",
    "    return tot_time, add_time, run_id"
   ]
  },
  {
   "cell_type": "markdown",
   "metadata": {},
   "source": [
    "## Comparison between numeric/array data and binary blob"
   ]
  },
  {
   "cell_type": "markdown",
   "metadata": {},
   "source": [
    "### Case1: Short experiment time"
   ]
  },
  {
   "cell_type": "code",
   "execution_count": 5,
   "metadata": {
    "execution": {
     "iopub.execute_input": "2021-03-02T19:17:44.830668Z",
     "iopub.status.busy": "2021-03-02T19:17:44.830076Z",
     "iopub.status.idle": "2021-03-02T19:17:45.707321Z",
     "shell.execute_reply": "2021-03-02T19:17:45.706777Z"
    }
   },
   "outputs": [
    {
     "name": "stdout",
     "output_type": "stream",
     "text": [
      "Starting experimental run with id: 1. \n",
      "Starting experimental run with id: 2. \n",
      "Starting experimental run with id: 3. \n",
      "Starting experimental run with id: 4. \n"
     ]
    },
    {
     "name": "stdout",
     "output_type": "stream",
     "text": [
      "Starting experimental run with id: 5. \n"
     ]
    },
    {
     "name": "stdout",
     "output_type": "stream",
     "text": [
      "Starting experimental run with id: 6. \n"
     ]
    },
    {
     "name": "stdout",
     "output_type": "stream",
     "text": [
      "Starting experimental run with id: 7. \n"
     ]
    },
    {
     "name": "stdout",
     "output_type": "stream",
     "text": [
      "Starting experimental run with id: 8. \n",
      "Starting experimental run with id: 9. \n"
     ]
    },
    {
     "name": "stdout",
     "output_type": "stream",
     "text": [
      "Starting experimental run with id: 10. \n",
      "Starting experimental run with id: 11. \n"
     ]
    },
    {
     "name": "stdout",
     "output_type": "stream",
     "text": [
      "Starting experimental run with id: 12. \n"
     ]
    },
    {
     "name": "stdout",
     "output_type": "stream",
     "text": [
      "Starting experimental run with id: 13. \n"
     ]
    },
    {
     "name": "stdout",
     "output_type": "stream",
     "text": [
      "Starting experimental run with id: 14. \n"
     ]
    }
   ],
   "source": [
    "sizes = [1,500,1000,2000,3000,4000,5000]\n",
    "t_numeric = []\n",
    "t_numeric_add = []\n",
    "t_array = []\n",
    "t_array_add = []\n",
    "for size in sizes:\n",
    "    tn, tna, run_id_n =  insert_data('numeric', size)\n",
    "    t_numeric.append(tn)\n",
    "    t_numeric_add.append(tna)\n",
    "\n",
    "    ta, taa, run_id_a =  insert_data('array', size)\n",
    "    t_array.append(ta)\n",
    "    t_array_add.append(taa)"
   ]
  },
  {
   "cell_type": "code",
   "execution_count": 6,
   "metadata": {
    "execution": {
     "iopub.execute_input": "2021-03-02T19:17:45.727038Z",
     "iopub.status.busy": "2021-03-02T19:17:45.726395Z",
     "iopub.status.idle": "2021-03-02T19:17:45.930844Z",
     "shell.execute_reply": "2021-03-02T19:17:45.930118Z"
    }
   },
   "outputs": [
    {
     "data": {
      "image/png": "[encoded data removed]",
      "text/plain": [
       "<Figure size 432x288 with 1 Axes>"
      ]
     },
     "metadata": {
      "needs_background": "light"
     },
     "output_type": "display_data"
    }
   ],
   "source": [
    "fig, ax = plt.subplots(1,1)\n",
    "ax.plot(sizes, t_numeric, 'o-', label='Inserting row-by-row')\n",
    "ax.plot(sizes, t_numeric_add, 'o-', label='Inserting row-by-row: add_result only')\n",
    "ax.plot(sizes, t_array, 'd-', label='Inserting as binary blob')\n",
    "ax.plot(sizes, t_array_add, 'd-', label='Inserting as binary blob: add_result only')\n",
    "ax.legend()\n",
    "ax.set_xlabel('Array length')\n",
    "ax.set_ylabel('Time (s)')\n",
    "fig.tight_layout()"
   ]
  },
  {
   "cell_type": "markdown",
   "metadata": {},
   "source": [
    "As shown in the latter figure, the time to setup and and close the experiment is approximately 0.4 sec. In case of small array sizes, the difference between inserting values of data as arrays and inserting them row-by-row is relatively unimportant. At larger array sizes, i.e. above 10000 points, the cost of writing data as individual datapoints starts to become important.\n"
   ]
  },
  {
   "cell_type": "markdown",
   "metadata": {},
   "source": [
    "### Case2: Long experiment time "
   ]
  },
  {
   "cell_type": "code",
   "execution_count": 7,
   "metadata": {
    "execution": {
     "iopub.execute_input": "2021-03-02T19:17:45.937885Z",
     "iopub.status.busy": "2021-03-02T19:17:45.936309Z",
     "iopub.status.idle": "2021-03-02T19:18:45.912269Z",
     "shell.execute_reply": "2021-03-02T19:18:45.911636Z"
    }
   },
   "outputs": [
    {
     "name": "stdout",
     "output_type": "stream",
     "text": [
      "Starting experimental run with id: 15. \n",
      "Starting experimental run with id: 16. \n",
      "Starting experimental run with id: 17. \n"
     ]
    },
    {
     "name": "stdout",
     "output_type": "stream",
     "text": [
      "Starting experimental run with id: 18. \n"
     ]
    },
    {
     "name": "stdout",
     "output_type": "stream",
     "text": [
      "Starting experimental run with id: 19. \n"
     ]
    },
    {
     "name": "stdout",
     "output_type": "stream",
     "text": [
      "Starting experimental run with id: 20. \n"
     ]
    },
    {
     "name": "stdout",
     "output_type": "stream",
     "text": [
      "Starting experimental run with id: 21. \n"
     ]
    },
    {
     "name": "stdout",
     "output_type": "stream",
     "text": [
      "Starting experimental run with id: 22. \n"
     ]
    },
    {
     "name": "stdout",
     "output_type": "stream",
     "text": [
      "Starting experimental run with id: 23. \n"
     ]
    },
    {
     "name": "stdout",
     "output_type": "stream",
     "text": [
      "Starting experimental run with id: 24. \n"
     ]
    },
    {
     "name": "stdout",
     "output_type": "stream",
     "text": [
      "Starting experimental run with id: 25. \n"
     ]
    },
    {
     "name": "stdout",
     "output_type": "stream",
     "text": [
      "Starting experimental run with id: 26. \n"
     ]
    },
    {
     "name": "stdout",
     "output_type": "stream",
     "text": [
      "Starting experimental run with id: 27. \n"
     ]
    },
    {
     "name": "stdout",
     "output_type": "stream",
     "text": [
      "Starting experimental run with id: 28. \n"
     ]
    }
   ],
   "source": [
    "sizes = [1,500,1000,2000,3000,4000,5000]\n",
    "nreps = 100\n",
    "t_numeric = []\n",
    "t_numeric_add = []\n",
    "t_numeric_run_ids = []\n",
    "t_array = []\n",
    "t_array_add = []\n",
    "t_array_run_ids = []\n",
    "for size in sizes:\n",
    "    tn, tna, run_id_n =  insert_data('numeric', size, nreps=nreps)\n",
    "    t_numeric.append(tn)\n",
    "    t_numeric_add.append(tna)\n",
    "    t_numeric_run_ids.append(run_id_n)\n",
    "\n",
    "    ta, taa, run_id_a =  insert_data('array', size, nreps=nreps)\n",
    "    t_array.append(ta)\n",
    "    t_array_add.append(taa)\n",
    "    t_array_run_ids.append(run_id_a)"
   ]
  },
  {
   "cell_type": "code",
   "execution_count": 8,
   "metadata": {
    "execution": {
     "iopub.execute_input": "2021-03-02T19:18:45.957045Z",
     "iopub.status.busy": "2021-03-02T19:18:45.955312Z",
     "iopub.status.idle": "2021-03-02T19:18:46.127604Z",
     "shell.execute_reply": "2021-03-02T19:18:46.128131Z"
    },
    "scrolled": true
   },
   "outputs": [
    {
     "data": {
      "image/png": "[encoded data removed]",
      "text/plain": [
       "<Figure size 432x288 with 1 Axes>"
      ]
     },
     "metadata": {
      "needs_background": "light"
     },
     "output_type": "display_data"
    }
   ],
   "source": [
    "fig, ax = plt.subplots(1,1)\n",
    "ax.plot(sizes, t_numeric, 'o-', label='Inserting row-by-row')\n",
    "ax.plot(sizes, t_numeric_add, 'o-', label='Inserting row-by-row: add_result only')\n",
    "ax.plot(sizes, t_array, 'd-', label='Inserting as binary blob')\n",
    "ax.plot(sizes, t_array_add, 'd-', label='Inserting as binary blob: add_result only')\n",
    "ax.legend()\n",
    "ax.set_xlabel('Array length')\n",
    "ax.set_ylabel('Time (s)')\n",
    "fig.tight_layout()"
   ]
  },
  {
   "cell_type": "markdown",
   "metadata": {},
   "source": [
    "However, as we increase the length of the experiment, as seen here by repeating the insertion 100 times, we see a big difference between inserting values of the data row-by-row and inserting it as a binary blob."
   ]
  },
  {
   "cell_type": "markdown",
   "metadata": {},
   "source": [
    "## Loading the data "
   ]
  },
  {
   "cell_type": "code",
   "execution_count": 9,
   "metadata": {
    "execution": {
     "iopub.execute_input": "2021-03-02T19:18:46.132899Z",
     "iopub.status.busy": "2021-03-02T19:18:46.131814Z",
     "iopub.status.idle": "2021-03-02T19:18:46.134771Z",
     "shell.execute_reply": "2021-03-02T19:18:46.135223Z"
    }
   },
   "outputs": [],
   "source": [
    "from qcodes.dataset.data_set import load_by_id\n",
    "from qcodes.dataset.data_export import get_data_by_id"
   ]
  },
  {
   "cell_type": "markdown",
   "metadata": {},
   "source": [
    "As usual you can load the data by using the ``load_by_id`` function but you will notice that the different storage methods\n",
    "are reflected in shape of the data as it is retrieved. "
   ]
  },
  {
   "cell_type": "code",
   "execution_count": 10,
   "metadata": {
    "execution": {
     "iopub.execute_input": "2021-03-02T19:18:46.139657Z",
     "iopub.status.busy": "2021-03-02T19:18:46.139071Z",
     "iopub.status.idle": "2021-03-02T19:18:46.140695Z",
     "shell.execute_reply": "2021-03-02T19:18:46.141267Z"
    }
   },
   "outputs": [],
   "source": [
    "run_id_n = t_numeric_run_ids[0]\n",
    "run_id_a = t_array_run_ids[0]"
   ]
  },
  {
   "cell_type": "code",
   "execution_count": 11,
   "metadata": {
    "execution": {
     "iopub.execute_input": "2021-03-02T19:18:46.145026Z",
     "iopub.status.busy": "2021-03-02T19:18:46.144426Z",
     "iopub.status.idle": "2021-03-02T19:18:46.154171Z",
     "shell.execute_reply": "2021-03-02T19:18:46.154746Z"
    },
    "scrolled": true
   },
   "outputs": [
    {
     "data": {
      "text/plain": [
       "{'x1': {'x1': array([0.78681592, 0.78681592, 0.01333224, 0.01333224, 0.54842894,\n",
       "         0.54842894, 0.4710957 , 0.4710957 , 0.29151405, 0.29151405,\n",
       "         0.01945765, 0.01945765, 0.40847429, 0.40847429, 0.91520206,\n",
       "         0.91520206, 0.63679328, 0.63679328, 0.86904069, 0.86904069,\n",
       "         0.62952175, 0.62952175, 0.68069908, 0.68069908, 0.76040351,\n",
       "         0.76040351, 0.72836734, 0.72836734, 0.79307646, 0.79307646,\n",
       "         0.59296832, 0.59296832, 0.8851237 , 0.8851237 , 0.48839402,\n",
       "         0.48839402, 0.47593515, 0.47593515, 0.73294229, 0.73294229,\n",
       "         0.50104311, 0.50104311, 0.39805538, 0.39805538, 0.53773728,\n",
       "         0.53773728, 0.57890731, 0.57890731, 0.57778967, 0.57778967,\n",
       "         0.78007364, 0.78007364, 0.87986446, 0.87986446, 0.35284026,\n",
       "         0.35284026, 0.8488289 , 0.8488289 , 0.1955548 , 0.1955548 ,\n",
       "         0.98850087, 0.98850087, 0.9731057 , 0.9731057 , 0.45583939,\n",
       "         0.45583939, 0.18968248, 0.18968248, 0.60213417, 0.60213417,\n",
       "         0.36077678, 0.36077678, 0.00534382, 0.00534382, 0.72618812,\n",
       "         0.72618812, 0.95795204, 0.95795204, 0.48728025, 0.48728025,\n",
       "         0.79158331, 0.79158331, 0.90817965, 0.90817965, 0.51156492,\n",
       "         0.51156492, 0.14874826, 0.14874826, 0.69988273, 0.69988273,\n",
       "         0.32267133, 0.32267133, 0.99115109, 0.99115109, 0.43006394,\n",
       "         0.43006394, 0.59944108, 0.59944108, 0.37412119, 0.37412119,\n",
       "         0.64839496, 0.64839496, 0.31331782, 0.31331782, 0.62369315,\n",
       "         0.62369315, 0.43951735, 0.43951735, 0.71989507, 0.71989507,\n",
       "         0.56194338, 0.56194338, 0.849888  , 0.849888  , 0.44470759,\n",
       "         0.44470759, 0.03636149, 0.03636149, 0.82346812, 0.82346812,\n",
       "         0.96304898, 0.96304898, 0.11738012, 0.11738012, 0.38297202,\n",
       "         0.38297202, 0.43372943, 0.43372943, 0.74577458, 0.74577458,\n",
       "         0.31730631, 0.31730631, 0.3217423 , 0.3217423 , 0.10401479,\n",
       "         0.10401479, 0.8087445 , 0.8087445 , 0.50618614, 0.50618614,\n",
       "         0.067453  , 0.067453  , 0.35740212, 0.35740212, 0.05723763,\n",
       "         0.05723763, 0.2593749 , 0.2593749 , 0.10929706, 0.10929706,\n",
       "         0.31194328, 0.31194328, 0.44839549, 0.44839549, 0.60995138,\n",
       "         0.60995138, 0.15770618, 0.15770618, 0.83073226, 0.83073226,\n",
       "         0.59606799, 0.59606799, 0.41566459, 0.41566459, 0.67061088,\n",
       "         0.67061088, 0.36222926, 0.36222926, 0.90613761, 0.90613761,\n",
       "         0.36497117, 0.36497117, 0.20007174, 0.20007174, 0.80981205,\n",
       "         0.80981205, 0.28360534, 0.28360534, 0.04950354, 0.04950354,\n",
       "         0.63297699, 0.63297699, 0.45332835, 0.45332835, 0.77949851,\n",
       "         0.77949851, 0.76859989, 0.76859989, 0.67742717, 0.67742717,\n",
       "         0.52703123, 0.52703123, 0.15769637, 0.15769637, 0.04719807,\n",
       "         0.04719807, 0.33568224, 0.33568224, 0.59145766, 0.59145766])}}"
      ]
     },
     "execution_count": 1,
     "metadata": {},
     "output_type": "execute_result"
    }
   ],
   "source": [
    "ds = load_by_id(run_id_n)\n",
    "ds.get_parameter_data('x1')"
   ]
  },
  {
   "cell_type": "markdown",
   "metadata": {},
   "source": [
    "And a dataset stored as binary arrays"
   ]
  },
  {
   "cell_type": "code",
   "execution_count": 12,
   "metadata": {
    "execution": {
     "iopub.execute_input": "2021-03-02T19:18:46.158730Z",
     "iopub.status.busy": "2021-03-02T19:18:46.158153Z",
     "iopub.status.idle": "2021-03-02T19:18:46.215837Z",
     "shell.execute_reply": "2021-03-02T19:18:46.216691Z"
    },
    "scrolled": true
   },
   "outputs": [
    {
     "data": {
      "text/plain": [
       "{'x1': {'x1': array([[0.47338454],\n",
       "         [0.47338454],\n",
       "         [0.79391268],\n",
       "         [0.79391268],\n",
       "         [0.44349137],\n",
       "         [0.44349137],\n",
       "         [0.68641958],\n",
       "         [0.68641958],\n",
       "         [0.03195075],\n",
       "         [0.03195075],\n",
       "         [0.02957681],\n",
       "         [0.02957681],\n",
       "         [0.60794757],\n",
       "         [0.60794757],\n",
       "         [0.10101159],\n",
       "         [0.10101159],\n",
       "         [0.95528549],\n",
       "         [0.95528549],\n",
       "         [0.43613919],\n",
       "         [0.43613919],\n",
       "         [0.4721473 ],\n",
       "         [0.4721473 ],\n",
       "         [0.93874486],\n",
       "         [0.93874486],\n",
       "         [0.89214608],\n",
       "         [0.89214608],\n",
       "         [0.47329728],\n",
       "         [0.47329728],\n",
       "         [0.76281243],\n",
       "         [0.76281243],\n",
       "         [0.55219482],\n",
       "         [0.55219482],\n",
       "         [0.05059116],\n",
       "         [0.05059116],\n",
       "         [0.34897241],\n",
       "         [0.34897241],\n",
       "         [0.89150112],\n",
       "         [0.89150112],\n",
       "         [0.98374472],\n",
       "         [0.98374472],\n",
       "         [0.74570094],\n",
       "         [0.74570094],\n",
       "         [0.97854627],\n",
       "         [0.97854627],\n",
       "         [0.31207668],\n",
       "         [0.31207668],\n",
       "         [0.29599846],\n",
       "         [0.29599846],\n",
       "         [0.94175736],\n",
       "         [0.94175736],\n",
       "         [0.00198825],\n",
       "         [0.00198825],\n",
       "         [0.46042191],\n",
       "         [0.46042191],\n",
       "         [0.12109722],\n",
       "         [0.12109722],\n",
       "         [0.75298172],\n",
       "         [0.75298172],\n",
       "         [0.38987524],\n",
       "         [0.38987524],\n",
       "         [0.32632808],\n",
       "         [0.32632808],\n",
       "         [0.76321761],\n",
       "         [0.76321761],\n",
       "         [0.14783154],\n",
       "         [0.14783154],\n",
       "         [0.52747742],\n",
       "         [0.52747742],\n",
       "         [0.85481837],\n",
       "         [0.85481837],\n",
       "         [0.80961942],\n",
       "         [0.80961942],\n",
       "         [0.12472093],\n",
       "         [0.12472093],\n",
       "         [0.90587936],\n",
       "         [0.90587936],\n",
       "         [0.76548181],\n",
       "         [0.76548181],\n",
       "         [0.50997682],\n",
       "         [0.50997682],\n",
       "         [0.68690588],\n",
       "         [0.68690588],\n",
       "         [0.04186421],\n",
       "         [0.04186421],\n",
       "         [0.179153  ],\n",
       "         [0.179153  ],\n",
       "         [0.72887409],\n",
       "         [0.72887409],\n",
       "         [0.00148356],\n",
       "         [0.00148356],\n",
       "         [0.57749099],\n",
       "         [0.57749099],\n",
       "         [0.65502809],\n",
       "         [0.65502809],\n",
       "         [0.61762256],\n",
       "         [0.61762256],\n",
       "         [0.57740038],\n",
       "         [0.57740038],\n",
       "         [0.9630239 ],\n",
       "         [0.9630239 ],\n",
       "         [0.58673015],\n",
       "         [0.58673015],\n",
       "         [0.46754834],\n",
       "         [0.46754834],\n",
       "         [0.33644523],\n",
       "         [0.33644523],\n",
       "         [0.791027  ],\n",
       "         [0.791027  ],\n",
       "         [0.09012594],\n",
       "         [0.09012594],\n",
       "         [0.07676029],\n",
       "         [0.07676029],\n",
       "         [0.41672506],\n",
       "         [0.41672506],\n",
       "         [0.38589894],\n",
       "         [0.38589894],\n",
       "         [0.93096569],\n",
       "         [0.93096569],\n",
       "         [0.68477777],\n",
       "         [0.68477777],\n",
       "         [0.78565042],\n",
       "         [0.78565042],\n",
       "         [0.45448298],\n",
       "         [0.45448298],\n",
       "         [0.90703642],\n",
       "         [0.90703642],\n",
       "         [0.57093439],\n",
       "         [0.57093439],\n",
       "         [0.17635657],\n",
       "         [0.17635657],\n",
       "         [0.3497072 ],\n",
       "         [0.3497072 ],\n",
       "         [0.91770345],\n",
       "         [0.91770345],\n",
       "         [0.52419241],\n",
       "         [0.52419241],\n",
       "         [0.78843275],\n",
       "         [0.78843275],\n",
       "         [0.28901705],\n",
       "         [0.28901705],\n",
       "         [0.38315647],\n",
       "         [0.38315647],\n",
       "         [0.96738227],\n",
       "         [0.96738227],\n",
       "         [0.5414301 ],\n",
       "         [0.5414301 ],\n",
       "         [0.64705096],\n",
       "         [0.64705096],\n",
       "         [0.44741656],\n",
       "         [0.44741656],\n",
       "         [0.70023153],\n",
       "         [0.70023153],\n",
       "         [0.64519163],\n",
       "         [0.64519163],\n",
       "         [0.42714242],\n",
       "         [0.42714242],\n",
       "         [0.95116371],\n",
       "         [0.95116371],\n",
       "         [0.07141219],\n",
       "         [0.07141219],\n",
       "         [0.98510847],\n",
       "         [0.98510847],\n",
       "         [0.75632437],\n",
       "         [0.75632437],\n",
       "         [0.81488021],\n",
       "         [0.81488021],\n",
       "         [0.78221527],\n",
       "         [0.78221527],\n",
       "         [0.05551565],\n",
       "         [0.05551565],\n",
       "         [0.83232787],\n",
       "         [0.83232787],\n",
       "         [0.41298154],\n",
       "         [0.41298154],\n",
       "         [0.70270443],\n",
       "         [0.70270443],\n",
       "         [0.59860796],\n",
       "         [0.59860796],\n",
       "         [0.49557186],\n",
       "         [0.49557186],\n",
       "         [0.60344376],\n",
       "         [0.60344376],\n",
       "         [0.15152708],\n",
       "         [0.15152708],\n",
       "         [0.28853175],\n",
       "         [0.28853175],\n",
       "         [0.98295533],\n",
       "         [0.98295533],\n",
       "         [0.50686154],\n",
       "         [0.50686154],\n",
       "         [0.20485934],\n",
       "         [0.20485934],\n",
       "         [0.7619177 ],\n",
       "         [0.7619177 ],\n",
       "         [0.36121713],\n",
       "         [0.36121713],\n",
       "         [0.15557663],\n",
       "         [0.15557663],\n",
       "         [0.17099323],\n",
       "         [0.17099323]])}}"
      ]
     },
     "execution_count": 1,
     "metadata": {},
     "output_type": "execute_result"
    }
   ],
   "source": [
    "ds = load_by_id(run_id_a)\n",
    "ds.get_parameter_data('x1')"
   ]
  },
  {
   "cell_type": "code",
   "execution_count": null,
   "metadata": {},
   "outputs": [],
   "source": []
  }
 ],
 "metadata": {
  "kernelspec": {
   "display_name": "Python 3",
   "language": "python",
   "name": "python3"
  },
  "language_info": {
   "codemirror_mode": {
    "name": "ipython",
    "version": 3
   },
   "file_extension": ".py",
   "mimetype": "text/x-python",
   "name": "python",
   "nbconvert_exporter": "python",
   "pygments_lexer": "ipython3",
   "version": "3.7.10"
  },
  "nbsphinx": {
   "timeout": 600
  },
  "toc": {
   "base_numbering": 1,
   "nav_menu": {},
   "number_sections": true,
   "sideBar": true,
   "skip_h1_title": false,
   "title_cell": "Table of Contents",
   "title_sidebar": "Contents",
   "toc_cell": false,
   "toc_position": {},
   "toc_section_display": true,
   "toc_window_display": false
  },
  "varInspector": {
   "cols": {
    "lenName": 16,
    "lenType": 16,
    "lenVar": 40
   },
   "kernels_config": {
    "python": {
     "delete_cmd_postfix": "",
     "delete_cmd_prefix": "del ",
     "library": "var_list.py",
     "varRefreshCmd": "print(var_dic_list())"
    },
    "r": {
     "delete_cmd_postfix": ") ",
     "delete_cmd_prefix": "rm(",
     "library": "var_list.r",
     "varRefreshCmd": "cat(var_dic_list()) "
    }
   },
   "types_to_exclude": [
    "module",
    "function",
    "builtin_function_or_method",
    "instance",
    "_Feature"
   ],
   "window_display": false
  }
 },
 "nbformat": 4,
 "nbformat_minor": 2
}
