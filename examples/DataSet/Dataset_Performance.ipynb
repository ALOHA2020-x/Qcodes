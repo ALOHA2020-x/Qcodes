{
 "cells": [
  {
   "cell_type": "markdown",
   "metadata": {},
   "source": [
    "# DataSet Performance\n",
    "\n",
    "This notebook shows the trade-off between inserting data into a database row-by-row and as binary blobs. Inserting the data row-by-row means that we have direct access to all the data and may perform queries directly on the values of the data. On the other hand, as we shall see, this is much slower than inserting the data directly as binary blobs."
   ]
  },
  {
   "cell_type": "markdown",
   "metadata": {},
   "source": [
    "First, we choose a new location for the database to ensure that we don't add a bunch of benchmarking data to the default one."
   ]
  },
  {
   "cell_type": "code",
   "execution_count": 1,
   "metadata": {},
   "outputs": [
    {
     "name": "stdout",
     "output_type": "stream",
     "text": [
      "Logging hadn't been started.\n",
      "Activating auto-logging. Current session state plus future input saved.\n",
      "Filename       : /home/vsts/.qcodes/logs/command_history.log\n",
      "Mode           : append\n",
      "Output logging : True\n",
      "Raw input log  : False\n",
      "Timestamping   : True\n",
      "State          : active\n"
     ]
    },
    {
     "name": "stdout",
     "output_type": "stream",
     "text": [
      "Qcodes Logfile : /home/vsts/.qcodes/logs/200810-17331-qcodes.log\n"
     ]
    }
   ],
   "source": [
    "import os\n",
    "cwd = os.getcwd()\n",
    "import qcodes as qc\n",
    "qc.config[\"core\"][\"db_location\"] = os.path.join(cwd, 'testing.db')\n"
   ]
  },
  {
   "cell_type": "code",
   "execution_count": 2,
   "metadata": {},
   "outputs": [],
   "source": [
    "%matplotlib inline\n",
    "import time\n",
    "import matplotlib.pyplot as plt\n",
    "import numpy as np\n",
    "\n",
    "import qcodes as qc\n",
    "from qcodes.instrument.parameter import ManualParameter\n",
    "from qcodes.dataset.experiment_container import (Experiment,\n",
    "                                                 load_last_experiment,\n",
    "                                                 new_experiment)\n",
    "from qcodes.dataset.sqlite.database import initialise_database\n",
    "from qcodes import load_or_create_experiment\n",
    "from qcodes.dataset.measurements import Measurement"
   ]
  },
  {
   "cell_type": "code",
   "execution_count": 3,
   "metadata": {},
   "outputs": [
    {
     "name": "stdout",
     "output_type": "stream",
     "text": [
      "\r",
      "0it [00:00, ?it/s]"
     ]
    },
    {
     "name": "stdout",
     "output_type": "stream",
     "text": [
      "\r",
      "Upgrading database; v0 -> v1: : 0it [00:00, ?it/s]"
     ]
    },
    {
     "name": "stdout",
     "output_type": "stream",
     "text": [
      "\r",
      "Upgrading database; v0 -> v1: : 0it [00:00, ?it/s]"
     ]
    },
    {
     "name": "stdout",
     "output_type": "stream",
     "text": [
      "\n",
      "\r",
      "  0%|          | 0/1 [00:00<?, ?it/s]"
     ]
    },
    {
     "name": "stdout",
     "output_type": "stream",
     "text": [
      "\r",
      "Upgrading database; v1 -> v2:   0%|          | 0/1 [00:00<?, ?it/s]"
     ]
    },
    {
     "name": "stdout",
     "output_type": "stream",
     "text": [
      "\r",
      "Upgrading database; v1 -> v2: 100%|██████████| 1/1 [00:00<00:00, 876.74it/s]"
     ]
    },
    {
     "name": "stdout",
     "output_type": "stream",
     "text": [
      "\n",
      "\r",
      "0it [00:00, ?it/s]"
     ]
    },
    {
     "name": "stdout",
     "output_type": "stream",
     "text": [
      "\r",
      "Upgrading database; v2 -> v3: : 0it [00:00, ?it/s]"
     ]
    },
    {
     "name": "stdout",
     "output_type": "stream",
     "text": [
      "\r",
      "Upgrading database; v2 -> v3: : 0it [00:00, ?it/s]"
     ]
    },
    {
     "name": "stdout",
     "output_type": "stream",
     "text": [
      "\n",
      "\r",
      "0it [00:00, ?it/s]"
     ]
    },
    {
     "name": "stdout",
     "output_type": "stream",
     "text": [
      "\r",
      "Upgrading database; v3 -> v4: : 0it [00:00, ?it/s]"
     ]
    },
    {
     "name": "stdout",
     "output_type": "stream",
     "text": [
      "\r",
      "Upgrading database; v3 -> v4: : 0it [00:00, ?it/s]"
     ]
    },
    {
     "name": "stdout",
     "output_type": "stream",
     "text": [
      "\n",
      "\r",
      "  0%|          | 0/1 [00:00<?, ?it/s]"
     ]
    },
    {
     "name": "stdout",
     "output_type": "stream",
     "text": [
      "\r",
      "Upgrading database; v4 -> v5:   0%|          | 0/1 [00:00<?, ?it/s]"
     ]
    },
    {
     "name": "stdout",
     "output_type": "stream",
     "text": [
      "\r",
      "Upgrading database; v4 -> v5: 100%|██████████| 1/1 [00:00<00:00, 768.19it/s]"
     ]
    },
    {
     "name": "stdout",
     "output_type": "stream",
     "text": [
      "\n",
      "\r",
      "0it [00:00, ?it/s]"
     ]
    },
    {
     "name": "stdout",
     "output_type": "stream",
     "text": [
      "\r",
      "Upgrading database; v5 -> v6: : 0it [00:00, ?it/s]"
     ]
    },
    {
     "name": "stdout",
     "output_type": "stream",
     "text": [
      "\r",
      "Upgrading database; v5 -> v6: : 0it [00:00, ?it/s]"
     ]
    },
    {
     "name": "stdout",
     "output_type": "stream",
     "text": [
      "\n",
      "\r",
      "  0%|          | 0/1 [00:00<?, ?it/s]"
     ]
    },
    {
     "name": "stdout",
     "output_type": "stream",
     "text": [
      "\r",
      "Upgrading database; v6 -> v7:   0%|          | 0/1 [00:00<?, ?it/s]"
     ]
    },
    {
     "name": "stdout",
     "output_type": "stream",
     "text": [
      "\r",
      "Upgrading database; v6 -> v7: 100%|██████████| 1/1 [00:00<00:00, 383.99it/s]"
     ]
    },
    {
     "name": "stdout",
     "output_type": "stream",
     "text": [
      "\n",
      "\r",
      "  0%|          | 0/1 [00:00<?, ?it/s]"
     ]
    },
    {
     "name": "stdout",
     "output_type": "stream",
     "text": [
      "\r",
      "Upgrading database; v7 -> v8:   0%|          | 0/1 [00:00<?, ?it/s]"
     ]
    },
    {
     "name": "stdout",
     "output_type": "stream",
     "text": [
      "\r",
      "Upgrading database; v7 -> v8: 100%|██████████| 1/1 [00:00<00:00, 685.57it/s]"
     ]
    },
    {
     "name": "stdout",
     "output_type": "stream",
     "text": [
      "\n",
      "\r",
      "  0%|          | 0/1 [00:00<?, ?it/s]"
     ]
    },
    {
     "name": "stdout",
     "output_type": "stream",
     "text": [
      "\r",
      "Upgrading database; v8 -> v9:   0%|          | 0/1 [00:00<?, ?it/s]"
     ]
    },
    {
     "name": "stdout",
     "output_type": "stream",
     "text": [
      "\r",
      "Upgrading database; v8 -> v9: 100%|██████████| 1/1 [00:00<00:00, 888.44it/s]"
     ]
    },
    {
     "name": "stdout",
     "output_type": "stream",
     "text": [
      "\n"
     ]
    }
   ],
   "source": [
    "initialise_database()\n",
    "exp = load_or_create_experiment(experiment_name='tutorial_exp', sample_name=\"no sample\")"
   ]
  },
  {
   "cell_type": "markdown",
   "metadata": {},
   "source": [
    "Here, we define a simple function to benchmark the time it takes to insert n points with either numeric or array data type.\n",
    "We will compare both the time used to call ``add_result`` and the time used for the full measurement."
   ]
  },
  {
   "cell_type": "code",
   "execution_count": 4,
   "metadata": {},
   "outputs": [],
   "source": [
    "def insert_data(paramtype, npoints, nreps=1):\n",
    "\n",
    "    meas = Measurement(exp=exp)\n",
    "\n",
    "    x1 = ManualParameter('x1')\n",
    "    x2 = ManualParameter('x2')\n",
    "    x3 = ManualParameter('x3')\n",
    "    y1 = ManualParameter('y1')\n",
    "    y2 = ManualParameter('y2')\n",
    "\n",
    "    meas.register_parameter(x1, paramtype=paramtype)\n",
    "    meas.register_parameter(x2, paramtype=paramtype)\n",
    "    meas.register_parameter(x3, paramtype=paramtype)\n",
    "    meas.register_parameter(y1, setpoints=[x1, x2, x3],\n",
    "                            paramtype=paramtype)\n",
    "    meas.register_parameter(y2, setpoints=[x1, x2, x3],\n",
    "                            paramtype=paramtype)\n",
    "    start = time.perf_counter()\n",
    "    with meas.run() as datasaver:\n",
    "        start_adding = time.perf_counter()\n",
    "        for i in range(nreps):\n",
    "            datasaver.add_result((x1, np.random.rand(npoints)),\n",
    "                                 (x2, np.random.rand(npoints)),\n",
    "                                 (x3, np.random.rand(npoints)),\n",
    "                                 (y1, np.random.rand(npoints)),\n",
    "                                 (y2, np.random.rand(npoints)))\n",
    "        stop_adding = time.perf_counter()\n",
    "        run_id = datasaver.run_id\n",
    "    stop = time.perf_counter()\n",
    "    tot_time = stop - start\n",
    "    add_time = stop_adding - start_adding\n",
    "    return tot_time, add_time, run_id"
   ]
  },
  {
   "cell_type": "markdown",
   "metadata": {},
   "source": [
    "## Comparison between numeric/array data and binary blob"
   ]
  },
  {
   "cell_type": "markdown",
   "metadata": {},
   "source": [
    "### Case1: Short experiment time"
   ]
  },
  {
   "cell_type": "code",
   "execution_count": 5,
   "metadata": {},
   "outputs": [
    {
     "name": "stdout",
     "output_type": "stream",
     "text": [
      "Starting experimental run with id: 1. \n",
      "Starting experimental run with id: 2. \n",
      "Starting experimental run with id: 3. \n",
      "Starting experimental run with id: 4. \n"
     ]
    },
    {
     "name": "stdout",
     "output_type": "stream",
     "text": [
      "Starting experimental run with id: 5. \n"
     ]
    },
    {
     "name": "stdout",
     "output_type": "stream",
     "text": [
      "Starting experimental run with id: 6. \n"
     ]
    },
    {
     "name": "stdout",
     "output_type": "stream",
     "text": [
      "Starting experimental run with id: 7. \n",
      "Starting experimental run with id: 8. \n",
      "Starting experimental run with id: 9. \n"
     ]
    },
    {
     "name": "stdout",
     "output_type": "stream",
     "text": [
      "Starting experimental run with id: 10. \n",
      "Starting experimental run with id: 11. \n",
      "Starting experimental run with id: 12. \n",
      "Starting experimental run with id: 13. \n"
     ]
    },
    {
     "name": "stdout",
     "output_type": "stream",
     "text": [
      "Starting experimental run with id: 14. \n"
     ]
    }
   ],
   "source": [
    "sizes = [1,500,1000,2000,3000,4000,5000]\n",
    "t_numeric = []\n",
    "t_numeric_add = []\n",
    "t_array = []\n",
    "t_array_add = []\n",
    "for size in sizes:\n",
    "    tn, tna, run_id_n =  insert_data('numeric', size)\n",
    "    t_numeric.append(tn)\n",
    "    t_numeric_add.append(tna)\n",
    "\n",
    "    ta, taa, run_id_a =  insert_data('array', size)\n",
    "    t_array.append(ta)\n",
    "    t_array_add.append(taa)"
   ]
  },
  {
   "cell_type": "code",
   "execution_count": 6,
   "metadata": {},
   "outputs": [
    {
     "data": {
      "image/png": "[encoded data removed]",
      "text/plain": [
       "<Figure size 432x288 with 1 Axes>"
      ]
     },
     "metadata": {
      "needs_background": "light"
     },
     "output_type": "display_data"
    }
   ],
   "source": [
    "fig, ax = plt.subplots(1,1)\n",
    "ax.plot(sizes, t_numeric, 'o-', label='Inserting row-by-row')\n",
    "ax.plot(sizes, t_numeric_add, 'o-', label='Inserting row-by-row: add_result only')\n",
    "ax.plot(sizes, t_array, 'd-', label='Inserting as binary blob')\n",
    "ax.plot(sizes, t_array_add, 'd-', label='Inserting as binary blob: add_result only')\n",
    "ax.legend()\n",
    "ax.set_xlabel('Array length')\n",
    "ax.set_ylabel('Time (s)')\n",
    "fig.tight_layout()"
   ]
  },
  {
   "cell_type": "markdown",
   "metadata": {},
   "source": [
    "As shown in the latter figure, the time to setup and and close the experiment is approximately 0.4 sec. In case of small array sizes, the difference between inserting values of data as arrays and inserting them row-by-row is relatively unimportant. At larger array sizes, i.e. above 10000 points, the cost of writing data as individual datapoints starts to become important.\n"
   ]
  },
  {
   "cell_type": "markdown",
   "metadata": {},
   "source": [
    "### Case2: Long experiment time "
   ]
  },
  {
   "cell_type": "code",
   "execution_count": 7,
   "metadata": {},
   "outputs": [
    {
     "name": "stdout",
     "output_type": "stream",
     "text": [
      "Starting experimental run with id: 15. \n",
      "Starting experimental run with id: 16. \n",
      "Starting experimental run with id: 17. \n"
     ]
    },
    {
     "name": "stdout",
     "output_type": "stream",
     "text": [
      "Starting experimental run with id: 18. \n",
      "Starting experimental run with id: 19. \n"
     ]
    },
    {
     "name": "stdout",
     "output_type": "stream",
     "text": [
      "Starting experimental run with id: 20. \n"
     ]
    },
    {
     "name": "stdout",
     "output_type": "stream",
     "text": [
      "Starting experimental run with id: 21. \n"
     ]
    },
    {
     "name": "stdout",
     "output_type": "stream",
     "text": [
      "Starting experimental run with id: 22. \n"
     ]
    },
    {
     "name": "stdout",
     "output_type": "stream",
     "text": [
      "Starting experimental run with id: 23. \n"
     ]
    },
    {
     "name": "stdout",
     "output_type": "stream",
     "text": [
      "Starting experimental run with id: 24. \n"
     ]
    },
    {
     "name": "stdout",
     "output_type": "stream",
     "text": [
      "Starting experimental run with id: 25. \n"
     ]
    },
    {
     "name": "stdout",
     "output_type": "stream",
     "text": [
      "Starting experimental run with id: 26. \n"
     ]
    },
    {
     "name": "stdout",
     "output_type": "stream",
     "text": [
      "Starting experimental run with id: 27. \n"
     ]
    },
    {
     "name": "stdout",
     "output_type": "stream",
     "text": [
      "Starting experimental run with id: 28. \n"
     ]
    }
   ],
   "source": [
    "sizes = [1,500,1000,2000,3000,4000,5000]\n",
    "nreps = 100\n",
    "t_numeric = []\n",
    "t_numeric_add = []\n",
    "t_numeric_run_ids = []\n",
    "t_array = []\n",
    "t_array_add = []\n",
    "t_array_run_ids = []\n",
    "for size in sizes:\n",
    "    tn, tna, run_id_n =  insert_data('numeric', size, nreps=nreps)\n",
    "    t_numeric.append(tn)\n",
    "    t_numeric_add.append(tna)\n",
    "    t_numeric_run_ids.append(run_id_n)\n",
    "\n",
    "    ta, taa, run_id_a =  insert_data('array', size, nreps=nreps)\n",
    "    t_array.append(ta)\n",
    "    t_array_add.append(taa)\n",
    "    t_array_run_ids.append(run_id_a)"
   ]
  },
  {
   "cell_type": "code",
   "execution_count": 8,
   "metadata": {
    "scrolled": true
   },
   "outputs": [
    {
     "data": {
      "image/png": "[encoded data removed]",
      "text/plain": [
       "<Figure size 432x288 with 1 Axes>"
      ]
     },
     "metadata": {
      "needs_background": "light"
     },
     "output_type": "display_data"
    }
   ],
   "source": [
    "fig, ax = plt.subplots(1,1)\n",
    "ax.plot(sizes, t_numeric, 'o-', label='Inserting row-by-row')\n",
    "ax.plot(sizes, t_numeric_add, 'o-', label='Inserting row-by-row: add_result only')\n",
    "ax.plot(sizes, t_array, 'd-', label='Inserting as binary blob')\n",
    "ax.plot(sizes, t_array_add, 'd-', label='Inserting as binary blob: add_result only')\n",
    "ax.legend()\n",
    "ax.set_xlabel('Array length')\n",
    "ax.set_ylabel('Time (s)')\n",
    "fig.tight_layout()"
   ]
  },
  {
   "cell_type": "markdown",
   "metadata": {},
   "source": [
    "However, as we increase the length of the experiment, as seen here by repeating the insertion 100 times, we see a big difference between inserting values of the data row-by-row and inserting it as a binary blob."
   ]
  },
  {
   "cell_type": "markdown",
   "metadata": {},
   "source": [
    "## Loading the data "
   ]
  },
  {
   "cell_type": "code",
   "execution_count": 9,
   "metadata": {},
   "outputs": [],
   "source": [
    "from qcodes.dataset.data_set import load_by_id\n",
    "from qcodes.dataset.data_export import get_data_by_id"
   ]
  },
  {
   "cell_type": "markdown",
   "metadata": {},
   "source": [
    "As usual you can load the data by using the ``load_by_id`` function but you will notice that the different storage methods\n",
    "are reflected in shape of the data as it is retrieved. "
   ]
  },
  {
   "cell_type": "code",
   "execution_count": 10,
   "metadata": {},
   "outputs": [],
   "source": [
    "run_id_n = t_numeric_run_ids[0]\n",
    "run_id_a = t_array_run_ids[0]"
   ]
  },
  {
   "cell_type": "code",
   "execution_count": 11,
   "metadata": {
    "scrolled": true
   },
   "outputs": [
    {
     "data": {
      "text/plain": [
       "{'x1': {'x1': array([0.45742314, 0.45742314, 0.44105444, 0.44105444, 0.60463139,\n",
       "         0.60463139, 0.42921296, 0.42921296, 0.99566965, 0.99566965,\n",
       "         0.91413466, 0.91413466, 0.21277116, 0.21277116, 0.48644146,\n",
       "         0.48644146, 0.21266978, 0.21266978, 0.11909995, 0.11909995,\n",
       "         0.34541359, 0.34541359, 0.92552414, 0.92552414, 0.82371334,\n",
       "         0.82371334, 0.71548717, 0.71548717, 0.06416282, 0.06416282,\n",
       "         0.0715519 , 0.0715519 , 0.73782634, 0.73782634, 0.79452308,\n",
       "         0.79452308, 0.38218172, 0.38218172, 0.17983194, 0.17983194,\n",
       "         0.94587234, 0.94587234, 0.93744048, 0.93744048, 0.12028962,\n",
       "         0.12028962, 0.99223622, 0.99223622, 0.18502638, 0.18502638,\n",
       "         0.45552571, 0.45552571, 0.29681478, 0.29681478, 0.16421093,\n",
       "         0.16421093, 0.34988988, 0.34988988, 0.52173599, 0.52173599,\n",
       "         0.93894963, 0.93894963, 0.82104741, 0.82104741, 0.70554252,\n",
       "         0.70554252, 0.81747358, 0.81747358, 0.19529029, 0.19529029,\n",
       "         0.27158775, 0.27158775, 0.90539227, 0.90539227, 0.22450439,\n",
       "         0.22450439, 0.94433348, 0.94433348, 0.52411347, 0.52411347,\n",
       "         0.64102132, 0.64102132, 0.37574498, 0.37574498, 0.63331011,\n",
       "         0.63331011, 0.49670624, 0.49670624, 0.07077847, 0.07077847,\n",
       "         0.02368987, 0.02368987, 0.7270577 , 0.7270577 , 0.01782659,\n",
       "         0.01782659, 0.74220579, 0.74220579, 0.87115101, 0.87115101,\n",
       "         0.09887524, 0.09887524, 0.84806663, 0.84806663, 0.78609453,\n",
       "         0.78609453, 0.82461218, 0.82461218, 0.96733184, 0.96733184,\n",
       "         0.29277618, 0.29277618, 0.69387004, 0.69387004, 0.50237222,\n",
       "         0.50237222, 0.19951317, 0.19951317, 0.48940368, 0.48940368,\n",
       "         0.28840908, 0.28840908, 0.86847237, 0.86847237, 0.98354153,\n",
       "         0.98354153, 0.93202648, 0.93202648, 0.38514009, 0.38514009,\n",
       "         0.5243195 , 0.5243195 , 0.11606004, 0.11606004, 0.15775732,\n",
       "         0.15775732, 0.59187211, 0.59187211, 0.75332412, 0.75332412,\n",
       "         0.90299914, 0.90299914, 0.28214146, 0.28214146, 0.01678417,\n",
       "         0.01678417, 0.56555152, 0.56555152, 0.55133897, 0.55133897,\n",
       "         0.39670775, 0.39670775, 0.87350851, 0.87350851, 0.19874542,\n",
       "         0.19874542, 0.24530347, 0.24530347, 0.6435584 , 0.6435584 ,\n",
       "         0.44309634, 0.44309634, 0.76267593, 0.76267593, 0.30427149,\n",
       "         0.30427149, 0.55800246, 0.55800246, 0.75585949, 0.75585949,\n",
       "         0.23350775, 0.23350775, 0.38593563, 0.38593563, 0.94690459,\n",
       "         0.94690459, 0.88415237, 0.88415237, 0.42035056, 0.42035056,\n",
       "         0.83673907, 0.83673907, 0.62538502, 0.62538502, 0.22101477,\n",
       "         0.22101477, 0.63317466, 0.63317466, 0.93736269, 0.93736269,\n",
       "         0.05356629, 0.05356629, 0.26157761, 0.26157761, 0.3775    ,\n",
       "         0.3775    , 0.552476  , 0.552476  , 0.28754832, 0.28754832])}}"
      ]
     },
     "execution_count": 11,
     "metadata": {},
     "output_type": "execute_result"
    }
   ],
   "source": [
    "ds = load_by_id(run_id_n)\n",
    "ds.get_parameter_data('x1')"
   ]
  },
  {
   "cell_type": "markdown",
   "metadata": {},
   "source": [
    "And a dataset stored as binary arrays"
   ]
  },
  {
   "cell_type": "code",
   "execution_count": 12,
   "metadata": {
    "scrolled": true
   },
   "outputs": [
    {
     "data": {
      "text/plain": [
       "{'x1': {'x1': array([[0.40057575],\n",
       "         [0.40057575],\n",
       "         [0.4851903 ],\n",
       "         [0.4851903 ],\n",
       "         [0.18502184],\n",
       "         [0.18502184],\n",
       "         [0.18236933],\n",
       "         [0.18236933],\n",
       "         [0.95962568],\n",
       "         [0.95962568],\n",
       "         [0.82593705],\n",
       "         [0.82593705],\n",
       "         [0.54774328],\n",
       "         [0.54774328],\n",
       "         [0.83364124],\n",
       "         [0.83364124],\n",
       "         [0.33469397],\n",
       "         [0.33469397],\n",
       "         [0.21343856],\n",
       "         [0.21343856],\n",
       "         [0.55785669],\n",
       "         [0.55785669],\n",
       "         [0.25899954],\n",
       "         [0.25899954],\n",
       "         [0.17780072],\n",
       "         [0.17780072],\n",
       "         [0.83153335],\n",
       "         [0.83153335],\n",
       "         [0.11702225],\n",
       "         [0.11702225],\n",
       "         [0.07459598],\n",
       "         [0.07459598],\n",
       "         [0.83373548],\n",
       "         [0.83373548],\n",
       "         [0.54478899],\n",
       "         [0.54478899],\n",
       "         [0.96659459],\n",
       "         [0.96659459],\n",
       "         [0.68699463],\n",
       "         [0.68699463],\n",
       "         [0.61795373],\n",
       "         [0.61795373],\n",
       "         [0.99516876],\n",
       "         [0.99516876],\n",
       "         [0.07663297],\n",
       "         [0.07663297],\n",
       "         [0.68896133],\n",
       "         [0.68896133],\n",
       "         [0.76224035],\n",
       "         [0.76224035],\n",
       "         [0.17006331],\n",
       "         [0.17006331],\n",
       "         [0.08620065],\n",
       "         [0.08620065],\n",
       "         [0.41741631],\n",
       "         [0.41741631],\n",
       "         [0.36375411],\n",
       "         [0.36375411],\n",
       "         [0.26374531],\n",
       "         [0.26374531],\n",
       "         [0.89265258],\n",
       "         [0.89265258],\n",
       "         [0.85466272],\n",
       "         [0.85466272],\n",
       "         [0.65205558],\n",
       "         [0.65205558],\n",
       "         [0.35389068],\n",
       "         [0.35389068],\n",
       "         [0.67776408],\n",
       "         [0.67776408],\n",
       "         [0.00755617],\n",
       "         [0.00755617],\n",
       "         [0.13763238],\n",
       "         [0.13763238],\n",
       "         [0.33124945],\n",
       "         [0.33124945],\n",
       "         [0.91732448],\n",
       "         [0.91732448],\n",
       "         [0.56083379],\n",
       "         [0.56083379],\n",
       "         [0.67942575],\n",
       "         [0.67942575],\n",
       "         [0.51814793],\n",
       "         [0.51814793],\n",
       "         [0.67551288],\n",
       "         [0.67551288],\n",
       "         [0.10973776],\n",
       "         [0.10973776],\n",
       "         [0.24723309],\n",
       "         [0.24723309],\n",
       "         [0.56572345],\n",
       "         [0.56572345],\n",
       "         [0.26214442],\n",
       "         [0.26214442],\n",
       "         [0.0459366 ],\n",
       "         [0.0459366 ],\n",
       "         [0.76747804],\n",
       "         [0.76747804],\n",
       "         [0.59352987],\n",
       "         [0.59352987],\n",
       "         [0.73462006],\n",
       "         [0.73462006],\n",
       "         [0.52520209],\n",
       "         [0.52520209],\n",
       "         [0.9025006 ],\n",
       "         [0.9025006 ],\n",
       "         [0.10089587],\n",
       "         [0.10089587],\n",
       "         [0.31841941],\n",
       "         [0.31841941],\n",
       "         [0.78461169],\n",
       "         [0.78461169],\n",
       "         [0.64553815],\n",
       "         [0.64553815],\n",
       "         [0.73126479],\n",
       "         [0.73126479],\n",
       "         [0.22427134],\n",
       "         [0.22427134],\n",
       "         [0.11319137],\n",
       "         [0.11319137],\n",
       "         [0.28051845],\n",
       "         [0.28051845],\n",
       "         [0.55969623],\n",
       "         [0.55969623],\n",
       "         [0.95365539],\n",
       "         [0.95365539],\n",
       "         [0.39318767],\n",
       "         [0.39318767],\n",
       "         [0.81269875],\n",
       "         [0.81269875],\n",
       "         [0.96958422],\n",
       "         [0.96958422],\n",
       "         [0.66525756],\n",
       "         [0.66525756],\n",
       "         [0.42215814],\n",
       "         [0.42215814],\n",
       "         [0.58612374],\n",
       "         [0.58612374],\n",
       "         [0.56881033],\n",
       "         [0.56881033],\n",
       "         [0.89642191],\n",
       "         [0.89642191],\n",
       "         [0.627341  ],\n",
       "         [0.627341  ],\n",
       "         [0.39673935],\n",
       "         [0.39673935],\n",
       "         [0.75437411],\n",
       "         [0.75437411],\n",
       "         [0.89598374],\n",
       "         [0.89598374],\n",
       "         [0.83695641],\n",
       "         [0.83695641],\n",
       "         [0.58116906],\n",
       "         [0.58116906],\n",
       "         [0.81168614],\n",
       "         [0.81168614],\n",
       "         [0.31941951],\n",
       "         [0.31941951],\n",
       "         [0.46394379],\n",
       "         [0.46394379],\n",
       "         [0.12875119],\n",
       "         [0.12875119],\n",
       "         [0.40237178],\n",
       "         [0.40237178],\n",
       "         [0.38794613],\n",
       "         [0.38794613],\n",
       "         [0.13406368],\n",
       "         [0.13406368],\n",
       "         [0.65403387],\n",
       "         [0.65403387],\n",
       "         [0.8141652 ],\n",
       "         [0.8141652 ],\n",
       "         [0.42242981],\n",
       "         [0.42242981],\n",
       "         [0.63815239],\n",
       "         [0.63815239],\n",
       "         [0.336937  ],\n",
       "         [0.336937  ],\n",
       "         [0.50802421],\n",
       "         [0.50802421],\n",
       "         [0.82094628],\n",
       "         [0.82094628],\n",
       "         [0.30661854],\n",
       "         [0.30661854],\n",
       "         [0.26181186],\n",
       "         [0.26181186],\n",
       "         [0.23632804],\n",
       "         [0.23632804],\n",
       "         [0.7377402 ],\n",
       "         [0.7377402 ],\n",
       "         [0.13961183],\n",
       "         [0.13961183],\n",
       "         [0.20506942],\n",
       "         [0.20506942],\n",
       "         [0.40961987],\n",
       "         [0.40961987],\n",
       "         [0.54370231],\n",
       "         [0.54370231],\n",
       "         [0.4627142 ],\n",
       "         [0.4627142 ]])}}"
      ]
     },
     "execution_count": 12,
     "metadata": {},
     "output_type": "execute_result"
    }
   ],
   "source": [
    "ds = load_by_id(run_id_a)\n",
    "ds.get_parameter_data('x1')"
   ]
  },
  {
   "cell_type": "code",
   "execution_count": null,
   "metadata": {},
   "outputs": [],
   "source": []
  }
 ],
 "metadata": {
  "kernelspec": {
   "display_name": "Python 3",
   "language": "python",
   "name": "python3"
  },
  "language_info": {
   "codemirror_mode": {
    "name": "ipython",
    "version": 3
   },
   "file_extension": ".py",
   "mimetype": "text/x-python",
   "name": "python",
   "nbconvert_exporter": "python",
   "pygments_lexer": "ipython3",
   "version": "3.7.7"
  },
  "nbsphinx": {
   "timeout": 600
  },
  "toc": {
   "base_numbering": 1,
   "nav_menu": {},
   "number_sections": true,
   "sideBar": true,
   "skip_h1_title": false,
   "title_cell": "Table of Contents",
   "title_sidebar": "Contents",
   "toc_cell": false,
   "toc_position": {},
   "toc_section_display": true,
   "toc_window_display": false
  },
  "varInspector": {
   "cols": {
    "lenName": 16,
    "lenType": 16,
    "lenVar": 40
   },
   "kernels_config": {
    "python": {
     "delete_cmd_postfix": "",
     "delete_cmd_prefix": "del ",
     "library": "var_list.py",
     "varRefreshCmd": "print(var_dic_list())"
    },
    "r": {
     "delete_cmd_postfix": ") ",
     "delete_cmd_prefix": "rm(",
     "library": "var_list.r",
     "varRefreshCmd": "cat(var_dic_list()) "
    }
   },
   "types_to_exclude": [
    "module",
    "function",
    "builtin_function_or_method",
    "instance",
    "_Feature"
   ],
   "window_display": false
  }
 },
 "nbformat": 4,
 "nbformat_minor": 2
}
