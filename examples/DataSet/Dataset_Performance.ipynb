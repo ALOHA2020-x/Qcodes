{
 "cells": [
  {
   "cell_type": "markdown",
   "metadata": {},
   "source": [
    "# DataSet Performance\n",
    "\n",
    "This notebook shows the trade-off between inserting data into a database row-by-row and as binary blobs. Inserting the data row-by-row means that we have direct access to all the data and may perform queries directly on the values of the data. On the other hand, as we shall see, this is much slower than inserting the data directly as binary blobs."
   ]
  },
  {
   "cell_type": "markdown",
   "metadata": {},
   "source": [
    "First, we choose a new location for the database to ensure that we don't add a bunch of benchmarking data to the default one."
   ]
  },
  {
   "cell_type": "code",
   "execution_count": 1,
   "metadata": {
    "execution": {
     "iopub.execute_input": "2020-12-14T22:16:56.743056Z",
     "iopub.status.busy": "2020-12-14T22:16:56.741763Z",
     "iopub.status.idle": "2020-12-14T22:16:57.847763Z",
     "shell.execute_reply": "2020-12-14T22:16:57.847200Z"
    }
   },
   "outputs": [
    {
     "name": "stdout",
     "output_type": "stream",
     "text": [
      "Logging hadn't been started.\n",
      "Activating auto-logging. Current session state plus future input saved.\n",
      "Filename       : /home/vsts/.qcodes/logs/command_history.log\n",
      "Mode           : append\n",
      "Output logging : True\n",
      "Raw input log  : False\n",
      "Timestamping   : True\n",
      "State          : active\n"
     ]
    },
    {
     "name": "stdout",
     "output_type": "stream",
     "text": [
      "Qcodes Logfile : /home/vsts/.qcodes/logs/201214-14404-qcodes.log\n"
     ]
    }
   ],
   "source": [
    "import os\n",
    "cwd = os.getcwd()\n",
    "import qcodes as qc\n",
    "qc.config[\"core\"][\"db_location\"] = os.path.join(cwd, 'testing.db')\n"
   ]
  },
  {
   "cell_type": "code",
   "execution_count": 2,
   "metadata": {
    "execution": {
     "iopub.execute_input": "2020-12-14T22:16:57.855903Z",
     "iopub.status.busy": "2020-12-14T22:16:57.853207Z",
     "iopub.status.idle": "2020-12-14T22:16:58.040604Z",
     "shell.execute_reply": "2020-12-14T22:16:58.039866Z"
    }
   },
   "outputs": [],
   "source": [
    "%matplotlib inline\n",
    "import time\n",
    "import matplotlib.pyplot as plt\n",
    "import numpy as np\n",
    "\n",
    "import qcodes as qc\n",
    "from qcodes.instrument.parameter import ManualParameter\n",
    "from qcodes.dataset.experiment_container import (Experiment,\n",
    "                                                 load_last_experiment,\n",
    "                                                 new_experiment)\n",
    "from qcodes.dataset.sqlite.database import initialise_database\n",
    "from qcodes import load_or_create_experiment\n",
    "from qcodes.dataset.measurements import Measurement"
   ]
  },
  {
   "cell_type": "code",
   "execution_count": 3,
   "metadata": {
    "execution": {
     "iopub.execute_input": "2020-12-14T22:16:58.045378Z",
     "iopub.status.busy": "2020-12-14T22:16:58.044313Z",
     "iopub.status.idle": "2020-12-14T22:16:58.147854Z",
     "shell.execute_reply": "2020-12-14T22:16:58.148431Z"
    }
   },
   "outputs": [
    {
     "name": "stdout",
     "output_type": "stream",
     "text": [
      "\r",
      "0it [00:00, ?it/s]"
     ]
    },
    {
     "name": "stdout",
     "output_type": "stream",
     "text": [
      "\r",
      "Upgrading database; v0 -> v1: : 0it [00:00, ?it/s]"
     ]
    },
    {
     "name": "stdout",
     "output_type": "stream",
     "text": [
      "\r",
      "Upgrading database; v0 -> v1: : 0it [00:00, ?it/s]"
     ]
    },
    {
     "name": "stdout",
     "output_type": "stream",
     "text": [
      "\n",
      "\r",
      "  0%|          | 0/1 [00:00<?, ?it/s]"
     ]
    },
    {
     "name": "stdout",
     "output_type": "stream",
     "text": [
      "\r",
      "Upgrading database; v1 -> v2:   0%|          | 0/1 [00:00<?, ?it/s]"
     ]
    },
    {
     "name": "stdout",
     "output_type": "stream",
     "text": [
      "\r",
      "Upgrading database; v1 -> v2: 100%|██████████| 1/1 [00:00<00:00, 875.27it/s]"
     ]
    },
    {
     "name": "stdout",
     "output_type": "stream",
     "text": [
      "\n",
      "\r",
      "0it [00:00, ?it/s]"
     ]
    },
    {
     "name": "stdout",
     "output_type": "stream",
     "text": [
      "\r",
      "Upgrading database; v2 -> v3: : 0it [00:00, ?it/s]"
     ]
    },
    {
     "name": "stdout",
     "output_type": "stream",
     "text": [
      "\r",
      "Upgrading database; v2 -> v3: : 0it [00:00, ?it/s]"
     ]
    },
    {
     "name": "stdout",
     "output_type": "stream",
     "text": [
      "\n",
      "\r",
      "0it [00:00, ?it/s]"
     ]
    },
    {
     "name": "stdout",
     "output_type": "stream",
     "text": [
      "\r",
      "Upgrading database; v3 -> v4: : 0it [00:00, ?it/s]"
     ]
    },
    {
     "name": "stdout",
     "output_type": "stream",
     "text": [
      "\r",
      "Upgrading database; v3 -> v4: : 0it [00:00, ?it/s]"
     ]
    },
    {
     "name": "stdout",
     "output_type": "stream",
     "text": [
      "\n",
      "\r",
      "  0%|          | 0/1 [00:00<?, ?it/s]"
     ]
    },
    {
     "name": "stdout",
     "output_type": "stream",
     "text": [
      "\r",
      "Upgrading database; v4 -> v5:   0%|          | 0/1 [00:00<?, ?it/s]"
     ]
    },
    {
     "name": "stdout",
     "output_type": "stream",
     "text": [
      "\r",
      "Upgrading database; v4 -> v5: 100%|██████████| 1/1 [00:00<00:00, 809.71it/s]"
     ]
    },
    {
     "name": "stdout",
     "output_type": "stream",
     "text": [
      "\n",
      "\r",
      "0it [00:00, ?it/s]"
     ]
    },
    {
     "name": "stdout",
     "output_type": "stream",
     "text": [
      "\r",
      "Upgrading database; v5 -> v6: : 0it [00:00, ?it/s]"
     ]
    },
    {
     "name": "stdout",
     "output_type": "stream",
     "text": [
      "\r",
      "Upgrading database; v5 -> v6: : 0it [00:00, ?it/s]"
     ]
    },
    {
     "name": "stdout",
     "output_type": "stream",
     "text": [
      "\n",
      "\r",
      "  0%|          | 0/1 [00:00<?, ?it/s]"
     ]
    },
    {
     "name": "stdout",
     "output_type": "stream",
     "text": [
      "\r",
      "Upgrading database; v6 -> v7:   0%|          | 0/1 [00:00<?, ?it/s]"
     ]
    },
    {
     "name": "stdout",
     "output_type": "stream",
     "text": [
      "\r",
      "Upgrading database; v6 -> v7: 100%|██████████| 1/1 [00:00<00:00, 322.56it/s]"
     ]
    },
    {
     "name": "stdout",
     "output_type": "stream",
     "text": [
      "\n",
      "\r",
      "  0%|          | 0/1 [00:00<?, ?it/s]"
     ]
    },
    {
     "name": "stdout",
     "output_type": "stream",
     "text": [
      "\r",
      "Upgrading database; v7 -> v8:   0%|          | 0/1 [00:00<?, ?it/s]"
     ]
    },
    {
     "name": "stdout",
     "output_type": "stream",
     "text": [
      "\r",
      "Upgrading database; v7 -> v8: 100%|██████████| 1/1 [00:00<00:00, 445.26it/s]"
     ]
    },
    {
     "name": "stdout",
     "output_type": "stream",
     "text": [
      "\n",
      "\r",
      "  0%|          | 0/1 [00:00<?, ?it/s]"
     ]
    },
    {
     "name": "stdout",
     "output_type": "stream",
     "text": [
      "\r",
      "Upgrading database; v8 -> v9:   0%|          | 0/1 [00:00<?, ?it/s]"
     ]
    },
    {
     "name": "stdout",
     "output_type": "stream",
     "text": [
      "\r",
      "Upgrading database; v8 -> v9: 100%|██████████| 1/1 [00:00<00:00, 491.89it/s]"
     ]
    },
    {
     "name": "stdout",
     "output_type": "stream",
     "text": [
      "\n"
     ]
    }
   ],
   "source": [
    "initialise_database()\n",
    "exp = load_or_create_experiment(experiment_name='tutorial_exp', sample_name=\"no sample\")"
   ]
  },
  {
   "cell_type": "markdown",
   "metadata": {},
   "source": [
    "Here, we define a simple function to benchmark the time it takes to insert n points with either numeric or array data type.\n",
    "We will compare both the time used to call ``add_result`` and the time used for the full measurement."
   ]
  },
  {
   "cell_type": "code",
   "execution_count": 4,
   "metadata": {
    "execution": {
     "iopub.execute_input": "2020-12-14T22:16:58.156744Z",
     "iopub.status.busy": "2020-12-14T22:16:58.156204Z",
     "iopub.status.idle": "2020-12-14T22:16:58.159062Z",
     "shell.execute_reply": "2020-12-14T22:16:58.159587Z"
    }
   },
   "outputs": [],
   "source": [
    "def insert_data(paramtype, npoints, nreps=1):\n",
    "\n",
    "    meas = Measurement(exp=exp)\n",
    "\n",
    "    x1 = ManualParameter('x1')\n",
    "    x2 = ManualParameter('x2')\n",
    "    x3 = ManualParameter('x3')\n",
    "    y1 = ManualParameter('y1')\n",
    "    y2 = ManualParameter('y2')\n",
    "\n",
    "    meas.register_parameter(x1, paramtype=paramtype)\n",
    "    meas.register_parameter(x2, paramtype=paramtype)\n",
    "    meas.register_parameter(x3, paramtype=paramtype)\n",
    "    meas.register_parameter(y1, setpoints=[x1, x2, x3],\n",
    "                            paramtype=paramtype)\n",
    "    meas.register_parameter(y2, setpoints=[x1, x2, x3],\n",
    "                            paramtype=paramtype)\n",
    "    start = time.perf_counter()\n",
    "    with meas.run() as datasaver:\n",
    "        start_adding = time.perf_counter()\n",
    "        for i in range(nreps):\n",
    "            datasaver.add_result((x1, np.random.rand(npoints)),\n",
    "                                 (x2, np.random.rand(npoints)),\n",
    "                                 (x3, np.random.rand(npoints)),\n",
    "                                 (y1, np.random.rand(npoints)),\n",
    "                                 (y2, np.random.rand(npoints)))\n",
    "        stop_adding = time.perf_counter()\n",
    "        run_id = datasaver.run_id\n",
    "    stop = time.perf_counter()\n",
    "    tot_time = stop - start\n",
    "    add_time = stop_adding - start_adding\n",
    "    return tot_time, add_time, run_id"
   ]
  },
  {
   "cell_type": "markdown",
   "metadata": {},
   "source": [
    "## Comparison between numeric/array data and binary blob"
   ]
  },
  {
   "cell_type": "markdown",
   "metadata": {},
   "source": [
    "### Case1: Short experiment time"
   ]
  },
  {
   "cell_type": "code",
   "execution_count": 5,
   "metadata": {
    "execution": {
     "iopub.execute_input": "2020-12-14T22:16:58.165910Z",
     "iopub.status.busy": "2020-12-14T22:16:58.165303Z",
     "iopub.status.idle": "2020-12-14T22:16:58.987155Z",
     "shell.execute_reply": "2020-12-14T22:16:58.986321Z"
    }
   },
   "outputs": [
    {
     "name": "stdout",
     "output_type": "stream",
     "text": [
      "Starting experimental run with id: 1. \n",
      "Starting experimental run with id: 2. \n",
      "Starting experimental run with id: 3. \n",
      "Starting experimental run with id: 4. \n",
      "Starting experimental run with id: 5. \n"
     ]
    },
    {
     "name": "stdout",
     "output_type": "stream",
     "text": [
      "Starting experimental run with id: 6. \n"
     ]
    },
    {
     "name": "stdout",
     "output_type": "stream",
     "text": [
      "Starting experimental run with id: 7. "
     ]
    },
    {
     "name": "stdout",
     "output_type": "stream",
     "text": [
      "\n"
     ]
    },
    {
     "name": "stdout",
     "output_type": "stream",
     "text": [
      "Starting experimental run with id: 8. \n",
      "Starting experimental run with id: 9. \n"
     ]
    },
    {
     "name": "stdout",
     "output_type": "stream",
     "text": [
      "Starting experimental run with id: 10. \n",
      "Starting experimental run with id: 11. \n"
     ]
    },
    {
     "name": "stdout",
     "output_type": "stream",
     "text": [
      "Starting experimental run with id: 12. \n",
      "Starting experimental run with id: 13. \n"
     ]
    },
    {
     "name": "stdout",
     "output_type": "stream",
     "text": [
      "Starting experimental run with id: 14. \n"
     ]
    }
   ],
   "source": [
    "sizes = [1,500,1000,2000,3000,4000,5000]\n",
    "t_numeric = []\n",
    "t_numeric_add = []\n",
    "t_array = []\n",
    "t_array_add = []\n",
    "for size in sizes:\n",
    "    tn, tna, run_id_n =  insert_data('numeric', size)\n",
    "    t_numeric.append(tn)\n",
    "    t_numeric_add.append(tna)\n",
    "\n",
    "    ta, taa, run_id_a =  insert_data('array', size)\n",
    "    t_array.append(ta)\n",
    "    t_array_add.append(taa)"
   ]
  },
  {
   "cell_type": "code",
   "execution_count": 6,
   "metadata": {
    "execution": {
     "iopub.execute_input": "2020-12-14T22:16:59.028382Z",
     "iopub.status.busy": "2020-12-14T22:16:59.016236Z",
     "iopub.status.idle": "2020-12-14T22:16:59.180594Z",
     "shell.execute_reply": "2020-12-14T22:16:59.181144Z"
    }
   },
   "outputs": [
    {
     "data": {
      "image/png": "[encoded data removed]",
      "text/plain": [
       "<Figure size 432x288 with 1 Axes>"
      ]
     },
     "metadata": {
      "needs_background": "light"
     },
     "output_type": "display_data"
    }
   ],
   "source": [
    "fig, ax = plt.subplots(1,1)\n",
    "ax.plot(sizes, t_numeric, 'o-', label='Inserting row-by-row')\n",
    "ax.plot(sizes, t_numeric_add, 'o-', label='Inserting row-by-row: add_result only')\n",
    "ax.plot(sizes, t_array, 'd-', label='Inserting as binary blob')\n",
    "ax.plot(sizes, t_array_add, 'd-', label='Inserting as binary blob: add_result only')\n",
    "ax.legend()\n",
    "ax.set_xlabel('Array length')\n",
    "ax.set_ylabel('Time (s)')\n",
    "fig.tight_layout()"
   ]
  },
  {
   "cell_type": "markdown",
   "metadata": {},
   "source": [
    "As shown in the latter figure, the time to setup and and close the experiment is approximately 0.4 sec. In case of small array sizes, the difference between inserting values of data as arrays and inserting them row-by-row is relatively unimportant. At larger array sizes, i.e. above 10000 points, the cost of writing data as individual datapoints starts to become important.\n"
   ]
  },
  {
   "cell_type": "markdown",
   "metadata": {},
   "source": [
    "### Case2: Long experiment time "
   ]
  },
  {
   "cell_type": "code",
   "execution_count": 7,
   "metadata": {
    "execution": {
     "iopub.execute_input": "2020-12-14T22:16:59.183688Z",
     "iopub.status.busy": "2020-12-14T22:16:59.183166Z",
     "iopub.status.idle": "2020-12-14T22:17:58.834779Z",
     "shell.execute_reply": "2020-12-14T22:17:58.834146Z"
    }
   },
   "outputs": [
    {
     "name": "stdout",
     "output_type": "stream",
     "text": [
      "Starting experimental run with id: 15. \n",
      "Starting experimental run with id: 16. \n",
      "Starting experimental run with id: 17. \n"
     ]
    },
    {
     "name": "stdout",
     "output_type": "stream",
     "text": [
      "Starting experimental run with id: 18. \n",
      "Starting experimental run with id: 19. \n"
     ]
    },
    {
     "name": "stdout",
     "output_type": "stream",
     "text": [
      "Starting experimental run with id: 20. \n"
     ]
    },
    {
     "name": "stdout",
     "output_type": "stream",
     "text": [
      "Starting experimental run with id: 21. \n"
     ]
    },
    {
     "name": "stdout",
     "output_type": "stream",
     "text": [
      "Starting experimental run with id: 22. \n"
     ]
    },
    {
     "name": "stdout",
     "output_type": "stream",
     "text": [
      "Starting experimental run with id: 23. \n"
     ]
    },
    {
     "name": "stdout",
     "output_type": "stream",
     "text": [
      "Starting experimental run with id: 24. \n"
     ]
    },
    {
     "name": "stdout",
     "output_type": "stream",
     "text": [
      "Starting experimental run with id: 25. \n"
     ]
    },
    {
     "name": "stdout",
     "output_type": "stream",
     "text": [
      "Starting experimental run with id: 26. \n"
     ]
    },
    {
     "name": "stdout",
     "output_type": "stream",
     "text": [
      "Starting experimental run with id: 27. \n"
     ]
    },
    {
     "name": "stdout",
     "output_type": "stream",
     "text": [
      "Starting experimental run with id: 28. \n"
     ]
    }
   ],
   "source": [
    "sizes = [1,500,1000,2000,3000,4000,5000]\n",
    "nreps = 100\n",
    "t_numeric = []\n",
    "t_numeric_add = []\n",
    "t_numeric_run_ids = []\n",
    "t_array = []\n",
    "t_array_add = []\n",
    "t_array_run_ids = []\n",
    "for size in sizes:\n",
    "    tn, tna, run_id_n =  insert_data('numeric', size, nreps=nreps)\n",
    "    t_numeric.append(tn)\n",
    "    t_numeric_add.append(tna)\n",
    "    t_numeric_run_ids.append(run_id_n)\n",
    "\n",
    "    ta, taa, run_id_a =  insert_data('array', size, nreps=nreps)\n",
    "    t_array.append(ta)\n",
    "    t_array_add.append(taa)\n",
    "    t_array_run_ids.append(run_id_a)"
   ]
  },
  {
   "cell_type": "code",
   "execution_count": 8,
   "metadata": {
    "execution": {
     "iopub.execute_input": "2020-12-14T22:17:58.874129Z",
     "iopub.status.busy": "2020-12-14T22:17:58.871702Z",
     "iopub.status.idle": "2020-12-14T22:17:59.041662Z",
     "shell.execute_reply": "2020-12-14T22:17:59.041079Z"
    },
    "scrolled": true
   },
   "outputs": [
    {
     "data": {
      "image/png": "[encoded data removed]",
      "text/plain": [
       "<Figure size 432x288 with 1 Axes>"
      ]
     },
     "metadata": {
      "needs_background": "light"
     },
     "output_type": "display_data"
    }
   ],
   "source": [
    "fig, ax = plt.subplots(1,1)\n",
    "ax.plot(sizes, t_numeric, 'o-', label='Inserting row-by-row')\n",
    "ax.plot(sizes, t_numeric_add, 'o-', label='Inserting row-by-row: add_result only')\n",
    "ax.plot(sizes, t_array, 'd-', label='Inserting as binary blob')\n",
    "ax.plot(sizes, t_array_add, 'd-', label='Inserting as binary blob: add_result only')\n",
    "ax.legend()\n",
    "ax.set_xlabel('Array length')\n",
    "ax.set_ylabel('Time (s)')\n",
    "fig.tight_layout()"
   ]
  },
  {
   "cell_type": "markdown",
   "metadata": {},
   "source": [
    "However, as we increase the length of the experiment, as seen here by repeating the insertion 100 times, we see a big difference between inserting values of the data row-by-row and inserting it as a binary blob."
   ]
  },
  {
   "cell_type": "markdown",
   "metadata": {},
   "source": [
    "## Loading the data "
   ]
  },
  {
   "cell_type": "code",
   "execution_count": 9,
   "metadata": {
    "execution": {
     "iopub.execute_input": "2020-12-14T22:17:59.047581Z",
     "iopub.status.busy": "2020-12-14T22:17:59.044963Z",
     "iopub.status.idle": "2020-12-14T22:17:59.048722Z",
     "shell.execute_reply": "2020-12-14T22:17:59.050569Z"
    }
   },
   "outputs": [],
   "source": [
    "from qcodes.dataset.data_set import load_by_id\n",
    "from qcodes.dataset.data_export import get_data_by_id"
   ]
  },
  {
   "cell_type": "markdown",
   "metadata": {},
   "source": [
    "As usual you can load the data by using the ``load_by_id`` function but you will notice that the different storage methods\n",
    "are reflected in shape of the data as it is retrieved. "
   ]
  },
  {
   "cell_type": "code",
   "execution_count": 10,
   "metadata": {
    "execution": {
     "iopub.execute_input": "2020-12-14T22:17:59.055219Z",
     "iopub.status.busy": "2020-12-14T22:17:59.054109Z",
     "iopub.status.idle": "2020-12-14T22:17:59.055757Z",
     "shell.execute_reply": "2020-12-14T22:17:59.056305Z"
    }
   },
   "outputs": [],
   "source": [
    "run_id_n = t_numeric_run_ids[0]\n",
    "run_id_a = t_array_run_ids[0]"
   ]
  },
  {
   "cell_type": "code",
   "execution_count": 11,
   "metadata": {
    "execution": {
     "iopub.execute_input": "2020-12-14T22:17:59.059888Z",
     "iopub.status.busy": "2020-12-14T22:17:59.059159Z",
     "iopub.status.idle": "2020-12-14T22:17:59.068256Z",
     "shell.execute_reply": "2020-12-14T22:17:59.068793Z"
    },
    "scrolled": true
   },
   "outputs": [
    {
     "data": {
      "text/plain": [
       "{'x1': {'x1': array([0.83238992, 0.83238992, 0.82264626, 0.82264626, 0.64501049,\n",
       "         0.64501049, 0.74222803, 0.74222803, 0.33548913, 0.33548913,\n",
       "         0.06378888, 0.06378888, 0.82319208, 0.82319208, 0.07678855,\n",
       "         0.07678855, 0.78987961, 0.78987961, 0.76495904, 0.76495904,\n",
       "         0.13296715, 0.13296715, 0.45988291, 0.45988291, 0.40406089,\n",
       "         0.40406089, 0.280687  , 0.280687  , 0.62372461, 0.62372461,\n",
       "         0.86135603, 0.86135603, 0.58188885, 0.58188885, 0.89722797,\n",
       "         0.89722797, 0.28027906, 0.28027906, 0.51749014, 0.51749014,\n",
       "         0.30102973, 0.30102973, 0.56595397, 0.56595397, 0.2142004 ,\n",
       "         0.2142004 , 0.96503141, 0.96503141, 0.83958993, 0.83958993,\n",
       "         0.33027041, 0.33027041, 0.04287367, 0.04287367, 0.21801181,\n",
       "         0.21801181, 0.704239  , 0.704239  , 0.18591329, 0.18591329,\n",
       "         0.10581043, 0.10581043, 0.65923685, 0.65923685, 0.66279257,\n",
       "         0.66279257, 0.26741698, 0.26741698, 0.06082382, 0.06082382,\n",
       "         0.52454212, 0.52454212, 0.75700218, 0.75700218, 0.91801526,\n",
       "         0.91801526, 0.53312757, 0.53312757, 0.56677904, 0.56677904,\n",
       "         0.17206003, 0.17206003, 0.07589394, 0.07589394, 0.09827592,\n",
       "         0.09827592, 0.90884657, 0.90884657, 0.7868346 , 0.7868346 ,\n",
       "         0.51340726, 0.51340726, 0.96238468, 0.96238468, 0.6228204 ,\n",
       "         0.6228204 , 0.39347834, 0.39347834, 0.15805852, 0.15805852,\n",
       "         0.5981184 , 0.5981184 , 0.9062443 , 0.9062443 , 0.9676124 ,\n",
       "         0.9676124 , 0.72872734, 0.72872734, 0.60502843, 0.60502843,\n",
       "         0.43776956, 0.43776956, 0.45050256, 0.45050256, 0.74979756,\n",
       "         0.74979756, 0.04210816, 0.04210816, 0.86898172, 0.86898172,\n",
       "         0.8235953 , 0.8235953 , 0.82517965, 0.82517965, 0.2386321 ,\n",
       "         0.2386321 , 0.16997753, 0.16997753, 0.02245093, 0.02245093,\n",
       "         0.47282933, 0.47282933, 0.40919236, 0.40919236, 0.6974011 ,\n",
       "         0.6974011 , 0.86996667, 0.86996667, 0.36696164, 0.36696164,\n",
       "         0.08110147, 0.08110147, 0.99873254, 0.99873254, 0.80576545,\n",
       "         0.80576545, 0.66227554, 0.66227554, 0.71362347, 0.71362347,\n",
       "         0.2960448 , 0.2960448 , 0.30399206, 0.30399206, 0.07562691,\n",
       "         0.07562691, 0.70620616, 0.70620616, 0.4048604 , 0.4048604 ,\n",
       "         0.81698648, 0.81698648, 0.87897364, 0.87897364, 0.69302164,\n",
       "         0.69302164, 0.1468393 , 0.1468393 , 0.92372597, 0.92372597,\n",
       "         0.31956409, 0.31956409, 0.78402273, 0.78402273, 0.1679319 ,\n",
       "         0.1679319 , 0.83030939, 0.83030939, 0.71967111, 0.71967111,\n",
       "         0.14970872, 0.14970872, 0.27783318, 0.27783318, 0.60630704,\n",
       "         0.60630704, 0.08209424, 0.08209424, 0.42880056, 0.42880056,\n",
       "         0.64197454, 0.64197454, 0.63599712, 0.63599712, 0.74239354,\n",
       "         0.74239354, 0.59616627, 0.59616627, 0.21193804, 0.21193804])}}"
      ]
     },
     "execution_count": 1,
     "metadata": {},
     "output_type": "execute_result"
    }
   ],
   "source": [
    "ds = load_by_id(run_id_n)\n",
    "ds.get_parameter_data('x1')"
   ]
  },
  {
   "cell_type": "markdown",
   "metadata": {},
   "source": [
    "And a dataset stored as binary arrays"
   ]
  },
  {
   "cell_type": "code",
   "execution_count": 12,
   "metadata": {
    "execution": {
     "iopub.execute_input": "2020-12-14T22:17:59.071958Z",
     "iopub.status.busy": "2020-12-14T22:17:59.071447Z",
     "iopub.status.idle": "2020-12-14T22:17:59.126354Z",
     "shell.execute_reply": "2020-12-14T22:17:59.127059Z"
    },
    "scrolled": true
   },
   "outputs": [
    {
     "data": {
      "text/plain": [
       "{'x1': {'x1': array([[0.34376885],\n",
       "         [0.34376885],\n",
       "         [0.56835981],\n",
       "         [0.56835981],\n",
       "         [0.0131294 ],\n",
       "         [0.0131294 ],\n",
       "         [0.429974  ],\n",
       "         [0.429974  ],\n",
       "         [0.42662758],\n",
       "         [0.42662758],\n",
       "         [0.97049595],\n",
       "         [0.97049595],\n",
       "         [0.08892684],\n",
       "         [0.08892684],\n",
       "         [0.8888795 ],\n",
       "         [0.8888795 ],\n",
       "         [0.10874058],\n",
       "         [0.10874058],\n",
       "         [0.41948404],\n",
       "         [0.41948404],\n",
       "         [0.29766783],\n",
       "         [0.29766783],\n",
       "         [0.10470961],\n",
       "         [0.10470961],\n",
       "         [0.79727624],\n",
       "         [0.79727624],\n",
       "         [0.36671395],\n",
       "         [0.36671395],\n",
       "         [0.40586429],\n",
       "         [0.40586429],\n",
       "         [0.60128781],\n",
       "         [0.60128781],\n",
       "         [0.31020362],\n",
       "         [0.31020362],\n",
       "         [0.19533682],\n",
       "         [0.19533682],\n",
       "         [0.57519389],\n",
       "         [0.57519389],\n",
       "         [0.08721495],\n",
       "         [0.08721495],\n",
       "         [0.73865747],\n",
       "         [0.73865747],\n",
       "         [0.66293879],\n",
       "         [0.66293879],\n",
       "         [0.15282676],\n",
       "         [0.15282676],\n",
       "         [0.32951405],\n",
       "         [0.32951405],\n",
       "         [0.97198057],\n",
       "         [0.97198057],\n",
       "         [0.15915632],\n",
       "         [0.15915632],\n",
       "         [0.03656149],\n",
       "         [0.03656149],\n",
       "         [0.37116167],\n",
       "         [0.37116167],\n",
       "         [0.88718572],\n",
       "         [0.88718572],\n",
       "         [0.73744368],\n",
       "         [0.73744368],\n",
       "         [0.91291571],\n",
       "         [0.91291571],\n",
       "         [0.79007235],\n",
       "         [0.79007235],\n",
       "         [0.19849884],\n",
       "         [0.19849884],\n",
       "         [0.00949275],\n",
       "         [0.00949275],\n",
       "         [0.70005675],\n",
       "         [0.70005675],\n",
       "         [0.03938144],\n",
       "         [0.03938144],\n",
       "         [0.15308754],\n",
       "         [0.15308754],\n",
       "         [0.00655046],\n",
       "         [0.00655046],\n",
       "         [0.39813984],\n",
       "         [0.39813984],\n",
       "         [0.66565442],\n",
       "         [0.66565442],\n",
       "         [0.59692632],\n",
       "         [0.59692632],\n",
       "         [0.94833181],\n",
       "         [0.94833181],\n",
       "         [0.47068246],\n",
       "         [0.47068246],\n",
       "         [0.69450364],\n",
       "         [0.69450364],\n",
       "         [0.09696166],\n",
       "         [0.09696166],\n",
       "         [0.73011823],\n",
       "         [0.73011823],\n",
       "         [0.2889447 ],\n",
       "         [0.2889447 ],\n",
       "         [0.26227327],\n",
       "         [0.26227327],\n",
       "         [0.51495577],\n",
       "         [0.51495577],\n",
       "         [0.39402144],\n",
       "         [0.39402144],\n",
       "         [0.37240975],\n",
       "         [0.37240975],\n",
       "         [0.42775155],\n",
       "         [0.42775155],\n",
       "         [0.41583828],\n",
       "         [0.41583828],\n",
       "         [0.82164138],\n",
       "         [0.82164138],\n",
       "         [0.36120228],\n",
       "         [0.36120228],\n",
       "         [0.94826859],\n",
       "         [0.94826859],\n",
       "         [0.49058217],\n",
       "         [0.49058217],\n",
       "         [0.44874267],\n",
       "         [0.44874267],\n",
       "         [0.55688378],\n",
       "         [0.55688378],\n",
       "         [0.01067087],\n",
       "         [0.01067087],\n",
       "         [0.5356263 ],\n",
       "         [0.5356263 ],\n",
       "         [0.6876238 ],\n",
       "         [0.6876238 ],\n",
       "         [0.85136083],\n",
       "         [0.85136083],\n",
       "         [0.81262314],\n",
       "         [0.81262314],\n",
       "         [0.22357591],\n",
       "         [0.22357591],\n",
       "         [0.35282163],\n",
       "         [0.35282163],\n",
       "         [0.01395875],\n",
       "         [0.01395875],\n",
       "         [0.39607607],\n",
       "         [0.39607607],\n",
       "         [0.13623421],\n",
       "         [0.13623421],\n",
       "         [0.61419921],\n",
       "         [0.61419921],\n",
       "         [0.15341798],\n",
       "         [0.15341798],\n",
       "         [0.258763  ],\n",
       "         [0.258763  ],\n",
       "         [0.13235896],\n",
       "         [0.13235896],\n",
       "         [0.10408249],\n",
       "         [0.10408249],\n",
       "         [0.09486867],\n",
       "         [0.09486867],\n",
       "         [0.80161304],\n",
       "         [0.80161304],\n",
       "         [0.94091966],\n",
       "         [0.94091966],\n",
       "         [0.07037506],\n",
       "         [0.07037506],\n",
       "         [0.3517125 ],\n",
       "         [0.3517125 ],\n",
       "         [0.66256789],\n",
       "         [0.66256789],\n",
       "         [0.70936872],\n",
       "         [0.70936872],\n",
       "         [0.25610413],\n",
       "         [0.25610413],\n",
       "         [0.31842877],\n",
       "         [0.31842877],\n",
       "         [0.19523067],\n",
       "         [0.19523067],\n",
       "         [0.21719746],\n",
       "         [0.21719746],\n",
       "         [0.79856246],\n",
       "         [0.79856246],\n",
       "         [0.6190529 ],\n",
       "         [0.6190529 ],\n",
       "         [0.69568014],\n",
       "         [0.69568014],\n",
       "         [0.13386381],\n",
       "         [0.13386381],\n",
       "         [0.0296184 ],\n",
       "         [0.0296184 ],\n",
       "         [0.26619078],\n",
       "         [0.26619078],\n",
       "         [0.37889385],\n",
       "         [0.37889385],\n",
       "         [0.99101087],\n",
       "         [0.99101087],\n",
       "         [0.47493788],\n",
       "         [0.47493788],\n",
       "         [0.88890404],\n",
       "         [0.88890404],\n",
       "         [0.40626165],\n",
       "         [0.40626165],\n",
       "         [0.35245558],\n",
       "         [0.35245558],\n",
       "         [0.21612996],\n",
       "         [0.21612996],\n",
       "         [0.71631172],\n",
       "         [0.71631172],\n",
       "         [0.16748653],\n",
       "         [0.16748653]])}}"
      ]
     },
     "execution_count": 1,
     "metadata": {},
     "output_type": "execute_result"
    }
   ],
   "source": [
    "ds = load_by_id(run_id_a)\n",
    "ds.get_parameter_data('x1')"
   ]
  },
  {
   "cell_type": "code",
   "execution_count": null,
   "metadata": {},
   "outputs": [],
   "source": []
  }
 ],
 "metadata": {
  "kernelspec": {
   "display_name": "Python 3",
   "language": "python",
   "name": "python3"
  },
  "language_info": {
   "codemirror_mode": {
    "name": "ipython",
    "version": 3
   },
   "file_extension": ".py",
   "mimetype": "text/x-python",
   "name": "python",
   "nbconvert_exporter": "python",
   "pygments_lexer": "ipython3",
   "version": "3.7.9"
  },
  "nbsphinx": {
   "timeout": 600
  },
  "toc": {
   "base_numbering": 1,
   "nav_menu": {},
   "number_sections": true,
   "sideBar": true,
   "skip_h1_title": false,
   "title_cell": "Table of Contents",
   "title_sidebar": "Contents",
   "toc_cell": false,
   "toc_position": {},
   "toc_section_display": true,
   "toc_window_display": false
  },
  "varInspector": {
   "cols": {
    "lenName": 16,
    "lenType": 16,
    "lenVar": 40
   },
   "kernels_config": {
    "python": {
     "delete_cmd_postfix": "",
     "delete_cmd_prefix": "del ",
     "library": "var_list.py",
     "varRefreshCmd": "print(var_dic_list())"
    },
    "r": {
     "delete_cmd_postfix": ") ",
     "delete_cmd_prefix": "rm(",
     "library": "var_list.r",
     "varRefreshCmd": "cat(var_dic_list()) "
    }
   },
   "types_to_exclude": [
    "module",
    "function",
    "builtin_function_or_method",
    "instance",
    "_Feature"
   ],
   "window_display": false
  }
 },
 "nbformat": 4,
 "nbformat_minor": 2
}
