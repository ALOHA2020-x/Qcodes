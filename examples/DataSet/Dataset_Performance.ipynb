{
 "cells": [
  {
   "cell_type": "markdown",
   "metadata": {},
   "source": [
    "# DataSet Performance\n",
    "\n",
    "This notebook shows the trade-off between inserting data into a database row-by-row and as binary blobs. Inserting the data row-by-row means that we have direct access to all the data and may perform queries directly on the values of the data. On the other hand, as we shall see, this is much slower than inserting the data directly as binary blobs."
   ]
  },
  {
   "cell_type": "markdown",
   "metadata": {},
   "source": [
    "First, we choose a new location for the database to ensure that we don't add a bunch of benchmarking data to the default one."
   ]
  },
  {
   "cell_type": "code",
   "execution_count": 1,
   "metadata": {
    "execution": {
     "iopub.execute_input": "2020-12-01T11:48:49.462424Z",
     "iopub.status.busy": "2020-12-01T11:48:49.460736Z",
     "iopub.status.idle": "2020-12-01T11:48:50.468074Z",
     "shell.execute_reply": "2020-12-01T11:48:50.467555Z"
    }
   },
   "outputs": [
    {
     "name": "stdout",
     "output_type": "stream",
     "text": [
      "Logging hadn't been started.\n",
      "Activating auto-logging. Current session state plus future input saved.\n",
      "Filename       : /home/vsts/.qcodes/logs/command_history.log\n",
      "Mode           : append\n",
      "Output logging : True\n",
      "Raw input log  : False\n",
      "Timestamping   : True\n",
      "State          : active\n"
     ]
    },
    {
     "name": "stdout",
     "output_type": "stream",
     "text": [
      "Qcodes Logfile : /home/vsts/.qcodes/logs/201201-14154-qcodes.log\n"
     ]
    }
   ],
   "source": [
    "import os\n",
    "cwd = os.getcwd()\n",
    "import qcodes as qc\n",
    "qc.config[\"core\"][\"db_location\"] = os.path.join(cwd, 'testing.db')\n"
   ]
  },
  {
   "cell_type": "code",
   "execution_count": 2,
   "metadata": {
    "execution": {
     "iopub.execute_input": "2020-12-01T11:48:50.474204Z",
     "iopub.status.busy": "2020-12-01T11:48:50.473327Z",
     "iopub.status.idle": "2020-12-01T11:48:50.657610Z",
     "shell.execute_reply": "2020-12-01T11:48:50.656326Z"
    }
   },
   "outputs": [],
   "source": [
    "%matplotlib inline\n",
    "import time\n",
    "import matplotlib.pyplot as plt\n",
    "import numpy as np\n",
    "\n",
    "import qcodes as qc\n",
    "from qcodes.instrument.parameter import ManualParameter\n",
    "from qcodes.dataset.experiment_container import (Experiment,\n",
    "                                                 load_last_experiment,\n",
    "                                                 new_experiment)\n",
    "from qcodes.dataset.sqlite.database import initialise_database\n",
    "from qcodes import load_or_create_experiment\n",
    "from qcodes.dataset.measurements import Measurement"
   ]
  },
  {
   "cell_type": "code",
   "execution_count": 3,
   "metadata": {
    "execution": {
     "iopub.execute_input": "2020-12-01T11:48:50.662889Z",
     "iopub.status.busy": "2020-12-01T11:48:50.661226Z",
     "iopub.status.idle": "2020-12-01T11:48:50.764509Z",
     "shell.execute_reply": "2020-12-01T11:48:50.764957Z"
    }
   },
   "outputs": [
    {
     "name": "stdout",
     "output_type": "stream",
     "text": [
      "\r",
      "0it [00:00, ?it/s]"
     ]
    },
    {
     "name": "stdout",
     "output_type": "stream",
     "text": [
      "\r",
      "Upgrading database; v0 -> v1: : 0it [00:00, ?it/s]"
     ]
    },
    {
     "name": "stdout",
     "output_type": "stream",
     "text": [
      "\r",
      "Upgrading database; v0 -> v1: : 0it [00:00, ?it/s]"
     ]
    },
    {
     "name": "stdout",
     "output_type": "stream",
     "text": [
      "\n",
      "\r",
      "  0%|          | 0/1 [00:00<?, ?it/s]"
     ]
    },
    {
     "name": "stdout",
     "output_type": "stream",
     "text": [
      "\r",
      "Upgrading database; v1 -> v2:   0%|          | 0/1 [00:00<?, ?it/s]"
     ]
    },
    {
     "name": "stdout",
     "output_type": "stream",
     "text": [
      "\r",
      "Upgrading database; v1 -> v2: 100%|██████████| 1/1 [00:00<00:00, 677.70it/s]"
     ]
    },
    {
     "name": "stdout",
     "output_type": "stream",
     "text": [
      "\n",
      "\r",
      "0it [00:00, ?it/s]"
     ]
    },
    {
     "name": "stdout",
     "output_type": "stream",
     "text": [
      "\r",
      "Upgrading database; v2 -> v3: : 0it [00:00, ?it/s]"
     ]
    },
    {
     "name": "stdout",
     "output_type": "stream",
     "text": [
      "\r",
      "Upgrading database; v2 -> v3: : 0it [00:00, ?it/s]"
     ]
    },
    {
     "name": "stdout",
     "output_type": "stream",
     "text": [
      "\n",
      "\r",
      "0it [00:00, ?it/s]"
     ]
    },
    {
     "name": "stdout",
     "output_type": "stream",
     "text": [
      "\r",
      "Upgrading database; v3 -> v4: : 0it [00:00, ?it/s]"
     ]
    },
    {
     "name": "stdout",
     "output_type": "stream",
     "text": [
      "\r",
      "Upgrading database; v3 -> v4: : 0it [00:00, ?it/s]"
     ]
    },
    {
     "name": "stdout",
     "output_type": "stream",
     "text": [
      "\n",
      "\r",
      "  0%|          | 0/1 [00:00<?, ?it/s]"
     ]
    },
    {
     "name": "stdout",
     "output_type": "stream",
     "text": [
      "\r",
      "Upgrading database; v4 -> v5:   0%|          | 0/1 [00:00<?, ?it/s]"
     ]
    },
    {
     "name": "stdout",
     "output_type": "stream",
     "text": [
      "\r",
      "Upgrading database; v4 -> v5: 100%|██████████| 1/1 [00:00<00:00, 528.65it/s]"
     ]
    },
    {
     "name": "stdout",
     "output_type": "stream",
     "text": [
      "\n",
      "\r",
      "0it [00:00, ?it/s]"
     ]
    },
    {
     "name": "stdout",
     "output_type": "stream",
     "text": [
      "\r",
      "Upgrading database; v5 -> v6: : 0it [00:00, ?it/s]"
     ]
    },
    {
     "name": "stdout",
     "output_type": "stream",
     "text": [
      "\r",
      "Upgrading database; v5 -> v6: : 0it [00:00, ?it/s]"
     ]
    },
    {
     "name": "stdout",
     "output_type": "stream",
     "text": [
      "\n",
      "\r",
      "  0%|          | 0/1 [00:00<?, ?it/s]"
     ]
    },
    {
     "name": "stdout",
     "output_type": "stream",
     "text": [
      "\r",
      "Upgrading database; v6 -> v7:   0%|          | 0/1 [00:00<?, ?it/s]"
     ]
    },
    {
     "name": "stdout",
     "output_type": "stream",
     "text": [
      "\r",
      "Upgrading database; v6 -> v7: 100%|██████████| 1/1 [00:00<00:00, 432.27it/s]"
     ]
    },
    {
     "name": "stdout",
     "output_type": "stream",
     "text": [
      "\n",
      "\r",
      "  0%|          | 0/1 [00:00<?, ?it/s]"
     ]
    },
    {
     "name": "stdout",
     "output_type": "stream",
     "text": [
      "\r",
      "Upgrading database; v7 -> v8:   0%|          | 0/1 [00:00<?, ?it/s]"
     ]
    },
    {
     "name": "stdout",
     "output_type": "stream",
     "text": [
      "\r",
      "Upgrading database; v7 -> v8: 100%|██████████| 1/1 [00:00<00:00, 882.08it/s]"
     ]
    },
    {
     "name": "stdout",
     "output_type": "stream",
     "text": [
      "\n",
      "\r",
      "  0%|          | 0/1 [00:00<?, ?it/s]"
     ]
    },
    {
     "name": "stdout",
     "output_type": "stream",
     "text": [
      "\r",
      "Upgrading database; v8 -> v9:   0%|          | 0/1 [00:00<?, ?it/s]"
     ]
    },
    {
     "name": "stdout",
     "output_type": "stream",
     "text": [
      "\r",
      "Upgrading database; v8 -> v9: 100%|██████████| 1/1 [00:00<00:00, 492.81it/s]"
     ]
    },
    {
     "name": "stdout",
     "output_type": "stream",
     "text": [
      "\n"
     ]
    }
   ],
   "source": [
    "initialise_database()\n",
    "exp = load_or_create_experiment(experiment_name='tutorial_exp', sample_name=\"no sample\")"
   ]
  },
  {
   "cell_type": "markdown",
   "metadata": {},
   "source": [
    "Here, we define a simple function to benchmark the time it takes to insert n points with either numeric or array data type.\n",
    "We will compare both the time used to call ``add_result`` and the time used for the full measurement."
   ]
  },
  {
   "cell_type": "code",
   "execution_count": 4,
   "metadata": {
    "execution": {
     "iopub.execute_input": "2020-12-01T11:48:50.774096Z",
     "iopub.status.busy": "2020-12-01T11:48:50.772938Z",
     "iopub.status.idle": "2020-12-01T11:48:50.774600Z",
     "shell.execute_reply": "2020-12-01T11:48:50.775088Z"
    }
   },
   "outputs": [],
   "source": [
    "def insert_data(paramtype, npoints, nreps=1):\n",
    "\n",
    "    meas = Measurement(exp=exp)\n",
    "\n",
    "    x1 = ManualParameter('x1')\n",
    "    x2 = ManualParameter('x2')\n",
    "    x3 = ManualParameter('x3')\n",
    "    y1 = ManualParameter('y1')\n",
    "    y2 = ManualParameter('y2')\n",
    "\n",
    "    meas.register_parameter(x1, paramtype=paramtype)\n",
    "    meas.register_parameter(x2, paramtype=paramtype)\n",
    "    meas.register_parameter(x3, paramtype=paramtype)\n",
    "    meas.register_parameter(y1, setpoints=[x1, x2, x3],\n",
    "                            paramtype=paramtype)\n",
    "    meas.register_parameter(y2, setpoints=[x1, x2, x3],\n",
    "                            paramtype=paramtype)\n",
    "    start = time.perf_counter()\n",
    "    with meas.run() as datasaver:\n",
    "        start_adding = time.perf_counter()\n",
    "        for i in range(nreps):\n",
    "            datasaver.add_result((x1, np.random.rand(npoints)),\n",
    "                                 (x2, np.random.rand(npoints)),\n",
    "                                 (x3, np.random.rand(npoints)),\n",
    "                                 (y1, np.random.rand(npoints)),\n",
    "                                 (y2, np.random.rand(npoints)))\n",
    "        stop_adding = time.perf_counter()\n",
    "        run_id = datasaver.run_id\n",
    "    stop = time.perf_counter()\n",
    "    tot_time = stop - start\n",
    "    add_time = stop_adding - start_adding\n",
    "    return tot_time, add_time, run_id"
   ]
  },
  {
   "cell_type": "markdown",
   "metadata": {},
   "source": [
    "## Comparison between numeric/array data and binary blob"
   ]
  },
  {
   "cell_type": "markdown",
   "metadata": {},
   "source": [
    "### Case1: Short experiment time"
   ]
  },
  {
   "cell_type": "code",
   "execution_count": 5,
   "metadata": {
    "execution": {
     "iopub.execute_input": "2020-12-01T11:48:50.780855Z",
     "iopub.status.busy": "2020-12-01T11:48:50.779634Z",
     "iopub.status.idle": "2020-12-01T11:48:51.616220Z",
     "shell.execute_reply": "2020-12-01T11:48:51.615524Z"
    }
   },
   "outputs": [
    {
     "name": "stdout",
     "output_type": "stream",
     "text": [
      "Starting experimental run with id: 1. \n",
      "Starting experimental run with id: 2. \n",
      "Starting experimental run with id: 3. \n",
      "Starting experimental run with id: 4. \n",
      "Starting experimental run with id: 5. \n"
     ]
    },
    {
     "name": "stdout",
     "output_type": "stream",
     "text": [
      "Starting experimental run with id: 6. \n"
     ]
    },
    {
     "name": "stdout",
     "output_type": "stream",
     "text": [
      "Starting experimental run with id: 7. \n"
     ]
    },
    {
     "name": "stdout",
     "output_type": "stream",
     "text": [
      "Starting experimental run with id: 8. \n",
      "Starting experimental run with id: 9. \n"
     ]
    },
    {
     "name": "stdout",
     "output_type": "stream",
     "text": [
      "Starting experimental run with id: 10. \n",
      "Starting experimental run with id: 11. \n"
     ]
    },
    {
     "name": "stdout",
     "output_type": "stream",
     "text": [
      "Starting experimental run with id: 12. \n",
      "Starting experimental run with id: 13. \n"
     ]
    },
    {
     "name": "stdout",
     "output_type": "stream",
     "text": [
      "Starting experimental run with id: 14. \n"
     ]
    }
   ],
   "source": [
    "sizes = [1,500,1000,2000,3000,4000,5000]\n",
    "t_numeric = []\n",
    "t_numeric_add = []\n",
    "t_array = []\n",
    "t_array_add = []\n",
    "for size in sizes:\n",
    "    tn, tna, run_id_n =  insert_data('numeric', size)\n",
    "    t_numeric.append(tn)\n",
    "    t_numeric_add.append(tna)\n",
    "\n",
    "    ta, taa, run_id_a =  insert_data('array', size)\n",
    "    t_array.append(ta)\n",
    "    t_array_add.append(taa)"
   ]
  },
  {
   "cell_type": "code",
   "execution_count": 6,
   "metadata": {
    "execution": {
     "iopub.execute_input": "2020-12-01T11:48:51.646120Z",
     "iopub.status.busy": "2020-12-01T11:48:51.628362Z",
     "iopub.status.idle": "2020-12-01T11:48:51.813661Z",
     "shell.execute_reply": "2020-12-01T11:48:51.814417Z"
    }
   },
   "outputs": [
    {
     "data": {
      "image/png": "[encoded data removed]",
      "text/plain": [
       "<Figure size 432x288 with 1 Axes>"
      ]
     },
     "metadata": {
      "needs_background": "light"
     },
     "output_type": "display_data"
    }
   ],
   "source": [
    "fig, ax = plt.subplots(1,1)\n",
    "ax.plot(sizes, t_numeric, 'o-', label='Inserting row-by-row')\n",
    "ax.plot(sizes, t_numeric_add, 'o-', label='Inserting row-by-row: add_result only')\n",
    "ax.plot(sizes, t_array, 'd-', label='Inserting as binary blob')\n",
    "ax.plot(sizes, t_array_add, 'd-', label='Inserting as binary blob: add_result only')\n",
    "ax.legend()\n",
    "ax.set_xlabel('Array length')\n",
    "ax.set_ylabel('Time (s)')\n",
    "fig.tight_layout()"
   ]
  },
  {
   "cell_type": "markdown",
   "metadata": {},
   "source": [
    "As shown in the latter figure, the time to setup and and close the experiment is approximately 0.4 sec. In case of small array sizes, the difference between inserting values of data as arrays and inserting them row-by-row is relatively unimportant. At larger array sizes, i.e. above 10000 points, the cost of writing data as individual datapoints starts to become important.\n"
   ]
  },
  {
   "cell_type": "markdown",
   "metadata": {},
   "source": [
    "### Case2: Long experiment time "
   ]
  },
  {
   "cell_type": "code",
   "execution_count": 7,
   "metadata": {
    "execution": {
     "iopub.execute_input": "2020-12-01T11:48:51.819896Z",
     "iopub.status.busy": "2020-12-01T11:48:51.816723Z",
     "iopub.status.idle": "2020-12-01T11:49:50.467600Z",
     "shell.execute_reply": "2020-12-01T11:49:50.467077Z"
    }
   },
   "outputs": [
    {
     "name": "stdout",
     "output_type": "stream",
     "text": [
      "Starting experimental run with id: 15. \n",
      "Starting experimental run with id: 16. \n",
      "Starting experimental run with id: 17. \n"
     ]
    },
    {
     "name": "stdout",
     "output_type": "stream",
     "text": [
      "Starting experimental run with id: 18. \n",
      "Starting experimental run with id: 19. \n"
     ]
    },
    {
     "name": "stdout",
     "output_type": "stream",
     "text": [
      "Starting experimental run with id: 20. \n"
     ]
    },
    {
     "name": "stdout",
     "output_type": "stream",
     "text": [
      "Starting experimental run with id: 21. \n"
     ]
    },
    {
     "name": "stdout",
     "output_type": "stream",
     "text": [
      "Starting experimental run with id: 22. \n"
     ]
    },
    {
     "name": "stdout",
     "output_type": "stream",
     "text": [
      "Starting experimental run with id: 23. \n"
     ]
    },
    {
     "name": "stdout",
     "output_type": "stream",
     "text": [
      "Starting experimental run with id: 24. \n"
     ]
    },
    {
     "name": "stdout",
     "output_type": "stream",
     "text": [
      "Starting experimental run with id: 25. \n"
     ]
    },
    {
     "name": "stdout",
     "output_type": "stream",
     "text": [
      "Starting experimental run with id: 26. \n"
     ]
    },
    {
     "name": "stdout",
     "output_type": "stream",
     "text": [
      "Starting experimental run with id: 27. \n"
     ]
    },
    {
     "name": "stdout",
     "output_type": "stream",
     "text": [
      "Starting experimental run with id: 28. \n"
     ]
    }
   ],
   "source": [
    "sizes = [1,500,1000,2000,3000,4000,5000]\n",
    "nreps = 100\n",
    "t_numeric = []\n",
    "t_numeric_add = []\n",
    "t_numeric_run_ids = []\n",
    "t_array = []\n",
    "t_array_add = []\n",
    "t_array_run_ids = []\n",
    "for size in sizes:\n",
    "    tn, tna, run_id_n =  insert_data('numeric', size, nreps=nreps)\n",
    "    t_numeric.append(tn)\n",
    "    t_numeric_add.append(tna)\n",
    "    t_numeric_run_ids.append(run_id_n)\n",
    "\n",
    "    ta, taa, run_id_a =  insert_data('array', size, nreps=nreps)\n",
    "    t_array.append(ta)\n",
    "    t_array_add.append(taa)\n",
    "    t_array_run_ids.append(run_id_a)"
   ]
  },
  {
   "cell_type": "code",
   "execution_count": 8,
   "metadata": {
    "execution": {
     "iopub.execute_input": "2020-12-01T11:49:50.494753Z",
     "iopub.status.busy": "2020-12-01T11:49:50.486677Z",
     "iopub.status.idle": "2020-12-01T11:49:50.663130Z",
     "shell.execute_reply": "2020-12-01T11:49:50.663643Z"
    },
    "scrolled": true
   },
   "outputs": [
    {
     "data": {
      "image/png": "[encoded data removed]",
      "text/plain": [
       "<Figure size 432x288 with 1 Axes>"
      ]
     },
     "metadata": {
      "needs_background": "light"
     },
     "output_type": "display_data"
    }
   ],
   "source": [
    "fig, ax = plt.subplots(1,1)\n",
    "ax.plot(sizes, t_numeric, 'o-', label='Inserting row-by-row')\n",
    "ax.plot(sizes, t_numeric_add, 'o-', label='Inserting row-by-row: add_result only')\n",
    "ax.plot(sizes, t_array, 'd-', label='Inserting as binary blob')\n",
    "ax.plot(sizes, t_array_add, 'd-', label='Inserting as binary blob: add_result only')\n",
    "ax.legend()\n",
    "ax.set_xlabel('Array length')\n",
    "ax.set_ylabel('Time (s)')\n",
    "fig.tight_layout()"
   ]
  },
  {
   "cell_type": "markdown",
   "metadata": {},
   "source": [
    "However, as we increase the length of the experiment, as seen here by repeating the insertion 100 times, we see a big difference between inserting values of the data row-by-row and inserting it as a binary blob."
   ]
  },
  {
   "cell_type": "markdown",
   "metadata": {},
   "source": [
    "## Loading the data "
   ]
  },
  {
   "cell_type": "code",
   "execution_count": 9,
   "metadata": {
    "execution": {
     "iopub.execute_input": "2020-12-01T11:49:50.666451Z",
     "iopub.status.busy": "2020-12-01T11:49:50.665666Z",
     "iopub.status.idle": "2020-12-01T11:49:50.669935Z",
     "shell.execute_reply": "2020-12-01T11:49:50.669230Z"
    }
   },
   "outputs": [],
   "source": [
    "from qcodes.dataset.data_set import load_by_id\n",
    "from qcodes.dataset.data_export import get_data_by_id"
   ]
  },
  {
   "cell_type": "markdown",
   "metadata": {},
   "source": [
    "As usual you can load the data by using the ``load_by_id`` function but you will notice that the different storage methods\n",
    "are reflected in shape of the data as it is retrieved. "
   ]
  },
  {
   "cell_type": "code",
   "execution_count": 10,
   "metadata": {
    "execution": {
     "iopub.execute_input": "2020-12-01T11:49:50.673335Z",
     "iopub.status.busy": "2020-12-01T11:49:50.672784Z",
     "iopub.status.idle": "2020-12-01T11:49:50.674821Z",
     "shell.execute_reply": "2020-12-01T11:49:50.675351Z"
    }
   },
   "outputs": [],
   "source": [
    "run_id_n = t_numeric_run_ids[0]\n",
    "run_id_a = t_array_run_ids[0]"
   ]
  },
  {
   "cell_type": "code",
   "execution_count": 11,
   "metadata": {
    "execution": {
     "iopub.execute_input": "2020-12-01T11:49:50.678488Z",
     "iopub.status.busy": "2020-12-01T11:49:50.677891Z",
     "iopub.status.idle": "2020-12-01T11:49:50.687035Z",
     "shell.execute_reply": "2020-12-01T11:49:50.686531Z"
    },
    "scrolled": true
   },
   "outputs": [
    {
     "data": {
      "text/plain": [
       "{'x1': {'x1': array([0.9879069 , 0.9879069 , 0.50941091, 0.50941091, 0.34267625,\n",
       "         0.34267625, 0.37821913, 0.37821913, 0.60089724, 0.60089724,\n",
       "         0.91106276, 0.91106276, 0.88252514, 0.88252514, 0.49831187,\n",
       "         0.49831187, 0.39194752, 0.39194752, 0.86296811, 0.86296811,\n",
       "         0.9630415 , 0.9630415 , 0.37997277, 0.37997277, 0.40210537,\n",
       "         0.40210537, 0.71447038, 0.71447038, 0.44687353, 0.44687353,\n",
       "         0.59193529, 0.59193529, 0.79392318, 0.79392318, 0.41149868,\n",
       "         0.41149868, 0.21514048, 0.21514048, 0.01212938, 0.01212938,\n",
       "         0.72683578, 0.72683578, 0.21757128, 0.21757128, 0.91461208,\n",
       "         0.91461208, 0.66382658, 0.66382658, 0.355118  , 0.355118  ,\n",
       "         0.56421977, 0.56421977, 0.91163989, 0.91163989, 0.20993464,\n",
       "         0.20993464, 0.0191731 , 0.0191731 , 0.66612561, 0.66612561,\n",
       "         0.3042853 , 0.3042853 , 0.0130468 , 0.0130468 , 0.36078326,\n",
       "         0.36078326, 0.2096737 , 0.2096737 , 0.31044768, 0.31044768,\n",
       "         0.58270571, 0.58270571, 0.91628972, 0.91628972, 0.08200635,\n",
       "         0.08200635, 0.80260945, 0.80260945, 0.32819794, 0.32819794,\n",
       "         0.92890941, 0.92890941, 0.52019143, 0.52019143, 0.12188525,\n",
       "         0.12188525, 0.34502466, 0.34502466, 0.47710409, 0.47710409,\n",
       "         0.73303672, 0.73303672, 0.68726021, 0.68726021, 0.81632636,\n",
       "         0.81632636, 0.17688614, 0.17688614, 0.30478559, 0.30478559,\n",
       "         0.37410101, 0.37410101, 0.6205298 , 0.6205298 , 0.67339177,\n",
       "         0.67339177, 0.60141522, 0.60141522, 0.27726912, 0.27726912,\n",
       "         0.5664534 , 0.5664534 , 0.12738382, 0.12738382, 0.86917998,\n",
       "         0.86917998, 0.70049723, 0.70049723, 0.7331016 , 0.7331016 ,\n",
       "         0.35507851, 0.35507851, 0.07249884, 0.07249884, 0.87514781,\n",
       "         0.87514781, 0.78359778, 0.78359778, 0.81811453, 0.81811453,\n",
       "         0.59029512, 0.59029512, 0.6553017 , 0.6553017 , 0.96634455,\n",
       "         0.96634455, 0.96936468, 0.96936468, 0.89149958, 0.89149958,\n",
       "         0.77951788, 0.77951788, 0.20998598, 0.20998598, 0.43334945,\n",
       "         0.43334945, 0.94666189, 0.94666189, 0.51427049, 0.51427049,\n",
       "         0.60864921, 0.60864921, 0.19136931, 0.19136931, 0.14549178,\n",
       "         0.14549178, 0.59948297, 0.59948297, 0.84544589, 0.84544589,\n",
       "         0.26673686, 0.26673686, 0.48740888, 0.48740888, 0.41754729,\n",
       "         0.41754729, 0.84750351, 0.84750351, 0.18703326, 0.18703326,\n",
       "         0.68254825, 0.68254825, 0.18886924, 0.18886924, 0.82089808,\n",
       "         0.82089808, 0.47200255, 0.47200255, 0.18131834, 0.18131834,\n",
       "         0.81539016, 0.81539016, 0.04823896, 0.04823896, 0.39749166,\n",
       "         0.39749166, 0.77101415, 0.77101415, 0.11969286, 0.11969286,\n",
       "         0.35530872, 0.35530872, 0.01075658, 0.01075658, 0.70282074,\n",
       "         0.70282074, 0.02035856, 0.02035856, 0.83929505, 0.83929505])}}"
      ]
     },
     "execution_count": 1,
     "metadata": {},
     "output_type": "execute_result"
    }
   ],
   "source": [
    "ds = load_by_id(run_id_n)\n",
    "ds.get_parameter_data('x1')"
   ]
  },
  {
   "cell_type": "markdown",
   "metadata": {},
   "source": [
    "And a dataset stored as binary arrays"
   ]
  },
  {
   "cell_type": "code",
   "execution_count": 12,
   "metadata": {
    "execution": {
     "iopub.execute_input": "2020-12-01T11:49:50.690063Z",
     "iopub.status.busy": "2020-12-01T11:49:50.689548Z",
     "iopub.status.idle": "2020-12-01T11:49:50.743903Z",
     "shell.execute_reply": "2020-12-01T11:49:50.744648Z"
    },
    "scrolled": true
   },
   "outputs": [
    {
     "data": {
      "text/plain": [
       "{'x1': {'x1': array([[0.22909534],\n",
       "         [0.22909534],\n",
       "         [0.55666713],\n",
       "         [0.55666713],\n",
       "         [0.34470809],\n",
       "         [0.34470809],\n",
       "         [0.90586094],\n",
       "         [0.90586094],\n",
       "         [0.04006241],\n",
       "         [0.04006241],\n",
       "         [0.49205981],\n",
       "         [0.49205981],\n",
       "         [0.6626048 ],\n",
       "         [0.6626048 ],\n",
       "         [0.61424541],\n",
       "         [0.61424541],\n",
       "         [0.54404613],\n",
       "         [0.54404613],\n",
       "         [0.8557801 ],\n",
       "         [0.8557801 ],\n",
       "         [0.65233084],\n",
       "         [0.65233084],\n",
       "         [0.51207625],\n",
       "         [0.51207625],\n",
       "         [0.57531906],\n",
       "         [0.57531906],\n",
       "         [0.8383889 ],\n",
       "         [0.8383889 ],\n",
       "         [0.98804267],\n",
       "         [0.98804267],\n",
       "         [0.16718114],\n",
       "         [0.16718114],\n",
       "         [0.15393217],\n",
       "         [0.15393217],\n",
       "         [0.96885927],\n",
       "         [0.96885927],\n",
       "         [0.38673593],\n",
       "         [0.38673593],\n",
       "         [0.62933195],\n",
       "         [0.62933195],\n",
       "         [0.30827183],\n",
       "         [0.30827183],\n",
       "         [0.62112741],\n",
       "         [0.62112741],\n",
       "         [0.20338434],\n",
       "         [0.20338434],\n",
       "         [0.53694573],\n",
       "         [0.53694573],\n",
       "         [0.74511117],\n",
       "         [0.74511117],\n",
       "         [0.42639522],\n",
       "         [0.42639522],\n",
       "         [0.75496464],\n",
       "         [0.75496464],\n",
       "         [0.67166795],\n",
       "         [0.67166795],\n",
       "         [0.3649394 ],\n",
       "         [0.3649394 ],\n",
       "         [0.45289397],\n",
       "         [0.45289397],\n",
       "         [0.17600944],\n",
       "         [0.17600944],\n",
       "         [0.48200857],\n",
       "         [0.48200857],\n",
       "         [0.73927191],\n",
       "         [0.73927191],\n",
       "         [0.68244171],\n",
       "         [0.68244171],\n",
       "         [0.5820668 ],\n",
       "         [0.5820668 ],\n",
       "         [0.16940366],\n",
       "         [0.16940366],\n",
       "         [0.71885005],\n",
       "         [0.71885005],\n",
       "         [0.05357096],\n",
       "         [0.05357096],\n",
       "         [0.80653754],\n",
       "         [0.80653754],\n",
       "         [0.71266784],\n",
       "         [0.71266784],\n",
       "         [0.29395432],\n",
       "         [0.29395432],\n",
       "         [0.04341733],\n",
       "         [0.04341733],\n",
       "         [0.99380969],\n",
       "         [0.99380969],\n",
       "         [0.53872053],\n",
       "         [0.53872053],\n",
       "         [0.84845379],\n",
       "         [0.84845379],\n",
       "         [0.7544383 ],\n",
       "         [0.7544383 ],\n",
       "         [0.83640003],\n",
       "         [0.83640003],\n",
       "         [0.99587936],\n",
       "         [0.99587936],\n",
       "         [0.84341607],\n",
       "         [0.84341607],\n",
       "         [0.14716187],\n",
       "         [0.14716187],\n",
       "         [0.03933781],\n",
       "         [0.03933781],\n",
       "         [0.69565599],\n",
       "         [0.69565599],\n",
       "         [0.59366811],\n",
       "         [0.59366811],\n",
       "         [0.85241751],\n",
       "         [0.85241751],\n",
       "         [0.98384256],\n",
       "         [0.98384256],\n",
       "         [0.31538223],\n",
       "         [0.31538223],\n",
       "         [0.67631079],\n",
       "         [0.67631079],\n",
       "         [0.56272652],\n",
       "         [0.56272652],\n",
       "         [0.89385227],\n",
       "         [0.89385227],\n",
       "         [0.09975171],\n",
       "         [0.09975171],\n",
       "         [0.17882023],\n",
       "         [0.17882023],\n",
       "         [0.25477041],\n",
       "         [0.25477041],\n",
       "         [0.85029318],\n",
       "         [0.85029318],\n",
       "         [0.27034203],\n",
       "         [0.27034203],\n",
       "         [0.97629274],\n",
       "         [0.97629274],\n",
       "         [0.8808221 ],\n",
       "         [0.8808221 ],\n",
       "         [0.29682544],\n",
       "         [0.29682544],\n",
       "         [0.2061911 ],\n",
       "         [0.2061911 ],\n",
       "         [0.47040269],\n",
       "         [0.47040269],\n",
       "         [0.65241603],\n",
       "         [0.65241603],\n",
       "         [0.46336882],\n",
       "         [0.46336882],\n",
       "         [0.15228788],\n",
       "         [0.15228788],\n",
       "         [0.48013515],\n",
       "         [0.48013515],\n",
       "         [0.31347633],\n",
       "         [0.31347633],\n",
       "         [0.26186016],\n",
       "         [0.26186016],\n",
       "         [0.07261816],\n",
       "         [0.07261816],\n",
       "         [0.9060336 ],\n",
       "         [0.9060336 ],\n",
       "         [0.68641193],\n",
       "         [0.68641193],\n",
       "         [0.41898802],\n",
       "         [0.41898802],\n",
       "         [0.29672878],\n",
       "         [0.29672878],\n",
       "         [0.47942979],\n",
       "         [0.47942979],\n",
       "         [0.48705385],\n",
       "         [0.48705385],\n",
       "         [0.49777701],\n",
       "         [0.49777701],\n",
       "         [0.13383755],\n",
       "         [0.13383755],\n",
       "         [0.3486813 ],\n",
       "         [0.3486813 ],\n",
       "         [0.59468397],\n",
       "         [0.59468397],\n",
       "         [0.15081571],\n",
       "         [0.15081571],\n",
       "         [0.22358714],\n",
       "         [0.22358714],\n",
       "         [0.60398868],\n",
       "         [0.60398868],\n",
       "         [0.88773612],\n",
       "         [0.88773612],\n",
       "         [0.79745326],\n",
       "         [0.79745326],\n",
       "         [0.76296917],\n",
       "         [0.76296917],\n",
       "         [0.34921322],\n",
       "         [0.34921322],\n",
       "         [0.3454982 ],\n",
       "         [0.3454982 ],\n",
       "         [0.94135808],\n",
       "         [0.94135808],\n",
       "         [0.71785569],\n",
       "         [0.71785569],\n",
       "         [0.5077396 ],\n",
       "         [0.5077396 ],\n",
       "         [0.32121874],\n",
       "         [0.32121874],\n",
       "         [0.23393236],\n",
       "         [0.23393236],\n",
       "         [0.65526941],\n",
       "         [0.65526941]])}}"
      ]
     },
     "execution_count": 1,
     "metadata": {},
     "output_type": "execute_result"
    }
   ],
   "source": [
    "ds = load_by_id(run_id_a)\n",
    "ds.get_parameter_data('x1')"
   ]
  },
  {
   "cell_type": "code",
   "execution_count": null,
   "metadata": {},
   "outputs": [],
   "source": []
  }
 ],
 "metadata": {
  "kernelspec": {
   "display_name": "Python 3",
   "language": "python",
   "name": "python3"
  },
  "language_info": {
   "codemirror_mode": {
    "name": "ipython",
    "version": 3
   },
   "file_extension": ".py",
   "mimetype": "text/x-python",
   "name": "python",
   "nbconvert_exporter": "python",
   "pygments_lexer": "ipython3",
   "version": "3.7.9"
  },
  "nbsphinx": {
   "timeout": 600
  },
  "toc": {
   "base_numbering": 1,
   "nav_menu": {},
   "number_sections": true,
   "sideBar": true,
   "skip_h1_title": false,
   "title_cell": "Table of Contents",
   "title_sidebar": "Contents",
   "toc_cell": false,
   "toc_position": {},
   "toc_section_display": true,
   "toc_window_display": false
  },
  "varInspector": {
   "cols": {
    "lenName": 16,
    "lenType": 16,
    "lenVar": 40
   },
   "kernels_config": {
    "python": {
     "delete_cmd_postfix": "",
     "delete_cmd_prefix": "del ",
     "library": "var_list.py",
     "varRefreshCmd": "print(var_dic_list())"
    },
    "r": {
     "delete_cmd_postfix": ") ",
     "delete_cmd_prefix": "rm(",
     "library": "var_list.r",
     "varRefreshCmd": "cat(var_dic_list()) "
    }
   },
   "types_to_exclude": [
    "module",
    "function",
    "builtin_function_or_method",
    "instance",
    "_Feature"
   ],
   "window_display": false
  }
 },
 "nbformat": 4,
 "nbformat_minor": 2
}
