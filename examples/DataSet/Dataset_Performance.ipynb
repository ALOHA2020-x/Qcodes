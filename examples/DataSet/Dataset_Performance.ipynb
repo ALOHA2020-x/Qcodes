{
 "cells": [
  {
   "cell_type": "markdown",
   "metadata": {},
   "source": [
    "# DataSet Performance\n",
    "\n",
    "This notebook shows the trade-off between inserting data into a database row-by-row and as binary blobs. Inserting the data row-by-row means that we have direct access to all the data and may perform queries directly on the values of the data. On the other hand, as we shall see, this is much slower than inserting the data directly as binary blobs."
   ]
  },
  {
   "cell_type": "markdown",
   "metadata": {},
   "source": [
    "First, we choose a new location for the database to ensure that we don't add a bunch of benchmarking data to the default one."
   ]
  },
  {
   "cell_type": "code",
   "execution_count": 1,
   "metadata": {},
   "outputs": [
    {
     "name": "stdout",
     "output_type": "stream",
     "text": [
      "Logging hadn't been started.\n",
      "Activating auto-logging. Current session state plus future input saved.\n",
      "Filename       : /home/vsts/.qcodes/logs/command_history.log\n",
      "Mode           : append\n",
      "Output logging : True\n",
      "Raw input log  : False\n",
      "Timestamping   : True\n",
      "State          : active\n"
     ]
    },
    {
     "name": "stdout",
     "output_type": "stream",
     "text": [
      "Qcodes Logfile : /home/vsts/.qcodes/logs/200804-18812-qcodes.log\n"
     ]
    }
   ],
   "source": [
    "import os\n",
    "cwd = os.getcwd()\n",
    "import qcodes as qc\n",
    "qc.config[\"core\"][\"db_location\"] = os.path.join(cwd, 'testing.db')\n"
   ]
  },
  {
   "cell_type": "code",
   "execution_count": 2,
   "metadata": {},
   "outputs": [],
   "source": [
    "%matplotlib inline\n",
    "import time\n",
    "import matplotlib.pyplot as plt\n",
    "import numpy as np\n",
    "\n",
    "import qcodes as qc\n",
    "from qcodes.instrument.parameter import ManualParameter\n",
    "from qcodes.dataset.experiment_container import (Experiment,\n",
    "                                                 load_last_experiment,\n",
    "                                                 new_experiment)\n",
    "from qcodes.dataset.sqlite.database import initialise_database\n",
    "from qcodes import load_or_create_experiment\n",
    "from qcodes.dataset.measurements import Measurement"
   ]
  },
  {
   "cell_type": "code",
   "execution_count": 3,
   "metadata": {},
   "outputs": [
    {
     "name": "stdout",
     "output_type": "stream",
     "text": [
      "\r",
      "0it [00:00, ?it/s]"
     ]
    },
    {
     "name": "stdout",
     "output_type": "stream",
     "text": [
      "\r",
      "Upgrading database; v0 -> v1: : 0it [00:00, ?it/s]"
     ]
    },
    {
     "name": "stdout",
     "output_type": "stream",
     "text": [
      "\r",
      "Upgrading database; v0 -> v1: : 0it [00:00, ?it/s]"
     ]
    },
    {
     "name": "stdout",
     "output_type": "stream",
     "text": [
      "\n",
      "\r",
      "  0%|          | 0/1 [00:00<?, ?it/s]"
     ]
    },
    {
     "name": "stdout",
     "output_type": "stream",
     "text": [
      "\r",
      "Upgrading database; v1 -> v2:   0%|          | 0/1 [00:00<?, ?it/s]"
     ]
    },
    {
     "name": "stdout",
     "output_type": "stream",
     "text": [
      "\r",
      "Upgrading database; v1 -> v2: 100%|██████████| 1/1 [00:00<00:00, 760.94it/s]"
     ]
    },
    {
     "name": "stdout",
     "output_type": "stream",
     "text": [
      "\n",
      "\r",
      "0it [00:00, ?it/s]"
     ]
    },
    {
     "name": "stdout",
     "output_type": "stream",
     "text": [
      "\r",
      "Upgrading database; v2 -> v3: : 0it [00:00, ?it/s]"
     ]
    },
    {
     "name": "stdout",
     "output_type": "stream",
     "text": [
      "\r",
      "Upgrading database; v2 -> v3: : 0it [00:00, ?it/s]"
     ]
    },
    {
     "name": "stdout",
     "output_type": "stream",
     "text": [
      "\n",
      "\r",
      "0it [00:00, ?it/s]"
     ]
    },
    {
     "name": "stdout",
     "output_type": "stream",
     "text": [
      "\r",
      "Upgrading database; v3 -> v4: : 0it [00:00, ?it/s]"
     ]
    },
    {
     "name": "stdout",
     "output_type": "stream",
     "text": [
      "\r",
      "Upgrading database; v3 -> v4: : 0it [00:00, ?it/s]"
     ]
    },
    {
     "name": "stdout",
     "output_type": "stream",
     "text": [
      "\n",
      "\r",
      "  0%|          | 0/1 [00:00<?, ?it/s]"
     ]
    },
    {
     "name": "stdout",
     "output_type": "stream",
     "text": [
      "\r",
      "Upgrading database; v4 -> v5:   0%|          | 0/1 [00:00<?, ?it/s]"
     ]
    },
    {
     "name": "stdout",
     "output_type": "stream",
     "text": [
      "\r",
      "Upgrading database; v4 -> v5: 100%|██████████| 1/1 [00:00<00:00, 667.56it/s]"
     ]
    },
    {
     "name": "stdout",
     "output_type": "stream",
     "text": [
      "\n",
      "\r",
      "0it [00:00, ?it/s]"
     ]
    },
    {
     "name": "stdout",
     "output_type": "stream",
     "text": [
      "\r",
      "Upgrading database; v5 -> v6: : 0it [00:00, ?it/s]"
     ]
    },
    {
     "name": "stdout",
     "output_type": "stream",
     "text": [
      "\r",
      "Upgrading database; v5 -> v6: : 0it [00:00, ?it/s]"
     ]
    },
    {
     "name": "stdout",
     "output_type": "stream",
     "text": [
      "\n",
      "\r",
      "  0%|          | 0/1 [00:00<?, ?it/s]"
     ]
    },
    {
     "name": "stdout",
     "output_type": "stream",
     "text": [
      "\r",
      "Upgrading database; v6 -> v7:   0%|          | 0/1 [00:00<?, ?it/s]"
     ]
    },
    {
     "name": "stdout",
     "output_type": "stream",
     "text": [
      "\r",
      "Upgrading database; v6 -> v7: 100%|██████████| 1/1 [00:00<00:00, 336.86it/s]"
     ]
    },
    {
     "name": "stdout",
     "output_type": "stream",
     "text": [
      "\n",
      "\r",
      "  0%|          | 0/1 [00:00<?, ?it/s]"
     ]
    },
    {
     "name": "stdout",
     "output_type": "stream",
     "text": [
      "\r",
      "Upgrading database; v7 -> v8:   0%|          | 0/1 [00:00<?, ?it/s]"
     ]
    },
    {
     "name": "stdout",
     "output_type": "stream",
     "text": [
      "\r",
      "Upgrading database; v7 -> v8: 100%|██████████| 1/1 [00:00<00:00, 627.70it/s]"
     ]
    },
    {
     "name": "stdout",
     "output_type": "stream",
     "text": [
      "\n",
      "\r",
      "  0%|          | 0/1 [00:00<?, ?it/s]"
     ]
    },
    {
     "name": "stdout",
     "output_type": "stream",
     "text": [
      "\r",
      "Upgrading database; v8 -> v9:   0%|          | 0/1 [00:00<?, ?it/s]"
     ]
    },
    {
     "name": "stdout",
     "output_type": "stream",
     "text": [
      "\r",
      "Upgrading database; v8 -> v9: 100%|██████████| 1/1 [00:00<00:00, 683.45it/s]"
     ]
    },
    {
     "name": "stdout",
     "output_type": "stream",
     "text": [
      "\n"
     ]
    }
   ],
   "source": [
    "initialise_database()\n",
    "exp = load_or_create_experiment(experiment_name='tutorial_exp', sample_name=\"no sample\")"
   ]
  },
  {
   "cell_type": "markdown",
   "metadata": {},
   "source": [
    "Here, we define a simple function to benchmark the time it takes to insert n points with either numeric or array data type.\n",
    "We will compare both the time used to call ``add_result`` and the time used for the full measurement."
   ]
  },
  {
   "cell_type": "code",
   "execution_count": 4,
   "metadata": {},
   "outputs": [],
   "source": [
    "def insert_data(paramtype, npoints, nreps=1):\n",
    "\n",
    "    meas = Measurement(exp=exp)\n",
    "\n",
    "    x1 = ManualParameter('x1')\n",
    "    x2 = ManualParameter('x2')\n",
    "    x3 = ManualParameter('x3')\n",
    "    y1 = ManualParameter('y1')\n",
    "    y2 = ManualParameter('y2')\n",
    "\n",
    "    meas.register_parameter(x1, paramtype=paramtype)\n",
    "    meas.register_parameter(x2, paramtype=paramtype)\n",
    "    meas.register_parameter(x3, paramtype=paramtype)\n",
    "    meas.register_parameter(y1, setpoints=[x1, x2, x3],\n",
    "                            paramtype=paramtype)\n",
    "    meas.register_parameter(y2, setpoints=[x1, x2, x3],\n",
    "                            paramtype=paramtype)\n",
    "    start = time.perf_counter()\n",
    "    with meas.run() as datasaver:\n",
    "        start_adding = time.perf_counter()\n",
    "        for i in range(nreps):\n",
    "            datasaver.add_result((x1, np.random.rand(npoints)),\n",
    "                                 (x2, np.random.rand(npoints)),\n",
    "                                 (x3, np.random.rand(npoints)),\n",
    "                                 (y1, np.random.rand(npoints)),\n",
    "                                 (y2, np.random.rand(npoints)))\n",
    "        stop_adding = time.perf_counter()\n",
    "        run_id = datasaver.run_id\n",
    "    stop = time.perf_counter()\n",
    "    tot_time = stop - start\n",
    "    add_time = stop_adding - start_adding\n",
    "    return tot_time, add_time, run_id"
   ]
  },
  {
   "cell_type": "markdown",
   "metadata": {},
   "source": [
    "## Comparison between numeric/array data and binary blob"
   ]
  },
  {
   "cell_type": "markdown",
   "metadata": {},
   "source": [
    "### Case1: Short experiment time"
   ]
  },
  {
   "cell_type": "code",
   "execution_count": 5,
   "metadata": {},
   "outputs": [
    {
     "name": "stdout",
     "output_type": "stream",
     "text": [
      "Starting experimental run with id: 1. \n",
      "Starting experimental run with id: 2. \n",
      "Starting experimental run with id: 3. \n"
     ]
    },
    {
     "name": "stdout",
     "output_type": "stream",
     "text": [
      "Starting experimental run with id: 4. \n"
     ]
    },
    {
     "name": "stdout",
     "output_type": "stream",
     "text": [
      "Starting experimental run with id: 5. \n"
     ]
    },
    {
     "name": "stdout",
     "output_type": "stream",
     "text": [
      "Starting experimental run with id: 6. \n"
     ]
    },
    {
     "name": "stdout",
     "output_type": "stream",
     "text": [
      "Starting experimental run with id: 7. \n",
      "Starting experimental run with id: 8. \n"
     ]
    },
    {
     "name": "stdout",
     "output_type": "stream",
     "text": [
      "Starting experimental run with id: 9. \n"
     ]
    },
    {
     "name": "stdout",
     "output_type": "stream",
     "text": [
      "Starting experimental run with id: 10. \n",
      "Starting experimental run with id: 11. \n"
     ]
    },
    {
     "name": "stdout",
     "output_type": "stream",
     "text": [
      "Starting experimental run with id: 12. \n",
      "Starting experimental run with id: 13. \n"
     ]
    },
    {
     "name": "stdout",
     "output_type": "stream",
     "text": [
      "Starting experimental run with id: 14. \n"
     ]
    }
   ],
   "source": [
    "sizes = [1,500,1000,2000,3000,4000,5000]\n",
    "t_numeric = []\n",
    "t_numeric_add = []\n",
    "t_array = []\n",
    "t_array_add = []\n",
    "for size in sizes:\n",
    "    tn, tna, run_id_n =  insert_data('numeric', size)\n",
    "    t_numeric.append(tn)\n",
    "    t_numeric_add.append(tna)\n",
    "\n",
    "    ta, taa, run_id_a =  insert_data('array', size)\n",
    "    t_array.append(ta)\n",
    "    t_array_add.append(taa)"
   ]
  },
  {
   "cell_type": "code",
   "execution_count": 6,
   "metadata": {},
   "outputs": [
    {
     "data": {
      "image/png": "[encoded data removed]",
      "text/plain": [
       "<Figure size 432x288 with 1 Axes>"
      ]
     },
     "metadata": {
      "needs_background": "light"
     },
     "output_type": "display_data"
    }
   ],
   "source": [
    "fig, ax = plt.subplots(1,1)\n",
    "ax.plot(sizes, t_numeric, 'o-', label='Inserting row-by-row')\n",
    "ax.plot(sizes, t_numeric_add, 'o-', label='Inserting row-by-row: add_result only')\n",
    "ax.plot(sizes, t_array, 'd-', label='Inserting as binary blob')\n",
    "ax.plot(sizes, t_array_add, 'd-', label='Inserting as binary blob: add_result only')\n",
    "ax.legend()\n",
    "ax.set_xlabel('Array length')\n",
    "ax.set_ylabel('Time (s)')\n",
    "fig.tight_layout()"
   ]
  },
  {
   "cell_type": "markdown",
   "metadata": {},
   "source": [
    "As shown in the latter figure, the time to setup and and close the experiment is approximately 0.4 sec. In case of small array sizes, the difference between inserting values of data as arrays and inserting them row-by-row is relatively unimportant. At larger array sizes, i.e. above 10000 points, the cost of writing data as individual datapoints starts to become important.\n"
   ]
  },
  {
   "cell_type": "markdown",
   "metadata": {},
   "source": [
    "### Case2: Long experiment time "
   ]
  },
  {
   "cell_type": "code",
   "execution_count": 7,
   "metadata": {},
   "outputs": [
    {
     "name": "stdout",
     "output_type": "stream",
     "text": [
      "Starting experimental run with id: 15. \n",
      "Starting experimental run with id: 16. \n",
      "Starting experimental run with id: 17. \n"
     ]
    },
    {
     "name": "stdout",
     "output_type": "stream",
     "text": [
      "Starting experimental run with id: 18. \n",
      "Starting experimental run with id: 19. \n"
     ]
    },
    {
     "name": "stdout",
     "output_type": "stream",
     "text": [
      "Starting experimental run with id: 20. \n"
     ]
    },
    {
     "name": "stdout",
     "output_type": "stream",
     "text": [
      "Starting experimental run with id: 21. \n"
     ]
    },
    {
     "name": "stdout",
     "output_type": "stream",
     "text": [
      "Starting experimental run with id: 22. \n"
     ]
    },
    {
     "name": "stdout",
     "output_type": "stream",
     "text": [
      "Starting experimental run with id: 23. \n"
     ]
    },
    {
     "name": "stdout",
     "output_type": "stream",
     "text": [
      "Starting experimental run with id: 24. \n"
     ]
    },
    {
     "name": "stdout",
     "output_type": "stream",
     "text": [
      "Starting experimental run with id: 25. \n"
     ]
    },
    {
     "name": "stdout",
     "output_type": "stream",
     "text": [
      "Starting experimental run with id: 26. \n"
     ]
    },
    {
     "name": "stdout",
     "output_type": "stream",
     "text": [
      "Starting experimental run with id: 27. \n"
     ]
    },
    {
     "name": "stdout",
     "output_type": "stream",
     "text": [
      "Starting experimental run with id: 28. \n"
     ]
    }
   ],
   "source": [
    "sizes = [1,500,1000,2000,3000,4000,5000]\n",
    "nreps = 100\n",
    "t_numeric = []\n",
    "t_numeric_add = []\n",
    "t_numeric_run_ids = []\n",
    "t_array = []\n",
    "t_array_add = []\n",
    "t_array_run_ids = []\n",
    "for size in sizes:\n",
    "    tn, tna, run_id_n =  insert_data('numeric', size, nreps=nreps)\n",
    "    t_numeric.append(tn)\n",
    "    t_numeric_add.append(tna)\n",
    "    t_numeric_run_ids.append(run_id_n)\n",
    "\n",
    "    ta, taa, run_id_a =  insert_data('array', size, nreps=nreps)\n",
    "    t_array.append(ta)\n",
    "    t_array_add.append(taa)\n",
    "    t_array_run_ids.append(run_id_a)"
   ]
  },
  {
   "cell_type": "code",
   "execution_count": 8,
   "metadata": {
    "scrolled": true
   },
   "outputs": [
    {
     "data": {
      "image/png": "[encoded data removed]",
      "text/plain": [
       "<Figure size 432x288 with 1 Axes>"
      ]
     },
     "metadata": {
      "needs_background": "light"
     },
     "output_type": "display_data"
    }
   ],
   "source": [
    "fig, ax = plt.subplots(1,1)\n",
    "ax.plot(sizes, t_numeric, 'o-', label='Inserting row-by-row')\n",
    "ax.plot(sizes, t_numeric_add, 'o-', label='Inserting row-by-row: add_result only')\n",
    "ax.plot(sizes, t_array, 'd-', label='Inserting as binary blob')\n",
    "ax.plot(sizes, t_array_add, 'd-', label='Inserting as binary blob: add_result only')\n",
    "ax.legend()\n",
    "ax.set_xlabel('Array length')\n",
    "ax.set_ylabel('Time (s)')\n",
    "fig.tight_layout()"
   ]
  },
  {
   "cell_type": "markdown",
   "metadata": {},
   "source": [
    "However, as we increase the length of the experiment, as seen here by repeating the insertion 100 times, we see a big difference between inserting values of the data row-by-row and inserting it as a binary blob."
   ]
  },
  {
   "cell_type": "markdown",
   "metadata": {},
   "source": [
    "## Loading the data "
   ]
  },
  {
   "cell_type": "code",
   "execution_count": 9,
   "metadata": {},
   "outputs": [],
   "source": [
    "from qcodes.dataset.data_set import load_by_id\n",
    "from qcodes.dataset.data_export import get_data_by_id"
   ]
  },
  {
   "cell_type": "markdown",
   "metadata": {},
   "source": [
    "As usual you can load the data by using the ``load_by_id`` function but you will notice that the different storage methods\n",
    "are reflected in shape of the data as it is retrieved. "
   ]
  },
  {
   "cell_type": "code",
   "execution_count": 10,
   "metadata": {},
   "outputs": [],
   "source": [
    "run_id_n = t_numeric_run_ids[0]\n",
    "run_id_a = t_array_run_ids[0]"
   ]
  },
  {
   "cell_type": "code",
   "execution_count": 11,
   "metadata": {
    "scrolled": true
   },
   "outputs": [
    {
     "data": {
      "text/plain": [
       "{'x1': {'x1': array([0.06040852, 0.06040852, 0.75577116, 0.75577116, 0.34476321,\n",
       "         0.34476321, 0.10759046, 0.10759046, 0.95184761, 0.95184761,\n",
       "         0.83898253, 0.83898253, 0.10894138, 0.10894138, 0.29550296,\n",
       "         0.29550296, 0.38054811, 0.38054811, 0.035926  , 0.035926  ,\n",
       "         0.33303398, 0.33303398, 0.5484943 , 0.5484943 , 0.18769869,\n",
       "         0.18769869, 0.58613204, 0.58613204, 0.19367056, 0.19367056,\n",
       "         0.61327388, 0.61327388, 0.6480077 , 0.6480077 , 0.21928209,\n",
       "         0.21928209, 0.63013758, 0.63013758, 0.0673712 , 0.0673712 ,\n",
       "         0.421599  , 0.421599  , 0.9902656 , 0.9902656 , 0.62877086,\n",
       "         0.62877086, 0.80179744, 0.80179744, 0.63107012, 0.63107012,\n",
       "         0.85276043, 0.85276043, 0.70146646, 0.70146646, 0.48390105,\n",
       "         0.48390105, 0.94083116, 0.94083116, 0.50438518, 0.50438518,\n",
       "         0.69555333, 0.69555333, 0.83667531, 0.83667531, 0.91617899,\n",
       "         0.91617899, 0.21350249, 0.21350249, 0.52524549, 0.52524549,\n",
       "         0.62195325, 0.62195325, 0.01691871, 0.01691871, 0.54088121,\n",
       "         0.54088121, 0.12066999, 0.12066999, 0.24275247, 0.24275247,\n",
       "         0.48358083, 0.48358083, 0.18937076, 0.18937076, 0.24830445,\n",
       "         0.24830445, 0.06041891, 0.06041891, 0.91316433, 0.91316433,\n",
       "         0.96731966, 0.96731966, 0.26221068, 0.26221068, 0.01184365,\n",
       "         0.01184365, 0.08388579, 0.08388579, 0.2811788 , 0.2811788 ,\n",
       "         0.9634394 , 0.9634394 , 0.71575702, 0.71575702, 0.63467274,\n",
       "         0.63467274, 0.48019648, 0.48019648, 0.24366648, 0.24366648,\n",
       "         0.93901392, 0.93901392, 0.02658899, 0.02658899, 0.45434804,\n",
       "         0.45434804, 0.95656083, 0.95656083, 0.70094928, 0.70094928,\n",
       "         0.13571616, 0.13571616, 0.67525423, 0.67525423, 0.0517012 ,\n",
       "         0.0517012 , 0.2960819 , 0.2960819 , 0.08907612, 0.08907612,\n",
       "         0.9255215 , 0.9255215 , 0.68839868, 0.68839868, 0.36987821,\n",
       "         0.36987821, 0.60310114, 0.60310114, 0.23751253, 0.23751253,\n",
       "         0.27593763, 0.27593763, 0.47205233, 0.47205233, 0.45505297,\n",
       "         0.45505297, 0.79817117, 0.79817117, 0.31853131, 0.31853131,\n",
       "         0.80595984, 0.80595984, 0.29109175, 0.29109175, 0.77851386,\n",
       "         0.77851386, 0.80787788, 0.80787788, 0.1580214 , 0.1580214 ,\n",
       "         0.51258696, 0.51258696, 0.20524143, 0.20524143, 0.74312931,\n",
       "         0.74312931, 0.5165519 , 0.5165519 , 0.57445811, 0.57445811,\n",
       "         0.27824098, 0.27824098, 0.81373875, 0.81373875, 0.80971402,\n",
       "         0.80971402, 0.80929076, 0.80929076, 0.48739396, 0.48739396,\n",
       "         0.05804441, 0.05804441, 0.76634271, 0.76634271, 0.14578214,\n",
       "         0.14578214, 0.12042105, 0.12042105, 0.57425616, 0.57425616,\n",
       "         0.84351629, 0.84351629, 0.61149054, 0.61149054, 0.52697688,\n",
       "         0.52697688, 0.95338713, 0.95338713, 0.15265401, 0.15265401])}}"
      ]
     },
     "execution_count": 11,
     "metadata": {},
     "output_type": "execute_result"
    }
   ],
   "source": [
    "ds = load_by_id(run_id_n)\n",
    "ds.get_parameter_data('x1')"
   ]
  },
  {
   "cell_type": "markdown",
   "metadata": {},
   "source": [
    "And a dataset stored as binary arrays"
   ]
  },
  {
   "cell_type": "code",
   "execution_count": 12,
   "metadata": {
    "scrolled": true
   },
   "outputs": [
    {
     "data": {
      "text/plain": [
       "{'x1': {'x1': array([[0.6561209 ],\n",
       "         [0.6561209 ],\n",
       "         [0.89104122],\n",
       "         [0.89104122],\n",
       "         [0.78560927],\n",
       "         [0.78560927],\n",
       "         [0.4327267 ],\n",
       "         [0.4327267 ],\n",
       "         [0.26674449],\n",
       "         [0.26674449],\n",
       "         [0.18099941],\n",
       "         [0.18099941],\n",
       "         [0.21117563],\n",
       "         [0.21117563],\n",
       "         [0.04235877],\n",
       "         [0.04235877],\n",
       "         [0.97019272],\n",
       "         [0.97019272],\n",
       "         [0.48234344],\n",
       "         [0.48234344],\n",
       "         [0.16966011],\n",
       "         [0.16966011],\n",
       "         [0.63987464],\n",
       "         [0.63987464],\n",
       "         [0.95246267],\n",
       "         [0.95246267],\n",
       "         [0.55466736],\n",
       "         [0.55466736],\n",
       "         [0.42208759],\n",
       "         [0.42208759],\n",
       "         [0.32846194],\n",
       "         [0.32846194],\n",
       "         [0.5696249 ],\n",
       "         [0.5696249 ],\n",
       "         [0.72482655],\n",
       "         [0.72482655],\n",
       "         [0.14888778],\n",
       "         [0.14888778],\n",
       "         [0.30389995],\n",
       "         [0.30389995],\n",
       "         [0.29731041],\n",
       "         [0.29731041],\n",
       "         [0.95458881],\n",
       "         [0.95458881],\n",
       "         [0.38714122],\n",
       "         [0.38714122],\n",
       "         [0.69785769],\n",
       "         [0.69785769],\n",
       "         [0.87010546],\n",
       "         [0.87010546],\n",
       "         [0.86658542],\n",
       "         [0.86658542],\n",
       "         [0.76301387],\n",
       "         [0.76301387],\n",
       "         [0.89942048],\n",
       "         [0.89942048],\n",
       "         [0.84440559],\n",
       "         [0.84440559],\n",
       "         [0.60612852],\n",
       "         [0.60612852],\n",
       "         [0.31355926],\n",
       "         [0.31355926],\n",
       "         [0.91236999],\n",
       "         [0.91236999],\n",
       "         [0.91112665],\n",
       "         [0.91112665],\n",
       "         [0.92870874],\n",
       "         [0.92870874],\n",
       "         [0.78014639],\n",
       "         [0.78014639],\n",
       "         [0.12520222],\n",
       "         [0.12520222],\n",
       "         [0.51228002],\n",
       "         [0.51228002],\n",
       "         [0.66646159],\n",
       "         [0.66646159],\n",
       "         [0.95415222],\n",
       "         [0.95415222],\n",
       "         [0.25233261],\n",
       "         [0.25233261],\n",
       "         [0.70834762],\n",
       "         [0.70834762],\n",
       "         [0.75105593],\n",
       "         [0.75105593],\n",
       "         [0.09874085],\n",
       "         [0.09874085],\n",
       "         [0.76589929],\n",
       "         [0.76589929],\n",
       "         [0.32367675],\n",
       "         [0.32367675],\n",
       "         [0.52596603],\n",
       "         [0.52596603],\n",
       "         [0.01954999],\n",
       "         [0.01954999],\n",
       "         [0.69129722],\n",
       "         [0.69129722],\n",
       "         [0.28325706],\n",
       "         [0.28325706],\n",
       "         [0.78897172],\n",
       "         [0.78897172],\n",
       "         [0.73623972],\n",
       "         [0.73623972],\n",
       "         [0.22318664],\n",
       "         [0.22318664],\n",
       "         [0.09648665],\n",
       "         [0.09648665],\n",
       "         [0.0225353 ],\n",
       "         [0.0225353 ],\n",
       "         [0.13410536],\n",
       "         [0.13410536],\n",
       "         [0.89537378],\n",
       "         [0.89537378],\n",
       "         [0.85954464],\n",
       "         [0.85954464],\n",
       "         [0.79625768],\n",
       "         [0.79625768],\n",
       "         [0.92078322],\n",
       "         [0.92078322],\n",
       "         [0.41134517],\n",
       "         [0.41134517],\n",
       "         [0.79992769],\n",
       "         [0.79992769],\n",
       "         [0.70546646],\n",
       "         [0.70546646],\n",
       "         [0.00622532],\n",
       "         [0.00622532],\n",
       "         [0.27978398],\n",
       "         [0.27978398],\n",
       "         [0.83694788],\n",
       "         [0.83694788],\n",
       "         [0.29593866],\n",
       "         [0.29593866],\n",
       "         [0.7608433 ],\n",
       "         [0.7608433 ],\n",
       "         [0.18710378],\n",
       "         [0.18710378],\n",
       "         [0.55086459],\n",
       "         [0.55086459],\n",
       "         [0.14035732],\n",
       "         [0.14035732],\n",
       "         [0.66656751],\n",
       "         [0.66656751],\n",
       "         [0.14563696],\n",
       "         [0.14563696],\n",
       "         [0.51826017],\n",
       "         [0.51826017],\n",
       "         [0.65699887],\n",
       "         [0.65699887],\n",
       "         [0.21080002],\n",
       "         [0.21080002],\n",
       "         [0.61021804],\n",
       "         [0.61021804],\n",
       "         [0.38151707],\n",
       "         [0.38151707],\n",
       "         [0.60829077],\n",
       "         [0.60829077],\n",
       "         [0.19383392],\n",
       "         [0.19383392],\n",
       "         [0.6366295 ],\n",
       "         [0.6366295 ],\n",
       "         [0.79688504],\n",
       "         [0.79688504],\n",
       "         [0.2449624 ],\n",
       "         [0.2449624 ],\n",
       "         [0.9617122 ],\n",
       "         [0.9617122 ],\n",
       "         [0.06221947],\n",
       "         [0.06221947],\n",
       "         [0.26914816],\n",
       "         [0.26914816],\n",
       "         [0.55002531],\n",
       "         [0.55002531],\n",
       "         [0.81305696],\n",
       "         [0.81305696],\n",
       "         [0.17880608],\n",
       "         [0.17880608],\n",
       "         [0.74377156],\n",
       "         [0.74377156],\n",
       "         [0.11759447],\n",
       "         [0.11759447],\n",
       "         [0.15054613],\n",
       "         [0.15054613],\n",
       "         [0.12137821],\n",
       "         [0.12137821],\n",
       "         [0.40810913],\n",
       "         [0.40810913],\n",
       "         [0.73911269],\n",
       "         [0.73911269],\n",
       "         [0.75774147],\n",
       "         [0.75774147],\n",
       "         [0.14809415],\n",
       "         [0.14809415],\n",
       "         [0.16365599],\n",
       "         [0.16365599],\n",
       "         [0.9749074 ],\n",
       "         [0.9749074 ],\n",
       "         [0.23949874],\n",
       "         [0.23949874],\n",
       "         [0.62395125],\n",
       "         [0.62395125]])}}"
      ]
     },
     "execution_count": 12,
     "metadata": {},
     "output_type": "execute_result"
    }
   ],
   "source": [
    "ds = load_by_id(run_id_a)\n",
    "ds.get_parameter_data('x1')"
   ]
  },
  {
   "cell_type": "code",
   "execution_count": null,
   "metadata": {},
   "outputs": [],
   "source": []
  }
 ],
 "metadata": {
  "kernelspec": {
   "display_name": "Python 3",
   "language": "python",
   "name": "python3"
  },
  "language_info": {
   "codemirror_mode": {
    "name": "ipython",
    "version": 3
   },
   "file_extension": ".py",
   "mimetype": "text/x-python",
   "name": "python",
   "nbconvert_exporter": "python",
   "pygments_lexer": "ipython3",
   "version": "3.7.7"
  },
  "nbsphinx": {
   "timeout": 600
  },
  "toc": {
   "base_numbering": 1,
   "nav_menu": {},
   "number_sections": true,
   "sideBar": true,
   "skip_h1_title": false,
   "title_cell": "Table of Contents",
   "title_sidebar": "Contents",
   "toc_cell": false,
   "toc_position": {},
   "toc_section_display": true,
   "toc_window_display": false
  },
  "varInspector": {
   "cols": {
    "lenName": 16,
    "lenType": 16,
    "lenVar": 40
   },
   "kernels_config": {
    "python": {
     "delete_cmd_postfix": "",
     "delete_cmd_prefix": "del ",
     "library": "var_list.py",
     "varRefreshCmd": "print(var_dic_list())"
    },
    "r": {
     "delete_cmd_postfix": ") ",
     "delete_cmd_prefix": "rm(",
     "library": "var_list.r",
     "varRefreshCmd": "cat(var_dic_list()) "
    }
   },
   "types_to_exclude": [
    "module",
    "function",
    "builtin_function_or_method",
    "instance",
    "_Feature"
   ],
   "window_display": false
  }
 },
 "nbformat": 4,
 "nbformat_minor": 2
}
