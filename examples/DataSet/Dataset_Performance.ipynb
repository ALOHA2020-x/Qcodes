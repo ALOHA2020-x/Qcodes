{
 "cells": [
  {
   "cell_type": "markdown",
   "metadata": {},
   "source": [
    "# DataSet Performance\n",
    "\n",
    "This notebook shows the trade-off between inserting data into a database row-by-row and as binary blobs. Inserting the data row-by-row means that we have direct access to all the data and may perform queries directly on the values of the data. On the other hand, as we shall see, this is much slower than inserting the data directly as binary blobs."
   ]
  },
  {
   "cell_type": "markdown",
   "metadata": {},
   "source": [
    "First, we choose a new location for the database to ensure that we don't add a bunch of benchmarking data to the default one."
   ]
  },
  {
   "cell_type": "code",
   "execution_count": 1,
   "metadata": {
    "execution": {
     "iopub.execute_input": "2021-05-21T09:41:21.516646Z",
     "iopub.status.busy": "2021-05-21T09:41:21.515990Z",
     "iopub.status.idle": "2021-05-21T09:41:22.709322Z",
     "shell.execute_reply": "2021-05-21T09:41:22.708707Z"
    }
   },
   "outputs": [
    {
     "name": "stdout",
     "output_type": "stream",
     "text": [
      "Logging hadn't been started.\n",
      "Activating auto-logging. Current session state plus future input saved.\n",
      "Filename       : /home/runner/.qcodes/logs/command_history.log\n",
      "Mode           : append\n",
      "Output logging : True\n",
      "Raw input log  : False\n",
      "Timestamping   : True\n",
      "State          : active\n"
     ]
    },
    {
     "name": "stdout",
     "output_type": "stream",
     "text": [
      "Qcodes Logfile : /home/runner/.qcodes/logs/210521-4583-qcodes.log\n"
     ]
    }
   ],
   "source": [
    "import os\n",
    "cwd = os.getcwd()\n",
    "import qcodes as qc\n",
    "qc.config[\"core\"][\"db_location\"] = os.path.join(cwd, 'testing.db')\n"
   ]
  },
  {
   "cell_type": "code",
   "execution_count": 2,
   "metadata": {
    "execution": {
     "iopub.execute_input": "2021-05-21T09:41:22.716198Z",
     "iopub.status.busy": "2021-05-21T09:41:22.715596Z",
     "iopub.status.idle": "2021-05-21T09:41:22.923884Z",
     "shell.execute_reply": "2021-05-21T09:41:22.924423Z"
    }
   },
   "outputs": [],
   "source": [
    "%matplotlib inline\n",
    "import time\n",
    "import matplotlib.pyplot as plt\n",
    "import numpy as np\n",
    "\n",
    "import qcodes as qc\n",
    "from qcodes.instrument.parameter import ManualParameter\n",
    "from qcodes.dataset.experiment_container import (Experiment,\n",
    "                                                 load_last_experiment,\n",
    "                                                 new_experiment)\n",
    "from qcodes.dataset.sqlite.database import initialise_database\n",
    "from qcodes import load_or_create_experiment\n",
    "from qcodes.dataset.measurements import Measurement"
   ]
  },
  {
   "cell_type": "code",
   "execution_count": 3,
   "metadata": {
    "execution": {
     "iopub.execute_input": "2021-05-21T09:41:22.929003Z",
     "iopub.status.busy": "2021-05-21T09:41:22.928284Z",
     "iopub.status.idle": "2021-05-21T09:41:22.993514Z",
     "shell.execute_reply": "2021-05-21T09:41:22.993980Z"
    }
   },
   "outputs": [
    {
     "name": "stdout",
     "output_type": "stream",
     "text": [
      "\r",
      "0it [00:00, ?it/s]"
     ]
    },
    {
     "name": "stdout",
     "output_type": "stream",
     "text": [
      "\r",
      "Upgrading database; v0 -> v1: : 0it [00:00, ?it/s]"
     ]
    },
    {
     "name": "stdout",
     "output_type": "stream",
     "text": [
      "\r",
      "Upgrading database; v0 -> v1: : 0it [00:00, ?it/s]"
     ]
    },
    {
     "name": "stdout",
     "output_type": "stream",
     "text": [
      "\n",
      "\r",
      "  0%|          | 0/1 [00:00<?, ?it/s]"
     ]
    },
    {
     "name": "stdout",
     "output_type": "stream",
     "text": [
      "\r",
      "Upgrading database; v1 -> v2:   0%|          | 0/1 [00:00<?, ?it/s]"
     ]
    },
    {
     "name": "stdout",
     "output_type": "stream",
     "text": [
      "\r",
      "Upgrading database; v1 -> v2: 100%|██████████| 1/1 [00:00<00:00, 793.92it/s]"
     ]
    },
    {
     "name": "stdout",
     "output_type": "stream",
     "text": [
      "\n",
      "\r",
      "0it [00:00, ?it/s]"
     ]
    },
    {
     "name": "stdout",
     "output_type": "stream",
     "text": [
      "\r",
      "Upgrading database; v2 -> v3: : 0it [00:00, ?it/s]"
     ]
    },
    {
     "name": "stdout",
     "output_type": "stream",
     "text": [
      "\r",
      "Upgrading database; v2 -> v3: : 0it [00:00, ?it/s]"
     ]
    },
    {
     "name": "stdout",
     "output_type": "stream",
     "text": [
      "\n",
      "\r",
      "0it [00:00, ?it/s]"
     ]
    },
    {
     "name": "stdout",
     "output_type": "stream",
     "text": [
      "\r",
      "Upgrading database; v3 -> v4: : 0it [00:00, ?it/s]"
     ]
    },
    {
     "name": "stdout",
     "output_type": "stream",
     "text": [
      "\r",
      "Upgrading database; v3 -> v4: : 0it [00:00, ?it/s]"
     ]
    },
    {
     "name": "stdout",
     "output_type": "stream",
     "text": [
      "\n",
      "\r",
      "  0%|          | 0/1 [00:00<?, ?it/s]"
     ]
    },
    {
     "name": "stdout",
     "output_type": "stream",
     "text": [
      "\r",
      "Upgrading database; v4 -> v5:   0%|          | 0/1 [00:00<?, ?it/s]"
     ]
    },
    {
     "name": "stdout",
     "output_type": "stream",
     "text": [
      "\r",
      "Upgrading database; v4 -> v5: 100%|██████████| 1/1 [00:00<00:00, 700.80it/s]"
     ]
    },
    {
     "name": "stdout",
     "output_type": "stream",
     "text": [
      "\n",
      "\r",
      "0it [00:00, ?it/s]"
     ]
    },
    {
     "name": "stdout",
     "output_type": "stream",
     "text": [
      "\r",
      "Upgrading database; v5 -> v6: : 0it [00:00, ?it/s]"
     ]
    },
    {
     "name": "stdout",
     "output_type": "stream",
     "text": [
      "\r",
      "Upgrading database; v5 -> v6: : 0it [00:00, ?it/s]"
     ]
    },
    {
     "name": "stdout",
     "output_type": "stream",
     "text": [
      "\n",
      "\r",
      "  0%|          | 0/1 [00:00<?, ?it/s]"
     ]
    },
    {
     "name": "stdout",
     "output_type": "stream",
     "text": [
      "\r",
      "Upgrading database; v6 -> v7:   0%|          | 0/1 [00:00<?, ?it/s]"
     ]
    },
    {
     "name": "stdout",
     "output_type": "stream",
     "text": [
      "\r",
      "Upgrading database; v6 -> v7: 100%|██████████| 1/1 [00:00<00:00, 469.48it/s]"
     ]
    },
    {
     "name": "stdout",
     "output_type": "stream",
     "text": [
      "\n",
      "\r",
      "  0%|          | 0/1 [00:00<?, ?it/s]"
     ]
    },
    {
     "name": "stdout",
     "output_type": "stream",
     "text": [
      "\r",
      "Upgrading database; v7 -> v8:   0%|          | 0/1 [00:00<?, ?it/s]"
     ]
    },
    {
     "name": "stdout",
     "output_type": "stream",
     "text": [
      "\r",
      "Upgrading database; v7 -> v8: 100%|██████████| 1/1 [00:00<00:00, 825.16it/s]"
     ]
    },
    {
     "name": "stdout",
     "output_type": "stream",
     "text": [
      "\n",
      "\r",
      "  0%|          | 0/1 [00:00<?, ?it/s]"
     ]
    },
    {
     "name": "stdout",
     "output_type": "stream",
     "text": [
      "\r",
      "Upgrading database; v8 -> v9:   0%|          | 0/1 [00:00<?, ?it/s]"
     ]
    },
    {
     "name": "stdout",
     "output_type": "stream",
     "text": [
      "\r",
      "Upgrading database; v8 -> v9: 100%|██████████| 1/1 [00:00<00:00, 1022.25it/s]"
     ]
    },
    {
     "name": "stdout",
     "output_type": "stream",
     "text": [
      "\n"
     ]
    }
   ],
   "source": [
    "initialise_database()\n",
    "exp = load_or_create_experiment(experiment_name='tutorial_exp', sample_name=\"no sample\")"
   ]
  },
  {
   "cell_type": "markdown",
   "metadata": {},
   "source": [
    "Here, we define a simple function to benchmark the time it takes to insert n points with either numeric or array data type.\n",
    "We will compare both the time used to call ``add_result`` and the time used for the full measurement."
   ]
  },
  {
   "cell_type": "code",
   "execution_count": 4,
   "metadata": {
    "execution": {
     "iopub.execute_input": "2021-05-21T09:41:23.004505Z",
     "iopub.status.busy": "2021-05-21T09:41:23.003201Z",
     "iopub.status.idle": "2021-05-21T09:41:23.005751Z",
     "shell.execute_reply": "2021-05-21T09:41:23.005186Z"
    }
   },
   "outputs": [],
   "source": [
    "def insert_data(paramtype, npoints, nreps=1):\n",
    "\n",
    "    meas = Measurement(exp=exp)\n",
    "\n",
    "    x1 = ManualParameter('x1')\n",
    "    x2 = ManualParameter('x2')\n",
    "    x3 = ManualParameter('x3')\n",
    "    y1 = ManualParameter('y1')\n",
    "    y2 = ManualParameter('y2')\n",
    "\n",
    "    meas.register_parameter(x1, paramtype=paramtype)\n",
    "    meas.register_parameter(x2, paramtype=paramtype)\n",
    "    meas.register_parameter(x3, paramtype=paramtype)\n",
    "    meas.register_parameter(y1, setpoints=[x1, x2, x3],\n",
    "                            paramtype=paramtype)\n",
    "    meas.register_parameter(y2, setpoints=[x1, x2, x3],\n",
    "                            paramtype=paramtype)\n",
    "    start = time.perf_counter()\n",
    "    with meas.run() as datasaver:\n",
    "        start_adding = time.perf_counter()\n",
    "        for i in range(nreps):\n",
    "            datasaver.add_result((x1, np.random.rand(npoints)),\n",
    "                                 (x2, np.random.rand(npoints)),\n",
    "                                 (x3, np.random.rand(npoints)),\n",
    "                                 (y1, np.random.rand(npoints)),\n",
    "                                 (y2, np.random.rand(npoints)))\n",
    "        stop_adding = time.perf_counter()\n",
    "        run_id = datasaver.run_id\n",
    "    stop = time.perf_counter()\n",
    "    tot_time = stop - start\n",
    "    add_time = stop_adding - start_adding\n",
    "    return tot_time, add_time, run_id"
   ]
  },
  {
   "cell_type": "markdown",
   "metadata": {},
   "source": [
    "## Comparison between numeric/array data and binary blob"
   ]
  },
  {
   "cell_type": "markdown",
   "metadata": {},
   "source": [
    "### Case1: Short experiment time"
   ]
  },
  {
   "cell_type": "code",
   "execution_count": 5,
   "metadata": {
    "execution": {
     "iopub.execute_input": "2021-05-21T09:41:23.013292Z",
     "iopub.status.busy": "2021-05-21T09:41:23.012644Z",
     "iopub.status.idle": "2021-05-21T09:41:23.841666Z",
     "shell.execute_reply": "2021-05-21T09:41:23.842432Z"
    }
   },
   "outputs": [
    {
     "name": "stdout",
     "output_type": "stream",
     "text": [
      "Starting experimental run with id: 1. \n",
      "Starting experimental run with id: 2. \n",
      "Starting experimental run with id: 3. \n"
     ]
    },
    {
     "name": "stdout",
     "output_type": "stream",
     "text": [
      "Starting experimental run with id: 4. \n"
     ]
    },
    {
     "name": "stdout",
     "output_type": "stream",
     "text": [
      "Starting experimental run with id: 5. \n"
     ]
    },
    {
     "name": "stdout",
     "output_type": "stream",
     "text": [
      "Starting experimental run with id: 6. \n"
     ]
    },
    {
     "name": "stdout",
     "output_type": "stream",
     "text": [
      "Starting experimental run with id: 7. \n",
      "Starting experimental run with id: 8. \n",
      "Starting experimental run with id: 9. \n"
     ]
    },
    {
     "name": "stdout",
     "output_type": "stream",
     "text": [
      "Starting experimental run with id: 10. \n",
      "Starting experimental run with id: 11. \n",
      "Starting experimental run with id: 12. \n",
      "Starting experimental run with id: 13. \n"
     ]
    },
    {
     "name": "stdout",
     "output_type": "stream",
     "text": [
      "Starting experimental run with id: 14. \n"
     ]
    }
   ],
   "source": [
    "sizes = [1,500,1000,2000,3000,4000,5000]\n",
    "t_numeric = []\n",
    "t_numeric_add = []\n",
    "t_array = []\n",
    "t_array_add = []\n",
    "for size in sizes:\n",
    "    tn, tna, run_id_n =  insert_data('numeric', size)\n",
    "    t_numeric.append(tn)\n",
    "    t_numeric_add.append(tna)\n",
    "\n",
    "    ta, taa, run_id_a =  insert_data('array', size)\n",
    "    t_array.append(ta)\n",
    "    t_array_add.append(taa)"
   ]
  },
  {
   "cell_type": "code",
   "execution_count": 6,
   "metadata": {
    "execution": {
     "iopub.execute_input": "2021-05-21T09:41:23.861141Z",
     "iopub.status.busy": "2021-05-21T09:41:23.846983Z",
     "iopub.status.idle": "2021-05-21T09:41:24.077391Z",
     "shell.execute_reply": "2021-05-21T09:41:24.076392Z"
    }
   },
   "outputs": [
    {
     "data": {
      "image/png": "[encoded data removed]",
      "text/plain": [
       "<Figure size 432x288 with 1 Axes>"
      ]
     },
     "metadata": {
      "needs_background": "light"
     },
     "output_type": "display_data"
    }
   ],
   "source": [
    "fig, ax = plt.subplots(1,1)\n",
    "ax.plot(sizes, t_numeric, 'o-', label='Inserting row-by-row')\n",
    "ax.plot(sizes, t_numeric_add, 'o-', label='Inserting row-by-row: add_result only')\n",
    "ax.plot(sizes, t_array, 'd-', label='Inserting as binary blob')\n",
    "ax.plot(sizes, t_array_add, 'd-', label='Inserting as binary blob: add_result only')\n",
    "ax.legend()\n",
    "ax.set_xlabel('Array length')\n",
    "ax.set_ylabel('Time (s)')\n",
    "fig.tight_layout()"
   ]
  },
  {
   "cell_type": "markdown",
   "metadata": {},
   "source": [
    "As shown in the latter figure, the time to setup and and close the experiment is approximately 0.4 sec. In case of small array sizes, the difference between inserting values of data as arrays and inserting them row-by-row is relatively unimportant. At larger array sizes, i.e. above 10000 points, the cost of writing data as individual datapoints starts to become important.\n"
   ]
  },
  {
   "cell_type": "markdown",
   "metadata": {},
   "source": [
    "### Case2: Long experiment time "
   ]
  },
  {
   "cell_type": "code",
   "execution_count": 7,
   "metadata": {
    "execution": {
     "iopub.execute_input": "2021-05-21T09:41:24.084782Z",
     "iopub.status.busy": "2021-05-21T09:41:24.083574Z",
     "iopub.status.idle": "2021-05-21T09:42:20.557717Z",
     "shell.execute_reply": "2021-05-21T09:42:20.557087Z"
    }
   },
   "outputs": [
    {
     "name": "stdout",
     "output_type": "stream",
     "text": [
      "Starting experimental run with id: 15. \n",
      "Starting experimental run with id: 16. \n",
      "Starting experimental run with id: 17. \n"
     ]
    },
    {
     "name": "stdout",
     "output_type": "stream",
     "text": [
      "Starting experimental run with id: 18. \n",
      "Starting experimental run with id: 19. \n"
     ]
    },
    {
     "name": "stdout",
     "output_type": "stream",
     "text": [
      "Starting experimental run with id: 20. \n"
     ]
    },
    {
     "name": "stdout",
     "output_type": "stream",
     "text": [
      "Starting experimental run with id: 21. \n"
     ]
    },
    {
     "name": "stdout",
     "output_type": "stream",
     "text": [
      "Starting experimental run with id: 22. \n"
     ]
    },
    {
     "name": "stdout",
     "output_type": "stream",
     "text": [
      "Starting experimental run with id: 23. \n"
     ]
    },
    {
     "name": "stdout",
     "output_type": "stream",
     "text": [
      "Starting experimental run with id: 24. \n"
     ]
    },
    {
     "name": "stdout",
     "output_type": "stream",
     "text": [
      "Starting experimental run with id: 25. \n"
     ]
    },
    {
     "name": "stdout",
     "output_type": "stream",
     "text": [
      "Starting experimental run with id: 26. \n"
     ]
    },
    {
     "name": "stdout",
     "output_type": "stream",
     "text": [
      "Starting experimental run with id: 27. \n"
     ]
    },
    {
     "name": "stdout",
     "output_type": "stream",
     "text": [
      "Starting experimental run with id: 28. \n"
     ]
    }
   ],
   "source": [
    "sizes = [1,500,1000,2000,3000,4000,5000]\n",
    "nreps = 100\n",
    "t_numeric = []\n",
    "t_numeric_add = []\n",
    "t_numeric_run_ids = []\n",
    "t_array = []\n",
    "t_array_add = []\n",
    "t_array_run_ids = []\n",
    "for size in sizes:\n",
    "    tn, tna, run_id_n =  insert_data('numeric', size, nreps=nreps)\n",
    "    t_numeric.append(tn)\n",
    "    t_numeric_add.append(tna)\n",
    "    t_numeric_run_ids.append(run_id_n)\n",
    "\n",
    "    ta, taa, run_id_a =  insert_data('array', size, nreps=nreps)\n",
    "    t_array.append(ta)\n",
    "    t_array_add.append(taa)\n",
    "    t_array_run_ids.append(run_id_a)"
   ]
  },
  {
   "cell_type": "code",
   "execution_count": 8,
   "metadata": {
    "execution": {
     "iopub.execute_input": "2021-05-21T09:42:20.602845Z",
     "iopub.status.busy": "2021-05-21T09:42:20.578129Z",
     "iopub.status.idle": "2021-05-21T09:42:20.789140Z",
     "shell.execute_reply": "2021-05-21T09:42:20.788327Z"
    },
    "scrolled": true
   },
   "outputs": [
    {
     "data": {
      "image/png": "[encoded data removed]",
      "text/plain": [
       "<Figure size 432x288 with 1 Axes>"
      ]
     },
     "metadata": {
      "needs_background": "light"
     },
     "output_type": "display_data"
    }
   ],
   "source": [
    "fig, ax = plt.subplots(1,1)\n",
    "ax.plot(sizes, t_numeric, 'o-', label='Inserting row-by-row')\n",
    "ax.plot(sizes, t_numeric_add, 'o-', label='Inserting row-by-row: add_result only')\n",
    "ax.plot(sizes, t_array, 'd-', label='Inserting as binary blob')\n",
    "ax.plot(sizes, t_array_add, 'd-', label='Inserting as binary blob: add_result only')\n",
    "ax.legend()\n",
    "ax.set_xlabel('Array length')\n",
    "ax.set_ylabel('Time (s)')\n",
    "fig.tight_layout()"
   ]
  },
  {
   "cell_type": "markdown",
   "metadata": {},
   "source": [
    "However, as we increase the length of the experiment, as seen here by repeating the insertion 100 times, we see a big difference between inserting values of the data row-by-row and inserting it as a binary blob."
   ]
  },
  {
   "cell_type": "markdown",
   "metadata": {},
   "source": [
    "## Loading the data "
   ]
  },
  {
   "cell_type": "code",
   "execution_count": 9,
   "metadata": {
    "execution": {
     "iopub.execute_input": "2021-05-21T09:42:20.794668Z",
     "iopub.status.busy": "2021-05-21T09:42:20.793436Z",
     "iopub.status.idle": "2021-05-21T09:42:20.795306Z",
     "shell.execute_reply": "2021-05-21T09:42:20.796173Z"
    }
   },
   "outputs": [],
   "source": [
    "from qcodes.dataset.data_set import load_by_id"
   ]
  },
  {
   "cell_type": "markdown",
   "metadata": {},
   "source": [
    "As usual you can load the data by using the ``load_by_id`` function but you will notice that the different storage methods\n",
    "are reflected in shape of the data as it is retrieved. "
   ]
  },
  {
   "cell_type": "code",
   "execution_count": 10,
   "metadata": {
    "execution": {
     "iopub.execute_input": "2021-05-21T09:42:20.800895Z",
     "iopub.status.busy": "2021-05-21T09:42:20.799583Z",
     "iopub.status.idle": "2021-05-21T09:42:20.801542Z",
     "shell.execute_reply": "2021-05-21T09:42:20.802041Z"
    }
   },
   "outputs": [],
   "source": [
    "run_id_n = t_numeric_run_ids[0]\n",
    "run_id_a = t_array_run_ids[0]"
   ]
  },
  {
   "cell_type": "code",
   "execution_count": 11,
   "metadata": {
    "execution": {
     "iopub.execute_input": "2021-05-21T09:42:20.805398Z",
     "iopub.status.busy": "2021-05-21T09:42:20.804840Z",
     "iopub.status.idle": "2021-05-21T09:42:20.814581Z",
     "shell.execute_reply": "2021-05-21T09:42:20.815022Z"
    },
    "scrolled": true
   },
   "outputs": [
    {
     "data": {
      "text/plain": [
       "{'x1': {'x1': array([0.46752916, 0.46752916, 0.45072336, 0.45072336, 0.07041316,\n",
       "         0.07041316, 0.80318789, 0.80318789, 0.77606327, 0.77606327,\n",
       "         0.47356427, 0.47356427, 0.15762165, 0.15762165, 0.16031099,\n",
       "         0.16031099, 0.10759072, 0.10759072, 0.9384853 , 0.9384853 ,\n",
       "         0.8415457 , 0.8415457 , 0.22095476, 0.22095476, 0.77696323,\n",
       "         0.77696323, 0.0900538 , 0.0900538 , 0.11162661, 0.11162661,\n",
       "         0.18828082, 0.18828082, 0.6562486 , 0.6562486 , 0.17875282,\n",
       "         0.17875282, 0.50794386, 0.50794386, 0.54032247, 0.54032247,\n",
       "         0.41128376, 0.41128376, 0.97492233, 0.97492233, 0.13023697,\n",
       "         0.13023697, 0.18873722, 0.18873722, 0.02188651, 0.02188651,\n",
       "         0.04262021, 0.04262021, 0.36591654, 0.36591654, 0.27454408,\n",
       "         0.27454408, 0.79746278, 0.79746278, 0.96245134, 0.96245134,\n",
       "         0.59565725, 0.59565725, 0.92467771, 0.92467771, 0.28805785,\n",
       "         0.28805785, 0.84064857, 0.84064857, 0.50509953, 0.50509953,\n",
       "         0.40786565, 0.40786565, 0.64396443, 0.64396443, 0.67680746,\n",
       "         0.67680746, 0.95994698, 0.95994698, 0.64835549, 0.64835549,\n",
       "         0.84030731, 0.84030731, 0.74641371, 0.74641371, 0.40368804,\n",
       "         0.40368804, 0.43698981, 0.43698981, 0.21975271, 0.21975271,\n",
       "         0.06190289, 0.06190289, 0.90244449, 0.90244449, 0.97701368,\n",
       "         0.97701368, 0.27859262, 0.27859262, 0.62897708, 0.62897708,\n",
       "         0.23945737, 0.23945737, 0.22974288, 0.22974288, 0.91800061,\n",
       "         0.91800061, 0.71909426, 0.71909426, 0.52803808, 0.52803808,\n",
       "         0.44184281, 0.44184281, 0.99252078, 0.99252078, 0.69669686,\n",
       "         0.69669686, 0.66196927, 0.66196927, 0.92511779, 0.92511779,\n",
       "         0.63741809, 0.63741809, 0.04908275, 0.04908275, 0.4124694 ,\n",
       "         0.4124694 , 0.75467898, 0.75467898, 0.5852487 , 0.5852487 ,\n",
       "         0.95668448, 0.95668448, 0.13605317, 0.13605317, 0.54834674,\n",
       "         0.54834674, 0.53026568, 0.53026568, 0.28677135, 0.28677135,\n",
       "         0.85378746, 0.85378746, 0.58322298, 0.58322298, 0.60564131,\n",
       "         0.60564131, 0.19191614, 0.19191614, 0.36048303, 0.36048303,\n",
       "         0.26622638, 0.26622638, 0.23750292, 0.23750292, 0.35333555,\n",
       "         0.35333555, 0.84225727, 0.84225727, 0.51695803, 0.51695803,\n",
       "         0.66961602, 0.66961602, 0.65349878, 0.65349878, 0.20622611,\n",
       "         0.20622611, 0.86888852, 0.86888852, 0.25259534, 0.25259534,\n",
       "         0.24302008, 0.24302008, 0.63700045, 0.63700045, 0.28763204,\n",
       "         0.28763204, 0.68566515, 0.68566515, 0.30047758, 0.30047758,\n",
       "         0.78497019, 0.78497019, 0.95871713, 0.95871713, 0.0913298 ,\n",
       "         0.0913298 , 0.0763913 , 0.0763913 , 0.49911397, 0.49911397,\n",
       "         0.63084257, 0.63084257, 0.84926675, 0.84926675, 0.68382384,\n",
       "         0.68382384, 0.10838715, 0.10838715, 0.60524041, 0.60524041])}}"
      ]
     },
     "execution_count": 1,
     "metadata": {},
     "output_type": "execute_result"
    }
   ],
   "source": [
    "ds = load_by_id(run_id_n)\n",
    "ds.get_parameter_data('x1')"
   ]
  },
  {
   "cell_type": "markdown",
   "metadata": {},
   "source": [
    "And a dataset stored as binary arrays"
   ]
  },
  {
   "cell_type": "code",
   "execution_count": 12,
   "metadata": {
    "execution": {
     "iopub.execute_input": "2021-05-21T09:42:20.818594Z",
     "iopub.status.busy": "2021-05-21T09:42:20.818033Z",
     "iopub.status.idle": "2021-05-21T09:42:20.875560Z",
     "shell.execute_reply": "2021-05-21T09:42:20.876100Z"
    },
    "scrolled": true
   },
   "outputs": [
    {
     "data": {
      "text/plain": [
       "{'x1': {'x1': array([[0.45697494],\n",
       "         [0.45697494],\n",
       "         [0.08897997],\n",
       "         [0.08897997],\n",
       "         [0.08856869],\n",
       "         [0.08856869],\n",
       "         [0.65670679],\n",
       "         [0.65670679],\n",
       "         [0.43353521],\n",
       "         [0.43353521],\n",
       "         [0.47488943],\n",
       "         [0.47488943],\n",
       "         [0.49578521],\n",
       "         [0.49578521],\n",
       "         [0.46610178],\n",
       "         [0.46610178],\n",
       "         [0.04847175],\n",
       "         [0.04847175],\n",
       "         [0.93474286],\n",
       "         [0.93474286],\n",
       "         [0.74536899],\n",
       "         [0.74536899],\n",
       "         [0.36053315],\n",
       "         [0.36053315],\n",
       "         [0.87054835],\n",
       "         [0.87054835],\n",
       "         [0.11033946],\n",
       "         [0.11033946],\n",
       "         [0.11882296],\n",
       "         [0.11882296],\n",
       "         [0.82503359],\n",
       "         [0.82503359],\n",
       "         [0.23083624],\n",
       "         [0.23083624],\n",
       "         [0.47661468],\n",
       "         [0.47661468],\n",
       "         [0.43937419],\n",
       "         [0.43937419],\n",
       "         [0.57060275],\n",
       "         [0.57060275],\n",
       "         [0.82567813],\n",
       "         [0.82567813],\n",
       "         [0.64598688],\n",
       "         [0.64598688],\n",
       "         [0.86387811],\n",
       "         [0.86387811],\n",
       "         [0.37859438],\n",
       "         [0.37859438],\n",
       "         [0.25868578],\n",
       "         [0.25868578],\n",
       "         [0.2805794 ],\n",
       "         [0.2805794 ],\n",
       "         [0.30539422],\n",
       "         [0.30539422],\n",
       "         [0.22917998],\n",
       "         [0.22917998],\n",
       "         [0.87723425],\n",
       "         [0.87723425],\n",
       "         [0.09772203],\n",
       "         [0.09772203],\n",
       "         [0.07231918],\n",
       "         [0.07231918],\n",
       "         [0.98020933],\n",
       "         [0.98020933],\n",
       "         [0.59486359],\n",
       "         [0.59486359],\n",
       "         [0.09512194],\n",
       "         [0.09512194],\n",
       "         [0.83418394],\n",
       "         [0.83418394],\n",
       "         [0.37411766],\n",
       "         [0.37411766],\n",
       "         [0.74682295],\n",
       "         [0.74682295],\n",
       "         [0.48539324],\n",
       "         [0.48539324],\n",
       "         [0.8551652 ],\n",
       "         [0.8551652 ],\n",
       "         [0.54904291],\n",
       "         [0.54904291],\n",
       "         [0.43877972],\n",
       "         [0.43877972],\n",
       "         [0.01554203],\n",
       "         [0.01554203],\n",
       "         [0.44084304],\n",
       "         [0.44084304],\n",
       "         [0.02498895],\n",
       "         [0.02498895],\n",
       "         [0.15074823],\n",
       "         [0.15074823],\n",
       "         [0.88195549],\n",
       "         [0.88195549],\n",
       "         [0.55788434],\n",
       "         [0.55788434],\n",
       "         [0.3187612 ],\n",
       "         [0.3187612 ],\n",
       "         [0.56987546],\n",
       "         [0.56987546],\n",
       "         [0.8602191 ],\n",
       "         [0.8602191 ],\n",
       "         [0.47258611],\n",
       "         [0.47258611],\n",
       "         [0.91132197],\n",
       "         [0.91132197],\n",
       "         [0.78584664],\n",
       "         [0.78584664],\n",
       "         [0.3147243 ],\n",
       "         [0.3147243 ],\n",
       "         [0.63035785],\n",
       "         [0.63035785],\n",
       "         [0.55770227],\n",
       "         [0.55770227],\n",
       "         [0.82154631],\n",
       "         [0.82154631],\n",
       "         [0.88949406],\n",
       "         [0.88949406],\n",
       "         [0.88798606],\n",
       "         [0.88798606],\n",
       "         [0.76950223],\n",
       "         [0.76950223],\n",
       "         [0.91294349],\n",
       "         [0.91294349],\n",
       "         [0.65726661],\n",
       "         [0.65726661],\n",
       "         [0.81878229],\n",
       "         [0.81878229],\n",
       "         [0.14625196],\n",
       "         [0.14625196],\n",
       "         [0.50642798],\n",
       "         [0.50642798],\n",
       "         [0.811997  ],\n",
       "         [0.811997  ],\n",
       "         [0.16870289],\n",
       "         [0.16870289],\n",
       "         [0.89343893],\n",
       "         [0.89343893],\n",
       "         [0.73020947],\n",
       "         [0.73020947],\n",
       "         [0.72525534],\n",
       "         [0.72525534],\n",
       "         [0.31592937],\n",
       "         [0.31592937],\n",
       "         [0.17951927],\n",
       "         [0.17951927],\n",
       "         [0.89127687],\n",
       "         [0.89127687],\n",
       "         [0.31013357],\n",
       "         [0.31013357],\n",
       "         [0.11146381],\n",
       "         [0.11146381],\n",
       "         [0.82180013],\n",
       "         [0.82180013],\n",
       "         [0.75857312],\n",
       "         [0.75857312],\n",
       "         [0.34344742],\n",
       "         [0.34344742],\n",
       "         [0.29904804],\n",
       "         [0.29904804],\n",
       "         [0.44775909],\n",
       "         [0.44775909],\n",
       "         [0.95868751],\n",
       "         [0.95868751],\n",
       "         [0.92276574],\n",
       "         [0.92276574],\n",
       "         [0.71352514],\n",
       "         [0.71352514],\n",
       "         [0.59461316],\n",
       "         [0.59461316],\n",
       "         [0.82608331],\n",
       "         [0.82608331],\n",
       "         [0.20689936],\n",
       "         [0.20689936],\n",
       "         [0.62152593],\n",
       "         [0.62152593],\n",
       "         [0.07296027],\n",
       "         [0.07296027],\n",
       "         [0.10592822],\n",
       "         [0.10592822],\n",
       "         [0.78043786],\n",
       "         [0.78043786],\n",
       "         [0.83409681],\n",
       "         [0.83409681],\n",
       "         [0.59978968],\n",
       "         [0.59978968],\n",
       "         [0.33571789],\n",
       "         [0.33571789],\n",
       "         [0.73898852],\n",
       "         [0.73898852],\n",
       "         [0.78303207],\n",
       "         [0.78303207],\n",
       "         [0.26858212],\n",
       "         [0.26858212],\n",
       "         [0.49576441],\n",
       "         [0.49576441],\n",
       "         [0.24575244],\n",
       "         [0.24575244],\n",
       "         [0.12606645],\n",
       "         [0.12606645],\n",
       "         [0.48487963],\n",
       "         [0.48487963]])}}"
      ]
     },
     "execution_count": 1,
     "metadata": {},
     "output_type": "execute_result"
    }
   ],
   "source": [
    "ds = load_by_id(run_id_a)\n",
    "ds.get_parameter_data('x1')"
   ]
  },
  {
   "cell_type": "code",
   "execution_count": null,
   "metadata": {},
   "outputs": [],
   "source": []
  }
 ],
 "metadata": {
  "kernelspec": {
   "display_name": "Python 3",
   "language": "python",
   "name": "python3"
  },
  "language_info": {
   "codemirror_mode": {
    "name": "ipython",
    "version": 3
   },
   "file_extension": ".py",
   "mimetype": "text/x-python",
   "name": "python",
   "nbconvert_exporter": "python",
   "pygments_lexer": "ipython3",
   "version": "3.7.10"
  },
  "nbsphinx": {
   "timeout": 600
  },
  "toc": {
   "base_numbering": 1,
   "nav_menu": {},
   "number_sections": true,
   "sideBar": true,
   "skip_h1_title": false,
   "title_cell": "Table of Contents",
   "title_sidebar": "Contents",
   "toc_cell": false,
   "toc_position": {},
   "toc_section_display": true,
   "toc_window_display": false
  },
  "varInspector": {
   "cols": {
    "lenName": 16,
    "lenType": 16,
    "lenVar": 40
   },
   "kernels_config": {
    "python": {
     "delete_cmd_postfix": "",
     "delete_cmd_prefix": "del ",
     "library": "var_list.py",
     "varRefreshCmd": "print(var_dic_list())"
    },
    "r": {
     "delete_cmd_postfix": ") ",
     "delete_cmd_prefix": "rm(",
     "library": "var_list.r",
     "varRefreshCmd": "cat(var_dic_list()) "
    }
   },
   "types_to_exclude": [
    "module",
    "function",
    "builtin_function_or_method",
    "instance",
    "_Feature"
   ],
   "window_display": false
  }
 },
 "nbformat": 4,
 "nbformat_minor": 4
}
