{
 "cells": [
  {
   "cell_type": "markdown",
   "metadata": {},
   "source": [
    "# DataSet Performance\n",
    "\n",
    "This notebook shows the trade-off between inserting data into a database row-by-row and as binary blobs. Inserting the data row-by-row means that we have direct access to all the data and may perform queries directly on the values of the data. On the other hand, as we shall see, this is much slower than inserting the data directly as binary blobs."
   ]
  },
  {
   "cell_type": "markdown",
   "metadata": {},
   "source": [
    "First, we choose a new location for the database to ensure that we don't add a bunch of benchmarking data to the default one."
   ]
  },
  {
   "cell_type": "code",
   "execution_count": 1,
   "metadata": {
    "execution": {
     "iopub.execute_input": "2021-05-20T15:34:31.443838Z",
     "iopub.status.busy": "2021-05-20T15:34:31.443166Z",
     "iopub.status.idle": "2021-05-20T15:34:32.721351Z",
     "shell.execute_reply": "2021-05-20T15:34:32.720716Z"
    }
   },
   "outputs": [
    {
     "name": "stdout",
     "output_type": "stream",
     "text": [
      "Logging hadn't been started.\n",
      "Activating auto-logging. Current session state plus future input saved.\n",
      "Filename       : /home/runner/.qcodes/logs/command_history.log\n",
      "Mode           : append\n",
      "Output logging : True\n",
      "Raw input log  : False\n",
      "Timestamping   : True\n",
      "State          : active\n"
     ]
    },
    {
     "name": "stdout",
     "output_type": "stream",
     "text": [
      "Qcodes Logfile : /home/runner/.qcodes/logs/210520-4484-qcodes.log\n"
     ]
    }
   ],
   "source": [
    "import os\n",
    "cwd = os.getcwd()\n",
    "import qcodes as qc\n",
    "qc.config[\"core\"][\"db_location\"] = os.path.join(cwd, 'testing.db')\n"
   ]
  },
  {
   "cell_type": "code",
   "execution_count": 2,
   "metadata": {
    "execution": {
     "iopub.execute_input": "2021-05-20T15:34:32.728591Z",
     "iopub.status.busy": "2021-05-20T15:34:32.727653Z",
     "iopub.status.idle": "2021-05-20T15:34:32.928669Z",
     "shell.execute_reply": "2021-05-20T15:34:32.927091Z"
    }
   },
   "outputs": [],
   "source": [
    "%matplotlib inline\n",
    "import time\n",
    "import matplotlib.pyplot as plt\n",
    "import numpy as np\n",
    "\n",
    "import qcodes as qc\n",
    "from qcodes.instrument.parameter import ManualParameter\n",
    "from qcodes.dataset.experiment_container import (Experiment,\n",
    "                                                 load_last_experiment,\n",
    "                                                 new_experiment)\n",
    "from qcodes.dataset.sqlite.database import initialise_database\n",
    "from qcodes import load_or_create_experiment\n",
    "from qcodes.dataset.measurements import Measurement"
   ]
  },
  {
   "cell_type": "code",
   "execution_count": 3,
   "metadata": {
    "execution": {
     "iopub.execute_input": "2021-05-20T15:34:32.933285Z",
     "iopub.status.busy": "2021-05-20T15:34:32.932141Z",
     "iopub.status.idle": "2021-05-20T15:34:33.024063Z",
     "shell.execute_reply": "2021-05-20T15:34:33.023506Z"
    }
   },
   "outputs": [
    {
     "name": "stdout",
     "output_type": "stream",
     "text": [
      "\r",
      "0it [00:00, ?it/s]"
     ]
    },
    {
     "name": "stdout",
     "output_type": "stream",
     "text": [
      "\r",
      "Upgrading database; v0 -> v1: : 0it [00:00, ?it/s]"
     ]
    },
    {
     "name": "stdout",
     "output_type": "stream",
     "text": [
      "\r",
      "Upgrading database; v0 -> v1: : 0it [00:00, ?it/s]"
     ]
    },
    {
     "name": "stdout",
     "output_type": "stream",
     "text": [
      "\n",
      "\r",
      "  0%|          | 0/1 [00:00<?, ?it/s]"
     ]
    },
    {
     "name": "stdout",
     "output_type": "stream",
     "text": [
      "\r",
      "Upgrading database; v1 -> v2:   0%|          | 0/1 [00:00<?, ?it/s]"
     ]
    },
    {
     "name": "stdout",
     "output_type": "stream",
     "text": [
      "\r",
      "Upgrading database; v1 -> v2: 100%|██████████| 1/1 [00:00<00:00, 551.74it/s]"
     ]
    },
    {
     "name": "stdout",
     "output_type": "stream",
     "text": [
      "\n",
      "\r",
      "0it [00:00, ?it/s]"
     ]
    },
    {
     "name": "stdout",
     "output_type": "stream",
     "text": [
      "\r",
      "Upgrading database; v2 -> v3: : 0it [00:00, ?it/s]"
     ]
    },
    {
     "name": "stdout",
     "output_type": "stream",
     "text": [
      "\r",
      "Upgrading database; v2 -> v3: : 0it [00:00, ?it/s]"
     ]
    },
    {
     "name": "stdout",
     "output_type": "stream",
     "text": [
      "\n",
      "\r",
      "0it [00:00, ?it/s]"
     ]
    },
    {
     "name": "stdout",
     "output_type": "stream",
     "text": [
      "\r",
      "Upgrading database; v3 -> v4: : 0it [00:00, ?it/s]"
     ]
    },
    {
     "name": "stdout",
     "output_type": "stream",
     "text": [
      "\r",
      "Upgrading database; v3 -> v4: : 0it [00:00, ?it/s]"
     ]
    },
    {
     "name": "stdout",
     "output_type": "stream",
     "text": [
      "\n",
      "\r",
      "  0%|          | 0/1 [00:00<?, ?it/s]"
     ]
    },
    {
     "name": "stdout",
     "output_type": "stream",
     "text": [
      "\r",
      "Upgrading database; v4 -> v5:   0%|          | 0/1 [00:00<?, ?it/s]"
     ]
    },
    {
     "name": "stdout",
     "output_type": "stream",
     "text": [
      "\r",
      "Upgrading database; v4 -> v5: 100%|██████████| 1/1 [00:00<00:00, 534.71it/s]"
     ]
    },
    {
     "name": "stdout",
     "output_type": "stream",
     "text": [
      "\n",
      "\r",
      "0it [00:00, ?it/s]"
     ]
    },
    {
     "name": "stdout",
     "output_type": "stream",
     "text": [
      "\r",
      "Upgrading database; v5 -> v6: : 0it [00:00, ?it/s]"
     ]
    },
    {
     "name": "stdout",
     "output_type": "stream",
     "text": [
      "\r",
      "Upgrading database; v5 -> v6: : 0it [00:00, ?it/s]"
     ]
    },
    {
     "name": "stdout",
     "output_type": "stream",
     "text": [
      "\n",
      "\r",
      "  0%|          | 0/1 [00:00<?, ?it/s]"
     ]
    },
    {
     "name": "stdout",
     "output_type": "stream",
     "text": [
      "\r",
      "Upgrading database; v6 -> v7:   0%|          | 0/1 [00:00<?, ?it/s]"
     ]
    },
    {
     "name": "stdout",
     "output_type": "stream",
     "text": [
      "\r",
      "Upgrading database; v6 -> v7: 100%|██████████| 1/1 [00:00<00:00, 290.75it/s]"
     ]
    },
    {
     "name": "stdout",
     "output_type": "stream",
     "text": [
      "\n",
      "\r",
      "  0%|          | 0/1 [00:00<?, ?it/s]"
     ]
    },
    {
     "name": "stdout",
     "output_type": "stream",
     "text": [
      "\r",
      "Upgrading database; v7 -> v8:   0%|          | 0/1 [00:00<?, ?it/s]"
     ]
    },
    {
     "name": "stdout",
     "output_type": "stream",
     "text": [
      "\r",
      "Upgrading database; v7 -> v8: 100%|██████████| 1/1 [00:00<00:00, 529.52it/s]"
     ]
    },
    {
     "name": "stdout",
     "output_type": "stream",
     "text": [
      "\n",
      "\r",
      "  0%|          | 0/1 [00:00<?, ?it/s]"
     ]
    },
    {
     "name": "stdout",
     "output_type": "stream",
     "text": [
      "\r",
      "Upgrading database; v8 -> v9:   0%|          | 0/1 [00:00<?, ?it/s]"
     ]
    },
    {
     "name": "stdout",
     "output_type": "stream",
     "text": [
      "\r",
      "Upgrading database; v8 -> v9: 100%|██████████| 1/1 [00:00<00:00, 465.83it/s]"
     ]
    },
    {
     "name": "stdout",
     "output_type": "stream",
     "text": [
      "\n"
     ]
    }
   ],
   "source": [
    "initialise_database()\n",
    "exp = load_or_create_experiment(experiment_name='tutorial_exp', sample_name=\"no sample\")"
   ]
  },
  {
   "cell_type": "markdown",
   "metadata": {},
   "source": [
    "Here, we define a simple function to benchmark the time it takes to insert n points with either numeric or array data type.\n",
    "We will compare both the time used to call ``add_result`` and the time used for the full measurement."
   ]
  },
  {
   "cell_type": "code",
   "execution_count": 4,
   "metadata": {
    "execution": {
     "iopub.execute_input": "2021-05-20T15:34:33.032950Z",
     "iopub.status.busy": "2021-05-20T15:34:33.032402Z",
     "iopub.status.idle": "2021-05-20T15:34:33.035861Z",
     "shell.execute_reply": "2021-05-20T15:34:33.036316Z"
    }
   },
   "outputs": [],
   "source": [
    "def insert_data(paramtype, npoints, nreps=1):\n",
    "\n",
    "    meas = Measurement(exp=exp)\n",
    "\n",
    "    x1 = ManualParameter('x1')\n",
    "    x2 = ManualParameter('x2')\n",
    "    x3 = ManualParameter('x3')\n",
    "    y1 = ManualParameter('y1')\n",
    "    y2 = ManualParameter('y2')\n",
    "\n",
    "    meas.register_parameter(x1, paramtype=paramtype)\n",
    "    meas.register_parameter(x2, paramtype=paramtype)\n",
    "    meas.register_parameter(x3, paramtype=paramtype)\n",
    "    meas.register_parameter(y1, setpoints=[x1, x2, x3],\n",
    "                            paramtype=paramtype)\n",
    "    meas.register_parameter(y2, setpoints=[x1, x2, x3],\n",
    "                            paramtype=paramtype)\n",
    "    start = time.perf_counter()\n",
    "    with meas.run() as datasaver:\n",
    "        start_adding = time.perf_counter()\n",
    "        for i in range(nreps):\n",
    "            datasaver.add_result((x1, np.random.rand(npoints)),\n",
    "                                 (x2, np.random.rand(npoints)),\n",
    "                                 (x3, np.random.rand(npoints)),\n",
    "                                 (y1, np.random.rand(npoints)),\n",
    "                                 (y2, np.random.rand(npoints)))\n",
    "        stop_adding = time.perf_counter()\n",
    "        run_id = datasaver.run_id\n",
    "    stop = time.perf_counter()\n",
    "    tot_time = stop - start\n",
    "    add_time = stop_adding - start_adding\n",
    "    return tot_time, add_time, run_id"
   ]
  },
  {
   "cell_type": "markdown",
   "metadata": {},
   "source": [
    "## Comparison between numeric/array data and binary blob"
   ]
  },
  {
   "cell_type": "markdown",
   "metadata": {},
   "source": [
    "### Case1: Short experiment time"
   ]
  },
  {
   "cell_type": "code",
   "execution_count": 5,
   "metadata": {
    "execution": {
     "iopub.execute_input": "2021-05-20T15:34:33.043461Z",
     "iopub.status.busy": "2021-05-20T15:34:33.042308Z",
     "iopub.status.idle": "2021-05-20T15:34:33.931720Z",
     "shell.execute_reply": "2021-05-20T15:34:33.931224Z"
    }
   },
   "outputs": [
    {
     "name": "stdout",
     "output_type": "stream",
     "text": [
      "Starting experimental run with id: 1. \n",
      "Starting experimental run with id: 2. \n",
      "Starting experimental run with id: 3. \n"
     ]
    },
    {
     "name": "stdout",
     "output_type": "stream",
     "text": [
      "Starting experimental run with id: 4. \n"
     ]
    },
    {
     "name": "stdout",
     "output_type": "stream",
     "text": [
      "Starting experimental run with id: 5. \n"
     ]
    },
    {
     "name": "stdout",
     "output_type": "stream",
     "text": [
      "Starting experimental run with id: 6. \n",
      "Starting experimental run with id: 7. \n",
      "Starting experimental run with id: 8. \n"
     ]
    },
    {
     "name": "stdout",
     "output_type": "stream",
     "text": [
      "Starting experimental run with id: 9. \n"
     ]
    },
    {
     "name": "stdout",
     "output_type": "stream",
     "text": [
      "Starting experimental run with id: 10. \n",
      "Starting experimental run with id: 11. \n"
     ]
    },
    {
     "name": "stdout",
     "output_type": "stream",
     "text": [
      "Starting experimental run with id: 12. \n"
     ]
    },
    {
     "name": "stdout",
     "output_type": "stream",
     "text": [
      "Starting experimental run with id: 13. \n",
      "Starting experimental run with id: 14. \n"
     ]
    }
   ],
   "source": [
    "sizes = [1,500,1000,2000,3000,4000,5000]\n",
    "t_numeric = []\n",
    "t_numeric_add = []\n",
    "t_array = []\n",
    "t_array_add = []\n",
    "for size in sizes:\n",
    "    tn, tna, run_id_n =  insert_data('numeric', size)\n",
    "    t_numeric.append(tn)\n",
    "    t_numeric_add.append(tna)\n",
    "\n",
    "    ta, taa, run_id_a =  insert_data('array', size)\n",
    "    t_array.append(ta)\n",
    "    t_array_add.append(taa)"
   ]
  },
  {
   "cell_type": "code",
   "execution_count": 6,
   "metadata": {
    "execution": {
     "iopub.execute_input": "2021-05-20T15:34:33.962229Z",
     "iopub.status.busy": "2021-05-20T15:34:33.950844Z",
     "iopub.status.idle": "2021-05-20T15:34:34.260541Z",
     "shell.execute_reply": "2021-05-20T15:34:34.260009Z"
    }
   },
   "outputs": [
    {
     "data": {
      "image/png": "[encoded data removed]",
      "text/plain": [
       "<Figure size 432x288 with 1 Axes>"
      ]
     },
     "metadata": {
      "needs_background": "light"
     },
     "output_type": "display_data"
    }
   ],
   "source": [
    "fig, ax = plt.subplots(1,1)\n",
    "ax.plot(sizes, t_numeric, 'o-', label='Inserting row-by-row')\n",
    "ax.plot(sizes, t_numeric_add, 'o-', label='Inserting row-by-row: add_result only')\n",
    "ax.plot(sizes, t_array, 'd-', label='Inserting as binary blob')\n",
    "ax.plot(sizes, t_array_add, 'd-', label='Inserting as binary blob: add_result only')\n",
    "ax.legend()\n",
    "ax.set_xlabel('Array length')\n",
    "ax.set_ylabel('Time (s)')\n",
    "fig.tight_layout()"
   ]
  },
  {
   "cell_type": "markdown",
   "metadata": {},
   "source": [
    "As shown in the latter figure, the time to setup and and close the experiment is approximately 0.4 sec. In case of small array sizes, the difference between inserting values of data as arrays and inserting them row-by-row is relatively unimportant. At larger array sizes, i.e. above 10000 points, the cost of writing data as individual datapoints starts to become important.\n"
   ]
  },
  {
   "cell_type": "markdown",
   "metadata": {},
   "source": [
    "### Case2: Long experiment time "
   ]
  },
  {
   "cell_type": "code",
   "execution_count": 7,
   "metadata": {
    "execution": {
     "iopub.execute_input": "2021-05-20T15:34:34.268934Z",
     "iopub.status.busy": "2021-05-20T15:34:34.268051Z",
     "iopub.status.idle": "2021-05-20T15:35:33.235071Z",
     "shell.execute_reply": "2021-05-20T15:35:33.234550Z"
    }
   },
   "outputs": [
    {
     "name": "stdout",
     "output_type": "stream",
     "text": [
      "Starting experimental run with id: 15. \n",
      "Starting experimental run with id: 16. \n"
     ]
    },
    {
     "name": "stdout",
     "output_type": "stream",
     "text": [
      "Starting experimental run with id: 17. \n"
     ]
    },
    {
     "name": "stdout",
     "output_type": "stream",
     "text": [
      "Starting experimental run with id: 18. \n"
     ]
    },
    {
     "name": "stdout",
     "output_type": "stream",
     "text": [
      "Starting experimental run with id: 19. \n"
     ]
    },
    {
     "name": "stdout",
     "output_type": "stream",
     "text": [
      "Starting experimental run with id: 20. \n"
     ]
    },
    {
     "name": "stdout",
     "output_type": "stream",
     "text": [
      "Starting experimental run with id: 21. \n"
     ]
    },
    {
     "name": "stdout",
     "output_type": "stream",
     "text": [
      "Starting experimental run with id: 22. \n"
     ]
    },
    {
     "name": "stdout",
     "output_type": "stream",
     "text": [
      "Starting experimental run with id: 23. \n"
     ]
    },
    {
     "name": "stdout",
     "output_type": "stream",
     "text": [
      "Starting experimental run with id: 24. \n"
     ]
    },
    {
     "name": "stdout",
     "output_type": "stream",
     "text": [
      "Starting experimental run with id: 25. \n"
     ]
    },
    {
     "name": "stdout",
     "output_type": "stream",
     "text": [
      "Starting experimental run with id: 26. \n"
     ]
    },
    {
     "name": "stdout",
     "output_type": "stream",
     "text": [
      "Starting experimental run with id: 27. \n"
     ]
    },
    {
     "name": "stdout",
     "output_type": "stream",
     "text": [
      "Starting experimental run with id: 28. \n"
     ]
    }
   ],
   "source": [
    "sizes = [1,500,1000,2000,3000,4000,5000]\n",
    "nreps = 100\n",
    "t_numeric = []\n",
    "t_numeric_add = []\n",
    "t_numeric_run_ids = []\n",
    "t_array = []\n",
    "t_array_add = []\n",
    "t_array_run_ids = []\n",
    "for size in sizes:\n",
    "    tn, tna, run_id_n =  insert_data('numeric', size, nreps=nreps)\n",
    "    t_numeric.append(tn)\n",
    "    t_numeric_add.append(tna)\n",
    "    t_numeric_run_ids.append(run_id_n)\n",
    "\n",
    "    ta, taa, run_id_a =  insert_data('array', size, nreps=nreps)\n",
    "    t_array.append(ta)\n",
    "    t_array_add.append(taa)\n",
    "    t_array_run_ids.append(run_id_a)"
   ]
  },
  {
   "cell_type": "code",
   "execution_count": 8,
   "metadata": {
    "execution": {
     "iopub.execute_input": "2021-05-20T15:35:33.289364Z",
     "iopub.status.busy": "2021-05-20T15:35:33.240110Z",
     "iopub.status.idle": "2021-05-20T15:35:33.525832Z",
     "shell.execute_reply": "2021-05-20T15:35:33.526291Z"
    },
    "scrolled": true
   },
   "outputs": [
    {
     "data": {
      "image/png": "[encoded data removed]",
      "text/plain": [
       "<Figure size 432x288 with 1 Axes>"
      ]
     },
     "metadata": {
      "needs_background": "light"
     },
     "output_type": "display_data"
    }
   ],
   "source": [
    "fig, ax = plt.subplots(1,1)\n",
    "ax.plot(sizes, t_numeric, 'o-', label='Inserting row-by-row')\n",
    "ax.plot(sizes, t_numeric_add, 'o-', label='Inserting row-by-row: add_result only')\n",
    "ax.plot(sizes, t_array, 'd-', label='Inserting as binary blob')\n",
    "ax.plot(sizes, t_array_add, 'd-', label='Inserting as binary blob: add_result only')\n",
    "ax.legend()\n",
    "ax.set_xlabel('Array length')\n",
    "ax.set_ylabel('Time (s)')\n",
    "fig.tight_layout()"
   ]
  },
  {
   "cell_type": "markdown",
   "metadata": {},
   "source": [
    "However, as we increase the length of the experiment, as seen here by repeating the insertion 100 times, we see a big difference between inserting values of the data row-by-row and inserting it as a binary blob."
   ]
  },
  {
   "cell_type": "markdown",
   "metadata": {},
   "source": [
    "## Loading the data "
   ]
  },
  {
   "cell_type": "code",
   "execution_count": 9,
   "metadata": {
    "execution": {
     "iopub.execute_input": "2021-05-20T15:35:33.531496Z",
     "iopub.status.busy": "2021-05-20T15:35:33.530624Z",
     "iopub.status.idle": "2021-05-20T15:35:33.534391Z",
     "shell.execute_reply": "2021-05-20T15:35:33.534835Z"
    }
   },
   "outputs": [],
   "source": [
    "from qcodes.dataset.data_set import load_by_id"
   ]
  },
  {
   "cell_type": "markdown",
   "metadata": {},
   "source": [
    "As usual you can load the data by using the ``load_by_id`` function but you will notice that the different storage methods\n",
    "are reflected in shape of the data as it is retrieved. "
   ]
  },
  {
   "cell_type": "code",
   "execution_count": 10,
   "metadata": {
    "execution": {
     "iopub.execute_input": "2021-05-20T15:35:33.539945Z",
     "iopub.status.busy": "2021-05-20T15:35:33.538651Z",
     "iopub.status.idle": "2021-05-20T15:35:33.540855Z",
     "shell.execute_reply": "2021-05-20T15:35:33.541318Z"
    }
   },
   "outputs": [],
   "source": [
    "run_id_n = t_numeric_run_ids[0]\n",
    "run_id_a = t_array_run_ids[0]"
   ]
  },
  {
   "cell_type": "code",
   "execution_count": 11,
   "metadata": {
    "execution": {
     "iopub.execute_input": "2021-05-20T15:35:33.544628Z",
     "iopub.status.busy": "2021-05-20T15:35:33.544065Z",
     "iopub.status.idle": "2021-05-20T15:35:33.554486Z",
     "shell.execute_reply": "2021-05-20T15:35:33.553981Z"
    },
    "scrolled": true
   },
   "outputs": [
    {
     "data": {
      "text/plain": [
       "{'x1': {'x1': array([0.65519994, 0.65519994, 0.92808439, 0.92808439, 0.73505095,\n",
       "         0.73505095, 0.50700817, 0.50700817, 0.83693976, 0.83693976,\n",
       "         0.48114288, 0.48114288, 0.64501389, 0.64501389, 0.56715824,\n",
       "         0.56715824, 0.14213946, 0.14213946, 0.82785048, 0.82785048,\n",
       "         0.07457028, 0.07457028, 0.78614672, 0.78614672, 0.6197572 ,\n",
       "         0.6197572 , 0.71369721, 0.71369721, 0.99327289, 0.99327289,\n",
       "         0.44052187, 0.44052187, 0.23051106, 0.23051106, 0.3898392 ,\n",
       "         0.3898392 , 0.57984247, 0.57984247, 0.85600018, 0.85600018,\n",
       "         0.30658544, 0.30658544, 0.49380855, 0.49380855, 0.15692461,\n",
       "         0.15692461, 0.21330917, 0.21330917, 0.38503143, 0.38503143,\n",
       "         0.73306366, 0.73306366, 0.13074857, 0.13074857, 0.92274615,\n",
       "         0.92274615, 0.59310687, 0.59310687, 0.75882309, 0.75882309,\n",
       "         0.24070972, 0.24070972, 0.26371202, 0.26371202, 0.1883003 ,\n",
       "         0.1883003 , 0.92249441, 0.92249441, 0.96464201, 0.96464201,\n",
       "         0.89264269, 0.89264269, 0.50826038, 0.50826038, 0.30351957,\n",
       "         0.30351957, 0.58361169, 0.58361169, 0.78833384, 0.78833384,\n",
       "         0.50997882, 0.50997882, 0.54052883, 0.54052883, 0.87668218,\n",
       "         0.87668218, 0.580513  , 0.580513  , 0.81976855, 0.81976855,\n",
       "         0.47174282, 0.47174282, 0.48060375, 0.48060375, 0.90556053,\n",
       "         0.90556053, 0.61902181, 0.61902181, 0.21227382, 0.21227382,\n",
       "         0.67959381, 0.67959381, 0.05099584, 0.05099584, 0.64283249,\n",
       "         0.64283249, 0.51992548, 0.51992548, 0.95201304, 0.95201304,\n",
       "         0.00778284, 0.00778284, 0.89689858, 0.89689858, 0.28576883,\n",
       "         0.28576883, 0.67848369, 0.67848369, 0.85189954, 0.85189954,\n",
       "         0.89902305, 0.89902305, 0.99535956, 0.99535956, 0.6219125 ,\n",
       "         0.6219125 , 0.29623128, 0.29623128, 0.51685754, 0.51685754,\n",
       "         0.4252879 , 0.4252879 , 0.12417178, 0.12417178, 0.31173355,\n",
       "         0.31173355, 0.39738921, 0.39738921, 0.11748965, 0.11748965,\n",
       "         0.14613214, 0.14613214, 0.84077601, 0.84077601, 0.47203366,\n",
       "         0.47203366, 0.00796169, 0.00796169, 0.0795363 , 0.0795363 ,\n",
       "         0.76350369, 0.76350369, 0.77627316, 0.77627316, 0.96234865,\n",
       "         0.96234865, 0.12079271, 0.12079271, 0.26948154, 0.26948154,\n",
       "         0.35067359, 0.35067359, 0.64510031, 0.64510031, 0.62201864,\n",
       "         0.62201864, 0.23338984, 0.23338984, 0.47319941, 0.47319941,\n",
       "         0.20198393, 0.20198393, 0.70337363, 0.70337363, 0.93267711,\n",
       "         0.93267711, 0.42554181, 0.42554181, 0.79406386, 0.79406386,\n",
       "         0.81738274, 0.81738274, 0.34196486, 0.34196486, 0.64150393,\n",
       "         0.64150393, 0.61787505, 0.61787505, 0.53421148, 0.53421148,\n",
       "         0.50032384, 0.50032384, 0.59647071, 0.59647071, 0.26012536,\n",
       "         0.26012536, 0.5707937 , 0.5707937 , 0.27551156, 0.27551156])}}"
      ]
     },
     "execution_count": 1,
     "metadata": {},
     "output_type": "execute_result"
    }
   ],
   "source": [
    "ds = load_by_id(run_id_n)\n",
    "ds.get_parameter_data('x1')"
   ]
  },
  {
   "cell_type": "markdown",
   "metadata": {},
   "source": [
    "And a dataset stored as binary arrays"
   ]
  },
  {
   "cell_type": "code",
   "execution_count": 12,
   "metadata": {
    "execution": {
     "iopub.execute_input": "2021-05-20T15:35:33.557835Z",
     "iopub.status.busy": "2021-05-20T15:35:33.557258Z",
     "iopub.status.idle": "2021-05-20T15:35:33.625138Z",
     "shell.execute_reply": "2021-05-20T15:35:33.625690Z"
    },
    "scrolled": true
   },
   "outputs": [
    {
     "data": {
      "text/plain": [
       "{'x1': {'x1': array([[0.93768433],\n",
       "         [0.93768433],\n",
       "         [0.33065386],\n",
       "         [0.33065386],\n",
       "         [0.96914532],\n",
       "         [0.96914532],\n",
       "         [0.13617401],\n",
       "         [0.13617401],\n",
       "         [0.09834906],\n",
       "         [0.09834906],\n",
       "         [0.76346642],\n",
       "         [0.76346642],\n",
       "         [0.03889475],\n",
       "         [0.03889475],\n",
       "         [0.90885815],\n",
       "         [0.90885815],\n",
       "         [0.82305308],\n",
       "         [0.82305308],\n",
       "         [0.17445146],\n",
       "         [0.17445146],\n",
       "         [0.93821783],\n",
       "         [0.93821783],\n",
       "         [0.12684237],\n",
       "         [0.12684237],\n",
       "         [0.97376575],\n",
       "         [0.97376575],\n",
       "         [0.84307746],\n",
       "         [0.84307746],\n",
       "         [0.12604317],\n",
       "         [0.12604317],\n",
       "         [0.72546649],\n",
       "         [0.72546649],\n",
       "         [0.97616422],\n",
       "         [0.97616422],\n",
       "         [0.41813185],\n",
       "         [0.41813185],\n",
       "         [0.20797751],\n",
       "         [0.20797751],\n",
       "         [0.3127309 ],\n",
       "         [0.3127309 ],\n",
       "         [0.8969577 ],\n",
       "         [0.8969577 ],\n",
       "         [0.85524192],\n",
       "         [0.85524192],\n",
       "         [0.11937091],\n",
       "         [0.11937091],\n",
       "         [0.80919288],\n",
       "         [0.80919288],\n",
       "         [0.94373041],\n",
       "         [0.94373041],\n",
       "         [0.21643964],\n",
       "         [0.21643964],\n",
       "         [0.26238459],\n",
       "         [0.26238459],\n",
       "         [0.34934191],\n",
       "         [0.34934191],\n",
       "         [0.87618262],\n",
       "         [0.87618262],\n",
       "         [0.74836263],\n",
       "         [0.74836263],\n",
       "         [0.56725476],\n",
       "         [0.56725476],\n",
       "         [0.23055804],\n",
       "         [0.23055804],\n",
       "         [0.4084663 ],\n",
       "         [0.4084663 ],\n",
       "         [0.29849107],\n",
       "         [0.29849107],\n",
       "         [0.72105044],\n",
       "         [0.72105044],\n",
       "         [0.16750867],\n",
       "         [0.16750867],\n",
       "         [0.9016805 ],\n",
       "         [0.9016805 ],\n",
       "         [0.29878094],\n",
       "         [0.29878094],\n",
       "         [0.96230964],\n",
       "         [0.96230964],\n",
       "         [0.42653257],\n",
       "         [0.42653257],\n",
       "         [0.80100009],\n",
       "         [0.80100009],\n",
       "         [0.10159476],\n",
       "         [0.10159476],\n",
       "         [0.2147411 ],\n",
       "         [0.2147411 ],\n",
       "         [0.09842365],\n",
       "         [0.09842365],\n",
       "         [0.79800562],\n",
       "         [0.79800562],\n",
       "         [0.62353205],\n",
       "         [0.62353205],\n",
       "         [0.16183193],\n",
       "         [0.16183193],\n",
       "         [0.81981908],\n",
       "         [0.81981908],\n",
       "         [0.32783888],\n",
       "         [0.32783888],\n",
       "         [0.46664901],\n",
       "         [0.46664901],\n",
       "         [0.56407826],\n",
       "         [0.56407826],\n",
       "         [0.682283  ],\n",
       "         [0.682283  ],\n",
       "         [0.9769743 ],\n",
       "         [0.9769743 ],\n",
       "         [0.9632599 ],\n",
       "         [0.9632599 ],\n",
       "         [0.40746608],\n",
       "         [0.40746608],\n",
       "         [0.18576591],\n",
       "         [0.18576591],\n",
       "         [0.42688503],\n",
       "         [0.42688503],\n",
       "         [0.59194714],\n",
       "         [0.59194714],\n",
       "         [0.80860085],\n",
       "         [0.80860085],\n",
       "         [0.78821049],\n",
       "         [0.78821049],\n",
       "         [0.60471647],\n",
       "         [0.60471647],\n",
       "         [0.24389988],\n",
       "         [0.24389988],\n",
       "         [0.55031424],\n",
       "         [0.55031424],\n",
       "         [0.07568105],\n",
       "         [0.07568105],\n",
       "         [0.42853006],\n",
       "         [0.42853006],\n",
       "         [0.41654446],\n",
       "         [0.41654446],\n",
       "         [0.17064103],\n",
       "         [0.17064103],\n",
       "         [0.44927393],\n",
       "         [0.44927393],\n",
       "         [0.26015396],\n",
       "         [0.26015396],\n",
       "         [0.52073881],\n",
       "         [0.52073881],\n",
       "         [0.79104356],\n",
       "         [0.79104356],\n",
       "         [0.95982835],\n",
       "         [0.95982835],\n",
       "         [0.80703908],\n",
       "         [0.80703908],\n",
       "         [0.4182396 ],\n",
       "         [0.4182396 ],\n",
       "         [0.61122822],\n",
       "         [0.61122822],\n",
       "         [0.52848363],\n",
       "         [0.52848363],\n",
       "         [0.16498905],\n",
       "         [0.16498905],\n",
       "         [0.9680218 ],\n",
       "         [0.9680218 ],\n",
       "         [0.42626794],\n",
       "         [0.42626794],\n",
       "         [0.15606316],\n",
       "         [0.15606316],\n",
       "         [0.91734941],\n",
       "         [0.91734941],\n",
       "         [0.82314703],\n",
       "         [0.82314703],\n",
       "         [0.26597162],\n",
       "         [0.26597162],\n",
       "         [0.71223197],\n",
       "         [0.71223197],\n",
       "         [0.91515953],\n",
       "         [0.91515953],\n",
       "         [0.89789735],\n",
       "         [0.89789735],\n",
       "         [0.1497239 ],\n",
       "         [0.1497239 ],\n",
       "         [0.41127282],\n",
       "         [0.41127282],\n",
       "         [0.56855101],\n",
       "         [0.56855101],\n",
       "         [0.36127983],\n",
       "         [0.36127983],\n",
       "         [0.4378462 ],\n",
       "         [0.4378462 ],\n",
       "         [0.85355977],\n",
       "         [0.85355977],\n",
       "         [0.59070216],\n",
       "         [0.59070216],\n",
       "         [0.10234568],\n",
       "         [0.10234568],\n",
       "         [0.09492786],\n",
       "         [0.09492786],\n",
       "         [0.41004783],\n",
       "         [0.41004783],\n",
       "         [0.01642411],\n",
       "         [0.01642411],\n",
       "         [0.68777948],\n",
       "         [0.68777948],\n",
       "         [0.78896502],\n",
       "         [0.78896502],\n",
       "         [0.58164915],\n",
       "         [0.58164915]])}}"
      ]
     },
     "execution_count": 1,
     "metadata": {},
     "output_type": "execute_result"
    }
   ],
   "source": [
    "ds = load_by_id(run_id_a)\n",
    "ds.get_parameter_data('x1')"
   ]
  },
  {
   "cell_type": "code",
   "execution_count": null,
   "metadata": {},
   "outputs": [],
   "source": []
  }
 ],
 "metadata": {
  "kernelspec": {
   "display_name": "Python 3",
   "language": "python",
   "name": "python3"
  },
  "language_info": {
   "codemirror_mode": {
    "name": "ipython",
    "version": 3
   },
   "file_extension": ".py",
   "mimetype": "text/x-python",
   "name": "python",
   "nbconvert_exporter": "python",
   "pygments_lexer": "ipython3",
   "version": "3.7.10"
  },
  "nbsphinx": {
   "timeout": 600
  },
  "toc": {
   "base_numbering": 1,
   "nav_menu": {},
   "number_sections": true,
   "sideBar": true,
   "skip_h1_title": false,
   "title_cell": "Table of Contents",
   "title_sidebar": "Contents",
   "toc_cell": false,
   "toc_position": {},
   "toc_section_display": true,
   "toc_window_display": false
  },
  "varInspector": {
   "cols": {
    "lenName": 16,
    "lenType": 16,
    "lenVar": 40
   },
   "kernels_config": {
    "python": {
     "delete_cmd_postfix": "",
     "delete_cmd_prefix": "del ",
     "library": "var_list.py",
     "varRefreshCmd": "print(var_dic_list())"
    },
    "r": {
     "delete_cmd_postfix": ") ",
     "delete_cmd_prefix": "rm(",
     "library": "var_list.r",
     "varRefreshCmd": "cat(var_dic_list()) "
    }
   },
   "types_to_exclude": [
    "module",
    "function",
    "builtin_function_or_method",
    "instance",
    "_Feature"
   ],
   "window_display": false
  }
 },
 "nbformat": 4,
 "nbformat_minor": 4
}
