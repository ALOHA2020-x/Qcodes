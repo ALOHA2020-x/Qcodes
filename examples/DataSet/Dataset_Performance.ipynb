{
 "cells": [
  {
   "cell_type": "markdown",
   "metadata": {},
   "source": [
    "# DataSet Performance\n",
    "\n",
    "This notebook shows the trade-off between inserting data into a database row-by-row and as binary blobs. Inserting the data row-by-row means that we have direct access to all the data and may perform queries directly on the values of the data. On the other hand, as we shall see, this is much slower than inserting the data directly as binary blobs."
   ]
  },
  {
   "cell_type": "markdown",
   "metadata": {},
   "source": [
    "First, we choose a new location for the database to ensure that we don't add a bunch of benchmarking data to the default one."
   ]
  },
  {
   "cell_type": "code",
   "execution_count": 1,
   "metadata": {
    "execution": {
     "iopub.execute_input": "2021-03-19T07:51:40.553686Z",
     "iopub.status.busy": "2021-03-19T07:51:40.553063Z",
     "iopub.status.idle": "2021-03-19T07:51:41.499518Z",
     "shell.execute_reply": "2021-03-19T07:51:41.498697Z"
    }
   },
   "outputs": [
    {
     "name": "stdout",
     "output_type": "stream",
     "text": [
      "Logging hadn't been started.\n",
      "Activating auto-logging. Current session state plus future input saved.\n",
      "Filename       : /home/runner/.qcodes/logs/command_history.log\n",
      "Mode           : append\n",
      "Output logging : True\n",
      "Raw input log  : False\n",
      "Timestamping   : True\n",
      "State          : active\n"
     ]
    },
    {
     "name": "stdout",
     "output_type": "stream",
     "text": [
      "Qcodes Logfile : /home/runner/.qcodes/logs/210319-4458-qcodes.log\n"
     ]
    }
   ],
   "source": [
    "import os\n",
    "cwd = os.getcwd()\n",
    "import qcodes as qc\n",
    "qc.config[\"core\"][\"db_location\"] = os.path.join(cwd, 'testing.db')\n"
   ]
  },
  {
   "cell_type": "code",
   "execution_count": 2,
   "metadata": {
    "execution": {
     "iopub.execute_input": "2021-03-19T07:51:41.505177Z",
     "iopub.status.busy": "2021-03-19T07:51:41.504591Z",
     "iopub.status.idle": "2021-03-19T07:51:41.709188Z",
     "shell.execute_reply": "2021-03-19T07:51:41.708226Z"
    }
   },
   "outputs": [],
   "source": [
    "%matplotlib inline\n",
    "import time\n",
    "import matplotlib.pyplot as plt\n",
    "import numpy as np\n",
    "\n",
    "import qcodes as qc\n",
    "from qcodes.instrument.parameter import ManualParameter\n",
    "from qcodes.dataset.experiment_container import (Experiment,\n",
    "                                                 load_last_experiment,\n",
    "                                                 new_experiment)\n",
    "from qcodes.dataset.sqlite.database import initialise_database\n",
    "from qcodes import load_or_create_experiment\n",
    "from qcodes.dataset.measurements import Measurement"
   ]
  },
  {
   "cell_type": "code",
   "execution_count": 3,
   "metadata": {
    "execution": {
     "iopub.execute_input": "2021-03-19T07:51:41.713062Z",
     "iopub.status.busy": "2021-03-19T07:51:41.712387Z",
     "iopub.status.idle": "2021-03-19T07:51:41.828720Z",
     "shell.execute_reply": "2021-03-19T07:51:41.828044Z"
    }
   },
   "outputs": [
    {
     "name": "stdout",
     "output_type": "stream",
     "text": [
      "\r",
      "0it [00:00, ?it/s]"
     ]
    },
    {
     "name": "stdout",
     "output_type": "stream",
     "text": [
      "\r",
      "Upgrading database; v0 -> v1: : 0it [00:00, ?it/s]"
     ]
    },
    {
     "name": "stdout",
     "output_type": "stream",
     "text": [
      "\r",
      "Upgrading database; v0 -> v1: : 0it [00:00, ?it/s]"
     ]
    },
    {
     "name": "stdout",
     "output_type": "stream",
     "text": [
      "\n",
      "\r",
      "  0%|          | 0/1 [00:00<?, ?it/s]"
     ]
    },
    {
     "name": "stdout",
     "output_type": "stream",
     "text": [
      "\r",
      "Upgrading database; v1 -> v2:   0%|          | 0/1 [00:00<?, ?it/s]"
     ]
    },
    {
     "name": "stdout",
     "output_type": "stream",
     "text": [
      "\r",
      "Upgrading database; v1 -> v2: 100%|██████████| 1/1 [00:00<00:00, 320.25it/s]"
     ]
    },
    {
     "name": "stdout",
     "output_type": "stream",
     "text": [
      "\n",
      "\r",
      "0it [00:00, ?it/s]"
     ]
    },
    {
     "name": "stdout",
     "output_type": "stream",
     "text": [
      "\r",
      "Upgrading database; v2 -> v3: : 0it [00:00, ?it/s]"
     ]
    },
    {
     "name": "stdout",
     "output_type": "stream",
     "text": [
      "\r",
      "Upgrading database; v2 -> v3: : 0it [00:00, ?it/s]"
     ]
    },
    {
     "name": "stdout",
     "output_type": "stream",
     "text": [
      "\n",
      "\r",
      "0it [00:00, ?it/s]"
     ]
    },
    {
     "name": "stdout",
     "output_type": "stream",
     "text": [
      "\r",
      "Upgrading database; v3 -> v4: : 0it [00:00, ?it/s]"
     ]
    },
    {
     "name": "stdout",
     "output_type": "stream",
     "text": [
      "\r",
      "Upgrading database; v3 -> v4: : 0it [00:00, ?it/s]"
     ]
    },
    {
     "name": "stdout",
     "output_type": "stream",
     "text": [
      "\n",
      "\r",
      "  0%|          | 0/1 [00:00<?, ?it/s]"
     ]
    },
    {
     "name": "stdout",
     "output_type": "stream",
     "text": [
      "\r",
      "Upgrading database; v4 -> v5:   0%|          | 0/1 [00:00<?, ?it/s]"
     ]
    },
    {
     "name": "stdout",
     "output_type": "stream",
     "text": [
      "\r",
      "Upgrading database; v4 -> v5: 100%|██████████| 1/1 [00:00<00:00, 1050.94it/s]"
     ]
    },
    {
     "name": "stdout",
     "output_type": "stream",
     "text": [
      "\n",
      "\r",
      "0it [00:00, ?it/s]"
     ]
    },
    {
     "name": "stdout",
     "output_type": "stream",
     "text": [
      "\r",
      "Upgrading database; v5 -> v6: : 0it [00:00, ?it/s]"
     ]
    },
    {
     "name": "stdout",
     "output_type": "stream",
     "text": [
      "\r",
      "Upgrading database; v5 -> v6: : 0it [00:00, ?it/s]"
     ]
    },
    {
     "name": "stdout",
     "output_type": "stream",
     "text": [
      "\n",
      "\r",
      "  0%|          | 0/1 [00:00<?, ?it/s]"
     ]
    },
    {
     "name": "stdout",
     "output_type": "stream",
     "text": [
      "\r",
      "Upgrading database; v6 -> v7:   0%|          | 0/1 [00:00<?, ?it/s]"
     ]
    },
    {
     "name": "stdout",
     "output_type": "stream",
     "text": [
      "\r",
      "Upgrading database; v6 -> v7: 100%|██████████| 1/1 [00:00<00:00, 266.68it/s]"
     ]
    },
    {
     "name": "stdout",
     "output_type": "stream",
     "text": [
      "\n",
      "\r",
      "  0%|          | 0/1 [00:00<?, ?it/s]"
     ]
    },
    {
     "name": "stdout",
     "output_type": "stream",
     "text": [
      "\r",
      "Upgrading database; v7 -> v8:   0%|          | 0/1 [00:00<?, ?it/s]"
     ]
    },
    {
     "name": "stdout",
     "output_type": "stream",
     "text": [
      "\r",
      "Upgrading database; v7 -> v8: 100%|██████████| 1/1 [00:00<00:00, 378.72it/s]"
     ]
    },
    {
     "name": "stdout",
     "output_type": "stream",
     "text": [
      "\n",
      "\r",
      "  0%|          | 0/1 [00:00<?, ?it/s]"
     ]
    },
    {
     "name": "stdout",
     "output_type": "stream",
     "text": [
      "\r",
      "Upgrading database; v8 -> v9:   0%|          | 0/1 [00:00<?, ?it/s]"
     ]
    },
    {
     "name": "stdout",
     "output_type": "stream",
     "text": [
      "\r",
      "Upgrading database; v8 -> v9: 100%|██████████| 1/1 [00:00<00:00, 550.72it/s]"
     ]
    },
    {
     "name": "stdout",
     "output_type": "stream",
     "text": [
      "\n"
     ]
    }
   ],
   "source": [
    "initialise_database()\n",
    "exp = load_or_create_experiment(experiment_name='tutorial_exp', sample_name=\"no sample\")"
   ]
  },
  {
   "cell_type": "markdown",
   "metadata": {},
   "source": [
    "Here, we define a simple function to benchmark the time it takes to insert n points with either numeric or array data type.\n",
    "We will compare both the time used to call ``add_result`` and the time used for the full measurement."
   ]
  },
  {
   "cell_type": "code",
   "execution_count": 4,
   "metadata": {
    "execution": {
     "iopub.execute_input": "2021-03-19T07:51:41.837037Z",
     "iopub.status.busy": "2021-03-19T07:51:41.835511Z",
     "iopub.status.idle": "2021-03-19T07:51:41.839298Z",
     "shell.execute_reply": "2021-03-19T07:51:41.839861Z"
    }
   },
   "outputs": [],
   "source": [
    "def insert_data(paramtype, npoints, nreps=1):\n",
    "\n",
    "    meas = Measurement(exp=exp)\n",
    "\n",
    "    x1 = ManualParameter('x1')\n",
    "    x2 = ManualParameter('x2')\n",
    "    x3 = ManualParameter('x3')\n",
    "    y1 = ManualParameter('y1')\n",
    "    y2 = ManualParameter('y2')\n",
    "\n",
    "    meas.register_parameter(x1, paramtype=paramtype)\n",
    "    meas.register_parameter(x2, paramtype=paramtype)\n",
    "    meas.register_parameter(x3, paramtype=paramtype)\n",
    "    meas.register_parameter(y1, setpoints=[x1, x2, x3],\n",
    "                            paramtype=paramtype)\n",
    "    meas.register_parameter(y2, setpoints=[x1, x2, x3],\n",
    "                            paramtype=paramtype)\n",
    "    start = time.perf_counter()\n",
    "    with meas.run() as datasaver:\n",
    "        start_adding = time.perf_counter()\n",
    "        for i in range(nreps):\n",
    "            datasaver.add_result((x1, np.random.rand(npoints)),\n",
    "                                 (x2, np.random.rand(npoints)),\n",
    "                                 (x3, np.random.rand(npoints)),\n",
    "                                 (y1, np.random.rand(npoints)),\n",
    "                                 (y2, np.random.rand(npoints)))\n",
    "        stop_adding = time.perf_counter()\n",
    "        run_id = datasaver.run_id\n",
    "    stop = time.perf_counter()\n",
    "    tot_time = stop - start\n",
    "    add_time = stop_adding - start_adding\n",
    "    return tot_time, add_time, run_id"
   ]
  },
  {
   "cell_type": "markdown",
   "metadata": {},
   "source": [
    "## Comparison between numeric/array data and binary blob"
   ]
  },
  {
   "cell_type": "markdown",
   "metadata": {},
   "source": [
    "### Case1: Short experiment time"
   ]
  },
  {
   "cell_type": "code",
   "execution_count": 5,
   "metadata": {
    "execution": {
     "iopub.execute_input": "2021-03-19T07:51:41.846340Z",
     "iopub.status.busy": "2021-03-19T07:51:41.845463Z",
     "iopub.status.idle": "2021-03-19T07:51:42.682369Z",
     "shell.execute_reply": "2021-03-19T07:51:42.681834Z"
    }
   },
   "outputs": [
    {
     "name": "stdout",
     "output_type": "stream",
     "text": [
      "Starting experimental run with id: 1. \n",
      "Starting experimental run with id: 2. \n",
      "Starting experimental run with id: 3. \n",
      "Starting experimental run with id: 4. \n"
     ]
    },
    {
     "name": "stdout",
     "output_type": "stream",
     "text": [
      "Starting experimental run with id: 5. \n"
     ]
    },
    {
     "name": "stdout",
     "output_type": "stream",
     "text": [
      "Starting experimental run with id: 6. \n"
     ]
    },
    {
     "name": "stdout",
     "output_type": "stream",
     "text": [
      "Starting experimental run with id: 7. \n"
     ]
    },
    {
     "name": "stdout",
     "output_type": "stream",
     "text": [
      "Starting experimental run with id: 8. \n",
      "Starting experimental run with id: 9. \n"
     ]
    },
    {
     "name": "stdout",
     "output_type": "stream",
     "text": [
      "Starting experimental run with id: 10. \n",
      "Starting experimental run with id: 11. \n"
     ]
    },
    {
     "name": "stdout",
     "output_type": "stream",
     "text": [
      "Starting experimental run with id: 12. \n",
      "Starting experimental run with id: 13. \n"
     ]
    },
    {
     "name": "stdout",
     "output_type": "stream",
     "text": [
      "Starting experimental run with id: 14. \n"
     ]
    }
   ],
   "source": [
    "sizes = [1,500,1000,2000,3000,4000,5000]\n",
    "t_numeric = []\n",
    "t_numeric_add = []\n",
    "t_array = []\n",
    "t_array_add = []\n",
    "for size in sizes:\n",
    "    tn, tna, run_id_n =  insert_data('numeric', size)\n",
    "    t_numeric.append(tn)\n",
    "    t_numeric_add.append(tna)\n",
    "\n",
    "    ta, taa, run_id_a =  insert_data('array', size)\n",
    "    t_array.append(ta)\n",
    "    t_array_add.append(taa)"
   ]
  },
  {
   "cell_type": "code",
   "execution_count": 6,
   "metadata": {
    "execution": {
     "iopub.execute_input": "2021-03-19T07:51:42.701418Z",
     "iopub.status.busy": "2021-03-19T07:51:42.700825Z",
     "iopub.status.idle": "2021-03-19T07:51:42.940204Z",
     "shell.execute_reply": "2021-03-19T07:51:42.939337Z"
    }
   },
   "outputs": [
    {
     "data": {
      "image/png": "[encoded data removed]",
      "text/plain": [
       "<Figure size 432x288 with 1 Axes>"
      ]
     },
     "metadata": {
      "needs_background": "light"
     },
     "output_type": "display_data"
    }
   ],
   "source": [
    "fig, ax = plt.subplots(1,1)\n",
    "ax.plot(sizes, t_numeric, 'o-', label='Inserting row-by-row')\n",
    "ax.plot(sizes, t_numeric_add, 'o-', label='Inserting row-by-row: add_result only')\n",
    "ax.plot(sizes, t_array, 'd-', label='Inserting as binary blob')\n",
    "ax.plot(sizes, t_array_add, 'd-', label='Inserting as binary blob: add_result only')\n",
    "ax.legend()\n",
    "ax.set_xlabel('Array length')\n",
    "ax.set_ylabel('Time (s)')\n",
    "fig.tight_layout()"
   ]
  },
  {
   "cell_type": "markdown",
   "metadata": {},
   "source": [
    "As shown in the latter figure, the time to setup and and close the experiment is approximately 0.4 sec. In case of small array sizes, the difference between inserting values of data as arrays and inserting them row-by-row is relatively unimportant. At larger array sizes, i.e. above 10000 points, the cost of writing data as individual datapoints starts to become important.\n"
   ]
  },
  {
   "cell_type": "markdown",
   "metadata": {},
   "source": [
    "### Case2: Long experiment time "
   ]
  },
  {
   "cell_type": "code",
   "execution_count": 7,
   "metadata": {
    "execution": {
     "iopub.execute_input": "2021-03-19T07:51:42.949291Z",
     "iopub.status.busy": "2021-03-19T07:51:42.948298Z",
     "iopub.status.idle": "2021-03-19T07:52:43.083660Z",
     "shell.execute_reply": "2021-03-19T07:52:43.084128Z"
    }
   },
   "outputs": [
    {
     "name": "stdout",
     "output_type": "stream",
     "text": [
      "Starting experimental run with id: 15. \n",
      "Starting experimental run with id: 16. \n"
     ]
    },
    {
     "name": "stdout",
     "output_type": "stream",
     "text": [
      "Starting experimental run with id: 17. \n"
     ]
    },
    {
     "name": "stdout",
     "output_type": "stream",
     "text": [
      "Starting experimental run with id: 18. \n"
     ]
    },
    {
     "name": "stdout",
     "output_type": "stream",
     "text": [
      "Starting experimental run with id: 19. \n"
     ]
    },
    {
     "name": "stdout",
     "output_type": "stream",
     "text": [
      "Starting experimental run with id: 20. \n"
     ]
    },
    {
     "name": "stdout",
     "output_type": "stream",
     "text": [
      "Starting experimental run with id: 21. \n"
     ]
    },
    {
     "name": "stdout",
     "output_type": "stream",
     "text": [
      "Starting experimental run with id: 22. \n"
     ]
    },
    {
     "name": "stdout",
     "output_type": "stream",
     "text": [
      "Starting experimental run with id: 23. \n"
     ]
    },
    {
     "name": "stdout",
     "output_type": "stream",
     "text": [
      "Starting experimental run with id: 24. \n"
     ]
    },
    {
     "name": "stdout",
     "output_type": "stream",
     "text": [
      "Starting experimental run with id: 25. \n"
     ]
    },
    {
     "name": "stdout",
     "output_type": "stream",
     "text": [
      "Starting experimental run with id: 26. \n"
     ]
    },
    {
     "name": "stdout",
     "output_type": "stream",
     "text": [
      "Starting experimental run with id: 27. \n"
     ]
    },
    {
     "name": "stdout",
     "output_type": "stream",
     "text": [
      "Starting experimental run with id: 28. \n"
     ]
    }
   ],
   "source": [
    "sizes = [1,500,1000,2000,3000,4000,5000]\n",
    "nreps = 100\n",
    "t_numeric = []\n",
    "t_numeric_add = []\n",
    "t_numeric_run_ids = []\n",
    "t_array = []\n",
    "t_array_add = []\n",
    "t_array_run_ids = []\n",
    "for size in sizes:\n",
    "    tn, tna, run_id_n =  insert_data('numeric', size, nreps=nreps)\n",
    "    t_numeric.append(tn)\n",
    "    t_numeric_add.append(tna)\n",
    "    t_numeric_run_ids.append(run_id_n)\n",
    "\n",
    "    ta, taa, run_id_a =  insert_data('array', size, nreps=nreps)\n",
    "    t_array.append(ta)\n",
    "    t_array_add.append(taa)\n",
    "    t_array_run_ids.append(run_id_a)"
   ]
  },
  {
   "cell_type": "code",
   "execution_count": 8,
   "metadata": {
    "execution": {
     "iopub.execute_input": "2021-03-19T07:52:43.109695Z",
     "iopub.status.busy": "2021-03-19T07:52:43.106450Z",
     "iopub.status.idle": "2021-03-19T07:52:43.355089Z",
     "shell.execute_reply": "2021-03-19T07:52:43.354576Z"
    },
    "scrolled": true
   },
   "outputs": [
    {
     "data": {
      "image/png": "[encoded data removed]",
      "text/plain": [
       "<Figure size 432x288 with 1 Axes>"
      ]
     },
     "metadata": {
      "needs_background": "light"
     },
     "output_type": "display_data"
    }
   ],
   "source": [
    "fig, ax = plt.subplots(1,1)\n",
    "ax.plot(sizes, t_numeric, 'o-', label='Inserting row-by-row')\n",
    "ax.plot(sizes, t_numeric_add, 'o-', label='Inserting row-by-row: add_result only')\n",
    "ax.plot(sizes, t_array, 'd-', label='Inserting as binary blob')\n",
    "ax.plot(sizes, t_array_add, 'd-', label='Inserting as binary blob: add_result only')\n",
    "ax.legend()\n",
    "ax.set_xlabel('Array length')\n",
    "ax.set_ylabel('Time (s)')\n",
    "fig.tight_layout()"
   ]
  },
  {
   "cell_type": "markdown",
   "metadata": {},
   "source": [
    "However, as we increase the length of the experiment, as seen here by repeating the insertion 100 times, we see a big difference between inserting values of the data row-by-row and inserting it as a binary blob."
   ]
  },
  {
   "cell_type": "markdown",
   "metadata": {},
   "source": [
    "## Loading the data "
   ]
  },
  {
   "cell_type": "code",
   "execution_count": 9,
   "metadata": {
    "execution": {
     "iopub.execute_input": "2021-03-19T07:52:43.360172Z",
     "iopub.status.busy": "2021-03-19T07:52:43.359417Z",
     "iopub.status.idle": "2021-03-19T07:52:43.362331Z",
     "shell.execute_reply": "2021-03-19T07:52:43.361715Z"
    }
   },
   "outputs": [],
   "source": [
    "from qcodes.dataset.data_set import load_by_id\n",
    "from qcodes.dataset.data_export import get_data_by_id"
   ]
  },
  {
   "cell_type": "markdown",
   "metadata": {},
   "source": [
    "As usual you can load the data by using the ``load_by_id`` function but you will notice that the different storage methods\n",
    "are reflected in shape of the data as it is retrieved. "
   ]
  },
  {
   "cell_type": "code",
   "execution_count": 10,
   "metadata": {
    "execution": {
     "iopub.execute_input": "2021-03-19T07:52:43.367013Z",
     "iopub.status.busy": "2021-03-19T07:52:43.365750Z",
     "iopub.status.idle": "2021-03-19T07:52:43.367781Z",
     "shell.execute_reply": "2021-03-19T07:52:43.368332Z"
    }
   },
   "outputs": [],
   "source": [
    "run_id_n = t_numeric_run_ids[0]\n",
    "run_id_a = t_array_run_ids[0]"
   ]
  },
  {
   "cell_type": "code",
   "execution_count": 11,
   "metadata": {
    "execution": {
     "iopub.execute_input": "2021-03-19T07:52:43.372093Z",
     "iopub.status.busy": "2021-03-19T07:52:43.371292Z",
     "iopub.status.idle": "2021-03-19T07:52:43.381946Z",
     "shell.execute_reply": "2021-03-19T07:52:43.381448Z"
    },
    "scrolled": true
   },
   "outputs": [
    {
     "data": {
      "text/plain": [
       "{'x1': {'x1': array([0.22814348, 0.22814348, 0.59462621, 0.59462621, 0.78115317,\n",
       "         0.78115317, 0.1476279 , 0.1476279 , 0.72429893, 0.72429893,\n",
       "         0.09266442, 0.09266442, 0.86118976, 0.86118976, 0.27037806,\n",
       "         0.27037806, 0.19785606, 0.19785606, 0.3338614 , 0.3338614 ,\n",
       "         0.64640314, 0.64640314, 0.25303988, 0.25303988, 0.35279991,\n",
       "         0.35279991, 0.61978677, 0.61978677, 0.17311375, 0.17311375,\n",
       "         0.58198961, 0.58198961, 0.37615422, 0.37615422, 0.24852119,\n",
       "         0.24852119, 0.15721855, 0.15721855, 0.67685199, 0.67685199,\n",
       "         0.14678213, 0.14678213, 0.99146324, 0.99146324, 0.74681281,\n",
       "         0.74681281, 0.27300919, 0.27300919, 0.48372359, 0.48372359,\n",
       "         0.18910273, 0.18910273, 0.77326377, 0.77326377, 0.49106743,\n",
       "         0.49106743, 0.5888756 , 0.5888756 , 0.97560189, 0.97560189,\n",
       "         0.20662458, 0.20662458, 0.28988957, 0.28988957, 0.51222668,\n",
       "         0.51222668, 0.74712969, 0.74712969, 0.05989107, 0.05989107,\n",
       "         0.57275696, 0.57275696, 0.5158563 , 0.5158563 , 0.61932984,\n",
       "         0.61932984, 0.16749777, 0.16749777, 0.88649646, 0.88649646,\n",
       "         0.61533164, 0.61533164, 0.3770596 , 0.3770596 , 0.59107346,\n",
       "         0.59107346, 0.71907801, 0.71907801, 0.11484299, 0.11484299,\n",
       "         0.24468586, 0.24468586, 0.1694945 , 0.1694945 , 0.5372482 ,\n",
       "         0.5372482 , 0.09765114, 0.09765114, 0.51063257, 0.51063257,\n",
       "         0.6362618 , 0.6362618 , 0.84898369, 0.84898369, 0.44591881,\n",
       "         0.44591881, 0.81272241, 0.81272241, 0.74903718, 0.74903718,\n",
       "         0.46211517, 0.46211517, 0.28995784, 0.28995784, 0.10658957,\n",
       "         0.10658957, 0.06950927, 0.06950927, 0.03270321, 0.03270321,\n",
       "         0.16103355, 0.16103355, 0.65100819, 0.65100819, 0.96685452,\n",
       "         0.96685452, 0.26321108, 0.26321108, 0.64328823, 0.64328823,\n",
       "         0.33193282, 0.33193282, 0.66392062, 0.66392062, 0.15937844,\n",
       "         0.15937844, 0.11442073, 0.11442073, 0.71794119, 0.71794119,\n",
       "         0.12755044, 0.12755044, 0.97635841, 0.97635841, 0.28237718,\n",
       "         0.28237718, 0.71843779, 0.71843779, 0.12995297, 0.12995297,\n",
       "         0.96392327, 0.96392327, 0.2774213 , 0.2774213 , 0.93225577,\n",
       "         0.93225577, 0.47517011, 0.47517011, 0.31715902, 0.31715902,\n",
       "         0.16847376, 0.16847376, 0.24731375, 0.24731375, 0.32951521,\n",
       "         0.32951521, 0.30234718, 0.30234718, 0.75638316, 0.75638316,\n",
       "         0.56231934, 0.56231934, 0.71572988, 0.71572988, 0.3494076 ,\n",
       "         0.3494076 , 0.82518061, 0.82518061, 0.88941639, 0.88941639,\n",
       "         0.96972328, 0.96972328, 0.05291909, 0.05291909, 0.80021941,\n",
       "         0.80021941, 0.06660337, 0.06660337, 0.97903581, 0.97903581,\n",
       "         0.70262365, 0.70262365, 0.30578679, 0.30578679, 0.18079171,\n",
       "         0.18079171, 0.84702576, 0.84702576, 0.21947063, 0.21947063])}}"
      ]
     },
     "execution_count": 1,
     "metadata": {},
     "output_type": "execute_result"
    }
   ],
   "source": [
    "ds = load_by_id(run_id_n)\n",
    "ds.get_parameter_data('x1')"
   ]
  },
  {
   "cell_type": "markdown",
   "metadata": {},
   "source": [
    "And a dataset stored as binary arrays"
   ]
  },
  {
   "cell_type": "code",
   "execution_count": 12,
   "metadata": {
    "execution": {
     "iopub.execute_input": "2021-03-19T07:52:43.385659Z",
     "iopub.status.busy": "2021-03-19T07:52:43.385065Z",
     "iopub.status.idle": "2021-03-19T07:52:43.455222Z",
     "shell.execute_reply": "2021-03-19T07:52:43.454221Z"
    },
    "scrolled": true
   },
   "outputs": [
    {
     "data": {
      "text/plain": [
       "{'x1': {'x1': array([[0.52947449],\n",
       "         [0.52947449],\n",
       "         [0.74225806],\n",
       "         [0.74225806],\n",
       "         [0.10962195],\n",
       "         [0.10962195],\n",
       "         [0.87524359],\n",
       "         [0.87524359],\n",
       "         [0.86065716],\n",
       "         [0.86065716],\n",
       "         [0.62186016],\n",
       "         [0.62186016],\n",
       "         [0.13112884],\n",
       "         [0.13112884],\n",
       "         [0.97203787],\n",
       "         [0.97203787],\n",
       "         [0.81424458],\n",
       "         [0.81424458],\n",
       "         [0.62045506],\n",
       "         [0.62045506],\n",
       "         [0.49091668],\n",
       "         [0.49091668],\n",
       "         [0.38818923],\n",
       "         [0.38818923],\n",
       "         [0.06001501],\n",
       "         [0.06001501],\n",
       "         [0.45314205],\n",
       "         [0.45314205],\n",
       "         [0.04346563],\n",
       "         [0.04346563],\n",
       "         [0.85605584],\n",
       "         [0.85605584],\n",
       "         [0.70143904],\n",
       "         [0.70143904],\n",
       "         [0.92429479],\n",
       "         [0.92429479],\n",
       "         [0.89667362],\n",
       "         [0.89667362],\n",
       "         [0.22869649],\n",
       "         [0.22869649],\n",
       "         [0.1912115 ],\n",
       "         [0.1912115 ],\n",
       "         [0.22189333],\n",
       "         [0.22189333],\n",
       "         [0.2643058 ],\n",
       "         [0.2643058 ],\n",
       "         [0.32535196],\n",
       "         [0.32535196],\n",
       "         [0.88372937],\n",
       "         [0.88372937],\n",
       "         [0.51359312],\n",
       "         [0.51359312],\n",
       "         [0.09600904],\n",
       "         [0.09600904],\n",
       "         [0.08520506],\n",
       "         [0.08520506],\n",
       "         [0.56995541],\n",
       "         [0.56995541],\n",
       "         [0.40061105],\n",
       "         [0.40061105],\n",
       "         [0.85748365],\n",
       "         [0.85748365],\n",
       "         [0.96168561],\n",
       "         [0.96168561],\n",
       "         [0.65085128],\n",
       "         [0.65085128],\n",
       "         [0.10643395],\n",
       "         [0.10643395],\n",
       "         [0.14116816],\n",
       "         [0.14116816],\n",
       "         [0.14402884],\n",
       "         [0.14402884],\n",
       "         [0.92162358],\n",
       "         [0.92162358],\n",
       "         [0.15060423],\n",
       "         [0.15060423],\n",
       "         [0.03137627],\n",
       "         [0.03137627],\n",
       "         [0.59331791],\n",
       "         [0.59331791],\n",
       "         [0.52586305],\n",
       "         [0.52586305],\n",
       "         [0.27123336],\n",
       "         [0.27123336],\n",
       "         [0.42526291],\n",
       "         [0.42526291],\n",
       "         [0.02867929],\n",
       "         [0.02867929],\n",
       "         [0.6724857 ],\n",
       "         [0.6724857 ],\n",
       "         [0.68060843],\n",
       "         [0.68060843],\n",
       "         [0.22377059],\n",
       "         [0.22377059],\n",
       "         [0.83549288],\n",
       "         [0.83549288],\n",
       "         [0.4617723 ],\n",
       "         [0.4617723 ],\n",
       "         [0.83158564],\n",
       "         [0.83158564],\n",
       "         [0.99090807],\n",
       "         [0.99090807],\n",
       "         [0.6588196 ],\n",
       "         [0.6588196 ],\n",
       "         [0.36827436],\n",
       "         [0.36827436],\n",
       "         [0.66844313],\n",
       "         [0.66844313],\n",
       "         [0.72338346],\n",
       "         [0.72338346],\n",
       "         [0.49008409],\n",
       "         [0.49008409],\n",
       "         [0.05225686],\n",
       "         [0.05225686],\n",
       "         [0.3775696 ],\n",
       "         [0.3775696 ],\n",
       "         [0.72809573],\n",
       "         [0.72809573],\n",
       "         [0.85857155],\n",
       "         [0.85857155],\n",
       "         [0.27995706],\n",
       "         [0.27995706],\n",
       "         [0.58155752],\n",
       "         [0.58155752],\n",
       "         [0.98915513],\n",
       "         [0.98915513],\n",
       "         [0.02272341],\n",
       "         [0.02272341],\n",
       "         [0.72448069],\n",
       "         [0.72448069],\n",
       "         [0.57624005],\n",
       "         [0.57624005],\n",
       "         [0.69568096],\n",
       "         [0.69568096],\n",
       "         [0.14003731],\n",
       "         [0.14003731],\n",
       "         [0.84060454],\n",
       "         [0.84060454],\n",
       "         [0.66272444],\n",
       "         [0.66272444],\n",
       "         [0.06480923],\n",
       "         [0.06480923],\n",
       "         [0.43905616],\n",
       "         [0.43905616],\n",
       "         [0.30587919],\n",
       "         [0.30587919],\n",
       "         [0.71843286],\n",
       "         [0.71843286],\n",
       "         [0.72677727],\n",
       "         [0.72677727],\n",
       "         [0.14176476],\n",
       "         [0.14176476],\n",
       "         [0.56451125],\n",
       "         [0.56451125],\n",
       "         [0.5482188 ],\n",
       "         [0.5482188 ],\n",
       "         [0.13986704],\n",
       "         [0.13986704],\n",
       "         [0.79321164],\n",
       "         [0.79321164],\n",
       "         [0.62597707],\n",
       "         [0.62597707],\n",
       "         [0.35946465],\n",
       "         [0.35946465],\n",
       "         [0.8716624 ],\n",
       "         [0.8716624 ],\n",
       "         [0.15343755],\n",
       "         [0.15343755],\n",
       "         [0.8723002 ],\n",
       "         [0.8723002 ],\n",
       "         [0.23887637],\n",
       "         [0.23887637],\n",
       "         [0.97051934],\n",
       "         [0.97051934],\n",
       "         [0.00523555],\n",
       "         [0.00523555],\n",
       "         [0.60006887],\n",
       "         [0.60006887],\n",
       "         [0.66684754],\n",
       "         [0.66684754],\n",
       "         [0.54865137],\n",
       "         [0.54865137],\n",
       "         [0.75802172],\n",
       "         [0.75802172],\n",
       "         [0.08886198],\n",
       "         [0.08886198],\n",
       "         [0.71207638],\n",
       "         [0.71207638],\n",
       "         [0.50782558],\n",
       "         [0.50782558],\n",
       "         [0.00415051],\n",
       "         [0.00415051],\n",
       "         [0.94407305],\n",
       "         [0.94407305],\n",
       "         [0.37296009],\n",
       "         [0.37296009],\n",
       "         [0.92877982],\n",
       "         [0.92877982],\n",
       "         [0.16395693],\n",
       "         [0.16395693]])}}"
      ]
     },
     "execution_count": 1,
     "metadata": {},
     "output_type": "execute_result"
    }
   ],
   "source": [
    "ds = load_by_id(run_id_a)\n",
    "ds.get_parameter_data('x1')"
   ]
  },
  {
   "cell_type": "code",
   "execution_count": null,
   "metadata": {},
   "outputs": [],
   "source": []
  }
 ],
 "metadata": {
  "kernelspec": {
   "display_name": "Python 3",
   "language": "python",
   "name": "python3"
  },
  "language_info": {
   "codemirror_mode": {
    "name": "ipython",
    "version": 3
   },
   "file_extension": ".py",
   "mimetype": "text/x-python",
   "name": "python",
   "nbconvert_exporter": "python",
   "pygments_lexer": "ipython3",
   "version": "3.7.10"
  },
  "nbsphinx": {
   "timeout": 600
  },
  "toc": {
   "base_numbering": 1,
   "nav_menu": {},
   "number_sections": true,
   "sideBar": true,
   "skip_h1_title": false,
   "title_cell": "Table of Contents",
   "title_sidebar": "Contents",
   "toc_cell": false,
   "toc_position": {},
   "toc_section_display": true,
   "toc_window_display": false
  },
  "varInspector": {
   "cols": {
    "lenName": 16,
    "lenType": 16,
    "lenVar": 40
   },
   "kernels_config": {
    "python": {
     "delete_cmd_postfix": "",
     "delete_cmd_prefix": "del ",
     "library": "var_list.py",
     "varRefreshCmd": "print(var_dic_list())"
    },
    "r": {
     "delete_cmd_postfix": ") ",
     "delete_cmd_prefix": "rm(",
     "library": "var_list.r",
     "varRefreshCmd": "cat(var_dic_list()) "
    }
   },
   "types_to_exclude": [
    "module",
    "function",
    "builtin_function_or_method",
    "instance",
    "_Feature"
   ],
   "window_display": false
  }
 },
 "nbformat": 4,
 "nbformat_minor": 2
}
