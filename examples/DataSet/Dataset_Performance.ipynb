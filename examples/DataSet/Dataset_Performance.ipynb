{
 "cells": [
  {
   "cell_type": "markdown",
   "metadata": {},
   "source": [
    "# DataSet Performance\n",
    "\n",
    "This notebook shows the trade-off between inserting data into a database row-by-row and as binary blobs. Inserting the data row-by-row means that we have direct access to all the data and may perform queries directly on the values of the data. On the other hand, as we shall see, this is much slower than inserting the data directly as binary blobs."
   ]
  },
  {
   "cell_type": "markdown",
   "metadata": {},
   "source": [
    "First, we choose a new location for the database to ensure that we don't add a bunch of benchmarking data to the default one."
   ]
  },
  {
   "cell_type": "code",
   "execution_count": 1,
   "metadata": {
    "execution": {
     "iopub.execute_input": "2021-02-12T08:30:15.761836Z",
     "iopub.status.busy": "2021-02-12T08:30:15.761226Z",
     "iopub.status.idle": "2021-02-12T08:30:16.980116Z",
     "shell.execute_reply": "2021-02-12T08:30:16.979491Z"
    }
   },
   "outputs": [
    {
     "name": "stdout",
     "output_type": "stream",
     "text": [
      "Logging hadn't been started.\n",
      "Activating auto-logging. Current session state plus future input saved.\n",
      "Filename       : /home/vsts/.qcodes/logs/command_history.log\n",
      "Mode           : append\n",
      "Output logging : True\n",
      "Raw input log  : False\n",
      "Timestamping   : True\n",
      "State          : active\n"
     ]
    },
    {
     "name": "stdout",
     "output_type": "stream",
     "text": [
      "Qcodes Logfile : /home/vsts/.qcodes/logs/210212-7348-qcodes.log\n"
     ]
    }
   ],
   "source": [
    "import os\n",
    "cwd = os.getcwd()\n",
    "import qcodes as qc\n",
    "qc.config[\"core\"][\"db_location\"] = os.path.join(cwd, 'testing.db')\n"
   ]
  },
  {
   "cell_type": "code",
   "execution_count": 2,
   "metadata": {
    "execution": {
     "iopub.execute_input": "2021-02-12T08:30:16.988187Z",
     "iopub.status.busy": "2021-02-12T08:30:16.987163Z",
     "iopub.status.idle": "2021-02-12T08:30:17.206166Z",
     "shell.execute_reply": "2021-02-12T08:30:17.204903Z"
    }
   },
   "outputs": [],
   "source": [
    "%matplotlib inline\n",
    "import time\n",
    "import matplotlib.pyplot as plt\n",
    "import numpy as np\n",
    "\n",
    "import qcodes as qc\n",
    "from qcodes.instrument.parameter import ManualParameter\n",
    "from qcodes.dataset.experiment_container import (Experiment,\n",
    "                                                 load_last_experiment,\n",
    "                                                 new_experiment)\n",
    "from qcodes.dataset.sqlite.database import initialise_database\n",
    "from qcodes import load_or_create_experiment\n",
    "from qcodes.dataset.measurements import Measurement"
   ]
  },
  {
   "cell_type": "code",
   "execution_count": 3,
   "metadata": {
    "execution": {
     "iopub.execute_input": "2021-02-12T08:30:17.210644Z",
     "iopub.status.busy": "2021-02-12T08:30:17.209389Z",
     "iopub.status.idle": "2021-02-12T08:30:17.354047Z",
     "shell.execute_reply": "2021-02-12T08:30:17.352783Z"
    }
   },
   "outputs": [
    {
     "name": "stdout",
     "output_type": "stream",
     "text": [
      "\r",
      "0it [00:00, ?it/s]"
     ]
    },
    {
     "name": "stdout",
     "output_type": "stream",
     "text": [
      "\r",
      "Upgrading database; v0 -> v1: : 0it [00:00, ?it/s]"
     ]
    },
    {
     "name": "stdout",
     "output_type": "stream",
     "text": [
      "\r",
      "Upgrading database; v0 -> v1: : 0it [00:00, ?it/s]"
     ]
    },
    {
     "name": "stdout",
     "output_type": "stream",
     "text": [
      "\n",
      "\r",
      "  0%|          | 0/1 [00:00<?, ?it/s]"
     ]
    },
    {
     "name": "stdout",
     "output_type": "stream",
     "text": [
      "\r",
      "Upgrading database; v1 -> v2:   0%|          | 0/1 [00:00<?, ?it/s]"
     ]
    },
    {
     "name": "stdout",
     "output_type": "stream",
     "text": [
      "\r",
      "Upgrading database; v1 -> v2: 100%|██████████| 1/1 [00:00<00:00, 323.98it/s]"
     ]
    },
    {
     "name": "stdout",
     "output_type": "stream",
     "text": [
      "\n",
      "\r",
      "0it [00:00, ?it/s]"
     ]
    },
    {
     "name": "stdout",
     "output_type": "stream",
     "text": [
      "\r",
      "Upgrading database; v2 -> v3: : 0it [00:00, ?it/s]"
     ]
    },
    {
     "name": "stdout",
     "output_type": "stream",
     "text": [
      "\r",
      "Upgrading database; v2 -> v3: : 0it [00:00, ?it/s]"
     ]
    },
    {
     "name": "stdout",
     "output_type": "stream",
     "text": [
      "\n",
      "\r",
      "0it [00:00, ?it/s]"
     ]
    },
    {
     "name": "stdout",
     "output_type": "stream",
     "text": [
      "\r",
      "Upgrading database; v3 -> v4: : 0it [00:00, ?it/s]"
     ]
    },
    {
     "name": "stdout",
     "output_type": "stream",
     "text": [
      "\r",
      "Upgrading database; v3 -> v4: : 0it [00:00, ?it/s]"
     ]
    },
    {
     "name": "stdout",
     "output_type": "stream",
     "text": [
      "\n",
      "\r",
      "  0%|          | 0/1 [00:00<?, ?it/s]"
     ]
    },
    {
     "name": "stdout",
     "output_type": "stream",
     "text": [
      "\r",
      "Upgrading database; v4 -> v5:   0%|          | 0/1 [00:00<?, ?it/s]"
     ]
    },
    {
     "name": "stdout",
     "output_type": "stream",
     "text": [
      "\r",
      "Upgrading database; v4 -> v5: 100%|██████████| 1/1 [00:00<00:00, 464.02it/s]"
     ]
    },
    {
     "name": "stdout",
     "output_type": "stream",
     "text": [
      "\n",
      "\r",
      "0it [00:00, ?it/s]"
     ]
    },
    {
     "name": "stdout",
     "output_type": "stream",
     "text": [
      "\r",
      "Upgrading database; v5 -> v6: : 0it [00:00, ?it/s]"
     ]
    },
    {
     "name": "stdout",
     "output_type": "stream",
     "text": [
      "\r",
      "Upgrading database; v5 -> v6: : 0it [00:00, ?it/s]"
     ]
    },
    {
     "name": "stdout",
     "output_type": "stream",
     "text": [
      "\n",
      "\r",
      "  0%|          | 0/1 [00:00<?, ?it/s]"
     ]
    },
    {
     "name": "stdout",
     "output_type": "stream",
     "text": [
      "\r",
      "Upgrading database; v6 -> v7:   0%|          | 0/1 [00:00<?, ?it/s]"
     ]
    },
    {
     "name": "stdout",
     "output_type": "stream",
     "text": [
      "\r",
      "Upgrading database; v6 -> v7: 100%|██████████| 1/1 [00:00<00:00, 362.83it/s]"
     ]
    },
    {
     "name": "stdout",
     "output_type": "stream",
     "text": [
      "\n",
      "\r",
      "  0%|          | 0/1 [00:00<?, ?it/s]"
     ]
    },
    {
     "name": "stdout",
     "output_type": "stream",
     "text": [
      "\r",
      "Upgrading database; v7 -> v8:   0%|          | 0/1 [00:00<?, ?it/s]"
     ]
    },
    {
     "name": "stdout",
     "output_type": "stream",
     "text": [
      "\r",
      "Upgrading database; v7 -> v8: 100%|██████████| 1/1 [00:00<00:00, 440.49it/s]"
     ]
    },
    {
     "name": "stdout",
     "output_type": "stream",
     "text": [
      "\n",
      "\r",
      "  0%|          | 0/1 [00:00<?, ?it/s]"
     ]
    },
    {
     "name": "stdout",
     "output_type": "stream",
     "text": [
      "\r",
      "Upgrading database; v8 -> v9:   0%|          | 0/1 [00:00<?, ?it/s]"
     ]
    },
    {
     "name": "stdout",
     "output_type": "stream",
     "text": [
      "\r",
      "Upgrading database; v8 -> v9: 100%|██████████| 1/1 [00:00<00:00, 928.56it/s]"
     ]
    },
    {
     "name": "stdout",
     "output_type": "stream",
     "text": [
      "\n"
     ]
    }
   ],
   "source": [
    "initialise_database()\n",
    "exp = load_or_create_experiment(experiment_name='tutorial_exp', sample_name=\"no sample\")"
   ]
  },
  {
   "cell_type": "markdown",
   "metadata": {},
   "source": [
    "Here, we define a simple function to benchmark the time it takes to insert n points with either numeric or array data type.\n",
    "We will compare both the time used to call ``add_result`` and the time used for the full measurement."
   ]
  },
  {
   "cell_type": "code",
   "execution_count": 4,
   "metadata": {
    "execution": {
     "iopub.execute_input": "2021-02-12T08:30:17.365566Z",
     "iopub.status.busy": "2021-02-12T08:30:17.364763Z",
     "iopub.status.idle": "2021-02-12T08:30:17.370104Z",
     "shell.execute_reply": "2021-02-12T08:30:17.370834Z"
    }
   },
   "outputs": [],
   "source": [
    "def insert_data(paramtype, npoints, nreps=1):\n",
    "\n",
    "    meas = Measurement(exp=exp)\n",
    "\n",
    "    x1 = ManualParameter('x1')\n",
    "    x2 = ManualParameter('x2')\n",
    "    x3 = ManualParameter('x3')\n",
    "    y1 = ManualParameter('y1')\n",
    "    y2 = ManualParameter('y2')\n",
    "\n",
    "    meas.register_parameter(x1, paramtype=paramtype)\n",
    "    meas.register_parameter(x2, paramtype=paramtype)\n",
    "    meas.register_parameter(x3, paramtype=paramtype)\n",
    "    meas.register_parameter(y1, setpoints=[x1, x2, x3],\n",
    "                            paramtype=paramtype)\n",
    "    meas.register_parameter(y2, setpoints=[x1, x2, x3],\n",
    "                            paramtype=paramtype)\n",
    "    start = time.perf_counter()\n",
    "    with meas.run() as datasaver:\n",
    "        start_adding = time.perf_counter()\n",
    "        for i in range(nreps):\n",
    "            datasaver.add_result((x1, np.random.rand(npoints)),\n",
    "                                 (x2, np.random.rand(npoints)),\n",
    "                                 (x3, np.random.rand(npoints)),\n",
    "                                 (y1, np.random.rand(npoints)),\n",
    "                                 (y2, np.random.rand(npoints)))\n",
    "        stop_adding = time.perf_counter()\n",
    "        run_id = datasaver.run_id\n",
    "    stop = time.perf_counter()\n",
    "    tot_time = stop - start\n",
    "    add_time = stop_adding - start_adding\n",
    "    return tot_time, add_time, run_id"
   ]
  },
  {
   "cell_type": "markdown",
   "metadata": {},
   "source": [
    "## Comparison between numeric/array data and binary blob"
   ]
  },
  {
   "cell_type": "markdown",
   "metadata": {},
   "source": [
    "### Case1: Short experiment time"
   ]
  },
  {
   "cell_type": "code",
   "execution_count": 5,
   "metadata": {
    "execution": {
     "iopub.execute_input": "2021-02-12T08:30:17.380721Z",
     "iopub.status.busy": "2021-02-12T08:30:17.379760Z",
     "iopub.status.idle": "2021-02-12T08:30:18.273796Z",
     "shell.execute_reply": "2021-02-12T08:30:18.272686Z"
    }
   },
   "outputs": [
    {
     "name": "stdout",
     "output_type": "stream",
     "text": [
      "Starting experimental run with id: 1. \n",
      "Starting experimental run with id: 2. \n",
      "Starting experimental run with id: 3. \n"
     ]
    },
    {
     "name": "stdout",
     "output_type": "stream",
     "text": [
      "Starting experimental run with id: 4. \n"
     ]
    },
    {
     "name": "stdout",
     "output_type": "stream",
     "text": [
      "Starting experimental run with id: 5. \n"
     ]
    },
    {
     "name": "stdout",
     "output_type": "stream",
     "text": [
      "Starting experimental run with id: 6. \n",
      "Starting experimental run with id: 7. \n"
     ]
    },
    {
     "name": "stdout",
     "output_type": "stream",
     "text": [
      "Starting experimental run with id: 8. \n"
     ]
    },
    {
     "name": "stdout",
     "output_type": "stream",
     "text": [
      "Starting experimental run with id: 9. \n"
     ]
    },
    {
     "name": "stdout",
     "output_type": "stream",
     "text": [
      "Starting experimental run with id: 10. \n",
      "Starting experimental run with id: 11. \n"
     ]
    },
    {
     "name": "stdout",
     "output_type": "stream",
     "text": [
      "Starting experimental run with id: 12. \n"
     ]
    },
    {
     "name": "stdout",
     "output_type": "stream",
     "text": [
      "Starting experimental run with id: 13. \n"
     ]
    },
    {
     "name": "stdout",
     "output_type": "stream",
     "text": [
      "Starting experimental run with id: 14. \n"
     ]
    }
   ],
   "source": [
    "sizes = [1,500,1000,2000,3000,4000,5000]\n",
    "t_numeric = []\n",
    "t_numeric_add = []\n",
    "t_array = []\n",
    "t_array_add = []\n",
    "for size in sizes:\n",
    "    tn, tna, run_id_n =  insert_data('numeric', size)\n",
    "    t_numeric.append(tn)\n",
    "    t_numeric_add.append(tna)\n",
    "\n",
    "    ta, taa, run_id_a =  insert_data('array', size)\n",
    "    t_array.append(ta)\n",
    "    t_array_add.append(taa)"
   ]
  },
  {
   "cell_type": "code",
   "execution_count": 6,
   "metadata": {
    "execution": {
     "iopub.execute_input": "2021-02-12T08:30:18.295603Z",
     "iopub.status.busy": "2021-02-12T08:30:18.293385Z",
     "iopub.status.idle": "2021-02-12T08:30:18.530509Z",
     "shell.execute_reply": "2021-02-12T08:30:18.529496Z"
    }
   },
   "outputs": [
    {
     "data": {
      "image/png": "[encoded data removed]",
      "text/plain": [
       "<Figure size 432x288 with 1 Axes>"
      ]
     },
     "metadata": {
      "needs_background": "light"
     },
     "output_type": "display_data"
    }
   ],
   "source": [
    "fig, ax = plt.subplots(1,1)\n",
    "ax.plot(sizes, t_numeric, 'o-', label='Inserting row-by-row')\n",
    "ax.plot(sizes, t_numeric_add, 'o-', label='Inserting row-by-row: add_result only')\n",
    "ax.plot(sizes, t_array, 'd-', label='Inserting as binary blob')\n",
    "ax.plot(sizes, t_array_add, 'd-', label='Inserting as binary blob: add_result only')\n",
    "ax.legend()\n",
    "ax.set_xlabel('Array length')\n",
    "ax.set_ylabel('Time (s)')\n",
    "fig.tight_layout()"
   ]
  },
  {
   "cell_type": "markdown",
   "metadata": {},
   "source": [
    "As shown in the latter figure, the time to setup and and close the experiment is approximately 0.4 sec. In case of small array sizes, the difference between inserting values of data as arrays and inserting them row-by-row is relatively unimportant. At larger array sizes, i.e. above 10000 points, the cost of writing data as individual datapoints starts to become important.\n"
   ]
  },
  {
   "cell_type": "markdown",
   "metadata": {},
   "source": [
    "### Case2: Long experiment time "
   ]
  },
  {
   "cell_type": "code",
   "execution_count": 7,
   "metadata": {
    "execution": {
     "iopub.execute_input": "2021-02-12T08:30:18.539394Z",
     "iopub.status.busy": "2021-02-12T08:30:18.538328Z",
     "iopub.status.idle": "2021-02-12T08:31:21.226873Z",
     "shell.execute_reply": "2021-02-12T08:31:21.227455Z"
    }
   },
   "outputs": [
    {
     "name": "stdout",
     "output_type": "stream",
     "text": [
      "Starting experimental run with id: 15. \n",
      "Starting experimental run with id: 16. \n"
     ]
    },
    {
     "name": "stdout",
     "output_type": "stream",
     "text": [
      "Starting experimental run with id: 17. \n"
     ]
    },
    {
     "name": "stdout",
     "output_type": "stream",
     "text": [
      "Starting experimental run with id: 18. \n"
     ]
    },
    {
     "name": "stdout",
     "output_type": "stream",
     "text": [
      "Starting experimental run with id: 19. \n"
     ]
    },
    {
     "name": "stdout",
     "output_type": "stream",
     "text": [
      "Starting experimental run with id: 20. \n"
     ]
    },
    {
     "name": "stdout",
     "output_type": "stream",
     "text": [
      "Starting experimental run with id: 21. \n"
     ]
    },
    {
     "name": "stdout",
     "output_type": "stream",
     "text": [
      "Starting experimental run with id: 22. \n"
     ]
    },
    {
     "name": "stdout",
     "output_type": "stream",
     "text": [
      "Starting experimental run with id: 23. \n"
     ]
    },
    {
     "name": "stdout",
     "output_type": "stream",
     "text": [
      "Starting experimental run with id: 24. \n"
     ]
    },
    {
     "name": "stdout",
     "output_type": "stream",
     "text": [
      "Starting experimental run with id: 25. \n"
     ]
    },
    {
     "name": "stdout",
     "output_type": "stream",
     "text": [
      "Starting experimental run with id: 26. \n"
     ]
    },
    {
     "name": "stdout",
     "output_type": "stream",
     "text": [
      "Starting experimental run with id: 27. \n"
     ]
    },
    {
     "name": "stdout",
     "output_type": "stream",
     "text": [
      "Starting experimental run with id: 28. \n"
     ]
    }
   ],
   "source": [
    "sizes = [1,500,1000,2000,3000,4000,5000]\n",
    "nreps = 100\n",
    "t_numeric = []\n",
    "t_numeric_add = []\n",
    "t_numeric_run_ids = []\n",
    "t_array = []\n",
    "t_array_add = []\n",
    "t_array_run_ids = []\n",
    "for size in sizes:\n",
    "    tn, tna, run_id_n =  insert_data('numeric', size, nreps=nreps)\n",
    "    t_numeric.append(tn)\n",
    "    t_numeric_add.append(tna)\n",
    "    t_numeric_run_ids.append(run_id_n)\n",
    "\n",
    "    ta, taa, run_id_a =  insert_data('array', size, nreps=nreps)\n",
    "    t_array.append(ta)\n",
    "    t_array_add.append(taa)\n",
    "    t_array_run_ids.append(run_id_a)"
   ]
  },
  {
   "cell_type": "code",
   "execution_count": 8,
   "metadata": {
    "execution": {
     "iopub.execute_input": "2021-02-12T08:31:21.262945Z",
     "iopub.status.busy": "2021-02-12T08:31:21.252162Z",
     "iopub.status.idle": "2021-02-12T08:31:21.515678Z",
     "shell.execute_reply": "2021-02-12T08:31:21.514589Z"
    },
    "scrolled": true
   },
   "outputs": [
    {
     "data": {
      "image/png": "[encoded data removed]",
      "text/plain": [
       "<Figure size 432x288 with 1 Axes>"
      ]
     },
     "metadata": {
      "needs_background": "light"
     },
     "output_type": "display_data"
    }
   ],
   "source": [
    "fig, ax = plt.subplots(1,1)\n",
    "ax.plot(sizes, t_numeric, 'o-', label='Inserting row-by-row')\n",
    "ax.plot(sizes, t_numeric_add, 'o-', label='Inserting row-by-row: add_result only')\n",
    "ax.plot(sizes, t_array, 'd-', label='Inserting as binary blob')\n",
    "ax.plot(sizes, t_array_add, 'd-', label='Inserting as binary blob: add_result only')\n",
    "ax.legend()\n",
    "ax.set_xlabel('Array length')\n",
    "ax.set_ylabel('Time (s)')\n",
    "fig.tight_layout()"
   ]
  },
  {
   "cell_type": "markdown",
   "metadata": {},
   "source": [
    "However, as we increase the length of the experiment, as seen here by repeating the insertion 100 times, we see a big difference between inserting values of the data row-by-row and inserting it as a binary blob."
   ]
  },
  {
   "cell_type": "markdown",
   "metadata": {},
   "source": [
    "## Loading the data "
   ]
  },
  {
   "cell_type": "code",
   "execution_count": 9,
   "metadata": {
    "execution": {
     "iopub.execute_input": "2021-02-12T08:31:21.521361Z",
     "iopub.status.busy": "2021-02-12T08:31:21.520672Z",
     "iopub.status.idle": "2021-02-12T08:31:21.523152Z",
     "shell.execute_reply": "2021-02-12T08:31:21.523925Z"
    }
   },
   "outputs": [],
   "source": [
    "from qcodes.dataset.data_set import load_by_id\n",
    "from qcodes.dataset.data_export import get_data_by_id"
   ]
  },
  {
   "cell_type": "markdown",
   "metadata": {},
   "source": [
    "As usual you can load the data by using the ``load_by_id`` function but you will notice that the different storage methods\n",
    "are reflected in shape of the data as it is retrieved. "
   ]
  },
  {
   "cell_type": "code",
   "execution_count": 10,
   "metadata": {
    "execution": {
     "iopub.execute_input": "2021-02-12T08:31:21.530907Z",
     "iopub.status.busy": "2021-02-12T08:31:21.529644Z",
     "iopub.status.idle": "2021-02-12T08:31:21.532859Z",
     "shell.execute_reply": "2021-02-12T08:31:21.533385Z"
    }
   },
   "outputs": [],
   "source": [
    "run_id_n = t_numeric_run_ids[0]\n",
    "run_id_a = t_array_run_ids[0]"
   ]
  },
  {
   "cell_type": "code",
   "execution_count": 11,
   "metadata": {
    "execution": {
     "iopub.execute_input": "2021-02-12T08:31:21.538473Z",
     "iopub.status.busy": "2021-02-12T08:31:21.537844Z",
     "iopub.status.idle": "2021-02-12T08:31:21.553671Z",
     "shell.execute_reply": "2021-02-12T08:31:21.554257Z"
    },
    "scrolled": true
   },
   "outputs": [
    {
     "data": {
      "text/plain": [
       "{'x1': {'x1': array([0.2375608 , 0.2375608 , 0.23287207, 0.23287207, 0.44251552,\n",
       "         0.44251552, 0.68267982, 0.68267982, 0.35769636, 0.35769636,\n",
       "         0.8676518 , 0.8676518 , 0.90115481, 0.90115481, 0.91604461,\n",
       "         0.91604461, 0.01293619, 0.01293619, 0.72886342, 0.72886342,\n",
       "         0.433683  , 0.433683  , 0.20550556, 0.20550556, 0.81626666,\n",
       "         0.81626666, 0.79992855, 0.79992855, 0.17722544, 0.17722544,\n",
       "         0.35705596, 0.35705596, 0.1673522 , 0.1673522 , 0.86192723,\n",
       "         0.86192723, 0.3023346 , 0.3023346 , 0.94218832, 0.94218832,\n",
       "         0.85242526, 0.85242526, 0.01284401, 0.01284401, 0.28315048,\n",
       "         0.28315048, 0.77650347, 0.77650347, 0.14894094, 0.14894094,\n",
       "         0.07768001, 0.07768001, 0.62660963, 0.62660963, 0.07406955,\n",
       "         0.07406955, 0.96107939, 0.96107939, 0.9224223 , 0.9224223 ,\n",
       "         0.64274104, 0.64274104, 0.24688055, 0.24688055, 0.46940101,\n",
       "         0.46940101, 0.30373393, 0.30373393, 0.05986817, 0.05986817,\n",
       "         0.52204851, 0.52204851, 0.72163669, 0.72163669, 0.13767197,\n",
       "         0.13767197, 0.76621112, 0.76621112, 0.2972757 , 0.2972757 ,\n",
       "         0.53551833, 0.53551833, 0.95201931, 0.95201931, 0.19484565,\n",
       "         0.19484565, 0.16266361, 0.16266361, 0.87435561, 0.87435561,\n",
       "         0.05054448, 0.05054448, 0.67451827, 0.67451827, 0.75808262,\n",
       "         0.75808262, 0.23942077, 0.23942077, 0.99314957, 0.99314957,\n",
       "         0.17300705, 0.17300705, 0.54211341, 0.54211341, 0.13104788,\n",
       "         0.13104788, 0.60808471, 0.60808471, 0.53680854, 0.53680854,\n",
       "         0.01700055, 0.01700055, 0.25862888, 0.25862888, 0.6096891 ,\n",
       "         0.6096891 , 0.84151375, 0.84151375, 0.50037799, 0.50037799,\n",
       "         0.23916507, 0.23916507, 0.6850177 , 0.6850177 , 0.79440901,\n",
       "         0.79440901, 0.69516434, 0.69516434, 0.76202635, 0.76202635,\n",
       "         0.29829285, 0.29829285, 0.4899244 , 0.4899244 , 0.13483243,\n",
       "         0.13483243, 0.50549186, 0.50549186, 0.58043831, 0.58043831,\n",
       "         0.48479816, 0.48479816, 0.95810738, 0.95810738, 0.87439761,\n",
       "         0.87439761, 0.87970199, 0.87970199, 0.65878671, 0.65878671,\n",
       "         0.16741483, 0.16741483, 0.25639217, 0.25639217, 0.94297405,\n",
       "         0.94297405, 0.04429567, 0.04429567, 0.59778742, 0.59778742,\n",
       "         0.5954854 , 0.5954854 , 0.25840263, 0.25840263, 0.70700675,\n",
       "         0.70700675, 0.21942113, 0.21942113, 0.63455925, 0.63455925,\n",
       "         0.69807144, 0.69807144, 0.0406242 , 0.0406242 , 0.0617708 ,\n",
       "         0.0617708 , 0.97244735, 0.97244735, 0.10231955, 0.10231955,\n",
       "         0.24654135, 0.24654135, 0.07921407, 0.07921407, 0.56932008,\n",
       "         0.56932008, 0.86546891, 0.86546891, 0.4514264 , 0.4514264 ,\n",
       "         0.1066992 , 0.1066992 , 0.54856985, 0.54856985, 0.14662216,\n",
       "         0.14662216, 0.9367998 , 0.9367998 , 0.79144394, 0.79144394])}}"
      ]
     },
     "execution_count": 1,
     "metadata": {},
     "output_type": "execute_result"
    }
   ],
   "source": [
    "ds = load_by_id(run_id_n)\n",
    "ds.get_parameter_data('x1')"
   ]
  },
  {
   "cell_type": "markdown",
   "metadata": {},
   "source": [
    "And a dataset stored as binary arrays"
   ]
  },
  {
   "cell_type": "code",
   "execution_count": 12,
   "metadata": {
    "execution": {
     "iopub.execute_input": "2021-02-12T08:31:21.559680Z",
     "iopub.status.busy": "2021-02-12T08:31:21.558818Z",
     "iopub.status.idle": "2021-02-12T08:31:21.648091Z",
     "shell.execute_reply": "2021-02-12T08:31:21.648705Z"
    },
    "scrolled": true
   },
   "outputs": [
    {
     "data": {
      "text/plain": [
       "{'x1': {'x1': array([[0.21733678],\n",
       "         [0.21733678],\n",
       "         [0.13030094],\n",
       "         [0.13030094],\n",
       "         [0.44798667],\n",
       "         [0.44798667],\n",
       "         [0.44408192],\n",
       "         [0.44408192],\n",
       "         [0.18356065],\n",
       "         [0.18356065],\n",
       "         [0.38307885],\n",
       "         [0.38307885],\n",
       "         [0.78583254],\n",
       "         [0.78583254],\n",
       "         [0.28851768],\n",
       "         [0.28851768],\n",
       "         [0.08424442],\n",
       "         [0.08424442],\n",
       "         [0.40159012],\n",
       "         [0.40159012],\n",
       "         [0.58625338],\n",
       "         [0.58625338],\n",
       "         [0.41540881],\n",
       "         [0.41540881],\n",
       "         [0.87676461],\n",
       "         [0.87676461],\n",
       "         [0.66311322],\n",
       "         [0.66311322],\n",
       "         [0.72760191],\n",
       "         [0.72760191],\n",
       "         [0.331126  ],\n",
       "         [0.331126  ],\n",
       "         [0.05614501],\n",
       "         [0.05614501],\n",
       "         [0.54579521],\n",
       "         [0.54579521],\n",
       "         [0.11747721],\n",
       "         [0.11747721],\n",
       "         [0.28643802],\n",
       "         [0.28643802],\n",
       "         [0.26084312],\n",
       "         [0.26084312],\n",
       "         [0.92291919],\n",
       "         [0.92291919],\n",
       "         [0.50834854],\n",
       "         [0.50834854],\n",
       "         [0.07579151],\n",
       "         [0.07579151],\n",
       "         [0.20167417],\n",
       "         [0.20167417],\n",
       "         [0.25901955],\n",
       "         [0.25901955],\n",
       "         [0.9300646 ],\n",
       "         [0.9300646 ],\n",
       "         [0.1298851 ],\n",
       "         [0.1298851 ],\n",
       "         [0.57063413],\n",
       "         [0.57063413],\n",
       "         [0.57620161],\n",
       "         [0.57620161],\n",
       "         [0.28161523],\n",
       "         [0.28161523],\n",
       "         [0.63216616],\n",
       "         [0.63216616],\n",
       "         [0.65740318],\n",
       "         [0.65740318],\n",
       "         [0.85321637],\n",
       "         [0.85321637],\n",
       "         [0.04688578],\n",
       "         [0.04688578],\n",
       "         [0.17851709],\n",
       "         [0.17851709],\n",
       "         [0.35511271],\n",
       "         [0.35511271],\n",
       "         [0.47289618],\n",
       "         [0.47289618],\n",
       "         [0.75750958],\n",
       "         [0.75750958],\n",
       "         [0.73019059],\n",
       "         [0.73019059],\n",
       "         [0.73382762],\n",
       "         [0.73382762],\n",
       "         [0.09960243],\n",
       "         [0.09960243],\n",
       "         [0.10014832],\n",
       "         [0.10014832],\n",
       "         [0.0341058 ],\n",
       "         [0.0341058 ],\n",
       "         [0.72473322],\n",
       "         [0.72473322],\n",
       "         [0.89691656],\n",
       "         [0.89691656],\n",
       "         [0.60218976],\n",
       "         [0.60218976],\n",
       "         [0.54016703],\n",
       "         [0.54016703],\n",
       "         [0.40646213],\n",
       "         [0.40646213],\n",
       "         [0.68224839],\n",
       "         [0.68224839],\n",
       "         [0.79238119],\n",
       "         [0.79238119],\n",
       "         [0.75469536],\n",
       "         [0.75469536],\n",
       "         [0.48852306],\n",
       "         [0.48852306],\n",
       "         [0.86930085],\n",
       "         [0.86930085],\n",
       "         [0.08785921],\n",
       "         [0.08785921],\n",
       "         [0.88832908],\n",
       "         [0.88832908],\n",
       "         [0.15473374],\n",
       "         [0.15473374],\n",
       "         [0.36194907],\n",
       "         [0.36194907],\n",
       "         [0.28954056],\n",
       "         [0.28954056],\n",
       "         [0.57586806],\n",
       "         [0.57586806],\n",
       "         [0.84021929],\n",
       "         [0.84021929],\n",
       "         [0.36683413],\n",
       "         [0.36683413],\n",
       "         [0.25296052],\n",
       "         [0.25296052],\n",
       "         [0.26338713],\n",
       "         [0.26338713],\n",
       "         [0.35072481],\n",
       "         [0.35072481],\n",
       "         [0.31088999],\n",
       "         [0.31088999],\n",
       "         [0.34720303],\n",
       "         [0.34720303],\n",
       "         [0.0096173 ],\n",
       "         [0.0096173 ],\n",
       "         [0.02986728],\n",
       "         [0.02986728],\n",
       "         [0.17784948],\n",
       "         [0.17784948],\n",
       "         [0.73913786],\n",
       "         [0.73913786],\n",
       "         [0.61198625],\n",
       "         [0.61198625],\n",
       "         [0.6419187 ],\n",
       "         [0.6419187 ],\n",
       "         [0.96036297],\n",
       "         [0.96036297],\n",
       "         [0.69935527],\n",
       "         [0.69935527],\n",
       "         [0.76061608],\n",
       "         [0.76061608],\n",
       "         [0.75541299],\n",
       "         [0.75541299],\n",
       "         [0.49423587],\n",
       "         [0.49423587],\n",
       "         [0.40116914],\n",
       "         [0.40116914],\n",
       "         [0.84305014],\n",
       "         [0.84305014],\n",
       "         [0.94897981],\n",
       "         [0.94897981],\n",
       "         [0.02858694],\n",
       "         [0.02858694],\n",
       "         [0.06135676],\n",
       "         [0.06135676],\n",
       "         [0.61484097],\n",
       "         [0.61484097],\n",
       "         [0.0193047 ],\n",
       "         [0.0193047 ],\n",
       "         [0.47593149],\n",
       "         [0.47593149],\n",
       "         [0.47121929],\n",
       "         [0.47121929],\n",
       "         [0.91968965],\n",
       "         [0.91968965],\n",
       "         [0.28750802],\n",
       "         [0.28750802],\n",
       "         [0.03772418],\n",
       "         [0.03772418],\n",
       "         [0.94420934],\n",
       "         [0.94420934],\n",
       "         [0.43520069],\n",
       "         [0.43520069],\n",
       "         [0.51488319],\n",
       "         [0.51488319],\n",
       "         [0.48656681],\n",
       "         [0.48656681],\n",
       "         [0.9780967 ],\n",
       "         [0.9780967 ],\n",
       "         [0.1275118 ],\n",
       "         [0.1275118 ],\n",
       "         [0.89779099],\n",
       "         [0.89779099],\n",
       "         [0.37617288],\n",
       "         [0.37617288],\n",
       "         [0.00631339],\n",
       "         [0.00631339],\n",
       "         [0.66767866],\n",
       "         [0.66767866]])}}"
      ]
     },
     "execution_count": 1,
     "metadata": {},
     "output_type": "execute_result"
    }
   ],
   "source": [
    "ds = load_by_id(run_id_a)\n",
    "ds.get_parameter_data('x1')"
   ]
  },
  {
   "cell_type": "code",
   "execution_count": null,
   "metadata": {},
   "outputs": [],
   "source": []
  }
 ],
 "metadata": {
  "kernelspec": {
   "display_name": "Python 3",
   "language": "python",
   "name": "python3"
  },
  "language_info": {
   "codemirror_mode": {
    "name": "ipython",
    "version": 3
   },
   "file_extension": ".py",
   "mimetype": "text/x-python",
   "name": "python",
   "nbconvert_exporter": "python",
   "pygments_lexer": "ipython3",
   "version": "3.7.9"
  },
  "nbsphinx": {
   "timeout": 600
  },
  "toc": {
   "base_numbering": 1,
   "nav_menu": {},
   "number_sections": true,
   "sideBar": true,
   "skip_h1_title": false,
   "title_cell": "Table of Contents",
   "title_sidebar": "Contents",
   "toc_cell": false,
   "toc_position": {},
   "toc_section_display": true,
   "toc_window_display": false
  },
  "varInspector": {
   "cols": {
    "lenName": 16,
    "lenType": 16,
    "lenVar": 40
   },
   "kernels_config": {
    "python": {
     "delete_cmd_postfix": "",
     "delete_cmd_prefix": "del ",
     "library": "var_list.py",
     "varRefreshCmd": "print(var_dic_list())"
    },
    "r": {
     "delete_cmd_postfix": ") ",
     "delete_cmd_prefix": "rm(",
     "library": "var_list.r",
     "varRefreshCmd": "cat(var_dic_list()) "
    }
   },
   "types_to_exclude": [
    "module",
    "function",
    "builtin_function_or_method",
    "instance",
    "_Feature"
   ],
   "window_display": false
  }
 },
 "nbformat": 4,
 "nbformat_minor": 2
}
