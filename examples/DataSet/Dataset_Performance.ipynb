{
 "cells": [
  {
   "cell_type": "markdown",
   "metadata": {},
   "source": [
    "# DataSet Performance\n",
    "\n",
    "This notebook shows the trade-off between inserting data into a database row-by-row and as binary blobs. Inserting the data row-by-row means that we have direct access to all the data and may perform queries directly on the values of the data. On the other hand, as we shall see, this is much slower than inserting the data directly as binary blobs."
   ]
  },
  {
   "cell_type": "markdown",
   "metadata": {},
   "source": [
    "First, we choose a new location for the database to ensure that we don't add a bunch of benchmarking data to the default one."
   ]
  },
  {
   "cell_type": "code",
   "execution_count": 1,
   "metadata": {
    "execution": {
     "iopub.execute_input": "2021-01-11T10:39:47.965830Z",
     "iopub.status.busy": "2021-01-11T10:39:47.965338Z",
     "iopub.status.idle": "2021-01-11T10:39:48.866280Z",
     "shell.execute_reply": "2021-01-11T10:39:48.866694Z"
    }
   },
   "outputs": [
    {
     "name": "stdout",
     "output_type": "stream",
     "text": [
      "Logging hadn't been started.\n",
      "Activating auto-logging. Current session state plus future input saved.\n",
      "Filename       : /home/vsts/.qcodes/logs/command_history.log\n",
      "Mode           : append\n",
      "Output logging : True\n",
      "Raw input log  : False\n",
      "Timestamping   : True\n",
      "State          : active\n"
     ]
    },
    {
     "name": "stdout",
     "output_type": "stream",
     "text": [
      "Qcodes Logfile : /home/vsts/.qcodes/logs/210111-13523-qcodes.log\n"
     ]
    }
   ],
   "source": [
    "import os\n",
    "cwd = os.getcwd()\n",
    "import qcodes as qc\n",
    "qc.config[\"core\"][\"db_location\"] = os.path.join(cwd, 'testing.db')\n"
   ]
  },
  {
   "cell_type": "code",
   "execution_count": 2,
   "metadata": {
    "execution": {
     "iopub.execute_input": "2021-01-11T10:39:48.872884Z",
     "iopub.status.busy": "2021-01-11T10:39:48.871618Z",
     "iopub.status.idle": "2021-01-11T10:39:49.029071Z",
     "shell.execute_reply": "2021-01-11T10:39:49.028579Z"
    }
   },
   "outputs": [],
   "source": [
    "%matplotlib inline\n",
    "import time\n",
    "import matplotlib.pyplot as plt\n",
    "import numpy as np\n",
    "\n",
    "import qcodes as qc\n",
    "from qcodes.instrument.parameter import ManualParameter\n",
    "from qcodes.dataset.experiment_container import (Experiment,\n",
    "                                                 load_last_experiment,\n",
    "                                                 new_experiment)\n",
    "from qcodes.dataset.sqlite.database import initialise_database\n",
    "from qcodes import load_or_create_experiment\n",
    "from qcodes.dataset.measurements import Measurement"
   ]
  },
  {
   "cell_type": "code",
   "execution_count": 3,
   "metadata": {
    "execution": {
     "iopub.execute_input": "2021-01-11T10:39:49.032724Z",
     "iopub.status.busy": "2021-01-11T10:39:49.031984Z",
     "iopub.status.idle": "2021-01-11T10:39:49.116546Z",
     "shell.execute_reply": "2021-01-11T10:39:49.116074Z"
    }
   },
   "outputs": [
    {
     "name": "stdout",
     "output_type": "stream",
     "text": [
      "\r",
      "0it [00:00, ?it/s]"
     ]
    },
    {
     "name": "stdout",
     "output_type": "stream",
     "text": [
      "\r",
      "Upgrading database; v0 -> v1: : 0it [00:00, ?it/s]"
     ]
    },
    {
     "name": "stdout",
     "output_type": "stream",
     "text": [
      "\r",
      "Upgrading database; v0 -> v1: : 0it [00:00, ?it/s]"
     ]
    },
    {
     "name": "stdout",
     "output_type": "stream",
     "text": [
      "\n",
      "\r",
      "  0%|          | 0/1 [00:00<?, ?it/s]"
     ]
    },
    {
     "name": "stdout",
     "output_type": "stream",
     "text": [
      "\r",
      "Upgrading database; v1 -> v2:   0%|          | 0/1 [00:00<?, ?it/s]"
     ]
    },
    {
     "name": "stdout",
     "output_type": "stream",
     "text": [
      "\r",
      "Upgrading database; v1 -> v2: 100%|██████████| 1/1 [00:00<00:00, 1410.80it/s]"
     ]
    },
    {
     "name": "stdout",
     "output_type": "stream",
     "text": [
      "\n",
      "\r",
      "0it [00:00, ?it/s]"
     ]
    },
    {
     "name": "stdout",
     "output_type": "stream",
     "text": [
      "\r",
      "Upgrading database; v2 -> v3: : 0it [00:00, ?it/s]"
     ]
    },
    {
     "name": "stdout",
     "output_type": "stream",
     "text": [
      "\r",
      "Upgrading database; v2 -> v3: : 0it [00:00, ?it/s]"
     ]
    },
    {
     "name": "stdout",
     "output_type": "stream",
     "text": [
      "\n",
      "\r",
      "0it [00:00, ?it/s]"
     ]
    },
    {
     "name": "stdout",
     "output_type": "stream",
     "text": [
      "\r",
      "Upgrading database; v3 -> v4: : 0it [00:00, ?it/s]"
     ]
    },
    {
     "name": "stdout",
     "output_type": "stream",
     "text": [
      "\r",
      "Upgrading database; v3 -> v4: : 0it [00:00, ?it/s]"
     ]
    },
    {
     "name": "stdout",
     "output_type": "stream",
     "text": [
      "\n",
      "\r",
      "  0%|          | 0/1 [00:00<?, ?it/s]"
     ]
    },
    {
     "name": "stdout",
     "output_type": "stream",
     "text": [
      "\r",
      "Upgrading database; v4 -> v5:   0%|          | 0/1 [00:00<?, ?it/s]"
     ]
    },
    {
     "name": "stdout",
     "output_type": "stream",
     "text": [
      "\r",
      "Upgrading database; v4 -> v5: 100%|██████████| 1/1 [00:00<00:00, 655.97it/s]"
     ]
    },
    {
     "name": "stdout",
     "output_type": "stream",
     "text": [
      "\n",
      "\r",
      "0it [00:00, ?it/s]"
     ]
    },
    {
     "name": "stdout",
     "output_type": "stream",
     "text": [
      "\r",
      "Upgrading database; v5 -> v6: : 0it [00:00, ?it/s]"
     ]
    },
    {
     "name": "stdout",
     "output_type": "stream",
     "text": [
      "\r",
      "Upgrading database; v5 -> v6: : 0it [00:00, ?it/s]"
     ]
    },
    {
     "name": "stdout",
     "output_type": "stream",
     "text": [
      "\n",
      "\r",
      "  0%|          | 0/1 [00:00<?, ?it/s]"
     ]
    },
    {
     "name": "stdout",
     "output_type": "stream",
     "text": [
      "\r",
      "Upgrading database; v6 -> v7:   0%|          | 0/1 [00:00<?, ?it/s]"
     ]
    },
    {
     "name": "stdout",
     "output_type": "stream",
     "text": [
      "\r",
      "Upgrading database; v6 -> v7: 100%|██████████| 1/1 [00:00<00:00, 600.30it/s]"
     ]
    },
    {
     "name": "stdout",
     "output_type": "stream",
     "text": [
      "\n",
      "\r",
      "  0%|          | 0/1 [00:00<?, ?it/s]"
     ]
    },
    {
     "name": "stdout",
     "output_type": "stream",
     "text": [
      "\r",
      "Upgrading database; v7 -> v8:   0%|          | 0/1 [00:00<?, ?it/s]"
     ]
    },
    {
     "name": "stdout",
     "output_type": "stream",
     "text": [
      "\r",
      "Upgrading database; v7 -> v8: 100%|██████████| 1/1 [00:00<00:00, 678.80it/s]"
     ]
    },
    {
     "name": "stdout",
     "output_type": "stream",
     "text": [
      "\n",
      "\r",
      "  0%|          | 0/1 [00:00<?, ?it/s]"
     ]
    },
    {
     "name": "stdout",
     "output_type": "stream",
     "text": [
      "\r",
      "Upgrading database; v8 -> v9:   0%|          | 0/1 [00:00<?, ?it/s]"
     ]
    },
    {
     "name": "stdout",
     "output_type": "stream",
     "text": [
      "\r",
      "Upgrading database; v8 -> v9: 100%|██████████| 1/1 [00:00<00:00, 1131.15it/s]"
     ]
    },
    {
     "name": "stdout",
     "output_type": "stream",
     "text": [
      "\n"
     ]
    }
   ],
   "source": [
    "initialise_database()\n",
    "exp = load_or_create_experiment(experiment_name='tutorial_exp', sample_name=\"no sample\")"
   ]
  },
  {
   "cell_type": "markdown",
   "metadata": {},
   "source": [
    "Here, we define a simple function to benchmark the time it takes to insert n points with either numeric or array data type.\n",
    "We will compare both the time used to call ``add_result`` and the time used for the full measurement."
   ]
  },
  {
   "cell_type": "code",
   "execution_count": 4,
   "metadata": {
    "execution": {
     "iopub.execute_input": "2021-01-11T10:39:49.124011Z",
     "iopub.status.busy": "2021-01-11T10:39:49.123209Z",
     "iopub.status.idle": "2021-01-11T10:39:49.124721Z",
     "shell.execute_reply": "2021-01-11T10:39:49.125156Z"
    }
   },
   "outputs": [],
   "source": [
    "def insert_data(paramtype, npoints, nreps=1):\n",
    "\n",
    "    meas = Measurement(exp=exp)\n",
    "\n",
    "    x1 = ManualParameter('x1')\n",
    "    x2 = ManualParameter('x2')\n",
    "    x3 = ManualParameter('x3')\n",
    "    y1 = ManualParameter('y1')\n",
    "    y2 = ManualParameter('y2')\n",
    "\n",
    "    meas.register_parameter(x1, paramtype=paramtype)\n",
    "    meas.register_parameter(x2, paramtype=paramtype)\n",
    "    meas.register_parameter(x3, paramtype=paramtype)\n",
    "    meas.register_parameter(y1, setpoints=[x1, x2, x3],\n",
    "                            paramtype=paramtype)\n",
    "    meas.register_parameter(y2, setpoints=[x1, x2, x3],\n",
    "                            paramtype=paramtype)\n",
    "    start = time.perf_counter()\n",
    "    with meas.run() as datasaver:\n",
    "        start_adding = time.perf_counter()\n",
    "        for i in range(nreps):\n",
    "            datasaver.add_result((x1, np.random.rand(npoints)),\n",
    "                                 (x2, np.random.rand(npoints)),\n",
    "                                 (x3, np.random.rand(npoints)),\n",
    "                                 (y1, np.random.rand(npoints)),\n",
    "                                 (y2, np.random.rand(npoints)))\n",
    "        stop_adding = time.perf_counter()\n",
    "        run_id = datasaver.run_id\n",
    "    stop = time.perf_counter()\n",
    "    tot_time = stop - start\n",
    "    add_time = stop_adding - start_adding\n",
    "    return tot_time, add_time, run_id"
   ]
  },
  {
   "cell_type": "markdown",
   "metadata": {},
   "source": [
    "## Comparison between numeric/array data and binary blob"
   ]
  },
  {
   "cell_type": "markdown",
   "metadata": {},
   "source": [
    "### Case1: Short experiment time"
   ]
  },
  {
   "cell_type": "code",
   "execution_count": 5,
   "metadata": {
    "execution": {
     "iopub.execute_input": "2021-01-11T10:39:49.130589Z",
     "iopub.status.busy": "2021-01-11T10:39:49.130100Z",
     "iopub.status.idle": "2021-01-11T10:39:49.795907Z",
     "shell.execute_reply": "2021-01-11T10:39:49.795437Z"
    }
   },
   "outputs": [
    {
     "name": "stdout",
     "output_type": "stream",
     "text": [
      "Starting experimental run with id: 1. \n",
      "Starting experimental run with id: 2. \n",
      "Starting experimental run with id: 3. \n",
      "Starting experimental run with id: 4. \n",
      "Starting experimental run with id: 5. \n",
      "Starting experimental run with id: 6. \n",
      "Starting experimental run with id: 7. \n"
     ]
    },
    {
     "name": "stdout",
     "output_type": "stream",
     "text": [
      "Starting experimental run with id: 8. \n",
      "Starting experimental run with id: 9. \n"
     ]
    },
    {
     "name": "stdout",
     "output_type": "stream",
     "text": [
      "Starting experimental run with id: 10. \n",
      "Starting experimental run with id: 11. \n"
     ]
    },
    {
     "name": "stdout",
     "output_type": "stream",
     "text": [
      "Starting experimental run with id: 12. \n",
      "Starting experimental run with id: 13. \n"
     ]
    },
    {
     "name": "stdout",
     "output_type": "stream",
     "text": [
      "Starting experimental run with id: 14. \n"
     ]
    }
   ],
   "source": [
    "sizes = [1,500,1000,2000,3000,4000,5000]\n",
    "t_numeric = []\n",
    "t_numeric_add = []\n",
    "t_array = []\n",
    "t_array_add = []\n",
    "for size in sizes:\n",
    "    tn, tna, run_id_n =  insert_data('numeric', size)\n",
    "    t_numeric.append(tn)\n",
    "    t_numeric_add.append(tna)\n",
    "\n",
    "    ta, taa, run_id_a =  insert_data('array', size)\n",
    "    t_array.append(ta)\n",
    "    t_array_add.append(taa)"
   ]
  },
  {
   "cell_type": "code",
   "execution_count": 6,
   "metadata": {
    "execution": {
     "iopub.execute_input": "2021-01-11T10:39:49.810797Z",
     "iopub.status.busy": "2021-01-11T10:39:49.810369Z",
     "iopub.status.idle": "2021-01-11T10:39:49.979201Z",
     "shell.execute_reply": "2021-01-11T10:39:49.978787Z"
    }
   },
   "outputs": [
    {
     "data": {
      "image/png": "[encoded data removed]",
      "text/plain": [
       "<Figure size 432x288 with 1 Axes>"
      ]
     },
     "metadata": {
      "needs_background": "light"
     },
     "output_type": "display_data"
    }
   ],
   "source": [
    "fig, ax = plt.subplots(1,1)\n",
    "ax.plot(sizes, t_numeric, 'o-', label='Inserting row-by-row')\n",
    "ax.plot(sizes, t_numeric_add, 'o-', label='Inserting row-by-row: add_result only')\n",
    "ax.plot(sizes, t_array, 'd-', label='Inserting as binary blob')\n",
    "ax.plot(sizes, t_array_add, 'd-', label='Inserting as binary blob: add_result only')\n",
    "ax.legend()\n",
    "ax.set_xlabel('Array length')\n",
    "ax.set_ylabel('Time (s)')\n",
    "fig.tight_layout()"
   ]
  },
  {
   "cell_type": "markdown",
   "metadata": {},
   "source": [
    "As shown in the latter figure, the time to setup and and close the experiment is approximately 0.4 sec. In case of small array sizes, the difference between inserting values of data as arrays and inserting them row-by-row is relatively unimportant. At larger array sizes, i.e. above 10000 points, the cost of writing data as individual datapoints starts to become important.\n"
   ]
  },
  {
   "cell_type": "markdown",
   "metadata": {},
   "source": [
    "### Case2: Long experiment time "
   ]
  },
  {
   "cell_type": "code",
   "execution_count": 7,
   "metadata": {
    "execution": {
     "iopub.execute_input": "2021-01-11T10:39:49.984860Z",
     "iopub.status.busy": "2021-01-11T10:39:49.982987Z",
     "iopub.status.idle": "2021-01-11T10:40:42.359171Z",
     "shell.execute_reply": "2021-01-11T10:40:42.358412Z"
    }
   },
   "outputs": [
    {
     "name": "stdout",
     "output_type": "stream",
     "text": [
      "Starting experimental run with id: 15. \n",
      "Starting experimental run with id: 16. \n",
      "Starting experimental run with id: 17. \n"
     ]
    },
    {
     "name": "stdout",
     "output_type": "stream",
     "text": [
      "Starting experimental run with id: 18. \n",
      "Starting experimental run with id: 19. \n"
     ]
    },
    {
     "name": "stdout",
     "output_type": "stream",
     "text": [
      "Starting experimental run with id: 20. \n"
     ]
    },
    {
     "name": "stdout",
     "output_type": "stream",
     "text": [
      "Starting experimental run with id: 21. \n"
     ]
    },
    {
     "name": "stdout",
     "output_type": "stream",
     "text": [
      "Starting experimental run with id: 22. \n"
     ]
    },
    {
     "name": "stdout",
     "output_type": "stream",
     "text": [
      "Starting experimental run with id: 23. \n"
     ]
    },
    {
     "name": "stdout",
     "output_type": "stream",
     "text": [
      "Starting experimental run with id: 24. \n"
     ]
    },
    {
     "name": "stdout",
     "output_type": "stream",
     "text": [
      "Starting experimental run with id: 25. \n"
     ]
    },
    {
     "name": "stdout",
     "output_type": "stream",
     "text": [
      "Starting experimental run with id: 26. \n"
     ]
    },
    {
     "name": "stdout",
     "output_type": "stream",
     "text": [
      "Starting experimental run with id: 27. \n"
     ]
    },
    {
     "name": "stdout",
     "output_type": "stream",
     "text": [
      "Starting experimental run with id: 28. \n"
     ]
    }
   ],
   "source": [
    "sizes = [1,500,1000,2000,3000,4000,5000]\n",
    "nreps = 100\n",
    "t_numeric = []\n",
    "t_numeric_add = []\n",
    "t_numeric_run_ids = []\n",
    "t_array = []\n",
    "t_array_add = []\n",
    "t_array_run_ids = []\n",
    "for size in sizes:\n",
    "    tn, tna, run_id_n =  insert_data('numeric', size, nreps=nreps)\n",
    "    t_numeric.append(tn)\n",
    "    t_numeric_add.append(tna)\n",
    "    t_numeric_run_ids.append(run_id_n)\n",
    "\n",
    "    ta, taa, run_id_a =  insert_data('array', size, nreps=nreps)\n",
    "    t_array.append(ta)\n",
    "    t_array_add.append(taa)\n",
    "    t_array_run_ids.append(run_id_a)"
   ]
  },
  {
   "cell_type": "code",
   "execution_count": 8,
   "metadata": {
    "execution": {
     "iopub.execute_input": "2021-01-11T10:40:42.384278Z",
     "iopub.status.busy": "2021-01-11T10:40:42.380669Z",
     "iopub.status.idle": "2021-01-11T10:40:42.533160Z",
     "shell.execute_reply": "2021-01-11T10:40:42.532763Z"
    },
    "scrolled": true
   },
   "outputs": [
    {
     "data": {
      "image/png": "[encoded data removed]",
      "text/plain": [
       "<Figure size 432x288 with 1 Axes>"
      ]
     },
     "metadata": {
      "needs_background": "light"
     },
     "output_type": "display_data"
    }
   ],
   "source": [
    "fig, ax = plt.subplots(1,1)\n",
    "ax.plot(sizes, t_numeric, 'o-', label='Inserting row-by-row')\n",
    "ax.plot(sizes, t_numeric_add, 'o-', label='Inserting row-by-row: add_result only')\n",
    "ax.plot(sizes, t_array, 'd-', label='Inserting as binary blob')\n",
    "ax.plot(sizes, t_array_add, 'd-', label='Inserting as binary blob: add_result only')\n",
    "ax.legend()\n",
    "ax.set_xlabel('Array length')\n",
    "ax.set_ylabel('Time (s)')\n",
    "fig.tight_layout()"
   ]
  },
  {
   "cell_type": "markdown",
   "metadata": {},
   "source": [
    "However, as we increase the length of the experiment, as seen here by repeating the insertion 100 times, we see a big difference between inserting values of the data row-by-row and inserting it as a binary blob."
   ]
  },
  {
   "cell_type": "markdown",
   "metadata": {},
   "source": [
    "## Loading the data "
   ]
  },
  {
   "cell_type": "code",
   "execution_count": 9,
   "metadata": {
    "execution": {
     "iopub.execute_input": "2021-01-11T10:40:42.536574Z",
     "iopub.status.busy": "2021-01-11T10:40:42.535709Z",
     "iopub.status.idle": "2021-01-11T10:40:42.539035Z",
     "shell.execute_reply": "2021-01-11T10:40:42.538659Z"
    }
   },
   "outputs": [],
   "source": [
    "from qcodes.dataset.data_set import load_by_id\n",
    "from qcodes.dataset.data_export import get_data_by_id"
   ]
  },
  {
   "cell_type": "markdown",
   "metadata": {},
   "source": [
    "As usual you can load the data by using the ``load_by_id`` function but you will notice that the different storage methods\n",
    "are reflected in shape of the data as it is retrieved. "
   ]
  },
  {
   "cell_type": "code",
   "execution_count": 10,
   "metadata": {
    "execution": {
     "iopub.execute_input": "2021-01-11T10:40:42.542900Z",
     "iopub.status.busy": "2021-01-11T10:40:42.541947Z",
     "iopub.status.idle": "2021-01-11T10:40:42.543340Z",
     "shell.execute_reply": "2021-01-11T10:40:42.543766Z"
    }
   },
   "outputs": [],
   "source": [
    "run_id_n = t_numeric_run_ids[0]\n",
    "run_id_a = t_array_run_ids[0]"
   ]
  },
  {
   "cell_type": "code",
   "execution_count": 11,
   "metadata": {
    "execution": {
     "iopub.execute_input": "2021-01-11T10:40:42.546401Z",
     "iopub.status.busy": "2021-01-11T10:40:42.545975Z",
     "iopub.status.idle": "2021-01-11T10:40:42.553985Z",
     "shell.execute_reply": "2021-01-11T10:40:42.553532Z"
    },
    "scrolled": true
   },
   "outputs": [
    {
     "data": {
      "text/plain": [
       "{'x1': {'x1': array([0.83188289, 0.83188289, 0.41793037, 0.41793037, 0.05891333,\n",
       "         0.05891333, 0.11808886, 0.11808886, 0.99736536, 0.99736536,\n",
       "         0.65898335, 0.65898335, 0.28111213, 0.28111213, 0.95354245,\n",
       "         0.95354245, 0.82855305, 0.82855305, 0.91325139, 0.91325139,\n",
       "         0.71739054, 0.71739054, 0.82960341, 0.82960341, 0.19407481,\n",
       "         0.19407481, 0.7859148 , 0.7859148 , 0.41771214, 0.41771214,\n",
       "         0.72032309, 0.72032309, 0.477518  , 0.477518  , 0.97015868,\n",
       "         0.97015868, 0.19332877, 0.19332877, 0.0141791 , 0.0141791 ,\n",
       "         0.02407069, 0.02407069, 0.55469172, 0.55469172, 0.53387981,\n",
       "         0.53387981, 0.92536692, 0.92536692, 0.96074048, 0.96074048,\n",
       "         0.1712591 , 0.1712591 , 0.26623783, 0.26623783, 0.52841054,\n",
       "         0.52841054, 0.90690515, 0.90690515, 0.65004056, 0.65004056,\n",
       "         0.88963023, 0.88963023, 0.03214038, 0.03214038, 0.25575527,\n",
       "         0.25575527, 0.54097152, 0.54097152, 0.82628545, 0.82628545,\n",
       "         0.23640849, 0.23640849, 0.17965707, 0.17965707, 0.12836702,\n",
       "         0.12836702, 0.53814973, 0.53814973, 0.02116734, 0.02116734,\n",
       "         0.22393368, 0.22393368, 0.66356499, 0.66356499, 0.98703019,\n",
       "         0.98703019, 0.83374673, 0.83374673, 0.95007035, 0.95007035,\n",
       "         0.64539744, 0.64539744, 0.87248803, 0.87248803, 0.64491656,\n",
       "         0.64491656, 0.06854692, 0.06854692, 0.87482305, 0.87482305,\n",
       "         0.2044972 , 0.2044972 , 0.03561894, 0.03561894, 0.37763074,\n",
       "         0.37763074, 0.61890403, 0.61890403, 0.48537678, 0.48537678,\n",
       "         0.34320952, 0.34320952, 0.91580028, 0.91580028, 0.89461528,\n",
       "         0.89461528, 0.42087926, 0.42087926, 0.54501612, 0.54501612,\n",
       "         0.9406288 , 0.9406288 , 0.28821591, 0.28821591, 0.82213908,\n",
       "         0.82213908, 0.32828282, 0.32828282, 0.43343439, 0.43343439,\n",
       "         0.38481048, 0.38481048, 0.84771512, 0.84771512, 0.07183145,\n",
       "         0.07183145, 0.0567931 , 0.0567931 , 0.6545006 , 0.6545006 ,\n",
       "         0.47602625, 0.47602625, 0.35087272, 0.35087272, 0.58099336,\n",
       "         0.58099336, 0.32971925, 0.32971925, 0.41029544, 0.41029544,\n",
       "         0.33250612, 0.33250612, 0.70254281, 0.70254281, 0.32365213,\n",
       "         0.32365213, 0.84079339, 0.84079339, 0.26508501, 0.26508501,\n",
       "         0.33292385, 0.33292385, 0.59245893, 0.59245893, 0.32053617,\n",
       "         0.32053617, 0.31012398, 0.31012398, 0.10127394, 0.10127394,\n",
       "         0.32278227, 0.32278227, 0.55372894, 0.55372894, 0.7501999 ,\n",
       "         0.7501999 , 0.98691887, 0.98691887, 0.50723362, 0.50723362,\n",
       "         0.64481727, 0.64481727, 0.25469325, 0.25469325, 0.38024191,\n",
       "         0.38024191, 0.78715954, 0.78715954, 0.54639971, 0.54639971,\n",
       "         0.13737768, 0.13737768, 0.82422961, 0.82422961, 0.81209859,\n",
       "         0.81209859, 0.15233489, 0.15233489, 0.81680179, 0.81680179])}}"
      ]
     },
     "execution_count": 1,
     "metadata": {},
     "output_type": "execute_result"
    }
   ],
   "source": [
    "ds = load_by_id(run_id_n)\n",
    "ds.get_parameter_data('x1')"
   ]
  },
  {
   "cell_type": "markdown",
   "metadata": {},
   "source": [
    "And a dataset stored as binary arrays"
   ]
  },
  {
   "cell_type": "code",
   "execution_count": 12,
   "metadata": {
    "execution": {
     "iopub.execute_input": "2021-01-11T10:40:42.556608Z",
     "iopub.status.busy": "2021-01-11T10:40:42.556171Z",
     "iopub.status.idle": "2021-01-11T10:40:42.601720Z",
     "shell.execute_reply": "2021-01-11T10:40:42.601295Z"
    },
    "scrolled": true
   },
   "outputs": [
    {
     "data": {
      "text/plain": [
       "{'x1': {'x1': array([[0.4278519 ],\n",
       "         [0.4278519 ],\n",
       "         [0.88925028],\n",
       "         [0.88925028],\n",
       "         [0.83723614],\n",
       "         [0.83723614],\n",
       "         [0.65908873],\n",
       "         [0.65908873],\n",
       "         [0.74631745],\n",
       "         [0.74631745],\n",
       "         [0.82067914],\n",
       "         [0.82067914],\n",
       "         [0.9261191 ],\n",
       "         [0.9261191 ],\n",
       "         [0.04978985],\n",
       "         [0.04978985],\n",
       "         [0.6705764 ],\n",
       "         [0.6705764 ],\n",
       "         [0.39786237],\n",
       "         [0.39786237],\n",
       "         [0.28320682],\n",
       "         [0.28320682],\n",
       "         [0.35504995],\n",
       "         [0.35504995],\n",
       "         [0.85173467],\n",
       "         [0.85173467],\n",
       "         [0.56275075],\n",
       "         [0.56275075],\n",
       "         [0.33643704],\n",
       "         [0.33643704],\n",
       "         [0.96308741],\n",
       "         [0.96308741],\n",
       "         [0.92578127],\n",
       "         [0.92578127],\n",
       "         [0.75767674],\n",
       "         [0.75767674],\n",
       "         [0.88677985],\n",
       "         [0.88677985],\n",
       "         [0.79941408],\n",
       "         [0.79941408],\n",
       "         [0.16342104],\n",
       "         [0.16342104],\n",
       "         [0.43913382],\n",
       "         [0.43913382],\n",
       "         [0.13544972],\n",
       "         [0.13544972],\n",
       "         [0.46694784],\n",
       "         [0.46694784],\n",
       "         [0.10987677],\n",
       "         [0.10987677],\n",
       "         [0.89702373],\n",
       "         [0.89702373],\n",
       "         [0.50340395],\n",
       "         [0.50340395],\n",
       "         [0.68083439],\n",
       "         [0.68083439],\n",
       "         [0.39830873],\n",
       "         [0.39830873],\n",
       "         [0.68260099],\n",
       "         [0.68260099],\n",
       "         [0.22085437],\n",
       "         [0.22085437],\n",
       "         [0.82336294],\n",
       "         [0.82336294],\n",
       "         [0.46577011],\n",
       "         [0.46577011],\n",
       "         [0.33620546],\n",
       "         [0.33620546],\n",
       "         [0.75644967],\n",
       "         [0.75644967],\n",
       "         [0.67595373],\n",
       "         [0.67595373],\n",
       "         [0.64278657],\n",
       "         [0.64278657],\n",
       "         [0.3781465 ],\n",
       "         [0.3781465 ],\n",
       "         [0.90752166],\n",
       "         [0.90752166],\n",
       "         [0.59484391],\n",
       "         [0.59484391],\n",
       "         [0.76871391],\n",
       "         [0.76871391],\n",
       "         [0.11819195],\n",
       "         [0.11819195],\n",
       "         [0.12511015],\n",
       "         [0.12511015],\n",
       "         [0.17761277],\n",
       "         [0.17761277],\n",
       "         [0.17427372],\n",
       "         [0.17427372],\n",
       "         [0.86128524],\n",
       "         [0.86128524],\n",
       "         [0.5286593 ],\n",
       "         [0.5286593 ],\n",
       "         [0.36962395],\n",
       "         [0.36962395],\n",
       "         [0.44115467],\n",
       "         [0.44115467],\n",
       "         [0.6415581 ],\n",
       "         [0.6415581 ],\n",
       "         [0.05115328],\n",
       "         [0.05115328],\n",
       "         [0.02146919],\n",
       "         [0.02146919],\n",
       "         [0.95465422],\n",
       "         [0.95465422],\n",
       "         [0.69135975],\n",
       "         [0.69135975],\n",
       "         [0.39246924],\n",
       "         [0.39246924],\n",
       "         [0.48446686],\n",
       "         [0.48446686],\n",
       "         [0.8154029 ],\n",
       "         [0.8154029 ],\n",
       "         [0.71790116],\n",
       "         [0.71790116],\n",
       "         [0.81776497],\n",
       "         [0.81776497],\n",
       "         [0.29850448],\n",
       "         [0.29850448],\n",
       "         [0.06679959],\n",
       "         [0.06679959],\n",
       "         [0.91469751],\n",
       "         [0.91469751],\n",
       "         [0.16622492],\n",
       "         [0.16622492],\n",
       "         [0.38323126],\n",
       "         [0.38323126],\n",
       "         [0.93560349],\n",
       "         [0.93560349],\n",
       "         [0.76327209],\n",
       "         [0.76327209],\n",
       "         [0.19297527],\n",
       "         [0.19297527],\n",
       "         [0.19343136],\n",
       "         [0.19343136],\n",
       "         [0.22272861],\n",
       "         [0.22272861],\n",
       "         [0.20157204],\n",
       "         [0.20157204],\n",
       "         [0.77315822],\n",
       "         [0.77315822],\n",
       "         [0.73315164],\n",
       "         [0.73315164],\n",
       "         [0.58654189],\n",
       "         [0.58654189],\n",
       "         [0.87264645],\n",
       "         [0.87264645],\n",
       "         [0.581071  ],\n",
       "         [0.581071  ],\n",
       "         [0.89518666],\n",
       "         [0.89518666],\n",
       "         [0.10692428],\n",
       "         [0.10692428],\n",
       "         [0.05859399],\n",
       "         [0.05859399],\n",
       "         [0.01452088],\n",
       "         [0.01452088],\n",
       "         [0.25801775],\n",
       "         [0.25801775],\n",
       "         [0.25213851],\n",
       "         [0.25213851],\n",
       "         [0.99368694],\n",
       "         [0.99368694],\n",
       "         [0.53974873],\n",
       "         [0.53974873],\n",
       "         [0.79883642],\n",
       "         [0.79883642],\n",
       "         [0.95670454],\n",
       "         [0.95670454],\n",
       "         [0.83539016],\n",
       "         [0.83539016],\n",
       "         [0.87624617],\n",
       "         [0.87624617],\n",
       "         [0.81570054],\n",
       "         [0.81570054],\n",
       "         [0.7522263 ],\n",
       "         [0.7522263 ],\n",
       "         [0.50137829],\n",
       "         [0.50137829],\n",
       "         [0.5788714 ],\n",
       "         [0.5788714 ],\n",
       "         [0.16653975],\n",
       "         [0.16653975],\n",
       "         [0.55532647],\n",
       "         [0.55532647],\n",
       "         [0.90162253],\n",
       "         [0.90162253],\n",
       "         [0.88724613],\n",
       "         [0.88724613],\n",
       "         [0.36141895],\n",
       "         [0.36141895],\n",
       "         [0.31665302],\n",
       "         [0.31665302],\n",
       "         [0.18345358],\n",
       "         [0.18345358],\n",
       "         [0.64675292],\n",
       "         [0.64675292],\n",
       "         [0.18318256],\n",
       "         [0.18318256]])}}"
      ]
     },
     "execution_count": 1,
     "metadata": {},
     "output_type": "execute_result"
    }
   ],
   "source": [
    "ds = load_by_id(run_id_a)\n",
    "ds.get_parameter_data('x1')"
   ]
  },
  {
   "cell_type": "code",
   "execution_count": null,
   "metadata": {},
   "outputs": [],
   "source": []
  }
 ],
 "metadata": {
  "kernelspec": {
   "display_name": "Python 3",
   "language": "python",
   "name": "python3"
  },
  "language_info": {
   "codemirror_mode": {
    "name": "ipython",
    "version": 3
   },
   "file_extension": ".py",
   "mimetype": "text/x-python",
   "name": "python",
   "nbconvert_exporter": "python",
   "pygments_lexer": "ipython3",
   "version": "3.7.9"
  },
  "nbsphinx": {
   "timeout": 600
  },
  "toc": {
   "base_numbering": 1,
   "nav_menu": {},
   "number_sections": true,
   "sideBar": true,
   "skip_h1_title": false,
   "title_cell": "Table of Contents",
   "title_sidebar": "Contents",
   "toc_cell": false,
   "toc_position": {},
   "toc_section_display": true,
   "toc_window_display": false
  },
  "varInspector": {
   "cols": {
    "lenName": 16,
    "lenType": 16,
    "lenVar": 40
   },
   "kernels_config": {
    "python": {
     "delete_cmd_postfix": "",
     "delete_cmd_prefix": "del ",
     "library": "var_list.py",
     "varRefreshCmd": "print(var_dic_list())"
    },
    "r": {
     "delete_cmd_postfix": ") ",
     "delete_cmd_prefix": "rm(",
     "library": "var_list.r",
     "varRefreshCmd": "cat(var_dic_list()) "
    }
   },
   "types_to_exclude": [
    "module",
    "function",
    "builtin_function_or_method",
    "instance",
    "_Feature"
   ],
   "window_display": false
  }
 },
 "nbformat": 4,
 "nbformat_minor": 2
}
