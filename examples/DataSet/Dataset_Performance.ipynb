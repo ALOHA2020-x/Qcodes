{
 "cells": [
  {
   "cell_type": "markdown",
   "metadata": {},
   "source": [
    "# DataSet Performance\n",
    "\n",
    "This notebook shows the trade-off between inserting data into a database row-by-row and as binary blobs. Inserting the data row-by-row means that we have direct access to all the data and may perform queries directly on the values of the data. On the other hand, as we shall see, this is much slower than inserting the data directly as binary blobs."
   ]
  },
  {
   "cell_type": "markdown",
   "metadata": {},
   "source": [
    "First, we choose a new location for the database to ensure that we don't add a bunch of benchmarking data to the default one."
   ]
  },
  {
   "cell_type": "code",
   "execution_count": 1,
   "metadata": {
    "execution": {
     "iopub.execute_input": "2020-10-26T12:52:09.364378Z",
     "iopub.status.busy": "2020-10-26T12:52:09.363648Z",
     "iopub.status.idle": "2020-10-26T12:52:10.379357Z",
     "shell.execute_reply": "2020-10-26T12:52:10.378842Z"
    }
   },
   "outputs": [
    {
     "name": "stdout",
     "output_type": "stream",
     "text": [
      "Logging hadn't been started.\n",
      "Activating auto-logging. Current session state plus future input saved.\n",
      "Filename       : /home/vsts/.qcodes/logs/command_history.log\n",
      "Mode           : append\n",
      "Output logging : True\n",
      "Raw input log  : False\n",
      "Timestamping   : True\n",
      "State          : active\n"
     ]
    },
    {
     "name": "stdout",
     "output_type": "stream",
     "text": [
      "Qcodes Logfile : /home/vsts/.qcodes/logs/201026-15728-qcodes.log\n"
     ]
    }
   ],
   "source": [
    "import os\n",
    "cwd = os.getcwd()\n",
    "import qcodes as qc\n",
    "qc.config[\"core\"][\"db_location\"] = os.path.join(cwd, 'testing.db')\n"
   ]
  },
  {
   "cell_type": "code",
   "execution_count": 2,
   "metadata": {
    "execution": {
     "iopub.execute_input": "2020-10-26T12:52:10.386944Z",
     "iopub.status.busy": "2020-10-26T12:52:10.384932Z",
     "iopub.status.idle": "2020-10-26T12:52:10.571428Z",
     "shell.execute_reply": "2020-10-26T12:52:10.570645Z"
    }
   },
   "outputs": [],
   "source": [
    "%matplotlib inline\n",
    "import time\n",
    "import matplotlib.pyplot as plt\n",
    "import numpy as np\n",
    "\n",
    "import qcodes as qc\n",
    "from qcodes.instrument.parameter import ManualParameter\n",
    "from qcodes.dataset.experiment_container import (Experiment,\n",
    "                                                 load_last_experiment,\n",
    "                                                 new_experiment)\n",
    "from qcodes.dataset.sqlite.database import initialise_database\n",
    "from qcodes import load_or_create_experiment\n",
    "from qcodes.dataset.measurements import Measurement"
   ]
  },
  {
   "cell_type": "code",
   "execution_count": 3,
   "metadata": {
    "execution": {
     "iopub.execute_input": "2020-10-26T12:52:10.575221Z",
     "iopub.status.busy": "2020-10-26T12:52:10.574427Z",
     "iopub.status.idle": "2020-10-26T12:52:10.682761Z",
     "shell.execute_reply": "2020-10-26T12:52:10.682349Z"
    }
   },
   "outputs": [
    {
     "name": "stdout",
     "output_type": "stream",
     "text": [
      "\r",
      "0it [00:00, ?it/s]"
     ]
    },
    {
     "name": "stdout",
     "output_type": "stream",
     "text": [
      "\r",
      "Upgrading database; v0 -> v1: : 0it [00:00, ?it/s]"
     ]
    },
    {
     "name": "stdout",
     "output_type": "stream",
     "text": [
      "\r",
      "Upgrading database; v0 -> v1: : 0it [00:00, ?it/s]"
     ]
    },
    {
     "name": "stdout",
     "output_type": "stream",
     "text": [
      "\n",
      "\r",
      "  0%|          | 0/1 [00:00<?, ?it/s]"
     ]
    },
    {
     "name": "stdout",
     "output_type": "stream",
     "text": [
      "\r",
      "Upgrading database; v1 -> v2:   0%|          | 0/1 [00:00<?, ?it/s]"
     ]
    },
    {
     "name": "stdout",
     "output_type": "stream",
     "text": [
      "\r",
      "Upgrading database; v1 -> v2: 100%|██████████| 1/1 [00:00<00:00, 452.36it/s]"
     ]
    },
    {
     "name": "stdout",
     "output_type": "stream",
     "text": [
      "\n",
      "\r",
      "0it [00:00, ?it/s]"
     ]
    },
    {
     "name": "stdout",
     "output_type": "stream",
     "text": [
      "\r",
      "Upgrading database; v2 -> v3: : 0it [00:00, ?it/s]"
     ]
    },
    {
     "name": "stdout",
     "output_type": "stream",
     "text": [
      "\r",
      "Upgrading database; v2 -> v3: : 0it [00:00, ?it/s]"
     ]
    },
    {
     "name": "stdout",
     "output_type": "stream",
     "text": [
      "\n",
      "\r",
      "0it [00:00, ?it/s]"
     ]
    },
    {
     "name": "stdout",
     "output_type": "stream",
     "text": [
      "\r",
      "Upgrading database; v3 -> v4: : 0it [00:00, ?it/s]"
     ]
    },
    {
     "name": "stdout",
     "output_type": "stream",
     "text": [
      "\r",
      "Upgrading database; v3 -> v4: : 0it [00:00, ?it/s]"
     ]
    },
    {
     "name": "stdout",
     "output_type": "stream",
     "text": [
      "\n",
      "\r",
      "  0%|          | 0/1 [00:00<?, ?it/s]"
     ]
    },
    {
     "name": "stdout",
     "output_type": "stream",
     "text": [
      "\r",
      "Upgrading database; v4 -> v5:   0%|          | 0/1 [00:00<?, ?it/s]"
     ]
    },
    {
     "name": "stdout",
     "output_type": "stream",
     "text": [
      "\r",
      "Upgrading database; v4 -> v5: 100%|██████████| 1/1 [00:00<00:00, 489.93it/s]"
     ]
    },
    {
     "name": "stdout",
     "output_type": "stream",
     "text": [
      "\n",
      "\r",
      "0it [00:00, ?it/s]"
     ]
    },
    {
     "name": "stdout",
     "output_type": "stream",
     "text": [
      "\r",
      "Upgrading database; v5 -> v6: : 0it [00:00, ?it/s]"
     ]
    },
    {
     "name": "stdout",
     "output_type": "stream",
     "text": [
      "\r",
      "Upgrading database; v5 -> v6: : 0it [00:00, ?it/s]"
     ]
    },
    {
     "name": "stdout",
     "output_type": "stream",
     "text": [
      "\n",
      "\r",
      "  0%|          | 0/1 [00:00<?, ?it/s]"
     ]
    },
    {
     "name": "stdout",
     "output_type": "stream",
     "text": [
      "\r",
      "Upgrading database; v6 -> v7:   0%|          | 0/1 [00:00<?, ?it/s]"
     ]
    },
    {
     "name": "stdout",
     "output_type": "stream",
     "text": [
      "\r",
      "Upgrading database; v6 -> v7: 100%|██████████| 1/1 [00:00<00:00, 349.99it/s]"
     ]
    },
    {
     "name": "stdout",
     "output_type": "stream",
     "text": [
      "\n",
      "\r",
      "  0%|          | 0/1 [00:00<?, ?it/s]"
     ]
    },
    {
     "name": "stdout",
     "output_type": "stream",
     "text": [
      "\r",
      "Upgrading database; v7 -> v8:   0%|          | 0/1 [00:00<?, ?it/s]"
     ]
    },
    {
     "name": "stdout",
     "output_type": "stream",
     "text": [
      "\r",
      "Upgrading database; v7 -> v8: 100%|██████████| 1/1 [00:00<00:00, 605.06it/s]"
     ]
    },
    {
     "name": "stdout",
     "output_type": "stream",
     "text": [
      "\n",
      "\r",
      "  0%|          | 0/1 [00:00<?, ?it/s]"
     ]
    },
    {
     "name": "stdout",
     "output_type": "stream",
     "text": [
      "\r",
      "Upgrading database; v8 -> v9:   0%|          | 0/1 [00:00<?, ?it/s]"
     ]
    },
    {
     "name": "stdout",
     "output_type": "stream",
     "text": [
      "\r",
      "Upgrading database; v8 -> v9: 100%|██████████| 1/1 [00:00<00:00, 463.92it/s]"
     ]
    },
    {
     "name": "stdout",
     "output_type": "stream",
     "text": [
      "\n"
     ]
    }
   ],
   "source": [
    "initialise_database()\n",
    "exp = load_or_create_experiment(experiment_name='tutorial_exp', sample_name=\"no sample\")"
   ]
  },
  {
   "cell_type": "markdown",
   "metadata": {},
   "source": [
    "Here, we define a simple function to benchmark the time it takes to insert n points with either numeric or array data type.\n",
    "We will compare both the time used to call ``add_result`` and the time used for the full measurement."
   ]
  },
  {
   "cell_type": "code",
   "execution_count": 4,
   "metadata": {
    "execution": {
     "iopub.execute_input": "2020-10-26T12:52:10.690511Z",
     "iopub.status.busy": "2020-10-26T12:52:10.689849Z",
     "iopub.status.idle": "2020-10-26T12:52:10.706348Z",
     "shell.execute_reply": "2020-10-26T12:52:10.709969Z"
    }
   },
   "outputs": [],
   "source": [
    "def insert_data(paramtype, npoints, nreps=1):\n",
    "\n",
    "    meas = Measurement(exp=exp)\n",
    "\n",
    "    x1 = ManualParameter('x1')\n",
    "    x2 = ManualParameter('x2')\n",
    "    x3 = ManualParameter('x3')\n",
    "    y1 = ManualParameter('y1')\n",
    "    y2 = ManualParameter('y2')\n",
    "\n",
    "    meas.register_parameter(x1, paramtype=paramtype)\n",
    "    meas.register_parameter(x2, paramtype=paramtype)\n",
    "    meas.register_parameter(x3, paramtype=paramtype)\n",
    "    meas.register_parameter(y1, setpoints=[x1, x2, x3],\n",
    "                            paramtype=paramtype)\n",
    "    meas.register_parameter(y2, setpoints=[x1, x2, x3],\n",
    "                            paramtype=paramtype)\n",
    "    start = time.perf_counter()\n",
    "    with meas.run() as datasaver:\n",
    "        start_adding = time.perf_counter()\n",
    "        for i in range(nreps):\n",
    "            datasaver.add_result((x1, np.random.rand(npoints)),\n",
    "                                 (x2, np.random.rand(npoints)),\n",
    "                                 (x3, np.random.rand(npoints)),\n",
    "                                 (y1, np.random.rand(npoints)),\n",
    "                                 (y2, np.random.rand(npoints)))\n",
    "        stop_adding = time.perf_counter()\n",
    "        run_id = datasaver.run_id\n",
    "    stop = time.perf_counter()\n",
    "    tot_time = stop - start\n",
    "    add_time = stop_adding - start_adding\n",
    "    return tot_time, add_time, run_id"
   ]
  },
  {
   "cell_type": "markdown",
   "metadata": {},
   "source": [
    "## Comparison between numeric/array data and binary blob"
   ]
  },
  {
   "cell_type": "markdown",
   "metadata": {},
   "source": [
    "### Case1: Short experiment time"
   ]
  },
  {
   "cell_type": "code",
   "execution_count": 5,
   "metadata": {
    "execution": {
     "iopub.execute_input": "2020-10-26T12:52:10.715717Z",
     "iopub.status.busy": "2020-10-26T12:52:10.715084Z",
     "iopub.status.idle": "2020-10-26T12:52:11.492577Z",
     "shell.execute_reply": "2020-10-26T12:52:11.492128Z"
    }
   },
   "outputs": [
    {
     "name": "stdout",
     "output_type": "stream",
     "text": [
      "Starting experimental run with id: 1. \n",
      "Starting experimental run with id: 2. \n",
      "Starting experimental run with id: 3. \n",
      "Starting experimental run with id: 4. \n"
     ]
    },
    {
     "name": "stdout",
     "output_type": "stream",
     "text": [
      "Starting experimental run with id: 5. \n"
     ]
    },
    {
     "name": "stdout",
     "output_type": "stream",
     "text": [
      "Starting experimental run with id: 6. \n"
     ]
    },
    {
     "name": "stdout",
     "output_type": "stream",
     "text": [
      "Starting experimental run with id: 7. \n"
     ]
    },
    {
     "name": "stdout",
     "output_type": "stream",
     "text": [
      "Starting experimental run with id: 8. \n",
      "Starting experimental run with id: 9. \n"
     ]
    },
    {
     "name": "stdout",
     "output_type": "stream",
     "text": [
      "Starting experimental run with id: 10. \n",
      "Starting experimental run with id: 11. \n"
     ]
    },
    {
     "name": "stdout",
     "output_type": "stream",
     "text": [
      "Starting experimental run with id: 12. \n",
      "Starting experimental run with id: 13. \n"
     ]
    },
    {
     "name": "stdout",
     "output_type": "stream",
     "text": [
      "Starting experimental run with id: 14. \n"
     ]
    }
   ],
   "source": [
    "sizes = [1,500,1000,2000,3000,4000,5000]\n",
    "t_numeric = []\n",
    "t_numeric_add = []\n",
    "t_array = []\n",
    "t_array_add = []\n",
    "for size in sizes:\n",
    "    tn, tna, run_id_n =  insert_data('numeric', size)\n",
    "    t_numeric.append(tn)\n",
    "    t_numeric_add.append(tna)\n",
    "\n",
    "    ta, taa, run_id_a =  insert_data('array', size)\n",
    "    t_array.append(ta)\n",
    "    t_array_add.append(taa)"
   ]
  },
  {
   "cell_type": "code",
   "execution_count": 6,
   "metadata": {
    "execution": {
     "iopub.execute_input": "2020-10-26T12:52:11.514960Z",
     "iopub.status.busy": "2020-10-26T12:52:11.514393Z",
     "iopub.status.idle": "2020-10-26T12:52:11.741702Z",
     "shell.execute_reply": "2020-10-26T12:52:11.742164Z"
    }
   },
   "outputs": [
    {
     "data": {
      "image/png": "[encoded data removed]",
      "text/plain": [
       "<Figure size 432x288 with 1 Axes>"
      ]
     },
     "metadata": {
      "needs_background": "light"
     },
     "output_type": "display_data"
    }
   ],
   "source": [
    "fig, ax = plt.subplots(1,1)\n",
    "ax.plot(sizes, t_numeric, 'o-', label='Inserting row-by-row')\n",
    "ax.plot(sizes, t_numeric_add, 'o-', label='Inserting row-by-row: add_result only')\n",
    "ax.plot(sizes, t_array, 'd-', label='Inserting as binary blob')\n",
    "ax.plot(sizes, t_array_add, 'd-', label='Inserting as binary blob: add_result only')\n",
    "ax.legend()\n",
    "ax.set_xlabel('Array length')\n",
    "ax.set_ylabel('Time (s)')\n",
    "fig.tight_layout()"
   ]
  },
  {
   "cell_type": "markdown",
   "metadata": {},
   "source": [
    "As shown in the latter figure, the time to setup and and close the experiment is approximately 0.4 sec. In case of small array sizes, the difference between inserting values of data as arrays and inserting them row-by-row is relatively unimportant. At larger array sizes, i.e. above 10000 points, the cost of writing data as individual datapoints starts to become important.\n"
   ]
  },
  {
   "cell_type": "markdown",
   "metadata": {},
   "source": [
    "### Case2: Long experiment time "
   ]
  },
  {
   "cell_type": "code",
   "execution_count": 7,
   "metadata": {
    "execution": {
     "iopub.execute_input": "2020-10-26T12:52:11.748737Z",
     "iopub.status.busy": "2020-10-26T12:52:11.747693Z",
     "iopub.status.idle": "2020-10-26T12:53:04.837227Z",
     "shell.execute_reply": "2020-10-26T12:53:04.836802Z"
    }
   },
   "outputs": [
    {
     "name": "stdout",
     "output_type": "stream",
     "text": [
      "Starting experimental run with id: 15. \n",
      "Starting experimental run with id: 16. \n",
      "Starting experimental run with id: 17. \n"
     ]
    },
    {
     "name": "stdout",
     "output_type": "stream",
     "text": [
      "Starting experimental run with id: 18. \n",
      "Starting experimental run with id: 19. \n"
     ]
    },
    {
     "name": "stdout",
     "output_type": "stream",
     "text": [
      "Starting experimental run with id: 20. \n"
     ]
    },
    {
     "name": "stdout",
     "output_type": "stream",
     "text": [
      "Starting experimental run with id: 21. \n"
     ]
    },
    {
     "name": "stdout",
     "output_type": "stream",
     "text": [
      "Starting experimental run with id: 22. \n"
     ]
    },
    {
     "name": "stdout",
     "output_type": "stream",
     "text": [
      "Starting experimental run with id: 23. \n"
     ]
    },
    {
     "name": "stdout",
     "output_type": "stream",
     "text": [
      "Starting experimental run with id: 24. \n"
     ]
    },
    {
     "name": "stdout",
     "output_type": "stream",
     "text": [
      "Starting experimental run with id: 25. \n"
     ]
    },
    {
     "name": "stdout",
     "output_type": "stream",
     "text": [
      "Starting experimental run with id: 26. \n"
     ]
    },
    {
     "name": "stdout",
     "output_type": "stream",
     "text": [
      "Starting experimental run with id: 27. \n"
     ]
    },
    {
     "name": "stdout",
     "output_type": "stream",
     "text": [
      "Starting experimental run with id: 28. \n"
     ]
    }
   ],
   "source": [
    "sizes = [1,500,1000,2000,3000,4000,5000]\n",
    "nreps = 100\n",
    "t_numeric = []\n",
    "t_numeric_add = []\n",
    "t_numeric_run_ids = []\n",
    "t_array = []\n",
    "t_array_add = []\n",
    "t_array_run_ids = []\n",
    "for size in sizes:\n",
    "    tn, tna, run_id_n =  insert_data('numeric', size, nreps=nreps)\n",
    "    t_numeric.append(tn)\n",
    "    t_numeric_add.append(tna)\n",
    "    t_numeric_run_ids.append(run_id_n)\n",
    "\n",
    "    ta, taa, run_id_a =  insert_data('array', size, nreps=nreps)\n",
    "    t_array.append(ta)\n",
    "    t_array_add.append(taa)\n",
    "    t_array_run_ids.append(run_id_a)"
   ]
  },
  {
   "cell_type": "code",
   "execution_count": 8,
   "metadata": {
    "execution": {
     "iopub.execute_input": "2020-10-26T12:53:04.860456Z",
     "iopub.status.busy": "2020-10-26T12:53:04.854649Z",
     "iopub.status.idle": "2020-10-26T12:53:05.080413Z",
     "shell.execute_reply": "2020-10-26T12:53:05.079833Z"
    },
    "scrolled": true
   },
   "outputs": [
    {
     "data": {
      "image/png": "[encoded data removed]",
      "text/plain": [
       "<Figure size 432x288 with 1 Axes>"
      ]
     },
     "metadata": {
      "needs_background": "light"
     },
     "output_type": "display_data"
    }
   ],
   "source": [
    "fig, ax = plt.subplots(1,1)\n",
    "ax.plot(sizes, t_numeric, 'o-', label='Inserting row-by-row')\n",
    "ax.plot(sizes, t_numeric_add, 'o-', label='Inserting row-by-row: add_result only')\n",
    "ax.plot(sizes, t_array, 'd-', label='Inserting as binary blob')\n",
    "ax.plot(sizes, t_array_add, 'd-', label='Inserting as binary blob: add_result only')\n",
    "ax.legend()\n",
    "ax.set_xlabel('Array length')\n",
    "ax.set_ylabel('Time (s)')\n",
    "fig.tight_layout()"
   ]
  },
  {
   "cell_type": "markdown",
   "metadata": {},
   "source": [
    "However, as we increase the length of the experiment, as seen here by repeating the insertion 100 times, we see a big difference between inserting values of the data row-by-row and inserting it as a binary blob."
   ]
  },
  {
   "cell_type": "markdown",
   "metadata": {},
   "source": [
    "## Loading the data "
   ]
  },
  {
   "cell_type": "code",
   "execution_count": 9,
   "metadata": {
    "execution": {
     "iopub.execute_input": "2020-10-26T12:53:05.084419Z",
     "iopub.status.busy": "2020-10-26T12:53:05.083810Z",
     "iopub.status.idle": "2020-10-26T12:53:05.087498Z",
     "shell.execute_reply": "2020-10-26T12:53:05.086966Z"
    }
   },
   "outputs": [],
   "source": [
    "from qcodes.dataset.data_set import load_by_id\n",
    "from qcodes.dataset.data_export import get_data_by_id"
   ]
  },
  {
   "cell_type": "markdown",
   "metadata": {},
   "source": [
    "As usual you can load the data by using the ``load_by_id`` function but you will notice that the different storage methods\n",
    "are reflected in shape of the data as it is retrieved. "
   ]
  },
  {
   "cell_type": "code",
   "execution_count": 10,
   "metadata": {
    "execution": {
     "iopub.execute_input": "2020-10-26T12:53:05.092201Z",
     "iopub.status.busy": "2020-10-26T12:53:05.090765Z",
     "iopub.status.idle": "2020-10-26T12:53:05.092873Z",
     "shell.execute_reply": "2020-10-26T12:53:05.093354Z"
    }
   },
   "outputs": [],
   "source": [
    "run_id_n = t_numeric_run_ids[0]\n",
    "run_id_a = t_array_run_ids[0]"
   ]
  },
  {
   "cell_type": "code",
   "execution_count": 11,
   "metadata": {
    "execution": {
     "iopub.execute_input": "2020-10-26T12:53:05.096999Z",
     "iopub.status.busy": "2020-10-26T12:53:05.096515Z",
     "iopub.status.idle": "2020-10-26T12:53:05.104738Z",
     "shell.execute_reply": "2020-10-26T12:53:05.104331Z"
    },
    "scrolled": true
   },
   "outputs": [
    {
     "data": {
      "text/plain": [
       "{'x1': {'x1': array([0.58626852, 0.58626852, 0.31969531, 0.31969531, 0.96482194,\n",
       "         0.96482194, 0.84635902, 0.84635902, 0.1091826 , 0.1091826 ,\n",
       "         0.03008981, 0.03008981, 0.94014922, 0.94014922, 0.86803005,\n",
       "         0.86803005, 0.91605677, 0.91605677, 0.28851288, 0.28851288,\n",
       "         0.8997871 , 0.8997871 , 0.92432415, 0.92432415, 0.42332736,\n",
       "         0.42332736, 0.02504574, 0.02504574, 0.19965458, 0.19965458,\n",
       "         0.95522007, 0.95522007, 0.8211558 , 0.8211558 , 0.14233553,\n",
       "         0.14233553, 0.59791466, 0.59791466, 0.64073341, 0.64073341,\n",
       "         0.59992053, 0.59992053, 0.58901693, 0.58901693, 0.71290213,\n",
       "         0.71290213, 0.16712556, 0.16712556, 0.98920918, 0.98920918,\n",
       "         0.98027476, 0.98027476, 0.36463681, 0.36463681, 0.22693269,\n",
       "         0.22693269, 0.23438392, 0.23438392, 0.24291385, 0.24291385,\n",
       "         0.64419691, 0.64419691, 0.29566363, 0.29566363, 0.42090693,\n",
       "         0.42090693, 0.80775051, 0.80775051, 0.02173069, 0.02173069,\n",
       "         0.75464042, 0.75464042, 0.74899492, 0.74899492, 0.25487524,\n",
       "         0.25487524, 0.49211201, 0.49211201, 0.17608777, 0.17608777,\n",
       "         0.83157491, 0.83157491, 0.60471478, 0.60471478, 0.58525015,\n",
       "         0.58525015, 0.20776472, 0.20776472, 0.67386204, 0.67386204,\n",
       "         0.15060728, 0.15060728, 0.05936288, 0.05936288, 0.63480069,\n",
       "         0.63480069, 0.29870983, 0.29870983, 0.87309492, 0.87309492,\n",
       "         0.16698903, 0.16698903, 0.86672096, 0.86672096, 0.49822582,\n",
       "         0.49822582, 0.28787467, 0.28787467, 0.54232657, 0.54232657,\n",
       "         0.68751192, 0.68751192, 0.60821645, 0.60821645, 0.17086568,\n",
       "         0.17086568, 0.05801152, 0.05801152, 0.41643902, 0.41643902,\n",
       "         0.00815367, 0.00815367, 0.32725019, 0.32725019, 0.96947792,\n",
       "         0.96947792, 0.49013154, 0.49013154, 0.6337777 , 0.6337777 ,\n",
       "         0.36405154, 0.36405154, 0.80513009, 0.80513009, 0.68184366,\n",
       "         0.68184366, 0.93818762, 0.93818762, 0.49260624, 0.49260624,\n",
       "         0.76036125, 0.76036125, 0.7913716 , 0.7913716 , 0.8441135 ,\n",
       "         0.8441135 , 0.34212613, 0.34212613, 0.62124944, 0.62124944,\n",
       "         0.05575622, 0.05575622, 0.37136609, 0.37136609, 0.15249721,\n",
       "         0.15249721, 0.05539523, 0.05539523, 0.35619973, 0.35619973,\n",
       "         0.0379962 , 0.0379962 , 0.80977006, 0.80977006, 0.81621941,\n",
       "         0.81621941, 0.17226537, 0.17226537, 0.61841511, 0.61841511,\n",
       "         0.80002052, 0.80002052, 0.09081747, 0.09081747, 0.01022187,\n",
       "         0.01022187, 0.909686  , 0.909686  , 0.44049078, 0.44049078,\n",
       "         0.11507661, 0.11507661, 0.439802  , 0.439802  , 0.95854379,\n",
       "         0.95854379, 0.41186722, 0.41186722, 0.3878901 , 0.3878901 ,\n",
       "         0.18948391, 0.18948391, 0.92044338, 0.92044338, 0.27788172,\n",
       "         0.27788172, 0.05890406, 0.05890406, 0.04847231, 0.04847231])}}"
      ]
     },
     "execution_count": 1,
     "metadata": {},
     "output_type": "execute_result"
    }
   ],
   "source": [
    "ds = load_by_id(run_id_n)\n",
    "ds.get_parameter_data('x1')"
   ]
  },
  {
   "cell_type": "markdown",
   "metadata": {},
   "source": [
    "And a dataset stored as binary arrays"
   ]
  },
  {
   "cell_type": "code",
   "execution_count": 12,
   "metadata": {
    "execution": {
     "iopub.execute_input": "2020-10-26T12:53:05.108055Z",
     "iopub.status.busy": "2020-10-26T12:53:05.107573Z",
     "iopub.status.idle": "2020-10-26T12:53:05.159822Z",
     "shell.execute_reply": "2020-10-26T12:53:05.159365Z"
    },
    "scrolled": true
   },
   "outputs": [
    {
     "data": {
      "text/plain": [
       "{'x1': {'x1': array([[5.88418141e-02],\n",
       "         [5.88418141e-02],\n",
       "         [1.88698321e-01],\n",
       "         [1.88698321e-01],\n",
       "         [9.71664607e-01],\n",
       "         [9.71664607e-01],\n",
       "         [8.25620654e-01],\n",
       "         [8.25620654e-01],\n",
       "         [2.98393720e-01],\n",
       "         [2.98393720e-01],\n",
       "         [7.43692837e-01],\n",
       "         [7.43692837e-01],\n",
       "         [9.91596892e-01],\n",
       "         [9.91596892e-01],\n",
       "         [4.76139912e-01],\n",
       "         [4.76139912e-01],\n",
       "         [6.87163142e-01],\n",
       "         [6.87163142e-01],\n",
       "         [6.71992061e-01],\n",
       "         [6.71992061e-01],\n",
       "         [2.00747172e-01],\n",
       "         [2.00747172e-01],\n",
       "         [1.21595600e-01],\n",
       "         [1.21595600e-01],\n",
       "         [2.70404672e-01],\n",
       "         [2.70404672e-01],\n",
       "         [7.55360206e-01],\n",
       "         [7.55360206e-01],\n",
       "         [5.45857137e-01],\n",
       "         [5.45857137e-01],\n",
       "         [7.29395313e-01],\n",
       "         [7.29395313e-01],\n",
       "         [7.68408146e-01],\n",
       "         [7.68408146e-01],\n",
       "         [5.19930354e-01],\n",
       "         [5.19930354e-01],\n",
       "         [6.35660874e-01],\n",
       "         [6.35660874e-01],\n",
       "         [2.97129700e-01],\n",
       "         [2.97129700e-01],\n",
       "         [8.01510441e-01],\n",
       "         [8.01510441e-01],\n",
       "         [2.10334417e-01],\n",
       "         [2.10334417e-01],\n",
       "         [3.92209184e-01],\n",
       "         [3.92209184e-01],\n",
       "         [5.32246268e-01],\n",
       "         [5.32246268e-01],\n",
       "         [3.93140442e-01],\n",
       "         [3.93140442e-01],\n",
       "         [7.76821095e-01],\n",
       "         [7.76821095e-01],\n",
       "         [6.64257342e-01],\n",
       "         [6.64257342e-01],\n",
       "         [3.84201061e-01],\n",
       "         [3.84201061e-01],\n",
       "         [8.87321325e-01],\n",
       "         [8.87321325e-01],\n",
       "         [8.55639387e-01],\n",
       "         [8.55639387e-01],\n",
       "         [6.00529333e-01],\n",
       "         [6.00529333e-01],\n",
       "         [8.83480903e-03],\n",
       "         [8.83480903e-03],\n",
       "         [8.95836449e-01],\n",
       "         [8.95836449e-01],\n",
       "         [5.78932256e-01],\n",
       "         [5.78932256e-01],\n",
       "         [2.54488323e-01],\n",
       "         [2.54488323e-01],\n",
       "         [2.51720194e-01],\n",
       "         [2.51720194e-01],\n",
       "         [5.58174551e-01],\n",
       "         [5.58174551e-01],\n",
       "         [5.48945021e-01],\n",
       "         [5.48945021e-01],\n",
       "         [3.52201376e-01],\n",
       "         [3.52201376e-01],\n",
       "         [4.28397916e-01],\n",
       "         [4.28397916e-01],\n",
       "         [4.37537497e-01],\n",
       "         [4.37537497e-01],\n",
       "         [6.18284097e-01],\n",
       "         [6.18284097e-01],\n",
       "         [8.66900456e-01],\n",
       "         [8.66900456e-01],\n",
       "         [6.00675797e-01],\n",
       "         [6.00675797e-01],\n",
       "         [9.02686451e-01],\n",
       "         [9.02686451e-01],\n",
       "         [9.64789940e-01],\n",
       "         [9.64789940e-01],\n",
       "         [7.26440200e-01],\n",
       "         [7.26440200e-01],\n",
       "         [4.08062406e-01],\n",
       "         [4.08062406e-01],\n",
       "         [7.15289412e-01],\n",
       "         [7.15289412e-01],\n",
       "         [7.52280287e-01],\n",
       "         [7.52280287e-01],\n",
       "         [4.03160733e-01],\n",
       "         [4.03160733e-01],\n",
       "         [4.49125202e-01],\n",
       "         [4.49125202e-01],\n",
       "         [3.13400298e-01],\n",
       "         [3.13400298e-01],\n",
       "         [6.12887192e-01],\n",
       "         [6.12887192e-01],\n",
       "         [9.69809661e-01],\n",
       "         [9.69809661e-01],\n",
       "         [7.63652376e-01],\n",
       "         [7.63652376e-01],\n",
       "         [7.66218283e-01],\n",
       "         [7.66218283e-01],\n",
       "         [1.92091484e-01],\n",
       "         [1.92091484e-01],\n",
       "         [8.60166150e-01],\n",
       "         [8.60166150e-01],\n",
       "         [6.70828320e-01],\n",
       "         [6.70828320e-01],\n",
       "         [9.95757952e-01],\n",
       "         [9.95757952e-01],\n",
       "         [8.88112056e-01],\n",
       "         [8.88112056e-01],\n",
       "         [5.71459588e-01],\n",
       "         [5.71459588e-01],\n",
       "         [6.62193363e-02],\n",
       "         [6.62193363e-02],\n",
       "         [4.58832208e-01],\n",
       "         [4.58832208e-01],\n",
       "         [6.58237183e-01],\n",
       "         [6.58237183e-01],\n",
       "         [3.32270556e-01],\n",
       "         [3.32270556e-01],\n",
       "         [6.72975314e-01],\n",
       "         [6.72975314e-01],\n",
       "         [9.79462430e-01],\n",
       "         [9.79462430e-01],\n",
       "         [8.34585140e-01],\n",
       "         [8.34585140e-01],\n",
       "         [9.88384088e-01],\n",
       "         [9.88384088e-01],\n",
       "         [7.44284549e-01],\n",
       "         [7.44284549e-01],\n",
       "         [8.13598907e-01],\n",
       "         [8.13598907e-01],\n",
       "         [4.02140349e-01],\n",
       "         [4.02140349e-01],\n",
       "         [6.96230049e-01],\n",
       "         [6.96230049e-01],\n",
       "         [7.14654513e-01],\n",
       "         [7.14654513e-01],\n",
       "         [2.02528007e-01],\n",
       "         [2.02528007e-01],\n",
       "         [9.49661853e-01],\n",
       "         [9.49661853e-01],\n",
       "         [1.17354202e-01],\n",
       "         [1.17354202e-01],\n",
       "         [9.53209917e-01],\n",
       "         [9.53209917e-01],\n",
       "         [8.34588568e-01],\n",
       "         [8.34588568e-01],\n",
       "         [6.33882726e-01],\n",
       "         [6.33882726e-01],\n",
       "         [6.47221090e-02],\n",
       "         [6.47221090e-02],\n",
       "         [2.25893805e-01],\n",
       "         [2.25893805e-01],\n",
       "         [8.60879561e-01],\n",
       "         [8.60879561e-01],\n",
       "         [4.96864101e-01],\n",
       "         [4.96864101e-01],\n",
       "         [2.33460956e-01],\n",
       "         [2.33460956e-01],\n",
       "         [6.70401792e-01],\n",
       "         [6.70401792e-01],\n",
       "         [1.81941222e-01],\n",
       "         [1.81941222e-01],\n",
       "         [9.36027848e-01],\n",
       "         [9.36027848e-01],\n",
       "         [8.45733514e-01],\n",
       "         [8.45733514e-01],\n",
       "         [1.27847866e-01],\n",
       "         [1.27847866e-01],\n",
       "         [8.82528765e-02],\n",
       "         [8.82528765e-02],\n",
       "         [6.30689328e-01],\n",
       "         [6.30689328e-01],\n",
       "         [5.54257370e-01],\n",
       "         [5.54257370e-01],\n",
       "         [2.51892199e-04],\n",
       "         [2.51892199e-04],\n",
       "         [3.75987422e-01],\n",
       "         [3.75987422e-01],\n",
       "         [5.19357416e-01],\n",
       "         [5.19357416e-01],\n",
       "         [3.44088766e-01],\n",
       "         [3.44088766e-01],\n",
       "         [4.89389347e-01],\n",
       "         [4.89389347e-01]])}}"
      ]
     },
     "execution_count": 1,
     "metadata": {},
     "output_type": "execute_result"
    }
   ],
   "source": [
    "ds = load_by_id(run_id_a)\n",
    "ds.get_parameter_data('x1')"
   ]
  },
  {
   "cell_type": "code",
   "execution_count": null,
   "metadata": {},
   "outputs": [],
   "source": []
  }
 ],
 "metadata": {
  "kernelspec": {
   "display_name": "Python 3",
   "language": "python",
   "name": "python3"
  },
  "language_info": {
   "codemirror_mode": {
    "name": "ipython",
    "version": 3
   },
   "file_extension": ".py",
   "mimetype": "text/x-python",
   "name": "python",
   "nbconvert_exporter": "python",
   "pygments_lexer": "ipython3",
   "version": "3.7.7"
  },
  "nbsphinx": {
   "timeout": 600
  },
  "toc": {
   "base_numbering": 1,
   "nav_menu": {},
   "number_sections": true,
   "sideBar": true,
   "skip_h1_title": false,
   "title_cell": "Table of Contents",
   "title_sidebar": "Contents",
   "toc_cell": false,
   "toc_position": {},
   "toc_section_display": true,
   "toc_window_display": false
  },
  "varInspector": {
   "cols": {
    "lenName": 16,
    "lenType": 16,
    "lenVar": 40
   },
   "kernels_config": {
    "python": {
     "delete_cmd_postfix": "",
     "delete_cmd_prefix": "del ",
     "library": "var_list.py",
     "varRefreshCmd": "print(var_dic_list())"
    },
    "r": {
     "delete_cmd_postfix": ") ",
     "delete_cmd_prefix": "rm(",
     "library": "var_list.r",
     "varRefreshCmd": "cat(var_dic_list()) "
    }
   },
   "types_to_exclude": [
    "module",
    "function",
    "builtin_function_or_method",
    "instance",
    "_Feature"
   ],
   "window_display": false
  }
 },
 "nbformat": 4,
 "nbformat_minor": 2
}
