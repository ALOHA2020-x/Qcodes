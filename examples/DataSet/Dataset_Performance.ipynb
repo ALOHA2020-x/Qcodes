{
 "cells": [
  {
   "cell_type": "markdown",
   "metadata": {},
   "source": [
    "# DataSet Performance\n",
    "\n",
    "This notebook shows the trade-off between inserting data into a database row-by-row and as binary blobs. Inserting the data row-by-row means that we have direct access to all the data and may perform queries directly on the values of the data. On the other hand, as we shall see, this is much slower than inserting the data directly as binary blobs."
   ]
  },
  {
   "cell_type": "markdown",
   "metadata": {},
   "source": [
    "First, we choose a new location for the database to ensure that we don't add a bunch of benchmarking data to the default one."
   ]
  },
  {
   "cell_type": "code",
   "execution_count": 1,
   "metadata": {
    "execution": {
     "iopub.execute_input": "2021-05-21T06:27:30.163145Z",
     "iopub.status.busy": "2021-05-21T06:27:30.162606Z",
     "iopub.status.idle": "2021-05-21T06:27:31.250578Z",
     "shell.execute_reply": "2021-05-21T06:27:31.249056Z"
    }
   },
   "outputs": [
    {
     "name": "stdout",
     "output_type": "stream",
     "text": [
      "Logging hadn't been started.\n",
      "Activating auto-logging. Current session state plus future input saved.\n",
      "Filename       : /home/runner/.qcodes/logs/command_history.log\n",
      "Mode           : append\n",
      "Output logging : True\n",
      "Raw input log  : False\n",
      "Timestamping   : True\n",
      "State          : active\n"
     ]
    },
    {
     "name": "stdout",
     "output_type": "stream",
     "text": [
      "Qcodes Logfile : /home/runner/.qcodes/logs/210521-4960-qcodes.log\n"
     ]
    }
   ],
   "source": [
    "import os\n",
    "cwd = os.getcwd()\n",
    "import qcodes as qc\n",
    "qc.config[\"core\"][\"db_location\"] = os.path.join(cwd, 'testing.db')\n"
   ]
  },
  {
   "cell_type": "code",
   "execution_count": 2,
   "metadata": {
    "execution": {
     "iopub.execute_input": "2021-05-21T06:27:31.258107Z",
     "iopub.status.busy": "2021-05-21T06:27:31.257520Z",
     "iopub.status.idle": "2021-05-21T06:27:31.447961Z",
     "shell.execute_reply": "2021-05-21T06:27:31.447074Z"
    }
   },
   "outputs": [],
   "source": [
    "%matplotlib inline\n",
    "import time\n",
    "import matplotlib.pyplot as plt\n",
    "import numpy as np\n",
    "\n",
    "import qcodes as qc\n",
    "from qcodes.instrument.parameter import ManualParameter\n",
    "from qcodes.dataset.experiment_container import (Experiment,\n",
    "                                                 load_last_experiment,\n",
    "                                                 new_experiment)\n",
    "from qcodes.dataset.sqlite.database import initialise_database\n",
    "from qcodes import load_or_create_experiment\n",
    "from qcodes.dataset.measurements import Measurement"
   ]
  },
  {
   "cell_type": "code",
   "execution_count": 3,
   "metadata": {
    "execution": {
     "iopub.execute_input": "2021-05-21T06:27:31.451783Z",
     "iopub.status.busy": "2021-05-21T06:27:31.451190Z",
     "iopub.status.idle": "2021-05-21T06:27:31.513556Z",
     "shell.execute_reply": "2021-05-21T06:27:31.513064Z"
    }
   },
   "outputs": [
    {
     "name": "stdout",
     "output_type": "stream",
     "text": [
      "\r",
      "0it [00:00, ?it/s]"
     ]
    },
    {
     "name": "stdout",
     "output_type": "stream",
     "text": [
      "\r",
      "Upgrading database; v0 -> v1: : 0it [00:00, ?it/s]"
     ]
    },
    {
     "name": "stdout",
     "output_type": "stream",
     "text": [
      "\r",
      "Upgrading database; v0 -> v1: : 0it [00:00, ?it/s]"
     ]
    },
    {
     "name": "stdout",
     "output_type": "stream",
     "text": [
      "\n",
      "\r",
      "  0%|          | 0/1 [00:00<?, ?it/s]"
     ]
    },
    {
     "name": "stdout",
     "output_type": "stream",
     "text": [
      "\r",
      "Upgrading database; v1 -> v2:   0%|          | 0/1 [00:00<?, ?it/s]"
     ]
    },
    {
     "name": "stdout",
     "output_type": "stream",
     "text": [
      "\r",
      "Upgrading database; v1 -> v2: 100%|██████████| 1/1 [00:00<00:00, 1183.83it/s]"
     ]
    },
    {
     "name": "stdout",
     "output_type": "stream",
     "text": [
      "\n",
      "\r",
      "0it [00:00, ?it/s]"
     ]
    },
    {
     "name": "stdout",
     "output_type": "stream",
     "text": [
      "\r",
      "Upgrading database; v2 -> v3: : 0it [00:00, ?it/s]"
     ]
    },
    {
     "name": "stdout",
     "output_type": "stream",
     "text": [
      "\r",
      "Upgrading database; v2 -> v3: : 0it [00:00, ?it/s]"
     ]
    },
    {
     "name": "stdout",
     "output_type": "stream",
     "text": [
      "\n",
      "\r",
      "0it [00:00, ?it/s]"
     ]
    },
    {
     "name": "stdout",
     "output_type": "stream",
     "text": [
      "\r",
      "Upgrading database; v3 -> v4: : 0it [00:00, ?it/s]"
     ]
    },
    {
     "name": "stdout",
     "output_type": "stream",
     "text": [
      "\r",
      "Upgrading database; v3 -> v4: : 0it [00:00, ?it/s]"
     ]
    },
    {
     "name": "stdout",
     "output_type": "stream",
     "text": [
      "\n",
      "\r",
      "  0%|          | 0/1 [00:00<?, ?it/s]"
     ]
    },
    {
     "name": "stdout",
     "output_type": "stream",
     "text": [
      "\r",
      "Upgrading database; v4 -> v5:   0%|          | 0/1 [00:00<?, ?it/s]"
     ]
    },
    {
     "name": "stdout",
     "output_type": "stream",
     "text": [
      "\r",
      "Upgrading database; v4 -> v5: 100%|██████████| 1/1 [00:00<00:00, 664.50it/s]"
     ]
    },
    {
     "name": "stdout",
     "output_type": "stream",
     "text": [
      "\n",
      "\r",
      "0it [00:00, ?it/s]"
     ]
    },
    {
     "name": "stdout",
     "output_type": "stream",
     "text": [
      "\r",
      "Upgrading database; v5 -> v6: : 0it [00:00, ?it/s]"
     ]
    },
    {
     "name": "stdout",
     "output_type": "stream",
     "text": [
      "\r",
      "Upgrading database; v5 -> v6: : 0it [00:00, ?it/s]"
     ]
    },
    {
     "name": "stdout",
     "output_type": "stream",
     "text": [
      "\n",
      "\r",
      "  0%|          | 0/1 [00:00<?, ?it/s]"
     ]
    },
    {
     "name": "stdout",
     "output_type": "stream",
     "text": [
      "\r",
      "Upgrading database; v6 -> v7:   0%|          | 0/1 [00:00<?, ?it/s]"
     ]
    },
    {
     "name": "stdout",
     "output_type": "stream",
     "text": [
      "\r",
      "Upgrading database; v6 -> v7: 100%|██████████| 1/1 [00:00<00:00, 289.18it/s]"
     ]
    },
    {
     "name": "stdout",
     "output_type": "stream",
     "text": [
      "\n",
      "\r",
      "  0%|          | 0/1 [00:00<?, ?it/s]"
     ]
    },
    {
     "name": "stdout",
     "output_type": "stream",
     "text": [
      "\r",
      "Upgrading database; v7 -> v8:   0%|          | 0/1 [00:00<?, ?it/s]"
     ]
    },
    {
     "name": "stdout",
     "output_type": "stream",
     "text": [
      "\r",
      "Upgrading database; v7 -> v8: 100%|██████████| 1/1 [00:00<00:00, 781.64it/s]"
     ]
    },
    {
     "name": "stdout",
     "output_type": "stream",
     "text": [
      "\n",
      "\r",
      "  0%|          | 0/1 [00:00<?, ?it/s]"
     ]
    },
    {
     "name": "stdout",
     "output_type": "stream",
     "text": [
      "\r",
      "Upgrading database; v8 -> v9:   0%|          | 0/1 [00:00<?, ?it/s]"
     ]
    },
    {
     "name": "stdout",
     "output_type": "stream",
     "text": [
      "\r",
      "Upgrading database; v8 -> v9: 100%|██████████| 1/1 [00:00<00:00, 1053.58it/s]"
     ]
    },
    {
     "name": "stdout",
     "output_type": "stream",
     "text": [
      "\n"
     ]
    }
   ],
   "source": [
    "initialise_database()\n",
    "exp = load_or_create_experiment(experiment_name='tutorial_exp', sample_name=\"no sample\")"
   ]
  },
  {
   "cell_type": "markdown",
   "metadata": {},
   "source": [
    "Here, we define a simple function to benchmark the time it takes to insert n points with either numeric or array data type.\n",
    "We will compare both the time used to call ``add_result`` and the time used for the full measurement."
   ]
  },
  {
   "cell_type": "code",
   "execution_count": 4,
   "metadata": {
    "execution": {
     "iopub.execute_input": "2021-05-21T06:27:31.521930Z",
     "iopub.status.busy": "2021-05-21T06:27:31.521426Z",
     "iopub.status.idle": "2021-05-21T06:27:31.525244Z",
     "shell.execute_reply": "2021-05-21T06:27:31.524722Z"
    }
   },
   "outputs": [],
   "source": [
    "def insert_data(paramtype, npoints, nreps=1):\n",
    "\n",
    "    meas = Measurement(exp=exp)\n",
    "\n",
    "    x1 = ManualParameter('x1')\n",
    "    x2 = ManualParameter('x2')\n",
    "    x3 = ManualParameter('x3')\n",
    "    y1 = ManualParameter('y1')\n",
    "    y2 = ManualParameter('y2')\n",
    "\n",
    "    meas.register_parameter(x1, paramtype=paramtype)\n",
    "    meas.register_parameter(x2, paramtype=paramtype)\n",
    "    meas.register_parameter(x3, paramtype=paramtype)\n",
    "    meas.register_parameter(y1, setpoints=[x1, x2, x3],\n",
    "                            paramtype=paramtype)\n",
    "    meas.register_parameter(y2, setpoints=[x1, x2, x3],\n",
    "                            paramtype=paramtype)\n",
    "    start = time.perf_counter()\n",
    "    with meas.run() as datasaver:\n",
    "        start_adding = time.perf_counter()\n",
    "        for i in range(nreps):\n",
    "            datasaver.add_result((x1, np.random.rand(npoints)),\n",
    "                                 (x2, np.random.rand(npoints)),\n",
    "                                 (x3, np.random.rand(npoints)),\n",
    "                                 (y1, np.random.rand(npoints)),\n",
    "                                 (y2, np.random.rand(npoints)))\n",
    "        stop_adding = time.perf_counter()\n",
    "        run_id = datasaver.run_id\n",
    "    stop = time.perf_counter()\n",
    "    tot_time = stop - start\n",
    "    add_time = stop_adding - start_adding\n",
    "    return tot_time, add_time, run_id"
   ]
  },
  {
   "cell_type": "markdown",
   "metadata": {},
   "source": [
    "## Comparison between numeric/array data and binary blob"
   ]
  },
  {
   "cell_type": "markdown",
   "metadata": {},
   "source": [
    "### Case1: Short experiment time"
   ]
  },
  {
   "cell_type": "code",
   "execution_count": 5,
   "metadata": {
    "execution": {
     "iopub.execute_input": "2021-05-21T06:27:31.531157Z",
     "iopub.status.busy": "2021-05-21T06:27:31.530597Z",
     "iopub.status.idle": "2021-05-21T06:27:32.298194Z",
     "shell.execute_reply": "2021-05-21T06:27:32.297728Z"
    }
   },
   "outputs": [
    {
     "name": "stdout",
     "output_type": "stream",
     "text": [
      "Starting experimental run with id: 1. \n",
      "Starting experimental run with id: 2. \n",
      "Starting experimental run with id: 3. \n"
     ]
    },
    {
     "name": "stdout",
     "output_type": "stream",
     "text": [
      "Starting experimental run with id: 4. \n"
     ]
    },
    {
     "name": "stdout",
     "output_type": "stream",
     "text": [
      "Starting experimental run with id: 5. \n"
     ]
    },
    {
     "name": "stdout",
     "output_type": "stream",
     "text": [
      "Starting experimental run with id: 6. \n"
     ]
    },
    {
     "name": "stdout",
     "output_type": "stream",
     "text": [
      "Starting experimental run with id: 7. \n",
      "Starting experimental run with id: 8. \n",
      "Starting experimental run with id: 9. \n"
     ]
    },
    {
     "name": "stdout",
     "output_type": "stream",
     "text": [
      "Starting experimental run with id: 10. \n"
     ]
    },
    {
     "name": "stdout",
     "output_type": "stream",
     "text": [
      "Starting experimental run with id: 11. \n",
      "Starting experimental run with id: 12. \n",
      "Starting experimental run with id: 13. \n"
     ]
    },
    {
     "name": "stdout",
     "output_type": "stream",
     "text": [
      "Starting experimental run with id: 14. \n"
     ]
    }
   ],
   "source": [
    "sizes = [1,500,1000,2000,3000,4000,5000]\n",
    "t_numeric = []\n",
    "t_numeric_add = []\n",
    "t_array = []\n",
    "t_array_add = []\n",
    "for size in sizes:\n",
    "    tn, tna, run_id_n =  insert_data('numeric', size)\n",
    "    t_numeric.append(tn)\n",
    "    t_numeric_add.append(tna)\n",
    "\n",
    "    ta, taa, run_id_a =  insert_data('array', size)\n",
    "    t_array.append(ta)\n",
    "    t_array_add.append(taa)"
   ]
  },
  {
   "cell_type": "code",
   "execution_count": 6,
   "metadata": {
    "execution": {
     "iopub.execute_input": "2021-05-21T06:27:32.315290Z",
     "iopub.status.busy": "2021-05-21T06:27:32.302249Z",
     "iopub.status.idle": "2021-05-21T06:27:32.514026Z",
     "shell.execute_reply": "2021-05-21T06:27:32.514775Z"
    }
   },
   "outputs": [
    {
     "data": {
      "image/png": "[encoded data removed]",
      "text/plain": [
       "<Figure size 432x288 with 1 Axes>"
      ]
     },
     "metadata": {
      "needs_background": "light"
     },
     "output_type": "display_data"
    }
   ],
   "source": [
    "fig, ax = plt.subplots(1,1)\n",
    "ax.plot(sizes, t_numeric, 'o-', label='Inserting row-by-row')\n",
    "ax.plot(sizes, t_numeric_add, 'o-', label='Inserting row-by-row: add_result only')\n",
    "ax.plot(sizes, t_array, 'd-', label='Inserting as binary blob')\n",
    "ax.plot(sizes, t_array_add, 'd-', label='Inserting as binary blob: add_result only')\n",
    "ax.legend()\n",
    "ax.set_xlabel('Array length')\n",
    "ax.set_ylabel('Time (s)')\n",
    "fig.tight_layout()"
   ]
  },
  {
   "cell_type": "markdown",
   "metadata": {},
   "source": [
    "As shown in the latter figure, the time to setup and and close the experiment is approximately 0.4 sec. In case of small array sizes, the difference between inserting values of data as arrays and inserting them row-by-row is relatively unimportant. At larger array sizes, i.e. above 10000 points, the cost of writing data as individual datapoints starts to become important.\n"
   ]
  },
  {
   "cell_type": "markdown",
   "metadata": {},
   "source": [
    "### Case2: Long experiment time "
   ]
  },
  {
   "cell_type": "code",
   "execution_count": 7,
   "metadata": {
    "execution": {
     "iopub.execute_input": "2021-05-21T06:27:32.519987Z",
     "iopub.status.busy": "2021-05-21T06:27:32.518917Z",
     "iopub.status.idle": "2021-05-21T06:28:24.792409Z",
     "shell.execute_reply": "2021-05-21T06:28:24.792895Z"
    }
   },
   "outputs": [
    {
     "name": "stdout",
     "output_type": "stream",
     "text": [
      "Starting experimental run with id: 15. \n",
      "Starting experimental run with id: 16. \n",
      "Starting experimental run with id: 17. \n"
     ]
    },
    {
     "name": "stdout",
     "output_type": "stream",
     "text": [
      "Starting experimental run with id: 18. \n",
      "Starting experimental run with id: 19. \n"
     ]
    },
    {
     "name": "stdout",
     "output_type": "stream",
     "text": [
      "Starting experimental run with id: 20. \n"
     ]
    },
    {
     "name": "stdout",
     "output_type": "stream",
     "text": [
      "Starting experimental run with id: 21. \n"
     ]
    },
    {
     "name": "stdout",
     "output_type": "stream",
     "text": [
      "Starting experimental run with id: 22. \n"
     ]
    },
    {
     "name": "stdout",
     "output_type": "stream",
     "text": [
      "Starting experimental run with id: 23. \n"
     ]
    },
    {
     "name": "stdout",
     "output_type": "stream",
     "text": [
      "Starting experimental run with id: 24. \n"
     ]
    },
    {
     "name": "stdout",
     "output_type": "stream",
     "text": [
      "Starting experimental run with id: 25. \n"
     ]
    },
    {
     "name": "stdout",
     "output_type": "stream",
     "text": [
      "Starting experimental run with id: 26. \n"
     ]
    },
    {
     "name": "stdout",
     "output_type": "stream",
     "text": [
      "Starting experimental run with id: 27. \n"
     ]
    },
    {
     "name": "stdout",
     "output_type": "stream",
     "text": [
      "Starting experimental run with id: 28. \n"
     ]
    }
   ],
   "source": [
    "sizes = [1,500,1000,2000,3000,4000,5000]\n",
    "nreps = 100\n",
    "t_numeric = []\n",
    "t_numeric_add = []\n",
    "t_numeric_run_ids = []\n",
    "t_array = []\n",
    "t_array_add = []\n",
    "t_array_run_ids = []\n",
    "for size in sizes:\n",
    "    tn, tna, run_id_n =  insert_data('numeric', size, nreps=nreps)\n",
    "    t_numeric.append(tn)\n",
    "    t_numeric_add.append(tna)\n",
    "    t_numeric_run_ids.append(run_id_n)\n",
    "\n",
    "    ta, taa, run_id_a =  insert_data('array', size, nreps=nreps)\n",
    "    t_array.append(ta)\n",
    "    t_array_add.append(taa)\n",
    "    t_array_run_ids.append(run_id_a)"
   ]
  },
  {
   "cell_type": "code",
   "execution_count": 8,
   "metadata": {
    "execution": {
     "iopub.execute_input": "2021-05-21T06:28:24.813792Z",
     "iopub.status.busy": "2021-05-21T06:28:24.798939Z",
     "iopub.status.idle": "2021-05-21T06:28:24.995648Z",
     "shell.execute_reply": "2021-05-21T06:28:24.995200Z"
    },
    "scrolled": true
   },
   "outputs": [
    {
     "data": {
      "image/png": "[encoded data removed]",
      "text/plain": [
       "<Figure size 432x288 with 1 Axes>"
      ]
     },
     "metadata": {
      "needs_background": "light"
     },
     "output_type": "display_data"
    }
   ],
   "source": [
    "fig, ax = plt.subplots(1,1)\n",
    "ax.plot(sizes, t_numeric, 'o-', label='Inserting row-by-row')\n",
    "ax.plot(sizes, t_numeric_add, 'o-', label='Inserting row-by-row: add_result only')\n",
    "ax.plot(sizes, t_array, 'd-', label='Inserting as binary blob')\n",
    "ax.plot(sizes, t_array_add, 'd-', label='Inserting as binary blob: add_result only')\n",
    "ax.legend()\n",
    "ax.set_xlabel('Array length')\n",
    "ax.set_ylabel('Time (s)')\n",
    "fig.tight_layout()"
   ]
  },
  {
   "cell_type": "markdown",
   "metadata": {},
   "source": [
    "However, as we increase the length of the experiment, as seen here by repeating the insertion 100 times, we see a big difference between inserting values of the data row-by-row and inserting it as a binary blob."
   ]
  },
  {
   "cell_type": "markdown",
   "metadata": {},
   "source": [
    "## Loading the data "
   ]
  },
  {
   "cell_type": "code",
   "execution_count": 9,
   "metadata": {
    "execution": {
     "iopub.execute_input": "2021-05-21T06:28:24.999753Z",
     "iopub.status.busy": "2021-05-21T06:28:24.999211Z",
     "iopub.status.idle": "2021-05-21T06:28:25.001242Z",
     "shell.execute_reply": "2021-05-21T06:28:25.001635Z"
    }
   },
   "outputs": [],
   "source": [
    "from qcodes.dataset.data_set import load_by_id"
   ]
  },
  {
   "cell_type": "markdown",
   "metadata": {},
   "source": [
    "As usual you can load the data by using the ``load_by_id`` function but you will notice that the different storage methods\n",
    "are reflected in shape of the data as it is retrieved. "
   ]
  },
  {
   "cell_type": "code",
   "execution_count": 10,
   "metadata": {
    "execution": {
     "iopub.execute_input": "2021-05-21T06:28:25.005808Z",
     "iopub.status.busy": "2021-05-21T06:28:25.004668Z",
     "iopub.status.idle": "2021-05-21T06:28:25.006474Z",
     "shell.execute_reply": "2021-05-21T06:28:25.006951Z"
    }
   },
   "outputs": [],
   "source": [
    "run_id_n = t_numeric_run_ids[0]\n",
    "run_id_a = t_array_run_ids[0]"
   ]
  },
  {
   "cell_type": "code",
   "execution_count": 11,
   "metadata": {
    "execution": {
     "iopub.execute_input": "2021-05-21T06:28:25.010361Z",
     "iopub.status.busy": "2021-05-21T06:28:25.009794Z",
     "iopub.status.idle": "2021-05-21T06:28:25.019321Z",
     "shell.execute_reply": "2021-05-21T06:28:25.019775Z"
    },
    "scrolled": true
   },
   "outputs": [
    {
     "data": {
      "text/plain": [
       "{'x1': {'x1': array([0.57680579, 0.57680579, 0.82709325, 0.82709325, 0.40419776,\n",
       "         0.40419776, 0.14534882, 0.14534882, 0.43352273, 0.43352273,\n",
       "         0.44135015, 0.44135015, 0.8185403 , 0.8185403 , 0.3093441 ,\n",
       "         0.3093441 , 0.16851377, 0.16851377, 0.6614667 , 0.6614667 ,\n",
       "         0.04567217, 0.04567217, 0.56113397, 0.56113397, 0.40750884,\n",
       "         0.40750884, 0.40019309, 0.40019309, 0.56697633, 0.56697633,\n",
       "         0.59424398, 0.59424398, 0.8538494 , 0.8538494 , 0.46254005,\n",
       "         0.46254005, 0.50277768, 0.50277768, 0.52746198, 0.52746198,\n",
       "         0.76010573, 0.76010573, 0.40705556, 0.40705556, 0.84439014,\n",
       "         0.84439014, 0.78111098, 0.78111098, 0.14615103, 0.14615103,\n",
       "         0.40989885, 0.40989885, 0.38254452, 0.38254452, 0.5068996 ,\n",
       "         0.5068996 , 0.62446082, 0.62446082, 0.07928645, 0.07928645,\n",
       "         0.09790251, 0.09790251, 0.1714309 , 0.1714309 , 0.75639903,\n",
       "         0.75639903, 0.41369999, 0.41369999, 0.97923537, 0.97923537,\n",
       "         0.47335872, 0.47335872, 0.06330324, 0.06330324, 0.1411484 ,\n",
       "         0.1411484 , 0.56318176, 0.56318176, 0.48809961, 0.48809961,\n",
       "         0.02647812, 0.02647812, 0.1609537 , 0.1609537 , 0.73102577,\n",
       "         0.73102577, 0.40059624, 0.40059624, 0.67300285, 0.67300285,\n",
       "         0.32441903, 0.32441903, 0.49166151, 0.49166151, 0.65655059,\n",
       "         0.65655059, 0.04238852, 0.04238852, 0.80249552, 0.80249552,\n",
       "         0.92597692, 0.92597692, 0.5906543 , 0.5906543 , 0.29831635,\n",
       "         0.29831635, 0.8389923 , 0.8389923 , 0.99404029, 0.99404029,\n",
       "         0.78578325, 0.78578325, 0.54186306, 0.54186306, 0.98872465,\n",
       "         0.98872465, 0.04696133, 0.04696133, 0.54338354, 0.54338354,\n",
       "         0.607822  , 0.607822  , 0.69034782, 0.69034782, 0.84689261,\n",
       "         0.84689261, 0.72618916, 0.72618916, 0.00411563, 0.00411563,\n",
       "         0.5026133 , 0.5026133 , 0.35318945, 0.35318945, 0.87234264,\n",
       "         0.87234264, 0.97866548, 0.97866548, 0.15138144, 0.15138144,\n",
       "         0.3037941 , 0.3037941 , 0.01224149, 0.01224149, 0.49319768,\n",
       "         0.49319768, 0.14085855, 0.14085855, 0.75971033, 0.75971033,\n",
       "         0.74034901, 0.74034901, 0.45718364, 0.45718364, 0.31199804,\n",
       "         0.31199804, 0.99544184, 0.99544184, 0.19690511, 0.19690511,\n",
       "         0.18221991, 0.18221991, 0.75967678, 0.75967678, 0.81510358,\n",
       "         0.81510358, 0.94815649, 0.94815649, 0.48295204, 0.48295204,\n",
       "         0.57413392, 0.57413392, 0.02355205, 0.02355205, 0.04000911,\n",
       "         0.04000911, 0.5336774 , 0.5336774 , 0.4246947 , 0.4246947 ,\n",
       "         0.61447767, 0.61447767, 0.44832246, 0.44832246, 0.15982281,\n",
       "         0.15982281, 0.1245218 , 0.1245218 , 0.91810523, 0.91810523,\n",
       "         0.89371007, 0.89371007, 0.58173228, 0.58173228, 0.26358775,\n",
       "         0.26358775, 0.36763995, 0.36763995, 0.34368766, 0.34368766])}}"
      ]
     },
     "execution_count": 1,
     "metadata": {},
     "output_type": "execute_result"
    }
   ],
   "source": [
    "ds = load_by_id(run_id_n)\n",
    "ds.get_parameter_data('x1')"
   ]
  },
  {
   "cell_type": "markdown",
   "metadata": {},
   "source": [
    "And a dataset stored as binary arrays"
   ]
  },
  {
   "cell_type": "code",
   "execution_count": 12,
   "metadata": {
    "execution": {
     "iopub.execute_input": "2021-05-21T06:28:25.022972Z",
     "iopub.status.busy": "2021-05-21T06:28:25.022513Z",
     "iopub.status.idle": "2021-05-21T06:28:25.074583Z",
     "shell.execute_reply": "2021-05-21T06:28:25.075433Z"
    },
    "scrolled": true
   },
   "outputs": [
    {
     "data": {
      "text/plain": [
       "{'x1': {'x1': array([[0.02121891],\n",
       "         [0.02121891],\n",
       "         [0.92496438],\n",
       "         [0.92496438],\n",
       "         [0.53827309],\n",
       "         [0.53827309],\n",
       "         [0.07137485],\n",
       "         [0.07137485],\n",
       "         [0.04843818],\n",
       "         [0.04843818],\n",
       "         [0.19858038],\n",
       "         [0.19858038],\n",
       "         [0.44520833],\n",
       "         [0.44520833],\n",
       "         [0.20954747],\n",
       "         [0.20954747],\n",
       "         [0.11945823],\n",
       "         [0.11945823],\n",
       "         [0.94136404],\n",
       "         [0.94136404],\n",
       "         [0.13751667],\n",
       "         [0.13751667],\n",
       "         [0.12333758],\n",
       "         [0.12333758],\n",
       "         [0.06827364],\n",
       "         [0.06827364],\n",
       "         [0.40625552],\n",
       "         [0.40625552],\n",
       "         [0.19218285],\n",
       "         [0.19218285],\n",
       "         [0.33882359],\n",
       "         [0.33882359],\n",
       "         [0.61920191],\n",
       "         [0.61920191],\n",
       "         [0.15585588],\n",
       "         [0.15585588],\n",
       "         [0.3247902 ],\n",
       "         [0.3247902 ],\n",
       "         [0.41178133],\n",
       "         [0.41178133],\n",
       "         [0.77243087],\n",
       "         [0.77243087],\n",
       "         [0.96010858],\n",
       "         [0.96010858],\n",
       "         [0.51602182],\n",
       "         [0.51602182],\n",
       "         [0.45907532],\n",
       "         [0.45907532],\n",
       "         [0.72027996],\n",
       "         [0.72027996],\n",
       "         [0.0960609 ],\n",
       "         [0.0960609 ],\n",
       "         [0.00356819],\n",
       "         [0.00356819],\n",
       "         [0.0279567 ],\n",
       "         [0.0279567 ],\n",
       "         [0.27828146],\n",
       "         [0.27828146],\n",
       "         [0.66349878],\n",
       "         [0.66349878],\n",
       "         [0.75892536],\n",
       "         [0.75892536],\n",
       "         [0.97634513],\n",
       "         [0.97634513],\n",
       "         [0.48358751],\n",
       "         [0.48358751],\n",
       "         [0.95484838],\n",
       "         [0.95484838],\n",
       "         [0.14164062],\n",
       "         [0.14164062],\n",
       "         [0.38349462],\n",
       "         [0.38349462],\n",
       "         [0.10648917],\n",
       "         [0.10648917],\n",
       "         [0.66072804],\n",
       "         [0.66072804],\n",
       "         [0.01109945],\n",
       "         [0.01109945],\n",
       "         [0.64510847],\n",
       "         [0.64510847],\n",
       "         [0.09847083],\n",
       "         [0.09847083],\n",
       "         [0.5080286 ],\n",
       "         [0.5080286 ],\n",
       "         [0.27066269],\n",
       "         [0.27066269],\n",
       "         [0.84919291],\n",
       "         [0.84919291],\n",
       "         [0.01459671],\n",
       "         [0.01459671],\n",
       "         [0.36954828],\n",
       "         [0.36954828],\n",
       "         [0.70241451],\n",
       "         [0.70241451],\n",
       "         [0.53815573],\n",
       "         [0.53815573],\n",
       "         [0.27056279],\n",
       "         [0.27056279],\n",
       "         [0.21721763],\n",
       "         [0.21721763],\n",
       "         [0.58136941],\n",
       "         [0.58136941],\n",
       "         [0.5416101 ],\n",
       "         [0.5416101 ],\n",
       "         [0.87621816],\n",
       "         [0.87621816],\n",
       "         [0.7064633 ],\n",
       "         [0.7064633 ],\n",
       "         [0.20562871],\n",
       "         [0.20562871],\n",
       "         [0.19296864],\n",
       "         [0.19296864],\n",
       "         [0.54627164],\n",
       "         [0.54627164],\n",
       "         [0.98896359],\n",
       "         [0.98896359],\n",
       "         [0.329629  ],\n",
       "         [0.329629  ],\n",
       "         [0.87107181],\n",
       "         [0.87107181],\n",
       "         [0.60008525],\n",
       "         [0.60008525],\n",
       "         [0.89899495],\n",
       "         [0.89899495],\n",
       "         [0.04558678],\n",
       "         [0.04558678],\n",
       "         [0.74786624],\n",
       "         [0.74786624],\n",
       "         [0.09436961],\n",
       "         [0.09436961],\n",
       "         [0.62170886],\n",
       "         [0.62170886],\n",
       "         [0.98302926],\n",
       "         [0.98302926],\n",
       "         [0.27098857],\n",
       "         [0.27098857],\n",
       "         [0.5139417 ],\n",
       "         [0.5139417 ],\n",
       "         [0.02913518],\n",
       "         [0.02913518],\n",
       "         [0.17752119],\n",
       "         [0.17752119],\n",
       "         [0.09266793],\n",
       "         [0.09266793],\n",
       "         [0.13544027],\n",
       "         [0.13544027],\n",
       "         [0.69940271],\n",
       "         [0.69940271],\n",
       "         [0.81793975],\n",
       "         [0.81793975],\n",
       "         [0.91532942],\n",
       "         [0.91532942],\n",
       "         [0.2597457 ],\n",
       "         [0.2597457 ],\n",
       "         [0.76209215],\n",
       "         [0.76209215],\n",
       "         [0.02473118],\n",
       "         [0.02473118],\n",
       "         [0.41364832],\n",
       "         [0.41364832],\n",
       "         [0.45941088],\n",
       "         [0.45941088],\n",
       "         [0.08995387],\n",
       "         [0.08995387],\n",
       "         [0.49510673],\n",
       "         [0.49510673],\n",
       "         [0.40260154],\n",
       "         [0.40260154],\n",
       "         [0.68196009],\n",
       "         [0.68196009],\n",
       "         [0.84744096],\n",
       "         [0.84744096],\n",
       "         [0.14687913],\n",
       "         [0.14687913],\n",
       "         [0.7659991 ],\n",
       "         [0.7659991 ],\n",
       "         [0.86054947],\n",
       "         [0.86054947],\n",
       "         [0.68825571],\n",
       "         [0.68825571],\n",
       "         [0.06256526],\n",
       "         [0.06256526],\n",
       "         [0.4278011 ],\n",
       "         [0.4278011 ],\n",
       "         [0.59952038],\n",
       "         [0.59952038],\n",
       "         [0.84960023],\n",
       "         [0.84960023],\n",
       "         [0.82100946],\n",
       "         [0.82100946],\n",
       "         [0.39309506],\n",
       "         [0.39309506],\n",
       "         [0.96331803],\n",
       "         [0.96331803],\n",
       "         [0.81439961],\n",
       "         [0.81439961],\n",
       "         [0.70564283],\n",
       "         [0.70564283],\n",
       "         [0.36099028],\n",
       "         [0.36099028]])}}"
      ]
     },
     "execution_count": 1,
     "metadata": {},
     "output_type": "execute_result"
    }
   ],
   "source": [
    "ds = load_by_id(run_id_a)\n",
    "ds.get_parameter_data('x1')"
   ]
  },
  {
   "cell_type": "code",
   "execution_count": null,
   "metadata": {},
   "outputs": [],
   "source": []
  }
 ],
 "metadata": {
  "kernelspec": {
   "display_name": "Python 3",
   "language": "python",
   "name": "python3"
  },
  "language_info": {
   "codemirror_mode": {
    "name": "ipython",
    "version": 3
   },
   "file_extension": ".py",
   "mimetype": "text/x-python",
   "name": "python",
   "nbconvert_exporter": "python",
   "pygments_lexer": "ipython3",
   "version": "3.7.10"
  },
  "nbsphinx": {
   "timeout": 600
  },
  "toc": {
   "base_numbering": 1,
   "nav_menu": {},
   "number_sections": true,
   "sideBar": true,
   "skip_h1_title": false,
   "title_cell": "Table of Contents",
   "title_sidebar": "Contents",
   "toc_cell": false,
   "toc_position": {},
   "toc_section_display": true,
   "toc_window_display": false
  },
  "varInspector": {
   "cols": {
    "lenName": 16,
    "lenType": 16,
    "lenVar": 40
   },
   "kernels_config": {
    "python": {
     "delete_cmd_postfix": "",
     "delete_cmd_prefix": "del ",
     "library": "var_list.py",
     "varRefreshCmd": "print(var_dic_list())"
    },
    "r": {
     "delete_cmd_postfix": ") ",
     "delete_cmd_prefix": "rm(",
     "library": "var_list.r",
     "varRefreshCmd": "cat(var_dic_list()) "
    }
   },
   "types_to_exclude": [
    "module",
    "function",
    "builtin_function_or_method",
    "instance",
    "_Feature"
   ],
   "window_display": false
  }
 },
 "nbformat": 4,
 "nbformat_minor": 4
}
