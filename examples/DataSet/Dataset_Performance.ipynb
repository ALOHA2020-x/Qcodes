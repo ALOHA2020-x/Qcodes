{
 "cells": [
  {
   "cell_type": "markdown",
   "metadata": {},
   "source": [
    "# DataSet Performance\n",
    "\n",
    "This notebook shows the trade-off between inserting data into a database row-by-row and as binary blobs. Inserting the data row-by-row means that we have direct access to all the data and may perform queries directly on the values of the data. On the other hand, as we shall see, this is much slower than inserting the data directly as binary blobs."
   ]
  },
  {
   "cell_type": "markdown",
   "metadata": {},
   "source": [
    "First, we choose a new location for the database to ensure that we don't add a bunch of benchmarking data to the default one."
   ]
  },
  {
   "cell_type": "code",
   "execution_count": 1,
   "metadata": {
    "execution": {
     "iopub.execute_input": "2020-11-23T07:56:58.037301Z",
     "iopub.status.busy": "2020-11-23T07:56:58.036377Z",
     "iopub.status.idle": "2020-11-23T07:56:59.205165Z",
     "shell.execute_reply": "2020-11-23T07:56:59.205657Z"
    }
   },
   "outputs": [
    {
     "name": "stdout",
     "output_type": "stream",
     "text": [
      "Logging hadn't been started.\n",
      "Activating auto-logging. Current session state plus future input saved.\n",
      "Filename       : /home/vsts/.qcodes/logs/command_history.log\n",
      "Mode           : append\n",
      "Output logging : True\n",
      "Raw input log  : False\n",
      "Timestamping   : True\n",
      "State          : active\n"
     ]
    },
    {
     "name": "stdout",
     "output_type": "stream",
     "text": [
      "Qcodes Logfile : /home/vsts/.qcodes/logs/201123-14366-qcodes.log\n"
     ]
    }
   ],
   "source": [
    "import os\n",
    "cwd = os.getcwd()\n",
    "import qcodes as qc\n",
    "qc.config[\"core\"][\"db_location\"] = os.path.join(cwd, 'testing.db')\n"
   ]
  },
  {
   "cell_type": "code",
   "execution_count": 2,
   "metadata": {
    "execution": {
     "iopub.execute_input": "2020-11-23T07:56:59.213558Z",
     "iopub.status.busy": "2020-11-23T07:56:59.212505Z",
     "iopub.status.idle": "2020-11-23T07:56:59.440721Z",
     "shell.execute_reply": "2020-11-23T07:56:59.441568Z"
    }
   },
   "outputs": [],
   "source": [
    "%matplotlib inline\n",
    "import time\n",
    "import matplotlib.pyplot as plt\n",
    "import numpy as np\n",
    "\n",
    "import qcodes as qc\n",
    "from qcodes.instrument.parameter import ManualParameter\n",
    "from qcodes.dataset.experiment_container import (Experiment,\n",
    "                                                 load_last_experiment,\n",
    "                                                 new_experiment)\n",
    "from qcodes.dataset.sqlite.database import initialise_database\n",
    "from qcodes import load_or_create_experiment\n",
    "from qcodes.dataset.measurements import Measurement"
   ]
  },
  {
   "cell_type": "code",
   "execution_count": 3,
   "metadata": {
    "execution": {
     "iopub.execute_input": "2020-11-23T07:56:59.446489Z",
     "iopub.status.busy": "2020-11-23T07:56:59.445584Z",
     "iopub.status.idle": "2020-11-23T07:56:59.578095Z",
     "shell.execute_reply": "2020-11-23T07:56:59.577537Z"
    }
   },
   "outputs": [
    {
     "name": "stdout",
     "output_type": "stream",
     "text": [
      "\r",
      "0it [00:00, ?it/s]"
     ]
    },
    {
     "name": "stdout",
     "output_type": "stream",
     "text": [
      "\r",
      "Upgrading database; v0 -> v1: : 0it [00:00, ?it/s]"
     ]
    },
    {
     "name": "stdout",
     "output_type": "stream",
     "text": [
      "\r",
      "Upgrading database; v0 -> v1: : 0it [00:00, ?it/s]"
     ]
    },
    {
     "name": "stdout",
     "output_type": "stream",
     "text": [
      "\n",
      "\r",
      "  0%|          | 0/1 [00:00<?, ?it/s]"
     ]
    },
    {
     "name": "stdout",
     "output_type": "stream",
     "text": [
      "\r",
      "Upgrading database; v1 -> v2:   0%|          | 0/1 [00:00<?, ?it/s]"
     ]
    },
    {
     "name": "stdout",
     "output_type": "stream",
     "text": [
      "\r",
      "Upgrading database; v1 -> v2: 100%|██████████| 1/1 [00:00<00:00, 582.70it/s]"
     ]
    },
    {
     "name": "stdout",
     "output_type": "stream",
     "text": [
      "\n",
      "\r",
      "0it [00:00, ?it/s]"
     ]
    },
    {
     "name": "stdout",
     "output_type": "stream",
     "text": [
      "\r",
      "Upgrading database; v2 -> v3: : 0it [00:00, ?it/s]"
     ]
    },
    {
     "name": "stdout",
     "output_type": "stream",
     "text": [
      "\r",
      "Upgrading database; v2 -> v3: : 0it [00:00, ?it/s]"
     ]
    },
    {
     "name": "stdout",
     "output_type": "stream",
     "text": [
      "\n",
      "\r",
      "0it [00:00, ?it/s]"
     ]
    },
    {
     "name": "stdout",
     "output_type": "stream",
     "text": [
      "\r",
      "Upgrading database; v3 -> v4: : 0it [00:00, ?it/s]"
     ]
    },
    {
     "name": "stdout",
     "output_type": "stream",
     "text": [
      "\r",
      "Upgrading database; v3 -> v4: : 0it [00:00, ?it/s]"
     ]
    },
    {
     "name": "stdout",
     "output_type": "stream",
     "text": [
      "\n",
      "\r",
      "  0%|          | 0/1 [00:00<?, ?it/s]"
     ]
    },
    {
     "name": "stdout",
     "output_type": "stream",
     "text": [
      "\r",
      "Upgrading database; v4 -> v5:   0%|          | 0/1 [00:00<?, ?it/s]"
     ]
    },
    {
     "name": "stdout",
     "output_type": "stream",
     "text": [
      "\r",
      "Upgrading database; v4 -> v5: 100%|██████████| 1/1 [00:00<00:00, 654.54it/s]"
     ]
    },
    {
     "name": "stdout",
     "output_type": "stream",
     "text": [
      "\n",
      "\r",
      "0it [00:00, ?it/s]"
     ]
    },
    {
     "name": "stdout",
     "output_type": "stream",
     "text": [
      "\r",
      "Upgrading database; v5 -> v6: : 0it [00:00, ?it/s]"
     ]
    },
    {
     "name": "stdout",
     "output_type": "stream",
     "text": [
      "\r",
      "Upgrading database; v5 -> v6: : 0it [00:00, ?it/s]"
     ]
    },
    {
     "name": "stdout",
     "output_type": "stream",
     "text": [
      "\n",
      "\r",
      "  0%|          | 0/1 [00:00<?, ?it/s]"
     ]
    },
    {
     "name": "stdout",
     "output_type": "stream",
     "text": [
      "\r",
      "Upgrading database; v6 -> v7:   0%|          | 0/1 [00:00<?, ?it/s]"
     ]
    },
    {
     "name": "stdout",
     "output_type": "stream",
     "text": [
      "\r",
      "Upgrading database; v6 -> v7: 100%|██████████| 1/1 [00:00<00:00, 442.02it/s]"
     ]
    },
    {
     "name": "stdout",
     "output_type": "stream",
     "text": [
      "\n",
      "\r",
      "  0%|          | 0/1 [00:00<?, ?it/s]"
     ]
    },
    {
     "name": "stdout",
     "output_type": "stream",
     "text": [
      "\r",
      "Upgrading database; v7 -> v8:   0%|          | 0/1 [00:00<?, ?it/s]"
     ]
    },
    {
     "name": "stdout",
     "output_type": "stream",
     "text": [
      "\r",
      "Upgrading database; v7 -> v8: 100%|██████████| 1/1 [00:00<00:00, 730.21it/s]"
     ]
    },
    {
     "name": "stdout",
     "output_type": "stream",
     "text": [
      "\n",
      "\r",
      "  0%|          | 0/1 [00:00<?, ?it/s]"
     ]
    },
    {
     "name": "stdout",
     "output_type": "stream",
     "text": [
      "\r",
      "Upgrading database; v8 -> v9:   0%|          | 0/1 [00:00<?, ?it/s]"
     ]
    },
    {
     "name": "stdout",
     "output_type": "stream",
     "text": [
      "\r",
      "Upgrading database; v8 -> v9: 100%|██████████| 1/1 [00:00<00:00, 878.02it/s]"
     ]
    },
    {
     "name": "stdout",
     "output_type": "stream",
     "text": [
      "\n"
     ]
    }
   ],
   "source": [
    "initialise_database()\n",
    "exp = load_or_create_experiment(experiment_name='tutorial_exp', sample_name=\"no sample\")"
   ]
  },
  {
   "cell_type": "markdown",
   "metadata": {},
   "source": [
    "Here, we define a simple function to benchmark the time it takes to insert n points with either numeric or array data type.\n",
    "We will compare both the time used to call ``add_result`` and the time used for the full measurement."
   ]
  },
  {
   "cell_type": "code",
   "execution_count": 4,
   "metadata": {
    "execution": {
     "iopub.execute_input": "2020-11-23T07:56:59.589651Z",
     "iopub.status.busy": "2020-11-23T07:56:59.588939Z",
     "iopub.status.idle": "2020-11-23T07:56:59.594182Z",
     "shell.execute_reply": "2020-11-23T07:56:59.593538Z"
    }
   },
   "outputs": [],
   "source": [
    "def insert_data(paramtype, npoints, nreps=1):\n",
    "\n",
    "    meas = Measurement(exp=exp)\n",
    "\n",
    "    x1 = ManualParameter('x1')\n",
    "    x2 = ManualParameter('x2')\n",
    "    x3 = ManualParameter('x3')\n",
    "    y1 = ManualParameter('y1')\n",
    "    y2 = ManualParameter('y2')\n",
    "\n",
    "    meas.register_parameter(x1, paramtype=paramtype)\n",
    "    meas.register_parameter(x2, paramtype=paramtype)\n",
    "    meas.register_parameter(x3, paramtype=paramtype)\n",
    "    meas.register_parameter(y1, setpoints=[x1, x2, x3],\n",
    "                            paramtype=paramtype)\n",
    "    meas.register_parameter(y2, setpoints=[x1, x2, x3],\n",
    "                            paramtype=paramtype)\n",
    "    start = time.perf_counter()\n",
    "    with meas.run() as datasaver:\n",
    "        start_adding = time.perf_counter()\n",
    "        for i in range(nreps):\n",
    "            datasaver.add_result((x1, np.random.rand(npoints)),\n",
    "                                 (x2, np.random.rand(npoints)),\n",
    "                                 (x3, np.random.rand(npoints)),\n",
    "                                 (y1, np.random.rand(npoints)),\n",
    "                                 (y2, np.random.rand(npoints)))\n",
    "        stop_adding = time.perf_counter()\n",
    "        run_id = datasaver.run_id\n",
    "    stop = time.perf_counter()\n",
    "    tot_time = stop - start\n",
    "    add_time = stop_adding - start_adding\n",
    "    return tot_time, add_time, run_id"
   ]
  },
  {
   "cell_type": "markdown",
   "metadata": {},
   "source": [
    "## Comparison between numeric/array data and binary blob"
   ]
  },
  {
   "cell_type": "markdown",
   "metadata": {},
   "source": [
    "### Case1: Short experiment time"
   ]
  },
  {
   "cell_type": "code",
   "execution_count": 5,
   "metadata": {
    "execution": {
     "iopub.execute_input": "2020-11-23T07:56:59.601272Z",
     "iopub.status.busy": "2020-11-23T07:56:59.600080Z",
     "iopub.status.idle": "2020-11-23T07:57:00.576610Z",
     "shell.execute_reply": "2020-11-23T07:57:00.575570Z"
    }
   },
   "outputs": [
    {
     "name": "stdout",
     "output_type": "stream",
     "text": [
      "Starting experimental run with id: 1. \n",
      "Starting experimental run with id: 2. \n",
      "Starting experimental run with id: 3. \n",
      "Starting experimental run with id: 4. \n",
      "Starting experimental run with id: 5. \n"
     ]
    },
    {
     "name": "stdout",
     "output_type": "stream",
     "text": [
      "Starting experimental run with id: 6. \n"
     ]
    },
    {
     "name": "stdout",
     "output_type": "stream",
     "text": [
      "Starting experimental run with id: 7. \n"
     ]
    },
    {
     "name": "stdout",
     "output_type": "stream",
     "text": [
      "Starting experimental run with id: 8. \n",
      "Starting experimental run with id: 9. \n"
     ]
    },
    {
     "name": "stdout",
     "output_type": "stream",
     "text": [
      "Starting experimental run with id: 10. \n",
      "Starting experimental run with id: 11. \n"
     ]
    },
    {
     "name": "stdout",
     "output_type": "stream",
     "text": [
      "Starting experimental run with id: 12. \n",
      "Starting experimental run with id: 13. \n"
     ]
    },
    {
     "name": "stdout",
     "output_type": "stream",
     "text": [
      "Starting experimental run with id: 14. \n"
     ]
    }
   ],
   "source": [
    "sizes = [1,500,1000,2000,3000,4000,5000]\n",
    "t_numeric = []\n",
    "t_numeric_add = []\n",
    "t_array = []\n",
    "t_array_add = []\n",
    "for size in sizes:\n",
    "    tn, tna, run_id_n =  insert_data('numeric', size)\n",
    "    t_numeric.append(tn)\n",
    "    t_numeric_add.append(tna)\n",
    "\n",
    "    ta, taa, run_id_a =  insert_data('array', size)\n",
    "    t_array.append(ta)\n",
    "    t_array_add.append(taa)"
   ]
  },
  {
   "cell_type": "code",
   "execution_count": 6,
   "metadata": {
    "execution": {
     "iopub.execute_input": "2020-11-23T07:57:00.607869Z",
     "iopub.status.busy": "2020-11-23T07:57:00.597910Z",
     "iopub.status.idle": "2020-11-23T07:57:00.789698Z",
     "shell.execute_reply": "2020-11-23T07:57:00.786667Z"
    }
   },
   "outputs": [
    {
     "data": {
      "image/png": "[encoded data removed]",
      "text/plain": [
       "<Figure size 432x288 with 1 Axes>"
      ]
     },
     "metadata": {
      "needs_background": "light"
     },
     "output_type": "display_data"
    }
   ],
   "source": [
    "fig, ax = plt.subplots(1,1)\n",
    "ax.plot(sizes, t_numeric, 'o-', label='Inserting row-by-row')\n",
    "ax.plot(sizes, t_numeric_add, 'o-', label='Inserting row-by-row: add_result only')\n",
    "ax.plot(sizes, t_array, 'd-', label='Inserting as binary blob')\n",
    "ax.plot(sizes, t_array_add, 'd-', label='Inserting as binary blob: add_result only')\n",
    "ax.legend()\n",
    "ax.set_xlabel('Array length')\n",
    "ax.set_ylabel('Time (s)')\n",
    "fig.tight_layout()"
   ]
  },
  {
   "cell_type": "markdown",
   "metadata": {},
   "source": [
    "As shown in the latter figure, the time to setup and and close the experiment is approximately 0.4 sec. In case of small array sizes, the difference between inserting values of data as arrays and inserting them row-by-row is relatively unimportant. At larger array sizes, i.e. above 10000 points, the cost of writing data as individual datapoints starts to become important.\n"
   ]
  },
  {
   "cell_type": "markdown",
   "metadata": {},
   "source": [
    "### Case2: Long experiment time "
   ]
  },
  {
   "cell_type": "code",
   "execution_count": 7,
   "metadata": {
    "execution": {
     "iopub.execute_input": "2020-11-23T07:57:00.799849Z",
     "iopub.status.busy": "2020-11-23T07:57:00.798767Z",
     "iopub.status.idle": "2020-11-23T07:58:06.732994Z",
     "shell.execute_reply": "2020-11-23T07:58:06.733544Z"
    }
   },
   "outputs": [
    {
     "name": "stdout",
     "output_type": "stream",
     "text": [
      "Starting experimental run with id: 15. \n",
      "Starting experimental run with id: 16. \n",
      "Starting experimental run with id: 17. \n"
     ]
    },
    {
     "name": "stdout",
     "output_type": "stream",
     "text": [
      "Starting experimental run with id: 18. \n",
      "Starting experimental run with id: 19. \n"
     ]
    },
    {
     "name": "stdout",
     "output_type": "stream",
     "text": [
      "Starting experimental run with id: 20. \n"
     ]
    },
    {
     "name": "stdout",
     "output_type": "stream",
     "text": [
      "Starting experimental run with id: 21. \n"
     ]
    },
    {
     "name": "stdout",
     "output_type": "stream",
     "text": [
      "Starting experimental run with id: 22. \n"
     ]
    },
    {
     "name": "stdout",
     "output_type": "stream",
     "text": [
      "Starting experimental run with id: 23. \n"
     ]
    },
    {
     "name": "stdout",
     "output_type": "stream",
     "text": [
      "Starting experimental run with id: 24. \n"
     ]
    },
    {
     "name": "stdout",
     "output_type": "stream",
     "text": [
      "Starting experimental run with id: 25. \n"
     ]
    },
    {
     "name": "stdout",
     "output_type": "stream",
     "text": [
      "Starting experimental run with id: 26. \n"
     ]
    },
    {
     "name": "stdout",
     "output_type": "stream",
     "text": [
      "Starting experimental run with id: 27. \n"
     ]
    },
    {
     "name": "stdout",
     "output_type": "stream",
     "text": [
      "Starting experimental run with id: 28. \n"
     ]
    }
   ],
   "source": [
    "sizes = [1,500,1000,2000,3000,4000,5000]\n",
    "nreps = 100\n",
    "t_numeric = []\n",
    "t_numeric_add = []\n",
    "t_numeric_run_ids = []\n",
    "t_array = []\n",
    "t_array_add = []\n",
    "t_array_run_ids = []\n",
    "for size in sizes:\n",
    "    tn, tna, run_id_n =  insert_data('numeric', size, nreps=nreps)\n",
    "    t_numeric.append(tn)\n",
    "    t_numeric_add.append(tna)\n",
    "    t_numeric_run_ids.append(run_id_n)\n",
    "\n",
    "    ta, taa, run_id_a =  insert_data('array', size, nreps=nreps)\n",
    "    t_array.append(ta)\n",
    "    t_array_add.append(taa)\n",
    "    t_array_run_ids.append(run_id_a)"
   ]
  },
  {
   "cell_type": "code",
   "execution_count": 8,
   "metadata": {
    "execution": {
     "iopub.execute_input": "2020-11-23T07:58:06.765832Z",
     "iopub.status.busy": "2020-11-23T07:58:06.738245Z",
     "iopub.status.idle": "2020-11-23T07:58:06.981073Z",
     "shell.execute_reply": "2020-11-23T07:58:06.981548Z"
    },
    "scrolled": true
   },
   "outputs": [
    {
     "data": {
      "image/png": "[encoded data removed]",
      "text/plain": [
       "<Figure size 432x288 with 1 Axes>"
      ]
     },
     "metadata": {
      "needs_background": "light"
     },
     "output_type": "display_data"
    }
   ],
   "source": [
    "fig, ax = plt.subplots(1,1)\n",
    "ax.plot(sizes, t_numeric, 'o-', label='Inserting row-by-row')\n",
    "ax.plot(sizes, t_numeric_add, 'o-', label='Inserting row-by-row: add_result only')\n",
    "ax.plot(sizes, t_array, 'd-', label='Inserting as binary blob')\n",
    "ax.plot(sizes, t_array_add, 'd-', label='Inserting as binary blob: add_result only')\n",
    "ax.legend()\n",
    "ax.set_xlabel('Array length')\n",
    "ax.set_ylabel('Time (s)')\n",
    "fig.tight_layout()"
   ]
  },
  {
   "cell_type": "markdown",
   "metadata": {},
   "source": [
    "However, as we increase the length of the experiment, as seen here by repeating the insertion 100 times, we see a big difference between inserting values of the data row-by-row and inserting it as a binary blob."
   ]
  },
  {
   "cell_type": "markdown",
   "metadata": {},
   "source": [
    "## Loading the data "
   ]
  },
  {
   "cell_type": "code",
   "execution_count": 9,
   "metadata": {
    "execution": {
     "iopub.execute_input": "2020-11-23T07:58:06.987520Z",
     "iopub.status.busy": "2020-11-23T07:58:06.985022Z",
     "iopub.status.idle": "2020-11-23T07:58:06.989432Z",
     "shell.execute_reply": "2020-11-23T07:58:06.988823Z"
    }
   },
   "outputs": [],
   "source": [
    "from qcodes.dataset.data_set import load_by_id\n",
    "from qcodes.dataset.data_export import get_data_by_id"
   ]
  },
  {
   "cell_type": "markdown",
   "metadata": {},
   "source": [
    "As usual you can load the data by using the ``load_by_id`` function but you will notice that the different storage methods\n",
    "are reflected in shape of the data as it is retrieved. "
   ]
  },
  {
   "cell_type": "code",
   "execution_count": 10,
   "metadata": {
    "execution": {
     "iopub.execute_input": "2020-11-23T07:58:06.994704Z",
     "iopub.status.busy": "2020-11-23T07:58:06.993635Z",
     "iopub.status.idle": "2020-11-23T07:58:06.996367Z",
     "shell.execute_reply": "2020-11-23T07:58:06.995890Z"
    }
   },
   "outputs": [],
   "source": [
    "run_id_n = t_numeric_run_ids[0]\n",
    "run_id_a = t_array_run_ids[0]"
   ]
  },
  {
   "cell_type": "code",
   "execution_count": 11,
   "metadata": {
    "execution": {
     "iopub.execute_input": "2020-11-23T07:58:07.000348Z",
     "iopub.status.busy": "2020-11-23T07:58:06.999514Z",
     "iopub.status.idle": "2020-11-23T07:58:07.011857Z",
     "shell.execute_reply": "2020-11-23T07:58:07.011375Z"
    },
    "scrolled": true
   },
   "outputs": [
    {
     "data": {
      "text/plain": [
       "{'x1': {'x1': array([0.14498481, 0.14498481, 0.16645653, 0.16645653, 0.96238638,\n",
       "         0.96238638, 0.4092147 , 0.4092147 , 0.73400787, 0.73400787,\n",
       "         0.77543662, 0.77543662, 0.84105925, 0.84105925, 0.85941073,\n",
       "         0.85941073, 0.61651131, 0.61651131, 0.36583063, 0.36583063,\n",
       "         0.13653044, 0.13653044, 0.84997137, 0.84997137, 0.22495231,\n",
       "         0.22495231, 0.64578766, 0.64578766, 0.33888253, 0.33888253,\n",
       "         0.04980132, 0.04980132, 0.41671529, 0.41671529, 0.40769301,\n",
       "         0.40769301, 0.96152291, 0.96152291, 0.98680158, 0.98680158,\n",
       "         0.19208486, 0.19208486, 0.4378443 , 0.4378443 , 0.67473171,\n",
       "         0.67473171, 0.70020762, 0.70020762, 0.21247871, 0.21247871,\n",
       "         0.69847256, 0.69847256, 0.52713971, 0.52713971, 0.51109841,\n",
       "         0.51109841, 0.17837029, 0.17837029, 0.2248715 , 0.2248715 ,\n",
       "         0.04988576, 0.04988576, 0.40460773, 0.40460773, 0.25923107,\n",
       "         0.25923107, 0.64149296, 0.64149296, 0.84235192, 0.84235192,\n",
       "         0.21776712, 0.21776712, 0.22930075, 0.22930075, 0.06737175,\n",
       "         0.06737175, 0.64476759, 0.64476759, 0.10551668, 0.10551668,\n",
       "         0.98608816, 0.98608816, 0.13851894, 0.13851894, 0.24992595,\n",
       "         0.24992595, 0.58612105, 0.58612105, 0.13769692, 0.13769692,\n",
       "         0.70973469, 0.70973469, 0.23718876, 0.23718876, 0.10071576,\n",
       "         0.10071576, 0.1834524 , 0.1834524 , 0.78334595, 0.78334595,\n",
       "         0.28843458, 0.28843458, 0.62194709, 0.62194709, 0.7030094 ,\n",
       "         0.7030094 , 0.39934082, 0.39934082, 0.96279378, 0.96279378,\n",
       "         0.69090112, 0.69090112, 0.26292015, 0.26292015, 0.14491983,\n",
       "         0.14491983, 0.28119628, 0.28119628, 0.11647423, 0.11647423,\n",
       "         0.33557464, 0.33557464, 0.90232337, 0.90232337, 0.4297394 ,\n",
       "         0.4297394 , 0.15079209, 0.15079209, 0.86572247, 0.86572247,\n",
       "         0.38197436, 0.38197436, 0.98872291, 0.98872291, 0.96123831,\n",
       "         0.96123831, 0.45363923, 0.45363923, 0.5853357 , 0.5853357 ,\n",
       "         0.8662714 , 0.8662714 , 0.68452372, 0.68452372, 0.56463069,\n",
       "         0.56463069, 0.98886217, 0.98886217, 0.77786207, 0.77786207,\n",
       "         0.16855387, 0.16855387, 0.7461316 , 0.7461316 , 0.49129919,\n",
       "         0.49129919, 0.7997944 , 0.7997944 , 0.00178298, 0.00178298,\n",
       "         0.84529082, 0.84529082, 0.07106027, 0.07106027, 0.64637475,\n",
       "         0.64637475, 0.00437452, 0.00437452, 0.8574932 , 0.8574932 ,\n",
       "         0.62483847, 0.62483847, 0.11421144, 0.11421144, 0.57105226,\n",
       "         0.57105226, 0.694903  , 0.694903  , 0.68466489, 0.68466489,\n",
       "         0.91034496, 0.91034496, 0.03075856, 0.03075856, 0.8440426 ,\n",
       "         0.8440426 , 0.09306797, 0.09306797, 0.12352583, 0.12352583,\n",
       "         0.14865954, 0.14865954, 0.60676194, 0.60676194, 0.14667048,\n",
       "         0.14667048, 0.05837187, 0.05837187, 0.18948986, 0.18948986])}}"
      ]
     },
     "execution_count": 1,
     "metadata": {},
     "output_type": "execute_result"
    }
   ],
   "source": [
    "ds = load_by_id(run_id_n)\n",
    "ds.get_parameter_data('x1')"
   ]
  },
  {
   "cell_type": "markdown",
   "metadata": {},
   "source": [
    "And a dataset stored as binary arrays"
   ]
  },
  {
   "cell_type": "code",
   "execution_count": 12,
   "metadata": {
    "execution": {
     "iopub.execute_input": "2020-11-23T07:58:07.016041Z",
     "iopub.status.busy": "2020-11-23T07:58:07.015444Z",
     "iopub.status.idle": "2020-11-23T07:58:07.081750Z",
     "shell.execute_reply": "2020-11-23T07:58:07.082366Z"
    },
    "scrolled": true
   },
   "outputs": [
    {
     "data": {
      "text/plain": [
       "{'x1': {'x1': array([[1.51174580e-01],\n",
       "         [1.51174580e-01],\n",
       "         [1.02232610e-01],\n",
       "         [1.02232610e-01],\n",
       "         [1.93945249e-01],\n",
       "         [1.93945249e-01],\n",
       "         [5.16941843e-01],\n",
       "         [5.16941843e-01],\n",
       "         [7.67157013e-01],\n",
       "         [7.67157013e-01],\n",
       "         [3.23086415e-01],\n",
       "         [3.23086415e-01],\n",
       "         [9.39650545e-01],\n",
       "         [9.39650545e-01],\n",
       "         [9.33927958e-01],\n",
       "         [9.33927958e-01],\n",
       "         [8.03853138e-01],\n",
       "         [8.03853138e-01],\n",
       "         [4.07184513e-01],\n",
       "         [4.07184513e-01],\n",
       "         [9.82970610e-01],\n",
       "         [9.82970610e-01],\n",
       "         [4.33523075e-01],\n",
       "         [4.33523075e-01],\n",
       "         [6.92336194e-01],\n",
       "         [6.92336194e-01],\n",
       "         [9.60132155e-01],\n",
       "         [9.60132155e-01],\n",
       "         [1.23044895e-04],\n",
       "         [1.23044895e-04],\n",
       "         [7.16983376e-01],\n",
       "         [7.16983376e-01],\n",
       "         [6.57328164e-03],\n",
       "         [6.57328164e-03],\n",
       "         [3.64049866e-01],\n",
       "         [3.64049866e-01],\n",
       "         [5.41366476e-01],\n",
       "         [5.41366476e-01],\n",
       "         [9.58679592e-02],\n",
       "         [9.58679592e-02],\n",
       "         [7.01174076e-01],\n",
       "         [7.01174076e-01],\n",
       "         [1.27863097e-01],\n",
       "         [1.27863097e-01],\n",
       "         [4.03646201e-02],\n",
       "         [4.03646201e-02],\n",
       "         [3.13996041e-01],\n",
       "         [3.13996041e-01],\n",
       "         [2.53127311e-01],\n",
       "         [2.53127311e-01],\n",
       "         [9.59951533e-01],\n",
       "         [9.59951533e-01],\n",
       "         [5.34597005e-01],\n",
       "         [5.34597005e-01],\n",
       "         [5.89665145e-01],\n",
       "         [5.89665145e-01],\n",
       "         [8.68610116e-01],\n",
       "         [8.68610116e-01],\n",
       "         [9.94612794e-01],\n",
       "         [9.94612794e-01],\n",
       "         [5.04870647e-01],\n",
       "         [5.04870647e-01],\n",
       "         [2.81945076e-01],\n",
       "         [2.81945076e-01],\n",
       "         [1.27855990e-01],\n",
       "         [1.27855990e-01],\n",
       "         [3.09267119e-01],\n",
       "         [3.09267119e-01],\n",
       "         [7.28133190e-01],\n",
       "         [7.28133190e-01],\n",
       "         [7.24048485e-01],\n",
       "         [7.24048485e-01],\n",
       "         [6.61113115e-01],\n",
       "         [6.61113115e-01],\n",
       "         [4.66408873e-01],\n",
       "         [4.66408873e-01],\n",
       "         [6.77336483e-02],\n",
       "         [6.77336483e-02],\n",
       "         [6.62715041e-01],\n",
       "         [6.62715041e-01],\n",
       "         [9.21665648e-01],\n",
       "         [9.21665648e-01],\n",
       "         [1.54675728e-01],\n",
       "         [1.54675728e-01],\n",
       "         [5.65771451e-01],\n",
       "         [5.65771451e-01],\n",
       "         [7.05015962e-01],\n",
       "         [7.05015962e-01],\n",
       "         [5.00836671e-01],\n",
       "         [5.00836671e-01],\n",
       "         [8.64776258e-01],\n",
       "         [8.64776258e-01],\n",
       "         [1.77205764e-01],\n",
       "         [1.77205764e-01],\n",
       "         [5.77591179e-01],\n",
       "         [5.77591179e-01],\n",
       "         [5.15374290e-01],\n",
       "         [5.15374290e-01],\n",
       "         [3.37926578e-01],\n",
       "         [3.37926578e-01],\n",
       "         [2.26531414e-01],\n",
       "         [2.26531414e-01],\n",
       "         [5.28337411e-02],\n",
       "         [5.28337411e-02],\n",
       "         [9.95277066e-01],\n",
       "         [9.95277066e-01],\n",
       "         [3.24303232e-01],\n",
       "         [3.24303232e-01],\n",
       "         [5.50385750e-01],\n",
       "         [5.50385750e-01],\n",
       "         [1.16169932e-01],\n",
       "         [1.16169932e-01],\n",
       "         [1.85163332e-01],\n",
       "         [1.85163332e-01],\n",
       "         [6.03588231e-01],\n",
       "         [6.03588231e-01],\n",
       "         [2.82912783e-01],\n",
       "         [2.82912783e-01],\n",
       "         [3.54563851e-01],\n",
       "         [3.54563851e-01],\n",
       "         [1.38679877e-01],\n",
       "         [1.38679877e-01],\n",
       "         [2.87268588e-01],\n",
       "         [2.87268588e-01],\n",
       "         [8.99224788e-01],\n",
       "         [8.99224788e-01],\n",
       "         [2.79884707e-01],\n",
       "         [2.79884707e-01],\n",
       "         [8.85355742e-01],\n",
       "         [8.85355742e-01],\n",
       "         [9.31267207e-01],\n",
       "         [9.31267207e-01],\n",
       "         [7.11114516e-01],\n",
       "         [7.11114516e-01],\n",
       "         [2.96842810e-01],\n",
       "         [2.96842810e-01],\n",
       "         [4.48234248e-01],\n",
       "         [4.48234248e-01],\n",
       "         [5.36581656e-01],\n",
       "         [5.36581656e-01],\n",
       "         [8.15814571e-02],\n",
       "         [8.15814571e-02],\n",
       "         [4.20768986e-01],\n",
       "         [4.20768986e-01],\n",
       "         [1.27164766e-01],\n",
       "         [1.27164766e-01],\n",
       "         [4.05158113e-02],\n",
       "         [4.05158113e-02],\n",
       "         [3.90027003e-02],\n",
       "         [3.90027003e-02],\n",
       "         [2.76879739e-01],\n",
       "         [2.76879739e-01],\n",
       "         [9.82890598e-01],\n",
       "         [9.82890598e-01],\n",
       "         [3.69838703e-01],\n",
       "         [3.69838703e-01],\n",
       "         [5.29895504e-01],\n",
       "         [5.29895504e-01],\n",
       "         [2.87019443e-01],\n",
       "         [2.87019443e-01],\n",
       "         [9.21213616e-01],\n",
       "         [9.21213616e-01],\n",
       "         [8.79494847e-01],\n",
       "         [8.79494847e-01],\n",
       "         [9.08714830e-01],\n",
       "         [9.08714830e-01],\n",
       "         [9.60405299e-02],\n",
       "         [9.60405299e-02],\n",
       "         [3.42721258e-01],\n",
       "         [3.42721258e-01],\n",
       "         [7.10856722e-01],\n",
       "         [7.10856722e-01],\n",
       "         [3.09683720e-01],\n",
       "         [3.09683720e-01],\n",
       "         [3.16904275e-01],\n",
       "         [3.16904275e-01],\n",
       "         [9.66656209e-02],\n",
       "         [9.66656209e-02],\n",
       "         [6.89871125e-01],\n",
       "         [6.89871125e-01],\n",
       "         [3.25372552e-01],\n",
       "         [3.25372552e-01],\n",
       "         [9.26350960e-01],\n",
       "         [9.26350960e-01],\n",
       "         [8.62274560e-01],\n",
       "         [8.62274560e-01],\n",
       "         [1.12057700e-01],\n",
       "         [1.12057700e-01],\n",
       "         [5.12269795e-01],\n",
       "         [5.12269795e-01],\n",
       "         [4.99889046e-01],\n",
       "         [4.99889046e-01],\n",
       "         [8.70934128e-01],\n",
       "         [8.70934128e-01],\n",
       "         [6.39815220e-01],\n",
       "         [6.39815220e-01],\n",
       "         [1.83575036e-01],\n",
       "         [1.83575036e-01],\n",
       "         [8.97082240e-01],\n",
       "         [8.97082240e-01]])}}"
      ]
     },
     "execution_count": 1,
     "metadata": {},
     "output_type": "execute_result"
    }
   ],
   "source": [
    "ds = load_by_id(run_id_a)\n",
    "ds.get_parameter_data('x1')"
   ]
  },
  {
   "cell_type": "code",
   "execution_count": null,
   "metadata": {},
   "outputs": [],
   "source": []
  }
 ],
 "metadata": {
  "kernelspec": {
   "display_name": "Python 3",
   "language": "python",
   "name": "python3"
  },
  "language_info": {
   "codemirror_mode": {
    "name": "ipython",
    "version": 3
   },
   "file_extension": ".py",
   "mimetype": "text/x-python",
   "name": "python",
   "nbconvert_exporter": "python",
   "pygments_lexer": "ipython3",
   "version": "3.7.9"
  },
  "nbsphinx": {
   "timeout": 600
  },
  "toc": {
   "base_numbering": 1,
   "nav_menu": {},
   "number_sections": true,
   "sideBar": true,
   "skip_h1_title": false,
   "title_cell": "Table of Contents",
   "title_sidebar": "Contents",
   "toc_cell": false,
   "toc_position": {},
   "toc_section_display": true,
   "toc_window_display": false
  },
  "varInspector": {
   "cols": {
    "lenName": 16,
    "lenType": 16,
    "lenVar": 40
   },
   "kernels_config": {
    "python": {
     "delete_cmd_postfix": "",
     "delete_cmd_prefix": "del ",
     "library": "var_list.py",
     "varRefreshCmd": "print(var_dic_list())"
    },
    "r": {
     "delete_cmd_postfix": ") ",
     "delete_cmd_prefix": "rm(",
     "library": "var_list.r",
     "varRefreshCmd": "cat(var_dic_list()) "
    }
   },
   "types_to_exclude": [
    "module",
    "function",
    "builtin_function_or_method",
    "instance",
    "_Feature"
   ],
   "window_display": false
  }
 },
 "nbformat": 4,
 "nbformat_minor": 2
}
