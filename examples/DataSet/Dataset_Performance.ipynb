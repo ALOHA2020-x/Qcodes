{
 "cells": [
  {
   "cell_type": "markdown",
   "metadata": {},
   "source": [
    "# DataSet Performance\n",
    "\n",
    "This notebook shows the trade-off between inserting data into a database row-by-row and as binary blobs. Inserting the data row-by-row means that we have direct access to all the data and may perform queries directly on the values of the data. On the other hand, as we shall see, this is much slower than inserting the data directly as binary blobs."
   ]
  },
  {
   "cell_type": "markdown",
   "metadata": {},
   "source": [
    "First, we choose a new location for the database to ensure that we don't add a bunch of benchmarking data to the default one."
   ]
  },
  {
   "cell_type": "code",
   "execution_count": 1,
   "metadata": {
    "execution": {
     "iopub.execute_input": "2021-02-11T07:36:24.162272Z",
     "iopub.status.busy": "2021-02-11T07:36:24.161728Z",
     "iopub.status.idle": "2021-02-11T07:36:25.209606Z",
     "shell.execute_reply": "2021-02-11T07:36:25.210214Z"
    }
   },
   "outputs": [
    {
     "name": "stdout",
     "output_type": "stream",
     "text": [
      "Logging hadn't been started.\n",
      "Activating auto-logging. Current session state plus future input saved.\n",
      "Filename       : /home/vsts/.qcodes/logs/command_history.log\n",
      "Mode           : append\n",
      "Output logging : True\n",
      "Raw input log  : False\n",
      "Timestamping   : True\n",
      "State          : active\n"
     ]
    },
    {
     "name": "stdout",
     "output_type": "stream",
     "text": [
      "Qcodes Logfile : /home/vsts/.qcodes/logs/210211-13743-qcodes.log\n"
     ]
    }
   ],
   "source": [
    "import os\n",
    "cwd = os.getcwd()\n",
    "import qcodes as qc\n",
    "qc.config[\"core\"][\"db_location\"] = os.path.join(cwd, 'testing.db')\n"
   ]
  },
  {
   "cell_type": "code",
   "execution_count": 2,
   "metadata": {
    "execution": {
     "iopub.execute_input": "2021-02-11T07:36:25.216782Z",
     "iopub.status.busy": "2021-02-11T07:36:25.216152Z",
     "iopub.status.idle": "2021-02-11T07:36:25.408574Z",
     "shell.execute_reply": "2021-02-11T07:36:25.408072Z"
    }
   },
   "outputs": [],
   "source": [
    "%matplotlib inline\n",
    "import time\n",
    "import matplotlib.pyplot as plt\n",
    "import numpy as np\n",
    "\n",
    "import qcodes as qc\n",
    "from qcodes.instrument.parameter import ManualParameter\n",
    "from qcodes.dataset.experiment_container import (Experiment,\n",
    "                                                 load_last_experiment,\n",
    "                                                 new_experiment)\n",
    "from qcodes.dataset.sqlite.database import initialise_database\n",
    "from qcodes import load_or_create_experiment\n",
    "from qcodes.dataset.measurements import Measurement"
   ]
  },
  {
   "cell_type": "code",
   "execution_count": 3,
   "metadata": {
    "execution": {
     "iopub.execute_input": "2021-02-11T07:36:25.413372Z",
     "iopub.status.busy": "2021-02-11T07:36:25.412481Z",
     "iopub.status.idle": "2021-02-11T07:36:25.519573Z",
     "shell.execute_reply": "2021-02-11T07:36:25.520032Z"
    }
   },
   "outputs": [
    {
     "name": "stdout",
     "output_type": "stream",
     "text": [
      "\r",
      "0it [00:00, ?it/s]"
     ]
    },
    {
     "name": "stdout",
     "output_type": "stream",
     "text": [
      "\r",
      "Upgrading database; v0 -> v1: : 0it [00:00, ?it/s]"
     ]
    },
    {
     "name": "stdout",
     "output_type": "stream",
     "text": [
      "\r",
      "Upgrading database; v0 -> v1: : 0it [00:00, ?it/s]"
     ]
    },
    {
     "name": "stdout",
     "output_type": "stream",
     "text": [
      "\n",
      "\r",
      "  0%|          | 0/1 [00:00<?, ?it/s]"
     ]
    },
    {
     "name": "stdout",
     "output_type": "stream",
     "text": [
      "\r",
      "Upgrading database; v1 -> v2:   0%|          | 0/1 [00:00<?, ?it/s]"
     ]
    },
    {
     "name": "stdout",
     "output_type": "stream",
     "text": [
      "\r",
      "Upgrading database; v1 -> v2: 100%|██████████| 1/1 [00:00<00:00, 631.77it/s]"
     ]
    },
    {
     "name": "stdout",
     "output_type": "stream",
     "text": [
      "\n",
      "\r",
      "0it [00:00, ?it/s]"
     ]
    },
    {
     "name": "stdout",
     "output_type": "stream",
     "text": [
      "\r",
      "Upgrading database; v2 -> v3: : 0it [00:00, ?it/s]"
     ]
    },
    {
     "name": "stdout",
     "output_type": "stream",
     "text": [
      "\r",
      "Upgrading database; v2 -> v3: : 0it [00:00, ?it/s]"
     ]
    },
    {
     "name": "stdout",
     "output_type": "stream",
     "text": [
      "\n",
      "\r",
      "0it [00:00, ?it/s]"
     ]
    },
    {
     "name": "stdout",
     "output_type": "stream",
     "text": [
      "\r",
      "Upgrading database; v3 -> v4: : 0it [00:00, ?it/s]"
     ]
    },
    {
     "name": "stdout",
     "output_type": "stream",
     "text": [
      "\r",
      "Upgrading database; v3 -> v4: : 0it [00:00, ?it/s]"
     ]
    },
    {
     "name": "stdout",
     "output_type": "stream",
     "text": [
      "\n",
      "\r",
      "  0%|          | 0/1 [00:00<?, ?it/s]"
     ]
    },
    {
     "name": "stdout",
     "output_type": "stream",
     "text": [
      "\r",
      "Upgrading database; v4 -> v5:   0%|          | 0/1 [00:00<?, ?it/s]"
     ]
    },
    {
     "name": "stdout",
     "output_type": "stream",
     "text": [
      "\r",
      "Upgrading database; v4 -> v5: 100%|██████████| 1/1 [00:00<00:00, 574.88it/s]"
     ]
    },
    {
     "name": "stdout",
     "output_type": "stream",
     "text": [
      "\n",
      "\r",
      "0it [00:00, ?it/s]"
     ]
    },
    {
     "name": "stdout",
     "output_type": "stream",
     "text": [
      "\r",
      "Upgrading database; v5 -> v6: : 0it [00:00, ?it/s]"
     ]
    },
    {
     "name": "stdout",
     "output_type": "stream",
     "text": [
      "\r",
      "Upgrading database; v5 -> v6: : 0it [00:00, ?it/s]"
     ]
    },
    {
     "name": "stdout",
     "output_type": "stream",
     "text": [
      "\n",
      "\r",
      "  0%|          | 0/1 [00:00<?, ?it/s]"
     ]
    },
    {
     "name": "stdout",
     "output_type": "stream",
     "text": [
      "\r",
      "Upgrading database; v6 -> v7:   0%|          | 0/1 [00:00<?, ?it/s]"
     ]
    },
    {
     "name": "stdout",
     "output_type": "stream",
     "text": [
      "\r",
      "Upgrading database; v6 -> v7: 100%|██████████| 1/1 [00:00<00:00, 269.07it/s]"
     ]
    },
    {
     "name": "stdout",
     "output_type": "stream",
     "text": [
      "\n",
      "\r",
      "  0%|          | 0/1 [00:00<?, ?it/s]"
     ]
    },
    {
     "name": "stdout",
     "output_type": "stream",
     "text": [
      "\r",
      "Upgrading database; v7 -> v8:   0%|          | 0/1 [00:00<?, ?it/s]"
     ]
    },
    {
     "name": "stdout",
     "output_type": "stream",
     "text": [
      "\r",
      "Upgrading database; v7 -> v8: 100%|██████████| 1/1 [00:00<00:00, 575.82it/s]"
     ]
    },
    {
     "name": "stdout",
     "output_type": "stream",
     "text": [
      "\n",
      "\r",
      "  0%|          | 0/1 [00:00<?, ?it/s]"
     ]
    },
    {
     "name": "stdout",
     "output_type": "stream",
     "text": [
      "\r",
      "Upgrading database; v8 -> v9:   0%|          | 0/1 [00:00<?, ?it/s]"
     ]
    },
    {
     "name": "stdout",
     "output_type": "stream",
     "text": [
      "\r",
      "Upgrading database; v8 -> v9: 100%|██████████| 1/1 [00:00<00:00, 468.79it/s]"
     ]
    },
    {
     "name": "stdout",
     "output_type": "stream",
     "text": [
      "\n"
     ]
    }
   ],
   "source": [
    "initialise_database()\n",
    "exp = load_or_create_experiment(experiment_name='tutorial_exp', sample_name=\"no sample\")"
   ]
  },
  {
   "cell_type": "markdown",
   "metadata": {},
   "source": [
    "Here, we define a simple function to benchmark the time it takes to insert n points with either numeric or array data type.\n",
    "We will compare both the time used to call ``add_result`` and the time used for the full measurement."
   ]
  },
  {
   "cell_type": "code",
   "execution_count": 4,
   "metadata": {
    "execution": {
     "iopub.execute_input": "2021-02-11T07:36:25.529718Z",
     "iopub.status.busy": "2021-02-11T07:36:25.529157Z",
     "iopub.status.idle": "2021-02-11T07:36:25.532243Z",
     "shell.execute_reply": "2021-02-11T07:36:25.531423Z"
    }
   },
   "outputs": [],
   "source": [
    "def insert_data(paramtype, npoints, nreps=1):\n",
    "\n",
    "    meas = Measurement(exp=exp)\n",
    "\n",
    "    x1 = ManualParameter('x1')\n",
    "    x2 = ManualParameter('x2')\n",
    "    x3 = ManualParameter('x3')\n",
    "    y1 = ManualParameter('y1')\n",
    "    y2 = ManualParameter('y2')\n",
    "\n",
    "    meas.register_parameter(x1, paramtype=paramtype)\n",
    "    meas.register_parameter(x2, paramtype=paramtype)\n",
    "    meas.register_parameter(x3, paramtype=paramtype)\n",
    "    meas.register_parameter(y1, setpoints=[x1, x2, x3],\n",
    "                            paramtype=paramtype)\n",
    "    meas.register_parameter(y2, setpoints=[x1, x2, x3],\n",
    "                            paramtype=paramtype)\n",
    "    start = time.perf_counter()\n",
    "    with meas.run() as datasaver:\n",
    "        start_adding = time.perf_counter()\n",
    "        for i in range(nreps):\n",
    "            datasaver.add_result((x1, np.random.rand(npoints)),\n",
    "                                 (x2, np.random.rand(npoints)),\n",
    "                                 (x3, np.random.rand(npoints)),\n",
    "                                 (y1, np.random.rand(npoints)),\n",
    "                                 (y2, np.random.rand(npoints)))\n",
    "        stop_adding = time.perf_counter()\n",
    "        run_id = datasaver.run_id\n",
    "    stop = time.perf_counter()\n",
    "    tot_time = stop - start\n",
    "    add_time = stop_adding - start_adding\n",
    "    return tot_time, add_time, run_id"
   ]
  },
  {
   "cell_type": "markdown",
   "metadata": {},
   "source": [
    "## Comparison between numeric/array data and binary blob"
   ]
  },
  {
   "cell_type": "markdown",
   "metadata": {},
   "source": [
    "### Case1: Short experiment time"
   ]
  },
  {
   "cell_type": "code",
   "execution_count": 5,
   "metadata": {
    "execution": {
     "iopub.execute_input": "2021-02-11T07:36:25.538555Z",
     "iopub.status.busy": "2021-02-11T07:36:25.537640Z",
     "iopub.status.idle": "2021-02-11T07:36:26.305260Z",
     "shell.execute_reply": "2021-02-11T07:36:26.306074Z"
    }
   },
   "outputs": [
    {
     "name": "stdout",
     "output_type": "stream",
     "text": [
      "Starting experimental run with id: 1. \n",
      "Starting experimental run with id: 2. \n",
      "Starting experimental run with id: 3. \n",
      "Starting experimental run with id: 4. \n",
      "Starting experimental run with id: 5. \n"
     ]
    },
    {
     "name": "stdout",
     "output_type": "stream",
     "text": [
      "Starting experimental run with id: 6. \n"
     ]
    },
    {
     "name": "stdout",
     "output_type": "stream",
     "text": [
      "Starting experimental run with id: 7. \n"
     ]
    },
    {
     "name": "stdout",
     "output_type": "stream",
     "text": [
      "Starting experimental run with id: 8. \n",
      "Starting experimental run with id: 9. \n"
     ]
    },
    {
     "name": "stdout",
     "output_type": "stream",
     "text": [
      "Starting experimental run with id: 10. \n"
     ]
    },
    {
     "name": "stdout",
     "output_type": "stream",
     "text": [
      "Starting experimental run with id: 11. \n"
     ]
    },
    {
     "name": "stdout",
     "output_type": "stream",
     "text": [
      "Starting experimental run with id: 12. \n",
      "Starting experimental run with id: 13. \n"
     ]
    },
    {
     "name": "stdout",
     "output_type": "stream",
     "text": [
      "Starting experimental run with id: 14. \n"
     ]
    }
   ],
   "source": [
    "sizes = [1,500,1000,2000,3000,4000,5000]\n",
    "t_numeric = []\n",
    "t_numeric_add = []\n",
    "t_array = []\n",
    "t_array_add = []\n",
    "for size in sizes:\n",
    "    tn, tna, run_id_n =  insert_data('numeric', size)\n",
    "    t_numeric.append(tn)\n",
    "    t_numeric_add.append(tna)\n",
    "\n",
    "    ta, taa, run_id_a =  insert_data('array', size)\n",
    "    t_array.append(ta)\n",
    "    t_array_add.append(taa)"
   ]
  },
  {
   "cell_type": "code",
   "execution_count": 6,
   "metadata": {
    "execution": {
     "iopub.execute_input": "2021-02-11T07:36:26.335798Z",
     "iopub.status.busy": "2021-02-11T07:36:26.331023Z",
     "iopub.status.idle": "2021-02-11T07:36:26.566771Z",
     "shell.execute_reply": "2021-02-11T07:36:26.566089Z"
    }
   },
   "outputs": [
    {
     "data": {
      "image/png": "[encoded data removed]",
      "text/plain": [
       "<Figure size 432x288 with 1 Axes>"
      ]
     },
     "metadata": {
      "needs_background": "light"
     },
     "output_type": "display_data"
    }
   ],
   "source": [
    "fig, ax = plt.subplots(1,1)\n",
    "ax.plot(sizes, t_numeric, 'o-', label='Inserting row-by-row')\n",
    "ax.plot(sizes, t_numeric_add, 'o-', label='Inserting row-by-row: add_result only')\n",
    "ax.plot(sizes, t_array, 'd-', label='Inserting as binary blob')\n",
    "ax.plot(sizes, t_array_add, 'd-', label='Inserting as binary blob: add_result only')\n",
    "ax.legend()\n",
    "ax.set_xlabel('Array length')\n",
    "ax.set_ylabel('Time (s)')\n",
    "fig.tight_layout()"
   ]
  },
  {
   "cell_type": "markdown",
   "metadata": {},
   "source": [
    "As shown in the latter figure, the time to setup and and close the experiment is approximately 0.4 sec. In case of small array sizes, the difference between inserting values of data as arrays and inserting them row-by-row is relatively unimportant. At larger array sizes, i.e. above 10000 points, the cost of writing data as individual datapoints starts to become important.\n"
   ]
  },
  {
   "cell_type": "markdown",
   "metadata": {},
   "source": [
    "### Case2: Long experiment time "
   ]
  },
  {
   "cell_type": "code",
   "execution_count": 7,
   "metadata": {
    "execution": {
     "iopub.execute_input": "2021-02-11T07:36:26.575471Z",
     "iopub.status.busy": "2021-02-11T07:36:26.574435Z",
     "iopub.status.idle": "2021-02-11T07:37:23.246028Z",
     "shell.execute_reply": "2021-02-11T07:37:23.245354Z"
    }
   },
   "outputs": [
    {
     "name": "stdout",
     "output_type": "stream",
     "text": [
      "Starting experimental run with id: 15. \n",
      "Starting experimental run with id: 16. \n"
     ]
    },
    {
     "name": "stdout",
     "output_type": "stream",
     "text": [
      "Starting experimental run with id: 17. \n"
     ]
    },
    {
     "name": "stdout",
     "output_type": "stream",
     "text": [
      "Starting experimental run with id: 18. \n",
      "Starting experimental run with id: 19. \n"
     ]
    },
    {
     "name": "stdout",
     "output_type": "stream",
     "text": [
      "Starting experimental run with id: 20. \n"
     ]
    },
    {
     "name": "stdout",
     "output_type": "stream",
     "text": [
      "Starting experimental run with id: 21. \n"
     ]
    },
    {
     "name": "stdout",
     "output_type": "stream",
     "text": [
      "Starting experimental run with id: 22. \n"
     ]
    },
    {
     "name": "stdout",
     "output_type": "stream",
     "text": [
      "Starting experimental run with id: 23. \n"
     ]
    },
    {
     "name": "stdout",
     "output_type": "stream",
     "text": [
      "Starting experimental run with id: 24. \n"
     ]
    },
    {
     "name": "stdout",
     "output_type": "stream",
     "text": [
      "Starting experimental run with id: 25. \n"
     ]
    },
    {
     "name": "stdout",
     "output_type": "stream",
     "text": [
      "Starting experimental run with id: 26. \n"
     ]
    },
    {
     "name": "stdout",
     "output_type": "stream",
     "text": [
      "Starting experimental run with id: 27. \n"
     ]
    },
    {
     "name": "stdout",
     "output_type": "stream",
     "text": [
      "Starting experimental run with id: 28. \n"
     ]
    }
   ],
   "source": [
    "sizes = [1,500,1000,2000,3000,4000,5000]\n",
    "nreps = 100\n",
    "t_numeric = []\n",
    "t_numeric_add = []\n",
    "t_numeric_run_ids = []\n",
    "t_array = []\n",
    "t_array_add = []\n",
    "t_array_run_ids = []\n",
    "for size in sizes:\n",
    "    tn, tna, run_id_n =  insert_data('numeric', size, nreps=nreps)\n",
    "    t_numeric.append(tn)\n",
    "    t_numeric_add.append(tna)\n",
    "    t_numeric_run_ids.append(run_id_n)\n",
    "\n",
    "    ta, taa, run_id_a =  insert_data('array', size, nreps=nreps)\n",
    "    t_array.append(ta)\n",
    "    t_array_add.append(taa)\n",
    "    t_array_run_ids.append(run_id_a)"
   ]
  },
  {
   "cell_type": "code",
   "execution_count": 8,
   "metadata": {
    "execution": {
     "iopub.execute_input": "2021-02-11T07:37:23.275272Z",
     "iopub.status.busy": "2021-02-11T07:37:23.270355Z",
     "iopub.status.idle": "2021-02-11T07:37:23.495023Z",
     "shell.execute_reply": "2021-02-11T07:37:23.494428Z"
    },
    "scrolled": true
   },
   "outputs": [
    {
     "data": {
      "image/png": "[encoded data removed]",
      "text/plain": [
       "<Figure size 432x288 with 1 Axes>"
      ]
     },
     "metadata": {
      "needs_background": "light"
     },
     "output_type": "display_data"
    }
   ],
   "source": [
    "fig, ax = plt.subplots(1,1)\n",
    "ax.plot(sizes, t_numeric, 'o-', label='Inserting row-by-row')\n",
    "ax.plot(sizes, t_numeric_add, 'o-', label='Inserting row-by-row: add_result only')\n",
    "ax.plot(sizes, t_array, 'd-', label='Inserting as binary blob')\n",
    "ax.plot(sizes, t_array_add, 'd-', label='Inserting as binary blob: add_result only')\n",
    "ax.legend()\n",
    "ax.set_xlabel('Array length')\n",
    "ax.set_ylabel('Time (s)')\n",
    "fig.tight_layout()"
   ]
  },
  {
   "cell_type": "markdown",
   "metadata": {},
   "source": [
    "However, as we increase the length of the experiment, as seen here by repeating the insertion 100 times, we see a big difference between inserting values of the data row-by-row and inserting it as a binary blob."
   ]
  },
  {
   "cell_type": "markdown",
   "metadata": {},
   "source": [
    "## Loading the data "
   ]
  },
  {
   "cell_type": "code",
   "execution_count": 9,
   "metadata": {
    "execution": {
     "iopub.execute_input": "2021-02-11T07:37:23.499655Z",
     "iopub.status.busy": "2021-02-11T07:37:23.498589Z",
     "iopub.status.idle": "2021-02-11T07:37:23.502171Z",
     "shell.execute_reply": "2021-02-11T07:37:23.501682Z"
    }
   },
   "outputs": [],
   "source": [
    "from qcodes.dataset.data_set import load_by_id\n",
    "from qcodes.dataset.data_export import get_data_by_id"
   ]
  },
  {
   "cell_type": "markdown",
   "metadata": {},
   "source": [
    "As usual you can load the data by using the ``load_by_id`` function but you will notice that the different storage methods\n",
    "are reflected in shape of the data as it is retrieved. "
   ]
  },
  {
   "cell_type": "code",
   "execution_count": 10,
   "metadata": {
    "execution": {
     "iopub.execute_input": "2021-02-11T07:37:23.507197Z",
     "iopub.status.busy": "2021-02-11T07:37:23.505830Z",
     "iopub.status.idle": "2021-02-11T07:37:23.508546Z",
     "shell.execute_reply": "2021-02-11T07:37:23.509247Z"
    }
   },
   "outputs": [],
   "source": [
    "run_id_n = t_numeric_run_ids[0]\n",
    "run_id_a = t_array_run_ids[0]"
   ]
  },
  {
   "cell_type": "code",
   "execution_count": 11,
   "metadata": {
    "execution": {
     "iopub.execute_input": "2021-02-11T07:37:23.512977Z",
     "iopub.status.busy": "2021-02-11T07:37:23.512393Z",
     "iopub.status.idle": "2021-02-11T07:37:23.521727Z",
     "shell.execute_reply": "2021-02-11T07:37:23.522408Z"
    },
    "scrolled": true
   },
   "outputs": [
    {
     "data": {
      "text/plain": [
       "{'x1': {'x1': array([0.91655493, 0.91655493, 0.23398953, 0.23398953, 0.07551825,\n",
       "         0.07551825, 0.78035533, 0.78035533, 0.03435952, 0.03435952,\n",
       "         0.25477214, 0.25477214, 0.90199878, 0.90199878, 0.31872159,\n",
       "         0.31872159, 0.70311216, 0.70311216, 0.47877089, 0.47877089,\n",
       "         0.05058067, 0.05058067, 0.62191738, 0.62191738, 0.65959007,\n",
       "         0.65959007, 0.54059669, 0.54059669, 0.92722909, 0.92722909,\n",
       "         0.83825125, 0.83825125, 0.30260105, 0.30260105, 0.0970652 ,\n",
       "         0.0970652 , 0.80038073, 0.80038073, 0.79007305, 0.79007305,\n",
       "         0.84198914, 0.84198914, 0.51235913, 0.51235913, 0.11790151,\n",
       "         0.11790151, 0.44864458, 0.44864458, 0.14508256, 0.14508256,\n",
       "         0.81839711, 0.81839711, 0.81665669, 0.81665669, 0.26607268,\n",
       "         0.26607268, 0.47095621, 0.47095621, 0.84018891, 0.84018891,\n",
       "         0.99370966, 0.99370966, 0.21623126, 0.21623126, 0.06018457,\n",
       "         0.06018457, 0.41096359, 0.41096359, 0.8745507 , 0.8745507 ,\n",
       "         0.57866555, 0.57866555, 0.99479426, 0.99479426, 0.36712294,\n",
       "         0.36712294, 0.31124734, 0.31124734, 0.69630962, 0.69630962,\n",
       "         0.93148219, 0.93148219, 0.15706252, 0.15706252, 0.47083304,\n",
       "         0.47083304, 0.21842055, 0.21842055, 0.94589078, 0.94589078,\n",
       "         0.47135667, 0.47135667, 0.6324012 , 0.6324012 , 0.03086073,\n",
       "         0.03086073, 0.06807728, 0.06807728, 0.29992582, 0.29992582,\n",
       "         0.17009966, 0.17009966, 0.81026506, 0.81026506, 0.305964  ,\n",
       "         0.305964  , 0.3246556 , 0.3246556 , 0.36279709, 0.36279709,\n",
       "         0.2664307 , 0.2664307 , 0.80065989, 0.80065989, 0.23632305,\n",
       "         0.23632305, 0.17832952, 0.17832952, 0.96880255, 0.96880255,\n",
       "         0.32999699, 0.32999699, 0.63926778, 0.63926778, 0.07077157,\n",
       "         0.07077157, 0.3620511 , 0.3620511 , 0.23184365, 0.23184365,\n",
       "         0.73409733, 0.73409733, 0.07941878, 0.07941878, 0.91768677,\n",
       "         0.91768677, 0.77584394, 0.77584394, 0.53880287, 0.53880287,\n",
       "         0.81319533, 0.81319533, 0.54991686, 0.54991686, 0.6643512 ,\n",
       "         0.6643512 , 0.96065407, 0.96065407, 0.38926389, 0.38926389,\n",
       "         0.70547786, 0.70547786, 0.72554748, 0.72554748, 0.6084299 ,\n",
       "         0.6084299 , 0.36790417, 0.36790417, 0.79162325, 0.79162325,\n",
       "         0.22450939, 0.22450939, 0.60879771, 0.60879771, 0.09537656,\n",
       "         0.09537656, 0.01335787, 0.01335787, 0.04956148, 0.04956148,\n",
       "         0.04768909, 0.04768909, 0.42464857, 0.42464857, 0.03840204,\n",
       "         0.03840204, 0.0242216 , 0.0242216 , 0.01531001, 0.01531001,\n",
       "         0.86071255, 0.86071255, 0.98167624, 0.98167624, 0.63606875,\n",
       "         0.63606875, 0.85966241, 0.85966241, 0.66277717, 0.66277717,\n",
       "         0.78055824, 0.78055824, 0.0863214 , 0.0863214 , 0.30722311,\n",
       "         0.30722311, 0.29598449, 0.29598449, 0.21464323, 0.21464323])}}"
      ]
     },
     "execution_count": 1,
     "metadata": {},
     "output_type": "execute_result"
    }
   ],
   "source": [
    "ds = load_by_id(run_id_n)\n",
    "ds.get_parameter_data('x1')"
   ]
  },
  {
   "cell_type": "markdown",
   "metadata": {},
   "source": [
    "And a dataset stored as binary arrays"
   ]
  },
  {
   "cell_type": "code",
   "execution_count": 12,
   "metadata": {
    "execution": {
     "iopub.execute_input": "2021-02-11T07:37:23.526817Z",
     "iopub.status.busy": "2021-02-11T07:37:23.526159Z",
     "iopub.status.idle": "2021-02-11T07:37:23.588033Z",
     "shell.execute_reply": "2021-02-11T07:37:23.588525Z"
    },
    "scrolled": true
   },
   "outputs": [
    {
     "data": {
      "text/plain": [
       "{'x1': {'x1': array([[0.73013803],\n",
       "         [0.73013803],\n",
       "         [0.48740339],\n",
       "         [0.48740339],\n",
       "         [0.71817509],\n",
       "         [0.71817509],\n",
       "         [0.65227288],\n",
       "         [0.65227288],\n",
       "         [0.71935694],\n",
       "         [0.71935694],\n",
       "         [0.07861934],\n",
       "         [0.07861934],\n",
       "         [0.18438807],\n",
       "         [0.18438807],\n",
       "         [0.72647065],\n",
       "         [0.72647065],\n",
       "         [0.49076227],\n",
       "         [0.49076227],\n",
       "         [0.18024746],\n",
       "         [0.18024746],\n",
       "         [0.30287369],\n",
       "         [0.30287369],\n",
       "         [0.05282788],\n",
       "         [0.05282788],\n",
       "         [0.69708575],\n",
       "         [0.69708575],\n",
       "         [0.61669807],\n",
       "         [0.61669807],\n",
       "         [0.69879565],\n",
       "         [0.69879565],\n",
       "         [0.71855892],\n",
       "         [0.71855892],\n",
       "         [0.22654988],\n",
       "         [0.22654988],\n",
       "         [0.31114925],\n",
       "         [0.31114925],\n",
       "         [0.17023525],\n",
       "         [0.17023525],\n",
       "         [0.75248623],\n",
       "         [0.75248623],\n",
       "         [0.96278281],\n",
       "         [0.96278281],\n",
       "         [0.63018319],\n",
       "         [0.63018319],\n",
       "         [0.41101905],\n",
       "         [0.41101905],\n",
       "         [0.91911227],\n",
       "         [0.91911227],\n",
       "         [0.0874431 ],\n",
       "         [0.0874431 ],\n",
       "         [0.40660116],\n",
       "         [0.40660116],\n",
       "         [0.44306465],\n",
       "         [0.44306465],\n",
       "         [0.17740269],\n",
       "         [0.17740269],\n",
       "         [0.50602985],\n",
       "         [0.50602985],\n",
       "         [0.3755435 ],\n",
       "         [0.3755435 ],\n",
       "         [0.72894238],\n",
       "         [0.72894238],\n",
       "         [0.58571718],\n",
       "         [0.58571718],\n",
       "         [0.88163454],\n",
       "         [0.88163454],\n",
       "         [0.73484028],\n",
       "         [0.73484028],\n",
       "         [0.64213503],\n",
       "         [0.64213503],\n",
       "         [0.76296754],\n",
       "         [0.76296754],\n",
       "         [0.79022307],\n",
       "         [0.79022307],\n",
       "         [0.34231683],\n",
       "         [0.34231683],\n",
       "         [0.44947842],\n",
       "         [0.44947842],\n",
       "         [0.49464562],\n",
       "         [0.49464562],\n",
       "         [0.49000549],\n",
       "         [0.49000549],\n",
       "         [0.21691553],\n",
       "         [0.21691553],\n",
       "         [0.62964317],\n",
       "         [0.62964317],\n",
       "         [0.28458443],\n",
       "         [0.28458443],\n",
       "         [0.9489372 ],\n",
       "         [0.9489372 ],\n",
       "         [0.79649341],\n",
       "         [0.79649341],\n",
       "         [0.17417011],\n",
       "         [0.17417011],\n",
       "         [0.49997687],\n",
       "         [0.49997687],\n",
       "         [0.04660144],\n",
       "         [0.04660144],\n",
       "         [0.51513915],\n",
       "         [0.51513915],\n",
       "         [0.6356186 ],\n",
       "         [0.6356186 ],\n",
       "         [0.33078021],\n",
       "         [0.33078021],\n",
       "         [0.9996268 ],\n",
       "         [0.9996268 ],\n",
       "         [0.14109523],\n",
       "         [0.14109523],\n",
       "         [0.89703946],\n",
       "         [0.89703946],\n",
       "         [0.73769859],\n",
       "         [0.73769859],\n",
       "         [0.39435305],\n",
       "         [0.39435305],\n",
       "         [0.5276518 ],\n",
       "         [0.5276518 ],\n",
       "         [0.42000761],\n",
       "         [0.42000761],\n",
       "         [0.21564622],\n",
       "         [0.21564622],\n",
       "         [0.72952018],\n",
       "         [0.72952018],\n",
       "         [0.49765271],\n",
       "         [0.49765271],\n",
       "         [0.50144122],\n",
       "         [0.50144122],\n",
       "         [0.98559467],\n",
       "         [0.98559467],\n",
       "         [0.09675968],\n",
       "         [0.09675968],\n",
       "         [0.34503012],\n",
       "         [0.34503012],\n",
       "         [0.90688264],\n",
       "         [0.90688264],\n",
       "         [0.31600233],\n",
       "         [0.31600233],\n",
       "         [0.58568805],\n",
       "         [0.58568805],\n",
       "         [0.12692232],\n",
       "         [0.12692232],\n",
       "         [0.54245143],\n",
       "         [0.54245143],\n",
       "         [0.83440629],\n",
       "         [0.83440629],\n",
       "         [0.12196882],\n",
       "         [0.12196882],\n",
       "         [0.09665949],\n",
       "         [0.09665949],\n",
       "         [0.80619603],\n",
       "         [0.80619603],\n",
       "         [0.40514897],\n",
       "         [0.40514897],\n",
       "         [0.54599046],\n",
       "         [0.54599046],\n",
       "         [0.09657593],\n",
       "         [0.09657593],\n",
       "         [0.61707586],\n",
       "         [0.61707586],\n",
       "         [0.48804491],\n",
       "         [0.48804491],\n",
       "         [0.31882369],\n",
       "         [0.31882369],\n",
       "         [0.36010699],\n",
       "         [0.36010699],\n",
       "         [0.84262449],\n",
       "         [0.84262449],\n",
       "         [0.38763517],\n",
       "         [0.38763517],\n",
       "         [0.68610937],\n",
       "         [0.68610937],\n",
       "         [0.02346285],\n",
       "         [0.02346285],\n",
       "         [0.15898505],\n",
       "         [0.15898505],\n",
       "         [0.68205725],\n",
       "         [0.68205725],\n",
       "         [0.89334822],\n",
       "         [0.89334822],\n",
       "         [0.32217523],\n",
       "         [0.32217523],\n",
       "         [0.15196997],\n",
       "         [0.15196997],\n",
       "         [0.41803225],\n",
       "         [0.41803225],\n",
       "         [0.96622646],\n",
       "         [0.96622646],\n",
       "         [0.69584438],\n",
       "         [0.69584438],\n",
       "         [0.36866748],\n",
       "         [0.36866748],\n",
       "         [0.08298481],\n",
       "         [0.08298481],\n",
       "         [0.54311836],\n",
       "         [0.54311836],\n",
       "         [0.3466308 ],\n",
       "         [0.3466308 ],\n",
       "         [0.63538439],\n",
       "         [0.63538439],\n",
       "         [0.95293441],\n",
       "         [0.95293441]])}}"
      ]
     },
     "execution_count": 1,
     "metadata": {},
     "output_type": "execute_result"
    }
   ],
   "source": [
    "ds = load_by_id(run_id_a)\n",
    "ds.get_parameter_data('x1')"
   ]
  },
  {
   "cell_type": "code",
   "execution_count": null,
   "metadata": {},
   "outputs": [],
   "source": []
  }
 ],
 "metadata": {
  "kernelspec": {
   "display_name": "Python 3",
   "language": "python",
   "name": "python3"
  },
  "language_info": {
   "codemirror_mode": {
    "name": "ipython",
    "version": 3
   },
   "file_extension": ".py",
   "mimetype": "text/x-python",
   "name": "python",
   "nbconvert_exporter": "python",
   "pygments_lexer": "ipython3",
   "version": "3.7.9"
  },
  "nbsphinx": {
   "timeout": 600
  },
  "toc": {
   "base_numbering": 1,
   "nav_menu": {},
   "number_sections": true,
   "sideBar": true,
   "skip_h1_title": false,
   "title_cell": "Table of Contents",
   "title_sidebar": "Contents",
   "toc_cell": false,
   "toc_position": {},
   "toc_section_display": true,
   "toc_window_display": false
  },
  "varInspector": {
   "cols": {
    "lenName": 16,
    "lenType": 16,
    "lenVar": 40
   },
   "kernels_config": {
    "python": {
     "delete_cmd_postfix": "",
     "delete_cmd_prefix": "del ",
     "library": "var_list.py",
     "varRefreshCmd": "print(var_dic_list())"
    },
    "r": {
     "delete_cmd_postfix": ") ",
     "delete_cmd_prefix": "rm(",
     "library": "var_list.r",
     "varRefreshCmd": "cat(var_dic_list()) "
    }
   },
   "types_to_exclude": [
    "module",
    "function",
    "builtin_function_or_method",
    "instance",
    "_Feature"
   ],
   "window_display": false
  }
 },
 "nbformat": 4,
 "nbformat_minor": 2
}
