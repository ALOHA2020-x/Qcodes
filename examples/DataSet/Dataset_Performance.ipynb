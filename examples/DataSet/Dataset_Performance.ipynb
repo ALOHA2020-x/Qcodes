{
 "cells": [
  {
   "cell_type": "markdown",
   "metadata": {},
   "source": [
    "# DataSet Performance\n",
    "\n",
    "This notebook shows the trade-off between inserting data into a database row-by-row and as binary blobs. Inserting the data row-by-row means that we have direct access to all the data and may perform queries directly on the values of the data. On the other hand, as we shall see, this is much slower than inserting the data directly as binary blobs."
   ]
  },
  {
   "cell_type": "markdown",
   "metadata": {},
   "source": [
    "First, we choose a new location for the database to ensure that we don't add a bunch of benchmarking data to the default one."
   ]
  },
  {
   "cell_type": "code",
   "execution_count": 1,
   "metadata": {},
   "outputs": [
    {
     "name": "stdout",
     "output_type": "stream",
     "text": [
      "Logging hadn't been started.\n",
      "Activating auto-logging. Current session state plus future input saved.\n",
      "Filename       : /home/vsts/.qcodes/logs/command_history.log\n",
      "Mode           : append\n",
      "Output logging : True\n",
      "Raw input log  : False\n",
      "Timestamping   : True\n",
      "State          : active\n"
     ]
    },
    {
     "name": "stdout",
     "output_type": "stream",
     "text": [
      "Qcodes Logfile : /home/vsts/.qcodes/logs/200420-18427-qcodes.log\n"
     ]
    }
   ],
   "source": [
    "import os\n",
    "cwd = os.getcwd()\n",
    "import qcodes as qc\n",
    "qc.config[\"core\"][\"db_location\"] = os.path.join(cwd, 'testing.db')\n"
   ]
  },
  {
   "cell_type": "code",
   "execution_count": 2,
   "metadata": {},
   "outputs": [],
   "source": [
    "%matplotlib inline\n",
    "import time\n",
    "import matplotlib.pyplot as plt\n",
    "import numpy as np\n",
    "\n",
    "import qcodes as qc\n",
    "from qcodes.instrument.parameter import ManualParameter\n",
    "from qcodes.dataset.experiment_container import (Experiment,\n",
    "                                                 load_last_experiment,\n",
    "                                                 new_experiment)\n",
    "from qcodes.dataset.sqlite.database import initialise_database\n",
    "from qcodes import load_or_create_experiment\n",
    "from qcodes.dataset.measurements import Measurement"
   ]
  },
  {
   "cell_type": "code",
   "execution_count": 3,
   "metadata": {},
   "outputs": [
    {
     "name": "stdout",
     "output_type": "stream",
     "text": [
      "\r",
      "0it [00:00, ?it/s]"
     ]
    },
    {
     "name": "stdout",
     "output_type": "stream",
     "text": [
      "\r",
      "Upgrading database; v0 -> v1: : 0it [00:00, ?it/s]"
     ]
    },
    {
     "name": "stdout",
     "output_type": "stream",
     "text": [
      "\r",
      "Upgrading database; v0 -> v1: : 0it [00:00, ?it/s]"
     ]
    },
    {
     "name": "stdout",
     "output_type": "stream",
     "text": [
      "\n",
      "\r",
      "  0%|          | 0/1 [00:00<?, ?it/s]"
     ]
    },
    {
     "name": "stdout",
     "output_type": "stream",
     "text": [
      "\r",
      "Upgrading database; v1 -> v2:   0%|          | 0/1 [00:00<?, ?it/s]"
     ]
    },
    {
     "name": "stdout",
     "output_type": "stream",
     "text": [
      "\r",
      "Upgrading database; v1 -> v2: 100%|██████████| 1/1 [00:00<00:00, 814.43it/s]"
     ]
    },
    {
     "name": "stdout",
     "output_type": "stream",
     "text": [
      "\n",
      "\r",
      "0it [00:00, ?it/s]"
     ]
    },
    {
     "name": "stdout",
     "output_type": "stream",
     "text": [
      "\r",
      "Upgrading database; v2 -> v3: : 0it [00:00, ?it/s]"
     ]
    },
    {
     "name": "stdout",
     "output_type": "stream",
     "text": [
      "\r",
      "Upgrading database; v2 -> v3: : 0it [00:00, ?it/s]"
     ]
    },
    {
     "name": "stdout",
     "output_type": "stream",
     "text": [
      "\n",
      "\r",
      "0it [00:00, ?it/s]"
     ]
    },
    {
     "name": "stdout",
     "output_type": "stream",
     "text": [
      "\r",
      "Upgrading database; v3 -> v4: : 0it [00:00, ?it/s]"
     ]
    },
    {
     "name": "stdout",
     "output_type": "stream",
     "text": [
      "\r",
      "Upgrading database; v3 -> v4: : 0it [00:00, ?it/s]"
     ]
    },
    {
     "name": "stdout",
     "output_type": "stream",
     "text": [
      "\n",
      "\r",
      "  0%|          | 0/1 [00:00<?, ?it/s]"
     ]
    },
    {
     "name": "stdout",
     "output_type": "stream",
     "text": [
      "\r",
      "Upgrading database; v4 -> v5:   0%|          | 0/1 [00:00<?, ?it/s]"
     ]
    },
    {
     "name": "stdout",
     "output_type": "stream",
     "text": [
      "\r",
      "Upgrading database; v4 -> v5: 100%|██████████| 1/1 [00:00<00:00, 870.73it/s]"
     ]
    },
    {
     "name": "stdout",
     "output_type": "stream",
     "text": [
      "\n",
      "\r",
      "0it [00:00, ?it/s]"
     ]
    },
    {
     "name": "stdout",
     "output_type": "stream",
     "text": [
      "\r",
      "Upgrading database; v5 -> v6: : 0it [00:00, ?it/s]"
     ]
    },
    {
     "name": "stdout",
     "output_type": "stream",
     "text": [
      "\r",
      "Upgrading database; v5 -> v6: : 0it [00:00, ?it/s]"
     ]
    },
    {
     "name": "stdout",
     "output_type": "stream",
     "text": [
      "\n",
      "\r",
      "  0%|          | 0/1 [00:00<?, ?it/s]"
     ]
    },
    {
     "name": "stdout",
     "output_type": "stream",
     "text": [
      "\r",
      "Upgrading database; v6 -> v7:   0%|          | 0/1 [00:00<?, ?it/s]"
     ]
    },
    {
     "name": "stdout",
     "output_type": "stream",
     "text": [
      "\r",
      "Upgrading database; v6 -> v7: 100%|██████████| 1/1 [00:00<00:00, 458.64it/s]"
     ]
    },
    {
     "name": "stdout",
     "output_type": "stream",
     "text": [
      "\n",
      "\r",
      "  0%|          | 0/1 [00:00<?, ?it/s]"
     ]
    },
    {
     "name": "stdout",
     "output_type": "stream",
     "text": [
      "\r",
      "Upgrading database; v7 -> v8:   0%|          | 0/1 [00:00<?, ?it/s]"
     ]
    },
    {
     "name": "stdout",
     "output_type": "stream",
     "text": [
      "\r",
      "Upgrading database; v7 -> v8: 100%|██████████| 1/1 [00:00<00:00, 960.23it/s]"
     ]
    },
    {
     "name": "stdout",
     "output_type": "stream",
     "text": [
      "\n",
      "\r",
      "  0%|          | 0/1 [00:00<?, ?it/s]"
     ]
    },
    {
     "name": "stdout",
     "output_type": "stream",
     "text": [
      "\r",
      "Upgrading database; v8 -> v9:   0%|          | 0/1 [00:00<?, ?it/s]"
     ]
    },
    {
     "name": "stdout",
     "output_type": "stream",
     "text": [
      "\r",
      "Upgrading database; v8 -> v9: 100%|██████████| 1/1 [00:00<00:00, 896.22it/s]"
     ]
    },
    {
     "name": "stdout",
     "output_type": "stream",
     "text": [
      "\n"
     ]
    }
   ],
   "source": [
    "initialise_database()\n",
    "exp = load_or_create_experiment(experiment_name='tutorial_exp', sample_name=\"no sample\")"
   ]
  },
  {
   "cell_type": "markdown",
   "metadata": {},
   "source": [
    "Here, we define a simple function to benchmark the time it takes to insert n points with either numeric or array data type.\n",
    "We will compare both the time used to call ``add_result`` and the time used for the full measurement."
   ]
  },
  {
   "cell_type": "code",
   "execution_count": 4,
   "metadata": {},
   "outputs": [],
   "source": [
    "def insert_data(paramtype, npoints, nreps=1):\n",
    "\n",
    "    meas = Measurement(exp=exp)\n",
    "\n",
    "    x1 = ManualParameter('x1')\n",
    "    x2 = ManualParameter('x2')\n",
    "    x3 = ManualParameter('x3')\n",
    "    y1 = ManualParameter('y1')\n",
    "    y2 = ManualParameter('y2')\n",
    "\n",
    "    meas.register_parameter(x1, paramtype=paramtype)\n",
    "    meas.register_parameter(x2, paramtype=paramtype)\n",
    "    meas.register_parameter(x3, paramtype=paramtype)\n",
    "    meas.register_parameter(y1, setpoints=[x1, x2, x3],\n",
    "                            paramtype=paramtype)\n",
    "    meas.register_parameter(y2, setpoints=[x1, x2, x3],\n",
    "                            paramtype=paramtype)\n",
    "    start = time.perf_counter()\n",
    "    with meas.run() as datasaver:\n",
    "        start_adding = time.perf_counter()\n",
    "        for i in range(nreps):\n",
    "            datasaver.add_result((x1, np.random.rand(npoints)),\n",
    "                                 (x2, np.random.rand(npoints)),\n",
    "                                 (x3, np.random.rand(npoints)),\n",
    "                                 (y1, np.random.rand(npoints)),\n",
    "                                 (y2, np.random.rand(npoints)))\n",
    "        stop_adding = time.perf_counter()\n",
    "        run_id = datasaver.run_id\n",
    "    stop = time.perf_counter()\n",
    "    tot_time = stop - start\n",
    "    add_time = stop_adding - start_adding\n",
    "    return tot_time, add_time, run_id"
   ]
  },
  {
   "cell_type": "markdown",
   "metadata": {},
   "source": [
    "## Comparison between numeric/array data and binary blob"
   ]
  },
  {
   "cell_type": "markdown",
   "metadata": {},
   "source": [
    "### Case1: Short experiment time"
   ]
  },
  {
   "cell_type": "code",
   "execution_count": 5,
   "metadata": {},
   "outputs": [
    {
     "name": "stdout",
     "output_type": "stream",
     "text": [
      "Starting experimental run with id: 1. \n",
      "Starting experimental run with id: 2. \n",
      "Starting experimental run with id: 3. \n",
      "Starting experimental run with id: 4. \n"
     ]
    },
    {
     "name": "stdout",
     "output_type": "stream",
     "text": [
      "Starting experimental run with id: 5. \n"
     ]
    },
    {
     "name": "stdout",
     "output_type": "stream",
     "text": [
      "Starting experimental run with id: 6. \n",
      "Starting experimental run with id: 7. \n"
     ]
    },
    {
     "name": "stdout",
     "output_type": "stream",
     "text": [
      "Starting experimental run with id: 8. \n",
      "Starting experimental run with id: 9. \n"
     ]
    },
    {
     "name": "stdout",
     "output_type": "stream",
     "text": [
      "Starting experimental run with id: 10. \n",
      "Starting experimental run with id: 11. \n"
     ]
    },
    {
     "name": "stdout",
     "output_type": "stream",
     "text": [
      "Starting experimental run with id: 12. \n"
     ]
    },
    {
     "name": "stdout",
     "output_type": "stream",
     "text": [
      "Starting experimental run with id: 13. \n"
     ]
    },
    {
     "name": "stdout",
     "output_type": "stream",
     "text": [
      "Starting experimental run with id: 14. \n"
     ]
    }
   ],
   "source": [
    "sizes = [1,500,1000,2000,3000,4000,5000]\n",
    "t_numeric = []\n",
    "t_numeric_add = []\n",
    "t_array = []\n",
    "t_array_add = []\n",
    "for size in sizes:\n",
    "    tn, tna, run_id_n =  insert_data('numeric', size)\n",
    "    t_numeric.append(tn)\n",
    "    t_numeric_add.append(tna)\n",
    "\n",
    "    ta, taa, run_id_a =  insert_data('array', size)\n",
    "    t_array.append(ta)\n",
    "    t_array_add.append(taa)"
   ]
  },
  {
   "cell_type": "code",
   "execution_count": 6,
   "metadata": {},
   "outputs": [
    {
     "data": {
      "image/png": "[encoded data removed]",
      "text/plain": [
       "<Figure size 432x288 with 1 Axes>"
      ]
     },
     "metadata": {
      "needs_background": "light"
     },
     "output_type": "display_data"
    }
   ],
   "source": [
    "fig, ax = plt.subplots(1,1)\n",
    "ax.plot(sizes, t_numeric, 'o-', label='Inserting row-by-row')\n",
    "ax.plot(sizes, t_numeric_add, 'o-', label='Inserting row-by-row: add_result only')\n",
    "ax.plot(sizes, t_array, 'd-', label='Inserting as binary blob')\n",
    "ax.plot(sizes, t_array_add, 'd-', label='Inserting as binary blob: add_result only')\n",
    "ax.legend()\n",
    "ax.set_xlabel('Array length')\n",
    "ax.set_ylabel('Time (s)')\n",
    "fig.tight_layout()"
   ]
  },
  {
   "cell_type": "markdown",
   "metadata": {},
   "source": [
    "As shown in the latter figure, the time to setup and and close the experiment is approximately 0.4 sec. In case of small array sizes, the difference between inserting values of data as arrays and inserting them row-by-row is relatively unimportant. At larger array sizes, i.e. above 10000 points, the cost of writing data as individual datapoints starts to become important.\n"
   ]
  },
  {
   "cell_type": "markdown",
   "metadata": {},
   "source": [
    "### Case2: Long experiment time "
   ]
  },
  {
   "cell_type": "code",
   "execution_count": 7,
   "metadata": {},
   "outputs": [
    {
     "name": "stdout",
     "output_type": "stream",
     "text": [
      "Starting experimental run with id: 15. \n",
      "Starting experimental run with id: 16. \n",
      "Starting experimental run with id: 17. \n"
     ]
    },
    {
     "name": "stdout",
     "output_type": "stream",
     "text": [
      "Starting experimental run with id: 18. \n",
      "Starting experimental run with id: 19. \n"
     ]
    },
    {
     "name": "stdout",
     "output_type": "stream",
     "text": [
      "Starting experimental run with id: 20. \n"
     ]
    },
    {
     "name": "stdout",
     "output_type": "stream",
     "text": [
      "Starting experimental run with id: 21. \n"
     ]
    },
    {
     "name": "stdout",
     "output_type": "stream",
     "text": [
      "Starting experimental run with id: 22. \n"
     ]
    },
    {
     "name": "stdout",
     "output_type": "stream",
     "text": [
      "Starting experimental run with id: 23. \n"
     ]
    },
    {
     "name": "stdout",
     "output_type": "stream",
     "text": [
      "Starting experimental run with id: 24. \n"
     ]
    },
    {
     "name": "stdout",
     "output_type": "stream",
     "text": [
      "Starting experimental run with id: 25. \n"
     ]
    },
    {
     "name": "stdout",
     "output_type": "stream",
     "text": [
      "Starting experimental run with id: 26. \n"
     ]
    },
    {
     "name": "stdout",
     "output_type": "stream",
     "text": [
      "Starting experimental run with id: 27. \n"
     ]
    },
    {
     "name": "stdout",
     "output_type": "stream",
     "text": [
      "Starting experimental run with id: 28. \n"
     ]
    }
   ],
   "source": [
    "sizes = [1,500,1000,2000,3000,4000,5000]\n",
    "nreps = 100\n",
    "t_numeric = []\n",
    "t_numeric_add = []\n",
    "t_numeric_run_ids = []\n",
    "t_array = []\n",
    "t_array_add = []\n",
    "t_array_run_ids = []\n",
    "for size in sizes:\n",
    "    tn, tna, run_id_n =  insert_data('numeric', size, nreps=nreps)\n",
    "    t_numeric.append(tn)\n",
    "    t_numeric_add.append(tna)\n",
    "    t_numeric_run_ids.append(run_id_n)\n",
    "\n",
    "    ta, taa, run_id_a =  insert_data('array', size, nreps=nreps)\n",
    "    t_array.append(ta)\n",
    "    t_array_add.append(taa)\n",
    "    t_array_run_ids.append(run_id_a)"
   ]
  },
  {
   "cell_type": "code",
   "execution_count": 8,
   "metadata": {
    "scrolled": true
   },
   "outputs": [
    {
     "data": {
      "image/png": "[encoded data removed]",
      "text/plain": [
       "<Figure size 432x288 with 1 Axes>"
      ]
     },
     "metadata": {
      "needs_background": "light"
     },
     "output_type": "display_data"
    }
   ],
   "source": [
    "fig, ax = plt.subplots(1,1)\n",
    "ax.plot(sizes, t_numeric, 'o-', label='Inserting row-by-row')\n",
    "ax.plot(sizes, t_numeric_add, 'o-', label='Inserting row-by-row: add_result only')\n",
    "ax.plot(sizes, t_array, 'd-', label='Inserting as binary blob')\n",
    "ax.plot(sizes, t_array_add, 'd-', label='Inserting as binary blob: add_result only')\n",
    "ax.legend()\n",
    "ax.set_xlabel('Array length')\n",
    "ax.set_ylabel('Time (s)')\n",
    "fig.tight_layout()"
   ]
  },
  {
   "cell_type": "markdown",
   "metadata": {},
   "source": [
    "However, as we increase the length of the experiment, as seen here by repeating the insertion 100 times, we see a big difference between inserting values of the data row-by-row and inserting it as a binary blob."
   ]
  },
  {
   "cell_type": "markdown",
   "metadata": {},
   "source": [
    "## Loading the data "
   ]
  },
  {
   "cell_type": "code",
   "execution_count": 9,
   "metadata": {},
   "outputs": [],
   "source": [
    "from qcodes.dataset.data_set import load_by_id\n",
    "from qcodes.dataset.data_export import get_data_by_id"
   ]
  },
  {
   "cell_type": "markdown",
   "metadata": {},
   "source": [
    "As usual you can load the data by using the ``load_by_id`` function but you will notice that the different storage methods\n",
    "are reflected in shape of the data as it is retrieved. "
   ]
  },
  {
   "cell_type": "code",
   "execution_count": 10,
   "metadata": {},
   "outputs": [],
   "source": [
    "run_id_n = t_numeric_run_ids[0]\n",
    "run_id_a = t_array_run_ids[0]"
   ]
  },
  {
   "cell_type": "code",
   "execution_count": 11,
   "metadata": {
    "scrolled": true
   },
   "outputs": [
    {
     "data": {
      "text/plain": [
       "{'x1': {'x1': array([0.73579199, 0.73579199, 0.90965275, 0.90965275, 0.69248675,\n",
       "         0.69248675, 0.79496719, 0.79496719, 0.81192268, 0.81192268,\n",
       "         0.448395  , 0.448395  , 0.38877046, 0.38877046, 0.72250978,\n",
       "         0.72250978, 0.24839822, 0.24839822, 0.06976294, 0.06976294,\n",
       "         0.05031749, 0.05031749, 0.20719811, 0.20719811, 0.96780066,\n",
       "         0.96780066, 0.94259455, 0.94259455, 0.60766758, 0.60766758,\n",
       "         0.57549846, 0.57549846, 0.89123153, 0.89123153, 0.44991973,\n",
       "         0.44991973, 0.78671439, 0.78671439, 0.70703754, 0.70703754,\n",
       "         0.6845943 , 0.6845943 , 0.97653984, 0.97653984, 0.85203355,\n",
       "         0.85203355, 0.68865037, 0.68865037, 0.0412506 , 0.0412506 ,\n",
       "         0.42609022, 0.42609022, 0.29576622, 0.29576622, 0.16350119,\n",
       "         0.16350119, 0.53154941, 0.53154941, 0.71147661, 0.71147661,\n",
       "         0.4737361 , 0.4737361 , 0.9073952 , 0.9073952 , 0.62042163,\n",
       "         0.62042163, 0.27426733, 0.27426733, 0.35439631, 0.35439631,\n",
       "         0.69111738, 0.69111738, 0.4185758 , 0.4185758 , 0.8091057 ,\n",
       "         0.8091057 , 0.19649748, 0.19649748, 0.52206294, 0.52206294,\n",
       "         0.32245321, 0.32245321, 0.22970133, 0.22970133, 0.55882698,\n",
       "         0.55882698, 0.15724902, 0.15724902, 0.39623174, 0.39623174,\n",
       "         0.65583999, 0.65583999, 0.9855453 , 0.9855453 , 0.05259776,\n",
       "         0.05259776, 0.97373005, 0.97373005, 0.65143637, 0.65143637,\n",
       "         0.77190493, 0.77190493, 0.90464884, 0.90464884, 0.09222611,\n",
       "         0.09222611, 0.18056395, 0.18056395, 0.93403153, 0.93403153,\n",
       "         0.28785909, 0.28785909, 0.26140372, 0.26140372, 0.45891829,\n",
       "         0.45891829, 0.09352707, 0.09352707, 0.71980538, 0.71980538,\n",
       "         0.73195678, 0.73195678, 0.37020275, 0.37020275, 0.74449507,\n",
       "         0.74449507, 0.73425751, 0.73425751, 0.27281556, 0.27281556,\n",
       "         0.31493662, 0.31493662, 0.72363309, 0.72363309, 0.88274828,\n",
       "         0.88274828, 0.78688835, 0.78688835, 0.48356919, 0.48356919,\n",
       "         0.70035414, 0.70035414, 0.83857228, 0.83857228, 0.34251475,\n",
       "         0.34251475, 0.69558469, 0.69558469, 0.00513332, 0.00513332,\n",
       "         0.22449688, 0.22449688, 0.791523  , 0.791523  , 0.36544187,\n",
       "         0.36544187, 0.81631821, 0.81631821, 0.20916089, 0.20916089,\n",
       "         0.99590098, 0.99590098, 0.22147404, 0.22147404, 0.65871318,\n",
       "         0.65871318, 0.36439059, 0.36439059, 0.4072733 , 0.4072733 ,\n",
       "         0.79038056, 0.79038056, 0.62814137, 0.62814137, 0.07186683,\n",
       "         0.07186683, 0.51922625, 0.51922625, 0.41261346, 0.41261346,\n",
       "         0.58389091, 0.58389091, 0.08458579, 0.08458579, 0.24120768,\n",
       "         0.24120768, 0.07233922, 0.07233922, 0.33857501, 0.33857501,\n",
       "         0.47917843, 0.47917843, 0.30289156, 0.30289156, 0.00204552,\n",
       "         0.00204552, 0.06034314, 0.06034314, 0.65518141, 0.65518141])}}"
      ]
     },
     "execution_count": 11,
     "metadata": {},
     "output_type": "execute_result"
    }
   ],
   "source": [
    "ds = load_by_id(run_id_n)\n",
    "ds.get_parameter_data('x1')"
   ]
  },
  {
   "cell_type": "markdown",
   "metadata": {},
   "source": [
    "And a dataset stored as binary arrays"
   ]
  },
  {
   "cell_type": "code",
   "execution_count": 12,
   "metadata": {
    "scrolled": true
   },
   "outputs": [
    {
     "data": {
      "text/plain": [
       "{'x1': {'x1': array([[0.782858  ],\n",
       "         [0.782858  ],\n",
       "         [0.75903379],\n",
       "         [0.75903379],\n",
       "         [0.0024559 ],\n",
       "         [0.0024559 ],\n",
       "         [0.02388858],\n",
       "         [0.02388858],\n",
       "         [0.66493581],\n",
       "         [0.66493581],\n",
       "         [0.57468604],\n",
       "         [0.57468604],\n",
       "         [0.85261932],\n",
       "         [0.85261932],\n",
       "         [0.41592212],\n",
       "         [0.41592212],\n",
       "         [0.1246275 ],\n",
       "         [0.1246275 ],\n",
       "         [0.71254577],\n",
       "         [0.71254577],\n",
       "         [0.8332826 ],\n",
       "         [0.8332826 ],\n",
       "         [0.70768258],\n",
       "         [0.70768258],\n",
       "         [0.79682587],\n",
       "         [0.79682587],\n",
       "         [0.46956869],\n",
       "         [0.46956869],\n",
       "         [0.86157739],\n",
       "         [0.86157739],\n",
       "         [0.16727758],\n",
       "         [0.16727758],\n",
       "         [0.50904908],\n",
       "         [0.50904908],\n",
       "         [0.90089644],\n",
       "         [0.90089644],\n",
       "         [0.40208504],\n",
       "         [0.40208504],\n",
       "         [0.95559152],\n",
       "         [0.95559152],\n",
       "         [0.45741448],\n",
       "         [0.45741448],\n",
       "         [0.18228489],\n",
       "         [0.18228489],\n",
       "         [0.34255214],\n",
       "         [0.34255214],\n",
       "         [0.84552703],\n",
       "         [0.84552703],\n",
       "         [0.5514297 ],\n",
       "         [0.5514297 ],\n",
       "         [0.35480528],\n",
       "         [0.35480528],\n",
       "         [0.81186183],\n",
       "         [0.81186183],\n",
       "         [0.50045651],\n",
       "         [0.50045651],\n",
       "         [0.37883425],\n",
       "         [0.37883425],\n",
       "         [0.15222706],\n",
       "         [0.15222706],\n",
       "         [0.5739829 ],\n",
       "         [0.5739829 ],\n",
       "         [0.73819205],\n",
       "         [0.73819205],\n",
       "         [0.58778917],\n",
       "         [0.58778917],\n",
       "         [0.42710069],\n",
       "         [0.42710069],\n",
       "         [0.03146052],\n",
       "         [0.03146052],\n",
       "         [0.80756027],\n",
       "         [0.80756027],\n",
       "         [0.34874809],\n",
       "         [0.34874809],\n",
       "         [0.3664753 ],\n",
       "         [0.3664753 ],\n",
       "         [0.08331812],\n",
       "         [0.08331812],\n",
       "         [0.89681397],\n",
       "         [0.89681397],\n",
       "         [0.5575769 ],\n",
       "         [0.5575769 ],\n",
       "         [0.12414361],\n",
       "         [0.12414361],\n",
       "         [0.1401209 ],\n",
       "         [0.1401209 ],\n",
       "         [0.17425266],\n",
       "         [0.17425266],\n",
       "         [0.54398483],\n",
       "         [0.54398483],\n",
       "         [0.0809435 ],\n",
       "         [0.0809435 ],\n",
       "         [0.93422534],\n",
       "         [0.93422534],\n",
       "         [0.6007478 ],\n",
       "         [0.6007478 ],\n",
       "         [0.93024172],\n",
       "         [0.93024172],\n",
       "         [0.92312759],\n",
       "         [0.92312759],\n",
       "         [0.70066761],\n",
       "         [0.70066761],\n",
       "         [0.56448989],\n",
       "         [0.56448989],\n",
       "         [0.01041471],\n",
       "         [0.01041471],\n",
       "         [0.89441664],\n",
       "         [0.89441664],\n",
       "         [0.17257569],\n",
       "         [0.17257569],\n",
       "         [0.55153962],\n",
       "         [0.55153962],\n",
       "         [0.18509966],\n",
       "         [0.18509966],\n",
       "         [0.67031189],\n",
       "         [0.67031189],\n",
       "         [0.24138698],\n",
       "         [0.24138698],\n",
       "         [0.53838442],\n",
       "         [0.53838442],\n",
       "         [0.72909738],\n",
       "         [0.72909738],\n",
       "         [0.52181515],\n",
       "         [0.52181515],\n",
       "         [0.56503258],\n",
       "         [0.56503258],\n",
       "         [0.14707414],\n",
       "         [0.14707414],\n",
       "         [0.21447406],\n",
       "         [0.21447406],\n",
       "         [0.67431775],\n",
       "         [0.67431775],\n",
       "         [0.08397454],\n",
       "         [0.08397454],\n",
       "         [0.82642261],\n",
       "         [0.82642261],\n",
       "         [0.02395333],\n",
       "         [0.02395333],\n",
       "         [0.15988899],\n",
       "         [0.15988899],\n",
       "         [0.80779781],\n",
       "         [0.80779781],\n",
       "         [0.71599303],\n",
       "         [0.71599303],\n",
       "         [0.93549543],\n",
       "         [0.93549543],\n",
       "         [0.61541387],\n",
       "         [0.61541387],\n",
       "         [0.7458421 ],\n",
       "         [0.7458421 ],\n",
       "         [0.23940715],\n",
       "         [0.23940715],\n",
       "         [0.13669864],\n",
       "         [0.13669864],\n",
       "         [0.55437486],\n",
       "         [0.55437486],\n",
       "         [0.20909418],\n",
       "         [0.20909418],\n",
       "         [0.652506  ],\n",
       "         [0.652506  ],\n",
       "         [0.30594148],\n",
       "         [0.30594148],\n",
       "         [0.93980566],\n",
       "         [0.93980566],\n",
       "         [0.22903444],\n",
       "         [0.22903444],\n",
       "         [0.1706907 ],\n",
       "         [0.1706907 ],\n",
       "         [0.38592264],\n",
       "         [0.38592264],\n",
       "         [0.32398427],\n",
       "         [0.32398427],\n",
       "         [0.33869136],\n",
       "         [0.33869136],\n",
       "         [0.0500753 ],\n",
       "         [0.0500753 ],\n",
       "         [0.24881401],\n",
       "         [0.24881401],\n",
       "         [0.37198143],\n",
       "         [0.37198143],\n",
       "         [0.93142913],\n",
       "         [0.93142913],\n",
       "         [0.57872735],\n",
       "         [0.57872735],\n",
       "         [0.76407548],\n",
       "         [0.76407548],\n",
       "         [0.45863135],\n",
       "         [0.45863135],\n",
       "         [0.38719471],\n",
       "         [0.38719471],\n",
       "         [0.85264297],\n",
       "         [0.85264297],\n",
       "         [0.59791797],\n",
       "         [0.59791797],\n",
       "         [0.13362897],\n",
       "         [0.13362897],\n",
       "         [0.40496727],\n",
       "         [0.40496727],\n",
       "         [0.13993311],\n",
       "         [0.13993311]])}}"
      ]
     },
     "execution_count": 12,
     "metadata": {},
     "output_type": "execute_result"
    }
   ],
   "source": [
    "ds = load_by_id(run_id_a)\n",
    "ds.get_parameter_data('x1')"
   ]
  },
  {
   "cell_type": "code",
   "execution_count": null,
   "metadata": {},
   "outputs": [],
   "source": []
  }
 ],
 "metadata": {
  "kernelspec": {
   "display_name": "Python 3",
   "language": "python",
   "name": "python3"
  },
  "language_info": {
   "codemirror_mode": {
    "name": "ipython",
    "version": 3
   },
   "file_extension": ".py",
   "mimetype": "text/x-python",
   "name": "python",
   "nbconvert_exporter": "python",
   "pygments_lexer": "ipython3",
   "version": "3.7.7"
  },
  "nbsphinx": {
   "timeout": 600
  },
  "toc": {
   "base_numbering": 1,
   "nav_menu": {},
   "number_sections": true,
   "sideBar": true,
   "skip_h1_title": false,
   "title_cell": "Table of Contents",
   "title_sidebar": "Contents",
   "toc_cell": false,
   "toc_position": {},
   "toc_section_display": true,
   "toc_window_display": false
  },
  "varInspector": {
   "cols": {
    "lenName": 16,
    "lenType": 16,
    "lenVar": 40
   },
   "kernels_config": {
    "python": {
     "delete_cmd_postfix": "",
     "delete_cmd_prefix": "del ",
     "library": "var_list.py",
     "varRefreshCmd": "print(var_dic_list())"
    },
    "r": {
     "delete_cmd_postfix": ") ",
     "delete_cmd_prefix": "rm(",
     "library": "var_list.r",
     "varRefreshCmd": "cat(var_dic_list()) "
    }
   },
   "types_to_exclude": [
    "module",
    "function",
    "builtin_function_or_method",
    "instance",
    "_Feature"
   ],
   "window_display": false
  }
 },
 "nbformat": 4,
 "nbformat_minor": 2
}
