{
 "cells": [
  {
   "cell_type": "markdown",
   "metadata": {},
   "source": [
    "# DataSet Performance\n",
    "\n",
    "This notebook shows the trade-off between inserting data into a database row-by-row and as binary blobs. Inserting the data row-by-row means that we have direct access to all the data and may perform queries directly on the values of the data. On the other hand, as we shall see, this is much slower than inserting the data directly as binary blobs."
   ]
  },
  {
   "cell_type": "markdown",
   "metadata": {},
   "source": [
    "First, we choose a new location for the database to ensure that we don't add a bunch of benchmarking data to the default one."
   ]
  },
  {
   "cell_type": "code",
   "execution_count": 1,
   "metadata": {
    "execution": {
     "iopub.execute_input": "2020-09-25T15:42:27.441434Z",
     "iopub.status.busy": "2020-09-25T15:42:27.440849Z",
     "iopub.status.idle": "2020-09-25T15:42:28.485623Z",
     "shell.execute_reply": "2020-09-25T15:42:28.485141Z"
    }
   },
   "outputs": [
    {
     "name": "stdout",
     "output_type": "stream",
     "text": [
      "Logging hadn't been started.\n",
      "Activating auto-logging. Current session state plus future input saved.\n",
      "Filename       : /home/vsts/.qcodes/logs/command_history.log\n",
      "Mode           : append\n",
      "Output logging : True\n",
      "Raw input log  : False\n",
      "Timestamping   : True\n",
      "State          : active\n"
     ]
    },
    {
     "name": "stdout",
     "output_type": "stream",
     "text": [
      "Qcodes Logfile : /home/vsts/.qcodes/logs/200925-19558-qcodes.log\n"
     ]
    }
   ],
   "source": [
    "import os\n",
    "cwd = os.getcwd()\n",
    "import qcodes as qc\n",
    "qc.config[\"core\"][\"db_location\"] = os.path.join(cwd, 'testing.db')\n"
   ]
  },
  {
   "cell_type": "code",
   "execution_count": 2,
   "metadata": {
    "execution": {
     "iopub.execute_input": "2020-09-25T15:42:28.491806Z",
     "iopub.status.busy": "2020-09-25T15:42:28.491010Z",
     "iopub.status.idle": "2020-09-25T15:42:28.674179Z",
     "shell.execute_reply": "2020-09-25T15:42:28.674800Z"
    }
   },
   "outputs": [],
   "source": [
    "%matplotlib inline\n",
    "import time\n",
    "import matplotlib.pyplot as plt\n",
    "import numpy as np\n",
    "\n",
    "import qcodes as qc\n",
    "from qcodes.instrument.parameter import ManualParameter\n",
    "from qcodes.dataset.experiment_container import (Experiment,\n",
    "                                                 load_last_experiment,\n",
    "                                                 new_experiment)\n",
    "from qcodes.dataset.sqlite.database import initialise_database\n",
    "from qcodes import load_or_create_experiment\n",
    "from qcodes.dataset.measurements import Measurement"
   ]
  },
  {
   "cell_type": "code",
   "execution_count": 3,
   "metadata": {
    "execution": {
     "iopub.execute_input": "2020-09-25T15:42:28.678743Z",
     "iopub.status.busy": "2020-09-25T15:42:28.678172Z",
     "iopub.status.idle": "2020-09-25T15:42:28.801481Z",
     "shell.execute_reply": "2020-09-25T15:42:28.800865Z"
    }
   },
   "outputs": [
    {
     "name": "stdout",
     "output_type": "stream",
     "text": [
      "\r",
      "0it [00:00, ?it/s]"
     ]
    },
    {
     "name": "stdout",
     "output_type": "stream",
     "text": [
      "\r",
      "Upgrading database; v0 -> v1: : 0it [00:00, ?it/s]"
     ]
    },
    {
     "name": "stdout",
     "output_type": "stream",
     "text": [
      "\r",
      "Upgrading database; v0 -> v1: : 0it [00:00, ?it/s]"
     ]
    },
    {
     "name": "stdout",
     "output_type": "stream",
     "text": [
      "\n",
      "\r",
      "  0%|          | 0/1 [00:00<?, ?it/s]"
     ]
    },
    {
     "name": "stdout",
     "output_type": "stream",
     "text": [
      "\r",
      "Upgrading database; v1 -> v2:   0%|          | 0/1 [00:00<?, ?it/s]"
     ]
    },
    {
     "name": "stdout",
     "output_type": "stream",
     "text": [
      "\r",
      "Upgrading database; v1 -> v2: 100%|██████████| 1/1 [00:00<00:00, 405.36it/s]"
     ]
    },
    {
     "name": "stdout",
     "output_type": "stream",
     "text": [
      "\n",
      "\r",
      "0it [00:00, ?it/s]"
     ]
    },
    {
     "name": "stdout",
     "output_type": "stream",
     "text": [
      "\r",
      "Upgrading database; v2 -> v3: : 0it [00:00, ?it/s]"
     ]
    },
    {
     "name": "stdout",
     "output_type": "stream",
     "text": [
      "\r",
      "Upgrading database; v2 -> v3: : 0it [00:00, ?it/s]"
     ]
    },
    {
     "name": "stdout",
     "output_type": "stream",
     "text": [
      "\n",
      "\r",
      "0it [00:00, ?it/s]"
     ]
    },
    {
     "name": "stdout",
     "output_type": "stream",
     "text": [
      "\r",
      "Upgrading database; v3 -> v4: : 0it [00:00, ?it/s]"
     ]
    },
    {
     "name": "stdout",
     "output_type": "stream",
     "text": [
      "\r",
      "Upgrading database; v3 -> v4: : 0it [00:00, ?it/s]"
     ]
    },
    {
     "name": "stdout",
     "output_type": "stream",
     "text": [
      "\n",
      "\r",
      "  0%|          | 0/1 [00:00<?, ?it/s]"
     ]
    },
    {
     "name": "stdout",
     "output_type": "stream",
     "text": [
      "\r",
      "Upgrading database; v4 -> v5:   0%|          | 0/1 [00:00<?, ?it/s]"
     ]
    },
    {
     "name": "stdout",
     "output_type": "stream",
     "text": [
      "\r",
      "Upgrading database; v4 -> v5: 100%|██████████| 1/1 [00:00<00:00, 529.25it/s]"
     ]
    },
    {
     "name": "stdout",
     "output_type": "stream",
     "text": [
      "\n",
      "\r",
      "0it [00:00, ?it/s]"
     ]
    },
    {
     "name": "stdout",
     "output_type": "stream",
     "text": [
      "\r",
      "Upgrading database; v5 -> v6: : 0it [00:00, ?it/s]"
     ]
    },
    {
     "name": "stdout",
     "output_type": "stream",
     "text": [
      "\r",
      "Upgrading database; v5 -> v6: : 0it [00:00, ?it/s]"
     ]
    },
    {
     "name": "stdout",
     "output_type": "stream",
     "text": [
      "\n",
      "\r",
      "  0%|          | 0/1 [00:00<?, ?it/s]"
     ]
    },
    {
     "name": "stdout",
     "output_type": "stream",
     "text": [
      "\r",
      "Upgrading database; v6 -> v7:   0%|          | 0/1 [00:00<?, ?it/s]"
     ]
    },
    {
     "name": "stdout",
     "output_type": "stream",
     "text": [
      "\r",
      "Upgrading database; v6 -> v7: 100%|██████████| 1/1 [00:00<00:00, 212.11it/s]"
     ]
    },
    {
     "name": "stdout",
     "output_type": "stream",
     "text": [
      "\n",
      "\r",
      "  0%|          | 0/1 [00:00<?, ?it/s]"
     ]
    },
    {
     "name": "stdout",
     "output_type": "stream",
     "text": [
      "\r",
      "Upgrading database; v7 -> v8:   0%|          | 0/1 [00:00<?, ?it/s]"
     ]
    },
    {
     "name": "stdout",
     "output_type": "stream",
     "text": [
      "\r",
      "Upgrading database; v7 -> v8: 100%|██████████| 1/1 [00:00<00:00, 403.84it/s]"
     ]
    },
    {
     "name": "stdout",
     "output_type": "stream",
     "text": [
      "\n",
      "\r",
      "  0%|          | 0/1 [00:00<?, ?it/s]"
     ]
    },
    {
     "name": "stdout",
     "output_type": "stream",
     "text": [
      "\r",
      "Upgrading database; v8 -> v9:   0%|          | 0/1 [00:00<?, ?it/s]"
     ]
    },
    {
     "name": "stdout",
     "output_type": "stream",
     "text": [
      "\r",
      "Upgrading database; v8 -> v9: 100%|██████████| 1/1 [00:00<00:00, 361.20it/s]"
     ]
    },
    {
     "name": "stdout",
     "output_type": "stream",
     "text": [
      "\n"
     ]
    }
   ],
   "source": [
    "initialise_database()\n",
    "exp = load_or_create_experiment(experiment_name='tutorial_exp', sample_name=\"no sample\")"
   ]
  },
  {
   "cell_type": "markdown",
   "metadata": {},
   "source": [
    "Here, we define a simple function to benchmark the time it takes to insert n points with either numeric or array data type.\n",
    "We will compare both the time used to call ``add_result`` and the time used for the full measurement."
   ]
  },
  {
   "cell_type": "code",
   "execution_count": 4,
   "metadata": {
    "execution": {
     "iopub.execute_input": "2020-09-25T15:42:28.810347Z",
     "iopub.status.busy": "2020-09-25T15:42:28.809757Z",
     "iopub.status.idle": "2020-09-25T15:42:28.813035Z",
     "shell.execute_reply": "2020-09-25T15:42:28.813608Z"
    }
   },
   "outputs": [],
   "source": [
    "def insert_data(paramtype, npoints, nreps=1):\n",
    "\n",
    "    meas = Measurement(exp=exp)\n",
    "\n",
    "    x1 = ManualParameter('x1')\n",
    "    x2 = ManualParameter('x2')\n",
    "    x3 = ManualParameter('x3')\n",
    "    y1 = ManualParameter('y1')\n",
    "    y2 = ManualParameter('y2')\n",
    "\n",
    "    meas.register_parameter(x1, paramtype=paramtype)\n",
    "    meas.register_parameter(x2, paramtype=paramtype)\n",
    "    meas.register_parameter(x3, paramtype=paramtype)\n",
    "    meas.register_parameter(y1, setpoints=[x1, x2, x3],\n",
    "                            paramtype=paramtype)\n",
    "    meas.register_parameter(y2, setpoints=[x1, x2, x3],\n",
    "                            paramtype=paramtype)\n",
    "    start = time.perf_counter()\n",
    "    with meas.run() as datasaver:\n",
    "        start_adding = time.perf_counter()\n",
    "        for i in range(nreps):\n",
    "            datasaver.add_result((x1, np.random.rand(npoints)),\n",
    "                                 (x2, np.random.rand(npoints)),\n",
    "                                 (x3, np.random.rand(npoints)),\n",
    "                                 (y1, np.random.rand(npoints)),\n",
    "                                 (y2, np.random.rand(npoints)))\n",
    "        stop_adding = time.perf_counter()\n",
    "        run_id = datasaver.run_id\n",
    "    stop = time.perf_counter()\n",
    "    tot_time = stop - start\n",
    "    add_time = stop_adding - start_adding\n",
    "    return tot_time, add_time, run_id"
   ]
  },
  {
   "cell_type": "markdown",
   "metadata": {},
   "source": [
    "## Comparison between numeric/array data and binary blob"
   ]
  },
  {
   "cell_type": "markdown",
   "metadata": {},
   "source": [
    "### Case1: Short experiment time"
   ]
  },
  {
   "cell_type": "code",
   "execution_count": 5,
   "metadata": {
    "execution": {
     "iopub.execute_input": "2020-09-25T15:42:28.819983Z",
     "iopub.status.busy": "2020-09-25T15:42:28.818759Z",
     "iopub.status.idle": "2020-09-25T15:42:29.606599Z",
     "shell.execute_reply": "2020-09-25T15:42:29.605911Z"
    }
   },
   "outputs": [
    {
     "name": "stdout",
     "output_type": "stream",
     "text": [
      "Starting experimental run with id: 1. \n",
      "Starting experimental run with id: 2. \n",
      "Starting experimental run with id: 3. \n",
      "Starting experimental run with id: 4. \n",
      "Starting experimental run with id: 5. \n"
     ]
    },
    {
     "name": "stdout",
     "output_type": "stream",
     "text": [
      "Starting experimental run with id: 6. \n"
     ]
    },
    {
     "name": "stdout",
     "output_type": "stream",
     "text": [
      "Starting experimental run with id: 7. \n"
     ]
    },
    {
     "name": "stdout",
     "output_type": "stream",
     "text": [
      "Starting experimental run with id: 8. \n",
      "Starting experimental run with id: 9. \n"
     ]
    },
    {
     "name": "stdout",
     "output_type": "stream",
     "text": [
      "Starting experimental run with id: 10. \n",
      "Starting experimental run with id: 11. \n"
     ]
    },
    {
     "name": "stdout",
     "output_type": "stream",
     "text": [
      "Starting experimental run with id: 12. \n",
      "Starting experimental run with id: 13. \n"
     ]
    },
    {
     "name": "stdout",
     "output_type": "stream",
     "text": [
      "Starting experimental run with id: 14. \n"
     ]
    }
   ],
   "source": [
    "sizes = [1,500,1000,2000,3000,4000,5000]\n",
    "t_numeric = []\n",
    "t_numeric_add = []\n",
    "t_array = []\n",
    "t_array_add = []\n",
    "for size in sizes:\n",
    "    tn, tna, run_id_n =  insert_data('numeric', size)\n",
    "    t_numeric.append(tn)\n",
    "    t_numeric_add.append(tna)\n",
    "\n",
    "    ta, taa, run_id_a =  insert_data('array', size)\n",
    "    t_array.append(ta)\n",
    "    t_array_add.append(taa)"
   ]
  },
  {
   "cell_type": "code",
   "execution_count": 6,
   "metadata": {
    "execution": {
     "iopub.execute_input": "2020-09-25T15:42:29.625168Z",
     "iopub.status.busy": "2020-09-25T15:42:29.613363Z",
     "iopub.status.idle": "2020-09-25T15:42:29.857504Z",
     "shell.execute_reply": "2020-09-25T15:42:29.856997Z"
    }
   },
   "outputs": [
    {
     "data": {
      "image/png": "[encoded data removed]",
      "text/plain": [
       "<Figure size 432x288 with 1 Axes>"
      ]
     },
     "metadata": {
      "needs_background": "light"
     },
     "output_type": "display_data"
    }
   ],
   "source": [
    "fig, ax = plt.subplots(1,1)\n",
    "ax.plot(sizes, t_numeric, 'o-', label='Inserting row-by-row')\n",
    "ax.plot(sizes, t_numeric_add, 'o-', label='Inserting row-by-row: add_result only')\n",
    "ax.plot(sizes, t_array, 'd-', label='Inserting as binary blob')\n",
    "ax.plot(sizes, t_array_add, 'd-', label='Inserting as binary blob: add_result only')\n",
    "ax.legend()\n",
    "ax.set_xlabel('Array length')\n",
    "ax.set_ylabel('Time (s)')\n",
    "fig.tight_layout()"
   ]
  },
  {
   "cell_type": "markdown",
   "metadata": {},
   "source": [
    "As shown in the latter figure, the time to setup and and close the experiment is approximately 0.4 sec. In case of small array sizes, the difference between inserting values of data as arrays and inserting them row-by-row is relatively unimportant. At larger array sizes, i.e. above 10000 points, the cost of writing data as individual datapoints starts to become important.\n"
   ]
  },
  {
   "cell_type": "markdown",
   "metadata": {},
   "source": [
    "### Case2: Long experiment time "
   ]
  },
  {
   "cell_type": "code",
   "execution_count": 7,
   "metadata": {
    "execution": {
     "iopub.execute_input": "2020-09-25T15:42:29.865912Z",
     "iopub.status.busy": "2020-09-25T15:42:29.865020Z",
     "iopub.status.idle": "2020-09-25T15:43:26.403854Z",
     "shell.execute_reply": "2020-09-25T15:43:26.402834Z"
    }
   },
   "outputs": [
    {
     "name": "stdout",
     "output_type": "stream",
     "text": [
      "Starting experimental run with id: 15. \n",
      "Starting experimental run with id: 16. \n",
      "Starting experimental run with id: 17. \n"
     ]
    },
    {
     "name": "stdout",
     "output_type": "stream",
     "text": [
      "Starting experimental run with id: 18. \n",
      "Starting experimental run with id: 19. \n"
     ]
    },
    {
     "name": "stdout",
     "output_type": "stream",
     "text": [
      "Starting experimental run with id: 20. \n"
     ]
    },
    {
     "name": "stdout",
     "output_type": "stream",
     "text": [
      "Starting experimental run with id: 21. \n"
     ]
    },
    {
     "name": "stdout",
     "output_type": "stream",
     "text": [
      "Starting experimental run with id: 22. \n"
     ]
    },
    {
     "name": "stdout",
     "output_type": "stream",
     "text": [
      "Starting experimental run with id: 23. \n"
     ]
    },
    {
     "name": "stdout",
     "output_type": "stream",
     "text": [
      "Starting experimental run with id: 24. \n"
     ]
    },
    {
     "name": "stdout",
     "output_type": "stream",
     "text": [
      "Starting experimental run with id: 25. \n"
     ]
    },
    {
     "name": "stdout",
     "output_type": "stream",
     "text": [
      "Starting experimental run with id: 26. \n"
     ]
    },
    {
     "name": "stdout",
     "output_type": "stream",
     "text": [
      "Starting experimental run with id: 27. \n"
     ]
    },
    {
     "name": "stdout",
     "output_type": "stream",
     "text": [
      "Starting experimental run with id: 28. \n"
     ]
    }
   ],
   "source": [
    "sizes = [1,500,1000,2000,3000,4000,5000]\n",
    "nreps = 100\n",
    "t_numeric = []\n",
    "t_numeric_add = []\n",
    "t_numeric_run_ids = []\n",
    "t_array = []\n",
    "t_array_add = []\n",
    "t_array_run_ids = []\n",
    "for size in sizes:\n",
    "    tn, tna, run_id_n =  insert_data('numeric', size, nreps=nreps)\n",
    "    t_numeric.append(tn)\n",
    "    t_numeric_add.append(tna)\n",
    "    t_numeric_run_ids.append(run_id_n)\n",
    "\n",
    "    ta, taa, run_id_a =  insert_data('array', size, nreps=nreps)\n",
    "    t_array.append(ta)\n",
    "    t_array_add.append(taa)\n",
    "    t_array_run_ids.append(run_id_a)"
   ]
  },
  {
   "cell_type": "code",
   "execution_count": 8,
   "metadata": {
    "execution": {
     "iopub.execute_input": "2020-09-25T15:43:26.422605Z",
     "iopub.status.busy": "2020-09-25T15:43:26.421055Z",
     "iopub.status.idle": "2020-09-25T15:43:26.644769Z",
     "shell.execute_reply": "2020-09-25T15:43:26.645290Z"
    },
    "scrolled": true
   },
   "outputs": [
    {
     "data": {
      "image/png": "[encoded data removed]",
      "text/plain": [
       "<Figure size 432x288 with 1 Axes>"
      ]
     },
     "metadata": {
      "needs_background": "light"
     },
     "output_type": "display_data"
    }
   ],
   "source": [
    "fig, ax = plt.subplots(1,1)\n",
    "ax.plot(sizes, t_numeric, 'o-', label='Inserting row-by-row')\n",
    "ax.plot(sizes, t_numeric_add, 'o-', label='Inserting row-by-row: add_result only')\n",
    "ax.plot(sizes, t_array, 'd-', label='Inserting as binary blob')\n",
    "ax.plot(sizes, t_array_add, 'd-', label='Inserting as binary blob: add_result only')\n",
    "ax.legend()\n",
    "ax.set_xlabel('Array length')\n",
    "ax.set_ylabel('Time (s)')\n",
    "fig.tight_layout()"
   ]
  },
  {
   "cell_type": "markdown",
   "metadata": {},
   "source": [
    "However, as we increase the length of the experiment, as seen here by repeating the insertion 100 times, we see a big difference between inserting values of the data row-by-row and inserting it as a binary blob."
   ]
  },
  {
   "cell_type": "markdown",
   "metadata": {},
   "source": [
    "## Loading the data "
   ]
  },
  {
   "cell_type": "code",
   "execution_count": 9,
   "metadata": {
    "execution": {
     "iopub.execute_input": "2020-09-25T15:43:26.649976Z",
     "iopub.status.busy": "2020-09-25T15:43:26.649107Z",
     "iopub.status.idle": "2020-09-25T15:43:26.653205Z",
     "shell.execute_reply": "2020-09-25T15:43:26.652512Z"
    }
   },
   "outputs": [],
   "source": [
    "from qcodes.dataset.data_set import load_by_id\n",
    "from qcodes.dataset.data_export import get_data_by_id"
   ]
  },
  {
   "cell_type": "markdown",
   "metadata": {},
   "source": [
    "As usual you can load the data by using the ``load_by_id`` function but you will notice that the different storage methods\n",
    "are reflected in shape of the data as it is retrieved. "
   ]
  },
  {
   "cell_type": "code",
   "execution_count": 10,
   "metadata": {
    "execution": {
     "iopub.execute_input": "2020-09-25T15:43:26.659563Z",
     "iopub.status.busy": "2020-09-25T15:43:26.656775Z",
     "iopub.status.idle": "2020-09-25T15:43:26.660157Z",
     "shell.execute_reply": "2020-09-25T15:43:26.660800Z"
    }
   },
   "outputs": [],
   "source": [
    "run_id_n = t_numeric_run_ids[0]\n",
    "run_id_a = t_array_run_ids[0]"
   ]
  },
  {
   "cell_type": "code",
   "execution_count": 11,
   "metadata": {
    "execution": {
     "iopub.execute_input": "2020-09-25T15:43:26.664576Z",
     "iopub.status.busy": "2020-09-25T15:43:26.664002Z",
     "iopub.status.idle": "2020-09-25T15:43:26.675007Z",
     "shell.execute_reply": "2020-09-25T15:43:26.674360Z"
    },
    "scrolled": true
   },
   "outputs": [
    {
     "data": {
      "text/plain": [
       "{'x1': {'x1': array([0.18055251, 0.18055251, 0.96358034, 0.96358034, 0.65616239,\n",
       "         0.65616239, 0.49629525, 0.49629525, 0.22298415, 0.22298415,\n",
       "         0.90936955, 0.90936955, 0.15597687, 0.15597687, 0.88195224,\n",
       "         0.88195224, 0.68717433, 0.68717433, 0.94767948, 0.94767948,\n",
       "         0.41385837, 0.41385837, 0.90810395, 0.90810395, 0.26960995,\n",
       "         0.26960995, 0.15077386, 0.15077386, 0.87062145, 0.87062145,\n",
       "         0.1983289 , 0.1983289 , 0.24124376, 0.24124376, 0.73009038,\n",
       "         0.73009038, 0.41868465, 0.41868465, 0.41844906, 0.41844906,\n",
       "         0.16052837, 0.16052837, 0.57978149, 0.57978149, 0.87281788,\n",
       "         0.87281788, 0.31531273, 0.31531273, 0.62443079, 0.62443079,\n",
       "         0.85829051, 0.85829051, 0.16875614, 0.16875614, 0.06726573,\n",
       "         0.06726573, 0.39729758, 0.39729758, 0.45449304, 0.45449304,\n",
       "         0.4322428 , 0.4322428 , 0.5337066 , 0.5337066 , 0.74107093,\n",
       "         0.74107093, 0.46378215, 0.46378215, 0.67108413, 0.67108413,\n",
       "         0.26459634, 0.26459634, 0.25339539, 0.25339539, 0.46794754,\n",
       "         0.46794754, 0.18487622, 0.18487622, 0.66293543, 0.66293543,\n",
       "         0.82021166, 0.82021166, 0.25629046, 0.25629046, 0.47226075,\n",
       "         0.47226075, 0.29779755, 0.29779755, 0.78579623, 0.78579623,\n",
       "         0.43358102, 0.43358102, 0.86239026, 0.86239026, 0.0476478 ,\n",
       "         0.0476478 , 0.82608702, 0.82608702, 0.09965237, 0.09965237,\n",
       "         0.92475304, 0.92475304, 0.19467611, 0.19467611, 0.84820384,\n",
       "         0.84820384, 0.56412479, 0.56412479, 0.83221301, 0.83221301,\n",
       "         0.25878282, 0.25878282, 0.23664121, 0.23664121, 0.82671667,\n",
       "         0.82671667, 0.90629708, 0.90629708, 0.60146369, 0.60146369,\n",
       "         0.88862183, 0.88862183, 0.16780491, 0.16780491, 0.06412372,\n",
       "         0.06412372, 0.02198544, 0.02198544, 0.4922252 , 0.4922252 ,\n",
       "         0.48757739, 0.48757739, 0.55663222, 0.55663222, 0.99121643,\n",
       "         0.99121643, 0.58959975, 0.58959975, 0.34401461, 0.34401461,\n",
       "         0.48917446, 0.48917446, 0.70244095, 0.70244095, 0.56649027,\n",
       "         0.56649027, 0.27721374, 0.27721374, 0.34979093, 0.34979093,\n",
       "         0.81552872, 0.81552872, 0.81460295, 0.81460295, 0.23526326,\n",
       "         0.23526326, 0.18235438, 0.18235438, 0.98548408, 0.98548408,\n",
       "         0.98171531, 0.98171531, 0.12984928, 0.12984928, 0.28416219,\n",
       "         0.28416219, 0.23723223, 0.23723223, 0.7964088 , 0.7964088 ,\n",
       "         0.89593821, 0.89593821, 0.95199747, 0.95199747, 0.76795274,\n",
       "         0.76795274, 0.4811226 , 0.4811226 , 0.16996013, 0.16996013,\n",
       "         0.45128598, 0.45128598, 0.47147227, 0.47147227, 0.30874699,\n",
       "         0.30874699, 0.18025887, 0.18025887, 0.58765458, 0.58765458,\n",
       "         0.44619451, 0.44619451, 0.46836845, 0.46836845, 0.44261166,\n",
       "         0.44261166, 0.20437856, 0.20437856, 0.56664672, 0.56664672])}}"
      ]
     },
     "execution_count": 1,
     "metadata": {},
     "output_type": "execute_result"
    }
   ],
   "source": [
    "ds = load_by_id(run_id_n)\n",
    "ds.get_parameter_data('x1')"
   ]
  },
  {
   "cell_type": "markdown",
   "metadata": {},
   "source": [
    "And a dataset stored as binary arrays"
   ]
  },
  {
   "cell_type": "code",
   "execution_count": 12,
   "metadata": {
    "execution": {
     "iopub.execute_input": "2020-09-25T15:43:26.678569Z",
     "iopub.status.busy": "2020-09-25T15:43:26.678000Z",
     "iopub.status.idle": "2020-09-25T15:43:26.736375Z",
     "shell.execute_reply": "2020-09-25T15:43:26.735839Z"
    },
    "scrolled": true
   },
   "outputs": [
    {
     "data": {
      "text/plain": [
       "{'x1': {'x1': array([[0.50766515],\n",
       "         [0.50766515],\n",
       "         [0.39271191],\n",
       "         [0.39271191],\n",
       "         [0.64977361],\n",
       "         [0.64977361],\n",
       "         [0.77208416],\n",
       "         [0.77208416],\n",
       "         [0.48764286],\n",
       "         [0.48764286],\n",
       "         [0.68426777],\n",
       "         [0.68426777],\n",
       "         [0.42144391],\n",
       "         [0.42144391],\n",
       "         [0.58152571],\n",
       "         [0.58152571],\n",
       "         [0.15185491],\n",
       "         [0.15185491],\n",
       "         [0.66695132],\n",
       "         [0.66695132],\n",
       "         [0.68281785],\n",
       "         [0.68281785],\n",
       "         [0.59148958],\n",
       "         [0.59148958],\n",
       "         [0.06124253],\n",
       "         [0.06124253],\n",
       "         [0.4859407 ],\n",
       "         [0.4859407 ],\n",
       "         [0.49810395],\n",
       "         [0.49810395],\n",
       "         [0.16905364],\n",
       "         [0.16905364],\n",
       "         [0.98111075],\n",
       "         [0.98111075],\n",
       "         [0.4717056 ],\n",
       "         [0.4717056 ],\n",
       "         [0.19656345],\n",
       "         [0.19656345],\n",
       "         [0.88022697],\n",
       "         [0.88022697],\n",
       "         [0.36179382],\n",
       "         [0.36179382],\n",
       "         [0.40314916],\n",
       "         [0.40314916],\n",
       "         [0.10965609],\n",
       "         [0.10965609],\n",
       "         [0.27042044],\n",
       "         [0.27042044],\n",
       "         [0.39005684],\n",
       "         [0.39005684],\n",
       "         [0.21275076],\n",
       "         [0.21275076],\n",
       "         [0.77785297],\n",
       "         [0.77785297],\n",
       "         [0.64161575],\n",
       "         [0.64161575],\n",
       "         [0.96143029],\n",
       "         [0.96143029],\n",
       "         [0.12911548],\n",
       "         [0.12911548],\n",
       "         [0.1561335 ],\n",
       "         [0.1561335 ],\n",
       "         [0.12486482],\n",
       "         [0.12486482],\n",
       "         [0.27250617],\n",
       "         [0.27250617],\n",
       "         [0.89683753],\n",
       "         [0.89683753],\n",
       "         [0.15274783],\n",
       "         [0.15274783],\n",
       "         [0.50956736],\n",
       "         [0.50956736],\n",
       "         [0.2479731 ],\n",
       "         [0.2479731 ],\n",
       "         [0.21111723],\n",
       "         [0.21111723],\n",
       "         [0.40484831],\n",
       "         [0.40484831],\n",
       "         [0.78783264],\n",
       "         [0.78783264],\n",
       "         [0.90940704],\n",
       "         [0.90940704],\n",
       "         [0.94014023],\n",
       "         [0.94014023],\n",
       "         [0.40100031],\n",
       "         [0.40100031],\n",
       "         [0.83996611],\n",
       "         [0.83996611],\n",
       "         [0.50479031],\n",
       "         [0.50479031],\n",
       "         [0.2451122 ],\n",
       "         [0.2451122 ],\n",
       "         [0.56600075],\n",
       "         [0.56600075],\n",
       "         [0.00377214],\n",
       "         [0.00377214],\n",
       "         [0.35937231],\n",
       "         [0.35937231],\n",
       "         [0.15636747],\n",
       "         [0.15636747],\n",
       "         [0.74212971],\n",
       "         [0.74212971],\n",
       "         [0.79878253],\n",
       "         [0.79878253],\n",
       "         [0.54635817],\n",
       "         [0.54635817],\n",
       "         [0.80218784],\n",
       "         [0.80218784],\n",
       "         [0.37608852],\n",
       "         [0.37608852],\n",
       "         [0.81204675],\n",
       "         [0.81204675],\n",
       "         [0.84860414],\n",
       "         [0.84860414],\n",
       "         [0.45132377],\n",
       "         [0.45132377],\n",
       "         [0.63064048],\n",
       "         [0.63064048],\n",
       "         [0.98691086],\n",
       "         [0.98691086],\n",
       "         [0.26765808],\n",
       "         [0.26765808],\n",
       "         [0.466927  ],\n",
       "         [0.466927  ],\n",
       "         [0.584585  ],\n",
       "         [0.584585  ],\n",
       "         [0.68807299],\n",
       "         [0.68807299],\n",
       "         [0.55673419],\n",
       "         [0.55673419],\n",
       "         [0.69206909],\n",
       "         [0.69206909],\n",
       "         [0.69829165],\n",
       "         [0.69829165],\n",
       "         [0.29237633],\n",
       "         [0.29237633],\n",
       "         [0.30033191],\n",
       "         [0.30033191],\n",
       "         [0.93461552],\n",
       "         [0.93461552],\n",
       "         [0.28669287],\n",
       "         [0.28669287],\n",
       "         [0.40156753],\n",
       "         [0.40156753],\n",
       "         [0.33158611],\n",
       "         [0.33158611],\n",
       "         [0.29955184],\n",
       "         [0.29955184],\n",
       "         [0.63412431],\n",
       "         [0.63412431],\n",
       "         [0.22030771],\n",
       "         [0.22030771],\n",
       "         [0.03425995],\n",
       "         [0.03425995],\n",
       "         [0.70680215],\n",
       "         [0.70680215],\n",
       "         [0.73615857],\n",
       "         [0.73615857],\n",
       "         [0.1087093 ],\n",
       "         [0.1087093 ],\n",
       "         [0.34478535],\n",
       "         [0.34478535],\n",
       "         [0.75154378],\n",
       "         [0.75154378],\n",
       "         [0.821935  ],\n",
       "         [0.821935  ],\n",
       "         [0.99826563],\n",
       "         [0.99826563],\n",
       "         [0.56152383],\n",
       "         [0.56152383],\n",
       "         [0.67236177],\n",
       "         [0.67236177],\n",
       "         [0.78535928],\n",
       "         [0.78535928],\n",
       "         [0.5730164 ],\n",
       "         [0.5730164 ],\n",
       "         [0.28877194],\n",
       "         [0.28877194],\n",
       "         [0.91032519],\n",
       "         [0.91032519],\n",
       "         [0.7512708 ],\n",
       "         [0.7512708 ],\n",
       "         [0.62649521],\n",
       "         [0.62649521],\n",
       "         [0.19358327],\n",
       "         [0.19358327],\n",
       "         [0.85627124],\n",
       "         [0.85627124],\n",
       "         [0.75358082],\n",
       "         [0.75358082],\n",
       "         [0.70066234],\n",
       "         [0.70066234],\n",
       "         [0.1750306 ],\n",
       "         [0.1750306 ],\n",
       "         [0.6184945 ],\n",
       "         [0.6184945 ],\n",
       "         [0.72399533],\n",
       "         [0.72399533],\n",
       "         [0.34408942],\n",
       "         [0.34408942]])}}"
      ]
     },
     "execution_count": 1,
     "metadata": {},
     "output_type": "execute_result"
    }
   ],
   "source": [
    "ds = load_by_id(run_id_a)\n",
    "ds.get_parameter_data('x1')"
   ]
  },
  {
   "cell_type": "code",
   "execution_count": null,
   "metadata": {},
   "outputs": [],
   "source": []
  }
 ],
 "metadata": {
  "kernelspec": {
   "display_name": "Python 3",
   "language": "python",
   "name": "python3"
  },
  "language_info": {
   "codemirror_mode": {
    "name": "ipython",
    "version": 3
   },
   "file_extension": ".py",
   "mimetype": "text/x-python",
   "name": "python",
   "nbconvert_exporter": "python",
   "pygments_lexer": "ipython3",
   "version": "3.7.7"
  },
  "nbsphinx": {
   "timeout": 600
  },
  "toc": {
   "base_numbering": 1,
   "nav_menu": {},
   "number_sections": true,
   "sideBar": true,
   "skip_h1_title": false,
   "title_cell": "Table of Contents",
   "title_sidebar": "Contents",
   "toc_cell": false,
   "toc_position": {},
   "toc_section_display": true,
   "toc_window_display": false
  },
  "varInspector": {
   "cols": {
    "lenName": 16,
    "lenType": 16,
    "lenVar": 40
   },
   "kernels_config": {
    "python": {
     "delete_cmd_postfix": "",
     "delete_cmd_prefix": "del ",
     "library": "var_list.py",
     "varRefreshCmd": "print(var_dic_list())"
    },
    "r": {
     "delete_cmd_postfix": ") ",
     "delete_cmd_prefix": "rm(",
     "library": "var_list.r",
     "varRefreshCmd": "cat(var_dic_list()) "
    }
   },
   "types_to_exclude": [
    "module",
    "function",
    "builtin_function_or_method",
    "instance",
    "_Feature"
   ],
   "window_display": false
  }
 },
 "nbformat": 4,
 "nbformat_minor": 2
}
