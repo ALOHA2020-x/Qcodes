{
 "cells": [
  {
   "cell_type": "markdown",
   "execution_count": 1,
   "metadata": {},
   "source": [
    "# DataSet Performance\n",
    "\n",
    "This notebook shows the trade-off between inserting data into a database row-by-row and as binary blobs. Inserting the data row-by-row means that we have direct access to all the data and may perform queries directly on the values of the data. On the other hand, as we shall see, this is much slower than inserting the data directly as binary blobs."
   ]
  },
  {
   "cell_type": "markdown",
   "execution_count": 1,
   "metadata": {},
   "source": [
    "First, we choose a new location for the database to ensure that we don't add a bunch of benchmarking data to the default one."
   ]
  },
  {
   "cell_type": "code",
   "execution_count": 1,
   "metadata": {
    "execution": {
     "iopub.execute_input": "2020-09-14T08:52:50.263246Z",
     "iopub.status.busy": "2020-09-14T08:52:50.262759Z",
     "iopub.status.idle": "2020-09-14T08:52:51.353875Z",
     "shell.execute_reply": "2020-09-14T08:52:51.354310Z"
    }
   },
   "outputs": [
    {
     "name": "stdout",
     "output_type": "stream",
     "text": [
      "Logging hadn't been started.\n",
      "Activating auto-logging. Current session state plus future input saved.\n",
      "Filename       : /home/vsts/.qcodes/logs/command_history.log\n",
      "Mode           : append\n",
      "Output logging : True\n",
      "Raw input log  : False\n",
      "Timestamping   : True\n",
      "State          : active\n"
     ]
    },
    {
     "name": "stdout",
     "output_type": "stream",
     "text": [
      "Qcodes Logfile : /home/vsts/.qcodes/logs/200914-18595-qcodes.log\n"
     ]
    }
   ],
   "source": [
    "import os\n",
    "cwd = os.getcwd()\n",
    "import qcodes as qc\n",
    "qc.config[\"core\"][\"db_location\"] = os.path.join(cwd, 'testing.db')\n"
   ]
  },
  {
   "cell_type": "code",
   "execution_count": 2,
   "metadata": {
    "execution": {
     "iopub.execute_input": "2020-09-14T08:52:51.361397Z",
     "iopub.status.busy": "2020-09-14T08:52:51.360331Z",
     "iopub.status.idle": "2020-09-14T08:52:51.544458Z",
     "shell.execute_reply": "2020-09-14T08:52:51.543392Z"
    }
   },
   "outputs": [],
   "source": [
    "%matplotlib inline\n",
    "import time\n",
    "import matplotlib.pyplot as plt\n",
    "import numpy as np\n",
    "\n",
    "import qcodes as qc\n",
    "from qcodes.instrument.parameter import ManualParameter\n",
    "from qcodes.dataset.experiment_container import (Experiment,\n",
    "                                                 load_last_experiment,\n",
    "                                                 new_experiment)\n",
    "from qcodes.dataset.sqlite.database import initialise_database\n",
    "from qcodes import load_or_create_experiment\n",
    "from qcodes.dataset.measurements import Measurement"
   ]
  },
  {
   "cell_type": "code",
   "execution_count": 3,
   "metadata": {
    "execution": {
     "iopub.execute_input": "2020-09-14T08:52:51.549062Z",
     "iopub.status.busy": "2020-09-14T08:52:51.548332Z",
     "iopub.status.idle": "2020-09-14T08:52:51.624935Z",
     "shell.execute_reply": "2020-09-14T08:52:51.624356Z"
    }
   },
   "outputs": [
    {
     "name": "stdout",
     "output_type": "stream",
     "text": [
      "\r",
      "0it [00:00, ?it/s]"
     ]
    },
    {
     "name": "stdout",
     "output_type": "stream",
     "text": [
      "\r",
      "Upgrading database; v0 -> v1: : 0it [00:00, ?it/s]"
     ]
    },
    {
     "name": "stdout",
     "output_type": "stream",
     "text": [
      "\r",
      "Upgrading database; v0 -> v1: : 0it [00:00, ?it/s]"
     ]
    },
    {
     "name": "stdout",
     "output_type": "stream",
     "text": [
      "\n",
      "\r",
      "  0%|          | 0/1 [00:00<?, ?it/s]"
     ]
    },
    {
     "name": "stdout",
     "output_type": "stream",
     "text": [
      "\r",
      "Upgrading database; v1 -> v2:   0%|          | 0/1 [00:00<?, ?it/s]"
     ]
    },
    {
     "name": "stdout",
     "output_type": "stream",
     "text": [
      "\r",
      "Upgrading database; v1 -> v2: 100%|██████████| 1/1 [00:00<00:00, 444.50it/s]"
     ]
    },
    {
     "name": "stdout",
     "output_type": "stream",
     "text": [
      "\n",
      "\r",
      "0it [00:00, ?it/s]"
     ]
    },
    {
     "name": "stdout",
     "output_type": "stream",
     "text": [
      "\r",
      "Upgrading database; v2 -> v3: : 0it [00:00, ?it/s]"
     ]
    },
    {
     "name": "stdout",
     "output_type": "stream",
     "text": [
      "\r",
      "Upgrading database; v2 -> v3: : 0it [00:00, ?it/s]"
     ]
    },
    {
     "name": "stdout",
     "output_type": "stream",
     "text": [
      "\n",
      "\r",
      "0it [00:00, ?it/s]"
     ]
    },
    {
     "name": "stdout",
     "output_type": "stream",
     "text": [
      "\r",
      "Upgrading database; v3 -> v4: : 0it [00:00, ?it/s]"
     ]
    },
    {
     "name": "stdout",
     "output_type": "stream",
     "text": [
      "\r",
      "Upgrading database; v3 -> v4: : 0it [00:00, ?it/s]"
     ]
    },
    {
     "name": "stdout",
     "output_type": "stream",
     "text": [
      "\n",
      "\r",
      "  0%|          | 0/1 [00:00<?, ?it/s]"
     ]
    },
    {
     "name": "stdout",
     "output_type": "stream",
     "text": [
      "\r",
      "Upgrading database; v4 -> v5:   0%|          | 0/1 [00:00<?, ?it/s]"
     ]
    },
    {
     "name": "stdout",
     "output_type": "stream",
     "text": [
      "\r",
      "Upgrading database; v4 -> v5: 100%|██████████| 1/1 [00:00<00:00, 759.70it/s]"
     ]
    },
    {
     "name": "stdout",
     "output_type": "stream",
     "text": [
      "\n",
      "\r",
      "0it [00:00, ?it/s]"
     ]
    },
    {
     "name": "stdout",
     "output_type": "stream",
     "text": [
      "\r",
      "Upgrading database; v5 -> v6: : 0it [00:00, ?it/s]"
     ]
    },
    {
     "name": "stdout",
     "output_type": "stream",
     "text": [
      "\r",
      "Upgrading database; v5 -> v6: : 0it [00:00, ?it/s]"
     ]
    },
    {
     "name": "stdout",
     "output_type": "stream",
     "text": [
      "\n",
      "\r",
      "  0%|          | 0/1 [00:00<?, ?it/s]"
     ]
    },
    {
     "name": "stdout",
     "output_type": "stream",
     "text": [
      "\r",
      "Upgrading database; v6 -> v7:   0%|          | 0/1 [00:00<?, ?it/s]"
     ]
    },
    {
     "name": "stdout",
     "output_type": "stream",
     "text": [
      "\r",
      "Upgrading database; v6 -> v7: 100%|██████████| 1/1 [00:00<00:00, 320.15it/s]"
     ]
    },
    {
     "name": "stdout",
     "output_type": "stream",
     "text": [
      "\n",
      "\r",
      "  0%|          | 0/1 [00:00<?, ?it/s]"
     ]
    },
    {
     "name": "stdout",
     "output_type": "stream",
     "text": [
      "\r",
      "Upgrading database; v7 -> v8:   0%|          | 0/1 [00:00<?, ?it/s]"
     ]
    },
    {
     "name": "stdout",
     "output_type": "stream",
     "text": [
      "\r",
      "Upgrading database; v7 -> v8: 100%|██████████| 1/1 [00:00<00:00, 404.82it/s]"
     ]
    },
    {
     "name": "stdout",
     "output_type": "stream",
     "text": [
      "\n",
      "\r",
      "  0%|          | 0/1 [00:00<?, ?it/s]"
     ]
    },
    {
     "name": "stdout",
     "output_type": "stream",
     "text": [
      "\r",
      "Upgrading database; v8 -> v9:   0%|          | 0/1 [00:00<?, ?it/s]"
     ]
    },
    {
     "name": "stdout",
     "output_type": "stream",
     "text": [
      "\r",
      "Upgrading database; v8 -> v9: 100%|██████████| 1/1 [00:00<00:00, 468.74it/s]"
     ]
    },
    {
     "name": "stdout",
     "output_type": "stream",
     "text": [
      "\n"
     ]
    }
   ],
   "source": [
    "initialise_database()\n",
    "exp = load_or_create_experiment(experiment_name='tutorial_exp', sample_name=\"no sample\")"
   ]
  },
  {
   "cell_type": "markdown",
   "execution_count": 4,
   "metadata": {},
   "source": [
    "Here, we define a simple function to benchmark the time it takes to insert n points with either numeric or array data type.\n",
    "We will compare both the time used to call ``add_result`` and the time used for the full measurement."
   ]
  },
  {
   "cell_type": "code",
   "execution_count": 4,
   "metadata": {
    "execution": {
     "iopub.execute_input": "2020-09-14T08:52:51.633420Z",
     "iopub.status.busy": "2020-09-14T08:52:51.631883Z",
     "iopub.status.idle": "2020-09-14T08:52:51.635848Z",
     "shell.execute_reply": "2020-09-14T08:52:51.635385Z"
    }
   },
   "outputs": [],
   "source": [
    "def insert_data(paramtype, npoints, nreps=1):\n",
    "\n",
    "    meas = Measurement(exp=exp)\n",
    "\n",
    "    x1 = ManualParameter('x1')\n",
    "    x2 = ManualParameter('x2')\n",
    "    x3 = ManualParameter('x3')\n",
    "    y1 = ManualParameter('y1')\n",
    "    y2 = ManualParameter('y2')\n",
    "\n",
    "    meas.register_parameter(x1, paramtype=paramtype)\n",
    "    meas.register_parameter(x2, paramtype=paramtype)\n",
    "    meas.register_parameter(x3, paramtype=paramtype)\n",
    "    meas.register_parameter(y1, setpoints=[x1, x2, x3],\n",
    "                            paramtype=paramtype)\n",
    "    meas.register_parameter(y2, setpoints=[x1, x2, x3],\n",
    "                            paramtype=paramtype)\n",
    "    start = time.perf_counter()\n",
    "    with meas.run() as datasaver:\n",
    "        start_adding = time.perf_counter()\n",
    "        for i in range(nreps):\n",
    "            datasaver.add_result((x1, np.random.rand(npoints)),\n",
    "                                 (x2, np.random.rand(npoints)),\n",
    "                                 (x3, np.random.rand(npoints)),\n",
    "                                 (y1, np.random.rand(npoints)),\n",
    "                                 (y2, np.random.rand(npoints)))\n",
    "        stop_adding = time.perf_counter()\n",
    "        run_id = datasaver.run_id\n",
    "    stop = time.perf_counter()\n",
    "    tot_time = stop - start\n",
    "    add_time = stop_adding - start_adding\n",
    "    return tot_time, add_time, run_id"
   ]
  },
  {
   "cell_type": "markdown",
   "execution_count": 5,
   "metadata": {},
   "source": [
    "## Comparison between numeric/array data and binary blob"
   ]
  },
  {
   "cell_type": "markdown",
   "execution_count": 5,
   "metadata": {},
   "source": [
    "### Case1: Short experiment time"
   ]
  },
  {
   "cell_type": "code",
   "execution_count": 5,
   "metadata": {
    "execution": {
     "iopub.execute_input": "2020-09-14T08:52:51.642858Z",
     "iopub.status.busy": "2020-09-14T08:52:51.642294Z",
     "iopub.status.idle": "2020-09-14T08:52:52.581121Z",
     "shell.execute_reply": "2020-09-14T08:52:52.580523Z"
    }
   },
   "outputs": [
    {
     "name": "stdout",
     "output_type": "stream",
     "text": [
      "Starting experimental run with id: 1. \n",
      "Starting experimental run with id: 2. \n",
      "Starting experimental run with id: 3. \n"
     ]
    },
    {
     "name": "stdout",
     "output_type": "stream",
     "text": [
      "Starting experimental run with id: 4. \n"
     ]
    },
    {
     "name": "stdout",
     "output_type": "stream",
     "text": [
      "Starting experimental run with id: 5. \n"
     ]
    },
    {
     "name": "stdout",
     "output_type": "stream",
     "text": [
      "Starting experimental run with id: 6. \n"
     ]
    },
    {
     "name": "stdout",
     "output_type": "stream",
     "text": [
      "Starting experimental run with id: 7. \n",
      "Starting experimental run with id: 8. \n"
     ]
    },
    {
     "name": "stdout",
     "output_type": "stream",
     "text": [
      "Starting experimental run with id: 9. \n"
     ]
    },
    {
     "name": "stdout",
     "output_type": "stream",
     "text": [
      "Starting experimental run with id: 10. \n",
      "Starting experimental run with id: 11. \n"
     ]
    },
    {
     "name": "stdout",
     "output_type": "stream",
     "text": [
      "Starting experimental run with id: 12. \n"
     ]
    },
    {
     "name": "stdout",
     "output_type": "stream",
     "text": [
      "Starting experimental run with id: 13. \n"
     ]
    },
    {
     "name": "stdout",
     "output_type": "stream",
     "text": [
      "Starting experimental run with id: 14. \n"
     ]
    }
   ],
   "source": [
    "sizes = [1,500,1000,2000,3000,4000,5000]\n",
    "t_numeric = []\n",
    "t_numeric_add = []\n",
    "t_array = []\n",
    "t_array_add = []\n",
    "for size in sizes:\n",
    "    tn, tna, run_id_n =  insert_data('numeric', size)\n",
    "    t_numeric.append(tn)\n",
    "    t_numeric_add.append(tna)\n",
    "\n",
    "    ta, taa, run_id_a =  insert_data('array', size)\n",
    "    t_array.append(ta)\n",
    "    t_array_add.append(taa)"
   ]
  },
  {
   "cell_type": "code",
   "execution_count": 6,
   "metadata": {
    "execution": {
     "iopub.execute_input": "2020-09-14T08:52:52.587003Z",
     "iopub.status.busy": "2020-09-14T08:52:52.586186Z",
     "iopub.status.idle": "2020-09-14T08:52:52.791772Z",
     "shell.execute_reply": "2020-09-14T08:52:52.792284Z"
    }
   },
   "outputs": [
    {
     "data": {
      "image/png": "[encoded data removed]",
      "text/plain": [
       "<Figure size 432x288 with 1 Axes>"
      ]
     },
     "metadata": {
      "needs_background": "light"
     },
     "output_type": "display_data"
    }
   ],
   "source": [
    "fig, ax = plt.subplots(1,1)\n",
    "ax.plot(sizes, t_numeric, 'o-', label='Inserting row-by-row')\n",
    "ax.plot(sizes, t_numeric_add, 'o-', label='Inserting row-by-row: add_result only')\n",
    "ax.plot(sizes, t_array, 'd-', label='Inserting as binary blob')\n",
    "ax.plot(sizes, t_array_add, 'd-', label='Inserting as binary blob: add_result only')\n",
    "ax.legend()\n",
    "ax.set_xlabel('Array length')\n",
    "ax.set_ylabel('Time (s)')\n",
    "fig.tight_layout()"
   ]
  },
  {
   "cell_type": "markdown",
   "execution_count": 7,
   "metadata": {},
   "source": [
    "As shown in the latter figure, the time to setup and and close the experiment is approximately 0.4 sec. In case of small array sizes, the difference between inserting values of data as arrays and inserting them row-by-row is relatively unimportant. At larger array sizes, i.e. above 10000 points, the cost of writing data as individual datapoints starts to become important.\n"
   ]
  },
  {
   "cell_type": "markdown",
   "execution_count": 7,
   "metadata": {},
   "source": [
    "### Case2: Long experiment time "
   ]
  },
  {
   "cell_type": "code",
   "execution_count": 7,
   "metadata": {
    "execution": {
     "iopub.execute_input": "2020-09-14T08:52:52.800732Z",
     "iopub.status.busy": "2020-09-14T08:52:52.799716Z",
     "iopub.status.idle": "2020-09-14T08:53:53.100748Z",
     "shell.execute_reply": "2020-09-14T08:53:53.101879Z"
    }
   },
   "outputs": [
    {
     "name": "stdout",
     "output_type": "stream",
     "text": [
      "Starting experimental run with id: 15. \n",
      "Starting experimental run with id: 16. \n",
      "Starting experimental run with id: 17. \n"
     ]
    },
    {
     "name": "stdout",
     "output_type": "stream",
     "text": [
      "Starting experimental run with id: 18. \n",
      "Starting experimental run with id: 19. \n"
     ]
    },
    {
     "name": "stdout",
     "output_type": "stream",
     "text": [
      "Starting experimental run with id: 20. \n"
     ]
    },
    {
     "name": "stdout",
     "output_type": "stream",
     "text": [
      "Starting experimental run with id: 21. \n"
     ]
    },
    {
     "name": "stdout",
     "output_type": "stream",
     "text": [
      "Starting experimental run with id: 22. \n"
     ]
    },
    {
     "name": "stdout",
     "output_type": "stream",
     "text": [
      "Starting experimental run with id: 23. \n"
     ]
    },
    {
     "name": "stdout",
     "output_type": "stream",
     "text": [
      "Starting experimental run with id: 24. \n"
     ]
    },
    {
     "name": "stdout",
     "output_type": "stream",
     "text": [
      "Starting experimental run with id: 25. \n"
     ]
    },
    {
     "name": "stdout",
     "output_type": "stream",
     "text": [
      "Starting experimental run with id: 26. \n"
     ]
    },
    {
     "name": "stdout",
     "output_type": "stream",
     "text": [
      "Starting experimental run with id: 27. \n"
     ]
    },
    {
     "name": "stdout",
     "output_type": "stream",
     "text": [
      "Starting experimental run with id: 28. \n"
     ]
    }
   ],
   "source": [
    "sizes = [1,500,1000,2000,3000,4000,5000]\n",
    "nreps = 100\n",
    "t_numeric = []\n",
    "t_numeric_add = []\n",
    "t_numeric_run_ids = []\n",
    "t_array = []\n",
    "t_array_add = []\n",
    "t_array_run_ids = []\n",
    "for size in sizes:\n",
    "    tn, tna, run_id_n =  insert_data('numeric', size, nreps=nreps)\n",
    "    t_numeric.append(tn)\n",
    "    t_numeric_add.append(tna)\n",
    "    t_numeric_run_ids.append(run_id_n)\n",
    "\n",
    "    ta, taa, run_id_a =  insert_data('array', size, nreps=nreps)\n",
    "    t_array.append(ta)\n",
    "    t_array_add.append(taa)\n",
    "    t_array_run_ids.append(run_id_a)"
   ]
  },
  {
   "cell_type": "code",
   "execution_count": 8,
   "metadata": {
    "execution": {
     "iopub.execute_input": "2020-09-14T08:53:53.107717Z",
     "iopub.status.busy": "2020-09-14T08:53:53.107080Z",
     "iopub.status.idle": "2020-09-14T08:53:53.311620Z",
     "shell.execute_reply": "2020-09-14T08:53:53.311006Z"
    },
    "scrolled": true
   },
   "outputs": [
    {
     "data": {
      "image/png": "[encoded data removed]",
      "text/plain": [
       "<Figure size 432x288 with 1 Axes>"
      ]
     },
     "metadata": {
      "needs_background": "light"
     },
     "output_type": "display_data"
    }
   ],
   "source": [
    "fig, ax = plt.subplots(1,1)\n",
    "ax.plot(sizes, t_numeric, 'o-', label='Inserting row-by-row')\n",
    "ax.plot(sizes, t_numeric_add, 'o-', label='Inserting row-by-row: add_result only')\n",
    "ax.plot(sizes, t_array, 'd-', label='Inserting as binary blob')\n",
    "ax.plot(sizes, t_array_add, 'd-', label='Inserting as binary blob: add_result only')\n",
    "ax.legend()\n",
    "ax.set_xlabel('Array length')\n",
    "ax.set_ylabel('Time (s)')\n",
    "fig.tight_layout()"
   ]
  },
  {
   "cell_type": "markdown",
   "execution_count": 9,
   "metadata": {},
   "source": [
    "However, as we increase the length of the experiment, as seen here by repeating the insertion 100 times, we see a big difference between inserting values of the data row-by-row and inserting it as a binary blob."
   ]
  },
  {
   "cell_type": "markdown",
   "execution_count": 9,
   "metadata": {},
   "source": [
    "## Loading the data "
   ]
  },
  {
   "cell_type": "code",
   "execution_count": 9,
   "metadata": {
    "execution": {
     "iopub.execute_input": "2020-09-14T08:53:53.316390Z",
     "iopub.status.busy": "2020-09-14T08:53:53.315296Z",
     "iopub.status.idle": "2020-09-14T08:53:53.318243Z",
     "shell.execute_reply": "2020-09-14T08:53:53.318696Z"
    }
   },
   "outputs": [],
   "source": [
    "from qcodes.dataset.data_set import load_by_id\n",
    "from qcodes.dataset.data_export import get_data_by_id"
   ]
  },
  {
   "cell_type": "markdown",
   "execution_count": 10,
   "metadata": {},
   "source": [
    "As usual you can load the data by using the ``load_by_id`` function but you will notice that the different storage methods\n",
    "are reflected in shape of the data as it is retrieved. "
   ]
  },
  {
   "cell_type": "code",
   "execution_count": 10,
   "metadata": {
    "execution": {
     "iopub.execute_input": "2020-09-14T08:53:53.323293Z",
     "iopub.status.busy": "2020-09-14T08:53:53.322152Z",
     "iopub.status.idle": "2020-09-14T08:53:53.323845Z",
     "shell.execute_reply": "2020-09-14T08:53:53.324366Z"
    }
   },
   "outputs": [],
   "source": [
    "run_id_n = t_numeric_run_ids[0]\n",
    "run_id_a = t_array_run_ids[0]"
   ]
  },
  {
   "cell_type": "code",
   "execution_count": 11,
   "metadata": {
    "execution": {
     "iopub.execute_input": "2020-09-14T08:53:53.327557Z",
     "iopub.status.busy": "2020-09-14T08:53:53.327061Z",
     "iopub.status.idle": "2020-09-14T08:53:53.336696Z",
     "shell.execute_reply": "2020-09-14T08:53:53.337262Z"
    },
    "scrolled": true
   },
   "outputs": [
    {
     "data": {
      "text/plain": [
       "{'x1': {'x1': array([0.70432333, 0.70432333, 0.82883018, 0.82883018, 0.03304089,\n",
       "         0.03304089, 0.9292828 , 0.9292828 , 0.88508795, 0.88508795,\n",
       "         0.5459853 , 0.5459853 , 0.83509721, 0.83509721, 0.01755765,\n",
       "         0.01755765, 0.37438604, 0.37438604, 0.87236495, 0.87236495,\n",
       "         0.47754148, 0.47754148, 0.0249949 , 0.0249949 , 0.94443042,\n",
       "         0.94443042, 0.21492458, 0.21492458, 0.30210815, 0.30210815,\n",
       "         0.68805226, 0.68805226, 0.88060334, 0.88060334, 0.78888449,\n",
       "         0.78888449, 0.40630108, 0.40630108, 0.06249562, 0.06249562,\n",
       "         0.32824132, 0.32824132, 0.03912046, 0.03912046, 0.42974939,\n",
       "         0.42974939, 0.38733586, 0.38733586, 0.08869843, 0.08869843,\n",
       "         0.30551502, 0.30551502, 0.73461523, 0.73461523, 0.2151127 ,\n",
       "         0.2151127 , 0.84575197, 0.84575197, 0.48051835, 0.48051835,\n",
       "         0.20913178, 0.20913178, 0.09841239, 0.09841239, 0.68272378,\n",
       "         0.68272378, 0.73313106, 0.73313106, 0.59500771, 0.59500771,\n",
       "         0.15904273, 0.15904273, 0.44992327, 0.44992327, 0.91656392,\n",
       "         0.91656392, 0.5242337 , 0.5242337 , 0.40879802, 0.40879802,\n",
       "         0.64413902, 0.64413902, 0.69391993, 0.69391993, 0.49215785,\n",
       "         0.49215785, 0.61774727, 0.61774727, 0.48285986, 0.48285986,\n",
       "         0.84052368, 0.84052368, 0.75574722, 0.75574722, 0.0868614 ,\n",
       "         0.0868614 , 0.2342186 , 0.2342186 , 0.61084834, 0.61084834,\n",
       "         0.02198227, 0.02198227, 0.66346275, 0.66346275, 0.60197145,\n",
       "         0.60197145, 0.27337941, 0.27337941, 0.06745713, 0.06745713,\n",
       "         0.16174928, 0.16174928, 0.11082387, 0.11082387, 0.33472334,\n",
       "         0.33472334, 0.63455764, 0.63455764, 0.22618107, 0.22618107,\n",
       "         0.95475864, 0.95475864, 0.68151167, 0.68151167, 0.58343733,\n",
       "         0.58343733, 0.94939024, 0.94939024, 0.12854716, 0.12854716,\n",
       "         0.24107079, 0.24107079, 0.53121215, 0.53121215, 0.21870179,\n",
       "         0.21870179, 0.79154626, 0.79154626, 0.19196322, 0.19196322,\n",
       "         0.85263063, 0.85263063, 0.22663932, 0.22663932, 0.85829359,\n",
       "         0.85829359, 0.6751085 , 0.6751085 , 0.84499464, 0.84499464,\n",
       "         0.22338576, 0.22338576, 0.44325807, 0.44325807, 0.09562438,\n",
       "         0.09562438, 0.44406361, 0.44406361, 0.50501874, 0.50501874,\n",
       "         0.48220013, 0.48220013, 0.14947368, 0.14947368, 0.90867661,\n",
       "         0.90867661, 0.38732534, 0.38732534, 0.58670304, 0.58670304,\n",
       "         0.24270337, 0.24270337, 0.50856022, 0.50856022, 0.90042678,\n",
       "         0.90042678, 0.01463887, 0.01463887, 0.80430411, 0.80430411,\n",
       "         0.97471811, 0.97471811, 0.19856771, 0.19856771, 0.83086996,\n",
       "         0.83086996, 0.04465959, 0.04465959, 0.15421804, 0.15421804,\n",
       "         0.06205969, 0.06205969, 0.87247275, 0.87247275, 0.4180635 ,\n",
       "         0.4180635 , 0.487314  , 0.487314  , 0.8005593 , 0.8005593 ])}}"
      ]
     },
     "execution_count": 1,
     "metadata": {},
     "output_type": "execute_result"
    }
   ],
   "source": [
    "ds = load_by_id(run_id_n)\n",
    "ds.get_parameter_data('x1')"
   ]
  },
  {
   "cell_type": "markdown",
   "execution_count": 12,
   "metadata": {},
   "source": [
    "And a dataset stored as binary arrays"
   ]
  },
  {
   "cell_type": "code",
   "execution_count": 12,
   "metadata": {
    "execution": {
     "iopub.execute_input": "2020-09-14T08:53:53.340876Z",
     "iopub.status.busy": "2020-09-14T08:53:53.340376Z",
     "iopub.status.idle": "2020-09-14T08:53:53.395588Z",
     "shell.execute_reply": "2020-09-14T08:53:53.396145Z"
    },
    "scrolled": true
   },
   "outputs": [
    {
     "data": {
      "text/plain": [
       "{'x1': {'x1': array([[0.74535686],\n",
       "         [0.74535686],\n",
       "         [0.98694257],\n",
       "         [0.98694257],\n",
       "         [0.10169272],\n",
       "         [0.10169272],\n",
       "         [0.28088799],\n",
       "         [0.28088799],\n",
       "         [0.09884909],\n",
       "         [0.09884909],\n",
       "         [0.27872671],\n",
       "         [0.27872671],\n",
       "         [0.06289176],\n",
       "         [0.06289176],\n",
       "         [0.91355469],\n",
       "         [0.91355469],\n",
       "         [0.13181543],\n",
       "         [0.13181543],\n",
       "         [0.96525814],\n",
       "         [0.96525814],\n",
       "         [0.19750524],\n",
       "         [0.19750524],\n",
       "         [0.67903963],\n",
       "         [0.67903963],\n",
       "         [0.28629314],\n",
       "         [0.28629314],\n",
       "         [0.63076153],\n",
       "         [0.63076153],\n",
       "         [0.99061857],\n",
       "         [0.99061857],\n",
       "         [0.12765749],\n",
       "         [0.12765749],\n",
       "         [0.26983307],\n",
       "         [0.26983307],\n",
       "         [0.89404498],\n",
       "         [0.89404498],\n",
       "         [0.51278529],\n",
       "         [0.51278529],\n",
       "         [0.26169267],\n",
       "         [0.26169267],\n",
       "         [0.53383127],\n",
       "         [0.53383127],\n",
       "         [0.44719368],\n",
       "         [0.44719368],\n",
       "         [0.40719739],\n",
       "         [0.40719739],\n",
       "         [0.3710745 ],\n",
       "         [0.3710745 ],\n",
       "         [0.75721079],\n",
       "         [0.75721079],\n",
       "         [0.61223722],\n",
       "         [0.61223722],\n",
       "         [0.09050018],\n",
       "         [0.09050018],\n",
       "         [0.39136609],\n",
       "         [0.39136609],\n",
       "         [0.9973262 ],\n",
       "         [0.9973262 ],\n",
       "         [0.19894496],\n",
       "         [0.19894496],\n",
       "         [0.00747822],\n",
       "         [0.00747822],\n",
       "         [0.34404468],\n",
       "         [0.34404468],\n",
       "         [0.93298364],\n",
       "         [0.93298364],\n",
       "         [0.88108301],\n",
       "         [0.88108301],\n",
       "         [0.28705318],\n",
       "         [0.28705318],\n",
       "         [0.6317079 ],\n",
       "         [0.6317079 ],\n",
       "         [0.41283227],\n",
       "         [0.41283227],\n",
       "         [0.77103972],\n",
       "         [0.77103972],\n",
       "         [0.78056331],\n",
       "         [0.78056331],\n",
       "         [0.57411291],\n",
       "         [0.57411291],\n",
       "         [0.7895312 ],\n",
       "         [0.7895312 ],\n",
       "         [0.95826654],\n",
       "         [0.95826654],\n",
       "         [0.05180349],\n",
       "         [0.05180349],\n",
       "         [0.17576254],\n",
       "         [0.17576254],\n",
       "         [0.79148938],\n",
       "         [0.79148938],\n",
       "         [0.76668008],\n",
       "         [0.76668008],\n",
       "         [0.50993531],\n",
       "         [0.50993531],\n",
       "         [0.49291951],\n",
       "         [0.49291951],\n",
       "         [0.57813736],\n",
       "         [0.57813736],\n",
       "         [0.58884096],\n",
       "         [0.58884096],\n",
       "         [0.87159903],\n",
       "         [0.87159903],\n",
       "         [0.3047532 ],\n",
       "         [0.3047532 ],\n",
       "         [0.7941539 ],\n",
       "         [0.7941539 ],\n",
       "         [0.67314926],\n",
       "         [0.67314926],\n",
       "         [0.13050326],\n",
       "         [0.13050326],\n",
       "         [0.41133186],\n",
       "         [0.41133186],\n",
       "         [0.28935748],\n",
       "         [0.28935748],\n",
       "         [0.80779159],\n",
       "         [0.80779159],\n",
       "         [0.21497792],\n",
       "         [0.21497792],\n",
       "         [0.02379073],\n",
       "         [0.02379073],\n",
       "         [0.91723049],\n",
       "         [0.91723049],\n",
       "         [0.17381709],\n",
       "         [0.17381709],\n",
       "         [0.47442017],\n",
       "         [0.47442017],\n",
       "         [0.25977546],\n",
       "         [0.25977546],\n",
       "         [0.68688369],\n",
       "         [0.68688369],\n",
       "         [0.45133664],\n",
       "         [0.45133664],\n",
       "         [0.61172029],\n",
       "         [0.61172029],\n",
       "         [0.74453662],\n",
       "         [0.74453662],\n",
       "         [0.83408101],\n",
       "         [0.83408101],\n",
       "         [0.38940503],\n",
       "         [0.38940503],\n",
       "         [0.24638965],\n",
       "         [0.24638965],\n",
       "         [0.62644888],\n",
       "         [0.62644888],\n",
       "         [0.18102116],\n",
       "         [0.18102116],\n",
       "         [0.50249336],\n",
       "         [0.50249336],\n",
       "         [0.65616438],\n",
       "         [0.65616438],\n",
       "         [0.23277984],\n",
       "         [0.23277984],\n",
       "         [0.23579213],\n",
       "         [0.23579213],\n",
       "         [0.74055249],\n",
       "         [0.74055249],\n",
       "         [0.58280058],\n",
       "         [0.58280058],\n",
       "         [0.41485492],\n",
       "         [0.41485492],\n",
       "         [0.18040702],\n",
       "         [0.18040702],\n",
       "         [0.93618131],\n",
       "         [0.93618131],\n",
       "         [0.50885337],\n",
       "         [0.50885337],\n",
       "         [0.12425836],\n",
       "         [0.12425836],\n",
       "         [0.01835468],\n",
       "         [0.01835468],\n",
       "         [0.23469173],\n",
       "         [0.23469173],\n",
       "         [0.82620015],\n",
       "         [0.82620015],\n",
       "         [0.14879145],\n",
       "         [0.14879145],\n",
       "         [0.79103302],\n",
       "         [0.79103302],\n",
       "         [0.38548983],\n",
       "         [0.38548983],\n",
       "         [0.9126554 ],\n",
       "         [0.9126554 ],\n",
       "         [0.92343616],\n",
       "         [0.92343616],\n",
       "         [0.40158421],\n",
       "         [0.40158421],\n",
       "         [0.64940704],\n",
       "         [0.64940704],\n",
       "         [0.67797044],\n",
       "         [0.67797044],\n",
       "         [0.56790125],\n",
       "         [0.56790125],\n",
       "         [0.55164558],\n",
       "         [0.55164558],\n",
       "         [0.81059898],\n",
       "         [0.81059898],\n",
       "         [0.81326153],\n",
       "         [0.81326153],\n",
       "         [0.67584041],\n",
       "         [0.67584041]])}}"
      ]
     },
     "execution_count": 1,
     "metadata": {},
     "output_type": "execute_result"
    }
   ],
   "source": [
    "ds = load_by_id(run_id_a)\n",
    "ds.get_parameter_data('x1')"
   ]
  },
  {
   "cell_type": "code",
   "execution_count": 13,
   "metadata": {},
   "outputs": [],
   "source": []
  }
 ],
 "metadata": {
  "kernelspec": {
   "display_name": "Python 3",
   "language": "python",
   "name": "python3"
  },
  "language_info": {
   "codemirror_mode": {
    "name": "ipython",
    "version": 3
   },
   "file_extension": ".py",
   "mimetype": "text/x-python",
   "name": "python",
   "nbconvert_exporter": "python",
   "pygments_lexer": "ipython3",
   "version": "3.7.7"
  },
  "nbsphinx": {
   "timeout": 600
  },
  "toc": {
   "base_numbering": 1,
   "nav_menu": {},
   "number_sections": true,
   "sideBar": true,
   "skip_h1_title": false,
   "title_cell": "Table of Contents",
   "title_sidebar": "Contents",
   "toc_cell": false,
   "toc_position": {},
   "toc_section_display": true,
   "toc_window_display": false
  },
  "varInspector": {
   "cols": {
    "lenName": 16,
    "lenType": 16,
    "lenVar": 40
   },
   "kernels_config": {
    "python": {
     "delete_cmd_postfix": "",
     "delete_cmd_prefix": "del ",
     "library": "var_list.py",
     "varRefreshCmd": "print(var_dic_list())"
    },
    "r": {
     "delete_cmd_postfix": ") ",
     "delete_cmd_prefix": "rm(",
     "library": "var_list.r",
     "varRefreshCmd": "cat(var_dic_list()) "
    }
   },
   "types_to_exclude": [
    "module",
    "function",
    "builtin_function_or_method",
    "instance",
    "_Feature"
   ],
   "window_display": false
  }
 },
 "nbformat": 4,
 "nbformat_minor": 2
}
