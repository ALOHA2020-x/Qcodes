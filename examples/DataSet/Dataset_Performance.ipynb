{
 "cells": [
  {
   "cell_type": "markdown",
   "metadata": {},
   "source": [
    "# DataSet Performance\n",
    "\n",
    "This notebook shows the trade-off between inserting data into a database row-by-row and as binary blobs. Inserting the data row-by-row means that we have direct access to all the data and may perform queries directly on the values of the data. On the other hand, as we shall see, this is much slower than inserting the data directly as binary blobs."
   ]
  },
  {
   "cell_type": "markdown",
   "metadata": {},
   "source": [
    "First, we choose a new location for the database to ensure that we don't add a bunch of benchmarking data to the default one."
   ]
  },
  {
   "cell_type": "code",
   "execution_count": 1,
   "metadata": {
    "execution": {
     "iopub.execute_input": "2021-03-29T09:51:09.790437Z",
     "iopub.status.busy": "2021-03-29T09:51:09.789865Z",
     "iopub.status.idle": "2021-03-29T09:51:10.848145Z",
     "shell.execute_reply": "2021-03-29T09:51:10.846956Z"
    }
   },
   "outputs": [
    {
     "name": "stdout",
     "output_type": "stream",
     "text": [
      "Logging hadn't been started.\n",
      "Activating auto-logging. Current session state plus future input saved.\n",
      "Filename       : /home/runner/.qcodes/logs/command_history.log\n",
      "Mode           : append\n",
      "Output logging : True\n",
      "Raw input log  : False\n",
      "Timestamping   : True\n",
      "State          : active\n"
     ]
    },
    {
     "name": "stdout",
     "output_type": "stream",
     "text": [
      "Qcodes Logfile : /home/runner/.qcodes/logs/210329-4537-qcodes.log\n"
     ]
    }
   ],
   "source": [
    "import os\n",
    "cwd = os.getcwd()\n",
    "import qcodes as qc\n",
    "qc.config[\"core\"][\"db_location\"] = os.path.join(cwd, 'testing.db')\n"
   ]
  },
  {
   "cell_type": "code",
   "execution_count": 2,
   "metadata": {
    "execution": {
     "iopub.execute_input": "2021-03-29T09:51:10.856089Z",
     "iopub.status.busy": "2021-03-29T09:51:10.855486Z",
     "iopub.status.idle": "2021-03-29T09:51:11.097677Z",
     "shell.execute_reply": "2021-03-29T09:51:11.096474Z"
    }
   },
   "outputs": [],
   "source": [
    "%matplotlib inline\n",
    "import time\n",
    "import matplotlib.pyplot as plt\n",
    "import numpy as np\n",
    "\n",
    "import qcodes as qc\n",
    "from qcodes.instrument.parameter import ManualParameter\n",
    "from qcodes.dataset.experiment_container import (Experiment,\n",
    "                                                 load_last_experiment,\n",
    "                                                 new_experiment)\n",
    "from qcodes.dataset.sqlite.database import initialise_database\n",
    "from qcodes import load_or_create_experiment\n",
    "from qcodes.dataset.measurements import Measurement"
   ]
  },
  {
   "cell_type": "code",
   "execution_count": 3,
   "metadata": {
    "execution": {
     "iopub.execute_input": "2021-03-29T09:51:11.102184Z",
     "iopub.status.busy": "2021-03-29T09:51:11.101356Z",
     "iopub.status.idle": "2021-03-29T09:51:11.178294Z",
     "shell.execute_reply": "2021-03-29T09:51:11.177699Z"
    }
   },
   "outputs": [
    {
     "name": "stdout",
     "output_type": "stream",
     "text": [
      "\r",
      "0it [00:00, ?it/s]"
     ]
    },
    {
     "name": "stdout",
     "output_type": "stream",
     "text": [
      "\r",
      "Upgrading database; v0 -> v1: : 0it [00:00, ?it/s]"
     ]
    },
    {
     "name": "stdout",
     "output_type": "stream",
     "text": [
      "\r",
      "Upgrading database; v0 -> v1: : 0it [00:00, ?it/s]"
     ]
    },
    {
     "name": "stdout",
     "output_type": "stream",
     "text": [
      "\n",
      "\r",
      "  0%|          | 0/1 [00:00<?, ?it/s]"
     ]
    },
    {
     "name": "stdout",
     "output_type": "stream",
     "text": [
      "\r",
      "Upgrading database; v1 -> v2:   0%|          | 0/1 [00:00<?, ?it/s]"
     ]
    },
    {
     "name": "stdout",
     "output_type": "stream",
     "text": [
      "\r",
      "Upgrading database; v1 -> v2: 100%|██████████| 1/1 [00:00<00:00, 500.69it/s]"
     ]
    },
    {
     "name": "stdout",
     "output_type": "stream",
     "text": [
      "\n",
      "\r",
      "0it [00:00, ?it/s]"
     ]
    },
    {
     "name": "stdout",
     "output_type": "stream",
     "text": [
      "\r",
      "Upgrading database; v2 -> v3: : 0it [00:00, ?it/s]"
     ]
    },
    {
     "name": "stdout",
     "output_type": "stream",
     "text": [
      "\r",
      "Upgrading database; v2 -> v3: : 0it [00:00, ?it/s]"
     ]
    },
    {
     "name": "stdout",
     "output_type": "stream",
     "text": [
      "\n",
      "\r",
      "0it [00:00, ?it/s]"
     ]
    },
    {
     "name": "stdout",
     "output_type": "stream",
     "text": [
      "\r",
      "Upgrading database; v3 -> v4: : 0it [00:00, ?it/s]"
     ]
    },
    {
     "name": "stdout",
     "output_type": "stream",
     "text": [
      "\r",
      "Upgrading database; v3 -> v4: : 0it [00:00, ?it/s]"
     ]
    },
    {
     "name": "stdout",
     "output_type": "stream",
     "text": [
      "\n",
      "\r",
      "  0%|          | 0/1 [00:00<?, ?it/s]"
     ]
    },
    {
     "name": "stdout",
     "output_type": "stream",
     "text": [
      "\r",
      "Upgrading database; v4 -> v5:   0%|          | 0/1 [00:00<?, ?it/s]"
     ]
    },
    {
     "name": "stdout",
     "output_type": "stream",
     "text": [
      "\r",
      "Upgrading database; v4 -> v5: 100%|██████████| 1/1 [00:00<00:00, 962.88it/s]"
     ]
    },
    {
     "name": "stdout",
     "output_type": "stream",
     "text": [
      "\n",
      "\r",
      "0it [00:00, ?it/s]"
     ]
    },
    {
     "name": "stdout",
     "output_type": "stream",
     "text": [
      "\r",
      "Upgrading database; v5 -> v6: : 0it [00:00, ?it/s]"
     ]
    },
    {
     "name": "stdout",
     "output_type": "stream",
     "text": [
      "\r",
      "Upgrading database; v5 -> v6: : 0it [00:00, ?it/s]"
     ]
    },
    {
     "name": "stdout",
     "output_type": "stream",
     "text": [
      "\n",
      "\r",
      "  0%|          | 0/1 [00:00<?, ?it/s]"
     ]
    },
    {
     "name": "stdout",
     "output_type": "stream",
     "text": [
      "\r",
      "Upgrading database; v6 -> v7:   0%|          | 0/1 [00:00<?, ?it/s]"
     ]
    },
    {
     "name": "stdout",
     "output_type": "stream",
     "text": [
      "\r",
      "Upgrading database; v6 -> v7: 100%|██████████| 1/1 [00:00<00:00, 306.35it/s]"
     ]
    },
    {
     "name": "stdout",
     "output_type": "stream",
     "text": [
      "\n",
      "\r",
      "  0%|          | 0/1 [00:00<?, ?it/s]"
     ]
    },
    {
     "name": "stdout",
     "output_type": "stream",
     "text": [
      "\r",
      "Upgrading database; v7 -> v8:   0%|          | 0/1 [00:00<?, ?it/s]"
     ]
    },
    {
     "name": "stdout",
     "output_type": "stream",
     "text": [
      "\r",
      "Upgrading database; v7 -> v8: 100%|██████████| 1/1 [00:00<00:00, 879.12it/s]"
     ]
    },
    {
     "name": "stdout",
     "output_type": "stream",
     "text": [
      "\n",
      "\r",
      "  0%|          | 0/1 [00:00<?, ?it/s]"
     ]
    },
    {
     "name": "stdout",
     "output_type": "stream",
     "text": [
      "\r",
      "Upgrading database; v8 -> v9:   0%|          | 0/1 [00:00<?, ?it/s]"
     ]
    },
    {
     "name": "stdout",
     "output_type": "stream",
     "text": [
      "\r",
      "Upgrading database; v8 -> v9: 100%|██████████| 1/1 [00:00<00:00, 1075.19it/s]"
     ]
    },
    {
     "name": "stdout",
     "output_type": "stream",
     "text": [
      "\n"
     ]
    }
   ],
   "source": [
    "initialise_database()\n",
    "exp = load_or_create_experiment(experiment_name='tutorial_exp', sample_name=\"no sample\")"
   ]
  },
  {
   "cell_type": "markdown",
   "metadata": {},
   "source": [
    "Here, we define a simple function to benchmark the time it takes to insert n points with either numeric or array data type.\n",
    "We will compare both the time used to call ``add_result`` and the time used for the full measurement."
   ]
  },
  {
   "cell_type": "code",
   "execution_count": 4,
   "metadata": {
    "execution": {
     "iopub.execute_input": "2021-03-29T09:51:11.187282Z",
     "iopub.status.busy": "2021-03-29T09:51:11.186687Z",
     "iopub.status.idle": "2021-03-29T09:51:11.189998Z",
     "shell.execute_reply": "2021-03-29T09:51:11.190478Z"
    }
   },
   "outputs": [],
   "source": [
    "def insert_data(paramtype, npoints, nreps=1):\n",
    "\n",
    "    meas = Measurement(exp=exp)\n",
    "\n",
    "    x1 = ManualParameter('x1')\n",
    "    x2 = ManualParameter('x2')\n",
    "    x3 = ManualParameter('x3')\n",
    "    y1 = ManualParameter('y1')\n",
    "    y2 = ManualParameter('y2')\n",
    "\n",
    "    meas.register_parameter(x1, paramtype=paramtype)\n",
    "    meas.register_parameter(x2, paramtype=paramtype)\n",
    "    meas.register_parameter(x3, paramtype=paramtype)\n",
    "    meas.register_parameter(y1, setpoints=[x1, x2, x3],\n",
    "                            paramtype=paramtype)\n",
    "    meas.register_parameter(y2, setpoints=[x1, x2, x3],\n",
    "                            paramtype=paramtype)\n",
    "    start = time.perf_counter()\n",
    "    with meas.run() as datasaver:\n",
    "        start_adding = time.perf_counter()\n",
    "        for i in range(nreps):\n",
    "            datasaver.add_result((x1, np.random.rand(npoints)),\n",
    "                                 (x2, np.random.rand(npoints)),\n",
    "                                 (x3, np.random.rand(npoints)),\n",
    "                                 (y1, np.random.rand(npoints)),\n",
    "                                 (y2, np.random.rand(npoints)))\n",
    "        stop_adding = time.perf_counter()\n",
    "        run_id = datasaver.run_id\n",
    "    stop = time.perf_counter()\n",
    "    tot_time = stop - start\n",
    "    add_time = stop_adding - start_adding\n",
    "    return tot_time, add_time, run_id"
   ]
  },
  {
   "cell_type": "markdown",
   "metadata": {},
   "source": [
    "## Comparison between numeric/array data and binary blob"
   ]
  },
  {
   "cell_type": "markdown",
   "metadata": {},
   "source": [
    "### Case1: Short experiment time"
   ]
  },
  {
   "cell_type": "code",
   "execution_count": 5,
   "metadata": {
    "execution": {
     "iopub.execute_input": "2021-03-29T09:51:11.199395Z",
     "iopub.status.busy": "2021-03-29T09:51:11.198239Z",
     "iopub.status.idle": "2021-03-29T09:51:12.073147Z",
     "shell.execute_reply": "2021-03-29T09:51:12.073625Z"
    }
   },
   "outputs": [
    {
     "name": "stdout",
     "output_type": "stream",
     "text": [
      "Starting experimental run with id: 1. \n",
      "Starting experimental run with id: 2. \n",
      "Starting experimental run with id: 3. \n",
      "Starting experimental run with id: 4. \n",
      "Starting experimental run with id: 5. \n"
     ]
    },
    {
     "name": "stdout",
     "output_type": "stream",
     "text": [
      "Starting experimental run with id: 6. \n"
     ]
    },
    {
     "name": "stdout",
     "output_type": "stream",
     "text": [
      "Starting experimental run with id: 7. \n"
     ]
    },
    {
     "name": "stdout",
     "output_type": "stream",
     "text": [
      "Starting experimental run with id: 8. \n",
      "Starting experimental run with id: 9. \n"
     ]
    },
    {
     "name": "stdout",
     "output_type": "stream",
     "text": [
      "Starting experimental run with id: 10. \n",
      "Starting experimental run with id: 11. \n"
     ]
    },
    {
     "name": "stdout",
     "output_type": "stream",
     "text": [
      "Starting experimental run with id: 12. \n",
      "Starting experimental run with id: 13. \n",
      "Starting experimental run with id: 14. \n"
     ]
    }
   ],
   "source": [
    "sizes = [1,500,1000,2000,3000,4000,5000]\n",
    "t_numeric = []\n",
    "t_numeric_add = []\n",
    "t_array = []\n",
    "t_array_add = []\n",
    "for size in sizes:\n",
    "    tn, tna, run_id_n =  insert_data('numeric', size)\n",
    "    t_numeric.append(tn)\n",
    "    t_numeric_add.append(tna)\n",
    "\n",
    "    ta, taa, run_id_a =  insert_data('array', size)\n",
    "    t_array.append(ta)\n",
    "    t_array_add.append(taa)"
   ]
  },
  {
   "cell_type": "code",
   "execution_count": 6,
   "metadata": {
    "execution": {
     "iopub.execute_input": "2021-03-29T09:51:12.085308Z",
     "iopub.status.busy": "2021-03-29T09:51:12.084366Z",
     "iopub.status.idle": "2021-03-29T09:51:12.319766Z",
     "shell.execute_reply": "2021-03-29T09:51:12.319224Z"
    }
   },
   "outputs": [
    {
     "data": {
      "image/png": "[encoded data removed]",
      "text/plain": [
       "<Figure size 432x288 with 1 Axes>"
      ]
     },
     "metadata": {
      "needs_background": "light"
     },
     "output_type": "display_data"
    }
   ],
   "source": [
    "fig, ax = plt.subplots(1,1)\n",
    "ax.plot(sizes, t_numeric, 'o-', label='Inserting row-by-row')\n",
    "ax.plot(sizes, t_numeric_add, 'o-', label='Inserting row-by-row: add_result only')\n",
    "ax.plot(sizes, t_array, 'd-', label='Inserting as binary blob')\n",
    "ax.plot(sizes, t_array_add, 'd-', label='Inserting as binary blob: add_result only')\n",
    "ax.legend()\n",
    "ax.set_xlabel('Array length')\n",
    "ax.set_ylabel('Time (s)')\n",
    "fig.tight_layout()"
   ]
  },
  {
   "cell_type": "markdown",
   "metadata": {},
   "source": [
    "As shown in the latter figure, the time to setup and and close the experiment is approximately 0.4 sec. In case of small array sizes, the difference between inserting values of data as arrays and inserting them row-by-row is relatively unimportant. At larger array sizes, i.e. above 10000 points, the cost of writing data as individual datapoints starts to become important.\n"
   ]
  },
  {
   "cell_type": "markdown",
   "metadata": {},
   "source": [
    "### Case2: Long experiment time "
   ]
  },
  {
   "cell_type": "code",
   "execution_count": 7,
   "metadata": {
    "execution": {
     "iopub.execute_input": "2021-03-29T09:51:12.327775Z",
     "iopub.status.busy": "2021-03-29T09:51:12.327117Z",
     "iopub.status.idle": "2021-03-29T09:52:13.125350Z",
     "shell.execute_reply": "2021-03-29T09:52:13.124534Z"
    }
   },
   "outputs": [
    {
     "name": "stdout",
     "output_type": "stream",
     "text": [
      "Starting experimental run with id: 15. \n",
      "Starting experimental run with id: 16. \n",
      "Starting experimental run with id: 17. \n"
     ]
    },
    {
     "name": "stdout",
     "output_type": "stream",
     "text": [
      "Starting experimental run with id: 18. \n",
      "Starting experimental run with id: 19. \n"
     ]
    },
    {
     "name": "stdout",
     "output_type": "stream",
     "text": [
      "Starting experimental run with id: 20. \n"
     ]
    },
    {
     "name": "stdout",
     "output_type": "stream",
     "text": [
      "Starting experimental run with id: 21. \n"
     ]
    },
    {
     "name": "stdout",
     "output_type": "stream",
     "text": [
      "Starting experimental run with id: 22. \n"
     ]
    },
    {
     "name": "stdout",
     "output_type": "stream",
     "text": [
      "Starting experimental run with id: 23. \n"
     ]
    },
    {
     "name": "stdout",
     "output_type": "stream",
     "text": [
      "Starting experimental run with id: 24. \n"
     ]
    },
    {
     "name": "stdout",
     "output_type": "stream",
     "text": [
      "Starting experimental run with id: 25. \n"
     ]
    },
    {
     "name": "stdout",
     "output_type": "stream",
     "text": [
      "Starting experimental run with id: 26. \n"
     ]
    },
    {
     "name": "stdout",
     "output_type": "stream",
     "text": [
      "Starting experimental run with id: 27. \n"
     ]
    },
    {
     "name": "stdout",
     "output_type": "stream",
     "text": [
      "Starting experimental run with id: 28. \n"
     ]
    }
   ],
   "source": [
    "sizes = [1,500,1000,2000,3000,4000,5000]\n",
    "nreps = 100\n",
    "t_numeric = []\n",
    "t_numeric_add = []\n",
    "t_numeric_run_ids = []\n",
    "t_array = []\n",
    "t_array_add = []\n",
    "t_array_run_ids = []\n",
    "for size in sizes:\n",
    "    tn, tna, run_id_n =  insert_data('numeric', size, nreps=nreps)\n",
    "    t_numeric.append(tn)\n",
    "    t_numeric_add.append(tna)\n",
    "    t_numeric_run_ids.append(run_id_n)\n",
    "\n",
    "    ta, taa, run_id_a =  insert_data('array', size, nreps=nreps)\n",
    "    t_array.append(ta)\n",
    "    t_array_add.append(taa)\n",
    "    t_array_run_ids.append(run_id_a)"
   ]
  },
  {
   "cell_type": "code",
   "execution_count": 8,
   "metadata": {
    "execution": {
     "iopub.execute_input": "2021-03-29T09:52:13.163946Z",
     "iopub.status.busy": "2021-03-29T09:52:13.150531Z",
     "iopub.status.idle": "2021-03-29T09:52:13.335061Z",
     "shell.execute_reply": "2021-03-29T09:52:13.334556Z"
    },
    "scrolled": true
   },
   "outputs": [
    {
     "data": {
      "image/png": "[encoded data removed]",
      "text/plain": [
       "<Figure size 432x288 with 1 Axes>"
      ]
     },
     "metadata": {
      "needs_background": "light"
     },
     "output_type": "display_data"
    }
   ],
   "source": [
    "fig, ax = plt.subplots(1,1)\n",
    "ax.plot(sizes, t_numeric, 'o-', label='Inserting row-by-row')\n",
    "ax.plot(sizes, t_numeric_add, 'o-', label='Inserting row-by-row: add_result only')\n",
    "ax.plot(sizes, t_array, 'd-', label='Inserting as binary blob')\n",
    "ax.plot(sizes, t_array_add, 'd-', label='Inserting as binary blob: add_result only')\n",
    "ax.legend()\n",
    "ax.set_xlabel('Array length')\n",
    "ax.set_ylabel('Time (s)')\n",
    "fig.tight_layout()"
   ]
  },
  {
   "cell_type": "markdown",
   "metadata": {},
   "source": [
    "However, as we increase the length of the experiment, as seen here by repeating the insertion 100 times, we see a big difference between inserting values of the data row-by-row and inserting it as a binary blob."
   ]
  },
  {
   "cell_type": "markdown",
   "metadata": {},
   "source": [
    "## Loading the data "
   ]
  },
  {
   "cell_type": "code",
   "execution_count": 9,
   "metadata": {
    "execution": {
     "iopub.execute_input": "2021-03-29T09:52:13.339775Z",
     "iopub.status.busy": "2021-03-29T09:52:13.338737Z",
     "iopub.status.idle": "2021-03-29T09:52:13.342113Z",
     "shell.execute_reply": "2021-03-29T09:52:13.341611Z"
    }
   },
   "outputs": [],
   "source": [
    "from qcodes.dataset.data_set import load_by_id\n",
    "from qcodes.dataset.data_export import get_data_by_id"
   ]
  },
  {
   "cell_type": "markdown",
   "metadata": {},
   "source": [
    "As usual you can load the data by using the ``load_by_id`` function but you will notice that the different storage methods\n",
    "are reflected in shape of the data as it is retrieved. "
   ]
  },
  {
   "cell_type": "code",
   "execution_count": 10,
   "metadata": {
    "execution": {
     "iopub.execute_input": "2021-03-29T09:52:13.346752Z",
     "iopub.status.busy": "2021-03-29T09:52:13.345626Z",
     "iopub.status.idle": "2021-03-29T09:52:13.347410Z",
     "shell.execute_reply": "2021-03-29T09:52:13.347870Z"
    }
   },
   "outputs": [],
   "source": [
    "run_id_n = t_numeric_run_ids[0]\n",
    "run_id_a = t_array_run_ids[0]"
   ]
  },
  {
   "cell_type": "code",
   "execution_count": 11,
   "metadata": {
    "execution": {
     "iopub.execute_input": "2021-03-29T09:52:13.351370Z",
     "iopub.status.busy": "2021-03-29T09:52:13.350816Z",
     "iopub.status.idle": "2021-03-29T09:52:13.359859Z",
     "shell.execute_reply": "2021-03-29T09:52:13.360222Z"
    },
    "scrolled": true
   },
   "outputs": [
    {
     "data": {
      "text/plain": [
       "{'x1': {'x1': array([0.96044212, 0.96044212, 0.16174636, 0.16174636, 0.68003135,\n",
       "         0.68003135, 0.91980601, 0.91980601, 0.6892243 , 0.6892243 ,\n",
       "         0.91445717, 0.91445717, 0.8605135 , 0.8605135 , 0.53696279,\n",
       "         0.53696279, 0.32704582, 0.32704582, 0.98921987, 0.98921987,\n",
       "         0.896167  , 0.896167  , 0.4292656 , 0.4292656 , 0.17481154,\n",
       "         0.17481154, 0.32269442, 0.32269442, 0.79429706, 0.79429706,\n",
       "         0.59866979, 0.59866979, 0.86070098, 0.86070098, 0.58216625,\n",
       "         0.58216625, 0.73778683, 0.73778683, 0.25714035, 0.25714035,\n",
       "         0.79435064, 0.79435064, 0.89192326, 0.89192326, 0.26478568,\n",
       "         0.26478568, 0.03867862, 0.03867862, 0.93564593, 0.93564593,\n",
       "         0.2760036 , 0.2760036 , 0.09782115, 0.09782115, 0.79339084,\n",
       "         0.79339084, 0.64916089, 0.64916089, 0.72838631, 0.72838631,\n",
       "         0.91465251, 0.91465251, 0.08555554, 0.08555554, 0.4405215 ,\n",
       "         0.4405215 , 0.67456238, 0.67456238, 0.972496  , 0.972496  ,\n",
       "         0.30441651, 0.30441651, 0.38332933, 0.38332933, 0.35621818,\n",
       "         0.35621818, 0.22890657, 0.22890657, 0.88536515, 0.88536515,\n",
       "         0.61089431, 0.61089431, 0.28428583, 0.28428583, 0.06104417,\n",
       "         0.06104417, 0.98940477, 0.98940477, 0.81357849, 0.81357849,\n",
       "         0.86715573, 0.86715573, 0.67360839, 0.67360839, 0.10844817,\n",
       "         0.10844817, 0.68464307, 0.68464307, 0.97805154, 0.97805154,\n",
       "         0.45317324, 0.45317324, 0.31151372, 0.31151372, 0.49865921,\n",
       "         0.49865921, 0.91604215, 0.91604215, 0.42008294, 0.42008294,\n",
       "         0.05785108, 0.05785108, 0.43088041, 0.43088041, 0.4496796 ,\n",
       "         0.4496796 , 0.93164443, 0.93164443, 0.91696896, 0.91696896,\n",
       "         0.49168844, 0.49168844, 0.91296014, 0.91296014, 0.97240177,\n",
       "         0.97240177, 0.54811116, 0.54811116, 0.35142311, 0.35142311,\n",
       "         0.94299497, 0.94299497, 0.14456657, 0.14456657, 0.50533328,\n",
       "         0.50533328, 0.01134946, 0.01134946, 0.04720758, 0.04720758,\n",
       "         0.97042062, 0.97042062, 0.76808662, 0.76808662, 0.49626117,\n",
       "         0.49626117, 0.28490202, 0.28490202, 0.63062433, 0.63062433,\n",
       "         0.51732859, 0.51732859, 0.50649246, 0.50649246, 0.18214755,\n",
       "         0.18214755, 0.8546725 , 0.8546725 , 0.87088654, 0.87088654,\n",
       "         0.79022957, 0.79022957, 0.70206949, 0.70206949, 0.19176589,\n",
       "         0.19176589, 0.71650311, 0.71650311, 0.10401926, 0.10401926,\n",
       "         0.10033125, 0.10033125, 0.28632349, 0.28632349, 0.08110591,\n",
       "         0.08110591, 0.75701382, 0.75701382, 0.94883411, 0.94883411,\n",
       "         0.80830997, 0.80830997, 0.21232834, 0.21232834, 0.0705205 ,\n",
       "         0.0705205 , 0.41659545, 0.41659545, 0.67791698, 0.67791698,\n",
       "         0.60229987, 0.60229987, 0.05954468, 0.05954468, 0.89584677,\n",
       "         0.89584677, 0.62994378, 0.62994378, 0.73603927, 0.73603927])}}"
      ]
     },
     "execution_count": 1,
     "metadata": {},
     "output_type": "execute_result"
    }
   ],
   "source": [
    "ds = load_by_id(run_id_n)\n",
    "ds.get_parameter_data('x1')"
   ]
  },
  {
   "cell_type": "markdown",
   "metadata": {},
   "source": [
    "And a dataset stored as binary arrays"
   ]
  },
  {
   "cell_type": "code",
   "execution_count": 12,
   "metadata": {
    "execution": {
     "iopub.execute_input": "2021-03-29T09:52:13.363598Z",
     "iopub.status.busy": "2021-03-29T09:52:13.363058Z",
     "iopub.status.idle": "2021-03-29T09:52:13.417890Z",
     "shell.execute_reply": "2021-03-29T09:52:13.418381Z"
    },
    "scrolled": true
   },
   "outputs": [
    {
     "data": {
      "text/plain": [
       "{'x1': {'x1': array([[0.37272676],\n",
       "         [0.37272676],\n",
       "         [0.14644999],\n",
       "         [0.14644999],\n",
       "         [0.65966588],\n",
       "         [0.65966588],\n",
       "         [0.37778651],\n",
       "         [0.37778651],\n",
       "         [0.00402236],\n",
       "         [0.00402236],\n",
       "         [0.01439669],\n",
       "         [0.01439669],\n",
       "         [0.23528004],\n",
       "         [0.23528004],\n",
       "         [0.84033378],\n",
       "         [0.84033378],\n",
       "         [0.53821655],\n",
       "         [0.53821655],\n",
       "         [0.84954075],\n",
       "         [0.84954075],\n",
       "         [0.48555693],\n",
       "         [0.48555693],\n",
       "         [0.14098905],\n",
       "         [0.14098905],\n",
       "         [0.17401539],\n",
       "         [0.17401539],\n",
       "         [0.1794394 ],\n",
       "         [0.1794394 ],\n",
       "         [0.21101149],\n",
       "         [0.21101149],\n",
       "         [0.00721792],\n",
       "         [0.00721792],\n",
       "         [0.26986242],\n",
       "         [0.26986242],\n",
       "         [0.39666775],\n",
       "         [0.39666775],\n",
       "         [0.18946557],\n",
       "         [0.18946557],\n",
       "         [0.34813097],\n",
       "         [0.34813097],\n",
       "         [0.47492546],\n",
       "         [0.47492546],\n",
       "         [0.46526209],\n",
       "         [0.46526209],\n",
       "         [0.18805209],\n",
       "         [0.18805209],\n",
       "         [0.08903912],\n",
       "         [0.08903912],\n",
       "         [0.56938388],\n",
       "         [0.56938388],\n",
       "         [0.00219971],\n",
       "         [0.00219971],\n",
       "         [0.00733181],\n",
       "         [0.00733181],\n",
       "         [0.69771965],\n",
       "         [0.69771965],\n",
       "         [0.07926544],\n",
       "         [0.07926544],\n",
       "         [0.59873324],\n",
       "         [0.59873324],\n",
       "         [0.76873015],\n",
       "         [0.76873015],\n",
       "         [0.28998878],\n",
       "         [0.28998878],\n",
       "         [0.82281484],\n",
       "         [0.82281484],\n",
       "         [0.6475967 ],\n",
       "         [0.6475967 ],\n",
       "         [0.81271774],\n",
       "         [0.81271774],\n",
       "         [0.74825571],\n",
       "         [0.74825571],\n",
       "         [0.31837457],\n",
       "         [0.31837457],\n",
       "         [0.09478118],\n",
       "         [0.09478118],\n",
       "         [0.47100583],\n",
       "         [0.47100583],\n",
       "         [0.66276949],\n",
       "         [0.66276949],\n",
       "         [0.408722  ],\n",
       "         [0.408722  ],\n",
       "         [0.15955298],\n",
       "         [0.15955298],\n",
       "         [0.53297518],\n",
       "         [0.53297518],\n",
       "         [0.37040589],\n",
       "         [0.37040589],\n",
       "         [0.6191404 ],\n",
       "         [0.6191404 ],\n",
       "         [0.38682207],\n",
       "         [0.38682207],\n",
       "         [0.23074367],\n",
       "         [0.23074367],\n",
       "         [0.45339186],\n",
       "         [0.45339186],\n",
       "         [0.14935239],\n",
       "         [0.14935239],\n",
       "         [0.65905792],\n",
       "         [0.65905792],\n",
       "         [0.90761588],\n",
       "         [0.90761588],\n",
       "         [0.99847705],\n",
       "         [0.99847705],\n",
       "         [0.28388834],\n",
       "         [0.28388834],\n",
       "         [0.96621229],\n",
       "         [0.96621229],\n",
       "         [0.73655246],\n",
       "         [0.73655246],\n",
       "         [0.14143903],\n",
       "         [0.14143903],\n",
       "         [0.02866817],\n",
       "         [0.02866817],\n",
       "         [0.31358369],\n",
       "         [0.31358369],\n",
       "         [0.70297704],\n",
       "         [0.70297704],\n",
       "         [0.9328383 ],\n",
       "         [0.9328383 ],\n",
       "         [0.86298844],\n",
       "         [0.86298844],\n",
       "         [0.66988956],\n",
       "         [0.66988956],\n",
       "         [0.11531549],\n",
       "         [0.11531549],\n",
       "         [0.73006297],\n",
       "         [0.73006297],\n",
       "         [0.31911557],\n",
       "         [0.31911557],\n",
       "         [0.90537224],\n",
       "         [0.90537224],\n",
       "         [0.91209412],\n",
       "         [0.91209412],\n",
       "         [0.10966659],\n",
       "         [0.10966659],\n",
       "         [0.07324189],\n",
       "         [0.07324189],\n",
       "         [0.4510471 ],\n",
       "         [0.4510471 ],\n",
       "         [0.62812515],\n",
       "         [0.62812515],\n",
       "         [0.412957  ],\n",
       "         [0.412957  ],\n",
       "         [0.86366426],\n",
       "         [0.86366426],\n",
       "         [0.32606277],\n",
       "         [0.32606277],\n",
       "         [0.41121375],\n",
       "         [0.41121375],\n",
       "         [0.31643589],\n",
       "         [0.31643589],\n",
       "         [0.39494836],\n",
       "         [0.39494836],\n",
       "         [0.33844894],\n",
       "         [0.33844894],\n",
       "         [0.87917362],\n",
       "         [0.87917362],\n",
       "         [0.98351645],\n",
       "         [0.98351645],\n",
       "         [0.36049744],\n",
       "         [0.36049744],\n",
       "         [0.02852357],\n",
       "         [0.02852357],\n",
       "         [0.92096071],\n",
       "         [0.92096071],\n",
       "         [0.87337286],\n",
       "         [0.87337286],\n",
       "         [0.4704209 ],\n",
       "         [0.4704209 ],\n",
       "         [0.24402148],\n",
       "         [0.24402148],\n",
       "         [0.66381424],\n",
       "         [0.66381424],\n",
       "         [0.45210249],\n",
       "         [0.45210249],\n",
       "         [0.76529655],\n",
       "         [0.76529655],\n",
       "         [0.69796734],\n",
       "         [0.69796734],\n",
       "         [0.03474007],\n",
       "         [0.03474007],\n",
       "         [0.65740176],\n",
       "         [0.65740176],\n",
       "         [0.66342217],\n",
       "         [0.66342217],\n",
       "         [0.9077882 ],\n",
       "         [0.9077882 ],\n",
       "         [0.93247061],\n",
       "         [0.93247061],\n",
       "         [0.27351341],\n",
       "         [0.27351341],\n",
       "         [0.70203271],\n",
       "         [0.70203271],\n",
       "         [0.80241989],\n",
       "         [0.80241989],\n",
       "         [0.96533328],\n",
       "         [0.96533328],\n",
       "         [0.55891027],\n",
       "         [0.55891027]])}}"
      ]
     },
     "execution_count": 1,
     "metadata": {},
     "output_type": "execute_result"
    }
   ],
   "source": [
    "ds = load_by_id(run_id_a)\n",
    "ds.get_parameter_data('x1')"
   ]
  },
  {
   "cell_type": "code",
   "execution_count": null,
   "metadata": {},
   "outputs": [],
   "source": []
  }
 ],
 "metadata": {
  "kernelspec": {
   "display_name": "Python 3",
   "language": "python",
   "name": "python3"
  },
  "language_info": {
   "codemirror_mode": {
    "name": "ipython",
    "version": 3
   },
   "file_extension": ".py",
   "mimetype": "text/x-python",
   "name": "python",
   "nbconvert_exporter": "python",
   "pygments_lexer": "ipython3",
   "version": "3.7.10"
  },
  "nbsphinx": {
   "timeout": 600
  },
  "toc": {
   "base_numbering": 1,
   "nav_menu": {},
   "number_sections": true,
   "sideBar": true,
   "skip_h1_title": false,
   "title_cell": "Table of Contents",
   "title_sidebar": "Contents",
   "toc_cell": false,
   "toc_position": {},
   "toc_section_display": true,
   "toc_window_display": false
  },
  "varInspector": {
   "cols": {
    "lenName": 16,
    "lenType": 16,
    "lenVar": 40
   },
   "kernels_config": {
    "python": {
     "delete_cmd_postfix": "",
     "delete_cmd_prefix": "del ",
     "library": "var_list.py",
     "varRefreshCmd": "print(var_dic_list())"
    },
    "r": {
     "delete_cmd_postfix": ") ",
     "delete_cmd_prefix": "rm(",
     "library": "var_list.r",
     "varRefreshCmd": "cat(var_dic_list()) "
    }
   },
   "types_to_exclude": [
    "module",
    "function",
    "builtin_function_or_method",
    "instance",
    "_Feature"
   ],
   "window_display": false
  }
 },
 "nbformat": 4,
 "nbformat_minor": 2
}
