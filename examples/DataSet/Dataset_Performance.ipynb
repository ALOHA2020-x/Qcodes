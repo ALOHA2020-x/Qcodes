{
 "cells": [
  {
   "cell_type": "markdown",
   "metadata": {},
   "source": [
    "# DataSet Performance\n",
    "\n",
    "This notebook shows the trade-off between inserting data into a database row-by-row and as binary blobs. Inserting the data row-by-row means that we have direct access to all the data and may perform queries directly on the values of the data. On the other hand, as we shall see, this is much slower than inserting the data directly as binary blobs."
   ]
  },
  {
   "cell_type": "markdown",
   "metadata": {},
   "source": [
    "First, we choose a new location for the database to ensure that we don't add a bunch of benchmarking data to the default one."
   ]
  },
  {
   "cell_type": "code",
   "execution_count": 1,
   "metadata": {
    "execution": {
     "iopub.execute_input": "2020-09-18T17:13:27.883736Z",
     "iopub.status.busy": "2020-09-18T17:13:27.883077Z",
     "iopub.status.idle": "2020-09-18T17:13:28.797666Z",
     "shell.execute_reply": "2020-09-18T17:13:28.797205Z"
    }
   },
   "outputs": [
    {
     "name": "stdout",
     "output_type": "stream",
     "text": [
      "Logging hadn't been started.\n",
      "Activating auto-logging. Current session state plus future input saved.\n",
      "Filename       : /home/vsts/.qcodes/logs/command_history.log\n",
      "Mode           : append\n",
      "Output logging : True\n",
      "Raw input log  : False\n",
      "Timestamping   : True\n",
      "State          : active\n"
     ]
    },
    {
     "name": "stdout",
     "output_type": "stream",
     "text": [
      "Qcodes Logfile : /home/vsts/.qcodes/logs/200918-18556-qcodes.log\n"
     ]
    }
   ],
   "source": [
    "import os\n",
    "cwd = os.getcwd()\n",
    "import qcodes as qc\n",
    "qc.config[\"core\"][\"db_location\"] = os.path.join(cwd, 'testing.db')\n"
   ]
  },
  {
   "cell_type": "code",
   "execution_count": 2,
   "metadata": {
    "execution": {
     "iopub.execute_input": "2020-09-18T17:13:28.803763Z",
     "iopub.status.busy": "2020-09-18T17:13:28.801951Z",
     "iopub.status.idle": "2020-09-18T17:13:28.944061Z",
     "shell.execute_reply": "2020-09-18T17:13:28.944628Z"
    }
   },
   "outputs": [],
   "source": [
    "%matplotlib inline\n",
    "import time\n",
    "import matplotlib.pyplot as plt\n",
    "import numpy as np\n",
    "\n",
    "import qcodes as qc\n",
    "from qcodes.instrument.parameter import ManualParameter\n",
    "from qcodes.dataset.experiment_container import (Experiment,\n",
    "                                                 load_last_experiment,\n",
    "                                                 new_experiment)\n",
    "from qcodes.dataset.sqlite.database import initialise_database\n",
    "from qcodes import load_or_create_experiment\n",
    "from qcodes.dataset.measurements import Measurement"
   ]
  },
  {
   "cell_type": "code",
   "execution_count": 3,
   "metadata": {
    "execution": {
     "iopub.execute_input": "2020-09-18T17:13:28.947940Z",
     "iopub.status.busy": "2020-09-18T17:13:28.947256Z",
     "iopub.status.idle": "2020-09-18T17:13:29.020848Z",
     "shell.execute_reply": "2020-09-18T17:13:29.020367Z"
    }
   },
   "outputs": [
    {
     "name": "stdout",
     "output_type": "stream",
     "text": [
      "\r",
      "0it [00:00, ?it/s]"
     ]
    },
    {
     "name": "stdout",
     "output_type": "stream",
     "text": [
      "\r",
      "Upgrading database; v0 -> v1: : 0it [00:00, ?it/s]"
     ]
    },
    {
     "name": "stdout",
     "output_type": "stream",
     "text": [
      "\r",
      "Upgrading database; v0 -> v1: : 0it [00:00, ?it/s]"
     ]
    },
    {
     "name": "stdout",
     "output_type": "stream",
     "text": [
      "\n",
      "\r",
      "  0%|          | 0/1 [00:00<?, ?it/s]"
     ]
    },
    {
     "name": "stdout",
     "output_type": "stream",
     "text": [
      "\r",
      "Upgrading database; v1 -> v2:   0%|          | 0/1 [00:00<?, ?it/s]"
     ]
    },
    {
     "name": "stdout",
     "output_type": "stream",
     "text": [
      "\r",
      "Upgrading database; v1 -> v2: 100%|██████████| 1/1 [00:00<00:00, 468.01it/s]"
     ]
    },
    {
     "name": "stdout",
     "output_type": "stream",
     "text": [
      "\n",
      "\r",
      "0it [00:00, ?it/s]"
     ]
    },
    {
     "name": "stdout",
     "output_type": "stream",
     "text": [
      "\r",
      "Upgrading database; v2 -> v3: : 0it [00:00, ?it/s]"
     ]
    },
    {
     "name": "stdout",
     "output_type": "stream",
     "text": [
      "\r",
      "Upgrading database; v2 -> v3: : 0it [00:00, ?it/s]"
     ]
    },
    {
     "name": "stdout",
     "output_type": "stream",
     "text": [
      "\n",
      "\r",
      "0it [00:00, ?it/s]"
     ]
    },
    {
     "name": "stdout",
     "output_type": "stream",
     "text": [
      "\r",
      "Upgrading database; v3 -> v4: : 0it [00:00, ?it/s]"
     ]
    },
    {
     "name": "stdout",
     "output_type": "stream",
     "text": [
      "\r",
      "Upgrading database; v3 -> v4: : 0it [00:00, ?it/s]"
     ]
    },
    {
     "name": "stdout",
     "output_type": "stream",
     "text": [
      "\n",
      "\r",
      "  0%|          | 0/1 [00:00<?, ?it/s]"
     ]
    },
    {
     "name": "stdout",
     "output_type": "stream",
     "text": [
      "\r",
      "Upgrading database; v4 -> v5:   0%|          | 0/1 [00:00<?, ?it/s]"
     ]
    },
    {
     "name": "stdout",
     "output_type": "stream",
     "text": [
      "\r",
      "Upgrading database; v4 -> v5: 100%|██████████| 1/1 [00:00<00:00, 513.06it/s]"
     ]
    },
    {
     "name": "stdout",
     "output_type": "stream",
     "text": [
      "\n",
      "\r",
      "0it [00:00, ?it/s]"
     ]
    },
    {
     "name": "stdout",
     "output_type": "stream",
     "text": [
      "\r",
      "Upgrading database; v5 -> v6: : 0it [00:00, ?it/s]"
     ]
    },
    {
     "name": "stdout",
     "output_type": "stream",
     "text": [
      "\r",
      "Upgrading database; v5 -> v6: : 0it [00:00, ?it/s]"
     ]
    },
    {
     "name": "stdout",
     "output_type": "stream",
     "text": [
      "\n",
      "\r",
      "  0%|          | 0/1 [00:00<?, ?it/s]"
     ]
    },
    {
     "name": "stdout",
     "output_type": "stream",
     "text": [
      "\r",
      "Upgrading database; v6 -> v7:   0%|          | 0/1 [00:00<?, ?it/s]"
     ]
    },
    {
     "name": "stdout",
     "output_type": "stream",
     "text": [
      "\r",
      "Upgrading database; v6 -> v7: 100%|██████████| 1/1 [00:00<00:00, 280.29it/s]"
     ]
    },
    {
     "name": "stdout",
     "output_type": "stream",
     "text": [
      "\n",
      "\r",
      "  0%|          | 0/1 [00:00<?, ?it/s]"
     ]
    },
    {
     "name": "stdout",
     "output_type": "stream",
     "text": [
      "\r",
      "Upgrading database; v7 -> v8:   0%|          | 0/1 [00:00<?, ?it/s]"
     ]
    },
    {
     "name": "stdout",
     "output_type": "stream",
     "text": [
      "\r",
      "Upgrading database; v7 -> v8: 100%|██████████| 1/1 [00:00<00:00, 440.44it/s]"
     ]
    },
    {
     "name": "stdout",
     "output_type": "stream",
     "text": [
      "\n",
      "\r",
      "  0%|          | 0/1 [00:00<?, ?it/s]"
     ]
    },
    {
     "name": "stdout",
     "output_type": "stream",
     "text": [
      "\r",
      "Upgrading database; v8 -> v9:   0%|          | 0/1 [00:00<?, ?it/s]"
     ]
    },
    {
     "name": "stdout",
     "output_type": "stream",
     "text": [
      "\r",
      "Upgrading database; v8 -> v9: 100%|██████████| 1/1 [00:00<00:00, 385.75it/s]"
     ]
    },
    {
     "name": "stdout",
     "output_type": "stream",
     "text": [
      "\n"
     ]
    }
   ],
   "source": [
    "initialise_database()\n",
    "exp = load_or_create_experiment(experiment_name='tutorial_exp', sample_name=\"no sample\")"
   ]
  },
  {
   "cell_type": "markdown",
   "metadata": {},
   "source": [
    "Here, we define a simple function to benchmark the time it takes to insert n points with either numeric or array data type.\n",
    "We will compare both the time used to call ``add_result`` and the time used for the full measurement."
   ]
  },
  {
   "cell_type": "code",
   "execution_count": 4,
   "metadata": {
    "execution": {
     "iopub.execute_input": "2020-09-18T17:13:29.027092Z",
     "iopub.status.busy": "2020-09-18T17:13:29.026412Z",
     "iopub.status.idle": "2020-09-18T17:13:29.030003Z",
     "shell.execute_reply": "2020-09-18T17:13:29.029537Z"
    }
   },
   "outputs": [],
   "source": [
    "def insert_data(paramtype, npoints, nreps=1):\n",
    "\n",
    "    meas = Measurement(exp=exp)\n",
    "\n",
    "    x1 = ManualParameter('x1')\n",
    "    x2 = ManualParameter('x2')\n",
    "    x3 = ManualParameter('x3')\n",
    "    y1 = ManualParameter('y1')\n",
    "    y2 = ManualParameter('y2')\n",
    "\n",
    "    meas.register_parameter(x1, paramtype=paramtype)\n",
    "    meas.register_parameter(x2, paramtype=paramtype)\n",
    "    meas.register_parameter(x3, paramtype=paramtype)\n",
    "    meas.register_parameter(y1, setpoints=[x1, x2, x3],\n",
    "                            paramtype=paramtype)\n",
    "    meas.register_parameter(y2, setpoints=[x1, x2, x3],\n",
    "                            paramtype=paramtype)\n",
    "    start = time.perf_counter()\n",
    "    with meas.run() as datasaver:\n",
    "        start_adding = time.perf_counter()\n",
    "        for i in range(nreps):\n",
    "            datasaver.add_result((x1, np.random.rand(npoints)),\n",
    "                                 (x2, np.random.rand(npoints)),\n",
    "                                 (x3, np.random.rand(npoints)),\n",
    "                                 (y1, np.random.rand(npoints)),\n",
    "                                 (y2, np.random.rand(npoints)))\n",
    "        stop_adding = time.perf_counter()\n",
    "        run_id = datasaver.run_id\n",
    "    stop = time.perf_counter()\n",
    "    tot_time = stop - start\n",
    "    add_time = stop_adding - start_adding\n",
    "    return tot_time, add_time, run_id"
   ]
  },
  {
   "cell_type": "markdown",
   "metadata": {},
   "source": [
    "## Comparison between numeric/array data and binary blob"
   ]
  },
  {
   "cell_type": "markdown",
   "metadata": {},
   "source": [
    "### Case1: Short experiment time"
   ]
  },
  {
   "cell_type": "code",
   "execution_count": 5,
   "metadata": {
    "execution": {
     "iopub.execute_input": "2020-09-18T17:13:29.035009Z",
     "iopub.status.busy": "2020-09-18T17:13:29.033846Z",
     "iopub.status.idle": "2020-09-18T17:13:29.742860Z",
     "shell.execute_reply": "2020-09-18T17:13:29.742116Z"
    }
   },
   "outputs": [
    {
     "name": "stdout",
     "output_type": "stream",
     "text": [
      "Starting experimental run with id: 1. \n",
      "Starting experimental run with id: 2. \n",
      "Starting experimental run with id: 3. \n",
      "Starting experimental run with id: 4. \n",
      "Starting experimental run with id: 5. \n"
     ]
    },
    {
     "name": "stdout",
     "output_type": "stream",
     "text": [
      "Starting experimental run with id: 6. \n"
     ]
    },
    {
     "name": "stdout",
     "output_type": "stream",
     "text": [
      "Starting experimental run with id: 7. \n"
     ]
    },
    {
     "name": "stdout",
     "output_type": "stream",
     "text": [
      "Starting experimental run with id: 8. \n",
      "Starting experimental run with id: 9. \n"
     ]
    },
    {
     "name": "stdout",
     "output_type": "stream",
     "text": [
      "Starting experimental run with id: 10. \n"
     ]
    },
    {
     "name": "stdout",
     "output_type": "stream",
     "text": [
      "Starting experimental run with id: 11. \n"
     ]
    },
    {
     "name": "stdout",
     "output_type": "stream",
     "text": [
      "Starting experimental run with id: 12. \n",
      "Starting experimental run with id: 13. \n"
     ]
    },
    {
     "name": "stdout",
     "output_type": "stream",
     "text": [
      "Starting experimental run with id: 14. \n"
     ]
    }
   ],
   "source": [
    "sizes = [1,500,1000,2000,3000,4000,5000]\n",
    "t_numeric = []\n",
    "t_numeric_add = []\n",
    "t_array = []\n",
    "t_array_add = []\n",
    "for size in sizes:\n",
    "    tn, tna, run_id_n =  insert_data('numeric', size)\n",
    "    t_numeric.append(tn)\n",
    "    t_numeric_add.append(tna)\n",
    "\n",
    "    ta, taa, run_id_a =  insert_data('array', size)\n",
    "    t_array.append(ta)\n",
    "    t_array_add.append(taa)"
   ]
  },
  {
   "cell_type": "code",
   "execution_count": 6,
   "metadata": {
    "execution": {
     "iopub.execute_input": "2020-09-18T17:13:29.748524Z",
     "iopub.status.busy": "2020-09-18T17:13:29.747716Z",
     "iopub.status.idle": "2020-09-18T17:13:29.973804Z",
     "shell.execute_reply": "2020-09-18T17:13:29.973205Z"
    }
   },
   "outputs": [
    {
     "data": {
      "image/png": "[encoded data removed]",
      "text/plain": [
       "<Figure size 432x288 with 1 Axes>"
      ]
     },
     "metadata": {
      "needs_background": "light"
     },
     "output_type": "display_data"
    }
   ],
   "source": [
    "fig, ax = plt.subplots(1,1)\n",
    "ax.plot(sizes, t_numeric, 'o-', label='Inserting row-by-row')\n",
    "ax.plot(sizes, t_numeric_add, 'o-', label='Inserting row-by-row: add_result only')\n",
    "ax.plot(sizes, t_array, 'd-', label='Inserting as binary blob')\n",
    "ax.plot(sizes, t_array_add, 'd-', label='Inserting as binary blob: add_result only')\n",
    "ax.legend()\n",
    "ax.set_xlabel('Array length')\n",
    "ax.set_ylabel('Time (s)')\n",
    "fig.tight_layout()"
   ]
  },
  {
   "cell_type": "markdown",
   "metadata": {},
   "source": [
    "As shown in the latter figure, the time to setup and and close the experiment is approximately 0.4 sec. In case of small array sizes, the difference between inserting values of data as arrays and inserting them row-by-row is relatively unimportant. At larger array sizes, i.e. above 10000 points, the cost of writing data as individual datapoints starts to become important.\n"
   ]
  },
  {
   "cell_type": "markdown",
   "metadata": {},
   "source": [
    "### Case2: Long experiment time "
   ]
  },
  {
   "cell_type": "code",
   "execution_count": 7,
   "metadata": {
    "execution": {
     "iopub.execute_input": "2020-09-18T17:13:29.979090Z",
     "iopub.status.busy": "2020-09-18T17:13:29.978001Z",
     "iopub.status.idle": "2020-09-18T17:14:20.418822Z",
     "shell.execute_reply": "2020-09-18T17:14:20.419250Z"
    }
   },
   "outputs": [
    {
     "name": "stdout",
     "output_type": "stream",
     "text": [
      "Starting experimental run with id: 15. \n",
      "Starting experimental run with id: 16. \n",
      "Starting experimental run with id: 17. \n"
     ]
    },
    {
     "name": "stdout",
     "output_type": "stream",
     "text": [
      "Starting experimental run with id: 18. \n",
      "Starting experimental run with id: 19. \n"
     ]
    },
    {
     "name": "stdout",
     "output_type": "stream",
     "text": [
      "Starting experimental run with id: 20. \n"
     ]
    },
    {
     "name": "stdout",
     "output_type": "stream",
     "text": [
      "Starting experimental run with id: 21. \n"
     ]
    },
    {
     "name": "stdout",
     "output_type": "stream",
     "text": [
      "Starting experimental run with id: 22. \n"
     ]
    },
    {
     "name": "stdout",
     "output_type": "stream",
     "text": [
      "Starting experimental run with id: 23. \n"
     ]
    },
    {
     "name": "stdout",
     "output_type": "stream",
     "text": [
      "Starting experimental run with id: 24. \n"
     ]
    },
    {
     "name": "stdout",
     "output_type": "stream",
     "text": [
      "Starting experimental run with id: 25. \n"
     ]
    },
    {
     "name": "stdout",
     "output_type": "stream",
     "text": [
      "Starting experimental run with id: 26. \n"
     ]
    },
    {
     "name": "stdout",
     "output_type": "stream",
     "text": [
      "Starting experimental run with id: 27. \n"
     ]
    },
    {
     "name": "stdout",
     "output_type": "stream",
     "text": [
      "Starting experimental run with id: 28. \n"
     ]
    }
   ],
   "source": [
    "sizes = [1,500,1000,2000,3000,4000,5000]\n",
    "nreps = 100\n",
    "t_numeric = []\n",
    "t_numeric_add = []\n",
    "t_numeric_run_ids = []\n",
    "t_array = []\n",
    "t_array_add = []\n",
    "t_array_run_ids = []\n",
    "for size in sizes:\n",
    "    tn, tna, run_id_n =  insert_data('numeric', size, nreps=nreps)\n",
    "    t_numeric.append(tn)\n",
    "    t_numeric_add.append(tna)\n",
    "    t_numeric_run_ids.append(run_id_n)\n",
    "\n",
    "    ta, taa, run_id_a =  insert_data('array', size, nreps=nreps)\n",
    "    t_array.append(ta)\n",
    "    t_array_add.append(taa)\n",
    "    t_array_run_ids.append(run_id_a)"
   ]
  },
  {
   "cell_type": "code",
   "execution_count": 8,
   "metadata": {
    "execution": {
     "iopub.execute_input": "2020-09-18T17:14:20.433158Z",
     "iopub.status.busy": "2020-09-18T17:14:20.430475Z",
     "iopub.status.idle": "2020-09-18T17:14:20.638575Z",
     "shell.execute_reply": "2020-09-18T17:14:20.638988Z"
    },
    "scrolled": true
   },
   "outputs": [
    {
     "data": {
      "image/png": "[encoded data removed]",
      "text/plain": [
       "<Figure size 432x288 with 1 Axes>"
      ]
     },
     "metadata": {
      "needs_background": "light"
     },
     "output_type": "display_data"
    }
   ],
   "source": [
    "fig, ax = plt.subplots(1,1)\n",
    "ax.plot(sizes, t_numeric, 'o-', label='Inserting row-by-row')\n",
    "ax.plot(sizes, t_numeric_add, 'o-', label='Inserting row-by-row: add_result only')\n",
    "ax.plot(sizes, t_array, 'd-', label='Inserting as binary blob')\n",
    "ax.plot(sizes, t_array_add, 'd-', label='Inserting as binary blob: add_result only')\n",
    "ax.legend()\n",
    "ax.set_xlabel('Array length')\n",
    "ax.set_ylabel('Time (s)')\n",
    "fig.tight_layout()"
   ]
  },
  {
   "cell_type": "markdown",
   "metadata": {},
   "source": [
    "However, as we increase the length of the experiment, as seen here by repeating the insertion 100 times, we see a big difference between inserting values of the data row-by-row and inserting it as a binary blob."
   ]
  },
  {
   "cell_type": "markdown",
   "metadata": {},
   "source": [
    "## Loading the data "
   ]
  },
  {
   "cell_type": "code",
   "execution_count": 9,
   "metadata": {
    "execution": {
     "iopub.execute_input": "2020-09-18T17:14:20.642458Z",
     "iopub.status.busy": "2020-09-18T17:14:20.641657Z",
     "iopub.status.idle": "2020-09-18T17:14:20.645226Z",
     "shell.execute_reply": "2020-09-18T17:14:20.644796Z"
    }
   },
   "outputs": [],
   "source": [
    "from qcodes.dataset.data_set import load_by_id\n",
    "from qcodes.dataset.data_export import get_data_by_id"
   ]
  },
  {
   "cell_type": "markdown",
   "metadata": {},
   "source": [
    "As usual you can load the data by using the ``load_by_id`` function but you will notice that the different storage methods\n",
    "are reflected in shape of the data as it is retrieved. "
   ]
  },
  {
   "cell_type": "code",
   "execution_count": 10,
   "metadata": {
    "execution": {
     "iopub.execute_input": "2020-09-18T17:14:20.649558Z",
     "iopub.status.busy": "2020-09-18T17:14:20.648084Z",
     "iopub.status.idle": "2020-09-18T17:14:20.650036Z",
     "shell.execute_reply": "2020-09-18T17:14:20.650503Z"
    }
   },
   "outputs": [],
   "source": [
    "run_id_n = t_numeric_run_ids[0]\n",
    "run_id_a = t_array_run_ids[0]"
   ]
  },
  {
   "cell_type": "code",
   "execution_count": 11,
   "metadata": {
    "execution": {
     "iopub.execute_input": "2020-09-18T17:14:20.653367Z",
     "iopub.status.busy": "2020-09-18T17:14:20.652786Z",
     "iopub.status.idle": "2020-09-18T17:14:20.664248Z",
     "shell.execute_reply": "2020-09-18T17:14:20.664889Z"
    },
    "scrolled": true
   },
   "outputs": [
    {
     "data": {
      "text/plain": [
       "{'x1': {'x1': array([0.17042887, 0.17042887, 0.75167363, 0.75167363, 0.2858957 ,\n",
       "         0.2858957 , 0.08569667, 0.08569667, 0.3414307 , 0.3414307 ,\n",
       "         0.74371636, 0.74371636, 0.19230426, 0.19230426, 0.77444853,\n",
       "         0.77444853, 0.9407489 , 0.9407489 , 0.07399261, 0.07399261,\n",
       "         0.93803586, 0.93803586, 0.1234213 , 0.1234213 , 0.85550827,\n",
       "         0.85550827, 0.31377052, 0.31377052, 0.21975736, 0.21975736,\n",
       "         0.21558808, 0.21558808, 0.30278898, 0.30278898, 0.28366899,\n",
       "         0.28366899, 0.55478496, 0.55478496, 0.35628385, 0.35628385,\n",
       "         0.76083332, 0.76083332, 0.92127514, 0.92127514, 0.84018473,\n",
       "         0.84018473, 0.7264476 , 0.7264476 , 0.99422529, 0.99422529,\n",
       "         0.54494864, 0.54494864, 0.44103338, 0.44103338, 0.53918886,\n",
       "         0.53918886, 0.42673486, 0.42673486, 0.44209224, 0.44209224,\n",
       "         0.8752695 , 0.8752695 , 0.71416306, 0.71416306, 0.24643954,\n",
       "         0.24643954, 0.64411724, 0.64411724, 0.82180902, 0.82180902,\n",
       "         0.98810492, 0.98810492, 0.5480901 , 0.5480901 , 0.46652236,\n",
       "         0.46652236, 0.95906167, 0.95906167, 0.06186482, 0.06186482,\n",
       "         0.99656561, 0.99656561, 0.09320303, 0.09320303, 0.48063246,\n",
       "         0.48063246, 0.6163778 , 0.6163778 , 0.34826729, 0.34826729,\n",
       "         0.34821755, 0.34821755, 0.70615312, 0.70615312, 0.30288805,\n",
       "         0.30288805, 0.37677112, 0.37677112, 0.18765049, 0.18765049,\n",
       "         0.96033132, 0.96033132, 0.95287602, 0.95287602, 0.08024032,\n",
       "         0.08024032, 0.34831143, 0.34831143, 0.95996464, 0.95996464,\n",
       "         0.13998454, 0.13998454, 0.71676857, 0.71676857, 0.68547329,\n",
       "         0.68547329, 0.94884481, 0.94884481, 0.00985278, 0.00985278,\n",
       "         0.78709772, 0.78709772, 0.01932738, 0.01932738, 0.81340825,\n",
       "         0.81340825, 0.60672173, 0.60672173, 0.71313422, 0.71313422,\n",
       "         0.6262047 , 0.6262047 , 0.60707536, 0.60707536, 0.87201596,\n",
       "         0.87201596, 0.48701582, 0.48701582, 0.29968073, 0.29968073,\n",
       "         0.25690594, 0.25690594, 0.13910485, 0.13910485, 0.34712663,\n",
       "         0.34712663, 0.26412261, 0.26412261, 0.31192517, 0.31192517,\n",
       "         0.71822195, 0.71822195, 0.19614535, 0.19614535, 0.596836  ,\n",
       "         0.596836  , 0.61333424, 0.61333424, 0.27741823, 0.27741823,\n",
       "         0.10994661, 0.10994661, 0.60226166, 0.60226166, 0.30613417,\n",
       "         0.30613417, 0.006092  , 0.006092  , 0.71928117, 0.71928117,\n",
       "         0.3726352 , 0.3726352 , 0.78477287, 0.78477287, 0.1449325 ,\n",
       "         0.1449325 , 0.15127117, 0.15127117, 0.04116552, 0.04116552,\n",
       "         0.17810206, 0.17810206, 0.24196493, 0.24196493, 0.17529042,\n",
       "         0.17529042, 0.29097652, 0.29097652, 0.62651749, 0.62651749,\n",
       "         0.93816008, 0.93816008, 0.09678881, 0.09678881, 0.77377334,\n",
       "         0.77377334, 0.51915163, 0.51915163, 0.68759048, 0.68759048])}}"
      ]
     },
     "execution_count": 1,
     "metadata": {},
     "output_type": "execute_result"
    }
   ],
   "source": [
    "ds = load_by_id(run_id_n)\n",
    "ds.get_parameter_data('x1')"
   ]
  },
  {
   "cell_type": "markdown",
   "metadata": {},
   "source": [
    "And a dataset stored as binary arrays"
   ]
  },
  {
   "cell_type": "code",
   "execution_count": 12,
   "metadata": {
    "execution": {
     "iopub.execute_input": "2020-09-18T17:14:20.668919Z",
     "iopub.status.busy": "2020-09-18T17:14:20.668160Z",
     "iopub.status.idle": "2020-09-18T17:14:20.728399Z",
     "shell.execute_reply": "2020-09-18T17:14:20.728941Z"
    },
    "scrolled": true
   },
   "outputs": [
    {
     "data": {
      "text/plain": [
       "{'x1': {'x1': array([[0.00327835],\n",
       "         [0.00327835],\n",
       "         [0.7524877 ],\n",
       "         [0.7524877 ],\n",
       "         [0.80252468],\n",
       "         [0.80252468],\n",
       "         [0.01202983],\n",
       "         [0.01202983],\n",
       "         [0.36804434],\n",
       "         [0.36804434],\n",
       "         [0.06158115],\n",
       "         [0.06158115],\n",
       "         [0.59892761],\n",
       "         [0.59892761],\n",
       "         [0.27687253],\n",
       "         [0.27687253],\n",
       "         [0.72115911],\n",
       "         [0.72115911],\n",
       "         [0.68843942],\n",
       "         [0.68843942],\n",
       "         [0.02748423],\n",
       "         [0.02748423],\n",
       "         [0.300283  ],\n",
       "         [0.300283  ],\n",
       "         [0.54292283],\n",
       "         [0.54292283],\n",
       "         [0.96475178],\n",
       "         [0.96475178],\n",
       "         [0.97986361],\n",
       "         [0.97986361],\n",
       "         [0.65860105],\n",
       "         [0.65860105],\n",
       "         [0.89137589],\n",
       "         [0.89137589],\n",
       "         [0.00957739],\n",
       "         [0.00957739],\n",
       "         [0.59028013],\n",
       "         [0.59028013],\n",
       "         [0.78184417],\n",
       "         [0.78184417],\n",
       "         [0.87018634],\n",
       "         [0.87018634],\n",
       "         [0.64074445],\n",
       "         [0.64074445],\n",
       "         [0.46239546],\n",
       "         [0.46239546],\n",
       "         [0.40578048],\n",
       "         [0.40578048],\n",
       "         [0.03834481],\n",
       "         [0.03834481],\n",
       "         [0.05368425],\n",
       "         [0.05368425],\n",
       "         [0.92227685],\n",
       "         [0.92227685],\n",
       "         [0.17198674],\n",
       "         [0.17198674],\n",
       "         [0.21014834],\n",
       "         [0.21014834],\n",
       "         [0.51735669],\n",
       "         [0.51735669],\n",
       "         [0.68568782],\n",
       "         [0.68568782],\n",
       "         [0.81185542],\n",
       "         [0.81185542],\n",
       "         [0.94139682],\n",
       "         [0.94139682],\n",
       "         [0.80290309],\n",
       "         [0.80290309],\n",
       "         [0.54448993],\n",
       "         [0.54448993],\n",
       "         [0.42303708],\n",
       "         [0.42303708],\n",
       "         [0.76197695],\n",
       "         [0.76197695],\n",
       "         [0.29006983],\n",
       "         [0.29006983],\n",
       "         [0.71914308],\n",
       "         [0.71914308],\n",
       "         [0.17325421],\n",
       "         [0.17325421],\n",
       "         [0.51003188],\n",
       "         [0.51003188],\n",
       "         [0.0379683 ],\n",
       "         [0.0379683 ],\n",
       "         [0.11346444],\n",
       "         [0.11346444],\n",
       "         [0.64818803],\n",
       "         [0.64818803],\n",
       "         [0.26585189],\n",
       "         [0.26585189],\n",
       "         [0.63084565],\n",
       "         [0.63084565],\n",
       "         [0.32663442],\n",
       "         [0.32663442],\n",
       "         [0.8695161 ],\n",
       "         [0.8695161 ],\n",
       "         [0.06877187],\n",
       "         [0.06877187],\n",
       "         [0.77264165],\n",
       "         [0.77264165],\n",
       "         [0.39639652],\n",
       "         [0.39639652],\n",
       "         [0.78769555],\n",
       "         [0.78769555],\n",
       "         [0.35211818],\n",
       "         [0.35211818],\n",
       "         [0.4145198 ],\n",
       "         [0.4145198 ],\n",
       "         [0.1224938 ],\n",
       "         [0.1224938 ],\n",
       "         [0.28966066],\n",
       "         [0.28966066],\n",
       "         [0.07712716],\n",
       "         [0.07712716],\n",
       "         [0.25734971],\n",
       "         [0.25734971],\n",
       "         [0.99267336],\n",
       "         [0.99267336],\n",
       "         [0.7306199 ],\n",
       "         [0.7306199 ],\n",
       "         [0.44158886],\n",
       "         [0.44158886],\n",
       "         [0.14487486],\n",
       "         [0.14487486],\n",
       "         [0.40416047],\n",
       "         [0.40416047],\n",
       "         [0.97841817],\n",
       "         [0.97841817],\n",
       "         [0.43204748],\n",
       "         [0.43204748],\n",
       "         [0.97301873],\n",
       "         [0.97301873],\n",
       "         [0.62249782],\n",
       "         [0.62249782],\n",
       "         [0.94477689],\n",
       "         [0.94477689],\n",
       "         [0.17172453],\n",
       "         [0.17172453],\n",
       "         [0.91443696],\n",
       "         [0.91443696],\n",
       "         [0.81517361],\n",
       "         [0.81517361],\n",
       "         [0.01565782],\n",
       "         [0.01565782],\n",
       "         [0.85734174],\n",
       "         [0.85734174],\n",
       "         [0.75822915],\n",
       "         [0.75822915],\n",
       "         [0.33284931],\n",
       "         [0.33284931],\n",
       "         [0.20846814],\n",
       "         [0.20846814],\n",
       "         [0.83347877],\n",
       "         [0.83347877],\n",
       "         [0.55044791],\n",
       "         [0.55044791],\n",
       "         [0.12874885],\n",
       "         [0.12874885],\n",
       "         [0.29722803],\n",
       "         [0.29722803],\n",
       "         [0.18187402],\n",
       "         [0.18187402],\n",
       "         [0.94489507],\n",
       "         [0.94489507],\n",
       "         [0.21980002],\n",
       "         [0.21980002],\n",
       "         [0.80940964],\n",
       "         [0.80940964],\n",
       "         [0.56741852],\n",
       "         [0.56741852],\n",
       "         [0.46674522],\n",
       "         [0.46674522],\n",
       "         [0.61517315],\n",
       "         [0.61517315],\n",
       "         [0.38633234],\n",
       "         [0.38633234],\n",
       "         [0.74536434],\n",
       "         [0.74536434],\n",
       "         [0.88689617],\n",
       "         [0.88689617],\n",
       "         [0.91441151],\n",
       "         [0.91441151],\n",
       "         [0.7101654 ],\n",
       "         [0.7101654 ],\n",
       "         [0.16265169],\n",
       "         [0.16265169],\n",
       "         [0.81610598],\n",
       "         [0.81610598],\n",
       "         [0.33117378],\n",
       "         [0.33117378],\n",
       "         [0.67315166],\n",
       "         [0.67315166],\n",
       "         [0.42936041],\n",
       "         [0.42936041],\n",
       "         [0.17624064],\n",
       "         [0.17624064],\n",
       "         [0.59930109],\n",
       "         [0.59930109],\n",
       "         [0.14613701],\n",
       "         [0.14613701]])}}"
      ]
     },
     "execution_count": 1,
     "metadata": {},
     "output_type": "execute_result"
    }
   ],
   "source": [
    "ds = load_by_id(run_id_a)\n",
    "ds.get_parameter_data('x1')"
   ]
  },
  {
   "cell_type": "code",
   "execution_count": null,
   "metadata": {},
   "outputs": [],
   "source": []
  }
 ],
 "metadata": {
  "kernelspec": {
   "display_name": "Python 3",
   "language": "python",
   "name": "python3"
  },
  "language_info": {
   "codemirror_mode": {
    "name": "ipython",
    "version": 3
   },
   "file_extension": ".py",
   "mimetype": "text/x-python",
   "name": "python",
   "nbconvert_exporter": "python",
   "pygments_lexer": "ipython3",
   "version": "3.7.7"
  },
  "nbsphinx": {
   "timeout": 600
  },
  "toc": {
   "base_numbering": 1,
   "nav_menu": {},
   "number_sections": true,
   "sideBar": true,
   "skip_h1_title": false,
   "title_cell": "Table of Contents",
   "title_sidebar": "Contents",
   "toc_cell": false,
   "toc_position": {},
   "toc_section_display": true,
   "toc_window_display": false
  },
  "varInspector": {
   "cols": {
    "lenName": 16,
    "lenType": 16,
    "lenVar": 40
   },
   "kernels_config": {
    "python": {
     "delete_cmd_postfix": "",
     "delete_cmd_prefix": "del ",
     "library": "var_list.py",
     "varRefreshCmd": "print(var_dic_list())"
    },
    "r": {
     "delete_cmd_postfix": ") ",
     "delete_cmd_prefix": "rm(",
     "library": "var_list.r",
     "varRefreshCmd": "cat(var_dic_list()) "
    }
   },
   "types_to_exclude": [
    "module",
    "function",
    "builtin_function_or_method",
    "instance",
    "_Feature"
   ],
   "window_display": false
  }
 },
 "nbformat": 4,
 "nbformat_minor": 2
}
