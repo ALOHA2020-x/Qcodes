{
 "cells": [
  {
   "cell_type": "markdown",
   "metadata": {},
   "source": [
    "# DataSet Performance\n",
    "\n",
    "This notebook shows the trade-off between inserting data into a database row-by-row and as binary blobs. Inserting the data row-by-row means that we have direct access to all the data and may perform queries directly on the values of the data. On the other hand, as we shall see, this is much slower than inserting the data directly as binary blobs."
   ]
  },
  {
   "cell_type": "markdown",
   "metadata": {},
   "source": [
    "First, we choose a new location for the database to ensure that we don't add a bunch of benchmarking data to the default one."
   ]
  },
  {
   "cell_type": "code",
   "execution_count": 1,
   "metadata": {},
   "outputs": [
    {
     "name": "stdout",
     "output_type": "stream",
     "text": [
      "Logging hadn't been started.\n",
      "Activating auto-logging. Current session state plus future input saved.\n",
      "Filename       : /home/vsts/.qcodes/logs/command_history.log\n",
      "Mode           : append\n",
      "Output logging : True\n",
      "Raw input log  : False\n",
      "Timestamping   : True\n",
      "State          : active\n"
     ]
    },
    {
     "name": "stdout",
     "output_type": "stream",
     "text": [
      "Qcodes Logfile : /home/vsts/.qcodes/logs/200609-19222-qcodes.log\n"
     ]
    }
   ],
   "source": [
    "import os\n",
    "cwd = os.getcwd()\n",
    "import qcodes as qc\n",
    "qc.config[\"core\"][\"db_location\"] = os.path.join(cwd, 'testing.db')\n"
   ]
  },
  {
   "cell_type": "code",
   "execution_count": 2,
   "metadata": {},
   "outputs": [],
   "source": [
    "%matplotlib inline\n",
    "import time\n",
    "import matplotlib.pyplot as plt\n",
    "import numpy as np\n",
    "\n",
    "import qcodes as qc\n",
    "from qcodes.instrument.parameter import ManualParameter\n",
    "from qcodes.dataset.experiment_container import (Experiment,\n",
    "                                                 load_last_experiment,\n",
    "                                                 new_experiment)\n",
    "from qcodes.dataset.sqlite.database import initialise_database\n",
    "from qcodes import load_or_create_experiment\n",
    "from qcodes.dataset.measurements import Measurement"
   ]
  },
  {
   "cell_type": "code",
   "execution_count": 3,
   "metadata": {},
   "outputs": [
    {
     "name": "stdout",
     "output_type": "stream",
     "text": [
      "\r",
      "0it [00:00, ?it/s]"
     ]
    },
    {
     "name": "stdout",
     "output_type": "stream",
     "text": [
      "\r",
      "Upgrading database; v0 -> v1: : 0it [00:00, ?it/s]"
     ]
    },
    {
     "name": "stdout",
     "output_type": "stream",
     "text": [
      "\r",
      "Upgrading database; v0 -> v1: : 0it [00:00, ?it/s]"
     ]
    },
    {
     "name": "stdout",
     "output_type": "stream",
     "text": [
      "\n",
      "\r",
      "  0%|          | 0/1 [00:00<?, ?it/s]"
     ]
    },
    {
     "name": "stdout",
     "output_type": "stream",
     "text": [
      "\r",
      "Upgrading database; v1 -> v2:   0%|          | 0/1 [00:00<?, ?it/s]"
     ]
    },
    {
     "name": "stdout",
     "output_type": "stream",
     "text": [
      "\r",
      "Upgrading database; v1 -> v2: 100%|██████████| 1/1 [00:00<00:00, 697.89it/s]"
     ]
    },
    {
     "name": "stdout",
     "output_type": "stream",
     "text": [
      "\n",
      "\r",
      "0it [00:00, ?it/s]"
     ]
    },
    {
     "name": "stdout",
     "output_type": "stream",
     "text": [
      "\r",
      "Upgrading database; v2 -> v3: : 0it [00:00, ?it/s]"
     ]
    },
    {
     "name": "stdout",
     "output_type": "stream",
     "text": [
      "\r",
      "Upgrading database; v2 -> v3: : 0it [00:00, ?it/s]"
     ]
    },
    {
     "name": "stdout",
     "output_type": "stream",
     "text": [
      "\n",
      "\r",
      "0it [00:00, ?it/s]"
     ]
    },
    {
     "name": "stdout",
     "output_type": "stream",
     "text": [
      "\r",
      "Upgrading database; v3 -> v4: : 0it [00:00, ?it/s]"
     ]
    },
    {
     "name": "stdout",
     "output_type": "stream",
     "text": [
      "\r",
      "Upgrading database; v3 -> v4: : 0it [00:00, ?it/s]"
     ]
    },
    {
     "name": "stdout",
     "output_type": "stream",
     "text": [
      "\n",
      "\r",
      "  0%|          | 0/1 [00:00<?, ?it/s]"
     ]
    },
    {
     "name": "stdout",
     "output_type": "stream",
     "text": [
      "\r",
      "Upgrading database; v4 -> v5:   0%|          | 0/1 [00:00<?, ?it/s]"
     ]
    },
    {
     "name": "stdout",
     "output_type": "stream",
     "text": [
      "\r",
      "Upgrading database; v4 -> v5: 100%|██████████| 1/1 [00:00<00:00, 849.22it/s]"
     ]
    },
    {
     "name": "stdout",
     "output_type": "stream",
     "text": [
      "\n",
      "\r",
      "0it [00:00, ?it/s]"
     ]
    },
    {
     "name": "stdout",
     "output_type": "stream",
     "text": [
      "\r",
      "Upgrading database; v5 -> v6: : 0it [00:00, ?it/s]"
     ]
    },
    {
     "name": "stdout",
     "output_type": "stream",
     "text": [
      "\r",
      "Upgrading database; v5 -> v6: : 0it [00:00, ?it/s]"
     ]
    },
    {
     "name": "stdout",
     "output_type": "stream",
     "text": [
      "\n",
      "\r",
      "  0%|          | 0/1 [00:00<?, ?it/s]"
     ]
    },
    {
     "name": "stdout",
     "output_type": "stream",
     "text": [
      "\r",
      "Upgrading database; v6 -> v7:   0%|          | 0/1 [00:00<?, ?it/s]"
     ]
    },
    {
     "name": "stdout",
     "output_type": "stream",
     "text": [
      "\r",
      "Upgrading database; v6 -> v7: 100%|██████████| 1/1 [00:00<00:00, 429.88it/s]"
     ]
    },
    {
     "name": "stdout",
     "output_type": "stream",
     "text": [
      "\n",
      "\r",
      "  0%|          | 0/1 [00:00<?, ?it/s]"
     ]
    },
    {
     "name": "stdout",
     "output_type": "stream",
     "text": [
      "\r",
      "Upgrading database; v7 -> v8:   0%|          | 0/1 [00:00<?, ?it/s]"
     ]
    },
    {
     "name": "stdout",
     "output_type": "stream",
     "text": [
      "\r",
      "Upgrading database; v7 -> v8: 100%|██████████| 1/1 [00:00<00:00, 916.39it/s]"
     ]
    },
    {
     "name": "stdout",
     "output_type": "stream",
     "text": [
      "\n",
      "\r",
      "  0%|          | 0/1 [00:00<?, ?it/s]"
     ]
    },
    {
     "name": "stdout",
     "output_type": "stream",
     "text": [
      "\r",
      "Upgrading database; v8 -> v9:   0%|          | 0/1 [00:00<?, ?it/s]"
     ]
    },
    {
     "name": "stdout",
     "output_type": "stream",
     "text": [
      "\r",
      "Upgrading database; v8 -> v9: 100%|██████████| 1/1 [00:00<00:00, 1141.31it/s]"
     ]
    },
    {
     "name": "stdout",
     "output_type": "stream",
     "text": [
      "\n"
     ]
    }
   ],
   "source": [
    "initialise_database()\n",
    "exp = load_or_create_experiment(experiment_name='tutorial_exp', sample_name=\"no sample\")"
   ]
  },
  {
   "cell_type": "markdown",
   "metadata": {},
   "source": [
    "Here, we define a simple function to benchmark the time it takes to insert n points with either numeric or array data type.\n",
    "We will compare both the time used to call ``add_result`` and the time used for the full measurement."
   ]
  },
  {
   "cell_type": "code",
   "execution_count": 4,
   "metadata": {},
   "outputs": [],
   "source": [
    "def insert_data(paramtype, npoints, nreps=1):\n",
    "\n",
    "    meas = Measurement(exp=exp)\n",
    "\n",
    "    x1 = ManualParameter('x1')\n",
    "    x2 = ManualParameter('x2')\n",
    "    x3 = ManualParameter('x3')\n",
    "    y1 = ManualParameter('y1')\n",
    "    y2 = ManualParameter('y2')\n",
    "\n",
    "    meas.register_parameter(x1, paramtype=paramtype)\n",
    "    meas.register_parameter(x2, paramtype=paramtype)\n",
    "    meas.register_parameter(x3, paramtype=paramtype)\n",
    "    meas.register_parameter(y1, setpoints=[x1, x2, x3],\n",
    "                            paramtype=paramtype)\n",
    "    meas.register_parameter(y2, setpoints=[x1, x2, x3],\n",
    "                            paramtype=paramtype)\n",
    "    start = time.perf_counter()\n",
    "    with meas.run() as datasaver:\n",
    "        start_adding = time.perf_counter()\n",
    "        for i in range(nreps):\n",
    "            datasaver.add_result((x1, np.random.rand(npoints)),\n",
    "                                 (x2, np.random.rand(npoints)),\n",
    "                                 (x3, np.random.rand(npoints)),\n",
    "                                 (y1, np.random.rand(npoints)),\n",
    "                                 (y2, np.random.rand(npoints)))\n",
    "        stop_adding = time.perf_counter()\n",
    "        run_id = datasaver.run_id\n",
    "    stop = time.perf_counter()\n",
    "    tot_time = stop - start\n",
    "    add_time = stop_adding - start_adding\n",
    "    return tot_time, add_time, run_id"
   ]
  },
  {
   "cell_type": "markdown",
   "metadata": {},
   "source": [
    "## Comparison between numeric/array data and binary blob"
   ]
  },
  {
   "cell_type": "markdown",
   "metadata": {},
   "source": [
    "### Case1: Short experiment time"
   ]
  },
  {
   "cell_type": "code",
   "execution_count": 5,
   "metadata": {},
   "outputs": [
    {
     "name": "stdout",
     "output_type": "stream",
     "text": [
      "Starting experimental run with id: 1. \n",
      "Starting experimental run with id: 2. \n",
      "Starting experimental run with id: 3. \n",
      "Starting experimental run with id: 4. \n",
      "Starting experimental run with id: 5. \n"
     ]
    },
    {
     "name": "stdout",
     "output_type": "stream",
     "text": [
      "Starting experimental run with id: 6. \n"
     ]
    },
    {
     "name": "stdout",
     "output_type": "stream",
     "text": [
      "Starting experimental run with id: 7. \n"
     ]
    },
    {
     "name": "stdout",
     "output_type": "stream",
     "text": [
      "Starting experimental run with id: 8. \n",
      "Starting experimental run with id: 9. \n"
     ]
    },
    {
     "name": "stdout",
     "output_type": "stream",
     "text": [
      "Starting experimental run with id: 10. \n"
     ]
    },
    {
     "name": "stdout",
     "output_type": "stream",
     "text": [
      "Starting experimental run with id: 11. \n"
     ]
    },
    {
     "name": "stdout",
     "output_type": "stream",
     "text": [
      "Starting experimental run with id: 12. \n",
      "Starting experimental run with id: 13. \n"
     ]
    },
    {
     "name": "stdout",
     "output_type": "stream",
     "text": [
      "Starting experimental run with id: 14. \n"
     ]
    }
   ],
   "source": [
    "sizes = [1,500,1000,2000,3000,4000,5000]\n",
    "t_numeric = []\n",
    "t_numeric_add = []\n",
    "t_array = []\n",
    "t_array_add = []\n",
    "for size in sizes:\n",
    "    tn, tna, run_id_n =  insert_data('numeric', size)\n",
    "    t_numeric.append(tn)\n",
    "    t_numeric_add.append(tna)\n",
    "\n",
    "    ta, taa, run_id_a =  insert_data('array', size)\n",
    "    t_array.append(ta)\n",
    "    t_array_add.append(taa)"
   ]
  },
  {
   "cell_type": "code",
   "execution_count": 6,
   "metadata": {},
   "outputs": [
    {
     "data": {
      "image/png": "[encoded data removed]",
      "text/plain": [
       "<Figure size 432x288 with 1 Axes>"
      ]
     },
     "metadata": {
      "needs_background": "light"
     },
     "output_type": "display_data"
    }
   ],
   "source": [
    "fig, ax = plt.subplots(1,1)\n",
    "ax.plot(sizes, t_numeric, 'o-', label='Inserting row-by-row')\n",
    "ax.plot(sizes, t_numeric_add, 'o-', label='Inserting row-by-row: add_result only')\n",
    "ax.plot(sizes, t_array, 'd-', label='Inserting as binary blob')\n",
    "ax.plot(sizes, t_array_add, 'd-', label='Inserting as binary blob: add_result only')\n",
    "ax.legend()\n",
    "ax.set_xlabel('Array length')\n",
    "ax.set_ylabel('Time (s)')\n",
    "fig.tight_layout()"
   ]
  },
  {
   "cell_type": "markdown",
   "metadata": {},
   "source": [
    "As shown in the latter figure, the time to setup and and close the experiment is approximately 0.4 sec. In case of small array sizes, the difference between inserting values of data as arrays and inserting them row-by-row is relatively unimportant. At larger array sizes, i.e. above 10000 points, the cost of writing data as individual datapoints starts to become important.\n"
   ]
  },
  {
   "cell_type": "markdown",
   "metadata": {},
   "source": [
    "### Case2: Long experiment time "
   ]
  },
  {
   "cell_type": "code",
   "execution_count": 7,
   "metadata": {},
   "outputs": [
    {
     "name": "stdout",
     "output_type": "stream",
     "text": [
      "Starting experimental run with id: 15. \n",
      "Starting experimental run with id: 16. \n",
      "Starting experimental run with id: 17. \n"
     ]
    },
    {
     "name": "stdout",
     "output_type": "stream",
     "text": [
      "Starting experimental run with id: 18. \n",
      "Starting experimental run with id: 19. \n"
     ]
    },
    {
     "name": "stdout",
     "output_type": "stream",
     "text": [
      "Starting experimental run with id: 20. \n"
     ]
    },
    {
     "name": "stdout",
     "output_type": "stream",
     "text": [
      "Starting experimental run with id: 21. \n"
     ]
    },
    {
     "name": "stdout",
     "output_type": "stream",
     "text": [
      "Starting experimental run with id: 22. \n"
     ]
    },
    {
     "name": "stdout",
     "output_type": "stream",
     "text": [
      "Starting experimental run with id: 23. \n"
     ]
    },
    {
     "name": "stdout",
     "output_type": "stream",
     "text": [
      "Starting experimental run with id: 24. \n"
     ]
    },
    {
     "name": "stdout",
     "output_type": "stream",
     "text": [
      "Starting experimental run with id: 25. \n"
     ]
    },
    {
     "name": "stdout",
     "output_type": "stream",
     "text": [
      "Starting experimental run with id: 26. \n"
     ]
    },
    {
     "name": "stdout",
     "output_type": "stream",
     "text": [
      "Starting experimental run with id: 27. \n"
     ]
    },
    {
     "name": "stdout",
     "output_type": "stream",
     "text": [
      "Starting experimental run with id: 28. \n"
     ]
    }
   ],
   "source": [
    "sizes = [1,500,1000,2000,3000,4000,5000]\n",
    "nreps = 100\n",
    "t_numeric = []\n",
    "t_numeric_add = []\n",
    "t_numeric_run_ids = []\n",
    "t_array = []\n",
    "t_array_add = []\n",
    "t_array_run_ids = []\n",
    "for size in sizes:\n",
    "    tn, tna, run_id_n =  insert_data('numeric', size, nreps=nreps)\n",
    "    t_numeric.append(tn)\n",
    "    t_numeric_add.append(tna)\n",
    "    t_numeric_run_ids.append(run_id_n)\n",
    "\n",
    "    ta, taa, run_id_a =  insert_data('array', size, nreps=nreps)\n",
    "    t_array.append(ta)\n",
    "    t_array_add.append(taa)\n",
    "    t_array_run_ids.append(run_id_a)"
   ]
  },
  {
   "cell_type": "code",
   "execution_count": 8,
   "metadata": {
    "scrolled": true
   },
   "outputs": [
    {
     "data": {
      "image/png": "[encoded data removed]",
      "text/plain": [
       "<Figure size 432x288 with 1 Axes>"
      ]
     },
     "metadata": {
      "needs_background": "light"
     },
     "output_type": "display_data"
    }
   ],
   "source": [
    "fig, ax = plt.subplots(1,1)\n",
    "ax.plot(sizes, t_numeric, 'o-', label='Inserting row-by-row')\n",
    "ax.plot(sizes, t_numeric_add, 'o-', label='Inserting row-by-row: add_result only')\n",
    "ax.plot(sizes, t_array, 'd-', label='Inserting as binary blob')\n",
    "ax.plot(sizes, t_array_add, 'd-', label='Inserting as binary blob: add_result only')\n",
    "ax.legend()\n",
    "ax.set_xlabel('Array length')\n",
    "ax.set_ylabel('Time (s)')\n",
    "fig.tight_layout()"
   ]
  },
  {
   "cell_type": "markdown",
   "metadata": {},
   "source": [
    "However, as we increase the length of the experiment, as seen here by repeating the insertion 100 times, we see a big difference between inserting values of the data row-by-row and inserting it as a binary blob."
   ]
  },
  {
   "cell_type": "markdown",
   "metadata": {},
   "source": [
    "## Loading the data "
   ]
  },
  {
   "cell_type": "code",
   "execution_count": 9,
   "metadata": {},
   "outputs": [],
   "source": [
    "from qcodes.dataset.data_set import load_by_id\n",
    "from qcodes.dataset.data_export import get_data_by_id"
   ]
  },
  {
   "cell_type": "markdown",
   "metadata": {},
   "source": [
    "As usual you can load the data by using the ``load_by_id`` function but you will notice that the different storage methods\n",
    "are reflected in shape of the data as it is retrieved. "
   ]
  },
  {
   "cell_type": "code",
   "execution_count": 10,
   "metadata": {},
   "outputs": [],
   "source": [
    "run_id_n = t_numeric_run_ids[0]\n",
    "run_id_a = t_array_run_ids[0]"
   ]
  },
  {
   "cell_type": "code",
   "execution_count": 11,
   "metadata": {
    "scrolled": true
   },
   "outputs": [
    {
     "data": {
      "text/plain": [
       "{'x1': {'x1': array([0.49628339, 0.49628339, 0.19785748, 0.19785748, 0.9405207 ,\n",
       "         0.9405207 , 0.12543437, 0.12543437, 0.57105615, 0.57105615,\n",
       "         0.55216299, 0.55216299, 0.94223631, 0.94223631, 0.64564453,\n",
       "         0.64564453, 0.04725658, 0.04725658, 0.44634597, 0.44634597,\n",
       "         0.47382372, 0.47382372, 0.7129615 , 0.7129615 , 0.41767326,\n",
       "         0.41767326, 0.08936818, 0.08936818, 0.8461512 , 0.8461512 ,\n",
       "         0.21393818, 0.21393818, 0.3765116 , 0.3765116 , 0.64000435,\n",
       "         0.64000435, 0.90762417, 0.90762417, 0.34892313, 0.34892313,\n",
       "         0.49227011, 0.49227011, 0.51813947, 0.51813947, 0.91202753,\n",
       "         0.91202753, 0.4518614 , 0.4518614 , 0.14919315, 0.14919315,\n",
       "         0.44368494, 0.44368494, 0.15896796, 0.15896796, 0.74591454,\n",
       "         0.74591454, 0.34933662, 0.34933662, 0.34834019, 0.34834019,\n",
       "         0.30174808, 0.30174808, 0.00853737, 0.00853737, 0.92679207,\n",
       "         0.92679207, 0.04083169, 0.04083169, 0.06211418, 0.06211418,\n",
       "         0.73219936, 0.73219936, 0.11377475, 0.11377475, 0.62409402,\n",
       "         0.62409402, 0.21203444, 0.21203444, 0.8232936 , 0.8232936 ,\n",
       "         0.73329519, 0.73329519, 0.37282973, 0.37282973, 0.90032626,\n",
       "         0.90032626, 0.69726696, 0.69726696, 0.58525151, 0.58525151,\n",
       "         0.19472165, 0.19472165, 0.37252865, 0.37252865, 0.01147876,\n",
       "         0.01147876, 0.539367  , 0.539367  , 0.11683885, 0.11683885,\n",
       "         0.45364234, 0.45364234, 0.31984094, 0.31984094, 0.28078805,\n",
       "         0.28078805, 0.38559391, 0.38559391, 0.76281078, 0.76281078,\n",
       "         0.48982879, 0.48982879, 0.23049795, 0.23049795, 0.0739933 ,\n",
       "         0.0739933 , 0.25016579, 0.25016579, 0.82362729, 0.82362729,\n",
       "         0.07478169, 0.07478169, 0.21504591, 0.21504591, 0.43941239,\n",
       "         0.43941239, 0.70585248, 0.70585248, 0.26697009, 0.26697009,\n",
       "         0.67159636, 0.67159636, 0.63515249, 0.63515249, 0.57305003,\n",
       "         0.57305003, 0.84848857, 0.84848857, 0.00722936, 0.00722936,\n",
       "         0.91293618, 0.91293618, 0.43552711, 0.43552711, 0.21999788,\n",
       "         0.21999788, 0.77461979, 0.77461979, 0.0233997 , 0.0233997 ,\n",
       "         0.85152355, 0.85152355, 0.56425381, 0.56425381, 0.25680086,\n",
       "         0.25680086, 0.53546146, 0.53546146, 0.42226562, 0.42226562,\n",
       "         0.34676564, 0.34676564, 0.18906906, 0.18906906, 0.73109511,\n",
       "         0.73109511, 0.83325975, 0.83325975, 0.90961389, 0.90961389,\n",
       "         0.17139472, 0.17139472, 0.71106331, 0.71106331, 0.80903632,\n",
       "         0.80903632, 0.64314643, 0.64314643, 0.19662467, 0.19662467,\n",
       "         0.68351002, 0.68351002, 0.38930025, 0.38930025, 0.39854566,\n",
       "         0.39854566, 0.9370731 , 0.9370731 , 0.7595778 , 0.7595778 ,\n",
       "         0.56476106, 0.56476106, 0.01796527, 0.01796527, 0.13864111,\n",
       "         0.13864111, 0.95107082, 0.95107082, 0.08994268, 0.08994268])}}"
      ]
     },
     "execution_count": 11,
     "metadata": {},
     "output_type": "execute_result"
    }
   ],
   "source": [
    "ds = load_by_id(run_id_n)\n",
    "ds.get_parameter_data('x1')"
   ]
  },
  {
   "cell_type": "markdown",
   "metadata": {},
   "source": [
    "And a dataset stored as binary arrays"
   ]
  },
  {
   "cell_type": "code",
   "execution_count": 12,
   "metadata": {
    "scrolled": true
   },
   "outputs": [
    {
     "data": {
      "text/plain": [
       "{'x1': {'x1': array([[0.16796281],\n",
       "         [0.16796281],\n",
       "         [0.98459404],\n",
       "         [0.98459404],\n",
       "         [0.31556992],\n",
       "         [0.31556992],\n",
       "         [0.44917366],\n",
       "         [0.44917366],\n",
       "         [0.33984804],\n",
       "         [0.33984804],\n",
       "         [0.12454968],\n",
       "         [0.12454968],\n",
       "         [0.08744427],\n",
       "         [0.08744427],\n",
       "         [0.73146579],\n",
       "         [0.73146579],\n",
       "         [0.50429852],\n",
       "         [0.50429852],\n",
       "         [0.71430556],\n",
       "         [0.71430556],\n",
       "         [0.54945971],\n",
       "         [0.54945971],\n",
       "         [0.1071702 ],\n",
       "         [0.1071702 ],\n",
       "         [0.01455999],\n",
       "         [0.01455999],\n",
       "         [0.91703832],\n",
       "         [0.91703832],\n",
       "         [0.76819824],\n",
       "         [0.76819824],\n",
       "         [0.61296801],\n",
       "         [0.61296801],\n",
       "         [0.8265033 ],\n",
       "         [0.8265033 ],\n",
       "         [0.78643537],\n",
       "         [0.78643537],\n",
       "         [0.14324578],\n",
       "         [0.14324578],\n",
       "         [0.45165901],\n",
       "         [0.45165901],\n",
       "         [0.08054269],\n",
       "         [0.08054269],\n",
       "         [0.43536789],\n",
       "         [0.43536789],\n",
       "         [0.93000953],\n",
       "         [0.93000953],\n",
       "         [0.44163302],\n",
       "         [0.44163302],\n",
       "         [0.99451764],\n",
       "         [0.99451764],\n",
       "         [0.64830879],\n",
       "         [0.64830879],\n",
       "         [0.86219594],\n",
       "         [0.86219594],\n",
       "         [0.83822293],\n",
       "         [0.83822293],\n",
       "         [0.11403197],\n",
       "         [0.11403197],\n",
       "         [0.70986027],\n",
       "         [0.70986027],\n",
       "         [0.65219928],\n",
       "         [0.65219928],\n",
       "         [0.79161207],\n",
       "         [0.79161207],\n",
       "         [0.57395276],\n",
       "         [0.57395276],\n",
       "         [0.7779428 ],\n",
       "         [0.7779428 ],\n",
       "         [0.82774699],\n",
       "         [0.82774699],\n",
       "         [0.63602889],\n",
       "         [0.63602889],\n",
       "         [0.26209399],\n",
       "         [0.26209399],\n",
       "         [0.20695163],\n",
       "         [0.20695163],\n",
       "         [0.02870006],\n",
       "         [0.02870006],\n",
       "         [0.81113552],\n",
       "         [0.81113552],\n",
       "         [0.5926955 ],\n",
       "         [0.5926955 ],\n",
       "         [0.92927074],\n",
       "         [0.92927074],\n",
       "         [0.21499875],\n",
       "         [0.21499875],\n",
       "         [0.29524302],\n",
       "         [0.29524302],\n",
       "         [0.36930868],\n",
       "         [0.36930868],\n",
       "         [0.603965  ],\n",
       "         [0.603965  ],\n",
       "         [0.12112727],\n",
       "         [0.12112727],\n",
       "         [0.22597355],\n",
       "         [0.22597355],\n",
       "         [0.98918092],\n",
       "         [0.98918092],\n",
       "         [0.10811764],\n",
       "         [0.10811764],\n",
       "         [0.47683285],\n",
       "         [0.47683285],\n",
       "         [0.98981216],\n",
       "         [0.98981216],\n",
       "         [0.65325418],\n",
       "         [0.65325418],\n",
       "         [0.43721623],\n",
       "         [0.43721623],\n",
       "         [0.1132191 ],\n",
       "         [0.1132191 ],\n",
       "         [0.72055497],\n",
       "         [0.72055497],\n",
       "         [0.4301719 ],\n",
       "         [0.4301719 ],\n",
       "         [0.63234243],\n",
       "         [0.63234243],\n",
       "         [0.99862476],\n",
       "         [0.99862476],\n",
       "         [0.28808882],\n",
       "         [0.28808882],\n",
       "         [0.96935886],\n",
       "         [0.96935886],\n",
       "         [0.72734836],\n",
       "         [0.72734836],\n",
       "         [0.84063659],\n",
       "         [0.84063659],\n",
       "         [0.46879103],\n",
       "         [0.46879103],\n",
       "         [0.23912908],\n",
       "         [0.23912908],\n",
       "         [0.83746412],\n",
       "         [0.83746412],\n",
       "         [0.27427986],\n",
       "         [0.27427986],\n",
       "         [0.16643884],\n",
       "         [0.16643884],\n",
       "         [0.57658476],\n",
       "         [0.57658476],\n",
       "         [0.29840492],\n",
       "         [0.29840492],\n",
       "         [0.06132255],\n",
       "         [0.06132255],\n",
       "         [0.11815711],\n",
       "         [0.11815711],\n",
       "         [0.0312626 ],\n",
       "         [0.0312626 ],\n",
       "         [0.84017963],\n",
       "         [0.84017963],\n",
       "         [0.4036019 ],\n",
       "         [0.4036019 ],\n",
       "         [0.97715759],\n",
       "         [0.97715759],\n",
       "         [0.37825193],\n",
       "         [0.37825193],\n",
       "         [0.17294331],\n",
       "         [0.17294331],\n",
       "         [0.85514909],\n",
       "         [0.85514909],\n",
       "         [0.92696404],\n",
       "         [0.92696404],\n",
       "         [0.10612653],\n",
       "         [0.10612653],\n",
       "         [0.75943386],\n",
       "         [0.75943386],\n",
       "         [0.11795602],\n",
       "         [0.11795602],\n",
       "         [0.06950114],\n",
       "         [0.06950114],\n",
       "         [0.29589269],\n",
       "         [0.29589269],\n",
       "         [0.61474989],\n",
       "         [0.61474989],\n",
       "         [0.50352583],\n",
       "         [0.50352583],\n",
       "         [0.80265831],\n",
       "         [0.80265831],\n",
       "         [0.70074514],\n",
       "         [0.70074514],\n",
       "         [0.3170731 ],\n",
       "         [0.3170731 ],\n",
       "         [0.26520796],\n",
       "         [0.26520796],\n",
       "         [0.28832735],\n",
       "         [0.28832735],\n",
       "         [0.38341353],\n",
       "         [0.38341353],\n",
       "         [0.32959974],\n",
       "         [0.32959974],\n",
       "         [0.93916283],\n",
       "         [0.93916283],\n",
       "         [0.50007126],\n",
       "         [0.50007126],\n",
       "         [0.55289341],\n",
       "         [0.55289341],\n",
       "         [0.442437  ],\n",
       "         [0.442437  ],\n",
       "         [0.70411201],\n",
       "         [0.70411201],\n",
       "         [0.62837752],\n",
       "         [0.62837752]])}}"
      ]
     },
     "execution_count": 12,
     "metadata": {},
     "output_type": "execute_result"
    }
   ],
   "source": [
    "ds = load_by_id(run_id_a)\n",
    "ds.get_parameter_data('x1')"
   ]
  },
  {
   "cell_type": "code",
   "execution_count": null,
   "metadata": {},
   "outputs": [],
   "source": []
  }
 ],
 "metadata": {
  "kernelspec": {
   "display_name": "Python 3",
   "language": "python",
   "name": "python3"
  },
  "language_info": {
   "codemirror_mode": {
    "name": "ipython",
    "version": 3
   },
   "file_extension": ".py",
   "mimetype": "text/x-python",
   "name": "python",
   "nbconvert_exporter": "python",
   "pygments_lexer": "ipython3",
   "version": "3.7.7"
  },
  "nbsphinx": {
   "timeout": 600
  },
  "toc": {
   "base_numbering": 1,
   "nav_menu": {},
   "number_sections": true,
   "sideBar": true,
   "skip_h1_title": false,
   "title_cell": "Table of Contents",
   "title_sidebar": "Contents",
   "toc_cell": false,
   "toc_position": {},
   "toc_section_display": true,
   "toc_window_display": false
  },
  "varInspector": {
   "cols": {
    "lenName": 16,
    "lenType": 16,
    "lenVar": 40
   },
   "kernels_config": {
    "python": {
     "delete_cmd_postfix": "",
     "delete_cmd_prefix": "del ",
     "library": "var_list.py",
     "varRefreshCmd": "print(var_dic_list())"
    },
    "r": {
     "delete_cmd_postfix": ") ",
     "delete_cmd_prefix": "rm(",
     "library": "var_list.r",
     "varRefreshCmd": "cat(var_dic_list()) "
    }
   },
   "types_to_exclude": [
    "module",
    "function",
    "builtin_function_or_method",
    "instance",
    "_Feature"
   ],
   "window_display": false
  }
 },
 "nbformat": 4,
 "nbformat_minor": 2
}
