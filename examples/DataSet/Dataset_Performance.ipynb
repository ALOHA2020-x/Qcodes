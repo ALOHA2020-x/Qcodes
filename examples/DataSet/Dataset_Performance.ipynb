{
 "cells": [
  {
   "cell_type": "markdown",
   "metadata": {},
   "source": [
    "# DataSet Performance\n",
    "\n",
    "This notebook shows the trade-off between inserting data into a database row-by-row and as binary blobs. Inserting the data row-by-row means that we have direct access to all the data and may perform queries directly on the values of the data. On the other hand, as we shall see, this is much slower than inserting the data directly as binary blobs."
   ]
  },
  {
   "cell_type": "markdown",
   "metadata": {},
   "source": [
    "First, we choose a new location for the database to ensure that we don't add a bunch of benchmarking data to the default one."
   ]
  },
  {
   "cell_type": "code",
   "execution_count": 1,
   "metadata": {
    "execution": {
     "iopub.execute_input": "2021-01-12T18:05:04.075809Z",
     "iopub.status.busy": "2021-01-12T18:05:04.075243Z",
     "iopub.status.idle": "2021-01-12T18:05:05.249398Z",
     "shell.execute_reply": "2021-01-12T18:05:05.248361Z"
    }
   },
   "outputs": [
    {
     "name": "stdout",
     "output_type": "stream",
     "text": [
      "Logging hadn't been started.\n",
      "Activating auto-logging. Current session state plus future input saved.\n",
      "Filename       : /home/vsts/.qcodes/logs/command_history.log\n",
      "Mode           : append\n",
      "Output logging : True\n",
      "Raw input log  : False\n",
      "Timestamping   : True\n",
      "State          : active\n"
     ]
    },
    {
     "name": "stdout",
     "output_type": "stream",
     "text": [
      "Qcodes Logfile : /home/vsts/.qcodes/logs/210112-13233-qcodes.log\n"
     ]
    }
   ],
   "source": [
    "import os\n",
    "cwd = os.getcwd()\n",
    "import qcodes as qc\n",
    "qc.config[\"core\"][\"db_location\"] = os.path.join(cwd, 'testing.db')\n"
   ]
  },
  {
   "cell_type": "code",
   "execution_count": 2,
   "metadata": {
    "execution": {
     "iopub.execute_input": "2021-01-12T18:05:05.256782Z",
     "iopub.status.busy": "2021-01-12T18:05:05.255477Z",
     "iopub.status.idle": "2021-01-12T18:05:05.465282Z",
     "shell.execute_reply": "2021-01-12T18:05:05.465823Z"
    }
   },
   "outputs": [],
   "source": [
    "%matplotlib inline\n",
    "import time\n",
    "import matplotlib.pyplot as plt\n",
    "import numpy as np\n",
    "\n",
    "import qcodes as qc\n",
    "from qcodes.instrument.parameter import ManualParameter\n",
    "from qcodes.dataset.experiment_container import (Experiment,\n",
    "                                                 load_last_experiment,\n",
    "                                                 new_experiment)\n",
    "from qcodes.dataset.sqlite.database import initialise_database\n",
    "from qcodes import load_or_create_experiment\n",
    "from qcodes.dataset.measurements import Measurement"
   ]
  },
  {
   "cell_type": "code",
   "execution_count": 3,
   "metadata": {
    "execution": {
     "iopub.execute_input": "2021-01-12T18:05:05.469990Z",
     "iopub.status.busy": "2021-01-12T18:05:05.469370Z",
     "iopub.status.idle": "2021-01-12T18:05:05.584626Z",
     "shell.execute_reply": "2021-01-12T18:05:05.585205Z"
    }
   },
   "outputs": [
    {
     "name": "stdout",
     "output_type": "stream",
     "text": [
      "\r",
      "0it [00:00, ?it/s]"
     ]
    },
    {
     "name": "stdout",
     "output_type": "stream",
     "text": [
      "\r",
      "Upgrading database; v0 -> v1: : 0it [00:00, ?it/s]"
     ]
    },
    {
     "name": "stdout",
     "output_type": "stream",
     "text": [
      "\r",
      "Upgrading database; v0 -> v1: : 0it [00:00, ?it/s]"
     ]
    },
    {
     "name": "stdout",
     "output_type": "stream",
     "text": [
      "\n",
      "\r",
      "  0%|          | 0/1 [00:00<?, ?it/s]"
     ]
    },
    {
     "name": "stdout",
     "output_type": "stream",
     "text": [
      "\r",
      "Upgrading database; v1 -> v2:   0%|          | 0/1 [00:00<?, ?it/s]"
     ]
    },
    {
     "name": "stdout",
     "output_type": "stream",
     "text": [
      "\r",
      "Upgrading database; v1 -> v2: 100%|██████████| 1/1 [00:00<00:00, 248.79it/s]"
     ]
    },
    {
     "name": "stdout",
     "output_type": "stream",
     "text": [
      "\n",
      "\r",
      "0it [00:00, ?it/s]"
     ]
    },
    {
     "name": "stdout",
     "output_type": "stream",
     "text": [
      "\r",
      "Upgrading database; v2 -> v3: : 0it [00:00, ?it/s]"
     ]
    },
    {
     "name": "stdout",
     "output_type": "stream",
     "text": [
      "\r",
      "Upgrading database; v2 -> v3: : 0it [00:00, ?it/s]"
     ]
    },
    {
     "name": "stdout",
     "output_type": "stream",
     "text": [
      "\n",
      "\r",
      "0it [00:00, ?it/s]"
     ]
    },
    {
     "name": "stdout",
     "output_type": "stream",
     "text": [
      "\r",
      "Upgrading database; v3 -> v4: : 0it [00:00, ?it/s]"
     ]
    },
    {
     "name": "stdout",
     "output_type": "stream",
     "text": [
      "\r",
      "Upgrading database; v3 -> v4: : 0it [00:00, ?it/s]"
     ]
    },
    {
     "name": "stdout",
     "output_type": "stream",
     "text": [
      "\n",
      "\r",
      "  0%|          | 0/1 [00:00<?, ?it/s]"
     ]
    },
    {
     "name": "stdout",
     "output_type": "stream",
     "text": [
      "\r",
      "Upgrading database; v4 -> v5:   0%|          | 0/1 [00:00<?, ?it/s]"
     ]
    },
    {
     "name": "stdout",
     "output_type": "stream",
     "text": [
      "\r",
      "Upgrading database; v4 -> v5: 100%|██████████| 1/1 [00:00<00:00, 983.19it/s]"
     ]
    },
    {
     "name": "stdout",
     "output_type": "stream",
     "text": [
      "\n",
      "\r",
      "0it [00:00, ?it/s]"
     ]
    },
    {
     "name": "stdout",
     "output_type": "stream",
     "text": [
      "\r",
      "Upgrading database; v5 -> v6: : 0it [00:00, ?it/s]"
     ]
    },
    {
     "name": "stdout",
     "output_type": "stream",
     "text": [
      "\r",
      "Upgrading database; v5 -> v6: : 0it [00:00, ?it/s]"
     ]
    },
    {
     "name": "stdout",
     "output_type": "stream",
     "text": [
      "\n",
      "\r",
      "  0%|          | 0/1 [00:00<?, ?it/s]"
     ]
    },
    {
     "name": "stdout",
     "output_type": "stream",
     "text": [
      "\r",
      "Upgrading database; v6 -> v7:   0%|          | 0/1 [00:00<?, ?it/s]"
     ]
    },
    {
     "name": "stdout",
     "output_type": "stream",
     "text": [
      "\r",
      "Upgrading database; v6 -> v7: 100%|██████████| 1/1 [00:00<00:00, 265.98it/s]"
     ]
    },
    {
     "name": "stdout",
     "output_type": "stream",
     "text": [
      "\n",
      "\r",
      "  0%|          | 0/1 [00:00<?, ?it/s]"
     ]
    },
    {
     "name": "stdout",
     "output_type": "stream",
     "text": [
      "\r",
      "Upgrading database; v7 -> v8:   0%|          | 0/1 [00:00<?, ?it/s]"
     ]
    },
    {
     "name": "stdout",
     "output_type": "stream",
     "text": [
      "\r",
      "Upgrading database; v7 -> v8: 100%|██████████| 1/1 [00:00<00:00, 441.97it/s]"
     ]
    },
    {
     "name": "stdout",
     "output_type": "stream",
     "text": [
      "\n",
      "\r",
      "  0%|          | 0/1 [00:00<?, ?it/s]"
     ]
    },
    {
     "name": "stdout",
     "output_type": "stream",
     "text": [
      "\r",
      "Upgrading database; v8 -> v9:   0%|          | 0/1 [00:00<?, ?it/s]"
     ]
    },
    {
     "name": "stdout",
     "output_type": "stream",
     "text": [
      "\r",
      "Upgrading database; v8 -> v9: 100%|██████████| 1/1 [00:00<00:00, 618.72it/s]"
     ]
    },
    {
     "name": "stdout",
     "output_type": "stream",
     "text": [
      "\n"
     ]
    }
   ],
   "source": [
    "initialise_database()\n",
    "exp = load_or_create_experiment(experiment_name='tutorial_exp', sample_name=\"no sample\")"
   ]
  },
  {
   "cell_type": "markdown",
   "metadata": {},
   "source": [
    "Here, we define a simple function to benchmark the time it takes to insert n points with either numeric or array data type.\n",
    "We will compare both the time used to call ``add_result`` and the time used for the full measurement."
   ]
  },
  {
   "cell_type": "code",
   "execution_count": 4,
   "metadata": {
    "execution": {
     "iopub.execute_input": "2021-01-12T18:05:05.594507Z",
     "iopub.status.busy": "2021-01-12T18:05:05.593249Z",
     "iopub.status.idle": "2021-01-12T18:05:05.595187Z",
     "shell.execute_reply": "2021-01-12T18:05:05.595767Z"
    }
   },
   "outputs": [],
   "source": [
    "def insert_data(paramtype, npoints, nreps=1):\n",
    "\n",
    "    meas = Measurement(exp=exp)\n",
    "\n",
    "    x1 = ManualParameter('x1')\n",
    "    x2 = ManualParameter('x2')\n",
    "    x3 = ManualParameter('x3')\n",
    "    y1 = ManualParameter('y1')\n",
    "    y2 = ManualParameter('y2')\n",
    "\n",
    "    meas.register_parameter(x1, paramtype=paramtype)\n",
    "    meas.register_parameter(x2, paramtype=paramtype)\n",
    "    meas.register_parameter(x3, paramtype=paramtype)\n",
    "    meas.register_parameter(y1, setpoints=[x1, x2, x3],\n",
    "                            paramtype=paramtype)\n",
    "    meas.register_parameter(y2, setpoints=[x1, x2, x3],\n",
    "                            paramtype=paramtype)\n",
    "    start = time.perf_counter()\n",
    "    with meas.run() as datasaver:\n",
    "        start_adding = time.perf_counter()\n",
    "        for i in range(nreps):\n",
    "            datasaver.add_result((x1, np.random.rand(npoints)),\n",
    "                                 (x2, np.random.rand(npoints)),\n",
    "                                 (x3, np.random.rand(npoints)),\n",
    "                                 (y1, np.random.rand(npoints)),\n",
    "                                 (y2, np.random.rand(npoints)))\n",
    "        stop_adding = time.perf_counter()\n",
    "        run_id = datasaver.run_id\n",
    "    stop = time.perf_counter()\n",
    "    tot_time = stop - start\n",
    "    add_time = stop_adding - start_adding\n",
    "    return tot_time, add_time, run_id"
   ]
  },
  {
   "cell_type": "markdown",
   "metadata": {},
   "source": [
    "## Comparison between numeric/array data and binary blob"
   ]
  },
  {
   "cell_type": "markdown",
   "metadata": {},
   "source": [
    "### Case1: Short experiment time"
   ]
  },
  {
   "cell_type": "code",
   "execution_count": 5,
   "metadata": {
    "execution": {
     "iopub.execute_input": "2021-01-12T18:05:05.604531Z",
     "iopub.status.busy": "2021-01-12T18:05:05.603857Z",
     "iopub.status.idle": "2021-01-12T18:05:06.467307Z",
     "shell.execute_reply": "2021-01-12T18:05:06.468082Z"
    }
   },
   "outputs": [
    {
     "name": "stdout",
     "output_type": "stream",
     "text": [
      "Starting experimental run with id: 1. \n",
      "Starting experimental run with id: 2. \n",
      "Starting experimental run with id: 3. \n",
      "Starting experimental run with id: 4. \n"
     ]
    },
    {
     "name": "stdout",
     "output_type": "stream",
     "text": [
      "Starting experimental run with id: 5. \n"
     ]
    },
    {
     "name": "stdout",
     "output_type": "stream",
     "text": [
      "Starting experimental run with id: 6. \n",
      "Starting experimental run with id: 7. \n"
     ]
    },
    {
     "name": "stdout",
     "output_type": "stream",
     "text": [
      "Starting experimental run with id: 8. \n",
      "Starting experimental run with id: 9. \n"
     ]
    },
    {
     "name": "stdout",
     "output_type": "stream",
     "text": [
      "Starting experimental run with id: 10. \n",
      "Starting experimental run with id: 11. \n"
     ]
    },
    {
     "name": "stdout",
     "output_type": "stream",
     "text": [
      "Starting experimental run with id: 12. \n",
      "Starting experimental run with id: 13. \n"
     ]
    },
    {
     "name": "stdout",
     "output_type": "stream",
     "text": [
      "Starting experimental run with id: 14. \n"
     ]
    }
   ],
   "source": [
    "sizes = [1,500,1000,2000,3000,4000,5000]\n",
    "t_numeric = []\n",
    "t_numeric_add = []\n",
    "t_array = []\n",
    "t_array_add = []\n",
    "for size in sizes:\n",
    "    tn, tna, run_id_n =  insert_data('numeric', size)\n",
    "    t_numeric.append(tn)\n",
    "    t_numeric_add.append(tna)\n",
    "\n",
    "    ta, taa, run_id_a =  insert_data('array', size)\n",
    "    t_array.append(ta)\n",
    "    t_array_add.append(taa)"
   ]
  },
  {
   "cell_type": "code",
   "execution_count": 6,
   "metadata": {
    "execution": {
     "iopub.execute_input": "2021-01-12T18:05:06.505932Z",
     "iopub.status.busy": "2021-01-12T18:05:06.500478Z",
     "iopub.status.idle": "2021-01-12T18:05:06.733472Z",
     "shell.execute_reply": "2021-01-12T18:05:06.732905Z"
    }
   },
   "outputs": [
    {
     "data": {
      "image/png": "[encoded data removed]",
      "text/plain": [
       "<Figure size 432x288 with 1 Axes>"
      ]
     },
     "metadata": {
      "needs_background": "light"
     },
     "output_type": "display_data"
    }
   ],
   "source": [
    "fig, ax = plt.subplots(1,1)\n",
    "ax.plot(sizes, t_numeric, 'o-', label='Inserting row-by-row')\n",
    "ax.plot(sizes, t_numeric_add, 'o-', label='Inserting row-by-row: add_result only')\n",
    "ax.plot(sizes, t_array, 'd-', label='Inserting as binary blob')\n",
    "ax.plot(sizes, t_array_add, 'd-', label='Inserting as binary blob: add_result only')\n",
    "ax.legend()\n",
    "ax.set_xlabel('Array length')\n",
    "ax.set_ylabel('Time (s)')\n",
    "fig.tight_layout()"
   ]
  },
  {
   "cell_type": "markdown",
   "metadata": {},
   "source": [
    "As shown in the latter figure, the time to setup and and close the experiment is approximately 0.4 sec. In case of small array sizes, the difference between inserting values of data as arrays and inserting them row-by-row is relatively unimportant. At larger array sizes, i.e. above 10000 points, the cost of writing data as individual datapoints starts to become important.\n"
   ]
  },
  {
   "cell_type": "markdown",
   "metadata": {},
   "source": [
    "### Case2: Long experiment time "
   ]
  },
  {
   "cell_type": "code",
   "execution_count": 7,
   "metadata": {
    "execution": {
     "iopub.execute_input": "2021-01-12T18:05:06.741528Z",
     "iopub.status.busy": "2021-01-12T18:05:06.740535Z",
     "iopub.status.idle": "2021-01-12T18:06:06.919278Z",
     "shell.execute_reply": "2021-01-12T18:06:06.918385Z"
    }
   },
   "outputs": [
    {
     "name": "stdout",
     "output_type": "stream",
     "text": [
      "Starting experimental run with id: 15. \n",
      "Starting experimental run with id: 16. \n",
      "Starting experimental run with id: 17. \n"
     ]
    },
    {
     "name": "stdout",
     "output_type": "stream",
     "text": [
      "Starting experimental run with id: 18. \n",
      "Starting experimental run with id: 19. \n"
     ]
    },
    {
     "name": "stdout",
     "output_type": "stream",
     "text": [
      "Starting experimental run with id: 20. \n"
     ]
    },
    {
     "name": "stdout",
     "output_type": "stream",
     "text": [
      "Starting experimental run with id: 21. \n"
     ]
    },
    {
     "name": "stdout",
     "output_type": "stream",
     "text": [
      "Starting experimental run with id: 22. \n"
     ]
    },
    {
     "name": "stdout",
     "output_type": "stream",
     "text": [
      "Starting experimental run with id: 23. \n"
     ]
    },
    {
     "name": "stdout",
     "output_type": "stream",
     "text": [
      "Starting experimental run with id: 24. \n"
     ]
    },
    {
     "name": "stdout",
     "output_type": "stream",
     "text": [
      "Starting experimental run with id: 25. \n"
     ]
    },
    {
     "name": "stdout",
     "output_type": "stream",
     "text": [
      "Starting experimental run with id: 26. \n"
     ]
    },
    {
     "name": "stdout",
     "output_type": "stream",
     "text": [
      "Starting experimental run with id: 27. \n"
     ]
    },
    {
     "name": "stdout",
     "output_type": "stream",
     "text": [
      "Starting experimental run with id: 28. \n"
     ]
    }
   ],
   "source": [
    "sizes = [1,500,1000,2000,3000,4000,5000]\n",
    "nreps = 100\n",
    "t_numeric = []\n",
    "t_numeric_add = []\n",
    "t_numeric_run_ids = []\n",
    "t_array = []\n",
    "t_array_add = []\n",
    "t_array_run_ids = []\n",
    "for size in sizes:\n",
    "    tn, tna, run_id_n =  insert_data('numeric', size, nreps=nreps)\n",
    "    t_numeric.append(tn)\n",
    "    t_numeric_add.append(tna)\n",
    "    t_numeric_run_ids.append(run_id_n)\n",
    "\n",
    "    ta, taa, run_id_a =  insert_data('array', size, nreps=nreps)\n",
    "    t_array.append(ta)\n",
    "    t_array_add.append(taa)\n",
    "    t_array_run_ids.append(run_id_a)"
   ]
  },
  {
   "cell_type": "code",
   "execution_count": 8,
   "metadata": {
    "execution": {
     "iopub.execute_input": "2021-01-12T18:06:06.966171Z",
     "iopub.status.busy": "2021-01-12T18:06:06.947410Z",
     "iopub.status.idle": "2021-01-12T18:06:07.179312Z",
     "shell.execute_reply": "2021-01-12T18:06:07.178349Z"
    },
    "scrolled": true
   },
   "outputs": [
    {
     "data": {
      "image/png": "[encoded data removed]",
      "text/plain": [
       "<Figure size 432x288 with 1 Axes>"
      ]
     },
     "metadata": {
      "needs_background": "light"
     },
     "output_type": "display_data"
    }
   ],
   "source": [
    "fig, ax = plt.subplots(1,1)\n",
    "ax.plot(sizes, t_numeric, 'o-', label='Inserting row-by-row')\n",
    "ax.plot(sizes, t_numeric_add, 'o-', label='Inserting row-by-row: add_result only')\n",
    "ax.plot(sizes, t_array, 'd-', label='Inserting as binary blob')\n",
    "ax.plot(sizes, t_array_add, 'd-', label='Inserting as binary blob: add_result only')\n",
    "ax.legend()\n",
    "ax.set_xlabel('Array length')\n",
    "ax.set_ylabel('Time (s)')\n",
    "fig.tight_layout()"
   ]
  },
  {
   "cell_type": "markdown",
   "metadata": {},
   "source": [
    "However, as we increase the length of the experiment, as seen here by repeating the insertion 100 times, we see a big difference between inserting values of the data row-by-row and inserting it as a binary blob."
   ]
  },
  {
   "cell_type": "markdown",
   "metadata": {},
   "source": [
    "## Loading the data "
   ]
  },
  {
   "cell_type": "code",
   "execution_count": 9,
   "metadata": {
    "execution": {
     "iopub.execute_input": "2021-01-12T18:06:07.184210Z",
     "iopub.status.busy": "2021-01-12T18:06:07.183134Z",
     "iopub.status.idle": "2021-01-12T18:06:07.186826Z",
     "shell.execute_reply": "2021-01-12T18:06:07.187285Z"
    }
   },
   "outputs": [],
   "source": [
    "from qcodes.dataset.data_set import load_by_id\n",
    "from qcodes.dataset.data_export import get_data_by_id"
   ]
  },
  {
   "cell_type": "markdown",
   "metadata": {},
   "source": [
    "As usual you can load the data by using the ``load_by_id`` function but you will notice that the different storage methods\n",
    "are reflected in shape of the data as it is retrieved. "
   ]
  },
  {
   "cell_type": "code",
   "execution_count": 10,
   "metadata": {
    "execution": {
     "iopub.execute_input": "2021-01-12T18:06:07.191128Z",
     "iopub.status.busy": "2021-01-12T18:06:07.190458Z",
     "iopub.status.idle": "2021-01-12T18:06:07.195694Z",
     "shell.execute_reply": "2021-01-12T18:06:07.194992Z"
    }
   },
   "outputs": [],
   "source": [
    "run_id_n = t_numeric_run_ids[0]\n",
    "run_id_a = t_array_run_ids[0]"
   ]
  },
  {
   "cell_type": "code",
   "execution_count": 11,
   "metadata": {
    "execution": {
     "iopub.execute_input": "2021-01-12T18:06:07.199991Z",
     "iopub.status.busy": "2021-01-12T18:06:07.199440Z",
     "iopub.status.idle": "2021-01-12T18:06:07.215354Z",
     "shell.execute_reply": "2021-01-12T18:06:07.214764Z"
    },
    "scrolled": true
   },
   "outputs": [
    {
     "data": {
      "text/plain": [
       "{'x1': {'x1': array([0.58184529, 0.58184529, 0.53452629, 0.53452629, 0.11628143,\n",
       "         0.11628143, 0.43851771, 0.43851771, 0.71457314, 0.71457314,\n",
       "         0.69692304, 0.69692304, 0.26414143, 0.26414143, 0.68434175,\n",
       "         0.68434175, 0.73269239, 0.73269239, 0.35242363, 0.35242363,\n",
       "         0.42822798, 0.42822798, 0.5094831 , 0.5094831 , 0.04055307,\n",
       "         0.04055307, 0.4331444 , 0.4331444 , 0.90591562, 0.90591562,\n",
       "         0.80158657, 0.80158657, 0.80155938, 0.80155938, 0.16229994,\n",
       "         0.16229994, 0.17698136, 0.17698136, 0.14087173, 0.14087173,\n",
       "         0.49731619, 0.49731619, 0.80819116, 0.80819116, 0.33438491,\n",
       "         0.33438491, 0.99868802, 0.99868802, 0.79296679, 0.79296679,\n",
       "         0.99467473, 0.99467473, 0.78478263, 0.78478263, 0.16350673,\n",
       "         0.16350673, 0.34696421, 0.34696421, 0.74505093, 0.74505093,\n",
       "         0.38943442, 0.38943442, 0.94485811, 0.94485811, 0.87128129,\n",
       "         0.87128129, 0.68900612, 0.68900612, 0.23989494, 0.23989494,\n",
       "         0.40739263, 0.40739263, 0.68449351, 0.68449351, 0.2912341 ,\n",
       "         0.2912341 , 0.07846258, 0.07846258, 0.45478128, 0.45478128,\n",
       "         0.05874079, 0.05874079, 0.58568759, 0.58568759, 0.54072088,\n",
       "         0.54072088, 0.5384237 , 0.5384237 , 0.39261063, 0.39261063,\n",
       "         0.56877459, 0.56877459, 0.84004525, 0.84004525, 0.93009157,\n",
       "         0.93009157, 0.46344375, 0.46344375, 0.73759196, 0.73759196,\n",
       "         0.09799163, 0.09799163, 0.90745538, 0.90745538, 0.96028085,\n",
       "         0.96028085, 0.52970189, 0.52970189, 0.83406795, 0.83406795,\n",
       "         0.76666398, 0.76666398, 0.15147648, 0.15147648, 0.94498619,\n",
       "         0.94498619, 0.85293664, 0.85293664, 0.85776036, 0.85776036,\n",
       "         0.59368174, 0.59368174, 0.5410581 , 0.5410581 , 0.52314902,\n",
       "         0.52314902, 0.03150664, 0.03150664, 0.23255033, 0.23255033,\n",
       "         0.12026527, 0.12026527, 0.37271485, 0.37271485, 0.47384547,\n",
       "         0.47384547, 0.77883025, 0.77883025, 0.90658301, 0.90658301,\n",
       "         0.9025345 , 0.9025345 , 0.19431557, 0.19431557, 0.29839809,\n",
       "         0.29839809, 0.82059334, 0.82059334, 0.81771179, 0.81771179,\n",
       "         0.01462446, 0.01462446, 0.75780027, 0.75780027, 0.5035732 ,\n",
       "         0.5035732 , 0.54780517, 0.54780517, 0.57404494, 0.57404494,\n",
       "         0.9681789 , 0.9681789 , 0.05393859, 0.05393859, 0.41266433,\n",
       "         0.41266433, 0.91801738, 0.91801738, 0.5820237 , 0.5820237 ,\n",
       "         0.15448224, 0.15448224, 0.72407779, 0.72407779, 0.42491947,\n",
       "         0.42491947, 0.11917505, 0.11917505, 0.89167761, 0.89167761,\n",
       "         0.02840683, 0.02840683, 0.52838286, 0.52838286, 0.67942722,\n",
       "         0.67942722, 0.8640053 , 0.8640053 , 0.23853943, 0.23853943,\n",
       "         0.96838426, 0.96838426, 0.14985009, 0.14985009, 0.71923388,\n",
       "         0.71923388, 0.3676347 , 0.3676347 , 0.90752003, 0.90752003])}}"
      ]
     },
     "execution_count": 1,
     "metadata": {},
     "output_type": "execute_result"
    }
   ],
   "source": [
    "ds = load_by_id(run_id_n)\n",
    "ds.get_parameter_data('x1')"
   ]
  },
  {
   "cell_type": "markdown",
   "metadata": {},
   "source": [
    "And a dataset stored as binary arrays"
   ]
  },
  {
   "cell_type": "code",
   "execution_count": 12,
   "metadata": {
    "execution": {
     "iopub.execute_input": "2021-01-12T18:06:07.218799Z",
     "iopub.status.busy": "2021-01-12T18:06:07.218264Z",
     "iopub.status.idle": "2021-01-12T18:06:07.287839Z",
     "shell.execute_reply": "2021-01-12T18:06:07.288480Z"
    },
    "scrolled": true
   },
   "outputs": [
    {
     "data": {
      "text/plain": [
       "{'x1': {'x1': array([[0.20087926],\n",
       "         [0.20087926],\n",
       "         [0.39660068],\n",
       "         [0.39660068],\n",
       "         [0.90463269],\n",
       "         [0.90463269],\n",
       "         [0.70335921],\n",
       "         [0.70335921],\n",
       "         [0.4852485 ],\n",
       "         [0.4852485 ],\n",
       "         [0.57556957],\n",
       "         [0.57556957],\n",
       "         [0.60106975],\n",
       "         [0.60106975],\n",
       "         [0.58334054],\n",
       "         [0.58334054],\n",
       "         [0.66646133],\n",
       "         [0.66646133],\n",
       "         [0.04602691],\n",
       "         [0.04602691],\n",
       "         [0.24740721],\n",
       "         [0.24740721],\n",
       "         [0.53295984],\n",
       "         [0.53295984],\n",
       "         [0.92679137],\n",
       "         [0.92679137],\n",
       "         [0.30441944],\n",
       "         [0.30441944],\n",
       "         [0.04594546],\n",
       "         [0.04594546],\n",
       "         [0.22457348],\n",
       "         [0.22457348],\n",
       "         [0.84626207],\n",
       "         [0.84626207],\n",
       "         [0.54895629],\n",
       "         [0.54895629],\n",
       "         [0.4423542 ],\n",
       "         [0.4423542 ],\n",
       "         [0.50493626],\n",
       "         [0.50493626],\n",
       "         [0.17087718],\n",
       "         [0.17087718],\n",
       "         [0.05115128],\n",
       "         [0.05115128],\n",
       "         [0.41715892],\n",
       "         [0.41715892],\n",
       "         [0.50811925],\n",
       "         [0.50811925],\n",
       "         [0.93476213],\n",
       "         [0.93476213],\n",
       "         [0.59258451],\n",
       "         [0.59258451],\n",
       "         [0.95246055],\n",
       "         [0.95246055],\n",
       "         [0.8012531 ],\n",
       "         [0.8012531 ],\n",
       "         [0.31847428],\n",
       "         [0.31847428],\n",
       "         [0.86562105],\n",
       "         [0.86562105],\n",
       "         [0.69275373],\n",
       "         [0.69275373],\n",
       "         [0.14631297],\n",
       "         [0.14631297],\n",
       "         [0.71102957],\n",
       "         [0.71102957],\n",
       "         [0.54957091],\n",
       "         [0.54957091],\n",
       "         [0.2232291 ],\n",
       "         [0.2232291 ],\n",
       "         [0.83151808],\n",
       "         [0.83151808],\n",
       "         [0.77290925],\n",
       "         [0.77290925],\n",
       "         [0.61433235],\n",
       "         [0.61433235],\n",
       "         [0.9710133 ],\n",
       "         [0.9710133 ],\n",
       "         [0.23772551],\n",
       "         [0.23772551],\n",
       "         [0.91403151],\n",
       "         [0.91403151],\n",
       "         [0.0770796 ],\n",
       "         [0.0770796 ],\n",
       "         [0.83881612],\n",
       "         [0.83881612],\n",
       "         [0.36690654],\n",
       "         [0.36690654],\n",
       "         [0.0033152 ],\n",
       "         [0.0033152 ],\n",
       "         [0.63027432],\n",
       "         [0.63027432],\n",
       "         [0.87363781],\n",
       "         [0.87363781],\n",
       "         [0.46839496],\n",
       "         [0.46839496],\n",
       "         [0.82345372],\n",
       "         [0.82345372],\n",
       "         [0.69943001],\n",
       "         [0.69943001],\n",
       "         [0.76458619],\n",
       "         [0.76458619],\n",
       "         [0.59060058],\n",
       "         [0.59060058],\n",
       "         [0.86055941],\n",
       "         [0.86055941],\n",
       "         [0.60653864],\n",
       "         [0.60653864],\n",
       "         [0.98988077],\n",
       "         [0.98988077],\n",
       "         [0.45745288],\n",
       "         [0.45745288],\n",
       "         [0.97570329],\n",
       "         [0.97570329],\n",
       "         [0.37641023],\n",
       "         [0.37641023],\n",
       "         [0.24635886],\n",
       "         [0.24635886],\n",
       "         [0.43597296],\n",
       "         [0.43597296],\n",
       "         [0.73513826],\n",
       "         [0.73513826],\n",
       "         [0.23718025],\n",
       "         [0.23718025],\n",
       "         [0.60008994],\n",
       "         [0.60008994],\n",
       "         [0.54286659],\n",
       "         [0.54286659],\n",
       "         [0.03714576],\n",
       "         [0.03714576],\n",
       "         [0.12486461],\n",
       "         [0.12486461],\n",
       "         [0.96506455],\n",
       "         [0.96506455],\n",
       "         [0.28872587],\n",
       "         [0.28872587],\n",
       "         [0.83405791],\n",
       "         [0.83405791],\n",
       "         [0.80120999],\n",
       "         [0.80120999],\n",
       "         [0.96995027],\n",
       "         [0.96995027],\n",
       "         [0.72760423],\n",
       "         [0.72760423],\n",
       "         [0.48640484],\n",
       "         [0.48640484],\n",
       "         [0.82190322],\n",
       "         [0.82190322],\n",
       "         [0.81705224],\n",
       "         [0.81705224],\n",
       "         [0.20265773],\n",
       "         [0.20265773],\n",
       "         [0.90890853],\n",
       "         [0.90890853],\n",
       "         [0.11515356],\n",
       "         [0.11515356],\n",
       "         [0.89664062],\n",
       "         [0.89664062],\n",
       "         [0.3473729 ],\n",
       "         [0.3473729 ],\n",
       "         [0.36662201],\n",
       "         [0.36662201],\n",
       "         [0.29094007],\n",
       "         [0.29094007],\n",
       "         [0.75745716],\n",
       "         [0.75745716],\n",
       "         [0.0319215 ],\n",
       "         [0.0319215 ],\n",
       "         [0.28106665],\n",
       "         [0.28106665],\n",
       "         [0.36118239],\n",
       "         [0.36118239],\n",
       "         [0.48221202],\n",
       "         [0.48221202],\n",
       "         [0.36850951],\n",
       "         [0.36850951],\n",
       "         [0.61298789],\n",
       "         [0.61298789],\n",
       "         [0.74995516],\n",
       "         [0.74995516],\n",
       "         [0.85226624],\n",
       "         [0.85226624],\n",
       "         [0.25002509],\n",
       "         [0.25002509],\n",
       "         [0.46985025],\n",
       "         [0.46985025],\n",
       "         [0.88378128],\n",
       "         [0.88378128],\n",
       "         [0.93384877],\n",
       "         [0.93384877],\n",
       "         [0.03011025],\n",
       "         [0.03011025],\n",
       "         [0.85251594],\n",
       "         [0.85251594],\n",
       "         [0.36914681],\n",
       "         [0.36914681],\n",
       "         [0.22125421],\n",
       "         [0.22125421],\n",
       "         [0.9622712 ],\n",
       "         [0.9622712 ]])}}"
      ]
     },
     "execution_count": 1,
     "metadata": {},
     "output_type": "execute_result"
    }
   ],
   "source": [
    "ds = load_by_id(run_id_a)\n",
    "ds.get_parameter_data('x1')"
   ]
  },
  {
   "cell_type": "code",
   "execution_count": null,
   "metadata": {},
   "outputs": [],
   "source": []
  }
 ],
 "metadata": {
  "kernelspec": {
   "display_name": "Python 3",
   "language": "python",
   "name": "python3"
  },
  "language_info": {
   "codemirror_mode": {
    "name": "ipython",
    "version": 3
   },
   "file_extension": ".py",
   "mimetype": "text/x-python",
   "name": "python",
   "nbconvert_exporter": "python",
   "pygments_lexer": "ipython3",
   "version": "3.7.9"
  },
  "nbsphinx": {
   "timeout": 600
  },
  "toc": {
   "base_numbering": 1,
   "nav_menu": {},
   "number_sections": true,
   "sideBar": true,
   "skip_h1_title": false,
   "title_cell": "Table of Contents",
   "title_sidebar": "Contents",
   "toc_cell": false,
   "toc_position": {},
   "toc_section_display": true,
   "toc_window_display": false
  },
  "varInspector": {
   "cols": {
    "lenName": 16,
    "lenType": 16,
    "lenVar": 40
   },
   "kernels_config": {
    "python": {
     "delete_cmd_postfix": "",
     "delete_cmd_prefix": "del ",
     "library": "var_list.py",
     "varRefreshCmd": "print(var_dic_list())"
    },
    "r": {
     "delete_cmd_postfix": ") ",
     "delete_cmd_prefix": "rm(",
     "library": "var_list.r",
     "varRefreshCmd": "cat(var_dic_list()) "
    }
   },
   "types_to_exclude": [
    "module",
    "function",
    "builtin_function_or_method",
    "instance",
    "_Feature"
   ],
   "window_display": false
  }
 },
 "nbformat": 4,
 "nbformat_minor": 2
}
