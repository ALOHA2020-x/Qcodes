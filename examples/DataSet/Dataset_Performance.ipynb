{
 "cells": [
  {
   "cell_type": "markdown",
   "metadata": {},
   "source": [
    "# DataSet Performance\n",
    "\n",
    "This notebook shows the trade-off between inserting data into a database row-by-row and as binary blobs. Inserting the data row-by-row means that we have direct access to all the data and may perform queries directly on the values of the data. On the other hand, as we shall see, this is much slower than inserting the data directly as binary blobs."
   ]
  },
  {
   "cell_type": "markdown",
   "metadata": {},
   "source": [
    "First, we choose a new location for the database to ensure that we don't add a bunch of benchmarking data to the default one."
   ]
  },
  {
   "cell_type": "code",
   "execution_count": 1,
   "metadata": {},
   "outputs": [
    {
     "name": "stdout",
     "output_type": "stream",
     "text": [
      "Logging hadn't been started.\n",
      "Activating auto-logging. Current session state plus future input saved.\n",
      "Filename       : /home/vsts/.qcodes/logs/command_history.log\n",
      "Mode           : append\n",
      "Output logging : True\n",
      "Raw input log  : False\n",
      "Timestamping   : True\n",
      "State          : active\n"
     ]
    },
    {
     "name": "stdout",
     "output_type": "stream",
     "text": [
      "Qcodes Logfile : /home/vsts/.qcodes/logs/200417-18028-qcodes.log\n"
     ]
    }
   ],
   "source": [
    "import os\n",
    "cwd = os.getcwd()\n",
    "import qcodes as qc\n",
    "qc.config[\"core\"][\"db_location\"] = os.path.join(cwd, 'testing.db')\n"
   ]
  },
  {
   "cell_type": "code",
   "execution_count": 2,
   "metadata": {},
   "outputs": [],
   "source": [
    "%matplotlib inline\n",
    "import time\n",
    "import matplotlib.pyplot as plt\n",
    "import numpy as np\n",
    "\n",
    "import qcodes as qc\n",
    "from qcodes.instrument.parameter import ManualParameter\n",
    "from qcodes.dataset.experiment_container import (Experiment,\n",
    "                                                 load_last_experiment,\n",
    "                                                 new_experiment)\n",
    "from qcodes.dataset.sqlite.database import initialise_database\n",
    "from qcodes import load_or_create_experiment\n",
    "from qcodes.dataset.measurements import Measurement"
   ]
  },
  {
   "cell_type": "code",
   "execution_count": 3,
   "metadata": {},
   "outputs": [
    {
     "name": "stdout",
     "output_type": "stream",
     "text": [
      "\r",
      "0it [00:00, ?it/s]"
     ]
    },
    {
     "name": "stdout",
     "output_type": "stream",
     "text": [
      "\r",
      "Upgrading database; v0 -> v1: : 0it [00:00, ?it/s]"
     ]
    },
    {
     "name": "stdout",
     "output_type": "stream",
     "text": [
      "\r",
      "Upgrading database; v0 -> v1: : 0it [00:00, ?it/s]"
     ]
    },
    {
     "name": "stdout",
     "output_type": "stream",
     "text": [
      "\n",
      "\r",
      "  0%|          | 0/1 [00:00<?, ?it/s]"
     ]
    },
    {
     "name": "stdout",
     "output_type": "stream",
     "text": [
      "\r",
      "Upgrading database; v1 -> v2:   0%|          | 0/1 [00:00<?, ?it/s]"
     ]
    },
    {
     "name": "stdout",
     "output_type": "stream",
     "text": [
      "\r",
      "Upgrading database; v1 -> v2: 100%|██████████| 1/1 [00:00<00:00, 1057.03it/s]"
     ]
    },
    {
     "name": "stdout",
     "output_type": "stream",
     "text": [
      "\n",
      "\r",
      "0it [00:00, ?it/s]"
     ]
    },
    {
     "name": "stdout",
     "output_type": "stream",
     "text": [
      "\r",
      "Upgrading database; v2 -> v3: : 0it [00:00, ?it/s]"
     ]
    },
    {
     "name": "stdout",
     "output_type": "stream",
     "text": [
      "\r",
      "Upgrading database; v2 -> v3: : 0it [00:00, ?it/s]"
     ]
    },
    {
     "name": "stdout",
     "output_type": "stream",
     "text": [
      "\n",
      "\r",
      "0it [00:00, ?it/s]"
     ]
    },
    {
     "name": "stdout",
     "output_type": "stream",
     "text": [
      "\r",
      "Upgrading database; v3 -> v4: : 0it [00:00, ?it/s]"
     ]
    },
    {
     "name": "stdout",
     "output_type": "stream",
     "text": [
      "\r",
      "Upgrading database; v3 -> v4: : 0it [00:00, ?it/s]"
     ]
    },
    {
     "name": "stdout",
     "output_type": "stream",
     "text": [
      "\n",
      "\r",
      "  0%|          | 0/1 [00:00<?, ?it/s]"
     ]
    },
    {
     "name": "stdout",
     "output_type": "stream",
     "text": [
      "\r",
      "Upgrading database; v4 -> v5:   0%|          | 0/1 [00:00<?, ?it/s]"
     ]
    },
    {
     "name": "stdout",
     "output_type": "stream",
     "text": [
      "\r",
      "Upgrading database; v4 -> v5: 100%|██████████| 1/1 [00:00<00:00, 798.31it/s]"
     ]
    },
    {
     "name": "stdout",
     "output_type": "stream",
     "text": [
      "\n",
      "\r",
      "0it [00:00, ?it/s]"
     ]
    },
    {
     "name": "stdout",
     "output_type": "stream",
     "text": [
      "\r",
      "Upgrading database; v5 -> v6: : 0it [00:00, ?it/s]"
     ]
    },
    {
     "name": "stdout",
     "output_type": "stream",
     "text": [
      "\r",
      "Upgrading database; v5 -> v6: : 0it [00:00, ?it/s]"
     ]
    },
    {
     "name": "stdout",
     "output_type": "stream",
     "text": [
      "\n",
      "\r",
      "  0%|          | 0/1 [00:00<?, ?it/s]"
     ]
    },
    {
     "name": "stdout",
     "output_type": "stream",
     "text": [
      "\r",
      "Upgrading database; v6 -> v7:   0%|          | 0/1 [00:00<?, ?it/s]"
     ]
    },
    {
     "name": "stdout",
     "output_type": "stream",
     "text": [
      "\r",
      "Upgrading database; v6 -> v7: 100%|██████████| 1/1 [00:00<00:00, 387.18it/s]"
     ]
    },
    {
     "name": "stdout",
     "output_type": "stream",
     "text": [
      "\n",
      "\r",
      "  0%|          | 0/1 [00:00<?, ?it/s]"
     ]
    },
    {
     "name": "stdout",
     "output_type": "stream",
     "text": [
      "\r",
      "Upgrading database; v7 -> v8:   0%|          | 0/1 [00:00<?, ?it/s]"
     ]
    },
    {
     "name": "stdout",
     "output_type": "stream",
     "text": [
      "\r",
      "Upgrading database; v7 -> v8: 100%|██████████| 1/1 [00:00<00:00, 907.27it/s]"
     ]
    },
    {
     "name": "stdout",
     "output_type": "stream",
     "text": [
      "\n",
      "\r",
      "  0%|          | 0/1 [00:00<?, ?it/s]"
     ]
    },
    {
     "name": "stdout",
     "output_type": "stream",
     "text": [
      "\r",
      "Upgrading database; v8 -> v9:   0%|          | 0/1 [00:00<?, ?it/s]"
     ]
    },
    {
     "name": "stdout",
     "output_type": "stream",
     "text": [
      "\r",
      "Upgrading database; v8 -> v9: 100%|██████████| 1/1 [00:00<00:00, 1036.14it/s]"
     ]
    },
    {
     "name": "stdout",
     "output_type": "stream",
     "text": [
      "\n"
     ]
    }
   ],
   "source": [
    "initialise_database()\n",
    "exp = load_or_create_experiment(experiment_name='tutorial_exp', sample_name=\"no sample\")"
   ]
  },
  {
   "cell_type": "markdown",
   "metadata": {},
   "source": [
    "Here, we define a simple function to benchmark the time it takes to insert n points with either numeric or array data type.\n",
    "We will compare both the time used to call ``add_result`` and the time used for the full measurement."
   ]
  },
  {
   "cell_type": "code",
   "execution_count": 4,
   "metadata": {},
   "outputs": [],
   "source": [
    "def insert_data(paramtype, npoints, nreps=1):\n",
    "\n",
    "    meas = Measurement(exp=exp)\n",
    "\n",
    "    x1 = ManualParameter('x1')\n",
    "    x2 = ManualParameter('x2')\n",
    "    x3 = ManualParameter('x3')\n",
    "    y1 = ManualParameter('y1')\n",
    "    y2 = ManualParameter('y2')\n",
    "\n",
    "    meas.register_parameter(x1, paramtype=paramtype)\n",
    "    meas.register_parameter(x2, paramtype=paramtype)\n",
    "    meas.register_parameter(x3, paramtype=paramtype)\n",
    "    meas.register_parameter(y1, setpoints=[x1, x2, x3],\n",
    "                            paramtype=paramtype)\n",
    "    meas.register_parameter(y2, setpoints=[x1, x2, x3],\n",
    "                            paramtype=paramtype)\n",
    "    start = time.perf_counter()\n",
    "    with meas.run() as datasaver:\n",
    "        start_adding = time.perf_counter()\n",
    "        for i in range(nreps):\n",
    "            datasaver.add_result((x1, np.random.rand(npoints)),\n",
    "                                 (x2, np.random.rand(npoints)),\n",
    "                                 (x3, np.random.rand(npoints)),\n",
    "                                 (y1, np.random.rand(npoints)),\n",
    "                                 (y2, np.random.rand(npoints)))\n",
    "        stop_adding = time.perf_counter()\n",
    "        run_id = datasaver.run_id\n",
    "    stop = time.perf_counter()\n",
    "    tot_time = stop - start\n",
    "    add_time = stop_adding - start_adding\n",
    "    return tot_time, add_time, run_id"
   ]
  },
  {
   "cell_type": "markdown",
   "metadata": {},
   "source": [
    "## Comparison between numeric/array data and binary blob"
   ]
  },
  {
   "cell_type": "markdown",
   "metadata": {},
   "source": [
    "### Case1: Short experiment time"
   ]
  },
  {
   "cell_type": "code",
   "execution_count": 5,
   "metadata": {},
   "outputs": [
    {
     "name": "stdout",
     "output_type": "stream",
     "text": [
      "Starting experimental run with id: 1. \n",
      "Starting experimental run with id: 2. \n",
      "Starting experimental run with id: 3. \n",
      "Starting experimental run with id: 4. \n"
     ]
    },
    {
     "name": "stdout",
     "output_type": "stream",
     "text": [
      "Starting experimental run with id: 5. \n"
     ]
    },
    {
     "name": "stdout",
     "output_type": "stream",
     "text": [
      "Starting experimental run with id: 6. \n"
     ]
    },
    {
     "name": "stdout",
     "output_type": "stream",
     "text": [
      "Starting experimental run with id: 7. \n"
     ]
    },
    {
     "name": "stdout",
     "output_type": "stream",
     "text": [
      "Starting experimental run with id: 8. \n",
      "Starting experimental run with id: 9. \n"
     ]
    },
    {
     "name": "stdout",
     "output_type": "stream",
     "text": [
      "Starting experimental run with id: 10. \n",
      "Starting experimental run with id: 11. \n"
     ]
    },
    {
     "name": "stdout",
     "output_type": "stream",
     "text": [
      "Starting experimental run with id: 12. \n"
     ]
    },
    {
     "name": "stdout",
     "output_type": "stream",
     "text": [
      "Starting experimental run with id: 13. \n"
     ]
    },
    {
     "name": "stdout",
     "output_type": "stream",
     "text": [
      "Starting experimental run with id: 14. \n"
     ]
    }
   ],
   "source": [
    "sizes = [1,500,1000,2000,3000,4000,5000]\n",
    "t_numeric = []\n",
    "t_numeric_add = []\n",
    "t_array = []\n",
    "t_array_add = []\n",
    "for size in sizes:\n",
    "    tn, tna, run_id_n =  insert_data('numeric', size)\n",
    "    t_numeric.append(tn)\n",
    "    t_numeric_add.append(tna)\n",
    "\n",
    "    ta, taa, run_id_a =  insert_data('array', size)\n",
    "    t_array.append(ta)\n",
    "    t_array_add.append(taa)"
   ]
  },
  {
   "cell_type": "code",
   "execution_count": 6,
   "metadata": {},
   "outputs": [
    {
     "data": {
      "image/png": "[encoded data removed]",
      "text/plain": [
       "<Figure size 432x288 with 1 Axes>"
      ]
     },
     "metadata": {
      "needs_background": "light"
     },
     "output_type": "display_data"
    }
   ],
   "source": [
    "fig, ax = plt.subplots(1,1)\n",
    "ax.plot(sizes, t_numeric, 'o-', label='Inserting row-by-row')\n",
    "ax.plot(sizes, t_numeric_add, 'o-', label='Inserting row-by-row: add_result only')\n",
    "ax.plot(sizes, t_array, 'd-', label='Inserting as binary blob')\n",
    "ax.plot(sizes, t_array_add, 'd-', label='Inserting as binary blob: add_result only')\n",
    "ax.legend()\n",
    "ax.set_xlabel('Array length')\n",
    "ax.set_ylabel('Time (s)')\n",
    "fig.tight_layout()"
   ]
  },
  {
   "cell_type": "markdown",
   "metadata": {},
   "source": [
    "As shown in the latter figure, the time to setup and and close the experiment is approximately 0.4 sec. In case of small array sizes, the difference between inserting values of data as arrays and inserting them row-by-row is relatively unimportant. At larger array sizes, i.e. above 10000 points, the cost of writing data as individual datapoints starts to become important.\n"
   ]
  },
  {
   "cell_type": "markdown",
   "metadata": {},
   "source": [
    "### Case2: Long experiment time "
   ]
  },
  {
   "cell_type": "code",
   "execution_count": 7,
   "metadata": {},
   "outputs": [
    {
     "name": "stdout",
     "output_type": "stream",
     "text": [
      "Starting experimental run with id: 15. \n",
      "Starting experimental run with id: 16. \n",
      "Starting experimental run with id: 17. \n"
     ]
    },
    {
     "name": "stdout",
     "output_type": "stream",
     "text": [
      "Starting experimental run with id: 18. \n",
      "Starting experimental run with id: 19. \n"
     ]
    },
    {
     "name": "stdout",
     "output_type": "stream",
     "text": [
      "Starting experimental run with id: 20. \n"
     ]
    },
    {
     "name": "stdout",
     "output_type": "stream",
     "text": [
      "Starting experimental run with id: 21. \n"
     ]
    },
    {
     "name": "stdout",
     "output_type": "stream",
     "text": [
      "Starting experimental run with id: 22. \n"
     ]
    },
    {
     "name": "stdout",
     "output_type": "stream",
     "text": [
      "Starting experimental run with id: 23. \n"
     ]
    },
    {
     "name": "stdout",
     "output_type": "stream",
     "text": [
      "Starting experimental run with id: 24. \n"
     ]
    },
    {
     "name": "stdout",
     "output_type": "stream",
     "text": [
      "Starting experimental run with id: 25. \n"
     ]
    },
    {
     "name": "stdout",
     "output_type": "stream",
     "text": [
      "Starting experimental run with id: 26. \n"
     ]
    },
    {
     "name": "stdout",
     "output_type": "stream",
     "text": [
      "Starting experimental run with id: 27. \n"
     ]
    },
    {
     "name": "stdout",
     "output_type": "stream",
     "text": [
      "Starting experimental run with id: 28. \n"
     ]
    }
   ],
   "source": [
    "sizes = [1,500,1000,2000,3000,4000,5000]\n",
    "nreps = 100\n",
    "t_numeric = []\n",
    "t_numeric_add = []\n",
    "t_numeric_run_ids = []\n",
    "t_array = []\n",
    "t_array_add = []\n",
    "t_array_run_ids = []\n",
    "for size in sizes:\n",
    "    tn, tna, run_id_n =  insert_data('numeric', size, nreps=nreps)\n",
    "    t_numeric.append(tn)\n",
    "    t_numeric_add.append(tna)\n",
    "    t_numeric_run_ids.append(run_id_n)\n",
    "\n",
    "    ta, taa, run_id_a =  insert_data('array', size, nreps=nreps)\n",
    "    t_array.append(ta)\n",
    "    t_array_add.append(taa)\n",
    "    t_array_run_ids.append(run_id_a)"
   ]
  },
  {
   "cell_type": "code",
   "execution_count": 8,
   "metadata": {
    "scrolled": true
   },
   "outputs": [
    {
     "data": {
      "image/png": "[encoded data removed]",
      "text/plain": [
       "<Figure size 432x288 with 1 Axes>"
      ]
     },
     "metadata": {
      "needs_background": "light"
     },
     "output_type": "display_data"
    }
   ],
   "source": [
    "fig, ax = plt.subplots(1,1)\n",
    "ax.plot(sizes, t_numeric, 'o-', label='Inserting row-by-row')\n",
    "ax.plot(sizes, t_numeric_add, 'o-', label='Inserting row-by-row: add_result only')\n",
    "ax.plot(sizes, t_array, 'd-', label='Inserting as binary blob')\n",
    "ax.plot(sizes, t_array_add, 'd-', label='Inserting as binary blob: add_result only')\n",
    "ax.legend()\n",
    "ax.set_xlabel('Array length')\n",
    "ax.set_ylabel('Time (s)')\n",
    "fig.tight_layout()"
   ]
  },
  {
   "cell_type": "markdown",
   "metadata": {},
   "source": [
    "However, as we increase the length of the experiment, as seen here by repeating the insertion 100 times, we see a big difference between inserting values of the data row-by-row and inserting it as a binary blob."
   ]
  },
  {
   "cell_type": "markdown",
   "metadata": {},
   "source": [
    "## Loading the data "
   ]
  },
  {
   "cell_type": "code",
   "execution_count": 9,
   "metadata": {},
   "outputs": [],
   "source": [
    "from qcodes.dataset.data_set import load_by_id\n",
    "from qcodes.dataset.data_export import get_data_by_id"
   ]
  },
  {
   "cell_type": "markdown",
   "metadata": {},
   "source": [
    "As usual you can load the data by using the ``load_by_id`` function but you will notice that the different storage methods\n",
    "are reflected in shape of the data as it is retrieved. "
   ]
  },
  {
   "cell_type": "code",
   "execution_count": 10,
   "metadata": {},
   "outputs": [],
   "source": [
    "run_id_n = t_numeric_run_ids[0]\n",
    "run_id_a = t_array_run_ids[0]"
   ]
  },
  {
   "cell_type": "code",
   "execution_count": 11,
   "metadata": {
    "scrolled": true
   },
   "outputs": [
    {
     "data": {
      "text/plain": [
       "{'x1': {'x1': array([4.62297969e-01, 4.62297969e-01, 6.40059694e-01, 6.40059694e-01,\n",
       "         9.56653963e-01, 9.56653963e-01, 9.59887823e-01, 9.59887823e-01,\n",
       "         7.78638810e-01, 7.78638810e-01, 6.46522289e-01, 6.46522289e-01,\n",
       "         6.45233713e-02, 6.45233713e-02, 1.28941229e-01, 1.28941229e-01,\n",
       "         1.10786732e-02, 1.10786732e-02, 7.12398058e-01, 7.12398058e-01,\n",
       "         4.72730406e-01, 4.72730406e-01, 3.21223540e-01, 3.21223540e-01,\n",
       "         4.14228377e-01, 4.14228377e-01, 1.67862528e-01, 1.67862528e-01,\n",
       "         3.26295035e-01, 3.26295035e-01, 8.47963323e-01, 8.47963323e-01,\n",
       "         9.87972496e-01, 9.87972496e-01, 6.46285237e-01, 6.46285237e-01,\n",
       "         2.88915682e-02, 2.88915682e-02, 5.35880720e-01, 5.35880720e-01,\n",
       "         1.26283351e-02, 1.26283351e-02, 2.52478998e-04, 2.52478998e-04,\n",
       "         3.39483653e-01, 3.39483653e-01, 9.84814554e-01, 9.84814554e-01,\n",
       "         4.53997307e-01, 4.53997307e-01, 3.54305670e-01, 3.54305670e-01,\n",
       "         8.74885606e-01, 8.74885606e-01, 2.53265577e-01, 2.53265577e-01,\n",
       "         6.63743759e-02, 6.63743759e-02, 2.29805173e-01, 2.29805173e-01,\n",
       "         3.90445008e-01, 3.90445008e-01, 6.16930847e-01, 6.16930847e-01,\n",
       "         7.60570162e-01, 7.60570162e-01, 2.73592873e-01, 2.73592873e-01,\n",
       "         7.26333150e-01, 7.26333150e-01, 2.46433738e-01, 2.46433738e-01,\n",
       "         2.48565498e-01, 2.48565498e-01, 5.98706578e-01, 5.98706578e-01,\n",
       "         7.38588037e-01, 7.38588037e-01, 5.53971130e-01, 5.53971130e-01,\n",
       "         8.47339833e-01, 8.47339833e-01, 1.06373130e-01, 1.06373130e-01,\n",
       "         7.26974559e-01, 7.26974559e-01, 7.82246930e-01, 7.82246930e-01,\n",
       "         2.95447658e-01, 2.95447658e-01, 8.32786263e-02, 8.32786263e-02,\n",
       "         8.66476058e-01, 8.66476058e-01, 8.27873503e-01, 8.27873503e-01,\n",
       "         9.17689770e-01, 9.17689770e-01, 8.81228481e-01, 8.81228481e-01,\n",
       "         6.07793237e-01, 6.07793237e-01, 2.26757830e-01, 2.26757830e-01,\n",
       "         2.91877452e-01, 2.91877452e-01, 1.38249201e-01, 1.38249201e-01,\n",
       "         8.05160584e-01, 8.05160584e-01, 7.42779262e-01, 7.42779262e-01,\n",
       "         9.98520494e-01, 9.98520494e-01, 8.79038295e-01, 8.79038295e-01,\n",
       "         5.23594262e-01, 5.23594262e-01, 6.00214253e-01, 6.00214253e-01,\n",
       "         2.04126687e-01, 2.04126687e-01, 2.94241346e-01, 2.94241346e-01,\n",
       "         9.90554560e-01, 9.90554560e-01, 2.30690159e-01, 2.30690159e-01,\n",
       "         9.73036910e-01, 9.73036910e-01, 8.24154594e-01, 8.24154594e-01,\n",
       "         1.74071843e-02, 1.74071843e-02, 2.33215243e-01, 2.33215243e-01,\n",
       "         8.15949486e-01, 8.15949486e-01, 2.74933175e-01, 2.74933175e-01,\n",
       "         5.31487980e-01, 5.31487980e-01, 6.01562391e-01, 6.01562391e-01,\n",
       "         8.27573901e-01, 8.27573901e-01, 7.43652788e-01, 7.43652788e-01,\n",
       "         6.94573533e-01, 6.94573533e-01, 5.33357825e-01, 5.33357825e-01,\n",
       "         1.19480870e-01, 1.19480870e-01, 2.96212658e-01, 2.96212658e-01,\n",
       "         5.27327545e-01, 5.27327545e-01, 9.48369354e-01, 9.48369354e-01,\n",
       "         9.56332965e-01, 9.56332965e-01, 1.18850464e-01, 1.18850464e-01,\n",
       "         6.86620580e-01, 6.86620580e-01, 6.28473439e-01, 6.28473439e-01,\n",
       "         9.38269633e-01, 9.38269633e-01, 1.87913763e-01, 1.87913763e-01,\n",
       "         7.63857220e-02, 7.63857220e-02, 8.60359569e-01, 8.60359569e-01,\n",
       "         8.33843774e-01, 8.33843774e-01, 7.71532208e-01, 7.71532208e-01,\n",
       "         8.78979308e-01, 8.78979308e-01, 6.21959496e-01, 6.21959496e-01,\n",
       "         1.35276785e-01, 1.35276785e-01, 3.67975431e-01, 3.67975431e-01,\n",
       "         2.05469339e-01, 2.05469339e-01, 6.02008056e-01, 6.02008056e-01,\n",
       "         2.16250882e-01, 2.16250882e-01, 2.79703851e-01, 2.79703851e-01,\n",
       "         5.75165216e-01, 5.75165216e-01, 6.43907526e-01, 6.43907526e-01])}}"
      ]
     },
     "execution_count": 11,
     "metadata": {},
     "output_type": "execute_result"
    }
   ],
   "source": [
    "ds = load_by_id(run_id_n)\n",
    "ds.get_parameter_data('x1')"
   ]
  },
  {
   "cell_type": "markdown",
   "metadata": {},
   "source": [
    "And a dataset stored as binary arrays"
   ]
  },
  {
   "cell_type": "code",
   "execution_count": 12,
   "metadata": {
    "scrolled": true
   },
   "outputs": [
    {
     "data": {
      "text/plain": [
       "{'x1': {'x1': array([[0.36518303],\n",
       "         [0.36518303],\n",
       "         [0.04183399],\n",
       "         [0.04183399],\n",
       "         [0.54892611],\n",
       "         [0.54892611],\n",
       "         [0.14646165],\n",
       "         [0.14646165],\n",
       "         [0.93373274],\n",
       "         [0.93373274],\n",
       "         [0.3534088 ],\n",
       "         [0.3534088 ],\n",
       "         [0.22934414],\n",
       "         [0.22934414],\n",
       "         [0.14586479],\n",
       "         [0.14586479],\n",
       "         [0.06880435],\n",
       "         [0.06880435],\n",
       "         [0.25177265],\n",
       "         [0.25177265],\n",
       "         [0.70223465],\n",
       "         [0.70223465],\n",
       "         [0.03866667],\n",
       "         [0.03866667],\n",
       "         [0.76395194],\n",
       "         [0.76395194],\n",
       "         [0.58436139],\n",
       "         [0.58436139],\n",
       "         [0.32667267],\n",
       "         [0.32667267],\n",
       "         [0.50351305],\n",
       "         [0.50351305],\n",
       "         [0.85921637],\n",
       "         [0.85921637],\n",
       "         [0.29805562],\n",
       "         [0.29805562],\n",
       "         [0.15330717],\n",
       "         [0.15330717],\n",
       "         [0.88317196],\n",
       "         [0.88317196],\n",
       "         [0.15846721],\n",
       "         [0.15846721],\n",
       "         [0.64263616],\n",
       "         [0.64263616],\n",
       "         [0.76774105],\n",
       "         [0.76774105],\n",
       "         [0.63710702],\n",
       "         [0.63710702],\n",
       "         [0.16448909],\n",
       "         [0.16448909],\n",
       "         [0.96457395],\n",
       "         [0.96457395],\n",
       "         [0.10972312],\n",
       "         [0.10972312],\n",
       "         [0.71258541],\n",
       "         [0.71258541],\n",
       "         [0.45902107],\n",
       "         [0.45902107],\n",
       "         [0.58963133],\n",
       "         [0.58963133],\n",
       "         [0.23432826],\n",
       "         [0.23432826],\n",
       "         [0.67910793],\n",
       "         [0.67910793],\n",
       "         [0.0676257 ],\n",
       "         [0.0676257 ],\n",
       "         [0.91458952],\n",
       "         [0.91458952],\n",
       "         [0.21482851],\n",
       "         [0.21482851],\n",
       "         [0.03119629],\n",
       "         [0.03119629],\n",
       "         [0.4345443 ],\n",
       "         [0.4345443 ],\n",
       "         [0.16286391],\n",
       "         [0.16286391],\n",
       "         [0.79095333],\n",
       "         [0.79095333],\n",
       "         [0.48433306],\n",
       "         [0.48433306],\n",
       "         [0.79077872],\n",
       "         [0.79077872],\n",
       "         [0.26002219],\n",
       "         [0.26002219],\n",
       "         [0.52647729],\n",
       "         [0.52647729],\n",
       "         [0.25295862],\n",
       "         [0.25295862],\n",
       "         [0.77853583],\n",
       "         [0.77853583],\n",
       "         [0.33901978],\n",
       "         [0.33901978],\n",
       "         [0.9043498 ],\n",
       "         [0.9043498 ],\n",
       "         [0.60836279],\n",
       "         [0.60836279],\n",
       "         [0.68672841],\n",
       "         [0.68672841],\n",
       "         [0.4968612 ],\n",
       "         [0.4968612 ],\n",
       "         [0.42621422],\n",
       "         [0.42621422],\n",
       "         [0.36355081],\n",
       "         [0.36355081],\n",
       "         [0.24704784],\n",
       "         [0.24704784],\n",
       "         [0.14770698],\n",
       "         [0.14770698],\n",
       "         [0.9446102 ],\n",
       "         [0.9446102 ],\n",
       "         [0.52961747],\n",
       "         [0.52961747],\n",
       "         [0.9687671 ],\n",
       "         [0.9687671 ],\n",
       "         [0.34365076],\n",
       "         [0.34365076],\n",
       "         [0.14107483],\n",
       "         [0.14107483],\n",
       "         [0.1971856 ],\n",
       "         [0.1971856 ],\n",
       "         [0.36043945],\n",
       "         [0.36043945],\n",
       "         [0.58256773],\n",
       "         [0.58256773],\n",
       "         [0.21820677],\n",
       "         [0.21820677],\n",
       "         [0.10956526],\n",
       "         [0.10956526],\n",
       "         [0.0222009 ],\n",
       "         [0.0222009 ],\n",
       "         [0.97022982],\n",
       "         [0.97022982],\n",
       "         [0.11304091],\n",
       "         [0.11304091],\n",
       "         [0.17204823],\n",
       "         [0.17204823],\n",
       "         [0.44421488],\n",
       "         [0.44421488],\n",
       "         [0.55805938],\n",
       "         [0.55805938],\n",
       "         [0.47068642],\n",
       "         [0.47068642],\n",
       "         [0.22460033],\n",
       "         [0.22460033],\n",
       "         [0.80369151],\n",
       "         [0.80369151],\n",
       "         [0.44167615],\n",
       "         [0.44167615],\n",
       "         [0.53465568],\n",
       "         [0.53465568],\n",
       "         [0.99097723],\n",
       "         [0.99097723],\n",
       "         [0.72040828],\n",
       "         [0.72040828],\n",
       "         [0.16441464],\n",
       "         [0.16441464],\n",
       "         [0.48815881],\n",
       "         [0.48815881],\n",
       "         [0.72791282],\n",
       "         [0.72791282],\n",
       "         [0.43020952],\n",
       "         [0.43020952],\n",
       "         [0.03605311],\n",
       "         [0.03605311],\n",
       "         [0.0486297 ],\n",
       "         [0.0486297 ],\n",
       "         [0.87549815],\n",
       "         [0.87549815],\n",
       "         [0.7934319 ],\n",
       "         [0.7934319 ],\n",
       "         [0.19151473],\n",
       "         [0.19151473],\n",
       "         [0.49671873],\n",
       "         [0.49671873],\n",
       "         [0.4428605 ],\n",
       "         [0.4428605 ],\n",
       "         [0.56459911],\n",
       "         [0.56459911],\n",
       "         [0.80476428],\n",
       "         [0.80476428],\n",
       "         [0.07860615],\n",
       "         [0.07860615],\n",
       "         [0.99312993],\n",
       "         [0.99312993],\n",
       "         [0.03214418],\n",
       "         [0.03214418],\n",
       "         [0.33995112],\n",
       "         [0.33995112],\n",
       "         [0.03279045],\n",
       "         [0.03279045],\n",
       "         [0.66101531],\n",
       "         [0.66101531],\n",
       "         [0.84851775],\n",
       "         [0.84851775],\n",
       "         [0.44585738],\n",
       "         [0.44585738],\n",
       "         [0.41065449],\n",
       "         [0.41065449],\n",
       "         [0.27684695],\n",
       "         [0.27684695]])}}"
      ]
     },
     "execution_count": 12,
     "metadata": {},
     "output_type": "execute_result"
    }
   ],
   "source": [
    "ds = load_by_id(run_id_a)\n",
    "ds.get_parameter_data('x1')"
   ]
  },
  {
   "cell_type": "code",
   "execution_count": null,
   "metadata": {},
   "outputs": [],
   "source": []
  }
 ],
 "metadata": {
  "kernelspec": {
   "display_name": "Python 3",
   "language": "python",
   "name": "python3"
  },
  "language_info": {
   "codemirror_mode": {
    "name": "ipython",
    "version": 3
   },
   "file_extension": ".py",
   "mimetype": "text/x-python",
   "name": "python",
   "nbconvert_exporter": "python",
   "pygments_lexer": "ipython3",
   "version": "3.7.7"
  },
  "nbsphinx": {
   "timeout": 600
  },
  "toc": {
   "base_numbering": 1,
   "nav_menu": {},
   "number_sections": true,
   "sideBar": true,
   "skip_h1_title": false,
   "title_cell": "Table of Contents",
   "title_sidebar": "Contents",
   "toc_cell": false,
   "toc_position": {},
   "toc_section_display": true,
   "toc_window_display": false
  },
  "varInspector": {
   "cols": {
    "lenName": 16,
    "lenType": 16,
    "lenVar": 40
   },
   "kernels_config": {
    "python": {
     "delete_cmd_postfix": "",
     "delete_cmd_prefix": "del ",
     "library": "var_list.py",
     "varRefreshCmd": "print(var_dic_list())"
    },
    "r": {
     "delete_cmd_postfix": ") ",
     "delete_cmd_prefix": "rm(",
     "library": "var_list.r",
     "varRefreshCmd": "cat(var_dic_list()) "
    }
   },
   "types_to_exclude": [
    "module",
    "function",
    "builtin_function_or_method",
    "instance",
    "_Feature"
   ],
   "window_display": false
  }
 },
 "nbformat": 4,
 "nbformat_minor": 2
}
