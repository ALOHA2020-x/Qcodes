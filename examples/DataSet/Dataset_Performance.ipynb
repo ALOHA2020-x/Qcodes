{
 "cells": [
  {
   "cell_type": "markdown",
   "metadata": {},
   "source": [
    "# DataSet Performance\n",
    "\n",
    "This notebook shows the trade-off between inserting data into a database row-by-row and as binary blobs. Inserting the data row-by-row means that we have direct access to all the data and may perform queries directly on the values of the data. On the other hand, as we shall see, this is much slower than inserting the data directly as binary blobs."
   ]
  },
  {
   "cell_type": "markdown",
   "metadata": {},
   "source": [
    "First, we choose a new location for the database to ensure that we don't add a bunch of benchmarking data to the default one."
   ]
  },
  {
   "cell_type": "code",
   "execution_count": 1,
   "metadata": {
    "execution": {
     "iopub.execute_input": "2021-03-01T13:00:49.902917Z",
     "iopub.status.busy": "2021-03-01T13:00:49.902267Z",
     "iopub.status.idle": "2021-03-01T13:00:50.797668Z",
     "shell.execute_reply": "2021-03-01T13:00:50.796982Z"
    }
   },
   "outputs": [
    {
     "name": "stdout",
     "output_type": "stream",
     "text": [
      "Logging hadn't been started.\n",
      "Activating auto-logging. Current session state plus future input saved.\n",
      "Filename       : /home/runner/.qcodes/logs/command_history.log\n",
      "Mode           : append\n",
      "Output logging : True\n",
      "Raw input log  : False\n",
      "Timestamping   : True\n",
      "State          : active\n"
     ]
    },
    {
     "name": "stdout",
     "output_type": "stream",
     "text": [
      "Qcodes Logfile : /home/runner/.qcodes/logs/210301-4083-qcodes.log\n"
     ]
    }
   ],
   "source": [
    "import os\n",
    "cwd = os.getcwd()\n",
    "import qcodes as qc\n",
    "qc.config[\"core\"][\"db_location\"] = os.path.join(cwd, 'testing.db')\n"
   ]
  },
  {
   "cell_type": "code",
   "execution_count": 2,
   "metadata": {
    "execution": {
     "iopub.execute_input": "2021-03-01T13:00:50.804049Z",
     "iopub.status.busy": "2021-03-01T13:00:50.803082Z",
     "iopub.status.idle": "2021-03-01T13:00:51.002403Z",
     "shell.execute_reply": "2021-03-01T13:00:51.002902Z"
    }
   },
   "outputs": [],
   "source": [
    "%matplotlib inline\n",
    "import time\n",
    "import matplotlib.pyplot as plt\n",
    "import numpy as np\n",
    "\n",
    "import qcodes as qc\n",
    "from qcodes.instrument.parameter import ManualParameter\n",
    "from qcodes.dataset.experiment_container import (Experiment,\n",
    "                                                 load_last_experiment,\n",
    "                                                 new_experiment)\n",
    "from qcodes.dataset.sqlite.database import initialise_database\n",
    "from qcodes import load_or_create_experiment\n",
    "from qcodes.dataset.measurements import Measurement"
   ]
  },
  {
   "cell_type": "code",
   "execution_count": 3,
   "metadata": {
    "execution": {
     "iopub.execute_input": "2021-03-01T13:00:51.006998Z",
     "iopub.status.busy": "2021-03-01T13:00:51.006321Z",
     "iopub.status.idle": "2021-03-01T13:00:51.116166Z",
     "shell.execute_reply": "2021-03-01T13:00:51.115632Z"
    }
   },
   "outputs": [
    {
     "name": "stdout",
     "output_type": "stream",
     "text": [
      "\r",
      "0it [00:00, ?it/s]"
     ]
    },
    {
     "name": "stdout",
     "output_type": "stream",
     "text": [
      "\r",
      "Upgrading database; v0 -> v1: : 0it [00:00, ?it/s]"
     ]
    },
    {
     "name": "stdout",
     "output_type": "stream",
     "text": [
      "\r",
      "Upgrading database; v0 -> v1: : 0it [00:00, ?it/s]"
     ]
    },
    {
     "name": "stdout",
     "output_type": "stream",
     "text": [
      "\n",
      "\r",
      "  0%|          | 0/1 [00:00<?, ?it/s]"
     ]
    },
    {
     "name": "stdout",
     "output_type": "stream",
     "text": [
      "\r",
      "Upgrading database; v1 -> v2:   0%|          | 0/1 [00:00<?, ?it/s]"
     ]
    },
    {
     "name": "stdout",
     "output_type": "stream",
     "text": [
      "\r",
      "Upgrading database; v1 -> v2: 100%|██████████| 1/1 [00:00<00:00, 405.33it/s]"
     ]
    },
    {
     "name": "stdout",
     "output_type": "stream",
     "text": [
      "\n",
      "\r",
      "0it [00:00, ?it/s]"
     ]
    },
    {
     "name": "stdout",
     "output_type": "stream",
     "text": [
      "\r",
      "Upgrading database; v2 -> v3: : 0it [00:00, ?it/s]"
     ]
    },
    {
     "name": "stdout",
     "output_type": "stream",
     "text": [
      "\r",
      "Upgrading database; v2 -> v3: : 0it [00:00, ?it/s]"
     ]
    },
    {
     "name": "stdout",
     "output_type": "stream",
     "text": [
      "\n",
      "\r",
      "0it [00:00, ?it/s]"
     ]
    },
    {
     "name": "stdout",
     "output_type": "stream",
     "text": [
      "\r",
      "Upgrading database; v3 -> v4: : 0it [00:00, ?it/s]"
     ]
    },
    {
     "name": "stdout",
     "output_type": "stream",
     "text": [
      "\r",
      "Upgrading database; v3 -> v4: : 0it [00:00, ?it/s]"
     ]
    },
    {
     "name": "stdout",
     "output_type": "stream",
     "text": [
      "\n",
      "\r",
      "  0%|          | 0/1 [00:00<?, ?it/s]"
     ]
    },
    {
     "name": "stdout",
     "output_type": "stream",
     "text": [
      "\r",
      "Upgrading database; v4 -> v5:   0%|          | 0/1 [00:00<?, ?it/s]"
     ]
    },
    {
     "name": "stdout",
     "output_type": "stream",
     "text": [
      "\r",
      "Upgrading database; v4 -> v5: 100%|██████████| 1/1 [00:00<00:00, 436.32it/s]"
     ]
    },
    {
     "name": "stdout",
     "output_type": "stream",
     "text": [
      "\n",
      "\r",
      "0it [00:00, ?it/s]"
     ]
    },
    {
     "name": "stdout",
     "output_type": "stream",
     "text": [
      "\r",
      "Upgrading database; v5 -> v6: : 0it [00:00, ?it/s]"
     ]
    },
    {
     "name": "stdout",
     "output_type": "stream",
     "text": [
      "\r",
      "Upgrading database; v5 -> v6: : 0it [00:00, ?it/s]"
     ]
    },
    {
     "name": "stdout",
     "output_type": "stream",
     "text": [
      "\n",
      "\r",
      "  0%|          | 0/1 [00:00<?, ?it/s]"
     ]
    },
    {
     "name": "stdout",
     "output_type": "stream",
     "text": [
      "\r",
      "Upgrading database; v6 -> v7:   0%|          | 0/1 [00:00<?, ?it/s]"
     ]
    },
    {
     "name": "stdout",
     "output_type": "stream",
     "text": [
      "\r",
      "Upgrading database; v6 -> v7: 100%|██████████| 1/1 [00:00<00:00, 485.56it/s]"
     ]
    },
    {
     "name": "stdout",
     "output_type": "stream",
     "text": [
      "\n",
      "\r",
      "  0%|          | 0/1 [00:00<?, ?it/s]"
     ]
    },
    {
     "name": "stdout",
     "output_type": "stream",
     "text": [
      "\r",
      "Upgrading database; v7 -> v8:   0%|          | 0/1 [00:00<?, ?it/s]"
     ]
    },
    {
     "name": "stdout",
     "output_type": "stream",
     "text": [
      "\r",
      "Upgrading database; v7 -> v8: 100%|██████████| 1/1 [00:00<00:00, 724.15it/s]"
     ]
    },
    {
     "name": "stdout",
     "output_type": "stream",
     "text": [
      "\n",
      "\r",
      "  0%|          | 0/1 [00:00<?, ?it/s]"
     ]
    },
    {
     "name": "stdout",
     "output_type": "stream",
     "text": [
      "\r",
      "Upgrading database; v8 -> v9:   0%|          | 0/1 [00:00<?, ?it/s]"
     ]
    },
    {
     "name": "stdout",
     "output_type": "stream",
     "text": [
      "\r",
      "Upgrading database; v8 -> v9: 100%|██████████| 1/1 [00:00<00:00, 1046.22it/s]"
     ]
    },
    {
     "name": "stdout",
     "output_type": "stream",
     "text": [
      "\n"
     ]
    }
   ],
   "source": [
    "initialise_database()\n",
    "exp = load_or_create_experiment(experiment_name='tutorial_exp', sample_name=\"no sample\")"
   ]
  },
  {
   "cell_type": "markdown",
   "metadata": {},
   "source": [
    "Here, we define a simple function to benchmark the time it takes to insert n points with either numeric or array data type.\n",
    "We will compare both the time used to call ``add_result`` and the time used for the full measurement."
   ]
  },
  {
   "cell_type": "code",
   "execution_count": 4,
   "metadata": {
    "execution": {
     "iopub.execute_input": "2021-03-01T13:00:51.126161Z",
     "iopub.status.busy": "2021-03-01T13:00:51.124887Z",
     "iopub.status.idle": "2021-03-01T13:00:51.126857Z",
     "shell.execute_reply": "2021-03-01T13:00:51.127350Z"
    }
   },
   "outputs": [],
   "source": [
    "def insert_data(paramtype, npoints, nreps=1):\n",
    "\n",
    "    meas = Measurement(exp=exp)\n",
    "\n",
    "    x1 = ManualParameter('x1')\n",
    "    x2 = ManualParameter('x2')\n",
    "    x3 = ManualParameter('x3')\n",
    "    y1 = ManualParameter('y1')\n",
    "    y2 = ManualParameter('y2')\n",
    "\n",
    "    meas.register_parameter(x1, paramtype=paramtype)\n",
    "    meas.register_parameter(x2, paramtype=paramtype)\n",
    "    meas.register_parameter(x3, paramtype=paramtype)\n",
    "    meas.register_parameter(y1, setpoints=[x1, x2, x3],\n",
    "                            paramtype=paramtype)\n",
    "    meas.register_parameter(y2, setpoints=[x1, x2, x3],\n",
    "                            paramtype=paramtype)\n",
    "    start = time.perf_counter()\n",
    "    with meas.run() as datasaver:\n",
    "        start_adding = time.perf_counter()\n",
    "        for i in range(nreps):\n",
    "            datasaver.add_result((x1, np.random.rand(npoints)),\n",
    "                                 (x2, np.random.rand(npoints)),\n",
    "                                 (x3, np.random.rand(npoints)),\n",
    "                                 (y1, np.random.rand(npoints)),\n",
    "                                 (y2, np.random.rand(npoints)))\n",
    "        stop_adding = time.perf_counter()\n",
    "        run_id = datasaver.run_id\n",
    "    stop = time.perf_counter()\n",
    "    tot_time = stop - start\n",
    "    add_time = stop_adding - start_adding\n",
    "    return tot_time, add_time, run_id"
   ]
  },
  {
   "cell_type": "markdown",
   "metadata": {},
   "source": [
    "## Comparison between numeric/array data and binary blob"
   ]
  },
  {
   "cell_type": "markdown",
   "metadata": {},
   "source": [
    "### Case1: Short experiment time"
   ]
  },
  {
   "cell_type": "code",
   "execution_count": 5,
   "metadata": {
    "execution": {
     "iopub.execute_input": "2021-03-01T13:00:51.134500Z",
     "iopub.status.busy": "2021-03-01T13:00:51.133885Z",
     "iopub.status.idle": "2021-03-01T13:00:51.963839Z",
     "shell.execute_reply": "2021-03-01T13:00:51.964353Z"
    }
   },
   "outputs": [
    {
     "name": "stdout",
     "output_type": "stream",
     "text": [
      "Starting experimental run with id: 1. \n",
      "Starting experimental run with id: 2. \n",
      "Starting experimental run with id: 3. \n",
      "Starting experimental run with id: 4. \n",
      "Starting experimental run with id: 5. \n"
     ]
    },
    {
     "name": "stdout",
     "output_type": "stream",
     "text": [
      "Starting experimental run with id: 6. \n"
     ]
    },
    {
     "name": "stdout",
     "output_type": "stream",
     "text": [
      "Starting experimental run with id: 7. \n"
     ]
    },
    {
     "name": "stdout",
     "output_type": "stream",
     "text": [
      "Starting experimental run with id: 8. \n",
      "Starting experimental run with id: 9. \n"
     ]
    },
    {
     "name": "stdout",
     "output_type": "stream",
     "text": [
      "Starting experimental run with id: 10. \n",
      "Starting experimental run with id: 11. \n"
     ]
    },
    {
     "name": "stdout",
     "output_type": "stream",
     "text": [
      "Starting experimental run with id: 12. \n",
      "Starting experimental run with id: 13. \n"
     ]
    },
    {
     "name": "stdout",
     "output_type": "stream",
     "text": [
      "Starting experimental run with id: 14. \n"
     ]
    }
   ],
   "source": [
    "sizes = [1,500,1000,2000,3000,4000,5000]\n",
    "t_numeric = []\n",
    "t_numeric_add = []\n",
    "t_array = []\n",
    "t_array_add = []\n",
    "for size in sizes:\n",
    "    tn, tna, run_id_n =  insert_data('numeric', size)\n",
    "    t_numeric.append(tn)\n",
    "    t_numeric_add.append(tna)\n",
    "\n",
    "    ta, taa, run_id_a =  insert_data('array', size)\n",
    "    t_array.append(ta)\n",
    "    t_array_add.append(taa)"
   ]
  },
  {
   "cell_type": "code",
   "execution_count": 6,
   "metadata": {
    "execution": {
     "iopub.execute_input": "2021-03-01T13:00:52.009795Z",
     "iopub.status.busy": "2021-03-01T13:00:51.982788Z",
     "iopub.status.idle": "2021-03-01T13:00:52.189959Z",
     "shell.execute_reply": "2021-03-01T13:00:52.189002Z"
    }
   },
   "outputs": [
    {
     "data": {
      "image/png": "[encoded data removed]",
      "text/plain": [
       "<Figure size 432x288 with 1 Axes>"
      ]
     },
     "metadata": {
      "needs_background": "light"
     },
     "output_type": "display_data"
    }
   ],
   "source": [
    "fig, ax = plt.subplots(1,1)\n",
    "ax.plot(sizes, t_numeric, 'o-', label='Inserting row-by-row')\n",
    "ax.plot(sizes, t_numeric_add, 'o-', label='Inserting row-by-row: add_result only')\n",
    "ax.plot(sizes, t_array, 'd-', label='Inserting as binary blob')\n",
    "ax.plot(sizes, t_array_add, 'd-', label='Inserting as binary blob: add_result only')\n",
    "ax.legend()\n",
    "ax.set_xlabel('Array length')\n",
    "ax.set_ylabel('Time (s)')\n",
    "fig.tight_layout()"
   ]
  },
  {
   "cell_type": "markdown",
   "metadata": {},
   "source": [
    "As shown in the latter figure, the time to setup and and close the experiment is approximately 0.4 sec. In case of small array sizes, the difference between inserting values of data as arrays and inserting them row-by-row is relatively unimportant. At larger array sizes, i.e. above 10000 points, the cost of writing data as individual datapoints starts to become important.\n"
   ]
  },
  {
   "cell_type": "markdown",
   "metadata": {},
   "source": [
    "### Case2: Long experiment time "
   ]
  },
  {
   "cell_type": "code",
   "execution_count": 7,
   "metadata": {
    "execution": {
     "iopub.execute_input": "2021-03-01T13:00:52.198581Z",
     "iopub.status.busy": "2021-03-01T13:00:52.197496Z",
     "iopub.status.idle": "2021-03-01T13:01:52.374525Z",
     "shell.execute_reply": "2021-03-01T13:01:52.375378Z"
    }
   },
   "outputs": [
    {
     "name": "stdout",
     "output_type": "stream",
     "text": [
      "Starting experimental run with id: 15. \n",
      "Starting experimental run with id: 16. \n",
      "Starting experimental run with id: 17. \n"
     ]
    },
    {
     "name": "stdout",
     "output_type": "stream",
     "text": [
      "Starting experimental run with id: 18. \n"
     ]
    },
    {
     "name": "stdout",
     "output_type": "stream",
     "text": [
      "Starting experimental run with id: 19. \n"
     ]
    },
    {
     "name": "stdout",
     "output_type": "stream",
     "text": [
      "Starting experimental run with id: 20. \n"
     ]
    },
    {
     "name": "stdout",
     "output_type": "stream",
     "text": [
      "Starting experimental run with id: 21. \n"
     ]
    },
    {
     "name": "stdout",
     "output_type": "stream",
     "text": [
      "Starting experimental run with id: 22. \n"
     ]
    },
    {
     "name": "stdout",
     "output_type": "stream",
     "text": [
      "Starting experimental run with id: 23. \n"
     ]
    },
    {
     "name": "stdout",
     "output_type": "stream",
     "text": [
      "Starting experimental run with id: 24. \n"
     ]
    },
    {
     "name": "stdout",
     "output_type": "stream",
     "text": [
      "Starting experimental run with id: 25. \n"
     ]
    },
    {
     "name": "stdout",
     "output_type": "stream",
     "text": [
      "Starting experimental run with id: 26. \n"
     ]
    },
    {
     "name": "stdout",
     "output_type": "stream",
     "text": [
      "Starting experimental run with id: 27. \n"
     ]
    },
    {
     "name": "stdout",
     "output_type": "stream",
     "text": [
      "Starting experimental run with id: 28. \n"
     ]
    }
   ],
   "source": [
    "sizes = [1,500,1000,2000,3000,4000,5000]\n",
    "nreps = 100\n",
    "t_numeric = []\n",
    "t_numeric_add = []\n",
    "t_numeric_run_ids = []\n",
    "t_array = []\n",
    "t_array_add = []\n",
    "t_array_run_ids = []\n",
    "for size in sizes:\n",
    "    tn, tna, run_id_n =  insert_data('numeric', size, nreps=nreps)\n",
    "    t_numeric.append(tn)\n",
    "    t_numeric_add.append(tna)\n",
    "    t_numeric_run_ids.append(run_id_n)\n",
    "\n",
    "    ta, taa, run_id_a =  insert_data('array', size, nreps=nreps)\n",
    "    t_array.append(ta)\n",
    "    t_array_add.append(taa)\n",
    "    t_array_run_ids.append(run_id_a)"
   ]
  },
  {
   "cell_type": "code",
   "execution_count": 8,
   "metadata": {
    "execution": {
     "iopub.execute_input": "2021-03-01T13:01:52.416705Z",
     "iopub.status.busy": "2021-03-01T13:01:52.415621Z",
     "iopub.status.idle": "2021-03-01T13:01:52.583746Z",
     "shell.execute_reply": "2021-03-01T13:01:52.584233Z"
    },
    "scrolled": true
   },
   "outputs": [
    {
     "data": {
      "image/png": "[encoded data removed]",
      "text/plain": [
       "<Figure size 432x288 with 1 Axes>"
      ]
     },
     "metadata": {
      "needs_background": "light"
     },
     "output_type": "display_data"
    }
   ],
   "source": [
    "fig, ax = plt.subplots(1,1)\n",
    "ax.plot(sizes, t_numeric, 'o-', label='Inserting row-by-row')\n",
    "ax.plot(sizes, t_numeric_add, 'o-', label='Inserting row-by-row: add_result only')\n",
    "ax.plot(sizes, t_array, 'd-', label='Inserting as binary blob')\n",
    "ax.plot(sizes, t_array_add, 'd-', label='Inserting as binary blob: add_result only')\n",
    "ax.legend()\n",
    "ax.set_xlabel('Array length')\n",
    "ax.set_ylabel('Time (s)')\n",
    "fig.tight_layout()"
   ]
  },
  {
   "cell_type": "markdown",
   "metadata": {},
   "source": [
    "However, as we increase the length of the experiment, as seen here by repeating the insertion 100 times, we see a big difference between inserting values of the data row-by-row and inserting it as a binary blob."
   ]
  },
  {
   "cell_type": "markdown",
   "metadata": {},
   "source": [
    "## Loading the data "
   ]
  },
  {
   "cell_type": "code",
   "execution_count": 9,
   "metadata": {
    "execution": {
     "iopub.execute_input": "2021-03-01T13:01:52.587948Z",
     "iopub.status.busy": "2021-03-01T13:01:52.587371Z",
     "iopub.status.idle": "2021-03-01T13:01:52.590974Z",
     "shell.execute_reply": "2021-03-01T13:01:52.590491Z"
    }
   },
   "outputs": [],
   "source": [
    "from qcodes.dataset.data_set import load_by_id\n",
    "from qcodes.dataset.data_export import get_data_by_id"
   ]
  },
  {
   "cell_type": "markdown",
   "metadata": {},
   "source": [
    "As usual you can load the data by using the ``load_by_id`` function but you will notice that the different storage methods\n",
    "are reflected in shape of the data as it is retrieved. "
   ]
  },
  {
   "cell_type": "code",
   "execution_count": 10,
   "metadata": {
    "execution": {
     "iopub.execute_input": "2021-03-01T13:01:52.594836Z",
     "iopub.status.busy": "2021-03-01T13:01:52.594241Z",
     "iopub.status.idle": "2021-03-01T13:01:52.596423Z",
     "shell.execute_reply": "2021-03-01T13:01:52.595951Z"
    }
   },
   "outputs": [],
   "source": [
    "run_id_n = t_numeric_run_ids[0]\n",
    "run_id_a = t_array_run_ids[0]"
   ]
  },
  {
   "cell_type": "code",
   "execution_count": 11,
   "metadata": {
    "execution": {
     "iopub.execute_input": "2021-03-01T13:01:52.599796Z",
     "iopub.status.busy": "2021-03-01T13:01:52.599239Z",
     "iopub.status.idle": "2021-03-01T13:01:52.608469Z",
     "shell.execute_reply": "2021-03-01T13:01:52.608948Z"
    },
    "scrolled": true
   },
   "outputs": [
    {
     "data": {
      "text/plain": [
       "{'x1': {'x1': array([0.70795459, 0.70795459, 0.97769331, 0.97769331, 0.52261349,\n",
       "         0.52261349, 0.13736582, 0.13736582, 0.1494817 , 0.1494817 ,\n",
       "         0.93069957, 0.93069957, 0.25154139, 0.25154139, 0.81370428,\n",
       "         0.81370428, 0.77532497, 0.77532497, 0.00773362, 0.00773362,\n",
       "         0.12434685, 0.12434685, 0.69723458, 0.69723458, 0.59182998,\n",
       "         0.59182998, 0.08018074, 0.08018074, 0.55193861, 0.55193861,\n",
       "         0.26995652, 0.26995652, 0.53346442, 0.53346442, 0.12271714,\n",
       "         0.12271714, 0.29260696, 0.29260696, 0.08106534, 0.08106534,\n",
       "         0.96196239, 0.96196239, 0.47041165, 0.47041165, 0.50940036,\n",
       "         0.50940036, 0.60230399, 0.60230399, 0.45056508, 0.45056508,\n",
       "         0.6411734 , 0.6411734 , 0.41028639, 0.41028639, 0.6143819 ,\n",
       "         0.6143819 , 0.42494256, 0.42494256, 0.66456253, 0.66456253,\n",
       "         0.66573966, 0.66573966, 0.73771306, 0.73771306, 0.41374223,\n",
       "         0.41374223, 0.34529465, 0.34529465, 0.08136611, 0.08136611,\n",
       "         0.15143077, 0.15143077, 0.27123025, 0.27123025, 0.39628636,\n",
       "         0.39628636, 0.14101869, 0.14101869, 0.32163462, 0.32163462,\n",
       "         0.55355374, 0.55355374, 0.40060662, 0.40060662, 0.28025221,\n",
       "         0.28025221, 0.50565783, 0.50565783, 0.10449391, 0.10449391,\n",
       "         0.97686559, 0.97686559, 0.08540153, 0.08540153, 0.07991097,\n",
       "         0.07991097, 0.80798089, 0.80798089, 0.62987516, 0.62987516,\n",
       "         0.11996158, 0.11996158, 0.18415593, 0.18415593, 0.99149681,\n",
       "         0.99149681, 0.28257841, 0.28257841, 0.68209226, 0.68209226,\n",
       "         0.81600603, 0.81600603, 0.93003644, 0.93003644, 0.65352084,\n",
       "         0.65352084, 0.87111884, 0.87111884, 0.27379897, 0.27379897,\n",
       "         0.58183932, 0.58183932, 0.26707549, 0.26707549, 0.55420849,\n",
       "         0.55420849, 0.12911736, 0.12911736, 0.39735033, 0.39735033,\n",
       "         0.44312466, 0.44312466, 0.24595599, 0.24595599, 0.51950545,\n",
       "         0.51950545, 0.7052393 , 0.7052393 , 0.47035941, 0.47035941,\n",
       "         0.8610058 , 0.8610058 , 0.32508744, 0.32508744, 0.68190973,\n",
       "         0.68190973, 0.68905694, 0.68905694, 0.40171774, 0.40171774,\n",
       "         0.96881987, 0.96881987, 0.30026263, 0.30026263, 0.29495971,\n",
       "         0.29495971, 0.14315962, 0.14315962, 0.89851265, 0.89851265,\n",
       "         0.12299697, 0.12299697, 0.8664005 , 0.8664005 , 0.54177008,\n",
       "         0.54177008, 0.71840122, 0.71840122, 0.82818642, 0.82818642,\n",
       "         0.69408164, 0.69408164, 0.51607225, 0.51607225, 0.49947114,\n",
       "         0.49947114, 0.92848269, 0.92848269, 0.74308496, 0.74308496,\n",
       "         0.69003309, 0.69003309, 0.13371543, 0.13371543, 0.35078991,\n",
       "         0.35078991, 0.7154028 , 0.7154028 , 0.97741362, 0.97741362,\n",
       "         0.56508911, 0.56508911, 0.02834756, 0.02834756, 0.35167893,\n",
       "         0.35167893, 0.78548637, 0.78548637, 0.09579685, 0.09579685])}}"
      ]
     },
     "execution_count": 1,
     "metadata": {},
     "output_type": "execute_result"
    }
   ],
   "source": [
    "ds = load_by_id(run_id_n)\n",
    "ds.get_parameter_data('x1')"
   ]
  },
  {
   "cell_type": "markdown",
   "metadata": {},
   "source": [
    "And a dataset stored as binary arrays"
   ]
  },
  {
   "cell_type": "code",
   "execution_count": 12,
   "metadata": {
    "execution": {
     "iopub.execute_input": "2021-03-01T13:01:52.612434Z",
     "iopub.status.busy": "2021-03-01T13:01:52.611872Z",
     "iopub.status.idle": "2021-03-01T13:01:52.670154Z",
     "shell.execute_reply": "2021-03-01T13:01:52.671049Z"
    },
    "scrolled": true
   },
   "outputs": [
    {
     "data": {
      "text/plain": [
       "{'x1': {'x1': array([[3.85349854e-01],\n",
       "         [3.85349854e-01],\n",
       "         [5.60531809e-01],\n",
       "         [5.60531809e-01],\n",
       "         [9.67492517e-01],\n",
       "         [9.67492517e-01],\n",
       "         [9.98459617e-02],\n",
       "         [9.98459617e-02],\n",
       "         [4.31572213e-01],\n",
       "         [4.31572213e-01],\n",
       "         [4.79997845e-01],\n",
       "         [4.79997845e-01],\n",
       "         [9.82867167e-01],\n",
       "         [9.82867167e-01],\n",
       "         [9.36268202e-01],\n",
       "         [9.36268202e-01],\n",
       "         [6.88150568e-01],\n",
       "         [6.88150568e-01],\n",
       "         [2.17014033e-01],\n",
       "         [2.17014033e-01],\n",
       "         [6.91044041e-01],\n",
       "         [6.91044041e-01],\n",
       "         [6.54282951e-01],\n",
       "         [6.54282951e-01],\n",
       "         [1.72875917e-01],\n",
       "         [1.72875917e-01],\n",
       "         [1.65574335e-01],\n",
       "         [1.65574335e-01],\n",
       "         [7.52893471e-01],\n",
       "         [7.52893471e-01],\n",
       "         [8.25803549e-01],\n",
       "         [8.25803549e-01],\n",
       "         [5.11652211e-01],\n",
       "         [5.11652211e-01],\n",
       "         [5.03809922e-01],\n",
       "         [5.03809922e-01],\n",
       "         [5.34768298e-01],\n",
       "         [5.34768298e-01],\n",
       "         [6.69517768e-01],\n",
       "         [6.69517768e-01],\n",
       "         [7.54874411e-02],\n",
       "         [7.54874411e-02],\n",
       "         [5.52171676e-01],\n",
       "         [5.52171676e-01],\n",
       "         [7.83659136e-01],\n",
       "         [7.83659136e-01],\n",
       "         [2.48041021e-01],\n",
       "         [2.48041021e-01],\n",
       "         [4.84156063e-01],\n",
       "         [4.84156063e-01],\n",
       "         [2.94870198e-01],\n",
       "         [2.94870198e-01],\n",
       "         [5.89690565e-01],\n",
       "         [5.89690565e-01],\n",
       "         [9.57575279e-01],\n",
       "         [9.57575279e-01],\n",
       "         [7.65615026e-01],\n",
       "         [7.65615026e-01],\n",
       "         [9.62612035e-01],\n",
       "         [9.62612035e-01],\n",
       "         [3.34375838e-01],\n",
       "         [3.34375838e-01],\n",
       "         [4.60636546e-02],\n",
       "         [4.60636546e-02],\n",
       "         [4.45845982e-01],\n",
       "         [4.45845982e-01],\n",
       "         [6.00253465e-01],\n",
       "         [6.00253465e-01],\n",
       "         [5.81213131e-01],\n",
       "         [5.81213131e-01],\n",
       "         [4.21722235e-01],\n",
       "         [4.21722235e-01],\n",
       "         [8.97814689e-02],\n",
       "         [8.97814689e-02],\n",
       "         [3.66997906e-01],\n",
       "         [3.66997906e-01],\n",
       "         [9.93673739e-01],\n",
       "         [9.93673739e-01],\n",
       "         [6.56816797e-01],\n",
       "         [6.56816797e-01],\n",
       "         [9.44147852e-04],\n",
       "         [9.44147852e-04],\n",
       "         [1.88233692e-01],\n",
       "         [1.88233692e-01],\n",
       "         [8.73444399e-01],\n",
       "         [8.73444399e-01],\n",
       "         [4.16115194e-01],\n",
       "         [4.16115194e-01],\n",
       "         [1.95702390e-01],\n",
       "         [1.95702390e-01],\n",
       "         [1.79173825e-01],\n",
       "         [1.79173825e-01],\n",
       "         [4.58718978e-01],\n",
       "         [4.58718978e-01],\n",
       "         [2.41935725e-01],\n",
       "         [2.41935725e-01],\n",
       "         [1.92953186e-01],\n",
       "         [1.92953186e-01],\n",
       "         [3.15100761e-01],\n",
       "         [3.15100761e-01],\n",
       "         [2.18466697e-01],\n",
       "         [2.18466697e-01],\n",
       "         [3.59594865e-02],\n",
       "         [3.59594865e-02],\n",
       "         [1.64655722e-01],\n",
       "         [1.64655722e-01],\n",
       "         [3.24142032e-01],\n",
       "         [3.24142032e-01],\n",
       "         [2.04276687e-02],\n",
       "         [2.04276687e-02],\n",
       "         [7.93620800e-01],\n",
       "         [7.93620800e-01],\n",
       "         [4.20614307e-01],\n",
       "         [4.20614307e-01],\n",
       "         [4.70214080e-01],\n",
       "         [4.70214080e-01],\n",
       "         [8.67813948e-01],\n",
       "         [8.67813948e-01],\n",
       "         [7.29695884e-01],\n",
       "         [7.29695884e-01],\n",
       "         [9.19371107e-01],\n",
       "         [9.19371107e-01],\n",
       "         [9.59514682e-01],\n",
       "         [9.59514682e-01],\n",
       "         [2.49752371e-01],\n",
       "         [2.49752371e-01],\n",
       "         [7.84921717e-01],\n",
       "         [7.84921717e-01],\n",
       "         [1.58797414e-01],\n",
       "         [1.58797414e-01],\n",
       "         [9.77204335e-01],\n",
       "         [9.77204335e-01],\n",
       "         [6.80045887e-01],\n",
       "         [6.80045887e-01],\n",
       "         [2.13553578e-01],\n",
       "         [2.13553578e-01],\n",
       "         [6.52694216e-01],\n",
       "         [6.52694216e-01],\n",
       "         [8.14925111e-01],\n",
       "         [8.14925111e-01],\n",
       "         [1.35134488e-01],\n",
       "         [1.35134488e-01],\n",
       "         [7.34516113e-01],\n",
       "         [7.34516113e-01],\n",
       "         [4.77132875e-01],\n",
       "         [4.77132875e-01],\n",
       "         [5.28961137e-01],\n",
       "         [5.28961137e-01],\n",
       "         [4.46285624e-01],\n",
       "         [4.46285624e-01],\n",
       "         [1.18158469e-01],\n",
       "         [1.18158469e-01],\n",
       "         [2.66277503e-01],\n",
       "         [2.66277503e-01],\n",
       "         [4.26299542e-01],\n",
       "         [4.26299542e-01],\n",
       "         [1.19842708e-01],\n",
       "         [1.19842708e-01],\n",
       "         [3.03965281e-01],\n",
       "         [3.03965281e-01],\n",
       "         [9.70901107e-01],\n",
       "         [9.70901107e-01],\n",
       "         [9.70684545e-01],\n",
       "         [9.70684545e-01],\n",
       "         [2.47882115e-01],\n",
       "         [2.47882115e-01],\n",
       "         [2.21289499e-01],\n",
       "         [2.21289499e-01],\n",
       "         [3.49749369e-01],\n",
       "         [3.49749369e-01],\n",
       "         [3.72995752e-01],\n",
       "         [3.72995752e-01],\n",
       "         [3.66006707e-01],\n",
       "         [3.66006707e-01],\n",
       "         [9.14488160e-01],\n",
       "         [9.14488160e-01],\n",
       "         [1.74956549e-01],\n",
       "         [1.74956549e-01],\n",
       "         [3.73799237e-01],\n",
       "         [3.73799237e-01],\n",
       "         [3.13307027e-01],\n",
       "         [3.13307027e-01],\n",
       "         [4.47635433e-01],\n",
       "         [4.47635433e-01],\n",
       "         [5.23172004e-01],\n",
       "         [5.23172004e-01],\n",
       "         [2.22464320e-01],\n",
       "         [2.22464320e-01],\n",
       "         [5.23925375e-01],\n",
       "         [5.23925375e-01],\n",
       "         [8.34542234e-01],\n",
       "         [8.34542234e-01],\n",
       "         [3.29856712e-01],\n",
       "         [3.29856712e-01],\n",
       "         [2.46235577e-01],\n",
       "         [2.46235577e-01],\n",
       "         [5.35837731e-02],\n",
       "         [5.35837731e-02],\n",
       "         [7.65484377e-02],\n",
       "         [7.65484377e-02]])}}"
      ]
     },
     "execution_count": 1,
     "metadata": {},
     "output_type": "execute_result"
    }
   ],
   "source": [
    "ds = load_by_id(run_id_a)\n",
    "ds.get_parameter_data('x1')"
   ]
  },
  {
   "cell_type": "code",
   "execution_count": null,
   "metadata": {},
   "outputs": [],
   "source": []
  }
 ],
 "metadata": {
  "kernelspec": {
   "display_name": "Python 3",
   "language": "python",
   "name": "python3"
  },
  "language_info": {
   "codemirror_mode": {
    "name": "ipython",
    "version": 3
   },
   "file_extension": ".py",
   "mimetype": "text/x-python",
   "name": "python",
   "nbconvert_exporter": "python",
   "pygments_lexer": "ipython3",
   "version": "3.7.10"
  },
  "nbsphinx": {
   "timeout": 600
  },
  "toc": {
   "base_numbering": 1,
   "nav_menu": {},
   "number_sections": true,
   "sideBar": true,
   "skip_h1_title": false,
   "title_cell": "Table of Contents",
   "title_sidebar": "Contents",
   "toc_cell": false,
   "toc_position": {},
   "toc_section_display": true,
   "toc_window_display": false
  },
  "varInspector": {
   "cols": {
    "lenName": 16,
    "lenType": 16,
    "lenVar": 40
   },
   "kernels_config": {
    "python": {
     "delete_cmd_postfix": "",
     "delete_cmd_prefix": "del ",
     "library": "var_list.py",
     "varRefreshCmd": "print(var_dic_list())"
    },
    "r": {
     "delete_cmd_postfix": ") ",
     "delete_cmd_prefix": "rm(",
     "library": "var_list.r",
     "varRefreshCmd": "cat(var_dic_list()) "
    }
   },
   "types_to_exclude": [
    "module",
    "function",
    "builtin_function_or_method",
    "instance",
    "_Feature"
   ],
   "window_display": false
  }
 },
 "nbformat": 4,
 "nbformat_minor": 2
}
