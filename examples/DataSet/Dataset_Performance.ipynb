{
 "cells": [
  {
   "cell_type": "markdown",
   "metadata": {},
   "source": [
    "# DataSet Performance\n",
    "\n",
    "This notebook shows the trade-off between inserting data into a database row-by-row and as binary blobs. Inserting the data row-by-row means that we have direct access to all the data and may perform queries directly on the values of the data. On the other hand, as we shall see, this is much slower than inserting the data directly as binary blobs."
   ]
  },
  {
   "cell_type": "markdown",
   "metadata": {},
   "source": [
    "First, we choose a new location for the database to ensure that we don't add a bunch of benchmarking data to the default one."
   ]
  },
  {
   "cell_type": "code",
   "execution_count": 1,
   "metadata": {
    "execution": {
     "iopub.execute_input": "2020-10-06T13:08:23.620683Z",
     "iopub.status.busy": "2020-10-06T13:08:23.620101Z",
     "iopub.status.idle": "2020-10-06T13:08:24.639690Z",
     "shell.execute_reply": "2020-10-06T13:08:24.640397Z"
    }
   },
   "outputs": [
    {
     "name": "stdout",
     "output_type": "stream",
     "text": [
      "Logging hadn't been started.\n",
      "Activating auto-logging. Current session state plus future input saved.\n",
      "Filename       : /home/vsts/.qcodes/logs/command_history.log\n",
      "Mode           : append\n",
      "Output logging : True\n",
      "Raw input log  : False\n",
      "Timestamping   : True\n",
      "State          : active\n"
     ]
    },
    {
     "name": "stdout",
     "output_type": "stream",
     "text": [
      "Qcodes Logfile : /home/vsts/.qcodes/logs/201006-18999-qcodes.log\n"
     ]
    }
   ],
   "source": [
    "import os\n",
    "cwd = os.getcwd()\n",
    "import qcodes as qc\n",
    "qc.config[\"core\"][\"db_location\"] = os.path.join(cwd, 'testing.db')\n"
   ]
  },
  {
   "cell_type": "code",
   "execution_count": 2,
   "metadata": {
    "execution": {
     "iopub.execute_input": "2020-10-06T13:08:24.647709Z",
     "iopub.status.busy": "2020-10-06T13:08:24.645946Z",
     "iopub.status.idle": "2020-10-06T13:08:24.830468Z",
     "shell.execute_reply": "2020-10-06T13:08:24.829916Z"
    }
   },
   "outputs": [],
   "source": [
    "%matplotlib inline\n",
    "import time\n",
    "import matplotlib.pyplot as plt\n",
    "import numpy as np\n",
    "\n",
    "import qcodes as qc\n",
    "from qcodes.instrument.parameter import ManualParameter\n",
    "from qcodes.dataset.experiment_container import (Experiment,\n",
    "                                                 load_last_experiment,\n",
    "                                                 new_experiment)\n",
    "from qcodes.dataset.sqlite.database import initialise_database\n",
    "from qcodes import load_or_create_experiment\n",
    "from qcodes.dataset.measurements import Measurement"
   ]
  },
  {
   "cell_type": "code",
   "execution_count": 3,
   "metadata": {
    "execution": {
     "iopub.execute_input": "2020-10-06T13:08:24.834439Z",
     "iopub.status.busy": "2020-10-06T13:08:24.833810Z",
     "iopub.status.idle": "2020-10-06T13:08:24.942801Z",
     "shell.execute_reply": "2020-10-06T13:08:24.943238Z"
    }
   },
   "outputs": [
    {
     "name": "stdout",
     "output_type": "stream",
     "text": [
      "\r",
      "0it [00:00, ?it/s]"
     ]
    },
    {
     "name": "stdout",
     "output_type": "stream",
     "text": [
      "\r",
      "Upgrading database; v0 -> v1: : 0it [00:00, ?it/s]"
     ]
    },
    {
     "name": "stdout",
     "output_type": "stream",
     "text": [
      "\r",
      "Upgrading database; v0 -> v1: : 0it [00:00, ?it/s]"
     ]
    },
    {
     "name": "stdout",
     "output_type": "stream",
     "text": [
      "\n",
      "\r",
      "  0%|          | 0/1 [00:00<?, ?it/s]"
     ]
    },
    {
     "name": "stdout",
     "output_type": "stream",
     "text": [
      "\r",
      "Upgrading database; v1 -> v2:   0%|          | 0/1 [00:00<?, ?it/s]"
     ]
    },
    {
     "name": "stdout",
     "output_type": "stream",
     "text": [
      "\r",
      "Upgrading database; v1 -> v2: 100%|██████████| 1/1 [00:00<00:00, 346.58it/s]"
     ]
    },
    {
     "name": "stdout",
     "output_type": "stream",
     "text": [
      "\n",
      "\r",
      "0it [00:00, ?it/s]"
     ]
    },
    {
     "name": "stdout",
     "output_type": "stream",
     "text": [
      "\r",
      "Upgrading database; v2 -> v3: : 0it [00:00, ?it/s]"
     ]
    },
    {
     "name": "stdout",
     "output_type": "stream",
     "text": [
      "\r",
      "Upgrading database; v2 -> v3: : 0it [00:00, ?it/s]"
     ]
    },
    {
     "name": "stdout",
     "output_type": "stream",
     "text": [
      "\n",
      "\r",
      "0it [00:00, ?it/s]"
     ]
    },
    {
     "name": "stdout",
     "output_type": "stream",
     "text": [
      "\r",
      "Upgrading database; v3 -> v4: : 0it [00:00, ?it/s]"
     ]
    },
    {
     "name": "stdout",
     "output_type": "stream",
     "text": [
      "\r",
      "Upgrading database; v3 -> v4: : 0it [00:00, ?it/s]"
     ]
    },
    {
     "name": "stdout",
     "output_type": "stream",
     "text": [
      "\n",
      "\r",
      "  0%|          | 0/1 [00:00<?, ?it/s]"
     ]
    },
    {
     "name": "stdout",
     "output_type": "stream",
     "text": [
      "\r",
      "Upgrading database; v4 -> v5:   0%|          | 0/1 [00:00<?, ?it/s]"
     ]
    },
    {
     "name": "stdout",
     "output_type": "stream",
     "text": [
      "\r",
      "Upgrading database; v4 -> v5: 100%|██████████| 1/1 [00:00<00:00, 327.55it/s]"
     ]
    },
    {
     "name": "stdout",
     "output_type": "stream",
     "text": [
      "\n",
      "\r",
      "0it [00:00, ?it/s]"
     ]
    },
    {
     "name": "stdout",
     "output_type": "stream",
     "text": [
      "\r",
      "Upgrading database; v5 -> v6: : 0it [00:00, ?it/s]"
     ]
    },
    {
     "name": "stdout",
     "output_type": "stream",
     "text": [
      "\r",
      "Upgrading database; v5 -> v6: : 0it [00:00, ?it/s]"
     ]
    },
    {
     "name": "stdout",
     "output_type": "stream",
     "text": [
      "\n",
      "\r",
      "  0%|          | 0/1 [00:00<?, ?it/s]"
     ]
    },
    {
     "name": "stdout",
     "output_type": "stream",
     "text": [
      "\r",
      "Upgrading database; v6 -> v7:   0%|          | 0/1 [00:00<?, ?it/s]"
     ]
    },
    {
     "name": "stdout",
     "output_type": "stream",
     "text": [
      "\r",
      "Upgrading database; v6 -> v7: 100%|██████████| 1/1 [00:00<00:00, 219.68it/s]"
     ]
    },
    {
     "name": "stdout",
     "output_type": "stream",
     "text": [
      "\n",
      "\r",
      "  0%|          | 0/1 [00:00<?, ?it/s]"
     ]
    },
    {
     "name": "stdout",
     "output_type": "stream",
     "text": [
      "\r",
      "Upgrading database; v7 -> v8:   0%|          | 0/1 [00:00<?, ?it/s]"
     ]
    },
    {
     "name": "stdout",
     "output_type": "stream",
     "text": [
      "\r",
      "Upgrading database; v7 -> v8: 100%|██████████| 1/1 [00:00<00:00, 437.96it/s]"
     ]
    },
    {
     "name": "stdout",
     "output_type": "stream",
     "text": [
      "\n",
      "\r",
      "  0%|          | 0/1 [00:00<?, ?it/s]"
     ]
    },
    {
     "name": "stdout",
     "output_type": "stream",
     "text": [
      "\r",
      "Upgrading database; v8 -> v9:   0%|          | 0/1 [00:00<?, ?it/s]"
     ]
    },
    {
     "name": "stdout",
     "output_type": "stream",
     "text": [
      "\r",
      "Upgrading database; v8 -> v9: 100%|██████████| 1/1 [00:00<00:00, 538.35it/s]"
     ]
    },
    {
     "name": "stdout",
     "output_type": "stream",
     "text": [
      "\n"
     ]
    }
   ],
   "source": [
    "initialise_database()\n",
    "exp = load_or_create_experiment(experiment_name='tutorial_exp', sample_name=\"no sample\")"
   ]
  },
  {
   "cell_type": "markdown",
   "metadata": {},
   "source": [
    "Here, we define a simple function to benchmark the time it takes to insert n points with either numeric or array data type.\n",
    "We will compare both the time used to call ``add_result`` and the time used for the full measurement."
   ]
  },
  {
   "cell_type": "code",
   "execution_count": 4,
   "metadata": {
    "execution": {
     "iopub.execute_input": "2020-10-06T13:08:24.952262Z",
     "iopub.status.busy": "2020-10-06T13:08:24.950989Z",
     "iopub.status.idle": "2020-10-06T13:08:24.952802Z",
     "shell.execute_reply": "2020-10-06T13:08:24.953349Z"
    }
   },
   "outputs": [],
   "source": [
    "def insert_data(paramtype, npoints, nreps=1):\n",
    "\n",
    "    meas = Measurement(exp=exp)\n",
    "\n",
    "    x1 = ManualParameter('x1')\n",
    "    x2 = ManualParameter('x2')\n",
    "    x3 = ManualParameter('x3')\n",
    "    y1 = ManualParameter('y1')\n",
    "    y2 = ManualParameter('y2')\n",
    "\n",
    "    meas.register_parameter(x1, paramtype=paramtype)\n",
    "    meas.register_parameter(x2, paramtype=paramtype)\n",
    "    meas.register_parameter(x3, paramtype=paramtype)\n",
    "    meas.register_parameter(y1, setpoints=[x1, x2, x3],\n",
    "                            paramtype=paramtype)\n",
    "    meas.register_parameter(y2, setpoints=[x1, x2, x3],\n",
    "                            paramtype=paramtype)\n",
    "    start = time.perf_counter()\n",
    "    with meas.run() as datasaver:\n",
    "        start_adding = time.perf_counter()\n",
    "        for i in range(nreps):\n",
    "            datasaver.add_result((x1, np.random.rand(npoints)),\n",
    "                                 (x2, np.random.rand(npoints)),\n",
    "                                 (x3, np.random.rand(npoints)),\n",
    "                                 (y1, np.random.rand(npoints)),\n",
    "                                 (y2, np.random.rand(npoints)))\n",
    "        stop_adding = time.perf_counter()\n",
    "        run_id = datasaver.run_id\n",
    "    stop = time.perf_counter()\n",
    "    tot_time = stop - start\n",
    "    add_time = stop_adding - start_adding\n",
    "    return tot_time, add_time, run_id"
   ]
  },
  {
   "cell_type": "markdown",
   "metadata": {},
   "source": [
    "## Comparison between numeric/array data and binary blob"
   ]
  },
  {
   "cell_type": "markdown",
   "metadata": {},
   "source": [
    "### Case1: Short experiment time"
   ]
  },
  {
   "cell_type": "code",
   "execution_count": 5,
   "metadata": {
    "execution": {
     "iopub.execute_input": "2020-10-06T13:08:24.959194Z",
     "iopub.status.busy": "2020-10-06T13:08:24.958337Z",
     "iopub.status.idle": "2020-10-06T13:08:25.775742Z",
     "shell.execute_reply": "2020-10-06T13:08:25.774976Z"
    }
   },
   "outputs": [
    {
     "name": "stdout",
     "output_type": "stream",
     "text": [
      "Starting experimental run with id: 1. \n",
      "Starting experimental run with id: 2. \n",
      "Starting experimental run with id: 3. \n",
      "Starting experimental run with id: 4. \n",
      "Starting experimental run with id: 5. \n"
     ]
    },
    {
     "name": "stdout",
     "output_type": "stream",
     "text": [
      "Starting experimental run with id: 6. \n"
     ]
    },
    {
     "name": "stdout",
     "output_type": "stream",
     "text": [
      "Starting experimental run with id: 7. \n"
     ]
    },
    {
     "name": "stdout",
     "output_type": "stream",
     "text": [
      "Starting experimental run with id: 8. \n",
      "Starting experimental run with id: 9. \n"
     ]
    },
    {
     "name": "stdout",
     "output_type": "stream",
     "text": [
      "Starting experimental run with id: 10. \n",
      "Starting experimental run with id: 11. \n"
     ]
    },
    {
     "name": "stdout",
     "output_type": "stream",
     "text": [
      "Starting experimental run with id: 12. \n",
      "Starting experimental run with id: 13. \n"
     ]
    },
    {
     "name": "stdout",
     "output_type": "stream",
     "text": [
      "Starting experimental run with id: 14. \n"
     ]
    }
   ],
   "source": [
    "sizes = [1,500,1000,2000,3000,4000,5000]\n",
    "t_numeric = []\n",
    "t_numeric_add = []\n",
    "t_array = []\n",
    "t_array_add = []\n",
    "for size in sizes:\n",
    "    tn, tna, run_id_n =  insert_data('numeric', size)\n",
    "    t_numeric.append(tn)\n",
    "    t_numeric_add.append(tna)\n",
    "\n",
    "    ta, taa, run_id_a =  insert_data('array', size)\n",
    "    t_array.append(ta)\n",
    "    t_array_add.append(taa)"
   ]
  },
  {
   "cell_type": "code",
   "execution_count": 6,
   "metadata": {
    "execution": {
     "iopub.execute_input": "2020-10-06T13:08:25.793462Z",
     "iopub.status.busy": "2020-10-06T13:08:25.779834Z",
     "iopub.status.idle": "2020-10-06T13:08:25.990142Z",
     "shell.execute_reply": "2020-10-06T13:08:25.989359Z"
    }
   },
   "outputs": [
    {
     "data": {
      "image/png": "[encoded data removed]",
      "text/plain": [
       "<Figure size 432x288 with 1 Axes>"
      ]
     },
     "metadata": {
      "needs_background": "light"
     },
     "output_type": "display_data"
    }
   ],
   "source": [
    "fig, ax = plt.subplots(1,1)\n",
    "ax.plot(sizes, t_numeric, 'o-', label='Inserting row-by-row')\n",
    "ax.plot(sizes, t_numeric_add, 'o-', label='Inserting row-by-row: add_result only')\n",
    "ax.plot(sizes, t_array, 'd-', label='Inserting as binary blob')\n",
    "ax.plot(sizes, t_array_add, 'd-', label='Inserting as binary blob: add_result only')\n",
    "ax.legend()\n",
    "ax.set_xlabel('Array length')\n",
    "ax.set_ylabel('Time (s)')\n",
    "fig.tight_layout()"
   ]
  },
  {
   "cell_type": "markdown",
   "metadata": {},
   "source": [
    "As shown in the latter figure, the time to setup and and close the experiment is approximately 0.4 sec. In case of small array sizes, the difference between inserting values of data as arrays and inserting them row-by-row is relatively unimportant. At larger array sizes, i.e. above 10000 points, the cost of writing data as individual datapoints starts to become important.\n"
   ]
  },
  {
   "cell_type": "markdown",
   "metadata": {},
   "source": [
    "### Case2: Long experiment time "
   ]
  },
  {
   "cell_type": "code",
   "execution_count": 7,
   "metadata": {
    "execution": {
     "iopub.execute_input": "2020-10-06T13:08:25.997871Z",
     "iopub.status.busy": "2020-10-06T13:08:25.996984Z",
     "iopub.status.idle": "2020-10-06T13:09:26.259965Z",
     "shell.execute_reply": "2020-10-06T13:09:26.259420Z"
    }
   },
   "outputs": [
    {
     "name": "stdout",
     "output_type": "stream",
     "text": [
      "Starting experimental run with id: 15. \n",
      "Starting experimental run with id: 16. \n",
      "Starting experimental run with id: 17. \n"
     ]
    },
    {
     "name": "stdout",
     "output_type": "stream",
     "text": [
      "Starting experimental run with id: 18. \n",
      "Starting experimental run with id: 19. \n"
     ]
    },
    {
     "name": "stdout",
     "output_type": "stream",
     "text": [
      "Starting experimental run with id: 20. \n"
     ]
    },
    {
     "name": "stdout",
     "output_type": "stream",
     "text": [
      "Starting experimental run with id: 21. \n"
     ]
    },
    {
     "name": "stdout",
     "output_type": "stream",
     "text": [
      "Starting experimental run with id: 22. \n"
     ]
    },
    {
     "name": "stdout",
     "output_type": "stream",
     "text": [
      "Starting experimental run with id: 23. \n"
     ]
    },
    {
     "name": "stdout",
     "output_type": "stream",
     "text": [
      "Starting experimental run with id: 24. \n"
     ]
    },
    {
     "name": "stdout",
     "output_type": "stream",
     "text": [
      "Starting experimental run with id: 25. \n"
     ]
    },
    {
     "name": "stdout",
     "output_type": "stream",
     "text": [
      "Starting experimental run with id: 26. \n"
     ]
    },
    {
     "name": "stdout",
     "output_type": "stream",
     "text": [
      "Starting experimental run with id: 27. \n"
     ]
    },
    {
     "name": "stdout",
     "output_type": "stream",
     "text": [
      "Starting experimental run with id: 28. \n"
     ]
    }
   ],
   "source": [
    "sizes = [1,500,1000,2000,3000,4000,5000]\n",
    "nreps = 100\n",
    "t_numeric = []\n",
    "t_numeric_add = []\n",
    "t_numeric_run_ids = []\n",
    "t_array = []\n",
    "t_array_add = []\n",
    "t_array_run_ids = []\n",
    "for size in sizes:\n",
    "    tn, tna, run_id_n =  insert_data('numeric', size, nreps=nreps)\n",
    "    t_numeric.append(tn)\n",
    "    t_numeric_add.append(tna)\n",
    "    t_numeric_run_ids.append(run_id_n)\n",
    "\n",
    "    ta, taa, run_id_a =  insert_data('array', size, nreps=nreps)\n",
    "    t_array.append(ta)\n",
    "    t_array_add.append(taa)\n",
    "    t_array_run_ids.append(run_id_a)"
   ]
  },
  {
   "cell_type": "code",
   "execution_count": 8,
   "metadata": {
    "execution": {
     "iopub.execute_input": "2020-10-06T13:09:26.279759Z",
     "iopub.status.busy": "2020-10-06T13:09:26.278024Z",
     "iopub.status.idle": "2020-10-06T13:09:26.502647Z",
     "shell.execute_reply": "2020-10-06T13:09:26.501936Z"
    },
    "scrolled": true
   },
   "outputs": [
    {
     "data": {
      "image/png": "[encoded data removed]",
      "text/plain": [
       "<Figure size 432x288 with 1 Axes>"
      ]
     },
     "metadata": {
      "needs_background": "light"
     },
     "output_type": "display_data"
    }
   ],
   "source": [
    "fig, ax = plt.subplots(1,1)\n",
    "ax.plot(sizes, t_numeric, 'o-', label='Inserting row-by-row')\n",
    "ax.plot(sizes, t_numeric_add, 'o-', label='Inserting row-by-row: add_result only')\n",
    "ax.plot(sizes, t_array, 'd-', label='Inserting as binary blob')\n",
    "ax.plot(sizes, t_array_add, 'd-', label='Inserting as binary blob: add_result only')\n",
    "ax.legend()\n",
    "ax.set_xlabel('Array length')\n",
    "ax.set_ylabel('Time (s)')\n",
    "fig.tight_layout()"
   ]
  },
  {
   "cell_type": "markdown",
   "metadata": {},
   "source": [
    "However, as we increase the length of the experiment, as seen here by repeating the insertion 100 times, we see a big difference between inserting values of the data row-by-row and inserting it as a binary blob."
   ]
  },
  {
   "cell_type": "markdown",
   "metadata": {},
   "source": [
    "## Loading the data "
   ]
  },
  {
   "cell_type": "code",
   "execution_count": 9,
   "metadata": {
    "execution": {
     "iopub.execute_input": "2020-10-06T13:09:26.507400Z",
     "iopub.status.busy": "2020-10-06T13:09:26.506802Z",
     "iopub.status.idle": "2020-10-06T13:09:26.509528Z",
     "shell.execute_reply": "2020-10-06T13:09:26.509044Z"
    }
   },
   "outputs": [],
   "source": [
    "from qcodes.dataset.data_set import load_by_id\n",
    "from qcodes.dataset.data_export import get_data_by_id"
   ]
  },
  {
   "cell_type": "markdown",
   "metadata": {},
   "source": [
    "As usual you can load the data by using the ``load_by_id`` function but you will notice that the different storage methods\n",
    "are reflected in shape of the data as it is retrieved. "
   ]
  },
  {
   "cell_type": "code",
   "execution_count": 10,
   "metadata": {
    "execution": {
     "iopub.execute_input": "2020-10-06T13:09:26.514024Z",
     "iopub.status.busy": "2020-10-06T13:09:26.512817Z",
     "iopub.status.idle": "2020-10-06T13:09:26.514598Z",
     "shell.execute_reply": "2020-10-06T13:09:26.515155Z"
    }
   },
   "outputs": [],
   "source": [
    "run_id_n = t_numeric_run_ids[0]\n",
    "run_id_a = t_array_run_ids[0]"
   ]
  },
  {
   "cell_type": "code",
   "execution_count": 11,
   "metadata": {
    "execution": {
     "iopub.execute_input": "2020-10-06T13:09:26.518499Z",
     "iopub.status.busy": "2020-10-06T13:09:26.517935Z",
     "iopub.status.idle": "2020-10-06T13:09:26.526934Z",
     "shell.execute_reply": "2020-10-06T13:09:26.527509Z"
    },
    "scrolled": true
   },
   "outputs": [
    {
     "data": {
      "text/plain": [
       "{'x1': {'x1': array([0.50219708, 0.50219708, 0.56481185, 0.56481185, 0.52332974,\n",
       "         0.52332974, 0.44363299, 0.44363299, 0.87679948, 0.87679948,\n",
       "         0.20503167, 0.20503167, 0.68294634, 0.68294634, 0.9913147 ,\n",
       "         0.9913147 , 0.06237419, 0.06237419, 0.46702165, 0.46702165,\n",
       "         0.84676569, 0.84676569, 0.68902067, 0.68902067, 0.57463139,\n",
       "         0.57463139, 0.20908858, 0.20908858, 0.58235889, 0.58235889,\n",
       "         0.24299336, 0.24299336, 0.81762606, 0.81762606, 0.03289895,\n",
       "         0.03289895, 0.59107671, 0.59107671, 0.56501625, 0.56501625,\n",
       "         0.49975839, 0.49975839, 0.21089216, 0.21089216, 0.62545309,\n",
       "         0.62545309, 0.55463559, 0.55463559, 0.99874637, 0.99874637,\n",
       "         0.6067951 , 0.6067951 , 0.62778358, 0.62778358, 0.48648998,\n",
       "         0.48648998, 0.81083755, 0.81083755, 0.57682665, 0.57682665,\n",
       "         0.43479573, 0.43479573, 0.30412375, 0.30412375, 0.53630753,\n",
       "         0.53630753, 0.32947097, 0.32947097, 0.02485088, 0.02485088,\n",
       "         0.10449319, 0.10449319, 0.77678307, 0.77678307, 0.2118959 ,\n",
       "         0.2118959 , 0.6782748 , 0.6782748 , 0.09023716, 0.09023716,\n",
       "         0.08366997, 0.08366997, 0.10752598, 0.10752598, 0.06193331,\n",
       "         0.06193331, 0.58147001, 0.58147001, 0.06575556, 0.06575556,\n",
       "         0.89744681, 0.89744681, 0.19785647, 0.19785647, 0.42203699,\n",
       "         0.42203699, 0.7071826 , 0.7071826 , 0.30984058, 0.30984058,\n",
       "         0.74655753, 0.74655753, 0.51220256, 0.51220256, 0.76291536,\n",
       "         0.76291536, 0.8882922 , 0.8882922 , 0.12984569, 0.12984569,\n",
       "         0.15917809, 0.15917809, 0.64389339, 0.64389339, 0.26272183,\n",
       "         0.26272183, 0.888945  , 0.888945  , 0.65474134, 0.65474134,\n",
       "         0.38303942, 0.38303942, 0.76037809, 0.76037809, 0.20557813,\n",
       "         0.20557813, 0.45476558, 0.45476558, 0.92663608, 0.92663608,\n",
       "         0.08944711, 0.08944711, 0.16781335, 0.16781335, 0.75077031,\n",
       "         0.75077031, 0.12301407, 0.12301407, 0.0244001 , 0.0244001 ,\n",
       "         0.72553131, 0.72553131, 0.02776958, 0.02776958, 0.5850793 ,\n",
       "         0.5850793 , 0.01628581, 0.01628581, 0.11292185, 0.11292185,\n",
       "         0.47602226, 0.47602226, 0.27322107, 0.27322107, 0.77087145,\n",
       "         0.77087145, 0.11650844, 0.11650844, 0.01093312, 0.01093312,\n",
       "         0.03073654, 0.03073654, 0.46149384, 0.46149384, 0.17746007,\n",
       "         0.17746007, 0.22361626, 0.22361626, 0.31034397, 0.31034397,\n",
       "         0.51118518, 0.51118518, 0.67958351, 0.67958351, 0.54501435,\n",
       "         0.54501435, 0.31949071, 0.31949071, 0.79089988, 0.79089988,\n",
       "         0.96132339, 0.96132339, 0.99061023, 0.99061023, 0.51850909,\n",
       "         0.51850909, 0.08781725, 0.08781725, 0.95829763, 0.95829763,\n",
       "         0.43163469, 0.43163469, 0.39091158, 0.39091158, 0.69151523,\n",
       "         0.69151523, 0.59947588, 0.59947588, 0.78301736, 0.78301736])}}"
      ]
     },
     "execution_count": 1,
     "metadata": {},
     "output_type": "execute_result"
    }
   ],
   "source": [
    "ds = load_by_id(run_id_n)\n",
    "ds.get_parameter_data('x1')"
   ]
  },
  {
   "cell_type": "markdown",
   "metadata": {},
   "source": [
    "And a dataset stored as binary arrays"
   ]
  },
  {
   "cell_type": "code",
   "execution_count": 12,
   "metadata": {
    "execution": {
     "iopub.execute_input": "2020-10-06T13:09:26.530883Z",
     "iopub.status.busy": "2020-10-06T13:09:26.530316Z",
     "iopub.status.idle": "2020-10-06T13:09:26.589737Z",
     "shell.execute_reply": "2020-10-06T13:09:26.589141Z"
    },
    "scrolled": true
   },
   "outputs": [
    {
     "data": {
      "text/plain": [
       "{'x1': {'x1': array([[0.86476122],\n",
       "         [0.86476122],\n",
       "         [0.67394562],\n",
       "         [0.67394562],\n",
       "         [0.10632014],\n",
       "         [0.10632014],\n",
       "         [0.80403359],\n",
       "         [0.80403359],\n",
       "         [0.52876607],\n",
       "         [0.52876607],\n",
       "         [0.70245755],\n",
       "         [0.70245755],\n",
       "         [0.49655619],\n",
       "         [0.49655619],\n",
       "         [0.63744767],\n",
       "         [0.63744767],\n",
       "         [0.13803391],\n",
       "         [0.13803391],\n",
       "         [0.57758345],\n",
       "         [0.57758345],\n",
       "         [0.56785544],\n",
       "         [0.56785544],\n",
       "         [0.78201277],\n",
       "         [0.78201277],\n",
       "         [0.52430898],\n",
       "         [0.52430898],\n",
       "         [0.42762472],\n",
       "         [0.42762472],\n",
       "         [0.97385883],\n",
       "         [0.97385883],\n",
       "         [0.63956568],\n",
       "         [0.63956568],\n",
       "         [0.70434575],\n",
       "         [0.70434575],\n",
       "         [0.54736749],\n",
       "         [0.54736749],\n",
       "         [0.20864952],\n",
       "         [0.20864952],\n",
       "         [0.56808165],\n",
       "         [0.56808165],\n",
       "         [0.24312983],\n",
       "         [0.24312983],\n",
       "         [0.11386394],\n",
       "         [0.11386394],\n",
       "         [0.91180052],\n",
       "         [0.91180052],\n",
       "         [0.99108594],\n",
       "         [0.99108594],\n",
       "         [0.32082715],\n",
       "         [0.32082715],\n",
       "         [0.19077518],\n",
       "         [0.19077518],\n",
       "         [0.95000228],\n",
       "         [0.95000228],\n",
       "         [0.82898812],\n",
       "         [0.82898812],\n",
       "         [0.89506748],\n",
       "         [0.89506748],\n",
       "         [0.89228186],\n",
       "         [0.89228186],\n",
       "         [0.2830235 ],\n",
       "         [0.2830235 ],\n",
       "         [0.3937668 ],\n",
       "         [0.3937668 ],\n",
       "         [0.80708206],\n",
       "         [0.80708206],\n",
       "         [0.01077265],\n",
       "         [0.01077265],\n",
       "         [0.30855716],\n",
       "         [0.30855716],\n",
       "         [0.27702474],\n",
       "         [0.27702474],\n",
       "         [0.7745159 ],\n",
       "         [0.7745159 ],\n",
       "         [0.98080663],\n",
       "         [0.98080663],\n",
       "         [0.58298765],\n",
       "         [0.58298765],\n",
       "         [0.76946357],\n",
       "         [0.76946357],\n",
       "         [0.70864891],\n",
       "         [0.70864891],\n",
       "         [0.47636822],\n",
       "         [0.47636822],\n",
       "         [0.47579727],\n",
       "         [0.47579727],\n",
       "         [0.3464283 ],\n",
       "         [0.3464283 ],\n",
       "         [0.75602378],\n",
       "         [0.75602378],\n",
       "         [0.10050016],\n",
       "         [0.10050016],\n",
       "         [0.27151248],\n",
       "         [0.27151248],\n",
       "         [0.97746499],\n",
       "         [0.97746499],\n",
       "         [0.98824126],\n",
       "         [0.98824126],\n",
       "         [0.20708143],\n",
       "         [0.20708143],\n",
       "         [0.61490263],\n",
       "         [0.61490263],\n",
       "         [0.76733055],\n",
       "         [0.76733055],\n",
       "         [0.41334481],\n",
       "         [0.41334481],\n",
       "         [0.57457158],\n",
       "         [0.57457158],\n",
       "         [0.2764231 ],\n",
       "         [0.2764231 ],\n",
       "         [0.43192204],\n",
       "         [0.43192204],\n",
       "         [0.73620489],\n",
       "         [0.73620489],\n",
       "         [0.75871919],\n",
       "         [0.75871919],\n",
       "         [0.67294622],\n",
       "         [0.67294622],\n",
       "         [0.71277125],\n",
       "         [0.71277125],\n",
       "         [0.07438675],\n",
       "         [0.07438675],\n",
       "         [0.63272761],\n",
       "         [0.63272761],\n",
       "         [0.69899845],\n",
       "         [0.69899845],\n",
       "         [0.186651  ],\n",
       "         [0.186651  ],\n",
       "         [0.90929361],\n",
       "         [0.90929361],\n",
       "         [0.59094311],\n",
       "         [0.59094311],\n",
       "         [0.17918256],\n",
       "         [0.17918256],\n",
       "         [0.5164944 ],\n",
       "         [0.5164944 ],\n",
       "         [0.18696838],\n",
       "         [0.18696838],\n",
       "         [0.072966  ],\n",
       "         [0.072966  ],\n",
       "         [0.05206875],\n",
       "         [0.05206875],\n",
       "         [0.49616115],\n",
       "         [0.49616115],\n",
       "         [0.64620264],\n",
       "         [0.64620264],\n",
       "         [0.78154842],\n",
       "         [0.78154842],\n",
       "         [0.82545865],\n",
       "         [0.82545865],\n",
       "         [0.56939666],\n",
       "         [0.56939666],\n",
       "         [0.19616123],\n",
       "         [0.19616123],\n",
       "         [0.021447  ],\n",
       "         [0.021447  ],\n",
       "         [0.45960407],\n",
       "         [0.45960407],\n",
       "         [0.27102435],\n",
       "         [0.27102435],\n",
       "         [0.41273893],\n",
       "         [0.41273893],\n",
       "         [0.80016593],\n",
       "         [0.80016593],\n",
       "         [0.56239622],\n",
       "         [0.56239622],\n",
       "         [0.59767416],\n",
       "         [0.59767416],\n",
       "         [0.89583585],\n",
       "         [0.89583585],\n",
       "         [0.02193283],\n",
       "         [0.02193283],\n",
       "         [0.13303031],\n",
       "         [0.13303031],\n",
       "         [0.29112629],\n",
       "         [0.29112629],\n",
       "         [0.94903574],\n",
       "         [0.94903574],\n",
       "         [0.62684989],\n",
       "         [0.62684989],\n",
       "         [0.50282407],\n",
       "         [0.50282407],\n",
       "         [0.92202465],\n",
       "         [0.92202465],\n",
       "         [0.97993122],\n",
       "         [0.97993122],\n",
       "         [0.95998257],\n",
       "         [0.95998257],\n",
       "         [0.4782357 ],\n",
       "         [0.4782357 ],\n",
       "         [0.66312226],\n",
       "         [0.66312226],\n",
       "         [0.70870975],\n",
       "         [0.70870975],\n",
       "         [0.56136432],\n",
       "         [0.56136432],\n",
       "         [0.54749652],\n",
       "         [0.54749652],\n",
       "         [0.79109036],\n",
       "         [0.79109036]])}}"
      ]
     },
     "execution_count": 1,
     "metadata": {},
     "output_type": "execute_result"
    }
   ],
   "source": [
    "ds = load_by_id(run_id_a)\n",
    "ds.get_parameter_data('x1')"
   ]
  },
  {
   "cell_type": "code",
   "execution_count": null,
   "metadata": {},
   "outputs": [],
   "source": []
  }
 ],
 "metadata": {
  "kernelspec": {
   "display_name": "Python 3",
   "language": "python",
   "name": "python3"
  },
  "language_info": {
   "codemirror_mode": {
    "name": "ipython",
    "version": 3
   },
   "file_extension": ".py",
   "mimetype": "text/x-python",
   "name": "python",
   "nbconvert_exporter": "python",
   "pygments_lexer": "ipython3",
   "version": "3.7.7"
  },
  "nbsphinx": {
   "timeout": 600
  },
  "toc": {
   "base_numbering": 1,
   "nav_menu": {},
   "number_sections": true,
   "sideBar": true,
   "skip_h1_title": false,
   "title_cell": "Table of Contents",
   "title_sidebar": "Contents",
   "toc_cell": false,
   "toc_position": {},
   "toc_section_display": true,
   "toc_window_display": false
  },
  "varInspector": {
   "cols": {
    "lenName": 16,
    "lenType": 16,
    "lenVar": 40
   },
   "kernels_config": {
    "python": {
     "delete_cmd_postfix": "",
     "delete_cmd_prefix": "del ",
     "library": "var_list.py",
     "varRefreshCmd": "print(var_dic_list())"
    },
    "r": {
     "delete_cmd_postfix": ") ",
     "delete_cmd_prefix": "rm(",
     "library": "var_list.r",
     "varRefreshCmd": "cat(var_dic_list()) "
    }
   },
   "types_to_exclude": [
    "module",
    "function",
    "builtin_function_or_method",
    "instance",
    "_Feature"
   ],
   "window_display": false
  }
 },
 "nbformat": 4,
 "nbformat_minor": 2
}
