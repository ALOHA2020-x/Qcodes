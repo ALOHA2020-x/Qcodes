{
 "cells": [
  {
   "cell_type": "markdown",
   "metadata": {},
   "source": [
    "# DataSet Performance\n",
    "\n",
    "This notebook shows the trade-off between inserting data into a database row-by-row and as binary blobs. Inserting the data row-by-row means that we have direct access to all the data and may perform queries directly on the values of the data. On the other hand, as we shall see, this is much slower than inserting the data directly as binary blobs."
   ]
  },
  {
   "cell_type": "markdown",
   "metadata": {},
   "source": [
    "First, we choose a new location for the database to ensure that we don't add a bunch of benchmarking data to the default one."
   ]
  },
  {
   "cell_type": "code",
   "execution_count": 1,
   "metadata": {
    "execution": {
     "iopub.execute_input": "2021-02-18T06:23:54.667358Z",
     "iopub.status.busy": "2021-02-18T06:23:54.666592Z",
     "iopub.status.idle": "2021-02-18T06:23:55.833419Z",
     "shell.execute_reply": "2021-02-18T06:23:55.832193Z"
    }
   },
   "outputs": [
    {
     "name": "stdout",
     "output_type": "stream",
     "text": [
      "Logging hadn't been started.\n",
      "Activating auto-logging. Current session state plus future input saved.\n",
      "Filename       : /home/runner/.qcodes/logs/command_history.log\n",
      "Mode           : append\n",
      "Output logging : True\n",
      "Raw input log  : False\n",
      "Timestamping   : True\n",
      "State          : active\n"
     ]
    },
    {
     "name": "stdout",
     "output_type": "stream",
     "text": [
      "Qcodes Logfile : /home/runner/.qcodes/logs/210218-3859-qcodes.log\n"
     ]
    }
   ],
   "source": [
    "import os\n",
    "cwd = os.getcwd()\n",
    "import qcodes as qc\n",
    "qc.config[\"core\"][\"db_location\"] = os.path.join(cwd, 'testing.db')\n"
   ]
  },
  {
   "cell_type": "code",
   "execution_count": 2,
   "metadata": {
    "execution": {
     "iopub.execute_input": "2021-02-18T06:23:55.843375Z",
     "iopub.status.busy": "2021-02-18T06:23:55.841116Z",
     "iopub.status.idle": "2021-02-18T06:23:56.090562Z",
     "shell.execute_reply": "2021-02-18T06:23:56.089954Z"
    }
   },
   "outputs": [],
   "source": [
    "%matplotlib inline\n",
    "import time\n",
    "import matplotlib.pyplot as plt\n",
    "import numpy as np\n",
    "\n",
    "import qcodes as qc\n",
    "from qcodes.instrument.parameter import ManualParameter\n",
    "from qcodes.dataset.experiment_container import (Experiment,\n",
    "                                                 load_last_experiment,\n",
    "                                                 new_experiment)\n",
    "from qcodes.dataset.sqlite.database import initialise_database\n",
    "from qcodes import load_or_create_experiment\n",
    "from qcodes.dataset.measurements import Measurement"
   ]
  },
  {
   "cell_type": "code",
   "execution_count": 3,
   "metadata": {
    "execution": {
     "iopub.execute_input": "2021-02-18T06:23:56.095008Z",
     "iopub.status.busy": "2021-02-18T06:23:56.094289Z",
     "iopub.status.idle": "2021-02-18T06:23:56.219563Z",
     "shell.execute_reply": "2021-02-18T06:23:56.218890Z"
    }
   },
   "outputs": [
    {
     "name": "stdout",
     "output_type": "stream",
     "text": [
      "\r",
      "0it [00:00, ?it/s]"
     ]
    },
    {
     "name": "stdout",
     "output_type": "stream",
     "text": [
      "\r",
      "Upgrading database; v0 -> v1: : 0it [00:00, ?it/s]"
     ]
    },
    {
     "name": "stdout",
     "output_type": "stream",
     "text": [
      "\r",
      "Upgrading database; v0 -> v1: : 0it [00:00, ?it/s]"
     ]
    },
    {
     "name": "stdout",
     "output_type": "stream",
     "text": [
      "\n",
      "\r",
      "  0%|          | 0/1 [00:00<?, ?it/s]"
     ]
    },
    {
     "name": "stdout",
     "output_type": "stream",
     "text": [
      "\r",
      "Upgrading database; v1 -> v2:   0%|          | 0/1 [00:00<?, ?it/s]"
     ]
    },
    {
     "name": "stdout",
     "output_type": "stream",
     "text": [
      "\r",
      "Upgrading database; v1 -> v2: 100%|██████████| 1/1 [00:00<00:00, 609.99it/s]"
     ]
    },
    {
     "name": "stdout",
     "output_type": "stream",
     "text": [
      "\n",
      "\r",
      "0it [00:00, ?it/s]"
     ]
    },
    {
     "name": "stdout",
     "output_type": "stream",
     "text": [
      "\r",
      "Upgrading database; v2 -> v3: : 0it [00:00, ?it/s]"
     ]
    },
    {
     "name": "stdout",
     "output_type": "stream",
     "text": [
      "\r",
      "Upgrading database; v2 -> v3: : 0it [00:00, ?it/s]"
     ]
    },
    {
     "name": "stdout",
     "output_type": "stream",
     "text": [
      "\n",
      "\r",
      "0it [00:00, ?it/s]"
     ]
    },
    {
     "name": "stdout",
     "output_type": "stream",
     "text": [
      "\r",
      "Upgrading database; v3 -> v4: : 0it [00:00, ?it/s]"
     ]
    },
    {
     "name": "stdout",
     "output_type": "stream",
     "text": [
      "\r",
      "Upgrading database; v3 -> v4: : 0it [00:00, ?it/s]"
     ]
    },
    {
     "name": "stdout",
     "output_type": "stream",
     "text": [
      "\n",
      "\r",
      "  0%|          | 0/1 [00:00<?, ?it/s]"
     ]
    },
    {
     "name": "stdout",
     "output_type": "stream",
     "text": [
      "\r",
      "Upgrading database; v4 -> v5:   0%|          | 0/1 [00:00<?, ?it/s]"
     ]
    },
    {
     "name": "stdout",
     "output_type": "stream",
     "text": [
      "\r",
      "Upgrading database; v4 -> v5: 100%|██████████| 1/1 [00:00<00:00, 435.91it/s]"
     ]
    },
    {
     "name": "stdout",
     "output_type": "stream",
     "text": [
      "\n",
      "\r",
      "0it [00:00, ?it/s]"
     ]
    },
    {
     "name": "stdout",
     "output_type": "stream",
     "text": [
      "\r",
      "Upgrading database; v5 -> v6: : 0it [00:00, ?it/s]"
     ]
    },
    {
     "name": "stdout",
     "output_type": "stream",
     "text": [
      "\r",
      "Upgrading database; v5 -> v6: : 0it [00:00, ?it/s]"
     ]
    },
    {
     "name": "stdout",
     "output_type": "stream",
     "text": [
      "\n",
      "\r",
      "  0%|          | 0/1 [00:00<?, ?it/s]"
     ]
    },
    {
     "name": "stdout",
     "output_type": "stream",
     "text": [
      "\r",
      "Upgrading database; v6 -> v7:   0%|          | 0/1 [00:00<?, ?it/s]"
     ]
    },
    {
     "name": "stdout",
     "output_type": "stream",
     "text": [
      "\r",
      "Upgrading database; v6 -> v7: 100%|██████████| 1/1 [00:00<00:00, 269.35it/s]"
     ]
    },
    {
     "name": "stdout",
     "output_type": "stream",
     "text": [
      "\n",
      "\r",
      "  0%|          | 0/1 [00:00<?, ?it/s]"
     ]
    },
    {
     "name": "stdout",
     "output_type": "stream",
     "text": [
      "\r",
      "Upgrading database; v7 -> v8:   0%|          | 0/1 [00:00<?, ?it/s]"
     ]
    },
    {
     "name": "stdout",
     "output_type": "stream",
     "text": [
      "\r",
      "Upgrading database; v7 -> v8: 100%|██████████| 1/1 [00:00<00:00, 500.33it/s]"
     ]
    },
    {
     "name": "stdout",
     "output_type": "stream",
     "text": [
      "\n",
      "\r",
      "  0%|          | 0/1 [00:00<?, ?it/s]"
     ]
    },
    {
     "name": "stdout",
     "output_type": "stream",
     "text": [
      "\r",
      "Upgrading database; v8 -> v9:   0%|          | 0/1 [00:00<?, ?it/s]"
     ]
    },
    {
     "name": "stdout",
     "output_type": "stream",
     "text": [
      "\r",
      "Upgrading database; v8 -> v9: 100%|██████████| 1/1 [00:00<00:00, 628.83it/s]"
     ]
    },
    {
     "name": "stdout",
     "output_type": "stream",
     "text": [
      "\n"
     ]
    }
   ],
   "source": [
    "initialise_database()\n",
    "exp = load_or_create_experiment(experiment_name='tutorial_exp', sample_name=\"no sample\")"
   ]
  },
  {
   "cell_type": "markdown",
   "metadata": {},
   "source": [
    "Here, we define a simple function to benchmark the time it takes to insert n points with either numeric or array data type.\n",
    "We will compare both the time used to call ``add_result`` and the time used for the full measurement."
   ]
  },
  {
   "cell_type": "code",
   "execution_count": 4,
   "metadata": {
    "execution": {
     "iopub.execute_input": "2021-02-18T06:23:56.232244Z",
     "iopub.status.busy": "2021-02-18T06:23:56.231209Z",
     "iopub.status.idle": "2021-02-18T06:23:56.233847Z",
     "shell.execute_reply": "2021-02-18T06:23:56.233005Z"
    }
   },
   "outputs": [],
   "source": [
    "def insert_data(paramtype, npoints, nreps=1):\n",
    "\n",
    "    meas = Measurement(exp=exp)\n",
    "\n",
    "    x1 = ManualParameter('x1')\n",
    "    x2 = ManualParameter('x2')\n",
    "    x3 = ManualParameter('x3')\n",
    "    y1 = ManualParameter('y1')\n",
    "    y2 = ManualParameter('y2')\n",
    "\n",
    "    meas.register_parameter(x1, paramtype=paramtype)\n",
    "    meas.register_parameter(x2, paramtype=paramtype)\n",
    "    meas.register_parameter(x3, paramtype=paramtype)\n",
    "    meas.register_parameter(y1, setpoints=[x1, x2, x3],\n",
    "                            paramtype=paramtype)\n",
    "    meas.register_parameter(y2, setpoints=[x1, x2, x3],\n",
    "                            paramtype=paramtype)\n",
    "    start = time.perf_counter()\n",
    "    with meas.run() as datasaver:\n",
    "        start_adding = time.perf_counter()\n",
    "        for i in range(nreps):\n",
    "            datasaver.add_result((x1, np.random.rand(npoints)),\n",
    "                                 (x2, np.random.rand(npoints)),\n",
    "                                 (x3, np.random.rand(npoints)),\n",
    "                                 (y1, np.random.rand(npoints)),\n",
    "                                 (y2, np.random.rand(npoints)))\n",
    "        stop_adding = time.perf_counter()\n",
    "        run_id = datasaver.run_id\n",
    "    stop = time.perf_counter()\n",
    "    tot_time = stop - start\n",
    "    add_time = stop_adding - start_adding\n",
    "    return tot_time, add_time, run_id"
   ]
  },
  {
   "cell_type": "markdown",
   "metadata": {},
   "source": [
    "## Comparison between numeric/array data and binary blob"
   ]
  },
  {
   "cell_type": "markdown",
   "metadata": {},
   "source": [
    "### Case1: Short experiment time"
   ]
  },
  {
   "cell_type": "code",
   "execution_count": 5,
   "metadata": {
    "execution": {
     "iopub.execute_input": "2021-02-18T06:23:56.243683Z",
     "iopub.status.busy": "2021-02-18T06:23:56.242702Z",
     "iopub.status.idle": "2021-02-18T06:23:57.302847Z",
     "shell.execute_reply": "2021-02-18T06:23:57.303409Z"
    }
   },
   "outputs": [
    {
     "name": "stdout",
     "output_type": "stream",
     "text": [
      "Starting experimental run with id: 1. \n",
      "Starting experimental run with id: 2. \n",
      "Starting experimental run with id: 3. \n"
     ]
    },
    {
     "name": "stdout",
     "output_type": "stream",
     "text": [
      "Starting experimental run with id: 4. \n"
     ]
    },
    {
     "name": "stdout",
     "output_type": "stream",
     "text": [
      "Starting experimental run with id: 5. \n"
     ]
    },
    {
     "name": "stdout",
     "output_type": "stream",
     "text": [
      "Starting experimental run with id: 6. \n",
      "Starting experimental run with id: 7. \n"
     ]
    },
    {
     "name": "stdout",
     "output_type": "stream",
     "text": [
      "Starting experimental run with id: 8. \n",
      "Starting experimental run with id: 9. \n"
     ]
    },
    {
     "name": "stdout",
     "output_type": "stream",
     "text": [
      "Starting experimental run with id: 10. \n",
      "Starting experimental run with id: 11. \n"
     ]
    },
    {
     "name": "stdout",
     "output_type": "stream",
     "text": [
      "Starting experimental run with id: 12. \n",
      "Starting experimental run with id: 13. \n"
     ]
    },
    {
     "name": "stdout",
     "output_type": "stream",
     "text": [
      "Starting experimental run with id: 14. \n"
     ]
    }
   ],
   "source": [
    "sizes = [1,500,1000,2000,3000,4000,5000]\n",
    "t_numeric = []\n",
    "t_numeric_add = []\n",
    "t_array = []\n",
    "t_array_add = []\n",
    "for size in sizes:\n",
    "    tn, tna, run_id_n =  insert_data('numeric', size)\n",
    "    t_numeric.append(tn)\n",
    "    t_numeric_add.append(tna)\n",
    "\n",
    "    ta, taa, run_id_a =  insert_data('array', size)\n",
    "    t_array.append(ta)\n",
    "    t_array_add.append(taa)"
   ]
  },
  {
   "cell_type": "code",
   "execution_count": 6,
   "metadata": {
    "execution": {
     "iopub.execute_input": "2021-02-18T06:23:57.328120Z",
     "iopub.status.busy": "2021-02-18T06:23:57.327355Z",
     "iopub.status.idle": "2021-02-18T06:23:57.612063Z",
     "shell.execute_reply": "2021-02-18T06:23:57.612739Z"
    }
   },
   "outputs": [
    {
     "data": {
      "image/png": "[encoded data removed]",
      "text/plain": [
       "<Figure size 432x288 with 1 Axes>"
      ]
     },
     "metadata": {
      "needs_background": "light"
     },
     "output_type": "display_data"
    }
   ],
   "source": [
    "fig, ax = plt.subplots(1,1)\n",
    "ax.plot(sizes, t_numeric, 'o-', label='Inserting row-by-row')\n",
    "ax.plot(sizes, t_numeric_add, 'o-', label='Inserting row-by-row: add_result only')\n",
    "ax.plot(sizes, t_array, 'd-', label='Inserting as binary blob')\n",
    "ax.plot(sizes, t_array_add, 'd-', label='Inserting as binary blob: add_result only')\n",
    "ax.legend()\n",
    "ax.set_xlabel('Array length')\n",
    "ax.set_ylabel('Time (s)')\n",
    "fig.tight_layout()"
   ]
  },
  {
   "cell_type": "markdown",
   "metadata": {},
   "source": [
    "As shown in the latter figure, the time to setup and and close the experiment is approximately 0.4 sec. In case of small array sizes, the difference between inserting values of data as arrays and inserting them row-by-row is relatively unimportant. At larger array sizes, i.e. above 10000 points, the cost of writing data as individual datapoints starts to become important.\n"
   ]
  },
  {
   "cell_type": "markdown",
   "metadata": {},
   "source": [
    "### Case2: Long experiment time "
   ]
  },
  {
   "cell_type": "code",
   "execution_count": 7,
   "metadata": {
    "execution": {
     "iopub.execute_input": "2021-02-18T06:23:57.622540Z",
     "iopub.status.busy": "2021-02-18T06:23:57.621849Z",
     "iopub.status.idle": "2021-02-18T06:25:10.724478Z",
     "shell.execute_reply": "2021-02-18T06:25:10.723590Z"
    }
   },
   "outputs": [
    {
     "name": "stdout",
     "output_type": "stream",
     "text": [
      "Starting experimental run with id: 15. \n",
      "Starting experimental run with id: 16. \n"
     ]
    },
    {
     "name": "stdout",
     "output_type": "stream",
     "text": [
      "Starting experimental run with id: 17. \n"
     ]
    },
    {
     "name": "stdout",
     "output_type": "stream",
     "text": [
      "Starting experimental run with id: 18. \n"
     ]
    },
    {
     "name": "stdout",
     "output_type": "stream",
     "text": [
      "Starting experimental run with id: 19. \n"
     ]
    },
    {
     "name": "stdout",
     "output_type": "stream",
     "text": [
      "Starting experimental run with id: 20. \n"
     ]
    },
    {
     "name": "stdout",
     "output_type": "stream",
     "text": [
      "Starting experimental run with id: 21. \n"
     ]
    },
    {
     "name": "stdout",
     "output_type": "stream",
     "text": [
      "Starting experimental run with id: 22. \n"
     ]
    },
    {
     "name": "stdout",
     "output_type": "stream",
     "text": [
      "Starting experimental run with id: 23. \n"
     ]
    },
    {
     "name": "stdout",
     "output_type": "stream",
     "text": [
      "Starting experimental run with id: 24. \n"
     ]
    },
    {
     "name": "stdout",
     "output_type": "stream",
     "text": [
      "Starting experimental run with id: 25. \n"
     ]
    },
    {
     "name": "stdout",
     "output_type": "stream",
     "text": [
      "Starting experimental run with id: 26. \n"
     ]
    },
    {
     "name": "stdout",
     "output_type": "stream",
     "text": [
      "Starting experimental run with id: 27. \n"
     ]
    },
    {
     "name": "stdout",
     "output_type": "stream",
     "text": [
      "Starting experimental run with id: 28. \n"
     ]
    }
   ],
   "source": [
    "sizes = [1,500,1000,2000,3000,4000,5000]\n",
    "nreps = 100\n",
    "t_numeric = []\n",
    "t_numeric_add = []\n",
    "t_numeric_run_ids = []\n",
    "t_array = []\n",
    "t_array_add = []\n",
    "t_array_run_ids = []\n",
    "for size in sizes:\n",
    "    tn, tna, run_id_n =  insert_data('numeric', size, nreps=nreps)\n",
    "    t_numeric.append(tn)\n",
    "    t_numeric_add.append(tna)\n",
    "    t_numeric_run_ids.append(run_id_n)\n",
    "\n",
    "    ta, taa, run_id_a =  insert_data('array', size, nreps=nreps)\n",
    "    t_array.append(ta)\n",
    "    t_array_add.append(taa)\n",
    "    t_array_run_ids.append(run_id_a)"
   ]
  },
  {
   "cell_type": "code",
   "execution_count": 8,
   "metadata": {
    "execution": {
     "iopub.execute_input": "2021-02-18T06:25:10.783550Z",
     "iopub.status.busy": "2021-02-18T06:25:10.751454Z",
     "iopub.status.idle": "2021-02-18T06:25:10.987273Z",
     "shell.execute_reply": "2021-02-18T06:25:10.986277Z"
    },
    "scrolled": true
   },
   "outputs": [
    {
     "data": {
      "image/png": "[encoded data removed]",
      "text/plain": [
       "<Figure size 432x288 with 1 Axes>"
      ]
     },
     "metadata": {
      "needs_background": "light"
     },
     "output_type": "display_data"
    }
   ],
   "source": [
    "fig, ax = plt.subplots(1,1)\n",
    "ax.plot(sizes, t_numeric, 'o-', label='Inserting row-by-row')\n",
    "ax.plot(sizes, t_numeric_add, 'o-', label='Inserting row-by-row: add_result only')\n",
    "ax.plot(sizes, t_array, 'd-', label='Inserting as binary blob')\n",
    "ax.plot(sizes, t_array_add, 'd-', label='Inserting as binary blob: add_result only')\n",
    "ax.legend()\n",
    "ax.set_xlabel('Array length')\n",
    "ax.set_ylabel('Time (s)')\n",
    "fig.tight_layout()"
   ]
  },
  {
   "cell_type": "markdown",
   "metadata": {},
   "source": [
    "However, as we increase the length of the experiment, as seen here by repeating the insertion 100 times, we see a big difference between inserting values of the data row-by-row and inserting it as a binary blob."
   ]
  },
  {
   "cell_type": "markdown",
   "metadata": {},
   "source": [
    "## Loading the data "
   ]
  },
  {
   "cell_type": "code",
   "execution_count": 9,
   "metadata": {
    "execution": {
     "iopub.execute_input": "2021-02-18T06:25:10.993465Z",
     "iopub.status.busy": "2021-02-18T06:25:10.991534Z",
     "iopub.status.idle": "2021-02-18T06:25:10.997298Z",
     "shell.execute_reply": "2021-02-18T06:25:10.996496Z"
    }
   },
   "outputs": [],
   "source": [
    "from qcodes.dataset.data_set import load_by_id\n",
    "from qcodes.dataset.data_export import get_data_by_id"
   ]
  },
  {
   "cell_type": "markdown",
   "metadata": {},
   "source": [
    "As usual you can load the data by using the ``load_by_id`` function but you will notice that the different storage methods\n",
    "are reflected in shape of the data as it is retrieved. "
   ]
  },
  {
   "cell_type": "code",
   "execution_count": 10,
   "metadata": {
    "execution": {
     "iopub.execute_input": "2021-02-18T06:25:11.002477Z",
     "iopub.status.busy": "2021-02-18T06:25:11.001751Z",
     "iopub.status.idle": "2021-02-18T06:25:11.005473Z",
     "shell.execute_reply": "2021-02-18T06:25:11.006756Z"
    }
   },
   "outputs": [],
   "source": [
    "run_id_n = t_numeric_run_ids[0]\n",
    "run_id_a = t_array_run_ids[0]"
   ]
  },
  {
   "cell_type": "code",
   "execution_count": 11,
   "metadata": {
    "execution": {
     "iopub.execute_input": "2021-02-18T06:25:11.012352Z",
     "iopub.status.busy": "2021-02-18T06:25:11.010776Z",
     "iopub.status.idle": "2021-02-18T06:25:11.028503Z",
     "shell.execute_reply": "2021-02-18T06:25:11.026717Z"
    },
    "scrolled": true
   },
   "outputs": [
    {
     "data": {
      "text/plain": [
       "{'x1': {'x1': array([0.01338991, 0.01338991, 0.32312774, 0.32312774, 0.01490575,\n",
       "         0.01490575, 0.83789535, 0.83789535, 0.18107168, 0.18107168,\n",
       "         0.84159683, 0.84159683, 0.78496448, 0.78496448, 0.22058867,\n",
       "         0.22058867, 0.60610562, 0.60610562, 0.58722541, 0.58722541,\n",
       "         0.23529453, 0.23529453, 0.19621847, 0.19621847, 0.8621659 ,\n",
       "         0.8621659 , 0.30363136, 0.30363136, 0.08493347, 0.08493347,\n",
       "         0.48788867, 0.48788867, 0.62735468, 0.62735468, 0.68435433,\n",
       "         0.68435433, 0.09885845, 0.09885845, 0.703888  , 0.703888  ,\n",
       "         0.09003927, 0.09003927, 0.87555468, 0.87555468, 0.54593677,\n",
       "         0.54593677, 0.09641021, 0.09641021, 0.05693534, 0.05693534,\n",
       "         0.17839851, 0.17839851, 0.34945713, 0.34945713, 0.67220979,\n",
       "         0.67220979, 0.36343478, 0.36343478, 0.1577269 , 0.1577269 ,\n",
       "         0.8509238 , 0.8509238 , 0.09494562, 0.09494562, 0.65708364,\n",
       "         0.65708364, 0.6931024 , 0.6931024 , 0.93783954, 0.93783954,\n",
       "         0.05609205, 0.05609205, 0.11152943, 0.11152943, 0.34310893,\n",
       "         0.34310893, 0.2055603 , 0.2055603 , 0.57299128, 0.57299128,\n",
       "         0.71975038, 0.71975038, 0.60020128, 0.60020128, 0.06464697,\n",
       "         0.06464697, 0.53421882, 0.53421882, 0.69685789, 0.69685789,\n",
       "         0.12028087, 0.12028087, 0.15272083, 0.15272083, 0.1356381 ,\n",
       "         0.1356381 , 0.93037311, 0.93037311, 0.20126458, 0.20126458,\n",
       "         0.87563751, 0.87563751, 0.72158374, 0.72158374, 0.33950589,\n",
       "         0.33950589, 0.146666  , 0.146666  , 0.77526456, 0.77526456,\n",
       "         0.846579  , 0.846579  , 0.69385362, 0.69385362, 0.5066867 ,\n",
       "         0.5066867 , 0.02389722, 0.02389722, 0.38801019, 0.38801019,\n",
       "         0.49605276, 0.49605276, 0.56283622, 0.56283622, 0.55587895,\n",
       "         0.55587895, 0.12640343, 0.12640343, 0.67063133, 0.67063133,\n",
       "         0.2802036 , 0.2802036 , 0.83362932, 0.83362932, 0.44096101,\n",
       "         0.44096101, 0.67800366, 0.67800366, 0.79950804, 0.79950804,\n",
       "         0.55267028, 0.55267028, 0.89090156, 0.89090156, 0.28003578,\n",
       "         0.28003578, 0.48591185, 0.48591185, 0.6533406 , 0.6533406 ,\n",
       "         0.33504348, 0.33504348, 0.25383873, 0.25383873, 0.70736941,\n",
       "         0.70736941, 0.71724831, 0.71724831, 0.10968074, 0.10968074,\n",
       "         0.33547549, 0.33547549, 0.2054499 , 0.2054499 , 0.66662272,\n",
       "         0.66662272, 0.48786327, 0.48786327, 0.01390007, 0.01390007,\n",
       "         0.49623031, 0.49623031, 0.28922622, 0.28922622, 0.08566384,\n",
       "         0.08566384, 0.41020608, 0.41020608, 0.45598994, 0.45598994,\n",
       "         0.93173987, 0.93173987, 0.78872874, 0.78872874, 0.87636579,\n",
       "         0.87636579, 0.15433997, 0.15433997, 0.73751049, 0.73751049,\n",
       "         0.41582084, 0.41582084, 0.17013822, 0.17013822, 0.94202341,\n",
       "         0.94202341, 0.96169409, 0.96169409, 0.76390087, 0.76390087])}}"
      ]
     },
     "execution_count": 1,
     "metadata": {},
     "output_type": "execute_result"
    }
   ],
   "source": [
    "ds = load_by_id(run_id_n)\n",
    "ds.get_parameter_data('x1')"
   ]
  },
  {
   "cell_type": "markdown",
   "metadata": {},
   "source": [
    "And a dataset stored as binary arrays"
   ]
  },
  {
   "cell_type": "code",
   "execution_count": 12,
   "metadata": {
    "execution": {
     "iopub.execute_input": "2021-02-18T06:25:11.036064Z",
     "iopub.status.busy": "2021-02-18T06:25:11.033640Z",
     "iopub.status.idle": "2021-02-18T06:25:11.124383Z",
     "shell.execute_reply": "2021-02-18T06:25:11.125887Z"
    },
    "scrolled": true
   },
   "outputs": [
    {
     "data": {
      "text/plain": [
       "{'x1': {'x1': array([[7.58500827e-01],\n",
       "         [7.58500827e-01],\n",
       "         [3.17647560e-01],\n",
       "         [3.17647560e-01],\n",
       "         [8.38728102e-02],\n",
       "         [8.38728102e-02],\n",
       "         [3.60316746e-01],\n",
       "         [3.60316746e-01],\n",
       "         [9.10654506e-04],\n",
       "         [9.10654506e-04],\n",
       "         [1.00784237e-01],\n",
       "         [1.00784237e-01],\n",
       "         [5.43834637e-01],\n",
       "         [5.43834637e-01],\n",
       "         [1.19238300e-01],\n",
       "         [1.19238300e-01],\n",
       "         [8.83952540e-01],\n",
       "         [8.83952540e-01],\n",
       "         [1.46853085e-01],\n",
       "         [1.46853085e-01],\n",
       "         [9.92660958e-01],\n",
       "         [9.92660958e-01],\n",
       "         [9.52344012e-02],\n",
       "         [9.52344012e-02],\n",
       "         [3.77019535e-01],\n",
       "         [3.77019535e-01],\n",
       "         [9.24311099e-01],\n",
       "         [9.24311099e-01],\n",
       "         [3.96195900e-01],\n",
       "         [3.96195900e-01],\n",
       "         [6.10039414e-01],\n",
       "         [6.10039414e-01],\n",
       "         [1.38225953e-02],\n",
       "         [1.38225953e-02],\n",
       "         [6.09436639e-01],\n",
       "         [6.09436639e-01],\n",
       "         [8.22305282e-01],\n",
       "         [8.22305282e-01],\n",
       "         [4.05989669e-01],\n",
       "         [4.05989669e-01],\n",
       "         [7.48553455e-01],\n",
       "         [7.48553455e-01],\n",
       "         [5.18137366e-01],\n",
       "         [5.18137366e-01],\n",
       "         [1.83094153e-01],\n",
       "         [1.83094153e-01],\n",
       "         [7.60571401e-01],\n",
       "         [7.60571401e-01],\n",
       "         [1.58762958e-01],\n",
       "         [1.58762958e-01],\n",
       "         [1.76553112e-01],\n",
       "         [1.76553112e-01],\n",
       "         [4.94322957e-01],\n",
       "         [4.94322957e-01],\n",
       "         [4.10028511e-01],\n",
       "         [4.10028511e-01],\n",
       "         [6.12128326e-01],\n",
       "         [6.12128326e-01],\n",
       "         [8.92886923e-01],\n",
       "         [8.92886923e-01],\n",
       "         [2.49503511e-01],\n",
       "         [2.49503511e-01],\n",
       "         [1.83323672e-01],\n",
       "         [1.83323672e-01],\n",
       "         [7.91341586e-01],\n",
       "         [7.91341586e-01],\n",
       "         [8.65497048e-01],\n",
       "         [8.65497048e-01],\n",
       "         [3.70798621e-01],\n",
       "         [3.70798621e-01],\n",
       "         [6.18863626e-01],\n",
       "         [6.18863626e-01],\n",
       "         [2.88638600e-01],\n",
       "         [2.88638600e-01],\n",
       "         [1.57079406e-01],\n",
       "         [1.57079406e-01],\n",
       "         [3.62281492e-01],\n",
       "         [3.62281492e-01],\n",
       "         [8.15193674e-01],\n",
       "         [8.15193674e-01],\n",
       "         [6.71856860e-01],\n",
       "         [6.71856860e-01],\n",
       "         [5.08170928e-01],\n",
       "         [5.08170928e-01],\n",
       "         [4.85637351e-01],\n",
       "         [4.85637351e-01],\n",
       "         [8.26537937e-01],\n",
       "         [8.26537937e-01],\n",
       "         [2.12248622e-01],\n",
       "         [2.12248622e-01],\n",
       "         [5.36581335e-01],\n",
       "         [5.36581335e-01],\n",
       "         [9.37637238e-01],\n",
       "         [9.37637238e-01],\n",
       "         [6.32947522e-01],\n",
       "         [6.32947522e-01],\n",
       "         [8.34222703e-01],\n",
       "         [8.34222703e-01],\n",
       "         [5.28295752e-01],\n",
       "         [5.28295752e-01],\n",
       "         [5.23663957e-01],\n",
       "         [5.23663957e-01],\n",
       "         [8.92080360e-01],\n",
       "         [8.92080360e-01],\n",
       "         [1.58974897e-01],\n",
       "         [1.58974897e-01],\n",
       "         [6.87241773e-01],\n",
       "         [6.87241773e-01],\n",
       "         [4.11447573e-01],\n",
       "         [4.11447573e-01],\n",
       "         [5.87199254e-01],\n",
       "         [5.87199254e-01],\n",
       "         [6.84230213e-01],\n",
       "         [6.84230213e-01],\n",
       "         [7.01241743e-01],\n",
       "         [7.01241743e-01],\n",
       "         [4.31776473e-01],\n",
       "         [4.31776473e-01],\n",
       "         [6.02005706e-01],\n",
       "         [6.02005706e-01],\n",
       "         [1.21523758e-01],\n",
       "         [1.21523758e-01],\n",
       "         [3.48631229e-02],\n",
       "         [3.48631229e-02],\n",
       "         [1.71201152e-01],\n",
       "         [1.71201152e-01],\n",
       "         [1.27959994e-01],\n",
       "         [1.27959994e-01],\n",
       "         [8.46247880e-01],\n",
       "         [8.46247880e-01],\n",
       "         [6.85392456e-01],\n",
       "         [6.85392456e-01],\n",
       "         [9.81285482e-01],\n",
       "         [9.81285482e-01],\n",
       "         [6.94302891e-01],\n",
       "         [6.94302891e-01],\n",
       "         [6.12342907e-01],\n",
       "         [6.12342907e-01],\n",
       "         [6.81556986e-01],\n",
       "         [6.81556986e-01],\n",
       "         [3.85279259e-01],\n",
       "         [3.85279259e-01],\n",
       "         [1.57065349e-01],\n",
       "         [1.57065349e-01],\n",
       "         [7.79894979e-01],\n",
       "         [7.79894979e-01],\n",
       "         [6.67993833e-01],\n",
       "         [6.67993833e-01],\n",
       "         [7.88247990e-01],\n",
       "         [7.88247990e-01],\n",
       "         [9.15799171e-01],\n",
       "         [9.15799171e-01],\n",
       "         [1.03202105e-01],\n",
       "         [1.03202105e-01],\n",
       "         [4.85812299e-02],\n",
       "         [4.85812299e-02],\n",
       "         [5.87892767e-01],\n",
       "         [5.87892767e-01],\n",
       "         [3.94494015e-01],\n",
       "         [3.94494015e-01],\n",
       "         [4.42964021e-01],\n",
       "         [4.42964021e-01],\n",
       "         [4.73554237e-01],\n",
       "         [4.73554237e-01],\n",
       "         [7.02410212e-01],\n",
       "         [7.02410212e-01],\n",
       "         [7.54180504e-01],\n",
       "         [7.54180504e-01],\n",
       "         [8.28993407e-01],\n",
       "         [8.28993407e-01],\n",
       "         [1.26954135e-02],\n",
       "         [1.26954135e-02],\n",
       "         [1.83312377e-01],\n",
       "         [1.83312377e-01],\n",
       "         [3.66216513e-01],\n",
       "         [3.66216513e-01],\n",
       "         [2.15399345e-01],\n",
       "         [2.15399345e-01],\n",
       "         [9.07129090e-01],\n",
       "         [9.07129090e-01],\n",
       "         [6.65490605e-01],\n",
       "         [6.65490605e-01],\n",
       "         [9.01079446e-01],\n",
       "         [9.01079446e-01],\n",
       "         [7.80886209e-01],\n",
       "         [7.80886209e-01],\n",
       "         [2.16752304e-01],\n",
       "         [2.16752304e-01],\n",
       "         [5.86678480e-01],\n",
       "         [5.86678480e-01],\n",
       "         [4.62020005e-01],\n",
       "         [4.62020005e-01],\n",
       "         [6.59293471e-01],\n",
       "         [6.59293471e-01],\n",
       "         [9.78208466e-01],\n",
       "         [9.78208466e-01],\n",
       "         [6.98517194e-01],\n",
       "         [6.98517194e-01],\n",
       "         [2.29700151e-01],\n",
       "         [2.29700151e-01]])}}"
      ]
     },
     "execution_count": 1,
     "metadata": {},
     "output_type": "execute_result"
    }
   ],
   "source": [
    "ds = load_by_id(run_id_a)\n",
    "ds.get_parameter_data('x1')"
   ]
  },
  {
   "cell_type": "code",
   "execution_count": null,
   "metadata": {},
   "outputs": [],
   "source": []
  }
 ],
 "metadata": {
  "kernelspec": {
   "display_name": "Python 3",
   "language": "python",
   "name": "python3"
  },
  "language_info": {
   "codemirror_mode": {
    "name": "ipython",
    "version": 3
   },
   "file_extension": ".py",
   "mimetype": "text/x-python",
   "name": "python",
   "nbconvert_exporter": "python",
   "pygments_lexer": "ipython3",
   "version": "3.7.9"
  },
  "nbsphinx": {
   "timeout": 600
  },
  "toc": {
   "base_numbering": 1,
   "nav_menu": {},
   "number_sections": true,
   "sideBar": true,
   "skip_h1_title": false,
   "title_cell": "Table of Contents",
   "title_sidebar": "Contents",
   "toc_cell": false,
   "toc_position": {},
   "toc_section_display": true,
   "toc_window_display": false
  },
  "varInspector": {
   "cols": {
    "lenName": 16,
    "lenType": 16,
    "lenVar": 40
   },
   "kernels_config": {
    "python": {
     "delete_cmd_postfix": "",
     "delete_cmd_prefix": "del ",
     "library": "var_list.py",
     "varRefreshCmd": "print(var_dic_list())"
    },
    "r": {
     "delete_cmd_postfix": ") ",
     "delete_cmd_prefix": "rm(",
     "library": "var_list.r",
     "varRefreshCmd": "cat(var_dic_list()) "
    }
   },
   "types_to_exclude": [
    "module",
    "function",
    "builtin_function_or_method",
    "instance",
    "_Feature"
   ],
   "window_display": false
  }
 },
 "nbformat": 4,
 "nbformat_minor": 2
}
