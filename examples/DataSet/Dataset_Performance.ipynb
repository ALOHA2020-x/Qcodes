{
 "cells": [
  {
   "cell_type": "markdown",
   "metadata": {},
   "source": [
    "# DataSet Performance\n",
    "\n",
    "This notebook shows the trade-off between inserting data into a database row-by-row and as binary blobs. Inserting the data row-by-row means that we have direct access to all the data and may perform queries directly on the values of the data. On the other hand, as we shall see, this is much slower than inserting the data directly as binary blobs."
   ]
  },
  {
   "cell_type": "markdown",
   "metadata": {},
   "source": [
    "First, we choose a new location for the database to ensure that we don't add a bunch of benchmarking data to the default one."
   ]
  },
  {
   "cell_type": "code",
   "execution_count": 1,
   "metadata": {
    "execution": {
     "iopub.execute_input": "2020-10-28T18:12:49.480521Z",
     "iopub.status.busy": "2020-10-28T18:12:49.479325Z",
     "iopub.status.idle": "2020-10-28T18:12:50.677216Z",
     "shell.execute_reply": "2020-10-28T18:12:50.676427Z"
    }
   },
   "outputs": [
    {
     "name": "stdout",
     "output_type": "stream",
     "text": [
      "Logging hadn't been started.\n",
      "Activating auto-logging. Current session state plus future input saved.\n",
      "Filename       : /home/vsts/.qcodes/logs/command_history.log\n",
      "Mode           : append\n",
      "Output logging : True\n",
      "Raw input log  : False\n",
      "Timestamping   : True\n",
      "State          : active\n"
     ]
    },
    {
     "name": "stdout",
     "output_type": "stream",
     "text": [
      "Qcodes Logfile : /home/vsts/.qcodes/logs/201028-14648-qcodes.log\n"
     ]
    }
   ],
   "source": [
    "import os\n",
    "cwd = os.getcwd()\n",
    "import qcodes as qc\n",
    "qc.config[\"core\"][\"db_location\"] = os.path.join(cwd, 'testing.db')\n"
   ]
  },
  {
   "cell_type": "code",
   "execution_count": 2,
   "metadata": {
    "execution": {
     "iopub.execute_input": "2020-10-28T18:12:50.686440Z",
     "iopub.status.busy": "2020-10-28T18:12:50.685665Z",
     "iopub.status.idle": "2020-10-28T18:12:50.890349Z",
     "shell.execute_reply": "2020-10-28T18:12:50.889795Z"
    }
   },
   "outputs": [],
   "source": [
    "%matplotlib inline\n",
    "import time\n",
    "import matplotlib.pyplot as plt\n",
    "import numpy as np\n",
    "\n",
    "import qcodes as qc\n",
    "from qcodes.instrument.parameter import ManualParameter\n",
    "from qcodes.dataset.experiment_container import (Experiment,\n",
    "                                                 load_last_experiment,\n",
    "                                                 new_experiment)\n",
    "from qcodes.dataset.sqlite.database import initialise_database\n",
    "from qcodes import load_or_create_experiment\n",
    "from qcodes.dataset.measurements import Measurement"
   ]
  },
  {
   "cell_type": "code",
   "execution_count": 3,
   "metadata": {
    "execution": {
     "iopub.execute_input": "2020-10-28T18:12:50.894840Z",
     "iopub.status.busy": "2020-10-28T18:12:50.894084Z",
     "iopub.status.idle": "2020-10-28T18:12:51.033816Z",
     "shell.execute_reply": "2020-10-28T18:12:51.033150Z"
    }
   },
   "outputs": [
    {
     "name": "stdout",
     "output_type": "stream",
     "text": [
      "\r",
      "0it [00:00, ?it/s]"
     ]
    },
    {
     "name": "stdout",
     "output_type": "stream",
     "text": [
      "\r",
      "Upgrading database; v0 -> v1: : 0it [00:00, ?it/s]"
     ]
    },
    {
     "name": "stdout",
     "output_type": "stream",
     "text": [
      "\r",
      "Upgrading database; v0 -> v1: : 0it [00:00, ?it/s]"
     ]
    },
    {
     "name": "stdout",
     "output_type": "stream",
     "text": [
      "\n",
      "\r",
      "  0%|          | 0/1 [00:00<?, ?it/s]"
     ]
    },
    {
     "name": "stdout",
     "output_type": "stream",
     "text": [
      "\r",
      "Upgrading database; v1 -> v2:   0%|          | 0/1 [00:00<?, ?it/s]"
     ]
    },
    {
     "name": "stdout",
     "output_type": "stream",
     "text": [
      "\r",
      "Upgrading database; v1 -> v2: 100%|██████████| 1/1 [00:00<00:00, 487.99it/s]"
     ]
    },
    {
     "name": "stdout",
     "output_type": "stream",
     "text": [
      "\n",
      "\r",
      "0it [00:00, ?it/s]"
     ]
    },
    {
     "name": "stdout",
     "output_type": "stream",
     "text": [
      "\r",
      "Upgrading database; v2 -> v3: : 0it [00:00, ?it/s]"
     ]
    },
    {
     "name": "stdout",
     "output_type": "stream",
     "text": [
      "\r",
      "Upgrading database; v2 -> v3: : 0it [00:00, ?it/s]"
     ]
    },
    {
     "name": "stdout",
     "output_type": "stream",
     "text": [
      "\n",
      "\r",
      "0it [00:00, ?it/s]"
     ]
    },
    {
     "name": "stdout",
     "output_type": "stream",
     "text": [
      "\r",
      "Upgrading database; v3 -> v4: : 0it [00:00, ?it/s]"
     ]
    },
    {
     "name": "stdout",
     "output_type": "stream",
     "text": [
      "\r",
      "Upgrading database; v3 -> v4: : 0it [00:00, ?it/s]"
     ]
    },
    {
     "name": "stdout",
     "output_type": "stream",
     "text": [
      "\n",
      "\r",
      "  0%|          | 0/1 [00:00<?, ?it/s]"
     ]
    },
    {
     "name": "stdout",
     "output_type": "stream",
     "text": [
      "\r",
      "Upgrading database; v4 -> v5:   0%|          | 0/1 [00:00<?, ?it/s]"
     ]
    },
    {
     "name": "stdout",
     "output_type": "stream",
     "text": [
      "\r",
      "Upgrading database; v4 -> v5: 100%|██████████| 1/1 [00:00<00:00, 376.75it/s]"
     ]
    },
    {
     "name": "stdout",
     "output_type": "stream",
     "text": [
      "\n",
      "\r",
      "0it [00:00, ?it/s]"
     ]
    },
    {
     "name": "stdout",
     "output_type": "stream",
     "text": [
      "\r",
      "Upgrading database; v5 -> v6: : 0it [00:00, ?it/s]"
     ]
    },
    {
     "name": "stdout",
     "output_type": "stream",
     "text": [
      "\r",
      "Upgrading database; v5 -> v6: : 0it [00:00, ?it/s]"
     ]
    },
    {
     "name": "stdout",
     "output_type": "stream",
     "text": [
      "\n",
      "\r",
      "  0%|          | 0/1 [00:00<?, ?it/s]"
     ]
    },
    {
     "name": "stdout",
     "output_type": "stream",
     "text": [
      "\r",
      "Upgrading database; v6 -> v7:   0%|          | 0/1 [00:00<?, ?it/s]"
     ]
    },
    {
     "name": "stdout",
     "output_type": "stream",
     "text": [
      "\r",
      "Upgrading database; v6 -> v7: 100%|██████████| 1/1 [00:00<00:00, 416.97it/s]"
     ]
    },
    {
     "name": "stdout",
     "output_type": "stream",
     "text": [
      "\n",
      "\r",
      "  0%|          | 0/1 [00:00<?, ?it/s]"
     ]
    },
    {
     "name": "stdout",
     "output_type": "stream",
     "text": [
      "\r",
      "Upgrading database; v7 -> v8:   0%|          | 0/1 [00:00<?, ?it/s]"
     ]
    },
    {
     "name": "stdout",
     "output_type": "stream",
     "text": [
      "\r",
      "Upgrading database; v7 -> v8: 100%|██████████| 1/1 [00:00<00:00, 922.84it/s]"
     ]
    },
    {
     "name": "stdout",
     "output_type": "stream",
     "text": [
      "\n",
      "\r",
      "  0%|          | 0/1 [00:00<?, ?it/s]"
     ]
    },
    {
     "name": "stdout",
     "output_type": "stream",
     "text": [
      "\r",
      "Upgrading database; v8 -> v9:   0%|          | 0/1 [00:00<?, ?it/s]"
     ]
    },
    {
     "name": "stdout",
     "output_type": "stream",
     "text": [
      "\r",
      "Upgrading database; v8 -> v9: 100%|██████████| 1/1 [00:00<00:00, 459.50it/s]"
     ]
    },
    {
     "name": "stdout",
     "output_type": "stream",
     "text": [
      "\n"
     ]
    }
   ],
   "source": [
    "initialise_database()\n",
    "exp = load_or_create_experiment(experiment_name='tutorial_exp', sample_name=\"no sample\")"
   ]
  },
  {
   "cell_type": "markdown",
   "metadata": {},
   "source": [
    "Here, we define a simple function to benchmark the time it takes to insert n points with either numeric or array data type.\n",
    "We will compare both the time used to call ``add_result`` and the time used for the full measurement."
   ]
  },
  {
   "cell_type": "code",
   "execution_count": 4,
   "metadata": {
    "execution": {
     "iopub.execute_input": "2020-10-28T18:12:51.042759Z",
     "iopub.status.busy": "2020-10-28T18:12:51.042130Z",
     "iopub.status.idle": "2020-10-28T18:12:51.046403Z",
     "shell.execute_reply": "2020-10-28T18:12:51.045804Z"
    }
   },
   "outputs": [],
   "source": [
    "def insert_data(paramtype, npoints, nreps=1):\n",
    "\n",
    "    meas = Measurement(exp=exp)\n",
    "\n",
    "    x1 = ManualParameter('x1')\n",
    "    x2 = ManualParameter('x2')\n",
    "    x3 = ManualParameter('x3')\n",
    "    y1 = ManualParameter('y1')\n",
    "    y2 = ManualParameter('y2')\n",
    "\n",
    "    meas.register_parameter(x1, paramtype=paramtype)\n",
    "    meas.register_parameter(x2, paramtype=paramtype)\n",
    "    meas.register_parameter(x3, paramtype=paramtype)\n",
    "    meas.register_parameter(y1, setpoints=[x1, x2, x3],\n",
    "                            paramtype=paramtype)\n",
    "    meas.register_parameter(y2, setpoints=[x1, x2, x3],\n",
    "                            paramtype=paramtype)\n",
    "    start = time.perf_counter()\n",
    "    with meas.run() as datasaver:\n",
    "        start_adding = time.perf_counter()\n",
    "        for i in range(nreps):\n",
    "            datasaver.add_result((x1, np.random.rand(npoints)),\n",
    "                                 (x2, np.random.rand(npoints)),\n",
    "                                 (x3, np.random.rand(npoints)),\n",
    "                                 (y1, np.random.rand(npoints)),\n",
    "                                 (y2, np.random.rand(npoints)))\n",
    "        stop_adding = time.perf_counter()\n",
    "        run_id = datasaver.run_id\n",
    "    stop = time.perf_counter()\n",
    "    tot_time = stop - start\n",
    "    add_time = stop_adding - start_adding\n",
    "    return tot_time, add_time, run_id"
   ]
  },
  {
   "cell_type": "markdown",
   "metadata": {},
   "source": [
    "## Comparison between numeric/array data and binary blob"
   ]
  },
  {
   "cell_type": "markdown",
   "metadata": {},
   "source": [
    "### Case1: Short experiment time"
   ]
  },
  {
   "cell_type": "code",
   "execution_count": 5,
   "metadata": {
    "execution": {
     "iopub.execute_input": "2020-10-28T18:12:51.052991Z",
     "iopub.status.busy": "2020-10-28T18:12:51.051726Z",
     "iopub.status.idle": "2020-10-28T18:12:51.967056Z",
     "shell.execute_reply": "2020-10-28T18:12:51.967541Z"
    }
   },
   "outputs": [
    {
     "name": "stdout",
     "output_type": "stream",
     "text": [
      "Starting experimental run with id: 1. \n",
      "Starting experimental run with id: 2. \n",
      "Starting experimental run with id: 3. \n",
      "Starting experimental run with id: 4. \n"
     ]
    },
    {
     "name": "stdout",
     "output_type": "stream",
     "text": [
      "Starting experimental run with id: 5. \n"
     ]
    },
    {
     "name": "stdout",
     "output_type": "stream",
     "text": [
      "Starting experimental run with id: 6. \n",
      "Starting experimental run with id: 7. \n"
     ]
    },
    {
     "name": "stdout",
     "output_type": "stream",
     "text": [
      "Starting experimental run with id: 8. \n",
      "Starting experimental run with id: 9. \n"
     ]
    },
    {
     "name": "stdout",
     "output_type": "stream",
     "text": [
      "Starting experimental run with id: 10. \n",
      "Starting experimental run with id: 11. \n"
     ]
    },
    {
     "name": "stdout",
     "output_type": "stream",
     "text": [
      "Starting experimental run with id: 12. \n",
      "Starting experimental run with id: 13. \n"
     ]
    },
    {
     "name": "stdout",
     "output_type": "stream",
     "text": [
      "Starting experimental run with id: 14. \n"
     ]
    }
   ],
   "source": [
    "sizes = [1,500,1000,2000,3000,4000,5000]\n",
    "t_numeric = []\n",
    "t_numeric_add = []\n",
    "t_array = []\n",
    "t_array_add = []\n",
    "for size in sizes:\n",
    "    tn, tna, run_id_n =  insert_data('numeric', size)\n",
    "    t_numeric.append(tn)\n",
    "    t_numeric_add.append(tna)\n",
    "\n",
    "    ta, taa, run_id_a =  insert_data('array', size)\n",
    "    t_array.append(ta)\n",
    "    t_array_add.append(taa)"
   ]
  },
  {
   "cell_type": "code",
   "execution_count": 6,
   "metadata": {
    "execution": {
     "iopub.execute_input": "2020-10-28T18:12:51.990244Z",
     "iopub.status.busy": "2020-10-28T18:12:51.987540Z",
     "iopub.status.idle": "2020-10-28T18:12:52.206825Z",
     "shell.execute_reply": "2020-10-28T18:12:52.206035Z"
    }
   },
   "outputs": [
    {
     "data": {
      "image/png": "[encoded data removed]",
      "text/plain": [
       "<Figure size 432x288 with 1 Axes>"
      ]
     },
     "metadata": {
      "needs_background": "light"
     },
     "output_type": "display_data"
    }
   ],
   "source": [
    "fig, ax = plt.subplots(1,1)\n",
    "ax.plot(sizes, t_numeric, 'o-', label='Inserting row-by-row')\n",
    "ax.plot(sizes, t_numeric_add, 'o-', label='Inserting row-by-row: add_result only')\n",
    "ax.plot(sizes, t_array, 'd-', label='Inserting as binary blob')\n",
    "ax.plot(sizes, t_array_add, 'd-', label='Inserting as binary blob: add_result only')\n",
    "ax.legend()\n",
    "ax.set_xlabel('Array length')\n",
    "ax.set_ylabel('Time (s)')\n",
    "fig.tight_layout()"
   ]
  },
  {
   "cell_type": "markdown",
   "metadata": {},
   "source": [
    "As shown in the latter figure, the time to setup and and close the experiment is approximately 0.4 sec. In case of small array sizes, the difference between inserting values of data as arrays and inserting them row-by-row is relatively unimportant. At larger array sizes, i.e. above 10000 points, the cost of writing data as individual datapoints starts to become important.\n"
   ]
  },
  {
   "cell_type": "markdown",
   "metadata": {},
   "source": [
    "### Case2: Long experiment time "
   ]
  },
  {
   "cell_type": "code",
   "execution_count": 7,
   "metadata": {
    "execution": {
     "iopub.execute_input": "2020-10-28T18:12:52.215683Z",
     "iopub.status.busy": "2020-10-28T18:12:52.214544Z",
     "iopub.status.idle": "2020-10-28T18:13:54.967047Z",
     "shell.execute_reply": "2020-10-28T18:13:54.967667Z"
    }
   },
   "outputs": [
    {
     "name": "stdout",
     "output_type": "stream",
     "text": [
      "Starting experimental run with id: 15. \n",
      "Starting experimental run with id: 16. \n",
      "Starting experimental run with id: 17. \n"
     ]
    },
    {
     "name": "stdout",
     "output_type": "stream",
     "text": [
      "Starting experimental run with id: 18. \n",
      "Starting experimental run with id: 19. \n"
     ]
    },
    {
     "name": "stdout",
     "output_type": "stream",
     "text": [
      "Starting experimental run with id: 20. \n"
     ]
    },
    {
     "name": "stdout",
     "output_type": "stream",
     "text": [
      "Starting experimental run with id: 21. \n"
     ]
    },
    {
     "name": "stdout",
     "output_type": "stream",
     "text": [
      "Starting experimental run with id: 22. \n"
     ]
    },
    {
     "name": "stdout",
     "output_type": "stream",
     "text": [
      "Starting experimental run with id: 23. \n"
     ]
    },
    {
     "name": "stdout",
     "output_type": "stream",
     "text": [
      "Starting experimental run with id: 24. \n"
     ]
    },
    {
     "name": "stdout",
     "output_type": "stream",
     "text": [
      "Starting experimental run with id: 25. \n"
     ]
    },
    {
     "name": "stdout",
     "output_type": "stream",
     "text": [
      "Starting experimental run with id: 26. \n"
     ]
    },
    {
     "name": "stdout",
     "output_type": "stream",
     "text": [
      "Starting experimental run with id: 27. \n"
     ]
    },
    {
     "name": "stdout",
     "output_type": "stream",
     "text": [
      "Starting experimental run with id: 28. \n"
     ]
    }
   ],
   "source": [
    "sizes = [1,500,1000,2000,3000,4000,5000]\n",
    "nreps = 100\n",
    "t_numeric = []\n",
    "t_numeric_add = []\n",
    "t_numeric_run_ids = []\n",
    "t_array = []\n",
    "t_array_add = []\n",
    "t_array_run_ids = []\n",
    "for size in sizes:\n",
    "    tn, tna, run_id_n =  insert_data('numeric', size, nreps=nreps)\n",
    "    t_numeric.append(tn)\n",
    "    t_numeric_add.append(tna)\n",
    "    t_numeric_run_ids.append(run_id_n)\n",
    "\n",
    "    ta, taa, run_id_a =  insert_data('array', size, nreps=nreps)\n",
    "    t_array.append(ta)\n",
    "    t_array_add.append(taa)\n",
    "    t_array_run_ids.append(run_id_a)"
   ]
  },
  {
   "cell_type": "code",
   "execution_count": 8,
   "metadata": {
    "execution": {
     "iopub.execute_input": "2020-10-28T18:13:55.015374Z",
     "iopub.status.busy": "2020-10-28T18:13:55.007936Z",
     "iopub.status.idle": "2020-10-28T18:13:55.225230Z",
     "shell.execute_reply": "2020-10-28T18:13:55.224187Z"
    },
    "scrolled": true
   },
   "outputs": [
    {
     "data": {
      "image/png": "[encoded data removed]",
      "text/plain": [
       "<Figure size 432x288 with 1 Axes>"
      ]
     },
     "metadata": {
      "needs_background": "light"
     },
     "output_type": "display_data"
    }
   ],
   "source": [
    "fig, ax = plt.subplots(1,1)\n",
    "ax.plot(sizes, t_numeric, 'o-', label='Inserting row-by-row')\n",
    "ax.plot(sizes, t_numeric_add, 'o-', label='Inserting row-by-row: add_result only')\n",
    "ax.plot(sizes, t_array, 'd-', label='Inserting as binary blob')\n",
    "ax.plot(sizes, t_array_add, 'd-', label='Inserting as binary blob: add_result only')\n",
    "ax.legend()\n",
    "ax.set_xlabel('Array length')\n",
    "ax.set_ylabel('Time (s)')\n",
    "fig.tight_layout()"
   ]
  },
  {
   "cell_type": "markdown",
   "metadata": {},
   "source": [
    "However, as we increase the length of the experiment, as seen here by repeating the insertion 100 times, we see a big difference between inserting values of the data row-by-row and inserting it as a binary blob."
   ]
  },
  {
   "cell_type": "markdown",
   "metadata": {},
   "source": [
    "## Loading the data "
   ]
  },
  {
   "cell_type": "code",
   "execution_count": 9,
   "metadata": {
    "execution": {
     "iopub.execute_input": "2020-10-28T18:13:55.230062Z",
     "iopub.status.busy": "2020-10-28T18:13:55.229412Z",
     "iopub.status.idle": "2020-10-28T18:13:55.233270Z",
     "shell.execute_reply": "2020-10-28T18:13:55.233839Z"
    }
   },
   "outputs": [],
   "source": [
    "from qcodes.dataset.data_set import load_by_id\n",
    "from qcodes.dataset.data_export import get_data_by_id"
   ]
  },
  {
   "cell_type": "markdown",
   "metadata": {},
   "source": [
    "As usual you can load the data by using the ``load_by_id`` function but you will notice that the different storage methods\n",
    "are reflected in shape of the data as it is retrieved. "
   ]
  },
  {
   "cell_type": "code",
   "execution_count": 10,
   "metadata": {
    "execution": {
     "iopub.execute_input": "2020-10-28T18:13:55.239513Z",
     "iopub.status.busy": "2020-10-28T18:13:55.238257Z",
     "iopub.status.idle": "2020-10-28T18:13:55.240364Z",
     "shell.execute_reply": "2020-10-28T18:13:55.241329Z"
    }
   },
   "outputs": [],
   "source": [
    "run_id_n = t_numeric_run_ids[0]\n",
    "run_id_a = t_array_run_ids[0]"
   ]
  },
  {
   "cell_type": "code",
   "execution_count": 11,
   "metadata": {
    "execution": {
     "iopub.execute_input": "2020-10-28T18:13:55.246731Z",
     "iopub.status.busy": "2020-10-28T18:13:55.246094Z",
     "iopub.status.idle": "2020-10-28T18:13:55.256582Z",
     "shell.execute_reply": "2020-10-28T18:13:55.257131Z"
    },
    "scrolled": true
   },
   "outputs": [
    {
     "data": {
      "text/plain": [
       "{'x1': {'x1': array([0.11346413, 0.11346413, 0.81713915, 0.81713915, 0.06614294,\n",
       "         0.06614294, 0.83841345, 0.83841345, 0.70060326, 0.70060326,\n",
       "         0.52746782, 0.52746782, 0.2176409 , 0.2176409 , 0.44763887,\n",
       "         0.44763887, 0.18995509, 0.18995509, 0.07089464, 0.07089464,\n",
       "         0.65019445, 0.65019445, 0.35259617, 0.35259617, 0.86530189,\n",
       "         0.86530189, 0.37340737, 0.37340737, 0.65883884, 0.65883884,\n",
       "         0.68297602, 0.68297602, 0.78447391, 0.78447391, 0.75547371,\n",
       "         0.75547371, 0.78102995, 0.78102995, 0.90339033, 0.90339033,\n",
       "         0.57904666, 0.57904666, 0.12757468, 0.12757468, 0.17964922,\n",
       "         0.17964922, 0.82918289, 0.82918289, 0.9190747 , 0.9190747 ,\n",
       "         0.83095751, 0.83095751, 0.38893367, 0.38893367, 0.57155251,\n",
       "         0.57155251, 0.60204204, 0.60204204, 0.92988123, 0.92988123,\n",
       "         0.01315348, 0.01315348, 0.18548523, 0.18548523, 0.27793676,\n",
       "         0.27793676, 0.60085996, 0.60085996, 0.85426324, 0.85426324,\n",
       "         0.48912993, 0.48912993, 0.09412967, 0.09412967, 0.8282472 ,\n",
       "         0.8282472 , 0.82049362, 0.82049362, 0.14845699, 0.14845699,\n",
       "         0.38201776, 0.38201776, 0.91024248, 0.91024248, 0.31324522,\n",
       "         0.31324522, 0.75779864, 0.75779864, 0.94739732, 0.94739732,\n",
       "         0.80118249, 0.80118249, 0.59045929, 0.59045929, 0.51402092,\n",
       "         0.51402092, 0.04816671, 0.04816671, 0.53269822, 0.53269822,\n",
       "         0.84433871, 0.84433871, 0.25614292, 0.25614292, 0.75486485,\n",
       "         0.75486485, 0.54989378, 0.54989378, 0.52703467, 0.52703467,\n",
       "         0.79415798, 0.79415798, 0.69490372, 0.69490372, 0.47890814,\n",
       "         0.47890814, 0.38305265, 0.38305265, 0.77148873, 0.77148873,\n",
       "         0.10527604, 0.10527604, 0.64426471, 0.64426471, 0.86163693,\n",
       "         0.86163693, 0.36043056, 0.36043056, 0.20960016, 0.20960016,\n",
       "         0.25384129, 0.25384129, 0.18654628, 0.18654628, 0.36538164,\n",
       "         0.36538164, 0.46371316, 0.46371316, 0.78945774, 0.78945774,\n",
       "         0.72117213, 0.72117213, 0.18988001, 0.18988001, 0.85906986,\n",
       "         0.85906986, 0.0250002 , 0.0250002 , 0.98988824, 0.98988824,\n",
       "         0.44780086, 0.44780086, 0.75415145, 0.75415145, 0.77964398,\n",
       "         0.77964398, 0.43149671, 0.43149671, 0.34813662, 0.34813662,\n",
       "         0.15019911, 0.15019911, 0.25398296, 0.25398296, 0.89262081,\n",
       "         0.89262081, 0.35027558, 0.35027558, 0.58347474, 0.58347474,\n",
       "         0.81695095, 0.81695095, 0.68880578, 0.68880578, 0.43907458,\n",
       "         0.43907458, 0.67559196, 0.67559196, 0.05772958, 0.05772958,\n",
       "         0.92027182, 0.92027182, 0.2523152 , 0.2523152 , 0.12337008,\n",
       "         0.12337008, 0.035063  , 0.035063  , 0.72880853, 0.72880853,\n",
       "         0.14750657, 0.14750657, 0.94856312, 0.94856312, 0.90093851,\n",
       "         0.90093851, 0.13020464, 0.13020464, 0.12262646, 0.12262646])}}"
      ]
     },
     "execution_count": 1,
     "metadata": {},
     "output_type": "execute_result"
    }
   ],
   "source": [
    "ds = load_by_id(run_id_n)\n",
    "ds.get_parameter_data('x1')"
   ]
  },
  {
   "cell_type": "markdown",
   "metadata": {},
   "source": [
    "And a dataset stored as binary arrays"
   ]
  },
  {
   "cell_type": "code",
   "execution_count": 12,
   "metadata": {
    "execution": {
     "iopub.execute_input": "2020-10-28T18:13:55.261655Z",
     "iopub.status.busy": "2020-10-28T18:13:55.260922Z",
     "iopub.status.idle": "2020-10-28T18:13:55.328377Z",
     "shell.execute_reply": "2020-10-28T18:13:55.328949Z"
    },
    "scrolled": true
   },
   "outputs": [
    {
     "data": {
      "text/plain": [
       "{'x1': {'x1': array([[0.43042075],\n",
       "         [0.43042075],\n",
       "         [0.61111223],\n",
       "         [0.61111223],\n",
       "         [0.13791844],\n",
       "         [0.13791844],\n",
       "         [0.29128194],\n",
       "         [0.29128194],\n",
       "         [0.04568781],\n",
       "         [0.04568781],\n",
       "         [0.7358853 ],\n",
       "         [0.7358853 ],\n",
       "         [0.92540311],\n",
       "         [0.92540311],\n",
       "         [0.64463447],\n",
       "         [0.64463447],\n",
       "         [0.40846914],\n",
       "         [0.40846914],\n",
       "         [0.45761051],\n",
       "         [0.45761051],\n",
       "         [0.64513957],\n",
       "         [0.64513957],\n",
       "         [0.75880936],\n",
       "         [0.75880936],\n",
       "         [0.58311742],\n",
       "         [0.58311742],\n",
       "         [0.36191208],\n",
       "         [0.36191208],\n",
       "         [0.61536477],\n",
       "         [0.61536477],\n",
       "         [0.31809558],\n",
       "         [0.31809558],\n",
       "         [0.04058254],\n",
       "         [0.04058254],\n",
       "         [0.67976185],\n",
       "         [0.67976185],\n",
       "         [0.94100308],\n",
       "         [0.94100308],\n",
       "         [0.26352899],\n",
       "         [0.26352899],\n",
       "         [0.33227867],\n",
       "         [0.33227867],\n",
       "         [0.1635592 ],\n",
       "         [0.1635592 ],\n",
       "         [0.73390894],\n",
       "         [0.73390894],\n",
       "         [0.6126318 ],\n",
       "         [0.6126318 ],\n",
       "         [0.7333146 ],\n",
       "         [0.7333146 ],\n",
       "         [0.86638477],\n",
       "         [0.86638477],\n",
       "         [0.61840957],\n",
       "         [0.61840957],\n",
       "         [0.47901158],\n",
       "         [0.47901158],\n",
       "         [0.77702643],\n",
       "         [0.77702643],\n",
       "         [0.89807872],\n",
       "         [0.89807872],\n",
       "         [0.86596331],\n",
       "         [0.86596331],\n",
       "         [0.22332145],\n",
       "         [0.22332145],\n",
       "         [0.27100438],\n",
       "         [0.27100438],\n",
       "         [0.31714632],\n",
       "         [0.31714632],\n",
       "         [0.36867253],\n",
       "         [0.36867253],\n",
       "         [0.5522354 ],\n",
       "         [0.5522354 ],\n",
       "         [0.85400258],\n",
       "         [0.85400258],\n",
       "         [0.16916598],\n",
       "         [0.16916598],\n",
       "         [0.75385807],\n",
       "         [0.75385807],\n",
       "         [0.44960351],\n",
       "         [0.44960351],\n",
       "         [0.4806859 ],\n",
       "         [0.4806859 ],\n",
       "         [0.08139394],\n",
       "         [0.08139394],\n",
       "         [0.36516723],\n",
       "         [0.36516723],\n",
       "         [0.55799574],\n",
       "         [0.55799574],\n",
       "         [0.09643472],\n",
       "         [0.09643472],\n",
       "         [0.07293435],\n",
       "         [0.07293435],\n",
       "         [0.21163273],\n",
       "         [0.21163273],\n",
       "         [0.99483179],\n",
       "         [0.99483179],\n",
       "         [0.27300978],\n",
       "         [0.27300978],\n",
       "         [0.38598985],\n",
       "         [0.38598985],\n",
       "         [0.12718326],\n",
       "         [0.12718326],\n",
       "         [0.90066361],\n",
       "         [0.90066361],\n",
       "         [0.67868668],\n",
       "         [0.67868668],\n",
       "         [0.97220521],\n",
       "         [0.97220521],\n",
       "         [0.86504895],\n",
       "         [0.86504895],\n",
       "         [0.34901941],\n",
       "         [0.34901941],\n",
       "         [0.3785147 ],\n",
       "         [0.3785147 ],\n",
       "         [0.45002688],\n",
       "         [0.45002688],\n",
       "         [0.18471591],\n",
       "         [0.18471591],\n",
       "         [0.49047352],\n",
       "         [0.49047352],\n",
       "         [0.5083692 ],\n",
       "         [0.5083692 ],\n",
       "         [0.46595645],\n",
       "         [0.46595645],\n",
       "         [0.77320567],\n",
       "         [0.77320567],\n",
       "         [0.25134131],\n",
       "         [0.25134131],\n",
       "         [0.16072531],\n",
       "         [0.16072531],\n",
       "         [0.76281761],\n",
       "         [0.76281761],\n",
       "         [0.37921264],\n",
       "         [0.37921264],\n",
       "         [0.33287298],\n",
       "         [0.33287298],\n",
       "         [0.07793483],\n",
       "         [0.07793483],\n",
       "         [0.38758502],\n",
       "         [0.38758502],\n",
       "         [0.99445766],\n",
       "         [0.99445766],\n",
       "         [0.23046077],\n",
       "         [0.23046077],\n",
       "         [0.14528688],\n",
       "         [0.14528688],\n",
       "         [0.03698634],\n",
       "         [0.03698634],\n",
       "         [0.85845851],\n",
       "         [0.85845851],\n",
       "         [0.98667722],\n",
       "         [0.98667722],\n",
       "         [0.44429579],\n",
       "         [0.44429579],\n",
       "         [0.45199829],\n",
       "         [0.45199829],\n",
       "         [0.82800793],\n",
       "         [0.82800793],\n",
       "         [0.7076811 ],\n",
       "         [0.7076811 ],\n",
       "         [0.55728317],\n",
       "         [0.55728317],\n",
       "         [0.78967178],\n",
       "         [0.78967178],\n",
       "         [0.59235228],\n",
       "         [0.59235228],\n",
       "         [0.13014657],\n",
       "         [0.13014657],\n",
       "         [0.75175816],\n",
       "         [0.75175816],\n",
       "         [0.86099461],\n",
       "         [0.86099461],\n",
       "         [0.75019882],\n",
       "         [0.75019882],\n",
       "         [0.22178878],\n",
       "         [0.22178878],\n",
       "         [0.2000333 ],\n",
       "         [0.2000333 ],\n",
       "         [0.88383674],\n",
       "         [0.88383674],\n",
       "         [0.21965361],\n",
       "         [0.21965361],\n",
       "         [0.36450536],\n",
       "         [0.36450536],\n",
       "         [0.27337691],\n",
       "         [0.27337691],\n",
       "         [0.78788657],\n",
       "         [0.78788657],\n",
       "         [0.20241777],\n",
       "         [0.20241777],\n",
       "         [0.76575081],\n",
       "         [0.76575081],\n",
       "         [0.34328295],\n",
       "         [0.34328295],\n",
       "         [0.74076846],\n",
       "         [0.74076846],\n",
       "         [0.80678232],\n",
       "         [0.80678232],\n",
       "         [0.76390412],\n",
       "         [0.76390412]])}}"
      ]
     },
     "execution_count": 1,
     "metadata": {},
     "output_type": "execute_result"
    }
   ],
   "source": [
    "ds = load_by_id(run_id_a)\n",
    "ds.get_parameter_data('x1')"
   ]
  },
  {
   "cell_type": "code",
   "execution_count": null,
   "metadata": {},
   "outputs": [],
   "source": []
  }
 ],
 "metadata": {
  "kernelspec": {
   "display_name": "Python 3",
   "language": "python",
   "name": "python3"
  },
  "language_info": {
   "codemirror_mode": {
    "name": "ipython",
    "version": 3
   },
   "file_extension": ".py",
   "mimetype": "text/x-python",
   "name": "python",
   "nbconvert_exporter": "python",
   "pygments_lexer": "ipython3",
   "version": "3.7.9"
  },
  "nbsphinx": {
   "timeout": 600
  },
  "toc": {
   "base_numbering": 1,
   "nav_menu": {},
   "number_sections": true,
   "sideBar": true,
   "skip_h1_title": false,
   "title_cell": "Table of Contents",
   "title_sidebar": "Contents",
   "toc_cell": false,
   "toc_position": {},
   "toc_section_display": true,
   "toc_window_display": false
  },
  "varInspector": {
   "cols": {
    "lenName": 16,
    "lenType": 16,
    "lenVar": 40
   },
   "kernels_config": {
    "python": {
     "delete_cmd_postfix": "",
     "delete_cmd_prefix": "del ",
     "library": "var_list.py",
     "varRefreshCmd": "print(var_dic_list())"
    },
    "r": {
     "delete_cmd_postfix": ") ",
     "delete_cmd_prefix": "rm(",
     "library": "var_list.r",
     "varRefreshCmd": "cat(var_dic_list()) "
    }
   },
   "types_to_exclude": [
    "module",
    "function",
    "builtin_function_or_method",
    "instance",
    "_Feature"
   ],
   "window_display": false
  }
 },
 "nbformat": 4,
 "nbformat_minor": 2
}
