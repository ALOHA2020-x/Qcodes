{
 "cells": [
  {
   "cell_type": "markdown",
   "metadata": {},
   "source": [
    "# DataSet Performance\n",
    "\n",
    "This notebook shows the trade-off between inserting data into a database row-by-row and as binary blobs. Inserting the data row-by-row means that we have direct access to all the data and may perform queries directly on the values of the data. On the other hand, as we shall see, this is much slower than inserting the data directly as binary blobs."
   ]
  },
  {
   "cell_type": "markdown",
   "metadata": {},
   "source": [
    "First, we choose a new location for the database to ensure that we don't add a bunch of benchmarking data to the default one."
   ]
  },
  {
   "cell_type": "code",
   "execution_count": 1,
   "metadata": {
    "execution": {
     "iopub.execute_input": "2020-10-14T09:36:49.771305Z",
     "iopub.status.busy": "2020-10-14T09:36:49.770733Z",
     "iopub.status.idle": "2020-10-14T09:36:50.884017Z",
     "shell.execute_reply": "2020-10-14T09:36:50.884428Z"
    }
   },
   "outputs": [
    {
     "name": "stdout",
     "output_type": "stream",
     "text": [
      "Logging hadn't been started.\n",
      "Activating auto-logging. Current session state plus future input saved.\n",
      "Filename       : /home/vsts/.qcodes/logs/command_history.log\n",
      "Mode           : append\n",
      "Output logging : True\n",
      "Raw input log  : False\n",
      "Timestamping   : True\n",
      "State          : active\n"
     ]
    },
    {
     "name": "stdout",
     "output_type": "stream",
     "text": [
      "Qcodes Logfile : /home/vsts/.qcodes/logs/201014-15421-qcodes.log\n"
     ]
    }
   ],
   "source": [
    "import os\n",
    "cwd = os.getcwd()\n",
    "import qcodes as qc\n",
    "qc.config[\"core\"][\"db_location\"] = os.path.join(cwd, 'testing.db')\n"
   ]
  },
  {
   "cell_type": "code",
   "execution_count": 2,
   "metadata": {
    "execution": {
     "iopub.execute_input": "2020-10-14T09:36:50.895218Z",
     "iopub.status.busy": "2020-10-14T09:36:50.890838Z",
     "iopub.status.idle": "2020-10-14T09:36:51.080946Z",
     "shell.execute_reply": "2020-10-14T09:36:51.080293Z"
    }
   },
   "outputs": [],
   "source": [
    "%matplotlib inline\n",
    "import time\n",
    "import matplotlib.pyplot as plt\n",
    "import numpy as np\n",
    "\n",
    "import qcodes as qc\n",
    "from qcodes.instrument.parameter import ManualParameter\n",
    "from qcodes.dataset.experiment_container import (Experiment,\n",
    "                                                 load_last_experiment,\n",
    "                                                 new_experiment)\n",
    "from qcodes.dataset.sqlite.database import initialise_database\n",
    "from qcodes import load_or_create_experiment\n",
    "from qcodes.dataset.measurements import Measurement"
   ]
  },
  {
   "cell_type": "code",
   "execution_count": 3,
   "metadata": {
    "execution": {
     "iopub.execute_input": "2020-10-14T09:36:51.085001Z",
     "iopub.status.busy": "2020-10-14T09:36:51.084310Z",
     "iopub.status.idle": "2020-10-14T09:36:51.195035Z",
     "shell.execute_reply": "2020-10-14T09:36:51.195682Z"
    }
   },
   "outputs": [
    {
     "name": "stdout",
     "output_type": "stream",
     "text": [
      "\r",
      "0it [00:00, ?it/s]"
     ]
    },
    {
     "name": "stdout",
     "output_type": "stream",
     "text": [
      "\r",
      "Upgrading database; v0 -> v1: : 0it [00:00, ?it/s]"
     ]
    },
    {
     "name": "stdout",
     "output_type": "stream",
     "text": [
      "\r",
      "Upgrading database; v0 -> v1: : 0it [00:00, ?it/s]"
     ]
    },
    {
     "name": "stdout",
     "output_type": "stream",
     "text": [
      "\n",
      "\r",
      "  0%|          | 0/1 [00:00<?, ?it/s]"
     ]
    },
    {
     "name": "stdout",
     "output_type": "stream",
     "text": [
      "\r",
      "Upgrading database; v1 -> v2:   0%|          | 0/1 [00:00<?, ?it/s]"
     ]
    },
    {
     "name": "stdout",
     "output_type": "stream",
     "text": [
      "\r",
      "Upgrading database; v1 -> v2: 100%|██████████| 1/1 [00:00<00:00, 616.36it/s]"
     ]
    },
    {
     "name": "stdout",
     "output_type": "stream",
     "text": [
      "\n",
      "\r",
      "0it [00:00, ?it/s]"
     ]
    },
    {
     "name": "stdout",
     "output_type": "stream",
     "text": [
      "\r",
      "Upgrading database; v2 -> v3: : 0it [00:00, ?it/s]"
     ]
    },
    {
     "name": "stdout",
     "output_type": "stream",
     "text": [
      "\r",
      "Upgrading database; v2 -> v3: : 0it [00:00, ?it/s]"
     ]
    },
    {
     "name": "stdout",
     "output_type": "stream",
     "text": [
      "\n",
      "\r",
      "0it [00:00, ?it/s]"
     ]
    },
    {
     "name": "stdout",
     "output_type": "stream",
     "text": [
      "\r",
      "Upgrading database; v3 -> v4: : 0it [00:00, ?it/s]"
     ]
    },
    {
     "name": "stdout",
     "output_type": "stream",
     "text": [
      "\r",
      "Upgrading database; v3 -> v4: : 0it [00:00, ?it/s]"
     ]
    },
    {
     "name": "stdout",
     "output_type": "stream",
     "text": [
      "\n",
      "\r",
      "  0%|          | 0/1 [00:00<?, ?it/s]"
     ]
    },
    {
     "name": "stdout",
     "output_type": "stream",
     "text": [
      "\r",
      "Upgrading database; v4 -> v5:   0%|          | 0/1 [00:00<?, ?it/s]"
     ]
    },
    {
     "name": "stdout",
     "output_type": "stream",
     "text": [
      "\r",
      "Upgrading database; v4 -> v5: 100%|██████████| 1/1 [00:00<00:00, 394.83it/s]"
     ]
    },
    {
     "name": "stdout",
     "output_type": "stream",
     "text": [
      "\n",
      "\r",
      "0it [00:00, ?it/s]"
     ]
    },
    {
     "name": "stdout",
     "output_type": "stream",
     "text": [
      "\r",
      "Upgrading database; v5 -> v6: : 0it [00:00, ?it/s]"
     ]
    },
    {
     "name": "stdout",
     "output_type": "stream",
     "text": [
      "\r",
      "Upgrading database; v5 -> v6: : 0it [00:00, ?it/s]"
     ]
    },
    {
     "name": "stdout",
     "output_type": "stream",
     "text": [
      "\n",
      "\r",
      "  0%|          | 0/1 [00:00<?, ?it/s]"
     ]
    },
    {
     "name": "stdout",
     "output_type": "stream",
     "text": [
      "\r",
      "Upgrading database; v6 -> v7:   0%|          | 0/1 [00:00<?, ?it/s]"
     ]
    },
    {
     "name": "stdout",
     "output_type": "stream",
     "text": [
      "\r",
      "Upgrading database; v6 -> v7: 100%|██████████| 1/1 [00:00<00:00, 404.70it/s]"
     ]
    },
    {
     "name": "stdout",
     "output_type": "stream",
     "text": [
      "\n",
      "\r",
      "  0%|          | 0/1 [00:00<?, ?it/s]"
     ]
    },
    {
     "name": "stdout",
     "output_type": "stream",
     "text": [
      "\r",
      "Upgrading database; v7 -> v8:   0%|          | 0/1 [00:00<?, ?it/s]"
     ]
    },
    {
     "name": "stdout",
     "output_type": "stream",
     "text": [
      "\r",
      "Upgrading database; v7 -> v8: 100%|██████████| 1/1 [00:00<00:00, 780.92it/s]"
     ]
    },
    {
     "name": "stdout",
     "output_type": "stream",
     "text": [
      "\n",
      "\r",
      "  0%|          | 0/1 [00:00<?, ?it/s]"
     ]
    },
    {
     "name": "stdout",
     "output_type": "stream",
     "text": [
      "\r",
      "Upgrading database; v8 -> v9:   0%|          | 0/1 [00:00<?, ?it/s]"
     ]
    },
    {
     "name": "stdout",
     "output_type": "stream",
     "text": [
      "\r",
      "Upgrading database; v8 -> v9: 100%|██████████| 1/1 [00:00<00:00, 463.77it/s]"
     ]
    },
    {
     "name": "stdout",
     "output_type": "stream",
     "text": [
      "\n"
     ]
    }
   ],
   "source": [
    "initialise_database()\n",
    "exp = load_or_create_experiment(experiment_name='tutorial_exp', sample_name=\"no sample\")"
   ]
  },
  {
   "cell_type": "markdown",
   "metadata": {},
   "source": [
    "Here, we define a simple function to benchmark the time it takes to insert n points with either numeric or array data type.\n",
    "We will compare both the time used to call ``add_result`` and the time used for the full measurement."
   ]
  },
  {
   "cell_type": "code",
   "execution_count": 4,
   "metadata": {
    "execution": {
     "iopub.execute_input": "2020-10-14T09:36:51.205885Z",
     "iopub.status.busy": "2020-10-14T09:36:51.204616Z",
     "iopub.status.idle": "2020-10-14T09:36:51.206504Z",
     "shell.execute_reply": "2020-10-14T09:36:51.207077Z"
    }
   },
   "outputs": [],
   "source": [
    "def insert_data(paramtype, npoints, nreps=1):\n",
    "\n",
    "    meas = Measurement(exp=exp)\n",
    "\n",
    "    x1 = ManualParameter('x1')\n",
    "    x2 = ManualParameter('x2')\n",
    "    x3 = ManualParameter('x3')\n",
    "    y1 = ManualParameter('y1')\n",
    "    y2 = ManualParameter('y2')\n",
    "\n",
    "    meas.register_parameter(x1, paramtype=paramtype)\n",
    "    meas.register_parameter(x2, paramtype=paramtype)\n",
    "    meas.register_parameter(x3, paramtype=paramtype)\n",
    "    meas.register_parameter(y1, setpoints=[x1, x2, x3],\n",
    "                            paramtype=paramtype)\n",
    "    meas.register_parameter(y2, setpoints=[x1, x2, x3],\n",
    "                            paramtype=paramtype)\n",
    "    start = time.perf_counter()\n",
    "    with meas.run() as datasaver:\n",
    "        start_adding = time.perf_counter()\n",
    "        for i in range(nreps):\n",
    "            datasaver.add_result((x1, np.random.rand(npoints)),\n",
    "                                 (x2, np.random.rand(npoints)),\n",
    "                                 (x3, np.random.rand(npoints)),\n",
    "                                 (y1, np.random.rand(npoints)),\n",
    "                                 (y2, np.random.rand(npoints)))\n",
    "        stop_adding = time.perf_counter()\n",
    "        run_id = datasaver.run_id\n",
    "    stop = time.perf_counter()\n",
    "    tot_time = stop - start\n",
    "    add_time = stop_adding - start_adding\n",
    "    return tot_time, add_time, run_id"
   ]
  },
  {
   "cell_type": "markdown",
   "metadata": {},
   "source": [
    "## Comparison between numeric/array data and binary blob"
   ]
  },
  {
   "cell_type": "markdown",
   "metadata": {},
   "source": [
    "### Case1: Short experiment time"
   ]
  },
  {
   "cell_type": "code",
   "execution_count": 5,
   "metadata": {
    "execution": {
     "iopub.execute_input": "2020-10-14T09:36:51.213549Z",
     "iopub.status.busy": "2020-10-14T09:36:51.212143Z",
     "iopub.status.idle": "2020-10-14T09:36:52.035446Z",
     "shell.execute_reply": "2020-10-14T09:36:52.034849Z"
    }
   },
   "outputs": [
    {
     "name": "stdout",
     "output_type": "stream",
     "text": [
      "Starting experimental run with id: 1. \n",
      "Starting experimental run with id: 2. \n",
      "Starting experimental run with id: 3. \n",
      "Starting experimental run with id: 4. \n",
      "Starting experimental run with id: 5. \n"
     ]
    },
    {
     "name": "stdout",
     "output_type": "stream",
     "text": [
      "Starting experimental run with id: 6. \n"
     ]
    },
    {
     "name": "stdout",
     "output_type": "stream",
     "text": [
      "Starting experimental run with id: 7. \n"
     ]
    },
    {
     "name": "stdout",
     "output_type": "stream",
     "text": [
      "Starting experimental run with id: 8. \n",
      "Starting experimental run with id: 9. \n"
     ]
    },
    {
     "name": "stdout",
     "output_type": "stream",
     "text": [
      "Starting experimental run with id: 10. \n",
      "Starting experimental run with id: 11. \n"
     ]
    },
    {
     "name": "stdout",
     "output_type": "stream",
     "text": [
      "Starting experimental run with id: 12. \n",
      "Starting experimental run with id: 13. \n"
     ]
    },
    {
     "name": "stdout",
     "output_type": "stream",
     "text": [
      "Starting experimental run with id: 14. \n"
     ]
    }
   ],
   "source": [
    "sizes = [1,500,1000,2000,3000,4000,5000]\n",
    "t_numeric = []\n",
    "t_numeric_add = []\n",
    "t_array = []\n",
    "t_array_add = []\n",
    "for size in sizes:\n",
    "    tn, tna, run_id_n =  insert_data('numeric', size)\n",
    "    t_numeric.append(tn)\n",
    "    t_numeric_add.append(tna)\n",
    "\n",
    "    ta, taa, run_id_a =  insert_data('array', size)\n",
    "    t_array.append(ta)\n",
    "    t_array_add.append(taa)"
   ]
  },
  {
   "cell_type": "code",
   "execution_count": 6,
   "metadata": {
    "execution": {
     "iopub.execute_input": "2020-10-14T09:36:52.055160Z",
     "iopub.status.busy": "2020-10-14T09:36:52.054520Z",
     "iopub.status.idle": "2020-10-14T09:36:52.264441Z",
     "shell.execute_reply": "2020-10-14T09:36:52.264825Z"
    }
   },
   "outputs": [
    {
     "data": {
      "image/png": "[encoded data removed]",
      "text/plain": [
       "<Figure size 432x288 with 1 Axes>"
      ]
     },
     "metadata": {
      "needs_background": "light"
     },
     "output_type": "display_data"
    }
   ],
   "source": [
    "fig, ax = plt.subplots(1,1)\n",
    "ax.plot(sizes, t_numeric, 'o-', label='Inserting row-by-row')\n",
    "ax.plot(sizes, t_numeric_add, 'o-', label='Inserting row-by-row: add_result only')\n",
    "ax.plot(sizes, t_array, 'd-', label='Inserting as binary blob')\n",
    "ax.plot(sizes, t_array_add, 'd-', label='Inserting as binary blob: add_result only')\n",
    "ax.legend()\n",
    "ax.set_xlabel('Array length')\n",
    "ax.set_ylabel('Time (s)')\n",
    "fig.tight_layout()"
   ]
  },
  {
   "cell_type": "markdown",
   "metadata": {},
   "source": [
    "As shown in the latter figure, the time to setup and and close the experiment is approximately 0.4 sec. In case of small array sizes, the difference between inserting values of data as arrays and inserting them row-by-row is relatively unimportant. At larger array sizes, i.e. above 10000 points, the cost of writing data as individual datapoints starts to become important.\n"
   ]
  },
  {
   "cell_type": "markdown",
   "metadata": {},
   "source": [
    "### Case2: Long experiment time "
   ]
  },
  {
   "cell_type": "code",
   "execution_count": 7,
   "metadata": {
    "execution": {
     "iopub.execute_input": "2020-10-14T09:36:52.272593Z",
     "iopub.status.busy": "2020-10-14T09:36:52.271239Z",
     "iopub.status.idle": "2020-10-14T09:37:50.582069Z",
     "shell.execute_reply": "2020-10-14T09:37:50.582595Z"
    }
   },
   "outputs": [
    {
     "name": "stdout",
     "output_type": "stream",
     "text": [
      "Starting experimental run with id: 15. \n",
      "Starting experimental run with id: 16. \n",
      "Starting experimental run with id: 17. \n"
     ]
    },
    {
     "name": "stdout",
     "output_type": "stream",
     "text": [
      "Starting experimental run with id: 18. \n",
      "Starting experimental run with id: 19. \n"
     ]
    },
    {
     "name": "stdout",
     "output_type": "stream",
     "text": [
      "Starting experimental run with id: 20. \n"
     ]
    },
    {
     "name": "stdout",
     "output_type": "stream",
     "text": [
      "Starting experimental run with id: 21. \n"
     ]
    },
    {
     "name": "stdout",
     "output_type": "stream",
     "text": [
      "Starting experimental run with id: 22. \n"
     ]
    },
    {
     "name": "stdout",
     "output_type": "stream",
     "text": [
      "Starting experimental run with id: 23. \n"
     ]
    },
    {
     "name": "stdout",
     "output_type": "stream",
     "text": [
      "Starting experimental run with id: 24. \n"
     ]
    },
    {
     "name": "stdout",
     "output_type": "stream",
     "text": [
      "Starting experimental run with id: 25. \n"
     ]
    },
    {
     "name": "stdout",
     "output_type": "stream",
     "text": [
      "Starting experimental run with id: 26. \n"
     ]
    },
    {
     "name": "stdout",
     "output_type": "stream",
     "text": [
      "Starting experimental run with id: 27. \n"
     ]
    },
    {
     "name": "stdout",
     "output_type": "stream",
     "text": [
      "Starting experimental run with id: 28. \n"
     ]
    }
   ],
   "source": [
    "sizes = [1,500,1000,2000,3000,4000,5000]\n",
    "nreps = 100\n",
    "t_numeric = []\n",
    "t_numeric_add = []\n",
    "t_numeric_run_ids = []\n",
    "t_array = []\n",
    "t_array_add = []\n",
    "t_array_run_ids = []\n",
    "for size in sizes:\n",
    "    tn, tna, run_id_n =  insert_data('numeric', size, nreps=nreps)\n",
    "    t_numeric.append(tn)\n",
    "    t_numeric_add.append(tna)\n",
    "    t_numeric_run_ids.append(run_id_n)\n",
    "\n",
    "    ta, taa, run_id_a =  insert_data('array', size, nreps=nreps)\n",
    "    t_array.append(ta)\n",
    "    t_array_add.append(taa)\n",
    "    t_array_run_ids.append(run_id_a)"
   ]
  },
  {
   "cell_type": "code",
   "execution_count": 8,
   "metadata": {
    "execution": {
     "iopub.execute_input": "2020-10-14T09:37:50.600887Z",
     "iopub.status.busy": "2020-10-14T09:37:50.587104Z",
     "iopub.status.idle": "2020-10-14T09:37:50.819072Z",
     "shell.execute_reply": "2020-10-14T09:37:50.818631Z"
    },
    "scrolled": true
   },
   "outputs": [
    {
     "data": {
      "image/png": "[encoded data removed]",
      "text/plain": [
       "<Figure size 432x288 with 1 Axes>"
      ]
     },
     "metadata": {
      "needs_background": "light"
     },
     "output_type": "display_data"
    }
   ],
   "source": [
    "fig, ax = plt.subplots(1,1)\n",
    "ax.plot(sizes, t_numeric, 'o-', label='Inserting row-by-row')\n",
    "ax.plot(sizes, t_numeric_add, 'o-', label='Inserting row-by-row: add_result only')\n",
    "ax.plot(sizes, t_array, 'd-', label='Inserting as binary blob')\n",
    "ax.plot(sizes, t_array_add, 'd-', label='Inserting as binary blob: add_result only')\n",
    "ax.legend()\n",
    "ax.set_xlabel('Array length')\n",
    "ax.set_ylabel('Time (s)')\n",
    "fig.tight_layout()"
   ]
  },
  {
   "cell_type": "markdown",
   "metadata": {},
   "source": [
    "However, as we increase the length of the experiment, as seen here by repeating the insertion 100 times, we see a big difference between inserting values of the data row-by-row and inserting it as a binary blob."
   ]
  },
  {
   "cell_type": "markdown",
   "metadata": {},
   "source": [
    "## Loading the data "
   ]
  },
  {
   "cell_type": "code",
   "execution_count": 9,
   "metadata": {
    "execution": {
     "iopub.execute_input": "2020-10-14T09:37:50.823459Z",
     "iopub.status.busy": "2020-10-14T09:37:50.822572Z",
     "iopub.status.idle": "2020-10-14T09:37:50.825826Z",
     "shell.execute_reply": "2020-10-14T09:37:50.826318Z"
    }
   },
   "outputs": [],
   "source": [
    "from qcodes.dataset.data_set import load_by_id\n",
    "from qcodes.dataset.data_export import get_data_by_id"
   ]
  },
  {
   "cell_type": "markdown",
   "metadata": {},
   "source": [
    "As usual you can load the data by using the ``load_by_id`` function but you will notice that the different storage methods\n",
    "are reflected in shape of the data as it is retrieved. "
   ]
  },
  {
   "cell_type": "code",
   "execution_count": 10,
   "metadata": {
    "execution": {
     "iopub.execute_input": "2020-10-14T09:37:50.831247Z",
     "iopub.status.busy": "2020-10-14T09:37:50.829872Z",
     "iopub.status.idle": "2020-10-14T09:37:50.831958Z",
     "shell.execute_reply": "2020-10-14T09:37:50.832555Z"
    }
   },
   "outputs": [],
   "source": [
    "run_id_n = t_numeric_run_ids[0]\n",
    "run_id_a = t_array_run_ids[0]"
   ]
  },
  {
   "cell_type": "code",
   "execution_count": 11,
   "metadata": {
    "execution": {
     "iopub.execute_input": "2020-10-14T09:37:50.836038Z",
     "iopub.status.busy": "2020-10-14T09:37:50.835434Z",
     "iopub.status.idle": "2020-10-14T09:37:50.846806Z",
     "shell.execute_reply": "2020-10-14T09:37:50.847276Z"
    },
    "scrolled": true
   },
   "outputs": [
    {
     "data": {
      "text/plain": [
       "{'x1': {'x1': array([0.04107206, 0.04107206, 0.59554259, 0.59554259, 0.46458205,\n",
       "         0.46458205, 0.61554306, 0.61554306, 0.23686056, 0.23686056,\n",
       "         0.20792077, 0.20792077, 0.50358866, 0.50358866, 0.51456542,\n",
       "         0.51456542, 0.86702117, 0.86702117, 0.31998654, 0.31998654,\n",
       "         0.70794271, 0.70794271, 0.93798333, 0.93798333, 0.78962244,\n",
       "         0.78962244, 0.89348699, 0.89348699, 0.31216245, 0.31216245,\n",
       "         0.08146203, 0.08146203, 0.7117696 , 0.7117696 , 0.06135325,\n",
       "         0.06135325, 0.8460705 , 0.8460705 , 0.97970623, 0.97970623,\n",
       "         0.57257196, 0.57257196, 0.32516083, 0.32516083, 0.92408801,\n",
       "         0.92408801, 0.1620365 , 0.1620365 , 0.08900079, 0.08900079,\n",
       "         0.08174255, 0.08174255, 0.99512209, 0.99512209, 0.57184253,\n",
       "         0.57184253, 0.00628951, 0.00628951, 0.58779745, 0.58779745,\n",
       "         0.66972302, 0.66972302, 0.57324477, 0.57324477, 0.18721841,\n",
       "         0.18721841, 0.91951553, 0.91951553, 0.53444402, 0.53444402,\n",
       "         0.84536522, 0.84536522, 0.99077465, 0.99077465, 0.35986176,\n",
       "         0.35986176, 0.33288498, 0.33288498, 0.15875044, 0.15875044,\n",
       "         0.53229099, 0.53229099, 0.3973496 , 0.3973496 , 0.42327954,\n",
       "         0.42327954, 0.88325781, 0.88325781, 0.0539798 , 0.0539798 ,\n",
       "         0.34108274, 0.34108274, 0.67001286, 0.67001286, 0.16349968,\n",
       "         0.16349968, 0.57041907, 0.57041907, 0.95407721, 0.95407721,\n",
       "         0.13907349, 0.13907349, 0.92544119, 0.92544119, 0.94189034,\n",
       "         0.94189034, 0.57458519, 0.57458519, 0.03249458, 0.03249458,\n",
       "         0.4733615 , 0.4733615 , 0.01612031, 0.01612031, 0.91990497,\n",
       "         0.91990497, 0.14275249, 0.14275249, 0.95956258, 0.95956258,\n",
       "         0.8890089 , 0.8890089 , 0.58413405, 0.58413405, 0.8745173 ,\n",
       "         0.8745173 , 0.50919427, 0.50919427, 0.12181554, 0.12181554,\n",
       "         0.03316932, 0.03316932, 0.51874026, 0.51874026, 0.95055024,\n",
       "         0.95055024, 0.50062305, 0.50062305, 0.6612413 , 0.6612413 ,\n",
       "         0.03361677, 0.03361677, 0.94062635, 0.94062635, 0.38046929,\n",
       "         0.38046929, 0.42858386, 0.42858386, 0.50728861, 0.50728861,\n",
       "         0.85902022, 0.85902022, 0.24618235, 0.24618235, 0.07795525,\n",
       "         0.07795525, 0.98582452, 0.98582452, 0.63702852, 0.63702852,\n",
       "         0.93294264, 0.93294264, 0.97791457, 0.97791457, 0.73345445,\n",
       "         0.73345445, 0.53231243, 0.53231243, 0.75639615, 0.75639615,\n",
       "         0.58824906, 0.58824906, 0.20640135, 0.20640135, 0.39188544,\n",
       "         0.39188544, 0.55472568, 0.55472568, 0.99397777, 0.99397777,\n",
       "         0.80295156, 0.80295156, 0.38397101, 0.38397101, 0.57742683,\n",
       "         0.57742683, 0.68968356, 0.68968356, 0.26706907, 0.26706907,\n",
       "         0.71719679, 0.71719679, 0.21253176, 0.21253176, 0.19944296,\n",
       "         0.19944296, 0.21044393, 0.21044393, 0.09144884, 0.09144884])}}"
      ]
     },
     "execution_count": 1,
     "metadata": {},
     "output_type": "execute_result"
    }
   ],
   "source": [
    "ds = load_by_id(run_id_n)\n",
    "ds.get_parameter_data('x1')"
   ]
  },
  {
   "cell_type": "markdown",
   "metadata": {},
   "source": [
    "And a dataset stored as binary arrays"
   ]
  },
  {
   "cell_type": "code",
   "execution_count": 12,
   "metadata": {
    "execution": {
     "iopub.execute_input": "2020-10-14T09:37:50.850430Z",
     "iopub.status.busy": "2020-10-14T09:37:50.849894Z",
     "iopub.status.idle": "2020-10-14T09:37:50.911614Z",
     "shell.execute_reply": "2020-10-14T09:37:50.912186Z"
    },
    "scrolled": true
   },
   "outputs": [
    {
     "data": {
      "text/plain": [
       "{'x1': {'x1': array([[0.56575295],\n",
       "         [0.56575295],\n",
       "         [0.11375389],\n",
       "         [0.11375389],\n",
       "         [0.71150334],\n",
       "         [0.71150334],\n",
       "         [0.81208892],\n",
       "         [0.81208892],\n",
       "         [0.87662756],\n",
       "         [0.87662756],\n",
       "         [0.37463512],\n",
       "         [0.37463512],\n",
       "         [0.46933239],\n",
       "         [0.46933239],\n",
       "         [0.43945182],\n",
       "         [0.43945182],\n",
       "         [0.38855415],\n",
       "         [0.38855415],\n",
       "         [0.59169494],\n",
       "         [0.59169494],\n",
       "         [0.89981173],\n",
       "         [0.89981173],\n",
       "         [0.88137161],\n",
       "         [0.88137161],\n",
       "         [0.65050103],\n",
       "         [0.65050103],\n",
       "         [0.82516461],\n",
       "         [0.82516461],\n",
       "         [0.21758878],\n",
       "         [0.21758878],\n",
       "         [0.04875457],\n",
       "         [0.04875457],\n",
       "         [0.9325977 ],\n",
       "         [0.9325977 ],\n",
       "         [0.94185761],\n",
       "         [0.94185761],\n",
       "         [0.1565739 ],\n",
       "         [0.1565739 ],\n",
       "         [0.88059805],\n",
       "         [0.88059805],\n",
       "         [0.92682842],\n",
       "         [0.92682842],\n",
       "         [0.27191838],\n",
       "         [0.27191838],\n",
       "         [0.26182336],\n",
       "         [0.26182336],\n",
       "         [0.04651047],\n",
       "         [0.04651047],\n",
       "         [0.84453396],\n",
       "         [0.84453396],\n",
       "         [0.25564551],\n",
       "         [0.25564551],\n",
       "         [0.76002609],\n",
       "         [0.76002609],\n",
       "         [0.34987487],\n",
       "         [0.34987487],\n",
       "         [0.38380673],\n",
       "         [0.38380673],\n",
       "         [0.57077543],\n",
       "         [0.57077543],\n",
       "         [0.24134434],\n",
       "         [0.24134434],\n",
       "         [0.10610065],\n",
       "         [0.10610065],\n",
       "         [0.32788213],\n",
       "         [0.32788213],\n",
       "         [0.03002067],\n",
       "         [0.03002067],\n",
       "         [0.55032251],\n",
       "         [0.55032251],\n",
       "         [0.73478304],\n",
       "         [0.73478304],\n",
       "         [0.5135102 ],\n",
       "         [0.5135102 ],\n",
       "         [0.51441277],\n",
       "         [0.51441277],\n",
       "         [0.28209202],\n",
       "         [0.28209202],\n",
       "         [0.68121329],\n",
       "         [0.68121329],\n",
       "         [0.66827756],\n",
       "         [0.66827756],\n",
       "         [0.30658619],\n",
       "         [0.30658619],\n",
       "         [0.82918689],\n",
       "         [0.82918689],\n",
       "         [0.0713762 ],\n",
       "         [0.0713762 ],\n",
       "         [0.21337612],\n",
       "         [0.21337612],\n",
       "         [0.93676567],\n",
       "         [0.93676567],\n",
       "         [0.43297853],\n",
       "         [0.43297853],\n",
       "         [0.26889674],\n",
       "         [0.26889674],\n",
       "         [0.80439092],\n",
       "         [0.80439092],\n",
       "         [0.9534513 ],\n",
       "         [0.9534513 ],\n",
       "         [0.5620732 ],\n",
       "         [0.5620732 ],\n",
       "         [0.66416311],\n",
       "         [0.66416311],\n",
       "         [0.93722463],\n",
       "         [0.93722463],\n",
       "         [0.66460979],\n",
       "         [0.66460979],\n",
       "         [0.10703929],\n",
       "         [0.10703929],\n",
       "         [0.5801436 ],\n",
       "         [0.5801436 ],\n",
       "         [0.53321682],\n",
       "         [0.53321682],\n",
       "         [0.45963821],\n",
       "         [0.45963821],\n",
       "         [0.40300863],\n",
       "         [0.40300863],\n",
       "         [0.14755302],\n",
       "         [0.14755302],\n",
       "         [0.81394544],\n",
       "         [0.81394544],\n",
       "         [0.6916447 ],\n",
       "         [0.6916447 ],\n",
       "         [0.00516998],\n",
       "         [0.00516998],\n",
       "         [0.38964859],\n",
       "         [0.38964859],\n",
       "         [0.67160879],\n",
       "         [0.67160879],\n",
       "         [0.37945776],\n",
       "         [0.37945776],\n",
       "         [0.84113603],\n",
       "         [0.84113603],\n",
       "         [0.91038301],\n",
       "         [0.91038301],\n",
       "         [0.21675858],\n",
       "         [0.21675858],\n",
       "         [0.71794316],\n",
       "         [0.71794316],\n",
       "         [0.97252227],\n",
       "         [0.97252227],\n",
       "         [0.07538763],\n",
       "         [0.07538763],\n",
       "         [0.43365537],\n",
       "         [0.43365537],\n",
       "         [0.31740419],\n",
       "         [0.31740419],\n",
       "         [0.93623437],\n",
       "         [0.93623437],\n",
       "         [0.3048439 ],\n",
       "         [0.3048439 ],\n",
       "         [0.52894159],\n",
       "         [0.52894159],\n",
       "         [0.20129456],\n",
       "         [0.20129456],\n",
       "         [0.89189044],\n",
       "         [0.89189044],\n",
       "         [0.82016243],\n",
       "         [0.82016243],\n",
       "         [0.4101413 ],\n",
       "         [0.4101413 ],\n",
       "         [0.58141851],\n",
       "         [0.58141851],\n",
       "         [0.60869839],\n",
       "         [0.60869839],\n",
       "         [0.87626987],\n",
       "         [0.87626987],\n",
       "         [0.04789884],\n",
       "         [0.04789884],\n",
       "         [0.32247866],\n",
       "         [0.32247866],\n",
       "         [0.1426871 ],\n",
       "         [0.1426871 ],\n",
       "         [0.19344937],\n",
       "         [0.19344937],\n",
       "         [0.42384894],\n",
       "         [0.42384894],\n",
       "         [0.32705981],\n",
       "         [0.32705981],\n",
       "         [0.53998043],\n",
       "         [0.53998043],\n",
       "         [0.11874252],\n",
       "         [0.11874252],\n",
       "         [0.91108791],\n",
       "         [0.91108791],\n",
       "         [0.30944204],\n",
       "         [0.30944204],\n",
       "         [0.68806454],\n",
       "         [0.68806454],\n",
       "         [0.80195924],\n",
       "         [0.80195924],\n",
       "         [0.91868325],\n",
       "         [0.91868325],\n",
       "         [0.87012177],\n",
       "         [0.87012177],\n",
       "         [0.44646292],\n",
       "         [0.44646292],\n",
       "         [0.06896072],\n",
       "         [0.06896072]])}}"
      ]
     },
     "execution_count": 1,
     "metadata": {},
     "output_type": "execute_result"
    }
   ],
   "source": [
    "ds = load_by_id(run_id_a)\n",
    "ds.get_parameter_data('x1')"
   ]
  },
  {
   "cell_type": "code",
   "execution_count": null,
   "metadata": {},
   "outputs": [],
   "source": []
  }
 ],
 "metadata": {
  "kernelspec": {
   "display_name": "Python 3",
   "language": "python",
   "name": "python3"
  },
  "language_info": {
   "codemirror_mode": {
    "name": "ipython",
    "version": 3
   },
   "file_extension": ".py",
   "mimetype": "text/x-python",
   "name": "python",
   "nbconvert_exporter": "python",
   "pygments_lexer": "ipython3",
   "version": "3.7.7"
  },
  "nbsphinx": {
   "timeout": 600
  },
  "toc": {
   "base_numbering": 1,
   "nav_menu": {},
   "number_sections": true,
   "sideBar": true,
   "skip_h1_title": false,
   "title_cell": "Table of Contents",
   "title_sidebar": "Contents",
   "toc_cell": false,
   "toc_position": {},
   "toc_section_display": true,
   "toc_window_display": false
  },
  "varInspector": {
   "cols": {
    "lenName": 16,
    "lenType": 16,
    "lenVar": 40
   },
   "kernels_config": {
    "python": {
     "delete_cmd_postfix": "",
     "delete_cmd_prefix": "del ",
     "library": "var_list.py",
     "varRefreshCmd": "print(var_dic_list())"
    },
    "r": {
     "delete_cmd_postfix": ") ",
     "delete_cmd_prefix": "rm(",
     "library": "var_list.r",
     "varRefreshCmd": "cat(var_dic_list()) "
    }
   },
   "types_to_exclude": [
    "module",
    "function",
    "builtin_function_or_method",
    "instance",
    "_Feature"
   ],
   "window_display": false
  }
 },
 "nbformat": 4,
 "nbformat_minor": 2
}
