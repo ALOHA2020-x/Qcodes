{
 "cells": [
  {
   "cell_type": "markdown",
   "metadata": {},
   "source": [
    "# DataSet Performance\n",
    "\n",
    "This notebook shows the trade-off between inserting data into a database row-by-row and as binary blobs. Inserting the data row-by-row means that we have direct access to all the data and may perform queries directly on the values of the data. On the other hand, as we shall see, this is much slower than inserting the data directly as binary blobs."
   ]
  },
  {
   "cell_type": "markdown",
   "metadata": {},
   "source": [
    "First, we choose a new location for the database to ensure that we don't add a bunch of benchmarking data to the default one."
   ]
  },
  {
   "cell_type": "code",
   "execution_count": 1,
   "metadata": {
    "execution": {
     "iopub.execute_input": "2020-12-17T07:04:52.369362Z",
     "iopub.status.busy": "2020-12-17T07:04:52.368485Z",
     "iopub.status.idle": "2020-12-17T07:04:53.208460Z",
     "shell.execute_reply": "2020-12-17T07:04:53.208027Z"
    }
   },
   "outputs": [
    {
     "name": "stdout",
     "output_type": "stream",
     "text": [
      "Logging hadn't been started.\n",
      "Activating auto-logging. Current session state plus future input saved.\n",
      "Filename       : /home/vsts/.qcodes/logs/command_history.log\n",
      "Mode           : append\n",
      "Output logging : True\n",
      "Raw input log  : False\n",
      "Timestamping   : True\n",
      "State          : active\n"
     ]
    },
    {
     "name": "stdout",
     "output_type": "stream",
     "text": [
      "Qcodes Logfile : /home/vsts/.qcodes/logs/201217-14277-qcodes.log\n"
     ]
    }
   ],
   "source": [
    "import os\n",
    "cwd = os.getcwd()\n",
    "import qcodes as qc\n",
    "qc.config[\"core\"][\"db_location\"] = os.path.join(cwd, 'testing.db')\n"
   ]
  },
  {
   "cell_type": "code",
   "execution_count": 2,
   "metadata": {
    "execution": {
     "iopub.execute_input": "2020-12-17T07:04:53.214873Z",
     "iopub.status.busy": "2020-12-17T07:04:53.212897Z",
     "iopub.status.idle": "2020-12-17T07:04:53.362142Z",
     "shell.execute_reply": "2020-12-17T07:04:53.360969Z"
    }
   },
   "outputs": [],
   "source": [
    "%matplotlib inline\n",
    "import time\n",
    "import matplotlib.pyplot as plt\n",
    "import numpy as np\n",
    "\n",
    "import qcodes as qc\n",
    "from qcodes.instrument.parameter import ManualParameter\n",
    "from qcodes.dataset.experiment_container import (Experiment,\n",
    "                                                 load_last_experiment,\n",
    "                                                 new_experiment)\n",
    "from qcodes.dataset.sqlite.database import initialise_database\n",
    "from qcodes import load_or_create_experiment\n",
    "from qcodes.dataset.measurements import Measurement"
   ]
  },
  {
   "cell_type": "code",
   "execution_count": 3,
   "metadata": {
    "execution": {
     "iopub.execute_input": "2020-12-17T07:04:53.366915Z",
     "iopub.status.busy": "2020-12-17T07:04:53.365827Z",
     "iopub.status.idle": "2020-12-17T07:04:53.451691Z",
     "shell.execute_reply": "2020-12-17T07:04:53.451085Z"
    }
   },
   "outputs": [
    {
     "name": "stdout",
     "output_type": "stream",
     "text": [
      "\r",
      "0it [00:00, ?it/s]"
     ]
    },
    {
     "name": "stdout",
     "output_type": "stream",
     "text": [
      "\r",
      "Upgrading database; v0 -> v1: : 0it [00:00, ?it/s]"
     ]
    },
    {
     "name": "stdout",
     "output_type": "stream",
     "text": [
      "\r",
      "Upgrading database; v0 -> v1: : 0it [00:00, ?it/s]"
     ]
    },
    {
     "name": "stdout",
     "output_type": "stream",
     "text": [
      "\n",
      "\r",
      "  0%|          | 0/1 [00:00<?, ?it/s]"
     ]
    },
    {
     "name": "stdout",
     "output_type": "stream",
     "text": [
      "\r",
      "Upgrading database; v1 -> v2:   0%|          | 0/1 [00:00<?, ?it/s]"
     ]
    },
    {
     "name": "stdout",
     "output_type": "stream",
     "text": [
      "\r",
      "Upgrading database; v1 -> v2: 100%|██████████| 1/1 [00:00<00:00, 1306.64it/s]"
     ]
    },
    {
     "name": "stdout",
     "output_type": "stream",
     "text": [
      "\n",
      "\r",
      "0it [00:00, ?it/s]"
     ]
    },
    {
     "name": "stdout",
     "output_type": "stream",
     "text": [
      "\r",
      "Upgrading database; v2 -> v3: : 0it [00:00, ?it/s]"
     ]
    },
    {
     "name": "stdout",
     "output_type": "stream",
     "text": [
      "\r",
      "Upgrading database; v2 -> v3: : 0it [00:00, ?it/s]"
     ]
    },
    {
     "name": "stdout",
     "output_type": "stream",
     "text": [
      "\n",
      "\r",
      "0it [00:00, ?it/s]"
     ]
    },
    {
     "name": "stdout",
     "output_type": "stream",
     "text": [
      "\r",
      "Upgrading database; v3 -> v4: : 0it [00:00, ?it/s]"
     ]
    },
    {
     "name": "stdout",
     "output_type": "stream",
     "text": [
      "\r",
      "Upgrading database; v3 -> v4: : 0it [00:00, ?it/s]"
     ]
    },
    {
     "name": "stdout",
     "output_type": "stream",
     "text": [
      "\n",
      "\r",
      "  0%|          | 0/1 [00:00<?, ?it/s]"
     ]
    },
    {
     "name": "stdout",
     "output_type": "stream",
     "text": [
      "\r",
      "Upgrading database; v4 -> v5:   0%|          | 0/1 [00:00<?, ?it/s]"
     ]
    },
    {
     "name": "stdout",
     "output_type": "stream",
     "text": [
      "\r",
      "Upgrading database; v4 -> v5: 100%|██████████| 1/1 [00:00<00:00, 1095.69it/s]"
     ]
    },
    {
     "name": "stdout",
     "output_type": "stream",
     "text": [
      "\n",
      "\r",
      "0it [00:00, ?it/s]"
     ]
    },
    {
     "name": "stdout",
     "output_type": "stream",
     "text": [
      "\r",
      "Upgrading database; v5 -> v6: : 0it [00:00, ?it/s]"
     ]
    },
    {
     "name": "stdout",
     "output_type": "stream",
     "text": [
      "\r",
      "Upgrading database; v5 -> v6: : 0it [00:00, ?it/s]"
     ]
    },
    {
     "name": "stdout",
     "output_type": "stream",
     "text": [
      "\n",
      "\r",
      "  0%|          | 0/1 [00:00<?, ?it/s]"
     ]
    },
    {
     "name": "stdout",
     "output_type": "stream",
     "text": [
      "\r",
      "Upgrading database; v6 -> v7:   0%|          | 0/1 [00:00<?, ?it/s]"
     ]
    },
    {
     "name": "stdout",
     "output_type": "stream",
     "text": [
      "\r",
      "Upgrading database; v6 -> v7: 100%|██████████| 1/1 [00:00<00:00, 496.48it/s]"
     ]
    },
    {
     "name": "stdout",
     "output_type": "stream",
     "text": [
      "\n",
      "\r",
      "  0%|          | 0/1 [00:00<?, ?it/s]"
     ]
    },
    {
     "name": "stdout",
     "output_type": "stream",
     "text": [
      "\r",
      "Upgrading database; v7 -> v8:   0%|          | 0/1 [00:00<?, ?it/s]"
     ]
    },
    {
     "name": "stdout",
     "output_type": "stream",
     "text": [
      "\r",
      "Upgrading database; v7 -> v8: 100%|██████████| 1/1 [00:00<00:00, 872.18it/s]"
     ]
    },
    {
     "name": "stdout",
     "output_type": "stream",
     "text": [
      "\n",
      "\r",
      "  0%|          | 0/1 [00:00<?, ?it/s]"
     ]
    },
    {
     "name": "stdout",
     "output_type": "stream",
     "text": [
      "\r",
      "Upgrading database; v8 -> v9:   0%|          | 0/1 [00:00<?, ?it/s]"
     ]
    },
    {
     "name": "stdout",
     "output_type": "stream",
     "text": [
      "\r",
      "Upgrading database; v8 -> v9: 100%|██████████| 1/1 [00:00<00:00, 1116.99it/s]"
     ]
    },
    {
     "name": "stdout",
     "output_type": "stream",
     "text": [
      "\n"
     ]
    }
   ],
   "source": [
    "initialise_database()\n",
    "exp = load_or_create_experiment(experiment_name='tutorial_exp', sample_name=\"no sample\")"
   ]
  },
  {
   "cell_type": "markdown",
   "metadata": {},
   "source": [
    "Here, we define a simple function to benchmark the time it takes to insert n points with either numeric or array data type.\n",
    "We will compare both the time used to call ``add_result`` and the time used for the full measurement."
   ]
  },
  {
   "cell_type": "code",
   "execution_count": 4,
   "metadata": {
    "execution": {
     "iopub.execute_input": "2020-12-17T07:04:53.458302Z",
     "iopub.status.busy": "2020-12-17T07:04:53.457748Z",
     "iopub.status.idle": "2020-12-17T07:04:53.459229Z",
     "shell.execute_reply": "2020-12-17T07:04:53.459530Z"
    }
   },
   "outputs": [],
   "source": [
    "def insert_data(paramtype, npoints, nreps=1):\n",
    "\n",
    "    meas = Measurement(exp=exp)\n",
    "\n",
    "    x1 = ManualParameter('x1')\n",
    "    x2 = ManualParameter('x2')\n",
    "    x3 = ManualParameter('x3')\n",
    "    y1 = ManualParameter('y1')\n",
    "    y2 = ManualParameter('y2')\n",
    "\n",
    "    meas.register_parameter(x1, paramtype=paramtype)\n",
    "    meas.register_parameter(x2, paramtype=paramtype)\n",
    "    meas.register_parameter(x3, paramtype=paramtype)\n",
    "    meas.register_parameter(y1, setpoints=[x1, x2, x3],\n",
    "                            paramtype=paramtype)\n",
    "    meas.register_parameter(y2, setpoints=[x1, x2, x3],\n",
    "                            paramtype=paramtype)\n",
    "    start = time.perf_counter()\n",
    "    with meas.run() as datasaver:\n",
    "        start_adding = time.perf_counter()\n",
    "        for i in range(nreps):\n",
    "            datasaver.add_result((x1, np.random.rand(npoints)),\n",
    "                                 (x2, np.random.rand(npoints)),\n",
    "                                 (x3, np.random.rand(npoints)),\n",
    "                                 (y1, np.random.rand(npoints)),\n",
    "                                 (y2, np.random.rand(npoints)))\n",
    "        stop_adding = time.perf_counter()\n",
    "        run_id = datasaver.run_id\n",
    "    stop = time.perf_counter()\n",
    "    tot_time = stop - start\n",
    "    add_time = stop_adding - start_adding\n",
    "    return tot_time, add_time, run_id"
   ]
  },
  {
   "cell_type": "markdown",
   "metadata": {},
   "source": [
    "## Comparison between numeric/array data and binary blob"
   ]
  },
  {
   "cell_type": "markdown",
   "metadata": {},
   "source": [
    "### Case1: Short experiment time"
   ]
  },
  {
   "cell_type": "code",
   "execution_count": 5,
   "metadata": {
    "execution": {
     "iopub.execute_input": "2020-12-17T07:04:53.464223Z",
     "iopub.status.busy": "2020-12-17T07:04:53.463674Z",
     "iopub.status.idle": "2020-12-17T07:04:54.123267Z",
     "shell.execute_reply": "2020-12-17T07:04:54.122783Z"
    }
   },
   "outputs": [
    {
     "name": "stdout",
     "output_type": "stream",
     "text": [
      "Starting experimental run with id: 1. \n",
      "Starting experimental run with id: 2. \n",
      "Starting experimental run with id: 3. \n",
      "Starting experimental run with id: 4. \n",
      "Starting experimental run with id: 5. \n",
      "Starting experimental run with id: 6. \n",
      "Starting experimental run with id: 7. \n"
     ]
    },
    {
     "name": "stdout",
     "output_type": "stream",
     "text": [
      "Starting experimental run with id: 8. \n"
     ]
    },
    {
     "name": "stdout",
     "output_type": "stream",
     "text": [
      "Starting experimental run with id: 9. \n",
      "Starting experimental run with id: 10. \n",
      "Starting experimental run with id: 11. \n"
     ]
    },
    {
     "name": "stdout",
     "output_type": "stream",
     "text": [
      "Starting experimental run with id: 12. \n",
      "Starting experimental run with id: 13. \n",
      "Starting experimental run with id: 14. \n"
     ]
    }
   ],
   "source": [
    "sizes = [1,500,1000,2000,3000,4000,5000]\n",
    "t_numeric = []\n",
    "t_numeric_add = []\n",
    "t_array = []\n",
    "t_array_add = []\n",
    "for size in sizes:\n",
    "    tn, tna, run_id_n =  insert_data('numeric', size)\n",
    "    t_numeric.append(tn)\n",
    "    t_numeric_add.append(tna)\n",
    "\n",
    "    ta, taa, run_id_a =  insert_data('array', size)\n",
    "    t_array.append(ta)\n",
    "    t_array_add.append(taa)"
   ]
  },
  {
   "cell_type": "code",
   "execution_count": 6,
   "metadata": {
    "execution": {
     "iopub.execute_input": "2020-12-17T07:04:54.137951Z",
     "iopub.status.busy": "2020-12-17T07:04:54.137507Z",
     "iopub.status.idle": "2020-12-17T07:04:54.289188Z",
     "shell.execute_reply": "2020-12-17T07:04:54.289634Z"
    }
   },
   "outputs": [
    {
     "data": {
      "image/png": "[encoded data removed]",
      "text/plain": [
       "<Figure size 432x288 with 1 Axes>"
      ]
     },
     "metadata": {
      "needs_background": "light"
     },
     "output_type": "display_data"
    }
   ],
   "source": [
    "fig, ax = plt.subplots(1,1)\n",
    "ax.plot(sizes, t_numeric, 'o-', label='Inserting row-by-row')\n",
    "ax.plot(sizes, t_numeric_add, 'o-', label='Inserting row-by-row: add_result only')\n",
    "ax.plot(sizes, t_array, 'd-', label='Inserting as binary blob')\n",
    "ax.plot(sizes, t_array_add, 'd-', label='Inserting as binary blob: add_result only')\n",
    "ax.legend()\n",
    "ax.set_xlabel('Array length')\n",
    "ax.set_ylabel('Time (s)')\n",
    "fig.tight_layout()"
   ]
  },
  {
   "cell_type": "markdown",
   "metadata": {},
   "source": [
    "As shown in the latter figure, the time to setup and and close the experiment is approximately 0.4 sec. In case of small array sizes, the difference between inserting values of data as arrays and inserting them row-by-row is relatively unimportant. At larger array sizes, i.e. above 10000 points, the cost of writing data as individual datapoints starts to become important.\n"
   ]
  },
  {
   "cell_type": "markdown",
   "metadata": {},
   "source": [
    "### Case2: Long experiment time "
   ]
  },
  {
   "cell_type": "code",
   "execution_count": 7,
   "metadata": {
    "execution": {
     "iopub.execute_input": "2020-12-17T07:04:54.291832Z",
     "iopub.status.busy": "2020-12-17T07:04:54.291401Z",
     "iopub.status.idle": "2020-12-17T07:05:42.055463Z",
     "shell.execute_reply": "2020-12-17T07:05:42.054362Z"
    }
   },
   "outputs": [
    {
     "name": "stdout",
     "output_type": "stream",
     "text": [
      "Starting experimental run with id: 15. \n",
      "Starting experimental run with id: 16. \n",
      "Starting experimental run with id: 17. \n"
     ]
    },
    {
     "name": "stdout",
     "output_type": "stream",
     "text": [
      "Starting experimental run with id: 18. \n",
      "Starting experimental run with id: 19. \n"
     ]
    },
    {
     "name": "stdout",
     "output_type": "stream",
     "text": [
      "Starting experimental run with id: 20. \n"
     ]
    },
    {
     "name": "stdout",
     "output_type": "stream",
     "text": [
      "Starting experimental run with id: 21. \n"
     ]
    },
    {
     "name": "stdout",
     "output_type": "stream",
     "text": [
      "Starting experimental run with id: 22. \n"
     ]
    },
    {
     "name": "stdout",
     "output_type": "stream",
     "text": [
      "Starting experimental run with id: 23. \n"
     ]
    },
    {
     "name": "stdout",
     "output_type": "stream",
     "text": [
      "Starting experimental run with id: 24. \n"
     ]
    },
    {
     "name": "stdout",
     "output_type": "stream",
     "text": [
      "Starting experimental run with id: 25. \n"
     ]
    },
    {
     "name": "stdout",
     "output_type": "stream",
     "text": [
      "Starting experimental run with id: 26. \n"
     ]
    },
    {
     "name": "stdout",
     "output_type": "stream",
     "text": [
      "Starting experimental run with id: 27. \n"
     ]
    },
    {
     "name": "stdout",
     "output_type": "stream",
     "text": [
      "Starting experimental run with id: 28. \n"
     ]
    }
   ],
   "source": [
    "sizes = [1,500,1000,2000,3000,4000,5000]\n",
    "nreps = 100\n",
    "t_numeric = []\n",
    "t_numeric_add = []\n",
    "t_numeric_run_ids = []\n",
    "t_array = []\n",
    "t_array_add = []\n",
    "t_array_run_ids = []\n",
    "for size in sizes:\n",
    "    tn, tna, run_id_n =  insert_data('numeric', size, nreps=nreps)\n",
    "    t_numeric.append(tn)\n",
    "    t_numeric_add.append(tna)\n",
    "    t_numeric_run_ids.append(run_id_n)\n",
    "\n",
    "    ta, taa, run_id_a =  insert_data('array', size, nreps=nreps)\n",
    "    t_array.append(ta)\n",
    "    t_array_add.append(taa)\n",
    "    t_array_run_ids.append(run_id_a)"
   ]
  },
  {
   "cell_type": "code",
   "execution_count": 8,
   "metadata": {
    "execution": {
     "iopub.execute_input": "2020-12-17T07:05:42.080936Z",
     "iopub.status.busy": "2020-12-17T07:05:42.061621Z",
     "iopub.status.idle": "2020-12-17T07:05:42.223676Z",
     "shell.execute_reply": "2020-12-17T07:05:42.224070Z"
    },
    "scrolled": true
   },
   "outputs": [
    {
     "data": {
      "image/png": "[encoded data removed]",
      "text/plain": [
       "<Figure size 432x288 with 1 Axes>"
      ]
     },
     "metadata": {
      "needs_background": "light"
     },
     "output_type": "display_data"
    }
   ],
   "source": [
    "fig, ax = plt.subplots(1,1)\n",
    "ax.plot(sizes, t_numeric, 'o-', label='Inserting row-by-row')\n",
    "ax.plot(sizes, t_numeric_add, 'o-', label='Inserting row-by-row: add_result only')\n",
    "ax.plot(sizes, t_array, 'd-', label='Inserting as binary blob')\n",
    "ax.plot(sizes, t_array_add, 'd-', label='Inserting as binary blob: add_result only')\n",
    "ax.legend()\n",
    "ax.set_xlabel('Array length')\n",
    "ax.set_ylabel('Time (s)')\n",
    "fig.tight_layout()"
   ]
  },
  {
   "cell_type": "markdown",
   "metadata": {},
   "source": [
    "However, as we increase the length of the experiment, as seen here by repeating the insertion 100 times, we see a big difference between inserting values of the data row-by-row and inserting it as a binary blob."
   ]
  },
  {
   "cell_type": "markdown",
   "metadata": {},
   "source": [
    "## Loading the data "
   ]
  },
  {
   "cell_type": "code",
   "execution_count": 9,
   "metadata": {
    "execution": {
     "iopub.execute_input": "2020-12-17T07:05:42.226830Z",
     "iopub.status.busy": "2020-12-17T07:05:42.226426Z",
     "iopub.status.idle": "2020-12-17T07:05:42.228325Z",
     "shell.execute_reply": "2020-12-17T07:05:42.228755Z"
    }
   },
   "outputs": [],
   "source": [
    "from qcodes.dataset.data_set import load_by_id\n",
    "from qcodes.dataset.data_export import get_data_by_id"
   ]
  },
  {
   "cell_type": "markdown",
   "metadata": {},
   "source": [
    "As usual you can load the data by using the ``load_by_id`` function but you will notice that the different storage methods\n",
    "are reflected in shape of the data as it is retrieved. "
   ]
  },
  {
   "cell_type": "code",
   "execution_count": 10,
   "metadata": {
    "execution": {
     "iopub.execute_input": "2020-12-17T07:05:42.230857Z",
     "iopub.status.busy": "2020-12-17T07:05:42.230348Z",
     "iopub.status.idle": "2020-12-17T07:05:42.232920Z",
     "shell.execute_reply": "2020-12-17T07:05:42.233390Z"
    }
   },
   "outputs": [],
   "source": [
    "run_id_n = t_numeric_run_ids[0]\n",
    "run_id_a = t_array_run_ids[0]"
   ]
  },
  {
   "cell_type": "code",
   "execution_count": 11,
   "metadata": {
    "execution": {
     "iopub.execute_input": "2020-12-17T07:05:42.235764Z",
     "iopub.status.busy": "2020-12-17T07:05:42.234948Z",
     "iopub.status.idle": "2020-12-17T07:05:42.242257Z",
     "shell.execute_reply": "2020-12-17T07:05:42.242632Z"
    },
    "scrolled": true
   },
   "outputs": [
    {
     "data": {
      "text/plain": [
       "{'x1': {'x1': array([8.56510494e-01, 8.56510494e-01, 4.17681030e-02, 4.17681030e-02,\n",
       "         1.83994539e-01, 1.83994539e-01, 2.89332164e-01, 2.89332164e-01,\n",
       "         6.36211739e-01, 6.36211739e-01, 2.15121519e-01, 2.15121519e-01,\n",
       "         6.75202216e-01, 6.75202216e-01, 4.71857939e-01, 4.71857939e-01,\n",
       "         8.26994893e-01, 8.26994893e-01, 3.39397707e-02, 3.39397707e-02,\n",
       "         2.10042963e-01, 2.10042963e-01, 9.15213878e-02, 9.15213878e-02,\n",
       "         4.72393601e-01, 4.72393601e-01, 9.78604375e-01, 9.78604375e-01,\n",
       "         6.64568754e-01, 6.64568754e-01, 3.24552747e-01, 3.24552747e-01,\n",
       "         8.02173076e-01, 8.02173076e-01, 8.67800704e-01, 8.67800704e-01,\n",
       "         9.92312903e-01, 9.92312903e-01, 6.45337120e-01, 6.45337120e-01,\n",
       "         1.28197406e-02, 1.28197406e-02, 8.47129785e-01, 8.47129785e-01,\n",
       "         9.07663558e-01, 9.07663558e-01, 9.76269834e-01, 9.76269834e-01,\n",
       "         8.47552450e-02, 8.47552450e-02, 8.72533149e-01, 8.72533149e-01,\n",
       "         3.89137860e-01, 3.89137860e-01, 5.28596899e-01, 5.28596899e-01,\n",
       "         1.77292659e-01, 1.77292659e-01, 3.05765061e-01, 3.05765061e-01,\n",
       "         3.31574225e-01, 3.31574225e-01, 5.55255317e-01, 5.55255317e-01,\n",
       "         9.08183895e-01, 9.08183895e-01, 9.27089709e-01, 9.27089709e-01,\n",
       "         7.26249885e-01, 7.26249885e-01, 7.45430330e-03, 7.45430330e-03,\n",
       "         3.66998436e-01, 3.66998436e-01, 7.91141149e-02, 7.91141149e-02,\n",
       "         5.71407025e-01, 5.71407025e-01, 6.85865322e-02, 6.85865322e-02,\n",
       "         6.07937200e-01, 6.07937200e-01, 3.45119897e-01, 3.45119897e-01,\n",
       "         9.42241319e-02, 9.42241319e-02, 3.45119733e-01, 3.45119733e-01,\n",
       "         4.03305008e-01, 4.03305008e-01, 9.10478757e-01, 9.10478757e-01,\n",
       "         7.75444608e-01, 7.75444608e-01, 2.77533962e-01, 2.77533962e-01,\n",
       "         8.18204037e-01, 8.18204037e-01, 3.94661232e-01, 3.94661232e-01,\n",
       "         3.63531725e-01, 3.63531725e-01, 1.75676496e-01, 1.75676496e-01,\n",
       "         3.38707033e-01, 3.38707033e-01, 2.28587142e-02, 2.28587142e-02,\n",
       "         4.66424001e-01, 4.66424001e-01, 5.78868660e-01, 5.78868660e-01,\n",
       "         2.54503557e-01, 2.54503557e-01, 3.07575351e-01, 3.07575351e-01,\n",
       "         5.32768755e-02, 5.32768755e-02, 7.96038267e-01, 7.96038267e-01,\n",
       "         3.54076455e-01, 3.54076455e-01, 1.79818483e-01, 1.79818483e-01,\n",
       "         9.29160843e-01, 9.29160843e-01, 6.92940035e-01, 6.92940035e-01,\n",
       "         6.26322855e-01, 6.26322855e-01, 7.15593122e-01, 7.15593122e-01,\n",
       "         2.44461148e-01, 2.44461148e-01, 3.73022384e-01, 3.73022384e-01,\n",
       "         4.10567010e-01, 4.10567010e-01, 9.31176875e-01, 9.31176875e-01,\n",
       "         1.10826556e-01, 1.10826556e-01, 1.65100093e-01, 1.65100093e-01,\n",
       "         1.77020987e-01, 1.77020987e-01, 1.41625173e-01, 1.41625173e-01,\n",
       "         4.62550398e-01, 4.62550398e-01, 4.59831526e-01, 4.59831526e-01,\n",
       "         1.97007597e-01, 1.97007597e-01, 1.11362197e-01, 1.11362197e-01,\n",
       "         3.58710164e-01, 3.58710164e-01, 3.19095533e-01, 3.19095533e-01,\n",
       "         8.54111350e-01, 8.54111350e-01, 2.65353222e-02, 2.65353222e-02,\n",
       "         6.67449923e-01, 6.67449923e-01, 5.81733319e-01, 5.81733319e-01,\n",
       "         5.93114239e-01, 5.93114239e-01, 6.72092537e-03, 6.72092537e-03,\n",
       "         8.91707527e-01, 8.91707527e-01, 4.69000257e-01, 4.69000257e-01,\n",
       "         4.31411352e-01, 4.31411352e-01, 7.58326211e-01, 7.58326211e-01,\n",
       "         6.41145569e-01, 6.41145569e-01, 9.96091990e-01, 9.96091990e-01,\n",
       "         8.18409820e-01, 8.18409820e-01, 8.25133134e-01, 8.25133134e-01,\n",
       "         2.04186155e-01, 2.04186155e-01, 7.69589869e-01, 7.69589869e-01,\n",
       "         7.23229109e-02, 7.23229109e-02, 3.09694174e-02, 3.09694174e-02,\n",
       "         1.73890346e-01, 1.73890346e-01, 1.83974552e-04, 1.83974552e-04])}}"
      ]
     },
     "execution_count": 1,
     "metadata": {},
     "output_type": "execute_result"
    }
   ],
   "source": [
    "ds = load_by_id(run_id_n)\n",
    "ds.get_parameter_data('x1')"
   ]
  },
  {
   "cell_type": "markdown",
   "metadata": {},
   "source": [
    "And a dataset stored as binary arrays"
   ]
  },
  {
   "cell_type": "code",
   "execution_count": 12,
   "metadata": {
    "execution": {
     "iopub.execute_input": "2020-12-17T07:05:42.244786Z",
     "iopub.status.busy": "2020-12-17T07:05:42.244420Z",
     "iopub.status.idle": "2020-12-17T07:05:42.286573Z",
     "shell.execute_reply": "2020-12-17T07:05:42.285624Z"
    },
    "scrolled": true
   },
   "outputs": [
    {
     "data": {
      "text/plain": [
       "{'x1': {'x1': array([[0.83406718],\n",
       "         [0.83406718],\n",
       "         [0.15835781],\n",
       "         [0.15835781],\n",
       "         [0.60600997],\n",
       "         [0.60600997],\n",
       "         [0.55684823],\n",
       "         [0.55684823],\n",
       "         [0.62490835],\n",
       "         [0.62490835],\n",
       "         [0.89557536],\n",
       "         [0.89557536],\n",
       "         [0.02379927],\n",
       "         [0.02379927],\n",
       "         [0.18658159],\n",
       "         [0.18658159],\n",
       "         [0.09446683],\n",
       "         [0.09446683],\n",
       "         [0.22112351],\n",
       "         [0.22112351],\n",
       "         [0.99913455],\n",
       "         [0.99913455],\n",
       "         [0.981717  ],\n",
       "         [0.981717  ],\n",
       "         [0.36238562],\n",
       "         [0.36238562],\n",
       "         [0.45969167],\n",
       "         [0.45969167],\n",
       "         [0.62575408],\n",
       "         [0.62575408],\n",
       "         [0.9847454 ],\n",
       "         [0.9847454 ],\n",
       "         [0.58824985],\n",
       "         [0.58824985],\n",
       "         [0.58431944],\n",
       "         [0.58431944],\n",
       "         [0.14242854],\n",
       "         [0.14242854],\n",
       "         [0.44508223],\n",
       "         [0.44508223],\n",
       "         [0.97932288],\n",
       "         [0.97932288],\n",
       "         [0.95374267],\n",
       "         [0.95374267],\n",
       "         [0.67058996],\n",
       "         [0.67058996],\n",
       "         [0.80335185],\n",
       "         [0.80335185],\n",
       "         [0.04186843],\n",
       "         [0.04186843],\n",
       "         [0.14211729],\n",
       "         [0.14211729],\n",
       "         [0.70075787],\n",
       "         [0.70075787],\n",
       "         [0.10145358],\n",
       "         [0.10145358],\n",
       "         [0.72157704],\n",
       "         [0.72157704],\n",
       "         [0.5492923 ],\n",
       "         [0.5492923 ],\n",
       "         [0.09253   ],\n",
       "         [0.09253   ],\n",
       "         [0.33727702],\n",
       "         [0.33727702],\n",
       "         [0.74034285],\n",
       "         [0.74034285],\n",
       "         [0.1418244 ],\n",
       "         [0.1418244 ],\n",
       "         [0.74407388],\n",
       "         [0.74407388],\n",
       "         [0.39363891],\n",
       "         [0.39363891],\n",
       "         [0.95278856],\n",
       "         [0.95278856],\n",
       "         [0.20240877],\n",
       "         [0.20240877],\n",
       "         [0.42015595],\n",
       "         [0.42015595],\n",
       "         [0.82438663],\n",
       "         [0.82438663],\n",
       "         [0.19665949],\n",
       "         [0.19665949],\n",
       "         [0.05028204],\n",
       "         [0.05028204],\n",
       "         [0.82310455],\n",
       "         [0.82310455],\n",
       "         [0.59612169],\n",
       "         [0.59612169],\n",
       "         [0.9502932 ],\n",
       "         [0.9502932 ],\n",
       "         [0.46173624],\n",
       "         [0.46173624],\n",
       "         [0.44325901],\n",
       "         [0.44325901],\n",
       "         [0.93829319],\n",
       "         [0.93829319],\n",
       "         [0.00739524],\n",
       "         [0.00739524],\n",
       "         [0.29354531],\n",
       "         [0.29354531],\n",
       "         [0.52831247],\n",
       "         [0.52831247],\n",
       "         [0.76447876],\n",
       "         [0.76447876],\n",
       "         [0.67411658],\n",
       "         [0.67411658],\n",
       "         [0.93647946],\n",
       "         [0.93647946],\n",
       "         [0.37896763],\n",
       "         [0.37896763],\n",
       "         [0.58591597],\n",
       "         [0.58591597],\n",
       "         [0.11323365],\n",
       "         [0.11323365],\n",
       "         [0.33053952],\n",
       "         [0.33053952],\n",
       "         [0.29238041],\n",
       "         [0.29238041],\n",
       "         [0.38399428],\n",
       "         [0.38399428],\n",
       "         [0.09146853],\n",
       "         [0.09146853],\n",
       "         [0.71507926],\n",
       "         [0.71507926],\n",
       "         [0.10629296],\n",
       "         [0.10629296],\n",
       "         [0.30757863],\n",
       "         [0.30757863],\n",
       "         [0.11442945],\n",
       "         [0.11442945],\n",
       "         [0.55103013],\n",
       "         [0.55103013],\n",
       "         [0.68959397],\n",
       "         [0.68959397],\n",
       "         [0.82494247],\n",
       "         [0.82494247],\n",
       "         [0.38743605],\n",
       "         [0.38743605],\n",
       "         [0.63172694],\n",
       "         [0.63172694],\n",
       "         [0.83915519],\n",
       "         [0.83915519],\n",
       "         [0.15552274],\n",
       "         [0.15552274],\n",
       "         [0.71895427],\n",
       "         [0.71895427],\n",
       "         [0.22602273],\n",
       "         [0.22602273],\n",
       "         [0.54939564],\n",
       "         [0.54939564],\n",
       "         [0.54354412],\n",
       "         [0.54354412],\n",
       "         [0.21563607],\n",
       "         [0.21563607],\n",
       "         [0.91159471],\n",
       "         [0.91159471],\n",
       "         [0.5842746 ],\n",
       "         [0.5842746 ],\n",
       "         [0.94377288],\n",
       "         [0.94377288],\n",
       "         [0.72507251],\n",
       "         [0.72507251],\n",
       "         [0.20906136],\n",
       "         [0.20906136],\n",
       "         [0.72968041],\n",
       "         [0.72968041],\n",
       "         [0.30604555],\n",
       "         [0.30604555],\n",
       "         [0.33329812],\n",
       "         [0.33329812],\n",
       "         [0.04576136],\n",
       "         [0.04576136],\n",
       "         [0.53449329],\n",
       "         [0.53449329],\n",
       "         [0.20289186],\n",
       "         [0.20289186],\n",
       "         [0.91432258],\n",
       "         [0.91432258],\n",
       "         [0.63073642],\n",
       "         [0.63073642],\n",
       "         [0.27959005],\n",
       "         [0.27959005],\n",
       "         [0.51858845],\n",
       "         [0.51858845],\n",
       "         [0.38221807],\n",
       "         [0.38221807],\n",
       "         [0.18367432],\n",
       "         [0.18367432],\n",
       "         [0.85918386],\n",
       "         [0.85918386],\n",
       "         [0.95223554],\n",
       "         [0.95223554],\n",
       "         [0.12973112],\n",
       "         [0.12973112],\n",
       "         [0.27348577],\n",
       "         [0.27348577],\n",
       "         [0.97397408],\n",
       "         [0.97397408],\n",
       "         [0.72490676],\n",
       "         [0.72490676]])}}"
      ]
     },
     "execution_count": 1,
     "metadata": {},
     "output_type": "execute_result"
    }
   ],
   "source": [
    "ds = load_by_id(run_id_a)\n",
    "ds.get_parameter_data('x1')"
   ]
  },
  {
   "cell_type": "code",
   "execution_count": null,
   "metadata": {},
   "outputs": [],
   "source": []
  }
 ],
 "metadata": {
  "kernelspec": {
   "display_name": "Python 3",
   "language": "python",
   "name": "python3"
  },
  "language_info": {
   "codemirror_mode": {
    "name": "ipython",
    "version": 3
   },
   "file_extension": ".py",
   "mimetype": "text/x-python",
   "name": "python",
   "nbconvert_exporter": "python",
   "pygments_lexer": "ipython3",
   "version": "3.7.9"
  },
  "nbsphinx": {
   "timeout": 600
  },
  "toc": {
   "base_numbering": 1,
   "nav_menu": {},
   "number_sections": true,
   "sideBar": true,
   "skip_h1_title": false,
   "title_cell": "Table of Contents",
   "title_sidebar": "Contents",
   "toc_cell": false,
   "toc_position": {},
   "toc_section_display": true,
   "toc_window_display": false
  },
  "varInspector": {
   "cols": {
    "lenName": 16,
    "lenType": 16,
    "lenVar": 40
   },
   "kernels_config": {
    "python": {
     "delete_cmd_postfix": "",
     "delete_cmd_prefix": "del ",
     "library": "var_list.py",
     "varRefreshCmd": "print(var_dic_list())"
    },
    "r": {
     "delete_cmd_postfix": ") ",
     "delete_cmd_prefix": "rm(",
     "library": "var_list.r",
     "varRefreshCmd": "cat(var_dic_list()) "
    }
   },
   "types_to_exclude": [
    "module",
    "function",
    "builtin_function_or_method",
    "instance",
    "_Feature"
   ],
   "window_display": false
  }
 },
 "nbformat": 4,
 "nbformat_minor": 2
}
