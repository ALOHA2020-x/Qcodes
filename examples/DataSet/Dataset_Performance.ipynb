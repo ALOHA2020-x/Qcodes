{
 "cells": [
  {
   "cell_type": "markdown",
   "metadata": {},
   "source": [
    "# DataSet Performance\n",
    "\n",
    "This notebook shows the trade-off between inserting data into a database row-by-row and as binary blobs. Inserting the data row-by-row means that we have direct access to all the data and may perform queries directly on the values of the data. On the other hand, as we shall see, this is much slower than inserting the data directly as binary blobs."
   ]
  },
  {
   "cell_type": "markdown",
   "metadata": {},
   "source": [
    "First, we choose a new location for the database to ensure that we don't add a bunch of benchmarking data to the default one."
   ]
  },
  {
   "cell_type": "code",
   "execution_count": 1,
   "metadata": {
    "execution": {
     "iopub.execute_input": "2021-04-12T09:13:26.295732Z",
     "iopub.status.busy": "2021-04-12T09:13:26.294980Z",
     "iopub.status.idle": "2021-04-12T09:13:27.426238Z",
     "shell.execute_reply": "2021-04-12T09:13:27.426785Z"
    }
   },
   "outputs": [
    {
     "name": "stdout",
     "output_type": "stream",
     "text": [
      "Logging hadn't been started.\n",
      "Activating auto-logging. Current session state plus future input saved.\n",
      "Filename       : /home/runner/.qcodes/logs/command_history.log\n",
      "Mode           : append\n",
      "Output logging : True\n",
      "Raw input log  : False\n",
      "Timestamping   : True\n",
      "State          : active\n"
     ]
    },
    {
     "name": "stdout",
     "output_type": "stream",
     "text": [
      "Qcodes Logfile : /home/runner/.qcodes/logs/210412-4640-qcodes.log\n"
     ]
    }
   ],
   "source": [
    "import os\n",
    "cwd = os.getcwd()\n",
    "import qcodes as qc\n",
    "qc.config[\"core\"][\"db_location\"] = os.path.join(cwd, 'testing.db')\n"
   ]
  },
  {
   "cell_type": "code",
   "execution_count": 2,
   "metadata": {
    "execution": {
     "iopub.execute_input": "2021-04-12T09:13:27.436485Z",
     "iopub.status.busy": "2021-04-12T09:13:27.434609Z",
     "iopub.status.idle": "2021-04-12T09:13:27.710868Z",
     "shell.execute_reply": "2021-04-12T09:13:27.709878Z"
    }
   },
   "outputs": [],
   "source": [
    "%matplotlib inline\n",
    "import time\n",
    "import matplotlib.pyplot as plt\n",
    "import numpy as np\n",
    "\n",
    "import qcodes as qc\n",
    "from qcodes.instrument.parameter import ManualParameter\n",
    "from qcodes.dataset.experiment_container import (Experiment,\n",
    "                                                 load_last_experiment,\n",
    "                                                 new_experiment)\n",
    "from qcodes.dataset.sqlite.database import initialise_database\n",
    "from qcodes import load_or_create_experiment\n",
    "from qcodes.dataset.measurements import Measurement"
   ]
  },
  {
   "cell_type": "code",
   "execution_count": 3,
   "metadata": {
    "execution": {
     "iopub.execute_input": "2021-04-12T09:13:27.715784Z",
     "iopub.status.busy": "2021-04-12T09:13:27.714547Z",
     "iopub.status.idle": "2021-04-12T09:13:27.794607Z",
     "shell.execute_reply": "2021-04-12T09:13:27.795317Z"
    }
   },
   "outputs": [
    {
     "name": "stdout",
     "output_type": "stream",
     "text": [
      "\r",
      "0it [00:00, ?it/s]"
     ]
    },
    {
     "name": "stdout",
     "output_type": "stream",
     "text": [
      "\r",
      "Upgrading database; v0 -> v1: : 0it [00:00, ?it/s]"
     ]
    },
    {
     "name": "stdout",
     "output_type": "stream",
     "text": [
      "\r",
      "Upgrading database; v0 -> v1: : 0it [00:00, ?it/s]"
     ]
    },
    {
     "name": "stdout",
     "output_type": "stream",
     "text": [
      "\n",
      "\r",
      "  0%|          | 0/1 [00:00<?, ?it/s]"
     ]
    },
    {
     "name": "stdout",
     "output_type": "stream",
     "text": [
      "\r",
      "Upgrading database; v1 -> v2:   0%|          | 0/1 [00:00<?, ?it/s]"
     ]
    },
    {
     "name": "stdout",
     "output_type": "stream",
     "text": [
      "\r",
      "Upgrading database; v1 -> v2: 100%|██████████| 1/1 [00:00<00:00, 257.21it/s]"
     ]
    },
    {
     "name": "stdout",
     "output_type": "stream",
     "text": [
      "\n",
      "\r",
      "0it [00:00, ?it/s]"
     ]
    },
    {
     "name": "stdout",
     "output_type": "stream",
     "text": [
      "\r",
      "Upgrading database; v2 -> v3: : 0it [00:00, ?it/s]"
     ]
    },
    {
     "name": "stdout",
     "output_type": "stream",
     "text": [
      "\r",
      "Upgrading database; v2 -> v3: : 0it [00:00, ?it/s]"
     ]
    },
    {
     "name": "stdout",
     "output_type": "stream",
     "text": [
      "\n",
      "\r",
      "0it [00:00, ?it/s]"
     ]
    },
    {
     "name": "stdout",
     "output_type": "stream",
     "text": [
      "\r",
      "Upgrading database; v3 -> v4: : 0it [00:00, ?it/s]"
     ]
    },
    {
     "name": "stdout",
     "output_type": "stream",
     "text": [
      "\r",
      "Upgrading database; v3 -> v4: : 0it [00:00, ?it/s]"
     ]
    },
    {
     "name": "stdout",
     "output_type": "stream",
     "text": [
      "\n",
      "\r",
      "  0%|          | 0/1 [00:00<?, ?it/s]"
     ]
    },
    {
     "name": "stdout",
     "output_type": "stream",
     "text": [
      "\r",
      "Upgrading database; v4 -> v5:   0%|          | 0/1 [00:00<?, ?it/s]"
     ]
    },
    {
     "name": "stdout",
     "output_type": "stream",
     "text": [
      "\r",
      "Upgrading database; v4 -> v5: 100%|██████████| 1/1 [00:00<00:00, 486.92it/s]"
     ]
    },
    {
     "name": "stdout",
     "output_type": "stream",
     "text": [
      "\n",
      "\r",
      "0it [00:00, ?it/s]"
     ]
    },
    {
     "name": "stdout",
     "output_type": "stream",
     "text": [
      "\r",
      "Upgrading database; v5 -> v6: : 0it [00:00, ?it/s]"
     ]
    },
    {
     "name": "stdout",
     "output_type": "stream",
     "text": [
      "\r",
      "Upgrading database; v5 -> v6: : 0it [00:00, ?it/s]"
     ]
    },
    {
     "name": "stdout",
     "output_type": "stream",
     "text": [
      "\n",
      "\r",
      "  0%|          | 0/1 [00:00<?, ?it/s]"
     ]
    },
    {
     "name": "stdout",
     "output_type": "stream",
     "text": [
      "\r",
      "Upgrading database; v6 -> v7:   0%|          | 0/1 [00:00<?, ?it/s]"
     ]
    },
    {
     "name": "stdout",
     "output_type": "stream",
     "text": [
      "\r",
      "Upgrading database; v6 -> v7: 100%|██████████| 1/1 [00:00<00:00, 380.64it/s]"
     ]
    },
    {
     "name": "stdout",
     "output_type": "stream",
     "text": [
      "\n",
      "\r",
      "  0%|          | 0/1 [00:00<?, ?it/s]"
     ]
    },
    {
     "name": "stdout",
     "output_type": "stream",
     "text": [
      "\r",
      "Upgrading database; v7 -> v8:   0%|          | 0/1 [00:00<?, ?it/s]"
     ]
    },
    {
     "name": "stdout",
     "output_type": "stream",
     "text": [
      "\r",
      "Upgrading database; v7 -> v8: 100%|██████████| 1/1 [00:00<00:00, 575.98it/s]"
     ]
    },
    {
     "name": "stdout",
     "output_type": "stream",
     "text": [
      "\n",
      "\r",
      "  0%|          | 0/1 [00:00<?, ?it/s]"
     ]
    },
    {
     "name": "stdout",
     "output_type": "stream",
     "text": [
      "\r",
      "Upgrading database; v8 -> v9:   0%|          | 0/1 [00:00<?, ?it/s]"
     ]
    },
    {
     "name": "stdout",
     "output_type": "stream",
     "text": [
      "\r",
      "Upgrading database; v8 -> v9: 100%|██████████| 1/1 [00:00<00:00, 441.04it/s]"
     ]
    },
    {
     "name": "stdout",
     "output_type": "stream",
     "text": [
      "\n"
     ]
    }
   ],
   "source": [
    "initialise_database()\n",
    "exp = load_or_create_experiment(experiment_name='tutorial_exp', sample_name=\"no sample\")"
   ]
  },
  {
   "cell_type": "markdown",
   "metadata": {},
   "source": [
    "Here, we define a simple function to benchmark the time it takes to insert n points with either numeric or array data type.\n",
    "We will compare both the time used to call ``add_result`` and the time used for the full measurement."
   ]
  },
  {
   "cell_type": "code",
   "execution_count": 4,
   "metadata": {
    "execution": {
     "iopub.execute_input": "2021-04-12T09:13:27.806624Z",
     "iopub.status.busy": "2021-04-12T09:13:27.805907Z",
     "iopub.status.idle": "2021-04-12T09:13:27.810238Z",
     "shell.execute_reply": "2021-04-12T09:13:27.809620Z"
    }
   },
   "outputs": [],
   "source": [
    "def insert_data(paramtype, npoints, nreps=1):\n",
    "\n",
    "    meas = Measurement(exp=exp)\n",
    "\n",
    "    x1 = ManualParameter('x1')\n",
    "    x2 = ManualParameter('x2')\n",
    "    x3 = ManualParameter('x3')\n",
    "    y1 = ManualParameter('y1')\n",
    "    y2 = ManualParameter('y2')\n",
    "\n",
    "    meas.register_parameter(x1, paramtype=paramtype)\n",
    "    meas.register_parameter(x2, paramtype=paramtype)\n",
    "    meas.register_parameter(x3, paramtype=paramtype)\n",
    "    meas.register_parameter(y1, setpoints=[x1, x2, x3],\n",
    "                            paramtype=paramtype)\n",
    "    meas.register_parameter(y2, setpoints=[x1, x2, x3],\n",
    "                            paramtype=paramtype)\n",
    "    start = time.perf_counter()\n",
    "    with meas.run() as datasaver:\n",
    "        start_adding = time.perf_counter()\n",
    "        for i in range(nreps):\n",
    "            datasaver.add_result((x1, np.random.rand(npoints)),\n",
    "                                 (x2, np.random.rand(npoints)),\n",
    "                                 (x3, np.random.rand(npoints)),\n",
    "                                 (y1, np.random.rand(npoints)),\n",
    "                                 (y2, np.random.rand(npoints)))\n",
    "        stop_adding = time.perf_counter()\n",
    "        run_id = datasaver.run_id\n",
    "    stop = time.perf_counter()\n",
    "    tot_time = stop - start\n",
    "    add_time = stop_adding - start_adding\n",
    "    return tot_time, add_time, run_id"
   ]
  },
  {
   "cell_type": "markdown",
   "metadata": {},
   "source": [
    "## Comparison between numeric/array data and binary blob"
   ]
  },
  {
   "cell_type": "markdown",
   "metadata": {},
   "source": [
    "### Case1: Short experiment time"
   ]
  },
  {
   "cell_type": "code",
   "execution_count": 5,
   "metadata": {
    "execution": {
     "iopub.execute_input": "2021-04-12T09:13:27.817368Z",
     "iopub.status.busy": "2021-04-12T09:13:27.816627Z",
     "iopub.status.idle": "2021-04-12T09:13:28.753066Z",
     "shell.execute_reply": "2021-04-12T09:13:28.752440Z"
    }
   },
   "outputs": [
    {
     "name": "stdout",
     "output_type": "stream",
     "text": [
      "Starting experimental run with id: 1. \n",
      "Starting experimental run with id: 2. \n",
      "Starting experimental run with id: 3. \n",
      "Starting experimental run with id: 4. \n"
     ]
    },
    {
     "name": "stdout",
     "output_type": "stream",
     "text": [
      "Starting experimental run with id: 5. \n"
     ]
    },
    {
     "name": "stdout",
     "output_type": "stream",
     "text": [
      "Starting experimental run with id: 6. \n",
      "Starting experimental run with id: 7. \n"
     ]
    },
    {
     "name": "stdout",
     "output_type": "stream",
     "text": [
      "Starting experimental run with id: 8. \n"
     ]
    },
    {
     "name": "stdout",
     "output_type": "stream",
     "text": [
      "Starting experimental run with id: 9. \n"
     ]
    },
    {
     "name": "stdout",
     "output_type": "stream",
     "text": [
      "Starting experimental run with id: 10. \n",
      "Starting experimental run with id: 11. \n"
     ]
    },
    {
     "name": "stdout",
     "output_type": "stream",
     "text": [
      "Starting experimental run with id: 12. \n",
      "Starting experimental run with id: 13. \n"
     ]
    },
    {
     "name": "stdout",
     "output_type": "stream",
     "text": [
      "Starting experimental run with id: 14. \n"
     ]
    }
   ],
   "source": [
    "sizes = [1,500,1000,2000,3000,4000,5000]\n",
    "t_numeric = []\n",
    "t_numeric_add = []\n",
    "t_array = []\n",
    "t_array_add = []\n",
    "for size in sizes:\n",
    "    tn, tna, run_id_n =  insert_data('numeric', size)\n",
    "    t_numeric.append(tn)\n",
    "    t_numeric_add.append(tna)\n",
    "\n",
    "    ta, taa, run_id_a =  insert_data('array', size)\n",
    "    t_array.append(ta)\n",
    "    t_array_add.append(taa)"
   ]
  },
  {
   "cell_type": "code",
   "execution_count": 6,
   "metadata": {
    "execution": {
     "iopub.execute_input": "2021-04-12T09:13:28.775846Z",
     "iopub.status.busy": "2021-04-12T09:13:28.775141Z",
     "iopub.status.idle": "2021-04-12T09:13:29.000302Z",
     "shell.execute_reply": "2021-04-12T09:13:29.001249Z"
    }
   },
   "outputs": [
    {
     "data": {
      "image/png": "[encoded data removed]",
      "text/plain": [
       "<Figure size 432x288 with 1 Axes>"
      ]
     },
     "metadata": {
      "needs_background": "light"
     },
     "output_type": "display_data"
    }
   ],
   "source": [
    "fig, ax = plt.subplots(1,1)\n",
    "ax.plot(sizes, t_numeric, 'o-', label='Inserting row-by-row')\n",
    "ax.plot(sizes, t_numeric_add, 'o-', label='Inserting row-by-row: add_result only')\n",
    "ax.plot(sizes, t_array, 'd-', label='Inserting as binary blob')\n",
    "ax.plot(sizes, t_array_add, 'd-', label='Inserting as binary blob: add_result only')\n",
    "ax.legend()\n",
    "ax.set_xlabel('Array length')\n",
    "ax.set_ylabel('Time (s)')\n",
    "fig.tight_layout()"
   ]
  },
  {
   "cell_type": "markdown",
   "metadata": {},
   "source": [
    "As shown in the latter figure, the time to setup and and close the experiment is approximately 0.4 sec. In case of small array sizes, the difference between inserting values of data as arrays and inserting them row-by-row is relatively unimportant. At larger array sizes, i.e. above 10000 points, the cost of writing data as individual datapoints starts to become important.\n"
   ]
  },
  {
   "cell_type": "markdown",
   "metadata": {},
   "source": [
    "### Case2: Long experiment time "
   ]
  },
  {
   "cell_type": "code",
   "execution_count": 7,
   "metadata": {
    "execution": {
     "iopub.execute_input": "2021-04-12T09:13:29.010807Z",
     "iopub.status.busy": "2021-04-12T09:13:29.009814Z",
     "iopub.status.idle": "2021-04-12T09:14:26.007677Z",
     "shell.execute_reply": "2021-04-12T09:14:26.007105Z"
    }
   },
   "outputs": [
    {
     "name": "stdout",
     "output_type": "stream",
     "text": [
      "Starting experimental run with id: 15. \n",
      "Starting experimental run with id: 16. \n"
     ]
    },
    {
     "name": "stdout",
     "output_type": "stream",
     "text": [
      "Starting experimental run with id: 17. \n"
     ]
    },
    {
     "name": "stdout",
     "output_type": "stream",
     "text": [
      "Starting experimental run with id: 18. \n"
     ]
    },
    {
     "name": "stdout",
     "output_type": "stream",
     "text": [
      "Starting experimental run with id: 19. \n"
     ]
    },
    {
     "name": "stdout",
     "output_type": "stream",
     "text": [
      "Starting experimental run with id: 20. \n"
     ]
    },
    {
     "name": "stdout",
     "output_type": "stream",
     "text": [
      "Starting experimental run with id: 21. \n"
     ]
    },
    {
     "name": "stdout",
     "output_type": "stream",
     "text": [
      "Starting experimental run with id: 22. \n"
     ]
    },
    {
     "name": "stdout",
     "output_type": "stream",
     "text": [
      "Starting experimental run with id: 23. \n"
     ]
    },
    {
     "name": "stdout",
     "output_type": "stream",
     "text": [
      "Starting experimental run with id: 24. \n"
     ]
    },
    {
     "name": "stdout",
     "output_type": "stream",
     "text": [
      "Starting experimental run with id: 25. \n"
     ]
    },
    {
     "name": "stdout",
     "output_type": "stream",
     "text": [
      "Starting experimental run with id: 26. \n"
     ]
    },
    {
     "name": "stdout",
     "output_type": "stream",
     "text": [
      "Starting experimental run with id: 27. \n"
     ]
    },
    {
     "name": "stdout",
     "output_type": "stream",
     "text": [
      "Starting experimental run with id: 28. \n"
     ]
    }
   ],
   "source": [
    "sizes = [1,500,1000,2000,3000,4000,5000]\n",
    "nreps = 100\n",
    "t_numeric = []\n",
    "t_numeric_add = []\n",
    "t_numeric_run_ids = []\n",
    "t_array = []\n",
    "t_array_add = []\n",
    "t_array_run_ids = []\n",
    "for size in sizes:\n",
    "    tn, tna, run_id_n =  insert_data('numeric', size, nreps=nreps)\n",
    "    t_numeric.append(tn)\n",
    "    t_numeric_add.append(tna)\n",
    "    t_numeric_run_ids.append(run_id_n)\n",
    "\n",
    "    ta, taa, run_id_a =  insert_data('array', size, nreps=nreps)\n",
    "    t_array.append(ta)\n",
    "    t_array_add.append(taa)\n",
    "    t_array_run_ids.append(run_id_a)"
   ]
  },
  {
   "cell_type": "code",
   "execution_count": 8,
   "metadata": {
    "execution": {
     "iopub.execute_input": "2021-04-12T09:14:26.033553Z",
     "iopub.status.busy": "2021-04-12T09:14:26.013466Z",
     "iopub.status.idle": "2021-04-12T09:14:26.239678Z",
     "shell.execute_reply": "2021-04-12T09:14:26.239146Z"
    },
    "scrolled": true
   },
   "outputs": [
    {
     "data": {
      "image/png": "[encoded data removed]",
      "text/plain": [
       "<Figure size 432x288 with 1 Axes>"
      ]
     },
     "metadata": {
      "needs_background": "light"
     },
     "output_type": "display_data"
    }
   ],
   "source": [
    "fig, ax = plt.subplots(1,1)\n",
    "ax.plot(sizes, t_numeric, 'o-', label='Inserting row-by-row')\n",
    "ax.plot(sizes, t_numeric_add, 'o-', label='Inserting row-by-row: add_result only')\n",
    "ax.plot(sizes, t_array, 'd-', label='Inserting as binary blob')\n",
    "ax.plot(sizes, t_array_add, 'd-', label='Inserting as binary blob: add_result only')\n",
    "ax.legend()\n",
    "ax.set_xlabel('Array length')\n",
    "ax.set_ylabel('Time (s)')\n",
    "fig.tight_layout()"
   ]
  },
  {
   "cell_type": "markdown",
   "metadata": {},
   "source": [
    "However, as we increase the length of the experiment, as seen here by repeating the insertion 100 times, we see a big difference between inserting values of the data row-by-row and inserting it as a binary blob."
   ]
  },
  {
   "cell_type": "markdown",
   "metadata": {},
   "source": [
    "## Loading the data "
   ]
  },
  {
   "cell_type": "code",
   "execution_count": 9,
   "metadata": {
    "execution": {
     "iopub.execute_input": "2021-04-12T09:14:26.244529Z",
     "iopub.status.busy": "2021-04-12T09:14:26.243064Z",
     "iopub.status.idle": "2021-04-12T09:14:26.246587Z",
     "shell.execute_reply": "2021-04-12T09:14:26.246159Z"
    }
   },
   "outputs": [],
   "source": [
    "from qcodes.dataset.data_set import load_by_id\n",
    "from qcodes.dataset.data_export import get_data_by_id"
   ]
  },
  {
   "cell_type": "markdown",
   "metadata": {},
   "source": [
    "As usual you can load the data by using the ``load_by_id`` function but you will notice that the different storage methods\n",
    "are reflected in shape of the data as it is retrieved. "
   ]
  },
  {
   "cell_type": "code",
   "execution_count": 10,
   "metadata": {
    "execution": {
     "iopub.execute_input": "2021-04-12T09:14:26.251753Z",
     "iopub.status.busy": "2021-04-12T09:14:26.250399Z",
     "iopub.status.idle": "2021-04-12T09:14:26.252359Z",
     "shell.execute_reply": "2021-04-12T09:14:26.252840Z"
    }
   },
   "outputs": [],
   "source": [
    "run_id_n = t_numeric_run_ids[0]\n",
    "run_id_a = t_array_run_ids[0]"
   ]
  },
  {
   "cell_type": "code",
   "execution_count": 11,
   "metadata": {
    "execution": {
     "iopub.execute_input": "2021-04-12T09:14:26.256003Z",
     "iopub.status.busy": "2021-04-12T09:14:26.255499Z",
     "iopub.status.idle": "2021-04-12T09:14:26.264726Z",
     "shell.execute_reply": "2021-04-12T09:14:26.265320Z"
    },
    "scrolled": true
   },
   "outputs": [
    {
     "data": {
      "text/plain": [
       "{'x1': {'x1': array([0.48323011, 0.48323011, 0.36340089, 0.36340089, 0.07910681,\n",
       "         0.07910681, 0.07244944, 0.07244944, 0.48727671, 0.48727671,\n",
       "         0.66488347, 0.66488347, 0.57597125, 0.57597125, 0.5053554 ,\n",
       "         0.5053554 , 0.45521569, 0.45521569, 0.27310388, 0.27310388,\n",
       "         0.0229288 , 0.0229288 , 0.81503827, 0.81503827, 0.90203241,\n",
       "         0.90203241, 0.15841747, 0.15841747, 0.32485462, 0.32485462,\n",
       "         0.09482795, 0.09482795, 0.70496428, 0.70496428, 0.5579777 ,\n",
       "         0.5579777 , 0.18462456, 0.18462456, 0.75063898, 0.75063898,\n",
       "         0.01841291, 0.01841291, 0.08847436, 0.08847436, 0.53917671,\n",
       "         0.53917671, 0.78847944, 0.78847944, 0.21045089, 0.21045089,\n",
       "         0.06468762, 0.06468762, 0.01899728, 0.01899728, 0.4240372 ,\n",
       "         0.4240372 , 0.246532  , 0.246532  , 0.2036017 , 0.2036017 ,\n",
       "         0.25492779, 0.25492779, 0.84426093, 0.84426093, 0.3192974 ,\n",
       "         0.3192974 , 0.64797233, 0.64797233, 0.67563608, 0.67563608,\n",
       "         0.60261651, 0.60261651, 0.48710185, 0.48710185, 0.98186499,\n",
       "         0.98186499, 0.81488219, 0.81488219, 0.31188512, 0.31188512,\n",
       "         0.8802607 , 0.8802607 , 0.66068305, 0.66068305, 0.20413258,\n",
       "         0.20413258, 0.42744486, 0.42744486, 0.7245918 , 0.7245918 ,\n",
       "         0.93270437, 0.93270437, 0.07939311, 0.07939311, 0.95792488,\n",
       "         0.95792488, 0.53704837, 0.53704837, 0.65585378, 0.65585378,\n",
       "         0.81723739, 0.81723739, 0.05937658, 0.05937658, 0.4432944 ,\n",
       "         0.4432944 , 0.40493957, 0.40493957, 0.93979834, 0.93979834,\n",
       "         0.26372697, 0.26372697, 0.6526783 , 0.6526783 , 0.53588069,\n",
       "         0.53588069, 0.34548725, 0.34548725, 0.24028123, 0.24028123,\n",
       "         0.53233393, 0.53233393, 0.860101  , 0.860101  , 0.76530047,\n",
       "         0.76530047, 0.75200538, 0.75200538, 0.64232509, 0.64232509,\n",
       "         0.31228909, 0.31228909, 0.74055093, 0.74055093, 0.18202627,\n",
       "         0.18202627, 0.02154507, 0.02154507, 0.36176411, 0.36176411,\n",
       "         0.26395125, 0.26395125, 0.03673223, 0.03673223, 0.84124907,\n",
       "         0.84124907, 0.45150972, 0.45150972, 0.22969715, 0.22969715,\n",
       "         0.36666111, 0.36666111, 0.40702349, 0.40702349, 0.182987  ,\n",
       "         0.182987  , 0.93523908, 0.93523908, 0.4004699 , 0.4004699 ,\n",
       "         0.00748225, 0.00748225, 0.69420971, 0.69420971, 0.20943978,\n",
       "         0.20943978, 0.84616397, 0.84616397, 0.47454108, 0.47454108,\n",
       "         0.0588319 , 0.0588319 , 0.9829284 , 0.9829284 , 0.62548968,\n",
       "         0.62548968, 0.60324224, 0.60324224, 0.14648722, 0.14648722,\n",
       "         0.73198695, 0.73198695, 0.17005837, 0.17005837, 0.84700452,\n",
       "         0.84700452, 0.00501742, 0.00501742, 0.08269462, 0.08269462,\n",
       "         0.0455592 , 0.0455592 , 0.14237412, 0.14237412, 0.69240748,\n",
       "         0.69240748, 0.77195925, 0.77195925, 0.88468866, 0.88468866])}}"
      ]
     },
     "execution_count": 1,
     "metadata": {},
     "output_type": "execute_result"
    }
   ],
   "source": [
    "ds = load_by_id(run_id_n)\n",
    "ds.get_parameter_data('x1')"
   ]
  },
  {
   "cell_type": "markdown",
   "metadata": {},
   "source": [
    "And a dataset stored as binary arrays"
   ]
  },
  {
   "cell_type": "code",
   "execution_count": 12,
   "metadata": {
    "execution": {
     "iopub.execute_input": "2021-04-12T09:14:26.269048Z",
     "iopub.status.busy": "2021-04-12T09:14:26.268445Z",
     "iopub.status.idle": "2021-04-12T09:14:26.328095Z",
     "shell.execute_reply": "2021-04-12T09:14:26.328519Z"
    },
    "scrolled": true
   },
   "outputs": [
    {
     "data": {
      "text/plain": [
       "{'x1': {'x1': array([[0.8117701 ],\n",
       "         [0.8117701 ],\n",
       "         [0.77314389],\n",
       "         [0.77314389],\n",
       "         [0.36923957],\n",
       "         [0.36923957],\n",
       "         [0.42865734],\n",
       "         [0.42865734],\n",
       "         [0.77689569],\n",
       "         [0.77689569],\n",
       "         [0.05952162],\n",
       "         [0.05952162],\n",
       "         [0.60945027],\n",
       "         [0.60945027],\n",
       "         [0.30398627],\n",
       "         [0.30398627],\n",
       "         [0.55374269],\n",
       "         [0.55374269],\n",
       "         [0.40855147],\n",
       "         [0.40855147],\n",
       "         [0.52696961],\n",
       "         [0.52696961],\n",
       "         [0.78912378],\n",
       "         [0.78912378],\n",
       "         [0.08008746],\n",
       "         [0.08008746],\n",
       "         [0.39310253],\n",
       "         [0.39310253],\n",
       "         [0.69296535],\n",
       "         [0.69296535],\n",
       "         [0.43557079],\n",
       "         [0.43557079],\n",
       "         [0.88603131],\n",
       "         [0.88603131],\n",
       "         [0.02655053],\n",
       "         [0.02655053],\n",
       "         [0.33330139],\n",
       "         [0.33330139],\n",
       "         [0.91067486],\n",
       "         [0.91067486],\n",
       "         [0.81822933],\n",
       "         [0.81822933],\n",
       "         [0.80928752],\n",
       "         [0.80928752],\n",
       "         [0.45793753],\n",
       "         [0.45793753],\n",
       "         [0.47413435],\n",
       "         [0.47413435],\n",
       "         [0.68400736],\n",
       "         [0.68400736],\n",
       "         [0.42436734],\n",
       "         [0.42436734],\n",
       "         [0.72512625],\n",
       "         [0.72512625],\n",
       "         [0.02405269],\n",
       "         [0.02405269],\n",
       "         [0.17103994],\n",
       "         [0.17103994],\n",
       "         [0.38438213],\n",
       "         [0.38438213],\n",
       "         [0.54123571],\n",
       "         [0.54123571],\n",
       "         [0.72121526],\n",
       "         [0.72121526],\n",
       "         [0.05757387],\n",
       "         [0.05757387],\n",
       "         [0.9993686 ],\n",
       "         [0.9993686 ],\n",
       "         [0.74994011],\n",
       "         [0.74994011],\n",
       "         [0.76261055],\n",
       "         [0.76261055],\n",
       "         [0.03344232],\n",
       "         [0.03344232],\n",
       "         [0.49512501],\n",
       "         [0.49512501],\n",
       "         [0.80119984],\n",
       "         [0.80119984],\n",
       "         [0.72269287],\n",
       "         [0.72269287],\n",
       "         [0.91534188],\n",
       "         [0.91534188],\n",
       "         [0.53717662],\n",
       "         [0.53717662],\n",
       "         [0.92131151],\n",
       "         [0.92131151],\n",
       "         [0.22448772],\n",
       "         [0.22448772],\n",
       "         [0.35186832],\n",
       "         [0.35186832],\n",
       "         [0.51359743],\n",
       "         [0.51359743],\n",
       "         [0.58928223],\n",
       "         [0.58928223],\n",
       "         [0.04803935],\n",
       "         [0.04803935],\n",
       "         [0.20553933],\n",
       "         [0.20553933],\n",
       "         [0.93188492],\n",
       "         [0.93188492],\n",
       "         [0.38431165],\n",
       "         [0.38431165],\n",
       "         [0.79744116],\n",
       "         [0.79744116],\n",
       "         [0.31141715],\n",
       "         [0.31141715],\n",
       "         [0.85237181],\n",
       "         [0.85237181],\n",
       "         [0.31177629],\n",
       "         [0.31177629],\n",
       "         [0.21760346],\n",
       "         [0.21760346],\n",
       "         [0.28056678],\n",
       "         [0.28056678],\n",
       "         [0.70493224],\n",
       "         [0.70493224],\n",
       "         [0.68936283],\n",
       "         [0.68936283],\n",
       "         [0.25142061],\n",
       "         [0.25142061],\n",
       "         [0.80583847],\n",
       "         [0.80583847],\n",
       "         [0.09396305],\n",
       "         [0.09396305],\n",
       "         [0.51193695],\n",
       "         [0.51193695],\n",
       "         [0.35065261],\n",
       "         [0.35065261],\n",
       "         [0.37526895],\n",
       "         [0.37526895],\n",
       "         [0.72357783],\n",
       "         [0.72357783],\n",
       "         [0.93208903],\n",
       "         [0.93208903],\n",
       "         [0.60110858],\n",
       "         [0.60110858],\n",
       "         [0.25024886],\n",
       "         [0.25024886],\n",
       "         [0.45233496],\n",
       "         [0.45233496],\n",
       "         [0.96733236],\n",
       "         [0.96733236],\n",
       "         [0.55893729],\n",
       "         [0.55893729],\n",
       "         [0.36785182],\n",
       "         [0.36785182],\n",
       "         [0.83960771],\n",
       "         [0.83960771],\n",
       "         [0.79514383],\n",
       "         [0.79514383],\n",
       "         [0.5657319 ],\n",
       "         [0.5657319 ],\n",
       "         [0.37067443],\n",
       "         [0.37067443],\n",
       "         [0.24895642],\n",
       "         [0.24895642],\n",
       "         [0.79395149],\n",
       "         [0.79395149],\n",
       "         [0.29890527],\n",
       "         [0.29890527],\n",
       "         [0.56961878],\n",
       "         [0.56961878],\n",
       "         [0.32771069],\n",
       "         [0.32771069],\n",
       "         [0.81383178],\n",
       "         [0.81383178],\n",
       "         [0.95327677],\n",
       "         [0.95327677],\n",
       "         [0.29496114],\n",
       "         [0.29496114],\n",
       "         [0.25360396],\n",
       "         [0.25360396],\n",
       "         [0.32443835],\n",
       "         [0.32443835],\n",
       "         [0.07990118],\n",
       "         [0.07990118],\n",
       "         [0.00261097],\n",
       "         [0.00261097],\n",
       "         [0.51128172],\n",
       "         [0.51128172],\n",
       "         [0.78159415],\n",
       "         [0.78159415],\n",
       "         [0.98341585],\n",
       "         [0.98341585],\n",
       "         [0.39583241],\n",
       "         [0.39583241],\n",
       "         [0.38460058],\n",
       "         [0.38460058],\n",
       "         [0.27385006],\n",
       "         [0.27385006],\n",
       "         [0.31720875],\n",
       "         [0.31720875],\n",
       "         [0.65744498],\n",
       "         [0.65744498],\n",
       "         [0.82420178],\n",
       "         [0.82420178],\n",
       "         [0.88534096],\n",
       "         [0.88534096],\n",
       "         [0.38457356],\n",
       "         [0.38457356]])}}"
      ]
     },
     "execution_count": 1,
     "metadata": {},
     "output_type": "execute_result"
    }
   ],
   "source": [
    "ds = load_by_id(run_id_a)\n",
    "ds.get_parameter_data('x1')"
   ]
  },
  {
   "cell_type": "code",
   "execution_count": null,
   "metadata": {},
   "outputs": [],
   "source": []
  }
 ],
 "metadata": {
  "kernelspec": {
   "display_name": "Python 3",
   "language": "python",
   "name": "python3"
  },
  "language_info": {
   "codemirror_mode": {
    "name": "ipython",
    "version": 3
   },
   "file_extension": ".py",
   "mimetype": "text/x-python",
   "name": "python",
   "nbconvert_exporter": "python",
   "pygments_lexer": "ipython3",
   "version": "3.7.10"
  },
  "nbsphinx": {
   "timeout": 600
  },
  "toc": {
   "base_numbering": 1,
   "nav_menu": {},
   "number_sections": true,
   "sideBar": true,
   "skip_h1_title": false,
   "title_cell": "Table of Contents",
   "title_sidebar": "Contents",
   "toc_cell": false,
   "toc_position": {},
   "toc_section_display": true,
   "toc_window_display": false
  },
  "varInspector": {
   "cols": {
    "lenName": 16,
    "lenType": 16,
    "lenVar": 40
   },
   "kernels_config": {
    "python": {
     "delete_cmd_postfix": "",
     "delete_cmd_prefix": "del ",
     "library": "var_list.py",
     "varRefreshCmd": "print(var_dic_list())"
    },
    "r": {
     "delete_cmd_postfix": ") ",
     "delete_cmd_prefix": "rm(",
     "library": "var_list.r",
     "varRefreshCmd": "cat(var_dic_list()) "
    }
   },
   "types_to_exclude": [
    "module",
    "function",
    "builtin_function_or_method",
    "instance",
    "_Feature"
   ],
   "window_display": false
  }
 },
 "nbformat": 4,
 "nbformat_minor": 2
}
