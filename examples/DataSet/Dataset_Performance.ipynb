{
 "cells": [
  {
   "cell_type": "markdown",
   "metadata": {},
   "source": [
    "# DataSet Performance\n",
    "\n",
    "This notebook shows the trade-off between inserting data into a database row-by-row and as binary blobs. Inserting the data row-by-row means that we have direct access to all the data and may perform queries directly on the values of the data. On the other hand, as we shall see, this is much slower than inserting the data directly as binary blobs."
   ]
  },
  {
   "cell_type": "markdown",
   "metadata": {},
   "source": [
    "First, we choose a new location for the database to ensure that we don't add a bunch of benchmarking data to the default one."
   ]
  },
  {
   "cell_type": "code",
   "execution_count": 1,
   "metadata": {
    "execution": {
     "iopub.execute_input": "2021-04-06T12:58:21.696982Z",
     "iopub.status.busy": "2021-04-06T12:58:21.696380Z",
     "iopub.status.idle": "2021-04-06T12:58:22.710388Z",
     "shell.execute_reply": "2021-04-06T12:58:22.709205Z"
    }
   },
   "outputs": [
    {
     "name": "stdout",
     "output_type": "stream",
     "text": [
      "Logging hadn't been started.\n",
      "Activating auto-logging. Current session state plus future input saved.\n",
      "Filename       : /home/runner/.qcodes/logs/command_history.log\n",
      "Mode           : append\n",
      "Output logging : True\n",
      "Raw input log  : False\n",
      "Timestamping   : True\n",
      "State          : active\n"
     ]
    },
    {
     "name": "stdout",
     "output_type": "stream",
     "text": [
      "Qcodes Logfile : /home/runner/.qcodes/logs/210406-4742-qcodes.log\n"
     ]
    }
   ],
   "source": [
    "import os\n",
    "cwd = os.getcwd()\n",
    "import qcodes as qc\n",
    "qc.config[\"core\"][\"db_location\"] = os.path.join(cwd, 'testing.db')\n"
   ]
  },
  {
   "cell_type": "code",
   "execution_count": 2,
   "metadata": {
    "execution": {
     "iopub.execute_input": "2021-04-06T12:58:22.717235Z",
     "iopub.status.busy": "2021-04-06T12:58:22.716003Z",
     "iopub.status.idle": "2021-04-06T12:58:22.972736Z",
     "shell.execute_reply": "2021-04-06T12:58:22.972102Z"
    }
   },
   "outputs": [],
   "source": [
    "%matplotlib inline\n",
    "import time\n",
    "import matplotlib.pyplot as plt\n",
    "import numpy as np\n",
    "\n",
    "import qcodes as qc\n",
    "from qcodes.instrument.parameter import ManualParameter\n",
    "from qcodes.dataset.experiment_container import (Experiment,\n",
    "                                                 load_last_experiment,\n",
    "                                                 new_experiment)\n",
    "from qcodes.dataset.sqlite.database import initialise_database\n",
    "from qcodes import load_or_create_experiment\n",
    "from qcodes.dataset.measurements import Measurement"
   ]
  },
  {
   "cell_type": "code",
   "execution_count": 3,
   "metadata": {
    "execution": {
     "iopub.execute_input": "2021-04-06T12:58:22.977777Z",
     "iopub.status.busy": "2021-04-06T12:58:22.976508Z",
     "iopub.status.idle": "2021-04-06T12:58:23.053217Z",
     "shell.execute_reply": "2021-04-06T12:58:23.052660Z"
    }
   },
   "outputs": [
    {
     "name": "stdout",
     "output_type": "stream",
     "text": [
      "\r",
      "0it [00:00, ?it/s]"
     ]
    },
    {
     "name": "stdout",
     "output_type": "stream",
     "text": [
      "\r",
      "Upgrading database; v0 -> v1: : 0it [00:00, ?it/s]"
     ]
    },
    {
     "name": "stdout",
     "output_type": "stream",
     "text": [
      "\r",
      "Upgrading database; v0 -> v1: : 0it [00:00, ?it/s]"
     ]
    },
    {
     "name": "stdout",
     "output_type": "stream",
     "text": [
      "\n",
      "\r",
      "  0%|          | 0/1 [00:00<?, ?it/s]"
     ]
    },
    {
     "name": "stdout",
     "output_type": "stream",
     "text": [
      "\r",
      "Upgrading database; v1 -> v2:   0%|          | 0/1 [00:00<?, ?it/s]"
     ]
    },
    {
     "name": "stdout",
     "output_type": "stream",
     "text": [
      "\r",
      "Upgrading database; v1 -> v2: 100%|██████████| 1/1 [00:00<00:00, 523.44it/s]"
     ]
    },
    {
     "name": "stdout",
     "output_type": "stream",
     "text": [
      "\n",
      "\r",
      "0it [00:00, ?it/s]"
     ]
    },
    {
     "name": "stdout",
     "output_type": "stream",
     "text": [
      "\r",
      "Upgrading database; v2 -> v3: : 0it [00:00, ?it/s]"
     ]
    },
    {
     "name": "stdout",
     "output_type": "stream",
     "text": [
      "\r",
      "Upgrading database; v2 -> v3: : 0it [00:00, ?it/s]"
     ]
    },
    {
     "name": "stdout",
     "output_type": "stream",
     "text": [
      "\n",
      "\r",
      "0it [00:00, ?it/s]"
     ]
    },
    {
     "name": "stdout",
     "output_type": "stream",
     "text": [
      "\r",
      "Upgrading database; v3 -> v4: : 0it [00:00, ?it/s]"
     ]
    },
    {
     "name": "stdout",
     "output_type": "stream",
     "text": [
      "\r",
      "Upgrading database; v3 -> v4: : 0it [00:00, ?it/s]"
     ]
    },
    {
     "name": "stdout",
     "output_type": "stream",
     "text": [
      "\n",
      "\r",
      "  0%|          | 0/1 [00:00<?, ?it/s]"
     ]
    },
    {
     "name": "stdout",
     "output_type": "stream",
     "text": [
      "\r",
      "Upgrading database; v4 -> v5:   0%|          | 0/1 [00:00<?, ?it/s]"
     ]
    },
    {
     "name": "stdout",
     "output_type": "stream",
     "text": [
      "\r",
      "Upgrading database; v4 -> v5: 100%|██████████| 1/1 [00:00<00:00, 576.70it/s]"
     ]
    },
    {
     "name": "stdout",
     "output_type": "stream",
     "text": [
      "\n",
      "\r",
      "0it [00:00, ?it/s]"
     ]
    },
    {
     "name": "stdout",
     "output_type": "stream",
     "text": [
      "\r",
      "Upgrading database; v5 -> v6: : 0it [00:00, ?it/s]"
     ]
    },
    {
     "name": "stdout",
     "output_type": "stream",
     "text": [
      "\r",
      "Upgrading database; v5 -> v6: : 0it [00:00, ?it/s]"
     ]
    },
    {
     "name": "stdout",
     "output_type": "stream",
     "text": [
      "\n",
      "\r",
      "  0%|          | 0/1 [00:00<?, ?it/s]"
     ]
    },
    {
     "name": "stdout",
     "output_type": "stream",
     "text": [
      "\r",
      "Upgrading database; v6 -> v7:   0%|          | 0/1 [00:00<?, ?it/s]"
     ]
    },
    {
     "name": "stdout",
     "output_type": "stream",
     "text": [
      "\r",
      "Upgrading database; v6 -> v7: 100%|██████████| 1/1 [00:00<00:00, 276.82it/s]"
     ]
    },
    {
     "name": "stdout",
     "output_type": "stream",
     "text": [
      "\n",
      "\r",
      "  0%|          | 0/1 [00:00<?, ?it/s]"
     ]
    },
    {
     "name": "stdout",
     "output_type": "stream",
     "text": [
      "\r",
      "Upgrading database; v7 -> v8:   0%|          | 0/1 [00:00<?, ?it/s]"
     ]
    },
    {
     "name": "stdout",
     "output_type": "stream",
     "text": [
      "\r",
      "Upgrading database; v7 -> v8: 100%|██████████| 1/1 [00:00<00:00, 549.21it/s]"
     ]
    },
    {
     "name": "stdout",
     "output_type": "stream",
     "text": [
      "\n",
      "\r",
      "  0%|          | 0/1 [00:00<?, ?it/s]"
     ]
    },
    {
     "name": "stdout",
     "output_type": "stream",
     "text": [
      "\r",
      "Upgrading database; v8 -> v9:   0%|          | 0/1 [00:00<?, ?it/s]"
     ]
    },
    {
     "name": "stdout",
     "output_type": "stream",
     "text": [
      "\r",
      "Upgrading database; v8 -> v9: 100%|██████████| 1/1 [00:00<00:00, 434.24it/s]"
     ]
    },
    {
     "name": "stdout",
     "output_type": "stream",
     "text": [
      "\n"
     ]
    }
   ],
   "source": [
    "initialise_database()\n",
    "exp = load_or_create_experiment(experiment_name='tutorial_exp', sample_name=\"no sample\")"
   ]
  },
  {
   "cell_type": "markdown",
   "metadata": {},
   "source": [
    "Here, we define a simple function to benchmark the time it takes to insert n points with either numeric or array data type.\n",
    "We will compare both the time used to call ``add_result`` and the time used for the full measurement."
   ]
  },
  {
   "cell_type": "code",
   "execution_count": 4,
   "metadata": {
    "execution": {
     "iopub.execute_input": "2021-04-06T12:58:23.061297Z",
     "iopub.status.busy": "2021-04-06T12:58:23.060699Z",
     "iopub.status.idle": "2021-04-06T12:58:23.065118Z",
     "shell.execute_reply": "2021-04-06T12:58:23.064193Z"
    }
   },
   "outputs": [],
   "source": [
    "def insert_data(paramtype, npoints, nreps=1):\n",
    "\n",
    "    meas = Measurement(exp=exp)\n",
    "\n",
    "    x1 = ManualParameter('x1')\n",
    "    x2 = ManualParameter('x2')\n",
    "    x3 = ManualParameter('x3')\n",
    "    y1 = ManualParameter('y1')\n",
    "    y2 = ManualParameter('y2')\n",
    "\n",
    "    meas.register_parameter(x1, paramtype=paramtype)\n",
    "    meas.register_parameter(x2, paramtype=paramtype)\n",
    "    meas.register_parameter(x3, paramtype=paramtype)\n",
    "    meas.register_parameter(y1, setpoints=[x1, x2, x3],\n",
    "                            paramtype=paramtype)\n",
    "    meas.register_parameter(y2, setpoints=[x1, x2, x3],\n",
    "                            paramtype=paramtype)\n",
    "    start = time.perf_counter()\n",
    "    with meas.run() as datasaver:\n",
    "        start_adding = time.perf_counter()\n",
    "        for i in range(nreps):\n",
    "            datasaver.add_result((x1, np.random.rand(npoints)),\n",
    "                                 (x2, np.random.rand(npoints)),\n",
    "                                 (x3, np.random.rand(npoints)),\n",
    "                                 (y1, np.random.rand(npoints)),\n",
    "                                 (y2, np.random.rand(npoints)))\n",
    "        stop_adding = time.perf_counter()\n",
    "        run_id = datasaver.run_id\n",
    "    stop = time.perf_counter()\n",
    "    tot_time = stop - start\n",
    "    add_time = stop_adding - start_adding\n",
    "    return tot_time, add_time, run_id"
   ]
  },
  {
   "cell_type": "markdown",
   "metadata": {},
   "source": [
    "## Comparison between numeric/array data and binary blob"
   ]
  },
  {
   "cell_type": "markdown",
   "metadata": {},
   "source": [
    "### Case1: Short experiment time"
   ]
  },
  {
   "cell_type": "code",
   "execution_count": 5,
   "metadata": {
    "execution": {
     "iopub.execute_input": "2021-04-06T12:58:23.073189Z",
     "iopub.status.busy": "2021-04-06T12:58:23.072195Z",
     "iopub.status.idle": "2021-04-06T12:58:23.863913Z",
     "shell.execute_reply": "2021-04-06T12:58:23.863448Z"
    }
   },
   "outputs": [
    {
     "name": "stdout",
     "output_type": "stream",
     "text": [
      "Starting experimental run with id: 1. \n",
      "Starting experimental run with id: 2. \n",
      "Starting experimental run with id: 3. \n",
      "Starting experimental run with id: 4. \n",
      "Starting experimental run with id: 5. \n"
     ]
    },
    {
     "name": "stdout",
     "output_type": "stream",
     "text": [
      "Starting experimental run with id: 6. \n"
     ]
    },
    {
     "name": "stdout",
     "output_type": "stream",
     "text": [
      "Starting experimental run with id: 7. \n"
     ]
    },
    {
     "name": "stdout",
     "output_type": "stream",
     "text": [
      "Starting experimental run with id: 8. \n",
      "Starting experimental run with id: 9. \n"
     ]
    },
    {
     "name": "stdout",
     "output_type": "stream",
     "text": [
      "Starting experimental run with id: 10. \n",
      "Starting experimental run with id: 11. \n"
     ]
    },
    {
     "name": "stdout",
     "output_type": "stream",
     "text": [
      "Starting experimental run with id: 12. \n",
      "Starting experimental run with id: 13. \n",
      "Starting experimental run with id: 14. \n"
     ]
    }
   ],
   "source": [
    "sizes = [1,500,1000,2000,3000,4000,5000]\n",
    "t_numeric = []\n",
    "t_numeric_add = []\n",
    "t_array = []\n",
    "t_array_add = []\n",
    "for size in sizes:\n",
    "    tn, tna, run_id_n =  insert_data('numeric', size)\n",
    "    t_numeric.append(tn)\n",
    "    t_numeric_add.append(tna)\n",
    "\n",
    "    ta, taa, run_id_a =  insert_data('array', size)\n",
    "    t_array.append(ta)\n",
    "    t_array_add.append(taa)"
   ]
  },
  {
   "cell_type": "code",
   "execution_count": 6,
   "metadata": {
    "execution": {
     "iopub.execute_input": "2021-04-06T12:58:23.882714Z",
     "iopub.status.busy": "2021-04-06T12:58:23.867594Z",
     "iopub.status.idle": "2021-04-06T12:58:24.113210Z",
     "shell.execute_reply": "2021-04-06T12:58:24.112274Z"
    }
   },
   "outputs": [
    {
     "data": {
      "image/png": "[encoded data removed]",
      "text/plain": [
       "<Figure size 432x288 with 1 Axes>"
      ]
     },
     "metadata": {
      "needs_background": "light"
     },
     "output_type": "display_data"
    }
   ],
   "source": [
    "fig, ax = plt.subplots(1,1)\n",
    "ax.plot(sizes, t_numeric, 'o-', label='Inserting row-by-row')\n",
    "ax.plot(sizes, t_numeric_add, 'o-', label='Inserting row-by-row: add_result only')\n",
    "ax.plot(sizes, t_array, 'd-', label='Inserting as binary blob')\n",
    "ax.plot(sizes, t_array_add, 'd-', label='Inserting as binary blob: add_result only')\n",
    "ax.legend()\n",
    "ax.set_xlabel('Array length')\n",
    "ax.set_ylabel('Time (s)')\n",
    "fig.tight_layout()"
   ]
  },
  {
   "cell_type": "markdown",
   "metadata": {},
   "source": [
    "As shown in the latter figure, the time to setup and and close the experiment is approximately 0.4 sec. In case of small array sizes, the difference between inserting values of data as arrays and inserting them row-by-row is relatively unimportant. At larger array sizes, i.e. above 10000 points, the cost of writing data as individual datapoints starts to become important.\n"
   ]
  },
  {
   "cell_type": "markdown",
   "metadata": {},
   "source": [
    "### Case2: Long experiment time "
   ]
  },
  {
   "cell_type": "code",
   "execution_count": 7,
   "metadata": {
    "execution": {
     "iopub.execute_input": "2021-04-06T12:58:24.120515Z",
     "iopub.status.busy": "2021-04-06T12:58:24.119219Z",
     "iopub.status.idle": "2021-04-06T12:59:15.232233Z",
     "shell.execute_reply": "2021-04-06T12:59:15.231212Z"
    }
   },
   "outputs": [
    {
     "name": "stdout",
     "output_type": "stream",
     "text": [
      "Starting experimental run with id: 15. \n",
      "Starting experimental run with id: 16. \n",
      "Starting experimental run with id: 17. \n"
     ]
    },
    {
     "name": "stdout",
     "output_type": "stream",
     "text": [
      "Starting experimental run with id: 18. \n",
      "Starting experimental run with id: 19. \n"
     ]
    },
    {
     "name": "stdout",
     "output_type": "stream",
     "text": [
      "Starting experimental run with id: 20. \n"
     ]
    },
    {
     "name": "stdout",
     "output_type": "stream",
     "text": [
      "Starting experimental run with id: 21. \n"
     ]
    },
    {
     "name": "stdout",
     "output_type": "stream",
     "text": [
      "Starting experimental run with id: 22. \n"
     ]
    },
    {
     "name": "stdout",
     "output_type": "stream",
     "text": [
      "Starting experimental run with id: 23. \n"
     ]
    },
    {
     "name": "stdout",
     "output_type": "stream",
     "text": [
      "Starting experimental run with id: 24. \n"
     ]
    },
    {
     "name": "stdout",
     "output_type": "stream",
     "text": [
      "Starting experimental run with id: 25. \n"
     ]
    },
    {
     "name": "stdout",
     "output_type": "stream",
     "text": [
      "Starting experimental run with id: 26. \n"
     ]
    },
    {
     "name": "stdout",
     "output_type": "stream",
     "text": [
      "Starting experimental run with id: 27. \n"
     ]
    },
    {
     "name": "stdout",
     "output_type": "stream",
     "text": [
      "Starting experimental run with id: 28. \n"
     ]
    }
   ],
   "source": [
    "sizes = [1,500,1000,2000,3000,4000,5000]\n",
    "nreps = 100\n",
    "t_numeric = []\n",
    "t_numeric_add = []\n",
    "t_numeric_run_ids = []\n",
    "t_array = []\n",
    "t_array_add = []\n",
    "t_array_run_ids = []\n",
    "for size in sizes:\n",
    "    tn, tna, run_id_n =  insert_data('numeric', size, nreps=nreps)\n",
    "    t_numeric.append(tn)\n",
    "    t_numeric_add.append(tna)\n",
    "    t_numeric_run_ids.append(run_id_n)\n",
    "\n",
    "    ta, taa, run_id_a =  insert_data('array', size, nreps=nreps)\n",
    "    t_array.append(ta)\n",
    "    t_array_add.append(taa)\n",
    "    t_array_run_ids.append(run_id_a)"
   ]
  },
  {
   "cell_type": "code",
   "execution_count": 8,
   "metadata": {
    "execution": {
     "iopub.execute_input": "2021-04-06T12:59:15.286395Z",
     "iopub.status.busy": "2021-04-06T12:59:15.265970Z",
     "iopub.status.idle": "2021-04-06T12:59:15.463574Z",
     "shell.execute_reply": "2021-04-06T12:59:15.464047Z"
    },
    "scrolled": true
   },
   "outputs": [
    {
     "data": {
      "image/png": "[encoded data removed]",
      "text/plain": [
       "<Figure size 432x288 with 1 Axes>"
      ]
     },
     "metadata": {
      "needs_background": "light"
     },
     "output_type": "display_data"
    }
   ],
   "source": [
    "fig, ax = plt.subplots(1,1)\n",
    "ax.plot(sizes, t_numeric, 'o-', label='Inserting row-by-row')\n",
    "ax.plot(sizes, t_numeric_add, 'o-', label='Inserting row-by-row: add_result only')\n",
    "ax.plot(sizes, t_array, 'd-', label='Inserting as binary blob')\n",
    "ax.plot(sizes, t_array_add, 'd-', label='Inserting as binary blob: add_result only')\n",
    "ax.legend()\n",
    "ax.set_xlabel('Array length')\n",
    "ax.set_ylabel('Time (s)')\n",
    "fig.tight_layout()"
   ]
  },
  {
   "cell_type": "markdown",
   "metadata": {},
   "source": [
    "However, as we increase the length of the experiment, as seen here by repeating the insertion 100 times, we see a big difference between inserting values of the data row-by-row and inserting it as a binary blob."
   ]
  },
  {
   "cell_type": "markdown",
   "metadata": {},
   "source": [
    "## Loading the data "
   ]
  },
  {
   "cell_type": "code",
   "execution_count": 9,
   "metadata": {
    "execution": {
     "iopub.execute_input": "2021-04-06T12:59:15.468341Z",
     "iopub.status.busy": "2021-04-06T12:59:15.467402Z",
     "iopub.status.idle": "2021-04-06T12:59:15.470635Z",
     "shell.execute_reply": "2021-04-06T12:59:15.471082Z"
    }
   },
   "outputs": [],
   "source": [
    "from qcodes.dataset.data_set import load_by_id\n",
    "from qcodes.dataset.data_export import get_data_by_id"
   ]
  },
  {
   "cell_type": "markdown",
   "metadata": {},
   "source": [
    "As usual you can load the data by using the ``load_by_id`` function but you will notice that the different storage methods\n",
    "are reflected in shape of the data as it is retrieved. "
   ]
  },
  {
   "cell_type": "code",
   "execution_count": 10,
   "metadata": {
    "execution": {
     "iopub.execute_input": "2021-04-06T12:59:15.476538Z",
     "iopub.status.busy": "2021-04-06T12:59:15.475207Z",
     "iopub.status.idle": "2021-04-06T12:59:15.477268Z",
     "shell.execute_reply": "2021-04-06T12:59:15.477768Z"
    }
   },
   "outputs": [],
   "source": [
    "run_id_n = t_numeric_run_ids[0]\n",
    "run_id_a = t_array_run_ids[0]"
   ]
  },
  {
   "cell_type": "code",
   "execution_count": 11,
   "metadata": {
    "execution": {
     "iopub.execute_input": "2021-04-06T12:59:15.482130Z",
     "iopub.status.busy": "2021-04-06T12:59:15.481378Z",
     "iopub.status.idle": "2021-04-06T12:59:15.491071Z",
     "shell.execute_reply": "2021-04-06T12:59:15.491531Z"
    },
    "scrolled": true
   },
   "outputs": [
    {
     "data": {
      "text/plain": [
       "{'x1': {'x1': array([0.2240482 , 0.2240482 , 0.44026465, 0.44026465, 0.54048357,\n",
       "         0.54048357, 0.08708027, 0.08708027, 0.45701148, 0.45701148,\n",
       "         0.52147448, 0.52147448, 0.5611499 , 0.5611499 , 0.5035553 ,\n",
       "         0.5035553 , 0.27938408, 0.27938408, 0.22567569, 0.22567569,\n",
       "         0.36317095, 0.36317095, 0.50601027, 0.50601027, 0.86980978,\n",
       "         0.86980978, 0.34564571, 0.34564571, 0.73096093, 0.73096093,\n",
       "         0.07554584, 0.07554584, 0.78665151, 0.78665151, 0.43394133,\n",
       "         0.43394133, 0.88207564, 0.88207564, 0.60358201, 0.60358201,\n",
       "         0.76012541, 0.76012541, 0.21340736, 0.21340736, 0.00421294,\n",
       "         0.00421294, 0.31829124, 0.31829124, 0.51810499, 0.51810499,\n",
       "         0.31983805, 0.31983805, 0.22969459, 0.22969459, 0.35554641,\n",
       "         0.35554641, 0.44666138, 0.44666138, 0.31938464, 0.31938464,\n",
       "         0.5826711 , 0.5826711 , 0.91210624, 0.91210624, 0.03071362,\n",
       "         0.03071362, 0.60708327, 0.60708327, 0.51308935, 0.51308935,\n",
       "         0.53140192, 0.53140192, 0.40417989, 0.40417989, 0.15876447,\n",
       "         0.15876447, 0.77768339, 0.77768339, 0.20622665, 0.20622665,\n",
       "         0.76659676, 0.76659676, 0.85532365, 0.85532365, 0.56386038,\n",
       "         0.56386038, 0.3012011 , 0.3012011 , 0.53420713, 0.53420713,\n",
       "         0.73936867, 0.73936867, 0.74239046, 0.74239046, 0.49974772,\n",
       "         0.49974772, 0.42731952, 0.42731952, 0.56301371, 0.56301371,\n",
       "         0.70066892, 0.70066892, 0.83409099, 0.83409099, 0.12586747,\n",
       "         0.12586747, 0.14409812, 0.14409812, 0.43446249, 0.43446249,\n",
       "         0.13791394, 0.13791394, 0.85235723, 0.85235723, 0.48238113,\n",
       "         0.48238113, 0.34006256, 0.34006256, 0.07990504, 0.07990504,\n",
       "         0.71437576, 0.71437576, 0.83357211, 0.83357211, 0.97352718,\n",
       "         0.97352718, 0.58971606, 0.58971606, 0.61383018, 0.61383018,\n",
       "         0.25202506, 0.25202506, 0.02537809, 0.02537809, 0.48688598,\n",
       "         0.48688598, 0.40921928, 0.40921928, 0.14131975, 0.14131975,\n",
       "         0.57525694, 0.57525694, 0.6130438 , 0.6130438 , 0.43699238,\n",
       "         0.43699238, 0.43546748, 0.43546748, 0.83137549, 0.83137549,\n",
       "         0.20807297, 0.20807297, 0.51420405, 0.51420405, 0.91666182,\n",
       "         0.91666182, 0.63153479, 0.63153479, 0.46944967, 0.46944967,\n",
       "         0.86423676, 0.86423676, 0.54634347, 0.54634347, 0.1546337 ,\n",
       "         0.1546337 , 0.62140806, 0.62140806, 0.19241191, 0.19241191,\n",
       "         0.19975271, 0.19975271, 0.20496157, 0.20496157, 0.60584103,\n",
       "         0.60584103, 0.21520587, 0.21520587, 0.4696847 , 0.4696847 ,\n",
       "         0.62524231, 0.62524231, 0.5720709 , 0.5720709 , 0.30650079,\n",
       "         0.30650079, 0.25208502, 0.25208502, 0.50043313, 0.50043313,\n",
       "         0.81867912, 0.81867912, 0.17044892, 0.17044892, 0.59316959,\n",
       "         0.59316959, 0.85473727, 0.85473727, 0.37368281, 0.37368281])}}"
      ]
     },
     "execution_count": 1,
     "metadata": {},
     "output_type": "execute_result"
    }
   ],
   "source": [
    "ds = load_by_id(run_id_n)\n",
    "ds.get_parameter_data('x1')"
   ]
  },
  {
   "cell_type": "markdown",
   "metadata": {},
   "source": [
    "And a dataset stored as binary arrays"
   ]
  },
  {
   "cell_type": "code",
   "execution_count": 12,
   "metadata": {
    "execution": {
     "iopub.execute_input": "2021-04-06T12:59:15.495665Z",
     "iopub.status.busy": "2021-04-06T12:59:15.494813Z",
     "iopub.status.idle": "2021-04-06T12:59:15.555449Z",
     "shell.execute_reply": "2021-04-06T12:59:15.556046Z"
    },
    "scrolled": true
   },
   "outputs": [
    {
     "data": {
      "text/plain": [
       "{'x1': {'x1': array([[0.26328215],\n",
       "         [0.26328215],\n",
       "         [0.88826184],\n",
       "         [0.88826184],\n",
       "         [0.82583107],\n",
       "         [0.82583107],\n",
       "         [0.82841185],\n",
       "         [0.82841185],\n",
       "         [0.76293615],\n",
       "         [0.76293615],\n",
       "         [0.3985543 ],\n",
       "         [0.3985543 ],\n",
       "         [0.68305112],\n",
       "         [0.68305112],\n",
       "         [0.61300124],\n",
       "         [0.61300124],\n",
       "         [0.73953465],\n",
       "         [0.73953465],\n",
       "         [0.29002369],\n",
       "         [0.29002369],\n",
       "         [0.21514763],\n",
       "         [0.21514763],\n",
       "         [0.05613074],\n",
       "         [0.05613074],\n",
       "         [0.40142036],\n",
       "         [0.40142036],\n",
       "         [0.73576018],\n",
       "         [0.73576018],\n",
       "         [0.0993875 ],\n",
       "         [0.0993875 ],\n",
       "         [0.11820426],\n",
       "         [0.11820426],\n",
       "         [0.43483508],\n",
       "         [0.43483508],\n",
       "         [0.84853939],\n",
       "         [0.84853939],\n",
       "         [0.41185569],\n",
       "         [0.41185569],\n",
       "         [0.83469229],\n",
       "         [0.83469229],\n",
       "         [0.82580624],\n",
       "         [0.82580624],\n",
       "         [0.27511443],\n",
       "         [0.27511443],\n",
       "         [0.5056734 ],\n",
       "         [0.5056734 ],\n",
       "         [0.97801647],\n",
       "         [0.97801647],\n",
       "         [0.8782303 ],\n",
       "         [0.8782303 ],\n",
       "         [0.19980018],\n",
       "         [0.19980018],\n",
       "         [0.61035741],\n",
       "         [0.61035741],\n",
       "         [0.50762862],\n",
       "         [0.50762862],\n",
       "         [0.11103648],\n",
       "         [0.11103648],\n",
       "         [0.28375038],\n",
       "         [0.28375038],\n",
       "         [0.25563289],\n",
       "         [0.25563289],\n",
       "         [0.92818009],\n",
       "         [0.92818009],\n",
       "         [0.84893791],\n",
       "         [0.84893791],\n",
       "         [0.63877162],\n",
       "         [0.63877162],\n",
       "         [0.5771952 ],\n",
       "         [0.5771952 ],\n",
       "         [0.80783618],\n",
       "         [0.80783618],\n",
       "         [0.40513875],\n",
       "         [0.40513875],\n",
       "         [0.04815253],\n",
       "         [0.04815253],\n",
       "         [0.85563804],\n",
       "         [0.85563804],\n",
       "         [0.92337404],\n",
       "         [0.92337404],\n",
       "         [0.09241506],\n",
       "         [0.09241506],\n",
       "         [0.34176009],\n",
       "         [0.34176009],\n",
       "         [0.53318202],\n",
       "         [0.53318202],\n",
       "         [0.78352177],\n",
       "         [0.78352177],\n",
       "         [0.08580915],\n",
       "         [0.08580915],\n",
       "         [0.98609839],\n",
       "         [0.98609839],\n",
       "         [0.89016783],\n",
       "         [0.89016783],\n",
       "         [0.70290381],\n",
       "         [0.70290381],\n",
       "         [0.39205113],\n",
       "         [0.39205113],\n",
       "         [0.43843412],\n",
       "         [0.43843412],\n",
       "         [0.70567719],\n",
       "         [0.70567719],\n",
       "         [0.22600146],\n",
       "         [0.22600146],\n",
       "         [0.89781375],\n",
       "         [0.89781375],\n",
       "         [0.23162265],\n",
       "         [0.23162265],\n",
       "         [0.21218693],\n",
       "         [0.21218693],\n",
       "         [0.95257939],\n",
       "         [0.95257939],\n",
       "         [0.16420922],\n",
       "         [0.16420922],\n",
       "         [0.1761736 ],\n",
       "         [0.1761736 ],\n",
       "         [0.74072876],\n",
       "         [0.74072876],\n",
       "         [0.95544968],\n",
       "         [0.95544968],\n",
       "         [0.59669147],\n",
       "         [0.59669147],\n",
       "         [0.35750947],\n",
       "         [0.35750947],\n",
       "         [0.03677455],\n",
       "         [0.03677455],\n",
       "         [0.57268356],\n",
       "         [0.57268356],\n",
       "         [0.92461558],\n",
       "         [0.92461558],\n",
       "         [0.09109896],\n",
       "         [0.09109896],\n",
       "         [0.06204616],\n",
       "         [0.06204616],\n",
       "         [0.82127904],\n",
       "         [0.82127904],\n",
       "         [0.72770746],\n",
       "         [0.72770746],\n",
       "         [0.17019603],\n",
       "         [0.17019603],\n",
       "         [0.67634308],\n",
       "         [0.67634308],\n",
       "         [0.69982163],\n",
       "         [0.69982163],\n",
       "         [0.04814237],\n",
       "         [0.04814237],\n",
       "         [0.96418848],\n",
       "         [0.96418848],\n",
       "         [0.36702561],\n",
       "         [0.36702561],\n",
       "         [0.21484865],\n",
       "         [0.21484865],\n",
       "         [0.34695379],\n",
       "         [0.34695379],\n",
       "         [0.21060092],\n",
       "         [0.21060092],\n",
       "         [0.56169152],\n",
       "         [0.56169152],\n",
       "         [0.58753904],\n",
       "         [0.58753904],\n",
       "         [0.16076928],\n",
       "         [0.16076928],\n",
       "         [0.71828671],\n",
       "         [0.71828671],\n",
       "         [0.12623575],\n",
       "         [0.12623575],\n",
       "         [0.05629297],\n",
       "         [0.05629297],\n",
       "         [0.10314166],\n",
       "         [0.10314166],\n",
       "         [0.46002944],\n",
       "         [0.46002944],\n",
       "         [0.55109958],\n",
       "         [0.55109958],\n",
       "         [0.35355613],\n",
       "         [0.35355613],\n",
       "         [0.2650328 ],\n",
       "         [0.2650328 ],\n",
       "         [0.34394074],\n",
       "         [0.34394074],\n",
       "         [0.18325304],\n",
       "         [0.18325304],\n",
       "         [0.01578727],\n",
       "         [0.01578727],\n",
       "         [0.03061402],\n",
       "         [0.03061402],\n",
       "         [0.9334969 ],\n",
       "         [0.9334969 ],\n",
       "         [0.65019017],\n",
       "         [0.65019017],\n",
       "         [0.80913456],\n",
       "         [0.80913456],\n",
       "         [0.50088314],\n",
       "         [0.50088314],\n",
       "         [0.27007177],\n",
       "         [0.27007177],\n",
       "         [0.04012896],\n",
       "         [0.04012896],\n",
       "         [0.84840914],\n",
       "         [0.84840914]])}}"
      ]
     },
     "execution_count": 1,
     "metadata": {},
     "output_type": "execute_result"
    }
   ],
   "source": [
    "ds = load_by_id(run_id_a)\n",
    "ds.get_parameter_data('x1')"
   ]
  },
  {
   "cell_type": "code",
   "execution_count": null,
   "metadata": {},
   "outputs": [],
   "source": []
  }
 ],
 "metadata": {
  "kernelspec": {
   "display_name": "Python 3",
   "language": "python",
   "name": "python3"
  },
  "language_info": {
   "codemirror_mode": {
    "name": "ipython",
    "version": 3
   },
   "file_extension": ".py",
   "mimetype": "text/x-python",
   "name": "python",
   "nbconvert_exporter": "python",
   "pygments_lexer": "ipython3",
   "version": "3.7.10"
  },
  "nbsphinx": {
   "timeout": 600
  },
  "toc": {
   "base_numbering": 1,
   "nav_menu": {},
   "number_sections": true,
   "sideBar": true,
   "skip_h1_title": false,
   "title_cell": "Table of Contents",
   "title_sidebar": "Contents",
   "toc_cell": false,
   "toc_position": {},
   "toc_section_display": true,
   "toc_window_display": false
  },
  "varInspector": {
   "cols": {
    "lenName": 16,
    "lenType": 16,
    "lenVar": 40
   },
   "kernels_config": {
    "python": {
     "delete_cmd_postfix": "",
     "delete_cmd_prefix": "del ",
     "library": "var_list.py",
     "varRefreshCmd": "print(var_dic_list())"
    },
    "r": {
     "delete_cmd_postfix": ") ",
     "delete_cmd_prefix": "rm(",
     "library": "var_list.r",
     "varRefreshCmd": "cat(var_dic_list()) "
    }
   },
   "types_to_exclude": [
    "module",
    "function",
    "builtin_function_or_method",
    "instance",
    "_Feature"
   ],
   "window_display": false
  }
 },
 "nbformat": 4,
 "nbformat_minor": 2
}
