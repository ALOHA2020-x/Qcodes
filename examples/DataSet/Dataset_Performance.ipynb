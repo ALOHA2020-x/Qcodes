{
 "cells": [
  {
   "cell_type": "markdown",
   "metadata": {},
   "source": [
    "# DataSet Performance\n",
    "\n",
    "This notebook shows the trade-off between inserting data into a database row-by-row and as binary blobs. Inserting the data row-by-row means that we have direct access to all the data and may perform queries directly on the values of the data. On the other hand, as we shall see, this is much slower than inserting the data directly as binary blobs."
   ]
  },
  {
   "cell_type": "markdown",
   "metadata": {},
   "source": [
    "First, we choose a new location for the database to ensure that we don't add a bunch of benchmarking data to the default one."
   ]
  },
  {
   "cell_type": "code",
   "execution_count": 1,
   "metadata": {
    "execution": {
     "iopub.execute_input": "2021-02-02T07:32:06.869401Z",
     "iopub.status.busy": "2021-02-02T07:32:06.868846Z",
     "iopub.status.idle": "2021-02-02T07:32:07.890597Z",
     "shell.execute_reply": "2021-02-02T07:32:07.891040Z"
    }
   },
   "outputs": [
    {
     "name": "stdout",
     "output_type": "stream",
     "text": [
      "Logging hadn't been started.\n",
      "Activating auto-logging. Current session state plus future input saved.\n",
      "Filename       : /home/vsts/.qcodes/logs/command_history.log\n",
      "Mode           : append\n",
      "Output logging : True\n",
      "Raw input log  : False\n",
      "Timestamping   : True\n",
      "State          : active\n"
     ]
    },
    {
     "name": "stdout",
     "output_type": "stream",
     "text": [
      "Qcodes Logfile : /home/vsts/.qcodes/logs/210202-14317-qcodes.log\n"
     ]
    }
   ],
   "source": [
    "import os\n",
    "cwd = os.getcwd()\n",
    "import qcodes as qc\n",
    "qc.config[\"core\"][\"db_location\"] = os.path.join(cwd, 'testing.db')\n"
   ]
  },
  {
   "cell_type": "code",
   "execution_count": 2,
   "metadata": {
    "execution": {
     "iopub.execute_input": "2021-02-02T07:32:07.898488Z",
     "iopub.status.busy": "2021-02-02T07:32:07.896954Z",
     "iopub.status.idle": "2021-02-02T07:32:08.084621Z",
     "shell.execute_reply": "2021-02-02T07:32:08.083687Z"
    }
   },
   "outputs": [],
   "source": [
    "%matplotlib inline\n",
    "import time\n",
    "import matplotlib.pyplot as plt\n",
    "import numpy as np\n",
    "\n",
    "import qcodes as qc\n",
    "from qcodes.instrument.parameter import ManualParameter\n",
    "from qcodes.dataset.experiment_container import (Experiment,\n",
    "                                                 load_last_experiment,\n",
    "                                                 new_experiment)\n",
    "from qcodes.dataset.sqlite.database import initialise_database\n",
    "from qcodes import load_or_create_experiment\n",
    "from qcodes.dataset.measurements import Measurement"
   ]
  },
  {
   "cell_type": "code",
   "execution_count": 3,
   "metadata": {
    "execution": {
     "iopub.execute_input": "2021-02-02T07:32:08.088552Z",
     "iopub.status.busy": "2021-02-02T07:32:08.088009Z",
     "iopub.status.idle": "2021-02-02T07:32:08.201685Z",
     "shell.execute_reply": "2021-02-02T07:32:08.201152Z"
    }
   },
   "outputs": [
    {
     "name": "stdout",
     "output_type": "stream",
     "text": [
      "\r",
      "0it [00:00, ?it/s]"
     ]
    },
    {
     "name": "stdout",
     "output_type": "stream",
     "text": [
      "\r",
      "Upgrading database; v0 -> v1: : 0it [00:00, ?it/s]"
     ]
    },
    {
     "name": "stdout",
     "output_type": "stream",
     "text": [
      "\r",
      "Upgrading database; v0 -> v1: : 0it [00:00, ?it/s]"
     ]
    },
    {
     "name": "stdout",
     "output_type": "stream",
     "text": [
      "\n",
      "\r",
      "  0%|          | 0/1 [00:00<?, ?it/s]"
     ]
    },
    {
     "name": "stdout",
     "output_type": "stream",
     "text": [
      "\r",
      "Upgrading database; v1 -> v2:   0%|          | 0/1 [00:00<?, ?it/s]"
     ]
    },
    {
     "name": "stdout",
     "output_type": "stream",
     "text": [
      "\r",
      "Upgrading database; v1 -> v2: 100%|██████████| 1/1 [00:00<00:00, 649.98it/s]"
     ]
    },
    {
     "name": "stdout",
     "output_type": "stream",
     "text": [
      "\n",
      "\r",
      "0it [00:00, ?it/s]"
     ]
    },
    {
     "name": "stdout",
     "output_type": "stream",
     "text": [
      "\r",
      "Upgrading database; v2 -> v3: : 0it [00:00, ?it/s]"
     ]
    },
    {
     "name": "stdout",
     "output_type": "stream",
     "text": [
      "\r",
      "Upgrading database; v2 -> v3: : 0it [00:00, ?it/s]"
     ]
    },
    {
     "name": "stdout",
     "output_type": "stream",
     "text": [
      "\n",
      "\r",
      "0it [00:00, ?it/s]"
     ]
    },
    {
     "name": "stdout",
     "output_type": "stream",
     "text": [
      "\r",
      "Upgrading database; v3 -> v4: : 0it [00:00, ?it/s]"
     ]
    },
    {
     "name": "stdout",
     "output_type": "stream",
     "text": [
      "\r",
      "Upgrading database; v3 -> v4: : 0it [00:00, ?it/s]"
     ]
    },
    {
     "name": "stdout",
     "output_type": "stream",
     "text": [
      "\n",
      "\r",
      "  0%|          | 0/1 [00:00<?, ?it/s]"
     ]
    },
    {
     "name": "stdout",
     "output_type": "stream",
     "text": [
      "\r",
      "Upgrading database; v4 -> v5:   0%|          | 0/1 [00:00<?, ?it/s]"
     ]
    },
    {
     "name": "stdout",
     "output_type": "stream",
     "text": [
      "\r",
      "Upgrading database; v4 -> v5: 100%|██████████| 1/1 [00:00<00:00, 450.27it/s]"
     ]
    },
    {
     "name": "stdout",
     "output_type": "stream",
     "text": [
      "\n",
      "\r",
      "0it [00:00, ?it/s]"
     ]
    },
    {
     "name": "stdout",
     "output_type": "stream",
     "text": [
      "\r",
      "Upgrading database; v5 -> v6: : 0it [00:00, ?it/s]"
     ]
    },
    {
     "name": "stdout",
     "output_type": "stream",
     "text": [
      "\r",
      "Upgrading database; v5 -> v6: : 0it [00:00, ?it/s]"
     ]
    },
    {
     "name": "stdout",
     "output_type": "stream",
     "text": [
      "\n",
      "\r",
      "  0%|          | 0/1 [00:00<?, ?it/s]"
     ]
    },
    {
     "name": "stdout",
     "output_type": "stream",
     "text": [
      "\r",
      "Upgrading database; v6 -> v7:   0%|          | 0/1 [00:00<?, ?it/s]"
     ]
    },
    {
     "name": "stdout",
     "output_type": "stream",
     "text": [
      "\r",
      "Upgrading database; v6 -> v7: 100%|██████████| 1/1 [00:00<00:00, 284.57it/s]"
     ]
    },
    {
     "name": "stdout",
     "output_type": "stream",
     "text": [
      "\n",
      "\r",
      "  0%|          | 0/1 [00:00<?, ?it/s]"
     ]
    },
    {
     "name": "stdout",
     "output_type": "stream",
     "text": [
      "\r",
      "Upgrading database; v7 -> v8:   0%|          | 0/1 [00:00<?, ?it/s]"
     ]
    },
    {
     "name": "stdout",
     "output_type": "stream",
     "text": [
      "\r",
      "Upgrading database; v7 -> v8: 100%|██████████| 1/1 [00:00<00:00, 346.58it/s]"
     ]
    },
    {
     "name": "stdout",
     "output_type": "stream",
     "text": [
      "\n",
      "\r",
      "  0%|          | 0/1 [00:00<?, ?it/s]"
     ]
    },
    {
     "name": "stdout",
     "output_type": "stream",
     "text": [
      "\r",
      "Upgrading database; v8 -> v9:   0%|          | 0/1 [00:00<?, ?it/s]"
     ]
    },
    {
     "name": "stdout",
     "output_type": "stream",
     "text": [
      "\r",
      "Upgrading database; v8 -> v9: 100%|██████████| 1/1 [00:00<00:00, 601.51it/s]"
     ]
    },
    {
     "name": "stdout",
     "output_type": "stream",
     "text": [
      "\n"
     ]
    }
   ],
   "source": [
    "initialise_database()\n",
    "exp = load_or_create_experiment(experiment_name='tutorial_exp', sample_name=\"no sample\")"
   ]
  },
  {
   "cell_type": "markdown",
   "metadata": {},
   "source": [
    "Here, we define a simple function to benchmark the time it takes to insert n points with either numeric or array data type.\n",
    "We will compare both the time used to call ``add_result`` and the time used for the full measurement."
   ]
  },
  {
   "cell_type": "code",
   "execution_count": 4,
   "metadata": {
    "execution": {
     "iopub.execute_input": "2021-02-02T07:32:08.210659Z",
     "iopub.status.busy": "2021-02-02T07:32:08.209987Z",
     "iopub.status.idle": "2021-02-02T07:32:08.214139Z",
     "shell.execute_reply": "2021-02-02T07:32:08.213524Z"
    }
   },
   "outputs": [],
   "source": [
    "def insert_data(paramtype, npoints, nreps=1):\n",
    "\n",
    "    meas = Measurement(exp=exp)\n",
    "\n",
    "    x1 = ManualParameter('x1')\n",
    "    x2 = ManualParameter('x2')\n",
    "    x3 = ManualParameter('x3')\n",
    "    y1 = ManualParameter('y1')\n",
    "    y2 = ManualParameter('y2')\n",
    "\n",
    "    meas.register_parameter(x1, paramtype=paramtype)\n",
    "    meas.register_parameter(x2, paramtype=paramtype)\n",
    "    meas.register_parameter(x3, paramtype=paramtype)\n",
    "    meas.register_parameter(y1, setpoints=[x1, x2, x3],\n",
    "                            paramtype=paramtype)\n",
    "    meas.register_parameter(y2, setpoints=[x1, x2, x3],\n",
    "                            paramtype=paramtype)\n",
    "    start = time.perf_counter()\n",
    "    with meas.run() as datasaver:\n",
    "        start_adding = time.perf_counter()\n",
    "        for i in range(nreps):\n",
    "            datasaver.add_result((x1, np.random.rand(npoints)),\n",
    "                                 (x2, np.random.rand(npoints)),\n",
    "                                 (x3, np.random.rand(npoints)),\n",
    "                                 (y1, np.random.rand(npoints)),\n",
    "                                 (y2, np.random.rand(npoints)))\n",
    "        stop_adding = time.perf_counter()\n",
    "        run_id = datasaver.run_id\n",
    "    stop = time.perf_counter()\n",
    "    tot_time = stop - start\n",
    "    add_time = stop_adding - start_adding\n",
    "    return tot_time, add_time, run_id"
   ]
  },
  {
   "cell_type": "markdown",
   "metadata": {},
   "source": [
    "## Comparison between numeric/array data and binary blob"
   ]
  },
  {
   "cell_type": "markdown",
   "metadata": {},
   "source": [
    "### Case1: Short experiment time"
   ]
  },
  {
   "cell_type": "code",
   "execution_count": 5,
   "metadata": {
    "execution": {
     "iopub.execute_input": "2021-02-02T07:32:08.221221Z",
     "iopub.status.busy": "2021-02-02T07:32:08.220211Z",
     "iopub.status.idle": "2021-02-02T07:32:09.005056Z",
     "shell.execute_reply": "2021-02-02T07:32:09.004547Z"
    }
   },
   "outputs": [
    {
     "name": "stdout",
     "output_type": "stream",
     "text": [
      "Starting experimental run with id: 1. \n",
      "Starting experimental run with id: 2. \n",
      "Starting experimental run with id: 3. \n",
      "Starting experimental run with id: 4. \n",
      "Starting experimental run with id: 5. \n"
     ]
    },
    {
     "name": "stdout",
     "output_type": "stream",
     "text": [
      "Starting experimental run with id: 6. \n"
     ]
    },
    {
     "name": "stdout",
     "output_type": "stream",
     "text": [
      "Starting experimental run with id: 7. \n"
     ]
    },
    {
     "name": "stdout",
     "output_type": "stream",
     "text": [
      "Starting experimental run with id: 8. \n",
      "Starting experimental run with id: 9. \n"
     ]
    },
    {
     "name": "stdout",
     "output_type": "stream",
     "text": [
      "Starting experimental run with id: 10. \n",
      "Starting experimental run with id: 11. \n"
     ]
    },
    {
     "name": "stdout",
     "output_type": "stream",
     "text": [
      "Starting experimental run with id: 12. \n",
      "Starting experimental run with id: 13. \n"
     ]
    },
    {
     "name": "stdout",
     "output_type": "stream",
     "text": [
      "Starting experimental run with id: 14. \n"
     ]
    }
   ],
   "source": [
    "sizes = [1,500,1000,2000,3000,4000,5000]\n",
    "t_numeric = []\n",
    "t_numeric_add = []\n",
    "t_array = []\n",
    "t_array_add = []\n",
    "for size in sizes:\n",
    "    tn, tna, run_id_n =  insert_data('numeric', size)\n",
    "    t_numeric.append(tn)\n",
    "    t_numeric_add.append(tna)\n",
    "\n",
    "    ta, taa, run_id_a =  insert_data('array', size)\n",
    "    t_array.append(ta)\n",
    "    t_array_add.append(taa)"
   ]
  },
  {
   "cell_type": "code",
   "execution_count": 6,
   "metadata": {
    "execution": {
     "iopub.execute_input": "2021-02-02T07:32:09.021952Z",
     "iopub.status.busy": "2021-02-02T07:32:09.010940Z",
     "iopub.status.idle": "2021-02-02T07:32:09.195053Z",
     "shell.execute_reply": "2021-02-02T07:32:09.195498Z"
    }
   },
   "outputs": [
    {
     "data": {
      "image/png": "[encoded data removed]",
      "text/plain": [
       "<Figure size 432x288 with 1 Axes>"
      ]
     },
     "metadata": {
      "needs_background": "light"
     },
     "output_type": "display_data"
    }
   ],
   "source": [
    "fig, ax = plt.subplots(1,1)\n",
    "ax.plot(sizes, t_numeric, 'o-', label='Inserting row-by-row')\n",
    "ax.plot(sizes, t_numeric_add, 'o-', label='Inserting row-by-row: add_result only')\n",
    "ax.plot(sizes, t_array, 'd-', label='Inserting as binary blob')\n",
    "ax.plot(sizes, t_array_add, 'd-', label='Inserting as binary blob: add_result only')\n",
    "ax.legend()\n",
    "ax.set_xlabel('Array length')\n",
    "ax.set_ylabel('Time (s)')\n",
    "fig.tight_layout()"
   ]
  },
  {
   "cell_type": "markdown",
   "metadata": {},
   "source": [
    "As shown in the latter figure, the time to setup and and close the experiment is approximately 0.4 sec. In case of small array sizes, the difference between inserting values of data as arrays and inserting them row-by-row is relatively unimportant. At larger array sizes, i.e. above 10000 points, the cost of writing data as individual datapoints starts to become important.\n"
   ]
  },
  {
   "cell_type": "markdown",
   "metadata": {},
   "source": [
    "### Case2: Long experiment time "
   ]
  },
  {
   "cell_type": "code",
   "execution_count": 7,
   "metadata": {
    "execution": {
     "iopub.execute_input": "2021-02-02T07:32:09.201825Z",
     "iopub.status.busy": "2021-02-02T07:32:09.201121Z",
     "iopub.status.idle": "2021-02-02T07:33:03.544907Z",
     "shell.execute_reply": "2021-02-02T07:33:03.545787Z"
    }
   },
   "outputs": [
    {
     "name": "stdout",
     "output_type": "stream",
     "text": [
      "Starting experimental run with id: 15. \n",
      "Starting experimental run with id: 16. \n",
      "Starting experimental run with id: 17. \n"
     ]
    },
    {
     "name": "stdout",
     "output_type": "stream",
     "text": [
      "Starting experimental run with id: 18. \n",
      "Starting experimental run with id: 19. \n"
     ]
    },
    {
     "name": "stdout",
     "output_type": "stream",
     "text": [
      "Starting experimental run with id: 20. \n"
     ]
    },
    {
     "name": "stdout",
     "output_type": "stream",
     "text": [
      "Starting experimental run with id: 21. \n"
     ]
    },
    {
     "name": "stdout",
     "output_type": "stream",
     "text": [
      "Starting experimental run with id: 22. \n"
     ]
    },
    {
     "name": "stdout",
     "output_type": "stream",
     "text": [
      "Starting experimental run with id: 23. \n"
     ]
    },
    {
     "name": "stdout",
     "output_type": "stream",
     "text": [
      "Starting experimental run with id: 24. \n"
     ]
    },
    {
     "name": "stdout",
     "output_type": "stream",
     "text": [
      "Starting experimental run with id: 25. \n"
     ]
    },
    {
     "name": "stdout",
     "output_type": "stream",
     "text": [
      "Starting experimental run with id: 26. \n"
     ]
    },
    {
     "name": "stdout",
     "output_type": "stream",
     "text": [
      "Starting experimental run with id: 27. \n"
     ]
    },
    {
     "name": "stdout",
     "output_type": "stream",
     "text": [
      "Starting experimental run with id: 28. \n"
     ]
    }
   ],
   "source": [
    "sizes = [1,500,1000,2000,3000,4000,5000]\n",
    "nreps = 100\n",
    "t_numeric = []\n",
    "t_numeric_add = []\n",
    "t_numeric_run_ids = []\n",
    "t_array = []\n",
    "t_array_add = []\n",
    "t_array_run_ids = []\n",
    "for size in sizes:\n",
    "    tn, tna, run_id_n =  insert_data('numeric', size, nreps=nreps)\n",
    "    t_numeric.append(tn)\n",
    "    t_numeric_add.append(tna)\n",
    "    t_numeric_run_ids.append(run_id_n)\n",
    "\n",
    "    ta, taa, run_id_a =  insert_data('array', size, nreps=nreps)\n",
    "    t_array.append(ta)\n",
    "    t_array_add.append(taa)\n",
    "    t_array_run_ids.append(run_id_a)"
   ]
  },
  {
   "cell_type": "code",
   "execution_count": 8,
   "metadata": {
    "execution": {
     "iopub.execute_input": "2021-02-02T07:33:03.586281Z",
     "iopub.status.busy": "2021-02-02T07:33:03.565993Z",
     "iopub.status.idle": "2021-02-02T07:33:03.750094Z",
     "shell.execute_reply": "2021-02-02T07:33:03.750661Z"
    },
    "scrolled": true
   },
   "outputs": [
    {
     "data": {
      "image/png": "[encoded data removed]",
      "text/plain": [
       "<Figure size 432x288 with 1 Axes>"
      ]
     },
     "metadata": {
      "needs_background": "light"
     },
     "output_type": "display_data"
    }
   ],
   "source": [
    "fig, ax = plt.subplots(1,1)\n",
    "ax.plot(sizes, t_numeric, 'o-', label='Inserting row-by-row')\n",
    "ax.plot(sizes, t_numeric_add, 'o-', label='Inserting row-by-row: add_result only')\n",
    "ax.plot(sizes, t_array, 'd-', label='Inserting as binary blob')\n",
    "ax.plot(sizes, t_array_add, 'd-', label='Inserting as binary blob: add_result only')\n",
    "ax.legend()\n",
    "ax.set_xlabel('Array length')\n",
    "ax.set_ylabel('Time (s)')\n",
    "fig.tight_layout()"
   ]
  },
  {
   "cell_type": "markdown",
   "metadata": {},
   "source": [
    "However, as we increase the length of the experiment, as seen here by repeating the insertion 100 times, we see a big difference between inserting values of the data row-by-row and inserting it as a binary blob."
   ]
  },
  {
   "cell_type": "markdown",
   "metadata": {},
   "source": [
    "## Loading the data "
   ]
  },
  {
   "cell_type": "code",
   "execution_count": 9,
   "metadata": {
    "execution": {
     "iopub.execute_input": "2021-02-02T07:33:03.754541Z",
     "iopub.status.busy": "2021-02-02T07:33:03.754001Z",
     "iopub.status.idle": "2021-02-02T07:33:03.757076Z",
     "shell.execute_reply": "2021-02-02T07:33:03.756592Z"
    }
   },
   "outputs": [],
   "source": [
    "from qcodes.dataset.data_set import load_by_id\n",
    "from qcodes.dataset.data_export import get_data_by_id"
   ]
  },
  {
   "cell_type": "markdown",
   "metadata": {},
   "source": [
    "As usual you can load the data by using the ``load_by_id`` function but you will notice that the different storage methods\n",
    "are reflected in shape of the data as it is retrieved. "
   ]
  },
  {
   "cell_type": "code",
   "execution_count": 10,
   "metadata": {
    "execution": {
     "iopub.execute_input": "2021-02-02T07:33:03.760760Z",
     "iopub.status.busy": "2021-02-02T07:33:03.760231Z",
     "iopub.status.idle": "2021-02-02T07:33:03.762047Z",
     "shell.execute_reply": "2021-02-02T07:33:03.762496Z"
    }
   },
   "outputs": [],
   "source": [
    "run_id_n = t_numeric_run_ids[0]\n",
    "run_id_a = t_array_run_ids[0]"
   ]
  },
  {
   "cell_type": "code",
   "execution_count": 11,
   "metadata": {
    "execution": {
     "iopub.execute_input": "2021-02-02T07:33:03.765705Z",
     "iopub.status.busy": "2021-02-02T07:33:03.765158Z",
     "iopub.status.idle": "2021-02-02T07:33:03.774391Z",
     "shell.execute_reply": "2021-02-02T07:33:03.774813Z"
    },
    "scrolled": true
   },
   "outputs": [
    {
     "data": {
      "text/plain": [
       "{'x1': {'x1': array([0.19586784, 0.19586784, 0.28679605, 0.28679605, 0.38185873,\n",
       "         0.38185873, 0.94616844, 0.94616844, 0.30340351, 0.30340351,\n",
       "         0.29278241, 0.29278241, 0.78687929, 0.78687929, 0.41375119,\n",
       "         0.41375119, 0.72526177, 0.72526177, 0.95573903, 0.95573903,\n",
       "         0.1685672 , 0.1685672 , 0.84146972, 0.84146972, 0.58092986,\n",
       "         0.58092986, 0.30521846, 0.30521846, 0.36266577, 0.36266577,\n",
       "         0.0828009 , 0.0828009 , 0.11336559, 0.11336559, 0.24301846,\n",
       "         0.24301846, 0.80544571, 0.80544571, 0.14516843, 0.14516843,\n",
       "         0.20468911, 0.20468911, 0.63686955, 0.63686955, 0.43994524,\n",
       "         0.43994524, 0.35945922, 0.35945922, 0.64954769, 0.64954769,\n",
       "         0.98730833, 0.98730833, 0.31125779, 0.31125779, 0.41089702,\n",
       "         0.41089702, 0.3239583 , 0.3239583 , 0.1957669 , 0.1957669 ,\n",
       "         0.8993066 , 0.8993066 , 0.77064937, 0.77064937, 0.28304054,\n",
       "         0.28304054, 0.89598713, 0.89598713, 0.44198728, 0.44198728,\n",
       "         0.48962682, 0.48962682, 0.70394723, 0.70394723, 0.91806243,\n",
       "         0.91806243, 0.1843671 , 0.1843671 , 0.5543072 , 0.5543072 ,\n",
       "         0.02349783, 0.02349783, 0.76780525, 0.76780525, 0.1968019 ,\n",
       "         0.1968019 , 0.69963033, 0.69963033, 0.15126576, 0.15126576,\n",
       "         0.53475992, 0.53475992, 0.16228866, 0.16228866, 0.93825033,\n",
       "         0.93825033, 0.94660866, 0.94660866, 0.67546636, 0.67546636,\n",
       "         0.66027986, 0.66027986, 0.35950836, 0.35950836, 0.73540008,\n",
       "         0.73540008, 0.0526728 , 0.0526728 , 0.25413227, 0.25413227,\n",
       "         0.22981303, 0.22981303, 0.02243072, 0.02243072, 0.68545112,\n",
       "         0.68545112, 0.17078064, 0.17078064, 0.45017251, 0.45017251,\n",
       "         0.92823178, 0.92823178, 0.56418131, 0.56418131, 0.01660301,\n",
       "         0.01660301, 0.55670421, 0.55670421, 0.42297876, 0.42297876,\n",
       "         0.75430365, 0.75430365, 0.9909017 , 0.9909017 , 0.7766614 ,\n",
       "         0.7766614 , 0.85746668, 0.85746668, 0.53110144, 0.53110144,\n",
       "         0.84631719, 0.84631719, 0.49318208, 0.49318208, 0.07125459,\n",
       "         0.07125459, 0.68327103, 0.68327103, 0.49354455, 0.49354455,\n",
       "         0.28265973, 0.28265973, 0.01488888, 0.01488888, 0.52341777,\n",
       "         0.52341777, 0.83263093, 0.83263093, 0.42023428, 0.42023428,\n",
       "         0.36688874, 0.36688874, 0.24889187, 0.24889187, 0.61841128,\n",
       "         0.61841128, 0.61931292, 0.61931292, 0.97986675, 0.97986675,\n",
       "         0.06187201, 0.06187201, 0.4977467 , 0.4977467 , 0.67615986,\n",
       "         0.67615986, 0.51172475, 0.51172475, 0.04391298, 0.04391298,\n",
       "         0.42071713, 0.42071713, 0.30849951, 0.30849951, 0.4829819 ,\n",
       "         0.4829819 , 0.34609222, 0.34609222, 0.48035883, 0.48035883,\n",
       "         0.72226941, 0.72226941, 0.48991485, 0.48991485, 0.95405536,\n",
       "         0.95405536, 0.71640381, 0.71640381, 0.20307502, 0.20307502])}}"
      ]
     },
     "execution_count": 1,
     "metadata": {},
     "output_type": "execute_result"
    }
   ],
   "source": [
    "ds = load_by_id(run_id_n)\n",
    "ds.get_parameter_data('x1')"
   ]
  },
  {
   "cell_type": "markdown",
   "metadata": {},
   "source": [
    "And a dataset stored as binary arrays"
   ]
  },
  {
   "cell_type": "code",
   "execution_count": 12,
   "metadata": {
    "execution": {
     "iopub.execute_input": "2021-02-02T07:33:03.778114Z",
     "iopub.status.busy": "2021-02-02T07:33:03.777565Z",
     "iopub.status.idle": "2021-02-02T07:33:03.840881Z",
     "shell.execute_reply": "2021-02-02T07:33:03.841685Z"
    },
    "scrolled": true
   },
   "outputs": [
    {
     "data": {
      "text/plain": [
       "{'x1': {'x1': array([[0.73113226],\n",
       "         [0.73113226],\n",
       "         [0.95971765],\n",
       "         [0.95971765],\n",
       "         [0.67725011],\n",
       "         [0.67725011],\n",
       "         [0.29287357],\n",
       "         [0.29287357],\n",
       "         [0.32840369],\n",
       "         [0.32840369],\n",
       "         [0.40830179],\n",
       "         [0.40830179],\n",
       "         [0.92798591],\n",
       "         [0.92798591],\n",
       "         [0.74701846],\n",
       "         [0.74701846],\n",
       "         [0.49272848],\n",
       "         [0.49272848],\n",
       "         [0.20288363],\n",
       "         [0.20288363],\n",
       "         [0.59002499],\n",
       "         [0.59002499],\n",
       "         [0.1265719 ],\n",
       "         [0.1265719 ],\n",
       "         [0.33142129],\n",
       "         [0.33142129],\n",
       "         [0.78461467],\n",
       "         [0.78461467],\n",
       "         [0.23619641],\n",
       "         [0.23619641],\n",
       "         [0.15163315],\n",
       "         [0.15163315],\n",
       "         [0.83702332],\n",
       "         [0.83702332],\n",
       "         [0.84055957],\n",
       "         [0.84055957],\n",
       "         [0.97160713],\n",
       "         [0.97160713],\n",
       "         [0.74377546],\n",
       "         [0.74377546],\n",
       "         [0.22624606],\n",
       "         [0.22624606],\n",
       "         [0.46049059],\n",
       "         [0.46049059],\n",
       "         [0.72176749],\n",
       "         [0.72176749],\n",
       "         [0.11125807],\n",
       "         [0.11125807],\n",
       "         [0.94579981],\n",
       "         [0.94579981],\n",
       "         [0.15677515],\n",
       "         [0.15677515],\n",
       "         [0.12900209],\n",
       "         [0.12900209],\n",
       "         [0.83786222],\n",
       "         [0.83786222],\n",
       "         [0.3180308 ],\n",
       "         [0.3180308 ],\n",
       "         [0.37294606],\n",
       "         [0.37294606],\n",
       "         [0.77020606],\n",
       "         [0.77020606],\n",
       "         [0.61085579],\n",
       "         [0.61085579],\n",
       "         [0.50148546],\n",
       "         [0.50148546],\n",
       "         [0.22305853],\n",
       "         [0.22305853],\n",
       "         [0.10688105],\n",
       "         [0.10688105],\n",
       "         [0.64960446],\n",
       "         [0.64960446],\n",
       "         [0.18987127],\n",
       "         [0.18987127],\n",
       "         [0.25949274],\n",
       "         [0.25949274],\n",
       "         [0.95298561],\n",
       "         [0.95298561],\n",
       "         [0.07908699],\n",
       "         [0.07908699],\n",
       "         [0.12494605],\n",
       "         [0.12494605],\n",
       "         [0.56773779],\n",
       "         [0.56773779],\n",
       "         [0.9834432 ],\n",
       "         [0.9834432 ],\n",
       "         [0.55792929],\n",
       "         [0.55792929],\n",
       "         [0.41895231],\n",
       "         [0.41895231],\n",
       "         [0.42006282],\n",
       "         [0.42006282],\n",
       "         [0.59098363],\n",
       "         [0.59098363],\n",
       "         [0.2647644 ],\n",
       "         [0.2647644 ],\n",
       "         [0.5631927 ],\n",
       "         [0.5631927 ],\n",
       "         [0.54616561],\n",
       "         [0.54616561],\n",
       "         [0.89982635],\n",
       "         [0.89982635],\n",
       "         [0.2149566 ],\n",
       "         [0.2149566 ],\n",
       "         [0.71995347],\n",
       "         [0.71995347],\n",
       "         [0.87535257],\n",
       "         [0.87535257],\n",
       "         [0.84391874],\n",
       "         [0.84391874],\n",
       "         [0.72510937],\n",
       "         [0.72510937],\n",
       "         [0.57744038],\n",
       "         [0.57744038],\n",
       "         [0.8703476 ],\n",
       "         [0.8703476 ],\n",
       "         [0.45939024],\n",
       "         [0.45939024],\n",
       "         [0.93234699],\n",
       "         [0.93234699],\n",
       "         [0.07099553],\n",
       "         [0.07099553],\n",
       "         [0.05182775],\n",
       "         [0.05182775],\n",
       "         [0.86727418],\n",
       "         [0.86727418],\n",
       "         [0.59340439],\n",
       "         [0.59340439],\n",
       "         [0.49337006],\n",
       "         [0.49337006],\n",
       "         [0.03719854],\n",
       "         [0.03719854],\n",
       "         [0.27663709],\n",
       "         [0.27663709],\n",
       "         [0.9294029 ],\n",
       "         [0.9294029 ],\n",
       "         [0.65205267],\n",
       "         [0.65205267],\n",
       "         [0.79425926],\n",
       "         [0.79425926],\n",
       "         [0.01201103],\n",
       "         [0.01201103],\n",
       "         [0.21817963],\n",
       "         [0.21817963],\n",
       "         [0.79120721],\n",
       "         [0.79120721],\n",
       "         [0.43466064],\n",
       "         [0.43466064],\n",
       "         [0.88428449],\n",
       "         [0.88428449],\n",
       "         [0.32052612],\n",
       "         [0.32052612],\n",
       "         [0.45906533],\n",
       "         [0.45906533],\n",
       "         [0.04843576],\n",
       "         [0.04843576],\n",
       "         [0.80439606],\n",
       "         [0.80439606],\n",
       "         [0.7872514 ],\n",
       "         [0.7872514 ],\n",
       "         [0.33020195],\n",
       "         [0.33020195],\n",
       "         [0.27940128],\n",
       "         [0.27940128],\n",
       "         [0.03682236],\n",
       "         [0.03682236],\n",
       "         [0.573048  ],\n",
       "         [0.573048  ],\n",
       "         [0.20449546],\n",
       "         [0.20449546],\n",
       "         [0.008797  ],\n",
       "         [0.008797  ],\n",
       "         [0.86409765],\n",
       "         [0.86409765],\n",
       "         [0.46390319],\n",
       "         [0.46390319],\n",
       "         [0.40009156],\n",
       "         [0.40009156],\n",
       "         [0.59269655],\n",
       "         [0.59269655],\n",
       "         [0.02318867],\n",
       "         [0.02318867],\n",
       "         [0.52707678],\n",
       "         [0.52707678],\n",
       "         [0.29224027],\n",
       "         [0.29224027],\n",
       "         [0.07720033],\n",
       "         [0.07720033],\n",
       "         [0.93147342],\n",
       "         [0.93147342],\n",
       "         [0.53626203],\n",
       "         [0.53626203],\n",
       "         [0.14640278],\n",
       "         [0.14640278],\n",
       "         [0.99052022],\n",
       "         [0.99052022],\n",
       "         [0.5981079 ],\n",
       "         [0.5981079 ],\n",
       "         [0.6817415 ],\n",
       "         [0.6817415 ]])}}"
      ]
     },
     "execution_count": 1,
     "metadata": {},
     "output_type": "execute_result"
    }
   ],
   "source": [
    "ds = load_by_id(run_id_a)\n",
    "ds.get_parameter_data('x1')"
   ]
  },
  {
   "cell_type": "code",
   "execution_count": null,
   "metadata": {},
   "outputs": [],
   "source": []
  }
 ],
 "metadata": {
  "kernelspec": {
   "display_name": "Python 3",
   "language": "python",
   "name": "python3"
  },
  "language_info": {
   "codemirror_mode": {
    "name": "ipython",
    "version": 3
   },
   "file_extension": ".py",
   "mimetype": "text/x-python",
   "name": "python",
   "nbconvert_exporter": "python",
   "pygments_lexer": "ipython3",
   "version": "3.7.9"
  },
  "nbsphinx": {
   "timeout": 600
  },
  "toc": {
   "base_numbering": 1,
   "nav_menu": {},
   "number_sections": true,
   "sideBar": true,
   "skip_h1_title": false,
   "title_cell": "Table of Contents",
   "title_sidebar": "Contents",
   "toc_cell": false,
   "toc_position": {},
   "toc_section_display": true,
   "toc_window_display": false
  },
  "varInspector": {
   "cols": {
    "lenName": 16,
    "lenType": 16,
    "lenVar": 40
   },
   "kernels_config": {
    "python": {
     "delete_cmd_postfix": "",
     "delete_cmd_prefix": "del ",
     "library": "var_list.py",
     "varRefreshCmd": "print(var_dic_list())"
    },
    "r": {
     "delete_cmd_postfix": ") ",
     "delete_cmd_prefix": "rm(",
     "library": "var_list.r",
     "varRefreshCmd": "cat(var_dic_list()) "
    }
   },
   "types_to_exclude": [
    "module",
    "function",
    "builtin_function_or_method",
    "instance",
    "_Feature"
   ],
   "window_display": false
  }
 },
 "nbformat": 4,
 "nbformat_minor": 2
}
