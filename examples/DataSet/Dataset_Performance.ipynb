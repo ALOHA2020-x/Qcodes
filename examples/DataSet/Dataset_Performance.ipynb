{
 "cells": [
  {
   "cell_type": "markdown",
   "metadata": {},
   "source": [
    "# DataSet Performance\n",
    "\n",
    "This notebook shows the trade-off between inserting data into a database row-by-row and as binary blobs. Inserting the data row-by-row means that we have direct access to all the data and may perform queries directly on the values of the data. On the other hand, as we shall see, this is much slower than inserting the data directly as binary blobs."
   ]
  },
  {
   "cell_type": "markdown",
   "metadata": {},
   "source": [
    "First, we choose a new location for the database to ensure that we don't add a bunch of benchmarking data to the default one."
   ]
  },
  {
   "cell_type": "code",
   "execution_count": 1,
   "metadata": {
    "execution": {
     "iopub.execute_input": "2021-03-29T07:31:21.296631Z",
     "iopub.status.busy": "2021-03-29T07:31:21.295869Z",
     "iopub.status.idle": "2021-03-29T07:31:22.440951Z",
     "shell.execute_reply": "2021-03-29T07:31:22.439956Z"
    }
   },
   "outputs": [
    {
     "name": "stdout",
     "output_type": "stream",
     "text": [
      "Logging hadn't been started.\n",
      "Activating auto-logging. Current session state plus future input saved.\n",
      "Filename       : /home/runner/.qcodes/logs/command_history.log\n",
      "Mode           : append\n",
      "Output logging : True\n",
      "Raw input log  : False\n",
      "Timestamping   : True\n",
      "State          : active\n"
     ]
    },
    {
     "name": "stdout",
     "output_type": "stream",
     "text": [
      "Qcodes Logfile : /home/runner/.qcodes/logs/210329-4452-qcodes.log\n"
     ]
    }
   ],
   "source": [
    "import os\n",
    "cwd = os.getcwd()\n",
    "import qcodes as qc\n",
    "qc.config[\"core\"][\"db_location\"] = os.path.join(cwd, 'testing.db')\n"
   ]
  },
  {
   "cell_type": "code",
   "execution_count": 2,
   "metadata": {
    "execution": {
     "iopub.execute_input": "2021-03-29T07:31:22.447885Z",
     "iopub.status.busy": "2021-03-29T07:31:22.446676Z",
     "iopub.status.idle": "2021-03-29T07:31:22.689516Z",
     "shell.execute_reply": "2021-03-29T07:31:22.688762Z"
    }
   },
   "outputs": [],
   "source": [
    "%matplotlib inline\n",
    "import time\n",
    "import matplotlib.pyplot as plt\n",
    "import numpy as np\n",
    "\n",
    "import qcodes as qc\n",
    "from qcodes.instrument.parameter import ManualParameter\n",
    "from qcodes.dataset.experiment_container import (Experiment,\n",
    "                                                 load_last_experiment,\n",
    "                                                 new_experiment)\n",
    "from qcodes.dataset.sqlite.database import initialise_database\n",
    "from qcodes import load_or_create_experiment\n",
    "from qcodes.dataset.measurements import Measurement"
   ]
  },
  {
   "cell_type": "code",
   "execution_count": 3,
   "metadata": {
    "execution": {
     "iopub.execute_input": "2021-03-29T07:31:22.694284Z",
     "iopub.status.busy": "2021-03-29T07:31:22.693269Z",
     "iopub.status.idle": "2021-03-29T07:31:22.774850Z",
     "shell.execute_reply": "2021-03-29T07:31:22.775394Z"
    }
   },
   "outputs": [
    {
     "name": "stdout",
     "output_type": "stream",
     "text": [
      "\r",
      "0it [00:00, ?it/s]"
     ]
    },
    {
     "name": "stdout",
     "output_type": "stream",
     "text": [
      "\r",
      "Upgrading database; v0 -> v1: : 0it [00:00, ?it/s]"
     ]
    },
    {
     "name": "stdout",
     "output_type": "stream",
     "text": [
      "\r",
      "Upgrading database; v0 -> v1: : 0it [00:00, ?it/s]"
     ]
    },
    {
     "name": "stdout",
     "output_type": "stream",
     "text": [
      "\n",
      "\r",
      "  0%|          | 0/1 [00:00<?, ?it/s]"
     ]
    },
    {
     "name": "stdout",
     "output_type": "stream",
     "text": [
      "\r",
      "Upgrading database; v1 -> v2:   0%|          | 0/1 [00:00<?, ?it/s]"
     ]
    },
    {
     "name": "stdout",
     "output_type": "stream",
     "text": [
      "\r",
      "Upgrading database; v1 -> v2: 100%|██████████| 1/1 [00:00<00:00, 540.99it/s]"
     ]
    },
    {
     "name": "stdout",
     "output_type": "stream",
     "text": [
      "\n",
      "\r",
      "0it [00:00, ?it/s]"
     ]
    },
    {
     "name": "stdout",
     "output_type": "stream",
     "text": [
      "\r",
      "Upgrading database; v2 -> v3: : 0it [00:00, ?it/s]"
     ]
    },
    {
     "name": "stdout",
     "output_type": "stream",
     "text": [
      "\r",
      "Upgrading database; v2 -> v3: : 0it [00:00, ?it/s]"
     ]
    },
    {
     "name": "stdout",
     "output_type": "stream",
     "text": [
      "\n",
      "\r",
      "0it [00:00, ?it/s]"
     ]
    },
    {
     "name": "stdout",
     "output_type": "stream",
     "text": [
      "\r",
      "Upgrading database; v3 -> v4: : 0it [00:00, ?it/s]"
     ]
    },
    {
     "name": "stdout",
     "output_type": "stream",
     "text": [
      "\r",
      "Upgrading database; v3 -> v4: : 0it [00:00, ?it/s]"
     ]
    },
    {
     "name": "stdout",
     "output_type": "stream",
     "text": [
      "\n",
      "\r",
      "  0%|          | 0/1 [00:00<?, ?it/s]"
     ]
    },
    {
     "name": "stdout",
     "output_type": "stream",
     "text": [
      "\r",
      "Upgrading database; v4 -> v5:   0%|          | 0/1 [00:00<?, ?it/s]"
     ]
    },
    {
     "name": "stdout",
     "output_type": "stream",
     "text": [
      "\r",
      "Upgrading database; v4 -> v5: 100%|██████████| 1/1 [00:00<00:00, 853.54it/s]"
     ]
    },
    {
     "name": "stdout",
     "output_type": "stream",
     "text": [
      "\n",
      "\r",
      "0it [00:00, ?it/s]"
     ]
    },
    {
     "name": "stdout",
     "output_type": "stream",
     "text": [
      "\r",
      "Upgrading database; v5 -> v6: : 0it [00:00, ?it/s]"
     ]
    },
    {
     "name": "stdout",
     "output_type": "stream",
     "text": [
      "\r",
      "Upgrading database; v5 -> v6: : 0it [00:00, ?it/s]"
     ]
    },
    {
     "name": "stdout",
     "output_type": "stream",
     "text": [
      "\n",
      "\r",
      "  0%|          | 0/1 [00:00<?, ?it/s]"
     ]
    },
    {
     "name": "stdout",
     "output_type": "stream",
     "text": [
      "\r",
      "Upgrading database; v6 -> v7:   0%|          | 0/1 [00:00<?, ?it/s]"
     ]
    },
    {
     "name": "stdout",
     "output_type": "stream",
     "text": [
      "\r",
      "Upgrading database; v6 -> v7: 100%|██████████| 1/1 [00:00<00:00, 258.88it/s]"
     ]
    },
    {
     "name": "stdout",
     "output_type": "stream",
     "text": [
      "\n",
      "\r",
      "  0%|          | 0/1 [00:00<?, ?it/s]"
     ]
    },
    {
     "name": "stdout",
     "output_type": "stream",
     "text": [
      "\r",
      "Upgrading database; v7 -> v8:   0%|          | 0/1 [00:00<?, ?it/s]"
     ]
    },
    {
     "name": "stdout",
     "output_type": "stream",
     "text": [
      "\r",
      "Upgrading database; v7 -> v8: 100%|██████████| 1/1 [00:00<00:00, 374.49it/s]"
     ]
    },
    {
     "name": "stdout",
     "output_type": "stream",
     "text": [
      "\n",
      "\r",
      "  0%|          | 0/1 [00:00<?, ?it/s]"
     ]
    },
    {
     "name": "stdout",
     "output_type": "stream",
     "text": [
      "\r",
      "Upgrading database; v8 -> v9:   0%|          | 0/1 [00:00<?, ?it/s]"
     ]
    },
    {
     "name": "stdout",
     "output_type": "stream",
     "text": [
      "\r",
      "Upgrading database; v8 -> v9: 100%|██████████| 1/1 [00:00<00:00, 427.21it/s]"
     ]
    },
    {
     "name": "stdout",
     "output_type": "stream",
     "text": [
      "\n"
     ]
    }
   ],
   "source": [
    "initialise_database()\n",
    "exp = load_or_create_experiment(experiment_name='tutorial_exp', sample_name=\"no sample\")"
   ]
  },
  {
   "cell_type": "markdown",
   "metadata": {},
   "source": [
    "Here, we define a simple function to benchmark the time it takes to insert n points with either numeric or array data type.\n",
    "We will compare both the time used to call ``add_result`` and the time used for the full measurement."
   ]
  },
  {
   "cell_type": "code",
   "execution_count": 4,
   "metadata": {
    "execution": {
     "iopub.execute_input": "2021-03-29T07:31:22.784900Z",
     "iopub.status.busy": "2021-03-29T07:31:22.777837Z",
     "iopub.status.idle": "2021-03-29T07:31:22.787249Z",
     "shell.execute_reply": "2021-03-29T07:31:22.787846Z"
    }
   },
   "outputs": [],
   "source": [
    "def insert_data(paramtype, npoints, nreps=1):\n",
    "\n",
    "    meas = Measurement(exp=exp)\n",
    "\n",
    "    x1 = ManualParameter('x1')\n",
    "    x2 = ManualParameter('x2')\n",
    "    x3 = ManualParameter('x3')\n",
    "    y1 = ManualParameter('y1')\n",
    "    y2 = ManualParameter('y2')\n",
    "\n",
    "    meas.register_parameter(x1, paramtype=paramtype)\n",
    "    meas.register_parameter(x2, paramtype=paramtype)\n",
    "    meas.register_parameter(x3, paramtype=paramtype)\n",
    "    meas.register_parameter(y1, setpoints=[x1, x2, x3],\n",
    "                            paramtype=paramtype)\n",
    "    meas.register_parameter(y2, setpoints=[x1, x2, x3],\n",
    "                            paramtype=paramtype)\n",
    "    start = time.perf_counter()\n",
    "    with meas.run() as datasaver:\n",
    "        start_adding = time.perf_counter()\n",
    "        for i in range(nreps):\n",
    "            datasaver.add_result((x1, np.random.rand(npoints)),\n",
    "                                 (x2, np.random.rand(npoints)),\n",
    "                                 (x3, np.random.rand(npoints)),\n",
    "                                 (y1, np.random.rand(npoints)),\n",
    "                                 (y2, np.random.rand(npoints)))\n",
    "        stop_adding = time.perf_counter()\n",
    "        run_id = datasaver.run_id\n",
    "    stop = time.perf_counter()\n",
    "    tot_time = stop - start\n",
    "    add_time = stop_adding - start_adding\n",
    "    return tot_time, add_time, run_id"
   ]
  },
  {
   "cell_type": "markdown",
   "metadata": {},
   "source": [
    "## Comparison between numeric/array data and binary blob"
   ]
  },
  {
   "cell_type": "markdown",
   "metadata": {},
   "source": [
    "### Case1: Short experiment time"
   ]
  },
  {
   "cell_type": "code",
   "execution_count": 5,
   "metadata": {
    "execution": {
     "iopub.execute_input": "2021-03-29T07:31:22.795961Z",
     "iopub.status.busy": "2021-03-29T07:31:22.795177Z",
     "iopub.status.idle": "2021-03-29T07:31:23.642622Z",
     "shell.execute_reply": "2021-03-29T07:31:23.643225Z"
    }
   },
   "outputs": [
    {
     "name": "stdout",
     "output_type": "stream",
     "text": [
      "Starting experimental run with id: 1. \n",
      "Starting experimental run with id: 2. \n",
      "Starting experimental run with id: 3. \n",
      "Starting experimental run with id: 4. \n",
      "Starting experimental run with id: 5. \n"
     ]
    },
    {
     "name": "stdout",
     "output_type": "stream",
     "text": [
      "Starting experimental run with id: 6. \n"
     ]
    },
    {
     "name": "stdout",
     "output_type": "stream",
     "text": [
      "Starting experimental run with id: 7. \n"
     ]
    },
    {
     "name": "stdout",
     "output_type": "stream",
     "text": [
      "Starting experimental run with id: 8. \n",
      "Starting experimental run with id: 9. \n"
     ]
    },
    {
     "name": "stdout",
     "output_type": "stream",
     "text": [
      "Starting experimental run with id: 10. \n",
      "Starting experimental run with id: 11. \n"
     ]
    },
    {
     "name": "stdout",
     "output_type": "stream",
     "text": [
      "Starting experimental run with id: 12. \n",
      "Starting experimental run with id: 13. \n"
     ]
    },
    {
     "name": "stdout",
     "output_type": "stream",
     "text": [
      "Starting experimental run with id: 14. \n"
     ]
    }
   ],
   "source": [
    "sizes = [1,500,1000,2000,3000,4000,5000]\n",
    "t_numeric = []\n",
    "t_numeric_add = []\n",
    "t_array = []\n",
    "t_array_add = []\n",
    "for size in sizes:\n",
    "    tn, tna, run_id_n =  insert_data('numeric', size)\n",
    "    t_numeric.append(tn)\n",
    "    t_numeric_add.append(tna)\n",
    "\n",
    "    ta, taa, run_id_a =  insert_data('array', size)\n",
    "    t_array.append(ta)\n",
    "    t_array_add.append(taa)"
   ]
  },
  {
   "cell_type": "code",
   "execution_count": 6,
   "metadata": {
    "execution": {
     "iopub.execute_input": "2021-03-29T07:31:23.663739Z",
     "iopub.status.busy": "2021-03-29T07:31:23.662979Z",
     "iopub.status.idle": "2021-03-29T07:31:23.933082Z",
     "shell.execute_reply": "2021-03-29T07:31:23.932523Z"
    }
   },
   "outputs": [
    {
     "data": {
      "image/png": "[encoded data removed]",
      "text/plain": [
       "<Figure size 432x288 with 1 Axes>"
      ]
     },
     "metadata": {
      "needs_background": "light"
     },
     "output_type": "display_data"
    }
   ],
   "source": [
    "fig, ax = plt.subplots(1,1)\n",
    "ax.plot(sizes, t_numeric, 'o-', label='Inserting row-by-row')\n",
    "ax.plot(sizes, t_numeric_add, 'o-', label='Inserting row-by-row: add_result only')\n",
    "ax.plot(sizes, t_array, 'd-', label='Inserting as binary blob')\n",
    "ax.plot(sizes, t_array_add, 'd-', label='Inserting as binary blob: add_result only')\n",
    "ax.legend()\n",
    "ax.set_xlabel('Array length')\n",
    "ax.set_ylabel('Time (s)')\n",
    "fig.tight_layout()"
   ]
  },
  {
   "cell_type": "markdown",
   "metadata": {},
   "source": [
    "As shown in the latter figure, the time to setup and and close the experiment is approximately 0.4 sec. In case of small array sizes, the difference between inserting values of data as arrays and inserting them row-by-row is relatively unimportant. At larger array sizes, i.e. above 10000 points, the cost of writing data as individual datapoints starts to become important.\n"
   ]
  },
  {
   "cell_type": "markdown",
   "metadata": {},
   "source": [
    "### Case2: Long experiment time "
   ]
  },
  {
   "cell_type": "code",
   "execution_count": 7,
   "metadata": {
    "execution": {
     "iopub.execute_input": "2021-03-29T07:31:23.941792Z",
     "iopub.status.busy": "2021-03-29T07:31:23.940174Z",
     "iopub.status.idle": "2021-03-29T07:32:28.075725Z",
     "shell.execute_reply": "2021-03-29T07:32:28.075127Z"
    }
   },
   "outputs": [
    {
     "name": "stdout",
     "output_type": "stream",
     "text": [
      "Starting experimental run with id: 15. \n",
      "Starting experimental run with id: 16. \n"
     ]
    },
    {
     "name": "stdout",
     "output_type": "stream",
     "text": [
      "Starting experimental run with id: 17. \n"
     ]
    },
    {
     "name": "stdout",
     "output_type": "stream",
     "text": [
      "Starting experimental run with id: 18. \n"
     ]
    },
    {
     "name": "stdout",
     "output_type": "stream",
     "text": [
      "Starting experimental run with id: 19. \n"
     ]
    },
    {
     "name": "stdout",
     "output_type": "stream",
     "text": [
      "Starting experimental run with id: 20. \n"
     ]
    },
    {
     "name": "stdout",
     "output_type": "stream",
     "text": [
      "Starting experimental run with id: 21. \n"
     ]
    },
    {
     "name": "stdout",
     "output_type": "stream",
     "text": [
      "Starting experimental run with id: 22. \n"
     ]
    },
    {
     "name": "stdout",
     "output_type": "stream",
     "text": [
      "Starting experimental run with id: 23. \n"
     ]
    },
    {
     "name": "stdout",
     "output_type": "stream",
     "text": [
      "Starting experimental run with id: 24. \n"
     ]
    },
    {
     "name": "stdout",
     "output_type": "stream",
     "text": [
      "Starting experimental run with id: 25. \n"
     ]
    },
    {
     "name": "stdout",
     "output_type": "stream",
     "text": [
      "Starting experimental run with id: 26. \n"
     ]
    },
    {
     "name": "stdout",
     "output_type": "stream",
     "text": [
      "Starting experimental run with id: 27. \n"
     ]
    },
    {
     "name": "stdout",
     "output_type": "stream",
     "text": [
      "Starting experimental run with id: 28. \n"
     ]
    }
   ],
   "source": [
    "sizes = [1,500,1000,2000,3000,4000,5000]\n",
    "nreps = 100\n",
    "t_numeric = []\n",
    "t_numeric_add = []\n",
    "t_numeric_run_ids = []\n",
    "t_array = []\n",
    "t_array_add = []\n",
    "t_array_run_ids = []\n",
    "for size in sizes:\n",
    "    tn, tna, run_id_n =  insert_data('numeric', size, nreps=nreps)\n",
    "    t_numeric.append(tn)\n",
    "    t_numeric_add.append(tna)\n",
    "    t_numeric_run_ids.append(run_id_n)\n",
    "\n",
    "    ta, taa, run_id_a =  insert_data('array', size, nreps=nreps)\n",
    "    t_array.append(ta)\n",
    "    t_array_add.append(taa)\n",
    "    t_array_run_ids.append(run_id_a)"
   ]
  },
  {
   "cell_type": "code",
   "execution_count": 8,
   "metadata": {
    "execution": {
     "iopub.execute_input": "2021-03-29T07:32:28.105320Z",
     "iopub.status.busy": "2021-03-29T07:32:28.098080Z",
     "iopub.status.idle": "2021-03-29T07:32:28.340995Z",
     "shell.execute_reply": "2021-03-29T07:32:28.341879Z"
    },
    "scrolled": true
   },
   "outputs": [
    {
     "data": {
      "image/png": "[encoded data removed]",
      "text/plain": [
       "<Figure size 432x288 with 1 Axes>"
      ]
     },
     "metadata": {
      "needs_background": "light"
     },
     "output_type": "display_data"
    }
   ],
   "source": [
    "fig, ax = plt.subplots(1,1)\n",
    "ax.plot(sizes, t_numeric, 'o-', label='Inserting row-by-row')\n",
    "ax.plot(sizes, t_numeric_add, 'o-', label='Inserting row-by-row: add_result only')\n",
    "ax.plot(sizes, t_array, 'd-', label='Inserting as binary blob')\n",
    "ax.plot(sizes, t_array_add, 'd-', label='Inserting as binary blob: add_result only')\n",
    "ax.legend()\n",
    "ax.set_xlabel('Array length')\n",
    "ax.set_ylabel('Time (s)')\n",
    "fig.tight_layout()"
   ]
  },
  {
   "cell_type": "markdown",
   "metadata": {},
   "source": [
    "However, as we increase the length of the experiment, as seen here by repeating the insertion 100 times, we see a big difference between inserting values of the data row-by-row and inserting it as a binary blob."
   ]
  },
  {
   "cell_type": "markdown",
   "metadata": {},
   "source": [
    "## Loading the data "
   ]
  },
  {
   "cell_type": "code",
   "execution_count": 9,
   "metadata": {
    "execution": {
     "iopub.execute_input": "2021-03-29T07:32:28.346703Z",
     "iopub.status.busy": "2021-03-29T07:32:28.345453Z",
     "iopub.status.idle": "2021-03-29T07:32:28.349794Z",
     "shell.execute_reply": "2021-03-29T07:32:28.349274Z"
    }
   },
   "outputs": [],
   "source": [
    "from qcodes.dataset.data_set import load_by_id\n",
    "from qcodes.dataset.data_export import get_data_by_id"
   ]
  },
  {
   "cell_type": "markdown",
   "metadata": {},
   "source": [
    "As usual you can load the data by using the ``load_by_id`` function but you will notice that the different storage methods\n",
    "are reflected in shape of the data as it is retrieved. "
   ]
  },
  {
   "cell_type": "code",
   "execution_count": 10,
   "metadata": {
    "execution": {
     "iopub.execute_input": "2021-03-29T07:32:28.355221Z",
     "iopub.status.busy": "2021-03-29T07:32:28.353713Z",
     "iopub.status.idle": "2021-03-29T07:32:28.356060Z",
     "shell.execute_reply": "2021-03-29T07:32:28.356624Z"
    }
   },
   "outputs": [],
   "source": [
    "run_id_n = t_numeric_run_ids[0]\n",
    "run_id_a = t_array_run_ids[0]"
   ]
  },
  {
   "cell_type": "code",
   "execution_count": 11,
   "metadata": {
    "execution": {
     "iopub.execute_input": "2021-03-29T07:32:28.360210Z",
     "iopub.status.busy": "2021-03-29T07:32:28.359559Z",
     "iopub.status.idle": "2021-03-29T07:32:28.370294Z",
     "shell.execute_reply": "2021-03-29T07:32:28.370926Z"
    },
    "scrolled": true
   },
   "outputs": [
    {
     "data": {
      "text/plain": [
       "{'x1': {'x1': array([0.342327  , 0.342327  , 0.0894639 , 0.0894639 , 0.53068283,\n",
       "         0.53068283, 0.66615226, 0.66615226, 0.70684829, 0.70684829,\n",
       "         0.16148954, 0.16148954, 0.00195143, 0.00195143, 0.79762536,\n",
       "         0.79762536, 0.90561902, 0.90561902, 0.6708302 , 0.6708302 ,\n",
       "         0.03503262, 0.03503262, 0.77907059, 0.77907059, 0.58387466,\n",
       "         0.58387466, 0.07461524, 0.07461524, 0.4996859 , 0.4996859 ,\n",
       "         0.18423711, 0.18423711, 0.14614476, 0.14614476, 0.03441589,\n",
       "         0.03441589, 0.25482728, 0.25482728, 0.96432611, 0.96432611,\n",
       "         0.5776753 , 0.5776753 , 0.68120778, 0.68120778, 0.26210622,\n",
       "         0.26210622, 0.68038058, 0.68038058, 0.52544929, 0.52544929,\n",
       "         0.92556363, 0.92556363, 0.57030875, 0.57030875, 0.34036168,\n",
       "         0.34036168, 0.5292542 , 0.5292542 , 0.48168691, 0.48168691,\n",
       "         0.8169643 , 0.8169643 , 0.24001153, 0.24001153, 0.90085336,\n",
       "         0.90085336, 0.82921644, 0.82921644, 0.54252027, 0.54252027,\n",
       "         0.08674162, 0.08674162, 0.19439966, 0.19439966, 0.97803135,\n",
       "         0.97803135, 0.34509257, 0.34509257, 0.15887148, 0.15887148,\n",
       "         0.05692301, 0.05692301, 0.64328444, 0.64328444, 0.51916091,\n",
       "         0.51916091, 0.30984997, 0.30984997, 0.99613012, 0.99613012,\n",
       "         0.41292626, 0.41292626, 0.61981334, 0.61981334, 0.76107061,\n",
       "         0.76107061, 0.24225139, 0.24225139, 0.29618466, 0.29618466,\n",
       "         0.77360629, 0.77360629, 0.27312562, 0.27312562, 0.57302698,\n",
       "         0.57302698, 0.13066541, 0.13066541, 0.26959207, 0.26959207,\n",
       "         0.74202811, 0.74202811, 0.93510552, 0.93510552, 0.49649521,\n",
       "         0.49649521, 0.98289603, 0.98289603, 0.0430369 , 0.0430369 ,\n",
       "         0.87017987, 0.87017987, 0.89366686, 0.89366686, 0.57615906,\n",
       "         0.57615906, 0.54510391, 0.54510391, 0.86412438, 0.86412438,\n",
       "         0.84187088, 0.84187088, 0.72274881, 0.72274881, 0.94045975,\n",
       "         0.94045975, 0.91710268, 0.91710268, 0.30403664, 0.30403664,\n",
       "         0.14622539, 0.14622539, 0.97301846, 0.97301846, 0.49862409,\n",
       "         0.49862409, 0.60655137, 0.60655137, 0.69179447, 0.69179447,\n",
       "         0.41152201, 0.41152201, 0.03459317, 0.03459317, 0.98819971,\n",
       "         0.98819971, 0.86654607, 0.86654607, 0.35162912, 0.35162912,\n",
       "         0.70188205, 0.70188205, 0.96693106, 0.96693106, 0.706588  ,\n",
       "         0.706588  , 0.85407293, 0.85407293, 0.62399623, 0.62399623,\n",
       "         0.62168157, 0.62168157, 0.67437859, 0.67437859, 0.66042449,\n",
       "         0.66042449, 0.65773999, 0.65773999, 0.7555174 , 0.7555174 ,\n",
       "         0.9237333 , 0.9237333 , 0.32148737, 0.32148737, 0.83495972,\n",
       "         0.83495972, 0.69940673, 0.69940673, 0.91774338, 0.91774338,\n",
       "         0.59373259, 0.59373259, 0.1279851 , 0.1279851 , 0.50816874,\n",
       "         0.50816874, 0.4027231 , 0.4027231 , 0.19227106, 0.19227106])}}"
      ]
     },
     "execution_count": 1,
     "metadata": {},
     "output_type": "execute_result"
    }
   ],
   "source": [
    "ds = load_by_id(run_id_n)\n",
    "ds.get_parameter_data('x1')"
   ]
  },
  {
   "cell_type": "markdown",
   "metadata": {},
   "source": [
    "And a dataset stored as binary arrays"
   ]
  },
  {
   "cell_type": "code",
   "execution_count": 12,
   "metadata": {
    "execution": {
     "iopub.execute_input": "2021-03-29T07:32:28.375006Z",
     "iopub.status.busy": "2021-03-29T07:32:28.374336Z",
     "iopub.status.idle": "2021-03-29T07:32:28.443415Z",
     "shell.execute_reply": "2021-03-29T07:32:28.444101Z"
    },
    "scrolled": true
   },
   "outputs": [
    {
     "data": {
      "text/plain": [
       "{'x1': {'x1': array([[0.93472942],\n",
       "         [0.93472942],\n",
       "         [0.25462171],\n",
       "         [0.25462171],\n",
       "         [0.10697684],\n",
       "         [0.10697684],\n",
       "         [0.89043148],\n",
       "         [0.89043148],\n",
       "         [0.46262064],\n",
       "         [0.46262064],\n",
       "         [0.60644766],\n",
       "         [0.60644766],\n",
       "         [0.7436773 ],\n",
       "         [0.7436773 ],\n",
       "         [0.15895328],\n",
       "         [0.15895328],\n",
       "         [0.23611092],\n",
       "         [0.23611092],\n",
       "         [0.91163877],\n",
       "         [0.91163877],\n",
       "         [0.80971982],\n",
       "         [0.80971982],\n",
       "         [0.02461471],\n",
       "         [0.02461471],\n",
       "         [0.0876836 ],\n",
       "         [0.0876836 ],\n",
       "         [0.33846166],\n",
       "         [0.33846166],\n",
       "         [0.21756688],\n",
       "         [0.21756688],\n",
       "         [0.96207973],\n",
       "         [0.96207973],\n",
       "         [0.94686344],\n",
       "         [0.94686344],\n",
       "         [0.31273968],\n",
       "         [0.31273968],\n",
       "         [0.45114442],\n",
       "         [0.45114442],\n",
       "         [0.09501092],\n",
       "         [0.09501092],\n",
       "         [0.6315317 ],\n",
       "         [0.6315317 ],\n",
       "         [0.02814743],\n",
       "         [0.02814743],\n",
       "         [0.32895327],\n",
       "         [0.32895327],\n",
       "         [0.87550881],\n",
       "         [0.87550881],\n",
       "         [0.87730019],\n",
       "         [0.87730019],\n",
       "         [0.88866473],\n",
       "         [0.88866473],\n",
       "         [0.14449718],\n",
       "         [0.14449718],\n",
       "         [0.80175724],\n",
       "         [0.80175724],\n",
       "         [0.246728  ],\n",
       "         [0.246728  ],\n",
       "         [0.43576334],\n",
       "         [0.43576334],\n",
       "         [0.75361591],\n",
       "         [0.75361591],\n",
       "         [0.89570024],\n",
       "         [0.89570024],\n",
       "         [0.03484383],\n",
       "         [0.03484383],\n",
       "         [0.36091362],\n",
       "         [0.36091362],\n",
       "         [0.60670469],\n",
       "         [0.60670469],\n",
       "         [0.73205717],\n",
       "         [0.73205717],\n",
       "         [0.08448425],\n",
       "         [0.08448425],\n",
       "         [0.67631179],\n",
       "         [0.67631179],\n",
       "         [0.36951208],\n",
       "         [0.36951208],\n",
       "         [0.87310533],\n",
       "         [0.87310533],\n",
       "         [0.03005413],\n",
       "         [0.03005413],\n",
       "         [0.31527339],\n",
       "         [0.31527339],\n",
       "         [0.82545286],\n",
       "         [0.82545286],\n",
       "         [0.88485243],\n",
       "         [0.88485243],\n",
       "         [0.31669869],\n",
       "         [0.31669869],\n",
       "         [0.23690884],\n",
       "         [0.23690884],\n",
       "         [0.36831567],\n",
       "         [0.36831567],\n",
       "         [0.60764591],\n",
       "         [0.60764591],\n",
       "         [0.6043679 ],\n",
       "         [0.6043679 ],\n",
       "         [0.45476777],\n",
       "         [0.45476777],\n",
       "         [0.43933677],\n",
       "         [0.43933677],\n",
       "         [0.64908547],\n",
       "         [0.64908547],\n",
       "         [0.9234941 ],\n",
       "         [0.9234941 ],\n",
       "         [0.55546846],\n",
       "         [0.55546846],\n",
       "         [0.35778316],\n",
       "         [0.35778316],\n",
       "         [0.10860784],\n",
       "         [0.10860784],\n",
       "         [0.26205454],\n",
       "         [0.26205454],\n",
       "         [0.9073749 ],\n",
       "         [0.9073749 ],\n",
       "         [0.24375096],\n",
       "         [0.24375096],\n",
       "         [0.07338188],\n",
       "         [0.07338188],\n",
       "         [0.00317746],\n",
       "         [0.00317746],\n",
       "         [0.63851418],\n",
       "         [0.63851418],\n",
       "         [0.55682787],\n",
       "         [0.55682787],\n",
       "         [0.07130281],\n",
       "         [0.07130281],\n",
       "         [0.71415814],\n",
       "         [0.71415814],\n",
       "         [0.40364472],\n",
       "         [0.40364472],\n",
       "         [0.41634921],\n",
       "         [0.41634921],\n",
       "         [0.82930014],\n",
       "         [0.82930014],\n",
       "         [0.10337344],\n",
       "         [0.10337344],\n",
       "         [0.13852583],\n",
       "         [0.13852583],\n",
       "         [0.09484521],\n",
       "         [0.09484521],\n",
       "         [0.42018587],\n",
       "         [0.42018587],\n",
       "         [0.70236534],\n",
       "         [0.70236534],\n",
       "         [0.55213971],\n",
       "         [0.55213971],\n",
       "         [0.82977177],\n",
       "         [0.82977177],\n",
       "         [0.09644841],\n",
       "         [0.09644841],\n",
       "         [0.2492505 ],\n",
       "         [0.2492505 ],\n",
       "         [0.99643624],\n",
       "         [0.99643624],\n",
       "         [0.47516735],\n",
       "         [0.47516735],\n",
       "         [0.68236188],\n",
       "         [0.68236188],\n",
       "         [0.59704137],\n",
       "         [0.59704137],\n",
       "         [0.89773675],\n",
       "         [0.89773675],\n",
       "         [0.42456529],\n",
       "         [0.42456529],\n",
       "         [0.55910585],\n",
       "         [0.55910585],\n",
       "         [0.17850959],\n",
       "         [0.17850959],\n",
       "         [0.05820566],\n",
       "         [0.05820566],\n",
       "         [0.13542503],\n",
       "         [0.13542503],\n",
       "         [0.16625697],\n",
       "         [0.16625697],\n",
       "         [0.36887555],\n",
       "         [0.36887555],\n",
       "         [0.14146031],\n",
       "         [0.14146031],\n",
       "         [0.87683067],\n",
       "         [0.87683067],\n",
       "         [0.4700601 ],\n",
       "         [0.4700601 ],\n",
       "         [0.58939819],\n",
       "         [0.58939819],\n",
       "         [0.91659757],\n",
       "         [0.91659757],\n",
       "         [0.36977366],\n",
       "         [0.36977366],\n",
       "         [0.23242523],\n",
       "         [0.23242523],\n",
       "         [0.48280744],\n",
       "         [0.48280744],\n",
       "         [0.44243321],\n",
       "         [0.44243321],\n",
       "         [0.51041698],\n",
       "         [0.51041698],\n",
       "         [0.06613966],\n",
       "         [0.06613966]])}}"
      ]
     },
     "execution_count": 1,
     "metadata": {},
     "output_type": "execute_result"
    }
   ],
   "source": [
    "ds = load_by_id(run_id_a)\n",
    "ds.get_parameter_data('x1')"
   ]
  },
  {
   "cell_type": "code",
   "execution_count": null,
   "metadata": {},
   "outputs": [],
   "source": []
  }
 ],
 "metadata": {
  "kernelspec": {
   "display_name": "Python 3",
   "language": "python",
   "name": "python3"
  },
  "language_info": {
   "codemirror_mode": {
    "name": "ipython",
    "version": 3
   },
   "file_extension": ".py",
   "mimetype": "text/x-python",
   "name": "python",
   "nbconvert_exporter": "python",
   "pygments_lexer": "ipython3",
   "version": "3.7.10"
  },
  "nbsphinx": {
   "timeout": 600
  },
  "toc": {
   "base_numbering": 1,
   "nav_menu": {},
   "number_sections": true,
   "sideBar": true,
   "skip_h1_title": false,
   "title_cell": "Table of Contents",
   "title_sidebar": "Contents",
   "toc_cell": false,
   "toc_position": {},
   "toc_section_display": true,
   "toc_window_display": false
  },
  "varInspector": {
   "cols": {
    "lenName": 16,
    "lenType": 16,
    "lenVar": 40
   },
   "kernels_config": {
    "python": {
     "delete_cmd_postfix": "",
     "delete_cmd_prefix": "del ",
     "library": "var_list.py",
     "varRefreshCmd": "print(var_dic_list())"
    },
    "r": {
     "delete_cmd_postfix": ") ",
     "delete_cmd_prefix": "rm(",
     "library": "var_list.r",
     "varRefreshCmd": "cat(var_dic_list()) "
    }
   },
   "types_to_exclude": [
    "module",
    "function",
    "builtin_function_or_method",
    "instance",
    "_Feature"
   ],
   "window_display": false
  }
 },
 "nbformat": 4,
 "nbformat_minor": 2
}
