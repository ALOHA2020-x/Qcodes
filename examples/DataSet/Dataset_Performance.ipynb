{
 "cells": [
  {
   "cell_type": "markdown",
   "metadata": {},
   "source": [
    "# DataSet Performance\n",
    "\n",
    "This notebook shows the trade-off between inserting data into a database row-by-row and as binary blobs. Inserting the data row-by-row means that we have direct access to all the data and may perform queries directly on the values of the data. On the other hand, as we shall see, this is much slower than inserting the data directly as binary blobs."
   ]
  },
  {
   "cell_type": "markdown",
   "metadata": {},
   "source": [
    "First, we choose a new location for the database to ensure that we don't add a bunch of benchmarking data to the default one."
   ]
  },
  {
   "cell_type": "code",
   "execution_count": 1,
   "metadata": {
    "execution": {
     "iopub.execute_input": "2021-01-31T15:28:30.895047Z",
     "iopub.status.busy": "2021-01-31T15:28:30.894336Z",
     "iopub.status.idle": "2021-01-31T15:28:31.804944Z",
     "shell.execute_reply": "2021-01-31T15:28:31.804370Z"
    }
   },
   "outputs": [
    {
     "name": "stdout",
     "output_type": "stream",
     "text": [
      "Logging hadn't been started.\n",
      "Activating auto-logging. Current session state plus future input saved.\n",
      "Filename       : /home/vsts/.qcodes/logs/command_history.log\n",
      "Mode           : append\n",
      "Output logging : True\n",
      "Raw input log  : False\n",
      "Timestamping   : True\n",
      "State          : active\n"
     ]
    },
    {
     "name": "stdout",
     "output_type": "stream",
     "text": [
      "Qcodes Logfile : /home/vsts/.qcodes/logs/210131-13853-qcodes.log\n"
     ]
    }
   ],
   "source": [
    "import os\n",
    "cwd = os.getcwd()\n",
    "import qcodes as qc\n",
    "qc.config[\"core\"][\"db_location\"] = os.path.join(cwd, 'testing.db')\n"
   ]
  },
  {
   "cell_type": "code",
   "execution_count": 2,
   "metadata": {
    "execution": {
     "iopub.execute_input": "2021-01-31T15:28:31.811013Z",
     "iopub.status.busy": "2021-01-31T15:28:31.810435Z",
     "iopub.status.idle": "2021-01-31T15:28:31.982675Z",
     "shell.execute_reply": "2021-01-31T15:28:31.981729Z"
    }
   },
   "outputs": [],
   "source": [
    "%matplotlib inline\n",
    "import time\n",
    "import matplotlib.pyplot as plt\n",
    "import numpy as np\n",
    "\n",
    "import qcodes as qc\n",
    "from qcodes.instrument.parameter import ManualParameter\n",
    "from qcodes.dataset.experiment_container import (Experiment,\n",
    "                                                 load_last_experiment,\n",
    "                                                 new_experiment)\n",
    "from qcodes.dataset.sqlite.database import initialise_database\n",
    "from qcodes import load_or_create_experiment\n",
    "from qcodes.dataset.measurements import Measurement"
   ]
  },
  {
   "cell_type": "code",
   "execution_count": 3,
   "metadata": {
    "execution": {
     "iopub.execute_input": "2021-01-31T15:28:31.986325Z",
     "iopub.status.busy": "2021-01-31T15:28:31.985881Z",
     "iopub.status.idle": "2021-01-31T15:28:32.086080Z",
     "shell.execute_reply": "2021-01-31T15:28:32.086453Z"
    }
   },
   "outputs": [
    {
     "name": "stdout",
     "output_type": "stream",
     "text": [
      "\r",
      "0it [00:00, ?it/s]"
     ]
    },
    {
     "name": "stdout",
     "output_type": "stream",
     "text": [
      "\r",
      "Upgrading database; v0 -> v1: : 0it [00:00, ?it/s]"
     ]
    },
    {
     "name": "stdout",
     "output_type": "stream",
     "text": [
      "\r",
      "Upgrading database; v0 -> v1: : 0it [00:00, ?it/s]"
     ]
    },
    {
     "name": "stdout",
     "output_type": "stream",
     "text": [
      "\n",
      "\r",
      "  0%|          | 0/1 [00:00<?, ?it/s]"
     ]
    },
    {
     "name": "stdout",
     "output_type": "stream",
     "text": [
      "\r",
      "Upgrading database; v1 -> v2:   0%|          | 0/1 [00:00<?, ?it/s]"
     ]
    },
    {
     "name": "stdout",
     "output_type": "stream",
     "text": [
      "\r",
      "Upgrading database; v1 -> v2: 100%|██████████| 1/1 [00:00<00:00, 436.95it/s]"
     ]
    },
    {
     "name": "stdout",
     "output_type": "stream",
     "text": [
      "\n",
      "\r",
      "0it [00:00, ?it/s]"
     ]
    },
    {
     "name": "stdout",
     "output_type": "stream",
     "text": [
      "\r",
      "Upgrading database; v2 -> v3: : 0it [00:00, ?it/s]"
     ]
    },
    {
     "name": "stdout",
     "output_type": "stream",
     "text": [
      "\r",
      "Upgrading database; v2 -> v3: : 0it [00:00, ?it/s]"
     ]
    },
    {
     "name": "stdout",
     "output_type": "stream",
     "text": [
      "\n",
      "\r",
      "0it [00:00, ?it/s]"
     ]
    },
    {
     "name": "stdout",
     "output_type": "stream",
     "text": [
      "\r",
      "Upgrading database; v3 -> v4: : 0it [00:00, ?it/s]"
     ]
    },
    {
     "name": "stdout",
     "output_type": "stream",
     "text": [
      "\r",
      "Upgrading database; v3 -> v4: : 0it [00:00, ?it/s]"
     ]
    },
    {
     "name": "stdout",
     "output_type": "stream",
     "text": [
      "\n",
      "\r",
      "  0%|          | 0/1 [00:00<?, ?it/s]"
     ]
    },
    {
     "name": "stdout",
     "output_type": "stream",
     "text": [
      "\r",
      "Upgrading database; v4 -> v5:   0%|          | 0/1 [00:00<?, ?it/s]"
     ]
    },
    {
     "name": "stdout",
     "output_type": "stream",
     "text": [
      "\r",
      "Upgrading database; v4 -> v5: 100%|██████████| 1/1 [00:00<00:00, 442.39it/s]"
     ]
    },
    {
     "name": "stdout",
     "output_type": "stream",
     "text": [
      "\n",
      "\r",
      "0it [00:00, ?it/s]"
     ]
    },
    {
     "name": "stdout",
     "output_type": "stream",
     "text": [
      "\r",
      "Upgrading database; v5 -> v6: : 0it [00:00, ?it/s]"
     ]
    },
    {
     "name": "stdout",
     "output_type": "stream",
     "text": [
      "\r",
      "Upgrading database; v5 -> v6: : 0it [00:00, ?it/s]"
     ]
    },
    {
     "name": "stdout",
     "output_type": "stream",
     "text": [
      "\n",
      "\r",
      "  0%|          | 0/1 [00:00<?, ?it/s]"
     ]
    },
    {
     "name": "stdout",
     "output_type": "stream",
     "text": [
      "\r",
      "Upgrading database; v6 -> v7:   0%|          | 0/1 [00:00<?, ?it/s]"
     ]
    },
    {
     "name": "stdout",
     "output_type": "stream",
     "text": [
      "\r",
      "Upgrading database; v6 -> v7: 100%|██████████| 1/1 [00:00<00:00, 396.77it/s]"
     ]
    },
    {
     "name": "stdout",
     "output_type": "stream",
     "text": [
      "\n",
      "\r",
      "  0%|          | 0/1 [00:00<?, ?it/s]"
     ]
    },
    {
     "name": "stdout",
     "output_type": "stream",
     "text": [
      "\r",
      "Upgrading database; v7 -> v8:   0%|          | 0/1 [00:00<?, ?it/s]"
     ]
    },
    {
     "name": "stdout",
     "output_type": "stream",
     "text": [
      "\r",
      "Upgrading database; v7 -> v8: 100%|██████████| 1/1 [00:00<00:00, 427.64it/s]"
     ]
    },
    {
     "name": "stdout",
     "output_type": "stream",
     "text": [
      "\n",
      "\r",
      "  0%|          | 0/1 [00:00<?, ?it/s]"
     ]
    },
    {
     "name": "stdout",
     "output_type": "stream",
     "text": [
      "\r",
      "Upgrading database; v8 -> v9:   0%|          | 0/1 [00:00<?, ?it/s]"
     ]
    },
    {
     "name": "stdout",
     "output_type": "stream",
     "text": [
      "\r",
      "Upgrading database; v8 -> v9: 100%|██████████| 1/1 [00:00<00:00, 462.69it/s]"
     ]
    },
    {
     "name": "stdout",
     "output_type": "stream",
     "text": [
      "\n"
     ]
    }
   ],
   "source": [
    "initialise_database()\n",
    "exp = load_or_create_experiment(experiment_name='tutorial_exp', sample_name=\"no sample\")"
   ]
  },
  {
   "cell_type": "markdown",
   "metadata": {},
   "source": [
    "Here, we define a simple function to benchmark the time it takes to insert n points with either numeric or array data type.\n",
    "We will compare both the time used to call ``add_result`` and the time used for the full measurement."
   ]
  },
  {
   "cell_type": "code",
   "execution_count": 4,
   "metadata": {
    "execution": {
     "iopub.execute_input": "2021-01-31T15:28:32.094409Z",
     "iopub.status.busy": "2021-01-31T15:28:32.093596Z",
     "iopub.status.idle": "2021-01-31T15:28:32.095161Z",
     "shell.execute_reply": "2021-01-31T15:28:32.095555Z"
    }
   },
   "outputs": [],
   "source": [
    "def insert_data(paramtype, npoints, nreps=1):\n",
    "\n",
    "    meas = Measurement(exp=exp)\n",
    "\n",
    "    x1 = ManualParameter('x1')\n",
    "    x2 = ManualParameter('x2')\n",
    "    x3 = ManualParameter('x3')\n",
    "    y1 = ManualParameter('y1')\n",
    "    y2 = ManualParameter('y2')\n",
    "\n",
    "    meas.register_parameter(x1, paramtype=paramtype)\n",
    "    meas.register_parameter(x2, paramtype=paramtype)\n",
    "    meas.register_parameter(x3, paramtype=paramtype)\n",
    "    meas.register_parameter(y1, setpoints=[x1, x2, x3],\n",
    "                            paramtype=paramtype)\n",
    "    meas.register_parameter(y2, setpoints=[x1, x2, x3],\n",
    "                            paramtype=paramtype)\n",
    "    start = time.perf_counter()\n",
    "    with meas.run() as datasaver:\n",
    "        start_adding = time.perf_counter()\n",
    "        for i in range(nreps):\n",
    "            datasaver.add_result((x1, np.random.rand(npoints)),\n",
    "                                 (x2, np.random.rand(npoints)),\n",
    "                                 (x3, np.random.rand(npoints)),\n",
    "                                 (y1, np.random.rand(npoints)),\n",
    "                                 (y2, np.random.rand(npoints)))\n",
    "        stop_adding = time.perf_counter()\n",
    "        run_id = datasaver.run_id\n",
    "    stop = time.perf_counter()\n",
    "    tot_time = stop - start\n",
    "    add_time = stop_adding - start_adding\n",
    "    return tot_time, add_time, run_id"
   ]
  },
  {
   "cell_type": "markdown",
   "metadata": {},
   "source": [
    "## Comparison between numeric/array data and binary blob"
   ]
  },
  {
   "cell_type": "markdown",
   "metadata": {},
   "source": [
    "### Case1: Short experiment time"
   ]
  },
  {
   "cell_type": "code",
   "execution_count": 5,
   "metadata": {
    "execution": {
     "iopub.execute_input": "2021-01-31T15:28:32.101360Z",
     "iopub.status.busy": "2021-01-31T15:28:32.099285Z",
     "iopub.status.idle": "2021-01-31T15:28:32.844793Z",
     "shell.execute_reply": "2021-01-31T15:28:32.844309Z"
    }
   },
   "outputs": [
    {
     "name": "stdout",
     "output_type": "stream",
     "text": [
      "Starting experimental run with id: 1. \n",
      "Starting experimental run with id: 2. \n",
      "Starting experimental run with id: 3. \n",
      "Starting experimental run with id: 4. \n",
      "Starting experimental run with id: 5. \n"
     ]
    },
    {
     "name": "stdout",
     "output_type": "stream",
     "text": [
      "Starting experimental run with id: 6. "
     ]
    },
    {
     "name": "stdout",
     "output_type": "stream",
     "text": [
      "\n"
     ]
    },
    {
     "name": "stdout",
     "output_type": "stream",
     "text": [
      "Starting experimental run with id: 7. "
     ]
    },
    {
     "name": "stdout",
     "output_type": "stream",
     "text": [
      "\n"
     ]
    },
    {
     "name": "stdout",
     "output_type": "stream",
     "text": [
      "Starting experimental run with id: 8. \n",
      "Starting experimental run with id: 9. \n"
     ]
    },
    {
     "name": "stdout",
     "output_type": "stream",
     "text": [
      "Starting experimental run with id: 10. \n"
     ]
    },
    {
     "name": "stdout",
     "output_type": "stream",
     "text": [
      "Starting experimental run with id: 11. \n"
     ]
    },
    {
     "name": "stdout",
     "output_type": "stream",
     "text": [
      "Starting experimental run with id: 12. \n",
      "Starting experimental run with id: 13. \n"
     ]
    },
    {
     "name": "stdout",
     "output_type": "stream",
     "text": [
      "Starting experimental run with id: 14. \n"
     ]
    }
   ],
   "source": [
    "sizes = [1,500,1000,2000,3000,4000,5000]\n",
    "t_numeric = []\n",
    "t_numeric_add = []\n",
    "t_array = []\n",
    "t_array_add = []\n",
    "for size in sizes:\n",
    "    tn, tna, run_id_n =  insert_data('numeric', size)\n",
    "    t_numeric.append(tn)\n",
    "    t_numeric_add.append(tna)\n",
    "\n",
    "    ta, taa, run_id_a =  insert_data('array', size)\n",
    "    t_array.append(ta)\n",
    "    t_array_add.append(taa)"
   ]
  },
  {
   "cell_type": "code",
   "execution_count": 6,
   "metadata": {
    "execution": {
     "iopub.execute_input": "2021-01-31T15:28:32.849385Z",
     "iopub.status.busy": "2021-01-31T15:28:32.848860Z",
     "iopub.status.idle": "2021-01-31T15:28:33.037196Z",
     "shell.execute_reply": "2021-01-31T15:28:33.037748Z"
    }
   },
   "outputs": [
    {
     "data": {
      "image/png": "[encoded data removed]",
      "text/plain": [
       "<Figure size 432x288 with 1 Axes>"
      ]
     },
     "metadata": {
      "needs_background": "light"
     },
     "output_type": "display_data"
    }
   ],
   "source": [
    "fig, ax = plt.subplots(1,1)\n",
    "ax.plot(sizes, t_numeric, 'o-', label='Inserting row-by-row')\n",
    "ax.plot(sizes, t_numeric_add, 'o-', label='Inserting row-by-row: add_result only')\n",
    "ax.plot(sizes, t_array, 'd-', label='Inserting as binary blob')\n",
    "ax.plot(sizes, t_array_add, 'd-', label='Inserting as binary blob: add_result only')\n",
    "ax.legend()\n",
    "ax.set_xlabel('Array length')\n",
    "ax.set_ylabel('Time (s)')\n",
    "fig.tight_layout()"
   ]
  },
  {
   "cell_type": "markdown",
   "metadata": {},
   "source": [
    "As shown in the latter figure, the time to setup and and close the experiment is approximately 0.4 sec. In case of small array sizes, the difference between inserting values of data as arrays and inserting them row-by-row is relatively unimportant. At larger array sizes, i.e. above 10000 points, the cost of writing data as individual datapoints starts to become important.\n"
   ]
  },
  {
   "cell_type": "markdown",
   "metadata": {},
   "source": [
    "### Case2: Long experiment time "
   ]
  },
  {
   "cell_type": "code",
   "execution_count": 7,
   "metadata": {
    "execution": {
     "iopub.execute_input": "2021-01-31T15:28:33.040322Z",
     "iopub.status.busy": "2021-01-31T15:28:33.039792Z",
     "iopub.status.idle": "2021-01-31T15:29:26.124616Z",
     "shell.execute_reply": "2021-01-31T15:29:26.123343Z"
    }
   },
   "outputs": [
    {
     "name": "stdout",
     "output_type": "stream",
     "text": [
      "Starting experimental run with id: 15. \n",
      "Starting experimental run with id: 16. \n",
      "Starting experimental run with id: 17. \n"
     ]
    },
    {
     "name": "stdout",
     "output_type": "stream",
     "text": [
      "Starting experimental run with id: 18. \n",
      "Starting experimental run with id: 19. \n"
     ]
    },
    {
     "name": "stdout",
     "output_type": "stream",
     "text": [
      "Starting experimental run with id: 20. \n"
     ]
    },
    {
     "name": "stdout",
     "output_type": "stream",
     "text": [
      "Starting experimental run with id: 21. \n"
     ]
    },
    {
     "name": "stdout",
     "output_type": "stream",
     "text": [
      "Starting experimental run with id: 22. \n"
     ]
    },
    {
     "name": "stdout",
     "output_type": "stream",
     "text": [
      "Starting experimental run with id: 23. \n"
     ]
    },
    {
     "name": "stdout",
     "output_type": "stream",
     "text": [
      "Starting experimental run with id: 24. \n"
     ]
    },
    {
     "name": "stdout",
     "output_type": "stream",
     "text": [
      "Starting experimental run with id: 25. \n"
     ]
    },
    {
     "name": "stdout",
     "output_type": "stream",
     "text": [
      "Starting experimental run with id: 26. \n"
     ]
    },
    {
     "name": "stdout",
     "output_type": "stream",
     "text": [
      "Starting experimental run with id: 27. \n"
     ]
    },
    {
     "name": "stdout",
     "output_type": "stream",
     "text": [
      "Starting experimental run with id: 28. \n"
     ]
    }
   ],
   "source": [
    "sizes = [1,500,1000,2000,3000,4000,5000]\n",
    "nreps = 100\n",
    "t_numeric = []\n",
    "t_numeric_add = []\n",
    "t_numeric_run_ids = []\n",
    "t_array = []\n",
    "t_array_add = []\n",
    "t_array_run_ids = []\n",
    "for size in sizes:\n",
    "    tn, tna, run_id_n =  insert_data('numeric', size, nreps=nreps)\n",
    "    t_numeric.append(tn)\n",
    "    t_numeric_add.append(tna)\n",
    "    t_numeric_run_ids.append(run_id_n)\n",
    "\n",
    "    ta, taa, run_id_a =  insert_data('array', size, nreps=nreps)\n",
    "    t_array.append(ta)\n",
    "    t_array_add.append(taa)\n",
    "    t_array_run_ids.append(run_id_a)"
   ]
  },
  {
   "cell_type": "code",
   "execution_count": 8,
   "metadata": {
    "execution": {
     "iopub.execute_input": "2021-01-31T15:29:26.153078Z",
     "iopub.status.busy": "2021-01-31T15:29:26.140146Z",
     "iopub.status.idle": "2021-01-31T15:29:26.310060Z",
     "shell.execute_reply": "2021-01-31T15:29:26.310528Z"
    },
    "scrolled": true
   },
   "outputs": [
    {
     "data": {
      "image/png": "[encoded data removed]",
      "text/plain": [
       "<Figure size 432x288 with 1 Axes>"
      ]
     },
     "metadata": {
      "needs_background": "light"
     },
     "output_type": "display_data"
    }
   ],
   "source": [
    "fig, ax = plt.subplots(1,1)\n",
    "ax.plot(sizes, t_numeric, 'o-', label='Inserting row-by-row')\n",
    "ax.plot(sizes, t_numeric_add, 'o-', label='Inserting row-by-row: add_result only')\n",
    "ax.plot(sizes, t_array, 'd-', label='Inserting as binary blob')\n",
    "ax.plot(sizes, t_array_add, 'd-', label='Inserting as binary blob: add_result only')\n",
    "ax.legend()\n",
    "ax.set_xlabel('Array length')\n",
    "ax.set_ylabel('Time (s)')\n",
    "fig.tight_layout()"
   ]
  },
  {
   "cell_type": "markdown",
   "metadata": {},
   "source": [
    "However, as we increase the length of the experiment, as seen here by repeating the insertion 100 times, we see a big difference between inserting values of the data row-by-row and inserting it as a binary blob."
   ]
  },
  {
   "cell_type": "markdown",
   "metadata": {},
   "source": [
    "## Loading the data "
   ]
  },
  {
   "cell_type": "code",
   "execution_count": 9,
   "metadata": {
    "execution": {
     "iopub.execute_input": "2021-01-31T15:29:26.315175Z",
     "iopub.status.busy": "2021-01-31T15:29:26.313879Z",
     "iopub.status.idle": "2021-01-31T15:29:26.317261Z",
     "shell.execute_reply": "2021-01-31T15:29:26.317948Z"
    }
   },
   "outputs": [],
   "source": [
    "from qcodes.dataset.data_set import load_by_id\n",
    "from qcodes.dataset.data_export import get_data_by_id"
   ]
  },
  {
   "cell_type": "markdown",
   "metadata": {},
   "source": [
    "As usual you can load the data by using the ``load_by_id`` function but you will notice that the different storage methods\n",
    "are reflected in shape of the data as it is retrieved. "
   ]
  },
  {
   "cell_type": "code",
   "execution_count": 10,
   "metadata": {
    "execution": {
     "iopub.execute_input": "2021-01-31T15:29:26.321057Z",
     "iopub.status.busy": "2021-01-31T15:29:26.320095Z",
     "iopub.status.idle": "2021-01-31T15:29:26.323811Z",
     "shell.execute_reply": "2021-01-31T15:29:26.324405Z"
    }
   },
   "outputs": [],
   "source": [
    "run_id_n = t_numeric_run_ids[0]\n",
    "run_id_a = t_array_run_ids[0]"
   ]
  },
  {
   "cell_type": "code",
   "execution_count": 11,
   "metadata": {
    "execution": {
     "iopub.execute_input": "2021-01-31T15:29:26.327786Z",
     "iopub.status.busy": "2021-01-31T15:29:26.326460Z",
     "iopub.status.idle": "2021-01-31T15:29:26.338025Z",
     "shell.execute_reply": "2021-01-31T15:29:26.337582Z"
    },
    "scrolled": true
   },
   "outputs": [
    {
     "data": {
      "text/plain": [
       "{'x1': {'x1': array([0.52506554, 0.52506554, 0.4177666 , 0.4177666 , 0.0621285 ,\n",
       "         0.0621285 , 0.1302095 , 0.1302095 , 0.35437504, 0.35437504,\n",
       "         0.04085492, 0.04085492, 0.76036379, 0.76036379, 0.68752009,\n",
       "         0.68752009, 0.76628233, 0.76628233, 0.98941103, 0.98941103,\n",
       "         0.95445713, 0.95445713, 0.91645526, 0.91645526, 0.31344108,\n",
       "         0.31344108, 0.67545612, 0.67545612, 0.47067111, 0.47067111,\n",
       "         0.1668781 , 0.1668781 , 0.0348462 , 0.0348462 , 0.01304204,\n",
       "         0.01304204, 0.21276009, 0.21276009, 0.80682391, 0.80682391,\n",
       "         0.7037153 , 0.7037153 , 0.51282155, 0.51282155, 0.80576596,\n",
       "         0.80576596, 0.48422679, 0.48422679, 0.37716594, 0.37716594,\n",
       "         0.39536865, 0.39536865, 0.24250163, 0.24250163, 0.57263381,\n",
       "         0.57263381, 0.003804  , 0.003804  , 0.15397278, 0.15397278,\n",
       "         0.12195909, 0.12195909, 0.14841136, 0.14841136, 0.31910265,\n",
       "         0.31910265, 0.70078888, 0.70078888, 0.65372281, 0.65372281,\n",
       "         0.76377653, 0.76377653, 0.80082173, 0.80082173, 0.85844897,\n",
       "         0.85844897, 0.6951517 , 0.6951517 , 0.12542238, 0.12542238,\n",
       "         0.0114008 , 0.0114008 , 0.43305817, 0.43305817, 0.85926386,\n",
       "         0.85926386, 0.71996331, 0.71996331, 0.07394008, 0.07394008,\n",
       "         0.16261478, 0.16261478, 0.02977802, 0.02977802, 0.48879548,\n",
       "         0.48879548, 0.06522708, 0.06522708, 0.64856077, 0.64856077,\n",
       "         0.38335621, 0.38335621, 0.81717014, 0.81717014, 0.5694944 ,\n",
       "         0.5694944 , 0.12654463, 0.12654463, 0.98422164, 0.98422164,\n",
       "         0.09758728, 0.09758728, 0.22729795, 0.22729795, 0.17363562,\n",
       "         0.17363562, 0.75781852, 0.75781852, 0.82421983, 0.82421983,\n",
       "         0.26010723, 0.26010723, 0.0524014 , 0.0524014 , 0.59044903,\n",
       "         0.59044903, 0.42072029, 0.42072029, 0.82254004, 0.82254004,\n",
       "         0.40524983, 0.40524983, 0.81230675, 0.81230675, 0.87350456,\n",
       "         0.87350456, 0.7904131 , 0.7904131 , 0.26689648, 0.26689648,\n",
       "         0.07542246, 0.07542246, 0.0056751 , 0.0056751 , 0.99837883,\n",
       "         0.99837883, 0.88054818, 0.88054818, 0.45996146, 0.45996146,\n",
       "         0.24069828, 0.24069828, 0.76070253, 0.76070253, 0.56782244,\n",
       "         0.56782244, 0.48326252, 0.48326252, 0.88154277, 0.88154277,\n",
       "         0.6166912 , 0.6166912 , 0.61866453, 0.61866453, 0.56312143,\n",
       "         0.56312143, 0.92014915, 0.92014915, 0.97460868, 0.97460868,\n",
       "         0.53332127, 0.53332127, 0.95802798, 0.95802798, 0.6439266 ,\n",
       "         0.6439266 , 0.90324106, 0.90324106, 0.24365491, 0.24365491,\n",
       "         0.81497709, 0.81497709, 0.4074029 , 0.4074029 , 0.46896589,\n",
       "         0.46896589, 0.79081495, 0.79081495, 0.27066453, 0.27066453,\n",
       "         0.21617379, 0.21617379, 0.68157012, 0.68157012, 0.17317926,\n",
       "         0.17317926, 0.47358201, 0.47358201, 0.95628548, 0.95628548])}}"
      ]
     },
     "execution_count": 1,
     "metadata": {},
     "output_type": "execute_result"
    }
   ],
   "source": [
    "ds = load_by_id(run_id_n)\n",
    "ds.get_parameter_data('x1')"
   ]
  },
  {
   "cell_type": "markdown",
   "metadata": {},
   "source": [
    "And a dataset stored as binary arrays"
   ]
  },
  {
   "cell_type": "code",
   "execution_count": 12,
   "metadata": {
    "execution": {
     "iopub.execute_input": "2021-01-31T15:29:26.341769Z",
     "iopub.status.busy": "2021-01-31T15:29:26.340159Z",
     "iopub.status.idle": "2021-01-31T15:29:26.390585Z",
     "shell.execute_reply": "2021-01-31T15:29:26.390191Z"
    },
    "scrolled": true
   },
   "outputs": [
    {
     "data": {
      "text/plain": [
       "{'x1': {'x1': array([[0.90746975],\n",
       "         [0.90746975],\n",
       "         [0.29060425],\n",
       "         [0.29060425],\n",
       "         [0.60487138],\n",
       "         [0.60487138],\n",
       "         [0.11319841],\n",
       "         [0.11319841],\n",
       "         [0.54167143],\n",
       "         [0.54167143],\n",
       "         [0.89779257],\n",
       "         [0.89779257],\n",
       "         [0.86167674],\n",
       "         [0.86167674],\n",
       "         [0.94106101],\n",
       "         [0.94106101],\n",
       "         [0.28759042],\n",
       "         [0.28759042],\n",
       "         [0.88984145],\n",
       "         [0.88984145],\n",
       "         [0.53893122],\n",
       "         [0.53893122],\n",
       "         [0.02171865],\n",
       "         [0.02171865],\n",
       "         [0.86506266],\n",
       "         [0.86506266],\n",
       "         [0.23706573],\n",
       "         [0.23706573],\n",
       "         [0.50796235],\n",
       "         [0.50796235],\n",
       "         [0.06234115],\n",
       "         [0.06234115],\n",
       "         [0.14594719],\n",
       "         [0.14594719],\n",
       "         [0.84329324],\n",
       "         [0.84329324],\n",
       "         [0.11162847],\n",
       "         [0.11162847],\n",
       "         [0.69103657],\n",
       "         [0.69103657],\n",
       "         [0.27531164],\n",
       "         [0.27531164],\n",
       "         [0.68740194],\n",
       "         [0.68740194],\n",
       "         [0.2166801 ],\n",
       "         [0.2166801 ],\n",
       "         [0.70660121],\n",
       "         [0.70660121],\n",
       "         [0.42775034],\n",
       "         [0.42775034],\n",
       "         [0.07271157],\n",
       "         [0.07271157],\n",
       "         [0.20715433],\n",
       "         [0.20715433],\n",
       "         [0.98774835],\n",
       "         [0.98774835],\n",
       "         [0.08599519],\n",
       "         [0.08599519],\n",
       "         [0.10079843],\n",
       "         [0.10079843],\n",
       "         [0.19259779],\n",
       "         [0.19259779],\n",
       "         [0.56628234],\n",
       "         [0.56628234],\n",
       "         [0.99334444],\n",
       "         [0.99334444],\n",
       "         [0.12782169],\n",
       "         [0.12782169],\n",
       "         [0.73853774],\n",
       "         [0.73853774],\n",
       "         [0.70934718],\n",
       "         [0.70934718],\n",
       "         [0.13159883],\n",
       "         [0.13159883],\n",
       "         [0.5833236 ],\n",
       "         [0.5833236 ],\n",
       "         [0.4882422 ],\n",
       "         [0.4882422 ],\n",
       "         [0.51261068],\n",
       "         [0.51261068],\n",
       "         [0.43206669],\n",
       "         [0.43206669],\n",
       "         [0.39393199],\n",
       "         [0.39393199],\n",
       "         [0.22985876],\n",
       "         [0.22985876],\n",
       "         [0.6110542 ],\n",
       "         [0.6110542 ],\n",
       "         [0.73091025],\n",
       "         [0.73091025],\n",
       "         [0.72300833],\n",
       "         [0.72300833],\n",
       "         [0.44374203],\n",
       "         [0.44374203],\n",
       "         [0.91396414],\n",
       "         [0.91396414],\n",
       "         [0.77118617],\n",
       "         [0.77118617],\n",
       "         [0.0701053 ],\n",
       "         [0.0701053 ],\n",
       "         [0.60968161],\n",
       "         [0.60968161],\n",
       "         [0.44231139],\n",
       "         [0.44231139],\n",
       "         [0.01239142],\n",
       "         [0.01239142],\n",
       "         [0.79955672],\n",
       "         [0.79955672],\n",
       "         [0.76220154],\n",
       "         [0.76220154],\n",
       "         [0.39161611],\n",
       "         [0.39161611],\n",
       "         [0.69636027],\n",
       "         [0.69636027],\n",
       "         [0.67744604],\n",
       "         [0.67744604],\n",
       "         [0.31716517],\n",
       "         [0.31716517],\n",
       "         [0.02426051],\n",
       "         [0.02426051],\n",
       "         [0.08837169],\n",
       "         [0.08837169],\n",
       "         [0.13258084],\n",
       "         [0.13258084],\n",
       "         [0.03086116],\n",
       "         [0.03086116],\n",
       "         [0.51922387],\n",
       "         [0.51922387],\n",
       "         [0.82028958],\n",
       "         [0.82028958],\n",
       "         [0.87749646],\n",
       "         [0.87749646],\n",
       "         [0.93225816],\n",
       "         [0.93225816],\n",
       "         [0.53159573],\n",
       "         [0.53159573],\n",
       "         [0.88422282],\n",
       "         [0.88422282],\n",
       "         [0.03963884],\n",
       "         [0.03963884],\n",
       "         [0.17589542],\n",
       "         [0.17589542],\n",
       "         [0.97690467],\n",
       "         [0.97690467],\n",
       "         [0.50791828],\n",
       "         [0.50791828],\n",
       "         [0.46320936],\n",
       "         [0.46320936],\n",
       "         [0.99115383],\n",
       "         [0.99115383],\n",
       "         [0.90761944],\n",
       "         [0.90761944],\n",
       "         [0.45859547],\n",
       "         [0.45859547],\n",
       "         [0.52671601],\n",
       "         [0.52671601],\n",
       "         [0.50823591],\n",
       "         [0.50823591],\n",
       "         [0.47877001],\n",
       "         [0.47877001],\n",
       "         [0.74307154],\n",
       "         [0.74307154],\n",
       "         [0.30585082],\n",
       "         [0.30585082],\n",
       "         [0.44717488],\n",
       "         [0.44717488],\n",
       "         [0.59146581],\n",
       "         [0.59146581],\n",
       "         [0.36267865],\n",
       "         [0.36267865],\n",
       "         [0.23366471],\n",
       "         [0.23366471],\n",
       "         [0.91653742],\n",
       "         [0.91653742],\n",
       "         [0.24031286],\n",
       "         [0.24031286],\n",
       "         [0.26595973],\n",
       "         [0.26595973],\n",
       "         [0.88220413],\n",
       "         [0.88220413],\n",
       "         [0.06398731],\n",
       "         [0.06398731],\n",
       "         [0.26693018],\n",
       "         [0.26693018],\n",
       "         [0.32800827],\n",
       "         [0.32800827],\n",
       "         [0.67980695],\n",
       "         [0.67980695],\n",
       "         [0.4552421 ],\n",
       "         [0.4552421 ],\n",
       "         [0.85824859],\n",
       "         [0.85824859],\n",
       "         [0.07311598],\n",
       "         [0.07311598],\n",
       "         [0.6343649 ],\n",
       "         [0.6343649 ],\n",
       "         [0.7555902 ],\n",
       "         [0.7555902 ],\n",
       "         [0.62108622],\n",
       "         [0.62108622]])}}"
      ]
     },
     "execution_count": 1,
     "metadata": {},
     "output_type": "execute_result"
    }
   ],
   "source": [
    "ds = load_by_id(run_id_a)\n",
    "ds.get_parameter_data('x1')"
   ]
  },
  {
   "cell_type": "code",
   "execution_count": null,
   "metadata": {},
   "outputs": [],
   "source": []
  }
 ],
 "metadata": {
  "kernelspec": {
   "display_name": "Python 3",
   "language": "python",
   "name": "python3"
  },
  "language_info": {
   "codemirror_mode": {
    "name": "ipython",
    "version": 3
   },
   "file_extension": ".py",
   "mimetype": "text/x-python",
   "name": "python",
   "nbconvert_exporter": "python",
   "pygments_lexer": "ipython3",
   "version": "3.7.9"
  },
  "nbsphinx": {
   "timeout": 600
  },
  "toc": {
   "base_numbering": 1,
   "nav_menu": {},
   "number_sections": true,
   "sideBar": true,
   "skip_h1_title": false,
   "title_cell": "Table of Contents",
   "title_sidebar": "Contents",
   "toc_cell": false,
   "toc_position": {},
   "toc_section_display": true,
   "toc_window_display": false
  },
  "varInspector": {
   "cols": {
    "lenName": 16,
    "lenType": 16,
    "lenVar": 40
   },
   "kernels_config": {
    "python": {
     "delete_cmd_postfix": "",
     "delete_cmd_prefix": "del ",
     "library": "var_list.py",
     "varRefreshCmd": "print(var_dic_list())"
    },
    "r": {
     "delete_cmd_postfix": ") ",
     "delete_cmd_prefix": "rm(",
     "library": "var_list.r",
     "varRefreshCmd": "cat(var_dic_list()) "
    }
   },
   "types_to_exclude": [
    "module",
    "function",
    "builtin_function_or_method",
    "instance",
    "_Feature"
   ],
   "window_display": false
  }
 },
 "nbformat": 4,
 "nbformat_minor": 2
}
