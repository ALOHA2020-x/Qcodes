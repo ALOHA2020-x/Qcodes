{
 "cells": [
  {
   "cell_type": "markdown",
   "metadata": {},
   "source": [
    "# DataSet Performance\n",
    "\n",
    "This notebook shows the trade-off between inserting data into a database row-by-row and as binary blobs. Inserting the data row-by-row means that we have direct access to all the data and may perform queries directly on the values of the data. On the other hand, as we shall see, this is much slower than inserting the data directly as binary blobs."
   ]
  },
  {
   "cell_type": "markdown",
   "metadata": {},
   "source": [
    "First, we choose a new location for the database to ensure that we don't add a bunch of benchmarking data to the default one."
   ]
  },
  {
   "cell_type": "code",
   "execution_count": 1,
   "metadata": {},
   "outputs": [
    {
     "name": "stdout",
     "output_type": "stream",
     "text": [
      "Logging hadn't been started.\n",
      "Activating auto-logging. Current session state plus future input saved.\n",
      "Filename       : /home/vsts/.qcodes/logs/command_history.log\n",
      "Mode           : append\n",
      "Output logging : True\n",
      "Raw input log  : False\n",
      "Timestamping   : True\n",
      "State          : active\n"
     ]
    },
    {
     "name": "stdout",
     "output_type": "stream",
     "text": [
      "Qcodes Logfile : /home/vsts/.qcodes/logs/200128-17422-qcodes.log\n"
     ]
    }
   ],
   "source": [
    "import os\n",
    "cwd = os.getcwd()\n",
    "import qcodes as qc\n",
    "qc.config[\"core\"][\"db_location\"] = os.path.join(cwd, 'testing.db')\n"
   ]
  },
  {
   "cell_type": "code",
   "execution_count": 2,
   "metadata": {},
   "outputs": [],
   "source": [
    "%matplotlib inline\n",
    "import time\n",
    "import matplotlib.pyplot as plt\n",
    "import numpy as np\n",
    "\n",
    "import qcodes as qc\n",
    "from qcodes.instrument.parameter import ManualParameter\n",
    "from qcodes.dataset.experiment_container import (Experiment,\n",
    "                                                 load_last_experiment,\n",
    "                                                 new_experiment)\n",
    "from qcodes.dataset.sqlite.database import initialise_database\n",
    "from qcodes import load_or_create_experiment\n",
    "from qcodes.dataset.measurements import Measurement"
   ]
  },
  {
   "cell_type": "code",
   "execution_count": 3,
   "metadata": {},
   "outputs": [
    {
     "name": "stdout",
     "output_type": "stream",
     "text": [
      "\r",
      "0it [00:00, ?it/s]"
     ]
    },
    {
     "name": "stdout",
     "output_type": "stream",
     "text": [
      "\r",
      "Upgrading database; v0 -> v1: : 0it [00:00, ?it/s]"
     ]
    },
    {
     "name": "stdout",
     "output_type": "stream",
     "text": [
      "\r",
      "Upgrading database; v0 -> v1: : 0it [00:00, ?it/s]"
     ]
    },
    {
     "name": "stdout",
     "output_type": "stream",
     "text": [
      "\n",
      "\r",
      "  0%|          | 0/1 [00:00<?, ?it/s]"
     ]
    },
    {
     "name": "stdout",
     "output_type": "stream",
     "text": [
      "\r",
      "Upgrading database; v1 -> v2:   0%|          | 0/1 [00:00<?, ?it/s]"
     ]
    },
    {
     "name": "stdout",
     "output_type": "stream",
     "text": [
      "\r",
      "Upgrading database; v1 -> v2: 100%|██████████| 1/1 [00:00<00:00, 883.01it/s]"
     ]
    },
    {
     "name": "stdout",
     "output_type": "stream",
     "text": [
      "\n",
      "\r",
      "0it [00:00, ?it/s]"
     ]
    },
    {
     "name": "stdout",
     "output_type": "stream",
     "text": [
      "\r",
      "Upgrading database; v2 -> v3: : 0it [00:00, ?it/s]"
     ]
    },
    {
     "name": "stdout",
     "output_type": "stream",
     "text": [
      "\r",
      "Upgrading database; v2 -> v3: : 0it [00:00, ?it/s]"
     ]
    },
    {
     "name": "stdout",
     "output_type": "stream",
     "text": [
      "\n",
      "\r",
      "0it [00:00, ?it/s]"
     ]
    },
    {
     "name": "stdout",
     "output_type": "stream",
     "text": [
      "\r",
      "Upgrading database; v3 -> v4: : 0it [00:00, ?it/s]"
     ]
    },
    {
     "name": "stdout",
     "output_type": "stream",
     "text": [
      "\r",
      "Upgrading database; v3 -> v4: : 0it [00:00, ?it/s]"
     ]
    },
    {
     "name": "stdout",
     "output_type": "stream",
     "text": [
      "\n",
      "\r",
      "  0%|          | 0/1 [00:00<?, ?it/s]"
     ]
    },
    {
     "name": "stdout",
     "output_type": "stream",
     "text": [
      "\r",
      "Upgrading database; v4 -> v5:   0%|          | 0/1 [00:00<?, ?it/s]"
     ]
    },
    {
     "name": "stdout",
     "output_type": "stream",
     "text": [
      "\r",
      "Upgrading database; v4 -> v5: 100%|██████████| 1/1 [00:00<00:00, 825.65it/s]"
     ]
    },
    {
     "name": "stdout",
     "output_type": "stream",
     "text": [
      "\n",
      "\r",
      "0it [00:00, ?it/s]"
     ]
    },
    {
     "name": "stdout",
     "output_type": "stream",
     "text": [
      "\r",
      "Upgrading database; v5 -> v6: : 0it [00:00, ?it/s]"
     ]
    },
    {
     "name": "stdout",
     "output_type": "stream",
     "text": [
      "\r",
      "Upgrading database; v5 -> v6: : 0it [00:00, ?it/s]"
     ]
    },
    {
     "name": "stdout",
     "output_type": "stream",
     "text": [
      "\n",
      "\r",
      "  0%|          | 0/1 [00:00<?, ?it/s]"
     ]
    },
    {
     "name": "stdout",
     "output_type": "stream",
     "text": [
      "\r",
      "Upgrading database; v6 -> v7:   0%|          | 0/1 [00:00<?, ?it/s]"
     ]
    },
    {
     "name": "stdout",
     "output_type": "stream",
     "text": [
      "\r",
      "Upgrading database; v6 -> v7: 100%|██████████| 1/1 [00:00<00:00, 328.14it/s]"
     ]
    },
    {
     "name": "stdout",
     "output_type": "stream",
     "text": [
      "\n",
      "\r",
      "  0%|          | 0/1 [00:00<?, ?it/s]"
     ]
    },
    {
     "name": "stdout",
     "output_type": "stream",
     "text": [
      "\r",
      "Upgrading database; v7 -> v8:   0%|          | 0/1 [00:00<?, ?it/s]"
     ]
    },
    {
     "name": "stdout",
     "output_type": "stream",
     "text": [
      "\r",
      "Upgrading database; v7 -> v8: 100%|██████████| 1/1 [00:00<00:00, 767.06it/s]"
     ]
    },
    {
     "name": "stdout",
     "output_type": "stream",
     "text": [
      "\n"
     ]
    }
   ],
   "source": [
    "initialise_database()\n",
    "exp = load_or_create_experiment(experiment_name='tutorial_exp', sample_name=\"no sample\")"
   ]
  },
  {
   "cell_type": "markdown",
   "metadata": {},
   "source": [
    "Here, we define a simple function to benchmark the time it takes to insert n points with either numeric or array data type.\n",
    "We will compare both the time used to call ``add_result`` and the time used for the full measurement."
   ]
  },
  {
   "cell_type": "code",
   "execution_count": 4,
   "metadata": {},
   "outputs": [],
   "source": [
    "def insert_data(paramtype, npoints, nreps=1):\n",
    "\n",
    "    meas = Measurement(exp=exp)\n",
    "\n",
    "    x1 = ManualParameter('x1')\n",
    "    x2 = ManualParameter('x2')\n",
    "    x3 = ManualParameter('x3')\n",
    "    y1 = ManualParameter('y1')\n",
    "    y2 = ManualParameter('y2')\n",
    "\n",
    "    meas.register_parameter(x1, paramtype=paramtype)\n",
    "    meas.register_parameter(x2, paramtype=paramtype)\n",
    "    meas.register_parameter(x3, paramtype=paramtype)\n",
    "    meas.register_parameter(y1, setpoints=[x1, x2, x3],\n",
    "                            paramtype=paramtype)\n",
    "    meas.register_parameter(y2, setpoints=[x1, x2, x3],\n",
    "                            paramtype=paramtype)\n",
    "    start = time.perf_counter()\n",
    "    with meas.run() as datasaver:\n",
    "        start_adding = time.perf_counter()\n",
    "        for i in range(nreps):\n",
    "            datasaver.add_result((x1, np.random.rand(npoints)),\n",
    "                                 (x2, np.random.rand(npoints)),\n",
    "                                 (x3, np.random.rand(npoints)),\n",
    "                                 (y1, np.random.rand(npoints)),\n",
    "                                 (y2, np.random.rand(npoints)))\n",
    "        stop_adding = time.perf_counter()\n",
    "        run_id = datasaver.run_id\n",
    "    stop = time.perf_counter()\n",
    "    tot_time = stop - start\n",
    "    add_time = stop_adding - start_adding\n",
    "    return tot_time, add_time, run_id"
   ]
  },
  {
   "cell_type": "markdown",
   "metadata": {},
   "source": [
    "## Comparison between numeric/array data and binary blob"
   ]
  },
  {
   "cell_type": "markdown",
   "metadata": {},
   "source": [
    "### Case1: Short experiment time"
   ]
  },
  {
   "cell_type": "code",
   "execution_count": 5,
   "metadata": {},
   "outputs": [
    {
     "name": "stdout",
     "output_type": "stream",
     "text": [
      "Starting experimental run with id: 1. \n",
      "Starting experimental run with id: 2. \n",
      "Starting experimental run with id: 3. \n"
     ]
    },
    {
     "name": "stdout",
     "output_type": "stream",
     "text": [
      "Starting experimental run with id: 4. \n"
     ]
    },
    {
     "name": "stdout",
     "output_type": "stream",
     "text": [
      "Starting experimental run with id: 5. \n"
     ]
    },
    {
     "name": "stdout",
     "output_type": "stream",
     "text": [
      "Starting experimental run with id: 6. \n"
     ]
    },
    {
     "name": "stdout",
     "output_type": "stream",
     "text": [
      "Starting experimental run with id: 7. \n"
     ]
    },
    {
     "name": "stdout",
     "output_type": "stream",
     "text": [
      "Starting experimental run with id: 8. \n",
      "Starting experimental run with id: 9. \n"
     ]
    },
    {
     "name": "stdout",
     "output_type": "stream",
     "text": [
      "Starting experimental run with id: 10. \n",
      "Starting experimental run with id: 11. \n"
     ]
    },
    {
     "name": "stdout",
     "output_type": "stream",
     "text": [
      "Starting experimental run with id: 12. \n",
      "Starting experimental run with id: 13. \n"
     ]
    },
    {
     "name": "stdout",
     "output_type": "stream",
     "text": [
      "Starting experimental run with id: 14. \n"
     ]
    }
   ],
   "source": [
    "sizes = [1,500,1000,2000,3000,4000,5000]\n",
    "t_numeric = []\n",
    "t_numeric_add = []\n",
    "t_array = []\n",
    "t_array_add = []\n",
    "for size in sizes:\n",
    "    tn, tna, run_id_n =  insert_data('numeric', size)\n",
    "    t_numeric.append(tn)\n",
    "    t_numeric_add.append(tna)\n",
    "\n",
    "    ta, taa, run_id_a =  insert_data('array', size)\n",
    "    t_array.append(ta)\n",
    "    t_array_add.append(taa)"
   ]
  },
  {
   "cell_type": "code",
   "execution_count": 6,
   "metadata": {},
   "outputs": [
    {
     "data": {
      "image/png": "[encoded data removed]",
      "text/plain": [
       "<Figure size 432x288 with 1 Axes>"
      ]
     },
     "metadata": {
      "needs_background": "light"
     },
     "output_type": "display_data"
    }
   ],
   "source": [
    "fig, ax = plt.subplots(1,1)\n",
    "ax.plot(sizes, t_numeric, 'o-', label='Inserting row-by-row')\n",
    "ax.plot(sizes, t_numeric_add, 'o-', label='Inserting row-by-row: add_result only')\n",
    "ax.plot(sizes, t_array, 'd-', label='Inserting as binary blob')\n",
    "ax.plot(sizes, t_array_add, 'd-', label='Inserting as binary blob: add_result only')\n",
    "ax.legend()\n",
    "ax.set_xlabel('Array length')\n",
    "ax.set_ylabel('Time (s)')\n",
    "fig.tight_layout()"
   ]
  },
  {
   "cell_type": "markdown",
   "metadata": {},
   "source": [
    "As shown in the latter figure, the time to setup and and close the experiment is approximately 0.4 sec. In case of small array sizes, the difference between inserting values of data as arrays and inserting them row-by-row is relatively unimportant. At larger array sizes, i.e. above 10000 points, the cost of writing data as individual datapoints starts to become important.\n"
   ]
  },
  {
   "cell_type": "markdown",
   "metadata": {},
   "source": [
    "### Case2: Long experiment time "
   ]
  },
  {
   "cell_type": "code",
   "execution_count": 7,
   "metadata": {},
   "outputs": [
    {
     "name": "stdout",
     "output_type": "stream",
     "text": [
      "Starting experimental run with id: 15. \n",
      "Starting experimental run with id: 16. \n",
      "Starting experimental run with id: 17. \n"
     ]
    },
    {
     "name": "stdout",
     "output_type": "stream",
     "text": [
      "Starting experimental run with id: 18. \n",
      "Starting experimental run with id: 19. \n"
     ]
    },
    {
     "name": "stdout",
     "output_type": "stream",
     "text": [
      "Starting experimental run with id: 20. \n"
     ]
    },
    {
     "name": "stdout",
     "output_type": "stream",
     "text": [
      "Starting experimental run with id: 21. \n"
     ]
    },
    {
     "name": "stdout",
     "output_type": "stream",
     "text": [
      "Starting experimental run with id: 22. \n"
     ]
    },
    {
     "name": "stdout",
     "output_type": "stream",
     "text": [
      "Starting experimental run with id: 23. \n"
     ]
    },
    {
     "name": "stdout",
     "output_type": "stream",
     "text": [
      "Starting experimental run with id: 24. \n"
     ]
    },
    {
     "name": "stdout",
     "output_type": "stream",
     "text": [
      "Starting experimental run with id: 25. \n"
     ]
    },
    {
     "name": "stdout",
     "output_type": "stream",
     "text": [
      "Starting experimental run with id: 26. \n"
     ]
    },
    {
     "name": "stdout",
     "output_type": "stream",
     "text": [
      "Starting experimental run with id: 27. \n"
     ]
    },
    {
     "name": "stdout",
     "output_type": "stream",
     "text": [
      "Starting experimental run with id: 28. \n"
     ]
    }
   ],
   "source": [
    "sizes = [1,500,1000,2000,3000,4000,5000]\n",
    "nreps = 100\n",
    "t_numeric = []\n",
    "t_numeric_add = []\n",
    "t_numeric_run_ids = []\n",
    "t_array = []\n",
    "t_array_add = []\n",
    "t_array_run_ids = []\n",
    "for size in sizes:\n",
    "    tn, tna, run_id_n =  insert_data('numeric', size, nreps=nreps)\n",
    "    t_numeric.append(tn)\n",
    "    t_numeric_add.append(tna)\n",
    "    t_numeric_run_ids.append(run_id_n)\n",
    "\n",
    "    ta, taa, run_id_a =  insert_data('array', size, nreps=nreps)\n",
    "    t_array.append(ta)\n",
    "    t_array_add.append(taa)\n",
    "    t_array_run_ids.append(run_id_a)"
   ]
  },
  {
   "cell_type": "code",
   "execution_count": 8,
   "metadata": {
    "scrolled": true
   },
   "outputs": [
    {
     "data": {
      "image/png": "[encoded data removed]",
      "text/plain": [
       "<Figure size 432x288 with 1 Axes>"
      ]
     },
     "metadata": {
      "needs_background": "light"
     },
     "output_type": "display_data"
    }
   ],
   "source": [
    "fig, ax = plt.subplots(1,1)\n",
    "ax.plot(sizes, t_numeric, 'o-', label='Inserting row-by-row')\n",
    "ax.plot(sizes, t_numeric_add, 'o-', label='Inserting row-by-row: add_result only')\n",
    "ax.plot(sizes, t_array, 'd-', label='Inserting as binary blob')\n",
    "ax.plot(sizes, t_array_add, 'd-', label='Inserting as binary blob: add_result only')\n",
    "ax.legend()\n",
    "ax.set_xlabel('Array length')\n",
    "ax.set_ylabel('Time (s)')\n",
    "fig.tight_layout()"
   ]
  },
  {
   "cell_type": "markdown",
   "metadata": {},
   "source": [
    "However, as we increase the length of the experiment, as seen here by repeating the insertion 100 times, we see a big difference between inserting values of the data row-by-row and inserting it as a binary blob."
   ]
  },
  {
   "cell_type": "markdown",
   "metadata": {},
   "source": [
    "## Loading the data "
   ]
  },
  {
   "cell_type": "code",
   "execution_count": 9,
   "metadata": {},
   "outputs": [],
   "source": [
    "from qcodes.dataset.data_set import load_by_id\n",
    "from qcodes.dataset.data_export import get_data_by_id"
   ]
  },
  {
   "cell_type": "markdown",
   "metadata": {},
   "source": [
    "As usual you can load the data by using the ``load_by_id`` function but you will notice that the different storage methods\n",
    "are reflected in shape of the data as it is retrieved. "
   ]
  },
  {
   "cell_type": "code",
   "execution_count": 10,
   "metadata": {},
   "outputs": [],
   "source": [
    "run_id_n = t_numeric_run_ids[0]\n",
    "run_id_a = t_array_run_ids[0]"
   ]
  },
  {
   "cell_type": "code",
   "execution_count": 11,
   "metadata": {
    "scrolled": true
   },
   "outputs": [
    {
     "data": {
      "text/plain": [
       "{'x1': {'x1': array([0.60507599, 0.60507599, 0.83156628, 0.83156628, 0.86032988,\n",
       "         0.86032988, 0.9561259 , 0.9561259 , 0.7692366 , 0.7692366 ,\n",
       "         0.27937073, 0.27937073, 0.1149877 , 0.1149877 , 0.8031475 ,\n",
       "         0.8031475 , 0.49485129, 0.49485129, 0.54696864, 0.54696864,\n",
       "         0.32389901, 0.32389901, 0.00497781, 0.00497781, 0.16706785,\n",
       "         0.16706785, 0.73289676, 0.73289676, 0.08073838, 0.08073838,\n",
       "         0.45447638, 0.45447638, 0.77815935, 0.77815935, 0.0762183 ,\n",
       "         0.0762183 , 0.21292671, 0.21292671, 0.760348  , 0.760348  ,\n",
       "         0.62589155, 0.62589155, 0.32773565, 0.32773565, 0.14074831,\n",
       "         0.14074831, 0.68594623, 0.68594623, 0.10598307, 0.10598307,\n",
       "         0.48375833, 0.48375833, 0.3520751 , 0.3520751 , 0.64815905,\n",
       "         0.64815905, 0.46724273, 0.46724273, 0.94185853, 0.94185853,\n",
       "         0.53434025, 0.53434025, 0.38075157, 0.38075157, 0.19049975,\n",
       "         0.19049975, 0.1212123 , 0.1212123 , 0.73379945, 0.73379945,\n",
       "         0.37160945, 0.37160945, 0.4288288 , 0.4288288 , 0.412964  ,\n",
       "         0.412964  , 0.20709278, 0.20709278, 0.26285852, 0.26285852,\n",
       "         0.94657822, 0.94657822, 0.67520968, 0.67520968, 0.98550465,\n",
       "         0.98550465, 0.6749758 , 0.6749758 , 0.66846974, 0.66846974,\n",
       "         0.48235277, 0.48235277, 0.11869656, 0.11869656, 0.3305151 ,\n",
       "         0.3305151 , 0.75483767, 0.75483767, 0.61276524, 0.61276524,\n",
       "         0.94052401, 0.94052401, 0.94544256, 0.94544256, 0.66194367,\n",
       "         0.66194367, 0.6895643 , 0.6895643 , 0.33753755, 0.33753755,\n",
       "         0.1629651 , 0.1629651 , 0.51334554, 0.51334554, 0.77088018,\n",
       "         0.77088018, 0.757505  , 0.757505  , 0.78008698, 0.78008698,\n",
       "         0.36960677, 0.36960677, 0.81149057, 0.81149057, 0.94406952,\n",
       "         0.94406952, 0.95368549, 0.95368549, 0.36531449, 0.36531449,\n",
       "         0.83816369, 0.83816369, 0.75941306, 0.75941306, 0.83107676,\n",
       "         0.83107676, 0.69106158, 0.69106158, 0.69000483, 0.69000483,\n",
       "         0.33368579, 0.33368579, 0.67555185, 0.67555185, 0.76663413,\n",
       "         0.76663413, 0.52628233, 0.52628233, 0.7100827 , 0.7100827 ,\n",
       "         0.69403148, 0.69403148, 0.55051856, 0.55051856, 0.50268446,\n",
       "         0.50268446, 0.47583786, 0.47583786, 0.89857379, 0.89857379,\n",
       "         0.97498391, 0.97498391, 0.57680202, 0.57680202, 0.14019422,\n",
       "         0.14019422, 0.11892499, 0.11892499, 0.37276397, 0.37276397,\n",
       "         0.77279734, 0.77279734, 0.02446056, 0.02446056, 0.13858748,\n",
       "         0.13858748, 0.81289651, 0.81289651, 0.97323935, 0.97323935,\n",
       "         0.79862352, 0.79862352, 0.03815228, 0.03815228, 0.82903438,\n",
       "         0.82903438, 0.92610507, 0.92610507, 0.51362717, 0.51362717,\n",
       "         0.63935639, 0.63935639, 0.56303441, 0.56303441, 0.76741488,\n",
       "         0.76741488, 0.49252183, 0.49252183, 0.87351735, 0.87351735])}}"
      ]
     },
     "execution_count": 11,
     "metadata": {},
     "output_type": "execute_result"
    }
   ],
   "source": [
    "ds = load_by_id(run_id_n)\n",
    "ds.get_parameter_data('x1')"
   ]
  },
  {
   "cell_type": "markdown",
   "metadata": {},
   "source": [
    "And a dataset stored as binary arrays"
   ]
  },
  {
   "cell_type": "code",
   "execution_count": 12,
   "metadata": {
    "scrolled": true
   },
   "outputs": [
    {
     "data": {
      "text/plain": [
       "{'x1': {'x1': array([[1.56409947e-01],\n",
       "         [1.56409947e-01],\n",
       "         [6.11556406e-01],\n",
       "         [6.11556406e-01],\n",
       "         [1.38255314e-01],\n",
       "         [1.38255314e-01],\n",
       "         [8.07398725e-02],\n",
       "         [8.07398725e-02],\n",
       "         [2.86799210e-03],\n",
       "         [2.86799210e-03],\n",
       "         [5.98946557e-01],\n",
       "         [5.98946557e-01],\n",
       "         [7.74809119e-03],\n",
       "         [7.74809119e-03],\n",
       "         [6.34596026e-01],\n",
       "         [6.34596026e-01],\n",
       "         [6.20695772e-01],\n",
       "         [6.20695772e-01],\n",
       "         [7.65028292e-01],\n",
       "         [7.65028292e-01],\n",
       "         [2.50032955e-01],\n",
       "         [2.50032955e-01],\n",
       "         [1.46270711e-01],\n",
       "         [1.46270711e-01],\n",
       "         [7.20932756e-01],\n",
       "         [7.20932756e-01],\n",
       "         [4.49887500e-01],\n",
       "         [4.49887500e-01],\n",
       "         [4.64644075e-01],\n",
       "         [4.64644075e-01],\n",
       "         [2.07184799e-01],\n",
       "         [2.07184799e-01],\n",
       "         [1.21458215e-01],\n",
       "         [1.21458215e-01],\n",
       "         [9.18296310e-01],\n",
       "         [9.18296310e-01],\n",
       "         [8.50734596e-01],\n",
       "         [8.50734596e-01],\n",
       "         [8.57233818e-02],\n",
       "         [8.57233818e-02],\n",
       "         [9.31809040e-01],\n",
       "         [9.31809040e-01],\n",
       "         [7.98215808e-01],\n",
       "         [7.98215808e-01],\n",
       "         [1.68580756e-01],\n",
       "         [1.68580756e-01],\n",
       "         [5.24794335e-01],\n",
       "         [5.24794335e-01],\n",
       "         [7.16072596e-01],\n",
       "         [7.16072596e-01],\n",
       "         [2.55755433e-01],\n",
       "         [2.55755433e-01],\n",
       "         [2.18894002e-01],\n",
       "         [2.18894002e-01],\n",
       "         [2.20336191e-01],\n",
       "         [2.20336191e-01],\n",
       "         [8.72606528e-01],\n",
       "         [8.72606528e-01],\n",
       "         [3.33699311e-01],\n",
       "         [3.33699311e-01],\n",
       "         [9.09293031e-01],\n",
       "         [9.09293031e-01],\n",
       "         [3.90293566e-01],\n",
       "         [3.90293566e-01],\n",
       "         [4.78598334e-01],\n",
       "         [4.78598334e-01],\n",
       "         [2.78375224e-01],\n",
       "         [2.78375224e-01],\n",
       "         [8.11404328e-02],\n",
       "         [8.11404328e-02],\n",
       "         [6.34427554e-01],\n",
       "         [6.34427554e-01],\n",
       "         [6.64168229e-01],\n",
       "         [6.64168229e-01],\n",
       "         [3.09547388e-01],\n",
       "         [3.09547388e-01],\n",
       "         [7.38154274e-01],\n",
       "         [7.38154274e-01],\n",
       "         [5.28673568e-01],\n",
       "         [5.28673568e-01],\n",
       "         [9.37143702e-01],\n",
       "         [9.37143702e-01],\n",
       "         [6.99069906e-01],\n",
       "         [6.99069906e-01],\n",
       "         [2.57106344e-01],\n",
       "         [2.57106344e-01],\n",
       "         [7.77505588e-01],\n",
       "         [7.77505588e-01],\n",
       "         [6.45306518e-01],\n",
       "         [6.45306518e-01],\n",
       "         [3.15111842e-01],\n",
       "         [3.15111842e-01],\n",
       "         [4.24037666e-01],\n",
       "         [4.24037666e-01],\n",
       "         [8.53694144e-01],\n",
       "         [8.53694144e-01],\n",
       "         [8.07042034e-01],\n",
       "         [8.07042034e-01],\n",
       "         [6.71208295e-01],\n",
       "         [6.71208295e-01],\n",
       "         [3.16171091e-01],\n",
       "         [3.16171091e-01],\n",
       "         [1.52001437e-01],\n",
       "         [1.52001437e-01],\n",
       "         [2.12058315e-01],\n",
       "         [2.12058315e-01],\n",
       "         [5.50816248e-01],\n",
       "         [5.50816248e-01],\n",
       "         [3.37643695e-01],\n",
       "         [3.37643695e-01],\n",
       "         [5.21579498e-02],\n",
       "         [5.21579498e-02],\n",
       "         [4.78677290e-01],\n",
       "         [4.78677290e-01],\n",
       "         [2.16817087e-01],\n",
       "         [2.16817087e-01],\n",
       "         [6.21279889e-01],\n",
       "         [6.21279889e-01],\n",
       "         [3.52464809e-01],\n",
       "         [3.52464809e-01],\n",
       "         [9.83617605e-01],\n",
       "         [9.83617605e-01],\n",
       "         [8.20049505e-02],\n",
       "         [8.20049505e-02],\n",
       "         [6.15745224e-01],\n",
       "         [6.15745224e-01],\n",
       "         [4.90756781e-01],\n",
       "         [4.90756781e-01],\n",
       "         [8.59699351e-01],\n",
       "         [8.59699351e-01],\n",
       "         [1.66852814e-01],\n",
       "         [1.66852814e-01],\n",
       "         [5.05298940e-01],\n",
       "         [5.05298940e-01],\n",
       "         [8.85284383e-01],\n",
       "         [8.85284383e-01],\n",
       "         [9.46959212e-01],\n",
       "         [9.46959212e-01],\n",
       "         [6.12498693e-01],\n",
       "         [6.12498693e-01],\n",
       "         [5.87071396e-01],\n",
       "         [5.87071396e-01],\n",
       "         [3.30084682e-01],\n",
       "         [3.30084682e-01],\n",
       "         [6.52144218e-01],\n",
       "         [6.52144218e-01],\n",
       "         [9.51707164e-01],\n",
       "         [9.51707164e-01],\n",
       "         [6.02953723e-01],\n",
       "         [6.02953723e-01],\n",
       "         [2.98949869e-01],\n",
       "         [2.98949869e-01],\n",
       "         [4.35523494e-01],\n",
       "         [4.35523494e-01],\n",
       "         [7.34165912e-01],\n",
       "         [7.34165912e-01],\n",
       "         [2.03803016e-01],\n",
       "         [2.03803016e-01],\n",
       "         [2.24298074e-01],\n",
       "         [2.24298074e-01],\n",
       "         [5.53550076e-01],\n",
       "         [5.53550076e-01],\n",
       "         [7.31742690e-01],\n",
       "         [7.31742690e-01],\n",
       "         [2.72738500e-02],\n",
       "         [2.72738500e-02],\n",
       "         [6.24539161e-01],\n",
       "         [6.24539161e-01],\n",
       "         [4.76047988e-01],\n",
       "         [4.76047988e-01],\n",
       "         [1.04434106e-01],\n",
       "         [1.04434106e-01],\n",
       "         [7.68434074e-03],\n",
       "         [7.68434074e-03],\n",
       "         [3.31754579e-01],\n",
       "         [3.31754579e-01],\n",
       "         [5.10937213e-01],\n",
       "         [5.10937213e-01],\n",
       "         [1.21684295e-02],\n",
       "         [1.21684295e-02],\n",
       "         [5.64015551e-01],\n",
       "         [5.64015551e-01],\n",
       "         [2.64304812e-01],\n",
       "         [2.64304812e-01],\n",
       "         [9.73269645e-02],\n",
       "         [9.73269645e-02],\n",
       "         [1.75490487e-01],\n",
       "         [1.75490487e-01],\n",
       "         [3.11924532e-01],\n",
       "         [3.11924532e-01],\n",
       "         [6.24192194e-01],\n",
       "         [6.24192194e-01],\n",
       "         [9.71408480e-01],\n",
       "         [9.71408480e-01],\n",
       "         [2.98635901e-01],\n",
       "         [2.98635901e-01],\n",
       "         [1.44458179e-01],\n",
       "         [1.44458179e-01],\n",
       "         [8.51556493e-04],\n",
       "         [8.51556493e-04]])}}"
      ]
     },
     "execution_count": 12,
     "metadata": {},
     "output_type": "execute_result"
    }
   ],
   "source": [
    "ds = load_by_id(run_id_a)\n",
    "ds.get_parameter_data('x1')"
   ]
  },
  {
   "cell_type": "code",
   "execution_count": null,
   "metadata": {},
   "outputs": [],
   "source": []
  }
 ],
 "metadata": {
  "kernelspec": {
   "display_name": "Python 3",
   "language": "python",
   "name": "python3"
  },
  "language_info": {
   "codemirror_mode": {
    "name": "ipython",
    "version": 3
   },
   "file_extension": ".py",
   "mimetype": "text/x-python",
   "name": "python",
   "nbconvert_exporter": "python",
   "pygments_lexer": "ipython3",
   "version": "3.7.5"
  },
  "nbsphinx": {
   "timeout": 600
  },
  "toc": {
   "base_numbering": 1,
   "nav_menu": {},
   "number_sections": true,
   "sideBar": true,
   "skip_h1_title": false,
   "title_cell": "Table of Contents",
   "title_sidebar": "Contents",
   "toc_cell": false,
   "toc_position": {},
   "toc_section_display": true,
   "toc_window_display": false
  },
  "varInspector": {
   "cols": {
    "lenName": 16,
    "lenType": 16,
    "lenVar": 40
   },
   "kernels_config": {
    "python": {
     "delete_cmd_postfix": "",
     "delete_cmd_prefix": "del ",
     "library": "var_list.py",
     "varRefreshCmd": "print(var_dic_list())"
    },
    "r": {
     "delete_cmd_postfix": ") ",
     "delete_cmd_prefix": "rm(",
     "library": "var_list.r",
     "varRefreshCmd": "cat(var_dic_list()) "
    }
   },
   "types_to_exclude": [
    "module",
    "function",
    "builtin_function_or_method",
    "instance",
    "_Feature"
   ],
   "window_display": false
  }
 },
 "nbformat": 4,
 "nbformat_minor": 2
}
