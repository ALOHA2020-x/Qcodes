{
 "cells": [
  {
   "cell_type": "markdown",
   "metadata": {},
   "source": [
    "# DataSet Performance\n",
    "\n",
    "This notebook shows the trade-off between inserting data into a database row-by-row and as binary blobs. Inserting the data row-by-row means that we have direct access to all the data and may perform queries directly on the values of the data. On the other hand, as we shall see, this is much slower than inserting the data directly as binary blobs."
   ]
  },
  {
   "cell_type": "markdown",
   "metadata": {},
   "source": [
    "First, we choose a new location for the database to ensure that we don't add a bunch of benchmarking data to the default one."
   ]
  },
  {
   "cell_type": "code",
   "execution_count": 1,
   "metadata": {
    "execution": {
     "iopub.execute_input": "2020-10-09T08:06:10.238311Z",
     "iopub.status.busy": "2020-10-09T08:06:10.237776Z",
     "iopub.status.idle": "2020-10-09T08:06:11.270930Z",
     "shell.execute_reply": "2020-10-09T08:06:11.270328Z"
    }
   },
   "outputs": [
    {
     "name": "stdout",
     "output_type": "stream",
     "text": [
      "Logging hadn't been started.\n",
      "Activating auto-logging. Current session state plus future input saved.\n",
      "Filename       : /home/vsts/.qcodes/logs/command_history.log\n",
      "Mode           : append\n",
      "Output logging : True\n",
      "Raw input log  : False\n",
      "Timestamping   : True\n",
      "State          : active\n"
     ]
    },
    {
     "name": "stdout",
     "output_type": "stream",
     "text": [
      "Qcodes Logfile : /home/vsts/.qcodes/logs/201009-15672-qcodes.log\n"
     ]
    }
   ],
   "source": [
    "import os\n",
    "cwd = os.getcwd()\n",
    "import qcodes as qc\n",
    "qc.config[\"core\"][\"db_location\"] = os.path.join(cwd, 'testing.db')\n"
   ]
  },
  {
   "cell_type": "code",
   "execution_count": 2,
   "metadata": {
    "execution": {
     "iopub.execute_input": "2020-10-09T08:06:11.278818Z",
     "iopub.status.busy": "2020-10-09T08:06:11.276987Z",
     "iopub.status.idle": "2020-10-09T08:06:11.454302Z",
     "shell.execute_reply": "2020-10-09T08:06:11.453331Z"
    }
   },
   "outputs": [],
   "source": [
    "%matplotlib inline\n",
    "import time\n",
    "import matplotlib.pyplot as plt\n",
    "import numpy as np\n",
    "\n",
    "import qcodes as qc\n",
    "from qcodes.instrument.parameter import ManualParameter\n",
    "from qcodes.dataset.experiment_container import (Experiment,\n",
    "                                                 load_last_experiment,\n",
    "                                                 new_experiment)\n",
    "from qcodes.dataset.sqlite.database import initialise_database\n",
    "from qcodes import load_or_create_experiment\n",
    "from qcodes.dataset.measurements import Measurement"
   ]
  },
  {
   "cell_type": "code",
   "execution_count": 3,
   "metadata": {
    "execution": {
     "iopub.execute_input": "2020-10-09T08:06:11.458849Z",
     "iopub.status.busy": "2020-10-09T08:06:11.457683Z",
     "iopub.status.idle": "2020-10-09T08:06:11.574272Z",
     "shell.execute_reply": "2020-10-09T08:06:11.574702Z"
    }
   },
   "outputs": [
    {
     "name": "stdout",
     "output_type": "stream",
     "text": [
      "\r",
      "0it [00:00, ?it/s]"
     ]
    },
    {
     "name": "stdout",
     "output_type": "stream",
     "text": [
      "\r",
      "Upgrading database; v0 -> v1: : 0it [00:00, ?it/s]"
     ]
    },
    {
     "name": "stdout",
     "output_type": "stream",
     "text": [
      "\r",
      "Upgrading database; v0 -> v1: : 0it [00:00, ?it/s]"
     ]
    },
    {
     "name": "stdout",
     "output_type": "stream",
     "text": [
      "\n",
      "\r",
      "  0%|          | 0/1 [00:00<?, ?it/s]"
     ]
    },
    {
     "name": "stdout",
     "output_type": "stream",
     "text": [
      "\r",
      "Upgrading database; v1 -> v2:   0%|          | 0/1 [00:00<?, ?it/s]"
     ]
    },
    {
     "name": "stdout",
     "output_type": "stream",
     "text": [
      "\r",
      "Upgrading database; v1 -> v2: 100%|██████████| 1/1 [00:00<00:00, 1190.55it/s]"
     ]
    },
    {
     "name": "stdout",
     "output_type": "stream",
     "text": [
      "\n",
      "\r",
      "0it [00:00, ?it/s]"
     ]
    },
    {
     "name": "stdout",
     "output_type": "stream",
     "text": [
      "\r",
      "Upgrading database; v2 -> v3: : 0it [00:00, ?it/s]"
     ]
    },
    {
     "name": "stdout",
     "output_type": "stream",
     "text": [
      "\r",
      "Upgrading database; v2 -> v3: : 0it [00:00, ?it/s]"
     ]
    },
    {
     "name": "stdout",
     "output_type": "stream",
     "text": [
      "\n",
      "\r",
      "0it [00:00, ?it/s]"
     ]
    },
    {
     "name": "stdout",
     "output_type": "stream",
     "text": [
      "\r",
      "Upgrading database; v3 -> v4: : 0it [00:00, ?it/s]"
     ]
    },
    {
     "name": "stdout",
     "output_type": "stream",
     "text": [
      "\r",
      "Upgrading database; v3 -> v4: : 0it [00:00, ?it/s]"
     ]
    },
    {
     "name": "stdout",
     "output_type": "stream",
     "text": [
      "\n",
      "\r",
      "  0%|          | 0/1 [00:00<?, ?it/s]"
     ]
    },
    {
     "name": "stdout",
     "output_type": "stream",
     "text": [
      "\r",
      "Upgrading database; v4 -> v5:   0%|          | 0/1 [00:00<?, ?it/s]"
     ]
    },
    {
     "name": "stdout",
     "output_type": "stream",
     "text": [
      "\r",
      "Upgrading database; v4 -> v5: 100%|██████████| 1/1 [00:00<00:00, 394.57it/s]"
     ]
    },
    {
     "name": "stdout",
     "output_type": "stream",
     "text": [
      "\n",
      "\r",
      "0it [00:00, ?it/s]"
     ]
    },
    {
     "name": "stdout",
     "output_type": "stream",
     "text": [
      "\r",
      "Upgrading database; v5 -> v6: : 0it [00:00, ?it/s]"
     ]
    },
    {
     "name": "stdout",
     "output_type": "stream",
     "text": [
      "\r",
      "Upgrading database; v5 -> v6: : 0it [00:00, ?it/s]"
     ]
    },
    {
     "name": "stdout",
     "output_type": "stream",
     "text": [
      "\n",
      "\r",
      "  0%|          | 0/1 [00:00<?, ?it/s]"
     ]
    },
    {
     "name": "stdout",
     "output_type": "stream",
     "text": [
      "\r",
      "Upgrading database; v6 -> v7:   0%|          | 0/1 [00:00<?, ?it/s]"
     ]
    },
    {
     "name": "stdout",
     "output_type": "stream",
     "text": [
      "\r",
      "Upgrading database; v6 -> v7: 100%|██████████| 1/1 [00:00<00:00, 216.63it/s]"
     ]
    },
    {
     "name": "stdout",
     "output_type": "stream",
     "text": [
      "\n",
      "\r",
      "  0%|          | 0/1 [00:00<?, ?it/s]"
     ]
    },
    {
     "name": "stdout",
     "output_type": "stream",
     "text": [
      "\r",
      "Upgrading database; v7 -> v8:   0%|          | 0/1 [00:00<?, ?it/s]"
     ]
    },
    {
     "name": "stdout",
     "output_type": "stream",
     "text": [
      "\r",
      "Upgrading database; v7 -> v8: 100%|██████████| 1/1 [00:00<00:00, 395.13it/s]"
     ]
    },
    {
     "name": "stdout",
     "output_type": "stream",
     "text": [
      "\n",
      "\r",
      "  0%|          | 0/1 [00:00<?, ?it/s]"
     ]
    },
    {
     "name": "stdout",
     "output_type": "stream",
     "text": [
      "\r",
      "Upgrading database; v8 -> v9:   0%|          | 0/1 [00:00<?, ?it/s]"
     ]
    },
    {
     "name": "stdout",
     "output_type": "stream",
     "text": [
      "\r",
      "Upgrading database; v8 -> v9: 100%|██████████| 1/1 [00:00<00:00, 915.99it/s]"
     ]
    },
    {
     "name": "stdout",
     "output_type": "stream",
     "text": [
      "\n"
     ]
    }
   ],
   "source": [
    "initialise_database()\n",
    "exp = load_or_create_experiment(experiment_name='tutorial_exp', sample_name=\"no sample\")"
   ]
  },
  {
   "cell_type": "markdown",
   "metadata": {},
   "source": [
    "Here, we define a simple function to benchmark the time it takes to insert n points with either numeric or array data type.\n",
    "We will compare both the time used to call ``add_result`` and the time used for the full measurement."
   ]
  },
  {
   "cell_type": "code",
   "execution_count": 4,
   "metadata": {
    "execution": {
     "iopub.execute_input": "2020-10-09T08:06:11.582693Z",
     "iopub.status.busy": "2020-10-09T08:06:11.581758Z",
     "iopub.status.idle": "2020-10-09T08:06:11.585161Z",
     "shell.execute_reply": "2020-10-09T08:06:11.585931Z"
    }
   },
   "outputs": [],
   "source": [
    "def insert_data(paramtype, npoints, nreps=1):\n",
    "\n",
    "    meas = Measurement(exp=exp)\n",
    "\n",
    "    x1 = ManualParameter('x1')\n",
    "    x2 = ManualParameter('x2')\n",
    "    x3 = ManualParameter('x3')\n",
    "    y1 = ManualParameter('y1')\n",
    "    y2 = ManualParameter('y2')\n",
    "\n",
    "    meas.register_parameter(x1, paramtype=paramtype)\n",
    "    meas.register_parameter(x2, paramtype=paramtype)\n",
    "    meas.register_parameter(x3, paramtype=paramtype)\n",
    "    meas.register_parameter(y1, setpoints=[x1, x2, x3],\n",
    "                            paramtype=paramtype)\n",
    "    meas.register_parameter(y2, setpoints=[x1, x2, x3],\n",
    "                            paramtype=paramtype)\n",
    "    start = time.perf_counter()\n",
    "    with meas.run() as datasaver:\n",
    "        start_adding = time.perf_counter()\n",
    "        for i in range(nreps):\n",
    "            datasaver.add_result((x1, np.random.rand(npoints)),\n",
    "                                 (x2, np.random.rand(npoints)),\n",
    "                                 (x3, np.random.rand(npoints)),\n",
    "                                 (y1, np.random.rand(npoints)),\n",
    "                                 (y2, np.random.rand(npoints)))\n",
    "        stop_adding = time.perf_counter()\n",
    "        run_id = datasaver.run_id\n",
    "    stop = time.perf_counter()\n",
    "    tot_time = stop - start\n",
    "    add_time = stop_adding - start_adding\n",
    "    return tot_time, add_time, run_id"
   ]
  },
  {
   "cell_type": "markdown",
   "metadata": {},
   "source": [
    "## Comparison between numeric/array data and binary blob"
   ]
  },
  {
   "cell_type": "markdown",
   "metadata": {},
   "source": [
    "### Case1: Short experiment time"
   ]
  },
  {
   "cell_type": "code",
   "execution_count": 5,
   "metadata": {
    "execution": {
     "iopub.execute_input": "2020-10-09T08:06:11.592007Z",
     "iopub.status.busy": "2020-10-09T08:06:11.590616Z",
     "iopub.status.idle": "2020-10-09T08:06:12.404622Z",
     "shell.execute_reply": "2020-10-09T08:06:12.404089Z"
    }
   },
   "outputs": [
    {
     "name": "stdout",
     "output_type": "stream",
     "text": [
      "Starting experimental run with id: 1. \n",
      "Starting experimental run with id: 2. \n",
      "Starting experimental run with id: 3. \n",
      "Starting experimental run with id: 4. \n"
     ]
    },
    {
     "name": "stdout",
     "output_type": "stream",
     "text": [
      "Starting experimental run with id: 5. "
     ]
    },
    {
     "name": "stdout",
     "output_type": "stream",
     "text": [
      "\n"
     ]
    },
    {
     "name": "stdout",
     "output_type": "stream",
     "text": [
      "Starting experimental run with id: 6. \n"
     ]
    },
    {
     "name": "stdout",
     "output_type": "stream",
     "text": [
      "Starting experimental run with id: 7. \n"
     ]
    },
    {
     "name": "stdout",
     "output_type": "stream",
     "text": [
      "Starting experimental run with id: 8. \n",
      "Starting experimental run with id: 9. \n"
     ]
    },
    {
     "name": "stdout",
     "output_type": "stream",
     "text": [
      "Starting experimental run with id: 10. \n",
      "Starting experimental run with id: 11. \n"
     ]
    },
    {
     "name": "stdout",
     "output_type": "stream",
     "text": [
      "Starting experimental run with id: 12. \n",
      "Starting experimental run with id: 13. \n"
     ]
    },
    {
     "name": "stdout",
     "output_type": "stream",
     "text": [
      "Starting experimental run with id: 14. \n"
     ]
    }
   ],
   "source": [
    "sizes = [1,500,1000,2000,3000,4000,5000]\n",
    "t_numeric = []\n",
    "t_numeric_add = []\n",
    "t_array = []\n",
    "t_array_add = []\n",
    "for size in sizes:\n",
    "    tn, tna, run_id_n =  insert_data('numeric', size)\n",
    "    t_numeric.append(tn)\n",
    "    t_numeric_add.append(tna)\n",
    "\n",
    "    ta, taa, run_id_a =  insert_data('array', size)\n",
    "    t_array.append(ta)\n",
    "    t_array_add.append(taa)"
   ]
  },
  {
   "cell_type": "code",
   "execution_count": 6,
   "metadata": {
    "execution": {
     "iopub.execute_input": "2020-10-09T08:06:12.422648Z",
     "iopub.status.busy": "2020-10-09T08:06:12.422118Z",
     "iopub.status.idle": "2020-10-09T08:06:12.658571Z",
     "shell.execute_reply": "2020-10-09T08:06:12.657609Z"
    }
   },
   "outputs": [
    {
     "data": {
      "image/png": "[encoded data removed]",
      "text/plain": [
       "<Figure size 432x288 with 1 Axes>"
      ]
     },
     "metadata": {
      "needs_background": "light"
     },
     "output_type": "display_data"
    }
   ],
   "source": [
    "fig, ax = plt.subplots(1,1)\n",
    "ax.plot(sizes, t_numeric, 'o-', label='Inserting row-by-row')\n",
    "ax.plot(sizes, t_numeric_add, 'o-', label='Inserting row-by-row: add_result only')\n",
    "ax.plot(sizes, t_array, 'd-', label='Inserting as binary blob')\n",
    "ax.plot(sizes, t_array_add, 'd-', label='Inserting as binary blob: add_result only')\n",
    "ax.legend()\n",
    "ax.set_xlabel('Array length')\n",
    "ax.set_ylabel('Time (s)')\n",
    "fig.tight_layout()"
   ]
  },
  {
   "cell_type": "markdown",
   "metadata": {},
   "source": [
    "As shown in the latter figure, the time to setup and and close the experiment is approximately 0.4 sec. In case of small array sizes, the difference between inserting values of data as arrays and inserting them row-by-row is relatively unimportant. At larger array sizes, i.e. above 10000 points, the cost of writing data as individual datapoints starts to become important.\n"
   ]
  },
  {
   "cell_type": "markdown",
   "metadata": {},
   "source": [
    "### Case2: Long experiment time "
   ]
  },
  {
   "cell_type": "code",
   "execution_count": 7,
   "metadata": {
    "execution": {
     "iopub.execute_input": "2020-10-09T08:06:12.668202Z",
     "iopub.status.busy": "2020-10-09T08:06:12.667056Z",
     "iopub.status.idle": "2020-10-09T08:07:09.404729Z",
     "shell.execute_reply": "2020-10-09T08:07:09.403611Z"
    }
   },
   "outputs": [
    {
     "name": "stdout",
     "output_type": "stream",
     "text": [
      "Starting experimental run with id: 15. \n",
      "Starting experimental run with id: 16. \n",
      "Starting experimental run with id: 17. \n"
     ]
    },
    {
     "name": "stdout",
     "output_type": "stream",
     "text": [
      "Starting experimental run with id: 18. \n",
      "Starting experimental run with id: 19. \n"
     ]
    },
    {
     "name": "stdout",
     "output_type": "stream",
     "text": [
      "Starting experimental run with id: 20. \n"
     ]
    },
    {
     "name": "stdout",
     "output_type": "stream",
     "text": [
      "Starting experimental run with id: 21. \n"
     ]
    },
    {
     "name": "stdout",
     "output_type": "stream",
     "text": [
      "Starting experimental run with id: 22. \n"
     ]
    },
    {
     "name": "stdout",
     "output_type": "stream",
     "text": [
      "Starting experimental run with id: 23. \n"
     ]
    },
    {
     "name": "stdout",
     "output_type": "stream",
     "text": [
      "Starting experimental run with id: 24. \n"
     ]
    },
    {
     "name": "stdout",
     "output_type": "stream",
     "text": [
      "Starting experimental run with id: 25. \n"
     ]
    },
    {
     "name": "stdout",
     "output_type": "stream",
     "text": [
      "Starting experimental run with id: 26. \n"
     ]
    },
    {
     "name": "stdout",
     "output_type": "stream",
     "text": [
      "Starting experimental run with id: 27. \n"
     ]
    },
    {
     "name": "stdout",
     "output_type": "stream",
     "text": [
      "Starting experimental run with id: 28. \n"
     ]
    }
   ],
   "source": [
    "sizes = [1,500,1000,2000,3000,4000,5000]\n",
    "nreps = 100\n",
    "t_numeric = []\n",
    "t_numeric_add = []\n",
    "t_numeric_run_ids = []\n",
    "t_array = []\n",
    "t_array_add = []\n",
    "t_array_run_ids = []\n",
    "for size in sizes:\n",
    "    tn, tna, run_id_n =  insert_data('numeric', size, nreps=nreps)\n",
    "    t_numeric.append(tn)\n",
    "    t_numeric_add.append(tna)\n",
    "    t_numeric_run_ids.append(run_id_n)\n",
    "\n",
    "    ta, taa, run_id_a =  insert_data('array', size, nreps=nreps)\n",
    "    t_array.append(ta)\n",
    "    t_array_add.append(taa)\n",
    "    t_array_run_ids.append(run_id_a)"
   ]
  },
  {
   "cell_type": "code",
   "execution_count": 8,
   "metadata": {
    "execution": {
     "iopub.execute_input": "2020-10-09T08:07:09.428313Z",
     "iopub.status.busy": "2020-10-09T08:07:09.423100Z",
     "iopub.status.idle": "2020-10-09T08:07:09.652467Z",
     "shell.execute_reply": "2020-10-09T08:07:09.651853Z"
    },
    "scrolled": true
   },
   "outputs": [
    {
     "data": {
      "image/png": "[encoded data removed]",
      "text/plain": [
       "<Figure size 432x288 with 1 Axes>"
      ]
     },
     "metadata": {
      "needs_background": "light"
     },
     "output_type": "display_data"
    }
   ],
   "source": [
    "fig, ax = plt.subplots(1,1)\n",
    "ax.plot(sizes, t_numeric, 'o-', label='Inserting row-by-row')\n",
    "ax.plot(sizes, t_numeric_add, 'o-', label='Inserting row-by-row: add_result only')\n",
    "ax.plot(sizes, t_array, 'd-', label='Inserting as binary blob')\n",
    "ax.plot(sizes, t_array_add, 'd-', label='Inserting as binary blob: add_result only')\n",
    "ax.legend()\n",
    "ax.set_xlabel('Array length')\n",
    "ax.set_ylabel('Time (s)')\n",
    "fig.tight_layout()"
   ]
  },
  {
   "cell_type": "markdown",
   "metadata": {},
   "source": [
    "However, as we increase the length of the experiment, as seen here by repeating the insertion 100 times, we see a big difference between inserting values of the data row-by-row and inserting it as a binary blob."
   ]
  },
  {
   "cell_type": "markdown",
   "metadata": {},
   "source": [
    "## Loading the data "
   ]
  },
  {
   "cell_type": "code",
   "execution_count": 9,
   "metadata": {
    "execution": {
     "iopub.execute_input": "2020-10-09T08:07:09.657534Z",
     "iopub.status.busy": "2020-10-09T08:07:09.656478Z",
     "iopub.status.idle": "2020-10-09T08:07:09.660753Z",
     "shell.execute_reply": "2020-10-09T08:07:09.660169Z"
    }
   },
   "outputs": [],
   "source": [
    "from qcodes.dataset.data_set import load_by_id\n",
    "from qcodes.dataset.data_export import get_data_by_id"
   ]
  },
  {
   "cell_type": "markdown",
   "metadata": {},
   "source": [
    "As usual you can load the data by using the ``load_by_id`` function but you will notice that the different storage methods\n",
    "are reflected in shape of the data as it is retrieved. "
   ]
  },
  {
   "cell_type": "code",
   "execution_count": 10,
   "metadata": {
    "execution": {
     "iopub.execute_input": "2020-10-09T08:07:09.665055Z",
     "iopub.status.busy": "2020-10-09T08:07:09.664414Z",
     "iopub.status.idle": "2020-10-09T08:07:09.667893Z",
     "shell.execute_reply": "2020-10-09T08:07:09.668318Z"
    }
   },
   "outputs": [],
   "source": [
    "run_id_n = t_numeric_run_ids[0]\n",
    "run_id_a = t_array_run_ids[0]"
   ]
  },
  {
   "cell_type": "code",
   "execution_count": 11,
   "metadata": {
    "execution": {
     "iopub.execute_input": "2020-10-09T08:07:09.672797Z",
     "iopub.status.busy": "2020-10-09T08:07:09.672204Z",
     "iopub.status.idle": "2020-10-09T08:07:09.682563Z",
     "shell.execute_reply": "2020-10-09T08:07:09.683083Z"
    },
    "scrolled": true
   },
   "outputs": [
    {
     "data": {
      "text/plain": [
       "{'x1': {'x1': array([0.29543225, 0.29543225, 0.32179231, 0.32179231, 0.40665761,\n",
       "         0.40665761, 0.86680905, 0.86680905, 0.14016628, 0.14016628,\n",
       "         0.52048516, 0.52048516, 0.90248989, 0.90248989, 0.46742922,\n",
       "         0.46742922, 0.99592912, 0.99592912, 0.10632138, 0.10632138,\n",
       "         0.38279035, 0.38279035, 0.35805725, 0.35805725, 0.08498703,\n",
       "         0.08498703, 0.85971189, 0.85971189, 0.94202267, 0.94202267,\n",
       "         0.77845514, 0.77845514, 0.03053813, 0.03053813, 0.39767058,\n",
       "         0.39767058, 0.27191138, 0.27191138, 0.3120319 , 0.3120319 ,\n",
       "         0.02188056, 0.02188056, 0.66851046, 0.66851046, 0.11080705,\n",
       "         0.11080705, 0.00134936, 0.00134936, 0.88805178, 0.88805178,\n",
       "         0.39787879, 0.39787879, 0.22519761, 0.22519761, 0.92489538,\n",
       "         0.92489538, 0.90865842, 0.90865842, 0.8401498 , 0.8401498 ,\n",
       "         0.72232988, 0.72232988, 0.36925267, 0.36925267, 0.36021569,\n",
       "         0.36021569, 0.02247542, 0.02247542, 0.9747891 , 0.9747891 ,\n",
       "         0.12905637, 0.12905637, 0.02764024, 0.02764024, 0.90918662,\n",
       "         0.90918662, 0.23507212, 0.23507212, 0.81915246, 0.81915246,\n",
       "         0.50370178, 0.50370178, 0.65389221, 0.65389221, 0.16525221,\n",
       "         0.16525221, 0.04993015, 0.04993015, 0.61221454, 0.61221454,\n",
       "         0.16019386, 0.16019386, 0.40549769, 0.40549769, 0.73420342,\n",
       "         0.73420342, 0.09255973, 0.09255973, 0.33913924, 0.33913924,\n",
       "         0.74468388, 0.74468388, 0.73033713, 0.73033713, 0.92769631,\n",
       "         0.92769631, 0.59191659, 0.59191659, 0.37864193, 0.37864193,\n",
       "         0.35743553, 0.35743553, 0.40071844, 0.40071844, 0.88816229,\n",
       "         0.88816229, 0.84935483, 0.84935483, 0.90373524, 0.90373524,\n",
       "         0.3337319 , 0.3337319 , 0.14948236, 0.14948236, 0.95591139,\n",
       "         0.95591139, 0.44242174, 0.44242174, 0.38523044, 0.38523044,\n",
       "         0.64028538, 0.64028538, 0.15724608, 0.15724608, 0.84518581,\n",
       "         0.84518581, 0.72207528, 0.72207528, 0.53870808, 0.53870808,\n",
       "         0.51803488, 0.51803488, 0.00373626, 0.00373626, 0.2688882 ,\n",
       "         0.2688882 , 0.42348097, 0.42348097, 0.47428596, 0.47428596,\n",
       "         0.03894665, 0.03894665, 0.03028935, 0.03028935, 0.51401772,\n",
       "         0.51401772, 0.21252561, 0.21252561, 0.80908425, 0.80908425,\n",
       "         0.86978962, 0.86978962, 0.385471  , 0.385471  , 0.15829483,\n",
       "         0.15829483, 0.5224121 , 0.5224121 , 0.11621104, 0.11621104,\n",
       "         0.96292825, 0.96292825, 0.86865945, 0.86865945, 0.62380581,\n",
       "         0.62380581, 0.62743927, 0.62743927, 0.65292479, 0.65292479,\n",
       "         0.17613471, 0.17613471, 0.62066036, 0.62066036, 0.53291572,\n",
       "         0.53291572, 0.69818819, 0.69818819, 0.2451814 , 0.2451814 ,\n",
       "         0.37211689, 0.37211689, 0.8116414 , 0.8116414 , 0.51443797,\n",
       "         0.51443797, 0.52710701, 0.52710701, 0.50395099, 0.50395099])}}"
      ]
     },
     "execution_count": 1,
     "metadata": {},
     "output_type": "execute_result"
    }
   ],
   "source": [
    "ds = load_by_id(run_id_n)\n",
    "ds.get_parameter_data('x1')"
   ]
  },
  {
   "cell_type": "markdown",
   "metadata": {},
   "source": [
    "And a dataset stored as binary arrays"
   ]
  },
  {
   "cell_type": "code",
   "execution_count": 12,
   "metadata": {
    "execution": {
     "iopub.execute_input": "2020-10-09T08:07:09.686993Z",
     "iopub.status.busy": "2020-10-09T08:07:09.686407Z",
     "iopub.status.idle": "2020-10-09T08:07:09.748946Z",
     "shell.execute_reply": "2020-10-09T08:07:09.748164Z"
    },
    "scrolled": true
   },
   "outputs": [
    {
     "data": {
      "text/plain": [
       "{'x1': {'x1': array([[0.07223524],\n",
       "         [0.07223524],\n",
       "         [0.37707946],\n",
       "         [0.37707946],\n",
       "         [0.01747046],\n",
       "         [0.01747046],\n",
       "         [0.65495154],\n",
       "         [0.65495154],\n",
       "         [0.18381736],\n",
       "         [0.18381736],\n",
       "         [0.63159181],\n",
       "         [0.63159181],\n",
       "         [0.93739674],\n",
       "         [0.93739674],\n",
       "         [0.09502043],\n",
       "         [0.09502043],\n",
       "         [0.86420795],\n",
       "         [0.86420795],\n",
       "         [0.53996516],\n",
       "         [0.53996516],\n",
       "         [0.31945045],\n",
       "         [0.31945045],\n",
       "         [0.99154799],\n",
       "         [0.99154799],\n",
       "         [0.34565947],\n",
       "         [0.34565947],\n",
       "         [0.98697726],\n",
       "         [0.98697726],\n",
       "         [0.87075596],\n",
       "         [0.87075596],\n",
       "         [0.56896637],\n",
       "         [0.56896637],\n",
       "         [0.32533688],\n",
       "         [0.32533688],\n",
       "         [0.90492263],\n",
       "         [0.90492263],\n",
       "         [0.84137063],\n",
       "         [0.84137063],\n",
       "         [0.7952374 ],\n",
       "         [0.7952374 ],\n",
       "         [0.34577713],\n",
       "         [0.34577713],\n",
       "         [0.4138217 ],\n",
       "         [0.4138217 ],\n",
       "         [0.0961425 ],\n",
       "         [0.0961425 ],\n",
       "         [0.34203388],\n",
       "         [0.34203388],\n",
       "         [0.0600105 ],\n",
       "         [0.0600105 ],\n",
       "         [0.0318491 ],\n",
       "         [0.0318491 ],\n",
       "         [0.81313443],\n",
       "         [0.81313443],\n",
       "         [0.81628253],\n",
       "         [0.81628253],\n",
       "         [0.06928961],\n",
       "         [0.06928961],\n",
       "         [0.21192589],\n",
       "         [0.21192589],\n",
       "         [0.62765393],\n",
       "         [0.62765393],\n",
       "         [0.24332058],\n",
       "         [0.24332058],\n",
       "         [0.69227273],\n",
       "         [0.69227273],\n",
       "         [0.37696551],\n",
       "         [0.37696551],\n",
       "         [0.91319357],\n",
       "         [0.91319357],\n",
       "         [0.99978209],\n",
       "         [0.99978209],\n",
       "         [0.99938121],\n",
       "         [0.99938121],\n",
       "         [0.41367407],\n",
       "         [0.41367407],\n",
       "         [0.57111809],\n",
       "         [0.57111809],\n",
       "         [0.69506351],\n",
       "         [0.69506351],\n",
       "         [0.30376379],\n",
       "         [0.30376379],\n",
       "         [0.755359  ],\n",
       "         [0.755359  ],\n",
       "         [0.95751874],\n",
       "         [0.95751874],\n",
       "         [0.70373021],\n",
       "         [0.70373021],\n",
       "         [0.46655262],\n",
       "         [0.46655262],\n",
       "         [0.1986859 ],\n",
       "         [0.1986859 ],\n",
       "         [0.77117135],\n",
       "         [0.77117135],\n",
       "         [0.27594106],\n",
       "         [0.27594106],\n",
       "         [0.698167  ],\n",
       "         [0.698167  ],\n",
       "         [0.23171935],\n",
       "         [0.23171935],\n",
       "         [0.19837558],\n",
       "         [0.19837558],\n",
       "         [0.70556372],\n",
       "         [0.70556372],\n",
       "         [0.70072537],\n",
       "         [0.70072537],\n",
       "         [0.46528884],\n",
       "         [0.46528884],\n",
       "         [0.08853947],\n",
       "         [0.08853947],\n",
       "         [0.51024188],\n",
       "         [0.51024188],\n",
       "         [0.34766663],\n",
       "         [0.34766663],\n",
       "         [0.87846026],\n",
       "         [0.87846026],\n",
       "         [0.98438301],\n",
       "         [0.98438301],\n",
       "         [0.95673758],\n",
       "         [0.95673758],\n",
       "         [0.83860558],\n",
       "         [0.83860558],\n",
       "         [0.25326356],\n",
       "         [0.25326356],\n",
       "         [0.96879365],\n",
       "         [0.96879365],\n",
       "         [0.90829971],\n",
       "         [0.90829971],\n",
       "         [0.24432351],\n",
       "         [0.24432351],\n",
       "         [0.59399708],\n",
       "         [0.59399708],\n",
       "         [0.34406474],\n",
       "         [0.34406474],\n",
       "         [0.44844373],\n",
       "         [0.44844373],\n",
       "         [0.44721566],\n",
       "         [0.44721566],\n",
       "         [0.4186524 ],\n",
       "         [0.4186524 ],\n",
       "         [0.09604649],\n",
       "         [0.09604649],\n",
       "         [0.26319432],\n",
       "         [0.26319432],\n",
       "         [0.33926522],\n",
       "         [0.33926522],\n",
       "         [0.95801344],\n",
       "         [0.95801344],\n",
       "         [0.53443219],\n",
       "         [0.53443219],\n",
       "         [0.18303456],\n",
       "         [0.18303456],\n",
       "         [0.48096658],\n",
       "         [0.48096658],\n",
       "         [0.96060557],\n",
       "         [0.96060557],\n",
       "         [0.40588063],\n",
       "         [0.40588063],\n",
       "         [0.49622827],\n",
       "         [0.49622827],\n",
       "         [0.72427272],\n",
       "         [0.72427272],\n",
       "         [0.55403909],\n",
       "         [0.55403909],\n",
       "         [0.0233214 ],\n",
       "         [0.0233214 ],\n",
       "         [0.12023906],\n",
       "         [0.12023906],\n",
       "         [0.54756859],\n",
       "         [0.54756859],\n",
       "         [0.22251316],\n",
       "         [0.22251316],\n",
       "         [0.95475813],\n",
       "         [0.95475813],\n",
       "         [0.18365417],\n",
       "         [0.18365417],\n",
       "         [0.45182967],\n",
       "         [0.45182967],\n",
       "         [0.47006044],\n",
       "         [0.47006044],\n",
       "         [0.31780196],\n",
       "         [0.31780196],\n",
       "         [0.35844245],\n",
       "         [0.35844245],\n",
       "         [0.78701774],\n",
       "         [0.78701774],\n",
       "         [0.33338915],\n",
       "         [0.33338915],\n",
       "         [0.19392138],\n",
       "         [0.19392138],\n",
       "         [0.41533186],\n",
       "         [0.41533186],\n",
       "         [0.72329417],\n",
       "         [0.72329417],\n",
       "         [0.51377557],\n",
       "         [0.51377557],\n",
       "         [0.27898387],\n",
       "         [0.27898387],\n",
       "         [0.2668014 ],\n",
       "         [0.2668014 ]])}}"
      ]
     },
     "execution_count": 1,
     "metadata": {},
     "output_type": "execute_result"
    }
   ],
   "source": [
    "ds = load_by_id(run_id_a)\n",
    "ds.get_parameter_data('x1')"
   ]
  },
  {
   "cell_type": "code",
   "execution_count": null,
   "metadata": {},
   "outputs": [],
   "source": []
  }
 ],
 "metadata": {
  "kernelspec": {
   "display_name": "Python 3",
   "language": "python",
   "name": "python3"
  },
  "language_info": {
   "codemirror_mode": {
    "name": "ipython",
    "version": 3
   },
   "file_extension": ".py",
   "mimetype": "text/x-python",
   "name": "python",
   "nbconvert_exporter": "python",
   "pygments_lexer": "ipython3",
   "version": "3.7.7"
  },
  "nbsphinx": {
   "timeout": 600
  },
  "toc": {
   "base_numbering": 1,
   "nav_menu": {},
   "number_sections": true,
   "sideBar": true,
   "skip_h1_title": false,
   "title_cell": "Table of Contents",
   "title_sidebar": "Contents",
   "toc_cell": false,
   "toc_position": {},
   "toc_section_display": true,
   "toc_window_display": false
  },
  "varInspector": {
   "cols": {
    "lenName": 16,
    "lenType": 16,
    "lenVar": 40
   },
   "kernels_config": {
    "python": {
     "delete_cmd_postfix": "",
     "delete_cmd_prefix": "del ",
     "library": "var_list.py",
     "varRefreshCmd": "print(var_dic_list())"
    },
    "r": {
     "delete_cmd_postfix": ") ",
     "delete_cmd_prefix": "rm(",
     "library": "var_list.r",
     "varRefreshCmd": "cat(var_dic_list()) "
    }
   },
   "types_to_exclude": [
    "module",
    "function",
    "builtin_function_or_method",
    "instance",
    "_Feature"
   ],
   "window_display": false
  }
 },
 "nbformat": 4,
 "nbformat_minor": 2
}
