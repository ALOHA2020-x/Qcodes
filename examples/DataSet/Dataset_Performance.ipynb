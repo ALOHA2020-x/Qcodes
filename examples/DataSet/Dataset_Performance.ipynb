{
 "cells": [
  {
   "cell_type": "markdown",
   "metadata": {},
   "source": [
    "# DataSet Performance\n",
    "\n",
    "This notebook shows the trade-off between inserting data into a database row-by-row and as binary blobs. Inserting the data row-by-row means that we have direct access to all the data and may perform queries directly on the values of the data. On the other hand, as we shall see, this is much slower than inserting the data directly as binary blobs."
   ]
  },
  {
   "cell_type": "markdown",
   "metadata": {},
   "source": [
    "First, we choose a new location for the database to ensure that we don't add a bunch of benchmarking data to the default one."
   ]
  },
  {
   "cell_type": "code",
   "execution_count": 1,
   "metadata": {
    "execution": {
     "iopub.execute_input": "2021-01-03T11:48:28.956433Z",
     "iopub.status.busy": "2021-01-03T11:48:28.955816Z",
     "iopub.status.idle": "2021-01-03T11:48:30.184266Z",
     "shell.execute_reply": "2021-01-03T11:48:30.184786Z"
    }
   },
   "outputs": [
    {
     "name": "stdout",
     "output_type": "stream",
     "text": [
      "Logging hadn't been started.\n",
      "Activating auto-logging. Current session state plus future input saved.\n",
      "Filename       : /home/vsts/.qcodes/logs/command_history.log\n",
      "Mode           : append\n",
      "Output logging : True\n",
      "Raw input log  : False\n",
      "Timestamping   : True\n",
      "State          : active\n"
     ]
    },
    {
     "name": "stdout",
     "output_type": "stream",
     "text": [
      "Qcodes Logfile : /home/vsts/.qcodes/logs/210103-13612-qcodes.log\n"
     ]
    }
   ],
   "source": [
    "import os\n",
    "cwd = os.getcwd()\n",
    "import qcodes as qc\n",
    "qc.config[\"core\"][\"db_location\"] = os.path.join(cwd, 'testing.db')\n"
   ]
  },
  {
   "cell_type": "code",
   "execution_count": 2,
   "metadata": {
    "execution": {
     "iopub.execute_input": "2021-01-03T11:48:30.196317Z",
     "iopub.status.busy": "2021-01-03T11:48:30.193176Z",
     "iopub.status.idle": "2021-01-03T11:48:30.409417Z",
     "shell.execute_reply": "2021-01-03T11:48:30.408434Z"
    }
   },
   "outputs": [],
   "source": [
    "%matplotlib inline\n",
    "import time\n",
    "import matplotlib.pyplot as plt\n",
    "import numpy as np\n",
    "\n",
    "import qcodes as qc\n",
    "from qcodes.instrument.parameter import ManualParameter\n",
    "from qcodes.dataset.experiment_container import (Experiment,\n",
    "                                                 load_last_experiment,\n",
    "                                                 new_experiment)\n",
    "from qcodes.dataset.sqlite.database import initialise_database\n",
    "from qcodes import load_or_create_experiment\n",
    "from qcodes.dataset.measurements import Measurement"
   ]
  },
  {
   "cell_type": "code",
   "execution_count": 3,
   "metadata": {
    "execution": {
     "iopub.execute_input": "2021-01-03T11:48:30.414188Z",
     "iopub.status.busy": "2021-01-03T11:48:30.413145Z",
     "iopub.status.idle": "2021-01-03T11:48:30.562520Z",
     "shell.execute_reply": "2021-01-03T11:48:30.561769Z"
    }
   },
   "outputs": [
    {
     "name": "stdout",
     "output_type": "stream",
     "text": [
      "\r",
      "0it [00:00, ?it/s]"
     ]
    },
    {
     "name": "stdout",
     "output_type": "stream",
     "text": [
      "\r",
      "Upgrading database; v0 -> v1: : 0it [00:00, ?it/s]"
     ]
    },
    {
     "name": "stdout",
     "output_type": "stream",
     "text": [
      "\r",
      "Upgrading database; v0 -> v1: : 0it [00:00, ?it/s]"
     ]
    },
    {
     "name": "stdout",
     "output_type": "stream",
     "text": [
      "\n",
      "\r",
      "  0%|          | 0/1 [00:00<?, ?it/s]"
     ]
    },
    {
     "name": "stdout",
     "output_type": "stream",
     "text": [
      "\r",
      "Upgrading database; v1 -> v2:   0%|          | 0/1 [00:00<?, ?it/s]"
     ]
    },
    {
     "name": "stdout",
     "output_type": "stream",
     "text": [
      "\r",
      "Upgrading database; v1 -> v2: 100%|██████████| 1/1 [00:00<00:00, 986.66it/s]"
     ]
    },
    {
     "name": "stdout",
     "output_type": "stream",
     "text": [
      "\n",
      "\r",
      "0it [00:00, ?it/s]"
     ]
    },
    {
     "name": "stdout",
     "output_type": "stream",
     "text": [
      "\r",
      "Upgrading database; v2 -> v3: : 0it [00:00, ?it/s]"
     ]
    },
    {
     "name": "stdout",
     "output_type": "stream",
     "text": [
      "\r",
      "Upgrading database; v2 -> v3: : 0it [00:00, ?it/s]"
     ]
    },
    {
     "name": "stdout",
     "output_type": "stream",
     "text": [
      "\n",
      "\r",
      "0it [00:00, ?it/s]"
     ]
    },
    {
     "name": "stdout",
     "output_type": "stream",
     "text": [
      "\r",
      "Upgrading database; v3 -> v4: : 0it [00:00, ?it/s]"
     ]
    },
    {
     "name": "stdout",
     "output_type": "stream",
     "text": [
      "\r",
      "Upgrading database; v3 -> v4: : 0it [00:00, ?it/s]"
     ]
    },
    {
     "name": "stdout",
     "output_type": "stream",
     "text": [
      "\n",
      "\r",
      "  0%|          | 0/1 [00:00<?, ?it/s]"
     ]
    },
    {
     "name": "stdout",
     "output_type": "stream",
     "text": [
      "\r",
      "Upgrading database; v4 -> v5:   0%|          | 0/1 [00:00<?, ?it/s]"
     ]
    },
    {
     "name": "stdout",
     "output_type": "stream",
     "text": [
      "\r",
      "Upgrading database; v4 -> v5: 100%|██████████| 1/1 [00:00<00:00, 523.70it/s]"
     ]
    },
    {
     "name": "stdout",
     "output_type": "stream",
     "text": [
      "\n",
      "\r",
      "0it [00:00, ?it/s]"
     ]
    },
    {
     "name": "stdout",
     "output_type": "stream",
     "text": [
      "\r",
      "Upgrading database; v5 -> v6: : 0it [00:00, ?it/s]"
     ]
    },
    {
     "name": "stdout",
     "output_type": "stream",
     "text": [
      "\r",
      "Upgrading database; v5 -> v6: : 0it [00:00, ?it/s]"
     ]
    },
    {
     "name": "stdout",
     "output_type": "stream",
     "text": [
      "\n",
      "\r",
      "  0%|          | 0/1 [00:00<?, ?it/s]"
     ]
    },
    {
     "name": "stdout",
     "output_type": "stream",
     "text": [
      "\r",
      "Upgrading database; v6 -> v7:   0%|          | 0/1 [00:00<?, ?it/s]"
     ]
    },
    {
     "name": "stdout",
     "output_type": "stream",
     "text": [
      "\r",
      "Upgrading database; v6 -> v7: 100%|██████████| 1/1 [00:00<00:00, 184.45it/s]"
     ]
    },
    {
     "name": "stdout",
     "output_type": "stream",
     "text": [
      "\n",
      "\r",
      "  0%|          | 0/1 [00:00<?, ?it/s]"
     ]
    },
    {
     "name": "stdout",
     "output_type": "stream",
     "text": [
      "\r",
      "Upgrading database; v7 -> v8:   0%|          | 0/1 [00:00<?, ?it/s]"
     ]
    },
    {
     "name": "stdout",
     "output_type": "stream",
     "text": [
      "\r",
      "Upgrading database; v7 -> v8: 100%|██████████| 1/1 [00:00<00:00, 490.16it/s]"
     ]
    },
    {
     "name": "stdout",
     "output_type": "stream",
     "text": [
      "\n",
      "\r",
      "  0%|          | 0/1 [00:00<?, ?it/s]"
     ]
    },
    {
     "name": "stdout",
     "output_type": "stream",
     "text": [
      "\r",
      "Upgrading database; v8 -> v9:   0%|          | 0/1 [00:00<?, ?it/s]"
     ]
    },
    {
     "name": "stdout",
     "output_type": "stream",
     "text": [
      "\r",
      "Upgrading database; v8 -> v9: 100%|██████████| 1/1 [00:00<00:00, 1053.85it/s]"
     ]
    },
    {
     "name": "stdout",
     "output_type": "stream",
     "text": [
      "\n"
     ]
    }
   ],
   "source": [
    "initialise_database()\n",
    "exp = load_or_create_experiment(experiment_name='tutorial_exp', sample_name=\"no sample\")"
   ]
  },
  {
   "cell_type": "markdown",
   "metadata": {},
   "source": [
    "Here, we define a simple function to benchmark the time it takes to insert n points with either numeric or array data type.\n",
    "We will compare both the time used to call ``add_result`` and the time used for the full measurement."
   ]
  },
  {
   "cell_type": "code",
   "execution_count": 4,
   "metadata": {
    "execution": {
     "iopub.execute_input": "2021-01-03T11:48:30.572240Z",
     "iopub.status.busy": "2021-01-03T11:48:30.571590Z",
     "iopub.status.idle": "2021-01-03T11:48:30.575707Z",
     "shell.execute_reply": "2021-01-03T11:48:30.575065Z"
    }
   },
   "outputs": [],
   "source": [
    "def insert_data(paramtype, npoints, nreps=1):\n",
    "\n",
    "    meas = Measurement(exp=exp)\n",
    "\n",
    "    x1 = ManualParameter('x1')\n",
    "    x2 = ManualParameter('x2')\n",
    "    x3 = ManualParameter('x3')\n",
    "    y1 = ManualParameter('y1')\n",
    "    y2 = ManualParameter('y2')\n",
    "\n",
    "    meas.register_parameter(x1, paramtype=paramtype)\n",
    "    meas.register_parameter(x2, paramtype=paramtype)\n",
    "    meas.register_parameter(x3, paramtype=paramtype)\n",
    "    meas.register_parameter(y1, setpoints=[x1, x2, x3],\n",
    "                            paramtype=paramtype)\n",
    "    meas.register_parameter(y2, setpoints=[x1, x2, x3],\n",
    "                            paramtype=paramtype)\n",
    "    start = time.perf_counter()\n",
    "    with meas.run() as datasaver:\n",
    "        start_adding = time.perf_counter()\n",
    "        for i in range(nreps):\n",
    "            datasaver.add_result((x1, np.random.rand(npoints)),\n",
    "                                 (x2, np.random.rand(npoints)),\n",
    "                                 (x3, np.random.rand(npoints)),\n",
    "                                 (y1, np.random.rand(npoints)),\n",
    "                                 (y2, np.random.rand(npoints)))\n",
    "        stop_adding = time.perf_counter()\n",
    "        run_id = datasaver.run_id\n",
    "    stop = time.perf_counter()\n",
    "    tot_time = stop - start\n",
    "    add_time = stop_adding - start_adding\n",
    "    return tot_time, add_time, run_id"
   ]
  },
  {
   "cell_type": "markdown",
   "metadata": {},
   "source": [
    "## Comparison between numeric/array data and binary blob"
   ]
  },
  {
   "cell_type": "markdown",
   "metadata": {},
   "source": [
    "### Case1: Short experiment time"
   ]
  },
  {
   "cell_type": "code",
   "execution_count": 5,
   "metadata": {
    "execution": {
     "iopub.execute_input": "2021-01-03T11:48:30.584297Z",
     "iopub.status.busy": "2021-01-03T11:48:30.582809Z",
     "iopub.status.idle": "2021-01-03T11:48:31.554909Z",
     "shell.execute_reply": "2021-01-03T11:48:31.555725Z"
    }
   },
   "outputs": [
    {
     "name": "stdout",
     "output_type": "stream",
     "text": [
      "Starting experimental run with id: 1. \n",
      "Starting experimental run with id: 2. \n",
      "Starting experimental run with id: 3. \n"
     ]
    },
    {
     "name": "stdout",
     "output_type": "stream",
     "text": [
      "Starting experimental run with id: 4. \n"
     ]
    },
    {
     "name": "stdout",
     "output_type": "stream",
     "text": [
      "Starting experimental run with id: 5. \n"
     ]
    },
    {
     "name": "stdout",
     "output_type": "stream",
     "text": [
      "Starting experimental run with id: 6. \n"
     ]
    },
    {
     "name": "stdout",
     "output_type": "stream",
     "text": [
      "Starting experimental run with id: 7. \n"
     ]
    },
    {
     "name": "stdout",
     "output_type": "stream",
     "text": [
      "Starting experimental run with id: 8. \n"
     ]
    },
    {
     "name": "stdout",
     "output_type": "stream",
     "text": [
      "Starting experimental run with id: 9. \n"
     ]
    },
    {
     "name": "stdout",
     "output_type": "stream",
     "text": [
      "Starting experimental run with id: 10. \n",
      "Starting experimental run with id: 11. \n"
     ]
    },
    {
     "name": "stdout",
     "output_type": "stream",
     "text": [
      "Starting experimental run with id: 12. \n",
      "Starting experimental run with id: 13. \n"
     ]
    },
    {
     "name": "stdout",
     "output_type": "stream",
     "text": [
      "Starting experimental run with id: 14. \n"
     ]
    }
   ],
   "source": [
    "sizes = [1,500,1000,2000,3000,4000,5000]\n",
    "t_numeric = []\n",
    "t_numeric_add = []\n",
    "t_array = []\n",
    "t_array_add = []\n",
    "for size in sizes:\n",
    "    tn, tna, run_id_n =  insert_data('numeric', size)\n",
    "    t_numeric.append(tn)\n",
    "    t_numeric_add.append(tna)\n",
    "\n",
    "    ta, taa, run_id_a =  insert_data('array', size)\n",
    "    t_array.append(ta)\n",
    "    t_array_add.append(taa)"
   ]
  },
  {
   "cell_type": "code",
   "execution_count": 6,
   "metadata": {
    "execution": {
     "iopub.execute_input": "2021-01-03T11:48:31.575496Z",
     "iopub.status.busy": "2021-01-03T11:48:31.560839Z",
     "iopub.status.idle": "2021-01-03T11:48:31.819370Z",
     "shell.execute_reply": "2021-01-03T11:48:31.818351Z"
    }
   },
   "outputs": [
    {
     "data": {
      "image/png": "[encoded data removed]",
      "text/plain": [
       "<Figure size 432x288 with 1 Axes>"
      ]
     },
     "metadata": {
      "needs_background": "light"
     },
     "output_type": "display_data"
    }
   ],
   "source": [
    "fig, ax = plt.subplots(1,1)\n",
    "ax.plot(sizes, t_numeric, 'o-', label='Inserting row-by-row')\n",
    "ax.plot(sizes, t_numeric_add, 'o-', label='Inserting row-by-row: add_result only')\n",
    "ax.plot(sizes, t_array, 'd-', label='Inserting as binary blob')\n",
    "ax.plot(sizes, t_array_add, 'd-', label='Inserting as binary blob: add_result only')\n",
    "ax.legend()\n",
    "ax.set_xlabel('Array length')\n",
    "ax.set_ylabel('Time (s)')\n",
    "fig.tight_layout()"
   ]
  },
  {
   "cell_type": "markdown",
   "metadata": {},
   "source": [
    "As shown in the latter figure, the time to setup and and close the experiment is approximately 0.4 sec. In case of small array sizes, the difference between inserting values of data as arrays and inserting them row-by-row is relatively unimportant. At larger array sizes, i.e. above 10000 points, the cost of writing data as individual datapoints starts to become important.\n"
   ]
  },
  {
   "cell_type": "markdown",
   "metadata": {},
   "source": [
    "### Case2: Long experiment time "
   ]
  },
  {
   "cell_type": "code",
   "execution_count": 7,
   "metadata": {
    "execution": {
     "iopub.execute_input": "2021-01-03T11:48:31.828660Z",
     "iopub.status.busy": "2021-01-03T11:48:31.828061Z",
     "iopub.status.idle": "2021-01-03T11:49:39.827956Z",
     "shell.execute_reply": "2021-01-03T11:49:39.826893Z"
    }
   },
   "outputs": [
    {
     "name": "stdout",
     "output_type": "stream",
     "text": [
      "Starting experimental run with id: 15. \n",
      "Starting experimental run with id: 16. \n"
     ]
    },
    {
     "name": "stdout",
     "output_type": "stream",
     "text": [
      "Starting experimental run with id: 17. \n"
     ]
    },
    {
     "name": "stdout",
     "output_type": "stream",
     "text": [
      "Starting experimental run with id: 18. \n",
      "Starting experimental run with id: 19. \n"
     ]
    },
    {
     "name": "stdout",
     "output_type": "stream",
     "text": [
      "Starting experimental run with id: 20. \n"
     ]
    },
    {
     "name": "stdout",
     "output_type": "stream",
     "text": [
      "Starting experimental run with id: 21. \n"
     ]
    },
    {
     "name": "stdout",
     "output_type": "stream",
     "text": [
      "Starting experimental run with id: 22. \n"
     ]
    },
    {
     "name": "stdout",
     "output_type": "stream",
     "text": [
      "Starting experimental run with id: 23. \n"
     ]
    },
    {
     "name": "stdout",
     "output_type": "stream",
     "text": [
      "Starting experimental run with id: 24. \n"
     ]
    },
    {
     "name": "stdout",
     "output_type": "stream",
     "text": [
      "Starting experimental run with id: 25. \n"
     ]
    },
    {
     "name": "stdout",
     "output_type": "stream",
     "text": [
      "Starting experimental run with id: 26. \n"
     ]
    },
    {
     "name": "stdout",
     "output_type": "stream",
     "text": [
      "Starting experimental run with id: 27. \n"
     ]
    },
    {
     "name": "stdout",
     "output_type": "stream",
     "text": [
      "Starting experimental run with id: 28. \n"
     ]
    }
   ],
   "source": [
    "sizes = [1,500,1000,2000,3000,4000,5000]\n",
    "nreps = 100\n",
    "t_numeric = []\n",
    "t_numeric_add = []\n",
    "t_numeric_run_ids = []\n",
    "t_array = []\n",
    "t_array_add = []\n",
    "t_array_run_ids = []\n",
    "for size in sizes:\n",
    "    tn, tna, run_id_n =  insert_data('numeric', size, nreps=nreps)\n",
    "    t_numeric.append(tn)\n",
    "    t_numeric_add.append(tna)\n",
    "    t_numeric_run_ids.append(run_id_n)\n",
    "\n",
    "    ta, taa, run_id_a =  insert_data('array', size, nreps=nreps)\n",
    "    t_array.append(ta)\n",
    "    t_array_add.append(taa)\n",
    "    t_array_run_ids.append(run_id_a)"
   ]
  },
  {
   "cell_type": "code",
   "execution_count": 8,
   "metadata": {
    "execution": {
     "iopub.execute_input": "2021-01-03T11:49:39.842179Z",
     "iopub.status.busy": "2021-01-03T11:49:39.834059Z",
     "iopub.status.idle": "2021-01-03T11:49:40.070620Z",
     "shell.execute_reply": "2021-01-03T11:49:40.069918Z"
    },
    "scrolled": true
   },
   "outputs": [
    {
     "data": {
      "image/png": "[encoded data removed]",
      "text/plain": [
       "<Figure size 432x288 with 1 Axes>"
      ]
     },
     "metadata": {
      "needs_background": "light"
     },
     "output_type": "display_data"
    }
   ],
   "source": [
    "fig, ax = plt.subplots(1,1)\n",
    "ax.plot(sizes, t_numeric, 'o-', label='Inserting row-by-row')\n",
    "ax.plot(sizes, t_numeric_add, 'o-', label='Inserting row-by-row: add_result only')\n",
    "ax.plot(sizes, t_array, 'd-', label='Inserting as binary blob')\n",
    "ax.plot(sizes, t_array_add, 'd-', label='Inserting as binary blob: add_result only')\n",
    "ax.legend()\n",
    "ax.set_xlabel('Array length')\n",
    "ax.set_ylabel('Time (s)')\n",
    "fig.tight_layout()"
   ]
  },
  {
   "cell_type": "markdown",
   "metadata": {},
   "source": [
    "However, as we increase the length of the experiment, as seen here by repeating the insertion 100 times, we see a big difference between inserting values of the data row-by-row and inserting it as a binary blob."
   ]
  },
  {
   "cell_type": "markdown",
   "metadata": {},
   "source": [
    "## Loading the data "
   ]
  },
  {
   "cell_type": "code",
   "execution_count": 9,
   "metadata": {
    "execution": {
     "iopub.execute_input": "2021-01-03T11:49:40.075621Z",
     "iopub.status.busy": "2021-01-03T11:49:40.074799Z",
     "iopub.status.idle": "2021-01-03T11:49:40.079660Z",
     "shell.execute_reply": "2021-01-03T11:49:40.078617Z"
    }
   },
   "outputs": [],
   "source": [
    "from qcodes.dataset.data_set import load_by_id\n",
    "from qcodes.dataset.data_export import get_data_by_id"
   ]
  },
  {
   "cell_type": "markdown",
   "metadata": {},
   "source": [
    "As usual you can load the data by using the ``load_by_id`` function but you will notice that the different storage methods\n",
    "are reflected in shape of the data as it is retrieved. "
   ]
  },
  {
   "cell_type": "code",
   "execution_count": 10,
   "metadata": {
    "execution": {
     "iopub.execute_input": "2021-01-03T11:49:40.084267Z",
     "iopub.status.busy": "2021-01-03T11:49:40.083669Z",
     "iopub.status.idle": "2021-01-03T11:49:40.087086Z",
     "shell.execute_reply": "2021-01-03T11:49:40.087592Z"
    }
   },
   "outputs": [],
   "source": [
    "run_id_n = t_numeric_run_ids[0]\n",
    "run_id_a = t_array_run_ids[0]"
   ]
  },
  {
   "cell_type": "code",
   "execution_count": 11,
   "metadata": {
    "execution": {
     "iopub.execute_input": "2021-01-03T11:49:40.091219Z",
     "iopub.status.busy": "2021-01-03T11:49:40.090590Z",
     "iopub.status.idle": "2021-01-03T11:49:40.103037Z",
     "shell.execute_reply": "2021-01-03T11:49:40.102528Z"
    },
    "scrolled": true
   },
   "outputs": [
    {
     "data": {
      "text/plain": [
       "{'x1': {'x1': array([0.17115503, 0.17115503, 0.42304482, 0.42304482, 0.72112509,\n",
       "         0.72112509, 0.9777803 , 0.9777803 , 0.97347517, 0.97347517,\n",
       "         0.84367094, 0.84367094, 0.64009681, 0.64009681, 0.63101525,\n",
       "         0.63101525, 0.86584908, 0.86584908, 0.10651356, 0.10651356,\n",
       "         0.12917235, 0.12917235, 0.115739  , 0.115739  , 0.50036654,\n",
       "         0.50036654, 0.84912553, 0.84912553, 0.76918142, 0.76918142,\n",
       "         0.18184035, 0.18184035, 0.19761741, 0.19761741, 0.51808427,\n",
       "         0.51808427, 0.25455753, 0.25455753, 0.33216092, 0.33216092,\n",
       "         0.94842322, 0.94842322, 0.55504393, 0.55504393, 0.2828859 ,\n",
       "         0.2828859 , 0.37920429, 0.37920429, 0.36703771, 0.36703771,\n",
       "         0.15014966, 0.15014966, 0.04265892, 0.04265892, 0.05888029,\n",
       "         0.05888029, 0.10163615, 0.10163615, 0.15489824, 0.15489824,\n",
       "         0.1640355 , 0.1640355 , 0.10830529, 0.10830529, 0.51755968,\n",
       "         0.51755968, 0.95285224, 0.95285224, 0.76121131, 0.76121131,\n",
       "         0.40241628, 0.40241628, 0.3072737 , 0.3072737 , 0.46353513,\n",
       "         0.46353513, 0.79267158, 0.79267158, 0.71835093, 0.71835093,\n",
       "         0.51923729, 0.51923729, 0.38129014, 0.38129014, 0.72012482,\n",
       "         0.72012482, 0.81717163, 0.81717163, 0.06119857, 0.06119857,\n",
       "         0.24137876, 0.24137876, 0.30339786, 0.30339786, 0.0267199 ,\n",
       "         0.0267199 , 0.3991693 , 0.3991693 , 0.56479626, 0.56479626,\n",
       "         0.6665759 , 0.6665759 , 0.39948071, 0.39948071, 0.89979579,\n",
       "         0.89979579, 0.58545161, 0.58545161, 0.66529461, 0.66529461,\n",
       "         0.5186408 , 0.5186408 , 0.52796867, 0.52796867, 0.10512868,\n",
       "         0.10512868, 0.60045002, 0.60045002, 0.43166546, 0.43166546,\n",
       "         0.69789146, 0.69789146, 0.42183932, 0.42183932, 0.0392521 ,\n",
       "         0.0392521 , 0.3583976 , 0.3583976 , 0.36778175, 0.36778175,\n",
       "         0.39092046, 0.39092046, 0.36062996, 0.36062996, 0.95428338,\n",
       "         0.95428338, 0.14308058, 0.14308058, 0.44159672, 0.44159672,\n",
       "         0.25350956, 0.25350956, 0.49848403, 0.49848403, 0.25451445,\n",
       "         0.25451445, 0.30771068, 0.30771068, 0.99515813, 0.99515813,\n",
       "         0.50019351, 0.50019351, 0.576486  , 0.576486  , 0.98136076,\n",
       "         0.98136076, 0.81509196, 0.81509196, 0.94886782, 0.94886782,\n",
       "         0.56180016, 0.56180016, 0.94436115, 0.94436115, 0.91013427,\n",
       "         0.91013427, 0.03927046, 0.03927046, 0.01353575, 0.01353575,\n",
       "         0.1874525 , 0.1874525 , 0.81639454, 0.81639454, 0.818248  ,\n",
       "         0.818248  , 0.69266561, 0.69266561, 0.48639018, 0.48639018,\n",
       "         0.86447626, 0.86447626, 0.17900458, 0.17900458, 0.90534282,\n",
       "         0.90534282, 0.75795594, 0.75795594, 0.02682391, 0.02682391,\n",
       "         0.54145211, 0.54145211, 0.88350716, 0.88350716, 0.86369624,\n",
       "         0.86369624, 0.93892826, 0.93892826, 0.87406498, 0.87406498])}}"
      ]
     },
     "execution_count": 1,
     "metadata": {},
     "output_type": "execute_result"
    }
   ],
   "source": [
    "ds = load_by_id(run_id_n)\n",
    "ds.get_parameter_data('x1')"
   ]
  },
  {
   "cell_type": "markdown",
   "metadata": {},
   "source": [
    "And a dataset stored as binary arrays"
   ]
  },
  {
   "cell_type": "code",
   "execution_count": 12,
   "metadata": {
    "execution": {
     "iopub.execute_input": "2021-01-03T11:49:40.108511Z",
     "iopub.status.busy": "2021-01-03T11:49:40.106292Z",
     "iopub.status.idle": "2021-01-03T11:49:40.175589Z",
     "shell.execute_reply": "2021-01-03T11:49:40.176318Z"
    },
    "scrolled": true
   },
   "outputs": [
    {
     "data": {
      "text/plain": [
       "{'x1': {'x1': array([[0.58565805],\n",
       "         [0.58565805],\n",
       "         [0.02461735],\n",
       "         [0.02461735],\n",
       "         [0.30412254],\n",
       "         [0.30412254],\n",
       "         [0.50812314],\n",
       "         [0.50812314],\n",
       "         [0.82144536],\n",
       "         [0.82144536],\n",
       "         [0.6662432 ],\n",
       "         [0.6662432 ],\n",
       "         [0.67707388],\n",
       "         [0.67707388],\n",
       "         [0.73299771],\n",
       "         [0.73299771],\n",
       "         [0.21959497],\n",
       "         [0.21959497],\n",
       "         [0.1395738 ],\n",
       "         [0.1395738 ],\n",
       "         [0.75999888],\n",
       "         [0.75999888],\n",
       "         [0.40850637],\n",
       "         [0.40850637],\n",
       "         [0.65946438],\n",
       "         [0.65946438],\n",
       "         [0.94322753],\n",
       "         [0.94322753],\n",
       "         [0.80721876],\n",
       "         [0.80721876],\n",
       "         [0.39385347],\n",
       "         [0.39385347],\n",
       "         [0.44788055],\n",
       "         [0.44788055],\n",
       "         [0.5069586 ],\n",
       "         [0.5069586 ],\n",
       "         [0.47863716],\n",
       "         [0.47863716],\n",
       "         [0.50906664],\n",
       "         [0.50906664],\n",
       "         [0.43114954],\n",
       "         [0.43114954],\n",
       "         [0.75674744],\n",
       "         [0.75674744],\n",
       "         [0.41525265],\n",
       "         [0.41525265],\n",
       "         [0.43262904],\n",
       "         [0.43262904],\n",
       "         [0.18180107],\n",
       "         [0.18180107],\n",
       "         [0.11245953],\n",
       "         [0.11245953],\n",
       "         [0.72686052],\n",
       "         [0.72686052],\n",
       "         [0.49804673],\n",
       "         [0.49804673],\n",
       "         [0.81282767],\n",
       "         [0.81282767],\n",
       "         [0.99119446],\n",
       "         [0.99119446],\n",
       "         [0.15270413],\n",
       "         [0.15270413],\n",
       "         [0.41250523],\n",
       "         [0.41250523],\n",
       "         [0.45788034],\n",
       "         [0.45788034],\n",
       "         [0.46619322],\n",
       "         [0.46619322],\n",
       "         [0.62997236],\n",
       "         [0.62997236],\n",
       "         [0.18123991],\n",
       "         [0.18123991],\n",
       "         [0.18072642],\n",
       "         [0.18072642],\n",
       "         [0.48469149],\n",
       "         [0.48469149],\n",
       "         [0.7393519 ],\n",
       "         [0.7393519 ],\n",
       "         [0.91358077],\n",
       "         [0.91358077],\n",
       "         [0.81217921],\n",
       "         [0.81217921],\n",
       "         [0.31589986],\n",
       "         [0.31589986],\n",
       "         [0.95778892],\n",
       "         [0.95778892],\n",
       "         [0.41194637],\n",
       "         [0.41194637],\n",
       "         [0.00900032],\n",
       "         [0.00900032],\n",
       "         [0.12295241],\n",
       "         [0.12295241],\n",
       "         [0.68277783],\n",
       "         [0.68277783],\n",
       "         [0.95094839],\n",
       "         [0.95094839],\n",
       "         [0.54116897],\n",
       "         [0.54116897],\n",
       "         [0.65773229],\n",
       "         [0.65773229],\n",
       "         [0.76317419],\n",
       "         [0.76317419],\n",
       "         [0.98613657],\n",
       "         [0.98613657],\n",
       "         [0.91099567],\n",
       "         [0.91099567],\n",
       "         [0.43673875],\n",
       "         [0.43673875],\n",
       "         [0.28354523],\n",
       "         [0.28354523],\n",
       "         [0.9654904 ],\n",
       "         [0.9654904 ],\n",
       "         [0.77601693],\n",
       "         [0.77601693],\n",
       "         [0.61188393],\n",
       "         [0.61188393],\n",
       "         [0.65215979],\n",
       "         [0.65215979],\n",
       "         [0.45074043],\n",
       "         [0.45074043],\n",
       "         [0.52498645],\n",
       "         [0.52498645],\n",
       "         [0.0356175 ],\n",
       "         [0.0356175 ],\n",
       "         [0.01653029],\n",
       "         [0.01653029],\n",
       "         [0.24978981],\n",
       "         [0.24978981],\n",
       "         [0.63737153],\n",
       "         [0.63737153],\n",
       "         [0.71666844],\n",
       "         [0.71666844],\n",
       "         [0.32571349],\n",
       "         [0.32571349],\n",
       "         [0.19401297],\n",
       "         [0.19401297],\n",
       "         [0.41794929],\n",
       "         [0.41794929],\n",
       "         [0.45530589],\n",
       "         [0.45530589],\n",
       "         [0.68852374],\n",
       "         [0.68852374],\n",
       "         [0.48313022],\n",
       "         [0.48313022],\n",
       "         [0.97416149],\n",
       "         [0.97416149],\n",
       "         [0.92060259],\n",
       "         [0.92060259],\n",
       "         [0.85090642],\n",
       "         [0.85090642],\n",
       "         [0.43559577],\n",
       "         [0.43559577],\n",
       "         [0.26332501],\n",
       "         [0.26332501],\n",
       "         [0.53176437],\n",
       "         [0.53176437],\n",
       "         [0.93568576],\n",
       "         [0.93568576],\n",
       "         [0.981967  ],\n",
       "         [0.981967  ],\n",
       "         [0.5421947 ],\n",
       "         [0.5421947 ],\n",
       "         [0.66398117],\n",
       "         [0.66398117],\n",
       "         [0.14310123],\n",
       "         [0.14310123],\n",
       "         [0.90242706],\n",
       "         [0.90242706],\n",
       "         [0.7490282 ],\n",
       "         [0.7490282 ],\n",
       "         [0.17094608],\n",
       "         [0.17094608],\n",
       "         [0.93823144],\n",
       "         [0.93823144],\n",
       "         [0.45448849],\n",
       "         [0.45448849],\n",
       "         [0.81871674],\n",
       "         [0.81871674],\n",
       "         [0.13404199],\n",
       "         [0.13404199],\n",
       "         [0.88241345],\n",
       "         [0.88241345],\n",
       "         [0.32159592],\n",
       "         [0.32159592],\n",
       "         [0.66094065],\n",
       "         [0.66094065],\n",
       "         [0.93000211],\n",
       "         [0.93000211],\n",
       "         [0.85069131],\n",
       "         [0.85069131],\n",
       "         [0.08094181],\n",
       "         [0.08094181],\n",
       "         [0.87294289],\n",
       "         [0.87294289],\n",
       "         [0.72549883],\n",
       "         [0.72549883],\n",
       "         [0.75547021],\n",
       "         [0.75547021],\n",
       "         [0.31427165],\n",
       "         [0.31427165]])}}"
      ]
     },
     "execution_count": 1,
     "metadata": {},
     "output_type": "execute_result"
    }
   ],
   "source": [
    "ds = load_by_id(run_id_a)\n",
    "ds.get_parameter_data('x1')"
   ]
  },
  {
   "cell_type": "code",
   "execution_count": null,
   "metadata": {},
   "outputs": [],
   "source": []
  }
 ],
 "metadata": {
  "kernelspec": {
   "display_name": "Python 3",
   "language": "python",
   "name": "python3"
  },
  "language_info": {
   "codemirror_mode": {
    "name": "ipython",
    "version": 3
   },
   "file_extension": ".py",
   "mimetype": "text/x-python",
   "name": "python",
   "nbconvert_exporter": "python",
   "pygments_lexer": "ipython3",
   "version": "3.7.9"
  },
  "nbsphinx": {
   "timeout": 600
  },
  "toc": {
   "base_numbering": 1,
   "nav_menu": {},
   "number_sections": true,
   "sideBar": true,
   "skip_h1_title": false,
   "title_cell": "Table of Contents",
   "title_sidebar": "Contents",
   "toc_cell": false,
   "toc_position": {},
   "toc_section_display": true,
   "toc_window_display": false
  },
  "varInspector": {
   "cols": {
    "lenName": 16,
    "lenType": 16,
    "lenVar": 40
   },
   "kernels_config": {
    "python": {
     "delete_cmd_postfix": "",
     "delete_cmd_prefix": "del ",
     "library": "var_list.py",
     "varRefreshCmd": "print(var_dic_list())"
    },
    "r": {
     "delete_cmd_postfix": ") ",
     "delete_cmd_prefix": "rm(",
     "library": "var_list.r",
     "varRefreshCmd": "cat(var_dic_list()) "
    }
   },
   "types_to_exclude": [
    "module",
    "function",
    "builtin_function_or_method",
    "instance",
    "_Feature"
   ],
   "window_display": false
  }
 },
 "nbformat": 4,
 "nbformat_minor": 2
}
