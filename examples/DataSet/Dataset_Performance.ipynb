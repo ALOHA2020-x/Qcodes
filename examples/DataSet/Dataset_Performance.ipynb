{
 "cells": [
  {
   "cell_type": "markdown",
   "metadata": {},
   "source": [
    "# DataSet Performance\n",
    "\n",
    "This notebook shows the trade-off between inserting data into a database row-by-row and as binary blobs. Inserting the data row-by-row means that we have direct access to all the data and may perform queries directly on the values of the data. On the other hand, as we shall see, this is much slower than inserting the data directly as binary blobs."
   ]
  },
  {
   "cell_type": "markdown",
   "metadata": {},
   "source": [
    "First, we choose a new location for the database to ensure that we don't add a bunch of benchmarking data to the default one."
   ]
  },
  {
   "cell_type": "code",
   "execution_count": 1,
   "metadata": {
    "execution": {
     "iopub.execute_input": "2020-11-02T16:48:23.145729Z",
     "iopub.status.busy": "2020-11-02T16:48:23.144780Z",
     "iopub.status.idle": "2020-11-02T16:48:24.259190Z",
     "shell.execute_reply": "2020-11-02T16:48:24.258500Z"
    }
   },
   "outputs": [
    {
     "name": "stdout",
     "output_type": "stream",
     "text": [
      "Logging hadn't been started.\n",
      "Activating auto-logging. Current session state plus future input saved.\n",
      "Filename       : /home/vsts/.qcodes/logs/command_history.log\n",
      "Mode           : append\n",
      "Output logging : True\n",
      "Raw input log  : False\n",
      "Timestamping   : True\n",
      "State          : active\n"
     ]
    },
    {
     "name": "stdout",
     "output_type": "stream",
     "text": [
      "Qcodes Logfile : /home/vsts/.qcodes/logs/201102-14460-qcodes.log\n"
     ]
    }
   ],
   "source": [
    "import os\n",
    "cwd = os.getcwd()\n",
    "import qcodes as qc\n",
    "qc.config[\"core\"][\"db_location\"] = os.path.join(cwd, 'testing.db')\n"
   ]
  },
  {
   "cell_type": "code",
   "execution_count": 2,
   "metadata": {
    "execution": {
     "iopub.execute_input": "2020-11-02T16:48:24.266075Z",
     "iopub.status.busy": "2020-11-02T16:48:24.265434Z",
     "iopub.status.idle": "2020-11-02T16:48:24.467154Z",
     "shell.execute_reply": "2020-11-02T16:48:24.466237Z"
    }
   },
   "outputs": [],
   "source": [
    "%matplotlib inline\n",
    "import time\n",
    "import matplotlib.pyplot as plt\n",
    "import numpy as np\n",
    "\n",
    "import qcodes as qc\n",
    "from qcodes.instrument.parameter import ManualParameter\n",
    "from qcodes.dataset.experiment_container import (Experiment,\n",
    "                                                 load_last_experiment,\n",
    "                                                 new_experiment)\n",
    "from qcodes.dataset.sqlite.database import initialise_database\n",
    "from qcodes import load_or_create_experiment\n",
    "from qcodes.dataset.measurements import Measurement"
   ]
  },
  {
   "cell_type": "code",
   "execution_count": 3,
   "metadata": {
    "execution": {
     "iopub.execute_input": "2020-11-02T16:48:24.471964Z",
     "iopub.status.busy": "2020-11-02T16:48:24.471185Z",
     "iopub.status.idle": "2020-11-02T16:48:24.584828Z",
     "shell.execute_reply": "2020-11-02T16:48:24.584166Z"
    }
   },
   "outputs": [
    {
     "name": "stdout",
     "output_type": "stream",
     "text": [
      "\r",
      "0it [00:00, ?it/s]"
     ]
    },
    {
     "name": "stdout",
     "output_type": "stream",
     "text": [
      "\r",
      "Upgrading database; v0 -> v1: : 0it [00:00, ?it/s]"
     ]
    },
    {
     "name": "stdout",
     "output_type": "stream",
     "text": [
      "\r",
      "Upgrading database; v0 -> v1: : 0it [00:00, ?it/s]"
     ]
    },
    {
     "name": "stdout",
     "output_type": "stream",
     "text": [
      "\n",
      "\r",
      "  0%|          | 0/1 [00:00<?, ?it/s]"
     ]
    },
    {
     "name": "stdout",
     "output_type": "stream",
     "text": [
      "\r",
      "Upgrading database; v1 -> v2:   0%|          | 0/1 [00:00<?, ?it/s]"
     ]
    },
    {
     "name": "stdout",
     "output_type": "stream",
     "text": [
      "\r",
      "Upgrading database; v1 -> v2: 100%|██████████| 1/1 [00:00<00:00, 456.25it/s]"
     ]
    },
    {
     "name": "stdout",
     "output_type": "stream",
     "text": [
      "\n",
      "\r",
      "0it [00:00, ?it/s]"
     ]
    },
    {
     "name": "stdout",
     "output_type": "stream",
     "text": [
      "\r",
      "Upgrading database; v2 -> v3: : 0it [00:00, ?it/s]"
     ]
    },
    {
     "name": "stdout",
     "output_type": "stream",
     "text": [
      "\r",
      "Upgrading database; v2 -> v3: : 0it [00:00, ?it/s]"
     ]
    },
    {
     "name": "stdout",
     "output_type": "stream",
     "text": [
      "\n",
      "\r",
      "0it [00:00, ?it/s]"
     ]
    },
    {
     "name": "stdout",
     "output_type": "stream",
     "text": [
      "\r",
      "Upgrading database; v3 -> v4: : 0it [00:00, ?it/s]"
     ]
    },
    {
     "name": "stdout",
     "output_type": "stream",
     "text": [
      "\r",
      "Upgrading database; v3 -> v4: : 0it [00:00, ?it/s]"
     ]
    },
    {
     "name": "stdout",
     "output_type": "stream",
     "text": [
      "\n",
      "\r",
      "  0%|          | 0/1 [00:00<?, ?it/s]"
     ]
    },
    {
     "name": "stdout",
     "output_type": "stream",
     "text": [
      "\r",
      "Upgrading database; v4 -> v5:   0%|          | 0/1 [00:00<?, ?it/s]"
     ]
    },
    {
     "name": "stdout",
     "output_type": "stream",
     "text": [
      "\r",
      "Upgrading database; v4 -> v5: 100%|██████████| 1/1 [00:00<00:00, 353.95it/s]"
     ]
    },
    {
     "name": "stdout",
     "output_type": "stream",
     "text": [
      "\n",
      "\r",
      "0it [00:00, ?it/s]"
     ]
    },
    {
     "name": "stdout",
     "output_type": "stream",
     "text": [
      "\r",
      "Upgrading database; v5 -> v6: : 0it [00:00, ?it/s]"
     ]
    },
    {
     "name": "stdout",
     "output_type": "stream",
     "text": [
      "\r",
      "Upgrading database; v5 -> v6: : 0it [00:00, ?it/s]"
     ]
    },
    {
     "name": "stdout",
     "output_type": "stream",
     "text": [
      "\n",
      "\r",
      "  0%|          | 0/1 [00:00<?, ?it/s]"
     ]
    },
    {
     "name": "stdout",
     "output_type": "stream",
     "text": [
      "\r",
      "Upgrading database; v6 -> v7:   0%|          | 0/1 [00:00<?, ?it/s]"
     ]
    },
    {
     "name": "stdout",
     "output_type": "stream",
     "text": [
      "\r",
      "Upgrading database; v6 -> v7: 100%|██████████| 1/1 [00:00<00:00, 309.66it/s]"
     ]
    },
    {
     "name": "stdout",
     "output_type": "stream",
     "text": [
      "\n",
      "\r",
      "  0%|          | 0/1 [00:00<?, ?it/s]"
     ]
    },
    {
     "name": "stdout",
     "output_type": "stream",
     "text": [
      "\r",
      "Upgrading database; v7 -> v8:   0%|          | 0/1 [00:00<?, ?it/s]"
     ]
    },
    {
     "name": "stdout",
     "output_type": "stream",
     "text": [
      "\r",
      "Upgrading database; v7 -> v8: 100%|██████████| 1/1 [00:00<00:00, 368.50it/s]"
     ]
    },
    {
     "name": "stdout",
     "output_type": "stream",
     "text": [
      "\n",
      "\r",
      "  0%|          | 0/1 [00:00<?, ?it/s]"
     ]
    },
    {
     "name": "stdout",
     "output_type": "stream",
     "text": [
      "\r",
      "Upgrading database; v8 -> v9:   0%|          | 0/1 [00:00<?, ?it/s]"
     ]
    },
    {
     "name": "stdout",
     "output_type": "stream",
     "text": [
      "\r",
      "Upgrading database; v8 -> v9: 100%|██████████| 1/1 [00:00<00:00, 714.78it/s]"
     ]
    },
    {
     "name": "stdout",
     "output_type": "stream",
     "text": [
      "\n"
     ]
    }
   ],
   "source": [
    "initialise_database()\n",
    "exp = load_or_create_experiment(experiment_name='tutorial_exp', sample_name=\"no sample\")"
   ]
  },
  {
   "cell_type": "markdown",
   "metadata": {},
   "source": [
    "Here, we define a simple function to benchmark the time it takes to insert n points with either numeric or array data type.\n",
    "We will compare both the time used to call ``add_result`` and the time used for the full measurement."
   ]
  },
  {
   "cell_type": "code",
   "execution_count": 4,
   "metadata": {
    "execution": {
     "iopub.execute_input": "2020-11-02T16:48:24.595047Z",
     "iopub.status.busy": "2020-11-02T16:48:24.593475Z",
     "iopub.status.idle": "2020-11-02T16:48:24.595762Z",
     "shell.execute_reply": "2020-11-02T16:48:24.596285Z"
    }
   },
   "outputs": [],
   "source": [
    "def insert_data(paramtype, npoints, nreps=1):\n",
    "\n",
    "    meas = Measurement(exp=exp)\n",
    "\n",
    "    x1 = ManualParameter('x1')\n",
    "    x2 = ManualParameter('x2')\n",
    "    x3 = ManualParameter('x3')\n",
    "    y1 = ManualParameter('y1')\n",
    "    y2 = ManualParameter('y2')\n",
    "\n",
    "    meas.register_parameter(x1, paramtype=paramtype)\n",
    "    meas.register_parameter(x2, paramtype=paramtype)\n",
    "    meas.register_parameter(x3, paramtype=paramtype)\n",
    "    meas.register_parameter(y1, setpoints=[x1, x2, x3],\n",
    "                            paramtype=paramtype)\n",
    "    meas.register_parameter(y2, setpoints=[x1, x2, x3],\n",
    "                            paramtype=paramtype)\n",
    "    start = time.perf_counter()\n",
    "    with meas.run() as datasaver:\n",
    "        start_adding = time.perf_counter()\n",
    "        for i in range(nreps):\n",
    "            datasaver.add_result((x1, np.random.rand(npoints)),\n",
    "                                 (x2, np.random.rand(npoints)),\n",
    "                                 (x3, np.random.rand(npoints)),\n",
    "                                 (y1, np.random.rand(npoints)),\n",
    "                                 (y2, np.random.rand(npoints)))\n",
    "        stop_adding = time.perf_counter()\n",
    "        run_id = datasaver.run_id\n",
    "    stop = time.perf_counter()\n",
    "    tot_time = stop - start\n",
    "    add_time = stop_adding - start_adding\n",
    "    return tot_time, add_time, run_id"
   ]
  },
  {
   "cell_type": "markdown",
   "metadata": {},
   "source": [
    "## Comparison between numeric/array data and binary blob"
   ]
  },
  {
   "cell_type": "markdown",
   "metadata": {},
   "source": [
    "### Case1: Short experiment time"
   ]
  },
  {
   "cell_type": "code",
   "execution_count": 5,
   "metadata": {
    "execution": {
     "iopub.execute_input": "2020-11-02T16:48:24.602730Z",
     "iopub.status.busy": "2020-11-02T16:48:24.602119Z",
     "iopub.status.idle": "2020-11-02T16:48:25.447167Z",
     "shell.execute_reply": "2020-11-02T16:48:25.446578Z"
    }
   },
   "outputs": [
    {
     "name": "stdout",
     "output_type": "stream",
     "text": [
      "Starting experimental run with id: 1. \n",
      "Starting experimental run with id: 2. \n",
      "Starting experimental run with id: 3. \n",
      "Starting experimental run with id: 4. \n",
      "Starting experimental run with id: 5. \n"
     ]
    },
    {
     "name": "stdout",
     "output_type": "stream",
     "text": [
      "Starting experimental run with id: 6. \n"
     ]
    },
    {
     "name": "stdout",
     "output_type": "stream",
     "text": [
      "Starting experimental run with id: 7. \n"
     ]
    },
    {
     "name": "stdout",
     "output_type": "stream",
     "text": [
      "Starting experimental run with id: 8. \n",
      "Starting experimental run with id: 9. \n"
     ]
    },
    {
     "name": "stdout",
     "output_type": "stream",
     "text": [
      "Starting experimental run with id: 10. \n",
      "Starting experimental run with id: 11. \n"
     ]
    },
    {
     "name": "stdout",
     "output_type": "stream",
     "text": [
      "Starting experimental run with id: 12. \n",
      "Starting experimental run with id: 13. \n"
     ]
    },
    {
     "name": "stdout",
     "output_type": "stream",
     "text": [
      "Starting experimental run with id: 14. \n"
     ]
    }
   ],
   "source": [
    "sizes = [1,500,1000,2000,3000,4000,5000]\n",
    "t_numeric = []\n",
    "t_numeric_add = []\n",
    "t_array = []\n",
    "t_array_add = []\n",
    "for size in sizes:\n",
    "    tn, tna, run_id_n =  insert_data('numeric', size)\n",
    "    t_numeric.append(tn)\n",
    "    t_numeric_add.append(tna)\n",
    "\n",
    "    ta, taa, run_id_a =  insert_data('array', size)\n",
    "    t_array.append(ta)\n",
    "    t_array_add.append(taa)"
   ]
  },
  {
   "cell_type": "code",
   "execution_count": 6,
   "metadata": {
    "execution": {
     "iopub.execute_input": "2020-11-02T16:48:25.465980Z",
     "iopub.status.busy": "2020-11-02T16:48:25.453465Z",
     "iopub.status.idle": "2020-11-02T16:48:25.684301Z",
     "shell.execute_reply": "2020-11-02T16:48:25.683709Z"
    }
   },
   "outputs": [
    {
     "data": {
      "image/png": "[encoded data removed]",
      "text/plain": [
       "<Figure size 432x288 with 1 Axes>"
      ]
     },
     "metadata": {
      "needs_background": "light"
     },
     "output_type": "display_data"
    }
   ],
   "source": [
    "fig, ax = plt.subplots(1,1)\n",
    "ax.plot(sizes, t_numeric, 'o-', label='Inserting row-by-row')\n",
    "ax.plot(sizes, t_numeric_add, 'o-', label='Inserting row-by-row: add_result only')\n",
    "ax.plot(sizes, t_array, 'd-', label='Inserting as binary blob')\n",
    "ax.plot(sizes, t_array_add, 'd-', label='Inserting as binary blob: add_result only')\n",
    "ax.legend()\n",
    "ax.set_xlabel('Array length')\n",
    "ax.set_ylabel('Time (s)')\n",
    "fig.tight_layout()"
   ]
  },
  {
   "cell_type": "markdown",
   "metadata": {},
   "source": [
    "As shown in the latter figure, the time to setup and and close the experiment is approximately 0.4 sec. In case of small array sizes, the difference between inserting values of data as arrays and inserting them row-by-row is relatively unimportant. At larger array sizes, i.e. above 10000 points, the cost of writing data as individual datapoints starts to become important.\n"
   ]
  },
  {
   "cell_type": "markdown",
   "metadata": {},
   "source": [
    "### Case2: Long experiment time "
   ]
  },
  {
   "cell_type": "code",
   "execution_count": 7,
   "metadata": {
    "execution": {
     "iopub.execute_input": "2020-11-02T16:48:25.693065Z",
     "iopub.status.busy": "2020-11-02T16:48:25.692368Z",
     "iopub.status.idle": "2020-11-02T16:49:24.133148Z",
     "shell.execute_reply": "2020-11-02T16:49:24.133824Z"
    }
   },
   "outputs": [
    {
     "name": "stdout",
     "output_type": "stream",
     "text": [
      "Starting experimental run with id: 15. \n",
      "Starting experimental run with id: 16. \n",
      "Starting experimental run with id: 17. \n"
     ]
    },
    {
     "name": "stdout",
     "output_type": "stream",
     "text": [
      "Starting experimental run with id: 18. \n",
      "Starting experimental run with id: 19. \n"
     ]
    },
    {
     "name": "stdout",
     "output_type": "stream",
     "text": [
      "Starting experimental run with id: 20. \n"
     ]
    },
    {
     "name": "stdout",
     "output_type": "stream",
     "text": [
      "Starting experimental run with id: 21. \n"
     ]
    },
    {
     "name": "stdout",
     "output_type": "stream",
     "text": [
      "Starting experimental run with id: 22. \n"
     ]
    },
    {
     "name": "stdout",
     "output_type": "stream",
     "text": [
      "Starting experimental run with id: 23. \n"
     ]
    },
    {
     "name": "stdout",
     "output_type": "stream",
     "text": [
      "Starting experimental run with id: 24. \n"
     ]
    },
    {
     "name": "stdout",
     "output_type": "stream",
     "text": [
      "Starting experimental run with id: 25. \n"
     ]
    },
    {
     "name": "stdout",
     "output_type": "stream",
     "text": [
      "Starting experimental run with id: 26. \n"
     ]
    },
    {
     "name": "stdout",
     "output_type": "stream",
     "text": [
      "Starting experimental run with id: 27. \n"
     ]
    },
    {
     "name": "stdout",
     "output_type": "stream",
     "text": [
      "Starting experimental run with id: 28. \n"
     ]
    }
   ],
   "source": [
    "sizes = [1,500,1000,2000,3000,4000,5000]\n",
    "nreps = 100\n",
    "t_numeric = []\n",
    "t_numeric_add = []\n",
    "t_numeric_run_ids = []\n",
    "t_array = []\n",
    "t_array_add = []\n",
    "t_array_run_ids = []\n",
    "for size in sizes:\n",
    "    tn, tna, run_id_n =  insert_data('numeric', size, nreps=nreps)\n",
    "    t_numeric.append(tn)\n",
    "    t_numeric_add.append(tna)\n",
    "    t_numeric_run_ids.append(run_id_n)\n",
    "\n",
    "    ta, taa, run_id_a =  insert_data('array', size, nreps=nreps)\n",
    "    t_array.append(ta)\n",
    "    t_array_add.append(taa)\n",
    "    t_array_run_ids.append(run_id_a)"
   ]
  },
  {
   "cell_type": "code",
   "execution_count": 8,
   "metadata": {
    "execution": {
     "iopub.execute_input": "2020-11-02T16:49:24.155684Z",
     "iopub.status.busy": "2020-11-02T16:49:24.153160Z",
     "iopub.status.idle": "2020-11-02T16:49:24.377854Z",
     "shell.execute_reply": "2020-11-02T16:49:24.378351Z"
    },
    "scrolled": true
   },
   "outputs": [
    {
     "data": {
      "image/png": "[encoded data removed]",
      "text/plain": [
       "<Figure size 432x288 with 1 Axes>"
      ]
     },
     "metadata": {
      "needs_background": "light"
     },
     "output_type": "display_data"
    }
   ],
   "source": [
    "fig, ax = plt.subplots(1,1)\n",
    "ax.plot(sizes, t_numeric, 'o-', label='Inserting row-by-row')\n",
    "ax.plot(sizes, t_numeric_add, 'o-', label='Inserting row-by-row: add_result only')\n",
    "ax.plot(sizes, t_array, 'd-', label='Inserting as binary blob')\n",
    "ax.plot(sizes, t_array_add, 'd-', label='Inserting as binary blob: add_result only')\n",
    "ax.legend()\n",
    "ax.set_xlabel('Array length')\n",
    "ax.set_ylabel('Time (s)')\n",
    "fig.tight_layout()"
   ]
  },
  {
   "cell_type": "markdown",
   "metadata": {},
   "source": [
    "However, as we increase the length of the experiment, as seen here by repeating the insertion 100 times, we see a big difference between inserting values of the data row-by-row and inserting it as a binary blob."
   ]
  },
  {
   "cell_type": "markdown",
   "metadata": {},
   "source": [
    "## Loading the data "
   ]
  },
  {
   "cell_type": "code",
   "execution_count": 9,
   "metadata": {
    "execution": {
     "iopub.execute_input": "2020-11-02T16:49:24.383957Z",
     "iopub.status.busy": "2020-11-02T16:49:24.382089Z",
     "iopub.status.idle": "2020-11-02T16:49:24.385065Z",
     "shell.execute_reply": "2020-11-02T16:49:24.385577Z"
    }
   },
   "outputs": [],
   "source": [
    "from qcodes.dataset.data_set import load_by_id\n",
    "from qcodes.dataset.data_export import get_data_by_id"
   ]
  },
  {
   "cell_type": "markdown",
   "metadata": {},
   "source": [
    "As usual you can load the data by using the ``load_by_id`` function but you will notice that the different storage methods\n",
    "are reflected in shape of the data as it is retrieved. "
   ]
  },
  {
   "cell_type": "code",
   "execution_count": 10,
   "metadata": {
    "execution": {
     "iopub.execute_input": "2020-11-02T16:49:24.390570Z",
     "iopub.status.busy": "2020-11-02T16:49:24.389037Z",
     "iopub.status.idle": "2020-11-02T16:49:24.392125Z",
     "shell.execute_reply": "2020-11-02T16:49:24.392723Z"
    }
   },
   "outputs": [],
   "source": [
    "run_id_n = t_numeric_run_ids[0]\n",
    "run_id_a = t_array_run_ids[0]"
   ]
  },
  {
   "cell_type": "code",
   "execution_count": 11,
   "metadata": {
    "execution": {
     "iopub.execute_input": "2020-11-02T16:49:24.396326Z",
     "iopub.status.busy": "2020-11-02T16:49:24.395721Z",
     "iopub.status.idle": "2020-11-02T16:49:24.406465Z",
     "shell.execute_reply": "2020-11-02T16:49:24.405755Z"
    },
    "scrolled": true
   },
   "outputs": [
    {
     "data": {
      "text/plain": [
       "{'x1': {'x1': array([0.4368403 , 0.4368403 , 0.59600257, 0.59600257, 0.59646163,\n",
       "         0.59646163, 0.42756863, 0.42756863, 0.64885966, 0.64885966,\n",
       "         0.71393346, 0.71393346, 0.89817669, 0.89817669, 0.8865018 ,\n",
       "         0.8865018 , 0.75069576, 0.75069576, 0.41377764, 0.41377764,\n",
       "         0.92681184, 0.92681184, 0.79211026, 0.79211026, 0.71091325,\n",
       "         0.71091325, 0.18182766, 0.18182766, 0.51676063, 0.51676063,\n",
       "         0.19721103, 0.19721103, 0.59896114, 0.59896114, 0.26469925,\n",
       "         0.26469925, 0.00747338, 0.00747338, 0.86427322, 0.86427322,\n",
       "         0.39536486, 0.39536486, 0.31875512, 0.31875512, 0.58302204,\n",
       "         0.58302204, 0.70251682, 0.70251682, 0.76128706, 0.76128706,\n",
       "         0.74901845, 0.74901845, 0.96974274, 0.96974274, 0.16106408,\n",
       "         0.16106408, 0.34045845, 0.34045845, 0.08426214, 0.08426214,\n",
       "         0.62008083, 0.62008083, 0.28349278, 0.28349278, 0.35947866,\n",
       "         0.35947866, 0.18127235, 0.18127235, 0.48833431, 0.48833431,\n",
       "         0.70583423, 0.70583423, 0.38497027, 0.38497027, 0.80906007,\n",
       "         0.80906007, 0.94855553, 0.94855553, 0.79685206, 0.79685206,\n",
       "         0.86718788, 0.86718788, 0.59034818, 0.59034818, 0.96660774,\n",
       "         0.96660774, 0.96283389, 0.96283389, 0.60129054, 0.60129054,\n",
       "         0.96343463, 0.96343463, 0.75319132, 0.75319132, 0.13369316,\n",
       "         0.13369316, 0.42500688, 0.42500688, 0.95473022, 0.95473022,\n",
       "         0.75030284, 0.75030284, 0.49118064, 0.49118064, 0.068061  ,\n",
       "         0.068061  , 0.89236698, 0.89236698, 0.50680209, 0.50680209,\n",
       "         0.61761467, 0.61761467, 0.95140905, 0.95140905, 0.41323163,\n",
       "         0.41323163, 0.09094318, 0.09094318, 0.69684128, 0.69684128,\n",
       "         0.97574265, 0.97574265, 0.68123283, 0.68123283, 0.17581113,\n",
       "         0.17581113, 0.29782099, 0.29782099, 0.71107371, 0.71107371,\n",
       "         0.3957366 , 0.3957366 , 0.174591  , 0.174591  , 0.67047837,\n",
       "         0.67047837, 0.86863328, 0.86863328, 0.56048366, 0.56048366,\n",
       "         0.70691051, 0.70691051, 0.76572958, 0.76572958, 0.37991014,\n",
       "         0.37991014, 0.25864465, 0.25864465, 0.35506541, 0.35506541,\n",
       "         0.05637558, 0.05637558, 0.69121088, 0.69121088, 0.86820495,\n",
       "         0.86820495, 0.8506287 , 0.8506287 , 0.21678264, 0.21678264,\n",
       "         0.77119534, 0.77119534, 0.93419866, 0.93419866, 0.89919961,\n",
       "         0.89919961, 0.75490556, 0.75490556, 0.77951262, 0.77951262,\n",
       "         0.48147738, 0.48147738, 0.40880137, 0.40880137, 0.93118702,\n",
       "         0.93118702, 0.25618175, 0.25618175, 0.22554975, 0.22554975,\n",
       "         0.19281278, 0.19281278, 0.25104845, 0.25104845, 0.75365136,\n",
       "         0.75365136, 0.93149945, 0.93149945, 0.65173699, 0.65173699,\n",
       "         0.09564499, 0.09564499, 0.6007506 , 0.6007506 , 0.61692963,\n",
       "         0.61692963, 0.96046607, 0.96046607, 0.93925057, 0.93925057])}}"
      ]
     },
     "execution_count": 1,
     "metadata": {},
     "output_type": "execute_result"
    }
   ],
   "source": [
    "ds = load_by_id(run_id_n)\n",
    "ds.get_parameter_data('x1')"
   ]
  },
  {
   "cell_type": "markdown",
   "metadata": {},
   "source": [
    "And a dataset stored as binary arrays"
   ]
  },
  {
   "cell_type": "code",
   "execution_count": 12,
   "metadata": {
    "execution": {
     "iopub.execute_input": "2020-11-02T16:49:24.410181Z",
     "iopub.status.busy": "2020-11-02T16:49:24.409639Z",
     "iopub.status.idle": "2020-11-02T16:49:24.480900Z",
     "shell.execute_reply": "2020-11-02T16:49:24.480425Z"
    },
    "scrolled": true
   },
   "outputs": [
    {
     "data": {
      "text/plain": [
       "{'x1': {'x1': array([[0.03495324],\n",
       "         [0.03495324],\n",
       "         [0.64437287],\n",
       "         [0.64437287],\n",
       "         [0.67388914],\n",
       "         [0.67388914],\n",
       "         [0.29156447],\n",
       "         [0.29156447],\n",
       "         [0.32575591],\n",
       "         [0.32575591],\n",
       "         [0.87388478],\n",
       "         [0.87388478],\n",
       "         [0.65559685],\n",
       "         [0.65559685],\n",
       "         [0.8022167 ],\n",
       "         [0.8022167 ],\n",
       "         [0.21518133],\n",
       "         [0.21518133],\n",
       "         [0.39142476],\n",
       "         [0.39142476],\n",
       "         [0.11034351],\n",
       "         [0.11034351],\n",
       "         [0.01369008],\n",
       "         [0.01369008],\n",
       "         [0.97591521],\n",
       "         [0.97591521],\n",
       "         [0.76407558],\n",
       "         [0.76407558],\n",
       "         [0.39394591],\n",
       "         [0.39394591],\n",
       "         [0.49274889],\n",
       "         [0.49274889],\n",
       "         [0.20870175],\n",
       "         [0.20870175],\n",
       "         [0.71971808],\n",
       "         [0.71971808],\n",
       "         [0.22077791],\n",
       "         [0.22077791],\n",
       "         [0.19483024],\n",
       "         [0.19483024],\n",
       "         [0.26437984],\n",
       "         [0.26437984],\n",
       "         [0.32556666],\n",
       "         [0.32556666],\n",
       "         [0.55044401],\n",
       "         [0.55044401],\n",
       "         [0.25344883],\n",
       "         [0.25344883],\n",
       "         [0.44224829],\n",
       "         [0.44224829],\n",
       "         [0.14284927],\n",
       "         [0.14284927],\n",
       "         [0.59367545],\n",
       "         [0.59367545],\n",
       "         [0.78743123],\n",
       "         [0.78743123],\n",
       "         [0.42199647],\n",
       "         [0.42199647],\n",
       "         [0.29537595],\n",
       "         [0.29537595],\n",
       "         [0.57014769],\n",
       "         [0.57014769],\n",
       "         [0.1652736 ],\n",
       "         [0.1652736 ],\n",
       "         [0.94361501],\n",
       "         [0.94361501],\n",
       "         [0.46903095],\n",
       "         [0.46903095],\n",
       "         [0.67872833],\n",
       "         [0.67872833],\n",
       "         [0.11301817],\n",
       "         [0.11301817],\n",
       "         [0.47111673],\n",
       "         [0.47111673],\n",
       "         [0.36167697],\n",
       "         [0.36167697],\n",
       "         [0.45681362],\n",
       "         [0.45681362],\n",
       "         [0.26650077],\n",
       "         [0.26650077],\n",
       "         [0.7474873 ],\n",
       "         [0.7474873 ],\n",
       "         [0.26838826],\n",
       "         [0.26838826],\n",
       "         [0.42016591],\n",
       "         [0.42016591],\n",
       "         [0.69787832],\n",
       "         [0.69787832],\n",
       "         [0.44135728],\n",
       "         [0.44135728],\n",
       "         [0.79147313],\n",
       "         [0.79147313],\n",
       "         [0.12387062],\n",
       "         [0.12387062],\n",
       "         [0.34196684],\n",
       "         [0.34196684],\n",
       "         [0.82664838],\n",
       "         [0.82664838],\n",
       "         [0.03076333],\n",
       "         [0.03076333],\n",
       "         [0.43242806],\n",
       "         [0.43242806],\n",
       "         [0.13055659],\n",
       "         [0.13055659],\n",
       "         [0.09873984],\n",
       "         [0.09873984],\n",
       "         [0.35777403],\n",
       "         [0.35777403],\n",
       "         [0.03872226],\n",
       "         [0.03872226],\n",
       "         [0.15815115],\n",
       "         [0.15815115],\n",
       "         [0.57246324],\n",
       "         [0.57246324],\n",
       "         [0.46531591],\n",
       "         [0.46531591],\n",
       "         [0.19447432],\n",
       "         [0.19447432],\n",
       "         [0.34003432],\n",
       "         [0.34003432],\n",
       "         [0.20280872],\n",
       "         [0.20280872],\n",
       "         [0.39451406],\n",
       "         [0.39451406],\n",
       "         [0.19535595],\n",
       "         [0.19535595],\n",
       "         [0.96711794],\n",
       "         [0.96711794],\n",
       "         [0.83107962],\n",
       "         [0.83107962],\n",
       "         [0.04874078],\n",
       "         [0.04874078],\n",
       "         [0.57933997],\n",
       "         [0.57933997],\n",
       "         [0.44839785],\n",
       "         [0.44839785],\n",
       "         [0.84981311],\n",
       "         [0.84981311],\n",
       "         [0.91017301],\n",
       "         [0.91017301],\n",
       "         [0.83514434],\n",
       "         [0.83514434],\n",
       "         [0.55603918],\n",
       "         [0.55603918],\n",
       "         [0.77585394],\n",
       "         [0.77585394],\n",
       "         [0.50045974],\n",
       "         [0.50045974],\n",
       "         [0.40886152],\n",
       "         [0.40886152],\n",
       "         [0.25356331],\n",
       "         [0.25356331],\n",
       "         [0.24757796],\n",
       "         [0.24757796],\n",
       "         [0.43584771],\n",
       "         [0.43584771],\n",
       "         [0.94780192],\n",
       "         [0.94780192],\n",
       "         [0.66211001],\n",
       "         [0.66211001],\n",
       "         [0.39282347],\n",
       "         [0.39282347],\n",
       "         [0.76852008],\n",
       "         [0.76852008],\n",
       "         [0.78073901],\n",
       "         [0.78073901],\n",
       "         [0.29653888],\n",
       "         [0.29653888],\n",
       "         [0.16862275],\n",
       "         [0.16862275],\n",
       "         [0.72314332],\n",
       "         [0.72314332],\n",
       "         [0.91156224],\n",
       "         [0.91156224],\n",
       "         [0.67216143],\n",
       "         [0.67216143],\n",
       "         [0.34295642],\n",
       "         [0.34295642],\n",
       "         [0.48932177],\n",
       "         [0.48932177],\n",
       "         [0.94565597],\n",
       "         [0.94565597],\n",
       "         [0.82052723],\n",
       "         [0.82052723],\n",
       "         [0.74832002],\n",
       "         [0.74832002],\n",
       "         [0.01494809],\n",
       "         [0.01494809],\n",
       "         [0.28464282],\n",
       "         [0.28464282],\n",
       "         [0.80089137],\n",
       "         [0.80089137],\n",
       "         [0.53126735],\n",
       "         [0.53126735],\n",
       "         [0.67204147],\n",
       "         [0.67204147],\n",
       "         [0.30320114],\n",
       "         [0.30320114],\n",
       "         [0.31887477],\n",
       "         [0.31887477]])}}"
      ]
     },
     "execution_count": 1,
     "metadata": {},
     "output_type": "execute_result"
    }
   ],
   "source": [
    "ds = load_by_id(run_id_a)\n",
    "ds.get_parameter_data('x1')"
   ]
  },
  {
   "cell_type": "code",
   "execution_count": null,
   "metadata": {},
   "outputs": [],
   "source": []
  }
 ],
 "metadata": {
  "kernelspec": {
   "display_name": "Python 3",
   "language": "python",
   "name": "python3"
  },
  "language_info": {
   "codemirror_mode": {
    "name": "ipython",
    "version": 3
   },
   "file_extension": ".py",
   "mimetype": "text/x-python",
   "name": "python",
   "nbconvert_exporter": "python",
   "pygments_lexer": "ipython3",
   "version": "3.7.9"
  },
  "nbsphinx": {
   "timeout": 600
  },
  "toc": {
   "base_numbering": 1,
   "nav_menu": {},
   "number_sections": true,
   "sideBar": true,
   "skip_h1_title": false,
   "title_cell": "Table of Contents",
   "title_sidebar": "Contents",
   "toc_cell": false,
   "toc_position": {},
   "toc_section_display": true,
   "toc_window_display": false
  },
  "varInspector": {
   "cols": {
    "lenName": 16,
    "lenType": 16,
    "lenVar": 40
   },
   "kernels_config": {
    "python": {
     "delete_cmd_postfix": "",
     "delete_cmd_prefix": "del ",
     "library": "var_list.py",
     "varRefreshCmd": "print(var_dic_list())"
    },
    "r": {
     "delete_cmd_postfix": ") ",
     "delete_cmd_prefix": "rm(",
     "library": "var_list.r",
     "varRefreshCmd": "cat(var_dic_list()) "
    }
   },
   "types_to_exclude": [
    "module",
    "function",
    "builtin_function_or_method",
    "instance",
    "_Feature"
   ],
   "window_display": false
  }
 },
 "nbformat": 4,
 "nbformat_minor": 2
}
