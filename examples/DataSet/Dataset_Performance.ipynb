{
 "cells": [
  {
   "cell_type": "markdown",
   "metadata": {},
   "source": [
    "# DataSet Performance\n",
    "\n",
    "This notebook shows the trade-off between inserting data into a database row-by-row and as binary blobs. Inserting the data row-by-row means that we have direct access to all the data and may perform queries directly on the values of the data. On the other hand, as we shall see, this is much slower than inserting the data directly as binary blobs."
   ]
  },
  {
   "cell_type": "markdown",
   "metadata": {},
   "source": [
    "First, we choose a new location for the database to ensure that we don't add a bunch of benchmarking data to the default one."
   ]
  },
  {
   "cell_type": "code",
   "execution_count": 1,
   "metadata": {},
   "outputs": [
    {
     "name": "stdout",
     "output_type": "stream",
     "text": [
      "Logging hadn't been started.\n",
      "Activating auto-logging. Current session state plus future input saved.\n",
      "Filename       : /home/vsts/.qcodes/logs/command_history.log\n",
      "Mode           : append\n",
      "Output logging : True\n",
      "Raw input log  : False\n",
      "Timestamping   : True\n",
      "State          : active\n"
     ]
    },
    {
     "name": "stdout",
     "output_type": "stream",
     "text": [
      "Qcodes Logfile : /home/vsts/.qcodes/logs/200212-18676-qcodes.log\n"
     ]
    }
   ],
   "source": [
    "import os\n",
    "cwd = os.getcwd()\n",
    "import qcodes as qc\n",
    "qc.config[\"core\"][\"db_location\"] = os.path.join(cwd, 'testing.db')\n"
   ]
  },
  {
   "cell_type": "code",
   "execution_count": 2,
   "metadata": {},
   "outputs": [],
   "source": [
    "%matplotlib inline\n",
    "import time\n",
    "import matplotlib.pyplot as plt\n",
    "import numpy as np\n",
    "\n",
    "import qcodes as qc\n",
    "from qcodes.instrument.parameter import ManualParameter\n",
    "from qcodes.dataset.experiment_container import (Experiment,\n",
    "                                                 load_last_experiment,\n",
    "                                                 new_experiment)\n",
    "from qcodes.dataset.sqlite.database import initialise_database\n",
    "from qcodes import load_or_create_experiment\n",
    "from qcodes.dataset.measurements import Measurement"
   ]
  },
  {
   "cell_type": "code",
   "execution_count": 3,
   "metadata": {},
   "outputs": [
    {
     "name": "stdout",
     "output_type": "stream",
     "text": [
      "\r",
      "0it [00:00, ?it/s]"
     ]
    },
    {
     "name": "stdout",
     "output_type": "stream",
     "text": [
      "\r",
      "Upgrading database; v0 -> v1: : 0it [00:00, ?it/s]"
     ]
    },
    {
     "name": "stdout",
     "output_type": "stream",
     "text": [
      "\r",
      "Upgrading database; v0 -> v1: : 0it [00:00, ?it/s]"
     ]
    },
    {
     "name": "stdout",
     "output_type": "stream",
     "text": [
      "\n",
      "\r",
      "  0%|          | 0/1 [00:00<?, ?it/s]"
     ]
    },
    {
     "name": "stdout",
     "output_type": "stream",
     "text": [
      "\r",
      "Upgrading database; v1 -> v2:   0%|          | 0/1 [00:00<?, ?it/s]"
     ]
    },
    {
     "name": "stdout",
     "output_type": "stream",
     "text": [
      "\r",
      "Upgrading database; v1 -> v2: 100%|██████████| 1/1 [00:00<00:00, 1085.48it/s]"
     ]
    },
    {
     "name": "stdout",
     "output_type": "stream",
     "text": [
      "\n",
      "\r",
      "0it [00:00, ?it/s]"
     ]
    },
    {
     "name": "stdout",
     "output_type": "stream",
     "text": [
      "\r",
      "Upgrading database; v2 -> v3: : 0it [00:00, ?it/s]"
     ]
    },
    {
     "name": "stdout",
     "output_type": "stream",
     "text": [
      "\r",
      "Upgrading database; v2 -> v3: : 0it [00:00, ?it/s]"
     ]
    },
    {
     "name": "stdout",
     "output_type": "stream",
     "text": [
      "\n",
      "\r",
      "0it [00:00, ?it/s]"
     ]
    },
    {
     "name": "stdout",
     "output_type": "stream",
     "text": [
      "\r",
      "Upgrading database; v3 -> v4: : 0it [00:00, ?it/s]"
     ]
    },
    {
     "name": "stdout",
     "output_type": "stream",
     "text": [
      "\r",
      "Upgrading database; v3 -> v4: : 0it [00:00, ?it/s]"
     ]
    },
    {
     "name": "stdout",
     "output_type": "stream",
     "text": [
      "\n",
      "\r",
      "  0%|          | 0/1 [00:00<?, ?it/s]"
     ]
    },
    {
     "name": "stdout",
     "output_type": "stream",
     "text": [
      "\r",
      "Upgrading database; v4 -> v5:   0%|          | 0/1 [00:00<?, ?it/s]"
     ]
    },
    {
     "name": "stdout",
     "output_type": "stream",
     "text": [
      "\r",
      "Upgrading database; v4 -> v5: 100%|██████████| 1/1 [00:00<00:00, 798.31it/s]"
     ]
    },
    {
     "name": "stdout",
     "output_type": "stream",
     "text": [
      "\n",
      "\r",
      "0it [00:00, ?it/s]"
     ]
    },
    {
     "name": "stdout",
     "output_type": "stream",
     "text": [
      "\r",
      "Upgrading database; v5 -> v6: : 0it [00:00, ?it/s]"
     ]
    },
    {
     "name": "stdout",
     "output_type": "stream",
     "text": [
      "\r",
      "Upgrading database; v5 -> v6: : 0it [00:00, ?it/s]"
     ]
    },
    {
     "name": "stdout",
     "output_type": "stream",
     "text": [
      "\n",
      "\r",
      "  0%|          | 0/1 [00:00<?, ?it/s]"
     ]
    },
    {
     "name": "stdout",
     "output_type": "stream",
     "text": [
      "\r",
      "Upgrading database; v6 -> v7:   0%|          | 0/1 [00:00<?, ?it/s]"
     ]
    },
    {
     "name": "stdout",
     "output_type": "stream",
     "text": [
      "\r",
      "Upgrading database; v6 -> v7: 100%|██████████| 1/1 [00:00<00:00, 436.77it/s]"
     ]
    },
    {
     "name": "stdout",
     "output_type": "stream",
     "text": [
      "\n",
      "\r",
      "  0%|          | 0/1 [00:00<?, ?it/s]"
     ]
    },
    {
     "name": "stdout",
     "output_type": "stream",
     "text": [
      "\r",
      "Upgrading database; v7 -> v8:   0%|          | 0/1 [00:00<?, ?it/s]"
     ]
    },
    {
     "name": "stdout",
     "output_type": "stream",
     "text": [
      "\r",
      "Upgrading database; v7 -> v8: 100%|██████████| 1/1 [00:00<00:00, 717.83it/s]"
     ]
    },
    {
     "name": "stdout",
     "output_type": "stream",
     "text": [
      "\n"
     ]
    }
   ],
   "source": [
    "initialise_database()\n",
    "exp = load_or_create_experiment(experiment_name='tutorial_exp', sample_name=\"no sample\")"
   ]
  },
  {
   "cell_type": "markdown",
   "metadata": {},
   "source": [
    "Here, we define a simple function to benchmark the time it takes to insert n points with either numeric or array data type.\n",
    "We will compare both the time used to call ``add_result`` and the time used for the full measurement."
   ]
  },
  {
   "cell_type": "code",
   "execution_count": 4,
   "metadata": {},
   "outputs": [],
   "source": [
    "def insert_data(paramtype, npoints, nreps=1):\n",
    "\n",
    "    meas = Measurement(exp=exp)\n",
    "\n",
    "    x1 = ManualParameter('x1')\n",
    "    x2 = ManualParameter('x2')\n",
    "    x3 = ManualParameter('x3')\n",
    "    y1 = ManualParameter('y1')\n",
    "    y2 = ManualParameter('y2')\n",
    "\n",
    "    meas.register_parameter(x1, paramtype=paramtype)\n",
    "    meas.register_parameter(x2, paramtype=paramtype)\n",
    "    meas.register_parameter(x3, paramtype=paramtype)\n",
    "    meas.register_parameter(y1, setpoints=[x1, x2, x3],\n",
    "                            paramtype=paramtype)\n",
    "    meas.register_parameter(y2, setpoints=[x1, x2, x3],\n",
    "                            paramtype=paramtype)\n",
    "    start = time.perf_counter()\n",
    "    with meas.run() as datasaver:\n",
    "        start_adding = time.perf_counter()\n",
    "        for i in range(nreps):\n",
    "            datasaver.add_result((x1, np.random.rand(npoints)),\n",
    "                                 (x2, np.random.rand(npoints)),\n",
    "                                 (x3, np.random.rand(npoints)),\n",
    "                                 (y1, np.random.rand(npoints)),\n",
    "                                 (y2, np.random.rand(npoints)))\n",
    "        stop_adding = time.perf_counter()\n",
    "        run_id = datasaver.run_id\n",
    "    stop = time.perf_counter()\n",
    "    tot_time = stop - start\n",
    "    add_time = stop_adding - start_adding\n",
    "    return tot_time, add_time, run_id"
   ]
  },
  {
   "cell_type": "markdown",
   "metadata": {},
   "source": [
    "## Comparison between numeric/array data and binary blob"
   ]
  },
  {
   "cell_type": "markdown",
   "metadata": {},
   "source": [
    "### Case1: Short experiment time"
   ]
  },
  {
   "cell_type": "code",
   "execution_count": 5,
   "metadata": {},
   "outputs": [
    {
     "name": "stdout",
     "output_type": "stream",
     "text": [
      "Starting experimental run with id: 1. \n",
      "Starting experimental run with id: 2. \n",
      "Starting experimental run with id: 3. \n",
      "Starting experimental run with id: 4. \n",
      "Starting experimental run with id: 5. \n"
     ]
    },
    {
     "name": "stdout",
     "output_type": "stream",
     "text": [
      "Starting experimental run with id: 6. \n",
      "Starting experimental run with id: 7. \n"
     ]
    },
    {
     "name": "stdout",
     "output_type": "stream",
     "text": [
      "Starting experimental run with id: 8. \n",
      "Starting experimental run with id: 9. \n"
     ]
    },
    {
     "name": "stdout",
     "output_type": "stream",
     "text": [
      "Starting experimental run with id: 10. \n",
      "Starting experimental run with id: 11. \n"
     ]
    },
    {
     "name": "stdout",
     "output_type": "stream",
     "text": [
      "Starting experimental run with id: 12. \n"
     ]
    },
    {
     "name": "stdout",
     "output_type": "stream",
     "text": [
      "Starting experimental run with id: 13. \n"
     ]
    },
    {
     "name": "stdout",
     "output_type": "stream",
     "text": [
      "Starting experimental run with id: 14. \n"
     ]
    }
   ],
   "source": [
    "sizes = [1,500,1000,2000,3000,4000,5000]\n",
    "t_numeric = []\n",
    "t_numeric_add = []\n",
    "t_array = []\n",
    "t_array_add = []\n",
    "for size in sizes:\n",
    "    tn, tna, run_id_n =  insert_data('numeric', size)\n",
    "    t_numeric.append(tn)\n",
    "    t_numeric_add.append(tna)\n",
    "\n",
    "    ta, taa, run_id_a =  insert_data('array', size)\n",
    "    t_array.append(ta)\n",
    "    t_array_add.append(taa)"
   ]
  },
  {
   "cell_type": "code",
   "execution_count": 6,
   "metadata": {},
   "outputs": [
    {
     "data": {
      "image/png": "[encoded data removed]",
      "text/plain": [
       "<Figure size 432x288 with 1 Axes>"
      ]
     },
     "metadata": {
      "needs_background": "light"
     },
     "output_type": "display_data"
    }
   ],
   "source": [
    "fig, ax = plt.subplots(1,1)\n",
    "ax.plot(sizes, t_numeric, 'o-', label='Inserting row-by-row')\n",
    "ax.plot(sizes, t_numeric_add, 'o-', label='Inserting row-by-row: add_result only')\n",
    "ax.plot(sizes, t_array, 'd-', label='Inserting as binary blob')\n",
    "ax.plot(sizes, t_array_add, 'd-', label='Inserting as binary blob: add_result only')\n",
    "ax.legend()\n",
    "ax.set_xlabel('Array length')\n",
    "ax.set_ylabel('Time (s)')\n",
    "fig.tight_layout()"
   ]
  },
  {
   "cell_type": "markdown",
   "metadata": {},
   "source": [
    "As shown in the latter figure, the time to setup and and close the experiment is approximately 0.4 sec. In case of small array sizes, the difference between inserting values of data as arrays and inserting them row-by-row is relatively unimportant. At larger array sizes, i.e. above 10000 points, the cost of writing data as individual datapoints starts to become important.\n"
   ]
  },
  {
   "cell_type": "markdown",
   "metadata": {},
   "source": [
    "### Case2: Long experiment time "
   ]
  },
  {
   "cell_type": "code",
   "execution_count": 7,
   "metadata": {},
   "outputs": [
    {
     "name": "stdout",
     "output_type": "stream",
     "text": [
      "Starting experimental run with id: 15. \n",
      "Starting experimental run with id: 16. \n",
      "Starting experimental run with id: 17. \n"
     ]
    },
    {
     "name": "stdout",
     "output_type": "stream",
     "text": [
      "Starting experimental run with id: 18. \n",
      "Starting experimental run with id: 19. \n"
     ]
    },
    {
     "name": "stdout",
     "output_type": "stream",
     "text": [
      "Starting experimental run with id: 20. \n"
     ]
    },
    {
     "name": "stdout",
     "output_type": "stream",
     "text": [
      "Starting experimental run with id: 21. \n"
     ]
    },
    {
     "name": "stdout",
     "output_type": "stream",
     "text": [
      "Starting experimental run with id: 22. \n"
     ]
    },
    {
     "name": "stdout",
     "output_type": "stream",
     "text": [
      "Starting experimental run with id: 23. \n"
     ]
    },
    {
     "name": "stdout",
     "output_type": "stream",
     "text": [
      "Starting experimental run with id: 24. \n"
     ]
    },
    {
     "name": "stdout",
     "output_type": "stream",
     "text": [
      "Starting experimental run with id: 25. \n"
     ]
    },
    {
     "name": "stdout",
     "output_type": "stream",
     "text": [
      "Starting experimental run with id: 26. \n"
     ]
    },
    {
     "name": "stdout",
     "output_type": "stream",
     "text": [
      "Starting experimental run with id: 27. \n"
     ]
    },
    {
     "name": "stdout",
     "output_type": "stream",
     "text": [
      "Starting experimental run with id: 28. \n"
     ]
    }
   ],
   "source": [
    "sizes = [1,500,1000,2000,3000,4000,5000]\n",
    "nreps = 100\n",
    "t_numeric = []\n",
    "t_numeric_add = []\n",
    "t_numeric_run_ids = []\n",
    "t_array = []\n",
    "t_array_add = []\n",
    "t_array_run_ids = []\n",
    "for size in sizes:\n",
    "    tn, tna, run_id_n =  insert_data('numeric', size, nreps=nreps)\n",
    "    t_numeric.append(tn)\n",
    "    t_numeric_add.append(tna)\n",
    "    t_numeric_run_ids.append(run_id_n)\n",
    "\n",
    "    ta, taa, run_id_a =  insert_data('array', size, nreps=nreps)\n",
    "    t_array.append(ta)\n",
    "    t_array_add.append(taa)\n",
    "    t_array_run_ids.append(run_id_a)"
   ]
  },
  {
   "cell_type": "code",
   "execution_count": 8,
   "metadata": {
    "scrolled": true
   },
   "outputs": [
    {
     "data": {
      "image/png": "[encoded data removed]",
      "text/plain": [
       "<Figure size 432x288 with 1 Axes>"
      ]
     },
     "metadata": {
      "needs_background": "light"
     },
     "output_type": "display_data"
    }
   ],
   "source": [
    "fig, ax = plt.subplots(1,1)\n",
    "ax.plot(sizes, t_numeric, 'o-', label='Inserting row-by-row')\n",
    "ax.plot(sizes, t_numeric_add, 'o-', label='Inserting row-by-row: add_result only')\n",
    "ax.plot(sizes, t_array, 'd-', label='Inserting as binary blob')\n",
    "ax.plot(sizes, t_array_add, 'd-', label='Inserting as binary blob: add_result only')\n",
    "ax.legend()\n",
    "ax.set_xlabel('Array length')\n",
    "ax.set_ylabel('Time (s)')\n",
    "fig.tight_layout()"
   ]
  },
  {
   "cell_type": "markdown",
   "metadata": {},
   "source": [
    "However, as we increase the length of the experiment, as seen here by repeating the insertion 100 times, we see a big difference between inserting values of the data row-by-row and inserting it as a binary blob."
   ]
  },
  {
   "cell_type": "markdown",
   "metadata": {},
   "source": [
    "## Loading the data "
   ]
  },
  {
   "cell_type": "code",
   "execution_count": 9,
   "metadata": {},
   "outputs": [],
   "source": [
    "from qcodes.dataset.data_set import load_by_id\n",
    "from qcodes.dataset.data_export import get_data_by_id"
   ]
  },
  {
   "cell_type": "markdown",
   "metadata": {},
   "source": [
    "As usual you can load the data by using the ``load_by_id`` function but you will notice that the different storage methods\n",
    "are reflected in shape of the data as it is retrieved. "
   ]
  },
  {
   "cell_type": "code",
   "execution_count": 10,
   "metadata": {},
   "outputs": [],
   "source": [
    "run_id_n = t_numeric_run_ids[0]\n",
    "run_id_a = t_array_run_ids[0]"
   ]
  },
  {
   "cell_type": "code",
   "execution_count": 11,
   "metadata": {
    "scrolled": true
   },
   "outputs": [
    {
     "data": {
      "text/plain": [
       "{'x1': {'x1': array([0.53367259, 0.53367259, 0.64363258, 0.64363258, 0.04809062,\n",
       "         0.04809062, 0.55583759, 0.55583759, 0.30653764, 0.30653764,\n",
       "         0.91093996, 0.91093996, 0.00283096, 0.00283096, 0.73913235,\n",
       "         0.73913235, 0.5511614 , 0.5511614 , 0.31973968, 0.31973968,\n",
       "         0.68280845, 0.68280845, 0.18653996, 0.18653996, 0.46534185,\n",
       "         0.46534185, 0.46637407, 0.46637407, 0.75257155, 0.75257155,\n",
       "         0.36294931, 0.36294931, 0.79863468, 0.79863468, 0.00974886,\n",
       "         0.00974886, 0.32077568, 0.32077568, 0.39426498, 0.39426498,\n",
       "         0.37880625, 0.37880625, 0.29378471, 0.29378471, 0.44551564,\n",
       "         0.44551564, 0.57219207, 0.57219207, 0.80263257, 0.80263257,\n",
       "         0.76877641, 0.76877641, 0.06322901, 0.06322901, 0.35663291,\n",
       "         0.35663291, 0.06428643, 0.06428643, 0.13377065, 0.13377065,\n",
       "         0.57680023, 0.57680023, 0.77050207, 0.77050207, 0.10661991,\n",
       "         0.10661991, 0.24475491, 0.24475491, 0.08196579, 0.08196579,\n",
       "         0.32158013, 0.32158013, 0.26825986, 0.26825986, 0.74903025,\n",
       "         0.74903025, 0.60738555, 0.60738555, 0.18969428, 0.18969428,\n",
       "         0.51209001, 0.51209001, 0.48184727, 0.48184727, 0.9259057 ,\n",
       "         0.9259057 , 0.65614185, 0.65614185, 0.8913456 , 0.8913456 ,\n",
       "         0.87349052, 0.87349052, 0.36191287, 0.36191287, 0.46387189,\n",
       "         0.46387189, 0.4510097 , 0.4510097 , 0.85537308, 0.85537308,\n",
       "         0.35377655, 0.35377655, 0.06415349, 0.06415349, 0.8341817 ,\n",
       "         0.8341817 , 0.61592728, 0.61592728, 0.56639598, 0.56639598,\n",
       "         0.91563027, 0.91563027, 0.33977905, 0.33977905, 0.99725245,\n",
       "         0.99725245, 0.65368783, 0.65368783, 0.24996343, 0.24996343,\n",
       "         0.60813919, 0.60813919, 0.86789765, 0.86789765, 0.7686303 ,\n",
       "         0.7686303 , 0.70502712, 0.70502712, 0.83960598, 0.83960598,\n",
       "         0.09648585, 0.09648585, 0.1248985 , 0.1248985 , 0.11101848,\n",
       "         0.11101848, 0.40667685, 0.40667685, 0.84756331, 0.84756331,\n",
       "         0.45269376, 0.45269376, 0.80848951, 0.80848951, 0.85551268,\n",
       "         0.85551268, 0.36370962, 0.36370962, 0.23307443, 0.23307443,\n",
       "         0.52032541, 0.52032541, 0.81537207, 0.81537207, 0.88615974,\n",
       "         0.88615974, 0.05512247, 0.05512247, 0.65932616, 0.65932616,\n",
       "         0.45233967, 0.45233967, 0.71709087, 0.71709087, 0.60134085,\n",
       "         0.60134085, 0.84467918, 0.84467918, 0.77792649, 0.77792649,\n",
       "         0.85887035, 0.85887035, 0.30146128, 0.30146128, 0.69597707,\n",
       "         0.69597707, 0.14328215, 0.14328215, 0.96620616, 0.96620616,\n",
       "         0.15499836, 0.15499836, 0.79162942, 0.79162942, 0.05186157,\n",
       "         0.05186157, 0.98553261, 0.98553261, 0.43649734, 0.43649734,\n",
       "         0.28849721, 0.28849721, 0.85667059, 0.85667059, 0.4990552 ,\n",
       "         0.4990552 , 0.98026289, 0.98026289, 0.63641247, 0.63641247])}}"
      ]
     },
     "execution_count": 11,
     "metadata": {},
     "output_type": "execute_result"
    }
   ],
   "source": [
    "ds = load_by_id(run_id_n)\n",
    "ds.get_parameter_data('x1')"
   ]
  },
  {
   "cell_type": "markdown",
   "metadata": {},
   "source": [
    "And a dataset stored as binary arrays"
   ]
  },
  {
   "cell_type": "code",
   "execution_count": 12,
   "metadata": {
    "scrolled": true
   },
   "outputs": [
    {
     "data": {
      "text/plain": [
       "{'x1': {'x1': array([[0.03413141],\n",
       "         [0.03413141],\n",
       "         [0.89564957],\n",
       "         [0.89564957],\n",
       "         [0.13541546],\n",
       "         [0.13541546],\n",
       "         [0.42210548],\n",
       "         [0.42210548],\n",
       "         [0.88641894],\n",
       "         [0.88641894],\n",
       "         [0.42034196],\n",
       "         [0.42034196],\n",
       "         [0.47289846],\n",
       "         [0.47289846],\n",
       "         [0.41239044],\n",
       "         [0.41239044],\n",
       "         [0.59491126],\n",
       "         [0.59491126],\n",
       "         [0.03689256],\n",
       "         [0.03689256],\n",
       "         [0.31651414],\n",
       "         [0.31651414],\n",
       "         [0.26274969],\n",
       "         [0.26274969],\n",
       "         [0.40136076],\n",
       "         [0.40136076],\n",
       "         [0.42825757],\n",
       "         [0.42825757],\n",
       "         [0.37817506],\n",
       "         [0.37817506],\n",
       "         [0.57328146],\n",
       "         [0.57328146],\n",
       "         [0.61521793],\n",
       "         [0.61521793],\n",
       "         [0.67585053],\n",
       "         [0.67585053],\n",
       "         [0.40461348],\n",
       "         [0.40461348],\n",
       "         [0.92664753],\n",
       "         [0.92664753],\n",
       "         [0.1099982 ],\n",
       "         [0.1099982 ],\n",
       "         [0.83042985],\n",
       "         [0.83042985],\n",
       "         [0.79230015],\n",
       "         [0.79230015],\n",
       "         [0.81430708],\n",
       "         [0.81430708],\n",
       "         [0.88971059],\n",
       "         [0.88971059],\n",
       "         [0.54909002],\n",
       "         [0.54909002],\n",
       "         [0.95105567],\n",
       "         [0.95105567],\n",
       "         [0.3675096 ],\n",
       "         [0.3675096 ],\n",
       "         [0.5337952 ],\n",
       "         [0.5337952 ],\n",
       "         [0.68266608],\n",
       "         [0.68266608],\n",
       "         [0.61327189],\n",
       "         [0.61327189],\n",
       "         [0.35971086],\n",
       "         [0.35971086],\n",
       "         [0.71065545],\n",
       "         [0.71065545],\n",
       "         [0.71410955],\n",
       "         [0.71410955],\n",
       "         [0.58840255],\n",
       "         [0.58840255],\n",
       "         [0.44169097],\n",
       "         [0.44169097],\n",
       "         [0.15463313],\n",
       "         [0.15463313],\n",
       "         [0.63323593],\n",
       "         [0.63323593],\n",
       "         [0.05792939],\n",
       "         [0.05792939],\n",
       "         [0.38948842],\n",
       "         [0.38948842],\n",
       "         [0.60855951],\n",
       "         [0.60855951],\n",
       "         [0.2913183 ],\n",
       "         [0.2913183 ],\n",
       "         [0.95951338],\n",
       "         [0.95951338],\n",
       "         [0.33775994],\n",
       "         [0.33775994],\n",
       "         [0.73048785],\n",
       "         [0.73048785],\n",
       "         [0.74518705],\n",
       "         [0.74518705],\n",
       "         [0.8580963 ],\n",
       "         [0.8580963 ],\n",
       "         [0.10737962],\n",
       "         [0.10737962],\n",
       "         [0.11406407],\n",
       "         [0.11406407],\n",
       "         [0.82401613],\n",
       "         [0.82401613],\n",
       "         [0.81670532],\n",
       "         [0.81670532],\n",
       "         [0.89336796],\n",
       "         [0.89336796],\n",
       "         [0.70083555],\n",
       "         [0.70083555],\n",
       "         [0.93322831],\n",
       "         [0.93322831],\n",
       "         [0.20617041],\n",
       "         [0.20617041],\n",
       "         [0.03235632],\n",
       "         [0.03235632],\n",
       "         [0.39446224],\n",
       "         [0.39446224],\n",
       "         [0.70173402],\n",
       "         [0.70173402],\n",
       "         [0.12798325],\n",
       "         [0.12798325],\n",
       "         [0.25714038],\n",
       "         [0.25714038],\n",
       "         [0.77041723],\n",
       "         [0.77041723],\n",
       "         [0.44114564],\n",
       "         [0.44114564],\n",
       "         [0.44791762],\n",
       "         [0.44791762],\n",
       "         [0.18173938],\n",
       "         [0.18173938],\n",
       "         [0.66774539],\n",
       "         [0.66774539],\n",
       "         [0.56381588],\n",
       "         [0.56381588],\n",
       "         [0.13720553],\n",
       "         [0.13720553],\n",
       "         [0.10340279],\n",
       "         [0.10340279],\n",
       "         [0.06449579],\n",
       "         [0.06449579],\n",
       "         [0.8445617 ],\n",
       "         [0.8445617 ],\n",
       "         [0.06303648],\n",
       "         [0.06303648],\n",
       "         [0.76505394],\n",
       "         [0.76505394],\n",
       "         [0.59236292],\n",
       "         [0.59236292],\n",
       "         [0.5263295 ],\n",
       "         [0.5263295 ],\n",
       "         [0.76898923],\n",
       "         [0.76898923],\n",
       "         [0.85454632],\n",
       "         [0.85454632],\n",
       "         [0.19296571],\n",
       "         [0.19296571],\n",
       "         [0.87050889],\n",
       "         [0.87050889],\n",
       "         [0.00130359],\n",
       "         [0.00130359],\n",
       "         [0.01012919],\n",
       "         [0.01012919],\n",
       "         [0.6005067 ],\n",
       "         [0.6005067 ],\n",
       "         [0.69834308],\n",
       "         [0.69834308],\n",
       "         [0.95154482],\n",
       "         [0.95154482],\n",
       "         [0.57703482],\n",
       "         [0.57703482],\n",
       "         [0.82245251],\n",
       "         [0.82245251],\n",
       "         [0.45978512],\n",
       "         [0.45978512],\n",
       "         [0.69673548],\n",
       "         [0.69673548],\n",
       "         [0.37852311],\n",
       "         [0.37852311],\n",
       "         [0.45372233],\n",
       "         [0.45372233],\n",
       "         [0.37484449],\n",
       "         [0.37484449],\n",
       "         [0.26045975],\n",
       "         [0.26045975],\n",
       "         [0.16154086],\n",
       "         [0.16154086],\n",
       "         [0.64299222],\n",
       "         [0.64299222],\n",
       "         [0.16624997],\n",
       "         [0.16624997],\n",
       "         [0.80324695],\n",
       "         [0.80324695],\n",
       "         [0.74722103],\n",
       "         [0.74722103],\n",
       "         [0.77210188],\n",
       "         [0.77210188],\n",
       "         [0.23039478],\n",
       "         [0.23039478],\n",
       "         [0.82462628],\n",
       "         [0.82462628],\n",
       "         [0.47717727],\n",
       "         [0.47717727]])}}"
      ]
     },
     "execution_count": 12,
     "metadata": {},
     "output_type": "execute_result"
    }
   ],
   "source": [
    "ds = load_by_id(run_id_a)\n",
    "ds.get_parameter_data('x1')"
   ]
  },
  {
   "cell_type": "code",
   "execution_count": null,
   "metadata": {},
   "outputs": [],
   "source": []
  }
 ],
 "metadata": {
  "kernelspec": {
   "display_name": "Python 3",
   "language": "python",
   "name": "python3"
  },
  "language_info": {
   "codemirror_mode": {
    "name": "ipython",
    "version": 3
   },
   "file_extension": ".py",
   "mimetype": "text/x-python",
   "name": "python",
   "nbconvert_exporter": "python",
   "pygments_lexer": "ipython3",
   "version": "3.7.5"
  },
  "nbsphinx": {
   "timeout": 600
  },
  "toc": {
   "base_numbering": 1,
   "nav_menu": {},
   "number_sections": true,
   "sideBar": true,
   "skip_h1_title": false,
   "title_cell": "Table of Contents",
   "title_sidebar": "Contents",
   "toc_cell": false,
   "toc_position": {},
   "toc_section_display": true,
   "toc_window_display": false
  },
  "varInspector": {
   "cols": {
    "lenName": 16,
    "lenType": 16,
    "lenVar": 40
   },
   "kernels_config": {
    "python": {
     "delete_cmd_postfix": "",
     "delete_cmd_prefix": "del ",
     "library": "var_list.py",
     "varRefreshCmd": "print(var_dic_list())"
    },
    "r": {
     "delete_cmd_postfix": ") ",
     "delete_cmd_prefix": "rm(",
     "library": "var_list.r",
     "varRefreshCmd": "cat(var_dic_list()) "
    }
   },
   "types_to_exclude": [
    "module",
    "function",
    "builtin_function_or_method",
    "instance",
    "_Feature"
   ],
   "window_display": false
  }
 },
 "nbformat": 4,
 "nbformat_minor": 2
}
