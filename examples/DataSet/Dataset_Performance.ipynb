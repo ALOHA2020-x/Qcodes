{
 "cells": [
  {
   "cell_type": "markdown",
   "metadata": {},
   "source": [
    "# DataSet Performance\n",
    "\n",
    "This notebook shows the trade-off between inserting data into a database row-by-row and as binary blobs. Inserting the data row-by-row means that we have direct access to all the data and may perform queries directly on the values of the data. On the other hand, as we shall see, this is much slower than inserting the data directly as binary blobs."
   ]
  },
  {
   "cell_type": "markdown",
   "metadata": {},
   "source": [
    "First, we choose a new location for the database to ensure that we don't add a bunch of benchmarking data to the default one."
   ]
  },
  {
   "cell_type": "code",
   "execution_count": 1,
   "metadata": {},
   "outputs": [
    {
     "name": "stdout",
     "output_type": "stream",
     "text": [
      "Logging hadn't been started.\n",
      "Activating auto-logging. Current session state plus future input saved.\n",
      "Filename       : /home/vsts/.qcodes/logs/command_history.log\n",
      "Mode           : append\n",
      "Output logging : True\n",
      "Raw input log  : False\n",
      "Timestamping   : True\n",
      "State          : active\n"
     ]
    },
    {
     "name": "stdout",
     "output_type": "stream",
     "text": [
      "Qcodes Logfile : /home/vsts/.qcodes/logs/200723-18709-qcodes.log\n"
     ]
    }
   ],
   "source": [
    "import os\n",
    "cwd = os.getcwd()\n",
    "import qcodes as qc\n",
    "qc.config[\"core\"][\"db_location\"] = os.path.join(cwd, 'testing.db')\n"
   ]
  },
  {
   "cell_type": "code",
   "execution_count": 2,
   "metadata": {},
   "outputs": [],
   "source": [
    "%matplotlib inline\n",
    "import time\n",
    "import matplotlib.pyplot as plt\n",
    "import numpy as np\n",
    "\n",
    "import qcodes as qc\n",
    "from qcodes.instrument.parameter import ManualParameter\n",
    "from qcodes.dataset.experiment_container import (Experiment,\n",
    "                                                 load_last_experiment,\n",
    "                                                 new_experiment)\n",
    "from qcodes.dataset.sqlite.database import initialise_database\n",
    "from qcodes import load_or_create_experiment\n",
    "from qcodes.dataset.measurements import Measurement"
   ]
  },
  {
   "cell_type": "code",
   "execution_count": 3,
   "metadata": {},
   "outputs": [
    {
     "name": "stdout",
     "output_type": "stream",
     "text": [
      "\r",
      "0it [00:00, ?it/s]"
     ]
    },
    {
     "name": "stdout",
     "output_type": "stream",
     "text": [
      "\r",
      "Upgrading database; v0 -> v1: : 0it [00:00, ?it/s]"
     ]
    },
    {
     "name": "stdout",
     "output_type": "stream",
     "text": [
      "\r",
      "Upgrading database; v0 -> v1: : 0it [00:00, ?it/s]"
     ]
    },
    {
     "name": "stdout",
     "output_type": "stream",
     "text": [
      "\n",
      "\r",
      "  0%|          | 0/1 [00:00<?, ?it/s]"
     ]
    },
    {
     "name": "stdout",
     "output_type": "stream",
     "text": [
      "\r",
      "Upgrading database; v1 -> v2:   0%|          | 0/1 [00:00<?, ?it/s]"
     ]
    },
    {
     "name": "stdout",
     "output_type": "stream",
     "text": [
      "\r",
      "Upgrading database; v1 -> v2: 100%|██████████| 1/1 [00:00<00:00, 1029.28it/s]"
     ]
    },
    {
     "name": "stdout",
     "output_type": "stream",
     "text": [
      "\n",
      "\r",
      "0it [00:00, ?it/s]"
     ]
    },
    {
     "name": "stdout",
     "output_type": "stream",
     "text": [
      "\r",
      "Upgrading database; v2 -> v3: : 0it [00:00, ?it/s]"
     ]
    },
    {
     "name": "stdout",
     "output_type": "stream",
     "text": [
      "\r",
      "Upgrading database; v2 -> v3: : 0it [00:00, ?it/s]"
     ]
    },
    {
     "name": "stdout",
     "output_type": "stream",
     "text": [
      "\n",
      "\r",
      "0it [00:00, ?it/s]"
     ]
    },
    {
     "name": "stdout",
     "output_type": "stream",
     "text": [
      "\r",
      "Upgrading database; v3 -> v4: : 0it [00:00, ?it/s]"
     ]
    },
    {
     "name": "stdout",
     "output_type": "stream",
     "text": [
      "\r",
      "Upgrading database; v3 -> v4: : 0it [00:00, ?it/s]"
     ]
    },
    {
     "name": "stdout",
     "output_type": "stream",
     "text": [
      "\n",
      "\r",
      "  0%|          | 0/1 [00:00<?, ?it/s]"
     ]
    },
    {
     "name": "stdout",
     "output_type": "stream",
     "text": [
      "\r",
      "Upgrading database; v4 -> v5:   0%|          | 0/1 [00:00<?, ?it/s]"
     ]
    },
    {
     "name": "stdout",
     "output_type": "stream",
     "text": [
      "\r",
      "Upgrading database; v4 -> v5: 100%|██████████| 1/1 [00:00<00:00, 729.70it/s]"
     ]
    },
    {
     "name": "stdout",
     "output_type": "stream",
     "text": [
      "\n",
      "\r",
      "0it [00:00, ?it/s]"
     ]
    },
    {
     "name": "stdout",
     "output_type": "stream",
     "text": [
      "\r",
      "Upgrading database; v5 -> v6: : 0it [00:00, ?it/s]"
     ]
    },
    {
     "name": "stdout",
     "output_type": "stream",
     "text": [
      "\r",
      "Upgrading database; v5 -> v6: : 0it [00:00, ?it/s]"
     ]
    },
    {
     "name": "stdout",
     "output_type": "stream",
     "text": [
      "\n",
      "\r",
      "  0%|          | 0/1 [00:00<?, ?it/s]"
     ]
    },
    {
     "name": "stdout",
     "output_type": "stream",
     "text": [
      "\r",
      "Upgrading database; v6 -> v7:   0%|          | 0/1 [00:00<?, ?it/s]"
     ]
    },
    {
     "name": "stdout",
     "output_type": "stream",
     "text": [
      "\r",
      "Upgrading database; v6 -> v7: 100%|██████████| 1/1 [00:00<00:00, 357.24it/s]"
     ]
    },
    {
     "name": "stdout",
     "output_type": "stream",
     "text": [
      "\n",
      "\r",
      "  0%|          | 0/1 [00:00<?, ?it/s]"
     ]
    },
    {
     "name": "stdout",
     "output_type": "stream",
     "text": [
      "\r",
      "Upgrading database; v7 -> v8:   0%|          | 0/1 [00:00<?, ?it/s]"
     ]
    },
    {
     "name": "stdout",
     "output_type": "stream",
     "text": [
      "\r",
      "Upgrading database; v7 -> v8: 100%|██████████| 1/1 [00:00<00:00, 667.78it/s]"
     ]
    },
    {
     "name": "stdout",
     "output_type": "stream",
     "text": [
      "\n",
      "\r",
      "  0%|          | 0/1 [00:00<?, ?it/s]"
     ]
    },
    {
     "name": "stdout",
     "output_type": "stream",
     "text": [
      "\r",
      "Upgrading database; v8 -> v9:   0%|          | 0/1 [00:00<?, ?it/s]"
     ]
    },
    {
     "name": "stdout",
     "output_type": "stream",
     "text": [
      "\r",
      "Upgrading database; v8 -> v9: 100%|██████████| 1/1 [00:00<00:00, 905.51it/s]"
     ]
    },
    {
     "name": "stdout",
     "output_type": "stream",
     "text": [
      "\n"
     ]
    }
   ],
   "source": [
    "initialise_database()\n",
    "exp = load_or_create_experiment(experiment_name='tutorial_exp', sample_name=\"no sample\")"
   ]
  },
  {
   "cell_type": "markdown",
   "metadata": {},
   "source": [
    "Here, we define a simple function to benchmark the time it takes to insert n points with either numeric or array data type.\n",
    "We will compare both the time used to call ``add_result`` and the time used for the full measurement."
   ]
  },
  {
   "cell_type": "code",
   "execution_count": 4,
   "metadata": {},
   "outputs": [],
   "source": [
    "def insert_data(paramtype, npoints, nreps=1):\n",
    "\n",
    "    meas = Measurement(exp=exp)\n",
    "\n",
    "    x1 = ManualParameter('x1')\n",
    "    x2 = ManualParameter('x2')\n",
    "    x3 = ManualParameter('x3')\n",
    "    y1 = ManualParameter('y1')\n",
    "    y2 = ManualParameter('y2')\n",
    "\n",
    "    meas.register_parameter(x1, paramtype=paramtype)\n",
    "    meas.register_parameter(x2, paramtype=paramtype)\n",
    "    meas.register_parameter(x3, paramtype=paramtype)\n",
    "    meas.register_parameter(y1, setpoints=[x1, x2, x3],\n",
    "                            paramtype=paramtype)\n",
    "    meas.register_parameter(y2, setpoints=[x1, x2, x3],\n",
    "                            paramtype=paramtype)\n",
    "    start = time.perf_counter()\n",
    "    with meas.run() as datasaver:\n",
    "        start_adding = time.perf_counter()\n",
    "        for i in range(nreps):\n",
    "            datasaver.add_result((x1, np.random.rand(npoints)),\n",
    "                                 (x2, np.random.rand(npoints)),\n",
    "                                 (x3, np.random.rand(npoints)),\n",
    "                                 (y1, np.random.rand(npoints)),\n",
    "                                 (y2, np.random.rand(npoints)))\n",
    "        stop_adding = time.perf_counter()\n",
    "        run_id = datasaver.run_id\n",
    "    stop = time.perf_counter()\n",
    "    tot_time = stop - start\n",
    "    add_time = stop_adding - start_adding\n",
    "    return tot_time, add_time, run_id"
   ]
  },
  {
   "cell_type": "markdown",
   "metadata": {},
   "source": [
    "## Comparison between numeric/array data and binary blob"
   ]
  },
  {
   "cell_type": "markdown",
   "metadata": {},
   "source": [
    "### Case1: Short experiment time"
   ]
  },
  {
   "cell_type": "code",
   "execution_count": 5,
   "metadata": {},
   "outputs": [
    {
     "name": "stdout",
     "output_type": "stream",
     "text": [
      "Starting experimental run with id: 1. \n",
      "Starting experimental run with id: 2. \n",
      "Starting experimental run with id: 3. \n"
     ]
    },
    {
     "name": "stdout",
     "output_type": "stream",
     "text": [
      "Starting experimental run with id: 4. \n"
     ]
    },
    {
     "name": "stdout",
     "output_type": "stream",
     "text": [
      "Starting experimental run with id: 5. \n"
     ]
    },
    {
     "name": "stdout",
     "output_type": "stream",
     "text": [
      "Starting experimental run with id: 6. \n",
      "Starting experimental run with id: 7. \n",
      "Starting experimental run with id: 8. \n"
     ]
    },
    {
     "name": "stdout",
     "output_type": "stream",
     "text": [
      "Starting experimental run with id: 9. \n"
     ]
    },
    {
     "name": "stdout",
     "output_type": "stream",
     "text": [
      "Starting experimental run with id: 10. \n",
      "Starting experimental run with id: 11. \n"
     ]
    },
    {
     "name": "stdout",
     "output_type": "stream",
     "text": [
      "Starting experimental run with id: 12. \n"
     ]
    },
    {
     "name": "stdout",
     "output_type": "stream",
     "text": [
      "Starting experimental run with id: 13. \n"
     ]
    },
    {
     "name": "stdout",
     "output_type": "stream",
     "text": [
      "Starting experimental run with id: 14. \n"
     ]
    }
   ],
   "source": [
    "sizes = [1,500,1000,2000,3000,4000,5000]\n",
    "t_numeric = []\n",
    "t_numeric_add = []\n",
    "t_array = []\n",
    "t_array_add = []\n",
    "for size in sizes:\n",
    "    tn, tna, run_id_n =  insert_data('numeric', size)\n",
    "    t_numeric.append(tn)\n",
    "    t_numeric_add.append(tna)\n",
    "\n",
    "    ta, taa, run_id_a =  insert_data('array', size)\n",
    "    t_array.append(ta)\n",
    "    t_array_add.append(taa)"
   ]
  },
  {
   "cell_type": "code",
   "execution_count": 6,
   "metadata": {},
   "outputs": [
    {
     "data": {
      "image/png": "[encoded data removed]",
      "text/plain": [
       "<Figure size 432x288 with 1 Axes>"
      ]
     },
     "metadata": {
      "needs_background": "light"
     },
     "output_type": "display_data"
    }
   ],
   "source": [
    "fig, ax = plt.subplots(1,1)\n",
    "ax.plot(sizes, t_numeric, 'o-', label='Inserting row-by-row')\n",
    "ax.plot(sizes, t_numeric_add, 'o-', label='Inserting row-by-row: add_result only')\n",
    "ax.plot(sizes, t_array, 'd-', label='Inserting as binary blob')\n",
    "ax.plot(sizes, t_array_add, 'd-', label='Inserting as binary blob: add_result only')\n",
    "ax.legend()\n",
    "ax.set_xlabel('Array length')\n",
    "ax.set_ylabel('Time (s)')\n",
    "fig.tight_layout()"
   ]
  },
  {
   "cell_type": "markdown",
   "metadata": {},
   "source": [
    "As shown in the latter figure, the time to setup and and close the experiment is approximately 0.4 sec. In case of small array sizes, the difference between inserting values of data as arrays and inserting them row-by-row is relatively unimportant. At larger array sizes, i.e. above 10000 points, the cost of writing data as individual datapoints starts to become important.\n"
   ]
  },
  {
   "cell_type": "markdown",
   "metadata": {},
   "source": [
    "### Case2: Long experiment time "
   ]
  },
  {
   "cell_type": "code",
   "execution_count": 7,
   "metadata": {},
   "outputs": [
    {
     "name": "stdout",
     "output_type": "stream",
     "text": [
      "Starting experimental run with id: 15. \n",
      "Starting experimental run with id: 16. \n",
      "Starting experimental run with id: 17. \n"
     ]
    },
    {
     "name": "stdout",
     "output_type": "stream",
     "text": [
      "Starting experimental run with id: 18. \n",
      "Starting experimental run with id: 19. \n"
     ]
    },
    {
     "name": "stdout",
     "output_type": "stream",
     "text": [
      "Starting experimental run with id: 20. \n"
     ]
    },
    {
     "name": "stdout",
     "output_type": "stream",
     "text": [
      "Starting experimental run with id: 21. \n"
     ]
    },
    {
     "name": "stdout",
     "output_type": "stream",
     "text": [
      "Starting experimental run with id: 22. \n"
     ]
    },
    {
     "name": "stdout",
     "output_type": "stream",
     "text": [
      "Starting experimental run with id: 23. \n"
     ]
    },
    {
     "name": "stdout",
     "output_type": "stream",
     "text": [
      "Starting experimental run with id: 24. \n"
     ]
    },
    {
     "name": "stdout",
     "output_type": "stream",
     "text": [
      "Starting experimental run with id: 25. \n"
     ]
    },
    {
     "name": "stdout",
     "output_type": "stream",
     "text": [
      "Starting experimental run with id: 26. \n"
     ]
    },
    {
     "name": "stdout",
     "output_type": "stream",
     "text": [
      "Starting experimental run with id: 27. \n"
     ]
    },
    {
     "name": "stdout",
     "output_type": "stream",
     "text": [
      "Starting experimental run with id: 28. \n"
     ]
    }
   ],
   "source": [
    "sizes = [1,500,1000,2000,3000,4000,5000]\n",
    "nreps = 100\n",
    "t_numeric = []\n",
    "t_numeric_add = []\n",
    "t_numeric_run_ids = []\n",
    "t_array = []\n",
    "t_array_add = []\n",
    "t_array_run_ids = []\n",
    "for size in sizes:\n",
    "    tn, tna, run_id_n =  insert_data('numeric', size, nreps=nreps)\n",
    "    t_numeric.append(tn)\n",
    "    t_numeric_add.append(tna)\n",
    "    t_numeric_run_ids.append(run_id_n)\n",
    "\n",
    "    ta, taa, run_id_a =  insert_data('array', size, nreps=nreps)\n",
    "    t_array.append(ta)\n",
    "    t_array_add.append(taa)\n",
    "    t_array_run_ids.append(run_id_a)"
   ]
  },
  {
   "cell_type": "code",
   "execution_count": 8,
   "metadata": {
    "scrolled": true
   },
   "outputs": [
    {
     "data": {
      "image/png": "[encoded data removed]",
      "text/plain": [
       "<Figure size 432x288 with 1 Axes>"
      ]
     },
     "metadata": {
      "needs_background": "light"
     },
     "output_type": "display_data"
    }
   ],
   "source": [
    "fig, ax = plt.subplots(1,1)\n",
    "ax.plot(sizes, t_numeric, 'o-', label='Inserting row-by-row')\n",
    "ax.plot(sizes, t_numeric_add, 'o-', label='Inserting row-by-row: add_result only')\n",
    "ax.plot(sizes, t_array, 'd-', label='Inserting as binary blob')\n",
    "ax.plot(sizes, t_array_add, 'd-', label='Inserting as binary blob: add_result only')\n",
    "ax.legend()\n",
    "ax.set_xlabel('Array length')\n",
    "ax.set_ylabel('Time (s)')\n",
    "fig.tight_layout()"
   ]
  },
  {
   "cell_type": "markdown",
   "metadata": {},
   "source": [
    "However, as we increase the length of the experiment, as seen here by repeating the insertion 100 times, we see a big difference between inserting values of the data row-by-row and inserting it as a binary blob."
   ]
  },
  {
   "cell_type": "markdown",
   "metadata": {},
   "source": [
    "## Loading the data "
   ]
  },
  {
   "cell_type": "code",
   "execution_count": 9,
   "metadata": {},
   "outputs": [],
   "source": [
    "from qcodes.dataset.data_set import load_by_id\n",
    "from qcodes.dataset.data_export import get_data_by_id"
   ]
  },
  {
   "cell_type": "markdown",
   "metadata": {},
   "source": [
    "As usual you can load the data by using the ``load_by_id`` function but you will notice that the different storage methods\n",
    "are reflected in shape of the data as it is retrieved. "
   ]
  },
  {
   "cell_type": "code",
   "execution_count": 10,
   "metadata": {},
   "outputs": [],
   "source": [
    "run_id_n = t_numeric_run_ids[0]\n",
    "run_id_a = t_array_run_ids[0]"
   ]
  },
  {
   "cell_type": "code",
   "execution_count": 11,
   "metadata": {
    "scrolled": true
   },
   "outputs": [
    {
     "data": {
      "text/plain": [
       "{'x1': {'x1': array([0.69313985, 0.69313985, 0.8253429 , 0.8253429 , 0.34208326,\n",
       "         0.34208326, 0.84577216, 0.84577216, 0.3683188 , 0.3683188 ,\n",
       "         0.10145867, 0.10145867, 0.36589339, 0.36589339, 0.42533975,\n",
       "         0.42533975, 0.24441081, 0.24441081, 0.16997535, 0.16997535,\n",
       "         0.17440302, 0.17440302, 0.65420329, 0.65420329, 0.79031571,\n",
       "         0.79031571, 0.1697514 , 0.1697514 , 0.47972653, 0.47972653,\n",
       "         0.28961052, 0.28961052, 0.89845418, 0.89845418, 0.73995053,\n",
       "         0.73995053, 0.36037483, 0.36037483, 0.97625768, 0.97625768,\n",
       "         0.87169592, 0.87169592, 0.26465928, 0.26465928, 0.84820158,\n",
       "         0.84820158, 0.82570466, 0.82570466, 0.33473571, 0.33473571,\n",
       "         0.66479995, 0.66479995, 0.70329149, 0.70329149, 0.03552745,\n",
       "         0.03552745, 0.82607588, 0.82607588, 0.40800175, 0.40800175,\n",
       "         0.01332454, 0.01332454, 0.36780968, 0.36780968, 0.93749817,\n",
       "         0.93749817, 0.68782245, 0.68782245, 0.02626799, 0.02626799,\n",
       "         0.18821632, 0.18821632, 0.18600776, 0.18600776, 0.27576824,\n",
       "         0.27576824, 0.16221232, 0.16221232, 0.55071843, 0.55071843,\n",
       "         0.68816955, 0.68816955, 0.25435744, 0.25435744, 0.44031057,\n",
       "         0.44031057, 0.84713116, 0.84713116, 0.41519765, 0.41519765,\n",
       "         0.52047712, 0.52047712, 0.85355999, 0.85355999, 0.64291801,\n",
       "         0.64291801, 0.06656214, 0.06656214, 0.59696253, 0.59696253,\n",
       "         0.80170663, 0.80170663, 0.92112574, 0.92112574, 0.37266721,\n",
       "         0.37266721, 0.22742347, 0.22742347, 0.34641018, 0.34641018,\n",
       "         0.97432157, 0.97432157, 0.01126604, 0.01126604, 0.83713134,\n",
       "         0.83713134, 0.66396068, 0.66396068, 0.56673103, 0.56673103,\n",
       "         0.58688359, 0.58688359, 0.90818676, 0.90818676, 0.67846035,\n",
       "         0.67846035, 0.86974543, 0.86974543, 0.87722993, 0.87722993,\n",
       "         0.04976732, 0.04976732, 0.79290026, 0.79290026, 0.96084578,\n",
       "         0.96084578, 0.48055912, 0.48055912, 0.31679573, 0.31679573,\n",
       "         0.44691208, 0.44691208, 0.06690446, 0.06690446, 0.22932157,\n",
       "         0.22932157, 0.2860365 , 0.2860365 , 0.20030891, 0.20030891,\n",
       "         0.57302415, 0.57302415, 0.00214562, 0.00214562, 0.68326052,\n",
       "         0.68326052, 0.65145131, 0.65145131, 0.22602404, 0.22602404,\n",
       "         0.97233814, 0.97233814, 0.38683729, 0.38683729, 0.5600382 ,\n",
       "         0.5600382 , 0.96293422, 0.96293422, 0.4724444 , 0.4724444 ,\n",
       "         0.94938671, 0.94938671, 0.22268305, 0.22268305, 0.04617695,\n",
       "         0.04617695, 0.57532933, 0.57532933, 0.97123693, 0.97123693,\n",
       "         0.46822414, 0.46822414, 0.98510968, 0.98510968, 0.68187585,\n",
       "         0.68187585, 0.2540835 , 0.2540835 , 0.64152812, 0.64152812,\n",
       "         0.87566827, 0.87566827, 0.60517176, 0.60517176, 0.92070064,\n",
       "         0.92070064, 0.33182178, 0.33182178, 0.03791852, 0.03791852])}}"
      ]
     },
     "execution_count": 11,
     "metadata": {},
     "output_type": "execute_result"
    }
   ],
   "source": [
    "ds = load_by_id(run_id_n)\n",
    "ds.get_parameter_data('x1')"
   ]
  },
  {
   "cell_type": "markdown",
   "metadata": {},
   "source": [
    "And a dataset stored as binary arrays"
   ]
  },
  {
   "cell_type": "code",
   "execution_count": 12,
   "metadata": {
    "scrolled": true
   },
   "outputs": [
    {
     "data": {
      "text/plain": [
       "{'x1': {'x1': array([[0.83306713],\n",
       "         [0.83306713],\n",
       "         [0.57387425],\n",
       "         [0.57387425],\n",
       "         [0.90389495],\n",
       "         [0.90389495],\n",
       "         [0.12112598],\n",
       "         [0.12112598],\n",
       "         [0.50558039],\n",
       "         [0.50558039],\n",
       "         [0.10489702],\n",
       "         [0.10489702],\n",
       "         [0.74012423],\n",
       "         [0.74012423],\n",
       "         [0.96836072],\n",
       "         [0.96836072],\n",
       "         [0.39196021],\n",
       "         [0.39196021],\n",
       "         [0.20360528],\n",
       "         [0.20360528],\n",
       "         [0.23751823],\n",
       "         [0.23751823],\n",
       "         [0.83842895],\n",
       "         [0.83842895],\n",
       "         [0.8204579 ],\n",
       "         [0.8204579 ],\n",
       "         [0.27360509],\n",
       "         [0.27360509],\n",
       "         [0.85049429],\n",
       "         [0.85049429],\n",
       "         [0.22043055],\n",
       "         [0.22043055],\n",
       "         [0.32536015],\n",
       "         [0.32536015],\n",
       "         [0.54690398],\n",
       "         [0.54690398],\n",
       "         [0.17851194],\n",
       "         [0.17851194],\n",
       "         [0.55179112],\n",
       "         [0.55179112],\n",
       "         [0.12646753],\n",
       "         [0.12646753],\n",
       "         [0.73580101],\n",
       "         [0.73580101],\n",
       "         [0.86027982],\n",
       "         [0.86027982],\n",
       "         [0.11300536],\n",
       "         [0.11300536],\n",
       "         [0.78600608],\n",
       "         [0.78600608],\n",
       "         [0.33055639],\n",
       "         [0.33055639],\n",
       "         [0.28728252],\n",
       "         [0.28728252],\n",
       "         [0.18854732],\n",
       "         [0.18854732],\n",
       "         [0.27742987],\n",
       "         [0.27742987],\n",
       "         [0.11497266],\n",
       "         [0.11497266],\n",
       "         [0.82668804],\n",
       "         [0.82668804],\n",
       "         [0.49664805],\n",
       "         [0.49664805],\n",
       "         [0.82228784],\n",
       "         [0.82228784],\n",
       "         [0.10175181],\n",
       "         [0.10175181],\n",
       "         [0.58190062],\n",
       "         [0.58190062],\n",
       "         [0.66663681],\n",
       "         [0.66663681],\n",
       "         [0.86088364],\n",
       "         [0.86088364],\n",
       "         [0.73358135],\n",
       "         [0.73358135],\n",
       "         [0.11783349],\n",
       "         [0.11783349],\n",
       "         [0.8581769 ],\n",
       "         [0.8581769 ],\n",
       "         [0.38913065],\n",
       "         [0.38913065],\n",
       "         [0.63558106],\n",
       "         [0.63558106],\n",
       "         [0.31693954],\n",
       "         [0.31693954],\n",
       "         [0.32526018],\n",
       "         [0.32526018],\n",
       "         [0.45527902],\n",
       "         [0.45527902],\n",
       "         [0.87179712],\n",
       "         [0.87179712],\n",
       "         [0.32715929],\n",
       "         [0.32715929],\n",
       "         [0.2409384 ],\n",
       "         [0.2409384 ],\n",
       "         [0.48736616],\n",
       "         [0.48736616],\n",
       "         [0.27966626],\n",
       "         [0.27966626],\n",
       "         [0.21791059],\n",
       "         [0.21791059],\n",
       "         [0.71712802],\n",
       "         [0.71712802],\n",
       "         [0.11489204],\n",
       "         [0.11489204],\n",
       "         [0.09968543],\n",
       "         [0.09968543],\n",
       "         [0.7415283 ],\n",
       "         [0.7415283 ],\n",
       "         [0.50751148],\n",
       "         [0.50751148],\n",
       "         [0.39452569],\n",
       "         [0.39452569],\n",
       "         [0.19044287],\n",
       "         [0.19044287],\n",
       "         [0.38500542],\n",
       "         [0.38500542],\n",
       "         [0.66766899],\n",
       "         [0.66766899],\n",
       "         [0.23144013],\n",
       "         [0.23144013],\n",
       "         [0.86035132],\n",
       "         [0.86035132],\n",
       "         [0.32586314],\n",
       "         [0.32586314],\n",
       "         [0.98825707],\n",
       "         [0.98825707],\n",
       "         [0.87095765],\n",
       "         [0.87095765],\n",
       "         [0.29034052],\n",
       "         [0.29034052],\n",
       "         [0.81636536],\n",
       "         [0.81636536],\n",
       "         [0.15193951],\n",
       "         [0.15193951],\n",
       "         [0.00630126],\n",
       "         [0.00630126],\n",
       "         [0.6537943 ],\n",
       "         [0.6537943 ],\n",
       "         [0.38038947],\n",
       "         [0.38038947],\n",
       "         [0.17196566],\n",
       "         [0.17196566],\n",
       "         [0.88128782],\n",
       "         [0.88128782],\n",
       "         [0.26906163],\n",
       "         [0.26906163],\n",
       "         [0.62548423],\n",
       "         [0.62548423],\n",
       "         [0.08092975],\n",
       "         [0.08092975],\n",
       "         [0.44454905],\n",
       "         [0.44454905],\n",
       "         [0.97948868],\n",
       "         [0.97948868],\n",
       "         [0.14226166],\n",
       "         [0.14226166],\n",
       "         [0.44061578],\n",
       "         [0.44061578],\n",
       "         [0.50878854],\n",
       "         [0.50878854],\n",
       "         [0.87017554],\n",
       "         [0.87017554],\n",
       "         [0.80291201],\n",
       "         [0.80291201],\n",
       "         [0.29278772],\n",
       "         [0.29278772],\n",
       "         [0.02713782],\n",
       "         [0.02713782],\n",
       "         [0.03875586],\n",
       "         [0.03875586],\n",
       "         [0.89277258],\n",
       "         [0.89277258],\n",
       "         [0.08920195],\n",
       "         [0.08920195],\n",
       "         [0.37621775],\n",
       "         [0.37621775],\n",
       "         [0.75192736],\n",
       "         [0.75192736],\n",
       "         [0.78217798],\n",
       "         [0.78217798],\n",
       "         [0.35675003],\n",
       "         [0.35675003],\n",
       "         [0.1790999 ],\n",
       "         [0.1790999 ],\n",
       "         [0.69172354],\n",
       "         [0.69172354],\n",
       "         [0.45359947],\n",
       "         [0.45359947],\n",
       "         [0.64999065],\n",
       "         [0.64999065],\n",
       "         [0.20528981],\n",
       "         [0.20528981],\n",
       "         [0.04367863],\n",
       "         [0.04367863],\n",
       "         [0.53951228],\n",
       "         [0.53951228],\n",
       "         [0.94438577],\n",
       "         [0.94438577]])}}"
      ]
     },
     "execution_count": 12,
     "metadata": {},
     "output_type": "execute_result"
    }
   ],
   "source": [
    "ds = load_by_id(run_id_a)\n",
    "ds.get_parameter_data('x1')"
   ]
  },
  {
   "cell_type": "code",
   "execution_count": null,
   "metadata": {},
   "outputs": [],
   "source": []
  }
 ],
 "metadata": {
  "kernelspec": {
   "display_name": "Python 3",
   "language": "python",
   "name": "python3"
  },
  "language_info": {
   "codemirror_mode": {
    "name": "ipython",
    "version": 3
   },
   "file_extension": ".py",
   "mimetype": "text/x-python",
   "name": "python",
   "nbconvert_exporter": "python",
   "pygments_lexer": "ipython3",
   "version": "3.7.7"
  },
  "nbsphinx": {
   "timeout": 600
  },
  "toc": {
   "base_numbering": 1,
   "nav_menu": {},
   "number_sections": true,
   "sideBar": true,
   "skip_h1_title": false,
   "title_cell": "Table of Contents",
   "title_sidebar": "Contents",
   "toc_cell": false,
   "toc_position": {},
   "toc_section_display": true,
   "toc_window_display": false
  },
  "varInspector": {
   "cols": {
    "lenName": 16,
    "lenType": 16,
    "lenVar": 40
   },
   "kernels_config": {
    "python": {
     "delete_cmd_postfix": "",
     "delete_cmd_prefix": "del ",
     "library": "var_list.py",
     "varRefreshCmd": "print(var_dic_list())"
    },
    "r": {
     "delete_cmd_postfix": ") ",
     "delete_cmd_prefix": "rm(",
     "library": "var_list.r",
     "varRefreshCmd": "cat(var_dic_list()) "
    }
   },
   "types_to_exclude": [
    "module",
    "function",
    "builtin_function_or_method",
    "instance",
    "_Feature"
   ],
   "window_display": false
  }
 },
 "nbformat": 4,
 "nbformat_minor": 2
}
