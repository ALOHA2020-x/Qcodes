{
 "cells": [
  {
   "cell_type": "markdown",
   "metadata": {},
   "source": [
    "# DataSet Performance\n",
    "\n",
    "This notebook shows the trade-off between inserting data into a database row-by-row and as binary blobs. Inserting the data row-by-row means that we have direct access to all the data and may perform queries directly on the values of the data. On the other hand, as we shall see, this is much slower than inserting the data directly as binary blobs."
   ]
  },
  {
   "cell_type": "markdown",
   "metadata": {},
   "source": [
    "First, we choose a new location for the database to ensure that we don't add a bunch of benchmarking data to the default one."
   ]
  },
  {
   "cell_type": "code",
   "execution_count": 1,
   "metadata": {},
   "outputs": [
    {
     "name": "stdout",
     "output_type": "stream",
     "text": [
      "Logging hadn't been started.\n",
      "Activating auto-logging. Current session state plus future input saved.\n",
      "Filename       : /home/vsts/.qcodes/logs/command_history.log\n",
      "Mode           : append\n",
      "Output logging : True\n",
      "Raw input log  : False\n",
      "Timestamping   : True\n",
      "State          : active\n"
     ]
    },
    {
     "name": "stdout",
     "output_type": "stream",
     "text": [
      "Qcodes Logfile : /home/vsts/.qcodes/logs/200618-19575-qcodes.log\n"
     ]
    }
   ],
   "source": [
    "import os\n",
    "cwd = os.getcwd()\n",
    "import qcodes as qc\n",
    "qc.config[\"core\"][\"db_location\"] = os.path.join(cwd, 'testing.db')\n"
   ]
  },
  {
   "cell_type": "code",
   "execution_count": 2,
   "metadata": {},
   "outputs": [],
   "source": [
    "%matplotlib inline\n",
    "import time\n",
    "import matplotlib.pyplot as plt\n",
    "import numpy as np\n",
    "\n",
    "import qcodes as qc\n",
    "from qcodes.instrument.parameter import ManualParameter\n",
    "from qcodes.dataset.experiment_container import (Experiment,\n",
    "                                                 load_last_experiment,\n",
    "                                                 new_experiment)\n",
    "from qcodes.dataset.sqlite.database import initialise_database\n",
    "from qcodes import load_or_create_experiment\n",
    "from qcodes.dataset.measurements import Measurement"
   ]
  },
  {
   "cell_type": "code",
   "execution_count": 3,
   "metadata": {},
   "outputs": [
    {
     "name": "stdout",
     "output_type": "stream",
     "text": [
      "\r",
      "0it [00:00, ?it/s]"
     ]
    },
    {
     "name": "stdout",
     "output_type": "stream",
     "text": [
      "\r",
      "Upgrading database; v0 -> v1: : 0it [00:00, ?it/s]"
     ]
    },
    {
     "name": "stdout",
     "output_type": "stream",
     "text": [
      "\r",
      "Upgrading database; v0 -> v1: : 0it [00:00, ?it/s]"
     ]
    },
    {
     "name": "stdout",
     "output_type": "stream",
     "text": [
      "\n",
      "\r",
      "  0%|          | 0/1 [00:00<?, ?it/s]"
     ]
    },
    {
     "name": "stdout",
     "output_type": "stream",
     "text": [
      "\r",
      "Upgrading database; v1 -> v2:   0%|          | 0/1 [00:00<?, ?it/s]"
     ]
    },
    {
     "name": "stdout",
     "output_type": "stream",
     "text": [
      "\r",
      "Upgrading database; v1 -> v2: 100%|██████████| 1/1 [00:00<00:00, 940.43it/s]"
     ]
    },
    {
     "name": "stdout",
     "output_type": "stream",
     "text": [
      "\n",
      "\r",
      "0it [00:00, ?it/s]"
     ]
    },
    {
     "name": "stdout",
     "output_type": "stream",
     "text": [
      "\r",
      "Upgrading database; v2 -> v3: : 0it [00:00, ?it/s]"
     ]
    },
    {
     "name": "stdout",
     "output_type": "stream",
     "text": [
      "\r",
      "Upgrading database; v2 -> v3: : 0it [00:00, ?it/s]"
     ]
    },
    {
     "name": "stdout",
     "output_type": "stream",
     "text": [
      "\n",
      "\r",
      "0it [00:00, ?it/s]"
     ]
    },
    {
     "name": "stdout",
     "output_type": "stream",
     "text": [
      "\r",
      "Upgrading database; v3 -> v4: : 0it [00:00, ?it/s]"
     ]
    },
    {
     "name": "stdout",
     "output_type": "stream",
     "text": [
      "\r",
      "Upgrading database; v3 -> v4: : 0it [00:00, ?it/s]"
     ]
    },
    {
     "name": "stdout",
     "output_type": "stream",
     "text": [
      "\n",
      "\r",
      "  0%|          | 0/1 [00:00<?, ?it/s]"
     ]
    },
    {
     "name": "stdout",
     "output_type": "stream",
     "text": [
      "\r",
      "Upgrading database; v4 -> v5:   0%|          | 0/1 [00:00<?, ?it/s]"
     ]
    },
    {
     "name": "stdout",
     "output_type": "stream",
     "text": [
      "\r",
      "Upgrading database; v4 -> v5: 100%|██████████| 1/1 [00:00<00:00, 846.48it/s]"
     ]
    },
    {
     "name": "stdout",
     "output_type": "stream",
     "text": [
      "\n",
      "\r",
      "0it [00:00, ?it/s]"
     ]
    },
    {
     "name": "stdout",
     "output_type": "stream",
     "text": [
      "\r",
      "Upgrading database; v5 -> v6: : 0it [00:00, ?it/s]"
     ]
    },
    {
     "name": "stdout",
     "output_type": "stream",
     "text": [
      "\r",
      "Upgrading database; v5 -> v6: : 0it [00:00, ?it/s]"
     ]
    },
    {
     "name": "stdout",
     "output_type": "stream",
     "text": [
      "\n",
      "\r",
      "  0%|          | 0/1 [00:00<?, ?it/s]"
     ]
    },
    {
     "name": "stdout",
     "output_type": "stream",
     "text": [
      "\r",
      "Upgrading database; v6 -> v7:   0%|          | 0/1 [00:00<?, ?it/s]"
     ]
    },
    {
     "name": "stdout",
     "output_type": "stream",
     "text": [
      "\r",
      "Upgrading database; v6 -> v7: 100%|██████████| 1/1 [00:00<00:00, 317.97it/s]"
     ]
    },
    {
     "name": "stdout",
     "output_type": "stream",
     "text": [
      "\n",
      "\r",
      "  0%|          | 0/1 [00:00<?, ?it/s]"
     ]
    },
    {
     "name": "stdout",
     "output_type": "stream",
     "text": [
      "\r",
      "Upgrading database; v7 -> v8:   0%|          | 0/1 [00:00<?, ?it/s]"
     ]
    },
    {
     "name": "stdout",
     "output_type": "stream",
     "text": [
      "\r",
      "Upgrading database; v7 -> v8: 100%|██████████| 1/1 [00:00<00:00, 892.41it/s]"
     ]
    },
    {
     "name": "stdout",
     "output_type": "stream",
     "text": [
      "\n",
      "\r",
      "  0%|          | 0/1 [00:00<?, ?it/s]"
     ]
    },
    {
     "name": "stdout",
     "output_type": "stream",
     "text": [
      "\r",
      "Upgrading database; v8 -> v9:   0%|          | 0/1 [00:00<?, ?it/s]"
     ]
    },
    {
     "name": "stdout",
     "output_type": "stream",
     "text": [
      "\r",
      "Upgrading database; v8 -> v9: 100%|██████████| 1/1 [00:00<00:00, 901.42it/s]"
     ]
    },
    {
     "name": "stdout",
     "output_type": "stream",
     "text": [
      "\n"
     ]
    }
   ],
   "source": [
    "initialise_database()\n",
    "exp = load_or_create_experiment(experiment_name='tutorial_exp', sample_name=\"no sample\")"
   ]
  },
  {
   "cell_type": "markdown",
   "metadata": {},
   "source": [
    "Here, we define a simple function to benchmark the time it takes to insert n points with either numeric or array data type.\n",
    "We will compare both the time used to call ``add_result`` and the time used for the full measurement."
   ]
  },
  {
   "cell_type": "code",
   "execution_count": 4,
   "metadata": {},
   "outputs": [],
   "source": [
    "def insert_data(paramtype, npoints, nreps=1):\n",
    "\n",
    "    meas = Measurement(exp=exp)\n",
    "\n",
    "    x1 = ManualParameter('x1')\n",
    "    x2 = ManualParameter('x2')\n",
    "    x3 = ManualParameter('x3')\n",
    "    y1 = ManualParameter('y1')\n",
    "    y2 = ManualParameter('y2')\n",
    "\n",
    "    meas.register_parameter(x1, paramtype=paramtype)\n",
    "    meas.register_parameter(x2, paramtype=paramtype)\n",
    "    meas.register_parameter(x3, paramtype=paramtype)\n",
    "    meas.register_parameter(y1, setpoints=[x1, x2, x3],\n",
    "                            paramtype=paramtype)\n",
    "    meas.register_parameter(y2, setpoints=[x1, x2, x3],\n",
    "                            paramtype=paramtype)\n",
    "    start = time.perf_counter()\n",
    "    with meas.run() as datasaver:\n",
    "        start_adding = time.perf_counter()\n",
    "        for i in range(nreps):\n",
    "            datasaver.add_result((x1, np.random.rand(npoints)),\n",
    "                                 (x2, np.random.rand(npoints)),\n",
    "                                 (x3, np.random.rand(npoints)),\n",
    "                                 (y1, np.random.rand(npoints)),\n",
    "                                 (y2, np.random.rand(npoints)))\n",
    "        stop_adding = time.perf_counter()\n",
    "        run_id = datasaver.run_id\n",
    "    stop = time.perf_counter()\n",
    "    tot_time = stop - start\n",
    "    add_time = stop_adding - start_adding\n",
    "    return tot_time, add_time, run_id"
   ]
  },
  {
   "cell_type": "markdown",
   "metadata": {},
   "source": [
    "## Comparison between numeric/array data and binary blob"
   ]
  },
  {
   "cell_type": "markdown",
   "metadata": {},
   "source": [
    "### Case1: Short experiment time"
   ]
  },
  {
   "cell_type": "code",
   "execution_count": 5,
   "metadata": {},
   "outputs": [
    {
     "name": "stdout",
     "output_type": "stream",
     "text": [
      "Starting experimental run with id: 1. \n",
      "Starting experimental run with id: 2. \n",
      "Starting experimental run with id: 3. \n",
      "Starting experimental run with id: 4. \n"
     ]
    },
    {
     "name": "stdout",
     "output_type": "stream",
     "text": [
      "Starting experimental run with id: 5. \n"
     ]
    },
    {
     "name": "stdout",
     "output_type": "stream",
     "text": [
      "Starting experimental run with id: 6. \n",
      "Starting experimental run with id: 7. \n"
     ]
    },
    {
     "name": "stdout",
     "output_type": "stream",
     "text": [
      "Starting experimental run with id: 8. \n",
      "Starting experimental run with id: 9. \n"
     ]
    },
    {
     "name": "stdout",
     "output_type": "stream",
     "text": [
      "Starting experimental run with id: 10. \n",
      "Starting experimental run with id: 11. \n"
     ]
    },
    {
     "name": "stdout",
     "output_type": "stream",
     "text": [
      "Starting experimental run with id: 12. \n",
      "Starting experimental run with id: 13. \n"
     ]
    },
    {
     "name": "stdout",
     "output_type": "stream",
     "text": [
      "Starting experimental run with id: 14. \n"
     ]
    }
   ],
   "source": [
    "sizes = [1,500,1000,2000,3000,4000,5000]\n",
    "t_numeric = []\n",
    "t_numeric_add = []\n",
    "t_array = []\n",
    "t_array_add = []\n",
    "for size in sizes:\n",
    "    tn, tna, run_id_n =  insert_data('numeric', size)\n",
    "    t_numeric.append(tn)\n",
    "    t_numeric_add.append(tna)\n",
    "\n",
    "    ta, taa, run_id_a =  insert_data('array', size)\n",
    "    t_array.append(ta)\n",
    "    t_array_add.append(taa)"
   ]
  },
  {
   "cell_type": "code",
   "execution_count": 6,
   "metadata": {},
   "outputs": [
    {
     "data": {
      "image/png": "[encoded data removed]",
      "text/plain": [
       "<Figure size 432x288 with 1 Axes>"
      ]
     },
     "metadata": {
      "needs_background": "light"
     },
     "output_type": "display_data"
    }
   ],
   "source": [
    "fig, ax = plt.subplots(1,1)\n",
    "ax.plot(sizes, t_numeric, 'o-', label='Inserting row-by-row')\n",
    "ax.plot(sizes, t_numeric_add, 'o-', label='Inserting row-by-row: add_result only')\n",
    "ax.plot(sizes, t_array, 'd-', label='Inserting as binary blob')\n",
    "ax.plot(sizes, t_array_add, 'd-', label='Inserting as binary blob: add_result only')\n",
    "ax.legend()\n",
    "ax.set_xlabel('Array length')\n",
    "ax.set_ylabel('Time (s)')\n",
    "fig.tight_layout()"
   ]
  },
  {
   "cell_type": "markdown",
   "metadata": {},
   "source": [
    "As shown in the latter figure, the time to setup and and close the experiment is approximately 0.4 sec. In case of small array sizes, the difference between inserting values of data as arrays and inserting them row-by-row is relatively unimportant. At larger array sizes, i.e. above 10000 points, the cost of writing data as individual datapoints starts to become important.\n"
   ]
  },
  {
   "cell_type": "markdown",
   "metadata": {},
   "source": [
    "### Case2: Long experiment time "
   ]
  },
  {
   "cell_type": "code",
   "execution_count": 7,
   "metadata": {},
   "outputs": [
    {
     "name": "stdout",
     "output_type": "stream",
     "text": [
      "Starting experimental run with id: 15. \n",
      "Starting experimental run with id: 16. \n",
      "Starting experimental run with id: 17. \n"
     ]
    },
    {
     "name": "stdout",
     "output_type": "stream",
     "text": [
      "Starting experimental run with id: 18. \n",
      "Starting experimental run with id: 19. \n"
     ]
    },
    {
     "name": "stdout",
     "output_type": "stream",
     "text": [
      "Starting experimental run with id: 20. \n"
     ]
    },
    {
     "name": "stdout",
     "output_type": "stream",
     "text": [
      "Starting experimental run with id: 21. \n"
     ]
    },
    {
     "name": "stdout",
     "output_type": "stream",
     "text": [
      "Starting experimental run with id: 22. \n"
     ]
    },
    {
     "name": "stdout",
     "output_type": "stream",
     "text": [
      "Starting experimental run with id: 23. \n"
     ]
    },
    {
     "name": "stdout",
     "output_type": "stream",
     "text": [
      "Starting experimental run with id: 24. \n"
     ]
    },
    {
     "name": "stdout",
     "output_type": "stream",
     "text": [
      "Starting experimental run with id: 25. \n"
     ]
    },
    {
     "name": "stdout",
     "output_type": "stream",
     "text": [
      "Starting experimental run with id: 26. \n"
     ]
    },
    {
     "name": "stdout",
     "output_type": "stream",
     "text": [
      "Starting experimental run with id: 27. \n"
     ]
    },
    {
     "name": "stdout",
     "output_type": "stream",
     "text": [
      "Starting experimental run with id: 28. \n"
     ]
    }
   ],
   "source": [
    "sizes = [1,500,1000,2000,3000,4000,5000]\n",
    "nreps = 100\n",
    "t_numeric = []\n",
    "t_numeric_add = []\n",
    "t_numeric_run_ids = []\n",
    "t_array = []\n",
    "t_array_add = []\n",
    "t_array_run_ids = []\n",
    "for size in sizes:\n",
    "    tn, tna, run_id_n =  insert_data('numeric', size, nreps=nreps)\n",
    "    t_numeric.append(tn)\n",
    "    t_numeric_add.append(tna)\n",
    "    t_numeric_run_ids.append(run_id_n)\n",
    "\n",
    "    ta, taa, run_id_a =  insert_data('array', size, nreps=nreps)\n",
    "    t_array.append(ta)\n",
    "    t_array_add.append(taa)\n",
    "    t_array_run_ids.append(run_id_a)"
   ]
  },
  {
   "cell_type": "code",
   "execution_count": 8,
   "metadata": {
    "scrolled": true
   },
   "outputs": [
    {
     "data": {
      "image/png": "[encoded data removed]",
      "text/plain": [
       "<Figure size 432x288 with 1 Axes>"
      ]
     },
     "metadata": {
      "needs_background": "light"
     },
     "output_type": "display_data"
    }
   ],
   "source": [
    "fig, ax = plt.subplots(1,1)\n",
    "ax.plot(sizes, t_numeric, 'o-', label='Inserting row-by-row')\n",
    "ax.plot(sizes, t_numeric_add, 'o-', label='Inserting row-by-row: add_result only')\n",
    "ax.plot(sizes, t_array, 'd-', label='Inserting as binary blob')\n",
    "ax.plot(sizes, t_array_add, 'd-', label='Inserting as binary blob: add_result only')\n",
    "ax.legend()\n",
    "ax.set_xlabel('Array length')\n",
    "ax.set_ylabel('Time (s)')\n",
    "fig.tight_layout()"
   ]
  },
  {
   "cell_type": "markdown",
   "metadata": {},
   "source": [
    "However, as we increase the length of the experiment, as seen here by repeating the insertion 100 times, we see a big difference between inserting values of the data row-by-row and inserting it as a binary blob."
   ]
  },
  {
   "cell_type": "markdown",
   "metadata": {},
   "source": [
    "## Loading the data "
   ]
  },
  {
   "cell_type": "code",
   "execution_count": 9,
   "metadata": {},
   "outputs": [],
   "source": [
    "from qcodes.dataset.data_set import load_by_id\n",
    "from qcodes.dataset.data_export import get_data_by_id"
   ]
  },
  {
   "cell_type": "markdown",
   "metadata": {},
   "source": [
    "As usual you can load the data by using the ``load_by_id`` function but you will notice that the different storage methods\n",
    "are reflected in shape of the data as it is retrieved. "
   ]
  },
  {
   "cell_type": "code",
   "execution_count": 10,
   "metadata": {},
   "outputs": [],
   "source": [
    "run_id_n = t_numeric_run_ids[0]\n",
    "run_id_a = t_array_run_ids[0]"
   ]
  },
  {
   "cell_type": "code",
   "execution_count": 11,
   "metadata": {
    "scrolled": true
   },
   "outputs": [
    {
     "data": {
      "text/plain": [
       "{'x1': {'x1': array([0.00644337, 0.00644337, 0.36779252, 0.36779252, 0.90126434,\n",
       "         0.90126434, 0.16354659, 0.16354659, 0.08078062, 0.08078062,\n",
       "         0.28272598, 0.28272598, 0.94591441, 0.94591441, 0.91212659,\n",
       "         0.91212659, 0.362297  , 0.362297  , 0.21095444, 0.21095444,\n",
       "         0.8264598 , 0.8264598 , 0.99378331, 0.99378331, 0.36753245,\n",
       "         0.36753245, 0.24394106, 0.24394106, 0.32980306, 0.32980306,\n",
       "         0.79026089, 0.79026089, 0.3267825 , 0.3267825 , 0.97230977,\n",
       "         0.97230977, 0.54440023, 0.54440023, 0.50165088, 0.50165088,\n",
       "         0.39530539, 0.39530539, 0.98079785, 0.98079785, 0.45472015,\n",
       "         0.45472015, 0.55947287, 0.55947287, 0.82844241, 0.82844241,\n",
       "         0.40038822, 0.40038822, 0.10600729, 0.10600729, 0.55111523,\n",
       "         0.55111523, 0.2270581 , 0.2270581 , 0.94556569, 0.94556569,\n",
       "         0.93741952, 0.93741952, 0.03510072, 0.03510072, 0.794225  ,\n",
       "         0.794225  , 0.33311693, 0.33311693, 0.13269235, 0.13269235,\n",
       "         0.12395053, 0.12395053, 0.86948685, 0.86948685, 0.76600931,\n",
       "         0.76600931, 0.01338712, 0.01338712, 0.56845492, 0.56845492,\n",
       "         0.86380779, 0.86380779, 0.05685089, 0.05685089, 0.5163367 ,\n",
       "         0.5163367 , 0.20945187, 0.20945187, 0.07041702, 0.07041702,\n",
       "         0.87285295, 0.87285295, 0.62149334, 0.62149334, 0.80720368,\n",
       "         0.80720368, 0.02489183, 0.02489183, 0.61827971, 0.61827971,\n",
       "         0.15686242, 0.15686242, 0.04617671, 0.04617671, 0.88074893,\n",
       "         0.88074893, 0.98545786, 0.98545786, 0.48020064, 0.48020064,\n",
       "         0.90848215, 0.90848215, 0.55503144, 0.55503144, 0.38072829,\n",
       "         0.38072829, 0.89213938, 0.89213938, 0.68313968, 0.68313968,\n",
       "         0.07169106, 0.07169106, 0.43438008, 0.43438008, 0.91106359,\n",
       "         0.91106359, 0.27302947, 0.27302947, 0.25502354, 0.25502354,\n",
       "         0.20046898, 0.20046898, 0.93374677, 0.93374677, 0.40243637,\n",
       "         0.40243637, 0.30914674, 0.30914674, 0.06242392, 0.06242392,\n",
       "         0.75050331, 0.75050331, 0.46145502, 0.46145502, 0.96631566,\n",
       "         0.96631566, 0.5797757 , 0.5797757 , 0.86592365, 0.86592365,\n",
       "         0.86009601, 0.86009601, 0.45393611, 0.45393611, 0.84570573,\n",
       "         0.84570573, 0.46718971, 0.46718971, 0.03468477, 0.03468477,\n",
       "         0.02629087, 0.02629087, 0.9210308 , 0.9210308 , 0.79809321,\n",
       "         0.79809321, 0.82894109, 0.82894109, 0.18143083, 0.18143083,\n",
       "         0.69339644, 0.69339644, 0.51632236, 0.51632236, 0.07869339,\n",
       "         0.07869339, 0.32774207, 0.32774207, 0.58067309, 0.58067309,\n",
       "         0.4914093 , 0.4914093 , 0.28055415, 0.28055415, 0.07461846,\n",
       "         0.07461846, 0.24344302, 0.24344302, 0.83786317, 0.83786317,\n",
       "         0.49003865, 0.49003865, 0.2531096 , 0.2531096 , 0.1815826 ,\n",
       "         0.1815826 , 0.02912612, 0.02912612, 0.77814305, 0.77814305])}}"
      ]
     },
     "execution_count": 11,
     "metadata": {},
     "output_type": "execute_result"
    }
   ],
   "source": [
    "ds = load_by_id(run_id_n)\n",
    "ds.get_parameter_data('x1')"
   ]
  },
  {
   "cell_type": "markdown",
   "metadata": {},
   "source": [
    "And a dataset stored as binary arrays"
   ]
  },
  {
   "cell_type": "code",
   "execution_count": 12,
   "metadata": {
    "scrolled": true
   },
   "outputs": [
    {
     "data": {
      "text/plain": [
       "{'x1': {'x1': array([[0.51305932],\n",
       "         [0.51305932],\n",
       "         [0.6585204 ],\n",
       "         [0.6585204 ],\n",
       "         [0.83020041],\n",
       "         [0.83020041],\n",
       "         [0.3809935 ],\n",
       "         [0.3809935 ],\n",
       "         [0.0624357 ],\n",
       "         [0.0624357 ],\n",
       "         [0.1634912 ],\n",
       "         [0.1634912 ],\n",
       "         [0.10863202],\n",
       "         [0.10863202],\n",
       "         [0.62307945],\n",
       "         [0.62307945],\n",
       "         [0.44727037],\n",
       "         [0.44727037],\n",
       "         [0.23633785],\n",
       "         [0.23633785],\n",
       "         [0.91086768],\n",
       "         [0.91086768],\n",
       "         [0.23820796],\n",
       "         [0.23820796],\n",
       "         [0.64526778],\n",
       "         [0.64526778],\n",
       "         [0.71782795],\n",
       "         [0.71782795],\n",
       "         [0.174496  ],\n",
       "         [0.174496  ],\n",
       "         [0.60145421],\n",
       "         [0.60145421],\n",
       "         [0.63344116],\n",
       "         [0.63344116],\n",
       "         [0.79929597],\n",
       "         [0.79929597],\n",
       "         [0.63607351],\n",
       "         [0.63607351],\n",
       "         [0.47706472],\n",
       "         [0.47706472],\n",
       "         [0.41555185],\n",
       "         [0.41555185],\n",
       "         [0.25973321],\n",
       "         [0.25973321],\n",
       "         [0.70758159],\n",
       "         [0.70758159],\n",
       "         [0.21160814],\n",
       "         [0.21160814],\n",
       "         [0.09902722],\n",
       "         [0.09902722],\n",
       "         [0.72537623],\n",
       "         [0.72537623],\n",
       "         [0.11230513],\n",
       "         [0.11230513],\n",
       "         [0.41897714],\n",
       "         [0.41897714],\n",
       "         [0.21792422],\n",
       "         [0.21792422],\n",
       "         [0.38613289],\n",
       "         [0.38613289],\n",
       "         [0.69361636],\n",
       "         [0.69361636],\n",
       "         [0.69332508],\n",
       "         [0.69332508],\n",
       "         [0.96956059],\n",
       "         [0.96956059],\n",
       "         [0.45071116],\n",
       "         [0.45071116],\n",
       "         [0.13394376],\n",
       "         [0.13394376],\n",
       "         [0.92783544],\n",
       "         [0.92783544],\n",
       "         [0.12480098],\n",
       "         [0.12480098],\n",
       "         [0.96571044],\n",
       "         [0.96571044],\n",
       "         [0.98986081],\n",
       "         [0.98986081],\n",
       "         [0.5864601 ],\n",
       "         [0.5864601 ],\n",
       "         [0.62114198],\n",
       "         [0.62114198],\n",
       "         [0.53547369],\n",
       "         [0.53547369],\n",
       "         [0.90478598],\n",
       "         [0.90478598],\n",
       "         [0.97681875],\n",
       "         [0.97681875],\n",
       "         [0.4296294 ],\n",
       "         [0.4296294 ],\n",
       "         [0.86752012],\n",
       "         [0.86752012],\n",
       "         [0.45041489],\n",
       "         [0.45041489],\n",
       "         [0.90002528],\n",
       "         [0.90002528],\n",
       "         [0.97674801],\n",
       "         [0.97674801],\n",
       "         [0.90705058],\n",
       "         [0.90705058],\n",
       "         [0.15510958],\n",
       "         [0.15510958],\n",
       "         [0.33679559],\n",
       "         [0.33679559],\n",
       "         [0.91039821],\n",
       "         [0.91039821],\n",
       "         [0.94842715],\n",
       "         [0.94842715],\n",
       "         [0.92183097],\n",
       "         [0.92183097],\n",
       "         [0.20861456],\n",
       "         [0.20861456],\n",
       "         [0.77362641],\n",
       "         [0.77362641],\n",
       "         [0.64272518],\n",
       "         [0.64272518],\n",
       "         [0.75581155],\n",
       "         [0.75581155],\n",
       "         [0.60551361],\n",
       "         [0.60551361],\n",
       "         [0.63106597],\n",
       "         [0.63106597],\n",
       "         [0.27759485],\n",
       "         [0.27759485],\n",
       "         [0.80433751],\n",
       "         [0.80433751],\n",
       "         [0.75235815],\n",
       "         [0.75235815],\n",
       "         [0.54880269],\n",
       "         [0.54880269],\n",
       "         [0.64254306],\n",
       "         [0.64254306],\n",
       "         [0.72436223],\n",
       "         [0.72436223],\n",
       "         [0.2153232 ],\n",
       "         [0.2153232 ],\n",
       "         [0.09990527],\n",
       "         [0.09990527],\n",
       "         [0.06988397],\n",
       "         [0.06988397],\n",
       "         [0.65188346],\n",
       "         [0.65188346],\n",
       "         [0.40251622],\n",
       "         [0.40251622],\n",
       "         [0.79255646],\n",
       "         [0.79255646],\n",
       "         [0.62259394],\n",
       "         [0.62259394],\n",
       "         [0.93292629],\n",
       "         [0.93292629],\n",
       "         [0.28002574],\n",
       "         [0.28002574],\n",
       "         [0.54320041],\n",
       "         [0.54320041],\n",
       "         [0.01733899],\n",
       "         [0.01733899],\n",
       "         [0.45277158],\n",
       "         [0.45277158],\n",
       "         [0.57917918],\n",
       "         [0.57917918],\n",
       "         [0.11370142],\n",
       "         [0.11370142],\n",
       "         [0.48477297],\n",
       "         [0.48477297],\n",
       "         [0.89806119],\n",
       "         [0.89806119],\n",
       "         [0.05352535],\n",
       "         [0.05352535],\n",
       "         [0.23995278],\n",
       "         [0.23995278],\n",
       "         [0.7343565 ],\n",
       "         [0.7343565 ],\n",
       "         [0.45895874],\n",
       "         [0.45895874],\n",
       "         [0.58956322],\n",
       "         [0.58956322],\n",
       "         [0.70184536],\n",
       "         [0.70184536],\n",
       "         [0.42444627],\n",
       "         [0.42444627],\n",
       "         [0.29657186],\n",
       "         [0.29657186],\n",
       "         [0.23622555],\n",
       "         [0.23622555],\n",
       "         [0.65610424],\n",
       "         [0.65610424],\n",
       "         [0.97953479],\n",
       "         [0.97953479],\n",
       "         [0.08116883],\n",
       "         [0.08116883],\n",
       "         [0.23434698],\n",
       "         [0.23434698],\n",
       "         [0.16623219],\n",
       "         [0.16623219],\n",
       "         [0.16907788],\n",
       "         [0.16907788],\n",
       "         [0.96820039],\n",
       "         [0.96820039],\n",
       "         [0.81304181],\n",
       "         [0.81304181]])}}"
      ]
     },
     "execution_count": 12,
     "metadata": {},
     "output_type": "execute_result"
    }
   ],
   "source": [
    "ds = load_by_id(run_id_a)\n",
    "ds.get_parameter_data('x1')"
   ]
  },
  {
   "cell_type": "code",
   "execution_count": null,
   "metadata": {},
   "outputs": [],
   "source": []
  }
 ],
 "metadata": {
  "kernelspec": {
   "display_name": "Python 3",
   "language": "python",
   "name": "python3"
  },
  "language_info": {
   "codemirror_mode": {
    "name": "ipython",
    "version": 3
   },
   "file_extension": ".py",
   "mimetype": "text/x-python",
   "name": "python",
   "nbconvert_exporter": "python",
   "pygments_lexer": "ipython3",
   "version": "3.7.7"
  },
  "nbsphinx": {
   "timeout": 600
  },
  "toc": {
   "base_numbering": 1,
   "nav_menu": {},
   "number_sections": true,
   "sideBar": true,
   "skip_h1_title": false,
   "title_cell": "Table of Contents",
   "title_sidebar": "Contents",
   "toc_cell": false,
   "toc_position": {},
   "toc_section_display": true,
   "toc_window_display": false
  },
  "varInspector": {
   "cols": {
    "lenName": 16,
    "lenType": 16,
    "lenVar": 40
   },
   "kernels_config": {
    "python": {
     "delete_cmd_postfix": "",
     "delete_cmd_prefix": "del ",
     "library": "var_list.py",
     "varRefreshCmd": "print(var_dic_list())"
    },
    "r": {
     "delete_cmd_postfix": ") ",
     "delete_cmd_prefix": "rm(",
     "library": "var_list.r",
     "varRefreshCmd": "cat(var_dic_list()) "
    }
   },
   "types_to_exclude": [
    "module",
    "function",
    "builtin_function_or_method",
    "instance",
    "_Feature"
   ],
   "window_display": false
  }
 },
 "nbformat": 4,
 "nbformat_minor": 2
}
