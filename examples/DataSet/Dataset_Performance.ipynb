{
 "cells": [
  {
   "cell_type": "markdown",
   "metadata": {},
   "source": [
    "# DataSet Performance\n",
    "\n",
    "This notebook shows the trade-off between inserting data into a database row-by-row and as binary blobs. Inserting the data row-by-row means that we have direct access to all the data and may perform queries directly on the values of the data. On the other hand, as we shall see, this is much slower than inserting the data directly as binary blobs."
   ]
  },
  {
   "cell_type": "markdown",
   "metadata": {},
   "source": [
    "First, we choose a new location for the database to ensure that we don't add a bunch of benchmarking data to the default one."
   ]
  },
  {
   "cell_type": "code",
   "execution_count": 1,
   "metadata": {
    "execution": {
     "iopub.execute_input": "2020-10-23T06:46:17.829995Z",
     "iopub.status.busy": "2020-10-23T06:46:17.829396Z",
     "iopub.status.idle": "2020-10-23T06:46:18.840967Z",
     "shell.execute_reply": "2020-10-23T06:46:18.840352Z"
    }
   },
   "outputs": [
    {
     "name": "stdout",
     "output_type": "stream",
     "text": [
      "Logging hadn't been started.\n",
      "Activating auto-logging. Current session state plus future input saved.\n",
      "Filename       : /home/vsts/.qcodes/logs/command_history.log\n",
      "Mode           : append\n",
      "Output logging : True\n",
      "Raw input log  : False\n",
      "Timestamping   : True\n",
      "State          : active\n"
     ]
    },
    {
     "name": "stdout",
     "output_type": "stream",
     "text": [
      "Qcodes Logfile : /home/vsts/.qcodes/logs/201023-15108-qcodes.log\n"
     ]
    }
   ],
   "source": [
    "import os\n",
    "cwd = os.getcwd()\n",
    "import qcodes as qc\n",
    "qc.config[\"core\"][\"db_location\"] = os.path.join(cwd, 'testing.db')\n"
   ]
  },
  {
   "cell_type": "code",
   "execution_count": 2,
   "metadata": {
    "execution": {
     "iopub.execute_input": "2020-10-23T06:46:18.847597Z",
     "iopub.status.busy": "2020-10-23T06:46:18.845886Z",
     "iopub.status.idle": "2020-10-23T06:46:19.018904Z",
     "shell.execute_reply": "2020-10-23T06:46:19.018129Z"
    }
   },
   "outputs": [],
   "source": [
    "%matplotlib inline\n",
    "import time\n",
    "import matplotlib.pyplot as plt\n",
    "import numpy as np\n",
    "\n",
    "import qcodes as qc\n",
    "from qcodes.instrument.parameter import ManualParameter\n",
    "from qcodes.dataset.experiment_container import (Experiment,\n",
    "                                                 load_last_experiment,\n",
    "                                                 new_experiment)\n",
    "from qcodes.dataset.sqlite.database import initialise_database\n",
    "from qcodes import load_or_create_experiment\n",
    "from qcodes.dataset.measurements import Measurement"
   ]
  },
  {
   "cell_type": "code",
   "execution_count": 3,
   "metadata": {
    "execution": {
     "iopub.execute_input": "2020-10-23T06:46:19.022685Z",
     "iopub.status.busy": "2020-10-23T06:46:19.021972Z",
     "iopub.status.idle": "2020-10-23T06:46:19.135739Z",
     "shell.execute_reply": "2020-10-23T06:46:19.135197Z"
    }
   },
   "outputs": [
    {
     "name": "stdout",
     "output_type": "stream",
     "text": [
      "\r",
      "0it [00:00, ?it/s]"
     ]
    },
    {
     "name": "stdout",
     "output_type": "stream",
     "text": [
      "\r",
      "Upgrading database; v0 -> v1: : 0it [00:00, ?it/s]"
     ]
    },
    {
     "name": "stdout",
     "output_type": "stream",
     "text": [
      "\r",
      "Upgrading database; v0 -> v1: : 0it [00:00, ?it/s]"
     ]
    },
    {
     "name": "stdout",
     "output_type": "stream",
     "text": [
      "\n",
      "\r",
      "  0%|          | 0/1 [00:00<?, ?it/s]"
     ]
    },
    {
     "name": "stdout",
     "output_type": "stream",
     "text": [
      "\r",
      "Upgrading database; v1 -> v2:   0%|          | 0/1 [00:00<?, ?it/s]"
     ]
    },
    {
     "name": "stdout",
     "output_type": "stream",
     "text": [
      "\r",
      "Upgrading database; v1 -> v2: 100%|██████████| 1/1 [00:00<00:00, 590.83it/s]"
     ]
    },
    {
     "name": "stdout",
     "output_type": "stream",
     "text": [
      "\n",
      "\r",
      "0it [00:00, ?it/s]"
     ]
    },
    {
     "name": "stdout",
     "output_type": "stream",
     "text": [
      "\r",
      "Upgrading database; v2 -> v3: : 0it [00:00, ?it/s]"
     ]
    },
    {
     "name": "stdout",
     "output_type": "stream",
     "text": [
      "\r",
      "Upgrading database; v2 -> v3: : 0it [00:00, ?it/s]"
     ]
    },
    {
     "name": "stdout",
     "output_type": "stream",
     "text": [
      "\n",
      "\r",
      "0it [00:00, ?it/s]"
     ]
    },
    {
     "name": "stdout",
     "output_type": "stream",
     "text": [
      "\r",
      "Upgrading database; v3 -> v4: : 0it [00:00, ?it/s]"
     ]
    },
    {
     "name": "stdout",
     "output_type": "stream",
     "text": [
      "\r",
      "Upgrading database; v3 -> v4: : 0it [00:00, ?it/s]"
     ]
    },
    {
     "name": "stdout",
     "output_type": "stream",
     "text": [
      "\n",
      "\r",
      "  0%|          | 0/1 [00:00<?, ?it/s]"
     ]
    },
    {
     "name": "stdout",
     "output_type": "stream",
     "text": [
      "\r",
      "Upgrading database; v4 -> v5:   0%|          | 0/1 [00:00<?, ?it/s]"
     ]
    },
    {
     "name": "stdout",
     "output_type": "stream",
     "text": [
      "\r",
      "Upgrading database; v4 -> v5: 100%|██████████| 1/1 [00:00<00:00, 609.81it/s]"
     ]
    },
    {
     "name": "stdout",
     "output_type": "stream",
     "text": [
      "\n",
      "\r",
      "0it [00:00, ?it/s]"
     ]
    },
    {
     "name": "stdout",
     "output_type": "stream",
     "text": [
      "\r",
      "Upgrading database; v5 -> v6: : 0it [00:00, ?it/s]"
     ]
    },
    {
     "name": "stdout",
     "output_type": "stream",
     "text": [
      "\r",
      "Upgrading database; v5 -> v6: : 0it [00:00, ?it/s]"
     ]
    },
    {
     "name": "stdout",
     "output_type": "stream",
     "text": [
      "\n",
      "\r",
      "  0%|          | 0/1 [00:00<?, ?it/s]"
     ]
    },
    {
     "name": "stdout",
     "output_type": "stream",
     "text": [
      "\r",
      "Upgrading database; v6 -> v7:   0%|          | 0/1 [00:00<?, ?it/s]"
     ]
    },
    {
     "name": "stdout",
     "output_type": "stream",
     "text": [
      "\r",
      "Upgrading database; v6 -> v7: 100%|██████████| 1/1 [00:00<00:00, 317.49it/s]"
     ]
    },
    {
     "name": "stdout",
     "output_type": "stream",
     "text": [
      "\n",
      "\r",
      "  0%|          | 0/1 [00:00<?, ?it/s]"
     ]
    },
    {
     "name": "stdout",
     "output_type": "stream",
     "text": [
      "\r",
      "Upgrading database; v7 -> v8:   0%|          | 0/1 [00:00<?, ?it/s]"
     ]
    },
    {
     "name": "stdout",
     "output_type": "stream",
     "text": [
      "\r",
      "Upgrading database; v7 -> v8: 100%|██████████| 1/1 [00:00<00:00, 831.71it/s]"
     ]
    },
    {
     "name": "stdout",
     "output_type": "stream",
     "text": [
      "\n",
      "\r",
      "  0%|          | 0/1 [00:00<?, ?it/s]"
     ]
    },
    {
     "name": "stdout",
     "output_type": "stream",
     "text": [
      "\r",
      "Upgrading database; v8 -> v9:   0%|          | 0/1 [00:00<?, ?it/s]"
     ]
    },
    {
     "name": "stdout",
     "output_type": "stream",
     "text": [
      "\r",
      "Upgrading database; v8 -> v9: 100%|██████████| 1/1 [00:00<00:00, 399.38it/s]"
     ]
    },
    {
     "name": "stdout",
     "output_type": "stream",
     "text": [
      "\n"
     ]
    }
   ],
   "source": [
    "initialise_database()\n",
    "exp = load_or_create_experiment(experiment_name='tutorial_exp', sample_name=\"no sample\")"
   ]
  },
  {
   "cell_type": "markdown",
   "metadata": {},
   "source": [
    "Here, we define a simple function to benchmark the time it takes to insert n points with either numeric or array data type.\n",
    "We will compare both the time used to call ``add_result`` and the time used for the full measurement."
   ]
  },
  {
   "cell_type": "code",
   "execution_count": 4,
   "metadata": {
    "execution": {
     "iopub.execute_input": "2020-10-23T06:46:19.143589Z",
     "iopub.status.busy": "2020-10-23T06:46:19.143063Z",
     "iopub.status.idle": "2020-10-23T06:46:19.146656Z",
     "shell.execute_reply": "2020-10-23T06:46:19.146129Z"
    }
   },
   "outputs": [],
   "source": [
    "def insert_data(paramtype, npoints, nreps=1):\n",
    "\n",
    "    meas = Measurement(exp=exp)\n",
    "\n",
    "    x1 = ManualParameter('x1')\n",
    "    x2 = ManualParameter('x2')\n",
    "    x3 = ManualParameter('x3')\n",
    "    y1 = ManualParameter('y1')\n",
    "    y2 = ManualParameter('y2')\n",
    "\n",
    "    meas.register_parameter(x1, paramtype=paramtype)\n",
    "    meas.register_parameter(x2, paramtype=paramtype)\n",
    "    meas.register_parameter(x3, paramtype=paramtype)\n",
    "    meas.register_parameter(y1, setpoints=[x1, x2, x3],\n",
    "                            paramtype=paramtype)\n",
    "    meas.register_parameter(y2, setpoints=[x1, x2, x3],\n",
    "                            paramtype=paramtype)\n",
    "    start = time.perf_counter()\n",
    "    with meas.run() as datasaver:\n",
    "        start_adding = time.perf_counter()\n",
    "        for i in range(nreps):\n",
    "            datasaver.add_result((x1, np.random.rand(npoints)),\n",
    "                                 (x2, np.random.rand(npoints)),\n",
    "                                 (x3, np.random.rand(npoints)),\n",
    "                                 (y1, np.random.rand(npoints)),\n",
    "                                 (y2, np.random.rand(npoints)))\n",
    "        stop_adding = time.perf_counter()\n",
    "        run_id = datasaver.run_id\n",
    "    stop = time.perf_counter()\n",
    "    tot_time = stop - start\n",
    "    add_time = stop_adding - start_adding\n",
    "    return tot_time, add_time, run_id"
   ]
  },
  {
   "cell_type": "markdown",
   "metadata": {},
   "source": [
    "## Comparison between numeric/array data and binary blob"
   ]
  },
  {
   "cell_type": "markdown",
   "metadata": {},
   "source": [
    "### Case1: Short experiment time"
   ]
  },
  {
   "cell_type": "code",
   "execution_count": 5,
   "metadata": {
    "execution": {
     "iopub.execute_input": "2020-10-23T06:46:19.152447Z",
     "iopub.status.busy": "2020-10-23T06:46:19.151657Z",
     "iopub.status.idle": "2020-10-23T06:46:19.968660Z",
     "shell.execute_reply": "2020-10-23T06:46:19.968159Z"
    }
   },
   "outputs": [
    {
     "name": "stdout",
     "output_type": "stream",
     "text": [
      "Starting experimental run with id: 1. \n",
      "Starting experimental run with id: 2. \n",
      "Starting experimental run with id: 3. \n",
      "Starting experimental run with id: 4. \n",
      "Starting experimental run with id: 5. \n"
     ]
    },
    {
     "name": "stdout",
     "output_type": "stream",
     "text": [
      "Starting experimental run with id: 6. \n"
     ]
    },
    {
     "name": "stdout",
     "output_type": "stream",
     "text": [
      "Starting experimental run with id: 7. \n"
     ]
    },
    {
     "name": "stdout",
     "output_type": "stream",
     "text": [
      "Starting experimental run with id: 8. \n",
      "Starting experimental run with id: 9. \n"
     ]
    },
    {
     "name": "stdout",
     "output_type": "stream",
     "text": [
      "Starting experimental run with id: 10. \n",
      "Starting experimental run with id: 11. \n"
     ]
    },
    {
     "name": "stdout",
     "output_type": "stream",
     "text": [
      "Starting experimental run with id: 12. \n",
      "Starting experimental run with id: 13. \n"
     ]
    },
    {
     "name": "stdout",
     "output_type": "stream",
     "text": [
      "Starting experimental run with id: 14. \n"
     ]
    }
   ],
   "source": [
    "sizes = [1,500,1000,2000,3000,4000,5000]\n",
    "t_numeric = []\n",
    "t_numeric_add = []\n",
    "t_array = []\n",
    "t_array_add = []\n",
    "for size in sizes:\n",
    "    tn, tna, run_id_n =  insert_data('numeric', size)\n",
    "    t_numeric.append(tn)\n",
    "    t_numeric_add.append(tna)\n",
    "\n",
    "    ta, taa, run_id_a =  insert_data('array', size)\n",
    "    t_array.append(ta)\n",
    "    t_array_add.append(taa)"
   ]
  },
  {
   "cell_type": "code",
   "execution_count": 6,
   "metadata": {
    "execution": {
     "iopub.execute_input": "2020-10-23T06:46:19.988286Z",
     "iopub.status.busy": "2020-10-23T06:46:19.985175Z",
     "iopub.status.idle": "2020-10-23T06:46:20.193046Z",
     "shell.execute_reply": "2020-10-23T06:46:20.193677Z"
    }
   },
   "outputs": [
    {
     "data": {
      "image/png": "[encoded data removed]",
      "text/plain": [
       "<Figure size 432x288 with 1 Axes>"
      ]
     },
     "metadata": {
      "needs_background": "light"
     },
     "output_type": "display_data"
    }
   ],
   "source": [
    "fig, ax = plt.subplots(1,1)\n",
    "ax.plot(sizes, t_numeric, 'o-', label='Inserting row-by-row')\n",
    "ax.plot(sizes, t_numeric_add, 'o-', label='Inserting row-by-row: add_result only')\n",
    "ax.plot(sizes, t_array, 'd-', label='Inserting as binary blob')\n",
    "ax.plot(sizes, t_array_add, 'd-', label='Inserting as binary blob: add_result only')\n",
    "ax.legend()\n",
    "ax.set_xlabel('Array length')\n",
    "ax.set_ylabel('Time (s)')\n",
    "fig.tight_layout()"
   ]
  },
  {
   "cell_type": "markdown",
   "metadata": {},
   "source": [
    "As shown in the latter figure, the time to setup and and close the experiment is approximately 0.4 sec. In case of small array sizes, the difference between inserting values of data as arrays and inserting them row-by-row is relatively unimportant. At larger array sizes, i.e. above 10000 points, the cost of writing data as individual datapoints starts to become important.\n"
   ]
  },
  {
   "cell_type": "markdown",
   "metadata": {},
   "source": [
    "### Case2: Long experiment time "
   ]
  },
  {
   "cell_type": "code",
   "execution_count": 7,
   "metadata": {
    "execution": {
     "iopub.execute_input": "2020-10-23T06:46:20.199931Z",
     "iopub.status.busy": "2020-10-23T06:46:20.199379Z",
     "iopub.status.idle": "2020-10-23T06:47:18.455559Z",
     "shell.execute_reply": "2020-10-23T06:47:18.454545Z"
    }
   },
   "outputs": [
    {
     "name": "stdout",
     "output_type": "stream",
     "text": [
      "Starting experimental run with id: 15. \n",
      "Starting experimental run with id: 16. \n",
      "Starting experimental run with id: 17. \n"
     ]
    },
    {
     "name": "stdout",
     "output_type": "stream",
     "text": [
      "Starting experimental run with id: 18. \n",
      "Starting experimental run with id: 19. \n"
     ]
    },
    {
     "name": "stdout",
     "output_type": "stream",
     "text": [
      "Starting experimental run with id: 20. \n"
     ]
    },
    {
     "name": "stdout",
     "output_type": "stream",
     "text": [
      "Starting experimental run with id: 21. \n"
     ]
    },
    {
     "name": "stdout",
     "output_type": "stream",
     "text": [
      "Starting experimental run with id: 22. \n"
     ]
    },
    {
     "name": "stdout",
     "output_type": "stream",
     "text": [
      "Starting experimental run with id: 23. \n"
     ]
    },
    {
     "name": "stdout",
     "output_type": "stream",
     "text": [
      "Starting experimental run with id: 24. \n"
     ]
    },
    {
     "name": "stdout",
     "output_type": "stream",
     "text": [
      "Starting experimental run with id: 25. \n"
     ]
    },
    {
     "name": "stdout",
     "output_type": "stream",
     "text": [
      "Starting experimental run with id: 26. \n"
     ]
    },
    {
     "name": "stdout",
     "output_type": "stream",
     "text": [
      "Starting experimental run with id: 27. \n"
     ]
    },
    {
     "name": "stdout",
     "output_type": "stream",
     "text": [
      "Starting experimental run with id: 28. \n"
     ]
    }
   ],
   "source": [
    "sizes = [1,500,1000,2000,3000,4000,5000]\n",
    "nreps = 100\n",
    "t_numeric = []\n",
    "t_numeric_add = []\n",
    "t_numeric_run_ids = []\n",
    "t_array = []\n",
    "t_array_add = []\n",
    "t_array_run_ids = []\n",
    "for size in sizes:\n",
    "    tn, tna, run_id_n =  insert_data('numeric', size, nreps=nreps)\n",
    "    t_numeric.append(tn)\n",
    "    t_numeric_add.append(tna)\n",
    "    t_numeric_run_ids.append(run_id_n)\n",
    "\n",
    "    ta, taa, run_id_a =  insert_data('array', size, nreps=nreps)\n",
    "    t_array.append(ta)\n",
    "    t_array_add.append(taa)\n",
    "    t_array_run_ids.append(run_id_a)"
   ]
  },
  {
   "cell_type": "code",
   "execution_count": 8,
   "metadata": {
    "execution": {
     "iopub.execute_input": "2020-10-23T06:47:18.476918Z",
     "iopub.status.busy": "2020-10-23T06:47:18.474781Z",
     "iopub.status.idle": "2020-10-23T06:47:18.685466Z",
     "shell.execute_reply": "2020-10-23T06:47:18.685015Z"
    },
    "scrolled": true
   },
   "outputs": [
    {
     "data": {
      "image/png": "[encoded data removed]",
      "text/plain": [
       "<Figure size 432x288 with 1 Axes>"
      ]
     },
     "metadata": {
      "needs_background": "light"
     },
     "output_type": "display_data"
    }
   ],
   "source": [
    "fig, ax = plt.subplots(1,1)\n",
    "ax.plot(sizes, t_numeric, 'o-', label='Inserting row-by-row')\n",
    "ax.plot(sizes, t_numeric_add, 'o-', label='Inserting row-by-row: add_result only')\n",
    "ax.plot(sizes, t_array, 'd-', label='Inserting as binary blob')\n",
    "ax.plot(sizes, t_array_add, 'd-', label='Inserting as binary blob: add_result only')\n",
    "ax.legend()\n",
    "ax.set_xlabel('Array length')\n",
    "ax.set_ylabel('Time (s)')\n",
    "fig.tight_layout()"
   ]
  },
  {
   "cell_type": "markdown",
   "metadata": {},
   "source": [
    "However, as we increase the length of the experiment, as seen here by repeating the insertion 100 times, we see a big difference between inserting values of the data row-by-row and inserting it as a binary blob."
   ]
  },
  {
   "cell_type": "markdown",
   "metadata": {},
   "source": [
    "## Loading the data "
   ]
  },
  {
   "cell_type": "code",
   "execution_count": 9,
   "metadata": {
    "execution": {
     "iopub.execute_input": "2020-10-23T06:47:18.689140Z",
     "iopub.status.busy": "2020-10-23T06:47:18.688246Z",
     "iopub.status.idle": "2020-10-23T06:47:18.692033Z",
     "shell.execute_reply": "2020-10-23T06:47:18.691500Z"
    }
   },
   "outputs": [],
   "source": [
    "from qcodes.dataset.data_set import load_by_id\n",
    "from qcodes.dataset.data_export import get_data_by_id"
   ]
  },
  {
   "cell_type": "markdown",
   "metadata": {},
   "source": [
    "As usual you can load the data by using the ``load_by_id`` function but you will notice that the different storage methods\n",
    "are reflected in shape of the data as it is retrieved. "
   ]
  },
  {
   "cell_type": "code",
   "execution_count": 10,
   "metadata": {
    "execution": {
     "iopub.execute_input": "2020-10-23T06:47:18.695640Z",
     "iopub.status.busy": "2020-10-23T06:47:18.695140Z",
     "iopub.status.idle": "2020-10-23T06:47:18.698751Z",
     "shell.execute_reply": "2020-10-23T06:47:18.698227Z"
    }
   },
   "outputs": [],
   "source": [
    "run_id_n = t_numeric_run_ids[0]\n",
    "run_id_a = t_array_run_ids[0]"
   ]
  },
  {
   "cell_type": "code",
   "execution_count": 11,
   "metadata": {
    "execution": {
     "iopub.execute_input": "2020-10-23T06:47:18.701729Z",
     "iopub.status.busy": "2020-10-23T06:47:18.701223Z",
     "iopub.status.idle": "2020-10-23T06:47:18.711955Z",
     "shell.execute_reply": "2020-10-23T06:47:18.711219Z"
    },
    "scrolled": true
   },
   "outputs": [
    {
     "data": {
      "text/plain": [
       "{'x1': {'x1': array([0.77967953, 0.77967953, 0.55733886, 0.55733886, 0.95968328,\n",
       "         0.95968328, 0.22961222, 0.22961222, 0.29580098, 0.29580098,\n",
       "         0.34805069, 0.34805069, 0.91852757, 0.91852757, 0.81216817,\n",
       "         0.81216817, 0.46198011, 0.46198011, 0.58701375, 0.58701375,\n",
       "         0.1315441 , 0.1315441 , 0.82934408, 0.82934408, 0.2224289 ,\n",
       "         0.2224289 , 0.49528871, 0.49528871, 0.40285327, 0.40285327,\n",
       "         0.31101536, 0.31101536, 0.41536841, 0.41536841, 0.89884406,\n",
       "         0.89884406, 0.37866337, 0.37866337, 0.74894716, 0.74894716,\n",
       "         0.22885419, 0.22885419, 0.11666662, 0.11666662, 0.14975072,\n",
       "         0.14975072, 0.82326452, 0.82326452, 0.26403046, 0.26403046,\n",
       "         0.07448576, 0.07448576, 0.5163204 , 0.5163204 , 0.94704897,\n",
       "         0.94704897, 0.76031752, 0.76031752, 0.61564589, 0.61564589,\n",
       "         0.21195978, 0.21195978, 0.45156067, 0.45156067, 0.76517799,\n",
       "         0.76517799, 0.00896364, 0.00896364, 0.91798692, 0.91798692,\n",
       "         0.0315547 , 0.0315547 , 0.24739231, 0.24739231, 0.35424022,\n",
       "         0.35424022, 0.78415084, 0.78415084, 0.05703747, 0.05703747,\n",
       "         0.10772053, 0.10772053, 0.48099906, 0.48099906, 0.83377232,\n",
       "         0.83377232, 0.75946566, 0.75946566, 0.00264733, 0.00264733,\n",
       "         0.84589894, 0.84589894, 0.11434989, 0.11434989, 0.27272724,\n",
       "         0.27272724, 0.26504716, 0.26504716, 0.57223546, 0.57223546,\n",
       "         0.67028681, 0.67028681, 0.77759629, 0.77759629, 0.52467908,\n",
       "         0.52467908, 0.00298264, 0.00298264, 0.25314522, 0.25314522,\n",
       "         0.06231637, 0.06231637, 0.69603579, 0.69603579, 0.45091649,\n",
       "         0.45091649, 0.67956763, 0.67956763, 0.5186031 , 0.5186031 ,\n",
       "         0.5179863 , 0.5179863 , 0.15666475, 0.15666475, 0.21093117,\n",
       "         0.21093117, 0.55417566, 0.55417566, 0.73993192, 0.73993192,\n",
       "         0.32861335, 0.32861335, 0.44114663, 0.44114663, 0.76832484,\n",
       "         0.76832484, 0.29904414, 0.29904414, 0.48595752, 0.48595752,\n",
       "         0.52873999, 0.52873999, 0.60846292, 0.60846292, 0.79743126,\n",
       "         0.79743126, 0.15402311, 0.15402311, 0.18785087, 0.18785087,\n",
       "         0.39998288, 0.39998288, 0.32445538, 0.32445538, 0.50558094,\n",
       "         0.50558094, 0.1604453 , 0.1604453 , 0.17381434, 0.17381434,\n",
       "         0.78195431, 0.78195431, 0.73083562, 0.73083562, 0.94305468,\n",
       "         0.94305468, 0.76612113, 0.76612113, 0.32702914, 0.32702914,\n",
       "         0.69430622, 0.69430622, 0.10950454, 0.10950454, 0.83160795,\n",
       "         0.83160795, 0.02659288, 0.02659288, 0.17992334, 0.17992334,\n",
       "         0.52934686, 0.52934686, 0.11745585, 0.11745585, 0.09305802,\n",
       "         0.09305802, 0.72473922, 0.72473922, 0.24203958, 0.24203958,\n",
       "         0.82504149, 0.82504149, 0.24194045, 0.24194045, 0.3165001 ,\n",
       "         0.3165001 , 0.51812472, 0.51812472, 0.63044194, 0.63044194])}}"
      ]
     },
     "execution_count": 1,
     "metadata": {},
     "output_type": "execute_result"
    }
   ],
   "source": [
    "ds = load_by_id(run_id_n)\n",
    "ds.get_parameter_data('x1')"
   ]
  },
  {
   "cell_type": "markdown",
   "metadata": {},
   "source": [
    "And a dataset stored as binary arrays"
   ]
  },
  {
   "cell_type": "code",
   "execution_count": 12,
   "metadata": {
    "execution": {
     "iopub.execute_input": "2020-10-23T06:47:18.715686Z",
     "iopub.status.busy": "2020-10-23T06:47:18.715188Z",
     "iopub.status.idle": "2020-10-23T06:47:18.772910Z",
     "shell.execute_reply": "2020-10-23T06:47:18.772250Z"
    },
    "scrolled": true
   },
   "outputs": [
    {
     "data": {
      "text/plain": [
       "{'x1': {'x1': array([[0.5963244 ],\n",
       "         [0.5963244 ],\n",
       "         [0.89419555],\n",
       "         [0.89419555],\n",
       "         [0.19912075],\n",
       "         [0.19912075],\n",
       "         [0.18937607],\n",
       "         [0.18937607],\n",
       "         [0.13681285],\n",
       "         [0.13681285],\n",
       "         [0.65391711],\n",
       "         [0.65391711],\n",
       "         [0.80170423],\n",
       "         [0.80170423],\n",
       "         [0.30534972],\n",
       "         [0.30534972],\n",
       "         [0.5488758 ],\n",
       "         [0.5488758 ],\n",
       "         [0.15158135],\n",
       "         [0.15158135],\n",
       "         [0.60454432],\n",
       "         [0.60454432],\n",
       "         [0.19533047],\n",
       "         [0.19533047],\n",
       "         [0.57402102],\n",
       "         [0.57402102],\n",
       "         [0.92497128],\n",
       "         [0.92497128],\n",
       "         [0.68930136],\n",
       "         [0.68930136],\n",
       "         [0.21765726],\n",
       "         [0.21765726],\n",
       "         [0.05153233],\n",
       "         [0.05153233],\n",
       "         [0.92298678],\n",
       "         [0.92298678],\n",
       "         [0.23018476],\n",
       "         [0.23018476],\n",
       "         [0.19307346],\n",
       "         [0.19307346],\n",
       "         [0.45328222],\n",
       "         [0.45328222],\n",
       "         [0.80231247],\n",
       "         [0.80231247],\n",
       "         [0.57627456],\n",
       "         [0.57627456],\n",
       "         [0.68703698],\n",
       "         [0.68703698],\n",
       "         [0.82991192],\n",
       "         [0.82991192],\n",
       "         [0.29873756],\n",
       "         [0.29873756],\n",
       "         [0.75106947],\n",
       "         [0.75106947],\n",
       "         [0.19838992],\n",
       "         [0.19838992],\n",
       "         [0.15376143],\n",
       "         [0.15376143],\n",
       "         [0.44560683],\n",
       "         [0.44560683],\n",
       "         [0.26300657],\n",
       "         [0.26300657],\n",
       "         [0.29644406],\n",
       "         [0.29644406],\n",
       "         [0.87127502],\n",
       "         [0.87127502],\n",
       "         [0.02915541],\n",
       "         [0.02915541],\n",
       "         [0.98309064],\n",
       "         [0.98309064],\n",
       "         [0.41432677],\n",
       "         [0.41432677],\n",
       "         [0.68200865],\n",
       "         [0.68200865],\n",
       "         [0.84411097],\n",
       "         [0.84411097],\n",
       "         [0.27500019],\n",
       "         [0.27500019],\n",
       "         [0.76248198],\n",
       "         [0.76248198],\n",
       "         [0.50055723],\n",
       "         [0.50055723],\n",
       "         [0.94378531],\n",
       "         [0.94378531],\n",
       "         [0.35819627],\n",
       "         [0.35819627],\n",
       "         [0.33460828],\n",
       "         [0.33460828],\n",
       "         [0.48648415],\n",
       "         [0.48648415],\n",
       "         [0.34614509],\n",
       "         [0.34614509],\n",
       "         [0.81836848],\n",
       "         [0.81836848],\n",
       "         [0.41917758],\n",
       "         [0.41917758],\n",
       "         [0.02331299],\n",
       "         [0.02331299],\n",
       "         [0.72615186],\n",
       "         [0.72615186],\n",
       "         [0.85594668],\n",
       "         [0.85594668],\n",
       "         [0.94044495],\n",
       "         [0.94044495],\n",
       "         [0.8871036 ],\n",
       "         [0.8871036 ],\n",
       "         [0.15466517],\n",
       "         [0.15466517],\n",
       "         [0.52611333],\n",
       "         [0.52611333],\n",
       "         [0.12140616],\n",
       "         [0.12140616],\n",
       "         [0.4430813 ],\n",
       "         [0.4430813 ],\n",
       "         [0.64037733],\n",
       "         [0.64037733],\n",
       "         [0.63456209],\n",
       "         [0.63456209],\n",
       "         [0.97638643],\n",
       "         [0.97638643],\n",
       "         [0.02938916],\n",
       "         [0.02938916],\n",
       "         [0.16011069],\n",
       "         [0.16011069],\n",
       "         [0.0357982 ],\n",
       "         [0.0357982 ],\n",
       "         [0.540705  ],\n",
       "         [0.540705  ],\n",
       "         [0.46031805],\n",
       "         [0.46031805],\n",
       "         [0.11265774],\n",
       "         [0.11265774],\n",
       "         [0.79693475],\n",
       "         [0.79693475],\n",
       "         [0.5673772 ],\n",
       "         [0.5673772 ],\n",
       "         [0.63792441],\n",
       "         [0.63792441],\n",
       "         [0.26514106],\n",
       "         [0.26514106],\n",
       "         [0.76533987],\n",
       "         [0.76533987],\n",
       "         [0.85733423],\n",
       "         [0.85733423],\n",
       "         [0.24159289],\n",
       "         [0.24159289],\n",
       "         [0.11009525],\n",
       "         [0.11009525],\n",
       "         [0.47380207],\n",
       "         [0.47380207],\n",
       "         [0.29512128],\n",
       "         [0.29512128],\n",
       "         [0.95675676],\n",
       "         [0.95675676],\n",
       "         [0.77337672],\n",
       "         [0.77337672],\n",
       "         [0.37613171],\n",
       "         [0.37613171],\n",
       "         [0.69940633],\n",
       "         [0.69940633],\n",
       "         [0.9320786 ],\n",
       "         [0.9320786 ],\n",
       "         [0.49071599],\n",
       "         [0.49071599],\n",
       "         [0.16065706],\n",
       "         [0.16065706],\n",
       "         [0.23343804],\n",
       "         [0.23343804],\n",
       "         [0.24901232],\n",
       "         [0.24901232],\n",
       "         [0.50355047],\n",
       "         [0.50355047],\n",
       "         [0.93617045],\n",
       "         [0.93617045],\n",
       "         [0.78258477],\n",
       "         [0.78258477],\n",
       "         [0.66508571],\n",
       "         [0.66508571],\n",
       "         [0.62597077],\n",
       "         [0.62597077],\n",
       "         [0.80173473],\n",
       "         [0.80173473],\n",
       "         [0.33574658],\n",
       "         [0.33574658],\n",
       "         [0.59468684],\n",
       "         [0.59468684],\n",
       "         [0.25661771],\n",
       "         [0.25661771],\n",
       "         [0.29598607],\n",
       "         [0.29598607],\n",
       "         [0.79080364],\n",
       "         [0.79080364],\n",
       "         [0.00828334],\n",
       "         [0.00828334],\n",
       "         [0.80238116],\n",
       "         [0.80238116],\n",
       "         [0.88513568],\n",
       "         [0.88513568],\n",
       "         [0.32024342],\n",
       "         [0.32024342]])}}"
      ]
     },
     "execution_count": 1,
     "metadata": {},
     "output_type": "execute_result"
    }
   ],
   "source": [
    "ds = load_by_id(run_id_a)\n",
    "ds.get_parameter_data('x1')"
   ]
  },
  {
   "cell_type": "code",
   "execution_count": null,
   "metadata": {},
   "outputs": [],
   "source": []
  }
 ],
 "metadata": {
  "kernelspec": {
   "display_name": "Python 3",
   "language": "python",
   "name": "python3"
  },
  "language_info": {
   "codemirror_mode": {
    "name": "ipython",
    "version": 3
   },
   "file_extension": ".py",
   "mimetype": "text/x-python",
   "name": "python",
   "nbconvert_exporter": "python",
   "pygments_lexer": "ipython3",
   "version": "3.7.7"
  },
  "nbsphinx": {
   "timeout": 600
  },
  "toc": {
   "base_numbering": 1,
   "nav_menu": {},
   "number_sections": true,
   "sideBar": true,
   "skip_h1_title": false,
   "title_cell": "Table of Contents",
   "title_sidebar": "Contents",
   "toc_cell": false,
   "toc_position": {},
   "toc_section_display": true,
   "toc_window_display": false
  },
  "varInspector": {
   "cols": {
    "lenName": 16,
    "lenType": 16,
    "lenVar": 40
   },
   "kernels_config": {
    "python": {
     "delete_cmd_postfix": "",
     "delete_cmd_prefix": "del ",
     "library": "var_list.py",
     "varRefreshCmd": "print(var_dic_list())"
    },
    "r": {
     "delete_cmd_postfix": ") ",
     "delete_cmd_prefix": "rm(",
     "library": "var_list.r",
     "varRefreshCmd": "cat(var_dic_list()) "
    }
   },
   "types_to_exclude": [
    "module",
    "function",
    "builtin_function_or_method",
    "instance",
    "_Feature"
   ],
   "window_display": false
  }
 },
 "nbformat": 4,
 "nbformat_minor": 2
}
