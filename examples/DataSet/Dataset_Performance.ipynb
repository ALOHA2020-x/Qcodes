{
 "cells": [
  {
   "cell_type": "markdown",
   "metadata": {},
   "source": [
    "# DataSet Performance\n",
    "\n",
    "This notebook shows the trade-off between inserting data into a database row-by-row and as binary blobs. Inserting the data row-by-row means that we have direct access to all the data and may perform queries directly on the values of the data. On the other hand, as we shall see, this is much slower than inserting the data directly as binary blobs."
   ]
  },
  {
   "cell_type": "markdown",
   "metadata": {},
   "source": [
    "First, we choose a new location for the database to ensure that we don't add a bunch of benchmarking data to the default one."
   ]
  },
  {
   "cell_type": "code",
   "execution_count": 1,
   "metadata": {},
   "outputs": [
    {
     "name": "stdout",
     "output_type": "stream",
     "text": [
      "Logging hadn't been started.\n",
      "Activating auto-logging. Current session state plus future input saved.\n",
      "Filename       : /home/vsts/.qcodes/logs/command_history.log\n",
      "Mode           : append\n",
      "Output logging : True\n",
      "Raw input log  : False\n",
      "Timestamping   : True\n",
      "State          : active\n"
     ]
    },
    {
     "name": "stdout",
     "output_type": "stream",
     "text": [
      "Qcodes Logfile : /home/vsts/.qcodes/logs/200219-21823-qcodes.log\n"
     ]
    }
   ],
   "source": [
    "import os\n",
    "cwd = os.getcwd()\n",
    "import qcodes as qc\n",
    "qc.config[\"core\"][\"db_location\"] = os.path.join(cwd, 'testing.db')\n"
   ]
  },
  {
   "cell_type": "code",
   "execution_count": 2,
   "metadata": {},
   "outputs": [],
   "source": [
    "%matplotlib inline\n",
    "import time\n",
    "import matplotlib.pyplot as plt\n",
    "import numpy as np\n",
    "\n",
    "import qcodes as qc\n",
    "from qcodes.instrument.parameter import ManualParameter\n",
    "from qcodes.dataset.experiment_container import (Experiment,\n",
    "                                                 load_last_experiment,\n",
    "                                                 new_experiment)\n",
    "from qcodes.dataset.sqlite.database import initialise_database\n",
    "from qcodes import load_or_create_experiment\n",
    "from qcodes.dataset.measurements import Measurement"
   ]
  },
  {
   "cell_type": "code",
   "execution_count": 3,
   "metadata": {},
   "outputs": [
    {
     "name": "stdout",
     "output_type": "stream",
     "text": [
      "\r",
      "0it [00:00, ?it/s]"
     ]
    },
    {
     "name": "stdout",
     "output_type": "stream",
     "text": [
      "\r",
      "Upgrading database; v0 -> v1: : 0it [00:00, ?it/s]"
     ]
    },
    {
     "name": "stdout",
     "output_type": "stream",
     "text": [
      "\r",
      "Upgrading database; v0 -> v1: : 0it [00:00, ?it/s]"
     ]
    },
    {
     "name": "stdout",
     "output_type": "stream",
     "text": [
      "\n",
      "\r",
      "  0%|          | 0/1 [00:00<?, ?it/s]"
     ]
    },
    {
     "name": "stdout",
     "output_type": "stream",
     "text": [
      "\r",
      "Upgrading database; v1 -> v2:   0%|          | 0/1 [00:00<?, ?it/s]"
     ]
    },
    {
     "name": "stdout",
     "output_type": "stream",
     "text": [
      "\r",
      "Upgrading database; v1 -> v2: 100%|██████████| 1/1 [00:00<00:00, 724.78it/s]"
     ]
    },
    {
     "name": "stdout",
     "output_type": "stream",
     "text": [
      "\n",
      "\r",
      "0it [00:00, ?it/s]"
     ]
    },
    {
     "name": "stdout",
     "output_type": "stream",
     "text": [
      "\r",
      "Upgrading database; v2 -> v3: : 0it [00:00, ?it/s]"
     ]
    },
    {
     "name": "stdout",
     "output_type": "stream",
     "text": [
      "\r",
      "Upgrading database; v2 -> v3: : 0it [00:00, ?it/s]"
     ]
    },
    {
     "name": "stdout",
     "output_type": "stream",
     "text": [
      "\n",
      "\r",
      "0it [00:00, ?it/s]"
     ]
    },
    {
     "name": "stdout",
     "output_type": "stream",
     "text": [
      "\r",
      "Upgrading database; v3 -> v4: : 0it [00:00, ?it/s]"
     ]
    },
    {
     "name": "stdout",
     "output_type": "stream",
     "text": [
      "\r",
      "Upgrading database; v3 -> v4: : 0it [00:00, ?it/s]"
     ]
    },
    {
     "name": "stdout",
     "output_type": "stream",
     "text": [
      "\n",
      "\r",
      "  0%|          | 0/1 [00:00<?, ?it/s]"
     ]
    },
    {
     "name": "stdout",
     "output_type": "stream",
     "text": [
      "\r",
      "Upgrading database; v4 -> v5:   0%|          | 0/1 [00:00<?, ?it/s]"
     ]
    },
    {
     "name": "stdout",
     "output_type": "stream",
     "text": [
      "\r",
      "Upgrading database; v4 -> v5: 100%|██████████| 1/1 [00:00<00:00, 644.78it/s]"
     ]
    },
    {
     "name": "stdout",
     "output_type": "stream",
     "text": [
      "\n",
      "\r",
      "0it [00:00, ?it/s]"
     ]
    },
    {
     "name": "stdout",
     "output_type": "stream",
     "text": [
      "\r",
      "Upgrading database; v5 -> v6: : 0it [00:00, ?it/s]"
     ]
    },
    {
     "name": "stdout",
     "output_type": "stream",
     "text": [
      "\r",
      "Upgrading database; v5 -> v6: : 0it [00:00, ?it/s]"
     ]
    },
    {
     "name": "stdout",
     "output_type": "stream",
     "text": [
      "\n",
      "\r",
      "  0%|          | 0/1 [00:00<?, ?it/s]"
     ]
    },
    {
     "name": "stdout",
     "output_type": "stream",
     "text": [
      "\r",
      "Upgrading database; v6 -> v7:   0%|          | 0/1 [00:00<?, ?it/s]"
     ]
    },
    {
     "name": "stdout",
     "output_type": "stream",
     "text": [
      "\r",
      "Upgrading database; v6 -> v7: 100%|██████████| 1/1 [00:00<00:00, 386.43it/s]"
     ]
    },
    {
     "name": "stdout",
     "output_type": "stream",
     "text": [
      "\n",
      "\r",
      "  0%|          | 0/1 [00:00<?, ?it/s]"
     ]
    },
    {
     "name": "stdout",
     "output_type": "stream",
     "text": [
      "\r",
      "Upgrading database; v7 -> v8:   0%|          | 0/1 [00:00<?, ?it/s]"
     ]
    },
    {
     "name": "stdout",
     "output_type": "stream",
     "text": [
      "\r",
      "Upgrading database; v7 -> v8: 100%|██████████| 1/1 [00:00<00:00, 613.29it/s]"
     ]
    },
    {
     "name": "stdout",
     "output_type": "stream",
     "text": [
      "\n"
     ]
    }
   ],
   "source": [
    "initialise_database()\n",
    "exp = load_or_create_experiment(experiment_name='tutorial_exp', sample_name=\"no sample\")"
   ]
  },
  {
   "cell_type": "markdown",
   "metadata": {},
   "source": [
    "Here, we define a simple function to benchmark the time it takes to insert n points with either numeric or array data type.\n",
    "We will compare both the time used to call ``add_result`` and the time used for the full measurement."
   ]
  },
  {
   "cell_type": "code",
   "execution_count": 4,
   "metadata": {},
   "outputs": [],
   "source": [
    "def insert_data(paramtype, npoints, nreps=1):\n",
    "\n",
    "    meas = Measurement(exp=exp)\n",
    "\n",
    "    x1 = ManualParameter('x1')\n",
    "    x2 = ManualParameter('x2')\n",
    "    x3 = ManualParameter('x3')\n",
    "    y1 = ManualParameter('y1')\n",
    "    y2 = ManualParameter('y2')\n",
    "\n",
    "    meas.register_parameter(x1, paramtype=paramtype)\n",
    "    meas.register_parameter(x2, paramtype=paramtype)\n",
    "    meas.register_parameter(x3, paramtype=paramtype)\n",
    "    meas.register_parameter(y1, setpoints=[x1, x2, x3],\n",
    "                            paramtype=paramtype)\n",
    "    meas.register_parameter(y2, setpoints=[x1, x2, x3],\n",
    "                            paramtype=paramtype)\n",
    "    start = time.perf_counter()\n",
    "    with meas.run() as datasaver:\n",
    "        start_adding = time.perf_counter()\n",
    "        for i in range(nreps):\n",
    "            datasaver.add_result((x1, np.random.rand(npoints)),\n",
    "                                 (x2, np.random.rand(npoints)),\n",
    "                                 (x3, np.random.rand(npoints)),\n",
    "                                 (y1, np.random.rand(npoints)),\n",
    "                                 (y2, np.random.rand(npoints)))\n",
    "        stop_adding = time.perf_counter()\n",
    "        run_id = datasaver.run_id\n",
    "    stop = time.perf_counter()\n",
    "    tot_time = stop - start\n",
    "    add_time = stop_adding - start_adding\n",
    "    return tot_time, add_time, run_id"
   ]
  },
  {
   "cell_type": "markdown",
   "metadata": {},
   "source": [
    "## Comparison between numeric/array data and binary blob"
   ]
  },
  {
   "cell_type": "markdown",
   "metadata": {},
   "source": [
    "### Case1: Short experiment time"
   ]
  },
  {
   "cell_type": "code",
   "execution_count": 5,
   "metadata": {},
   "outputs": [
    {
     "name": "stdout",
     "output_type": "stream",
     "text": [
      "Starting experimental run with id: 1. \n",
      "Starting experimental run with id: 2. \n",
      "Starting experimental run with id: 3. \n"
     ]
    },
    {
     "name": "stdout",
     "output_type": "stream",
     "text": [
      "Starting experimental run with id: 4. \n"
     ]
    },
    {
     "name": "stdout",
     "output_type": "stream",
     "text": [
      "Starting experimental run with id: 5. \n"
     ]
    },
    {
     "name": "stdout",
     "output_type": "stream",
     "text": [
      "Starting experimental run with id: 6. \n",
      "Starting experimental run with id: 7. \n"
     ]
    },
    {
     "name": "stdout",
     "output_type": "stream",
     "text": [
      "Starting experimental run with id: 8. \n",
      "Starting experimental run with id: 9. \n"
     ]
    },
    {
     "name": "stdout",
     "output_type": "stream",
     "text": [
      "Starting experimental run with id: 10. \n"
     ]
    },
    {
     "name": "stdout",
     "output_type": "stream",
     "text": [
      "Starting experimental run with id: 11. \n"
     ]
    },
    {
     "name": "stdout",
     "output_type": "stream",
     "text": [
      "Starting experimental run with id: 12. \n"
     ]
    },
    {
     "name": "stdout",
     "output_type": "stream",
     "text": [
      "Starting experimental run with id: 13. \n"
     ]
    },
    {
     "name": "stdout",
     "output_type": "stream",
     "text": [
      "Starting experimental run with id: 14. \n"
     ]
    }
   ],
   "source": [
    "sizes = [1,500,1000,2000,3000,4000,5000]\n",
    "t_numeric = []\n",
    "t_numeric_add = []\n",
    "t_array = []\n",
    "t_array_add = []\n",
    "for size in sizes:\n",
    "    tn, tna, run_id_n =  insert_data('numeric', size)\n",
    "    t_numeric.append(tn)\n",
    "    t_numeric_add.append(tna)\n",
    "\n",
    "    ta, taa, run_id_a =  insert_data('array', size)\n",
    "    t_array.append(ta)\n",
    "    t_array_add.append(taa)"
   ]
  },
  {
   "cell_type": "code",
   "execution_count": 6,
   "metadata": {},
   "outputs": [
    {
     "data": {
      "image/png": "[encoded data removed]",
      "text/plain": [
       "<Figure size 432x288 with 1 Axes>"
      ]
     },
     "metadata": {
      "needs_background": "light"
     },
     "output_type": "display_data"
    }
   ],
   "source": [
    "fig, ax = plt.subplots(1,1)\n",
    "ax.plot(sizes, t_numeric, 'o-', label='Inserting row-by-row')\n",
    "ax.plot(sizes, t_numeric_add, 'o-', label='Inserting row-by-row: add_result only')\n",
    "ax.plot(sizes, t_array, 'd-', label='Inserting as binary blob')\n",
    "ax.plot(sizes, t_array_add, 'd-', label='Inserting as binary blob: add_result only')\n",
    "ax.legend()\n",
    "ax.set_xlabel('Array length')\n",
    "ax.set_ylabel('Time (s)')\n",
    "fig.tight_layout()"
   ]
  },
  {
   "cell_type": "markdown",
   "metadata": {},
   "source": [
    "As shown in the latter figure, the time to setup and and close the experiment is approximately 0.4 sec. In case of small array sizes, the difference between inserting values of data as arrays and inserting them row-by-row is relatively unimportant. At larger array sizes, i.e. above 10000 points, the cost of writing data as individual datapoints starts to become important.\n"
   ]
  },
  {
   "cell_type": "markdown",
   "metadata": {},
   "source": [
    "### Case2: Long experiment time "
   ]
  },
  {
   "cell_type": "code",
   "execution_count": 7,
   "metadata": {},
   "outputs": [
    {
     "name": "stdout",
     "output_type": "stream",
     "text": [
      "Starting experimental run with id: 15. \n",
      "Starting experimental run with id: 16. \n"
     ]
    },
    {
     "name": "stdout",
     "output_type": "stream",
     "text": [
      "Starting experimental run with id: 17. \n"
     ]
    },
    {
     "name": "stdout",
     "output_type": "stream",
     "text": [
      "Starting experimental run with id: 18. \n",
      "Starting experimental run with id: 19. \n"
     ]
    },
    {
     "name": "stdout",
     "output_type": "stream",
     "text": [
      "Starting experimental run with id: 20. \n"
     ]
    },
    {
     "name": "stdout",
     "output_type": "stream",
     "text": [
      "Starting experimental run with id: 21. \n"
     ]
    },
    {
     "name": "stdout",
     "output_type": "stream",
     "text": [
      "Starting experimental run with id: 22. \n"
     ]
    },
    {
     "name": "stdout",
     "output_type": "stream",
     "text": [
      "Starting experimental run with id: 23. \n"
     ]
    },
    {
     "name": "stdout",
     "output_type": "stream",
     "text": [
      "Starting experimental run with id: 24. \n"
     ]
    },
    {
     "name": "stdout",
     "output_type": "stream",
     "text": [
      "Starting experimental run with id: 25. \n"
     ]
    },
    {
     "name": "stdout",
     "output_type": "stream",
     "text": [
      "Starting experimental run with id: 26. \n"
     ]
    },
    {
     "name": "stdout",
     "output_type": "stream",
     "text": [
      "Starting experimental run with id: 27. \n"
     ]
    },
    {
     "name": "stdout",
     "output_type": "stream",
     "text": [
      "Starting experimental run with id: 28. \n"
     ]
    }
   ],
   "source": [
    "sizes = [1,500,1000,2000,3000,4000,5000]\n",
    "nreps = 100\n",
    "t_numeric = []\n",
    "t_numeric_add = []\n",
    "t_numeric_run_ids = []\n",
    "t_array = []\n",
    "t_array_add = []\n",
    "t_array_run_ids = []\n",
    "for size in sizes:\n",
    "    tn, tna, run_id_n =  insert_data('numeric', size, nreps=nreps)\n",
    "    t_numeric.append(tn)\n",
    "    t_numeric_add.append(tna)\n",
    "    t_numeric_run_ids.append(run_id_n)\n",
    "\n",
    "    ta, taa, run_id_a =  insert_data('array', size, nreps=nreps)\n",
    "    t_array.append(ta)\n",
    "    t_array_add.append(taa)\n",
    "    t_array_run_ids.append(run_id_a)"
   ]
  },
  {
   "cell_type": "code",
   "execution_count": 8,
   "metadata": {
    "scrolled": true
   },
   "outputs": [
    {
     "data": {
      "image/png": "[encoded data removed]",
      "text/plain": [
       "<Figure size 432x288 with 1 Axes>"
      ]
     },
     "metadata": {
      "needs_background": "light"
     },
     "output_type": "display_data"
    }
   ],
   "source": [
    "fig, ax = plt.subplots(1,1)\n",
    "ax.plot(sizes, t_numeric, 'o-', label='Inserting row-by-row')\n",
    "ax.plot(sizes, t_numeric_add, 'o-', label='Inserting row-by-row: add_result only')\n",
    "ax.plot(sizes, t_array, 'd-', label='Inserting as binary blob')\n",
    "ax.plot(sizes, t_array_add, 'd-', label='Inserting as binary blob: add_result only')\n",
    "ax.legend()\n",
    "ax.set_xlabel('Array length')\n",
    "ax.set_ylabel('Time (s)')\n",
    "fig.tight_layout()"
   ]
  },
  {
   "cell_type": "markdown",
   "metadata": {},
   "source": [
    "However, as we increase the length of the experiment, as seen here by repeating the insertion 100 times, we see a big difference between inserting values of the data row-by-row and inserting it as a binary blob."
   ]
  },
  {
   "cell_type": "markdown",
   "metadata": {},
   "source": [
    "## Loading the data "
   ]
  },
  {
   "cell_type": "code",
   "execution_count": 9,
   "metadata": {},
   "outputs": [],
   "source": [
    "from qcodes.dataset.data_set import load_by_id\n",
    "from qcodes.dataset.data_export import get_data_by_id"
   ]
  },
  {
   "cell_type": "markdown",
   "metadata": {},
   "source": [
    "As usual you can load the data by using the ``load_by_id`` function but you will notice that the different storage methods\n",
    "are reflected in shape of the data as it is retrieved. "
   ]
  },
  {
   "cell_type": "code",
   "execution_count": 10,
   "metadata": {},
   "outputs": [],
   "source": [
    "run_id_n = t_numeric_run_ids[0]\n",
    "run_id_a = t_array_run_ids[0]"
   ]
  },
  {
   "cell_type": "code",
   "execution_count": 11,
   "metadata": {
    "scrolled": true
   },
   "outputs": [
    {
     "data": {
      "text/plain": [
       "{'x1': {'x1': array([0.33370798, 0.33370798, 0.03908278, 0.03908278, 0.51593198,\n",
       "         0.51593198, 0.7543803 , 0.7543803 , 0.74172271, 0.74172271,\n",
       "         0.19967616, 0.19967616, 0.31452856, 0.31452856, 0.81386071,\n",
       "         0.81386071, 0.19899387, 0.19899387, 0.92105002, 0.92105002,\n",
       "         0.1733319 , 0.1733319 , 0.89144814, 0.89144814, 0.26213392,\n",
       "         0.26213392, 0.56155412, 0.56155412, 0.49459838, 0.49459838,\n",
       "         0.33594783, 0.33594783, 0.19865954, 0.19865954, 0.10631324,\n",
       "         0.10631324, 0.50095384, 0.50095384, 0.2574903 , 0.2574903 ,\n",
       "         0.07020512, 0.07020512, 0.72225946, 0.72225946, 0.77609556,\n",
       "         0.77609556, 0.72944957, 0.72944957, 0.71983749, 0.71983749,\n",
       "         0.51667654, 0.51667654, 0.78437971, 0.78437971, 0.02075006,\n",
       "         0.02075006, 0.50120855, 0.50120855, 0.939898  , 0.939898  ,\n",
       "         0.41419776, 0.41419776, 0.96008941, 0.96008941, 0.83798465,\n",
       "         0.83798465, 0.32406153, 0.32406153, 0.86265564, 0.86265564,\n",
       "         0.27852177, 0.27852177, 0.91360668, 0.91360668, 0.75997999,\n",
       "         0.75997999, 0.01352604, 0.01352604, 0.27165466, 0.27165466,\n",
       "         0.19106797, 0.19106797, 0.52053638, 0.52053638, 0.34815637,\n",
       "         0.34815637, 0.51032085, 0.51032085, 0.06794565, 0.06794565,\n",
       "         0.52702562, 0.52702562, 0.47082413, 0.47082413, 0.19766232,\n",
       "         0.19766232, 0.82704307, 0.82704307, 0.62787305, 0.62787305,\n",
       "         0.98732984, 0.98732984, 0.0090027 , 0.0090027 , 0.42969757,\n",
       "         0.42969757, 0.34983268, 0.34983268, 0.21579602, 0.21579602,\n",
       "         0.91045337, 0.91045337, 0.7889965 , 0.7889965 , 0.34441742,\n",
       "         0.34441742, 0.39020518, 0.39020518, 0.94827189, 0.94827189,\n",
       "         0.92823073, 0.92823073, 0.7743472 , 0.7743472 , 0.35037855,\n",
       "         0.35037855, 0.52461253, 0.52461253, 0.45021079, 0.45021079,\n",
       "         0.33245711, 0.33245711, 0.71055591, 0.71055591, 0.32539921,\n",
       "         0.32539921, 0.95821728, 0.95821728, 0.10036298, 0.10036298,\n",
       "         0.96895486, 0.96895486, 0.83438616, 0.83438616, 0.12936279,\n",
       "         0.12936279, 0.20411812, 0.20411812, 0.84176487, 0.84176487,\n",
       "         0.06205468, 0.06205468, 0.9236098 , 0.9236098 , 0.85175712,\n",
       "         0.85175712, 0.11126317, 0.11126317, 0.90581124, 0.90581124,\n",
       "         0.72459378, 0.72459378, 0.22039598, 0.22039598, 0.85628223,\n",
       "         0.85628223, 0.13125513, 0.13125513, 0.57406612, 0.57406612,\n",
       "         0.47078271, 0.47078271, 0.74689715, 0.74689715, 0.21045947,\n",
       "         0.21045947, 0.42364676, 0.42364676, 0.31141634, 0.31141634,\n",
       "         0.37722619, 0.37722619, 0.83530707, 0.83530707, 0.17627127,\n",
       "         0.17627127, 0.59308625, 0.59308625, 0.26828028, 0.26828028,\n",
       "         0.98034636, 0.98034636, 0.75603387, 0.75603387, 0.4507844 ,\n",
       "         0.4507844 , 0.15042783, 0.15042783, 0.05932041, 0.05932041])}}"
      ]
     },
     "execution_count": 11,
     "metadata": {},
     "output_type": "execute_result"
    }
   ],
   "source": [
    "ds = load_by_id(run_id_n)\n",
    "ds.get_parameter_data('x1')"
   ]
  },
  {
   "cell_type": "markdown",
   "metadata": {},
   "source": [
    "And a dataset stored as binary arrays"
   ]
  },
  {
   "cell_type": "code",
   "execution_count": 12,
   "metadata": {
    "scrolled": true
   },
   "outputs": [
    {
     "data": {
      "text/plain": [
       "{'x1': {'x1': array([[0.95591084],\n",
       "         [0.95591084],\n",
       "         [0.70287098],\n",
       "         [0.70287098],\n",
       "         [0.02104551],\n",
       "         [0.02104551],\n",
       "         [0.32744051],\n",
       "         [0.32744051],\n",
       "         [0.47371129],\n",
       "         [0.47371129],\n",
       "         [0.26712588],\n",
       "         [0.26712588],\n",
       "         [0.38627969],\n",
       "         [0.38627969],\n",
       "         [0.37696237],\n",
       "         [0.37696237],\n",
       "         [0.3349071 ],\n",
       "         [0.3349071 ],\n",
       "         [0.28190552],\n",
       "         [0.28190552],\n",
       "         [0.84313163],\n",
       "         [0.84313163],\n",
       "         [0.83600035],\n",
       "         [0.83600035],\n",
       "         [0.95345388],\n",
       "         [0.95345388],\n",
       "         [0.6157081 ],\n",
       "         [0.6157081 ],\n",
       "         [0.37425351],\n",
       "         [0.37425351],\n",
       "         [0.00803613],\n",
       "         [0.00803613],\n",
       "         [0.14276181],\n",
       "         [0.14276181],\n",
       "         [0.4611222 ],\n",
       "         [0.4611222 ],\n",
       "         [0.92726153],\n",
       "         [0.92726153],\n",
       "         [0.35512272],\n",
       "         [0.35512272],\n",
       "         [0.03217836],\n",
       "         [0.03217836],\n",
       "         [0.3251199 ],\n",
       "         [0.3251199 ],\n",
       "         [0.05699859],\n",
       "         [0.05699859],\n",
       "         [0.23955998],\n",
       "         [0.23955998],\n",
       "         [0.57350952],\n",
       "         [0.57350952],\n",
       "         [0.11442996],\n",
       "         [0.11442996],\n",
       "         [0.28464669],\n",
       "         [0.28464669],\n",
       "         [0.28032773],\n",
       "         [0.28032773],\n",
       "         [0.30881289],\n",
       "         [0.30881289],\n",
       "         [0.0763579 ],\n",
       "         [0.0763579 ],\n",
       "         [0.36812522],\n",
       "         [0.36812522],\n",
       "         [0.62523466],\n",
       "         [0.62523466],\n",
       "         [0.50121828],\n",
       "         [0.50121828],\n",
       "         [0.54663691],\n",
       "         [0.54663691],\n",
       "         [0.98923362],\n",
       "         [0.98923362],\n",
       "         [0.65320262],\n",
       "         [0.65320262],\n",
       "         [0.8258023 ],\n",
       "         [0.8258023 ],\n",
       "         [0.6732584 ],\n",
       "         [0.6732584 ],\n",
       "         [0.4787991 ],\n",
       "         [0.4787991 ],\n",
       "         [0.6168086 ],\n",
       "         [0.6168086 ],\n",
       "         [0.60567358],\n",
       "         [0.60567358],\n",
       "         [0.90990034],\n",
       "         [0.90990034],\n",
       "         [0.17613991],\n",
       "         [0.17613991],\n",
       "         [0.05311964],\n",
       "         [0.05311964],\n",
       "         [0.45613775],\n",
       "         [0.45613775],\n",
       "         [0.85107515],\n",
       "         [0.85107515],\n",
       "         [0.07047193],\n",
       "         [0.07047193],\n",
       "         [0.1086035 ],\n",
       "         [0.1086035 ],\n",
       "         [0.0948263 ],\n",
       "         [0.0948263 ],\n",
       "         [0.90063933],\n",
       "         [0.90063933],\n",
       "         [0.78472728],\n",
       "         [0.78472728],\n",
       "         [0.336307  ],\n",
       "         [0.336307  ],\n",
       "         [0.84983593],\n",
       "         [0.84983593],\n",
       "         [0.76970437],\n",
       "         [0.76970437],\n",
       "         [0.03053629],\n",
       "         [0.03053629],\n",
       "         [0.26768642],\n",
       "         [0.26768642],\n",
       "         [0.01815153],\n",
       "         [0.01815153],\n",
       "         [0.72635117],\n",
       "         [0.72635117],\n",
       "         [0.09926965],\n",
       "         [0.09926965],\n",
       "         [0.48207145],\n",
       "         [0.48207145],\n",
       "         [0.09943732],\n",
       "         [0.09943732],\n",
       "         [0.01018009],\n",
       "         [0.01018009],\n",
       "         [0.39523632],\n",
       "         [0.39523632],\n",
       "         [0.07040989],\n",
       "         [0.07040989],\n",
       "         [0.27552239],\n",
       "         [0.27552239],\n",
       "         [0.52803242],\n",
       "         [0.52803242],\n",
       "         [0.28466086],\n",
       "         [0.28466086],\n",
       "         [0.20265471],\n",
       "         [0.20265471],\n",
       "         [0.64671739],\n",
       "         [0.64671739],\n",
       "         [0.94607686],\n",
       "         [0.94607686],\n",
       "         [0.92698871],\n",
       "         [0.92698871],\n",
       "         [0.16564648],\n",
       "         [0.16564648],\n",
       "         [0.36795722],\n",
       "         [0.36795722],\n",
       "         [0.39453381],\n",
       "         [0.39453381],\n",
       "         [0.55881484],\n",
       "         [0.55881484],\n",
       "         [0.10347384],\n",
       "         [0.10347384],\n",
       "         [0.48802021],\n",
       "         [0.48802021],\n",
       "         [0.75159491],\n",
       "         [0.75159491],\n",
       "         [0.25593098],\n",
       "         [0.25593098],\n",
       "         [0.65480686],\n",
       "         [0.65480686],\n",
       "         [0.22105955],\n",
       "         [0.22105955],\n",
       "         [0.97611033],\n",
       "         [0.97611033],\n",
       "         [0.07946364],\n",
       "         [0.07946364],\n",
       "         [0.18385888],\n",
       "         [0.18385888],\n",
       "         [0.87886276],\n",
       "         [0.87886276],\n",
       "         [0.30948017],\n",
       "         [0.30948017],\n",
       "         [0.86849085],\n",
       "         [0.86849085],\n",
       "         [0.80801356],\n",
       "         [0.80801356],\n",
       "         [0.60620927],\n",
       "         [0.60620927],\n",
       "         [0.94815639],\n",
       "         [0.94815639],\n",
       "         [0.12047453],\n",
       "         [0.12047453],\n",
       "         [0.15615678],\n",
       "         [0.15615678],\n",
       "         [0.96789865],\n",
       "         [0.96789865],\n",
       "         [0.91873997],\n",
       "         [0.91873997],\n",
       "         [0.65728806],\n",
       "         [0.65728806],\n",
       "         [0.22365726],\n",
       "         [0.22365726],\n",
       "         [0.11375954],\n",
       "         [0.11375954],\n",
       "         [0.18467521],\n",
       "         [0.18467521],\n",
       "         [0.97153096],\n",
       "         [0.97153096],\n",
       "         [0.69828665],\n",
       "         [0.69828665]])}}"
      ]
     },
     "execution_count": 12,
     "metadata": {},
     "output_type": "execute_result"
    }
   ],
   "source": [
    "ds = load_by_id(run_id_a)\n",
    "ds.get_parameter_data('x1')"
   ]
  },
  {
   "cell_type": "code",
   "execution_count": null,
   "metadata": {},
   "outputs": [],
   "source": []
  }
 ],
 "metadata": {
  "kernelspec": {
   "display_name": "Python 3",
   "language": "python",
   "name": "python3"
  },
  "language_info": {
   "codemirror_mode": {
    "name": "ipython",
    "version": 3
   },
   "file_extension": ".py",
   "mimetype": "text/x-python",
   "name": "python",
   "nbconvert_exporter": "python",
   "pygments_lexer": "ipython3",
   "version": "3.7.5"
  },
  "nbsphinx": {
   "timeout": 600
  },
  "toc": {
   "base_numbering": 1,
   "nav_menu": {},
   "number_sections": true,
   "sideBar": true,
   "skip_h1_title": false,
   "title_cell": "Table of Contents",
   "title_sidebar": "Contents",
   "toc_cell": false,
   "toc_position": {},
   "toc_section_display": true,
   "toc_window_display": false
  },
  "varInspector": {
   "cols": {
    "lenName": 16,
    "lenType": 16,
    "lenVar": 40
   },
   "kernels_config": {
    "python": {
     "delete_cmd_postfix": "",
     "delete_cmd_prefix": "del ",
     "library": "var_list.py",
     "varRefreshCmd": "print(var_dic_list())"
    },
    "r": {
     "delete_cmd_postfix": ") ",
     "delete_cmd_prefix": "rm(",
     "library": "var_list.r",
     "varRefreshCmd": "cat(var_dic_list()) "
    }
   },
   "types_to_exclude": [
    "module",
    "function",
    "builtin_function_or_method",
    "instance",
    "_Feature"
   ],
   "window_display": false
  }
 },
 "nbformat": 4,
 "nbformat_minor": 2
}
