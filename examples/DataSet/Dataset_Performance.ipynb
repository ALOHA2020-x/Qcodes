{
 "cells": [
  {
   "cell_type": "markdown",
   "metadata": {},
   "source": [
    "# DataSet Performance\n",
    "\n",
    "This notebook shows the trade-off between inserting data into a database row-by-row and as binary blobs. Inserting the data row-by-row means that we have direct access to all the data and may perform queries directly on the values of the data. On the other hand, as we shall see, this is much slower than inserting the data directly as binary blobs."
   ]
  },
  {
   "cell_type": "markdown",
   "metadata": {},
   "source": [
    "First, we choose a new location for the database to ensure that we don't add a bunch of benchmarking data to the default one."
   ]
  },
  {
   "cell_type": "code",
   "execution_count": 1,
   "metadata": {
    "execution": {
     "iopub.execute_input": "2021-02-11T13:24:58.544311Z",
     "iopub.status.busy": "2021-02-11T13:24:58.543698Z",
     "iopub.status.idle": "2021-02-11T13:24:59.678872Z",
     "shell.execute_reply": "2021-02-11T13:24:59.677851Z"
    }
   },
   "outputs": [
    {
     "name": "stdout",
     "output_type": "stream",
     "text": [
      "Logging hadn't been started.\n",
      "Activating auto-logging. Current session state plus future input saved.\n",
      "Filename       : /home/vsts/.qcodes/logs/command_history.log\n",
      "Mode           : append\n",
      "Output logging : True\n",
      "Raw input log  : False\n",
      "Timestamping   : True\n",
      "State          : active\n"
     ]
    },
    {
     "name": "stdout",
     "output_type": "stream",
     "text": [
      "Qcodes Logfile : /home/vsts/.qcodes/logs/210211-7086-qcodes.log\n"
     ]
    }
   ],
   "source": [
    "import os\n",
    "cwd = os.getcwd()\n",
    "import qcodes as qc\n",
    "qc.config[\"core\"][\"db_location\"] = os.path.join(cwd, 'testing.db')\n"
   ]
  },
  {
   "cell_type": "code",
   "execution_count": 2,
   "metadata": {
    "execution": {
     "iopub.execute_input": "2021-02-11T13:24:59.685689Z",
     "iopub.status.busy": "2021-02-11T13:24:59.685084Z",
     "iopub.status.idle": "2021-02-11T13:24:59.899596Z",
     "shell.execute_reply": "2021-02-11T13:24:59.898965Z"
    }
   },
   "outputs": [],
   "source": [
    "%matplotlib inline\n",
    "import time\n",
    "import matplotlib.pyplot as plt\n",
    "import numpy as np\n",
    "\n",
    "import qcodes as qc\n",
    "from qcodes.instrument.parameter import ManualParameter\n",
    "from qcodes.dataset.experiment_container import (Experiment,\n",
    "                                                 load_last_experiment,\n",
    "                                                 new_experiment)\n",
    "from qcodes.dataset.sqlite.database import initialise_database\n",
    "from qcodes import load_or_create_experiment\n",
    "from qcodes.dataset.measurements import Measurement"
   ]
  },
  {
   "cell_type": "code",
   "execution_count": 3,
   "metadata": {
    "execution": {
     "iopub.execute_input": "2021-02-11T13:24:59.903804Z",
     "iopub.status.busy": "2021-02-11T13:24:59.903056Z",
     "iopub.status.idle": "2021-02-11T13:25:00.039457Z",
     "shell.execute_reply": "2021-02-11T13:25:00.038820Z"
    }
   },
   "outputs": [
    {
     "name": "stdout",
     "output_type": "stream",
     "text": [
      "\r",
      "0it [00:00, ?it/s]"
     ]
    },
    {
     "name": "stdout",
     "output_type": "stream",
     "text": [
      "\r",
      "Upgrading database; v0 -> v1: : 0it [00:00, ?it/s]"
     ]
    },
    {
     "name": "stdout",
     "output_type": "stream",
     "text": [
      "\r",
      "Upgrading database; v0 -> v1: : 0it [00:00, ?it/s]"
     ]
    },
    {
     "name": "stdout",
     "output_type": "stream",
     "text": [
      "\n",
      "\r",
      "  0%|          | 0/1 [00:00<?, ?it/s]"
     ]
    },
    {
     "name": "stdout",
     "output_type": "stream",
     "text": [
      "\r",
      "Upgrading database; v1 -> v2:   0%|          | 0/1 [00:00<?, ?it/s]"
     ]
    },
    {
     "name": "stdout",
     "output_type": "stream",
     "text": [
      "\r",
      "Upgrading database; v1 -> v2: 100%|██████████| 1/1 [00:00<00:00, 499.56it/s]"
     ]
    },
    {
     "name": "stdout",
     "output_type": "stream",
     "text": [
      "\n",
      "\r",
      "0it [00:00, ?it/s]"
     ]
    },
    {
     "name": "stdout",
     "output_type": "stream",
     "text": [
      "\r",
      "Upgrading database; v2 -> v3: : 0it [00:00, ?it/s]"
     ]
    },
    {
     "name": "stdout",
     "output_type": "stream",
     "text": [
      "\r",
      "Upgrading database; v2 -> v3: : 0it [00:00, ?it/s]"
     ]
    },
    {
     "name": "stdout",
     "output_type": "stream",
     "text": [
      "\n",
      "\r",
      "0it [00:00, ?it/s]"
     ]
    },
    {
     "name": "stdout",
     "output_type": "stream",
     "text": [
      "\r",
      "Upgrading database; v3 -> v4: : 0it [00:00, ?it/s]"
     ]
    },
    {
     "name": "stdout",
     "output_type": "stream",
     "text": [
      "\r",
      "Upgrading database; v3 -> v4: : 0it [00:00, ?it/s]"
     ]
    },
    {
     "name": "stdout",
     "output_type": "stream",
     "text": [
      "\n",
      "\r",
      "  0%|          | 0/1 [00:00<?, ?it/s]"
     ]
    },
    {
     "name": "stdout",
     "output_type": "stream",
     "text": [
      "\r",
      "Upgrading database; v4 -> v5:   0%|          | 0/1 [00:00<?, ?it/s]"
     ]
    },
    {
     "name": "stdout",
     "output_type": "stream",
     "text": [
      "\r",
      "Upgrading database; v4 -> v5: 100%|██████████| 1/1 [00:00<00:00, 570.03it/s]"
     ]
    },
    {
     "name": "stdout",
     "output_type": "stream",
     "text": [
      "\n",
      "\r",
      "0it [00:00, ?it/s]"
     ]
    },
    {
     "name": "stdout",
     "output_type": "stream",
     "text": [
      "\r",
      "Upgrading database; v5 -> v6: : 0it [00:00, ?it/s]"
     ]
    },
    {
     "name": "stdout",
     "output_type": "stream",
     "text": [
      "\r",
      "Upgrading database; v5 -> v6: : 0it [00:00, ?it/s]"
     ]
    },
    {
     "name": "stdout",
     "output_type": "stream",
     "text": [
      "\n",
      "\r",
      "  0%|          | 0/1 [00:00<?, ?it/s]"
     ]
    },
    {
     "name": "stdout",
     "output_type": "stream",
     "text": [
      "\r",
      "Upgrading database; v6 -> v7:   0%|          | 0/1 [00:00<?, ?it/s]"
     ]
    },
    {
     "name": "stdout",
     "output_type": "stream",
     "text": [
      "\r",
      "Upgrading database; v6 -> v7: 100%|██████████| 1/1 [00:00<00:00, 194.03it/s]"
     ]
    },
    {
     "name": "stdout",
     "output_type": "stream",
     "text": [
      "\n",
      "\r",
      "  0%|          | 0/1 [00:00<?, ?it/s]"
     ]
    },
    {
     "name": "stdout",
     "output_type": "stream",
     "text": [
      "\r",
      "Upgrading database; v7 -> v8:   0%|          | 0/1 [00:00<?, ?it/s]"
     ]
    },
    {
     "name": "stdout",
     "output_type": "stream",
     "text": [
      "\r",
      "Upgrading database; v7 -> v8: 100%|██████████| 1/1 [00:00<00:00, 748.72it/s]"
     ]
    },
    {
     "name": "stdout",
     "output_type": "stream",
     "text": [
      "\n",
      "\r",
      "  0%|          | 0/1 [00:00<?, ?it/s]"
     ]
    },
    {
     "name": "stdout",
     "output_type": "stream",
     "text": [
      "\r",
      "Upgrading database; v8 -> v9:   0%|          | 0/1 [00:00<?, ?it/s]"
     ]
    },
    {
     "name": "stdout",
     "output_type": "stream",
     "text": [
      "\r",
      "Upgrading database; v8 -> v9: 100%|██████████| 1/1 [00:00<00:00, 242.52it/s]"
     ]
    },
    {
     "name": "stdout",
     "output_type": "stream",
     "text": [
      "\n"
     ]
    }
   ],
   "source": [
    "initialise_database()\n",
    "exp = load_or_create_experiment(experiment_name='tutorial_exp', sample_name=\"no sample\")"
   ]
  },
  {
   "cell_type": "markdown",
   "metadata": {},
   "source": [
    "Here, we define a simple function to benchmark the time it takes to insert n points with either numeric or array data type.\n",
    "We will compare both the time used to call ``add_result`` and the time used for the full measurement."
   ]
  },
  {
   "cell_type": "code",
   "execution_count": 4,
   "metadata": {
    "execution": {
     "iopub.execute_input": "2021-02-11T13:25:00.048997Z",
     "iopub.status.busy": "2021-02-11T13:25:00.048304Z",
     "iopub.status.idle": "2021-02-11T13:25:00.052412Z",
     "shell.execute_reply": "2021-02-11T13:25:00.051800Z"
    }
   },
   "outputs": [],
   "source": [
    "def insert_data(paramtype, npoints, nreps=1):\n",
    "\n",
    "    meas = Measurement(exp=exp)\n",
    "\n",
    "    x1 = ManualParameter('x1')\n",
    "    x2 = ManualParameter('x2')\n",
    "    x3 = ManualParameter('x3')\n",
    "    y1 = ManualParameter('y1')\n",
    "    y2 = ManualParameter('y2')\n",
    "\n",
    "    meas.register_parameter(x1, paramtype=paramtype)\n",
    "    meas.register_parameter(x2, paramtype=paramtype)\n",
    "    meas.register_parameter(x3, paramtype=paramtype)\n",
    "    meas.register_parameter(y1, setpoints=[x1, x2, x3],\n",
    "                            paramtype=paramtype)\n",
    "    meas.register_parameter(y2, setpoints=[x1, x2, x3],\n",
    "                            paramtype=paramtype)\n",
    "    start = time.perf_counter()\n",
    "    with meas.run() as datasaver:\n",
    "        start_adding = time.perf_counter()\n",
    "        for i in range(nreps):\n",
    "            datasaver.add_result((x1, np.random.rand(npoints)),\n",
    "                                 (x2, np.random.rand(npoints)),\n",
    "                                 (x3, np.random.rand(npoints)),\n",
    "                                 (y1, np.random.rand(npoints)),\n",
    "                                 (y2, np.random.rand(npoints)))\n",
    "        stop_adding = time.perf_counter()\n",
    "        run_id = datasaver.run_id\n",
    "    stop = time.perf_counter()\n",
    "    tot_time = stop - start\n",
    "    add_time = stop_adding - start_adding\n",
    "    return tot_time, add_time, run_id"
   ]
  },
  {
   "cell_type": "markdown",
   "metadata": {},
   "source": [
    "## Comparison between numeric/array data and binary blob"
   ]
  },
  {
   "cell_type": "markdown",
   "metadata": {},
   "source": [
    "### Case1: Short experiment time"
   ]
  },
  {
   "cell_type": "code",
   "execution_count": 5,
   "metadata": {
    "execution": {
     "iopub.execute_input": "2021-02-11T13:25:00.059944Z",
     "iopub.status.busy": "2021-02-11T13:25:00.057104Z",
     "iopub.status.idle": "2021-02-11T13:25:00.990103Z",
     "shell.execute_reply": "2021-02-11T13:25:00.990704Z"
    }
   },
   "outputs": [
    {
     "name": "stdout",
     "output_type": "stream",
     "text": [
      "Starting experimental run with id: 1. \n",
      "Starting experimental run with id: 2. \n",
      "Starting experimental run with id: 3. \n",
      "Starting experimental run with id: 4. \n"
     ]
    },
    {
     "name": "stdout",
     "output_type": "stream",
     "text": [
      "Starting experimental run with id: 5. \n"
     ]
    },
    {
     "name": "stdout",
     "output_type": "stream",
     "text": [
      "Starting experimental run with id: 6. \n",
      "Starting experimental run with id: 7. \n"
     ]
    },
    {
     "name": "stdout",
     "output_type": "stream",
     "text": [
      "Starting experimental run with id: 8. \n",
      "Starting experimental run with id: 9. \n"
     ]
    },
    {
     "name": "stdout",
     "output_type": "stream",
     "text": [
      "Starting experimental run with id: 10. \n",
      "Starting experimental run with id: 11. \n"
     ]
    },
    {
     "name": "stdout",
     "output_type": "stream",
     "text": [
      "Starting experimental run with id: 12. \n"
     ]
    },
    {
     "name": "stdout",
     "output_type": "stream",
     "text": [
      "Starting experimental run with id: 13. \n"
     ]
    },
    {
     "name": "stdout",
     "output_type": "stream",
     "text": [
      "Starting experimental run with id: 14. \n"
     ]
    }
   ],
   "source": [
    "sizes = [1,500,1000,2000,3000,4000,5000]\n",
    "t_numeric = []\n",
    "t_numeric_add = []\n",
    "t_array = []\n",
    "t_array_add = []\n",
    "for size in sizes:\n",
    "    tn, tna, run_id_n =  insert_data('numeric', size)\n",
    "    t_numeric.append(tn)\n",
    "    t_numeric_add.append(tna)\n",
    "\n",
    "    ta, taa, run_id_a =  insert_data('array', size)\n",
    "    t_array.append(ta)\n",
    "    t_array_add.append(taa)"
   ]
  },
  {
   "cell_type": "code",
   "execution_count": 6,
   "metadata": {
    "execution": {
     "iopub.execute_input": "2021-02-11T13:25:01.011998Z",
     "iopub.status.busy": "2021-02-11T13:25:01.011374Z",
     "iopub.status.idle": "2021-02-11T13:25:01.228673Z",
     "shell.execute_reply": "2021-02-11T13:25:01.229178Z"
    }
   },
   "outputs": [
    {
     "data": {
      "image/png": "[encoded data removed]",
      "text/plain": [
       "<Figure size 432x288 with 1 Axes>"
      ]
     },
     "metadata": {
      "needs_background": "light"
     },
     "output_type": "display_data"
    }
   ],
   "source": [
    "fig, ax = plt.subplots(1,1)\n",
    "ax.plot(sizes, t_numeric, 'o-', label='Inserting row-by-row')\n",
    "ax.plot(sizes, t_numeric_add, 'o-', label='Inserting row-by-row: add_result only')\n",
    "ax.plot(sizes, t_array, 'd-', label='Inserting as binary blob')\n",
    "ax.plot(sizes, t_array_add, 'd-', label='Inserting as binary blob: add_result only')\n",
    "ax.legend()\n",
    "ax.set_xlabel('Array length')\n",
    "ax.set_ylabel('Time (s)')\n",
    "fig.tight_layout()"
   ]
  },
  {
   "cell_type": "markdown",
   "metadata": {},
   "source": [
    "As shown in the latter figure, the time to setup and and close the experiment is approximately 0.4 sec. In case of small array sizes, the difference between inserting values of data as arrays and inserting them row-by-row is relatively unimportant. At larger array sizes, i.e. above 10000 points, the cost of writing data as individual datapoints starts to become important.\n"
   ]
  },
  {
   "cell_type": "markdown",
   "metadata": {},
   "source": [
    "### Case2: Long experiment time "
   ]
  },
  {
   "cell_type": "code",
   "execution_count": 7,
   "metadata": {
    "execution": {
     "iopub.execute_input": "2021-02-11T13:25:01.237138Z",
     "iopub.status.busy": "2021-02-11T13:25:01.236435Z",
     "iopub.status.idle": "2021-02-11T13:26:03.564157Z",
     "shell.execute_reply": "2021-02-11T13:26:03.563602Z"
    }
   },
   "outputs": [
    {
     "name": "stdout",
     "output_type": "stream",
     "text": [
      "Starting experimental run with id: 15. \n",
      "Starting experimental run with id: 16. \n"
     ]
    },
    {
     "name": "stdout",
     "output_type": "stream",
     "text": [
      "Starting experimental run with id: 17. \n"
     ]
    },
    {
     "name": "stdout",
     "output_type": "stream",
     "text": [
      "Starting experimental run with id: 18. \n"
     ]
    },
    {
     "name": "stdout",
     "output_type": "stream",
     "text": [
      "Starting experimental run with id: 19. \n"
     ]
    },
    {
     "name": "stdout",
     "output_type": "stream",
     "text": [
      "Starting experimental run with id: 20. \n"
     ]
    },
    {
     "name": "stdout",
     "output_type": "stream",
     "text": [
      "Starting experimental run with id: 21. \n"
     ]
    },
    {
     "name": "stdout",
     "output_type": "stream",
     "text": [
      "Starting experimental run with id: 22. \n"
     ]
    },
    {
     "name": "stdout",
     "output_type": "stream",
     "text": [
      "Starting experimental run with id: 23. \n"
     ]
    },
    {
     "name": "stdout",
     "output_type": "stream",
     "text": [
      "Starting experimental run with id: 24. \n"
     ]
    },
    {
     "name": "stdout",
     "output_type": "stream",
     "text": [
      "Starting experimental run with id: 25. \n"
     ]
    },
    {
     "name": "stdout",
     "output_type": "stream",
     "text": [
      "Starting experimental run with id: 26. \n"
     ]
    },
    {
     "name": "stdout",
     "output_type": "stream",
     "text": [
      "Starting experimental run with id: 27. \n"
     ]
    },
    {
     "name": "stdout",
     "output_type": "stream",
     "text": [
      "Starting experimental run with id: 28. \n"
     ]
    }
   ],
   "source": [
    "sizes = [1,500,1000,2000,3000,4000,5000]\n",
    "nreps = 100\n",
    "t_numeric = []\n",
    "t_numeric_add = []\n",
    "t_numeric_run_ids = []\n",
    "t_array = []\n",
    "t_array_add = []\n",
    "t_array_run_ids = []\n",
    "for size in sizes:\n",
    "    tn, tna, run_id_n =  insert_data('numeric', size, nreps=nreps)\n",
    "    t_numeric.append(tn)\n",
    "    t_numeric_add.append(tna)\n",
    "    t_numeric_run_ids.append(run_id_n)\n",
    "\n",
    "    ta, taa, run_id_a =  insert_data('array', size, nreps=nreps)\n",
    "    t_array.append(ta)\n",
    "    t_array_add.append(taa)\n",
    "    t_array_run_ids.append(run_id_a)"
   ]
  },
  {
   "cell_type": "code",
   "execution_count": 8,
   "metadata": {
    "execution": {
     "iopub.execute_input": "2021-02-11T13:26:03.608602Z",
     "iopub.status.busy": "2021-02-11T13:26:03.568351Z",
     "iopub.status.idle": "2021-02-11T13:26:03.796007Z",
     "shell.execute_reply": "2021-02-11T13:26:03.796473Z"
    },
    "scrolled": true
   },
   "outputs": [
    {
     "data": {
      "image/png": "[encoded data removed]",
      "text/plain": [
       "<Figure size 432x288 with 1 Axes>"
      ]
     },
     "metadata": {
      "needs_background": "light"
     },
     "output_type": "display_data"
    }
   ],
   "source": [
    "fig, ax = plt.subplots(1,1)\n",
    "ax.plot(sizes, t_numeric, 'o-', label='Inserting row-by-row')\n",
    "ax.plot(sizes, t_numeric_add, 'o-', label='Inserting row-by-row: add_result only')\n",
    "ax.plot(sizes, t_array, 'd-', label='Inserting as binary blob')\n",
    "ax.plot(sizes, t_array_add, 'd-', label='Inserting as binary blob: add_result only')\n",
    "ax.legend()\n",
    "ax.set_xlabel('Array length')\n",
    "ax.set_ylabel('Time (s)')\n",
    "fig.tight_layout()"
   ]
  },
  {
   "cell_type": "markdown",
   "metadata": {},
   "source": [
    "However, as we increase the length of the experiment, as seen here by repeating the insertion 100 times, we see a big difference between inserting values of the data row-by-row and inserting it as a binary blob."
   ]
  },
  {
   "cell_type": "markdown",
   "metadata": {},
   "source": [
    "## Loading the data "
   ]
  },
  {
   "cell_type": "code",
   "execution_count": 9,
   "metadata": {
    "execution": {
     "iopub.execute_input": "2021-02-11T13:26:03.801184Z",
     "iopub.status.busy": "2021-02-11T13:26:03.800356Z",
     "iopub.status.idle": "2021-02-11T13:26:03.802897Z",
     "shell.execute_reply": "2021-02-11T13:26:03.803385Z"
    }
   },
   "outputs": [],
   "source": [
    "from qcodes.dataset.data_set import load_by_id\n",
    "from qcodes.dataset.data_export import get_data_by_id"
   ]
  },
  {
   "cell_type": "markdown",
   "metadata": {},
   "source": [
    "As usual you can load the data by using the ``load_by_id`` function but you will notice that the different storage methods\n",
    "are reflected in shape of the data as it is retrieved. "
   ]
  },
  {
   "cell_type": "code",
   "execution_count": 10,
   "metadata": {
    "execution": {
     "iopub.execute_input": "2021-02-11T13:26:03.807725Z",
     "iopub.status.busy": "2021-02-11T13:26:03.807133Z",
     "iopub.status.idle": "2021-02-11T13:26:03.809264Z",
     "shell.execute_reply": "2021-02-11T13:26:03.809719Z"
    }
   },
   "outputs": [],
   "source": [
    "run_id_n = t_numeric_run_ids[0]\n",
    "run_id_a = t_array_run_ids[0]"
   ]
  },
  {
   "cell_type": "code",
   "execution_count": 11,
   "metadata": {
    "execution": {
     "iopub.execute_input": "2021-02-11T13:26:03.813189Z",
     "iopub.status.busy": "2021-02-11T13:26:03.812581Z",
     "iopub.status.idle": "2021-02-11T13:26:03.823086Z",
     "shell.execute_reply": "2021-02-11T13:26:03.822458Z"
    },
    "scrolled": true
   },
   "outputs": [
    {
     "data": {
      "text/plain": [
       "{'x1': {'x1': array([0.60247535, 0.60247535, 0.55545582, 0.55545582, 0.19819684,\n",
       "         0.19819684, 0.13916867, 0.13916867, 0.89160034, 0.89160034,\n",
       "         0.11900707, 0.11900707, 0.74365836, 0.74365836, 0.60520198,\n",
       "         0.60520198, 0.29993759, 0.29993759, 0.02177341, 0.02177341,\n",
       "         0.70249821, 0.70249821, 0.38119244, 0.38119244, 0.46114743,\n",
       "         0.46114743, 0.4324655 , 0.4324655 , 0.2689704 , 0.2689704 ,\n",
       "         0.00262346, 0.00262346, 0.29075339, 0.29075339, 0.0040208 ,\n",
       "         0.0040208 , 0.82360743, 0.82360743, 0.4767553 , 0.4767553 ,\n",
       "         0.64341426, 0.64341426, 0.49241352, 0.49241352, 0.49651563,\n",
       "         0.49651563, 0.33263986, 0.33263986, 0.24662087, 0.24662087,\n",
       "         0.10469243, 0.10469243, 0.99779484, 0.99779484, 0.03681626,\n",
       "         0.03681626, 0.3041635 , 0.3041635 , 0.05178052, 0.05178052,\n",
       "         0.14857831, 0.14857831, 0.20033702, 0.20033702, 0.42997117,\n",
       "         0.42997117, 0.29146811, 0.29146811, 0.18328579, 0.18328579,\n",
       "         0.86086734, 0.86086734, 0.05673237, 0.05673237, 0.61212928,\n",
       "         0.61212928, 0.8263238 , 0.8263238 , 0.20974836, 0.20974836,\n",
       "         0.72328769, 0.72328769, 0.43015838, 0.43015838, 0.61301353,\n",
       "         0.61301353, 0.71605394, 0.71605394, 0.10228514, 0.10228514,\n",
       "         0.30017196, 0.30017196, 0.73824377, 0.73824377, 0.07560526,\n",
       "         0.07560526, 0.33037558, 0.33037558, 0.1513034 , 0.1513034 ,\n",
       "         0.42272345, 0.42272345, 0.84113409, 0.84113409, 0.32077206,\n",
       "         0.32077206, 0.26386559, 0.26386559, 0.44068435, 0.44068435,\n",
       "         0.03067555, 0.03067555, 0.69058283, 0.69058283, 0.85461149,\n",
       "         0.85461149, 0.35239751, 0.35239751, 0.44979934, 0.44979934,\n",
       "         0.88832844, 0.88832844, 0.46547279, 0.46547279, 0.5985766 ,\n",
       "         0.5985766 , 0.89983352, 0.89983352, 0.98251942, 0.98251942,\n",
       "         0.46026951, 0.46026951, 0.73694866, 0.73694866, 0.66522816,\n",
       "         0.66522816, 0.45650115, 0.45650115, 0.98987037, 0.98987037,\n",
       "         0.55744802, 0.55744802, 0.23224204, 0.23224204, 0.40741202,\n",
       "         0.40741202, 0.98788662, 0.98788662, 0.88254105, 0.88254105,\n",
       "         0.3983587 , 0.3983587 , 0.659318  , 0.659318  , 0.75459559,\n",
       "         0.75459559, 0.56649111, 0.56649111, 0.88199373, 0.88199373,\n",
       "         0.03987029, 0.03987029, 0.12835158, 0.12835158, 0.26922529,\n",
       "         0.26922529, 0.9166934 , 0.9166934 , 0.44165092, 0.44165092,\n",
       "         0.6322653 , 0.6322653 , 0.1136133 , 0.1136133 , 0.24251909,\n",
       "         0.24251909, 0.14231036, 0.14231036, 0.50447058, 0.50447058,\n",
       "         0.21623394, 0.21623394, 0.98635139, 0.98635139, 0.87210173,\n",
       "         0.87210173, 0.78596425, 0.78596425, 0.66578783, 0.66578783,\n",
       "         0.11520922, 0.11520922, 0.14245196, 0.14245196, 0.72973026,\n",
       "         0.72973026, 0.5293986 , 0.5293986 , 0.56745043, 0.56745043])}}"
      ]
     },
     "execution_count": 1,
     "metadata": {},
     "output_type": "execute_result"
    }
   ],
   "source": [
    "ds = load_by_id(run_id_n)\n",
    "ds.get_parameter_data('x1')"
   ]
  },
  {
   "cell_type": "markdown",
   "metadata": {},
   "source": [
    "And a dataset stored as binary arrays"
   ]
  },
  {
   "cell_type": "code",
   "execution_count": 12,
   "metadata": {
    "execution": {
     "iopub.execute_input": "2021-02-11T13:26:03.827753Z",
     "iopub.status.busy": "2021-02-11T13:26:03.827173Z",
     "iopub.status.idle": "2021-02-11T13:26:03.902341Z",
     "shell.execute_reply": "2021-02-11T13:26:03.902842Z"
    },
    "scrolled": true
   },
   "outputs": [
    {
     "data": {
      "text/plain": [
       "{'x1': {'x1': array([[0.18090301],\n",
       "         [0.18090301],\n",
       "         [0.65211896],\n",
       "         [0.65211896],\n",
       "         [0.89843874],\n",
       "         [0.89843874],\n",
       "         [0.95680326],\n",
       "         [0.95680326],\n",
       "         [0.55626229],\n",
       "         [0.55626229],\n",
       "         [0.66656083],\n",
       "         [0.66656083],\n",
       "         [0.51255282],\n",
       "         [0.51255282],\n",
       "         [0.5542866 ],\n",
       "         [0.5542866 ],\n",
       "         [0.13141788],\n",
       "         [0.13141788],\n",
       "         [0.71859138],\n",
       "         [0.71859138],\n",
       "         [0.752454  ],\n",
       "         [0.752454  ],\n",
       "         [0.494482  ],\n",
       "         [0.494482  ],\n",
       "         [0.75465501],\n",
       "         [0.75465501],\n",
       "         [0.99403501],\n",
       "         [0.99403501],\n",
       "         [0.51295009],\n",
       "         [0.51295009],\n",
       "         [0.00571879],\n",
       "         [0.00571879],\n",
       "         [0.58726396],\n",
       "         [0.58726396],\n",
       "         [0.08300938],\n",
       "         [0.08300938],\n",
       "         [0.65415604],\n",
       "         [0.65415604],\n",
       "         [0.69821838],\n",
       "         [0.69821838],\n",
       "         [0.99275427],\n",
       "         [0.99275427],\n",
       "         [0.06271213],\n",
       "         [0.06271213],\n",
       "         [0.08191203],\n",
       "         [0.08191203],\n",
       "         [0.17259845],\n",
       "         [0.17259845],\n",
       "         [0.49776799],\n",
       "         [0.49776799],\n",
       "         [0.15719147],\n",
       "         [0.15719147],\n",
       "         [0.9166343 ],\n",
       "         [0.9166343 ],\n",
       "         [0.62992911],\n",
       "         [0.62992911],\n",
       "         [0.74456433],\n",
       "         [0.74456433],\n",
       "         [0.21398982],\n",
       "         [0.21398982],\n",
       "         [0.28985644],\n",
       "         [0.28985644],\n",
       "         [0.80992047],\n",
       "         [0.80992047],\n",
       "         [0.8228321 ],\n",
       "         [0.8228321 ],\n",
       "         [0.94613759],\n",
       "         [0.94613759],\n",
       "         [0.19965004],\n",
       "         [0.19965004],\n",
       "         [0.13066298],\n",
       "         [0.13066298],\n",
       "         [0.70935603],\n",
       "         [0.70935603],\n",
       "         [0.82087881],\n",
       "         [0.82087881],\n",
       "         [0.57574349],\n",
       "         [0.57574349],\n",
       "         [0.78800899],\n",
       "         [0.78800899],\n",
       "         [0.58694598],\n",
       "         [0.58694598],\n",
       "         [0.92606224],\n",
       "         [0.92606224],\n",
       "         [0.33298547],\n",
       "         [0.33298547],\n",
       "         [0.2045423 ],\n",
       "         [0.2045423 ],\n",
       "         [0.25650518],\n",
       "         [0.25650518],\n",
       "         [0.4629346 ],\n",
       "         [0.4629346 ],\n",
       "         [0.81120145],\n",
       "         [0.81120145],\n",
       "         [0.32883169],\n",
       "         [0.32883169],\n",
       "         [0.44869611],\n",
       "         [0.44869611],\n",
       "         [0.55958427],\n",
       "         [0.55958427],\n",
       "         [0.5843963 ],\n",
       "         [0.5843963 ],\n",
       "         [0.32463735],\n",
       "         [0.32463735],\n",
       "         [0.16252223],\n",
       "         [0.16252223],\n",
       "         [0.03659693],\n",
       "         [0.03659693],\n",
       "         [0.35437944],\n",
       "         [0.35437944],\n",
       "         [0.50084075],\n",
       "         [0.50084075],\n",
       "         [0.61063317],\n",
       "         [0.61063317],\n",
       "         [0.16380598],\n",
       "         [0.16380598],\n",
       "         [0.28686014],\n",
       "         [0.28686014],\n",
       "         [0.70142459],\n",
       "         [0.70142459],\n",
       "         [0.07170524],\n",
       "         [0.07170524],\n",
       "         [0.59293772],\n",
       "         [0.59293772],\n",
       "         [0.35178921],\n",
       "         [0.35178921],\n",
       "         [0.61247522],\n",
       "         [0.61247522],\n",
       "         [0.6500062 ],\n",
       "         [0.6500062 ],\n",
       "         [0.95510983],\n",
       "         [0.95510983],\n",
       "         [0.30180778],\n",
       "         [0.30180778],\n",
       "         [0.85152589],\n",
       "         [0.85152589],\n",
       "         [0.19842611],\n",
       "         [0.19842611],\n",
       "         [0.7846627 ],\n",
       "         [0.7846627 ],\n",
       "         [0.00956209],\n",
       "         [0.00956209],\n",
       "         [0.36982272],\n",
       "         [0.36982272],\n",
       "         [0.48931403],\n",
       "         [0.48931403],\n",
       "         [0.62783859],\n",
       "         [0.62783859],\n",
       "         [0.72259736],\n",
       "         [0.72259736],\n",
       "         [0.89244241],\n",
       "         [0.89244241],\n",
       "         [0.27458158],\n",
       "         [0.27458158],\n",
       "         [0.64296497],\n",
       "         [0.64296497],\n",
       "         [0.68169598],\n",
       "         [0.68169598],\n",
       "         [0.30703872],\n",
       "         [0.30703872],\n",
       "         [0.68035455],\n",
       "         [0.68035455],\n",
       "         [0.53150019],\n",
       "         [0.53150019],\n",
       "         [0.96353319],\n",
       "         [0.96353319],\n",
       "         [0.48327336],\n",
       "         [0.48327336],\n",
       "         [0.51520833],\n",
       "         [0.51520833],\n",
       "         [0.82597287],\n",
       "         [0.82597287],\n",
       "         [0.72378049],\n",
       "         [0.72378049],\n",
       "         [0.15522279],\n",
       "         [0.15522279],\n",
       "         [0.0249279 ],\n",
       "         [0.0249279 ],\n",
       "         [0.42073774],\n",
       "         [0.42073774],\n",
       "         [0.61377975],\n",
       "         [0.61377975],\n",
       "         [0.38271109],\n",
       "         [0.38271109],\n",
       "         [0.96711647],\n",
       "         [0.96711647],\n",
       "         [0.25368845],\n",
       "         [0.25368845],\n",
       "         [0.55803469],\n",
       "         [0.55803469],\n",
       "         [0.36783161],\n",
       "         [0.36783161],\n",
       "         [0.27241665],\n",
       "         [0.27241665],\n",
       "         [0.44103253],\n",
       "         [0.44103253],\n",
       "         [0.56355149],\n",
       "         [0.56355149],\n",
       "         [0.42691516],\n",
       "         [0.42691516]])}}"
      ]
     },
     "execution_count": 1,
     "metadata": {},
     "output_type": "execute_result"
    }
   ],
   "source": [
    "ds = load_by_id(run_id_a)\n",
    "ds.get_parameter_data('x1')"
   ]
  },
  {
   "cell_type": "code",
   "execution_count": null,
   "metadata": {},
   "outputs": [],
   "source": []
  }
 ],
 "metadata": {
  "kernelspec": {
   "display_name": "Python 3",
   "language": "python",
   "name": "python3"
  },
  "language_info": {
   "codemirror_mode": {
    "name": "ipython",
    "version": 3
   },
   "file_extension": ".py",
   "mimetype": "text/x-python",
   "name": "python",
   "nbconvert_exporter": "python",
   "pygments_lexer": "ipython3",
   "version": "3.7.9"
  },
  "nbsphinx": {
   "timeout": 600
  },
  "toc": {
   "base_numbering": 1,
   "nav_menu": {},
   "number_sections": true,
   "sideBar": true,
   "skip_h1_title": false,
   "title_cell": "Table of Contents",
   "title_sidebar": "Contents",
   "toc_cell": false,
   "toc_position": {},
   "toc_section_display": true,
   "toc_window_display": false
  },
  "varInspector": {
   "cols": {
    "lenName": 16,
    "lenType": 16,
    "lenVar": 40
   },
   "kernels_config": {
    "python": {
     "delete_cmd_postfix": "",
     "delete_cmd_prefix": "del ",
     "library": "var_list.py",
     "varRefreshCmd": "print(var_dic_list())"
    },
    "r": {
     "delete_cmd_postfix": ") ",
     "delete_cmd_prefix": "rm(",
     "library": "var_list.r",
     "varRefreshCmd": "cat(var_dic_list()) "
    }
   },
   "types_to_exclude": [
    "module",
    "function",
    "builtin_function_or_method",
    "instance",
    "_Feature"
   ],
   "window_display": false
  }
 },
 "nbformat": 4,
 "nbformat_minor": 2
}
