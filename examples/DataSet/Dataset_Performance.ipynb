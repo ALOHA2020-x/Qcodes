{
 "cells": [
  {
   "cell_type": "markdown",
   "metadata": {},
   "source": [
    "# DataSet Performance\n",
    "\n",
    "This notebook shows the trade-off between inserting data into a database row-by-row and as binary blobs. Inserting the data row-by-row means that we have direct access to all the data and may perform queries directly on the values of the data. On the other hand, as we shall see, this is much slower than inserting the data directly as binary blobs."
   ]
  },
  {
   "cell_type": "markdown",
   "metadata": {},
   "source": [
    "First, we choose a new location for the database to ensure that we don't add a bunch of benchmarking data to the default one."
   ]
  },
  {
   "cell_type": "code",
   "execution_count": 1,
   "metadata": {
    "execution": {
     "iopub.execute_input": "2020-11-19T09:35:38.386655Z",
     "iopub.status.busy": "2020-11-19T09:35:38.386082Z",
     "iopub.status.idle": "2020-11-19T09:35:39.463851Z",
     "shell.execute_reply": "2020-11-19T09:35:39.462751Z"
    }
   },
   "outputs": [
    {
     "name": "stdout",
     "output_type": "stream",
     "text": [
      "Logging hadn't been started.\n",
      "Activating auto-logging. Current session state plus future input saved.\n",
      "Filename       : /home/vsts/.qcodes/logs/command_history.log\n",
      "Mode           : append\n",
      "Output logging : True\n",
      "Raw input log  : False\n",
      "Timestamping   : True\n",
      "State          : active\n"
     ]
    },
    {
     "name": "stdout",
     "output_type": "stream",
     "text": [
      "Qcodes Logfile : /home/vsts/.qcodes/logs/201119-13995-qcodes.log\n"
     ]
    }
   ],
   "source": [
    "import os\n",
    "cwd = os.getcwd()\n",
    "import qcodes as qc\n",
    "qc.config[\"core\"][\"db_location\"] = os.path.join(cwd, 'testing.db')\n"
   ]
  },
  {
   "cell_type": "code",
   "execution_count": 2,
   "metadata": {
    "execution": {
     "iopub.execute_input": "2020-11-19T09:35:39.471109Z",
     "iopub.status.busy": "2020-11-19T09:35:39.470469Z",
     "iopub.status.idle": "2020-11-19T09:35:39.673285Z",
     "shell.execute_reply": "2020-11-19T09:35:39.672747Z"
    }
   },
   "outputs": [],
   "source": [
    "%matplotlib inline\n",
    "import time\n",
    "import matplotlib.pyplot as plt\n",
    "import numpy as np\n",
    "\n",
    "import qcodes as qc\n",
    "from qcodes.instrument.parameter import ManualParameter\n",
    "from qcodes.dataset.experiment_container import (Experiment,\n",
    "                                                 load_last_experiment,\n",
    "                                                 new_experiment)\n",
    "from qcodes.dataset.sqlite.database import initialise_database\n",
    "from qcodes import load_or_create_experiment\n",
    "from qcodes.dataset.measurements import Measurement"
   ]
  },
  {
   "cell_type": "code",
   "execution_count": 3,
   "metadata": {
    "execution": {
     "iopub.execute_input": "2020-11-19T09:35:39.677533Z",
     "iopub.status.busy": "2020-11-19T09:35:39.676831Z",
     "iopub.status.idle": "2020-11-19T09:35:39.801589Z",
     "shell.execute_reply": "2020-11-19T09:35:39.802035Z"
    }
   },
   "outputs": [
    {
     "name": "stdout",
     "output_type": "stream",
     "text": [
      "\r",
      "0it [00:00, ?it/s]"
     ]
    },
    {
     "name": "stdout",
     "output_type": "stream",
     "text": [
      "\r",
      "Upgrading database; v0 -> v1: : 0it [00:00, ?it/s]"
     ]
    },
    {
     "name": "stdout",
     "output_type": "stream",
     "text": [
      "\r",
      "Upgrading database; v0 -> v1: : 0it [00:00, ?it/s]"
     ]
    },
    {
     "name": "stdout",
     "output_type": "stream",
     "text": [
      "\n",
      "\r",
      "  0%|          | 0/1 [00:00<?, ?it/s]"
     ]
    },
    {
     "name": "stdout",
     "output_type": "stream",
     "text": [
      "\r",
      "Upgrading database; v1 -> v2:   0%|          | 0/1 [00:00<?, ?it/s]"
     ]
    },
    {
     "name": "stdout",
     "output_type": "stream",
     "text": [
      "\r",
      "Upgrading database; v1 -> v2: 100%|██████████| 1/1 [00:00<00:00, 522.92it/s]"
     ]
    },
    {
     "name": "stdout",
     "output_type": "stream",
     "text": [
      "\n",
      "\r",
      "0it [00:00, ?it/s]"
     ]
    },
    {
     "name": "stdout",
     "output_type": "stream",
     "text": [
      "\r",
      "Upgrading database; v2 -> v3: : 0it [00:00, ?it/s]"
     ]
    },
    {
     "name": "stdout",
     "output_type": "stream",
     "text": [
      "\r",
      "Upgrading database; v2 -> v3: : 0it [00:00, ?it/s]"
     ]
    },
    {
     "name": "stdout",
     "output_type": "stream",
     "text": [
      "\n",
      "\r",
      "0it [00:00, ?it/s]"
     ]
    },
    {
     "name": "stdout",
     "output_type": "stream",
     "text": [
      "\r",
      "Upgrading database; v3 -> v4: : 0it [00:00, ?it/s]"
     ]
    },
    {
     "name": "stdout",
     "output_type": "stream",
     "text": [
      "\r",
      "Upgrading database; v3 -> v4: : 0it [00:00, ?it/s]"
     ]
    },
    {
     "name": "stdout",
     "output_type": "stream",
     "text": [
      "\n",
      "\r",
      "  0%|          | 0/1 [00:00<?, ?it/s]"
     ]
    },
    {
     "name": "stdout",
     "output_type": "stream",
     "text": [
      "\r",
      "Upgrading database; v4 -> v5:   0%|          | 0/1 [00:00<?, ?it/s]"
     ]
    },
    {
     "name": "stdout",
     "output_type": "stream",
     "text": [
      "\r",
      "Upgrading database; v4 -> v5: 100%|██████████| 1/1 [00:00<00:00, 1088.02it/s]"
     ]
    },
    {
     "name": "stdout",
     "output_type": "stream",
     "text": [
      "\n",
      "\r",
      "0it [00:00, ?it/s]"
     ]
    },
    {
     "name": "stdout",
     "output_type": "stream",
     "text": [
      "\r",
      "Upgrading database; v5 -> v6: : 0it [00:00, ?it/s]"
     ]
    },
    {
     "name": "stdout",
     "output_type": "stream",
     "text": [
      "\r",
      "Upgrading database; v5 -> v6: : 0it [00:00, ?it/s]"
     ]
    },
    {
     "name": "stdout",
     "output_type": "stream",
     "text": [
      "\n",
      "\r",
      "  0%|          | 0/1 [00:00<?, ?it/s]"
     ]
    },
    {
     "name": "stdout",
     "output_type": "stream",
     "text": [
      "\r",
      "Upgrading database; v6 -> v7:   0%|          | 0/1 [00:00<?, ?it/s]"
     ]
    },
    {
     "name": "stdout",
     "output_type": "stream",
     "text": [
      "\r",
      "Upgrading database; v6 -> v7: 100%|██████████| 1/1 [00:00<00:00, 271.81it/s]"
     ]
    },
    {
     "name": "stdout",
     "output_type": "stream",
     "text": [
      "\n",
      "\r",
      "  0%|          | 0/1 [00:00<?, ?it/s]"
     ]
    },
    {
     "name": "stdout",
     "output_type": "stream",
     "text": [
      "\r",
      "Upgrading database; v7 -> v8:   0%|          | 0/1 [00:00<?, ?it/s]"
     ]
    },
    {
     "name": "stdout",
     "output_type": "stream",
     "text": [
      "\r",
      "Upgrading database; v7 -> v8: 100%|██████████| 1/1 [00:00<00:00, 888.81it/s]"
     ]
    },
    {
     "name": "stdout",
     "output_type": "stream",
     "text": [
      "\n",
      "\r",
      "  0%|          | 0/1 [00:00<?, ?it/s]"
     ]
    },
    {
     "name": "stdout",
     "output_type": "stream",
     "text": [
      "\r",
      "Upgrading database; v8 -> v9:   0%|          | 0/1 [00:00<?, ?it/s]"
     ]
    },
    {
     "name": "stdout",
     "output_type": "stream",
     "text": [
      "\r",
      "Upgrading database; v8 -> v9: 100%|██████████| 1/1 [00:00<00:00, 970.23it/s]"
     ]
    },
    {
     "name": "stdout",
     "output_type": "stream",
     "text": [
      "\n"
     ]
    }
   ],
   "source": [
    "initialise_database()\n",
    "exp = load_or_create_experiment(experiment_name='tutorial_exp', sample_name=\"no sample\")"
   ]
  },
  {
   "cell_type": "markdown",
   "metadata": {},
   "source": [
    "Here, we define a simple function to benchmark the time it takes to insert n points with either numeric or array data type.\n",
    "We will compare both the time used to call ``add_result`` and the time used for the full measurement."
   ]
  },
  {
   "cell_type": "code",
   "execution_count": 4,
   "metadata": {
    "execution": {
     "iopub.execute_input": "2020-11-19T09:35:39.811314Z",
     "iopub.status.busy": "2020-11-19T09:35:39.810682Z",
     "iopub.status.idle": "2020-11-19T09:35:39.814529Z",
     "shell.execute_reply": "2020-11-19T09:35:39.814024Z"
    }
   },
   "outputs": [],
   "source": [
    "def insert_data(paramtype, npoints, nreps=1):\n",
    "\n",
    "    meas = Measurement(exp=exp)\n",
    "\n",
    "    x1 = ManualParameter('x1')\n",
    "    x2 = ManualParameter('x2')\n",
    "    x3 = ManualParameter('x3')\n",
    "    y1 = ManualParameter('y1')\n",
    "    y2 = ManualParameter('y2')\n",
    "\n",
    "    meas.register_parameter(x1, paramtype=paramtype)\n",
    "    meas.register_parameter(x2, paramtype=paramtype)\n",
    "    meas.register_parameter(x3, paramtype=paramtype)\n",
    "    meas.register_parameter(y1, setpoints=[x1, x2, x3],\n",
    "                            paramtype=paramtype)\n",
    "    meas.register_parameter(y2, setpoints=[x1, x2, x3],\n",
    "                            paramtype=paramtype)\n",
    "    start = time.perf_counter()\n",
    "    with meas.run() as datasaver:\n",
    "        start_adding = time.perf_counter()\n",
    "        for i in range(nreps):\n",
    "            datasaver.add_result((x1, np.random.rand(npoints)),\n",
    "                                 (x2, np.random.rand(npoints)),\n",
    "                                 (x3, np.random.rand(npoints)),\n",
    "                                 (y1, np.random.rand(npoints)),\n",
    "                                 (y2, np.random.rand(npoints)))\n",
    "        stop_adding = time.perf_counter()\n",
    "        run_id = datasaver.run_id\n",
    "    stop = time.perf_counter()\n",
    "    tot_time = stop - start\n",
    "    add_time = stop_adding - start_adding\n",
    "    return tot_time, add_time, run_id"
   ]
  },
  {
   "cell_type": "markdown",
   "metadata": {},
   "source": [
    "## Comparison between numeric/array data and binary blob"
   ]
  },
  {
   "cell_type": "markdown",
   "metadata": {},
   "source": [
    "### Case1: Short experiment time"
   ]
  },
  {
   "cell_type": "code",
   "execution_count": 5,
   "metadata": {
    "execution": {
     "iopub.execute_input": "2020-11-19T09:35:39.821985Z",
     "iopub.status.busy": "2020-11-19T09:35:39.820992Z",
     "iopub.status.idle": "2020-11-19T09:35:40.744571Z",
     "shell.execute_reply": "2020-11-19T09:35:40.744069Z"
    }
   },
   "outputs": [
    {
     "name": "stdout",
     "output_type": "stream",
     "text": [
      "Starting experimental run with id: 1. \n",
      "Starting experimental run with id: 2. \n",
      "Starting experimental run with id: 3. \n",
      "Starting experimental run with id: 4. \n"
     ]
    },
    {
     "name": "stdout",
     "output_type": "stream",
     "text": [
      "Starting experimental run with id: 5. \n"
     ]
    },
    {
     "name": "stdout",
     "output_type": "stream",
     "text": [
      "Starting experimental run with id: 6. \n"
     ]
    },
    {
     "name": "stdout",
     "output_type": "stream",
     "text": [
      "Starting experimental run with id: 7. \n"
     ]
    },
    {
     "name": "stdout",
     "output_type": "stream",
     "text": [
      "Starting experimental run with id: 8. \n",
      "Starting experimental run with id: 9. \n"
     ]
    },
    {
     "name": "stdout",
     "output_type": "stream",
     "text": [
      "Starting experimental run with id: 10. \n",
      "Starting experimental run with id: 11. \n"
     ]
    },
    {
     "name": "stdout",
     "output_type": "stream",
     "text": [
      "Starting experimental run with id: 12. \n"
     ]
    },
    {
     "name": "stdout",
     "output_type": "stream",
     "text": [
      "Starting experimental run with id: 13. \n"
     ]
    },
    {
     "name": "stdout",
     "output_type": "stream",
     "text": [
      "Starting experimental run with id: 14. \n"
     ]
    }
   ],
   "source": [
    "sizes = [1,500,1000,2000,3000,4000,5000]\n",
    "t_numeric = []\n",
    "t_numeric_add = []\n",
    "t_array = []\n",
    "t_array_add = []\n",
    "for size in sizes:\n",
    "    tn, tna, run_id_n =  insert_data('numeric', size)\n",
    "    t_numeric.append(tn)\n",
    "    t_numeric_add.append(tna)\n",
    "\n",
    "    ta, taa, run_id_a =  insert_data('array', size)\n",
    "    t_array.append(ta)\n",
    "    t_array_add.append(taa)"
   ]
  },
  {
   "cell_type": "code",
   "execution_count": 6,
   "metadata": {
    "execution": {
     "iopub.execute_input": "2020-11-19T09:35:40.762182Z",
     "iopub.status.busy": "2020-11-19T09:35:40.761640Z",
     "iopub.status.idle": "2020-11-19T09:35:40.967100Z",
     "shell.execute_reply": "2020-11-19T09:35:40.966221Z"
    }
   },
   "outputs": [
    {
     "data": {
      "image/png": "[encoded data removed]",
      "text/plain": [
       "<Figure size 432x288 with 1 Axes>"
      ]
     },
     "metadata": {
      "needs_background": "light"
     },
     "output_type": "display_data"
    }
   ],
   "source": [
    "fig, ax = plt.subplots(1,1)\n",
    "ax.plot(sizes, t_numeric, 'o-', label='Inserting row-by-row')\n",
    "ax.plot(sizes, t_numeric_add, 'o-', label='Inserting row-by-row: add_result only')\n",
    "ax.plot(sizes, t_array, 'd-', label='Inserting as binary blob')\n",
    "ax.plot(sizes, t_array_add, 'd-', label='Inserting as binary blob: add_result only')\n",
    "ax.legend()\n",
    "ax.set_xlabel('Array length')\n",
    "ax.set_ylabel('Time (s)')\n",
    "fig.tight_layout()"
   ]
  },
  {
   "cell_type": "markdown",
   "metadata": {},
   "source": [
    "As shown in the latter figure, the time to setup and and close the experiment is approximately 0.4 sec. In case of small array sizes, the difference between inserting values of data as arrays and inserting them row-by-row is relatively unimportant. At larger array sizes, i.e. above 10000 points, the cost of writing data as individual datapoints starts to become important.\n"
   ]
  },
  {
   "cell_type": "markdown",
   "metadata": {},
   "source": [
    "### Case2: Long experiment time "
   ]
  },
  {
   "cell_type": "code",
   "execution_count": 7,
   "metadata": {
    "execution": {
     "iopub.execute_input": "2020-11-19T09:35:40.973932Z",
     "iopub.status.busy": "2020-11-19T09:35:40.972915Z",
     "iopub.status.idle": "2020-11-19T09:36:46.474742Z",
     "shell.execute_reply": "2020-11-19T09:36:46.474201Z"
    }
   },
   "outputs": [
    {
     "name": "stdout",
     "output_type": "stream",
     "text": [
      "Starting experimental run with id: 15. \n",
      "Starting experimental run with id: 16. \n",
      "Starting experimental run with id: 17. \n"
     ]
    },
    {
     "name": "stdout",
     "output_type": "stream",
     "text": [
      "Starting experimental run with id: 18. \n",
      "Starting experimental run with id: 19. \n"
     ]
    },
    {
     "name": "stdout",
     "output_type": "stream",
     "text": [
      "Starting experimental run with id: 20. \n"
     ]
    },
    {
     "name": "stdout",
     "output_type": "stream",
     "text": [
      "Starting experimental run with id: 21. \n"
     ]
    },
    {
     "name": "stdout",
     "output_type": "stream",
     "text": [
      "Starting experimental run with id: 22. \n"
     ]
    },
    {
     "name": "stdout",
     "output_type": "stream",
     "text": [
      "Starting experimental run with id: 23. \n"
     ]
    },
    {
     "name": "stdout",
     "output_type": "stream",
     "text": [
      "Starting experimental run with id: 24. \n"
     ]
    },
    {
     "name": "stdout",
     "output_type": "stream",
     "text": [
      "Starting experimental run with id: 25. \n"
     ]
    },
    {
     "name": "stdout",
     "output_type": "stream",
     "text": [
      "Starting experimental run with id: 26. \n"
     ]
    },
    {
     "name": "stdout",
     "output_type": "stream",
     "text": [
      "Starting experimental run with id: 27. \n"
     ]
    },
    {
     "name": "stdout",
     "output_type": "stream",
     "text": [
      "Starting experimental run with id: 28. \n"
     ]
    }
   ],
   "source": [
    "sizes = [1,500,1000,2000,3000,4000,5000]\n",
    "nreps = 100\n",
    "t_numeric = []\n",
    "t_numeric_add = []\n",
    "t_numeric_run_ids = []\n",
    "t_array = []\n",
    "t_array_add = []\n",
    "t_array_run_ids = []\n",
    "for size in sizes:\n",
    "    tn, tna, run_id_n =  insert_data('numeric', size, nreps=nreps)\n",
    "    t_numeric.append(tn)\n",
    "    t_numeric_add.append(tna)\n",
    "    t_numeric_run_ids.append(run_id_n)\n",
    "\n",
    "    ta, taa, run_id_a =  insert_data('array', size, nreps=nreps)\n",
    "    t_array.append(ta)\n",
    "    t_array_add.append(taa)\n",
    "    t_array_run_ids.append(run_id_a)"
   ]
  },
  {
   "cell_type": "code",
   "execution_count": 8,
   "metadata": {
    "execution": {
     "iopub.execute_input": "2020-11-19T09:36:46.514069Z",
     "iopub.status.busy": "2020-11-19T09:36:46.480337Z",
     "iopub.status.idle": "2020-11-19T09:36:46.689002Z",
     "shell.execute_reply": "2020-11-19T09:36:46.688512Z"
    },
    "scrolled": true
   },
   "outputs": [
    {
     "data": {
      "image/png": "[encoded data removed]",
      "text/plain": [
       "<Figure size 432x288 with 1 Axes>"
      ]
     },
     "metadata": {
      "needs_background": "light"
     },
     "output_type": "display_data"
    }
   ],
   "source": [
    "fig, ax = plt.subplots(1,1)\n",
    "ax.plot(sizes, t_numeric, 'o-', label='Inserting row-by-row')\n",
    "ax.plot(sizes, t_numeric_add, 'o-', label='Inserting row-by-row: add_result only')\n",
    "ax.plot(sizes, t_array, 'd-', label='Inserting as binary blob')\n",
    "ax.plot(sizes, t_array_add, 'd-', label='Inserting as binary blob: add_result only')\n",
    "ax.legend()\n",
    "ax.set_xlabel('Array length')\n",
    "ax.set_ylabel('Time (s)')\n",
    "fig.tight_layout()"
   ]
  },
  {
   "cell_type": "markdown",
   "metadata": {},
   "source": [
    "However, as we increase the length of the experiment, as seen here by repeating the insertion 100 times, we see a big difference between inserting values of the data row-by-row and inserting it as a binary blob."
   ]
  },
  {
   "cell_type": "markdown",
   "metadata": {},
   "source": [
    "## Loading the data "
   ]
  },
  {
   "cell_type": "code",
   "execution_count": 9,
   "metadata": {
    "execution": {
     "iopub.execute_input": "2020-11-19T09:36:46.693479Z",
     "iopub.status.busy": "2020-11-19T09:36:46.692470Z",
     "iopub.status.idle": "2020-11-19T09:36:46.696183Z",
     "shell.execute_reply": "2020-11-19T09:36:46.695728Z"
    }
   },
   "outputs": [],
   "source": [
    "from qcodes.dataset.data_set import load_by_id\n",
    "from qcodes.dataset.data_export import get_data_by_id"
   ]
  },
  {
   "cell_type": "markdown",
   "metadata": {},
   "source": [
    "As usual you can load the data by using the ``load_by_id`` function but you will notice that the different storage methods\n",
    "are reflected in shape of the data as it is retrieved. "
   ]
  },
  {
   "cell_type": "code",
   "execution_count": 10,
   "metadata": {
    "execution": {
     "iopub.execute_input": "2020-11-19T09:36:46.700235Z",
     "iopub.status.busy": "2020-11-19T09:36:46.699559Z",
     "iopub.status.idle": "2020-11-19T09:36:46.702256Z",
     "shell.execute_reply": "2020-11-19T09:36:46.701767Z"
    }
   },
   "outputs": [],
   "source": [
    "run_id_n = t_numeric_run_ids[0]\n",
    "run_id_a = t_array_run_ids[0]"
   ]
  },
  {
   "cell_type": "code",
   "execution_count": 11,
   "metadata": {
    "execution": {
     "iopub.execute_input": "2020-11-19T09:36:46.705646Z",
     "iopub.status.busy": "2020-11-19T09:36:46.705086Z",
     "iopub.status.idle": "2020-11-19T09:36:46.714781Z",
     "shell.execute_reply": "2020-11-19T09:36:46.714327Z"
    },
    "scrolled": true
   },
   "outputs": [
    {
     "data": {
      "text/plain": [
       "{'x1': {'x1': array([0.98195446, 0.98195446, 0.97600428, 0.97600428, 0.172288  ,\n",
       "         0.172288  , 0.53148474, 0.53148474, 0.16633686, 0.16633686,\n",
       "         0.14858738, 0.14858738, 0.46377022, 0.46377022, 0.20034869,\n",
       "         0.20034869, 0.45382981, 0.45382981, 0.73115684, 0.73115684,\n",
       "         0.60612252, 0.60612252, 0.00249994, 0.00249994, 0.6314938 ,\n",
       "         0.6314938 , 0.91882277, 0.91882277, 0.42995758, 0.42995758,\n",
       "         0.19341357, 0.19341357, 0.51001865, 0.51001865, 0.9141903 ,\n",
       "         0.9141903 , 0.55130173, 0.55130173, 0.80655498, 0.80655498,\n",
       "         0.71182934, 0.71182934, 0.11111018, 0.11111018, 0.21496727,\n",
       "         0.21496727, 0.78115424, 0.78115424, 0.50737946, 0.50737946,\n",
       "         0.17217051, 0.17217051, 0.34009183, 0.34009183, 0.81845417,\n",
       "         0.81845417, 0.88876924, 0.88876924, 0.23377914, 0.23377914,\n",
       "         0.46700189, 0.46700189, 0.36039305, 0.36039305, 0.66710713,\n",
       "         0.66710713, 0.5114427 , 0.5114427 , 0.88040491, 0.88040491,\n",
       "         0.86110726, 0.86110726, 0.97999824, 0.97999824, 0.94906761,\n",
       "         0.94906761, 0.96768873, 0.96768873, 0.38658073, 0.38658073,\n",
       "         0.52651886, 0.52651886, 0.795206  , 0.795206  , 0.59879967,\n",
       "         0.59879967, 0.85383141, 0.85383141, 0.98357603, 0.98357603,\n",
       "         0.86034929, 0.86034929, 0.58968706, 0.58968706, 0.0168194 ,\n",
       "         0.0168194 , 0.98375814, 0.98375814, 0.03679145, 0.03679145,\n",
       "         0.97703039, 0.97703039, 0.8064478 , 0.8064478 , 0.31265605,\n",
       "         0.31265605, 0.61846048, 0.61846048, 0.99493984, 0.99493984,\n",
       "         0.78015568, 0.78015568, 0.63215959, 0.63215959, 0.56800867,\n",
       "         0.56800867, 0.66648591, 0.66648591, 0.64229948, 0.64229948,\n",
       "         0.1134537 , 0.1134537 , 0.0199812 , 0.0199812 , 0.66914808,\n",
       "         0.66914808, 0.76977972, 0.76977972, 0.43190703, 0.43190703,\n",
       "         0.86258657, 0.86258657, 0.98310366, 0.98310366, 0.56607293,\n",
       "         0.56607293, 0.4125009 , 0.4125009 , 0.77740232, 0.77740232,\n",
       "         0.5277728 , 0.5277728 , 0.91731664, 0.91731664, 0.10124886,\n",
       "         0.10124886, 0.85081259, 0.85081259, 0.71726757, 0.71726757,\n",
       "         0.79329593, 0.79329593, 0.47753608, 0.47753608, 0.24988346,\n",
       "         0.24988346, 0.55900636, 0.55900636, 0.85338022, 0.85338022,\n",
       "         0.56075335, 0.56075335, 0.1557282 , 0.1557282 , 0.98019769,\n",
       "         0.98019769, 0.14966203, 0.14966203, 0.63681078, 0.63681078,\n",
       "         0.74501444, 0.74501444, 0.20308151, 0.20308151, 0.4492756 ,\n",
       "         0.4492756 , 0.46811928, 0.46811928, 0.36133452, 0.36133452,\n",
       "         0.26648957, 0.26648957, 0.53969687, 0.53969687, 0.56883154,\n",
       "         0.56883154, 0.32150253, 0.32150253, 0.90712685, 0.90712685,\n",
       "         0.67571115, 0.67571115, 0.25732915, 0.25732915, 0.81511307,\n",
       "         0.81511307, 0.41551283, 0.41551283, 0.51840103, 0.51840103])}}"
      ]
     },
     "execution_count": 1,
     "metadata": {},
     "output_type": "execute_result"
    }
   ],
   "source": [
    "ds = load_by_id(run_id_n)\n",
    "ds.get_parameter_data('x1')"
   ]
  },
  {
   "cell_type": "markdown",
   "metadata": {},
   "source": [
    "And a dataset stored as binary arrays"
   ]
  },
  {
   "cell_type": "code",
   "execution_count": 12,
   "metadata": {
    "execution": {
     "iopub.execute_input": "2020-11-19T09:36:46.718245Z",
     "iopub.status.busy": "2020-11-19T09:36:46.717736Z",
     "iopub.status.idle": "2020-11-19T09:36:46.771873Z",
     "shell.execute_reply": "2020-11-19T09:36:46.772478Z"
    },
    "scrolled": true
   },
   "outputs": [
    {
     "data": {
      "text/plain": [
       "{'x1': {'x1': array([[0.6746391 ],\n",
       "         [0.6746391 ],\n",
       "         [0.53909862],\n",
       "         [0.53909862],\n",
       "         [0.32773825],\n",
       "         [0.32773825],\n",
       "         [0.45548539],\n",
       "         [0.45548539],\n",
       "         [0.97688452],\n",
       "         [0.97688452],\n",
       "         [0.00223583],\n",
       "         [0.00223583],\n",
       "         [0.49061623],\n",
       "         [0.49061623],\n",
       "         [0.19299824],\n",
       "         [0.19299824],\n",
       "         [0.73329412],\n",
       "         [0.73329412],\n",
       "         [0.68808466],\n",
       "         [0.68808466],\n",
       "         [0.09068481],\n",
       "         [0.09068481],\n",
       "         [0.51423717],\n",
       "         [0.51423717],\n",
       "         [0.46480305],\n",
       "         [0.46480305],\n",
       "         [0.12558072],\n",
       "         [0.12558072],\n",
       "         [0.34248708],\n",
       "         [0.34248708],\n",
       "         [0.43178861],\n",
       "         [0.43178861],\n",
       "         [0.40771966],\n",
       "         [0.40771966],\n",
       "         [0.86058705],\n",
       "         [0.86058705],\n",
       "         [0.02181405],\n",
       "         [0.02181405],\n",
       "         [0.89457289],\n",
       "         [0.89457289],\n",
       "         [0.83669676],\n",
       "         [0.83669676],\n",
       "         [0.78370408],\n",
       "         [0.78370408],\n",
       "         [0.979321  ],\n",
       "         [0.979321  ],\n",
       "         [0.83591229],\n",
       "         [0.83591229],\n",
       "         [0.55152952],\n",
       "         [0.55152952],\n",
       "         [0.74950962],\n",
       "         [0.74950962],\n",
       "         [0.22106516],\n",
       "         [0.22106516],\n",
       "         [0.89096298],\n",
       "         [0.89096298],\n",
       "         [0.39414225],\n",
       "         [0.39414225],\n",
       "         [0.04704259],\n",
       "         [0.04704259],\n",
       "         [0.13010066],\n",
       "         [0.13010066],\n",
       "         [0.74940859],\n",
       "         [0.74940859],\n",
       "         [0.51223709],\n",
       "         [0.51223709],\n",
       "         [0.33466768],\n",
       "         [0.33466768],\n",
       "         [0.66185935],\n",
       "         [0.66185935],\n",
       "         [0.07445677],\n",
       "         [0.07445677],\n",
       "         [0.61017854],\n",
       "         [0.61017854],\n",
       "         [0.74060475],\n",
       "         [0.74060475],\n",
       "         [0.92225516],\n",
       "         [0.92225516],\n",
       "         [0.41917425],\n",
       "         [0.41917425],\n",
       "         [0.86450738],\n",
       "         [0.86450738],\n",
       "         [0.92107297],\n",
       "         [0.92107297],\n",
       "         [0.17481448],\n",
       "         [0.17481448],\n",
       "         [0.46263816],\n",
       "         [0.46263816],\n",
       "         [0.43630239],\n",
       "         [0.43630239],\n",
       "         [0.97823707],\n",
       "         [0.97823707],\n",
       "         [0.51526328],\n",
       "         [0.51526328],\n",
       "         [0.36504334],\n",
       "         [0.36504334],\n",
       "         [0.2191717 ],\n",
       "         [0.2191717 ],\n",
       "         [0.1838222 ],\n",
       "         [0.1838222 ],\n",
       "         [0.71964673],\n",
       "         [0.71964673],\n",
       "         [0.01499331],\n",
       "         [0.01499331],\n",
       "         [0.83403295],\n",
       "         [0.83403295],\n",
       "         [0.68441598],\n",
       "         [0.68441598],\n",
       "         [0.1959226 ],\n",
       "         [0.1959226 ],\n",
       "         [0.12934   ],\n",
       "         [0.12934   ],\n",
       "         [0.38863496],\n",
       "         [0.38863496],\n",
       "         [0.18081881],\n",
       "         [0.18081881],\n",
       "         [0.90710106],\n",
       "         [0.90710106],\n",
       "         [0.78188272],\n",
       "         [0.78188272],\n",
       "         [0.5250073 ],\n",
       "         [0.5250073 ],\n",
       "         [0.92293744],\n",
       "         [0.92293744],\n",
       "         [0.75708103],\n",
       "         [0.75708103],\n",
       "         [0.83463104],\n",
       "         [0.83463104],\n",
       "         [0.32936344],\n",
       "         [0.32936344],\n",
       "         [0.57892645],\n",
       "         [0.57892645],\n",
       "         [0.24944593],\n",
       "         [0.24944593],\n",
       "         [0.93384548],\n",
       "         [0.93384548],\n",
       "         [0.74650893],\n",
       "         [0.74650893],\n",
       "         [0.91211101],\n",
       "         [0.91211101],\n",
       "         [0.87638469],\n",
       "         [0.87638469],\n",
       "         [0.84268695],\n",
       "         [0.84268695],\n",
       "         [0.26373662],\n",
       "         [0.26373662],\n",
       "         [0.77529243],\n",
       "         [0.77529243],\n",
       "         [0.4752573 ],\n",
       "         [0.4752573 ],\n",
       "         [0.08457358],\n",
       "         [0.08457358],\n",
       "         [0.28670819],\n",
       "         [0.28670819],\n",
       "         [0.82189716],\n",
       "         [0.82189716],\n",
       "         [0.49465088],\n",
       "         [0.49465088],\n",
       "         [0.90004035],\n",
       "         [0.90004035],\n",
       "         [0.29314551],\n",
       "         [0.29314551],\n",
       "         [0.22858637],\n",
       "         [0.22858637],\n",
       "         [0.3622835 ],\n",
       "         [0.3622835 ],\n",
       "         [0.19827791],\n",
       "         [0.19827791],\n",
       "         [0.94709146],\n",
       "         [0.94709146],\n",
       "         [0.3711229 ],\n",
       "         [0.3711229 ],\n",
       "         [0.73517118],\n",
       "         [0.73517118],\n",
       "         [0.09795597],\n",
       "         [0.09795597],\n",
       "         [0.52687599],\n",
       "         [0.52687599],\n",
       "         [0.96949212],\n",
       "         [0.96949212],\n",
       "         [0.55536574],\n",
       "         [0.55536574],\n",
       "         [0.25387454],\n",
       "         [0.25387454],\n",
       "         [0.37123685],\n",
       "         [0.37123685],\n",
       "         [0.95597788],\n",
       "         [0.95597788],\n",
       "         [0.84644958],\n",
       "         [0.84644958],\n",
       "         [0.38284863],\n",
       "         [0.38284863],\n",
       "         [0.65026702],\n",
       "         [0.65026702],\n",
       "         [0.13580294],\n",
       "         [0.13580294],\n",
       "         [0.15804408],\n",
       "         [0.15804408],\n",
       "         [0.44824332],\n",
       "         [0.44824332]])}}"
      ]
     },
     "execution_count": 1,
     "metadata": {},
     "output_type": "execute_result"
    }
   ],
   "source": [
    "ds = load_by_id(run_id_a)\n",
    "ds.get_parameter_data('x1')"
   ]
  },
  {
   "cell_type": "code",
   "execution_count": null,
   "metadata": {},
   "outputs": [],
   "source": []
  }
 ],
 "metadata": {
  "kernelspec": {
   "display_name": "Python 3",
   "language": "python",
   "name": "python3"
  },
  "language_info": {
   "codemirror_mode": {
    "name": "ipython",
    "version": 3
   },
   "file_extension": ".py",
   "mimetype": "text/x-python",
   "name": "python",
   "nbconvert_exporter": "python",
   "pygments_lexer": "ipython3",
   "version": "3.7.9"
  },
  "nbsphinx": {
   "timeout": 600
  },
  "toc": {
   "base_numbering": 1,
   "nav_menu": {},
   "number_sections": true,
   "sideBar": true,
   "skip_h1_title": false,
   "title_cell": "Table of Contents",
   "title_sidebar": "Contents",
   "toc_cell": false,
   "toc_position": {},
   "toc_section_display": true,
   "toc_window_display": false
  },
  "varInspector": {
   "cols": {
    "lenName": 16,
    "lenType": 16,
    "lenVar": 40
   },
   "kernels_config": {
    "python": {
     "delete_cmd_postfix": "",
     "delete_cmd_prefix": "del ",
     "library": "var_list.py",
     "varRefreshCmd": "print(var_dic_list())"
    },
    "r": {
     "delete_cmd_postfix": ") ",
     "delete_cmd_prefix": "rm(",
     "library": "var_list.r",
     "varRefreshCmd": "cat(var_dic_list()) "
    }
   },
   "types_to_exclude": [
    "module",
    "function",
    "builtin_function_or_method",
    "instance",
    "_Feature"
   ],
   "window_display": false
  }
 },
 "nbformat": 4,
 "nbformat_minor": 2
}
