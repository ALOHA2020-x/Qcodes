{
 "cells": [
  {
   "cell_type": "markdown",
   "metadata": {},
   "source": [
    "# DataSet Performance\n",
    "\n",
    "This notebook shows the trade-off between inserting data into a database row-by-row and as binary blobs. Inserting the data row-by-row means that we have direct access to all the data and may perform queries directly on the values of the data. On the other hand, as we shall see, this is much slower than inserting the data directly as binary blobs."
   ]
  },
  {
   "cell_type": "markdown",
   "metadata": {},
   "source": [
    "First, we choose a new location for the database to ensure that we don't add a bunch of benchmarking data to the default one."
   ]
  },
  {
   "cell_type": "code",
   "execution_count": 1,
   "metadata": {},
   "outputs": [
    {
     "name": "stdout",
     "output_type": "stream",
     "text": [
      "Logging hadn't been started.\n",
      "Activating auto-logging. Current session state plus future input saved.\n",
      "Filename       : /home/vsts/.qcodes/logs/command_history.log\n",
      "Mode           : append\n",
      "Output logging : True\n",
      "Raw input log  : False\n",
      "Timestamping   : True\n",
      "State          : active\n"
     ]
    },
    {
     "name": "stdout",
     "output_type": "stream",
     "text": [
      "Qcodes Logfile : /home/vsts/.qcodes/logs/200519-19214-qcodes.log\n"
     ]
    }
   ],
   "source": [
    "import os\n",
    "cwd = os.getcwd()\n",
    "import qcodes as qc\n",
    "qc.config[\"core\"][\"db_location\"] = os.path.join(cwd, 'testing.db')\n"
   ]
  },
  {
   "cell_type": "code",
   "execution_count": 2,
   "metadata": {},
   "outputs": [],
   "source": [
    "%matplotlib inline\n",
    "import time\n",
    "import matplotlib.pyplot as plt\n",
    "import numpy as np\n",
    "\n",
    "import qcodes as qc\n",
    "from qcodes.instrument.parameter import ManualParameter\n",
    "from qcodes.dataset.experiment_container import (Experiment,\n",
    "                                                 load_last_experiment,\n",
    "                                                 new_experiment)\n",
    "from qcodes.dataset.sqlite.database import initialise_database\n",
    "from qcodes import load_or_create_experiment\n",
    "from qcodes.dataset.measurements import Measurement"
   ]
  },
  {
   "cell_type": "code",
   "execution_count": 3,
   "metadata": {},
   "outputs": [
    {
     "name": "stdout",
     "output_type": "stream",
     "text": [
      "\r",
      "0it [00:00, ?it/s]"
     ]
    },
    {
     "name": "stdout",
     "output_type": "stream",
     "text": [
      "\r",
      "Upgrading database; v0 -> v1: : 0it [00:00, ?it/s]"
     ]
    },
    {
     "name": "stdout",
     "output_type": "stream",
     "text": [
      "\r",
      "Upgrading database; v0 -> v1: : 0it [00:00, ?it/s]"
     ]
    },
    {
     "name": "stdout",
     "output_type": "stream",
     "text": [
      "\n",
      "\r",
      "  0%|          | 0/1 [00:00<?, ?it/s]"
     ]
    },
    {
     "name": "stdout",
     "output_type": "stream",
     "text": [
      "\r",
      "Upgrading database; v1 -> v2:   0%|          | 0/1 [00:00<?, ?it/s]"
     ]
    },
    {
     "name": "stdout",
     "output_type": "stream",
     "text": [
      "\r",
      "Upgrading database; v1 -> v2: 100%|██████████| 1/1 [00:00<00:00, 708.74it/s]"
     ]
    },
    {
     "name": "stdout",
     "output_type": "stream",
     "text": [
      "\n",
      "\r",
      "0it [00:00, ?it/s]"
     ]
    },
    {
     "name": "stdout",
     "output_type": "stream",
     "text": [
      "\r",
      "Upgrading database; v2 -> v3: : 0it [00:00, ?it/s]"
     ]
    },
    {
     "name": "stdout",
     "output_type": "stream",
     "text": [
      "\r",
      "Upgrading database; v2 -> v3: : 0it [00:00, ?it/s]"
     ]
    },
    {
     "name": "stdout",
     "output_type": "stream",
     "text": [
      "\n",
      "\r",
      "0it [00:00, ?it/s]"
     ]
    },
    {
     "name": "stdout",
     "output_type": "stream",
     "text": [
      "\r",
      "Upgrading database; v3 -> v4: : 0it [00:00, ?it/s]"
     ]
    },
    {
     "name": "stdout",
     "output_type": "stream",
     "text": [
      "\r",
      "Upgrading database; v3 -> v4: : 0it [00:00, ?it/s]"
     ]
    },
    {
     "name": "stdout",
     "output_type": "stream",
     "text": [
      "\n",
      "\r",
      "  0%|          | 0/1 [00:00<?, ?it/s]"
     ]
    },
    {
     "name": "stdout",
     "output_type": "stream",
     "text": [
      "\r",
      "Upgrading database; v4 -> v5:   0%|          | 0/1 [00:00<?, ?it/s]"
     ]
    },
    {
     "name": "stdout",
     "output_type": "stream",
     "text": [
      "\r",
      "Upgrading database; v4 -> v5: 100%|██████████| 1/1 [00:00<00:00, 657.11it/s]"
     ]
    },
    {
     "name": "stdout",
     "output_type": "stream",
     "text": [
      "\n",
      "\r",
      "0it [00:00, ?it/s]"
     ]
    },
    {
     "name": "stdout",
     "output_type": "stream",
     "text": [
      "\r",
      "Upgrading database; v5 -> v6: : 0it [00:00, ?it/s]"
     ]
    },
    {
     "name": "stdout",
     "output_type": "stream",
     "text": [
      "\r",
      "Upgrading database; v5 -> v6: : 0it [00:00, ?it/s]"
     ]
    },
    {
     "name": "stdout",
     "output_type": "stream",
     "text": [
      "\n",
      "\r",
      "  0%|          | 0/1 [00:00<?, ?it/s]"
     ]
    },
    {
     "name": "stdout",
     "output_type": "stream",
     "text": [
      "\r",
      "Upgrading database; v6 -> v7:   0%|          | 0/1 [00:00<?, ?it/s]"
     ]
    },
    {
     "name": "stdout",
     "output_type": "stream",
     "text": [
      "\r",
      "Upgrading database; v6 -> v7: 100%|██████████| 1/1 [00:00<00:00, 378.44it/s]"
     ]
    },
    {
     "name": "stdout",
     "output_type": "stream",
     "text": [
      "\n",
      "\r",
      "  0%|          | 0/1 [00:00<?, ?it/s]"
     ]
    },
    {
     "name": "stdout",
     "output_type": "stream",
     "text": [
      "\r",
      "Upgrading database; v7 -> v8:   0%|          | 0/1 [00:00<?, ?it/s]"
     ]
    },
    {
     "name": "stdout",
     "output_type": "stream",
     "text": [
      "\r",
      "Upgrading database; v7 -> v8: 100%|██████████| 1/1 [00:00<00:00, 530.19it/s]"
     ]
    },
    {
     "name": "stdout",
     "output_type": "stream",
     "text": [
      "\n",
      "\r",
      "  0%|          | 0/1 [00:00<?, ?it/s]"
     ]
    },
    {
     "name": "stdout",
     "output_type": "stream",
     "text": [
      "\r",
      "Upgrading database; v8 -> v9:   0%|          | 0/1 [00:00<?, ?it/s]"
     ]
    },
    {
     "name": "stdout",
     "output_type": "stream",
     "text": [
      "\r",
      "Upgrading database; v8 -> v9: 100%|██████████| 1/1 [00:00<00:00, 718.94it/s]"
     ]
    },
    {
     "name": "stdout",
     "output_type": "stream",
     "text": [
      "\n"
     ]
    }
   ],
   "source": [
    "initialise_database()\n",
    "exp = load_or_create_experiment(experiment_name='tutorial_exp', sample_name=\"no sample\")"
   ]
  },
  {
   "cell_type": "markdown",
   "metadata": {},
   "source": [
    "Here, we define a simple function to benchmark the time it takes to insert n points with either numeric or array data type.\n",
    "We will compare both the time used to call ``add_result`` and the time used for the full measurement."
   ]
  },
  {
   "cell_type": "code",
   "execution_count": 4,
   "metadata": {},
   "outputs": [],
   "source": [
    "def insert_data(paramtype, npoints, nreps=1):\n",
    "\n",
    "    meas = Measurement(exp=exp)\n",
    "\n",
    "    x1 = ManualParameter('x1')\n",
    "    x2 = ManualParameter('x2')\n",
    "    x3 = ManualParameter('x3')\n",
    "    y1 = ManualParameter('y1')\n",
    "    y2 = ManualParameter('y2')\n",
    "\n",
    "    meas.register_parameter(x1, paramtype=paramtype)\n",
    "    meas.register_parameter(x2, paramtype=paramtype)\n",
    "    meas.register_parameter(x3, paramtype=paramtype)\n",
    "    meas.register_parameter(y1, setpoints=[x1, x2, x3],\n",
    "                            paramtype=paramtype)\n",
    "    meas.register_parameter(y2, setpoints=[x1, x2, x3],\n",
    "                            paramtype=paramtype)\n",
    "    start = time.perf_counter()\n",
    "    with meas.run() as datasaver:\n",
    "        start_adding = time.perf_counter()\n",
    "        for i in range(nreps):\n",
    "            datasaver.add_result((x1, np.random.rand(npoints)),\n",
    "                                 (x2, np.random.rand(npoints)),\n",
    "                                 (x3, np.random.rand(npoints)),\n",
    "                                 (y1, np.random.rand(npoints)),\n",
    "                                 (y2, np.random.rand(npoints)))\n",
    "        stop_adding = time.perf_counter()\n",
    "        run_id = datasaver.run_id\n",
    "    stop = time.perf_counter()\n",
    "    tot_time = stop - start\n",
    "    add_time = stop_adding - start_adding\n",
    "    return tot_time, add_time, run_id"
   ]
  },
  {
   "cell_type": "markdown",
   "metadata": {},
   "source": [
    "## Comparison between numeric/array data and binary blob"
   ]
  },
  {
   "cell_type": "markdown",
   "metadata": {},
   "source": [
    "### Case1: Short experiment time"
   ]
  },
  {
   "cell_type": "code",
   "execution_count": 5,
   "metadata": {},
   "outputs": [
    {
     "name": "stdout",
     "output_type": "stream",
     "text": [
      "Starting experimental run with id: 1. \n",
      "Starting experimental run with id: 2. \n",
      "Starting experimental run with id: 3. \n"
     ]
    },
    {
     "name": "stdout",
     "output_type": "stream",
     "text": [
      "Starting experimental run with id: 4. \n"
     ]
    },
    {
     "name": "stdout",
     "output_type": "stream",
     "text": [
      "Starting experimental run with id: 5. \n",
      "Starting experimental run with id: 6. \n"
     ]
    },
    {
     "name": "stdout",
     "output_type": "stream",
     "text": [
      "Starting experimental run with id: 7. \n"
     ]
    },
    {
     "name": "stdout",
     "output_type": "stream",
     "text": [
      "Starting experimental run with id: 8. \n",
      "Starting experimental run with id: 9. \n"
     ]
    },
    {
     "name": "stdout",
     "output_type": "stream",
     "text": [
      "Starting experimental run with id: 10. \n"
     ]
    },
    {
     "name": "stdout",
     "output_type": "stream",
     "text": [
      "Starting experimental run with id: 11. \n"
     ]
    },
    {
     "name": "stdout",
     "output_type": "stream",
     "text": [
      "Starting experimental run with id: 12. \n"
     ]
    },
    {
     "name": "stdout",
     "output_type": "stream",
     "text": [
      "Starting experimental run with id: 13. \n"
     ]
    },
    {
     "name": "stdout",
     "output_type": "stream",
     "text": [
      "Starting experimental run with id: 14. \n"
     ]
    }
   ],
   "source": [
    "sizes = [1,500,1000,2000,3000,4000,5000]\n",
    "t_numeric = []\n",
    "t_numeric_add = []\n",
    "t_array = []\n",
    "t_array_add = []\n",
    "for size in sizes:\n",
    "    tn, tna, run_id_n =  insert_data('numeric', size)\n",
    "    t_numeric.append(tn)\n",
    "    t_numeric_add.append(tna)\n",
    "\n",
    "    ta, taa, run_id_a =  insert_data('array', size)\n",
    "    t_array.append(ta)\n",
    "    t_array_add.append(taa)"
   ]
  },
  {
   "cell_type": "code",
   "execution_count": 6,
   "metadata": {},
   "outputs": [
    {
     "data": {
      "image/png": "[encoded data removed]",
      "text/plain": [
       "<Figure size 432x288 with 1 Axes>"
      ]
     },
     "metadata": {
      "needs_background": "light"
     },
     "output_type": "display_data"
    }
   ],
   "source": [
    "fig, ax = plt.subplots(1,1)\n",
    "ax.plot(sizes, t_numeric, 'o-', label='Inserting row-by-row')\n",
    "ax.plot(sizes, t_numeric_add, 'o-', label='Inserting row-by-row: add_result only')\n",
    "ax.plot(sizes, t_array, 'd-', label='Inserting as binary blob')\n",
    "ax.plot(sizes, t_array_add, 'd-', label='Inserting as binary blob: add_result only')\n",
    "ax.legend()\n",
    "ax.set_xlabel('Array length')\n",
    "ax.set_ylabel('Time (s)')\n",
    "fig.tight_layout()"
   ]
  },
  {
   "cell_type": "markdown",
   "metadata": {},
   "source": [
    "As shown in the latter figure, the time to setup and and close the experiment is approximately 0.4 sec. In case of small array sizes, the difference between inserting values of data as arrays and inserting them row-by-row is relatively unimportant. At larger array sizes, i.e. above 10000 points, the cost of writing data as individual datapoints starts to become important.\n"
   ]
  },
  {
   "cell_type": "markdown",
   "metadata": {},
   "source": [
    "### Case2: Long experiment time "
   ]
  },
  {
   "cell_type": "code",
   "execution_count": 7,
   "metadata": {},
   "outputs": [
    {
     "name": "stdout",
     "output_type": "stream",
     "text": [
      "Starting experimental run with id: 15. \n",
      "Starting experimental run with id: 16. \n",
      "Starting experimental run with id: 17. \n"
     ]
    },
    {
     "name": "stdout",
     "output_type": "stream",
     "text": [
      "Starting experimental run with id: 18. \n"
     ]
    },
    {
     "name": "stdout",
     "output_type": "stream",
     "text": [
      "Starting experimental run with id: 19. \n"
     ]
    },
    {
     "name": "stdout",
     "output_type": "stream",
     "text": [
      "Starting experimental run with id: 20. \n"
     ]
    },
    {
     "name": "stdout",
     "output_type": "stream",
     "text": [
      "Starting experimental run with id: 21. \n"
     ]
    },
    {
     "name": "stdout",
     "output_type": "stream",
     "text": [
      "Starting experimental run with id: 22. \n"
     ]
    },
    {
     "name": "stdout",
     "output_type": "stream",
     "text": [
      "Starting experimental run with id: 23. \n"
     ]
    },
    {
     "name": "stdout",
     "output_type": "stream",
     "text": [
      "Starting experimental run with id: 24. \n"
     ]
    },
    {
     "name": "stdout",
     "output_type": "stream",
     "text": [
      "Starting experimental run with id: 25. \n"
     ]
    },
    {
     "name": "stdout",
     "output_type": "stream",
     "text": [
      "Starting experimental run with id: 26. \n"
     ]
    },
    {
     "name": "stdout",
     "output_type": "stream",
     "text": [
      "Starting experimental run with id: 27. \n"
     ]
    },
    {
     "name": "stdout",
     "output_type": "stream",
     "text": [
      "Starting experimental run with id: 28. \n"
     ]
    }
   ],
   "source": [
    "sizes = [1,500,1000,2000,3000,4000,5000]\n",
    "nreps = 100\n",
    "t_numeric = []\n",
    "t_numeric_add = []\n",
    "t_numeric_run_ids = []\n",
    "t_array = []\n",
    "t_array_add = []\n",
    "t_array_run_ids = []\n",
    "for size in sizes:\n",
    "    tn, tna, run_id_n =  insert_data('numeric', size, nreps=nreps)\n",
    "    t_numeric.append(tn)\n",
    "    t_numeric_add.append(tna)\n",
    "    t_numeric_run_ids.append(run_id_n)\n",
    "\n",
    "    ta, taa, run_id_a =  insert_data('array', size, nreps=nreps)\n",
    "    t_array.append(ta)\n",
    "    t_array_add.append(taa)\n",
    "    t_array_run_ids.append(run_id_a)"
   ]
  },
  {
   "cell_type": "code",
   "execution_count": 8,
   "metadata": {
    "scrolled": true
   },
   "outputs": [
    {
     "data": {
      "image/png": "[encoded data removed]",
      "text/plain": [
       "<Figure size 432x288 with 1 Axes>"
      ]
     },
     "metadata": {
      "needs_background": "light"
     },
     "output_type": "display_data"
    }
   ],
   "source": [
    "fig, ax = plt.subplots(1,1)\n",
    "ax.plot(sizes, t_numeric, 'o-', label='Inserting row-by-row')\n",
    "ax.plot(sizes, t_numeric_add, 'o-', label='Inserting row-by-row: add_result only')\n",
    "ax.plot(sizes, t_array, 'd-', label='Inserting as binary blob')\n",
    "ax.plot(sizes, t_array_add, 'd-', label='Inserting as binary blob: add_result only')\n",
    "ax.legend()\n",
    "ax.set_xlabel('Array length')\n",
    "ax.set_ylabel('Time (s)')\n",
    "fig.tight_layout()"
   ]
  },
  {
   "cell_type": "markdown",
   "metadata": {},
   "source": [
    "However, as we increase the length of the experiment, as seen here by repeating the insertion 100 times, we see a big difference between inserting values of the data row-by-row and inserting it as a binary blob."
   ]
  },
  {
   "cell_type": "markdown",
   "metadata": {},
   "source": [
    "## Loading the data "
   ]
  },
  {
   "cell_type": "code",
   "execution_count": 9,
   "metadata": {},
   "outputs": [],
   "source": [
    "from qcodes.dataset.data_set import load_by_id\n",
    "from qcodes.dataset.data_export import get_data_by_id"
   ]
  },
  {
   "cell_type": "markdown",
   "metadata": {},
   "source": [
    "As usual you can load the data by using the ``load_by_id`` function but you will notice that the different storage methods\n",
    "are reflected in shape of the data as it is retrieved. "
   ]
  },
  {
   "cell_type": "code",
   "execution_count": 10,
   "metadata": {},
   "outputs": [],
   "source": [
    "run_id_n = t_numeric_run_ids[0]\n",
    "run_id_a = t_array_run_ids[0]"
   ]
  },
  {
   "cell_type": "code",
   "execution_count": 11,
   "metadata": {
    "scrolled": true
   },
   "outputs": [
    {
     "data": {
      "text/plain": [
       "{'x1': {'x1': array([0.69480352, 0.69480352, 0.31430514, 0.31430514, 0.6251048 ,\n",
       "         0.6251048 , 0.6880668 , 0.6880668 , 0.74764384, 0.74764384,\n",
       "         0.18443905, 0.18443905, 0.41688571, 0.41688571, 0.98616112,\n",
       "         0.98616112, 0.56523682, 0.56523682, 0.56570638, 0.56570638,\n",
       "         0.02523619, 0.02523619, 0.77016951, 0.77016951, 0.86489962,\n",
       "         0.86489962, 0.04185345, 0.04185345, 0.54035134, 0.54035134,\n",
       "         0.35971091, 0.35971091, 0.20277916, 0.20277916, 0.68155613,\n",
       "         0.68155613, 0.19114587, 0.19114587, 0.08509464, 0.08509464,\n",
       "         0.19283344, 0.19283344, 0.11456966, 0.11456966, 0.2083938 ,\n",
       "         0.2083938 , 0.3964563 , 0.3964563 , 0.81479439, 0.81479439,\n",
       "         0.09923602, 0.09923602, 0.80354704, 0.80354704, 0.70408633,\n",
       "         0.70408633, 0.28489518, 0.28489518, 0.57498292, 0.57498292,\n",
       "         0.75599171, 0.75599171, 0.4004115 , 0.4004115 , 0.27870479,\n",
       "         0.27870479, 0.67314244, 0.67314244, 0.1480089 , 0.1480089 ,\n",
       "         0.18396015, 0.18396015, 0.1456337 , 0.1456337 , 0.58022788,\n",
       "         0.58022788, 0.9777505 , 0.9777505 , 0.743301  , 0.743301  ,\n",
       "         0.4251486 , 0.4251486 , 0.51928144, 0.51928144, 0.32952187,\n",
       "         0.32952187, 0.36733962, 0.36733962, 0.87846085, 0.87846085,\n",
       "         0.63132422, 0.63132422, 0.79128137, 0.79128137, 0.49451975,\n",
       "         0.49451975, 0.2916504 , 0.2916504 , 0.51599869, 0.51599869,\n",
       "         0.59210953, 0.59210953, 0.05320547, 0.05320547, 0.91881947,\n",
       "         0.91881947, 0.6037165 , 0.6037165 , 0.43969631, 0.43969631,\n",
       "         0.93890114, 0.93890114, 0.16930544, 0.16930544, 0.93219385,\n",
       "         0.93219385, 0.04412324, 0.04412324, 0.30249848, 0.30249848,\n",
       "         0.6970639 , 0.6970639 , 0.88720758, 0.88720758, 0.81921663,\n",
       "         0.81921663, 0.97175563, 0.97175563, 0.56834432, 0.56834432,\n",
       "         0.26597745, 0.26597745, 0.47174281, 0.47174281, 0.00423116,\n",
       "         0.00423116, 0.18216957, 0.18216957, 0.13449706, 0.13449706,\n",
       "         0.54604863, 0.54604863, 0.78981668, 0.78981668, 0.52548239,\n",
       "         0.52548239, 0.16750774, 0.16750774, 0.95579175, 0.95579175,\n",
       "         0.04392044, 0.04392044, 0.74409278, 0.74409278, 0.2852556 ,\n",
       "         0.2852556 , 0.58745563, 0.58745563, 0.40495059, 0.40495059,\n",
       "         0.52149137, 0.52149137, 0.50041937, 0.50041937, 0.82536295,\n",
       "         0.82536295, 0.97486852, 0.97486852, 0.96921306, 0.96921306,\n",
       "         0.7530551 , 0.7530551 , 0.9539167 , 0.9539167 , 0.52041554,\n",
       "         0.52041554, 0.62237646, 0.62237646, 0.00533921, 0.00533921,\n",
       "         0.78942668, 0.78942668, 0.75833157, 0.75833157, 0.0440174 ,\n",
       "         0.0440174 , 0.12608071, 0.12608071, 0.34282219, 0.34282219,\n",
       "         0.32454212, 0.32454212, 0.80484153, 0.80484153, 0.43672111,\n",
       "         0.43672111, 0.47663497, 0.47663497, 0.88217424, 0.88217424])}}"
      ]
     },
     "execution_count": 11,
     "metadata": {},
     "output_type": "execute_result"
    }
   ],
   "source": [
    "ds = load_by_id(run_id_n)\n",
    "ds.get_parameter_data('x1')"
   ]
  },
  {
   "cell_type": "markdown",
   "metadata": {},
   "source": [
    "And a dataset stored as binary arrays"
   ]
  },
  {
   "cell_type": "code",
   "execution_count": 12,
   "metadata": {
    "scrolled": true
   },
   "outputs": [
    {
     "data": {
      "text/plain": [
       "{'x1': {'x1': array([[0.40457055],\n",
       "         [0.40457055],\n",
       "         [0.44997716],\n",
       "         [0.44997716],\n",
       "         [0.12461395],\n",
       "         [0.12461395],\n",
       "         [0.97291743],\n",
       "         [0.97291743],\n",
       "         [0.24105169],\n",
       "         [0.24105169],\n",
       "         [0.15443517],\n",
       "         [0.15443517],\n",
       "         [0.99256977],\n",
       "         [0.99256977],\n",
       "         [0.93079678],\n",
       "         [0.93079678],\n",
       "         [0.33798215],\n",
       "         [0.33798215],\n",
       "         [0.41562428],\n",
       "         [0.41562428],\n",
       "         [0.7464502 ],\n",
       "         [0.7464502 ],\n",
       "         [0.86220626],\n",
       "         [0.86220626],\n",
       "         [0.73127349],\n",
       "         [0.73127349],\n",
       "         [0.38067945],\n",
       "         [0.38067945],\n",
       "         [0.46531208],\n",
       "         [0.46531208],\n",
       "         [0.52168813],\n",
       "         [0.52168813],\n",
       "         [0.00190535],\n",
       "         [0.00190535],\n",
       "         [0.79946017],\n",
       "         [0.79946017],\n",
       "         [0.55778461],\n",
       "         [0.55778461],\n",
       "         [0.42774036],\n",
       "         [0.42774036],\n",
       "         [0.51499789],\n",
       "         [0.51499789],\n",
       "         [0.12242159],\n",
       "         [0.12242159],\n",
       "         [0.8831628 ],\n",
       "         [0.8831628 ],\n",
       "         [0.89769942],\n",
       "         [0.89769942],\n",
       "         [0.8796507 ],\n",
       "         [0.8796507 ],\n",
       "         [0.67726436],\n",
       "         [0.67726436],\n",
       "         [0.71585495],\n",
       "         [0.71585495],\n",
       "         [0.70300202],\n",
       "         [0.70300202],\n",
       "         [0.19487918],\n",
       "         [0.19487918],\n",
       "         [0.50306046],\n",
       "         [0.50306046],\n",
       "         [0.12017835],\n",
       "         [0.12017835],\n",
       "         [0.11058902],\n",
       "         [0.11058902],\n",
       "         [0.52643707],\n",
       "         [0.52643707],\n",
       "         [0.52371062],\n",
       "         [0.52371062],\n",
       "         [0.85915847],\n",
       "         [0.85915847],\n",
       "         [0.71169321],\n",
       "         [0.71169321],\n",
       "         [0.20240151],\n",
       "         [0.20240151],\n",
       "         [0.48580313],\n",
       "         [0.48580313],\n",
       "         [0.03651148],\n",
       "         [0.03651148],\n",
       "         [0.99548845],\n",
       "         [0.99548845],\n",
       "         [0.68263028],\n",
       "         [0.68263028],\n",
       "         [0.45169258],\n",
       "         [0.45169258],\n",
       "         [0.92252105],\n",
       "         [0.92252105],\n",
       "         [0.12267641],\n",
       "         [0.12267641],\n",
       "         [0.15448922],\n",
       "         [0.15448922],\n",
       "         [0.40388684],\n",
       "         [0.40388684],\n",
       "         [0.65683978],\n",
       "         [0.65683978],\n",
       "         [0.73948902],\n",
       "         [0.73948902],\n",
       "         [0.29981333],\n",
       "         [0.29981333],\n",
       "         [0.32338599],\n",
       "         [0.32338599],\n",
       "         [0.22611203],\n",
       "         [0.22611203],\n",
       "         [0.31309126],\n",
       "         [0.31309126],\n",
       "         [0.48857249],\n",
       "         [0.48857249],\n",
       "         [0.35207085],\n",
       "         [0.35207085],\n",
       "         [0.12590237],\n",
       "         [0.12590237],\n",
       "         [0.11507661],\n",
       "         [0.11507661],\n",
       "         [0.63086482],\n",
       "         [0.63086482],\n",
       "         [0.58159262],\n",
       "         [0.58159262],\n",
       "         [0.40752608],\n",
       "         [0.40752608],\n",
       "         [0.55158295],\n",
       "         [0.55158295],\n",
       "         [0.85789191],\n",
       "         [0.85789191],\n",
       "         [0.28495433],\n",
       "         [0.28495433],\n",
       "         [0.82994082],\n",
       "         [0.82994082],\n",
       "         [0.24986045],\n",
       "         [0.24986045],\n",
       "         [0.23399182],\n",
       "         [0.23399182],\n",
       "         [0.7031483 ],\n",
       "         [0.7031483 ],\n",
       "         [0.38555767],\n",
       "         [0.38555767],\n",
       "         [0.11423612],\n",
       "         [0.11423612],\n",
       "         [0.99549233],\n",
       "         [0.99549233],\n",
       "         [0.69695687],\n",
       "         [0.69695687],\n",
       "         [0.7258189 ],\n",
       "         [0.7258189 ],\n",
       "         [0.0853585 ],\n",
       "         [0.0853585 ],\n",
       "         [0.22306701],\n",
       "         [0.22306701],\n",
       "         [0.37759739],\n",
       "         [0.37759739],\n",
       "         [0.37700944],\n",
       "         [0.37700944],\n",
       "         [0.9556498 ],\n",
       "         [0.9556498 ],\n",
       "         [0.87805556],\n",
       "         [0.87805556],\n",
       "         [0.23804837],\n",
       "         [0.23804837],\n",
       "         [0.45129946],\n",
       "         [0.45129946],\n",
       "         [0.90675521],\n",
       "         [0.90675521],\n",
       "         [0.33823998],\n",
       "         [0.33823998],\n",
       "         [0.04337183],\n",
       "         [0.04337183],\n",
       "         [0.37723024],\n",
       "         [0.37723024],\n",
       "         [0.2461835 ],\n",
       "         [0.2461835 ],\n",
       "         [0.52527581],\n",
       "         [0.52527581],\n",
       "         [0.50302768],\n",
       "         [0.50302768],\n",
       "         [0.77365656],\n",
       "         [0.77365656],\n",
       "         [0.1593575 ],\n",
       "         [0.1593575 ],\n",
       "         [0.41501586],\n",
       "         [0.41501586],\n",
       "         [0.93424048],\n",
       "         [0.93424048],\n",
       "         [0.23019295],\n",
       "         [0.23019295],\n",
       "         [0.30018612],\n",
       "         [0.30018612],\n",
       "         [0.23735038],\n",
       "         [0.23735038],\n",
       "         [0.76846721],\n",
       "         [0.76846721],\n",
       "         [0.24343905],\n",
       "         [0.24343905],\n",
       "         [0.38833585],\n",
       "         [0.38833585],\n",
       "         [0.30353086],\n",
       "         [0.30353086],\n",
       "         [0.5738339 ],\n",
       "         [0.5738339 ],\n",
       "         [0.58977763],\n",
       "         [0.58977763],\n",
       "         [0.51392267],\n",
       "         [0.51392267]])}}"
      ]
     },
     "execution_count": 12,
     "metadata": {},
     "output_type": "execute_result"
    }
   ],
   "source": [
    "ds = load_by_id(run_id_a)\n",
    "ds.get_parameter_data('x1')"
   ]
  },
  {
   "cell_type": "code",
   "execution_count": null,
   "metadata": {},
   "outputs": [],
   "source": []
  }
 ],
 "metadata": {
  "kernelspec": {
   "display_name": "Python 3",
   "language": "python",
   "name": "python3"
  },
  "language_info": {
   "codemirror_mode": {
    "name": "ipython",
    "version": 3
   },
   "file_extension": ".py",
   "mimetype": "text/x-python",
   "name": "python",
   "nbconvert_exporter": "python",
   "pygments_lexer": "ipython3",
   "version": "3.7.7"
  },
  "nbsphinx": {
   "timeout": 600
  },
  "toc": {
   "base_numbering": 1,
   "nav_menu": {},
   "number_sections": true,
   "sideBar": true,
   "skip_h1_title": false,
   "title_cell": "Table of Contents",
   "title_sidebar": "Contents",
   "toc_cell": false,
   "toc_position": {},
   "toc_section_display": true,
   "toc_window_display": false
  },
  "varInspector": {
   "cols": {
    "lenName": 16,
    "lenType": 16,
    "lenVar": 40
   },
   "kernels_config": {
    "python": {
     "delete_cmd_postfix": "",
     "delete_cmd_prefix": "del ",
     "library": "var_list.py",
     "varRefreshCmd": "print(var_dic_list())"
    },
    "r": {
     "delete_cmd_postfix": ") ",
     "delete_cmd_prefix": "rm(",
     "library": "var_list.r",
     "varRefreshCmd": "cat(var_dic_list()) "
    }
   },
   "types_to_exclude": [
    "module",
    "function",
    "builtin_function_or_method",
    "instance",
    "_Feature"
   ],
   "window_display": false
  }
 },
 "nbformat": 4,
 "nbformat_minor": 2
}
