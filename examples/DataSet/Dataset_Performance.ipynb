{
 "cells": [
  {
   "cell_type": "markdown",
   "metadata": {},
   "source": [
    "# DataSet Performance\n",
    "\n",
    "This notebook shows the trade-off between inserting data into a database row-by-row and as binary blobs. Inserting the data row-by-row means that we have direct access to all the data and may perform queries directly on the values of the data. On the other hand, as we shall see, this is much slower than inserting the data directly as binary blobs."
   ]
  },
  {
   "cell_type": "markdown",
   "metadata": {},
   "source": [
    "First, we choose a new location for the database to ensure that we don't add a bunch of benchmarking data to the default one."
   ]
  },
  {
   "cell_type": "code",
   "execution_count": 1,
   "metadata": {
    "execution": {
     "iopub.execute_input": "2021-04-09T06:35:23.784631Z",
     "iopub.status.busy": "2021-04-09T06:35:23.784010Z",
     "iopub.status.idle": "2021-04-09T06:35:24.822203Z",
     "shell.execute_reply": "2021-04-09T06:35:24.822725Z"
    }
   },
   "outputs": [
    {
     "name": "stdout",
     "output_type": "stream",
     "text": [
      "Logging hadn't been started.\n",
      "Activating auto-logging. Current session state plus future input saved.\n",
      "Filename       : /home/runner/.qcodes/logs/command_history.log\n",
      "Mode           : append\n",
      "Output logging : True\n",
      "Raw input log  : False\n",
      "Timestamping   : True\n",
      "State          : active\n"
     ]
    },
    {
     "name": "stdout",
     "output_type": "stream",
     "text": [
      "Qcodes Logfile : /home/runner/.qcodes/logs/210409-4379-qcodes.log\n"
     ]
    }
   ],
   "source": [
    "import os\n",
    "cwd = os.getcwd()\n",
    "import qcodes as qc\n",
    "qc.config[\"core\"][\"db_location\"] = os.path.join(cwd, 'testing.db')\n"
   ]
  },
  {
   "cell_type": "code",
   "execution_count": 2,
   "metadata": {
    "execution": {
     "iopub.execute_input": "2021-04-09T06:35:24.830973Z",
     "iopub.status.busy": "2021-04-09T06:35:24.829048Z",
     "iopub.status.idle": "2021-04-09T06:35:25.095531Z",
     "shell.execute_reply": "2021-04-09T06:35:25.094381Z"
    }
   },
   "outputs": [],
   "source": [
    "%matplotlib inline\n",
    "import time\n",
    "import matplotlib.pyplot as plt\n",
    "import numpy as np\n",
    "\n",
    "import qcodes as qc\n",
    "from qcodes.instrument.parameter import ManualParameter\n",
    "from qcodes.dataset.experiment_container import (Experiment,\n",
    "                                                 load_last_experiment,\n",
    "                                                 new_experiment)\n",
    "from qcodes.dataset.sqlite.database import initialise_database\n",
    "from qcodes import load_or_create_experiment\n",
    "from qcodes.dataset.measurements import Measurement"
   ]
  },
  {
   "cell_type": "code",
   "execution_count": 3,
   "metadata": {
    "execution": {
     "iopub.execute_input": "2021-04-09T06:35:25.100002Z",
     "iopub.status.busy": "2021-04-09T06:35:25.099329Z",
     "iopub.status.idle": "2021-04-09T06:35:25.190715Z",
     "shell.execute_reply": "2021-04-09T06:35:25.191286Z"
    }
   },
   "outputs": [
    {
     "name": "stdout",
     "output_type": "stream",
     "text": [
      "\r",
      "0it [00:00, ?it/s]"
     ]
    },
    {
     "name": "stdout",
     "output_type": "stream",
     "text": [
      "\r",
      "Upgrading database; v0 -> v1: : 0it [00:00, ?it/s]"
     ]
    },
    {
     "name": "stdout",
     "output_type": "stream",
     "text": [
      "\r",
      "Upgrading database; v0 -> v1: : 0it [00:00, ?it/s]"
     ]
    },
    {
     "name": "stdout",
     "output_type": "stream",
     "text": [
      "\n",
      "\r",
      "  0%|          | 0/1 [00:00<?, ?it/s]"
     ]
    },
    {
     "name": "stdout",
     "output_type": "stream",
     "text": [
      "\r",
      "Upgrading database; v1 -> v2:   0%|          | 0/1 [00:00<?, ?it/s]"
     ]
    },
    {
     "name": "stdout",
     "output_type": "stream",
     "text": [
      "\r",
      "Upgrading database; v1 -> v2: 100%|██████████| 1/1 [00:00<00:00, 413.31it/s]"
     ]
    },
    {
     "name": "stdout",
     "output_type": "stream",
     "text": [
      "\n",
      "\r",
      "0it [00:00, ?it/s]"
     ]
    },
    {
     "name": "stdout",
     "output_type": "stream",
     "text": [
      "\r",
      "Upgrading database; v2 -> v3: : 0it [00:00, ?it/s]"
     ]
    },
    {
     "name": "stdout",
     "output_type": "stream",
     "text": [
      "\r",
      "Upgrading database; v2 -> v3: : 0it [00:00, ?it/s]"
     ]
    },
    {
     "name": "stdout",
     "output_type": "stream",
     "text": [
      "\n",
      "\r",
      "0it [00:00, ?it/s]"
     ]
    },
    {
     "name": "stdout",
     "output_type": "stream",
     "text": [
      "\r",
      "Upgrading database; v3 -> v4: : 0it [00:00, ?it/s]"
     ]
    },
    {
     "name": "stdout",
     "output_type": "stream",
     "text": [
      "\r",
      "Upgrading database; v3 -> v4: : 0it [00:00, ?it/s]"
     ]
    },
    {
     "name": "stdout",
     "output_type": "stream",
     "text": [
      "\n",
      "\r",
      "  0%|          | 0/1 [00:00<?, ?it/s]"
     ]
    },
    {
     "name": "stdout",
     "output_type": "stream",
     "text": [
      "\r",
      "Upgrading database; v4 -> v5:   0%|          | 0/1 [00:00<?, ?it/s]"
     ]
    },
    {
     "name": "stdout",
     "output_type": "stream",
     "text": [
      "\r",
      "Upgrading database; v4 -> v5: 100%|██████████| 1/1 [00:00<00:00, 399.00it/s]"
     ]
    },
    {
     "name": "stdout",
     "output_type": "stream",
     "text": [
      "\n",
      "\r",
      "0it [00:00, ?it/s]"
     ]
    },
    {
     "name": "stdout",
     "output_type": "stream",
     "text": [
      "\r",
      "Upgrading database; v5 -> v6: : 0it [00:00, ?it/s]"
     ]
    },
    {
     "name": "stdout",
     "output_type": "stream",
     "text": [
      "\r",
      "Upgrading database; v5 -> v6: : 0it [00:00, ?it/s]"
     ]
    },
    {
     "name": "stdout",
     "output_type": "stream",
     "text": [
      "\n",
      "\r",
      "  0%|          | 0/1 [00:00<?, ?it/s]"
     ]
    },
    {
     "name": "stdout",
     "output_type": "stream",
     "text": [
      "\r",
      "Upgrading database; v6 -> v7:   0%|          | 0/1 [00:00<?, ?it/s]"
     ]
    },
    {
     "name": "stdout",
     "output_type": "stream",
     "text": [
      "\r",
      "Upgrading database; v6 -> v7: 100%|██████████| 1/1 [00:00<00:00, 252.02it/s]"
     ]
    },
    {
     "name": "stdout",
     "output_type": "stream",
     "text": [
      "\n",
      "\r",
      "  0%|          | 0/1 [00:00<?, ?it/s]"
     ]
    },
    {
     "name": "stdout",
     "output_type": "stream",
     "text": [
      "\r",
      "Upgrading database; v7 -> v8:   0%|          | 0/1 [00:00<?, ?it/s]"
     ]
    },
    {
     "name": "stdout",
     "output_type": "stream",
     "text": [
      "\r",
      "Upgrading database; v7 -> v8: 100%|██████████| 1/1 [00:00<00:00, 227.40it/s]"
     ]
    },
    {
     "name": "stdout",
     "output_type": "stream",
     "text": [
      "\n",
      "\r",
      "  0%|          | 0/1 [00:00<?, ?it/s]"
     ]
    },
    {
     "name": "stdout",
     "output_type": "stream",
     "text": [
      "\r",
      "Upgrading database; v8 -> v9:   0%|          | 0/1 [00:00<?, ?it/s]"
     ]
    },
    {
     "name": "stdout",
     "output_type": "stream",
     "text": [
      "\r",
      "Upgrading database; v8 -> v9: 100%|██████████| 1/1 [00:00<00:00, 528.45it/s]"
     ]
    },
    {
     "name": "stdout",
     "output_type": "stream",
     "text": [
      "\n"
     ]
    }
   ],
   "source": [
    "initialise_database()\n",
    "exp = load_or_create_experiment(experiment_name='tutorial_exp', sample_name=\"no sample\")"
   ]
  },
  {
   "cell_type": "markdown",
   "metadata": {},
   "source": [
    "Here, we define a simple function to benchmark the time it takes to insert n points with either numeric or array data type.\n",
    "We will compare both the time used to call ``add_result`` and the time used for the full measurement."
   ]
  },
  {
   "cell_type": "code",
   "execution_count": 4,
   "metadata": {
    "execution": {
     "iopub.execute_input": "2021-04-09T06:35:25.200440Z",
     "iopub.status.busy": "2021-04-09T06:35:25.199810Z",
     "iopub.status.idle": "2021-04-09T06:35:25.203829Z",
     "shell.execute_reply": "2021-04-09T06:35:25.203311Z"
    }
   },
   "outputs": [],
   "source": [
    "def insert_data(paramtype, npoints, nreps=1):\n",
    "\n",
    "    meas = Measurement(exp=exp)\n",
    "\n",
    "    x1 = ManualParameter('x1')\n",
    "    x2 = ManualParameter('x2')\n",
    "    x3 = ManualParameter('x3')\n",
    "    y1 = ManualParameter('y1')\n",
    "    y2 = ManualParameter('y2')\n",
    "\n",
    "    meas.register_parameter(x1, paramtype=paramtype)\n",
    "    meas.register_parameter(x2, paramtype=paramtype)\n",
    "    meas.register_parameter(x3, paramtype=paramtype)\n",
    "    meas.register_parameter(y1, setpoints=[x1, x2, x3],\n",
    "                            paramtype=paramtype)\n",
    "    meas.register_parameter(y2, setpoints=[x1, x2, x3],\n",
    "                            paramtype=paramtype)\n",
    "    start = time.perf_counter()\n",
    "    with meas.run() as datasaver:\n",
    "        start_adding = time.perf_counter()\n",
    "        for i in range(nreps):\n",
    "            datasaver.add_result((x1, np.random.rand(npoints)),\n",
    "                                 (x2, np.random.rand(npoints)),\n",
    "                                 (x3, np.random.rand(npoints)),\n",
    "                                 (y1, np.random.rand(npoints)),\n",
    "                                 (y2, np.random.rand(npoints)))\n",
    "        stop_adding = time.perf_counter()\n",
    "        run_id = datasaver.run_id\n",
    "    stop = time.perf_counter()\n",
    "    tot_time = stop - start\n",
    "    add_time = stop_adding - start_adding\n",
    "    return tot_time, add_time, run_id"
   ]
  },
  {
   "cell_type": "markdown",
   "metadata": {},
   "source": [
    "## Comparison between numeric/array data and binary blob"
   ]
  },
  {
   "cell_type": "markdown",
   "metadata": {},
   "source": [
    "### Case1: Short experiment time"
   ]
  },
  {
   "cell_type": "code",
   "execution_count": 5,
   "metadata": {
    "execution": {
     "iopub.execute_input": "2021-04-09T06:35:25.211620Z",
     "iopub.status.busy": "2021-04-09T06:35:25.210449Z",
     "iopub.status.idle": "2021-04-09T06:35:26.005406Z",
     "shell.execute_reply": "2021-04-09T06:35:26.005899Z"
    }
   },
   "outputs": [
    {
     "name": "stdout",
     "output_type": "stream",
     "text": [
      "Starting experimental run with id: 1. \n",
      "Starting experimental run with id: 2. \n",
      "Starting experimental run with id: 3. \n",
      "Starting experimental run with id: 4. \n",
      "Starting experimental run with id: 5. \n"
     ]
    },
    {
     "name": "stdout",
     "output_type": "stream",
     "text": [
      "Starting experimental run with id: 6. \n"
     ]
    },
    {
     "name": "stdout",
     "output_type": "stream",
     "text": [
      "Starting experimental run with id: 7. \n"
     ]
    },
    {
     "name": "stdout",
     "output_type": "stream",
     "text": [
      "Starting experimental run with id: 8. \n",
      "Starting experimental run with id: 9. \n"
     ]
    },
    {
     "name": "stdout",
     "output_type": "stream",
     "text": [
      "Starting experimental run with id: 10. \n",
      "Starting experimental run with id: 11. \n"
     ]
    },
    {
     "name": "stdout",
     "output_type": "stream",
     "text": [
      "Starting experimental run with id: 12. \n",
      "Starting experimental run with id: 13. \n",
      "Starting experimental run with id: 14. \n"
     ]
    }
   ],
   "source": [
    "sizes = [1,500,1000,2000,3000,4000,5000]\n",
    "t_numeric = []\n",
    "t_numeric_add = []\n",
    "t_array = []\n",
    "t_array_add = []\n",
    "for size in sizes:\n",
    "    tn, tna, run_id_n =  insert_data('numeric', size)\n",
    "    t_numeric.append(tn)\n",
    "    t_numeric_add.append(tna)\n",
    "\n",
    "    ta, taa, run_id_a =  insert_data('array', size)\n",
    "    t_array.append(ta)\n",
    "    t_array_add.append(taa)"
   ]
  },
  {
   "cell_type": "code",
   "execution_count": 6,
   "metadata": {
    "execution": {
     "iopub.execute_input": "2021-04-09T06:35:26.025835Z",
     "iopub.status.busy": "2021-04-09T06:35:26.017533Z",
     "iopub.status.idle": "2021-04-09T06:35:26.265893Z",
     "shell.execute_reply": "2021-04-09T06:35:26.266711Z"
    }
   },
   "outputs": [
    {
     "data": {
      "image/png": "[encoded data removed]",
      "text/plain": [
       "<Figure size 432x288 with 1 Axes>"
      ]
     },
     "metadata": {
      "needs_background": "light"
     },
     "output_type": "display_data"
    }
   ],
   "source": [
    "fig, ax = plt.subplots(1,1)\n",
    "ax.plot(sizes, t_numeric, 'o-', label='Inserting row-by-row')\n",
    "ax.plot(sizes, t_numeric_add, 'o-', label='Inserting row-by-row: add_result only')\n",
    "ax.plot(sizes, t_array, 'd-', label='Inserting as binary blob')\n",
    "ax.plot(sizes, t_array_add, 'd-', label='Inserting as binary blob: add_result only')\n",
    "ax.legend()\n",
    "ax.set_xlabel('Array length')\n",
    "ax.set_ylabel('Time (s)')\n",
    "fig.tight_layout()"
   ]
  },
  {
   "cell_type": "markdown",
   "metadata": {},
   "source": [
    "As shown in the latter figure, the time to setup and and close the experiment is approximately 0.4 sec. In case of small array sizes, the difference between inserting values of data as arrays and inserting them row-by-row is relatively unimportant. At larger array sizes, i.e. above 10000 points, the cost of writing data as individual datapoints starts to become important.\n"
   ]
  },
  {
   "cell_type": "markdown",
   "metadata": {},
   "source": [
    "### Case2: Long experiment time "
   ]
  },
  {
   "cell_type": "code",
   "execution_count": 7,
   "metadata": {
    "execution": {
     "iopub.execute_input": "2021-04-09T06:35:26.273603Z",
     "iopub.status.busy": "2021-04-09T06:35:26.271872Z",
     "iopub.status.idle": "2021-04-09T06:36:23.883364Z",
     "shell.execute_reply": "2021-04-09T06:36:23.882293Z"
    }
   },
   "outputs": [
    {
     "name": "stdout",
     "output_type": "stream",
     "text": [
      "Starting experimental run with id: 15. \n",
      "Starting experimental run with id: 16. \n"
     ]
    },
    {
     "name": "stdout",
     "output_type": "stream",
     "text": [
      "Starting experimental run with id: 17. \n"
     ]
    },
    {
     "name": "stdout",
     "output_type": "stream",
     "text": [
      "Starting experimental run with id: 18. \n",
      "Starting experimental run with id: 19. \n"
     ]
    },
    {
     "name": "stdout",
     "output_type": "stream",
     "text": [
      "Starting experimental run with id: 20. \n"
     ]
    },
    {
     "name": "stdout",
     "output_type": "stream",
     "text": [
      "Starting experimental run with id: 21. \n"
     ]
    },
    {
     "name": "stdout",
     "output_type": "stream",
     "text": [
      "Starting experimental run with id: 22. \n"
     ]
    },
    {
     "name": "stdout",
     "output_type": "stream",
     "text": [
      "Starting experimental run with id: 23. \n"
     ]
    },
    {
     "name": "stdout",
     "output_type": "stream",
     "text": [
      "Starting experimental run with id: 24. \n"
     ]
    },
    {
     "name": "stdout",
     "output_type": "stream",
     "text": [
      "Starting experimental run with id: 25. \n"
     ]
    },
    {
     "name": "stdout",
     "output_type": "stream",
     "text": [
      "Starting experimental run with id: 26. \n"
     ]
    },
    {
     "name": "stdout",
     "output_type": "stream",
     "text": [
      "Starting experimental run with id: 27. \n"
     ]
    },
    {
     "name": "stdout",
     "output_type": "stream",
     "text": [
      "Starting experimental run with id: 28. \n"
     ]
    }
   ],
   "source": [
    "sizes = [1,500,1000,2000,3000,4000,5000]\n",
    "nreps = 100\n",
    "t_numeric = []\n",
    "t_numeric_add = []\n",
    "t_numeric_run_ids = []\n",
    "t_array = []\n",
    "t_array_add = []\n",
    "t_array_run_ids = []\n",
    "for size in sizes:\n",
    "    tn, tna, run_id_n =  insert_data('numeric', size, nreps=nreps)\n",
    "    t_numeric.append(tn)\n",
    "    t_numeric_add.append(tna)\n",
    "    t_numeric_run_ids.append(run_id_n)\n",
    "\n",
    "    ta, taa, run_id_a =  insert_data('array', size, nreps=nreps)\n",
    "    t_array.append(ta)\n",
    "    t_array_add.append(taa)\n",
    "    t_array_run_ids.append(run_id_a)"
   ]
  },
  {
   "cell_type": "code",
   "execution_count": 8,
   "metadata": {
    "execution": {
     "iopub.execute_input": "2021-04-09T06:36:23.916570Z",
     "iopub.status.busy": "2021-04-09T06:36:23.903921Z",
     "iopub.status.idle": "2021-04-09T06:36:24.110431Z",
     "shell.execute_reply": "2021-04-09T06:36:24.109519Z"
    },
    "scrolled": true
   },
   "outputs": [
    {
     "data": {
      "image/png": "[encoded data removed]",
      "text/plain": [
       "<Figure size 432x288 with 1 Axes>"
      ]
     },
     "metadata": {
      "needs_background": "light"
     },
     "output_type": "display_data"
    }
   ],
   "source": [
    "fig, ax = plt.subplots(1,1)\n",
    "ax.plot(sizes, t_numeric, 'o-', label='Inserting row-by-row')\n",
    "ax.plot(sizes, t_numeric_add, 'o-', label='Inserting row-by-row: add_result only')\n",
    "ax.plot(sizes, t_array, 'd-', label='Inserting as binary blob')\n",
    "ax.plot(sizes, t_array_add, 'd-', label='Inserting as binary blob: add_result only')\n",
    "ax.legend()\n",
    "ax.set_xlabel('Array length')\n",
    "ax.set_ylabel('Time (s)')\n",
    "fig.tight_layout()"
   ]
  },
  {
   "cell_type": "markdown",
   "metadata": {},
   "source": [
    "However, as we increase the length of the experiment, as seen here by repeating the insertion 100 times, we see a big difference between inserting values of the data row-by-row and inserting it as a binary blob."
   ]
  },
  {
   "cell_type": "markdown",
   "metadata": {},
   "source": [
    "## Loading the data "
   ]
  },
  {
   "cell_type": "code",
   "execution_count": 9,
   "metadata": {
    "execution": {
     "iopub.execute_input": "2021-04-09T06:36:24.115166Z",
     "iopub.status.busy": "2021-04-09T06:36:24.114049Z",
     "iopub.status.idle": "2021-04-09T06:36:24.117275Z",
     "shell.execute_reply": "2021-04-09T06:36:24.117778Z"
    }
   },
   "outputs": [],
   "source": [
    "from qcodes.dataset.data_set import load_by_id\n",
    "from qcodes.dataset.data_export import get_data_by_id"
   ]
  },
  {
   "cell_type": "markdown",
   "metadata": {},
   "source": [
    "As usual you can load the data by using the ``load_by_id`` function but you will notice that the different storage methods\n",
    "are reflected in shape of the data as it is retrieved. "
   ]
  },
  {
   "cell_type": "code",
   "execution_count": 10,
   "metadata": {
    "execution": {
     "iopub.execute_input": "2021-04-09T06:36:24.123444Z",
     "iopub.status.busy": "2021-04-09T06:36:24.121448Z",
     "iopub.status.idle": "2021-04-09T06:36:24.124143Z",
     "shell.execute_reply": "2021-04-09T06:36:24.124675Z"
    }
   },
   "outputs": [],
   "source": [
    "run_id_n = t_numeric_run_ids[0]\n",
    "run_id_a = t_array_run_ids[0]"
   ]
  },
  {
   "cell_type": "code",
   "execution_count": 11,
   "metadata": {
    "execution": {
     "iopub.execute_input": "2021-04-09T06:36:24.128317Z",
     "iopub.status.busy": "2021-04-09T06:36:24.127679Z",
     "iopub.status.idle": "2021-04-09T06:36:24.193476Z",
     "shell.execute_reply": "2021-04-09T06:36:24.194033Z"
    },
    "scrolled": true
   },
   "outputs": [
    {
     "data": {
      "text/plain": [
       "{'x1': {'x1': array([0.12689198, 0.12689198, 0.69852074, 0.69852074, 0.61938521,\n",
       "         0.61938521, 0.7944321 , 0.7944321 , 0.05389082, 0.05389082,\n",
       "         0.20892004, 0.20892004, 0.6396653 , 0.6396653 , 0.96034132,\n",
       "         0.96034132, 0.77458302, 0.77458302, 0.84698972, 0.84698972,\n",
       "         0.84028859, 0.84028859, 0.54394046, 0.54394046, 0.28498394,\n",
       "         0.28498394, 0.53040504, 0.53040504, 0.23936615, 0.23936615,\n",
       "         0.62519859, 0.62519859, 0.23741503, 0.23741503, 0.09823838,\n",
       "         0.09823838, 0.98872233, 0.98872233, 0.98921145, 0.98921145,\n",
       "         0.90444878, 0.90444878, 0.21920687, 0.21920687, 0.21844139,\n",
       "         0.21844139, 0.49677272, 0.49677272, 0.53271016, 0.53271016,\n",
       "         0.86059378, 0.86059378, 0.28830323, 0.28830323, 0.06122941,\n",
       "         0.06122941, 0.2256016 , 0.2256016 , 0.02738195, 0.02738195,\n",
       "         0.09422052, 0.09422052, 0.05725937, 0.05725937, 0.29759126,\n",
       "         0.29759126, 0.13436071, 0.13436071, 0.89489214, 0.89489214,\n",
       "         0.49144644, 0.49144644, 0.99850944, 0.99850944, 0.71467677,\n",
       "         0.71467677, 0.70148593, 0.70148593, 0.269535  , 0.269535  ,\n",
       "         0.9394753 , 0.9394753 , 0.93479768, 0.93479768, 0.11897025,\n",
       "         0.11897025, 0.11338386, 0.11338386, 0.07986033, 0.07986033,\n",
       "         0.53689071, 0.53689071, 0.08761461, 0.08761461, 0.44144696,\n",
       "         0.44144696, 0.08705035, 0.08705035, 0.62055914, 0.62055914,\n",
       "         0.60681014, 0.60681014, 0.45078174, 0.45078174, 0.4940473 ,\n",
       "         0.4940473 , 0.53552796, 0.53552796, 0.64564155, 0.64564155,\n",
       "         0.63330201, 0.63330201, 0.12657203, 0.12657203, 0.42244173,\n",
       "         0.42244173, 0.24065222, 0.24065222, 0.28946525, 0.28946525,\n",
       "         0.06968494, 0.06968494, 0.67482683, 0.67482683, 0.50482242,\n",
       "         0.50482242, 0.88497596, 0.88497596, 0.90109238, 0.90109238,\n",
       "         0.57215611, 0.57215611, 0.9404733 , 0.9404733 , 0.90766008,\n",
       "         0.90766008, 0.1995234 , 0.1995234 , 0.41701108, 0.41701108,\n",
       "         0.15206897, 0.15206897, 0.52095804, 0.52095804, 0.35756302,\n",
       "         0.35756302, 0.98058497, 0.98058497, 0.76549095, 0.76549095,\n",
       "         0.94138945, 0.94138945, 0.22282911, 0.22282911, 0.48539878,\n",
       "         0.48539878, 0.12130617, 0.12130617, 0.26242317, 0.26242317,\n",
       "         0.30188995, 0.30188995, 0.9466993 , 0.9466993 , 0.81873059,\n",
       "         0.81873059, 0.39616675, 0.39616675, 0.04109748, 0.04109748,\n",
       "         0.69431383, 0.69431383, 0.61886552, 0.61886552, 0.27881322,\n",
       "         0.27881322, 0.71699278, 0.71699278, 0.65310591, 0.65310591,\n",
       "         0.27215119, 0.27215119, 0.64395713, 0.64395713, 0.77117198,\n",
       "         0.77117198, 0.06439788, 0.06439788, 0.95003225, 0.95003225,\n",
       "         0.78190646, 0.78190646, 0.64587613, 0.64587613, 0.63795336,\n",
       "         0.63795336, 0.56799787, 0.56799787, 0.06187991, 0.06187991])}}"
      ]
     },
     "execution_count": 1,
     "metadata": {},
     "output_type": "execute_result"
    }
   ],
   "source": [
    "ds = load_by_id(run_id_n)\n",
    "ds.get_parameter_data('x1')"
   ]
  },
  {
   "cell_type": "markdown",
   "metadata": {},
   "source": [
    "And a dataset stored as binary arrays"
   ]
  },
  {
   "cell_type": "code",
   "execution_count": 12,
   "metadata": {
    "execution": {
     "iopub.execute_input": "2021-04-09T06:36:24.198098Z",
     "iopub.status.busy": "2021-04-09T06:36:24.197456Z",
     "iopub.status.idle": "2021-04-09T06:36:24.265270Z",
     "shell.execute_reply": "2021-04-09T06:36:24.265829Z"
    },
    "scrolled": true
   },
   "outputs": [
    {
     "data": {
      "text/plain": [
       "{'x1': {'x1': array([[0.03006304],\n",
       "         [0.03006304],\n",
       "         [0.26145095],\n",
       "         [0.26145095],\n",
       "         [0.10630968],\n",
       "         [0.10630968],\n",
       "         [0.09061536],\n",
       "         [0.09061536],\n",
       "         [0.51745374],\n",
       "         [0.51745374],\n",
       "         [0.53419605],\n",
       "         [0.53419605],\n",
       "         [0.91097785],\n",
       "         [0.91097785],\n",
       "         [0.1182788 ],\n",
       "         [0.1182788 ],\n",
       "         [0.79086519],\n",
       "         [0.79086519],\n",
       "         [0.27752877],\n",
       "         [0.27752877],\n",
       "         [0.2738435 ],\n",
       "         [0.2738435 ],\n",
       "         [0.51026579],\n",
       "         [0.51026579],\n",
       "         [0.48030228],\n",
       "         [0.48030228],\n",
       "         [0.26173173],\n",
       "         [0.26173173],\n",
       "         [0.97197965],\n",
       "         [0.97197965],\n",
       "         [0.19174469],\n",
       "         [0.19174469],\n",
       "         [0.32126013],\n",
       "         [0.32126013],\n",
       "         [0.64479194],\n",
       "         [0.64479194],\n",
       "         [0.10323007],\n",
       "         [0.10323007],\n",
       "         [0.42316141],\n",
       "         [0.42316141],\n",
       "         [0.79320313],\n",
       "         [0.79320313],\n",
       "         [0.51633886],\n",
       "         [0.51633886],\n",
       "         [0.52582479],\n",
       "         [0.52582479],\n",
       "         [0.61784531],\n",
       "         [0.61784531],\n",
       "         [0.91722092],\n",
       "         [0.91722092],\n",
       "         [0.11908461],\n",
       "         [0.11908461],\n",
       "         [0.5368161 ],\n",
       "         [0.5368161 ],\n",
       "         [0.16268552],\n",
       "         [0.16268552],\n",
       "         [0.47106213],\n",
       "         [0.47106213],\n",
       "         [0.08649476],\n",
       "         [0.08649476],\n",
       "         [0.89790094],\n",
       "         [0.89790094],\n",
       "         [0.47551182],\n",
       "         [0.47551182],\n",
       "         [0.53807986],\n",
       "         [0.53807986],\n",
       "         [0.42186925],\n",
       "         [0.42186925],\n",
       "         [0.21730389],\n",
       "         [0.21730389],\n",
       "         [0.20093393],\n",
       "         [0.20093393],\n",
       "         [0.17198404],\n",
       "         [0.17198404],\n",
       "         [0.57130616],\n",
       "         [0.57130616],\n",
       "         [0.55342648],\n",
       "         [0.55342648],\n",
       "         [0.7493051 ],\n",
       "         [0.7493051 ],\n",
       "         [0.98114001],\n",
       "         [0.98114001],\n",
       "         [0.86011868],\n",
       "         [0.86011868],\n",
       "         [0.20485768],\n",
       "         [0.20485768],\n",
       "         [0.2749532 ],\n",
       "         [0.2749532 ],\n",
       "         [0.21585594],\n",
       "         [0.21585594],\n",
       "         [0.83638171],\n",
       "         [0.83638171],\n",
       "         [0.97068671],\n",
       "         [0.97068671],\n",
       "         [0.92553641],\n",
       "         [0.92553641],\n",
       "         [0.85626911],\n",
       "         [0.85626911],\n",
       "         [0.4385385 ],\n",
       "         [0.4385385 ],\n",
       "         [0.67106919],\n",
       "         [0.67106919],\n",
       "         [0.1994592 ],\n",
       "         [0.1994592 ],\n",
       "         [0.0726138 ],\n",
       "         [0.0726138 ],\n",
       "         [0.37419696],\n",
       "         [0.37419696],\n",
       "         [0.92861964],\n",
       "         [0.92861964],\n",
       "         [0.91201964],\n",
       "         [0.91201964],\n",
       "         [0.21055967],\n",
       "         [0.21055967],\n",
       "         [0.07899901],\n",
       "         [0.07899901],\n",
       "         [0.03545106],\n",
       "         [0.03545106],\n",
       "         [0.53301086],\n",
       "         [0.53301086],\n",
       "         [0.73404094],\n",
       "         [0.73404094],\n",
       "         [0.01794838],\n",
       "         [0.01794838],\n",
       "         [0.99892553],\n",
       "         [0.99892553],\n",
       "         [0.78492899],\n",
       "         [0.78492899],\n",
       "         [0.69084084],\n",
       "         [0.69084084],\n",
       "         [0.16857285],\n",
       "         [0.16857285],\n",
       "         [0.46465057],\n",
       "         [0.46465057],\n",
       "         [0.29710289],\n",
       "         [0.29710289],\n",
       "         [0.05155042],\n",
       "         [0.05155042],\n",
       "         [0.05474113],\n",
       "         [0.05474113],\n",
       "         [0.0303764 ],\n",
       "         [0.0303764 ],\n",
       "         [0.37128673],\n",
       "         [0.37128673],\n",
       "         [0.13104937],\n",
       "         [0.13104937],\n",
       "         [0.75158775],\n",
       "         [0.75158775],\n",
       "         [0.2558018 ],\n",
       "         [0.2558018 ],\n",
       "         [0.95816279],\n",
       "         [0.95816279],\n",
       "         [0.12404862],\n",
       "         [0.12404862],\n",
       "         [0.75974715],\n",
       "         [0.75974715],\n",
       "         [0.74756688],\n",
       "         [0.74756688],\n",
       "         [0.05795521],\n",
       "         [0.05795521],\n",
       "         [0.50961148],\n",
       "         [0.50961148],\n",
       "         [0.01827435],\n",
       "         [0.01827435],\n",
       "         [0.52566688],\n",
       "         [0.52566688],\n",
       "         [0.27861376],\n",
       "         [0.27861376],\n",
       "         [0.31021675],\n",
       "         [0.31021675],\n",
       "         [0.75339947],\n",
       "         [0.75339947],\n",
       "         [0.13998431],\n",
       "         [0.13998431],\n",
       "         [0.64782488],\n",
       "         [0.64782488],\n",
       "         [0.96820001],\n",
       "         [0.96820001],\n",
       "         [0.33850276],\n",
       "         [0.33850276],\n",
       "         [0.76657911],\n",
       "         [0.76657911],\n",
       "         [0.01982677],\n",
       "         [0.01982677],\n",
       "         [0.2652907 ],\n",
       "         [0.2652907 ],\n",
       "         [0.71388802],\n",
       "         [0.71388802],\n",
       "         [0.22279746],\n",
       "         [0.22279746],\n",
       "         [0.40005996],\n",
       "         [0.40005996],\n",
       "         [0.43100877],\n",
       "         [0.43100877],\n",
       "         [0.01302961],\n",
       "         [0.01302961],\n",
       "         [0.88370612],\n",
       "         [0.88370612],\n",
       "         [0.40157812],\n",
       "         [0.40157812]])}}"
      ]
     },
     "execution_count": 1,
     "metadata": {},
     "output_type": "execute_result"
    }
   ],
   "source": [
    "ds = load_by_id(run_id_a)\n",
    "ds.get_parameter_data('x1')"
   ]
  },
  {
   "cell_type": "code",
   "execution_count": null,
   "metadata": {},
   "outputs": [],
   "source": []
  }
 ],
 "metadata": {
  "kernelspec": {
   "display_name": "Python 3",
   "language": "python",
   "name": "python3"
  },
  "language_info": {
   "codemirror_mode": {
    "name": "ipython",
    "version": 3
   },
   "file_extension": ".py",
   "mimetype": "text/x-python",
   "name": "python",
   "nbconvert_exporter": "python",
   "pygments_lexer": "ipython3",
   "version": "3.7.10"
  },
  "nbsphinx": {
   "timeout": 600
  },
  "toc": {
   "base_numbering": 1,
   "nav_menu": {},
   "number_sections": true,
   "sideBar": true,
   "skip_h1_title": false,
   "title_cell": "Table of Contents",
   "title_sidebar": "Contents",
   "toc_cell": false,
   "toc_position": {},
   "toc_section_display": true,
   "toc_window_display": false
  },
  "varInspector": {
   "cols": {
    "lenName": 16,
    "lenType": 16,
    "lenVar": 40
   },
   "kernels_config": {
    "python": {
     "delete_cmd_postfix": "",
     "delete_cmd_prefix": "del ",
     "library": "var_list.py",
     "varRefreshCmd": "print(var_dic_list())"
    },
    "r": {
     "delete_cmd_postfix": ") ",
     "delete_cmd_prefix": "rm(",
     "library": "var_list.r",
     "varRefreshCmd": "cat(var_dic_list()) "
    }
   },
   "types_to_exclude": [
    "module",
    "function",
    "builtin_function_or_method",
    "instance",
    "_Feature"
   ],
   "window_display": false
  }
 },
 "nbformat": 4,
 "nbformat_minor": 2
}
