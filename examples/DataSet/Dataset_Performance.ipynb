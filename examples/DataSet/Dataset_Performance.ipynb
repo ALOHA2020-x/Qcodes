{
 "cells": [
  {
   "cell_type": "markdown",
   "metadata": {},
   "source": [
    "# DataSet Performance\n",
    "\n",
    "This notebook shows the trade-off between inserting data into a database row-by-row and as binary blobs. Inserting the data row-by-row means that we have direct access to all the data and may perform queries directly on the values of the data. On the other hand, as we shall see, this is much slower than inserting the data directly as binary blobs."
   ]
  },
  {
   "cell_type": "markdown",
   "metadata": {},
   "source": [
    "First, we choose a new location for the database to ensure that we don't add a bunch of benchmarking data to the default one."
   ]
  },
  {
   "cell_type": "code",
   "execution_count": 1,
   "metadata": {
    "execution": {
     "iopub.execute_input": "2021-03-17T09:13:28.314468Z",
     "iopub.status.busy": "2021-03-17T09:13:28.313891Z",
     "iopub.status.idle": "2021-03-17T09:13:29.317028Z",
     "shell.execute_reply": "2021-03-17T09:13:29.317567Z"
    }
   },
   "outputs": [
    {
     "name": "stdout",
     "output_type": "stream",
     "text": [
      "Logging hadn't been started.\n",
      "Activating auto-logging. Current session state plus future input saved.\n",
      "Filename       : /home/runner/.qcodes/logs/command_history.log\n",
      "Mode           : append\n",
      "Output logging : True\n",
      "Raw input log  : False\n",
      "Timestamping   : True\n",
      "State          : active\n"
     ]
    },
    {
     "name": "stdout",
     "output_type": "stream",
     "text": [
      "Qcodes Logfile : /home/runner/.qcodes/logs/210317-4688-qcodes.log\n"
     ]
    }
   ],
   "source": [
    "import os\n",
    "cwd = os.getcwd()\n",
    "import qcodes as qc\n",
    "qc.config[\"core\"][\"db_location\"] = os.path.join(cwd, 'testing.db')\n"
   ]
  },
  {
   "cell_type": "code",
   "execution_count": 2,
   "metadata": {
    "execution": {
     "iopub.execute_input": "2021-03-17T09:13:29.325999Z",
     "iopub.status.busy": "2021-03-17T09:13:29.323958Z",
     "iopub.status.idle": "2021-03-17T09:13:29.542418Z",
     "shell.execute_reply": "2021-03-17T09:13:29.541878Z"
    }
   },
   "outputs": [],
   "source": [
    "%matplotlib inline\n",
    "import time\n",
    "import matplotlib.pyplot as plt\n",
    "import numpy as np\n",
    "\n",
    "import qcodes as qc\n",
    "from qcodes.instrument.parameter import ManualParameter\n",
    "from qcodes.dataset.experiment_container import (Experiment,\n",
    "                                                 load_last_experiment,\n",
    "                                                 new_experiment)\n",
    "from qcodes.dataset.sqlite.database import initialise_database\n",
    "from qcodes import load_or_create_experiment\n",
    "from qcodes.dataset.measurements import Measurement"
   ]
  },
  {
   "cell_type": "code",
   "execution_count": 3,
   "metadata": {
    "execution": {
     "iopub.execute_input": "2021-03-17T09:13:29.547011Z",
     "iopub.status.busy": "2021-03-17T09:13:29.546243Z",
     "iopub.status.idle": "2021-03-17T09:13:29.671771Z",
     "shell.execute_reply": "2021-03-17T09:13:29.672378Z"
    }
   },
   "outputs": [
    {
     "name": "stdout",
     "output_type": "stream",
     "text": [
      "\r",
      "0it [00:00, ?it/s]"
     ]
    },
    {
     "name": "stdout",
     "output_type": "stream",
     "text": [
      "\r",
      "Upgrading database; v0 -> v1: : 0it [00:00, ?it/s]"
     ]
    },
    {
     "name": "stdout",
     "output_type": "stream",
     "text": [
      "\r",
      "Upgrading database; v0 -> v1: : 0it [00:00, ?it/s]"
     ]
    },
    {
     "name": "stdout",
     "output_type": "stream",
     "text": [
      "\n",
      "\r",
      "  0%|          | 0/1 [00:00<?, ?it/s]"
     ]
    },
    {
     "name": "stdout",
     "output_type": "stream",
     "text": [
      "\r",
      "Upgrading database; v1 -> v2:   0%|          | 0/1 [00:00<?, ?it/s]"
     ]
    },
    {
     "name": "stdout",
     "output_type": "stream",
     "text": [
      "\r",
      "Upgrading database; v1 -> v2: 100%|██████████| 1/1 [00:00<00:00, 1004.38it/s]"
     ]
    },
    {
     "name": "stdout",
     "output_type": "stream",
     "text": [
      "\n",
      "\r",
      "0it [00:00, ?it/s]"
     ]
    },
    {
     "name": "stdout",
     "output_type": "stream",
     "text": [
      "\r",
      "Upgrading database; v2 -> v3: : 0it [00:00, ?it/s]"
     ]
    },
    {
     "name": "stdout",
     "output_type": "stream",
     "text": [
      "\r",
      "Upgrading database; v2 -> v3: : 0it [00:00, ?it/s]"
     ]
    },
    {
     "name": "stdout",
     "output_type": "stream",
     "text": [
      "\n",
      "\r",
      "0it [00:00, ?it/s]"
     ]
    },
    {
     "name": "stdout",
     "output_type": "stream",
     "text": [
      "\r",
      "Upgrading database; v3 -> v4: : 0it [00:00, ?it/s]"
     ]
    },
    {
     "name": "stdout",
     "output_type": "stream",
     "text": [
      "\r",
      "Upgrading database; v3 -> v4: : 0it [00:00, ?it/s]"
     ]
    },
    {
     "name": "stdout",
     "output_type": "stream",
     "text": [
      "\n",
      "\r",
      "  0%|          | 0/1 [00:00<?, ?it/s]"
     ]
    },
    {
     "name": "stdout",
     "output_type": "stream",
     "text": [
      "\r",
      "Upgrading database; v4 -> v5:   0%|          | 0/1 [00:00<?, ?it/s]"
     ]
    },
    {
     "name": "stdout",
     "output_type": "stream",
     "text": [
      "\r",
      "Upgrading database; v4 -> v5: 100%|██████████| 1/1 [00:00<00:00, 669.27it/s]"
     ]
    },
    {
     "name": "stdout",
     "output_type": "stream",
     "text": [
      "\n",
      "\r",
      "0it [00:00, ?it/s]"
     ]
    },
    {
     "name": "stdout",
     "output_type": "stream",
     "text": [
      "\r",
      "Upgrading database; v5 -> v6: : 0it [00:00, ?it/s]"
     ]
    },
    {
     "name": "stdout",
     "output_type": "stream",
     "text": [
      "\r",
      "Upgrading database; v5 -> v6: : 0it [00:00, ?it/s]"
     ]
    },
    {
     "name": "stdout",
     "output_type": "stream",
     "text": [
      "\n",
      "\r",
      "  0%|          | 0/1 [00:00<?, ?it/s]"
     ]
    },
    {
     "name": "stdout",
     "output_type": "stream",
     "text": [
      "\r",
      "Upgrading database; v6 -> v7:   0%|          | 0/1 [00:00<?, ?it/s]"
     ]
    },
    {
     "name": "stdout",
     "output_type": "stream",
     "text": [
      "\r",
      "Upgrading database; v6 -> v7: 100%|██████████| 1/1 [00:00<00:00, 251.38it/s]"
     ]
    },
    {
     "name": "stdout",
     "output_type": "stream",
     "text": [
      "\n",
      "\r",
      "  0%|          | 0/1 [00:00<?, ?it/s]"
     ]
    },
    {
     "name": "stdout",
     "output_type": "stream",
     "text": [
      "\r",
      "Upgrading database; v7 -> v8:   0%|          | 0/1 [00:00<?, ?it/s]"
     ]
    },
    {
     "name": "stdout",
     "output_type": "stream",
     "text": [
      "\r",
      "Upgrading database; v7 -> v8: 100%|██████████| 1/1 [00:00<00:00, 726.66it/s]"
     ]
    },
    {
     "name": "stdout",
     "output_type": "stream",
     "text": [
      "\n",
      "\r",
      "  0%|          | 0/1 [00:00<?, ?it/s]"
     ]
    },
    {
     "name": "stdout",
     "output_type": "stream",
     "text": [
      "\r",
      "Upgrading database; v8 -> v9:   0%|          | 0/1 [00:00<?, ?it/s]"
     ]
    },
    {
     "name": "stdout",
     "output_type": "stream",
     "text": [
      "\r",
      "Upgrading database; v8 -> v9: 100%|██████████| 1/1 [00:00<00:00, 341.72it/s]"
     ]
    },
    {
     "name": "stdout",
     "output_type": "stream",
     "text": [
      "\n"
     ]
    }
   ],
   "source": [
    "initialise_database()\n",
    "exp = load_or_create_experiment(experiment_name='tutorial_exp', sample_name=\"no sample\")"
   ]
  },
  {
   "cell_type": "markdown",
   "metadata": {},
   "source": [
    "Here, we define a simple function to benchmark the time it takes to insert n points with either numeric or array data type.\n",
    "We will compare both the time used to call ``add_result`` and the time used for the full measurement."
   ]
  },
  {
   "cell_type": "code",
   "execution_count": 4,
   "metadata": {
    "execution": {
     "iopub.execute_input": "2021-03-17T09:13:29.682118Z",
     "iopub.status.busy": "2021-03-17T09:13:29.681490Z",
     "iopub.status.idle": "2021-03-17T09:13:29.686215Z",
     "shell.execute_reply": "2021-03-17T09:13:29.685667Z"
    }
   },
   "outputs": [],
   "source": [
    "def insert_data(paramtype, npoints, nreps=1):\n",
    "\n",
    "    meas = Measurement(exp=exp)\n",
    "\n",
    "    x1 = ManualParameter('x1')\n",
    "    x2 = ManualParameter('x2')\n",
    "    x3 = ManualParameter('x3')\n",
    "    y1 = ManualParameter('y1')\n",
    "    y2 = ManualParameter('y2')\n",
    "\n",
    "    meas.register_parameter(x1, paramtype=paramtype)\n",
    "    meas.register_parameter(x2, paramtype=paramtype)\n",
    "    meas.register_parameter(x3, paramtype=paramtype)\n",
    "    meas.register_parameter(y1, setpoints=[x1, x2, x3],\n",
    "                            paramtype=paramtype)\n",
    "    meas.register_parameter(y2, setpoints=[x1, x2, x3],\n",
    "                            paramtype=paramtype)\n",
    "    start = time.perf_counter()\n",
    "    with meas.run() as datasaver:\n",
    "        start_adding = time.perf_counter()\n",
    "        for i in range(nreps):\n",
    "            datasaver.add_result((x1, np.random.rand(npoints)),\n",
    "                                 (x2, np.random.rand(npoints)),\n",
    "                                 (x3, np.random.rand(npoints)),\n",
    "                                 (y1, np.random.rand(npoints)),\n",
    "                                 (y2, np.random.rand(npoints)))\n",
    "        stop_adding = time.perf_counter()\n",
    "        run_id = datasaver.run_id\n",
    "    stop = time.perf_counter()\n",
    "    tot_time = stop - start\n",
    "    add_time = stop_adding - start_adding\n",
    "    return tot_time, add_time, run_id"
   ]
  },
  {
   "cell_type": "markdown",
   "metadata": {},
   "source": [
    "## Comparison between numeric/array data and binary blob"
   ]
  },
  {
   "cell_type": "markdown",
   "metadata": {},
   "source": [
    "### Case1: Short experiment time"
   ]
  },
  {
   "cell_type": "code",
   "execution_count": 5,
   "metadata": {
    "execution": {
     "iopub.execute_input": "2021-03-17T09:13:29.694457Z",
     "iopub.status.busy": "2021-03-17T09:13:29.693316Z",
     "iopub.status.idle": "2021-03-17T09:13:30.579792Z",
     "shell.execute_reply": "2021-03-17T09:13:30.580730Z"
    }
   },
   "outputs": [
    {
     "name": "stdout",
     "output_type": "stream",
     "text": [
      "Starting experimental run with id: 1. \n",
      "Starting experimental run with id: 2. \n",
      "Starting experimental run with id: 3. \n",
      "Starting experimental run with id: 4. \n"
     ]
    },
    {
     "name": "stdout",
     "output_type": "stream",
     "text": [
      "Starting experimental run with id: 5. \n"
     ]
    },
    {
     "name": "stdout",
     "output_type": "stream",
     "text": [
      "Starting experimental run with id: 6. \n",
      "Starting experimental run with id: 7. \n"
     ]
    },
    {
     "name": "stdout",
     "output_type": "stream",
     "text": [
      "Starting experimental run with id: 8. \n",
      "Starting experimental run with id: 9. \n"
     ]
    },
    {
     "name": "stdout",
     "output_type": "stream",
     "text": [
      "Starting experimental run with id: 10. \n",
      "Starting experimental run with id: 11. \n"
     ]
    },
    {
     "name": "stdout",
     "output_type": "stream",
     "text": [
      "Starting experimental run with id: 12. \n"
     ]
    },
    {
     "name": "stdout",
     "output_type": "stream",
     "text": [
      "Starting experimental run with id: 13. \n"
     ]
    },
    {
     "name": "stdout",
     "output_type": "stream",
     "text": [
      "Starting experimental run with id: 14. \n"
     ]
    }
   ],
   "source": [
    "sizes = [1,500,1000,2000,3000,4000,5000]\n",
    "t_numeric = []\n",
    "t_numeric_add = []\n",
    "t_array = []\n",
    "t_array_add = []\n",
    "for size in sizes:\n",
    "    tn, tna, run_id_n =  insert_data('numeric', size)\n",
    "    t_numeric.append(tn)\n",
    "    t_numeric_add.append(tna)\n",
    "\n",
    "    ta, taa, run_id_a =  insert_data('array', size)\n",
    "    t_array.append(ta)\n",
    "    t_array_add.append(taa)"
   ]
  },
  {
   "cell_type": "code",
   "execution_count": 6,
   "metadata": {
    "execution": {
     "iopub.execute_input": "2021-03-17T09:13:30.604947Z",
     "iopub.status.busy": "2021-03-17T09:13:30.602343Z",
     "iopub.status.idle": "2021-03-17T09:13:30.842353Z",
     "shell.execute_reply": "2021-03-17T09:13:30.843211Z"
    }
   },
   "outputs": [
    {
     "data": {
      "image/png": "[encoded data removed]",
      "text/plain": [
       "<Figure size 432x288 with 1 Axes>"
      ]
     },
     "metadata": {
      "needs_background": "light"
     },
     "output_type": "display_data"
    }
   ],
   "source": [
    "fig, ax = plt.subplots(1,1)\n",
    "ax.plot(sizes, t_numeric, 'o-', label='Inserting row-by-row')\n",
    "ax.plot(sizes, t_numeric_add, 'o-', label='Inserting row-by-row: add_result only')\n",
    "ax.plot(sizes, t_array, 'd-', label='Inserting as binary blob')\n",
    "ax.plot(sizes, t_array_add, 'd-', label='Inserting as binary blob: add_result only')\n",
    "ax.legend()\n",
    "ax.set_xlabel('Array length')\n",
    "ax.set_ylabel('Time (s)')\n",
    "fig.tight_layout()"
   ]
  },
  {
   "cell_type": "markdown",
   "metadata": {},
   "source": [
    "As shown in the latter figure, the time to setup and and close the experiment is approximately 0.4 sec. In case of small array sizes, the difference between inserting values of data as arrays and inserting them row-by-row is relatively unimportant. At larger array sizes, i.e. above 10000 points, the cost of writing data as individual datapoints starts to become important.\n"
   ]
  },
  {
   "cell_type": "markdown",
   "metadata": {},
   "source": [
    "### Case2: Long experiment time "
   ]
  },
  {
   "cell_type": "code",
   "execution_count": 7,
   "metadata": {
    "execution": {
     "iopub.execute_input": "2021-03-17T09:13:30.851306Z",
     "iopub.status.busy": "2021-03-17T09:13:30.850350Z",
     "iopub.status.idle": "2021-03-17T09:14:32.928240Z",
     "shell.execute_reply": "2021-03-17T09:14:32.927263Z"
    }
   },
   "outputs": [
    {
     "name": "stdout",
     "output_type": "stream",
     "text": [
      "Starting experimental run with id: 15. \n",
      "Starting experimental run with id: 16. \n"
     ]
    },
    {
     "name": "stdout",
     "output_type": "stream",
     "text": [
      "Starting experimental run with id: 17. \n"
     ]
    },
    {
     "name": "stdout",
     "output_type": "stream",
     "text": [
      "Starting experimental run with id: 18. \n"
     ]
    },
    {
     "name": "stdout",
     "output_type": "stream",
     "text": [
      "Starting experimental run with id: 19. \n"
     ]
    },
    {
     "name": "stdout",
     "output_type": "stream",
     "text": [
      "Starting experimental run with id: 20. \n"
     ]
    },
    {
     "name": "stdout",
     "output_type": "stream",
     "text": [
      "Starting experimental run with id: 21. \n"
     ]
    },
    {
     "name": "stdout",
     "output_type": "stream",
     "text": [
      "Starting experimental run with id: 22. \n"
     ]
    },
    {
     "name": "stdout",
     "output_type": "stream",
     "text": [
      "Starting experimental run with id: 23. \n"
     ]
    },
    {
     "name": "stdout",
     "output_type": "stream",
     "text": [
      "Starting experimental run with id: 24. \n"
     ]
    },
    {
     "name": "stdout",
     "output_type": "stream",
     "text": [
      "Starting experimental run with id: 25. \n"
     ]
    },
    {
     "name": "stdout",
     "output_type": "stream",
     "text": [
      "Starting experimental run with id: 26. \n"
     ]
    },
    {
     "name": "stdout",
     "output_type": "stream",
     "text": [
      "Starting experimental run with id: 27. \n"
     ]
    },
    {
     "name": "stdout",
     "output_type": "stream",
     "text": [
      "Starting experimental run with id: 28. \n"
     ]
    }
   ],
   "source": [
    "sizes = [1,500,1000,2000,3000,4000,5000]\n",
    "nreps = 100\n",
    "t_numeric = []\n",
    "t_numeric_add = []\n",
    "t_numeric_run_ids = []\n",
    "t_array = []\n",
    "t_array_add = []\n",
    "t_array_run_ids = []\n",
    "for size in sizes:\n",
    "    tn, tna, run_id_n =  insert_data('numeric', size, nreps=nreps)\n",
    "    t_numeric.append(tn)\n",
    "    t_numeric_add.append(tna)\n",
    "    t_numeric_run_ids.append(run_id_n)\n",
    "\n",
    "    ta, taa, run_id_a =  insert_data('array', size, nreps=nreps)\n",
    "    t_array.append(ta)\n",
    "    t_array_add.append(taa)\n",
    "    t_array_run_ids.append(run_id_a)"
   ]
  },
  {
   "cell_type": "code",
   "execution_count": 8,
   "metadata": {
    "execution": {
     "iopub.execute_input": "2021-03-17T09:14:32.952997Z",
     "iopub.status.busy": "2021-03-17T09:14:32.950551Z",
     "iopub.status.idle": "2021-03-17T09:14:33.185274Z",
     "shell.execute_reply": "2021-03-17T09:14:33.185823Z"
    },
    "scrolled": true
   },
   "outputs": [
    {
     "data": {
      "image/png": "[encoded data removed]",
      "text/plain": [
       "<Figure size 432x288 with 1 Axes>"
      ]
     },
     "metadata": {
      "needs_background": "light"
     },
     "output_type": "display_data"
    }
   ],
   "source": [
    "fig, ax = plt.subplots(1,1)\n",
    "ax.plot(sizes, t_numeric, 'o-', label='Inserting row-by-row')\n",
    "ax.plot(sizes, t_numeric_add, 'o-', label='Inserting row-by-row: add_result only')\n",
    "ax.plot(sizes, t_array, 'd-', label='Inserting as binary blob')\n",
    "ax.plot(sizes, t_array_add, 'd-', label='Inserting as binary blob: add_result only')\n",
    "ax.legend()\n",
    "ax.set_xlabel('Array length')\n",
    "ax.set_ylabel('Time (s)')\n",
    "fig.tight_layout()"
   ]
  },
  {
   "cell_type": "markdown",
   "metadata": {},
   "source": [
    "However, as we increase the length of the experiment, as seen here by repeating the insertion 100 times, we see a big difference between inserting values of the data row-by-row and inserting it as a binary blob."
   ]
  },
  {
   "cell_type": "markdown",
   "metadata": {},
   "source": [
    "## Loading the data "
   ]
  },
  {
   "cell_type": "code",
   "execution_count": 9,
   "metadata": {
    "execution": {
     "iopub.execute_input": "2021-03-17T09:14:33.190536Z",
     "iopub.status.busy": "2021-03-17T09:14:33.189229Z",
     "iopub.status.idle": "2021-03-17T09:14:33.192435Z",
     "shell.execute_reply": "2021-03-17T09:14:33.192983Z"
    }
   },
   "outputs": [],
   "source": [
    "from qcodes.dataset.data_set import load_by_id\n",
    "from qcodes.dataset.data_export import get_data_by_id"
   ]
  },
  {
   "cell_type": "markdown",
   "metadata": {},
   "source": [
    "As usual you can load the data by using the ``load_by_id`` function but you will notice that the different storage methods\n",
    "are reflected in shape of the data as it is retrieved. "
   ]
  },
  {
   "cell_type": "code",
   "execution_count": 10,
   "metadata": {
    "execution": {
     "iopub.execute_input": "2021-03-17T09:14:33.197841Z",
     "iopub.status.busy": "2021-03-17T09:14:33.196581Z",
     "iopub.status.idle": "2021-03-17T09:14:33.198545Z",
     "shell.execute_reply": "2021-03-17T09:14:33.199233Z"
    }
   },
   "outputs": [],
   "source": [
    "run_id_n = t_numeric_run_ids[0]\n",
    "run_id_a = t_array_run_ids[0]"
   ]
  },
  {
   "cell_type": "code",
   "execution_count": 11,
   "metadata": {
    "execution": {
     "iopub.execute_input": "2021-03-17T09:14:33.203251Z",
     "iopub.status.busy": "2021-03-17T09:14:33.202612Z",
     "iopub.status.idle": "2021-03-17T09:14:33.212810Z",
     "shell.execute_reply": "2021-03-17T09:14:33.213406Z"
    },
    "scrolled": true
   },
   "outputs": [
    {
     "data": {
      "text/plain": [
       "{'x1': {'x1': array([2.31183765e-01, 2.31183765e-01, 4.56419465e-01, 4.56419465e-01,\n",
       "         7.28672838e-01, 7.28672838e-01, 3.95657821e-01, 3.95657821e-01,\n",
       "         7.96218582e-01, 7.96218582e-01, 6.50956843e-01, 6.50956843e-01,\n",
       "         6.90063487e-01, 6.90063487e-01, 9.33366146e-01, 9.33366146e-01,\n",
       "         7.98251938e-02, 7.98251938e-02, 7.64896188e-01, 7.64896188e-01,\n",
       "         9.72866277e-01, 9.72866277e-01, 4.24403886e-01, 4.24403886e-01,\n",
       "         9.42766782e-01, 9.42766782e-01, 1.74364052e-01, 1.74364052e-01,\n",
       "         5.10004937e-01, 5.10004937e-01, 6.77896964e-01, 6.77896964e-01,\n",
       "         3.24873919e-01, 3.24873919e-01, 7.88328247e-01, 7.88328247e-01,\n",
       "         8.40106557e-01, 8.40106557e-01, 1.16887731e-01, 1.16887731e-01,\n",
       "         9.16299461e-04, 9.16299461e-04, 4.35112782e-01, 4.35112782e-01,\n",
       "         7.09602333e-01, 7.09602333e-01, 2.84242205e-02, 2.84242205e-02,\n",
       "         3.25839350e-01, 3.25839350e-01, 7.56082060e-01, 7.56082060e-01,\n",
       "         7.42772400e-01, 7.42772400e-01, 7.87365896e-01, 7.87365896e-01,\n",
       "         4.36631114e-01, 4.36631114e-01, 8.35883602e-01, 8.35883602e-01,\n",
       "         4.21341526e-01, 4.21341526e-01, 5.51961607e-01, 5.51961607e-01,\n",
       "         1.32886162e-01, 1.32886162e-01, 8.26203614e-01, 8.26203614e-01,\n",
       "         6.95052661e-01, 6.95052661e-01, 5.19365678e-01, 5.19365678e-01,\n",
       "         6.15863055e-01, 6.15863055e-01, 4.13792651e-01, 4.13792651e-01,\n",
       "         1.66060433e-01, 1.66060433e-01, 7.82046314e-01, 7.82046314e-01,\n",
       "         8.71108494e-01, 8.71108494e-01, 1.86514527e-01, 1.86514527e-01,\n",
       "         7.09681343e-02, 7.09681343e-02, 6.22922402e-01, 6.22922402e-01,\n",
       "         4.23808366e-01, 4.23808366e-01, 5.71516453e-01, 5.71516453e-01,\n",
       "         8.79904245e-01, 8.79904245e-01, 1.64327754e-01, 1.64327754e-01,\n",
       "         7.85342714e-01, 7.85342714e-01, 3.36848903e-01, 3.36848903e-01,\n",
       "         5.66622820e-01, 5.66622820e-01, 4.10958677e-01, 4.10958677e-01,\n",
       "         3.15979371e-02, 3.15979371e-02, 1.06376842e-01, 1.06376842e-01,\n",
       "         3.67740926e-01, 3.67740926e-01, 9.73008887e-01, 9.73008887e-01,\n",
       "         9.91091969e-02, 9.91091969e-02, 1.74441057e-01, 1.74441057e-01,\n",
       "         9.18278630e-01, 9.18278630e-01, 5.00047677e-01, 5.00047677e-01,\n",
       "         9.52996337e-01, 9.52996337e-01, 1.43495336e-01, 1.43495336e-01,\n",
       "         7.43070391e-01, 7.43070391e-01, 6.40602541e-01, 6.40602541e-01,\n",
       "         2.36852786e-02, 2.36852786e-02, 1.13895003e-01, 1.13895003e-01,\n",
       "         6.74273451e-02, 6.74273451e-02, 1.29370680e-01, 1.29370680e-01,\n",
       "         1.88059452e-01, 1.88059452e-01, 8.17335649e-01, 8.17335649e-01,\n",
       "         8.35304497e-01, 8.35304497e-01, 8.93139933e-01, 8.93139933e-01,\n",
       "         1.06312196e-01, 1.06312196e-01, 1.00131556e-01, 1.00131556e-01,\n",
       "         3.48701685e-01, 3.48701685e-01, 4.83733287e-02, 4.83733287e-02,\n",
       "         2.38379763e-01, 2.38379763e-01, 8.32023537e-01, 8.32023537e-01,\n",
       "         5.93068607e-01, 5.93068607e-01, 1.44128037e-01, 1.44128037e-01,\n",
       "         3.51683833e-01, 3.51683833e-01, 2.88233914e-01, 2.88233914e-01,\n",
       "         3.08152468e-01, 3.08152468e-01, 2.23517092e-01, 2.23517092e-01,\n",
       "         9.70795046e-02, 9.70795046e-02, 1.68298830e-01, 1.68298830e-01,\n",
       "         4.10392988e-01, 4.10392988e-01, 9.42521032e-01, 9.42521032e-01,\n",
       "         7.26780093e-01, 7.26780093e-01, 8.50902433e-01, 8.50902433e-01,\n",
       "         4.52347323e-01, 4.52347323e-01, 3.39813327e-01, 3.39813327e-01,\n",
       "         3.66485139e-01, 3.66485139e-01, 4.54256475e-02, 4.54256475e-02,\n",
       "         7.67297734e-01, 7.67297734e-01, 1.82943508e-02, 1.82943508e-02,\n",
       "         8.00927674e-01, 8.00927674e-01, 5.44681952e-01, 5.44681952e-01,\n",
       "         4.87569756e-01, 4.87569756e-01, 8.95138733e-01, 8.95138733e-01])}}"
      ]
     },
     "execution_count": 1,
     "metadata": {},
     "output_type": "execute_result"
    }
   ],
   "source": [
    "ds = load_by_id(run_id_n)\n",
    "ds.get_parameter_data('x1')"
   ]
  },
  {
   "cell_type": "markdown",
   "metadata": {},
   "source": [
    "And a dataset stored as binary arrays"
   ]
  },
  {
   "cell_type": "code",
   "execution_count": 12,
   "metadata": {
    "execution": {
     "iopub.execute_input": "2021-03-17T09:14:33.217664Z",
     "iopub.status.busy": "2021-03-17T09:14:33.217042Z",
     "iopub.status.idle": "2021-03-17T09:14:33.286172Z",
     "shell.execute_reply": "2021-03-17T09:14:33.286773Z"
    },
    "scrolled": true
   },
   "outputs": [
    {
     "data": {
      "text/plain": [
       "{'x1': {'x1': array([[0.1808252 ],\n",
       "         [0.1808252 ],\n",
       "         [0.84914386],\n",
       "         [0.84914386],\n",
       "         [0.89175656],\n",
       "         [0.89175656],\n",
       "         [0.13347521],\n",
       "         [0.13347521],\n",
       "         [0.43092616],\n",
       "         [0.43092616],\n",
       "         [0.76740383],\n",
       "         [0.76740383],\n",
       "         [0.45124822],\n",
       "         [0.45124822],\n",
       "         [0.91254193],\n",
       "         [0.91254193],\n",
       "         [0.94884931],\n",
       "         [0.94884931],\n",
       "         [0.57027843],\n",
       "         [0.57027843],\n",
       "         [0.19894389],\n",
       "         [0.19894389],\n",
       "         [0.3112216 ],\n",
       "         [0.3112216 ],\n",
       "         [0.41426718],\n",
       "         [0.41426718],\n",
       "         [0.09551989],\n",
       "         [0.09551989],\n",
       "         [0.23412877],\n",
       "         [0.23412877],\n",
       "         [0.20122438],\n",
       "         [0.20122438],\n",
       "         [0.65127604],\n",
       "         [0.65127604],\n",
       "         [0.10547424],\n",
       "         [0.10547424],\n",
       "         [0.25203148],\n",
       "         [0.25203148],\n",
       "         [0.8096066 ],\n",
       "         [0.8096066 ],\n",
       "         [0.96055287],\n",
       "         [0.96055287],\n",
       "         [0.83189506],\n",
       "         [0.83189506],\n",
       "         [0.36644648],\n",
       "         [0.36644648],\n",
       "         [0.39290534],\n",
       "         [0.39290534],\n",
       "         [0.26054236],\n",
       "         [0.26054236],\n",
       "         [0.91024914],\n",
       "         [0.91024914],\n",
       "         [0.66486946],\n",
       "         [0.66486946],\n",
       "         [0.03350949],\n",
       "         [0.03350949],\n",
       "         [0.83336179],\n",
       "         [0.83336179],\n",
       "         [0.48854997],\n",
       "         [0.48854997],\n",
       "         [0.38388756],\n",
       "         [0.38388756],\n",
       "         [0.40215663],\n",
       "         [0.40215663],\n",
       "         [0.75781037],\n",
       "         [0.75781037],\n",
       "         [0.61287792],\n",
       "         [0.61287792],\n",
       "         [0.05632018],\n",
       "         [0.05632018],\n",
       "         [0.69193344],\n",
       "         [0.69193344],\n",
       "         [0.57440695],\n",
       "         [0.57440695],\n",
       "         [0.10112145],\n",
       "         [0.10112145],\n",
       "         [0.43040231],\n",
       "         [0.43040231],\n",
       "         [0.90003583],\n",
       "         [0.90003583],\n",
       "         [0.59023002],\n",
       "         [0.59023002],\n",
       "         [0.43889946],\n",
       "         [0.43889946],\n",
       "         [0.75990079],\n",
       "         [0.75990079],\n",
       "         [0.47384833],\n",
       "         [0.47384833],\n",
       "         [0.60180679],\n",
       "         [0.60180679],\n",
       "         [0.42144283],\n",
       "         [0.42144283],\n",
       "         [0.69643547],\n",
       "         [0.69643547],\n",
       "         [0.02675799],\n",
       "         [0.02675799],\n",
       "         [0.85002051],\n",
       "         [0.85002051],\n",
       "         [0.96517206],\n",
       "         [0.96517206],\n",
       "         [0.07405894],\n",
       "         [0.07405894],\n",
       "         [0.9548648 ],\n",
       "         [0.9548648 ],\n",
       "         [0.16045649],\n",
       "         [0.16045649],\n",
       "         [0.77067462],\n",
       "         [0.77067462],\n",
       "         [0.33782071],\n",
       "         [0.33782071],\n",
       "         [0.68681985],\n",
       "         [0.68681985],\n",
       "         [0.05327069],\n",
       "         [0.05327069],\n",
       "         [0.09100827],\n",
       "         [0.09100827],\n",
       "         [0.95412298],\n",
       "         [0.95412298],\n",
       "         [0.58369296],\n",
       "         [0.58369296],\n",
       "         [0.58441155],\n",
       "         [0.58441155],\n",
       "         [0.91841525],\n",
       "         [0.91841525],\n",
       "         [0.13613826],\n",
       "         [0.13613826],\n",
       "         [0.18441816],\n",
       "         [0.18441816],\n",
       "         [0.95212351],\n",
       "         [0.95212351],\n",
       "         [0.57314008],\n",
       "         [0.57314008],\n",
       "         [0.36065599],\n",
       "         [0.36065599],\n",
       "         [0.29462357],\n",
       "         [0.29462357],\n",
       "         [0.84160648],\n",
       "         [0.84160648],\n",
       "         [0.7201872 ],\n",
       "         [0.7201872 ],\n",
       "         [0.148511  ],\n",
       "         [0.148511  ],\n",
       "         [0.67935523],\n",
       "         [0.67935523],\n",
       "         [0.55875352],\n",
       "         [0.55875352],\n",
       "         [0.50362477],\n",
       "         [0.50362477],\n",
       "         [0.12431869],\n",
       "         [0.12431869],\n",
       "         [0.43997126],\n",
       "         [0.43997126],\n",
       "         [0.83115111],\n",
       "         [0.83115111],\n",
       "         [0.75088524],\n",
       "         [0.75088524],\n",
       "         [0.8879762 ],\n",
       "         [0.8879762 ],\n",
       "         [0.6772066 ],\n",
       "         [0.6772066 ],\n",
       "         [0.69864325],\n",
       "         [0.69864325],\n",
       "         [0.15880276],\n",
       "         [0.15880276],\n",
       "         [0.47806425],\n",
       "         [0.47806425],\n",
       "         [0.82731738],\n",
       "         [0.82731738],\n",
       "         [0.28322115],\n",
       "         [0.28322115],\n",
       "         [0.96153785],\n",
       "         [0.96153785],\n",
       "         [0.72746758],\n",
       "         [0.72746758],\n",
       "         [0.47646934],\n",
       "         [0.47646934],\n",
       "         [0.7430768 ],\n",
       "         [0.7430768 ],\n",
       "         [0.43530953],\n",
       "         [0.43530953],\n",
       "         [0.14428186],\n",
       "         [0.14428186],\n",
       "         [0.80698707],\n",
       "         [0.80698707],\n",
       "         [0.25937978],\n",
       "         [0.25937978],\n",
       "         [0.50413044],\n",
       "         [0.50413044],\n",
       "         [0.69196907],\n",
       "         [0.69196907],\n",
       "         [0.57252176],\n",
       "         [0.57252176],\n",
       "         [0.59124414],\n",
       "         [0.59124414],\n",
       "         [0.67755612],\n",
       "         [0.67755612],\n",
       "         [0.44275692],\n",
       "         [0.44275692],\n",
       "         [0.81205057],\n",
       "         [0.81205057]])}}"
      ]
     },
     "execution_count": 1,
     "metadata": {},
     "output_type": "execute_result"
    }
   ],
   "source": [
    "ds = load_by_id(run_id_a)\n",
    "ds.get_parameter_data('x1')"
   ]
  },
  {
   "cell_type": "code",
   "execution_count": null,
   "metadata": {},
   "outputs": [],
   "source": []
  }
 ],
 "metadata": {
  "kernelspec": {
   "display_name": "Python 3",
   "language": "python",
   "name": "python3"
  },
  "language_info": {
   "codemirror_mode": {
    "name": "ipython",
    "version": 3
   },
   "file_extension": ".py",
   "mimetype": "text/x-python",
   "name": "python",
   "nbconvert_exporter": "python",
   "pygments_lexer": "ipython3",
   "version": "3.7.10"
  },
  "nbsphinx": {
   "timeout": 600
  },
  "toc": {
   "base_numbering": 1,
   "nav_menu": {},
   "number_sections": true,
   "sideBar": true,
   "skip_h1_title": false,
   "title_cell": "Table of Contents",
   "title_sidebar": "Contents",
   "toc_cell": false,
   "toc_position": {},
   "toc_section_display": true,
   "toc_window_display": false
  },
  "varInspector": {
   "cols": {
    "lenName": 16,
    "lenType": 16,
    "lenVar": 40
   },
   "kernels_config": {
    "python": {
     "delete_cmd_postfix": "",
     "delete_cmd_prefix": "del ",
     "library": "var_list.py",
     "varRefreshCmd": "print(var_dic_list())"
    },
    "r": {
     "delete_cmd_postfix": ") ",
     "delete_cmd_prefix": "rm(",
     "library": "var_list.r",
     "varRefreshCmd": "cat(var_dic_list()) "
    }
   },
   "types_to_exclude": [
    "module",
    "function",
    "builtin_function_or_method",
    "instance",
    "_Feature"
   ],
   "window_display": false
  }
 },
 "nbformat": 4,
 "nbformat_minor": 2
}
