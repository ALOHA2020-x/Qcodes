{
 "cells": [
  {
   "cell_type": "markdown",
   "metadata": {},
   "source": [
    "# DataSet Performance\n",
    "\n",
    "This notebook shows the trade-off between inserting data into a database row-by-row and as binary blobs. Inserting the data row-by-row means that we have direct access to all the data and may perform queries directly on the values of the data. On the other hand, as we shall see, this is much slower than inserting the data directly as binary blobs."
   ]
  },
  {
   "cell_type": "markdown",
   "metadata": {},
   "source": [
    "First, we choose a new location for the database to ensure that we don't add a bunch of benchmarking data to the default one."
   ]
  },
  {
   "cell_type": "code",
   "execution_count": 1,
   "metadata": {},
   "outputs": [
    {
     "name": "stdout",
     "output_type": "stream",
     "text": [
      "Logging hadn't been started.\n",
      "Activating auto-logging. Current session state plus future input saved.\n",
      "Filename       : /home/vsts/.qcodes/logs/command_history.log\n",
      "Mode           : append\n",
      "Output logging : True\n",
      "Raw input log  : False\n",
      "Timestamping   : True\n",
      "State          : active\n"
     ]
    },
    {
     "name": "stdout",
     "output_type": "stream",
     "text": [
      "Qcodes Logfile : /home/vsts/.qcodes/logs/200701-20281-qcodes.log\n"
     ]
    }
   ],
   "source": [
    "import os\n",
    "cwd = os.getcwd()\n",
    "import qcodes as qc\n",
    "qc.config[\"core\"][\"db_location\"] = os.path.join(cwd, 'testing.db')\n"
   ]
  },
  {
   "cell_type": "code",
   "execution_count": 2,
   "metadata": {},
   "outputs": [],
   "source": [
    "%matplotlib inline\n",
    "import time\n",
    "import matplotlib.pyplot as plt\n",
    "import numpy as np\n",
    "\n",
    "import qcodes as qc\n",
    "from qcodes.instrument.parameter import ManualParameter\n",
    "from qcodes.dataset.experiment_container import (Experiment,\n",
    "                                                 load_last_experiment,\n",
    "                                                 new_experiment)\n",
    "from qcodes.dataset.sqlite.database import initialise_database\n",
    "from qcodes import load_or_create_experiment\n",
    "from qcodes.dataset.measurements import Measurement"
   ]
  },
  {
   "cell_type": "code",
   "execution_count": 3,
   "metadata": {},
   "outputs": [
    {
     "name": "stdout",
     "output_type": "stream",
     "text": [
      "\r",
      "0it [00:00, ?it/s]"
     ]
    },
    {
     "name": "stdout",
     "output_type": "stream",
     "text": [
      "\r",
      "Upgrading database; v0 -> v1: : 0it [00:00, ?it/s]"
     ]
    },
    {
     "name": "stdout",
     "output_type": "stream",
     "text": [
      "\r",
      "Upgrading database; v0 -> v1: : 0it [00:00, ?it/s]"
     ]
    },
    {
     "name": "stdout",
     "output_type": "stream",
     "text": [
      "\n",
      "\r",
      "  0%|          | 0/1 [00:00<?, ?it/s]"
     ]
    },
    {
     "name": "stdout",
     "output_type": "stream",
     "text": [
      "\r",
      "Upgrading database; v1 -> v2:   0%|          | 0/1 [00:00<?, ?it/s]"
     ]
    },
    {
     "name": "stdout",
     "output_type": "stream",
     "text": [
      "\r",
      "Upgrading database; v1 -> v2: 100%|██████████| 1/1 [00:00<00:00, 1370.69it/s]"
     ]
    },
    {
     "name": "stdout",
     "output_type": "stream",
     "text": [
      "\n",
      "\r",
      "0it [00:00, ?it/s]"
     ]
    },
    {
     "name": "stdout",
     "output_type": "stream",
     "text": [
      "\r",
      "Upgrading database; v2 -> v3: : 0it [00:00, ?it/s]"
     ]
    },
    {
     "name": "stdout",
     "output_type": "stream",
     "text": [
      "\r",
      "Upgrading database; v2 -> v3: : 0it [00:00, ?it/s]"
     ]
    },
    {
     "name": "stdout",
     "output_type": "stream",
     "text": [
      "\n",
      "\r",
      "0it [00:00, ?it/s]"
     ]
    },
    {
     "name": "stdout",
     "output_type": "stream",
     "text": [
      "\r",
      "Upgrading database; v3 -> v4: : 0it [00:00, ?it/s]"
     ]
    },
    {
     "name": "stdout",
     "output_type": "stream",
     "text": [
      "\r",
      "Upgrading database; v3 -> v4: : 0it [00:00, ?it/s]"
     ]
    },
    {
     "name": "stdout",
     "output_type": "stream",
     "text": [
      "\n",
      "\r",
      "  0%|          | 0/1 [00:00<?, ?it/s]"
     ]
    },
    {
     "name": "stdout",
     "output_type": "stream",
     "text": [
      "\r",
      "Upgrading database; v4 -> v5:   0%|          | 0/1 [00:00<?, ?it/s]"
     ]
    },
    {
     "name": "stdout",
     "output_type": "stream",
     "text": [
      "\r",
      "Upgrading database; v4 -> v5: 100%|██████████| 1/1 [00:00<00:00, 1004.86it/s]"
     ]
    },
    {
     "name": "stdout",
     "output_type": "stream",
     "text": [
      "\n",
      "\r",
      "0it [00:00, ?it/s]"
     ]
    },
    {
     "name": "stdout",
     "output_type": "stream",
     "text": [
      "\r",
      "Upgrading database; v5 -> v6: : 0it [00:00, ?it/s]"
     ]
    },
    {
     "name": "stdout",
     "output_type": "stream",
     "text": [
      "\r",
      "Upgrading database; v5 -> v6: : 0it [00:00, ?it/s]"
     ]
    },
    {
     "name": "stdout",
     "output_type": "stream",
     "text": [
      "\n",
      "\r",
      "  0%|          | 0/1 [00:00<?, ?it/s]"
     ]
    },
    {
     "name": "stdout",
     "output_type": "stream",
     "text": [
      "\r",
      "Upgrading database; v6 -> v7:   0%|          | 0/1 [00:00<?, ?it/s]"
     ]
    },
    {
     "name": "stdout",
     "output_type": "stream",
     "text": [
      "\r",
      "Upgrading database; v6 -> v7: 100%|██████████| 1/1 [00:00<00:00, 344.47it/s]"
     ]
    },
    {
     "name": "stdout",
     "output_type": "stream",
     "text": [
      "\n",
      "\r",
      "  0%|          | 0/1 [00:00<?, ?it/s]"
     ]
    },
    {
     "name": "stdout",
     "output_type": "stream",
     "text": [
      "\r",
      "Upgrading database; v7 -> v8:   0%|          | 0/1 [00:00<?, ?it/s]"
     ]
    },
    {
     "name": "stdout",
     "output_type": "stream",
     "text": [
      "\r",
      "Upgrading database; v7 -> v8: 100%|██████████| 1/1 [00:00<00:00, 888.44it/s]"
     ]
    },
    {
     "name": "stdout",
     "output_type": "stream",
     "text": [
      "\n",
      "\r",
      "  0%|          | 0/1 [00:00<?, ?it/s]"
     ]
    },
    {
     "name": "stdout",
     "output_type": "stream",
     "text": [
      "\r",
      "Upgrading database; v8 -> v9:   0%|          | 0/1 [00:00<?, ?it/s]"
     ]
    },
    {
     "name": "stdout",
     "output_type": "stream",
     "text": [
      "\r",
      "Upgrading database; v8 -> v9: 100%|██████████| 1/1 [00:00<00:00, 1027.01it/s]"
     ]
    },
    {
     "name": "stdout",
     "output_type": "stream",
     "text": [
      "\n"
     ]
    }
   ],
   "source": [
    "initialise_database()\n",
    "exp = load_or_create_experiment(experiment_name='tutorial_exp', sample_name=\"no sample\")"
   ]
  },
  {
   "cell_type": "markdown",
   "metadata": {},
   "source": [
    "Here, we define a simple function to benchmark the time it takes to insert n points with either numeric or array data type.\n",
    "We will compare both the time used to call ``add_result`` and the time used for the full measurement."
   ]
  },
  {
   "cell_type": "code",
   "execution_count": 4,
   "metadata": {},
   "outputs": [],
   "source": [
    "def insert_data(paramtype, npoints, nreps=1):\n",
    "\n",
    "    meas = Measurement(exp=exp)\n",
    "\n",
    "    x1 = ManualParameter('x1')\n",
    "    x2 = ManualParameter('x2')\n",
    "    x3 = ManualParameter('x3')\n",
    "    y1 = ManualParameter('y1')\n",
    "    y2 = ManualParameter('y2')\n",
    "\n",
    "    meas.register_parameter(x1, paramtype=paramtype)\n",
    "    meas.register_parameter(x2, paramtype=paramtype)\n",
    "    meas.register_parameter(x3, paramtype=paramtype)\n",
    "    meas.register_parameter(y1, setpoints=[x1, x2, x3],\n",
    "                            paramtype=paramtype)\n",
    "    meas.register_parameter(y2, setpoints=[x1, x2, x3],\n",
    "                            paramtype=paramtype)\n",
    "    start = time.perf_counter()\n",
    "    with meas.run() as datasaver:\n",
    "        start_adding = time.perf_counter()\n",
    "        for i in range(nreps):\n",
    "            datasaver.add_result((x1, np.random.rand(npoints)),\n",
    "                                 (x2, np.random.rand(npoints)),\n",
    "                                 (x3, np.random.rand(npoints)),\n",
    "                                 (y1, np.random.rand(npoints)),\n",
    "                                 (y2, np.random.rand(npoints)))\n",
    "        stop_adding = time.perf_counter()\n",
    "        run_id = datasaver.run_id\n",
    "    stop = time.perf_counter()\n",
    "    tot_time = stop - start\n",
    "    add_time = stop_adding - start_adding\n",
    "    return tot_time, add_time, run_id"
   ]
  },
  {
   "cell_type": "markdown",
   "metadata": {},
   "source": [
    "## Comparison between numeric/array data and binary blob"
   ]
  },
  {
   "cell_type": "markdown",
   "metadata": {},
   "source": [
    "### Case1: Short experiment time"
   ]
  },
  {
   "cell_type": "code",
   "execution_count": 5,
   "metadata": {},
   "outputs": [
    {
     "name": "stdout",
     "output_type": "stream",
     "text": [
      "Starting experimental run with id: 1. \n",
      "Starting experimental run with id: 2. \n",
      "Starting experimental run with id: 3. \n"
     ]
    },
    {
     "name": "stdout",
     "output_type": "stream",
     "text": [
      "Starting experimental run with id: 4. \n"
     ]
    },
    {
     "name": "stdout",
     "output_type": "stream",
     "text": [
      "Starting experimental run with id: 5. \n"
     ]
    },
    {
     "name": "stdout",
     "output_type": "stream",
     "text": [
      "Starting experimental run with id: 6. \n",
      "Starting experimental run with id: 7. \n"
     ]
    },
    {
     "name": "stdout",
     "output_type": "stream",
     "text": [
      "Starting experimental run with id: 8. \n",
      "Starting experimental run with id: 9. \n"
     ]
    },
    {
     "name": "stdout",
     "output_type": "stream",
     "text": [
      "Starting experimental run with id: 10. \n",
      "Starting experimental run with id: 11. \n"
     ]
    },
    {
     "name": "stdout",
     "output_type": "stream",
     "text": [
      "Starting experimental run with id: 12. \n",
      "Starting experimental run with id: 13. \n"
     ]
    },
    {
     "name": "stdout",
     "output_type": "stream",
     "text": [
      "Starting experimental run with id: 14. \n"
     ]
    }
   ],
   "source": [
    "sizes = [1,500,1000,2000,3000,4000,5000]\n",
    "t_numeric = []\n",
    "t_numeric_add = []\n",
    "t_array = []\n",
    "t_array_add = []\n",
    "for size in sizes:\n",
    "    tn, tna, run_id_n =  insert_data('numeric', size)\n",
    "    t_numeric.append(tn)\n",
    "    t_numeric_add.append(tna)\n",
    "\n",
    "    ta, taa, run_id_a =  insert_data('array', size)\n",
    "    t_array.append(ta)\n",
    "    t_array_add.append(taa)"
   ]
  },
  {
   "cell_type": "code",
   "execution_count": 6,
   "metadata": {},
   "outputs": [
    {
     "data": {
      "image/png": "[encoded data removed]",
      "text/plain": [
       "<Figure size 432x288 with 1 Axes>"
      ]
     },
     "metadata": {
      "needs_background": "light"
     },
     "output_type": "display_data"
    }
   ],
   "source": [
    "fig, ax = plt.subplots(1,1)\n",
    "ax.plot(sizes, t_numeric, 'o-', label='Inserting row-by-row')\n",
    "ax.plot(sizes, t_numeric_add, 'o-', label='Inserting row-by-row: add_result only')\n",
    "ax.plot(sizes, t_array, 'd-', label='Inserting as binary blob')\n",
    "ax.plot(sizes, t_array_add, 'd-', label='Inserting as binary blob: add_result only')\n",
    "ax.legend()\n",
    "ax.set_xlabel('Array length')\n",
    "ax.set_ylabel('Time (s)')\n",
    "fig.tight_layout()"
   ]
  },
  {
   "cell_type": "markdown",
   "metadata": {},
   "source": [
    "As shown in the latter figure, the time to setup and and close the experiment is approximately 0.4 sec. In case of small array sizes, the difference between inserting values of data as arrays and inserting them row-by-row is relatively unimportant. At larger array sizes, i.e. above 10000 points, the cost of writing data as individual datapoints starts to become important.\n"
   ]
  },
  {
   "cell_type": "markdown",
   "metadata": {},
   "source": [
    "### Case2: Long experiment time "
   ]
  },
  {
   "cell_type": "code",
   "execution_count": 7,
   "metadata": {},
   "outputs": [
    {
     "name": "stdout",
     "output_type": "stream",
     "text": [
      "Starting experimental run with id: 15. \n",
      "Starting experimental run with id: 16. \n",
      "Starting experimental run with id: 17. \n"
     ]
    },
    {
     "name": "stdout",
     "output_type": "stream",
     "text": [
      "Starting experimental run with id: 18. \n",
      "Starting experimental run with id: 19. \n"
     ]
    },
    {
     "name": "stdout",
     "output_type": "stream",
     "text": [
      "Starting experimental run with id: 20. \n"
     ]
    },
    {
     "name": "stdout",
     "output_type": "stream",
     "text": [
      "Starting experimental run with id: 21. \n"
     ]
    },
    {
     "name": "stdout",
     "output_type": "stream",
     "text": [
      "Starting experimental run with id: 22. \n"
     ]
    },
    {
     "name": "stdout",
     "output_type": "stream",
     "text": [
      "Starting experimental run with id: 23. \n"
     ]
    },
    {
     "name": "stdout",
     "output_type": "stream",
     "text": [
      "Starting experimental run with id: 24. \n"
     ]
    },
    {
     "name": "stdout",
     "output_type": "stream",
     "text": [
      "Starting experimental run with id: 25. \n"
     ]
    },
    {
     "name": "stdout",
     "output_type": "stream",
     "text": [
      "Starting experimental run with id: 26. \n"
     ]
    },
    {
     "name": "stdout",
     "output_type": "stream",
     "text": [
      "Starting experimental run with id: 27. \n"
     ]
    },
    {
     "name": "stdout",
     "output_type": "stream",
     "text": [
      "Starting experimental run with id: 28. \n"
     ]
    }
   ],
   "source": [
    "sizes = [1,500,1000,2000,3000,4000,5000]\n",
    "nreps = 100\n",
    "t_numeric = []\n",
    "t_numeric_add = []\n",
    "t_numeric_run_ids = []\n",
    "t_array = []\n",
    "t_array_add = []\n",
    "t_array_run_ids = []\n",
    "for size in sizes:\n",
    "    tn, tna, run_id_n =  insert_data('numeric', size, nreps=nreps)\n",
    "    t_numeric.append(tn)\n",
    "    t_numeric_add.append(tna)\n",
    "    t_numeric_run_ids.append(run_id_n)\n",
    "\n",
    "    ta, taa, run_id_a =  insert_data('array', size, nreps=nreps)\n",
    "    t_array.append(ta)\n",
    "    t_array_add.append(taa)\n",
    "    t_array_run_ids.append(run_id_a)"
   ]
  },
  {
   "cell_type": "code",
   "execution_count": 8,
   "metadata": {
    "scrolled": true
   },
   "outputs": [
    {
     "data": {
      "image/png": "[encoded data removed]",
      "text/plain": [
       "<Figure size 432x288 with 1 Axes>"
      ]
     },
     "metadata": {
      "needs_background": "light"
     },
     "output_type": "display_data"
    }
   ],
   "source": [
    "fig, ax = plt.subplots(1,1)\n",
    "ax.plot(sizes, t_numeric, 'o-', label='Inserting row-by-row')\n",
    "ax.plot(sizes, t_numeric_add, 'o-', label='Inserting row-by-row: add_result only')\n",
    "ax.plot(sizes, t_array, 'd-', label='Inserting as binary blob')\n",
    "ax.plot(sizes, t_array_add, 'd-', label='Inserting as binary blob: add_result only')\n",
    "ax.legend()\n",
    "ax.set_xlabel('Array length')\n",
    "ax.set_ylabel('Time (s)')\n",
    "fig.tight_layout()"
   ]
  },
  {
   "cell_type": "markdown",
   "metadata": {},
   "source": [
    "However, as we increase the length of the experiment, as seen here by repeating the insertion 100 times, we see a big difference between inserting values of the data row-by-row and inserting it as a binary blob."
   ]
  },
  {
   "cell_type": "markdown",
   "metadata": {},
   "source": [
    "## Loading the data "
   ]
  },
  {
   "cell_type": "code",
   "execution_count": 9,
   "metadata": {},
   "outputs": [],
   "source": [
    "from qcodes.dataset.data_set import load_by_id\n",
    "from qcodes.dataset.data_export import get_data_by_id"
   ]
  },
  {
   "cell_type": "markdown",
   "metadata": {},
   "source": [
    "As usual you can load the data by using the ``load_by_id`` function but you will notice that the different storage methods\n",
    "are reflected in shape of the data as it is retrieved. "
   ]
  },
  {
   "cell_type": "code",
   "execution_count": 10,
   "metadata": {},
   "outputs": [],
   "source": [
    "run_id_n = t_numeric_run_ids[0]\n",
    "run_id_a = t_array_run_ids[0]"
   ]
  },
  {
   "cell_type": "code",
   "execution_count": 11,
   "metadata": {
    "scrolled": true
   },
   "outputs": [
    {
     "data": {
      "text/plain": [
       "{'x1': {'x1': array([0.62416615, 0.62416615, 0.13195953, 0.13195953, 0.97818898,\n",
       "         0.97818898, 0.30177625, 0.30177625, 0.20511918, 0.20511918,\n",
       "         0.14108778, 0.14108778, 0.64856183, 0.64856183, 0.55348161,\n",
       "         0.55348161, 0.10094891, 0.10094891, 0.86729615, 0.86729615,\n",
       "         0.90337731, 0.90337731, 0.38900426, 0.38900426, 0.07675339,\n",
       "         0.07675339, 0.0930301 , 0.0930301 , 0.07248522, 0.07248522,\n",
       "         0.28908434, 0.28908434, 0.32652568, 0.32652568, 0.58540252,\n",
       "         0.58540252, 0.2530929 , 0.2530929 , 0.95100892, 0.95100892,\n",
       "         0.09193952, 0.09193952, 0.30612592, 0.30612592, 0.26241534,\n",
       "         0.26241534, 0.34505388, 0.34505388, 0.97840277, 0.97840277,\n",
       "         0.12318089, 0.12318089, 0.31739656, 0.31739656, 0.37101236,\n",
       "         0.37101236, 0.94078677, 0.94078677, 0.55357053, 0.55357053,\n",
       "         0.3364848 , 0.3364848 , 0.17229361, 0.17229361, 0.11859449,\n",
       "         0.11859449, 0.07003563, 0.07003563, 0.54859858, 0.54859858,\n",
       "         0.23514778, 0.23514778, 0.22184135, 0.22184135, 0.77224314,\n",
       "         0.77224314, 0.79179475, 0.79179475, 0.24260001, 0.24260001,\n",
       "         0.23505699, 0.23505699, 0.74406532, 0.74406532, 0.99066326,\n",
       "         0.99066326, 0.66059513, 0.66059513, 0.71023868, 0.71023868,\n",
       "         0.75436537, 0.75436537, 0.52438255, 0.52438255, 0.62221193,\n",
       "         0.62221193, 0.22151591, 0.22151591, 0.08024105, 0.08024105,\n",
       "         0.08480135, 0.08480135, 0.35944562, 0.35944562, 0.71592951,\n",
       "         0.71592951, 0.16954689, 0.16954689, 0.04300997, 0.04300997,\n",
       "         0.93543597, 0.93543597, 0.98911291, 0.98911291, 0.51981776,\n",
       "         0.51981776, 0.88475201, 0.88475201, 0.04891958, 0.04891958,\n",
       "         0.70827398, 0.70827398, 0.36728433, 0.36728433, 0.61105531,\n",
       "         0.61105531, 0.90560766, 0.90560766, 0.70414236, 0.70414236,\n",
       "         0.95800428, 0.95800428, 0.82380047, 0.82380047, 0.73300738,\n",
       "         0.73300738, 0.60297119, 0.60297119, 0.24322055, 0.24322055,\n",
       "         0.12862641, 0.12862641, 0.53610242, 0.53610242, 0.10440241,\n",
       "         0.10440241, 0.55532192, 0.55532192, 0.3856582 , 0.3856582 ,\n",
       "         0.42390668, 0.42390668, 0.58240703, 0.58240703, 0.92893666,\n",
       "         0.92893666, 0.46418503, 0.46418503, 0.94032739, 0.94032739,\n",
       "         0.83168291, 0.83168291, 0.1864951 , 0.1864951 , 0.47176388,\n",
       "         0.47176388, 0.83935972, 0.83935972, 0.45862034, 0.45862034,\n",
       "         0.42083885, 0.42083885, 0.82864656, 0.82864656, 0.27788733,\n",
       "         0.27788733, 0.22571405, 0.22571405, 0.413449  , 0.413449  ,\n",
       "         0.46413737, 0.46413737, 0.64275816, 0.64275816, 0.97023011,\n",
       "         0.97023011, 0.14123626, 0.14123626, 0.50312903, 0.50312903,\n",
       "         0.15090838, 0.15090838, 0.45419499, 0.45419499, 0.56334902,\n",
       "         0.56334902, 0.04115521, 0.04115521, 0.44963397, 0.44963397])}}"
      ]
     },
     "execution_count": 11,
     "metadata": {},
     "output_type": "execute_result"
    }
   ],
   "source": [
    "ds = load_by_id(run_id_n)\n",
    "ds.get_parameter_data('x1')"
   ]
  },
  {
   "cell_type": "markdown",
   "metadata": {},
   "source": [
    "And a dataset stored as binary arrays"
   ]
  },
  {
   "cell_type": "code",
   "execution_count": 12,
   "metadata": {
    "scrolled": true
   },
   "outputs": [
    {
     "data": {
      "text/plain": [
       "{'x1': {'x1': array([[0.09269703],\n",
       "         [0.09269703],\n",
       "         [0.27943599],\n",
       "         [0.27943599],\n",
       "         [0.41072993],\n",
       "         [0.41072993],\n",
       "         [0.03937633],\n",
       "         [0.03937633],\n",
       "         [0.13434072],\n",
       "         [0.13434072],\n",
       "         [0.09231016],\n",
       "         [0.09231016],\n",
       "         [0.68637345],\n",
       "         [0.68637345],\n",
       "         [0.83239792],\n",
       "         [0.83239792],\n",
       "         [0.10891189],\n",
       "         [0.10891189],\n",
       "         [0.50609223],\n",
       "         [0.50609223],\n",
       "         [0.23842783],\n",
       "         [0.23842783],\n",
       "         [0.32402297],\n",
       "         [0.32402297],\n",
       "         [0.633229  ],\n",
       "         [0.633229  ],\n",
       "         [0.80775555],\n",
       "         [0.80775555],\n",
       "         [0.46267224],\n",
       "         [0.46267224],\n",
       "         [0.32240814],\n",
       "         [0.32240814],\n",
       "         [0.99192998],\n",
       "         [0.99192998],\n",
       "         [0.35355958],\n",
       "         [0.35355958],\n",
       "         [0.54148198],\n",
       "         [0.54148198],\n",
       "         [0.76069949],\n",
       "         [0.76069949],\n",
       "         [0.22916656],\n",
       "         [0.22916656],\n",
       "         [0.29939804],\n",
       "         [0.29939804],\n",
       "         [0.78776093],\n",
       "         [0.78776093],\n",
       "         [0.26824812],\n",
       "         [0.26824812],\n",
       "         [0.7005443 ],\n",
       "         [0.7005443 ],\n",
       "         [0.85580161],\n",
       "         [0.85580161],\n",
       "         [0.82831309],\n",
       "         [0.82831309],\n",
       "         [0.15294169],\n",
       "         [0.15294169],\n",
       "         [0.34234233],\n",
       "         [0.34234233],\n",
       "         [0.79436621],\n",
       "         [0.79436621],\n",
       "         [0.24585836],\n",
       "         [0.24585836],\n",
       "         [0.7375984 ],\n",
       "         [0.7375984 ],\n",
       "         [0.08337006],\n",
       "         [0.08337006],\n",
       "         [0.79622827],\n",
       "         [0.79622827],\n",
       "         [0.0480293 ],\n",
       "         [0.0480293 ],\n",
       "         [0.29018053],\n",
       "         [0.29018053],\n",
       "         [0.04782603],\n",
       "         [0.04782603],\n",
       "         [0.61079583],\n",
       "         [0.61079583],\n",
       "         [0.11935171],\n",
       "         [0.11935171],\n",
       "         [0.53466519],\n",
       "         [0.53466519],\n",
       "         [0.77197776],\n",
       "         [0.77197776],\n",
       "         [0.3371188 ],\n",
       "         [0.3371188 ],\n",
       "         [0.29038022],\n",
       "         [0.29038022],\n",
       "         [0.28769336],\n",
       "         [0.28769336],\n",
       "         [0.45411765],\n",
       "         [0.45411765],\n",
       "         [0.72532149],\n",
       "         [0.72532149],\n",
       "         [0.06710551],\n",
       "         [0.06710551],\n",
       "         [0.85008333],\n",
       "         [0.85008333],\n",
       "         [0.59026218],\n",
       "         [0.59026218],\n",
       "         [0.83163513],\n",
       "         [0.83163513],\n",
       "         [0.64118311],\n",
       "         [0.64118311],\n",
       "         [0.67690771],\n",
       "         [0.67690771],\n",
       "         [0.08627663],\n",
       "         [0.08627663],\n",
       "         [0.4651541 ],\n",
       "         [0.4651541 ],\n",
       "         [0.85550979],\n",
       "         [0.85550979],\n",
       "         [0.19321522],\n",
       "         [0.19321522],\n",
       "         [0.85340664],\n",
       "         [0.85340664],\n",
       "         [0.04498653],\n",
       "         [0.04498653],\n",
       "         [0.45114083],\n",
       "         [0.45114083],\n",
       "         [0.69867857],\n",
       "         [0.69867857],\n",
       "         [0.24071288],\n",
       "         [0.24071288],\n",
       "         [0.65537505],\n",
       "         [0.65537505],\n",
       "         [0.17787915],\n",
       "         [0.17787915],\n",
       "         [0.93596277],\n",
       "         [0.93596277],\n",
       "         [0.22462589],\n",
       "         [0.22462589],\n",
       "         [0.85353671],\n",
       "         [0.85353671],\n",
       "         [0.77351514],\n",
       "         [0.77351514],\n",
       "         [0.30123411],\n",
       "         [0.30123411],\n",
       "         [0.57013166],\n",
       "         [0.57013166],\n",
       "         [0.56795816],\n",
       "         [0.56795816],\n",
       "         [0.32077214],\n",
       "         [0.32077214],\n",
       "         [0.02892604],\n",
       "         [0.02892604],\n",
       "         [0.96063673],\n",
       "         [0.96063673],\n",
       "         [0.58852509],\n",
       "         [0.58852509],\n",
       "         [0.48530428],\n",
       "         [0.48530428],\n",
       "         [0.02788704],\n",
       "         [0.02788704],\n",
       "         [0.77589796],\n",
       "         [0.77589796],\n",
       "         [0.45931645],\n",
       "         [0.45931645],\n",
       "         [0.67243298],\n",
       "         [0.67243298],\n",
       "         [0.93605395],\n",
       "         [0.93605395],\n",
       "         [0.2756074 ],\n",
       "         [0.2756074 ],\n",
       "         [0.00880134],\n",
       "         [0.00880134],\n",
       "         [0.67750958],\n",
       "         [0.67750958],\n",
       "         [0.88520893],\n",
       "         [0.88520893],\n",
       "         [0.6328093 ],\n",
       "         [0.6328093 ],\n",
       "         [0.32149124],\n",
       "         [0.32149124],\n",
       "         [0.71349715],\n",
       "         [0.71349715],\n",
       "         [0.48397632],\n",
       "         [0.48397632],\n",
       "         [0.73727422],\n",
       "         [0.73727422],\n",
       "         [0.46965724],\n",
       "         [0.46965724],\n",
       "         [0.76757731],\n",
       "         [0.76757731],\n",
       "         [0.82176079],\n",
       "         [0.82176079],\n",
       "         [0.01167279],\n",
       "         [0.01167279],\n",
       "         [0.63187382],\n",
       "         [0.63187382],\n",
       "         [0.80501003],\n",
       "         [0.80501003],\n",
       "         [0.05874175],\n",
       "         [0.05874175],\n",
       "         [0.3768704 ],\n",
       "         [0.3768704 ],\n",
       "         [0.03536349],\n",
       "         [0.03536349],\n",
       "         [0.85133759],\n",
       "         [0.85133759],\n",
       "         [0.32471992],\n",
       "         [0.32471992]])}}"
      ]
     },
     "execution_count": 12,
     "metadata": {},
     "output_type": "execute_result"
    }
   ],
   "source": [
    "ds = load_by_id(run_id_a)\n",
    "ds.get_parameter_data('x1')"
   ]
  },
  {
   "cell_type": "code",
   "execution_count": null,
   "metadata": {},
   "outputs": [],
   "source": []
  }
 ],
 "metadata": {
  "kernelspec": {
   "display_name": "Python 3",
   "language": "python",
   "name": "python3"
  },
  "language_info": {
   "codemirror_mode": {
    "name": "ipython",
    "version": 3
   },
   "file_extension": ".py",
   "mimetype": "text/x-python",
   "name": "python",
   "nbconvert_exporter": "python",
   "pygments_lexer": "ipython3",
   "version": "3.7.7"
  },
  "nbsphinx": {
   "timeout": 600
  },
  "toc": {
   "base_numbering": 1,
   "nav_menu": {},
   "number_sections": true,
   "sideBar": true,
   "skip_h1_title": false,
   "title_cell": "Table of Contents",
   "title_sidebar": "Contents",
   "toc_cell": false,
   "toc_position": {},
   "toc_section_display": true,
   "toc_window_display": false
  },
  "varInspector": {
   "cols": {
    "lenName": 16,
    "lenType": 16,
    "lenVar": 40
   },
   "kernels_config": {
    "python": {
     "delete_cmd_postfix": "",
     "delete_cmd_prefix": "del ",
     "library": "var_list.py",
     "varRefreshCmd": "print(var_dic_list())"
    },
    "r": {
     "delete_cmd_postfix": ") ",
     "delete_cmd_prefix": "rm(",
     "library": "var_list.r",
     "varRefreshCmd": "cat(var_dic_list()) "
    }
   },
   "types_to_exclude": [
    "module",
    "function",
    "builtin_function_or_method",
    "instance",
    "_Feature"
   ],
   "window_display": false
  }
 },
 "nbformat": 4,
 "nbformat_minor": 2
}
