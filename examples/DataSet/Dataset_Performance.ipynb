{
 "cells": [
  {
   "cell_type": "markdown",
   "metadata": {},
   "source": [
    "# DataSet Performance\n",
    "\n",
    "This notebook shows the trade-off between inserting data into a database row-by-row and as binary blobs. Inserting the data row-by-row means that we have direct access to all the data and may perform queries directly on the values of the data. On the other hand, as we shall see, this is much slower than inserting the data directly as binary blobs."
   ]
  },
  {
   "cell_type": "markdown",
   "metadata": {},
   "source": [
    "First, we choose a new location for the database to ensure that we don't add a bunch of benchmarking data to the default one."
   ]
  },
  {
   "cell_type": "code",
   "execution_count": 1,
   "metadata": {},
   "outputs": [
    {
     "name": "stdout",
     "output_type": "stream",
     "text": [
      "Logging hadn't been started.\n",
      "Activating auto-logging. Current session state plus future input saved.\n",
      "Filename       : /home/vsts/.qcodes/logs/command_history.log\n",
      "Mode           : append\n",
      "Output logging : True\n",
      "Raw input log  : False\n",
      "Timestamping   : True\n",
      "State          : active\n"
     ]
    },
    {
     "name": "stdout",
     "output_type": "stream",
     "text": [
      "Qcodes Logfile : /home/vsts/.qcodes/logs/200316-18744-qcodes.log\n"
     ]
    }
   ],
   "source": [
    "import os\n",
    "cwd = os.getcwd()\n",
    "import qcodes as qc\n",
    "qc.config[\"core\"][\"db_location\"] = os.path.join(cwd, 'testing.db')\n"
   ]
  },
  {
   "cell_type": "code",
   "execution_count": 2,
   "metadata": {},
   "outputs": [],
   "source": [
    "%matplotlib inline\n",
    "import time\n",
    "import matplotlib.pyplot as plt\n",
    "import numpy as np\n",
    "\n",
    "import qcodes as qc\n",
    "from qcodes.instrument.parameter import ManualParameter\n",
    "from qcodes.dataset.experiment_container import (Experiment,\n",
    "                                                 load_last_experiment,\n",
    "                                                 new_experiment)\n",
    "from qcodes.dataset.sqlite.database import initialise_database\n",
    "from qcodes import load_or_create_experiment\n",
    "from qcodes.dataset.measurements import Measurement"
   ]
  },
  {
   "cell_type": "code",
   "execution_count": 3,
   "metadata": {},
   "outputs": [
    {
     "name": "stdout",
     "output_type": "stream",
     "text": [
      "\r",
      "0it [00:00, ?it/s]"
     ]
    },
    {
     "name": "stdout",
     "output_type": "stream",
     "text": [
      "\r",
      "Upgrading database; v0 -> v1: : 0it [00:00, ?it/s]"
     ]
    },
    {
     "name": "stdout",
     "output_type": "stream",
     "text": [
      "\r",
      "Upgrading database; v0 -> v1: : 0it [00:00, ?it/s]"
     ]
    },
    {
     "name": "stdout",
     "output_type": "stream",
     "text": [
      "\n",
      "\r",
      "  0%|          | 0/1 [00:00<?, ?it/s]"
     ]
    },
    {
     "name": "stdout",
     "output_type": "stream",
     "text": [
      "\r",
      "Upgrading database; v1 -> v2:   0%|          | 0/1 [00:00<?, ?it/s]"
     ]
    },
    {
     "name": "stdout",
     "output_type": "stream",
     "text": [
      "\r",
      "Upgrading database; v1 -> v2: 100%|██████████| 1/1 [00:00<00:00, 632.15it/s]"
     ]
    },
    {
     "name": "stdout",
     "output_type": "stream",
     "text": [
      "\n",
      "\r",
      "0it [00:00, ?it/s]"
     ]
    },
    {
     "name": "stdout",
     "output_type": "stream",
     "text": [
      "\r",
      "Upgrading database; v2 -> v3: : 0it [00:00, ?it/s]"
     ]
    },
    {
     "name": "stdout",
     "output_type": "stream",
     "text": [
      "\r",
      "Upgrading database; v2 -> v3: : 0it [00:00, ?it/s]"
     ]
    },
    {
     "name": "stdout",
     "output_type": "stream",
     "text": [
      "\n",
      "\r",
      "0it [00:00, ?it/s]"
     ]
    },
    {
     "name": "stdout",
     "output_type": "stream",
     "text": [
      "\r",
      "Upgrading database; v3 -> v4: : 0it [00:00, ?it/s]"
     ]
    },
    {
     "name": "stdout",
     "output_type": "stream",
     "text": [
      "\r",
      "Upgrading database; v3 -> v4: : 0it [00:00, ?it/s]"
     ]
    },
    {
     "name": "stdout",
     "output_type": "stream",
     "text": [
      "\n",
      "\r",
      "  0%|          | 0/1 [00:00<?, ?it/s]"
     ]
    },
    {
     "name": "stdout",
     "output_type": "stream",
     "text": [
      "\r",
      "Upgrading database; v4 -> v5:   0%|          | 0/1 [00:00<?, ?it/s]"
     ]
    },
    {
     "name": "stdout",
     "output_type": "stream",
     "text": [
      "\r",
      "Upgrading database; v4 -> v5: 100%|██████████| 1/1 [00:00<00:00, 813.16it/s]"
     ]
    },
    {
     "name": "stdout",
     "output_type": "stream",
     "text": [
      "\n",
      "\r",
      "0it [00:00, ?it/s]"
     ]
    },
    {
     "name": "stdout",
     "output_type": "stream",
     "text": [
      "\r",
      "Upgrading database; v5 -> v6: : 0it [00:00, ?it/s]"
     ]
    },
    {
     "name": "stdout",
     "output_type": "stream",
     "text": [
      "\r",
      "Upgrading database; v5 -> v6: : 0it [00:00, ?it/s]"
     ]
    },
    {
     "name": "stdout",
     "output_type": "stream",
     "text": [
      "\n",
      "\r",
      "  0%|          | 0/1 [00:00<?, ?it/s]"
     ]
    },
    {
     "name": "stdout",
     "output_type": "stream",
     "text": [
      "\r",
      "Upgrading database; v6 -> v7:   0%|          | 0/1 [00:00<?, ?it/s]"
     ]
    },
    {
     "name": "stdout",
     "output_type": "stream",
     "text": [
      "\r",
      "Upgrading database; v6 -> v7: 100%|██████████| 1/1 [00:00<00:00, 377.12it/s]"
     ]
    },
    {
     "name": "stdout",
     "output_type": "stream",
     "text": [
      "\n",
      "\r",
      "  0%|          | 0/1 [00:00<?, ?it/s]"
     ]
    },
    {
     "name": "stdout",
     "output_type": "stream",
     "text": [
      "\r",
      "Upgrading database; v7 -> v8:   0%|          | 0/1 [00:00<?, ?it/s]"
     ]
    },
    {
     "name": "stdout",
     "output_type": "stream",
     "text": [
      "\r",
      "Upgrading database; v7 -> v8: 100%|██████████| 1/1 [00:00<00:00, 735.97it/s]"
     ]
    },
    {
     "name": "stdout",
     "output_type": "stream",
     "text": [
      "\n",
      "\r",
      "  0%|          | 0/1 [00:00<?, ?it/s]"
     ]
    },
    {
     "name": "stdout",
     "output_type": "stream",
     "text": [
      "\r",
      "Upgrading database; v8 -> v9:   0%|          | 0/1 [00:00<?, ?it/s]"
     ]
    },
    {
     "name": "stdout",
     "output_type": "stream",
     "text": [
      "\r",
      "Upgrading database; v8 -> v9: 100%|██████████| 1/1 [00:00<00:00, 924.47it/s]"
     ]
    },
    {
     "name": "stdout",
     "output_type": "stream",
     "text": [
      "\n"
     ]
    }
   ],
   "source": [
    "initialise_database()\n",
    "exp = load_or_create_experiment(experiment_name='tutorial_exp', sample_name=\"no sample\")"
   ]
  },
  {
   "cell_type": "markdown",
   "metadata": {},
   "source": [
    "Here, we define a simple function to benchmark the time it takes to insert n points with either numeric or array data type.\n",
    "We will compare both the time used to call ``add_result`` and the time used for the full measurement."
   ]
  },
  {
   "cell_type": "code",
   "execution_count": 4,
   "metadata": {},
   "outputs": [],
   "source": [
    "def insert_data(paramtype, npoints, nreps=1):\n",
    "\n",
    "    meas = Measurement(exp=exp)\n",
    "\n",
    "    x1 = ManualParameter('x1')\n",
    "    x2 = ManualParameter('x2')\n",
    "    x3 = ManualParameter('x3')\n",
    "    y1 = ManualParameter('y1')\n",
    "    y2 = ManualParameter('y2')\n",
    "\n",
    "    meas.register_parameter(x1, paramtype=paramtype)\n",
    "    meas.register_parameter(x2, paramtype=paramtype)\n",
    "    meas.register_parameter(x3, paramtype=paramtype)\n",
    "    meas.register_parameter(y1, setpoints=[x1, x2, x3],\n",
    "                            paramtype=paramtype)\n",
    "    meas.register_parameter(y2, setpoints=[x1, x2, x3],\n",
    "                            paramtype=paramtype)\n",
    "    start = time.perf_counter()\n",
    "    with meas.run() as datasaver:\n",
    "        start_adding = time.perf_counter()\n",
    "        for i in range(nreps):\n",
    "            datasaver.add_result((x1, np.random.rand(npoints)),\n",
    "                                 (x2, np.random.rand(npoints)),\n",
    "                                 (x3, np.random.rand(npoints)),\n",
    "                                 (y1, np.random.rand(npoints)),\n",
    "                                 (y2, np.random.rand(npoints)))\n",
    "        stop_adding = time.perf_counter()\n",
    "        run_id = datasaver.run_id\n",
    "    stop = time.perf_counter()\n",
    "    tot_time = stop - start\n",
    "    add_time = stop_adding - start_adding\n",
    "    return tot_time, add_time, run_id"
   ]
  },
  {
   "cell_type": "markdown",
   "metadata": {},
   "source": [
    "## Comparison between numeric/array data and binary blob"
   ]
  },
  {
   "cell_type": "markdown",
   "metadata": {},
   "source": [
    "### Case1: Short experiment time"
   ]
  },
  {
   "cell_type": "code",
   "execution_count": 5,
   "metadata": {},
   "outputs": [
    {
     "name": "stdout",
     "output_type": "stream",
     "text": [
      "Starting experimental run with id: 1. \n",
      "Starting experimental run with id: 2. \n",
      "Starting experimental run with id: 3. \n"
     ]
    },
    {
     "name": "stdout",
     "output_type": "stream",
     "text": [
      "Starting experimental run with id: 4. \n"
     ]
    },
    {
     "name": "stdout",
     "output_type": "stream",
     "text": [
      "Starting experimental run with id: 5. \n",
      "Starting experimental run with id: 6. \n"
     ]
    },
    {
     "name": "stdout",
     "output_type": "stream",
     "text": [
      "Starting experimental run with id: 7. \n"
     ]
    },
    {
     "name": "stdout",
     "output_type": "stream",
     "text": [
      "Starting experimental run with id: 8. \n"
     ]
    },
    {
     "name": "stdout",
     "output_type": "stream",
     "text": [
      "Starting experimental run with id: 9. \n"
     ]
    },
    {
     "name": "stdout",
     "output_type": "stream",
     "text": [
      "Starting experimental run with id: 10. \n",
      "Starting experimental run with id: 11. \n"
     ]
    },
    {
     "name": "stdout",
     "output_type": "stream",
     "text": [
      "Starting experimental run with id: 12. \n"
     ]
    },
    {
     "name": "stdout",
     "output_type": "stream",
     "text": [
      "Starting experimental run with id: 13. \n"
     ]
    },
    {
     "name": "stdout",
     "output_type": "stream",
     "text": [
      "Starting experimental run with id: 14. \n"
     ]
    }
   ],
   "source": [
    "sizes = [1,500,1000,2000,3000,4000,5000]\n",
    "t_numeric = []\n",
    "t_numeric_add = []\n",
    "t_array = []\n",
    "t_array_add = []\n",
    "for size in sizes:\n",
    "    tn, tna, run_id_n =  insert_data('numeric', size)\n",
    "    t_numeric.append(tn)\n",
    "    t_numeric_add.append(tna)\n",
    "\n",
    "    ta, taa, run_id_a =  insert_data('array', size)\n",
    "    t_array.append(ta)\n",
    "    t_array_add.append(taa)"
   ]
  },
  {
   "cell_type": "code",
   "execution_count": 6,
   "metadata": {},
   "outputs": [
    {
     "data": {
      "image/png": "[encoded data removed]",
      "text/plain": [
       "<Figure size 432x288 with 1 Axes>"
      ]
     },
     "metadata": {
      "needs_background": "light"
     },
     "output_type": "display_data"
    }
   ],
   "source": [
    "fig, ax = plt.subplots(1,1)\n",
    "ax.plot(sizes, t_numeric, 'o-', label='Inserting row-by-row')\n",
    "ax.plot(sizes, t_numeric_add, 'o-', label='Inserting row-by-row: add_result only')\n",
    "ax.plot(sizes, t_array, 'd-', label='Inserting as binary blob')\n",
    "ax.plot(sizes, t_array_add, 'd-', label='Inserting as binary blob: add_result only')\n",
    "ax.legend()\n",
    "ax.set_xlabel('Array length')\n",
    "ax.set_ylabel('Time (s)')\n",
    "fig.tight_layout()"
   ]
  },
  {
   "cell_type": "markdown",
   "metadata": {},
   "source": [
    "As shown in the latter figure, the time to setup and and close the experiment is approximately 0.4 sec. In case of small array sizes, the difference between inserting values of data as arrays and inserting them row-by-row is relatively unimportant. At larger array sizes, i.e. above 10000 points, the cost of writing data as individual datapoints starts to become important.\n"
   ]
  },
  {
   "cell_type": "markdown",
   "metadata": {},
   "source": [
    "### Case2: Long experiment time "
   ]
  },
  {
   "cell_type": "code",
   "execution_count": 7,
   "metadata": {},
   "outputs": [
    {
     "name": "stdout",
     "output_type": "stream",
     "text": [
      "Starting experimental run with id: 15. \n",
      "Starting experimental run with id: 16. \n",
      "Starting experimental run with id: 17. \n"
     ]
    },
    {
     "name": "stdout",
     "output_type": "stream",
     "text": [
      "Starting experimental run with id: 18. \n",
      "Starting experimental run with id: 19. \n"
     ]
    },
    {
     "name": "stdout",
     "output_type": "stream",
     "text": [
      "Starting experimental run with id: 20. \n"
     ]
    },
    {
     "name": "stdout",
     "output_type": "stream",
     "text": [
      "Starting experimental run with id: 21. \n"
     ]
    },
    {
     "name": "stdout",
     "output_type": "stream",
     "text": [
      "Starting experimental run with id: 22. \n"
     ]
    },
    {
     "name": "stdout",
     "output_type": "stream",
     "text": [
      "Starting experimental run with id: 23. \n"
     ]
    },
    {
     "name": "stdout",
     "output_type": "stream",
     "text": [
      "Starting experimental run with id: 24. \n"
     ]
    },
    {
     "name": "stdout",
     "output_type": "stream",
     "text": [
      "Starting experimental run with id: 25. \n"
     ]
    },
    {
     "name": "stdout",
     "output_type": "stream",
     "text": [
      "Starting experimental run with id: 26. \n"
     ]
    },
    {
     "name": "stdout",
     "output_type": "stream",
     "text": [
      "Starting experimental run with id: 27. \n"
     ]
    },
    {
     "name": "stdout",
     "output_type": "stream",
     "text": [
      "Starting experimental run with id: 28. \n"
     ]
    }
   ],
   "source": [
    "sizes = [1,500,1000,2000,3000,4000,5000]\n",
    "nreps = 100\n",
    "t_numeric = []\n",
    "t_numeric_add = []\n",
    "t_numeric_run_ids = []\n",
    "t_array = []\n",
    "t_array_add = []\n",
    "t_array_run_ids = []\n",
    "for size in sizes:\n",
    "    tn, tna, run_id_n =  insert_data('numeric', size, nreps=nreps)\n",
    "    t_numeric.append(tn)\n",
    "    t_numeric_add.append(tna)\n",
    "    t_numeric_run_ids.append(run_id_n)\n",
    "\n",
    "    ta, taa, run_id_a =  insert_data('array', size, nreps=nreps)\n",
    "    t_array.append(ta)\n",
    "    t_array_add.append(taa)\n",
    "    t_array_run_ids.append(run_id_a)"
   ]
  },
  {
   "cell_type": "code",
   "execution_count": 8,
   "metadata": {
    "scrolled": true
   },
   "outputs": [
    {
     "data": {
      "image/png": "[encoded data removed]",
      "text/plain": [
       "<Figure size 432x288 with 1 Axes>"
      ]
     },
     "metadata": {
      "needs_background": "light"
     },
     "output_type": "display_data"
    }
   ],
   "source": [
    "fig, ax = plt.subplots(1,1)\n",
    "ax.plot(sizes, t_numeric, 'o-', label='Inserting row-by-row')\n",
    "ax.plot(sizes, t_numeric_add, 'o-', label='Inserting row-by-row: add_result only')\n",
    "ax.plot(sizes, t_array, 'd-', label='Inserting as binary blob')\n",
    "ax.plot(sizes, t_array_add, 'd-', label='Inserting as binary blob: add_result only')\n",
    "ax.legend()\n",
    "ax.set_xlabel('Array length')\n",
    "ax.set_ylabel('Time (s)')\n",
    "fig.tight_layout()"
   ]
  },
  {
   "cell_type": "markdown",
   "metadata": {},
   "source": [
    "However, as we increase the length of the experiment, as seen here by repeating the insertion 100 times, we see a big difference between inserting values of the data row-by-row and inserting it as a binary blob."
   ]
  },
  {
   "cell_type": "markdown",
   "metadata": {},
   "source": [
    "## Loading the data "
   ]
  },
  {
   "cell_type": "code",
   "execution_count": 9,
   "metadata": {},
   "outputs": [],
   "source": [
    "from qcodes.dataset.data_set import load_by_id\n",
    "from qcodes.dataset.data_export import get_data_by_id"
   ]
  },
  {
   "cell_type": "markdown",
   "metadata": {},
   "source": [
    "As usual you can load the data by using the ``load_by_id`` function but you will notice that the different storage methods\n",
    "are reflected in shape of the data as it is retrieved. "
   ]
  },
  {
   "cell_type": "code",
   "execution_count": 10,
   "metadata": {},
   "outputs": [],
   "source": [
    "run_id_n = t_numeric_run_ids[0]\n",
    "run_id_a = t_array_run_ids[0]"
   ]
  },
  {
   "cell_type": "code",
   "execution_count": 11,
   "metadata": {
    "scrolled": true
   },
   "outputs": [
    {
     "data": {
      "text/plain": [
       "{'x1': {'x1': array([6.01675087e-01, 6.01675087e-01, 9.57432956e-01, 9.57432956e-01,\n",
       "         4.99813310e-01, 4.99813310e-01, 1.87487986e-01, 1.87487986e-01,\n",
       "         1.25211434e-01, 1.25211434e-01, 9.60573813e-01, 9.60573813e-01,\n",
       "         3.70654788e-02, 3.70654788e-02, 3.12627098e-01, 3.12627098e-01,\n",
       "         9.92728601e-01, 9.92728601e-01, 5.57586851e-01, 5.57586851e-01,\n",
       "         8.39438374e-01, 8.39438374e-01, 8.33395273e-01, 8.33395273e-01,\n",
       "         8.77990776e-01, 8.77990776e-01, 1.16219198e-01, 1.16219198e-01,\n",
       "         4.96054168e-01, 4.96054168e-01, 4.70124346e-01, 4.70124346e-01,\n",
       "         7.29930613e-01, 7.29930613e-01, 5.85798780e-01, 5.85798780e-01,\n",
       "         8.65308393e-01, 8.65308393e-01, 5.35165049e-01, 5.35165049e-01,\n",
       "         9.65260580e-01, 9.65260580e-01, 9.46228142e-02, 9.46228142e-02,\n",
       "         9.52339373e-03, 9.52339373e-03, 9.64295550e-01, 9.64295550e-01,\n",
       "         1.82803848e-01, 1.82803848e-01, 4.67002745e-01, 4.67002745e-01,\n",
       "         7.74318150e-02, 7.74318150e-02, 4.97827066e-01, 4.97827066e-01,\n",
       "         2.26894005e-01, 2.26894005e-01, 9.19805832e-01, 9.19805832e-01,\n",
       "         2.23671362e-01, 2.23671362e-01, 4.76773182e-02, 4.76773182e-02,\n",
       "         8.72598647e-01, 8.72598647e-01, 2.46631036e-01, 2.46631036e-01,\n",
       "         5.94583208e-01, 5.94583208e-01, 9.80233950e-01, 9.80233950e-01,\n",
       "         4.73468422e-04, 4.73468422e-04, 5.14347870e-01, 5.14347870e-01,\n",
       "         9.49719119e-01, 9.49719119e-01, 1.15792798e-01, 1.15792798e-01,\n",
       "         1.82898314e-01, 1.82898314e-01, 1.69121067e-01, 1.69121067e-01,\n",
       "         7.14912091e-01, 7.14912091e-01, 5.26664915e-02, 5.26664915e-02,\n",
       "         6.57025138e-02, 6.57025138e-02, 8.71575645e-01, 8.71575645e-01,\n",
       "         3.73230136e-01, 3.73230136e-01, 2.31468202e-01, 2.31468202e-01,\n",
       "         3.55278425e-01, 3.55278425e-01, 7.99813852e-01, 7.99813852e-01,\n",
       "         4.00951270e-01, 4.00951270e-01, 3.16336980e-01, 3.16336980e-01,\n",
       "         7.70744839e-01, 7.70744839e-01, 1.76465068e-01, 1.76465068e-01,\n",
       "         5.50317278e-01, 5.50317278e-01, 3.80868977e-01, 3.80868977e-01,\n",
       "         2.02631529e-01, 2.02631529e-01, 1.87093584e-01, 1.87093584e-01,\n",
       "         7.48153498e-01, 7.48153498e-01, 6.03835145e-02, 6.03835145e-02,\n",
       "         7.79027084e-01, 7.79027084e-01, 5.01991120e-01, 5.01991120e-01,\n",
       "         1.25189899e-01, 1.25189899e-01, 6.40295365e-01, 6.40295365e-01,\n",
       "         8.25173953e-01, 8.25173953e-01, 3.33921322e-01, 3.33921322e-01,\n",
       "         5.53824872e-01, 5.53824872e-01, 9.42118454e-02, 9.42118454e-02,\n",
       "         1.09390771e-01, 1.09390771e-01, 4.12302735e-01, 4.12302735e-01,\n",
       "         4.86429814e-01, 4.86429814e-01, 7.44184377e-01, 7.44184377e-01,\n",
       "         6.26744660e-01, 6.26744660e-01, 3.40776279e-02, 3.40776279e-02,\n",
       "         1.58712869e-01, 1.58712869e-01, 5.43372787e-01, 5.43372787e-01,\n",
       "         7.26254005e-01, 7.26254005e-01, 7.23488873e-01, 7.23488873e-01,\n",
       "         7.06680204e-01, 7.06680204e-01, 4.10317638e-01, 4.10317638e-01,\n",
       "         7.32202723e-01, 7.32202723e-01, 5.60657527e-01, 5.60657527e-01,\n",
       "         7.11027022e-01, 7.11027022e-01, 6.54249990e-01, 6.54249990e-01,\n",
       "         6.13885689e-01, 6.13885689e-01, 2.64635156e-01, 2.64635156e-01,\n",
       "         2.39121217e-01, 2.39121217e-01, 3.81846721e-01, 3.81846721e-01,\n",
       "         5.12776372e-01, 5.12776372e-01, 4.18740863e-01, 4.18740863e-01,\n",
       "         3.45217865e-01, 3.45217865e-01, 1.68003355e-01, 1.68003355e-01,\n",
       "         5.30454179e-01, 5.30454179e-01, 2.75547663e-01, 2.75547663e-01,\n",
       "         4.03634972e-02, 4.03634972e-02, 7.98163202e-01, 7.98163202e-01,\n",
       "         3.30401865e-01, 3.30401865e-01, 6.99422443e-01, 6.99422443e-01,\n",
       "         1.44812259e-01, 1.44812259e-01, 2.69118912e-01, 2.69118912e-01])}}"
      ]
     },
     "execution_count": 11,
     "metadata": {},
     "output_type": "execute_result"
    }
   ],
   "source": [
    "ds = load_by_id(run_id_n)\n",
    "ds.get_parameter_data('x1')"
   ]
  },
  {
   "cell_type": "markdown",
   "metadata": {},
   "source": [
    "And a dataset stored as binary arrays"
   ]
  },
  {
   "cell_type": "code",
   "execution_count": 12,
   "metadata": {
    "scrolled": true
   },
   "outputs": [
    {
     "data": {
      "text/plain": [
       "{'x1': {'x1': array([[0.11597797],\n",
       "         [0.11597797],\n",
       "         [0.5126059 ],\n",
       "         [0.5126059 ],\n",
       "         [0.38693942],\n",
       "         [0.38693942],\n",
       "         [0.52489311],\n",
       "         [0.52489311],\n",
       "         [0.29775105],\n",
       "         [0.29775105],\n",
       "         [0.61715003],\n",
       "         [0.61715003],\n",
       "         [0.58717629],\n",
       "         [0.58717629],\n",
       "         [0.83396299],\n",
       "         [0.83396299],\n",
       "         [0.67819227],\n",
       "         [0.67819227],\n",
       "         [0.80210774],\n",
       "         [0.80210774],\n",
       "         [0.03411373],\n",
       "         [0.03411373],\n",
       "         [0.97084575],\n",
       "         [0.97084575],\n",
       "         [0.33225597],\n",
       "         [0.33225597],\n",
       "         [0.10512603],\n",
       "         [0.10512603],\n",
       "         [0.15575921],\n",
       "         [0.15575921],\n",
       "         [0.56535352],\n",
       "         [0.56535352],\n",
       "         [0.26173288],\n",
       "         [0.26173288],\n",
       "         [0.56444089],\n",
       "         [0.56444089],\n",
       "         [0.28952896],\n",
       "         [0.28952896],\n",
       "         [0.06640669],\n",
       "         [0.06640669],\n",
       "         [0.38628799],\n",
       "         [0.38628799],\n",
       "         [0.926373  ],\n",
       "         [0.926373  ],\n",
       "         [0.22413362],\n",
       "         [0.22413362],\n",
       "         [0.19659211],\n",
       "         [0.19659211],\n",
       "         [0.55631712],\n",
       "         [0.55631712],\n",
       "         [0.27525349],\n",
       "         [0.27525349],\n",
       "         [0.26188619],\n",
       "         [0.26188619],\n",
       "         [0.94326763],\n",
       "         [0.94326763],\n",
       "         [0.53467184],\n",
       "         [0.53467184],\n",
       "         [0.31537783],\n",
       "         [0.31537783],\n",
       "         [0.91492972],\n",
       "         [0.91492972],\n",
       "         [0.01483764],\n",
       "         [0.01483764],\n",
       "         [0.19073499],\n",
       "         [0.19073499],\n",
       "         [0.60123874],\n",
       "         [0.60123874],\n",
       "         [0.3397153 ],\n",
       "         [0.3397153 ],\n",
       "         [0.73035194],\n",
       "         [0.73035194],\n",
       "         [0.71991199],\n",
       "         [0.71991199],\n",
       "         [0.03110363],\n",
       "         [0.03110363],\n",
       "         [0.40954713],\n",
       "         [0.40954713],\n",
       "         [0.10542322],\n",
       "         [0.10542322],\n",
       "         [0.38300125],\n",
       "         [0.38300125],\n",
       "         [0.08518116],\n",
       "         [0.08518116],\n",
       "         [0.19104787],\n",
       "         [0.19104787],\n",
       "         [0.929264  ],\n",
       "         [0.929264  ],\n",
       "         [0.97708307],\n",
       "         [0.97708307],\n",
       "         [0.77024271],\n",
       "         [0.77024271],\n",
       "         [0.99386717],\n",
       "         [0.99386717],\n",
       "         [0.10386809],\n",
       "         [0.10386809],\n",
       "         [0.441422  ],\n",
       "         [0.441422  ],\n",
       "         [0.8073181 ],\n",
       "         [0.8073181 ],\n",
       "         [0.37320158],\n",
       "         [0.37320158],\n",
       "         [0.46583635],\n",
       "         [0.46583635],\n",
       "         [0.54611067],\n",
       "         [0.54611067],\n",
       "         [0.82618358],\n",
       "         [0.82618358],\n",
       "         [0.27797822],\n",
       "         [0.27797822],\n",
       "         [0.40539037],\n",
       "         [0.40539037],\n",
       "         [0.34538135],\n",
       "         [0.34538135],\n",
       "         [0.27981114],\n",
       "         [0.27981114],\n",
       "         [0.46381555],\n",
       "         [0.46381555],\n",
       "         [0.56914174],\n",
       "         [0.56914174],\n",
       "         [0.78899111],\n",
       "         [0.78899111],\n",
       "         [0.19010685],\n",
       "         [0.19010685],\n",
       "         [0.37275648],\n",
       "         [0.37275648],\n",
       "         [0.14618805],\n",
       "         [0.14618805],\n",
       "         [0.54171218],\n",
       "         [0.54171218],\n",
       "         [0.39315498],\n",
       "         [0.39315498],\n",
       "         [0.49505929],\n",
       "         [0.49505929],\n",
       "         [0.18079179],\n",
       "         [0.18079179],\n",
       "         [0.35077676],\n",
       "         [0.35077676],\n",
       "         [0.51234305],\n",
       "         [0.51234305],\n",
       "         [0.16048524],\n",
       "         [0.16048524],\n",
       "         [0.37765413],\n",
       "         [0.37765413],\n",
       "         [0.50962163],\n",
       "         [0.50962163],\n",
       "         [0.61230226],\n",
       "         [0.61230226],\n",
       "         [0.17469987],\n",
       "         [0.17469987],\n",
       "         [0.75433146],\n",
       "         [0.75433146],\n",
       "         [0.3577116 ],\n",
       "         [0.3577116 ],\n",
       "         [0.04704358],\n",
       "         [0.04704358],\n",
       "         [0.99954307],\n",
       "         [0.99954307],\n",
       "         [0.8348203 ],\n",
       "         [0.8348203 ],\n",
       "         [0.48596707],\n",
       "         [0.48596707],\n",
       "         [0.78846766],\n",
       "         [0.78846766],\n",
       "         [0.83024992],\n",
       "         [0.83024992],\n",
       "         [0.60247217],\n",
       "         [0.60247217],\n",
       "         [0.12869793],\n",
       "         [0.12869793],\n",
       "         [0.63854596],\n",
       "         [0.63854596],\n",
       "         [0.93440775],\n",
       "         [0.93440775],\n",
       "         [0.55296934],\n",
       "         [0.55296934],\n",
       "         [0.20114743],\n",
       "         [0.20114743],\n",
       "         [0.35130069],\n",
       "         [0.35130069],\n",
       "         [0.18712699],\n",
       "         [0.18712699],\n",
       "         [0.5528983 ],\n",
       "         [0.5528983 ],\n",
       "         [0.98838412],\n",
       "         [0.98838412],\n",
       "         [0.37898699],\n",
       "         [0.37898699],\n",
       "         [0.91720514],\n",
       "         [0.91720514],\n",
       "         [0.14459718],\n",
       "         [0.14459718],\n",
       "         [0.03527821],\n",
       "         [0.03527821],\n",
       "         [0.74471766],\n",
       "         [0.74471766],\n",
       "         [0.32787179],\n",
       "         [0.32787179],\n",
       "         [0.45343339],\n",
       "         [0.45343339]])}}"
      ]
     },
     "execution_count": 12,
     "metadata": {},
     "output_type": "execute_result"
    }
   ],
   "source": [
    "ds = load_by_id(run_id_a)\n",
    "ds.get_parameter_data('x1')"
   ]
  },
  {
   "cell_type": "code",
   "execution_count": null,
   "metadata": {},
   "outputs": [],
   "source": []
  }
 ],
 "metadata": {
  "kernelspec": {
   "display_name": "Python 3",
   "language": "python",
   "name": "python3"
  },
  "language_info": {
   "codemirror_mode": {
    "name": "ipython",
    "version": 3
   },
   "file_extension": ".py",
   "mimetype": "text/x-python",
   "name": "python",
   "nbconvert_exporter": "python",
   "pygments_lexer": "ipython3",
   "version": "3.7.5"
  },
  "nbsphinx": {
   "timeout": 600
  },
  "toc": {
   "base_numbering": 1,
   "nav_menu": {},
   "number_sections": true,
   "sideBar": true,
   "skip_h1_title": false,
   "title_cell": "Table of Contents",
   "title_sidebar": "Contents",
   "toc_cell": false,
   "toc_position": {},
   "toc_section_display": true,
   "toc_window_display": false
  },
  "varInspector": {
   "cols": {
    "lenName": 16,
    "lenType": 16,
    "lenVar": 40
   },
   "kernels_config": {
    "python": {
     "delete_cmd_postfix": "",
     "delete_cmd_prefix": "del ",
     "library": "var_list.py",
     "varRefreshCmd": "print(var_dic_list())"
    },
    "r": {
     "delete_cmd_postfix": ") ",
     "delete_cmd_prefix": "rm(",
     "library": "var_list.r",
     "varRefreshCmd": "cat(var_dic_list()) "
    }
   },
   "types_to_exclude": [
    "module",
    "function",
    "builtin_function_or_method",
    "instance",
    "_Feature"
   ],
   "window_display": false
  }
 },
 "nbformat": 4,
 "nbformat_minor": 2
}
