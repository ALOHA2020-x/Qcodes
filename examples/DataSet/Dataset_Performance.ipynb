{
 "cells": [
  {
   "cell_type": "markdown",
   "metadata": {},
   "source": [
    "# DataSet Performance\n",
    "\n",
    "This notebook shows the trade-off between inserting data into a database row-by-row and as binary blobs. Inserting the data row-by-row means that we have direct access to all the data and may perform queries directly on the values of the data. On the other hand, as we shall see, this is much slower than inserting the data directly as binary blobs."
   ]
  },
  {
   "cell_type": "markdown",
   "metadata": {},
   "source": [
    "First, we choose a new location for the database to ensure that we don't add a bunch of benchmarking data to the default one."
   ]
  },
  {
   "cell_type": "code",
   "execution_count": 1,
   "metadata": {
    "execution": {
     "iopub.execute_input": "2020-09-22T10:34:46.837859Z",
     "iopub.status.busy": "2020-09-22T10:34:46.837252Z",
     "iopub.status.idle": "2020-09-22T10:34:47.969758Z",
     "shell.execute_reply": "2020-09-22T10:34:47.970280Z"
    }
   },
   "outputs": [
    {
     "name": "stdout",
     "output_type": "stream",
     "text": [
      "Logging hadn't been started.\n",
      "Activating auto-logging. Current session state plus future input saved.\n",
      "Filename       : /home/vsts/.qcodes/logs/command_history.log\n",
      "Mode           : append\n",
      "Output logging : True\n",
      "Raw input log  : False\n",
      "Timestamping   : True\n",
      "State          : active\n"
     ]
    },
    {
     "name": "stdout",
     "output_type": "stream",
     "text": [
      "Qcodes Logfile : /home/vsts/.qcodes/logs/200922-19095-qcodes.log\n"
     ]
    }
   ],
   "source": [
    "import os\n",
    "cwd = os.getcwd()\n",
    "import qcodes as qc\n",
    "qc.config[\"core\"][\"db_location\"] = os.path.join(cwd, 'testing.db')\n"
   ]
  },
  {
   "cell_type": "code",
   "execution_count": 2,
   "metadata": {
    "execution": {
     "iopub.execute_input": "2020-09-22T10:34:47.976856Z",
     "iopub.status.busy": "2020-09-22T10:34:47.976163Z",
     "iopub.status.idle": "2020-09-22T10:34:48.166779Z",
     "shell.execute_reply": "2020-09-22T10:34:48.166205Z"
    }
   },
   "outputs": [],
   "source": [
    "%matplotlib inline\n",
    "import time\n",
    "import matplotlib.pyplot as plt\n",
    "import numpy as np\n",
    "\n",
    "import qcodes as qc\n",
    "from qcodes.instrument.parameter import ManualParameter\n",
    "from qcodes.dataset.experiment_container import (Experiment,\n",
    "                                                 load_last_experiment,\n",
    "                                                 new_experiment)\n",
    "from qcodes.dataset.sqlite.database import initialise_database\n",
    "from qcodes import load_or_create_experiment\n",
    "from qcodes.dataset.measurements import Measurement"
   ]
  },
  {
   "cell_type": "code",
   "execution_count": 3,
   "metadata": {
    "execution": {
     "iopub.execute_input": "2020-09-22T10:34:48.170846Z",
     "iopub.status.busy": "2020-09-22T10:34:48.169960Z",
     "iopub.status.idle": "2020-09-22T10:34:48.275604Z",
     "shell.execute_reply": "2020-09-22T10:34:48.276054Z"
    }
   },
   "outputs": [
    {
     "name": "stdout",
     "output_type": "stream",
     "text": [
      "\r",
      "0it [00:00, ?it/s]"
     ]
    },
    {
     "name": "stdout",
     "output_type": "stream",
     "text": [
      "\r",
      "Upgrading database; v0 -> v1: : 0it [00:00, ?it/s]"
     ]
    },
    {
     "name": "stdout",
     "output_type": "stream",
     "text": [
      "\r",
      "Upgrading database; v0 -> v1: : 0it [00:00, ?it/s]"
     ]
    },
    {
     "name": "stdout",
     "output_type": "stream",
     "text": [
      "\n",
      "\r",
      "  0%|          | 0/1 [00:00<?, ?it/s]"
     ]
    },
    {
     "name": "stdout",
     "output_type": "stream",
     "text": [
      "\r",
      "Upgrading database; v1 -> v2:   0%|          | 0/1 [00:00<?, ?it/s]"
     ]
    },
    {
     "name": "stdout",
     "output_type": "stream",
     "text": [
      "\r",
      "Upgrading database; v1 -> v2: 100%|██████████| 1/1 [00:00<00:00, 344.87it/s]"
     ]
    },
    {
     "name": "stdout",
     "output_type": "stream",
     "text": [
      "\n",
      "\r",
      "0it [00:00, ?it/s]"
     ]
    },
    {
     "name": "stdout",
     "output_type": "stream",
     "text": [
      "\r",
      "Upgrading database; v2 -> v3: : 0it [00:00, ?it/s]"
     ]
    },
    {
     "name": "stdout",
     "output_type": "stream",
     "text": [
      "\r",
      "Upgrading database; v2 -> v3: : 0it [00:00, ?it/s]"
     ]
    },
    {
     "name": "stdout",
     "output_type": "stream",
     "text": [
      "\n",
      "\r",
      "0it [00:00, ?it/s]"
     ]
    },
    {
     "name": "stdout",
     "output_type": "stream",
     "text": [
      "\r",
      "Upgrading database; v3 -> v4: : 0it [00:00, ?it/s]"
     ]
    },
    {
     "name": "stdout",
     "output_type": "stream",
     "text": [
      "\r",
      "Upgrading database; v3 -> v4: : 0it [00:00, ?it/s]"
     ]
    },
    {
     "name": "stdout",
     "output_type": "stream",
     "text": [
      "\n",
      "\r",
      "  0%|          | 0/1 [00:00<?, ?it/s]"
     ]
    },
    {
     "name": "stdout",
     "output_type": "stream",
     "text": [
      "\r",
      "Upgrading database; v4 -> v5:   0%|          | 0/1 [00:00<?, ?it/s]"
     ]
    },
    {
     "name": "stdout",
     "output_type": "stream",
     "text": [
      "\r",
      "Upgrading database; v4 -> v5: 100%|██████████| 1/1 [00:00<00:00, 569.41it/s]"
     ]
    },
    {
     "name": "stdout",
     "output_type": "stream",
     "text": [
      "\n",
      "\r",
      "0it [00:00, ?it/s]"
     ]
    },
    {
     "name": "stdout",
     "output_type": "stream",
     "text": [
      "\r",
      "Upgrading database; v5 -> v6: : 0it [00:00, ?it/s]"
     ]
    },
    {
     "name": "stdout",
     "output_type": "stream",
     "text": [
      "\r",
      "Upgrading database; v5 -> v6: : 0it [00:00, ?it/s]"
     ]
    },
    {
     "name": "stdout",
     "output_type": "stream",
     "text": [
      "\n",
      "\r",
      "  0%|          | 0/1 [00:00<?, ?it/s]"
     ]
    },
    {
     "name": "stdout",
     "output_type": "stream",
     "text": [
      "\r",
      "Upgrading database; v6 -> v7:   0%|          | 0/1 [00:00<?, ?it/s]"
     ]
    },
    {
     "name": "stdout",
     "output_type": "stream",
     "text": [
      "\r",
      "Upgrading database; v6 -> v7: 100%|██████████| 1/1 [00:00<00:00, 417.47it/s]"
     ]
    },
    {
     "name": "stdout",
     "output_type": "stream",
     "text": [
      "\n",
      "\r",
      "  0%|          | 0/1 [00:00<?, ?it/s]"
     ]
    },
    {
     "name": "stdout",
     "output_type": "stream",
     "text": [
      "\r",
      "Upgrading database; v7 -> v8:   0%|          | 0/1 [00:00<?, ?it/s]"
     ]
    },
    {
     "name": "stdout",
     "output_type": "stream",
     "text": [
      "\r",
      "Upgrading database; v7 -> v8: 100%|██████████| 1/1 [00:00<00:00, 495.66it/s]"
     ]
    },
    {
     "name": "stdout",
     "output_type": "stream",
     "text": [
      "\n",
      "\r",
      "  0%|          | 0/1 [00:00<?, ?it/s]"
     ]
    },
    {
     "name": "stdout",
     "output_type": "stream",
     "text": [
      "\r",
      "Upgrading database; v8 -> v9:   0%|          | 0/1 [00:00<?, ?it/s]"
     ]
    },
    {
     "name": "stdout",
     "output_type": "stream",
     "text": [
      "\r",
      "Upgrading database; v8 -> v9: 100%|██████████| 1/1 [00:00<00:00, 462.49it/s]"
     ]
    },
    {
     "name": "stdout",
     "output_type": "stream",
     "text": [
      "\n"
     ]
    }
   ],
   "source": [
    "initialise_database()\n",
    "exp = load_or_create_experiment(experiment_name='tutorial_exp', sample_name=\"no sample\")"
   ]
  },
  {
   "cell_type": "markdown",
   "metadata": {},
   "source": [
    "Here, we define a simple function to benchmark the time it takes to insert n points with either numeric or array data type.\n",
    "We will compare both the time used to call ``add_result`` and the time used for the full measurement."
   ]
  },
  {
   "cell_type": "code",
   "execution_count": 4,
   "metadata": {
    "execution": {
     "iopub.execute_input": "2020-09-22T10:34:48.286197Z",
     "iopub.status.busy": "2020-09-22T10:34:48.284974Z",
     "iopub.status.idle": "2020-09-22T10:34:48.286810Z",
     "shell.execute_reply": "2020-09-22T10:34:48.287418Z"
    }
   },
   "outputs": [],
   "source": [
    "def insert_data(paramtype, npoints, nreps=1):\n",
    "\n",
    "    meas = Measurement(exp=exp)\n",
    "\n",
    "    x1 = ManualParameter('x1')\n",
    "    x2 = ManualParameter('x2')\n",
    "    x3 = ManualParameter('x3')\n",
    "    y1 = ManualParameter('y1')\n",
    "    y2 = ManualParameter('y2')\n",
    "\n",
    "    meas.register_parameter(x1, paramtype=paramtype)\n",
    "    meas.register_parameter(x2, paramtype=paramtype)\n",
    "    meas.register_parameter(x3, paramtype=paramtype)\n",
    "    meas.register_parameter(y1, setpoints=[x1, x2, x3],\n",
    "                            paramtype=paramtype)\n",
    "    meas.register_parameter(y2, setpoints=[x1, x2, x3],\n",
    "                            paramtype=paramtype)\n",
    "    start = time.perf_counter()\n",
    "    with meas.run() as datasaver:\n",
    "        start_adding = time.perf_counter()\n",
    "        for i in range(nreps):\n",
    "            datasaver.add_result((x1, np.random.rand(npoints)),\n",
    "                                 (x2, np.random.rand(npoints)),\n",
    "                                 (x3, np.random.rand(npoints)),\n",
    "                                 (y1, np.random.rand(npoints)),\n",
    "                                 (y2, np.random.rand(npoints)))\n",
    "        stop_adding = time.perf_counter()\n",
    "        run_id = datasaver.run_id\n",
    "    stop = time.perf_counter()\n",
    "    tot_time = stop - start\n",
    "    add_time = stop_adding - start_adding\n",
    "    return tot_time, add_time, run_id"
   ]
  },
  {
   "cell_type": "markdown",
   "metadata": {},
   "source": [
    "## Comparison between numeric/array data and binary blob"
   ]
  },
  {
   "cell_type": "markdown",
   "metadata": {},
   "source": [
    "### Case1: Short experiment time"
   ]
  },
  {
   "cell_type": "code",
   "execution_count": 5,
   "metadata": {
    "execution": {
     "iopub.execute_input": "2020-09-22T10:34:48.292977Z",
     "iopub.status.busy": "2020-09-22T10:34:48.292378Z",
     "iopub.status.idle": "2020-09-22T10:34:49.075235Z",
     "shell.execute_reply": "2020-09-22T10:34:49.074457Z"
    }
   },
   "outputs": [
    {
     "name": "stdout",
     "output_type": "stream",
     "text": [
      "Starting experimental run with id: 1. \n",
      "Starting experimental run with id: 2. \n",
      "Starting experimental run with id: 3. \n",
      "Starting experimental run with id: 4. \n",
      "Starting experimental run with id: 5. \n"
     ]
    },
    {
     "name": "stdout",
     "output_type": "stream",
     "text": [
      "Starting experimental run with id: 6. \n"
     ]
    },
    {
     "name": "stdout",
     "output_type": "stream",
     "text": [
      "Starting experimental run with id: 7. \n"
     ]
    },
    {
     "name": "stdout",
     "output_type": "stream",
     "text": [
      "Starting experimental run with id: 8. \n",
      "Starting experimental run with id: 9. \n"
     ]
    },
    {
     "name": "stdout",
     "output_type": "stream",
     "text": [
      "Starting experimental run with id: 10. \n",
      "Starting experimental run with id: 11. \n"
     ]
    },
    {
     "name": "stdout",
     "output_type": "stream",
     "text": [
      "Starting experimental run with id: 12. \n",
      "Starting experimental run with id: 13. \n"
     ]
    },
    {
     "name": "stdout",
     "output_type": "stream",
     "text": [
      "Starting experimental run with id: 14. \n"
     ]
    }
   ],
   "source": [
    "sizes = [1,500,1000,2000,3000,4000,5000]\n",
    "t_numeric = []\n",
    "t_numeric_add = []\n",
    "t_array = []\n",
    "t_array_add = []\n",
    "for size in sizes:\n",
    "    tn, tna, run_id_n =  insert_data('numeric', size)\n",
    "    t_numeric.append(tn)\n",
    "    t_numeric_add.append(tna)\n",
    "\n",
    "    ta, taa, run_id_a =  insert_data('array', size)\n",
    "    t_array.append(ta)\n",
    "    t_array_add.append(taa)"
   ]
  },
  {
   "cell_type": "code",
   "execution_count": 6,
   "metadata": {
    "execution": {
     "iopub.execute_input": "2020-09-22T10:34:49.093513Z",
     "iopub.status.busy": "2020-09-22T10:34:49.092806Z",
     "iopub.status.idle": "2020-09-22T10:34:49.291733Z",
     "shell.execute_reply": "2020-09-22T10:34:49.291213Z"
    }
   },
   "outputs": [
    {
     "data": {
      "image/png": "[encoded data removed]",
      "text/plain": [
       "<Figure size 432x288 with 1 Axes>"
      ]
     },
     "metadata": {
      "needs_background": "light"
     },
     "output_type": "display_data"
    }
   ],
   "source": [
    "fig, ax = plt.subplots(1,1)\n",
    "ax.plot(sizes, t_numeric, 'o-', label='Inserting row-by-row')\n",
    "ax.plot(sizes, t_numeric_add, 'o-', label='Inserting row-by-row: add_result only')\n",
    "ax.plot(sizes, t_array, 'd-', label='Inserting as binary blob')\n",
    "ax.plot(sizes, t_array_add, 'd-', label='Inserting as binary blob: add_result only')\n",
    "ax.legend()\n",
    "ax.set_xlabel('Array length')\n",
    "ax.set_ylabel('Time (s)')\n",
    "fig.tight_layout()"
   ]
  },
  {
   "cell_type": "markdown",
   "metadata": {},
   "source": [
    "As shown in the latter figure, the time to setup and and close the experiment is approximately 0.4 sec. In case of small array sizes, the difference between inserting values of data as arrays and inserting them row-by-row is relatively unimportant. At larger array sizes, i.e. above 10000 points, the cost of writing data as individual datapoints starts to become important.\n"
   ]
  },
  {
   "cell_type": "markdown",
   "metadata": {},
   "source": [
    "### Case2: Long experiment time "
   ]
  },
  {
   "cell_type": "code",
   "execution_count": 7,
   "metadata": {
    "execution": {
     "iopub.execute_input": "2020-09-22T10:34:49.297856Z",
     "iopub.status.busy": "2020-09-22T10:34:49.297218Z",
     "iopub.status.idle": "2020-09-22T10:35:47.116940Z",
     "shell.execute_reply": "2020-09-22T10:35:47.115977Z"
    }
   },
   "outputs": [
    {
     "name": "stdout",
     "output_type": "stream",
     "text": [
      "Starting experimental run with id: 15. \n",
      "Starting experimental run with id: 16. \n",
      "Starting experimental run with id: 17. \n"
     ]
    },
    {
     "name": "stdout",
     "output_type": "stream",
     "text": [
      "Starting experimental run with id: 18. \n",
      "Starting experimental run with id: 19. \n"
     ]
    },
    {
     "name": "stdout",
     "output_type": "stream",
     "text": [
      "Starting experimental run with id: 20. \n"
     ]
    },
    {
     "name": "stdout",
     "output_type": "stream",
     "text": [
      "Starting experimental run with id: 21. \n"
     ]
    },
    {
     "name": "stdout",
     "output_type": "stream",
     "text": [
      "Starting experimental run with id: 22. \n"
     ]
    },
    {
     "name": "stdout",
     "output_type": "stream",
     "text": [
      "Starting experimental run with id: 23. \n"
     ]
    },
    {
     "name": "stdout",
     "output_type": "stream",
     "text": [
      "Starting experimental run with id: 24. \n"
     ]
    },
    {
     "name": "stdout",
     "output_type": "stream",
     "text": [
      "Starting experimental run with id: 25. \n"
     ]
    },
    {
     "name": "stdout",
     "output_type": "stream",
     "text": [
      "Starting experimental run with id: 26. \n"
     ]
    },
    {
     "name": "stdout",
     "output_type": "stream",
     "text": [
      "Starting experimental run with id: 27. \n"
     ]
    },
    {
     "name": "stdout",
     "output_type": "stream",
     "text": [
      "Starting experimental run with id: 28. \n"
     ]
    }
   ],
   "source": [
    "sizes = [1,500,1000,2000,3000,4000,5000]\n",
    "nreps = 100\n",
    "t_numeric = []\n",
    "t_numeric_add = []\n",
    "t_numeric_run_ids = []\n",
    "t_array = []\n",
    "t_array_add = []\n",
    "t_array_run_ids = []\n",
    "for size in sizes:\n",
    "    tn, tna, run_id_n =  insert_data('numeric', size, nreps=nreps)\n",
    "    t_numeric.append(tn)\n",
    "    t_numeric_add.append(tna)\n",
    "    t_numeric_run_ids.append(run_id_n)\n",
    "\n",
    "    ta, taa, run_id_a =  insert_data('array', size, nreps=nreps)\n",
    "    t_array.append(ta)\n",
    "    t_array_add.append(taa)\n",
    "    t_array_run_ids.append(run_id_a)"
   ]
  },
  {
   "cell_type": "code",
   "execution_count": 8,
   "metadata": {
    "execution": {
     "iopub.execute_input": "2020-09-22T10:35:47.138822Z",
     "iopub.status.busy": "2020-09-22T10:35:47.135443Z",
     "iopub.status.idle": "2020-09-22T10:35:47.340900Z",
     "shell.execute_reply": "2020-09-22T10:35:47.339978Z"
    },
    "scrolled": true
   },
   "outputs": [
    {
     "data": {
      "image/png": "[encoded data removed]",
      "text/plain": [
       "<Figure size 432x288 with 1 Axes>"
      ]
     },
     "metadata": {
      "needs_background": "light"
     },
     "output_type": "display_data"
    }
   ],
   "source": [
    "fig, ax = plt.subplots(1,1)\n",
    "ax.plot(sizes, t_numeric, 'o-', label='Inserting row-by-row')\n",
    "ax.plot(sizes, t_numeric_add, 'o-', label='Inserting row-by-row: add_result only')\n",
    "ax.plot(sizes, t_array, 'd-', label='Inserting as binary blob')\n",
    "ax.plot(sizes, t_array_add, 'd-', label='Inserting as binary blob: add_result only')\n",
    "ax.legend()\n",
    "ax.set_xlabel('Array length')\n",
    "ax.set_ylabel('Time (s)')\n",
    "fig.tight_layout()"
   ]
  },
  {
   "cell_type": "markdown",
   "metadata": {},
   "source": [
    "However, as we increase the length of the experiment, as seen here by repeating the insertion 100 times, we see a big difference between inserting values of the data row-by-row and inserting it as a binary blob."
   ]
  },
  {
   "cell_type": "markdown",
   "metadata": {},
   "source": [
    "## Loading the data "
   ]
  },
  {
   "cell_type": "code",
   "execution_count": 9,
   "metadata": {
    "execution": {
     "iopub.execute_input": "2020-09-22T10:35:47.345111Z",
     "iopub.status.busy": "2020-09-22T10:35:47.344172Z",
     "iopub.status.idle": "2020-09-22T10:35:47.348303Z",
     "shell.execute_reply": "2020-09-22T10:35:47.347806Z"
    }
   },
   "outputs": [],
   "source": [
    "from qcodes.dataset.data_set import load_by_id\n",
    "from qcodes.dataset.data_export import get_data_by_id"
   ]
  },
  {
   "cell_type": "markdown",
   "metadata": {},
   "source": [
    "As usual you can load the data by using the ``load_by_id`` function but you will notice that the different storage methods\n",
    "are reflected in shape of the data as it is retrieved. "
   ]
  },
  {
   "cell_type": "code",
   "execution_count": 10,
   "metadata": {
    "execution": {
     "iopub.execute_input": "2020-09-22T10:35:47.351523Z",
     "iopub.status.busy": "2020-09-22T10:35:47.351048Z",
     "iopub.status.idle": "2020-09-22T10:35:47.353100Z",
     "shell.execute_reply": "2020-09-22T10:35:47.353562Z"
    }
   },
   "outputs": [],
   "source": [
    "run_id_n = t_numeric_run_ids[0]\n",
    "run_id_a = t_array_run_ids[0]"
   ]
  },
  {
   "cell_type": "code",
   "execution_count": 11,
   "metadata": {
    "execution": {
     "iopub.execute_input": "2020-09-22T10:35:47.356531Z",
     "iopub.status.busy": "2020-09-22T10:35:47.355951Z",
     "iopub.status.idle": "2020-09-22T10:35:47.366575Z",
     "shell.execute_reply": "2020-09-22T10:35:47.366085Z"
    },
    "scrolled": true
   },
   "outputs": [
    {
     "data": {
      "text/plain": [
       "{'x1': {'x1': array([0.11569873, 0.11569873, 0.49351726, 0.49351726, 0.91441565,\n",
       "         0.91441565, 0.86307961, 0.86307961, 0.73393815, 0.73393815,\n",
       "         0.69873543, 0.69873543, 0.04842237, 0.04842237, 0.28197538,\n",
       "         0.28197538, 0.83300355, 0.83300355, 0.9644497 , 0.9644497 ,\n",
       "         0.30066309, 0.30066309, 0.23132475, 0.23132475, 0.7541562 ,\n",
       "         0.7541562 , 0.72281093, 0.72281093, 0.88190309, 0.88190309,\n",
       "         0.4411225 , 0.4411225 , 0.78952523, 0.78952523, 0.39950754,\n",
       "         0.39950754, 0.05530208, 0.05530208, 0.90410725, 0.90410725,\n",
       "         0.80816047, 0.80816047, 0.76889746, 0.76889746, 0.76268171,\n",
       "         0.76268171, 0.93989103, 0.93989103, 0.84958134, 0.84958134,\n",
       "         0.39416989, 0.39416989, 0.24781967, 0.24781967, 0.6012307 ,\n",
       "         0.6012307 , 0.26044143, 0.26044143, 0.9454502 , 0.9454502 ,\n",
       "         0.5869626 , 0.5869626 , 0.85289849, 0.85289849, 0.52440579,\n",
       "         0.52440579, 0.48005438, 0.48005438, 0.95224406, 0.95224406,\n",
       "         0.05176789, 0.05176789, 0.56878794, 0.56878794, 0.10783398,\n",
       "         0.10783398, 0.96699683, 0.96699683, 0.48878937, 0.48878937,\n",
       "         0.4213296 , 0.4213296 , 0.59888758, 0.59888758, 0.11349739,\n",
       "         0.11349739, 0.8944485 , 0.8944485 , 0.50251447, 0.50251447,\n",
       "         0.98582465, 0.98582465, 0.19102059, 0.19102059, 0.86381169,\n",
       "         0.86381169, 0.68422452, 0.68422452, 0.83592759, 0.83592759,\n",
       "         0.87595906, 0.87595906, 0.03010504, 0.03010504, 0.33764083,\n",
       "         0.33764083, 0.71427659, 0.71427659, 0.95648022, 0.95648022,\n",
       "         0.33053147, 0.33053147, 0.02713475, 0.02713475, 0.36566382,\n",
       "         0.36566382, 0.67854055, 0.67854055, 0.03173696, 0.03173696,\n",
       "         0.52460859, 0.52460859, 0.3459808 , 0.3459808 , 0.63662034,\n",
       "         0.63662034, 0.71014503, 0.71014503, 0.37697449, 0.37697449,\n",
       "         0.99201868, 0.99201868, 0.64489244, 0.64489244, 0.76006192,\n",
       "         0.76006192, 0.07332673, 0.07332673, 0.54795679, 0.54795679,\n",
       "         0.88935499, 0.88935499, 0.06607075, 0.06607075, 0.37991947,\n",
       "         0.37991947, 0.57919667, 0.57919667, 0.49746022, 0.49746022,\n",
       "         0.9876821 , 0.9876821 , 0.87582413, 0.87582413, 0.42724648,\n",
       "         0.42724648, 0.41071692, 0.41071692, 0.92472668, 0.92472668,\n",
       "         0.43045553, 0.43045553, 0.38069883, 0.38069883, 0.23178248,\n",
       "         0.23178248, 0.34466522, 0.34466522, 0.69999515, 0.69999515,\n",
       "         0.65502198, 0.65502198, 0.28177047, 0.28177047, 0.43369362,\n",
       "         0.43369362, 0.11680303, 0.11680303, 0.60688524, 0.60688524,\n",
       "         0.63715983, 0.63715983, 0.5777136 , 0.5777136 , 0.46511388,\n",
       "         0.46511388, 0.77723653, 0.77723653, 0.59382511, 0.59382511,\n",
       "         0.77221   , 0.77221   , 0.44729996, 0.44729996, 0.46816584,\n",
       "         0.46816584, 0.60100691, 0.60100691, 0.70701595, 0.70701595])}}"
      ]
     },
     "execution_count": 1,
     "metadata": {},
     "output_type": "execute_result"
    }
   ],
   "source": [
    "ds = load_by_id(run_id_n)\n",
    "ds.get_parameter_data('x1')"
   ]
  },
  {
   "cell_type": "markdown",
   "metadata": {},
   "source": [
    "And a dataset stored as binary arrays"
   ]
  },
  {
   "cell_type": "code",
   "execution_count": 12,
   "metadata": {
    "execution": {
     "iopub.execute_input": "2020-09-22T10:35:47.369903Z",
     "iopub.status.busy": "2020-09-22T10:35:47.369428Z",
     "iopub.status.idle": "2020-09-22T10:35:47.429613Z",
     "shell.execute_reply": "2020-09-22T10:35:47.430018Z"
    },
    "scrolled": true
   },
   "outputs": [
    {
     "data": {
      "text/plain": [
       "{'x1': {'x1': array([[0.50281252],\n",
       "         [0.50281252],\n",
       "         [0.57637091],\n",
       "         [0.57637091],\n",
       "         [0.77092422],\n",
       "         [0.77092422],\n",
       "         [0.78999309],\n",
       "         [0.78999309],\n",
       "         [0.98925006],\n",
       "         [0.98925006],\n",
       "         [0.76850841],\n",
       "         [0.76850841],\n",
       "         [0.60500536],\n",
       "         [0.60500536],\n",
       "         [0.04553018],\n",
       "         [0.04553018],\n",
       "         [0.42696368],\n",
       "         [0.42696368],\n",
       "         [0.22171723],\n",
       "         [0.22171723],\n",
       "         [0.55312615],\n",
       "         [0.55312615],\n",
       "         [0.86399103],\n",
       "         [0.86399103],\n",
       "         [0.10920814],\n",
       "         [0.10920814],\n",
       "         [0.57443935],\n",
       "         [0.57443935],\n",
       "         [0.78972655],\n",
       "         [0.78972655],\n",
       "         [0.57993247],\n",
       "         [0.57993247],\n",
       "         [0.23442477],\n",
       "         [0.23442477],\n",
       "         [0.50482562],\n",
       "         [0.50482562],\n",
       "         [0.89849711],\n",
       "         [0.89849711],\n",
       "         [0.67305805],\n",
       "         [0.67305805],\n",
       "         [0.98363537],\n",
       "         [0.98363537],\n",
       "         [0.14116345],\n",
       "         [0.14116345],\n",
       "         [0.30191183],\n",
       "         [0.30191183],\n",
       "         [0.97731794],\n",
       "         [0.97731794],\n",
       "         [0.6457038 ],\n",
       "         [0.6457038 ],\n",
       "         [0.78559746],\n",
       "         [0.78559746],\n",
       "         [0.40446631],\n",
       "         [0.40446631],\n",
       "         [0.67466067],\n",
       "         [0.67466067],\n",
       "         [0.58981907],\n",
       "         [0.58981907],\n",
       "         [0.61924365],\n",
       "         [0.61924365],\n",
       "         [0.09565849],\n",
       "         [0.09565849],\n",
       "         [0.41684128],\n",
       "         [0.41684128],\n",
       "         [0.928675  ],\n",
       "         [0.928675  ],\n",
       "         [0.65434052],\n",
       "         [0.65434052],\n",
       "         [0.09956008],\n",
       "         [0.09956008],\n",
       "         [0.08602818],\n",
       "         [0.08602818],\n",
       "         [0.78671615],\n",
       "         [0.78671615],\n",
       "         [0.59939758],\n",
       "         [0.59939758],\n",
       "         [0.78835666],\n",
       "         [0.78835666],\n",
       "         [0.7467521 ],\n",
       "         [0.7467521 ],\n",
       "         [0.67274482],\n",
       "         [0.67274482],\n",
       "         [0.69305929],\n",
       "         [0.69305929],\n",
       "         [0.88557953],\n",
       "         [0.88557953],\n",
       "         [0.93846767],\n",
       "         [0.93846767],\n",
       "         [0.40723206],\n",
       "         [0.40723206],\n",
       "         [0.28761749],\n",
       "         [0.28761749],\n",
       "         [0.35814183],\n",
       "         [0.35814183],\n",
       "         [0.76527443],\n",
       "         [0.76527443],\n",
       "         [0.22759793],\n",
       "         [0.22759793],\n",
       "         [0.61012713],\n",
       "         [0.61012713],\n",
       "         [0.35221494],\n",
       "         [0.35221494],\n",
       "         [0.64437376],\n",
       "         [0.64437376],\n",
       "         [0.25993048],\n",
       "         [0.25993048],\n",
       "         [0.51036256],\n",
       "         [0.51036256],\n",
       "         [0.58138356],\n",
       "         [0.58138356],\n",
       "         [0.94852275],\n",
       "         [0.94852275],\n",
       "         [0.5699075 ],\n",
       "         [0.5699075 ],\n",
       "         [0.18129962],\n",
       "         [0.18129962],\n",
       "         [0.1177138 ],\n",
       "         [0.1177138 ],\n",
       "         [0.12750886],\n",
       "         [0.12750886],\n",
       "         [0.90716448],\n",
       "         [0.90716448],\n",
       "         [0.89207486],\n",
       "         [0.89207486],\n",
       "         [0.69429166],\n",
       "         [0.69429166],\n",
       "         [0.3252511 ],\n",
       "         [0.3252511 ],\n",
       "         [0.03924767],\n",
       "         [0.03924767],\n",
       "         [0.05065599],\n",
       "         [0.05065599],\n",
       "         [0.10171699],\n",
       "         [0.10171699],\n",
       "         [0.89977789],\n",
       "         [0.89977789],\n",
       "         [0.96684386],\n",
       "         [0.96684386],\n",
       "         [0.17352044],\n",
       "         [0.17352044],\n",
       "         [0.3288415 ],\n",
       "         [0.3288415 ],\n",
       "         [0.14591962],\n",
       "         [0.14591962],\n",
       "         [0.30258084],\n",
       "         [0.30258084],\n",
       "         [0.59622189],\n",
       "         [0.59622189],\n",
       "         [0.39303727],\n",
       "         [0.39303727],\n",
       "         [0.56741197],\n",
       "         [0.56741197],\n",
       "         [0.91495075],\n",
       "         [0.91495075],\n",
       "         [0.5955702 ],\n",
       "         [0.5955702 ],\n",
       "         [0.85428272],\n",
       "         [0.85428272],\n",
       "         [0.76933296],\n",
       "         [0.76933296],\n",
       "         [0.18583468],\n",
       "         [0.18583468],\n",
       "         [0.00109284],\n",
       "         [0.00109284],\n",
       "         [0.9068764 ],\n",
       "         [0.9068764 ],\n",
       "         [0.45174258],\n",
       "         [0.45174258],\n",
       "         [0.60254191],\n",
       "         [0.60254191],\n",
       "         [0.63737198],\n",
       "         [0.63737198],\n",
       "         [0.82875505],\n",
       "         [0.82875505],\n",
       "         [0.4860517 ],\n",
       "         [0.4860517 ],\n",
       "         [0.06246181],\n",
       "         [0.06246181],\n",
       "         [0.86643407],\n",
       "         [0.86643407],\n",
       "         [0.68458254],\n",
       "         [0.68458254],\n",
       "         [0.47621101],\n",
       "         [0.47621101],\n",
       "         [0.22435004],\n",
       "         [0.22435004],\n",
       "         [0.2205168 ],\n",
       "         [0.2205168 ],\n",
       "         [0.62781313],\n",
       "         [0.62781313],\n",
       "         [0.20049693],\n",
       "         [0.20049693],\n",
       "         [0.47272053],\n",
       "         [0.47272053],\n",
       "         [0.60473486],\n",
       "         [0.60473486],\n",
       "         [0.13220432],\n",
       "         [0.13220432],\n",
       "         [0.70038513],\n",
       "         [0.70038513]])}}"
      ]
     },
     "execution_count": 1,
     "metadata": {},
     "output_type": "execute_result"
    }
   ],
   "source": [
    "ds = load_by_id(run_id_a)\n",
    "ds.get_parameter_data('x1')"
   ]
  },
  {
   "cell_type": "code",
   "execution_count": null,
   "metadata": {},
   "outputs": [],
   "source": []
  }
 ],
 "metadata": {
  "kernelspec": {
   "display_name": "Python 3",
   "language": "python",
   "name": "python3"
  },
  "language_info": {
   "codemirror_mode": {
    "name": "ipython",
    "version": 3
   },
   "file_extension": ".py",
   "mimetype": "text/x-python",
   "name": "python",
   "nbconvert_exporter": "python",
   "pygments_lexer": "ipython3",
   "version": "3.7.7"
  },
  "nbsphinx": {
   "timeout": 600
  },
  "toc": {
   "base_numbering": 1,
   "nav_menu": {},
   "number_sections": true,
   "sideBar": true,
   "skip_h1_title": false,
   "title_cell": "Table of Contents",
   "title_sidebar": "Contents",
   "toc_cell": false,
   "toc_position": {},
   "toc_section_display": true,
   "toc_window_display": false
  },
  "varInspector": {
   "cols": {
    "lenName": 16,
    "lenType": 16,
    "lenVar": 40
   },
   "kernels_config": {
    "python": {
     "delete_cmd_postfix": "",
     "delete_cmd_prefix": "del ",
     "library": "var_list.py",
     "varRefreshCmd": "print(var_dic_list())"
    },
    "r": {
     "delete_cmd_postfix": ") ",
     "delete_cmd_prefix": "rm(",
     "library": "var_list.r",
     "varRefreshCmd": "cat(var_dic_list()) "
    }
   },
   "types_to_exclude": [
    "module",
    "function",
    "builtin_function_or_method",
    "instance",
    "_Feature"
   ],
   "window_display": false
  }
 },
 "nbformat": 4,
 "nbformat_minor": 2
}
