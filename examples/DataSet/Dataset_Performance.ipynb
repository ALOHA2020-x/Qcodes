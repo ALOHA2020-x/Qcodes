{
 "cells": [
  {
   "cell_type": "markdown",
   "metadata": {},
   "source": [
    "# DataSet Performance\n",
    "\n",
    "This notebook shows the trade-off between inserting data into a database row-by-row and as binary blobs. Inserting the data row-by-row means that we have direct access to all the data and may perform queries directly on the values of the data. On the other hand, as we shall see, this is much slower than inserting the data directly as binary blobs."
   ]
  },
  {
   "cell_type": "markdown",
   "metadata": {},
   "source": [
    "First, we choose a new location for the database to ensure that we don't add a bunch of benchmarking data to the default one."
   ]
  },
  {
   "cell_type": "code",
   "execution_count": 1,
   "metadata": {
    "execution": {
     "iopub.execute_input": "2020-09-21T08:45:42.494719Z",
     "iopub.status.busy": "2020-09-21T08:45:42.494183Z",
     "iopub.status.idle": "2020-09-21T08:45:43.495084Z",
     "shell.execute_reply": "2020-09-21T08:45:43.494577Z"
    }
   },
   "outputs": [
    {
     "name": "stdout",
     "output_type": "stream",
     "text": [
      "Logging hadn't been started.\n",
      "Activating auto-logging. Current session state plus future input saved.\n",
      "Filename       : /home/vsts/.qcodes/logs/command_history.log\n",
      "Mode           : append\n",
      "Output logging : True\n",
      "Raw input log  : False\n",
      "Timestamping   : True\n",
      "State          : active\n"
     ]
    },
    {
     "name": "stdout",
     "output_type": "stream",
     "text": [
      "Qcodes Logfile : /home/vsts/.qcodes/logs/200921-18877-qcodes.log\n"
     ]
    }
   ],
   "source": [
    "import os\n",
    "cwd = os.getcwd()\n",
    "import qcodes as qc\n",
    "qc.config[\"core\"][\"db_location\"] = os.path.join(cwd, 'testing.db')\n"
   ]
  },
  {
   "cell_type": "code",
   "execution_count": 2,
   "metadata": {
    "execution": {
     "iopub.execute_input": "2020-09-21T08:45:43.501429Z",
     "iopub.status.busy": "2020-09-21T08:45:43.500610Z",
     "iopub.status.idle": "2020-09-21T08:45:43.686130Z",
     "shell.execute_reply": "2020-09-21T08:45:43.685188Z"
    }
   },
   "outputs": [],
   "source": [
    "%matplotlib inline\n",
    "import time\n",
    "import matplotlib.pyplot as plt\n",
    "import numpy as np\n",
    "\n",
    "import qcodes as qc\n",
    "from qcodes.instrument.parameter import ManualParameter\n",
    "from qcodes.dataset.experiment_container import (Experiment,\n",
    "                                                 load_last_experiment,\n",
    "                                                 new_experiment)\n",
    "from qcodes.dataset.sqlite.database import initialise_database\n",
    "from qcodes import load_or_create_experiment\n",
    "from qcodes.dataset.measurements import Measurement"
   ]
  },
  {
   "cell_type": "code",
   "execution_count": 3,
   "metadata": {
    "execution": {
     "iopub.execute_input": "2020-09-21T08:45:43.690201Z",
     "iopub.status.busy": "2020-09-21T08:45:43.689484Z",
     "iopub.status.idle": "2020-09-21T08:45:43.795791Z",
     "shell.execute_reply": "2020-09-21T08:45:43.795230Z"
    }
   },
   "outputs": [
    {
     "name": "stdout",
     "output_type": "stream",
     "text": [
      "\r",
      "0it [00:00, ?it/s]"
     ]
    },
    {
     "name": "stdout",
     "output_type": "stream",
     "text": [
      "\r",
      "Upgrading database; v0 -> v1: : 0it [00:00, ?it/s]"
     ]
    },
    {
     "name": "stdout",
     "output_type": "stream",
     "text": [
      "\r",
      "Upgrading database; v0 -> v1: : 0it [00:00, ?it/s]"
     ]
    },
    {
     "name": "stdout",
     "output_type": "stream",
     "text": [
      "\n",
      "\r",
      "  0%|          | 0/1 [00:00<?, ?it/s]"
     ]
    },
    {
     "name": "stdout",
     "output_type": "stream",
     "text": [
      "\r",
      "Upgrading database; v1 -> v2:   0%|          | 0/1 [00:00<?, ?it/s]"
     ]
    },
    {
     "name": "stdout",
     "output_type": "stream",
     "text": [
      "\r",
      "Upgrading database; v1 -> v2: 100%|██████████| 1/1 [00:00<00:00, 502.85it/s]"
     ]
    },
    {
     "name": "stdout",
     "output_type": "stream",
     "text": [
      "\n",
      "\r",
      "0it [00:00, ?it/s]"
     ]
    },
    {
     "name": "stdout",
     "output_type": "stream",
     "text": [
      "\r",
      "Upgrading database; v2 -> v3: : 0it [00:00, ?it/s]"
     ]
    },
    {
     "name": "stdout",
     "output_type": "stream",
     "text": [
      "\r",
      "Upgrading database; v2 -> v3: : 0it [00:00, ?it/s]"
     ]
    },
    {
     "name": "stdout",
     "output_type": "stream",
     "text": [
      "\n",
      "\r",
      "0it [00:00, ?it/s]"
     ]
    },
    {
     "name": "stdout",
     "output_type": "stream",
     "text": [
      "\r",
      "Upgrading database; v3 -> v4: : 0it [00:00, ?it/s]"
     ]
    },
    {
     "name": "stdout",
     "output_type": "stream",
     "text": [
      "\r",
      "Upgrading database; v3 -> v4: : 0it [00:00, ?it/s]"
     ]
    },
    {
     "name": "stdout",
     "output_type": "stream",
     "text": [
      "\n",
      "\r",
      "  0%|          | 0/1 [00:00<?, ?it/s]"
     ]
    },
    {
     "name": "stdout",
     "output_type": "stream",
     "text": [
      "\r",
      "Upgrading database; v4 -> v5:   0%|          | 0/1 [00:00<?, ?it/s]"
     ]
    },
    {
     "name": "stdout",
     "output_type": "stream",
     "text": [
      "\r",
      "Upgrading database; v4 -> v5: 100%|██████████| 1/1 [00:00<00:00, 597.91it/s]"
     ]
    },
    {
     "name": "stdout",
     "output_type": "stream",
     "text": [
      "\n",
      "\r",
      "0it [00:00, ?it/s]"
     ]
    },
    {
     "name": "stdout",
     "output_type": "stream",
     "text": [
      "\r",
      "Upgrading database; v5 -> v6: : 0it [00:00, ?it/s]"
     ]
    },
    {
     "name": "stdout",
     "output_type": "stream",
     "text": [
      "\r",
      "Upgrading database; v5 -> v6: : 0it [00:00, ?it/s]"
     ]
    },
    {
     "name": "stdout",
     "output_type": "stream",
     "text": [
      "\n",
      "\r",
      "  0%|          | 0/1 [00:00<?, ?it/s]"
     ]
    },
    {
     "name": "stdout",
     "output_type": "stream",
     "text": [
      "\r",
      "Upgrading database; v6 -> v7:   0%|          | 0/1 [00:00<?, ?it/s]"
     ]
    },
    {
     "name": "stdout",
     "output_type": "stream",
     "text": [
      "\r",
      "Upgrading database; v6 -> v7: 100%|██████████| 1/1 [00:00<00:00, 296.31it/s]"
     ]
    },
    {
     "name": "stdout",
     "output_type": "stream",
     "text": [
      "\n",
      "\r",
      "  0%|          | 0/1 [00:00<?, ?it/s]"
     ]
    },
    {
     "name": "stdout",
     "output_type": "stream",
     "text": [
      "\r",
      "Upgrading database; v7 -> v8:   0%|          | 0/1 [00:00<?, ?it/s]"
     ]
    },
    {
     "name": "stdout",
     "output_type": "stream",
     "text": [
      "\r",
      "Upgrading database; v7 -> v8: 100%|██████████| 1/1 [00:00<00:00, 422.34it/s]"
     ]
    },
    {
     "name": "stdout",
     "output_type": "stream",
     "text": [
      "\n",
      "\r",
      "  0%|          | 0/1 [00:00<?, ?it/s]"
     ]
    },
    {
     "name": "stdout",
     "output_type": "stream",
     "text": [
      "\r",
      "Upgrading database; v8 -> v9:   0%|          | 0/1 [00:00<?, ?it/s]"
     ]
    },
    {
     "name": "stdout",
     "output_type": "stream",
     "text": [
      "\r",
      "Upgrading database; v8 -> v9: 100%|██████████| 1/1 [00:00<00:00, 1148.18it/s]"
     ]
    },
    {
     "name": "stdout",
     "output_type": "stream",
     "text": [
      "\n"
     ]
    }
   ],
   "source": [
    "initialise_database()\n",
    "exp = load_or_create_experiment(experiment_name='tutorial_exp', sample_name=\"no sample\")"
   ]
  },
  {
   "cell_type": "markdown",
   "metadata": {},
   "source": [
    "Here, we define a simple function to benchmark the time it takes to insert n points with either numeric or array data type.\n",
    "We will compare both the time used to call ``add_result`` and the time used for the full measurement."
   ]
  },
  {
   "cell_type": "code",
   "execution_count": 4,
   "metadata": {
    "execution": {
     "iopub.execute_input": "2020-09-21T08:45:43.805064Z",
     "iopub.status.busy": "2020-09-21T08:45:43.803945Z",
     "iopub.status.idle": "2020-09-21T08:45:43.805612Z",
     "shell.execute_reply": "2020-09-21T08:45:43.806173Z"
    }
   },
   "outputs": [],
   "source": [
    "def insert_data(paramtype, npoints, nreps=1):\n",
    "\n",
    "    meas = Measurement(exp=exp)\n",
    "\n",
    "    x1 = ManualParameter('x1')\n",
    "    x2 = ManualParameter('x2')\n",
    "    x3 = ManualParameter('x3')\n",
    "    y1 = ManualParameter('y1')\n",
    "    y2 = ManualParameter('y2')\n",
    "\n",
    "    meas.register_parameter(x1, paramtype=paramtype)\n",
    "    meas.register_parameter(x2, paramtype=paramtype)\n",
    "    meas.register_parameter(x3, paramtype=paramtype)\n",
    "    meas.register_parameter(y1, setpoints=[x1, x2, x3],\n",
    "                            paramtype=paramtype)\n",
    "    meas.register_parameter(y2, setpoints=[x1, x2, x3],\n",
    "                            paramtype=paramtype)\n",
    "    start = time.perf_counter()\n",
    "    with meas.run() as datasaver:\n",
    "        start_adding = time.perf_counter()\n",
    "        for i in range(nreps):\n",
    "            datasaver.add_result((x1, np.random.rand(npoints)),\n",
    "                                 (x2, np.random.rand(npoints)),\n",
    "                                 (x3, np.random.rand(npoints)),\n",
    "                                 (y1, np.random.rand(npoints)),\n",
    "                                 (y2, np.random.rand(npoints)))\n",
    "        stop_adding = time.perf_counter()\n",
    "        run_id = datasaver.run_id\n",
    "    stop = time.perf_counter()\n",
    "    tot_time = stop - start\n",
    "    add_time = stop_adding - start_adding\n",
    "    return tot_time, add_time, run_id"
   ]
  },
  {
   "cell_type": "markdown",
   "metadata": {},
   "source": [
    "## Comparison between numeric/array data and binary blob"
   ]
  },
  {
   "cell_type": "markdown",
   "metadata": {},
   "source": [
    "### Case1: Short experiment time"
   ]
  },
  {
   "cell_type": "code",
   "execution_count": 5,
   "metadata": {
    "execution": {
     "iopub.execute_input": "2020-09-21T08:45:43.812703Z",
     "iopub.status.busy": "2020-09-21T08:45:43.812187Z",
     "iopub.status.idle": "2020-09-21T08:45:44.624208Z",
     "shell.execute_reply": "2020-09-21T08:45:44.623632Z"
    }
   },
   "outputs": [
    {
     "name": "stdout",
     "output_type": "stream",
     "text": [
      "Starting experimental run with id: 1. \n",
      "Starting experimental run with id: 2. \n",
      "Starting experimental run with id: 3. \n",
      "Starting experimental run with id: 4. \n",
      "Starting experimental run with id: 5. \n"
     ]
    },
    {
     "name": "stdout",
     "output_type": "stream",
     "text": [
      "Starting experimental run with id: 6. \n"
     ]
    },
    {
     "name": "stdout",
     "output_type": "stream",
     "text": [
      "Starting experimental run with id: 7. "
     ]
    },
    {
     "name": "stdout",
     "output_type": "stream",
     "text": [
      "\n"
     ]
    },
    {
     "name": "stdout",
     "output_type": "stream",
     "text": [
      "Starting experimental run with id: 8. \n",
      "Starting experimental run with id: 9. \n"
     ]
    },
    {
     "name": "stdout",
     "output_type": "stream",
     "text": [
      "Starting experimental run with id: 10. \n",
      "Starting experimental run with id: 11. \n"
     ]
    },
    {
     "name": "stdout",
     "output_type": "stream",
     "text": [
      "Starting experimental run with id: 12. \n",
      "Starting experimental run with id: 13. \n"
     ]
    },
    {
     "name": "stdout",
     "output_type": "stream",
     "text": [
      "Starting experimental run with id: 14. \n"
     ]
    }
   ],
   "source": [
    "sizes = [1,500,1000,2000,3000,4000,5000]\n",
    "t_numeric = []\n",
    "t_numeric_add = []\n",
    "t_array = []\n",
    "t_array_add = []\n",
    "for size in sizes:\n",
    "    tn, tna, run_id_n =  insert_data('numeric', size)\n",
    "    t_numeric.append(tn)\n",
    "    t_numeric_add.append(tna)\n",
    "\n",
    "    ta, taa, run_id_a =  insert_data('array', size)\n",
    "    t_array.append(ta)\n",
    "    t_array_add.append(taa)"
   ]
  },
  {
   "cell_type": "code",
   "execution_count": 6,
   "metadata": {
    "execution": {
     "iopub.execute_input": "2020-09-21T08:45:44.641502Z",
     "iopub.status.busy": "2020-09-21T08:45:44.640764Z",
     "iopub.status.idle": "2020-09-21T08:45:44.815706Z",
     "shell.execute_reply": "2020-09-21T08:45:44.815231Z"
    }
   },
   "outputs": [
    {
     "data": {
      "image/png": "[encoded data removed]",
      "text/plain": [
       "<Figure size 432x288 with 1 Axes>"
      ]
     },
     "metadata": {
      "needs_background": "light"
     },
     "output_type": "display_data"
    }
   ],
   "source": [
    "fig, ax = plt.subplots(1,1)\n",
    "ax.plot(sizes, t_numeric, 'o-', label='Inserting row-by-row')\n",
    "ax.plot(sizes, t_numeric_add, 'o-', label='Inserting row-by-row: add_result only')\n",
    "ax.plot(sizes, t_array, 'd-', label='Inserting as binary blob')\n",
    "ax.plot(sizes, t_array_add, 'd-', label='Inserting as binary blob: add_result only')\n",
    "ax.legend()\n",
    "ax.set_xlabel('Array length')\n",
    "ax.set_ylabel('Time (s)')\n",
    "fig.tight_layout()"
   ]
  },
  {
   "cell_type": "markdown",
   "metadata": {},
   "source": [
    "As shown in the latter figure, the time to setup and and close the experiment is approximately 0.4 sec. In case of small array sizes, the difference between inserting values of data as arrays and inserting them row-by-row is relatively unimportant. At larger array sizes, i.e. above 10000 points, the cost of writing data as individual datapoints starts to become important.\n"
   ]
  },
  {
   "cell_type": "markdown",
   "metadata": {},
   "source": [
    "### Case2: Long experiment time "
   ]
  },
  {
   "cell_type": "code",
   "execution_count": 7,
   "metadata": {
    "execution": {
     "iopub.execute_input": "2020-09-21T08:45:44.822932Z",
     "iopub.status.busy": "2020-09-21T08:45:44.822343Z",
     "iopub.status.idle": "2020-09-21T08:46:43.362688Z",
     "shell.execute_reply": "2020-09-21T08:46:43.362087Z"
    }
   },
   "outputs": [
    {
     "name": "stdout",
     "output_type": "stream",
     "text": [
      "Starting experimental run with id: 15. \n",
      "Starting experimental run with id: 16. \n",
      "Starting experimental run with id: 17. \n"
     ]
    },
    {
     "name": "stdout",
     "output_type": "stream",
     "text": [
      "Starting experimental run with id: 18. \n",
      "Starting experimental run with id: 19. \n"
     ]
    },
    {
     "name": "stdout",
     "output_type": "stream",
     "text": [
      "Starting experimental run with id: 20. \n"
     ]
    },
    {
     "name": "stdout",
     "output_type": "stream",
     "text": [
      "Starting experimental run with id: 21. \n"
     ]
    },
    {
     "name": "stdout",
     "output_type": "stream",
     "text": [
      "Starting experimental run with id: 22. \n"
     ]
    },
    {
     "name": "stdout",
     "output_type": "stream",
     "text": [
      "Starting experimental run with id: 23. \n"
     ]
    },
    {
     "name": "stdout",
     "output_type": "stream",
     "text": [
      "Starting experimental run with id: 24. \n"
     ]
    },
    {
     "name": "stdout",
     "output_type": "stream",
     "text": [
      "Starting experimental run with id: 25. \n"
     ]
    },
    {
     "name": "stdout",
     "output_type": "stream",
     "text": [
      "Starting experimental run with id: 26. \n"
     ]
    },
    {
     "name": "stdout",
     "output_type": "stream",
     "text": [
      "Starting experimental run with id: 27. \n"
     ]
    },
    {
     "name": "stdout",
     "output_type": "stream",
     "text": [
      "Starting experimental run with id: 28. \n"
     ]
    }
   ],
   "source": [
    "sizes = [1,500,1000,2000,3000,4000,5000]\n",
    "nreps = 100\n",
    "t_numeric = []\n",
    "t_numeric_add = []\n",
    "t_numeric_run_ids = []\n",
    "t_array = []\n",
    "t_array_add = []\n",
    "t_array_run_ids = []\n",
    "for size in sizes:\n",
    "    tn, tna, run_id_n =  insert_data('numeric', size, nreps=nreps)\n",
    "    t_numeric.append(tn)\n",
    "    t_numeric_add.append(tna)\n",
    "    t_numeric_run_ids.append(run_id_n)\n",
    "\n",
    "    ta, taa, run_id_a =  insert_data('array', size, nreps=nreps)\n",
    "    t_array.append(ta)\n",
    "    t_array_add.append(taa)\n",
    "    t_array_run_ids.append(run_id_a)"
   ]
  },
  {
   "cell_type": "code",
   "execution_count": 8,
   "metadata": {
    "execution": {
     "iopub.execute_input": "2020-09-21T08:46:43.380437Z",
     "iopub.status.busy": "2020-09-21T08:46:43.368521Z",
     "iopub.status.idle": "2020-09-21T08:46:43.560804Z",
     "shell.execute_reply": "2020-09-21T08:46:43.560334Z"
    },
    "scrolled": true
   },
   "outputs": [
    {
     "data": {
      "image/png": "[encoded data removed]",
      "text/plain": [
       "<Figure size 432x288 with 1 Axes>"
      ]
     },
     "metadata": {
      "needs_background": "light"
     },
     "output_type": "display_data"
    }
   ],
   "source": [
    "fig, ax = plt.subplots(1,1)\n",
    "ax.plot(sizes, t_numeric, 'o-', label='Inserting row-by-row')\n",
    "ax.plot(sizes, t_numeric_add, 'o-', label='Inserting row-by-row: add_result only')\n",
    "ax.plot(sizes, t_array, 'd-', label='Inserting as binary blob')\n",
    "ax.plot(sizes, t_array_add, 'd-', label='Inserting as binary blob: add_result only')\n",
    "ax.legend()\n",
    "ax.set_xlabel('Array length')\n",
    "ax.set_ylabel('Time (s)')\n",
    "fig.tight_layout()"
   ]
  },
  {
   "cell_type": "markdown",
   "metadata": {},
   "source": [
    "However, as we increase the length of the experiment, as seen here by repeating the insertion 100 times, we see a big difference between inserting values of the data row-by-row and inserting it as a binary blob."
   ]
  },
  {
   "cell_type": "markdown",
   "metadata": {},
   "source": [
    "## Loading the data "
   ]
  },
  {
   "cell_type": "code",
   "execution_count": 9,
   "metadata": {
    "execution": {
     "iopub.execute_input": "2020-09-21T08:46:43.564974Z",
     "iopub.status.busy": "2020-09-21T08:46:43.564045Z",
     "iopub.status.idle": "2020-09-21T08:46:43.567119Z",
     "shell.execute_reply": "2020-09-21T08:46:43.566674Z"
    }
   },
   "outputs": [],
   "source": [
    "from qcodes.dataset.data_set import load_by_id\n",
    "from qcodes.dataset.data_export import get_data_by_id"
   ]
  },
  {
   "cell_type": "markdown",
   "metadata": {},
   "source": [
    "As usual you can load the data by using the ``load_by_id`` function but you will notice that the different storage methods\n",
    "are reflected in shape of the data as it is retrieved. "
   ]
  },
  {
   "cell_type": "code",
   "execution_count": 10,
   "metadata": {
    "execution": {
     "iopub.execute_input": "2020-09-21T08:46:43.571982Z",
     "iopub.status.busy": "2020-09-21T08:46:43.570281Z",
     "iopub.status.idle": "2020-09-21T08:46:43.572517Z",
     "shell.execute_reply": "2020-09-21T08:46:43.573036Z"
    }
   },
   "outputs": [],
   "source": [
    "run_id_n = t_numeric_run_ids[0]\n",
    "run_id_a = t_array_run_ids[0]"
   ]
  },
  {
   "cell_type": "code",
   "execution_count": 11,
   "metadata": {
    "execution": {
     "iopub.execute_input": "2020-09-21T08:46:43.576154Z",
     "iopub.status.busy": "2020-09-21T08:46:43.575646Z",
     "iopub.status.idle": "2020-09-21T08:46:43.584707Z",
     "shell.execute_reply": "2020-09-21T08:46:43.584159Z"
    },
    "scrolled": true
   },
   "outputs": [
    {
     "data": {
      "text/plain": [
       "{'x1': {'x1': array([0.86275368, 0.86275368, 0.13275836, 0.13275836, 0.78323584,\n",
       "         0.78323584, 0.76724883, 0.76724883, 0.70500391, 0.70500391,\n",
       "         0.14945681, 0.14945681, 0.48202094, 0.48202094, 0.93695313,\n",
       "         0.93695313, 0.26032299, 0.26032299, 0.21844173, 0.21844173,\n",
       "         0.12416124, 0.12416124, 0.23480407, 0.23480407, 0.55870396,\n",
       "         0.55870396, 0.35552646, 0.35552646, 0.1474933 , 0.1474933 ,\n",
       "         0.12700459, 0.12700459, 0.36323203, 0.36323203, 0.61464979,\n",
       "         0.61464979, 0.11004759, 0.11004759, 0.41291869, 0.41291869,\n",
       "         0.386586  , 0.386586  , 0.84148988, 0.84148988, 0.44549509,\n",
       "         0.44549509, 0.60292926, 0.60292926, 0.8961056 , 0.8961056 ,\n",
       "         0.90881335, 0.90881335, 0.22212915, 0.22212915, 0.2513809 ,\n",
       "         0.2513809 , 0.31561068, 0.31561068, 0.64169286, 0.64169286,\n",
       "         0.00934834, 0.00934834, 0.78456617, 0.78456617, 0.29937084,\n",
       "         0.29937084, 0.26094058, 0.26094058, 0.97049975, 0.97049975,\n",
       "         0.58134859, 0.58134859, 0.51167922, 0.51167922, 0.40070543,\n",
       "         0.40070543, 0.20153868, 0.20153868, 0.53772477, 0.53772477,\n",
       "         0.01674936, 0.01674936, 0.31691262, 0.31691262, 0.79895233,\n",
       "         0.79895233, 0.8056928 , 0.8056928 , 0.15161211, 0.15161211,\n",
       "         0.01823931, 0.01823931, 0.28728936, 0.28728936, 0.66440047,\n",
       "         0.66440047, 0.93968343, 0.93968343, 0.23325358, 0.23325358,\n",
       "         0.08986359, 0.08986359, 0.20996367, 0.20996367, 0.09690646,\n",
       "         0.09690646, 0.53057895, 0.53057895, 0.39206359, 0.39206359,\n",
       "         0.74272254, 0.74272254, 0.8267691 , 0.8267691 , 0.43819482,\n",
       "         0.43819482, 0.40007561, 0.40007561, 0.53288633, 0.53288633,\n",
       "         0.03447944, 0.03447944, 0.59971942, 0.59971942, 0.16056752,\n",
       "         0.16056752, 0.6605616 , 0.6605616 , 0.64081121, 0.64081121,\n",
       "         0.33254551, 0.33254551, 0.17619683, 0.17619683, 0.83355061,\n",
       "         0.83355061, 0.03371516, 0.03371516, 0.58331156, 0.58331156,\n",
       "         0.4182861 , 0.4182861 , 0.80600492, 0.80600492, 0.04728798,\n",
       "         0.04728798, 0.4079395 , 0.4079395 , 0.66040845, 0.66040845,\n",
       "         0.86082759, 0.86082759, 0.3110507 , 0.3110507 , 0.8279225 ,\n",
       "         0.8279225 , 0.73043109, 0.73043109, 0.93591589, 0.93591589,\n",
       "         0.76536925, 0.76536925, 0.07432205, 0.07432205, 0.92096907,\n",
       "         0.92096907, 0.94140733, 0.94140733, 0.41751117, 0.41751117,\n",
       "         0.26083607, 0.26083607, 0.46455764, 0.46455764, 0.4845781 ,\n",
       "         0.4845781 , 0.0057526 , 0.0057526 , 0.46772442, 0.46772442,\n",
       "         0.65129909, 0.65129909, 0.20834099, 0.20834099, 0.91049403,\n",
       "         0.91049403, 0.33071438, 0.33071438, 0.34570569, 0.34570569,\n",
       "         0.66390507, 0.66390507, 0.46537487, 0.46537487, 0.22525012,\n",
       "         0.22525012, 0.85310129, 0.85310129, 0.59286407, 0.59286407])}}"
      ]
     },
     "execution_count": 1,
     "metadata": {},
     "output_type": "execute_result"
    }
   ],
   "source": [
    "ds = load_by_id(run_id_n)\n",
    "ds.get_parameter_data('x1')"
   ]
  },
  {
   "cell_type": "markdown",
   "metadata": {},
   "source": [
    "And a dataset stored as binary arrays"
   ]
  },
  {
   "cell_type": "code",
   "execution_count": 12,
   "metadata": {
    "execution": {
     "iopub.execute_input": "2020-09-21T08:46:43.587927Z",
     "iopub.status.busy": "2020-09-21T08:46:43.587422Z",
     "iopub.status.idle": "2020-09-21T08:46:43.640497Z",
     "shell.execute_reply": "2020-09-21T08:46:43.641061Z"
    },
    "scrolled": true
   },
   "outputs": [
    {
     "data": {
      "text/plain": [
       "{'x1': {'x1': array([[0.77429304],\n",
       "         [0.77429304],\n",
       "         [0.05004604],\n",
       "         [0.05004604],\n",
       "         [0.17979083],\n",
       "         [0.17979083],\n",
       "         [0.89731323],\n",
       "         [0.89731323],\n",
       "         [0.95890717],\n",
       "         [0.95890717],\n",
       "         [0.63721174],\n",
       "         [0.63721174],\n",
       "         [0.80586771],\n",
       "         [0.80586771],\n",
       "         [0.38842264],\n",
       "         [0.38842264],\n",
       "         [0.61205132],\n",
       "         [0.61205132],\n",
       "         [0.60767348],\n",
       "         [0.60767348],\n",
       "         [0.18605184],\n",
       "         [0.18605184],\n",
       "         [0.91389555],\n",
       "         [0.91389555],\n",
       "         [0.63455935],\n",
       "         [0.63455935],\n",
       "         [0.41601415],\n",
       "         [0.41601415],\n",
       "         [0.15960726],\n",
       "         [0.15960726],\n",
       "         [0.09395915],\n",
       "         [0.09395915],\n",
       "         [0.20468789],\n",
       "         [0.20468789],\n",
       "         [0.21186285],\n",
       "         [0.21186285],\n",
       "         [0.64967691],\n",
       "         [0.64967691],\n",
       "         [0.9354296 ],\n",
       "         [0.9354296 ],\n",
       "         [0.37895021],\n",
       "         [0.37895021],\n",
       "         [0.00778171],\n",
       "         [0.00778171],\n",
       "         [0.01519102],\n",
       "         [0.01519102],\n",
       "         [0.51181394],\n",
       "         [0.51181394],\n",
       "         [0.85484355],\n",
       "         [0.85484355],\n",
       "         [0.78804067],\n",
       "         [0.78804067],\n",
       "         [0.11369675],\n",
       "         [0.11369675],\n",
       "         [0.12113564],\n",
       "         [0.12113564],\n",
       "         [0.40818864],\n",
       "         [0.40818864],\n",
       "         [0.00877429],\n",
       "         [0.00877429],\n",
       "         [0.65750225],\n",
       "         [0.65750225],\n",
       "         [0.54380912],\n",
       "         [0.54380912],\n",
       "         [0.04714557],\n",
       "         [0.04714557],\n",
       "         [0.70199882],\n",
       "         [0.70199882],\n",
       "         [0.8052047 ],\n",
       "         [0.8052047 ],\n",
       "         [0.74454033],\n",
       "         [0.74454033],\n",
       "         [0.58518506],\n",
       "         [0.58518506],\n",
       "         [0.98243565],\n",
       "         [0.98243565],\n",
       "         [0.83505072],\n",
       "         [0.83505072],\n",
       "         [0.54919489],\n",
       "         [0.54919489],\n",
       "         [0.13863666],\n",
       "         [0.13863666],\n",
       "         [0.60840356],\n",
       "         [0.60840356],\n",
       "         [0.40716192],\n",
       "         [0.40716192],\n",
       "         [0.10022907],\n",
       "         [0.10022907],\n",
       "         [0.09146441],\n",
       "         [0.09146441],\n",
       "         [0.17549813],\n",
       "         [0.17549813],\n",
       "         [0.28243088],\n",
       "         [0.28243088],\n",
       "         [0.11423727],\n",
       "         [0.11423727],\n",
       "         [0.48048547],\n",
       "         [0.48048547],\n",
       "         [0.89977167],\n",
       "         [0.89977167],\n",
       "         [0.5156306 ],\n",
       "         [0.5156306 ],\n",
       "         [0.20615597],\n",
       "         [0.20615597],\n",
       "         [0.78089394],\n",
       "         [0.78089394],\n",
       "         [0.83773785],\n",
       "         [0.83773785],\n",
       "         [0.03727444],\n",
       "         [0.03727444],\n",
       "         [0.25044193],\n",
       "         [0.25044193],\n",
       "         [0.51503671],\n",
       "         [0.51503671],\n",
       "         [0.28160843],\n",
       "         [0.28160843],\n",
       "         [0.25463103],\n",
       "         [0.25463103],\n",
       "         [0.67613886],\n",
       "         [0.67613886],\n",
       "         [0.34357145],\n",
       "         [0.34357145],\n",
       "         [0.89825037],\n",
       "         [0.89825037],\n",
       "         [0.77659429],\n",
       "         [0.77659429],\n",
       "         [0.63244231],\n",
       "         [0.63244231],\n",
       "         [0.40176522],\n",
       "         [0.40176522],\n",
       "         [0.20859938],\n",
       "         [0.20859938],\n",
       "         [0.45504047],\n",
       "         [0.45504047],\n",
       "         [0.95954432],\n",
       "         [0.95954432],\n",
       "         [0.29638748],\n",
       "         [0.29638748],\n",
       "         [0.60857767],\n",
       "         [0.60857767],\n",
       "         [0.18708931],\n",
       "         [0.18708931],\n",
       "         [0.1537961 ],\n",
       "         [0.1537961 ],\n",
       "         [0.3724969 ],\n",
       "         [0.3724969 ],\n",
       "         [0.84745845],\n",
       "         [0.84745845],\n",
       "         [0.92045636],\n",
       "         [0.92045636],\n",
       "         [0.8378629 ],\n",
       "         [0.8378629 ],\n",
       "         [0.86519653],\n",
       "         [0.86519653],\n",
       "         [0.05123915],\n",
       "         [0.05123915],\n",
       "         [0.64039616],\n",
       "         [0.64039616],\n",
       "         [0.2702961 ],\n",
       "         [0.2702961 ],\n",
       "         [0.43868065],\n",
       "         [0.43868065],\n",
       "         [0.61579704],\n",
       "         [0.61579704],\n",
       "         [0.275337  ],\n",
       "         [0.275337  ],\n",
       "         [0.45593291],\n",
       "         [0.45593291],\n",
       "         [0.90750585],\n",
       "         [0.90750585],\n",
       "         [0.99883194],\n",
       "         [0.99883194],\n",
       "         [0.01806343],\n",
       "         [0.01806343],\n",
       "         [0.63837536],\n",
       "         [0.63837536],\n",
       "         [0.83508574],\n",
       "         [0.83508574],\n",
       "         [0.19392924],\n",
       "         [0.19392924],\n",
       "         [0.02363416],\n",
       "         [0.02363416],\n",
       "         [0.03397563],\n",
       "         [0.03397563],\n",
       "         [0.98865034],\n",
       "         [0.98865034],\n",
       "         [0.27141872],\n",
       "         [0.27141872],\n",
       "         [0.80073272],\n",
       "         [0.80073272],\n",
       "         [0.75377423],\n",
       "         [0.75377423],\n",
       "         [0.13945918],\n",
       "         [0.13945918],\n",
       "         [0.89242209],\n",
       "         [0.89242209],\n",
       "         [0.49262202],\n",
       "         [0.49262202],\n",
       "         [0.64417119],\n",
       "         [0.64417119]])}}"
      ]
     },
     "execution_count": 1,
     "metadata": {},
     "output_type": "execute_result"
    }
   ],
   "source": [
    "ds = load_by_id(run_id_a)\n",
    "ds.get_parameter_data('x1')"
   ]
  },
  {
   "cell_type": "code",
   "execution_count": null,
   "metadata": {},
   "outputs": [],
   "source": []
  }
 ],
 "metadata": {
  "kernelspec": {
   "display_name": "Python 3",
   "language": "python",
   "name": "python3"
  },
  "language_info": {
   "codemirror_mode": {
    "name": "ipython",
    "version": 3
   },
   "file_extension": ".py",
   "mimetype": "text/x-python",
   "name": "python",
   "nbconvert_exporter": "python",
   "pygments_lexer": "ipython3",
   "version": "3.7.7"
  },
  "nbsphinx": {
   "timeout": 600
  },
  "toc": {
   "base_numbering": 1,
   "nav_menu": {},
   "number_sections": true,
   "sideBar": true,
   "skip_h1_title": false,
   "title_cell": "Table of Contents",
   "title_sidebar": "Contents",
   "toc_cell": false,
   "toc_position": {},
   "toc_section_display": true,
   "toc_window_display": false
  },
  "varInspector": {
   "cols": {
    "lenName": 16,
    "lenType": 16,
    "lenVar": 40
   },
   "kernels_config": {
    "python": {
     "delete_cmd_postfix": "",
     "delete_cmd_prefix": "del ",
     "library": "var_list.py",
     "varRefreshCmd": "print(var_dic_list())"
    },
    "r": {
     "delete_cmd_postfix": ") ",
     "delete_cmd_prefix": "rm(",
     "library": "var_list.r",
     "varRefreshCmd": "cat(var_dic_list()) "
    }
   },
   "types_to_exclude": [
    "module",
    "function",
    "builtin_function_or_method",
    "instance",
    "_Feature"
   ],
   "window_display": false
  }
 },
 "nbformat": 4,
 "nbformat_minor": 2
}
