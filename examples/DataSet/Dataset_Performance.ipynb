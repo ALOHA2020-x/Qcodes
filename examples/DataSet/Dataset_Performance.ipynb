{
 "cells": [
  {
   "cell_type": "markdown",
   "metadata": {},
   "source": [
    "# DataSet Performance\n",
    "\n",
    "This notebook shows the trade-off between inserting data into a database row-by-row and as binary blobs. Inserting the data row-by-row means that we have direct access to all the data and may perform queries directly on the values of the data. On the other hand, as we shall see, this is much slower than inserting the data directly as binary blobs."
   ]
  },
  {
   "cell_type": "markdown",
   "metadata": {},
   "source": [
    "First, we choose a new location for the database to ensure that we don't add a bunch of benchmarking data to the default one."
   ]
  },
  {
   "cell_type": "code",
   "execution_count": 1,
   "metadata": {
    "execution": {
     "iopub.execute_input": "2021-03-31T17:10:47.439052Z",
     "iopub.status.busy": "2021-03-31T17:10:47.438496Z",
     "iopub.status.idle": "2021-03-31T17:10:48.412476Z",
     "shell.execute_reply": "2021-03-31T17:10:48.411387Z"
    }
   },
   "outputs": [
    {
     "name": "stdout",
     "output_type": "stream",
     "text": [
      "Logging hadn't been started.\n",
      "Activating auto-logging. Current session state plus future input saved.\n",
      "Filename       : /home/runner/.qcodes/logs/command_history.log\n",
      "Mode           : append\n",
      "Output logging : True\n",
      "Raw input log  : False\n",
      "Timestamping   : True\n",
      "State          : active\n"
     ]
    },
    {
     "name": "stdout",
     "output_type": "stream",
     "text": [
      "Qcodes Logfile : /home/runner/.qcodes/logs/210331-4722-qcodes.log\n"
     ]
    }
   ],
   "source": [
    "import os\n",
    "cwd = os.getcwd()\n",
    "import qcodes as qc\n",
    "qc.config[\"core\"][\"db_location\"] = os.path.join(cwd, 'testing.db')\n"
   ]
  },
  {
   "cell_type": "code",
   "execution_count": 2,
   "metadata": {
    "execution": {
     "iopub.execute_input": "2021-03-31T17:10:48.419902Z",
     "iopub.status.busy": "2021-03-31T17:10:48.418292Z",
     "iopub.status.idle": "2021-03-31T17:10:48.660984Z",
     "shell.execute_reply": "2021-03-31T17:10:48.660224Z"
    }
   },
   "outputs": [],
   "source": [
    "%matplotlib inline\n",
    "import time\n",
    "import matplotlib.pyplot as plt\n",
    "import numpy as np\n",
    "\n",
    "import qcodes as qc\n",
    "from qcodes.instrument.parameter import ManualParameter\n",
    "from qcodes.dataset.experiment_container import (Experiment,\n",
    "                                                 load_last_experiment,\n",
    "                                                 new_experiment)\n",
    "from qcodes.dataset.sqlite.database import initialise_database\n",
    "from qcodes import load_or_create_experiment\n",
    "from qcodes.dataset.measurements import Measurement"
   ]
  },
  {
   "cell_type": "code",
   "execution_count": 3,
   "metadata": {
    "execution": {
     "iopub.execute_input": "2021-03-31T17:10:48.665804Z",
     "iopub.status.busy": "2021-03-31T17:10:48.664928Z",
     "iopub.status.idle": "2021-03-31T17:10:48.735510Z",
     "shell.execute_reply": "2021-03-31T17:10:48.735024Z"
    }
   },
   "outputs": [
    {
     "name": "stdout",
     "output_type": "stream",
     "text": [
      "\r",
      "0it [00:00, ?it/s]"
     ]
    },
    {
     "name": "stdout",
     "output_type": "stream",
     "text": [
      "\r",
      "Upgrading database; v0 -> v1: : 0it [00:00, ?it/s]"
     ]
    },
    {
     "name": "stdout",
     "output_type": "stream",
     "text": [
      "\r",
      "Upgrading database; v0 -> v1: : 0it [00:00, ?it/s]"
     ]
    },
    {
     "name": "stdout",
     "output_type": "stream",
     "text": [
      "\n",
      "\r",
      "  0%|          | 0/1 [00:00<?, ?it/s]"
     ]
    },
    {
     "name": "stdout",
     "output_type": "stream",
     "text": [
      "\r",
      "Upgrading database; v1 -> v2:   0%|          | 0/1 [00:00<?, ?it/s]"
     ]
    },
    {
     "name": "stdout",
     "output_type": "stream",
     "text": [
      "\r",
      "Upgrading database; v1 -> v2: 100%|██████████| 1/1 [00:00<00:00, 514.32it/s]"
     ]
    },
    {
     "name": "stdout",
     "output_type": "stream",
     "text": [
      "\n",
      "\r",
      "0it [00:00, ?it/s]"
     ]
    },
    {
     "name": "stdout",
     "output_type": "stream",
     "text": [
      "\r",
      "Upgrading database; v2 -> v3: : 0it [00:00, ?it/s]"
     ]
    },
    {
     "name": "stdout",
     "output_type": "stream",
     "text": [
      "\r",
      "Upgrading database; v2 -> v3: : 0it [00:00, ?it/s]"
     ]
    },
    {
     "name": "stdout",
     "output_type": "stream",
     "text": [
      "\n",
      "\r",
      "0it [00:00, ?it/s]"
     ]
    },
    {
     "name": "stdout",
     "output_type": "stream",
     "text": [
      "\r",
      "Upgrading database; v3 -> v4: : 0it [00:00, ?it/s]"
     ]
    },
    {
     "name": "stdout",
     "output_type": "stream",
     "text": [
      "\r",
      "Upgrading database; v3 -> v4: : 0it [00:00, ?it/s]"
     ]
    },
    {
     "name": "stdout",
     "output_type": "stream",
     "text": [
      "\n",
      "\r",
      "  0%|          | 0/1 [00:00<?, ?it/s]"
     ]
    },
    {
     "name": "stdout",
     "output_type": "stream",
     "text": [
      "\r",
      "Upgrading database; v4 -> v5:   0%|          | 0/1 [00:00<?, ?it/s]"
     ]
    },
    {
     "name": "stdout",
     "output_type": "stream",
     "text": [
      "\r",
      "Upgrading database; v4 -> v5: 100%|██████████| 1/1 [00:00<00:00, 461.72it/s]"
     ]
    },
    {
     "name": "stdout",
     "output_type": "stream",
     "text": [
      "\n",
      "\r",
      "0it [00:00, ?it/s]"
     ]
    },
    {
     "name": "stdout",
     "output_type": "stream",
     "text": [
      "\r",
      "Upgrading database; v5 -> v6: : 0it [00:00, ?it/s]"
     ]
    },
    {
     "name": "stdout",
     "output_type": "stream",
     "text": [
      "\r",
      "Upgrading database; v5 -> v6: : 0it [00:00, ?it/s]"
     ]
    },
    {
     "name": "stdout",
     "output_type": "stream",
     "text": [
      "\n",
      "\r",
      "  0%|          | 0/1 [00:00<?, ?it/s]"
     ]
    },
    {
     "name": "stdout",
     "output_type": "stream",
     "text": [
      "\r",
      "Upgrading database; v6 -> v7:   0%|          | 0/1 [00:00<?, ?it/s]"
     ]
    },
    {
     "name": "stdout",
     "output_type": "stream",
     "text": [
      "\r",
      "Upgrading database; v6 -> v7: 100%|██████████| 1/1 [00:00<00:00, 321.85it/s]"
     ]
    },
    {
     "name": "stdout",
     "output_type": "stream",
     "text": [
      "\n",
      "\r",
      "  0%|          | 0/1 [00:00<?, ?it/s]"
     ]
    },
    {
     "name": "stdout",
     "output_type": "stream",
     "text": [
      "\r",
      "Upgrading database; v7 -> v8:   0%|          | 0/1 [00:00<?, ?it/s]"
     ]
    },
    {
     "name": "stdout",
     "output_type": "stream",
     "text": [
      "\r",
      "Upgrading database; v7 -> v8: 100%|██████████| 1/1 [00:00<00:00, 490.68it/s]"
     ]
    },
    {
     "name": "stdout",
     "output_type": "stream",
     "text": [
      "\n",
      "\r",
      "  0%|          | 0/1 [00:00<?, ?it/s]"
     ]
    },
    {
     "name": "stdout",
     "output_type": "stream",
     "text": [
      "\r",
      "Upgrading database; v8 -> v9:   0%|          | 0/1 [00:00<?, ?it/s]"
     ]
    },
    {
     "name": "stdout",
     "output_type": "stream",
     "text": [
      "\r",
      "Upgrading database; v8 -> v9: 100%|██████████| 1/1 [00:00<00:00, 488.73it/s]"
     ]
    },
    {
     "name": "stdout",
     "output_type": "stream",
     "text": [
      "\n"
     ]
    }
   ],
   "source": [
    "initialise_database()\n",
    "exp = load_or_create_experiment(experiment_name='tutorial_exp', sample_name=\"no sample\")"
   ]
  },
  {
   "cell_type": "markdown",
   "metadata": {},
   "source": [
    "Here, we define a simple function to benchmark the time it takes to insert n points with either numeric or array data type.\n",
    "We will compare both the time used to call ``add_result`` and the time used for the full measurement."
   ]
  },
  {
   "cell_type": "code",
   "execution_count": 4,
   "metadata": {
    "execution": {
     "iopub.execute_input": "2021-03-31T17:10:48.744467Z",
     "iopub.status.busy": "2021-03-31T17:10:48.743923Z",
     "iopub.status.idle": "2021-03-31T17:10:48.747240Z",
     "shell.execute_reply": "2021-03-31T17:10:48.747654Z"
    }
   },
   "outputs": [],
   "source": [
    "def insert_data(paramtype, npoints, nreps=1):\n",
    "\n",
    "    meas = Measurement(exp=exp)\n",
    "\n",
    "    x1 = ManualParameter('x1')\n",
    "    x2 = ManualParameter('x2')\n",
    "    x3 = ManualParameter('x3')\n",
    "    y1 = ManualParameter('y1')\n",
    "    y2 = ManualParameter('y2')\n",
    "\n",
    "    meas.register_parameter(x1, paramtype=paramtype)\n",
    "    meas.register_parameter(x2, paramtype=paramtype)\n",
    "    meas.register_parameter(x3, paramtype=paramtype)\n",
    "    meas.register_parameter(y1, setpoints=[x1, x2, x3],\n",
    "                            paramtype=paramtype)\n",
    "    meas.register_parameter(y2, setpoints=[x1, x2, x3],\n",
    "                            paramtype=paramtype)\n",
    "    start = time.perf_counter()\n",
    "    with meas.run() as datasaver:\n",
    "        start_adding = time.perf_counter()\n",
    "        for i in range(nreps):\n",
    "            datasaver.add_result((x1, np.random.rand(npoints)),\n",
    "                                 (x2, np.random.rand(npoints)),\n",
    "                                 (x3, np.random.rand(npoints)),\n",
    "                                 (y1, np.random.rand(npoints)),\n",
    "                                 (y2, np.random.rand(npoints)))\n",
    "        stop_adding = time.perf_counter()\n",
    "        run_id = datasaver.run_id\n",
    "    stop = time.perf_counter()\n",
    "    tot_time = stop - start\n",
    "    add_time = stop_adding - start_adding\n",
    "    return tot_time, add_time, run_id"
   ]
  },
  {
   "cell_type": "markdown",
   "metadata": {},
   "source": [
    "## Comparison between numeric/array data and binary blob"
   ]
  },
  {
   "cell_type": "markdown",
   "metadata": {},
   "source": [
    "### Case1: Short experiment time"
   ]
  },
  {
   "cell_type": "code",
   "execution_count": 5,
   "metadata": {
    "execution": {
     "iopub.execute_input": "2021-03-31T17:10:48.754598Z",
     "iopub.status.busy": "2021-03-31T17:10:48.753573Z",
     "iopub.status.idle": "2021-03-31T17:10:49.558419Z",
     "shell.execute_reply": "2021-03-31T17:10:49.557883Z"
    }
   },
   "outputs": [
    {
     "name": "stdout",
     "output_type": "stream",
     "text": [
      "Starting experimental run with id: 1. \n",
      "Starting experimental run with id: 2. \n",
      "Starting experimental run with id: 3. \n",
      "Starting experimental run with id: 4. \n",
      "Starting experimental run with id: 5. \n"
     ]
    },
    {
     "name": "stdout",
     "output_type": "stream",
     "text": [
      "Starting experimental run with id: 6. \n"
     ]
    },
    {
     "name": "stdout",
     "output_type": "stream",
     "text": [
      "Starting experimental run with id: 7. \n"
     ]
    },
    {
     "name": "stdout",
     "output_type": "stream",
     "text": [
      "Starting experimental run with id: 8. \n",
      "Starting experimental run with id: 9. \n"
     ]
    },
    {
     "name": "stdout",
     "output_type": "stream",
     "text": [
      "Starting experimental run with id: 10. \n",
      "Starting experimental run with id: 11. \n"
     ]
    },
    {
     "name": "stdout",
     "output_type": "stream",
     "text": [
      "Starting experimental run with id: 12. \n",
      "Starting experimental run with id: 13. \n",
      "Starting experimental run with id: 14. \n"
     ]
    }
   ],
   "source": [
    "sizes = [1,500,1000,2000,3000,4000,5000]\n",
    "t_numeric = []\n",
    "t_numeric_add = []\n",
    "t_array = []\n",
    "t_array_add = []\n",
    "for size in sizes:\n",
    "    tn, tna, run_id_n =  insert_data('numeric', size)\n",
    "    t_numeric.append(tn)\n",
    "    t_numeric_add.append(tna)\n",
    "\n",
    "    ta, taa, run_id_a =  insert_data('array', size)\n",
    "    t_array.append(ta)\n",
    "    t_array_add.append(taa)"
   ]
  },
  {
   "cell_type": "code",
   "execution_count": 6,
   "metadata": {
    "execution": {
     "iopub.execute_input": "2021-03-31T17:10:49.587998Z",
     "iopub.status.busy": "2021-03-31T17:10:49.579478Z",
     "iopub.status.idle": "2021-03-31T17:10:49.764540Z",
     "shell.execute_reply": "2021-03-31T17:10:49.764995Z"
    }
   },
   "outputs": [
    {
     "data": {
      "image/png": "[encoded data removed]",
      "text/plain": [
       "<Figure size 432x288 with 1 Axes>"
      ]
     },
     "metadata": {
      "needs_background": "light"
     },
     "output_type": "display_data"
    }
   ],
   "source": [
    "fig, ax = plt.subplots(1,1)\n",
    "ax.plot(sizes, t_numeric, 'o-', label='Inserting row-by-row')\n",
    "ax.plot(sizes, t_numeric_add, 'o-', label='Inserting row-by-row: add_result only')\n",
    "ax.plot(sizes, t_array, 'd-', label='Inserting as binary blob')\n",
    "ax.plot(sizes, t_array_add, 'd-', label='Inserting as binary blob: add_result only')\n",
    "ax.legend()\n",
    "ax.set_xlabel('Array length')\n",
    "ax.set_ylabel('Time (s)')\n",
    "fig.tight_layout()"
   ]
  },
  {
   "cell_type": "markdown",
   "metadata": {},
   "source": [
    "As shown in the latter figure, the time to setup and and close the experiment is approximately 0.4 sec. In case of small array sizes, the difference between inserting values of data as arrays and inserting them row-by-row is relatively unimportant. At larger array sizes, i.e. above 10000 points, the cost of writing data as individual datapoints starts to become important.\n"
   ]
  },
  {
   "cell_type": "markdown",
   "metadata": {},
   "source": [
    "### Case2: Long experiment time "
   ]
  },
  {
   "cell_type": "code",
   "execution_count": 7,
   "metadata": {
    "execution": {
     "iopub.execute_input": "2021-03-31T17:10:49.771694Z",
     "iopub.status.busy": "2021-03-31T17:10:49.771105Z",
     "iopub.status.idle": "2021-03-31T17:11:48.318135Z",
     "shell.execute_reply": "2021-03-31T17:11:48.317080Z"
    }
   },
   "outputs": [
    {
     "name": "stdout",
     "output_type": "stream",
     "text": [
      "Starting experimental run with id: 15. \n",
      "Starting experimental run with id: 16. \n",
      "Starting experimental run with id: 17. \n"
     ]
    },
    {
     "name": "stdout",
     "output_type": "stream",
     "text": [
      "Starting experimental run with id: 18. \n",
      "Starting experimental run with id: 19. \n"
     ]
    },
    {
     "name": "stdout",
     "output_type": "stream",
     "text": [
      "Starting experimental run with id: 20. \n"
     ]
    },
    {
     "name": "stdout",
     "output_type": "stream",
     "text": [
      "Starting experimental run with id: 21. \n"
     ]
    },
    {
     "name": "stdout",
     "output_type": "stream",
     "text": [
      "Starting experimental run with id: 22. \n"
     ]
    },
    {
     "name": "stdout",
     "output_type": "stream",
     "text": [
      "Starting experimental run with id: 23. \n"
     ]
    },
    {
     "name": "stdout",
     "output_type": "stream",
     "text": [
      "Starting experimental run with id: 24. \n"
     ]
    },
    {
     "name": "stdout",
     "output_type": "stream",
     "text": [
      "Starting experimental run with id: 25. \n"
     ]
    },
    {
     "name": "stdout",
     "output_type": "stream",
     "text": [
      "Starting experimental run with id: 26. \n"
     ]
    },
    {
     "name": "stdout",
     "output_type": "stream",
     "text": [
      "Starting experimental run with id: 27. \n"
     ]
    },
    {
     "name": "stdout",
     "output_type": "stream",
     "text": [
      "Starting experimental run with id: 28. \n"
     ]
    }
   ],
   "source": [
    "sizes = [1,500,1000,2000,3000,4000,5000]\n",
    "nreps = 100\n",
    "t_numeric = []\n",
    "t_numeric_add = []\n",
    "t_numeric_run_ids = []\n",
    "t_array = []\n",
    "t_array_add = []\n",
    "t_array_run_ids = []\n",
    "for size in sizes:\n",
    "    tn, tna, run_id_n =  insert_data('numeric', size, nreps=nreps)\n",
    "    t_numeric.append(tn)\n",
    "    t_numeric_add.append(tna)\n",
    "    t_numeric_run_ids.append(run_id_n)\n",
    "\n",
    "    ta, taa, run_id_a =  insert_data('array', size, nreps=nreps)\n",
    "    t_array.append(ta)\n",
    "    t_array_add.append(taa)\n",
    "    t_array_run_ids.append(run_id_a)"
   ]
  },
  {
   "cell_type": "code",
   "execution_count": 8,
   "metadata": {
    "execution": {
     "iopub.execute_input": "2021-03-31T17:11:48.338803Z",
     "iopub.status.busy": "2021-03-31T17:11:48.336770Z",
     "iopub.status.idle": "2021-03-31T17:11:48.496990Z",
     "shell.execute_reply": "2021-03-31T17:11:48.497443Z"
    },
    "scrolled": true
   },
   "outputs": [
    {
     "data": {
      "image/png": "[encoded data removed]",
      "text/plain": [
       "<Figure size 432x288 with 1 Axes>"
      ]
     },
     "metadata": {
      "needs_background": "light"
     },
     "output_type": "display_data"
    }
   ],
   "source": [
    "fig, ax = plt.subplots(1,1)\n",
    "ax.plot(sizes, t_numeric, 'o-', label='Inserting row-by-row')\n",
    "ax.plot(sizes, t_numeric_add, 'o-', label='Inserting row-by-row: add_result only')\n",
    "ax.plot(sizes, t_array, 'd-', label='Inserting as binary blob')\n",
    "ax.plot(sizes, t_array_add, 'd-', label='Inserting as binary blob: add_result only')\n",
    "ax.legend()\n",
    "ax.set_xlabel('Array length')\n",
    "ax.set_ylabel('Time (s)')\n",
    "fig.tight_layout()"
   ]
  },
  {
   "cell_type": "markdown",
   "metadata": {},
   "source": [
    "However, as we increase the length of the experiment, as seen here by repeating the insertion 100 times, we see a big difference between inserting values of the data row-by-row and inserting it as a binary blob."
   ]
  },
  {
   "cell_type": "markdown",
   "metadata": {},
   "source": [
    "## Loading the data "
   ]
  },
  {
   "cell_type": "code",
   "execution_count": 9,
   "metadata": {
    "execution": {
     "iopub.execute_input": "2021-03-31T17:11:48.501284Z",
     "iopub.status.busy": "2021-03-31T17:11:48.500501Z",
     "iopub.status.idle": "2021-03-31T17:11:48.504000Z",
     "shell.execute_reply": "2021-03-31T17:11:48.503543Z"
    }
   },
   "outputs": [],
   "source": [
    "from qcodes.dataset.data_set import load_by_id\n",
    "from qcodes.dataset.data_export import get_data_by_id"
   ]
  },
  {
   "cell_type": "markdown",
   "metadata": {},
   "source": [
    "As usual you can load the data by using the ``load_by_id`` function but you will notice that the different storage methods\n",
    "are reflected in shape of the data as it is retrieved. "
   ]
  },
  {
   "cell_type": "code",
   "execution_count": 10,
   "metadata": {
    "execution": {
     "iopub.execute_input": "2021-03-31T17:11:48.507721Z",
     "iopub.status.busy": "2021-03-31T17:11:48.507131Z",
     "iopub.status.idle": "2021-03-31T17:11:48.510212Z",
     "shell.execute_reply": "2021-03-31T17:11:48.510691Z"
    }
   },
   "outputs": [],
   "source": [
    "run_id_n = t_numeric_run_ids[0]\n",
    "run_id_a = t_array_run_ids[0]"
   ]
  },
  {
   "cell_type": "code",
   "execution_count": 11,
   "metadata": {
    "execution": {
     "iopub.execute_input": "2021-03-31T17:11:48.513729Z",
     "iopub.status.busy": "2021-03-31T17:11:48.513240Z",
     "iopub.status.idle": "2021-03-31T17:11:48.521901Z",
     "shell.execute_reply": "2021-03-31T17:11:48.521487Z"
    },
    "scrolled": true
   },
   "outputs": [
    {
     "data": {
      "text/plain": [
       "{'x1': {'x1': array([0.08400197, 0.08400197, 0.18658391, 0.18658391, 0.60277504,\n",
       "         0.60277504, 0.76844387, 0.76844387, 0.47528498, 0.47528498,\n",
       "         0.28452825, 0.28452825, 0.68120808, 0.68120808, 0.24086446,\n",
       "         0.24086446, 0.69025158, 0.69025158, 0.48711156, 0.48711156,\n",
       "         0.9517786 , 0.9517786 , 0.80563698, 0.80563698, 0.93732308,\n",
       "         0.93732308, 0.74957654, 0.74957654, 0.82609716, 0.82609716,\n",
       "         0.37362198, 0.37362198, 0.08765284, 0.08765284, 0.65371391,\n",
       "         0.65371391, 0.17153211, 0.17153211, 0.22203897, 0.22203897,\n",
       "         0.65994316, 0.65994316, 0.52202503, 0.52202503, 0.30338041,\n",
       "         0.30338041, 0.47658145, 0.47658145, 0.48769557, 0.48769557,\n",
       "         0.26424   , 0.26424   , 0.96454431, 0.96454431, 0.76760984,\n",
       "         0.76760984, 0.52714292, 0.52714292, 0.54698087, 0.54698087,\n",
       "         0.77357062, 0.77357062, 0.22775869, 0.22775869, 0.0998935 ,\n",
       "         0.0998935 , 0.47096299, 0.47096299, 0.34342652, 0.34342652,\n",
       "         0.24088677, 0.24088677, 0.87959612, 0.87959612, 0.97930354,\n",
       "         0.97930354, 0.85879054, 0.85879054, 0.25178331, 0.25178331,\n",
       "         0.30752717, 0.30752717, 0.57604507, 0.57604507, 0.73691103,\n",
       "         0.73691103, 0.65906118, 0.65906118, 0.31246148, 0.31246148,\n",
       "         0.82608259, 0.82608259, 0.01511563, 0.01511563, 0.04233618,\n",
       "         0.04233618, 0.96044918, 0.96044918, 0.6594795 , 0.6594795 ,\n",
       "         0.56427739, 0.56427739, 0.93960739, 0.93960739, 0.08476789,\n",
       "         0.08476789, 0.21774345, 0.21774345, 0.08609514, 0.08609514,\n",
       "         0.88835917, 0.88835917, 0.55964824, 0.55964824, 0.52653141,\n",
       "         0.52653141, 0.35301344, 0.35301344, 0.86595364, 0.86595364,\n",
       "         0.3065062 , 0.3065062 , 0.35689132, 0.35689132, 0.80125701,\n",
       "         0.80125701, 0.05034582, 0.05034582, 0.46829835, 0.46829835,\n",
       "         0.05565749, 0.05565749, 0.68959819, 0.68959819, 0.39272843,\n",
       "         0.39272843, 0.78486765, 0.78486765, 0.15380019, 0.15380019,\n",
       "         0.37668434, 0.37668434, 0.44918309, 0.44918309, 0.50747442,\n",
       "         0.50747442, 0.70938853, 0.70938853, 0.34567864, 0.34567864,\n",
       "         0.81502567, 0.81502567, 0.16038088, 0.16038088, 0.35212026,\n",
       "         0.35212026, 0.67803053, 0.67803053, 0.70235401, 0.70235401,\n",
       "         0.99937469, 0.99937469, 0.17258332, 0.17258332, 0.31314141,\n",
       "         0.31314141, 0.12805543, 0.12805543, 0.55740528, 0.55740528,\n",
       "         0.22793248, 0.22793248, 0.28294793, 0.28294793, 0.80230372,\n",
       "         0.80230372, 0.59622429, 0.59622429, 0.21018671, 0.21018671,\n",
       "         0.41241153, 0.41241153, 0.09354699, 0.09354699, 0.74851335,\n",
       "         0.74851335, 0.02639764, 0.02639764, 0.19424974, 0.19424974,\n",
       "         0.49458578, 0.49458578, 0.76098409, 0.76098409, 0.6986936 ,\n",
       "         0.6986936 , 0.70691855, 0.70691855, 0.03182395, 0.03182395])}}"
      ]
     },
     "execution_count": 1,
     "metadata": {},
     "output_type": "execute_result"
    }
   ],
   "source": [
    "ds = load_by_id(run_id_n)\n",
    "ds.get_parameter_data('x1')"
   ]
  },
  {
   "cell_type": "markdown",
   "metadata": {},
   "source": [
    "And a dataset stored as binary arrays"
   ]
  },
  {
   "cell_type": "code",
   "execution_count": 12,
   "metadata": {
    "execution": {
     "iopub.execute_input": "2021-03-31T17:11:48.524830Z",
     "iopub.status.busy": "2021-03-31T17:11:48.524291Z",
     "iopub.status.idle": "2021-03-31T17:11:48.579830Z",
     "shell.execute_reply": "2021-03-31T17:11:48.579351Z"
    },
    "scrolled": true
   },
   "outputs": [
    {
     "data": {
      "text/plain": [
       "{'x1': {'x1': array([[0.76497561],\n",
       "         [0.76497561],\n",
       "         [0.56584179],\n",
       "         [0.56584179],\n",
       "         [0.78436656],\n",
       "         [0.78436656],\n",
       "         [0.84248562],\n",
       "         [0.84248562],\n",
       "         [0.62512141],\n",
       "         [0.62512141],\n",
       "         [0.16515639],\n",
       "         [0.16515639],\n",
       "         [0.51414411],\n",
       "         [0.51414411],\n",
       "         [0.44144303],\n",
       "         [0.44144303],\n",
       "         [0.50974382],\n",
       "         [0.50974382],\n",
       "         [0.04899155],\n",
       "         [0.04899155],\n",
       "         [0.70469796],\n",
       "         [0.70469796],\n",
       "         [0.15377517],\n",
       "         [0.15377517],\n",
       "         [0.12667084],\n",
       "         [0.12667084],\n",
       "         [0.10345052],\n",
       "         [0.10345052],\n",
       "         [0.37515345],\n",
       "         [0.37515345],\n",
       "         [0.25670005],\n",
       "         [0.25670005],\n",
       "         [0.78874458],\n",
       "         [0.78874458],\n",
       "         [0.66803682],\n",
       "         [0.66803682],\n",
       "         [0.55731377],\n",
       "         [0.55731377],\n",
       "         [0.44168467],\n",
       "         [0.44168467],\n",
       "         [0.65625236],\n",
       "         [0.65625236],\n",
       "         [0.0688365 ],\n",
       "         [0.0688365 ],\n",
       "         [0.92516865],\n",
       "         [0.92516865],\n",
       "         [0.27415497],\n",
       "         [0.27415497],\n",
       "         [0.45415363],\n",
       "         [0.45415363],\n",
       "         [0.27319764],\n",
       "         [0.27319764],\n",
       "         [0.81730279],\n",
       "         [0.81730279],\n",
       "         [0.55199005],\n",
       "         [0.55199005],\n",
       "         [0.88070468],\n",
       "         [0.88070468],\n",
       "         [0.41846004],\n",
       "         [0.41846004],\n",
       "         [0.02397143],\n",
       "         [0.02397143],\n",
       "         [0.54307564],\n",
       "         [0.54307564],\n",
       "         [0.4883221 ],\n",
       "         [0.4883221 ],\n",
       "         [0.85565109],\n",
       "         [0.85565109],\n",
       "         [0.18604572],\n",
       "         [0.18604572],\n",
       "         [0.64877986],\n",
       "         [0.64877986],\n",
       "         [0.75359386],\n",
       "         [0.75359386],\n",
       "         [0.73087264],\n",
       "         [0.73087264],\n",
       "         [0.46300351],\n",
       "         [0.46300351],\n",
       "         [0.25864181],\n",
       "         [0.25864181],\n",
       "         [0.90312407],\n",
       "         [0.90312407],\n",
       "         [0.12396945],\n",
       "         [0.12396945],\n",
       "         [0.55332875],\n",
       "         [0.55332875],\n",
       "         [0.97508829],\n",
       "         [0.97508829],\n",
       "         [0.98923806],\n",
       "         [0.98923806],\n",
       "         [0.25982935],\n",
       "         [0.25982935],\n",
       "         [0.13584855],\n",
       "         [0.13584855],\n",
       "         [0.02699026],\n",
       "         [0.02699026],\n",
       "         [0.47786815],\n",
       "         [0.47786815],\n",
       "         [0.04187452],\n",
       "         [0.04187452],\n",
       "         [0.09400081],\n",
       "         [0.09400081],\n",
       "         [0.896495  ],\n",
       "         [0.896495  ],\n",
       "         [0.40533426],\n",
       "         [0.40533426],\n",
       "         [0.18863736],\n",
       "         [0.18863736],\n",
       "         [0.16779279],\n",
       "         [0.16779279],\n",
       "         [0.73819452],\n",
       "         [0.73819452],\n",
       "         [0.19295216],\n",
       "         [0.19295216],\n",
       "         [0.46858339],\n",
       "         [0.46858339],\n",
       "         [0.47198666],\n",
       "         [0.47198666],\n",
       "         [0.03105176],\n",
       "         [0.03105176],\n",
       "         [0.40490172],\n",
       "         [0.40490172],\n",
       "         [0.11339514],\n",
       "         [0.11339514],\n",
       "         [0.76608674],\n",
       "         [0.76608674],\n",
       "         [0.95499091],\n",
       "         [0.95499091],\n",
       "         [0.05430358],\n",
       "         [0.05430358],\n",
       "         [0.05226915],\n",
       "         [0.05226915],\n",
       "         [0.22714039],\n",
       "         [0.22714039],\n",
       "         [0.64777448],\n",
       "         [0.64777448],\n",
       "         [0.10834831],\n",
       "         [0.10834831],\n",
       "         [0.39523429],\n",
       "         [0.39523429],\n",
       "         [0.57026089],\n",
       "         [0.57026089],\n",
       "         [0.58661233],\n",
       "         [0.58661233],\n",
       "         [0.82256512],\n",
       "         [0.82256512],\n",
       "         [0.88584022],\n",
       "         [0.88584022],\n",
       "         [0.67744208],\n",
       "         [0.67744208],\n",
       "         [0.63914643],\n",
       "         [0.63914643],\n",
       "         [0.65362594],\n",
       "         [0.65362594],\n",
       "         [0.73128486],\n",
       "         [0.73128486],\n",
       "         [0.84442452],\n",
       "         [0.84442452],\n",
       "         [0.23006576],\n",
       "         [0.23006576],\n",
       "         [0.18319395],\n",
       "         [0.18319395],\n",
       "         [0.986111  ],\n",
       "         [0.986111  ],\n",
       "         [0.29821486],\n",
       "         [0.29821486],\n",
       "         [0.55478116],\n",
       "         [0.55478116],\n",
       "         [0.17541447],\n",
       "         [0.17541447],\n",
       "         [0.55514395],\n",
       "         [0.55514395],\n",
       "         [0.55370198],\n",
       "         [0.55370198],\n",
       "         [0.52505653],\n",
       "         [0.52505653],\n",
       "         [0.96470555],\n",
       "         [0.96470555],\n",
       "         [0.93274532],\n",
       "         [0.93274532],\n",
       "         [0.04578239],\n",
       "         [0.04578239],\n",
       "         [0.07359267],\n",
       "         [0.07359267],\n",
       "         [0.42605347],\n",
       "         [0.42605347],\n",
       "         [0.24578031],\n",
       "         [0.24578031],\n",
       "         [0.05066565],\n",
       "         [0.05066565],\n",
       "         [0.70100957],\n",
       "         [0.70100957],\n",
       "         [0.11861396],\n",
       "         [0.11861396],\n",
       "         [0.66764646],\n",
       "         [0.66764646],\n",
       "         [0.99253459],\n",
       "         [0.99253459],\n",
       "         [0.59405367],\n",
       "         [0.59405367]])}}"
      ]
     },
     "execution_count": 1,
     "metadata": {},
     "output_type": "execute_result"
    }
   ],
   "source": [
    "ds = load_by_id(run_id_a)\n",
    "ds.get_parameter_data('x1')"
   ]
  },
  {
   "cell_type": "code",
   "execution_count": null,
   "metadata": {},
   "outputs": [],
   "source": []
  }
 ],
 "metadata": {
  "kernelspec": {
   "display_name": "Python 3",
   "language": "python",
   "name": "python3"
  },
  "language_info": {
   "codemirror_mode": {
    "name": "ipython",
    "version": 3
   },
   "file_extension": ".py",
   "mimetype": "text/x-python",
   "name": "python",
   "nbconvert_exporter": "python",
   "pygments_lexer": "ipython3",
   "version": "3.7.10"
  },
  "nbsphinx": {
   "timeout": 600
  },
  "toc": {
   "base_numbering": 1,
   "nav_menu": {},
   "number_sections": true,
   "sideBar": true,
   "skip_h1_title": false,
   "title_cell": "Table of Contents",
   "title_sidebar": "Contents",
   "toc_cell": false,
   "toc_position": {},
   "toc_section_display": true,
   "toc_window_display": false
  },
  "varInspector": {
   "cols": {
    "lenName": 16,
    "lenType": 16,
    "lenVar": 40
   },
   "kernels_config": {
    "python": {
     "delete_cmd_postfix": "",
     "delete_cmd_prefix": "del ",
     "library": "var_list.py",
     "varRefreshCmd": "print(var_dic_list())"
    },
    "r": {
     "delete_cmd_postfix": ") ",
     "delete_cmd_prefix": "rm(",
     "library": "var_list.r",
     "varRefreshCmd": "cat(var_dic_list()) "
    }
   },
   "types_to_exclude": [
    "module",
    "function",
    "builtin_function_or_method",
    "instance",
    "_Feature"
   ],
   "window_display": false
  }
 },
 "nbformat": 4,
 "nbformat_minor": 2
}
