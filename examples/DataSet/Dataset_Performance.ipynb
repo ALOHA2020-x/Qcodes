{
 "cells": [
  {
   "cell_type": "markdown",
   "metadata": {},
   "source": [
    "# DataSet Performance\n",
    "\n",
    "This notebook shows the trade-off between inserting data into a database row-by-row and as binary blobs. Inserting the data row-by-row means that we have direct access to all the data and may perform queries directly on the values of the data. On the other hand, as we shall see, this is much slower than inserting the data directly as binary blobs."
   ]
  },
  {
   "cell_type": "markdown",
   "metadata": {},
   "source": [
    "First, we choose a new location for the database to ensure that we don't add a bunch of benchmarking data to the default one."
   ]
  },
  {
   "cell_type": "code",
   "execution_count": 1,
   "metadata": {},
   "outputs": [
    {
     "name": "stdout",
     "output_type": "stream",
     "text": [
      "Logging hadn't been started.\n",
      "Activating auto-logging. Current session state plus future input saved.\n",
      "Filename       : /home/vsts/.qcodes/logs/command_history.log\n",
      "Mode           : append\n",
      "Output logging : True\n",
      "Raw input log  : False\n",
      "Timestamping   : True\n",
      "State          : active\n"
     ]
    },
    {
     "name": "stdout",
     "output_type": "stream",
     "text": [
      "Qcodes Logfile : /home/vsts/.qcodes/logs/200320-18905-qcodes.log\n"
     ]
    }
   ],
   "source": [
    "import os\n",
    "cwd = os.getcwd()\n",
    "import qcodes as qc\n",
    "qc.config[\"core\"][\"db_location\"] = os.path.join(cwd, 'testing.db')\n"
   ]
  },
  {
   "cell_type": "code",
   "execution_count": 2,
   "metadata": {},
   "outputs": [],
   "source": [
    "%matplotlib inline\n",
    "import time\n",
    "import matplotlib.pyplot as plt\n",
    "import numpy as np\n",
    "\n",
    "import qcodes as qc\n",
    "from qcodes.instrument.parameter import ManualParameter\n",
    "from qcodes.dataset.experiment_container import (Experiment,\n",
    "                                                 load_last_experiment,\n",
    "                                                 new_experiment)\n",
    "from qcodes.dataset.sqlite.database import initialise_database\n",
    "from qcodes import load_or_create_experiment\n",
    "from qcodes.dataset.measurements import Measurement"
   ]
  },
  {
   "cell_type": "code",
   "execution_count": 3,
   "metadata": {},
   "outputs": [
    {
     "name": "stdout",
     "output_type": "stream",
     "text": [
      "\r",
      "0it [00:00, ?it/s]"
     ]
    },
    {
     "name": "stdout",
     "output_type": "stream",
     "text": [
      "\r",
      "Upgrading database; v0 -> v1: : 0it [00:00, ?it/s]"
     ]
    },
    {
     "name": "stdout",
     "output_type": "stream",
     "text": [
      "\r",
      "Upgrading database; v0 -> v1: : 0it [00:00, ?it/s]"
     ]
    },
    {
     "name": "stdout",
     "output_type": "stream",
     "text": [
      "\n",
      "\r",
      "  0%|          | 0/1 [00:00<?, ?it/s]"
     ]
    },
    {
     "name": "stdout",
     "output_type": "stream",
     "text": [
      "\r",
      "Upgrading database; v1 -> v2:   0%|          | 0/1 [00:00<?, ?it/s]"
     ]
    },
    {
     "name": "stdout",
     "output_type": "stream",
     "text": [
      "\r",
      "Upgrading database; v1 -> v2: 100%|██████████| 1/1 [00:00<00:00, 680.45it/s]"
     ]
    },
    {
     "name": "stdout",
     "output_type": "stream",
     "text": [
      "\n",
      "\r",
      "0it [00:00, ?it/s]"
     ]
    },
    {
     "name": "stdout",
     "output_type": "stream",
     "text": [
      "\r",
      "Upgrading database; v2 -> v3: : 0it [00:00, ?it/s]"
     ]
    },
    {
     "name": "stdout",
     "output_type": "stream",
     "text": [
      "\r",
      "Upgrading database; v2 -> v3: : 0it [00:00, ?it/s]"
     ]
    },
    {
     "name": "stdout",
     "output_type": "stream",
     "text": [
      "\n",
      "\r",
      "0it [00:00, ?it/s]"
     ]
    },
    {
     "name": "stdout",
     "output_type": "stream",
     "text": [
      "\r",
      "Upgrading database; v3 -> v4: : 0it [00:00, ?it/s]"
     ]
    },
    {
     "name": "stdout",
     "output_type": "stream",
     "text": [
      "\r",
      "Upgrading database; v3 -> v4: : 0it [00:00, ?it/s]"
     ]
    },
    {
     "name": "stdout",
     "output_type": "stream",
     "text": [
      "\n",
      "\r",
      "  0%|          | 0/1 [00:00<?, ?it/s]"
     ]
    },
    {
     "name": "stdout",
     "output_type": "stream",
     "text": [
      "\r",
      "Upgrading database; v4 -> v5:   0%|          | 0/1 [00:00<?, ?it/s]"
     ]
    },
    {
     "name": "stdout",
     "output_type": "stream",
     "text": [
      "\r",
      "Upgrading database; v4 -> v5: 100%|██████████| 1/1 [00:00<00:00, 758.60it/s]"
     ]
    },
    {
     "name": "stdout",
     "output_type": "stream",
     "text": [
      "\n",
      "\r",
      "0it [00:00, ?it/s]"
     ]
    },
    {
     "name": "stdout",
     "output_type": "stream",
     "text": [
      "\r",
      "Upgrading database; v5 -> v6: : 0it [00:00, ?it/s]"
     ]
    },
    {
     "name": "stdout",
     "output_type": "stream",
     "text": [
      "\r",
      "Upgrading database; v5 -> v6: : 0it [00:00, ?it/s]"
     ]
    },
    {
     "name": "stdout",
     "output_type": "stream",
     "text": [
      "\n",
      "\r",
      "  0%|          | 0/1 [00:00<?, ?it/s]"
     ]
    },
    {
     "name": "stdout",
     "output_type": "stream",
     "text": [
      "\r",
      "Upgrading database; v6 -> v7:   0%|          | 0/1 [00:00<?, ?it/s]"
     ]
    },
    {
     "name": "stdout",
     "output_type": "stream",
     "text": [
      "\r",
      "Upgrading database; v6 -> v7: 100%|██████████| 1/1 [00:00<00:00, 375.16it/s]"
     ]
    },
    {
     "name": "stdout",
     "output_type": "stream",
     "text": [
      "\n",
      "\r",
      "  0%|          | 0/1 [00:00<?, ?it/s]"
     ]
    },
    {
     "name": "stdout",
     "output_type": "stream",
     "text": [
      "\r",
      "Upgrading database; v7 -> v8:   0%|          | 0/1 [00:00<?, ?it/s]"
     ]
    },
    {
     "name": "stdout",
     "output_type": "stream",
     "text": [
      "\r",
      "Upgrading database; v7 -> v8: 100%|██████████| 1/1 [00:00<00:00, 706.35it/s]"
     ]
    },
    {
     "name": "stdout",
     "output_type": "stream",
     "text": [
      "\n",
      "\r",
      "  0%|          | 0/1 [00:00<?, ?it/s]"
     ]
    },
    {
     "name": "stdout",
     "output_type": "stream",
     "text": [
      "\r",
      "Upgrading database; v8 -> v9:   0%|          | 0/1 [00:00<?, ?it/s]"
     ]
    },
    {
     "name": "stdout",
     "output_type": "stream",
     "text": [
      "\r",
      "Upgrading database; v8 -> v9: 100%|██████████| 1/1 [00:00<00:00, 1104.93it/s]"
     ]
    },
    {
     "name": "stdout",
     "output_type": "stream",
     "text": [
      "\n"
     ]
    }
   ],
   "source": [
    "initialise_database()\n",
    "exp = load_or_create_experiment(experiment_name='tutorial_exp', sample_name=\"no sample\")"
   ]
  },
  {
   "cell_type": "markdown",
   "metadata": {},
   "source": [
    "Here, we define a simple function to benchmark the time it takes to insert n points with either numeric or array data type.\n",
    "We will compare both the time used to call ``add_result`` and the time used for the full measurement."
   ]
  },
  {
   "cell_type": "code",
   "execution_count": 4,
   "metadata": {},
   "outputs": [],
   "source": [
    "def insert_data(paramtype, npoints, nreps=1):\n",
    "\n",
    "    meas = Measurement(exp=exp)\n",
    "\n",
    "    x1 = ManualParameter('x1')\n",
    "    x2 = ManualParameter('x2')\n",
    "    x3 = ManualParameter('x3')\n",
    "    y1 = ManualParameter('y1')\n",
    "    y2 = ManualParameter('y2')\n",
    "\n",
    "    meas.register_parameter(x1, paramtype=paramtype)\n",
    "    meas.register_parameter(x2, paramtype=paramtype)\n",
    "    meas.register_parameter(x3, paramtype=paramtype)\n",
    "    meas.register_parameter(y1, setpoints=[x1, x2, x3],\n",
    "                            paramtype=paramtype)\n",
    "    meas.register_parameter(y2, setpoints=[x1, x2, x3],\n",
    "                            paramtype=paramtype)\n",
    "    start = time.perf_counter()\n",
    "    with meas.run() as datasaver:\n",
    "        start_adding = time.perf_counter()\n",
    "        for i in range(nreps):\n",
    "            datasaver.add_result((x1, np.random.rand(npoints)),\n",
    "                                 (x2, np.random.rand(npoints)),\n",
    "                                 (x3, np.random.rand(npoints)),\n",
    "                                 (y1, np.random.rand(npoints)),\n",
    "                                 (y2, np.random.rand(npoints)))\n",
    "        stop_adding = time.perf_counter()\n",
    "        run_id = datasaver.run_id\n",
    "    stop = time.perf_counter()\n",
    "    tot_time = stop - start\n",
    "    add_time = stop_adding - start_adding\n",
    "    return tot_time, add_time, run_id"
   ]
  },
  {
   "cell_type": "markdown",
   "metadata": {},
   "source": [
    "## Comparison between numeric/array data and binary blob"
   ]
  },
  {
   "cell_type": "markdown",
   "metadata": {},
   "source": [
    "### Case1: Short experiment time"
   ]
  },
  {
   "cell_type": "code",
   "execution_count": 5,
   "metadata": {},
   "outputs": [
    {
     "name": "stdout",
     "output_type": "stream",
     "text": [
      "Starting experimental run with id: 1. \n",
      "Starting experimental run with id: 2. \n"
     ]
    },
    {
     "name": "stdout",
     "output_type": "stream",
     "text": [
      "Starting experimental run with id: 3. \n"
     ]
    },
    {
     "name": "stdout",
     "output_type": "stream",
     "text": [
      "Starting experimental run with id: 4. \n"
     ]
    },
    {
     "name": "stdout",
     "output_type": "stream",
     "text": [
      "Starting experimental run with id: 5. \n",
      "Starting experimental run with id: 6. \n"
     ]
    },
    {
     "name": "stdout",
     "output_type": "stream",
     "text": [
      "Starting experimental run with id: 7. \n"
     ]
    },
    {
     "name": "stdout",
     "output_type": "stream",
     "text": [
      "Starting experimental run with id: 8. \n",
      "Starting experimental run with id: 9. \n"
     ]
    },
    {
     "name": "stdout",
     "output_type": "stream",
     "text": [
      "Starting experimental run with id: 10. \n",
      "Starting experimental run with id: 11. \n"
     ]
    },
    {
     "name": "stdout",
     "output_type": "stream",
     "text": [
      "Starting experimental run with id: 12. \n"
     ]
    },
    {
     "name": "stdout",
     "output_type": "stream",
     "text": [
      "Starting experimental run with id: 13. \n"
     ]
    },
    {
     "name": "stdout",
     "output_type": "stream",
     "text": [
      "Starting experimental run with id: 14. \n"
     ]
    }
   ],
   "source": [
    "sizes = [1,500,1000,2000,3000,4000,5000]\n",
    "t_numeric = []\n",
    "t_numeric_add = []\n",
    "t_array = []\n",
    "t_array_add = []\n",
    "for size in sizes:\n",
    "    tn, tna, run_id_n =  insert_data('numeric', size)\n",
    "    t_numeric.append(tn)\n",
    "    t_numeric_add.append(tna)\n",
    "\n",
    "    ta, taa, run_id_a =  insert_data('array', size)\n",
    "    t_array.append(ta)\n",
    "    t_array_add.append(taa)"
   ]
  },
  {
   "cell_type": "code",
   "execution_count": 6,
   "metadata": {},
   "outputs": [
    {
     "data": {
      "image/png": "[encoded data removed]",
      "text/plain": [
       "<Figure size 432x288 with 1 Axes>"
      ]
     },
     "metadata": {
      "needs_background": "light"
     },
     "output_type": "display_data"
    }
   ],
   "source": [
    "fig, ax = plt.subplots(1,1)\n",
    "ax.plot(sizes, t_numeric, 'o-', label='Inserting row-by-row')\n",
    "ax.plot(sizes, t_numeric_add, 'o-', label='Inserting row-by-row: add_result only')\n",
    "ax.plot(sizes, t_array, 'd-', label='Inserting as binary blob')\n",
    "ax.plot(sizes, t_array_add, 'd-', label='Inserting as binary blob: add_result only')\n",
    "ax.legend()\n",
    "ax.set_xlabel('Array length')\n",
    "ax.set_ylabel('Time (s)')\n",
    "fig.tight_layout()"
   ]
  },
  {
   "cell_type": "markdown",
   "metadata": {},
   "source": [
    "As shown in the latter figure, the time to setup and and close the experiment is approximately 0.4 sec. In case of small array sizes, the difference between inserting values of data as arrays and inserting them row-by-row is relatively unimportant. At larger array sizes, i.e. above 10000 points, the cost of writing data as individual datapoints starts to become important.\n"
   ]
  },
  {
   "cell_type": "markdown",
   "metadata": {},
   "source": [
    "### Case2: Long experiment time "
   ]
  },
  {
   "cell_type": "code",
   "execution_count": 7,
   "metadata": {},
   "outputs": [
    {
     "name": "stdout",
     "output_type": "stream",
     "text": [
      "Starting experimental run with id: 15. \n",
      "Starting experimental run with id: 16. \n",
      "Starting experimental run with id: 17. \n"
     ]
    },
    {
     "name": "stdout",
     "output_type": "stream",
     "text": [
      "Starting experimental run with id: 18. \n",
      "Starting experimental run with id: 19. \n"
     ]
    },
    {
     "name": "stdout",
     "output_type": "stream",
     "text": [
      "Starting experimental run with id: 20. \n"
     ]
    },
    {
     "name": "stdout",
     "output_type": "stream",
     "text": [
      "Starting experimental run with id: 21. \n"
     ]
    },
    {
     "name": "stdout",
     "output_type": "stream",
     "text": [
      "Starting experimental run with id: 22. \n"
     ]
    },
    {
     "name": "stdout",
     "output_type": "stream",
     "text": [
      "Starting experimental run with id: 23. \n"
     ]
    },
    {
     "name": "stdout",
     "output_type": "stream",
     "text": [
      "Starting experimental run with id: 24. \n"
     ]
    },
    {
     "name": "stdout",
     "output_type": "stream",
     "text": [
      "Starting experimental run with id: 25. \n"
     ]
    },
    {
     "name": "stdout",
     "output_type": "stream",
     "text": [
      "Starting experimental run with id: 26. \n"
     ]
    },
    {
     "name": "stdout",
     "output_type": "stream",
     "text": [
      "Starting experimental run with id: 27. \n"
     ]
    },
    {
     "name": "stdout",
     "output_type": "stream",
     "text": [
      "Starting experimental run with id: 28. \n"
     ]
    }
   ],
   "source": [
    "sizes = [1,500,1000,2000,3000,4000,5000]\n",
    "nreps = 100\n",
    "t_numeric = []\n",
    "t_numeric_add = []\n",
    "t_numeric_run_ids = []\n",
    "t_array = []\n",
    "t_array_add = []\n",
    "t_array_run_ids = []\n",
    "for size in sizes:\n",
    "    tn, tna, run_id_n =  insert_data('numeric', size, nreps=nreps)\n",
    "    t_numeric.append(tn)\n",
    "    t_numeric_add.append(tna)\n",
    "    t_numeric_run_ids.append(run_id_n)\n",
    "\n",
    "    ta, taa, run_id_a =  insert_data('array', size, nreps=nreps)\n",
    "    t_array.append(ta)\n",
    "    t_array_add.append(taa)\n",
    "    t_array_run_ids.append(run_id_a)"
   ]
  },
  {
   "cell_type": "code",
   "execution_count": 8,
   "metadata": {
    "scrolled": true
   },
   "outputs": [
    {
     "data": {
      "image/png": "[encoded data removed]",
      "text/plain": [
       "<Figure size 432x288 with 1 Axes>"
      ]
     },
     "metadata": {
      "needs_background": "light"
     },
     "output_type": "display_data"
    }
   ],
   "source": [
    "fig, ax = plt.subplots(1,1)\n",
    "ax.plot(sizes, t_numeric, 'o-', label='Inserting row-by-row')\n",
    "ax.plot(sizes, t_numeric_add, 'o-', label='Inserting row-by-row: add_result only')\n",
    "ax.plot(sizes, t_array, 'd-', label='Inserting as binary blob')\n",
    "ax.plot(sizes, t_array_add, 'd-', label='Inserting as binary blob: add_result only')\n",
    "ax.legend()\n",
    "ax.set_xlabel('Array length')\n",
    "ax.set_ylabel('Time (s)')\n",
    "fig.tight_layout()"
   ]
  },
  {
   "cell_type": "markdown",
   "metadata": {},
   "source": [
    "However, as we increase the length of the experiment, as seen here by repeating the insertion 100 times, we see a big difference between inserting values of the data row-by-row and inserting it as a binary blob."
   ]
  },
  {
   "cell_type": "markdown",
   "metadata": {},
   "source": [
    "## Loading the data "
   ]
  },
  {
   "cell_type": "code",
   "execution_count": 9,
   "metadata": {},
   "outputs": [],
   "source": [
    "from qcodes.dataset.data_set import load_by_id\n",
    "from qcodes.dataset.data_export import get_data_by_id"
   ]
  },
  {
   "cell_type": "markdown",
   "metadata": {},
   "source": [
    "As usual you can load the data by using the ``load_by_id`` function but you will notice that the different storage methods\n",
    "are reflected in shape of the data as it is retrieved. "
   ]
  },
  {
   "cell_type": "code",
   "execution_count": 10,
   "metadata": {},
   "outputs": [],
   "source": [
    "run_id_n = t_numeric_run_ids[0]\n",
    "run_id_a = t_array_run_ids[0]"
   ]
  },
  {
   "cell_type": "code",
   "execution_count": 11,
   "metadata": {
    "scrolled": true
   },
   "outputs": [
    {
     "data": {
      "text/plain": [
       "{'x1': {'x1': array([0.93012039, 0.93012039, 0.93869597, 0.93869597, 0.59028203,\n",
       "         0.59028203, 0.71315807, 0.71315807, 0.43670211, 0.43670211,\n",
       "         0.24248482, 0.24248482, 0.40217163, 0.40217163, 0.39010557,\n",
       "         0.39010557, 0.34556682, 0.34556682, 0.80054505, 0.80054505,\n",
       "         0.85235158, 0.85235158, 0.84233207, 0.84233207, 0.87879276,\n",
       "         0.87879276, 0.19772313, 0.19772313, 0.74337259, 0.74337259,\n",
       "         0.16315096, 0.16315096, 0.62511512, 0.62511512, 0.69595541,\n",
       "         0.69595541, 0.29551143, 0.29551143, 0.23210963, 0.23210963,\n",
       "         0.75082887, 0.75082887, 0.67004555, 0.67004555, 0.01512446,\n",
       "         0.01512446, 0.8650514 , 0.8650514 , 0.70265214, 0.70265214,\n",
       "         0.21315518, 0.21315518, 0.34757808, 0.34757808, 0.92965004,\n",
       "         0.92965004, 0.07022697, 0.07022697, 0.72030704, 0.72030704,\n",
       "         0.65287088, 0.65287088, 0.33518686, 0.33518686, 0.80282938,\n",
       "         0.80282938, 0.60198466, 0.60198466, 0.20031088, 0.20031088,\n",
       "         0.66463594, 0.66463594, 0.44446649, 0.44446649, 0.99580267,\n",
       "         0.99580267, 0.52051789, 0.52051789, 0.23819137, 0.23819137,\n",
       "         0.59742279, 0.59742279, 0.8338635 , 0.8338635 , 0.39178706,\n",
       "         0.39178706, 0.49543434, 0.49543434, 0.11329636, 0.11329636,\n",
       "         0.47823084, 0.47823084, 0.14778024, 0.14778024, 0.1576679 ,\n",
       "         0.1576679 , 0.42276791, 0.42276791, 0.37527602, 0.37527602,\n",
       "         0.63637865, 0.63637865, 0.64508153, 0.64508153, 0.70205364,\n",
       "         0.70205364, 0.24659173, 0.24659173, 0.96685499, 0.96685499,\n",
       "         0.99415478, 0.99415478, 0.22578509, 0.22578509, 0.8650163 ,\n",
       "         0.8650163 , 0.65869011, 0.65869011, 0.90677567, 0.90677567,\n",
       "         0.96536092, 0.96536092, 0.07418744, 0.07418744, 0.03223785,\n",
       "         0.03223785, 0.47535923, 0.47535923, 0.03052558, 0.03052558,\n",
       "         0.42185186, 0.42185186, 0.83053177, 0.83053177, 0.80826485,\n",
       "         0.80826485, 0.15376995, 0.15376995, 0.13677625, 0.13677625,\n",
       "         0.42049939, 0.42049939, 0.35022217, 0.35022217, 0.1509395 ,\n",
       "         0.1509395 , 0.42321461, 0.42321461, 0.88962273, 0.88962273,\n",
       "         0.52388428, 0.52388428, 0.94485332, 0.94485332, 0.3819091 ,\n",
       "         0.3819091 , 0.73202475, 0.73202475, 0.88258555, 0.88258555,\n",
       "         0.02880335, 0.02880335, 0.43806576, 0.43806576, 0.07398156,\n",
       "         0.07398156, 0.51707781, 0.51707781, 0.89285206, 0.89285206,\n",
       "         0.97572021, 0.97572021, 0.43542008, 0.43542008, 0.82231544,\n",
       "         0.82231544, 0.99905728, 0.99905728, 0.19916826, 0.19916826,\n",
       "         0.08237877, 0.08237877, 0.60052324, 0.60052324, 0.39798138,\n",
       "         0.39798138, 0.13645438, 0.13645438, 0.21056118, 0.21056118,\n",
       "         0.45798885, 0.45798885, 0.75824675, 0.75824675, 0.81162699,\n",
       "         0.81162699, 0.41804386, 0.41804386, 0.86006126, 0.86006126])}}"
      ]
     },
     "execution_count": 11,
     "metadata": {},
     "output_type": "execute_result"
    }
   ],
   "source": [
    "ds = load_by_id(run_id_n)\n",
    "ds.get_parameter_data('x1')"
   ]
  },
  {
   "cell_type": "markdown",
   "metadata": {},
   "source": [
    "And a dataset stored as binary arrays"
   ]
  },
  {
   "cell_type": "code",
   "execution_count": 12,
   "metadata": {
    "scrolled": true
   },
   "outputs": [
    {
     "data": {
      "text/plain": [
       "{'x1': {'x1': array([[0.52515485],\n",
       "         [0.52515485],\n",
       "         [0.69261061],\n",
       "         [0.69261061],\n",
       "         [0.1419752 ],\n",
       "         [0.1419752 ],\n",
       "         [0.6858513 ],\n",
       "         [0.6858513 ],\n",
       "         [0.63796908],\n",
       "         [0.63796908],\n",
       "         [0.68405088],\n",
       "         [0.68405088],\n",
       "         [0.8526242 ],\n",
       "         [0.8526242 ],\n",
       "         [0.54169254],\n",
       "         [0.54169254],\n",
       "         [0.06560362],\n",
       "         [0.06560362],\n",
       "         [0.04746162],\n",
       "         [0.04746162],\n",
       "         [0.33354381],\n",
       "         [0.33354381],\n",
       "         [0.0015532 ],\n",
       "         [0.0015532 ],\n",
       "         [0.67414366],\n",
       "         [0.67414366],\n",
       "         [0.8467155 ],\n",
       "         [0.8467155 ],\n",
       "         [0.68039646],\n",
       "         [0.68039646],\n",
       "         [0.42467128],\n",
       "         [0.42467128],\n",
       "         [0.47389526],\n",
       "         [0.47389526],\n",
       "         [0.35101771],\n",
       "         [0.35101771],\n",
       "         [0.66200241],\n",
       "         [0.66200241],\n",
       "         [0.79379687],\n",
       "         [0.79379687],\n",
       "         [0.01959685],\n",
       "         [0.01959685],\n",
       "         [0.78644175],\n",
       "         [0.78644175],\n",
       "         [0.31704655],\n",
       "         [0.31704655],\n",
       "         [0.38869347],\n",
       "         [0.38869347],\n",
       "         [0.18976169],\n",
       "         [0.18976169],\n",
       "         [0.21305274],\n",
       "         [0.21305274],\n",
       "         [0.73008663],\n",
       "         [0.73008663],\n",
       "         [0.51661993],\n",
       "         [0.51661993],\n",
       "         [0.65011234],\n",
       "         [0.65011234],\n",
       "         [0.01128693],\n",
       "         [0.01128693],\n",
       "         [0.65110282],\n",
       "         [0.65110282],\n",
       "         [0.58363023],\n",
       "         [0.58363023],\n",
       "         [0.04692941],\n",
       "         [0.04692941],\n",
       "         [0.96707473],\n",
       "         [0.96707473],\n",
       "         [0.4331838 ],\n",
       "         [0.4331838 ],\n",
       "         [0.89407897],\n",
       "         [0.89407897],\n",
       "         [0.9381089 ],\n",
       "         [0.9381089 ],\n",
       "         [0.97686703],\n",
       "         [0.97686703],\n",
       "         [0.0206634 ],\n",
       "         [0.0206634 ],\n",
       "         [0.59312802],\n",
       "         [0.59312802],\n",
       "         [0.28681288],\n",
       "         [0.28681288],\n",
       "         [0.14824882],\n",
       "         [0.14824882],\n",
       "         [0.47551548],\n",
       "         [0.47551548],\n",
       "         [0.90323693],\n",
       "         [0.90323693],\n",
       "         [0.59883612],\n",
       "         [0.59883612],\n",
       "         [0.84478563],\n",
       "         [0.84478563],\n",
       "         [0.36769023],\n",
       "         [0.36769023],\n",
       "         [0.83628338],\n",
       "         [0.83628338],\n",
       "         [0.34633244],\n",
       "         [0.34633244],\n",
       "         [0.35058038],\n",
       "         [0.35058038],\n",
       "         [0.98322204],\n",
       "         [0.98322204],\n",
       "         [0.98217311],\n",
       "         [0.98217311],\n",
       "         [0.35524002],\n",
       "         [0.35524002],\n",
       "         [0.21283032],\n",
       "         [0.21283032],\n",
       "         [0.52784635],\n",
       "         [0.52784635],\n",
       "         [0.81490619],\n",
       "         [0.81490619],\n",
       "         [0.94139503],\n",
       "         [0.94139503],\n",
       "         [0.6287784 ],\n",
       "         [0.6287784 ],\n",
       "         [0.8170392 ],\n",
       "         [0.8170392 ],\n",
       "         [0.16192439],\n",
       "         [0.16192439],\n",
       "         [0.1442748 ],\n",
       "         [0.1442748 ],\n",
       "         [0.19404983],\n",
       "         [0.19404983],\n",
       "         [0.81773598],\n",
       "         [0.81773598],\n",
       "         [0.78565438],\n",
       "         [0.78565438],\n",
       "         [0.92378261],\n",
       "         [0.92378261],\n",
       "         [0.49143094],\n",
       "         [0.49143094],\n",
       "         [0.74054042],\n",
       "         [0.74054042],\n",
       "         [0.81416682],\n",
       "         [0.81416682],\n",
       "         [0.7163892 ],\n",
       "         [0.7163892 ],\n",
       "         [0.42803596],\n",
       "         [0.42803596],\n",
       "         [0.04329887],\n",
       "         [0.04329887],\n",
       "         [0.35044499],\n",
       "         [0.35044499],\n",
       "         [0.81424101],\n",
       "         [0.81424101],\n",
       "         [0.60303664],\n",
       "         [0.60303664],\n",
       "         [0.60003584],\n",
       "         [0.60003584],\n",
       "         [0.58260747],\n",
       "         [0.58260747],\n",
       "         [0.65492453],\n",
       "         [0.65492453],\n",
       "         [0.23393063],\n",
       "         [0.23393063],\n",
       "         [0.48092148],\n",
       "         [0.48092148],\n",
       "         [0.55925486],\n",
       "         [0.55925486],\n",
       "         [0.06553304],\n",
       "         [0.06553304],\n",
       "         [0.3328474 ],\n",
       "         [0.3328474 ],\n",
       "         [0.02227032],\n",
       "         [0.02227032],\n",
       "         [0.7442441 ],\n",
       "         [0.7442441 ],\n",
       "         [0.3986981 ],\n",
       "         [0.3986981 ],\n",
       "         [0.32475624],\n",
       "         [0.32475624],\n",
       "         [0.84060716],\n",
       "         [0.84060716],\n",
       "         [0.70985698],\n",
       "         [0.70985698],\n",
       "         [0.7643103 ],\n",
       "         [0.7643103 ],\n",
       "         [0.94006679],\n",
       "         [0.94006679],\n",
       "         [0.26320039],\n",
       "         [0.26320039],\n",
       "         [0.32150884],\n",
       "         [0.32150884],\n",
       "         [0.09647526],\n",
       "         [0.09647526],\n",
       "         [0.6257522 ],\n",
       "         [0.6257522 ],\n",
       "         [0.5227674 ],\n",
       "         [0.5227674 ],\n",
       "         [0.8217393 ],\n",
       "         [0.8217393 ],\n",
       "         [0.92530618],\n",
       "         [0.92530618],\n",
       "         [0.26861027],\n",
       "         [0.26861027],\n",
       "         [0.78379777],\n",
       "         [0.78379777],\n",
       "         [0.54268982],\n",
       "         [0.54268982]])}}"
      ]
     },
     "execution_count": 12,
     "metadata": {},
     "output_type": "execute_result"
    }
   ],
   "source": [
    "ds = load_by_id(run_id_a)\n",
    "ds.get_parameter_data('x1')"
   ]
  },
  {
   "cell_type": "code",
   "execution_count": null,
   "metadata": {},
   "outputs": [],
   "source": []
  }
 ],
 "metadata": {
  "kernelspec": {
   "display_name": "Python 3",
   "language": "python",
   "name": "python3"
  },
  "language_info": {
   "codemirror_mode": {
    "name": "ipython",
    "version": 3
   },
   "file_extension": ".py",
   "mimetype": "text/x-python",
   "name": "python",
   "nbconvert_exporter": "python",
   "pygments_lexer": "ipython3",
   "version": "3.7.5"
  },
  "nbsphinx": {
   "timeout": 600
  },
  "toc": {
   "base_numbering": 1,
   "nav_menu": {},
   "number_sections": true,
   "sideBar": true,
   "skip_h1_title": false,
   "title_cell": "Table of Contents",
   "title_sidebar": "Contents",
   "toc_cell": false,
   "toc_position": {},
   "toc_section_display": true,
   "toc_window_display": false
  },
  "varInspector": {
   "cols": {
    "lenName": 16,
    "lenType": 16,
    "lenVar": 40
   },
   "kernels_config": {
    "python": {
     "delete_cmd_postfix": "",
     "delete_cmd_prefix": "del ",
     "library": "var_list.py",
     "varRefreshCmd": "print(var_dic_list())"
    },
    "r": {
     "delete_cmd_postfix": ") ",
     "delete_cmd_prefix": "rm(",
     "library": "var_list.r",
     "varRefreshCmd": "cat(var_dic_list()) "
    }
   },
   "types_to_exclude": [
    "module",
    "function",
    "builtin_function_or_method",
    "instance",
    "_Feature"
   ],
   "window_display": false
  }
 },
 "nbformat": 4,
 "nbformat_minor": 2
}
