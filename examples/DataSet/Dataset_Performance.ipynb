{
 "cells": [
  {
   "cell_type": "markdown",
   "metadata": {},
   "source": [
    "# DataSet Performance\n",
    "\n",
    "This notebook shows the trade-off between inserting data into a database row-by-row and as binary blobs. Inserting the data row-by-row means that we have direct access to all the data and may perform queries directly on the values of the data. On the other hand, as we shall see, this is much slower than inserting the data directly as binary blobs."
   ]
  },
  {
   "cell_type": "markdown",
   "metadata": {},
   "source": [
    "First, we choose a new location for the database to ensure that we don't add a bunch of benchmarking data to the default one."
   ]
  },
  {
   "cell_type": "code",
   "execution_count": 1,
   "metadata": {
    "execution": {
     "iopub.execute_input": "2021-03-04T08:54:21.411209Z",
     "iopub.status.busy": "2021-03-04T08:54:21.410589Z",
     "iopub.status.idle": "2021-03-04T08:54:22.351275Z",
     "shell.execute_reply": "2021-03-04T08:54:22.350203Z"
    }
   },
   "outputs": [
    {
     "name": "stdout",
     "output_type": "stream",
     "text": [
      "Logging hadn't been started.\n",
      "Activating auto-logging. Current session state plus future input saved.\n",
      "Filename       : /home/runner/.qcodes/logs/command_history.log\n",
      "Mode           : append\n",
      "Output logging : True\n",
      "Raw input log  : False\n",
      "Timestamping   : True\n",
      "State          : active\n"
     ]
    },
    {
     "name": "stdout",
     "output_type": "stream",
     "text": [
      "Qcodes Logfile : /home/runner/.qcodes/logs/210304-4114-qcodes.log\n"
     ]
    }
   ],
   "source": [
    "import os\n",
    "cwd = os.getcwd()\n",
    "import qcodes as qc\n",
    "qc.config[\"core\"][\"db_location\"] = os.path.join(cwd, 'testing.db')\n"
   ]
  },
  {
   "cell_type": "code",
   "execution_count": 2,
   "metadata": {
    "execution": {
     "iopub.execute_input": "2021-03-04T08:54:22.358336Z",
     "iopub.status.busy": "2021-03-04T08:54:22.357692Z",
     "iopub.status.idle": "2021-03-04T08:54:22.562487Z",
     "shell.execute_reply": "2021-03-04T08:54:22.561453Z"
    }
   },
   "outputs": [],
   "source": [
    "%matplotlib inline\n",
    "import time\n",
    "import matplotlib.pyplot as plt\n",
    "import numpy as np\n",
    "\n",
    "import qcodes as qc\n",
    "from qcodes.instrument.parameter import ManualParameter\n",
    "from qcodes.dataset.experiment_container import (Experiment,\n",
    "                                                 load_last_experiment,\n",
    "                                                 new_experiment)\n",
    "from qcodes.dataset.sqlite.database import initialise_database\n",
    "from qcodes import load_or_create_experiment\n",
    "from qcodes.dataset.measurements import Measurement"
   ]
  },
  {
   "cell_type": "code",
   "execution_count": 3,
   "metadata": {
    "execution": {
     "iopub.execute_input": "2021-03-04T08:54:22.566712Z",
     "iopub.status.busy": "2021-03-04T08:54:22.565729Z",
     "iopub.status.idle": "2021-03-04T08:54:22.864890Z",
     "shell.execute_reply": "2021-03-04T08:54:22.865429Z"
    }
   },
   "outputs": [
    {
     "name": "stdout",
     "output_type": "stream",
     "text": [
      "\r",
      "0it [00:00, ?it/s]"
     ]
    },
    {
     "name": "stdout",
     "output_type": "stream",
     "text": [
      "\r",
      "Upgrading database; v0 -> v1: : 0it [00:00, ?it/s]"
     ]
    },
    {
     "name": "stdout",
     "output_type": "stream",
     "text": [
      "\r",
      "Upgrading database; v0 -> v1: : 0it [00:00, ?it/s]"
     ]
    },
    {
     "name": "stdout",
     "output_type": "stream",
     "text": [
      "\n",
      "\r",
      "  0%|          | 0/1 [00:00<?, ?it/s]"
     ]
    },
    {
     "name": "stdout",
     "output_type": "stream",
     "text": [
      "\r",
      "Upgrading database; v1 -> v2:   0%|          | 0/1 [00:00<?, ?it/s]"
     ]
    },
    {
     "name": "stdout",
     "output_type": "stream",
     "text": [
      "\r",
      "Upgrading database; v1 -> v2: 100%|██████████| 1/1 [00:00<00:00, 484.61it/s]"
     ]
    },
    {
     "name": "stdout",
     "output_type": "stream",
     "text": [
      "\n",
      "\r",
      "0it [00:00, ?it/s]"
     ]
    },
    {
     "name": "stdout",
     "output_type": "stream",
     "text": [
      "\r",
      "Upgrading database; v2 -> v3: : 0it [00:00, ?it/s]"
     ]
    },
    {
     "name": "stdout",
     "output_type": "stream",
     "text": [
      "\r",
      "Upgrading database; v2 -> v3: : 0it [00:00, ?it/s]"
     ]
    },
    {
     "name": "stdout",
     "output_type": "stream",
     "text": [
      "\n",
      "\r",
      "0it [00:00, ?it/s]"
     ]
    },
    {
     "name": "stdout",
     "output_type": "stream",
     "text": [
      "\r",
      "Upgrading database; v3 -> v4: : 0it [00:00, ?it/s]"
     ]
    },
    {
     "name": "stdout",
     "output_type": "stream",
     "text": [
      "\r",
      "Upgrading database; v3 -> v4: : 0it [00:00, ?it/s]"
     ]
    },
    {
     "name": "stdout",
     "output_type": "stream",
     "text": [
      "\n",
      "\r",
      "  0%|          | 0/1 [00:00<?, ?it/s]"
     ]
    },
    {
     "name": "stdout",
     "output_type": "stream",
     "text": [
      "\r",
      "Upgrading database; v4 -> v5:   0%|          | 0/1 [00:00<?, ?it/s]"
     ]
    },
    {
     "name": "stdout",
     "output_type": "stream",
     "text": [
      "\r",
      "Upgrading database; v4 -> v5: 100%|██████████| 1/1 [00:00<00:00, 796.49it/s]"
     ]
    },
    {
     "name": "stdout",
     "output_type": "stream",
     "text": [
      "\n",
      "\r",
      "0it [00:00, ?it/s]"
     ]
    },
    {
     "name": "stdout",
     "output_type": "stream",
     "text": [
      "\r",
      "Upgrading database; v5 -> v6: : 0it [00:00, ?it/s]"
     ]
    },
    {
     "name": "stdout",
     "output_type": "stream",
     "text": [
      "\r",
      "Upgrading database; v5 -> v6: : 0it [00:00, ?it/s]"
     ]
    },
    {
     "name": "stdout",
     "output_type": "stream",
     "text": [
      "\n",
      "\r",
      "  0%|          | 0/1 [00:00<?, ?it/s]"
     ]
    },
    {
     "name": "stdout",
     "output_type": "stream",
     "text": [
      "\r",
      "Upgrading database; v6 -> v7:   0%|          | 0/1 [00:00<?, ?it/s]"
     ]
    },
    {
     "name": "stdout",
     "output_type": "stream",
     "text": [
      "\r",
      "Upgrading database; v6 -> v7: 100%|██████████| 1/1 [00:00<00:00, 72.98it/s]"
     ]
    },
    {
     "name": "stdout",
     "output_type": "stream",
     "text": [
      "\n",
      "\r",
      "  0%|          | 0/1 [00:00<?, ?it/s]"
     ]
    },
    {
     "name": "stdout",
     "output_type": "stream",
     "text": [
      "\r",
      "Upgrading database; v7 -> v8:   0%|          | 0/1 [00:00<?, ?it/s]"
     ]
    },
    {
     "name": "stdout",
     "output_type": "stream",
     "text": [
      "\r",
      "Upgrading database; v7 -> v8: 100%|██████████| 1/1 [00:00<00:00, 844.60it/s]"
     ]
    },
    {
     "name": "stdout",
     "output_type": "stream",
     "text": [
      "\n",
      "\r",
      "  0%|          | 0/1 [00:00<?, ?it/s]"
     ]
    },
    {
     "name": "stdout",
     "output_type": "stream",
     "text": [
      "\r",
      "Upgrading database; v8 -> v9:   0%|          | 0/1 [00:00<?, ?it/s]"
     ]
    },
    {
     "name": "stdout",
     "output_type": "stream",
     "text": [
      "\r",
      "Upgrading database; v8 -> v9: 100%|██████████| 1/1 [00:00<00:00, 905.31it/s]"
     ]
    },
    {
     "name": "stdout",
     "output_type": "stream",
     "text": [
      "\n"
     ]
    }
   ],
   "source": [
    "initialise_database()\n",
    "exp = load_or_create_experiment(experiment_name='tutorial_exp', sample_name=\"no sample\")"
   ]
  },
  {
   "cell_type": "markdown",
   "metadata": {},
   "source": [
    "Here, we define a simple function to benchmark the time it takes to insert n points with either numeric or array data type.\n",
    "We will compare both the time used to call ``add_result`` and the time used for the full measurement."
   ]
  },
  {
   "cell_type": "code",
   "execution_count": 4,
   "metadata": {
    "execution": {
     "iopub.execute_input": "2021-03-04T08:54:22.874432Z",
     "iopub.status.busy": "2021-03-04T08:54:22.873783Z",
     "iopub.status.idle": "2021-03-04T08:54:22.877257Z",
     "shell.execute_reply": "2021-03-04T08:54:22.878120Z"
    }
   },
   "outputs": [],
   "source": [
    "def insert_data(paramtype, npoints, nreps=1):\n",
    "\n",
    "    meas = Measurement(exp=exp)\n",
    "\n",
    "    x1 = ManualParameter('x1')\n",
    "    x2 = ManualParameter('x2')\n",
    "    x3 = ManualParameter('x3')\n",
    "    y1 = ManualParameter('y1')\n",
    "    y2 = ManualParameter('y2')\n",
    "\n",
    "    meas.register_parameter(x1, paramtype=paramtype)\n",
    "    meas.register_parameter(x2, paramtype=paramtype)\n",
    "    meas.register_parameter(x3, paramtype=paramtype)\n",
    "    meas.register_parameter(y1, setpoints=[x1, x2, x3],\n",
    "                            paramtype=paramtype)\n",
    "    meas.register_parameter(y2, setpoints=[x1, x2, x3],\n",
    "                            paramtype=paramtype)\n",
    "    start = time.perf_counter()\n",
    "    with meas.run() as datasaver:\n",
    "        start_adding = time.perf_counter()\n",
    "        for i in range(nreps):\n",
    "            datasaver.add_result((x1, np.random.rand(npoints)),\n",
    "                                 (x2, np.random.rand(npoints)),\n",
    "                                 (x3, np.random.rand(npoints)),\n",
    "                                 (y1, np.random.rand(npoints)),\n",
    "                                 (y2, np.random.rand(npoints)))\n",
    "        stop_adding = time.perf_counter()\n",
    "        run_id = datasaver.run_id\n",
    "    stop = time.perf_counter()\n",
    "    tot_time = stop - start\n",
    "    add_time = stop_adding - start_adding\n",
    "    return tot_time, add_time, run_id"
   ]
  },
  {
   "cell_type": "markdown",
   "metadata": {},
   "source": [
    "## Comparison between numeric/array data and binary blob"
   ]
  },
  {
   "cell_type": "markdown",
   "metadata": {},
   "source": [
    "### Case1: Short experiment time"
   ]
  },
  {
   "cell_type": "code",
   "execution_count": 5,
   "metadata": {
    "execution": {
     "iopub.execute_input": "2021-03-04T08:54:22.884831Z",
     "iopub.status.busy": "2021-03-04T08:54:22.884185Z",
     "iopub.status.idle": "2021-03-04T08:54:24.368392Z",
     "shell.execute_reply": "2021-03-04T08:54:24.367812Z"
    }
   },
   "outputs": [
    {
     "name": "stdout",
     "output_type": "stream",
     "text": [
      "Starting experimental run with id: 1. \n"
     ]
    },
    {
     "name": "stdout",
     "output_type": "stream",
     "text": [
      "Starting experimental run with id: 2. \n"
     ]
    },
    {
     "name": "stdout",
     "output_type": "stream",
     "text": [
      "Starting experimental run with id: 3. \n",
      "Starting experimental run with id: 4. \n"
     ]
    },
    {
     "name": "stdout",
     "output_type": "stream",
     "text": [
      "Starting experimental run with id: 5. \n"
     ]
    },
    {
     "name": "stdout",
     "output_type": "stream",
     "text": [
      "Starting experimental run with id: 6. \n",
      "Starting experimental run with id: 7. \n"
     ]
    },
    {
     "name": "stdout",
     "output_type": "stream",
     "text": [
      "Starting experimental run with id: 8. \n",
      "Starting experimental run with id: 9. \n"
     ]
    },
    {
     "name": "stdout",
     "output_type": "stream",
     "text": [
      "Starting experimental run with id: 10. \n",
      "Starting experimental run with id: 11. \n"
     ]
    },
    {
     "name": "stdout",
     "output_type": "stream",
     "text": [
      "Starting experimental run with id: 12. \n",
      "Starting experimental run with id: 13. \n"
     ]
    },
    {
     "name": "stdout",
     "output_type": "stream",
     "text": [
      "Starting experimental run with id: 14. \n"
     ]
    }
   ],
   "source": [
    "sizes = [1,500,1000,2000,3000,4000,5000]\n",
    "t_numeric = []\n",
    "t_numeric_add = []\n",
    "t_array = []\n",
    "t_array_add = []\n",
    "for size in sizes:\n",
    "    tn, tna, run_id_n =  insert_data('numeric', size)\n",
    "    t_numeric.append(tn)\n",
    "    t_numeric_add.append(tna)\n",
    "\n",
    "    ta, taa, run_id_a =  insert_data('array', size)\n",
    "    t_array.append(ta)\n",
    "    t_array_add.append(taa)"
   ]
  },
  {
   "cell_type": "code",
   "execution_count": 6,
   "metadata": {
    "execution": {
     "iopub.execute_input": "2021-03-04T08:54:24.396193Z",
     "iopub.status.busy": "2021-03-04T08:54:24.392699Z",
     "iopub.status.idle": "2021-03-04T08:54:24.617889Z",
     "shell.execute_reply": "2021-03-04T08:54:24.618386Z"
    }
   },
   "outputs": [
    {
     "data": {
      "image/png": "[encoded data removed]",
      "text/plain": [
       "<Figure size 432x288 with 1 Axes>"
      ]
     },
     "metadata": {
      "needs_background": "light"
     },
     "output_type": "display_data"
    }
   ],
   "source": [
    "fig, ax = plt.subplots(1,1)\n",
    "ax.plot(sizes, t_numeric, 'o-', label='Inserting row-by-row')\n",
    "ax.plot(sizes, t_numeric_add, 'o-', label='Inserting row-by-row: add_result only')\n",
    "ax.plot(sizes, t_array, 'd-', label='Inserting as binary blob')\n",
    "ax.plot(sizes, t_array_add, 'd-', label='Inserting as binary blob: add_result only')\n",
    "ax.legend()\n",
    "ax.set_xlabel('Array length')\n",
    "ax.set_ylabel('Time (s)')\n",
    "fig.tight_layout()"
   ]
  },
  {
   "cell_type": "markdown",
   "metadata": {},
   "source": [
    "As shown in the latter figure, the time to setup and and close the experiment is approximately 0.4 sec. In case of small array sizes, the difference between inserting values of data as arrays and inserting them row-by-row is relatively unimportant. At larger array sizes, i.e. above 10000 points, the cost of writing data as individual datapoints starts to become important.\n"
   ]
  },
  {
   "cell_type": "markdown",
   "metadata": {},
   "source": [
    "### Case2: Long experiment time "
   ]
  },
  {
   "cell_type": "code",
   "execution_count": 7,
   "metadata": {
    "execution": {
     "iopub.execute_input": "2021-03-04T08:54:24.625925Z",
     "iopub.status.busy": "2021-03-04T08:54:24.624767Z",
     "iopub.status.idle": "2021-03-04T08:55:30.140173Z",
     "shell.execute_reply": "2021-03-04T08:55:30.139574Z"
    }
   },
   "outputs": [
    {
     "name": "stdout",
     "output_type": "stream",
     "text": [
      "Starting experimental run with id: 15. \n",
      "Starting experimental run with id: 16. \n"
     ]
    },
    {
     "name": "stdout",
     "output_type": "stream",
     "text": [
      "Starting experimental run with id: 17. \n"
     ]
    },
    {
     "name": "stdout",
     "output_type": "stream",
     "text": [
      "Starting experimental run with id: 18. \n"
     ]
    },
    {
     "name": "stdout",
     "output_type": "stream",
     "text": [
      "Starting experimental run with id: 19. \n"
     ]
    },
    {
     "name": "stdout",
     "output_type": "stream",
     "text": [
      "Starting experimental run with id: 20. \n"
     ]
    },
    {
     "name": "stdout",
     "output_type": "stream",
     "text": [
      "Starting experimental run with id: 21. \n"
     ]
    },
    {
     "name": "stdout",
     "output_type": "stream",
     "text": [
      "Starting experimental run with id: 22. \n"
     ]
    },
    {
     "name": "stdout",
     "output_type": "stream",
     "text": [
      "Starting experimental run with id: 23. \n"
     ]
    },
    {
     "name": "stdout",
     "output_type": "stream",
     "text": [
      "Starting experimental run with id: 24. \n"
     ]
    },
    {
     "name": "stdout",
     "output_type": "stream",
     "text": [
      "Starting experimental run with id: 25. \n"
     ]
    },
    {
     "name": "stdout",
     "output_type": "stream",
     "text": [
      "Starting experimental run with id: 26. \n"
     ]
    },
    {
     "name": "stdout",
     "output_type": "stream",
     "text": [
      "Starting experimental run with id: 27. \n"
     ]
    },
    {
     "name": "stdout",
     "output_type": "stream",
     "text": [
      "Starting experimental run with id: 28. \n"
     ]
    }
   ],
   "source": [
    "sizes = [1,500,1000,2000,3000,4000,5000]\n",
    "nreps = 100\n",
    "t_numeric = []\n",
    "t_numeric_add = []\n",
    "t_numeric_run_ids = []\n",
    "t_array = []\n",
    "t_array_add = []\n",
    "t_array_run_ids = []\n",
    "for size in sizes:\n",
    "    tn, tna, run_id_n =  insert_data('numeric', size, nreps=nreps)\n",
    "    t_numeric.append(tn)\n",
    "    t_numeric_add.append(tna)\n",
    "    t_numeric_run_ids.append(run_id_n)\n",
    "\n",
    "    ta, taa, run_id_a =  insert_data('array', size, nreps=nreps)\n",
    "    t_array.append(ta)\n",
    "    t_array_add.append(taa)\n",
    "    t_array_run_ids.append(run_id_a)"
   ]
  },
  {
   "cell_type": "code",
   "execution_count": 8,
   "metadata": {
    "execution": {
     "iopub.execute_input": "2021-03-04T08:55:30.161932Z",
     "iopub.status.busy": "2021-03-04T08:55:30.160545Z",
     "iopub.status.idle": "2021-03-04T08:55:30.378722Z",
     "shell.execute_reply": "2021-03-04T08:55:30.378111Z"
    },
    "scrolled": true
   },
   "outputs": [
    {
     "data": {
      "image/png": "[encoded data removed]",
      "text/plain": [
       "<Figure size 432x288 with 1 Axes>"
      ]
     },
     "metadata": {
      "needs_background": "light"
     },
     "output_type": "display_data"
    }
   ],
   "source": [
    "fig, ax = plt.subplots(1,1)\n",
    "ax.plot(sizes, t_numeric, 'o-', label='Inserting row-by-row')\n",
    "ax.plot(sizes, t_numeric_add, 'o-', label='Inserting row-by-row: add_result only')\n",
    "ax.plot(sizes, t_array, 'd-', label='Inserting as binary blob')\n",
    "ax.plot(sizes, t_array_add, 'd-', label='Inserting as binary blob: add_result only')\n",
    "ax.legend()\n",
    "ax.set_xlabel('Array length')\n",
    "ax.set_ylabel('Time (s)')\n",
    "fig.tight_layout()"
   ]
  },
  {
   "cell_type": "markdown",
   "metadata": {},
   "source": [
    "However, as we increase the length of the experiment, as seen here by repeating the insertion 100 times, we see a big difference between inserting values of the data row-by-row and inserting it as a binary blob."
   ]
  },
  {
   "cell_type": "markdown",
   "metadata": {},
   "source": [
    "## Loading the data "
   ]
  },
  {
   "cell_type": "code",
   "execution_count": 9,
   "metadata": {
    "execution": {
     "iopub.execute_input": "2021-03-04T08:55:30.383517Z",
     "iopub.status.busy": "2021-03-04T08:55:30.382450Z",
     "iopub.status.idle": "2021-03-04T08:55:30.386159Z",
     "shell.execute_reply": "2021-03-04T08:55:30.386649Z"
    }
   },
   "outputs": [],
   "source": [
    "from qcodes.dataset.data_set import load_by_id\n",
    "from qcodes.dataset.data_export import get_data_by_id"
   ]
  },
  {
   "cell_type": "markdown",
   "metadata": {},
   "source": [
    "As usual you can load the data by using the ``load_by_id`` function but you will notice that the different storage methods\n",
    "are reflected in shape of the data as it is retrieved. "
   ]
  },
  {
   "cell_type": "code",
   "execution_count": 10,
   "metadata": {
    "execution": {
     "iopub.execute_input": "2021-03-04T08:55:30.391762Z",
     "iopub.status.busy": "2021-03-04T08:55:30.390352Z",
     "iopub.status.idle": "2021-03-04T08:55:30.392448Z",
     "shell.execute_reply": "2021-03-04T08:55:30.392975Z"
    }
   },
   "outputs": [],
   "source": [
    "run_id_n = t_numeric_run_ids[0]\n",
    "run_id_a = t_array_run_ids[0]"
   ]
  },
  {
   "cell_type": "code",
   "execution_count": 11,
   "metadata": {
    "execution": {
     "iopub.execute_input": "2021-03-04T08:55:30.396651Z",
     "iopub.status.busy": "2021-03-04T08:55:30.396008Z",
     "iopub.status.idle": "2021-03-04T08:55:30.406196Z",
     "shell.execute_reply": "2021-03-04T08:55:30.406737Z"
    },
    "scrolled": true
   },
   "outputs": [
    {
     "data": {
      "text/plain": [
       "{'x1': {'x1': array([0.24394261, 0.24394261, 0.76154783, 0.76154783, 0.67413516,\n",
       "         0.67413516, 0.74827844, 0.74827844, 0.52725145, 0.52725145,\n",
       "         0.11731077, 0.11731077, 0.16326275, 0.16326275, 0.16089809,\n",
       "         0.16089809, 0.36143161, 0.36143161, 0.56255383, 0.56255383,\n",
       "         0.23708833, 0.23708833, 0.51968566, 0.51968566, 0.72923909,\n",
       "         0.72923909, 0.89482231, 0.89482231, 0.92018647, 0.92018647,\n",
       "         0.63359933, 0.63359933, 0.2816137 , 0.2816137 , 0.65967441,\n",
       "         0.65967441, 0.27515696, 0.27515696, 0.32463834, 0.32463834,\n",
       "         0.28712913, 0.28712913, 0.19990608, 0.19990608, 0.01195018,\n",
       "         0.01195018, 0.97151146, 0.97151146, 0.86666858, 0.86666858,\n",
       "         0.12828242, 0.12828242, 0.67997347, 0.67997347, 0.77191527,\n",
       "         0.77191527, 0.26089776, 0.26089776, 0.61077527, 0.61077527,\n",
       "         0.99465138, 0.99465138, 0.63855597, 0.63855597, 0.56179393,\n",
       "         0.56179393, 0.18986285, 0.18986285, 0.60430443, 0.60430443,\n",
       "         0.52095587, 0.52095587, 0.09197649, 0.09197649, 0.57032165,\n",
       "         0.57032165, 0.24482409, 0.24482409, 0.70979262, 0.70979262,\n",
       "         0.57802224, 0.57802224, 0.4194894 , 0.4194894 , 0.47419003,\n",
       "         0.47419003, 0.1278995 , 0.1278995 , 0.00632258, 0.00632258,\n",
       "         0.39408803, 0.39408803, 0.69086194, 0.69086194, 0.00601705,\n",
       "         0.00601705, 0.954132  , 0.954132  , 0.54618909, 0.54618909,\n",
       "         0.01957081, 0.01957081, 0.86817867, 0.86817867, 0.33551298,\n",
       "         0.33551298, 0.17317485, 0.17317485, 0.50694063, 0.50694063,\n",
       "         0.54367013, 0.54367013, 0.57081523, 0.57081523, 0.71195321,\n",
       "         0.71195321, 0.8248161 , 0.8248161 , 0.10265815, 0.10265815,\n",
       "         0.06768374, 0.06768374, 0.54312667, 0.54312667, 0.330153  ,\n",
       "         0.330153  , 0.5577379 , 0.5577379 , 0.97779207, 0.97779207,\n",
       "         0.49246461, 0.49246461, 0.85368073, 0.85368073, 0.55509992,\n",
       "         0.55509992, 0.71841175, 0.71841175, 0.00258386, 0.00258386,\n",
       "         0.03299778, 0.03299778, 0.78107991, 0.78107991, 0.1539609 ,\n",
       "         0.1539609 , 0.62292482, 0.62292482, 0.36092394, 0.36092394,\n",
       "         0.223696  , 0.223696  , 0.84337014, 0.84337014, 0.14533824,\n",
       "         0.14533824, 0.34955107, 0.34955107, 0.90556131, 0.90556131,\n",
       "         0.14981256, 0.14981256, 0.67176656, 0.67176656, 0.09621732,\n",
       "         0.09621732, 0.22859772, 0.22859772, 0.61062221, 0.61062221,\n",
       "         0.38907268, 0.38907268, 0.96863355, 0.96863355, 0.17498105,\n",
       "         0.17498105, 0.75599305, 0.75599305, 0.75218054, 0.75218054,\n",
       "         0.01868771, 0.01868771, 0.24499368, 0.24499368, 0.76026529,\n",
       "         0.76026529, 0.32815256, 0.32815256, 0.96622982, 0.96622982,\n",
       "         0.35423382, 0.35423382, 0.78330497, 0.78330497, 0.71485705,\n",
       "         0.71485705, 0.86183311, 0.86183311, 0.86084695, 0.86084695])}}"
      ]
     },
     "execution_count": 1,
     "metadata": {},
     "output_type": "execute_result"
    }
   ],
   "source": [
    "ds = load_by_id(run_id_n)\n",
    "ds.get_parameter_data('x1')"
   ]
  },
  {
   "cell_type": "markdown",
   "metadata": {},
   "source": [
    "And a dataset stored as binary arrays"
   ]
  },
  {
   "cell_type": "code",
   "execution_count": 12,
   "metadata": {
    "execution": {
     "iopub.execute_input": "2021-03-04T08:55:30.410439Z",
     "iopub.status.busy": "2021-03-04T08:55:30.409820Z",
     "iopub.status.idle": "2021-03-04T08:55:30.485801Z",
     "shell.execute_reply": "2021-03-04T08:55:30.485263Z"
    },
    "scrolled": true
   },
   "outputs": [
    {
     "data": {
      "text/plain": [
       "{'x1': {'x1': array([[0.34092756],\n",
       "         [0.34092756],\n",
       "         [0.59268951],\n",
       "         [0.59268951],\n",
       "         [0.15338133],\n",
       "         [0.15338133],\n",
       "         [0.33907061],\n",
       "         [0.33907061],\n",
       "         [0.16365149],\n",
       "         [0.16365149],\n",
       "         [0.15498582],\n",
       "         [0.15498582],\n",
       "         [0.886987  ],\n",
       "         [0.886987  ],\n",
       "         [0.57335512],\n",
       "         [0.57335512],\n",
       "         [0.11791472],\n",
       "         [0.11791472],\n",
       "         [0.42751747],\n",
       "         [0.42751747],\n",
       "         [0.49636021],\n",
       "         [0.49636021],\n",
       "         [0.76339645],\n",
       "         [0.76339645],\n",
       "         [0.7431231 ],\n",
       "         [0.7431231 ],\n",
       "         [0.38058451],\n",
       "         [0.38058451],\n",
       "         [0.36318556],\n",
       "         [0.36318556],\n",
       "         [0.0405483 ],\n",
       "         [0.0405483 ],\n",
       "         [0.45706333],\n",
       "         [0.45706333],\n",
       "         [0.37525691],\n",
       "         [0.37525691],\n",
       "         [0.80720495],\n",
       "         [0.80720495],\n",
       "         [0.7374325 ],\n",
       "         [0.7374325 ],\n",
       "         [0.58306648],\n",
       "         [0.58306648],\n",
       "         [0.11212082],\n",
       "         [0.11212082],\n",
       "         [0.58878648],\n",
       "         [0.58878648],\n",
       "         [0.61354397],\n",
       "         [0.61354397],\n",
       "         [0.80592351],\n",
       "         [0.80592351],\n",
       "         [0.7863341 ],\n",
       "         [0.7863341 ],\n",
       "         [0.71323158],\n",
       "         [0.71323158],\n",
       "         [0.86110821],\n",
       "         [0.86110821],\n",
       "         [0.12294161],\n",
       "         [0.12294161],\n",
       "         [0.72814492],\n",
       "         [0.72814492],\n",
       "         [0.54925419],\n",
       "         [0.54925419],\n",
       "         [0.64729217],\n",
       "         [0.64729217],\n",
       "         [0.7538295 ],\n",
       "         [0.7538295 ],\n",
       "         [0.56018754],\n",
       "         [0.56018754],\n",
       "         [0.84269549],\n",
       "         [0.84269549],\n",
       "         [0.5432564 ],\n",
       "         [0.5432564 ],\n",
       "         [0.8050005 ],\n",
       "         [0.8050005 ],\n",
       "         [0.60678622],\n",
       "         [0.60678622],\n",
       "         [0.29218701],\n",
       "         [0.29218701],\n",
       "         [0.10083138],\n",
       "         [0.10083138],\n",
       "         [0.87586936],\n",
       "         [0.87586936],\n",
       "         [0.33447238],\n",
       "         [0.33447238],\n",
       "         [0.8614135 ],\n",
       "         [0.8614135 ],\n",
       "         [0.49225275],\n",
       "         [0.49225275],\n",
       "         [0.60934504],\n",
       "         [0.60934504],\n",
       "         [0.87791671],\n",
       "         [0.87791671],\n",
       "         [0.8070841 ],\n",
       "         [0.8070841 ],\n",
       "         [0.43218899],\n",
       "         [0.43218899],\n",
       "         [0.18060183],\n",
       "         [0.18060183],\n",
       "         [0.02424649],\n",
       "         [0.02424649],\n",
       "         [0.49065134],\n",
       "         [0.49065134],\n",
       "         [0.93800284],\n",
       "         [0.93800284],\n",
       "         [0.89289398],\n",
       "         [0.89289398],\n",
       "         [0.21332217],\n",
       "         [0.21332217],\n",
       "         [0.07210062],\n",
       "         [0.07210062],\n",
       "         [0.2042856 ],\n",
       "         [0.2042856 ],\n",
       "         [0.983328  ],\n",
       "         [0.983328  ],\n",
       "         [0.84029098],\n",
       "         [0.84029098],\n",
       "         [0.64009752],\n",
       "         [0.64009752],\n",
       "         [0.34139367],\n",
       "         [0.34139367],\n",
       "         [0.03214478],\n",
       "         [0.03214478],\n",
       "         [0.60871596],\n",
       "         [0.60871596],\n",
       "         [0.12180892],\n",
       "         [0.12180892],\n",
       "         [0.84195986],\n",
       "         [0.84195986],\n",
       "         [0.81609435],\n",
       "         [0.81609435],\n",
       "         [0.57400379],\n",
       "         [0.57400379],\n",
       "         [0.49754619],\n",
       "         [0.49754619],\n",
       "         [0.58162094],\n",
       "         [0.58162094],\n",
       "         [0.98212617],\n",
       "         [0.98212617],\n",
       "         [0.45399993],\n",
       "         [0.45399993],\n",
       "         [0.01084102],\n",
       "         [0.01084102],\n",
       "         [0.14467939],\n",
       "         [0.14467939],\n",
       "         [0.74556661],\n",
       "         [0.74556661],\n",
       "         [0.96935696],\n",
       "         [0.96935696],\n",
       "         [0.47616931],\n",
       "         [0.47616931],\n",
       "         [0.94889537],\n",
       "         [0.94889537],\n",
       "         [0.59008624],\n",
       "         [0.59008624],\n",
       "         [0.15917944],\n",
       "         [0.15917944],\n",
       "         [0.52950759],\n",
       "         [0.52950759],\n",
       "         [0.83617227],\n",
       "         [0.83617227],\n",
       "         [0.95849297],\n",
       "         [0.95849297],\n",
       "         [0.05371764],\n",
       "         [0.05371764],\n",
       "         [0.9772072 ],\n",
       "         [0.9772072 ],\n",
       "         [0.09914655],\n",
       "         [0.09914655],\n",
       "         [0.50368994],\n",
       "         [0.50368994],\n",
       "         [0.98243595],\n",
       "         [0.98243595],\n",
       "         [0.74575805],\n",
       "         [0.74575805],\n",
       "         [0.2669277 ],\n",
       "         [0.2669277 ],\n",
       "         [0.02175822],\n",
       "         [0.02175822],\n",
       "         [0.61362661],\n",
       "         [0.61362661],\n",
       "         [0.70917099],\n",
       "         [0.70917099],\n",
       "         [0.69110732],\n",
       "         [0.69110732],\n",
       "         [0.27695252],\n",
       "         [0.27695252],\n",
       "         [0.63805786],\n",
       "         [0.63805786],\n",
       "         [0.28083937],\n",
       "         [0.28083937],\n",
       "         [0.36847589],\n",
       "         [0.36847589],\n",
       "         [0.96240675],\n",
       "         [0.96240675],\n",
       "         [0.7127266 ],\n",
       "         [0.7127266 ],\n",
       "         [0.45462181],\n",
       "         [0.45462181],\n",
       "         [0.9524841 ],\n",
       "         [0.9524841 ]])}}"
      ]
     },
     "execution_count": 1,
     "metadata": {},
     "output_type": "execute_result"
    }
   ],
   "source": [
    "ds = load_by_id(run_id_a)\n",
    "ds.get_parameter_data('x1')"
   ]
  },
  {
   "cell_type": "code",
   "execution_count": null,
   "metadata": {},
   "outputs": [],
   "source": []
  }
 ],
 "metadata": {
  "kernelspec": {
   "display_name": "Python 3",
   "language": "python",
   "name": "python3"
  },
  "language_info": {
   "codemirror_mode": {
    "name": "ipython",
    "version": 3
   },
   "file_extension": ".py",
   "mimetype": "text/x-python",
   "name": "python",
   "nbconvert_exporter": "python",
   "pygments_lexer": "ipython3",
   "version": "3.7.10"
  },
  "nbsphinx": {
   "timeout": 600
  },
  "toc": {
   "base_numbering": 1,
   "nav_menu": {},
   "number_sections": true,
   "sideBar": true,
   "skip_h1_title": false,
   "title_cell": "Table of Contents",
   "title_sidebar": "Contents",
   "toc_cell": false,
   "toc_position": {},
   "toc_section_display": true,
   "toc_window_display": false
  },
  "varInspector": {
   "cols": {
    "lenName": 16,
    "lenType": 16,
    "lenVar": 40
   },
   "kernels_config": {
    "python": {
     "delete_cmd_postfix": "",
     "delete_cmd_prefix": "del ",
     "library": "var_list.py",
     "varRefreshCmd": "print(var_dic_list())"
    },
    "r": {
     "delete_cmd_postfix": ") ",
     "delete_cmd_prefix": "rm(",
     "library": "var_list.r",
     "varRefreshCmd": "cat(var_dic_list()) "
    }
   },
   "types_to_exclude": [
    "module",
    "function",
    "builtin_function_or_method",
    "instance",
    "_Feature"
   ],
   "window_display": false
  }
 },
 "nbformat": 4,
 "nbformat_minor": 2
}
