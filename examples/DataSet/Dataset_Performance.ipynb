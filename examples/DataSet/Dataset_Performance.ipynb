{
 "cells": [
  {
   "cell_type": "markdown",
   "metadata": {},
   "source": [
    "# DataSet Performance\n",
    "\n",
    "This notebook shows the trade-off between inserting data into a database row-by-row and as binary blobs. Inserting the data row-by-row means that we have direct access to all the data and may perform queries directly on the values of the data. On the other hand, as we shall see, this is much slower than inserting the data directly as binary blobs."
   ]
  },
  {
   "cell_type": "markdown",
   "metadata": {},
   "source": [
    "First, we choose a new location for the database to ensure that we don't add a bunch of benchmarking data to the default one."
   ]
  },
  {
   "cell_type": "code",
   "execution_count": 1,
   "metadata": {
    "execution": {
     "iopub.execute_input": "2021-01-29T15:48:33.671022Z",
     "iopub.status.busy": "2021-01-29T15:48:33.670515Z",
     "iopub.status.idle": "2021-01-29T15:48:34.680537Z",
     "shell.execute_reply": "2021-01-29T15:48:34.680927Z"
    }
   },
   "outputs": [
    {
     "name": "stdout",
     "output_type": "stream",
     "text": [
      "Logging hadn't been started.\n",
      "Activating auto-logging. Current session state plus future input saved.\n",
      "Filename       : /home/vsts/.qcodes/logs/command_history.log\n",
      "Mode           : append\n",
      "Output logging : True\n",
      "Raw input log  : False\n",
      "Timestamping   : True\n",
      "State          : active\n"
     ]
    },
    {
     "name": "stdout",
     "output_type": "stream",
     "text": [
      "Qcodes Logfile : /home/vsts/.qcodes/logs/210129-13591-qcodes.log\n"
     ]
    }
   ],
   "source": [
    "import os\n",
    "cwd = os.getcwd()\n",
    "import qcodes as qc\n",
    "qc.config[\"core\"][\"db_location\"] = os.path.join(cwd, 'testing.db')\n"
   ]
  },
  {
   "cell_type": "code",
   "execution_count": 2,
   "metadata": {
    "execution": {
     "iopub.execute_input": "2021-01-29T15:48:34.687215Z",
     "iopub.status.busy": "2021-01-29T15:48:34.686333Z",
     "iopub.status.idle": "2021-01-29T15:48:34.877090Z",
     "shell.execute_reply": "2021-01-29T15:48:34.876147Z"
    }
   },
   "outputs": [],
   "source": [
    "%matplotlib inline\n",
    "import time\n",
    "import matplotlib.pyplot as plt\n",
    "import numpy as np\n",
    "\n",
    "import qcodes as qc\n",
    "from qcodes.instrument.parameter import ManualParameter\n",
    "from qcodes.dataset.experiment_container import (Experiment,\n",
    "                                                 load_last_experiment,\n",
    "                                                 new_experiment)\n",
    "from qcodes.dataset.sqlite.database import initialise_database\n",
    "from qcodes import load_or_create_experiment\n",
    "from qcodes.dataset.measurements import Measurement"
   ]
  },
  {
   "cell_type": "code",
   "execution_count": 3,
   "metadata": {
    "execution": {
     "iopub.execute_input": "2021-01-29T15:48:34.880896Z",
     "iopub.status.busy": "2021-01-29T15:48:34.880261Z",
     "iopub.status.idle": "2021-01-29T15:48:35.004228Z",
     "shell.execute_reply": "2021-01-29T15:48:35.004642Z"
    }
   },
   "outputs": [
    {
     "name": "stdout",
     "output_type": "stream",
     "text": [
      "\r",
      "0it [00:00, ?it/s]"
     ]
    },
    {
     "name": "stdout",
     "output_type": "stream",
     "text": [
      "\r",
      "Upgrading database; v0 -> v1: : 0it [00:00, ?it/s]"
     ]
    },
    {
     "name": "stdout",
     "output_type": "stream",
     "text": [
      "\r",
      "Upgrading database; v0 -> v1: : 0it [00:00, ?it/s]"
     ]
    },
    {
     "name": "stdout",
     "output_type": "stream",
     "text": [
      "\n",
      "\r",
      "  0%|          | 0/1 [00:00<?, ?it/s]"
     ]
    },
    {
     "name": "stdout",
     "output_type": "stream",
     "text": [
      "\r",
      "Upgrading database; v1 -> v2:   0%|          | 0/1 [00:00<?, ?it/s]"
     ]
    },
    {
     "name": "stdout",
     "output_type": "stream",
     "text": [
      "\r",
      "Upgrading database; v1 -> v2: 100%|██████████| 1/1 [00:00<00:00, 1065.36it/s]"
     ]
    },
    {
     "name": "stdout",
     "output_type": "stream",
     "text": [
      "\n",
      "\r",
      "0it [00:00, ?it/s]"
     ]
    },
    {
     "name": "stdout",
     "output_type": "stream",
     "text": [
      "\r",
      "Upgrading database; v2 -> v3: : 0it [00:00, ?it/s]"
     ]
    },
    {
     "name": "stdout",
     "output_type": "stream",
     "text": [
      "\r",
      "Upgrading database; v2 -> v3: : 0it [00:00, ?it/s]"
     ]
    },
    {
     "name": "stdout",
     "output_type": "stream",
     "text": [
      "\n",
      "\r",
      "0it [00:00, ?it/s]"
     ]
    },
    {
     "name": "stdout",
     "output_type": "stream",
     "text": [
      "\r",
      "Upgrading database; v3 -> v4: : 0it [00:00, ?it/s]"
     ]
    },
    {
     "name": "stdout",
     "output_type": "stream",
     "text": [
      "\r",
      "Upgrading database; v3 -> v4: : 0it [00:00, ?it/s]"
     ]
    },
    {
     "name": "stdout",
     "output_type": "stream",
     "text": [
      "\n",
      "\r",
      "  0%|          | 0/1 [00:00<?, ?it/s]"
     ]
    },
    {
     "name": "stdout",
     "output_type": "stream",
     "text": [
      "\r",
      "Upgrading database; v4 -> v5:   0%|          | 0/1 [00:00<?, ?it/s]"
     ]
    },
    {
     "name": "stdout",
     "output_type": "stream",
     "text": [
      "\r",
      "Upgrading database; v4 -> v5: 100%|██████████| 1/1 [00:00<00:00, 558.79it/s]"
     ]
    },
    {
     "name": "stdout",
     "output_type": "stream",
     "text": [
      "\n",
      "\r",
      "0it [00:00, ?it/s]"
     ]
    },
    {
     "name": "stdout",
     "output_type": "stream",
     "text": [
      "\r",
      "Upgrading database; v5 -> v6: : 0it [00:00, ?it/s]"
     ]
    },
    {
     "name": "stdout",
     "output_type": "stream",
     "text": [
      "\r",
      "Upgrading database; v5 -> v6: : 0it [00:00, ?it/s]"
     ]
    },
    {
     "name": "stdout",
     "output_type": "stream",
     "text": [
      "\n",
      "\r",
      "  0%|          | 0/1 [00:00<?, ?it/s]"
     ]
    },
    {
     "name": "stdout",
     "output_type": "stream",
     "text": [
      "\r",
      "Upgrading database; v6 -> v7:   0%|          | 0/1 [00:00<?, ?it/s]"
     ]
    },
    {
     "name": "stdout",
     "output_type": "stream",
     "text": [
      "\r",
      "Upgrading database; v6 -> v7: 100%|██████████| 1/1 [00:00<00:00, 270.84it/s]"
     ]
    },
    {
     "name": "stdout",
     "output_type": "stream",
     "text": [
      "\n",
      "\r",
      "  0%|          | 0/1 [00:00<?, ?it/s]"
     ]
    },
    {
     "name": "stdout",
     "output_type": "stream",
     "text": [
      "\r",
      "Upgrading database; v7 -> v8:   0%|          | 0/1 [00:00<?, ?it/s]"
     ]
    },
    {
     "name": "stdout",
     "output_type": "stream",
     "text": [
      "\r",
      "Upgrading database; v7 -> v8: 100%|██████████| 1/1 [00:00<00:00, 444.31it/s]"
     ]
    },
    {
     "name": "stdout",
     "output_type": "stream",
     "text": [
      "\n",
      "\r",
      "  0%|          | 0/1 [00:00<?, ?it/s]"
     ]
    },
    {
     "name": "stdout",
     "output_type": "stream",
     "text": [
      "\r",
      "Upgrading database; v8 -> v9:   0%|          | 0/1 [00:00<?, ?it/s]"
     ]
    },
    {
     "name": "stdout",
     "output_type": "stream",
     "text": [
      "\r",
      "Upgrading database; v8 -> v9: 100%|██████████| 1/1 [00:00<00:00, 471.22it/s]"
     ]
    },
    {
     "name": "stdout",
     "output_type": "stream",
     "text": [
      "\n"
     ]
    }
   ],
   "source": [
    "initialise_database()\n",
    "exp = load_or_create_experiment(experiment_name='tutorial_exp', sample_name=\"no sample\")"
   ]
  },
  {
   "cell_type": "markdown",
   "metadata": {},
   "source": [
    "Here, we define a simple function to benchmark the time it takes to insert n points with either numeric or array data type.\n",
    "We will compare both the time used to call ``add_result`` and the time used for the full measurement."
   ]
  },
  {
   "cell_type": "code",
   "execution_count": 4,
   "metadata": {
    "execution": {
     "iopub.execute_input": "2021-01-29T15:48:35.012770Z",
     "iopub.status.busy": "2021-01-29T15:48:35.012224Z",
     "iopub.status.idle": "2021-01-29T15:48:35.015599Z",
     "shell.execute_reply": "2021-01-29T15:48:35.015158Z"
    }
   },
   "outputs": [],
   "source": [
    "def insert_data(paramtype, npoints, nreps=1):\n",
    "\n",
    "    meas = Measurement(exp=exp)\n",
    "\n",
    "    x1 = ManualParameter('x1')\n",
    "    x2 = ManualParameter('x2')\n",
    "    x3 = ManualParameter('x3')\n",
    "    y1 = ManualParameter('y1')\n",
    "    y2 = ManualParameter('y2')\n",
    "\n",
    "    meas.register_parameter(x1, paramtype=paramtype)\n",
    "    meas.register_parameter(x2, paramtype=paramtype)\n",
    "    meas.register_parameter(x3, paramtype=paramtype)\n",
    "    meas.register_parameter(y1, setpoints=[x1, x2, x3],\n",
    "                            paramtype=paramtype)\n",
    "    meas.register_parameter(y2, setpoints=[x1, x2, x3],\n",
    "                            paramtype=paramtype)\n",
    "    start = time.perf_counter()\n",
    "    with meas.run() as datasaver:\n",
    "        start_adding = time.perf_counter()\n",
    "        for i in range(nreps):\n",
    "            datasaver.add_result((x1, np.random.rand(npoints)),\n",
    "                                 (x2, np.random.rand(npoints)),\n",
    "                                 (x3, np.random.rand(npoints)),\n",
    "                                 (y1, np.random.rand(npoints)),\n",
    "                                 (y2, np.random.rand(npoints)))\n",
    "        stop_adding = time.perf_counter()\n",
    "        run_id = datasaver.run_id\n",
    "    stop = time.perf_counter()\n",
    "    tot_time = stop - start\n",
    "    add_time = stop_adding - start_adding\n",
    "    return tot_time, add_time, run_id"
   ]
  },
  {
   "cell_type": "markdown",
   "metadata": {},
   "source": [
    "## Comparison between numeric/array data and binary blob"
   ]
  },
  {
   "cell_type": "markdown",
   "metadata": {},
   "source": [
    "### Case1: Short experiment time"
   ]
  },
  {
   "cell_type": "code",
   "execution_count": 5,
   "metadata": {
    "execution": {
     "iopub.execute_input": "2021-01-29T15:48:35.022474Z",
     "iopub.status.busy": "2021-01-29T15:48:35.021541Z",
     "iopub.status.idle": "2021-01-29T15:48:35.859462Z",
     "shell.execute_reply": "2021-01-29T15:48:35.859035Z"
    }
   },
   "outputs": [
    {
     "name": "stdout",
     "output_type": "stream",
     "text": [
      "Starting experimental run with id: 1. \n",
      "Starting experimental run with id: 2. \n",
      "Starting experimental run with id: 3. \n",
      "Starting experimental run with id: 4. \n",
      "Starting experimental run with id: 5. \n"
     ]
    },
    {
     "name": "stdout",
     "output_type": "stream",
     "text": [
      "Starting experimental run with id: 6. \n"
     ]
    },
    {
     "name": "stdout",
     "output_type": "stream",
     "text": [
      "Starting experimental run with id: 7. \n"
     ]
    },
    {
     "name": "stdout",
     "output_type": "stream",
     "text": [
      "Starting experimental run with id: 8. \n",
      "Starting experimental run with id: 9. \n"
     ]
    },
    {
     "name": "stdout",
     "output_type": "stream",
     "text": [
      "Starting experimental run with id: 10. \n",
      "Starting experimental run with id: 11. \n"
     ]
    },
    {
     "name": "stdout",
     "output_type": "stream",
     "text": [
      "Starting experimental run with id: 12. \n",
      "Starting experimental run with id: 13. \n"
     ]
    },
    {
     "name": "stdout",
     "output_type": "stream",
     "text": [
      "Starting experimental run with id: 14. \n"
     ]
    }
   ],
   "source": [
    "sizes = [1,500,1000,2000,3000,4000,5000]\n",
    "t_numeric = []\n",
    "t_numeric_add = []\n",
    "t_array = []\n",
    "t_array_add = []\n",
    "for size in sizes:\n",
    "    tn, tna, run_id_n =  insert_data('numeric', size)\n",
    "    t_numeric.append(tn)\n",
    "    t_numeric_add.append(tna)\n",
    "\n",
    "    ta, taa, run_id_a =  insert_data('array', size)\n",
    "    t_array.append(ta)\n",
    "    t_array_add.append(taa)"
   ]
  },
  {
   "cell_type": "code",
   "execution_count": 6,
   "metadata": {
    "execution": {
     "iopub.execute_input": "2021-01-29T15:48:35.889468Z",
     "iopub.status.busy": "2021-01-29T15:48:35.875566Z",
     "iopub.status.idle": "2021-01-29T15:48:36.052327Z",
     "shell.execute_reply": "2021-01-29T15:48:36.052721Z"
    }
   },
   "outputs": [
    {
     "data": {
      "image/png": "[encoded data removed]",
      "text/plain": [
       "<Figure size 432x288 with 1 Axes>"
      ]
     },
     "metadata": {
      "needs_background": "light"
     },
     "output_type": "display_data"
    }
   ],
   "source": [
    "fig, ax = plt.subplots(1,1)\n",
    "ax.plot(sizes, t_numeric, 'o-', label='Inserting row-by-row')\n",
    "ax.plot(sizes, t_numeric_add, 'o-', label='Inserting row-by-row: add_result only')\n",
    "ax.plot(sizes, t_array, 'd-', label='Inserting as binary blob')\n",
    "ax.plot(sizes, t_array_add, 'd-', label='Inserting as binary blob: add_result only')\n",
    "ax.legend()\n",
    "ax.set_xlabel('Array length')\n",
    "ax.set_ylabel('Time (s)')\n",
    "fig.tight_layout()"
   ]
  },
  {
   "cell_type": "markdown",
   "metadata": {},
   "source": [
    "As shown in the latter figure, the time to setup and and close the experiment is approximately 0.4 sec. In case of small array sizes, the difference between inserting values of data as arrays and inserting them row-by-row is relatively unimportant. At larger array sizes, i.e. above 10000 points, the cost of writing data as individual datapoints starts to become important.\n"
   ]
  },
  {
   "cell_type": "markdown",
   "metadata": {},
   "source": [
    "### Case2: Long experiment time "
   ]
  },
  {
   "cell_type": "code",
   "execution_count": 7,
   "metadata": {
    "execution": {
     "iopub.execute_input": "2021-01-29T15:48:36.055570Z",
     "iopub.status.busy": "2021-01-29T15:48:36.055038Z",
     "iopub.status.idle": "2021-01-29T15:49:32.753990Z",
     "shell.execute_reply": "2021-01-29T15:49:32.753484Z"
    }
   },
   "outputs": [
    {
     "name": "stdout",
     "output_type": "stream",
     "text": [
      "Starting experimental run with id: 15. \n",
      "Starting experimental run with id: 16. \n",
      "Starting experimental run with id: 17. \n"
     ]
    },
    {
     "name": "stdout",
     "output_type": "stream",
     "text": [
      "Starting experimental run with id: 18. \n",
      "Starting experimental run with id: 19. \n"
     ]
    },
    {
     "name": "stdout",
     "output_type": "stream",
     "text": [
      "Starting experimental run with id: 20. \n"
     ]
    },
    {
     "name": "stdout",
     "output_type": "stream",
     "text": [
      "Starting experimental run with id: 21. \n"
     ]
    },
    {
     "name": "stdout",
     "output_type": "stream",
     "text": [
      "Starting experimental run with id: 22. \n"
     ]
    },
    {
     "name": "stdout",
     "output_type": "stream",
     "text": [
      "Starting experimental run with id: 23. \n"
     ]
    },
    {
     "name": "stdout",
     "output_type": "stream",
     "text": [
      "Starting experimental run with id: 24. \n"
     ]
    },
    {
     "name": "stdout",
     "output_type": "stream",
     "text": [
      "Starting experimental run with id: 25. \n"
     ]
    },
    {
     "name": "stdout",
     "output_type": "stream",
     "text": [
      "Starting experimental run with id: 26. \n"
     ]
    },
    {
     "name": "stdout",
     "output_type": "stream",
     "text": [
      "Starting experimental run with id: 27. \n"
     ]
    },
    {
     "name": "stdout",
     "output_type": "stream",
     "text": [
      "Starting experimental run with id: 28. \n"
     ]
    }
   ],
   "source": [
    "sizes = [1,500,1000,2000,3000,4000,5000]\n",
    "nreps = 100\n",
    "t_numeric = []\n",
    "t_numeric_add = []\n",
    "t_numeric_run_ids = []\n",
    "t_array = []\n",
    "t_array_add = []\n",
    "t_array_run_ids = []\n",
    "for size in sizes:\n",
    "    tn, tna, run_id_n =  insert_data('numeric', size, nreps=nreps)\n",
    "    t_numeric.append(tn)\n",
    "    t_numeric_add.append(tna)\n",
    "    t_numeric_run_ids.append(run_id_n)\n",
    "\n",
    "    ta, taa, run_id_a =  insert_data('array', size, nreps=nreps)\n",
    "    t_array.append(ta)\n",
    "    t_array_add.append(taa)\n",
    "    t_array_run_ids.append(run_id_a)"
   ]
  },
  {
   "cell_type": "code",
   "execution_count": 8,
   "metadata": {
    "execution": {
     "iopub.execute_input": "2021-01-29T15:49:32.781603Z",
     "iopub.status.busy": "2021-01-29T15:49:32.759267Z",
     "iopub.status.idle": "2021-01-29T15:49:32.951633Z",
     "shell.execute_reply": "2021-01-29T15:49:32.952059Z"
    },
    "scrolled": true
   },
   "outputs": [
    {
     "data": {
      "image/png": "[encoded data removed]",
      "text/plain": [
       "<Figure size 432x288 with 1 Axes>"
      ]
     },
     "metadata": {
      "needs_background": "light"
     },
     "output_type": "display_data"
    }
   ],
   "source": [
    "fig, ax = plt.subplots(1,1)\n",
    "ax.plot(sizes, t_numeric, 'o-', label='Inserting row-by-row')\n",
    "ax.plot(sizes, t_numeric_add, 'o-', label='Inserting row-by-row: add_result only')\n",
    "ax.plot(sizes, t_array, 'd-', label='Inserting as binary blob')\n",
    "ax.plot(sizes, t_array_add, 'd-', label='Inserting as binary blob: add_result only')\n",
    "ax.legend()\n",
    "ax.set_xlabel('Array length')\n",
    "ax.set_ylabel('Time (s)')\n",
    "fig.tight_layout()"
   ]
  },
  {
   "cell_type": "markdown",
   "metadata": {},
   "source": [
    "However, as we increase the length of the experiment, as seen here by repeating the insertion 100 times, we see a big difference between inserting values of the data row-by-row and inserting it as a binary blob."
   ]
  },
  {
   "cell_type": "markdown",
   "metadata": {},
   "source": [
    "## Loading the data "
   ]
  },
  {
   "cell_type": "code",
   "execution_count": 9,
   "metadata": {
    "execution": {
     "iopub.execute_input": "2021-01-29T15:49:32.955789Z",
     "iopub.status.busy": "2021-01-29T15:49:32.955295Z",
     "iopub.status.idle": "2021-01-29T15:49:32.958634Z",
     "shell.execute_reply": "2021-01-29T15:49:32.958228Z"
    }
   },
   "outputs": [],
   "source": [
    "from qcodes.dataset.data_set import load_by_id\n",
    "from qcodes.dataset.data_export import get_data_by_id"
   ]
  },
  {
   "cell_type": "markdown",
   "metadata": {},
   "source": [
    "As usual you can load the data by using the ``load_by_id`` function but you will notice that the different storage methods\n",
    "are reflected in shape of the data as it is retrieved. "
   ]
  },
  {
   "cell_type": "code",
   "execution_count": 10,
   "metadata": {
    "execution": {
     "iopub.execute_input": "2021-01-29T15:49:32.962866Z",
     "iopub.status.busy": "2021-01-29T15:49:32.961825Z",
     "iopub.status.idle": "2021-01-29T15:49:32.963632Z",
     "shell.execute_reply": "2021-01-29T15:49:32.964097Z"
    }
   },
   "outputs": [],
   "source": [
    "run_id_n = t_numeric_run_ids[0]\n",
    "run_id_a = t_array_run_ids[0]"
   ]
  },
  {
   "cell_type": "code",
   "execution_count": 11,
   "metadata": {
    "execution": {
     "iopub.execute_input": "2021-01-29T15:49:32.967139Z",
     "iopub.status.busy": "2021-01-29T15:49:32.966627Z",
     "iopub.status.idle": "2021-01-29T15:49:32.975704Z",
     "shell.execute_reply": "2021-01-29T15:49:32.975152Z"
    },
    "scrolled": true
   },
   "outputs": [
    {
     "data": {
      "text/plain": [
       "{'x1': {'x1': array([0.04952697, 0.04952697, 0.65124241, 0.65124241, 0.14922141,\n",
       "         0.14922141, 0.50087708, 0.50087708, 0.82115692, 0.82115692,\n",
       "         0.20506183, 0.20506183, 0.23161865, 0.23161865, 0.05053145,\n",
       "         0.05053145, 0.88183244, 0.88183244, 0.21087993, 0.21087993,\n",
       "         0.25925297, 0.25925297, 0.58155941, 0.58155941, 0.89334413,\n",
       "         0.89334413, 0.47792921, 0.47792921, 0.41616995, 0.41616995,\n",
       "         0.59032915, 0.59032915, 0.24806903, 0.24806903, 0.00564331,\n",
       "         0.00564331, 0.49527355, 0.49527355, 0.76607434, 0.76607434,\n",
       "         0.47773248, 0.47773248, 0.50044974, 0.50044974, 0.55236467,\n",
       "         0.55236467, 0.33615727, 0.33615727, 0.20891176, 0.20891176,\n",
       "         0.6274077 , 0.6274077 , 0.13777506, 0.13777506, 0.88154628,\n",
       "         0.88154628, 0.73344013, 0.73344013, 0.30384188, 0.30384188,\n",
       "         0.10057822, 0.10057822, 0.49720782, 0.49720782, 0.41873848,\n",
       "         0.41873848, 0.97375649, 0.97375649, 0.73729772, 0.73729772,\n",
       "         0.95088481, 0.95088481, 0.17152093, 0.17152093, 0.98069822,\n",
       "         0.98069822, 0.27836012, 0.27836012, 0.94815581, 0.94815581,\n",
       "         0.10065795, 0.10065795, 0.98135269, 0.98135269, 0.56129687,\n",
       "         0.56129687, 0.97919011, 0.97919011, 0.44572706, 0.44572706,\n",
       "         0.8455604 , 0.8455604 , 0.890356  , 0.890356  , 0.89090294,\n",
       "         0.89090294, 0.21878772, 0.21878772, 0.10207675, 0.10207675,\n",
       "         0.07792394, 0.07792394, 0.67564809, 0.67564809, 0.26392711,\n",
       "         0.26392711, 0.7177643 , 0.7177643 , 0.01462994, 0.01462994,\n",
       "         0.12535669, 0.12535669, 0.66228806, 0.66228806, 0.76203302,\n",
       "         0.76203302, 0.99963141, 0.99963141, 0.16262705, 0.16262705,\n",
       "         0.62993431, 0.62993431, 0.00252918, 0.00252918, 0.21960127,\n",
       "         0.21960127, 0.91116647, 0.91116647, 0.201054  , 0.201054  ,\n",
       "         0.92809946, 0.92809946, 0.2664595 , 0.2664595 , 0.4809885 ,\n",
       "         0.4809885 , 0.84823615, 0.84823615, 0.88364727, 0.88364727,\n",
       "         0.32990997, 0.32990997, 0.2661527 , 0.2661527 , 0.07082431,\n",
       "         0.07082431, 0.1937941 , 0.1937941 , 0.44416122, 0.44416122,\n",
       "         0.61684447, 0.61684447, 0.26514424, 0.26514424, 0.03820421,\n",
       "         0.03820421, 0.3410698 , 0.3410698 , 0.77416871, 0.77416871,\n",
       "         0.4117496 , 0.4117496 , 0.27355117, 0.27355117, 0.26955976,\n",
       "         0.26955976, 0.16156598, 0.16156598, 0.40959555, 0.40959555,\n",
       "         0.03151942, 0.03151942, 0.18665611, 0.18665611, 0.34188656,\n",
       "         0.34188656, 0.46168314, 0.46168314, 0.69065377, 0.69065377,\n",
       "         0.09910791, 0.09910791, 0.3040634 , 0.3040634 , 0.02882882,\n",
       "         0.02882882, 0.89466128, 0.89466128, 0.30740848, 0.30740848,\n",
       "         0.89914103, 0.89914103, 0.74438616, 0.74438616, 0.42743462,\n",
       "         0.42743462, 0.29733754, 0.29733754, 0.27056533, 0.27056533])}}"
      ]
     },
     "execution_count": 1,
     "metadata": {},
     "output_type": "execute_result"
    }
   ],
   "source": [
    "ds = load_by_id(run_id_n)\n",
    "ds.get_parameter_data('x1')"
   ]
  },
  {
   "cell_type": "markdown",
   "metadata": {},
   "source": [
    "And a dataset stored as binary arrays"
   ]
  },
  {
   "cell_type": "code",
   "execution_count": 12,
   "metadata": {
    "execution": {
     "iopub.execute_input": "2021-01-29T15:49:32.979052Z",
     "iopub.status.busy": "2021-01-29T15:49:32.978454Z",
     "iopub.status.idle": "2021-01-29T15:49:33.031519Z",
     "shell.execute_reply": "2021-01-29T15:49:33.032375Z"
    },
    "scrolled": true
   },
   "outputs": [
    {
     "data": {
      "text/plain": [
       "{'x1': {'x1': array([[0.682214  ],\n",
       "         [0.682214  ],\n",
       "         [0.06263475],\n",
       "         [0.06263475],\n",
       "         [0.66861767],\n",
       "         [0.66861767],\n",
       "         [0.26970159],\n",
       "         [0.26970159],\n",
       "         [0.12749664],\n",
       "         [0.12749664],\n",
       "         [0.58850051],\n",
       "         [0.58850051],\n",
       "         [0.35957124],\n",
       "         [0.35957124],\n",
       "         [0.63140643],\n",
       "         [0.63140643],\n",
       "         [0.28077127],\n",
       "         [0.28077127],\n",
       "         [0.04122016],\n",
       "         [0.04122016],\n",
       "         [0.16849757],\n",
       "         [0.16849757],\n",
       "         [0.51585051],\n",
       "         [0.51585051],\n",
       "         [0.7020347 ],\n",
       "         [0.7020347 ],\n",
       "         [0.27180307],\n",
       "         [0.27180307],\n",
       "         [0.70141946],\n",
       "         [0.70141946],\n",
       "         [0.19995081],\n",
       "         [0.19995081],\n",
       "         [0.23720606],\n",
       "         [0.23720606],\n",
       "         [0.85028899],\n",
       "         [0.85028899],\n",
       "         [0.81689183],\n",
       "         [0.81689183],\n",
       "         [0.16079721],\n",
       "         [0.16079721],\n",
       "         [0.7231177 ],\n",
       "         [0.7231177 ],\n",
       "         [0.02256074],\n",
       "         [0.02256074],\n",
       "         [0.41945978],\n",
       "         [0.41945978],\n",
       "         [0.19746794],\n",
       "         [0.19746794],\n",
       "         [0.11795165],\n",
       "         [0.11795165],\n",
       "         [0.15692467],\n",
       "         [0.15692467],\n",
       "         [0.58887946],\n",
       "         [0.58887946],\n",
       "         [0.80750006],\n",
       "         [0.80750006],\n",
       "         [0.98112072],\n",
       "         [0.98112072],\n",
       "         [0.05682266],\n",
       "         [0.05682266],\n",
       "         [0.0741402 ],\n",
       "         [0.0741402 ],\n",
       "         [0.58685637],\n",
       "         [0.58685637],\n",
       "         [0.18986965],\n",
       "         [0.18986965],\n",
       "         [0.33954128],\n",
       "         [0.33954128],\n",
       "         [0.52476121],\n",
       "         [0.52476121],\n",
       "         [0.04556395],\n",
       "         [0.04556395],\n",
       "         [0.08692377],\n",
       "         [0.08692377],\n",
       "         [0.46681783],\n",
       "         [0.46681783],\n",
       "         [0.64084089],\n",
       "         [0.64084089],\n",
       "         [0.41870756],\n",
       "         [0.41870756],\n",
       "         [0.37171707],\n",
       "         [0.37171707],\n",
       "         [0.73971878],\n",
       "         [0.73971878],\n",
       "         [0.92515595],\n",
       "         [0.92515595],\n",
       "         [0.86852657],\n",
       "         [0.86852657],\n",
       "         [0.04618981],\n",
       "         [0.04618981],\n",
       "         [0.64255944],\n",
       "         [0.64255944],\n",
       "         [0.65255325],\n",
       "         [0.65255325],\n",
       "         [0.61755164],\n",
       "         [0.61755164],\n",
       "         [0.75961738],\n",
       "         [0.75961738],\n",
       "         [0.35563899],\n",
       "         [0.35563899],\n",
       "         [0.80848736],\n",
       "         [0.80848736],\n",
       "         [0.66748664],\n",
       "         [0.66748664],\n",
       "         [0.37548034],\n",
       "         [0.37548034],\n",
       "         [0.16315269],\n",
       "         [0.16315269],\n",
       "         [0.35252838],\n",
       "         [0.35252838],\n",
       "         [0.79755539],\n",
       "         [0.79755539],\n",
       "         [0.46815671],\n",
       "         [0.46815671],\n",
       "         [0.19703144],\n",
       "         [0.19703144],\n",
       "         [0.93083679],\n",
       "         [0.93083679],\n",
       "         [0.87156839],\n",
       "         [0.87156839],\n",
       "         [0.73932517],\n",
       "         [0.73932517],\n",
       "         [0.94082416],\n",
       "         [0.94082416],\n",
       "         [0.84524236],\n",
       "         [0.84524236],\n",
       "         [0.69771128],\n",
       "         [0.69771128],\n",
       "         [0.60346478],\n",
       "         [0.60346478],\n",
       "         [0.29828472],\n",
       "         [0.29828472],\n",
       "         [0.11495649],\n",
       "         [0.11495649],\n",
       "         [0.9299805 ],\n",
       "         [0.9299805 ],\n",
       "         [0.68229541],\n",
       "         [0.68229541],\n",
       "         [0.48524423],\n",
       "         [0.48524423],\n",
       "         [0.18288649],\n",
       "         [0.18288649],\n",
       "         [0.24600507],\n",
       "         [0.24600507],\n",
       "         [0.71589187],\n",
       "         [0.71589187],\n",
       "         [0.01295614],\n",
       "         [0.01295614],\n",
       "         [0.61592119],\n",
       "         [0.61592119],\n",
       "         [0.73288608],\n",
       "         [0.73288608],\n",
       "         [0.9805763 ],\n",
       "         [0.9805763 ],\n",
       "         [0.1404484 ],\n",
       "         [0.1404484 ],\n",
       "         [0.10461864],\n",
       "         [0.10461864],\n",
       "         [0.98053606],\n",
       "         [0.98053606],\n",
       "         [0.02868316],\n",
       "         [0.02868316],\n",
       "         [0.41375186],\n",
       "         [0.41375186],\n",
       "         [0.55272612],\n",
       "         [0.55272612],\n",
       "         [0.24877828],\n",
       "         [0.24877828],\n",
       "         [0.47072445],\n",
       "         [0.47072445],\n",
       "         [0.36687535],\n",
       "         [0.36687535],\n",
       "         [0.18282379],\n",
       "         [0.18282379],\n",
       "         [0.89187748],\n",
       "         [0.89187748],\n",
       "         [0.67759091],\n",
       "         [0.67759091],\n",
       "         [0.26958721],\n",
       "         [0.26958721],\n",
       "         [0.28456357],\n",
       "         [0.28456357],\n",
       "         [0.5999231 ],\n",
       "         [0.5999231 ],\n",
       "         [0.90323236],\n",
       "         [0.90323236],\n",
       "         [0.94172844],\n",
       "         [0.94172844],\n",
       "         [0.73742089],\n",
       "         [0.73742089],\n",
       "         [0.57220472],\n",
       "         [0.57220472],\n",
       "         [0.63247664],\n",
       "         [0.63247664],\n",
       "         [0.88227439],\n",
       "         [0.88227439],\n",
       "         [0.10733878],\n",
       "         [0.10733878],\n",
       "         [0.5791605 ],\n",
       "         [0.5791605 ]])}}"
      ]
     },
     "execution_count": 1,
     "metadata": {},
     "output_type": "execute_result"
    }
   ],
   "source": [
    "ds = load_by_id(run_id_a)\n",
    "ds.get_parameter_data('x1')"
   ]
  },
  {
   "cell_type": "code",
   "execution_count": null,
   "metadata": {},
   "outputs": [],
   "source": []
  }
 ],
 "metadata": {
  "kernelspec": {
   "display_name": "Python 3",
   "language": "python",
   "name": "python3"
  },
  "language_info": {
   "codemirror_mode": {
    "name": "ipython",
    "version": 3
   },
   "file_extension": ".py",
   "mimetype": "text/x-python",
   "name": "python",
   "nbconvert_exporter": "python",
   "pygments_lexer": "ipython3",
   "version": "3.7.9"
  },
  "nbsphinx": {
   "timeout": 600
  },
  "toc": {
   "base_numbering": 1,
   "nav_menu": {},
   "number_sections": true,
   "sideBar": true,
   "skip_h1_title": false,
   "title_cell": "Table of Contents",
   "title_sidebar": "Contents",
   "toc_cell": false,
   "toc_position": {},
   "toc_section_display": true,
   "toc_window_display": false
  },
  "varInspector": {
   "cols": {
    "lenName": 16,
    "lenType": 16,
    "lenVar": 40
   },
   "kernels_config": {
    "python": {
     "delete_cmd_postfix": "",
     "delete_cmd_prefix": "del ",
     "library": "var_list.py",
     "varRefreshCmd": "print(var_dic_list())"
    },
    "r": {
     "delete_cmd_postfix": ") ",
     "delete_cmd_prefix": "rm(",
     "library": "var_list.r",
     "varRefreshCmd": "cat(var_dic_list()) "
    }
   },
   "types_to_exclude": [
    "module",
    "function",
    "builtin_function_or_method",
    "instance",
    "_Feature"
   ],
   "window_display": false
  }
 },
 "nbformat": 4,
 "nbformat_minor": 2
}
