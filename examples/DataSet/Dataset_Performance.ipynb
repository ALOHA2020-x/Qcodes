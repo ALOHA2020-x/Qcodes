{
 "cells": [
  {
   "cell_type": "markdown",
   "metadata": {},
   "source": [
    "# DataSet Performance\n",
    "\n",
    "This notebook shows the trade-off between inserting data into a database row-by-row and as binary blobs. Inserting the data row-by-row means that we have direct access to all the data and may perform queries directly on the values of the data. On the other hand, as we shall see, this is much slower than inserting the data directly as binary blobs."
   ]
  },
  {
   "cell_type": "markdown",
   "metadata": {},
   "source": [
    "First, we choose a new location for the database to ensure that we don't add a bunch of benchmarking data to the default one."
   ]
  },
  {
   "cell_type": "code",
   "execution_count": 1,
   "metadata": {},
   "outputs": [
    {
     "name": "stdout",
     "output_type": "stream",
     "text": [
      "Logging hadn't been started.\n",
      "Activating auto-logging. Current session state plus future input saved.\n",
      "Filename       : /home/vsts/.qcodes/logs/command_history.log\n",
      "Mode           : append\n",
      "Output logging : True\n",
      "Raw input log  : False\n",
      "Timestamping   : True\n",
      "State          : active\n"
     ]
    },
    {
     "name": "stdout",
     "output_type": "stream",
     "text": [
      "Qcodes Logfile : /home/vsts/.qcodes/logs/200414-18604-qcodes.log\n"
     ]
    }
   ],
   "source": [
    "import os\n",
    "cwd = os.getcwd()\n",
    "import qcodes as qc\n",
    "qc.config[\"core\"][\"db_location\"] = os.path.join(cwd, 'testing.db')\n"
   ]
  },
  {
   "cell_type": "code",
   "execution_count": 2,
   "metadata": {},
   "outputs": [],
   "source": [
    "%matplotlib inline\n",
    "import time\n",
    "import matplotlib.pyplot as plt\n",
    "import numpy as np\n",
    "\n",
    "import qcodes as qc\n",
    "from qcodes.instrument.parameter import ManualParameter\n",
    "from qcodes.dataset.experiment_container import (Experiment,\n",
    "                                                 load_last_experiment,\n",
    "                                                 new_experiment)\n",
    "from qcodes.dataset.sqlite.database import initialise_database\n",
    "from qcodes import load_or_create_experiment\n",
    "from qcodes.dataset.measurements import Measurement"
   ]
  },
  {
   "cell_type": "code",
   "execution_count": 3,
   "metadata": {},
   "outputs": [
    {
     "name": "stdout",
     "output_type": "stream",
     "text": [
      "\r",
      "0it [00:00, ?it/s]"
     ]
    },
    {
     "name": "stdout",
     "output_type": "stream",
     "text": [
      "\r",
      "Upgrading database; v0 -> v1: : 0it [00:00, ?it/s]"
     ]
    },
    {
     "name": "stdout",
     "output_type": "stream",
     "text": [
      "\r",
      "Upgrading database; v0 -> v1: : 0it [00:00, ?it/s]"
     ]
    },
    {
     "name": "stdout",
     "output_type": "stream",
     "text": [
      "\n",
      "\r",
      "  0%|          | 0/1 [00:00<?, ?it/s]"
     ]
    },
    {
     "name": "stdout",
     "output_type": "stream",
     "text": [
      "\r",
      "Upgrading database; v1 -> v2:   0%|          | 0/1 [00:00<?, ?it/s]"
     ]
    },
    {
     "name": "stdout",
     "output_type": "stream",
     "text": [
      "\r",
      "Upgrading database; v1 -> v2: 100%|██████████| 1/1 [00:00<00:00, 948.29it/s]"
     ]
    },
    {
     "name": "stdout",
     "output_type": "stream",
     "text": [
      "\n",
      "\r",
      "0it [00:00, ?it/s]"
     ]
    },
    {
     "name": "stdout",
     "output_type": "stream",
     "text": [
      "\r",
      "Upgrading database; v2 -> v3: : 0it [00:00, ?it/s]"
     ]
    },
    {
     "name": "stdout",
     "output_type": "stream",
     "text": [
      "\r",
      "Upgrading database; v2 -> v3: : 0it [00:00, ?it/s]"
     ]
    },
    {
     "name": "stdout",
     "output_type": "stream",
     "text": [
      "\n",
      "\r",
      "0it [00:00, ?it/s]"
     ]
    },
    {
     "name": "stdout",
     "output_type": "stream",
     "text": [
      "\r",
      "Upgrading database; v3 -> v4: : 0it [00:00, ?it/s]"
     ]
    },
    {
     "name": "stdout",
     "output_type": "stream",
     "text": [
      "\r",
      "Upgrading database; v3 -> v4: : 0it [00:00, ?it/s]"
     ]
    },
    {
     "name": "stdout",
     "output_type": "stream",
     "text": [
      "\n",
      "\r",
      "  0%|          | 0/1 [00:00<?, ?it/s]"
     ]
    },
    {
     "name": "stdout",
     "output_type": "stream",
     "text": [
      "\r",
      "Upgrading database; v4 -> v5:   0%|          | 0/1 [00:00<?, ?it/s]"
     ]
    },
    {
     "name": "stdout",
     "output_type": "stream",
     "text": [
      "\r",
      "Upgrading database; v4 -> v5: 100%|██████████| 1/1 [00:00<00:00, 785.60it/s]"
     ]
    },
    {
     "name": "stdout",
     "output_type": "stream",
     "text": [
      "\n",
      "\r",
      "0it [00:00, ?it/s]"
     ]
    },
    {
     "name": "stdout",
     "output_type": "stream",
     "text": [
      "\r",
      "Upgrading database; v5 -> v6: : 0it [00:00, ?it/s]"
     ]
    },
    {
     "name": "stdout",
     "output_type": "stream",
     "text": [
      "\r",
      "Upgrading database; v5 -> v6: : 0it [00:00, ?it/s]"
     ]
    },
    {
     "name": "stdout",
     "output_type": "stream",
     "text": [
      "\n",
      "\r",
      "  0%|          | 0/1 [00:00<?, ?it/s]"
     ]
    },
    {
     "name": "stdout",
     "output_type": "stream",
     "text": [
      "\r",
      "Upgrading database; v6 -> v7:   0%|          | 0/1 [00:00<?, ?it/s]"
     ]
    },
    {
     "name": "stdout",
     "output_type": "stream",
     "text": [
      "\r",
      "Upgrading database; v6 -> v7: 100%|██████████| 1/1 [00:00<00:00, 397.04it/s]"
     ]
    },
    {
     "name": "stdout",
     "output_type": "stream",
     "text": [
      "\n",
      "\r",
      "  0%|          | 0/1 [00:00<?, ?it/s]"
     ]
    },
    {
     "name": "stdout",
     "output_type": "stream",
     "text": [
      "\r",
      "Upgrading database; v7 -> v8:   0%|          | 0/1 [00:00<?, ?it/s]"
     ]
    },
    {
     "name": "stdout",
     "output_type": "stream",
     "text": [
      "\r",
      "Upgrading database; v7 -> v8: 100%|██████████| 1/1 [00:00<00:00, 781.94it/s]"
     ]
    },
    {
     "name": "stdout",
     "output_type": "stream",
     "text": [
      "\n",
      "\r",
      "  0%|          | 0/1 [00:00<?, ?it/s]"
     ]
    },
    {
     "name": "stdout",
     "output_type": "stream",
     "text": [
      "\r",
      "Upgrading database; v8 -> v9:   0%|          | 0/1 [00:00<?, ?it/s]"
     ]
    },
    {
     "name": "stdout",
     "output_type": "stream",
     "text": [
      "\r",
      "Upgrading database; v8 -> v9: 100%|██████████| 1/1 [00:00<00:00, 1207.34it/s]"
     ]
    },
    {
     "name": "stdout",
     "output_type": "stream",
     "text": [
      "\n"
     ]
    }
   ],
   "source": [
    "initialise_database()\n",
    "exp = load_or_create_experiment(experiment_name='tutorial_exp', sample_name=\"no sample\")"
   ]
  },
  {
   "cell_type": "markdown",
   "metadata": {},
   "source": [
    "Here, we define a simple function to benchmark the time it takes to insert n points with either numeric or array data type.\n",
    "We will compare both the time used to call ``add_result`` and the time used for the full measurement."
   ]
  },
  {
   "cell_type": "code",
   "execution_count": 4,
   "metadata": {},
   "outputs": [],
   "source": [
    "def insert_data(paramtype, npoints, nreps=1):\n",
    "\n",
    "    meas = Measurement(exp=exp)\n",
    "\n",
    "    x1 = ManualParameter('x1')\n",
    "    x2 = ManualParameter('x2')\n",
    "    x3 = ManualParameter('x3')\n",
    "    y1 = ManualParameter('y1')\n",
    "    y2 = ManualParameter('y2')\n",
    "\n",
    "    meas.register_parameter(x1, paramtype=paramtype)\n",
    "    meas.register_parameter(x2, paramtype=paramtype)\n",
    "    meas.register_parameter(x3, paramtype=paramtype)\n",
    "    meas.register_parameter(y1, setpoints=[x1, x2, x3],\n",
    "                            paramtype=paramtype)\n",
    "    meas.register_parameter(y2, setpoints=[x1, x2, x3],\n",
    "                            paramtype=paramtype)\n",
    "    start = time.perf_counter()\n",
    "    with meas.run() as datasaver:\n",
    "        start_adding = time.perf_counter()\n",
    "        for i in range(nreps):\n",
    "            datasaver.add_result((x1, np.random.rand(npoints)),\n",
    "                                 (x2, np.random.rand(npoints)),\n",
    "                                 (x3, np.random.rand(npoints)),\n",
    "                                 (y1, np.random.rand(npoints)),\n",
    "                                 (y2, np.random.rand(npoints)))\n",
    "        stop_adding = time.perf_counter()\n",
    "        run_id = datasaver.run_id\n",
    "    stop = time.perf_counter()\n",
    "    tot_time = stop - start\n",
    "    add_time = stop_adding - start_adding\n",
    "    return tot_time, add_time, run_id"
   ]
  },
  {
   "cell_type": "markdown",
   "metadata": {},
   "source": [
    "## Comparison between numeric/array data and binary blob"
   ]
  },
  {
   "cell_type": "markdown",
   "metadata": {},
   "source": [
    "### Case1: Short experiment time"
   ]
  },
  {
   "cell_type": "code",
   "execution_count": 5,
   "metadata": {},
   "outputs": [
    {
     "name": "stdout",
     "output_type": "stream",
     "text": [
      "Starting experimental run with id: 1. \n",
      "Starting experimental run with id: 2. \n",
      "Starting experimental run with id: 3. \n",
      "Starting experimental run with id: 4. \n"
     ]
    },
    {
     "name": "stdout",
     "output_type": "stream",
     "text": [
      "Starting experimental run with id: 5. \n"
     ]
    },
    {
     "name": "stdout",
     "output_type": "stream",
     "text": [
      "Starting experimental run with id: 6. \n"
     ]
    },
    {
     "name": "stdout",
     "output_type": "stream",
     "text": [
      "Starting experimental run with id: 7. \n"
     ]
    },
    {
     "name": "stdout",
     "output_type": "stream",
     "text": [
      "Starting experimental run with id: 8. \n",
      "Starting experimental run with id: 9. \n"
     ]
    },
    {
     "name": "stdout",
     "output_type": "stream",
     "text": [
      "Starting experimental run with id: 10. \n",
      "Starting experimental run with id: 11. \n"
     ]
    },
    {
     "name": "stdout",
     "output_type": "stream",
     "text": [
      "Starting experimental run with id: 12. \n"
     ]
    },
    {
     "name": "stdout",
     "output_type": "stream",
     "text": [
      "Starting experimental run with id: 13. \n"
     ]
    },
    {
     "name": "stdout",
     "output_type": "stream",
     "text": [
      "Starting experimental run with id: 14. \n"
     ]
    }
   ],
   "source": [
    "sizes = [1,500,1000,2000,3000,4000,5000]\n",
    "t_numeric = []\n",
    "t_numeric_add = []\n",
    "t_array = []\n",
    "t_array_add = []\n",
    "for size in sizes:\n",
    "    tn, tna, run_id_n =  insert_data('numeric', size)\n",
    "    t_numeric.append(tn)\n",
    "    t_numeric_add.append(tna)\n",
    "\n",
    "    ta, taa, run_id_a =  insert_data('array', size)\n",
    "    t_array.append(ta)\n",
    "    t_array_add.append(taa)"
   ]
  },
  {
   "cell_type": "code",
   "execution_count": 6,
   "metadata": {},
   "outputs": [
    {
     "data": {
      "image/png": "[encoded data removed]",
      "text/plain": [
       "<Figure size 432x288 with 1 Axes>"
      ]
     },
     "metadata": {
      "needs_background": "light"
     },
     "output_type": "display_data"
    }
   ],
   "source": [
    "fig, ax = plt.subplots(1,1)\n",
    "ax.plot(sizes, t_numeric, 'o-', label='Inserting row-by-row')\n",
    "ax.plot(sizes, t_numeric_add, 'o-', label='Inserting row-by-row: add_result only')\n",
    "ax.plot(sizes, t_array, 'd-', label='Inserting as binary blob')\n",
    "ax.plot(sizes, t_array_add, 'd-', label='Inserting as binary blob: add_result only')\n",
    "ax.legend()\n",
    "ax.set_xlabel('Array length')\n",
    "ax.set_ylabel('Time (s)')\n",
    "fig.tight_layout()"
   ]
  },
  {
   "cell_type": "markdown",
   "metadata": {},
   "source": [
    "As shown in the latter figure, the time to setup and and close the experiment is approximately 0.4 sec. In case of small array sizes, the difference between inserting values of data as arrays and inserting them row-by-row is relatively unimportant. At larger array sizes, i.e. above 10000 points, the cost of writing data as individual datapoints starts to become important.\n"
   ]
  },
  {
   "cell_type": "markdown",
   "metadata": {},
   "source": [
    "### Case2: Long experiment time "
   ]
  },
  {
   "cell_type": "code",
   "execution_count": 7,
   "metadata": {},
   "outputs": [
    {
     "name": "stdout",
     "output_type": "stream",
     "text": [
      "Starting experimental run with id: 15. \n",
      "Starting experimental run with id: 16. \n",
      "Starting experimental run with id: 17. \n"
     ]
    },
    {
     "name": "stdout",
     "output_type": "stream",
     "text": [
      "Starting experimental run with id: 18. \n",
      "Starting experimental run with id: 19. \n"
     ]
    },
    {
     "name": "stdout",
     "output_type": "stream",
     "text": [
      "Starting experimental run with id: 20. \n"
     ]
    },
    {
     "name": "stdout",
     "output_type": "stream",
     "text": [
      "Starting experimental run with id: 21. \n"
     ]
    },
    {
     "name": "stdout",
     "output_type": "stream",
     "text": [
      "Starting experimental run with id: 22. \n"
     ]
    },
    {
     "name": "stdout",
     "output_type": "stream",
     "text": [
      "Starting experimental run with id: 23. \n"
     ]
    },
    {
     "name": "stdout",
     "output_type": "stream",
     "text": [
      "Starting experimental run with id: 24. \n"
     ]
    },
    {
     "name": "stdout",
     "output_type": "stream",
     "text": [
      "Starting experimental run with id: 25. \n"
     ]
    },
    {
     "name": "stdout",
     "output_type": "stream",
     "text": [
      "Starting experimental run with id: 26. \n"
     ]
    },
    {
     "name": "stdout",
     "output_type": "stream",
     "text": [
      "Starting experimental run with id: 27. \n"
     ]
    },
    {
     "name": "stdout",
     "output_type": "stream",
     "text": [
      "Starting experimental run with id: 28. \n"
     ]
    }
   ],
   "source": [
    "sizes = [1,500,1000,2000,3000,4000,5000]\n",
    "nreps = 100\n",
    "t_numeric = []\n",
    "t_numeric_add = []\n",
    "t_numeric_run_ids = []\n",
    "t_array = []\n",
    "t_array_add = []\n",
    "t_array_run_ids = []\n",
    "for size in sizes:\n",
    "    tn, tna, run_id_n =  insert_data('numeric', size, nreps=nreps)\n",
    "    t_numeric.append(tn)\n",
    "    t_numeric_add.append(tna)\n",
    "    t_numeric_run_ids.append(run_id_n)\n",
    "\n",
    "    ta, taa, run_id_a =  insert_data('array', size, nreps=nreps)\n",
    "    t_array.append(ta)\n",
    "    t_array_add.append(taa)\n",
    "    t_array_run_ids.append(run_id_a)"
   ]
  },
  {
   "cell_type": "code",
   "execution_count": 8,
   "metadata": {
    "scrolled": true
   },
   "outputs": [
    {
     "data": {
      "image/png": "[encoded data removed]",
      "text/plain": [
       "<Figure size 432x288 with 1 Axes>"
      ]
     },
     "metadata": {
      "needs_background": "light"
     },
     "output_type": "display_data"
    }
   ],
   "source": [
    "fig, ax = plt.subplots(1,1)\n",
    "ax.plot(sizes, t_numeric, 'o-', label='Inserting row-by-row')\n",
    "ax.plot(sizes, t_numeric_add, 'o-', label='Inserting row-by-row: add_result only')\n",
    "ax.plot(sizes, t_array, 'd-', label='Inserting as binary blob')\n",
    "ax.plot(sizes, t_array_add, 'd-', label='Inserting as binary blob: add_result only')\n",
    "ax.legend()\n",
    "ax.set_xlabel('Array length')\n",
    "ax.set_ylabel('Time (s)')\n",
    "fig.tight_layout()"
   ]
  },
  {
   "cell_type": "markdown",
   "metadata": {},
   "source": [
    "However, as we increase the length of the experiment, as seen here by repeating the insertion 100 times, we see a big difference between inserting values of the data row-by-row and inserting it as a binary blob."
   ]
  },
  {
   "cell_type": "markdown",
   "metadata": {},
   "source": [
    "## Loading the data "
   ]
  },
  {
   "cell_type": "code",
   "execution_count": 9,
   "metadata": {},
   "outputs": [],
   "source": [
    "from qcodes.dataset.data_set import load_by_id\n",
    "from qcodes.dataset.data_export import get_data_by_id"
   ]
  },
  {
   "cell_type": "markdown",
   "metadata": {},
   "source": [
    "As usual you can load the data by using the ``load_by_id`` function but you will notice that the different storage methods\n",
    "are reflected in shape of the data as it is retrieved. "
   ]
  },
  {
   "cell_type": "code",
   "execution_count": 10,
   "metadata": {},
   "outputs": [],
   "source": [
    "run_id_n = t_numeric_run_ids[0]\n",
    "run_id_a = t_array_run_ids[0]"
   ]
  },
  {
   "cell_type": "code",
   "execution_count": 11,
   "metadata": {
    "scrolled": true
   },
   "outputs": [
    {
     "data": {
      "text/plain": [
       "{'x1': {'x1': array([1.20893934e-01, 1.20893934e-01, 5.64463145e-01, 5.64463145e-01,\n",
       "         9.92833876e-02, 9.92833876e-02, 5.38255600e-01, 5.38255600e-01,\n",
       "         3.19035367e-01, 3.19035367e-01, 1.45956610e-01, 1.45956610e-01,\n",
       "         3.20295505e-01, 3.20295505e-01, 3.36980702e-01, 3.36980702e-01,\n",
       "         5.97829591e-01, 5.97829591e-01, 3.78553574e-01, 3.78553574e-01,\n",
       "         8.10515624e-01, 8.10515624e-01, 3.53537169e-02, 3.53537169e-02,\n",
       "         4.55404911e-01, 4.55404911e-01, 1.45911440e-01, 1.45911440e-01,\n",
       "         5.93959668e-01, 5.93959668e-01, 8.75425532e-01, 8.75425532e-01,\n",
       "         9.32824288e-01, 9.32824288e-01, 1.39897443e-01, 1.39897443e-01,\n",
       "         3.38954925e-02, 3.38954925e-02, 9.99641389e-01, 9.99641389e-01,\n",
       "         1.66235977e-01, 1.66235977e-01, 7.33970473e-01, 7.33970473e-01,\n",
       "         6.38075476e-01, 6.38075476e-01, 3.28347094e-01, 3.28347094e-01,\n",
       "         5.47815189e-01, 5.47815189e-01, 2.64527236e-01, 2.64527236e-01,\n",
       "         6.22104597e-01, 6.22104597e-01, 8.55262171e-01, 8.55262171e-01,\n",
       "         1.94574206e-01, 1.94574206e-01, 9.25984763e-01, 9.25984763e-01,\n",
       "         7.79405314e-01, 7.79405314e-01, 5.55853844e-01, 5.55853844e-01,\n",
       "         5.66983564e-02, 5.66983564e-02, 1.92140815e-01, 1.92140815e-01,\n",
       "         9.50528238e-01, 9.50528238e-01, 2.01251988e-01, 2.01251988e-01,\n",
       "         4.23142611e-01, 4.23142611e-01, 3.87915099e-02, 3.87915099e-02,\n",
       "         6.84941792e-01, 6.84941792e-01, 7.93588814e-02, 7.93588814e-02,\n",
       "         5.26992805e-01, 5.26992805e-01, 7.02179515e-01, 7.02179515e-01,\n",
       "         1.01872631e-01, 1.01872631e-01, 8.11693040e-01, 8.11693040e-01,\n",
       "         1.67117228e-01, 1.67117228e-01, 7.24788834e-01, 7.24788834e-01,\n",
       "         2.22263688e-01, 2.22263688e-01, 5.44936969e-01, 5.44936969e-01,\n",
       "         6.00734599e-01, 6.00734599e-01, 4.93039351e-01, 4.93039351e-01,\n",
       "         1.62313600e-01, 1.62313600e-01, 6.43616352e-01, 6.43616352e-01,\n",
       "         1.50719327e-01, 1.50719327e-01, 1.25489562e-01, 1.25489562e-01,\n",
       "         3.80515669e-01, 3.80515669e-01, 7.72299207e-02, 7.72299207e-02,\n",
       "         9.38648753e-01, 9.38648753e-01, 8.06384162e-01, 8.06384162e-01,\n",
       "         3.64388031e-02, 3.64388031e-02, 2.84439729e-01, 2.84439729e-01,\n",
       "         8.67322169e-01, 8.67322169e-01, 8.45621899e-01, 8.45621899e-01,\n",
       "         8.49422716e-02, 8.49422716e-02, 8.24768699e-01, 8.24768699e-01,\n",
       "         2.51553337e-01, 2.51553337e-01, 9.06852201e-01, 9.06852201e-01,\n",
       "         6.67413165e-02, 6.67413165e-02, 6.42090382e-01, 6.42090382e-01,\n",
       "         5.97455096e-01, 5.97455096e-01, 4.31600077e-01, 4.31600077e-01,\n",
       "         2.16210704e-01, 2.16210704e-01, 7.76556772e-01, 7.76556772e-01,\n",
       "         4.82286587e-01, 4.82286587e-01, 1.29446587e-01, 1.29446587e-01,\n",
       "         2.92775807e-01, 2.92775807e-01, 2.40737328e-02, 2.40737328e-02,\n",
       "         7.87237453e-01, 7.87237453e-01, 9.84474866e-02, 9.84474866e-02,\n",
       "         9.26830749e-01, 9.26830749e-01, 6.27104944e-01, 6.27104944e-01,\n",
       "         6.77989165e-01, 6.77989165e-01, 6.91572042e-01, 6.91572042e-01,\n",
       "         7.83542664e-01, 7.83542664e-01, 6.90400012e-01, 6.90400012e-01,\n",
       "         1.92810671e-01, 1.92810671e-01, 5.69038950e-01, 5.69038950e-01,\n",
       "         3.93727718e-01, 3.93727718e-01, 6.65011486e-04, 6.65011486e-04,\n",
       "         2.71467752e-01, 2.71467752e-01, 8.63258232e-01, 8.63258232e-01,\n",
       "         7.39942041e-01, 7.39942041e-01, 2.70186807e-01, 2.70186807e-01,\n",
       "         6.42625345e-01, 6.42625345e-01, 1.87898867e-01, 1.87898867e-01,\n",
       "         9.82175722e-02, 9.82175722e-02, 9.32379784e-01, 9.32379784e-01,\n",
       "         8.12125356e-02, 8.12125356e-02, 4.17116585e-01, 4.17116585e-01,\n",
       "         1.41876933e-02, 1.41876933e-02, 4.43199631e-01, 4.43199631e-01])}}"
      ]
     },
     "execution_count": 11,
     "metadata": {},
     "output_type": "execute_result"
    }
   ],
   "source": [
    "ds = load_by_id(run_id_n)\n",
    "ds.get_parameter_data('x1')"
   ]
  },
  {
   "cell_type": "markdown",
   "metadata": {},
   "source": [
    "And a dataset stored as binary arrays"
   ]
  },
  {
   "cell_type": "code",
   "execution_count": 12,
   "metadata": {
    "scrolled": true
   },
   "outputs": [
    {
     "data": {
      "text/plain": [
       "{'x1': {'x1': array([[0.81245096],\n",
       "         [0.81245096],\n",
       "         [0.58880083],\n",
       "         [0.58880083],\n",
       "         [0.29965831],\n",
       "         [0.29965831],\n",
       "         [0.48845625],\n",
       "         [0.48845625],\n",
       "         [0.8192648 ],\n",
       "         [0.8192648 ],\n",
       "         [0.71928742],\n",
       "         [0.71928742],\n",
       "         [0.24788432],\n",
       "         [0.24788432],\n",
       "         [0.79364869],\n",
       "         [0.79364869],\n",
       "         [0.70486714],\n",
       "         [0.70486714],\n",
       "         [0.73280655],\n",
       "         [0.73280655],\n",
       "         [0.56928357],\n",
       "         [0.56928357],\n",
       "         [0.92569724],\n",
       "         [0.92569724],\n",
       "         [0.80023615],\n",
       "         [0.80023615],\n",
       "         [0.69657881],\n",
       "         [0.69657881],\n",
       "         [0.91514999],\n",
       "         [0.91514999],\n",
       "         [0.51389773],\n",
       "         [0.51389773],\n",
       "         [0.80271834],\n",
       "         [0.80271834],\n",
       "         [0.09499154],\n",
       "         [0.09499154],\n",
       "         [0.26606939],\n",
       "         [0.26606939],\n",
       "         [0.36536072],\n",
       "         [0.36536072],\n",
       "         [0.81819528],\n",
       "         [0.81819528],\n",
       "         [0.68255288],\n",
       "         [0.68255288],\n",
       "         [0.95855899],\n",
       "         [0.95855899],\n",
       "         [0.24468267],\n",
       "         [0.24468267],\n",
       "         [0.96637926],\n",
       "         [0.96637926],\n",
       "         [0.29965757],\n",
       "         [0.29965757],\n",
       "         [0.20325576],\n",
       "         [0.20325576],\n",
       "         [0.92013214],\n",
       "         [0.92013214],\n",
       "         [0.64628946],\n",
       "         [0.64628946],\n",
       "         [0.73535284],\n",
       "         [0.73535284],\n",
       "         [0.58169791],\n",
       "         [0.58169791],\n",
       "         [0.48280282],\n",
       "         [0.48280282],\n",
       "         [0.26689409],\n",
       "         [0.26689409],\n",
       "         [0.30236842],\n",
       "         [0.30236842],\n",
       "         [0.82020098],\n",
       "         [0.82020098],\n",
       "         [0.12455378],\n",
       "         [0.12455378],\n",
       "         [0.3908173 ],\n",
       "         [0.3908173 ],\n",
       "         [0.52658796],\n",
       "         [0.52658796],\n",
       "         [0.69751162],\n",
       "         [0.69751162],\n",
       "         [0.72170267],\n",
       "         [0.72170267],\n",
       "         [0.4160868 ],\n",
       "         [0.4160868 ],\n",
       "         [0.03442941],\n",
       "         [0.03442941],\n",
       "         [0.46035982],\n",
       "         [0.46035982],\n",
       "         [0.12970473],\n",
       "         [0.12970473],\n",
       "         [0.19759771],\n",
       "         [0.19759771],\n",
       "         [0.72728784],\n",
       "         [0.72728784],\n",
       "         [0.09704155],\n",
       "         [0.09704155],\n",
       "         [0.33305763],\n",
       "         [0.33305763],\n",
       "         [0.38821179],\n",
       "         [0.38821179],\n",
       "         [0.39653485],\n",
       "         [0.39653485],\n",
       "         [0.30411901],\n",
       "         [0.30411901],\n",
       "         [0.00159893],\n",
       "         [0.00159893],\n",
       "         [0.29448767],\n",
       "         [0.29448767],\n",
       "         [0.92869063],\n",
       "         [0.92869063],\n",
       "         [0.14861193],\n",
       "         [0.14861193],\n",
       "         [0.224849  ],\n",
       "         [0.224849  ],\n",
       "         [0.24542026],\n",
       "         [0.24542026],\n",
       "         [0.66093794],\n",
       "         [0.66093794],\n",
       "         [0.01479493],\n",
       "         [0.01479493],\n",
       "         [0.72378275],\n",
       "         [0.72378275],\n",
       "         [0.57143756],\n",
       "         [0.57143756],\n",
       "         [0.56116483],\n",
       "         [0.56116483],\n",
       "         [0.04125416],\n",
       "         [0.04125416],\n",
       "         [0.16344929],\n",
       "         [0.16344929],\n",
       "         [0.47535251],\n",
       "         [0.47535251],\n",
       "         [0.3819264 ],\n",
       "         [0.3819264 ],\n",
       "         [0.23527303],\n",
       "         [0.23527303],\n",
       "         [0.7784624 ],\n",
       "         [0.7784624 ],\n",
       "         [0.18368789],\n",
       "         [0.18368789],\n",
       "         [0.37521694],\n",
       "         [0.37521694],\n",
       "         [0.57586203],\n",
       "         [0.57586203],\n",
       "         [0.53339852],\n",
       "         [0.53339852],\n",
       "         [0.36574901],\n",
       "         [0.36574901],\n",
       "         [0.74369463],\n",
       "         [0.74369463],\n",
       "         [0.50808526],\n",
       "         [0.50808526],\n",
       "         [0.32617722],\n",
       "         [0.32617722],\n",
       "         [0.23297027],\n",
       "         [0.23297027],\n",
       "         [0.64268289],\n",
       "         [0.64268289],\n",
       "         [0.18283847],\n",
       "         [0.18283847],\n",
       "         [0.57621788],\n",
       "         [0.57621788],\n",
       "         [0.39427788],\n",
       "         [0.39427788],\n",
       "         [0.68855182],\n",
       "         [0.68855182],\n",
       "         [0.47672401],\n",
       "         [0.47672401],\n",
       "         [0.45960528],\n",
       "         [0.45960528],\n",
       "         [0.37317363],\n",
       "         [0.37317363],\n",
       "         [0.99192379],\n",
       "         [0.99192379],\n",
       "         [0.54640256],\n",
       "         [0.54640256],\n",
       "         [0.869495  ],\n",
       "         [0.869495  ],\n",
       "         [0.08626212],\n",
       "         [0.08626212],\n",
       "         [0.08256597],\n",
       "         [0.08256597],\n",
       "         [0.78064631],\n",
       "         [0.78064631],\n",
       "         [0.63093638],\n",
       "         [0.63093638],\n",
       "         [0.88099253],\n",
       "         [0.88099253],\n",
       "         [0.47687178],\n",
       "         [0.47687178],\n",
       "         [0.02304254],\n",
       "         [0.02304254],\n",
       "         [0.7680622 ],\n",
       "         [0.7680622 ],\n",
       "         [0.06877807],\n",
       "         [0.06877807],\n",
       "         [0.76460675],\n",
       "         [0.76460675],\n",
       "         [0.7809044 ],\n",
       "         [0.7809044 ],\n",
       "         [0.37056716],\n",
       "         [0.37056716]])}}"
      ]
     },
     "execution_count": 12,
     "metadata": {},
     "output_type": "execute_result"
    }
   ],
   "source": [
    "ds = load_by_id(run_id_a)\n",
    "ds.get_parameter_data('x1')"
   ]
  },
  {
   "cell_type": "code",
   "execution_count": null,
   "metadata": {},
   "outputs": [],
   "source": []
  }
 ],
 "metadata": {
  "kernelspec": {
   "display_name": "Python 3",
   "language": "python",
   "name": "python3"
  },
  "language_info": {
   "codemirror_mode": {
    "name": "ipython",
    "version": 3
   },
   "file_extension": ".py",
   "mimetype": "text/x-python",
   "name": "python",
   "nbconvert_exporter": "python",
   "pygments_lexer": "ipython3",
   "version": "3.7.7"
  },
  "nbsphinx": {
   "timeout": 600
  },
  "toc": {
   "base_numbering": 1,
   "nav_menu": {},
   "number_sections": true,
   "sideBar": true,
   "skip_h1_title": false,
   "title_cell": "Table of Contents",
   "title_sidebar": "Contents",
   "toc_cell": false,
   "toc_position": {},
   "toc_section_display": true,
   "toc_window_display": false
  },
  "varInspector": {
   "cols": {
    "lenName": 16,
    "lenType": 16,
    "lenVar": 40
   },
   "kernels_config": {
    "python": {
     "delete_cmd_postfix": "",
     "delete_cmd_prefix": "del ",
     "library": "var_list.py",
     "varRefreshCmd": "print(var_dic_list())"
    },
    "r": {
     "delete_cmd_postfix": ") ",
     "delete_cmd_prefix": "rm(",
     "library": "var_list.r",
     "varRefreshCmd": "cat(var_dic_list()) "
    }
   },
   "types_to_exclude": [
    "module",
    "function",
    "builtin_function_or_method",
    "instance",
    "_Feature"
   ],
   "window_display": false
  }
 },
 "nbformat": 4,
 "nbformat_minor": 2
}
