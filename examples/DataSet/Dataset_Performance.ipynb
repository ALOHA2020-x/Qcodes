{
 "cells": [
  {
   "cell_type": "markdown",
   "metadata": {},
   "source": [
    "# DataSet Performance\n",
    "\n",
    "This notebook shows the trade-off between inserting data into a database row-by-row and as binary blobs. Inserting the data row-by-row means that we have direct access to all the data and may perform queries directly on the values of the data. On the other hand, as we shall see, this is much slower than inserting the data directly as binary blobs."
   ]
  },
  {
   "cell_type": "markdown",
   "metadata": {},
   "source": [
    "First, we choose a new location for the database to ensure that we don't add a bunch of benchmarking data to the default one."
   ]
  },
  {
   "cell_type": "code",
   "execution_count": 1,
   "metadata": {
    "execution": {
     "iopub.execute_input": "2020-11-13T07:25:11.952254Z",
     "iopub.status.busy": "2020-11-13T07:25:11.951659Z",
     "iopub.status.idle": "2020-11-13T07:25:12.980122Z",
     "shell.execute_reply": "2020-11-13T07:25:12.978708Z"
    }
   },
   "outputs": [
    {
     "name": "stdout",
     "output_type": "stream",
     "text": [
      "Logging hadn't been started.\n",
      "Activating auto-logging. Current session state plus future input saved.\n",
      "Filename       : /home/vsts/.qcodes/logs/command_history.log\n",
      "Mode           : append\n",
      "Output logging : True\n",
      "Raw input log  : False\n",
      "Timestamping   : True\n",
      "State          : active\n"
     ]
    },
    {
     "name": "stdout",
     "output_type": "stream",
     "text": [
      "Qcodes Logfile : /home/vsts/.qcodes/logs/201113-14760-qcodes.log\n"
     ]
    }
   ],
   "source": [
    "import os\n",
    "cwd = os.getcwd()\n",
    "import qcodes as qc\n",
    "qc.config[\"core\"][\"db_location\"] = os.path.join(cwd, 'testing.db')\n"
   ]
  },
  {
   "cell_type": "code",
   "execution_count": 2,
   "metadata": {
    "execution": {
     "iopub.execute_input": "2020-11-13T07:25:12.986924Z",
     "iopub.status.busy": "2020-11-13T07:25:12.986349Z",
     "iopub.status.idle": "2020-11-13T07:25:13.170688Z",
     "shell.execute_reply": "2020-11-13T07:25:13.170133Z"
    }
   },
   "outputs": [],
   "source": [
    "%matplotlib inline\n",
    "import time\n",
    "import matplotlib.pyplot as plt\n",
    "import numpy as np\n",
    "\n",
    "import qcodes as qc\n",
    "from qcodes.instrument.parameter import ManualParameter\n",
    "from qcodes.dataset.experiment_container import (Experiment,\n",
    "                                                 load_last_experiment,\n",
    "                                                 new_experiment)\n",
    "from qcodes.dataset.sqlite.database import initialise_database\n",
    "from qcodes import load_or_create_experiment\n",
    "from qcodes.dataset.measurements import Measurement"
   ]
  },
  {
   "cell_type": "code",
   "execution_count": 3,
   "metadata": {
    "execution": {
     "iopub.execute_input": "2020-11-13T07:25:13.174867Z",
     "iopub.status.busy": "2020-11-13T07:25:13.173890Z",
     "iopub.status.idle": "2020-11-13T07:25:13.284115Z",
     "shell.execute_reply": "2020-11-13T07:25:13.283611Z"
    }
   },
   "outputs": [
    {
     "name": "stdout",
     "output_type": "stream",
     "text": [
      "\r",
      "0it [00:00, ?it/s]"
     ]
    },
    {
     "name": "stdout",
     "output_type": "stream",
     "text": [
      "\r",
      "Upgrading database; v0 -> v1: : 0it [00:00, ?it/s]"
     ]
    },
    {
     "name": "stdout",
     "output_type": "stream",
     "text": [
      "\r",
      "Upgrading database; v0 -> v1: : 0it [00:00, ?it/s]"
     ]
    },
    {
     "name": "stdout",
     "output_type": "stream",
     "text": [
      "\n",
      "\r",
      "  0%|          | 0/1 [00:00<?, ?it/s]"
     ]
    },
    {
     "name": "stdout",
     "output_type": "stream",
     "text": [
      "\r",
      "Upgrading database; v1 -> v2:   0%|          | 0/1 [00:00<?, ?it/s]"
     ]
    },
    {
     "name": "stdout",
     "output_type": "stream",
     "text": [
      "\r",
      "Upgrading database; v1 -> v2: 100%|██████████| 1/1 [00:00<00:00, 577.25it/s]"
     ]
    },
    {
     "name": "stdout",
     "output_type": "stream",
     "text": [
      "\n",
      "\r",
      "0it [00:00, ?it/s]"
     ]
    },
    {
     "name": "stdout",
     "output_type": "stream",
     "text": [
      "\r",
      "Upgrading database; v2 -> v3: : 0it [00:00, ?it/s]"
     ]
    },
    {
     "name": "stdout",
     "output_type": "stream",
     "text": [
      "\r",
      "Upgrading database; v2 -> v3: : 0it [00:00, ?it/s]"
     ]
    },
    {
     "name": "stdout",
     "output_type": "stream",
     "text": [
      "\n",
      "\r",
      "0it [00:00, ?it/s]"
     ]
    },
    {
     "name": "stdout",
     "output_type": "stream",
     "text": [
      "\r",
      "Upgrading database; v3 -> v4: : 0it [00:00, ?it/s]"
     ]
    },
    {
     "name": "stdout",
     "output_type": "stream",
     "text": [
      "\r",
      "Upgrading database; v3 -> v4: : 0it [00:00, ?it/s]"
     ]
    },
    {
     "name": "stdout",
     "output_type": "stream",
     "text": [
      "\n",
      "\r",
      "  0%|          | 0/1 [00:00<?, ?it/s]"
     ]
    },
    {
     "name": "stdout",
     "output_type": "stream",
     "text": [
      "\r",
      "Upgrading database; v4 -> v5:   0%|          | 0/1 [00:00<?, ?it/s]"
     ]
    },
    {
     "name": "stdout",
     "output_type": "stream",
     "text": [
      "\r",
      "Upgrading database; v4 -> v5: 100%|██████████| 1/1 [00:00<00:00, 554.80it/s]"
     ]
    },
    {
     "name": "stdout",
     "output_type": "stream",
     "text": [
      "\n",
      "\r",
      "0it [00:00, ?it/s]"
     ]
    },
    {
     "name": "stdout",
     "output_type": "stream",
     "text": [
      "\r",
      "Upgrading database; v5 -> v6: : 0it [00:00, ?it/s]"
     ]
    },
    {
     "name": "stdout",
     "output_type": "stream",
     "text": [
      "\r",
      "Upgrading database; v5 -> v6: : 0it [00:00, ?it/s]"
     ]
    },
    {
     "name": "stdout",
     "output_type": "stream",
     "text": [
      "\n",
      "\r",
      "  0%|          | 0/1 [00:00<?, ?it/s]"
     ]
    },
    {
     "name": "stdout",
     "output_type": "stream",
     "text": [
      "\r",
      "Upgrading database; v6 -> v7:   0%|          | 0/1 [00:00<?, ?it/s]"
     ]
    },
    {
     "name": "stdout",
     "output_type": "stream",
     "text": [
      "\r",
      "Upgrading database; v6 -> v7: 100%|██████████| 1/1 [00:00<00:00, 289.16it/s]"
     ]
    },
    {
     "name": "stdout",
     "output_type": "stream",
     "text": [
      "\n",
      "\r",
      "  0%|          | 0/1 [00:00<?, ?it/s]"
     ]
    },
    {
     "name": "stdout",
     "output_type": "stream",
     "text": [
      "\r",
      "Upgrading database; v7 -> v8:   0%|          | 0/1 [00:00<?, ?it/s]"
     ]
    },
    {
     "name": "stdout",
     "output_type": "stream",
     "text": [
      "\r",
      "Upgrading database; v7 -> v8: 100%|██████████| 1/1 [00:00<00:00, 530.79it/s]"
     ]
    },
    {
     "name": "stdout",
     "output_type": "stream",
     "text": [
      "\n",
      "\r",
      "  0%|          | 0/1 [00:00<?, ?it/s]"
     ]
    },
    {
     "name": "stdout",
     "output_type": "stream",
     "text": [
      "\r",
      "Upgrading database; v8 -> v9:   0%|          | 0/1 [00:00<?, ?it/s]"
     ]
    },
    {
     "name": "stdout",
     "output_type": "stream",
     "text": [
      "\r",
      "Upgrading database; v8 -> v9: 100%|██████████| 1/1 [00:00<00:00, 1343.04it/s]"
     ]
    },
    {
     "name": "stdout",
     "output_type": "stream",
     "text": [
      "\n"
     ]
    }
   ],
   "source": [
    "initialise_database()\n",
    "exp = load_or_create_experiment(experiment_name='tutorial_exp', sample_name=\"no sample\")"
   ]
  },
  {
   "cell_type": "markdown",
   "metadata": {},
   "source": [
    "Here, we define a simple function to benchmark the time it takes to insert n points with either numeric or array data type.\n",
    "We will compare both the time used to call ``add_result`` and the time used for the full measurement."
   ]
  },
  {
   "cell_type": "code",
   "execution_count": 4,
   "metadata": {
    "execution": {
     "iopub.execute_input": "2020-11-13T07:25:13.293025Z",
     "iopub.status.busy": "2020-11-13T07:25:13.292453Z",
     "iopub.status.idle": "2020-11-13T07:25:13.296126Z",
     "shell.execute_reply": "2020-11-13T07:25:13.296547Z"
    }
   },
   "outputs": [],
   "source": [
    "def insert_data(paramtype, npoints, nreps=1):\n",
    "\n",
    "    meas = Measurement(exp=exp)\n",
    "\n",
    "    x1 = ManualParameter('x1')\n",
    "    x2 = ManualParameter('x2')\n",
    "    x3 = ManualParameter('x3')\n",
    "    y1 = ManualParameter('y1')\n",
    "    y2 = ManualParameter('y2')\n",
    "\n",
    "    meas.register_parameter(x1, paramtype=paramtype)\n",
    "    meas.register_parameter(x2, paramtype=paramtype)\n",
    "    meas.register_parameter(x3, paramtype=paramtype)\n",
    "    meas.register_parameter(y1, setpoints=[x1, x2, x3],\n",
    "                            paramtype=paramtype)\n",
    "    meas.register_parameter(y2, setpoints=[x1, x2, x3],\n",
    "                            paramtype=paramtype)\n",
    "    start = time.perf_counter()\n",
    "    with meas.run() as datasaver:\n",
    "        start_adding = time.perf_counter()\n",
    "        for i in range(nreps):\n",
    "            datasaver.add_result((x1, np.random.rand(npoints)),\n",
    "                                 (x2, np.random.rand(npoints)),\n",
    "                                 (x3, np.random.rand(npoints)),\n",
    "                                 (y1, np.random.rand(npoints)),\n",
    "                                 (y2, np.random.rand(npoints)))\n",
    "        stop_adding = time.perf_counter()\n",
    "        run_id = datasaver.run_id\n",
    "    stop = time.perf_counter()\n",
    "    tot_time = stop - start\n",
    "    add_time = stop_adding - start_adding\n",
    "    return tot_time, add_time, run_id"
   ]
  },
  {
   "cell_type": "markdown",
   "metadata": {},
   "source": [
    "## Comparison between numeric/array data and binary blob"
   ]
  },
  {
   "cell_type": "markdown",
   "metadata": {},
   "source": [
    "### Case1: Short experiment time"
   ]
  },
  {
   "cell_type": "code",
   "execution_count": 5,
   "metadata": {
    "execution": {
     "iopub.execute_input": "2020-11-13T07:25:13.302841Z",
     "iopub.status.busy": "2020-11-13T07:25:13.302268Z",
     "iopub.status.idle": "2020-11-13T07:25:14.122773Z",
     "shell.execute_reply": "2020-11-13T07:25:14.122247Z"
    }
   },
   "outputs": [
    {
     "name": "stdout",
     "output_type": "stream",
     "text": [
      "Starting experimental run with id: 1. \n",
      "Starting experimental run with id: 2. \n",
      "Starting experimental run with id: 3. \n",
      "Starting experimental run with id: 4. \n",
      "Starting experimental run with id: 5. \n"
     ]
    },
    {
     "name": "stdout",
     "output_type": "stream",
     "text": [
      "Starting experimental run with id: 6. \n"
     ]
    },
    {
     "name": "stdout",
     "output_type": "stream",
     "text": [
      "Starting experimental run with id: 7. \n"
     ]
    },
    {
     "name": "stdout",
     "output_type": "stream",
     "text": [
      "Starting experimental run with id: 8. \n",
      "Starting experimental run with id: 9. \n"
     ]
    },
    {
     "name": "stdout",
     "output_type": "stream",
     "text": [
      "Starting experimental run with id: 10. \n",
      "Starting experimental run with id: 11. \n"
     ]
    },
    {
     "name": "stdout",
     "output_type": "stream",
     "text": [
      "Starting experimental run with id: 12. \n",
      "Starting experimental run with id: 13. \n"
     ]
    },
    {
     "name": "stdout",
     "output_type": "stream",
     "text": [
      "Starting experimental run with id: 14. \n"
     ]
    }
   ],
   "source": [
    "sizes = [1,500,1000,2000,3000,4000,5000]\n",
    "t_numeric = []\n",
    "t_numeric_add = []\n",
    "t_array = []\n",
    "t_array_add = []\n",
    "for size in sizes:\n",
    "    tn, tna, run_id_n =  insert_data('numeric', size)\n",
    "    t_numeric.append(tn)\n",
    "    t_numeric_add.append(tna)\n",
    "\n",
    "    ta, taa, run_id_a =  insert_data('array', size)\n",
    "    t_array.append(ta)\n",
    "    t_array_add.append(taa)"
   ]
  },
  {
   "cell_type": "code",
   "execution_count": 6,
   "metadata": {
    "execution": {
     "iopub.execute_input": "2020-11-13T07:25:14.139962Z",
     "iopub.status.busy": "2020-11-13T07:25:14.127132Z",
     "iopub.status.idle": "2020-11-13T07:25:14.315795Z",
     "shell.execute_reply": "2020-11-13T07:25:14.316344Z"
    }
   },
   "outputs": [
    {
     "data": {
      "image/png": "[encoded data removed]",
      "text/plain": [
       "<Figure size 432x288 with 1 Axes>"
      ]
     },
     "metadata": {
      "needs_background": "light"
     },
     "output_type": "display_data"
    }
   ],
   "source": [
    "fig, ax = plt.subplots(1,1)\n",
    "ax.plot(sizes, t_numeric, 'o-', label='Inserting row-by-row')\n",
    "ax.plot(sizes, t_numeric_add, 'o-', label='Inserting row-by-row: add_result only')\n",
    "ax.plot(sizes, t_array, 'd-', label='Inserting as binary blob')\n",
    "ax.plot(sizes, t_array_add, 'd-', label='Inserting as binary blob: add_result only')\n",
    "ax.legend()\n",
    "ax.set_xlabel('Array length')\n",
    "ax.set_ylabel('Time (s)')\n",
    "fig.tight_layout()"
   ]
  },
  {
   "cell_type": "markdown",
   "metadata": {},
   "source": [
    "As shown in the latter figure, the time to setup and and close the experiment is approximately 0.4 sec. In case of small array sizes, the difference between inserting values of data as arrays and inserting them row-by-row is relatively unimportant. At larger array sizes, i.e. above 10000 points, the cost of writing data as individual datapoints starts to become important.\n"
   ]
  },
  {
   "cell_type": "markdown",
   "metadata": {},
   "source": [
    "### Case2: Long experiment time "
   ]
  },
  {
   "cell_type": "code",
   "execution_count": 7,
   "metadata": {
    "execution": {
     "iopub.execute_input": "2020-11-13T07:25:14.318957Z",
     "iopub.status.busy": "2020-11-13T07:25:14.318415Z",
     "iopub.status.idle": "2020-11-13T07:26:13.180149Z",
     "shell.execute_reply": "2020-11-13T07:26:13.179375Z"
    }
   },
   "outputs": [
    {
     "name": "stdout",
     "output_type": "stream",
     "text": [
      "Starting experimental run with id: 15. \n",
      "Starting experimental run with id: 16. \n",
      "Starting experimental run with id: 17. \n"
     ]
    },
    {
     "name": "stdout",
     "output_type": "stream",
     "text": [
      "Starting experimental run with id: 18. \n",
      "Starting experimental run with id: 19. \n"
     ]
    },
    {
     "name": "stdout",
     "output_type": "stream",
     "text": [
      "Starting experimental run with id: 20. \n"
     ]
    },
    {
     "name": "stdout",
     "output_type": "stream",
     "text": [
      "Starting experimental run with id: 21. \n"
     ]
    },
    {
     "name": "stdout",
     "output_type": "stream",
     "text": [
      "Starting experimental run with id: 22. \n"
     ]
    },
    {
     "name": "stdout",
     "output_type": "stream",
     "text": [
      "Starting experimental run with id: 23. \n"
     ]
    },
    {
     "name": "stdout",
     "output_type": "stream",
     "text": [
      "Starting experimental run with id: 24. \n"
     ]
    },
    {
     "name": "stdout",
     "output_type": "stream",
     "text": [
      "Starting experimental run with id: 25. \n"
     ]
    },
    {
     "name": "stdout",
     "output_type": "stream",
     "text": [
      "Starting experimental run with id: 26. \n"
     ]
    },
    {
     "name": "stdout",
     "output_type": "stream",
     "text": [
      "Starting experimental run with id: 27. \n"
     ]
    },
    {
     "name": "stdout",
     "output_type": "stream",
     "text": [
      "Starting experimental run with id: 28. \n"
     ]
    }
   ],
   "source": [
    "sizes = [1,500,1000,2000,3000,4000,5000]\n",
    "nreps = 100\n",
    "t_numeric = []\n",
    "t_numeric_add = []\n",
    "t_numeric_run_ids = []\n",
    "t_array = []\n",
    "t_array_add = []\n",
    "t_array_run_ids = []\n",
    "for size in sizes:\n",
    "    tn, tna, run_id_n =  insert_data('numeric', size, nreps=nreps)\n",
    "    t_numeric.append(tn)\n",
    "    t_numeric_add.append(tna)\n",
    "    t_numeric_run_ids.append(run_id_n)\n",
    "\n",
    "    ta, taa, run_id_a =  insert_data('array', size, nreps=nreps)\n",
    "    t_array.append(ta)\n",
    "    t_array_add.append(taa)\n",
    "    t_array_run_ids.append(run_id_a)"
   ]
  },
  {
   "cell_type": "code",
   "execution_count": 8,
   "metadata": {
    "execution": {
     "iopub.execute_input": "2020-11-13T07:26:13.209113Z",
     "iopub.status.busy": "2020-11-13T07:26:13.204413Z",
     "iopub.status.idle": "2020-11-13T07:26:13.378197Z",
     "shell.execute_reply": "2020-11-13T07:26:13.378696Z"
    },
    "scrolled": true
   },
   "outputs": [
    {
     "data": {
      "image/png": "[encoded data removed]",
      "text/plain": [
       "<Figure size 432x288 with 1 Axes>"
      ]
     },
     "metadata": {
      "needs_background": "light"
     },
     "output_type": "display_data"
    }
   ],
   "source": [
    "fig, ax = plt.subplots(1,1)\n",
    "ax.plot(sizes, t_numeric, 'o-', label='Inserting row-by-row')\n",
    "ax.plot(sizes, t_numeric_add, 'o-', label='Inserting row-by-row: add_result only')\n",
    "ax.plot(sizes, t_array, 'd-', label='Inserting as binary blob')\n",
    "ax.plot(sizes, t_array_add, 'd-', label='Inserting as binary blob: add_result only')\n",
    "ax.legend()\n",
    "ax.set_xlabel('Array length')\n",
    "ax.set_ylabel('Time (s)')\n",
    "fig.tight_layout()"
   ]
  },
  {
   "cell_type": "markdown",
   "metadata": {},
   "source": [
    "However, as we increase the length of the experiment, as seen here by repeating the insertion 100 times, we see a big difference between inserting values of the data row-by-row and inserting it as a binary blob."
   ]
  },
  {
   "cell_type": "markdown",
   "metadata": {},
   "source": [
    "## Loading the data "
   ]
  },
  {
   "cell_type": "code",
   "execution_count": 9,
   "metadata": {
    "execution": {
     "iopub.execute_input": "2020-11-13T07:26:13.381320Z",
     "iopub.status.busy": "2020-11-13T07:26:13.380786Z",
     "iopub.status.idle": "2020-11-13T07:26:13.384877Z",
     "shell.execute_reply": "2020-11-13T07:26:13.384401Z"
    }
   },
   "outputs": [],
   "source": [
    "from qcodes.dataset.data_set import load_by_id\n",
    "from qcodes.dataset.data_export import get_data_by_id"
   ]
  },
  {
   "cell_type": "markdown",
   "metadata": {},
   "source": [
    "As usual you can load the data by using the ``load_by_id`` function but you will notice that the different storage methods\n",
    "are reflected in shape of the data as it is retrieved. "
   ]
  },
  {
   "cell_type": "code",
   "execution_count": 10,
   "metadata": {
    "execution": {
     "iopub.execute_input": "2020-11-13T07:26:13.388479Z",
     "iopub.status.busy": "2020-11-13T07:26:13.387937Z",
     "iopub.status.idle": "2020-11-13T07:26:13.390047Z",
     "shell.execute_reply": "2020-11-13T07:26:13.389573Z"
    }
   },
   "outputs": [],
   "source": [
    "run_id_n = t_numeric_run_ids[0]\n",
    "run_id_a = t_array_run_ids[0]"
   ]
  },
  {
   "cell_type": "code",
   "execution_count": 11,
   "metadata": {
    "execution": {
     "iopub.execute_input": "2020-11-13T07:26:13.393224Z",
     "iopub.status.busy": "2020-11-13T07:26:13.392683Z",
     "iopub.status.idle": "2020-11-13T07:26:13.401975Z",
     "shell.execute_reply": "2020-11-13T07:26:13.401529Z"
    },
    "scrolled": true
   },
   "outputs": [
    {
     "data": {
      "text/plain": [
       "{'x1': {'x1': array([0.68760268, 0.68760268, 0.95954517, 0.95954517, 0.93477883,\n",
       "         0.93477883, 0.4026969 , 0.4026969 , 0.34213322, 0.34213322,\n",
       "         0.5878172 , 0.5878172 , 0.56067992, 0.56067992, 0.84047774,\n",
       "         0.84047774, 0.86570027, 0.86570027, 0.09192225, 0.09192225,\n",
       "         0.83123869, 0.83123869, 0.52522188, 0.52522188, 0.35513449,\n",
       "         0.35513449, 0.23800931, 0.23800931, 0.719784  , 0.719784  ,\n",
       "         0.0612473 , 0.0612473 , 0.17418769, 0.17418769, 0.07653953,\n",
       "         0.07653953, 0.05445068, 0.05445068, 0.93555998, 0.93555998,\n",
       "         0.21928381, 0.21928381, 0.6594463 , 0.6594463 , 0.29902815,\n",
       "         0.29902815, 0.43751812, 0.43751812, 0.70700301, 0.70700301,\n",
       "         0.60592554, 0.60592554, 0.58130048, 0.58130048, 0.00785776,\n",
       "         0.00785776, 0.51383296, 0.51383296, 0.44315197, 0.44315197,\n",
       "         0.73334648, 0.73334648, 0.47335365, 0.47335365, 0.05651693,\n",
       "         0.05651693, 0.22183762, 0.22183762, 0.94795249, 0.94795249,\n",
       "         0.71731319, 0.71731319, 0.30185102, 0.30185102, 0.1970372 ,\n",
       "         0.1970372 , 0.81840565, 0.81840565, 0.95466847, 0.95466847,\n",
       "         0.7673991 , 0.7673991 , 0.45749659, 0.45749659, 0.33174582,\n",
       "         0.33174582, 0.33041013, 0.33041013, 0.17296627, 0.17296627,\n",
       "         0.64333432, 0.64333432, 0.43432   , 0.43432   , 0.22494425,\n",
       "         0.22494425, 0.85117355, 0.85117355, 0.04492483, 0.04492483,\n",
       "         0.32568335, 0.32568335, 0.81022208, 0.81022208, 0.01544264,\n",
       "         0.01544264, 0.65146803, 0.65146803, 0.78913646, 0.78913646,\n",
       "         0.95685313, 0.95685313, 0.11606581, 0.11606581, 0.35126505,\n",
       "         0.35126505, 0.71581373, 0.71581373, 0.98734138, 0.98734138,\n",
       "         0.65335725, 0.65335725, 0.82454084, 0.82454084, 0.38321123,\n",
       "         0.38321123, 0.77732026, 0.77732026, 0.31519265, 0.31519265,\n",
       "         0.01722271, 0.01722271, 0.92828316, 0.92828316, 0.93266267,\n",
       "         0.93266267, 0.27031036, 0.27031036, 0.06544222, 0.06544222,\n",
       "         0.93797908, 0.93797908, 0.01853348, 0.01853348, 0.26521793,\n",
       "         0.26521793, 0.56815636, 0.56815636, 0.58238199, 0.58238199,\n",
       "         0.79122479, 0.79122479, 0.42691224, 0.42691224, 0.77895676,\n",
       "         0.77895676, 0.57785104, 0.57785104, 0.70039138, 0.70039138,\n",
       "         0.65826569, 0.65826569, 0.00933467, 0.00933467, 0.27108652,\n",
       "         0.27108652, 0.06247731, 0.06247731, 0.73004195, 0.73004195,\n",
       "         0.28416046, 0.28416046, 0.21286199, 0.21286199, 0.08650319,\n",
       "         0.08650319, 0.5698736 , 0.5698736 , 0.53869239, 0.53869239,\n",
       "         0.76133391, 0.76133391, 0.87933387, 0.87933387, 0.34914096,\n",
       "         0.34914096, 0.77869654, 0.77869654, 0.96509365, 0.96509365,\n",
       "         0.23666429, 0.23666429, 0.89801679, 0.89801679, 0.7132623 ,\n",
       "         0.7132623 , 0.47444926, 0.47444926, 0.56626411, 0.56626411])}}"
      ]
     },
     "execution_count": 1,
     "metadata": {},
     "output_type": "execute_result"
    }
   ],
   "source": [
    "ds = load_by_id(run_id_n)\n",
    "ds.get_parameter_data('x1')"
   ]
  },
  {
   "cell_type": "markdown",
   "metadata": {},
   "source": [
    "And a dataset stored as binary arrays"
   ]
  },
  {
   "cell_type": "code",
   "execution_count": 12,
   "metadata": {
    "execution": {
     "iopub.execute_input": "2020-11-13T07:26:13.405245Z",
     "iopub.status.busy": "2020-11-13T07:26:13.404688Z",
     "iopub.status.idle": "2020-11-13T07:26:13.459815Z",
     "shell.execute_reply": "2020-11-13T07:26:13.460634Z"
    },
    "scrolled": true
   },
   "outputs": [
    {
     "data": {
      "text/plain": [
       "{'x1': {'x1': array([[0.50250037],\n",
       "         [0.50250037],\n",
       "         [0.18912974],\n",
       "         [0.18912974],\n",
       "         [0.74217384],\n",
       "         [0.74217384],\n",
       "         [0.51134464],\n",
       "         [0.51134464],\n",
       "         [0.76131368],\n",
       "         [0.76131368],\n",
       "         [0.90124266],\n",
       "         [0.90124266],\n",
       "         [0.18186417],\n",
       "         [0.18186417],\n",
       "         [0.63889081],\n",
       "         [0.63889081],\n",
       "         [0.99758431],\n",
       "         [0.99758431],\n",
       "         [0.85398483],\n",
       "         [0.85398483],\n",
       "         [0.44754482],\n",
       "         [0.44754482],\n",
       "         [0.45323055],\n",
       "         [0.45323055],\n",
       "         [0.73021978],\n",
       "         [0.73021978],\n",
       "         [0.17585523],\n",
       "         [0.17585523],\n",
       "         [0.22689745],\n",
       "         [0.22689745],\n",
       "         [0.89070173],\n",
       "         [0.89070173],\n",
       "         [0.07887985],\n",
       "         [0.07887985],\n",
       "         [0.42071609],\n",
       "         [0.42071609],\n",
       "         [0.63792021],\n",
       "         [0.63792021],\n",
       "         [0.18812099],\n",
       "         [0.18812099],\n",
       "         [0.06084895],\n",
       "         [0.06084895],\n",
       "         [0.36836674],\n",
       "         [0.36836674],\n",
       "         [0.46447024],\n",
       "         [0.46447024],\n",
       "         [0.99640108],\n",
       "         [0.99640108],\n",
       "         [0.07410561],\n",
       "         [0.07410561],\n",
       "         [0.2767211 ],\n",
       "         [0.2767211 ],\n",
       "         [0.89487862],\n",
       "         [0.89487862],\n",
       "         [0.46604282],\n",
       "         [0.46604282],\n",
       "         [0.30275941],\n",
       "         [0.30275941],\n",
       "         [0.55291196],\n",
       "         [0.55291196],\n",
       "         [0.18607639],\n",
       "         [0.18607639],\n",
       "         [0.80756671],\n",
       "         [0.80756671],\n",
       "         [0.96340025],\n",
       "         [0.96340025],\n",
       "         [0.65465354],\n",
       "         [0.65465354],\n",
       "         [0.82581223],\n",
       "         [0.82581223],\n",
       "         [0.67114334],\n",
       "         [0.67114334],\n",
       "         [0.74741279],\n",
       "         [0.74741279],\n",
       "         [0.23959992],\n",
       "         [0.23959992],\n",
       "         [0.70382331],\n",
       "         [0.70382331],\n",
       "         [0.31053447],\n",
       "         [0.31053447],\n",
       "         [0.30342622],\n",
       "         [0.30342622],\n",
       "         [0.73763122],\n",
       "         [0.73763122],\n",
       "         [0.98344813],\n",
       "         [0.98344813],\n",
       "         [0.90083217],\n",
       "         [0.90083217],\n",
       "         [0.38580978],\n",
       "         [0.38580978],\n",
       "         [0.15657811],\n",
       "         [0.15657811],\n",
       "         [0.93320849],\n",
       "         [0.93320849],\n",
       "         [0.41191835],\n",
       "         [0.41191835],\n",
       "         [0.12605559],\n",
       "         [0.12605559],\n",
       "         [0.58101287],\n",
       "         [0.58101287],\n",
       "         [0.01058247],\n",
       "         [0.01058247],\n",
       "         [0.40837386],\n",
       "         [0.40837386],\n",
       "         [0.14696064],\n",
       "         [0.14696064],\n",
       "         [0.45091479],\n",
       "         [0.45091479],\n",
       "         [0.86658557],\n",
       "         [0.86658557],\n",
       "         [0.69180826],\n",
       "         [0.69180826],\n",
       "         [0.06840304],\n",
       "         [0.06840304],\n",
       "         [0.595971  ],\n",
       "         [0.595971  ],\n",
       "         [0.904079  ],\n",
       "         [0.904079  ],\n",
       "         [0.117572  ],\n",
       "         [0.117572  ],\n",
       "         [0.99670892],\n",
       "         [0.99670892],\n",
       "         [0.14787171],\n",
       "         [0.14787171],\n",
       "         [0.63290523],\n",
       "         [0.63290523],\n",
       "         [0.76192518],\n",
       "         [0.76192518],\n",
       "         [0.82128071],\n",
       "         [0.82128071],\n",
       "         [0.59309859],\n",
       "         [0.59309859],\n",
       "         [0.53722083],\n",
       "         [0.53722083],\n",
       "         [0.50084241],\n",
       "         [0.50084241],\n",
       "         [0.61779799],\n",
       "         [0.61779799],\n",
       "         [0.6270354 ],\n",
       "         [0.6270354 ],\n",
       "         [0.29807214],\n",
       "         [0.29807214],\n",
       "         [0.63846805],\n",
       "         [0.63846805],\n",
       "         [0.39093678],\n",
       "         [0.39093678],\n",
       "         [0.1150964 ],\n",
       "         [0.1150964 ],\n",
       "         [0.20535812],\n",
       "         [0.20535812],\n",
       "         [0.8466038 ],\n",
       "         [0.8466038 ],\n",
       "         [0.83299377],\n",
       "         [0.83299377],\n",
       "         [0.68084553],\n",
       "         [0.68084553],\n",
       "         [0.07823691],\n",
       "         [0.07823691],\n",
       "         [0.55169152],\n",
       "         [0.55169152],\n",
       "         [0.60421247],\n",
       "         [0.60421247],\n",
       "         [0.97307572],\n",
       "         [0.97307572],\n",
       "         [0.31186226],\n",
       "         [0.31186226],\n",
       "         [0.35677543],\n",
       "         [0.35677543],\n",
       "         [0.4002768 ],\n",
       "         [0.4002768 ],\n",
       "         [0.99909743],\n",
       "         [0.99909743],\n",
       "         [0.13282424],\n",
       "         [0.13282424],\n",
       "         [0.85640259],\n",
       "         [0.85640259],\n",
       "         [0.11576155],\n",
       "         [0.11576155],\n",
       "         [0.59854792],\n",
       "         [0.59854792],\n",
       "         [0.95350685],\n",
       "         [0.95350685],\n",
       "         [0.25000732],\n",
       "         [0.25000732],\n",
       "         [0.29245881],\n",
       "         [0.29245881],\n",
       "         [0.11208603],\n",
       "         [0.11208603],\n",
       "         [0.00874954],\n",
       "         [0.00874954],\n",
       "         [0.08191478],\n",
       "         [0.08191478],\n",
       "         [0.81422585],\n",
       "         [0.81422585],\n",
       "         [0.56830648],\n",
       "         [0.56830648],\n",
       "         [0.85326603],\n",
       "         [0.85326603],\n",
       "         [0.0781305 ],\n",
       "         [0.0781305 ]])}}"
      ]
     },
     "execution_count": 1,
     "metadata": {},
     "output_type": "execute_result"
    }
   ],
   "source": [
    "ds = load_by_id(run_id_a)\n",
    "ds.get_parameter_data('x1')"
   ]
  },
  {
   "cell_type": "code",
   "execution_count": null,
   "metadata": {},
   "outputs": [],
   "source": []
  }
 ],
 "metadata": {
  "kernelspec": {
   "display_name": "Python 3",
   "language": "python",
   "name": "python3"
  },
  "language_info": {
   "codemirror_mode": {
    "name": "ipython",
    "version": 3
   },
   "file_extension": ".py",
   "mimetype": "text/x-python",
   "name": "python",
   "nbconvert_exporter": "python",
   "pygments_lexer": "ipython3",
   "version": "3.7.9"
  },
  "nbsphinx": {
   "timeout": 600
  },
  "toc": {
   "base_numbering": 1,
   "nav_menu": {},
   "number_sections": true,
   "sideBar": true,
   "skip_h1_title": false,
   "title_cell": "Table of Contents",
   "title_sidebar": "Contents",
   "toc_cell": false,
   "toc_position": {},
   "toc_section_display": true,
   "toc_window_display": false
  },
  "varInspector": {
   "cols": {
    "lenName": 16,
    "lenType": 16,
    "lenVar": 40
   },
   "kernels_config": {
    "python": {
     "delete_cmd_postfix": "",
     "delete_cmd_prefix": "del ",
     "library": "var_list.py",
     "varRefreshCmd": "print(var_dic_list())"
    },
    "r": {
     "delete_cmd_postfix": ") ",
     "delete_cmd_prefix": "rm(",
     "library": "var_list.r",
     "varRefreshCmd": "cat(var_dic_list()) "
    }
   },
   "types_to_exclude": [
    "module",
    "function",
    "builtin_function_or_method",
    "instance",
    "_Feature"
   ],
   "window_display": false
  }
 },
 "nbformat": 4,
 "nbformat_minor": 2
}
