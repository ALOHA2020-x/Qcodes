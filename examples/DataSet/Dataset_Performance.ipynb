{
 "cells": [
  {
   "cell_type": "markdown",
   "metadata": {},
   "source": [
    "# DataSet Performance\n",
    "\n",
    "This notebook shows the trade-off between inserting data into a database row-by-row and as binary blobs. Inserting the data row-by-row means that we have direct access to all the data and may perform queries directly on the values of the data. On the other hand, as we shall see, this is much slower than inserting the data directly as binary blobs."
   ]
  },
  {
   "cell_type": "markdown",
   "metadata": {},
   "source": [
    "First, we choose a new location for the database to ensure that we don't add a bunch of benchmarking data to the default one."
   ]
  },
  {
   "cell_type": "code",
   "execution_count": 1,
   "metadata": {
    "execution": {
     "iopub.execute_input": "2020-09-17T06:24:09.075110Z",
     "iopub.status.busy": "2020-09-17T06:24:09.074522Z",
     "iopub.status.idle": "2020-09-17T06:24:10.041585Z",
     "shell.execute_reply": "2020-09-17T06:24:10.042025Z"
    }
   },
   "outputs": [
    {
     "name": "stdout",
     "output_type": "stream",
     "text": [
      "Logging hadn't been started.\n",
      "Activating auto-logging. Current session state plus future input saved.\n",
      "Filename       : /home/vsts/.qcodes/logs/command_history.log\n",
      "Mode           : append\n",
      "Output logging : True\n",
      "Raw input log  : False\n",
      "Timestamping   : True\n",
      "State          : active\n"
     ]
    },
    {
     "name": "stdout",
     "output_type": "stream",
     "text": [
      "Qcodes Logfile : /home/vsts/.qcodes/logs/200917-18579-qcodes.log\n"
     ]
    }
   ],
   "source": [
    "import os\n",
    "cwd = os.getcwd()\n",
    "import qcodes as qc\n",
    "qc.config[\"core\"][\"db_location\"] = os.path.join(cwd, 'testing.db')\n"
   ]
  },
  {
   "cell_type": "code",
   "execution_count": 2,
   "metadata": {
    "execution": {
     "iopub.execute_input": "2020-09-17T06:24:10.047147Z",
     "iopub.status.busy": "2020-09-17T06:24:10.046217Z",
     "iopub.status.idle": "2020-09-17T06:24:10.202934Z",
     "shell.execute_reply": "2020-09-17T06:24:10.202115Z"
    }
   },
   "outputs": [],
   "source": [
    "%matplotlib inline\n",
    "import time\n",
    "import matplotlib.pyplot as plt\n",
    "import numpy as np\n",
    "\n",
    "import qcodes as qc\n",
    "from qcodes.instrument.parameter import ManualParameter\n",
    "from qcodes.dataset.experiment_container import (Experiment,\n",
    "                                                 load_last_experiment,\n",
    "                                                 new_experiment)\n",
    "from qcodes.dataset.sqlite.database import initialise_database\n",
    "from qcodes import load_or_create_experiment\n",
    "from qcodes.dataset.measurements import Measurement"
   ]
  },
  {
   "cell_type": "code",
   "execution_count": 3,
   "metadata": {
    "execution": {
     "iopub.execute_input": "2020-09-17T06:24:10.206795Z",
     "iopub.status.busy": "2020-09-17T06:24:10.206146Z",
     "iopub.status.idle": "2020-09-17T06:24:10.283676Z",
     "shell.execute_reply": "2020-09-17T06:24:10.282959Z"
    }
   },
   "outputs": [
    {
     "name": "stdout",
     "output_type": "stream",
     "text": [
      "\r",
      "0it [00:00, ?it/s]"
     ]
    },
    {
     "name": "stdout",
     "output_type": "stream",
     "text": [
      "\r",
      "Upgrading database; v0 -> v1: : 0it [00:00, ?it/s]"
     ]
    },
    {
     "name": "stdout",
     "output_type": "stream",
     "text": [
      "\r",
      "Upgrading database; v0 -> v1: : 0it [00:00, ?it/s]"
     ]
    },
    {
     "name": "stdout",
     "output_type": "stream",
     "text": [
      "\n",
      "\r",
      "  0%|          | 0/1 [00:00<?, ?it/s]"
     ]
    },
    {
     "name": "stdout",
     "output_type": "stream",
     "text": [
      "\r",
      "Upgrading database; v1 -> v2:   0%|          | 0/1 [00:00<?, ?it/s]"
     ]
    },
    {
     "name": "stdout",
     "output_type": "stream",
     "text": [
      "\r",
      "Upgrading database; v1 -> v2: 100%|██████████| 1/1 [00:00<00:00, 651.49it/s]"
     ]
    },
    {
     "name": "stdout",
     "output_type": "stream",
     "text": [
      "\n",
      "\r",
      "0it [00:00, ?it/s]"
     ]
    },
    {
     "name": "stdout",
     "output_type": "stream",
     "text": [
      "\r",
      "Upgrading database; v2 -> v3: : 0it [00:00, ?it/s]"
     ]
    },
    {
     "name": "stdout",
     "output_type": "stream",
     "text": [
      "\r",
      "Upgrading database; v2 -> v3: : 0it [00:00, ?it/s]"
     ]
    },
    {
     "name": "stdout",
     "output_type": "stream",
     "text": [
      "\n",
      "\r",
      "0it [00:00, ?it/s]"
     ]
    },
    {
     "name": "stdout",
     "output_type": "stream",
     "text": [
      "\r",
      "Upgrading database; v3 -> v4: : 0it [00:00, ?it/s]"
     ]
    },
    {
     "name": "stdout",
     "output_type": "stream",
     "text": [
      "\r",
      "Upgrading database; v3 -> v4: : 0it [00:00, ?it/s]"
     ]
    },
    {
     "name": "stdout",
     "output_type": "stream",
     "text": [
      "\n",
      "\r",
      "  0%|          | 0/1 [00:00<?, ?it/s]"
     ]
    },
    {
     "name": "stdout",
     "output_type": "stream",
     "text": [
      "\r",
      "Upgrading database; v4 -> v5:   0%|          | 0/1 [00:00<?, ?it/s]"
     ]
    },
    {
     "name": "stdout",
     "output_type": "stream",
     "text": [
      "\r",
      "Upgrading database; v4 -> v5: 100%|██████████| 1/1 [00:00<00:00, 460.15it/s]"
     ]
    },
    {
     "name": "stdout",
     "output_type": "stream",
     "text": [
      "\n",
      "\r",
      "0it [00:00, ?it/s]"
     ]
    },
    {
     "name": "stdout",
     "output_type": "stream",
     "text": [
      "\r",
      "Upgrading database; v5 -> v6: : 0it [00:00, ?it/s]"
     ]
    },
    {
     "name": "stdout",
     "output_type": "stream",
     "text": [
      "\r",
      "Upgrading database; v5 -> v6: : 0it [00:00, ?it/s]"
     ]
    },
    {
     "name": "stdout",
     "output_type": "stream",
     "text": [
      "\n",
      "\r",
      "  0%|          | 0/1 [00:00<?, ?it/s]"
     ]
    },
    {
     "name": "stdout",
     "output_type": "stream",
     "text": [
      "\r",
      "Upgrading database; v6 -> v7:   0%|          | 0/1 [00:00<?, ?it/s]"
     ]
    },
    {
     "name": "stdout",
     "output_type": "stream",
     "text": [
      "\r",
      "Upgrading database; v6 -> v7: 100%|██████████| 1/1 [00:00<00:00, 289.04it/s]"
     ]
    },
    {
     "name": "stdout",
     "output_type": "stream",
     "text": [
      "\n",
      "\r",
      "  0%|          | 0/1 [00:00<?, ?it/s]"
     ]
    },
    {
     "name": "stdout",
     "output_type": "stream",
     "text": [
      "\r",
      "Upgrading database; v7 -> v8:   0%|          | 0/1 [00:00<?, ?it/s]"
     ]
    },
    {
     "name": "stdout",
     "output_type": "stream",
     "text": [
      "\r",
      "Upgrading database; v7 -> v8: 100%|██████████| 1/1 [00:00<00:00, 421.45it/s]"
     ]
    },
    {
     "name": "stdout",
     "output_type": "stream",
     "text": [
      "\n",
      "\r",
      "  0%|          | 0/1 [00:00<?, ?it/s]"
     ]
    },
    {
     "name": "stdout",
     "output_type": "stream",
     "text": [
      "\r",
      "Upgrading database; v8 -> v9:   0%|          | 0/1 [00:00<?, ?it/s]"
     ]
    },
    {
     "name": "stdout",
     "output_type": "stream",
     "text": [
      "\r",
      "Upgrading database; v8 -> v9: 100%|██████████| 1/1 [00:00<00:00, 588.51it/s]"
     ]
    },
    {
     "name": "stdout",
     "output_type": "stream",
     "text": [
      "\n"
     ]
    }
   ],
   "source": [
    "initialise_database()\n",
    "exp = load_or_create_experiment(experiment_name='tutorial_exp', sample_name=\"no sample\")"
   ]
  },
  {
   "cell_type": "markdown",
   "metadata": {},
   "source": [
    "Here, we define a simple function to benchmark the time it takes to insert n points with either numeric or array data type.\n",
    "We will compare both the time used to call ``add_result`` and the time used for the full measurement."
   ]
  },
  {
   "cell_type": "code",
   "execution_count": 4,
   "metadata": {
    "execution": {
     "iopub.execute_input": "2020-09-17T06:24:10.291384Z",
     "iopub.status.busy": "2020-09-17T06:24:10.290760Z",
     "iopub.status.idle": "2020-09-17T06:24:10.294374Z",
     "shell.execute_reply": "2020-09-17T06:24:10.293845Z"
    }
   },
   "outputs": [],
   "source": [
    "def insert_data(paramtype, npoints, nreps=1):\n",
    "\n",
    "    meas = Measurement(exp=exp)\n",
    "\n",
    "    x1 = ManualParameter('x1')\n",
    "    x2 = ManualParameter('x2')\n",
    "    x3 = ManualParameter('x3')\n",
    "    y1 = ManualParameter('y1')\n",
    "    y2 = ManualParameter('y2')\n",
    "\n",
    "    meas.register_parameter(x1, paramtype=paramtype)\n",
    "    meas.register_parameter(x2, paramtype=paramtype)\n",
    "    meas.register_parameter(x3, paramtype=paramtype)\n",
    "    meas.register_parameter(y1, setpoints=[x1, x2, x3],\n",
    "                            paramtype=paramtype)\n",
    "    meas.register_parameter(y2, setpoints=[x1, x2, x3],\n",
    "                            paramtype=paramtype)\n",
    "    start = time.perf_counter()\n",
    "    with meas.run() as datasaver:\n",
    "        start_adding = time.perf_counter()\n",
    "        for i in range(nreps):\n",
    "            datasaver.add_result((x1, np.random.rand(npoints)),\n",
    "                                 (x2, np.random.rand(npoints)),\n",
    "                                 (x3, np.random.rand(npoints)),\n",
    "                                 (y1, np.random.rand(npoints)),\n",
    "                                 (y2, np.random.rand(npoints)))\n",
    "        stop_adding = time.perf_counter()\n",
    "        run_id = datasaver.run_id\n",
    "    stop = time.perf_counter()\n",
    "    tot_time = stop - start\n",
    "    add_time = stop_adding - start_adding\n",
    "    return tot_time, add_time, run_id"
   ]
  },
  {
   "cell_type": "markdown",
   "metadata": {},
   "source": [
    "## Comparison between numeric/array data and binary blob"
   ]
  },
  {
   "cell_type": "markdown",
   "metadata": {},
   "source": [
    "### Case1: Short experiment time"
   ]
  },
  {
   "cell_type": "code",
   "execution_count": 5,
   "metadata": {
    "execution": {
     "iopub.execute_input": "2020-09-17T06:24:10.300069Z",
     "iopub.status.busy": "2020-09-17T06:24:10.299237Z",
     "iopub.status.idle": "2020-09-17T06:24:11.094741Z",
     "shell.execute_reply": "2020-09-17T06:24:11.095295Z"
    }
   },
   "outputs": [
    {
     "name": "stdout",
     "output_type": "stream",
     "text": [
      "Starting experimental run with id: 1. \n",
      "Starting experimental run with id: 2. \n",
      "Starting experimental run with id: 3. \n"
     ]
    },
    {
     "name": "stdout",
     "output_type": "stream",
     "text": [
      "Starting experimental run with id: 4. \n"
     ]
    },
    {
     "name": "stdout",
     "output_type": "stream",
     "text": [
      "Starting experimental run with id: 5. \n"
     ]
    },
    {
     "name": "stdout",
     "output_type": "stream",
     "text": [
      "Starting experimental run with id: 6. \n",
      "Starting experimental run with id: 7. \n"
     ]
    },
    {
     "name": "stdout",
     "output_type": "stream",
     "text": [
      "Starting experimental run with id: 8. \n",
      "Starting experimental run with id: 9. \n"
     ]
    },
    {
     "name": "stdout",
     "output_type": "stream",
     "text": [
      "Starting experimental run with id: 10. \n",
      "Starting experimental run with id: 11. \n"
     ]
    },
    {
     "name": "stdout",
     "output_type": "stream",
     "text": [
      "Starting experimental run with id: 12. \n",
      "Starting experimental run with id: 13. \n"
     ]
    },
    {
     "name": "stdout",
     "output_type": "stream",
     "text": [
      "Starting experimental run with id: 14. \n"
     ]
    }
   ],
   "source": [
    "sizes = [1,500,1000,2000,3000,4000,5000]\n",
    "t_numeric = []\n",
    "t_numeric_add = []\n",
    "t_array = []\n",
    "t_array_add = []\n",
    "for size in sizes:\n",
    "    tn, tna, run_id_n =  insert_data('numeric', size)\n",
    "    t_numeric.append(tn)\n",
    "    t_numeric_add.append(tna)\n",
    "\n",
    "    ta, taa, run_id_a =  insert_data('array', size)\n",
    "    t_array.append(ta)\n",
    "    t_array_add.append(taa)"
   ]
  },
  {
   "cell_type": "code",
   "execution_count": 6,
   "metadata": {
    "execution": {
     "iopub.execute_input": "2020-09-17T06:24:11.100021Z",
     "iopub.status.busy": "2020-09-17T06:24:11.099487Z",
     "iopub.status.idle": "2020-09-17T06:24:11.310476Z",
     "shell.execute_reply": "2020-09-17T06:24:11.309947Z"
    }
   },
   "outputs": [
    {
     "data": {
      "image/png": "[encoded data removed]",
      "text/plain": [
       "<Figure size 432x288 with 1 Axes>"
      ]
     },
     "metadata": {
      "needs_background": "light"
     },
     "output_type": "display_data"
    }
   ],
   "source": [
    "fig, ax = plt.subplots(1,1)\n",
    "ax.plot(sizes, t_numeric, 'o-', label='Inserting row-by-row')\n",
    "ax.plot(sizes, t_numeric_add, 'o-', label='Inserting row-by-row: add_result only')\n",
    "ax.plot(sizes, t_array, 'd-', label='Inserting as binary blob')\n",
    "ax.plot(sizes, t_array_add, 'd-', label='Inserting as binary blob: add_result only')\n",
    "ax.legend()\n",
    "ax.set_xlabel('Array length')\n",
    "ax.set_ylabel('Time (s)')\n",
    "fig.tight_layout()"
   ]
  },
  {
   "cell_type": "markdown",
   "metadata": {},
   "source": [
    "As shown in the latter figure, the time to setup and and close the experiment is approximately 0.4 sec. In case of small array sizes, the difference between inserting values of data as arrays and inserting them row-by-row is relatively unimportant. At larger array sizes, i.e. above 10000 points, the cost of writing data as individual datapoints starts to become important.\n"
   ]
  },
  {
   "cell_type": "markdown",
   "metadata": {},
   "source": [
    "### Case2: Long experiment time "
   ]
  },
  {
   "cell_type": "code",
   "execution_count": 7,
   "metadata": {
    "execution": {
     "iopub.execute_input": "2020-09-17T06:24:11.318281Z",
     "iopub.status.busy": "2020-09-17T06:24:11.317765Z",
     "iopub.status.idle": "2020-09-17T06:25:03.745484Z",
     "shell.execute_reply": "2020-09-17T06:25:03.744726Z"
    }
   },
   "outputs": [
    {
     "name": "stdout",
     "output_type": "stream",
     "text": [
      "Starting experimental run with id: 15. \n",
      "Starting experimental run with id: 16. \n",
      "Starting experimental run with id: 17. \n"
     ]
    },
    {
     "name": "stdout",
     "output_type": "stream",
     "text": [
      "Starting experimental run with id: 18. \n",
      "Starting experimental run with id: 19. \n"
     ]
    },
    {
     "name": "stdout",
     "output_type": "stream",
     "text": [
      "Starting experimental run with id: 20. \n"
     ]
    },
    {
     "name": "stdout",
     "output_type": "stream",
     "text": [
      "Starting experimental run with id: 21. \n"
     ]
    },
    {
     "name": "stdout",
     "output_type": "stream",
     "text": [
      "Starting experimental run with id: 22. \n"
     ]
    },
    {
     "name": "stdout",
     "output_type": "stream",
     "text": [
      "Starting experimental run with id: 23. \n"
     ]
    },
    {
     "name": "stdout",
     "output_type": "stream",
     "text": [
      "Starting experimental run with id: 24. \n"
     ]
    },
    {
     "name": "stdout",
     "output_type": "stream",
     "text": [
      "Starting experimental run with id: 25. \n"
     ]
    },
    {
     "name": "stdout",
     "output_type": "stream",
     "text": [
      "Starting experimental run with id: 26. \n"
     ]
    },
    {
     "name": "stdout",
     "output_type": "stream",
     "text": [
      "Starting experimental run with id: 27. \n"
     ]
    },
    {
     "name": "stdout",
     "output_type": "stream",
     "text": [
      "Starting experimental run with id: 28. \n"
     ]
    }
   ],
   "source": [
    "sizes = [1,500,1000,2000,3000,4000,5000]\n",
    "nreps = 100\n",
    "t_numeric = []\n",
    "t_numeric_add = []\n",
    "t_numeric_run_ids = []\n",
    "t_array = []\n",
    "t_array_add = []\n",
    "t_array_run_ids = []\n",
    "for size in sizes:\n",
    "    tn, tna, run_id_n =  insert_data('numeric', size, nreps=nreps)\n",
    "    t_numeric.append(tn)\n",
    "    t_numeric_add.append(tna)\n",
    "    t_numeric_run_ids.append(run_id_n)\n",
    "\n",
    "    ta, taa, run_id_a =  insert_data('array', size, nreps=nreps)\n",
    "    t_array.append(ta)\n",
    "    t_array_add.append(taa)\n",
    "    t_array_run_ids.append(run_id_a)"
   ]
  },
  {
   "cell_type": "code",
   "execution_count": 8,
   "metadata": {
    "execution": {
     "iopub.execute_input": "2020-09-17T06:25:03.756502Z",
     "iopub.status.busy": "2020-09-17T06:25:03.750353Z",
     "iopub.status.idle": "2020-09-17T06:25:03.964411Z",
     "shell.execute_reply": "2020-09-17T06:25:03.964834Z"
    },
    "scrolled": true
   },
   "outputs": [
    {
     "data": {
      "image/png": "[encoded data removed]",
      "text/plain": [
       "<Figure size 432x288 with 1 Axes>"
      ]
     },
     "metadata": {
      "needs_background": "light"
     },
     "output_type": "display_data"
    }
   ],
   "source": [
    "fig, ax = plt.subplots(1,1)\n",
    "ax.plot(sizes, t_numeric, 'o-', label='Inserting row-by-row')\n",
    "ax.plot(sizes, t_numeric_add, 'o-', label='Inserting row-by-row: add_result only')\n",
    "ax.plot(sizes, t_array, 'd-', label='Inserting as binary blob')\n",
    "ax.plot(sizes, t_array_add, 'd-', label='Inserting as binary blob: add_result only')\n",
    "ax.legend()\n",
    "ax.set_xlabel('Array length')\n",
    "ax.set_ylabel('Time (s)')\n",
    "fig.tight_layout()"
   ]
  },
  {
   "cell_type": "markdown",
   "metadata": {},
   "source": [
    "However, as we increase the length of the experiment, as seen here by repeating the insertion 100 times, we see a big difference between inserting values of the data row-by-row and inserting it as a binary blob."
   ]
  },
  {
   "cell_type": "markdown",
   "metadata": {},
   "source": [
    "## Loading the data "
   ]
  },
  {
   "cell_type": "code",
   "execution_count": 9,
   "metadata": {
    "execution": {
     "iopub.execute_input": "2020-09-17T06:25:03.968960Z",
     "iopub.status.busy": "2020-09-17T06:25:03.968386Z",
     "iopub.status.idle": "2020-09-17T06:25:03.970965Z",
     "shell.execute_reply": "2020-09-17T06:25:03.970483Z"
    }
   },
   "outputs": [],
   "source": [
    "from qcodes.dataset.data_set import load_by_id\n",
    "from qcodes.dataset.data_export import get_data_by_id"
   ]
  },
  {
   "cell_type": "markdown",
   "metadata": {},
   "source": [
    "As usual you can load the data by using the ``load_by_id`` function but you will notice that the different storage methods\n",
    "are reflected in shape of the data as it is retrieved. "
   ]
  },
  {
   "cell_type": "code",
   "execution_count": 10,
   "metadata": {
    "execution": {
     "iopub.execute_input": "2020-09-17T06:25:03.974957Z",
     "iopub.status.busy": "2020-09-17T06:25:03.973865Z",
     "iopub.status.idle": "2020-09-17T06:25:03.975466Z",
     "shell.execute_reply": "2020-09-17T06:25:03.976015Z"
    }
   },
   "outputs": [],
   "source": [
    "run_id_n = t_numeric_run_ids[0]\n",
    "run_id_a = t_array_run_ids[0]"
   ]
  },
  {
   "cell_type": "code",
   "execution_count": 11,
   "metadata": {
    "execution": {
     "iopub.execute_input": "2020-09-17T06:25:03.978901Z",
     "iopub.status.busy": "2020-09-17T06:25:03.978396Z",
     "iopub.status.idle": "2020-09-17T06:25:03.986866Z",
     "shell.execute_reply": "2020-09-17T06:25:03.986272Z"
    },
    "scrolled": true
   },
   "outputs": [
    {
     "data": {
      "text/plain": [
       "{'x1': {'x1': array([0.87210067, 0.87210067, 0.51394587, 0.51394587, 0.4851557 ,\n",
       "         0.4851557 , 0.5705028 , 0.5705028 , 0.74555897, 0.74555897,\n",
       "         0.37639824, 0.37639824, 0.44393821, 0.44393821, 0.73508847,\n",
       "         0.73508847, 0.11746727, 0.11746727, 0.90019547, 0.90019547,\n",
       "         0.89759426, 0.89759426, 0.03937644, 0.03937644, 0.4738584 ,\n",
       "         0.4738584 , 0.00693717, 0.00693717, 0.76545753, 0.76545753,\n",
       "         0.59368476, 0.59368476, 0.22165999, 0.22165999, 0.53858313,\n",
       "         0.53858313, 0.2022465 , 0.2022465 , 0.62926357, 0.62926357,\n",
       "         0.00236902, 0.00236902, 0.29205306, 0.29205306, 0.36407573,\n",
       "         0.36407573, 0.36999923, 0.36999923, 0.87937147, 0.87937147,\n",
       "         0.10434383, 0.10434383, 0.15642241, 0.15642241, 0.45874762,\n",
       "         0.45874762, 0.17244091, 0.17244091, 0.14090582, 0.14090582,\n",
       "         0.2346998 , 0.2346998 , 0.94922207, 0.94922207, 0.83399345,\n",
       "         0.83399345, 0.40830433, 0.40830433, 0.28132244, 0.28132244,\n",
       "         0.89382034, 0.89382034, 0.5240875 , 0.5240875 , 0.41236428,\n",
       "         0.41236428, 0.90746385, 0.90746385, 0.21577129, 0.21577129,\n",
       "         0.91406335, 0.91406335, 0.20974296, 0.20974296, 0.69757734,\n",
       "         0.69757734, 0.56465861, 0.56465861, 0.20654014, 0.20654014,\n",
       "         0.76573092, 0.76573092, 0.88482866, 0.88482866, 0.17129151,\n",
       "         0.17129151, 0.17446963, 0.17446963, 0.47660003, 0.47660003,\n",
       "         0.9353941 , 0.9353941 , 0.69141514, 0.69141514, 0.42485652,\n",
       "         0.42485652, 0.88044509, 0.88044509, 0.34162824, 0.34162824,\n",
       "         0.62221915, 0.62221915, 0.10514955, 0.10514955, 0.41828786,\n",
       "         0.41828786, 0.68314958, 0.68314958, 0.69510873, 0.69510873,\n",
       "         0.89625452, 0.89625452, 0.52959273, 0.52959273, 0.31810258,\n",
       "         0.31810258, 0.29995779, 0.29995779, 0.09491841, 0.09491841,\n",
       "         0.1693374 , 0.1693374 , 0.51313693, 0.51313693, 0.41734846,\n",
       "         0.41734846, 0.70421432, 0.70421432, 0.12412817, 0.12412817,\n",
       "         0.22895185, 0.22895185, 0.65318366, 0.65318366, 0.8469899 ,\n",
       "         0.8469899 , 0.67851876, 0.67851876, 0.56267786, 0.56267786,\n",
       "         0.71880234, 0.71880234, 0.79615613, 0.79615613, 0.20332679,\n",
       "         0.20332679, 0.21394899, 0.21394899, 0.717688  , 0.717688  ,\n",
       "         0.37888144, 0.37888144, 0.63854801, 0.63854801, 0.2039431 ,\n",
       "         0.2039431 , 0.78402855, 0.78402855, 0.23331035, 0.23331035,\n",
       "         0.76441654, 0.76441654, 0.36780427, 0.36780427, 0.80836205,\n",
       "         0.80836205, 0.84828036, 0.84828036, 0.17302883, 0.17302883,\n",
       "         0.8767656 , 0.8767656 , 0.01214655, 0.01214655, 0.56874415,\n",
       "         0.56874415, 0.16851561, 0.16851561, 0.74835131, 0.74835131,\n",
       "         0.99997258, 0.99997258, 0.89707101, 0.89707101, 0.90053108,\n",
       "         0.90053108, 0.54965101, 0.54965101, 0.423931  , 0.423931  ])}}"
      ]
     },
     "execution_count": 1,
     "metadata": {},
     "output_type": "execute_result"
    }
   ],
   "source": [
    "ds = load_by_id(run_id_n)\n",
    "ds.get_parameter_data('x1')"
   ]
  },
  {
   "cell_type": "markdown",
   "metadata": {},
   "source": [
    "And a dataset stored as binary arrays"
   ]
  },
  {
   "cell_type": "code",
   "execution_count": 12,
   "metadata": {
    "execution": {
     "iopub.execute_input": "2020-09-17T06:25:03.989980Z",
     "iopub.status.busy": "2020-09-17T06:25:03.989480Z",
     "iopub.status.idle": "2020-09-17T06:25:04.044847Z",
     "shell.execute_reply": "2020-09-17T06:25:04.045282Z"
    },
    "scrolled": true
   },
   "outputs": [
    {
     "data": {
      "text/plain": [
       "{'x1': {'x1': array([[0.13989256],\n",
       "         [0.13989256],\n",
       "         [0.41470038],\n",
       "         [0.41470038],\n",
       "         [0.0937956 ],\n",
       "         [0.0937956 ],\n",
       "         [0.99338584],\n",
       "         [0.99338584],\n",
       "         [0.94456157],\n",
       "         [0.94456157],\n",
       "         [0.1344446 ],\n",
       "         [0.1344446 ],\n",
       "         [0.49390633],\n",
       "         [0.49390633],\n",
       "         [0.75026835],\n",
       "         [0.75026835],\n",
       "         [0.30473711],\n",
       "         [0.30473711],\n",
       "         [0.30510279],\n",
       "         [0.30510279],\n",
       "         [0.19014472],\n",
       "         [0.19014472],\n",
       "         [0.63011444],\n",
       "         [0.63011444],\n",
       "         [0.16344049],\n",
       "         [0.16344049],\n",
       "         [0.04544473],\n",
       "         [0.04544473],\n",
       "         [0.83404686],\n",
       "         [0.83404686],\n",
       "         [0.18090491],\n",
       "         [0.18090491],\n",
       "         [0.80024758],\n",
       "         [0.80024758],\n",
       "         [0.51149421],\n",
       "         [0.51149421],\n",
       "         [0.1266438 ],\n",
       "         [0.1266438 ],\n",
       "         [0.40976419],\n",
       "         [0.40976419],\n",
       "         [0.24379684],\n",
       "         [0.24379684],\n",
       "         [0.27642025],\n",
       "         [0.27642025],\n",
       "         [0.91067031],\n",
       "         [0.91067031],\n",
       "         [0.24074046],\n",
       "         [0.24074046],\n",
       "         [0.72291121],\n",
       "         [0.72291121],\n",
       "         [0.34228077],\n",
       "         [0.34228077],\n",
       "         [0.37914377],\n",
       "         [0.37914377],\n",
       "         [0.5976025 ],\n",
       "         [0.5976025 ],\n",
       "         [0.26337842],\n",
       "         [0.26337842],\n",
       "         [0.98392481],\n",
       "         [0.98392481],\n",
       "         [0.12347186],\n",
       "         [0.12347186],\n",
       "         [0.05833669],\n",
       "         [0.05833669],\n",
       "         [0.59771781],\n",
       "         [0.59771781],\n",
       "         [0.71398068],\n",
       "         [0.71398068],\n",
       "         [0.68980158],\n",
       "         [0.68980158],\n",
       "         [0.5268174 ],\n",
       "         [0.5268174 ],\n",
       "         [0.58737674],\n",
       "         [0.58737674],\n",
       "         [0.30284071],\n",
       "         [0.30284071],\n",
       "         [0.70166706],\n",
       "         [0.70166706],\n",
       "         [0.00822776],\n",
       "         [0.00822776],\n",
       "         [0.90426565],\n",
       "         [0.90426565],\n",
       "         [0.72920533],\n",
       "         [0.72920533],\n",
       "         [0.06308199],\n",
       "         [0.06308199],\n",
       "         [0.78364095],\n",
       "         [0.78364095],\n",
       "         [0.96091316],\n",
       "         [0.96091316],\n",
       "         [0.87576702],\n",
       "         [0.87576702],\n",
       "         [0.00809798],\n",
       "         [0.00809798],\n",
       "         [0.16916947],\n",
       "         [0.16916947],\n",
       "         [0.00624134],\n",
       "         [0.00624134],\n",
       "         [0.42122722],\n",
       "         [0.42122722],\n",
       "         [0.61978072],\n",
       "         [0.61978072],\n",
       "         [0.33296067],\n",
       "         [0.33296067],\n",
       "         [0.43761185],\n",
       "         [0.43761185],\n",
       "         [0.50079541],\n",
       "         [0.50079541],\n",
       "         [0.34944974],\n",
       "         [0.34944974],\n",
       "         [0.95063999],\n",
       "         [0.95063999],\n",
       "         [0.42941543],\n",
       "         [0.42941543],\n",
       "         [0.82280423],\n",
       "         [0.82280423],\n",
       "         [0.94474919],\n",
       "         [0.94474919],\n",
       "         [0.92022633],\n",
       "         [0.92022633],\n",
       "         [0.59906703],\n",
       "         [0.59906703],\n",
       "         [0.38505152],\n",
       "         [0.38505152],\n",
       "         [0.13163963],\n",
       "         [0.13163963],\n",
       "         [0.51223232],\n",
       "         [0.51223232],\n",
       "         [0.06135342],\n",
       "         [0.06135342],\n",
       "         [0.88478728],\n",
       "         [0.88478728],\n",
       "         [0.22701228],\n",
       "         [0.22701228],\n",
       "         [0.54511724],\n",
       "         [0.54511724],\n",
       "         [0.97288737],\n",
       "         [0.97288737],\n",
       "         [0.73987587],\n",
       "         [0.73987587],\n",
       "         [0.23742457],\n",
       "         [0.23742457],\n",
       "         [0.56458142],\n",
       "         [0.56458142],\n",
       "         [0.47815605],\n",
       "         [0.47815605],\n",
       "         [0.42867288],\n",
       "         [0.42867288],\n",
       "         [0.0136858 ],\n",
       "         [0.0136858 ],\n",
       "         [0.63396112],\n",
       "         [0.63396112],\n",
       "         [0.15157152],\n",
       "         [0.15157152],\n",
       "         [0.19762585],\n",
       "         [0.19762585],\n",
       "         [0.42876275],\n",
       "         [0.42876275],\n",
       "         [0.62931023],\n",
       "         [0.62931023],\n",
       "         [0.13979366],\n",
       "         [0.13979366],\n",
       "         [0.73657194],\n",
       "         [0.73657194],\n",
       "         [0.38404539],\n",
       "         [0.38404539],\n",
       "         [0.16824069],\n",
       "         [0.16824069],\n",
       "         [0.21612923],\n",
       "         [0.21612923],\n",
       "         [0.27539146],\n",
       "         [0.27539146],\n",
       "         [0.06922081],\n",
       "         [0.06922081],\n",
       "         [0.55380519],\n",
       "         [0.55380519],\n",
       "         [0.16898152],\n",
       "         [0.16898152],\n",
       "         [0.75270709],\n",
       "         [0.75270709],\n",
       "         [0.64340933],\n",
       "         [0.64340933],\n",
       "         [0.72461952],\n",
       "         [0.72461952],\n",
       "         [0.03644284],\n",
       "         [0.03644284],\n",
       "         [0.59704992],\n",
       "         [0.59704992],\n",
       "         [0.66883012],\n",
       "         [0.66883012],\n",
       "         [0.93709959],\n",
       "         [0.93709959],\n",
       "         [0.07688407],\n",
       "         [0.07688407],\n",
       "         [0.22588881],\n",
       "         [0.22588881],\n",
       "         [0.03222699],\n",
       "         [0.03222699],\n",
       "         [0.42990794],\n",
       "         [0.42990794]])}}"
      ]
     },
     "execution_count": 1,
     "metadata": {},
     "output_type": "execute_result"
    }
   ],
   "source": [
    "ds = load_by_id(run_id_a)\n",
    "ds.get_parameter_data('x1')"
   ]
  },
  {
   "cell_type": "code",
   "execution_count": null,
   "metadata": {},
   "outputs": [],
   "source": []
  }
 ],
 "metadata": {
  "kernelspec": {
   "display_name": "Python 3",
   "language": "python",
   "name": "python3"
  },
  "language_info": {
   "codemirror_mode": {
    "name": "ipython",
    "version": 3
   },
   "file_extension": ".py",
   "mimetype": "text/x-python",
   "name": "python",
   "nbconvert_exporter": "python",
   "pygments_lexer": "ipython3",
   "version": "3.7.7"
  },
  "nbsphinx": {
   "timeout": 600
  },
  "toc": {
   "base_numbering": 1,
   "nav_menu": {},
   "number_sections": true,
   "sideBar": true,
   "skip_h1_title": false,
   "title_cell": "Table of Contents",
   "title_sidebar": "Contents",
   "toc_cell": false,
   "toc_position": {},
   "toc_section_display": true,
   "toc_window_display": false
  },
  "varInspector": {
   "cols": {
    "lenName": 16,
    "lenType": 16,
    "lenVar": 40
   },
   "kernels_config": {
    "python": {
     "delete_cmd_postfix": "",
     "delete_cmd_prefix": "del ",
     "library": "var_list.py",
     "varRefreshCmd": "print(var_dic_list())"
    },
    "r": {
     "delete_cmd_postfix": ") ",
     "delete_cmd_prefix": "rm(",
     "library": "var_list.r",
     "varRefreshCmd": "cat(var_dic_list()) "
    }
   },
   "types_to_exclude": [
    "module",
    "function",
    "builtin_function_or_method",
    "instance",
    "_Feature"
   ],
   "window_display": false
  }
 },
 "nbformat": 4,
 "nbformat_minor": 2
}
