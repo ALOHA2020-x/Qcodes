{
 "cells": [
  {
   "cell_type": "markdown",
   "metadata": {},
   "source": [
    "# DataSet Performance\n",
    "\n",
    "This notebook shows the trade-off between inserting data into a database row-by-row and as binary blobs. Inserting the data row-by-row means that we have direct access to all the data and may perform queries directly on the values of the data. On the other hand, as we shall see, this is much slower than inserting the data directly as binary blobs."
   ]
  },
  {
   "cell_type": "markdown",
   "metadata": {},
   "source": [
    "First, we choose a new location for the database to ensure that we don't add a bunch of benchmarking data to the default one."
   ]
  },
  {
   "cell_type": "code",
   "execution_count": 1,
   "metadata": {
    "execution": {
     "iopub.execute_input": "2020-12-10T11:53:45.809407Z",
     "iopub.status.busy": "2020-12-10T11:53:45.808861Z",
     "iopub.status.idle": "2020-12-10T11:53:46.914348Z",
     "shell.execute_reply": "2020-12-10T11:53:46.913242Z"
    }
   },
   "outputs": [
    {
     "name": "stdout",
     "output_type": "stream",
     "text": [
      "Logging hadn't been started.\n",
      "Activating auto-logging. Current session state plus future input saved.\n",
      "Filename       : /home/vsts/.qcodes/logs/command_history.log\n",
      "Mode           : append\n",
      "Output logging : True\n",
      "Raw input log  : False\n",
      "Timestamping   : True\n",
      "State          : active\n"
     ]
    },
    {
     "name": "stdout",
     "output_type": "stream",
     "text": [
      "Qcodes Logfile : /home/vsts/.qcodes/logs/201210-14302-qcodes.log\n"
     ]
    }
   ],
   "source": [
    "import os\n",
    "cwd = os.getcwd()\n",
    "import qcodes as qc\n",
    "qc.config[\"core\"][\"db_location\"] = os.path.join(cwd, 'testing.db')\n"
   ]
  },
  {
   "cell_type": "code",
   "execution_count": 2,
   "metadata": {
    "execution": {
     "iopub.execute_input": "2020-12-10T11:53:46.921687Z",
     "iopub.status.busy": "2020-12-10T11:53:46.921064Z",
     "iopub.status.idle": "2020-12-10T11:53:47.124061Z",
     "shell.execute_reply": "2020-12-10T11:53:47.123541Z"
    }
   },
   "outputs": [],
   "source": [
    "%matplotlib inline\n",
    "import time\n",
    "import matplotlib.pyplot as plt\n",
    "import numpy as np\n",
    "\n",
    "import qcodes as qc\n",
    "from qcodes.instrument.parameter import ManualParameter\n",
    "from qcodes.dataset.experiment_container import (Experiment,\n",
    "                                                 load_last_experiment,\n",
    "                                                 new_experiment)\n",
    "from qcodes.dataset.sqlite.database import initialise_database\n",
    "from qcodes import load_or_create_experiment\n",
    "from qcodes.dataset.measurements import Measurement"
   ]
  },
  {
   "cell_type": "code",
   "execution_count": 3,
   "metadata": {
    "execution": {
     "iopub.execute_input": "2020-12-10T11:53:47.128462Z",
     "iopub.status.busy": "2020-12-10T11:53:47.127390Z",
     "iopub.status.idle": "2020-12-10T11:53:47.244806Z",
     "shell.execute_reply": "2020-12-10T11:53:47.244052Z"
    }
   },
   "outputs": [
    {
     "name": "stdout",
     "output_type": "stream",
     "text": [
      "\r",
      "0it [00:00, ?it/s]"
     ]
    },
    {
     "name": "stdout",
     "output_type": "stream",
     "text": [
      "\r",
      "Upgrading database; v0 -> v1: : 0it [00:00, ?it/s]"
     ]
    },
    {
     "name": "stdout",
     "output_type": "stream",
     "text": [
      "\r",
      "Upgrading database; v0 -> v1: : 0it [00:00, ?it/s]"
     ]
    },
    {
     "name": "stdout",
     "output_type": "stream",
     "text": [
      "\n",
      "\r",
      "  0%|          | 0/1 [00:00<?, ?it/s]"
     ]
    },
    {
     "name": "stdout",
     "output_type": "stream",
     "text": [
      "\r",
      "Upgrading database; v1 -> v2:   0%|          | 0/1 [00:00<?, ?it/s]"
     ]
    },
    {
     "name": "stdout",
     "output_type": "stream",
     "text": [
      "\r",
      "Upgrading database; v1 -> v2: 100%|██████████| 1/1 [00:00<00:00, 768.47it/s]"
     ]
    },
    {
     "name": "stdout",
     "output_type": "stream",
     "text": [
      "\n",
      "\r",
      "0it [00:00, ?it/s]"
     ]
    },
    {
     "name": "stdout",
     "output_type": "stream",
     "text": [
      "\r",
      "Upgrading database; v2 -> v3: : 0it [00:00, ?it/s]"
     ]
    },
    {
     "name": "stdout",
     "output_type": "stream",
     "text": [
      "\r",
      "Upgrading database; v2 -> v3: : 0it [00:00, ?it/s]"
     ]
    },
    {
     "name": "stdout",
     "output_type": "stream",
     "text": [
      "\n",
      "\r",
      "0it [00:00, ?it/s]"
     ]
    },
    {
     "name": "stdout",
     "output_type": "stream",
     "text": [
      "\r",
      "Upgrading database; v3 -> v4: : 0it [00:00, ?it/s]"
     ]
    },
    {
     "name": "stdout",
     "output_type": "stream",
     "text": [
      "\r",
      "Upgrading database; v3 -> v4: : 0it [00:00, ?it/s]"
     ]
    },
    {
     "name": "stdout",
     "output_type": "stream",
     "text": [
      "\n",
      "\r",
      "  0%|          | 0/1 [00:00<?, ?it/s]"
     ]
    },
    {
     "name": "stdout",
     "output_type": "stream",
     "text": [
      "\r",
      "Upgrading database; v4 -> v5:   0%|          | 0/1 [00:00<?, ?it/s]"
     ]
    },
    {
     "name": "stdout",
     "output_type": "stream",
     "text": [
      "\r",
      "Upgrading database; v4 -> v5: 100%|██████████| 1/1 [00:00<00:00, 468.53it/s]"
     ]
    },
    {
     "name": "stdout",
     "output_type": "stream",
     "text": [
      "\n",
      "\r",
      "0it [00:00, ?it/s]"
     ]
    },
    {
     "name": "stdout",
     "output_type": "stream",
     "text": [
      "\r",
      "Upgrading database; v5 -> v6: : 0it [00:00, ?it/s]"
     ]
    },
    {
     "name": "stdout",
     "output_type": "stream",
     "text": [
      "\r",
      "Upgrading database; v5 -> v6: : 0it [00:00, ?it/s]"
     ]
    },
    {
     "name": "stdout",
     "output_type": "stream",
     "text": [
      "\n",
      "\r",
      "  0%|          | 0/1 [00:00<?, ?it/s]"
     ]
    },
    {
     "name": "stdout",
     "output_type": "stream",
     "text": [
      "\r",
      "Upgrading database; v6 -> v7:   0%|          | 0/1 [00:00<?, ?it/s]"
     ]
    },
    {
     "name": "stdout",
     "output_type": "stream",
     "text": [
      "\r",
      "Upgrading database; v6 -> v7: 100%|██████████| 1/1 [00:00<00:00, 240.68it/s]"
     ]
    },
    {
     "name": "stdout",
     "output_type": "stream",
     "text": [
      "\n",
      "\r",
      "  0%|          | 0/1 [00:00<?, ?it/s]"
     ]
    },
    {
     "name": "stdout",
     "output_type": "stream",
     "text": [
      "\r",
      "Upgrading database; v7 -> v8:   0%|          | 0/1 [00:00<?, ?it/s]"
     ]
    },
    {
     "name": "stdout",
     "output_type": "stream",
     "text": [
      "\r",
      "Upgrading database; v7 -> v8: 100%|██████████| 1/1 [00:00<00:00, 1086.61it/s]"
     ]
    },
    {
     "name": "stdout",
     "output_type": "stream",
     "text": [
      "\n",
      "\r",
      "  0%|          | 0/1 [00:00<?, ?it/s]"
     ]
    },
    {
     "name": "stdout",
     "output_type": "stream",
     "text": [
      "\r",
      "Upgrading database; v8 -> v9:   0%|          | 0/1 [00:00<?, ?it/s]"
     ]
    },
    {
     "name": "stdout",
     "output_type": "stream",
     "text": [
      "\r",
      "Upgrading database; v8 -> v9: 100%|██████████| 1/1 [00:00<00:00, 989.69it/s]"
     ]
    },
    {
     "name": "stdout",
     "output_type": "stream",
     "text": [
      "\n"
     ]
    }
   ],
   "source": [
    "initialise_database()\n",
    "exp = load_or_create_experiment(experiment_name='tutorial_exp', sample_name=\"no sample\")"
   ]
  },
  {
   "cell_type": "markdown",
   "metadata": {},
   "source": [
    "Here, we define a simple function to benchmark the time it takes to insert n points with either numeric or array data type.\n",
    "We will compare both the time used to call ``add_result`` and the time used for the full measurement."
   ]
  },
  {
   "cell_type": "code",
   "execution_count": 4,
   "metadata": {
    "execution": {
     "iopub.execute_input": "2020-12-10T11:53:47.254563Z",
     "iopub.status.busy": "2020-12-10T11:53:47.253342Z",
     "iopub.status.idle": "2020-12-10T11:53:47.255159Z",
     "shell.execute_reply": "2020-12-10T11:53:47.255805Z"
    }
   },
   "outputs": [],
   "source": [
    "def insert_data(paramtype, npoints, nreps=1):\n",
    "\n",
    "    meas = Measurement(exp=exp)\n",
    "\n",
    "    x1 = ManualParameter('x1')\n",
    "    x2 = ManualParameter('x2')\n",
    "    x3 = ManualParameter('x3')\n",
    "    y1 = ManualParameter('y1')\n",
    "    y2 = ManualParameter('y2')\n",
    "\n",
    "    meas.register_parameter(x1, paramtype=paramtype)\n",
    "    meas.register_parameter(x2, paramtype=paramtype)\n",
    "    meas.register_parameter(x3, paramtype=paramtype)\n",
    "    meas.register_parameter(y1, setpoints=[x1, x2, x3],\n",
    "                            paramtype=paramtype)\n",
    "    meas.register_parameter(y2, setpoints=[x1, x2, x3],\n",
    "                            paramtype=paramtype)\n",
    "    start = time.perf_counter()\n",
    "    with meas.run() as datasaver:\n",
    "        start_adding = time.perf_counter()\n",
    "        for i in range(nreps):\n",
    "            datasaver.add_result((x1, np.random.rand(npoints)),\n",
    "                                 (x2, np.random.rand(npoints)),\n",
    "                                 (x3, np.random.rand(npoints)),\n",
    "                                 (y1, np.random.rand(npoints)),\n",
    "                                 (y2, np.random.rand(npoints)))\n",
    "        stop_adding = time.perf_counter()\n",
    "        run_id = datasaver.run_id\n",
    "    stop = time.perf_counter()\n",
    "    tot_time = stop - start\n",
    "    add_time = stop_adding - start_adding\n",
    "    return tot_time, add_time, run_id"
   ]
  },
  {
   "cell_type": "markdown",
   "metadata": {},
   "source": [
    "## Comparison between numeric/array data and binary blob"
   ]
  },
  {
   "cell_type": "markdown",
   "metadata": {},
   "source": [
    "### Case1: Short experiment time"
   ]
  },
  {
   "cell_type": "code",
   "execution_count": 5,
   "metadata": {
    "execution": {
     "iopub.execute_input": "2020-12-10T11:53:47.262075Z",
     "iopub.status.busy": "2020-12-10T11:53:47.260853Z",
     "iopub.status.idle": "2020-12-10T11:53:48.131623Z",
     "shell.execute_reply": "2020-12-10T11:53:48.131023Z"
    }
   },
   "outputs": [
    {
     "name": "stdout",
     "output_type": "stream",
     "text": [
      "Starting experimental run with id: 1. \n",
      "Starting experimental run with id: 2. \n",
      "Starting experimental run with id: 3. \n",
      "Starting experimental run with id: 4. \n",
      "Starting experimental run with id: 5. \n"
     ]
    },
    {
     "name": "stdout",
     "output_type": "stream",
     "text": [
      "Starting experimental run with id: 6. \n"
     ]
    },
    {
     "name": "stdout",
     "output_type": "stream",
     "text": [
      "Starting experimental run with id: 7. \n"
     ]
    },
    {
     "name": "stdout",
     "output_type": "stream",
     "text": [
      "Starting experimental run with id: 8. \n",
      "Starting experimental run with id: 9. \n"
     ]
    },
    {
     "name": "stdout",
     "output_type": "stream",
     "text": [
      "Starting experimental run with id: 10. \n",
      "Starting experimental run with id: 11. \n"
     ]
    },
    {
     "name": "stdout",
     "output_type": "stream",
     "text": [
      "Starting experimental run with id: 12. \n"
     ]
    },
    {
     "name": "stdout",
     "output_type": "stream",
     "text": [
      "Starting experimental run with id: 13. \n"
     ]
    },
    {
     "name": "stdout",
     "output_type": "stream",
     "text": [
      "Starting experimental run with id: 14. \n"
     ]
    }
   ],
   "source": [
    "sizes = [1,500,1000,2000,3000,4000,5000]\n",
    "t_numeric = []\n",
    "t_numeric_add = []\n",
    "t_array = []\n",
    "t_array_add = []\n",
    "for size in sizes:\n",
    "    tn, tna, run_id_n =  insert_data('numeric', size)\n",
    "    t_numeric.append(tn)\n",
    "    t_numeric_add.append(tna)\n",
    "\n",
    "    ta, taa, run_id_a =  insert_data('array', size)\n",
    "    t_array.append(ta)\n",
    "    t_array_add.append(taa)"
   ]
  },
  {
   "cell_type": "code",
   "execution_count": 6,
   "metadata": {
    "execution": {
     "iopub.execute_input": "2020-12-10T11:53:48.152013Z",
     "iopub.status.busy": "2020-12-10T11:53:48.135803Z",
     "iopub.status.idle": "2020-12-10T11:53:48.372712Z",
     "shell.execute_reply": "2020-12-10T11:53:48.372215Z"
    }
   },
   "outputs": [
    {
     "data": {
      "image/png": "[encoded data removed]",
      "text/plain": [
       "<Figure size 432x288 with 1 Axes>"
      ]
     },
     "metadata": {
      "needs_background": "light"
     },
     "output_type": "display_data"
    }
   ],
   "source": [
    "fig, ax = plt.subplots(1,1)\n",
    "ax.plot(sizes, t_numeric, 'o-', label='Inserting row-by-row')\n",
    "ax.plot(sizes, t_numeric_add, 'o-', label='Inserting row-by-row: add_result only')\n",
    "ax.plot(sizes, t_array, 'd-', label='Inserting as binary blob')\n",
    "ax.plot(sizes, t_array_add, 'd-', label='Inserting as binary blob: add_result only')\n",
    "ax.legend()\n",
    "ax.set_xlabel('Array length')\n",
    "ax.set_ylabel('Time (s)')\n",
    "fig.tight_layout()"
   ]
  },
  {
   "cell_type": "markdown",
   "metadata": {},
   "source": [
    "As shown in the latter figure, the time to setup and and close the experiment is approximately 0.4 sec. In case of small array sizes, the difference between inserting values of data as arrays and inserting them row-by-row is relatively unimportant. At larger array sizes, i.e. above 10000 points, the cost of writing data as individual datapoints starts to become important.\n"
   ]
  },
  {
   "cell_type": "markdown",
   "metadata": {},
   "source": [
    "### Case2: Long experiment time "
   ]
  },
  {
   "cell_type": "code",
   "execution_count": 7,
   "metadata": {
    "execution": {
     "iopub.execute_input": "2020-12-10T11:53:48.381102Z",
     "iopub.status.busy": "2020-12-10T11:53:48.380404Z",
     "iopub.status.idle": "2020-12-10T11:54:50.608750Z",
     "shell.execute_reply": "2020-12-10T11:54:50.608231Z"
    }
   },
   "outputs": [
    {
     "name": "stdout",
     "output_type": "stream",
     "text": [
      "Starting experimental run with id: 15. \n",
      "Starting experimental run with id: 16. \n",
      "Starting experimental run with id: 17. \n"
     ]
    },
    {
     "name": "stdout",
     "output_type": "stream",
     "text": [
      "Starting experimental run with id: 18. \n",
      "Starting experimental run with id: 19. \n"
     ]
    },
    {
     "name": "stdout",
     "output_type": "stream",
     "text": [
      "Starting experimental run with id: 20. \n"
     ]
    },
    {
     "name": "stdout",
     "output_type": "stream",
     "text": [
      "Starting experimental run with id: 21. \n"
     ]
    },
    {
     "name": "stdout",
     "output_type": "stream",
     "text": [
      "Starting experimental run with id: 22. \n"
     ]
    },
    {
     "name": "stdout",
     "output_type": "stream",
     "text": [
      "Starting experimental run with id: 23. \n"
     ]
    },
    {
     "name": "stdout",
     "output_type": "stream",
     "text": [
      "Starting experimental run with id: 24. \n"
     ]
    },
    {
     "name": "stdout",
     "output_type": "stream",
     "text": [
      "Starting experimental run with id: 25. \n"
     ]
    },
    {
     "name": "stdout",
     "output_type": "stream",
     "text": [
      "Starting experimental run with id: 26. \n"
     ]
    },
    {
     "name": "stdout",
     "output_type": "stream",
     "text": [
      "Starting experimental run with id: 27. \n"
     ]
    },
    {
     "name": "stdout",
     "output_type": "stream",
     "text": [
      "Starting experimental run with id: 28. \n"
     ]
    }
   ],
   "source": [
    "sizes = [1,500,1000,2000,3000,4000,5000]\n",
    "nreps = 100\n",
    "t_numeric = []\n",
    "t_numeric_add = []\n",
    "t_numeric_run_ids = []\n",
    "t_array = []\n",
    "t_array_add = []\n",
    "t_array_run_ids = []\n",
    "for size in sizes:\n",
    "    tn, tna, run_id_n =  insert_data('numeric', size, nreps=nreps)\n",
    "    t_numeric.append(tn)\n",
    "    t_numeric_add.append(tna)\n",
    "    t_numeric_run_ids.append(run_id_n)\n",
    "\n",
    "    ta, taa, run_id_a =  insert_data('array', size, nreps=nreps)\n",
    "    t_array.append(ta)\n",
    "    t_array_add.append(taa)\n",
    "    t_array_run_ids.append(run_id_a)"
   ]
  },
  {
   "cell_type": "code",
   "execution_count": 8,
   "metadata": {
    "execution": {
     "iopub.execute_input": "2020-12-10T11:54:50.651555Z",
     "iopub.status.busy": "2020-12-10T11:54:50.644452Z",
     "iopub.status.idle": "2020-12-10T11:54:50.829439Z",
     "shell.execute_reply": "2020-12-10T11:54:50.828850Z"
    },
    "scrolled": true
   },
   "outputs": [
    {
     "data": {
      "image/png": "[encoded data removed]",
      "text/plain": [
       "<Figure size 432x288 with 1 Axes>"
      ]
     },
     "metadata": {
      "needs_background": "light"
     },
     "output_type": "display_data"
    }
   ],
   "source": [
    "fig, ax = plt.subplots(1,1)\n",
    "ax.plot(sizes, t_numeric, 'o-', label='Inserting row-by-row')\n",
    "ax.plot(sizes, t_numeric_add, 'o-', label='Inserting row-by-row: add_result only')\n",
    "ax.plot(sizes, t_array, 'd-', label='Inserting as binary blob')\n",
    "ax.plot(sizes, t_array_add, 'd-', label='Inserting as binary blob: add_result only')\n",
    "ax.legend()\n",
    "ax.set_xlabel('Array length')\n",
    "ax.set_ylabel('Time (s)')\n",
    "fig.tight_layout()"
   ]
  },
  {
   "cell_type": "markdown",
   "metadata": {},
   "source": [
    "However, as we increase the length of the experiment, as seen here by repeating the insertion 100 times, we see a big difference between inserting values of the data row-by-row and inserting it as a binary blob."
   ]
  },
  {
   "cell_type": "markdown",
   "metadata": {},
   "source": [
    "## Loading the data "
   ]
  },
  {
   "cell_type": "code",
   "execution_count": 9,
   "metadata": {
    "execution": {
     "iopub.execute_input": "2020-12-10T11:54:50.833816Z",
     "iopub.status.busy": "2020-12-10T11:54:50.833278Z",
     "iopub.status.idle": "2020-12-10T11:54:50.837132Z",
     "shell.execute_reply": "2020-12-10T11:54:50.837825Z"
    }
   },
   "outputs": [],
   "source": [
    "from qcodes.dataset.data_set import load_by_id\n",
    "from qcodes.dataset.data_export import get_data_by_id"
   ]
  },
  {
   "cell_type": "markdown",
   "metadata": {},
   "source": [
    "As usual you can load the data by using the ``load_by_id`` function but you will notice that the different storage methods\n",
    "are reflected in shape of the data as it is retrieved. "
   ]
  },
  {
   "cell_type": "code",
   "execution_count": 10,
   "metadata": {
    "execution": {
     "iopub.execute_input": "2020-12-10T11:54:50.841845Z",
     "iopub.status.busy": "2020-12-10T11:54:50.841325Z",
     "iopub.status.idle": "2020-12-10T11:54:50.844186Z",
     "shell.execute_reply": "2020-12-10T11:54:50.844852Z"
    }
   },
   "outputs": [],
   "source": [
    "run_id_n = t_numeric_run_ids[0]\n",
    "run_id_a = t_array_run_ids[0]"
   ]
  },
  {
   "cell_type": "code",
   "execution_count": 11,
   "metadata": {
    "execution": {
     "iopub.execute_input": "2020-12-10T11:54:50.848906Z",
     "iopub.status.busy": "2020-12-10T11:54:50.847735Z",
     "iopub.status.idle": "2020-12-10T11:54:50.859682Z",
     "shell.execute_reply": "2020-12-10T11:54:50.860388Z"
    },
    "scrolled": true
   },
   "outputs": [
    {
     "data": {
      "text/plain": [
       "{'x1': {'x1': array([0.85556309, 0.85556309, 0.29013656, 0.29013656, 0.14670365,\n",
       "         0.14670365, 0.67712206, 0.67712206, 0.46675299, 0.46675299,\n",
       "         0.32602526, 0.32602526, 0.79489353, 0.79489353, 0.45449061,\n",
       "         0.45449061, 0.0381423 , 0.0381423 , 0.33349741, 0.33349741,\n",
       "         0.44009596, 0.44009596, 0.14311528, 0.14311528, 0.21471083,\n",
       "         0.21471083, 0.12778643, 0.12778643, 0.26289976, 0.26289976,\n",
       "         0.6321021 , 0.6321021 , 0.84092376, 0.84092376, 0.22402817,\n",
       "         0.22402817, 0.9792884 , 0.9792884 , 0.08298877, 0.08298877,\n",
       "         0.43783967, 0.43783967, 0.32165326, 0.32165326, 0.7513977 ,\n",
       "         0.7513977 , 0.6180337 , 0.6180337 , 0.47855553, 0.47855553,\n",
       "         0.55505602, 0.55505602, 0.12421678, 0.12421678, 0.4499093 ,\n",
       "         0.4499093 , 0.99229333, 0.99229333, 0.05552467, 0.05552467,\n",
       "         0.25944239, 0.25944239, 0.16285927, 0.16285927, 0.39421149,\n",
       "         0.39421149, 0.97405968, 0.97405968, 0.0488357 , 0.0488357 ,\n",
       "         0.23620509, 0.23620509, 0.3834951 , 0.3834951 , 0.92342941,\n",
       "         0.92342941, 0.00900181, 0.00900181, 0.03647605, 0.03647605,\n",
       "         0.20020458, 0.20020458, 0.55383184, 0.55383184, 0.97975716,\n",
       "         0.97975716, 0.59101399, 0.59101399, 0.57300251, 0.57300251,\n",
       "         0.08399203, 0.08399203, 0.44806171, 0.44806171, 0.79541501,\n",
       "         0.79541501, 0.12853574, 0.12853574, 0.3738823 , 0.3738823 ,\n",
       "         0.22120497, 0.22120497, 0.36669773, 0.36669773, 0.07828592,\n",
       "         0.07828592, 0.5423973 , 0.5423973 , 0.32278824, 0.32278824,\n",
       "         0.26890253, 0.26890253, 0.99043942, 0.99043942, 0.47031194,\n",
       "         0.47031194, 0.75244777, 0.75244777, 0.07706215, 0.07706215,\n",
       "         0.26842142, 0.26842142, 0.01181332, 0.01181332, 0.69341048,\n",
       "         0.69341048, 0.4757234 , 0.4757234 , 0.91611678, 0.91611678,\n",
       "         0.7909668 , 0.7909668 , 0.95465106, 0.95465106, 0.42104158,\n",
       "         0.42104158, 0.67927954, 0.67927954, 0.27903054, 0.27903054,\n",
       "         0.05996367, 0.05996367, 0.71918998, 0.71918998, 0.6434835 ,\n",
       "         0.6434835 , 0.75536667, 0.75536667, 0.39300555, 0.39300555,\n",
       "         0.40910956, 0.40910956, 0.8603649 , 0.8603649 , 0.20478195,\n",
       "         0.20478195, 0.17261305, 0.17261305, 0.75534096, 0.75534096,\n",
       "         0.13141151, 0.13141151, 0.35598122, 0.35598122, 0.2622847 ,\n",
       "         0.2622847 , 0.3356878 , 0.3356878 , 0.39032681, 0.39032681,\n",
       "         0.2853789 , 0.2853789 , 0.50748094, 0.50748094, 0.42066176,\n",
       "         0.42066176, 0.85230756, 0.85230756, 0.10625509, 0.10625509,\n",
       "         0.7378035 , 0.7378035 , 0.02997353, 0.02997353, 0.86204412,\n",
       "         0.86204412, 0.34323687, 0.34323687, 0.10142891, 0.10142891,\n",
       "         0.16162687, 0.16162687, 0.80889755, 0.80889755, 0.54477295,\n",
       "         0.54477295, 0.74221196, 0.74221196, 0.61427513, 0.61427513])}}"
      ]
     },
     "execution_count": 1,
     "metadata": {},
     "output_type": "execute_result"
    }
   ],
   "source": [
    "ds = load_by_id(run_id_n)\n",
    "ds.get_parameter_data('x1')"
   ]
  },
  {
   "cell_type": "markdown",
   "metadata": {},
   "source": [
    "And a dataset stored as binary arrays"
   ]
  },
  {
   "cell_type": "code",
   "execution_count": 12,
   "metadata": {
    "execution": {
     "iopub.execute_input": "2020-12-10T11:54:50.864591Z",
     "iopub.status.busy": "2020-12-10T11:54:50.863469Z",
     "iopub.status.idle": "2020-12-10T11:54:50.922420Z",
     "shell.execute_reply": "2020-12-10T11:54:50.921523Z"
    },
    "scrolled": true
   },
   "outputs": [
    {
     "data": {
      "text/plain": [
       "{'x1': {'x1': array([[0.06413656],\n",
       "         [0.06413656],\n",
       "         [0.98793314],\n",
       "         [0.98793314],\n",
       "         [0.46698156],\n",
       "         [0.46698156],\n",
       "         [0.96384926],\n",
       "         [0.96384926],\n",
       "         [0.04839614],\n",
       "         [0.04839614],\n",
       "         [0.72210832],\n",
       "         [0.72210832],\n",
       "         [0.50967378],\n",
       "         [0.50967378],\n",
       "         [0.31959271],\n",
       "         [0.31959271],\n",
       "         [0.30216944],\n",
       "         [0.30216944],\n",
       "         [0.92803261],\n",
       "         [0.92803261],\n",
       "         [0.98477638],\n",
       "         [0.98477638],\n",
       "         [0.03936534],\n",
       "         [0.03936534],\n",
       "         [0.95092062],\n",
       "         [0.95092062],\n",
       "         [0.9511143 ],\n",
       "         [0.9511143 ],\n",
       "         [0.13811432],\n",
       "         [0.13811432],\n",
       "         [0.96362308],\n",
       "         [0.96362308],\n",
       "         [0.46911389],\n",
       "         [0.46911389],\n",
       "         [0.38449499],\n",
       "         [0.38449499],\n",
       "         [0.71259057],\n",
       "         [0.71259057],\n",
       "         [0.27188553],\n",
       "         [0.27188553],\n",
       "         [0.93100463],\n",
       "         [0.93100463],\n",
       "         [0.7473631 ],\n",
       "         [0.7473631 ],\n",
       "         [0.15252539],\n",
       "         [0.15252539],\n",
       "         [0.49212273],\n",
       "         [0.49212273],\n",
       "         [0.94282097],\n",
       "         [0.94282097],\n",
       "         [0.75506817],\n",
       "         [0.75506817],\n",
       "         [0.8894625 ],\n",
       "         [0.8894625 ],\n",
       "         [0.53955284],\n",
       "         [0.53955284],\n",
       "         [0.9259763 ],\n",
       "         [0.9259763 ],\n",
       "         [0.63321166],\n",
       "         [0.63321166],\n",
       "         [0.63376387],\n",
       "         [0.63376387],\n",
       "         [0.65220435],\n",
       "         [0.65220435],\n",
       "         [0.50091212],\n",
       "         [0.50091212],\n",
       "         [0.0760554 ],\n",
       "         [0.0760554 ],\n",
       "         [0.64226734],\n",
       "         [0.64226734],\n",
       "         [0.10552989],\n",
       "         [0.10552989],\n",
       "         [0.21221264],\n",
       "         [0.21221264],\n",
       "         [0.62537262],\n",
       "         [0.62537262],\n",
       "         [0.54481116],\n",
       "         [0.54481116],\n",
       "         [0.91952691],\n",
       "         [0.91952691],\n",
       "         [0.59158908],\n",
       "         [0.59158908],\n",
       "         [0.54996503],\n",
       "         [0.54996503],\n",
       "         [0.02279967],\n",
       "         [0.02279967],\n",
       "         [0.61694585],\n",
       "         [0.61694585],\n",
       "         [0.92956841],\n",
       "         [0.92956841],\n",
       "         [0.06794688],\n",
       "         [0.06794688],\n",
       "         [0.65522943],\n",
       "         [0.65522943],\n",
       "         [0.70507348],\n",
       "         [0.70507348],\n",
       "         [0.68793996],\n",
       "         [0.68793996],\n",
       "         [0.14217357],\n",
       "         [0.14217357],\n",
       "         [0.07223299],\n",
       "         [0.07223299],\n",
       "         [0.80843121],\n",
       "         [0.80843121],\n",
       "         [0.49891069],\n",
       "         [0.49891069],\n",
       "         [0.26904015],\n",
       "         [0.26904015],\n",
       "         [0.51581159],\n",
       "         [0.51581159],\n",
       "         [0.6192253 ],\n",
       "         [0.6192253 ],\n",
       "         [0.64401322],\n",
       "         [0.64401322],\n",
       "         [0.35640961],\n",
       "         [0.35640961],\n",
       "         [0.04909224],\n",
       "         [0.04909224],\n",
       "         [0.41982906],\n",
       "         [0.41982906],\n",
       "         [0.38331315],\n",
       "         [0.38331315],\n",
       "         [0.57973156],\n",
       "         [0.57973156],\n",
       "         [0.36573374],\n",
       "         [0.36573374],\n",
       "         [0.10024508],\n",
       "         [0.10024508],\n",
       "         [0.17663216],\n",
       "         [0.17663216],\n",
       "         [0.12323401],\n",
       "         [0.12323401],\n",
       "         [0.7498662 ],\n",
       "         [0.7498662 ],\n",
       "         [0.91320194],\n",
       "         [0.91320194],\n",
       "         [0.77512963],\n",
       "         [0.77512963],\n",
       "         [0.95878441],\n",
       "         [0.95878441],\n",
       "         [0.61343348],\n",
       "         [0.61343348],\n",
       "         [0.57367865],\n",
       "         [0.57367865],\n",
       "         [0.66109574],\n",
       "         [0.66109574],\n",
       "         [0.57416719],\n",
       "         [0.57416719],\n",
       "         [0.2551811 ],\n",
       "         [0.2551811 ],\n",
       "         [0.22336927],\n",
       "         [0.22336927],\n",
       "         [0.03943914],\n",
       "         [0.03943914],\n",
       "         [0.65180107],\n",
       "         [0.65180107],\n",
       "         [0.6036622 ],\n",
       "         [0.6036622 ],\n",
       "         [0.36306221],\n",
       "         [0.36306221],\n",
       "         [0.16757502],\n",
       "         [0.16757502],\n",
       "         [0.00959483],\n",
       "         [0.00959483],\n",
       "         [0.26841328],\n",
       "         [0.26841328],\n",
       "         [0.3400415 ],\n",
       "         [0.3400415 ],\n",
       "         [0.82902677],\n",
       "         [0.82902677],\n",
       "         [0.19603876],\n",
       "         [0.19603876],\n",
       "         [0.94606244],\n",
       "         [0.94606244],\n",
       "         [0.21536278],\n",
       "         [0.21536278],\n",
       "         [0.97977062],\n",
       "         [0.97977062],\n",
       "         [0.2613781 ],\n",
       "         [0.2613781 ],\n",
       "         [0.08003439],\n",
       "         [0.08003439],\n",
       "         [0.12757462],\n",
       "         [0.12757462],\n",
       "         [0.9232932 ],\n",
       "         [0.9232932 ],\n",
       "         [0.10645435],\n",
       "         [0.10645435],\n",
       "         [0.04706273],\n",
       "         [0.04706273],\n",
       "         [0.95922194],\n",
       "         [0.95922194],\n",
       "         [0.48310242],\n",
       "         [0.48310242],\n",
       "         [0.96942293],\n",
       "         [0.96942293],\n",
       "         [0.48367384],\n",
       "         [0.48367384],\n",
       "         [0.9870276 ],\n",
       "         [0.9870276 ]])}}"
      ]
     },
     "execution_count": 1,
     "metadata": {},
     "output_type": "execute_result"
    }
   ],
   "source": [
    "ds = load_by_id(run_id_a)\n",
    "ds.get_parameter_data('x1')"
   ]
  },
  {
   "cell_type": "code",
   "execution_count": null,
   "metadata": {},
   "outputs": [],
   "source": []
  }
 ],
 "metadata": {
  "kernelspec": {
   "display_name": "Python 3",
   "language": "python",
   "name": "python3"
  },
  "language_info": {
   "codemirror_mode": {
    "name": "ipython",
    "version": 3
   },
   "file_extension": ".py",
   "mimetype": "text/x-python",
   "name": "python",
   "nbconvert_exporter": "python",
   "pygments_lexer": "ipython3",
   "version": "3.7.9"
  },
  "nbsphinx": {
   "timeout": 600
  },
  "toc": {
   "base_numbering": 1,
   "nav_menu": {},
   "number_sections": true,
   "sideBar": true,
   "skip_h1_title": false,
   "title_cell": "Table of Contents",
   "title_sidebar": "Contents",
   "toc_cell": false,
   "toc_position": {},
   "toc_section_display": true,
   "toc_window_display": false
  },
  "varInspector": {
   "cols": {
    "lenName": 16,
    "lenType": 16,
    "lenVar": 40
   },
   "kernels_config": {
    "python": {
     "delete_cmd_postfix": "",
     "delete_cmd_prefix": "del ",
     "library": "var_list.py",
     "varRefreshCmd": "print(var_dic_list())"
    },
    "r": {
     "delete_cmd_postfix": ") ",
     "delete_cmd_prefix": "rm(",
     "library": "var_list.r",
     "varRefreshCmd": "cat(var_dic_list()) "
    }
   },
   "types_to_exclude": [
    "module",
    "function",
    "builtin_function_or_method",
    "instance",
    "_Feature"
   ],
   "window_display": false
  }
 },
 "nbformat": 4,
 "nbformat_minor": 2
}
