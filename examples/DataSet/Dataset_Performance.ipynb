{
 "cells": [
  {
   "cell_type": "markdown",
   "metadata": {},
   "source": [
    "# DataSet Performance\n",
    "\n",
    "This notebook shows the trade-off between inserting data into a database row-by-row and as binary blobs. Inserting the data row-by-row means that we have direct access to all the data and may perform queries directly on the values of the data. On the other hand, as we shall see, this is much slower than inserting the data directly as binary blobs."
   ]
  },
  {
   "cell_type": "markdown",
   "metadata": {},
   "source": [
    "First, we choose a new location for the database to ensure that we don't add a bunch of benchmarking data to the default one."
   ]
  },
  {
   "cell_type": "code",
   "execution_count": 1,
   "metadata": {
    "execution": {
     "iopub.execute_input": "2021-03-29T14:13:37.288346Z",
     "iopub.status.busy": "2021-03-29T14:13:37.287757Z",
     "iopub.status.idle": "2021-03-29T14:13:38.336945Z",
     "shell.execute_reply": "2021-03-29T14:13:38.336300Z"
    }
   },
   "outputs": [
    {
     "name": "stdout",
     "output_type": "stream",
     "text": [
      "Logging hadn't been started.\n",
      "Activating auto-logging. Current session state plus future input saved.\n",
      "Filename       : /home/runner/.qcodes/logs/command_history.log\n",
      "Mode           : append\n",
      "Output logging : True\n",
      "Raw input log  : False\n",
      "Timestamping   : True\n",
      "State          : active\n"
     ]
    },
    {
     "name": "stdout",
     "output_type": "stream",
     "text": [
      "Qcodes Logfile : /home/runner/.qcodes/logs/210329-4649-qcodes.log\n"
     ]
    }
   ],
   "source": [
    "import os\n",
    "cwd = os.getcwd()\n",
    "import qcodes as qc\n",
    "qc.config[\"core\"][\"db_location\"] = os.path.join(cwd, 'testing.db')\n"
   ]
  },
  {
   "cell_type": "code",
   "execution_count": 2,
   "metadata": {
    "execution": {
     "iopub.execute_input": "2021-03-29T14:13:38.344959Z",
     "iopub.status.busy": "2021-03-29T14:13:38.343209Z",
     "iopub.status.idle": "2021-03-29T14:13:38.606199Z",
     "shell.execute_reply": "2021-03-29T14:13:38.606696Z"
    }
   },
   "outputs": [],
   "source": [
    "%matplotlib inline\n",
    "import time\n",
    "import matplotlib.pyplot as plt\n",
    "import numpy as np\n",
    "\n",
    "import qcodes as qc\n",
    "from qcodes.instrument.parameter import ManualParameter\n",
    "from qcodes.dataset.experiment_container import (Experiment,\n",
    "                                                 load_last_experiment,\n",
    "                                                 new_experiment)\n",
    "from qcodes.dataset.sqlite.database import initialise_database\n",
    "from qcodes import load_or_create_experiment\n",
    "from qcodes.dataset.measurements import Measurement"
   ]
  },
  {
   "cell_type": "code",
   "execution_count": 3,
   "metadata": {
    "execution": {
     "iopub.execute_input": "2021-03-29T14:13:38.610954Z",
     "iopub.status.busy": "2021-03-29T14:13:38.610346Z",
     "iopub.status.idle": "2021-03-29T14:13:38.707652Z",
     "shell.execute_reply": "2021-03-29T14:13:38.707133Z"
    }
   },
   "outputs": [
    {
     "name": "stdout",
     "output_type": "stream",
     "text": [
      "\r",
      "0it [00:00, ?it/s]"
     ]
    },
    {
     "name": "stdout",
     "output_type": "stream",
     "text": [
      "\r",
      "Upgrading database; v0 -> v1: : 0it [00:00, ?it/s]"
     ]
    },
    {
     "name": "stdout",
     "output_type": "stream",
     "text": [
      "\r",
      "Upgrading database; v0 -> v1: : 0it [00:00, ?it/s]"
     ]
    },
    {
     "name": "stdout",
     "output_type": "stream",
     "text": [
      "\n",
      "\r",
      "  0%|          | 0/1 [00:00<?, ?it/s]"
     ]
    },
    {
     "name": "stdout",
     "output_type": "stream",
     "text": [
      "\r",
      "Upgrading database; v1 -> v2:   0%|          | 0/1 [00:00<?, ?it/s]"
     ]
    },
    {
     "name": "stdout",
     "output_type": "stream",
     "text": [
      "\r",
      "Upgrading database; v1 -> v2: 100%|██████████| 1/1 [00:00<00:00, 765.38it/s]"
     ]
    },
    {
     "name": "stdout",
     "output_type": "stream",
     "text": [
      "\n",
      "\r",
      "0it [00:00, ?it/s]"
     ]
    },
    {
     "name": "stdout",
     "output_type": "stream",
     "text": [
      "\r",
      "Upgrading database; v2 -> v3: : 0it [00:00, ?it/s]"
     ]
    },
    {
     "name": "stdout",
     "output_type": "stream",
     "text": [
      "\r",
      "Upgrading database; v2 -> v3: : 0it [00:00, ?it/s]"
     ]
    },
    {
     "name": "stdout",
     "output_type": "stream",
     "text": [
      "\n",
      "\r",
      "0it [00:00, ?it/s]"
     ]
    },
    {
     "name": "stdout",
     "output_type": "stream",
     "text": [
      "\r",
      "Upgrading database; v3 -> v4: : 0it [00:00, ?it/s]"
     ]
    },
    {
     "name": "stdout",
     "output_type": "stream",
     "text": [
      "\r",
      "Upgrading database; v3 -> v4: : 0it [00:00, ?it/s]"
     ]
    },
    {
     "name": "stdout",
     "output_type": "stream",
     "text": [
      "\n",
      "\r",
      "  0%|          | 0/1 [00:00<?, ?it/s]"
     ]
    },
    {
     "name": "stdout",
     "output_type": "stream",
     "text": [
      "\r",
      "Upgrading database; v4 -> v5:   0%|          | 0/1 [00:00<?, ?it/s]"
     ]
    },
    {
     "name": "stdout",
     "output_type": "stream",
     "text": [
      "\r",
      "Upgrading database; v4 -> v5: 100%|██████████| 1/1 [00:00<00:00, 379.23it/s]"
     ]
    },
    {
     "name": "stdout",
     "output_type": "stream",
     "text": [
      "\n",
      "\r",
      "0it [00:00, ?it/s]"
     ]
    },
    {
     "name": "stdout",
     "output_type": "stream",
     "text": [
      "\r",
      "Upgrading database; v5 -> v6: : 0it [00:00, ?it/s]"
     ]
    },
    {
     "name": "stdout",
     "output_type": "stream",
     "text": [
      "\r",
      "Upgrading database; v5 -> v6: : 0it [00:00, ?it/s]"
     ]
    },
    {
     "name": "stdout",
     "output_type": "stream",
     "text": [
      "\n",
      "\r",
      "  0%|          | 0/1 [00:00<?, ?it/s]"
     ]
    },
    {
     "name": "stdout",
     "output_type": "stream",
     "text": [
      "\r",
      "Upgrading database; v6 -> v7:   0%|          | 0/1 [00:00<?, ?it/s]"
     ]
    },
    {
     "name": "stdout",
     "output_type": "stream",
     "text": [
      "\r",
      "Upgrading database; v6 -> v7: 100%|██████████| 1/1 [00:00<00:00, 325.77it/s]"
     ]
    },
    {
     "name": "stdout",
     "output_type": "stream",
     "text": [
      "\n",
      "\r",
      "  0%|          | 0/1 [00:00<?, ?it/s]"
     ]
    },
    {
     "name": "stdout",
     "output_type": "stream",
     "text": [
      "\r",
      "Upgrading database; v7 -> v8:   0%|          | 0/1 [00:00<?, ?it/s]"
     ]
    },
    {
     "name": "stdout",
     "output_type": "stream",
     "text": [
      "\r",
      "Upgrading database; v7 -> v8: 100%|██████████| 1/1 [00:00<00:00, 421.11it/s]"
     ]
    },
    {
     "name": "stdout",
     "output_type": "stream",
     "text": [
      "\n",
      "\r",
      "  0%|          | 0/1 [00:00<?, ?it/s]"
     ]
    },
    {
     "name": "stdout",
     "output_type": "stream",
     "text": [
      "\r",
      "Upgrading database; v8 -> v9:   0%|          | 0/1 [00:00<?, ?it/s]"
     ]
    },
    {
     "name": "stdout",
     "output_type": "stream",
     "text": [
      "\r",
      "Upgrading database; v8 -> v9: 100%|██████████| 1/1 [00:00<00:00, 407.81it/s]"
     ]
    },
    {
     "name": "stdout",
     "output_type": "stream",
     "text": [
      "\n"
     ]
    }
   ],
   "source": [
    "initialise_database()\n",
    "exp = load_or_create_experiment(experiment_name='tutorial_exp', sample_name=\"no sample\")"
   ]
  },
  {
   "cell_type": "markdown",
   "metadata": {},
   "source": [
    "Here, we define a simple function to benchmark the time it takes to insert n points with either numeric or array data type.\n",
    "We will compare both the time used to call ``add_result`` and the time used for the full measurement."
   ]
  },
  {
   "cell_type": "code",
   "execution_count": 4,
   "metadata": {
    "execution": {
     "iopub.execute_input": "2021-03-29T14:13:38.719499Z",
     "iopub.status.busy": "2021-03-29T14:13:38.715958Z",
     "iopub.status.idle": "2021-03-29T14:13:38.722152Z",
     "shell.execute_reply": "2021-03-29T14:13:38.722900Z"
    }
   },
   "outputs": [],
   "source": [
    "def insert_data(paramtype, npoints, nreps=1):\n",
    "\n",
    "    meas = Measurement(exp=exp)\n",
    "\n",
    "    x1 = ManualParameter('x1')\n",
    "    x2 = ManualParameter('x2')\n",
    "    x3 = ManualParameter('x3')\n",
    "    y1 = ManualParameter('y1')\n",
    "    y2 = ManualParameter('y2')\n",
    "\n",
    "    meas.register_parameter(x1, paramtype=paramtype)\n",
    "    meas.register_parameter(x2, paramtype=paramtype)\n",
    "    meas.register_parameter(x3, paramtype=paramtype)\n",
    "    meas.register_parameter(y1, setpoints=[x1, x2, x3],\n",
    "                            paramtype=paramtype)\n",
    "    meas.register_parameter(y2, setpoints=[x1, x2, x3],\n",
    "                            paramtype=paramtype)\n",
    "    start = time.perf_counter()\n",
    "    with meas.run() as datasaver:\n",
    "        start_adding = time.perf_counter()\n",
    "        for i in range(nreps):\n",
    "            datasaver.add_result((x1, np.random.rand(npoints)),\n",
    "                                 (x2, np.random.rand(npoints)),\n",
    "                                 (x3, np.random.rand(npoints)),\n",
    "                                 (y1, np.random.rand(npoints)),\n",
    "                                 (y2, np.random.rand(npoints)))\n",
    "        stop_adding = time.perf_counter()\n",
    "        run_id = datasaver.run_id\n",
    "    stop = time.perf_counter()\n",
    "    tot_time = stop - start\n",
    "    add_time = stop_adding - start_adding\n",
    "    return tot_time, add_time, run_id"
   ]
  },
  {
   "cell_type": "markdown",
   "metadata": {},
   "source": [
    "## Comparison between numeric/array data and binary blob"
   ]
  },
  {
   "cell_type": "markdown",
   "metadata": {},
   "source": [
    "### Case1: Short experiment time"
   ]
  },
  {
   "cell_type": "code",
   "execution_count": 5,
   "metadata": {
    "execution": {
     "iopub.execute_input": "2021-03-29T14:13:38.731423Z",
     "iopub.status.busy": "2021-03-29T14:13:38.730289Z",
     "iopub.status.idle": "2021-03-29T14:13:39.669438Z",
     "shell.execute_reply": "2021-03-29T14:13:39.669930Z"
    }
   },
   "outputs": [
    {
     "name": "stdout",
     "output_type": "stream",
     "text": [
      "Starting experimental run with id: 1. \n",
      "Starting experimental run with id: 2. \n",
      "Starting experimental run with id: 3. \n",
      "Starting experimental run with id: 4. \n"
     ]
    },
    {
     "name": "stdout",
     "output_type": "stream",
     "text": [
      "Starting experimental run with id: 5. \n"
     ]
    },
    {
     "name": "stdout",
     "output_type": "stream",
     "text": [
      "Starting experimental run with id: 6. \n",
      "Starting experimental run with id: 7. \n"
     ]
    },
    {
     "name": "stdout",
     "output_type": "stream",
     "text": [
      "Starting experimental run with id: 8. \n"
     ]
    },
    {
     "name": "stdout",
     "output_type": "stream",
     "text": [
      "Starting experimental run with id: 9. \n"
     ]
    },
    {
     "name": "stdout",
     "output_type": "stream",
     "text": [
      "Starting experimental run with id: 10. \n",
      "Starting experimental run with id: 11. \n"
     ]
    },
    {
     "name": "stdout",
     "output_type": "stream",
     "text": [
      "Starting experimental run with id: 12. \n",
      "Starting experimental run with id: 13. \n"
     ]
    },
    {
     "name": "stdout",
     "output_type": "stream",
     "text": [
      "Starting experimental run with id: 14. \n"
     ]
    }
   ],
   "source": [
    "sizes = [1,500,1000,2000,3000,4000,5000]\n",
    "t_numeric = []\n",
    "t_numeric_add = []\n",
    "t_array = []\n",
    "t_array_add = []\n",
    "for size in sizes:\n",
    "    tn, tna, run_id_n =  insert_data('numeric', size)\n",
    "    t_numeric.append(tn)\n",
    "    t_numeric_add.append(tna)\n",
    "\n",
    "    ta, taa, run_id_a =  insert_data('array', size)\n",
    "    t_array.append(ta)\n",
    "    t_array_add.append(taa)"
   ]
  },
  {
   "cell_type": "code",
   "execution_count": 6,
   "metadata": {
    "execution": {
     "iopub.execute_input": "2021-03-29T14:13:39.690386Z",
     "iopub.status.busy": "2021-03-29T14:13:39.689807Z",
     "iopub.status.idle": "2021-03-29T14:13:39.904322Z",
     "shell.execute_reply": "2021-03-29T14:13:39.904826Z"
    }
   },
   "outputs": [
    {
     "data": {
      "image/png": "[encoded data removed]",
      "text/plain": [
       "<Figure size 432x288 with 1 Axes>"
      ]
     },
     "metadata": {
      "needs_background": "light"
     },
     "output_type": "display_data"
    }
   ],
   "source": [
    "fig, ax = plt.subplots(1,1)\n",
    "ax.plot(sizes, t_numeric, 'o-', label='Inserting row-by-row')\n",
    "ax.plot(sizes, t_numeric_add, 'o-', label='Inserting row-by-row: add_result only')\n",
    "ax.plot(sizes, t_array, 'd-', label='Inserting as binary blob')\n",
    "ax.plot(sizes, t_array_add, 'd-', label='Inserting as binary blob: add_result only')\n",
    "ax.legend()\n",
    "ax.set_xlabel('Array length')\n",
    "ax.set_ylabel('Time (s)')\n",
    "fig.tight_layout()"
   ]
  },
  {
   "cell_type": "markdown",
   "metadata": {},
   "source": [
    "As shown in the latter figure, the time to setup and and close the experiment is approximately 0.4 sec. In case of small array sizes, the difference between inserting values of data as arrays and inserting them row-by-row is relatively unimportant. At larger array sizes, i.e. above 10000 points, the cost of writing data as individual datapoints starts to become important.\n"
   ]
  },
  {
   "cell_type": "markdown",
   "metadata": {},
   "source": [
    "### Case2: Long experiment time "
   ]
  },
  {
   "cell_type": "code",
   "execution_count": 7,
   "metadata": {
    "execution": {
     "iopub.execute_input": "2021-03-29T14:13:39.913909Z",
     "iopub.status.busy": "2021-03-29T14:13:39.913299Z",
     "iopub.status.idle": "2021-03-29T14:14:47.609955Z",
     "shell.execute_reply": "2021-03-29T14:14:47.608727Z"
    }
   },
   "outputs": [
    {
     "name": "stdout",
     "output_type": "stream",
     "text": [
      "Starting experimental run with id: 15. \n",
      "Starting experimental run with id: 16. \n",
      "Starting experimental run with id: 17. \n"
     ]
    },
    {
     "name": "stdout",
     "output_type": "stream",
     "text": [
      "Starting experimental run with id: 18. \n"
     ]
    },
    {
     "name": "stdout",
     "output_type": "stream",
     "text": [
      "Starting experimental run with id: 19. \n"
     ]
    },
    {
     "name": "stdout",
     "output_type": "stream",
     "text": [
      "Starting experimental run with id: 20. \n"
     ]
    },
    {
     "name": "stdout",
     "output_type": "stream",
     "text": [
      "Starting experimental run with id: 21. \n"
     ]
    },
    {
     "name": "stdout",
     "output_type": "stream",
     "text": [
      "Starting experimental run with id: 22. \n"
     ]
    },
    {
     "name": "stdout",
     "output_type": "stream",
     "text": [
      "Starting experimental run with id: 23. \n"
     ]
    },
    {
     "name": "stdout",
     "output_type": "stream",
     "text": [
      "Starting experimental run with id: 24. \n"
     ]
    },
    {
     "name": "stdout",
     "output_type": "stream",
     "text": [
      "Starting experimental run with id: 25. \n"
     ]
    },
    {
     "name": "stdout",
     "output_type": "stream",
     "text": [
      "Starting experimental run with id: 26. \n"
     ]
    },
    {
     "name": "stdout",
     "output_type": "stream",
     "text": [
      "Starting experimental run with id: 27. \n"
     ]
    },
    {
     "name": "stdout",
     "output_type": "stream",
     "text": [
      "Starting experimental run with id: 28. \n"
     ]
    }
   ],
   "source": [
    "sizes = [1,500,1000,2000,3000,4000,5000]\n",
    "nreps = 100\n",
    "t_numeric = []\n",
    "t_numeric_add = []\n",
    "t_numeric_run_ids = []\n",
    "t_array = []\n",
    "t_array_add = []\n",
    "t_array_run_ids = []\n",
    "for size in sizes:\n",
    "    tn, tna, run_id_n =  insert_data('numeric', size, nreps=nreps)\n",
    "    t_numeric.append(tn)\n",
    "    t_numeric_add.append(tna)\n",
    "    t_numeric_run_ids.append(run_id_n)\n",
    "\n",
    "    ta, taa, run_id_a =  insert_data('array', size, nreps=nreps)\n",
    "    t_array.append(ta)\n",
    "    t_array_add.append(taa)\n",
    "    t_array_run_ids.append(run_id_a)"
   ]
  },
  {
   "cell_type": "code",
   "execution_count": 8,
   "metadata": {
    "execution": {
     "iopub.execute_input": "2021-03-29T14:14:47.637139Z",
     "iopub.status.busy": "2021-03-29T14:14:47.635846Z",
     "iopub.status.idle": "2021-03-29T14:14:47.846160Z",
     "shell.execute_reply": "2021-03-29T14:14:47.845606Z"
    },
    "scrolled": true
   },
   "outputs": [
    {
     "data": {
      "image/png": "[encoded data removed]",
      "text/plain": [
       "<Figure size 432x288 with 1 Axes>"
      ]
     },
     "metadata": {
      "needs_background": "light"
     },
     "output_type": "display_data"
    }
   ],
   "source": [
    "fig, ax = plt.subplots(1,1)\n",
    "ax.plot(sizes, t_numeric, 'o-', label='Inserting row-by-row')\n",
    "ax.plot(sizes, t_numeric_add, 'o-', label='Inserting row-by-row: add_result only')\n",
    "ax.plot(sizes, t_array, 'd-', label='Inserting as binary blob')\n",
    "ax.plot(sizes, t_array_add, 'd-', label='Inserting as binary blob: add_result only')\n",
    "ax.legend()\n",
    "ax.set_xlabel('Array length')\n",
    "ax.set_ylabel('Time (s)')\n",
    "fig.tight_layout()"
   ]
  },
  {
   "cell_type": "markdown",
   "metadata": {},
   "source": [
    "However, as we increase the length of the experiment, as seen here by repeating the insertion 100 times, we see a big difference between inserting values of the data row-by-row and inserting it as a binary blob."
   ]
  },
  {
   "cell_type": "markdown",
   "metadata": {},
   "source": [
    "## Loading the data "
   ]
  },
  {
   "cell_type": "code",
   "execution_count": 9,
   "metadata": {
    "execution": {
     "iopub.execute_input": "2021-03-29T14:14:47.850992Z",
     "iopub.status.busy": "2021-03-29T14:14:47.849986Z",
     "iopub.status.idle": "2021-03-29T14:14:47.853597Z",
     "shell.execute_reply": "2021-03-29T14:14:47.853093Z"
    }
   },
   "outputs": [],
   "source": [
    "from qcodes.dataset.data_set import load_by_id\n",
    "from qcodes.dataset.data_export import get_data_by_id"
   ]
  },
  {
   "cell_type": "markdown",
   "metadata": {},
   "source": [
    "As usual you can load the data by using the ``load_by_id`` function but you will notice that the different storage methods\n",
    "are reflected in shape of the data as it is retrieved. "
   ]
  },
  {
   "cell_type": "code",
   "execution_count": 10,
   "metadata": {
    "execution": {
     "iopub.execute_input": "2021-03-29T14:14:47.857604Z",
     "iopub.status.busy": "2021-03-29T14:14:47.857006Z",
     "iopub.status.idle": "2021-03-29T14:14:47.859882Z",
     "shell.execute_reply": "2021-03-29T14:14:47.859145Z"
    }
   },
   "outputs": [],
   "source": [
    "run_id_n = t_numeric_run_ids[0]\n",
    "run_id_a = t_array_run_ids[0]"
   ]
  },
  {
   "cell_type": "code",
   "execution_count": 11,
   "metadata": {
    "execution": {
     "iopub.execute_input": "2021-03-29T14:14:47.863447Z",
     "iopub.status.busy": "2021-03-29T14:14:47.862907Z",
     "iopub.status.idle": "2021-03-29T14:14:47.873367Z",
     "shell.execute_reply": "2021-03-29T14:14:47.872878Z"
    },
    "scrolled": true
   },
   "outputs": [
    {
     "data": {
      "text/plain": [
       "{'x1': {'x1': array([0.76111713, 0.76111713, 0.99739754, 0.99739754, 0.01056585,\n",
       "         0.01056585, 0.22491441, 0.22491441, 0.64188165, 0.64188165,\n",
       "         0.46498715, 0.46498715, 0.87779178, 0.87779178, 0.51900329,\n",
       "         0.51900329, 0.41340701, 0.41340701, 0.52484518, 0.52484518,\n",
       "         0.36761617, 0.36761617, 0.10860574, 0.10860574, 0.91764219,\n",
       "         0.91764219, 0.49877253, 0.49877253, 0.70842198, 0.70842198,\n",
       "         0.76882658, 0.76882658, 0.26720122, 0.26720122, 0.60263906,\n",
       "         0.60263906, 0.89195908, 0.89195908, 0.53234361, 0.53234361,\n",
       "         0.39107643, 0.39107643, 0.65125575, 0.65125575, 0.15560611,\n",
       "         0.15560611, 0.26299509, 0.26299509, 0.63392027, 0.63392027,\n",
       "         0.19048415, 0.19048415, 0.19793586, 0.19793586, 0.34847551,\n",
       "         0.34847551, 0.64178451, 0.64178451, 0.87786694, 0.87786694,\n",
       "         0.80560058, 0.80560058, 0.16793906, 0.16793906, 0.35092846,\n",
       "         0.35092846, 0.29859152, 0.29859152, 0.52085836, 0.52085836,\n",
       "         0.19310224, 0.19310224, 0.61583665, 0.61583665, 0.90717121,\n",
       "         0.90717121, 0.26430942, 0.26430942, 0.7453486 , 0.7453486 ,\n",
       "         0.81920658, 0.81920658, 0.88516858, 0.88516858, 0.72907995,\n",
       "         0.72907995, 0.8441515 , 0.8441515 , 0.2751094 , 0.2751094 ,\n",
       "         0.17895824, 0.17895824, 0.78711449, 0.78711449, 0.93277781,\n",
       "         0.93277781, 0.82364173, 0.82364173, 0.92221935, 0.92221935,\n",
       "         0.95563418, 0.95563418, 0.11509144, 0.11509144, 0.49822109,\n",
       "         0.49822109, 0.57649872, 0.57649872, 0.40987479, 0.40987479,\n",
       "         0.37470142, 0.37470142, 0.13557486, 0.13557486, 0.08695118,\n",
       "         0.08695118, 0.37745769, 0.37745769, 0.09584361, 0.09584361,\n",
       "         0.01022842, 0.01022842, 0.43513066, 0.43513066, 0.21905475,\n",
       "         0.21905475, 0.55803726, 0.55803726, 0.2347834 , 0.2347834 ,\n",
       "         0.65761755, 0.65761755, 0.75861096, 0.75861096, 0.5135458 ,\n",
       "         0.5135458 , 0.60985027, 0.60985027, 0.65367764, 0.65367764,\n",
       "         0.53410887, 0.53410887, 0.58894022, 0.58894022, 0.51158713,\n",
       "         0.51158713, 0.7335167 , 0.7335167 , 0.59246539, 0.59246539,\n",
       "         0.87425414, 0.87425414, 0.27537597, 0.27537597, 0.4625102 ,\n",
       "         0.4625102 , 0.92866753, 0.92866753, 0.69142324, 0.69142324,\n",
       "         0.11737557, 0.11737557, 0.95799417, 0.95799417, 0.77182418,\n",
       "         0.77182418, 0.96546644, 0.96546644, 0.21597563, 0.21597563,\n",
       "         0.69608505, 0.69608505, 0.40603933, 0.40603933, 0.79509318,\n",
       "         0.79509318, 0.78748159, 0.78748159, 0.14925016, 0.14925016,\n",
       "         0.91908994, 0.91908994, 0.38885533, 0.38885533, 0.74501797,\n",
       "         0.74501797, 0.48704794, 0.48704794, 0.6515045 , 0.6515045 ,\n",
       "         0.49662881, 0.49662881, 0.33423552, 0.33423552, 0.14175679,\n",
       "         0.14175679, 0.77782158, 0.77782158, 0.59748946, 0.59748946])}}"
      ]
     },
     "execution_count": 1,
     "metadata": {},
     "output_type": "execute_result"
    }
   ],
   "source": [
    "ds = load_by_id(run_id_n)\n",
    "ds.get_parameter_data('x1')"
   ]
  },
  {
   "cell_type": "markdown",
   "metadata": {},
   "source": [
    "And a dataset stored as binary arrays"
   ]
  },
  {
   "cell_type": "code",
   "execution_count": 12,
   "metadata": {
    "execution": {
     "iopub.execute_input": "2021-03-29T14:14:47.877758Z",
     "iopub.status.busy": "2021-03-29T14:14:47.876885Z",
     "iopub.status.idle": "2021-03-29T14:14:47.934563Z",
     "shell.execute_reply": "2021-03-29T14:14:47.935422Z"
    },
    "scrolled": true
   },
   "outputs": [
    {
     "data": {
      "text/plain": [
       "{'x1': {'x1': array([[0.83816826],\n",
       "         [0.83816826],\n",
       "         [0.21848121],\n",
       "         [0.21848121],\n",
       "         [0.20045988],\n",
       "         [0.20045988],\n",
       "         [0.22572881],\n",
       "         [0.22572881],\n",
       "         [0.58227449],\n",
       "         [0.58227449],\n",
       "         [0.81437696],\n",
       "         [0.81437696],\n",
       "         [0.99666161],\n",
       "         [0.99666161],\n",
       "         [0.215343  ],\n",
       "         [0.215343  ],\n",
       "         [0.33933063],\n",
       "         [0.33933063],\n",
       "         [0.9715695 ],\n",
       "         [0.9715695 ],\n",
       "         [0.26358459],\n",
       "         [0.26358459],\n",
       "         [0.51848897],\n",
       "         [0.51848897],\n",
       "         [0.58087892],\n",
       "         [0.58087892],\n",
       "         [0.38941956],\n",
       "         [0.38941956],\n",
       "         [0.12610413],\n",
       "         [0.12610413],\n",
       "         [0.35082643],\n",
       "         [0.35082643],\n",
       "         [0.64064107],\n",
       "         [0.64064107],\n",
       "         [0.4155568 ],\n",
       "         [0.4155568 ],\n",
       "         [0.28127447],\n",
       "         [0.28127447],\n",
       "         [0.08864095],\n",
       "         [0.08864095],\n",
       "         [0.59537543],\n",
       "         [0.59537543],\n",
       "         [0.96889914],\n",
       "         [0.96889914],\n",
       "         [0.86201704],\n",
       "         [0.86201704],\n",
       "         [0.88113307],\n",
       "         [0.88113307],\n",
       "         [0.69932425],\n",
       "         [0.69932425],\n",
       "         [0.56979995],\n",
       "         [0.56979995],\n",
       "         [0.56094971],\n",
       "         [0.56094971],\n",
       "         [0.16973399],\n",
       "         [0.16973399],\n",
       "         [0.27451764],\n",
       "         [0.27451764],\n",
       "         [0.27843051],\n",
       "         [0.27843051],\n",
       "         [0.34419742],\n",
       "         [0.34419742],\n",
       "         [0.76432131],\n",
       "         [0.76432131],\n",
       "         [0.6879859 ],\n",
       "         [0.6879859 ],\n",
       "         [0.741977  ],\n",
       "         [0.741977  ],\n",
       "         [0.84857237],\n",
       "         [0.84857237],\n",
       "         [0.84474488],\n",
       "         [0.84474488],\n",
       "         [0.24723378],\n",
       "         [0.24723378],\n",
       "         [0.54003654],\n",
       "         [0.54003654],\n",
       "         [0.25097752],\n",
       "         [0.25097752],\n",
       "         [0.48142119],\n",
       "         [0.48142119],\n",
       "         [0.06248814],\n",
       "         [0.06248814],\n",
       "         [0.54653691],\n",
       "         [0.54653691],\n",
       "         [0.02853506],\n",
       "         [0.02853506],\n",
       "         [0.77193378],\n",
       "         [0.77193378],\n",
       "         [0.99197464],\n",
       "         [0.99197464],\n",
       "         [0.96310036],\n",
       "         [0.96310036],\n",
       "         [0.10733839],\n",
       "         [0.10733839],\n",
       "         [0.53427783],\n",
       "         [0.53427783],\n",
       "         [0.5051431 ],\n",
       "         [0.5051431 ],\n",
       "         [0.80833469],\n",
       "         [0.80833469],\n",
       "         [0.93198077],\n",
       "         [0.93198077],\n",
       "         [0.69672605],\n",
       "         [0.69672605],\n",
       "         [0.09070056],\n",
       "         [0.09070056],\n",
       "         [0.98576387],\n",
       "         [0.98576387],\n",
       "         [0.71669295],\n",
       "         [0.71669295],\n",
       "         [0.18680931],\n",
       "         [0.18680931],\n",
       "         [0.65814241],\n",
       "         [0.65814241],\n",
       "         [0.0941568 ],\n",
       "         [0.0941568 ],\n",
       "         [0.907576  ],\n",
       "         [0.907576  ],\n",
       "         [0.58420394],\n",
       "         [0.58420394],\n",
       "         [0.00116808],\n",
       "         [0.00116808],\n",
       "         [0.8705139 ],\n",
       "         [0.8705139 ],\n",
       "         [0.8725242 ],\n",
       "         [0.8725242 ],\n",
       "         [0.45545054],\n",
       "         [0.45545054],\n",
       "         [0.08309231],\n",
       "         [0.08309231],\n",
       "         [0.16484888],\n",
       "         [0.16484888],\n",
       "         [0.00892924],\n",
       "         [0.00892924],\n",
       "         [0.44298168],\n",
       "         [0.44298168],\n",
       "         [0.16016728],\n",
       "         [0.16016728],\n",
       "         [0.82749295],\n",
       "         [0.82749295],\n",
       "         [0.15840708],\n",
       "         [0.15840708],\n",
       "         [0.3592815 ],\n",
       "         [0.3592815 ],\n",
       "         [0.66009356],\n",
       "         [0.66009356],\n",
       "         [0.63193609],\n",
       "         [0.63193609],\n",
       "         [0.95730405],\n",
       "         [0.95730405],\n",
       "         [0.55038427],\n",
       "         [0.55038427],\n",
       "         [0.03570818],\n",
       "         [0.03570818],\n",
       "         [0.2304236 ],\n",
       "         [0.2304236 ],\n",
       "         [0.41968749],\n",
       "         [0.41968749],\n",
       "         [0.79815078],\n",
       "         [0.79815078],\n",
       "         [0.12794371],\n",
       "         [0.12794371],\n",
       "         [0.69809592],\n",
       "         [0.69809592],\n",
       "         [0.0267242 ],\n",
       "         [0.0267242 ],\n",
       "         [0.89925482],\n",
       "         [0.89925482],\n",
       "         [0.93307159],\n",
       "         [0.93307159],\n",
       "         [0.71830446],\n",
       "         [0.71830446],\n",
       "         [0.75970015],\n",
       "         [0.75970015],\n",
       "         [0.34204671],\n",
       "         [0.34204671],\n",
       "         [0.10257767],\n",
       "         [0.10257767],\n",
       "         [0.71328505],\n",
       "         [0.71328505],\n",
       "         [0.12410085],\n",
       "         [0.12410085],\n",
       "         [0.65002007],\n",
       "         [0.65002007],\n",
       "         [0.4781699 ],\n",
       "         [0.4781699 ],\n",
       "         [0.40703072],\n",
       "         [0.40703072],\n",
       "         [0.79960059],\n",
       "         [0.79960059],\n",
       "         [0.35758317],\n",
       "         [0.35758317],\n",
       "         [0.9710108 ],\n",
       "         [0.9710108 ],\n",
       "         [0.44717294],\n",
       "         [0.44717294],\n",
       "         [0.53495968],\n",
       "         [0.53495968],\n",
       "         [0.7560676 ],\n",
       "         [0.7560676 ]])}}"
      ]
     },
     "execution_count": 1,
     "metadata": {},
     "output_type": "execute_result"
    }
   ],
   "source": [
    "ds = load_by_id(run_id_a)\n",
    "ds.get_parameter_data('x1')"
   ]
  },
  {
   "cell_type": "code",
   "execution_count": null,
   "metadata": {},
   "outputs": [],
   "source": []
  }
 ],
 "metadata": {
  "kernelspec": {
   "display_name": "Python 3",
   "language": "python",
   "name": "python3"
  },
  "language_info": {
   "codemirror_mode": {
    "name": "ipython",
    "version": 3
   },
   "file_extension": ".py",
   "mimetype": "text/x-python",
   "name": "python",
   "nbconvert_exporter": "python",
   "pygments_lexer": "ipython3",
   "version": "3.7.10"
  },
  "nbsphinx": {
   "timeout": 600
  },
  "toc": {
   "base_numbering": 1,
   "nav_menu": {},
   "number_sections": true,
   "sideBar": true,
   "skip_h1_title": false,
   "title_cell": "Table of Contents",
   "title_sidebar": "Contents",
   "toc_cell": false,
   "toc_position": {},
   "toc_section_display": true,
   "toc_window_display": false
  },
  "varInspector": {
   "cols": {
    "lenName": 16,
    "lenType": 16,
    "lenVar": 40
   },
   "kernels_config": {
    "python": {
     "delete_cmd_postfix": "",
     "delete_cmd_prefix": "del ",
     "library": "var_list.py",
     "varRefreshCmd": "print(var_dic_list())"
    },
    "r": {
     "delete_cmd_postfix": ") ",
     "delete_cmd_prefix": "rm(",
     "library": "var_list.r",
     "varRefreshCmd": "cat(var_dic_list()) "
    }
   },
   "types_to_exclude": [
    "module",
    "function",
    "builtin_function_or_method",
    "instance",
    "_Feature"
   ],
   "window_display": false
  }
 },
 "nbformat": 4,
 "nbformat_minor": 2
}
