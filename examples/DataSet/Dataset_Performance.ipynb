{
 "cells": [
  {
   "cell_type": "markdown",
   "metadata": {},
   "source": [
    "# DataSet Performance\n",
    "\n",
    "This notebook shows the trade-off between inserting data into a database row-by-row and as binary blobs. Inserting the data row-by-row means that we have direct access to all the data and may perform queries directly on the values of the data. On the other hand, as we shall see, this is much slower than inserting the data directly as binary blobs."
   ]
  },
  {
   "cell_type": "markdown",
   "metadata": {},
   "source": [
    "First, we choose a new location for the database to ensure that we don't add a bunch of benchmarking data to the default one."
   ]
  },
  {
   "cell_type": "code",
   "execution_count": 1,
   "metadata": {
    "execution": {
     "iopub.execute_input": "2021-01-26T14:08:33.213081Z",
     "iopub.status.busy": "2021-01-26T14:08:33.212499Z",
     "iopub.status.idle": "2021-01-26T14:08:34.251743Z",
     "shell.execute_reply": "2021-01-26T14:08:34.250845Z"
    }
   },
   "outputs": [
    {
     "name": "stdout",
     "output_type": "stream",
     "text": [
      "Logging hadn't been started.\n",
      "Activating auto-logging. Current session state plus future input saved.\n",
      "Filename       : /home/vsts/.qcodes/logs/command_history.log\n",
      "Mode           : append\n",
      "Output logging : True\n",
      "Raw input log  : False\n",
      "Timestamping   : True\n",
      "State          : active\n"
     ]
    },
    {
     "name": "stdout",
     "output_type": "stream",
     "text": [
      "Qcodes Logfile : /home/vsts/.qcodes/logs/210126-13212-qcodes.log\n"
     ]
    }
   ],
   "source": [
    "import os\n",
    "cwd = os.getcwd()\n",
    "import qcodes as qc\n",
    "qc.config[\"core\"][\"db_location\"] = os.path.join(cwd, 'testing.db')\n"
   ]
  },
  {
   "cell_type": "code",
   "execution_count": 2,
   "metadata": {
    "execution": {
     "iopub.execute_input": "2021-01-26T14:08:34.258695Z",
     "iopub.status.busy": "2021-01-26T14:08:34.257379Z",
     "iopub.status.idle": "2021-01-26T14:08:34.449721Z",
     "shell.execute_reply": "2021-01-26T14:08:34.449104Z"
    }
   },
   "outputs": [],
   "source": [
    "%matplotlib inline\n",
    "import time\n",
    "import matplotlib.pyplot as plt\n",
    "import numpy as np\n",
    "\n",
    "import qcodes as qc\n",
    "from qcodes.instrument.parameter import ManualParameter\n",
    "from qcodes.dataset.experiment_container import (Experiment,\n",
    "                                                 load_last_experiment,\n",
    "                                                 new_experiment)\n",
    "from qcodes.dataset.sqlite.database import initialise_database\n",
    "from qcodes import load_or_create_experiment\n",
    "from qcodes.dataset.measurements import Measurement"
   ]
  },
  {
   "cell_type": "code",
   "execution_count": 3,
   "metadata": {
    "execution": {
     "iopub.execute_input": "2021-01-26T14:08:34.453940Z",
     "iopub.status.busy": "2021-01-26T14:08:34.452941Z",
     "iopub.status.idle": "2021-01-26T14:08:34.580272Z",
     "shell.execute_reply": "2021-01-26T14:08:34.579275Z"
    }
   },
   "outputs": [
    {
     "name": "stdout",
     "output_type": "stream",
     "text": [
      "\r",
      "0it [00:00, ?it/s]"
     ]
    },
    {
     "name": "stdout",
     "output_type": "stream",
     "text": [
      "\r",
      "Upgrading database; v0 -> v1: : 0it [00:00, ?it/s]"
     ]
    },
    {
     "name": "stdout",
     "output_type": "stream",
     "text": [
      "\r",
      "Upgrading database; v0 -> v1: : 0it [00:00, ?it/s]"
     ]
    },
    {
     "name": "stdout",
     "output_type": "stream",
     "text": [
      "\n",
      "\r",
      "  0%|          | 0/1 [00:00<?, ?it/s]"
     ]
    },
    {
     "name": "stdout",
     "output_type": "stream",
     "text": [
      "\r",
      "Upgrading database; v1 -> v2:   0%|          | 0/1 [00:00<?, ?it/s]"
     ]
    },
    {
     "name": "stdout",
     "output_type": "stream",
     "text": [
      "\r",
      "Upgrading database; v1 -> v2: 100%|██████████| 1/1 [00:00<00:00, 389.48it/s]"
     ]
    },
    {
     "name": "stdout",
     "output_type": "stream",
     "text": [
      "\n",
      "\r",
      "0it [00:00, ?it/s]"
     ]
    },
    {
     "name": "stdout",
     "output_type": "stream",
     "text": [
      "\r",
      "Upgrading database; v2 -> v3: : 0it [00:00, ?it/s]"
     ]
    },
    {
     "name": "stdout",
     "output_type": "stream",
     "text": [
      "\r",
      "Upgrading database; v2 -> v3: : 0it [00:00, ?it/s]"
     ]
    },
    {
     "name": "stdout",
     "output_type": "stream",
     "text": [
      "\n",
      "\r",
      "0it [00:00, ?it/s]"
     ]
    },
    {
     "name": "stdout",
     "output_type": "stream",
     "text": [
      "\r",
      "Upgrading database; v3 -> v4: : 0it [00:00, ?it/s]"
     ]
    },
    {
     "name": "stdout",
     "output_type": "stream",
     "text": [
      "\r",
      "Upgrading database; v3 -> v4: : 0it [00:00, ?it/s]"
     ]
    },
    {
     "name": "stdout",
     "output_type": "stream",
     "text": [
      "\n",
      "\r",
      "  0%|          | 0/1 [00:00<?, ?it/s]"
     ]
    },
    {
     "name": "stdout",
     "output_type": "stream",
     "text": [
      "\r",
      "Upgrading database; v4 -> v5:   0%|          | 0/1 [00:00<?, ?it/s]"
     ]
    },
    {
     "name": "stdout",
     "output_type": "stream",
     "text": [
      "\r",
      "Upgrading database; v4 -> v5: 100%|██████████| 1/1 [00:00<00:00, 377.42it/s]"
     ]
    },
    {
     "name": "stdout",
     "output_type": "stream",
     "text": [
      "\n",
      "\r",
      "0it [00:00, ?it/s]"
     ]
    },
    {
     "name": "stdout",
     "output_type": "stream",
     "text": [
      "\r",
      "Upgrading database; v5 -> v6: : 0it [00:00, ?it/s]"
     ]
    },
    {
     "name": "stdout",
     "output_type": "stream",
     "text": [
      "\r",
      "Upgrading database; v5 -> v6: : 0it [00:00, ?it/s]"
     ]
    },
    {
     "name": "stdout",
     "output_type": "stream",
     "text": [
      "\n",
      "\r",
      "  0%|          | 0/1 [00:00<?, ?it/s]"
     ]
    },
    {
     "name": "stdout",
     "output_type": "stream",
     "text": [
      "\r",
      "Upgrading database; v6 -> v7:   0%|          | 0/1 [00:00<?, ?it/s]"
     ]
    },
    {
     "name": "stdout",
     "output_type": "stream",
     "text": [
      "\r",
      "Upgrading database; v6 -> v7: 100%|██████████| 1/1 [00:00<00:00, 216.07it/s]"
     ]
    },
    {
     "name": "stdout",
     "output_type": "stream",
     "text": [
      "\n",
      "\r",
      "  0%|          | 0/1 [00:00<?, ?it/s]"
     ]
    },
    {
     "name": "stdout",
     "output_type": "stream",
     "text": [
      "\r",
      "Upgrading database; v7 -> v8:   0%|          | 0/1 [00:00<?, ?it/s]"
     ]
    },
    {
     "name": "stdout",
     "output_type": "stream",
     "text": [
      "\r",
      "Upgrading database; v7 -> v8: 100%|██████████| 1/1 [00:00<00:00, 393.17it/s]"
     ]
    },
    {
     "name": "stdout",
     "output_type": "stream",
     "text": [
      "\n",
      "\r",
      "  0%|          | 0/1 [00:00<?, ?it/s]"
     ]
    },
    {
     "name": "stdout",
     "output_type": "stream",
     "text": [
      "\r",
      "Upgrading database; v8 -> v9:   0%|          | 0/1 [00:00<?, ?it/s]"
     ]
    },
    {
     "name": "stdout",
     "output_type": "stream",
     "text": [
      "\r",
      "Upgrading database; v8 -> v9: 100%|██████████| 1/1 [00:00<00:00, 343.20it/s]"
     ]
    },
    {
     "name": "stdout",
     "output_type": "stream",
     "text": [
      "\n"
     ]
    }
   ],
   "source": [
    "initialise_database()\n",
    "exp = load_or_create_experiment(experiment_name='tutorial_exp', sample_name=\"no sample\")"
   ]
  },
  {
   "cell_type": "markdown",
   "metadata": {},
   "source": [
    "Here, we define a simple function to benchmark the time it takes to insert n points with either numeric or array data type.\n",
    "We will compare both the time used to call ``add_result`` and the time used for the full measurement."
   ]
  },
  {
   "cell_type": "code",
   "execution_count": 4,
   "metadata": {
    "execution": {
     "iopub.execute_input": "2021-01-26T14:08:34.589656Z",
     "iopub.status.busy": "2021-01-26T14:08:34.589102Z",
     "iopub.status.idle": "2021-01-26T14:08:34.593121Z",
     "shell.execute_reply": "2021-01-26T14:08:34.592396Z"
    }
   },
   "outputs": [],
   "source": [
    "def insert_data(paramtype, npoints, nreps=1):\n",
    "\n",
    "    meas = Measurement(exp=exp)\n",
    "\n",
    "    x1 = ManualParameter('x1')\n",
    "    x2 = ManualParameter('x2')\n",
    "    x3 = ManualParameter('x3')\n",
    "    y1 = ManualParameter('y1')\n",
    "    y2 = ManualParameter('y2')\n",
    "\n",
    "    meas.register_parameter(x1, paramtype=paramtype)\n",
    "    meas.register_parameter(x2, paramtype=paramtype)\n",
    "    meas.register_parameter(x3, paramtype=paramtype)\n",
    "    meas.register_parameter(y1, setpoints=[x1, x2, x3],\n",
    "                            paramtype=paramtype)\n",
    "    meas.register_parameter(y2, setpoints=[x1, x2, x3],\n",
    "                            paramtype=paramtype)\n",
    "    start = time.perf_counter()\n",
    "    with meas.run() as datasaver:\n",
    "        start_adding = time.perf_counter()\n",
    "        for i in range(nreps):\n",
    "            datasaver.add_result((x1, np.random.rand(npoints)),\n",
    "                                 (x2, np.random.rand(npoints)),\n",
    "                                 (x3, np.random.rand(npoints)),\n",
    "                                 (y1, np.random.rand(npoints)),\n",
    "                                 (y2, np.random.rand(npoints)))\n",
    "        stop_adding = time.perf_counter()\n",
    "        run_id = datasaver.run_id\n",
    "    stop = time.perf_counter()\n",
    "    tot_time = stop - start\n",
    "    add_time = stop_adding - start_adding\n",
    "    return tot_time, add_time, run_id"
   ]
  },
  {
   "cell_type": "markdown",
   "metadata": {},
   "source": [
    "## Comparison between numeric/array data and binary blob"
   ]
  },
  {
   "cell_type": "markdown",
   "metadata": {},
   "source": [
    "### Case1: Short experiment time"
   ]
  },
  {
   "cell_type": "code",
   "execution_count": 5,
   "metadata": {
    "execution": {
     "iopub.execute_input": "2021-01-26T14:08:34.599987Z",
     "iopub.status.busy": "2021-01-26T14:08:34.598868Z",
     "iopub.status.idle": "2021-01-26T14:08:35.490768Z",
     "shell.execute_reply": "2021-01-26T14:08:35.491324Z"
    }
   },
   "outputs": [
    {
     "name": "stdout",
     "output_type": "stream",
     "text": [
      "Starting experimental run with id: 1. \n",
      "Starting experimental run with id: 2. \n",
      "Starting experimental run with id: 3. \n",
      "Starting experimental run with id: 4. \n"
     ]
    },
    {
     "name": "stdout",
     "output_type": "stream",
     "text": [
      "Starting experimental run with id: 5. \n"
     ]
    },
    {
     "name": "stdout",
     "output_type": "stream",
     "text": [
      "Starting experimental run with id: 6. \n"
     ]
    },
    {
     "name": "stdout",
     "output_type": "stream",
     "text": [
      "Starting experimental run with id: 7. \n"
     ]
    },
    {
     "name": "stdout",
     "output_type": "stream",
     "text": [
      "Starting experimental run with id: 8. \n",
      "Starting experimental run with id: 9. \n"
     ]
    },
    {
     "name": "stdout",
     "output_type": "stream",
     "text": [
      "Starting experimental run with id: 10. \n",
      "Starting experimental run with id: 11. \n"
     ]
    },
    {
     "name": "stdout",
     "output_type": "stream",
     "text": [
      "Starting experimental run with id: 12. \n"
     ]
    },
    {
     "name": "stdout",
     "output_type": "stream",
     "text": [
      "Starting experimental run with id: 13. \n"
     ]
    },
    {
     "name": "stdout",
     "output_type": "stream",
     "text": [
      "Starting experimental run with id: 14. \n"
     ]
    }
   ],
   "source": [
    "sizes = [1,500,1000,2000,3000,4000,5000]\n",
    "t_numeric = []\n",
    "t_numeric_add = []\n",
    "t_array = []\n",
    "t_array_add = []\n",
    "for size in sizes:\n",
    "    tn, tna, run_id_n =  insert_data('numeric', size)\n",
    "    t_numeric.append(tn)\n",
    "    t_numeric_add.append(tna)\n",
    "\n",
    "    ta, taa, run_id_a =  insert_data('array', size)\n",
    "    t_array.append(ta)\n",
    "    t_array_add.append(taa)"
   ]
  },
  {
   "cell_type": "code",
   "execution_count": 6,
   "metadata": {
    "execution": {
     "iopub.execute_input": "2021-01-26T14:08:35.512260Z",
     "iopub.status.busy": "2021-01-26T14:08:35.510348Z",
     "iopub.status.idle": "2021-01-26T14:08:35.736031Z",
     "shell.execute_reply": "2021-01-26T14:08:35.736731Z"
    }
   },
   "outputs": [
    {
     "data": {
      "image/png": "[encoded data removed]",
      "text/plain": [
       "<Figure size 432x288 with 1 Axes>"
      ]
     },
     "metadata": {
      "needs_background": "light"
     },
     "output_type": "display_data"
    }
   ],
   "source": [
    "fig, ax = plt.subplots(1,1)\n",
    "ax.plot(sizes, t_numeric, 'o-', label='Inserting row-by-row')\n",
    "ax.plot(sizes, t_numeric_add, 'o-', label='Inserting row-by-row: add_result only')\n",
    "ax.plot(sizes, t_array, 'd-', label='Inserting as binary blob')\n",
    "ax.plot(sizes, t_array_add, 'd-', label='Inserting as binary blob: add_result only')\n",
    "ax.legend()\n",
    "ax.set_xlabel('Array length')\n",
    "ax.set_ylabel('Time (s)')\n",
    "fig.tight_layout()"
   ]
  },
  {
   "cell_type": "markdown",
   "metadata": {},
   "source": [
    "As shown in the latter figure, the time to setup and and close the experiment is approximately 0.4 sec. In case of small array sizes, the difference between inserting values of data as arrays and inserting them row-by-row is relatively unimportant. At larger array sizes, i.e. above 10000 points, the cost of writing data as individual datapoints starts to become important.\n"
   ]
  },
  {
   "cell_type": "markdown",
   "metadata": {},
   "source": [
    "### Case2: Long experiment time "
   ]
  },
  {
   "cell_type": "code",
   "execution_count": 7,
   "metadata": {
    "execution": {
     "iopub.execute_input": "2021-01-26T14:08:35.744357Z",
     "iopub.status.busy": "2021-01-26T14:08:35.743164Z",
     "iopub.status.idle": "2021-01-26T14:09:32.083262Z",
     "shell.execute_reply": "2021-01-26T14:09:32.083692Z"
    }
   },
   "outputs": [
    {
     "name": "stdout",
     "output_type": "stream",
     "text": [
      "Starting experimental run with id: 15. \n",
      "Starting experimental run with id: 16. \n",
      "Starting experimental run with id: 17. \n"
     ]
    },
    {
     "name": "stdout",
     "output_type": "stream",
     "text": [
      "Starting experimental run with id: 18. \n",
      "Starting experimental run with id: 19. \n"
     ]
    },
    {
     "name": "stdout",
     "output_type": "stream",
     "text": [
      "Starting experimental run with id: 20. \n"
     ]
    },
    {
     "name": "stdout",
     "output_type": "stream",
     "text": [
      "Starting experimental run with id: 21. \n"
     ]
    },
    {
     "name": "stdout",
     "output_type": "stream",
     "text": [
      "Starting experimental run with id: 22. \n"
     ]
    },
    {
     "name": "stdout",
     "output_type": "stream",
     "text": [
      "Starting experimental run with id: 23. \n"
     ]
    },
    {
     "name": "stdout",
     "output_type": "stream",
     "text": [
      "Starting experimental run with id: 24. \n"
     ]
    },
    {
     "name": "stdout",
     "output_type": "stream",
     "text": [
      "Starting experimental run with id: 25. \n"
     ]
    },
    {
     "name": "stdout",
     "output_type": "stream",
     "text": [
      "Starting experimental run with id: 26. \n"
     ]
    },
    {
     "name": "stdout",
     "output_type": "stream",
     "text": [
      "Starting experimental run with id: 27. \n"
     ]
    },
    {
     "name": "stdout",
     "output_type": "stream",
     "text": [
      "Starting experimental run with id: 28. \n"
     ]
    }
   ],
   "source": [
    "sizes = [1,500,1000,2000,3000,4000,5000]\n",
    "nreps = 100\n",
    "t_numeric = []\n",
    "t_numeric_add = []\n",
    "t_numeric_run_ids = []\n",
    "t_array = []\n",
    "t_array_add = []\n",
    "t_array_run_ids = []\n",
    "for size in sizes:\n",
    "    tn, tna, run_id_n =  insert_data('numeric', size, nreps=nreps)\n",
    "    t_numeric.append(tn)\n",
    "    t_numeric_add.append(tna)\n",
    "    t_numeric_run_ids.append(run_id_n)\n",
    "\n",
    "    ta, taa, run_id_a =  insert_data('array', size, nreps=nreps)\n",
    "    t_array.append(ta)\n",
    "    t_array_add.append(taa)\n",
    "    t_array_run_ids.append(run_id_a)"
   ]
  },
  {
   "cell_type": "code",
   "execution_count": 8,
   "metadata": {
    "execution": {
     "iopub.execute_input": "2021-01-26T14:09:32.102823Z",
     "iopub.status.busy": "2021-01-26T14:09:32.100900Z",
     "iopub.status.idle": "2021-01-26T14:09:32.315847Z",
     "shell.execute_reply": "2021-01-26T14:09:32.315357Z"
    },
    "scrolled": true
   },
   "outputs": [
    {
     "data": {
      "image/png": "[encoded data removed]",
      "text/plain": [
       "<Figure size 432x288 with 1 Axes>"
      ]
     },
     "metadata": {
      "needs_background": "light"
     },
     "output_type": "display_data"
    }
   ],
   "source": [
    "fig, ax = plt.subplots(1,1)\n",
    "ax.plot(sizes, t_numeric, 'o-', label='Inserting row-by-row')\n",
    "ax.plot(sizes, t_numeric_add, 'o-', label='Inserting row-by-row: add_result only')\n",
    "ax.plot(sizes, t_array, 'd-', label='Inserting as binary blob')\n",
    "ax.plot(sizes, t_array_add, 'd-', label='Inserting as binary blob: add_result only')\n",
    "ax.legend()\n",
    "ax.set_xlabel('Array length')\n",
    "ax.set_ylabel('Time (s)')\n",
    "fig.tight_layout()"
   ]
  },
  {
   "cell_type": "markdown",
   "metadata": {},
   "source": [
    "However, as we increase the length of the experiment, as seen here by repeating the insertion 100 times, we see a big difference between inserting values of the data row-by-row and inserting it as a binary blob."
   ]
  },
  {
   "cell_type": "markdown",
   "metadata": {},
   "source": [
    "## Loading the data "
   ]
  },
  {
   "cell_type": "code",
   "execution_count": 9,
   "metadata": {
    "execution": {
     "iopub.execute_input": "2021-01-26T14:09:32.319854Z",
     "iopub.status.busy": "2021-01-26T14:09:32.318946Z",
     "iopub.status.idle": "2021-01-26T14:09:32.321620Z",
     "shell.execute_reply": "2021-01-26T14:09:32.322089Z"
    }
   },
   "outputs": [],
   "source": [
    "from qcodes.dataset.data_set import load_by_id\n",
    "from qcodes.dataset.data_export import get_data_by_id"
   ]
  },
  {
   "cell_type": "markdown",
   "metadata": {},
   "source": [
    "As usual you can load the data by using the ``load_by_id`` function but you will notice that the different storage methods\n",
    "are reflected in shape of the data as it is retrieved. "
   ]
  },
  {
   "cell_type": "code",
   "execution_count": 10,
   "metadata": {
    "execution": {
     "iopub.execute_input": "2021-01-26T14:09:32.326617Z",
     "iopub.status.busy": "2021-01-26T14:09:32.325261Z",
     "iopub.status.idle": "2021-01-26T14:09:32.327311Z",
     "shell.execute_reply": "2021-01-26T14:09:32.327862Z"
    }
   },
   "outputs": [],
   "source": [
    "run_id_n = t_numeric_run_ids[0]\n",
    "run_id_a = t_array_run_ids[0]"
   ]
  },
  {
   "cell_type": "code",
   "execution_count": 11,
   "metadata": {
    "execution": {
     "iopub.execute_input": "2021-01-26T14:09:32.330985Z",
     "iopub.status.busy": "2021-01-26T14:09:32.330425Z",
     "iopub.status.idle": "2021-01-26T14:09:32.339460Z",
     "shell.execute_reply": "2021-01-26T14:09:32.339920Z"
    },
    "scrolled": true
   },
   "outputs": [
    {
     "data": {
      "text/plain": [
       "{'x1': {'x1': array([0.06323688, 0.06323688, 0.5036518 , 0.5036518 , 0.95067266,\n",
       "         0.95067266, 0.20831166, 0.20831166, 0.16083824, 0.16083824,\n",
       "         0.69363114, 0.69363114, 0.46747594, 0.46747594, 0.80775452,\n",
       "         0.80775452, 0.72641901, 0.72641901, 0.56855438, 0.56855438,\n",
       "         0.8419297 , 0.8419297 , 0.89055901, 0.89055901, 0.0644059 ,\n",
       "         0.0644059 , 0.40374093, 0.40374093, 0.68169881, 0.68169881,\n",
       "         0.98427529, 0.98427529, 0.26955076, 0.26955076, 0.29786059,\n",
       "         0.29786059, 0.55585837, 0.55585837, 0.5081586 , 0.5081586 ,\n",
       "         0.23873348, 0.23873348, 0.62082909, 0.62082909, 0.47801406,\n",
       "         0.47801406, 0.28835332, 0.28835332, 0.46622984, 0.46622984,\n",
       "         0.84830683, 0.84830683, 0.94101845, 0.94101845, 0.71035335,\n",
       "         0.71035335, 0.66562424, 0.66562424, 0.7414565 , 0.7414565 ,\n",
       "         0.96203207, 0.96203207, 0.70426969, 0.70426969, 0.06612223,\n",
       "         0.06612223, 0.77252024, 0.77252024, 0.34743583, 0.34743583,\n",
       "         0.88222887, 0.88222887, 0.4859247 , 0.4859247 , 0.65257727,\n",
       "         0.65257727, 0.20545102, 0.20545102, 0.36334876, 0.36334876,\n",
       "         0.69406035, 0.69406035, 0.97567651, 0.97567651, 0.89231301,\n",
       "         0.89231301, 0.35281194, 0.35281194, 0.74589581, 0.74589581,\n",
       "         0.30350691, 0.30350691, 0.92638742, 0.92638742, 0.56977364,\n",
       "         0.56977364, 0.31430176, 0.31430176, 0.46249405, 0.46249405,\n",
       "         0.10591523, 0.10591523, 0.08710423, 0.08710423, 0.74178739,\n",
       "         0.74178739, 0.80725928, 0.80725928, 0.24393427, 0.24393427,\n",
       "         0.37294301, 0.37294301, 0.11632105, 0.11632105, 0.44713794,\n",
       "         0.44713794, 0.04868756, 0.04868756, 0.08290058, 0.08290058,\n",
       "         0.29264257, 0.29264257, 0.95380442, 0.95380442, 0.52175084,\n",
       "         0.52175084, 0.2741014 , 0.2741014 , 0.68845178, 0.68845178,\n",
       "         0.19564482, 0.19564482, 0.11812273, 0.11812273, 0.38030706,\n",
       "         0.38030706, 0.85122832, 0.85122832, 0.50116391, 0.50116391,\n",
       "         0.01939955, 0.01939955, 0.14633775, 0.14633775, 0.39013076,\n",
       "         0.39013076, 0.2394011 , 0.2394011 , 0.67333971, 0.67333971,\n",
       "         0.85281738, 0.85281738, 0.4645204 , 0.4645204 , 0.73001138,\n",
       "         0.73001138, 0.2109136 , 0.2109136 , 0.37505045, 0.37505045,\n",
       "         0.90100994, 0.90100994, 0.71676963, 0.71676963, 0.14123411,\n",
       "         0.14123411, 0.23886648, 0.23886648, 0.70315782, 0.70315782,\n",
       "         0.28537808, 0.28537808, 0.34315313, 0.34315313, 0.55072462,\n",
       "         0.55072462, 0.20646366, 0.20646366, 0.37803269, 0.37803269,\n",
       "         0.30020158, 0.30020158, 0.81115993, 0.81115993, 0.23468155,\n",
       "         0.23468155, 0.59305035, 0.59305035, 0.7117282 , 0.7117282 ,\n",
       "         0.38090422, 0.38090422, 0.77509791, 0.77509791, 0.2832462 ,\n",
       "         0.2832462 , 0.67662397, 0.67662397, 0.43517092, 0.43517092])}}"
      ]
     },
     "execution_count": 1,
     "metadata": {},
     "output_type": "execute_result"
    }
   ],
   "source": [
    "ds = load_by_id(run_id_n)\n",
    "ds.get_parameter_data('x1')"
   ]
  },
  {
   "cell_type": "markdown",
   "metadata": {},
   "source": [
    "And a dataset stored as binary arrays"
   ]
  },
  {
   "cell_type": "code",
   "execution_count": 12,
   "metadata": {
    "execution": {
     "iopub.execute_input": "2021-01-26T14:09:32.343164Z",
     "iopub.status.busy": "2021-01-26T14:09:32.342685Z",
     "iopub.status.idle": "2021-01-26T14:09:32.399818Z",
     "shell.execute_reply": "2021-01-26T14:09:32.399347Z"
    },
    "scrolled": true
   },
   "outputs": [
    {
     "data": {
      "text/plain": [
       "{'x1': {'x1': array([[0.84228189],\n",
       "         [0.84228189],\n",
       "         [0.5179063 ],\n",
       "         [0.5179063 ],\n",
       "         [0.76102011],\n",
       "         [0.76102011],\n",
       "         [0.048607  ],\n",
       "         [0.048607  ],\n",
       "         [0.36504357],\n",
       "         [0.36504357],\n",
       "         [0.83080529],\n",
       "         [0.83080529],\n",
       "         [0.04066732],\n",
       "         [0.04066732],\n",
       "         [0.15470339],\n",
       "         [0.15470339],\n",
       "         [0.62377027],\n",
       "         [0.62377027],\n",
       "         [0.45612736],\n",
       "         [0.45612736],\n",
       "         [0.34976845],\n",
       "         [0.34976845],\n",
       "         [0.4451625 ],\n",
       "         [0.4451625 ],\n",
       "         [0.8012314 ],\n",
       "         [0.8012314 ],\n",
       "         [0.78489799],\n",
       "         [0.78489799],\n",
       "         [0.0106299 ],\n",
       "         [0.0106299 ],\n",
       "         [0.63543421],\n",
       "         [0.63543421],\n",
       "         [0.20511132],\n",
       "         [0.20511132],\n",
       "         [0.43249915],\n",
       "         [0.43249915],\n",
       "         [0.78305028],\n",
       "         [0.78305028],\n",
       "         [0.81460959],\n",
       "         [0.81460959],\n",
       "         [0.59891795],\n",
       "         [0.59891795],\n",
       "         [0.1710109 ],\n",
       "         [0.1710109 ],\n",
       "         [0.99248733],\n",
       "         [0.99248733],\n",
       "         [0.74644136],\n",
       "         [0.74644136],\n",
       "         [0.42911712],\n",
       "         [0.42911712],\n",
       "         [0.31152003],\n",
       "         [0.31152003],\n",
       "         [0.00700774],\n",
       "         [0.00700774],\n",
       "         [0.05086292],\n",
       "         [0.05086292],\n",
       "         [0.2704577 ],\n",
       "         [0.2704577 ],\n",
       "         [0.31523487],\n",
       "         [0.31523487],\n",
       "         [0.37658605],\n",
       "         [0.37658605],\n",
       "         [0.43726219],\n",
       "         [0.43726219],\n",
       "         [0.6338976 ],\n",
       "         [0.6338976 ],\n",
       "         [0.12532294],\n",
       "         [0.12532294],\n",
       "         [0.82358154],\n",
       "         [0.82358154],\n",
       "         [0.55857636],\n",
       "         [0.55857636],\n",
       "         [0.88750712],\n",
       "         [0.88750712],\n",
       "         [0.75406715],\n",
       "         [0.75406715],\n",
       "         [0.43239201],\n",
       "         [0.43239201],\n",
       "         [0.29109982],\n",
       "         [0.29109982],\n",
       "         [0.14249056],\n",
       "         [0.14249056],\n",
       "         [0.89949556],\n",
       "         [0.89949556],\n",
       "         [0.50606765],\n",
       "         [0.50606765],\n",
       "         [0.44600795],\n",
       "         [0.44600795],\n",
       "         [0.90112869],\n",
       "         [0.90112869],\n",
       "         [0.85679944],\n",
       "         [0.85679944],\n",
       "         [0.48323622],\n",
       "         [0.48323622],\n",
       "         [0.77844877],\n",
       "         [0.77844877],\n",
       "         [0.38502958],\n",
       "         [0.38502958],\n",
       "         [0.70464157],\n",
       "         [0.70464157],\n",
       "         [0.8483847 ],\n",
       "         [0.8483847 ],\n",
       "         [0.73224058],\n",
       "         [0.73224058],\n",
       "         [0.18595361],\n",
       "         [0.18595361],\n",
       "         [0.45698879],\n",
       "         [0.45698879],\n",
       "         [0.70076572],\n",
       "         [0.70076572],\n",
       "         [0.43571077],\n",
       "         [0.43571077],\n",
       "         [0.50912349],\n",
       "         [0.50912349],\n",
       "         [0.98297008],\n",
       "         [0.98297008],\n",
       "         [0.33011914],\n",
       "         [0.33011914],\n",
       "         [0.03469137],\n",
       "         [0.03469137],\n",
       "         [0.72498086],\n",
       "         [0.72498086],\n",
       "         [0.89551056],\n",
       "         [0.89551056],\n",
       "         [0.596094  ],\n",
       "         [0.596094  ],\n",
       "         [0.91026573],\n",
       "         [0.91026573],\n",
       "         [0.77879153],\n",
       "         [0.77879153],\n",
       "         [0.7223555 ],\n",
       "         [0.7223555 ],\n",
       "         [0.9427155 ],\n",
       "         [0.9427155 ],\n",
       "         [0.34900577],\n",
       "         [0.34900577],\n",
       "         [0.47711567],\n",
       "         [0.47711567],\n",
       "         [0.79788946],\n",
       "         [0.79788946],\n",
       "         [0.1414982 ],\n",
       "         [0.1414982 ],\n",
       "         [0.71374939],\n",
       "         [0.71374939],\n",
       "         [0.20388295],\n",
       "         [0.20388295],\n",
       "         [0.34148897],\n",
       "         [0.34148897],\n",
       "         [0.98038896],\n",
       "         [0.98038896],\n",
       "         [0.33587905],\n",
       "         [0.33587905],\n",
       "         [0.58275881],\n",
       "         [0.58275881],\n",
       "         [0.58940736],\n",
       "         [0.58940736],\n",
       "         [0.38449641],\n",
       "         [0.38449641],\n",
       "         [0.88720836],\n",
       "         [0.88720836],\n",
       "         [0.18748609],\n",
       "         [0.18748609],\n",
       "         [0.65420892],\n",
       "         [0.65420892],\n",
       "         [0.12633775],\n",
       "         [0.12633775],\n",
       "         [0.47183319],\n",
       "         [0.47183319],\n",
       "         [0.41253987],\n",
       "         [0.41253987],\n",
       "         [0.62389557],\n",
       "         [0.62389557],\n",
       "         [0.57059179],\n",
       "         [0.57059179],\n",
       "         [0.68080306],\n",
       "         [0.68080306],\n",
       "         [0.08601347],\n",
       "         [0.08601347],\n",
       "         [0.16900858],\n",
       "         [0.16900858],\n",
       "         [0.22031935],\n",
       "         [0.22031935],\n",
       "         [0.44066472],\n",
       "         [0.44066472],\n",
       "         [0.036572  ],\n",
       "         [0.036572  ],\n",
       "         [0.32520407],\n",
       "         [0.32520407],\n",
       "         [0.30254543],\n",
       "         [0.30254543],\n",
       "         [0.37172687],\n",
       "         [0.37172687],\n",
       "         [0.79586327],\n",
       "         [0.79586327],\n",
       "         [0.54706139],\n",
       "         [0.54706139],\n",
       "         [0.74654641],\n",
       "         [0.74654641],\n",
       "         [0.38875654],\n",
       "         [0.38875654]])}}"
      ]
     },
     "execution_count": 1,
     "metadata": {},
     "output_type": "execute_result"
    }
   ],
   "source": [
    "ds = load_by_id(run_id_a)\n",
    "ds.get_parameter_data('x1')"
   ]
  },
  {
   "cell_type": "code",
   "execution_count": null,
   "metadata": {},
   "outputs": [],
   "source": []
  }
 ],
 "metadata": {
  "kernelspec": {
   "display_name": "Python 3",
   "language": "python",
   "name": "python3"
  },
  "language_info": {
   "codemirror_mode": {
    "name": "ipython",
    "version": 3
   },
   "file_extension": ".py",
   "mimetype": "text/x-python",
   "name": "python",
   "nbconvert_exporter": "python",
   "pygments_lexer": "ipython3",
   "version": "3.7.9"
  },
  "nbsphinx": {
   "timeout": 600
  },
  "toc": {
   "base_numbering": 1,
   "nav_menu": {},
   "number_sections": true,
   "sideBar": true,
   "skip_h1_title": false,
   "title_cell": "Table of Contents",
   "title_sidebar": "Contents",
   "toc_cell": false,
   "toc_position": {},
   "toc_section_display": true,
   "toc_window_display": false
  },
  "varInspector": {
   "cols": {
    "lenName": 16,
    "lenType": 16,
    "lenVar": 40
   },
   "kernels_config": {
    "python": {
     "delete_cmd_postfix": "",
     "delete_cmd_prefix": "del ",
     "library": "var_list.py",
     "varRefreshCmd": "print(var_dic_list())"
    },
    "r": {
     "delete_cmd_postfix": ") ",
     "delete_cmd_prefix": "rm(",
     "library": "var_list.r",
     "varRefreshCmd": "cat(var_dic_list()) "
    }
   },
   "types_to_exclude": [
    "module",
    "function",
    "builtin_function_or_method",
    "instance",
    "_Feature"
   ],
   "window_display": false
  }
 },
 "nbformat": 4,
 "nbformat_minor": 2
}
