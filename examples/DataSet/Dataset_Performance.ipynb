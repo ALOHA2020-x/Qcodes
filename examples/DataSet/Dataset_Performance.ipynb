{
 "cells": [
  {
   "cell_type": "markdown",
   "metadata": {},
   "source": [
    "# DataSet Performance\n",
    "\n",
    "This notebook shows the trade-off between inserting data into a database row-by-row and as binary blobs. Inserting the data row-by-row means that we have direct access to all the data and may perform queries directly on the values of the data. On the other hand, as we shall see, this is much slower than inserting the data directly as binary blobs."
   ]
  },
  {
   "cell_type": "markdown",
   "metadata": {},
   "source": [
    "First, we choose a new location for the database to ensure that we don't add a bunch of benchmarking data to the default one."
   ]
  },
  {
   "cell_type": "code",
   "execution_count": 1,
   "metadata": {
    "execution": {
     "iopub.execute_input": "2020-09-26T19:46:01.260975Z",
     "iopub.status.busy": "2020-09-26T19:46:01.260421Z",
     "iopub.status.idle": "2020-09-26T19:46:02.208957Z",
     "shell.execute_reply": "2020-09-26T19:46:02.209414Z"
    }
   },
   "outputs": [
    {
     "name": "stdout",
     "output_type": "stream",
     "text": [
      "Logging hadn't been started.\n",
      "Activating auto-logging. Current session state plus future input saved.\n",
      "Filename       : /home/vsts/.qcodes/logs/command_history.log\n",
      "Mode           : append\n",
      "Output logging : True\n",
      "Raw input log  : False\n",
      "Timestamping   : True\n",
      "State          : active\n"
     ]
    },
    {
     "name": "stdout",
     "output_type": "stream",
     "text": [
      "Qcodes Logfile : /home/vsts/.qcodes/logs/200926-19125-qcodes.log\n"
     ]
    }
   ],
   "source": [
    "import os\n",
    "cwd = os.getcwd()\n",
    "import qcodes as qc\n",
    "qc.config[\"core\"][\"db_location\"] = os.path.join(cwd, 'testing.db')\n"
   ]
  },
  {
   "cell_type": "code",
   "execution_count": 2,
   "metadata": {
    "execution": {
     "iopub.execute_input": "2020-09-26T19:46:02.215733Z",
     "iopub.status.busy": "2020-09-26T19:46:02.214715Z",
     "iopub.status.idle": "2020-09-26T19:46:02.384939Z",
     "shell.execute_reply": "2020-09-26T19:46:02.384186Z"
    }
   },
   "outputs": [],
   "source": [
    "%matplotlib inline\n",
    "import time\n",
    "import matplotlib.pyplot as plt\n",
    "import numpy as np\n",
    "\n",
    "import qcodes as qc\n",
    "from qcodes.instrument.parameter import ManualParameter\n",
    "from qcodes.dataset.experiment_container import (Experiment,\n",
    "                                                 load_last_experiment,\n",
    "                                                 new_experiment)\n",
    "from qcodes.dataset.sqlite.database import initialise_database\n",
    "from qcodes import load_or_create_experiment\n",
    "from qcodes.dataset.measurements import Measurement"
   ]
  },
  {
   "cell_type": "code",
   "execution_count": 3,
   "metadata": {
    "execution": {
     "iopub.execute_input": "2020-09-26T19:46:02.388426Z",
     "iopub.status.busy": "2020-09-26T19:46:02.387803Z",
     "iopub.status.idle": "2020-09-26T19:46:02.501354Z",
     "shell.execute_reply": "2020-09-26T19:46:02.500865Z"
    }
   },
   "outputs": [
    {
     "name": "stdout",
     "output_type": "stream",
     "text": [
      "\r",
      "0it [00:00, ?it/s]"
     ]
    },
    {
     "name": "stdout",
     "output_type": "stream",
     "text": [
      "\r",
      "Upgrading database; v0 -> v1: : 0it [00:00, ?it/s]"
     ]
    },
    {
     "name": "stdout",
     "output_type": "stream",
     "text": [
      "\r",
      "Upgrading database; v0 -> v1: : 0it [00:00, ?it/s]"
     ]
    },
    {
     "name": "stdout",
     "output_type": "stream",
     "text": [
      "\n",
      "\r",
      "  0%|          | 0/1 [00:00<?, ?it/s]"
     ]
    },
    {
     "name": "stdout",
     "output_type": "stream",
     "text": [
      "\r",
      "Upgrading database; v1 -> v2:   0%|          | 0/1 [00:00<?, ?it/s]"
     ]
    },
    {
     "name": "stdout",
     "output_type": "stream",
     "text": [
      "\r",
      "Upgrading database; v1 -> v2: 100%|██████████| 1/1 [00:00<00:00, 421.96it/s]"
     ]
    },
    {
     "name": "stdout",
     "output_type": "stream",
     "text": [
      "\n",
      "\r",
      "0it [00:00, ?it/s]"
     ]
    },
    {
     "name": "stdout",
     "output_type": "stream",
     "text": [
      "\r",
      "Upgrading database; v2 -> v3: : 0it [00:00, ?it/s]"
     ]
    },
    {
     "name": "stdout",
     "output_type": "stream",
     "text": [
      "\r",
      "Upgrading database; v2 -> v3: : 0it [00:00, ?it/s]"
     ]
    },
    {
     "name": "stdout",
     "output_type": "stream",
     "text": [
      "\n",
      "\r",
      "0it [00:00, ?it/s]"
     ]
    },
    {
     "name": "stdout",
     "output_type": "stream",
     "text": [
      "\r",
      "Upgrading database; v3 -> v4: : 0it [00:00, ?it/s]"
     ]
    },
    {
     "name": "stdout",
     "output_type": "stream",
     "text": [
      "\r",
      "Upgrading database; v3 -> v4: : 0it [00:00, ?it/s]"
     ]
    },
    {
     "name": "stdout",
     "output_type": "stream",
     "text": [
      "\n",
      "\r",
      "  0%|          | 0/1 [00:00<?, ?it/s]"
     ]
    },
    {
     "name": "stdout",
     "output_type": "stream",
     "text": [
      "\r",
      "Upgrading database; v4 -> v5:   0%|          | 0/1 [00:00<?, ?it/s]"
     ]
    },
    {
     "name": "stdout",
     "output_type": "stream",
     "text": [
      "\r",
      "Upgrading database; v4 -> v5: 100%|██████████| 1/1 [00:00<00:00, 333.09it/s]"
     ]
    },
    {
     "name": "stdout",
     "output_type": "stream",
     "text": [
      "\n",
      "\r",
      "0it [00:00, ?it/s]"
     ]
    },
    {
     "name": "stdout",
     "output_type": "stream",
     "text": [
      "\r",
      "Upgrading database; v5 -> v6: : 0it [00:00, ?it/s]"
     ]
    },
    {
     "name": "stdout",
     "output_type": "stream",
     "text": [
      "\r",
      "Upgrading database; v5 -> v6: : 0it [00:00, ?it/s]"
     ]
    },
    {
     "name": "stdout",
     "output_type": "stream",
     "text": [
      "\n",
      "\r",
      "  0%|          | 0/1 [00:00<?, ?it/s]"
     ]
    },
    {
     "name": "stdout",
     "output_type": "stream",
     "text": [
      "\r",
      "Upgrading database; v6 -> v7:   0%|          | 0/1 [00:00<?, ?it/s]"
     ]
    },
    {
     "name": "stdout",
     "output_type": "stream",
     "text": [
      "\r",
      "Upgrading database; v6 -> v7: 100%|██████████| 1/1 [00:00<00:00, 318.91it/s]"
     ]
    },
    {
     "name": "stdout",
     "output_type": "stream",
     "text": [
      "\n",
      "\r",
      "  0%|          | 0/1 [00:00<?, ?it/s]"
     ]
    },
    {
     "name": "stdout",
     "output_type": "stream",
     "text": [
      "\r",
      "Upgrading database; v7 -> v8:   0%|          | 0/1 [00:00<?, ?it/s]"
     ]
    },
    {
     "name": "stdout",
     "output_type": "stream",
     "text": [
      "\r",
      "Upgrading database; v7 -> v8: 100%|██████████| 1/1 [00:00<00:00, 561.41it/s]"
     ]
    },
    {
     "name": "stdout",
     "output_type": "stream",
     "text": [
      "\n",
      "\r",
      "  0%|          | 0/1 [00:00<?, ?it/s]"
     ]
    },
    {
     "name": "stdout",
     "output_type": "stream",
     "text": [
      "\r",
      "Upgrading database; v8 -> v9:   0%|          | 0/1 [00:00<?, ?it/s]"
     ]
    },
    {
     "name": "stdout",
     "output_type": "stream",
     "text": [
      "\r",
      "Upgrading database; v8 -> v9: 100%|██████████| 1/1 [00:00<00:00, 576.06it/s]"
     ]
    },
    {
     "name": "stdout",
     "output_type": "stream",
     "text": [
      "\n"
     ]
    }
   ],
   "source": [
    "initialise_database()\n",
    "exp = load_or_create_experiment(experiment_name='tutorial_exp', sample_name=\"no sample\")"
   ]
  },
  {
   "cell_type": "markdown",
   "metadata": {},
   "source": [
    "Here, we define a simple function to benchmark the time it takes to insert n points with either numeric or array data type.\n",
    "We will compare both the time used to call ``add_result`` and the time used for the full measurement."
   ]
  },
  {
   "cell_type": "code",
   "execution_count": 4,
   "metadata": {
    "execution": {
     "iopub.execute_input": "2020-09-26T19:46:02.509955Z",
     "iopub.status.busy": "2020-09-26T19:46:02.509385Z",
     "iopub.status.idle": "2020-09-26T19:46:02.513195Z",
     "shell.execute_reply": "2020-09-26T19:46:02.512519Z"
    }
   },
   "outputs": [],
   "source": [
    "def insert_data(paramtype, npoints, nreps=1):\n",
    "\n",
    "    meas = Measurement(exp=exp)\n",
    "\n",
    "    x1 = ManualParameter('x1')\n",
    "    x2 = ManualParameter('x2')\n",
    "    x3 = ManualParameter('x3')\n",
    "    y1 = ManualParameter('y1')\n",
    "    y2 = ManualParameter('y2')\n",
    "\n",
    "    meas.register_parameter(x1, paramtype=paramtype)\n",
    "    meas.register_parameter(x2, paramtype=paramtype)\n",
    "    meas.register_parameter(x3, paramtype=paramtype)\n",
    "    meas.register_parameter(y1, setpoints=[x1, x2, x3],\n",
    "                            paramtype=paramtype)\n",
    "    meas.register_parameter(y2, setpoints=[x1, x2, x3],\n",
    "                            paramtype=paramtype)\n",
    "    start = time.perf_counter()\n",
    "    with meas.run() as datasaver:\n",
    "        start_adding = time.perf_counter()\n",
    "        for i in range(nreps):\n",
    "            datasaver.add_result((x1, np.random.rand(npoints)),\n",
    "                                 (x2, np.random.rand(npoints)),\n",
    "                                 (x3, np.random.rand(npoints)),\n",
    "                                 (y1, np.random.rand(npoints)),\n",
    "                                 (y2, np.random.rand(npoints)))\n",
    "        stop_adding = time.perf_counter()\n",
    "        run_id = datasaver.run_id\n",
    "    stop = time.perf_counter()\n",
    "    tot_time = stop - start\n",
    "    add_time = stop_adding - start_adding\n",
    "    return tot_time, add_time, run_id"
   ]
  },
  {
   "cell_type": "markdown",
   "metadata": {},
   "source": [
    "## Comparison between numeric/array data and binary blob"
   ]
  },
  {
   "cell_type": "markdown",
   "metadata": {},
   "source": [
    "### Case1: Short experiment time"
   ]
  },
  {
   "cell_type": "code",
   "execution_count": 5,
   "metadata": {
    "execution": {
     "iopub.execute_input": "2020-09-26T19:46:02.518526Z",
     "iopub.status.busy": "2020-09-26T19:46:02.517995Z",
     "iopub.status.idle": "2020-09-26T19:46:03.301369Z",
     "shell.execute_reply": "2020-09-26T19:46:03.302049Z"
    }
   },
   "outputs": [
    {
     "name": "stdout",
     "output_type": "stream",
     "text": [
      "Starting experimental run with id: 1. \n",
      "Starting experimental run with id: 2. \n",
      "Starting experimental run with id: 3. \n",
      "Starting experimental run with id: 4. \n",
      "Starting experimental run with id: 5. \n"
     ]
    },
    {
     "name": "stdout",
     "output_type": "stream",
     "text": [
      "Starting experimental run with id: 6. \n"
     ]
    },
    {
     "name": "stdout",
     "output_type": "stream",
     "text": [
      "Starting experimental run with id: 7. \n"
     ]
    },
    {
     "name": "stdout",
     "output_type": "stream",
     "text": [
      "Starting experimental run with id: 8. \n",
      "Starting experimental run with id: 9. \n"
     ]
    },
    {
     "name": "stdout",
     "output_type": "stream",
     "text": [
      "Starting experimental run with id: 10. \n",
      "Starting experimental run with id: 11. \n"
     ]
    },
    {
     "name": "stdout",
     "output_type": "stream",
     "text": [
      "Starting experimental run with id: 12. \n",
      "Starting experimental run with id: 13. \n"
     ]
    },
    {
     "name": "stdout",
     "output_type": "stream",
     "text": [
      "Starting experimental run with id: 14. \n"
     ]
    }
   ],
   "source": [
    "sizes = [1,500,1000,2000,3000,4000,5000]\n",
    "t_numeric = []\n",
    "t_numeric_add = []\n",
    "t_array = []\n",
    "t_array_add = []\n",
    "for size in sizes:\n",
    "    tn, tna, run_id_n =  insert_data('numeric', size)\n",
    "    t_numeric.append(tn)\n",
    "    t_numeric_add.append(tna)\n",
    "\n",
    "    ta, taa, run_id_a =  insert_data('array', size)\n",
    "    t_array.append(ta)\n",
    "    t_array_add.append(taa)"
   ]
  },
  {
   "cell_type": "code",
   "execution_count": 6,
   "metadata": {
    "execution": {
     "iopub.execute_input": "2020-09-26T19:46:03.319482Z",
     "iopub.status.busy": "2020-09-26T19:46:03.318770Z",
     "iopub.status.idle": "2020-09-26T19:46:03.517816Z",
     "shell.execute_reply": "2020-09-26T19:46:03.518236Z"
    }
   },
   "outputs": [
    {
     "data": {
      "image/png": "[encoded data removed]",
      "text/plain": [
       "<Figure size 432x288 with 1 Axes>"
      ]
     },
     "metadata": {
      "needs_background": "light"
     },
     "output_type": "display_data"
    }
   ],
   "source": [
    "fig, ax = plt.subplots(1,1)\n",
    "ax.plot(sizes, t_numeric, 'o-', label='Inserting row-by-row')\n",
    "ax.plot(sizes, t_numeric_add, 'o-', label='Inserting row-by-row: add_result only')\n",
    "ax.plot(sizes, t_array, 'd-', label='Inserting as binary blob')\n",
    "ax.plot(sizes, t_array_add, 'd-', label='Inserting as binary blob: add_result only')\n",
    "ax.legend()\n",
    "ax.set_xlabel('Array length')\n",
    "ax.set_ylabel('Time (s)')\n",
    "fig.tight_layout()"
   ]
  },
  {
   "cell_type": "markdown",
   "metadata": {},
   "source": [
    "As shown in the latter figure, the time to setup and and close the experiment is approximately 0.4 sec. In case of small array sizes, the difference between inserting values of data as arrays and inserting them row-by-row is relatively unimportant. At larger array sizes, i.e. above 10000 points, the cost of writing data as individual datapoints starts to become important.\n"
   ]
  },
  {
   "cell_type": "markdown",
   "metadata": {},
   "source": [
    "### Case2: Long experiment time "
   ]
  },
  {
   "cell_type": "code",
   "execution_count": 7,
   "metadata": {
    "execution": {
     "iopub.execute_input": "2020-09-26T19:46:03.525554Z",
     "iopub.status.busy": "2020-09-26T19:46:03.524648Z",
     "iopub.status.idle": "2020-09-26T19:46:57.295707Z",
     "shell.execute_reply": "2020-09-26T19:46:57.294975Z"
    }
   },
   "outputs": [
    {
     "name": "stdout",
     "output_type": "stream",
     "text": [
      "Starting experimental run with id: 15. \n",
      "Starting experimental run with id: 16. \n",
      "Starting experimental run with id: 17. \n"
     ]
    },
    {
     "name": "stdout",
     "output_type": "stream",
     "text": [
      "Starting experimental run with id: 18. \n",
      "Starting experimental run with id: 19. \n"
     ]
    },
    {
     "name": "stdout",
     "output_type": "stream",
     "text": [
      "Starting experimental run with id: 20. \n"
     ]
    },
    {
     "name": "stdout",
     "output_type": "stream",
     "text": [
      "Starting experimental run with id: 21. \n"
     ]
    },
    {
     "name": "stdout",
     "output_type": "stream",
     "text": [
      "Starting experimental run with id: 22. \n"
     ]
    },
    {
     "name": "stdout",
     "output_type": "stream",
     "text": [
      "Starting experimental run with id: 23. \n"
     ]
    },
    {
     "name": "stdout",
     "output_type": "stream",
     "text": [
      "Starting experimental run with id: 24. \n"
     ]
    },
    {
     "name": "stdout",
     "output_type": "stream",
     "text": [
      "Starting experimental run with id: 25. \n"
     ]
    },
    {
     "name": "stdout",
     "output_type": "stream",
     "text": [
      "Starting experimental run with id: 26. \n"
     ]
    },
    {
     "name": "stdout",
     "output_type": "stream",
     "text": [
      "Starting experimental run with id: 27. \n"
     ]
    },
    {
     "name": "stdout",
     "output_type": "stream",
     "text": [
      "Starting experimental run with id: 28. \n"
     ]
    }
   ],
   "source": [
    "sizes = [1,500,1000,2000,3000,4000,5000]\n",
    "nreps = 100\n",
    "t_numeric = []\n",
    "t_numeric_add = []\n",
    "t_numeric_run_ids = []\n",
    "t_array = []\n",
    "t_array_add = []\n",
    "t_array_run_ids = []\n",
    "for size in sizes:\n",
    "    tn, tna, run_id_n =  insert_data('numeric', size, nreps=nreps)\n",
    "    t_numeric.append(tn)\n",
    "    t_numeric_add.append(tna)\n",
    "    t_numeric_run_ids.append(run_id_n)\n",
    "\n",
    "    ta, taa, run_id_a =  insert_data('array', size, nreps=nreps)\n",
    "    t_array.append(ta)\n",
    "    t_array_add.append(taa)\n",
    "    t_array_run_ids.append(run_id_a)"
   ]
  },
  {
   "cell_type": "code",
   "execution_count": 8,
   "metadata": {
    "execution": {
     "iopub.execute_input": "2020-09-26T19:46:57.318936Z",
     "iopub.status.busy": "2020-09-26T19:46:57.316418Z",
     "iopub.status.idle": "2020-09-26T19:46:57.524790Z",
     "shell.execute_reply": "2020-09-26T19:46:57.524272Z"
    },
    "scrolled": true
   },
   "outputs": [
    {
     "data": {
      "image/png": "[encoded data removed]",
      "text/plain": [
       "<Figure size 432x288 with 1 Axes>"
      ]
     },
     "metadata": {
      "needs_background": "light"
     },
     "output_type": "display_data"
    }
   ],
   "source": [
    "fig, ax = plt.subplots(1,1)\n",
    "ax.plot(sizes, t_numeric, 'o-', label='Inserting row-by-row')\n",
    "ax.plot(sizes, t_numeric_add, 'o-', label='Inserting row-by-row: add_result only')\n",
    "ax.plot(sizes, t_array, 'd-', label='Inserting as binary blob')\n",
    "ax.plot(sizes, t_array_add, 'd-', label='Inserting as binary blob: add_result only')\n",
    "ax.legend()\n",
    "ax.set_xlabel('Array length')\n",
    "ax.set_ylabel('Time (s)')\n",
    "fig.tight_layout()"
   ]
  },
  {
   "cell_type": "markdown",
   "metadata": {},
   "source": [
    "However, as we increase the length of the experiment, as seen here by repeating the insertion 100 times, we see a big difference between inserting values of the data row-by-row and inserting it as a binary blob."
   ]
  },
  {
   "cell_type": "markdown",
   "metadata": {},
   "source": [
    "## Loading the data "
   ]
  },
  {
   "cell_type": "code",
   "execution_count": 9,
   "metadata": {
    "execution": {
     "iopub.execute_input": "2020-09-26T19:46:57.529109Z",
     "iopub.status.busy": "2020-09-26T19:46:57.528489Z",
     "iopub.status.idle": "2020-09-26T19:46:57.531119Z",
     "shell.execute_reply": "2020-09-26T19:46:57.530640Z"
    }
   },
   "outputs": [],
   "source": [
    "from qcodes.dataset.data_set import load_by_id\n",
    "from qcodes.dataset.data_export import get_data_by_id"
   ]
  },
  {
   "cell_type": "markdown",
   "metadata": {},
   "source": [
    "As usual you can load the data by using the ``load_by_id`` function but you will notice that the different storage methods\n",
    "are reflected in shape of the data as it is retrieved. "
   ]
  },
  {
   "cell_type": "code",
   "execution_count": 10,
   "metadata": {
    "execution": {
     "iopub.execute_input": "2020-09-26T19:46:57.535520Z",
     "iopub.status.busy": "2020-09-26T19:46:57.534311Z",
     "iopub.status.idle": "2020-09-26T19:46:57.536245Z",
     "shell.execute_reply": "2020-09-26T19:46:57.536759Z"
    }
   },
   "outputs": [],
   "source": [
    "run_id_n = t_numeric_run_ids[0]\n",
    "run_id_a = t_array_run_ids[0]"
   ]
  },
  {
   "cell_type": "code",
   "execution_count": 11,
   "metadata": {
    "execution": {
     "iopub.execute_input": "2020-09-26T19:46:57.540123Z",
     "iopub.status.busy": "2020-09-26T19:46:57.539553Z",
     "iopub.status.idle": "2020-09-26T19:46:57.548400Z",
     "shell.execute_reply": "2020-09-26T19:46:57.547919Z"
    },
    "scrolled": true
   },
   "outputs": [
    {
     "data": {
      "text/plain": [
       "{'x1': {'x1': array([0.14287699, 0.14287699, 0.20617573, 0.20617573, 0.77659139,\n",
       "         0.77659139, 0.73193367, 0.73193367, 0.64168743, 0.64168743,\n",
       "         0.49856189, 0.49856189, 0.70471891, 0.70471891, 0.73730085,\n",
       "         0.73730085, 0.56358616, 0.56358616, 0.34825523, 0.34825523,\n",
       "         0.08383403, 0.08383403, 0.75794632, 0.75794632, 0.74550767,\n",
       "         0.74550767, 0.25204219, 0.25204219, 0.95743125, 0.95743125,\n",
       "         0.63912249, 0.63912249, 0.36178645, 0.36178645, 0.00462883,\n",
       "         0.00462883, 0.31653029, 0.31653029, 0.85168519, 0.85168519,\n",
       "         0.74924354, 0.74924354, 0.17056277, 0.17056277, 0.38043512,\n",
       "         0.38043512, 0.58281603, 0.58281603, 0.77241996, 0.77241996,\n",
       "         0.88936669, 0.88936669, 0.08838421, 0.08838421, 0.36371074,\n",
       "         0.36371074, 0.50393368, 0.50393368, 0.99404046, 0.99404046,\n",
       "         0.86704199, 0.86704199, 0.77012126, 0.77012126, 0.10844381,\n",
       "         0.10844381, 0.83918941, 0.83918941, 0.10545691, 0.10545691,\n",
       "         0.87173015, 0.87173015, 0.00113946, 0.00113946, 0.98462685,\n",
       "         0.98462685, 0.04247836, 0.04247836, 0.98887492, 0.98887492,\n",
       "         0.00886664, 0.00886664, 0.08963282, 0.08963282, 0.93697437,\n",
       "         0.93697437, 0.43286899, 0.43286899, 0.55288816, 0.55288816,\n",
       "         0.52957804, 0.52957804, 0.11629137, 0.11629137, 0.32671318,\n",
       "         0.32671318, 0.834874  , 0.834874  , 0.69274792, 0.69274792,\n",
       "         0.62675321, 0.62675321, 0.37592412, 0.37592412, 0.06476221,\n",
       "         0.06476221, 0.60782863, 0.60782863, 0.47744269, 0.47744269,\n",
       "         0.27130076, 0.27130076, 0.96162904, 0.96162904, 0.02201139,\n",
       "         0.02201139, 0.98155817, 0.98155817, 0.14749519, 0.14749519,\n",
       "         0.15702492, 0.15702492, 0.87926258, 0.87926258, 0.2202364 ,\n",
       "         0.2202364 , 0.78085964, 0.78085964, 0.04977635, 0.04977635,\n",
       "         0.15917172, 0.15917172, 0.50103469, 0.50103469, 0.016008  ,\n",
       "         0.016008  , 0.7590943 , 0.7590943 , 0.89692826, 0.89692826,\n",
       "         0.00981392, 0.00981392, 0.40999754, 0.40999754, 0.17283682,\n",
       "         0.17283682, 0.41777373, 0.41777373, 0.75330519, 0.75330519,\n",
       "         0.24811166, 0.24811166, 0.3885413 , 0.3885413 , 0.61972872,\n",
       "         0.61972872, 0.44245716, 0.44245716, 0.26184632, 0.26184632,\n",
       "         0.02789646, 0.02789646, 0.20242122, 0.20242122, 0.36405767,\n",
       "         0.36405767, 0.08036898, 0.08036898, 0.55719128, 0.55719128,\n",
       "         0.62846951, 0.62846951, 0.633945  , 0.633945  , 0.3954452 ,\n",
       "         0.3954452 , 0.54644559, 0.54644559, 0.08944488, 0.08944488,\n",
       "         0.62373966, 0.62373966, 0.82642491, 0.82642491, 0.9082391 ,\n",
       "         0.9082391 , 0.85397795, 0.85397795, 0.85918053, 0.85918053,\n",
       "         0.80541918, 0.80541918, 0.75350452, 0.75350452, 0.88658486,\n",
       "         0.88658486, 0.29721973, 0.29721973, 0.91332638, 0.91332638])}}"
      ]
     },
     "execution_count": 1,
     "metadata": {},
     "output_type": "execute_result"
    }
   ],
   "source": [
    "ds = load_by_id(run_id_n)\n",
    "ds.get_parameter_data('x1')"
   ]
  },
  {
   "cell_type": "markdown",
   "metadata": {},
   "source": [
    "And a dataset stored as binary arrays"
   ]
  },
  {
   "cell_type": "code",
   "execution_count": 12,
   "metadata": {
    "execution": {
     "iopub.execute_input": "2020-09-26T19:46:57.551747Z",
     "iopub.status.busy": "2020-09-26T19:46:57.551148Z",
     "iopub.status.idle": "2020-09-26T19:46:57.608828Z",
     "shell.execute_reply": "2020-09-26T19:46:57.608326Z"
    },
    "scrolled": true
   },
   "outputs": [
    {
     "data": {
      "text/plain": [
       "{'x1': {'x1': array([[0.78274928],\n",
       "         [0.78274928],\n",
       "         [0.68306657],\n",
       "         [0.68306657],\n",
       "         [0.37463336],\n",
       "         [0.37463336],\n",
       "         [0.39932379],\n",
       "         [0.39932379],\n",
       "         [0.24058721],\n",
       "         [0.24058721],\n",
       "         [0.01720653],\n",
       "         [0.01720653],\n",
       "         [0.01825715],\n",
       "         [0.01825715],\n",
       "         [0.96609513],\n",
       "         [0.96609513],\n",
       "         [0.56676788],\n",
       "         [0.56676788],\n",
       "         [0.89722608],\n",
       "         [0.89722608],\n",
       "         [0.04241887],\n",
       "         [0.04241887],\n",
       "         [0.92281171],\n",
       "         [0.92281171],\n",
       "         [0.85831351],\n",
       "         [0.85831351],\n",
       "         [0.503836  ],\n",
       "         [0.503836  ],\n",
       "         [0.56046274],\n",
       "         [0.56046274],\n",
       "         [0.54566076],\n",
       "         [0.54566076],\n",
       "         [0.21344779],\n",
       "         [0.21344779],\n",
       "         [0.03304331],\n",
       "         [0.03304331],\n",
       "         [0.40114531],\n",
       "         [0.40114531],\n",
       "         [0.52306981],\n",
       "         [0.52306981],\n",
       "         [0.73648334],\n",
       "         [0.73648334],\n",
       "         [0.52920034],\n",
       "         [0.52920034],\n",
       "         [0.12508266],\n",
       "         [0.12508266],\n",
       "         [0.89480551],\n",
       "         [0.89480551],\n",
       "         [0.34165246],\n",
       "         [0.34165246],\n",
       "         [0.45092521],\n",
       "         [0.45092521],\n",
       "         [0.98006446],\n",
       "         [0.98006446],\n",
       "         [0.48654484],\n",
       "         [0.48654484],\n",
       "         [0.69973931],\n",
       "         [0.69973931],\n",
       "         [0.89492759],\n",
       "         [0.89492759],\n",
       "         [0.70791455],\n",
       "         [0.70791455],\n",
       "         [0.5286575 ],\n",
       "         [0.5286575 ],\n",
       "         [0.13026198],\n",
       "         [0.13026198],\n",
       "         [0.89292247],\n",
       "         [0.89292247],\n",
       "         [0.61355904],\n",
       "         [0.61355904],\n",
       "         [0.15379461],\n",
       "         [0.15379461],\n",
       "         [0.3666018 ],\n",
       "         [0.3666018 ],\n",
       "         [0.45166716],\n",
       "         [0.45166716],\n",
       "         [0.059219  ],\n",
       "         [0.059219  ],\n",
       "         [0.02869669],\n",
       "         [0.02869669],\n",
       "         [0.08620226],\n",
       "         [0.08620226],\n",
       "         [0.29970337],\n",
       "         [0.29970337],\n",
       "         [0.40177617],\n",
       "         [0.40177617],\n",
       "         [0.19572429],\n",
       "         [0.19572429],\n",
       "         [0.21354503],\n",
       "         [0.21354503],\n",
       "         [0.65202052],\n",
       "         [0.65202052],\n",
       "         [0.7651558 ],\n",
       "         [0.7651558 ],\n",
       "         [0.84332128],\n",
       "         [0.84332128],\n",
       "         [0.67515681],\n",
       "         [0.67515681],\n",
       "         [0.21552499],\n",
       "         [0.21552499],\n",
       "         [0.76580883],\n",
       "         [0.76580883],\n",
       "         [0.97159773],\n",
       "         [0.97159773],\n",
       "         [0.37212828],\n",
       "         [0.37212828],\n",
       "         [0.08937205],\n",
       "         [0.08937205],\n",
       "         [0.54131598],\n",
       "         [0.54131598],\n",
       "         [0.35522736],\n",
       "         [0.35522736],\n",
       "         [0.91780721],\n",
       "         [0.91780721],\n",
       "         [0.55026455],\n",
       "         [0.55026455],\n",
       "         [0.49015658],\n",
       "         [0.49015658],\n",
       "         [0.21088203],\n",
       "         [0.21088203],\n",
       "         [0.71215241],\n",
       "         [0.71215241],\n",
       "         [0.21619605],\n",
       "         [0.21619605],\n",
       "         [0.7259943 ],\n",
       "         [0.7259943 ],\n",
       "         [0.2654305 ],\n",
       "         [0.2654305 ],\n",
       "         [0.96291779],\n",
       "         [0.96291779],\n",
       "         [0.36195474],\n",
       "         [0.36195474],\n",
       "         [0.49854457],\n",
       "         [0.49854457],\n",
       "         [0.05172227],\n",
       "         [0.05172227],\n",
       "         [0.12085847],\n",
       "         [0.12085847],\n",
       "         [0.43787323],\n",
       "         [0.43787323],\n",
       "         [0.20883515],\n",
       "         [0.20883515],\n",
       "         [0.12263143],\n",
       "         [0.12263143],\n",
       "         [0.74298119],\n",
       "         [0.74298119],\n",
       "         [0.82970892],\n",
       "         [0.82970892],\n",
       "         [0.57585207],\n",
       "         [0.57585207],\n",
       "         [0.89287498],\n",
       "         [0.89287498],\n",
       "         [0.13471071],\n",
       "         [0.13471071],\n",
       "         [0.43011667],\n",
       "         [0.43011667],\n",
       "         [0.14895554],\n",
       "         [0.14895554],\n",
       "         [0.87319697],\n",
       "         [0.87319697],\n",
       "         [0.5241848 ],\n",
       "         [0.5241848 ],\n",
       "         [0.67194389],\n",
       "         [0.67194389],\n",
       "         [0.15714105],\n",
       "         [0.15714105],\n",
       "         [0.73223964],\n",
       "         [0.73223964],\n",
       "         [0.24568513],\n",
       "         [0.24568513],\n",
       "         [0.77659707],\n",
       "         [0.77659707],\n",
       "         [0.14686021],\n",
       "         [0.14686021],\n",
       "         [0.51573417],\n",
       "         [0.51573417],\n",
       "         [0.74158495],\n",
       "         [0.74158495],\n",
       "         [0.75959358],\n",
       "         [0.75959358],\n",
       "         [0.60423132],\n",
       "         [0.60423132],\n",
       "         [0.64189464],\n",
       "         [0.64189464],\n",
       "         [0.78370075],\n",
       "         [0.78370075],\n",
       "         [0.8332972 ],\n",
       "         [0.8332972 ],\n",
       "         [0.67754021],\n",
       "         [0.67754021],\n",
       "         [0.79197118],\n",
       "         [0.79197118],\n",
       "         [0.35959298],\n",
       "         [0.35959298],\n",
       "         [0.55639732],\n",
       "         [0.55639732],\n",
       "         [0.54379096],\n",
       "         [0.54379096],\n",
       "         [0.18439198],\n",
       "         [0.18439198]])}}"
      ]
     },
     "execution_count": 1,
     "metadata": {},
     "output_type": "execute_result"
    }
   ],
   "source": [
    "ds = load_by_id(run_id_a)\n",
    "ds.get_parameter_data('x1')"
   ]
  },
  {
   "cell_type": "code",
   "execution_count": null,
   "metadata": {},
   "outputs": [],
   "source": []
  }
 ],
 "metadata": {
  "kernelspec": {
   "display_name": "Python 3",
   "language": "python",
   "name": "python3"
  },
  "language_info": {
   "codemirror_mode": {
    "name": "ipython",
    "version": 3
   },
   "file_extension": ".py",
   "mimetype": "text/x-python",
   "name": "python",
   "nbconvert_exporter": "python",
   "pygments_lexer": "ipython3",
   "version": "3.7.7"
  },
  "nbsphinx": {
   "timeout": 600
  },
  "toc": {
   "base_numbering": 1,
   "nav_menu": {},
   "number_sections": true,
   "sideBar": true,
   "skip_h1_title": false,
   "title_cell": "Table of Contents",
   "title_sidebar": "Contents",
   "toc_cell": false,
   "toc_position": {},
   "toc_section_display": true,
   "toc_window_display": false
  },
  "varInspector": {
   "cols": {
    "lenName": 16,
    "lenType": 16,
    "lenVar": 40
   },
   "kernels_config": {
    "python": {
     "delete_cmd_postfix": "",
     "delete_cmd_prefix": "del ",
     "library": "var_list.py",
     "varRefreshCmd": "print(var_dic_list())"
    },
    "r": {
     "delete_cmd_postfix": ") ",
     "delete_cmd_prefix": "rm(",
     "library": "var_list.r",
     "varRefreshCmd": "cat(var_dic_list()) "
    }
   },
   "types_to_exclude": [
    "module",
    "function",
    "builtin_function_or_method",
    "instance",
    "_Feature"
   ],
   "window_display": false
  }
 },
 "nbformat": 4,
 "nbformat_minor": 2
}
