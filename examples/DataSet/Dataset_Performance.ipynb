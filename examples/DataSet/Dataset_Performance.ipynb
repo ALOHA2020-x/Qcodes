{
 "cells": [
  {
   "cell_type": "markdown",
   "metadata": {},
   "source": [
    "# DataSet Performance\n",
    "\n",
    "This notebook shows the trade-off between inserting data into a database row-by-row and as binary blobs. Inserting the data row-by-row means that we have direct access to all the data and may perform queries directly on the values of the data. On the other hand, as we shall see, this is much slower than inserting the data directly as binary blobs."
   ]
  },
  {
   "cell_type": "markdown",
   "metadata": {},
   "source": [
    "First, we choose a new location for the database to ensure that we don't add a bunch of benchmarking data to the default one."
   ]
  },
  {
   "cell_type": "code",
   "execution_count": 1,
   "metadata": {},
   "outputs": [
    {
     "name": "stdout",
     "output_type": "stream",
     "text": [
      "Logging hadn't been started.\n",
      "Activating auto-logging. Current session state plus future input saved.\n",
      "Filename       : /home/vsts/.qcodes/logs/command_history.log\n",
      "Mode           : append\n",
      "Output logging : True\n",
      "Raw input log  : False\n",
      "Timestamping   : True\n",
      "State          : active\n"
     ]
    },
    {
     "name": "stdout",
     "output_type": "stream",
     "text": [
      "Qcodes Logfile : /home/vsts/.qcodes/logs/200515-18990-qcodes.log\n"
     ]
    }
   ],
   "source": [
    "import os\n",
    "cwd = os.getcwd()\n",
    "import qcodes as qc\n",
    "qc.config[\"core\"][\"db_location\"] = os.path.join(cwd, 'testing.db')\n"
   ]
  },
  {
   "cell_type": "code",
   "execution_count": 2,
   "metadata": {},
   "outputs": [],
   "source": [
    "%matplotlib inline\n",
    "import time\n",
    "import matplotlib.pyplot as plt\n",
    "import numpy as np\n",
    "\n",
    "import qcodes as qc\n",
    "from qcodes.instrument.parameter import ManualParameter\n",
    "from qcodes.dataset.experiment_container import (Experiment,\n",
    "                                                 load_last_experiment,\n",
    "                                                 new_experiment)\n",
    "from qcodes.dataset.sqlite.database import initialise_database\n",
    "from qcodes import load_or_create_experiment\n",
    "from qcodes.dataset.measurements import Measurement"
   ]
  },
  {
   "cell_type": "code",
   "execution_count": 3,
   "metadata": {},
   "outputs": [
    {
     "name": "stdout",
     "output_type": "stream",
     "text": [
      "\r",
      "0it [00:00, ?it/s]"
     ]
    },
    {
     "name": "stdout",
     "output_type": "stream",
     "text": [
      "\r",
      "Upgrading database; v0 -> v1: : 0it [00:00, ?it/s]"
     ]
    },
    {
     "name": "stdout",
     "output_type": "stream",
     "text": [
      "\r",
      "Upgrading database; v0 -> v1: : 0it [00:00, ?it/s]"
     ]
    },
    {
     "name": "stdout",
     "output_type": "stream",
     "text": [
      "\n",
      "\r",
      "  0%|          | 0/1 [00:00<?, ?it/s]"
     ]
    },
    {
     "name": "stdout",
     "output_type": "stream",
     "text": [
      "\r",
      "Upgrading database; v1 -> v2:   0%|          | 0/1 [00:00<?, ?it/s]"
     ]
    },
    {
     "name": "stdout",
     "output_type": "stream",
     "text": [
      "\r",
      "Upgrading database; v1 -> v2: 100%|██████████| 1/1 [00:00<00:00, 575.82it/s]"
     ]
    },
    {
     "name": "stdout",
     "output_type": "stream",
     "text": [
      "\n",
      "\r",
      "0it [00:00, ?it/s]"
     ]
    },
    {
     "name": "stdout",
     "output_type": "stream",
     "text": [
      "\r",
      "Upgrading database; v2 -> v3: : 0it [00:00, ?it/s]"
     ]
    },
    {
     "name": "stdout",
     "output_type": "stream",
     "text": [
      "\r",
      "Upgrading database; v2 -> v3: : 0it [00:00, ?it/s]"
     ]
    },
    {
     "name": "stdout",
     "output_type": "stream",
     "text": [
      "\n",
      "\r",
      "0it [00:00, ?it/s]"
     ]
    },
    {
     "name": "stdout",
     "output_type": "stream",
     "text": [
      "\r",
      "Upgrading database; v3 -> v4: : 0it [00:00, ?it/s]"
     ]
    },
    {
     "name": "stdout",
     "output_type": "stream",
     "text": [
      "\r",
      "Upgrading database; v3 -> v4: : 0it [00:00, ?it/s]"
     ]
    },
    {
     "name": "stdout",
     "output_type": "stream",
     "text": [
      "\n",
      "\r",
      "  0%|          | 0/1 [00:00<?, ?it/s]"
     ]
    },
    {
     "name": "stdout",
     "output_type": "stream",
     "text": [
      "\r",
      "Upgrading database; v4 -> v5:   0%|          | 0/1 [00:00<?, ?it/s]"
     ]
    },
    {
     "name": "stdout",
     "output_type": "stream",
     "text": [
      "\r",
      "Upgrading database; v4 -> v5: 100%|██████████| 1/1 [00:00<00:00, 692.02it/s]"
     ]
    },
    {
     "name": "stdout",
     "output_type": "stream",
     "text": [
      "\n",
      "\r",
      "0it [00:00, ?it/s]"
     ]
    },
    {
     "name": "stdout",
     "output_type": "stream",
     "text": [
      "\r",
      "Upgrading database; v5 -> v6: : 0it [00:00, ?it/s]"
     ]
    },
    {
     "name": "stdout",
     "output_type": "stream",
     "text": [
      "\r",
      "Upgrading database; v5 -> v6: : 0it [00:00, ?it/s]"
     ]
    },
    {
     "name": "stdout",
     "output_type": "stream",
     "text": [
      "\n",
      "\r",
      "  0%|          | 0/1 [00:00<?, ?it/s]"
     ]
    },
    {
     "name": "stdout",
     "output_type": "stream",
     "text": [
      "\r",
      "Upgrading database; v6 -> v7:   0%|          | 0/1 [00:00<?, ?it/s]"
     ]
    },
    {
     "name": "stdout",
     "output_type": "stream",
     "text": [
      "\r",
      "Upgrading database; v6 -> v7: 100%|██████████| 1/1 [00:00<00:00, 352.82it/s]"
     ]
    },
    {
     "name": "stdout",
     "output_type": "stream",
     "text": [
      "\n",
      "\r",
      "  0%|          | 0/1 [00:00<?, ?it/s]"
     ]
    },
    {
     "name": "stdout",
     "output_type": "stream",
     "text": [
      "\r",
      "Upgrading database; v7 -> v8:   0%|          | 0/1 [00:00<?, ?it/s]"
     ]
    },
    {
     "name": "stdout",
     "output_type": "stream",
     "text": [
      "\r",
      "Upgrading database; v7 -> v8: 100%|██████████| 1/1 [00:00<00:00, 601.08it/s]"
     ]
    },
    {
     "name": "stdout",
     "output_type": "stream",
     "text": [
      "\n",
      "\r",
      "  0%|          | 0/1 [00:00<?, ?it/s]"
     ]
    },
    {
     "name": "stdout",
     "output_type": "stream",
     "text": [
      "\r",
      "Upgrading database; v8 -> v9:   0%|          | 0/1 [00:00<?, ?it/s]"
     ]
    },
    {
     "name": "stdout",
     "output_type": "stream",
     "text": [
      "\r",
      "Upgrading database; v8 -> v9: 100%|██████████| 1/1 [00:00<00:00, 808.15it/s]"
     ]
    },
    {
     "name": "stdout",
     "output_type": "stream",
     "text": [
      "\n"
     ]
    }
   ],
   "source": [
    "initialise_database()\n",
    "exp = load_or_create_experiment(experiment_name='tutorial_exp', sample_name=\"no sample\")"
   ]
  },
  {
   "cell_type": "markdown",
   "metadata": {},
   "source": [
    "Here, we define a simple function to benchmark the time it takes to insert n points with either numeric or array data type.\n",
    "We will compare both the time used to call ``add_result`` and the time used for the full measurement."
   ]
  },
  {
   "cell_type": "code",
   "execution_count": 4,
   "metadata": {},
   "outputs": [],
   "source": [
    "def insert_data(paramtype, npoints, nreps=1):\n",
    "\n",
    "    meas = Measurement(exp=exp)\n",
    "\n",
    "    x1 = ManualParameter('x1')\n",
    "    x2 = ManualParameter('x2')\n",
    "    x3 = ManualParameter('x3')\n",
    "    y1 = ManualParameter('y1')\n",
    "    y2 = ManualParameter('y2')\n",
    "\n",
    "    meas.register_parameter(x1, paramtype=paramtype)\n",
    "    meas.register_parameter(x2, paramtype=paramtype)\n",
    "    meas.register_parameter(x3, paramtype=paramtype)\n",
    "    meas.register_parameter(y1, setpoints=[x1, x2, x3],\n",
    "                            paramtype=paramtype)\n",
    "    meas.register_parameter(y2, setpoints=[x1, x2, x3],\n",
    "                            paramtype=paramtype)\n",
    "    start = time.perf_counter()\n",
    "    with meas.run() as datasaver:\n",
    "        start_adding = time.perf_counter()\n",
    "        for i in range(nreps):\n",
    "            datasaver.add_result((x1, np.random.rand(npoints)),\n",
    "                                 (x2, np.random.rand(npoints)),\n",
    "                                 (x3, np.random.rand(npoints)),\n",
    "                                 (y1, np.random.rand(npoints)),\n",
    "                                 (y2, np.random.rand(npoints)))\n",
    "        stop_adding = time.perf_counter()\n",
    "        run_id = datasaver.run_id\n",
    "    stop = time.perf_counter()\n",
    "    tot_time = stop - start\n",
    "    add_time = stop_adding - start_adding\n",
    "    return tot_time, add_time, run_id"
   ]
  },
  {
   "cell_type": "markdown",
   "metadata": {},
   "source": [
    "## Comparison between numeric/array data and binary blob"
   ]
  },
  {
   "cell_type": "markdown",
   "metadata": {},
   "source": [
    "### Case1: Short experiment time"
   ]
  },
  {
   "cell_type": "code",
   "execution_count": 5,
   "metadata": {},
   "outputs": [
    {
     "name": "stdout",
     "output_type": "stream",
     "text": [
      "Starting experimental run with id: 1. \n",
      "Starting experimental run with id: 2. \n",
      "Starting experimental run with id: 3. \n"
     ]
    },
    {
     "name": "stdout",
     "output_type": "stream",
     "text": [
      "Starting experimental run with id: 4. \n"
     ]
    },
    {
     "name": "stdout",
     "output_type": "stream",
     "text": [
      "Starting experimental run with id: 5. \n"
     ]
    },
    {
     "name": "stdout",
     "output_type": "stream",
     "text": [
      "Starting experimental run with id: 6. \n",
      "Starting experimental run with id: 7. \n"
     ]
    },
    {
     "name": "stdout",
     "output_type": "stream",
     "text": [
      "Starting experimental run with id: 8. \n",
      "Starting experimental run with id: 9. \n"
     ]
    },
    {
     "name": "stdout",
     "output_type": "stream",
     "text": [
      "Starting experimental run with id: 10. \n",
      "Starting experimental run with id: 11. \n"
     ]
    },
    {
     "name": "stdout",
     "output_type": "stream",
     "text": [
      "Starting experimental run with id: 12. \n",
      "Starting experimental run with id: 13. \n"
     ]
    },
    {
     "name": "stdout",
     "output_type": "stream",
     "text": [
      "Starting experimental run with id: 14. \n"
     ]
    }
   ],
   "source": [
    "sizes = [1,500,1000,2000,3000,4000,5000]\n",
    "t_numeric = []\n",
    "t_numeric_add = []\n",
    "t_array = []\n",
    "t_array_add = []\n",
    "for size in sizes:\n",
    "    tn, tna, run_id_n =  insert_data('numeric', size)\n",
    "    t_numeric.append(tn)\n",
    "    t_numeric_add.append(tna)\n",
    "\n",
    "    ta, taa, run_id_a =  insert_data('array', size)\n",
    "    t_array.append(ta)\n",
    "    t_array_add.append(taa)"
   ]
  },
  {
   "cell_type": "code",
   "execution_count": 6,
   "metadata": {},
   "outputs": [
    {
     "data": {
      "image/png": "[encoded data removed]",
      "text/plain": [
       "<Figure size 432x288 with 1 Axes>"
      ]
     },
     "metadata": {
      "needs_background": "light"
     },
     "output_type": "display_data"
    }
   ],
   "source": [
    "fig, ax = plt.subplots(1,1)\n",
    "ax.plot(sizes, t_numeric, 'o-', label='Inserting row-by-row')\n",
    "ax.plot(sizes, t_numeric_add, 'o-', label='Inserting row-by-row: add_result only')\n",
    "ax.plot(sizes, t_array, 'd-', label='Inserting as binary blob')\n",
    "ax.plot(sizes, t_array_add, 'd-', label='Inserting as binary blob: add_result only')\n",
    "ax.legend()\n",
    "ax.set_xlabel('Array length')\n",
    "ax.set_ylabel('Time (s)')\n",
    "fig.tight_layout()"
   ]
  },
  {
   "cell_type": "markdown",
   "metadata": {},
   "source": [
    "As shown in the latter figure, the time to setup and and close the experiment is approximately 0.4 sec. In case of small array sizes, the difference between inserting values of data as arrays and inserting them row-by-row is relatively unimportant. At larger array sizes, i.e. above 10000 points, the cost of writing data as individual datapoints starts to become important.\n"
   ]
  },
  {
   "cell_type": "markdown",
   "metadata": {},
   "source": [
    "### Case2: Long experiment time "
   ]
  },
  {
   "cell_type": "code",
   "execution_count": 7,
   "metadata": {},
   "outputs": [
    {
     "name": "stdout",
     "output_type": "stream",
     "text": [
      "Starting experimental run with id: 15. \n",
      "Starting experimental run with id: 16. \n",
      "Starting experimental run with id: 17. \n"
     ]
    },
    {
     "name": "stdout",
     "output_type": "stream",
     "text": [
      "Starting experimental run with id: 18. \n",
      "Starting experimental run with id: 19. \n"
     ]
    },
    {
     "name": "stdout",
     "output_type": "stream",
     "text": [
      "Starting experimental run with id: 20. \n"
     ]
    },
    {
     "name": "stdout",
     "output_type": "stream",
     "text": [
      "Starting experimental run with id: 21. \n"
     ]
    },
    {
     "name": "stdout",
     "output_type": "stream",
     "text": [
      "Starting experimental run with id: 22. \n"
     ]
    },
    {
     "name": "stdout",
     "output_type": "stream",
     "text": [
      "Starting experimental run with id: 23. \n"
     ]
    },
    {
     "name": "stdout",
     "output_type": "stream",
     "text": [
      "Starting experimental run with id: 24. \n"
     ]
    },
    {
     "name": "stdout",
     "output_type": "stream",
     "text": [
      "Starting experimental run with id: 25. \n"
     ]
    },
    {
     "name": "stdout",
     "output_type": "stream",
     "text": [
      "Starting experimental run with id: 26. \n"
     ]
    },
    {
     "name": "stdout",
     "output_type": "stream",
     "text": [
      "Starting experimental run with id: 27. \n"
     ]
    },
    {
     "name": "stdout",
     "output_type": "stream",
     "text": [
      "Starting experimental run with id: 28. \n"
     ]
    }
   ],
   "source": [
    "sizes = [1,500,1000,2000,3000,4000,5000]\n",
    "nreps = 100\n",
    "t_numeric = []\n",
    "t_numeric_add = []\n",
    "t_numeric_run_ids = []\n",
    "t_array = []\n",
    "t_array_add = []\n",
    "t_array_run_ids = []\n",
    "for size in sizes:\n",
    "    tn, tna, run_id_n =  insert_data('numeric', size, nreps=nreps)\n",
    "    t_numeric.append(tn)\n",
    "    t_numeric_add.append(tna)\n",
    "    t_numeric_run_ids.append(run_id_n)\n",
    "\n",
    "    ta, taa, run_id_a =  insert_data('array', size, nreps=nreps)\n",
    "    t_array.append(ta)\n",
    "    t_array_add.append(taa)\n",
    "    t_array_run_ids.append(run_id_a)"
   ]
  },
  {
   "cell_type": "code",
   "execution_count": 8,
   "metadata": {
    "scrolled": true
   },
   "outputs": [
    {
     "data": {
      "image/png": "[encoded data removed]",
      "text/plain": [
       "<Figure size 432x288 with 1 Axes>"
      ]
     },
     "metadata": {
      "needs_background": "light"
     },
     "output_type": "display_data"
    }
   ],
   "source": [
    "fig, ax = plt.subplots(1,1)\n",
    "ax.plot(sizes, t_numeric, 'o-', label='Inserting row-by-row')\n",
    "ax.plot(sizes, t_numeric_add, 'o-', label='Inserting row-by-row: add_result only')\n",
    "ax.plot(sizes, t_array, 'd-', label='Inserting as binary blob')\n",
    "ax.plot(sizes, t_array_add, 'd-', label='Inserting as binary blob: add_result only')\n",
    "ax.legend()\n",
    "ax.set_xlabel('Array length')\n",
    "ax.set_ylabel('Time (s)')\n",
    "fig.tight_layout()"
   ]
  },
  {
   "cell_type": "markdown",
   "metadata": {},
   "source": [
    "However, as we increase the length of the experiment, as seen here by repeating the insertion 100 times, we see a big difference between inserting values of the data row-by-row and inserting it as a binary blob."
   ]
  },
  {
   "cell_type": "markdown",
   "metadata": {},
   "source": [
    "## Loading the data "
   ]
  },
  {
   "cell_type": "code",
   "execution_count": 9,
   "metadata": {},
   "outputs": [],
   "source": [
    "from qcodes.dataset.data_set import load_by_id\n",
    "from qcodes.dataset.data_export import get_data_by_id"
   ]
  },
  {
   "cell_type": "markdown",
   "metadata": {},
   "source": [
    "As usual you can load the data by using the ``load_by_id`` function but you will notice that the different storage methods\n",
    "are reflected in shape of the data as it is retrieved. "
   ]
  },
  {
   "cell_type": "code",
   "execution_count": 10,
   "metadata": {},
   "outputs": [],
   "source": [
    "run_id_n = t_numeric_run_ids[0]\n",
    "run_id_a = t_array_run_ids[0]"
   ]
  },
  {
   "cell_type": "code",
   "execution_count": 11,
   "metadata": {
    "scrolled": true
   },
   "outputs": [
    {
     "data": {
      "text/plain": [
       "{'x1': {'x1': array([0.53416258, 0.53416258, 0.62851312, 0.62851312, 0.07665554,\n",
       "         0.07665554, 0.25442692, 0.25442692, 0.82610343, 0.82610343,\n",
       "         0.30257048, 0.30257048, 0.14494457, 0.14494457, 0.70997647,\n",
       "         0.70997647, 0.35768277, 0.35768277, 0.81117338, 0.81117338,\n",
       "         0.44064988, 0.44064988, 0.80555542, 0.80555542, 0.2145205 ,\n",
       "         0.2145205 , 0.58443299, 0.58443299, 0.0242275 , 0.0242275 ,\n",
       "         0.58897351, 0.58897351, 0.69311345, 0.69311345, 0.33090397,\n",
       "         0.33090397, 0.89325818, 0.89325818, 0.98959199, 0.98959199,\n",
       "         0.79145871, 0.79145871, 0.11069283, 0.11069283, 0.30310221,\n",
       "         0.30310221, 0.75820634, 0.75820634, 0.2606324 , 0.2606324 ,\n",
       "         0.27679479, 0.27679479, 0.43082688, 0.43082688, 0.30159323,\n",
       "         0.30159323, 0.11652776, 0.11652776, 0.15054026, 0.15054026,\n",
       "         0.28980379, 0.28980379, 0.22713737, 0.22713737, 0.09382634,\n",
       "         0.09382634, 0.82228196, 0.82228196, 0.64067132, 0.64067132,\n",
       "         0.40609892, 0.40609892, 0.31243861, 0.31243861, 0.08946008,\n",
       "         0.08946008, 0.64890745, 0.64890745, 0.97825992, 0.97825992,\n",
       "         0.17760259, 0.17760259, 0.97918163, 0.97918163, 0.7096794 ,\n",
       "         0.7096794 , 0.29200702, 0.29200702, 0.08196665, 0.08196665,\n",
       "         0.04286028, 0.04286028, 0.42196343, 0.42196343, 0.02908681,\n",
       "         0.02908681, 0.82733438, 0.82733438, 0.81247847, 0.81247847,\n",
       "         0.21610924, 0.21610924, 0.56957244, 0.56957244, 0.8876581 ,\n",
       "         0.8876581 , 0.50543596, 0.50543596, 0.61676634, 0.61676634,\n",
       "         0.97465854, 0.97465854, 0.44626051, 0.44626051, 0.4398234 ,\n",
       "         0.4398234 , 0.78856135, 0.78856135, 0.86732831, 0.86732831,\n",
       "         0.12122826, 0.12122826, 0.66357385, 0.66357385, 0.34266745,\n",
       "         0.34266745, 0.49148068, 0.49148068, 0.51997933, 0.51997933,\n",
       "         0.38214362, 0.38214362, 0.04139995, 0.04139995, 0.28072629,\n",
       "         0.28072629, 0.90581087, 0.90581087, 0.17301543, 0.17301543,\n",
       "         0.81662568, 0.81662568, 0.87187393, 0.87187393, 0.92834449,\n",
       "         0.92834449, 0.2638324 , 0.2638324 , 0.34458282, 0.34458282,\n",
       "         0.50556052, 0.50556052, 0.87224007, 0.87224007, 0.39792163,\n",
       "         0.39792163, 0.75925617, 0.75925617, 0.8958283 , 0.8958283 ,\n",
       "         0.84887996, 0.84887996, 0.9861339 , 0.9861339 , 0.25751686,\n",
       "         0.25751686, 0.95854751, 0.95854751, 0.62260645, 0.62260645,\n",
       "         0.41253372, 0.41253372, 0.179971  , 0.179971  , 0.71302669,\n",
       "         0.71302669, 0.02483985, 0.02483985, 0.90869517, 0.90869517,\n",
       "         0.08356516, 0.08356516, 0.07346947, 0.07346947, 0.11107892,\n",
       "         0.11107892, 0.66624995, 0.66624995, 0.12722251, 0.12722251,\n",
       "         0.92502816, 0.92502816, 0.62864843, 0.62864843, 0.68934434,\n",
       "         0.68934434, 0.40416022, 0.40416022, 0.3257948 , 0.3257948 ])}}"
      ]
     },
     "execution_count": 11,
     "metadata": {},
     "output_type": "execute_result"
    }
   ],
   "source": [
    "ds = load_by_id(run_id_n)\n",
    "ds.get_parameter_data('x1')"
   ]
  },
  {
   "cell_type": "markdown",
   "metadata": {},
   "source": [
    "And a dataset stored as binary arrays"
   ]
  },
  {
   "cell_type": "code",
   "execution_count": 12,
   "metadata": {
    "scrolled": true
   },
   "outputs": [
    {
     "data": {
      "text/plain": [
       "{'x1': {'x1': array([[0.28694253],\n",
       "         [0.28694253],\n",
       "         [0.15644583],\n",
       "         [0.15644583],\n",
       "         [0.66799242],\n",
       "         [0.66799242],\n",
       "         [0.59233425],\n",
       "         [0.59233425],\n",
       "         [0.39029016],\n",
       "         [0.39029016],\n",
       "         [0.10215135],\n",
       "         [0.10215135],\n",
       "         [0.69029277],\n",
       "         [0.69029277],\n",
       "         [0.85468344],\n",
       "         [0.85468344],\n",
       "         [0.08256268],\n",
       "         [0.08256268],\n",
       "         [0.3934032 ],\n",
       "         [0.3934032 ],\n",
       "         [0.61472208],\n",
       "         [0.61472208],\n",
       "         [0.03266963],\n",
       "         [0.03266963],\n",
       "         [0.47139949],\n",
       "         [0.47139949],\n",
       "         [0.35316503],\n",
       "         [0.35316503],\n",
       "         [0.69841445],\n",
       "         [0.69841445],\n",
       "         [0.5893351 ],\n",
       "         [0.5893351 ],\n",
       "         [0.84732765],\n",
       "         [0.84732765],\n",
       "         [0.02692358],\n",
       "         [0.02692358],\n",
       "         [0.13722664],\n",
       "         [0.13722664],\n",
       "         [0.72396477],\n",
       "         [0.72396477],\n",
       "         [0.96504124],\n",
       "         [0.96504124],\n",
       "         [0.58135414],\n",
       "         [0.58135414],\n",
       "         [0.02806946],\n",
       "         [0.02806946],\n",
       "         [0.52264083],\n",
       "         [0.52264083],\n",
       "         [0.03924711],\n",
       "         [0.03924711],\n",
       "         [0.29050557],\n",
       "         [0.29050557],\n",
       "         [0.86921176],\n",
       "         [0.86921176],\n",
       "         [0.02939397],\n",
       "         [0.02939397],\n",
       "         [0.00642372],\n",
       "         [0.00642372],\n",
       "         [0.09861244],\n",
       "         [0.09861244],\n",
       "         [0.92666336],\n",
       "         [0.92666336],\n",
       "         [0.9272312 ],\n",
       "         [0.9272312 ],\n",
       "         [0.27394354],\n",
       "         [0.27394354],\n",
       "         [0.09156611],\n",
       "         [0.09156611],\n",
       "         [0.33563907],\n",
       "         [0.33563907],\n",
       "         [0.39851544],\n",
       "         [0.39851544],\n",
       "         [0.04534494],\n",
       "         [0.04534494],\n",
       "         [0.51726296],\n",
       "         [0.51726296],\n",
       "         [0.46712072],\n",
       "         [0.46712072],\n",
       "         [0.28322263],\n",
       "         [0.28322263],\n",
       "         [0.81193463],\n",
       "         [0.81193463],\n",
       "         [0.88211919],\n",
       "         [0.88211919],\n",
       "         [0.95801472],\n",
       "         [0.95801472],\n",
       "         [0.18595105],\n",
       "         [0.18595105],\n",
       "         [0.37545575],\n",
       "         [0.37545575],\n",
       "         [0.85138518],\n",
       "         [0.85138518],\n",
       "         [0.33662273],\n",
       "         [0.33662273],\n",
       "         [0.95372431],\n",
       "         [0.95372431],\n",
       "         [0.69156967],\n",
       "         [0.69156967],\n",
       "         [0.25560189],\n",
       "         [0.25560189],\n",
       "         [0.93785203],\n",
       "         [0.93785203],\n",
       "         [0.12808362],\n",
       "         [0.12808362],\n",
       "         [0.09696389],\n",
       "         [0.09696389],\n",
       "         [0.50054982],\n",
       "         [0.50054982],\n",
       "         [0.06353731],\n",
       "         [0.06353731],\n",
       "         [0.98797228],\n",
       "         [0.98797228],\n",
       "         [0.35344235],\n",
       "         [0.35344235],\n",
       "         [0.65110628],\n",
       "         [0.65110628],\n",
       "         [0.88795555],\n",
       "         [0.88795555],\n",
       "         [0.60325655],\n",
       "         [0.60325655],\n",
       "         [0.17395873],\n",
       "         [0.17395873],\n",
       "         [0.73588046],\n",
       "         [0.73588046],\n",
       "         [0.55051093],\n",
       "         [0.55051093],\n",
       "         [0.78338763],\n",
       "         [0.78338763],\n",
       "         [0.15120648],\n",
       "         [0.15120648],\n",
       "         [0.07315676],\n",
       "         [0.07315676],\n",
       "         [0.58884667],\n",
       "         [0.58884667],\n",
       "         [0.72201677],\n",
       "         [0.72201677],\n",
       "         [0.83771097],\n",
       "         [0.83771097],\n",
       "         [0.46495244],\n",
       "         [0.46495244],\n",
       "         [0.27023208],\n",
       "         [0.27023208],\n",
       "         [0.3240861 ],\n",
       "         [0.3240861 ],\n",
       "         [0.09719613],\n",
       "         [0.09719613],\n",
       "         [0.76827206],\n",
       "         [0.76827206],\n",
       "         [0.17697112],\n",
       "         [0.17697112],\n",
       "         [0.22306291],\n",
       "         [0.22306291],\n",
       "         [0.9368652 ],\n",
       "         [0.9368652 ],\n",
       "         [0.07519377],\n",
       "         [0.07519377],\n",
       "         [0.5463517 ],\n",
       "         [0.5463517 ],\n",
       "         [0.99971922],\n",
       "         [0.99971922],\n",
       "         [0.26015753],\n",
       "         [0.26015753],\n",
       "         [0.20387193],\n",
       "         [0.20387193],\n",
       "         [0.50784218],\n",
       "         [0.50784218],\n",
       "         [0.93710466],\n",
       "         [0.93710466],\n",
       "         [0.24811512],\n",
       "         [0.24811512],\n",
       "         [0.82397806],\n",
       "         [0.82397806],\n",
       "         [0.39966514],\n",
       "         [0.39966514],\n",
       "         [0.49231739],\n",
       "         [0.49231739],\n",
       "         [0.56511024],\n",
       "         [0.56511024],\n",
       "         [0.05656779],\n",
       "         [0.05656779],\n",
       "         [0.11532124],\n",
       "         [0.11532124],\n",
       "         [0.01980814],\n",
       "         [0.01980814],\n",
       "         [0.05022825],\n",
       "         [0.05022825],\n",
       "         [0.71282371],\n",
       "         [0.71282371],\n",
       "         [0.5256808 ],\n",
       "         [0.5256808 ],\n",
       "         [0.51895494],\n",
       "         [0.51895494],\n",
       "         [0.68174438],\n",
       "         [0.68174438],\n",
       "         [0.08052602],\n",
       "         [0.08052602],\n",
       "         [0.95198919],\n",
       "         [0.95198919],\n",
       "         [0.60502483],\n",
       "         [0.60502483]])}}"
      ]
     },
     "execution_count": 12,
     "metadata": {},
     "output_type": "execute_result"
    }
   ],
   "source": [
    "ds = load_by_id(run_id_a)\n",
    "ds.get_parameter_data('x1')"
   ]
  },
  {
   "cell_type": "code",
   "execution_count": null,
   "metadata": {},
   "outputs": [],
   "source": []
  }
 ],
 "metadata": {
  "kernelspec": {
   "display_name": "Python 3",
   "language": "python",
   "name": "python3"
  },
  "language_info": {
   "codemirror_mode": {
    "name": "ipython",
    "version": 3
   },
   "file_extension": ".py",
   "mimetype": "text/x-python",
   "name": "python",
   "nbconvert_exporter": "python",
   "pygments_lexer": "ipython3",
   "version": "3.7.7"
  },
  "nbsphinx": {
   "timeout": 600
  },
  "toc": {
   "base_numbering": 1,
   "nav_menu": {},
   "number_sections": true,
   "sideBar": true,
   "skip_h1_title": false,
   "title_cell": "Table of Contents",
   "title_sidebar": "Contents",
   "toc_cell": false,
   "toc_position": {},
   "toc_section_display": true,
   "toc_window_display": false
  },
  "varInspector": {
   "cols": {
    "lenName": 16,
    "lenType": 16,
    "lenVar": 40
   },
   "kernels_config": {
    "python": {
     "delete_cmd_postfix": "",
     "delete_cmd_prefix": "del ",
     "library": "var_list.py",
     "varRefreshCmd": "print(var_dic_list())"
    },
    "r": {
     "delete_cmd_postfix": ") ",
     "delete_cmd_prefix": "rm(",
     "library": "var_list.r",
     "varRefreshCmd": "cat(var_dic_list()) "
    }
   },
   "types_to_exclude": [
    "module",
    "function",
    "builtin_function_or_method",
    "instance",
    "_Feature"
   ],
   "window_display": false
  }
 },
 "nbformat": 4,
 "nbformat_minor": 2
}
