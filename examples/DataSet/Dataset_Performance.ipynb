{
 "cells": [
  {
   "cell_type": "markdown",
   "metadata": {},
   "source": [
    "# DataSet Performance\n",
    "\n",
    "This notebook shows the trade-off between inserting data into a database row-by-row and as binary blobs. Inserting the data row-by-row means that we have direct access to all the data and may perform queries directly on the values of the data. On the other hand, as we shall see, this is much slower than inserting the data directly as binary blobs."
   ]
  },
  {
   "cell_type": "markdown",
   "metadata": {},
   "source": [
    "First, we choose a new location for the database to ensure that we don't add a bunch of benchmarking data to the default one."
   ]
  },
  {
   "cell_type": "code",
   "execution_count": 1,
   "metadata": {
    "execution": {
     "iopub.execute_input": "2020-09-22T06:55:18.214096Z",
     "iopub.status.busy": "2020-09-22T06:55:18.213337Z",
     "iopub.status.idle": "2020-09-22T06:55:19.299749Z",
     "shell.execute_reply": "2020-09-22T06:55:19.299138Z"
    }
   },
   "outputs": [
    {
     "name": "stdout",
     "output_type": "stream",
     "text": [
      "Logging hadn't been started.\n",
      "Activating auto-logging. Current session state plus future input saved.\n",
      "Filename       : /home/vsts/.qcodes/logs/command_history.log\n",
      "Mode           : append\n",
      "Output logging : True\n",
      "Raw input log  : False\n",
      "Timestamping   : True\n",
      "State          : active\n"
     ]
    },
    {
     "name": "stdout",
     "output_type": "stream",
     "text": [
      "Qcodes Logfile : /home/vsts/.qcodes/logs/200922-18611-qcodes.log\n"
     ]
    }
   ],
   "source": [
    "import os\n",
    "cwd = os.getcwd()\n",
    "import qcodes as qc\n",
    "qc.config[\"core\"][\"db_location\"] = os.path.join(cwd, 'testing.db')\n"
   ]
  },
  {
   "cell_type": "code",
   "execution_count": 2,
   "metadata": {
    "execution": {
     "iopub.execute_input": "2020-09-22T06:55:19.306560Z",
     "iopub.status.busy": "2020-09-22T06:55:19.305063Z",
     "iopub.status.idle": "2020-09-22T06:55:19.484165Z",
     "shell.execute_reply": "2020-09-22T06:55:19.483506Z"
    }
   },
   "outputs": [],
   "source": [
    "%matplotlib inline\n",
    "import time\n",
    "import matplotlib.pyplot as plt\n",
    "import numpy as np\n",
    "\n",
    "import qcodes as qc\n",
    "from qcodes.instrument.parameter import ManualParameter\n",
    "from qcodes.dataset.experiment_container import (Experiment,\n",
    "                                                 load_last_experiment,\n",
    "                                                 new_experiment)\n",
    "from qcodes.dataset.sqlite.database import initialise_database\n",
    "from qcodes import load_or_create_experiment\n",
    "from qcodes.dataset.measurements import Measurement"
   ]
  },
  {
   "cell_type": "code",
   "execution_count": 3,
   "metadata": {
    "execution": {
     "iopub.execute_input": "2020-09-22T06:55:19.488880Z",
     "iopub.status.busy": "2020-09-22T06:55:19.488072Z",
     "iopub.status.idle": "2020-09-22T06:55:19.599413Z",
     "shell.execute_reply": "2020-09-22T06:55:19.598942Z"
    }
   },
   "outputs": [
    {
     "name": "stdout",
     "output_type": "stream",
     "text": [
      "\r",
      "0it [00:00, ?it/s]"
     ]
    },
    {
     "name": "stdout",
     "output_type": "stream",
     "text": [
      "\r",
      "Upgrading database; v0 -> v1: : 0it [00:00, ?it/s]"
     ]
    },
    {
     "name": "stdout",
     "output_type": "stream",
     "text": [
      "\r",
      "Upgrading database; v0 -> v1: : 0it [00:00, ?it/s]"
     ]
    },
    {
     "name": "stdout",
     "output_type": "stream",
     "text": [
      "\n",
      "\r",
      "  0%|          | 0/1 [00:00<?, ?it/s]"
     ]
    },
    {
     "name": "stdout",
     "output_type": "stream",
     "text": [
      "\r",
      "Upgrading database; v1 -> v2:   0%|          | 0/1 [00:00<?, ?it/s]"
     ]
    },
    {
     "name": "stdout",
     "output_type": "stream",
     "text": [
      "\r",
      "Upgrading database; v1 -> v2: 100%|██████████| 1/1 [00:00<00:00, 453.10it/s]"
     ]
    },
    {
     "name": "stdout",
     "output_type": "stream",
     "text": [
      "\n",
      "\r",
      "0it [00:00, ?it/s]"
     ]
    },
    {
     "name": "stdout",
     "output_type": "stream",
     "text": [
      "\r",
      "Upgrading database; v2 -> v3: : 0it [00:00, ?it/s]"
     ]
    },
    {
     "name": "stdout",
     "output_type": "stream",
     "text": [
      "\r",
      "Upgrading database; v2 -> v3: : 0it [00:00, ?it/s]"
     ]
    },
    {
     "name": "stdout",
     "output_type": "stream",
     "text": [
      "\n",
      "\r",
      "0it [00:00, ?it/s]"
     ]
    },
    {
     "name": "stdout",
     "output_type": "stream",
     "text": [
      "\r",
      "Upgrading database; v3 -> v4: : 0it [00:00, ?it/s]"
     ]
    },
    {
     "name": "stdout",
     "output_type": "stream",
     "text": [
      "\r",
      "Upgrading database; v3 -> v4: : 0it [00:00, ?it/s]"
     ]
    },
    {
     "name": "stdout",
     "output_type": "stream",
     "text": [
      "\n",
      "\r",
      "  0%|          | 0/1 [00:00<?, ?it/s]"
     ]
    },
    {
     "name": "stdout",
     "output_type": "stream",
     "text": [
      "\r",
      "Upgrading database; v4 -> v5:   0%|          | 0/1 [00:00<?, ?it/s]"
     ]
    },
    {
     "name": "stdout",
     "output_type": "stream",
     "text": [
      "\r",
      "Upgrading database; v4 -> v5: 100%|██████████| 1/1 [00:00<00:00, 416.27it/s]"
     ]
    },
    {
     "name": "stdout",
     "output_type": "stream",
     "text": [
      "\n",
      "\r",
      "0it [00:00, ?it/s]"
     ]
    },
    {
     "name": "stdout",
     "output_type": "stream",
     "text": [
      "\r",
      "Upgrading database; v5 -> v6: : 0it [00:00, ?it/s]"
     ]
    },
    {
     "name": "stdout",
     "output_type": "stream",
     "text": [
      "\r",
      "Upgrading database; v5 -> v6: : 0it [00:00, ?it/s]"
     ]
    },
    {
     "name": "stdout",
     "output_type": "stream",
     "text": [
      "\n",
      "\r",
      "  0%|          | 0/1 [00:00<?, ?it/s]"
     ]
    },
    {
     "name": "stdout",
     "output_type": "stream",
     "text": [
      "\r",
      "Upgrading database; v6 -> v7:   0%|          | 0/1 [00:00<?, ?it/s]"
     ]
    },
    {
     "name": "stdout",
     "output_type": "stream",
     "text": [
      "\r",
      "Upgrading database; v6 -> v7: 100%|██████████| 1/1 [00:00<00:00, 395.20it/s]"
     ]
    },
    {
     "name": "stdout",
     "output_type": "stream",
     "text": [
      "\n",
      "\r",
      "  0%|          | 0/1 [00:00<?, ?it/s]"
     ]
    },
    {
     "name": "stdout",
     "output_type": "stream",
     "text": [
      "\r",
      "Upgrading database; v7 -> v8:   0%|          | 0/1 [00:00<?, ?it/s]"
     ]
    },
    {
     "name": "stdout",
     "output_type": "stream",
     "text": [
      "\r",
      "Upgrading database; v7 -> v8: 100%|██████████| 1/1 [00:00<00:00, 326.84it/s]"
     ]
    },
    {
     "name": "stdout",
     "output_type": "stream",
     "text": [
      "\n",
      "\r",
      "  0%|          | 0/1 [00:00<?, ?it/s]"
     ]
    },
    {
     "name": "stdout",
     "output_type": "stream",
     "text": [
      "\r",
      "Upgrading database; v8 -> v9:   0%|          | 0/1 [00:00<?, ?it/s]"
     ]
    },
    {
     "name": "stdout",
     "output_type": "stream",
     "text": [
      "\r",
      "Upgrading database; v8 -> v9: 100%|██████████| 1/1 [00:00<00:00, 924.26it/s]"
     ]
    },
    {
     "name": "stdout",
     "output_type": "stream",
     "text": [
      "\n"
     ]
    }
   ],
   "source": [
    "initialise_database()\n",
    "exp = load_or_create_experiment(experiment_name='tutorial_exp', sample_name=\"no sample\")"
   ]
  },
  {
   "cell_type": "markdown",
   "metadata": {},
   "source": [
    "Here, we define a simple function to benchmark the time it takes to insert n points with either numeric or array data type.\n",
    "We will compare both the time used to call ``add_result`` and the time used for the full measurement."
   ]
  },
  {
   "cell_type": "code",
   "execution_count": 4,
   "metadata": {
    "execution": {
     "iopub.execute_input": "2020-09-22T06:55:19.607943Z",
     "iopub.status.busy": "2020-09-22T06:55:19.606972Z",
     "iopub.status.idle": "2020-09-22T06:55:19.608721Z",
     "shell.execute_reply": "2020-09-22T06:55:19.609257Z"
    }
   },
   "outputs": [],
   "source": [
    "def insert_data(paramtype, npoints, nreps=1):\n",
    "\n",
    "    meas = Measurement(exp=exp)\n",
    "\n",
    "    x1 = ManualParameter('x1')\n",
    "    x2 = ManualParameter('x2')\n",
    "    x3 = ManualParameter('x3')\n",
    "    y1 = ManualParameter('y1')\n",
    "    y2 = ManualParameter('y2')\n",
    "\n",
    "    meas.register_parameter(x1, paramtype=paramtype)\n",
    "    meas.register_parameter(x2, paramtype=paramtype)\n",
    "    meas.register_parameter(x3, paramtype=paramtype)\n",
    "    meas.register_parameter(y1, setpoints=[x1, x2, x3],\n",
    "                            paramtype=paramtype)\n",
    "    meas.register_parameter(y2, setpoints=[x1, x2, x3],\n",
    "                            paramtype=paramtype)\n",
    "    start = time.perf_counter()\n",
    "    with meas.run() as datasaver:\n",
    "        start_adding = time.perf_counter()\n",
    "        for i in range(nreps):\n",
    "            datasaver.add_result((x1, np.random.rand(npoints)),\n",
    "                                 (x2, np.random.rand(npoints)),\n",
    "                                 (x3, np.random.rand(npoints)),\n",
    "                                 (y1, np.random.rand(npoints)),\n",
    "                                 (y2, np.random.rand(npoints)))\n",
    "        stop_adding = time.perf_counter()\n",
    "        run_id = datasaver.run_id\n",
    "    stop = time.perf_counter()\n",
    "    tot_time = stop - start\n",
    "    add_time = stop_adding - start_adding\n",
    "    return tot_time, add_time, run_id"
   ]
  },
  {
   "cell_type": "markdown",
   "metadata": {},
   "source": [
    "## Comparison between numeric/array data and binary blob"
   ]
  },
  {
   "cell_type": "markdown",
   "metadata": {},
   "source": [
    "### Case1: Short experiment time"
   ]
  },
  {
   "cell_type": "code",
   "execution_count": 5,
   "metadata": {
    "execution": {
     "iopub.execute_input": "2020-09-22T06:55:19.617221Z",
     "iopub.status.busy": "2020-09-22T06:55:19.616659Z",
     "iopub.status.idle": "2020-09-22T06:55:20.499174Z",
     "shell.execute_reply": "2020-09-22T06:55:20.499985Z"
    }
   },
   "outputs": [
    {
     "name": "stdout",
     "output_type": "stream",
     "text": [
      "Starting experimental run with id: 1. \n",
      "Starting experimental run with id: 2. \n",
      "Starting experimental run with id: 3. \n",
      "Starting experimental run with id: 4. \n",
      "Starting experimental run with id: 5. \n"
     ]
    },
    {
     "name": "stdout",
     "output_type": "stream",
     "text": [
      "Starting experimental run with id: 6. \n"
     ]
    },
    {
     "name": "stdout",
     "output_type": "stream",
     "text": [
      "Starting experimental run with id: 7. \n"
     ]
    },
    {
     "name": "stdout",
     "output_type": "stream",
     "text": [
      "Starting experimental run with id: 8. \n",
      "Starting experimental run with id: 9. \n"
     ]
    },
    {
     "name": "stdout",
     "output_type": "stream",
     "text": [
      "Starting experimental run with id: 10. \n",
      "Starting experimental run with id: 11. \n"
     ]
    },
    {
     "name": "stdout",
     "output_type": "stream",
     "text": [
      "Starting experimental run with id: 12. \n"
     ]
    },
    {
     "name": "stdout",
     "output_type": "stream",
     "text": [
      "Starting experimental run with id: 13. \n"
     ]
    },
    {
     "name": "stdout",
     "output_type": "stream",
     "text": [
      "Starting experimental run with id: 14. \n"
     ]
    }
   ],
   "source": [
    "sizes = [1,500,1000,2000,3000,4000,5000]\n",
    "t_numeric = []\n",
    "t_numeric_add = []\n",
    "t_array = []\n",
    "t_array_add = []\n",
    "for size in sizes:\n",
    "    tn, tna, run_id_n =  insert_data('numeric', size)\n",
    "    t_numeric.append(tn)\n",
    "    t_numeric_add.append(tna)\n",
    "\n",
    "    ta, taa, run_id_a =  insert_data('array', size)\n",
    "    t_array.append(ta)\n",
    "    t_array_add.append(taa)"
   ]
  },
  {
   "cell_type": "code",
   "execution_count": 6,
   "metadata": {
    "execution": {
     "iopub.execute_input": "2020-09-22T06:55:20.518413Z",
     "iopub.status.busy": "2020-09-22T06:55:20.516597Z",
     "iopub.status.idle": "2020-09-22T06:55:20.747397Z",
     "shell.execute_reply": "2020-09-22T06:55:20.746452Z"
    }
   },
   "outputs": [
    {
     "data": {
      "image/png": "[encoded data removed]",
      "text/plain": [
       "<Figure size 432x288 with 1 Axes>"
      ]
     },
     "metadata": {
      "needs_background": "light"
     },
     "output_type": "display_data"
    }
   ],
   "source": [
    "fig, ax = plt.subplots(1,1)\n",
    "ax.plot(sizes, t_numeric, 'o-', label='Inserting row-by-row')\n",
    "ax.plot(sizes, t_numeric_add, 'o-', label='Inserting row-by-row: add_result only')\n",
    "ax.plot(sizes, t_array, 'd-', label='Inserting as binary blob')\n",
    "ax.plot(sizes, t_array_add, 'd-', label='Inserting as binary blob: add_result only')\n",
    "ax.legend()\n",
    "ax.set_xlabel('Array length')\n",
    "ax.set_ylabel('Time (s)')\n",
    "fig.tight_layout()"
   ]
  },
  {
   "cell_type": "markdown",
   "metadata": {},
   "source": [
    "As shown in the latter figure, the time to setup and and close the experiment is approximately 0.4 sec. In case of small array sizes, the difference between inserting values of data as arrays and inserting them row-by-row is relatively unimportant. At larger array sizes, i.e. above 10000 points, the cost of writing data as individual datapoints starts to become important.\n"
   ]
  },
  {
   "cell_type": "markdown",
   "metadata": {},
   "source": [
    "### Case2: Long experiment time "
   ]
  },
  {
   "cell_type": "code",
   "execution_count": 7,
   "metadata": {
    "execution": {
     "iopub.execute_input": "2020-09-22T06:55:20.755205Z",
     "iopub.status.busy": "2020-09-22T06:55:20.753998Z",
     "iopub.status.idle": "2020-09-22T06:56:20.671990Z",
     "shell.execute_reply": "2020-09-22T06:56:20.670786Z"
    }
   },
   "outputs": [
    {
     "name": "stdout",
     "output_type": "stream",
     "text": [
      "Starting experimental run with id: 15. \n",
      "Starting experimental run with id: 16. \n",
      "Starting experimental run with id: 17. \n"
     ]
    },
    {
     "name": "stdout",
     "output_type": "stream",
     "text": [
      "Starting experimental run with id: 18. \n",
      "Starting experimental run with id: 19. \n"
     ]
    },
    {
     "name": "stdout",
     "output_type": "stream",
     "text": [
      "Starting experimental run with id: 20. \n"
     ]
    },
    {
     "name": "stdout",
     "output_type": "stream",
     "text": [
      "Starting experimental run with id: 21. \n"
     ]
    },
    {
     "name": "stdout",
     "output_type": "stream",
     "text": [
      "Starting experimental run with id: 22. \n"
     ]
    },
    {
     "name": "stdout",
     "output_type": "stream",
     "text": [
      "Starting experimental run with id: 23. \n"
     ]
    },
    {
     "name": "stdout",
     "output_type": "stream",
     "text": [
      "Starting experimental run with id: 24. \n"
     ]
    },
    {
     "name": "stdout",
     "output_type": "stream",
     "text": [
      "Starting experimental run with id: 25. \n"
     ]
    },
    {
     "name": "stdout",
     "output_type": "stream",
     "text": [
      "Starting experimental run with id: 26. \n"
     ]
    },
    {
     "name": "stdout",
     "output_type": "stream",
     "text": [
      "Starting experimental run with id: 27. \n"
     ]
    },
    {
     "name": "stdout",
     "output_type": "stream",
     "text": [
      "Starting experimental run with id: 28. \n"
     ]
    }
   ],
   "source": [
    "sizes = [1,500,1000,2000,3000,4000,5000]\n",
    "nreps = 100\n",
    "t_numeric = []\n",
    "t_numeric_add = []\n",
    "t_numeric_run_ids = []\n",
    "t_array = []\n",
    "t_array_add = []\n",
    "t_array_run_ids = []\n",
    "for size in sizes:\n",
    "    tn, tna, run_id_n =  insert_data('numeric', size, nreps=nreps)\n",
    "    t_numeric.append(tn)\n",
    "    t_numeric_add.append(tna)\n",
    "    t_numeric_run_ids.append(run_id_n)\n",
    "\n",
    "    ta, taa, run_id_a =  insert_data('array', size, nreps=nreps)\n",
    "    t_array.append(ta)\n",
    "    t_array_add.append(taa)\n",
    "    t_array_run_ids.append(run_id_a)"
   ]
  },
  {
   "cell_type": "code",
   "execution_count": 8,
   "metadata": {
    "execution": {
     "iopub.execute_input": "2020-09-22T06:56:20.696771Z",
     "iopub.status.busy": "2020-09-22T06:56:20.694050Z",
     "iopub.status.idle": "2020-09-22T06:56:20.947464Z",
     "shell.execute_reply": "2020-09-22T06:56:20.946746Z"
    },
    "scrolled": true
   },
   "outputs": [
    {
     "data": {
      "image/png": "[encoded data removed]",
      "text/plain": [
       "<Figure size 432x288 with 1 Axes>"
      ]
     },
     "metadata": {
      "needs_background": "light"
     },
     "output_type": "display_data"
    }
   ],
   "source": [
    "fig, ax = plt.subplots(1,1)\n",
    "ax.plot(sizes, t_numeric, 'o-', label='Inserting row-by-row')\n",
    "ax.plot(sizes, t_numeric_add, 'o-', label='Inserting row-by-row: add_result only')\n",
    "ax.plot(sizes, t_array, 'd-', label='Inserting as binary blob')\n",
    "ax.plot(sizes, t_array_add, 'd-', label='Inserting as binary blob: add_result only')\n",
    "ax.legend()\n",
    "ax.set_xlabel('Array length')\n",
    "ax.set_ylabel('Time (s)')\n",
    "fig.tight_layout()"
   ]
  },
  {
   "cell_type": "markdown",
   "metadata": {},
   "source": [
    "However, as we increase the length of the experiment, as seen here by repeating the insertion 100 times, we see a big difference between inserting values of the data row-by-row and inserting it as a binary blob."
   ]
  },
  {
   "cell_type": "markdown",
   "metadata": {},
   "source": [
    "## Loading the data "
   ]
  },
  {
   "cell_type": "code",
   "execution_count": 9,
   "metadata": {
    "execution": {
     "iopub.execute_input": "2020-09-22T06:56:20.952308Z",
     "iopub.status.busy": "2020-09-22T06:56:20.951377Z",
     "iopub.status.idle": "2020-09-22T06:56:20.956471Z",
     "shell.execute_reply": "2020-09-22T06:56:20.955551Z"
    }
   },
   "outputs": [],
   "source": [
    "from qcodes.dataset.data_set import load_by_id\n",
    "from qcodes.dataset.data_export import get_data_by_id"
   ]
  },
  {
   "cell_type": "markdown",
   "metadata": {},
   "source": [
    "As usual you can load the data by using the ``load_by_id`` function but you will notice that the different storage methods\n",
    "are reflected in shape of the data as it is retrieved. "
   ]
  },
  {
   "cell_type": "code",
   "execution_count": 10,
   "metadata": {
    "execution": {
     "iopub.execute_input": "2020-09-22T06:56:20.961780Z",
     "iopub.status.busy": "2020-09-22T06:56:20.961140Z",
     "iopub.status.idle": "2020-09-22T06:56:20.965160Z",
     "shell.execute_reply": "2020-09-22T06:56:20.964605Z"
    }
   },
   "outputs": [],
   "source": [
    "run_id_n = t_numeric_run_ids[0]\n",
    "run_id_a = t_array_run_ids[0]"
   ]
  },
  {
   "cell_type": "code",
   "execution_count": 11,
   "metadata": {
    "execution": {
     "iopub.execute_input": "2020-09-22T06:56:20.969055Z",
     "iopub.status.busy": "2020-09-22T06:56:20.967986Z",
     "iopub.status.idle": "2020-09-22T06:56:20.979167Z",
     "shell.execute_reply": "2020-09-22T06:56:20.978624Z"
    },
    "scrolled": true
   },
   "outputs": [
    {
     "data": {
      "text/plain": [
       "{'x1': {'x1': array([0.74786521, 0.74786521, 0.67566006, 0.67566006, 0.34021649,\n",
       "         0.34021649, 0.13373369, 0.13373369, 0.96683656, 0.96683656,\n",
       "         0.74593564, 0.74593564, 0.43055243, 0.43055243, 0.30065691,\n",
       "         0.30065691, 0.588964  , 0.588964  , 0.19686126, 0.19686126,\n",
       "         0.24337869, 0.24337869, 0.06806227, 0.06806227, 0.61545761,\n",
       "         0.61545761, 0.77941086, 0.77941086, 0.34154026, 0.34154026,\n",
       "         0.44119469, 0.44119469, 0.9371798 , 0.9371798 , 0.56367092,\n",
       "         0.56367092, 0.46192763, 0.46192763, 0.19014419, 0.19014419,\n",
       "         0.55833182, 0.55833182, 0.26873295, 0.26873295, 0.06213725,\n",
       "         0.06213725, 0.16597498, 0.16597498, 0.83697735, 0.83697735,\n",
       "         0.18642066, 0.18642066, 0.44695754, 0.44695754, 0.07202203,\n",
       "         0.07202203, 0.18768866, 0.18768866, 0.70856443, 0.70856443,\n",
       "         0.51004525, 0.51004525, 0.19892097, 0.19892097, 0.73795877,\n",
       "         0.73795877, 0.10913454, 0.10913454, 0.18776881, 0.18776881,\n",
       "         0.17546676, 0.17546676, 0.99891382, 0.99891382, 0.36272812,\n",
       "         0.36272812, 0.0397724 , 0.0397724 , 0.62662473, 0.62662473,\n",
       "         0.2908807 , 0.2908807 , 0.09812825, 0.09812825, 0.45731073,\n",
       "         0.45731073, 0.08619425, 0.08619425, 0.2105304 , 0.2105304 ,\n",
       "         0.0835497 , 0.0835497 , 0.97086531, 0.97086531, 0.19050655,\n",
       "         0.19050655, 0.82961821, 0.82961821, 0.12645354, 0.12645354,\n",
       "         0.92759863, 0.92759863, 0.15040916, 0.15040916, 0.40625734,\n",
       "         0.40625734, 0.75549697, 0.75549697, 0.02048573, 0.02048573,\n",
       "         0.71526792, 0.71526792, 0.30423974, 0.30423974, 0.92957748,\n",
       "         0.92957748, 0.43808172, 0.43808172, 0.67316357, 0.67316357,\n",
       "         0.54043971, 0.54043971, 0.23753942, 0.23753942, 0.93642529,\n",
       "         0.93642529, 0.38016365, 0.38016365, 0.62135323, 0.62135323,\n",
       "         0.10972946, 0.10972946, 0.15632044, 0.15632044, 0.94092687,\n",
       "         0.94092687, 0.31228835, 0.31228835, 0.16826533, 0.16826533,\n",
       "         0.81345479, 0.81345479, 0.81285815, 0.81285815, 0.66764386,\n",
       "         0.66764386, 0.3289944 , 0.3289944 , 0.46809334, 0.46809334,\n",
       "         0.32844378, 0.32844378, 0.42892679, 0.42892679, 0.41293254,\n",
       "         0.41293254, 0.82307548, 0.82307548, 0.31231751, 0.31231751,\n",
       "         0.6152293 , 0.6152293 , 0.20617435, 0.20617435, 0.36499123,\n",
       "         0.36499123, 0.62728133, 0.62728133, 0.24381015, 0.24381015,\n",
       "         0.88921935, 0.88921935, 0.31698695, 0.31698695, 0.58846295,\n",
       "         0.58846295, 0.03785154, 0.03785154, 0.47025949, 0.47025949,\n",
       "         0.0317463 , 0.0317463 , 0.72864516, 0.72864516, 0.64022038,\n",
       "         0.64022038, 0.92779023, 0.92779023, 0.79701022, 0.79701022,\n",
       "         0.01532804, 0.01532804, 0.62359894, 0.62359894, 0.41513679,\n",
       "         0.41513679, 0.97299959, 0.97299959, 0.51845393, 0.51845393])}}"
      ]
     },
     "execution_count": 1,
     "metadata": {},
     "output_type": "execute_result"
    }
   ],
   "source": [
    "ds = load_by_id(run_id_n)\n",
    "ds.get_parameter_data('x1')"
   ]
  },
  {
   "cell_type": "markdown",
   "metadata": {},
   "source": [
    "And a dataset stored as binary arrays"
   ]
  },
  {
   "cell_type": "code",
   "execution_count": 12,
   "metadata": {
    "execution": {
     "iopub.execute_input": "2020-09-22T06:56:20.982772Z",
     "iopub.status.busy": "2020-09-22T06:56:20.982217Z",
     "iopub.status.idle": "2020-09-22T06:56:21.053874Z",
     "shell.execute_reply": "2020-09-22T06:56:21.054544Z"
    },
    "scrolled": true
   },
   "outputs": [
    {
     "data": {
      "text/plain": [
       "{'x1': {'x1': array([[0.10642772],\n",
       "         [0.10642772],\n",
       "         [0.30338289],\n",
       "         [0.30338289],\n",
       "         [0.14806576],\n",
       "         [0.14806576],\n",
       "         [0.93456077],\n",
       "         [0.93456077],\n",
       "         [0.17491035],\n",
       "         [0.17491035],\n",
       "         [0.98898139],\n",
       "         [0.98898139],\n",
       "         [0.68775753],\n",
       "         [0.68775753],\n",
       "         [0.47579339],\n",
       "         [0.47579339],\n",
       "         [0.20705592],\n",
       "         [0.20705592],\n",
       "         [0.49053793],\n",
       "         [0.49053793],\n",
       "         [0.49304089],\n",
       "         [0.49304089],\n",
       "         [0.13674315],\n",
       "         [0.13674315],\n",
       "         [0.13716355],\n",
       "         [0.13716355],\n",
       "         [0.5238589 ],\n",
       "         [0.5238589 ],\n",
       "         [0.47547102],\n",
       "         [0.47547102],\n",
       "         [0.52155682],\n",
       "         [0.52155682],\n",
       "         [0.57200423],\n",
       "         [0.57200423],\n",
       "         [0.82364731],\n",
       "         [0.82364731],\n",
       "         [0.99261024],\n",
       "         [0.99261024],\n",
       "         [0.82430595],\n",
       "         [0.82430595],\n",
       "         [0.79442337],\n",
       "         [0.79442337],\n",
       "         [0.44408026],\n",
       "         [0.44408026],\n",
       "         [0.02585252],\n",
       "         [0.02585252],\n",
       "         [0.9544524 ],\n",
       "         [0.9544524 ],\n",
       "         [0.32732912],\n",
       "         [0.32732912],\n",
       "         [0.6373544 ],\n",
       "         [0.6373544 ],\n",
       "         [0.41873451],\n",
       "         [0.41873451],\n",
       "         [0.80988513],\n",
       "         [0.80988513],\n",
       "         [0.23030635],\n",
       "         [0.23030635],\n",
       "         [0.03802911],\n",
       "         [0.03802911],\n",
       "         [0.38431789],\n",
       "         [0.38431789],\n",
       "         [0.39183316],\n",
       "         [0.39183316],\n",
       "         [0.33919764],\n",
       "         [0.33919764],\n",
       "         [0.54200014],\n",
       "         [0.54200014],\n",
       "         [0.63816359],\n",
       "         [0.63816359],\n",
       "         [0.65377498],\n",
       "         [0.65377498],\n",
       "         [0.23591161],\n",
       "         [0.23591161],\n",
       "         [0.82728641],\n",
       "         [0.82728641],\n",
       "         [0.26972085],\n",
       "         [0.26972085],\n",
       "         [0.06059034],\n",
       "         [0.06059034],\n",
       "         [0.8313836 ],\n",
       "         [0.8313836 ],\n",
       "         [0.63138747],\n",
       "         [0.63138747],\n",
       "         [0.80587797],\n",
       "         [0.80587797],\n",
       "         [0.84330378],\n",
       "         [0.84330378],\n",
       "         [0.75458812],\n",
       "         [0.75458812],\n",
       "         [0.73881513],\n",
       "         [0.73881513],\n",
       "         [0.78216705],\n",
       "         [0.78216705],\n",
       "         [0.45234532],\n",
       "         [0.45234532],\n",
       "         [0.61477916],\n",
       "         [0.61477916],\n",
       "         [0.04020333],\n",
       "         [0.04020333],\n",
       "         [0.03763015],\n",
       "         [0.03763015],\n",
       "         [0.75479141],\n",
       "         [0.75479141],\n",
       "         [0.037482  ],\n",
       "         [0.037482  ],\n",
       "         [0.92679366],\n",
       "         [0.92679366],\n",
       "         [0.30647514],\n",
       "         [0.30647514],\n",
       "         [0.14676855],\n",
       "         [0.14676855],\n",
       "         [0.12050585],\n",
       "         [0.12050585],\n",
       "         [0.60724456],\n",
       "         [0.60724456],\n",
       "         [0.16435456],\n",
       "         [0.16435456],\n",
       "         [0.130321  ],\n",
       "         [0.130321  ],\n",
       "         [0.9694916 ],\n",
       "         [0.9694916 ],\n",
       "         [0.81574581],\n",
       "         [0.81574581],\n",
       "         [0.00425803],\n",
       "         [0.00425803],\n",
       "         [0.76024734],\n",
       "         [0.76024734],\n",
       "         [0.64687916],\n",
       "         [0.64687916],\n",
       "         [0.15856799],\n",
       "         [0.15856799],\n",
       "         [0.67078555],\n",
       "         [0.67078555],\n",
       "         [0.23713199],\n",
       "         [0.23713199],\n",
       "         [0.50267564],\n",
       "         [0.50267564],\n",
       "         [0.44711072],\n",
       "         [0.44711072],\n",
       "         [0.21935912],\n",
       "         [0.21935912],\n",
       "         [0.05799622],\n",
       "         [0.05799622],\n",
       "         [0.0130829 ],\n",
       "         [0.0130829 ],\n",
       "         [0.88082447],\n",
       "         [0.88082447],\n",
       "         [0.79072604],\n",
       "         [0.79072604],\n",
       "         [0.41866282],\n",
       "         [0.41866282],\n",
       "         [0.07742241],\n",
       "         [0.07742241],\n",
       "         [0.51028854],\n",
       "         [0.51028854],\n",
       "         [0.72286619],\n",
       "         [0.72286619],\n",
       "         [0.5661168 ],\n",
       "         [0.5661168 ],\n",
       "         [0.9530431 ],\n",
       "         [0.9530431 ],\n",
       "         [0.02783833],\n",
       "         [0.02783833],\n",
       "         [0.99764675],\n",
       "         [0.99764675],\n",
       "         [0.20549121],\n",
       "         [0.20549121],\n",
       "         [0.87472488],\n",
       "         [0.87472488],\n",
       "         [0.16012709],\n",
       "         [0.16012709],\n",
       "         [0.45977654],\n",
       "         [0.45977654],\n",
       "         [0.34260356],\n",
       "         [0.34260356],\n",
       "         [0.41447212],\n",
       "         [0.41447212],\n",
       "         [0.77892323],\n",
       "         [0.77892323],\n",
       "         [0.2519215 ],\n",
       "         [0.2519215 ],\n",
       "         [0.65920259],\n",
       "         [0.65920259],\n",
       "         [0.80411484],\n",
       "         [0.80411484],\n",
       "         [0.95147197],\n",
       "         [0.95147197],\n",
       "         [0.13062942],\n",
       "         [0.13062942],\n",
       "         [0.87002817],\n",
       "         [0.87002817],\n",
       "         [0.644643  ],\n",
       "         [0.644643  ],\n",
       "         [0.12149101],\n",
       "         [0.12149101],\n",
       "         [0.55451599],\n",
       "         [0.55451599],\n",
       "         [0.05124777],\n",
       "         [0.05124777]])}}"
      ]
     },
     "execution_count": 1,
     "metadata": {},
     "output_type": "execute_result"
    }
   ],
   "source": [
    "ds = load_by_id(run_id_a)\n",
    "ds.get_parameter_data('x1')"
   ]
  },
  {
   "cell_type": "code",
   "execution_count": null,
   "metadata": {},
   "outputs": [],
   "source": []
  }
 ],
 "metadata": {
  "kernelspec": {
   "display_name": "Python 3",
   "language": "python",
   "name": "python3"
  },
  "language_info": {
   "codemirror_mode": {
    "name": "ipython",
    "version": 3
   },
   "file_extension": ".py",
   "mimetype": "text/x-python",
   "name": "python",
   "nbconvert_exporter": "python",
   "pygments_lexer": "ipython3",
   "version": "3.7.7"
  },
  "nbsphinx": {
   "timeout": 600
  },
  "toc": {
   "base_numbering": 1,
   "nav_menu": {},
   "number_sections": true,
   "sideBar": true,
   "skip_h1_title": false,
   "title_cell": "Table of Contents",
   "title_sidebar": "Contents",
   "toc_cell": false,
   "toc_position": {},
   "toc_section_display": true,
   "toc_window_display": false
  },
  "varInspector": {
   "cols": {
    "lenName": 16,
    "lenType": 16,
    "lenVar": 40
   },
   "kernels_config": {
    "python": {
     "delete_cmd_postfix": "",
     "delete_cmd_prefix": "del ",
     "library": "var_list.py",
     "varRefreshCmd": "print(var_dic_list())"
    },
    "r": {
     "delete_cmd_postfix": ") ",
     "delete_cmd_prefix": "rm(",
     "library": "var_list.r",
     "varRefreshCmd": "cat(var_dic_list()) "
    }
   },
   "types_to_exclude": [
    "module",
    "function",
    "builtin_function_or_method",
    "instance",
    "_Feature"
   ],
   "window_display": false
  }
 },
 "nbformat": 4,
 "nbformat_minor": 2
}
