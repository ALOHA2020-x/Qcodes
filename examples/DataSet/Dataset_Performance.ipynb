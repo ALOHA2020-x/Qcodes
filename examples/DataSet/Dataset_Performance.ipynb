{
 "cells": [
  {
   "cell_type": "markdown",
   "metadata": {},
   "source": [
    "# DataSet Performance\n",
    "\n",
    "This notebook shows the trade-off between inserting data into a database row-by-row and as binary blobs. Inserting the data row-by-row means that we have direct access to all the data and may perform queries directly on the values of the data. On the other hand, as we shall see, this is much slower than inserting the data directly as binary blobs."
   ]
  },
  {
   "cell_type": "markdown",
   "metadata": {},
   "source": [
    "First, we choose a new location for the database to ensure that we don't add a bunch of benchmarking data to the default one."
   ]
  },
  {
   "cell_type": "code",
   "execution_count": 1,
   "metadata": {
    "execution": {
     "iopub.execute_input": "2021-01-25T07:34:01.298755Z",
     "iopub.status.busy": "2021-01-25T07:34:01.298241Z",
     "iopub.status.idle": "2021-01-25T07:34:02.339710Z",
     "shell.execute_reply": "2021-01-25T07:34:02.338789Z"
    }
   },
   "outputs": [
    {
     "name": "stdout",
     "output_type": "stream",
     "text": [
      "Logging hadn't been started.\n",
      "Activating auto-logging. Current session state plus future input saved.\n",
      "Filename       : /home/vsts/.qcodes/logs/command_history.log\n",
      "Mode           : append\n",
      "Output logging : True\n",
      "Raw input log  : False\n",
      "Timestamping   : True\n",
      "State          : active\n"
     ]
    },
    {
     "name": "stdout",
     "output_type": "stream",
     "text": [
      "Qcodes Logfile : /home/vsts/.qcodes/logs/210125-14146-qcodes.log\n"
     ]
    }
   ],
   "source": [
    "import os\n",
    "cwd = os.getcwd()\n",
    "import qcodes as qc\n",
    "qc.config[\"core\"][\"db_location\"] = os.path.join(cwd, 'testing.db')\n"
   ]
  },
  {
   "cell_type": "code",
   "execution_count": 2,
   "metadata": {
    "execution": {
     "iopub.execute_input": "2021-01-25T07:34:02.347102Z",
     "iopub.status.busy": "2021-01-25T07:34:02.345539Z",
     "iopub.status.idle": "2021-01-25T07:34:02.535810Z",
     "shell.execute_reply": "2021-01-25T07:34:02.536444Z"
    }
   },
   "outputs": [],
   "source": [
    "%matplotlib inline\n",
    "import time\n",
    "import matplotlib.pyplot as plt\n",
    "import numpy as np\n",
    "\n",
    "import qcodes as qc\n",
    "from qcodes.instrument.parameter import ManualParameter\n",
    "from qcodes.dataset.experiment_container import (Experiment,\n",
    "                                                 load_last_experiment,\n",
    "                                                 new_experiment)\n",
    "from qcodes.dataset.sqlite.database import initialise_database\n",
    "from qcodes import load_or_create_experiment\n",
    "from qcodes.dataset.measurements import Measurement"
   ]
  },
  {
   "cell_type": "code",
   "execution_count": 3,
   "metadata": {
    "execution": {
     "iopub.execute_input": "2021-01-25T07:34:02.540434Z",
     "iopub.status.busy": "2021-01-25T07:34:02.539632Z",
     "iopub.status.idle": "2021-01-25T07:34:02.649742Z",
     "shell.execute_reply": "2021-01-25T07:34:02.649260Z"
    }
   },
   "outputs": [
    {
     "name": "stdout",
     "output_type": "stream",
     "text": [
      "\r",
      "0it [00:00, ?it/s]"
     ]
    },
    {
     "name": "stdout",
     "output_type": "stream",
     "text": [
      "\r",
      "Upgrading database; v0 -> v1: : 0it [00:00, ?it/s]"
     ]
    },
    {
     "name": "stdout",
     "output_type": "stream",
     "text": [
      "\r",
      "Upgrading database; v0 -> v1: : 0it [00:00, ?it/s]"
     ]
    },
    {
     "name": "stdout",
     "output_type": "stream",
     "text": [
      "\n",
      "\r",
      "  0%|          | 0/1 [00:00<?, ?it/s]"
     ]
    },
    {
     "name": "stdout",
     "output_type": "stream",
     "text": [
      "\r",
      "Upgrading database; v1 -> v2:   0%|          | 0/1 [00:00<?, ?it/s]"
     ]
    },
    {
     "name": "stdout",
     "output_type": "stream",
     "text": [
      "\r",
      "Upgrading database; v1 -> v2: 100%|██████████| 1/1 [00:00<00:00, 571.82it/s]"
     ]
    },
    {
     "name": "stdout",
     "output_type": "stream",
     "text": [
      "\n",
      "\r",
      "0it [00:00, ?it/s]"
     ]
    },
    {
     "name": "stdout",
     "output_type": "stream",
     "text": [
      "\r",
      "Upgrading database; v2 -> v3: : 0it [00:00, ?it/s]"
     ]
    },
    {
     "name": "stdout",
     "output_type": "stream",
     "text": [
      "\r",
      "Upgrading database; v2 -> v3: : 0it [00:00, ?it/s]"
     ]
    },
    {
     "name": "stdout",
     "output_type": "stream",
     "text": [
      "\n",
      "\r",
      "0it [00:00, ?it/s]"
     ]
    },
    {
     "name": "stdout",
     "output_type": "stream",
     "text": [
      "\r",
      "Upgrading database; v3 -> v4: : 0it [00:00, ?it/s]"
     ]
    },
    {
     "name": "stdout",
     "output_type": "stream",
     "text": [
      "\r",
      "Upgrading database; v3 -> v4: : 0it [00:00, ?it/s]"
     ]
    },
    {
     "name": "stdout",
     "output_type": "stream",
     "text": [
      "\n",
      "\r",
      "  0%|          | 0/1 [00:00<?, ?it/s]"
     ]
    },
    {
     "name": "stdout",
     "output_type": "stream",
     "text": [
      "\r",
      "Upgrading database; v4 -> v5:   0%|          | 0/1 [00:00<?, ?it/s]"
     ]
    },
    {
     "name": "stdout",
     "output_type": "stream",
     "text": [
      "\r",
      "Upgrading database; v4 -> v5: 100%|██████████| 1/1 [00:00<00:00, 448.49it/s]"
     ]
    },
    {
     "name": "stdout",
     "output_type": "stream",
     "text": [
      "\n",
      "\r",
      "0it [00:00, ?it/s]"
     ]
    },
    {
     "name": "stdout",
     "output_type": "stream",
     "text": [
      "\r",
      "Upgrading database; v5 -> v6: : 0it [00:00, ?it/s]"
     ]
    },
    {
     "name": "stdout",
     "output_type": "stream",
     "text": [
      "\r",
      "Upgrading database; v5 -> v6: : 0it [00:00, ?it/s]"
     ]
    },
    {
     "name": "stdout",
     "output_type": "stream",
     "text": [
      "\n",
      "\r",
      "  0%|          | 0/1 [00:00<?, ?it/s]"
     ]
    },
    {
     "name": "stdout",
     "output_type": "stream",
     "text": [
      "\r",
      "Upgrading database; v6 -> v7:   0%|          | 0/1 [00:00<?, ?it/s]"
     ]
    },
    {
     "name": "stdout",
     "output_type": "stream",
     "text": [
      "\r",
      "Upgrading database; v6 -> v7: 100%|██████████| 1/1 [00:00<00:00, 283.04it/s]"
     ]
    },
    {
     "name": "stdout",
     "output_type": "stream",
     "text": [
      "\n",
      "\r",
      "  0%|          | 0/1 [00:00<?, ?it/s]"
     ]
    },
    {
     "name": "stdout",
     "output_type": "stream",
     "text": [
      "\r",
      "Upgrading database; v7 -> v8:   0%|          | 0/1 [00:00<?, ?it/s]"
     ]
    },
    {
     "name": "stdout",
     "output_type": "stream",
     "text": [
      "\r",
      "Upgrading database; v7 -> v8: 100%|██████████| 1/1 [00:00<00:00, 543.66it/s]"
     ]
    },
    {
     "name": "stdout",
     "output_type": "stream",
     "text": [
      "\n",
      "\r",
      "  0%|          | 0/1 [00:00<?, ?it/s]"
     ]
    },
    {
     "name": "stdout",
     "output_type": "stream",
     "text": [
      "\r",
      "Upgrading database; v8 -> v9:   0%|          | 0/1 [00:00<?, ?it/s]"
     ]
    },
    {
     "name": "stdout",
     "output_type": "stream",
     "text": [
      "\r",
      "Upgrading database; v8 -> v9: 100%|██████████| 1/1 [00:00<00:00, 617.17it/s]"
     ]
    },
    {
     "name": "stdout",
     "output_type": "stream",
     "text": [
      "\n"
     ]
    }
   ],
   "source": [
    "initialise_database()\n",
    "exp = load_or_create_experiment(experiment_name='tutorial_exp', sample_name=\"no sample\")"
   ]
  },
  {
   "cell_type": "markdown",
   "metadata": {},
   "source": [
    "Here, we define a simple function to benchmark the time it takes to insert n points with either numeric or array data type.\n",
    "We will compare both the time used to call ``add_result`` and the time used for the full measurement."
   ]
  },
  {
   "cell_type": "code",
   "execution_count": 4,
   "metadata": {
    "execution": {
     "iopub.execute_input": "2021-01-25T07:34:02.658616Z",
     "iopub.status.busy": "2021-01-25T07:34:02.658080Z",
     "iopub.status.idle": "2021-01-25T07:34:02.661611Z",
     "shell.execute_reply": "2021-01-25T07:34:02.661045Z"
    }
   },
   "outputs": [],
   "source": [
    "def insert_data(paramtype, npoints, nreps=1):\n",
    "\n",
    "    meas = Measurement(exp=exp)\n",
    "\n",
    "    x1 = ManualParameter('x1')\n",
    "    x2 = ManualParameter('x2')\n",
    "    x3 = ManualParameter('x3')\n",
    "    y1 = ManualParameter('y1')\n",
    "    y2 = ManualParameter('y2')\n",
    "\n",
    "    meas.register_parameter(x1, paramtype=paramtype)\n",
    "    meas.register_parameter(x2, paramtype=paramtype)\n",
    "    meas.register_parameter(x3, paramtype=paramtype)\n",
    "    meas.register_parameter(y1, setpoints=[x1, x2, x3],\n",
    "                            paramtype=paramtype)\n",
    "    meas.register_parameter(y2, setpoints=[x1, x2, x3],\n",
    "                            paramtype=paramtype)\n",
    "    start = time.perf_counter()\n",
    "    with meas.run() as datasaver:\n",
    "        start_adding = time.perf_counter()\n",
    "        for i in range(nreps):\n",
    "            datasaver.add_result((x1, np.random.rand(npoints)),\n",
    "                                 (x2, np.random.rand(npoints)),\n",
    "                                 (x3, np.random.rand(npoints)),\n",
    "                                 (y1, np.random.rand(npoints)),\n",
    "                                 (y2, np.random.rand(npoints)))\n",
    "        stop_adding = time.perf_counter()\n",
    "        run_id = datasaver.run_id\n",
    "    stop = time.perf_counter()\n",
    "    tot_time = stop - start\n",
    "    add_time = stop_adding - start_adding\n",
    "    return tot_time, add_time, run_id"
   ]
  },
  {
   "cell_type": "markdown",
   "metadata": {},
   "source": [
    "## Comparison between numeric/array data and binary blob"
   ]
  },
  {
   "cell_type": "markdown",
   "metadata": {},
   "source": [
    "### Case1: Short experiment time"
   ]
  },
  {
   "cell_type": "code",
   "execution_count": 5,
   "metadata": {
    "execution": {
     "iopub.execute_input": "2021-01-25T07:34:02.668284Z",
     "iopub.status.busy": "2021-01-25T07:34:02.667695Z",
     "iopub.status.idle": "2021-01-25T07:34:03.457585Z",
     "shell.execute_reply": "2021-01-25T07:34:03.458023Z"
    }
   },
   "outputs": [
    {
     "name": "stdout",
     "output_type": "stream",
     "text": [
      "Starting experimental run with id: 1. \n",
      "Starting experimental run with id: 2. \n",
      "Starting experimental run with id: 3. \n",
      "Starting experimental run with id: 4. \n",
      "Starting experimental run with id: 5. \n"
     ]
    },
    {
     "name": "stdout",
     "output_type": "stream",
     "text": [
      "Starting experimental run with id: 6. \n"
     ]
    },
    {
     "name": "stdout",
     "output_type": "stream",
     "text": [
      "Starting experimental run with id: 7. \n"
     ]
    },
    {
     "name": "stdout",
     "output_type": "stream",
     "text": [
      "Starting experimental run with id: 8. \n",
      "Starting experimental run with id: 9. \n"
     ]
    },
    {
     "name": "stdout",
     "output_type": "stream",
     "text": [
      "Starting experimental run with id: 10. \n",
      "Starting experimental run with id: 11. \n"
     ]
    },
    {
     "name": "stdout",
     "output_type": "stream",
     "text": [
      "Starting experimental run with id: 12. \n",
      "Starting experimental run with id: 13. \n"
     ]
    },
    {
     "name": "stdout",
     "output_type": "stream",
     "text": [
      "Starting experimental run with id: 14. \n"
     ]
    }
   ],
   "source": [
    "sizes = [1,500,1000,2000,3000,4000,5000]\n",
    "t_numeric = []\n",
    "t_numeric_add = []\n",
    "t_array = []\n",
    "t_array_add = []\n",
    "for size in sizes:\n",
    "    tn, tna, run_id_n =  insert_data('numeric', size)\n",
    "    t_numeric.append(tn)\n",
    "    t_numeric_add.append(tna)\n",
    "\n",
    "    ta, taa, run_id_a =  insert_data('array', size)\n",
    "    t_array.append(ta)\n",
    "    t_array_add.append(taa)"
   ]
  },
  {
   "cell_type": "code",
   "execution_count": 6,
   "metadata": {
    "execution": {
     "iopub.execute_input": "2021-01-25T07:34:03.475383Z",
     "iopub.status.busy": "2021-01-25T07:34:03.462396Z",
     "iopub.status.idle": "2021-01-25T07:34:03.677963Z",
     "shell.execute_reply": "2021-01-25T07:34:03.677456Z"
    }
   },
   "outputs": [
    {
     "data": {
      "image/png": "[encoded data removed]",
      "text/plain": [
       "<Figure size 432x288 with 1 Axes>"
      ]
     },
     "metadata": {
      "needs_background": "light"
     },
     "output_type": "display_data"
    }
   ],
   "source": [
    "fig, ax = plt.subplots(1,1)\n",
    "ax.plot(sizes, t_numeric, 'o-', label='Inserting row-by-row')\n",
    "ax.plot(sizes, t_numeric_add, 'o-', label='Inserting row-by-row: add_result only')\n",
    "ax.plot(sizes, t_array, 'd-', label='Inserting as binary blob')\n",
    "ax.plot(sizes, t_array_add, 'd-', label='Inserting as binary blob: add_result only')\n",
    "ax.legend()\n",
    "ax.set_xlabel('Array length')\n",
    "ax.set_ylabel('Time (s)')\n",
    "fig.tight_layout()"
   ]
  },
  {
   "cell_type": "markdown",
   "metadata": {},
   "source": [
    "As shown in the latter figure, the time to setup and and close the experiment is approximately 0.4 sec. In case of small array sizes, the difference between inserting values of data as arrays and inserting them row-by-row is relatively unimportant. At larger array sizes, i.e. above 10000 points, the cost of writing data as individual datapoints starts to become important.\n"
   ]
  },
  {
   "cell_type": "markdown",
   "metadata": {},
   "source": [
    "### Case2: Long experiment time "
   ]
  },
  {
   "cell_type": "code",
   "execution_count": 7,
   "metadata": {
    "execution": {
     "iopub.execute_input": "2021-01-25T07:34:03.684979Z",
     "iopub.status.busy": "2021-01-25T07:34:03.683818Z",
     "iopub.status.idle": "2021-01-25T07:35:01.138555Z",
     "shell.execute_reply": "2021-01-25T07:35:01.139104Z"
    }
   },
   "outputs": [
    {
     "name": "stdout",
     "output_type": "stream",
     "text": [
      "Starting experimental run with id: 15. \n",
      "Starting experimental run with id: 16. \n",
      "Starting experimental run with id: 17. \n"
     ]
    },
    {
     "name": "stdout",
     "output_type": "stream",
     "text": [
      "Starting experimental run with id: 18. \n",
      "Starting experimental run with id: 19. \n"
     ]
    },
    {
     "name": "stdout",
     "output_type": "stream",
     "text": [
      "Starting experimental run with id: 20. \n"
     ]
    },
    {
     "name": "stdout",
     "output_type": "stream",
     "text": [
      "Starting experimental run with id: 21. \n"
     ]
    },
    {
     "name": "stdout",
     "output_type": "stream",
     "text": [
      "Starting experimental run with id: 22. \n"
     ]
    },
    {
     "name": "stdout",
     "output_type": "stream",
     "text": [
      "Starting experimental run with id: 23. \n"
     ]
    },
    {
     "name": "stdout",
     "output_type": "stream",
     "text": [
      "Starting experimental run with id: 24. \n"
     ]
    },
    {
     "name": "stdout",
     "output_type": "stream",
     "text": [
      "Starting experimental run with id: 25. \n"
     ]
    },
    {
     "name": "stdout",
     "output_type": "stream",
     "text": [
      "Starting experimental run with id: 26. \n"
     ]
    },
    {
     "name": "stdout",
     "output_type": "stream",
     "text": [
      "Starting experimental run with id: 27. \n"
     ]
    },
    {
     "name": "stdout",
     "output_type": "stream",
     "text": [
      "Starting experimental run with id: 28. \n"
     ]
    }
   ],
   "source": [
    "sizes = [1,500,1000,2000,3000,4000,5000]\n",
    "nreps = 100\n",
    "t_numeric = []\n",
    "t_numeric_add = []\n",
    "t_numeric_run_ids = []\n",
    "t_array = []\n",
    "t_array_add = []\n",
    "t_array_run_ids = []\n",
    "for size in sizes:\n",
    "    tn, tna, run_id_n =  insert_data('numeric', size, nreps=nreps)\n",
    "    t_numeric.append(tn)\n",
    "    t_numeric_add.append(tna)\n",
    "    t_numeric_run_ids.append(run_id_n)\n",
    "\n",
    "    ta, taa, run_id_a =  insert_data('array', size, nreps=nreps)\n",
    "    t_array.append(ta)\n",
    "    t_array_add.append(taa)\n",
    "    t_array_run_ids.append(run_id_a)"
   ]
  },
  {
   "cell_type": "code",
   "execution_count": 8,
   "metadata": {
    "execution": {
     "iopub.execute_input": "2021-01-25T07:35:01.169246Z",
     "iopub.status.busy": "2021-01-25T07:35:01.159339Z",
     "iopub.status.idle": "2021-01-25T07:35:01.340625Z",
     "shell.execute_reply": "2021-01-25T07:35:01.341188Z"
    },
    "scrolled": true
   },
   "outputs": [
    {
     "data": {
      "image/png": "[encoded data removed]",
      "text/plain": [
       "<Figure size 432x288 with 1 Axes>"
      ]
     },
     "metadata": {
      "needs_background": "light"
     },
     "output_type": "display_data"
    }
   ],
   "source": [
    "fig, ax = plt.subplots(1,1)\n",
    "ax.plot(sizes, t_numeric, 'o-', label='Inserting row-by-row')\n",
    "ax.plot(sizes, t_numeric_add, 'o-', label='Inserting row-by-row: add_result only')\n",
    "ax.plot(sizes, t_array, 'd-', label='Inserting as binary blob')\n",
    "ax.plot(sizes, t_array_add, 'd-', label='Inserting as binary blob: add_result only')\n",
    "ax.legend()\n",
    "ax.set_xlabel('Array length')\n",
    "ax.set_ylabel('Time (s)')\n",
    "fig.tight_layout()"
   ]
  },
  {
   "cell_type": "markdown",
   "metadata": {},
   "source": [
    "However, as we increase the length of the experiment, as seen here by repeating the insertion 100 times, we see a big difference between inserting values of the data row-by-row and inserting it as a binary blob."
   ]
  },
  {
   "cell_type": "markdown",
   "metadata": {},
   "source": [
    "## Loading the data "
   ]
  },
  {
   "cell_type": "code",
   "execution_count": 9,
   "metadata": {
    "execution": {
     "iopub.execute_input": "2021-01-25T07:35:01.343694Z",
     "iopub.status.busy": "2021-01-25T07:35:01.343182Z",
     "iopub.status.idle": "2021-01-25T07:35:01.347404Z",
     "shell.execute_reply": "2021-01-25T07:35:01.346851Z"
    }
   },
   "outputs": [],
   "source": [
    "from qcodes.dataset.data_set import load_by_id\n",
    "from qcodes.dataset.data_export import get_data_by_id"
   ]
  },
  {
   "cell_type": "markdown",
   "metadata": {},
   "source": [
    "As usual you can load the data by using the ``load_by_id`` function but you will notice that the different storage methods\n",
    "are reflected in shape of the data as it is retrieved. "
   ]
  },
  {
   "cell_type": "code",
   "execution_count": 10,
   "metadata": {
    "execution": {
     "iopub.execute_input": "2021-01-25T07:35:01.351013Z",
     "iopub.status.busy": "2021-01-25T07:35:01.350376Z",
     "iopub.status.idle": "2021-01-25T07:35:01.352661Z",
     "shell.execute_reply": "2021-01-25T07:35:01.352192Z"
    }
   },
   "outputs": [],
   "source": [
    "run_id_n = t_numeric_run_ids[0]\n",
    "run_id_a = t_array_run_ids[0]"
   ]
  },
  {
   "cell_type": "code",
   "execution_count": 11,
   "metadata": {
    "execution": {
     "iopub.execute_input": "2021-01-25T07:35:01.355765Z",
     "iopub.status.busy": "2021-01-25T07:35:01.355246Z",
     "iopub.status.idle": "2021-01-25T07:35:01.364478Z",
     "shell.execute_reply": "2021-01-25T07:35:01.364000Z"
    },
    "scrolled": true
   },
   "outputs": [
    {
     "data": {
      "text/plain": [
       "{'x1': {'x1': array([0.51823781, 0.51823781, 0.662757  , 0.662757  , 0.98970257,\n",
       "         0.98970257, 0.0539862 , 0.0539862 , 0.48193739, 0.48193739,\n",
       "         0.45583072, 0.45583072, 0.25012689, 0.25012689, 0.21049776,\n",
       "         0.21049776, 0.58339795, 0.58339795, 0.65934315, 0.65934315,\n",
       "         0.32685121, 0.32685121, 0.16916187, 0.16916187, 0.03298616,\n",
       "         0.03298616, 0.54796609, 0.54796609, 0.40728913, 0.40728913,\n",
       "         0.21353114, 0.21353114, 0.14400463, 0.14400463, 0.33357257,\n",
       "         0.33357257, 0.56859015, 0.56859015, 0.10560612, 0.10560612,\n",
       "         0.62439167, 0.62439167, 0.26007524, 0.26007524, 0.82993908,\n",
       "         0.82993908, 0.45265519, 0.45265519, 0.44014699, 0.44014699,\n",
       "         0.49347288, 0.49347288, 0.86392289, 0.86392289, 0.12686335,\n",
       "         0.12686335, 0.17014689, 0.17014689, 0.97166272, 0.97166272,\n",
       "         0.13231277, 0.13231277, 0.31939159, 0.31939159, 0.68286703,\n",
       "         0.68286703, 0.33149896, 0.33149896, 0.51550581, 0.51550581,\n",
       "         0.20360075, 0.20360075, 0.51626845, 0.51626845, 0.61211555,\n",
       "         0.61211555, 0.55483997, 0.55483997, 0.55673243, 0.55673243,\n",
       "         0.14225151, 0.14225151, 0.75524196, 0.75524196, 0.52158314,\n",
       "         0.52158314, 0.60747475, 0.60747475, 0.94708962, 0.94708962,\n",
       "         0.59148055, 0.59148055, 0.18683362, 0.18683362, 0.54794954,\n",
       "         0.54794954, 0.3470389 , 0.3470389 , 0.21090854, 0.21090854,\n",
       "         0.52160189, 0.52160189, 0.55574288, 0.55574288, 0.12318639,\n",
       "         0.12318639, 0.25150213, 0.25150213, 0.04830129, 0.04830129,\n",
       "         0.44197351, 0.44197351, 0.09014738, 0.09014738, 0.9652596 ,\n",
       "         0.9652596 , 0.76701855, 0.76701855, 0.47456282, 0.47456282,\n",
       "         0.32142401, 0.32142401, 0.32824341, 0.32824341, 0.10792373,\n",
       "         0.10792373, 0.42045074, 0.42045074, 0.82236581, 0.82236581,\n",
       "         0.70505853, 0.70505853, 0.53924323, 0.53924323, 0.26521801,\n",
       "         0.26521801, 0.19885641, 0.19885641, 0.889098  , 0.889098  ,\n",
       "         0.03166519, 0.03166519, 0.36693708, 0.36693708, 0.8469329 ,\n",
       "         0.8469329 , 0.04425817, 0.04425817, 0.46386262, 0.46386262,\n",
       "         0.79306969, 0.79306969, 0.10161509, 0.10161509, 0.40053441,\n",
       "         0.40053441, 0.92757297, 0.92757297, 0.60159112, 0.60159112,\n",
       "         0.78249057, 0.78249057, 0.49612068, 0.49612068, 0.10532144,\n",
       "         0.10532144, 0.0672365 , 0.0672365 , 0.7482278 , 0.7482278 ,\n",
       "         0.88991052, 0.88991052, 0.3380701 , 0.3380701 , 0.46860963,\n",
       "         0.46860963, 0.65364033, 0.65364033, 0.31707659, 0.31707659,\n",
       "         0.20573293, 0.20573293, 0.93805221, 0.93805221, 0.25348776,\n",
       "         0.25348776, 0.88308255, 0.88308255, 0.18518992, 0.18518992,\n",
       "         0.77619392, 0.77619392, 0.49194972, 0.49194972, 0.25754672,\n",
       "         0.25754672, 0.75332303, 0.75332303, 0.4046423 , 0.4046423 ])}}"
      ]
     },
     "execution_count": 1,
     "metadata": {},
     "output_type": "execute_result"
    }
   ],
   "source": [
    "ds = load_by_id(run_id_n)\n",
    "ds.get_parameter_data('x1')"
   ]
  },
  {
   "cell_type": "markdown",
   "metadata": {},
   "source": [
    "And a dataset stored as binary arrays"
   ]
  },
  {
   "cell_type": "code",
   "execution_count": 12,
   "metadata": {
    "execution": {
     "iopub.execute_input": "2021-01-25T07:35:01.367703Z",
     "iopub.status.busy": "2021-01-25T07:35:01.367189Z",
     "iopub.status.idle": "2021-01-25T07:35:01.422626Z",
     "shell.execute_reply": "2021-01-25T07:35:01.423263Z"
    },
    "scrolled": true
   },
   "outputs": [
    {
     "data": {
      "text/plain": [
       "{'x1': {'x1': array([[6.00549130e-01],\n",
       "         [6.00549130e-01],\n",
       "         [1.94791363e-01],\n",
       "         [1.94791363e-01],\n",
       "         [9.71957023e-01],\n",
       "         [9.71957023e-01],\n",
       "         [4.55633969e-01],\n",
       "         [4.55633969e-01],\n",
       "         [2.95032637e-01],\n",
       "         [2.95032637e-01],\n",
       "         [7.48696391e-01],\n",
       "         [7.48696391e-01],\n",
       "         [2.83184220e-02],\n",
       "         [2.83184220e-02],\n",
       "         [4.24627244e-01],\n",
       "         [4.24627244e-01],\n",
       "         [9.00442126e-01],\n",
       "         [9.00442126e-01],\n",
       "         [1.63268859e-01],\n",
       "         [1.63268859e-01],\n",
       "         [7.86377087e-01],\n",
       "         [7.86377087e-01],\n",
       "         [7.29648479e-04],\n",
       "         [7.29648479e-04],\n",
       "         [5.74650423e-01],\n",
       "         [5.74650423e-01],\n",
       "         [6.40462208e-01],\n",
       "         [6.40462208e-01],\n",
       "         [5.89134559e-01],\n",
       "         [5.89134559e-01],\n",
       "         [8.64580233e-01],\n",
       "         [8.64580233e-01],\n",
       "         [3.71097344e-02],\n",
       "         [3.71097344e-02],\n",
       "         [9.43654136e-01],\n",
       "         [9.43654136e-01],\n",
       "         [4.33481726e-01],\n",
       "         [4.33481726e-01],\n",
       "         [7.41509838e-01],\n",
       "         [7.41509838e-01],\n",
       "         [3.78622825e-01],\n",
       "         [3.78622825e-01],\n",
       "         [2.07306037e-02],\n",
       "         [2.07306037e-02],\n",
       "         [8.05603515e-01],\n",
       "         [8.05603515e-01],\n",
       "         [8.25720751e-01],\n",
       "         [8.25720751e-01],\n",
       "         [8.98046723e-03],\n",
       "         [8.98046723e-03],\n",
       "         [5.70446641e-01],\n",
       "         [5.70446641e-01],\n",
       "         [9.21411454e-01],\n",
       "         [9.21411454e-01],\n",
       "         [3.13232366e-01],\n",
       "         [3.13232366e-01],\n",
       "         [7.74971510e-01],\n",
       "         [7.74971510e-01],\n",
       "         [9.28618585e-01],\n",
       "         [9.28618585e-01],\n",
       "         [9.96462586e-01],\n",
       "         [9.96462586e-01],\n",
       "         [5.88352773e-01],\n",
       "         [5.88352773e-01],\n",
       "         [5.98364370e-01],\n",
       "         [5.98364370e-01],\n",
       "         [4.93164179e-01],\n",
       "         [4.93164179e-01],\n",
       "         [1.81074423e-01],\n",
       "         [1.81074423e-01],\n",
       "         [2.82061850e-02],\n",
       "         [2.82061850e-02],\n",
       "         [1.99339931e-01],\n",
       "         [1.99339931e-01],\n",
       "         [1.16484721e-01],\n",
       "         [1.16484721e-01],\n",
       "         [3.13869708e-01],\n",
       "         [3.13869708e-01],\n",
       "         [2.69231499e-02],\n",
       "         [2.69231499e-02],\n",
       "         [1.71849301e-01],\n",
       "         [1.71849301e-01],\n",
       "         [3.84808793e-02],\n",
       "         [3.84808793e-02],\n",
       "         [6.74224015e-01],\n",
       "         [6.74224015e-01],\n",
       "         [2.32517788e-01],\n",
       "         [2.32517788e-01],\n",
       "         [6.27930883e-01],\n",
       "         [6.27930883e-01],\n",
       "         [1.11998384e-01],\n",
       "         [1.11998384e-01],\n",
       "         [7.71777476e-01],\n",
       "         [7.71777476e-01],\n",
       "         [7.86533248e-01],\n",
       "         [7.86533248e-01],\n",
       "         [1.52007172e-01],\n",
       "         [1.52007172e-01],\n",
       "         [1.83584138e-01],\n",
       "         [1.83584138e-01],\n",
       "         [2.61539733e-01],\n",
       "         [2.61539733e-01],\n",
       "         [3.20816989e-01],\n",
       "         [3.20816989e-01],\n",
       "         [5.49049070e-01],\n",
       "         [5.49049070e-01],\n",
       "         [1.07997691e-01],\n",
       "         [1.07997691e-01],\n",
       "         [3.82851617e-01],\n",
       "         [3.82851617e-01],\n",
       "         [2.06879013e-01],\n",
       "         [2.06879013e-01],\n",
       "         [1.18732487e-01],\n",
       "         [1.18732487e-01],\n",
       "         [9.42675774e-01],\n",
       "         [9.42675774e-01],\n",
       "         [7.32622706e-01],\n",
       "         [7.32622706e-01],\n",
       "         [9.38899333e-01],\n",
       "         [9.38899333e-01],\n",
       "         [8.13481422e-01],\n",
       "         [8.13481422e-01],\n",
       "         [7.87443255e-01],\n",
       "         [7.87443255e-01],\n",
       "         [6.81703842e-01],\n",
       "         [6.81703842e-01],\n",
       "         [9.44627877e-01],\n",
       "         [9.44627877e-01],\n",
       "         [7.40655534e-01],\n",
       "         [7.40655534e-01],\n",
       "         [4.03216515e-01],\n",
       "         [4.03216515e-01],\n",
       "         [2.58510567e-01],\n",
       "         [2.58510567e-01],\n",
       "         [2.30832340e-02],\n",
       "         [2.30832340e-02],\n",
       "         [2.52273723e-01],\n",
       "         [2.52273723e-01],\n",
       "         [1.47678651e-01],\n",
       "         [1.47678651e-01],\n",
       "         [2.29227935e-01],\n",
       "         [2.29227935e-01],\n",
       "         [5.05184393e-01],\n",
       "         [5.05184393e-01],\n",
       "         [7.60864486e-01],\n",
       "         [7.60864486e-01],\n",
       "         [7.10864362e-01],\n",
       "         [7.10864362e-01],\n",
       "         [4.54808645e-01],\n",
       "         [4.54808645e-01],\n",
       "         [2.37708270e-01],\n",
       "         [2.37708270e-01],\n",
       "         [3.99967982e-01],\n",
       "         [3.99967982e-01],\n",
       "         [7.57725798e-01],\n",
       "         [7.57725798e-01],\n",
       "         [8.27203292e-01],\n",
       "         [8.27203292e-01],\n",
       "         [7.41285047e-01],\n",
       "         [7.41285047e-01],\n",
       "         [9.35666841e-01],\n",
       "         [9.35666841e-01],\n",
       "         [5.84669567e-02],\n",
       "         [5.84669567e-02],\n",
       "         [5.43815472e-01],\n",
       "         [5.43815472e-01],\n",
       "         [7.34740860e-01],\n",
       "         [7.34740860e-01],\n",
       "         [3.73656311e-01],\n",
       "         [3.73656311e-01],\n",
       "         [5.36489628e-01],\n",
       "         [5.36489628e-01],\n",
       "         [5.42792159e-01],\n",
       "         [5.42792159e-01],\n",
       "         [7.50922117e-01],\n",
       "         [7.50922117e-01],\n",
       "         [4.16772470e-01],\n",
       "         [4.16772470e-01],\n",
       "         [7.85179282e-01],\n",
       "         [7.85179282e-01],\n",
       "         [8.71207214e-01],\n",
       "         [8.71207214e-01],\n",
       "         [1.21105596e-01],\n",
       "         [1.21105596e-01],\n",
       "         [5.29804829e-02],\n",
       "         [5.29804829e-02],\n",
       "         [3.53597084e-01],\n",
       "         [3.53597084e-01],\n",
       "         [6.75123275e-01],\n",
       "         [6.75123275e-01],\n",
       "         [2.87329693e-01],\n",
       "         [2.87329693e-01],\n",
       "         [5.97084123e-01],\n",
       "         [5.97084123e-01],\n",
       "         [6.89220387e-01],\n",
       "         [6.89220387e-01],\n",
       "         [1.54093449e-02],\n",
       "         [1.54093449e-02],\n",
       "         [8.10356109e-01],\n",
       "         [8.10356109e-01]])}}"
      ]
     },
     "execution_count": 1,
     "metadata": {},
     "output_type": "execute_result"
    }
   ],
   "source": [
    "ds = load_by_id(run_id_a)\n",
    "ds.get_parameter_data('x1')"
   ]
  },
  {
   "cell_type": "code",
   "execution_count": null,
   "metadata": {},
   "outputs": [],
   "source": []
  }
 ],
 "metadata": {
  "kernelspec": {
   "display_name": "Python 3",
   "language": "python",
   "name": "python3"
  },
  "language_info": {
   "codemirror_mode": {
    "name": "ipython",
    "version": 3
   },
   "file_extension": ".py",
   "mimetype": "text/x-python",
   "name": "python",
   "nbconvert_exporter": "python",
   "pygments_lexer": "ipython3",
   "version": "3.7.9"
  },
  "nbsphinx": {
   "timeout": 600
  },
  "toc": {
   "base_numbering": 1,
   "nav_menu": {},
   "number_sections": true,
   "sideBar": true,
   "skip_h1_title": false,
   "title_cell": "Table of Contents",
   "title_sidebar": "Contents",
   "toc_cell": false,
   "toc_position": {},
   "toc_section_display": true,
   "toc_window_display": false
  },
  "varInspector": {
   "cols": {
    "lenName": 16,
    "lenType": 16,
    "lenVar": 40
   },
   "kernels_config": {
    "python": {
     "delete_cmd_postfix": "",
     "delete_cmd_prefix": "del ",
     "library": "var_list.py",
     "varRefreshCmd": "print(var_dic_list())"
    },
    "r": {
     "delete_cmd_postfix": ") ",
     "delete_cmd_prefix": "rm(",
     "library": "var_list.r",
     "varRefreshCmd": "cat(var_dic_list()) "
    }
   },
   "types_to_exclude": [
    "module",
    "function",
    "builtin_function_or_method",
    "instance",
    "_Feature"
   ],
   "window_display": false
  }
 },
 "nbformat": 4,
 "nbformat_minor": 2
}
