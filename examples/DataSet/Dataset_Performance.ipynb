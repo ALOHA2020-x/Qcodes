{
 "cells": [
  {
   "cell_type": "markdown",
   "metadata": {},
   "source": [
    "# DataSet Performance\n",
    "\n",
    "This notebook shows the trade-off between inserting data into a database row-by-row and as binary blobs. Inserting the data row-by-row means that we have direct access to all the data and may perform queries directly on the values of the data. On the other hand, as we shall see, this is much slower than inserting the data directly as binary blobs."
   ]
  },
  {
   "cell_type": "markdown",
   "metadata": {},
   "source": [
    "First, we choose a new location for the database to ensure that we don't add a bunch of benchmarking data to the default one."
   ]
  },
  {
   "cell_type": "code",
   "execution_count": 1,
   "metadata": {
    "execution": {
     "iopub.execute_input": "2020-11-17T15:07:21.666879Z",
     "iopub.status.busy": "2020-11-17T15:07:21.666221Z",
     "iopub.status.idle": "2020-11-17T15:07:22.648330Z",
     "shell.execute_reply": "2020-11-17T15:07:22.647725Z"
    }
   },
   "outputs": [
    {
     "name": "stdout",
     "output_type": "stream",
     "text": [
      "Logging hadn't been started.\n",
      "Activating auto-logging. Current session state plus future input saved.\n",
      "Filename       : /home/vsts/.qcodes/logs/command_history.log\n",
      "Mode           : append\n",
      "Output logging : True\n",
      "Raw input log  : False\n",
      "Timestamping   : True\n",
      "State          : active\n"
     ]
    },
    {
     "name": "stdout",
     "output_type": "stream",
     "text": [
      "Qcodes Logfile : /home/vsts/.qcodes/logs/201117-14157-qcodes.log\n"
     ]
    }
   ],
   "source": [
    "import os\n",
    "cwd = os.getcwd()\n",
    "import qcodes as qc\n",
    "qc.config[\"core\"][\"db_location\"] = os.path.join(cwd, 'testing.db')\n"
   ]
  },
  {
   "cell_type": "code",
   "execution_count": 2,
   "metadata": {
    "execution": {
     "iopub.execute_input": "2020-11-17T15:07:22.653924Z",
     "iopub.status.busy": "2020-11-17T15:07:22.652964Z",
     "iopub.status.idle": "2020-11-17T15:07:22.828010Z",
     "shell.execute_reply": "2020-11-17T15:07:22.827508Z"
    }
   },
   "outputs": [],
   "source": [
    "%matplotlib inline\n",
    "import time\n",
    "import matplotlib.pyplot as plt\n",
    "import numpy as np\n",
    "\n",
    "import qcodes as qc\n",
    "from qcodes.instrument.parameter import ManualParameter\n",
    "from qcodes.dataset.experiment_container import (Experiment,\n",
    "                                                 load_last_experiment,\n",
    "                                                 new_experiment)\n",
    "from qcodes.dataset.sqlite.database import initialise_database\n",
    "from qcodes import load_or_create_experiment\n",
    "from qcodes.dataset.measurements import Measurement"
   ]
  },
  {
   "cell_type": "code",
   "execution_count": 3,
   "metadata": {
    "execution": {
     "iopub.execute_input": "2020-11-17T15:07:22.831904Z",
     "iopub.status.busy": "2020-11-17T15:07:22.830831Z",
     "iopub.status.idle": "2020-11-17T15:07:22.934109Z",
     "shell.execute_reply": "2020-11-17T15:07:22.934686Z"
    }
   },
   "outputs": [
    {
     "name": "stdout",
     "output_type": "stream",
     "text": [
      "\r",
      "0it [00:00, ?it/s]"
     ]
    },
    {
     "name": "stdout",
     "output_type": "stream",
     "text": [
      "\r",
      "Upgrading database; v0 -> v1: : 0it [00:00, ?it/s]"
     ]
    },
    {
     "name": "stdout",
     "output_type": "stream",
     "text": [
      "\r",
      "Upgrading database; v0 -> v1: : 0it [00:00, ?it/s]"
     ]
    },
    {
     "name": "stdout",
     "output_type": "stream",
     "text": [
      "\n",
      "\r",
      "  0%|          | 0/1 [00:00<?, ?it/s]"
     ]
    },
    {
     "name": "stdout",
     "output_type": "stream",
     "text": [
      "\r",
      "Upgrading database; v1 -> v2:   0%|          | 0/1 [00:00<?, ?it/s]"
     ]
    },
    {
     "name": "stdout",
     "output_type": "stream",
     "text": [
      "\r",
      "Upgrading database; v1 -> v2: 100%|██████████| 1/1 [00:00<00:00, 680.56it/s]"
     ]
    },
    {
     "name": "stdout",
     "output_type": "stream",
     "text": [
      "\n",
      "\r",
      "0it [00:00, ?it/s]"
     ]
    },
    {
     "name": "stdout",
     "output_type": "stream",
     "text": [
      "\r",
      "Upgrading database; v2 -> v3: : 0it [00:00, ?it/s]"
     ]
    },
    {
     "name": "stdout",
     "output_type": "stream",
     "text": [
      "\r",
      "Upgrading database; v2 -> v3: : 0it [00:00, ?it/s]"
     ]
    },
    {
     "name": "stdout",
     "output_type": "stream",
     "text": [
      "\n",
      "\r",
      "0it [00:00, ?it/s]"
     ]
    },
    {
     "name": "stdout",
     "output_type": "stream",
     "text": [
      "\r",
      "Upgrading database; v3 -> v4: : 0it [00:00, ?it/s]"
     ]
    },
    {
     "name": "stdout",
     "output_type": "stream",
     "text": [
      "\r",
      "Upgrading database; v3 -> v4: : 0it [00:00, ?it/s]"
     ]
    },
    {
     "name": "stdout",
     "output_type": "stream",
     "text": [
      "\n",
      "\r",
      "  0%|          | 0/1 [00:00<?, ?it/s]"
     ]
    },
    {
     "name": "stdout",
     "output_type": "stream",
     "text": [
      "\r",
      "Upgrading database; v4 -> v5:   0%|          | 0/1 [00:00<?, ?it/s]"
     ]
    },
    {
     "name": "stdout",
     "output_type": "stream",
     "text": [
      "\r",
      "Upgrading database; v4 -> v5: 100%|██████████| 1/1 [00:00<00:00, 476.14it/s]"
     ]
    },
    {
     "name": "stdout",
     "output_type": "stream",
     "text": [
      "\n",
      "\r",
      "0it [00:00, ?it/s]"
     ]
    },
    {
     "name": "stdout",
     "output_type": "stream",
     "text": [
      "\r",
      "Upgrading database; v5 -> v6: : 0it [00:00, ?it/s]"
     ]
    },
    {
     "name": "stdout",
     "output_type": "stream",
     "text": [
      "\r",
      "Upgrading database; v5 -> v6: : 0it [00:00, ?it/s]"
     ]
    },
    {
     "name": "stdout",
     "output_type": "stream",
     "text": [
      "\n",
      "\r",
      "  0%|          | 0/1 [00:00<?, ?it/s]"
     ]
    },
    {
     "name": "stdout",
     "output_type": "stream",
     "text": [
      "\r",
      "Upgrading database; v6 -> v7:   0%|          | 0/1 [00:00<?, ?it/s]"
     ]
    },
    {
     "name": "stdout",
     "output_type": "stream",
     "text": [
      "\r",
      "Upgrading database; v6 -> v7: 100%|██████████| 1/1 [00:00<00:00, 339.02it/s]"
     ]
    },
    {
     "name": "stdout",
     "output_type": "stream",
     "text": [
      "\n",
      "\r",
      "  0%|          | 0/1 [00:00<?, ?it/s]"
     ]
    },
    {
     "name": "stdout",
     "output_type": "stream",
     "text": [
      "\r",
      "Upgrading database; v7 -> v8:   0%|          | 0/1 [00:00<?, ?it/s]"
     ]
    },
    {
     "name": "stdout",
     "output_type": "stream",
     "text": [
      "\r",
      "Upgrading database; v7 -> v8: 100%|██████████| 1/1 [00:00<00:00, 499.44it/s]"
     ]
    },
    {
     "name": "stdout",
     "output_type": "stream",
     "text": [
      "\n",
      "\r",
      "  0%|          | 0/1 [00:00<?, ?it/s]"
     ]
    },
    {
     "name": "stdout",
     "output_type": "stream",
     "text": [
      "\r",
      "Upgrading database; v8 -> v9:   0%|          | 0/1 [00:00<?, ?it/s]"
     ]
    },
    {
     "name": "stdout",
     "output_type": "stream",
     "text": [
      "\r",
      "Upgrading database; v8 -> v9: 100%|██████████| 1/1 [00:00<00:00, 1424.21it/s]"
     ]
    },
    {
     "name": "stdout",
     "output_type": "stream",
     "text": [
      "\n"
     ]
    }
   ],
   "source": [
    "initialise_database()\n",
    "exp = load_or_create_experiment(experiment_name='tutorial_exp', sample_name=\"no sample\")"
   ]
  },
  {
   "cell_type": "markdown",
   "metadata": {},
   "source": [
    "Here, we define a simple function to benchmark the time it takes to insert n points with either numeric or array data type.\n",
    "We will compare both the time used to call ``add_result`` and the time used for the full measurement."
   ]
  },
  {
   "cell_type": "code",
   "execution_count": 4,
   "metadata": {
    "execution": {
     "iopub.execute_input": "2020-11-17T15:07:22.943517Z",
     "iopub.status.busy": "2020-11-17T15:07:22.942272Z",
     "iopub.status.idle": "2020-11-17T15:07:22.944113Z",
     "shell.execute_reply": "2020-11-17T15:07:22.944568Z"
    }
   },
   "outputs": [],
   "source": [
    "def insert_data(paramtype, npoints, nreps=1):\n",
    "\n",
    "    meas = Measurement(exp=exp)\n",
    "\n",
    "    x1 = ManualParameter('x1')\n",
    "    x2 = ManualParameter('x2')\n",
    "    x3 = ManualParameter('x3')\n",
    "    y1 = ManualParameter('y1')\n",
    "    y2 = ManualParameter('y2')\n",
    "\n",
    "    meas.register_parameter(x1, paramtype=paramtype)\n",
    "    meas.register_parameter(x2, paramtype=paramtype)\n",
    "    meas.register_parameter(x3, paramtype=paramtype)\n",
    "    meas.register_parameter(y1, setpoints=[x1, x2, x3],\n",
    "                            paramtype=paramtype)\n",
    "    meas.register_parameter(y2, setpoints=[x1, x2, x3],\n",
    "                            paramtype=paramtype)\n",
    "    start = time.perf_counter()\n",
    "    with meas.run() as datasaver:\n",
    "        start_adding = time.perf_counter()\n",
    "        for i in range(nreps):\n",
    "            datasaver.add_result((x1, np.random.rand(npoints)),\n",
    "                                 (x2, np.random.rand(npoints)),\n",
    "                                 (x3, np.random.rand(npoints)),\n",
    "                                 (y1, np.random.rand(npoints)),\n",
    "                                 (y2, np.random.rand(npoints)))\n",
    "        stop_adding = time.perf_counter()\n",
    "        run_id = datasaver.run_id\n",
    "    stop = time.perf_counter()\n",
    "    tot_time = stop - start\n",
    "    add_time = stop_adding - start_adding\n",
    "    return tot_time, add_time, run_id"
   ]
  },
  {
   "cell_type": "markdown",
   "metadata": {},
   "source": [
    "## Comparison between numeric/array data and binary blob"
   ]
  },
  {
   "cell_type": "markdown",
   "metadata": {},
   "source": [
    "### Case1: Short experiment time"
   ]
  },
  {
   "cell_type": "code",
   "execution_count": 5,
   "metadata": {
    "execution": {
     "iopub.execute_input": "2020-11-17T15:07:22.950316Z",
     "iopub.status.busy": "2020-11-17T15:07:22.949629Z",
     "iopub.status.idle": "2020-11-17T15:07:23.733913Z",
     "shell.execute_reply": "2020-11-17T15:07:23.732958Z"
    }
   },
   "outputs": [
    {
     "name": "stdout",
     "output_type": "stream",
     "text": [
      "Starting experimental run with id: 1. \n",
      "Starting experimental run with id: 2. \n",
      "Starting experimental run with id: 3. \n",
      "Starting experimental run with id: 4. \n",
      "Starting experimental run with id: 5. \n"
     ]
    },
    {
     "name": "stdout",
     "output_type": "stream",
     "text": [
      "Starting experimental run with id: 6. \n"
     ]
    },
    {
     "name": "stdout",
     "output_type": "stream",
     "text": [
      "Starting experimental run with id: 7. \n"
     ]
    },
    {
     "name": "stdout",
     "output_type": "stream",
     "text": [
      "Starting experimental run with id: 8. \n",
      "Starting experimental run with id: 9. \n"
     ]
    },
    {
     "name": "stdout",
     "output_type": "stream",
     "text": [
      "Starting experimental run with id: 10. \n",
      "Starting experimental run with id: 11. \n"
     ]
    },
    {
     "name": "stdout",
     "output_type": "stream",
     "text": [
      "Starting experimental run with id: 12. \n",
      "Starting experimental run with id: 13. \n"
     ]
    },
    {
     "name": "stdout",
     "output_type": "stream",
     "text": [
      "Starting experimental run with id: 14. \n"
     ]
    }
   ],
   "source": [
    "sizes = [1,500,1000,2000,3000,4000,5000]\n",
    "t_numeric = []\n",
    "t_numeric_add = []\n",
    "t_array = []\n",
    "t_array_add = []\n",
    "for size in sizes:\n",
    "    tn, tna, run_id_n =  insert_data('numeric', size)\n",
    "    t_numeric.append(tn)\n",
    "    t_numeric_add.append(tna)\n",
    "\n",
    "    ta, taa, run_id_a =  insert_data('array', size)\n",
    "    t_array.append(ta)\n",
    "    t_array_add.append(taa)"
   ]
  },
  {
   "cell_type": "code",
   "execution_count": 6,
   "metadata": {
    "execution": {
     "iopub.execute_input": "2020-11-17T15:07:23.751139Z",
     "iopub.status.busy": "2020-11-17T15:07:23.750502Z",
     "iopub.status.idle": "2020-11-17T15:07:23.946640Z",
     "shell.execute_reply": "2020-11-17T15:07:23.945869Z"
    }
   },
   "outputs": [
    {
     "data": {
      "image/png": "[encoded data removed]",
      "text/plain": [
       "<Figure size 432x288 with 1 Axes>"
      ]
     },
     "metadata": {
      "needs_background": "light"
     },
     "output_type": "display_data"
    }
   ],
   "source": [
    "fig, ax = plt.subplots(1,1)\n",
    "ax.plot(sizes, t_numeric, 'o-', label='Inserting row-by-row')\n",
    "ax.plot(sizes, t_numeric_add, 'o-', label='Inserting row-by-row: add_result only')\n",
    "ax.plot(sizes, t_array, 'd-', label='Inserting as binary blob')\n",
    "ax.plot(sizes, t_array_add, 'd-', label='Inserting as binary blob: add_result only')\n",
    "ax.legend()\n",
    "ax.set_xlabel('Array length')\n",
    "ax.set_ylabel('Time (s)')\n",
    "fig.tight_layout()"
   ]
  },
  {
   "cell_type": "markdown",
   "metadata": {},
   "source": [
    "As shown in the latter figure, the time to setup and and close the experiment is approximately 0.4 sec. In case of small array sizes, the difference between inserting values of data as arrays and inserting them row-by-row is relatively unimportant. At larger array sizes, i.e. above 10000 points, the cost of writing data as individual datapoints starts to become important.\n"
   ]
  },
  {
   "cell_type": "markdown",
   "metadata": {},
   "source": [
    "### Case2: Long experiment time "
   ]
  },
  {
   "cell_type": "code",
   "execution_count": 7,
   "metadata": {
    "execution": {
     "iopub.execute_input": "2020-11-17T15:07:23.953196Z",
     "iopub.status.busy": "2020-11-17T15:07:23.952262Z",
     "iopub.status.idle": "2020-11-17T15:08:21.459915Z",
     "shell.execute_reply": "2020-11-17T15:08:21.459140Z"
    }
   },
   "outputs": [
    {
     "name": "stdout",
     "output_type": "stream",
     "text": [
      "Starting experimental run with id: 15. \n",
      "Starting experimental run with id: 16. \n",
      "Starting experimental run with id: 17. \n"
     ]
    },
    {
     "name": "stdout",
     "output_type": "stream",
     "text": [
      "Starting experimental run with id: 18. \n",
      "Starting experimental run with id: 19. \n"
     ]
    },
    {
     "name": "stdout",
     "output_type": "stream",
     "text": [
      "Starting experimental run with id: 20. \n"
     ]
    },
    {
     "name": "stdout",
     "output_type": "stream",
     "text": [
      "Starting experimental run with id: 21. \n"
     ]
    },
    {
     "name": "stdout",
     "output_type": "stream",
     "text": [
      "Starting experimental run with id: 22. \n"
     ]
    },
    {
     "name": "stdout",
     "output_type": "stream",
     "text": [
      "Starting experimental run with id: 23. \n"
     ]
    },
    {
     "name": "stdout",
     "output_type": "stream",
     "text": [
      "Starting experimental run with id: 24. \n"
     ]
    },
    {
     "name": "stdout",
     "output_type": "stream",
     "text": [
      "Starting experimental run with id: 25. \n"
     ]
    },
    {
     "name": "stdout",
     "output_type": "stream",
     "text": [
      "Starting experimental run with id: 26. \n"
     ]
    },
    {
     "name": "stdout",
     "output_type": "stream",
     "text": [
      "Starting experimental run with id: 27. \n"
     ]
    },
    {
     "name": "stdout",
     "output_type": "stream",
     "text": [
      "Starting experimental run with id: 28. \n"
     ]
    }
   ],
   "source": [
    "sizes = [1,500,1000,2000,3000,4000,5000]\n",
    "nreps = 100\n",
    "t_numeric = []\n",
    "t_numeric_add = []\n",
    "t_numeric_run_ids = []\n",
    "t_array = []\n",
    "t_array_add = []\n",
    "t_array_run_ids = []\n",
    "for size in sizes:\n",
    "    tn, tna, run_id_n =  insert_data('numeric', size, nreps=nreps)\n",
    "    t_numeric.append(tn)\n",
    "    t_numeric_add.append(tna)\n",
    "    t_numeric_run_ids.append(run_id_n)\n",
    "\n",
    "    ta, taa, run_id_a =  insert_data('array', size, nreps=nreps)\n",
    "    t_array.append(ta)\n",
    "    t_array_add.append(taa)\n",
    "    t_array_run_ids.append(run_id_a)"
   ]
  },
  {
   "cell_type": "code",
   "execution_count": 8,
   "metadata": {
    "execution": {
     "iopub.execute_input": "2020-11-17T15:08:21.479212Z",
     "iopub.status.busy": "2020-11-17T15:08:21.466361Z",
     "iopub.status.idle": "2020-11-17T15:08:21.702482Z",
     "shell.execute_reply": "2020-11-17T15:08:21.702925Z"
    },
    "scrolled": true
   },
   "outputs": [
    {
     "data": {
      "image/png": "[encoded data removed]",
      "text/plain": [
       "<Figure size 432x288 with 1 Axes>"
      ]
     },
     "metadata": {
      "needs_background": "light"
     },
     "output_type": "display_data"
    }
   ],
   "source": [
    "fig, ax = plt.subplots(1,1)\n",
    "ax.plot(sizes, t_numeric, 'o-', label='Inserting row-by-row')\n",
    "ax.plot(sizes, t_numeric_add, 'o-', label='Inserting row-by-row: add_result only')\n",
    "ax.plot(sizes, t_array, 'd-', label='Inserting as binary blob')\n",
    "ax.plot(sizes, t_array_add, 'd-', label='Inserting as binary blob: add_result only')\n",
    "ax.legend()\n",
    "ax.set_xlabel('Array length')\n",
    "ax.set_ylabel('Time (s)')\n",
    "fig.tight_layout()"
   ]
  },
  {
   "cell_type": "markdown",
   "metadata": {},
   "source": [
    "However, as we increase the length of the experiment, as seen here by repeating the insertion 100 times, we see a big difference between inserting values of the data row-by-row and inserting it as a binary blob."
   ]
  },
  {
   "cell_type": "markdown",
   "metadata": {},
   "source": [
    "## Loading the data "
   ]
  },
  {
   "cell_type": "code",
   "execution_count": 9,
   "metadata": {
    "execution": {
     "iopub.execute_input": "2020-11-17T15:08:21.707222Z",
     "iopub.status.busy": "2020-11-17T15:08:21.705945Z",
     "iopub.status.idle": "2020-11-17T15:08:21.708849Z",
     "shell.execute_reply": "2020-11-17T15:08:21.709267Z"
    }
   },
   "outputs": [],
   "source": [
    "from qcodes.dataset.data_set import load_by_id\n",
    "from qcodes.dataset.data_export import get_data_by_id"
   ]
  },
  {
   "cell_type": "markdown",
   "metadata": {},
   "source": [
    "As usual you can load the data by using the ``load_by_id`` function but you will notice that the different storage methods\n",
    "are reflected in shape of the data as it is retrieved. "
   ]
  },
  {
   "cell_type": "code",
   "execution_count": 10,
   "metadata": {
    "execution": {
     "iopub.execute_input": "2020-11-17T15:08:21.713472Z",
     "iopub.status.busy": "2020-11-17T15:08:21.712251Z",
     "iopub.status.idle": "2020-11-17T15:08:21.714065Z",
     "shell.execute_reply": "2020-11-17T15:08:21.714536Z"
    }
   },
   "outputs": [],
   "source": [
    "run_id_n = t_numeric_run_ids[0]\n",
    "run_id_a = t_array_run_ids[0]"
   ]
  },
  {
   "cell_type": "code",
   "execution_count": 11,
   "metadata": {
    "execution": {
     "iopub.execute_input": "2020-11-17T15:08:21.717653Z",
     "iopub.status.busy": "2020-11-17T15:08:21.717121Z",
     "iopub.status.idle": "2020-11-17T15:08:21.725918Z",
     "shell.execute_reply": "2020-11-17T15:08:21.725378Z"
    },
    "scrolled": true
   },
   "outputs": [
    {
     "data": {
      "text/plain": [
       "{'x1': {'x1': array([0.00543804, 0.00543804, 0.28333312, 0.28333312, 0.56529692,\n",
       "         0.56529692, 0.77130739, 0.77130739, 0.20246848, 0.20246848,\n",
       "         0.47801523, 0.47801523, 0.8927485 , 0.8927485 , 0.86093373,\n",
       "         0.86093373, 0.99622959, 0.99622959, 0.2747377 , 0.2747377 ,\n",
       "         0.09043677, 0.09043677, 0.78294596, 0.78294596, 0.25829847,\n",
       "         0.25829847, 0.75360678, 0.75360678, 0.16804795, 0.16804795,\n",
       "         0.31425511, 0.31425511, 0.77616981, 0.77616981, 0.71978306,\n",
       "         0.71978306, 0.81050636, 0.81050636, 0.07001767, 0.07001767,\n",
       "         0.23457996, 0.23457996, 0.42186325, 0.42186325, 0.25824579,\n",
       "         0.25824579, 0.87817286, 0.87817286, 0.0124552 , 0.0124552 ,\n",
       "         0.54379949, 0.54379949, 0.5954098 , 0.5954098 , 0.39596602,\n",
       "         0.39596602, 0.35058903, 0.35058903, 0.40322365, 0.40322365,\n",
       "         0.43677884, 0.43677884, 0.63617581, 0.63617581, 0.80018101,\n",
       "         0.80018101, 0.45785021, 0.45785021, 0.39284431, 0.39284431,\n",
       "         0.8749098 , 0.8749098 , 0.91527978, 0.91527978, 0.93340495,\n",
       "         0.93340495, 0.26518033, 0.26518033, 0.93154517, 0.93154517,\n",
       "         0.0700682 , 0.0700682 , 0.52480114, 0.52480114, 0.52167785,\n",
       "         0.52167785, 0.37280385, 0.37280385, 0.17833865, 0.17833865,\n",
       "         0.04789718, 0.04789718, 0.27552177, 0.27552177, 0.79951383,\n",
       "         0.79951383, 0.56879179, 0.56879179, 0.02167549, 0.02167549,\n",
       "         0.99515264, 0.99515264, 0.43631306, 0.43631306, 0.75815178,\n",
       "         0.75815178, 0.75172824, 0.75172824, 0.45161876, 0.45161876,\n",
       "         0.65850677, 0.65850677, 0.88224777, 0.88224777, 0.2444702 ,\n",
       "         0.2444702 , 0.79002458, 0.79002458, 0.88356469, 0.88356469,\n",
       "         0.6041783 , 0.6041783 , 0.85109227, 0.85109227, 0.81402141,\n",
       "         0.81402141, 0.8403331 , 0.8403331 , 0.23931661, 0.23931661,\n",
       "         0.55906651, 0.55906651, 0.13359899, 0.13359899, 0.4095911 ,\n",
       "         0.4095911 , 0.64492787, 0.64492787, 0.87865087, 0.87865087,\n",
       "         0.30969086, 0.30969086, 0.79107312, 0.79107312, 0.71023272,\n",
       "         0.71023272, 0.39320616, 0.39320616, 0.40533376, 0.40533376,\n",
       "         0.27193885, 0.27193885, 0.83010588, 0.83010588, 0.83523508,\n",
       "         0.83523508, 0.87621979, 0.87621979, 0.39420039, 0.39420039,\n",
       "         0.5885126 , 0.5885126 , 0.85841262, 0.85841262, 0.89805407,\n",
       "         0.89805407, 0.697496  , 0.697496  , 0.70883149, 0.70883149,\n",
       "         0.35957912, 0.35957912, 0.78927735, 0.78927735, 0.95553394,\n",
       "         0.95553394, 0.06226441, 0.06226441, 0.09825801, 0.09825801,\n",
       "         0.07676189, 0.07676189, 0.81254618, 0.81254618, 0.40051664,\n",
       "         0.40051664, 0.33286236, 0.33286236, 0.12577403, 0.12577403,\n",
       "         0.59403851, 0.59403851, 0.32240618, 0.32240618, 0.04385591,\n",
       "         0.04385591, 0.50884278, 0.50884278, 0.54792893, 0.54792893])}}"
      ]
     },
     "execution_count": 1,
     "metadata": {},
     "output_type": "execute_result"
    }
   ],
   "source": [
    "ds = load_by_id(run_id_n)\n",
    "ds.get_parameter_data('x1')"
   ]
  },
  {
   "cell_type": "markdown",
   "metadata": {},
   "source": [
    "And a dataset stored as binary arrays"
   ]
  },
  {
   "cell_type": "code",
   "execution_count": 12,
   "metadata": {
    "execution": {
     "iopub.execute_input": "2020-11-17T15:08:21.729050Z",
     "iopub.status.busy": "2020-11-17T15:08:21.728513Z",
     "iopub.status.idle": "2020-11-17T15:08:21.785666Z",
     "shell.execute_reply": "2020-11-17T15:08:21.786118Z"
    },
    "scrolled": true
   },
   "outputs": [
    {
     "data": {
      "text/plain": [
       "{'x1': {'x1': array([[0.14393456],\n",
       "         [0.14393456],\n",
       "         [0.05991549],\n",
       "         [0.05991549],\n",
       "         [0.63427403],\n",
       "         [0.63427403],\n",
       "         [0.36083913],\n",
       "         [0.36083913],\n",
       "         [0.33862701],\n",
       "         [0.33862701],\n",
       "         [0.80651348],\n",
       "         [0.80651348],\n",
       "         [0.4231739 ],\n",
       "         [0.4231739 ],\n",
       "         [0.94283866],\n",
       "         [0.94283866],\n",
       "         [0.98196644],\n",
       "         [0.98196644],\n",
       "         [0.97033601],\n",
       "         [0.97033601],\n",
       "         [0.35736511],\n",
       "         [0.35736511],\n",
       "         [0.62257994],\n",
       "         [0.62257994],\n",
       "         [0.20599435],\n",
       "         [0.20599435],\n",
       "         [0.89582676],\n",
       "         [0.89582676],\n",
       "         [0.55034732],\n",
       "         [0.55034732],\n",
       "         [0.86327367],\n",
       "         [0.86327367],\n",
       "         [0.6095712 ],\n",
       "         [0.6095712 ],\n",
       "         [0.57843532],\n",
       "         [0.57843532],\n",
       "         [0.84107243],\n",
       "         [0.84107243],\n",
       "         [0.09050906],\n",
       "         [0.09050906],\n",
       "         [0.30652071],\n",
       "         [0.30652071],\n",
       "         [0.19443195],\n",
       "         [0.19443195],\n",
       "         [0.849101  ],\n",
       "         [0.849101  ],\n",
       "         [0.00663481],\n",
       "         [0.00663481],\n",
       "         [0.95803283],\n",
       "         [0.95803283],\n",
       "         [0.51541658],\n",
       "         [0.51541658],\n",
       "         [0.97342513],\n",
       "         [0.97342513],\n",
       "         [0.13115557],\n",
       "         [0.13115557],\n",
       "         [0.52562796],\n",
       "         [0.52562796],\n",
       "         [0.0996093 ],\n",
       "         [0.0996093 ],\n",
       "         [0.00526855],\n",
       "         [0.00526855],\n",
       "         [0.90927422],\n",
       "         [0.90927422],\n",
       "         [0.78632111],\n",
       "         [0.78632111],\n",
       "         [0.19555225],\n",
       "         [0.19555225],\n",
       "         [0.38627563],\n",
       "         [0.38627563],\n",
       "         [0.34352452],\n",
       "         [0.34352452],\n",
       "         [0.25843565],\n",
       "         [0.25843565],\n",
       "         [0.45653229],\n",
       "         [0.45653229],\n",
       "         [0.67170318],\n",
       "         [0.67170318],\n",
       "         [0.40099922],\n",
       "         [0.40099922],\n",
       "         [0.64213746],\n",
       "         [0.64213746],\n",
       "         [0.00174937],\n",
       "         [0.00174937],\n",
       "         [0.6442085 ],\n",
       "         [0.6442085 ],\n",
       "         [0.91618166],\n",
       "         [0.91618166],\n",
       "         [0.58923079],\n",
       "         [0.58923079],\n",
       "         [0.01335435],\n",
       "         [0.01335435],\n",
       "         [0.9540372 ],\n",
       "         [0.9540372 ],\n",
       "         [0.49586405],\n",
       "         [0.49586405],\n",
       "         [0.42694814],\n",
       "         [0.42694814],\n",
       "         [0.7858033 ],\n",
       "         [0.7858033 ],\n",
       "         [0.1100932 ],\n",
       "         [0.1100932 ],\n",
       "         [0.30905633],\n",
       "         [0.30905633],\n",
       "         [0.6616823 ],\n",
       "         [0.6616823 ],\n",
       "         [0.66662311],\n",
       "         [0.66662311],\n",
       "         [0.45325852],\n",
       "         [0.45325852],\n",
       "         [0.84356356],\n",
       "         [0.84356356],\n",
       "         [0.23461145],\n",
       "         [0.23461145],\n",
       "         [0.14629238],\n",
       "         [0.14629238],\n",
       "         [0.31929988],\n",
       "         [0.31929988],\n",
       "         [0.60048548],\n",
       "         [0.60048548],\n",
       "         [0.53376882],\n",
       "         [0.53376882],\n",
       "         [0.09904623],\n",
       "         [0.09904623],\n",
       "         [0.06731108],\n",
       "         [0.06731108],\n",
       "         [0.12093308],\n",
       "         [0.12093308],\n",
       "         [0.85977413],\n",
       "         [0.85977413],\n",
       "         [0.19059363],\n",
       "         [0.19059363],\n",
       "         [0.37006895],\n",
       "         [0.37006895],\n",
       "         [0.67825144],\n",
       "         [0.67825144],\n",
       "         [0.85073051],\n",
       "         [0.85073051],\n",
       "         [0.85702424],\n",
       "         [0.85702424],\n",
       "         [0.54265161],\n",
       "         [0.54265161],\n",
       "         [0.82625297],\n",
       "         [0.82625297],\n",
       "         [0.87233833],\n",
       "         [0.87233833],\n",
       "         [0.72348684],\n",
       "         [0.72348684],\n",
       "         [0.39937705],\n",
       "         [0.39937705],\n",
       "         [0.23847646],\n",
       "         [0.23847646],\n",
       "         [0.7254055 ],\n",
       "         [0.7254055 ],\n",
       "         [0.45894077],\n",
       "         [0.45894077],\n",
       "         [0.85914084],\n",
       "         [0.85914084],\n",
       "         [0.93731004],\n",
       "         [0.93731004],\n",
       "         [0.64069101],\n",
       "         [0.64069101],\n",
       "         [0.08162986],\n",
       "         [0.08162986],\n",
       "         [0.46139299],\n",
       "         [0.46139299],\n",
       "         [0.34618216],\n",
       "         [0.34618216],\n",
       "         [0.50658424],\n",
       "         [0.50658424],\n",
       "         [0.45931399],\n",
       "         [0.45931399],\n",
       "         [0.98035424],\n",
       "         [0.98035424],\n",
       "         [0.1183245 ],\n",
       "         [0.1183245 ],\n",
       "         [0.77555362],\n",
       "         [0.77555362],\n",
       "         [0.29873095],\n",
       "         [0.29873095],\n",
       "         [0.25662296],\n",
       "         [0.25662296],\n",
       "         [0.54652883],\n",
       "         [0.54652883],\n",
       "         [0.32213709],\n",
       "         [0.32213709],\n",
       "         [0.0453375 ],\n",
       "         [0.0453375 ],\n",
       "         [0.42735752],\n",
       "         [0.42735752],\n",
       "         [0.20012046],\n",
       "         [0.20012046],\n",
       "         [0.56577932],\n",
       "         [0.56577932],\n",
       "         [0.48355135],\n",
       "         [0.48355135],\n",
       "         [0.73135751],\n",
       "         [0.73135751],\n",
       "         [0.86490808],\n",
       "         [0.86490808]])}}"
      ]
     },
     "execution_count": 1,
     "metadata": {},
     "output_type": "execute_result"
    }
   ],
   "source": [
    "ds = load_by_id(run_id_a)\n",
    "ds.get_parameter_data('x1')"
   ]
  },
  {
   "cell_type": "code",
   "execution_count": null,
   "metadata": {},
   "outputs": [],
   "source": []
  }
 ],
 "metadata": {
  "kernelspec": {
   "display_name": "Python 3",
   "language": "python",
   "name": "python3"
  },
  "language_info": {
   "codemirror_mode": {
    "name": "ipython",
    "version": 3
   },
   "file_extension": ".py",
   "mimetype": "text/x-python",
   "name": "python",
   "nbconvert_exporter": "python",
   "pygments_lexer": "ipython3",
   "version": "3.7.9"
  },
  "nbsphinx": {
   "timeout": 600
  },
  "toc": {
   "base_numbering": 1,
   "nav_menu": {},
   "number_sections": true,
   "sideBar": true,
   "skip_h1_title": false,
   "title_cell": "Table of Contents",
   "title_sidebar": "Contents",
   "toc_cell": false,
   "toc_position": {},
   "toc_section_display": true,
   "toc_window_display": false
  },
  "varInspector": {
   "cols": {
    "lenName": 16,
    "lenType": 16,
    "lenVar": 40
   },
   "kernels_config": {
    "python": {
     "delete_cmd_postfix": "",
     "delete_cmd_prefix": "del ",
     "library": "var_list.py",
     "varRefreshCmd": "print(var_dic_list())"
    },
    "r": {
     "delete_cmd_postfix": ") ",
     "delete_cmd_prefix": "rm(",
     "library": "var_list.r",
     "varRefreshCmd": "cat(var_dic_list()) "
    }
   },
   "types_to_exclude": [
    "module",
    "function",
    "builtin_function_or_method",
    "instance",
    "_Feature"
   ],
   "window_display": false
  }
 },
 "nbformat": 4,
 "nbformat_minor": 2
}
