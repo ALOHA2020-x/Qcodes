{
 "cells": [
  {
   "cell_type": "markdown",
   "metadata": {},
   "source": [
    "# DataSet Performance\n",
    "\n",
    "This notebook shows the trade-off between inserting data into a database row-by-row and as binary blobs. Inserting the data row-by-row means that we have direct access to all the data and may perform queries directly on the values of the data. On the other hand, as we shall see, this is much slower than inserting the data directly as binary blobs."
   ]
  },
  {
   "cell_type": "markdown",
   "metadata": {},
   "source": [
    "First, we choose a new location for the database to ensure that we don't add a bunch of benchmarking data to the default one."
   ]
  },
  {
   "cell_type": "code",
   "execution_count": 1,
   "metadata": {
    "execution": {
     "iopub.execute_input": "2021-02-16T17:05:58.026364Z",
     "iopub.status.busy": "2021-02-16T17:05:58.025775Z",
     "iopub.status.idle": "2021-02-16T17:05:59.061935Z",
     "shell.execute_reply": "2021-02-16T17:05:59.062520Z"
    }
   },
   "outputs": [
    {
     "name": "stdout",
     "output_type": "stream",
     "text": [
      "Logging hadn't been started.\n",
      "Activating auto-logging. Current session state plus future input saved.\n",
      "Filename       : /home/runner/.qcodes/logs/command_history.log\n",
      "Mode           : append\n",
      "Output logging : True\n",
      "Raw input log  : False\n",
      "Timestamping   : True\n",
      "State          : active\n"
     ]
    },
    {
     "name": "stdout",
     "output_type": "stream",
     "text": [
      "Qcodes Logfile : /home/runner/.qcodes/logs/210216-3834-qcodes.log\n"
     ]
    }
   ],
   "source": [
    "import os\n",
    "cwd = os.getcwd()\n",
    "import qcodes as qc\n",
    "qc.config[\"core\"][\"db_location\"] = os.path.join(cwd, 'testing.db')\n"
   ]
  },
  {
   "cell_type": "code",
   "execution_count": 2,
   "metadata": {
    "execution": {
     "iopub.execute_input": "2021-02-16T17:05:59.071871Z",
     "iopub.status.busy": "2021-02-16T17:05:59.069627Z",
     "iopub.status.idle": "2021-02-16T17:05:59.293568Z",
     "shell.execute_reply": "2021-02-16T17:05:59.292609Z"
    }
   },
   "outputs": [],
   "source": [
    "%matplotlib inline\n",
    "import time\n",
    "import matplotlib.pyplot as plt\n",
    "import numpy as np\n",
    "\n",
    "import qcodes as qc\n",
    "from qcodes.instrument.parameter import ManualParameter\n",
    "from qcodes.dataset.experiment_container import (Experiment,\n",
    "                                                 load_last_experiment,\n",
    "                                                 new_experiment)\n",
    "from qcodes.dataset.sqlite.database import initialise_database\n",
    "from qcodes import load_or_create_experiment\n",
    "from qcodes.dataset.measurements import Measurement"
   ]
  },
  {
   "cell_type": "code",
   "execution_count": 3,
   "metadata": {
    "execution": {
     "iopub.execute_input": "2021-02-16T17:05:59.297872Z",
     "iopub.status.busy": "2021-02-16T17:05:59.297151Z",
     "iopub.status.idle": "2021-02-16T17:05:59.433594Z",
     "shell.execute_reply": "2021-02-16T17:05:59.433014Z"
    }
   },
   "outputs": [
    {
     "name": "stdout",
     "output_type": "stream",
     "text": [
      "\r",
      "0it [00:00, ?it/s]"
     ]
    },
    {
     "name": "stdout",
     "output_type": "stream",
     "text": [
      "\r",
      "Upgrading database; v0 -> v1: : 0it [00:00, ?it/s]"
     ]
    },
    {
     "name": "stdout",
     "output_type": "stream",
     "text": [
      "\r",
      "Upgrading database; v0 -> v1: : 0it [00:00, ?it/s]"
     ]
    },
    {
     "name": "stdout",
     "output_type": "stream",
     "text": [
      "\n",
      "\r",
      "  0%|          | 0/1 [00:00<?, ?it/s]"
     ]
    },
    {
     "name": "stdout",
     "output_type": "stream",
     "text": [
      "\r",
      "Upgrading database; v1 -> v2:   0%|          | 0/1 [00:00<?, ?it/s]"
     ]
    },
    {
     "name": "stdout",
     "output_type": "stream",
     "text": [
      "\r",
      "Upgrading database; v1 -> v2: 100%|██████████| 1/1 [00:00<00:00, 939.79it/s]"
     ]
    },
    {
     "name": "stdout",
     "output_type": "stream",
     "text": [
      "\n",
      "\r",
      "0it [00:00, ?it/s]"
     ]
    },
    {
     "name": "stdout",
     "output_type": "stream",
     "text": [
      "\r",
      "Upgrading database; v2 -> v3: : 0it [00:00, ?it/s]"
     ]
    },
    {
     "name": "stdout",
     "output_type": "stream",
     "text": [
      "\r",
      "Upgrading database; v2 -> v3: : 0it [00:00, ?it/s]"
     ]
    },
    {
     "name": "stdout",
     "output_type": "stream",
     "text": [
      "\n",
      "\r",
      "0it [00:00, ?it/s]"
     ]
    },
    {
     "name": "stdout",
     "output_type": "stream",
     "text": [
      "\r",
      "Upgrading database; v3 -> v4: : 0it [00:00, ?it/s]"
     ]
    },
    {
     "name": "stdout",
     "output_type": "stream",
     "text": [
      "\r",
      "Upgrading database; v3 -> v4: : 0it [00:00, ?it/s]"
     ]
    },
    {
     "name": "stdout",
     "output_type": "stream",
     "text": [
      "\n",
      "\r",
      "  0%|          | 0/1 [00:00<?, ?it/s]"
     ]
    },
    {
     "name": "stdout",
     "output_type": "stream",
     "text": [
      "\r",
      "Upgrading database; v4 -> v5:   0%|          | 0/1 [00:00<?, ?it/s]"
     ]
    },
    {
     "name": "stdout",
     "output_type": "stream",
     "text": [
      "\r",
      "Upgrading database; v4 -> v5: 100%|██████████| 1/1 [00:00<00:00, 354.25it/s]"
     ]
    },
    {
     "name": "stdout",
     "output_type": "stream",
     "text": [
      "\n",
      "\r",
      "0it [00:00, ?it/s]"
     ]
    },
    {
     "name": "stdout",
     "output_type": "stream",
     "text": [
      "\r",
      "Upgrading database; v5 -> v6: : 0it [00:00, ?it/s]"
     ]
    },
    {
     "name": "stdout",
     "output_type": "stream",
     "text": [
      "\r",
      "Upgrading database; v5 -> v6: : 0it [00:00, ?it/s]"
     ]
    },
    {
     "name": "stdout",
     "output_type": "stream",
     "text": [
      "\n",
      "\r",
      "  0%|          | 0/1 [00:00<?, ?it/s]"
     ]
    },
    {
     "name": "stdout",
     "output_type": "stream",
     "text": [
      "\r",
      "Upgrading database; v6 -> v7:   0%|          | 0/1 [00:00<?, ?it/s]"
     ]
    },
    {
     "name": "stdout",
     "output_type": "stream",
     "text": [
      "\r",
      "Upgrading database; v6 -> v7: 100%|██████████| 1/1 [00:00<00:00, 237.50it/s]"
     ]
    },
    {
     "name": "stdout",
     "output_type": "stream",
     "text": [
      "\n",
      "\r",
      "  0%|          | 0/1 [00:00<?, ?it/s]"
     ]
    },
    {
     "name": "stdout",
     "output_type": "stream",
     "text": [
      "\r",
      "Upgrading database; v7 -> v8:   0%|          | 0/1 [00:00<?, ?it/s]"
     ]
    },
    {
     "name": "stdout",
     "output_type": "stream",
     "text": [
      "\r",
      "Upgrading database; v7 -> v8: 100%|██████████| 1/1 [00:00<00:00, 348.68it/s]"
     ]
    },
    {
     "name": "stdout",
     "output_type": "stream",
     "text": [
      "\n",
      "\r",
      "  0%|          | 0/1 [00:00<?, ?it/s]"
     ]
    },
    {
     "name": "stdout",
     "output_type": "stream",
     "text": [
      "\r",
      "Upgrading database; v8 -> v9:   0%|          | 0/1 [00:00<?, ?it/s]"
     ]
    },
    {
     "name": "stdout",
     "output_type": "stream",
     "text": [
      "\r",
      "Upgrading database; v8 -> v9: 100%|██████████| 1/1 [00:00<00:00, 412.58it/s]"
     ]
    },
    {
     "name": "stdout",
     "output_type": "stream",
     "text": [
      "\n"
     ]
    }
   ],
   "source": [
    "initialise_database()\n",
    "exp = load_or_create_experiment(experiment_name='tutorial_exp', sample_name=\"no sample\")"
   ]
  },
  {
   "cell_type": "markdown",
   "metadata": {},
   "source": [
    "Here, we define a simple function to benchmark the time it takes to insert n points with either numeric or array data type.\n",
    "We will compare both the time used to call ``add_result`` and the time used for the full measurement."
   ]
  },
  {
   "cell_type": "code",
   "execution_count": 4,
   "metadata": {
    "execution": {
     "iopub.execute_input": "2021-02-16T17:05:59.442858Z",
     "iopub.status.busy": "2021-02-16T17:05:59.441051Z",
     "iopub.status.idle": "2021-02-16T17:05:59.444775Z",
     "shell.execute_reply": "2021-02-16T17:05:59.445362Z"
    }
   },
   "outputs": [],
   "source": [
    "def insert_data(paramtype, npoints, nreps=1):\n",
    "\n",
    "    meas = Measurement(exp=exp)\n",
    "\n",
    "    x1 = ManualParameter('x1')\n",
    "    x2 = ManualParameter('x2')\n",
    "    x3 = ManualParameter('x3')\n",
    "    y1 = ManualParameter('y1')\n",
    "    y2 = ManualParameter('y2')\n",
    "\n",
    "    meas.register_parameter(x1, paramtype=paramtype)\n",
    "    meas.register_parameter(x2, paramtype=paramtype)\n",
    "    meas.register_parameter(x3, paramtype=paramtype)\n",
    "    meas.register_parameter(y1, setpoints=[x1, x2, x3],\n",
    "                            paramtype=paramtype)\n",
    "    meas.register_parameter(y2, setpoints=[x1, x2, x3],\n",
    "                            paramtype=paramtype)\n",
    "    start = time.perf_counter()\n",
    "    with meas.run() as datasaver:\n",
    "        start_adding = time.perf_counter()\n",
    "        for i in range(nreps):\n",
    "            datasaver.add_result((x1, np.random.rand(npoints)),\n",
    "                                 (x2, np.random.rand(npoints)),\n",
    "                                 (x3, np.random.rand(npoints)),\n",
    "                                 (y1, np.random.rand(npoints)),\n",
    "                                 (y2, np.random.rand(npoints)))\n",
    "        stop_adding = time.perf_counter()\n",
    "        run_id = datasaver.run_id\n",
    "    stop = time.perf_counter()\n",
    "    tot_time = stop - start\n",
    "    add_time = stop_adding - start_adding\n",
    "    return tot_time, add_time, run_id"
   ]
  },
  {
   "cell_type": "markdown",
   "metadata": {},
   "source": [
    "## Comparison between numeric/array data and binary blob"
   ]
  },
  {
   "cell_type": "markdown",
   "metadata": {},
   "source": [
    "### Case1: Short experiment time"
   ]
  },
  {
   "cell_type": "code",
   "execution_count": 5,
   "metadata": {
    "execution": {
     "iopub.execute_input": "2021-02-16T17:05:59.452683Z",
     "iopub.status.busy": "2021-02-16T17:05:59.449823Z",
     "iopub.status.idle": "2021-02-16T17:06:00.410363Z",
     "shell.execute_reply": "2021-02-16T17:06:00.409475Z"
    }
   },
   "outputs": [
    {
     "name": "stdout",
     "output_type": "stream",
     "text": [
      "Starting experimental run with id: 1. \n",
      "Starting experimental run with id: 2. \n",
      "Starting experimental run with id: 3. \n",
      "Starting experimental run with id: 4. \n"
     ]
    },
    {
     "name": "stdout",
     "output_type": "stream",
     "text": [
      "Starting experimental run with id: 5. \n"
     ]
    },
    {
     "name": "stdout",
     "output_type": "stream",
     "text": [
      "Starting experimental run with id: 6. \n",
      "Starting experimental run with id: 7. \n"
     ]
    },
    {
     "name": "stdout",
     "output_type": "stream",
     "text": [
      "Starting experimental run with id: 8. \n"
     ]
    },
    {
     "name": "stdout",
     "output_type": "stream",
     "text": [
      "Starting experimental run with id: 9. \n"
     ]
    },
    {
     "name": "stdout",
     "output_type": "stream",
     "text": [
      "Starting experimental run with id: 10. \n",
      "Starting experimental run with id: 11. \n"
     ]
    },
    {
     "name": "stdout",
     "output_type": "stream",
     "text": [
      "Starting experimental run with id: 12. \n"
     ]
    },
    {
     "name": "stdout",
     "output_type": "stream",
     "text": [
      "Starting experimental run with id: 13. \n"
     ]
    },
    {
     "name": "stdout",
     "output_type": "stream",
     "text": [
      "Starting experimental run with id: 14. \n"
     ]
    }
   ],
   "source": [
    "sizes = [1,500,1000,2000,3000,4000,5000]\n",
    "t_numeric = []\n",
    "t_numeric_add = []\n",
    "t_array = []\n",
    "t_array_add = []\n",
    "for size in sizes:\n",
    "    tn, tna, run_id_n =  insert_data('numeric', size)\n",
    "    t_numeric.append(tn)\n",
    "    t_numeric_add.append(tna)\n",
    "\n",
    "    ta, taa, run_id_a =  insert_data('array', size)\n",
    "    t_array.append(ta)\n",
    "    t_array_add.append(taa)"
   ]
  },
  {
   "cell_type": "code",
   "execution_count": 6,
   "metadata": {
    "execution": {
     "iopub.execute_input": "2021-02-16T17:06:00.446081Z",
     "iopub.status.busy": "2021-02-16T17:06:00.435613Z",
     "iopub.status.idle": "2021-02-16T17:06:00.708777Z",
     "shell.execute_reply": "2021-02-16T17:06:00.707708Z"
    }
   },
   "outputs": [
    {
     "data": {
      "image/png": "[encoded data removed]",
      "text/plain": [
       "<Figure size 432x288 with 1 Axes>"
      ]
     },
     "metadata": {
      "needs_background": "light"
     },
     "output_type": "display_data"
    }
   ],
   "source": [
    "fig, ax = plt.subplots(1,1)\n",
    "ax.plot(sizes, t_numeric, 'o-', label='Inserting row-by-row')\n",
    "ax.plot(sizes, t_numeric_add, 'o-', label='Inserting row-by-row: add_result only')\n",
    "ax.plot(sizes, t_array, 'd-', label='Inserting as binary blob')\n",
    "ax.plot(sizes, t_array_add, 'd-', label='Inserting as binary blob: add_result only')\n",
    "ax.legend()\n",
    "ax.set_xlabel('Array length')\n",
    "ax.set_ylabel('Time (s)')\n",
    "fig.tight_layout()"
   ]
  },
  {
   "cell_type": "markdown",
   "metadata": {},
   "source": [
    "As shown in the latter figure, the time to setup and and close the experiment is approximately 0.4 sec. In case of small array sizes, the difference between inserting values of data as arrays and inserting them row-by-row is relatively unimportant. At larger array sizes, i.e. above 10000 points, the cost of writing data as individual datapoints starts to become important.\n"
   ]
  },
  {
   "cell_type": "markdown",
   "metadata": {},
   "source": [
    "### Case2: Long experiment time "
   ]
  },
  {
   "cell_type": "code",
   "execution_count": 7,
   "metadata": {
    "execution": {
     "iopub.execute_input": "2021-02-16T17:06:00.717622Z",
     "iopub.status.busy": "2021-02-16T17:06:00.716328Z",
     "iopub.status.idle": "2021-02-16T17:07:03.642344Z",
     "shell.execute_reply": "2021-02-16T17:07:03.641665Z"
    }
   },
   "outputs": [
    {
     "name": "stdout",
     "output_type": "stream",
     "text": [
      "Starting experimental run with id: 15. \n",
      "Starting experimental run with id: 16. \n"
     ]
    },
    {
     "name": "stdout",
     "output_type": "stream",
     "text": [
      "Starting experimental run with id: 17. \n"
     ]
    },
    {
     "name": "stdout",
     "output_type": "stream",
     "text": [
      "Starting experimental run with id: 18. \n"
     ]
    },
    {
     "name": "stdout",
     "output_type": "stream",
     "text": [
      "Starting experimental run with id: 19. \n"
     ]
    },
    {
     "name": "stdout",
     "output_type": "stream",
     "text": [
      "Starting experimental run with id: 20. \n"
     ]
    },
    {
     "name": "stdout",
     "output_type": "stream",
     "text": [
      "Starting experimental run with id: 21. \n"
     ]
    },
    {
     "name": "stdout",
     "output_type": "stream",
     "text": [
      "Starting experimental run with id: 22. \n"
     ]
    },
    {
     "name": "stdout",
     "output_type": "stream",
     "text": [
      "Starting experimental run with id: 23. \n"
     ]
    },
    {
     "name": "stdout",
     "output_type": "stream",
     "text": [
      "Starting experimental run with id: 24. \n"
     ]
    },
    {
     "name": "stdout",
     "output_type": "stream",
     "text": [
      "Starting experimental run with id: 25. \n"
     ]
    },
    {
     "name": "stdout",
     "output_type": "stream",
     "text": [
      "Starting experimental run with id: 26. \n"
     ]
    },
    {
     "name": "stdout",
     "output_type": "stream",
     "text": [
      "Starting experimental run with id: 27. \n"
     ]
    },
    {
     "name": "stdout",
     "output_type": "stream",
     "text": [
      "Starting experimental run with id: 28. \n"
     ]
    }
   ],
   "source": [
    "sizes = [1,500,1000,2000,3000,4000,5000]\n",
    "nreps = 100\n",
    "t_numeric = []\n",
    "t_numeric_add = []\n",
    "t_numeric_run_ids = []\n",
    "t_array = []\n",
    "t_array_add = []\n",
    "t_array_run_ids = []\n",
    "for size in sizes:\n",
    "    tn, tna, run_id_n =  insert_data('numeric', size, nreps=nreps)\n",
    "    t_numeric.append(tn)\n",
    "    t_numeric_add.append(tna)\n",
    "    t_numeric_run_ids.append(run_id_n)\n",
    "\n",
    "    ta, taa, run_id_a =  insert_data('array', size, nreps=nreps)\n",
    "    t_array.append(ta)\n",
    "    t_array_add.append(taa)\n",
    "    t_array_run_ids.append(run_id_a)"
   ]
  },
  {
   "cell_type": "code",
   "execution_count": 8,
   "metadata": {
    "execution": {
     "iopub.execute_input": "2021-02-16T17:07:03.671324Z",
     "iopub.status.busy": "2021-02-16T17:07:03.663806Z",
     "iopub.status.idle": "2021-02-16T17:07:03.904055Z",
     "shell.execute_reply": "2021-02-16T17:07:03.904698Z"
    },
    "scrolled": true
   },
   "outputs": [
    {
     "data": {
      "image/png": "[encoded data removed]",
      "text/plain": [
       "<Figure size 432x288 with 1 Axes>"
      ]
     },
     "metadata": {
      "needs_background": "light"
     },
     "output_type": "display_data"
    }
   ],
   "source": [
    "fig, ax = plt.subplots(1,1)\n",
    "ax.plot(sizes, t_numeric, 'o-', label='Inserting row-by-row')\n",
    "ax.plot(sizes, t_numeric_add, 'o-', label='Inserting row-by-row: add_result only')\n",
    "ax.plot(sizes, t_array, 'd-', label='Inserting as binary blob')\n",
    "ax.plot(sizes, t_array_add, 'd-', label='Inserting as binary blob: add_result only')\n",
    "ax.legend()\n",
    "ax.set_xlabel('Array length')\n",
    "ax.set_ylabel('Time (s)')\n",
    "fig.tight_layout()"
   ]
  },
  {
   "cell_type": "markdown",
   "metadata": {},
   "source": [
    "However, as we increase the length of the experiment, as seen here by repeating the insertion 100 times, we see a big difference between inserting values of the data row-by-row and inserting it as a binary blob."
   ]
  },
  {
   "cell_type": "markdown",
   "metadata": {},
   "source": [
    "## Loading the data "
   ]
  },
  {
   "cell_type": "code",
   "execution_count": 9,
   "metadata": {
    "execution": {
     "iopub.execute_input": "2021-02-16T17:07:03.910318Z",
     "iopub.status.busy": "2021-02-16T17:07:03.909610Z",
     "iopub.status.idle": "2021-02-16T17:07:03.912302Z",
     "shell.execute_reply": "2021-02-16T17:07:03.912865Z"
    }
   },
   "outputs": [],
   "source": [
    "from qcodes.dataset.data_set import load_by_id\n",
    "from qcodes.dataset.data_export import get_data_by_id"
   ]
  },
  {
   "cell_type": "markdown",
   "metadata": {},
   "source": [
    "As usual you can load the data by using the ``load_by_id`` function but you will notice that the different storage methods\n",
    "are reflected in shape of the data as it is retrieved. "
   ]
  },
  {
   "cell_type": "code",
   "execution_count": 10,
   "metadata": {
    "execution": {
     "iopub.execute_input": "2021-02-16T17:07:03.918409Z",
     "iopub.status.busy": "2021-02-16T17:07:03.917037Z",
     "iopub.status.idle": "2021-02-16T17:07:03.919146Z",
     "shell.execute_reply": "2021-02-16T17:07:03.919655Z"
    }
   },
   "outputs": [],
   "source": [
    "run_id_n = t_numeric_run_ids[0]\n",
    "run_id_a = t_array_run_ids[0]"
   ]
  },
  {
   "cell_type": "code",
   "execution_count": 11,
   "metadata": {
    "execution": {
     "iopub.execute_input": "2021-02-16T17:07:03.923771Z",
     "iopub.status.busy": "2021-02-16T17:07:03.923123Z",
     "iopub.status.idle": "2021-02-16T17:07:03.933995Z",
     "shell.execute_reply": "2021-02-16T17:07:03.934514Z"
    },
    "scrolled": true
   },
   "outputs": [
    {
     "data": {
      "text/plain": [
       "{'x1': {'x1': array([0.48397284, 0.48397284, 0.43110043, 0.43110043, 0.89020103,\n",
       "         0.89020103, 0.14893534, 0.14893534, 0.04688492, 0.04688492,\n",
       "         0.81961365, 0.81961365, 0.4994043 , 0.4994043 , 0.87935115,\n",
       "         0.87935115, 0.93724462, 0.93724462, 0.95604296, 0.95604296,\n",
       "         0.88663301, 0.88663301, 0.69518079, 0.69518079, 0.02394045,\n",
       "         0.02394045, 0.78950846, 0.78950846, 0.69346932, 0.69346932,\n",
       "         0.44660137, 0.44660137, 0.74275359, 0.74275359, 0.86840799,\n",
       "         0.86840799, 0.8914781 , 0.8914781 , 0.88326247, 0.88326247,\n",
       "         0.17611298, 0.17611298, 0.88251125, 0.88251125, 0.46899153,\n",
       "         0.46899153, 0.59197861, 0.59197861, 0.99902125, 0.99902125,\n",
       "         0.5994861 , 0.5994861 , 0.37077963, 0.37077963, 0.80642518,\n",
       "         0.80642518, 0.64502176, 0.64502176, 0.49080332, 0.49080332,\n",
       "         0.77947429, 0.77947429, 0.41807537, 0.41807537, 0.28262491,\n",
       "         0.28262491, 0.1428479 , 0.1428479 , 0.71001212, 0.71001212,\n",
       "         0.85991392, 0.85991392, 0.30347361, 0.30347361, 0.3207123 ,\n",
       "         0.3207123 , 0.40052871, 0.40052871, 0.30039715, 0.30039715,\n",
       "         0.29016827, 0.29016827, 0.32778237, 0.32778237, 0.76561402,\n",
       "         0.76561402, 0.73814273, 0.73814273, 0.54761867, 0.54761867,\n",
       "         0.88984948, 0.88984948, 0.59257317, 0.59257317, 0.67301967,\n",
       "         0.67301967, 0.02108455, 0.02108455, 0.81257924, 0.81257924,\n",
       "         0.70060471, 0.70060471, 0.00500692, 0.00500692, 0.81497521,\n",
       "         0.81497521, 0.82037456, 0.82037456, 0.43943029, 0.43943029,\n",
       "         0.49147088, 0.49147088, 0.63353348, 0.63353348, 0.8686245 ,\n",
       "         0.8686245 , 0.76906283, 0.76906283, 0.14110794, 0.14110794,\n",
       "         0.57476613, 0.57476613, 0.34726415, 0.34726415, 0.22158045,\n",
       "         0.22158045, 0.63862779, 0.63862779, 0.41407303, 0.41407303,\n",
       "         0.56671329, 0.56671329, 0.76777604, 0.76777604, 0.63009227,\n",
       "         0.63009227, 0.65772795, 0.65772795, 0.02850694, 0.02850694,\n",
       "         0.47673656, 0.47673656, 0.33092845, 0.33092845, 0.53264104,\n",
       "         0.53264104, 0.87062852, 0.87062852, 0.95014846, 0.95014846,\n",
       "         0.29507597, 0.29507597, 0.76670947, 0.76670947, 0.19907686,\n",
       "         0.19907686, 0.16935834, 0.16935834, 0.04943067, 0.04943067,\n",
       "         0.80787464, 0.80787464, 0.56474487, 0.56474487, 0.68090333,\n",
       "         0.68090333, 0.63859398, 0.63859398, 0.55119716, 0.55119716,\n",
       "         0.91394191, 0.91394191, 0.4896533 , 0.4896533 , 0.96872109,\n",
       "         0.96872109, 0.34593387, 0.34593387, 0.16728702, 0.16728702,\n",
       "         0.98565482, 0.98565482, 0.35448706, 0.35448706, 0.33827649,\n",
       "         0.33827649, 0.74987644, 0.74987644, 0.4252543 , 0.4252543 ,\n",
       "         0.7374438 , 0.7374438 , 0.13582529, 0.13582529, 0.26096309,\n",
       "         0.26096309, 0.38869769, 0.38869769, 0.30468971, 0.30468971])}}"
      ]
     },
     "execution_count": 1,
     "metadata": {},
     "output_type": "execute_result"
    }
   ],
   "source": [
    "ds = load_by_id(run_id_n)\n",
    "ds.get_parameter_data('x1')"
   ]
  },
  {
   "cell_type": "markdown",
   "metadata": {},
   "source": [
    "And a dataset stored as binary arrays"
   ]
  },
  {
   "cell_type": "code",
   "execution_count": 12,
   "metadata": {
    "execution": {
     "iopub.execute_input": "2021-02-16T17:07:03.938600Z",
     "iopub.status.busy": "2021-02-16T17:07:03.937973Z",
     "iopub.status.idle": "2021-02-16T17:07:04.005639Z",
     "shell.execute_reply": "2021-02-16T17:07:04.006173Z"
    },
    "scrolled": true
   },
   "outputs": [
    {
     "data": {
      "text/plain": [
       "{'x1': {'x1': array([[0.36202423],\n",
       "         [0.36202423],\n",
       "         [0.07304829],\n",
       "         [0.07304829],\n",
       "         [0.70603225],\n",
       "         [0.70603225],\n",
       "         [0.34041734],\n",
       "         [0.34041734],\n",
       "         [0.54549382],\n",
       "         [0.54549382],\n",
       "         [0.57941628],\n",
       "         [0.57941628],\n",
       "         [0.53910825],\n",
       "         [0.53910825],\n",
       "         [0.47698985],\n",
       "         [0.47698985],\n",
       "         [0.25018609],\n",
       "         [0.25018609],\n",
       "         [0.68791564],\n",
       "         [0.68791564],\n",
       "         [0.33464894],\n",
       "         [0.33464894],\n",
       "         [0.20725379],\n",
       "         [0.20725379],\n",
       "         [0.35957032],\n",
       "         [0.35957032],\n",
       "         [0.16312486],\n",
       "         [0.16312486],\n",
       "         [0.36276258],\n",
       "         [0.36276258],\n",
       "         [0.68138037],\n",
       "         [0.68138037],\n",
       "         [0.02203266],\n",
       "         [0.02203266],\n",
       "         [0.21401447],\n",
       "         [0.21401447],\n",
       "         [0.14473534],\n",
       "         [0.14473534],\n",
       "         [0.64952114],\n",
       "         [0.64952114],\n",
       "         [0.98683602],\n",
       "         [0.98683602],\n",
       "         [0.5223805 ],\n",
       "         [0.5223805 ],\n",
       "         [0.29622114],\n",
       "         [0.29622114],\n",
       "         [0.61847707],\n",
       "         [0.61847707],\n",
       "         [0.40770884],\n",
       "         [0.40770884],\n",
       "         [0.01305542],\n",
       "         [0.01305542],\n",
       "         [0.853964  ],\n",
       "         [0.853964  ],\n",
       "         [0.93964026],\n",
       "         [0.93964026],\n",
       "         [0.99911354],\n",
       "         [0.99911354],\n",
       "         [0.81757936],\n",
       "         [0.81757936],\n",
       "         [0.71332438],\n",
       "         [0.71332438],\n",
       "         [0.22560197],\n",
       "         [0.22560197],\n",
       "         [0.95155939],\n",
       "         [0.95155939],\n",
       "         [0.18655235],\n",
       "         [0.18655235],\n",
       "         [0.80971129],\n",
       "         [0.80971129],\n",
       "         [0.46240568],\n",
       "         [0.46240568],\n",
       "         [0.68075466],\n",
       "         [0.68075466],\n",
       "         [0.18088786],\n",
       "         [0.18088786],\n",
       "         [0.54062484],\n",
       "         [0.54062484],\n",
       "         [0.7126465 ],\n",
       "         [0.7126465 ],\n",
       "         [0.89633085],\n",
       "         [0.89633085],\n",
       "         [0.54792457],\n",
       "         [0.54792457],\n",
       "         [0.13630131],\n",
       "         [0.13630131],\n",
       "         [0.67447572],\n",
       "         [0.67447572],\n",
       "         [0.40497151],\n",
       "         [0.40497151],\n",
       "         [0.25294199],\n",
       "         [0.25294199],\n",
       "         [0.28171421],\n",
       "         [0.28171421],\n",
       "         [0.82272875],\n",
       "         [0.82272875],\n",
       "         [0.7297838 ],\n",
       "         [0.7297838 ],\n",
       "         [0.55805137],\n",
       "         [0.55805137],\n",
       "         [0.84944687],\n",
       "         [0.84944687],\n",
       "         [0.8749072 ],\n",
       "         [0.8749072 ],\n",
       "         [0.55947333],\n",
       "         [0.55947333],\n",
       "         [0.10028436],\n",
       "         [0.10028436],\n",
       "         [0.77154843],\n",
       "         [0.77154843],\n",
       "         [0.5052287 ],\n",
       "         [0.5052287 ],\n",
       "         [0.66756478],\n",
       "         [0.66756478],\n",
       "         [0.24025777],\n",
       "         [0.24025777],\n",
       "         [0.97686296],\n",
       "         [0.97686296],\n",
       "         [0.80372092],\n",
       "         [0.80372092],\n",
       "         [0.15756183],\n",
       "         [0.15756183],\n",
       "         [0.43171195],\n",
       "         [0.43171195],\n",
       "         [0.03015604],\n",
       "         [0.03015604],\n",
       "         [0.7376875 ],\n",
       "         [0.7376875 ],\n",
       "         [0.15028341],\n",
       "         [0.15028341],\n",
       "         [0.46342462],\n",
       "         [0.46342462],\n",
       "         [0.12228862],\n",
       "         [0.12228862],\n",
       "         [0.2352306 ],\n",
       "         [0.2352306 ],\n",
       "         [0.11648228],\n",
       "         [0.11648228],\n",
       "         [0.00259443],\n",
       "         [0.00259443],\n",
       "         [0.10684851],\n",
       "         [0.10684851],\n",
       "         [0.45399651],\n",
       "         [0.45399651],\n",
       "         [0.12329794],\n",
       "         [0.12329794],\n",
       "         [0.43961891],\n",
       "         [0.43961891],\n",
       "         [0.40839804],\n",
       "         [0.40839804],\n",
       "         [0.45327136],\n",
       "         [0.45327136],\n",
       "         [0.3159137 ],\n",
       "         [0.3159137 ],\n",
       "         [0.90893623],\n",
       "         [0.90893623],\n",
       "         [0.26505954],\n",
       "         [0.26505954],\n",
       "         [0.65141856],\n",
       "         [0.65141856],\n",
       "         [0.12446113],\n",
       "         [0.12446113],\n",
       "         [0.22745449],\n",
       "         [0.22745449],\n",
       "         [0.69037365],\n",
       "         [0.69037365],\n",
       "         [0.34909969],\n",
       "         [0.34909969],\n",
       "         [0.46935581],\n",
       "         [0.46935581],\n",
       "         [0.95900684],\n",
       "         [0.95900684],\n",
       "         [0.187534  ],\n",
       "         [0.187534  ],\n",
       "         [0.90494618],\n",
       "         [0.90494618],\n",
       "         [0.96555082],\n",
       "         [0.96555082],\n",
       "         [0.92810712],\n",
       "         [0.92810712],\n",
       "         [0.86585763],\n",
       "         [0.86585763],\n",
       "         [0.54791489],\n",
       "         [0.54791489],\n",
       "         [0.55218014],\n",
       "         [0.55218014],\n",
       "         [0.453715  ],\n",
       "         [0.453715  ],\n",
       "         [0.01370165],\n",
       "         [0.01370165],\n",
       "         [0.46474328],\n",
       "         [0.46474328],\n",
       "         [0.92239378],\n",
       "         [0.92239378],\n",
       "         [0.04442672],\n",
       "         [0.04442672],\n",
       "         [0.49630967],\n",
       "         [0.49630967],\n",
       "         [0.97378123],\n",
       "         [0.97378123]])}}"
      ]
     },
     "execution_count": 1,
     "metadata": {},
     "output_type": "execute_result"
    }
   ],
   "source": [
    "ds = load_by_id(run_id_a)\n",
    "ds.get_parameter_data('x1')"
   ]
  },
  {
   "cell_type": "code",
   "execution_count": null,
   "metadata": {},
   "outputs": [],
   "source": []
  }
 ],
 "metadata": {
  "kernelspec": {
   "display_name": "Python 3",
   "language": "python",
   "name": "python3"
  },
  "language_info": {
   "codemirror_mode": {
    "name": "ipython",
    "version": 3
   },
   "file_extension": ".py",
   "mimetype": "text/x-python",
   "name": "python",
   "nbconvert_exporter": "python",
   "pygments_lexer": "ipython3",
   "version": "3.7.9"
  },
  "nbsphinx": {
   "timeout": 600
  },
  "toc": {
   "base_numbering": 1,
   "nav_menu": {},
   "number_sections": true,
   "sideBar": true,
   "skip_h1_title": false,
   "title_cell": "Table of Contents",
   "title_sidebar": "Contents",
   "toc_cell": false,
   "toc_position": {},
   "toc_section_display": true,
   "toc_window_display": false
  },
  "varInspector": {
   "cols": {
    "lenName": 16,
    "lenType": 16,
    "lenVar": 40
   },
   "kernels_config": {
    "python": {
     "delete_cmd_postfix": "",
     "delete_cmd_prefix": "del ",
     "library": "var_list.py",
     "varRefreshCmd": "print(var_dic_list())"
    },
    "r": {
     "delete_cmd_postfix": ") ",
     "delete_cmd_prefix": "rm(",
     "library": "var_list.r",
     "varRefreshCmd": "cat(var_dic_list()) "
    }
   },
   "types_to_exclude": [
    "module",
    "function",
    "builtin_function_or_method",
    "instance",
    "_Feature"
   ],
   "window_display": false
  }
 },
 "nbformat": 4,
 "nbformat_minor": 2
}
