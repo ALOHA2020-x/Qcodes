{
 "cells": [
  {
   "cell_type": "markdown",
   "metadata": {},
   "source": [
    "# DataSet Performance\n",
    "\n",
    "This notebook shows the trade-off between inserting data into a database row-by-row and as binary blobs. Inserting the data row-by-row means that we have direct access to all the data and may perform queries directly on the values of the data. On the other hand, as we shall see, this is much slower than inserting the data directly as binary blobs."
   ]
  },
  {
   "cell_type": "markdown",
   "metadata": {},
   "source": [
    "First, we choose a new location for the database to ensure that we don't add a bunch of benchmarking data to the default one."
   ]
  },
  {
   "cell_type": "code",
   "execution_count": 1,
   "metadata": {
    "execution": {
     "iopub.execute_input": "2020-11-18T10:29:25.812370Z",
     "iopub.status.busy": "2020-11-18T10:29:25.811667Z",
     "iopub.status.idle": "2020-11-18T10:29:26.988954Z",
     "shell.execute_reply": "2020-11-18T10:29:26.989473Z"
    }
   },
   "outputs": [
    {
     "name": "stdout",
     "output_type": "stream",
     "text": [
      "Logging hadn't been started.\n",
      "Activating auto-logging. Current session state plus future input saved.\n",
      "Filename       : /home/vsts/.qcodes/logs/command_history.log\n",
      "Mode           : append\n",
      "Output logging : True\n",
      "Raw input log  : False\n",
      "Timestamping   : True\n",
      "State          : active\n"
     ]
    },
    {
     "name": "stdout",
     "output_type": "stream",
     "text": [
      "Qcodes Logfile : /home/vsts/.qcodes/logs/201118-14358-qcodes.log\n"
     ]
    }
   ],
   "source": [
    "import os\n",
    "cwd = os.getcwd()\n",
    "import qcodes as qc\n",
    "qc.config[\"core\"][\"db_location\"] = os.path.join(cwd, 'testing.db')\n"
   ]
  },
  {
   "cell_type": "code",
   "execution_count": 2,
   "metadata": {
    "execution": {
     "iopub.execute_input": "2020-11-18T10:29:26.996768Z",
     "iopub.status.busy": "2020-11-18T10:29:26.995448Z",
     "iopub.status.idle": "2020-11-18T10:29:27.208137Z",
     "shell.execute_reply": "2020-11-18T10:29:27.208909Z"
    }
   },
   "outputs": [],
   "source": [
    "%matplotlib inline\n",
    "import time\n",
    "import matplotlib.pyplot as plt\n",
    "import numpy as np\n",
    "\n",
    "import qcodes as qc\n",
    "from qcodes.instrument.parameter import ManualParameter\n",
    "from qcodes.dataset.experiment_container import (Experiment,\n",
    "                                                 load_last_experiment,\n",
    "                                                 new_experiment)\n",
    "from qcodes.dataset.sqlite.database import initialise_database\n",
    "from qcodes import load_or_create_experiment\n",
    "from qcodes.dataset.measurements import Measurement"
   ]
  },
  {
   "cell_type": "code",
   "execution_count": 3,
   "metadata": {
    "execution": {
     "iopub.execute_input": "2020-11-18T10:29:27.213525Z",
     "iopub.status.busy": "2020-11-18T10:29:27.212652Z",
     "iopub.status.idle": "2020-11-18T10:29:27.342724Z",
     "shell.execute_reply": "2020-11-18T10:29:27.342135Z"
    }
   },
   "outputs": [
    {
     "name": "stdout",
     "output_type": "stream",
     "text": [
      "\r",
      "0it [00:00, ?it/s]"
     ]
    },
    {
     "name": "stdout",
     "output_type": "stream",
     "text": [
      "\r",
      "Upgrading database; v0 -> v1: : 0it [00:00, ?it/s]"
     ]
    },
    {
     "name": "stdout",
     "output_type": "stream",
     "text": [
      "\r",
      "Upgrading database; v0 -> v1: : 0it [00:00, ?it/s]"
     ]
    },
    {
     "name": "stdout",
     "output_type": "stream",
     "text": [
      "\n",
      "\r",
      "  0%|          | 0/1 [00:00<?, ?it/s]"
     ]
    },
    {
     "name": "stdout",
     "output_type": "stream",
     "text": [
      "\r",
      "Upgrading database; v1 -> v2:   0%|          | 0/1 [00:00<?, ?it/s]"
     ]
    },
    {
     "name": "stdout",
     "output_type": "stream",
     "text": [
      "\r",
      "Upgrading database; v1 -> v2: 100%|██████████| 1/1 [00:00<00:00, 407.69it/s]"
     ]
    },
    {
     "name": "stdout",
     "output_type": "stream",
     "text": [
      "\n",
      "\r",
      "0it [00:00, ?it/s]"
     ]
    },
    {
     "name": "stdout",
     "output_type": "stream",
     "text": [
      "\r",
      "Upgrading database; v2 -> v3: : 0it [00:00, ?it/s]"
     ]
    },
    {
     "name": "stdout",
     "output_type": "stream",
     "text": [
      "\r",
      "Upgrading database; v2 -> v3: : 0it [00:00, ?it/s]"
     ]
    },
    {
     "name": "stdout",
     "output_type": "stream",
     "text": [
      "\n",
      "\r",
      "0it [00:00, ?it/s]"
     ]
    },
    {
     "name": "stdout",
     "output_type": "stream",
     "text": [
      "\r",
      "Upgrading database; v3 -> v4: : 0it [00:00, ?it/s]"
     ]
    },
    {
     "name": "stdout",
     "output_type": "stream",
     "text": [
      "\r",
      "Upgrading database; v3 -> v4: : 0it [00:00, ?it/s]"
     ]
    },
    {
     "name": "stdout",
     "output_type": "stream",
     "text": [
      "\n",
      "\r",
      "  0%|          | 0/1 [00:00<?, ?it/s]"
     ]
    },
    {
     "name": "stdout",
     "output_type": "stream",
     "text": [
      "\r",
      "Upgrading database; v4 -> v5:   0%|          | 0/1 [00:00<?, ?it/s]"
     ]
    },
    {
     "name": "stdout",
     "output_type": "stream",
     "text": [
      "\r",
      "Upgrading database; v4 -> v5: 100%|██████████| 1/1 [00:00<00:00, 828.42it/s]"
     ]
    },
    {
     "name": "stdout",
     "output_type": "stream",
     "text": [
      "\n",
      "\r",
      "0it [00:00, ?it/s]"
     ]
    },
    {
     "name": "stdout",
     "output_type": "stream",
     "text": [
      "\r",
      "Upgrading database; v5 -> v6: : 0it [00:00, ?it/s]"
     ]
    },
    {
     "name": "stdout",
     "output_type": "stream",
     "text": [
      "\r",
      "Upgrading database; v5 -> v6: : 0it [00:00, ?it/s]"
     ]
    },
    {
     "name": "stdout",
     "output_type": "stream",
     "text": [
      "\n",
      "\r",
      "  0%|          | 0/1 [00:00<?, ?it/s]"
     ]
    },
    {
     "name": "stdout",
     "output_type": "stream",
     "text": [
      "\r",
      "Upgrading database; v6 -> v7:   0%|          | 0/1 [00:00<?, ?it/s]"
     ]
    },
    {
     "name": "stdout",
     "output_type": "stream",
     "text": [
      "\r",
      "Upgrading database; v6 -> v7: 100%|██████████| 1/1 [00:00<00:00, 293.45it/s]"
     ]
    },
    {
     "name": "stdout",
     "output_type": "stream",
     "text": [
      "\n",
      "\r",
      "  0%|          | 0/1 [00:00<?, ?it/s]"
     ]
    },
    {
     "name": "stdout",
     "output_type": "stream",
     "text": [
      "\r",
      "Upgrading database; v7 -> v8:   0%|          | 0/1 [00:00<?, ?it/s]"
     ]
    },
    {
     "name": "stdout",
     "output_type": "stream",
     "text": [
      "\r",
      "Upgrading database; v7 -> v8: 100%|██████████| 1/1 [00:00<00:00, 924.47it/s]"
     ]
    },
    {
     "name": "stdout",
     "output_type": "stream",
     "text": [
      "\n",
      "\r",
      "  0%|          | 0/1 [00:00<?, ?it/s]"
     ]
    },
    {
     "name": "stdout",
     "output_type": "stream",
     "text": [
      "\r",
      "Upgrading database; v8 -> v9:   0%|          | 0/1 [00:00<?, ?it/s]"
     ]
    },
    {
     "name": "stdout",
     "output_type": "stream",
     "text": [
      "\r",
      "Upgrading database; v8 -> v9: 100%|██████████| 1/1 [00:00<00:00, 917.39it/s]"
     ]
    },
    {
     "name": "stdout",
     "output_type": "stream",
     "text": [
      "\n"
     ]
    }
   ],
   "source": [
    "initialise_database()\n",
    "exp = load_or_create_experiment(experiment_name='tutorial_exp', sample_name=\"no sample\")"
   ]
  },
  {
   "cell_type": "markdown",
   "metadata": {},
   "source": [
    "Here, we define a simple function to benchmark the time it takes to insert n points with either numeric or array data type.\n",
    "We will compare both the time used to call ``add_result`` and the time used for the full measurement."
   ]
  },
  {
   "cell_type": "code",
   "execution_count": 4,
   "metadata": {
    "execution": {
     "iopub.execute_input": "2020-11-18T10:29:27.351765Z",
     "iopub.status.busy": "2020-11-18T10:29:27.350447Z",
     "iopub.status.idle": "2020-11-18T10:29:27.355901Z",
     "shell.execute_reply": "2020-11-18T10:29:27.354978Z"
    }
   },
   "outputs": [],
   "source": [
    "def insert_data(paramtype, npoints, nreps=1):\n",
    "\n",
    "    meas = Measurement(exp=exp)\n",
    "\n",
    "    x1 = ManualParameter('x1')\n",
    "    x2 = ManualParameter('x2')\n",
    "    x3 = ManualParameter('x3')\n",
    "    y1 = ManualParameter('y1')\n",
    "    y2 = ManualParameter('y2')\n",
    "\n",
    "    meas.register_parameter(x1, paramtype=paramtype)\n",
    "    meas.register_parameter(x2, paramtype=paramtype)\n",
    "    meas.register_parameter(x3, paramtype=paramtype)\n",
    "    meas.register_parameter(y1, setpoints=[x1, x2, x3],\n",
    "                            paramtype=paramtype)\n",
    "    meas.register_parameter(y2, setpoints=[x1, x2, x3],\n",
    "                            paramtype=paramtype)\n",
    "    start = time.perf_counter()\n",
    "    with meas.run() as datasaver:\n",
    "        start_adding = time.perf_counter()\n",
    "        for i in range(nreps):\n",
    "            datasaver.add_result((x1, np.random.rand(npoints)),\n",
    "                                 (x2, np.random.rand(npoints)),\n",
    "                                 (x3, np.random.rand(npoints)),\n",
    "                                 (y1, np.random.rand(npoints)),\n",
    "                                 (y2, np.random.rand(npoints)))\n",
    "        stop_adding = time.perf_counter()\n",
    "        run_id = datasaver.run_id\n",
    "    stop = time.perf_counter()\n",
    "    tot_time = stop - start\n",
    "    add_time = stop_adding - start_adding\n",
    "    return tot_time, add_time, run_id"
   ]
  },
  {
   "cell_type": "markdown",
   "metadata": {},
   "source": [
    "## Comparison between numeric/array data and binary blob"
   ]
  },
  {
   "cell_type": "markdown",
   "metadata": {},
   "source": [
    "### Case1: Short experiment time"
   ]
  },
  {
   "cell_type": "code",
   "execution_count": 5,
   "metadata": {
    "execution": {
     "iopub.execute_input": "2020-11-18T10:29:27.363258Z",
     "iopub.status.busy": "2020-11-18T10:29:27.362493Z",
     "iopub.status.idle": "2020-11-18T10:29:28.276293Z",
     "shell.execute_reply": "2020-11-18T10:29:28.278025Z"
    }
   },
   "outputs": [
    {
     "name": "stdout",
     "output_type": "stream",
     "text": [
      "Starting experimental run with id: 1. \n",
      "Starting experimental run with id: 2. \n",
      "Starting experimental run with id: 3. \n",
      "Starting experimental run with id: 4. \n",
      "Starting experimental run with id: 5. \n"
     ]
    },
    {
     "name": "stdout",
     "output_type": "stream",
     "text": [
      "Starting experimental run with id: 6. \n"
     ]
    },
    {
     "name": "stdout",
     "output_type": "stream",
     "text": [
      "Starting experimental run with id: 7. \n"
     ]
    },
    {
     "name": "stdout",
     "output_type": "stream",
     "text": [
      "Starting experimental run with id: 8. \n",
      "Starting experimental run with id: 9. \n"
     ]
    },
    {
     "name": "stdout",
     "output_type": "stream",
     "text": [
      "Starting experimental run with id: 10. \n",
      "Starting experimental run with id: 11. \n"
     ]
    },
    {
     "name": "stdout",
     "output_type": "stream",
     "text": [
      "Starting experimental run with id: 12. \n"
     ]
    },
    {
     "name": "stdout",
     "output_type": "stream",
     "text": [
      "Starting experimental run with id: 13. \n"
     ]
    },
    {
     "name": "stdout",
     "output_type": "stream",
     "text": [
      "Starting experimental run with id: 14. \n"
     ]
    }
   ],
   "source": [
    "sizes = [1,500,1000,2000,3000,4000,5000]\n",
    "t_numeric = []\n",
    "t_numeric_add = []\n",
    "t_array = []\n",
    "t_array_add = []\n",
    "for size in sizes:\n",
    "    tn, tna, run_id_n =  insert_data('numeric', size)\n",
    "    t_numeric.append(tn)\n",
    "    t_numeric_add.append(tna)\n",
    "\n",
    "    ta, taa, run_id_a =  insert_data('array', size)\n",
    "    t_array.append(ta)\n",
    "    t_array_add.append(taa)"
   ]
  },
  {
   "cell_type": "code",
   "execution_count": 6,
   "metadata": {
    "execution": {
     "iopub.execute_input": "2020-11-18T10:29:28.301017Z",
     "iopub.status.busy": "2020-11-18T10:29:28.299839Z",
     "iopub.status.idle": "2020-11-18T10:29:28.532972Z",
     "shell.execute_reply": "2020-11-18T10:29:28.532005Z"
    }
   },
   "outputs": [
    {
     "data": {
      "image/png": "[encoded data removed]",
      "text/plain": [
       "<Figure size 432x288 with 1 Axes>"
      ]
     },
     "metadata": {
      "needs_background": "light"
     },
     "output_type": "display_data"
    }
   ],
   "source": [
    "fig, ax = plt.subplots(1,1)\n",
    "ax.plot(sizes, t_numeric, 'o-', label='Inserting row-by-row')\n",
    "ax.plot(sizes, t_numeric_add, 'o-', label='Inserting row-by-row: add_result only')\n",
    "ax.plot(sizes, t_array, 'd-', label='Inserting as binary blob')\n",
    "ax.plot(sizes, t_array_add, 'd-', label='Inserting as binary blob: add_result only')\n",
    "ax.legend()\n",
    "ax.set_xlabel('Array length')\n",
    "ax.set_ylabel('Time (s)')\n",
    "fig.tight_layout()"
   ]
  },
  {
   "cell_type": "markdown",
   "metadata": {},
   "source": [
    "As shown in the latter figure, the time to setup and and close the experiment is approximately 0.4 sec. In case of small array sizes, the difference between inserting values of data as arrays and inserting them row-by-row is relatively unimportant. At larger array sizes, i.e. above 10000 points, the cost of writing data as individual datapoints starts to become important.\n"
   ]
  },
  {
   "cell_type": "markdown",
   "metadata": {},
   "source": [
    "### Case2: Long experiment time "
   ]
  },
  {
   "cell_type": "code",
   "execution_count": 7,
   "metadata": {
    "execution": {
     "iopub.execute_input": "2020-11-18T10:29:28.541803Z",
     "iopub.status.busy": "2020-11-18T10:29:28.540803Z",
     "iopub.status.idle": "2020-11-18T10:30:34.154773Z",
     "shell.execute_reply": "2020-11-18T10:30:34.153734Z"
    }
   },
   "outputs": [
    {
     "name": "stdout",
     "output_type": "stream",
     "text": [
      "Starting experimental run with id: 15. \n",
      "Starting experimental run with id: 16. \n",
      "Starting experimental run with id: 17. \n"
     ]
    },
    {
     "name": "stdout",
     "output_type": "stream",
     "text": [
      "Starting experimental run with id: 18. \n",
      "Starting experimental run with id: 19. \n"
     ]
    },
    {
     "name": "stdout",
     "output_type": "stream",
     "text": [
      "Starting experimental run with id: 20. \n"
     ]
    },
    {
     "name": "stdout",
     "output_type": "stream",
     "text": [
      "Starting experimental run with id: 21. \n"
     ]
    },
    {
     "name": "stdout",
     "output_type": "stream",
     "text": [
      "Starting experimental run with id: 22. \n"
     ]
    },
    {
     "name": "stdout",
     "output_type": "stream",
     "text": [
      "Starting experimental run with id: 23. \n"
     ]
    },
    {
     "name": "stdout",
     "output_type": "stream",
     "text": [
      "Starting experimental run with id: 24. \n"
     ]
    },
    {
     "name": "stdout",
     "output_type": "stream",
     "text": [
      "Starting experimental run with id: 25. \n"
     ]
    },
    {
     "name": "stdout",
     "output_type": "stream",
     "text": [
      "Starting experimental run with id: 26. \n"
     ]
    },
    {
     "name": "stdout",
     "output_type": "stream",
     "text": [
      "Starting experimental run with id: 27. \n"
     ]
    },
    {
     "name": "stdout",
     "output_type": "stream",
     "text": [
      "Starting experimental run with id: 28. \n"
     ]
    }
   ],
   "source": [
    "sizes = [1,500,1000,2000,3000,4000,5000]\n",
    "nreps = 100\n",
    "t_numeric = []\n",
    "t_numeric_add = []\n",
    "t_numeric_run_ids = []\n",
    "t_array = []\n",
    "t_array_add = []\n",
    "t_array_run_ids = []\n",
    "for size in sizes:\n",
    "    tn, tna, run_id_n =  insert_data('numeric', size, nreps=nreps)\n",
    "    t_numeric.append(tn)\n",
    "    t_numeric_add.append(tna)\n",
    "    t_numeric_run_ids.append(run_id_n)\n",
    "\n",
    "    ta, taa, run_id_a =  insert_data('array', size, nreps=nreps)\n",
    "    t_array.append(ta)\n",
    "    t_array_add.append(taa)\n",
    "    t_array_run_ids.append(run_id_a)"
   ]
  },
  {
   "cell_type": "code",
   "execution_count": 8,
   "metadata": {
    "execution": {
     "iopub.execute_input": "2020-11-18T10:30:34.183854Z",
     "iopub.status.busy": "2020-11-18T10:30:34.176611Z",
     "iopub.status.idle": "2020-11-18T10:30:34.417640Z",
     "shell.execute_reply": "2020-11-18T10:30:34.418105Z"
    },
    "scrolled": true
   },
   "outputs": [
    {
     "data": {
      "image/png": "[encoded data removed]",
      "text/plain": [
       "<Figure size 432x288 with 1 Axes>"
      ]
     },
     "metadata": {
      "needs_background": "light"
     },
     "output_type": "display_data"
    }
   ],
   "source": [
    "fig, ax = plt.subplots(1,1)\n",
    "ax.plot(sizes, t_numeric, 'o-', label='Inserting row-by-row')\n",
    "ax.plot(sizes, t_numeric_add, 'o-', label='Inserting row-by-row: add_result only')\n",
    "ax.plot(sizes, t_array, 'd-', label='Inserting as binary blob')\n",
    "ax.plot(sizes, t_array_add, 'd-', label='Inserting as binary blob: add_result only')\n",
    "ax.legend()\n",
    "ax.set_xlabel('Array length')\n",
    "ax.set_ylabel('Time (s)')\n",
    "fig.tight_layout()"
   ]
  },
  {
   "cell_type": "markdown",
   "metadata": {},
   "source": [
    "However, as we increase the length of the experiment, as seen here by repeating the insertion 100 times, we see a big difference between inserting values of the data row-by-row and inserting it as a binary blob."
   ]
  },
  {
   "cell_type": "markdown",
   "metadata": {},
   "source": [
    "## Loading the data "
   ]
  },
  {
   "cell_type": "code",
   "execution_count": 9,
   "metadata": {
    "execution": {
     "iopub.execute_input": "2020-11-18T10:30:34.423782Z",
     "iopub.status.busy": "2020-11-18T10:30:34.423125Z",
     "iopub.status.idle": "2020-11-18T10:30:34.427488Z",
     "shell.execute_reply": "2020-11-18T10:30:34.426840Z"
    }
   },
   "outputs": [],
   "source": [
    "from qcodes.dataset.data_set import load_by_id\n",
    "from qcodes.dataset.data_export import get_data_by_id"
   ]
  },
  {
   "cell_type": "markdown",
   "metadata": {},
   "source": [
    "As usual you can load the data by using the ``load_by_id`` function but you will notice that the different storage methods\n",
    "are reflected in shape of the data as it is retrieved. "
   ]
  },
  {
   "cell_type": "code",
   "execution_count": 10,
   "metadata": {
    "execution": {
     "iopub.execute_input": "2020-11-18T10:30:34.432564Z",
     "iopub.status.busy": "2020-11-18T10:30:34.431233Z",
     "iopub.status.idle": "2020-11-18T10:30:34.433229Z",
     "shell.execute_reply": "2020-11-18T10:30:34.433723Z"
    }
   },
   "outputs": [],
   "source": [
    "run_id_n = t_numeric_run_ids[0]\n",
    "run_id_a = t_array_run_ids[0]"
   ]
  },
  {
   "cell_type": "code",
   "execution_count": 11,
   "metadata": {
    "execution": {
     "iopub.execute_input": "2020-11-18T10:30:34.437521Z",
     "iopub.status.busy": "2020-11-18T10:30:34.436900Z",
     "iopub.status.idle": "2020-11-18T10:30:34.447971Z",
     "shell.execute_reply": "2020-11-18T10:30:34.447267Z"
    },
    "scrolled": true
   },
   "outputs": [
    {
     "data": {
      "text/plain": [
       "{'x1': {'x1': array([0.93560045, 0.93560045, 0.77704693, 0.77704693, 0.44253933,\n",
       "         0.44253933, 0.95703323, 0.95703323, 0.75179908, 0.75179908,\n",
       "         0.78866015, 0.78866015, 0.84991189, 0.84991189, 0.0986375 ,\n",
       "         0.0986375 , 0.04946408, 0.04946408, 0.74378529, 0.74378529,\n",
       "         0.95323341, 0.95323341, 0.93975221, 0.93975221, 0.20050504,\n",
       "         0.20050504, 0.39640686, 0.39640686, 0.55347705, 0.55347705,\n",
       "         0.18836478, 0.18836478, 0.22806825, 0.22806825, 0.05241148,\n",
       "         0.05241148, 0.96821562, 0.96821562, 0.02472441, 0.02472441,\n",
       "         0.08016213, 0.08016213, 0.93251858, 0.93251858, 0.189598  ,\n",
       "         0.189598  , 0.96679011, 0.96679011, 0.92345833, 0.92345833,\n",
       "         0.41656752, 0.41656752, 0.84229992, 0.84229992, 0.14420571,\n",
       "         0.14420571, 0.98260849, 0.98260849, 0.1996337 , 0.1996337 ,\n",
       "         0.39307577, 0.39307577, 0.38083225, 0.38083225, 0.73169399,\n",
       "         0.73169399, 0.77441537, 0.77441537, 0.65165538, 0.65165538,\n",
       "         0.55816956, 0.55816956, 0.51695396, 0.51695396, 0.26904346,\n",
       "         0.26904346, 0.52766161, 0.52766161, 0.97342448, 0.97342448,\n",
       "         0.12837228, 0.12837228, 0.65420922, 0.65420922, 0.54843233,\n",
       "         0.54843233, 0.06054433, 0.06054433, 0.90070475, 0.90070475,\n",
       "         0.44858762, 0.44858762, 0.75266133, 0.75266133, 0.62670162,\n",
       "         0.62670162, 0.59741076, 0.59741076, 0.84025776, 0.84025776,\n",
       "         0.84430436, 0.84430436, 0.59882003, 0.59882003, 0.28108319,\n",
       "         0.28108319, 0.17729132, 0.17729132, 0.85536468, 0.85536468,\n",
       "         0.41352092, 0.41352092, 0.05188205, 0.05188205, 0.61489742,\n",
       "         0.61489742, 0.5075781 , 0.5075781 , 0.2994904 , 0.2994904 ,\n",
       "         0.03779978, 0.03779978, 0.72557796, 0.72557796, 0.90253056,\n",
       "         0.90253056, 0.51611092, 0.51611092, 0.97558619, 0.97558619,\n",
       "         0.59736308, 0.59736308, 0.3410315 , 0.3410315 , 0.5497901 ,\n",
       "         0.5497901 , 0.30446878, 0.30446878, 0.19648524, 0.19648524,\n",
       "         0.74358822, 0.74358822, 0.12481538, 0.12481538, 0.47732854,\n",
       "         0.47732854, 0.41758047, 0.41758047, 0.58114621, 0.58114621,\n",
       "         0.65414701, 0.65414701, 0.16452935, 0.16452935, 0.1144721 ,\n",
       "         0.1144721 , 0.09834405, 0.09834405, 0.53009343, 0.53009343,\n",
       "         0.84439874, 0.84439874, 0.70733823, 0.70733823, 0.50596773,\n",
       "         0.50596773, 0.29589709, 0.29589709, 0.26921551, 0.26921551,\n",
       "         0.27640442, 0.27640442, 0.70905289, 0.70905289, 0.56273675,\n",
       "         0.56273675, 0.73120669, 0.73120669, 0.63318455, 0.63318455,\n",
       "         0.38258701, 0.38258701, 0.23581516, 0.23581516, 0.10504752,\n",
       "         0.10504752, 0.0220399 , 0.0220399 , 0.22456527, 0.22456527,\n",
       "         0.42541887, 0.42541887, 0.93704086, 0.93704086, 0.9318213 ,\n",
       "         0.9318213 , 0.31490581, 0.31490581, 0.30009307, 0.30009307])}}"
      ]
     },
     "execution_count": 1,
     "metadata": {},
     "output_type": "execute_result"
    }
   ],
   "source": [
    "ds = load_by_id(run_id_n)\n",
    "ds.get_parameter_data('x1')"
   ]
  },
  {
   "cell_type": "markdown",
   "metadata": {},
   "source": [
    "And a dataset stored as binary arrays"
   ]
  },
  {
   "cell_type": "code",
   "execution_count": 12,
   "metadata": {
    "execution": {
     "iopub.execute_input": "2020-11-18T10:30:34.451950Z",
     "iopub.status.busy": "2020-11-18T10:30:34.451323Z",
     "iopub.status.idle": "2020-11-18T10:30:34.521165Z",
     "shell.execute_reply": "2020-11-18T10:30:34.521705Z"
    },
    "scrolled": true
   },
   "outputs": [
    {
     "data": {
      "text/plain": [
       "{'x1': {'x1': array([[0.42796475],\n",
       "         [0.42796475],\n",
       "         [0.4119473 ],\n",
       "         [0.4119473 ],\n",
       "         [0.82750605],\n",
       "         [0.82750605],\n",
       "         [0.41553911],\n",
       "         [0.41553911],\n",
       "         [0.09345912],\n",
       "         [0.09345912],\n",
       "         [0.45176205],\n",
       "         [0.45176205],\n",
       "         [0.39046902],\n",
       "         [0.39046902],\n",
       "         [0.49826152],\n",
       "         [0.49826152],\n",
       "         [0.17960102],\n",
       "         [0.17960102],\n",
       "         [0.80641675],\n",
       "         [0.80641675],\n",
       "         [0.93936208],\n",
       "         [0.93936208],\n",
       "         [0.39925252],\n",
       "         [0.39925252],\n",
       "         [0.26118934],\n",
       "         [0.26118934],\n",
       "         [0.9259169 ],\n",
       "         [0.9259169 ],\n",
       "         [0.1512889 ],\n",
       "         [0.1512889 ],\n",
       "         [0.34806342],\n",
       "         [0.34806342],\n",
       "         [0.66072078],\n",
       "         [0.66072078],\n",
       "         [0.21753825],\n",
       "         [0.21753825],\n",
       "         [0.83616308],\n",
       "         [0.83616308],\n",
       "         [0.63587585],\n",
       "         [0.63587585],\n",
       "         [0.15517758],\n",
       "         [0.15517758],\n",
       "         [0.70517061],\n",
       "         [0.70517061],\n",
       "         [0.10057862],\n",
       "         [0.10057862],\n",
       "         [0.46523087],\n",
       "         [0.46523087],\n",
       "         [0.14863613],\n",
       "         [0.14863613],\n",
       "         [0.66918787],\n",
       "         [0.66918787],\n",
       "         [0.84734057],\n",
       "         [0.84734057],\n",
       "         [0.87291464],\n",
       "         [0.87291464],\n",
       "         [0.92283197],\n",
       "         [0.92283197],\n",
       "         [0.47174254],\n",
       "         [0.47174254],\n",
       "         [0.51942429],\n",
       "         [0.51942429],\n",
       "         [0.56391439],\n",
       "         [0.56391439],\n",
       "         [0.67843207],\n",
       "         [0.67843207],\n",
       "         [0.10023155],\n",
       "         [0.10023155],\n",
       "         [0.04112677],\n",
       "         [0.04112677],\n",
       "         [0.81953332],\n",
       "         [0.81953332],\n",
       "         [0.39661491],\n",
       "         [0.39661491],\n",
       "         [0.71470276],\n",
       "         [0.71470276],\n",
       "         [0.58403749],\n",
       "         [0.58403749],\n",
       "         [0.62515845],\n",
       "         [0.62515845],\n",
       "         [0.90820081],\n",
       "         [0.90820081],\n",
       "         [0.25953868],\n",
       "         [0.25953868],\n",
       "         [0.18608773],\n",
       "         [0.18608773],\n",
       "         [0.41042065],\n",
       "         [0.41042065],\n",
       "         [0.70384832],\n",
       "         [0.70384832],\n",
       "         [0.47774642],\n",
       "         [0.47774642],\n",
       "         [0.47617788],\n",
       "         [0.47617788],\n",
       "         [0.64389428],\n",
       "         [0.64389428],\n",
       "         [0.917245  ],\n",
       "         [0.917245  ],\n",
       "         [0.67694171],\n",
       "         [0.67694171],\n",
       "         [0.92829875],\n",
       "         [0.92829875],\n",
       "         [0.532812  ],\n",
       "         [0.532812  ],\n",
       "         [0.50216464],\n",
       "         [0.50216464],\n",
       "         [0.2439732 ],\n",
       "         [0.2439732 ],\n",
       "         [0.57861173],\n",
       "         [0.57861173],\n",
       "         [0.48105088],\n",
       "         [0.48105088],\n",
       "         [0.69892116],\n",
       "         [0.69892116],\n",
       "         [0.29889463],\n",
       "         [0.29889463],\n",
       "         [0.68726945],\n",
       "         [0.68726945],\n",
       "         [0.1802785 ],\n",
       "         [0.1802785 ],\n",
       "         [0.68092873],\n",
       "         [0.68092873],\n",
       "         [0.00190132],\n",
       "         [0.00190132],\n",
       "         [0.35634348],\n",
       "         [0.35634348],\n",
       "         [0.1438556 ],\n",
       "         [0.1438556 ],\n",
       "         [0.72642671],\n",
       "         [0.72642671],\n",
       "         [0.52451245],\n",
       "         [0.52451245],\n",
       "         [0.27848066],\n",
       "         [0.27848066],\n",
       "         [0.95851063],\n",
       "         [0.95851063],\n",
       "         [0.59771441],\n",
       "         [0.59771441],\n",
       "         [0.29189701],\n",
       "         [0.29189701],\n",
       "         [0.65451441],\n",
       "         [0.65451441],\n",
       "         [0.82857091],\n",
       "         [0.82857091],\n",
       "         [0.59850527],\n",
       "         [0.59850527],\n",
       "         [0.72033214],\n",
       "         [0.72033214],\n",
       "         [0.48046455],\n",
       "         [0.48046455],\n",
       "         [0.94284572],\n",
       "         [0.94284572],\n",
       "         [0.42299253],\n",
       "         [0.42299253],\n",
       "         [0.11059119],\n",
       "         [0.11059119],\n",
       "         [0.72683527],\n",
       "         [0.72683527],\n",
       "         [0.84284294],\n",
       "         [0.84284294],\n",
       "         [0.065802  ],\n",
       "         [0.065802  ],\n",
       "         [0.17200205],\n",
       "         [0.17200205],\n",
       "         [0.51712336],\n",
       "         [0.51712336],\n",
       "         [0.20646669],\n",
       "         [0.20646669],\n",
       "         [0.37924757],\n",
       "         [0.37924757],\n",
       "         [0.65532397],\n",
       "         [0.65532397],\n",
       "         [0.76753794],\n",
       "         [0.76753794],\n",
       "         [0.4046638 ],\n",
       "         [0.4046638 ],\n",
       "         [0.72936413],\n",
       "         [0.72936413],\n",
       "         [0.02026266],\n",
       "         [0.02026266],\n",
       "         [0.27752345],\n",
       "         [0.27752345],\n",
       "         [0.45013253],\n",
       "         [0.45013253],\n",
       "         [0.71193531],\n",
       "         [0.71193531],\n",
       "         [0.95094488],\n",
       "         [0.95094488],\n",
       "         [0.51089736],\n",
       "         [0.51089736],\n",
       "         [0.66700652],\n",
       "         [0.66700652],\n",
       "         [0.64142554],\n",
       "         [0.64142554],\n",
       "         [0.07528423],\n",
       "         [0.07528423],\n",
       "         [0.36948105],\n",
       "         [0.36948105],\n",
       "         [0.185987  ],\n",
       "         [0.185987  ]])}}"
      ]
     },
     "execution_count": 1,
     "metadata": {},
     "output_type": "execute_result"
    }
   ],
   "source": [
    "ds = load_by_id(run_id_a)\n",
    "ds.get_parameter_data('x1')"
   ]
  },
  {
   "cell_type": "code",
   "execution_count": null,
   "metadata": {},
   "outputs": [],
   "source": []
  }
 ],
 "metadata": {
  "kernelspec": {
   "display_name": "Python 3",
   "language": "python",
   "name": "python3"
  },
  "language_info": {
   "codemirror_mode": {
    "name": "ipython",
    "version": 3
   },
   "file_extension": ".py",
   "mimetype": "text/x-python",
   "name": "python",
   "nbconvert_exporter": "python",
   "pygments_lexer": "ipython3",
   "version": "3.7.9"
  },
  "nbsphinx": {
   "timeout": 600
  },
  "toc": {
   "base_numbering": 1,
   "nav_menu": {},
   "number_sections": true,
   "sideBar": true,
   "skip_h1_title": false,
   "title_cell": "Table of Contents",
   "title_sidebar": "Contents",
   "toc_cell": false,
   "toc_position": {},
   "toc_section_display": true,
   "toc_window_display": false
  },
  "varInspector": {
   "cols": {
    "lenName": 16,
    "lenType": 16,
    "lenVar": 40
   },
   "kernels_config": {
    "python": {
     "delete_cmd_postfix": "",
     "delete_cmd_prefix": "del ",
     "library": "var_list.py",
     "varRefreshCmd": "print(var_dic_list())"
    },
    "r": {
     "delete_cmd_postfix": ") ",
     "delete_cmd_prefix": "rm(",
     "library": "var_list.r",
     "varRefreshCmd": "cat(var_dic_list()) "
    }
   },
   "types_to_exclude": [
    "module",
    "function",
    "builtin_function_or_method",
    "instance",
    "_Feature"
   ],
   "window_display": false
  }
 },
 "nbformat": 4,
 "nbformat_minor": 2
}
