{
 "cells": [
  {
   "cell_type": "markdown",
   "metadata": {},
   "source": [
    "# DataSet Performance\n",
    "\n",
    "This notebook shows the trade-off between inserting data into a database row-by-row and as binary blobs. Inserting the data row-by-row means that we have direct access to all the data and may perform queries directly on the values of the data. On the other hand, as we shall see, this is much slower than inserting the data directly as binary blobs."
   ]
  },
  {
   "cell_type": "markdown",
   "metadata": {},
   "source": [
    "First, we choose a new location for the database to ensure that we don't add a bunch of benchmarking data to the default one."
   ]
  },
  {
   "cell_type": "code",
   "execution_count": 1,
   "metadata": {
    "execution": {
     "iopub.execute_input": "2021-02-11T13:59:46.673878Z",
     "iopub.status.busy": "2021-02-11T13:59:46.673422Z",
     "iopub.status.idle": "2021-02-11T13:59:47.459091Z",
     "shell.execute_reply": "2021-02-11T13:59:47.459507Z"
    }
   },
   "outputs": [
    {
     "name": "stdout",
     "output_type": "stream",
     "text": [
      "Logging hadn't been started.\n",
      "Activating auto-logging. Current session state plus future input saved.\n",
      "Filename       : /home/vsts/.qcodes/logs/command_history.log\n",
      "Mode           : append\n",
      "Output logging : True\n",
      "Raw input log  : False\n",
      "Timestamping   : True\n",
      "State          : active\n"
     ]
    },
    {
     "name": "stdout",
     "output_type": "stream",
     "text": [
      "Qcodes Logfile : /home/vsts/.qcodes/logs/210211-6991-qcodes.log\n"
     ]
    }
   ],
   "source": [
    "import os\n",
    "cwd = os.getcwd()\n",
    "import qcodes as qc\n",
    "qc.config[\"core\"][\"db_location\"] = os.path.join(cwd, 'testing.db')\n"
   ]
  },
  {
   "cell_type": "code",
   "execution_count": 2,
   "metadata": {
    "execution": {
     "iopub.execute_input": "2021-02-11T13:59:47.464833Z",
     "iopub.status.busy": "2021-02-11T13:59:47.464313Z",
     "iopub.status.idle": "2021-02-11T13:59:47.606626Z",
     "shell.execute_reply": "2021-02-11T13:59:47.606120Z"
    }
   },
   "outputs": [],
   "source": [
    "%matplotlib inline\n",
    "import time\n",
    "import matplotlib.pyplot as plt\n",
    "import numpy as np\n",
    "\n",
    "import qcodes as qc\n",
    "from qcodes.instrument.parameter import ManualParameter\n",
    "from qcodes.dataset.experiment_container import (Experiment,\n",
    "                                                 load_last_experiment,\n",
    "                                                 new_experiment)\n",
    "from qcodes.dataset.sqlite.database import initialise_database\n",
    "from qcodes import load_or_create_experiment\n",
    "from qcodes.dataset.measurements import Measurement"
   ]
  },
  {
   "cell_type": "code",
   "execution_count": 3,
   "metadata": {
    "execution": {
     "iopub.execute_input": "2021-02-11T13:59:47.610002Z",
     "iopub.status.busy": "2021-02-11T13:59:47.609506Z",
     "iopub.status.idle": "2021-02-11T13:59:47.697233Z",
     "shell.execute_reply": "2021-02-11T13:59:47.697596Z"
    }
   },
   "outputs": [
    {
     "name": "stdout",
     "output_type": "stream",
     "text": [
      "\r",
      "0it [00:00, ?it/s]"
     ]
    },
    {
     "name": "stdout",
     "output_type": "stream",
     "text": [
      "\r",
      "Upgrading database; v0 -> v1: : 0it [00:00, ?it/s]"
     ]
    },
    {
     "name": "stdout",
     "output_type": "stream",
     "text": [
      "\r",
      "Upgrading database; v0 -> v1: : 0it [00:00, ?it/s]"
     ]
    },
    {
     "name": "stdout",
     "output_type": "stream",
     "text": [
      "\n",
      "\r",
      "  0%|          | 0/1 [00:00<?, ?it/s]"
     ]
    },
    {
     "name": "stdout",
     "output_type": "stream",
     "text": [
      "\r",
      "Upgrading database; v1 -> v2:   0%|          | 0/1 [00:00<?, ?it/s]"
     ]
    },
    {
     "name": "stdout",
     "output_type": "stream",
     "text": [
      "\r",
      "Upgrading database; v1 -> v2: 100%|██████████| 1/1 [00:00<00:00, 537.32it/s]"
     ]
    },
    {
     "name": "stdout",
     "output_type": "stream",
     "text": [
      "\n",
      "\r",
      "0it [00:00, ?it/s]"
     ]
    },
    {
     "name": "stdout",
     "output_type": "stream",
     "text": [
      "\r",
      "Upgrading database; v2 -> v3: : 0it [00:00, ?it/s]"
     ]
    },
    {
     "name": "stdout",
     "output_type": "stream",
     "text": [
      "\r",
      "Upgrading database; v2 -> v3: : 0it [00:00, ?it/s]"
     ]
    },
    {
     "name": "stdout",
     "output_type": "stream",
     "text": [
      "\n",
      "\r",
      "0it [00:00, ?it/s]"
     ]
    },
    {
     "name": "stdout",
     "output_type": "stream",
     "text": [
      "\r",
      "Upgrading database; v3 -> v4: : 0it [00:00, ?it/s]"
     ]
    },
    {
     "name": "stdout",
     "output_type": "stream",
     "text": [
      "\r",
      "Upgrading database; v3 -> v4: : 0it [00:00, ?it/s]"
     ]
    },
    {
     "name": "stdout",
     "output_type": "stream",
     "text": [
      "\n",
      "\r",
      "  0%|          | 0/1 [00:00<?, ?it/s]"
     ]
    },
    {
     "name": "stdout",
     "output_type": "stream",
     "text": [
      "\r",
      "Upgrading database; v4 -> v5:   0%|          | 0/1 [00:00<?, ?it/s]"
     ]
    },
    {
     "name": "stdout",
     "output_type": "stream",
     "text": [
      "\r",
      "Upgrading database; v4 -> v5: 100%|██████████| 1/1 [00:00<00:00, 520.00it/s]"
     ]
    },
    {
     "name": "stdout",
     "output_type": "stream",
     "text": [
      "\n",
      "\r",
      "0it [00:00, ?it/s]"
     ]
    },
    {
     "name": "stdout",
     "output_type": "stream",
     "text": [
      "\r",
      "Upgrading database; v5 -> v6: : 0it [00:00, ?it/s]"
     ]
    },
    {
     "name": "stdout",
     "output_type": "stream",
     "text": [
      "\r",
      "Upgrading database; v5 -> v6: : 0it [00:00, ?it/s]"
     ]
    },
    {
     "name": "stdout",
     "output_type": "stream",
     "text": [
      "\n",
      "\r",
      "  0%|          | 0/1 [00:00<?, ?it/s]"
     ]
    },
    {
     "name": "stdout",
     "output_type": "stream",
     "text": [
      "\r",
      "Upgrading database; v6 -> v7:   0%|          | 0/1 [00:00<?, ?it/s]"
     ]
    },
    {
     "name": "stdout",
     "output_type": "stream",
     "text": [
      "\r",
      "Upgrading database; v6 -> v7: 100%|██████████| 1/1 [00:00<00:00, 675.09it/s]"
     ]
    },
    {
     "name": "stdout",
     "output_type": "stream",
     "text": [
      "\n",
      "\r",
      "  0%|          | 0/1 [00:00<?, ?it/s]"
     ]
    },
    {
     "name": "stdout",
     "output_type": "stream",
     "text": [
      "\r",
      "Upgrading database; v7 -> v8:   0%|          | 0/1 [00:00<?, ?it/s]"
     ]
    },
    {
     "name": "stdout",
     "output_type": "stream",
     "text": [
      "\r",
      "Upgrading database; v7 -> v8: 100%|██████████| 1/1 [00:00<00:00, 464.43it/s]"
     ]
    },
    {
     "name": "stdout",
     "output_type": "stream",
     "text": [
      "\n",
      "\r",
      "  0%|          | 0/1 [00:00<?, ?it/s]"
     ]
    },
    {
     "name": "stdout",
     "output_type": "stream",
     "text": [
      "\r",
      "Upgrading database; v8 -> v9:   0%|          | 0/1 [00:00<?, ?it/s]"
     ]
    },
    {
     "name": "stdout",
     "output_type": "stream",
     "text": [
      "\r",
      "Upgrading database; v8 -> v9: 100%|██████████| 1/1 [00:00<00:00, 1294.54it/s]"
     ]
    },
    {
     "name": "stdout",
     "output_type": "stream",
     "text": [
      "\n"
     ]
    }
   ],
   "source": [
    "initialise_database()\n",
    "exp = load_or_create_experiment(experiment_name='tutorial_exp', sample_name=\"no sample\")"
   ]
  },
  {
   "cell_type": "markdown",
   "metadata": {},
   "source": [
    "Here, we define a simple function to benchmark the time it takes to insert n points with either numeric or array data type.\n",
    "We will compare both the time used to call ``add_result`` and the time used for the full measurement."
   ]
  },
  {
   "cell_type": "code",
   "execution_count": 4,
   "metadata": {
    "execution": {
     "iopub.execute_input": "2021-02-11T13:59:47.705094Z",
     "iopub.status.busy": "2021-02-11T13:59:47.704094Z",
     "iopub.status.idle": "2021-02-11T13:59:47.705736Z",
     "shell.execute_reply": "2021-02-11T13:59:47.706126Z"
    }
   },
   "outputs": [],
   "source": [
    "def insert_data(paramtype, npoints, nreps=1):\n",
    "\n",
    "    meas = Measurement(exp=exp)\n",
    "\n",
    "    x1 = ManualParameter('x1')\n",
    "    x2 = ManualParameter('x2')\n",
    "    x3 = ManualParameter('x3')\n",
    "    y1 = ManualParameter('y1')\n",
    "    y2 = ManualParameter('y2')\n",
    "\n",
    "    meas.register_parameter(x1, paramtype=paramtype)\n",
    "    meas.register_parameter(x2, paramtype=paramtype)\n",
    "    meas.register_parameter(x3, paramtype=paramtype)\n",
    "    meas.register_parameter(y1, setpoints=[x1, x2, x3],\n",
    "                            paramtype=paramtype)\n",
    "    meas.register_parameter(y2, setpoints=[x1, x2, x3],\n",
    "                            paramtype=paramtype)\n",
    "    start = time.perf_counter()\n",
    "    with meas.run() as datasaver:\n",
    "        start_adding = time.perf_counter()\n",
    "        for i in range(nreps):\n",
    "            datasaver.add_result((x1, np.random.rand(npoints)),\n",
    "                                 (x2, np.random.rand(npoints)),\n",
    "                                 (x3, np.random.rand(npoints)),\n",
    "                                 (y1, np.random.rand(npoints)),\n",
    "                                 (y2, np.random.rand(npoints)))\n",
    "        stop_adding = time.perf_counter()\n",
    "        run_id = datasaver.run_id\n",
    "    stop = time.perf_counter()\n",
    "    tot_time = stop - start\n",
    "    add_time = stop_adding - start_adding\n",
    "    return tot_time, add_time, run_id"
   ]
  },
  {
   "cell_type": "markdown",
   "metadata": {},
   "source": [
    "## Comparison between numeric/array data and binary blob"
   ]
  },
  {
   "cell_type": "markdown",
   "metadata": {},
   "source": [
    "### Case1: Short experiment time"
   ]
  },
  {
   "cell_type": "code",
   "execution_count": 5,
   "metadata": {
    "execution": {
     "iopub.execute_input": "2021-02-11T13:59:47.710734Z",
     "iopub.status.busy": "2021-02-11T13:59:47.710274Z",
     "iopub.status.idle": "2021-02-11T13:59:48.322744Z",
     "shell.execute_reply": "2021-02-11T13:59:48.322303Z"
    }
   },
   "outputs": [
    {
     "name": "stdout",
     "output_type": "stream",
     "text": [
      "Starting experimental run with id: 1. \n",
      "Starting experimental run with id: 2. \n",
      "Starting experimental run with id: 3. \n",
      "Starting experimental run with id: 4. \n",
      "Starting experimental run with id: 5. \n",
      "Starting experimental run with id: 6. \n",
      "Starting experimental run with id: 7. \n"
     ]
    },
    {
     "name": "stdout",
     "output_type": "stream",
     "text": [
      "Starting experimental run with id: 8. \n"
     ]
    },
    {
     "name": "stdout",
     "output_type": "stream",
     "text": [
      "Starting experimental run with id: 9. \n"
     ]
    },
    {
     "name": "stdout",
     "output_type": "stream",
     "text": [
      "Starting experimental run with id: 10. \n",
      "Starting experimental run with id: 11. \n"
     ]
    },
    {
     "name": "stdout",
     "output_type": "stream",
     "text": [
      "Starting experimental run with id: 12. \n",
      "Starting experimental run with id: 13. \n"
     ]
    },
    {
     "name": "stdout",
     "output_type": "stream",
     "text": [
      "Starting experimental run with id: 14. \n"
     ]
    }
   ],
   "source": [
    "sizes = [1,500,1000,2000,3000,4000,5000]\n",
    "t_numeric = []\n",
    "t_numeric_add = []\n",
    "t_array = []\n",
    "t_array_add = []\n",
    "for size in sizes:\n",
    "    tn, tna, run_id_n =  insert_data('numeric', size)\n",
    "    t_numeric.append(tn)\n",
    "    t_numeric_add.append(tna)\n",
    "\n",
    "    ta, taa, run_id_a =  insert_data('array', size)\n",
    "    t_array.append(ta)\n",
    "    t_array_add.append(taa)"
   ]
  },
  {
   "cell_type": "code",
   "execution_count": 6,
   "metadata": {
    "execution": {
     "iopub.execute_input": "2021-02-11T13:59:48.336330Z",
     "iopub.status.busy": "2021-02-11T13:59:48.327459Z",
     "iopub.status.idle": "2021-02-11T13:59:48.488444Z",
     "shell.execute_reply": "2021-02-11T13:59:48.487793Z"
    }
   },
   "outputs": [
    {
     "data": {
      "image/png": "[encoded data removed]",
      "text/plain": [
       "<Figure size 432x288 with 1 Axes>"
      ]
     },
     "metadata": {
      "needs_background": "light"
     },
     "output_type": "display_data"
    }
   ],
   "source": [
    "fig, ax = plt.subplots(1,1)\n",
    "ax.plot(sizes, t_numeric, 'o-', label='Inserting row-by-row')\n",
    "ax.plot(sizes, t_numeric_add, 'o-', label='Inserting row-by-row: add_result only')\n",
    "ax.plot(sizes, t_array, 'd-', label='Inserting as binary blob')\n",
    "ax.plot(sizes, t_array_add, 'd-', label='Inserting as binary blob: add_result only')\n",
    "ax.legend()\n",
    "ax.set_xlabel('Array length')\n",
    "ax.set_ylabel('Time (s)')\n",
    "fig.tight_layout()"
   ]
  },
  {
   "cell_type": "markdown",
   "metadata": {},
   "source": [
    "As shown in the latter figure, the time to setup and and close the experiment is approximately 0.4 sec. In case of small array sizes, the difference between inserting values of data as arrays and inserting them row-by-row is relatively unimportant. At larger array sizes, i.e. above 10000 points, the cost of writing data as individual datapoints starts to become important.\n"
   ]
  },
  {
   "cell_type": "markdown",
   "metadata": {},
   "source": [
    "### Case2: Long experiment time "
   ]
  },
  {
   "cell_type": "code",
   "execution_count": 7,
   "metadata": {
    "execution": {
     "iopub.execute_input": "2021-02-11T13:59:48.493956Z",
     "iopub.status.busy": "2021-02-11T13:59:48.493210Z",
     "iopub.status.idle": "2021-02-11T14:00:38.808679Z",
     "shell.execute_reply": "2021-02-11T14:00:38.808177Z"
    }
   },
   "outputs": [
    {
     "name": "stdout",
     "output_type": "stream",
     "text": [
      "Starting experimental run with id: 15. \n"
     ]
    },
    {
     "name": "stdout",
     "output_type": "stream",
     "text": [
      "Starting experimental run with id: 16. \n",
      "Starting experimental run with id: 17. \n"
     ]
    },
    {
     "name": "stdout",
     "output_type": "stream",
     "text": [
      "Starting experimental run with id: 18. \n",
      "Starting experimental run with id: 19. \n"
     ]
    },
    {
     "name": "stdout",
     "output_type": "stream",
     "text": [
      "Starting experimental run with id: 20. \n"
     ]
    },
    {
     "name": "stdout",
     "output_type": "stream",
     "text": [
      "Starting experimental run with id: 21. \n"
     ]
    },
    {
     "name": "stdout",
     "output_type": "stream",
     "text": [
      "Starting experimental run with id: 22. \n"
     ]
    },
    {
     "name": "stdout",
     "output_type": "stream",
     "text": [
      "Starting experimental run with id: 23. \n"
     ]
    },
    {
     "name": "stdout",
     "output_type": "stream",
     "text": [
      "Starting experimental run with id: 24. \n"
     ]
    },
    {
     "name": "stdout",
     "output_type": "stream",
     "text": [
      "Starting experimental run with id: 25. \n"
     ]
    },
    {
     "name": "stdout",
     "output_type": "stream",
     "text": [
      "Starting experimental run with id: 26. \n"
     ]
    },
    {
     "name": "stdout",
     "output_type": "stream",
     "text": [
      "Starting experimental run with id: 27. \n"
     ]
    },
    {
     "name": "stdout",
     "output_type": "stream",
     "text": [
      "Starting experimental run with id: 28. \n"
     ]
    }
   ],
   "source": [
    "sizes = [1,500,1000,2000,3000,4000,5000]\n",
    "nreps = 100\n",
    "t_numeric = []\n",
    "t_numeric_add = []\n",
    "t_numeric_run_ids = []\n",
    "t_array = []\n",
    "t_array_add = []\n",
    "t_array_run_ids = []\n",
    "for size in sizes:\n",
    "    tn, tna, run_id_n =  insert_data('numeric', size, nreps=nreps)\n",
    "    t_numeric.append(tn)\n",
    "    t_numeric_add.append(tna)\n",
    "    t_numeric_run_ids.append(run_id_n)\n",
    "\n",
    "    ta, taa, run_id_a =  insert_data('array', size, nreps=nreps)\n",
    "    t_array.append(ta)\n",
    "    t_array_add.append(taa)\n",
    "    t_array_run_ids.append(run_id_a)"
   ]
  },
  {
   "cell_type": "code",
   "execution_count": 8,
   "metadata": {
    "execution": {
     "iopub.execute_input": "2021-02-11T14:00:38.840572Z",
     "iopub.status.busy": "2021-02-11T14:00:38.822427Z",
     "iopub.status.idle": "2021-02-11T14:00:38.967003Z",
     "shell.execute_reply": "2021-02-11T14:00:38.967569Z"
    },
    "scrolled": true
   },
   "outputs": [
    {
     "data": {
      "image/png": "[encoded data removed]",
      "text/plain": [
       "<Figure size 432x288 with 1 Axes>"
      ]
     },
     "metadata": {
      "needs_background": "light"
     },
     "output_type": "display_data"
    }
   ],
   "source": [
    "fig, ax = plt.subplots(1,1)\n",
    "ax.plot(sizes, t_numeric, 'o-', label='Inserting row-by-row')\n",
    "ax.plot(sizes, t_numeric_add, 'o-', label='Inserting row-by-row: add_result only')\n",
    "ax.plot(sizes, t_array, 'd-', label='Inserting as binary blob')\n",
    "ax.plot(sizes, t_array_add, 'd-', label='Inserting as binary blob: add_result only')\n",
    "ax.legend()\n",
    "ax.set_xlabel('Array length')\n",
    "ax.set_ylabel('Time (s)')\n",
    "fig.tight_layout()"
   ]
  },
  {
   "cell_type": "markdown",
   "metadata": {},
   "source": [
    "However, as we increase the length of the experiment, as seen here by repeating the insertion 100 times, we see a big difference between inserting values of the data row-by-row and inserting it as a binary blob."
   ]
  },
  {
   "cell_type": "markdown",
   "metadata": {},
   "source": [
    "## Loading the data "
   ]
  },
  {
   "cell_type": "code",
   "execution_count": 9,
   "metadata": {
    "execution": {
     "iopub.execute_input": "2021-02-11T14:00:38.971004Z",
     "iopub.status.busy": "2021-02-11T14:00:38.970594Z",
     "iopub.status.idle": "2021-02-11T14:00:38.974112Z",
     "shell.execute_reply": "2021-02-11T14:00:38.973738Z"
    }
   },
   "outputs": [],
   "source": [
    "from qcodes.dataset.data_set import load_by_id\n",
    "from qcodes.dataset.data_export import get_data_by_id"
   ]
  },
  {
   "cell_type": "markdown",
   "metadata": {},
   "source": [
    "As usual you can load the data by using the ``load_by_id`` function but you will notice that the different storage methods\n",
    "are reflected in shape of the data as it is retrieved. "
   ]
  },
  {
   "cell_type": "code",
   "execution_count": 10,
   "metadata": {
    "execution": {
     "iopub.execute_input": "2021-02-11T14:00:38.977615Z",
     "iopub.status.busy": "2021-02-11T14:00:38.977205Z",
     "iopub.status.idle": "2021-02-11T14:00:38.981056Z",
     "shell.execute_reply": "2021-02-11T14:00:38.980282Z"
    }
   },
   "outputs": [],
   "source": [
    "run_id_n = t_numeric_run_ids[0]\n",
    "run_id_a = t_array_run_ids[0]"
   ]
  },
  {
   "cell_type": "code",
   "execution_count": 11,
   "metadata": {
    "execution": {
     "iopub.execute_input": "2021-02-11T14:00:38.983868Z",
     "iopub.status.busy": "2021-02-11T14:00:38.983468Z",
     "iopub.status.idle": "2021-02-11T14:00:38.991880Z",
     "shell.execute_reply": "2021-02-11T14:00:38.992213Z"
    },
    "scrolled": true
   },
   "outputs": [
    {
     "data": {
      "text/plain": [
       "{'x1': {'x1': array([0.75754354, 0.75754354, 0.49178367, 0.49178367, 0.24261969,\n",
       "         0.24261969, 0.96363265, 0.96363265, 0.36434143, 0.36434143,\n",
       "         0.957515  , 0.957515  , 0.34472678, 0.34472678, 0.29874768,\n",
       "         0.29874768, 0.05665758, 0.05665758, 0.26473384, 0.26473384,\n",
       "         0.82102394, 0.82102394, 0.95640794, 0.95640794, 0.54434648,\n",
       "         0.54434648, 0.70666621, 0.70666621, 0.64328759, 0.64328759,\n",
       "         0.45083133, 0.45083133, 0.28295743, 0.28295743, 0.62990301,\n",
       "         0.62990301, 0.18386718, 0.18386718, 0.91523825, 0.91523825,\n",
       "         0.52442781, 0.52442781, 0.58483287, 0.58483287, 0.45357094,\n",
       "         0.45357094, 0.82138449, 0.82138449, 0.27082821, 0.27082821,\n",
       "         0.17071044, 0.17071044, 0.23867922, 0.23867922, 0.05022313,\n",
       "         0.05022313, 0.46208926, 0.46208926, 0.51145961, 0.51145961,\n",
       "         0.07637539, 0.07637539, 0.0688018 , 0.0688018 , 0.77879512,\n",
       "         0.77879512, 0.75564954, 0.75564954, 0.66351172, 0.66351172,\n",
       "         0.12524874, 0.12524874, 0.62916886, 0.62916886, 0.80320671,\n",
       "         0.80320671, 0.62492878, 0.62492878, 0.25240162, 0.25240162,\n",
       "         0.8423893 , 0.8423893 , 0.80269362, 0.80269362, 0.74387199,\n",
       "         0.74387199, 0.80543668, 0.80543668, 0.86899198, 0.86899198,\n",
       "         0.84146574, 0.84146574, 0.33528973, 0.33528973, 0.14367229,\n",
       "         0.14367229, 0.40819004, 0.40819004, 0.53023311, 0.53023311,\n",
       "         0.90851008, 0.90851008, 0.97134614, 0.97134614, 0.42453953,\n",
       "         0.42453953, 0.7028406 , 0.7028406 , 0.46137229, 0.46137229,\n",
       "         0.13994185, 0.13994185, 0.2371862 , 0.2371862 , 0.40924164,\n",
       "         0.40924164, 0.36766895, 0.36766895, 0.11203433, 0.11203433,\n",
       "         0.92084713, 0.92084713, 0.49758085, 0.49758085, 0.17097794,\n",
       "         0.17097794, 0.74840042, 0.74840042, 0.53471055, 0.53471055,\n",
       "         0.60406754, 0.60406754, 0.54174656, 0.54174656, 0.37039216,\n",
       "         0.37039216, 0.13695417, 0.13695417, 0.14265607, 0.14265607,\n",
       "         0.36369612, 0.36369612, 0.69337704, 0.69337704, 0.32457308,\n",
       "         0.32457308, 0.80249729, 0.80249729, 0.80461651, 0.80461651,\n",
       "         0.27357171, 0.27357171, 0.51081988, 0.51081988, 0.89459154,\n",
       "         0.89459154, 0.5977047 , 0.5977047 , 0.40491288, 0.40491288,\n",
       "         0.11253457, 0.11253457, 0.70164739, 0.70164739, 0.12076492,\n",
       "         0.12076492, 0.41699718, 0.41699718, 0.92798624, 0.92798624,\n",
       "         0.96158748, 0.96158748, 0.43707766, 0.43707766, 0.01816308,\n",
       "         0.01816308, 0.95158028, 0.95158028, 0.45417002, 0.45417002,\n",
       "         0.16447858, 0.16447858, 0.20148198, 0.20148198, 0.49563168,\n",
       "         0.49563168, 0.885219  , 0.885219  , 0.21825532, 0.21825532,\n",
       "         0.57382571, 0.57382571, 0.45742035, 0.45742035, 0.68298335,\n",
       "         0.68298335, 0.73300343, 0.73300343, 0.47166615, 0.47166615])}}"
      ]
     },
     "execution_count": 1,
     "metadata": {},
     "output_type": "execute_result"
    }
   ],
   "source": [
    "ds = load_by_id(run_id_n)\n",
    "ds.get_parameter_data('x1')"
   ]
  },
  {
   "cell_type": "markdown",
   "metadata": {},
   "source": [
    "And a dataset stored as binary arrays"
   ]
  },
  {
   "cell_type": "code",
   "execution_count": 12,
   "metadata": {
    "execution": {
     "iopub.execute_input": "2021-02-11T14:00:38.994866Z",
     "iopub.status.busy": "2021-02-11T14:00:38.994474Z",
     "iopub.status.idle": "2021-02-11T14:00:39.041369Z",
     "shell.execute_reply": "2021-02-11T14:00:39.040985Z"
    },
    "scrolled": true
   },
   "outputs": [
    {
     "data": {
      "text/plain": [
       "{'x1': {'x1': array([[0.6431482 ],\n",
       "         [0.6431482 ],\n",
       "         [0.24171069],\n",
       "         [0.24171069],\n",
       "         [0.82406192],\n",
       "         [0.82406192],\n",
       "         [0.03137158],\n",
       "         [0.03137158],\n",
       "         [0.25560427],\n",
       "         [0.25560427],\n",
       "         [0.51533115],\n",
       "         [0.51533115],\n",
       "         [0.13315839],\n",
       "         [0.13315839],\n",
       "         [0.37132466],\n",
       "         [0.37132466],\n",
       "         [0.00829619],\n",
       "         [0.00829619],\n",
       "         [0.4643833 ],\n",
       "         [0.4643833 ],\n",
       "         [0.46159056],\n",
       "         [0.46159056],\n",
       "         [0.54887482],\n",
       "         [0.54887482],\n",
       "         [0.55428665],\n",
       "         [0.55428665],\n",
       "         [0.53502762],\n",
       "         [0.53502762],\n",
       "         [0.99572042],\n",
       "         [0.99572042],\n",
       "         [0.48714215],\n",
       "         [0.48714215],\n",
       "         [0.83882221],\n",
       "         [0.83882221],\n",
       "         [0.56307135],\n",
       "         [0.56307135],\n",
       "         [0.48118961],\n",
       "         [0.48118961],\n",
       "         [0.88915019],\n",
       "         [0.88915019],\n",
       "         [0.90064508],\n",
       "         [0.90064508],\n",
       "         [0.99059765],\n",
       "         [0.99059765],\n",
       "         [0.3944208 ],\n",
       "         [0.3944208 ],\n",
       "         [0.85876895],\n",
       "         [0.85876895],\n",
       "         [0.02373894],\n",
       "         [0.02373894],\n",
       "         [0.25113614],\n",
       "         [0.25113614],\n",
       "         [0.74522327],\n",
       "         [0.74522327],\n",
       "         [0.89513632],\n",
       "         [0.89513632],\n",
       "         [0.77402604],\n",
       "         [0.77402604],\n",
       "         [0.25836181],\n",
       "         [0.25836181],\n",
       "         [0.5221431 ],\n",
       "         [0.5221431 ],\n",
       "         [0.05622136],\n",
       "         [0.05622136],\n",
       "         [0.57708467],\n",
       "         [0.57708467],\n",
       "         [0.57677839],\n",
       "         [0.57677839],\n",
       "         [0.48614154],\n",
       "         [0.48614154],\n",
       "         [0.08768508],\n",
       "         [0.08768508],\n",
       "         [0.4542194 ],\n",
       "         [0.4542194 ],\n",
       "         [0.16006381],\n",
       "         [0.16006381],\n",
       "         [0.62032163],\n",
       "         [0.62032163],\n",
       "         [0.81589856],\n",
       "         [0.81589856],\n",
       "         [0.41554612],\n",
       "         [0.41554612],\n",
       "         [0.78684091],\n",
       "         [0.78684091],\n",
       "         [0.79401754],\n",
       "         [0.79401754],\n",
       "         [0.14932286],\n",
       "         [0.14932286],\n",
       "         [0.47290799],\n",
       "         [0.47290799],\n",
       "         [0.35532958],\n",
       "         [0.35532958],\n",
       "         [0.22058673],\n",
       "         [0.22058673],\n",
       "         [0.95984112],\n",
       "         [0.95984112],\n",
       "         [0.01886966],\n",
       "         [0.01886966],\n",
       "         [0.76203655],\n",
       "         [0.76203655],\n",
       "         [0.98503802],\n",
       "         [0.98503802],\n",
       "         [0.3088404 ],\n",
       "         [0.3088404 ],\n",
       "         [0.82219144],\n",
       "         [0.82219144],\n",
       "         [0.06487252],\n",
       "         [0.06487252],\n",
       "         [0.9515921 ],\n",
       "         [0.9515921 ],\n",
       "         [0.29653075],\n",
       "         [0.29653075],\n",
       "         [0.90117513],\n",
       "         [0.90117513],\n",
       "         [0.35353815],\n",
       "         [0.35353815],\n",
       "         [0.97939762],\n",
       "         [0.97939762],\n",
       "         [0.25411339],\n",
       "         [0.25411339],\n",
       "         [0.541692  ],\n",
       "         [0.541692  ],\n",
       "         [0.61967523],\n",
       "         [0.61967523],\n",
       "         [0.7079241 ],\n",
       "         [0.7079241 ],\n",
       "         [0.45723151],\n",
       "         [0.45723151],\n",
       "         [0.29591563],\n",
       "         [0.29591563],\n",
       "         [0.67685226],\n",
       "         [0.67685226],\n",
       "         [0.24342214],\n",
       "         [0.24342214],\n",
       "         [0.50272353],\n",
       "         [0.50272353],\n",
       "         [0.74125017],\n",
       "         [0.74125017],\n",
       "         [0.21227771],\n",
       "         [0.21227771],\n",
       "         [0.09925003],\n",
       "         [0.09925003],\n",
       "         [0.72082092],\n",
       "         [0.72082092],\n",
       "         [0.15474297],\n",
       "         [0.15474297],\n",
       "         [0.84607498],\n",
       "         [0.84607498],\n",
       "         [0.00306351],\n",
       "         [0.00306351],\n",
       "         [0.42818872],\n",
       "         [0.42818872],\n",
       "         [0.56558604],\n",
       "         [0.56558604],\n",
       "         [0.02642515],\n",
       "         [0.02642515],\n",
       "         [0.36282114],\n",
       "         [0.36282114],\n",
       "         [0.24435614],\n",
       "         [0.24435614],\n",
       "         [0.12262734],\n",
       "         [0.12262734],\n",
       "         [0.20915068],\n",
       "         [0.20915068],\n",
       "         [0.4076328 ],\n",
       "         [0.4076328 ],\n",
       "         [0.56059983],\n",
       "         [0.56059983],\n",
       "         [0.69735859],\n",
       "         [0.69735859],\n",
       "         [0.17004413],\n",
       "         [0.17004413],\n",
       "         [0.45273062],\n",
       "         [0.45273062],\n",
       "         [0.64786452],\n",
       "         [0.64786452],\n",
       "         [0.46691742],\n",
       "         [0.46691742],\n",
       "         [0.01065833],\n",
       "         [0.01065833],\n",
       "         [0.04172375],\n",
       "         [0.04172375],\n",
       "         [0.11533375],\n",
       "         [0.11533375],\n",
       "         [0.99440082],\n",
       "         [0.99440082],\n",
       "         [0.18742176],\n",
       "         [0.18742176],\n",
       "         [0.60562214],\n",
       "         [0.60562214],\n",
       "         [0.49624573],\n",
       "         [0.49624573],\n",
       "         [0.62091834],\n",
       "         [0.62091834],\n",
       "         [0.87292233],\n",
       "         [0.87292233],\n",
       "         [0.61440782],\n",
       "         [0.61440782],\n",
       "         [0.00337922],\n",
       "         [0.00337922]])}}"
      ]
     },
     "execution_count": 1,
     "metadata": {},
     "output_type": "execute_result"
    }
   ],
   "source": [
    "ds = load_by_id(run_id_a)\n",
    "ds.get_parameter_data('x1')"
   ]
  },
  {
   "cell_type": "code",
   "execution_count": null,
   "metadata": {},
   "outputs": [],
   "source": []
  }
 ],
 "metadata": {
  "kernelspec": {
   "display_name": "Python 3",
   "language": "python",
   "name": "python3"
  },
  "language_info": {
   "codemirror_mode": {
    "name": "ipython",
    "version": 3
   },
   "file_extension": ".py",
   "mimetype": "text/x-python",
   "name": "python",
   "nbconvert_exporter": "python",
   "pygments_lexer": "ipython3",
   "version": "3.7.9"
  },
  "nbsphinx": {
   "timeout": 600
  },
  "toc": {
   "base_numbering": 1,
   "nav_menu": {},
   "number_sections": true,
   "sideBar": true,
   "skip_h1_title": false,
   "title_cell": "Table of Contents",
   "title_sidebar": "Contents",
   "toc_cell": false,
   "toc_position": {},
   "toc_section_display": true,
   "toc_window_display": false
  },
  "varInspector": {
   "cols": {
    "lenName": 16,
    "lenType": 16,
    "lenVar": 40
   },
   "kernels_config": {
    "python": {
     "delete_cmd_postfix": "",
     "delete_cmd_prefix": "del ",
     "library": "var_list.py",
     "varRefreshCmd": "print(var_dic_list())"
    },
    "r": {
     "delete_cmd_postfix": ") ",
     "delete_cmd_prefix": "rm(",
     "library": "var_list.r",
     "varRefreshCmd": "cat(var_dic_list()) "
    }
   },
   "types_to_exclude": [
    "module",
    "function",
    "builtin_function_or_method",
    "instance",
    "_Feature"
   ],
   "window_display": false
  }
 },
 "nbformat": 4,
 "nbformat_minor": 2
}
