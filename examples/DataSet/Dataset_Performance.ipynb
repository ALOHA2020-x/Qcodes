{
 "cells": [
  {
   "cell_type": "markdown",
   "metadata": {},
   "source": [
    "# DataSet Performance\n",
    "\n",
    "This notebook shows the trade-off between inserting data into a database row-by-row and as binary blobs. Inserting the data row-by-row means that we have direct access to all the data and may perform queries directly on the values of the data. On the other hand, as we shall see, this is much slower than inserting the data directly as binary blobs."
   ]
  },
  {
   "cell_type": "markdown",
   "metadata": {},
   "source": [
    "First, we choose a new location for the database to ensure that we don't add a bunch of benchmarking data to the default one."
   ]
  },
  {
   "cell_type": "code",
   "execution_count": 1,
   "metadata": {
    "execution": {
     "iopub.execute_input": "2021-02-10T08:16:49.203922Z",
     "iopub.status.busy": "2021-02-10T08:16:49.203272Z",
     "iopub.status.idle": "2021-02-10T08:16:50.218825Z",
     "shell.execute_reply": "2021-02-10T08:16:50.219266Z"
    }
   },
   "outputs": [
    {
     "name": "stdout",
     "output_type": "stream",
     "text": [
      "Logging hadn't been started.\n",
      "Activating auto-logging. Current session state plus future input saved.\n",
      "Filename       : /home/vsts/.qcodes/logs/command_history.log\n",
      "Mode           : append\n",
      "Output logging : True\n",
      "Raw input log  : False\n",
      "Timestamping   : True\n",
      "State          : active\n"
     ]
    },
    {
     "name": "stdout",
     "output_type": "stream",
     "text": [
      "Qcodes Logfile : /home/vsts/.qcodes/logs/210210-14041-qcodes.log\n"
     ]
    }
   ],
   "source": [
    "import os\n",
    "cwd = os.getcwd()\n",
    "import qcodes as qc\n",
    "qc.config[\"core\"][\"db_location\"] = os.path.join(cwd, 'testing.db')\n"
   ]
  },
  {
   "cell_type": "code",
   "execution_count": 2,
   "metadata": {
    "execution": {
     "iopub.execute_input": "2021-02-10T08:16:50.226090Z",
     "iopub.status.busy": "2021-02-10T08:16:50.225048Z",
     "iopub.status.idle": "2021-02-10T08:16:50.402343Z",
     "shell.execute_reply": "2021-02-10T08:16:50.401458Z"
    }
   },
   "outputs": [],
   "source": [
    "%matplotlib inline\n",
    "import time\n",
    "import matplotlib.pyplot as plt\n",
    "import numpy as np\n",
    "\n",
    "import qcodes as qc\n",
    "from qcodes.instrument.parameter import ManualParameter\n",
    "from qcodes.dataset.experiment_container import (Experiment,\n",
    "                                                 load_last_experiment,\n",
    "                                                 new_experiment)\n",
    "from qcodes.dataset.sqlite.database import initialise_database\n",
    "from qcodes import load_or_create_experiment\n",
    "from qcodes.dataset.measurements import Measurement"
   ]
  },
  {
   "cell_type": "code",
   "execution_count": 3,
   "metadata": {
    "execution": {
     "iopub.execute_input": "2021-02-10T08:16:50.406419Z",
     "iopub.status.busy": "2021-02-10T08:16:50.405719Z",
     "iopub.status.idle": "2021-02-10T08:16:50.511043Z",
     "shell.execute_reply": "2021-02-10T08:16:50.510553Z"
    }
   },
   "outputs": [
    {
     "name": "stdout",
     "output_type": "stream",
     "text": [
      "\r",
      "0it [00:00, ?it/s]"
     ]
    },
    {
     "name": "stdout",
     "output_type": "stream",
     "text": [
      "\r",
      "Upgrading database; v0 -> v1: : 0it [00:00, ?it/s]"
     ]
    },
    {
     "name": "stdout",
     "output_type": "stream",
     "text": [
      "\r",
      "Upgrading database; v0 -> v1: : 0it [00:00, ?it/s]"
     ]
    },
    {
     "name": "stdout",
     "output_type": "stream",
     "text": [
      "\n",
      "\r",
      "  0%|          | 0/1 [00:00<?, ?it/s]"
     ]
    },
    {
     "name": "stdout",
     "output_type": "stream",
     "text": [
      "\r",
      "Upgrading database; v1 -> v2:   0%|          | 0/1 [00:00<?, ?it/s]"
     ]
    },
    {
     "name": "stdout",
     "output_type": "stream",
     "text": [
      "\r",
      "Upgrading database; v1 -> v2: 100%|██████████| 1/1 [00:00<00:00, 439.29it/s]"
     ]
    },
    {
     "name": "stdout",
     "output_type": "stream",
     "text": [
      "\n",
      "\r",
      "0it [00:00, ?it/s]"
     ]
    },
    {
     "name": "stdout",
     "output_type": "stream",
     "text": [
      "\r",
      "Upgrading database; v2 -> v3: : 0it [00:00, ?it/s]"
     ]
    },
    {
     "name": "stdout",
     "output_type": "stream",
     "text": [
      "\r",
      "Upgrading database; v2 -> v3: : 0it [00:00, ?it/s]"
     ]
    },
    {
     "name": "stdout",
     "output_type": "stream",
     "text": [
      "\n",
      "\r",
      "0it [00:00, ?it/s]"
     ]
    },
    {
     "name": "stdout",
     "output_type": "stream",
     "text": [
      "\r",
      "Upgrading database; v3 -> v4: : 0it [00:00, ?it/s]"
     ]
    },
    {
     "name": "stdout",
     "output_type": "stream",
     "text": [
      "\r",
      "Upgrading database; v3 -> v4: : 0it [00:00, ?it/s]"
     ]
    },
    {
     "name": "stdout",
     "output_type": "stream",
     "text": [
      "\n",
      "\r",
      "  0%|          | 0/1 [00:00<?, ?it/s]"
     ]
    },
    {
     "name": "stdout",
     "output_type": "stream",
     "text": [
      "\r",
      "Upgrading database; v4 -> v5:   0%|          | 0/1 [00:00<?, ?it/s]"
     ]
    },
    {
     "name": "stdout",
     "output_type": "stream",
     "text": [
      "\r",
      "Upgrading database; v4 -> v5: 100%|██████████| 1/1 [00:00<00:00, 443.00it/s]"
     ]
    },
    {
     "name": "stdout",
     "output_type": "stream",
     "text": [
      "\n",
      "\r",
      "0it [00:00, ?it/s]"
     ]
    },
    {
     "name": "stdout",
     "output_type": "stream",
     "text": [
      "\r",
      "Upgrading database; v5 -> v6: : 0it [00:00, ?it/s]"
     ]
    },
    {
     "name": "stdout",
     "output_type": "stream",
     "text": [
      "\r",
      "Upgrading database; v5 -> v6: : 0it [00:00, ?it/s]"
     ]
    },
    {
     "name": "stdout",
     "output_type": "stream",
     "text": [
      "\n",
      "\r",
      "  0%|          | 0/1 [00:00<?, ?it/s]"
     ]
    },
    {
     "name": "stdout",
     "output_type": "stream",
     "text": [
      "\r",
      "Upgrading database; v6 -> v7:   0%|          | 0/1 [00:00<?, ?it/s]"
     ]
    },
    {
     "name": "stdout",
     "output_type": "stream",
     "text": [
      "\r",
      "Upgrading database; v6 -> v7: 100%|██████████| 1/1 [00:00<00:00, 315.72it/s]"
     ]
    },
    {
     "name": "stdout",
     "output_type": "stream",
     "text": [
      "\n",
      "\r",
      "  0%|          | 0/1 [00:00<?, ?it/s]"
     ]
    },
    {
     "name": "stdout",
     "output_type": "stream",
     "text": [
      "\r",
      "Upgrading database; v7 -> v8:   0%|          | 0/1 [00:00<?, ?it/s]"
     ]
    },
    {
     "name": "stdout",
     "output_type": "stream",
     "text": [
      "\r",
      "Upgrading database; v7 -> v8: 100%|██████████| 1/1 [00:00<00:00, 1016.31it/s]"
     ]
    },
    {
     "name": "stdout",
     "output_type": "stream",
     "text": [
      "\n",
      "\r",
      "  0%|          | 0/1 [00:00<?, ?it/s]"
     ]
    },
    {
     "name": "stdout",
     "output_type": "stream",
     "text": [
      "\r",
      "Upgrading database; v8 -> v9:   0%|          | 0/1 [00:00<?, ?it/s]"
     ]
    },
    {
     "name": "stdout",
     "output_type": "stream",
     "text": [
      "\r",
      "Upgrading database; v8 -> v9: 100%|██████████| 1/1 [00:00<00:00, 586.12it/s]"
     ]
    },
    {
     "name": "stdout",
     "output_type": "stream",
     "text": [
      "\n"
     ]
    }
   ],
   "source": [
    "initialise_database()\n",
    "exp = load_or_create_experiment(experiment_name='tutorial_exp', sample_name=\"no sample\")"
   ]
  },
  {
   "cell_type": "markdown",
   "metadata": {},
   "source": [
    "Here, we define a simple function to benchmark the time it takes to insert n points with either numeric or array data type.\n",
    "We will compare both the time used to call ``add_result`` and the time used for the full measurement."
   ]
  },
  {
   "cell_type": "code",
   "execution_count": 4,
   "metadata": {
    "execution": {
     "iopub.execute_input": "2021-02-10T08:16:50.519097Z",
     "iopub.status.busy": "2021-02-10T08:16:50.517505Z",
     "iopub.status.idle": "2021-02-10T08:16:50.521306Z",
     "shell.execute_reply": "2021-02-10T08:16:50.520828Z"
    }
   },
   "outputs": [],
   "source": [
    "def insert_data(paramtype, npoints, nreps=1):\n",
    "\n",
    "    meas = Measurement(exp=exp)\n",
    "\n",
    "    x1 = ManualParameter('x1')\n",
    "    x2 = ManualParameter('x2')\n",
    "    x3 = ManualParameter('x3')\n",
    "    y1 = ManualParameter('y1')\n",
    "    y2 = ManualParameter('y2')\n",
    "\n",
    "    meas.register_parameter(x1, paramtype=paramtype)\n",
    "    meas.register_parameter(x2, paramtype=paramtype)\n",
    "    meas.register_parameter(x3, paramtype=paramtype)\n",
    "    meas.register_parameter(y1, setpoints=[x1, x2, x3],\n",
    "                            paramtype=paramtype)\n",
    "    meas.register_parameter(y2, setpoints=[x1, x2, x3],\n",
    "                            paramtype=paramtype)\n",
    "    start = time.perf_counter()\n",
    "    with meas.run() as datasaver:\n",
    "        start_adding = time.perf_counter()\n",
    "        for i in range(nreps):\n",
    "            datasaver.add_result((x1, np.random.rand(npoints)),\n",
    "                                 (x2, np.random.rand(npoints)),\n",
    "                                 (x3, np.random.rand(npoints)),\n",
    "                                 (y1, np.random.rand(npoints)),\n",
    "                                 (y2, np.random.rand(npoints)))\n",
    "        stop_adding = time.perf_counter()\n",
    "        run_id = datasaver.run_id\n",
    "    stop = time.perf_counter()\n",
    "    tot_time = stop - start\n",
    "    add_time = stop_adding - start_adding\n",
    "    return tot_time, add_time, run_id"
   ]
  },
  {
   "cell_type": "markdown",
   "metadata": {},
   "source": [
    "## Comparison between numeric/array data and binary blob"
   ]
  },
  {
   "cell_type": "markdown",
   "metadata": {},
   "source": [
    "### Case1: Short experiment time"
   ]
  },
  {
   "cell_type": "code",
   "execution_count": 5,
   "metadata": {
    "execution": {
     "iopub.execute_input": "2021-02-10T08:16:50.527308Z",
     "iopub.status.busy": "2021-02-10T08:16:50.526073Z",
     "iopub.status.idle": "2021-02-10T08:16:51.334973Z",
     "shell.execute_reply": "2021-02-10T08:16:51.334489Z"
    }
   },
   "outputs": [
    {
     "name": "stdout",
     "output_type": "stream",
     "text": [
      "Starting experimental run with id: 1. \n",
      "Starting experimental run with id: 2. \n",
      "Starting experimental run with id: 3. \n",
      "Starting experimental run with id: 4. \n",
      "Starting experimental run with id: 5. \n"
     ]
    },
    {
     "name": "stdout",
     "output_type": "stream",
     "text": [
      "Starting experimental run with id: 6. \n"
     ]
    },
    {
     "name": "stdout",
     "output_type": "stream",
     "text": [
      "Starting experimental run with id: 7. \n"
     ]
    },
    {
     "name": "stdout",
     "output_type": "stream",
     "text": [
      "Starting experimental run with id: 8. \n",
      "Starting experimental run with id: 9. \n"
     ]
    },
    {
     "name": "stdout",
     "output_type": "stream",
     "text": [
      "Starting experimental run with id: 10. \n",
      "Starting experimental run with id: 11. \n"
     ]
    },
    {
     "name": "stdout",
     "output_type": "stream",
     "text": [
      "Starting experimental run with id: 12. \n",
      "Starting experimental run with id: 13. \n"
     ]
    },
    {
     "name": "stdout",
     "output_type": "stream",
     "text": [
      "Starting experimental run with id: 14. \n"
     ]
    }
   ],
   "source": [
    "sizes = [1,500,1000,2000,3000,4000,5000]\n",
    "t_numeric = []\n",
    "t_numeric_add = []\n",
    "t_array = []\n",
    "t_array_add = []\n",
    "for size in sizes:\n",
    "    tn, tna, run_id_n =  insert_data('numeric', size)\n",
    "    t_numeric.append(tn)\n",
    "    t_numeric_add.append(tna)\n",
    "\n",
    "    ta, taa, run_id_a =  insert_data('array', size)\n",
    "    t_array.append(ta)\n",
    "    t_array_add.append(taa)"
   ]
  },
  {
   "cell_type": "code",
   "execution_count": 6,
   "metadata": {
    "execution": {
     "iopub.execute_input": "2021-02-10T08:16:51.352757Z",
     "iopub.status.busy": "2021-02-10T08:16:51.352086Z",
     "iopub.status.idle": "2021-02-10T08:16:51.548090Z",
     "shell.execute_reply": "2021-02-10T08:16:51.548576Z"
    }
   },
   "outputs": [
    {
     "data": {
      "image/png": "[encoded data removed]",
      "text/plain": [
       "<Figure size 432x288 with 1 Axes>"
      ]
     },
     "metadata": {
      "needs_background": "light"
     },
     "output_type": "display_data"
    }
   ],
   "source": [
    "fig, ax = plt.subplots(1,1)\n",
    "ax.plot(sizes, t_numeric, 'o-', label='Inserting row-by-row')\n",
    "ax.plot(sizes, t_numeric_add, 'o-', label='Inserting row-by-row: add_result only')\n",
    "ax.plot(sizes, t_array, 'd-', label='Inserting as binary blob')\n",
    "ax.plot(sizes, t_array_add, 'd-', label='Inserting as binary blob: add_result only')\n",
    "ax.legend()\n",
    "ax.set_xlabel('Array length')\n",
    "ax.set_ylabel('Time (s)')\n",
    "fig.tight_layout()"
   ]
  },
  {
   "cell_type": "markdown",
   "metadata": {},
   "source": [
    "As shown in the latter figure, the time to setup and and close the experiment is approximately 0.4 sec. In case of small array sizes, the difference between inserting values of data as arrays and inserting them row-by-row is relatively unimportant. At larger array sizes, i.e. above 10000 points, the cost of writing data as individual datapoints starts to become important.\n"
   ]
  },
  {
   "cell_type": "markdown",
   "metadata": {},
   "source": [
    "### Case2: Long experiment time "
   ]
  },
  {
   "cell_type": "code",
   "execution_count": 7,
   "metadata": {
    "execution": {
     "iopub.execute_input": "2021-02-10T08:16:51.555949Z",
     "iopub.status.busy": "2021-02-10T08:16:51.554917Z",
     "iopub.status.idle": "2021-02-10T08:17:47.134085Z",
     "shell.execute_reply": "2021-02-10T08:17:47.133170Z"
    }
   },
   "outputs": [
    {
     "name": "stdout",
     "output_type": "stream",
     "text": [
      "Starting experimental run with id: 15. \n",
      "Starting experimental run with id: 16. \n",
      "Starting experimental run with id: 17. \n"
     ]
    },
    {
     "name": "stdout",
     "output_type": "stream",
     "text": [
      "Starting experimental run with id: 18. \n"
     ]
    },
    {
     "name": "stdout",
     "output_type": "stream",
     "text": [
      "Starting experimental run with id: 19. \n"
     ]
    },
    {
     "name": "stdout",
     "output_type": "stream",
     "text": [
      "Starting experimental run with id: 20. \n"
     ]
    },
    {
     "name": "stdout",
     "output_type": "stream",
     "text": [
      "Starting experimental run with id: 21. \n"
     ]
    },
    {
     "name": "stdout",
     "output_type": "stream",
     "text": [
      "Starting experimental run with id: 22. \n"
     ]
    },
    {
     "name": "stdout",
     "output_type": "stream",
     "text": [
      "Starting experimental run with id: 23. \n"
     ]
    },
    {
     "name": "stdout",
     "output_type": "stream",
     "text": [
      "Starting experimental run with id: 24. \n"
     ]
    },
    {
     "name": "stdout",
     "output_type": "stream",
     "text": [
      "Starting experimental run with id: 25. \n"
     ]
    },
    {
     "name": "stdout",
     "output_type": "stream",
     "text": [
      "Starting experimental run with id: 26. \n"
     ]
    },
    {
     "name": "stdout",
     "output_type": "stream",
     "text": [
      "Starting experimental run with id: 27. \n"
     ]
    },
    {
     "name": "stdout",
     "output_type": "stream",
     "text": [
      "Starting experimental run with id: 28. \n"
     ]
    }
   ],
   "source": [
    "sizes = [1,500,1000,2000,3000,4000,5000]\n",
    "nreps = 100\n",
    "t_numeric = []\n",
    "t_numeric_add = []\n",
    "t_numeric_run_ids = []\n",
    "t_array = []\n",
    "t_array_add = []\n",
    "t_array_run_ids = []\n",
    "for size in sizes:\n",
    "    tn, tna, run_id_n =  insert_data('numeric', size, nreps=nreps)\n",
    "    t_numeric.append(tn)\n",
    "    t_numeric_add.append(tna)\n",
    "    t_numeric_run_ids.append(run_id_n)\n",
    "\n",
    "    ta, taa, run_id_a =  insert_data('array', size, nreps=nreps)\n",
    "    t_array.append(ta)\n",
    "    t_array_add.append(taa)\n",
    "    t_array_run_ids.append(run_id_a)"
   ]
  },
  {
   "cell_type": "code",
   "execution_count": 8,
   "metadata": {
    "execution": {
     "iopub.execute_input": "2021-02-10T08:17:47.171816Z",
     "iopub.status.busy": "2021-02-10T08:17:47.154335Z",
     "iopub.status.idle": "2021-02-10T08:17:47.349327Z",
     "shell.execute_reply": "2021-02-10T08:17:47.348809Z"
    },
    "scrolled": true
   },
   "outputs": [
    {
     "data": {
      "image/png": "[encoded data removed]",
      "text/plain": [
       "<Figure size 432x288 with 1 Axes>"
      ]
     },
     "metadata": {
      "needs_background": "light"
     },
     "output_type": "display_data"
    }
   ],
   "source": [
    "fig, ax = plt.subplots(1,1)\n",
    "ax.plot(sizes, t_numeric, 'o-', label='Inserting row-by-row')\n",
    "ax.plot(sizes, t_numeric_add, 'o-', label='Inserting row-by-row: add_result only')\n",
    "ax.plot(sizes, t_array, 'd-', label='Inserting as binary blob')\n",
    "ax.plot(sizes, t_array_add, 'd-', label='Inserting as binary blob: add_result only')\n",
    "ax.legend()\n",
    "ax.set_xlabel('Array length')\n",
    "ax.set_ylabel('Time (s)')\n",
    "fig.tight_layout()"
   ]
  },
  {
   "cell_type": "markdown",
   "metadata": {},
   "source": [
    "However, as we increase the length of the experiment, as seen here by repeating the insertion 100 times, we see a big difference between inserting values of the data row-by-row and inserting it as a binary blob."
   ]
  },
  {
   "cell_type": "markdown",
   "metadata": {},
   "source": [
    "## Loading the data "
   ]
  },
  {
   "cell_type": "code",
   "execution_count": 9,
   "metadata": {
    "execution": {
     "iopub.execute_input": "2021-02-10T08:17:47.353686Z",
     "iopub.status.busy": "2021-02-10T08:17:47.352610Z",
     "iopub.status.idle": "2021-02-10T08:17:47.356040Z",
     "shell.execute_reply": "2021-02-10T08:17:47.355554Z"
    }
   },
   "outputs": [],
   "source": [
    "from qcodes.dataset.data_set import load_by_id\n",
    "from qcodes.dataset.data_export import get_data_by_id"
   ]
  },
  {
   "cell_type": "markdown",
   "metadata": {},
   "source": [
    "As usual you can load the data by using the ``load_by_id`` function but you will notice that the different storage methods\n",
    "are reflected in shape of the data as it is retrieved. "
   ]
  },
  {
   "cell_type": "code",
   "execution_count": 10,
   "metadata": {
    "execution": {
     "iopub.execute_input": "2021-02-10T08:17:47.361017Z",
     "iopub.status.busy": "2021-02-10T08:17:47.359674Z",
     "iopub.status.idle": "2021-02-10T08:17:47.361692Z",
     "shell.execute_reply": "2021-02-10T08:17:47.362249Z"
    }
   },
   "outputs": [],
   "source": [
    "run_id_n = t_numeric_run_ids[0]\n",
    "run_id_a = t_array_run_ids[0]"
   ]
  },
  {
   "cell_type": "code",
   "execution_count": 11,
   "metadata": {
    "execution": {
     "iopub.execute_input": "2021-02-10T08:17:47.365773Z",
     "iopub.status.busy": "2021-02-10T08:17:47.365153Z",
     "iopub.status.idle": "2021-02-10T08:17:47.374904Z",
     "shell.execute_reply": "2021-02-10T08:17:47.374443Z"
    },
    "scrolled": true
   },
   "outputs": [
    {
     "data": {
      "text/plain": [
       "{'x1': {'x1': array([0.75099989, 0.75099989, 0.02624341, 0.02624341, 0.69496153,\n",
       "         0.69496153, 0.42124388, 0.42124388, 0.36594497, 0.36594497,\n",
       "         0.96363961, 0.96363961, 0.09341536, 0.09341536, 0.01585372,\n",
       "         0.01585372, 0.73647921, 0.73647921, 0.44531652, 0.44531652,\n",
       "         0.8064267 , 0.8064267 , 0.88939709, 0.88939709, 0.35492798,\n",
       "         0.35492798, 0.36189419, 0.36189419, 0.82664467, 0.82664467,\n",
       "         0.31103815, 0.31103815, 0.66471377, 0.66471377, 0.96216539,\n",
       "         0.96216539, 0.20988182, 0.20988182, 0.79236581, 0.79236581,\n",
       "         0.32197782, 0.32197782, 0.23552703, 0.23552703, 0.69047825,\n",
       "         0.69047825, 0.28574901, 0.28574901, 0.09444405, 0.09444405,\n",
       "         0.42261962, 0.42261962, 0.72971977, 0.72971977, 0.85310767,\n",
       "         0.85310767, 0.18586133, 0.18586133, 0.89149439, 0.89149439,\n",
       "         0.66053641, 0.66053641, 0.42868338, 0.42868338, 0.36858611,\n",
       "         0.36858611, 0.89114884, 0.89114884, 0.46817865, 0.46817865,\n",
       "         0.43638161, 0.43638161, 0.78879242, 0.78879242, 0.38213902,\n",
       "         0.38213902, 0.93787295, 0.93787295, 0.70379233, 0.70379233,\n",
       "         0.6655406 , 0.6655406 , 0.47140243, 0.47140243, 0.53896479,\n",
       "         0.53896479, 0.94976757, 0.94976757, 0.21629268, 0.21629268,\n",
       "         0.48525955, 0.48525955, 0.93660356, 0.93660356, 0.97785134,\n",
       "         0.97785134, 0.21352715, 0.21352715, 0.05640434, 0.05640434,\n",
       "         0.46913927, 0.46913927, 0.78128484, 0.78128484, 0.83924692,\n",
       "         0.83924692, 0.26802616, 0.26802616, 0.22966089, 0.22966089,\n",
       "         0.57797974, 0.57797974, 0.62203577, 0.62203577, 0.69226369,\n",
       "         0.69226369, 0.41167754, 0.41167754, 0.2194949 , 0.2194949 ,\n",
       "         0.29919558, 0.29919558, 0.60227858, 0.60227858, 0.91755552,\n",
       "         0.91755552, 0.72917652, 0.72917652, 0.39686944, 0.39686944,\n",
       "         0.7493209 , 0.7493209 , 0.87814656, 0.87814656, 0.25590386,\n",
       "         0.25590386, 0.79086908, 0.79086908, 0.76065899, 0.76065899,\n",
       "         0.89293754, 0.89293754, 0.65117754, 0.65117754, 0.92641874,\n",
       "         0.92641874, 0.64414347, 0.64414347, 0.41423751, 0.41423751,\n",
       "         0.59825099, 0.59825099, 0.53694456, 0.53694456, 0.60339274,\n",
       "         0.60339274, 0.70684569, 0.70684569, 0.80029402, 0.80029402,\n",
       "         0.54606811, 0.54606811, 0.63562298, 0.63562298, 0.32356129,\n",
       "         0.32356129, 0.48599618, 0.48599618, 0.93547788, 0.93547788,\n",
       "         0.0961688 , 0.0961688 , 0.64334997, 0.64334997, 0.09643017,\n",
       "         0.09643017, 0.11163229, 0.11163229, 0.81557788, 0.81557788,\n",
       "         0.58277089, 0.58277089, 0.45919081, 0.45919081, 0.65481623,\n",
       "         0.65481623, 0.29073231, 0.29073231, 0.6509695 , 0.6509695 ,\n",
       "         0.55990336, 0.55990336, 0.64987977, 0.64987977, 0.45896443,\n",
       "         0.45896443, 0.68563742, 0.68563742, 0.57446676, 0.57446676])}}"
      ]
     },
     "execution_count": 1,
     "metadata": {},
     "output_type": "execute_result"
    }
   ],
   "source": [
    "ds = load_by_id(run_id_n)\n",
    "ds.get_parameter_data('x1')"
   ]
  },
  {
   "cell_type": "markdown",
   "metadata": {},
   "source": [
    "And a dataset stored as binary arrays"
   ]
  },
  {
   "cell_type": "code",
   "execution_count": 12,
   "metadata": {
    "execution": {
     "iopub.execute_input": "2021-02-10T08:17:47.378659Z",
     "iopub.status.busy": "2021-02-10T08:17:47.378088Z",
     "iopub.status.idle": "2021-02-10T08:17:47.438499Z",
     "shell.execute_reply": "2021-02-10T08:17:47.439042Z"
    },
    "scrolled": true
   },
   "outputs": [
    {
     "data": {
      "text/plain": [
       "{'x1': {'x1': array([[0.75242813],\n",
       "         [0.75242813],\n",
       "         [0.19448881],\n",
       "         [0.19448881],\n",
       "         [0.20029222],\n",
       "         [0.20029222],\n",
       "         [0.60050505],\n",
       "         [0.60050505],\n",
       "         [0.2500717 ],\n",
       "         [0.2500717 ],\n",
       "         [0.64585933],\n",
       "         [0.64585933],\n",
       "         [0.54807509],\n",
       "         [0.54807509],\n",
       "         [0.5187785 ],\n",
       "         [0.5187785 ],\n",
       "         [0.38085422],\n",
       "         [0.38085422],\n",
       "         [0.65260086],\n",
       "         [0.65260086],\n",
       "         [0.20525607],\n",
       "         [0.20525607],\n",
       "         [0.37333947],\n",
       "         [0.37333947],\n",
       "         [0.60318949],\n",
       "         [0.60318949],\n",
       "         [0.71884451],\n",
       "         [0.71884451],\n",
       "         [0.21305344],\n",
       "         [0.21305344],\n",
       "         [0.17403506],\n",
       "         [0.17403506],\n",
       "         [0.81262726],\n",
       "         [0.81262726],\n",
       "         [0.36271907],\n",
       "         [0.36271907],\n",
       "         [0.74425256],\n",
       "         [0.74425256],\n",
       "         [0.21122709],\n",
       "         [0.21122709],\n",
       "         [0.11441784],\n",
       "         [0.11441784],\n",
       "         [0.12227124],\n",
       "         [0.12227124],\n",
       "         [0.35675623],\n",
       "         [0.35675623],\n",
       "         [0.41545594],\n",
       "         [0.41545594],\n",
       "         [0.03912748],\n",
       "         [0.03912748],\n",
       "         [0.3393479 ],\n",
       "         [0.3393479 ],\n",
       "         [0.99305512],\n",
       "         [0.99305512],\n",
       "         [0.85330011],\n",
       "         [0.85330011],\n",
       "         [0.78646645],\n",
       "         [0.78646645],\n",
       "         [0.54425118],\n",
       "         [0.54425118],\n",
       "         [0.90689175],\n",
       "         [0.90689175],\n",
       "         [0.63852885],\n",
       "         [0.63852885],\n",
       "         [0.59106867],\n",
       "         [0.59106867],\n",
       "         [0.4077516 ],\n",
       "         [0.4077516 ],\n",
       "         [0.77375136],\n",
       "         [0.77375136],\n",
       "         [0.56787652],\n",
       "         [0.56787652],\n",
       "         [0.79952931],\n",
       "         [0.79952931],\n",
       "         [0.21544067],\n",
       "         [0.21544067],\n",
       "         [0.59734918],\n",
       "         [0.59734918],\n",
       "         [0.48668864],\n",
       "         [0.48668864],\n",
       "         [0.66818414],\n",
       "         [0.66818414],\n",
       "         [0.93894796],\n",
       "         [0.93894796],\n",
       "         [0.51587667],\n",
       "         [0.51587667],\n",
       "         [0.17765499],\n",
       "         [0.17765499],\n",
       "         [0.53558955],\n",
       "         [0.53558955],\n",
       "         [0.59977046],\n",
       "         [0.59977046],\n",
       "         [0.50670782],\n",
       "         [0.50670782],\n",
       "         [0.32897897],\n",
       "         [0.32897897],\n",
       "         [0.71707867],\n",
       "         [0.71707867],\n",
       "         [0.26784297],\n",
       "         [0.26784297],\n",
       "         [0.10792534],\n",
       "         [0.10792534],\n",
       "         [0.25540149],\n",
       "         [0.25540149],\n",
       "         [0.07768342],\n",
       "         [0.07768342],\n",
       "         [0.77081077],\n",
       "         [0.77081077],\n",
       "         [0.63867792],\n",
       "         [0.63867792],\n",
       "         [0.23911643],\n",
       "         [0.23911643],\n",
       "         [0.7946611 ],\n",
       "         [0.7946611 ],\n",
       "         [0.87994664],\n",
       "         [0.87994664],\n",
       "         [0.33006417],\n",
       "         [0.33006417],\n",
       "         [0.48313344],\n",
       "         [0.48313344],\n",
       "         [0.09368424],\n",
       "         [0.09368424],\n",
       "         [0.3208476 ],\n",
       "         [0.3208476 ],\n",
       "         [0.38308404],\n",
       "         [0.38308404],\n",
       "         [0.52212478],\n",
       "         [0.52212478],\n",
       "         [0.52766731],\n",
       "         [0.52766731],\n",
       "         [0.60766147],\n",
       "         [0.60766147],\n",
       "         [0.5760804 ],\n",
       "         [0.5760804 ],\n",
       "         [0.77234936],\n",
       "         [0.77234936],\n",
       "         [0.6181756 ],\n",
       "         [0.6181756 ],\n",
       "         [0.17160621],\n",
       "         [0.17160621],\n",
       "         [0.893087  ],\n",
       "         [0.893087  ],\n",
       "         [0.07236389],\n",
       "         [0.07236389],\n",
       "         [0.13782851],\n",
       "         [0.13782851],\n",
       "         [0.20577471],\n",
       "         [0.20577471],\n",
       "         [0.02625131],\n",
       "         [0.02625131],\n",
       "         [0.13846705],\n",
       "         [0.13846705],\n",
       "         [0.62984984],\n",
       "         [0.62984984],\n",
       "         [0.00600697],\n",
       "         [0.00600697],\n",
       "         [0.78134603],\n",
       "         [0.78134603],\n",
       "         [0.41190746],\n",
       "         [0.41190746],\n",
       "         [0.46656467],\n",
       "         [0.46656467],\n",
       "         [0.79089533],\n",
       "         [0.79089533],\n",
       "         [0.5582607 ],\n",
       "         [0.5582607 ],\n",
       "         [0.10979931],\n",
       "         [0.10979931],\n",
       "         [0.71055519],\n",
       "         [0.71055519],\n",
       "         [0.44239034],\n",
       "         [0.44239034],\n",
       "         [0.92872276],\n",
       "         [0.92872276],\n",
       "         [0.35011087],\n",
       "         [0.35011087],\n",
       "         [0.28936374],\n",
       "         [0.28936374],\n",
       "         [0.32350347],\n",
       "         [0.32350347],\n",
       "         [0.52652655],\n",
       "         [0.52652655],\n",
       "         [0.82137339],\n",
       "         [0.82137339],\n",
       "         [0.88518895],\n",
       "         [0.88518895],\n",
       "         [0.22513534],\n",
       "         [0.22513534],\n",
       "         [0.28609765],\n",
       "         [0.28609765],\n",
       "         [0.31250243],\n",
       "         [0.31250243],\n",
       "         [0.6839603 ],\n",
       "         [0.6839603 ],\n",
       "         [0.59350753],\n",
       "         [0.59350753],\n",
       "         [0.59144576],\n",
       "         [0.59144576],\n",
       "         [0.16757474],\n",
       "         [0.16757474]])}}"
      ]
     },
     "execution_count": 1,
     "metadata": {},
     "output_type": "execute_result"
    }
   ],
   "source": [
    "ds = load_by_id(run_id_a)\n",
    "ds.get_parameter_data('x1')"
   ]
  },
  {
   "cell_type": "code",
   "execution_count": null,
   "metadata": {},
   "outputs": [],
   "source": []
  }
 ],
 "metadata": {
  "kernelspec": {
   "display_name": "Python 3",
   "language": "python",
   "name": "python3"
  },
  "language_info": {
   "codemirror_mode": {
    "name": "ipython",
    "version": 3
   },
   "file_extension": ".py",
   "mimetype": "text/x-python",
   "name": "python",
   "nbconvert_exporter": "python",
   "pygments_lexer": "ipython3",
   "version": "3.7.9"
  },
  "nbsphinx": {
   "timeout": 600
  },
  "toc": {
   "base_numbering": 1,
   "nav_menu": {},
   "number_sections": true,
   "sideBar": true,
   "skip_h1_title": false,
   "title_cell": "Table of Contents",
   "title_sidebar": "Contents",
   "toc_cell": false,
   "toc_position": {},
   "toc_section_display": true,
   "toc_window_display": false
  },
  "varInspector": {
   "cols": {
    "lenName": 16,
    "lenType": 16,
    "lenVar": 40
   },
   "kernels_config": {
    "python": {
     "delete_cmd_postfix": "",
     "delete_cmd_prefix": "del ",
     "library": "var_list.py",
     "varRefreshCmd": "print(var_dic_list())"
    },
    "r": {
     "delete_cmd_postfix": ") ",
     "delete_cmd_prefix": "rm(",
     "library": "var_list.r",
     "varRefreshCmd": "cat(var_dic_list()) "
    }
   },
   "types_to_exclude": [
    "module",
    "function",
    "builtin_function_or_method",
    "instance",
    "_Feature"
   ],
   "window_display": false
  }
 },
 "nbformat": 4,
 "nbformat_minor": 2
}
