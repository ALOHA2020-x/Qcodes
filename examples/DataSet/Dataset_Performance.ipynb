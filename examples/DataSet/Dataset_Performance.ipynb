{
 "cells": [
  {
   "cell_type": "markdown",
   "metadata": {},
   "source": [
    "# DataSet Performance\n",
    "\n",
    "This notebook shows the trade-off between inserting data into a database row-by-row and as binary blobs. Inserting the data row-by-row means that we have direct access to all the data and may perform queries directly on the values of the data. On the other hand, as we shall see, this is much slower than inserting the data directly as binary blobs."
   ]
  },
  {
   "cell_type": "markdown",
   "metadata": {},
   "source": [
    "First, we choose a new location for the database to ensure that we don't add a bunch of benchmarking data to the default one."
   ]
  },
  {
   "cell_type": "code",
   "execution_count": 1,
   "metadata": {
    "execution": {
     "iopub.execute_input": "2020-10-28T12:38:59.909955Z",
     "iopub.status.busy": "2020-10-28T12:38:59.909449Z",
     "iopub.status.idle": "2020-10-28T12:39:01.051514Z",
     "shell.execute_reply": "2020-10-28T12:39:01.052415Z"
    }
   },
   "outputs": [
    {
     "name": "stdout",
     "output_type": "stream",
     "text": [
      "Logging hadn't been started.\n",
      "Activating auto-logging. Current session state plus future input saved.\n",
      "Filename       : /home/vsts/.qcodes/logs/command_history.log\n",
      "Mode           : append\n",
      "Output logging : True\n",
      "Raw input log  : False\n",
      "Timestamping   : True\n",
      "State          : active\n"
     ]
    },
    {
     "name": "stdout",
     "output_type": "stream",
     "text": [
      "Qcodes Logfile : /home/vsts/.qcodes/logs/201028-14995-qcodes.log\n"
     ]
    }
   ],
   "source": [
    "import os\n",
    "cwd = os.getcwd()\n",
    "import qcodes as qc\n",
    "qc.config[\"core\"][\"db_location\"] = os.path.join(cwd, 'testing.db')\n"
   ]
  },
  {
   "cell_type": "code",
   "execution_count": 2,
   "metadata": {
    "execution": {
     "iopub.execute_input": "2020-10-28T12:39:01.056587Z",
     "iopub.status.busy": "2020-10-28T12:39:01.055224Z",
     "iopub.status.idle": "2020-10-28T12:39:01.266994Z",
     "shell.execute_reply": "2020-10-28T12:39:01.267706Z"
    }
   },
   "outputs": [],
   "source": [
    "%matplotlib inline\n",
    "import time\n",
    "import matplotlib.pyplot as plt\n",
    "import numpy as np\n",
    "\n",
    "import qcodes as qc\n",
    "from qcodes.instrument.parameter import ManualParameter\n",
    "from qcodes.dataset.experiment_container import (Experiment,\n",
    "                                                 load_last_experiment,\n",
    "                                                 new_experiment)\n",
    "from qcodes.dataset.sqlite.database import initialise_database\n",
    "from qcodes import load_or_create_experiment\n",
    "from qcodes.dataset.measurements import Measurement"
   ]
  },
  {
   "cell_type": "code",
   "execution_count": 3,
   "metadata": {
    "execution": {
     "iopub.execute_input": "2020-10-28T12:39:01.270393Z",
     "iopub.status.busy": "2020-10-28T12:39:01.269767Z",
     "iopub.status.idle": "2020-10-28T12:39:01.406072Z",
     "shell.execute_reply": "2020-10-28T12:39:01.407171Z"
    }
   },
   "outputs": [
    {
     "name": "stdout",
     "output_type": "stream",
     "text": [
      "\r",
      "0it [00:00, ?it/s]"
     ]
    },
    {
     "name": "stdout",
     "output_type": "stream",
     "text": [
      "\r",
      "Upgrading database; v0 -> v1: : 0it [00:00, ?it/s]"
     ]
    },
    {
     "name": "stdout",
     "output_type": "stream",
     "text": [
      "\r",
      "Upgrading database; v0 -> v1: : 0it [00:00, ?it/s]"
     ]
    },
    {
     "name": "stdout",
     "output_type": "stream",
     "text": [
      "\n",
      "\r",
      "  0%|          | 0/1 [00:00<?, ?it/s]"
     ]
    },
    {
     "name": "stdout",
     "output_type": "stream",
     "text": [
      "\r",
      "Upgrading database; v1 -> v2:   0%|          | 0/1 [00:00<?, ?it/s]"
     ]
    },
    {
     "name": "stdout",
     "output_type": "stream",
     "text": [
      "\r",
      "Upgrading database; v1 -> v2: 100%|██████████| 1/1 [00:00<00:00, 882.83it/s]"
     ]
    },
    {
     "name": "stdout",
     "output_type": "stream",
     "text": [
      "\n",
      "\r",
      "0it [00:00, ?it/s]"
     ]
    },
    {
     "name": "stdout",
     "output_type": "stream",
     "text": [
      "\r",
      "Upgrading database; v2 -> v3: : 0it [00:00, ?it/s]"
     ]
    },
    {
     "name": "stdout",
     "output_type": "stream",
     "text": [
      "\r",
      "Upgrading database; v2 -> v3: : 0it [00:00, ?it/s]"
     ]
    },
    {
     "name": "stdout",
     "output_type": "stream",
     "text": [
      "\n",
      "\r",
      "0it [00:00, ?it/s]"
     ]
    },
    {
     "name": "stdout",
     "output_type": "stream",
     "text": [
      "\r",
      "Upgrading database; v3 -> v4: : 0it [00:00, ?it/s]"
     ]
    },
    {
     "name": "stdout",
     "output_type": "stream",
     "text": [
      "\r",
      "Upgrading database; v3 -> v4: : 0it [00:00, ?it/s]"
     ]
    },
    {
     "name": "stdout",
     "output_type": "stream",
     "text": [
      "\n",
      "\r",
      "  0%|          | 0/1 [00:00<?, ?it/s]"
     ]
    },
    {
     "name": "stdout",
     "output_type": "stream",
     "text": [
      "\r",
      "Upgrading database; v4 -> v5:   0%|          | 0/1 [00:00<?, ?it/s]"
     ]
    },
    {
     "name": "stdout",
     "output_type": "stream",
     "text": [
      "\r",
      "Upgrading database; v4 -> v5: 100%|██████████| 1/1 [00:00<00:00, 309.29it/s]"
     ]
    },
    {
     "name": "stdout",
     "output_type": "stream",
     "text": [
      "\n",
      "\r",
      "0it [00:00, ?it/s]"
     ]
    },
    {
     "name": "stdout",
     "output_type": "stream",
     "text": [
      "\r",
      "Upgrading database; v5 -> v6: : 0it [00:00, ?it/s]"
     ]
    },
    {
     "name": "stdout",
     "output_type": "stream",
     "text": [
      "\r",
      "Upgrading database; v5 -> v6: : 0it [00:00, ?it/s]"
     ]
    },
    {
     "name": "stdout",
     "output_type": "stream",
     "text": [
      "\n",
      "\r",
      "  0%|          | 0/1 [00:00<?, ?it/s]"
     ]
    },
    {
     "name": "stdout",
     "output_type": "stream",
     "text": [
      "\r",
      "Upgrading database; v6 -> v7:   0%|          | 0/1 [00:00<?, ?it/s]"
     ]
    },
    {
     "name": "stdout",
     "output_type": "stream",
     "text": [
      "\r",
      "Upgrading database; v6 -> v7: 100%|██████████| 1/1 [00:00<00:00, 347.18it/s]"
     ]
    },
    {
     "name": "stdout",
     "output_type": "stream",
     "text": [
      "\n",
      "\r",
      "  0%|          | 0/1 [00:00<?, ?it/s]"
     ]
    },
    {
     "name": "stdout",
     "output_type": "stream",
     "text": [
      "\r",
      "Upgrading database; v7 -> v8:   0%|          | 0/1 [00:00<?, ?it/s]"
     ]
    },
    {
     "name": "stdout",
     "output_type": "stream",
     "text": [
      "\r",
      "Upgrading database; v7 -> v8: 100%|██████████| 1/1 [00:00<00:00, 269.02it/s]"
     ]
    },
    {
     "name": "stdout",
     "output_type": "stream",
     "text": [
      "\n",
      "\r",
      "  0%|          | 0/1 [00:00<?, ?it/s]"
     ]
    },
    {
     "name": "stdout",
     "output_type": "stream",
     "text": [
      "\r",
      "Upgrading database; v8 -> v9:   0%|          | 0/1 [00:00<?, ?it/s]"
     ]
    },
    {
     "name": "stdout",
     "output_type": "stream",
     "text": [
      "\r",
      "Upgrading database; v8 -> v9: 100%|██████████| 1/1 [00:00<00:00, 236.06it/s]"
     ]
    },
    {
     "name": "stdout",
     "output_type": "stream",
     "text": [
      "\n"
     ]
    }
   ],
   "source": [
    "initialise_database()\n",
    "exp = load_or_create_experiment(experiment_name='tutorial_exp', sample_name=\"no sample\")"
   ]
  },
  {
   "cell_type": "markdown",
   "metadata": {},
   "source": [
    "Here, we define a simple function to benchmark the time it takes to insert n points with either numeric or array data type.\n",
    "We will compare both the time used to call ``add_result`` and the time used for the full measurement."
   ]
  },
  {
   "cell_type": "code",
   "execution_count": 4,
   "metadata": {
    "execution": {
     "iopub.execute_input": "2020-10-28T12:39:01.415866Z",
     "iopub.status.busy": "2020-10-28T12:39:01.415283Z",
     "iopub.status.idle": "2020-10-28T12:39:01.418687Z",
     "shell.execute_reply": "2020-10-28T12:39:01.419598Z"
    }
   },
   "outputs": [],
   "source": [
    "def insert_data(paramtype, npoints, nreps=1):\n",
    "\n",
    "    meas = Measurement(exp=exp)\n",
    "\n",
    "    x1 = ManualParameter('x1')\n",
    "    x2 = ManualParameter('x2')\n",
    "    x3 = ManualParameter('x3')\n",
    "    y1 = ManualParameter('y1')\n",
    "    y2 = ManualParameter('y2')\n",
    "\n",
    "    meas.register_parameter(x1, paramtype=paramtype)\n",
    "    meas.register_parameter(x2, paramtype=paramtype)\n",
    "    meas.register_parameter(x3, paramtype=paramtype)\n",
    "    meas.register_parameter(y1, setpoints=[x1, x2, x3],\n",
    "                            paramtype=paramtype)\n",
    "    meas.register_parameter(y2, setpoints=[x1, x2, x3],\n",
    "                            paramtype=paramtype)\n",
    "    start = time.perf_counter()\n",
    "    with meas.run() as datasaver:\n",
    "        start_adding = time.perf_counter()\n",
    "        for i in range(nreps):\n",
    "            datasaver.add_result((x1, np.random.rand(npoints)),\n",
    "                                 (x2, np.random.rand(npoints)),\n",
    "                                 (x3, np.random.rand(npoints)),\n",
    "                                 (y1, np.random.rand(npoints)),\n",
    "                                 (y2, np.random.rand(npoints)))\n",
    "        stop_adding = time.perf_counter()\n",
    "        run_id = datasaver.run_id\n",
    "    stop = time.perf_counter()\n",
    "    tot_time = stop - start\n",
    "    add_time = stop_adding - start_adding\n",
    "    return tot_time, add_time, run_id"
   ]
  },
  {
   "cell_type": "markdown",
   "metadata": {},
   "source": [
    "## Comparison between numeric/array data and binary blob"
   ]
  },
  {
   "cell_type": "markdown",
   "metadata": {},
   "source": [
    "### Case1: Short experiment time"
   ]
  },
  {
   "cell_type": "code",
   "execution_count": 5,
   "metadata": {
    "execution": {
     "iopub.execute_input": "2020-10-28T12:39:01.423143Z",
     "iopub.status.busy": "2020-10-28T12:39:01.422066Z",
     "iopub.status.idle": "2020-10-28T12:39:02.264927Z",
     "shell.execute_reply": "2020-10-28T12:39:02.264335Z"
    }
   },
   "outputs": [
    {
     "name": "stdout",
     "output_type": "stream",
     "text": [
      "Starting experimental run with id: 1. \n",
      "Starting experimental run with id: 2. \n",
      "Starting experimental run with id: 3. \n",
      "Starting experimental run with id: 4. \n"
     ]
    },
    {
     "name": "stdout",
     "output_type": "stream",
     "text": [
      "Starting experimental run with id: 5. \n"
     ]
    },
    {
     "name": "stdout",
     "output_type": "stream",
     "text": [
      "Starting experimental run with id: 6. \n",
      "Starting experimental run with id: 7. \n"
     ]
    },
    {
     "name": "stdout",
     "output_type": "stream",
     "text": [
      "Starting experimental run with id: 8. \n",
      "Starting experimental run with id: 9. \n"
     ]
    },
    {
     "name": "stdout",
     "output_type": "stream",
     "text": [
      "Starting experimental run with id: 10. \n",
      "Starting experimental run with id: 11. \n"
     ]
    },
    {
     "name": "stdout",
     "output_type": "stream",
     "text": [
      "Starting experimental run with id: 12. \n",
      "Starting experimental run with id: 13. \n"
     ]
    },
    {
     "name": "stdout",
     "output_type": "stream",
     "text": [
      "Starting experimental run with id: 14. \n"
     ]
    }
   ],
   "source": [
    "sizes = [1,500,1000,2000,3000,4000,5000]\n",
    "t_numeric = []\n",
    "t_numeric_add = []\n",
    "t_array = []\n",
    "t_array_add = []\n",
    "for size in sizes:\n",
    "    tn, tna, run_id_n =  insert_data('numeric', size)\n",
    "    t_numeric.append(tn)\n",
    "    t_numeric_add.append(tna)\n",
    "\n",
    "    ta, taa, run_id_a =  insert_data('array', size)\n",
    "    t_array.append(ta)\n",
    "    t_array_add.append(taa)"
   ]
  },
  {
   "cell_type": "code",
   "execution_count": 6,
   "metadata": {
    "execution": {
     "iopub.execute_input": "2020-10-28T12:39:02.269955Z",
     "iopub.status.busy": "2020-10-28T12:39:02.269378Z",
     "iopub.status.idle": "2020-10-28T12:39:02.489801Z",
     "shell.execute_reply": "2020-10-28T12:39:02.490621Z"
    }
   },
   "outputs": [
    {
     "data": {
      "image/png": "[encoded data removed]",
      "text/plain": [
       "<Figure size 432x288 with 1 Axes>"
      ]
     },
     "metadata": {
      "needs_background": "light"
     },
     "output_type": "display_data"
    }
   ],
   "source": [
    "fig, ax = plt.subplots(1,1)\n",
    "ax.plot(sizes, t_numeric, 'o-', label='Inserting row-by-row')\n",
    "ax.plot(sizes, t_numeric_add, 'o-', label='Inserting row-by-row: add_result only')\n",
    "ax.plot(sizes, t_array, 'd-', label='Inserting as binary blob')\n",
    "ax.plot(sizes, t_array_add, 'd-', label='Inserting as binary blob: add_result only')\n",
    "ax.legend()\n",
    "ax.set_xlabel('Array length')\n",
    "ax.set_ylabel('Time (s)')\n",
    "fig.tight_layout()"
   ]
  },
  {
   "cell_type": "markdown",
   "metadata": {},
   "source": [
    "As shown in the latter figure, the time to setup and and close the experiment is approximately 0.4 sec. In case of small array sizes, the difference between inserting values of data as arrays and inserting them row-by-row is relatively unimportant. At larger array sizes, i.e. above 10000 points, the cost of writing data as individual datapoints starts to become important.\n"
   ]
  },
  {
   "cell_type": "markdown",
   "metadata": {},
   "source": [
    "### Case2: Long experiment time "
   ]
  },
  {
   "cell_type": "code",
   "execution_count": 7,
   "metadata": {
    "execution": {
     "iopub.execute_input": "2020-10-28T12:39:02.498806Z",
     "iopub.status.busy": "2020-10-28T12:39:02.498155Z",
     "iopub.status.idle": "2020-10-28T12:40:01.958230Z",
     "shell.execute_reply": "2020-10-28T12:40:01.957656Z"
    }
   },
   "outputs": [
    {
     "name": "stdout",
     "output_type": "stream",
     "text": [
      "Starting experimental run with id: 15. \n",
      "Starting experimental run with id: 16. \n",
      "Starting experimental run with id: 17. \n"
     ]
    },
    {
     "name": "stdout",
     "output_type": "stream",
     "text": [
      "Starting experimental run with id: 18. \n",
      "Starting experimental run with id: 19. \n"
     ]
    },
    {
     "name": "stdout",
     "output_type": "stream",
     "text": [
      "Starting experimental run with id: 20. \n"
     ]
    },
    {
     "name": "stdout",
     "output_type": "stream",
     "text": [
      "Starting experimental run with id: 21. \n"
     ]
    },
    {
     "name": "stdout",
     "output_type": "stream",
     "text": [
      "Starting experimental run with id: 22. \n"
     ]
    },
    {
     "name": "stdout",
     "output_type": "stream",
     "text": [
      "Starting experimental run with id: 23. \n"
     ]
    },
    {
     "name": "stdout",
     "output_type": "stream",
     "text": [
      "Starting experimental run with id: 24. \n"
     ]
    },
    {
     "name": "stdout",
     "output_type": "stream",
     "text": [
      "Starting experimental run with id: 25. \n"
     ]
    },
    {
     "name": "stdout",
     "output_type": "stream",
     "text": [
      "Starting experimental run with id: 26. \n"
     ]
    },
    {
     "name": "stdout",
     "output_type": "stream",
     "text": [
      "Starting experimental run with id: 27. \n"
     ]
    },
    {
     "name": "stdout",
     "output_type": "stream",
     "text": [
      "Starting experimental run with id: 28. \n"
     ]
    }
   ],
   "source": [
    "sizes = [1,500,1000,2000,3000,4000,5000]\n",
    "nreps = 100\n",
    "t_numeric = []\n",
    "t_numeric_add = []\n",
    "t_numeric_run_ids = []\n",
    "t_array = []\n",
    "t_array_add = []\n",
    "t_array_run_ids = []\n",
    "for size in sizes:\n",
    "    tn, tna, run_id_n =  insert_data('numeric', size, nreps=nreps)\n",
    "    t_numeric.append(tn)\n",
    "    t_numeric_add.append(tna)\n",
    "    t_numeric_run_ids.append(run_id_n)\n",
    "\n",
    "    ta, taa, run_id_a =  insert_data('array', size, nreps=nreps)\n",
    "    t_array.append(ta)\n",
    "    t_array_add.append(taa)\n",
    "    t_array_run_ids.append(run_id_a)"
   ]
  },
  {
   "cell_type": "code",
   "execution_count": 8,
   "metadata": {
    "execution": {
     "iopub.execute_input": "2020-10-28T12:40:01.980352Z",
     "iopub.status.busy": "2020-10-28T12:40:01.978483Z",
     "iopub.status.idle": "2020-10-28T12:40:02.195943Z",
     "shell.execute_reply": "2020-10-28T12:40:02.195356Z"
    },
    "scrolled": true
   },
   "outputs": [
    {
     "data": {
      "image/png": "[encoded data removed]",
      "text/plain": [
       "<Figure size 432x288 with 1 Axes>"
      ]
     },
     "metadata": {
      "needs_background": "light"
     },
     "output_type": "display_data"
    }
   ],
   "source": [
    "fig, ax = plt.subplots(1,1)\n",
    "ax.plot(sizes, t_numeric, 'o-', label='Inserting row-by-row')\n",
    "ax.plot(sizes, t_numeric_add, 'o-', label='Inserting row-by-row: add_result only')\n",
    "ax.plot(sizes, t_array, 'd-', label='Inserting as binary blob')\n",
    "ax.plot(sizes, t_array_add, 'd-', label='Inserting as binary blob: add_result only')\n",
    "ax.legend()\n",
    "ax.set_xlabel('Array length')\n",
    "ax.set_ylabel('Time (s)')\n",
    "fig.tight_layout()"
   ]
  },
  {
   "cell_type": "markdown",
   "metadata": {},
   "source": [
    "However, as we increase the length of the experiment, as seen here by repeating the insertion 100 times, we see a big difference between inserting values of the data row-by-row and inserting it as a binary blob."
   ]
  },
  {
   "cell_type": "markdown",
   "metadata": {},
   "source": [
    "## Loading the data "
   ]
  },
  {
   "cell_type": "code",
   "execution_count": 9,
   "metadata": {
    "execution": {
     "iopub.execute_input": "2020-10-28T12:40:02.202376Z",
     "iopub.status.busy": "2020-10-28T12:40:02.201706Z",
     "iopub.status.idle": "2020-10-28T12:40:02.204941Z",
     "shell.execute_reply": "2020-10-28T12:40:02.204424Z"
    }
   },
   "outputs": [],
   "source": [
    "from qcodes.dataset.data_set import load_by_id\n",
    "from qcodes.dataset.data_export import get_data_by_id"
   ]
  },
  {
   "cell_type": "markdown",
   "metadata": {},
   "source": [
    "As usual you can load the data by using the ``load_by_id`` function but you will notice that the different storage methods\n",
    "are reflected in shape of the data as it is retrieved. "
   ]
  },
  {
   "cell_type": "code",
   "execution_count": 10,
   "metadata": {
    "execution": {
     "iopub.execute_input": "2020-10-28T12:40:02.211398Z",
     "iopub.status.busy": "2020-10-28T12:40:02.210344Z",
     "iopub.status.idle": "2020-10-28T12:40:02.212218Z",
     "shell.execute_reply": "2020-10-28T12:40:02.212686Z"
    }
   },
   "outputs": [],
   "source": [
    "run_id_n = t_numeric_run_ids[0]\n",
    "run_id_a = t_array_run_ids[0]"
   ]
  },
  {
   "cell_type": "code",
   "execution_count": 11,
   "metadata": {
    "execution": {
     "iopub.execute_input": "2020-10-28T12:40:02.216953Z",
     "iopub.status.busy": "2020-10-28T12:40:02.216200Z",
     "iopub.status.idle": "2020-10-28T12:40:02.226593Z",
     "shell.execute_reply": "2020-10-28T12:40:02.227088Z"
    },
    "scrolled": true
   },
   "outputs": [
    {
     "data": {
      "text/plain": [
       "{'x1': {'x1': array([0.41488807, 0.41488807, 0.67832224, 0.67832224, 0.14719972,\n",
       "         0.14719972, 0.73451364, 0.73451364, 0.2065798 , 0.2065798 ,\n",
       "         0.90748513, 0.90748513, 0.61883705, 0.61883705, 0.33457662,\n",
       "         0.33457662, 0.08662488, 0.08662488, 0.52663996, 0.52663996,\n",
       "         0.06912087, 0.06912087, 0.78364315, 0.78364315, 0.00363317,\n",
       "         0.00363317, 0.27724683, 0.27724683, 0.24973889, 0.24973889,\n",
       "         0.06036898, 0.06036898, 0.42001289, 0.42001289, 0.63916607,\n",
       "         0.63916607, 0.4387859 , 0.4387859 , 0.59495643, 0.59495643,\n",
       "         0.13944362, 0.13944362, 0.9455602 , 0.9455602 , 0.81130124,\n",
       "         0.81130124, 0.91346185, 0.91346185, 0.57404819, 0.57404819,\n",
       "         0.6267819 , 0.6267819 , 0.03182865, 0.03182865, 0.86839731,\n",
       "         0.86839731, 0.229243  , 0.229243  , 0.28918135, 0.28918135,\n",
       "         0.20072372, 0.20072372, 0.21273015, 0.21273015, 0.37350766,\n",
       "         0.37350766, 0.43379005, 0.43379005, 0.45217828, 0.45217828,\n",
       "         0.44648512, 0.44648512, 0.67318818, 0.67318818, 0.05552462,\n",
       "         0.05552462, 0.56325648, 0.56325648, 0.08328056, 0.08328056,\n",
       "         0.97019183, 0.97019183, 0.13833778, 0.13833778, 0.15144311,\n",
       "         0.15144311, 0.97722432, 0.97722432, 0.89156351, 0.89156351,\n",
       "         0.61235917, 0.61235917, 0.78660265, 0.78660265, 0.07719692,\n",
       "         0.07719692, 0.79777957, 0.79777957, 0.2048057 , 0.2048057 ,\n",
       "         0.91250456, 0.91250456, 0.51722397, 0.51722397, 0.4706684 ,\n",
       "         0.4706684 , 0.12496135, 0.12496135, 0.70372593, 0.70372593,\n",
       "         0.38673038, 0.38673038, 0.71038178, 0.71038178, 0.18404341,\n",
       "         0.18404341, 0.03147893, 0.03147893, 0.4555778 , 0.4555778 ,\n",
       "         0.96866898, 0.96866898, 0.25537694, 0.25537694, 0.69284269,\n",
       "         0.69284269, 0.36750496, 0.36750496, 0.92519793, 0.92519793,\n",
       "         0.96952365, 0.96952365, 0.39146857, 0.39146857, 0.05851535,\n",
       "         0.05851535, 0.86388943, 0.86388943, 0.81083796, 0.81083796,\n",
       "         0.06087512, 0.06087512, 0.97129233, 0.97129233, 0.80080414,\n",
       "         0.80080414, 0.66882069, 0.66882069, 0.55998729, 0.55998729,\n",
       "         0.40485167, 0.40485167, 0.62413895, 0.62413895, 0.60146061,\n",
       "         0.60146061, 0.65305592, 0.65305592, 0.39641461, 0.39641461,\n",
       "         0.4164028 , 0.4164028 , 0.95944885, 0.95944885, 0.3973915 ,\n",
       "         0.3973915 , 0.75140512, 0.75140512, 0.66030027, 0.66030027,\n",
       "         0.440837  , 0.440837  , 0.14818586, 0.14818586, 0.7319277 ,\n",
       "         0.7319277 , 0.70369753, 0.70369753, 0.35543211, 0.35543211,\n",
       "         0.61858188, 0.61858188, 0.57834417, 0.57834417, 0.97382756,\n",
       "         0.97382756, 0.28459516, 0.28459516, 0.37839421, 0.37839421,\n",
       "         0.84191347, 0.84191347, 0.42880094, 0.42880094, 0.8321326 ,\n",
       "         0.8321326 , 0.88056569, 0.88056569, 0.84517873, 0.84517873])}}"
      ]
     },
     "execution_count": 1,
     "metadata": {},
     "output_type": "execute_result"
    }
   ],
   "source": [
    "ds = load_by_id(run_id_n)\n",
    "ds.get_parameter_data('x1')"
   ]
  },
  {
   "cell_type": "markdown",
   "metadata": {},
   "source": [
    "And a dataset stored as binary arrays"
   ]
  },
  {
   "cell_type": "code",
   "execution_count": 12,
   "metadata": {
    "execution": {
     "iopub.execute_input": "2020-10-28T12:40:02.230658Z",
     "iopub.status.busy": "2020-10-28T12:40:02.230077Z",
     "iopub.status.idle": "2020-10-28T12:40:02.288775Z",
     "shell.execute_reply": "2020-10-28T12:40:02.289379Z"
    },
    "scrolled": true
   },
   "outputs": [
    {
     "data": {
      "text/plain": [
       "{'x1': {'x1': array([[0.26483602],\n",
       "         [0.26483602],\n",
       "         [0.39882322],\n",
       "         [0.39882322],\n",
       "         [0.58979882],\n",
       "         [0.58979882],\n",
       "         [0.63621067],\n",
       "         [0.63621067],\n",
       "         [0.66200863],\n",
       "         [0.66200863],\n",
       "         [0.67888328],\n",
       "         [0.67888328],\n",
       "         [0.56060482],\n",
       "         [0.56060482],\n",
       "         [0.44202641],\n",
       "         [0.44202641],\n",
       "         [0.24212663],\n",
       "         [0.24212663],\n",
       "         [0.75264918],\n",
       "         [0.75264918],\n",
       "         [0.65549585],\n",
       "         [0.65549585],\n",
       "         [0.75596401],\n",
       "         [0.75596401],\n",
       "         [0.42482494],\n",
       "         [0.42482494],\n",
       "         [0.01398458],\n",
       "         [0.01398458],\n",
       "         [0.10520968],\n",
       "         [0.10520968],\n",
       "         [0.05567661],\n",
       "         [0.05567661],\n",
       "         [0.53798869],\n",
       "         [0.53798869],\n",
       "         [0.31272044],\n",
       "         [0.31272044],\n",
       "         [0.06579446],\n",
       "         [0.06579446],\n",
       "         [0.45564316],\n",
       "         [0.45564316],\n",
       "         [0.56976958],\n",
       "         [0.56976958],\n",
       "         [0.71885885],\n",
       "         [0.71885885],\n",
       "         [0.56948239],\n",
       "         [0.56948239],\n",
       "         [0.81966996],\n",
       "         [0.81966996],\n",
       "         [0.30513055],\n",
       "         [0.30513055],\n",
       "         [0.23679961],\n",
       "         [0.23679961],\n",
       "         [0.02806918],\n",
       "         [0.02806918],\n",
       "         [0.92363805],\n",
       "         [0.92363805],\n",
       "         [0.99260018],\n",
       "         [0.99260018],\n",
       "         [0.08315344],\n",
       "         [0.08315344],\n",
       "         [0.88489257],\n",
       "         [0.88489257],\n",
       "         [0.12069841],\n",
       "         [0.12069841],\n",
       "         [0.1448479 ],\n",
       "         [0.1448479 ],\n",
       "         [0.94197768],\n",
       "         [0.94197768],\n",
       "         [0.08721814],\n",
       "         [0.08721814],\n",
       "         [0.88211207],\n",
       "         [0.88211207],\n",
       "         [0.82449477],\n",
       "         [0.82449477],\n",
       "         [0.03993974],\n",
       "         [0.03993974],\n",
       "         [0.8081964 ],\n",
       "         [0.8081964 ],\n",
       "         [0.70957057],\n",
       "         [0.70957057],\n",
       "         [0.23128854],\n",
       "         [0.23128854],\n",
       "         [0.3803325 ],\n",
       "         [0.3803325 ],\n",
       "         [0.13815197],\n",
       "         [0.13815197],\n",
       "         [0.50427946],\n",
       "         [0.50427946],\n",
       "         [0.04272534],\n",
       "         [0.04272534],\n",
       "         [0.91708286],\n",
       "         [0.91708286],\n",
       "         [0.57373108],\n",
       "         [0.57373108],\n",
       "         [0.05084606],\n",
       "         [0.05084606],\n",
       "         [0.81363026],\n",
       "         [0.81363026],\n",
       "         [0.76526431],\n",
       "         [0.76526431],\n",
       "         [0.72953444],\n",
       "         [0.72953444],\n",
       "         [0.53555941],\n",
       "         [0.53555941],\n",
       "         [0.8044598 ],\n",
       "         [0.8044598 ],\n",
       "         [0.99129027],\n",
       "         [0.99129027],\n",
       "         [0.9852574 ],\n",
       "         [0.9852574 ],\n",
       "         [0.998682  ],\n",
       "         [0.998682  ],\n",
       "         [0.32416673],\n",
       "         [0.32416673],\n",
       "         [0.40079559],\n",
       "         [0.40079559],\n",
       "         [0.49359604],\n",
       "         [0.49359604],\n",
       "         [0.87156479],\n",
       "         [0.87156479],\n",
       "         [0.5614025 ],\n",
       "         [0.5614025 ],\n",
       "         [0.10126355],\n",
       "         [0.10126355],\n",
       "         [0.59060667],\n",
       "         [0.59060667],\n",
       "         [0.14547744],\n",
       "         [0.14547744],\n",
       "         [0.4442942 ],\n",
       "         [0.4442942 ],\n",
       "         [0.99205827],\n",
       "         [0.99205827],\n",
       "         [0.69977149],\n",
       "         [0.69977149],\n",
       "         [0.06184184],\n",
       "         [0.06184184],\n",
       "         [0.44751212],\n",
       "         [0.44751212],\n",
       "         [0.71759027],\n",
       "         [0.71759027],\n",
       "         [0.95495856],\n",
       "         [0.95495856],\n",
       "         [0.80324718],\n",
       "         [0.80324718],\n",
       "         [0.79951633],\n",
       "         [0.79951633],\n",
       "         [0.82038515],\n",
       "         [0.82038515],\n",
       "         [0.90410429],\n",
       "         [0.90410429],\n",
       "         [0.98727725],\n",
       "         [0.98727725],\n",
       "         [0.45013496],\n",
       "         [0.45013496],\n",
       "         [0.59461554],\n",
       "         [0.59461554],\n",
       "         [0.78082233],\n",
       "         [0.78082233],\n",
       "         [0.14583785],\n",
       "         [0.14583785],\n",
       "         [0.92558997],\n",
       "         [0.92558997],\n",
       "         [0.35441258],\n",
       "         [0.35441258],\n",
       "         [0.19189402],\n",
       "         [0.19189402],\n",
       "         [0.72621061],\n",
       "         [0.72621061],\n",
       "         [0.69283503],\n",
       "         [0.69283503],\n",
       "         [0.96452011],\n",
       "         [0.96452011],\n",
       "         [0.05622377],\n",
       "         [0.05622377],\n",
       "         [0.18959381],\n",
       "         [0.18959381],\n",
       "         [0.61094866],\n",
       "         [0.61094866],\n",
       "         [0.94843965],\n",
       "         [0.94843965],\n",
       "         [0.77448677],\n",
       "         [0.77448677],\n",
       "         [0.01276197],\n",
       "         [0.01276197],\n",
       "         [0.11840918],\n",
       "         [0.11840918],\n",
       "         [0.81234526],\n",
       "         [0.81234526],\n",
       "         [0.84305655],\n",
       "         [0.84305655],\n",
       "         [0.87890068],\n",
       "         [0.87890068],\n",
       "         [0.20913334],\n",
       "         [0.20913334],\n",
       "         [0.87577726],\n",
       "         [0.87577726],\n",
       "         [0.79821617],\n",
       "         [0.79821617],\n",
       "         [0.71302553],\n",
       "         [0.71302553]])}}"
      ]
     },
     "execution_count": 1,
     "metadata": {},
     "output_type": "execute_result"
    }
   ],
   "source": [
    "ds = load_by_id(run_id_a)\n",
    "ds.get_parameter_data('x1')"
   ]
  },
  {
   "cell_type": "code",
   "execution_count": null,
   "metadata": {},
   "outputs": [],
   "source": []
  }
 ],
 "metadata": {
  "kernelspec": {
   "display_name": "Python 3",
   "language": "python",
   "name": "python3"
  },
  "language_info": {
   "codemirror_mode": {
    "name": "ipython",
    "version": 3
   },
   "file_extension": ".py",
   "mimetype": "text/x-python",
   "name": "python",
   "nbconvert_exporter": "python",
   "pygments_lexer": "ipython3",
   "version": "3.7.9"
  },
  "nbsphinx": {
   "timeout": 600
  },
  "toc": {
   "base_numbering": 1,
   "nav_menu": {},
   "number_sections": true,
   "sideBar": true,
   "skip_h1_title": false,
   "title_cell": "Table of Contents",
   "title_sidebar": "Contents",
   "toc_cell": false,
   "toc_position": {},
   "toc_section_display": true,
   "toc_window_display": false
  },
  "varInspector": {
   "cols": {
    "lenName": 16,
    "lenType": 16,
    "lenVar": 40
   },
   "kernels_config": {
    "python": {
     "delete_cmd_postfix": "",
     "delete_cmd_prefix": "del ",
     "library": "var_list.py",
     "varRefreshCmd": "print(var_dic_list())"
    },
    "r": {
     "delete_cmd_postfix": ") ",
     "delete_cmd_prefix": "rm(",
     "library": "var_list.r",
     "varRefreshCmd": "cat(var_dic_list()) "
    }
   },
   "types_to_exclude": [
    "module",
    "function",
    "builtin_function_or_method",
    "instance",
    "_Feature"
   ],
   "window_display": false
  }
 },
 "nbformat": 4,
 "nbformat_minor": 2
}
