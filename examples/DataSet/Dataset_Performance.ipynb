{
 "cells": [
  {
   "cell_type": "markdown",
   "metadata": {},
   "source": [
    "# DataSet Performance\n",
    "\n",
    "This notebook shows the trade-off between inserting data into a database row-by-row and as binary blobs. Inserting the data row-by-row means that we have direct access to all the data and may perform queries directly on the values of the data. On the other hand, as we shall see, this is much slower than inserting the data directly as binary blobs."
   ]
  },
  {
   "cell_type": "markdown",
   "metadata": {},
   "source": [
    "First, we choose a new location for the database to ensure that we don't add a bunch of benchmarking data to the default one."
   ]
  },
  {
   "cell_type": "code",
   "execution_count": 1,
   "metadata": {},
   "outputs": [
    {
     "name": "stdout",
     "output_type": "stream",
     "text": [
      "Logging hadn't been started.\n",
      "Activating auto-logging. Current session state plus future input saved.\n",
      "Filename       : /home/vsts/.qcodes/logs/command_history.log\n",
      "Mode           : append\n",
      "Output logging : True\n",
      "Raw input log  : False\n",
      "Timestamping   : True\n",
      "State          : active\n"
     ]
    },
    {
     "name": "stdout",
     "output_type": "stream",
     "text": [
      "Qcodes Logfile : /home/vsts/.qcodes/logs/200518-18719-qcodes.log\n"
     ]
    }
   ],
   "source": [
    "import os\n",
    "cwd = os.getcwd()\n",
    "import qcodes as qc\n",
    "qc.config[\"core\"][\"db_location\"] = os.path.join(cwd, 'testing.db')\n"
   ]
  },
  {
   "cell_type": "code",
   "execution_count": 2,
   "metadata": {},
   "outputs": [],
   "source": [
    "%matplotlib inline\n",
    "import time\n",
    "import matplotlib.pyplot as plt\n",
    "import numpy as np\n",
    "\n",
    "import qcodes as qc\n",
    "from qcodes.instrument.parameter import ManualParameter\n",
    "from qcodes.dataset.experiment_container import (Experiment,\n",
    "                                                 load_last_experiment,\n",
    "                                                 new_experiment)\n",
    "from qcodes.dataset.sqlite.database import initialise_database\n",
    "from qcodes import load_or_create_experiment\n",
    "from qcodes.dataset.measurements import Measurement"
   ]
  },
  {
   "cell_type": "code",
   "execution_count": 3,
   "metadata": {},
   "outputs": [
    {
     "name": "stdout",
     "output_type": "stream",
     "text": [
      "\r",
      "0it [00:00, ?it/s]"
     ]
    },
    {
     "name": "stdout",
     "output_type": "stream",
     "text": [
      "\r",
      "Upgrading database; v0 -> v1: : 0it [00:00, ?it/s]"
     ]
    },
    {
     "name": "stdout",
     "output_type": "stream",
     "text": [
      "\r",
      "Upgrading database; v0 -> v1: : 0it [00:00, ?it/s]"
     ]
    },
    {
     "name": "stdout",
     "output_type": "stream",
     "text": [
      "\n",
      "\r",
      "  0%|          | 0/1 [00:00<?, ?it/s]"
     ]
    },
    {
     "name": "stdout",
     "output_type": "stream",
     "text": [
      "\r",
      "Upgrading database; v1 -> v2:   0%|          | 0/1 [00:00<?, ?it/s]"
     ]
    },
    {
     "name": "stdout",
     "output_type": "stream",
     "text": [
      "\r",
      "Upgrading database; v1 -> v2: 100%|██████████| 1/1 [00:00<00:00, 1045.44it/s]"
     ]
    },
    {
     "name": "stdout",
     "output_type": "stream",
     "text": [
      "\n",
      "\r",
      "0it [00:00, ?it/s]"
     ]
    },
    {
     "name": "stdout",
     "output_type": "stream",
     "text": [
      "\r",
      "Upgrading database; v2 -> v3: : 0it [00:00, ?it/s]"
     ]
    },
    {
     "name": "stdout",
     "output_type": "stream",
     "text": [
      "\r",
      "Upgrading database; v2 -> v3: : 0it [00:00, ?it/s]"
     ]
    },
    {
     "name": "stdout",
     "output_type": "stream",
     "text": [
      "\n",
      "\r",
      "0it [00:00, ?it/s]"
     ]
    },
    {
     "name": "stdout",
     "output_type": "stream",
     "text": [
      "\r",
      "Upgrading database; v3 -> v4: : 0it [00:00, ?it/s]"
     ]
    },
    {
     "name": "stdout",
     "output_type": "stream",
     "text": [
      "\r",
      "Upgrading database; v3 -> v4: : 0it [00:00, ?it/s]"
     ]
    },
    {
     "name": "stdout",
     "output_type": "stream",
     "text": [
      "\n",
      "\r",
      "  0%|          | 0/1 [00:00<?, ?it/s]"
     ]
    },
    {
     "name": "stdout",
     "output_type": "stream",
     "text": [
      "\r",
      "Upgrading database; v4 -> v5:   0%|          | 0/1 [00:00<?, ?it/s]"
     ]
    },
    {
     "name": "stdout",
     "output_type": "stream",
     "text": [
      "\r",
      "Upgrading database; v4 -> v5: 100%|██████████| 1/1 [00:00<00:00, 870.91it/s]"
     ]
    },
    {
     "name": "stdout",
     "output_type": "stream",
     "text": [
      "\n",
      "\r",
      "0it [00:00, ?it/s]"
     ]
    },
    {
     "name": "stdout",
     "output_type": "stream",
     "text": [
      "\r",
      "Upgrading database; v5 -> v6: : 0it [00:00, ?it/s]"
     ]
    },
    {
     "name": "stdout",
     "output_type": "stream",
     "text": [
      "\r",
      "Upgrading database; v5 -> v6: : 0it [00:00, ?it/s]"
     ]
    },
    {
     "name": "stdout",
     "output_type": "stream",
     "text": [
      "\n",
      "\r",
      "  0%|          | 0/1 [00:00<?, ?it/s]"
     ]
    },
    {
     "name": "stdout",
     "output_type": "stream",
     "text": [
      "\r",
      "Upgrading database; v6 -> v7:   0%|          | 0/1 [00:00<?, ?it/s]"
     ]
    },
    {
     "name": "stdout",
     "output_type": "stream",
     "text": [
      "\r",
      "Upgrading database; v6 -> v7: 100%|██████████| 1/1 [00:00<00:00, 495.55it/s]"
     ]
    },
    {
     "name": "stdout",
     "output_type": "stream",
     "text": [
      "\n",
      "\r",
      "  0%|          | 0/1 [00:00<?, ?it/s]"
     ]
    },
    {
     "name": "stdout",
     "output_type": "stream",
     "text": [
      "\r",
      "Upgrading database; v7 -> v8:   0%|          | 0/1 [00:00<?, ?it/s]"
     ]
    },
    {
     "name": "stdout",
     "output_type": "stream",
     "text": [
      "\r",
      "Upgrading database; v7 -> v8: 100%|██████████| 1/1 [00:00<00:00, 959.14it/s]"
     ]
    },
    {
     "name": "stdout",
     "output_type": "stream",
     "text": [
      "\n",
      "\r",
      "  0%|          | 0/1 [00:00<?, ?it/s]"
     ]
    },
    {
     "name": "stdout",
     "output_type": "stream",
     "text": [
      "\r",
      "Upgrading database; v8 -> v9:   0%|          | 0/1 [00:00<?, ?it/s]"
     ]
    },
    {
     "name": "stdout",
     "output_type": "stream",
     "text": [
      "\r",
      "Upgrading database; v8 -> v9: 100%|██████████| 1/1 [00:00<00:00, 990.16it/s]"
     ]
    },
    {
     "name": "stdout",
     "output_type": "stream",
     "text": [
      "\n"
     ]
    }
   ],
   "source": [
    "initialise_database()\n",
    "exp = load_or_create_experiment(experiment_name='tutorial_exp', sample_name=\"no sample\")"
   ]
  },
  {
   "cell_type": "markdown",
   "metadata": {},
   "source": [
    "Here, we define a simple function to benchmark the time it takes to insert n points with either numeric or array data type.\n",
    "We will compare both the time used to call ``add_result`` and the time used for the full measurement."
   ]
  },
  {
   "cell_type": "code",
   "execution_count": 4,
   "metadata": {},
   "outputs": [],
   "source": [
    "def insert_data(paramtype, npoints, nreps=1):\n",
    "\n",
    "    meas = Measurement(exp=exp)\n",
    "\n",
    "    x1 = ManualParameter('x1')\n",
    "    x2 = ManualParameter('x2')\n",
    "    x3 = ManualParameter('x3')\n",
    "    y1 = ManualParameter('y1')\n",
    "    y2 = ManualParameter('y2')\n",
    "\n",
    "    meas.register_parameter(x1, paramtype=paramtype)\n",
    "    meas.register_parameter(x2, paramtype=paramtype)\n",
    "    meas.register_parameter(x3, paramtype=paramtype)\n",
    "    meas.register_parameter(y1, setpoints=[x1, x2, x3],\n",
    "                            paramtype=paramtype)\n",
    "    meas.register_parameter(y2, setpoints=[x1, x2, x3],\n",
    "                            paramtype=paramtype)\n",
    "    start = time.perf_counter()\n",
    "    with meas.run() as datasaver:\n",
    "        start_adding = time.perf_counter()\n",
    "        for i in range(nreps):\n",
    "            datasaver.add_result((x1, np.random.rand(npoints)),\n",
    "                                 (x2, np.random.rand(npoints)),\n",
    "                                 (x3, np.random.rand(npoints)),\n",
    "                                 (y1, np.random.rand(npoints)),\n",
    "                                 (y2, np.random.rand(npoints)))\n",
    "        stop_adding = time.perf_counter()\n",
    "        run_id = datasaver.run_id\n",
    "    stop = time.perf_counter()\n",
    "    tot_time = stop - start\n",
    "    add_time = stop_adding - start_adding\n",
    "    return tot_time, add_time, run_id"
   ]
  },
  {
   "cell_type": "markdown",
   "metadata": {},
   "source": [
    "## Comparison between numeric/array data and binary blob"
   ]
  },
  {
   "cell_type": "markdown",
   "metadata": {},
   "source": [
    "### Case1: Short experiment time"
   ]
  },
  {
   "cell_type": "code",
   "execution_count": 5,
   "metadata": {},
   "outputs": [
    {
     "name": "stdout",
     "output_type": "stream",
     "text": [
      "Starting experimental run with id: 1. \n",
      "Starting experimental run with id: 2. \n",
      "Starting experimental run with id: 3. \n",
      "Starting experimental run with id: 4. \n"
     ]
    },
    {
     "name": "stdout",
     "output_type": "stream",
     "text": [
      "Starting experimental run with id: 5. \n"
     ]
    },
    {
     "name": "stdout",
     "output_type": "stream",
     "text": [
      "Starting experimental run with id: 6. \n",
      "Starting experimental run with id: 7. \n"
     ]
    },
    {
     "name": "stdout",
     "output_type": "stream",
     "text": [
      "Starting experimental run with id: 8. \n"
     ]
    },
    {
     "name": "stdout",
     "output_type": "stream",
     "text": [
      "Starting experimental run with id: 9. \n"
     ]
    },
    {
     "name": "stdout",
     "output_type": "stream",
     "text": [
      "Starting experimental run with id: 10. \n",
      "Starting experimental run with id: 11. \n"
     ]
    },
    {
     "name": "stdout",
     "output_type": "stream",
     "text": [
      "Starting experimental run with id: 12. \n"
     ]
    },
    {
     "name": "stdout",
     "output_type": "stream",
     "text": [
      "Starting experimental run with id: 13. \n"
     ]
    },
    {
     "name": "stdout",
     "output_type": "stream",
     "text": [
      "Starting experimental run with id: 14. \n"
     ]
    }
   ],
   "source": [
    "sizes = [1,500,1000,2000,3000,4000,5000]\n",
    "t_numeric = []\n",
    "t_numeric_add = []\n",
    "t_array = []\n",
    "t_array_add = []\n",
    "for size in sizes:\n",
    "    tn, tna, run_id_n =  insert_data('numeric', size)\n",
    "    t_numeric.append(tn)\n",
    "    t_numeric_add.append(tna)\n",
    "\n",
    "    ta, taa, run_id_a =  insert_data('array', size)\n",
    "    t_array.append(ta)\n",
    "    t_array_add.append(taa)"
   ]
  },
  {
   "cell_type": "code",
   "execution_count": 6,
   "metadata": {},
   "outputs": [
    {
     "data": {
      "image/png": "[encoded data removed]",
      "text/plain": [
       "<Figure size 432x288 with 1 Axes>"
      ]
     },
     "metadata": {
      "needs_background": "light"
     },
     "output_type": "display_data"
    }
   ],
   "source": [
    "fig, ax = plt.subplots(1,1)\n",
    "ax.plot(sizes, t_numeric, 'o-', label='Inserting row-by-row')\n",
    "ax.plot(sizes, t_numeric_add, 'o-', label='Inserting row-by-row: add_result only')\n",
    "ax.plot(sizes, t_array, 'd-', label='Inserting as binary blob')\n",
    "ax.plot(sizes, t_array_add, 'd-', label='Inserting as binary blob: add_result only')\n",
    "ax.legend()\n",
    "ax.set_xlabel('Array length')\n",
    "ax.set_ylabel('Time (s)')\n",
    "fig.tight_layout()"
   ]
  },
  {
   "cell_type": "markdown",
   "metadata": {},
   "source": [
    "As shown in the latter figure, the time to setup and and close the experiment is approximately 0.4 sec. In case of small array sizes, the difference between inserting values of data as arrays and inserting them row-by-row is relatively unimportant. At larger array sizes, i.e. above 10000 points, the cost of writing data as individual datapoints starts to become important.\n"
   ]
  },
  {
   "cell_type": "markdown",
   "metadata": {},
   "source": [
    "### Case2: Long experiment time "
   ]
  },
  {
   "cell_type": "code",
   "execution_count": 7,
   "metadata": {},
   "outputs": [
    {
     "name": "stdout",
     "output_type": "stream",
     "text": [
      "Starting experimental run with id: 15. \n",
      "Starting experimental run with id: 16. \n",
      "Starting experimental run with id: 17. \n"
     ]
    },
    {
     "name": "stdout",
     "output_type": "stream",
     "text": [
      "Starting experimental run with id: 18. \n",
      "Starting experimental run with id: 19. \n"
     ]
    },
    {
     "name": "stdout",
     "output_type": "stream",
     "text": [
      "Starting experimental run with id: 20. \n"
     ]
    },
    {
     "name": "stdout",
     "output_type": "stream",
     "text": [
      "Starting experimental run with id: 21. \n"
     ]
    },
    {
     "name": "stdout",
     "output_type": "stream",
     "text": [
      "Starting experimental run with id: 22. \n"
     ]
    },
    {
     "name": "stdout",
     "output_type": "stream",
     "text": [
      "Starting experimental run with id: 23. \n"
     ]
    },
    {
     "name": "stdout",
     "output_type": "stream",
     "text": [
      "Starting experimental run with id: 24. \n"
     ]
    },
    {
     "name": "stdout",
     "output_type": "stream",
     "text": [
      "Starting experimental run with id: 25. \n"
     ]
    },
    {
     "name": "stdout",
     "output_type": "stream",
     "text": [
      "Starting experimental run with id: 26. \n"
     ]
    },
    {
     "name": "stdout",
     "output_type": "stream",
     "text": [
      "Starting experimental run with id: 27. \n"
     ]
    },
    {
     "name": "stdout",
     "output_type": "stream",
     "text": [
      "Starting experimental run with id: 28. \n"
     ]
    }
   ],
   "source": [
    "sizes = [1,500,1000,2000,3000,4000,5000]\n",
    "nreps = 100\n",
    "t_numeric = []\n",
    "t_numeric_add = []\n",
    "t_numeric_run_ids = []\n",
    "t_array = []\n",
    "t_array_add = []\n",
    "t_array_run_ids = []\n",
    "for size in sizes:\n",
    "    tn, tna, run_id_n =  insert_data('numeric', size, nreps=nreps)\n",
    "    t_numeric.append(tn)\n",
    "    t_numeric_add.append(tna)\n",
    "    t_numeric_run_ids.append(run_id_n)\n",
    "\n",
    "    ta, taa, run_id_a =  insert_data('array', size, nreps=nreps)\n",
    "    t_array.append(ta)\n",
    "    t_array_add.append(taa)\n",
    "    t_array_run_ids.append(run_id_a)"
   ]
  },
  {
   "cell_type": "code",
   "execution_count": 8,
   "metadata": {
    "scrolled": true
   },
   "outputs": [
    {
     "data": {
      "image/png": "[encoded data removed]",
      "text/plain": [
       "<Figure size 432x288 with 1 Axes>"
      ]
     },
     "metadata": {
      "needs_background": "light"
     },
     "output_type": "display_data"
    }
   ],
   "source": [
    "fig, ax = plt.subplots(1,1)\n",
    "ax.plot(sizes, t_numeric, 'o-', label='Inserting row-by-row')\n",
    "ax.plot(sizes, t_numeric_add, 'o-', label='Inserting row-by-row: add_result only')\n",
    "ax.plot(sizes, t_array, 'd-', label='Inserting as binary blob')\n",
    "ax.plot(sizes, t_array_add, 'd-', label='Inserting as binary blob: add_result only')\n",
    "ax.legend()\n",
    "ax.set_xlabel('Array length')\n",
    "ax.set_ylabel('Time (s)')\n",
    "fig.tight_layout()"
   ]
  },
  {
   "cell_type": "markdown",
   "metadata": {},
   "source": [
    "However, as we increase the length of the experiment, as seen here by repeating the insertion 100 times, we see a big difference between inserting values of the data row-by-row and inserting it as a binary blob."
   ]
  },
  {
   "cell_type": "markdown",
   "metadata": {},
   "source": [
    "## Loading the data "
   ]
  },
  {
   "cell_type": "code",
   "execution_count": 9,
   "metadata": {},
   "outputs": [],
   "source": [
    "from qcodes.dataset.data_set import load_by_id\n",
    "from qcodes.dataset.data_export import get_data_by_id"
   ]
  },
  {
   "cell_type": "markdown",
   "metadata": {},
   "source": [
    "As usual you can load the data by using the ``load_by_id`` function but you will notice that the different storage methods\n",
    "are reflected in shape of the data as it is retrieved. "
   ]
  },
  {
   "cell_type": "code",
   "execution_count": 10,
   "metadata": {},
   "outputs": [],
   "source": [
    "run_id_n = t_numeric_run_ids[0]\n",
    "run_id_a = t_array_run_ids[0]"
   ]
  },
  {
   "cell_type": "code",
   "execution_count": 11,
   "metadata": {
    "scrolled": true
   },
   "outputs": [
    {
     "data": {
      "text/plain": [
       "{'x1': {'x1': array([0.43741719, 0.43741719, 0.36269915, 0.36269915, 0.53000102,\n",
       "         0.53000102, 0.72308664, 0.72308664, 0.268126  , 0.268126  ,\n",
       "         0.55329558, 0.55329558, 0.94857829, 0.94857829, 0.56057624,\n",
       "         0.56057624, 0.95860611, 0.95860611, 0.7075165 , 0.7075165 ,\n",
       "         0.79240647, 0.79240647, 0.66335181, 0.66335181, 0.07422772,\n",
       "         0.07422772, 0.80076556, 0.80076556, 0.79840456, 0.79840456,\n",
       "         0.24586713, 0.24586713, 0.47529287, 0.47529287, 0.55494751,\n",
       "         0.55494751, 0.93693288, 0.93693288, 0.5864393 , 0.5864393 ,\n",
       "         0.03138384, 0.03138384, 0.42389669, 0.42389669, 0.68398634,\n",
       "         0.68398634, 0.23364204, 0.23364204, 0.21546449, 0.21546449,\n",
       "         0.22674554, 0.22674554, 0.40264111, 0.40264111, 0.20669522,\n",
       "         0.20669522, 0.55130706, 0.55130706, 0.4704706 , 0.4704706 ,\n",
       "         0.7416992 , 0.7416992 , 0.70257948, 0.70257948, 0.81838227,\n",
       "         0.81838227, 0.96372581, 0.96372581, 0.08636822, 0.08636822,\n",
       "         0.52889098, 0.52889098, 0.81498803, 0.81498803, 0.53658856,\n",
       "         0.53658856, 0.64194042, 0.64194042, 0.94349092, 0.94349092,\n",
       "         0.03347831, 0.03347831, 0.96430719, 0.96430719, 0.08984491,\n",
       "         0.08984491, 0.72931975, 0.72931975, 0.48189314, 0.48189314,\n",
       "         0.50347344, 0.50347344, 0.67231548, 0.67231548, 0.96272332,\n",
       "         0.96272332, 0.63293102, 0.63293102, 0.25018701, 0.25018701,\n",
       "         0.76982504, 0.76982504, 0.80876402, 0.80876402, 0.69445827,\n",
       "         0.69445827, 0.0795197 , 0.0795197 , 0.84530114, 0.84530114,\n",
       "         0.60410278, 0.60410278, 0.70439907, 0.70439907, 0.53986723,\n",
       "         0.53986723, 0.20553128, 0.20553128, 0.09050006, 0.09050006,\n",
       "         0.14935227, 0.14935227, 0.95318515, 0.95318515, 0.85417522,\n",
       "         0.85417522, 0.16644411, 0.16644411, 0.81656363, 0.81656363,\n",
       "         0.8257196 , 0.8257196 , 0.99807521, 0.99807521, 0.93049784,\n",
       "         0.93049784, 0.83511191, 0.83511191, 0.40319907, 0.40319907,\n",
       "         0.85734975, 0.85734975, 0.33306822, 0.33306822, 0.49983346,\n",
       "         0.49983346, 0.44440836, 0.44440836, 0.81448863, 0.81448863,\n",
       "         0.21453328, 0.21453328, 0.06669603, 0.06669603, 0.94163701,\n",
       "         0.94163701, 0.76559162, 0.76559162, 0.84723151, 0.84723151,\n",
       "         0.40287072, 0.40287072, 0.53904435, 0.53904435, 0.05976205,\n",
       "         0.05976205, 0.0189486 , 0.0189486 , 0.89893003, 0.89893003,\n",
       "         0.62818633, 0.62818633, 0.02076173, 0.02076173, 0.462041  ,\n",
       "         0.462041  , 0.56232599, 0.56232599, 0.74001504, 0.74001504,\n",
       "         0.14674138, 0.14674138, 0.67582239, 0.67582239, 0.21296774,\n",
       "         0.21296774, 0.67020052, 0.67020052, 0.31511954, 0.31511954,\n",
       "         0.57408689, 0.57408689, 0.15963536, 0.15963536, 0.82373795,\n",
       "         0.82373795, 0.19109474, 0.19109474, 0.52671049, 0.52671049])}}"
      ]
     },
     "execution_count": 11,
     "metadata": {},
     "output_type": "execute_result"
    }
   ],
   "source": [
    "ds = load_by_id(run_id_n)\n",
    "ds.get_parameter_data('x1')"
   ]
  },
  {
   "cell_type": "markdown",
   "metadata": {},
   "source": [
    "And a dataset stored as binary arrays"
   ]
  },
  {
   "cell_type": "code",
   "execution_count": 12,
   "metadata": {
    "scrolled": true
   },
   "outputs": [
    {
     "data": {
      "text/plain": [
       "{'x1': {'x1': array([[0.24454427],\n",
       "         [0.24454427],\n",
       "         [0.20219727],\n",
       "         [0.20219727],\n",
       "         [0.93030866],\n",
       "         [0.93030866],\n",
       "         [0.0954903 ],\n",
       "         [0.0954903 ],\n",
       "         [0.43286025],\n",
       "         [0.43286025],\n",
       "         [0.74220206],\n",
       "         [0.74220206],\n",
       "         [0.98846763],\n",
       "         [0.98846763],\n",
       "         [0.41492639],\n",
       "         [0.41492639],\n",
       "         [0.54854235],\n",
       "         [0.54854235],\n",
       "         [0.5005992 ],\n",
       "         [0.5005992 ],\n",
       "         [0.34777339],\n",
       "         [0.34777339],\n",
       "         [0.38378637],\n",
       "         [0.38378637],\n",
       "         [0.79797924],\n",
       "         [0.79797924],\n",
       "         [0.06913243],\n",
       "         [0.06913243],\n",
       "         [0.60752228],\n",
       "         [0.60752228],\n",
       "         [0.3233069 ],\n",
       "         [0.3233069 ],\n",
       "         [0.8019894 ],\n",
       "         [0.8019894 ],\n",
       "         [0.71993152],\n",
       "         [0.71993152],\n",
       "         [0.71846032],\n",
       "         [0.71846032],\n",
       "         [0.22668301],\n",
       "         [0.22668301],\n",
       "         [0.02056872],\n",
       "         [0.02056872],\n",
       "         [0.90662877],\n",
       "         [0.90662877],\n",
       "         [0.85030843],\n",
       "         [0.85030843],\n",
       "         [0.92651392],\n",
       "         [0.92651392],\n",
       "         [0.6510287 ],\n",
       "         [0.6510287 ],\n",
       "         [0.50776716],\n",
       "         [0.50776716],\n",
       "         [0.85339114],\n",
       "         [0.85339114],\n",
       "         [0.21092498],\n",
       "         [0.21092498],\n",
       "         [0.38887701],\n",
       "         [0.38887701],\n",
       "         [0.29047777],\n",
       "         [0.29047777],\n",
       "         [0.98124801],\n",
       "         [0.98124801],\n",
       "         [0.58250513],\n",
       "         [0.58250513],\n",
       "         [0.4178964 ],\n",
       "         [0.4178964 ],\n",
       "         [0.36861312],\n",
       "         [0.36861312],\n",
       "         [0.96042146],\n",
       "         [0.96042146],\n",
       "         [0.19756252],\n",
       "         [0.19756252],\n",
       "         [0.31728017],\n",
       "         [0.31728017],\n",
       "         [0.11150813],\n",
       "         [0.11150813],\n",
       "         [0.11920804],\n",
       "         [0.11920804],\n",
       "         [0.85629484],\n",
       "         [0.85629484],\n",
       "         [0.15964975],\n",
       "         [0.15964975],\n",
       "         [0.74468039],\n",
       "         [0.74468039],\n",
       "         [0.97246545],\n",
       "         [0.97246545],\n",
       "         [0.60088847],\n",
       "         [0.60088847],\n",
       "         [0.03982158],\n",
       "         [0.03982158],\n",
       "         [0.5171845 ],\n",
       "         [0.5171845 ],\n",
       "         [0.40217613],\n",
       "         [0.40217613],\n",
       "         [0.55839084],\n",
       "         [0.55839084],\n",
       "         [0.30848126],\n",
       "         [0.30848126],\n",
       "         [0.63505856],\n",
       "         [0.63505856],\n",
       "         [0.56869862],\n",
       "         [0.56869862],\n",
       "         [0.2520592 ],\n",
       "         [0.2520592 ],\n",
       "         [0.95372825],\n",
       "         [0.95372825],\n",
       "         [0.64190298],\n",
       "         [0.64190298],\n",
       "         [0.66133976],\n",
       "         [0.66133976],\n",
       "         [0.26954396],\n",
       "         [0.26954396],\n",
       "         [0.5532803 ],\n",
       "         [0.5532803 ],\n",
       "         [0.30617666],\n",
       "         [0.30617666],\n",
       "         [0.01422875],\n",
       "         [0.01422875],\n",
       "         [0.30295335],\n",
       "         [0.30295335],\n",
       "         [0.06089104],\n",
       "         [0.06089104],\n",
       "         [0.59404196],\n",
       "         [0.59404196],\n",
       "         [0.02344371],\n",
       "         [0.02344371],\n",
       "         [0.325298  ],\n",
       "         [0.325298  ],\n",
       "         [0.97859623],\n",
       "         [0.97859623],\n",
       "         [0.83983349],\n",
       "         [0.83983349],\n",
       "         [0.17613756],\n",
       "         [0.17613756],\n",
       "         [0.82361951],\n",
       "         [0.82361951],\n",
       "         [0.72377055],\n",
       "         [0.72377055],\n",
       "         [0.15688872],\n",
       "         [0.15688872],\n",
       "         [0.15162259],\n",
       "         [0.15162259],\n",
       "         [0.59005588],\n",
       "         [0.59005588],\n",
       "         [0.6553656 ],\n",
       "         [0.6553656 ],\n",
       "         [0.0769578 ],\n",
       "         [0.0769578 ],\n",
       "         [0.06541009],\n",
       "         [0.06541009],\n",
       "         [0.79707658],\n",
       "         [0.79707658],\n",
       "         [0.68667226],\n",
       "         [0.68667226],\n",
       "         [0.18054298],\n",
       "         [0.18054298],\n",
       "         [0.6690041 ],\n",
       "         [0.6690041 ],\n",
       "         [0.19045919],\n",
       "         [0.19045919],\n",
       "         [0.84629268],\n",
       "         [0.84629268],\n",
       "         [0.55122526],\n",
       "         [0.55122526],\n",
       "         [0.92377672],\n",
       "         [0.92377672],\n",
       "         [0.22367789],\n",
       "         [0.22367789],\n",
       "         [0.21023513],\n",
       "         [0.21023513],\n",
       "         [0.78629024],\n",
       "         [0.78629024],\n",
       "         [0.07624532],\n",
       "         [0.07624532],\n",
       "         [0.13045588],\n",
       "         [0.13045588],\n",
       "         [0.69953854],\n",
       "         [0.69953854],\n",
       "         [0.67385806],\n",
       "         [0.67385806],\n",
       "         [0.18670718],\n",
       "         [0.18670718],\n",
       "         [0.21843631],\n",
       "         [0.21843631],\n",
       "         [0.79084948],\n",
       "         [0.79084948],\n",
       "         [0.51603189],\n",
       "         [0.51603189],\n",
       "         [0.91386872],\n",
       "         [0.91386872],\n",
       "         [0.77101749],\n",
       "         [0.77101749],\n",
       "         [0.00841066],\n",
       "         [0.00841066],\n",
       "         [0.20460725],\n",
       "         [0.20460725],\n",
       "         [0.62522807],\n",
       "         [0.62522807],\n",
       "         [0.48797973],\n",
       "         [0.48797973]])}}"
      ]
     },
     "execution_count": 12,
     "metadata": {},
     "output_type": "execute_result"
    }
   ],
   "source": [
    "ds = load_by_id(run_id_a)\n",
    "ds.get_parameter_data('x1')"
   ]
  },
  {
   "cell_type": "code",
   "execution_count": null,
   "metadata": {},
   "outputs": [],
   "source": []
  }
 ],
 "metadata": {
  "kernelspec": {
   "display_name": "Python 3",
   "language": "python",
   "name": "python3"
  },
  "language_info": {
   "codemirror_mode": {
    "name": "ipython",
    "version": 3
   },
   "file_extension": ".py",
   "mimetype": "text/x-python",
   "name": "python",
   "nbconvert_exporter": "python",
   "pygments_lexer": "ipython3",
   "version": "3.7.7"
  },
  "nbsphinx": {
   "timeout": 600
  },
  "toc": {
   "base_numbering": 1,
   "nav_menu": {},
   "number_sections": true,
   "sideBar": true,
   "skip_h1_title": false,
   "title_cell": "Table of Contents",
   "title_sidebar": "Contents",
   "toc_cell": false,
   "toc_position": {},
   "toc_section_display": true,
   "toc_window_display": false
  },
  "varInspector": {
   "cols": {
    "lenName": 16,
    "lenType": 16,
    "lenVar": 40
   },
   "kernels_config": {
    "python": {
     "delete_cmd_postfix": "",
     "delete_cmd_prefix": "del ",
     "library": "var_list.py",
     "varRefreshCmd": "print(var_dic_list())"
    },
    "r": {
     "delete_cmd_postfix": ") ",
     "delete_cmd_prefix": "rm(",
     "library": "var_list.r",
     "varRefreshCmd": "cat(var_dic_list()) "
    }
   },
   "types_to_exclude": [
    "module",
    "function",
    "builtin_function_or_method",
    "instance",
    "_Feature"
   ],
   "window_display": false
  }
 },
 "nbformat": 4,
 "nbformat_minor": 2
}
