{
 "cells": [
  {
   "cell_type": "markdown",
   "metadata": {},
   "source": [
    "# DataSet Performance\n",
    "\n",
    "This notebook shows the trade-off between inserting data into a database row-by-row and as binary blobs. Inserting the data row-by-row means that we have direct access to all the data and may perform queries directly on the values of the data. On the other hand, as we shall see, this is much slower than inserting the data directly as binary blobs."
   ]
  },
  {
   "cell_type": "markdown",
   "metadata": {},
   "source": [
    "First, we choose a new location for the database to ensure that we don't add a bunch of benchmarking data to the default one."
   ]
  },
  {
   "cell_type": "code",
   "execution_count": 1,
   "metadata": {
    "execution": {
     "iopub.execute_input": "2021-04-08T06:18:01.241142Z",
     "iopub.status.busy": "2021-04-08T06:18:01.240585Z",
     "iopub.status.idle": "2021-04-08T06:18:02.346721Z",
     "shell.execute_reply": "2021-04-08T06:18:02.345954Z"
    }
   },
   "outputs": [
    {
     "name": "stdout",
     "output_type": "stream",
     "text": [
      "Logging hadn't been started.\n",
      "Activating auto-logging. Current session state plus future input saved.\n",
      "Filename       : /home/runner/.qcodes/logs/command_history.log\n",
      "Mode           : append\n",
      "Output logging : True\n",
      "Raw input log  : False\n",
      "Timestamping   : True\n",
      "State          : active\n"
     ]
    },
    {
     "name": "stdout",
     "output_type": "stream",
     "text": [
      "Qcodes Logfile : /home/runner/.qcodes/logs/210408-4950-qcodes.log\n"
     ]
    }
   ],
   "source": [
    "import os\n",
    "cwd = os.getcwd()\n",
    "import qcodes as qc\n",
    "qc.config[\"core\"][\"db_location\"] = os.path.join(cwd, 'testing.db')\n"
   ]
  },
  {
   "cell_type": "code",
   "execution_count": 2,
   "metadata": {
    "execution": {
     "iopub.execute_input": "2021-04-08T06:18:02.355288Z",
     "iopub.status.busy": "2021-04-08T06:18:02.352930Z",
     "iopub.status.idle": "2021-04-08T06:18:02.616742Z",
     "shell.execute_reply": "2021-04-08T06:18:02.617271Z"
    }
   },
   "outputs": [],
   "source": [
    "%matplotlib inline\n",
    "import time\n",
    "import matplotlib.pyplot as plt\n",
    "import numpy as np\n",
    "\n",
    "import qcodes as qc\n",
    "from qcodes.instrument.parameter import ManualParameter\n",
    "from qcodes.dataset.experiment_container import (Experiment,\n",
    "                                                 load_last_experiment,\n",
    "                                                 new_experiment)\n",
    "from qcodes.dataset.sqlite.database import initialise_database\n",
    "from qcodes import load_or_create_experiment\n",
    "from qcodes.dataset.measurements import Measurement"
   ]
  },
  {
   "cell_type": "code",
   "execution_count": 3,
   "metadata": {
    "execution": {
     "iopub.execute_input": "2021-04-08T06:18:02.621372Z",
     "iopub.status.busy": "2021-04-08T06:18:02.620777Z",
     "iopub.status.idle": "2021-04-08T06:18:02.708963Z",
     "shell.execute_reply": "2021-04-08T06:18:02.709454Z"
    }
   },
   "outputs": [
    {
     "name": "stdout",
     "output_type": "stream",
     "text": [
      "\r",
      "0it [00:00, ?it/s]"
     ]
    },
    {
     "name": "stdout",
     "output_type": "stream",
     "text": [
      "\r",
      "Upgrading database; v0 -> v1: : 0it [00:00, ?it/s]"
     ]
    },
    {
     "name": "stdout",
     "output_type": "stream",
     "text": [
      "\r",
      "Upgrading database; v0 -> v1: : 0it [00:00, ?it/s]"
     ]
    },
    {
     "name": "stdout",
     "output_type": "stream",
     "text": [
      "\n",
      "\r",
      "  0%|          | 0/1 [00:00<?, ?it/s]"
     ]
    },
    {
     "name": "stdout",
     "output_type": "stream",
     "text": [
      "\r",
      "Upgrading database; v1 -> v2:   0%|          | 0/1 [00:00<?, ?it/s]"
     ]
    },
    {
     "name": "stdout",
     "output_type": "stream",
     "text": [
      "\r",
      "Upgrading database; v1 -> v2: 100%|██████████| 1/1 [00:00<00:00, 402.41it/s]"
     ]
    },
    {
     "name": "stdout",
     "output_type": "stream",
     "text": [
      "\n",
      "\r",
      "0it [00:00, ?it/s]"
     ]
    },
    {
     "name": "stdout",
     "output_type": "stream",
     "text": [
      "\r",
      "Upgrading database; v2 -> v3: : 0it [00:00, ?it/s]"
     ]
    },
    {
     "name": "stdout",
     "output_type": "stream",
     "text": [
      "\r",
      "Upgrading database; v2 -> v3: : 0it [00:00, ?it/s]"
     ]
    },
    {
     "name": "stdout",
     "output_type": "stream",
     "text": [
      "\n",
      "\r",
      "0it [00:00, ?it/s]"
     ]
    },
    {
     "name": "stdout",
     "output_type": "stream",
     "text": [
      "\r",
      "Upgrading database; v3 -> v4: : 0it [00:00, ?it/s]"
     ]
    },
    {
     "name": "stdout",
     "output_type": "stream",
     "text": [
      "\r",
      "Upgrading database; v3 -> v4: : 0it [00:00, ?it/s]"
     ]
    },
    {
     "name": "stdout",
     "output_type": "stream",
     "text": [
      "\n",
      "\r",
      "  0%|          | 0/1 [00:00<?, ?it/s]"
     ]
    },
    {
     "name": "stdout",
     "output_type": "stream",
     "text": [
      "\r",
      "Upgrading database; v4 -> v5:   0%|          | 0/1 [00:00<?, ?it/s]"
     ]
    },
    {
     "name": "stdout",
     "output_type": "stream",
     "text": [
      "\r",
      "Upgrading database; v4 -> v5: 100%|██████████| 1/1 [00:00<00:00, 331.38it/s]"
     ]
    },
    {
     "name": "stdout",
     "output_type": "stream",
     "text": [
      "\n",
      "\r",
      "0it [00:00, ?it/s]"
     ]
    },
    {
     "name": "stdout",
     "output_type": "stream",
     "text": [
      "\r",
      "Upgrading database; v5 -> v6: : 0it [00:00, ?it/s]"
     ]
    },
    {
     "name": "stdout",
     "output_type": "stream",
     "text": [
      "\r",
      "Upgrading database; v5 -> v6: : 0it [00:00, ?it/s]"
     ]
    },
    {
     "name": "stdout",
     "output_type": "stream",
     "text": [
      "\n",
      "\r",
      "  0%|          | 0/1 [00:00<?, ?it/s]"
     ]
    },
    {
     "name": "stdout",
     "output_type": "stream",
     "text": [
      "\r",
      "Upgrading database; v6 -> v7:   0%|          | 0/1 [00:00<?, ?it/s]"
     ]
    },
    {
     "name": "stdout",
     "output_type": "stream",
     "text": [
      "\r",
      "Upgrading database; v6 -> v7: 100%|██████████| 1/1 [00:00<00:00, 93.26it/s]"
     ]
    },
    {
     "name": "stdout",
     "output_type": "stream",
     "text": [
      "\n",
      "\r",
      "  0%|          | 0/1 [00:00<?, ?it/s]"
     ]
    },
    {
     "name": "stdout",
     "output_type": "stream",
     "text": [
      "\r",
      "Upgrading database; v7 -> v8:   0%|          | 0/1 [00:00<?, ?it/s]"
     ]
    },
    {
     "name": "stdout",
     "output_type": "stream",
     "text": [
      "\r",
      "Upgrading database; v7 -> v8: 100%|██████████| 1/1 [00:00<00:00, 1038.97it/s]"
     ]
    },
    {
     "name": "stdout",
     "output_type": "stream",
     "text": [
      "\n",
      "\r",
      "  0%|          | 0/1 [00:00<?, ?it/s]"
     ]
    },
    {
     "name": "stdout",
     "output_type": "stream",
     "text": [
      "\r",
      "Upgrading database; v8 -> v9:   0%|          | 0/1 [00:00<?, ?it/s]"
     ]
    },
    {
     "name": "stdout",
     "output_type": "stream",
     "text": [
      "\r",
      "Upgrading database; v8 -> v9: 100%|██████████| 1/1 [00:00<00:00, 466.66it/s]"
     ]
    },
    {
     "name": "stdout",
     "output_type": "stream",
     "text": [
      "\n"
     ]
    }
   ],
   "source": [
    "initialise_database()\n",
    "exp = load_or_create_experiment(experiment_name='tutorial_exp', sample_name=\"no sample\")"
   ]
  },
  {
   "cell_type": "markdown",
   "metadata": {},
   "source": [
    "Here, we define a simple function to benchmark the time it takes to insert n points with either numeric or array data type.\n",
    "We will compare both the time used to call ``add_result`` and the time used for the full measurement."
   ]
  },
  {
   "cell_type": "code",
   "execution_count": 4,
   "metadata": {
    "execution": {
     "iopub.execute_input": "2021-04-08T06:18:02.719039Z",
     "iopub.status.busy": "2021-04-08T06:18:02.718448Z",
     "iopub.status.idle": "2021-04-08T06:18:02.722316Z",
     "shell.execute_reply": "2021-04-08T06:18:02.721765Z"
    }
   },
   "outputs": [],
   "source": [
    "def insert_data(paramtype, npoints, nreps=1):\n",
    "\n",
    "    meas = Measurement(exp=exp)\n",
    "\n",
    "    x1 = ManualParameter('x1')\n",
    "    x2 = ManualParameter('x2')\n",
    "    x3 = ManualParameter('x3')\n",
    "    y1 = ManualParameter('y1')\n",
    "    y2 = ManualParameter('y2')\n",
    "\n",
    "    meas.register_parameter(x1, paramtype=paramtype)\n",
    "    meas.register_parameter(x2, paramtype=paramtype)\n",
    "    meas.register_parameter(x3, paramtype=paramtype)\n",
    "    meas.register_parameter(y1, setpoints=[x1, x2, x3],\n",
    "                            paramtype=paramtype)\n",
    "    meas.register_parameter(y2, setpoints=[x1, x2, x3],\n",
    "                            paramtype=paramtype)\n",
    "    start = time.perf_counter()\n",
    "    with meas.run() as datasaver:\n",
    "        start_adding = time.perf_counter()\n",
    "        for i in range(nreps):\n",
    "            datasaver.add_result((x1, np.random.rand(npoints)),\n",
    "                                 (x2, np.random.rand(npoints)),\n",
    "                                 (x3, np.random.rand(npoints)),\n",
    "                                 (y1, np.random.rand(npoints)),\n",
    "                                 (y2, np.random.rand(npoints)))\n",
    "        stop_adding = time.perf_counter()\n",
    "        run_id = datasaver.run_id\n",
    "    stop = time.perf_counter()\n",
    "    tot_time = stop - start\n",
    "    add_time = stop_adding - start_adding\n",
    "    return tot_time, add_time, run_id"
   ]
  },
  {
   "cell_type": "markdown",
   "metadata": {},
   "source": [
    "## Comparison between numeric/array data and binary blob"
   ]
  },
  {
   "cell_type": "markdown",
   "metadata": {},
   "source": [
    "### Case1: Short experiment time"
   ]
  },
  {
   "cell_type": "code",
   "execution_count": 5,
   "metadata": {
    "execution": {
     "iopub.execute_input": "2021-04-08T06:18:02.730413Z",
     "iopub.status.busy": "2021-04-08T06:18:02.729297Z",
     "iopub.status.idle": "2021-04-08T06:18:03.592679Z",
     "shell.execute_reply": "2021-04-08T06:18:03.593184Z"
    }
   },
   "outputs": [
    {
     "name": "stdout",
     "output_type": "stream",
     "text": [
      "Starting experimental run with id: 1. \n",
      "Starting experimental run with id: 2. \n",
      "Starting experimental run with id: 3. \n",
      "Starting experimental run with id: 4. \n",
      "Starting experimental run with id: 5. \n"
     ]
    },
    {
     "name": "stdout",
     "output_type": "stream",
     "text": [
      "Starting experimental run with id: 6. \n"
     ]
    },
    {
     "name": "stdout",
     "output_type": "stream",
     "text": [
      "Starting experimental run with id: 7. \n"
     ]
    },
    {
     "name": "stdout",
     "output_type": "stream",
     "text": [
      "Starting experimental run with id: 8. \n",
      "Starting experimental run with id: 9. \n"
     ]
    },
    {
     "name": "stdout",
     "output_type": "stream",
     "text": [
      "Starting experimental run with id: 10. \n",
      "Starting experimental run with id: 11. \n"
     ]
    },
    {
     "name": "stdout",
     "output_type": "stream",
     "text": [
      "Starting experimental run with id: 12. \n",
      "Starting experimental run with id: 13. \n"
     ]
    },
    {
     "name": "stdout",
     "output_type": "stream",
     "text": [
      "Starting experimental run with id: 14. \n"
     ]
    }
   ],
   "source": [
    "sizes = [1,500,1000,2000,3000,4000,5000]\n",
    "t_numeric = []\n",
    "t_numeric_add = []\n",
    "t_array = []\n",
    "t_array_add = []\n",
    "for size in sizes:\n",
    "    tn, tna, run_id_n =  insert_data('numeric', size)\n",
    "    t_numeric.append(tn)\n",
    "    t_numeric_add.append(tna)\n",
    "\n",
    "    ta, taa, run_id_a =  insert_data('array', size)\n",
    "    t_array.append(ta)\n",
    "    t_array_add.append(taa)"
   ]
  },
  {
   "cell_type": "code",
   "execution_count": 6,
   "metadata": {
    "execution": {
     "iopub.execute_input": "2021-04-08T06:18:03.613136Z",
     "iopub.status.busy": "2021-04-08T06:18:03.612508Z",
     "iopub.status.idle": "2021-04-08T06:18:03.794239Z",
     "shell.execute_reply": "2021-04-08T06:18:03.795046Z"
    }
   },
   "outputs": [
    {
     "data": {
      "image/png": "[encoded data removed]",
      "text/plain": [
       "<Figure size 432x288 with 1 Axes>"
      ]
     },
     "metadata": {
      "needs_background": "light"
     },
     "output_type": "display_data"
    }
   ],
   "source": [
    "fig, ax = plt.subplots(1,1)\n",
    "ax.plot(sizes, t_numeric, 'o-', label='Inserting row-by-row')\n",
    "ax.plot(sizes, t_numeric_add, 'o-', label='Inserting row-by-row: add_result only')\n",
    "ax.plot(sizes, t_array, 'd-', label='Inserting as binary blob')\n",
    "ax.plot(sizes, t_array_add, 'd-', label='Inserting as binary blob: add_result only')\n",
    "ax.legend()\n",
    "ax.set_xlabel('Array length')\n",
    "ax.set_ylabel('Time (s)')\n",
    "fig.tight_layout()"
   ]
  },
  {
   "cell_type": "markdown",
   "metadata": {},
   "source": [
    "As shown in the latter figure, the time to setup and and close the experiment is approximately 0.4 sec. In case of small array sizes, the difference between inserting values of data as arrays and inserting them row-by-row is relatively unimportant. At larger array sizes, i.e. above 10000 points, the cost of writing data as individual datapoints starts to become important.\n"
   ]
  },
  {
   "cell_type": "markdown",
   "metadata": {},
   "source": [
    "### Case2: Long experiment time "
   ]
  },
  {
   "cell_type": "code",
   "execution_count": 7,
   "metadata": {
    "execution": {
     "iopub.execute_input": "2021-04-08T06:18:03.798858Z",
     "iopub.status.busy": "2021-04-08T06:18:03.797756Z",
     "iopub.status.idle": "2021-04-08T06:19:02.330752Z",
     "shell.execute_reply": "2021-04-08T06:19:02.330175Z"
    }
   },
   "outputs": [
    {
     "name": "stdout",
     "output_type": "stream",
     "text": [
      "Starting experimental run with id: 15. \n",
      "Starting experimental run with id: 16. \n",
      "Starting experimental run with id: 17. \n"
     ]
    },
    {
     "name": "stdout",
     "output_type": "stream",
     "text": [
      "Starting experimental run with id: 18. \n",
      "Starting experimental run with id: 19. \n"
     ]
    },
    {
     "name": "stdout",
     "output_type": "stream",
     "text": [
      "Starting experimental run with id: 20. \n"
     ]
    },
    {
     "name": "stdout",
     "output_type": "stream",
     "text": [
      "Starting experimental run with id: 21. \n"
     ]
    },
    {
     "name": "stdout",
     "output_type": "stream",
     "text": [
      "Starting experimental run with id: 22. \n"
     ]
    },
    {
     "name": "stdout",
     "output_type": "stream",
     "text": [
      "Starting experimental run with id: 23. \n"
     ]
    },
    {
     "name": "stdout",
     "output_type": "stream",
     "text": [
      "Starting experimental run with id: 24. \n"
     ]
    },
    {
     "name": "stdout",
     "output_type": "stream",
     "text": [
      "Starting experimental run with id: 25. \n"
     ]
    },
    {
     "name": "stdout",
     "output_type": "stream",
     "text": [
      "Starting experimental run with id: 26. \n"
     ]
    },
    {
     "name": "stdout",
     "output_type": "stream",
     "text": [
      "Starting experimental run with id: 27. \n"
     ]
    },
    {
     "name": "stdout",
     "output_type": "stream",
     "text": [
      "Starting experimental run with id: 28. \n"
     ]
    }
   ],
   "source": [
    "sizes = [1,500,1000,2000,3000,4000,5000]\n",
    "nreps = 100\n",
    "t_numeric = []\n",
    "t_numeric_add = []\n",
    "t_numeric_run_ids = []\n",
    "t_array = []\n",
    "t_array_add = []\n",
    "t_array_run_ids = []\n",
    "for size in sizes:\n",
    "    tn, tna, run_id_n =  insert_data('numeric', size, nreps=nreps)\n",
    "    t_numeric.append(tn)\n",
    "    t_numeric_add.append(tna)\n",
    "    t_numeric_run_ids.append(run_id_n)\n",
    "\n",
    "    ta, taa, run_id_a =  insert_data('array', size, nreps=nreps)\n",
    "    t_array.append(ta)\n",
    "    t_array_add.append(taa)\n",
    "    t_array_run_ids.append(run_id_a)"
   ]
  },
  {
   "cell_type": "code",
   "execution_count": 8,
   "metadata": {
    "execution": {
     "iopub.execute_input": "2021-04-08T06:19:02.375538Z",
     "iopub.status.busy": "2021-04-08T06:19:02.351274Z",
     "iopub.status.idle": "2021-04-08T06:19:02.529623Z",
     "shell.execute_reply": "2021-04-08T06:19:02.530447Z"
    },
    "scrolled": true
   },
   "outputs": [
    {
     "data": {
      "image/png": "[encoded data removed]",
      "text/plain": [
       "<Figure size 432x288 with 1 Axes>"
      ]
     },
     "metadata": {
      "needs_background": "light"
     },
     "output_type": "display_data"
    }
   ],
   "source": [
    "fig, ax = plt.subplots(1,1)\n",
    "ax.plot(sizes, t_numeric, 'o-', label='Inserting row-by-row')\n",
    "ax.plot(sizes, t_numeric_add, 'o-', label='Inserting row-by-row: add_result only')\n",
    "ax.plot(sizes, t_array, 'd-', label='Inserting as binary blob')\n",
    "ax.plot(sizes, t_array_add, 'd-', label='Inserting as binary blob: add_result only')\n",
    "ax.legend()\n",
    "ax.set_xlabel('Array length')\n",
    "ax.set_ylabel('Time (s)')\n",
    "fig.tight_layout()"
   ]
  },
  {
   "cell_type": "markdown",
   "metadata": {},
   "source": [
    "However, as we increase the length of the experiment, as seen here by repeating the insertion 100 times, we see a big difference between inserting values of the data row-by-row and inserting it as a binary blob."
   ]
  },
  {
   "cell_type": "markdown",
   "metadata": {},
   "source": [
    "## Loading the data "
   ]
  },
  {
   "cell_type": "code",
   "execution_count": 9,
   "metadata": {
    "execution": {
     "iopub.execute_input": "2021-04-08T06:19:02.534193Z",
     "iopub.status.busy": "2021-04-08T06:19:02.533063Z",
     "iopub.status.idle": "2021-04-08T06:19:02.540115Z",
     "shell.execute_reply": "2021-04-08T06:19:02.539150Z"
    }
   },
   "outputs": [],
   "source": [
    "from qcodes.dataset.data_set import load_by_id\n",
    "from qcodes.dataset.data_export import get_data_by_id"
   ]
  },
  {
   "cell_type": "markdown",
   "metadata": {},
   "source": [
    "As usual you can load the data by using the ``load_by_id`` function but you will notice that the different storage methods\n",
    "are reflected in shape of the data as it is retrieved. "
   ]
  },
  {
   "cell_type": "code",
   "execution_count": 10,
   "metadata": {
    "execution": {
     "iopub.execute_input": "2021-04-08T06:19:02.545219Z",
     "iopub.status.busy": "2021-04-08T06:19:02.543986Z",
     "iopub.status.idle": "2021-04-08T06:19:02.545866Z",
     "shell.execute_reply": "2021-04-08T06:19:02.546340Z"
    }
   },
   "outputs": [],
   "source": [
    "run_id_n = t_numeric_run_ids[0]\n",
    "run_id_a = t_array_run_ids[0]"
   ]
  },
  {
   "cell_type": "code",
   "execution_count": 11,
   "metadata": {
    "execution": {
     "iopub.execute_input": "2021-04-08T06:19:02.549960Z",
     "iopub.status.busy": "2021-04-08T06:19:02.549398Z",
     "iopub.status.idle": "2021-04-08T06:19:02.559822Z",
     "shell.execute_reply": "2021-04-08T06:19:02.559349Z"
    },
    "scrolled": true
   },
   "outputs": [
    {
     "data": {
      "text/plain": [
       "{'x1': {'x1': array([0.25078397, 0.25078397, 0.04470836, 0.04470836, 0.58272027,\n",
       "         0.58272027, 0.42275489, 0.42275489, 0.23579255, 0.23579255,\n",
       "         0.87026052, 0.87026052, 0.98170018, 0.98170018, 0.44261743,\n",
       "         0.44261743, 0.74596729, 0.74596729, 0.75038295, 0.75038295,\n",
       "         0.14169835, 0.14169835, 0.93057898, 0.93057898, 0.99123523,\n",
       "         0.99123523, 0.65355044, 0.65355044, 0.84394719, 0.84394719,\n",
       "         0.87146259, 0.87146259, 0.07619582, 0.07619582, 0.92818244,\n",
       "         0.92818244, 0.17213702, 0.17213702, 0.32729864, 0.32729864,\n",
       "         0.96090607, 0.96090607, 0.39210279, 0.39210279, 0.69850179,\n",
       "         0.69850179, 0.7561953 , 0.7561953 , 0.4657449 , 0.4657449 ,\n",
       "         0.4914296 , 0.4914296 , 0.75719656, 0.75719656, 0.40823111,\n",
       "         0.40823111, 0.20569957, 0.20569957, 0.55115358, 0.55115358,\n",
       "         0.47796623, 0.47796623, 0.55570814, 0.55570814, 0.19348602,\n",
       "         0.19348602, 0.0187384 , 0.0187384 , 0.45758735, 0.45758735,\n",
       "         0.86803784, 0.86803784, 0.89999494, 0.89999494, 0.38953554,\n",
       "         0.38953554, 0.89891789, 0.89891789, 0.96990034, 0.96990034,\n",
       "         0.50934968, 0.50934968, 0.08026276, 0.08026276, 0.83575697,\n",
       "         0.83575697, 0.62422981, 0.62422981, 0.86892296, 0.86892296,\n",
       "         0.15848615, 0.15848615, 0.15308256, 0.15308256, 0.154652  ,\n",
       "         0.154652  , 0.95162429, 0.95162429, 0.16313962, 0.16313962,\n",
       "         0.21728792, 0.21728792, 0.06242112, 0.06242112, 0.91058289,\n",
       "         0.91058289, 0.20735307, 0.20735307, 0.21248181, 0.21248181,\n",
       "         0.08899846, 0.08899846, 0.87993981, 0.87993981, 0.98789112,\n",
       "         0.98789112, 0.67086147, 0.67086147, 0.30443617, 0.30443617,\n",
       "         0.00100445, 0.00100445, 0.28659384, 0.28659384, 0.36555433,\n",
       "         0.36555433, 0.88921523, 0.88921523, 0.31185394, 0.31185394,\n",
       "         0.68229214, 0.68229214, 0.33385813, 0.33385813, 0.53687345,\n",
       "         0.53687345, 0.52198607, 0.52198607, 0.33117141, 0.33117141,\n",
       "         0.21159373, 0.21159373, 0.32717936, 0.32717936, 0.66827076,\n",
       "         0.66827076, 0.72203362, 0.72203362, 0.58616494, 0.58616494,\n",
       "         0.62345628, 0.62345628, 0.63539049, 0.63539049, 0.1844226 ,\n",
       "         0.1844226 , 0.70962614, 0.70962614, 0.65772021, 0.65772021,\n",
       "         0.60144539, 0.60144539, 0.33993998, 0.33993998, 0.93071809,\n",
       "         0.93071809, 0.9693673 , 0.9693673 , 0.53731764, 0.53731764,\n",
       "         0.20899272, 0.20899272, 0.50579558, 0.50579558, 0.2765691 ,\n",
       "         0.2765691 , 0.93892851, 0.93892851, 0.69134457, 0.69134457,\n",
       "         0.9578035 , 0.9578035 , 0.95418086, 0.95418086, 0.90102796,\n",
       "         0.90102796, 0.58886941, 0.58886941, 0.10899697, 0.10899697,\n",
       "         0.41015767, 0.41015767, 0.34791558, 0.34791558, 0.23955967,\n",
       "         0.23955967, 0.10812648, 0.10812648, 0.06881017, 0.06881017])}}"
      ]
     },
     "execution_count": 1,
     "metadata": {},
     "output_type": "execute_result"
    }
   ],
   "source": [
    "ds = load_by_id(run_id_n)\n",
    "ds.get_parameter_data('x1')"
   ]
  },
  {
   "cell_type": "markdown",
   "metadata": {},
   "source": [
    "And a dataset stored as binary arrays"
   ]
  },
  {
   "cell_type": "code",
   "execution_count": 12,
   "metadata": {
    "execution": {
     "iopub.execute_input": "2021-04-08T06:19:02.563454Z",
     "iopub.status.busy": "2021-04-08T06:19:02.562869Z",
     "iopub.status.idle": "2021-04-08T06:19:02.628858Z",
     "shell.execute_reply": "2021-04-08T06:19:02.629355Z"
    },
    "scrolled": true
   },
   "outputs": [
    {
     "data": {
      "text/plain": [
       "{'x1': {'x1': array([[0.75786029],\n",
       "         [0.75786029],\n",
       "         [0.88847398],\n",
       "         [0.88847398],\n",
       "         [0.67687362],\n",
       "         [0.67687362],\n",
       "         [0.3519194 ],\n",
       "         [0.3519194 ],\n",
       "         [0.58350216],\n",
       "         [0.58350216],\n",
       "         [0.43818921],\n",
       "         [0.43818921],\n",
       "         [0.36343107],\n",
       "         [0.36343107],\n",
       "         [0.90340152],\n",
       "         [0.90340152],\n",
       "         [0.20688668],\n",
       "         [0.20688668],\n",
       "         [0.79770554],\n",
       "         [0.79770554],\n",
       "         [0.3070556 ],\n",
       "         [0.3070556 ],\n",
       "         [0.8345364 ],\n",
       "         [0.8345364 ],\n",
       "         [0.13938159],\n",
       "         [0.13938159],\n",
       "         [0.0881952 ],\n",
       "         [0.0881952 ],\n",
       "         [0.75526786],\n",
       "         [0.75526786],\n",
       "         [0.44627413],\n",
       "         [0.44627413],\n",
       "         [0.87923742],\n",
       "         [0.87923742],\n",
       "         [0.74587186],\n",
       "         [0.74587186],\n",
       "         [0.56259874],\n",
       "         [0.56259874],\n",
       "         [0.03434548],\n",
       "         [0.03434548],\n",
       "         [0.13094095],\n",
       "         [0.13094095],\n",
       "         [0.35896119],\n",
       "         [0.35896119],\n",
       "         [0.97612516],\n",
       "         [0.97612516],\n",
       "         [0.53400628],\n",
       "         [0.53400628],\n",
       "         [0.59609531],\n",
       "         [0.59609531],\n",
       "         [0.54267566],\n",
       "         [0.54267566],\n",
       "         [0.80332155],\n",
       "         [0.80332155],\n",
       "         [0.30801308],\n",
       "         [0.30801308],\n",
       "         [0.74726998],\n",
       "         [0.74726998],\n",
       "         [0.63114734],\n",
       "         [0.63114734],\n",
       "         [0.21022587],\n",
       "         [0.21022587],\n",
       "         [0.73690159],\n",
       "         [0.73690159],\n",
       "         [0.14270621],\n",
       "         [0.14270621],\n",
       "         [0.19997719],\n",
       "         [0.19997719],\n",
       "         [0.17579186],\n",
       "         [0.17579186],\n",
       "         [0.21731336],\n",
       "         [0.21731336],\n",
       "         [0.76389814],\n",
       "         [0.76389814],\n",
       "         [0.02488699],\n",
       "         [0.02488699],\n",
       "         [0.74093822],\n",
       "         [0.74093822],\n",
       "         [0.50227553],\n",
       "         [0.50227553],\n",
       "         [0.46866608],\n",
       "         [0.46866608],\n",
       "         [0.75192705],\n",
       "         [0.75192705],\n",
       "         [0.97539319],\n",
       "         [0.97539319],\n",
       "         [0.29639027],\n",
       "         [0.29639027],\n",
       "         [0.69048351],\n",
       "         [0.69048351],\n",
       "         [0.38586514],\n",
       "         [0.38586514],\n",
       "         [0.71514348],\n",
       "         [0.71514348],\n",
       "         [0.60295494],\n",
       "         [0.60295494],\n",
       "         [0.42832723],\n",
       "         [0.42832723],\n",
       "         [0.13485225],\n",
       "         [0.13485225],\n",
       "         [0.55579037],\n",
       "         [0.55579037],\n",
       "         [0.07334471],\n",
       "         [0.07334471],\n",
       "         [0.493686  ],\n",
       "         [0.493686  ],\n",
       "         [0.06625713],\n",
       "         [0.06625713],\n",
       "         [0.06810763],\n",
       "         [0.06810763],\n",
       "         [0.31859243],\n",
       "         [0.31859243],\n",
       "         [0.40953963],\n",
       "         [0.40953963],\n",
       "         [0.13499211],\n",
       "         [0.13499211],\n",
       "         [0.73740421],\n",
       "         [0.73740421],\n",
       "         [0.73629495],\n",
       "         [0.73629495],\n",
       "         [0.8786957 ],\n",
       "         [0.8786957 ],\n",
       "         [0.27594663],\n",
       "         [0.27594663],\n",
       "         [0.12182205],\n",
       "         [0.12182205],\n",
       "         [0.90305629],\n",
       "         [0.90305629],\n",
       "         [0.8453694 ],\n",
       "         [0.8453694 ],\n",
       "         [0.04215019],\n",
       "         [0.04215019],\n",
       "         [0.33889927],\n",
       "         [0.33889927],\n",
       "         [0.641958  ],\n",
       "         [0.641958  ],\n",
       "         [0.26269238],\n",
       "         [0.26269238],\n",
       "         [0.00892999],\n",
       "         [0.00892999],\n",
       "         [0.26273552],\n",
       "         [0.26273552],\n",
       "         [0.20200285],\n",
       "         [0.20200285],\n",
       "         [0.97250773],\n",
       "         [0.97250773],\n",
       "         [0.36838191],\n",
       "         [0.36838191],\n",
       "         [0.61039951],\n",
       "         [0.61039951],\n",
       "         [0.67431306],\n",
       "         [0.67431306],\n",
       "         [0.51542387],\n",
       "         [0.51542387],\n",
       "         [0.32922364],\n",
       "         [0.32922364],\n",
       "         [0.11383108],\n",
       "         [0.11383108],\n",
       "         [0.37333204],\n",
       "         [0.37333204],\n",
       "         [0.42743851],\n",
       "         [0.42743851],\n",
       "         [0.25393958],\n",
       "         [0.25393958],\n",
       "         [0.39037898],\n",
       "         [0.39037898],\n",
       "         [0.16068105],\n",
       "         [0.16068105],\n",
       "         [0.21206118],\n",
       "         [0.21206118],\n",
       "         [0.7376656 ],\n",
       "         [0.7376656 ],\n",
       "         [0.55580209],\n",
       "         [0.55580209],\n",
       "         [0.92165034],\n",
       "         [0.92165034],\n",
       "         [0.56754639],\n",
       "         [0.56754639],\n",
       "         [0.1920434 ],\n",
       "         [0.1920434 ],\n",
       "         [0.65853351],\n",
       "         [0.65853351],\n",
       "         [0.8590882 ],\n",
       "         [0.8590882 ],\n",
       "         [0.10077128],\n",
       "         [0.10077128],\n",
       "         [0.42473916],\n",
       "         [0.42473916],\n",
       "         [0.04654494],\n",
       "         [0.04654494],\n",
       "         [0.77503327],\n",
       "         [0.77503327],\n",
       "         [0.32262419],\n",
       "         [0.32262419],\n",
       "         [0.16599415],\n",
       "         [0.16599415],\n",
       "         [0.66192732],\n",
       "         [0.66192732],\n",
       "         [0.37336677],\n",
       "         [0.37336677]])}}"
      ]
     },
     "execution_count": 1,
     "metadata": {},
     "output_type": "execute_result"
    }
   ],
   "source": [
    "ds = load_by_id(run_id_a)\n",
    "ds.get_parameter_data('x1')"
   ]
  },
  {
   "cell_type": "code",
   "execution_count": null,
   "metadata": {},
   "outputs": [],
   "source": []
  }
 ],
 "metadata": {
  "kernelspec": {
   "display_name": "Python 3",
   "language": "python",
   "name": "python3"
  },
  "language_info": {
   "codemirror_mode": {
    "name": "ipython",
    "version": 3
   },
   "file_extension": ".py",
   "mimetype": "text/x-python",
   "name": "python",
   "nbconvert_exporter": "python",
   "pygments_lexer": "ipython3",
   "version": "3.7.10"
  },
  "nbsphinx": {
   "timeout": 600
  },
  "toc": {
   "base_numbering": 1,
   "nav_menu": {},
   "number_sections": true,
   "sideBar": true,
   "skip_h1_title": false,
   "title_cell": "Table of Contents",
   "title_sidebar": "Contents",
   "toc_cell": false,
   "toc_position": {},
   "toc_section_display": true,
   "toc_window_display": false
  },
  "varInspector": {
   "cols": {
    "lenName": 16,
    "lenType": 16,
    "lenVar": 40
   },
   "kernels_config": {
    "python": {
     "delete_cmd_postfix": "",
     "delete_cmd_prefix": "del ",
     "library": "var_list.py",
     "varRefreshCmd": "print(var_dic_list())"
    },
    "r": {
     "delete_cmd_postfix": ") ",
     "delete_cmd_prefix": "rm(",
     "library": "var_list.r",
     "varRefreshCmd": "cat(var_dic_list()) "
    }
   },
   "types_to_exclude": [
    "module",
    "function",
    "builtin_function_or_method",
    "instance",
    "_Feature"
   ],
   "window_display": false
  }
 },
 "nbformat": 4,
 "nbformat_minor": 2
}
