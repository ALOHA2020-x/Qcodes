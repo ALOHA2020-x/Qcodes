{
 "cells": [
  {
   "cell_type": "markdown",
   "metadata": {},
   "source": [
    "# DataSet Performance\n",
    "\n",
    "This notebook shows the trade-off between inserting data into a database row-by-row and as binary blobs. Inserting the data row-by-row means that we have direct access to all the data and may perform queries directly on the values of the data. On the other hand, as we shall see, this is much slower than inserting the data directly as binary blobs."
   ]
  },
  {
   "cell_type": "markdown",
   "metadata": {},
   "source": [
    "First, we choose a new location for the database to ensure that we don't add a bunch of benchmarking data to the default one."
   ]
  },
  {
   "cell_type": "code",
   "execution_count": 1,
   "metadata": {
    "execution": {
     "iopub.execute_input": "2021-05-16T20:11:00.758109Z",
     "iopub.status.busy": "2021-05-16T20:11:00.757566Z",
     "iopub.status.idle": "2021-05-16T20:11:01.819841Z",
     "shell.execute_reply": "2021-05-16T20:11:01.820321Z"
    }
   },
   "outputs": [
    {
     "name": "stdout",
     "output_type": "stream",
     "text": [
      "Logging hadn't been started.\n",
      "Activating auto-logging. Current session state plus future input saved.\n",
      "Filename       : /home/runner/.qcodes/logs/command_history.log\n",
      "Mode           : append\n",
      "Output logging : True\n",
      "Raw input log  : False\n",
      "Timestamping   : True\n",
      "State          : active\n"
     ]
    },
    {
     "name": "stdout",
     "output_type": "stream",
     "text": [
      "Qcodes Logfile : /home/runner/.qcodes/logs/210516-4535-qcodes.log\n"
     ]
    }
   ],
   "source": [
    "import os\n",
    "cwd = os.getcwd()\n",
    "import qcodes as qc\n",
    "qc.config[\"core\"][\"db_location\"] = os.path.join(cwd, 'testing.db')\n"
   ]
  },
  {
   "cell_type": "code",
   "execution_count": 2,
   "metadata": {
    "execution": {
     "iopub.execute_input": "2021-05-16T20:11:01.826901Z",
     "iopub.status.busy": "2021-05-16T20:11:01.826023Z",
     "iopub.status.idle": "2021-05-16T20:11:02.007826Z",
     "shell.execute_reply": "2021-05-16T20:11:02.008259Z"
    }
   },
   "outputs": [],
   "source": [
    "%matplotlib inline\n",
    "import time\n",
    "import matplotlib.pyplot as plt\n",
    "import numpy as np\n",
    "\n",
    "import qcodes as qc\n",
    "from qcodes.instrument.parameter import ManualParameter\n",
    "from qcodes.dataset.experiment_container import (Experiment,\n",
    "                                                 load_last_experiment,\n",
    "                                                 new_experiment)\n",
    "from qcodes.dataset.sqlite.database import initialise_database\n",
    "from qcodes import load_or_create_experiment\n",
    "from qcodes.dataset.measurements import Measurement"
   ]
  },
  {
   "cell_type": "code",
   "execution_count": 3,
   "metadata": {
    "execution": {
     "iopub.execute_input": "2021-05-16T20:11:02.012203Z",
     "iopub.status.busy": "2021-05-16T20:11:02.011699Z",
     "iopub.status.idle": "2021-05-16T20:11:02.062090Z",
     "shell.execute_reply": "2021-05-16T20:11:02.062533Z"
    }
   },
   "outputs": [
    {
     "name": "stdout",
     "output_type": "stream",
     "text": [
      "\r",
      "0it [00:00, ?it/s]"
     ]
    },
    {
     "name": "stdout",
     "output_type": "stream",
     "text": [
      "\r",
      "Upgrading database; v0 -> v1: : 0it [00:00, ?it/s]"
     ]
    },
    {
     "name": "stdout",
     "output_type": "stream",
     "text": [
      "\r",
      "Upgrading database; v0 -> v1: : 0it [00:00, ?it/s]"
     ]
    },
    {
     "name": "stdout",
     "output_type": "stream",
     "text": [
      "\n",
      "\r",
      "  0%|          | 0/1 [00:00<?, ?it/s]"
     ]
    },
    {
     "name": "stdout",
     "output_type": "stream",
     "text": [
      "\r",
      "Upgrading database; v1 -> v2:   0%|          | 0/1 [00:00<?, ?it/s]"
     ]
    },
    {
     "name": "stdout",
     "output_type": "stream",
     "text": [
      "\r",
      "Upgrading database; v1 -> v2: 100%|██████████| 1/1 [00:00<00:00, 979.98it/s]"
     ]
    },
    {
     "name": "stdout",
     "output_type": "stream",
     "text": [
      "\n",
      "\r",
      "0it [00:00, ?it/s]"
     ]
    },
    {
     "name": "stdout",
     "output_type": "stream",
     "text": [
      "\r",
      "Upgrading database; v2 -> v3: : 0it [00:00, ?it/s]"
     ]
    },
    {
     "name": "stdout",
     "output_type": "stream",
     "text": [
      "\r",
      "Upgrading database; v2 -> v3: : 0it [00:00, ?it/s]"
     ]
    },
    {
     "name": "stdout",
     "output_type": "stream",
     "text": [
      "\n",
      "\r",
      "0it [00:00, ?it/s]"
     ]
    },
    {
     "name": "stdout",
     "output_type": "stream",
     "text": [
      "\r",
      "Upgrading database; v3 -> v4: : 0it [00:00, ?it/s]"
     ]
    },
    {
     "name": "stdout",
     "output_type": "stream",
     "text": [
      "\r",
      "Upgrading database; v3 -> v4: : 0it [00:00, ?it/s]"
     ]
    },
    {
     "name": "stdout",
     "output_type": "stream",
     "text": [
      "\n",
      "\r",
      "  0%|          | 0/1 [00:00<?, ?it/s]"
     ]
    },
    {
     "name": "stdout",
     "output_type": "stream",
     "text": [
      "\r",
      "Upgrading database; v4 -> v5:   0%|          | 0/1 [00:00<?, ?it/s]"
     ]
    },
    {
     "name": "stdout",
     "output_type": "stream",
     "text": [
      "\r",
      "Upgrading database; v4 -> v5: 100%|██████████| 1/1 [00:00<00:00, 953.03it/s]"
     ]
    },
    {
     "name": "stdout",
     "output_type": "stream",
     "text": [
      "\n",
      "\r",
      "0it [00:00, ?it/s]"
     ]
    },
    {
     "name": "stdout",
     "output_type": "stream",
     "text": [
      "\r",
      "Upgrading database; v5 -> v6: : 0it [00:00, ?it/s]"
     ]
    },
    {
     "name": "stdout",
     "output_type": "stream",
     "text": [
      "\r",
      "Upgrading database; v5 -> v6: : 0it [00:00, ?it/s]"
     ]
    },
    {
     "name": "stdout",
     "output_type": "stream",
     "text": [
      "\n",
      "\r",
      "  0%|          | 0/1 [00:00<?, ?it/s]"
     ]
    },
    {
     "name": "stdout",
     "output_type": "stream",
     "text": [
      "\r",
      "Upgrading database; v6 -> v7:   0%|          | 0/1 [00:00<?, ?it/s]"
     ]
    },
    {
     "name": "stdout",
     "output_type": "stream",
     "text": [
      "\r",
      "Upgrading database; v6 -> v7: 100%|██████████| 1/1 [00:00<00:00, 583.19it/s]"
     ]
    },
    {
     "name": "stdout",
     "output_type": "stream",
     "text": [
      "\n",
      "\r",
      "  0%|          | 0/1 [00:00<?, ?it/s]"
     ]
    },
    {
     "name": "stdout",
     "output_type": "stream",
     "text": [
      "\r",
      "Upgrading database; v7 -> v8:   0%|          | 0/1 [00:00<?, ?it/s]"
     ]
    },
    {
     "name": "stdout",
     "output_type": "stream",
     "text": [
      "\r",
      "Upgrading database; v7 -> v8: 100%|██████████| 1/1 [00:00<00:00, 944.88it/s]"
     ]
    },
    {
     "name": "stdout",
     "output_type": "stream",
     "text": [
      "\n",
      "\r",
      "  0%|          | 0/1 [00:00<?, ?it/s]"
     ]
    },
    {
     "name": "stdout",
     "output_type": "stream",
     "text": [
      "\r",
      "Upgrading database; v8 -> v9:   0%|          | 0/1 [00:00<?, ?it/s]"
     ]
    },
    {
     "name": "stdout",
     "output_type": "stream",
     "text": [
      "\r",
      "Upgrading database; v8 -> v9: 100%|██████████| 1/1 [00:00<00:00, 1137.59it/s]"
     ]
    },
    {
     "name": "stdout",
     "output_type": "stream",
     "text": [
      "\n"
     ]
    }
   ],
   "source": [
    "initialise_database()\n",
    "exp = load_or_create_experiment(experiment_name='tutorial_exp', sample_name=\"no sample\")"
   ]
  },
  {
   "cell_type": "markdown",
   "metadata": {},
   "source": [
    "Here, we define a simple function to benchmark the time it takes to insert n points with either numeric or array data type.\n",
    "We will compare both the time used to call ``add_result`` and the time used for the full measurement."
   ]
  },
  {
   "cell_type": "code",
   "execution_count": 4,
   "metadata": {
    "execution": {
     "iopub.execute_input": "2021-05-16T20:11:02.065356Z",
     "iopub.status.busy": "2021-05-16T20:11:02.064505Z",
     "iopub.status.idle": "2021-05-16T20:11:02.071794Z",
     "shell.execute_reply": "2021-05-16T20:11:02.072221Z"
    }
   },
   "outputs": [],
   "source": [
    "def insert_data(paramtype, npoints, nreps=1):\n",
    "\n",
    "    meas = Measurement(exp=exp)\n",
    "\n",
    "    x1 = ManualParameter('x1')\n",
    "    x2 = ManualParameter('x2')\n",
    "    x3 = ManualParameter('x3')\n",
    "    y1 = ManualParameter('y1')\n",
    "    y2 = ManualParameter('y2')\n",
    "\n",
    "    meas.register_parameter(x1, paramtype=paramtype)\n",
    "    meas.register_parameter(x2, paramtype=paramtype)\n",
    "    meas.register_parameter(x3, paramtype=paramtype)\n",
    "    meas.register_parameter(y1, setpoints=[x1, x2, x3],\n",
    "                            paramtype=paramtype)\n",
    "    meas.register_parameter(y2, setpoints=[x1, x2, x3],\n",
    "                            paramtype=paramtype)\n",
    "    start = time.perf_counter()\n",
    "    with meas.run() as datasaver:\n",
    "        start_adding = time.perf_counter()\n",
    "        for i in range(nreps):\n",
    "            datasaver.add_result((x1, np.random.rand(npoints)),\n",
    "                                 (x2, np.random.rand(npoints)),\n",
    "                                 (x3, np.random.rand(npoints)),\n",
    "                                 (y1, np.random.rand(npoints)),\n",
    "                                 (y2, np.random.rand(npoints)))\n",
    "        stop_adding = time.perf_counter()\n",
    "        run_id = datasaver.run_id\n",
    "    stop = time.perf_counter()\n",
    "    tot_time = stop - start\n",
    "    add_time = stop_adding - start_adding\n",
    "    return tot_time, add_time, run_id"
   ]
  },
  {
   "cell_type": "markdown",
   "metadata": {},
   "source": [
    "## Comparison between numeric/array data and binary blob"
   ]
  },
  {
   "cell_type": "markdown",
   "metadata": {},
   "source": [
    "### Case1: Short experiment time"
   ]
  },
  {
   "cell_type": "code",
   "execution_count": 5,
   "metadata": {
    "execution": {
     "iopub.execute_input": "2021-05-16T20:11:02.078058Z",
     "iopub.status.busy": "2021-05-16T20:11:02.076944Z",
     "iopub.status.idle": "2021-05-16T20:11:02.797062Z",
     "shell.execute_reply": "2021-05-16T20:11:02.796611Z"
    }
   },
   "outputs": [
    {
     "name": "stdout",
     "output_type": "stream",
     "text": [
      "Starting experimental run with id: 1. \n",
      "Starting experimental run with id: 2. \n",
      "Starting experimental run with id: 3. \n",
      "Starting experimental run with id: 4. \n",
      "Starting experimental run with id: 5. \n"
     ]
    },
    {
     "name": "stdout",
     "output_type": "stream",
     "text": [
      "Starting experimental run with id: 6. \n"
     ]
    },
    {
     "name": "stdout",
     "output_type": "stream",
     "text": [
      "Starting experimental run with id: 7. \n"
     ]
    },
    {
     "name": "stdout",
     "output_type": "stream",
     "text": [
      "Starting experimental run with id: 8. \n",
      "Starting experimental run with id: 9. \n"
     ]
    },
    {
     "name": "stdout",
     "output_type": "stream",
     "text": [
      "Starting experimental run with id: 10. \n"
     ]
    },
    {
     "name": "stdout",
     "output_type": "stream",
     "text": [
      "Starting experimental run with id: 11. \n"
     ]
    },
    {
     "name": "stdout",
     "output_type": "stream",
     "text": [
      "Starting experimental run with id: 12. \n",
      "Starting experimental run with id: 13. \n"
     ]
    },
    {
     "name": "stdout",
     "output_type": "stream",
     "text": [
      "Starting experimental run with id: 14. \n"
     ]
    }
   ],
   "source": [
    "sizes = [1,500,1000,2000,3000,4000,5000]\n",
    "t_numeric = []\n",
    "t_numeric_add = []\n",
    "t_array = []\n",
    "t_array_add = []\n",
    "for size in sizes:\n",
    "    tn, tna, run_id_n =  insert_data('numeric', size)\n",
    "    t_numeric.append(tn)\n",
    "    t_numeric_add.append(tna)\n",
    "\n",
    "    ta, taa, run_id_a =  insert_data('array', size)\n",
    "    t_array.append(ta)\n",
    "    t_array_add.append(taa)"
   ]
  },
  {
   "cell_type": "code",
   "execution_count": 6,
   "metadata": {
    "execution": {
     "iopub.execute_input": "2021-05-16T20:11:02.823164Z",
     "iopub.status.busy": "2021-05-16T20:11:02.813333Z",
     "iopub.status.idle": "2021-05-16T20:11:03.006300Z",
     "shell.execute_reply": "2021-05-16T20:11:03.005795Z"
    }
   },
   "outputs": [
    {
     "data": {
      "image/png": "[encoded data removed]",
      "text/plain": [
       "<Figure size 432x288 with 1 Axes>"
      ]
     },
     "metadata": {
      "needs_background": "light"
     },
     "output_type": "display_data"
    }
   ],
   "source": [
    "fig, ax = plt.subplots(1,1)\n",
    "ax.plot(sizes, t_numeric, 'o-', label='Inserting row-by-row')\n",
    "ax.plot(sizes, t_numeric_add, 'o-', label='Inserting row-by-row: add_result only')\n",
    "ax.plot(sizes, t_array, 'd-', label='Inserting as binary blob')\n",
    "ax.plot(sizes, t_array_add, 'd-', label='Inserting as binary blob: add_result only')\n",
    "ax.legend()\n",
    "ax.set_xlabel('Array length')\n",
    "ax.set_ylabel('Time (s)')\n",
    "fig.tight_layout()"
   ]
  },
  {
   "cell_type": "markdown",
   "metadata": {},
   "source": [
    "As shown in the latter figure, the time to setup and and close the experiment is approximately 0.4 sec. In case of small array sizes, the difference between inserting values of data as arrays and inserting them row-by-row is relatively unimportant. At larger array sizes, i.e. above 10000 points, the cost of writing data as individual datapoints starts to become important.\n"
   ]
  },
  {
   "cell_type": "markdown",
   "metadata": {},
   "source": [
    "### Case2: Long experiment time "
   ]
  },
  {
   "cell_type": "code",
   "execution_count": 7,
   "metadata": {
    "execution": {
     "iopub.execute_input": "2021-05-16T20:11:03.012736Z",
     "iopub.status.busy": "2021-05-16T20:11:03.011684Z",
     "iopub.status.idle": "2021-05-16T20:11:54.672651Z",
     "shell.execute_reply": "2021-05-16T20:11:54.672119Z"
    }
   },
   "outputs": [
    {
     "name": "stdout",
     "output_type": "stream",
     "text": [
      "Starting experimental run with id: 15. \n",
      "Starting experimental run with id: 16. \n",
      "Starting experimental run with id: 17. \n"
     ]
    },
    {
     "name": "stdout",
     "output_type": "stream",
     "text": [
      "Starting experimental run with id: 18. \n",
      "Starting experimental run with id: 19. \n"
     ]
    },
    {
     "name": "stdout",
     "output_type": "stream",
     "text": [
      "Starting experimental run with id: 20. \n"
     ]
    },
    {
     "name": "stdout",
     "output_type": "stream",
     "text": [
      "Starting experimental run with id: 21. \n"
     ]
    },
    {
     "name": "stdout",
     "output_type": "stream",
     "text": [
      "Starting experimental run with id: 22. \n"
     ]
    },
    {
     "name": "stdout",
     "output_type": "stream",
     "text": [
      "Starting experimental run with id: 23. \n"
     ]
    },
    {
     "name": "stdout",
     "output_type": "stream",
     "text": [
      "Starting experimental run with id: 24. \n"
     ]
    },
    {
     "name": "stdout",
     "output_type": "stream",
     "text": [
      "Starting experimental run with id: 25. \n"
     ]
    },
    {
     "name": "stdout",
     "output_type": "stream",
     "text": [
      "Starting experimental run with id: 26. \n"
     ]
    },
    {
     "name": "stdout",
     "output_type": "stream",
     "text": [
      "Starting experimental run with id: 27. \n"
     ]
    },
    {
     "name": "stdout",
     "output_type": "stream",
     "text": [
      "Starting experimental run with id: 28. \n"
     ]
    }
   ],
   "source": [
    "sizes = [1,500,1000,2000,3000,4000,5000]\n",
    "nreps = 100\n",
    "t_numeric = []\n",
    "t_numeric_add = []\n",
    "t_numeric_run_ids = []\n",
    "t_array = []\n",
    "t_array_add = []\n",
    "t_array_run_ids = []\n",
    "for size in sizes:\n",
    "    tn, tna, run_id_n =  insert_data('numeric', size, nreps=nreps)\n",
    "    t_numeric.append(tn)\n",
    "    t_numeric_add.append(tna)\n",
    "    t_numeric_run_ids.append(run_id_n)\n",
    "\n",
    "    ta, taa, run_id_a =  insert_data('array', size, nreps=nreps)\n",
    "    t_array.append(ta)\n",
    "    t_array_add.append(taa)\n",
    "    t_array_run_ids.append(run_id_a)"
   ]
  },
  {
   "cell_type": "code",
   "execution_count": 8,
   "metadata": {
    "execution": {
     "iopub.execute_input": "2021-05-16T20:11:54.700740Z",
     "iopub.status.busy": "2021-05-16T20:11:54.699747Z",
     "iopub.status.idle": "2021-05-16T20:11:54.866764Z",
     "shell.execute_reply": "2021-05-16T20:11:54.866329Z"
    },
    "scrolled": true
   },
   "outputs": [
    {
     "data": {
      "image/png": "[encoded data removed]",
      "text/plain": [
       "<Figure size 432x288 with 1 Axes>"
      ]
     },
     "metadata": {
      "needs_background": "light"
     },
     "output_type": "display_data"
    }
   ],
   "source": [
    "fig, ax = plt.subplots(1,1)\n",
    "ax.plot(sizes, t_numeric, 'o-', label='Inserting row-by-row')\n",
    "ax.plot(sizes, t_numeric_add, 'o-', label='Inserting row-by-row: add_result only')\n",
    "ax.plot(sizes, t_array, 'd-', label='Inserting as binary blob')\n",
    "ax.plot(sizes, t_array_add, 'd-', label='Inserting as binary blob: add_result only')\n",
    "ax.legend()\n",
    "ax.set_xlabel('Array length')\n",
    "ax.set_ylabel('Time (s)')\n",
    "fig.tight_layout()"
   ]
  },
  {
   "cell_type": "markdown",
   "metadata": {},
   "source": [
    "However, as we increase the length of the experiment, as seen here by repeating the insertion 100 times, we see a big difference between inserting values of the data row-by-row and inserting it as a binary blob."
   ]
  },
  {
   "cell_type": "markdown",
   "metadata": {},
   "source": [
    "## Loading the data "
   ]
  },
  {
   "cell_type": "code",
   "execution_count": 9,
   "metadata": {
    "execution": {
     "iopub.execute_input": "2021-05-16T20:11:54.870612Z",
     "iopub.status.busy": "2021-05-16T20:11:54.870101Z",
     "iopub.status.idle": "2021-05-16T20:11:54.873288Z",
     "shell.execute_reply": "2021-05-16T20:11:54.872855Z"
    }
   },
   "outputs": [],
   "source": [
    "from qcodes.dataset.data_set import load_by_id"
   ]
  },
  {
   "cell_type": "markdown",
   "metadata": {},
   "source": [
    "As usual you can load the data by using the ``load_by_id`` function but you will notice that the different storage methods\n",
    "are reflected in shape of the data as it is retrieved. "
   ]
  },
  {
   "cell_type": "code",
   "execution_count": 10,
   "metadata": {
    "execution": {
     "iopub.execute_input": "2021-05-16T20:11:54.877214Z",
     "iopub.status.busy": "2021-05-16T20:11:54.876266Z",
     "iopub.status.idle": "2021-05-16T20:11:54.877855Z",
     "shell.execute_reply": "2021-05-16T20:11:54.878272Z"
    }
   },
   "outputs": [],
   "source": [
    "run_id_n = t_numeric_run_ids[0]\n",
    "run_id_a = t_array_run_ids[0]"
   ]
  },
  {
   "cell_type": "code",
   "execution_count": 11,
   "metadata": {
    "execution": {
     "iopub.execute_input": "2021-05-16T20:11:54.881174Z",
     "iopub.status.busy": "2021-05-16T20:11:54.880700Z",
     "iopub.status.idle": "2021-05-16T20:11:54.889349Z",
     "shell.execute_reply": "2021-05-16T20:11:54.888916Z"
    },
    "scrolled": true
   },
   "outputs": [
    {
     "data": {
      "text/plain": [
       "{'x1': {'x1': array([0.70822677, 0.70822677, 0.57932888, 0.57932888, 0.45782536,\n",
       "         0.45782536, 0.02680013, 0.02680013, 0.40242549, 0.40242549,\n",
       "         0.34022279, 0.34022279, 0.66101575, 0.66101575, 0.93393507,\n",
       "         0.93393507, 0.86755508, 0.86755508, 0.83920051, 0.83920051,\n",
       "         0.13247356, 0.13247356, 0.96838321, 0.96838321, 0.95230201,\n",
       "         0.95230201, 0.85432099, 0.85432099, 0.51106339, 0.51106339,\n",
       "         0.96557891, 0.96557891, 0.86838729, 0.86838729, 0.18074427,\n",
       "         0.18074427, 0.99157785, 0.99157785, 0.36607223, 0.36607223,\n",
       "         0.86133836, 0.86133836, 0.79432464, 0.79432464, 0.98726578,\n",
       "         0.98726578, 0.20962726, 0.20962726, 0.40499629, 0.40499629,\n",
       "         0.66903297, 0.66903297, 0.970377  , 0.970377  , 0.35392784,\n",
       "         0.35392784, 0.74245847, 0.74245847, 0.92283333, 0.92283333,\n",
       "         0.11318943, 0.11318943, 0.28800822, 0.28800822, 0.35823875,\n",
       "         0.35823875, 0.47129081, 0.47129081, 0.2270903 , 0.2270903 ,\n",
       "         0.0034855 , 0.0034855 , 0.7665322 , 0.7665322 , 0.59156166,\n",
       "         0.59156166, 0.63827541, 0.63827541, 0.51628497, 0.51628497,\n",
       "         0.82986265, 0.82986265, 0.75176967, 0.75176967, 0.85686681,\n",
       "         0.85686681, 0.4917198 , 0.4917198 , 0.50236229, 0.50236229,\n",
       "         0.49264569, 0.49264569, 0.05500156, 0.05500156, 0.21819574,\n",
       "         0.21819574, 0.45418744, 0.45418744, 0.61307829, 0.61307829,\n",
       "         0.04756638, 0.04756638, 0.66249945, 0.66249945, 0.01711737,\n",
       "         0.01711737, 0.45576113, 0.45576113, 0.12287479, 0.12287479,\n",
       "         0.86431651, 0.86431651, 0.92919559, 0.92919559, 0.95252331,\n",
       "         0.95252331, 0.10814846, 0.10814846, 0.21601016, 0.21601016,\n",
       "         0.59804398, 0.59804398, 0.10164116, 0.10164116, 0.38733838,\n",
       "         0.38733838, 0.10259271, 0.10259271, 0.03316925, 0.03316925,\n",
       "         0.88237257, 0.88237257, 0.33842226, 0.33842226, 0.36146684,\n",
       "         0.36146684, 0.86467972, 0.86467972, 0.46381212, 0.46381212,\n",
       "         0.71595619, 0.71595619, 0.84439087, 0.84439087, 0.57281129,\n",
       "         0.57281129, 0.66296342, 0.66296342, 0.51426596, 0.51426596,\n",
       "         0.97109328, 0.97109328, 0.55012539, 0.55012539, 0.80710089,\n",
       "         0.80710089, 0.1170199 , 0.1170199 , 0.64222164, 0.64222164,\n",
       "         0.05275102, 0.05275102, 0.734113  , 0.734113  , 0.33839265,\n",
       "         0.33839265, 0.95595043, 0.95595043, 0.61771658, 0.61771658,\n",
       "         0.86009337, 0.86009337, 0.52283743, 0.52283743, 0.14413891,\n",
       "         0.14413891, 0.84811084, 0.84811084, 0.76519545, 0.76519545,\n",
       "         0.29637626, 0.29637626, 0.37936605, 0.37936605, 0.65637571,\n",
       "         0.65637571, 0.1997652 , 0.1997652 , 0.70386155, 0.70386155,\n",
       "         0.97919333, 0.97919333, 0.73528174, 0.73528174, 0.60041793,\n",
       "         0.60041793, 0.34177609, 0.34177609, 0.06325583, 0.06325583])}}"
      ]
     },
     "execution_count": 1,
     "metadata": {},
     "output_type": "execute_result"
    }
   ],
   "source": [
    "ds = load_by_id(run_id_n)\n",
    "ds.get_parameter_data('x1')"
   ]
  },
  {
   "cell_type": "markdown",
   "metadata": {},
   "source": [
    "And a dataset stored as binary arrays"
   ]
  },
  {
   "cell_type": "code",
   "execution_count": 12,
   "metadata": {
    "execution": {
     "iopub.execute_input": "2021-05-16T20:11:54.892272Z",
     "iopub.status.busy": "2021-05-16T20:11:54.891797Z",
     "iopub.status.idle": "2021-05-16T20:11:54.941362Z",
     "shell.execute_reply": "2021-05-16T20:11:54.941800Z"
    },
    "scrolled": true
   },
   "outputs": [
    {
     "data": {
      "text/plain": [
       "{'x1': {'x1': array([[0.75112311],\n",
       "         [0.75112311],\n",
       "         [0.58062963],\n",
       "         [0.58062963],\n",
       "         [0.33119772],\n",
       "         [0.33119772],\n",
       "         [0.68177363],\n",
       "         [0.68177363],\n",
       "         [0.04509661],\n",
       "         [0.04509661],\n",
       "         [0.76603787],\n",
       "         [0.76603787],\n",
       "         [0.13150652],\n",
       "         [0.13150652],\n",
       "         [0.2563701 ],\n",
       "         [0.2563701 ],\n",
       "         [0.88230135],\n",
       "         [0.88230135],\n",
       "         [0.96135928],\n",
       "         [0.96135928],\n",
       "         [0.04339518],\n",
       "         [0.04339518],\n",
       "         [0.13661849],\n",
       "         [0.13661849],\n",
       "         [0.04175915],\n",
       "         [0.04175915],\n",
       "         [0.97287571],\n",
       "         [0.97287571],\n",
       "         [0.70896671],\n",
       "         [0.70896671],\n",
       "         [0.3460077 ],\n",
       "         [0.3460077 ],\n",
       "         [0.13643967],\n",
       "         [0.13643967],\n",
       "         [0.93629339],\n",
       "         [0.93629339],\n",
       "         [0.57625608],\n",
       "         [0.57625608],\n",
       "         [0.25837245],\n",
       "         [0.25837245],\n",
       "         [0.69906523],\n",
       "         [0.69906523],\n",
       "         [0.19371073],\n",
       "         [0.19371073],\n",
       "         [0.7629453 ],\n",
       "         [0.7629453 ],\n",
       "         [0.92349923],\n",
       "         [0.92349923],\n",
       "         [0.10462821],\n",
       "         [0.10462821],\n",
       "         [0.422574  ],\n",
       "         [0.422574  ],\n",
       "         [0.6689571 ],\n",
       "         [0.6689571 ],\n",
       "         [0.25976939],\n",
       "         [0.25976939],\n",
       "         [0.18762905],\n",
       "         [0.18762905],\n",
       "         [0.40266613],\n",
       "         [0.40266613],\n",
       "         [0.42061103],\n",
       "         [0.42061103],\n",
       "         [0.41647312],\n",
       "         [0.41647312],\n",
       "         [0.93586306],\n",
       "         [0.93586306],\n",
       "         [0.77757576],\n",
       "         [0.77757576],\n",
       "         [0.7079233 ],\n",
       "         [0.7079233 ],\n",
       "         [0.56414372],\n",
       "         [0.56414372],\n",
       "         [0.01574401],\n",
       "         [0.01574401],\n",
       "         [0.93321315],\n",
       "         [0.93321315],\n",
       "         [0.19834252],\n",
       "         [0.19834252],\n",
       "         [0.75281856],\n",
       "         [0.75281856],\n",
       "         [0.55421642],\n",
       "         [0.55421642],\n",
       "         [0.37044868],\n",
       "         [0.37044868],\n",
       "         [0.71348293],\n",
       "         [0.71348293],\n",
       "         [0.63868773],\n",
       "         [0.63868773],\n",
       "         [0.85883497],\n",
       "         [0.85883497],\n",
       "         [0.63233703],\n",
       "         [0.63233703],\n",
       "         [0.6668756 ],\n",
       "         [0.6668756 ],\n",
       "         [0.8388382 ],\n",
       "         [0.8388382 ],\n",
       "         [0.39949755],\n",
       "         [0.39949755],\n",
       "         [0.77192929],\n",
       "         [0.77192929],\n",
       "         [0.72527003],\n",
       "         [0.72527003],\n",
       "         [0.01693772],\n",
       "         [0.01693772],\n",
       "         [0.13025264],\n",
       "         [0.13025264],\n",
       "         [0.4659541 ],\n",
       "         [0.4659541 ],\n",
       "         [0.75891673],\n",
       "         [0.75891673],\n",
       "         [0.53626407],\n",
       "         [0.53626407],\n",
       "         [0.05824687],\n",
       "         [0.05824687],\n",
       "         [0.8209269 ],\n",
       "         [0.8209269 ],\n",
       "         [0.79593441],\n",
       "         [0.79593441],\n",
       "         [0.55516319],\n",
       "         [0.55516319],\n",
       "         [0.74453968],\n",
       "         [0.74453968],\n",
       "         [0.57886437],\n",
       "         [0.57886437],\n",
       "         [0.16473337],\n",
       "         [0.16473337],\n",
       "         [0.86759882],\n",
       "         [0.86759882],\n",
       "         [0.03599629],\n",
       "         [0.03599629],\n",
       "         [0.02015371],\n",
       "         [0.02015371],\n",
       "         [0.24997219],\n",
       "         [0.24997219],\n",
       "         [0.37738176],\n",
       "         [0.37738176],\n",
       "         [0.10867584],\n",
       "         [0.10867584],\n",
       "         [0.38718138],\n",
       "         [0.38718138],\n",
       "         [0.20777174],\n",
       "         [0.20777174],\n",
       "         [0.67846724],\n",
       "         [0.67846724],\n",
       "         [0.74790828],\n",
       "         [0.74790828],\n",
       "         [0.57272832],\n",
       "         [0.57272832],\n",
       "         [0.96458242],\n",
       "         [0.96458242],\n",
       "         [0.21706635],\n",
       "         [0.21706635],\n",
       "         [0.43296538],\n",
       "         [0.43296538],\n",
       "         [0.47024256],\n",
       "         [0.47024256],\n",
       "         [0.80891793],\n",
       "         [0.80891793],\n",
       "         [0.47296333],\n",
       "         [0.47296333],\n",
       "         [0.32999718],\n",
       "         [0.32999718],\n",
       "         [0.16807512],\n",
       "         [0.16807512],\n",
       "         [0.72125663],\n",
       "         [0.72125663],\n",
       "         [0.52064008],\n",
       "         [0.52064008],\n",
       "         [0.28551758],\n",
       "         [0.28551758],\n",
       "         [0.14677645],\n",
       "         [0.14677645],\n",
       "         [0.02342073],\n",
       "         [0.02342073],\n",
       "         [0.30545565],\n",
       "         [0.30545565],\n",
       "         [0.1807619 ],\n",
       "         [0.1807619 ],\n",
       "         [0.47187791],\n",
       "         [0.47187791],\n",
       "         [0.40302022],\n",
       "         [0.40302022],\n",
       "         [0.76473701],\n",
       "         [0.76473701],\n",
       "         [0.72771072],\n",
       "         [0.72771072],\n",
       "         [0.53448611],\n",
       "         [0.53448611],\n",
       "         [0.47997252],\n",
       "         [0.47997252],\n",
       "         [0.28035978],\n",
       "         [0.28035978],\n",
       "         [0.88209288],\n",
       "         [0.88209288],\n",
       "         [0.81837025],\n",
       "         [0.81837025],\n",
       "         [0.29357908],\n",
       "         [0.29357908],\n",
       "         [0.45447567],\n",
       "         [0.45447567]])}}"
      ]
     },
     "execution_count": 1,
     "metadata": {},
     "output_type": "execute_result"
    }
   ],
   "source": [
    "ds = load_by_id(run_id_a)\n",
    "ds.get_parameter_data('x1')"
   ]
  },
  {
   "cell_type": "code",
   "execution_count": null,
   "metadata": {},
   "outputs": [],
   "source": []
  }
 ],
 "metadata": {
  "kernelspec": {
   "display_name": "Python 3",
   "language": "python",
   "name": "python3"
  },
  "language_info": {
   "codemirror_mode": {
    "name": "ipython",
    "version": 3
   },
   "file_extension": ".py",
   "mimetype": "text/x-python",
   "name": "python",
   "nbconvert_exporter": "python",
   "pygments_lexer": "ipython3",
   "version": "3.7.10"
  },
  "nbsphinx": {
   "timeout": 600
  },
  "toc": {
   "base_numbering": 1,
   "nav_menu": {},
   "number_sections": true,
   "sideBar": true,
   "skip_h1_title": false,
   "title_cell": "Table of Contents",
   "title_sidebar": "Contents",
   "toc_cell": false,
   "toc_position": {},
   "toc_section_display": true,
   "toc_window_display": false
  },
  "varInspector": {
   "cols": {
    "lenName": 16,
    "lenType": 16,
    "lenVar": 40
   },
   "kernels_config": {
    "python": {
     "delete_cmd_postfix": "",
     "delete_cmd_prefix": "del ",
     "library": "var_list.py",
     "varRefreshCmd": "print(var_dic_list())"
    },
    "r": {
     "delete_cmd_postfix": ") ",
     "delete_cmd_prefix": "rm(",
     "library": "var_list.r",
     "varRefreshCmd": "cat(var_dic_list()) "
    }
   },
   "types_to_exclude": [
    "module",
    "function",
    "builtin_function_or_method",
    "instance",
    "_Feature"
   ],
   "window_display": false
  }
 },
 "nbformat": 4,
 "nbformat_minor": 4
}
