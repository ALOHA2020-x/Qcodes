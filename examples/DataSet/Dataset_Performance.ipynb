{
 "cells": [
  {
   "cell_type": "markdown",
   "metadata": {},
   "source": [
    "# DataSet Performance\n",
    "\n",
    "This notebook shows the trade-off between inserting data into a database row-by-row and as binary blobs. Inserting the data row-by-row means that we have direct access to all the data and may perform queries directly on the values of the data. On the other hand, as we shall see, this is much slower than inserting the data directly as binary blobs."
   ]
  },
  {
   "cell_type": "markdown",
   "metadata": {},
   "source": [
    "First, we choose a new location for the database to ensure that we don't add a bunch of benchmarking data to the default one."
   ]
  },
  {
   "cell_type": "code",
   "execution_count": 1,
   "metadata": {},
   "outputs": [
    {
     "name": "stdout",
     "output_type": "stream",
     "text": [
      "Logging hadn't been started.\n",
      "Activating auto-logging. Current session state plus future input saved.\n",
      "Filename       : /home/vsts/.qcodes/logs/command_history.log\n",
      "Mode           : append\n",
      "Output logging : True\n",
      "Raw input log  : False\n",
      "Timestamping   : True\n",
      "State          : active\n"
     ]
    },
    {
     "name": "stdout",
     "output_type": "stream",
     "text": [
      "Qcodes Logfile : /home/vsts/.qcodes/logs/200706-19212-qcodes.log\n"
     ]
    }
   ],
   "source": [
    "import os\n",
    "cwd = os.getcwd()\n",
    "import qcodes as qc\n",
    "qc.config[\"core\"][\"db_location\"] = os.path.join(cwd, 'testing.db')\n"
   ]
  },
  {
   "cell_type": "code",
   "execution_count": 2,
   "metadata": {},
   "outputs": [],
   "source": [
    "%matplotlib inline\n",
    "import time\n",
    "import matplotlib.pyplot as plt\n",
    "import numpy as np\n",
    "\n",
    "import qcodes as qc\n",
    "from qcodes.instrument.parameter import ManualParameter\n",
    "from qcodes.dataset.experiment_container import (Experiment,\n",
    "                                                 load_last_experiment,\n",
    "                                                 new_experiment)\n",
    "from qcodes.dataset.sqlite.database import initialise_database\n",
    "from qcodes import load_or_create_experiment\n",
    "from qcodes.dataset.measurements import Measurement"
   ]
  },
  {
   "cell_type": "code",
   "execution_count": 3,
   "metadata": {},
   "outputs": [
    {
     "name": "stdout",
     "output_type": "stream",
     "text": [
      "\r",
      "0it [00:00, ?it/s]"
     ]
    },
    {
     "name": "stdout",
     "output_type": "stream",
     "text": [
      "\r",
      "Upgrading database; v0 -> v1: : 0it [00:00, ?it/s]"
     ]
    },
    {
     "name": "stdout",
     "output_type": "stream",
     "text": [
      "\r",
      "Upgrading database; v0 -> v1: : 0it [00:00, ?it/s]"
     ]
    },
    {
     "name": "stdout",
     "output_type": "stream",
     "text": [
      "\n",
      "\r",
      "  0%|          | 0/1 [00:00<?, ?it/s]"
     ]
    },
    {
     "name": "stdout",
     "output_type": "stream",
     "text": [
      "\r",
      "Upgrading database; v1 -> v2:   0%|          | 0/1 [00:00<?, ?it/s]"
     ]
    },
    {
     "name": "stdout",
     "output_type": "stream",
     "text": [
      "\r",
      "Upgrading database; v1 -> v2: 100%|██████████| 1/1 [00:00<00:00, 797.55it/s]"
     ]
    },
    {
     "name": "stdout",
     "output_type": "stream",
     "text": [
      "\n",
      "\r",
      "0it [00:00, ?it/s]"
     ]
    },
    {
     "name": "stdout",
     "output_type": "stream",
     "text": [
      "\r",
      "Upgrading database; v2 -> v3: : 0it [00:00, ?it/s]"
     ]
    },
    {
     "name": "stdout",
     "output_type": "stream",
     "text": [
      "\r",
      "Upgrading database; v2 -> v3: : 0it [00:00, ?it/s]"
     ]
    },
    {
     "name": "stdout",
     "output_type": "stream",
     "text": [
      "\n",
      "\r",
      "0it [00:00, ?it/s]"
     ]
    },
    {
     "name": "stdout",
     "output_type": "stream",
     "text": [
      "\r",
      "Upgrading database; v3 -> v4: : 0it [00:00, ?it/s]"
     ]
    },
    {
     "name": "stdout",
     "output_type": "stream",
     "text": [
      "\r",
      "Upgrading database; v3 -> v4: : 0it [00:00, ?it/s]"
     ]
    },
    {
     "name": "stdout",
     "output_type": "stream",
     "text": [
      "\n",
      "\r",
      "  0%|          | 0/1 [00:00<?, ?it/s]"
     ]
    },
    {
     "name": "stdout",
     "output_type": "stream",
     "text": [
      "\r",
      "Upgrading database; v4 -> v5:   0%|          | 0/1 [00:00<?, ?it/s]"
     ]
    },
    {
     "name": "stdout",
     "output_type": "stream",
     "text": [
      "\r",
      "Upgrading database; v4 -> v5: 100%|██████████| 1/1 [00:00<00:00, 527.98it/s]"
     ]
    },
    {
     "name": "stdout",
     "output_type": "stream",
     "text": [
      "\n",
      "\r",
      "0it [00:00, ?it/s]"
     ]
    },
    {
     "name": "stdout",
     "output_type": "stream",
     "text": [
      "\r",
      "Upgrading database; v5 -> v6: : 0it [00:00, ?it/s]"
     ]
    },
    {
     "name": "stdout",
     "output_type": "stream",
     "text": [
      "\r",
      "Upgrading database; v5 -> v6: : 0it [00:00, ?it/s]"
     ]
    },
    {
     "name": "stdout",
     "output_type": "stream",
     "text": [
      "\n",
      "\r",
      "  0%|          | 0/1 [00:00<?, ?it/s]"
     ]
    },
    {
     "name": "stdout",
     "output_type": "stream",
     "text": [
      "\r",
      "Upgrading database; v6 -> v7:   0%|          | 0/1 [00:00<?, ?it/s]"
     ]
    },
    {
     "name": "stdout",
     "output_type": "stream",
     "text": [
      "\r",
      "Upgrading database; v6 -> v7: 100%|██████████| 1/1 [00:00<00:00, 344.56it/s]"
     ]
    },
    {
     "name": "stdout",
     "output_type": "stream",
     "text": [
      "\n",
      "\r",
      "  0%|          | 0/1 [00:00<?, ?it/s]"
     ]
    },
    {
     "name": "stdout",
     "output_type": "stream",
     "text": [
      "\r",
      "Upgrading database; v7 -> v8:   0%|          | 0/1 [00:00<?, ?it/s]"
     ]
    },
    {
     "name": "stdout",
     "output_type": "stream",
     "text": [
      "\r",
      "Upgrading database; v7 -> v8: 100%|██████████| 1/1 [00:00<00:00, 525.54it/s]"
     ]
    },
    {
     "name": "stdout",
     "output_type": "stream",
     "text": [
      "\n",
      "\r",
      "  0%|          | 0/1 [00:00<?, ?it/s]"
     ]
    },
    {
     "name": "stdout",
     "output_type": "stream",
     "text": [
      "\r",
      "Upgrading database; v8 -> v9:   0%|          | 0/1 [00:00<?, ?it/s]"
     ]
    },
    {
     "name": "stdout",
     "output_type": "stream",
     "text": [
      "\r",
      "Upgrading database; v8 -> v9: 100%|██████████| 1/1 [00:00<00:00, 792.72it/s]"
     ]
    },
    {
     "name": "stdout",
     "output_type": "stream",
     "text": [
      "\n"
     ]
    }
   ],
   "source": [
    "initialise_database()\n",
    "exp = load_or_create_experiment(experiment_name='tutorial_exp', sample_name=\"no sample\")"
   ]
  },
  {
   "cell_type": "markdown",
   "metadata": {},
   "source": [
    "Here, we define a simple function to benchmark the time it takes to insert n points with either numeric or array data type.\n",
    "We will compare both the time used to call ``add_result`` and the time used for the full measurement."
   ]
  },
  {
   "cell_type": "code",
   "execution_count": 4,
   "metadata": {},
   "outputs": [],
   "source": [
    "def insert_data(paramtype, npoints, nreps=1):\n",
    "\n",
    "    meas = Measurement(exp=exp)\n",
    "\n",
    "    x1 = ManualParameter('x1')\n",
    "    x2 = ManualParameter('x2')\n",
    "    x3 = ManualParameter('x3')\n",
    "    y1 = ManualParameter('y1')\n",
    "    y2 = ManualParameter('y2')\n",
    "\n",
    "    meas.register_parameter(x1, paramtype=paramtype)\n",
    "    meas.register_parameter(x2, paramtype=paramtype)\n",
    "    meas.register_parameter(x3, paramtype=paramtype)\n",
    "    meas.register_parameter(y1, setpoints=[x1, x2, x3],\n",
    "                            paramtype=paramtype)\n",
    "    meas.register_parameter(y2, setpoints=[x1, x2, x3],\n",
    "                            paramtype=paramtype)\n",
    "    start = time.perf_counter()\n",
    "    with meas.run() as datasaver:\n",
    "        start_adding = time.perf_counter()\n",
    "        for i in range(nreps):\n",
    "            datasaver.add_result((x1, np.random.rand(npoints)),\n",
    "                                 (x2, np.random.rand(npoints)),\n",
    "                                 (x3, np.random.rand(npoints)),\n",
    "                                 (y1, np.random.rand(npoints)),\n",
    "                                 (y2, np.random.rand(npoints)))\n",
    "        stop_adding = time.perf_counter()\n",
    "        run_id = datasaver.run_id\n",
    "    stop = time.perf_counter()\n",
    "    tot_time = stop - start\n",
    "    add_time = stop_adding - start_adding\n",
    "    return tot_time, add_time, run_id"
   ]
  },
  {
   "cell_type": "markdown",
   "metadata": {},
   "source": [
    "## Comparison between numeric/array data and binary blob"
   ]
  },
  {
   "cell_type": "markdown",
   "metadata": {},
   "source": [
    "### Case1: Short experiment time"
   ]
  },
  {
   "cell_type": "code",
   "execution_count": 5,
   "metadata": {},
   "outputs": [
    {
     "name": "stdout",
     "output_type": "stream",
     "text": [
      "Starting experimental run with id: 1. \n",
      "Starting experimental run with id: 2. \n",
      "Starting experimental run with id: 3. \n"
     ]
    },
    {
     "name": "stdout",
     "output_type": "stream",
     "text": [
      "Starting experimental run with id: 4. \n"
     ]
    },
    {
     "name": "stdout",
     "output_type": "stream",
     "text": [
      "Starting experimental run with id: 5. \n",
      "Starting experimental run with id: 6. \n"
     ]
    },
    {
     "name": "stdout",
     "output_type": "stream",
     "text": [
      "Starting experimental run with id: 7. \n"
     ]
    },
    {
     "name": "stdout",
     "output_type": "stream",
     "text": [
      "Starting experimental run with id: 8. \n",
      "Starting experimental run with id: 9. \n"
     ]
    },
    {
     "name": "stdout",
     "output_type": "stream",
     "text": [
      "Starting experimental run with id: 10. \n",
      "Starting experimental run with id: 11. \n"
     ]
    },
    {
     "name": "stdout",
     "output_type": "stream",
     "text": [
      "Starting experimental run with id: 12. \n"
     ]
    },
    {
     "name": "stdout",
     "output_type": "stream",
     "text": [
      "Starting experimental run with id: 13. \n"
     ]
    },
    {
     "name": "stdout",
     "output_type": "stream",
     "text": [
      "Starting experimental run with id: 14. \n"
     ]
    }
   ],
   "source": [
    "sizes = [1,500,1000,2000,3000,4000,5000]\n",
    "t_numeric = []\n",
    "t_numeric_add = []\n",
    "t_array = []\n",
    "t_array_add = []\n",
    "for size in sizes:\n",
    "    tn, tna, run_id_n =  insert_data('numeric', size)\n",
    "    t_numeric.append(tn)\n",
    "    t_numeric_add.append(tna)\n",
    "\n",
    "    ta, taa, run_id_a =  insert_data('array', size)\n",
    "    t_array.append(ta)\n",
    "    t_array_add.append(taa)"
   ]
  },
  {
   "cell_type": "code",
   "execution_count": 6,
   "metadata": {},
   "outputs": [
    {
     "data": {
      "image/png": "[encoded data removed]",
      "text/plain": [
       "<Figure size 432x288 with 1 Axes>"
      ]
     },
     "metadata": {
      "needs_background": "light"
     },
     "output_type": "display_data"
    }
   ],
   "source": [
    "fig, ax = plt.subplots(1,1)\n",
    "ax.plot(sizes, t_numeric, 'o-', label='Inserting row-by-row')\n",
    "ax.plot(sizes, t_numeric_add, 'o-', label='Inserting row-by-row: add_result only')\n",
    "ax.plot(sizes, t_array, 'd-', label='Inserting as binary blob')\n",
    "ax.plot(sizes, t_array_add, 'd-', label='Inserting as binary blob: add_result only')\n",
    "ax.legend()\n",
    "ax.set_xlabel('Array length')\n",
    "ax.set_ylabel('Time (s)')\n",
    "fig.tight_layout()"
   ]
  },
  {
   "cell_type": "markdown",
   "metadata": {},
   "source": [
    "As shown in the latter figure, the time to setup and and close the experiment is approximately 0.4 sec. In case of small array sizes, the difference between inserting values of data as arrays and inserting them row-by-row is relatively unimportant. At larger array sizes, i.e. above 10000 points, the cost of writing data as individual datapoints starts to become important.\n"
   ]
  },
  {
   "cell_type": "markdown",
   "metadata": {},
   "source": [
    "### Case2: Long experiment time "
   ]
  },
  {
   "cell_type": "code",
   "execution_count": 7,
   "metadata": {},
   "outputs": [
    {
     "name": "stdout",
     "output_type": "stream",
     "text": [
      "Starting experimental run with id: 15. \n",
      "Starting experimental run with id: 16. \n",
      "Starting experimental run with id: 17. \n"
     ]
    },
    {
     "name": "stdout",
     "output_type": "stream",
     "text": [
      "Starting experimental run with id: 18. \n",
      "Starting experimental run with id: 19. \n"
     ]
    },
    {
     "name": "stdout",
     "output_type": "stream",
     "text": [
      "Starting experimental run with id: 20. \n"
     ]
    },
    {
     "name": "stdout",
     "output_type": "stream",
     "text": [
      "Starting experimental run with id: 21. \n"
     ]
    },
    {
     "name": "stdout",
     "output_type": "stream",
     "text": [
      "Starting experimental run with id: 22. \n"
     ]
    },
    {
     "name": "stdout",
     "output_type": "stream",
     "text": [
      "Starting experimental run with id: 23. \n"
     ]
    },
    {
     "name": "stdout",
     "output_type": "stream",
     "text": [
      "Starting experimental run with id: 24. \n"
     ]
    },
    {
     "name": "stdout",
     "output_type": "stream",
     "text": [
      "Starting experimental run with id: 25. \n"
     ]
    },
    {
     "name": "stdout",
     "output_type": "stream",
     "text": [
      "Starting experimental run with id: 26. \n"
     ]
    },
    {
     "name": "stdout",
     "output_type": "stream",
     "text": [
      "Starting experimental run with id: 27. \n"
     ]
    },
    {
     "name": "stdout",
     "output_type": "stream",
     "text": [
      "Starting experimental run with id: 28. \n"
     ]
    }
   ],
   "source": [
    "sizes = [1,500,1000,2000,3000,4000,5000]\n",
    "nreps = 100\n",
    "t_numeric = []\n",
    "t_numeric_add = []\n",
    "t_numeric_run_ids = []\n",
    "t_array = []\n",
    "t_array_add = []\n",
    "t_array_run_ids = []\n",
    "for size in sizes:\n",
    "    tn, tna, run_id_n =  insert_data('numeric', size, nreps=nreps)\n",
    "    t_numeric.append(tn)\n",
    "    t_numeric_add.append(tna)\n",
    "    t_numeric_run_ids.append(run_id_n)\n",
    "\n",
    "    ta, taa, run_id_a =  insert_data('array', size, nreps=nreps)\n",
    "    t_array.append(ta)\n",
    "    t_array_add.append(taa)\n",
    "    t_array_run_ids.append(run_id_a)"
   ]
  },
  {
   "cell_type": "code",
   "execution_count": 8,
   "metadata": {
    "scrolled": true
   },
   "outputs": [
    {
     "data": {
      "image/png": "[encoded data removed]",
      "text/plain": [
       "<Figure size 432x288 with 1 Axes>"
      ]
     },
     "metadata": {
      "needs_background": "light"
     },
     "output_type": "display_data"
    }
   ],
   "source": [
    "fig, ax = plt.subplots(1,1)\n",
    "ax.plot(sizes, t_numeric, 'o-', label='Inserting row-by-row')\n",
    "ax.plot(sizes, t_numeric_add, 'o-', label='Inserting row-by-row: add_result only')\n",
    "ax.plot(sizes, t_array, 'd-', label='Inserting as binary blob')\n",
    "ax.plot(sizes, t_array_add, 'd-', label='Inserting as binary blob: add_result only')\n",
    "ax.legend()\n",
    "ax.set_xlabel('Array length')\n",
    "ax.set_ylabel('Time (s)')\n",
    "fig.tight_layout()"
   ]
  },
  {
   "cell_type": "markdown",
   "metadata": {},
   "source": [
    "However, as we increase the length of the experiment, as seen here by repeating the insertion 100 times, we see a big difference between inserting values of the data row-by-row and inserting it as a binary blob."
   ]
  },
  {
   "cell_type": "markdown",
   "metadata": {},
   "source": [
    "## Loading the data "
   ]
  },
  {
   "cell_type": "code",
   "execution_count": 9,
   "metadata": {},
   "outputs": [],
   "source": [
    "from qcodes.dataset.data_set import load_by_id\n",
    "from qcodes.dataset.data_export import get_data_by_id"
   ]
  },
  {
   "cell_type": "markdown",
   "metadata": {},
   "source": [
    "As usual you can load the data by using the ``load_by_id`` function but you will notice that the different storage methods\n",
    "are reflected in shape of the data as it is retrieved. "
   ]
  },
  {
   "cell_type": "code",
   "execution_count": 10,
   "metadata": {},
   "outputs": [],
   "source": [
    "run_id_n = t_numeric_run_ids[0]\n",
    "run_id_a = t_array_run_ids[0]"
   ]
  },
  {
   "cell_type": "code",
   "execution_count": 11,
   "metadata": {
    "scrolled": true
   },
   "outputs": [
    {
     "data": {
      "text/plain": [
       "{'x1': {'x1': array([0.26915765, 0.26915765, 0.35585636, 0.35585636, 0.49966022,\n",
       "         0.49966022, 0.72398696, 0.72398696, 0.278578  , 0.278578  ,\n",
       "         0.91046997, 0.91046997, 0.27335308, 0.27335308, 0.44825444,\n",
       "         0.44825444, 0.87057781, 0.87057781, 0.37521175, 0.37521175,\n",
       "         0.00207682, 0.00207682, 0.56995318, 0.56995318, 0.43170499,\n",
       "         0.43170499, 0.91447673, 0.91447673, 0.92747652, 0.92747652,\n",
       "         0.84590522, 0.84590522, 0.11214986, 0.11214986, 0.41510566,\n",
       "         0.41510566, 0.80868297, 0.80868297, 0.48028477, 0.48028477,\n",
       "         0.50288673, 0.50288673, 0.3489531 , 0.3489531 , 0.39514678,\n",
       "         0.39514678, 0.0760332 , 0.0760332 , 0.07299248, 0.07299248,\n",
       "         0.17083625, 0.17083625, 0.43071607, 0.43071607, 0.10000685,\n",
       "         0.10000685, 0.30890469, 0.30890469, 0.52093138, 0.52093138,\n",
       "         0.10770187, 0.10770187, 0.84099715, 0.84099715, 0.37797071,\n",
       "         0.37797071, 0.5853539 , 0.5853539 , 0.74865452, 0.74865452,\n",
       "         0.27593025, 0.27593025, 0.2830212 , 0.2830212 , 0.07941635,\n",
       "         0.07941635, 0.44832895, 0.44832895, 0.58653256, 0.58653256,\n",
       "         0.50891807, 0.50891807, 0.90192511, 0.90192511, 0.75064879,\n",
       "         0.75064879, 0.49354518, 0.49354518, 0.99406097, 0.99406097,\n",
       "         0.7273999 , 0.7273999 , 0.91382378, 0.91382378, 0.04927018,\n",
       "         0.04927018, 0.61586644, 0.61586644, 0.1914956 , 0.1914956 ,\n",
       "         0.66572963, 0.66572963, 0.79451553, 0.79451553, 0.54657506,\n",
       "         0.54657506, 0.18096307, 0.18096307, 0.06202549, 0.06202549,\n",
       "         0.50874883, 0.50874883, 0.25206752, 0.25206752, 0.34645725,\n",
       "         0.34645725, 0.03387581, 0.03387581, 0.0249737 , 0.0249737 ,\n",
       "         0.75899014, 0.75899014, 0.30067514, 0.30067514, 0.00458702,\n",
       "         0.00458702, 0.56468281, 0.56468281, 0.58731413, 0.58731413,\n",
       "         0.39720102, 0.39720102, 0.21717283, 0.21717283, 0.824415  ,\n",
       "         0.824415  , 0.79874205, 0.79874205, 0.42735243, 0.42735243,\n",
       "         0.93643281, 0.93643281, 0.72073338, 0.72073338, 0.63976936,\n",
       "         0.63976936, 0.39293031, 0.39293031, 0.55531309, 0.55531309,\n",
       "         0.69335628, 0.69335628, 0.26717739, 0.26717739, 0.38162435,\n",
       "         0.38162435, 0.01956527, 0.01956527, 0.93472843, 0.93472843,\n",
       "         0.92912079, 0.92912079, 0.5997112 , 0.5997112 , 0.10335302,\n",
       "         0.10335302, 0.08386541, 0.08386541, 0.3303819 , 0.3303819 ,\n",
       "         0.97820841, 0.97820841, 0.4156297 , 0.4156297 , 0.67097641,\n",
       "         0.67097641, 0.28366256, 0.28366256, 0.80082608, 0.80082608,\n",
       "         0.35089484, 0.35089484, 0.08581344, 0.08581344, 0.4791124 ,\n",
       "         0.4791124 , 0.57147186, 0.57147186, 0.09637425, 0.09637425,\n",
       "         0.51703915, 0.51703915, 0.98373977, 0.98373977, 0.92765497,\n",
       "         0.92765497, 0.91660607, 0.91660607, 0.79332763, 0.79332763])}}"
      ]
     },
     "execution_count": 11,
     "metadata": {},
     "output_type": "execute_result"
    }
   ],
   "source": [
    "ds = load_by_id(run_id_n)\n",
    "ds.get_parameter_data('x1')"
   ]
  },
  {
   "cell_type": "markdown",
   "metadata": {},
   "source": [
    "And a dataset stored as binary arrays"
   ]
  },
  {
   "cell_type": "code",
   "execution_count": 12,
   "metadata": {
    "scrolled": true
   },
   "outputs": [
    {
     "data": {
      "text/plain": [
       "{'x1': {'x1': array([[0.01580973],\n",
       "         [0.01580973],\n",
       "         [0.36871802],\n",
       "         [0.36871802],\n",
       "         [0.76834786],\n",
       "         [0.76834786],\n",
       "         [0.1758037 ],\n",
       "         [0.1758037 ],\n",
       "         [0.79013321],\n",
       "         [0.79013321],\n",
       "         [0.04514856],\n",
       "         [0.04514856],\n",
       "         [0.0825184 ],\n",
       "         [0.0825184 ],\n",
       "         [0.00911738],\n",
       "         [0.00911738],\n",
       "         [0.6863115 ],\n",
       "         [0.6863115 ],\n",
       "         [0.26851246],\n",
       "         [0.26851246],\n",
       "         [0.60537768],\n",
       "         [0.60537768],\n",
       "         [0.13739282],\n",
       "         [0.13739282],\n",
       "         [0.17456053],\n",
       "         [0.17456053],\n",
       "         [0.66978823],\n",
       "         [0.66978823],\n",
       "         [0.60225938],\n",
       "         [0.60225938],\n",
       "         [0.73525903],\n",
       "         [0.73525903],\n",
       "         [0.61445225],\n",
       "         [0.61445225],\n",
       "         [0.6740465 ],\n",
       "         [0.6740465 ],\n",
       "         [0.28108624],\n",
       "         [0.28108624],\n",
       "         [0.15784838],\n",
       "         [0.15784838],\n",
       "         [0.45777052],\n",
       "         [0.45777052],\n",
       "         [0.68149351],\n",
       "         [0.68149351],\n",
       "         [0.62491672],\n",
       "         [0.62491672],\n",
       "         [0.21698138],\n",
       "         [0.21698138],\n",
       "         [0.27009686],\n",
       "         [0.27009686],\n",
       "         [0.56237101],\n",
       "         [0.56237101],\n",
       "         [0.52110463],\n",
       "         [0.52110463],\n",
       "         [0.69207075],\n",
       "         [0.69207075],\n",
       "         [0.92493399],\n",
       "         [0.92493399],\n",
       "         [0.36439762],\n",
       "         [0.36439762],\n",
       "         [0.57217216],\n",
       "         [0.57217216],\n",
       "         [0.59118708],\n",
       "         [0.59118708],\n",
       "         [0.01402872],\n",
       "         [0.01402872],\n",
       "         [0.68744101],\n",
       "         [0.68744101],\n",
       "         [0.80901763],\n",
       "         [0.80901763],\n",
       "         [0.31561507],\n",
       "         [0.31561507],\n",
       "         [0.32332856],\n",
       "         [0.32332856],\n",
       "         [0.50207351],\n",
       "         [0.50207351],\n",
       "         [0.03279633],\n",
       "         [0.03279633],\n",
       "         [0.99649731],\n",
       "         [0.99649731],\n",
       "         [0.75770002],\n",
       "         [0.75770002],\n",
       "         [0.54695627],\n",
       "         [0.54695627],\n",
       "         [0.2577737 ],\n",
       "         [0.2577737 ],\n",
       "         [0.22725877],\n",
       "         [0.22725877],\n",
       "         [0.995742  ],\n",
       "         [0.995742  ],\n",
       "         [0.86301581],\n",
       "         [0.86301581],\n",
       "         [0.04274571],\n",
       "         [0.04274571],\n",
       "         [0.67124552],\n",
       "         [0.67124552],\n",
       "         [0.16503621],\n",
       "         [0.16503621],\n",
       "         [0.11551252],\n",
       "         [0.11551252],\n",
       "         [0.61866174],\n",
       "         [0.61866174],\n",
       "         [0.42813152],\n",
       "         [0.42813152],\n",
       "         [0.82250086],\n",
       "         [0.82250086],\n",
       "         [0.73616324],\n",
       "         [0.73616324],\n",
       "         [0.54292264],\n",
       "         [0.54292264],\n",
       "         [0.54583702],\n",
       "         [0.54583702],\n",
       "         [0.66667638],\n",
       "         [0.66667638],\n",
       "         [0.8866976 ],\n",
       "         [0.8866976 ],\n",
       "         [0.43005746],\n",
       "         [0.43005746],\n",
       "         [0.01333523],\n",
       "         [0.01333523],\n",
       "         [0.25213662],\n",
       "         [0.25213662],\n",
       "         [0.76619602],\n",
       "         [0.76619602],\n",
       "         [0.83988326],\n",
       "         [0.83988326],\n",
       "         [0.18233687],\n",
       "         [0.18233687],\n",
       "         [0.51733404],\n",
       "         [0.51733404],\n",
       "         [0.67275358],\n",
       "         [0.67275358],\n",
       "         [0.20560198],\n",
       "         [0.20560198],\n",
       "         [0.26935496],\n",
       "         [0.26935496],\n",
       "         [0.04910778],\n",
       "         [0.04910778],\n",
       "         [0.69321465],\n",
       "         [0.69321465],\n",
       "         [0.80812784],\n",
       "         [0.80812784],\n",
       "         [0.1453882 ],\n",
       "         [0.1453882 ],\n",
       "         [0.62728997],\n",
       "         [0.62728997],\n",
       "         [0.38036445],\n",
       "         [0.38036445],\n",
       "         [0.0879367 ],\n",
       "         [0.0879367 ],\n",
       "         [0.17786537],\n",
       "         [0.17786537],\n",
       "         [0.29011139],\n",
       "         [0.29011139],\n",
       "         [0.2505962 ],\n",
       "         [0.2505962 ],\n",
       "         [0.99461727],\n",
       "         [0.99461727],\n",
       "         [0.96897602],\n",
       "         [0.96897602],\n",
       "         [0.26008191],\n",
       "         [0.26008191],\n",
       "         [0.01304201],\n",
       "         [0.01304201],\n",
       "         [0.59093006],\n",
       "         [0.59093006],\n",
       "         [0.00303835],\n",
       "         [0.00303835],\n",
       "         [0.61377387],\n",
       "         [0.61377387],\n",
       "         [0.83675423],\n",
       "         [0.83675423],\n",
       "         [0.33551988],\n",
       "         [0.33551988],\n",
       "         [0.60768441],\n",
       "         [0.60768441],\n",
       "         [0.09035092],\n",
       "         [0.09035092],\n",
       "         [0.38753779],\n",
       "         [0.38753779],\n",
       "         [0.99410754],\n",
       "         [0.99410754],\n",
       "         [0.07525762],\n",
       "         [0.07525762],\n",
       "         [0.45723638],\n",
       "         [0.45723638],\n",
       "         [0.43829373],\n",
       "         [0.43829373],\n",
       "         [0.83531014],\n",
       "         [0.83531014],\n",
       "         [0.87337048],\n",
       "         [0.87337048],\n",
       "         [0.35449968],\n",
       "         [0.35449968],\n",
       "         [0.29059229],\n",
       "         [0.29059229],\n",
       "         [0.37808552],\n",
       "         [0.37808552],\n",
       "         [0.15706572],\n",
       "         [0.15706572]])}}"
      ]
     },
     "execution_count": 12,
     "metadata": {},
     "output_type": "execute_result"
    }
   ],
   "source": [
    "ds = load_by_id(run_id_a)\n",
    "ds.get_parameter_data('x1')"
   ]
  },
  {
   "cell_type": "code",
   "execution_count": null,
   "metadata": {},
   "outputs": [],
   "source": []
  }
 ],
 "metadata": {
  "kernelspec": {
   "display_name": "Python 3",
   "language": "python",
   "name": "python3"
  },
  "language_info": {
   "codemirror_mode": {
    "name": "ipython",
    "version": 3
   },
   "file_extension": ".py",
   "mimetype": "text/x-python",
   "name": "python",
   "nbconvert_exporter": "python",
   "pygments_lexer": "ipython3",
   "version": "3.7.7"
  },
  "nbsphinx": {
   "timeout": 600
  },
  "toc": {
   "base_numbering": 1,
   "nav_menu": {},
   "number_sections": true,
   "sideBar": true,
   "skip_h1_title": false,
   "title_cell": "Table of Contents",
   "title_sidebar": "Contents",
   "toc_cell": false,
   "toc_position": {},
   "toc_section_display": true,
   "toc_window_display": false
  },
  "varInspector": {
   "cols": {
    "lenName": 16,
    "lenType": 16,
    "lenVar": 40
   },
   "kernels_config": {
    "python": {
     "delete_cmd_postfix": "",
     "delete_cmd_prefix": "del ",
     "library": "var_list.py",
     "varRefreshCmd": "print(var_dic_list())"
    },
    "r": {
     "delete_cmd_postfix": ") ",
     "delete_cmd_prefix": "rm(",
     "library": "var_list.r",
     "varRefreshCmd": "cat(var_dic_list()) "
    }
   },
   "types_to_exclude": [
    "module",
    "function",
    "builtin_function_or_method",
    "instance",
    "_Feature"
   ],
   "window_display": false
  }
 },
 "nbformat": 4,
 "nbformat_minor": 2
}
