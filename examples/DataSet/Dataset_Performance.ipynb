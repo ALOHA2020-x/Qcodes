{
 "cells": [
  {
   "cell_type": "markdown",
   "metadata": {},
   "source": [
    "# DataSet Performance\n",
    "\n",
    "This notebook shows the trade-off between inserting data into a database row-by-row and as binary blobs. Inserting the data row-by-row means that we have direct access to all the data and may perform queries directly on the values of the data. On the other hand, as we shall see, this is much slower than inserting the data directly as binary blobs."
   ]
  },
  {
   "cell_type": "markdown",
   "metadata": {},
   "source": [
    "First, we choose a new location for the database to ensure that we don't add a bunch of benchmarking data to the default one."
   ]
  },
  {
   "cell_type": "code",
   "execution_count": 1,
   "metadata": {},
   "outputs": [
    {
     "name": "stdout",
     "output_type": "stream",
     "text": [
      "Logging hadn't been started.\n",
      "Activating auto-logging. Current session state plus future input saved.\n",
      "Filename       : /home/vsts/.qcodes/logs/command_history.log\n",
      "Mode           : append\n",
      "Output logging : True\n",
      "Raw input log  : False\n",
      "Timestamping   : True\n",
      "State          : active\n"
     ]
    },
    {
     "name": "stdout",
     "output_type": "stream",
     "text": [
      "Qcodes Logfile : /home/vsts/.qcodes/logs/200608-19497-qcodes.log\n"
     ]
    }
   ],
   "source": [
    "import os\n",
    "cwd = os.getcwd()\n",
    "import qcodes as qc\n",
    "qc.config[\"core\"][\"db_location\"] = os.path.join(cwd, 'testing.db')\n"
   ]
  },
  {
   "cell_type": "code",
   "execution_count": 2,
   "metadata": {},
   "outputs": [],
   "source": [
    "%matplotlib inline\n",
    "import time\n",
    "import matplotlib.pyplot as plt\n",
    "import numpy as np\n",
    "\n",
    "import qcodes as qc\n",
    "from qcodes.instrument.parameter import ManualParameter\n",
    "from qcodes.dataset.experiment_container import (Experiment,\n",
    "                                                 load_last_experiment,\n",
    "                                                 new_experiment)\n",
    "from qcodes.dataset.sqlite.database import initialise_database\n",
    "from qcodes import load_or_create_experiment\n",
    "from qcodes.dataset.measurements import Measurement"
   ]
  },
  {
   "cell_type": "code",
   "execution_count": 3,
   "metadata": {},
   "outputs": [
    {
     "name": "stdout",
     "output_type": "stream",
     "text": [
      "\r",
      "0it [00:00, ?it/s]"
     ]
    },
    {
     "name": "stdout",
     "output_type": "stream",
     "text": [
      "\r",
      "Upgrading database; v0 -> v1: : 0it [00:00, ?it/s]"
     ]
    },
    {
     "name": "stdout",
     "output_type": "stream",
     "text": [
      "\r",
      "Upgrading database; v0 -> v1: : 0it [00:00, ?it/s]"
     ]
    },
    {
     "name": "stdout",
     "output_type": "stream",
     "text": [
      "\n",
      "\r",
      "  0%|          | 0/1 [00:00<?, ?it/s]"
     ]
    },
    {
     "name": "stdout",
     "output_type": "stream",
     "text": [
      "\r",
      "Upgrading database; v1 -> v2:   0%|          | 0/1 [00:00<?, ?it/s]"
     ]
    },
    {
     "name": "stdout",
     "output_type": "stream",
     "text": [
      "\r",
      "Upgrading database; v1 -> v2: 100%|██████████| 1/1 [00:00<00:00, 785.89it/s]"
     ]
    },
    {
     "name": "stdout",
     "output_type": "stream",
     "text": [
      "\n",
      "\r",
      "0it [00:00, ?it/s]"
     ]
    },
    {
     "name": "stdout",
     "output_type": "stream",
     "text": [
      "\r",
      "Upgrading database; v2 -> v3: : 0it [00:00, ?it/s]"
     ]
    },
    {
     "name": "stdout",
     "output_type": "stream",
     "text": [
      "\r",
      "Upgrading database; v2 -> v3: : 0it [00:00, ?it/s]"
     ]
    },
    {
     "name": "stdout",
     "output_type": "stream",
     "text": [
      "\n",
      "\r",
      "0it [00:00, ?it/s]"
     ]
    },
    {
     "name": "stdout",
     "output_type": "stream",
     "text": [
      "\r",
      "Upgrading database; v3 -> v4: : 0it [00:00, ?it/s]"
     ]
    },
    {
     "name": "stdout",
     "output_type": "stream",
     "text": [
      "\r",
      "Upgrading database; v3 -> v4: : 0it [00:00, ?it/s]"
     ]
    },
    {
     "name": "stdout",
     "output_type": "stream",
     "text": [
      "\n",
      "\r",
      "  0%|          | 0/1 [00:00<?, ?it/s]"
     ]
    },
    {
     "name": "stdout",
     "output_type": "stream",
     "text": [
      "\r",
      "Upgrading database; v4 -> v5:   0%|          | 0/1 [00:00<?, ?it/s]"
     ]
    },
    {
     "name": "stdout",
     "output_type": "stream",
     "text": [
      "\r",
      "Upgrading database; v4 -> v5: 100%|██████████| 1/1 [00:00<00:00, 756.68it/s]"
     ]
    },
    {
     "name": "stdout",
     "output_type": "stream",
     "text": [
      "\n",
      "\r",
      "0it [00:00, ?it/s]"
     ]
    },
    {
     "name": "stdout",
     "output_type": "stream",
     "text": [
      "\r",
      "Upgrading database; v5 -> v6: : 0it [00:00, ?it/s]"
     ]
    },
    {
     "name": "stdout",
     "output_type": "stream",
     "text": [
      "\r",
      "Upgrading database; v5 -> v6: : 0it [00:00, ?it/s]"
     ]
    },
    {
     "name": "stdout",
     "output_type": "stream",
     "text": [
      "\n",
      "\r",
      "  0%|          | 0/1 [00:00<?, ?it/s]"
     ]
    },
    {
     "name": "stdout",
     "output_type": "stream",
     "text": [
      "\r",
      "Upgrading database; v6 -> v7:   0%|          | 0/1 [00:00<?, ?it/s]"
     ]
    },
    {
     "name": "stdout",
     "output_type": "stream",
     "text": [
      "\r",
      "Upgrading database; v6 -> v7: 100%|██████████| 1/1 [00:00<00:00, 392.28it/s]"
     ]
    },
    {
     "name": "stdout",
     "output_type": "stream",
     "text": [
      "\n",
      "\r",
      "  0%|          | 0/1 [00:00<?, ?it/s]"
     ]
    },
    {
     "name": "stdout",
     "output_type": "stream",
     "text": [
      "\r",
      "Upgrading database; v7 -> v8:   0%|          | 0/1 [00:00<?, ?it/s]"
     ]
    },
    {
     "name": "stdout",
     "output_type": "stream",
     "text": [
      "\r",
      "Upgrading database; v7 -> v8: 100%|██████████| 1/1 [00:00<00:00, 720.30it/s]"
     ]
    },
    {
     "name": "stdout",
     "output_type": "stream",
     "text": [
      "\n",
      "\r",
      "  0%|          | 0/1 [00:00<?, ?it/s]"
     ]
    },
    {
     "name": "stdout",
     "output_type": "stream",
     "text": [
      "\r",
      "Upgrading database; v8 -> v9:   0%|          | 0/1 [00:00<?, ?it/s]"
     ]
    },
    {
     "name": "stdout",
     "output_type": "stream",
     "text": [
      "\r",
      "Upgrading database; v8 -> v9: 100%|██████████| 1/1 [00:00<00:00, 982.73it/s]"
     ]
    },
    {
     "name": "stdout",
     "output_type": "stream",
     "text": [
      "\n"
     ]
    }
   ],
   "source": [
    "initialise_database()\n",
    "exp = load_or_create_experiment(experiment_name='tutorial_exp', sample_name=\"no sample\")"
   ]
  },
  {
   "cell_type": "markdown",
   "metadata": {},
   "source": [
    "Here, we define a simple function to benchmark the time it takes to insert n points with either numeric or array data type.\n",
    "We will compare both the time used to call ``add_result`` and the time used for the full measurement."
   ]
  },
  {
   "cell_type": "code",
   "execution_count": 4,
   "metadata": {},
   "outputs": [],
   "source": [
    "def insert_data(paramtype, npoints, nreps=1):\n",
    "\n",
    "    meas = Measurement(exp=exp)\n",
    "\n",
    "    x1 = ManualParameter('x1')\n",
    "    x2 = ManualParameter('x2')\n",
    "    x3 = ManualParameter('x3')\n",
    "    y1 = ManualParameter('y1')\n",
    "    y2 = ManualParameter('y2')\n",
    "\n",
    "    meas.register_parameter(x1, paramtype=paramtype)\n",
    "    meas.register_parameter(x2, paramtype=paramtype)\n",
    "    meas.register_parameter(x3, paramtype=paramtype)\n",
    "    meas.register_parameter(y1, setpoints=[x1, x2, x3],\n",
    "                            paramtype=paramtype)\n",
    "    meas.register_parameter(y2, setpoints=[x1, x2, x3],\n",
    "                            paramtype=paramtype)\n",
    "    start = time.perf_counter()\n",
    "    with meas.run() as datasaver:\n",
    "        start_adding = time.perf_counter()\n",
    "        for i in range(nreps):\n",
    "            datasaver.add_result((x1, np.random.rand(npoints)),\n",
    "                                 (x2, np.random.rand(npoints)),\n",
    "                                 (x3, np.random.rand(npoints)),\n",
    "                                 (y1, np.random.rand(npoints)),\n",
    "                                 (y2, np.random.rand(npoints)))\n",
    "        stop_adding = time.perf_counter()\n",
    "        run_id = datasaver.run_id\n",
    "    stop = time.perf_counter()\n",
    "    tot_time = stop - start\n",
    "    add_time = stop_adding - start_adding\n",
    "    return tot_time, add_time, run_id"
   ]
  },
  {
   "cell_type": "markdown",
   "metadata": {},
   "source": [
    "## Comparison between numeric/array data and binary blob"
   ]
  },
  {
   "cell_type": "markdown",
   "metadata": {},
   "source": [
    "### Case1: Short experiment time"
   ]
  },
  {
   "cell_type": "code",
   "execution_count": 5,
   "metadata": {},
   "outputs": [
    {
     "name": "stdout",
     "output_type": "stream",
     "text": [
      "Starting experimental run with id: 1. \n",
      "Starting experimental run with id: 2. \n",
      "Starting experimental run with id: 3. \n"
     ]
    },
    {
     "name": "stdout",
     "output_type": "stream",
     "text": [
      "Starting experimental run with id: 4. \n"
     ]
    },
    {
     "name": "stdout",
     "output_type": "stream",
     "text": [
      "Starting experimental run with id: 5. \n"
     ]
    },
    {
     "name": "stdout",
     "output_type": "stream",
     "text": [
      "Starting experimental run with id: 6. \n"
     ]
    },
    {
     "name": "stdout",
     "output_type": "stream",
     "text": [
      "Starting experimental run with id: 7. \n"
     ]
    },
    {
     "name": "stdout",
     "output_type": "stream",
     "text": [
      "Starting experimental run with id: 8. \n"
     ]
    },
    {
     "name": "stdout",
     "output_type": "stream",
     "text": [
      "Starting experimental run with id: 9. \n"
     ]
    },
    {
     "name": "stdout",
     "output_type": "stream",
     "text": [
      "Starting experimental run with id: 10. \n",
      "Starting experimental run with id: 11. \n"
     ]
    },
    {
     "name": "stdout",
     "output_type": "stream",
     "text": [
      "Starting experimental run with id: 12. \n"
     ]
    },
    {
     "name": "stdout",
     "output_type": "stream",
     "text": [
      "Starting experimental run with id: 13. \n"
     ]
    },
    {
     "name": "stdout",
     "output_type": "stream",
     "text": [
      "Starting experimental run with id: 14. \n"
     ]
    }
   ],
   "source": [
    "sizes = [1,500,1000,2000,3000,4000,5000]\n",
    "t_numeric = []\n",
    "t_numeric_add = []\n",
    "t_array = []\n",
    "t_array_add = []\n",
    "for size in sizes:\n",
    "    tn, tna, run_id_n =  insert_data('numeric', size)\n",
    "    t_numeric.append(tn)\n",
    "    t_numeric_add.append(tna)\n",
    "\n",
    "    ta, taa, run_id_a =  insert_data('array', size)\n",
    "    t_array.append(ta)\n",
    "    t_array_add.append(taa)"
   ]
  },
  {
   "cell_type": "code",
   "execution_count": 6,
   "metadata": {},
   "outputs": [
    {
     "data": {
      "image/png": "[encoded data removed]",
      "text/plain": [
       "<Figure size 432x288 with 1 Axes>"
      ]
     },
     "metadata": {
      "needs_background": "light"
     },
     "output_type": "display_data"
    }
   ],
   "source": [
    "fig, ax = plt.subplots(1,1)\n",
    "ax.plot(sizes, t_numeric, 'o-', label='Inserting row-by-row')\n",
    "ax.plot(sizes, t_numeric_add, 'o-', label='Inserting row-by-row: add_result only')\n",
    "ax.plot(sizes, t_array, 'd-', label='Inserting as binary blob')\n",
    "ax.plot(sizes, t_array_add, 'd-', label='Inserting as binary blob: add_result only')\n",
    "ax.legend()\n",
    "ax.set_xlabel('Array length')\n",
    "ax.set_ylabel('Time (s)')\n",
    "fig.tight_layout()"
   ]
  },
  {
   "cell_type": "markdown",
   "metadata": {},
   "source": [
    "As shown in the latter figure, the time to setup and and close the experiment is approximately 0.4 sec. In case of small array sizes, the difference between inserting values of data as arrays and inserting them row-by-row is relatively unimportant. At larger array sizes, i.e. above 10000 points, the cost of writing data as individual datapoints starts to become important.\n"
   ]
  },
  {
   "cell_type": "markdown",
   "metadata": {},
   "source": [
    "### Case2: Long experiment time "
   ]
  },
  {
   "cell_type": "code",
   "execution_count": 7,
   "metadata": {},
   "outputs": [
    {
     "name": "stdout",
     "output_type": "stream",
     "text": [
      "Starting experimental run with id: 15. \n",
      "Starting experimental run with id: 16. \n",
      "Starting experimental run with id: 17. \n"
     ]
    },
    {
     "name": "stdout",
     "output_type": "stream",
     "text": [
      "Starting experimental run with id: 18. \n",
      "Starting experimental run with id: 19. \n"
     ]
    },
    {
     "name": "stdout",
     "output_type": "stream",
     "text": [
      "Starting experimental run with id: 20. \n"
     ]
    },
    {
     "name": "stdout",
     "output_type": "stream",
     "text": [
      "Starting experimental run with id: 21. \n"
     ]
    },
    {
     "name": "stdout",
     "output_type": "stream",
     "text": [
      "Starting experimental run with id: 22. \n"
     ]
    },
    {
     "name": "stdout",
     "output_type": "stream",
     "text": [
      "Starting experimental run with id: 23. \n"
     ]
    },
    {
     "name": "stdout",
     "output_type": "stream",
     "text": [
      "Starting experimental run with id: 24. \n"
     ]
    },
    {
     "name": "stdout",
     "output_type": "stream",
     "text": [
      "Starting experimental run with id: 25. \n"
     ]
    },
    {
     "name": "stdout",
     "output_type": "stream",
     "text": [
      "Starting experimental run with id: 26. \n"
     ]
    },
    {
     "name": "stdout",
     "output_type": "stream",
     "text": [
      "Starting experimental run with id: 27. \n"
     ]
    },
    {
     "name": "stdout",
     "output_type": "stream",
     "text": [
      "Starting experimental run with id: 28. \n"
     ]
    }
   ],
   "source": [
    "sizes = [1,500,1000,2000,3000,4000,5000]\n",
    "nreps = 100\n",
    "t_numeric = []\n",
    "t_numeric_add = []\n",
    "t_numeric_run_ids = []\n",
    "t_array = []\n",
    "t_array_add = []\n",
    "t_array_run_ids = []\n",
    "for size in sizes:\n",
    "    tn, tna, run_id_n =  insert_data('numeric', size, nreps=nreps)\n",
    "    t_numeric.append(tn)\n",
    "    t_numeric_add.append(tna)\n",
    "    t_numeric_run_ids.append(run_id_n)\n",
    "\n",
    "    ta, taa, run_id_a =  insert_data('array', size, nreps=nreps)\n",
    "    t_array.append(ta)\n",
    "    t_array_add.append(taa)\n",
    "    t_array_run_ids.append(run_id_a)"
   ]
  },
  {
   "cell_type": "code",
   "execution_count": 8,
   "metadata": {
    "scrolled": true
   },
   "outputs": [
    {
     "data": {
      "image/png": "[encoded data removed]",
      "text/plain": [
       "<Figure size 432x288 with 1 Axes>"
      ]
     },
     "metadata": {
      "needs_background": "light"
     },
     "output_type": "display_data"
    }
   ],
   "source": [
    "fig, ax = plt.subplots(1,1)\n",
    "ax.plot(sizes, t_numeric, 'o-', label='Inserting row-by-row')\n",
    "ax.plot(sizes, t_numeric_add, 'o-', label='Inserting row-by-row: add_result only')\n",
    "ax.plot(sizes, t_array, 'd-', label='Inserting as binary blob')\n",
    "ax.plot(sizes, t_array_add, 'd-', label='Inserting as binary blob: add_result only')\n",
    "ax.legend()\n",
    "ax.set_xlabel('Array length')\n",
    "ax.set_ylabel('Time (s)')\n",
    "fig.tight_layout()"
   ]
  },
  {
   "cell_type": "markdown",
   "metadata": {},
   "source": [
    "However, as we increase the length of the experiment, as seen here by repeating the insertion 100 times, we see a big difference between inserting values of the data row-by-row and inserting it as a binary blob."
   ]
  },
  {
   "cell_type": "markdown",
   "metadata": {},
   "source": [
    "## Loading the data "
   ]
  },
  {
   "cell_type": "code",
   "execution_count": 9,
   "metadata": {},
   "outputs": [],
   "source": [
    "from qcodes.dataset.data_set import load_by_id\n",
    "from qcodes.dataset.data_export import get_data_by_id"
   ]
  },
  {
   "cell_type": "markdown",
   "metadata": {},
   "source": [
    "As usual you can load the data by using the ``load_by_id`` function but you will notice that the different storage methods\n",
    "are reflected in shape of the data as it is retrieved. "
   ]
  },
  {
   "cell_type": "code",
   "execution_count": 10,
   "metadata": {},
   "outputs": [],
   "source": [
    "run_id_n = t_numeric_run_ids[0]\n",
    "run_id_a = t_array_run_ids[0]"
   ]
  },
  {
   "cell_type": "code",
   "execution_count": 11,
   "metadata": {
    "scrolled": true
   },
   "outputs": [
    {
     "data": {
      "text/plain": [
       "{'x1': {'x1': array([0.63871091, 0.63871091, 0.87054203, 0.87054203, 0.08482034,\n",
       "         0.08482034, 0.03145532, 0.03145532, 0.47320175, 0.47320175,\n",
       "         0.74091792, 0.74091792, 0.61547208, 0.61547208, 0.49712218,\n",
       "         0.49712218, 0.16045095, 0.16045095, 0.99066966, 0.99066966,\n",
       "         0.41846453, 0.41846453, 0.91455884, 0.91455884, 0.06770973,\n",
       "         0.06770973, 0.45770556, 0.45770556, 0.79800076, 0.79800076,\n",
       "         0.16943994, 0.16943994, 0.97867841, 0.97867841, 0.84531618,\n",
       "         0.84531618, 0.70725332, 0.70725332, 0.62170138, 0.62170138,\n",
       "         0.92025345, 0.92025345, 0.75857147, 0.75857147, 0.17354468,\n",
       "         0.17354468, 0.09997609, 0.09997609, 0.91828003, 0.91828003,\n",
       "         0.55256345, 0.55256345, 0.95186226, 0.95186226, 0.41160659,\n",
       "         0.41160659, 0.3869531 , 0.3869531 , 0.91177645, 0.91177645,\n",
       "         0.97576247, 0.97576247, 0.77223394, 0.77223394, 0.86855635,\n",
       "         0.86855635, 0.9331035 , 0.9331035 , 0.48049749, 0.48049749,\n",
       "         0.6632785 , 0.6632785 , 0.38626349, 0.38626349, 0.38815633,\n",
       "         0.38815633, 0.63808271, 0.63808271, 0.90541915, 0.90541915,\n",
       "         0.87327882, 0.87327882, 0.43706161, 0.43706161, 0.55013735,\n",
       "         0.55013735, 0.66546035, 0.66546035, 0.74132092, 0.74132092,\n",
       "         0.13722377, 0.13722377, 0.9216004 , 0.9216004 , 0.80948456,\n",
       "         0.80948456, 0.15812898, 0.15812898, 0.03839207, 0.03839207,\n",
       "         0.76966494, 0.76966494, 0.67335837, 0.67335837, 0.31535247,\n",
       "         0.31535247, 0.59307989, 0.59307989, 0.93607384, 0.93607384,\n",
       "         0.21301903, 0.21301903, 0.1102468 , 0.1102468 , 0.77395337,\n",
       "         0.77395337, 0.66633032, 0.66633032, 0.8864253 , 0.8864253 ,\n",
       "         0.00625864, 0.00625864, 0.62194228, 0.62194228, 0.35219074,\n",
       "         0.35219074, 0.54753008, 0.54753008, 0.12576259, 0.12576259,\n",
       "         0.76873105, 0.76873105, 0.23505281, 0.23505281, 0.02303642,\n",
       "         0.02303642, 0.97792058, 0.97792058, 0.12464677, 0.12464677,\n",
       "         0.12132248, 0.12132248, 0.90971539, 0.90971539, 0.78057718,\n",
       "         0.78057718, 0.84651182, 0.84651182, 0.4855019 , 0.4855019 ,\n",
       "         0.36653173, 0.36653173, 0.25293938, 0.25293938, 0.92119913,\n",
       "         0.92119913, 0.35576341, 0.35576341, 0.94416721, 0.94416721,\n",
       "         0.18975009, 0.18975009, 0.72409097, 0.72409097, 0.8907263 ,\n",
       "         0.8907263 , 0.24498534, 0.24498534, 0.22141338, 0.22141338,\n",
       "         0.2220125 , 0.2220125 , 0.35027426, 0.35027426, 0.28513965,\n",
       "         0.28513965, 0.19435468, 0.19435468, 0.0602617 , 0.0602617 ,\n",
       "         0.94577718, 0.94577718, 0.27142362, 0.27142362, 0.09824991,\n",
       "         0.09824991, 0.57492283, 0.57492283, 0.83817264, 0.83817264,\n",
       "         0.4761467 , 0.4761467 , 0.89694931, 0.89694931, 0.517515  ,\n",
       "         0.517515  , 0.66319693, 0.66319693, 0.47593589, 0.47593589])}}"
      ]
     },
     "execution_count": 11,
     "metadata": {},
     "output_type": "execute_result"
    }
   ],
   "source": [
    "ds = load_by_id(run_id_n)\n",
    "ds.get_parameter_data('x1')"
   ]
  },
  {
   "cell_type": "markdown",
   "metadata": {},
   "source": [
    "And a dataset stored as binary arrays"
   ]
  },
  {
   "cell_type": "code",
   "execution_count": 12,
   "metadata": {
    "scrolled": true
   },
   "outputs": [
    {
     "data": {
      "text/plain": [
       "{'x1': {'x1': array([[0.24941808],\n",
       "         [0.24941808],\n",
       "         [0.52152502],\n",
       "         [0.52152502],\n",
       "         [0.60007738],\n",
       "         [0.60007738],\n",
       "         [0.09822189],\n",
       "         [0.09822189],\n",
       "         [0.17439025],\n",
       "         [0.17439025],\n",
       "         [0.63012981],\n",
       "         [0.63012981],\n",
       "         [0.16075426],\n",
       "         [0.16075426],\n",
       "         [0.04135583],\n",
       "         [0.04135583],\n",
       "         [0.70195846],\n",
       "         [0.70195846],\n",
       "         [0.2031664 ],\n",
       "         [0.2031664 ],\n",
       "         [0.33941116],\n",
       "         [0.33941116],\n",
       "         [0.31225648],\n",
       "         [0.31225648],\n",
       "         [0.09772011],\n",
       "         [0.09772011],\n",
       "         [0.85876332],\n",
       "         [0.85876332],\n",
       "         [0.59585347],\n",
       "         [0.59585347],\n",
       "         [0.49256951],\n",
       "         [0.49256951],\n",
       "         [0.35947415],\n",
       "         [0.35947415],\n",
       "         [0.37091525],\n",
       "         [0.37091525],\n",
       "         [0.55216863],\n",
       "         [0.55216863],\n",
       "         [0.46730698],\n",
       "         [0.46730698],\n",
       "         [0.19902613],\n",
       "         [0.19902613],\n",
       "         [0.31874772],\n",
       "         [0.31874772],\n",
       "         [0.34473698],\n",
       "         [0.34473698],\n",
       "         [0.93804334],\n",
       "         [0.93804334],\n",
       "         [0.10514704],\n",
       "         [0.10514704],\n",
       "         [0.58441577],\n",
       "         [0.58441577],\n",
       "         [0.76385797],\n",
       "         [0.76385797],\n",
       "         [0.23148407],\n",
       "         [0.23148407],\n",
       "         [0.95031613],\n",
       "         [0.95031613],\n",
       "         [0.18603363],\n",
       "         [0.18603363],\n",
       "         [0.14958676],\n",
       "         [0.14958676],\n",
       "         [0.68594268],\n",
       "         [0.68594268],\n",
       "         [0.52476856],\n",
       "         [0.52476856],\n",
       "         [0.17915116],\n",
       "         [0.17915116],\n",
       "         [0.27374413],\n",
       "         [0.27374413],\n",
       "         [0.35990741],\n",
       "         [0.35990741],\n",
       "         [0.08883524],\n",
       "         [0.08883524],\n",
       "         [0.01703889],\n",
       "         [0.01703889],\n",
       "         [0.54019526],\n",
       "         [0.54019526],\n",
       "         [0.9927408 ],\n",
       "         [0.9927408 ],\n",
       "         [0.85535033],\n",
       "         [0.85535033],\n",
       "         [0.23917549],\n",
       "         [0.23917549],\n",
       "         [0.05669487],\n",
       "         [0.05669487],\n",
       "         [0.48165336],\n",
       "         [0.48165336],\n",
       "         [0.52795941],\n",
       "         [0.52795941],\n",
       "         [0.21788408],\n",
       "         [0.21788408],\n",
       "         [0.17669646],\n",
       "         [0.17669646],\n",
       "         [0.63912469],\n",
       "         [0.63912469],\n",
       "         [0.40892243],\n",
       "         [0.40892243],\n",
       "         [0.69582845],\n",
       "         [0.69582845],\n",
       "         [0.14910007],\n",
       "         [0.14910007],\n",
       "         [0.32528849],\n",
       "         [0.32528849],\n",
       "         [0.70896988],\n",
       "         [0.70896988],\n",
       "         [0.72693579],\n",
       "         [0.72693579],\n",
       "         [0.42392188],\n",
       "         [0.42392188],\n",
       "         [0.84845812],\n",
       "         [0.84845812],\n",
       "         [0.02381023],\n",
       "         [0.02381023],\n",
       "         [0.64759778],\n",
       "         [0.64759778],\n",
       "         [0.04685753],\n",
       "         [0.04685753],\n",
       "         [0.02628635],\n",
       "         [0.02628635],\n",
       "         [0.71456544],\n",
       "         [0.71456544],\n",
       "         [0.97582369],\n",
       "         [0.97582369],\n",
       "         [0.00202537],\n",
       "         [0.00202537],\n",
       "         [0.98960856],\n",
       "         [0.98960856],\n",
       "         [0.62615687],\n",
       "         [0.62615687],\n",
       "         [0.25790915],\n",
       "         [0.25790915],\n",
       "         [0.07140365],\n",
       "         [0.07140365],\n",
       "         [0.07862479],\n",
       "         [0.07862479],\n",
       "         [0.25763052],\n",
       "         [0.25763052],\n",
       "         [0.97527484],\n",
       "         [0.97527484],\n",
       "         [0.36252686],\n",
       "         [0.36252686],\n",
       "         [0.35681589],\n",
       "         [0.35681589],\n",
       "         [0.42601192],\n",
       "         [0.42601192],\n",
       "         [0.22258696],\n",
       "         [0.22258696],\n",
       "         [0.93694526],\n",
       "         [0.93694526],\n",
       "         [0.06969738],\n",
       "         [0.06969738],\n",
       "         [0.83746052],\n",
       "         [0.83746052],\n",
       "         [0.02997561],\n",
       "         [0.02997561],\n",
       "         [0.13888021],\n",
       "         [0.13888021],\n",
       "         [0.92690536],\n",
       "         [0.92690536],\n",
       "         [0.17794363],\n",
       "         [0.17794363],\n",
       "         [0.23473159],\n",
       "         [0.23473159],\n",
       "         [0.8218959 ],\n",
       "         [0.8218959 ],\n",
       "         [0.02563956],\n",
       "         [0.02563956],\n",
       "         [0.91659069],\n",
       "         [0.91659069],\n",
       "         [0.98776338],\n",
       "         [0.98776338],\n",
       "         [0.15395766],\n",
       "         [0.15395766],\n",
       "         [0.75229768],\n",
       "         [0.75229768],\n",
       "         [0.37391689],\n",
       "         [0.37391689],\n",
       "         [0.62124658],\n",
       "         [0.62124658],\n",
       "         [0.99197819],\n",
       "         [0.99197819],\n",
       "         [0.36021927],\n",
       "         [0.36021927],\n",
       "         [0.24452541],\n",
       "         [0.24452541],\n",
       "         [0.22587769],\n",
       "         [0.22587769],\n",
       "         [0.96037647],\n",
       "         [0.96037647],\n",
       "         [0.05528481],\n",
       "         [0.05528481],\n",
       "         [0.78988075],\n",
       "         [0.78988075],\n",
       "         [0.47525351],\n",
       "         [0.47525351],\n",
       "         [0.86784437],\n",
       "         [0.86784437],\n",
       "         [0.55292135],\n",
       "         [0.55292135]])}}"
      ]
     },
     "execution_count": 12,
     "metadata": {},
     "output_type": "execute_result"
    }
   ],
   "source": [
    "ds = load_by_id(run_id_a)\n",
    "ds.get_parameter_data('x1')"
   ]
  },
  {
   "cell_type": "code",
   "execution_count": null,
   "metadata": {},
   "outputs": [],
   "source": []
  }
 ],
 "metadata": {
  "kernelspec": {
   "display_name": "Python 3",
   "language": "python",
   "name": "python3"
  },
  "language_info": {
   "codemirror_mode": {
    "name": "ipython",
    "version": 3
   },
   "file_extension": ".py",
   "mimetype": "text/x-python",
   "name": "python",
   "nbconvert_exporter": "python",
   "pygments_lexer": "ipython3",
   "version": "3.7.7"
  },
  "nbsphinx": {
   "timeout": 600
  },
  "toc": {
   "base_numbering": 1,
   "nav_menu": {},
   "number_sections": true,
   "sideBar": true,
   "skip_h1_title": false,
   "title_cell": "Table of Contents",
   "title_sidebar": "Contents",
   "toc_cell": false,
   "toc_position": {},
   "toc_section_display": true,
   "toc_window_display": false
  },
  "varInspector": {
   "cols": {
    "lenName": 16,
    "lenType": 16,
    "lenVar": 40
   },
   "kernels_config": {
    "python": {
     "delete_cmd_postfix": "",
     "delete_cmd_prefix": "del ",
     "library": "var_list.py",
     "varRefreshCmd": "print(var_dic_list())"
    },
    "r": {
     "delete_cmd_postfix": ") ",
     "delete_cmd_prefix": "rm(",
     "library": "var_list.r",
     "varRefreshCmd": "cat(var_dic_list()) "
    }
   },
   "types_to_exclude": [
    "module",
    "function",
    "builtin_function_or_method",
    "instance",
    "_Feature"
   ],
   "window_display": false
  }
 },
 "nbformat": 4,
 "nbformat_minor": 2
}
