{
 "cells": [
  {
   "cell_type": "markdown",
   "metadata": {},
   "source": [
    "# DataSet Performance\n",
    "\n",
    "This notebook shows the trade-off between inserting data into a database row-by-row and as binary blobs. Inserting the data row-by-row means that we have direct access to all the data and may perform queries directly on the values of the data. On the other hand, as we shall see, this is much slower than inserting the data directly as binary blobs."
   ]
  },
  {
   "cell_type": "markdown",
   "metadata": {},
   "source": [
    "First, we choose a new location for the database to ensure that we don't add a bunch of benchmarking data to the default one."
   ]
  },
  {
   "cell_type": "code",
   "execution_count": 1,
   "metadata": {
    "execution": {
     "iopub.execute_input": "2020-09-21T07:30:01.494113Z",
     "iopub.status.busy": "2020-09-21T07:30:01.493610Z",
     "iopub.status.idle": "2020-09-21T07:30:02.511294Z",
     "shell.execute_reply": "2020-09-21T07:30:02.511727Z"
    }
   },
   "outputs": [
    {
     "name": "stdout",
     "output_type": "stream",
     "text": [
      "Logging hadn't been started.\n",
      "Activating auto-logging. Current session state plus future input saved.\n",
      "Filename       : /home/vsts/.qcodes/logs/command_history.log\n",
      "Mode           : append\n",
      "Output logging : True\n",
      "Raw input log  : False\n",
      "Timestamping   : True\n",
      "State          : active\n"
     ]
    },
    {
     "name": "stdout",
     "output_type": "stream",
     "text": [
      "Qcodes Logfile : /home/vsts/.qcodes/logs/200921-18502-qcodes.log\n"
     ]
    }
   ],
   "source": [
    "import os\n",
    "cwd = os.getcwd()\n",
    "import qcodes as qc\n",
    "qc.config[\"core\"][\"db_location\"] = os.path.join(cwd, 'testing.db')\n"
   ]
  },
  {
   "cell_type": "code",
   "execution_count": 2,
   "metadata": {
    "execution": {
     "iopub.execute_input": "2020-09-21T07:30:02.517961Z",
     "iopub.status.busy": "2020-09-21T07:30:02.517132Z",
     "iopub.status.idle": "2020-09-21T07:30:02.705895Z",
     "shell.execute_reply": "2020-09-21T07:30:02.704577Z"
    }
   },
   "outputs": [],
   "source": [
    "%matplotlib inline\n",
    "import time\n",
    "import matplotlib.pyplot as plt\n",
    "import numpy as np\n",
    "\n",
    "import qcodes as qc\n",
    "from qcodes.instrument.parameter import ManualParameter\n",
    "from qcodes.dataset.experiment_container import (Experiment,\n",
    "                                                 load_last_experiment,\n",
    "                                                 new_experiment)\n",
    "from qcodes.dataset.sqlite.database import initialise_database\n",
    "from qcodes import load_or_create_experiment\n",
    "from qcodes.dataset.measurements import Measurement"
   ]
  },
  {
   "cell_type": "code",
   "execution_count": 3,
   "metadata": {
    "execution": {
     "iopub.execute_input": "2020-09-21T07:30:02.710211Z",
     "iopub.status.busy": "2020-09-21T07:30:02.709529Z",
     "iopub.status.idle": "2020-09-21T07:30:02.817300Z",
     "shell.execute_reply": "2020-09-21T07:30:02.816712Z"
    }
   },
   "outputs": [
    {
     "name": "stdout",
     "output_type": "stream",
     "text": [
      "\r",
      "0it [00:00, ?it/s]"
     ]
    },
    {
     "name": "stdout",
     "output_type": "stream",
     "text": [
      "\r",
      "Upgrading database; v0 -> v1: : 0it [00:00, ?it/s]"
     ]
    },
    {
     "name": "stdout",
     "output_type": "stream",
     "text": [
      "\r",
      "Upgrading database; v0 -> v1: : 0it [00:00, ?it/s]"
     ]
    },
    {
     "name": "stdout",
     "output_type": "stream",
     "text": [
      "\n",
      "\r",
      "  0%|          | 0/1 [00:00<?, ?it/s]"
     ]
    },
    {
     "name": "stdout",
     "output_type": "stream",
     "text": [
      "\r",
      "Upgrading database; v1 -> v2:   0%|          | 0/1 [00:00<?, ?it/s]"
     ]
    },
    {
     "name": "stdout",
     "output_type": "stream",
     "text": [
      "\r",
      "Upgrading database; v1 -> v2: 100%|██████████| 1/1 [00:00<00:00, 643.40it/s]"
     ]
    },
    {
     "name": "stdout",
     "output_type": "stream",
     "text": [
      "\n",
      "\r",
      "0it [00:00, ?it/s]"
     ]
    },
    {
     "name": "stdout",
     "output_type": "stream",
     "text": [
      "\r",
      "Upgrading database; v2 -> v3: : 0it [00:00, ?it/s]"
     ]
    },
    {
     "name": "stdout",
     "output_type": "stream",
     "text": [
      "\r",
      "Upgrading database; v2 -> v3: : 0it [00:00, ?it/s]"
     ]
    },
    {
     "name": "stdout",
     "output_type": "stream",
     "text": [
      "\n",
      "\r",
      "0it [00:00, ?it/s]"
     ]
    },
    {
     "name": "stdout",
     "output_type": "stream",
     "text": [
      "\r",
      "Upgrading database; v3 -> v4: : 0it [00:00, ?it/s]"
     ]
    },
    {
     "name": "stdout",
     "output_type": "stream",
     "text": [
      "\r",
      "Upgrading database; v3 -> v4: : 0it [00:00, ?it/s]"
     ]
    },
    {
     "name": "stdout",
     "output_type": "stream",
     "text": [
      "\n",
      "\r",
      "  0%|          | 0/1 [00:00<?, ?it/s]"
     ]
    },
    {
     "name": "stdout",
     "output_type": "stream",
     "text": [
      "\r",
      "Upgrading database; v4 -> v5:   0%|          | 0/1 [00:00<?, ?it/s]"
     ]
    },
    {
     "name": "stdout",
     "output_type": "stream",
     "text": [
      "\r",
      "Upgrading database; v4 -> v5: 100%|██████████| 1/1 [00:00<00:00, 418.01it/s]"
     ]
    },
    {
     "name": "stdout",
     "output_type": "stream",
     "text": [
      "\n",
      "\r",
      "0it [00:00, ?it/s]"
     ]
    },
    {
     "name": "stdout",
     "output_type": "stream",
     "text": [
      "\r",
      "Upgrading database; v5 -> v6: : 0it [00:00, ?it/s]"
     ]
    },
    {
     "name": "stdout",
     "output_type": "stream",
     "text": [
      "\r",
      "Upgrading database; v5 -> v6: : 0it [00:00, ?it/s]"
     ]
    },
    {
     "name": "stdout",
     "output_type": "stream",
     "text": [
      "\n",
      "\r",
      "  0%|          | 0/1 [00:00<?, ?it/s]"
     ]
    },
    {
     "name": "stdout",
     "output_type": "stream",
     "text": [
      "\r",
      "Upgrading database; v6 -> v7:   0%|          | 0/1 [00:00<?, ?it/s]"
     ]
    },
    {
     "name": "stdout",
     "output_type": "stream",
     "text": [
      "\r",
      "Upgrading database; v6 -> v7: 100%|██████████| 1/1 [00:00<00:00, 236.79it/s]"
     ]
    },
    {
     "name": "stdout",
     "output_type": "stream",
     "text": [
      "\n",
      "\r",
      "  0%|          | 0/1 [00:00<?, ?it/s]"
     ]
    },
    {
     "name": "stdout",
     "output_type": "stream",
     "text": [
      "\r",
      "Upgrading database; v7 -> v8:   0%|          | 0/1 [00:00<?, ?it/s]"
     ]
    },
    {
     "name": "stdout",
     "output_type": "stream",
     "text": [
      "\r",
      "Upgrading database; v7 -> v8: 100%|██████████| 1/1 [00:00<00:00, 484.44it/s]"
     ]
    },
    {
     "name": "stdout",
     "output_type": "stream",
     "text": [
      "\n",
      "\r",
      "  0%|          | 0/1 [00:00<?, ?it/s]"
     ]
    },
    {
     "name": "stdout",
     "output_type": "stream",
     "text": [
      "\r",
      "Upgrading database; v8 -> v9:   0%|          | 0/1 [00:00<?, ?it/s]"
     ]
    },
    {
     "name": "stdout",
     "output_type": "stream",
     "text": [
      "\r",
      "Upgrading database; v8 -> v9: 100%|██████████| 1/1 [00:00<00:00, 466.76it/s]"
     ]
    },
    {
     "name": "stdout",
     "output_type": "stream",
     "text": [
      "\n"
     ]
    }
   ],
   "source": [
    "initialise_database()\n",
    "exp = load_or_create_experiment(experiment_name='tutorial_exp', sample_name=\"no sample\")"
   ]
  },
  {
   "cell_type": "markdown",
   "metadata": {},
   "source": [
    "Here, we define a simple function to benchmark the time it takes to insert n points with either numeric or array data type.\n",
    "We will compare both the time used to call ``add_result`` and the time used for the full measurement."
   ]
  },
  {
   "cell_type": "code",
   "execution_count": 4,
   "metadata": {
    "execution": {
     "iopub.execute_input": "2020-09-21T07:30:02.825990Z",
     "iopub.status.busy": "2020-09-21T07:30:02.825438Z",
     "iopub.status.idle": "2020-09-21T07:30:02.828476Z",
     "shell.execute_reply": "2020-09-21T07:30:02.828917Z"
    }
   },
   "outputs": [],
   "source": [
    "def insert_data(paramtype, npoints, nreps=1):\n",
    "\n",
    "    meas = Measurement(exp=exp)\n",
    "\n",
    "    x1 = ManualParameter('x1')\n",
    "    x2 = ManualParameter('x2')\n",
    "    x3 = ManualParameter('x3')\n",
    "    y1 = ManualParameter('y1')\n",
    "    y2 = ManualParameter('y2')\n",
    "\n",
    "    meas.register_parameter(x1, paramtype=paramtype)\n",
    "    meas.register_parameter(x2, paramtype=paramtype)\n",
    "    meas.register_parameter(x3, paramtype=paramtype)\n",
    "    meas.register_parameter(y1, setpoints=[x1, x2, x3],\n",
    "                            paramtype=paramtype)\n",
    "    meas.register_parameter(y2, setpoints=[x1, x2, x3],\n",
    "                            paramtype=paramtype)\n",
    "    start = time.perf_counter()\n",
    "    with meas.run() as datasaver:\n",
    "        start_adding = time.perf_counter()\n",
    "        for i in range(nreps):\n",
    "            datasaver.add_result((x1, np.random.rand(npoints)),\n",
    "                                 (x2, np.random.rand(npoints)),\n",
    "                                 (x3, np.random.rand(npoints)),\n",
    "                                 (y1, np.random.rand(npoints)),\n",
    "                                 (y2, np.random.rand(npoints)))\n",
    "        stop_adding = time.perf_counter()\n",
    "        run_id = datasaver.run_id\n",
    "    stop = time.perf_counter()\n",
    "    tot_time = stop - start\n",
    "    add_time = stop_adding - start_adding\n",
    "    return tot_time, add_time, run_id"
   ]
  },
  {
   "cell_type": "markdown",
   "metadata": {},
   "source": [
    "## Comparison between numeric/array data and binary blob"
   ]
  },
  {
   "cell_type": "markdown",
   "metadata": {},
   "source": [
    "### Case1: Short experiment time"
   ]
  },
  {
   "cell_type": "code",
   "execution_count": 5,
   "metadata": {
    "execution": {
     "iopub.execute_input": "2020-09-21T07:30:02.835588Z",
     "iopub.status.busy": "2020-09-21T07:30:02.835017Z",
     "iopub.status.idle": "2020-09-21T07:30:03.648086Z",
     "shell.execute_reply": "2020-09-21T07:30:03.647024Z"
    }
   },
   "outputs": [
    {
     "name": "stdout",
     "output_type": "stream",
     "text": [
      "Starting experimental run with id: 1. \n",
      "Starting experimental run with id: 2. \n",
      "Starting experimental run with id: 3. \n",
      "Starting experimental run with id: 4. \n",
      "Starting experimental run with id: 5. \n"
     ]
    },
    {
     "name": "stdout",
     "output_type": "stream",
     "text": [
      "Starting experimental run with id: 6. \n"
     ]
    },
    {
     "name": "stdout",
     "output_type": "stream",
     "text": [
      "Starting experimental run with id: 7. \n"
     ]
    },
    {
     "name": "stdout",
     "output_type": "stream",
     "text": [
      "Starting experimental run with id: 8. \n",
      "Starting experimental run with id: 9. \n"
     ]
    },
    {
     "name": "stdout",
     "output_type": "stream",
     "text": [
      "Starting experimental run with id: 10. \n",
      "Starting experimental run with id: 11. \n"
     ]
    },
    {
     "name": "stdout",
     "output_type": "stream",
     "text": [
      "Starting experimental run with id: 12. \n",
      "Starting experimental run with id: 13. \n"
     ]
    },
    {
     "name": "stdout",
     "output_type": "stream",
     "text": [
      "Starting experimental run with id: 14. \n"
     ]
    }
   ],
   "source": [
    "sizes = [1,500,1000,2000,3000,4000,5000]\n",
    "t_numeric = []\n",
    "t_numeric_add = []\n",
    "t_array = []\n",
    "t_array_add = []\n",
    "for size in sizes:\n",
    "    tn, tna, run_id_n =  insert_data('numeric', size)\n",
    "    t_numeric.append(tn)\n",
    "    t_numeric_add.append(tna)\n",
    "\n",
    "    ta, taa, run_id_a =  insert_data('array', size)\n",
    "    t_array.append(ta)\n",
    "    t_array_add.append(taa)"
   ]
  },
  {
   "cell_type": "code",
   "execution_count": 6,
   "metadata": {
    "execution": {
     "iopub.execute_input": "2020-09-21T07:30:03.665156Z",
     "iopub.status.busy": "2020-09-21T07:30:03.664575Z",
     "iopub.status.idle": "2020-09-21T07:30:03.856561Z",
     "shell.execute_reply": "2020-09-21T07:30:03.855451Z"
    }
   },
   "outputs": [
    {
     "data": {
      "image/png": "[encoded data removed]",
      "text/plain": [
       "<Figure size 432x288 with 1 Axes>"
      ]
     },
     "metadata": {
      "needs_background": "light"
     },
     "output_type": "display_data"
    }
   ],
   "source": [
    "fig, ax = plt.subplots(1,1)\n",
    "ax.plot(sizes, t_numeric, 'o-', label='Inserting row-by-row')\n",
    "ax.plot(sizes, t_numeric_add, 'o-', label='Inserting row-by-row: add_result only')\n",
    "ax.plot(sizes, t_array, 'd-', label='Inserting as binary blob')\n",
    "ax.plot(sizes, t_array_add, 'd-', label='Inserting as binary blob: add_result only')\n",
    "ax.legend()\n",
    "ax.set_xlabel('Array length')\n",
    "ax.set_ylabel('Time (s)')\n",
    "fig.tight_layout()"
   ]
  },
  {
   "cell_type": "markdown",
   "metadata": {},
   "source": [
    "As shown in the latter figure, the time to setup and and close the experiment is approximately 0.4 sec. In case of small array sizes, the difference between inserting values of data as arrays and inserting them row-by-row is relatively unimportant. At larger array sizes, i.e. above 10000 points, the cost of writing data as individual datapoints starts to become important.\n"
   ]
  },
  {
   "cell_type": "markdown",
   "metadata": {},
   "source": [
    "### Case2: Long experiment time "
   ]
  },
  {
   "cell_type": "code",
   "execution_count": 7,
   "metadata": {
    "execution": {
     "iopub.execute_input": "2020-09-21T07:30:03.865010Z",
     "iopub.status.busy": "2020-09-21T07:30:03.862802Z",
     "iopub.status.idle": "2020-09-21T07:31:01.801484Z",
     "shell.execute_reply": "2020-09-21T07:31:01.800962Z"
    }
   },
   "outputs": [
    {
     "name": "stdout",
     "output_type": "stream",
     "text": [
      "Starting experimental run with id: 15. \n",
      "Starting experimental run with id: 16. \n",
      "Starting experimental run with id: 17. \n"
     ]
    },
    {
     "name": "stdout",
     "output_type": "stream",
     "text": [
      "Starting experimental run with id: 18. \n",
      "Starting experimental run with id: 19. \n"
     ]
    },
    {
     "name": "stdout",
     "output_type": "stream",
     "text": [
      "Starting experimental run with id: 20. \n"
     ]
    },
    {
     "name": "stdout",
     "output_type": "stream",
     "text": [
      "Starting experimental run with id: 21. \n"
     ]
    },
    {
     "name": "stdout",
     "output_type": "stream",
     "text": [
      "Starting experimental run with id: 22. \n"
     ]
    },
    {
     "name": "stdout",
     "output_type": "stream",
     "text": [
      "Starting experimental run with id: 23. \n"
     ]
    },
    {
     "name": "stdout",
     "output_type": "stream",
     "text": [
      "Starting experimental run with id: 24. \n"
     ]
    },
    {
     "name": "stdout",
     "output_type": "stream",
     "text": [
      "Starting experimental run with id: 25. \n"
     ]
    },
    {
     "name": "stdout",
     "output_type": "stream",
     "text": [
      "Starting experimental run with id: 26. \n"
     ]
    },
    {
     "name": "stdout",
     "output_type": "stream",
     "text": [
      "Starting experimental run with id: 27. \n"
     ]
    },
    {
     "name": "stdout",
     "output_type": "stream",
     "text": [
      "Starting experimental run with id: 28. \n"
     ]
    }
   ],
   "source": [
    "sizes = [1,500,1000,2000,3000,4000,5000]\n",
    "nreps = 100\n",
    "t_numeric = []\n",
    "t_numeric_add = []\n",
    "t_numeric_run_ids = []\n",
    "t_array = []\n",
    "t_array_add = []\n",
    "t_array_run_ids = []\n",
    "for size in sizes:\n",
    "    tn, tna, run_id_n =  insert_data('numeric', size, nreps=nreps)\n",
    "    t_numeric.append(tn)\n",
    "    t_numeric_add.append(tna)\n",
    "    t_numeric_run_ids.append(run_id_n)\n",
    "\n",
    "    ta, taa, run_id_a =  insert_data('array', size, nreps=nreps)\n",
    "    t_array.append(ta)\n",
    "    t_array_add.append(taa)\n",
    "    t_array_run_ids.append(run_id_a)"
   ]
  },
  {
   "cell_type": "code",
   "execution_count": 8,
   "metadata": {
    "execution": {
     "iopub.execute_input": "2020-09-21T07:31:01.820800Z",
     "iopub.status.busy": "2020-09-21T07:31:01.818963Z",
     "iopub.status.idle": "2020-09-21T07:31:01.998931Z",
     "shell.execute_reply": "2020-09-21T07:31:01.998427Z"
    },
    "scrolled": true
   },
   "outputs": [
    {
     "data": {
      "image/png": "[encoded data removed]",
      "text/plain": [
       "<Figure size 432x288 with 1 Axes>"
      ]
     },
     "metadata": {
      "needs_background": "light"
     },
     "output_type": "display_data"
    }
   ],
   "source": [
    "fig, ax = plt.subplots(1,1)\n",
    "ax.plot(sizes, t_numeric, 'o-', label='Inserting row-by-row')\n",
    "ax.plot(sizes, t_numeric_add, 'o-', label='Inserting row-by-row: add_result only')\n",
    "ax.plot(sizes, t_array, 'd-', label='Inserting as binary blob')\n",
    "ax.plot(sizes, t_array_add, 'd-', label='Inserting as binary blob: add_result only')\n",
    "ax.legend()\n",
    "ax.set_xlabel('Array length')\n",
    "ax.set_ylabel('Time (s)')\n",
    "fig.tight_layout()"
   ]
  },
  {
   "cell_type": "markdown",
   "metadata": {},
   "source": [
    "However, as we increase the length of the experiment, as seen here by repeating the insertion 100 times, we see a big difference between inserting values of the data row-by-row and inserting it as a binary blob."
   ]
  },
  {
   "cell_type": "markdown",
   "metadata": {},
   "source": [
    "## Loading the data "
   ]
  },
  {
   "cell_type": "code",
   "execution_count": 9,
   "metadata": {
    "execution": {
     "iopub.execute_input": "2020-09-21T07:31:02.003184Z",
     "iopub.status.busy": "2020-09-21T07:31:02.002243Z",
     "iopub.status.idle": "2020-09-21T07:31:02.005714Z",
     "shell.execute_reply": "2020-09-21T07:31:02.005059Z"
    }
   },
   "outputs": [],
   "source": [
    "from qcodes.dataset.data_set import load_by_id\n",
    "from qcodes.dataset.data_export import get_data_by_id"
   ]
  },
  {
   "cell_type": "markdown",
   "metadata": {},
   "source": [
    "As usual you can load the data by using the ``load_by_id`` function but you will notice that the different storage methods\n",
    "are reflected in shape of the data as it is retrieved. "
   ]
  },
  {
   "cell_type": "code",
   "execution_count": 10,
   "metadata": {
    "execution": {
     "iopub.execute_input": "2020-09-21T07:31:02.009308Z",
     "iopub.status.busy": "2020-09-21T07:31:02.008765Z",
     "iopub.status.idle": "2020-09-21T07:31:02.011105Z",
     "shell.execute_reply": "2020-09-21T07:31:02.010666Z"
    }
   },
   "outputs": [],
   "source": [
    "run_id_n = t_numeric_run_ids[0]\n",
    "run_id_a = t_array_run_ids[0]"
   ]
  },
  {
   "cell_type": "code",
   "execution_count": 11,
   "metadata": {
    "execution": {
     "iopub.execute_input": "2020-09-21T07:31:02.014168Z",
     "iopub.status.busy": "2020-09-21T07:31:02.013665Z",
     "iopub.status.idle": "2020-09-21T07:31:02.022767Z",
     "shell.execute_reply": "2020-09-21T07:31:02.022317Z"
    },
    "scrolled": true
   },
   "outputs": [
    {
     "data": {
      "text/plain": [
       "{'x1': {'x1': array([0.3646563 , 0.3646563 , 0.42589153, 0.42589153, 0.58927512,\n",
       "         0.58927512, 0.15798586, 0.15798586, 0.84506008, 0.84506008,\n",
       "         0.27129634, 0.27129634, 0.02355006, 0.02355006, 0.7090272 ,\n",
       "         0.7090272 , 0.24980047, 0.24980047, 0.15307014, 0.15307014,\n",
       "         0.79700941, 0.79700941, 0.97761766, 0.97761766, 0.55586065,\n",
       "         0.55586065, 0.26778621, 0.26778621, 0.06680619, 0.06680619,\n",
       "         0.91256982, 0.91256982, 0.2397119 , 0.2397119 , 0.50567735,\n",
       "         0.50567735, 0.43085246, 0.43085246, 0.10733854, 0.10733854,\n",
       "         0.86349794, 0.86349794, 0.05533108, 0.05533108, 0.7945253 ,\n",
       "         0.7945253 , 0.61978524, 0.61978524, 0.03543242, 0.03543242,\n",
       "         0.22959682, 0.22959682, 0.30255286, 0.30255286, 0.50115404,\n",
       "         0.50115404, 0.39862599, 0.39862599, 0.50957098, 0.50957098,\n",
       "         0.01488979, 0.01488979, 0.81946628, 0.81946628, 0.22320224,\n",
       "         0.22320224, 0.04466694, 0.04466694, 0.7925039 , 0.7925039 ,\n",
       "         0.76338148, 0.76338148, 0.0951367 , 0.0951367 , 0.45659202,\n",
       "         0.45659202, 0.17769685, 0.17769685, 0.8786112 , 0.8786112 ,\n",
       "         0.02442779, 0.02442779, 0.21212472, 0.21212472, 0.33793505,\n",
       "         0.33793505, 0.56593947, 0.56593947, 0.69680406, 0.69680406,\n",
       "         0.29785957, 0.29785957, 0.62884692, 0.62884692, 0.4459511 ,\n",
       "         0.4459511 , 0.97582575, 0.97582575, 0.20717702, 0.20717702,\n",
       "         0.65747661, 0.65747661, 0.25221027, 0.25221027, 0.5286643 ,\n",
       "         0.5286643 , 0.74382204, 0.74382204, 0.52575319, 0.52575319,\n",
       "         0.60045725, 0.60045725, 0.19911476, 0.19911476, 0.46315152,\n",
       "         0.46315152, 0.7386371 , 0.7386371 , 0.39743186, 0.39743186,\n",
       "         0.32838302, 0.32838302, 0.96449359, 0.96449359, 0.89516626,\n",
       "         0.89516626, 0.48585936, 0.48585936, 0.93193892, 0.93193892,\n",
       "         0.44838479, 0.44838479, 0.96508043, 0.96508043, 0.20536005,\n",
       "         0.20536005, 0.5565173 , 0.5565173 , 0.59694531, 0.59694531,\n",
       "         0.22233172, 0.22233172, 0.8125374 , 0.8125374 , 0.73714308,\n",
       "         0.73714308, 0.66441367, 0.66441367, 0.63448285, 0.63448285,\n",
       "         0.12075673, 0.12075673, 0.41397172, 0.41397172, 0.5477403 ,\n",
       "         0.5477403 , 0.29700326, 0.29700326, 0.74559878, 0.74559878,\n",
       "         0.30648859, 0.30648859, 0.07474222, 0.07474222, 0.04362488,\n",
       "         0.04362488, 0.28453701, 0.28453701, 0.65784583, 0.65784583,\n",
       "         0.75226258, 0.75226258, 0.53434242, 0.53434242, 0.81443434,\n",
       "         0.81443434, 0.89007234, 0.89007234, 0.74690128, 0.74690128,\n",
       "         0.676184  , 0.676184  , 0.62445851, 0.62445851, 0.01533585,\n",
       "         0.01533585, 0.38741008, 0.38741008, 0.58796911, 0.58796911,\n",
       "         0.04813409, 0.04813409, 0.44601409, 0.44601409, 0.23353303,\n",
       "         0.23353303, 0.37495432, 0.37495432, 0.52474759, 0.52474759])}}"
      ]
     },
     "execution_count": 1,
     "metadata": {},
     "output_type": "execute_result"
    }
   ],
   "source": [
    "ds = load_by_id(run_id_n)\n",
    "ds.get_parameter_data('x1')"
   ]
  },
  {
   "cell_type": "markdown",
   "metadata": {},
   "source": [
    "And a dataset stored as binary arrays"
   ]
  },
  {
   "cell_type": "code",
   "execution_count": 12,
   "metadata": {
    "execution": {
     "iopub.execute_input": "2020-09-21T07:31:02.025793Z",
     "iopub.status.busy": "2020-09-21T07:31:02.025283Z",
     "iopub.status.idle": "2020-09-21T07:31:02.078307Z",
     "shell.execute_reply": "2020-09-21T07:31:02.078844Z"
    },
    "scrolled": true
   },
   "outputs": [
    {
     "data": {
      "text/plain": [
       "{'x1': {'x1': array([[0.49118553],\n",
       "         [0.49118553],\n",
       "         [0.04861761],\n",
       "         [0.04861761],\n",
       "         [0.04002159],\n",
       "         [0.04002159],\n",
       "         [0.05773194],\n",
       "         [0.05773194],\n",
       "         [0.6696264 ],\n",
       "         [0.6696264 ],\n",
       "         [0.31125421],\n",
       "         [0.31125421],\n",
       "         [0.74578405],\n",
       "         [0.74578405],\n",
       "         [0.52133977],\n",
       "         [0.52133977],\n",
       "         [0.11026111],\n",
       "         [0.11026111],\n",
       "         [0.9872295 ],\n",
       "         [0.9872295 ],\n",
       "         [0.92262049],\n",
       "         [0.92262049],\n",
       "         [0.91974581],\n",
       "         [0.91974581],\n",
       "         [0.79804345],\n",
       "         [0.79804345],\n",
       "         [0.81090089],\n",
       "         [0.81090089],\n",
       "         [0.6918575 ],\n",
       "         [0.6918575 ],\n",
       "         [0.50853646],\n",
       "         [0.50853646],\n",
       "         [0.9072084 ],\n",
       "         [0.9072084 ],\n",
       "         [0.37663549],\n",
       "         [0.37663549],\n",
       "         [0.5644004 ],\n",
       "         [0.5644004 ],\n",
       "         [0.22039885],\n",
       "         [0.22039885],\n",
       "         [0.33166876],\n",
       "         [0.33166876],\n",
       "         [0.74107989],\n",
       "         [0.74107989],\n",
       "         [0.4039052 ],\n",
       "         [0.4039052 ],\n",
       "         [0.15954109],\n",
       "         [0.15954109],\n",
       "         [0.24002858],\n",
       "         [0.24002858],\n",
       "         [0.28960871],\n",
       "         [0.28960871],\n",
       "         [0.09722668],\n",
       "         [0.09722668],\n",
       "         [0.16669189],\n",
       "         [0.16669189],\n",
       "         [0.93252898],\n",
       "         [0.93252898],\n",
       "         [0.00472613],\n",
       "         [0.00472613],\n",
       "         [0.30610991],\n",
       "         [0.30610991],\n",
       "         [0.48815965],\n",
       "         [0.48815965],\n",
       "         [0.11709267],\n",
       "         [0.11709267],\n",
       "         [0.43305811],\n",
       "         [0.43305811],\n",
       "         [0.5413472 ],\n",
       "         [0.5413472 ],\n",
       "         [0.59104409],\n",
       "         [0.59104409],\n",
       "         [0.54979396],\n",
       "         [0.54979396],\n",
       "         [0.98541555],\n",
       "         [0.98541555],\n",
       "         [0.75517169],\n",
       "         [0.75517169],\n",
       "         [0.74506715],\n",
       "         [0.74506715],\n",
       "         [0.20810033],\n",
       "         [0.20810033],\n",
       "         [0.66637227],\n",
       "         [0.66637227],\n",
       "         [0.81482216],\n",
       "         [0.81482216],\n",
       "         [0.77090912],\n",
       "         [0.77090912],\n",
       "         [0.43128346],\n",
       "         [0.43128346],\n",
       "         [0.25755327],\n",
       "         [0.25755327],\n",
       "         [0.59951822],\n",
       "         [0.59951822],\n",
       "         [0.41112362],\n",
       "         [0.41112362],\n",
       "         [0.20542781],\n",
       "         [0.20542781],\n",
       "         [0.68923642],\n",
       "         [0.68923642],\n",
       "         [0.62416318],\n",
       "         [0.62416318],\n",
       "         [0.74023979],\n",
       "         [0.74023979],\n",
       "         [0.94126093],\n",
       "         [0.94126093],\n",
       "         [0.86863916],\n",
       "         [0.86863916],\n",
       "         [0.82666551],\n",
       "         [0.82666551],\n",
       "         [0.66107795],\n",
       "         [0.66107795],\n",
       "         [0.27469715],\n",
       "         [0.27469715],\n",
       "         [0.84773553],\n",
       "         [0.84773553],\n",
       "         [0.81526729],\n",
       "         [0.81526729],\n",
       "         [0.00423083],\n",
       "         [0.00423083],\n",
       "         [0.88628438],\n",
       "         [0.88628438],\n",
       "         [0.09417894],\n",
       "         [0.09417894],\n",
       "         [0.72586598],\n",
       "         [0.72586598],\n",
       "         [0.50426665],\n",
       "         [0.50426665],\n",
       "         [0.3036228 ],\n",
       "         [0.3036228 ],\n",
       "         [0.19601796],\n",
       "         [0.19601796],\n",
       "         [0.38575013],\n",
       "         [0.38575013],\n",
       "         [0.15073903],\n",
       "         [0.15073903],\n",
       "         [0.34427268],\n",
       "         [0.34427268],\n",
       "         [0.00373815],\n",
       "         [0.00373815],\n",
       "         [0.40112959],\n",
       "         [0.40112959],\n",
       "         [0.90227879],\n",
       "         [0.90227879],\n",
       "         [0.05461076],\n",
       "         [0.05461076],\n",
       "         [0.02643224],\n",
       "         [0.02643224],\n",
       "         [0.93653628],\n",
       "         [0.93653628],\n",
       "         [0.19342863],\n",
       "         [0.19342863],\n",
       "         [0.57395941],\n",
       "         [0.57395941],\n",
       "         [0.59541183],\n",
       "         [0.59541183],\n",
       "         [0.65412182],\n",
       "         [0.65412182],\n",
       "         [0.72181227],\n",
       "         [0.72181227],\n",
       "         [0.15487943],\n",
       "         [0.15487943],\n",
       "         [0.57962021],\n",
       "         [0.57962021],\n",
       "         [0.95952182],\n",
       "         [0.95952182],\n",
       "         [0.67432897],\n",
       "         [0.67432897],\n",
       "         [0.09472864],\n",
       "         [0.09472864],\n",
       "         [0.90627339],\n",
       "         [0.90627339],\n",
       "         [0.84392848],\n",
       "         [0.84392848],\n",
       "         [0.6499652 ],\n",
       "         [0.6499652 ],\n",
       "         [0.53305712],\n",
       "         [0.53305712],\n",
       "         [0.10626341],\n",
       "         [0.10626341],\n",
       "         [0.04323581],\n",
       "         [0.04323581],\n",
       "         [0.18098045],\n",
       "         [0.18098045],\n",
       "         [0.18408845],\n",
       "         [0.18408845],\n",
       "         [0.63866768],\n",
       "         [0.63866768],\n",
       "         [0.02151969],\n",
       "         [0.02151969],\n",
       "         [0.30992181],\n",
       "         [0.30992181],\n",
       "         [0.74785411],\n",
       "         [0.74785411],\n",
       "         [0.26135853],\n",
       "         [0.26135853],\n",
       "         [0.02648537],\n",
       "         [0.02648537],\n",
       "         [0.1276481 ],\n",
       "         [0.1276481 ]])}}"
      ]
     },
     "execution_count": 1,
     "metadata": {},
     "output_type": "execute_result"
    }
   ],
   "source": [
    "ds = load_by_id(run_id_a)\n",
    "ds.get_parameter_data('x1')"
   ]
  },
  {
   "cell_type": "code",
   "execution_count": null,
   "metadata": {},
   "outputs": [],
   "source": []
  }
 ],
 "metadata": {
  "kernelspec": {
   "display_name": "Python 3",
   "language": "python",
   "name": "python3"
  },
  "language_info": {
   "codemirror_mode": {
    "name": "ipython",
    "version": 3
   },
   "file_extension": ".py",
   "mimetype": "text/x-python",
   "name": "python",
   "nbconvert_exporter": "python",
   "pygments_lexer": "ipython3",
   "version": "3.7.7"
  },
  "nbsphinx": {
   "timeout": 600
  },
  "toc": {
   "base_numbering": 1,
   "nav_menu": {},
   "number_sections": true,
   "sideBar": true,
   "skip_h1_title": false,
   "title_cell": "Table of Contents",
   "title_sidebar": "Contents",
   "toc_cell": false,
   "toc_position": {},
   "toc_section_display": true,
   "toc_window_display": false
  },
  "varInspector": {
   "cols": {
    "lenName": 16,
    "lenType": 16,
    "lenVar": 40
   },
   "kernels_config": {
    "python": {
     "delete_cmd_postfix": "",
     "delete_cmd_prefix": "del ",
     "library": "var_list.py",
     "varRefreshCmd": "print(var_dic_list())"
    },
    "r": {
     "delete_cmd_postfix": ") ",
     "delete_cmd_prefix": "rm(",
     "library": "var_list.r",
     "varRefreshCmd": "cat(var_dic_list()) "
    }
   },
   "types_to_exclude": [
    "module",
    "function",
    "builtin_function_or_method",
    "instance",
    "_Feature"
   ],
   "window_display": false
  }
 },
 "nbformat": 4,
 "nbformat_minor": 2
}
