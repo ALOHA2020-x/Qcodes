{
 "cells": [
  {
   "cell_type": "markdown",
   "metadata": {},
   "source": [
    "# DataSet Performance\n",
    "\n",
    "This notebook shows the trade-off between inserting data into a database row-by-row and as binary blobs. Inserting the data row-by-row means that we have direct access to all the data and may perform queries directly on the values of the data. On the other hand, as we shall see, this is much slower than inserting the data directly as binary blobs."
   ]
  },
  {
   "cell_type": "markdown",
   "metadata": {},
   "source": [
    "First, we choose a new location for the database to ensure that we don't add a bunch of benchmarking data to the default one."
   ]
  },
  {
   "cell_type": "code",
   "execution_count": 1,
   "metadata": {
    "execution": {
     "iopub.execute_input": "2021-02-15T07:55:19.738015Z",
     "iopub.status.busy": "2021-02-15T07:55:19.737481Z",
     "iopub.status.idle": "2021-02-15T07:55:20.633095Z",
     "shell.execute_reply": "2021-02-15T07:55:20.632454Z"
    }
   },
   "outputs": [
    {
     "name": "stdout",
     "output_type": "stream",
     "text": [
      "Logging hadn't been started.\n",
      "Activating auto-logging. Current session state plus future input saved.\n",
      "Filename       : /home/runner/.qcodes/logs/command_history.log\n",
      "Mode           : append\n",
      "Output logging : True\n",
      "Raw input log  : False\n",
      "Timestamping   : True\n",
      "State          : active\n"
     ]
    },
    {
     "name": "stdout",
     "output_type": "stream",
     "text": [
      "Qcodes Logfile : /home/runner/.qcodes/logs/210215-3897-qcodes.log\n"
     ]
    }
   ],
   "source": [
    "import os\n",
    "cwd = os.getcwd()\n",
    "import qcodes as qc\n",
    "qc.config[\"core\"][\"db_location\"] = os.path.join(cwd, 'testing.db')\n"
   ]
  },
  {
   "cell_type": "code",
   "execution_count": 2,
   "metadata": {
    "execution": {
     "iopub.execute_input": "2021-02-15T07:55:20.640844Z",
     "iopub.status.busy": "2021-02-15T07:55:20.639399Z",
     "iopub.status.idle": "2021-02-15T07:55:20.827482Z",
     "shell.execute_reply": "2021-02-15T07:55:20.826966Z"
    }
   },
   "outputs": [],
   "source": [
    "%matplotlib inline\n",
    "import time\n",
    "import matplotlib.pyplot as plt\n",
    "import numpy as np\n",
    "\n",
    "import qcodes as qc\n",
    "from qcodes.instrument.parameter import ManualParameter\n",
    "from qcodes.dataset.experiment_container import (Experiment,\n",
    "                                                 load_last_experiment,\n",
    "                                                 new_experiment)\n",
    "from qcodes.dataset.sqlite.database import initialise_database\n",
    "from qcodes import load_or_create_experiment\n",
    "from qcodes.dataset.measurements import Measurement"
   ]
  },
  {
   "cell_type": "code",
   "execution_count": 3,
   "metadata": {
    "execution": {
     "iopub.execute_input": "2021-02-15T07:55:20.831875Z",
     "iopub.status.busy": "2021-02-15T07:55:20.831036Z",
     "iopub.status.idle": "2021-02-15T07:55:20.935123Z",
     "shell.execute_reply": "2021-02-15T07:55:20.935735Z"
    }
   },
   "outputs": [
    {
     "name": "stdout",
     "output_type": "stream",
     "text": [
      "\r",
      "0it [00:00, ?it/s]"
     ]
    },
    {
     "name": "stdout",
     "output_type": "stream",
     "text": [
      "\r",
      "Upgrading database; v0 -> v1: : 0it [00:00, ?it/s]"
     ]
    },
    {
     "name": "stdout",
     "output_type": "stream",
     "text": [
      "\r",
      "Upgrading database; v0 -> v1: : 0it [00:00, ?it/s]"
     ]
    },
    {
     "name": "stdout",
     "output_type": "stream",
     "text": [
      "\n",
      "\r",
      "  0%|          | 0/1 [00:00<?, ?it/s]"
     ]
    },
    {
     "name": "stdout",
     "output_type": "stream",
     "text": [
      "\r",
      "Upgrading database; v1 -> v2:   0%|          | 0/1 [00:00<?, ?it/s]"
     ]
    },
    {
     "name": "stdout",
     "output_type": "stream",
     "text": [
      "\r",
      "Upgrading database; v1 -> v2: 100%|██████████| 1/1 [00:00<00:00, 491.08it/s]"
     ]
    },
    {
     "name": "stdout",
     "output_type": "stream",
     "text": [
      "\n",
      "\r",
      "0it [00:00, ?it/s]"
     ]
    },
    {
     "name": "stdout",
     "output_type": "stream",
     "text": [
      "\r",
      "Upgrading database; v2 -> v3: : 0it [00:00, ?it/s]"
     ]
    },
    {
     "name": "stdout",
     "output_type": "stream",
     "text": [
      "\r",
      "Upgrading database; v2 -> v3: : 0it [00:00, ?it/s]"
     ]
    },
    {
     "name": "stdout",
     "output_type": "stream",
     "text": [
      "\n",
      "\r",
      "0it [00:00, ?it/s]"
     ]
    },
    {
     "name": "stdout",
     "output_type": "stream",
     "text": [
      "\r",
      "Upgrading database; v3 -> v4: : 0it [00:00, ?it/s]"
     ]
    },
    {
     "name": "stdout",
     "output_type": "stream",
     "text": [
      "\r",
      "Upgrading database; v3 -> v4: : 0it [00:00, ?it/s]"
     ]
    },
    {
     "name": "stdout",
     "output_type": "stream",
     "text": [
      "\n",
      "\r",
      "  0%|          | 0/1 [00:00<?, ?it/s]"
     ]
    },
    {
     "name": "stdout",
     "output_type": "stream",
     "text": [
      "\r",
      "Upgrading database; v4 -> v5:   0%|          | 0/1 [00:00<?, ?it/s]"
     ]
    },
    {
     "name": "stdout",
     "output_type": "stream",
     "text": [
      "\r",
      "Upgrading database; v4 -> v5: 100%|██████████| 1/1 [00:00<00:00, 577.65it/s]"
     ]
    },
    {
     "name": "stdout",
     "output_type": "stream",
     "text": [
      "\n",
      "\r",
      "0it [00:00, ?it/s]"
     ]
    },
    {
     "name": "stdout",
     "output_type": "stream",
     "text": [
      "\r",
      "Upgrading database; v5 -> v6: : 0it [00:00, ?it/s]"
     ]
    },
    {
     "name": "stdout",
     "output_type": "stream",
     "text": [
      "\r",
      "Upgrading database; v5 -> v6: : 0it [00:00, ?it/s]"
     ]
    },
    {
     "name": "stdout",
     "output_type": "stream",
     "text": [
      "\n",
      "\r",
      "  0%|          | 0/1 [00:00<?, ?it/s]"
     ]
    },
    {
     "name": "stdout",
     "output_type": "stream",
     "text": [
      "\r",
      "Upgrading database; v6 -> v7:   0%|          | 0/1 [00:00<?, ?it/s]"
     ]
    },
    {
     "name": "stdout",
     "output_type": "stream",
     "text": [
      "\r",
      "Upgrading database; v6 -> v7: 100%|██████████| 1/1 [00:00<00:00, 339.43it/s]"
     ]
    },
    {
     "name": "stdout",
     "output_type": "stream",
     "text": [
      "\n",
      "\r",
      "  0%|          | 0/1 [00:00<?, ?it/s]"
     ]
    },
    {
     "name": "stdout",
     "output_type": "stream",
     "text": [
      "\r",
      "Upgrading database; v7 -> v8:   0%|          | 0/1 [00:00<?, ?it/s]"
     ]
    },
    {
     "name": "stdout",
     "output_type": "stream",
     "text": [
      "\r",
      "Upgrading database; v7 -> v8: 100%|██████████| 1/1 [00:00<00:00, 501.89it/s]"
     ]
    },
    {
     "name": "stdout",
     "output_type": "stream",
     "text": [
      "\n",
      "\r",
      "  0%|          | 0/1 [00:00<?, ?it/s]"
     ]
    },
    {
     "name": "stdout",
     "output_type": "stream",
     "text": [
      "\r",
      "Upgrading database; v8 -> v9:   0%|          | 0/1 [00:00<?, ?it/s]"
     ]
    },
    {
     "name": "stdout",
     "output_type": "stream",
     "text": [
      "\r",
      "Upgrading database; v8 -> v9: 100%|██████████| 1/1 [00:00<00:00, 480.06it/s]"
     ]
    },
    {
     "name": "stdout",
     "output_type": "stream",
     "text": [
      "\n"
     ]
    }
   ],
   "source": [
    "initialise_database()\n",
    "exp = load_or_create_experiment(experiment_name='tutorial_exp', sample_name=\"no sample\")"
   ]
  },
  {
   "cell_type": "markdown",
   "metadata": {},
   "source": [
    "Here, we define a simple function to benchmark the time it takes to insert n points with either numeric or array data type.\n",
    "We will compare both the time used to call ``add_result`` and the time used for the full measurement."
   ]
  },
  {
   "cell_type": "code",
   "execution_count": 4,
   "metadata": {
    "execution": {
     "iopub.execute_input": "2021-02-15T07:55:20.945234Z",
     "iopub.status.busy": "2021-02-15T07:55:20.944014Z",
     "iopub.status.idle": "2021-02-15T07:55:20.946052Z",
     "shell.execute_reply": "2021-02-15T07:55:20.946549Z"
    }
   },
   "outputs": [],
   "source": [
    "def insert_data(paramtype, npoints, nreps=1):\n",
    "\n",
    "    meas = Measurement(exp=exp)\n",
    "\n",
    "    x1 = ManualParameter('x1')\n",
    "    x2 = ManualParameter('x2')\n",
    "    x3 = ManualParameter('x3')\n",
    "    y1 = ManualParameter('y1')\n",
    "    y2 = ManualParameter('y2')\n",
    "\n",
    "    meas.register_parameter(x1, paramtype=paramtype)\n",
    "    meas.register_parameter(x2, paramtype=paramtype)\n",
    "    meas.register_parameter(x3, paramtype=paramtype)\n",
    "    meas.register_parameter(y1, setpoints=[x1, x2, x3],\n",
    "                            paramtype=paramtype)\n",
    "    meas.register_parameter(y2, setpoints=[x1, x2, x3],\n",
    "                            paramtype=paramtype)\n",
    "    start = time.perf_counter()\n",
    "    with meas.run() as datasaver:\n",
    "        start_adding = time.perf_counter()\n",
    "        for i in range(nreps):\n",
    "            datasaver.add_result((x1, np.random.rand(npoints)),\n",
    "                                 (x2, np.random.rand(npoints)),\n",
    "                                 (x3, np.random.rand(npoints)),\n",
    "                                 (y1, np.random.rand(npoints)),\n",
    "                                 (y2, np.random.rand(npoints)))\n",
    "        stop_adding = time.perf_counter()\n",
    "        run_id = datasaver.run_id\n",
    "    stop = time.perf_counter()\n",
    "    tot_time = stop - start\n",
    "    add_time = stop_adding - start_adding\n",
    "    return tot_time, add_time, run_id"
   ]
  },
  {
   "cell_type": "markdown",
   "metadata": {},
   "source": [
    "## Comparison between numeric/array data and binary blob"
   ]
  },
  {
   "cell_type": "markdown",
   "metadata": {},
   "source": [
    "### Case1: Short experiment time"
   ]
  },
  {
   "cell_type": "code",
   "execution_count": 5,
   "metadata": {
    "execution": {
     "iopub.execute_input": "2021-02-15T07:55:20.954335Z",
     "iopub.status.busy": "2021-02-15T07:55:20.953593Z",
     "iopub.status.idle": "2021-02-15T07:55:21.847210Z",
     "shell.execute_reply": "2021-02-15T07:55:21.846640Z"
    }
   },
   "outputs": [
    {
     "name": "stdout",
     "output_type": "stream",
     "text": [
      "Starting experimental run with id: 1. \n",
      "Starting experimental run with id: 2. \n",
      "Starting experimental run with id: 3. \n",
      "Starting experimental run with id: 4. \n",
      "Starting experimental run with id: 5. \n"
     ]
    },
    {
     "name": "stdout",
     "output_type": "stream",
     "text": [
      "Starting experimental run with id: 6. \n"
     ]
    },
    {
     "name": "stdout",
     "output_type": "stream",
     "text": [
      "Starting experimental run with id: 7. \n"
     ]
    },
    {
     "name": "stdout",
     "output_type": "stream",
     "text": [
      "Starting experimental run with id: 8. \n",
      "Starting experimental run with id: 9. \n"
     ]
    },
    {
     "name": "stdout",
     "output_type": "stream",
     "text": [
      "Starting experimental run with id: 10. \n",
      "Starting experimental run with id: 11. \n"
     ]
    },
    {
     "name": "stdout",
     "output_type": "stream",
     "text": [
      "Starting experimental run with id: 12. \n"
     ]
    },
    {
     "name": "stdout",
     "output_type": "stream",
     "text": [
      "Starting experimental run with id: 13. \n"
     ]
    },
    {
     "name": "stdout",
     "output_type": "stream",
     "text": [
      "Starting experimental run with id: 14. \n"
     ]
    }
   ],
   "source": [
    "sizes = [1,500,1000,2000,3000,4000,5000]\n",
    "t_numeric = []\n",
    "t_numeric_add = []\n",
    "t_array = []\n",
    "t_array_add = []\n",
    "for size in sizes:\n",
    "    tn, tna, run_id_n =  insert_data('numeric', size)\n",
    "    t_numeric.append(tn)\n",
    "    t_numeric_add.append(tna)\n",
    "\n",
    "    ta, taa, run_id_a =  insert_data('array', size)\n",
    "    t_array.append(ta)\n",
    "    t_array_add.append(taa)"
   ]
  },
  {
   "cell_type": "code",
   "execution_count": 6,
   "metadata": {
    "execution": {
     "iopub.execute_input": "2021-02-15T07:55:21.869291Z",
     "iopub.status.busy": "2021-02-15T07:55:21.866860Z",
     "iopub.status.idle": "2021-02-15T07:55:22.112931Z",
     "shell.execute_reply": "2021-02-15T07:55:22.112415Z"
    }
   },
   "outputs": [
    {
     "data": {
      "image/png": "[encoded data removed]",
      "text/plain": [
       "<Figure size 432x288 with 1 Axes>"
      ]
     },
     "metadata": {
      "needs_background": "light"
     },
     "output_type": "display_data"
    }
   ],
   "source": [
    "fig, ax = plt.subplots(1,1)\n",
    "ax.plot(sizes, t_numeric, 'o-', label='Inserting row-by-row')\n",
    "ax.plot(sizes, t_numeric_add, 'o-', label='Inserting row-by-row: add_result only')\n",
    "ax.plot(sizes, t_array, 'd-', label='Inserting as binary blob')\n",
    "ax.plot(sizes, t_array_add, 'd-', label='Inserting as binary blob: add_result only')\n",
    "ax.legend()\n",
    "ax.set_xlabel('Array length')\n",
    "ax.set_ylabel('Time (s)')\n",
    "fig.tight_layout()"
   ]
  },
  {
   "cell_type": "markdown",
   "metadata": {},
   "source": [
    "As shown in the latter figure, the time to setup and and close the experiment is approximately 0.4 sec. In case of small array sizes, the difference between inserting values of data as arrays and inserting them row-by-row is relatively unimportant. At larger array sizes, i.e. above 10000 points, the cost of writing data as individual datapoints starts to become important.\n"
   ]
  },
  {
   "cell_type": "markdown",
   "metadata": {},
   "source": [
    "### Case2: Long experiment time "
   ]
  },
  {
   "cell_type": "code",
   "execution_count": 7,
   "metadata": {
    "execution": {
     "iopub.execute_input": "2021-02-15T07:55:22.120347Z",
     "iopub.status.busy": "2021-02-15T07:55:22.119099Z",
     "iopub.status.idle": "2021-02-15T07:56:22.943599Z",
     "shell.execute_reply": "2021-02-15T07:56:22.942603Z"
    }
   },
   "outputs": [
    {
     "name": "stdout",
     "output_type": "stream",
     "text": [
      "Starting experimental run with id: 15. \n",
      "Starting experimental run with id: 16. \n"
     ]
    },
    {
     "name": "stdout",
     "output_type": "stream",
     "text": [
      "Starting experimental run with id: 17. \n"
     ]
    },
    {
     "name": "stdout",
     "output_type": "stream",
     "text": [
      "Starting experimental run with id: 18. \n"
     ]
    },
    {
     "name": "stdout",
     "output_type": "stream",
     "text": [
      "Starting experimental run with id: 19. \n"
     ]
    },
    {
     "name": "stdout",
     "output_type": "stream",
     "text": [
      "Starting experimental run with id: 20. \n"
     ]
    },
    {
     "name": "stdout",
     "output_type": "stream",
     "text": [
      "Starting experimental run with id: 21. \n"
     ]
    },
    {
     "name": "stdout",
     "output_type": "stream",
     "text": [
      "Starting experimental run with id: 22. \n"
     ]
    },
    {
     "name": "stdout",
     "output_type": "stream",
     "text": [
      "Starting experimental run with id: 23. \n"
     ]
    },
    {
     "name": "stdout",
     "output_type": "stream",
     "text": [
      "Starting experimental run with id: 24. \n"
     ]
    },
    {
     "name": "stdout",
     "output_type": "stream",
     "text": [
      "Starting experimental run with id: 25. \n"
     ]
    },
    {
     "name": "stdout",
     "output_type": "stream",
     "text": [
      "Starting experimental run with id: 26. \n"
     ]
    },
    {
     "name": "stdout",
     "output_type": "stream",
     "text": [
      "Starting experimental run with id: 27. \n"
     ]
    },
    {
     "name": "stdout",
     "output_type": "stream",
     "text": [
      "Starting experimental run with id: 28. \n"
     ]
    }
   ],
   "source": [
    "sizes = [1,500,1000,2000,3000,4000,5000]\n",
    "nreps = 100\n",
    "t_numeric = []\n",
    "t_numeric_add = []\n",
    "t_numeric_run_ids = []\n",
    "t_array = []\n",
    "t_array_add = []\n",
    "t_array_run_ids = []\n",
    "for size in sizes:\n",
    "    tn, tna, run_id_n =  insert_data('numeric', size, nreps=nreps)\n",
    "    t_numeric.append(tn)\n",
    "    t_numeric_add.append(tna)\n",
    "    t_numeric_run_ids.append(run_id_n)\n",
    "\n",
    "    ta, taa, run_id_a =  insert_data('array', size, nreps=nreps)\n",
    "    t_array.append(ta)\n",
    "    t_array_add.append(taa)\n",
    "    t_array_run_ids.append(run_id_a)"
   ]
  },
  {
   "cell_type": "code",
   "execution_count": 8,
   "metadata": {
    "execution": {
     "iopub.execute_input": "2021-02-15T07:56:22.962933Z",
     "iopub.status.busy": "2021-02-15T07:56:22.960317Z",
     "iopub.status.idle": "2021-02-15T07:56:23.194593Z",
     "shell.execute_reply": "2021-02-15T07:56:23.194079Z"
    },
    "scrolled": true
   },
   "outputs": [
    {
     "data": {
      "image/png": "[encoded data removed]",
      "text/plain": [
       "<Figure size 432x288 with 1 Axes>"
      ]
     },
     "metadata": {
      "needs_background": "light"
     },
     "output_type": "display_data"
    }
   ],
   "source": [
    "fig, ax = plt.subplots(1,1)\n",
    "ax.plot(sizes, t_numeric, 'o-', label='Inserting row-by-row')\n",
    "ax.plot(sizes, t_numeric_add, 'o-', label='Inserting row-by-row: add_result only')\n",
    "ax.plot(sizes, t_array, 'd-', label='Inserting as binary blob')\n",
    "ax.plot(sizes, t_array_add, 'd-', label='Inserting as binary blob: add_result only')\n",
    "ax.legend()\n",
    "ax.set_xlabel('Array length')\n",
    "ax.set_ylabel('Time (s)')\n",
    "fig.tight_layout()"
   ]
  },
  {
   "cell_type": "markdown",
   "metadata": {},
   "source": [
    "However, as we increase the length of the experiment, as seen here by repeating the insertion 100 times, we see a big difference between inserting values of the data row-by-row and inserting it as a binary blob."
   ]
  },
  {
   "cell_type": "markdown",
   "metadata": {},
   "source": [
    "## Loading the data "
   ]
  },
  {
   "cell_type": "code",
   "execution_count": 9,
   "metadata": {
    "execution": {
     "iopub.execute_input": "2021-02-15T07:56:23.199362Z",
     "iopub.status.busy": "2021-02-15T07:56:23.198764Z",
     "iopub.status.idle": "2021-02-15T07:56:23.201749Z",
     "shell.execute_reply": "2021-02-15T07:56:23.201035Z"
    }
   },
   "outputs": [],
   "source": [
    "from qcodes.dataset.data_set import load_by_id\n",
    "from qcodes.dataset.data_export import get_data_by_id"
   ]
  },
  {
   "cell_type": "markdown",
   "metadata": {},
   "source": [
    "As usual you can load the data by using the ``load_by_id`` function but you will notice that the different storage methods\n",
    "are reflected in shape of the data as it is retrieved. "
   ]
  },
  {
   "cell_type": "code",
   "execution_count": 10,
   "metadata": {
    "execution": {
     "iopub.execute_input": "2021-02-15T07:56:23.206582Z",
     "iopub.status.busy": "2021-02-15T07:56:23.205213Z",
     "iopub.status.idle": "2021-02-15T07:56:23.207340Z",
     "shell.execute_reply": "2021-02-15T07:56:23.207915Z"
    }
   },
   "outputs": [],
   "source": [
    "run_id_n = t_numeric_run_ids[0]\n",
    "run_id_a = t_array_run_ids[0]"
   ]
  },
  {
   "cell_type": "code",
   "execution_count": 11,
   "metadata": {
    "execution": {
     "iopub.execute_input": "2021-02-15T07:56:23.211902Z",
     "iopub.status.busy": "2021-02-15T07:56:23.211251Z",
     "iopub.status.idle": "2021-02-15T07:56:23.222469Z",
     "shell.execute_reply": "2021-02-15T07:56:23.221914Z"
    },
    "scrolled": true
   },
   "outputs": [
    {
     "data": {
      "text/plain": [
       "{'x1': {'x1': array([0.92546951, 0.92546951, 0.82594978, 0.82594978, 0.0443613 ,\n",
       "         0.0443613 , 0.67872778, 0.67872778, 0.82929696, 0.82929696,\n",
       "         0.39422418, 0.39422418, 0.12799998, 0.12799998, 0.36087643,\n",
       "         0.36087643, 0.44645523, 0.44645523, 0.57419079, 0.57419079,\n",
       "         0.92682678, 0.92682678, 0.98981115, 0.98981115, 0.62796083,\n",
       "         0.62796083, 0.1592633 , 0.1592633 , 0.28324505, 0.28324505,\n",
       "         0.77016594, 0.77016594, 0.98494796, 0.98494796, 0.59728858,\n",
       "         0.59728858, 0.14399931, 0.14399931, 0.35504373, 0.35504373,\n",
       "         0.12357818, 0.12357818, 0.44310696, 0.44310696, 0.88677569,\n",
       "         0.88677569, 0.18798948, 0.18798948, 0.50881636, 0.50881636,\n",
       "         0.3189238 , 0.3189238 , 0.56530252, 0.56530252, 0.91797832,\n",
       "         0.91797832, 0.00552152, 0.00552152, 0.35759435, 0.35759435,\n",
       "         0.71675507, 0.71675507, 0.102188  , 0.102188  , 0.45277524,\n",
       "         0.45277524, 0.38029495, 0.38029495, 0.89234177, 0.89234177,\n",
       "         0.3479992 , 0.3479992 , 0.11792917, 0.11792917, 0.73860956,\n",
       "         0.73860956, 0.42815956, 0.42815956, 0.31091951, 0.31091951,\n",
       "         0.07070926, 0.07070926, 0.78879841, 0.78879841, 0.89403964,\n",
       "         0.89403964, 0.03297583, 0.03297583, 0.24780777, 0.24780777,\n",
       "         0.28077069, 0.28077069, 0.29357397, 0.29357397, 0.00710145,\n",
       "         0.00710145, 0.21267423, 0.21267423, 0.28987472, 0.28987472,\n",
       "         0.10012775, 0.10012775, 0.09302668, 0.09302668, 0.84725097,\n",
       "         0.84725097, 0.38676084, 0.38676084, 0.69230188, 0.69230188,\n",
       "         0.36460399, 0.36460399, 0.99641809, 0.99641809, 0.49927779,\n",
       "         0.49927779, 0.53624828, 0.53624828, 0.07351654, 0.07351654,\n",
       "         0.16825395, 0.16825395, 0.80499729, 0.80499729, 0.91418611,\n",
       "         0.91418611, 0.53387929, 0.53387929, 0.62051202, 0.62051202,\n",
       "         0.13106359, 0.13106359, 0.39168024, 0.39168024, 0.82417097,\n",
       "         0.82417097, 0.96587154, 0.96587154, 0.26806696, 0.26806696,\n",
       "         0.65286965, 0.65286965, 0.98325778, 0.98325778, 0.07967529,\n",
       "         0.07967529, 0.79955723, 0.79955723, 0.46232502, 0.46232502,\n",
       "         0.02009141, 0.02009141, 0.21035398, 0.21035398, 0.29978796,\n",
       "         0.29978796, 0.9291118 , 0.9291118 , 0.91927766, 0.91927766,\n",
       "         0.92950869, 0.92950869, 0.55945444, 0.55945444, 0.73455574,\n",
       "         0.73455574, 0.9282226 , 0.9282226 , 0.89578576, 0.89578576,\n",
       "         0.78757555, 0.78757555, 0.48794896, 0.48794896, 0.86834296,\n",
       "         0.86834296, 0.27000881, 0.27000881, 0.56724984, 0.56724984,\n",
       "         0.78532449, 0.78532449, 0.11920526, 0.11920526, 0.91461754,\n",
       "         0.91461754, 0.35148251, 0.35148251, 0.74794118, 0.74794118,\n",
       "         0.03433663, 0.03433663, 0.02920115, 0.02920115, 0.95358941,\n",
       "         0.95358941, 0.11242934, 0.11242934, 0.60026483, 0.60026483])}}"
      ]
     },
     "execution_count": 1,
     "metadata": {},
     "output_type": "execute_result"
    }
   ],
   "source": [
    "ds = load_by_id(run_id_n)\n",
    "ds.get_parameter_data('x1')"
   ]
  },
  {
   "cell_type": "markdown",
   "metadata": {},
   "source": [
    "And a dataset stored as binary arrays"
   ]
  },
  {
   "cell_type": "code",
   "execution_count": 12,
   "metadata": {
    "execution": {
     "iopub.execute_input": "2021-02-15T07:56:23.226545Z",
     "iopub.status.busy": "2021-02-15T07:56:23.225785Z",
     "iopub.status.idle": "2021-02-15T07:56:23.293066Z",
     "shell.execute_reply": "2021-02-15T07:56:23.293628Z"
    },
    "scrolled": true
   },
   "outputs": [
    {
     "data": {
      "text/plain": [
       "{'x1': {'x1': array([[0.97969513],\n",
       "         [0.97969513],\n",
       "         [0.47404346],\n",
       "         [0.47404346],\n",
       "         [0.9903976 ],\n",
       "         [0.9903976 ],\n",
       "         [0.22634746],\n",
       "         [0.22634746],\n",
       "         [0.62022651],\n",
       "         [0.62022651],\n",
       "         [0.26442773],\n",
       "         [0.26442773],\n",
       "         [0.25412423],\n",
       "         [0.25412423],\n",
       "         [0.15436126],\n",
       "         [0.15436126],\n",
       "         [0.86751855],\n",
       "         [0.86751855],\n",
       "         [0.00172459],\n",
       "         [0.00172459],\n",
       "         [0.89955336],\n",
       "         [0.89955336],\n",
       "         [0.19857339],\n",
       "         [0.19857339],\n",
       "         [0.49041868],\n",
       "         [0.49041868],\n",
       "         [0.53521846],\n",
       "         [0.53521846],\n",
       "         [0.68731619],\n",
       "         [0.68731619],\n",
       "         [0.22497792],\n",
       "         [0.22497792],\n",
       "         [0.8649743 ],\n",
       "         [0.8649743 ],\n",
       "         [0.88664337],\n",
       "         [0.88664337],\n",
       "         [0.76131224],\n",
       "         [0.76131224],\n",
       "         [0.40650072],\n",
       "         [0.40650072],\n",
       "         [0.81856325],\n",
       "         [0.81856325],\n",
       "         [0.64701382],\n",
       "         [0.64701382],\n",
       "         [0.3982893 ],\n",
       "         [0.3982893 ],\n",
       "         [0.14916149],\n",
       "         [0.14916149],\n",
       "         [0.90167196],\n",
       "         [0.90167196],\n",
       "         [0.23957379],\n",
       "         [0.23957379],\n",
       "         [0.46881526],\n",
       "         [0.46881526],\n",
       "         [0.61098188],\n",
       "         [0.61098188],\n",
       "         [0.19354579],\n",
       "         [0.19354579],\n",
       "         [0.51504901],\n",
       "         [0.51504901],\n",
       "         [0.18044822],\n",
       "         [0.18044822],\n",
       "         [0.99139167],\n",
       "         [0.99139167],\n",
       "         [0.04417423],\n",
       "         [0.04417423],\n",
       "         [0.33530643],\n",
       "         [0.33530643],\n",
       "         [0.26906965],\n",
       "         [0.26906965],\n",
       "         [0.94666515],\n",
       "         [0.94666515],\n",
       "         [0.10243101],\n",
       "         [0.10243101],\n",
       "         [0.38791067],\n",
       "         [0.38791067],\n",
       "         [0.68882494],\n",
       "         [0.68882494],\n",
       "         [0.36189946],\n",
       "         [0.36189946],\n",
       "         [0.40315187],\n",
       "         [0.40315187],\n",
       "         [0.38692665],\n",
       "         [0.38692665],\n",
       "         [0.02920286],\n",
       "         [0.02920286],\n",
       "         [0.70833744],\n",
       "         [0.70833744],\n",
       "         [0.14988015],\n",
       "         [0.14988015],\n",
       "         [0.22886547],\n",
       "         [0.22886547],\n",
       "         [0.00786141],\n",
       "         [0.00786141],\n",
       "         [0.21183943],\n",
       "         [0.21183943],\n",
       "         [0.03581706],\n",
       "         [0.03581706],\n",
       "         [0.01097737],\n",
       "         [0.01097737],\n",
       "         [0.96484394],\n",
       "         [0.96484394],\n",
       "         [0.0360352 ],\n",
       "         [0.0360352 ],\n",
       "         [0.2277076 ],\n",
       "         [0.2277076 ],\n",
       "         [0.34468347],\n",
       "         [0.34468347],\n",
       "         [0.41286447],\n",
       "         [0.41286447],\n",
       "         [0.99682688],\n",
       "         [0.99682688],\n",
       "         [0.36397703],\n",
       "         [0.36397703],\n",
       "         [0.93326832],\n",
       "         [0.93326832],\n",
       "         [0.21679748],\n",
       "         [0.21679748],\n",
       "         [0.79086264],\n",
       "         [0.79086264],\n",
       "         [0.60511827],\n",
       "         [0.60511827],\n",
       "         [0.04889221],\n",
       "         [0.04889221],\n",
       "         [0.19169021],\n",
       "         [0.19169021],\n",
       "         [0.63167887],\n",
       "         [0.63167887],\n",
       "         [0.32184787],\n",
       "         [0.32184787],\n",
       "         [0.44089525],\n",
       "         [0.44089525],\n",
       "         [0.15618024],\n",
       "         [0.15618024],\n",
       "         [0.58967016],\n",
       "         [0.58967016],\n",
       "         [0.92236045],\n",
       "         [0.92236045],\n",
       "         [0.77523265],\n",
       "         [0.77523265],\n",
       "         [0.75594514],\n",
       "         [0.75594514],\n",
       "         [0.48230365],\n",
       "         [0.48230365],\n",
       "         [0.56170079],\n",
       "         [0.56170079],\n",
       "         [0.51105076],\n",
       "         [0.51105076],\n",
       "         [0.04736646],\n",
       "         [0.04736646],\n",
       "         [0.19306582],\n",
       "         [0.19306582],\n",
       "         [0.97357983],\n",
       "         [0.97357983],\n",
       "         [0.49657408],\n",
       "         [0.49657408],\n",
       "         [0.05038901],\n",
       "         [0.05038901],\n",
       "         [0.21960606],\n",
       "         [0.21960606],\n",
       "         [0.5816656 ],\n",
       "         [0.5816656 ],\n",
       "         [0.17666795],\n",
       "         [0.17666795],\n",
       "         [0.21591394],\n",
       "         [0.21591394],\n",
       "         [0.94224659],\n",
       "         [0.94224659],\n",
       "         [0.63594336],\n",
       "         [0.63594336],\n",
       "         [0.77888467],\n",
       "         [0.77888467],\n",
       "         [0.65628849],\n",
       "         [0.65628849],\n",
       "         [0.30977229],\n",
       "         [0.30977229],\n",
       "         [0.56321093],\n",
       "         [0.56321093],\n",
       "         [0.00687259],\n",
       "         [0.00687259],\n",
       "         [0.11128162],\n",
       "         [0.11128162],\n",
       "         [0.07595273],\n",
       "         [0.07595273],\n",
       "         [0.14504711],\n",
       "         [0.14504711],\n",
       "         [0.83417525],\n",
       "         [0.83417525],\n",
       "         [0.66498042],\n",
       "         [0.66498042],\n",
       "         [0.41923978],\n",
       "         [0.41923978],\n",
       "         [0.94999109],\n",
       "         [0.94999109],\n",
       "         [0.5903134 ],\n",
       "         [0.5903134 ],\n",
       "         [0.27801404],\n",
       "         [0.27801404],\n",
       "         [0.88048921],\n",
       "         [0.88048921]])}}"
      ]
     },
     "execution_count": 1,
     "metadata": {},
     "output_type": "execute_result"
    }
   ],
   "source": [
    "ds = load_by_id(run_id_a)\n",
    "ds.get_parameter_data('x1')"
   ]
  },
  {
   "cell_type": "code",
   "execution_count": null,
   "metadata": {},
   "outputs": [],
   "source": []
  }
 ],
 "metadata": {
  "kernelspec": {
   "display_name": "Python 3",
   "language": "python",
   "name": "python3"
  },
  "language_info": {
   "codemirror_mode": {
    "name": "ipython",
    "version": 3
   },
   "file_extension": ".py",
   "mimetype": "text/x-python",
   "name": "python",
   "nbconvert_exporter": "python",
   "pygments_lexer": "ipython3",
   "version": "3.7.9"
  },
  "nbsphinx": {
   "timeout": 600
  },
  "toc": {
   "base_numbering": 1,
   "nav_menu": {},
   "number_sections": true,
   "sideBar": true,
   "skip_h1_title": false,
   "title_cell": "Table of Contents",
   "title_sidebar": "Contents",
   "toc_cell": false,
   "toc_position": {},
   "toc_section_display": true,
   "toc_window_display": false
  },
  "varInspector": {
   "cols": {
    "lenName": 16,
    "lenType": 16,
    "lenVar": 40
   },
   "kernels_config": {
    "python": {
     "delete_cmd_postfix": "",
     "delete_cmd_prefix": "del ",
     "library": "var_list.py",
     "varRefreshCmd": "print(var_dic_list())"
    },
    "r": {
     "delete_cmd_postfix": ") ",
     "delete_cmd_prefix": "rm(",
     "library": "var_list.r",
     "varRefreshCmd": "cat(var_dic_list()) "
    }
   },
   "types_to_exclude": [
    "module",
    "function",
    "builtin_function_or_method",
    "instance",
    "_Feature"
   ],
   "window_display": false
  }
 },
 "nbformat": 4,
 "nbformat_minor": 2
}
