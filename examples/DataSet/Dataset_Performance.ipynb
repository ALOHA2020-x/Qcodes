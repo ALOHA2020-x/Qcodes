{
 "cells": [
  {
   "cell_type": "markdown",
   "metadata": {},
   "source": [
    "# DataSet Performance\n",
    "\n",
    "This notebook shows the trade-off between inserting data into a database row-by-row and as binary blobs. Inserting the data row-by-row means that we have direct access to all the data and may perform queries directly on the values of the data. On the other hand, as we shall see, this is much slower than inserting the data directly as binary blobs."
   ]
  },
  {
   "cell_type": "markdown",
   "metadata": {},
   "source": [
    "First, we choose a new location for the database to ensure that we don't add a bunch of benchmarking data to the default one."
   ]
  },
  {
   "cell_type": "code",
   "execution_count": 1,
   "metadata": {},
   "outputs": [
    {
     "name": "stdout",
     "output_type": "stream",
     "text": [
      "Logging hadn't been started.\n",
      "Activating auto-logging. Current session state plus future input saved.\n",
      "Filename       : /home/vsts/.qcodes/logs/command_history.log\n",
      "Mode           : append\n",
      "Output logging : True\n",
      "Raw input log  : False\n",
      "Timestamping   : True\n",
      "State          : active\n"
     ]
    },
    {
     "name": "stdout",
     "output_type": "stream",
     "text": [
      "Qcodes Logfile : /home/vsts/.qcodes/logs/200630-19865-qcodes.log\n"
     ]
    }
   ],
   "source": [
    "import os\n",
    "cwd = os.getcwd()\n",
    "import qcodes as qc\n",
    "qc.config[\"core\"][\"db_location\"] = os.path.join(cwd, 'testing.db')\n"
   ]
  },
  {
   "cell_type": "code",
   "execution_count": 2,
   "metadata": {},
   "outputs": [],
   "source": [
    "%matplotlib inline\n",
    "import time\n",
    "import matplotlib.pyplot as plt\n",
    "import numpy as np\n",
    "\n",
    "import qcodes as qc\n",
    "from qcodes.instrument.parameter import ManualParameter\n",
    "from qcodes.dataset.experiment_container import (Experiment,\n",
    "                                                 load_last_experiment,\n",
    "                                                 new_experiment)\n",
    "from qcodes.dataset.sqlite.database import initialise_database\n",
    "from qcodes import load_or_create_experiment\n",
    "from qcodes.dataset.measurements import Measurement"
   ]
  },
  {
   "cell_type": "code",
   "execution_count": 3,
   "metadata": {},
   "outputs": [
    {
     "name": "stdout",
     "output_type": "stream",
     "text": [
      "\r",
      "0it [00:00, ?it/s]"
     ]
    },
    {
     "name": "stdout",
     "output_type": "stream",
     "text": [
      "\r",
      "Upgrading database; v0 -> v1: : 0it [00:00, ?it/s]"
     ]
    },
    {
     "name": "stdout",
     "output_type": "stream",
     "text": [
      "\r",
      "Upgrading database; v0 -> v1: : 0it [00:00, ?it/s]"
     ]
    },
    {
     "name": "stdout",
     "output_type": "stream",
     "text": [
      "\n",
      "\r",
      "  0%|          | 0/1 [00:00<?, ?it/s]"
     ]
    },
    {
     "name": "stdout",
     "output_type": "stream",
     "text": [
      "\r",
      "Upgrading database; v1 -> v2:   0%|          | 0/1 [00:00<?, ?it/s]"
     ]
    },
    {
     "name": "stdout",
     "output_type": "stream",
     "text": [
      "\r",
      "Upgrading database; v1 -> v2: 100%|██████████| 1/1 [00:00<00:00, 786.33it/s]"
     ]
    },
    {
     "name": "stdout",
     "output_type": "stream",
     "text": [
      "\n",
      "\r",
      "0it [00:00, ?it/s]"
     ]
    },
    {
     "name": "stdout",
     "output_type": "stream",
     "text": [
      "\r",
      "Upgrading database; v2 -> v3: : 0it [00:00, ?it/s]"
     ]
    },
    {
     "name": "stdout",
     "output_type": "stream",
     "text": [
      "\r",
      "Upgrading database; v2 -> v3: : 0it [00:00, ?it/s]"
     ]
    },
    {
     "name": "stdout",
     "output_type": "stream",
     "text": [
      "\n",
      "\r",
      "0it [00:00, ?it/s]"
     ]
    },
    {
     "name": "stdout",
     "output_type": "stream",
     "text": [
      "\r",
      "Upgrading database; v3 -> v4: : 0it [00:00, ?it/s]"
     ]
    },
    {
     "name": "stdout",
     "output_type": "stream",
     "text": [
      "\r",
      "Upgrading database; v3 -> v4: : 0it [00:00, ?it/s]"
     ]
    },
    {
     "name": "stdout",
     "output_type": "stream",
     "text": [
      "\n",
      "\r",
      "  0%|          | 0/1 [00:00<?, ?it/s]"
     ]
    },
    {
     "name": "stdout",
     "output_type": "stream",
     "text": [
      "\r",
      "Upgrading database; v4 -> v5:   0%|          | 0/1 [00:00<?, ?it/s]"
     ]
    },
    {
     "name": "stdout",
     "output_type": "stream",
     "text": [
      "\r",
      "Upgrading database; v4 -> v5: 100%|██████████| 1/1 [00:00<00:00, 547.77it/s]"
     ]
    },
    {
     "name": "stdout",
     "output_type": "stream",
     "text": [
      "\n",
      "\r",
      "0it [00:00, ?it/s]"
     ]
    },
    {
     "name": "stdout",
     "output_type": "stream",
     "text": [
      "\r",
      "Upgrading database; v5 -> v6: : 0it [00:00, ?it/s]"
     ]
    },
    {
     "name": "stdout",
     "output_type": "stream",
     "text": [
      "\r",
      "Upgrading database; v5 -> v6: : 0it [00:00, ?it/s]"
     ]
    },
    {
     "name": "stdout",
     "output_type": "stream",
     "text": [
      "\n",
      "\r",
      "  0%|          | 0/1 [00:00<?, ?it/s]"
     ]
    },
    {
     "name": "stdout",
     "output_type": "stream",
     "text": [
      "\r",
      "Upgrading database; v6 -> v7:   0%|          | 0/1 [00:00<?, ?it/s]"
     ]
    },
    {
     "name": "stdout",
     "output_type": "stream",
     "text": [
      "\r",
      "Upgrading database; v6 -> v7: 100%|██████████| 1/1 [00:00<00:00, 178.59it/s]"
     ]
    },
    {
     "name": "stdout",
     "output_type": "stream",
     "text": [
      "\n",
      "\r",
      "  0%|          | 0/1 [00:00<?, ?it/s]"
     ]
    },
    {
     "name": "stdout",
     "output_type": "stream",
     "text": [
      "\r",
      "Upgrading database; v7 -> v8:   0%|          | 0/1 [00:00<?, ?it/s]"
     ]
    },
    {
     "name": "stdout",
     "output_type": "stream",
     "text": [
      "\r",
      "Upgrading database; v7 -> v8: 100%|██████████| 1/1 [00:00<00:00, 555.10it/s]"
     ]
    },
    {
     "name": "stdout",
     "output_type": "stream",
     "text": [
      "\n",
      "\r",
      "  0%|          | 0/1 [00:00<?, ?it/s]"
     ]
    },
    {
     "name": "stdout",
     "output_type": "stream",
     "text": [
      "\r",
      "Upgrading database; v8 -> v9:   0%|          | 0/1 [00:00<?, ?it/s]"
     ]
    },
    {
     "name": "stdout",
     "output_type": "stream",
     "text": [
      "\r",
      "Upgrading database; v8 -> v9: 100%|██████████| 1/1 [00:00<00:00, 717.47it/s]"
     ]
    },
    {
     "name": "stdout",
     "output_type": "stream",
     "text": [
      "\n"
     ]
    }
   ],
   "source": [
    "initialise_database()\n",
    "exp = load_or_create_experiment(experiment_name='tutorial_exp', sample_name=\"no sample\")"
   ]
  },
  {
   "cell_type": "markdown",
   "metadata": {},
   "source": [
    "Here, we define a simple function to benchmark the time it takes to insert n points with either numeric or array data type.\n",
    "We will compare both the time used to call ``add_result`` and the time used for the full measurement."
   ]
  },
  {
   "cell_type": "code",
   "execution_count": 4,
   "metadata": {},
   "outputs": [],
   "source": [
    "def insert_data(paramtype, npoints, nreps=1):\n",
    "\n",
    "    meas = Measurement(exp=exp)\n",
    "\n",
    "    x1 = ManualParameter('x1')\n",
    "    x2 = ManualParameter('x2')\n",
    "    x3 = ManualParameter('x3')\n",
    "    y1 = ManualParameter('y1')\n",
    "    y2 = ManualParameter('y2')\n",
    "\n",
    "    meas.register_parameter(x1, paramtype=paramtype)\n",
    "    meas.register_parameter(x2, paramtype=paramtype)\n",
    "    meas.register_parameter(x3, paramtype=paramtype)\n",
    "    meas.register_parameter(y1, setpoints=[x1, x2, x3],\n",
    "                            paramtype=paramtype)\n",
    "    meas.register_parameter(y2, setpoints=[x1, x2, x3],\n",
    "                            paramtype=paramtype)\n",
    "    start = time.perf_counter()\n",
    "    with meas.run() as datasaver:\n",
    "        start_adding = time.perf_counter()\n",
    "        for i in range(nreps):\n",
    "            datasaver.add_result((x1, np.random.rand(npoints)),\n",
    "                                 (x2, np.random.rand(npoints)),\n",
    "                                 (x3, np.random.rand(npoints)),\n",
    "                                 (y1, np.random.rand(npoints)),\n",
    "                                 (y2, np.random.rand(npoints)))\n",
    "        stop_adding = time.perf_counter()\n",
    "        run_id = datasaver.run_id\n",
    "    stop = time.perf_counter()\n",
    "    tot_time = stop - start\n",
    "    add_time = stop_adding - start_adding\n",
    "    return tot_time, add_time, run_id"
   ]
  },
  {
   "cell_type": "markdown",
   "metadata": {},
   "source": [
    "## Comparison between numeric/array data and binary blob"
   ]
  },
  {
   "cell_type": "markdown",
   "metadata": {},
   "source": [
    "### Case1: Short experiment time"
   ]
  },
  {
   "cell_type": "code",
   "execution_count": 5,
   "metadata": {},
   "outputs": [
    {
     "name": "stdout",
     "output_type": "stream",
     "text": [
      "Starting experimental run with id: 1. \n",
      "Starting experimental run with id: 2. \n",
      "Starting experimental run with id: 3. \n"
     ]
    },
    {
     "name": "stdout",
     "output_type": "stream",
     "text": [
      "Starting experimental run with id: 4. \n"
     ]
    },
    {
     "name": "stdout",
     "output_type": "stream",
     "text": [
      "Starting experimental run with id: 5. "
     ]
    },
    {
     "name": "stdout",
     "output_type": "stream",
     "text": [
      "\n"
     ]
    },
    {
     "name": "stdout",
     "output_type": "stream",
     "text": [
      "Starting experimental run with id: 6. \n",
      "Starting experimental run with id: 7. \n"
     ]
    },
    {
     "name": "stdout",
     "output_type": "stream",
     "text": [
      "Starting experimental run with id: 8. \n"
     ]
    },
    {
     "name": "stdout",
     "output_type": "stream",
     "text": [
      "Starting experimental run with id: 9. \n"
     ]
    },
    {
     "name": "stdout",
     "output_type": "stream",
     "text": [
      "Starting experimental run with id: 10. \n",
      "Starting experimental run with id: 11. \n"
     ]
    },
    {
     "name": "stdout",
     "output_type": "stream",
     "text": [
      "Starting experimental run with id: 12. \n",
      "Starting experimental run with id: 13. \n"
     ]
    },
    {
     "name": "stdout",
     "output_type": "stream",
     "text": [
      "Starting experimental run with id: 14. \n"
     ]
    }
   ],
   "source": [
    "sizes = [1,500,1000,2000,3000,4000,5000]\n",
    "t_numeric = []\n",
    "t_numeric_add = []\n",
    "t_array = []\n",
    "t_array_add = []\n",
    "for size in sizes:\n",
    "    tn, tna, run_id_n =  insert_data('numeric', size)\n",
    "    t_numeric.append(tn)\n",
    "    t_numeric_add.append(tna)\n",
    "\n",
    "    ta, taa, run_id_a =  insert_data('array', size)\n",
    "    t_array.append(ta)\n",
    "    t_array_add.append(taa)"
   ]
  },
  {
   "cell_type": "code",
   "execution_count": 6,
   "metadata": {},
   "outputs": [
    {
     "data": {
      "image/png": "[encoded data removed]",
      "text/plain": [
       "<Figure size 432x288 with 1 Axes>"
      ]
     },
     "metadata": {
      "needs_background": "light"
     },
     "output_type": "display_data"
    }
   ],
   "source": [
    "fig, ax = plt.subplots(1,1)\n",
    "ax.plot(sizes, t_numeric, 'o-', label='Inserting row-by-row')\n",
    "ax.plot(sizes, t_numeric_add, 'o-', label='Inserting row-by-row: add_result only')\n",
    "ax.plot(sizes, t_array, 'd-', label='Inserting as binary blob')\n",
    "ax.plot(sizes, t_array_add, 'd-', label='Inserting as binary blob: add_result only')\n",
    "ax.legend()\n",
    "ax.set_xlabel('Array length')\n",
    "ax.set_ylabel('Time (s)')\n",
    "fig.tight_layout()"
   ]
  },
  {
   "cell_type": "markdown",
   "metadata": {},
   "source": [
    "As shown in the latter figure, the time to setup and and close the experiment is approximately 0.4 sec. In case of small array sizes, the difference between inserting values of data as arrays and inserting them row-by-row is relatively unimportant. At larger array sizes, i.e. above 10000 points, the cost of writing data as individual datapoints starts to become important.\n"
   ]
  },
  {
   "cell_type": "markdown",
   "metadata": {},
   "source": [
    "### Case2: Long experiment time "
   ]
  },
  {
   "cell_type": "code",
   "execution_count": 7,
   "metadata": {},
   "outputs": [
    {
     "name": "stdout",
     "output_type": "stream",
     "text": [
      "Starting experimental run with id: 15. \n",
      "Starting experimental run with id: 16. \n",
      "Starting experimental run with id: 17. \n"
     ]
    },
    {
     "name": "stdout",
     "output_type": "stream",
     "text": [
      "Starting experimental run with id: 18. \n",
      "Starting experimental run with id: 19. \n"
     ]
    },
    {
     "name": "stdout",
     "output_type": "stream",
     "text": [
      "Starting experimental run with id: 20. \n"
     ]
    },
    {
     "name": "stdout",
     "output_type": "stream",
     "text": [
      "Starting experimental run with id: 21. \n"
     ]
    },
    {
     "name": "stdout",
     "output_type": "stream",
     "text": [
      "Starting experimental run with id: 22. \n"
     ]
    },
    {
     "name": "stdout",
     "output_type": "stream",
     "text": [
      "Starting experimental run with id: 23. \n"
     ]
    },
    {
     "name": "stdout",
     "output_type": "stream",
     "text": [
      "Starting experimental run with id: 24. \n"
     ]
    },
    {
     "name": "stdout",
     "output_type": "stream",
     "text": [
      "Starting experimental run with id: 25. \n"
     ]
    },
    {
     "name": "stdout",
     "output_type": "stream",
     "text": [
      "Starting experimental run with id: 26. \n"
     ]
    },
    {
     "name": "stdout",
     "output_type": "stream",
     "text": [
      "Starting experimental run with id: 27. \n"
     ]
    },
    {
     "name": "stdout",
     "output_type": "stream",
     "text": [
      "Starting experimental run with id: 28. \n"
     ]
    }
   ],
   "source": [
    "sizes = [1,500,1000,2000,3000,4000,5000]\n",
    "nreps = 100\n",
    "t_numeric = []\n",
    "t_numeric_add = []\n",
    "t_numeric_run_ids = []\n",
    "t_array = []\n",
    "t_array_add = []\n",
    "t_array_run_ids = []\n",
    "for size in sizes:\n",
    "    tn, tna, run_id_n =  insert_data('numeric', size, nreps=nreps)\n",
    "    t_numeric.append(tn)\n",
    "    t_numeric_add.append(tna)\n",
    "    t_numeric_run_ids.append(run_id_n)\n",
    "\n",
    "    ta, taa, run_id_a =  insert_data('array', size, nreps=nreps)\n",
    "    t_array.append(ta)\n",
    "    t_array_add.append(taa)\n",
    "    t_array_run_ids.append(run_id_a)"
   ]
  },
  {
   "cell_type": "code",
   "execution_count": 8,
   "metadata": {
    "scrolled": true
   },
   "outputs": [
    {
     "data": {
      "image/png": "[encoded data removed]",
      "text/plain": [
       "<Figure size 432x288 with 1 Axes>"
      ]
     },
     "metadata": {
      "needs_background": "light"
     },
     "output_type": "display_data"
    }
   ],
   "source": [
    "fig, ax = plt.subplots(1,1)\n",
    "ax.plot(sizes, t_numeric, 'o-', label='Inserting row-by-row')\n",
    "ax.plot(sizes, t_numeric_add, 'o-', label='Inserting row-by-row: add_result only')\n",
    "ax.plot(sizes, t_array, 'd-', label='Inserting as binary blob')\n",
    "ax.plot(sizes, t_array_add, 'd-', label='Inserting as binary blob: add_result only')\n",
    "ax.legend()\n",
    "ax.set_xlabel('Array length')\n",
    "ax.set_ylabel('Time (s)')\n",
    "fig.tight_layout()"
   ]
  },
  {
   "cell_type": "markdown",
   "metadata": {},
   "source": [
    "However, as we increase the length of the experiment, as seen here by repeating the insertion 100 times, we see a big difference between inserting values of the data row-by-row and inserting it as a binary blob."
   ]
  },
  {
   "cell_type": "markdown",
   "metadata": {},
   "source": [
    "## Loading the data "
   ]
  },
  {
   "cell_type": "code",
   "execution_count": 9,
   "metadata": {},
   "outputs": [],
   "source": [
    "from qcodes.dataset.data_set import load_by_id\n",
    "from qcodes.dataset.data_export import get_data_by_id"
   ]
  },
  {
   "cell_type": "markdown",
   "metadata": {},
   "source": [
    "As usual you can load the data by using the ``load_by_id`` function but you will notice that the different storage methods\n",
    "are reflected in shape of the data as it is retrieved. "
   ]
  },
  {
   "cell_type": "code",
   "execution_count": 10,
   "metadata": {},
   "outputs": [],
   "source": [
    "run_id_n = t_numeric_run_ids[0]\n",
    "run_id_a = t_array_run_ids[0]"
   ]
  },
  {
   "cell_type": "code",
   "execution_count": 11,
   "metadata": {
    "scrolled": true
   },
   "outputs": [
    {
     "data": {
      "text/plain": [
       "{'x1': {'x1': array([0.647012  , 0.647012  , 0.03176434, 0.03176434, 0.39561113,\n",
       "         0.39561113, 0.26632827, 0.26632827, 0.81197131, 0.81197131,\n",
       "         0.20263243, 0.20263243, 0.43469918, 0.43469918, 0.93281425,\n",
       "         0.93281425, 0.51315787, 0.51315787, 0.74888132, 0.74888132,\n",
       "         0.460253  , 0.460253  , 0.39747548, 0.39747548, 0.86701061,\n",
       "         0.86701061, 0.52201954, 0.52201954, 0.15080468, 0.15080468,\n",
       "         0.57742169, 0.57742169, 0.74649292, 0.74649292, 0.94354991,\n",
       "         0.94354991, 0.66922648, 0.66922648, 0.21675067, 0.21675067,\n",
       "         0.1444787 , 0.1444787 , 0.72054605, 0.72054605, 0.73428789,\n",
       "         0.73428789, 0.93085204, 0.93085204, 0.17731026, 0.17731026,\n",
       "         0.33123491, 0.33123491, 0.36783173, 0.36783173, 0.31259641,\n",
       "         0.31259641, 0.18377382, 0.18377382, 0.55513289, 0.55513289,\n",
       "         0.96569329, 0.96569329, 0.22672564, 0.22672564, 0.14008535,\n",
       "         0.14008535, 0.2271424 , 0.2271424 , 0.13953872, 0.13953872,\n",
       "         0.21893504, 0.21893504, 0.67148461, 0.67148461, 0.25821722,\n",
       "         0.25821722, 0.98119217, 0.98119217, 0.60000197, 0.60000197,\n",
       "         0.78929526, 0.78929526, 0.80915053, 0.80915053, 0.21860581,\n",
       "         0.21860581, 0.83229032, 0.83229032, 0.88988642, 0.88988642,\n",
       "         0.17390582, 0.17390582, 0.32411077, 0.32411077, 0.30083082,\n",
       "         0.30083082, 0.04182734, 0.04182734, 0.34062568, 0.34062568,\n",
       "         0.85779168, 0.85779168, 0.94551516, 0.94551516, 0.19175785,\n",
       "         0.19175785, 0.29179437, 0.29179437, 0.16180455, 0.16180455,\n",
       "         0.09677133, 0.09677133, 0.14023157, 0.14023157, 0.89003182,\n",
       "         0.89003182, 0.62426744, 0.62426744, 0.85896165, 0.85896165,\n",
       "         0.93251309, 0.93251309, 0.98181344, 0.98181344, 0.80326735,\n",
       "         0.80326735, 0.93051184, 0.93051184, 0.22672078, 0.22672078,\n",
       "         0.89186264, 0.89186264, 0.63435896, 0.63435896, 0.66327041,\n",
       "         0.66327041, 0.08947271, 0.08947271, 0.01180965, 0.01180965,\n",
       "         0.71235231, 0.71235231, 0.82593526, 0.82593526, 0.12277725,\n",
       "         0.12277725, 0.67323258, 0.67323258, 0.2955167 , 0.2955167 ,\n",
       "         0.77751111, 0.77751111, 0.25631232, 0.25631232, 0.61273222,\n",
       "         0.61273222, 0.33306003, 0.33306003, 0.29219553, 0.29219553,\n",
       "         0.91661519, 0.91661519, 0.42791025, 0.42791025, 0.48704098,\n",
       "         0.48704098, 0.86501501, 0.86501501, 0.04743287, 0.04743287,\n",
       "         0.28716826, 0.28716826, 0.96202906, 0.96202906, 0.68138967,\n",
       "         0.68138967, 0.597213  , 0.597213  , 0.41886018, 0.41886018,\n",
       "         0.30822868, 0.30822868, 0.04819564, 0.04819564, 0.95105796,\n",
       "         0.95105796, 0.9670652 , 0.9670652 , 0.62632214, 0.62632214,\n",
       "         0.41822905, 0.41822905, 0.93722091, 0.93722091, 0.26295955,\n",
       "         0.26295955, 0.77860266, 0.77860266, 0.45358545, 0.45358545])}}"
      ]
     },
     "execution_count": 11,
     "metadata": {},
     "output_type": "execute_result"
    }
   ],
   "source": [
    "ds = load_by_id(run_id_n)\n",
    "ds.get_parameter_data('x1')"
   ]
  },
  {
   "cell_type": "markdown",
   "metadata": {},
   "source": [
    "And a dataset stored as binary arrays"
   ]
  },
  {
   "cell_type": "code",
   "execution_count": 12,
   "metadata": {
    "scrolled": true
   },
   "outputs": [
    {
     "data": {
      "text/plain": [
       "{'x1': {'x1': array([[0.8938296 ],\n",
       "         [0.8938296 ],\n",
       "         [0.80859231],\n",
       "         [0.80859231],\n",
       "         [0.55599971],\n",
       "         [0.55599971],\n",
       "         [0.67199695],\n",
       "         [0.67199695],\n",
       "         [0.770498  ],\n",
       "         [0.770498  ],\n",
       "         [0.25772862],\n",
       "         [0.25772862],\n",
       "         [0.55219279],\n",
       "         [0.55219279],\n",
       "         [0.5865918 ],\n",
       "         [0.5865918 ],\n",
       "         [0.33059184],\n",
       "         [0.33059184],\n",
       "         [0.75188914],\n",
       "         [0.75188914],\n",
       "         [0.42933205],\n",
       "         [0.42933205],\n",
       "         [0.88776648],\n",
       "         [0.88776648],\n",
       "         [0.75432625],\n",
       "         [0.75432625],\n",
       "         [0.08356362],\n",
       "         [0.08356362],\n",
       "         [0.24750422],\n",
       "         [0.24750422],\n",
       "         [0.20453696],\n",
       "         [0.20453696],\n",
       "         [0.20617901],\n",
       "         [0.20617901],\n",
       "         [0.81287721],\n",
       "         [0.81287721],\n",
       "         [0.06338105],\n",
       "         [0.06338105],\n",
       "         [0.99570986],\n",
       "         [0.99570986],\n",
       "         [0.64104449],\n",
       "         [0.64104449],\n",
       "         [0.71271455],\n",
       "         [0.71271455],\n",
       "         [0.87159888],\n",
       "         [0.87159888],\n",
       "         [0.42262071],\n",
       "         [0.42262071],\n",
       "         [0.56393025],\n",
       "         [0.56393025],\n",
       "         [0.97438156],\n",
       "         [0.97438156],\n",
       "         [0.96196925],\n",
       "         [0.96196925],\n",
       "         [0.73503571],\n",
       "         [0.73503571],\n",
       "         [0.35759109],\n",
       "         [0.35759109],\n",
       "         [0.64411236],\n",
       "         [0.64411236],\n",
       "         [0.85792833],\n",
       "         [0.85792833],\n",
       "         [0.59607509],\n",
       "         [0.59607509],\n",
       "         [0.69992253],\n",
       "         [0.69992253],\n",
       "         [0.11259562],\n",
       "         [0.11259562],\n",
       "         [0.35024777],\n",
       "         [0.35024777],\n",
       "         [0.61781016],\n",
       "         [0.61781016],\n",
       "         [0.80572858],\n",
       "         [0.80572858],\n",
       "         [0.13935165],\n",
       "         [0.13935165],\n",
       "         [0.42004368],\n",
       "         [0.42004368],\n",
       "         [0.53862689],\n",
       "         [0.53862689],\n",
       "         [0.75261094],\n",
       "         [0.75261094],\n",
       "         [0.50350496],\n",
       "         [0.50350496],\n",
       "         [0.2994454 ],\n",
       "         [0.2994454 ],\n",
       "         [0.99491243],\n",
       "         [0.99491243],\n",
       "         [0.49222095],\n",
       "         [0.49222095],\n",
       "         [0.9109319 ],\n",
       "         [0.9109319 ],\n",
       "         [0.92231111],\n",
       "         [0.92231111],\n",
       "         [0.83932692],\n",
       "         [0.83932692],\n",
       "         [0.77463361],\n",
       "         [0.77463361],\n",
       "         [0.27215925],\n",
       "         [0.27215925],\n",
       "         [0.36116707],\n",
       "         [0.36116707],\n",
       "         [0.60104865],\n",
       "         [0.60104865],\n",
       "         [0.60917414],\n",
       "         [0.60917414],\n",
       "         [0.1771282 ],\n",
       "         [0.1771282 ],\n",
       "         [0.96313904],\n",
       "         [0.96313904],\n",
       "         [0.9425305 ],\n",
       "         [0.9425305 ],\n",
       "         [0.54054766],\n",
       "         [0.54054766],\n",
       "         [0.84639287],\n",
       "         [0.84639287],\n",
       "         [0.27969459],\n",
       "         [0.27969459],\n",
       "         [0.22425674],\n",
       "         [0.22425674],\n",
       "         [0.44360193],\n",
       "         [0.44360193],\n",
       "         [0.05713212],\n",
       "         [0.05713212],\n",
       "         [0.13203138],\n",
       "         [0.13203138],\n",
       "         [0.73672136],\n",
       "         [0.73672136],\n",
       "         [0.52972158],\n",
       "         [0.52972158],\n",
       "         [0.24787233],\n",
       "         [0.24787233],\n",
       "         [0.92443696],\n",
       "         [0.92443696],\n",
       "         [0.44311556],\n",
       "         [0.44311556],\n",
       "         [0.17917838],\n",
       "         [0.17917838],\n",
       "         [0.69988526],\n",
       "         [0.69988526],\n",
       "         [0.64719227],\n",
       "         [0.64719227],\n",
       "         [0.31518689],\n",
       "         [0.31518689],\n",
       "         [0.23193308],\n",
       "         [0.23193308],\n",
       "         [0.59219686],\n",
       "         [0.59219686],\n",
       "         [0.85578023],\n",
       "         [0.85578023],\n",
       "         [0.39027268],\n",
       "         [0.39027268],\n",
       "         [0.0559179 ],\n",
       "         [0.0559179 ],\n",
       "         [0.61068616],\n",
       "         [0.61068616],\n",
       "         [0.83916729],\n",
       "         [0.83916729],\n",
       "         [0.10013476],\n",
       "         [0.10013476],\n",
       "         [0.42917562],\n",
       "         [0.42917562],\n",
       "         [0.44473729],\n",
       "         [0.44473729],\n",
       "         [0.5273394 ],\n",
       "         [0.5273394 ],\n",
       "         [0.24721779],\n",
       "         [0.24721779],\n",
       "         [0.1742912 ],\n",
       "         [0.1742912 ],\n",
       "         [0.85518056],\n",
       "         [0.85518056],\n",
       "         [0.22792079],\n",
       "         [0.22792079],\n",
       "         [0.41360044],\n",
       "         [0.41360044],\n",
       "         [0.46166612],\n",
       "         [0.46166612],\n",
       "         [0.97668915],\n",
       "         [0.97668915],\n",
       "         [0.17485346],\n",
       "         [0.17485346],\n",
       "         [0.29222614],\n",
       "         [0.29222614],\n",
       "         [0.83549815],\n",
       "         [0.83549815],\n",
       "         [0.64310653],\n",
       "         [0.64310653],\n",
       "         [0.93218065],\n",
       "         [0.93218065],\n",
       "         [0.08157716],\n",
       "         [0.08157716],\n",
       "         [0.86692314],\n",
       "         [0.86692314],\n",
       "         [0.34279978],\n",
       "         [0.34279978],\n",
       "         [0.69696138],\n",
       "         [0.69696138],\n",
       "         [0.48803938],\n",
       "         [0.48803938]])}}"
      ]
     },
     "execution_count": 12,
     "metadata": {},
     "output_type": "execute_result"
    }
   ],
   "source": [
    "ds = load_by_id(run_id_a)\n",
    "ds.get_parameter_data('x1')"
   ]
  },
  {
   "cell_type": "code",
   "execution_count": null,
   "metadata": {},
   "outputs": [],
   "source": []
  }
 ],
 "metadata": {
  "kernelspec": {
   "display_name": "Python 3",
   "language": "python",
   "name": "python3"
  },
  "language_info": {
   "codemirror_mode": {
    "name": "ipython",
    "version": 3
   },
   "file_extension": ".py",
   "mimetype": "text/x-python",
   "name": "python",
   "nbconvert_exporter": "python",
   "pygments_lexer": "ipython3",
   "version": "3.7.7"
  },
  "nbsphinx": {
   "timeout": 600
  },
  "toc": {
   "base_numbering": 1,
   "nav_menu": {},
   "number_sections": true,
   "sideBar": true,
   "skip_h1_title": false,
   "title_cell": "Table of Contents",
   "title_sidebar": "Contents",
   "toc_cell": false,
   "toc_position": {},
   "toc_section_display": true,
   "toc_window_display": false
  },
  "varInspector": {
   "cols": {
    "lenName": 16,
    "lenType": 16,
    "lenVar": 40
   },
   "kernels_config": {
    "python": {
     "delete_cmd_postfix": "",
     "delete_cmd_prefix": "del ",
     "library": "var_list.py",
     "varRefreshCmd": "print(var_dic_list())"
    },
    "r": {
     "delete_cmd_postfix": ") ",
     "delete_cmd_prefix": "rm(",
     "library": "var_list.r",
     "varRefreshCmd": "cat(var_dic_list()) "
    }
   },
   "types_to_exclude": [
    "module",
    "function",
    "builtin_function_or_method",
    "instance",
    "_Feature"
   ],
   "window_display": false
  }
 },
 "nbformat": 4,
 "nbformat_minor": 2
}
