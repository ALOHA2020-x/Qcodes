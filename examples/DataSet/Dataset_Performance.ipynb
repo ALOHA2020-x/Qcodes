{
 "cells": [
  {
   "cell_type": "markdown",
   "metadata": {},
   "source": [
    "# DataSet Performance\n",
    "\n",
    "This notebook shows the trade-off between inserting data into a database row-by-row and as binary blobs. Inserting the data row-by-row means that we have direct access to all the data and may perform queries directly on the values of the data. On the other hand, as we shall see, this is much slower than inserting the data directly as binary blobs."
   ]
  },
  {
   "cell_type": "markdown",
   "metadata": {},
   "source": [
    "First, we choose a new location for the database to ensure that we don't add a bunch of benchmarking data to the default one."
   ]
  },
  {
   "cell_type": "code",
   "execution_count": 1,
   "metadata": {
    "execution": {
     "iopub.execute_input": "2021-04-13T06:03:57.075196Z",
     "iopub.status.busy": "2021-04-13T06:03:57.074679Z",
     "iopub.status.idle": "2021-04-13T06:03:57.952474Z",
     "shell.execute_reply": "2021-04-13T06:03:57.951800Z"
    }
   },
   "outputs": [
    {
     "name": "stdout",
     "output_type": "stream",
     "text": [
      "Logging hadn't been started.\n",
      "Activating auto-logging. Current session state plus future input saved.\n",
      "Filename       : /home/runner/.qcodes/logs/command_history.log\n",
      "Mode           : append\n",
      "Output logging : True\n",
      "Raw input log  : False\n",
      "Timestamping   : True\n",
      "State          : active\n"
     ]
    },
    {
     "name": "stdout",
     "output_type": "stream",
     "text": [
      "Qcodes Logfile : /home/runner/.qcodes/logs/210413-4365-qcodes.log\n"
     ]
    }
   ],
   "source": [
    "import os\n",
    "cwd = os.getcwd()\n",
    "import qcodes as qc\n",
    "qc.config[\"core\"][\"db_location\"] = os.path.join(cwd, 'testing.db')\n"
   ]
  },
  {
   "cell_type": "code",
   "execution_count": 2,
   "metadata": {
    "execution": {
     "iopub.execute_input": "2021-04-13T06:03:57.959344Z",
     "iopub.status.busy": "2021-04-13T06:03:57.957833Z",
     "iopub.status.idle": "2021-04-13T06:03:58.170041Z",
     "shell.execute_reply": "2021-04-13T06:03:58.169495Z"
    }
   },
   "outputs": [],
   "source": [
    "%matplotlib inline\n",
    "import time\n",
    "import matplotlib.pyplot as plt\n",
    "import numpy as np\n",
    "\n",
    "import qcodes as qc\n",
    "from qcodes.instrument.parameter import ManualParameter\n",
    "from qcodes.dataset.experiment_container import (Experiment,\n",
    "                                                 load_last_experiment,\n",
    "                                                 new_experiment)\n",
    "from qcodes.dataset.sqlite.database import initialise_database\n",
    "from qcodes import load_or_create_experiment\n",
    "from qcodes.dataset.measurements import Measurement"
   ]
  },
  {
   "cell_type": "code",
   "execution_count": 3,
   "metadata": {
    "execution": {
     "iopub.execute_input": "2021-04-13T06:03:58.173888Z",
     "iopub.status.busy": "2021-04-13T06:03:58.173287Z",
     "iopub.status.idle": "2021-04-13T06:03:58.231232Z",
     "shell.execute_reply": "2021-04-13T06:03:58.230816Z"
    }
   },
   "outputs": [
    {
     "name": "stdout",
     "output_type": "stream",
     "text": [
      "\r",
      "0it [00:00, ?it/s]"
     ]
    },
    {
     "name": "stdout",
     "output_type": "stream",
     "text": [
      "\r",
      "Upgrading database; v0 -> v1: : 0it [00:00, ?it/s]"
     ]
    },
    {
     "name": "stdout",
     "output_type": "stream",
     "text": [
      "\r",
      "Upgrading database; v0 -> v1: : 0it [00:00, ?it/s]"
     ]
    },
    {
     "name": "stdout",
     "output_type": "stream",
     "text": [
      "\n",
      "\r",
      "  0%|          | 0/1 [00:00<?, ?it/s]"
     ]
    },
    {
     "name": "stdout",
     "output_type": "stream",
     "text": [
      "\r",
      "Upgrading database; v1 -> v2:   0%|          | 0/1 [00:00<?, ?it/s]"
     ]
    },
    {
     "name": "stdout",
     "output_type": "stream",
     "text": [
      "\r",
      "Upgrading database; v1 -> v2: 100%|██████████| 1/1 [00:00<00:00, 969.11it/s]"
     ]
    },
    {
     "name": "stdout",
     "output_type": "stream",
     "text": [
      "\n",
      "\r",
      "0it [00:00, ?it/s]"
     ]
    },
    {
     "name": "stdout",
     "output_type": "stream",
     "text": [
      "\r",
      "Upgrading database; v2 -> v3: : 0it [00:00, ?it/s]"
     ]
    },
    {
     "name": "stdout",
     "output_type": "stream",
     "text": [
      "\r",
      "Upgrading database; v2 -> v3: : 0it [00:00, ?it/s]"
     ]
    },
    {
     "name": "stdout",
     "output_type": "stream",
     "text": [
      "\n",
      "\r",
      "0it [00:00, ?it/s]"
     ]
    },
    {
     "name": "stdout",
     "output_type": "stream",
     "text": [
      "\r",
      "Upgrading database; v3 -> v4: : 0it [00:00, ?it/s]"
     ]
    },
    {
     "name": "stdout",
     "output_type": "stream",
     "text": [
      "\r",
      "Upgrading database; v3 -> v4: : 0it [00:00, ?it/s]"
     ]
    },
    {
     "name": "stdout",
     "output_type": "stream",
     "text": [
      "\n",
      "\r",
      "  0%|          | 0/1 [00:00<?, ?it/s]"
     ]
    },
    {
     "name": "stdout",
     "output_type": "stream",
     "text": [
      "\r",
      "Upgrading database; v4 -> v5:   0%|          | 0/1 [00:00<?, ?it/s]"
     ]
    },
    {
     "name": "stdout",
     "output_type": "stream",
     "text": [
      "\r",
      "Upgrading database; v4 -> v5: 100%|██████████| 1/1 [00:00<00:00, 489.99it/s]"
     ]
    },
    {
     "name": "stdout",
     "output_type": "stream",
     "text": [
      "\n",
      "\r",
      "0it [00:00, ?it/s]"
     ]
    },
    {
     "name": "stdout",
     "output_type": "stream",
     "text": [
      "\r",
      "Upgrading database; v5 -> v6: : 0it [00:00, ?it/s]"
     ]
    },
    {
     "name": "stdout",
     "output_type": "stream",
     "text": [
      "\r",
      "Upgrading database; v5 -> v6: : 0it [00:00, ?it/s]"
     ]
    },
    {
     "name": "stdout",
     "output_type": "stream",
     "text": [
      "\n",
      "\r",
      "  0%|          | 0/1 [00:00<?, ?it/s]"
     ]
    },
    {
     "name": "stdout",
     "output_type": "stream",
     "text": [
      "\r",
      "Upgrading database; v6 -> v7:   0%|          | 0/1 [00:00<?, ?it/s]"
     ]
    },
    {
     "name": "stdout",
     "output_type": "stream",
     "text": [
      "\r",
      "Upgrading database; v6 -> v7: 100%|██████████| 1/1 [00:00<00:00, 388.47it/s]"
     ]
    },
    {
     "name": "stdout",
     "output_type": "stream",
     "text": [
      "\n",
      "\r",
      "  0%|          | 0/1 [00:00<?, ?it/s]"
     ]
    },
    {
     "name": "stdout",
     "output_type": "stream",
     "text": [
      "\r",
      "Upgrading database; v7 -> v8:   0%|          | 0/1 [00:00<?, ?it/s]"
     ]
    },
    {
     "name": "stdout",
     "output_type": "stream",
     "text": [
      "\r",
      "Upgrading database; v7 -> v8: 100%|██████████| 1/1 [00:00<00:00, 498.79it/s]"
     ]
    },
    {
     "name": "stdout",
     "output_type": "stream",
     "text": [
      "\n",
      "\r",
      "  0%|          | 0/1 [00:00<?, ?it/s]"
     ]
    },
    {
     "name": "stdout",
     "output_type": "stream",
     "text": [
      "\r",
      "Upgrading database; v8 -> v9:   0%|          | 0/1 [00:00<?, ?it/s]"
     ]
    },
    {
     "name": "stdout",
     "output_type": "stream",
     "text": [
      "\r",
      "Upgrading database; v8 -> v9: 100%|██████████| 1/1 [00:00<00:00, 542.04it/s]"
     ]
    },
    {
     "name": "stdout",
     "output_type": "stream",
     "text": [
      "\n"
     ]
    }
   ],
   "source": [
    "initialise_database()\n",
    "exp = load_or_create_experiment(experiment_name='tutorial_exp', sample_name=\"no sample\")"
   ]
  },
  {
   "cell_type": "markdown",
   "metadata": {},
   "source": [
    "Here, we define a simple function to benchmark the time it takes to insert n points with either numeric or array data type.\n",
    "We will compare both the time used to call ``add_result`` and the time used for the full measurement."
   ]
  },
  {
   "cell_type": "code",
   "execution_count": 4,
   "metadata": {
    "execution": {
     "iopub.execute_input": "2021-04-13T06:03:58.239925Z",
     "iopub.status.busy": "2021-04-13T06:03:58.238855Z",
     "iopub.status.idle": "2021-04-13T06:03:58.240598Z",
     "shell.execute_reply": "2021-04-13T06:03:58.241011Z"
    }
   },
   "outputs": [],
   "source": [
    "def insert_data(paramtype, npoints, nreps=1):\n",
    "\n",
    "    meas = Measurement(exp=exp)\n",
    "\n",
    "    x1 = ManualParameter('x1')\n",
    "    x2 = ManualParameter('x2')\n",
    "    x3 = ManualParameter('x3')\n",
    "    y1 = ManualParameter('y1')\n",
    "    y2 = ManualParameter('y2')\n",
    "\n",
    "    meas.register_parameter(x1, paramtype=paramtype)\n",
    "    meas.register_parameter(x2, paramtype=paramtype)\n",
    "    meas.register_parameter(x3, paramtype=paramtype)\n",
    "    meas.register_parameter(y1, setpoints=[x1, x2, x3],\n",
    "                            paramtype=paramtype)\n",
    "    meas.register_parameter(y2, setpoints=[x1, x2, x3],\n",
    "                            paramtype=paramtype)\n",
    "    start = time.perf_counter()\n",
    "    with meas.run() as datasaver:\n",
    "        start_adding = time.perf_counter()\n",
    "        for i in range(nreps):\n",
    "            datasaver.add_result((x1, np.random.rand(npoints)),\n",
    "                                 (x2, np.random.rand(npoints)),\n",
    "                                 (x3, np.random.rand(npoints)),\n",
    "                                 (y1, np.random.rand(npoints)),\n",
    "                                 (y2, np.random.rand(npoints)))\n",
    "        stop_adding = time.perf_counter()\n",
    "        run_id = datasaver.run_id\n",
    "    stop = time.perf_counter()\n",
    "    tot_time = stop - start\n",
    "    add_time = stop_adding - start_adding\n",
    "    return tot_time, add_time, run_id"
   ]
  },
  {
   "cell_type": "markdown",
   "metadata": {},
   "source": [
    "## Comparison between numeric/array data and binary blob"
   ]
  },
  {
   "cell_type": "markdown",
   "metadata": {},
   "source": [
    "### Case1: Short experiment time"
   ]
  },
  {
   "cell_type": "code",
   "execution_count": 5,
   "metadata": {
    "execution": {
     "iopub.execute_input": "2021-04-13T06:03:58.247213Z",
     "iopub.status.busy": "2021-04-13T06:03:58.246643Z",
     "iopub.status.idle": "2021-04-13T06:03:58.918726Z",
     "shell.execute_reply": "2021-04-13T06:03:58.919174Z"
    }
   },
   "outputs": [
    {
     "name": "stdout",
     "output_type": "stream",
     "text": [
      "Starting experimental run with id: 1. \n",
      "Starting experimental run with id: 2. \n",
      "Starting experimental run with id: 3. \n",
      "Starting experimental run with id: 4. \n",
      "Starting experimental run with id: 5. \n",
      "Starting experimental run with id: 6. \n",
      "Starting experimental run with id: 7. \n"
     ]
    },
    {
     "name": "stdout",
     "output_type": "stream",
     "text": [
      "Starting experimental run with id: 8. \n",
      "Starting experimental run with id: 9. \n"
     ]
    },
    {
     "name": "stdout",
     "output_type": "stream",
     "text": [
      "Starting experimental run with id: 10. \n",
      "Starting experimental run with id: 11. \n"
     ]
    },
    {
     "name": "stdout",
     "output_type": "stream",
     "text": [
      "Starting experimental run with id: 12. \n"
     ]
    },
    {
     "name": "stdout",
     "output_type": "stream",
     "text": [
      "Starting experimental run with id: 13. \n",
      "Starting experimental run with id: 14. \n"
     ]
    }
   ],
   "source": [
    "sizes = [1,500,1000,2000,3000,4000,5000]\n",
    "t_numeric = []\n",
    "t_numeric_add = []\n",
    "t_array = []\n",
    "t_array_add = []\n",
    "for size in sizes:\n",
    "    tn, tna, run_id_n =  insert_data('numeric', size)\n",
    "    t_numeric.append(tn)\n",
    "    t_numeric_add.append(tna)\n",
    "\n",
    "    ta, taa, run_id_a =  insert_data('array', size)\n",
    "    t_array.append(ta)\n",
    "    t_array_add.append(taa)"
   ]
  },
  {
   "cell_type": "code",
   "execution_count": 6,
   "metadata": {
    "execution": {
     "iopub.execute_input": "2021-04-13T06:03:58.946045Z",
     "iopub.status.busy": "2021-04-13T06:03:58.940428Z",
     "iopub.status.idle": "2021-04-13T06:03:59.105557Z",
     "shell.execute_reply": "2021-04-13T06:03:59.105105Z"
    }
   },
   "outputs": [
    {
     "data": {
      "image/png": "[encoded data removed]",
      "text/plain": [
       "<Figure size 432x288 with 1 Axes>"
      ]
     },
     "metadata": {
      "needs_background": "light"
     },
     "output_type": "display_data"
    }
   ],
   "source": [
    "fig, ax = plt.subplots(1,1)\n",
    "ax.plot(sizes, t_numeric, 'o-', label='Inserting row-by-row')\n",
    "ax.plot(sizes, t_numeric_add, 'o-', label='Inserting row-by-row: add_result only')\n",
    "ax.plot(sizes, t_array, 'd-', label='Inserting as binary blob')\n",
    "ax.plot(sizes, t_array_add, 'd-', label='Inserting as binary blob: add_result only')\n",
    "ax.legend()\n",
    "ax.set_xlabel('Array length')\n",
    "ax.set_ylabel('Time (s)')\n",
    "fig.tight_layout()"
   ]
  },
  {
   "cell_type": "markdown",
   "metadata": {},
   "source": [
    "As shown in the latter figure, the time to setup and and close the experiment is approximately 0.4 sec. In case of small array sizes, the difference between inserting values of data as arrays and inserting them row-by-row is relatively unimportant. At larger array sizes, i.e. above 10000 points, the cost of writing data as individual datapoints starts to become important.\n"
   ]
  },
  {
   "cell_type": "markdown",
   "metadata": {},
   "source": [
    "### Case2: Long experiment time "
   ]
  },
  {
   "cell_type": "code",
   "execution_count": 7,
   "metadata": {
    "execution": {
     "iopub.execute_input": "2021-04-13T06:03:59.112176Z",
     "iopub.status.busy": "2021-04-13T06:03:59.111610Z",
     "iopub.status.idle": "2021-04-13T06:04:48.937706Z",
     "shell.execute_reply": "2021-04-13T06:04:48.937128Z"
    }
   },
   "outputs": [
    {
     "name": "stdout",
     "output_type": "stream",
     "text": [
      "Starting experimental run with id: 15. \n",
      "Starting experimental run with id: 16. \n",
      "Starting experimental run with id: 17. \n"
     ]
    },
    {
     "name": "stdout",
     "output_type": "stream",
     "text": [
      "Starting experimental run with id: 18. \n",
      "Starting experimental run with id: 19. \n"
     ]
    },
    {
     "name": "stdout",
     "output_type": "stream",
     "text": [
      "Starting experimental run with id: 20. \n"
     ]
    },
    {
     "name": "stdout",
     "output_type": "stream",
     "text": [
      "Starting experimental run with id: 21. \n"
     ]
    },
    {
     "name": "stdout",
     "output_type": "stream",
     "text": [
      "Starting experimental run with id: 22. \n"
     ]
    },
    {
     "name": "stdout",
     "output_type": "stream",
     "text": [
      "Starting experimental run with id: 23. \n"
     ]
    },
    {
     "name": "stdout",
     "output_type": "stream",
     "text": [
      "Starting experimental run with id: 24. \n"
     ]
    },
    {
     "name": "stdout",
     "output_type": "stream",
     "text": [
      "Starting experimental run with id: 25. \n"
     ]
    },
    {
     "name": "stdout",
     "output_type": "stream",
     "text": [
      "Starting experimental run with id: 26. \n"
     ]
    },
    {
     "name": "stdout",
     "output_type": "stream",
     "text": [
      "Starting experimental run with id: 27. \n"
     ]
    },
    {
     "name": "stdout",
     "output_type": "stream",
     "text": [
      "Starting experimental run with id: 28. \n"
     ]
    }
   ],
   "source": [
    "sizes = [1,500,1000,2000,3000,4000,5000]\n",
    "nreps = 100\n",
    "t_numeric = []\n",
    "t_numeric_add = []\n",
    "t_numeric_run_ids = []\n",
    "t_array = []\n",
    "t_array_add = []\n",
    "t_array_run_ids = []\n",
    "for size in sizes:\n",
    "    tn, tna, run_id_n =  insert_data('numeric', size, nreps=nreps)\n",
    "    t_numeric.append(tn)\n",
    "    t_numeric_add.append(tna)\n",
    "    t_numeric_run_ids.append(run_id_n)\n",
    "\n",
    "    ta, taa, run_id_a =  insert_data('array', size, nreps=nreps)\n",
    "    t_array.append(ta)\n",
    "    t_array_add.append(taa)\n",
    "    t_array_run_ids.append(run_id_a)"
   ]
  },
  {
   "cell_type": "code",
   "execution_count": 8,
   "metadata": {
    "execution": {
     "iopub.execute_input": "2021-04-13T06:04:48.969678Z",
     "iopub.status.busy": "2021-04-13T06:04:48.964978Z",
     "iopub.status.idle": "2021-04-13T06:04:49.104326Z",
     "shell.execute_reply": "2021-04-13T06:04:49.104788Z"
    },
    "scrolled": true
   },
   "outputs": [
    {
     "data": {
      "image/png": "[encoded data removed]",
      "text/plain": [
       "<Figure size 432x288 with 1 Axes>"
      ]
     },
     "metadata": {
      "needs_background": "light"
     },
     "output_type": "display_data"
    }
   ],
   "source": [
    "fig, ax = plt.subplots(1,1)\n",
    "ax.plot(sizes, t_numeric, 'o-', label='Inserting row-by-row')\n",
    "ax.plot(sizes, t_numeric_add, 'o-', label='Inserting row-by-row: add_result only')\n",
    "ax.plot(sizes, t_array, 'd-', label='Inserting as binary blob')\n",
    "ax.plot(sizes, t_array_add, 'd-', label='Inserting as binary blob: add_result only')\n",
    "ax.legend()\n",
    "ax.set_xlabel('Array length')\n",
    "ax.set_ylabel('Time (s)')\n",
    "fig.tight_layout()"
   ]
  },
  {
   "cell_type": "markdown",
   "metadata": {},
   "source": [
    "However, as we increase the length of the experiment, as seen here by repeating the insertion 100 times, we see a big difference between inserting values of the data row-by-row and inserting it as a binary blob."
   ]
  },
  {
   "cell_type": "markdown",
   "metadata": {},
   "source": [
    "## Loading the data "
   ]
  },
  {
   "cell_type": "code",
   "execution_count": 9,
   "metadata": {
    "execution": {
     "iopub.execute_input": "2021-04-13T06:04:49.108628Z",
     "iopub.status.busy": "2021-04-13T06:04:49.107739Z",
     "iopub.status.idle": "2021-04-13T06:04:49.112038Z",
     "shell.execute_reply": "2021-04-13T06:04:49.111571Z"
    }
   },
   "outputs": [],
   "source": [
    "from qcodes.dataset.data_set import load_by_id\n",
    "from qcodes.dataset.data_export import get_data_by_id"
   ]
  },
  {
   "cell_type": "markdown",
   "metadata": {},
   "source": [
    "As usual you can load the data by using the ``load_by_id`` function but you will notice that the different storage methods\n",
    "are reflected in shape of the data as it is retrieved. "
   ]
  },
  {
   "cell_type": "code",
   "execution_count": 10,
   "metadata": {
    "execution": {
     "iopub.execute_input": "2021-04-13T06:04:49.115325Z",
     "iopub.status.busy": "2021-04-13T06:04:49.114829Z",
     "iopub.status.idle": "2021-04-13T06:04:49.118391Z",
     "shell.execute_reply": "2021-04-13T06:04:49.117950Z"
    }
   },
   "outputs": [],
   "source": [
    "run_id_n = t_numeric_run_ids[0]\n",
    "run_id_a = t_array_run_ids[0]"
   ]
  },
  {
   "cell_type": "code",
   "execution_count": 11,
   "metadata": {
    "execution": {
     "iopub.execute_input": "2021-04-13T06:04:49.121738Z",
     "iopub.status.busy": "2021-04-13T06:04:49.121241Z",
     "iopub.status.idle": "2021-04-13T06:04:49.130816Z",
     "shell.execute_reply": "2021-04-13T06:04:49.131201Z"
    },
    "scrolled": true
   },
   "outputs": [
    {
     "data": {
      "text/plain": [
       "{'x1': {'x1': array([2.43116944e-01, 2.43116944e-01, 4.59732192e-01, 4.59732192e-01,\n",
       "         6.42032681e-02, 6.42032681e-02, 7.20173701e-01, 7.20173701e-01,\n",
       "         1.46736568e-01, 1.46736568e-01, 6.44766345e-02, 6.44766345e-02,\n",
       "         2.49166702e-01, 2.49166702e-01, 4.85523656e-01, 4.85523656e-01,\n",
       "         6.95869475e-01, 6.95869475e-01, 3.86504828e-01, 3.86504828e-01,\n",
       "         4.97570621e-01, 4.97570621e-01, 1.72444635e-01, 1.72444635e-01,\n",
       "         4.02082998e-01, 4.02082998e-01, 1.44612498e-01, 1.44612498e-01,\n",
       "         4.30511578e-01, 4.30511578e-01, 8.42731641e-01, 8.42731641e-01,\n",
       "         2.02625179e-01, 2.02625179e-01, 5.22548290e-01, 5.22548290e-01,\n",
       "         6.56210881e-01, 6.56210881e-01, 1.35234709e-01, 1.35234709e-01,\n",
       "         5.88062191e-01, 5.88062191e-01, 5.88512203e-01, 5.88512203e-01,\n",
       "         6.70718448e-01, 6.70718448e-01, 2.81933277e-01, 2.81933277e-01,\n",
       "         6.91278813e-01, 6.91278813e-01, 2.07109116e-01, 2.07109116e-01,\n",
       "         2.04089581e-03, 2.04089581e-03, 5.89034511e-01, 5.89034511e-01,\n",
       "         6.00061211e-01, 6.00061211e-01, 1.03513689e-01, 1.03513689e-01,\n",
       "         6.64642067e-01, 6.64642067e-01, 1.92365449e-04, 1.92365449e-04,\n",
       "         8.93897780e-01, 8.93897780e-01, 8.46386676e-01, 8.46386676e-01,\n",
       "         9.78929324e-01, 9.78929324e-01, 9.23256272e-01, 9.23256272e-01,\n",
       "         1.51023756e-01, 1.51023756e-01, 7.12625437e-01, 7.12625437e-01,\n",
       "         5.84985547e-01, 5.84985547e-01, 9.39488219e-02, 9.39488219e-02,\n",
       "         8.56251141e-01, 8.56251141e-01, 3.37492147e-01, 3.37492147e-01,\n",
       "         6.22759918e-01, 6.22759918e-01, 9.07670004e-01, 9.07670004e-01,\n",
       "         9.54538215e-01, 9.54538215e-01, 4.58734079e-01, 4.58734079e-01,\n",
       "         9.59798812e-01, 9.59798812e-01, 3.75493712e-02, 3.75493712e-02,\n",
       "         4.02993362e-01, 4.02993362e-01, 8.23914345e-01, 8.23914345e-01,\n",
       "         8.87422047e-01, 8.87422047e-01, 9.24198686e-01, 9.24198686e-01,\n",
       "         6.05889093e-01, 6.05889093e-01, 6.11604626e-01, 6.11604626e-01,\n",
       "         4.90728485e-01, 4.90728485e-01, 7.68493826e-01, 7.68493826e-01,\n",
       "         6.46430778e-01, 6.46430778e-01, 7.47145026e-01, 7.47145026e-01,\n",
       "         1.31409018e-01, 1.31409018e-01, 9.08539065e-02, 9.08539065e-02,\n",
       "         5.41208276e-01, 5.41208276e-01, 2.60465374e-01, 2.60465374e-01,\n",
       "         7.12941254e-01, 7.12941254e-01, 4.26856675e-01, 4.26856675e-01,\n",
       "         5.60858847e-02, 5.60858847e-02, 2.25913385e-02, 2.25913385e-02,\n",
       "         6.65004449e-02, 6.65004449e-02, 7.49336270e-01, 7.49336270e-01,\n",
       "         9.89258267e-01, 9.89258267e-01, 6.01514501e-01, 6.01514501e-01,\n",
       "         3.75168789e-01, 3.75168789e-01, 7.63294501e-01, 7.63294501e-01,\n",
       "         3.66228592e-01, 3.66228592e-01, 8.59025768e-01, 8.59025768e-01,\n",
       "         9.94340375e-01, 9.94340375e-01, 2.24161024e-02, 2.24161024e-02,\n",
       "         6.39493328e-01, 6.39493328e-01, 4.27279170e-01, 4.27279170e-01,\n",
       "         6.99595035e-01, 6.99595035e-01, 7.16582235e-01, 7.16582235e-01,\n",
       "         5.34956559e-02, 5.34956559e-02, 6.91424411e-01, 6.91424411e-01,\n",
       "         9.84340785e-03, 9.84340785e-03, 6.11042020e-01, 6.11042020e-01,\n",
       "         5.97997610e-02, 5.97997610e-02, 4.06774485e-01, 4.06774485e-01,\n",
       "         1.01451035e-01, 1.01451035e-01, 2.64047955e-01, 2.64047955e-01,\n",
       "         6.04289942e-01, 6.04289942e-01, 5.92882020e-01, 5.92882020e-01,\n",
       "         8.68777145e-01, 8.68777145e-01, 6.06924383e-01, 6.06924383e-01,\n",
       "         4.01324441e-01, 4.01324441e-01, 1.53990821e-01, 1.53990821e-01,\n",
       "         8.33109074e-01, 8.33109074e-01, 4.08951705e-01, 4.08951705e-01,\n",
       "         6.49396423e-01, 6.49396423e-01, 9.33725572e-01, 9.33725572e-01,\n",
       "         2.82636790e-01, 2.82636790e-01, 2.04385248e-01, 2.04385248e-01])}}"
      ]
     },
     "execution_count": 1,
     "metadata": {},
     "output_type": "execute_result"
    }
   ],
   "source": [
    "ds = load_by_id(run_id_n)\n",
    "ds.get_parameter_data('x1')"
   ]
  },
  {
   "cell_type": "markdown",
   "metadata": {},
   "source": [
    "And a dataset stored as binary arrays"
   ]
  },
  {
   "cell_type": "code",
   "execution_count": 12,
   "metadata": {
    "execution": {
     "iopub.execute_input": "2021-04-13T06:04:49.134370Z",
     "iopub.status.busy": "2021-04-13T06:04:49.133883Z",
     "iopub.status.idle": "2021-04-13T06:04:49.182138Z",
     "shell.execute_reply": "2021-04-13T06:04:49.182623Z"
    },
    "scrolled": true
   },
   "outputs": [
    {
     "data": {
      "text/plain": [
       "{'x1': {'x1': array([[0.81264803],\n",
       "         [0.81264803],\n",
       "         [0.7044736 ],\n",
       "         [0.7044736 ],\n",
       "         [0.23169588],\n",
       "         [0.23169588],\n",
       "         [0.44131925],\n",
       "         [0.44131925],\n",
       "         [0.38274377],\n",
       "         [0.38274377],\n",
       "         [0.27861899],\n",
       "         [0.27861899],\n",
       "         [0.14006406],\n",
       "         [0.14006406],\n",
       "         [0.71732223],\n",
       "         [0.71732223],\n",
       "         [0.03016006],\n",
       "         [0.03016006],\n",
       "         [0.88505591],\n",
       "         [0.88505591],\n",
       "         [0.75768355],\n",
       "         [0.75768355],\n",
       "         [0.71460543],\n",
       "         [0.71460543],\n",
       "         [0.40717526],\n",
       "         [0.40717526],\n",
       "         [0.78078907],\n",
       "         [0.78078907],\n",
       "         [0.7265086 ],\n",
       "         [0.7265086 ],\n",
       "         [0.46535892],\n",
       "         [0.46535892],\n",
       "         [0.3935851 ],\n",
       "         [0.3935851 ],\n",
       "         [0.06832629],\n",
       "         [0.06832629],\n",
       "         [0.45037725],\n",
       "         [0.45037725],\n",
       "         [0.26596058],\n",
       "         [0.26596058],\n",
       "         [0.13394214],\n",
       "         [0.13394214],\n",
       "         [0.7055964 ],\n",
       "         [0.7055964 ],\n",
       "         [0.69364708],\n",
       "         [0.69364708],\n",
       "         [0.19232291],\n",
       "         [0.19232291],\n",
       "         [0.28409446],\n",
       "         [0.28409446],\n",
       "         [0.86532854],\n",
       "         [0.86532854],\n",
       "         [0.56650478],\n",
       "         [0.56650478],\n",
       "         [0.16153525],\n",
       "         [0.16153525],\n",
       "         [0.55945055],\n",
       "         [0.55945055],\n",
       "         [0.94956972],\n",
       "         [0.94956972],\n",
       "         [0.42110548],\n",
       "         [0.42110548],\n",
       "         [0.15219457],\n",
       "         [0.15219457],\n",
       "         [0.39649699],\n",
       "         [0.39649699],\n",
       "         [0.70154287],\n",
       "         [0.70154287],\n",
       "         [0.08142385],\n",
       "         [0.08142385],\n",
       "         [0.29824635],\n",
       "         [0.29824635],\n",
       "         [0.21442009],\n",
       "         [0.21442009],\n",
       "         [0.92530451],\n",
       "         [0.92530451],\n",
       "         [0.00266951],\n",
       "         [0.00266951],\n",
       "         [0.88467524],\n",
       "         [0.88467524],\n",
       "         [0.84379761],\n",
       "         [0.84379761],\n",
       "         [0.23951056],\n",
       "         [0.23951056],\n",
       "         [0.45605613],\n",
       "         [0.45605613],\n",
       "         [0.45203354],\n",
       "         [0.45203354],\n",
       "         [0.20720182],\n",
       "         [0.20720182],\n",
       "         [0.48038782],\n",
       "         [0.48038782],\n",
       "         [0.97810065],\n",
       "         [0.97810065],\n",
       "         [0.29998261],\n",
       "         [0.29998261],\n",
       "         [0.42707481],\n",
       "         [0.42707481],\n",
       "         [0.98150612],\n",
       "         [0.98150612],\n",
       "         [0.06358576],\n",
       "         [0.06358576],\n",
       "         [0.82224593],\n",
       "         [0.82224593],\n",
       "         [0.82268673],\n",
       "         [0.82268673],\n",
       "         [0.70970855],\n",
       "         [0.70970855],\n",
       "         [0.5927094 ],\n",
       "         [0.5927094 ],\n",
       "         [0.6606235 ],\n",
       "         [0.6606235 ],\n",
       "         [0.16921804],\n",
       "         [0.16921804],\n",
       "         [0.87364902],\n",
       "         [0.87364902],\n",
       "         [0.31749747],\n",
       "         [0.31749747],\n",
       "         [0.73053909],\n",
       "         [0.73053909],\n",
       "         [0.56624814],\n",
       "         [0.56624814],\n",
       "         [0.87078694],\n",
       "         [0.87078694],\n",
       "         [0.01676097],\n",
       "         [0.01676097],\n",
       "         [0.39777684],\n",
       "         [0.39777684],\n",
       "         [0.24781814],\n",
       "         [0.24781814],\n",
       "         [0.55821459],\n",
       "         [0.55821459],\n",
       "         [0.30208791],\n",
       "         [0.30208791],\n",
       "         [0.08877848],\n",
       "         [0.08877848],\n",
       "         [0.88513306],\n",
       "         [0.88513306],\n",
       "         [0.73419674],\n",
       "         [0.73419674],\n",
       "         [0.08668968],\n",
       "         [0.08668968],\n",
       "         [0.06007547],\n",
       "         [0.06007547],\n",
       "         [0.56461578],\n",
       "         [0.56461578],\n",
       "         [0.40778563],\n",
       "         [0.40778563],\n",
       "         [0.09133573],\n",
       "         [0.09133573],\n",
       "         [0.19359201],\n",
       "         [0.19359201],\n",
       "         [0.38947121],\n",
       "         [0.38947121],\n",
       "         [0.14991257],\n",
       "         [0.14991257],\n",
       "         [0.49458985],\n",
       "         [0.49458985],\n",
       "         [0.99360536],\n",
       "         [0.99360536],\n",
       "         [0.09594686],\n",
       "         [0.09594686],\n",
       "         [0.10129366],\n",
       "         [0.10129366],\n",
       "         [0.12339998],\n",
       "         [0.12339998],\n",
       "         [0.82112614],\n",
       "         [0.82112614],\n",
       "         [0.89653512],\n",
       "         [0.89653512],\n",
       "         [0.11497257],\n",
       "         [0.11497257],\n",
       "         [0.98850922],\n",
       "         [0.98850922],\n",
       "         [0.19520558],\n",
       "         [0.19520558],\n",
       "         [0.00704807],\n",
       "         [0.00704807],\n",
       "         [0.33649421],\n",
       "         [0.33649421],\n",
       "         [0.23386551],\n",
       "         [0.23386551],\n",
       "         [0.35904136],\n",
       "         [0.35904136],\n",
       "         [0.37669149],\n",
       "         [0.37669149],\n",
       "         [0.73546801],\n",
       "         [0.73546801],\n",
       "         [0.7770139 ],\n",
       "         [0.7770139 ],\n",
       "         [0.25525656],\n",
       "         [0.25525656],\n",
       "         [0.08513602],\n",
       "         [0.08513602],\n",
       "         [0.18609741],\n",
       "         [0.18609741],\n",
       "         [0.51208414],\n",
       "         [0.51208414],\n",
       "         [0.16515933],\n",
       "         [0.16515933]])}}"
      ]
     },
     "execution_count": 1,
     "metadata": {},
     "output_type": "execute_result"
    }
   ],
   "source": [
    "ds = load_by_id(run_id_a)\n",
    "ds.get_parameter_data('x1')"
   ]
  },
  {
   "cell_type": "code",
   "execution_count": null,
   "metadata": {},
   "outputs": [],
   "source": []
  }
 ],
 "metadata": {
  "kernelspec": {
   "display_name": "Python 3",
   "language": "python",
   "name": "python3"
  },
  "language_info": {
   "codemirror_mode": {
    "name": "ipython",
    "version": 3
   },
   "file_extension": ".py",
   "mimetype": "text/x-python",
   "name": "python",
   "nbconvert_exporter": "python",
   "pygments_lexer": "ipython3",
   "version": "3.7.10"
  },
  "nbsphinx": {
   "timeout": 600
  },
  "toc": {
   "base_numbering": 1,
   "nav_menu": {},
   "number_sections": true,
   "sideBar": true,
   "skip_h1_title": false,
   "title_cell": "Table of Contents",
   "title_sidebar": "Contents",
   "toc_cell": false,
   "toc_position": {},
   "toc_section_display": true,
   "toc_window_display": false
  },
  "varInspector": {
   "cols": {
    "lenName": 16,
    "lenType": 16,
    "lenVar": 40
   },
   "kernels_config": {
    "python": {
     "delete_cmd_postfix": "",
     "delete_cmd_prefix": "del ",
     "library": "var_list.py",
     "varRefreshCmd": "print(var_dic_list())"
    },
    "r": {
     "delete_cmd_postfix": ") ",
     "delete_cmd_prefix": "rm(",
     "library": "var_list.r",
     "varRefreshCmd": "cat(var_dic_list()) "
    }
   },
   "types_to_exclude": [
    "module",
    "function",
    "builtin_function_or_method",
    "instance",
    "_Feature"
   ],
   "window_display": false
  }
 },
 "nbformat": 4,
 "nbformat_minor": 2
}
