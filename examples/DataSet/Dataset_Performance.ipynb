{
 "cells": [
  {
   "cell_type": "markdown",
   "metadata": {},
   "source": [
    "# DataSet Performance\n",
    "\n",
    "This notebook shows the trade-off between inserting data into a database row-by-row and as binary blobs. Inserting the data row-by-row means that we have direct access to all the data and may perform queries directly on the values of the data. On the other hand, as we shall see, this is much slower than inserting the data directly as binary blobs."
   ]
  },
  {
   "cell_type": "markdown",
   "metadata": {},
   "source": [
    "First, we choose a new location for the database to ensure that we don't add a bunch of benchmarking data to the default one."
   ]
  },
  {
   "cell_type": "code",
   "execution_count": 1,
   "metadata": {},
   "outputs": [
    {
     "name": "stdout",
     "output_type": "stream",
     "text": [
      "Logging hadn't been started.\n",
      "Activating auto-logging. Current session state plus future input saved.\n",
      "Filename       : /home/vsts/.qcodes/logs/command_history.log\n",
      "Mode           : append\n",
      "Output logging : True\n",
      "Raw input log  : False\n",
      "Timestamping   : True\n",
      "State          : active\n"
     ]
    },
    {
     "name": "stdout",
     "output_type": "stream",
     "text": [
      "Qcodes Logfile : /home/vsts/.qcodes/logs/200526-18658-qcodes.log\n"
     ]
    }
   ],
   "source": [
    "import os\n",
    "cwd = os.getcwd()\n",
    "import qcodes as qc\n",
    "qc.config[\"core\"][\"db_location\"] = os.path.join(cwd, 'testing.db')\n"
   ]
  },
  {
   "cell_type": "code",
   "execution_count": 2,
   "metadata": {},
   "outputs": [],
   "source": [
    "%matplotlib inline\n",
    "import time\n",
    "import matplotlib.pyplot as plt\n",
    "import numpy as np\n",
    "\n",
    "import qcodes as qc\n",
    "from qcodes.instrument.parameter import ManualParameter\n",
    "from qcodes.dataset.experiment_container import (Experiment,\n",
    "                                                 load_last_experiment,\n",
    "                                                 new_experiment)\n",
    "from qcodes.dataset.sqlite.database import initialise_database\n",
    "from qcodes import load_or_create_experiment\n",
    "from qcodes.dataset.measurements import Measurement"
   ]
  },
  {
   "cell_type": "code",
   "execution_count": 3,
   "metadata": {},
   "outputs": [
    {
     "name": "stdout",
     "output_type": "stream",
     "text": [
      "\r",
      "0it [00:00, ?it/s]"
     ]
    },
    {
     "name": "stdout",
     "output_type": "stream",
     "text": [
      "\r",
      "Upgrading database; v0 -> v1: : 0it [00:00, ?it/s]"
     ]
    },
    {
     "name": "stdout",
     "output_type": "stream",
     "text": [
      "\r",
      "Upgrading database; v0 -> v1: : 0it [00:00, ?it/s]"
     ]
    },
    {
     "name": "stdout",
     "output_type": "stream",
     "text": [
      "\n",
      "\r",
      "  0%|          | 0/1 [00:00<?, ?it/s]"
     ]
    },
    {
     "name": "stdout",
     "output_type": "stream",
     "text": [
      "\r",
      "Upgrading database; v1 -> v2:   0%|          | 0/1 [00:00<?, ?it/s]"
     ]
    },
    {
     "name": "stdout",
     "output_type": "stream",
     "text": [
      "\r",
      "Upgrading database; v1 -> v2: 100%|██████████| 1/1 [00:00<00:00, 657.83it/s]"
     ]
    },
    {
     "name": "stdout",
     "output_type": "stream",
     "text": [
      "\n",
      "\r",
      "0it [00:00, ?it/s]"
     ]
    },
    {
     "name": "stdout",
     "output_type": "stream",
     "text": [
      "\r",
      "Upgrading database; v2 -> v3: : 0it [00:00, ?it/s]"
     ]
    },
    {
     "name": "stdout",
     "output_type": "stream",
     "text": [
      "\r",
      "Upgrading database; v2 -> v3: : 0it [00:00, ?it/s]"
     ]
    },
    {
     "name": "stdout",
     "output_type": "stream",
     "text": [
      "\n",
      "\r",
      "0it [00:00, ?it/s]"
     ]
    },
    {
     "name": "stdout",
     "output_type": "stream",
     "text": [
      "\r",
      "Upgrading database; v3 -> v4: : 0it [00:00, ?it/s]"
     ]
    },
    {
     "name": "stdout",
     "output_type": "stream",
     "text": [
      "\r",
      "Upgrading database; v3 -> v4: : 0it [00:00, ?it/s]"
     ]
    },
    {
     "name": "stdout",
     "output_type": "stream",
     "text": [
      "\n",
      "\r",
      "  0%|          | 0/1 [00:00<?, ?it/s]"
     ]
    },
    {
     "name": "stdout",
     "output_type": "stream",
     "text": [
      "\r",
      "Upgrading database; v4 -> v5:   0%|          | 0/1 [00:00<?, ?it/s]"
     ]
    },
    {
     "name": "stdout",
     "output_type": "stream",
     "text": [
      "\r",
      "Upgrading database; v4 -> v5: 100%|██████████| 1/1 [00:00<00:00, 595.27it/s]"
     ]
    },
    {
     "name": "stdout",
     "output_type": "stream",
     "text": [
      "\n",
      "\r",
      "0it [00:00, ?it/s]"
     ]
    },
    {
     "name": "stdout",
     "output_type": "stream",
     "text": [
      "\r",
      "Upgrading database; v5 -> v6: : 0it [00:00, ?it/s]"
     ]
    },
    {
     "name": "stdout",
     "output_type": "stream",
     "text": [
      "\r",
      "Upgrading database; v5 -> v6: : 0it [00:00, ?it/s]"
     ]
    },
    {
     "name": "stdout",
     "output_type": "stream",
     "text": [
      "\n",
      "\r",
      "  0%|          | 0/1 [00:00<?, ?it/s]"
     ]
    },
    {
     "name": "stdout",
     "output_type": "stream",
     "text": [
      "\r",
      "Upgrading database; v6 -> v7:   0%|          | 0/1 [00:00<?, ?it/s]"
     ]
    },
    {
     "name": "stdout",
     "output_type": "stream",
     "text": [
      "\r",
      "Upgrading database; v6 -> v7: 100%|██████████| 1/1 [00:00<00:00, 328.89it/s]"
     ]
    },
    {
     "name": "stdout",
     "output_type": "stream",
     "text": [
      "\n",
      "\r",
      "  0%|          | 0/1 [00:00<?, ?it/s]"
     ]
    },
    {
     "name": "stdout",
     "output_type": "stream",
     "text": [
      "\r",
      "Upgrading database; v7 -> v8:   0%|          | 0/1 [00:00<?, ?it/s]"
     ]
    },
    {
     "name": "stdout",
     "output_type": "stream",
     "text": [
      "\r",
      "Upgrading database; v7 -> v8: 100%|██████████| 1/1 [00:00<00:00, 596.54it/s]"
     ]
    },
    {
     "name": "stdout",
     "output_type": "stream",
     "text": [
      "\n",
      "\r",
      "  0%|          | 0/1 [00:00<?, ?it/s]"
     ]
    },
    {
     "name": "stdout",
     "output_type": "stream",
     "text": [
      "\r",
      "Upgrading database; v8 -> v9:   0%|          | 0/1 [00:00<?, ?it/s]"
     ]
    },
    {
     "name": "stdout",
     "output_type": "stream",
     "text": [
      "\r",
      "Upgrading database; v8 -> v9: 100%|██████████| 1/1 [00:00<00:00, 676.17it/s]"
     ]
    },
    {
     "name": "stdout",
     "output_type": "stream",
     "text": [
      "\n"
     ]
    }
   ],
   "source": [
    "initialise_database()\n",
    "exp = load_or_create_experiment(experiment_name='tutorial_exp', sample_name=\"no sample\")"
   ]
  },
  {
   "cell_type": "markdown",
   "metadata": {},
   "source": [
    "Here, we define a simple function to benchmark the time it takes to insert n points with either numeric or array data type.\n",
    "We will compare both the time used to call ``add_result`` and the time used for the full measurement."
   ]
  },
  {
   "cell_type": "code",
   "execution_count": 4,
   "metadata": {},
   "outputs": [],
   "source": [
    "def insert_data(paramtype, npoints, nreps=1):\n",
    "\n",
    "    meas = Measurement(exp=exp)\n",
    "\n",
    "    x1 = ManualParameter('x1')\n",
    "    x2 = ManualParameter('x2')\n",
    "    x3 = ManualParameter('x3')\n",
    "    y1 = ManualParameter('y1')\n",
    "    y2 = ManualParameter('y2')\n",
    "\n",
    "    meas.register_parameter(x1, paramtype=paramtype)\n",
    "    meas.register_parameter(x2, paramtype=paramtype)\n",
    "    meas.register_parameter(x3, paramtype=paramtype)\n",
    "    meas.register_parameter(y1, setpoints=[x1, x2, x3],\n",
    "                            paramtype=paramtype)\n",
    "    meas.register_parameter(y2, setpoints=[x1, x2, x3],\n",
    "                            paramtype=paramtype)\n",
    "    start = time.perf_counter()\n",
    "    with meas.run() as datasaver:\n",
    "        start_adding = time.perf_counter()\n",
    "        for i in range(nreps):\n",
    "            datasaver.add_result((x1, np.random.rand(npoints)),\n",
    "                                 (x2, np.random.rand(npoints)),\n",
    "                                 (x3, np.random.rand(npoints)),\n",
    "                                 (y1, np.random.rand(npoints)),\n",
    "                                 (y2, np.random.rand(npoints)))\n",
    "        stop_adding = time.perf_counter()\n",
    "        run_id = datasaver.run_id\n",
    "    stop = time.perf_counter()\n",
    "    tot_time = stop - start\n",
    "    add_time = stop_adding - start_adding\n",
    "    return tot_time, add_time, run_id"
   ]
  },
  {
   "cell_type": "markdown",
   "metadata": {},
   "source": [
    "## Comparison between numeric/array data and binary blob"
   ]
  },
  {
   "cell_type": "markdown",
   "metadata": {},
   "source": [
    "### Case1: Short experiment time"
   ]
  },
  {
   "cell_type": "code",
   "execution_count": 5,
   "metadata": {},
   "outputs": [
    {
     "name": "stdout",
     "output_type": "stream",
     "text": [
      "Starting experimental run with id: 1. \n",
      "Starting experimental run with id: 2. \n",
      "Starting experimental run with id: 3. \n"
     ]
    },
    {
     "name": "stdout",
     "output_type": "stream",
     "text": [
      "Starting experimental run with id: 4. \n"
     ]
    },
    {
     "name": "stdout",
     "output_type": "stream",
     "text": [
      "Starting experimental run with id: 5. \n"
     ]
    },
    {
     "name": "stdout",
     "output_type": "stream",
     "text": [
      "Starting experimental run with id: 6. \n",
      "Starting experimental run with id: 7. \n"
     ]
    },
    {
     "name": "stdout",
     "output_type": "stream",
     "text": [
      "Starting experimental run with id: 8. \n",
      "Starting experimental run with id: 9. \n"
     ]
    },
    {
     "name": "stdout",
     "output_type": "stream",
     "text": [
      "Starting experimental run with id: 10. \n",
      "Starting experimental run with id: 11. \n"
     ]
    },
    {
     "name": "stdout",
     "output_type": "stream",
     "text": [
      "Starting experimental run with id: 12. \n"
     ]
    },
    {
     "name": "stdout",
     "output_type": "stream",
     "text": [
      "Starting experimental run with id: 13. \n"
     ]
    },
    {
     "name": "stdout",
     "output_type": "stream",
     "text": [
      "Starting experimental run with id: 14. \n"
     ]
    }
   ],
   "source": [
    "sizes = [1,500,1000,2000,3000,4000,5000]\n",
    "t_numeric = []\n",
    "t_numeric_add = []\n",
    "t_array = []\n",
    "t_array_add = []\n",
    "for size in sizes:\n",
    "    tn, tna, run_id_n =  insert_data('numeric', size)\n",
    "    t_numeric.append(tn)\n",
    "    t_numeric_add.append(tna)\n",
    "\n",
    "    ta, taa, run_id_a =  insert_data('array', size)\n",
    "    t_array.append(ta)\n",
    "    t_array_add.append(taa)"
   ]
  },
  {
   "cell_type": "code",
   "execution_count": 6,
   "metadata": {},
   "outputs": [
    {
     "data": {
      "image/png": "[encoded data removed]",
      "text/plain": [
       "<Figure size 432x288 with 1 Axes>"
      ]
     },
     "metadata": {
      "needs_background": "light"
     },
     "output_type": "display_data"
    }
   ],
   "source": [
    "fig, ax = plt.subplots(1,1)\n",
    "ax.plot(sizes, t_numeric, 'o-', label='Inserting row-by-row')\n",
    "ax.plot(sizes, t_numeric_add, 'o-', label='Inserting row-by-row: add_result only')\n",
    "ax.plot(sizes, t_array, 'd-', label='Inserting as binary blob')\n",
    "ax.plot(sizes, t_array_add, 'd-', label='Inserting as binary blob: add_result only')\n",
    "ax.legend()\n",
    "ax.set_xlabel('Array length')\n",
    "ax.set_ylabel('Time (s)')\n",
    "fig.tight_layout()"
   ]
  },
  {
   "cell_type": "markdown",
   "metadata": {},
   "source": [
    "As shown in the latter figure, the time to setup and and close the experiment is approximately 0.4 sec. In case of small array sizes, the difference between inserting values of data as arrays and inserting them row-by-row is relatively unimportant. At larger array sizes, i.e. above 10000 points, the cost of writing data as individual datapoints starts to become important.\n"
   ]
  },
  {
   "cell_type": "markdown",
   "metadata": {},
   "source": [
    "### Case2: Long experiment time "
   ]
  },
  {
   "cell_type": "code",
   "execution_count": 7,
   "metadata": {},
   "outputs": [
    {
     "name": "stdout",
     "output_type": "stream",
     "text": [
      "Starting experimental run with id: 15. \n",
      "Starting experimental run with id: 16. \n"
     ]
    },
    {
     "name": "stdout",
     "output_type": "stream",
     "text": [
      "Starting experimental run with id: 17. \n"
     ]
    },
    {
     "name": "stdout",
     "output_type": "stream",
     "text": [
      "Starting experimental run with id: 18. \n",
      "Starting experimental run with id: 19. \n"
     ]
    },
    {
     "name": "stdout",
     "output_type": "stream",
     "text": [
      "Starting experimental run with id: 20. \n"
     ]
    },
    {
     "name": "stdout",
     "output_type": "stream",
     "text": [
      "Starting experimental run with id: 21. \n"
     ]
    },
    {
     "name": "stdout",
     "output_type": "stream",
     "text": [
      "Starting experimental run with id: 22. \n"
     ]
    },
    {
     "name": "stdout",
     "output_type": "stream",
     "text": [
      "Starting experimental run with id: 23. \n"
     ]
    },
    {
     "name": "stdout",
     "output_type": "stream",
     "text": [
      "Starting experimental run with id: 24. \n"
     ]
    },
    {
     "name": "stdout",
     "output_type": "stream",
     "text": [
      "Starting experimental run with id: 25. \n"
     ]
    },
    {
     "name": "stdout",
     "output_type": "stream",
     "text": [
      "Starting experimental run with id: 26. \n"
     ]
    },
    {
     "name": "stdout",
     "output_type": "stream",
     "text": [
      "Starting experimental run with id: 27. \n"
     ]
    },
    {
     "name": "stdout",
     "output_type": "stream",
     "text": [
      "Starting experimental run with id: 28. \n"
     ]
    }
   ],
   "source": [
    "sizes = [1,500,1000,2000,3000,4000,5000]\n",
    "nreps = 100\n",
    "t_numeric = []\n",
    "t_numeric_add = []\n",
    "t_numeric_run_ids = []\n",
    "t_array = []\n",
    "t_array_add = []\n",
    "t_array_run_ids = []\n",
    "for size in sizes:\n",
    "    tn, tna, run_id_n =  insert_data('numeric', size, nreps=nreps)\n",
    "    t_numeric.append(tn)\n",
    "    t_numeric_add.append(tna)\n",
    "    t_numeric_run_ids.append(run_id_n)\n",
    "\n",
    "    ta, taa, run_id_a =  insert_data('array', size, nreps=nreps)\n",
    "    t_array.append(ta)\n",
    "    t_array_add.append(taa)\n",
    "    t_array_run_ids.append(run_id_a)"
   ]
  },
  {
   "cell_type": "code",
   "execution_count": 8,
   "metadata": {
    "scrolled": true
   },
   "outputs": [
    {
     "data": {
      "image/png": "[encoded data removed]",
      "text/plain": [
       "<Figure size 432x288 with 1 Axes>"
      ]
     },
     "metadata": {
      "needs_background": "light"
     },
     "output_type": "display_data"
    }
   ],
   "source": [
    "fig, ax = plt.subplots(1,1)\n",
    "ax.plot(sizes, t_numeric, 'o-', label='Inserting row-by-row')\n",
    "ax.plot(sizes, t_numeric_add, 'o-', label='Inserting row-by-row: add_result only')\n",
    "ax.plot(sizes, t_array, 'd-', label='Inserting as binary blob')\n",
    "ax.plot(sizes, t_array_add, 'd-', label='Inserting as binary blob: add_result only')\n",
    "ax.legend()\n",
    "ax.set_xlabel('Array length')\n",
    "ax.set_ylabel('Time (s)')\n",
    "fig.tight_layout()"
   ]
  },
  {
   "cell_type": "markdown",
   "metadata": {},
   "source": [
    "However, as we increase the length of the experiment, as seen here by repeating the insertion 100 times, we see a big difference between inserting values of the data row-by-row and inserting it as a binary blob."
   ]
  },
  {
   "cell_type": "markdown",
   "metadata": {},
   "source": [
    "## Loading the data "
   ]
  },
  {
   "cell_type": "code",
   "execution_count": 9,
   "metadata": {},
   "outputs": [],
   "source": [
    "from qcodes.dataset.data_set import load_by_id\n",
    "from qcodes.dataset.data_export import get_data_by_id"
   ]
  },
  {
   "cell_type": "markdown",
   "metadata": {},
   "source": [
    "As usual you can load the data by using the ``load_by_id`` function but you will notice that the different storage methods\n",
    "are reflected in shape of the data as it is retrieved. "
   ]
  },
  {
   "cell_type": "code",
   "execution_count": 10,
   "metadata": {},
   "outputs": [],
   "source": [
    "run_id_n = t_numeric_run_ids[0]\n",
    "run_id_a = t_array_run_ids[0]"
   ]
  },
  {
   "cell_type": "code",
   "execution_count": 11,
   "metadata": {
    "scrolled": true
   },
   "outputs": [
    {
     "data": {
      "text/plain": [
       "{'x1': {'x1': array([0.66769165, 0.66769165, 0.75882091, 0.75882091, 0.83815784,\n",
       "         0.83815784, 0.56324504, 0.56324504, 0.30179578, 0.30179578,\n",
       "         0.57297601, 0.57297601, 0.35134311, 0.35134311, 0.50283708,\n",
       "         0.50283708, 0.82673478, 0.82673478, 0.40111051, 0.40111051,\n",
       "         0.00917078, 0.00917078, 0.71554118, 0.71554118, 0.8899907 ,\n",
       "         0.8899907 , 0.33065635, 0.33065635, 0.21733777, 0.21733777,\n",
       "         0.10673148, 0.10673148, 0.01611328, 0.01611328, 0.75857246,\n",
       "         0.75857246, 0.56296188, 0.56296188, 0.71032682, 0.71032682,\n",
       "         0.10717029, 0.10717029, 0.63482719, 0.63482719, 0.91006067,\n",
       "         0.91006067, 0.6089943 , 0.6089943 , 0.72289553, 0.72289553,\n",
       "         0.23341326, 0.23341326, 0.86078967, 0.86078967, 0.11169455,\n",
       "         0.11169455, 0.81300283, 0.81300283, 0.69453791, 0.69453791,\n",
       "         0.24165592, 0.24165592, 0.21634736, 0.21634736, 0.57230627,\n",
       "         0.57230627, 0.64544362, 0.64544362, 0.07268729, 0.07268729,\n",
       "         0.78527522, 0.78527522, 0.85083058, 0.85083058, 0.99450312,\n",
       "         0.99450312, 0.63755714, 0.63755714, 0.41028651, 0.41028651,\n",
       "         0.4778473 , 0.4778473 , 0.92771501, 0.92771501, 0.39992015,\n",
       "         0.39992015, 0.41488796, 0.41488796, 0.97479506, 0.97479506,\n",
       "         0.68773685, 0.68773685, 0.42724841, 0.42724841, 0.83376312,\n",
       "         0.83376312, 0.29814118, 0.29814118, 0.55471391, 0.55471391,\n",
       "         0.48019078, 0.48019078, 0.62749038, 0.62749038, 0.07043955,\n",
       "         0.07043955, 0.37434934, 0.37434934, 0.11811313, 0.11811313,\n",
       "         0.40311697, 0.40311697, 0.86486193, 0.86486193, 0.59179298,\n",
       "         0.59179298, 0.78697851, 0.78697851, 0.05680167, 0.05680167,\n",
       "         0.35615528, 0.35615528, 0.01558355, 0.01558355, 0.37626669,\n",
       "         0.37626669, 0.81077035, 0.81077035, 0.34494995, 0.34494995,\n",
       "         0.72242683, 0.72242683, 0.15268509, 0.15268509, 0.65814297,\n",
       "         0.65814297, 0.77695372, 0.77695372, 0.24419453, 0.24419453,\n",
       "         0.26412021, 0.26412021, 0.04554405, 0.04554405, 0.48122646,\n",
       "         0.48122646, 0.15068907, 0.15068907, 0.26163972, 0.26163972,\n",
       "         0.94129589, 0.94129589, 0.89871383, 0.89871383, 0.83318631,\n",
       "         0.83318631, 0.60419964, 0.60419964, 0.71770936, 0.71770936,\n",
       "         0.95922506, 0.95922506, 0.47567777, 0.47567777, 0.53080699,\n",
       "         0.53080699, 0.30342072, 0.30342072, 0.5624948 , 0.5624948 ,\n",
       "         0.47835723, 0.47835723, 0.53678128, 0.53678128, 0.21152061,\n",
       "         0.21152061, 0.70108637, 0.70108637, 0.62320581, 0.62320581,\n",
       "         0.87201686, 0.87201686, 0.30649544, 0.30649544, 0.11406515,\n",
       "         0.11406515, 0.96221628, 0.96221628, 0.24741612, 0.24741612,\n",
       "         0.29144889, 0.29144889, 0.55918821, 0.55918821, 0.95434592,\n",
       "         0.95434592, 0.4241641 , 0.4241641 , 0.33515492, 0.33515492])}}"
      ]
     },
     "execution_count": 11,
     "metadata": {},
     "output_type": "execute_result"
    }
   ],
   "source": [
    "ds = load_by_id(run_id_n)\n",
    "ds.get_parameter_data('x1')"
   ]
  },
  {
   "cell_type": "markdown",
   "metadata": {},
   "source": [
    "And a dataset stored as binary arrays"
   ]
  },
  {
   "cell_type": "code",
   "execution_count": 12,
   "metadata": {
    "scrolled": true
   },
   "outputs": [
    {
     "data": {
      "text/plain": [
       "{'x1': {'x1': array([[0.82777528],\n",
       "         [0.82777528],\n",
       "         [0.78099235],\n",
       "         [0.78099235],\n",
       "         [0.95354989],\n",
       "         [0.95354989],\n",
       "         [0.31550481],\n",
       "         [0.31550481],\n",
       "         [0.64792148],\n",
       "         [0.64792148],\n",
       "         [0.82428969],\n",
       "         [0.82428969],\n",
       "         [0.66309856],\n",
       "         [0.66309856],\n",
       "         [0.10360062],\n",
       "         [0.10360062],\n",
       "         [0.63865447],\n",
       "         [0.63865447],\n",
       "         [0.04176245],\n",
       "         [0.04176245],\n",
       "         [0.315681  ],\n",
       "         [0.315681  ],\n",
       "         [0.03341109],\n",
       "         [0.03341109],\n",
       "         [0.72397866],\n",
       "         [0.72397866],\n",
       "         [0.96814543],\n",
       "         [0.96814543],\n",
       "         [0.77048882],\n",
       "         [0.77048882],\n",
       "         [0.72617532],\n",
       "         [0.72617532],\n",
       "         [0.20396571],\n",
       "         [0.20396571],\n",
       "         [0.56400939],\n",
       "         [0.56400939],\n",
       "         [0.69330937],\n",
       "         [0.69330937],\n",
       "         [0.96634095],\n",
       "         [0.96634095],\n",
       "         [0.83266965],\n",
       "         [0.83266965],\n",
       "         [0.40816567],\n",
       "         [0.40816567],\n",
       "         [0.60957146],\n",
       "         [0.60957146],\n",
       "         [0.22926799],\n",
       "         [0.22926799],\n",
       "         [0.11302562],\n",
       "         [0.11302562],\n",
       "         [0.09143198],\n",
       "         [0.09143198],\n",
       "         [0.98508909],\n",
       "         [0.98508909],\n",
       "         [0.42798304],\n",
       "         [0.42798304],\n",
       "         [0.2224258 ],\n",
       "         [0.2224258 ],\n",
       "         [0.03490178],\n",
       "         [0.03490178],\n",
       "         [0.55577411],\n",
       "         [0.55577411],\n",
       "         [0.45052949],\n",
       "         [0.45052949],\n",
       "         [0.39217657],\n",
       "         [0.39217657],\n",
       "         [0.67921116],\n",
       "         [0.67921116],\n",
       "         [0.80338681],\n",
       "         [0.80338681],\n",
       "         [0.67086995],\n",
       "         [0.67086995],\n",
       "         [0.15389522],\n",
       "         [0.15389522],\n",
       "         [0.4899005 ],\n",
       "         [0.4899005 ],\n",
       "         [0.4550821 ],\n",
       "         [0.4550821 ],\n",
       "         [0.6932374 ],\n",
       "         [0.6932374 ],\n",
       "         [0.96206311],\n",
       "         [0.96206311],\n",
       "         [0.14428858],\n",
       "         [0.14428858],\n",
       "         [0.44080782],\n",
       "         [0.44080782],\n",
       "         [0.01727009],\n",
       "         [0.01727009],\n",
       "         [0.78034781],\n",
       "         [0.78034781],\n",
       "         [0.41265587],\n",
       "         [0.41265587],\n",
       "         [0.78149613],\n",
       "         [0.78149613],\n",
       "         [0.56017133],\n",
       "         [0.56017133],\n",
       "         [0.34687966],\n",
       "         [0.34687966],\n",
       "         [0.62041716],\n",
       "         [0.62041716],\n",
       "         [0.09836427],\n",
       "         [0.09836427],\n",
       "         [0.15543284],\n",
       "         [0.15543284],\n",
       "         [0.44544492],\n",
       "         [0.44544492],\n",
       "         [0.60005292],\n",
       "         [0.60005292],\n",
       "         [0.07677914],\n",
       "         [0.07677914],\n",
       "         [0.18935841],\n",
       "         [0.18935841],\n",
       "         [0.62948552],\n",
       "         [0.62948552],\n",
       "         [0.11848882],\n",
       "         [0.11848882],\n",
       "         [0.93566969],\n",
       "         [0.93566969],\n",
       "         [0.24303511],\n",
       "         [0.24303511],\n",
       "         [0.45729185],\n",
       "         [0.45729185],\n",
       "         [0.92298881],\n",
       "         [0.92298881],\n",
       "         [0.13997695],\n",
       "         [0.13997695],\n",
       "         [0.48373045],\n",
       "         [0.48373045],\n",
       "         [0.82412855],\n",
       "         [0.82412855],\n",
       "         [0.14851021],\n",
       "         [0.14851021],\n",
       "         [0.26400189],\n",
       "         [0.26400189],\n",
       "         [0.27323021],\n",
       "         [0.27323021],\n",
       "         [0.12741524],\n",
       "         [0.12741524],\n",
       "         [0.10003337],\n",
       "         [0.10003337],\n",
       "         [0.3194114 ],\n",
       "         [0.3194114 ],\n",
       "         [0.36168957],\n",
       "         [0.36168957],\n",
       "         [0.61864665],\n",
       "         [0.61864665],\n",
       "         [0.74893373],\n",
       "         [0.74893373],\n",
       "         [0.30070571],\n",
       "         [0.30070571],\n",
       "         [0.61262149],\n",
       "         [0.61262149],\n",
       "         [0.12744257],\n",
       "         [0.12744257],\n",
       "         [0.75776802],\n",
       "         [0.75776802],\n",
       "         [0.849566  ],\n",
       "         [0.849566  ],\n",
       "         [0.28364493],\n",
       "         [0.28364493],\n",
       "         [0.29800766],\n",
       "         [0.29800766],\n",
       "         [0.10918807],\n",
       "         [0.10918807],\n",
       "         [0.93891052],\n",
       "         [0.93891052],\n",
       "         [0.19715372],\n",
       "         [0.19715372],\n",
       "         [0.62760357],\n",
       "         [0.62760357],\n",
       "         [0.63556717],\n",
       "         [0.63556717],\n",
       "         [0.72933115],\n",
       "         [0.72933115],\n",
       "         [0.61039249],\n",
       "         [0.61039249],\n",
       "         [0.08704456],\n",
       "         [0.08704456],\n",
       "         [0.69937174],\n",
       "         [0.69937174],\n",
       "         [0.4346641 ],\n",
       "         [0.4346641 ],\n",
       "         [0.45080854],\n",
       "         [0.45080854],\n",
       "         [0.7522256 ],\n",
       "         [0.7522256 ],\n",
       "         [0.68898301],\n",
       "         [0.68898301],\n",
       "         [0.18306064],\n",
       "         [0.18306064],\n",
       "         [0.6156286 ],\n",
       "         [0.6156286 ],\n",
       "         [0.56849294],\n",
       "         [0.56849294],\n",
       "         [0.60146546],\n",
       "         [0.60146546],\n",
       "         [0.09607119],\n",
       "         [0.09607119],\n",
       "         [0.89083545],\n",
       "         [0.89083545]])}}"
      ]
     },
     "execution_count": 12,
     "metadata": {},
     "output_type": "execute_result"
    }
   ],
   "source": [
    "ds = load_by_id(run_id_a)\n",
    "ds.get_parameter_data('x1')"
   ]
  },
  {
   "cell_type": "code",
   "execution_count": null,
   "metadata": {},
   "outputs": [],
   "source": []
  }
 ],
 "metadata": {
  "kernelspec": {
   "display_name": "Python 3",
   "language": "python",
   "name": "python3"
  },
  "language_info": {
   "codemirror_mode": {
    "name": "ipython",
    "version": 3
   },
   "file_extension": ".py",
   "mimetype": "text/x-python",
   "name": "python",
   "nbconvert_exporter": "python",
   "pygments_lexer": "ipython3",
   "version": "3.7.7"
  },
  "nbsphinx": {
   "timeout": 600
  },
  "toc": {
   "base_numbering": 1,
   "nav_menu": {},
   "number_sections": true,
   "sideBar": true,
   "skip_h1_title": false,
   "title_cell": "Table of Contents",
   "title_sidebar": "Contents",
   "toc_cell": false,
   "toc_position": {},
   "toc_section_display": true,
   "toc_window_display": false
  },
  "varInspector": {
   "cols": {
    "lenName": 16,
    "lenType": 16,
    "lenVar": 40
   },
   "kernels_config": {
    "python": {
     "delete_cmd_postfix": "",
     "delete_cmd_prefix": "del ",
     "library": "var_list.py",
     "varRefreshCmd": "print(var_dic_list())"
    },
    "r": {
     "delete_cmd_postfix": ") ",
     "delete_cmd_prefix": "rm(",
     "library": "var_list.r",
     "varRefreshCmd": "cat(var_dic_list()) "
    }
   },
   "types_to_exclude": [
    "module",
    "function",
    "builtin_function_or_method",
    "instance",
    "_Feature"
   ],
   "window_display": false
  }
 },
 "nbformat": 4,
 "nbformat_minor": 2
}
