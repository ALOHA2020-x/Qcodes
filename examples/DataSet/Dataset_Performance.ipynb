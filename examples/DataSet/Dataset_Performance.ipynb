{
 "cells": [
  {
   "cell_type": "markdown",
   "metadata": {},
   "source": [
    "# DataSet Performance\n",
    "\n",
    "This notebook shows the trade-off between inserting data into a database row-by-row and as binary blobs. Inserting the data row-by-row means that we have direct access to all the data and may perform queries directly on the values of the data. On the other hand, as we shall see, this is much slower than inserting the data directly as binary blobs."
   ]
  },
  {
   "cell_type": "markdown",
   "metadata": {},
   "source": [
    "First, we choose a new location for the database to ensure that we don't add a bunch of benchmarking data to the default one."
   ]
  },
  {
   "cell_type": "code",
   "execution_count": 1,
   "metadata": {
    "execution": {
     "iopub.execute_input": "2021-04-15T06:00:02.022574Z",
     "iopub.status.busy": "2021-04-15T06:00:02.022007Z",
     "iopub.status.idle": "2021-04-15T06:00:02.915627Z",
     "shell.execute_reply": "2021-04-15T06:00:02.916118Z"
    }
   },
   "outputs": [
    {
     "name": "stdout",
     "output_type": "stream",
     "text": [
      "Logging hadn't been started.\n",
      "Activating auto-logging. Current session state plus future input saved.\n",
      "Filename       : /home/runner/.qcodes/logs/command_history.log\n",
      "Mode           : append\n",
      "Output logging : True\n",
      "Raw input log  : False\n",
      "Timestamping   : True\n",
      "State          : active\n"
     ]
    },
    {
     "name": "stdout",
     "output_type": "stream",
     "text": [
      "Qcodes Logfile : /home/runner/.qcodes/logs/210415-4360-qcodes.log\n"
     ]
    }
   ],
   "source": [
    "import os\n",
    "cwd = os.getcwd()\n",
    "import qcodes as qc\n",
    "qc.config[\"core\"][\"db_location\"] = os.path.join(cwd, 'testing.db')\n"
   ]
  },
  {
   "cell_type": "code",
   "execution_count": 2,
   "metadata": {
    "execution": {
     "iopub.execute_input": "2021-04-15T06:00:02.922427Z",
     "iopub.status.busy": "2021-04-15T06:00:02.921820Z",
     "iopub.status.idle": "2021-04-15T06:00:03.156921Z",
     "shell.execute_reply": "2021-04-15T06:00:03.156372Z"
    }
   },
   "outputs": [],
   "source": [
    "%matplotlib inline\n",
    "import time\n",
    "import matplotlib.pyplot as plt\n",
    "import numpy as np\n",
    "\n",
    "import qcodes as qc\n",
    "from qcodes.instrument.parameter import ManualParameter\n",
    "from qcodes.dataset.experiment_container import (Experiment,\n",
    "                                                 load_last_experiment,\n",
    "                                                 new_experiment)\n",
    "from qcodes.dataset.sqlite.database import initialise_database\n",
    "from qcodes import load_or_create_experiment\n",
    "from qcodes.dataset.measurements import Measurement"
   ]
  },
  {
   "cell_type": "code",
   "execution_count": 3,
   "metadata": {
    "execution": {
     "iopub.execute_input": "2021-04-15T06:00:03.160669Z",
     "iopub.status.busy": "2021-04-15T06:00:03.160226Z",
     "iopub.status.idle": "2021-04-15T06:00:03.215405Z",
     "shell.execute_reply": "2021-04-15T06:00:03.215010Z"
    }
   },
   "outputs": [
    {
     "name": "stdout",
     "output_type": "stream",
     "text": [
      "\r",
      "0it [00:00, ?it/s]"
     ]
    },
    {
     "name": "stdout",
     "output_type": "stream",
     "text": [
      "\r",
      "Upgrading database; v0 -> v1: : 0it [00:00, ?it/s]"
     ]
    },
    {
     "name": "stdout",
     "output_type": "stream",
     "text": [
      "\r",
      "Upgrading database; v0 -> v1: : 0it [00:00, ?it/s]"
     ]
    },
    {
     "name": "stdout",
     "output_type": "stream",
     "text": [
      "\n",
      "\r",
      "  0%|          | 0/1 [00:00<?, ?it/s]"
     ]
    },
    {
     "name": "stdout",
     "output_type": "stream",
     "text": [
      "\r",
      "Upgrading database; v1 -> v2:   0%|          | 0/1 [00:00<?, ?it/s]"
     ]
    },
    {
     "name": "stdout",
     "output_type": "stream",
     "text": [
      "\r",
      "Upgrading database; v1 -> v2: 100%|██████████| 1/1 [00:00<00:00, 1078.78it/s]"
     ]
    },
    {
     "name": "stdout",
     "output_type": "stream",
     "text": [
      "\n",
      "\r",
      "0it [00:00, ?it/s]"
     ]
    },
    {
     "name": "stdout",
     "output_type": "stream",
     "text": [
      "\r",
      "Upgrading database; v2 -> v3: : 0it [00:00, ?it/s]"
     ]
    },
    {
     "name": "stdout",
     "output_type": "stream",
     "text": [
      "\r",
      "Upgrading database; v2 -> v3: : 0it [00:00, ?it/s]"
     ]
    },
    {
     "name": "stdout",
     "output_type": "stream",
     "text": [
      "\n",
      "\r",
      "0it [00:00, ?it/s]"
     ]
    },
    {
     "name": "stdout",
     "output_type": "stream",
     "text": [
      "\r",
      "Upgrading database; v3 -> v4: : 0it [00:00, ?it/s]"
     ]
    },
    {
     "name": "stdout",
     "output_type": "stream",
     "text": [
      "\r",
      "Upgrading database; v3 -> v4: : 0it [00:00, ?it/s]"
     ]
    },
    {
     "name": "stdout",
     "output_type": "stream",
     "text": [
      "\n",
      "\r",
      "  0%|          | 0/1 [00:00<?, ?it/s]"
     ]
    },
    {
     "name": "stdout",
     "output_type": "stream",
     "text": [
      "\r",
      "Upgrading database; v4 -> v5:   0%|          | 0/1 [00:00<?, ?it/s]"
     ]
    },
    {
     "name": "stdout",
     "output_type": "stream",
     "text": [
      "\r",
      "Upgrading database; v4 -> v5: 100%|██████████| 1/1 [00:00<00:00, 970.68it/s]"
     ]
    },
    {
     "name": "stdout",
     "output_type": "stream",
     "text": [
      "\n",
      "\r",
      "0it [00:00, ?it/s]"
     ]
    },
    {
     "name": "stdout",
     "output_type": "stream",
     "text": [
      "\r",
      "Upgrading database; v5 -> v6: : 0it [00:00, ?it/s]"
     ]
    },
    {
     "name": "stdout",
     "output_type": "stream",
     "text": [
      "\r",
      "Upgrading database; v5 -> v6: : 0it [00:00, ?it/s]"
     ]
    },
    {
     "name": "stdout",
     "output_type": "stream",
     "text": [
      "\n",
      "\r",
      "  0%|          | 0/1 [00:00<?, ?it/s]"
     ]
    },
    {
     "name": "stdout",
     "output_type": "stream",
     "text": [
      "\r",
      "Upgrading database; v6 -> v7:   0%|          | 0/1 [00:00<?, ?it/s]"
     ]
    },
    {
     "name": "stdout",
     "output_type": "stream",
     "text": [
      "\r",
      "Upgrading database; v6 -> v7: 100%|██████████| 1/1 [00:00<00:00, 435.18it/s]"
     ]
    },
    {
     "name": "stdout",
     "output_type": "stream",
     "text": [
      "\n",
      "\r",
      "  0%|          | 0/1 [00:00<?, ?it/s]"
     ]
    },
    {
     "name": "stdout",
     "output_type": "stream",
     "text": [
      "\r",
      "Upgrading database; v7 -> v8:   0%|          | 0/1 [00:00<?, ?it/s]"
     ]
    },
    {
     "name": "stdout",
     "output_type": "stream",
     "text": [
      "\r",
      "Upgrading database; v7 -> v8: 100%|██████████| 1/1 [00:00<00:00, 571.74it/s]"
     ]
    },
    {
     "name": "stdout",
     "output_type": "stream",
     "text": [
      "\n",
      "\r",
      "  0%|          | 0/1 [00:00<?, ?it/s]"
     ]
    },
    {
     "name": "stdout",
     "output_type": "stream",
     "text": [
      "\r",
      "Upgrading database; v8 -> v9:   0%|          | 0/1 [00:00<?, ?it/s]"
     ]
    },
    {
     "name": "stdout",
     "output_type": "stream",
     "text": [
      "\r",
      "Upgrading database; v8 -> v9: 100%|██████████| 1/1 [00:00<00:00, 1019.02it/s]"
     ]
    },
    {
     "name": "stdout",
     "output_type": "stream",
     "text": [
      "\n"
     ]
    }
   ],
   "source": [
    "initialise_database()\n",
    "exp = load_or_create_experiment(experiment_name='tutorial_exp', sample_name=\"no sample\")"
   ]
  },
  {
   "cell_type": "markdown",
   "metadata": {},
   "source": [
    "Here, we define a simple function to benchmark the time it takes to insert n points with either numeric or array data type.\n",
    "We will compare both the time used to call ``add_result`` and the time used for the full measurement."
   ]
  },
  {
   "cell_type": "code",
   "execution_count": 4,
   "metadata": {
    "execution": {
     "iopub.execute_input": "2021-04-15T06:00:03.223434Z",
     "iopub.status.busy": "2021-04-15T06:00:03.222896Z",
     "iopub.status.idle": "2021-04-15T06:00:03.225836Z",
     "shell.execute_reply": "2021-04-15T06:00:03.226221Z"
    }
   },
   "outputs": [],
   "source": [
    "def insert_data(paramtype, npoints, nreps=1):\n",
    "\n",
    "    meas = Measurement(exp=exp)\n",
    "\n",
    "    x1 = ManualParameter('x1')\n",
    "    x2 = ManualParameter('x2')\n",
    "    x3 = ManualParameter('x3')\n",
    "    y1 = ManualParameter('y1')\n",
    "    y2 = ManualParameter('y2')\n",
    "\n",
    "    meas.register_parameter(x1, paramtype=paramtype)\n",
    "    meas.register_parameter(x2, paramtype=paramtype)\n",
    "    meas.register_parameter(x3, paramtype=paramtype)\n",
    "    meas.register_parameter(y1, setpoints=[x1, x2, x3],\n",
    "                            paramtype=paramtype)\n",
    "    meas.register_parameter(y2, setpoints=[x1, x2, x3],\n",
    "                            paramtype=paramtype)\n",
    "    start = time.perf_counter()\n",
    "    with meas.run() as datasaver:\n",
    "        start_adding = time.perf_counter()\n",
    "        for i in range(nreps):\n",
    "            datasaver.add_result((x1, np.random.rand(npoints)),\n",
    "                                 (x2, np.random.rand(npoints)),\n",
    "                                 (x3, np.random.rand(npoints)),\n",
    "                                 (y1, np.random.rand(npoints)),\n",
    "                                 (y2, np.random.rand(npoints)))\n",
    "        stop_adding = time.perf_counter()\n",
    "        run_id = datasaver.run_id\n",
    "    stop = time.perf_counter()\n",
    "    tot_time = stop - start\n",
    "    add_time = stop_adding - start_adding\n",
    "    return tot_time, add_time, run_id"
   ]
  },
  {
   "cell_type": "markdown",
   "metadata": {},
   "source": [
    "## Comparison between numeric/array data and binary blob"
   ]
  },
  {
   "cell_type": "markdown",
   "metadata": {},
   "source": [
    "### Case1: Short experiment time"
   ]
  },
  {
   "cell_type": "code",
   "execution_count": 5,
   "metadata": {
    "execution": {
     "iopub.execute_input": "2021-04-15T06:00:03.232395Z",
     "iopub.status.busy": "2021-04-15T06:00:03.231549Z",
     "iopub.status.idle": "2021-04-15T06:00:03.920533Z",
     "shell.execute_reply": "2021-04-15T06:00:03.920935Z"
    }
   },
   "outputs": [
    {
     "name": "stdout",
     "output_type": "stream",
     "text": [
      "Starting experimental run with id: 1. \n",
      "Starting experimental run with id: 2. \n",
      "Starting experimental run with id: 3. \n",
      "Starting experimental run with id: 4. \n",
      "Starting experimental run with id: 5. \n",
      "Starting experimental run with id: 6. \n",
      "Starting experimental run with id: 7. \n"
     ]
    },
    {
     "name": "stdout",
     "output_type": "stream",
     "text": [
      "Starting experimental run with id: 8. \n",
      "Starting experimental run with id: 9. \n"
     ]
    },
    {
     "name": "stdout",
     "output_type": "stream",
     "text": [
      "Starting experimental run with id: 10. \n",
      "Starting experimental run with id: 11. \n"
     ]
    },
    {
     "name": "stdout",
     "output_type": "stream",
     "text": [
      "Starting experimental run with id: 12. \n"
     ]
    },
    {
     "name": "stdout",
     "output_type": "stream",
     "text": [
      "Starting experimental run with id: 13. \n",
      "Starting experimental run with id: 14. \n"
     ]
    }
   ],
   "source": [
    "sizes = [1,500,1000,2000,3000,4000,5000]\n",
    "t_numeric = []\n",
    "t_numeric_add = []\n",
    "t_array = []\n",
    "t_array_add = []\n",
    "for size in sizes:\n",
    "    tn, tna, run_id_n =  insert_data('numeric', size)\n",
    "    t_numeric.append(tn)\n",
    "    t_numeric_add.append(tna)\n",
    "\n",
    "    ta, taa, run_id_a =  insert_data('array', size)\n",
    "    t_array.append(ta)\n",
    "    t_array_add.append(taa)"
   ]
  },
  {
   "cell_type": "code",
   "execution_count": 6,
   "metadata": {
    "execution": {
     "iopub.execute_input": "2021-04-15T06:00:03.936919Z",
     "iopub.status.busy": "2021-04-15T06:00:03.936402Z",
     "iopub.status.idle": "2021-04-15T06:00:04.093550Z",
     "shell.execute_reply": "2021-04-15T06:00:04.092821Z"
    }
   },
   "outputs": [
    {
     "data": {
      "image/png": "[encoded data removed]",
      "text/plain": [
       "<Figure size 432x288 with 1 Axes>"
      ]
     },
     "metadata": {
      "needs_background": "light"
     },
     "output_type": "display_data"
    }
   ],
   "source": [
    "fig, ax = plt.subplots(1,1)\n",
    "ax.plot(sizes, t_numeric, 'o-', label='Inserting row-by-row')\n",
    "ax.plot(sizes, t_numeric_add, 'o-', label='Inserting row-by-row: add_result only')\n",
    "ax.plot(sizes, t_array, 'd-', label='Inserting as binary blob')\n",
    "ax.plot(sizes, t_array_add, 'd-', label='Inserting as binary blob: add_result only')\n",
    "ax.legend()\n",
    "ax.set_xlabel('Array length')\n",
    "ax.set_ylabel('Time (s)')\n",
    "fig.tight_layout()"
   ]
  },
  {
   "cell_type": "markdown",
   "metadata": {},
   "source": [
    "As shown in the latter figure, the time to setup and and close the experiment is approximately 0.4 sec. In case of small array sizes, the difference between inserting values of data as arrays and inserting them row-by-row is relatively unimportant. At larger array sizes, i.e. above 10000 points, the cost of writing data as individual datapoints starts to become important.\n"
   ]
  },
  {
   "cell_type": "markdown",
   "metadata": {},
   "source": [
    "### Case2: Long experiment time "
   ]
  },
  {
   "cell_type": "code",
   "execution_count": 7,
   "metadata": {
    "execution": {
     "iopub.execute_input": "2021-04-15T06:00:04.099245Z",
     "iopub.status.busy": "2021-04-15T06:00:04.098729Z",
     "iopub.status.idle": "2021-04-15T06:00:50.538094Z",
     "shell.execute_reply": "2021-04-15T06:00:50.538669Z"
    }
   },
   "outputs": [
    {
     "name": "stdout",
     "output_type": "stream",
     "text": [
      "Starting experimental run with id: 15. \n",
      "Starting experimental run with id: 16. \n",
      "Starting experimental run with id: 17. \n"
     ]
    },
    {
     "name": "stdout",
     "output_type": "stream",
     "text": [
      "Starting experimental run with id: 18. \n",
      "Starting experimental run with id: 19. \n"
     ]
    },
    {
     "name": "stdout",
     "output_type": "stream",
     "text": [
      "Starting experimental run with id: 20. \n"
     ]
    },
    {
     "name": "stdout",
     "output_type": "stream",
     "text": [
      "Starting experimental run with id: 21. \n"
     ]
    },
    {
     "name": "stdout",
     "output_type": "stream",
     "text": [
      "Starting experimental run with id: 22. \n"
     ]
    },
    {
     "name": "stdout",
     "output_type": "stream",
     "text": [
      "Starting experimental run with id: 23. \n"
     ]
    },
    {
     "name": "stdout",
     "output_type": "stream",
     "text": [
      "Starting experimental run with id: 24. \n"
     ]
    },
    {
     "name": "stdout",
     "output_type": "stream",
     "text": [
      "Starting experimental run with id: 25. \n"
     ]
    },
    {
     "name": "stdout",
     "output_type": "stream",
     "text": [
      "Starting experimental run with id: 26. \n"
     ]
    },
    {
     "name": "stdout",
     "output_type": "stream",
     "text": [
      "Starting experimental run with id: 27. \n"
     ]
    },
    {
     "name": "stdout",
     "output_type": "stream",
     "text": [
      "Starting experimental run with id: 28. \n"
     ]
    }
   ],
   "source": [
    "sizes = [1,500,1000,2000,3000,4000,5000]\n",
    "nreps = 100\n",
    "t_numeric = []\n",
    "t_numeric_add = []\n",
    "t_numeric_run_ids = []\n",
    "t_array = []\n",
    "t_array_add = []\n",
    "t_array_run_ids = []\n",
    "for size in sizes:\n",
    "    tn, tna, run_id_n =  insert_data('numeric', size, nreps=nreps)\n",
    "    t_numeric.append(tn)\n",
    "    t_numeric_add.append(tna)\n",
    "    t_numeric_run_ids.append(run_id_n)\n",
    "\n",
    "    ta, taa, run_id_a =  insert_data('array', size, nreps=nreps)\n",
    "    t_array.append(ta)\n",
    "    t_array_add.append(taa)\n",
    "    t_array_run_ids.append(run_id_a)"
   ]
  },
  {
   "cell_type": "code",
   "execution_count": 8,
   "metadata": {
    "execution": {
     "iopub.execute_input": "2021-04-15T06:00:50.564828Z",
     "iopub.status.busy": "2021-04-15T06:00:50.544069Z",
     "iopub.status.idle": "2021-04-15T06:00:50.697038Z",
     "shell.execute_reply": "2021-04-15T06:00:50.697445Z"
    },
    "scrolled": true
   },
   "outputs": [
    {
     "data": {
      "image/png": "[encoded data removed]",
      "text/plain": [
       "<Figure size 432x288 with 1 Axes>"
      ]
     },
     "metadata": {
      "needs_background": "light"
     },
     "output_type": "display_data"
    }
   ],
   "source": [
    "fig, ax = plt.subplots(1,1)\n",
    "ax.plot(sizes, t_numeric, 'o-', label='Inserting row-by-row')\n",
    "ax.plot(sizes, t_numeric_add, 'o-', label='Inserting row-by-row: add_result only')\n",
    "ax.plot(sizes, t_array, 'd-', label='Inserting as binary blob')\n",
    "ax.plot(sizes, t_array_add, 'd-', label='Inserting as binary blob: add_result only')\n",
    "ax.legend()\n",
    "ax.set_xlabel('Array length')\n",
    "ax.set_ylabel('Time (s)')\n",
    "fig.tight_layout()"
   ]
  },
  {
   "cell_type": "markdown",
   "metadata": {},
   "source": [
    "However, as we increase the length of the experiment, as seen here by repeating the insertion 100 times, we see a big difference between inserting values of the data row-by-row and inserting it as a binary blob."
   ]
  },
  {
   "cell_type": "markdown",
   "metadata": {},
   "source": [
    "## Loading the data "
   ]
  },
  {
   "cell_type": "code",
   "execution_count": 9,
   "metadata": {
    "execution": {
     "iopub.execute_input": "2021-04-15T06:00:50.701561Z",
     "iopub.status.busy": "2021-04-15T06:00:50.701111Z",
     "iopub.status.idle": "2021-04-15T06:00:50.703800Z",
     "shell.execute_reply": "2021-04-15T06:00:50.704423Z"
    }
   },
   "outputs": [],
   "source": [
    "from qcodes.dataset.data_set import load_by_id"
   ]
  },
  {
   "cell_type": "markdown",
   "metadata": {},
   "source": [
    "As usual you can load the data by using the ``load_by_id`` function but you will notice that the different storage methods\n",
    "are reflected in shape of the data as it is retrieved. "
   ]
  },
  {
   "cell_type": "code",
   "execution_count": 10,
   "metadata": {
    "execution": {
     "iopub.execute_input": "2021-04-15T06:00:50.708371Z",
     "iopub.status.busy": "2021-04-15T06:00:50.707663Z",
     "iopub.status.idle": "2021-04-15T06:00:50.711033Z",
     "shell.execute_reply": "2021-04-15T06:00:50.710618Z"
    }
   },
   "outputs": [],
   "source": [
    "run_id_n = t_numeric_run_ids[0]\n",
    "run_id_a = t_array_run_ids[0]"
   ]
  },
  {
   "cell_type": "code",
   "execution_count": 11,
   "metadata": {
    "execution": {
     "iopub.execute_input": "2021-04-15T06:00:50.714397Z",
     "iopub.status.busy": "2021-04-15T06:00:50.713937Z",
     "iopub.status.idle": "2021-04-15T06:00:50.724440Z",
     "shell.execute_reply": "2021-04-15T06:00:50.724790Z"
    },
    "scrolled": true
   },
   "outputs": [
    {
     "data": {
      "text/plain": [
       "{'x1': {'x1': array([0.88585278, 0.88585278, 0.55119636, 0.55119636, 0.45881481,\n",
       "         0.45881481, 0.72454406, 0.72454406, 0.48580542, 0.48580542,\n",
       "         0.90224134, 0.90224134, 0.4950087 , 0.4950087 , 0.52204974,\n",
       "         0.52204974, 0.70826468, 0.70826468, 0.52140985, 0.52140985,\n",
       "         0.65578765, 0.65578765, 0.47138439, 0.47138439, 0.86654273,\n",
       "         0.86654273, 0.79051959, 0.79051959, 0.52975107, 0.52975107,\n",
       "         0.55698651, 0.55698651, 0.01035427, 0.01035427, 0.40776656,\n",
       "         0.40776656, 0.02769776, 0.02769776, 0.56108333, 0.56108333,\n",
       "         0.14199759, 0.14199759, 0.04834383, 0.04834383, 0.4503389 ,\n",
       "         0.4503389 , 0.89937778, 0.89937778, 0.99189843, 0.99189843,\n",
       "         0.08079193, 0.08079193, 0.63820559, 0.63820559, 0.07952578,\n",
       "         0.07952578, 0.03915434, 0.03915434, 0.53437704, 0.53437704,\n",
       "         0.04330194, 0.04330194, 0.28918275, 0.28918275, 0.94041222,\n",
       "         0.94041222, 0.52011708, 0.52011708, 0.61164125, 0.61164125,\n",
       "         0.62385914, 0.62385914, 0.94685744, 0.94685744, 0.70992212,\n",
       "         0.70992212, 0.84566431, 0.84566431, 0.61180851, 0.61180851,\n",
       "         0.83903479, 0.83903479, 0.0849544 , 0.0849544 , 0.77522679,\n",
       "         0.77522679, 0.70784878, 0.70784878, 0.01883625, 0.01883625,\n",
       "         0.75463614, 0.75463614, 0.81646008, 0.81646008, 0.43338143,\n",
       "         0.43338143, 0.93727153, 0.93727153, 0.93192132, 0.93192132,\n",
       "         0.71273056, 0.71273056, 0.10537603, 0.10537603, 0.35017074,\n",
       "         0.35017074, 0.21393892, 0.21393892, 0.64371197, 0.64371197,\n",
       "         0.18799623, 0.18799623, 0.96917704, 0.96917704, 0.64910634,\n",
       "         0.64910634, 0.66228598, 0.66228598, 0.05013267, 0.05013267,\n",
       "         0.71887079, 0.71887079, 0.12563253, 0.12563253, 0.64669851,\n",
       "         0.64669851, 0.97876591, 0.97876591, 0.06502754, 0.06502754,\n",
       "         0.93911047, 0.93911047, 0.97299187, 0.97299187, 0.148443  ,\n",
       "         0.148443  , 0.2299905 , 0.2299905 , 0.76017777, 0.76017777,\n",
       "         0.68387996, 0.68387996, 0.82645731, 0.82645731, 0.05492326,\n",
       "         0.05492326, 0.81300378, 0.81300378, 0.12478521, 0.12478521,\n",
       "         0.68225255, 0.68225255, 0.53110865, 0.53110865, 0.44010825,\n",
       "         0.44010825, 0.73458168, 0.73458168, 0.51987204, 0.51987204,\n",
       "         0.08815086, 0.08815086, 0.68179207, 0.68179207, 0.03448691,\n",
       "         0.03448691, 0.17217022, 0.17217022, 0.50757795, 0.50757795,\n",
       "         0.70690841, 0.70690841, 0.95291686, 0.95291686, 0.11871263,\n",
       "         0.11871263, 0.034391  , 0.034391  , 0.018453  , 0.018453  ,\n",
       "         0.22208463, 0.22208463, 0.61215603, 0.61215603, 0.97438738,\n",
       "         0.97438738, 0.42547665, 0.42547665, 0.4188303 , 0.4188303 ,\n",
       "         0.84903024, 0.84903024, 0.75891024, 0.75891024, 0.14210276,\n",
       "         0.14210276, 0.18186447, 0.18186447, 0.86428934, 0.86428934])}}"
      ]
     },
     "execution_count": 1,
     "metadata": {},
     "output_type": "execute_result"
    }
   ],
   "source": [
    "ds = load_by_id(run_id_n)\n",
    "ds.get_parameter_data('x1')"
   ]
  },
  {
   "cell_type": "markdown",
   "metadata": {},
   "source": [
    "And a dataset stored as binary arrays"
   ]
  },
  {
   "cell_type": "code",
   "execution_count": 12,
   "metadata": {
    "execution": {
     "iopub.execute_input": "2021-04-15T06:00:50.728039Z",
     "iopub.status.busy": "2021-04-15T06:00:50.727601Z",
     "iopub.status.idle": "2021-04-15T06:00:50.777328Z",
     "shell.execute_reply": "2021-04-15T06:00:50.777811Z"
    },
    "scrolled": true
   },
   "outputs": [
    {
     "data": {
      "text/plain": [
       "{'x1': {'x1': array([[0.61469067],\n",
       "         [0.61469067],\n",
       "         [0.59921421],\n",
       "         [0.59921421],\n",
       "         [0.62930125],\n",
       "         [0.62930125],\n",
       "         [0.12424851],\n",
       "         [0.12424851],\n",
       "         [0.32828154],\n",
       "         [0.32828154],\n",
       "         [0.5698474 ],\n",
       "         [0.5698474 ],\n",
       "         [0.18759194],\n",
       "         [0.18759194],\n",
       "         [0.97428869],\n",
       "         [0.97428869],\n",
       "         [0.30645495],\n",
       "         [0.30645495],\n",
       "         [0.22825461],\n",
       "         [0.22825461],\n",
       "         [0.92741754],\n",
       "         [0.92741754],\n",
       "         [0.93442629],\n",
       "         [0.93442629],\n",
       "         [0.10985799],\n",
       "         [0.10985799],\n",
       "         [0.80603534],\n",
       "         [0.80603534],\n",
       "         [0.82601046],\n",
       "         [0.82601046],\n",
       "         [0.4532647 ],\n",
       "         [0.4532647 ],\n",
       "         [0.68303036],\n",
       "         [0.68303036],\n",
       "         [0.00881405],\n",
       "         [0.00881405],\n",
       "         [0.71634512],\n",
       "         [0.71634512],\n",
       "         [0.64501347],\n",
       "         [0.64501347],\n",
       "         [0.85357196],\n",
       "         [0.85357196],\n",
       "         [0.92680206],\n",
       "         [0.92680206],\n",
       "         [0.63120711],\n",
       "         [0.63120711],\n",
       "         [0.78755741],\n",
       "         [0.78755741],\n",
       "         [0.48951521],\n",
       "         [0.48951521],\n",
       "         [0.10283774],\n",
       "         [0.10283774],\n",
       "         [0.5566439 ],\n",
       "         [0.5566439 ],\n",
       "         [0.21702923],\n",
       "         [0.21702923],\n",
       "         [0.96163202],\n",
       "         [0.96163202],\n",
       "         [0.31982326],\n",
       "         [0.31982326],\n",
       "         [0.54879524],\n",
       "         [0.54879524],\n",
       "         [0.20480061],\n",
       "         [0.20480061],\n",
       "         [0.04385444],\n",
       "         [0.04385444],\n",
       "         [0.54503934],\n",
       "         [0.54503934],\n",
       "         [0.64996556],\n",
       "         [0.64996556],\n",
       "         [0.03398069],\n",
       "         [0.03398069],\n",
       "         [0.02255564],\n",
       "         [0.02255564],\n",
       "         [0.57246101],\n",
       "         [0.57246101],\n",
       "         [0.03752029],\n",
       "         [0.03752029],\n",
       "         [0.98821885],\n",
       "         [0.98821885],\n",
       "         [0.84044461],\n",
       "         [0.84044461],\n",
       "         [0.72600308],\n",
       "         [0.72600308],\n",
       "         [0.93459207],\n",
       "         [0.93459207],\n",
       "         [0.88430825],\n",
       "         [0.88430825],\n",
       "         [0.6119752 ],\n",
       "         [0.6119752 ],\n",
       "         [0.14202815],\n",
       "         [0.14202815],\n",
       "         [0.75144004],\n",
       "         [0.75144004],\n",
       "         [0.03065465],\n",
       "         [0.03065465],\n",
       "         [0.90548787],\n",
       "         [0.90548787],\n",
       "         [0.404459  ],\n",
       "         [0.404459  ],\n",
       "         [0.12447863],\n",
       "         [0.12447863],\n",
       "         [0.30645018],\n",
       "         [0.30645018],\n",
       "         [0.02902604],\n",
       "         [0.02902604],\n",
       "         [0.71841891],\n",
       "         [0.71841891],\n",
       "         [0.63971928],\n",
       "         [0.63971928],\n",
       "         [0.3526856 ],\n",
       "         [0.3526856 ],\n",
       "         [0.49461893],\n",
       "         [0.49461893],\n",
       "         [0.8160085 ],\n",
       "         [0.8160085 ],\n",
       "         [0.52346914],\n",
       "         [0.52346914],\n",
       "         [0.24866391],\n",
       "         [0.24866391],\n",
       "         [0.10873513],\n",
       "         [0.10873513],\n",
       "         [0.11357474],\n",
       "         [0.11357474],\n",
       "         [0.3129252 ],\n",
       "         [0.3129252 ],\n",
       "         [0.94485586],\n",
       "         [0.94485586],\n",
       "         [0.80805557],\n",
       "         [0.80805557],\n",
       "         [0.9715984 ],\n",
       "         [0.9715984 ],\n",
       "         [0.77855754],\n",
       "         [0.77855754],\n",
       "         [0.87537211],\n",
       "         [0.87537211],\n",
       "         [0.53344133],\n",
       "         [0.53344133],\n",
       "         [0.45513244],\n",
       "         [0.45513244],\n",
       "         [0.74175938],\n",
       "         [0.74175938],\n",
       "         [0.0186248 ],\n",
       "         [0.0186248 ],\n",
       "         [0.57121047],\n",
       "         [0.57121047],\n",
       "         [0.52227978],\n",
       "         [0.52227978],\n",
       "         [0.97708585],\n",
       "         [0.97708585],\n",
       "         [0.92593051],\n",
       "         [0.92593051],\n",
       "         [0.80667316],\n",
       "         [0.80667316],\n",
       "         [0.08168389],\n",
       "         [0.08168389],\n",
       "         [0.31822458],\n",
       "         [0.31822458],\n",
       "         [0.34685022],\n",
       "         [0.34685022],\n",
       "         [0.49747305],\n",
       "         [0.49747305],\n",
       "         [0.00254355],\n",
       "         [0.00254355],\n",
       "         [0.02557222],\n",
       "         [0.02557222],\n",
       "         [0.82011299],\n",
       "         [0.82011299],\n",
       "         [0.79019319],\n",
       "         [0.79019319],\n",
       "         [0.14904985],\n",
       "         [0.14904985],\n",
       "         [0.18887426],\n",
       "         [0.18887426],\n",
       "         [0.33862625],\n",
       "         [0.33862625],\n",
       "         [0.48458357],\n",
       "         [0.48458357],\n",
       "         [0.64293198],\n",
       "         [0.64293198],\n",
       "         [0.41248471],\n",
       "         [0.41248471],\n",
       "         [0.21951555],\n",
       "         [0.21951555],\n",
       "         [0.66727794],\n",
       "         [0.66727794],\n",
       "         [0.51094903],\n",
       "         [0.51094903],\n",
       "         [0.48995702],\n",
       "         [0.48995702],\n",
       "         [0.53481789],\n",
       "         [0.53481789],\n",
       "         [0.96078013],\n",
       "         [0.96078013],\n",
       "         [0.67966778],\n",
       "         [0.67966778],\n",
       "         [0.73113487],\n",
       "         [0.73113487],\n",
       "         [0.00361575],\n",
       "         [0.00361575]])}}"
      ]
     },
     "execution_count": 1,
     "metadata": {},
     "output_type": "execute_result"
    }
   ],
   "source": [
    "ds = load_by_id(run_id_a)\n",
    "ds.get_parameter_data('x1')"
   ]
  },
  {
   "cell_type": "code",
   "execution_count": null,
   "metadata": {},
   "outputs": [],
   "source": []
  }
 ],
 "metadata": {
  "kernelspec": {
   "display_name": "Python 3",
   "language": "python",
   "name": "python3"
  },
  "language_info": {
   "codemirror_mode": {
    "name": "ipython",
    "version": 3
   },
   "file_extension": ".py",
   "mimetype": "text/x-python",
   "name": "python",
   "nbconvert_exporter": "python",
   "pygments_lexer": "ipython3",
   "version": "3.7.10"
  },
  "nbsphinx": {
   "timeout": 600
  },
  "toc": {
   "base_numbering": 1,
   "nav_menu": {},
   "number_sections": true,
   "sideBar": true,
   "skip_h1_title": false,
   "title_cell": "Table of Contents",
   "title_sidebar": "Contents",
   "toc_cell": false,
   "toc_position": {},
   "toc_section_display": true,
   "toc_window_display": false
  },
  "varInspector": {
   "cols": {
    "lenName": 16,
    "lenType": 16,
    "lenVar": 40
   },
   "kernels_config": {
    "python": {
     "delete_cmd_postfix": "",
     "delete_cmd_prefix": "del ",
     "library": "var_list.py",
     "varRefreshCmd": "print(var_dic_list())"
    },
    "r": {
     "delete_cmd_postfix": ") ",
     "delete_cmd_prefix": "rm(",
     "library": "var_list.r",
     "varRefreshCmd": "cat(var_dic_list()) "
    }
   },
   "types_to_exclude": [
    "module",
    "function",
    "builtin_function_or_method",
    "instance",
    "_Feature"
   ],
   "window_display": false
  }
 },
 "nbformat": 4,
 "nbformat_minor": 4
}
