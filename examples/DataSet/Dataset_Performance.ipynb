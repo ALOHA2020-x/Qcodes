{
 "cells": [
  {
   "cell_type": "markdown",
   "metadata": {},
   "source": [
    "# DataSet Performance\n",
    "\n",
    "This notebook shows the trade-off between inserting data into a database row-by-row and as binary blobs. Inserting the data row-by-row means that we have direct access to all the data and may perform queries directly on the values of the data. On the other hand, as we shall see, this is much slower than inserting the data directly as binary blobs."
   ]
  },
  {
   "cell_type": "markdown",
   "metadata": {},
   "source": [
    "First, we choose a new location for the database to ensure that we don't add a bunch of benchmarking data to the default one."
   ]
  },
  {
   "cell_type": "code",
   "execution_count": 1,
   "metadata": {
    "execution": {
     "iopub.execute_input": "2020-12-28T17:05:56.386410Z",
     "iopub.status.busy": "2020-12-28T17:05:56.385840Z",
     "iopub.status.idle": "2020-12-28T17:05:57.440166Z",
     "shell.execute_reply": "2020-12-28T17:05:57.440680Z"
    }
   },
   "outputs": [
    {
     "name": "stdout",
     "output_type": "stream",
     "text": [
      "Logging hadn't been started.\n",
      "Activating auto-logging. Current session state plus future input saved.\n",
      "Filename       : /home/vsts/.qcodes/logs/command_history.log\n",
      "Mode           : append\n",
      "Output logging : True\n",
      "Raw input log  : False\n",
      "Timestamping   : True\n",
      "State          : active\n"
     ]
    },
    {
     "name": "stdout",
     "output_type": "stream",
     "text": [
      "Qcodes Logfile : /home/vsts/.qcodes/logs/201228-13201-qcodes.log\n"
     ]
    }
   ],
   "source": [
    "import os\n",
    "cwd = os.getcwd()\n",
    "import qcodes as qc\n",
    "qc.config[\"core\"][\"db_location\"] = os.path.join(cwd, 'testing.db')\n"
   ]
  },
  {
   "cell_type": "code",
   "execution_count": 2,
   "metadata": {
    "execution": {
     "iopub.execute_input": "2020-12-28T17:05:57.452303Z",
     "iopub.status.busy": "2020-12-28T17:05:57.450471Z",
     "iopub.status.idle": "2020-12-28T17:05:57.642925Z",
     "shell.execute_reply": "2020-12-28T17:05:57.642307Z"
    }
   },
   "outputs": [],
   "source": [
    "%matplotlib inline\n",
    "import time\n",
    "import matplotlib.pyplot as plt\n",
    "import numpy as np\n",
    "\n",
    "import qcodes as qc\n",
    "from qcodes.instrument.parameter import ManualParameter\n",
    "from qcodes.dataset.experiment_container import (Experiment,\n",
    "                                                 load_last_experiment,\n",
    "                                                 new_experiment)\n",
    "from qcodes.dataset.sqlite.database import initialise_database\n",
    "from qcodes import load_or_create_experiment\n",
    "from qcodes.dataset.measurements import Measurement"
   ]
  },
  {
   "cell_type": "code",
   "execution_count": 3,
   "metadata": {
    "execution": {
     "iopub.execute_input": "2020-12-28T17:05:57.646818Z",
     "iopub.status.busy": "2020-12-28T17:05:57.646287Z",
     "iopub.status.idle": "2020-12-28T17:05:57.749204Z",
     "shell.execute_reply": "2020-12-28T17:05:57.748236Z"
    }
   },
   "outputs": [
    {
     "name": "stdout",
     "output_type": "stream",
     "text": [
      "\r",
      "0it [00:00, ?it/s]"
     ]
    },
    {
     "name": "stdout",
     "output_type": "stream",
     "text": [
      "\r",
      "Upgrading database; v0 -> v1: : 0it [00:00, ?it/s]"
     ]
    },
    {
     "name": "stdout",
     "output_type": "stream",
     "text": [
      "\r",
      "Upgrading database; v0 -> v1: : 0it [00:00, ?it/s]"
     ]
    },
    {
     "name": "stdout",
     "output_type": "stream",
     "text": [
      "\n",
      "\r",
      "  0%|          | 0/1 [00:00<?, ?it/s]"
     ]
    },
    {
     "name": "stdout",
     "output_type": "stream",
     "text": [
      "\r",
      "Upgrading database; v1 -> v2:   0%|          | 0/1 [00:00<?, ?it/s]"
     ]
    },
    {
     "name": "stdout",
     "output_type": "stream",
     "text": [
      "\r",
      "Upgrading database; v1 -> v2: 100%|██████████| 1/1 [00:00<00:00, 562.69it/s]"
     ]
    },
    {
     "name": "stdout",
     "output_type": "stream",
     "text": [
      "\n",
      "\r",
      "0it [00:00, ?it/s]"
     ]
    },
    {
     "name": "stdout",
     "output_type": "stream",
     "text": [
      "\r",
      "Upgrading database; v2 -> v3: : 0it [00:00, ?it/s]"
     ]
    },
    {
     "name": "stdout",
     "output_type": "stream",
     "text": [
      "\r",
      "Upgrading database; v2 -> v3: : 0it [00:00, ?it/s]"
     ]
    },
    {
     "name": "stdout",
     "output_type": "stream",
     "text": [
      "\n",
      "\r",
      "0it [00:00, ?it/s]"
     ]
    },
    {
     "name": "stdout",
     "output_type": "stream",
     "text": [
      "\r",
      "Upgrading database; v3 -> v4: : 0it [00:00, ?it/s]"
     ]
    },
    {
     "name": "stdout",
     "output_type": "stream",
     "text": [
      "\r",
      "Upgrading database; v3 -> v4: : 0it [00:00, ?it/s]"
     ]
    },
    {
     "name": "stdout",
     "output_type": "stream",
     "text": [
      "\n",
      "\r",
      "  0%|          | 0/1 [00:00<?, ?it/s]"
     ]
    },
    {
     "name": "stdout",
     "output_type": "stream",
     "text": [
      "\r",
      "Upgrading database; v4 -> v5:   0%|          | 0/1 [00:00<?, ?it/s]"
     ]
    },
    {
     "name": "stdout",
     "output_type": "stream",
     "text": [
      "\r",
      "Upgrading database; v4 -> v5: 100%|██████████| 1/1 [00:00<00:00, 925.69it/s]"
     ]
    },
    {
     "name": "stdout",
     "output_type": "stream",
     "text": [
      "\n",
      "\r",
      "0it [00:00, ?it/s]"
     ]
    },
    {
     "name": "stdout",
     "output_type": "stream",
     "text": [
      "\r",
      "Upgrading database; v5 -> v6: : 0it [00:00, ?it/s]"
     ]
    },
    {
     "name": "stdout",
     "output_type": "stream",
     "text": [
      "\r",
      "Upgrading database; v5 -> v6: : 0it [00:00, ?it/s]"
     ]
    },
    {
     "name": "stdout",
     "output_type": "stream",
     "text": [
      "\n",
      "\r",
      "  0%|          | 0/1 [00:00<?, ?it/s]"
     ]
    },
    {
     "name": "stdout",
     "output_type": "stream",
     "text": [
      "\r",
      "Upgrading database; v6 -> v7:   0%|          | 0/1 [00:00<?, ?it/s]"
     ]
    },
    {
     "name": "stdout",
     "output_type": "stream",
     "text": [
      "\r",
      "Upgrading database; v6 -> v7: 100%|██████████| 1/1 [00:00<00:00, 400.03it/s]"
     ]
    },
    {
     "name": "stdout",
     "output_type": "stream",
     "text": [
      "\n",
      "\r",
      "  0%|          | 0/1 [00:00<?, ?it/s]"
     ]
    },
    {
     "name": "stdout",
     "output_type": "stream",
     "text": [
      "\r",
      "Upgrading database; v7 -> v8:   0%|          | 0/1 [00:00<?, ?it/s]"
     ]
    },
    {
     "name": "stdout",
     "output_type": "stream",
     "text": [
      "\r",
      "Upgrading database; v7 -> v8: 100%|██████████| 1/1 [00:00<00:00, 857.20it/s]"
     ]
    },
    {
     "name": "stdout",
     "output_type": "stream",
     "text": [
      "\n",
      "\r",
      "  0%|          | 0/1 [00:00<?, ?it/s]"
     ]
    },
    {
     "name": "stdout",
     "output_type": "stream",
     "text": [
      "\r",
      "Upgrading database; v8 -> v9:   0%|          | 0/1 [00:00<?, ?it/s]"
     ]
    },
    {
     "name": "stdout",
     "output_type": "stream",
     "text": [
      "\r",
      "Upgrading database; v8 -> v9: 100%|██████████| 1/1 [00:00<00:00, 882.08it/s]"
     ]
    },
    {
     "name": "stdout",
     "output_type": "stream",
     "text": [
      "\n"
     ]
    }
   ],
   "source": [
    "initialise_database()\n",
    "exp = load_or_create_experiment(experiment_name='tutorial_exp', sample_name=\"no sample\")"
   ]
  },
  {
   "cell_type": "markdown",
   "metadata": {},
   "source": [
    "Here, we define a simple function to benchmark the time it takes to insert n points with either numeric or array data type.\n",
    "We will compare both the time used to call ``add_result`` and the time used for the full measurement."
   ]
  },
  {
   "cell_type": "code",
   "execution_count": 4,
   "metadata": {
    "execution": {
     "iopub.execute_input": "2020-12-28T17:05:57.757467Z",
     "iopub.status.busy": "2020-12-28T17:05:57.756935Z",
     "iopub.status.idle": "2020-12-28T17:05:57.759957Z",
     "shell.execute_reply": "2020-12-28T17:05:57.760380Z"
    }
   },
   "outputs": [],
   "source": [
    "def insert_data(paramtype, npoints, nreps=1):\n",
    "\n",
    "    meas = Measurement(exp=exp)\n",
    "\n",
    "    x1 = ManualParameter('x1')\n",
    "    x2 = ManualParameter('x2')\n",
    "    x3 = ManualParameter('x3')\n",
    "    y1 = ManualParameter('y1')\n",
    "    y2 = ManualParameter('y2')\n",
    "\n",
    "    meas.register_parameter(x1, paramtype=paramtype)\n",
    "    meas.register_parameter(x2, paramtype=paramtype)\n",
    "    meas.register_parameter(x3, paramtype=paramtype)\n",
    "    meas.register_parameter(y1, setpoints=[x1, x2, x3],\n",
    "                            paramtype=paramtype)\n",
    "    meas.register_parameter(y2, setpoints=[x1, x2, x3],\n",
    "                            paramtype=paramtype)\n",
    "    start = time.perf_counter()\n",
    "    with meas.run() as datasaver:\n",
    "        start_adding = time.perf_counter()\n",
    "        for i in range(nreps):\n",
    "            datasaver.add_result((x1, np.random.rand(npoints)),\n",
    "                                 (x2, np.random.rand(npoints)),\n",
    "                                 (x3, np.random.rand(npoints)),\n",
    "                                 (y1, np.random.rand(npoints)),\n",
    "                                 (y2, np.random.rand(npoints)))\n",
    "        stop_adding = time.perf_counter()\n",
    "        run_id = datasaver.run_id\n",
    "    stop = time.perf_counter()\n",
    "    tot_time = stop - start\n",
    "    add_time = stop_adding - start_adding\n",
    "    return tot_time, add_time, run_id"
   ]
  },
  {
   "cell_type": "markdown",
   "metadata": {},
   "source": [
    "## Comparison between numeric/array data and binary blob"
   ]
  },
  {
   "cell_type": "markdown",
   "metadata": {},
   "source": [
    "### Case1: Short experiment time"
   ]
  },
  {
   "cell_type": "code",
   "execution_count": 5,
   "metadata": {
    "execution": {
     "iopub.execute_input": "2020-12-28T17:05:57.767102Z",
     "iopub.status.busy": "2020-12-28T17:05:57.766185Z",
     "iopub.status.idle": "2020-12-28T17:05:58.595285Z",
     "shell.execute_reply": "2020-12-28T17:05:58.594560Z"
    }
   },
   "outputs": [
    {
     "name": "stdout",
     "output_type": "stream",
     "text": [
      "Starting experimental run with id: 1. \n",
      "Starting experimental run with id: 2. \n",
      "Starting experimental run with id: 3. \n",
      "Starting experimental run with id: 4. \n",
      "Starting experimental run with id: 5. \n"
     ]
    },
    {
     "name": "stdout",
     "output_type": "stream",
     "text": [
      "Starting experimental run with id: 6. \n"
     ]
    },
    {
     "name": "stdout",
     "output_type": "stream",
     "text": [
      "Starting experimental run with id: 7. \n"
     ]
    },
    {
     "name": "stdout",
     "output_type": "stream",
     "text": [
      "Starting experimental run with id: 8. \n",
      "Starting experimental run with id: 9. \n"
     ]
    },
    {
     "name": "stdout",
     "output_type": "stream",
     "text": [
      "Starting experimental run with id: 10. \n",
      "Starting experimental run with id: 11. \n"
     ]
    },
    {
     "name": "stdout",
     "output_type": "stream",
     "text": [
      "Starting experimental run with id: 12. \n"
     ]
    },
    {
     "name": "stdout",
     "output_type": "stream",
     "text": [
      "Starting experimental run with id: 13. \n"
     ]
    },
    {
     "name": "stdout",
     "output_type": "stream",
     "text": [
      "Starting experimental run with id: 14. \n"
     ]
    }
   ],
   "source": [
    "sizes = [1,500,1000,2000,3000,4000,5000]\n",
    "t_numeric = []\n",
    "t_numeric_add = []\n",
    "t_array = []\n",
    "t_array_add = []\n",
    "for size in sizes:\n",
    "    tn, tna, run_id_n =  insert_data('numeric', size)\n",
    "    t_numeric.append(tn)\n",
    "    t_numeric_add.append(tna)\n",
    "\n",
    "    ta, taa, run_id_a =  insert_data('array', size)\n",
    "    t_array.append(ta)\n",
    "    t_array_add.append(taa)"
   ]
  },
  {
   "cell_type": "code",
   "execution_count": 6,
   "metadata": {
    "execution": {
     "iopub.execute_input": "2020-12-28T17:05:58.624940Z",
     "iopub.status.busy": "2020-12-28T17:05:58.603249Z",
     "iopub.status.idle": "2020-12-28T17:05:58.792458Z",
     "shell.execute_reply": "2020-12-28T17:05:58.792886Z"
    }
   },
   "outputs": [
    {
     "data": {
      "image/png": "[encoded data removed]",
      "text/plain": [
       "<Figure size 432x288 with 1 Axes>"
      ]
     },
     "metadata": {
      "needs_background": "light"
     },
     "output_type": "display_data"
    }
   ],
   "source": [
    "fig, ax = plt.subplots(1,1)\n",
    "ax.plot(sizes, t_numeric, 'o-', label='Inserting row-by-row')\n",
    "ax.plot(sizes, t_numeric_add, 'o-', label='Inserting row-by-row: add_result only')\n",
    "ax.plot(sizes, t_array, 'd-', label='Inserting as binary blob')\n",
    "ax.plot(sizes, t_array_add, 'd-', label='Inserting as binary blob: add_result only')\n",
    "ax.legend()\n",
    "ax.set_xlabel('Array length')\n",
    "ax.set_ylabel('Time (s)')\n",
    "fig.tight_layout()"
   ]
  },
  {
   "cell_type": "markdown",
   "metadata": {},
   "source": [
    "As shown in the latter figure, the time to setup and and close the experiment is approximately 0.4 sec. In case of small array sizes, the difference between inserting values of data as arrays and inserting them row-by-row is relatively unimportant. At larger array sizes, i.e. above 10000 points, the cost of writing data as individual datapoints starts to become important.\n"
   ]
  },
  {
   "cell_type": "markdown",
   "metadata": {},
   "source": [
    "### Case2: Long experiment time "
   ]
  },
  {
   "cell_type": "code",
   "execution_count": 7,
   "metadata": {
    "execution": {
     "iopub.execute_input": "2020-12-28T17:05:58.795471Z",
     "iopub.status.busy": "2020-12-28T17:05:58.794955Z",
     "iopub.status.idle": "2020-12-28T17:06:59.097951Z",
     "shell.execute_reply": "2020-12-28T17:06:59.097353Z"
    }
   },
   "outputs": [
    {
     "name": "stdout",
     "output_type": "stream",
     "text": [
      "Starting experimental run with id: 15. \n",
      "Starting experimental run with id: 16. \n",
      "Starting experimental run with id: 17. \n"
     ]
    },
    {
     "name": "stdout",
     "output_type": "stream",
     "text": [
      "Starting experimental run with id: 18. \n",
      "Starting experimental run with id: 19. \n"
     ]
    },
    {
     "name": "stdout",
     "output_type": "stream",
     "text": [
      "Starting experimental run with id: 20. \n"
     ]
    },
    {
     "name": "stdout",
     "output_type": "stream",
     "text": [
      "Starting experimental run with id: 21. \n"
     ]
    },
    {
     "name": "stdout",
     "output_type": "stream",
     "text": [
      "Starting experimental run with id: 22. \n"
     ]
    },
    {
     "name": "stdout",
     "output_type": "stream",
     "text": [
      "Starting experimental run with id: 23. \n"
     ]
    },
    {
     "name": "stdout",
     "output_type": "stream",
     "text": [
      "Starting experimental run with id: 24. \n"
     ]
    },
    {
     "name": "stdout",
     "output_type": "stream",
     "text": [
      "Starting experimental run with id: 25. \n"
     ]
    },
    {
     "name": "stdout",
     "output_type": "stream",
     "text": [
      "Starting experimental run with id: 26. \n"
     ]
    },
    {
     "name": "stdout",
     "output_type": "stream",
     "text": [
      "Starting experimental run with id: 27. \n"
     ]
    },
    {
     "name": "stdout",
     "output_type": "stream",
     "text": [
      "Starting experimental run with id: 28. \n"
     ]
    }
   ],
   "source": [
    "sizes = [1,500,1000,2000,3000,4000,5000]\n",
    "nreps = 100\n",
    "t_numeric = []\n",
    "t_numeric_add = []\n",
    "t_numeric_run_ids = []\n",
    "t_array = []\n",
    "t_array_add = []\n",
    "t_array_run_ids = []\n",
    "for size in sizes:\n",
    "    tn, tna, run_id_n =  insert_data('numeric', size, nreps=nreps)\n",
    "    t_numeric.append(tn)\n",
    "    t_numeric_add.append(tna)\n",
    "    t_numeric_run_ids.append(run_id_n)\n",
    "\n",
    "    ta, taa, run_id_a =  insert_data('array', size, nreps=nreps)\n",
    "    t_array.append(ta)\n",
    "    t_array_add.append(taa)\n",
    "    t_array_run_ids.append(run_id_a)"
   ]
  },
  {
   "cell_type": "code",
   "execution_count": 8,
   "metadata": {
    "execution": {
     "iopub.execute_input": "2020-12-28T17:06:59.128726Z",
     "iopub.status.busy": "2020-12-28T17:06:59.115991Z",
     "iopub.status.idle": "2020-12-28T17:06:59.301696Z",
     "shell.execute_reply": "2020-12-28T17:06:59.301201Z"
    },
    "scrolled": true
   },
   "outputs": [
    {
     "data": {
      "image/png": "[encoded data removed]",
      "text/plain": [
       "<Figure size 432x288 with 1 Axes>"
      ]
     },
     "metadata": {
      "needs_background": "light"
     },
     "output_type": "display_data"
    }
   ],
   "source": [
    "fig, ax = plt.subplots(1,1)\n",
    "ax.plot(sizes, t_numeric, 'o-', label='Inserting row-by-row')\n",
    "ax.plot(sizes, t_numeric_add, 'o-', label='Inserting row-by-row: add_result only')\n",
    "ax.plot(sizes, t_array, 'd-', label='Inserting as binary blob')\n",
    "ax.plot(sizes, t_array_add, 'd-', label='Inserting as binary blob: add_result only')\n",
    "ax.legend()\n",
    "ax.set_xlabel('Array length')\n",
    "ax.set_ylabel('Time (s)')\n",
    "fig.tight_layout()"
   ]
  },
  {
   "cell_type": "markdown",
   "metadata": {},
   "source": [
    "However, as we increase the length of the experiment, as seen here by repeating the insertion 100 times, we see a big difference between inserting values of the data row-by-row and inserting it as a binary blob."
   ]
  },
  {
   "cell_type": "markdown",
   "metadata": {},
   "source": [
    "## Loading the data "
   ]
  },
  {
   "cell_type": "code",
   "execution_count": 9,
   "metadata": {
    "execution": {
     "iopub.execute_input": "2020-12-28T17:06:59.305456Z",
     "iopub.status.busy": "2020-12-28T17:06:59.304940Z",
     "iopub.status.idle": "2020-12-28T17:06:59.309702Z",
     "shell.execute_reply": "2020-12-28T17:06:59.308756Z"
    }
   },
   "outputs": [],
   "source": [
    "from qcodes.dataset.data_set import load_by_id\n",
    "from qcodes.dataset.data_export import get_data_by_id"
   ]
  },
  {
   "cell_type": "markdown",
   "metadata": {},
   "source": [
    "As usual you can load the data by using the ``load_by_id`` function but you will notice that the different storage methods\n",
    "are reflected in shape of the data as it is retrieved. "
   ]
  },
  {
   "cell_type": "code",
   "execution_count": 10,
   "metadata": {
    "execution": {
     "iopub.execute_input": "2020-12-28T17:06:59.314056Z",
     "iopub.status.busy": "2020-12-28T17:06:59.313000Z",
     "iopub.status.idle": "2020-12-28T17:06:59.314688Z",
     "shell.execute_reply": "2020-12-28T17:06:59.315213Z"
    }
   },
   "outputs": [],
   "source": [
    "run_id_n = t_numeric_run_ids[0]\n",
    "run_id_a = t_array_run_ids[0]"
   ]
  },
  {
   "cell_type": "code",
   "execution_count": 11,
   "metadata": {
    "execution": {
     "iopub.execute_input": "2020-12-28T17:06:59.318424Z",
     "iopub.status.busy": "2020-12-28T17:06:59.317889Z",
     "iopub.status.idle": "2020-12-28T17:06:59.327226Z",
     "shell.execute_reply": "2020-12-28T17:06:59.327865Z"
    },
    "scrolled": true
   },
   "outputs": [
    {
     "data": {
      "text/plain": [
       "{'x1': {'x1': array([0.27171677, 0.27171677, 0.22150383, 0.22150383, 0.54215257,\n",
       "         0.54215257, 0.28291123, 0.28291123, 0.3739159 , 0.3739159 ,\n",
       "         0.81450406, 0.81450406, 0.74042545, 0.74042545, 0.8023787 ,\n",
       "         0.8023787 , 0.95820181, 0.95820181, 0.75511445, 0.75511445,\n",
       "         0.99071461, 0.99071461, 0.89587677, 0.89587677, 0.59728288,\n",
       "         0.59728288, 0.47258052, 0.47258052, 0.14134141, 0.14134141,\n",
       "         0.84116067, 0.84116067, 0.56993952, 0.56993952, 0.14595271,\n",
       "         0.14595271, 0.13779115, 0.13779115, 0.43131501, 0.43131501,\n",
       "         0.74438554, 0.74438554, 0.91757026, 0.91757026, 0.69372001,\n",
       "         0.69372001, 0.5385439 , 0.5385439 , 0.33649554, 0.33649554,\n",
       "         0.20752369, 0.20752369, 0.43282078, 0.43282078, 0.22749671,\n",
       "         0.22749671, 0.22430686, 0.22430686, 0.09728304, 0.09728304,\n",
       "         0.05607336, 0.05607336, 0.14279141, 0.14279141, 0.10644822,\n",
       "         0.10644822, 0.16462617, 0.16462617, 0.08648301, 0.08648301,\n",
       "         0.19310748, 0.19310748, 0.0990811 , 0.0990811 , 0.89539113,\n",
       "         0.89539113, 0.70604311, 0.70604311, 0.7943198 , 0.7943198 ,\n",
       "         0.87773059, 0.87773059, 0.31600281, 0.31600281, 0.10433114,\n",
       "         0.10433114, 0.35842761, 0.35842761, 0.95080461, 0.95080461,\n",
       "         0.391382  , 0.391382  , 0.29834172, 0.29834172, 0.45722884,\n",
       "         0.45722884, 0.01137465, 0.01137465, 0.03045106, 0.03045106,\n",
       "         0.35419116, 0.35419116, 0.51241995, 0.51241995, 0.26816194,\n",
       "         0.26816194, 0.86573478, 0.86573478, 0.35206653, 0.35206653,\n",
       "         0.58603769, 0.58603769, 0.53266183, 0.53266183, 0.72827349,\n",
       "         0.72827349, 0.33235301, 0.33235301, 0.22107881, 0.22107881,\n",
       "         0.73287353, 0.73287353, 0.13731451, 0.13731451, 0.64806882,\n",
       "         0.64806882, 0.67406086, 0.67406086, 0.84097909, 0.84097909,\n",
       "         0.51199673, 0.51199673, 0.41535997, 0.41535997, 0.89033812,\n",
       "         0.89033812, 0.45519247, 0.45519247, 0.42358382, 0.42358382,\n",
       "         0.8494649 , 0.8494649 , 0.99770657, 0.99770657, 0.77225534,\n",
       "         0.77225534, 0.28789378, 0.28789378, 0.53747026, 0.53747026,\n",
       "         0.0721169 , 0.0721169 , 0.51571593, 0.51571593, 0.09402397,\n",
       "         0.09402397, 0.37968955, 0.37968955, 0.39473011, 0.39473011,\n",
       "         0.40012714, 0.40012714, 0.31759596, 0.31759596, 0.66367323,\n",
       "         0.66367323, 0.17158636, 0.17158636, 0.97263932, 0.97263932,\n",
       "         0.40342025, 0.40342025, 0.23673776, 0.23673776, 0.23345073,\n",
       "         0.23345073, 0.31071733, 0.31071733, 0.76682118, 0.76682118,\n",
       "         0.34908593, 0.34908593, 0.47909713, 0.47909713, 0.13192782,\n",
       "         0.13192782, 0.38471346, 0.38471346, 0.83379439, 0.83379439,\n",
       "         0.85349388, 0.85349388, 0.76103917, 0.76103917, 0.18154658,\n",
       "         0.18154658, 0.96115168, 0.96115168, 0.3140258 , 0.3140258 ])}}"
      ]
     },
     "execution_count": 1,
     "metadata": {},
     "output_type": "execute_result"
    }
   ],
   "source": [
    "ds = load_by_id(run_id_n)\n",
    "ds.get_parameter_data('x1')"
   ]
  },
  {
   "cell_type": "markdown",
   "metadata": {},
   "source": [
    "And a dataset stored as binary arrays"
   ]
  },
  {
   "cell_type": "code",
   "execution_count": 12,
   "metadata": {
    "execution": {
     "iopub.execute_input": "2020-12-28T17:06:59.331500Z",
     "iopub.status.busy": "2020-12-28T17:06:59.330906Z",
     "iopub.status.idle": "2020-12-28T17:06:59.385009Z",
     "shell.execute_reply": "2020-12-28T17:06:59.385674Z"
    },
    "scrolled": true
   },
   "outputs": [
    {
     "data": {
      "text/plain": [
       "{'x1': {'x1': array([[0.32620277],\n",
       "         [0.32620277],\n",
       "         [0.31613397],\n",
       "         [0.31613397],\n",
       "         [0.66526686],\n",
       "         [0.66526686],\n",
       "         [0.54732582],\n",
       "         [0.54732582],\n",
       "         [0.91152047],\n",
       "         [0.91152047],\n",
       "         [0.62738371],\n",
       "         [0.62738371],\n",
       "         [0.52921291],\n",
       "         [0.52921291],\n",
       "         [0.64724348],\n",
       "         [0.64724348],\n",
       "         [0.12393645],\n",
       "         [0.12393645],\n",
       "         [0.41255199],\n",
       "         [0.41255199],\n",
       "         [0.42253172],\n",
       "         [0.42253172],\n",
       "         [0.07499502],\n",
       "         [0.07499502],\n",
       "         [0.12547324],\n",
       "         [0.12547324],\n",
       "         [0.29820026],\n",
       "         [0.29820026],\n",
       "         [0.28671776],\n",
       "         [0.28671776],\n",
       "         [0.87288237],\n",
       "         [0.87288237],\n",
       "         [0.38368693],\n",
       "         [0.38368693],\n",
       "         [0.51845021],\n",
       "         [0.51845021],\n",
       "         [0.78278741],\n",
       "         [0.78278741],\n",
       "         [0.378235  ],\n",
       "         [0.378235  ],\n",
       "         [0.35255082],\n",
       "         [0.35255082],\n",
       "         [0.1941773 ],\n",
       "         [0.1941773 ],\n",
       "         [0.56423269],\n",
       "         [0.56423269],\n",
       "         [0.13047541],\n",
       "         [0.13047541],\n",
       "         [0.28489756],\n",
       "         [0.28489756],\n",
       "         [0.50809276],\n",
       "         [0.50809276],\n",
       "         [0.44091762],\n",
       "         [0.44091762],\n",
       "         [0.39942146],\n",
       "         [0.39942146],\n",
       "         [0.72432737],\n",
       "         [0.72432737],\n",
       "         [0.63215658],\n",
       "         [0.63215658],\n",
       "         [0.2049146 ],\n",
       "         [0.2049146 ],\n",
       "         [0.86480001],\n",
       "         [0.86480001],\n",
       "         [0.40957601],\n",
       "         [0.40957601],\n",
       "         [0.62234069],\n",
       "         [0.62234069],\n",
       "         [0.19693476],\n",
       "         [0.19693476],\n",
       "         [0.30702053],\n",
       "         [0.30702053],\n",
       "         [0.55882168],\n",
       "         [0.55882168],\n",
       "         [0.78358732],\n",
       "         [0.78358732],\n",
       "         [0.50059575],\n",
       "         [0.50059575],\n",
       "         [0.97803083],\n",
       "         [0.97803083],\n",
       "         [0.0869579 ],\n",
       "         [0.0869579 ],\n",
       "         [0.23225397],\n",
       "         [0.23225397],\n",
       "         [0.33737027],\n",
       "         [0.33737027],\n",
       "         [0.03597412],\n",
       "         [0.03597412],\n",
       "         [0.23186927],\n",
       "         [0.23186927],\n",
       "         [0.88437717],\n",
       "         [0.88437717],\n",
       "         [0.45329893],\n",
       "         [0.45329893],\n",
       "         [0.86616749],\n",
       "         [0.86616749],\n",
       "         [0.9347325 ],\n",
       "         [0.9347325 ],\n",
       "         [0.55063081],\n",
       "         [0.55063081],\n",
       "         [0.25644073],\n",
       "         [0.25644073],\n",
       "         [0.64195226],\n",
       "         [0.64195226],\n",
       "         [0.94879916],\n",
       "         [0.94879916],\n",
       "         [0.68699708],\n",
       "         [0.68699708],\n",
       "         [0.71883967],\n",
       "         [0.71883967],\n",
       "         [0.00740296],\n",
       "         [0.00740296],\n",
       "         [0.67442859],\n",
       "         [0.67442859],\n",
       "         [0.44318871],\n",
       "         [0.44318871],\n",
       "         [0.85957635],\n",
       "         [0.85957635],\n",
       "         [0.10938211],\n",
       "         [0.10938211],\n",
       "         [0.18735821],\n",
       "         [0.18735821],\n",
       "         [0.99063523],\n",
       "         [0.99063523],\n",
       "         [0.68415825],\n",
       "         [0.68415825],\n",
       "         [0.10903097],\n",
       "         [0.10903097],\n",
       "         [0.77984297],\n",
       "         [0.77984297],\n",
       "         [0.65921347],\n",
       "         [0.65921347],\n",
       "         [0.16837438],\n",
       "         [0.16837438],\n",
       "         [0.18113019],\n",
       "         [0.18113019],\n",
       "         [0.04461489],\n",
       "         [0.04461489],\n",
       "         [0.26907914],\n",
       "         [0.26907914],\n",
       "         [0.604538  ],\n",
       "         [0.604538  ],\n",
       "         [0.43375852],\n",
       "         [0.43375852],\n",
       "         [0.39089338],\n",
       "         [0.39089338],\n",
       "         [0.45114504],\n",
       "         [0.45114504],\n",
       "         [0.68481911],\n",
       "         [0.68481911],\n",
       "         [0.73761436],\n",
       "         [0.73761436],\n",
       "         [0.57356623],\n",
       "         [0.57356623],\n",
       "         [0.39319346],\n",
       "         [0.39319346],\n",
       "         [0.24030038],\n",
       "         [0.24030038],\n",
       "         [0.85806849],\n",
       "         [0.85806849],\n",
       "         [0.52516315],\n",
       "         [0.52516315],\n",
       "         [0.71671708],\n",
       "         [0.71671708],\n",
       "         [0.1210786 ],\n",
       "         [0.1210786 ],\n",
       "         [0.60975751],\n",
       "         [0.60975751],\n",
       "         [0.11710372],\n",
       "         [0.11710372],\n",
       "         [0.76002866],\n",
       "         [0.76002866],\n",
       "         [0.9528175 ],\n",
       "         [0.9528175 ],\n",
       "         [0.08674628],\n",
       "         [0.08674628],\n",
       "         [0.65626522],\n",
       "         [0.65626522],\n",
       "         [0.23389983],\n",
       "         [0.23389983],\n",
       "         [0.10920965],\n",
       "         [0.10920965],\n",
       "         [0.03276139],\n",
       "         [0.03276139],\n",
       "         [0.62490581],\n",
       "         [0.62490581],\n",
       "         [0.22016321],\n",
       "         [0.22016321],\n",
       "         [0.44663716],\n",
       "         [0.44663716],\n",
       "         [0.89154734],\n",
       "         [0.89154734],\n",
       "         [0.41961336],\n",
       "         [0.41961336],\n",
       "         [0.47487809],\n",
       "         [0.47487809],\n",
       "         [0.99199217],\n",
       "         [0.99199217],\n",
       "         [0.76272559],\n",
       "         [0.76272559]])}}"
      ]
     },
     "execution_count": 1,
     "metadata": {},
     "output_type": "execute_result"
    }
   ],
   "source": [
    "ds = load_by_id(run_id_a)\n",
    "ds.get_parameter_data('x1')"
   ]
  },
  {
   "cell_type": "code",
   "execution_count": null,
   "metadata": {},
   "outputs": [],
   "source": []
  }
 ],
 "metadata": {
  "kernelspec": {
   "display_name": "Python 3",
   "language": "python",
   "name": "python3"
  },
  "language_info": {
   "codemirror_mode": {
    "name": "ipython",
    "version": 3
   },
   "file_extension": ".py",
   "mimetype": "text/x-python",
   "name": "python",
   "nbconvert_exporter": "python",
   "pygments_lexer": "ipython3",
   "version": "3.7.9"
  },
  "nbsphinx": {
   "timeout": 600
  },
  "toc": {
   "base_numbering": 1,
   "nav_menu": {},
   "number_sections": true,
   "sideBar": true,
   "skip_h1_title": false,
   "title_cell": "Table of Contents",
   "title_sidebar": "Contents",
   "toc_cell": false,
   "toc_position": {},
   "toc_section_display": true,
   "toc_window_display": false
  },
  "varInspector": {
   "cols": {
    "lenName": 16,
    "lenType": 16,
    "lenVar": 40
   },
   "kernels_config": {
    "python": {
     "delete_cmd_postfix": "",
     "delete_cmd_prefix": "del ",
     "library": "var_list.py",
     "varRefreshCmd": "print(var_dic_list())"
    },
    "r": {
     "delete_cmd_postfix": ") ",
     "delete_cmd_prefix": "rm(",
     "library": "var_list.r",
     "varRefreshCmd": "cat(var_dic_list()) "
    }
   },
   "types_to_exclude": [
    "module",
    "function",
    "builtin_function_or_method",
    "instance",
    "_Feature"
   ],
   "window_display": false
  }
 },
 "nbformat": 4,
 "nbformat_minor": 2
}
