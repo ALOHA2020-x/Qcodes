{
 "cells": [
  {
   "cell_type": "markdown",
   "metadata": {},
   "source": [
    "# DataSet Performance\n",
    "\n",
    "This notebook shows the trade-off between inserting data into a database row-by-row and as binary blobs. Inserting the data row-by-row means that we have direct access to all the data and may perform queries directly on the values of the data. On the other hand, as we shall see, this is much slower than inserting the data directly as binary blobs."
   ]
  },
  {
   "cell_type": "markdown",
   "metadata": {},
   "source": [
    "First, we choose a new location for the database to ensure that we don't add a bunch of benchmarking data to the default one."
   ]
  },
  {
   "cell_type": "code",
   "execution_count": 1,
   "metadata": {
    "execution": {
     "iopub.execute_input": "2020-09-11T10:00:19.482411Z",
     "iopub.status.busy": "2020-09-11T10:00:19.481883Z",
     "iopub.status.idle": "2020-09-11T10:00:20.496089Z",
     "shell.execute_reply": "2020-09-11T10:00:20.495590Z"
    }
   },
   "outputs": [
    {
     "name": "stdout",
     "output_type": "stream",
     "text": [
      "Logging hadn't been started.\n",
      "Activating auto-logging. Current session state plus future input saved.\n",
      "Filename       : /home/vsts/.qcodes/logs/command_history.log\n",
      "Mode           : append\n",
      "Output logging : True\n",
      "Raw input log  : False\n",
      "Timestamping   : True\n",
      "State          : active\n"
     ]
    },
    {
     "name": "stdout",
     "output_type": "stream",
     "text": [
      "Qcodes Logfile : /home/vsts/.qcodes/logs/200911-18207-qcodes.log\n"
     ]
    }
   ],
   "source": [
    "import os\n",
    "cwd = os.getcwd()\n",
    "import qcodes as qc\n",
    "qc.config[\"core\"][\"db_location\"] = os.path.join(cwd, 'testing.db')\n"
   ]
  },
  {
   "cell_type": "code",
   "execution_count": 2,
   "metadata": {
    "execution": {
     "iopub.execute_input": "2020-09-11T10:00:20.501911Z",
     "iopub.status.busy": "2020-09-11T10:00:20.500943Z",
     "iopub.status.idle": "2020-09-11T10:00:20.671330Z",
     "shell.execute_reply": "2020-09-11T10:00:20.670080Z"
    }
   },
   "outputs": [],
   "source": [
    "%matplotlib inline\n",
    "import time\n",
    "import matplotlib.pyplot as plt\n",
    "import numpy as np\n",
    "\n",
    "import qcodes as qc\n",
    "from qcodes.instrument.parameter import ManualParameter\n",
    "from qcodes.dataset.experiment_container import (Experiment,\n",
    "                                                 load_last_experiment,\n",
    "                                                 new_experiment)\n",
    "from qcodes.dataset.sqlite.database import initialise_database\n",
    "from qcodes import load_or_create_experiment\n",
    "from qcodes.dataset.measurements import Measurement"
   ]
  },
  {
   "cell_type": "code",
   "execution_count": 3,
   "metadata": {
    "execution": {
     "iopub.execute_input": "2020-09-11T10:00:20.676157Z",
     "iopub.status.busy": "2020-09-11T10:00:20.675196Z",
     "iopub.status.idle": "2020-09-11T10:00:20.743610Z",
     "shell.execute_reply": "2020-09-11T10:00:20.744314Z"
    }
   },
   "outputs": [
    {
     "name": "stdout",
     "output_type": "stream",
     "text": [
      "\r",
      "0it [00:00, ?it/s]"
     ]
    },
    {
     "name": "stdout",
     "output_type": "stream",
     "text": [
      "\r",
      "Upgrading database; v0 -> v1: : 0it [00:00, ?it/s]"
     ]
    },
    {
     "name": "stdout",
     "output_type": "stream",
     "text": [
      "\r",
      "Upgrading database; v0 -> v1: : 0it [00:00, ?it/s]"
     ]
    },
    {
     "name": "stdout",
     "output_type": "stream",
     "text": [
      "\n",
      "\r",
      "  0%|          | 0/1 [00:00<?, ?it/s]"
     ]
    },
    {
     "name": "stdout",
     "output_type": "stream",
     "text": [
      "\r",
      "Upgrading database; v1 -> v2:   0%|          | 0/1 [00:00<?, ?it/s]"
     ]
    },
    {
     "name": "stdout",
     "output_type": "stream",
     "text": [
      "\r",
      "Upgrading database; v1 -> v2: 100%|██████████| 1/1 [00:00<00:00, 390.24it/s]"
     ]
    },
    {
     "name": "stdout",
     "output_type": "stream",
     "text": [
      "\n",
      "\r",
      "0it [00:00, ?it/s]"
     ]
    },
    {
     "name": "stdout",
     "output_type": "stream",
     "text": [
      "\r",
      "Upgrading database; v2 -> v3: : 0it [00:00, ?it/s]"
     ]
    },
    {
     "name": "stdout",
     "output_type": "stream",
     "text": [
      "\r",
      "Upgrading database; v2 -> v3: : 0it [00:00, ?it/s]"
     ]
    },
    {
     "name": "stdout",
     "output_type": "stream",
     "text": [
      "\n",
      "\r",
      "0it [00:00, ?it/s]"
     ]
    },
    {
     "name": "stdout",
     "output_type": "stream",
     "text": [
      "\r",
      "Upgrading database; v3 -> v4: : 0it [00:00, ?it/s]"
     ]
    },
    {
     "name": "stdout",
     "output_type": "stream",
     "text": [
      "\r",
      "Upgrading database; v3 -> v4: : 0it [00:00, ?it/s]"
     ]
    },
    {
     "name": "stdout",
     "output_type": "stream",
     "text": [
      "\n",
      "\r",
      "  0%|          | 0/1 [00:00<?, ?it/s]"
     ]
    },
    {
     "name": "stdout",
     "output_type": "stream",
     "text": [
      "\r",
      "Upgrading database; v4 -> v5:   0%|          | 0/1 [00:00<?, ?it/s]"
     ]
    },
    {
     "name": "stdout",
     "output_type": "stream",
     "text": [
      "\r",
      "Upgrading database; v4 -> v5: 100%|██████████| 1/1 [00:00<00:00, 421.45it/s]"
     ]
    },
    {
     "name": "stdout",
     "output_type": "stream",
     "text": [
      "\n",
      "\r",
      "0it [00:00, ?it/s]"
     ]
    },
    {
     "name": "stdout",
     "output_type": "stream",
     "text": [
      "\r",
      "Upgrading database; v5 -> v6: : 0it [00:00, ?it/s]"
     ]
    },
    {
     "name": "stdout",
     "output_type": "stream",
     "text": [
      "\r",
      "Upgrading database; v5 -> v6: : 0it [00:00, ?it/s]"
     ]
    },
    {
     "name": "stdout",
     "output_type": "stream",
     "text": [
      "\n",
      "\r",
      "  0%|          | 0/1 [00:00<?, ?it/s]"
     ]
    },
    {
     "name": "stdout",
     "output_type": "stream",
     "text": [
      "\r",
      "Upgrading database; v6 -> v7:   0%|          | 0/1 [00:00<?, ?it/s]"
     ]
    },
    {
     "name": "stdout",
     "output_type": "stream",
     "text": [
      "\r",
      "Upgrading database; v6 -> v7: 100%|██████████| 1/1 [00:00<00:00, 383.95it/s]"
     ]
    },
    {
     "name": "stdout",
     "output_type": "stream",
     "text": [
      "\n",
      "\r",
      "  0%|          | 0/1 [00:00<?, ?it/s]"
     ]
    },
    {
     "name": "stdout",
     "output_type": "stream",
     "text": [
      "\r",
      "Upgrading database; v7 -> v8:   0%|          | 0/1 [00:00<?, ?it/s]"
     ]
    },
    {
     "name": "stdout",
     "output_type": "stream",
     "text": [
      "\r",
      "Upgrading database; v7 -> v8: 100%|██████████| 1/1 [00:00<00:00, 335.38it/s]"
     ]
    },
    {
     "name": "stdout",
     "output_type": "stream",
     "text": [
      "\n",
      "\r",
      "  0%|          | 0/1 [00:00<?, ?it/s]"
     ]
    },
    {
     "name": "stdout",
     "output_type": "stream",
     "text": [
      "\r",
      "Upgrading database; v8 -> v9:   0%|          | 0/1 [00:00<?, ?it/s]"
     ]
    },
    {
     "name": "stdout",
     "output_type": "stream",
     "text": [
      "\r",
      "Upgrading database; v8 -> v9: 100%|██████████| 1/1 [00:00<00:00, 660.21it/s]"
     ]
    },
    {
     "name": "stdout",
     "output_type": "stream",
     "text": [
      "\n"
     ]
    }
   ],
   "source": [
    "initialise_database()\n",
    "exp = load_or_create_experiment(experiment_name='tutorial_exp', sample_name=\"no sample\")"
   ]
  },
  {
   "cell_type": "markdown",
   "metadata": {},
   "source": [
    "Here, we define a simple function to benchmark the time it takes to insert n points with either numeric or array data type.\n",
    "We will compare both the time used to call ``add_result`` and the time used for the full measurement."
   ]
  },
  {
   "cell_type": "code",
   "execution_count": 4,
   "metadata": {
    "execution": {
     "iopub.execute_input": "2020-09-11T10:00:20.753328Z",
     "iopub.status.busy": "2020-09-11T10:00:20.752757Z",
     "iopub.status.idle": "2020-09-11T10:00:20.755753Z",
     "shell.execute_reply": "2020-09-11T10:00:20.756151Z"
    }
   },
   "outputs": [],
   "source": [
    "def insert_data(paramtype, npoints, nreps=1):\n",
    "\n",
    "    meas = Measurement(exp=exp)\n",
    "\n",
    "    x1 = ManualParameter('x1')\n",
    "    x2 = ManualParameter('x2')\n",
    "    x3 = ManualParameter('x3')\n",
    "    y1 = ManualParameter('y1')\n",
    "    y2 = ManualParameter('y2')\n",
    "\n",
    "    meas.register_parameter(x1, paramtype=paramtype)\n",
    "    meas.register_parameter(x2, paramtype=paramtype)\n",
    "    meas.register_parameter(x3, paramtype=paramtype)\n",
    "    meas.register_parameter(y1, setpoints=[x1, x2, x3],\n",
    "                            paramtype=paramtype)\n",
    "    meas.register_parameter(y2, setpoints=[x1, x2, x3],\n",
    "                            paramtype=paramtype)\n",
    "    start = time.perf_counter()\n",
    "    with meas.run() as datasaver:\n",
    "        start_adding = time.perf_counter()\n",
    "        for i in range(nreps):\n",
    "            datasaver.add_result((x1, np.random.rand(npoints)),\n",
    "                                 (x2, np.random.rand(npoints)),\n",
    "                                 (x3, np.random.rand(npoints)),\n",
    "                                 (y1, np.random.rand(npoints)),\n",
    "                                 (y2, np.random.rand(npoints)))\n",
    "        stop_adding = time.perf_counter()\n",
    "        run_id = datasaver.run_id\n",
    "    stop = time.perf_counter()\n",
    "    tot_time = stop - start\n",
    "    add_time = stop_adding - start_adding\n",
    "    return tot_time, add_time, run_id"
   ]
  },
  {
   "cell_type": "markdown",
   "metadata": {},
   "source": [
    "## Comparison between numeric/array data and binary blob"
   ]
  },
  {
   "cell_type": "markdown",
   "metadata": {},
   "source": [
    "### Case1: Short experiment time"
   ]
  },
  {
   "cell_type": "code",
   "execution_count": 5,
   "metadata": {
    "execution": {
     "iopub.execute_input": "2020-09-11T10:00:20.762446Z",
     "iopub.status.busy": "2020-09-11T10:00:20.761256Z",
     "iopub.status.idle": "2020-09-11T10:00:21.578280Z",
     "shell.execute_reply": "2020-09-11T10:00:21.577439Z"
    }
   },
   "outputs": [
    {
     "name": "stdout",
     "output_type": "stream",
     "text": [
      "Starting experimental run with id: 1. \n",
      "Starting experimental run with id: 2. \n",
      "Starting experimental run with id: 3. \n",
      "Starting experimental run with id: 4. \n"
     ]
    },
    {
     "name": "stdout",
     "output_type": "stream",
     "text": [
      "Starting experimental run with id: 5. \n"
     ]
    },
    {
     "name": "stdout",
     "output_type": "stream",
     "text": [
      "Starting experimental run with id: 6. \n",
      "Starting experimental run with id: 7. \n"
     ]
    },
    {
     "name": "stdout",
     "output_type": "stream",
     "text": [
      "Starting experimental run with id: 8. \n",
      "Starting experimental run with id: 9. \n"
     ]
    },
    {
     "name": "stdout",
     "output_type": "stream",
     "text": [
      "Starting experimental run with id: 10. \n",
      "Starting experimental run with id: 11. \n"
     ]
    },
    {
     "name": "stdout",
     "output_type": "stream",
     "text": [
      "Starting experimental run with id: 12. \n",
      "Starting experimental run with id: 13. \n"
     ]
    },
    {
     "name": "stdout",
     "output_type": "stream",
     "text": [
      "Starting experimental run with id: 14. \n"
     ]
    }
   ],
   "source": [
    "sizes = [1,500,1000,2000,3000,4000,5000]\n",
    "t_numeric = []\n",
    "t_numeric_add = []\n",
    "t_array = []\n",
    "t_array_add = []\n",
    "for size in sizes:\n",
    "    tn, tna, run_id_n =  insert_data('numeric', size)\n",
    "    t_numeric.append(tn)\n",
    "    t_numeric_add.append(tna)\n",
    "\n",
    "    ta, taa, run_id_a =  insert_data('array', size)\n",
    "    t_array.append(ta)\n",
    "    t_array_add.append(taa)"
   ]
  },
  {
   "cell_type": "code",
   "execution_count": 6,
   "metadata": {
    "execution": {
     "iopub.execute_input": "2020-09-11T10:00:21.583767Z",
     "iopub.status.busy": "2020-09-11T10:00:21.583007Z",
     "iopub.status.idle": "2020-09-11T10:00:21.780683Z",
     "shell.execute_reply": "2020-09-11T10:00:21.779294Z"
    }
   },
   "outputs": [
    {
     "data": {
      "image/png": "[encoded data removed]",
      "text/plain": [
       "<Figure size 432x288 with 1 Axes>"
      ]
     },
     "metadata": {
      "needs_background": "light"
     },
     "output_type": "display_data"
    }
   ],
   "source": [
    "fig, ax = plt.subplots(1,1)\n",
    "ax.plot(sizes, t_numeric, 'o-', label='Inserting row-by-row')\n",
    "ax.plot(sizes, t_numeric_add, 'o-', label='Inserting row-by-row: add_result only')\n",
    "ax.plot(sizes, t_array, 'd-', label='Inserting as binary blob')\n",
    "ax.plot(sizes, t_array_add, 'd-', label='Inserting as binary blob: add_result only')\n",
    "ax.legend()\n",
    "ax.set_xlabel('Array length')\n",
    "ax.set_ylabel('Time (s)')\n",
    "fig.tight_layout()"
   ]
  },
  {
   "cell_type": "markdown",
   "metadata": {},
   "source": [
    "As shown in the latter figure, the time to setup and and close the experiment is approximately 0.4 sec. In case of small array sizes, the difference between inserting values of data as arrays and inserting them row-by-row is relatively unimportant. At larger array sizes, i.e. above 10000 points, the cost of writing data as individual datapoints starts to become important.\n"
   ]
  },
  {
   "cell_type": "markdown",
   "metadata": {},
   "source": [
    "### Case2: Long experiment time "
   ]
  },
  {
   "cell_type": "code",
   "execution_count": 7,
   "metadata": {
    "execution": {
     "iopub.execute_input": "2020-09-11T10:00:21.787086Z",
     "iopub.status.busy": "2020-09-11T10:00:21.786557Z",
     "iopub.status.idle": "2020-09-11T10:01:19.478794Z",
     "shell.execute_reply": "2020-09-11T10:01:19.478182Z"
    }
   },
   "outputs": [
    {
     "name": "stdout",
     "output_type": "stream",
     "text": [
      "Starting experimental run with id: 15. \n",
      "Starting experimental run with id: 16. \n",
      "Starting experimental run with id: 17. \n"
     ]
    },
    {
     "name": "stdout",
     "output_type": "stream",
     "text": [
      "Starting experimental run with id: 18. \n",
      "Starting experimental run with id: 19. \n"
     ]
    },
    {
     "name": "stdout",
     "output_type": "stream",
     "text": [
      "Starting experimental run with id: 20. \n"
     ]
    },
    {
     "name": "stdout",
     "output_type": "stream",
     "text": [
      "Starting experimental run with id: 21. \n"
     ]
    },
    {
     "name": "stdout",
     "output_type": "stream",
     "text": [
      "Starting experimental run with id: 22. \n"
     ]
    },
    {
     "name": "stdout",
     "output_type": "stream",
     "text": [
      "Starting experimental run with id: 23. \n"
     ]
    },
    {
     "name": "stdout",
     "output_type": "stream",
     "text": [
      "Starting experimental run with id: 24. \n"
     ]
    },
    {
     "name": "stdout",
     "output_type": "stream",
     "text": [
      "Starting experimental run with id: 25. \n"
     ]
    },
    {
     "name": "stdout",
     "output_type": "stream",
     "text": [
      "Starting experimental run with id: 26. \n"
     ]
    },
    {
     "name": "stdout",
     "output_type": "stream",
     "text": [
      "Starting experimental run with id: 27. \n"
     ]
    },
    {
     "name": "stdout",
     "output_type": "stream",
     "text": [
      "Starting experimental run with id: 28. \n"
     ]
    }
   ],
   "source": [
    "sizes = [1,500,1000,2000,3000,4000,5000]\n",
    "nreps = 100\n",
    "t_numeric = []\n",
    "t_numeric_add = []\n",
    "t_numeric_run_ids = []\n",
    "t_array = []\n",
    "t_array_add = []\n",
    "t_array_run_ids = []\n",
    "for size in sizes:\n",
    "    tn, tna, run_id_n =  insert_data('numeric', size, nreps=nreps)\n",
    "    t_numeric.append(tn)\n",
    "    t_numeric_add.append(tna)\n",
    "    t_numeric_run_ids.append(run_id_n)\n",
    "\n",
    "    ta, taa, run_id_a =  insert_data('array', size, nreps=nreps)\n",
    "    t_array.append(ta)\n",
    "    t_array_add.append(taa)\n",
    "    t_array_run_ids.append(run_id_a)"
   ]
  },
  {
   "cell_type": "code",
   "execution_count": 8,
   "metadata": {
    "execution": {
     "iopub.execute_input": "2020-09-11T10:01:19.489969Z",
     "iopub.status.busy": "2020-09-11T10:01:19.483746Z",
     "iopub.status.idle": "2020-09-11T10:01:19.681039Z",
     "shell.execute_reply": "2020-09-11T10:01:19.680295Z"
    },
    "scrolled": true
   },
   "outputs": [
    {
     "data": {
      "image/png": "[encoded data removed]",
      "text/plain": [
       "<Figure size 432x288 with 1 Axes>"
      ]
     },
     "metadata": {
      "needs_background": "light"
     },
     "output_type": "display_data"
    }
   ],
   "source": [
    "fig, ax = plt.subplots(1,1)\n",
    "ax.plot(sizes, t_numeric, 'o-', label='Inserting row-by-row')\n",
    "ax.plot(sizes, t_numeric_add, 'o-', label='Inserting row-by-row: add_result only')\n",
    "ax.plot(sizes, t_array, 'd-', label='Inserting as binary blob')\n",
    "ax.plot(sizes, t_array_add, 'd-', label='Inserting as binary blob: add_result only')\n",
    "ax.legend()\n",
    "ax.set_xlabel('Array length')\n",
    "ax.set_ylabel('Time (s)')\n",
    "fig.tight_layout()"
   ]
  },
  {
   "cell_type": "markdown",
   "metadata": {},
   "source": [
    "However, as we increase the length of the experiment, as seen here by repeating the insertion 100 times, we see a big difference between inserting values of the data row-by-row and inserting it as a binary blob."
   ]
  },
  {
   "cell_type": "markdown",
   "metadata": {},
   "source": [
    "## Loading the data "
   ]
  },
  {
   "cell_type": "code",
   "execution_count": 9,
   "metadata": {
    "execution": {
     "iopub.execute_input": "2020-09-11T10:01:19.685025Z",
     "iopub.status.busy": "2020-09-11T10:01:19.684102Z",
     "iopub.status.idle": "2020-09-11T10:01:19.687151Z",
     "shell.execute_reply": "2020-09-11T10:01:19.686691Z"
    }
   },
   "outputs": [],
   "source": [
    "from qcodes.dataset.data_set import load_by_id\n",
    "from qcodes.dataset.data_export import get_data_by_id"
   ]
  },
  {
   "cell_type": "markdown",
   "metadata": {},
   "source": [
    "As usual you can load the data by using the ``load_by_id`` function but you will notice that the different storage methods\n",
    "are reflected in shape of the data as it is retrieved. "
   ]
  },
  {
   "cell_type": "code",
   "execution_count": 10,
   "metadata": {
    "execution": {
     "iopub.execute_input": "2020-09-11T10:01:19.691635Z",
     "iopub.status.busy": "2020-09-11T10:01:19.690559Z",
     "iopub.status.idle": "2020-09-11T10:01:19.692224Z",
     "shell.execute_reply": "2020-09-11T10:01:19.692674Z"
    }
   },
   "outputs": [],
   "source": [
    "run_id_n = t_numeric_run_ids[0]\n",
    "run_id_a = t_array_run_ids[0]"
   ]
  },
  {
   "cell_type": "code",
   "execution_count": 11,
   "metadata": {
    "execution": {
     "iopub.execute_input": "2020-09-11T10:01:19.695733Z",
     "iopub.status.busy": "2020-09-11T10:01:19.695231Z",
     "iopub.status.idle": "2020-09-11T10:01:19.704272Z",
     "shell.execute_reply": "2020-09-11T10:01:19.703733Z"
    },
    "scrolled": true
   },
   "outputs": [
    {
     "data": {
      "text/plain": [
       "{'x1': {'x1': array([0.83331519, 0.83331519, 0.48654975, 0.48654975, 0.68516231,\n",
       "         0.68516231, 0.98117156, 0.98117156, 0.26851513, 0.26851513,\n",
       "         0.1235681 , 0.1235681 , 0.36965531, 0.36965531, 0.20835894,\n",
       "         0.20835894, 0.81974592, 0.81974592, 0.01092682, 0.01092682,\n",
       "         0.0619059 , 0.0619059 , 0.44745112, 0.44745112, 0.07057193,\n",
       "         0.07057193, 0.47075165, 0.47075165, 0.89572517, 0.89572517,\n",
       "         0.03817463, 0.03817463, 0.15181058, 0.15181058, 0.32908986,\n",
       "         0.32908986, 0.29611726, 0.29611726, 0.63648384, 0.63648384,\n",
       "         0.81547664, 0.81547664, 0.44363364, 0.44363364, 0.48653606,\n",
       "         0.48653606, 0.11168932, 0.11168932, 0.32758108, 0.32758108,\n",
       "         0.43942587, 0.43942587, 0.00266275, 0.00266275, 0.20447407,\n",
       "         0.20447407, 0.18071782, 0.18071782, 0.55923117, 0.55923117,\n",
       "         0.3616027 , 0.3616027 , 0.29888665, 0.29888665, 0.06192332,\n",
       "         0.06192332, 0.17970826, 0.17970826, 0.71777928, 0.71777928,\n",
       "         0.11135282, 0.11135282, 0.3557128 , 0.3557128 , 0.59174644,\n",
       "         0.59174644, 0.20980088, 0.20980088, 0.8539352 , 0.8539352 ,\n",
       "         0.23314221, 0.23314221, 0.68742529, 0.68742529, 0.30035718,\n",
       "         0.30035718, 0.4109112 , 0.4109112 , 0.64204969, 0.64204969,\n",
       "         0.4645712 , 0.4645712 , 0.3360428 , 0.3360428 , 0.45697734,\n",
       "         0.45697734, 0.05701295, 0.05701295, 0.02714027, 0.02714027,\n",
       "         0.21648068, 0.21648068, 0.02342572, 0.02342572, 0.3432691 ,\n",
       "         0.3432691 , 0.75842968, 0.75842968, 0.61962642, 0.61962642,\n",
       "         0.36920734, 0.36920734, 0.65840363, 0.65840363, 0.84851625,\n",
       "         0.84851625, 0.87384635, 0.87384635, 0.95869292, 0.95869292,\n",
       "         0.34434413, 0.34434413, 0.4422487 , 0.4422487 , 0.31013708,\n",
       "         0.31013708, 0.72703617, 0.72703617, 0.20030409, 0.20030409,\n",
       "         0.73098007, 0.73098007, 0.22865787, 0.22865787, 0.92782559,\n",
       "         0.92782559, 0.74607353, 0.74607353, 0.47233843, 0.47233843,\n",
       "         0.69981295, 0.69981295, 0.83387617, 0.83387617, 0.78717439,\n",
       "         0.78717439, 0.99443291, 0.99443291, 0.91107661, 0.91107661,\n",
       "         0.5620835 , 0.5620835 , 0.31799853, 0.31799853, 0.12121646,\n",
       "         0.12121646, 0.53582792, 0.53582792, 0.22907171, 0.22907171,\n",
       "         0.91976206, 0.91976206, 0.78754592, 0.78754592, 0.56863712,\n",
       "         0.56863712, 0.80723707, 0.80723707, 0.39476826, 0.39476826,\n",
       "         0.68107929, 0.68107929, 0.2213836 , 0.2213836 , 0.5817063 ,\n",
       "         0.5817063 , 0.82014446, 0.82014446, 0.04276143, 0.04276143,\n",
       "         0.16498484, 0.16498484, 0.85693966, 0.85693966, 0.31679946,\n",
       "         0.31679946, 0.69001206, 0.69001206, 0.66529698, 0.66529698,\n",
       "         0.19464909, 0.19464909, 0.46317998, 0.46317998, 0.87623154,\n",
       "         0.87623154, 0.1376738 , 0.1376738 , 0.67795646, 0.67795646])}}"
      ]
     },
     "execution_count": 11,
     "metadata": {},
     "output_type": "execute_result"
    }
   ],
   "source": [
    "ds = load_by_id(run_id_n)\n",
    "ds.get_parameter_data('x1')"
   ]
  },
  {
   "cell_type": "markdown",
   "metadata": {},
   "source": [
    "And a dataset stored as binary arrays"
   ]
  },
  {
   "cell_type": "code",
   "execution_count": 12,
   "metadata": {
    "execution": {
     "iopub.execute_input": "2020-09-11T10:01:19.707194Z",
     "iopub.status.busy": "2020-09-11T10:01:19.706675Z",
     "iopub.status.idle": "2020-09-11T10:01:19.761576Z",
     "shell.execute_reply": "2020-09-11T10:01:19.762015Z"
    },
    "scrolled": true
   },
   "outputs": [
    {
     "data": {
      "text/plain": [
       "{'x1': {'x1': array([[0.75165632],\n",
       "         [0.75165632],\n",
       "         [0.87300123],\n",
       "         [0.87300123],\n",
       "         [0.76743399],\n",
       "         [0.76743399],\n",
       "         [0.46622999],\n",
       "         [0.46622999],\n",
       "         [0.36588173],\n",
       "         [0.36588173],\n",
       "         [0.86177954],\n",
       "         [0.86177954],\n",
       "         [0.7107067 ],\n",
       "         [0.7107067 ],\n",
       "         [0.36783945],\n",
       "         [0.36783945],\n",
       "         [0.91529079],\n",
       "         [0.91529079],\n",
       "         [0.97513701],\n",
       "         [0.97513701],\n",
       "         [0.21072623],\n",
       "         [0.21072623],\n",
       "         [0.06063954],\n",
       "         [0.06063954],\n",
       "         [0.39878844],\n",
       "         [0.39878844],\n",
       "         [0.26894467],\n",
       "         [0.26894467],\n",
       "         [0.03667524],\n",
       "         [0.03667524],\n",
       "         [0.00879594],\n",
       "         [0.00879594],\n",
       "         [0.73632958],\n",
       "         [0.73632958],\n",
       "         [0.83290517],\n",
       "         [0.83290517],\n",
       "         [0.30063308],\n",
       "         [0.30063308],\n",
       "         [0.33600483],\n",
       "         [0.33600483],\n",
       "         [0.11626368],\n",
       "         [0.11626368],\n",
       "         [0.71141588],\n",
       "         [0.71141588],\n",
       "         [0.13546411],\n",
       "         [0.13546411],\n",
       "         [0.12700867],\n",
       "         [0.12700867],\n",
       "         [0.7398978 ],\n",
       "         [0.7398978 ],\n",
       "         [0.75870301],\n",
       "         [0.75870301],\n",
       "         [0.4300597 ],\n",
       "         [0.4300597 ],\n",
       "         [0.78233032],\n",
       "         [0.78233032],\n",
       "         [0.68523481],\n",
       "         [0.68523481],\n",
       "         [0.85728506],\n",
       "         [0.85728506],\n",
       "         [0.02153626],\n",
       "         [0.02153626],\n",
       "         [0.65534862],\n",
       "         [0.65534862],\n",
       "         [0.71718169],\n",
       "         [0.71718169],\n",
       "         [0.86033672],\n",
       "         [0.86033672],\n",
       "         [0.87624361],\n",
       "         [0.87624361],\n",
       "         [0.2891804 ],\n",
       "         [0.2891804 ],\n",
       "         [0.28923308],\n",
       "         [0.28923308],\n",
       "         [0.32265374],\n",
       "         [0.32265374],\n",
       "         [0.27145265],\n",
       "         [0.27145265],\n",
       "         [0.50557729],\n",
       "         [0.50557729],\n",
       "         [0.45955992],\n",
       "         [0.45955992],\n",
       "         [0.15592786],\n",
       "         [0.15592786],\n",
       "         [0.44783859],\n",
       "         [0.44783859],\n",
       "         [0.37611254],\n",
       "         [0.37611254],\n",
       "         [0.396044  ],\n",
       "         [0.396044  ],\n",
       "         [0.26854804],\n",
       "         [0.26854804],\n",
       "         [0.09420935],\n",
       "         [0.09420935],\n",
       "         [0.30626764],\n",
       "         [0.30626764],\n",
       "         [0.62375505],\n",
       "         [0.62375505],\n",
       "         [0.53349179],\n",
       "         [0.53349179],\n",
       "         [0.23781018],\n",
       "         [0.23781018],\n",
       "         [0.32145896],\n",
       "         [0.32145896],\n",
       "         [0.24812646],\n",
       "         [0.24812646],\n",
       "         [0.05162914],\n",
       "         [0.05162914],\n",
       "         [0.16847054],\n",
       "         [0.16847054],\n",
       "         [0.43269573],\n",
       "         [0.43269573],\n",
       "         [0.54267523],\n",
       "         [0.54267523],\n",
       "         [0.94055733],\n",
       "         [0.94055733],\n",
       "         [0.59867556],\n",
       "         [0.59867556],\n",
       "         [0.39197227],\n",
       "         [0.39197227],\n",
       "         [0.85866555],\n",
       "         [0.85866555],\n",
       "         [0.9094083 ],\n",
       "         [0.9094083 ],\n",
       "         [0.70282381],\n",
       "         [0.70282381],\n",
       "         [0.64041992],\n",
       "         [0.64041992],\n",
       "         [0.69201502],\n",
       "         [0.69201502],\n",
       "         [0.45373898],\n",
       "         [0.45373898],\n",
       "         [0.75173884],\n",
       "         [0.75173884],\n",
       "         [0.03792349],\n",
       "         [0.03792349],\n",
       "         [0.13417555],\n",
       "         [0.13417555],\n",
       "         [0.27173952],\n",
       "         [0.27173952],\n",
       "         [0.50810862],\n",
       "         [0.50810862],\n",
       "         [0.5919535 ],\n",
       "         [0.5919535 ],\n",
       "         [0.26952962],\n",
       "         [0.26952962],\n",
       "         [0.28106471],\n",
       "         [0.28106471],\n",
       "         [0.47556202],\n",
       "         [0.47556202],\n",
       "         [0.91617081],\n",
       "         [0.91617081],\n",
       "         [0.07247347],\n",
       "         [0.07247347],\n",
       "         [0.11769776],\n",
       "         [0.11769776],\n",
       "         [0.82748966],\n",
       "         [0.82748966],\n",
       "         [0.29556211],\n",
       "         [0.29556211],\n",
       "         [0.70666961],\n",
       "         [0.70666961],\n",
       "         [0.8682016 ],\n",
       "         [0.8682016 ],\n",
       "         [0.32126089],\n",
       "         [0.32126089],\n",
       "         [0.6326167 ],\n",
       "         [0.6326167 ],\n",
       "         [0.75869595],\n",
       "         [0.75869595],\n",
       "         [0.52762847],\n",
       "         [0.52762847],\n",
       "         [0.58987679],\n",
       "         [0.58987679],\n",
       "         [0.62815869],\n",
       "         [0.62815869],\n",
       "         [0.09945817],\n",
       "         [0.09945817],\n",
       "         [0.75260251],\n",
       "         [0.75260251],\n",
       "         [0.71603014],\n",
       "         [0.71603014],\n",
       "         [0.83721026],\n",
       "         [0.83721026],\n",
       "         [0.90791707],\n",
       "         [0.90791707],\n",
       "         [0.02993019],\n",
       "         [0.02993019],\n",
       "         [0.29747628],\n",
       "         [0.29747628],\n",
       "         [0.82647794],\n",
       "         [0.82647794],\n",
       "         [0.810315  ],\n",
       "         [0.810315  ],\n",
       "         [0.33071252],\n",
       "         [0.33071252],\n",
       "         [0.29484411],\n",
       "         [0.29484411],\n",
       "         [0.96699288],\n",
       "         [0.96699288]])}}"
      ]
     },
     "execution_count": 12,
     "metadata": {},
     "output_type": "execute_result"
    }
   ],
   "source": [
    "ds = load_by_id(run_id_a)\n",
    "ds.get_parameter_data('x1')"
   ]
  },
  {
   "cell_type": "code",
   "execution_count": null,
   "metadata": {},
   "outputs": [],
   "source": []
  }
 ],
 "metadata": {
  "kernelspec": {
   "display_name": "Python 3",
   "language": "python",
   "name": "python3"
  },
  "language_info": {
   "codemirror_mode": {
    "name": "ipython",
    "version": 3
   },
   "file_extension": ".py",
   "mimetype": "text/x-python",
   "name": "python",
   "nbconvert_exporter": "python",
   "pygments_lexer": "ipython3",
   "version": "3.7.7"
  },
  "nbsphinx": {
   "timeout": 600
  },
  "toc": {
   "base_numbering": 1,
   "nav_menu": {},
   "number_sections": true,
   "sideBar": true,
   "skip_h1_title": false,
   "title_cell": "Table of Contents",
   "title_sidebar": "Contents",
   "toc_cell": false,
   "toc_position": {},
   "toc_section_display": true,
   "toc_window_display": false
  },
  "varInspector": {
   "cols": {
    "lenName": 16,
    "lenType": 16,
    "lenVar": 40
   },
   "kernels_config": {
    "python": {
     "delete_cmd_postfix": "",
     "delete_cmd_prefix": "del ",
     "library": "var_list.py",
     "varRefreshCmd": "print(var_dic_list())"
    },
    "r": {
     "delete_cmd_postfix": ") ",
     "delete_cmd_prefix": "rm(",
     "library": "var_list.r",
     "varRefreshCmd": "cat(var_dic_list()) "
    }
   },
   "types_to_exclude": [
    "module",
    "function",
    "builtin_function_or_method",
    "instance",
    "_Feature"
   ],
   "window_display": false
  }
 },
 "nbformat": 4,
 "nbformat_minor": 2
}
