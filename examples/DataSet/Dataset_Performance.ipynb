{
 "cells": [
  {
   "cell_type": "markdown",
   "metadata": {},
   "source": [
    "# DataSet Performance\n",
    "\n",
    "This notebook shows the trade-off between inserting data into a database row-by-row and as binary blobs. Inserting the data row-by-row means that we have direct access to all the data and may perform queries directly on the values of the data. On the other hand, as we shall see, this is much slower than inserting the data directly as binary blobs."
   ]
  },
  {
   "cell_type": "markdown",
   "metadata": {},
   "source": [
    "First, we choose a new location for the database to ensure that we don't add a bunch of benchmarking data to the default one."
   ]
  },
  {
   "cell_type": "code",
   "execution_count": 1,
   "metadata": {
    "execution": {
     "iopub.execute_input": "2021-02-20T12:24:00.067723Z",
     "iopub.status.busy": "2021-02-20T12:24:00.067084Z",
     "iopub.status.idle": "2021-02-20T12:24:01.114062Z",
     "shell.execute_reply": "2021-02-20T12:24:01.113455Z"
    }
   },
   "outputs": [
    {
     "name": "stdout",
     "output_type": "stream",
     "text": [
      "Logging hadn't been started.\n",
      "Activating auto-logging. Current session state plus future input saved.\n",
      "Filename       : /home/runner/.qcodes/logs/command_history.log\n",
      "Mode           : append\n",
      "Output logging : True\n",
      "Raw input log  : False\n",
      "Timestamping   : True\n",
      "State          : active\n"
     ]
    },
    {
     "name": "stdout",
     "output_type": "stream",
     "text": [
      "Qcodes Logfile : /home/runner/.qcodes/logs/210220-4025-qcodes.log\n"
     ]
    }
   ],
   "source": [
    "import os\n",
    "cwd = os.getcwd()\n",
    "import qcodes as qc\n",
    "qc.config[\"core\"][\"db_location\"] = os.path.join(cwd, 'testing.db')\n"
   ]
  },
  {
   "cell_type": "code",
   "execution_count": 2,
   "metadata": {
    "execution": {
     "iopub.execute_input": "2021-02-20T12:24:01.121680Z",
     "iopub.status.busy": "2021-02-20T12:24:01.120686Z",
     "iopub.status.idle": "2021-02-20T12:24:01.362704Z",
     "shell.execute_reply": "2021-02-20T12:24:01.363332Z"
    }
   },
   "outputs": [],
   "source": [
    "%matplotlib inline\n",
    "import time\n",
    "import matplotlib.pyplot as plt\n",
    "import numpy as np\n",
    "\n",
    "import qcodes as qc\n",
    "from qcodes.instrument.parameter import ManualParameter\n",
    "from qcodes.dataset.experiment_container import (Experiment,\n",
    "                                                 load_last_experiment,\n",
    "                                                 new_experiment)\n",
    "from qcodes.dataset.sqlite.database import initialise_database\n",
    "from qcodes import load_or_create_experiment\n",
    "from qcodes.dataset.measurements import Measurement"
   ]
  },
  {
   "cell_type": "code",
   "execution_count": 3,
   "metadata": {
    "execution": {
     "iopub.execute_input": "2021-02-20T12:24:01.367790Z",
     "iopub.status.busy": "2021-02-20T12:24:01.367204Z",
     "iopub.status.idle": "2021-02-20T12:24:01.676884Z",
     "shell.execute_reply": "2021-02-20T12:24:01.677632Z"
    }
   },
   "outputs": [
    {
     "name": "stdout",
     "output_type": "stream",
     "text": [
      "\r",
      "0it [00:00, ?it/s]"
     ]
    },
    {
     "name": "stdout",
     "output_type": "stream",
     "text": [
      "\r",
      "Upgrading database; v0 -> v1: : 0it [00:00, ?it/s]"
     ]
    },
    {
     "name": "stdout",
     "output_type": "stream",
     "text": [
      "\r",
      "Upgrading database; v0 -> v1: : 0it [00:00, ?it/s]"
     ]
    },
    {
     "name": "stdout",
     "output_type": "stream",
     "text": [
      "\n",
      "\r",
      "  0%|          | 0/1 [00:00<?, ?it/s]"
     ]
    },
    {
     "name": "stdout",
     "output_type": "stream",
     "text": [
      "\r",
      "Upgrading database; v1 -> v2:   0%|          | 0/1 [00:00<?, ?it/s]"
     ]
    },
    {
     "name": "stdout",
     "output_type": "stream",
     "text": [
      "\r",
      "Upgrading database; v1 -> v2: 100%|██████████| 1/1 [00:00<00:00, 470.69it/s]"
     ]
    },
    {
     "name": "stdout",
     "output_type": "stream",
     "text": [
      "\n",
      "\r",
      "0it [00:00, ?it/s]"
     ]
    },
    {
     "name": "stdout",
     "output_type": "stream",
     "text": [
      "\r",
      "Upgrading database; v2 -> v3: : 0it [00:00, ?it/s]"
     ]
    },
    {
     "name": "stdout",
     "output_type": "stream",
     "text": [
      "\r",
      "Upgrading database; v2 -> v3: : 0it [00:00, ?it/s]"
     ]
    },
    {
     "name": "stdout",
     "output_type": "stream",
     "text": [
      "\n",
      "\r",
      "0it [00:00, ?it/s]"
     ]
    },
    {
     "name": "stdout",
     "output_type": "stream",
     "text": [
      "\r",
      "Upgrading database; v3 -> v4: : 0it [00:00, ?it/s]"
     ]
    },
    {
     "name": "stdout",
     "output_type": "stream",
     "text": [
      "\r",
      "Upgrading database; v3 -> v4: : 0it [00:00, ?it/s]"
     ]
    },
    {
     "name": "stdout",
     "output_type": "stream",
     "text": [
      "\n",
      "\r",
      "  0%|          | 0/1 [00:00<?, ?it/s]"
     ]
    },
    {
     "name": "stdout",
     "output_type": "stream",
     "text": [
      "\r",
      "Upgrading database; v4 -> v5:   0%|          | 0/1 [00:00<?, ?it/s]"
     ]
    },
    {
     "name": "stdout",
     "output_type": "stream",
     "text": [
      "\r",
      "Upgrading database; v4 -> v5: 100%|██████████| 1/1 [00:00<00:00, 430.54it/s]"
     ]
    },
    {
     "name": "stdout",
     "output_type": "stream",
     "text": [
      "\n",
      "\r",
      "0it [00:00, ?it/s]"
     ]
    },
    {
     "name": "stdout",
     "output_type": "stream",
     "text": [
      "\r",
      "Upgrading database; v5 -> v6: : 0it [00:00, ?it/s]"
     ]
    },
    {
     "name": "stdout",
     "output_type": "stream",
     "text": [
      "\r",
      "Upgrading database; v5 -> v6: : 0it [00:00, ?it/s]"
     ]
    },
    {
     "name": "stdout",
     "output_type": "stream",
     "text": [
      "\n",
      "\r",
      "  0%|          | 0/1 [00:00<?, ?it/s]"
     ]
    },
    {
     "name": "stdout",
     "output_type": "stream",
     "text": [
      "\r",
      "Upgrading database; v6 -> v7:   0%|          | 0/1 [00:00<?, ?it/s]"
     ]
    },
    {
     "name": "stdout",
     "output_type": "stream",
     "text": [
      "\r",
      "Upgrading database; v6 -> v7: 100%|██████████| 1/1 [00:00<00:00, 90.30it/s]"
     ]
    },
    {
     "name": "stdout",
     "output_type": "stream",
     "text": [
      "\n",
      "\r",
      "  0%|          | 0/1 [00:00<?, ?it/s]"
     ]
    },
    {
     "name": "stdout",
     "output_type": "stream",
     "text": [
      "\r",
      "Upgrading database; v7 -> v8:   0%|          | 0/1 [00:00<?, ?it/s]"
     ]
    },
    {
     "name": "stdout",
     "output_type": "stream",
     "text": [
      "\r",
      "Upgrading database; v7 -> v8: 100%|██████████| 1/1 [00:00<00:00, 425.99it/s]"
     ]
    },
    {
     "name": "stdout",
     "output_type": "stream",
     "text": [
      "\n",
      "\r",
      "  0%|          | 0/1 [00:00<?, ?it/s]"
     ]
    },
    {
     "name": "stdout",
     "output_type": "stream",
     "text": [
      "\r",
      "Upgrading database; v8 -> v9:   0%|          | 0/1 [00:00<?, ?it/s]"
     ]
    },
    {
     "name": "stdout",
     "output_type": "stream",
     "text": [
      "\r",
      "Upgrading database; v8 -> v9: 100%|██████████| 1/1 [00:00<00:00, 468.17it/s]"
     ]
    },
    {
     "name": "stdout",
     "output_type": "stream",
     "text": [
      "\n"
     ]
    }
   ],
   "source": [
    "initialise_database()\n",
    "exp = load_or_create_experiment(experiment_name='tutorial_exp', sample_name=\"no sample\")"
   ]
  },
  {
   "cell_type": "markdown",
   "metadata": {},
   "source": [
    "Here, we define a simple function to benchmark the time it takes to insert n points with either numeric or array data type.\n",
    "We will compare both the time used to call ``add_result`` and the time used for the full measurement."
   ]
  },
  {
   "cell_type": "code",
   "execution_count": 4,
   "metadata": {
    "execution": {
     "iopub.execute_input": "2021-02-20T12:24:01.687587Z",
     "iopub.status.busy": "2021-02-20T12:24:01.686891Z",
     "iopub.status.idle": "2021-02-20T12:24:01.691754Z",
     "shell.execute_reply": "2021-02-20T12:24:01.691146Z"
    }
   },
   "outputs": [],
   "source": [
    "def insert_data(paramtype, npoints, nreps=1):\n",
    "\n",
    "    meas = Measurement(exp=exp)\n",
    "\n",
    "    x1 = ManualParameter('x1')\n",
    "    x2 = ManualParameter('x2')\n",
    "    x3 = ManualParameter('x3')\n",
    "    y1 = ManualParameter('y1')\n",
    "    y2 = ManualParameter('y2')\n",
    "\n",
    "    meas.register_parameter(x1, paramtype=paramtype)\n",
    "    meas.register_parameter(x2, paramtype=paramtype)\n",
    "    meas.register_parameter(x3, paramtype=paramtype)\n",
    "    meas.register_parameter(y1, setpoints=[x1, x2, x3],\n",
    "                            paramtype=paramtype)\n",
    "    meas.register_parameter(y2, setpoints=[x1, x2, x3],\n",
    "                            paramtype=paramtype)\n",
    "    start = time.perf_counter()\n",
    "    with meas.run() as datasaver:\n",
    "        start_adding = time.perf_counter()\n",
    "        for i in range(nreps):\n",
    "            datasaver.add_result((x1, np.random.rand(npoints)),\n",
    "                                 (x2, np.random.rand(npoints)),\n",
    "                                 (x3, np.random.rand(npoints)),\n",
    "                                 (y1, np.random.rand(npoints)),\n",
    "                                 (y2, np.random.rand(npoints)))\n",
    "        stop_adding = time.perf_counter()\n",
    "        run_id = datasaver.run_id\n",
    "    stop = time.perf_counter()\n",
    "    tot_time = stop - start\n",
    "    add_time = stop_adding - start_adding\n",
    "    return tot_time, add_time, run_id"
   ]
  },
  {
   "cell_type": "markdown",
   "metadata": {},
   "source": [
    "## Comparison between numeric/array data and binary blob"
   ]
  },
  {
   "cell_type": "markdown",
   "metadata": {},
   "source": [
    "### Case1: Short experiment time"
   ]
  },
  {
   "cell_type": "code",
   "execution_count": 5,
   "metadata": {
    "execution": {
     "iopub.execute_input": "2021-02-20T12:24:01.699702Z",
     "iopub.status.busy": "2021-02-20T12:24:01.698748Z",
     "iopub.status.idle": "2021-02-20T12:24:03.169657Z",
     "shell.execute_reply": "2021-02-20T12:24:03.170501Z"
    }
   },
   "outputs": [
    {
     "name": "stdout",
     "output_type": "stream",
     "text": [
      "Starting experimental run with id: 1. \n"
     ]
    },
    {
     "name": "stdout",
     "output_type": "stream",
     "text": [
      "Starting experimental run with id: 2. \n"
     ]
    },
    {
     "name": "stdout",
     "output_type": "stream",
     "text": [
      "Starting experimental run with id: 3. \n",
      "Starting experimental run with id: 4. \n"
     ]
    },
    {
     "name": "stdout",
     "output_type": "stream",
     "text": [
      "Starting experimental run with id: 5. \n"
     ]
    },
    {
     "name": "stdout",
     "output_type": "stream",
     "text": [
      "Starting experimental run with id: 6. \n",
      "Starting experimental run with id: 7. \n"
     ]
    },
    {
     "name": "stdout",
     "output_type": "stream",
     "text": [
      "Starting experimental run with id: 8. \n"
     ]
    },
    {
     "name": "stdout",
     "output_type": "stream",
     "text": [
      "Starting experimental run with id: 9. \n"
     ]
    },
    {
     "name": "stdout",
     "output_type": "stream",
     "text": [
      "Starting experimental run with id: 10. \n"
     ]
    },
    {
     "name": "stdout",
     "output_type": "stream",
     "text": [
      "Starting experimental run with id: 11. \n"
     ]
    },
    {
     "name": "stdout",
     "output_type": "stream",
     "text": [
      "Starting experimental run with id: 12. \n"
     ]
    },
    {
     "name": "stdout",
     "output_type": "stream",
     "text": [
      "Starting experimental run with id: 13. \n"
     ]
    },
    {
     "name": "stdout",
     "output_type": "stream",
     "text": [
      "Starting experimental run with id: 14. \n"
     ]
    }
   ],
   "source": [
    "sizes = [1,500,1000,2000,3000,4000,5000]\n",
    "t_numeric = []\n",
    "t_numeric_add = []\n",
    "t_array = []\n",
    "t_array_add = []\n",
    "for size in sizes:\n",
    "    tn, tna, run_id_n =  insert_data('numeric', size)\n",
    "    t_numeric.append(tn)\n",
    "    t_numeric_add.append(tna)\n",
    "\n",
    "    ta, taa, run_id_a =  insert_data('array', size)\n",
    "    t_array.append(ta)\n",
    "    t_array_add.append(taa)"
   ]
  },
  {
   "cell_type": "code",
   "execution_count": 6,
   "metadata": {
    "execution": {
     "iopub.execute_input": "2021-02-20T12:24:03.178579Z",
     "iopub.status.busy": "2021-02-20T12:24:03.177963Z",
     "iopub.status.idle": "2021-02-20T12:24:03.413594Z",
     "shell.execute_reply": "2021-02-20T12:24:03.414060Z"
    }
   },
   "outputs": [
    {
     "data": {
      "image/png": "[encoded data removed]",
      "text/plain": [
       "<Figure size 432x288 with 1 Axes>"
      ]
     },
     "metadata": {
      "needs_background": "light"
     },
     "output_type": "display_data"
    }
   ],
   "source": [
    "fig, ax = plt.subplots(1,1)\n",
    "ax.plot(sizes, t_numeric, 'o-', label='Inserting row-by-row')\n",
    "ax.plot(sizes, t_numeric_add, 'o-', label='Inserting row-by-row: add_result only')\n",
    "ax.plot(sizes, t_array, 'd-', label='Inserting as binary blob')\n",
    "ax.plot(sizes, t_array_add, 'd-', label='Inserting as binary blob: add_result only')\n",
    "ax.legend()\n",
    "ax.set_xlabel('Array length')\n",
    "ax.set_ylabel('Time (s)')\n",
    "fig.tight_layout()"
   ]
  },
  {
   "cell_type": "markdown",
   "metadata": {},
   "source": [
    "As shown in the latter figure, the time to setup and and close the experiment is approximately 0.4 sec. In case of small array sizes, the difference between inserting values of data as arrays and inserting them row-by-row is relatively unimportant. At larger array sizes, i.e. above 10000 points, the cost of writing data as individual datapoints starts to become important.\n"
   ]
  },
  {
   "cell_type": "markdown",
   "metadata": {},
   "source": [
    "### Case2: Long experiment time "
   ]
  },
  {
   "cell_type": "code",
   "execution_count": 7,
   "metadata": {
    "execution": {
     "iopub.execute_input": "2021-02-20T12:24:03.423932Z",
     "iopub.status.busy": "2021-02-20T12:24:03.423238Z",
     "iopub.status.idle": "2021-02-20T12:25:11.647596Z",
     "shell.execute_reply": "2021-02-20T12:25:11.648145Z"
    }
   },
   "outputs": [
    {
     "name": "stdout",
     "output_type": "stream",
     "text": [
      "Starting experimental run with id: 15. \n",
      "Starting experimental run with id: 16. \n"
     ]
    },
    {
     "name": "stdout",
     "output_type": "stream",
     "text": [
      "Starting experimental run with id: 17. \n"
     ]
    },
    {
     "name": "stdout",
     "output_type": "stream",
     "text": [
      "Starting experimental run with id: 18. \n"
     ]
    },
    {
     "name": "stdout",
     "output_type": "stream",
     "text": [
      "Starting experimental run with id: 19. \n"
     ]
    },
    {
     "name": "stdout",
     "output_type": "stream",
     "text": [
      "Starting experimental run with id: 20. \n"
     ]
    },
    {
     "name": "stdout",
     "output_type": "stream",
     "text": [
      "Starting experimental run with id: 21. \n"
     ]
    },
    {
     "name": "stdout",
     "output_type": "stream",
     "text": [
      "Starting experimental run with id: 22. \n"
     ]
    },
    {
     "name": "stdout",
     "output_type": "stream",
     "text": [
      "Starting experimental run with id: 23. \n"
     ]
    },
    {
     "name": "stdout",
     "output_type": "stream",
     "text": [
      "Starting experimental run with id: 24. \n"
     ]
    },
    {
     "name": "stdout",
     "output_type": "stream",
     "text": [
      "Starting experimental run with id: 25. \n"
     ]
    },
    {
     "name": "stdout",
     "output_type": "stream",
     "text": [
      "Starting experimental run with id: 26. \n"
     ]
    },
    {
     "name": "stdout",
     "output_type": "stream",
     "text": [
      "Starting experimental run with id: 27. \n"
     ]
    },
    {
     "name": "stdout",
     "output_type": "stream",
     "text": [
      "Starting experimental run with id: 28. \n"
     ]
    }
   ],
   "source": [
    "sizes = [1,500,1000,2000,3000,4000,5000]\n",
    "nreps = 100\n",
    "t_numeric = []\n",
    "t_numeric_add = []\n",
    "t_numeric_run_ids = []\n",
    "t_array = []\n",
    "t_array_add = []\n",
    "t_array_run_ids = []\n",
    "for size in sizes:\n",
    "    tn, tna, run_id_n =  insert_data('numeric', size, nreps=nreps)\n",
    "    t_numeric.append(tn)\n",
    "    t_numeric_add.append(tna)\n",
    "    t_numeric_run_ids.append(run_id_n)\n",
    "\n",
    "    ta, taa, run_id_a =  insert_data('array', size, nreps=nreps)\n",
    "    t_array.append(ta)\n",
    "    t_array_add.append(taa)\n",
    "    t_array_run_ids.append(run_id_a)"
   ]
  },
  {
   "cell_type": "code",
   "execution_count": 8,
   "metadata": {
    "execution": {
     "iopub.execute_input": "2021-02-20T12:25:11.690601Z",
     "iopub.status.busy": "2021-02-20T12:25:11.653863Z",
     "iopub.status.idle": "2021-02-20T12:25:11.874218Z",
     "shell.execute_reply": "2021-02-20T12:25:11.873029Z"
    },
    "scrolled": true
   },
   "outputs": [
    {
     "data": {
      "image/png": "[encoded data removed]",
      "text/plain": [
       "<Figure size 432x288 with 1 Axes>"
      ]
     },
     "metadata": {
      "needs_background": "light"
     },
     "output_type": "display_data"
    }
   ],
   "source": [
    "fig, ax = plt.subplots(1,1)\n",
    "ax.plot(sizes, t_numeric, 'o-', label='Inserting row-by-row')\n",
    "ax.plot(sizes, t_numeric_add, 'o-', label='Inserting row-by-row: add_result only')\n",
    "ax.plot(sizes, t_array, 'd-', label='Inserting as binary blob')\n",
    "ax.plot(sizes, t_array_add, 'd-', label='Inserting as binary blob: add_result only')\n",
    "ax.legend()\n",
    "ax.set_xlabel('Array length')\n",
    "ax.set_ylabel('Time (s)')\n",
    "fig.tight_layout()"
   ]
  },
  {
   "cell_type": "markdown",
   "metadata": {},
   "source": [
    "However, as we increase the length of the experiment, as seen here by repeating the insertion 100 times, we see a big difference between inserting values of the data row-by-row and inserting it as a binary blob."
   ]
  },
  {
   "cell_type": "markdown",
   "metadata": {},
   "source": [
    "## Loading the data "
   ]
  },
  {
   "cell_type": "code",
   "execution_count": 9,
   "metadata": {
    "execution": {
     "iopub.execute_input": "2021-02-20T12:25:11.879081Z",
     "iopub.status.busy": "2021-02-20T12:25:11.878039Z",
     "iopub.status.idle": "2021-02-20T12:25:11.883202Z",
     "shell.execute_reply": "2021-02-20T12:25:11.882408Z"
    }
   },
   "outputs": [],
   "source": [
    "from qcodes.dataset.data_set import load_by_id\n",
    "from qcodes.dataset.data_export import get_data_by_id"
   ]
  },
  {
   "cell_type": "markdown",
   "metadata": {},
   "source": [
    "As usual you can load the data by using the ``load_by_id`` function but you will notice that the different storage methods\n",
    "are reflected in shape of the data as it is retrieved. "
   ]
  },
  {
   "cell_type": "code",
   "execution_count": 10,
   "metadata": {
    "execution": {
     "iopub.execute_input": "2021-02-20T12:25:11.887359Z",
     "iopub.status.busy": "2021-02-20T12:25:11.886788Z",
     "iopub.status.idle": "2021-02-20T12:25:11.890738Z",
     "shell.execute_reply": "2021-02-20T12:25:11.890111Z"
    }
   },
   "outputs": [],
   "source": [
    "run_id_n = t_numeric_run_ids[0]\n",
    "run_id_a = t_array_run_ids[0]"
   ]
  },
  {
   "cell_type": "code",
   "execution_count": 11,
   "metadata": {
    "execution": {
     "iopub.execute_input": "2021-02-20T12:25:11.894215Z",
     "iopub.status.busy": "2021-02-20T12:25:11.893651Z",
     "iopub.status.idle": "2021-02-20T12:25:11.903417Z",
     "shell.execute_reply": "2021-02-20T12:25:11.903944Z"
    },
    "scrolled": true
   },
   "outputs": [
    {
     "data": {
      "text/plain": [
       "{'x1': {'x1': array([3.88554088e-01, 3.88554088e-01, 5.60188531e-01, 5.60188531e-01,\n",
       "         9.92062177e-01, 9.92062177e-01, 1.12010729e-02, 1.12010729e-02,\n",
       "         5.97125858e-01, 5.97125858e-01, 3.98424591e-01, 3.98424591e-01,\n",
       "         4.61928904e-01, 4.61928904e-01, 4.94948508e-01, 4.94948508e-01,\n",
       "         3.32797070e-01, 3.32797070e-01, 5.79961281e-01, 5.79961281e-01,\n",
       "         8.02815979e-01, 8.02815979e-01, 4.27677959e-01, 4.27677959e-01,\n",
       "         1.52114094e-01, 1.52114094e-01, 4.92004296e-01, 4.92004296e-01,\n",
       "         4.21562472e-01, 4.21562472e-01, 3.53630397e-01, 3.53630397e-01,\n",
       "         2.77152630e-02, 2.77152630e-02, 9.99917602e-01, 9.99917602e-01,\n",
       "         7.75102564e-01, 7.75102564e-01, 5.71218201e-01, 5.71218201e-01,\n",
       "         1.47272381e-01, 1.47272381e-01, 4.89107903e-01, 4.89107903e-01,\n",
       "         7.16745887e-01, 7.16745887e-01, 9.86265916e-01, 9.86265916e-01,\n",
       "         3.36757475e-01, 3.36757475e-01, 2.20023952e-02, 2.20023952e-02,\n",
       "         5.09362724e-01, 5.09362724e-01, 8.12649620e-01, 8.12649620e-01,\n",
       "         4.83250186e-01, 4.83250186e-01, 2.32391091e-01, 2.32391091e-01,\n",
       "         8.72610567e-01, 8.72610567e-01, 5.64753773e-01, 5.64753773e-01,\n",
       "         1.49978381e-01, 1.49978381e-01, 6.99854242e-01, 6.99854242e-01,\n",
       "         4.39516112e-01, 4.39516112e-01, 7.10922742e-02, 7.10922742e-02,\n",
       "         4.36387331e-01, 4.36387331e-01, 8.23391260e-01, 8.23391260e-01,\n",
       "         9.29613142e-01, 9.29613142e-01, 5.18027303e-01, 5.18027303e-01,\n",
       "         8.10867438e-01, 8.10867438e-01, 6.82310304e-01, 6.82310304e-01,\n",
       "         4.41357772e-01, 4.41357772e-01, 5.40780809e-02, 5.40780809e-02,\n",
       "         1.93741791e-01, 1.93741791e-01, 2.01482896e-02, 2.01482896e-02,\n",
       "         1.48077749e-01, 1.48077749e-01, 7.15835074e-01, 7.15835074e-01,\n",
       "         3.42824611e-01, 3.42824611e-01, 2.69145392e-01, 2.69145392e-01,\n",
       "         5.78464134e-01, 5.78464134e-01, 7.23383291e-01, 7.23383291e-01,\n",
       "         5.16810297e-01, 5.16810297e-01, 5.89528558e-01, 5.89528558e-01,\n",
       "         1.31111983e-01, 1.31111983e-01, 7.95385808e-01, 7.95385808e-01,\n",
       "         4.66705264e-01, 4.66705264e-01, 9.78058706e-01, 9.78058706e-01,\n",
       "         9.81152328e-04, 9.81152328e-04, 5.85419377e-02, 5.85419377e-02,\n",
       "         1.63177060e-01, 1.63177060e-01, 6.94647100e-02, 6.94647100e-02,\n",
       "         9.92851246e-01, 9.92851246e-01, 2.00280695e-01, 2.00280695e-01,\n",
       "         6.20260040e-01, 6.20260040e-01, 4.23997393e-01, 4.23997393e-01,\n",
       "         8.59250558e-01, 8.59250558e-01, 6.96266957e-01, 6.96266957e-01,\n",
       "         1.02261933e-01, 1.02261933e-01, 9.78754294e-01, 9.78754294e-01,\n",
       "         3.77691465e-01, 3.77691465e-01, 7.26056874e-02, 7.26056874e-02,\n",
       "         4.50056639e-02, 4.50056639e-02, 5.78828468e-01, 5.78828468e-01,\n",
       "         7.00788351e-01, 7.00788351e-01, 3.75806131e-01, 3.75806131e-01,\n",
       "         3.72548730e-01, 3.72548730e-01, 6.13499023e-01, 6.13499023e-01,\n",
       "         8.09964946e-01, 8.09964946e-01, 5.52795765e-01, 5.52795765e-01,\n",
       "         6.02631804e-01, 6.02631804e-01, 1.78001219e-01, 1.78001219e-01,\n",
       "         5.63929277e-01, 5.63929277e-01, 3.72151649e-01, 3.72151649e-01,\n",
       "         1.51966034e-01, 1.51966034e-01, 5.38278237e-01, 5.38278237e-01,\n",
       "         6.10908443e-01, 6.10908443e-01, 5.25654346e-01, 5.25654346e-01,\n",
       "         9.38990843e-01, 9.38990843e-01, 6.00379082e-01, 6.00379082e-01,\n",
       "         4.93761674e-02, 4.93761674e-02, 9.76661093e-01, 9.76661093e-01,\n",
       "         2.89353021e-01, 2.89353021e-01, 6.40443100e-01, 6.40443100e-01,\n",
       "         1.29598203e-01, 1.29598203e-01, 3.95241675e-01, 3.95241675e-01,\n",
       "         5.01206863e-01, 5.01206863e-01, 7.59265129e-01, 7.59265129e-01,\n",
       "         6.85145994e-01, 6.85145994e-01, 1.33688362e-01, 1.33688362e-01])}}"
      ]
     },
     "execution_count": 1,
     "metadata": {},
     "output_type": "execute_result"
    }
   ],
   "source": [
    "ds = load_by_id(run_id_n)\n",
    "ds.get_parameter_data('x1')"
   ]
  },
  {
   "cell_type": "markdown",
   "metadata": {},
   "source": [
    "And a dataset stored as binary arrays"
   ]
  },
  {
   "cell_type": "code",
   "execution_count": 12,
   "metadata": {
    "execution": {
     "iopub.execute_input": "2021-02-20T12:25:11.907526Z",
     "iopub.status.busy": "2021-02-20T12:25:11.906959Z",
     "iopub.status.idle": "2021-02-20T12:25:11.966295Z",
     "shell.execute_reply": "2021-02-20T12:25:11.966847Z"
    },
    "scrolled": true
   },
   "outputs": [
    {
     "data": {
      "text/plain": [
       "{'x1': {'x1': array([[0.07489062],\n",
       "         [0.07489062],\n",
       "         [0.26871174],\n",
       "         [0.26871174],\n",
       "         [0.59087242],\n",
       "         [0.59087242],\n",
       "         [0.18807116],\n",
       "         [0.18807116],\n",
       "         [0.81707264],\n",
       "         [0.81707264],\n",
       "         [0.08680358],\n",
       "         [0.08680358],\n",
       "         [0.76926679],\n",
       "         [0.76926679],\n",
       "         [0.43010413],\n",
       "         [0.43010413],\n",
       "         [0.04892615],\n",
       "         [0.04892615],\n",
       "         [0.65478798],\n",
       "         [0.65478798],\n",
       "         [0.68535667],\n",
       "         [0.68535667],\n",
       "         [0.56987932],\n",
       "         [0.56987932],\n",
       "         [0.94682648],\n",
       "         [0.94682648],\n",
       "         [0.87597009],\n",
       "         [0.87597009],\n",
       "         [0.6496833 ],\n",
       "         [0.6496833 ],\n",
       "         [0.48102853],\n",
       "         [0.48102853],\n",
       "         [0.25614463],\n",
       "         [0.25614463],\n",
       "         [0.64075647],\n",
       "         [0.64075647],\n",
       "         [0.19352675],\n",
       "         [0.19352675],\n",
       "         [0.27120927],\n",
       "         [0.27120927],\n",
       "         [0.7125723 ],\n",
       "         [0.7125723 ],\n",
       "         [0.06237447],\n",
       "         [0.06237447],\n",
       "         [0.54061555],\n",
       "         [0.54061555],\n",
       "         [0.2900089 ],\n",
       "         [0.2900089 ],\n",
       "         [0.13609679],\n",
       "         [0.13609679],\n",
       "         [0.12786667],\n",
       "         [0.12786667],\n",
       "         [0.16573501],\n",
       "         [0.16573501],\n",
       "         [0.70724954],\n",
       "         [0.70724954],\n",
       "         [0.32830358],\n",
       "         [0.32830358],\n",
       "         [0.79263711],\n",
       "         [0.79263711],\n",
       "         [0.97240953],\n",
       "         [0.97240953],\n",
       "         [0.71700759],\n",
       "         [0.71700759],\n",
       "         [0.40000898],\n",
       "         [0.40000898],\n",
       "         [0.05139022],\n",
       "         [0.05139022],\n",
       "         [0.76572692],\n",
       "         [0.76572692],\n",
       "         [0.19005383],\n",
       "         [0.19005383],\n",
       "         [0.0345159 ],\n",
       "         [0.0345159 ],\n",
       "         [0.79185695],\n",
       "         [0.79185695],\n",
       "         [0.52342801],\n",
       "         [0.52342801],\n",
       "         [0.07781502],\n",
       "         [0.07781502],\n",
       "         [0.36280473],\n",
       "         [0.36280473],\n",
       "         [0.10126039],\n",
       "         [0.10126039],\n",
       "         [0.96565139],\n",
       "         [0.96565139],\n",
       "         [0.77586935],\n",
       "         [0.77586935],\n",
       "         [0.08189266],\n",
       "         [0.08189266],\n",
       "         [0.7635937 ],\n",
       "         [0.7635937 ],\n",
       "         [0.79646133],\n",
       "         [0.79646133],\n",
       "         [0.85154478],\n",
       "         [0.85154478],\n",
       "         [0.64781252],\n",
       "         [0.64781252],\n",
       "         [0.9325473 ],\n",
       "         [0.9325473 ],\n",
       "         [0.09574492],\n",
       "         [0.09574492],\n",
       "         [0.63931679],\n",
       "         [0.63931679],\n",
       "         [0.29436879],\n",
       "         [0.29436879],\n",
       "         [0.52573075],\n",
       "         [0.52573075],\n",
       "         [0.15113485],\n",
       "         [0.15113485],\n",
       "         [0.7125218 ],\n",
       "         [0.7125218 ],\n",
       "         [0.05763844],\n",
       "         [0.05763844],\n",
       "         [0.76201576],\n",
       "         [0.76201576],\n",
       "         [0.04944361],\n",
       "         [0.04944361],\n",
       "         [0.26833147],\n",
       "         [0.26833147],\n",
       "         [0.52124862],\n",
       "         [0.52124862],\n",
       "         [0.28946929],\n",
       "         [0.28946929],\n",
       "         [0.19486922],\n",
       "         [0.19486922],\n",
       "         [0.54636109],\n",
       "         [0.54636109],\n",
       "         [0.20204162],\n",
       "         [0.20204162],\n",
       "         [0.88426456],\n",
       "         [0.88426456],\n",
       "         [0.4752233 ],\n",
       "         [0.4752233 ],\n",
       "         [0.40932231],\n",
       "         [0.40932231],\n",
       "         [0.4882923 ],\n",
       "         [0.4882923 ],\n",
       "         [0.71805623],\n",
       "         [0.71805623],\n",
       "         [0.179021  ],\n",
       "         [0.179021  ],\n",
       "         [0.42254203],\n",
       "         [0.42254203],\n",
       "         [0.18841433],\n",
       "         [0.18841433],\n",
       "         [0.58907257],\n",
       "         [0.58907257],\n",
       "         [0.148911  ],\n",
       "         [0.148911  ],\n",
       "         [0.95930632],\n",
       "         [0.95930632],\n",
       "         [0.84693777],\n",
       "         [0.84693777],\n",
       "         [0.01080382],\n",
       "         [0.01080382],\n",
       "         [0.4245581 ],\n",
       "         [0.4245581 ],\n",
       "         [0.3403096 ],\n",
       "         [0.3403096 ],\n",
       "         [0.95553685],\n",
       "         [0.95553685],\n",
       "         [0.33673259],\n",
       "         [0.33673259],\n",
       "         [0.43464161],\n",
       "         [0.43464161],\n",
       "         [0.83618983],\n",
       "         [0.83618983],\n",
       "         [0.50146148],\n",
       "         [0.50146148],\n",
       "         [0.66513486],\n",
       "         [0.66513486],\n",
       "         [0.82936608],\n",
       "         [0.82936608],\n",
       "         [0.66502724],\n",
       "         [0.66502724],\n",
       "         [0.77871895],\n",
       "         [0.77871895],\n",
       "         [0.65307046],\n",
       "         [0.65307046],\n",
       "         [0.77792771],\n",
       "         [0.77792771],\n",
       "         [0.67853278],\n",
       "         [0.67853278],\n",
       "         [0.1364236 ],\n",
       "         [0.1364236 ],\n",
       "         [0.37928108],\n",
       "         [0.37928108],\n",
       "         [0.44389708],\n",
       "         [0.44389708],\n",
       "         [0.46362659],\n",
       "         [0.46362659],\n",
       "         [0.03240379],\n",
       "         [0.03240379],\n",
       "         [0.31454287],\n",
       "         [0.31454287],\n",
       "         [0.60908921],\n",
       "         [0.60908921],\n",
       "         [0.71854355],\n",
       "         [0.71854355]])}}"
      ]
     },
     "execution_count": 1,
     "metadata": {},
     "output_type": "execute_result"
    }
   ],
   "source": [
    "ds = load_by_id(run_id_a)\n",
    "ds.get_parameter_data('x1')"
   ]
  },
  {
   "cell_type": "code",
   "execution_count": null,
   "metadata": {},
   "outputs": [],
   "source": []
  }
 ],
 "metadata": {
  "kernelspec": {
   "display_name": "Python 3",
   "language": "python",
   "name": "python3"
  },
  "language_info": {
   "codemirror_mode": {
    "name": "ipython",
    "version": 3
   },
   "file_extension": ".py",
   "mimetype": "text/x-python",
   "name": "python",
   "nbconvert_exporter": "python",
   "pygments_lexer": "ipython3",
   "version": "3.7.9"
  },
  "nbsphinx": {
   "timeout": 600
  },
  "toc": {
   "base_numbering": 1,
   "nav_menu": {},
   "number_sections": true,
   "sideBar": true,
   "skip_h1_title": false,
   "title_cell": "Table of Contents",
   "title_sidebar": "Contents",
   "toc_cell": false,
   "toc_position": {},
   "toc_section_display": true,
   "toc_window_display": false
  },
  "varInspector": {
   "cols": {
    "lenName": 16,
    "lenType": 16,
    "lenVar": 40
   },
   "kernels_config": {
    "python": {
     "delete_cmd_postfix": "",
     "delete_cmd_prefix": "del ",
     "library": "var_list.py",
     "varRefreshCmd": "print(var_dic_list())"
    },
    "r": {
     "delete_cmd_postfix": ") ",
     "delete_cmd_prefix": "rm(",
     "library": "var_list.r",
     "varRefreshCmd": "cat(var_dic_list()) "
    }
   },
   "types_to_exclude": [
    "module",
    "function",
    "builtin_function_or_method",
    "instance",
    "_Feature"
   ],
   "window_display": false
  }
 },
 "nbformat": 4,
 "nbformat_minor": 2
}
