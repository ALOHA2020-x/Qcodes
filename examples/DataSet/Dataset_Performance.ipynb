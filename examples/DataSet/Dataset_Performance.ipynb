{
 "cells": [
  {
   "cell_type": "markdown",
   "metadata": {},
   "source": [
    "# DataSet Performance\n",
    "\n",
    "This notebook shows the trade-off between inserting data into a database row-by-row and as binary blobs. Inserting the data row-by-row means that we have direct access to all the data and may perform queries directly on the values of the data. On the other hand, as we shall see, this is much slower than inserting the data directly as binary blobs."
   ]
  },
  {
   "cell_type": "markdown",
   "metadata": {},
   "source": [
    "First, we choose a new location for the database to ensure that we don't add a bunch of benchmarking data to the default one."
   ]
  },
  {
   "cell_type": "code",
   "execution_count": 1,
   "metadata": {
    "execution": {
     "iopub.execute_input": "2020-11-19T07:47:35.368250Z",
     "iopub.status.busy": "2020-11-19T07:47:35.367674Z",
     "iopub.status.idle": "2020-11-19T07:47:36.418852Z",
     "shell.execute_reply": "2020-11-19T07:47:36.419466Z"
    }
   },
   "outputs": [
    {
     "name": "stdout",
     "output_type": "stream",
     "text": [
      "Logging hadn't been started.\n",
      "Activating auto-logging. Current session state plus future input saved.\n",
      "Filename       : /home/vsts/.qcodes/logs/command_history.log\n",
      "Mode           : append\n",
      "Output logging : True\n",
      "Raw input log  : False\n",
      "Timestamping   : True\n",
      "State          : active\n"
     ]
    },
    {
     "name": "stdout",
     "output_type": "stream",
     "text": [
      "Qcodes Logfile : /home/vsts/.qcodes/logs/201119-14291-qcodes.log\n"
     ]
    }
   ],
   "source": [
    "import os\n",
    "cwd = os.getcwd()\n",
    "import qcodes as qc\n",
    "qc.config[\"core\"][\"db_location\"] = os.path.join(cwd, 'testing.db')\n"
   ]
  },
  {
   "cell_type": "code",
   "execution_count": 2,
   "metadata": {
    "execution": {
     "iopub.execute_input": "2020-11-19T07:47:36.427264Z",
     "iopub.status.busy": "2020-11-19T07:47:36.425379Z",
     "iopub.status.idle": "2020-11-19T07:47:36.614271Z",
     "shell.execute_reply": "2020-11-19T07:47:36.613682Z"
    }
   },
   "outputs": [],
   "source": [
    "%matplotlib inline\n",
    "import time\n",
    "import matplotlib.pyplot as plt\n",
    "import numpy as np\n",
    "\n",
    "import qcodes as qc\n",
    "from qcodes.instrument.parameter import ManualParameter\n",
    "from qcodes.dataset.experiment_container import (Experiment,\n",
    "                                                 load_last_experiment,\n",
    "                                                 new_experiment)\n",
    "from qcodes.dataset.sqlite.database import initialise_database\n",
    "from qcodes import load_or_create_experiment\n",
    "from qcodes.dataset.measurements import Measurement"
   ]
  },
  {
   "cell_type": "code",
   "execution_count": 3,
   "metadata": {
    "execution": {
     "iopub.execute_input": "2020-11-19T07:47:36.618341Z",
     "iopub.status.busy": "2020-11-19T07:47:36.617668Z",
     "iopub.status.idle": "2020-11-19T07:47:36.737673Z",
     "shell.execute_reply": "2020-11-19T07:47:36.736731Z"
    }
   },
   "outputs": [
    {
     "name": "stdout",
     "output_type": "stream",
     "text": [
      "\r",
      "0it [00:00, ?it/s]"
     ]
    },
    {
     "name": "stdout",
     "output_type": "stream",
     "text": [
      "\r",
      "Upgrading database; v0 -> v1: : 0it [00:00, ?it/s]"
     ]
    },
    {
     "name": "stdout",
     "output_type": "stream",
     "text": [
      "\r",
      "Upgrading database; v0 -> v1: : 0it [00:00, ?it/s]"
     ]
    },
    {
     "name": "stdout",
     "output_type": "stream",
     "text": [
      "\n",
      "\r",
      "  0%|          | 0/1 [00:00<?, ?it/s]"
     ]
    },
    {
     "name": "stdout",
     "output_type": "stream",
     "text": [
      "\r",
      "Upgrading database; v1 -> v2:   0%|          | 0/1 [00:00<?, ?it/s]"
     ]
    },
    {
     "name": "stdout",
     "output_type": "stream",
     "text": [
      "\r",
      "Upgrading database; v1 -> v2: 100%|██████████| 1/1 [00:00<00:00, 440.02it/s]"
     ]
    },
    {
     "name": "stdout",
     "output_type": "stream",
     "text": [
      "\n",
      "\r",
      "0it [00:00, ?it/s]"
     ]
    },
    {
     "name": "stdout",
     "output_type": "stream",
     "text": [
      "\r",
      "Upgrading database; v2 -> v3: : 0it [00:00, ?it/s]"
     ]
    },
    {
     "name": "stdout",
     "output_type": "stream",
     "text": [
      "\r",
      "Upgrading database; v2 -> v3: : 0it [00:00, ?it/s]"
     ]
    },
    {
     "name": "stdout",
     "output_type": "stream",
     "text": [
      "\n",
      "\r",
      "0it [00:00, ?it/s]"
     ]
    },
    {
     "name": "stdout",
     "output_type": "stream",
     "text": [
      "\r",
      "Upgrading database; v3 -> v4: : 0it [00:00, ?it/s]"
     ]
    },
    {
     "name": "stdout",
     "output_type": "stream",
     "text": [
      "\r",
      "Upgrading database; v3 -> v4: : 0it [00:00, ?it/s]"
     ]
    },
    {
     "name": "stdout",
     "output_type": "stream",
     "text": [
      "\n",
      "\r",
      "  0%|          | 0/1 [00:00<?, ?it/s]"
     ]
    },
    {
     "name": "stdout",
     "output_type": "stream",
     "text": [
      "\r",
      "Upgrading database; v4 -> v5:   0%|          | 0/1 [00:00<?, ?it/s]"
     ]
    },
    {
     "name": "stdout",
     "output_type": "stream",
     "text": [
      "\r",
      "Upgrading database; v4 -> v5: 100%|██████████| 1/1 [00:00<00:00, 604.63it/s]"
     ]
    },
    {
     "name": "stdout",
     "output_type": "stream",
     "text": [
      "\n",
      "\r",
      "0it [00:00, ?it/s]"
     ]
    },
    {
     "name": "stdout",
     "output_type": "stream",
     "text": [
      "\r",
      "Upgrading database; v5 -> v6: : 0it [00:00, ?it/s]"
     ]
    },
    {
     "name": "stdout",
     "output_type": "stream",
     "text": [
      "\r",
      "Upgrading database; v5 -> v6: : 0it [00:00, ?it/s]"
     ]
    },
    {
     "name": "stdout",
     "output_type": "stream",
     "text": [
      "\n",
      "\r",
      "  0%|          | 0/1 [00:00<?, ?it/s]"
     ]
    },
    {
     "name": "stdout",
     "output_type": "stream",
     "text": [
      "\r",
      "Upgrading database; v6 -> v7:   0%|          | 0/1 [00:00<?, ?it/s]"
     ]
    },
    {
     "name": "stdout",
     "output_type": "stream",
     "text": [
      "\r",
      "Upgrading database; v6 -> v7: 100%|██████████| 1/1 [00:00<00:00, 246.88it/s]"
     ]
    },
    {
     "name": "stdout",
     "output_type": "stream",
     "text": [
      "\n",
      "\r",
      "  0%|          | 0/1 [00:00<?, ?it/s]"
     ]
    },
    {
     "name": "stdout",
     "output_type": "stream",
     "text": [
      "\r",
      "Upgrading database; v7 -> v8:   0%|          | 0/1 [00:00<?, ?it/s]"
     ]
    },
    {
     "name": "stdout",
     "output_type": "stream",
     "text": [
      "\r",
      "Upgrading database; v7 -> v8: 100%|██████████| 1/1 [00:00<00:00, 415.61it/s]"
     ]
    },
    {
     "name": "stdout",
     "output_type": "stream",
     "text": [
      "\n",
      "\r",
      "  0%|          | 0/1 [00:00<?, ?it/s]"
     ]
    },
    {
     "name": "stdout",
     "output_type": "stream",
     "text": [
      "\r",
      "Upgrading database; v8 -> v9:   0%|          | 0/1 [00:00<?, ?it/s]"
     ]
    },
    {
     "name": "stdout",
     "output_type": "stream",
     "text": [
      "\r",
      "Upgrading database; v8 -> v9: 100%|██████████| 1/1 [00:00<00:00, 858.26it/s]"
     ]
    },
    {
     "name": "stdout",
     "output_type": "stream",
     "text": [
      "\n"
     ]
    }
   ],
   "source": [
    "initialise_database()\n",
    "exp = load_or_create_experiment(experiment_name='tutorial_exp', sample_name=\"no sample\")"
   ]
  },
  {
   "cell_type": "markdown",
   "metadata": {},
   "source": [
    "Here, we define a simple function to benchmark the time it takes to insert n points with either numeric or array data type.\n",
    "We will compare both the time used to call ``add_result`` and the time used for the full measurement."
   ]
  },
  {
   "cell_type": "code",
   "execution_count": 4,
   "metadata": {
    "execution": {
     "iopub.execute_input": "2020-11-19T07:47:36.746706Z",
     "iopub.status.busy": "2020-11-19T07:47:36.746079Z",
     "iopub.status.idle": "2020-11-19T07:47:36.748997Z",
     "shell.execute_reply": "2020-11-19T07:47:36.748494Z"
    }
   },
   "outputs": [],
   "source": [
    "def insert_data(paramtype, npoints, nreps=1):\n",
    "\n",
    "    meas = Measurement(exp=exp)\n",
    "\n",
    "    x1 = ManualParameter('x1')\n",
    "    x2 = ManualParameter('x2')\n",
    "    x3 = ManualParameter('x3')\n",
    "    y1 = ManualParameter('y1')\n",
    "    y2 = ManualParameter('y2')\n",
    "\n",
    "    meas.register_parameter(x1, paramtype=paramtype)\n",
    "    meas.register_parameter(x2, paramtype=paramtype)\n",
    "    meas.register_parameter(x3, paramtype=paramtype)\n",
    "    meas.register_parameter(y1, setpoints=[x1, x2, x3],\n",
    "                            paramtype=paramtype)\n",
    "    meas.register_parameter(y2, setpoints=[x1, x2, x3],\n",
    "                            paramtype=paramtype)\n",
    "    start = time.perf_counter()\n",
    "    with meas.run() as datasaver:\n",
    "        start_adding = time.perf_counter()\n",
    "        for i in range(nreps):\n",
    "            datasaver.add_result((x1, np.random.rand(npoints)),\n",
    "                                 (x2, np.random.rand(npoints)),\n",
    "                                 (x3, np.random.rand(npoints)),\n",
    "                                 (y1, np.random.rand(npoints)),\n",
    "                                 (y2, np.random.rand(npoints)))\n",
    "        stop_adding = time.perf_counter()\n",
    "        run_id = datasaver.run_id\n",
    "    stop = time.perf_counter()\n",
    "    tot_time = stop - start\n",
    "    add_time = stop_adding - start_adding\n",
    "    return tot_time, add_time, run_id"
   ]
  },
  {
   "cell_type": "markdown",
   "metadata": {},
   "source": [
    "## Comparison between numeric/array data and binary blob"
   ]
  },
  {
   "cell_type": "markdown",
   "metadata": {},
   "source": [
    "### Case1: Short experiment time"
   ]
  },
  {
   "cell_type": "code",
   "execution_count": 5,
   "metadata": {
    "execution": {
     "iopub.execute_input": "2020-11-19T07:47:36.756238Z",
     "iopub.status.busy": "2020-11-19T07:47:36.755580Z",
     "iopub.status.idle": "2020-11-19T07:47:37.610232Z",
     "shell.execute_reply": "2020-11-19T07:47:37.610701Z"
    }
   },
   "outputs": [
    {
     "name": "stdout",
     "output_type": "stream",
     "text": [
      "Starting experimental run with id: 1. \n",
      "Starting experimental run with id: 2. \n",
      "Starting experimental run with id: 3. \n",
      "Starting experimental run with id: 4. \n",
      "Starting experimental run with id: 5. \n"
     ]
    },
    {
     "name": "stdout",
     "output_type": "stream",
     "text": [
      "Starting experimental run with id: 6. \n"
     ]
    },
    {
     "name": "stdout",
     "output_type": "stream",
     "text": [
      "Starting experimental run with id: 7. \n"
     ]
    },
    {
     "name": "stdout",
     "output_type": "stream",
     "text": [
      "Starting experimental run with id: 8. \n",
      "Starting experimental run with id: 9. \n"
     ]
    },
    {
     "name": "stdout",
     "output_type": "stream",
     "text": [
      "Starting experimental run with id: 10. \n",
      "Starting experimental run with id: 11. \n"
     ]
    },
    {
     "name": "stdout",
     "output_type": "stream",
     "text": [
      "Starting experimental run with id: 12. \n",
      "Starting experimental run with id: 13. \n"
     ]
    },
    {
     "name": "stdout",
     "output_type": "stream",
     "text": [
      "Starting experimental run with id: 14. \n"
     ]
    }
   ],
   "source": [
    "sizes = [1,500,1000,2000,3000,4000,5000]\n",
    "t_numeric = []\n",
    "t_numeric_add = []\n",
    "t_array = []\n",
    "t_array_add = []\n",
    "for size in sizes:\n",
    "    tn, tna, run_id_n =  insert_data('numeric', size)\n",
    "    t_numeric.append(tn)\n",
    "    t_numeric_add.append(tna)\n",
    "\n",
    "    ta, taa, run_id_a =  insert_data('array', size)\n",
    "    t_array.append(ta)\n",
    "    t_array_add.append(taa)"
   ]
  },
  {
   "cell_type": "code",
   "execution_count": 6,
   "metadata": {
    "execution": {
     "iopub.execute_input": "2020-11-19T07:47:37.628842Z",
     "iopub.status.busy": "2020-11-19T07:47:37.628239Z",
     "iopub.status.idle": "2020-11-19T07:47:37.815284Z",
     "shell.execute_reply": "2020-11-19T07:47:37.814785Z"
    }
   },
   "outputs": [
    {
     "data": {
      "image/png": "[encoded data removed]",
      "text/plain": [
       "<Figure size 432x288 with 1 Axes>"
      ]
     },
     "metadata": {
      "needs_background": "light"
     },
     "output_type": "display_data"
    }
   ],
   "source": [
    "fig, ax = plt.subplots(1,1)\n",
    "ax.plot(sizes, t_numeric, 'o-', label='Inserting row-by-row')\n",
    "ax.plot(sizes, t_numeric_add, 'o-', label='Inserting row-by-row: add_result only')\n",
    "ax.plot(sizes, t_array, 'd-', label='Inserting as binary blob')\n",
    "ax.plot(sizes, t_array_add, 'd-', label='Inserting as binary blob: add_result only')\n",
    "ax.legend()\n",
    "ax.set_xlabel('Array length')\n",
    "ax.set_ylabel('Time (s)')\n",
    "fig.tight_layout()"
   ]
  },
  {
   "cell_type": "markdown",
   "metadata": {},
   "source": [
    "As shown in the latter figure, the time to setup and and close the experiment is approximately 0.4 sec. In case of small array sizes, the difference between inserting values of data as arrays and inserting them row-by-row is relatively unimportant. At larger array sizes, i.e. above 10000 points, the cost of writing data as individual datapoints starts to become important.\n"
   ]
  },
  {
   "cell_type": "markdown",
   "metadata": {},
   "source": [
    "### Case2: Long experiment time "
   ]
  },
  {
   "cell_type": "code",
   "execution_count": 7,
   "metadata": {
    "execution": {
     "iopub.execute_input": "2020-11-19T07:47:37.822662Z",
     "iopub.status.busy": "2020-11-19T07:47:37.822070Z",
     "iopub.status.idle": "2020-11-19T07:48:38.587495Z",
     "shell.execute_reply": "2020-11-19T07:48:38.586353Z"
    }
   },
   "outputs": [
    {
     "name": "stdout",
     "output_type": "stream",
     "text": [
      "Starting experimental run with id: 15. \n",
      "Starting experimental run with id: 16. \n",
      "Starting experimental run with id: 17. \n"
     ]
    },
    {
     "name": "stdout",
     "output_type": "stream",
     "text": [
      "Starting experimental run with id: 18. \n",
      "Starting experimental run with id: 19. \n"
     ]
    },
    {
     "name": "stdout",
     "output_type": "stream",
     "text": [
      "Starting experimental run with id: 20. \n"
     ]
    },
    {
     "name": "stdout",
     "output_type": "stream",
     "text": [
      "Starting experimental run with id: 21. \n"
     ]
    },
    {
     "name": "stdout",
     "output_type": "stream",
     "text": [
      "Starting experimental run with id: 22. \n"
     ]
    },
    {
     "name": "stdout",
     "output_type": "stream",
     "text": [
      "Starting experimental run with id: 23. \n"
     ]
    },
    {
     "name": "stdout",
     "output_type": "stream",
     "text": [
      "Starting experimental run with id: 24. \n"
     ]
    },
    {
     "name": "stdout",
     "output_type": "stream",
     "text": [
      "Starting experimental run with id: 25. \n"
     ]
    },
    {
     "name": "stdout",
     "output_type": "stream",
     "text": [
      "Starting experimental run with id: 26. \n"
     ]
    },
    {
     "name": "stdout",
     "output_type": "stream",
     "text": [
      "Starting experimental run with id: 27. \n"
     ]
    },
    {
     "name": "stdout",
     "output_type": "stream",
     "text": [
      "Starting experimental run with id: 28. \n"
     ]
    }
   ],
   "source": [
    "sizes = [1,500,1000,2000,3000,4000,5000]\n",
    "nreps = 100\n",
    "t_numeric = []\n",
    "t_numeric_add = []\n",
    "t_numeric_run_ids = []\n",
    "t_array = []\n",
    "t_array_add = []\n",
    "t_array_run_ids = []\n",
    "for size in sizes:\n",
    "    tn, tna, run_id_n =  insert_data('numeric', size, nreps=nreps)\n",
    "    t_numeric.append(tn)\n",
    "    t_numeric_add.append(tna)\n",
    "    t_numeric_run_ids.append(run_id_n)\n",
    "\n",
    "    ta, taa, run_id_a =  insert_data('array', size, nreps=nreps)\n",
    "    t_array.append(ta)\n",
    "    t_array_add.append(taa)\n",
    "    t_array_run_ids.append(run_id_a)"
   ]
  },
  {
   "cell_type": "code",
   "execution_count": 8,
   "metadata": {
    "execution": {
     "iopub.execute_input": "2020-11-19T07:48:38.628310Z",
     "iopub.status.busy": "2020-11-19T07:48:38.617027Z",
     "iopub.status.idle": "2020-11-19T07:48:38.791518Z",
     "shell.execute_reply": "2020-11-19T07:48:38.792336Z"
    },
    "scrolled": true
   },
   "outputs": [
    {
     "data": {
      "image/png": "[encoded data removed]",
      "text/plain": [
       "<Figure size 432x288 with 1 Axes>"
      ]
     },
     "metadata": {
      "needs_background": "light"
     },
     "output_type": "display_data"
    }
   ],
   "source": [
    "fig, ax = plt.subplots(1,1)\n",
    "ax.plot(sizes, t_numeric, 'o-', label='Inserting row-by-row')\n",
    "ax.plot(sizes, t_numeric_add, 'o-', label='Inserting row-by-row: add_result only')\n",
    "ax.plot(sizes, t_array, 'd-', label='Inserting as binary blob')\n",
    "ax.plot(sizes, t_array_add, 'd-', label='Inserting as binary blob: add_result only')\n",
    "ax.legend()\n",
    "ax.set_xlabel('Array length')\n",
    "ax.set_ylabel('Time (s)')\n",
    "fig.tight_layout()"
   ]
  },
  {
   "cell_type": "markdown",
   "metadata": {},
   "source": [
    "However, as we increase the length of the experiment, as seen here by repeating the insertion 100 times, we see a big difference between inserting values of the data row-by-row and inserting it as a binary blob."
   ]
  },
  {
   "cell_type": "markdown",
   "metadata": {},
   "source": [
    "## Loading the data "
   ]
  },
  {
   "cell_type": "code",
   "execution_count": 9,
   "metadata": {
    "execution": {
     "iopub.execute_input": "2020-11-19T07:48:38.796933Z",
     "iopub.status.busy": "2020-11-19T07:48:38.795917Z",
     "iopub.status.idle": "2020-11-19T07:48:38.799263Z",
     "shell.execute_reply": "2020-11-19T07:48:38.798788Z"
    }
   },
   "outputs": [],
   "source": [
    "from qcodes.dataset.data_set import load_by_id\n",
    "from qcodes.dataset.data_export import get_data_by_id"
   ]
  },
  {
   "cell_type": "markdown",
   "metadata": {},
   "source": [
    "As usual you can load the data by using the ``load_by_id`` function but you will notice that the different storage methods\n",
    "are reflected in shape of the data as it is retrieved. "
   ]
  },
  {
   "cell_type": "code",
   "execution_count": 10,
   "metadata": {
    "execution": {
     "iopub.execute_input": "2020-11-19T07:48:38.803854Z",
     "iopub.status.busy": "2020-11-19T07:48:38.802887Z",
     "iopub.status.idle": "2020-11-19T07:48:38.805151Z",
     "shell.execute_reply": "2020-11-19T07:48:38.805589Z"
    }
   },
   "outputs": [],
   "source": [
    "run_id_n = t_numeric_run_ids[0]\n",
    "run_id_a = t_array_run_ids[0]"
   ]
  },
  {
   "cell_type": "code",
   "execution_count": 11,
   "metadata": {
    "execution": {
     "iopub.execute_input": "2020-11-19T07:48:38.809075Z",
     "iopub.status.busy": "2020-11-19T07:48:38.808507Z",
     "iopub.status.idle": "2020-11-19T07:48:38.818823Z",
     "shell.execute_reply": "2020-11-19T07:48:38.818355Z"
    },
    "scrolled": true
   },
   "outputs": [
    {
     "data": {
      "text/plain": [
       "{'x1': {'x1': array([0.81916541, 0.81916541, 0.67899618, 0.67899618, 0.12113406,\n",
       "         0.12113406, 0.14869672, 0.14869672, 0.62297438, 0.62297438,\n",
       "         0.74426069, 0.74426069, 0.2174462 , 0.2174462 , 0.36720899,\n",
       "         0.36720899, 0.41035808, 0.41035808, 0.54444249, 0.54444249,\n",
       "         0.14115427, 0.14115427, 0.78884408, 0.78884408, 0.86480309,\n",
       "         0.86480309, 0.50049707, 0.50049707, 0.91480726, 0.91480726,\n",
       "         0.6942426 , 0.6942426 , 0.7220219 , 0.7220219 , 0.96456784,\n",
       "         0.96456784, 0.60380597, 0.60380597, 0.32674637, 0.32674637,\n",
       "         0.07309099, 0.07309099, 0.33167314, 0.33167314, 0.29338946,\n",
       "         0.29338946, 0.4295599 , 0.4295599 , 0.38914505, 0.38914505,\n",
       "         0.72667534, 0.72667534, 0.2550202 , 0.2550202 , 0.61384281,\n",
       "         0.61384281, 0.23626258, 0.23626258, 0.63118045, 0.63118045,\n",
       "         0.92564503, 0.92564503, 0.77162735, 0.77162735, 0.81268714,\n",
       "         0.81268714, 0.42654025, 0.42654025, 0.30300963, 0.30300963,\n",
       "         0.39351109, 0.39351109, 0.6083233 , 0.6083233 , 0.21821534,\n",
       "         0.21821534, 0.15283313, 0.15283313, 0.65770392, 0.65770392,\n",
       "         0.61121087, 0.61121087, 0.28610553, 0.28610553, 0.71037321,\n",
       "         0.71037321, 0.09884526, 0.09884526, 0.8798427 , 0.8798427 ,\n",
       "         0.4952646 , 0.4952646 , 0.47972639, 0.47972639, 0.89622052,\n",
       "         0.89622052, 0.4931464 , 0.4931464 , 0.31639875, 0.31639875,\n",
       "         0.28119797, 0.28119797, 0.63748744, 0.63748744, 0.70018544,\n",
       "         0.70018544, 0.38935527, 0.38935527, 0.48416629, 0.48416629,\n",
       "         0.24845259, 0.24845259, 0.58156617, 0.58156617, 0.84963649,\n",
       "         0.84963649, 0.58454771, 0.58454771, 0.39901988, 0.39901988,\n",
       "         0.2395504 , 0.2395504 , 0.74890336, 0.74890336, 0.09404057,\n",
       "         0.09404057, 0.41795047, 0.41795047, 0.60381815, 0.60381815,\n",
       "         0.8277067 , 0.8277067 , 0.45342644, 0.45342644, 0.21171342,\n",
       "         0.21171342, 0.18671239, 0.18671239, 0.90658376, 0.90658376,\n",
       "         0.59280356, 0.59280356, 0.91155918, 0.91155918, 0.72638412,\n",
       "         0.72638412, 0.05266368, 0.05266368, 0.64004057, 0.64004057,\n",
       "         0.90939561, 0.90939561, 0.82843593, 0.82843593, 0.5934085 ,\n",
       "         0.5934085 , 0.32992128, 0.32992128, 0.25039413, 0.25039413,\n",
       "         0.36341206, 0.36341206, 0.01346625, 0.01346625, 0.48709765,\n",
       "         0.48709765, 0.6328495 , 0.6328495 , 0.39936366, 0.39936366,\n",
       "         0.40757044, 0.40757044, 0.86612431, 0.86612431, 0.45922439,\n",
       "         0.45922439, 0.92721326, 0.92721326, 0.13213711, 0.13213711,\n",
       "         0.83239418, 0.83239418, 0.05688462, 0.05688462, 0.94855293,\n",
       "         0.94855293, 0.9151709 , 0.9151709 , 0.35287907, 0.35287907,\n",
       "         0.17106662, 0.17106662, 0.28835726, 0.28835726, 0.5897516 ,\n",
       "         0.5897516 , 0.74004945, 0.74004945, 0.24773332, 0.24773332])}}"
      ]
     },
     "execution_count": 1,
     "metadata": {},
     "output_type": "execute_result"
    }
   ],
   "source": [
    "ds = load_by_id(run_id_n)\n",
    "ds.get_parameter_data('x1')"
   ]
  },
  {
   "cell_type": "markdown",
   "metadata": {},
   "source": [
    "And a dataset stored as binary arrays"
   ]
  },
  {
   "cell_type": "code",
   "execution_count": 12,
   "metadata": {
    "execution": {
     "iopub.execute_input": "2020-11-19T07:48:38.822334Z",
     "iopub.status.busy": "2020-11-19T07:48:38.821738Z",
     "iopub.status.idle": "2020-11-19T07:48:38.880763Z",
     "shell.execute_reply": "2020-11-19T07:48:38.881243Z"
    },
    "scrolled": true
   },
   "outputs": [
    {
     "data": {
      "text/plain": [
       "{'x1': {'x1': array([[0.21160114],\n",
       "         [0.21160114],\n",
       "         [0.46859551],\n",
       "         [0.46859551],\n",
       "         [0.6558911 ],\n",
       "         [0.6558911 ],\n",
       "         [0.40226561],\n",
       "         [0.40226561],\n",
       "         [0.05020655],\n",
       "         [0.05020655],\n",
       "         [0.65991694],\n",
       "         [0.65991694],\n",
       "         [0.110424  ],\n",
       "         [0.110424  ],\n",
       "         [0.02629366],\n",
       "         [0.02629366],\n",
       "         [0.38299151],\n",
       "         [0.38299151],\n",
       "         [0.3730755 ],\n",
       "         [0.3730755 ],\n",
       "         [0.32004929],\n",
       "         [0.32004929],\n",
       "         [0.41885317],\n",
       "         [0.41885317],\n",
       "         [0.75341385],\n",
       "         [0.75341385],\n",
       "         [0.22608247],\n",
       "         [0.22608247],\n",
       "         [0.06683147],\n",
       "         [0.06683147],\n",
       "         [0.51417953],\n",
       "         [0.51417953],\n",
       "         [0.89190701],\n",
       "         [0.89190701],\n",
       "         [0.1188688 ],\n",
       "         [0.1188688 ],\n",
       "         [0.91087897],\n",
       "         [0.91087897],\n",
       "         [0.18886919],\n",
       "         [0.18886919],\n",
       "         [0.85777822],\n",
       "         [0.85777822],\n",
       "         [0.83287523],\n",
       "         [0.83287523],\n",
       "         [0.18965722],\n",
       "         [0.18965722],\n",
       "         [0.2391631 ],\n",
       "         [0.2391631 ],\n",
       "         [0.88115321],\n",
       "         [0.88115321],\n",
       "         [0.46694898],\n",
       "         [0.46694898],\n",
       "         [0.07904102],\n",
       "         [0.07904102],\n",
       "         [0.32179143],\n",
       "         [0.32179143],\n",
       "         [0.10399069],\n",
       "         [0.10399069],\n",
       "         [0.77783434],\n",
       "         [0.77783434],\n",
       "         [0.30188378],\n",
       "         [0.30188378],\n",
       "         [0.42830095],\n",
       "         [0.42830095],\n",
       "         [0.79745367],\n",
       "         [0.79745367],\n",
       "         [0.24833782],\n",
       "         [0.24833782],\n",
       "         [0.65228853],\n",
       "         [0.65228853],\n",
       "         [0.59591046],\n",
       "         [0.59591046],\n",
       "         [0.19863621],\n",
       "         [0.19863621],\n",
       "         [0.2065104 ],\n",
       "         [0.2065104 ],\n",
       "         [0.0327373 ],\n",
       "         [0.0327373 ],\n",
       "         [0.74437346],\n",
       "         [0.74437346],\n",
       "         [0.56481369],\n",
       "         [0.56481369],\n",
       "         [0.93126355],\n",
       "         [0.93126355],\n",
       "         [0.25370579],\n",
       "         [0.25370579],\n",
       "         [0.69272151],\n",
       "         [0.69272151],\n",
       "         [0.65172457],\n",
       "         [0.65172457],\n",
       "         [0.78227923],\n",
       "         [0.78227923],\n",
       "         [0.75790447],\n",
       "         [0.75790447],\n",
       "         [0.82606497],\n",
       "         [0.82606497],\n",
       "         [0.94578026],\n",
       "         [0.94578026],\n",
       "         [0.01767277],\n",
       "         [0.01767277],\n",
       "         [0.07381583],\n",
       "         [0.07381583],\n",
       "         [0.5130963 ],\n",
       "         [0.5130963 ],\n",
       "         [0.00797126],\n",
       "         [0.00797126],\n",
       "         [0.0785558 ],\n",
       "         [0.0785558 ],\n",
       "         [0.98575013],\n",
       "         [0.98575013],\n",
       "         [0.31750131],\n",
       "         [0.31750131],\n",
       "         [0.80995899],\n",
       "         [0.80995899],\n",
       "         [0.22738169],\n",
       "         [0.22738169],\n",
       "         [0.99537498],\n",
       "         [0.99537498],\n",
       "         [0.59332438],\n",
       "         [0.59332438],\n",
       "         [0.48625712],\n",
       "         [0.48625712],\n",
       "         [0.11329866],\n",
       "         [0.11329866],\n",
       "         [0.67487407],\n",
       "         [0.67487407],\n",
       "         [0.04479821],\n",
       "         [0.04479821],\n",
       "         [0.19209622],\n",
       "         [0.19209622],\n",
       "         [0.69899781],\n",
       "         [0.69899781],\n",
       "         [0.11064867],\n",
       "         [0.11064867],\n",
       "         [0.26207395],\n",
       "         [0.26207395],\n",
       "         [0.22028879],\n",
       "         [0.22028879],\n",
       "         [0.9024842 ],\n",
       "         [0.9024842 ],\n",
       "         [0.97867795],\n",
       "         [0.97867795],\n",
       "         [0.49324442],\n",
       "         [0.49324442],\n",
       "         [0.52789733],\n",
       "         [0.52789733],\n",
       "         [0.99467154],\n",
       "         [0.99467154],\n",
       "         [0.4342657 ],\n",
       "         [0.4342657 ],\n",
       "         [0.27916608],\n",
       "         [0.27916608],\n",
       "         [0.05973755],\n",
       "         [0.05973755],\n",
       "         [0.76873804],\n",
       "         [0.76873804],\n",
       "         [0.27226618],\n",
       "         [0.27226618],\n",
       "         [0.14736357],\n",
       "         [0.14736357],\n",
       "         [0.30447543],\n",
       "         [0.30447543],\n",
       "         [0.94307224],\n",
       "         [0.94307224],\n",
       "         [0.75498549],\n",
       "         [0.75498549],\n",
       "         [0.47775257],\n",
       "         [0.47775257],\n",
       "         [0.85357402],\n",
       "         [0.85357402],\n",
       "         [0.40834784],\n",
       "         [0.40834784],\n",
       "         [0.13913823],\n",
       "         [0.13913823],\n",
       "         [0.35782098],\n",
       "         [0.35782098],\n",
       "         [0.84186888],\n",
       "         [0.84186888],\n",
       "         [0.18580241],\n",
       "         [0.18580241],\n",
       "         [0.92166783],\n",
       "         [0.92166783],\n",
       "         [0.28292583],\n",
       "         [0.28292583],\n",
       "         [0.68731406],\n",
       "         [0.68731406],\n",
       "         [0.6521468 ],\n",
       "         [0.6521468 ],\n",
       "         [0.53386599],\n",
       "         [0.53386599],\n",
       "         [0.83261517],\n",
       "         [0.83261517],\n",
       "         [0.84250262],\n",
       "         [0.84250262],\n",
       "         [0.97004169],\n",
       "         [0.97004169],\n",
       "         [0.50691778],\n",
       "         [0.50691778],\n",
       "         [0.4564531 ],\n",
       "         [0.4564531 ]])}}"
      ]
     },
     "execution_count": 1,
     "metadata": {},
     "output_type": "execute_result"
    }
   ],
   "source": [
    "ds = load_by_id(run_id_a)\n",
    "ds.get_parameter_data('x1')"
   ]
  },
  {
   "cell_type": "code",
   "execution_count": null,
   "metadata": {},
   "outputs": [],
   "source": []
  }
 ],
 "metadata": {
  "kernelspec": {
   "display_name": "Python 3",
   "language": "python",
   "name": "python3"
  },
  "language_info": {
   "codemirror_mode": {
    "name": "ipython",
    "version": 3
   },
   "file_extension": ".py",
   "mimetype": "text/x-python",
   "name": "python",
   "nbconvert_exporter": "python",
   "pygments_lexer": "ipython3",
   "version": "3.7.9"
  },
  "nbsphinx": {
   "timeout": 600
  },
  "toc": {
   "base_numbering": 1,
   "nav_menu": {},
   "number_sections": true,
   "sideBar": true,
   "skip_h1_title": false,
   "title_cell": "Table of Contents",
   "title_sidebar": "Contents",
   "toc_cell": false,
   "toc_position": {},
   "toc_section_display": true,
   "toc_window_display": false
  },
  "varInspector": {
   "cols": {
    "lenName": 16,
    "lenType": 16,
    "lenVar": 40
   },
   "kernels_config": {
    "python": {
     "delete_cmd_postfix": "",
     "delete_cmd_prefix": "del ",
     "library": "var_list.py",
     "varRefreshCmd": "print(var_dic_list())"
    },
    "r": {
     "delete_cmd_postfix": ") ",
     "delete_cmd_prefix": "rm(",
     "library": "var_list.r",
     "varRefreshCmd": "cat(var_dic_list()) "
    }
   },
   "types_to_exclude": [
    "module",
    "function",
    "builtin_function_or_method",
    "instance",
    "_Feature"
   ],
   "window_display": false
  }
 },
 "nbformat": 4,
 "nbformat_minor": 2
}
