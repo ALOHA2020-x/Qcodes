{
 "cells": [
  {
   "cell_type": "markdown",
   "metadata": {},
   "source": [
    "# DataSet Performance\n",
    "\n",
    "This notebook shows the trade-off between inserting data into a database row-by-row and as binary blobs. Inserting the data row-by-row means that we have direct access to all the data and may perform queries directly on the values of the data. On the other hand, as we shall see, this is much slower than inserting the data directly as binary blobs."
   ]
  },
  {
   "cell_type": "markdown",
   "metadata": {},
   "source": [
    "First, we choose a new location for the database to ensure that we don't add a bunch of benchmarking data to the default one."
   ]
  },
  {
   "cell_type": "code",
   "execution_count": 1,
   "metadata": {
    "execution": {
     "iopub.execute_input": "2021-01-21T07:24:46.687519Z",
     "iopub.status.busy": "2021-01-21T07:24:46.686987Z",
     "iopub.status.idle": "2021-01-21T07:24:47.690821Z",
     "shell.execute_reply": "2021-01-21T07:24:47.690230Z"
    }
   },
   "outputs": [
    {
     "name": "stdout",
     "output_type": "stream",
     "text": [
      "Logging hadn't been started.\n",
      "Activating auto-logging. Current session state plus future input saved.\n",
      "Filename       : /home/vsts/.qcodes/logs/command_history.log\n",
      "Mode           : append\n",
      "Output logging : True\n",
      "Raw input log  : False\n",
      "Timestamping   : True\n",
      "State          : active\n"
     ]
    },
    {
     "name": "stdout",
     "output_type": "stream",
     "text": [
      "Qcodes Logfile : /home/vsts/.qcodes/logs/210121-13928-qcodes.log\n"
     ]
    }
   ],
   "source": [
    "import os\n",
    "cwd = os.getcwd()\n",
    "import qcodes as qc\n",
    "qc.config[\"core\"][\"db_location\"] = os.path.join(cwd, 'testing.db')\n"
   ]
  },
  {
   "cell_type": "code",
   "execution_count": 2,
   "metadata": {
    "execution": {
     "iopub.execute_input": "2021-01-21T07:24:47.697798Z",
     "iopub.status.busy": "2021-01-21T07:24:47.696330Z",
     "iopub.status.idle": "2021-01-21T07:24:47.877693Z",
     "shell.execute_reply": "2021-01-21T07:24:47.876860Z"
    }
   },
   "outputs": [],
   "source": [
    "%matplotlib inline\n",
    "import time\n",
    "import matplotlib.pyplot as plt\n",
    "import numpy as np\n",
    "\n",
    "import qcodes as qc\n",
    "from qcodes.instrument.parameter import ManualParameter\n",
    "from qcodes.dataset.experiment_container import (Experiment,\n",
    "                                                 load_last_experiment,\n",
    "                                                 new_experiment)\n",
    "from qcodes.dataset.sqlite.database import initialise_database\n",
    "from qcodes import load_or_create_experiment\n",
    "from qcodes.dataset.measurements import Measurement"
   ]
  },
  {
   "cell_type": "code",
   "execution_count": 3,
   "metadata": {
    "execution": {
     "iopub.execute_input": "2021-01-21T07:24:47.882079Z",
     "iopub.status.busy": "2021-01-21T07:24:47.881370Z",
     "iopub.status.idle": "2021-01-21T07:24:47.993055Z",
     "shell.execute_reply": "2021-01-21T07:24:47.992584Z"
    }
   },
   "outputs": [
    {
     "name": "stdout",
     "output_type": "stream",
     "text": [
      "\r",
      "0it [00:00, ?it/s]"
     ]
    },
    {
     "name": "stdout",
     "output_type": "stream",
     "text": [
      "\r",
      "Upgrading database; v0 -> v1: : 0it [00:00, ?it/s]"
     ]
    },
    {
     "name": "stdout",
     "output_type": "stream",
     "text": [
      "\r",
      "Upgrading database; v0 -> v1: : 0it [00:00, ?it/s]"
     ]
    },
    {
     "name": "stdout",
     "output_type": "stream",
     "text": [
      "\n",
      "\r",
      "  0%|          | 0/1 [00:00<?, ?it/s]"
     ]
    },
    {
     "name": "stdout",
     "output_type": "stream",
     "text": [
      "\r",
      "Upgrading database; v1 -> v2:   0%|          | 0/1 [00:00<?, ?it/s]"
     ]
    },
    {
     "name": "stdout",
     "output_type": "stream",
     "text": [
      "\r",
      "Upgrading database; v1 -> v2: 100%|██████████| 1/1 [00:00<00:00, 1001.98it/s]"
     ]
    },
    {
     "name": "stdout",
     "output_type": "stream",
     "text": [
      "\n",
      "\r",
      "0it [00:00, ?it/s]"
     ]
    },
    {
     "name": "stdout",
     "output_type": "stream",
     "text": [
      "\r",
      "Upgrading database; v2 -> v3: : 0it [00:00, ?it/s]"
     ]
    },
    {
     "name": "stdout",
     "output_type": "stream",
     "text": [
      "\r",
      "Upgrading database; v2 -> v3: : 0it [00:00, ?it/s]"
     ]
    },
    {
     "name": "stdout",
     "output_type": "stream",
     "text": [
      "\n",
      "\r",
      "0it [00:00, ?it/s]"
     ]
    },
    {
     "name": "stdout",
     "output_type": "stream",
     "text": [
      "\r",
      "Upgrading database; v3 -> v4: : 0it [00:00, ?it/s]"
     ]
    },
    {
     "name": "stdout",
     "output_type": "stream",
     "text": [
      "\r",
      "Upgrading database; v3 -> v4: : 0it [00:00, ?it/s]"
     ]
    },
    {
     "name": "stdout",
     "output_type": "stream",
     "text": [
      "\n",
      "\r",
      "  0%|          | 0/1 [00:00<?, ?it/s]"
     ]
    },
    {
     "name": "stdout",
     "output_type": "stream",
     "text": [
      "\r",
      "Upgrading database; v4 -> v5:   0%|          | 0/1 [00:00<?, ?it/s]"
     ]
    },
    {
     "name": "stdout",
     "output_type": "stream",
     "text": [
      "\r",
      "Upgrading database; v4 -> v5: 100%|██████████| 1/1 [00:00<00:00, 457.69it/s]"
     ]
    },
    {
     "name": "stdout",
     "output_type": "stream",
     "text": [
      "\n",
      "\r",
      "0it [00:00, ?it/s]"
     ]
    },
    {
     "name": "stdout",
     "output_type": "stream",
     "text": [
      "\r",
      "Upgrading database; v5 -> v6: : 0it [00:00, ?it/s]"
     ]
    },
    {
     "name": "stdout",
     "output_type": "stream",
     "text": [
      "\r",
      "Upgrading database; v5 -> v6: : 0it [00:00, ?it/s]"
     ]
    },
    {
     "name": "stdout",
     "output_type": "stream",
     "text": [
      "\n",
      "\r",
      "  0%|          | 0/1 [00:00<?, ?it/s]"
     ]
    },
    {
     "name": "stdout",
     "output_type": "stream",
     "text": [
      "\r",
      "Upgrading database; v6 -> v7:   0%|          | 0/1 [00:00<?, ?it/s]"
     ]
    },
    {
     "name": "stdout",
     "output_type": "stream",
     "text": [
      "\r",
      "Upgrading database; v6 -> v7: 100%|██████████| 1/1 [00:00<00:00, 354.73it/s]"
     ]
    },
    {
     "name": "stdout",
     "output_type": "stream",
     "text": [
      "\n",
      "\r",
      "  0%|          | 0/1 [00:00<?, ?it/s]"
     ]
    },
    {
     "name": "stdout",
     "output_type": "stream",
     "text": [
      "\r",
      "Upgrading database; v7 -> v8:   0%|          | 0/1 [00:00<?, ?it/s]"
     ]
    },
    {
     "name": "stdout",
     "output_type": "stream",
     "text": [
      "\r",
      "Upgrading database; v7 -> v8: 100%|██████████| 1/1 [00:00<00:00, 361.77it/s]"
     ]
    },
    {
     "name": "stdout",
     "output_type": "stream",
     "text": [
      "\n",
      "\r",
      "  0%|          | 0/1 [00:00<?, ?it/s]"
     ]
    },
    {
     "name": "stdout",
     "output_type": "stream",
     "text": [
      "\r",
      "Upgrading database; v8 -> v9:   0%|          | 0/1 [00:00<?, ?it/s]"
     ]
    },
    {
     "name": "stdout",
     "output_type": "stream",
     "text": [
      "\r",
      "Upgrading database; v8 -> v9: 100%|██████████| 1/1 [00:00<00:00, 422.39it/s]"
     ]
    },
    {
     "name": "stdout",
     "output_type": "stream",
     "text": [
      "\n"
     ]
    }
   ],
   "source": [
    "initialise_database()\n",
    "exp = load_or_create_experiment(experiment_name='tutorial_exp', sample_name=\"no sample\")"
   ]
  },
  {
   "cell_type": "markdown",
   "metadata": {},
   "source": [
    "Here, we define a simple function to benchmark the time it takes to insert n points with either numeric or array data type.\n",
    "We will compare both the time used to call ``add_result`` and the time used for the full measurement."
   ]
  },
  {
   "cell_type": "code",
   "execution_count": 4,
   "metadata": {
    "execution": {
     "iopub.execute_input": "2021-01-21T07:24:47.999764Z",
     "iopub.status.busy": "2021-01-21T07:24:47.999268Z",
     "iopub.status.idle": "2021-01-21T07:24:48.002305Z",
     "shell.execute_reply": "2021-01-21T07:24:48.002758Z"
    }
   },
   "outputs": [],
   "source": [
    "def insert_data(paramtype, npoints, nreps=1):\n",
    "\n",
    "    meas = Measurement(exp=exp)\n",
    "\n",
    "    x1 = ManualParameter('x1')\n",
    "    x2 = ManualParameter('x2')\n",
    "    x3 = ManualParameter('x3')\n",
    "    y1 = ManualParameter('y1')\n",
    "    y2 = ManualParameter('y2')\n",
    "\n",
    "    meas.register_parameter(x1, paramtype=paramtype)\n",
    "    meas.register_parameter(x2, paramtype=paramtype)\n",
    "    meas.register_parameter(x3, paramtype=paramtype)\n",
    "    meas.register_parameter(y1, setpoints=[x1, x2, x3],\n",
    "                            paramtype=paramtype)\n",
    "    meas.register_parameter(y2, setpoints=[x1, x2, x3],\n",
    "                            paramtype=paramtype)\n",
    "    start = time.perf_counter()\n",
    "    with meas.run() as datasaver:\n",
    "        start_adding = time.perf_counter()\n",
    "        for i in range(nreps):\n",
    "            datasaver.add_result((x1, np.random.rand(npoints)),\n",
    "                                 (x2, np.random.rand(npoints)),\n",
    "                                 (x3, np.random.rand(npoints)),\n",
    "                                 (y1, np.random.rand(npoints)),\n",
    "                                 (y2, np.random.rand(npoints)))\n",
    "        stop_adding = time.perf_counter()\n",
    "        run_id = datasaver.run_id\n",
    "    stop = time.perf_counter()\n",
    "    tot_time = stop - start\n",
    "    add_time = stop_adding - start_adding\n",
    "    return tot_time, add_time, run_id"
   ]
  },
  {
   "cell_type": "markdown",
   "metadata": {},
   "source": [
    "## Comparison between numeric/array data and binary blob"
   ]
  },
  {
   "cell_type": "markdown",
   "metadata": {},
   "source": [
    "### Case1: Short experiment time"
   ]
  },
  {
   "cell_type": "code",
   "execution_count": 5,
   "metadata": {
    "execution": {
     "iopub.execute_input": "2021-01-21T07:24:48.009122Z",
     "iopub.status.busy": "2021-01-21T07:24:48.008549Z",
     "iopub.status.idle": "2021-01-21T07:24:48.832180Z",
     "shell.execute_reply": "2021-01-21T07:24:48.831682Z"
    }
   },
   "outputs": [
    {
     "name": "stdout",
     "output_type": "stream",
     "text": [
      "Starting experimental run with id: 1. \n",
      "Starting experimental run with id: 2. \n",
      "Starting experimental run with id: 3. \n",
      "Starting experimental run with id: 4. \n",
      "Starting experimental run with id: 5. \n"
     ]
    },
    {
     "name": "stdout",
     "output_type": "stream",
     "text": [
      "Starting experimental run with id: 6. \n"
     ]
    },
    {
     "name": "stdout",
     "output_type": "stream",
     "text": [
      "Starting experimental run with id: 7. \n"
     ]
    },
    {
     "name": "stdout",
     "output_type": "stream",
     "text": [
      "Starting experimental run with id: 8. \n",
      "Starting experimental run with id: 9. \n"
     ]
    },
    {
     "name": "stdout",
     "output_type": "stream",
     "text": [
      "Starting experimental run with id: 10. \n",
      "Starting experimental run with id: 11. \n"
     ]
    },
    {
     "name": "stdout",
     "output_type": "stream",
     "text": [
      "Starting experimental run with id: 12. \n",
      "Starting experimental run with id: 13. \n"
     ]
    },
    {
     "name": "stdout",
     "output_type": "stream",
     "text": [
      "Starting experimental run with id: 14. \n"
     ]
    }
   ],
   "source": [
    "sizes = [1,500,1000,2000,3000,4000,5000]\n",
    "t_numeric = []\n",
    "t_numeric_add = []\n",
    "t_array = []\n",
    "t_array_add = []\n",
    "for size in sizes:\n",
    "    tn, tna, run_id_n =  insert_data('numeric', size)\n",
    "    t_numeric.append(tn)\n",
    "    t_numeric_add.append(tna)\n",
    "\n",
    "    ta, taa, run_id_a =  insert_data('array', size)\n",
    "    t_array.append(ta)\n",
    "    t_array_add.append(taa)"
   ]
  },
  {
   "cell_type": "code",
   "execution_count": 6,
   "metadata": {
    "execution": {
     "iopub.execute_input": "2021-01-21T07:24:48.849351Z",
     "iopub.status.busy": "2021-01-21T07:24:48.848804Z",
     "iopub.status.idle": "2021-01-21T07:24:49.024695Z",
     "shell.execute_reply": "2021-01-21T07:24:49.024243Z"
    }
   },
   "outputs": [
    {
     "data": {
      "image/png": "[encoded data removed]",
      "text/plain": [
       "<Figure size 432x288 with 1 Axes>"
      ]
     },
     "metadata": {
      "needs_background": "light"
     },
     "output_type": "display_data"
    }
   ],
   "source": [
    "fig, ax = plt.subplots(1,1)\n",
    "ax.plot(sizes, t_numeric, 'o-', label='Inserting row-by-row')\n",
    "ax.plot(sizes, t_numeric_add, 'o-', label='Inserting row-by-row: add_result only')\n",
    "ax.plot(sizes, t_array, 'd-', label='Inserting as binary blob')\n",
    "ax.plot(sizes, t_array_add, 'd-', label='Inserting as binary blob: add_result only')\n",
    "ax.legend()\n",
    "ax.set_xlabel('Array length')\n",
    "ax.set_ylabel('Time (s)')\n",
    "fig.tight_layout()"
   ]
  },
  {
   "cell_type": "markdown",
   "metadata": {},
   "source": [
    "As shown in the latter figure, the time to setup and and close the experiment is approximately 0.4 sec. In case of small array sizes, the difference between inserting values of data as arrays and inserting them row-by-row is relatively unimportant. At larger array sizes, i.e. above 10000 points, the cost of writing data as individual datapoints starts to become important.\n"
   ]
  },
  {
   "cell_type": "markdown",
   "metadata": {},
   "source": [
    "### Case2: Long experiment time "
   ]
  },
  {
   "cell_type": "code",
   "execution_count": 7,
   "metadata": {
    "execution": {
     "iopub.execute_input": "2021-01-21T07:24:49.030075Z",
     "iopub.status.busy": "2021-01-21T07:24:49.028789Z",
     "iopub.status.idle": "2021-01-21T07:25:46.687781Z",
     "shell.execute_reply": "2021-01-21T07:25:46.688560Z"
    }
   },
   "outputs": [
    {
     "name": "stdout",
     "output_type": "stream",
     "text": [
      "Starting experimental run with id: 15. \n",
      "Starting experimental run with id: 16. \n",
      "Starting experimental run with id: 17. \n"
     ]
    },
    {
     "name": "stdout",
     "output_type": "stream",
     "text": [
      "Starting experimental run with id: 18. \n",
      "Starting experimental run with id: 19. \n"
     ]
    },
    {
     "name": "stdout",
     "output_type": "stream",
     "text": [
      "Starting experimental run with id: 20. \n"
     ]
    },
    {
     "name": "stdout",
     "output_type": "stream",
     "text": [
      "Starting experimental run with id: 21. \n"
     ]
    },
    {
     "name": "stdout",
     "output_type": "stream",
     "text": [
      "Starting experimental run with id: 22. \n"
     ]
    },
    {
     "name": "stdout",
     "output_type": "stream",
     "text": [
      "Starting experimental run with id: 23. \n"
     ]
    },
    {
     "name": "stdout",
     "output_type": "stream",
     "text": [
      "Starting experimental run with id: 24. \n"
     ]
    },
    {
     "name": "stdout",
     "output_type": "stream",
     "text": [
      "Starting experimental run with id: 25. \n"
     ]
    },
    {
     "name": "stdout",
     "output_type": "stream",
     "text": [
      "Starting experimental run with id: 26. \n"
     ]
    },
    {
     "name": "stdout",
     "output_type": "stream",
     "text": [
      "Starting experimental run with id: 27. \n"
     ]
    },
    {
     "name": "stdout",
     "output_type": "stream",
     "text": [
      "Starting experimental run with id: 28. \n"
     ]
    }
   ],
   "source": [
    "sizes = [1,500,1000,2000,3000,4000,5000]\n",
    "nreps = 100\n",
    "t_numeric = []\n",
    "t_numeric_add = []\n",
    "t_numeric_run_ids = []\n",
    "t_array = []\n",
    "t_array_add = []\n",
    "t_array_run_ids = []\n",
    "for size in sizes:\n",
    "    tn, tna, run_id_n =  insert_data('numeric', size, nreps=nreps)\n",
    "    t_numeric.append(tn)\n",
    "    t_numeric_add.append(tna)\n",
    "    t_numeric_run_ids.append(run_id_n)\n",
    "\n",
    "    ta, taa, run_id_a =  insert_data('array', size, nreps=nreps)\n",
    "    t_array.append(ta)\n",
    "    t_array_add.append(taa)\n",
    "    t_array_run_ids.append(run_id_a)"
   ]
  },
  {
   "cell_type": "code",
   "execution_count": 8,
   "metadata": {
    "execution": {
     "iopub.execute_input": "2021-01-21T07:25:46.716059Z",
     "iopub.status.busy": "2021-01-21T07:25:46.712830Z",
     "iopub.status.idle": "2021-01-21T07:25:46.876883Z",
     "shell.execute_reply": "2021-01-21T07:25:46.877411Z"
    },
    "scrolled": true
   },
   "outputs": [
    {
     "data": {
      "image/png": "[encoded data removed]",
      "text/plain": [
       "<Figure size 432x288 with 1 Axes>"
      ]
     },
     "metadata": {
      "needs_background": "light"
     },
     "output_type": "display_data"
    }
   ],
   "source": [
    "fig, ax = plt.subplots(1,1)\n",
    "ax.plot(sizes, t_numeric, 'o-', label='Inserting row-by-row')\n",
    "ax.plot(sizes, t_numeric_add, 'o-', label='Inserting row-by-row: add_result only')\n",
    "ax.plot(sizes, t_array, 'd-', label='Inserting as binary blob')\n",
    "ax.plot(sizes, t_array_add, 'd-', label='Inserting as binary blob: add_result only')\n",
    "ax.legend()\n",
    "ax.set_xlabel('Array length')\n",
    "ax.set_ylabel('Time (s)')\n",
    "fig.tight_layout()"
   ]
  },
  {
   "cell_type": "markdown",
   "metadata": {},
   "source": [
    "However, as we increase the length of the experiment, as seen here by repeating the insertion 100 times, we see a big difference between inserting values of the data row-by-row and inserting it as a binary blob."
   ]
  },
  {
   "cell_type": "markdown",
   "metadata": {},
   "source": [
    "## Loading the data "
   ]
  },
  {
   "cell_type": "code",
   "execution_count": 9,
   "metadata": {
    "execution": {
     "iopub.execute_input": "2021-01-21T07:25:46.879895Z",
     "iopub.status.busy": "2021-01-21T07:25:46.879383Z",
     "iopub.status.idle": "2021-01-21T07:25:46.882770Z",
     "shell.execute_reply": "2021-01-21T07:25:46.883295Z"
    }
   },
   "outputs": [],
   "source": [
    "from qcodes.dataset.data_set import load_by_id\n",
    "from qcodes.dataset.data_export import get_data_by_id"
   ]
  },
  {
   "cell_type": "markdown",
   "metadata": {},
   "source": [
    "As usual you can load the data by using the ``load_by_id`` function but you will notice that the different storage methods\n",
    "are reflected in shape of the data as it is retrieved. "
   ]
  },
  {
   "cell_type": "code",
   "execution_count": 10,
   "metadata": {
    "execution": {
     "iopub.execute_input": "2021-01-21T07:25:46.885613Z",
     "iopub.status.busy": "2021-01-21T07:25:46.885088Z",
     "iopub.status.idle": "2021-01-21T07:25:46.888590Z",
     "shell.execute_reply": "2021-01-21T07:25:46.888135Z"
    }
   },
   "outputs": [],
   "source": [
    "run_id_n = t_numeric_run_ids[0]\n",
    "run_id_a = t_array_run_ids[0]"
   ]
  },
  {
   "cell_type": "code",
   "execution_count": 11,
   "metadata": {
    "execution": {
     "iopub.execute_input": "2021-01-21T07:25:46.891704Z",
     "iopub.status.busy": "2021-01-21T07:25:46.891189Z",
     "iopub.status.idle": "2021-01-21T07:25:46.899736Z",
     "shell.execute_reply": "2021-01-21T07:25:46.900266Z"
    },
    "scrolled": true
   },
   "outputs": [
    {
     "data": {
      "text/plain": [
       "{'x1': {'x1': array([0.65854671, 0.65854671, 0.27442052, 0.27442052, 0.9596498 ,\n",
       "         0.9596498 , 0.22233473, 0.22233473, 0.41573458, 0.41573458,\n",
       "         0.94281226, 0.94281226, 0.75909946, 0.75909946, 0.10840867,\n",
       "         0.10840867, 0.71768408, 0.71768408, 0.39791183, 0.39791183,\n",
       "         0.02497341, 0.02497341, 0.88909857, 0.88909857, 0.42656509,\n",
       "         0.42656509, 0.6960835 , 0.6960835 , 0.95708033, 0.95708033,\n",
       "         0.1948011 , 0.1948011 , 0.50120511, 0.50120511, 0.13479441,\n",
       "         0.13479441, 0.52145263, 0.52145263, 0.06343961, 0.06343961,\n",
       "         0.21465148, 0.21465148, 0.21951668, 0.21951668, 0.77742211,\n",
       "         0.77742211, 0.33742057, 0.33742057, 0.46334872, 0.46334872,\n",
       "         0.49334285, 0.49334285, 0.94716375, 0.94716375, 0.23983715,\n",
       "         0.23983715, 0.02689837, 0.02689837, 0.97074674, 0.97074674,\n",
       "         0.19784105, 0.19784105, 0.15875625, 0.15875625, 0.29443242,\n",
       "         0.29443242, 0.67126708, 0.67126708, 0.36461395, 0.36461395,\n",
       "         0.8223437 , 0.8223437 , 0.61179324, 0.61179324, 0.19180735,\n",
       "         0.19180735, 0.84745423, 0.84745423, 0.4805281 , 0.4805281 ,\n",
       "         0.32491618, 0.32491618, 0.63074967, 0.63074967, 0.93224459,\n",
       "         0.93224459, 0.20183306, 0.20183306, 0.29009274, 0.29009274,\n",
       "         0.9148078 , 0.9148078 , 0.98776245, 0.98776245, 0.96770113,\n",
       "         0.96770113, 0.44062894, 0.44062894, 0.22234077, 0.22234077,\n",
       "         0.44956026, 0.44956026, 0.01973185, 0.01973185, 0.84817838,\n",
       "         0.84817838, 0.87582671, 0.87582671, 0.06797841, 0.06797841,\n",
       "         0.42481705, 0.42481705, 0.26744682, 0.26744682, 0.40746937,\n",
       "         0.40746937, 0.50440637, 0.50440637, 0.83763474, 0.83763474,\n",
       "         0.46019763, 0.46019763, 0.61693079, 0.61693079, 0.03270191,\n",
       "         0.03270191, 0.56986122, 0.56986122, 0.11336143, 0.11336143,\n",
       "         0.43313844, 0.43313844, 0.59109033, 0.59109033, 0.31132126,\n",
       "         0.31132126, 0.3939308 , 0.3939308 , 0.62421646, 0.62421646,\n",
       "         0.84997022, 0.84997022, 0.60404735, 0.60404735, 0.79423522,\n",
       "         0.79423522, 0.99091462, 0.99091462, 0.89274378, 0.89274378,\n",
       "         0.96862364, 0.96862364, 0.9146819 , 0.9146819 , 0.98053736,\n",
       "         0.98053736, 0.46145152, 0.46145152, 0.95192538, 0.95192538,\n",
       "         0.21136161, 0.21136161, 0.18245424, 0.18245424, 0.44161744,\n",
       "         0.44161744, 0.18992612, 0.18992612, 0.01039078, 0.01039078,\n",
       "         0.22740816, 0.22740816, 0.51763322, 0.51763322, 0.86113068,\n",
       "         0.86113068, 0.47782192, 0.47782192, 0.54932493, 0.54932493,\n",
       "         0.6354151 , 0.6354151 , 0.73215692, 0.73215692, 0.66953835,\n",
       "         0.66953835, 0.30530005, 0.30530005, 0.87634177, 0.87634177,\n",
       "         0.18197956, 0.18197956, 0.85908012, 0.85908012, 0.15398528,\n",
       "         0.15398528, 0.1739619 , 0.1739619 , 0.57650355, 0.57650355])}}"
      ]
     },
     "execution_count": 1,
     "metadata": {},
     "output_type": "execute_result"
    }
   ],
   "source": [
    "ds = load_by_id(run_id_n)\n",
    "ds.get_parameter_data('x1')"
   ]
  },
  {
   "cell_type": "markdown",
   "metadata": {},
   "source": [
    "And a dataset stored as binary arrays"
   ]
  },
  {
   "cell_type": "code",
   "execution_count": 12,
   "metadata": {
    "execution": {
     "iopub.execute_input": "2021-01-21T07:25:46.903492Z",
     "iopub.status.busy": "2021-01-21T07:25:46.903019Z",
     "iopub.status.idle": "2021-01-21T07:25:46.954267Z",
     "shell.execute_reply": "2021-01-21T07:25:46.954791Z"
    },
    "scrolled": true
   },
   "outputs": [
    {
     "data": {
      "text/plain": [
       "{'x1': {'x1': array([[0.79337915],\n",
       "         [0.79337915],\n",
       "         [0.10893851],\n",
       "         [0.10893851],\n",
       "         [0.57662475],\n",
       "         [0.57662475],\n",
       "         [0.00289858],\n",
       "         [0.00289858],\n",
       "         [0.60597184],\n",
       "         [0.60597184],\n",
       "         [0.1132087 ],\n",
       "         [0.1132087 ],\n",
       "         [0.87998806],\n",
       "         [0.87998806],\n",
       "         [0.94039558],\n",
       "         [0.94039558],\n",
       "         [0.42215922],\n",
       "         [0.42215922],\n",
       "         [0.50735361],\n",
       "         [0.50735361],\n",
       "         [0.61021524],\n",
       "         [0.61021524],\n",
       "         [0.08764972],\n",
       "         [0.08764972],\n",
       "         [0.97501108],\n",
       "         [0.97501108],\n",
       "         [0.57846751],\n",
       "         [0.57846751],\n",
       "         [0.89535839],\n",
       "         [0.89535839],\n",
       "         [0.50369987],\n",
       "         [0.50369987],\n",
       "         [0.47843536],\n",
       "         [0.47843536],\n",
       "         [0.83424763],\n",
       "         [0.83424763],\n",
       "         [0.48979794],\n",
       "         [0.48979794],\n",
       "         [0.71742327],\n",
       "         [0.71742327],\n",
       "         [0.20376016],\n",
       "         [0.20376016],\n",
       "         [0.76250447],\n",
       "         [0.76250447],\n",
       "         [0.54812337],\n",
       "         [0.54812337],\n",
       "         [0.20928062],\n",
       "         [0.20928062],\n",
       "         [0.96587917],\n",
       "         [0.96587917],\n",
       "         [0.18980272],\n",
       "         [0.18980272],\n",
       "         [0.69153577],\n",
       "         [0.69153577],\n",
       "         [0.60911727],\n",
       "         [0.60911727],\n",
       "         [0.80998017],\n",
       "         [0.80998017],\n",
       "         [0.98183882],\n",
       "         [0.98183882],\n",
       "         [0.61949716],\n",
       "         [0.61949716],\n",
       "         [0.1167598 ],\n",
       "         [0.1167598 ],\n",
       "         [0.32426007],\n",
       "         [0.32426007],\n",
       "         [0.95441519],\n",
       "         [0.95441519],\n",
       "         [0.64543393],\n",
       "         [0.64543393],\n",
       "         [0.26507327],\n",
       "         [0.26507327],\n",
       "         [0.81974321],\n",
       "         [0.81974321],\n",
       "         [0.01917014],\n",
       "         [0.01917014],\n",
       "         [0.08217206],\n",
       "         [0.08217206],\n",
       "         [0.23424666],\n",
       "         [0.23424666],\n",
       "         [0.23340984],\n",
       "         [0.23340984],\n",
       "         [0.47678388],\n",
       "         [0.47678388],\n",
       "         [0.96321116],\n",
       "         [0.96321116],\n",
       "         [0.5513008 ],\n",
       "         [0.5513008 ],\n",
       "         [0.8920534 ],\n",
       "         [0.8920534 ],\n",
       "         [0.55348907],\n",
       "         [0.55348907],\n",
       "         [0.82844054],\n",
       "         [0.82844054],\n",
       "         [0.81703603],\n",
       "         [0.81703603],\n",
       "         [0.96419918],\n",
       "         [0.96419918],\n",
       "         [0.89864306],\n",
       "         [0.89864306],\n",
       "         [0.44753385],\n",
       "         [0.44753385],\n",
       "         [0.57332037],\n",
       "         [0.57332037],\n",
       "         [0.24086206],\n",
       "         [0.24086206],\n",
       "         [0.32283741],\n",
       "         [0.32283741],\n",
       "         [0.94285729],\n",
       "         [0.94285729],\n",
       "         [0.86197238],\n",
       "         [0.86197238],\n",
       "         [0.81169322],\n",
       "         [0.81169322],\n",
       "         [0.88637064],\n",
       "         [0.88637064],\n",
       "         [0.22205744],\n",
       "         [0.22205744],\n",
       "         [0.82587359],\n",
       "         [0.82587359],\n",
       "         [0.60552461],\n",
       "         [0.60552461],\n",
       "         [0.38488627],\n",
       "         [0.38488627],\n",
       "         [0.56525392],\n",
       "         [0.56525392],\n",
       "         [0.09667972],\n",
       "         [0.09667972],\n",
       "         [0.45410674],\n",
       "         [0.45410674],\n",
       "         [0.50546651],\n",
       "         [0.50546651],\n",
       "         [0.17953639],\n",
       "         [0.17953639],\n",
       "         [0.16506555],\n",
       "         [0.16506555],\n",
       "         [0.91779006],\n",
       "         [0.91779006],\n",
       "         [0.09380952],\n",
       "         [0.09380952],\n",
       "         [0.1887493 ],\n",
       "         [0.1887493 ],\n",
       "         [0.33135029],\n",
       "         [0.33135029],\n",
       "         [0.11285578],\n",
       "         [0.11285578],\n",
       "         [0.08100145],\n",
       "         [0.08100145],\n",
       "         [0.73043364],\n",
       "         [0.73043364],\n",
       "         [0.74737582],\n",
       "         [0.74737582],\n",
       "         [0.90873369],\n",
       "         [0.90873369],\n",
       "         [0.27401496],\n",
       "         [0.27401496],\n",
       "         [0.67493266],\n",
       "         [0.67493266],\n",
       "         [0.40914688],\n",
       "         [0.40914688],\n",
       "         [0.86277135],\n",
       "         [0.86277135],\n",
       "         [0.10059703],\n",
       "         [0.10059703],\n",
       "         [0.36870388],\n",
       "         [0.36870388],\n",
       "         [0.37654582],\n",
       "         [0.37654582],\n",
       "         [0.95292446],\n",
       "         [0.95292446],\n",
       "         [0.77115876],\n",
       "         [0.77115876],\n",
       "         [0.91647094],\n",
       "         [0.91647094],\n",
       "         [0.29137884],\n",
       "         [0.29137884],\n",
       "         [0.83763827],\n",
       "         [0.83763827],\n",
       "         [0.01094414],\n",
       "         [0.01094414],\n",
       "         [0.37619328],\n",
       "         [0.37619328],\n",
       "         [0.22030231],\n",
       "         [0.22030231],\n",
       "         [0.15740812],\n",
       "         [0.15740812],\n",
       "         [0.03186382],\n",
       "         [0.03186382],\n",
       "         [0.49210045],\n",
       "         [0.49210045],\n",
       "         [0.75057871],\n",
       "         [0.75057871],\n",
       "         [0.56754925],\n",
       "         [0.56754925],\n",
       "         [0.98567097],\n",
       "         [0.98567097],\n",
       "         [0.27461819],\n",
       "         [0.27461819],\n",
       "         [0.26611117],\n",
       "         [0.26611117]])}}"
      ]
     },
     "execution_count": 1,
     "metadata": {},
     "output_type": "execute_result"
    }
   ],
   "source": [
    "ds = load_by_id(run_id_a)\n",
    "ds.get_parameter_data('x1')"
   ]
  },
  {
   "cell_type": "code",
   "execution_count": null,
   "metadata": {},
   "outputs": [],
   "source": []
  }
 ],
 "metadata": {
  "kernelspec": {
   "display_name": "Python 3",
   "language": "python",
   "name": "python3"
  },
  "language_info": {
   "codemirror_mode": {
    "name": "ipython",
    "version": 3
   },
   "file_extension": ".py",
   "mimetype": "text/x-python",
   "name": "python",
   "nbconvert_exporter": "python",
   "pygments_lexer": "ipython3",
   "version": "3.7.9"
  },
  "nbsphinx": {
   "timeout": 600
  },
  "toc": {
   "base_numbering": 1,
   "nav_menu": {},
   "number_sections": true,
   "sideBar": true,
   "skip_h1_title": false,
   "title_cell": "Table of Contents",
   "title_sidebar": "Contents",
   "toc_cell": false,
   "toc_position": {},
   "toc_section_display": true,
   "toc_window_display": false
  },
  "varInspector": {
   "cols": {
    "lenName": 16,
    "lenType": 16,
    "lenVar": 40
   },
   "kernels_config": {
    "python": {
     "delete_cmd_postfix": "",
     "delete_cmd_prefix": "del ",
     "library": "var_list.py",
     "varRefreshCmd": "print(var_dic_list())"
    },
    "r": {
     "delete_cmd_postfix": ") ",
     "delete_cmd_prefix": "rm(",
     "library": "var_list.r",
     "varRefreshCmd": "cat(var_dic_list()) "
    }
   },
   "types_to_exclude": [
    "module",
    "function",
    "builtin_function_or_method",
    "instance",
    "_Feature"
   ],
   "window_display": false
  }
 },
 "nbformat": 4,
 "nbformat_minor": 2
}
