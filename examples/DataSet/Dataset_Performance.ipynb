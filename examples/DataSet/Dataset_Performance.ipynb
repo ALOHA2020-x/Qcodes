{
 "cells": [
  {
   "cell_type": "markdown",
   "metadata": {},
   "source": [
    "# DataSet Performance\n",
    "\n",
    "This notebook shows the trade-off between inserting data into a database row-by-row and as binary blobs. Inserting the data row-by-row means that we have direct access to all the data and may perform queries directly on the values of the data. On the other hand, as we shall see, this is much slower than inserting the data directly as binary blobs."
   ]
  },
  {
   "cell_type": "markdown",
   "metadata": {},
   "source": [
    "First, we choose a new location for the database to ensure that we don't add a bunch of benchmarking data to the default one."
   ]
  },
  {
   "cell_type": "code",
   "execution_count": 1,
   "metadata": {},
   "outputs": [
    {
     "name": "stdout",
     "output_type": "stream",
     "text": [
      "Logging hadn't been started.\n",
      "Activating auto-logging. Current session state plus future input saved.\n",
      "Filename       : /home/vsts/.qcodes/logs/command_history.log\n",
      "Mode           : append\n",
      "Output logging : True\n",
      "Raw input log  : False\n",
      "Timestamping   : True\n",
      "State          : active\n"
     ]
    },
    {
     "name": "stdout",
     "output_type": "stream",
     "text": [
      "Qcodes Logfile : /home/vsts/.qcodes/logs/200617-19948-qcodes.log\n"
     ]
    }
   ],
   "source": [
    "import os\n",
    "cwd = os.getcwd()\n",
    "import qcodes as qc\n",
    "qc.config[\"core\"][\"db_location\"] = os.path.join(cwd, 'testing.db')\n"
   ]
  },
  {
   "cell_type": "code",
   "execution_count": 2,
   "metadata": {},
   "outputs": [],
   "source": [
    "%matplotlib inline\n",
    "import time\n",
    "import matplotlib.pyplot as plt\n",
    "import numpy as np\n",
    "\n",
    "import qcodes as qc\n",
    "from qcodes.instrument.parameter import ManualParameter\n",
    "from qcodes.dataset.experiment_container import (Experiment,\n",
    "                                                 load_last_experiment,\n",
    "                                                 new_experiment)\n",
    "from qcodes.dataset.sqlite.database import initialise_database\n",
    "from qcodes import load_or_create_experiment\n",
    "from qcodes.dataset.measurements import Measurement"
   ]
  },
  {
   "cell_type": "code",
   "execution_count": 3,
   "metadata": {},
   "outputs": [
    {
     "name": "stdout",
     "output_type": "stream",
     "text": [
      "\r",
      "0it [00:00, ?it/s]"
     ]
    },
    {
     "name": "stdout",
     "output_type": "stream",
     "text": [
      "\r",
      "Upgrading database; v0 -> v1: : 0it [00:00, ?it/s]"
     ]
    },
    {
     "name": "stdout",
     "output_type": "stream",
     "text": [
      "\r",
      "Upgrading database; v0 -> v1: : 0it [00:00, ?it/s]"
     ]
    },
    {
     "name": "stdout",
     "output_type": "stream",
     "text": [
      "\n",
      "\r",
      "  0%|          | 0/1 [00:00<?, ?it/s]"
     ]
    },
    {
     "name": "stdout",
     "output_type": "stream",
     "text": [
      "\r",
      "Upgrading database; v1 -> v2:   0%|          | 0/1 [00:00<?, ?it/s]"
     ]
    },
    {
     "name": "stdout",
     "output_type": "stream",
     "text": [
      "\r",
      "Upgrading database; v1 -> v2: 100%|██████████| 1/1 [00:00<00:00, 936.02it/s]"
     ]
    },
    {
     "name": "stdout",
     "output_type": "stream",
     "text": [
      "\n",
      "\r",
      "0it [00:00, ?it/s]"
     ]
    },
    {
     "name": "stdout",
     "output_type": "stream",
     "text": [
      "\r",
      "Upgrading database; v2 -> v3: : 0it [00:00, ?it/s]"
     ]
    },
    {
     "name": "stdout",
     "output_type": "stream",
     "text": [
      "\r",
      "Upgrading database; v2 -> v3: : 0it [00:00, ?it/s]"
     ]
    },
    {
     "name": "stdout",
     "output_type": "stream",
     "text": [
      "\n",
      "\r",
      "0it [00:00, ?it/s]"
     ]
    },
    {
     "name": "stdout",
     "output_type": "stream",
     "text": [
      "\r",
      "Upgrading database; v3 -> v4: : 0it [00:00, ?it/s]"
     ]
    },
    {
     "name": "stdout",
     "output_type": "stream",
     "text": [
      "\r",
      "Upgrading database; v3 -> v4: : 0it [00:00, ?it/s]"
     ]
    },
    {
     "name": "stdout",
     "output_type": "stream",
     "text": [
      "\n",
      "\r",
      "  0%|          | 0/1 [00:00<?, ?it/s]"
     ]
    },
    {
     "name": "stdout",
     "output_type": "stream",
     "text": [
      "\r",
      "Upgrading database; v4 -> v5:   0%|          | 0/1 [00:00<?, ?it/s]"
     ]
    },
    {
     "name": "stdout",
     "output_type": "stream",
     "text": [
      "\r",
      "Upgrading database; v4 -> v5: 100%|██████████| 1/1 [00:00<00:00, 890.51it/s]"
     ]
    },
    {
     "name": "stdout",
     "output_type": "stream",
     "text": [
      "\n",
      "\r",
      "0it [00:00, ?it/s]"
     ]
    },
    {
     "name": "stdout",
     "output_type": "stream",
     "text": [
      "\r",
      "Upgrading database; v5 -> v6: : 0it [00:00, ?it/s]"
     ]
    },
    {
     "name": "stdout",
     "output_type": "stream",
     "text": [
      "\r",
      "Upgrading database; v5 -> v6: : 0it [00:00, ?it/s]"
     ]
    },
    {
     "name": "stdout",
     "output_type": "stream",
     "text": [
      "\n",
      "\r",
      "  0%|          | 0/1 [00:00<?, ?it/s]"
     ]
    },
    {
     "name": "stdout",
     "output_type": "stream",
     "text": [
      "\r",
      "Upgrading database; v6 -> v7:   0%|          | 0/1 [00:00<?, ?it/s]"
     ]
    },
    {
     "name": "stdout",
     "output_type": "stream",
     "text": [
      "\r",
      "Upgrading database; v6 -> v7: 100%|██████████| 1/1 [00:00<00:00, 454.72it/s]"
     ]
    },
    {
     "name": "stdout",
     "output_type": "stream",
     "text": [
      "\n",
      "\r",
      "  0%|          | 0/1 [00:00<?, ?it/s]"
     ]
    },
    {
     "name": "stdout",
     "output_type": "stream",
     "text": [
      "\r",
      "Upgrading database; v7 -> v8:   0%|          | 0/1 [00:00<?, ?it/s]"
     ]
    },
    {
     "name": "stdout",
     "output_type": "stream",
     "text": [
      "\r",
      "Upgrading database; v7 -> v8: 100%|██████████| 1/1 [00:00<00:00, 903.36it/s]"
     ]
    },
    {
     "name": "stdout",
     "output_type": "stream",
     "text": [
      "\n",
      "\r",
      "  0%|          | 0/1 [00:00<?, ?it/s]"
     ]
    },
    {
     "name": "stdout",
     "output_type": "stream",
     "text": [
      "\r",
      "Upgrading database; v8 -> v9:   0%|          | 0/1 [00:00<?, ?it/s]"
     ]
    },
    {
     "name": "stdout",
     "output_type": "stream",
     "text": [
      "\r",
      "Upgrading database; v8 -> v9: 100%|██████████| 1/1 [00:00<00:00, 910.82it/s]"
     ]
    },
    {
     "name": "stdout",
     "output_type": "stream",
     "text": [
      "\n"
     ]
    }
   ],
   "source": [
    "initialise_database()\n",
    "exp = load_or_create_experiment(experiment_name='tutorial_exp', sample_name=\"no sample\")"
   ]
  },
  {
   "cell_type": "markdown",
   "metadata": {},
   "source": [
    "Here, we define a simple function to benchmark the time it takes to insert n points with either numeric or array data type.\n",
    "We will compare both the time used to call ``add_result`` and the time used for the full measurement."
   ]
  },
  {
   "cell_type": "code",
   "execution_count": 4,
   "metadata": {},
   "outputs": [],
   "source": [
    "def insert_data(paramtype, npoints, nreps=1):\n",
    "\n",
    "    meas = Measurement(exp=exp)\n",
    "\n",
    "    x1 = ManualParameter('x1')\n",
    "    x2 = ManualParameter('x2')\n",
    "    x3 = ManualParameter('x3')\n",
    "    y1 = ManualParameter('y1')\n",
    "    y2 = ManualParameter('y2')\n",
    "\n",
    "    meas.register_parameter(x1, paramtype=paramtype)\n",
    "    meas.register_parameter(x2, paramtype=paramtype)\n",
    "    meas.register_parameter(x3, paramtype=paramtype)\n",
    "    meas.register_parameter(y1, setpoints=[x1, x2, x3],\n",
    "                            paramtype=paramtype)\n",
    "    meas.register_parameter(y2, setpoints=[x1, x2, x3],\n",
    "                            paramtype=paramtype)\n",
    "    start = time.perf_counter()\n",
    "    with meas.run() as datasaver:\n",
    "        start_adding = time.perf_counter()\n",
    "        for i in range(nreps):\n",
    "            datasaver.add_result((x1, np.random.rand(npoints)),\n",
    "                                 (x2, np.random.rand(npoints)),\n",
    "                                 (x3, np.random.rand(npoints)),\n",
    "                                 (y1, np.random.rand(npoints)),\n",
    "                                 (y2, np.random.rand(npoints)))\n",
    "        stop_adding = time.perf_counter()\n",
    "        run_id = datasaver.run_id\n",
    "    stop = time.perf_counter()\n",
    "    tot_time = stop - start\n",
    "    add_time = stop_adding - start_adding\n",
    "    return tot_time, add_time, run_id"
   ]
  },
  {
   "cell_type": "markdown",
   "metadata": {},
   "source": [
    "## Comparison between numeric/array data and binary blob"
   ]
  },
  {
   "cell_type": "markdown",
   "metadata": {},
   "source": [
    "### Case1: Short experiment time"
   ]
  },
  {
   "cell_type": "code",
   "execution_count": 5,
   "metadata": {},
   "outputs": [
    {
     "name": "stdout",
     "output_type": "stream",
     "text": [
      "Starting experimental run with id: 1. \n",
      "Starting experimental run with id: 2. \n",
      "Starting experimental run with id: 3. \n",
      "Starting experimental run with id: 4. \n",
      "Starting experimental run with id: 5. \n"
     ]
    },
    {
     "name": "stdout",
     "output_type": "stream",
     "text": [
      "Starting experimental run with id: 6. \n"
     ]
    },
    {
     "name": "stdout",
     "output_type": "stream",
     "text": [
      "Starting experimental run with id: 7. \n"
     ]
    },
    {
     "name": "stdout",
     "output_type": "stream",
     "text": [
      "Starting experimental run with id: 8. \n",
      "Starting experimental run with id: 9. \n"
     ]
    },
    {
     "name": "stdout",
     "output_type": "stream",
     "text": [
      "Starting experimental run with id: 10. \n",
      "Starting experimental run with id: 11. \n"
     ]
    },
    {
     "name": "stdout",
     "output_type": "stream",
     "text": [
      "Starting experimental run with id: 12. \n",
      "Starting experimental run with id: 13. \n"
     ]
    },
    {
     "name": "stdout",
     "output_type": "stream",
     "text": [
      "Starting experimental run with id: 14. \n"
     ]
    }
   ],
   "source": [
    "sizes = [1,500,1000,2000,3000,4000,5000]\n",
    "t_numeric = []\n",
    "t_numeric_add = []\n",
    "t_array = []\n",
    "t_array_add = []\n",
    "for size in sizes:\n",
    "    tn, tna, run_id_n =  insert_data('numeric', size)\n",
    "    t_numeric.append(tn)\n",
    "    t_numeric_add.append(tna)\n",
    "\n",
    "    ta, taa, run_id_a =  insert_data('array', size)\n",
    "    t_array.append(ta)\n",
    "    t_array_add.append(taa)"
   ]
  },
  {
   "cell_type": "code",
   "execution_count": 6,
   "metadata": {},
   "outputs": [
    {
     "data": {
      "image/png": "[encoded data removed]",
      "text/plain": [
       "<Figure size 432x288 with 1 Axes>"
      ]
     },
     "metadata": {
      "needs_background": "light"
     },
     "output_type": "display_data"
    }
   ],
   "source": [
    "fig, ax = plt.subplots(1,1)\n",
    "ax.plot(sizes, t_numeric, 'o-', label='Inserting row-by-row')\n",
    "ax.plot(sizes, t_numeric_add, 'o-', label='Inserting row-by-row: add_result only')\n",
    "ax.plot(sizes, t_array, 'd-', label='Inserting as binary blob')\n",
    "ax.plot(sizes, t_array_add, 'd-', label='Inserting as binary blob: add_result only')\n",
    "ax.legend()\n",
    "ax.set_xlabel('Array length')\n",
    "ax.set_ylabel('Time (s)')\n",
    "fig.tight_layout()"
   ]
  },
  {
   "cell_type": "markdown",
   "metadata": {},
   "source": [
    "As shown in the latter figure, the time to setup and and close the experiment is approximately 0.4 sec. In case of small array sizes, the difference between inserting values of data as arrays and inserting them row-by-row is relatively unimportant. At larger array sizes, i.e. above 10000 points, the cost of writing data as individual datapoints starts to become important.\n"
   ]
  },
  {
   "cell_type": "markdown",
   "metadata": {},
   "source": [
    "### Case2: Long experiment time "
   ]
  },
  {
   "cell_type": "code",
   "execution_count": 7,
   "metadata": {},
   "outputs": [
    {
     "name": "stdout",
     "output_type": "stream",
     "text": [
      "Starting experimental run with id: 15. \n",
      "Starting experimental run with id: 16. \n",
      "Starting experimental run with id: 17. \n"
     ]
    },
    {
     "name": "stdout",
     "output_type": "stream",
     "text": [
      "Starting experimental run with id: 18. \n",
      "Starting experimental run with id: 19. \n"
     ]
    },
    {
     "name": "stdout",
     "output_type": "stream",
     "text": [
      "Starting experimental run with id: 20. \n"
     ]
    },
    {
     "name": "stdout",
     "output_type": "stream",
     "text": [
      "Starting experimental run with id: 21. \n"
     ]
    },
    {
     "name": "stdout",
     "output_type": "stream",
     "text": [
      "Starting experimental run with id: 22. \n"
     ]
    },
    {
     "name": "stdout",
     "output_type": "stream",
     "text": [
      "Starting experimental run with id: 23. \n"
     ]
    },
    {
     "name": "stdout",
     "output_type": "stream",
     "text": [
      "Starting experimental run with id: 24. \n"
     ]
    },
    {
     "name": "stdout",
     "output_type": "stream",
     "text": [
      "Starting experimental run with id: 25. \n"
     ]
    },
    {
     "name": "stdout",
     "output_type": "stream",
     "text": [
      "Starting experimental run with id: 26. \n"
     ]
    },
    {
     "name": "stdout",
     "output_type": "stream",
     "text": [
      "Starting experimental run with id: 27. \n"
     ]
    },
    {
     "name": "stdout",
     "output_type": "stream",
     "text": [
      "Starting experimental run with id: 28. \n"
     ]
    }
   ],
   "source": [
    "sizes = [1,500,1000,2000,3000,4000,5000]\n",
    "nreps = 100\n",
    "t_numeric = []\n",
    "t_numeric_add = []\n",
    "t_numeric_run_ids = []\n",
    "t_array = []\n",
    "t_array_add = []\n",
    "t_array_run_ids = []\n",
    "for size in sizes:\n",
    "    tn, tna, run_id_n =  insert_data('numeric', size, nreps=nreps)\n",
    "    t_numeric.append(tn)\n",
    "    t_numeric_add.append(tna)\n",
    "    t_numeric_run_ids.append(run_id_n)\n",
    "\n",
    "    ta, taa, run_id_a =  insert_data('array', size, nreps=nreps)\n",
    "    t_array.append(ta)\n",
    "    t_array_add.append(taa)\n",
    "    t_array_run_ids.append(run_id_a)"
   ]
  },
  {
   "cell_type": "code",
   "execution_count": 8,
   "metadata": {
    "scrolled": true
   },
   "outputs": [
    {
     "data": {
      "image/png": "[encoded data removed]",
      "text/plain": [
       "<Figure size 432x288 with 1 Axes>"
      ]
     },
     "metadata": {
      "needs_background": "light"
     },
     "output_type": "display_data"
    }
   ],
   "source": [
    "fig, ax = plt.subplots(1,1)\n",
    "ax.plot(sizes, t_numeric, 'o-', label='Inserting row-by-row')\n",
    "ax.plot(sizes, t_numeric_add, 'o-', label='Inserting row-by-row: add_result only')\n",
    "ax.plot(sizes, t_array, 'd-', label='Inserting as binary blob')\n",
    "ax.plot(sizes, t_array_add, 'd-', label='Inserting as binary blob: add_result only')\n",
    "ax.legend()\n",
    "ax.set_xlabel('Array length')\n",
    "ax.set_ylabel('Time (s)')\n",
    "fig.tight_layout()"
   ]
  },
  {
   "cell_type": "markdown",
   "metadata": {},
   "source": [
    "However, as we increase the length of the experiment, as seen here by repeating the insertion 100 times, we see a big difference between inserting values of the data row-by-row and inserting it as a binary blob."
   ]
  },
  {
   "cell_type": "markdown",
   "metadata": {},
   "source": [
    "## Loading the data "
   ]
  },
  {
   "cell_type": "code",
   "execution_count": 9,
   "metadata": {},
   "outputs": [],
   "source": [
    "from qcodes.dataset.data_set import load_by_id\n",
    "from qcodes.dataset.data_export import get_data_by_id"
   ]
  },
  {
   "cell_type": "markdown",
   "metadata": {},
   "source": [
    "As usual you can load the data by using the ``load_by_id`` function but you will notice that the different storage methods\n",
    "are reflected in shape of the data as it is retrieved. "
   ]
  },
  {
   "cell_type": "code",
   "execution_count": 10,
   "metadata": {},
   "outputs": [],
   "source": [
    "run_id_n = t_numeric_run_ids[0]\n",
    "run_id_a = t_array_run_ids[0]"
   ]
  },
  {
   "cell_type": "code",
   "execution_count": 11,
   "metadata": {
    "scrolled": true
   },
   "outputs": [
    {
     "data": {
      "text/plain": [
       "{'x1': {'x1': array([0.53869748, 0.53869748, 0.63695507, 0.63695507, 0.08501323,\n",
       "         0.08501323, 0.71333532, 0.71333532, 0.42099872, 0.42099872,\n",
       "         0.98858598, 0.98858598, 0.3806107 , 0.3806107 , 0.15434421,\n",
       "         0.15434421, 0.02121053, 0.02121053, 0.59896098, 0.59896098,\n",
       "         0.88660547, 0.88660547, 0.99849024, 0.99849024, 0.72084722,\n",
       "         0.72084722, 0.37589078, 0.37589078, 0.50088528, 0.50088528,\n",
       "         0.80295079, 0.80295079, 0.0800152 , 0.0800152 , 0.45822432,\n",
       "         0.45822432, 0.83996978, 0.83996978, 0.74397599, 0.74397599,\n",
       "         0.72154758, 0.72154758, 0.85655282, 0.85655282, 0.03848896,\n",
       "         0.03848896, 0.30474424, 0.30474424, 0.36315612, 0.36315612,\n",
       "         0.68787821, 0.68787821, 0.04011273, 0.04011273, 0.78202994,\n",
       "         0.78202994, 0.09279642, 0.09279642, 0.96522066, 0.96522066,\n",
       "         0.15022651, 0.15022651, 0.13932265, 0.13932265, 0.97539694,\n",
       "         0.97539694, 0.56986126, 0.56986126, 0.55509722, 0.55509722,\n",
       "         0.41840596, 0.41840596, 0.77898631, 0.77898631, 0.84394692,\n",
       "         0.84394692, 0.52985941, 0.52985941, 0.74551425, 0.74551425,\n",
       "         0.19962427, 0.19962427, 0.67125004, 0.67125004, 0.86994162,\n",
       "         0.86994162, 0.31958492, 0.31958492, 0.09652738, 0.09652738,\n",
       "         0.99979825, 0.99979825, 0.63090535, 0.63090535, 0.86460513,\n",
       "         0.86460513, 0.14263688, 0.14263688, 0.04741376, 0.04741376,\n",
       "         0.82508196, 0.82508196, 0.41925134, 0.41925134, 0.79622553,\n",
       "         0.79622553, 0.54839667, 0.54839667, 0.5164246 , 0.5164246 ,\n",
       "         0.09481635, 0.09481635, 0.12597558, 0.12597558, 0.08203646,\n",
       "         0.08203646, 0.32286302, 0.32286302, 0.05992186, 0.05992186,\n",
       "         0.56804805, 0.56804805, 0.40730148, 0.40730148, 0.07569736,\n",
       "         0.07569736, 0.3714269 , 0.3714269 , 0.66116373, 0.66116373,\n",
       "         0.52210257, 0.52210257, 0.40231503, 0.40231503, 0.06171028,\n",
       "         0.06171028, 0.90625754, 0.90625754, 0.52229248, 0.52229248,\n",
       "         0.56976183, 0.56976183, 0.18226282, 0.18226282, 0.57483693,\n",
       "         0.57483693, 0.87570404, 0.87570404, 0.54866751, 0.54866751,\n",
       "         0.9163435 , 0.9163435 , 0.85482639, 0.85482639, 0.78609055,\n",
       "         0.78609055, 0.96301148, 0.96301148, 0.53233432, 0.53233432,\n",
       "         0.40626969, 0.40626969, 0.84844574, 0.84844574, 0.18684391,\n",
       "         0.18684391, 0.22003379, 0.22003379, 0.21663598, 0.21663598,\n",
       "         0.81805927, 0.81805927, 0.27755383, 0.27755383, 0.10329054,\n",
       "         0.10329054, 0.10406834, 0.10406834, 0.5801976 , 0.5801976 ,\n",
       "         0.16099694, 0.16099694, 0.40485917, 0.40485917, 0.11148946,\n",
       "         0.11148946, 0.51553126, 0.51553126, 0.99867836, 0.99867836,\n",
       "         0.71828071, 0.71828071, 0.25297325, 0.25297325, 0.81248894,\n",
       "         0.81248894, 0.00146839, 0.00146839, 0.67899733, 0.67899733])}}"
      ]
     },
     "execution_count": 11,
     "metadata": {},
     "output_type": "execute_result"
    }
   ],
   "source": [
    "ds = load_by_id(run_id_n)\n",
    "ds.get_parameter_data('x1')"
   ]
  },
  {
   "cell_type": "markdown",
   "metadata": {},
   "source": [
    "And a dataset stored as binary arrays"
   ]
  },
  {
   "cell_type": "code",
   "execution_count": 12,
   "metadata": {
    "scrolled": true
   },
   "outputs": [
    {
     "data": {
      "text/plain": [
       "{'x1': {'x1': array([[0.84618376],\n",
       "         [0.84618376],\n",
       "         [0.306865  ],\n",
       "         [0.306865  ],\n",
       "         [0.23443186],\n",
       "         [0.23443186],\n",
       "         [0.94810338],\n",
       "         [0.94810338],\n",
       "         [0.05416989],\n",
       "         [0.05416989],\n",
       "         [0.00374414],\n",
       "         [0.00374414],\n",
       "         [0.34996071],\n",
       "         [0.34996071],\n",
       "         [0.15349083],\n",
       "         [0.15349083],\n",
       "         [0.12167048],\n",
       "         [0.12167048],\n",
       "         [0.32523041],\n",
       "         [0.32523041],\n",
       "         [0.71121461],\n",
       "         [0.71121461],\n",
       "         [0.5898018 ],\n",
       "         [0.5898018 ],\n",
       "         [0.79781679],\n",
       "         [0.79781679],\n",
       "         [0.24528961],\n",
       "         [0.24528961],\n",
       "         [0.87313072],\n",
       "         [0.87313072],\n",
       "         [0.62847815],\n",
       "         [0.62847815],\n",
       "         [0.25126852],\n",
       "         [0.25126852],\n",
       "         [0.7084652 ],\n",
       "         [0.7084652 ],\n",
       "         [0.19538296],\n",
       "         [0.19538296],\n",
       "         [0.19213568],\n",
       "         [0.19213568],\n",
       "         [0.71402774],\n",
       "         [0.71402774],\n",
       "         [0.94135037],\n",
       "         [0.94135037],\n",
       "         [0.3161745 ],\n",
       "         [0.3161745 ],\n",
       "         [0.04705792],\n",
       "         [0.04705792],\n",
       "         [0.28243401],\n",
       "         [0.28243401],\n",
       "         [0.62970614],\n",
       "         [0.62970614],\n",
       "         [0.70363761],\n",
       "         [0.70363761],\n",
       "         [0.78580625],\n",
       "         [0.78580625],\n",
       "         [0.76251233],\n",
       "         [0.76251233],\n",
       "         [0.46638898],\n",
       "         [0.46638898],\n",
       "         [0.83793032],\n",
       "         [0.83793032],\n",
       "         [0.64565782],\n",
       "         [0.64565782],\n",
       "         [0.76284459],\n",
       "         [0.76284459],\n",
       "         [0.61737152],\n",
       "         [0.61737152],\n",
       "         [0.06574057],\n",
       "         [0.06574057],\n",
       "         [0.03611219],\n",
       "         [0.03611219],\n",
       "         [0.11333108],\n",
       "         [0.11333108],\n",
       "         [0.91081029],\n",
       "         [0.91081029],\n",
       "         [0.13425861],\n",
       "         [0.13425861],\n",
       "         [0.00785688],\n",
       "         [0.00785688],\n",
       "         [0.44405374],\n",
       "         [0.44405374],\n",
       "         [0.20935344],\n",
       "         [0.20935344],\n",
       "         [0.70289585],\n",
       "         [0.70289585],\n",
       "         [0.42943717],\n",
       "         [0.42943717],\n",
       "         [0.02281576],\n",
       "         [0.02281576],\n",
       "         [0.48550638],\n",
       "         [0.48550638],\n",
       "         [0.99118585],\n",
       "         [0.99118585],\n",
       "         [0.57092778],\n",
       "         [0.57092778],\n",
       "         [0.79144227],\n",
       "         [0.79144227],\n",
       "         [0.65393638],\n",
       "         [0.65393638],\n",
       "         [0.42210397],\n",
       "         [0.42210397],\n",
       "         [0.94529901],\n",
       "         [0.94529901],\n",
       "         [0.01166547],\n",
       "         [0.01166547],\n",
       "         [0.92828134],\n",
       "         [0.92828134],\n",
       "         [0.35842722],\n",
       "         [0.35842722],\n",
       "         [0.22432128],\n",
       "         [0.22432128],\n",
       "         [0.42205442],\n",
       "         [0.42205442],\n",
       "         [0.34081858],\n",
       "         [0.34081858],\n",
       "         [0.66880916],\n",
       "         [0.66880916],\n",
       "         [0.51369944],\n",
       "         [0.51369944],\n",
       "         [0.34749853],\n",
       "         [0.34749853],\n",
       "         [0.6259842 ],\n",
       "         [0.6259842 ],\n",
       "         [0.46768936],\n",
       "         [0.46768936],\n",
       "         [0.16656105],\n",
       "         [0.16656105],\n",
       "         [0.5126558 ],\n",
       "         [0.5126558 ],\n",
       "         [0.20743432],\n",
       "         [0.20743432],\n",
       "         [0.9227794 ],\n",
       "         [0.9227794 ],\n",
       "         [0.28732462],\n",
       "         [0.28732462],\n",
       "         [0.88755872],\n",
       "         [0.88755872],\n",
       "         [0.12674754],\n",
       "         [0.12674754],\n",
       "         [0.037447  ],\n",
       "         [0.037447  ],\n",
       "         [0.68881925],\n",
       "         [0.68881925],\n",
       "         [0.83020842],\n",
       "         [0.83020842],\n",
       "         [0.05737748],\n",
       "         [0.05737748],\n",
       "         [0.30804854],\n",
       "         [0.30804854],\n",
       "         [0.30764707],\n",
       "         [0.30764707],\n",
       "         [0.95663588],\n",
       "         [0.95663588],\n",
       "         [0.64355202],\n",
       "         [0.64355202],\n",
       "         [0.99648178],\n",
       "         [0.99648178],\n",
       "         [0.35149733],\n",
       "         [0.35149733],\n",
       "         [0.58191427],\n",
       "         [0.58191427],\n",
       "         [0.39593512],\n",
       "         [0.39593512],\n",
       "         [0.64552883],\n",
       "         [0.64552883],\n",
       "         [0.64968394],\n",
       "         [0.64968394],\n",
       "         [0.86030896],\n",
       "         [0.86030896],\n",
       "         [0.17839332],\n",
       "         [0.17839332],\n",
       "         [0.5264163 ],\n",
       "         [0.5264163 ],\n",
       "         [0.70467602],\n",
       "         [0.70467602],\n",
       "         [0.0158959 ],\n",
       "         [0.0158959 ],\n",
       "         [0.44621872],\n",
       "         [0.44621872],\n",
       "         [0.41031402],\n",
       "         [0.41031402],\n",
       "         [0.74640556],\n",
       "         [0.74640556],\n",
       "         [0.71174471],\n",
       "         [0.71174471],\n",
       "         [0.68070816],\n",
       "         [0.68070816],\n",
       "         [0.39422394],\n",
       "         [0.39422394],\n",
       "         [0.22688717],\n",
       "         [0.22688717],\n",
       "         [0.26396081],\n",
       "         [0.26396081],\n",
       "         [0.24252853],\n",
       "         [0.24252853],\n",
       "         [0.44512117],\n",
       "         [0.44512117],\n",
       "         [0.53999621],\n",
       "         [0.53999621]])}}"
      ]
     },
     "execution_count": 12,
     "metadata": {},
     "output_type": "execute_result"
    }
   ],
   "source": [
    "ds = load_by_id(run_id_a)\n",
    "ds.get_parameter_data('x1')"
   ]
  },
  {
   "cell_type": "code",
   "execution_count": null,
   "metadata": {},
   "outputs": [],
   "source": []
  }
 ],
 "metadata": {
  "kernelspec": {
   "display_name": "Python 3",
   "language": "python",
   "name": "python3"
  },
  "language_info": {
   "codemirror_mode": {
    "name": "ipython",
    "version": 3
   },
   "file_extension": ".py",
   "mimetype": "text/x-python",
   "name": "python",
   "nbconvert_exporter": "python",
   "pygments_lexer": "ipython3",
   "version": "3.7.7"
  },
  "nbsphinx": {
   "timeout": 600
  },
  "toc": {
   "base_numbering": 1,
   "nav_menu": {},
   "number_sections": true,
   "sideBar": true,
   "skip_h1_title": false,
   "title_cell": "Table of Contents",
   "title_sidebar": "Contents",
   "toc_cell": false,
   "toc_position": {},
   "toc_section_display": true,
   "toc_window_display": false
  },
  "varInspector": {
   "cols": {
    "lenName": 16,
    "lenType": 16,
    "lenVar": 40
   },
   "kernels_config": {
    "python": {
     "delete_cmd_postfix": "",
     "delete_cmd_prefix": "del ",
     "library": "var_list.py",
     "varRefreshCmd": "print(var_dic_list())"
    },
    "r": {
     "delete_cmd_postfix": ") ",
     "delete_cmd_prefix": "rm(",
     "library": "var_list.r",
     "varRefreshCmd": "cat(var_dic_list()) "
    }
   },
   "types_to_exclude": [
    "module",
    "function",
    "builtin_function_or_method",
    "instance",
    "_Feature"
   ],
   "window_display": false
  }
 },
 "nbformat": 4,
 "nbformat_minor": 2
}
