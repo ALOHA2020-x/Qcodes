{
 "cells": [
  {
   "cell_type": "markdown",
   "metadata": {},
   "source": [
    "# DataSet Performance\n",
    "\n",
    "This notebook shows the trade-off between inserting data into a database row-by-row and as binary blobs. Inserting the data row-by-row means that we have direct access to all the data and may perform queries directly on the values of the data. On the other hand, as we shall see, this is much slower than inserting the data directly as binary blobs."
   ]
  },
  {
   "cell_type": "markdown",
   "metadata": {},
   "source": [
    "First, we choose a new location for the database to ensure that we don't add a bunch of benchmarking data to the default one."
   ]
  },
  {
   "cell_type": "code",
   "execution_count": 1,
   "metadata": {
    "execution": {
     "iopub.execute_input": "2021-01-08T19:24:22.584435Z",
     "iopub.status.busy": "2021-01-08T19:24:22.583930Z",
     "iopub.status.idle": "2021-01-08T19:24:23.509877Z",
     "shell.execute_reply": "2021-01-08T19:24:23.509309Z"
    }
   },
   "outputs": [
    {
     "name": "stdout",
     "output_type": "stream",
     "text": [
      "Logging hadn't been started.\n",
      "Activating auto-logging. Current session state plus future input saved.\n",
      "Filename       : /home/vsts/.qcodes/logs/command_history.log\n",
      "Mode           : append\n",
      "Output logging : True\n",
      "Raw input log  : False\n",
      "Timestamping   : True\n",
      "State          : active\n"
     ]
    },
    {
     "name": "stdout",
     "output_type": "stream",
     "text": [
      "Qcodes Logfile : /home/vsts/.qcodes/logs/210108-13489-qcodes.log\n"
     ]
    }
   ],
   "source": [
    "import os\n",
    "cwd = os.getcwd()\n",
    "import qcodes as qc\n",
    "qc.config[\"core\"][\"db_location\"] = os.path.join(cwd, 'testing.db')\n"
   ]
  },
  {
   "cell_type": "code",
   "execution_count": 2,
   "metadata": {
    "execution": {
     "iopub.execute_input": "2021-01-08T19:24:23.515193Z",
     "iopub.status.busy": "2021-01-08T19:24:23.514738Z",
     "iopub.status.idle": "2021-01-08T19:24:23.676969Z",
     "shell.execute_reply": "2021-01-08T19:24:23.676214Z"
    }
   },
   "outputs": [],
   "source": [
    "%matplotlib inline\n",
    "import time\n",
    "import matplotlib.pyplot as plt\n",
    "import numpy as np\n",
    "\n",
    "import qcodes as qc\n",
    "from qcodes.instrument.parameter import ManualParameter\n",
    "from qcodes.dataset.experiment_container import (Experiment,\n",
    "                                                 load_last_experiment,\n",
    "                                                 new_experiment)\n",
    "from qcodes.dataset.sqlite.database import initialise_database\n",
    "from qcodes import load_or_create_experiment\n",
    "from qcodes.dataset.measurements import Measurement"
   ]
  },
  {
   "cell_type": "code",
   "execution_count": 3,
   "metadata": {
    "execution": {
     "iopub.execute_input": "2021-01-08T19:24:23.680431Z",
     "iopub.status.busy": "2021-01-08T19:24:23.679786Z",
     "iopub.status.idle": "2021-01-08T19:24:23.774317Z",
     "shell.execute_reply": "2021-01-08T19:24:23.773809Z"
    }
   },
   "outputs": [
    {
     "name": "stdout",
     "output_type": "stream",
     "text": [
      "\r",
      "0it [00:00, ?it/s]"
     ]
    },
    {
     "name": "stdout",
     "output_type": "stream",
     "text": [
      "\r",
      "Upgrading database; v0 -> v1: : 0it [00:00, ?it/s]"
     ]
    },
    {
     "name": "stdout",
     "output_type": "stream",
     "text": [
      "\r",
      "Upgrading database; v0 -> v1: : 0it [00:00, ?it/s]"
     ]
    },
    {
     "name": "stdout",
     "output_type": "stream",
     "text": [
      "\n",
      "\r",
      "  0%|          | 0/1 [00:00<?, ?it/s]"
     ]
    },
    {
     "name": "stdout",
     "output_type": "stream",
     "text": [
      "\r",
      "Upgrading database; v1 -> v2:   0%|          | 0/1 [00:00<?, ?it/s]"
     ]
    },
    {
     "name": "stdout",
     "output_type": "stream",
     "text": [
      "\r",
      "Upgrading database; v1 -> v2: 100%|██████████| 1/1 [00:00<00:00, 512.00it/s]"
     ]
    },
    {
     "name": "stdout",
     "output_type": "stream",
     "text": [
      "\n",
      "\r",
      "0it [00:00, ?it/s]"
     ]
    },
    {
     "name": "stdout",
     "output_type": "stream",
     "text": [
      "\r",
      "Upgrading database; v2 -> v3: : 0it [00:00, ?it/s]"
     ]
    },
    {
     "name": "stdout",
     "output_type": "stream",
     "text": [
      "\r",
      "Upgrading database; v2 -> v3: : 0it [00:00, ?it/s]"
     ]
    },
    {
     "name": "stdout",
     "output_type": "stream",
     "text": [
      "\n",
      "\r",
      "0it [00:00, ?it/s]"
     ]
    },
    {
     "name": "stdout",
     "output_type": "stream",
     "text": [
      "\r",
      "Upgrading database; v3 -> v4: : 0it [00:00, ?it/s]"
     ]
    },
    {
     "name": "stdout",
     "output_type": "stream",
     "text": [
      "\r",
      "Upgrading database; v3 -> v4: : 0it [00:00, ?it/s]"
     ]
    },
    {
     "name": "stdout",
     "output_type": "stream",
     "text": [
      "\n",
      "\r",
      "  0%|          | 0/1 [00:00<?, ?it/s]"
     ]
    },
    {
     "name": "stdout",
     "output_type": "stream",
     "text": [
      "\r",
      "Upgrading database; v4 -> v5:   0%|          | 0/1 [00:00<?, ?it/s]"
     ]
    },
    {
     "name": "stdout",
     "output_type": "stream",
     "text": [
      "\r",
      "Upgrading database; v4 -> v5: 100%|██████████| 1/1 [00:00<00:00, 611.24it/s]"
     ]
    },
    {
     "name": "stdout",
     "output_type": "stream",
     "text": [
      "\n",
      "\r",
      "0it [00:00, ?it/s]"
     ]
    },
    {
     "name": "stdout",
     "output_type": "stream",
     "text": [
      "\r",
      "Upgrading database; v5 -> v6: : 0it [00:00, ?it/s]"
     ]
    },
    {
     "name": "stdout",
     "output_type": "stream",
     "text": [
      "\r",
      "Upgrading database; v5 -> v6: : 0it [00:00, ?it/s]"
     ]
    },
    {
     "name": "stdout",
     "output_type": "stream",
     "text": [
      "\n",
      "\r",
      "  0%|          | 0/1 [00:00<?, ?it/s]"
     ]
    },
    {
     "name": "stdout",
     "output_type": "stream",
     "text": [
      "\r",
      "Upgrading database; v6 -> v7:   0%|          | 0/1 [00:00<?, ?it/s]"
     ]
    },
    {
     "name": "stdout",
     "output_type": "stream",
     "text": [
      "\r",
      "Upgrading database; v6 -> v7: 100%|██████████| 1/1 [00:00<00:00, 348.65it/s]"
     ]
    },
    {
     "name": "stdout",
     "output_type": "stream",
     "text": [
      "\n",
      "\r",
      "  0%|          | 0/1 [00:00<?, ?it/s]"
     ]
    },
    {
     "name": "stdout",
     "output_type": "stream",
     "text": [
      "\r",
      "Upgrading database; v7 -> v8:   0%|          | 0/1 [00:00<?, ?it/s]"
     ]
    },
    {
     "name": "stdout",
     "output_type": "stream",
     "text": [
      "\r",
      "Upgrading database; v7 -> v8: 100%|██████████| 1/1 [00:00<00:00, 515.84it/s]"
     ]
    },
    {
     "name": "stdout",
     "output_type": "stream",
     "text": [
      "\n",
      "\r",
      "  0%|          | 0/1 [00:00<?, ?it/s]"
     ]
    },
    {
     "name": "stdout",
     "output_type": "stream",
     "text": [
      "\r",
      "Upgrading database; v8 -> v9:   0%|          | 0/1 [00:00<?, ?it/s]"
     ]
    },
    {
     "name": "stdout",
     "output_type": "stream",
     "text": [
      "\r",
      "Upgrading database; v8 -> v9: 100%|██████████| 1/1 [00:00<00:00, 1597.22it/s]"
     ]
    },
    {
     "name": "stdout",
     "output_type": "stream",
     "text": [
      "\n"
     ]
    }
   ],
   "source": [
    "initialise_database()\n",
    "exp = load_or_create_experiment(experiment_name='tutorial_exp', sample_name=\"no sample\")"
   ]
  },
  {
   "cell_type": "markdown",
   "metadata": {},
   "source": [
    "Here, we define a simple function to benchmark the time it takes to insert n points with either numeric or array data type.\n",
    "We will compare both the time used to call ``add_result`` and the time used for the full measurement."
   ]
  },
  {
   "cell_type": "code",
   "execution_count": 4,
   "metadata": {
    "execution": {
     "iopub.execute_input": "2021-01-08T19:24:23.781451Z",
     "iopub.status.busy": "2021-01-08T19:24:23.780979Z",
     "iopub.status.idle": "2021-01-08T19:24:23.784908Z",
     "shell.execute_reply": "2021-01-08T19:24:23.784416Z"
    }
   },
   "outputs": [],
   "source": [
    "def insert_data(paramtype, npoints, nreps=1):\n",
    "\n",
    "    meas = Measurement(exp=exp)\n",
    "\n",
    "    x1 = ManualParameter('x1')\n",
    "    x2 = ManualParameter('x2')\n",
    "    x3 = ManualParameter('x3')\n",
    "    y1 = ManualParameter('y1')\n",
    "    y2 = ManualParameter('y2')\n",
    "\n",
    "    meas.register_parameter(x1, paramtype=paramtype)\n",
    "    meas.register_parameter(x2, paramtype=paramtype)\n",
    "    meas.register_parameter(x3, paramtype=paramtype)\n",
    "    meas.register_parameter(y1, setpoints=[x1, x2, x3],\n",
    "                            paramtype=paramtype)\n",
    "    meas.register_parameter(y2, setpoints=[x1, x2, x3],\n",
    "                            paramtype=paramtype)\n",
    "    start = time.perf_counter()\n",
    "    with meas.run() as datasaver:\n",
    "        start_adding = time.perf_counter()\n",
    "        for i in range(nreps):\n",
    "            datasaver.add_result((x1, np.random.rand(npoints)),\n",
    "                                 (x2, np.random.rand(npoints)),\n",
    "                                 (x3, np.random.rand(npoints)),\n",
    "                                 (y1, np.random.rand(npoints)),\n",
    "                                 (y2, np.random.rand(npoints)))\n",
    "        stop_adding = time.perf_counter()\n",
    "        run_id = datasaver.run_id\n",
    "    stop = time.perf_counter()\n",
    "    tot_time = stop - start\n",
    "    add_time = stop_adding - start_adding\n",
    "    return tot_time, add_time, run_id"
   ]
  },
  {
   "cell_type": "markdown",
   "metadata": {},
   "source": [
    "## Comparison between numeric/array data and binary blob"
   ]
  },
  {
   "cell_type": "markdown",
   "metadata": {},
   "source": [
    "### Case1: Short experiment time"
   ]
  },
  {
   "cell_type": "code",
   "execution_count": 5,
   "metadata": {
    "execution": {
     "iopub.execute_input": "2021-01-08T19:24:23.791356Z",
     "iopub.status.busy": "2021-01-08T19:24:23.790887Z",
     "iopub.status.idle": "2021-01-08T19:24:24.479202Z",
     "shell.execute_reply": "2021-01-08T19:24:24.478694Z"
    }
   },
   "outputs": [
    {
     "name": "stdout",
     "output_type": "stream",
     "text": [
      "Starting experimental run with id: 1. \n",
      "Starting experimental run with id: 2. \n",
      "Starting experimental run with id: 3. \n",
      "Starting experimental run with id: 4. \n",
      "Starting experimental run with id: 5. \n",
      "Starting experimental run with id: 6. \n",
      "Starting experimental run with id: 7. \n"
     ]
    },
    {
     "name": "stdout",
     "output_type": "stream",
     "text": [
      "Starting experimental run with id: 8. \n",
      "Starting experimental run with id: 9. \n"
     ]
    },
    {
     "name": "stdout",
     "output_type": "stream",
     "text": [
      "Starting experimental run with id: 10. \n",
      "Starting experimental run with id: 11. \n"
     ]
    },
    {
     "name": "stdout",
     "output_type": "stream",
     "text": [
      "Starting experimental run with id: 12. \n",
      "Starting experimental run with id: 13. \n"
     ]
    },
    {
     "name": "stdout",
     "output_type": "stream",
     "text": [
      "Starting experimental run with id: 14. \n"
     ]
    }
   ],
   "source": [
    "sizes = [1,500,1000,2000,3000,4000,5000]\n",
    "t_numeric = []\n",
    "t_numeric_add = []\n",
    "t_array = []\n",
    "t_array_add = []\n",
    "for size in sizes:\n",
    "    tn, tna, run_id_n =  insert_data('numeric', size)\n",
    "    t_numeric.append(tn)\n",
    "    t_numeric_add.append(tna)\n",
    "\n",
    "    ta, taa, run_id_a =  insert_data('array', size)\n",
    "    t_array.append(ta)\n",
    "    t_array_add.append(taa)"
   ]
  },
  {
   "cell_type": "code",
   "execution_count": 6,
   "metadata": {
    "execution": {
     "iopub.execute_input": "2021-01-08T19:24:24.488783Z",
     "iopub.status.busy": "2021-01-08T19:24:24.488321Z",
     "iopub.status.idle": "2021-01-08T19:24:24.668015Z",
     "shell.execute_reply": "2021-01-08T19:24:24.667312Z"
    }
   },
   "outputs": [
    {
     "data": {
      "image/png": "[encoded data removed]",
      "text/plain": [
       "<Figure size 432x288 with 1 Axes>"
      ]
     },
     "metadata": {
      "needs_background": "light"
     },
     "output_type": "display_data"
    }
   ],
   "source": [
    "fig, ax = plt.subplots(1,1)\n",
    "ax.plot(sizes, t_numeric, 'o-', label='Inserting row-by-row')\n",
    "ax.plot(sizes, t_numeric_add, 'o-', label='Inserting row-by-row: add_result only')\n",
    "ax.plot(sizes, t_array, 'd-', label='Inserting as binary blob')\n",
    "ax.plot(sizes, t_array_add, 'd-', label='Inserting as binary blob: add_result only')\n",
    "ax.legend()\n",
    "ax.set_xlabel('Array length')\n",
    "ax.set_ylabel('Time (s)')\n",
    "fig.tight_layout()"
   ]
  },
  {
   "cell_type": "markdown",
   "metadata": {},
   "source": [
    "As shown in the latter figure, the time to setup and and close the experiment is approximately 0.4 sec. In case of small array sizes, the difference between inserting values of data as arrays and inserting them row-by-row is relatively unimportant. At larger array sizes, i.e. above 10000 points, the cost of writing data as individual datapoints starts to become important.\n"
   ]
  },
  {
   "cell_type": "markdown",
   "metadata": {},
   "source": [
    "### Case2: Long experiment time "
   ]
  },
  {
   "cell_type": "code",
   "execution_count": 7,
   "metadata": {
    "execution": {
     "iopub.execute_input": "2021-01-08T19:24:24.673588Z",
     "iopub.status.busy": "2021-01-08T19:24:24.673134Z",
     "iopub.status.idle": "2021-01-08T19:25:17.023103Z",
     "shell.execute_reply": "2021-01-08T19:25:17.022606Z"
    }
   },
   "outputs": [
    {
     "name": "stdout",
     "output_type": "stream",
     "text": [
      "Starting experimental run with id: 15. \n",
      "Starting experimental run with id: 16. \n",
      "Starting experimental run with id: 17. \n"
     ]
    },
    {
     "name": "stdout",
     "output_type": "stream",
     "text": [
      "Starting experimental run with id: 18. \n",
      "Starting experimental run with id: 19. \n"
     ]
    },
    {
     "name": "stdout",
     "output_type": "stream",
     "text": [
      "Starting experimental run with id: 20. \n"
     ]
    },
    {
     "name": "stdout",
     "output_type": "stream",
     "text": [
      "Starting experimental run with id: 21. \n"
     ]
    },
    {
     "name": "stdout",
     "output_type": "stream",
     "text": [
      "Starting experimental run with id: 22. \n"
     ]
    },
    {
     "name": "stdout",
     "output_type": "stream",
     "text": [
      "Starting experimental run with id: 23. \n"
     ]
    },
    {
     "name": "stdout",
     "output_type": "stream",
     "text": [
      "Starting experimental run with id: 24. \n"
     ]
    },
    {
     "name": "stdout",
     "output_type": "stream",
     "text": [
      "Starting experimental run with id: 25. \n"
     ]
    },
    {
     "name": "stdout",
     "output_type": "stream",
     "text": [
      "Starting experimental run with id: 26. \n"
     ]
    },
    {
     "name": "stdout",
     "output_type": "stream",
     "text": [
      "Starting experimental run with id: 27. \n"
     ]
    },
    {
     "name": "stdout",
     "output_type": "stream",
     "text": [
      "Starting experimental run with id: 28. \n"
     ]
    }
   ],
   "source": [
    "sizes = [1,500,1000,2000,3000,4000,5000]\n",
    "nreps = 100\n",
    "t_numeric = []\n",
    "t_numeric_add = []\n",
    "t_numeric_run_ids = []\n",
    "t_array = []\n",
    "t_array_add = []\n",
    "t_array_run_ids = []\n",
    "for size in sizes:\n",
    "    tn, tna, run_id_n =  insert_data('numeric', size, nreps=nreps)\n",
    "    t_numeric.append(tn)\n",
    "    t_numeric_add.append(tna)\n",
    "    t_numeric_run_ids.append(run_id_n)\n",
    "\n",
    "    ta, taa, run_id_a =  insert_data('array', size, nreps=nreps)\n",
    "    t_array.append(ta)\n",
    "    t_array_add.append(taa)\n",
    "    t_array_run_ids.append(run_id_a)"
   ]
  },
  {
   "cell_type": "code",
   "execution_count": 8,
   "metadata": {
    "execution": {
     "iopub.execute_input": "2021-01-08T19:25:17.048538Z",
     "iopub.status.busy": "2021-01-08T19:25:17.037354Z",
     "iopub.status.idle": "2021-01-08T19:25:17.200238Z",
     "shell.execute_reply": "2021-01-08T19:25:17.199829Z"
    },
    "scrolled": true
   },
   "outputs": [
    {
     "data": {
      "image/png": "[encoded data removed]",
      "text/plain": [
       "<Figure size 432x288 with 1 Axes>"
      ]
     },
     "metadata": {
      "needs_background": "light"
     },
     "output_type": "display_data"
    }
   ],
   "source": [
    "fig, ax = plt.subplots(1,1)\n",
    "ax.plot(sizes, t_numeric, 'o-', label='Inserting row-by-row')\n",
    "ax.plot(sizes, t_numeric_add, 'o-', label='Inserting row-by-row: add_result only')\n",
    "ax.plot(sizes, t_array, 'd-', label='Inserting as binary blob')\n",
    "ax.plot(sizes, t_array_add, 'd-', label='Inserting as binary blob: add_result only')\n",
    "ax.legend()\n",
    "ax.set_xlabel('Array length')\n",
    "ax.set_ylabel('Time (s)')\n",
    "fig.tight_layout()"
   ]
  },
  {
   "cell_type": "markdown",
   "metadata": {},
   "source": [
    "However, as we increase the length of the experiment, as seen here by repeating the insertion 100 times, we see a big difference between inserting values of the data row-by-row and inserting it as a binary blob."
   ]
  },
  {
   "cell_type": "markdown",
   "metadata": {},
   "source": [
    "## Loading the data "
   ]
  },
  {
   "cell_type": "code",
   "execution_count": 9,
   "metadata": {
    "execution": {
     "iopub.execute_input": "2021-01-08T19:25:17.203494Z",
     "iopub.status.busy": "2021-01-08T19:25:17.203047Z",
     "iopub.status.idle": "2021-01-08T19:25:17.206163Z",
     "shell.execute_reply": "2021-01-08T19:25:17.205753Z"
    }
   },
   "outputs": [],
   "source": [
    "from qcodes.dataset.data_set import load_by_id\n",
    "from qcodes.dataset.data_export import get_data_by_id"
   ]
  },
  {
   "cell_type": "markdown",
   "metadata": {},
   "source": [
    "As usual you can load the data by using the ``load_by_id`` function but you will notice that the different storage methods\n",
    "are reflected in shape of the data as it is retrieved. "
   ]
  },
  {
   "cell_type": "code",
   "execution_count": 10,
   "metadata": {
    "execution": {
     "iopub.execute_input": "2021-01-08T19:25:17.210153Z",
     "iopub.status.busy": "2021-01-08T19:25:17.208942Z",
     "iopub.status.idle": "2021-01-08T19:25:17.210601Z",
     "shell.execute_reply": "2021-01-08T19:25:17.211051Z"
    }
   },
   "outputs": [],
   "source": [
    "run_id_n = t_numeric_run_ids[0]\n",
    "run_id_a = t_array_run_ids[0]"
   ]
  },
  {
   "cell_type": "code",
   "execution_count": 11,
   "metadata": {
    "execution": {
     "iopub.execute_input": "2021-01-08T19:25:17.213758Z",
     "iopub.status.busy": "2021-01-08T19:25:17.213323Z",
     "iopub.status.idle": "2021-01-08T19:25:17.221503Z",
     "shell.execute_reply": "2021-01-08T19:25:17.221034Z"
    },
    "scrolled": true
   },
   "outputs": [
    {
     "data": {
      "text/plain": [
       "{'x1': {'x1': array([0.99291068, 0.99291068, 0.7432274 , 0.7432274 , 0.63212251,\n",
       "         0.63212251, 0.408106  , 0.408106  , 0.48932291, 0.48932291,\n",
       "         0.60437586, 0.60437586, 0.36829253, 0.36829253, 0.87001699,\n",
       "         0.87001699, 0.09814082, 0.09814082, 0.92599335, 0.92599335,\n",
       "         0.90358235, 0.90358235, 0.57637335, 0.57637335, 0.45674102,\n",
       "         0.45674102, 0.56569496, 0.56569496, 0.2274609 , 0.2274609 ,\n",
       "         0.43172668, 0.43172668, 0.62061514, 0.62061514, 0.22933938,\n",
       "         0.22933938, 0.60790295, 0.60790295, 0.09944332, 0.09944332,\n",
       "         0.54739545, 0.54739545, 0.56800495, 0.56800495, 0.99529973,\n",
       "         0.99529973, 0.5546702 , 0.5546702 , 0.28953861, 0.28953861,\n",
       "         0.57599389, 0.57599389, 0.18043025, 0.18043025, 0.78534075,\n",
       "         0.78534075, 0.72665046, 0.72665046, 0.67651752, 0.67651752,\n",
       "         0.91787178, 0.91787178, 0.54013533, 0.54013533, 0.96787065,\n",
       "         0.96787065, 0.72439051, 0.72439051, 0.58291037, 0.58291037,\n",
       "         0.9196777 , 0.9196777 , 0.30142117, 0.30142117, 0.00901581,\n",
       "         0.00901581, 0.03755235, 0.03755235, 0.24141232, 0.24141232,\n",
       "         0.56359805, 0.56359805, 0.67432698, 0.67432698, 0.14780752,\n",
       "         0.14780752, 0.2628262 , 0.2628262 , 0.74397424, 0.74397424,\n",
       "         0.08219857, 0.08219857, 0.4389699 , 0.4389699 , 0.65071898,\n",
       "         0.65071898, 0.17891073, 0.17891073, 0.71949441, 0.71949441,\n",
       "         0.84952232, 0.84952232, 0.31158816, 0.31158816, 0.02955234,\n",
       "         0.02955234, 0.10243466, 0.10243466, 0.65630426, 0.65630426,\n",
       "         0.46560734, 0.46560734, 0.46965073, 0.46965073, 0.45819426,\n",
       "         0.45819426, 0.02376894, 0.02376894, 0.32112633, 0.32112633,\n",
       "         0.36387444, 0.36387444, 0.46323513, 0.46323513, 0.34675644,\n",
       "         0.34675644, 0.59343387, 0.59343387, 0.81486871, 0.81486871,\n",
       "         0.86580109, 0.86580109, 0.60959839, 0.60959839, 0.27660923,\n",
       "         0.27660923, 0.52158353, 0.52158353, 0.56039043, 0.56039043,\n",
       "         0.81696258, 0.81696258, 0.30182799, 0.30182799, 0.06955077,\n",
       "         0.06955077, 0.16113372, 0.16113372, 0.31311042, 0.31311042,\n",
       "         0.03332915, 0.03332915, 0.53385862, 0.53385862, 0.2941437 ,\n",
       "         0.2941437 , 0.20848956, 0.20848956, 0.51055775, 0.51055775,\n",
       "         0.45181021, 0.45181021, 0.07891799, 0.07891799, 0.86529435,\n",
       "         0.86529435, 0.41658114, 0.41658114, 0.29127092, 0.29127092,\n",
       "         0.52947773, 0.52947773, 0.66660286, 0.66660286, 0.26450981,\n",
       "         0.26450981, 0.73794213, 0.73794213, 0.09807446, 0.09807446,\n",
       "         0.55805362, 0.55805362, 0.175289  , 0.175289  , 0.71622266,\n",
       "         0.71622266, 0.18775687, 0.18775687, 0.32275945, 0.32275945,\n",
       "         0.32679617, 0.32679617, 0.60359184, 0.60359184, 0.33171499,\n",
       "         0.33171499, 0.1476875 , 0.1476875 , 0.15093306, 0.15093306])}}"
      ]
     },
     "execution_count": 1,
     "metadata": {},
     "output_type": "execute_result"
    }
   ],
   "source": [
    "ds = load_by_id(run_id_n)\n",
    "ds.get_parameter_data('x1')"
   ]
  },
  {
   "cell_type": "markdown",
   "metadata": {},
   "source": [
    "And a dataset stored as binary arrays"
   ]
  },
  {
   "cell_type": "code",
   "execution_count": 12,
   "metadata": {
    "execution": {
     "iopub.execute_input": "2021-01-08T19:25:17.224339Z",
     "iopub.status.busy": "2021-01-08T19:25:17.223893Z",
     "iopub.status.idle": "2021-01-08T19:25:17.270612Z",
     "shell.execute_reply": "2021-01-08T19:25:17.271093Z"
    },
    "scrolled": true
   },
   "outputs": [
    {
     "data": {
      "text/plain": [
       "{'x1': {'x1': array([[0.77154712],\n",
       "         [0.77154712],\n",
       "         [0.02454764],\n",
       "         [0.02454764],\n",
       "         [0.40701241],\n",
       "         [0.40701241],\n",
       "         [0.19546894],\n",
       "         [0.19546894],\n",
       "         [0.12903796],\n",
       "         [0.12903796],\n",
       "         [0.89021033],\n",
       "         [0.89021033],\n",
       "         [0.71440968],\n",
       "         [0.71440968],\n",
       "         [0.46709636],\n",
       "         [0.46709636],\n",
       "         [0.9856685 ],\n",
       "         [0.9856685 ],\n",
       "         [0.24204751],\n",
       "         [0.24204751],\n",
       "         [0.54429596],\n",
       "         [0.54429596],\n",
       "         [0.60907088],\n",
       "         [0.60907088],\n",
       "         [0.59160097],\n",
       "         [0.59160097],\n",
       "         [0.87413363],\n",
       "         [0.87413363],\n",
       "         [0.07525243],\n",
       "         [0.07525243],\n",
       "         [0.56688577],\n",
       "         [0.56688577],\n",
       "         [0.01901837],\n",
       "         [0.01901837],\n",
       "         [0.68655309],\n",
       "         [0.68655309],\n",
       "         [0.59108375],\n",
       "         [0.59108375],\n",
       "         [0.84234238],\n",
       "         [0.84234238],\n",
       "         [0.23407697],\n",
       "         [0.23407697],\n",
       "         [0.79782942],\n",
       "         [0.79782942],\n",
       "         [0.39536074],\n",
       "         [0.39536074],\n",
       "         [0.14123735],\n",
       "         [0.14123735],\n",
       "         [0.69269615],\n",
       "         [0.69269615],\n",
       "         [0.62893473],\n",
       "         [0.62893473],\n",
       "         [0.84469369],\n",
       "         [0.84469369],\n",
       "         [0.70531902],\n",
       "         [0.70531902],\n",
       "         [0.26616563],\n",
       "         [0.26616563],\n",
       "         [0.88618792],\n",
       "         [0.88618792],\n",
       "         [0.30956726],\n",
       "         [0.30956726],\n",
       "         [0.17834966],\n",
       "         [0.17834966],\n",
       "         [0.96723536],\n",
       "         [0.96723536],\n",
       "         [0.2731651 ],\n",
       "         [0.2731651 ],\n",
       "         [0.88605054],\n",
       "         [0.88605054],\n",
       "         [0.13001891],\n",
       "         [0.13001891],\n",
       "         [0.02771221],\n",
       "         [0.02771221],\n",
       "         [0.63900976],\n",
       "         [0.63900976],\n",
       "         [0.77801493],\n",
       "         [0.77801493],\n",
       "         [0.83869238],\n",
       "         [0.83869238],\n",
       "         [0.81234288],\n",
       "         [0.81234288],\n",
       "         [0.26383473],\n",
       "         [0.26383473],\n",
       "         [0.92701257],\n",
       "         [0.92701257],\n",
       "         [0.47265468],\n",
       "         [0.47265468],\n",
       "         [0.89416528],\n",
       "         [0.89416528],\n",
       "         [0.12198713],\n",
       "         [0.12198713],\n",
       "         [0.0445758 ],\n",
       "         [0.0445758 ],\n",
       "         [0.998125  ],\n",
       "         [0.998125  ],\n",
       "         [0.47878484],\n",
       "         [0.47878484],\n",
       "         [0.05618278],\n",
       "         [0.05618278],\n",
       "         [0.02422379],\n",
       "         [0.02422379],\n",
       "         [0.90326909],\n",
       "         [0.90326909],\n",
       "         [0.31777123],\n",
       "         [0.31777123],\n",
       "         [0.84142783],\n",
       "         [0.84142783],\n",
       "         [0.64529622],\n",
       "         [0.64529622],\n",
       "         [0.05252506],\n",
       "         [0.05252506],\n",
       "         [0.46836774],\n",
       "         [0.46836774],\n",
       "         [0.14237467],\n",
       "         [0.14237467],\n",
       "         [0.45517339],\n",
       "         [0.45517339],\n",
       "         [0.75467367],\n",
       "         [0.75467367],\n",
       "         [0.57728197],\n",
       "         [0.57728197],\n",
       "         [0.96074353],\n",
       "         [0.96074353],\n",
       "         [0.87187001],\n",
       "         [0.87187001],\n",
       "         [0.56374344],\n",
       "         [0.56374344],\n",
       "         [0.73812442],\n",
       "         [0.73812442],\n",
       "         [0.66462822],\n",
       "         [0.66462822],\n",
       "         [0.00807653],\n",
       "         [0.00807653],\n",
       "         [0.35562502],\n",
       "         [0.35562502],\n",
       "         [0.19460461],\n",
       "         [0.19460461],\n",
       "         [0.54055411],\n",
       "         [0.54055411],\n",
       "         [0.82561337],\n",
       "         [0.82561337],\n",
       "         [0.58797879],\n",
       "         [0.58797879],\n",
       "         [0.76122385],\n",
       "         [0.76122385],\n",
       "         [0.70191023],\n",
       "         [0.70191023],\n",
       "         [0.74573027],\n",
       "         [0.74573027],\n",
       "         [0.15185266],\n",
       "         [0.15185266],\n",
       "         [0.20976015],\n",
       "         [0.20976015],\n",
       "         [0.97413249],\n",
       "         [0.97413249],\n",
       "         [0.70517311],\n",
       "         [0.70517311],\n",
       "         [0.44158817],\n",
       "         [0.44158817],\n",
       "         [0.91432842],\n",
       "         [0.91432842],\n",
       "         [0.85710655],\n",
       "         [0.85710655],\n",
       "         [0.29729415],\n",
       "         [0.29729415],\n",
       "         [0.34269505],\n",
       "         [0.34269505],\n",
       "         [0.00899351],\n",
       "         [0.00899351],\n",
       "         [0.30011205],\n",
       "         [0.30011205],\n",
       "         [0.80375793],\n",
       "         [0.80375793],\n",
       "         [0.75388358],\n",
       "         [0.75388358],\n",
       "         [0.89806796],\n",
       "         [0.89806796],\n",
       "         [0.99778194],\n",
       "         [0.99778194],\n",
       "         [0.42991482],\n",
       "         [0.42991482],\n",
       "         [0.5629434 ],\n",
       "         [0.5629434 ],\n",
       "         [0.07056159],\n",
       "         [0.07056159],\n",
       "         [0.00464957],\n",
       "         [0.00464957],\n",
       "         [0.53191515],\n",
       "         [0.53191515],\n",
       "         [0.19997639],\n",
       "         [0.19997639],\n",
       "         [0.36180897],\n",
       "         [0.36180897],\n",
       "         [0.88282601],\n",
       "         [0.88282601],\n",
       "         [0.2282044 ],\n",
       "         [0.2282044 ],\n",
       "         [0.2532505 ],\n",
       "         [0.2532505 ]])}}"
      ]
     },
     "execution_count": 1,
     "metadata": {},
     "output_type": "execute_result"
    }
   ],
   "source": [
    "ds = load_by_id(run_id_a)\n",
    "ds.get_parameter_data('x1')"
   ]
  },
  {
   "cell_type": "code",
   "execution_count": null,
   "metadata": {},
   "outputs": [],
   "source": []
  }
 ],
 "metadata": {
  "kernelspec": {
   "display_name": "Python 3",
   "language": "python",
   "name": "python3"
  },
  "language_info": {
   "codemirror_mode": {
    "name": "ipython",
    "version": 3
   },
   "file_extension": ".py",
   "mimetype": "text/x-python",
   "name": "python",
   "nbconvert_exporter": "python",
   "pygments_lexer": "ipython3",
   "version": "3.7.9"
  },
  "nbsphinx": {
   "timeout": 600
  },
  "toc": {
   "base_numbering": 1,
   "nav_menu": {},
   "number_sections": true,
   "sideBar": true,
   "skip_h1_title": false,
   "title_cell": "Table of Contents",
   "title_sidebar": "Contents",
   "toc_cell": false,
   "toc_position": {},
   "toc_section_display": true,
   "toc_window_display": false
  },
  "varInspector": {
   "cols": {
    "lenName": 16,
    "lenType": 16,
    "lenVar": 40
   },
   "kernels_config": {
    "python": {
     "delete_cmd_postfix": "",
     "delete_cmd_prefix": "del ",
     "library": "var_list.py",
     "varRefreshCmd": "print(var_dic_list())"
    },
    "r": {
     "delete_cmd_postfix": ") ",
     "delete_cmd_prefix": "rm(",
     "library": "var_list.r",
     "varRefreshCmd": "cat(var_dic_list()) "
    }
   },
   "types_to_exclude": [
    "module",
    "function",
    "builtin_function_or_method",
    "instance",
    "_Feature"
   ],
   "window_display": false
  }
 },
 "nbformat": 4,
 "nbformat_minor": 2
}
