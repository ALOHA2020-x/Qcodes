{
 "cells": [
  {
   "cell_type": "markdown",
   "metadata": {},
   "source": [
    "# DataSet Performance\n",
    "\n",
    "This notebook shows the trade-off between inserting data into a database row-by-row and as binary blobs. Inserting the data row-by-row means that we have direct access to all the data and may perform queries directly on the values of the data. On the other hand, as we shall see, this is much slower than inserting the data directly as binary blobs."
   ]
  },
  {
   "cell_type": "markdown",
   "metadata": {},
   "source": [
    "First, we choose a new location for the database to ensure that we don't add a bunch of benchmarking data to the default one."
   ]
  },
  {
   "cell_type": "code",
   "execution_count": 1,
   "metadata": {
    "execution": {
     "iopub.execute_input": "2021-04-22T15:29:54.480356Z",
     "iopub.status.busy": "2021-04-22T15:29:54.479811Z",
     "iopub.status.idle": "2021-04-22T15:29:55.452197Z",
     "shell.execute_reply": "2021-04-22T15:29:55.451517Z"
    }
   },
   "outputs": [
    {
     "name": "stdout",
     "output_type": "stream",
     "text": [
      "Logging hadn't been started.\n",
      "Activating auto-logging. Current session state plus future input saved.\n",
      "Filename       : /home/runner/.qcodes/logs/command_history.log\n",
      "Mode           : append\n",
      "Output logging : True\n",
      "Raw input log  : False\n",
      "Timestamping   : True\n",
      "State          : active\n"
     ]
    },
    {
     "name": "stdout",
     "output_type": "stream",
     "text": [
      "Qcodes Logfile : /home/runner/.qcodes/logs/210422-4419-qcodes.log\n"
     ]
    }
   ],
   "source": [
    "import os\n",
    "cwd = os.getcwd()\n",
    "import qcodes as qc\n",
    "qc.config[\"core\"][\"db_location\"] = os.path.join(cwd, 'testing.db')\n"
   ]
  },
  {
   "cell_type": "code",
   "execution_count": 2,
   "metadata": {
    "execution": {
     "iopub.execute_input": "2021-04-22T15:29:55.458256Z",
     "iopub.status.busy": "2021-04-22T15:29:55.457314Z",
     "iopub.status.idle": "2021-04-22T15:29:55.619806Z",
     "shell.execute_reply": "2021-04-22T15:29:55.618946Z"
    }
   },
   "outputs": [],
   "source": [
    "%matplotlib inline\n",
    "import time\n",
    "import matplotlib.pyplot as plt\n",
    "import numpy as np\n",
    "\n",
    "import qcodes as qc\n",
    "from qcodes.instrument.parameter import ManualParameter\n",
    "from qcodes.dataset.experiment_container import (Experiment,\n",
    "                                                 load_last_experiment,\n",
    "                                                 new_experiment)\n",
    "from qcodes.dataset.sqlite.database import initialise_database\n",
    "from qcodes import load_or_create_experiment\n",
    "from qcodes.dataset.measurements import Measurement"
   ]
  },
  {
   "cell_type": "code",
   "execution_count": 3,
   "metadata": {
    "execution": {
     "iopub.execute_input": "2021-04-22T15:29:55.623314Z",
     "iopub.status.busy": "2021-04-22T15:29:55.622862Z",
     "iopub.status.idle": "2021-04-22T15:29:55.743330Z",
     "shell.execute_reply": "2021-04-22T15:29:55.742880Z"
    }
   },
   "outputs": [
    {
     "name": "stdout",
     "output_type": "stream",
     "text": [
      "\r",
      "0it [00:00, ?it/s]"
     ]
    },
    {
     "name": "stdout",
     "output_type": "stream",
     "text": [
      "\r",
      "Upgrading database; v0 -> v1: : 0it [00:00, ?it/s]"
     ]
    },
    {
     "name": "stdout",
     "output_type": "stream",
     "text": [
      "\r",
      "Upgrading database; v0 -> v1: : 0it [00:00, ?it/s]"
     ]
    },
    {
     "name": "stdout",
     "output_type": "stream",
     "text": [
      "\n",
      "\r",
      "  0%|          | 0/1 [00:00<?, ?it/s]"
     ]
    },
    {
     "name": "stdout",
     "output_type": "stream",
     "text": [
      "\r",
      "Upgrading database; v1 -> v2:   0%|          | 0/1 [00:00<?, ?it/s]"
     ]
    },
    {
     "name": "stdout",
     "output_type": "stream",
     "text": [
      "\r",
      "Upgrading database; v1 -> v2: 100%|██████████| 1/1 [00:00<00:00, 776.15it/s]"
     ]
    },
    {
     "name": "stdout",
     "output_type": "stream",
     "text": [
      "\n",
      "\r",
      "0it [00:00, ?it/s]"
     ]
    },
    {
     "name": "stdout",
     "output_type": "stream",
     "text": [
      "\r",
      "Upgrading database; v2 -> v3: : 0it [00:00, ?it/s]"
     ]
    },
    {
     "name": "stdout",
     "output_type": "stream",
     "text": [
      "\r",
      "Upgrading database; v2 -> v3: : 0it [00:00, ?it/s]"
     ]
    },
    {
     "name": "stdout",
     "output_type": "stream",
     "text": [
      "\n",
      "\r",
      "0it [00:00, ?it/s]"
     ]
    },
    {
     "name": "stdout",
     "output_type": "stream",
     "text": [
      "\r",
      "Upgrading database; v3 -> v4: : 0it [00:00, ?it/s]"
     ]
    },
    {
     "name": "stdout",
     "output_type": "stream",
     "text": [
      "\r",
      "Upgrading database; v3 -> v4: : 0it [00:00, ?it/s]"
     ]
    },
    {
     "name": "stdout",
     "output_type": "stream",
     "text": [
      "\n",
      "\r",
      "  0%|          | 0/1 [00:00<?, ?it/s]"
     ]
    },
    {
     "name": "stdout",
     "output_type": "stream",
     "text": [
      "\r",
      "Upgrading database; v4 -> v5:   0%|          | 0/1 [00:00<?, ?it/s]"
     ]
    },
    {
     "name": "stdout",
     "output_type": "stream",
     "text": [
      "\r",
      "Upgrading database; v4 -> v5: 100%|██████████| 1/1 [00:00<00:00, 1307.04it/s]"
     ]
    },
    {
     "name": "stdout",
     "output_type": "stream",
     "text": [
      "\n",
      "\r",
      "0it [00:00, ?it/s]"
     ]
    },
    {
     "name": "stdout",
     "output_type": "stream",
     "text": [
      "\r",
      "Upgrading database; v5 -> v6: : 0it [00:00, ?it/s]"
     ]
    },
    {
     "name": "stdout",
     "output_type": "stream",
     "text": [
      "\r",
      "Upgrading database; v5 -> v6: : 0it [00:00, ?it/s]"
     ]
    },
    {
     "name": "stdout",
     "output_type": "stream",
     "text": [
      "\n",
      "\r",
      "  0%|          | 0/1 [00:00<?, ?it/s]"
     ]
    },
    {
     "name": "stdout",
     "output_type": "stream",
     "text": [
      "\r",
      "Upgrading database; v6 -> v7:   0%|          | 0/1 [00:00<?, ?it/s]"
     ]
    },
    {
     "name": "stdout",
     "output_type": "stream",
     "text": [
      "\r",
      "Upgrading database; v6 -> v7: 100%|██████████| 1/1 [00:00<00:00, 336.81it/s]"
     ]
    },
    {
     "name": "stdout",
     "output_type": "stream",
     "text": [
      "\n",
      "\r",
      "  0%|          | 0/1 [00:00<?, ?it/s]"
     ]
    },
    {
     "name": "stdout",
     "output_type": "stream",
     "text": [
      "\r",
      "Upgrading database; v7 -> v8:   0%|          | 0/1 [00:00<?, ?it/s]"
     ]
    },
    {
     "name": "stdout",
     "output_type": "stream",
     "text": [
      "\r",
      "Upgrading database; v7 -> v8: 100%|██████████| 1/1 [00:00<00:00, 1009.70it/s]"
     ]
    },
    {
     "name": "stdout",
     "output_type": "stream",
     "text": [
      "\n",
      "\r",
      "  0%|          | 0/1 [00:00<?, ?it/s]"
     ]
    },
    {
     "name": "stdout",
     "output_type": "stream",
     "text": [
      "\r",
      "Upgrading database; v8 -> v9:   0%|          | 0/1 [00:00<?, ?it/s]"
     ]
    },
    {
     "name": "stdout",
     "output_type": "stream",
     "text": [
      "\r",
      "Upgrading database; v8 -> v9: 100%|██████████| 1/1 [00:00<00:00, 611.86it/s]"
     ]
    },
    {
     "name": "stdout",
     "output_type": "stream",
     "text": [
      "\n"
     ]
    }
   ],
   "source": [
    "initialise_database()\n",
    "exp = load_or_create_experiment(experiment_name='tutorial_exp', sample_name=\"no sample\")"
   ]
  },
  {
   "cell_type": "markdown",
   "metadata": {},
   "source": [
    "Here, we define a simple function to benchmark the time it takes to insert n points with either numeric or array data type.\n",
    "We will compare both the time used to call ``add_result`` and the time used for the full measurement."
   ]
  },
  {
   "cell_type": "code",
   "execution_count": 4,
   "metadata": {
    "execution": {
     "iopub.execute_input": "2021-04-22T15:29:55.751380Z",
     "iopub.status.busy": "2021-04-22T15:29:55.750278Z",
     "iopub.status.idle": "2021-04-22T15:29:55.751934Z",
     "shell.execute_reply": "2021-04-22T15:29:55.752334Z"
    }
   },
   "outputs": [],
   "source": [
    "def insert_data(paramtype, npoints, nreps=1):\n",
    "\n",
    "    meas = Measurement(exp=exp)\n",
    "\n",
    "    x1 = ManualParameter('x1')\n",
    "    x2 = ManualParameter('x2')\n",
    "    x3 = ManualParameter('x3')\n",
    "    y1 = ManualParameter('y1')\n",
    "    y2 = ManualParameter('y2')\n",
    "\n",
    "    meas.register_parameter(x1, paramtype=paramtype)\n",
    "    meas.register_parameter(x2, paramtype=paramtype)\n",
    "    meas.register_parameter(x3, paramtype=paramtype)\n",
    "    meas.register_parameter(y1, setpoints=[x1, x2, x3],\n",
    "                            paramtype=paramtype)\n",
    "    meas.register_parameter(y2, setpoints=[x1, x2, x3],\n",
    "                            paramtype=paramtype)\n",
    "    start = time.perf_counter()\n",
    "    with meas.run() as datasaver:\n",
    "        start_adding = time.perf_counter()\n",
    "        for i in range(nreps):\n",
    "            datasaver.add_result((x1, np.random.rand(npoints)),\n",
    "                                 (x2, np.random.rand(npoints)),\n",
    "                                 (x3, np.random.rand(npoints)),\n",
    "                                 (y1, np.random.rand(npoints)),\n",
    "                                 (y2, np.random.rand(npoints)))\n",
    "        stop_adding = time.perf_counter()\n",
    "        run_id = datasaver.run_id\n",
    "    stop = time.perf_counter()\n",
    "    tot_time = stop - start\n",
    "    add_time = stop_adding - start_adding\n",
    "    return tot_time, add_time, run_id"
   ]
  },
  {
   "cell_type": "markdown",
   "metadata": {},
   "source": [
    "## Comparison between numeric/array data and binary blob"
   ]
  },
  {
   "cell_type": "markdown",
   "metadata": {},
   "source": [
    "### Case1: Short experiment time"
   ]
  },
  {
   "cell_type": "code",
   "execution_count": 5,
   "metadata": {
    "execution": {
     "iopub.execute_input": "2021-04-22T15:29:55.758100Z",
     "iopub.status.busy": "2021-04-22T15:29:55.757560Z",
     "iopub.status.idle": "2021-04-22T15:29:56.438199Z",
     "shell.execute_reply": "2021-04-22T15:29:56.437703Z"
    }
   },
   "outputs": [
    {
     "name": "stdout",
     "output_type": "stream",
     "text": [
      "Starting experimental run with id: 1. \n",
      "Starting experimental run with id: 2. \n",
      "Starting experimental run with id: 3. \n",
      "Starting experimental run with id: 4. \n",
      "Starting experimental run with id: 5. \n"
     ]
    },
    {
     "name": "stdout",
     "output_type": "stream",
     "text": [
      "Starting experimental run with id: 6. "
     ]
    },
    {
     "name": "stdout",
     "output_type": "stream",
     "text": [
      "\n"
     ]
    },
    {
     "name": "stdout",
     "output_type": "stream",
     "text": [
      "Starting experimental run with id: 7. "
     ]
    },
    {
     "name": "stdout",
     "output_type": "stream",
     "text": [
      "\n"
     ]
    },
    {
     "name": "stdout",
     "output_type": "stream",
     "text": [
      "Starting experimental run with id: 8. \n",
      "Starting experimental run with id: 9. \n"
     ]
    },
    {
     "name": "stdout",
     "output_type": "stream",
     "text": [
      "Starting experimental run with id: 10. \n"
     ]
    },
    {
     "name": "stdout",
     "output_type": "stream",
     "text": [
      "Starting experimental run with id: 11. \n"
     ]
    },
    {
     "name": "stdout",
     "output_type": "stream",
     "text": [
      "Starting experimental run with id: 12. \n",
      "Starting experimental run with id: 13. \n"
     ]
    },
    {
     "name": "stdout",
     "output_type": "stream",
     "text": [
      "Starting experimental run with id: 14. \n"
     ]
    }
   ],
   "source": [
    "sizes = [1,500,1000,2000,3000,4000,5000]\n",
    "t_numeric = []\n",
    "t_numeric_add = []\n",
    "t_array = []\n",
    "t_array_add = []\n",
    "for size in sizes:\n",
    "    tn, tna, run_id_n =  insert_data('numeric', size)\n",
    "    t_numeric.append(tn)\n",
    "    t_numeric_add.append(tna)\n",
    "\n",
    "    ta, taa, run_id_a =  insert_data('array', size)\n",
    "    t_array.append(ta)\n",
    "    t_array_add.append(taa)"
   ]
  },
  {
   "cell_type": "code",
   "execution_count": 6,
   "metadata": {
    "execution": {
     "iopub.execute_input": "2021-04-22T15:29:56.455087Z",
     "iopub.status.busy": "2021-04-22T15:29:56.454616Z",
     "iopub.status.idle": "2021-04-22T15:29:56.616733Z",
     "shell.execute_reply": "2021-04-22T15:29:56.617322Z"
    }
   },
   "outputs": [
    {
     "data": {
      "image/png": "[encoded data removed]",
      "text/plain": [
       "<Figure size 432x288 with 1 Axes>"
      ]
     },
     "metadata": {
      "needs_background": "light"
     },
     "output_type": "display_data"
    }
   ],
   "source": [
    "fig, ax = plt.subplots(1,1)\n",
    "ax.plot(sizes, t_numeric, 'o-', label='Inserting row-by-row')\n",
    "ax.plot(sizes, t_numeric_add, 'o-', label='Inserting row-by-row: add_result only')\n",
    "ax.plot(sizes, t_array, 'd-', label='Inserting as binary blob')\n",
    "ax.plot(sizes, t_array_add, 'd-', label='Inserting as binary blob: add_result only')\n",
    "ax.legend()\n",
    "ax.set_xlabel('Array length')\n",
    "ax.set_ylabel('Time (s)')\n",
    "fig.tight_layout()"
   ]
  },
  {
   "cell_type": "markdown",
   "metadata": {},
   "source": [
    "As shown in the latter figure, the time to setup and and close the experiment is approximately 0.4 sec. In case of small array sizes, the difference between inserting values of data as arrays and inserting them row-by-row is relatively unimportant. At larger array sizes, i.e. above 10000 points, the cost of writing data as individual datapoints starts to become important.\n"
   ]
  },
  {
   "cell_type": "markdown",
   "metadata": {},
   "source": [
    "### Case2: Long experiment time "
   ]
  },
  {
   "cell_type": "code",
   "execution_count": 7,
   "metadata": {
    "execution": {
     "iopub.execute_input": "2021-04-22T15:29:56.623609Z",
     "iopub.status.busy": "2021-04-22T15:29:56.622558Z",
     "iopub.status.idle": "2021-04-22T15:30:47.381437Z",
     "shell.execute_reply": "2021-04-22T15:30:47.380893Z"
    }
   },
   "outputs": [
    {
     "name": "stdout",
     "output_type": "stream",
     "text": [
      "Starting experimental run with id: 15. \n",
      "Starting experimental run with id: 16. \n",
      "Starting experimental run with id: 17. \n"
     ]
    },
    {
     "name": "stdout",
     "output_type": "stream",
     "text": [
      "Starting experimental run with id: 18. \n",
      "Starting experimental run with id: 19. \n"
     ]
    },
    {
     "name": "stdout",
     "output_type": "stream",
     "text": [
      "Starting experimental run with id: 20. \n"
     ]
    },
    {
     "name": "stdout",
     "output_type": "stream",
     "text": [
      "Starting experimental run with id: 21. \n"
     ]
    },
    {
     "name": "stdout",
     "output_type": "stream",
     "text": [
      "Starting experimental run with id: 22. \n"
     ]
    },
    {
     "name": "stdout",
     "output_type": "stream",
     "text": [
      "Starting experimental run with id: 23. \n"
     ]
    },
    {
     "name": "stdout",
     "output_type": "stream",
     "text": [
      "Starting experimental run with id: 24. \n"
     ]
    },
    {
     "name": "stdout",
     "output_type": "stream",
     "text": [
      "Starting experimental run with id: 25. \n"
     ]
    },
    {
     "name": "stdout",
     "output_type": "stream",
     "text": [
      "Starting experimental run with id: 26. \n"
     ]
    },
    {
     "name": "stdout",
     "output_type": "stream",
     "text": [
      "Starting experimental run with id: 27. \n"
     ]
    },
    {
     "name": "stdout",
     "output_type": "stream",
     "text": [
      "Starting experimental run with id: 28. \n"
     ]
    }
   ],
   "source": [
    "sizes = [1,500,1000,2000,3000,4000,5000]\n",
    "nreps = 100\n",
    "t_numeric = []\n",
    "t_numeric_add = []\n",
    "t_numeric_run_ids = []\n",
    "t_array = []\n",
    "t_array_add = []\n",
    "t_array_run_ids = []\n",
    "for size in sizes:\n",
    "    tn, tna, run_id_n =  insert_data('numeric', size, nreps=nreps)\n",
    "    t_numeric.append(tn)\n",
    "    t_numeric_add.append(tna)\n",
    "    t_numeric_run_ids.append(run_id_n)\n",
    "\n",
    "    ta, taa, run_id_a =  insert_data('array', size, nreps=nreps)\n",
    "    t_array.append(ta)\n",
    "    t_array_add.append(taa)\n",
    "    t_array_run_ids.append(run_id_a)"
   ]
  },
  {
   "cell_type": "code",
   "execution_count": 8,
   "metadata": {
    "execution": {
     "iopub.execute_input": "2021-04-22T15:30:47.419746Z",
     "iopub.status.busy": "2021-04-22T15:30:47.406760Z",
     "iopub.status.idle": "2021-04-22T15:30:47.549912Z",
     "shell.execute_reply": "2021-04-22T15:30:47.550285Z"
    },
    "scrolled": true
   },
   "outputs": [
    {
     "data": {
      "image/png": "[encoded data removed]",
      "text/plain": [
       "<Figure size 432x288 with 1 Axes>"
      ]
     },
     "metadata": {
      "needs_background": "light"
     },
     "output_type": "display_data"
    }
   ],
   "source": [
    "fig, ax = plt.subplots(1,1)\n",
    "ax.plot(sizes, t_numeric, 'o-', label='Inserting row-by-row')\n",
    "ax.plot(sizes, t_numeric_add, 'o-', label='Inserting row-by-row: add_result only')\n",
    "ax.plot(sizes, t_array, 'd-', label='Inserting as binary blob')\n",
    "ax.plot(sizes, t_array_add, 'd-', label='Inserting as binary blob: add_result only')\n",
    "ax.legend()\n",
    "ax.set_xlabel('Array length')\n",
    "ax.set_ylabel('Time (s)')\n",
    "fig.tight_layout()"
   ]
  },
  {
   "cell_type": "markdown",
   "metadata": {},
   "source": [
    "However, as we increase the length of the experiment, as seen here by repeating the insertion 100 times, we see a big difference between inserting values of the data row-by-row and inserting it as a binary blob."
   ]
  },
  {
   "cell_type": "markdown",
   "metadata": {},
   "source": [
    "## Loading the data "
   ]
  },
  {
   "cell_type": "code",
   "execution_count": 9,
   "metadata": {
    "execution": {
     "iopub.execute_input": "2021-04-22T15:30:47.553992Z",
     "iopub.status.busy": "2021-04-22T15:30:47.553564Z",
     "iopub.status.idle": "2021-04-22T15:30:47.556147Z",
     "shell.execute_reply": "2021-04-22T15:30:47.556504Z"
    }
   },
   "outputs": [],
   "source": [
    "from qcodes.dataset.data_set import load_by_id"
   ]
  },
  {
   "cell_type": "markdown",
   "metadata": {},
   "source": [
    "As usual you can load the data by using the ``load_by_id`` function but you will notice that the different storage methods\n",
    "are reflected in shape of the data as it is retrieved. "
   ]
  },
  {
   "cell_type": "code",
   "execution_count": 10,
   "metadata": {
    "execution": {
     "iopub.execute_input": "2021-04-22T15:30:47.559707Z",
     "iopub.status.busy": "2021-04-22T15:30:47.559281Z",
     "iopub.status.idle": "2021-04-22T15:30:47.561315Z",
     "shell.execute_reply": "2021-04-22T15:30:47.560962Z"
    }
   },
   "outputs": [],
   "source": [
    "run_id_n = t_numeric_run_ids[0]\n",
    "run_id_a = t_array_run_ids[0]"
   ]
  },
  {
   "cell_type": "code",
   "execution_count": 11,
   "metadata": {
    "execution": {
     "iopub.execute_input": "2021-04-22T15:30:47.564065Z",
     "iopub.status.busy": "2021-04-22T15:30:47.563642Z",
     "iopub.status.idle": "2021-04-22T15:30:47.572096Z",
     "shell.execute_reply": "2021-04-22T15:30:47.571738Z"
    },
    "scrolled": true
   },
   "outputs": [
    {
     "data": {
      "text/plain": [
       "{'x1': {'x1': array([0.30500328, 0.30500328, 0.4109024 , 0.4109024 , 0.86821375,\n",
       "         0.86821375, 0.74584635, 0.74584635, 0.49223971, 0.49223971,\n",
       "         0.23788831, 0.23788831, 0.66053689, 0.66053689, 0.2729686 ,\n",
       "         0.2729686 , 0.79391467, 0.79391467, 0.06392361, 0.06392361,\n",
       "         0.96260689, 0.96260689, 0.03208975, 0.03208975, 0.29793435,\n",
       "         0.29793435, 0.87935122, 0.87935122, 0.14538005, 0.14538005,\n",
       "         0.16643515, 0.16643515, 0.16280609, 0.16280609, 0.48040166,\n",
       "         0.48040166, 0.36019748, 0.36019748, 0.50690271, 0.50690271,\n",
       "         0.80990827, 0.80990827, 0.23233995, 0.23233995, 0.19603653,\n",
       "         0.19603653, 0.65451238, 0.65451238, 0.17360117, 0.17360117,\n",
       "         0.60859398, 0.60859398, 0.90362633, 0.90362633, 0.45957358,\n",
       "         0.45957358, 0.67697295, 0.67697295, 0.6603726 , 0.6603726 ,\n",
       "         0.71720992, 0.71720992, 0.09679511, 0.09679511, 0.98296917,\n",
       "         0.98296917, 0.79046894, 0.79046894, 0.61261482, 0.61261482,\n",
       "         0.33004664, 0.33004664, 0.71479663, 0.71479663, 0.23226419,\n",
       "         0.23226419, 0.89452672, 0.89452672, 0.10024642, 0.10024642,\n",
       "         0.78449904, 0.78449904, 0.24302815, 0.24302815, 0.62547849,\n",
       "         0.62547849, 0.06306013, 0.06306013, 0.29369287, 0.29369287,\n",
       "         0.33921138, 0.33921138, 0.17177327, 0.17177327, 0.9008097 ,\n",
       "         0.9008097 , 0.90254987, 0.90254987, 0.80082191, 0.80082191,\n",
       "         0.09942361, 0.09942361, 0.48549734, 0.48549734, 0.97014152,\n",
       "         0.97014152, 0.25898405, 0.25898405, 0.52511716, 0.52511716,\n",
       "         0.15638608, 0.15638608, 0.80281869, 0.80281869, 0.48417786,\n",
       "         0.48417786, 0.07276628, 0.07276628, 0.79092389, 0.79092389,\n",
       "         0.77495227, 0.77495227, 0.63238554, 0.63238554, 0.74106135,\n",
       "         0.74106135, 0.48026888, 0.48026888, 0.54888666, 0.54888666,\n",
       "         0.9989865 , 0.9989865 , 0.30013561, 0.30013561, 0.72491824,\n",
       "         0.72491824, 0.17030833, 0.17030833, 0.20204255, 0.20204255,\n",
       "         0.27638188, 0.27638188, 0.75852317, 0.75852317, 0.0013142 ,\n",
       "         0.0013142 , 0.54441761, 0.54441761, 0.08161802, 0.08161802,\n",
       "         0.33026239, 0.33026239, 0.50758918, 0.50758918, 0.62694764,\n",
       "         0.62694764, 0.37453845, 0.37453845, 0.38616194, 0.38616194,\n",
       "         0.41363089, 0.41363089, 0.82435781, 0.82435781, 0.36293076,\n",
       "         0.36293076, 0.30313144, 0.30313144, 0.32251042, 0.32251042,\n",
       "         0.82312416, 0.82312416, 0.02423074, 0.02423074, 0.71618253,\n",
       "         0.71618253, 0.46931211, 0.46931211, 0.64804314, 0.64804314,\n",
       "         0.86337993, 0.86337993, 0.87474585, 0.87474585, 0.26693137,\n",
       "         0.26693137, 0.05112635, 0.05112635, 0.30406831, 0.30406831,\n",
       "         0.52134346, 0.52134346, 0.18220745, 0.18220745, 0.04831136,\n",
       "         0.04831136, 0.3220381 , 0.3220381 , 0.44616473, 0.44616473])}}"
      ]
     },
     "execution_count": 1,
     "metadata": {},
     "output_type": "execute_result"
    }
   ],
   "source": [
    "ds = load_by_id(run_id_n)\n",
    "ds.get_parameter_data('x1')"
   ]
  },
  {
   "cell_type": "markdown",
   "metadata": {},
   "source": [
    "And a dataset stored as binary arrays"
   ]
  },
  {
   "cell_type": "code",
   "execution_count": 12,
   "metadata": {
    "execution": {
     "iopub.execute_input": "2021-04-22T15:30:47.574825Z",
     "iopub.status.busy": "2021-04-22T15:30:47.574387Z",
     "iopub.status.idle": "2021-04-22T15:30:47.623520Z",
     "shell.execute_reply": "2021-04-22T15:30:47.623860Z"
    },
    "scrolled": true
   },
   "outputs": [
    {
     "data": {
      "text/plain": [
       "{'x1': {'x1': array([[0.91859225],\n",
       "         [0.91859225],\n",
       "         [0.83005637],\n",
       "         [0.83005637],\n",
       "         [0.16990697],\n",
       "         [0.16990697],\n",
       "         [0.43191537],\n",
       "         [0.43191537],\n",
       "         [0.53350551],\n",
       "         [0.53350551],\n",
       "         [0.22729116],\n",
       "         [0.22729116],\n",
       "         [0.72078712],\n",
       "         [0.72078712],\n",
       "         [0.17654131],\n",
       "         [0.17654131],\n",
       "         [0.8992065 ],\n",
       "         [0.8992065 ],\n",
       "         [0.43736158],\n",
       "         [0.43736158],\n",
       "         [0.08419256],\n",
       "         [0.08419256],\n",
       "         [0.75928034],\n",
       "         [0.75928034],\n",
       "         [0.35338743],\n",
       "         [0.35338743],\n",
       "         [0.79822523],\n",
       "         [0.79822523],\n",
       "         [0.74162674],\n",
       "         [0.74162674],\n",
       "         [0.57561932],\n",
       "         [0.57561932],\n",
       "         [0.50568269],\n",
       "         [0.50568269],\n",
       "         [0.37906158],\n",
       "         [0.37906158],\n",
       "         [0.60760323],\n",
       "         [0.60760323],\n",
       "         [0.51334438],\n",
       "         [0.51334438],\n",
       "         [0.60265548],\n",
       "         [0.60265548],\n",
       "         [0.44406168],\n",
       "         [0.44406168],\n",
       "         [0.4098489 ],\n",
       "         [0.4098489 ],\n",
       "         [0.53119238],\n",
       "         [0.53119238],\n",
       "         [0.54917443],\n",
       "         [0.54917443],\n",
       "         [0.02613768],\n",
       "         [0.02613768],\n",
       "         [0.9210391 ],\n",
       "         [0.9210391 ],\n",
       "         [0.96726411],\n",
       "         [0.96726411],\n",
       "         [0.75627695],\n",
       "         [0.75627695],\n",
       "         [0.4052943 ],\n",
       "         [0.4052943 ],\n",
       "         [0.01792587],\n",
       "         [0.01792587],\n",
       "         [0.32889101],\n",
       "         [0.32889101],\n",
       "         [0.32424259],\n",
       "         [0.32424259],\n",
       "         [0.13844561],\n",
       "         [0.13844561],\n",
       "         [0.57504292],\n",
       "         [0.57504292],\n",
       "         [0.49140632],\n",
       "         [0.49140632],\n",
       "         [0.49052224],\n",
       "         [0.49052224],\n",
       "         [0.13922853],\n",
       "         [0.13922853],\n",
       "         [0.2240711 ],\n",
       "         [0.2240711 ],\n",
       "         [0.62559238],\n",
       "         [0.62559238],\n",
       "         [0.24658775],\n",
       "         [0.24658775],\n",
       "         [0.76385919],\n",
       "         [0.76385919],\n",
       "         [0.34368614],\n",
       "         [0.34368614],\n",
       "         [0.50998307],\n",
       "         [0.50998307],\n",
       "         [0.78680112],\n",
       "         [0.78680112],\n",
       "         [0.09957231],\n",
       "         [0.09957231],\n",
       "         [0.96566217],\n",
       "         [0.96566217],\n",
       "         [0.46999217],\n",
       "         [0.46999217],\n",
       "         [0.24224193],\n",
       "         [0.24224193],\n",
       "         [0.78815795],\n",
       "         [0.78815795],\n",
       "         [0.55496992],\n",
       "         [0.55496992],\n",
       "         [0.18447926],\n",
       "         [0.18447926],\n",
       "         [0.85352715],\n",
       "         [0.85352715],\n",
       "         [0.04818007],\n",
       "         [0.04818007],\n",
       "         [0.62174271],\n",
       "         [0.62174271],\n",
       "         [0.05420421],\n",
       "         [0.05420421],\n",
       "         [0.06352807],\n",
       "         [0.06352807],\n",
       "         [0.22618183],\n",
       "         [0.22618183],\n",
       "         [0.26043944],\n",
       "         [0.26043944],\n",
       "         [0.41624381],\n",
       "         [0.41624381],\n",
       "         [0.21460777],\n",
       "         [0.21460777],\n",
       "         [0.9256824 ],\n",
       "         [0.9256824 ],\n",
       "         [0.07065329],\n",
       "         [0.07065329],\n",
       "         [0.78452105],\n",
       "         [0.78452105],\n",
       "         [0.16220004],\n",
       "         [0.16220004],\n",
       "         [0.27114902],\n",
       "         [0.27114902],\n",
       "         [0.2831527 ],\n",
       "         [0.2831527 ],\n",
       "         [0.5653784 ],\n",
       "         [0.5653784 ],\n",
       "         [0.03058575],\n",
       "         [0.03058575],\n",
       "         [0.77159033],\n",
       "         [0.77159033],\n",
       "         [0.24318422],\n",
       "         [0.24318422],\n",
       "         [0.91671463],\n",
       "         [0.91671463],\n",
       "         [0.41550436],\n",
       "         [0.41550436],\n",
       "         [0.06114778],\n",
       "         [0.06114778],\n",
       "         [0.86887312],\n",
       "         [0.86887312],\n",
       "         [0.41328423],\n",
       "         [0.41328423],\n",
       "         [0.3627114 ],\n",
       "         [0.3627114 ],\n",
       "         [0.30982991],\n",
       "         [0.30982991],\n",
       "         [0.05822956],\n",
       "         [0.05822956],\n",
       "         [0.2046393 ],\n",
       "         [0.2046393 ],\n",
       "         [0.73674002],\n",
       "         [0.73674002],\n",
       "         [0.38194187],\n",
       "         [0.38194187],\n",
       "         [0.69167794],\n",
       "         [0.69167794],\n",
       "         [0.39839916],\n",
       "         [0.39839916],\n",
       "         [0.06972457],\n",
       "         [0.06972457],\n",
       "         [0.45193143],\n",
       "         [0.45193143],\n",
       "         [0.23108135],\n",
       "         [0.23108135],\n",
       "         [0.63716844],\n",
       "         [0.63716844],\n",
       "         [0.71241318],\n",
       "         [0.71241318],\n",
       "         [0.52603084],\n",
       "         [0.52603084],\n",
       "         [0.57930498],\n",
       "         [0.57930498],\n",
       "         [0.34131041],\n",
       "         [0.34131041],\n",
       "         [0.74098031],\n",
       "         [0.74098031],\n",
       "         [0.97481562],\n",
       "         [0.97481562],\n",
       "         [0.07581541],\n",
       "         [0.07581541],\n",
       "         [0.27974587],\n",
       "         [0.27974587],\n",
       "         [0.51458841],\n",
       "         [0.51458841],\n",
       "         [0.8980494 ],\n",
       "         [0.8980494 ],\n",
       "         [0.47144925],\n",
       "         [0.47144925],\n",
       "         [0.43001272],\n",
       "         [0.43001272]])}}"
      ]
     },
     "execution_count": 1,
     "metadata": {},
     "output_type": "execute_result"
    }
   ],
   "source": [
    "ds = load_by_id(run_id_a)\n",
    "ds.get_parameter_data('x1')"
   ]
  },
  {
   "cell_type": "code",
   "execution_count": null,
   "metadata": {},
   "outputs": [],
   "source": []
  }
 ],
 "metadata": {
  "kernelspec": {
   "display_name": "Python 3",
   "language": "python",
   "name": "python3"
  },
  "language_info": {
   "codemirror_mode": {
    "name": "ipython",
    "version": 3
   },
   "file_extension": ".py",
   "mimetype": "text/x-python",
   "name": "python",
   "nbconvert_exporter": "python",
   "pygments_lexer": "ipython3",
   "version": "3.7.10"
  },
  "nbsphinx": {
   "timeout": 600
  },
  "toc": {
   "base_numbering": 1,
   "nav_menu": {},
   "number_sections": true,
   "sideBar": true,
   "skip_h1_title": false,
   "title_cell": "Table of Contents",
   "title_sidebar": "Contents",
   "toc_cell": false,
   "toc_position": {},
   "toc_section_display": true,
   "toc_window_display": false
  },
  "varInspector": {
   "cols": {
    "lenName": 16,
    "lenType": 16,
    "lenVar": 40
   },
   "kernels_config": {
    "python": {
     "delete_cmd_postfix": "",
     "delete_cmd_prefix": "del ",
     "library": "var_list.py",
     "varRefreshCmd": "print(var_dic_list())"
    },
    "r": {
     "delete_cmd_postfix": ") ",
     "delete_cmd_prefix": "rm(",
     "library": "var_list.r",
     "varRefreshCmd": "cat(var_dic_list()) "
    }
   },
   "types_to_exclude": [
    "module",
    "function",
    "builtin_function_or_method",
    "instance",
    "_Feature"
   ],
   "window_display": false
  }
 },
 "nbformat": 4,
 "nbformat_minor": 4
}
