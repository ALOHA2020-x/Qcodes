{
 "cells": [
  {
   "cell_type": "markdown",
   "metadata": {},
   "source": [
    "# DataSet Performance\n",
    "\n",
    "This notebook shows the trade-off between inserting data into a database row-by-row and as binary blobs. Inserting the data row-by-row means that we have direct access to all the data and may perform queries directly on the values of the data. On the other hand, as we shall see, this is much slower than inserting the data directly as binary blobs."
   ]
  },
  {
   "cell_type": "markdown",
   "metadata": {},
   "source": [
    "First, we choose a new location for the database to ensure that we don't add a bunch of benchmarking data to the default one."
   ]
  },
  {
   "cell_type": "code",
   "execution_count": 1,
   "metadata": {},
   "outputs": [
    {
     "name": "stdout",
     "output_type": "stream",
     "text": [
      "Logging hadn't been started.\n",
      "Activating auto-logging. Current session state plus future input saved.\n",
      "Filename       : /home/vsts/.qcodes/logs/command_history.log\n",
      "Mode           : append\n",
      "Output logging : True\n",
      "Raw input log  : False\n",
      "Timestamping   : True\n",
      "State          : active\n"
     ]
    },
    {
     "name": "stdout",
     "output_type": "stream",
     "text": [
      "Qcodes Logfile : /home/vsts/.qcodes/logs/200608-18957-qcodes.log\n"
     ]
    }
   ],
   "source": [
    "import os\n",
    "cwd = os.getcwd()\n",
    "import qcodes as qc\n",
    "qc.config[\"core\"][\"db_location\"] = os.path.join(cwd, 'testing.db')\n"
   ]
  },
  {
   "cell_type": "code",
   "execution_count": 2,
   "metadata": {},
   "outputs": [],
   "source": [
    "%matplotlib inline\n",
    "import time\n",
    "import matplotlib.pyplot as plt\n",
    "import numpy as np\n",
    "\n",
    "import qcodes as qc\n",
    "from qcodes.instrument.parameter import ManualParameter\n",
    "from qcodes.dataset.experiment_container import (Experiment,\n",
    "                                                 load_last_experiment,\n",
    "                                                 new_experiment)\n",
    "from qcodes.dataset.sqlite.database import initialise_database\n",
    "from qcodes import load_or_create_experiment\n",
    "from qcodes.dataset.measurements import Measurement"
   ]
  },
  {
   "cell_type": "code",
   "execution_count": 3,
   "metadata": {},
   "outputs": [
    {
     "name": "stdout",
     "output_type": "stream",
     "text": [
      "\r",
      "0it [00:00, ?it/s]"
     ]
    },
    {
     "name": "stdout",
     "output_type": "stream",
     "text": [
      "\r",
      "Upgrading database; v0 -> v1: : 0it [00:00, ?it/s]"
     ]
    },
    {
     "name": "stdout",
     "output_type": "stream",
     "text": [
      "\r",
      "Upgrading database; v0 -> v1: : 0it [00:00, ?it/s]"
     ]
    },
    {
     "name": "stdout",
     "output_type": "stream",
     "text": [
      "\n",
      "\r",
      "  0%|          | 0/1 [00:00<?, ?it/s]"
     ]
    },
    {
     "name": "stdout",
     "output_type": "stream",
     "text": [
      "\r",
      "Upgrading database; v1 -> v2:   0%|          | 0/1 [00:00<?, ?it/s]"
     ]
    },
    {
     "name": "stdout",
     "output_type": "stream",
     "text": [
      "\r",
      "Upgrading database; v1 -> v2: 100%|██████████| 1/1 [00:00<00:00, 773.71it/s]"
     ]
    },
    {
     "name": "stdout",
     "output_type": "stream",
     "text": [
      "\n",
      "\r",
      "0it [00:00, ?it/s]"
     ]
    },
    {
     "name": "stdout",
     "output_type": "stream",
     "text": [
      "\r",
      "Upgrading database; v2 -> v3: : 0it [00:00, ?it/s]"
     ]
    },
    {
     "name": "stdout",
     "output_type": "stream",
     "text": [
      "\r",
      "Upgrading database; v2 -> v3: : 0it [00:00, ?it/s]"
     ]
    },
    {
     "name": "stdout",
     "output_type": "stream",
     "text": [
      "\n",
      "\r",
      "0it [00:00, ?it/s]"
     ]
    },
    {
     "name": "stdout",
     "output_type": "stream",
     "text": [
      "\r",
      "Upgrading database; v3 -> v4: : 0it [00:00, ?it/s]"
     ]
    },
    {
     "name": "stdout",
     "output_type": "stream",
     "text": [
      "\r",
      "Upgrading database; v3 -> v4: : 0it [00:00, ?it/s]"
     ]
    },
    {
     "name": "stdout",
     "output_type": "stream",
     "text": [
      "\n",
      "\r",
      "  0%|          | 0/1 [00:00<?, ?it/s]"
     ]
    },
    {
     "name": "stdout",
     "output_type": "stream",
     "text": [
      "\r",
      "Upgrading database; v4 -> v5:   0%|          | 0/1 [00:00<?, ?it/s]"
     ]
    },
    {
     "name": "stdout",
     "output_type": "stream",
     "text": [
      "\r",
      "Upgrading database; v4 -> v5: 100%|██████████| 1/1 [00:00<00:00, 741.44it/s]"
     ]
    },
    {
     "name": "stdout",
     "output_type": "stream",
     "text": [
      "\n",
      "\r",
      "0it [00:00, ?it/s]"
     ]
    },
    {
     "name": "stdout",
     "output_type": "stream",
     "text": [
      "\r",
      "Upgrading database; v5 -> v6: : 0it [00:00, ?it/s]"
     ]
    },
    {
     "name": "stdout",
     "output_type": "stream",
     "text": [
      "\r",
      "Upgrading database; v5 -> v6: : 0it [00:00, ?it/s]"
     ]
    },
    {
     "name": "stdout",
     "output_type": "stream",
     "text": [
      "\n",
      "\r",
      "  0%|          | 0/1 [00:00<?, ?it/s]"
     ]
    },
    {
     "name": "stdout",
     "output_type": "stream",
     "text": [
      "\r",
      "Upgrading database; v6 -> v7:   0%|          | 0/1 [00:00<?, ?it/s]"
     ]
    },
    {
     "name": "stdout",
     "output_type": "stream",
     "text": [
      "\r",
      "Upgrading database; v6 -> v7: 100%|██████████| 1/1 [00:00<00:00, 361.48it/s]"
     ]
    },
    {
     "name": "stdout",
     "output_type": "stream",
     "text": [
      "\n",
      "\r",
      "  0%|          | 0/1 [00:00<?, ?it/s]"
     ]
    },
    {
     "name": "stdout",
     "output_type": "stream",
     "text": [
      "\r",
      "Upgrading database; v7 -> v8:   0%|          | 0/1 [00:00<?, ?it/s]"
     ]
    },
    {
     "name": "stdout",
     "output_type": "stream",
     "text": [
      "\r",
      "Upgrading database; v7 -> v8: 100%|██████████| 1/1 [00:00<00:00, 665.87it/s]"
     ]
    },
    {
     "name": "stdout",
     "output_type": "stream",
     "text": [
      "\n",
      "\r",
      "  0%|          | 0/1 [00:00<?, ?it/s]"
     ]
    },
    {
     "name": "stdout",
     "output_type": "stream",
     "text": [
      "\r",
      "Upgrading database; v8 -> v9:   0%|          | 0/1 [00:00<?, ?it/s]"
     ]
    },
    {
     "name": "stdout",
     "output_type": "stream",
     "text": [
      "\r",
      "Upgrading database; v8 -> v9: 100%|██████████| 1/1 [00:00<00:00, 793.02it/s]"
     ]
    },
    {
     "name": "stdout",
     "output_type": "stream",
     "text": [
      "\n"
     ]
    }
   ],
   "source": [
    "initialise_database()\n",
    "exp = load_or_create_experiment(experiment_name='tutorial_exp', sample_name=\"no sample\")"
   ]
  },
  {
   "cell_type": "markdown",
   "metadata": {},
   "source": [
    "Here, we define a simple function to benchmark the time it takes to insert n points with either numeric or array data type.\n",
    "We will compare both the time used to call ``add_result`` and the time used for the full measurement."
   ]
  },
  {
   "cell_type": "code",
   "execution_count": 4,
   "metadata": {},
   "outputs": [],
   "source": [
    "def insert_data(paramtype, npoints, nreps=1):\n",
    "\n",
    "    meas = Measurement(exp=exp)\n",
    "\n",
    "    x1 = ManualParameter('x1')\n",
    "    x2 = ManualParameter('x2')\n",
    "    x3 = ManualParameter('x3')\n",
    "    y1 = ManualParameter('y1')\n",
    "    y2 = ManualParameter('y2')\n",
    "\n",
    "    meas.register_parameter(x1, paramtype=paramtype)\n",
    "    meas.register_parameter(x2, paramtype=paramtype)\n",
    "    meas.register_parameter(x3, paramtype=paramtype)\n",
    "    meas.register_parameter(y1, setpoints=[x1, x2, x3],\n",
    "                            paramtype=paramtype)\n",
    "    meas.register_parameter(y2, setpoints=[x1, x2, x3],\n",
    "                            paramtype=paramtype)\n",
    "    start = time.perf_counter()\n",
    "    with meas.run() as datasaver:\n",
    "        start_adding = time.perf_counter()\n",
    "        for i in range(nreps):\n",
    "            datasaver.add_result((x1, np.random.rand(npoints)),\n",
    "                                 (x2, np.random.rand(npoints)),\n",
    "                                 (x3, np.random.rand(npoints)),\n",
    "                                 (y1, np.random.rand(npoints)),\n",
    "                                 (y2, np.random.rand(npoints)))\n",
    "        stop_adding = time.perf_counter()\n",
    "        run_id = datasaver.run_id\n",
    "    stop = time.perf_counter()\n",
    "    tot_time = stop - start\n",
    "    add_time = stop_adding - start_adding\n",
    "    return tot_time, add_time, run_id"
   ]
  },
  {
   "cell_type": "markdown",
   "metadata": {},
   "source": [
    "## Comparison between numeric/array data and binary blob"
   ]
  },
  {
   "cell_type": "markdown",
   "metadata": {},
   "source": [
    "### Case1: Short experiment time"
   ]
  },
  {
   "cell_type": "code",
   "execution_count": 5,
   "metadata": {},
   "outputs": [
    {
     "name": "stdout",
     "output_type": "stream",
     "text": [
      "Starting experimental run with id: 1. \n",
      "Starting experimental run with id: 2. \n",
      "Starting experimental run with id: 3. \n",
      "Starting experimental run with id: 4. \n"
     ]
    },
    {
     "name": "stdout",
     "output_type": "stream",
     "text": [
      "Starting experimental run with id: 5. \n"
     ]
    },
    {
     "name": "stdout",
     "output_type": "stream",
     "text": [
      "Starting experimental run with id: 6. \n"
     ]
    },
    {
     "name": "stdout",
     "output_type": "stream",
     "text": [
      "Starting experimental run with id: 7. \n"
     ]
    },
    {
     "name": "stdout",
     "output_type": "stream",
     "text": [
      "Starting experimental run with id: 8. \n",
      "Starting experimental run with id: 9. \n"
     ]
    },
    {
     "name": "stdout",
     "output_type": "stream",
     "text": [
      "Starting experimental run with id: 10. \n",
      "Starting experimental run with id: 11. \n"
     ]
    },
    {
     "name": "stdout",
     "output_type": "stream",
     "text": [
      "Starting experimental run with id: 12. \n",
      "Starting experimental run with id: 13. \n"
     ]
    },
    {
     "name": "stdout",
     "output_type": "stream",
     "text": [
      "Starting experimental run with id: 14. \n"
     ]
    }
   ],
   "source": [
    "sizes = [1,500,1000,2000,3000,4000,5000]\n",
    "t_numeric = []\n",
    "t_numeric_add = []\n",
    "t_array = []\n",
    "t_array_add = []\n",
    "for size in sizes:\n",
    "    tn, tna, run_id_n =  insert_data('numeric', size)\n",
    "    t_numeric.append(tn)\n",
    "    t_numeric_add.append(tna)\n",
    "\n",
    "    ta, taa, run_id_a =  insert_data('array', size)\n",
    "    t_array.append(ta)\n",
    "    t_array_add.append(taa)"
   ]
  },
  {
   "cell_type": "code",
   "execution_count": 6,
   "metadata": {},
   "outputs": [
    {
     "data": {
      "image/png": "[encoded data removed]",
      "text/plain": [
       "<Figure size 432x288 with 1 Axes>"
      ]
     },
     "metadata": {
      "needs_background": "light"
     },
     "output_type": "display_data"
    }
   ],
   "source": [
    "fig, ax = plt.subplots(1,1)\n",
    "ax.plot(sizes, t_numeric, 'o-', label='Inserting row-by-row')\n",
    "ax.plot(sizes, t_numeric_add, 'o-', label='Inserting row-by-row: add_result only')\n",
    "ax.plot(sizes, t_array, 'd-', label='Inserting as binary blob')\n",
    "ax.plot(sizes, t_array_add, 'd-', label='Inserting as binary blob: add_result only')\n",
    "ax.legend()\n",
    "ax.set_xlabel('Array length')\n",
    "ax.set_ylabel('Time (s)')\n",
    "fig.tight_layout()"
   ]
  },
  {
   "cell_type": "markdown",
   "metadata": {},
   "source": [
    "As shown in the latter figure, the time to setup and and close the experiment is approximately 0.4 sec. In case of small array sizes, the difference between inserting values of data as arrays and inserting them row-by-row is relatively unimportant. At larger array sizes, i.e. above 10000 points, the cost of writing data as individual datapoints starts to become important.\n"
   ]
  },
  {
   "cell_type": "markdown",
   "metadata": {},
   "source": [
    "### Case2: Long experiment time "
   ]
  },
  {
   "cell_type": "code",
   "execution_count": 7,
   "metadata": {},
   "outputs": [
    {
     "name": "stdout",
     "output_type": "stream",
     "text": [
      "Starting experimental run with id: 15. \n",
      "Starting experimental run with id: 16. \n",
      "Starting experimental run with id: 17. \n"
     ]
    },
    {
     "name": "stdout",
     "output_type": "stream",
     "text": [
      "Starting experimental run with id: 18. \n",
      "Starting experimental run with id: 19. \n"
     ]
    },
    {
     "name": "stdout",
     "output_type": "stream",
     "text": [
      "Starting experimental run with id: 20. \n"
     ]
    },
    {
     "name": "stdout",
     "output_type": "stream",
     "text": [
      "Starting experimental run with id: 21. \n"
     ]
    },
    {
     "name": "stdout",
     "output_type": "stream",
     "text": [
      "Starting experimental run with id: 22. \n"
     ]
    },
    {
     "name": "stdout",
     "output_type": "stream",
     "text": [
      "Starting experimental run with id: 23. \n"
     ]
    },
    {
     "name": "stdout",
     "output_type": "stream",
     "text": [
      "Starting experimental run with id: 24. \n"
     ]
    },
    {
     "name": "stdout",
     "output_type": "stream",
     "text": [
      "Starting experimental run with id: 25. \n"
     ]
    },
    {
     "name": "stdout",
     "output_type": "stream",
     "text": [
      "Starting experimental run with id: 26. \n"
     ]
    },
    {
     "name": "stdout",
     "output_type": "stream",
     "text": [
      "Starting experimental run with id: 27. \n"
     ]
    },
    {
     "name": "stdout",
     "output_type": "stream",
     "text": [
      "Starting experimental run with id: 28. \n"
     ]
    }
   ],
   "source": [
    "sizes = [1,500,1000,2000,3000,4000,5000]\n",
    "nreps = 100\n",
    "t_numeric = []\n",
    "t_numeric_add = []\n",
    "t_numeric_run_ids = []\n",
    "t_array = []\n",
    "t_array_add = []\n",
    "t_array_run_ids = []\n",
    "for size in sizes:\n",
    "    tn, tna, run_id_n =  insert_data('numeric', size, nreps=nreps)\n",
    "    t_numeric.append(tn)\n",
    "    t_numeric_add.append(tna)\n",
    "    t_numeric_run_ids.append(run_id_n)\n",
    "\n",
    "    ta, taa, run_id_a =  insert_data('array', size, nreps=nreps)\n",
    "    t_array.append(ta)\n",
    "    t_array_add.append(taa)\n",
    "    t_array_run_ids.append(run_id_a)"
   ]
  },
  {
   "cell_type": "code",
   "execution_count": 8,
   "metadata": {
    "scrolled": true
   },
   "outputs": [
    {
     "data": {
      "image/png": "[encoded data removed]",
      "text/plain": [
       "<Figure size 432x288 with 1 Axes>"
      ]
     },
     "metadata": {
      "needs_background": "light"
     },
     "output_type": "display_data"
    }
   ],
   "source": [
    "fig, ax = plt.subplots(1,1)\n",
    "ax.plot(sizes, t_numeric, 'o-', label='Inserting row-by-row')\n",
    "ax.plot(sizes, t_numeric_add, 'o-', label='Inserting row-by-row: add_result only')\n",
    "ax.plot(sizes, t_array, 'd-', label='Inserting as binary blob')\n",
    "ax.plot(sizes, t_array_add, 'd-', label='Inserting as binary blob: add_result only')\n",
    "ax.legend()\n",
    "ax.set_xlabel('Array length')\n",
    "ax.set_ylabel('Time (s)')\n",
    "fig.tight_layout()"
   ]
  },
  {
   "cell_type": "markdown",
   "metadata": {},
   "source": [
    "However, as we increase the length of the experiment, as seen here by repeating the insertion 100 times, we see a big difference between inserting values of the data row-by-row and inserting it as a binary blob."
   ]
  },
  {
   "cell_type": "markdown",
   "metadata": {},
   "source": [
    "## Loading the data "
   ]
  },
  {
   "cell_type": "code",
   "execution_count": 9,
   "metadata": {},
   "outputs": [],
   "source": [
    "from qcodes.dataset.data_set import load_by_id\n",
    "from qcodes.dataset.data_export import get_data_by_id"
   ]
  },
  {
   "cell_type": "markdown",
   "metadata": {},
   "source": [
    "As usual you can load the data by using the ``load_by_id`` function but you will notice that the different storage methods\n",
    "are reflected in shape of the data as it is retrieved. "
   ]
  },
  {
   "cell_type": "code",
   "execution_count": 10,
   "metadata": {},
   "outputs": [],
   "source": [
    "run_id_n = t_numeric_run_ids[0]\n",
    "run_id_a = t_array_run_ids[0]"
   ]
  },
  {
   "cell_type": "code",
   "execution_count": 11,
   "metadata": {
    "scrolled": true
   },
   "outputs": [
    {
     "data": {
      "text/plain": [
       "{'x1': {'x1': array([0.89781699, 0.89781699, 0.35581101, 0.35581101, 0.92598233,\n",
       "         0.92598233, 0.272796  , 0.272796  , 0.03470299, 0.03470299,\n",
       "         0.09014467, 0.09014467, 0.37955562, 0.37955562, 0.36163857,\n",
       "         0.36163857, 0.49610326, 0.49610326, 0.11840161, 0.11840161,\n",
       "         0.24408022, 0.24408022, 0.14788025, 0.14788025, 0.2407729 ,\n",
       "         0.2407729 , 0.04472034, 0.04472034, 0.72706465, 0.72706465,\n",
       "         0.73933093, 0.73933093, 0.53396685, 0.53396685, 0.96487455,\n",
       "         0.96487455, 0.16755854, 0.16755854, 0.2232412 , 0.2232412 ,\n",
       "         0.08015331, 0.08015331, 0.1741207 , 0.1741207 , 0.64533856,\n",
       "         0.64533856, 0.31946063, 0.31946063, 0.60191155, 0.60191155,\n",
       "         0.48906399, 0.48906399, 0.2973713 , 0.2973713 , 0.32351737,\n",
       "         0.32351737, 0.97334949, 0.97334949, 0.38297148, 0.38297148,\n",
       "         0.10669405, 0.10669405, 0.23091867, 0.23091867, 0.52052459,\n",
       "         0.52052459, 0.36892471, 0.36892471, 0.84163184, 0.84163184,\n",
       "         0.96661308, 0.96661308, 0.8026836 , 0.8026836 , 0.84376785,\n",
       "         0.84376785, 0.17321682, 0.17321682, 0.54533953, 0.54533953,\n",
       "         0.28892742, 0.28892742, 0.50771916, 0.50771916, 0.82312328,\n",
       "         0.82312328, 0.19980509, 0.19980509, 0.55933328, 0.55933328,\n",
       "         0.84965149, 0.84965149, 0.50265095, 0.50265095, 0.28540858,\n",
       "         0.28540858, 0.47472116, 0.47472116, 0.08881543, 0.08881543,\n",
       "         0.41365533, 0.41365533, 0.58225729, 0.58225729, 0.00534077,\n",
       "         0.00534077, 0.49455799, 0.49455799, 0.10455933, 0.10455933,\n",
       "         0.3784533 , 0.3784533 , 0.88593545, 0.88593545, 0.08064068,\n",
       "         0.08064068, 0.35891786, 0.35891786, 0.51487126, 0.51487126,\n",
       "         0.18630605, 0.18630605, 0.23635221, 0.23635221, 0.61478927,\n",
       "         0.61478927, 0.6769942 , 0.6769942 , 0.87478256, 0.87478256,\n",
       "         0.72000962, 0.72000962, 0.27665858, 0.27665858, 0.0676264 ,\n",
       "         0.0676264 , 0.58384811, 0.58384811, 0.37265421, 0.37265421,\n",
       "         0.08225818, 0.08225818, 0.18489586, 0.18489586, 0.90995624,\n",
       "         0.90995624, 0.81226146, 0.81226146, 0.741577  , 0.741577  ,\n",
       "         0.28667424, 0.28667424, 0.50224959, 0.50224959, 0.37410707,\n",
       "         0.37410707, 0.19628859, 0.19628859, 0.94189294, 0.94189294,\n",
       "         0.98863871, 0.98863871, 0.40935645, 0.40935645, 0.94701735,\n",
       "         0.94701735, 0.07383239, 0.07383239, 0.75982904, 0.75982904,\n",
       "         0.23874666, 0.23874666, 0.67839063, 0.67839063, 0.60386772,\n",
       "         0.60386772, 0.27438319, 0.27438319, 0.46488724, 0.46488724,\n",
       "         0.71737276, 0.71737276, 0.54043969, 0.54043969, 0.4422737 ,\n",
       "         0.4422737 , 0.39710488, 0.39710488, 0.23363923, 0.23363923,\n",
       "         0.7264555 , 0.7264555 , 0.09685439, 0.09685439, 0.66441136,\n",
       "         0.66441136, 0.72461519, 0.72461519, 0.1175555 , 0.1175555 ])}}"
      ]
     },
     "execution_count": 11,
     "metadata": {},
     "output_type": "execute_result"
    }
   ],
   "source": [
    "ds = load_by_id(run_id_n)\n",
    "ds.get_parameter_data('x1')"
   ]
  },
  {
   "cell_type": "markdown",
   "metadata": {},
   "source": [
    "And a dataset stored as binary arrays"
   ]
  },
  {
   "cell_type": "code",
   "execution_count": 12,
   "metadata": {
    "scrolled": true
   },
   "outputs": [
    {
     "data": {
      "text/plain": [
       "{'x1': {'x1': array([[0.6436098 ],\n",
       "         [0.6436098 ],\n",
       "         [0.51696243],\n",
       "         [0.51696243],\n",
       "         [0.43782083],\n",
       "         [0.43782083],\n",
       "         [0.34964535],\n",
       "         [0.34964535],\n",
       "         [0.65438875],\n",
       "         [0.65438875],\n",
       "         [0.33590903],\n",
       "         [0.33590903],\n",
       "         [0.88400961],\n",
       "         [0.88400961],\n",
       "         [0.33810446],\n",
       "         [0.33810446],\n",
       "         [0.61017932],\n",
       "         [0.61017932],\n",
       "         [0.761361  ],\n",
       "         [0.761361  ],\n",
       "         [0.17806412],\n",
       "         [0.17806412],\n",
       "         [0.73808922],\n",
       "         [0.73808922],\n",
       "         [0.77498604],\n",
       "         [0.77498604],\n",
       "         [0.9441792 ],\n",
       "         [0.9441792 ],\n",
       "         [0.74448561],\n",
       "         [0.74448561],\n",
       "         [0.64766957],\n",
       "         [0.64766957],\n",
       "         [0.21801754],\n",
       "         [0.21801754],\n",
       "         [0.88170236],\n",
       "         [0.88170236],\n",
       "         [0.95900876],\n",
       "         [0.95900876],\n",
       "         [0.12960412],\n",
       "         [0.12960412],\n",
       "         [0.07496381],\n",
       "         [0.07496381],\n",
       "         [0.54505097],\n",
       "         [0.54505097],\n",
       "         [0.32681511],\n",
       "         [0.32681511],\n",
       "         [0.93412373],\n",
       "         [0.93412373],\n",
       "         [0.55210044],\n",
       "         [0.55210044],\n",
       "         [0.42467386],\n",
       "         [0.42467386],\n",
       "         [0.8615703 ],\n",
       "         [0.8615703 ],\n",
       "         [0.08932064],\n",
       "         [0.08932064],\n",
       "         [0.20916632],\n",
       "         [0.20916632],\n",
       "         [0.58225954],\n",
       "         [0.58225954],\n",
       "         [0.63780624],\n",
       "         [0.63780624],\n",
       "         [0.62934474],\n",
       "         [0.62934474],\n",
       "         [0.90077565],\n",
       "         [0.90077565],\n",
       "         [0.12685381],\n",
       "         [0.12685381],\n",
       "         [0.18397808],\n",
       "         [0.18397808],\n",
       "         [0.8036821 ],\n",
       "         [0.8036821 ],\n",
       "         [0.19247433],\n",
       "         [0.19247433],\n",
       "         [0.38163938],\n",
       "         [0.38163938],\n",
       "         [0.80538025],\n",
       "         [0.80538025],\n",
       "         [0.79944784],\n",
       "         [0.79944784],\n",
       "         [0.3938785 ],\n",
       "         [0.3938785 ],\n",
       "         [0.90287453],\n",
       "         [0.90287453],\n",
       "         [0.60774536],\n",
       "         [0.60774536],\n",
       "         [0.41029368],\n",
       "         [0.41029368],\n",
       "         [0.07953833],\n",
       "         [0.07953833],\n",
       "         [0.70001819],\n",
       "         [0.70001819],\n",
       "         [0.21533482],\n",
       "         [0.21533482],\n",
       "         [0.09868355],\n",
       "         [0.09868355],\n",
       "         [0.82062971],\n",
       "         [0.82062971],\n",
       "         [0.94876738],\n",
       "         [0.94876738],\n",
       "         [0.44084524],\n",
       "         [0.44084524],\n",
       "         [0.04904172],\n",
       "         [0.04904172],\n",
       "         [0.48263331],\n",
       "         [0.48263331],\n",
       "         [0.95722065],\n",
       "         [0.95722065],\n",
       "         [0.11926948],\n",
       "         [0.11926948],\n",
       "         [0.23245943],\n",
       "         [0.23245943],\n",
       "         [0.73953298],\n",
       "         [0.73953298],\n",
       "         [0.34157244],\n",
       "         [0.34157244],\n",
       "         [0.17670043],\n",
       "         [0.17670043],\n",
       "         [0.97091721],\n",
       "         [0.97091721],\n",
       "         [0.33433432],\n",
       "         [0.33433432],\n",
       "         [0.48265147],\n",
       "         [0.48265147],\n",
       "         [0.12805794],\n",
       "         [0.12805794],\n",
       "         [0.68610201],\n",
       "         [0.68610201],\n",
       "         [0.64393505],\n",
       "         [0.64393505],\n",
       "         [0.7969019 ],\n",
       "         [0.7969019 ],\n",
       "         [0.38882231],\n",
       "         [0.38882231],\n",
       "         [0.88989715],\n",
       "         [0.88989715],\n",
       "         [0.30829633],\n",
       "         [0.30829633],\n",
       "         [0.02459434],\n",
       "         [0.02459434],\n",
       "         [0.79598798],\n",
       "         [0.79598798],\n",
       "         [0.83973602],\n",
       "         [0.83973602],\n",
       "         [0.43760265],\n",
       "         [0.43760265],\n",
       "         [0.31703826],\n",
       "         [0.31703826],\n",
       "         [0.25185199],\n",
       "         [0.25185199],\n",
       "         [0.17025857],\n",
       "         [0.17025857],\n",
       "         [0.275599  ],\n",
       "         [0.275599  ],\n",
       "         [0.58656135],\n",
       "         [0.58656135],\n",
       "         [0.30719529],\n",
       "         [0.30719529],\n",
       "         [0.72169926],\n",
       "         [0.72169926],\n",
       "         [0.18275604],\n",
       "         [0.18275604],\n",
       "         [0.91609787],\n",
       "         [0.91609787],\n",
       "         [0.19141452],\n",
       "         [0.19141452],\n",
       "         [0.74035748],\n",
       "         [0.74035748],\n",
       "         [0.47464727],\n",
       "         [0.47464727],\n",
       "         [0.20671524],\n",
       "         [0.20671524],\n",
       "         [0.19670755],\n",
       "         [0.19670755],\n",
       "         [0.6101076 ],\n",
       "         [0.6101076 ],\n",
       "         [0.54051639],\n",
       "         [0.54051639],\n",
       "         [0.72188493],\n",
       "         [0.72188493],\n",
       "         [0.69453464],\n",
       "         [0.69453464],\n",
       "         [0.49687274],\n",
       "         [0.49687274],\n",
       "         [0.07310063],\n",
       "         [0.07310063],\n",
       "         [0.56752183],\n",
       "         [0.56752183],\n",
       "         [0.71199311],\n",
       "         [0.71199311],\n",
       "         [0.34152339],\n",
       "         [0.34152339],\n",
       "         [0.65143248],\n",
       "         [0.65143248],\n",
       "         [0.20947062],\n",
       "         [0.20947062],\n",
       "         [0.10605831],\n",
       "         [0.10605831],\n",
       "         [0.00775844],\n",
       "         [0.00775844]])}}"
      ]
     },
     "execution_count": 12,
     "metadata": {},
     "output_type": "execute_result"
    }
   ],
   "source": [
    "ds = load_by_id(run_id_a)\n",
    "ds.get_parameter_data('x1')"
   ]
  },
  {
   "cell_type": "code",
   "execution_count": null,
   "metadata": {},
   "outputs": [],
   "source": []
  }
 ],
 "metadata": {
  "kernelspec": {
   "display_name": "Python 3",
   "language": "python",
   "name": "python3"
  },
  "language_info": {
   "codemirror_mode": {
    "name": "ipython",
    "version": 3
   },
   "file_extension": ".py",
   "mimetype": "text/x-python",
   "name": "python",
   "nbconvert_exporter": "python",
   "pygments_lexer": "ipython3",
   "version": "3.7.7"
  },
  "nbsphinx": {
   "timeout": 600
  },
  "toc": {
   "base_numbering": 1,
   "nav_menu": {},
   "number_sections": true,
   "sideBar": true,
   "skip_h1_title": false,
   "title_cell": "Table of Contents",
   "title_sidebar": "Contents",
   "toc_cell": false,
   "toc_position": {},
   "toc_section_display": true,
   "toc_window_display": false
  },
  "varInspector": {
   "cols": {
    "lenName": 16,
    "lenType": 16,
    "lenVar": 40
   },
   "kernels_config": {
    "python": {
     "delete_cmd_postfix": "",
     "delete_cmd_prefix": "del ",
     "library": "var_list.py",
     "varRefreshCmd": "print(var_dic_list())"
    },
    "r": {
     "delete_cmd_postfix": ") ",
     "delete_cmd_prefix": "rm(",
     "library": "var_list.r",
     "varRefreshCmd": "cat(var_dic_list()) "
    }
   },
   "types_to_exclude": [
    "module",
    "function",
    "builtin_function_or_method",
    "instance",
    "_Feature"
   ],
   "window_display": false
  }
 },
 "nbformat": 4,
 "nbformat_minor": 2
}
