{
 "cells": [
  {
   "cell_type": "markdown",
   "metadata": {},
   "source": [
    "# DataSet Performance\n",
    "\n",
    "This notebook shows the trade-off between inserting data into a database row-by-row and as binary blobs. Inserting the data row-by-row means that we have direct access to all the data and may perform queries directly on the values of the data. On the other hand, as we shall see, this is much slower than inserting the data directly as binary blobs."
   ]
  },
  {
   "cell_type": "markdown",
   "metadata": {},
   "source": [
    "First, we choose a new location for the database to ensure that we don't add a bunch of benchmarking data to the default one."
   ]
  },
  {
   "cell_type": "code",
   "execution_count": 1,
   "metadata": {
    "execution": {
     "iopub.execute_input": "2020-09-18T17:57:28.644747Z",
     "iopub.status.busy": "2020-09-18T17:57:28.644228Z",
     "iopub.status.idle": "2020-09-18T17:57:29.745228Z",
     "shell.execute_reply": "2020-09-18T17:57:29.745695Z"
    }
   },
   "outputs": [
    {
     "name": "stdout",
     "output_type": "stream",
     "text": [
      "Logging hadn't been started.\n",
      "Activating auto-logging. Current session state plus future input saved.\n",
      "Filename       : /home/vsts/.qcodes/logs/command_history.log\n",
      "Mode           : append\n",
      "Output logging : True\n",
      "Raw input log  : False\n",
      "Timestamping   : True\n",
      "State          : active\n"
     ]
    },
    {
     "name": "stdout",
     "output_type": "stream",
     "text": [
      "Qcodes Logfile : /home/vsts/.qcodes/logs/200918-18426-qcodes.log\n"
     ]
    }
   ],
   "source": [
    "import os\n",
    "cwd = os.getcwd()\n",
    "import qcodes as qc\n",
    "qc.config[\"core\"][\"db_location\"] = os.path.join(cwd, 'testing.db')\n"
   ]
  },
  {
   "cell_type": "code",
   "execution_count": 2,
   "metadata": {
    "execution": {
     "iopub.execute_input": "2020-09-18T17:57:29.752181Z",
     "iopub.status.busy": "2020-09-18T17:57:29.751173Z",
     "iopub.status.idle": "2020-09-18T17:57:29.972846Z",
     "shell.execute_reply": "2020-09-18T17:57:29.971997Z"
    }
   },
   "outputs": [],
   "source": [
    "%matplotlib inline\n",
    "import time\n",
    "import matplotlib.pyplot as plt\n",
    "import numpy as np\n",
    "\n",
    "import qcodes as qc\n",
    "from qcodes.instrument.parameter import ManualParameter\n",
    "from qcodes.dataset.experiment_container import (Experiment,\n",
    "                                                 load_last_experiment,\n",
    "                                                 new_experiment)\n",
    "from qcodes.dataset.sqlite.database import initialise_database\n",
    "from qcodes import load_or_create_experiment\n",
    "from qcodes.dataset.measurements import Measurement"
   ]
  },
  {
   "cell_type": "code",
   "execution_count": 3,
   "metadata": {
    "execution": {
     "iopub.execute_input": "2020-09-18T17:57:29.976933Z",
     "iopub.status.busy": "2020-09-18T17:57:29.976404Z",
     "iopub.status.idle": "2020-09-18T17:57:30.130237Z",
     "shell.execute_reply": "2020-09-18T17:57:30.129752Z"
    }
   },
   "outputs": [
    {
     "name": "stdout",
     "output_type": "stream",
     "text": [
      "\r",
      "0it [00:00, ?it/s]"
     ]
    },
    {
     "name": "stdout",
     "output_type": "stream",
     "text": [
      "\r",
      "Upgrading database; v0 -> v1: : 0it [00:00, ?it/s]"
     ]
    },
    {
     "name": "stdout",
     "output_type": "stream",
     "text": [
      "\r",
      "Upgrading database; v0 -> v1: : 0it [00:00, ?it/s]"
     ]
    },
    {
     "name": "stdout",
     "output_type": "stream",
     "text": [
      "\n",
      "\r",
      "  0%|          | 0/1 [00:00<?, ?it/s]"
     ]
    },
    {
     "name": "stdout",
     "output_type": "stream",
     "text": [
      "\r",
      "Upgrading database; v1 -> v2:   0%|          | 0/1 [00:00<?, ?it/s]"
     ]
    },
    {
     "name": "stdout",
     "output_type": "stream",
     "text": [
      "\r",
      "Upgrading database; v1 -> v2: 100%|██████████| 1/1 [00:00<00:00, 379.99it/s]"
     ]
    },
    {
     "name": "stdout",
     "output_type": "stream",
     "text": [
      "\n",
      "\r",
      "0it [00:00, ?it/s]"
     ]
    },
    {
     "name": "stdout",
     "output_type": "stream",
     "text": [
      "\r",
      "Upgrading database; v2 -> v3: : 0it [00:00, ?it/s]"
     ]
    },
    {
     "name": "stdout",
     "output_type": "stream",
     "text": [
      "\r",
      "Upgrading database; v2 -> v3: : 0it [00:00, ?it/s]"
     ]
    },
    {
     "name": "stdout",
     "output_type": "stream",
     "text": [
      "\n",
      "\r",
      "0it [00:00, ?it/s]"
     ]
    },
    {
     "name": "stdout",
     "output_type": "stream",
     "text": [
      "\r",
      "Upgrading database; v3 -> v4: : 0it [00:00, ?it/s]"
     ]
    },
    {
     "name": "stdout",
     "output_type": "stream",
     "text": [
      "\r",
      "Upgrading database; v3 -> v4: : 0it [00:00, ?it/s]"
     ]
    },
    {
     "name": "stdout",
     "output_type": "stream",
     "text": [
      "\n",
      "\r",
      "  0%|          | 0/1 [00:00<?, ?it/s]"
     ]
    },
    {
     "name": "stdout",
     "output_type": "stream",
     "text": [
      "\r",
      "Upgrading database; v4 -> v5:   0%|          | 0/1 [00:00<?, ?it/s]"
     ]
    },
    {
     "name": "stdout",
     "output_type": "stream",
     "text": [
      "\r",
      "Upgrading database; v4 -> v5: 100%|██████████| 1/1 [00:00<00:00, 282.79it/s]"
     ]
    },
    {
     "name": "stdout",
     "output_type": "stream",
     "text": [
      "\n",
      "\r",
      "0it [00:00, ?it/s]"
     ]
    },
    {
     "name": "stdout",
     "output_type": "stream",
     "text": [
      "\r",
      "Upgrading database; v5 -> v6: : 0it [00:00, ?it/s]"
     ]
    },
    {
     "name": "stdout",
     "output_type": "stream",
     "text": [
      "\r",
      "Upgrading database; v5 -> v6: : 0it [00:00, ?it/s]"
     ]
    },
    {
     "name": "stdout",
     "output_type": "stream",
     "text": [
      "\n",
      "\r",
      "  0%|          | 0/1 [00:00<?, ?it/s]"
     ]
    },
    {
     "name": "stdout",
     "output_type": "stream",
     "text": [
      "\r",
      "Upgrading database; v6 -> v7:   0%|          | 0/1 [00:00<?, ?it/s]"
     ]
    },
    {
     "name": "stdout",
     "output_type": "stream",
     "text": [
      "\r",
      "Upgrading database; v6 -> v7: 100%|██████████| 1/1 [00:00<00:00, 259.93it/s]"
     ]
    },
    {
     "name": "stdout",
     "output_type": "stream",
     "text": [
      "\n",
      "\r",
      "  0%|          | 0/1 [00:00<?, ?it/s]"
     ]
    },
    {
     "name": "stdout",
     "output_type": "stream",
     "text": [
      "\r",
      "Upgrading database; v7 -> v8:   0%|          | 0/1 [00:00<?, ?it/s]"
     ]
    },
    {
     "name": "stdout",
     "output_type": "stream",
     "text": [
      "\r",
      "Upgrading database; v7 -> v8: 100%|██████████| 1/1 [00:00<00:00, 500.75it/s]"
     ]
    },
    {
     "name": "stdout",
     "output_type": "stream",
     "text": [
      "\n",
      "\r",
      "  0%|          | 0/1 [00:00<?, ?it/s]"
     ]
    },
    {
     "name": "stdout",
     "output_type": "stream",
     "text": [
      "\r",
      "Upgrading database; v8 -> v9:   0%|          | 0/1 [00:00<?, ?it/s]"
     ]
    },
    {
     "name": "stdout",
     "output_type": "stream",
     "text": [
      "\r",
      "Upgrading database; v8 -> v9: 100%|██████████| 1/1 [00:00<00:00, 359.04it/s]"
     ]
    },
    {
     "name": "stdout",
     "output_type": "stream",
     "text": [
      "\n"
     ]
    }
   ],
   "source": [
    "initialise_database()\n",
    "exp = load_or_create_experiment(experiment_name='tutorial_exp', sample_name=\"no sample\")"
   ]
  },
  {
   "cell_type": "markdown",
   "metadata": {},
   "source": [
    "Here, we define a simple function to benchmark the time it takes to insert n points with either numeric or array data type.\n",
    "We will compare both the time used to call ``add_result`` and the time used for the full measurement."
   ]
  },
  {
   "cell_type": "code",
   "execution_count": 4,
   "metadata": {
    "execution": {
     "iopub.execute_input": "2020-09-18T17:57:30.139836Z",
     "iopub.status.busy": "2020-09-18T17:57:30.139268Z",
     "iopub.status.idle": "2020-09-18T17:57:30.143065Z",
     "shell.execute_reply": "2020-09-18T17:57:30.142594Z"
    }
   },
   "outputs": [],
   "source": [
    "def insert_data(paramtype, npoints, nreps=1):\n",
    "\n",
    "    meas = Measurement(exp=exp)\n",
    "\n",
    "    x1 = ManualParameter('x1')\n",
    "    x2 = ManualParameter('x2')\n",
    "    x3 = ManualParameter('x3')\n",
    "    y1 = ManualParameter('y1')\n",
    "    y2 = ManualParameter('y2')\n",
    "\n",
    "    meas.register_parameter(x1, paramtype=paramtype)\n",
    "    meas.register_parameter(x2, paramtype=paramtype)\n",
    "    meas.register_parameter(x3, paramtype=paramtype)\n",
    "    meas.register_parameter(y1, setpoints=[x1, x2, x3],\n",
    "                            paramtype=paramtype)\n",
    "    meas.register_parameter(y2, setpoints=[x1, x2, x3],\n",
    "                            paramtype=paramtype)\n",
    "    start = time.perf_counter()\n",
    "    with meas.run() as datasaver:\n",
    "        start_adding = time.perf_counter()\n",
    "        for i in range(nreps):\n",
    "            datasaver.add_result((x1, np.random.rand(npoints)),\n",
    "                                 (x2, np.random.rand(npoints)),\n",
    "                                 (x3, np.random.rand(npoints)),\n",
    "                                 (y1, np.random.rand(npoints)),\n",
    "                                 (y2, np.random.rand(npoints)))\n",
    "        stop_adding = time.perf_counter()\n",
    "        run_id = datasaver.run_id\n",
    "    stop = time.perf_counter()\n",
    "    tot_time = stop - start\n",
    "    add_time = stop_adding - start_adding\n",
    "    return tot_time, add_time, run_id"
   ]
  },
  {
   "cell_type": "markdown",
   "metadata": {},
   "source": [
    "## Comparison between numeric/array data and binary blob"
   ]
  },
  {
   "cell_type": "markdown",
   "metadata": {},
   "source": [
    "### Case1: Short experiment time"
   ]
  },
  {
   "cell_type": "code",
   "execution_count": 5,
   "metadata": {
    "execution": {
     "iopub.execute_input": "2020-09-18T17:57:30.150417Z",
     "iopub.status.busy": "2020-09-18T17:57:30.149864Z",
     "iopub.status.idle": "2020-09-18T17:57:31.069663Z",
     "shell.execute_reply": "2020-09-18T17:57:31.069167Z"
    }
   },
   "outputs": [
    {
     "name": "stdout",
     "output_type": "stream",
     "text": [
      "Starting experimental run with id: 1. \n",
      "Starting experimental run with id: 2. \n",
      "Starting experimental run with id: 3. \n"
     ]
    },
    {
     "name": "stdout",
     "output_type": "stream",
     "text": [
      "Starting experimental run with id: 4. \n"
     ]
    },
    {
     "name": "stdout",
     "output_type": "stream",
     "text": [
      "Starting experimental run with id: 5. "
     ]
    },
    {
     "name": "stdout",
     "output_type": "stream",
     "text": [
      "\n"
     ]
    },
    {
     "name": "stdout",
     "output_type": "stream",
     "text": [
      "Starting experimental run with id: 6. \n",
      "Starting experimental run with id: 7. \n"
     ]
    },
    {
     "name": "stdout",
     "output_type": "stream",
     "text": [
      "Starting experimental run with id: 8. \n"
     ]
    },
    {
     "name": "stdout",
     "output_type": "stream",
     "text": [
      "Starting experimental run with id: 9. \n"
     ]
    },
    {
     "name": "stdout",
     "output_type": "stream",
     "text": [
      "Starting experimental run with id: 10. \n",
      "Starting experimental run with id: 11. \n"
     ]
    },
    {
     "name": "stdout",
     "output_type": "stream",
     "text": [
      "Starting experimental run with id: 12. \n"
     ]
    },
    {
     "name": "stdout",
     "output_type": "stream",
     "text": [
      "Starting experimental run with id: 13. \n"
     ]
    },
    {
     "name": "stdout",
     "output_type": "stream",
     "text": [
      "Starting experimental run with id: 14. \n"
     ]
    }
   ],
   "source": [
    "sizes = [1,500,1000,2000,3000,4000,5000]\n",
    "t_numeric = []\n",
    "t_numeric_add = []\n",
    "t_array = []\n",
    "t_array_add = []\n",
    "for size in sizes:\n",
    "    tn, tna, run_id_n =  insert_data('numeric', size)\n",
    "    t_numeric.append(tn)\n",
    "    t_numeric_add.append(tna)\n",
    "\n",
    "    ta, taa, run_id_a =  insert_data('array', size)\n",
    "    t_array.append(ta)\n",
    "    t_array_add.append(taa)"
   ]
  },
  {
   "cell_type": "code",
   "execution_count": 6,
   "metadata": {
    "execution": {
     "iopub.execute_input": "2020-09-18T17:57:31.087663Z",
     "iopub.status.busy": "2020-09-18T17:57:31.087091Z",
     "iopub.status.idle": "2020-09-18T17:57:31.274629Z",
     "shell.execute_reply": "2020-09-18T17:57:31.274023Z"
    }
   },
   "outputs": [
    {
     "data": {
      "image/png": "[encoded data removed]",
      "text/plain": [
       "<Figure size 432x288 with 1 Axes>"
      ]
     },
     "metadata": {
      "needs_background": "light"
     },
     "output_type": "display_data"
    }
   ],
   "source": [
    "fig, ax = plt.subplots(1,1)\n",
    "ax.plot(sizes, t_numeric, 'o-', label='Inserting row-by-row')\n",
    "ax.plot(sizes, t_numeric_add, 'o-', label='Inserting row-by-row: add_result only')\n",
    "ax.plot(sizes, t_array, 'd-', label='Inserting as binary blob')\n",
    "ax.plot(sizes, t_array_add, 'd-', label='Inserting as binary blob: add_result only')\n",
    "ax.legend()\n",
    "ax.set_xlabel('Array length')\n",
    "ax.set_ylabel('Time (s)')\n",
    "fig.tight_layout()"
   ]
  },
  {
   "cell_type": "markdown",
   "metadata": {},
   "source": [
    "As shown in the latter figure, the time to setup and and close the experiment is approximately 0.4 sec. In case of small array sizes, the difference between inserting values of data as arrays and inserting them row-by-row is relatively unimportant. At larger array sizes, i.e. above 10000 points, the cost of writing data as individual datapoints starts to become important.\n"
   ]
  },
  {
   "cell_type": "markdown",
   "metadata": {},
   "source": [
    "### Case2: Long experiment time "
   ]
  },
  {
   "cell_type": "code",
   "execution_count": 7,
   "metadata": {
    "execution": {
     "iopub.execute_input": "2020-09-18T17:57:31.283022Z",
     "iopub.status.busy": "2020-09-18T17:57:31.282369Z",
     "iopub.status.idle": "2020-09-18T17:58:29.586187Z",
     "shell.execute_reply": "2020-09-18T17:58:29.585618Z"
    }
   },
   "outputs": [
    {
     "name": "stdout",
     "output_type": "stream",
     "text": [
      "Starting experimental run with id: 15. \n",
      "Starting experimental run with id: 16. \n",
      "Starting experimental run with id: 17. \n"
     ]
    },
    {
     "name": "stdout",
     "output_type": "stream",
     "text": [
      "Starting experimental run with id: 18. \n",
      "Starting experimental run with id: 19. \n"
     ]
    },
    {
     "name": "stdout",
     "output_type": "stream",
     "text": [
      "Starting experimental run with id: 20. \n"
     ]
    },
    {
     "name": "stdout",
     "output_type": "stream",
     "text": [
      "Starting experimental run with id: 21. \n"
     ]
    },
    {
     "name": "stdout",
     "output_type": "stream",
     "text": [
      "Starting experimental run with id: 22. \n"
     ]
    },
    {
     "name": "stdout",
     "output_type": "stream",
     "text": [
      "Starting experimental run with id: 23. \n"
     ]
    },
    {
     "name": "stdout",
     "output_type": "stream",
     "text": [
      "Starting experimental run with id: 24. \n"
     ]
    },
    {
     "name": "stdout",
     "output_type": "stream",
     "text": [
      "Starting experimental run with id: 25. \n"
     ]
    },
    {
     "name": "stdout",
     "output_type": "stream",
     "text": [
      "Starting experimental run with id: 26. \n"
     ]
    },
    {
     "name": "stdout",
     "output_type": "stream",
     "text": [
      "Starting experimental run with id: 27. \n"
     ]
    },
    {
     "name": "stdout",
     "output_type": "stream",
     "text": [
      "Starting experimental run with id: 28. \n"
     ]
    }
   ],
   "source": [
    "sizes = [1,500,1000,2000,3000,4000,5000]\n",
    "nreps = 100\n",
    "t_numeric = []\n",
    "t_numeric_add = []\n",
    "t_numeric_run_ids = []\n",
    "t_array = []\n",
    "t_array_add = []\n",
    "t_array_run_ids = []\n",
    "for size in sizes:\n",
    "    tn, tna, run_id_n =  insert_data('numeric', size, nreps=nreps)\n",
    "    t_numeric.append(tn)\n",
    "    t_numeric_add.append(tna)\n",
    "    t_numeric_run_ids.append(run_id_n)\n",
    "\n",
    "    ta, taa, run_id_a =  insert_data('array', size, nreps=nreps)\n",
    "    t_array.append(ta)\n",
    "    t_array_add.append(taa)\n",
    "    t_array_run_ids.append(run_id_a)"
   ]
  },
  {
   "cell_type": "code",
   "execution_count": 8,
   "metadata": {
    "execution": {
     "iopub.execute_input": "2020-09-18T17:58:29.608064Z",
     "iopub.status.busy": "2020-09-18T17:58:29.604166Z",
     "iopub.status.idle": "2020-09-18T17:58:29.806779Z",
     "shell.execute_reply": "2020-09-18T17:58:29.806285Z"
    },
    "scrolled": true
   },
   "outputs": [
    {
     "data": {
      "image/png": "[encoded data removed]",
      "text/plain": [
       "<Figure size 432x288 with 1 Axes>"
      ]
     },
     "metadata": {
      "needs_background": "light"
     },
     "output_type": "display_data"
    }
   ],
   "source": [
    "fig, ax = plt.subplots(1,1)\n",
    "ax.plot(sizes, t_numeric, 'o-', label='Inserting row-by-row')\n",
    "ax.plot(sizes, t_numeric_add, 'o-', label='Inserting row-by-row: add_result only')\n",
    "ax.plot(sizes, t_array, 'd-', label='Inserting as binary blob')\n",
    "ax.plot(sizes, t_array_add, 'd-', label='Inserting as binary blob: add_result only')\n",
    "ax.legend()\n",
    "ax.set_xlabel('Array length')\n",
    "ax.set_ylabel('Time (s)')\n",
    "fig.tight_layout()"
   ]
  },
  {
   "cell_type": "markdown",
   "metadata": {},
   "source": [
    "However, as we increase the length of the experiment, as seen here by repeating the insertion 100 times, we see a big difference between inserting values of the data row-by-row and inserting it as a binary blob."
   ]
  },
  {
   "cell_type": "markdown",
   "metadata": {},
   "source": [
    "## Loading the data "
   ]
  },
  {
   "cell_type": "code",
   "execution_count": 9,
   "metadata": {
    "execution": {
     "iopub.execute_input": "2020-09-18T17:58:29.811541Z",
     "iopub.status.busy": "2020-09-18T17:58:29.810573Z",
     "iopub.status.idle": "2020-09-18T17:58:29.819027Z",
     "shell.execute_reply": "2020-09-18T17:58:29.818367Z"
    }
   },
   "outputs": [],
   "source": [
    "from qcodes.dataset.data_set import load_by_id\n",
    "from qcodes.dataset.data_export import get_data_by_id"
   ]
  },
  {
   "cell_type": "markdown",
   "metadata": {},
   "source": [
    "As usual you can load the data by using the ``load_by_id`` function but you will notice that the different storage methods\n",
    "are reflected in shape of the data as it is retrieved. "
   ]
  },
  {
   "cell_type": "code",
   "execution_count": 10,
   "metadata": {
    "execution": {
     "iopub.execute_input": "2020-09-18T17:58:29.823565Z",
     "iopub.status.busy": "2020-09-18T17:58:29.822986Z",
     "iopub.status.idle": "2020-09-18T17:58:29.825612Z",
     "shell.execute_reply": "2020-09-18T17:58:29.826179Z"
    }
   },
   "outputs": [],
   "source": [
    "run_id_n = t_numeric_run_ids[0]\n",
    "run_id_a = t_array_run_ids[0]"
   ]
  },
  {
   "cell_type": "code",
   "execution_count": 11,
   "metadata": {
    "execution": {
     "iopub.execute_input": "2020-09-18T17:58:29.829818Z",
     "iopub.status.busy": "2020-09-18T17:58:29.829274Z",
     "iopub.status.idle": "2020-09-18T17:58:29.839161Z",
     "shell.execute_reply": "2020-09-18T17:58:29.838560Z"
    },
    "scrolled": true
   },
   "outputs": [
    {
     "data": {
      "text/plain": [
       "{'x1': {'x1': array([2.16290254e-01, 2.16290254e-01, 2.33682065e-01, 2.33682065e-01,\n",
       "         2.53065748e-01, 2.53065748e-01, 4.05292482e-01, 4.05292482e-01,\n",
       "         2.41560457e-01, 2.41560457e-01, 9.37186391e-01, 9.37186391e-01,\n",
       "         3.67536021e-01, 3.67536021e-01, 4.52015279e-01, 4.52015279e-01,\n",
       "         9.92605421e-01, 9.92605421e-01, 9.30686248e-01, 9.30686248e-01,\n",
       "         6.91404589e-01, 6.91404589e-01, 3.57407052e-01, 3.57407052e-01,\n",
       "         9.90084748e-01, 9.90084748e-01, 7.79846432e-01, 7.79846432e-01,\n",
       "         3.14288562e-01, 3.14288562e-01, 6.80571670e-01, 6.80571670e-01,\n",
       "         3.66486076e-01, 3.66486076e-01, 1.37392399e-01, 1.37392399e-01,\n",
       "         5.83434136e-05, 5.83434136e-05, 8.07839769e-01, 8.07839769e-01,\n",
       "         8.75042665e-01, 8.75042665e-01, 9.63573594e-01, 9.63573594e-01,\n",
       "         4.31682450e-01, 4.31682450e-01, 6.84402569e-01, 6.84402569e-01,\n",
       "         3.65151419e-01, 3.65151419e-01, 1.97704626e-01, 1.97704626e-01,\n",
       "         2.99629597e-01, 2.99629597e-01, 5.85298074e-01, 5.85298074e-01,\n",
       "         9.94121440e-01, 9.94121440e-01, 8.49953249e-01, 8.49953249e-01,\n",
       "         6.88603211e-01, 6.88603211e-01, 5.35523505e-01, 5.35523505e-01,\n",
       "         2.69038050e-01, 2.69038050e-01, 8.90643467e-01, 8.90643467e-01,\n",
       "         5.17458434e-01, 5.17458434e-01, 8.15962533e-01, 8.15962533e-01,\n",
       "         4.56325348e-01, 4.56325348e-01, 7.55987881e-01, 7.55987881e-01,\n",
       "         2.90308895e-01, 2.90308895e-01, 7.42240541e-01, 7.42240541e-01,\n",
       "         7.42185756e-01, 7.42185756e-01, 4.40233725e-01, 4.40233725e-01,\n",
       "         5.84682437e-02, 5.84682437e-02, 7.30022235e-01, 7.30022235e-01,\n",
       "         7.41843227e-01, 7.41843227e-01, 3.08671654e-01, 3.08671654e-01,\n",
       "         3.96653857e-01, 3.96653857e-01, 7.56328494e-01, 7.56328494e-01,\n",
       "         9.52780082e-01, 9.52780082e-01, 5.24961725e-01, 5.24961725e-01,\n",
       "         5.00158439e-01, 5.00158439e-01, 8.46503463e-01, 8.46503463e-01,\n",
       "         4.59211419e-01, 4.59211419e-01, 2.59589757e-01, 2.59589757e-01,\n",
       "         2.88696624e-02, 2.88696624e-02, 7.68310522e-01, 7.68310522e-01,\n",
       "         4.27298248e-01, 4.27298248e-01, 3.46143724e-02, 3.46143724e-02,\n",
       "         6.21733553e-01, 6.21733553e-01, 6.28783966e-01, 6.28783966e-01,\n",
       "         9.98271577e-01, 9.98271577e-01, 9.71160973e-01, 9.71160973e-01,\n",
       "         6.88922463e-01, 6.88922463e-01, 7.37321180e-01, 7.37321180e-01,\n",
       "         4.53509129e-01, 4.53509129e-01, 8.58286583e-01, 8.58286583e-01,\n",
       "         3.51181887e-01, 3.51181887e-01, 2.12869168e-01, 2.12869168e-01,\n",
       "         8.76026025e-01, 8.76026025e-01, 6.99509855e-02, 6.99509855e-02,\n",
       "         3.12744099e-01, 3.12744099e-01, 7.46293795e-02, 7.46293795e-02,\n",
       "         1.92963822e-01, 1.92963822e-01, 1.35528612e-01, 1.35528612e-01,\n",
       "         5.34910633e-01, 5.34910633e-01, 6.13144845e-02, 6.13144845e-02,\n",
       "         6.01313758e-01, 6.01313758e-01, 9.48746274e-01, 9.48746274e-01,\n",
       "         2.74465837e-01, 2.74465837e-01, 8.11565073e-01, 8.11565073e-01,\n",
       "         2.17467910e-01, 2.17467910e-01, 5.86440435e-01, 5.86440435e-01,\n",
       "         7.98840897e-02, 7.98840897e-02, 3.33615263e-01, 3.33615263e-01,\n",
       "         3.27916587e-01, 3.27916587e-01, 6.43774344e-01, 6.43774344e-01,\n",
       "         4.83441120e-01, 4.83441120e-01, 7.22967220e-01, 7.22967220e-01,\n",
       "         4.90525233e-01, 4.90525233e-01, 2.14320134e-01, 2.14320134e-01,\n",
       "         4.89822911e-01, 4.89822911e-01, 4.98268607e-01, 4.98268607e-01,\n",
       "         9.77766667e-01, 9.77766667e-01, 3.60834022e-01, 3.60834022e-01,\n",
       "         3.01037239e-01, 3.01037239e-01, 1.40206240e-01, 1.40206240e-01,\n",
       "         6.49783467e-01, 6.49783467e-01, 8.96424191e-01, 8.96424191e-01,\n",
       "         6.96069525e-01, 6.96069525e-01, 6.82976445e-01, 6.82976445e-01])}}"
      ]
     },
     "execution_count": 1,
     "metadata": {},
     "output_type": "execute_result"
    }
   ],
   "source": [
    "ds = load_by_id(run_id_n)\n",
    "ds.get_parameter_data('x1')"
   ]
  },
  {
   "cell_type": "markdown",
   "metadata": {},
   "source": [
    "And a dataset stored as binary arrays"
   ]
  },
  {
   "cell_type": "code",
   "execution_count": 12,
   "metadata": {
    "execution": {
     "iopub.execute_input": "2020-09-18T17:58:29.843235Z",
     "iopub.status.busy": "2020-09-18T17:58:29.842703Z",
     "iopub.status.idle": "2020-09-18T17:58:29.901225Z",
     "shell.execute_reply": "2020-09-18T17:58:29.901678Z"
    },
    "scrolled": true
   },
   "outputs": [
    {
     "data": {
      "text/plain": [
       "{'x1': {'x1': array([[0.69608564],\n",
       "         [0.69608564],\n",
       "         [0.56688039],\n",
       "         [0.56688039],\n",
       "         [0.9774874 ],\n",
       "         [0.9774874 ],\n",
       "         [0.80755707],\n",
       "         [0.80755707],\n",
       "         [0.78911564],\n",
       "         [0.78911564],\n",
       "         [0.11505461],\n",
       "         [0.11505461],\n",
       "         [0.52663894],\n",
       "         [0.52663894],\n",
       "         [0.29883314],\n",
       "         [0.29883314],\n",
       "         [0.30061024],\n",
       "         [0.30061024],\n",
       "         [0.79213502],\n",
       "         [0.79213502],\n",
       "         [0.08340584],\n",
       "         [0.08340584],\n",
       "         [0.57010326],\n",
       "         [0.57010326],\n",
       "         [0.11675653],\n",
       "         [0.11675653],\n",
       "         [0.69604322],\n",
       "         [0.69604322],\n",
       "         [0.60105001],\n",
       "         [0.60105001],\n",
       "         [0.34613327],\n",
       "         [0.34613327],\n",
       "         [0.49324133],\n",
       "         [0.49324133],\n",
       "         [0.08143203],\n",
       "         [0.08143203],\n",
       "         [0.2510119 ],\n",
       "         [0.2510119 ],\n",
       "         [0.76230742],\n",
       "         [0.76230742],\n",
       "         [0.16285724],\n",
       "         [0.16285724],\n",
       "         [0.90783312],\n",
       "         [0.90783312],\n",
       "         [0.76464122],\n",
       "         [0.76464122],\n",
       "         [0.47231426],\n",
       "         [0.47231426],\n",
       "         [0.5113256 ],\n",
       "         [0.5113256 ],\n",
       "         [0.99643058],\n",
       "         [0.99643058],\n",
       "         [0.75776278],\n",
       "         [0.75776278],\n",
       "         [0.32816607],\n",
       "         [0.32816607],\n",
       "         [0.55593635],\n",
       "         [0.55593635],\n",
       "         [0.65507525],\n",
       "         [0.65507525],\n",
       "         [0.1178919 ],\n",
       "         [0.1178919 ],\n",
       "         [0.35109326],\n",
       "         [0.35109326],\n",
       "         [0.58936748],\n",
       "         [0.58936748],\n",
       "         [0.45091027],\n",
       "         [0.45091027],\n",
       "         [0.61289424],\n",
       "         [0.61289424],\n",
       "         [0.83680451],\n",
       "         [0.83680451],\n",
       "         [0.69974662],\n",
       "         [0.69974662],\n",
       "         [0.79456235],\n",
       "         [0.79456235],\n",
       "         [0.37711495],\n",
       "         [0.37711495],\n",
       "         [0.65870947],\n",
       "         [0.65870947],\n",
       "         [0.80180248],\n",
       "         [0.80180248],\n",
       "         [0.30232952],\n",
       "         [0.30232952],\n",
       "         [0.15332182],\n",
       "         [0.15332182],\n",
       "         [0.55323198],\n",
       "         [0.55323198],\n",
       "         [0.29571663],\n",
       "         [0.29571663],\n",
       "         [0.67882303],\n",
       "         [0.67882303],\n",
       "         [0.63338777],\n",
       "         [0.63338777],\n",
       "         [0.80120686],\n",
       "         [0.80120686],\n",
       "         [0.25587667],\n",
       "         [0.25587667],\n",
       "         [0.20374824],\n",
       "         [0.20374824],\n",
       "         [0.2258919 ],\n",
       "         [0.2258919 ],\n",
       "         [0.99842443],\n",
       "         [0.99842443],\n",
       "         [0.34109121],\n",
       "         [0.34109121],\n",
       "         [0.14981558],\n",
       "         [0.14981558],\n",
       "         [0.75352133],\n",
       "         [0.75352133],\n",
       "         [0.95801894],\n",
       "         [0.95801894],\n",
       "         [0.62123076],\n",
       "         [0.62123076],\n",
       "         [0.31281914],\n",
       "         [0.31281914],\n",
       "         [0.30319309],\n",
       "         [0.30319309],\n",
       "         [0.22853323],\n",
       "         [0.22853323],\n",
       "         [0.83262025],\n",
       "         [0.83262025],\n",
       "         [0.37005225],\n",
       "         [0.37005225],\n",
       "         [0.51421973],\n",
       "         [0.51421973],\n",
       "         [0.19829978],\n",
       "         [0.19829978],\n",
       "         [0.7349438 ],\n",
       "         [0.7349438 ],\n",
       "         [0.51314532],\n",
       "         [0.51314532],\n",
       "         [0.44474118],\n",
       "         [0.44474118],\n",
       "         [0.64356248],\n",
       "         [0.64356248],\n",
       "         [0.93190842],\n",
       "         [0.93190842],\n",
       "         [0.23550648],\n",
       "         [0.23550648],\n",
       "         [0.77907336],\n",
       "         [0.77907336],\n",
       "         [0.82267944],\n",
       "         [0.82267944],\n",
       "         [0.46510699],\n",
       "         [0.46510699],\n",
       "         [0.1492249 ],\n",
       "         [0.1492249 ],\n",
       "         [0.84340765],\n",
       "         [0.84340765],\n",
       "         [0.57739445],\n",
       "         [0.57739445],\n",
       "         [0.85050409],\n",
       "         [0.85050409],\n",
       "         [0.8793926 ],\n",
       "         [0.8793926 ],\n",
       "         [0.03682166],\n",
       "         [0.03682166],\n",
       "         [0.89283169],\n",
       "         [0.89283169],\n",
       "         [0.99682477],\n",
       "         [0.99682477],\n",
       "         [0.26971848],\n",
       "         [0.26971848],\n",
       "         [0.88783334],\n",
       "         [0.88783334],\n",
       "         [0.43226699],\n",
       "         [0.43226699],\n",
       "         [0.9401093 ],\n",
       "         [0.9401093 ],\n",
       "         [0.8570969 ],\n",
       "         [0.8570969 ],\n",
       "         [0.4136871 ],\n",
       "         [0.4136871 ],\n",
       "         [0.58018472],\n",
       "         [0.58018472],\n",
       "         [0.85972319],\n",
       "         [0.85972319],\n",
       "         [0.90558403],\n",
       "         [0.90558403],\n",
       "         [0.40573628],\n",
       "         [0.40573628],\n",
       "         [0.80269005],\n",
       "         [0.80269005],\n",
       "         [0.12154022],\n",
       "         [0.12154022],\n",
       "         [0.09951514],\n",
       "         [0.09951514],\n",
       "         [0.14682125],\n",
       "         [0.14682125],\n",
       "         [0.84490229],\n",
       "         [0.84490229],\n",
       "         [0.85743232],\n",
       "         [0.85743232],\n",
       "         [0.78710762],\n",
       "         [0.78710762],\n",
       "         [0.01232627],\n",
       "         [0.01232627],\n",
       "         [0.27903715],\n",
       "         [0.27903715]])}}"
      ]
     },
     "execution_count": 1,
     "metadata": {},
     "output_type": "execute_result"
    }
   ],
   "source": [
    "ds = load_by_id(run_id_a)\n",
    "ds.get_parameter_data('x1')"
   ]
  },
  {
   "cell_type": "code",
   "execution_count": null,
   "metadata": {},
   "outputs": [],
   "source": []
  }
 ],
 "metadata": {
  "kernelspec": {
   "display_name": "Python 3",
   "language": "python",
   "name": "python3"
  },
  "language_info": {
   "codemirror_mode": {
    "name": "ipython",
    "version": 3
   },
   "file_extension": ".py",
   "mimetype": "text/x-python",
   "name": "python",
   "nbconvert_exporter": "python",
   "pygments_lexer": "ipython3",
   "version": "3.7.7"
  },
  "nbsphinx": {
   "timeout": 600
  },
  "toc": {
   "base_numbering": 1,
   "nav_menu": {},
   "number_sections": true,
   "sideBar": true,
   "skip_h1_title": false,
   "title_cell": "Table of Contents",
   "title_sidebar": "Contents",
   "toc_cell": false,
   "toc_position": {},
   "toc_section_display": true,
   "toc_window_display": false
  },
  "varInspector": {
   "cols": {
    "lenName": 16,
    "lenType": 16,
    "lenVar": 40
   },
   "kernels_config": {
    "python": {
     "delete_cmd_postfix": "",
     "delete_cmd_prefix": "del ",
     "library": "var_list.py",
     "varRefreshCmd": "print(var_dic_list())"
    },
    "r": {
     "delete_cmd_postfix": ") ",
     "delete_cmd_prefix": "rm(",
     "library": "var_list.r",
     "varRefreshCmd": "cat(var_dic_list()) "
    }
   },
   "types_to_exclude": [
    "module",
    "function",
    "builtin_function_or_method",
    "instance",
    "_Feature"
   ],
   "window_display": false
  }
 },
 "nbformat": 4,
 "nbformat_minor": 2
}
