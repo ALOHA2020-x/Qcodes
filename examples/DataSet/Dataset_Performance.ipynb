{
 "cells": [
  {
   "cell_type": "markdown",
   "metadata": {},
   "source": [
    "# DataSet Performance\n",
    "\n",
    "This notebook shows the trade-off between inserting data into a database row-by-row and as binary blobs. Inserting the data row-by-row means that we have direct access to all the data and may perform queries directly on the values of the data. On the other hand, as we shall see, this is much slower than inserting the data directly as binary blobs."
   ]
  },
  {
   "cell_type": "markdown",
   "metadata": {},
   "source": [
    "First, we choose a new location for the database to ensure that we don't add a bunch of benchmarking data to the default one."
   ]
  },
  {
   "cell_type": "code",
   "execution_count": 1,
   "metadata": {
    "execution": {
     "iopub.execute_input": "2021-02-22T11:54:30.972554Z",
     "iopub.status.busy": "2021-02-22T11:54:30.971971Z",
     "iopub.status.idle": "2021-02-22T11:54:31.811680Z",
     "shell.execute_reply": "2021-02-22T11:54:31.810670Z"
    }
   },
   "outputs": [
    {
     "name": "stdout",
     "output_type": "stream",
     "text": [
      "Logging hadn't been started.\n",
      "Activating auto-logging. Current session state plus future input saved.\n",
      "Filename       : /home/runner/.qcodes/logs/command_history.log\n",
      "Mode           : append\n",
      "Output logging : True\n",
      "Raw input log  : False\n",
      "Timestamping   : True\n",
      "State          : active\n"
     ]
    },
    {
     "name": "stdout",
     "output_type": "stream",
     "text": [
      "Qcodes Logfile : /home/runner/.qcodes/logs/210222-3800-qcodes.log\n"
     ]
    }
   ],
   "source": [
    "import os\n",
    "cwd = os.getcwd()\n",
    "import qcodes as qc\n",
    "qc.config[\"core\"][\"db_location\"] = os.path.join(cwd, 'testing.db')\n"
   ]
  },
  {
   "cell_type": "code",
   "execution_count": 2,
   "metadata": {
    "execution": {
     "iopub.execute_input": "2021-02-22T11:54:31.818569Z",
     "iopub.status.busy": "2021-02-22T11:54:31.817029Z",
     "iopub.status.idle": "2021-02-22T11:54:32.000156Z",
     "shell.execute_reply": "2021-02-22T11:54:31.999497Z"
    }
   },
   "outputs": [],
   "source": [
    "%matplotlib inline\n",
    "import time\n",
    "import matplotlib.pyplot as plt\n",
    "import numpy as np\n",
    "\n",
    "import qcodes as qc\n",
    "from qcodes.instrument.parameter import ManualParameter\n",
    "from qcodes.dataset.experiment_container import (Experiment,\n",
    "                                                 load_last_experiment,\n",
    "                                                 new_experiment)\n",
    "from qcodes.dataset.sqlite.database import initialise_database\n",
    "from qcodes import load_or_create_experiment\n",
    "from qcodes.dataset.measurements import Measurement"
   ]
  },
  {
   "cell_type": "code",
   "execution_count": 3,
   "metadata": {
    "execution": {
     "iopub.execute_input": "2021-02-22T11:54:32.005356Z",
     "iopub.status.busy": "2021-02-22T11:54:32.004779Z",
     "iopub.status.idle": "2021-02-22T11:54:32.120537Z",
     "shell.execute_reply": "2021-02-22T11:54:32.119973Z"
    }
   },
   "outputs": [
    {
     "name": "stdout",
     "output_type": "stream",
     "text": [
      "\r",
      "0it [00:00, ?it/s]"
     ]
    },
    {
     "name": "stdout",
     "output_type": "stream",
     "text": [
      "\r",
      "Upgrading database; v0 -> v1: : 0it [00:00, ?it/s]"
     ]
    },
    {
     "name": "stdout",
     "output_type": "stream",
     "text": [
      "\r",
      "Upgrading database; v0 -> v1: : 0it [00:00, ?it/s]"
     ]
    },
    {
     "name": "stdout",
     "output_type": "stream",
     "text": [
      "\n",
      "\r",
      "  0%|          | 0/1 [00:00<?, ?it/s]"
     ]
    },
    {
     "name": "stdout",
     "output_type": "stream",
     "text": [
      "\r",
      "Upgrading database; v1 -> v2:   0%|          | 0/1 [00:00<?, ?it/s]"
     ]
    },
    {
     "name": "stdout",
     "output_type": "stream",
     "text": [
      "\r",
      "Upgrading database; v1 -> v2: 100%|██████████| 1/1 [00:00<00:00, 425.56it/s]"
     ]
    },
    {
     "name": "stdout",
     "output_type": "stream",
     "text": [
      "\n",
      "\r",
      "0it [00:00, ?it/s]"
     ]
    },
    {
     "name": "stdout",
     "output_type": "stream",
     "text": [
      "\r",
      "Upgrading database; v2 -> v3: : 0it [00:00, ?it/s]"
     ]
    },
    {
     "name": "stdout",
     "output_type": "stream",
     "text": [
      "\r",
      "Upgrading database; v2 -> v3: : 0it [00:00, ?it/s]"
     ]
    },
    {
     "name": "stdout",
     "output_type": "stream",
     "text": [
      "\n",
      "\r",
      "0it [00:00, ?it/s]"
     ]
    },
    {
     "name": "stdout",
     "output_type": "stream",
     "text": [
      "\r",
      "Upgrading database; v3 -> v4: : 0it [00:00, ?it/s]"
     ]
    },
    {
     "name": "stdout",
     "output_type": "stream",
     "text": [
      "\r",
      "Upgrading database; v3 -> v4: : 0it [00:00, ?it/s]"
     ]
    },
    {
     "name": "stdout",
     "output_type": "stream",
     "text": [
      "\n",
      "\r",
      "  0%|          | 0/1 [00:00<?, ?it/s]"
     ]
    },
    {
     "name": "stdout",
     "output_type": "stream",
     "text": [
      "\r",
      "Upgrading database; v4 -> v5:   0%|          | 0/1 [00:00<?, ?it/s]"
     ]
    },
    {
     "name": "stdout",
     "output_type": "stream",
     "text": [
      "\r",
      "Upgrading database; v4 -> v5: 100%|██████████| 1/1 [00:00<00:00, 443.79it/s]"
     ]
    },
    {
     "name": "stdout",
     "output_type": "stream",
     "text": [
      "\n",
      "\r",
      "0it [00:00, ?it/s]"
     ]
    },
    {
     "name": "stdout",
     "output_type": "stream",
     "text": [
      "\r",
      "Upgrading database; v5 -> v6: : 0it [00:00, ?it/s]"
     ]
    },
    {
     "name": "stdout",
     "output_type": "stream",
     "text": [
      "\r",
      "Upgrading database; v5 -> v6: : 0it [00:00, ?it/s]"
     ]
    },
    {
     "name": "stdout",
     "output_type": "stream",
     "text": [
      "\n",
      "\r",
      "  0%|          | 0/1 [00:00<?, ?it/s]"
     ]
    },
    {
     "name": "stdout",
     "output_type": "stream",
     "text": [
      "\r",
      "Upgrading database; v6 -> v7:   0%|          | 0/1 [00:00<?, ?it/s]"
     ]
    },
    {
     "name": "stdout",
     "output_type": "stream",
     "text": [
      "\r",
      "Upgrading database; v6 -> v7: 100%|██████████| 1/1 [00:00<00:00, 318.81it/s]"
     ]
    },
    {
     "name": "stdout",
     "output_type": "stream",
     "text": [
      "\n",
      "\r",
      "  0%|          | 0/1 [00:00<?, ?it/s]"
     ]
    },
    {
     "name": "stdout",
     "output_type": "stream",
     "text": [
      "\r",
      "Upgrading database; v7 -> v8:   0%|          | 0/1 [00:00<?, ?it/s]"
     ]
    },
    {
     "name": "stdout",
     "output_type": "stream",
     "text": [
      "\r",
      "Upgrading database; v7 -> v8: 100%|██████████| 1/1 [00:00<00:00, 866.41it/s]"
     ]
    },
    {
     "name": "stdout",
     "output_type": "stream",
     "text": [
      "\n",
      "\r",
      "  0%|          | 0/1 [00:00<?, ?it/s]"
     ]
    },
    {
     "name": "stdout",
     "output_type": "stream",
     "text": [
      "\r",
      "Upgrading database; v8 -> v9:   0%|          | 0/1 [00:00<?, ?it/s]"
     ]
    },
    {
     "name": "stdout",
     "output_type": "stream",
     "text": [
      "\r",
      "Upgrading database; v8 -> v9: 100%|██████████| 1/1 [00:00<00:00, 457.69it/s]"
     ]
    },
    {
     "name": "stdout",
     "output_type": "stream",
     "text": [
      "\n"
     ]
    }
   ],
   "source": [
    "initialise_database()\n",
    "exp = load_or_create_experiment(experiment_name='tutorial_exp', sample_name=\"no sample\")"
   ]
  },
  {
   "cell_type": "markdown",
   "metadata": {},
   "source": [
    "Here, we define a simple function to benchmark the time it takes to insert n points with either numeric or array data type.\n",
    "We will compare both the time used to call ``add_result`` and the time used for the full measurement."
   ]
  },
  {
   "cell_type": "code",
   "execution_count": 4,
   "metadata": {
    "execution": {
     "iopub.execute_input": "2021-02-22T11:54:32.129386Z",
     "iopub.status.busy": "2021-02-22T11:54:32.128806Z",
     "iopub.status.idle": "2021-02-22T11:54:32.132296Z",
     "shell.execute_reply": "2021-02-22T11:54:32.131822Z"
    }
   },
   "outputs": [],
   "source": [
    "def insert_data(paramtype, npoints, nreps=1):\n",
    "\n",
    "    meas = Measurement(exp=exp)\n",
    "\n",
    "    x1 = ManualParameter('x1')\n",
    "    x2 = ManualParameter('x2')\n",
    "    x3 = ManualParameter('x3')\n",
    "    y1 = ManualParameter('y1')\n",
    "    y2 = ManualParameter('y2')\n",
    "\n",
    "    meas.register_parameter(x1, paramtype=paramtype)\n",
    "    meas.register_parameter(x2, paramtype=paramtype)\n",
    "    meas.register_parameter(x3, paramtype=paramtype)\n",
    "    meas.register_parameter(y1, setpoints=[x1, x2, x3],\n",
    "                            paramtype=paramtype)\n",
    "    meas.register_parameter(y2, setpoints=[x1, x2, x3],\n",
    "                            paramtype=paramtype)\n",
    "    start = time.perf_counter()\n",
    "    with meas.run() as datasaver:\n",
    "        start_adding = time.perf_counter()\n",
    "        for i in range(nreps):\n",
    "            datasaver.add_result((x1, np.random.rand(npoints)),\n",
    "                                 (x2, np.random.rand(npoints)),\n",
    "                                 (x3, np.random.rand(npoints)),\n",
    "                                 (y1, np.random.rand(npoints)),\n",
    "                                 (y2, np.random.rand(npoints)))\n",
    "        stop_adding = time.perf_counter()\n",
    "        run_id = datasaver.run_id\n",
    "    stop = time.perf_counter()\n",
    "    tot_time = stop - start\n",
    "    add_time = stop_adding - start_adding\n",
    "    return tot_time, add_time, run_id"
   ]
  },
  {
   "cell_type": "markdown",
   "metadata": {},
   "source": [
    "## Comparison between numeric/array data and binary blob"
   ]
  },
  {
   "cell_type": "markdown",
   "metadata": {},
   "source": [
    "### Case1: Short experiment time"
   ]
  },
  {
   "cell_type": "code",
   "execution_count": 5,
   "metadata": {
    "execution": {
     "iopub.execute_input": "2021-02-22T11:54:32.139227Z",
     "iopub.status.busy": "2021-02-22T11:54:32.138572Z",
     "iopub.status.idle": "2021-02-22T11:54:32.916087Z",
     "shell.execute_reply": "2021-02-22T11:54:32.916629Z"
    }
   },
   "outputs": [
    {
     "name": "stdout",
     "output_type": "stream",
     "text": [
      "Starting experimental run with id: 1. \n",
      "Starting experimental run with id: 2. \n",
      "Starting experimental run with id: 3. \n",
      "Starting experimental run with id: 4. \n",
      "Starting experimental run with id: 5. \n"
     ]
    },
    {
     "name": "stdout",
     "output_type": "stream",
     "text": [
      "Starting experimental run with id: 6. "
     ]
    },
    {
     "name": "stdout",
     "output_type": "stream",
     "text": [
      "\n"
     ]
    },
    {
     "name": "stdout",
     "output_type": "stream",
     "text": [
      "Starting experimental run with id: 7. \n"
     ]
    },
    {
     "name": "stdout",
     "output_type": "stream",
     "text": [
      "Starting experimental run with id: 8. \n",
      "Starting experimental run with id: 9. \n"
     ]
    },
    {
     "name": "stdout",
     "output_type": "stream",
     "text": [
      "Starting experimental run with id: 10. \n",
      "Starting experimental run with id: 11. \n"
     ]
    },
    {
     "name": "stdout",
     "output_type": "stream",
     "text": [
      "Starting experimental run with id: 12. \n",
      "Starting experimental run with id: 13. \n"
     ]
    },
    {
     "name": "stdout",
     "output_type": "stream",
     "text": [
      "Starting experimental run with id: 14. \n"
     ]
    }
   ],
   "source": [
    "sizes = [1,500,1000,2000,3000,4000,5000]\n",
    "t_numeric = []\n",
    "t_numeric_add = []\n",
    "t_array = []\n",
    "t_array_add = []\n",
    "for size in sizes:\n",
    "    tn, tna, run_id_n =  insert_data('numeric', size)\n",
    "    t_numeric.append(tn)\n",
    "    t_numeric_add.append(tna)\n",
    "\n",
    "    ta, taa, run_id_a =  insert_data('array', size)\n",
    "    t_array.append(ta)\n",
    "    t_array_add.append(taa)"
   ]
  },
  {
   "cell_type": "code",
   "execution_count": 6,
   "metadata": {
    "execution": {
     "iopub.execute_input": "2021-02-22T11:54:32.957355Z",
     "iopub.status.busy": "2021-02-22T11:54:32.945176Z",
     "iopub.status.idle": "2021-02-22T11:54:33.107615Z",
     "shell.execute_reply": "2021-02-22T11:54:33.108057Z"
    }
   },
   "outputs": [
    {
     "data": {
      "image/png": "[encoded data removed]",
      "text/plain": [
       "<Figure size 432x288 with 1 Axes>"
      ]
     },
     "metadata": {
      "needs_background": "light"
     },
     "output_type": "display_data"
    }
   ],
   "source": [
    "fig, ax = plt.subplots(1,1)\n",
    "ax.plot(sizes, t_numeric, 'o-', label='Inserting row-by-row')\n",
    "ax.plot(sizes, t_numeric_add, 'o-', label='Inserting row-by-row: add_result only')\n",
    "ax.plot(sizes, t_array, 'd-', label='Inserting as binary blob')\n",
    "ax.plot(sizes, t_array_add, 'd-', label='Inserting as binary blob: add_result only')\n",
    "ax.legend()\n",
    "ax.set_xlabel('Array length')\n",
    "ax.set_ylabel('Time (s)')\n",
    "fig.tight_layout()"
   ]
  },
  {
   "cell_type": "markdown",
   "metadata": {},
   "source": [
    "As shown in the latter figure, the time to setup and and close the experiment is approximately 0.4 sec. In case of small array sizes, the difference between inserting values of data as arrays and inserting them row-by-row is relatively unimportant. At larger array sizes, i.e. above 10000 points, the cost of writing data as individual datapoints starts to become important.\n"
   ]
  },
  {
   "cell_type": "markdown",
   "metadata": {},
   "source": [
    "### Case2: Long experiment time "
   ]
  },
  {
   "cell_type": "code",
   "execution_count": 7,
   "metadata": {
    "execution": {
     "iopub.execute_input": "2021-02-22T11:54:33.114616Z",
     "iopub.status.busy": "2021-02-22T11:54:33.114036Z",
     "iopub.status.idle": "2021-02-22T11:55:30.164218Z",
     "shell.execute_reply": "2021-02-22T11:55:30.165351Z"
    }
   },
   "outputs": [
    {
     "name": "stdout",
     "output_type": "stream",
     "text": [
      "Starting experimental run with id: 15. \n",
      "Starting experimental run with id: 16. \n",
      "Starting experimental run with id: 17. \n"
     ]
    },
    {
     "name": "stdout",
     "output_type": "stream",
     "text": [
      "Starting experimental run with id: 18. \n"
     ]
    },
    {
     "name": "stdout",
     "output_type": "stream",
     "text": [
      "Starting experimental run with id: 19. \n"
     ]
    },
    {
     "name": "stdout",
     "output_type": "stream",
     "text": [
      "Starting experimental run with id: 20. \n"
     ]
    },
    {
     "name": "stdout",
     "output_type": "stream",
     "text": [
      "Starting experimental run with id: 21. \n"
     ]
    },
    {
     "name": "stdout",
     "output_type": "stream",
     "text": [
      "Starting experimental run with id: 22. \n"
     ]
    },
    {
     "name": "stdout",
     "output_type": "stream",
     "text": [
      "Starting experimental run with id: 23. \n"
     ]
    },
    {
     "name": "stdout",
     "output_type": "stream",
     "text": [
      "Starting experimental run with id: 24. \n"
     ]
    },
    {
     "name": "stdout",
     "output_type": "stream",
     "text": [
      "Starting experimental run with id: 25. \n"
     ]
    },
    {
     "name": "stdout",
     "output_type": "stream",
     "text": [
      "Starting experimental run with id: 26. \n"
     ]
    },
    {
     "name": "stdout",
     "output_type": "stream",
     "text": [
      "Starting experimental run with id: 27. \n"
     ]
    },
    {
     "name": "stdout",
     "output_type": "stream",
     "text": [
      "Starting experimental run with id: 28. \n"
     ]
    }
   ],
   "source": [
    "sizes = [1,500,1000,2000,3000,4000,5000]\n",
    "nreps = 100\n",
    "t_numeric = []\n",
    "t_numeric_add = []\n",
    "t_numeric_run_ids = []\n",
    "t_array = []\n",
    "t_array_add = []\n",
    "t_array_run_ids = []\n",
    "for size in sizes:\n",
    "    tn, tna, run_id_n =  insert_data('numeric', size, nreps=nreps)\n",
    "    t_numeric.append(tn)\n",
    "    t_numeric_add.append(tna)\n",
    "    t_numeric_run_ids.append(run_id_n)\n",
    "\n",
    "    ta, taa, run_id_a =  insert_data('array', size, nreps=nreps)\n",
    "    t_array.append(ta)\n",
    "    t_array_add.append(taa)\n",
    "    t_array_run_ids.append(run_id_a)"
   ]
  },
  {
   "cell_type": "code",
   "execution_count": 8,
   "metadata": {
    "execution": {
     "iopub.execute_input": "2021-02-22T11:55:30.206239Z",
     "iopub.status.busy": "2021-02-22T11:55:30.183005Z",
     "iopub.status.idle": "2021-02-22T11:55:30.373161Z",
     "shell.execute_reply": "2021-02-22T11:55:30.372361Z"
    },
    "scrolled": true
   },
   "outputs": [
    {
     "data": {
      "image/png": "[encoded data removed]",
      "text/plain": [
       "<Figure size 432x288 with 1 Axes>"
      ]
     },
     "metadata": {
      "needs_background": "light"
     },
     "output_type": "display_data"
    }
   ],
   "source": [
    "fig, ax = plt.subplots(1,1)\n",
    "ax.plot(sizes, t_numeric, 'o-', label='Inserting row-by-row')\n",
    "ax.plot(sizes, t_numeric_add, 'o-', label='Inserting row-by-row: add_result only')\n",
    "ax.plot(sizes, t_array, 'd-', label='Inserting as binary blob')\n",
    "ax.plot(sizes, t_array_add, 'd-', label='Inserting as binary blob: add_result only')\n",
    "ax.legend()\n",
    "ax.set_xlabel('Array length')\n",
    "ax.set_ylabel('Time (s)')\n",
    "fig.tight_layout()"
   ]
  },
  {
   "cell_type": "markdown",
   "metadata": {},
   "source": [
    "However, as we increase the length of the experiment, as seen here by repeating the insertion 100 times, we see a big difference between inserting values of the data row-by-row and inserting it as a binary blob."
   ]
  },
  {
   "cell_type": "markdown",
   "metadata": {},
   "source": [
    "## Loading the data "
   ]
  },
  {
   "cell_type": "code",
   "execution_count": 9,
   "metadata": {
    "execution": {
     "iopub.execute_input": "2021-02-22T11:55:30.377302Z",
     "iopub.status.busy": "2021-02-22T11:55:30.376779Z",
     "iopub.status.idle": "2021-02-22T11:55:30.379396Z",
     "shell.execute_reply": "2021-02-22T11:55:30.379848Z"
    }
   },
   "outputs": [],
   "source": [
    "from qcodes.dataset.data_set import load_by_id\n",
    "from qcodes.dataset.data_export import get_data_by_id"
   ]
  },
  {
   "cell_type": "markdown",
   "metadata": {},
   "source": [
    "As usual you can load the data by using the ``load_by_id`` function but you will notice that the different storage methods\n",
    "are reflected in shape of the data as it is retrieved. "
   ]
  },
  {
   "cell_type": "code",
   "execution_count": 10,
   "metadata": {
    "execution": {
     "iopub.execute_input": "2021-02-22T11:55:30.383495Z",
     "iopub.status.busy": "2021-02-22T11:55:30.382935Z",
     "iopub.status.idle": "2021-02-22T11:55:30.385224Z",
     "shell.execute_reply": "2021-02-22T11:55:30.384754Z"
    }
   },
   "outputs": [],
   "source": [
    "run_id_n = t_numeric_run_ids[0]\n",
    "run_id_a = t_array_run_ids[0]"
   ]
  },
  {
   "cell_type": "code",
   "execution_count": 11,
   "metadata": {
    "execution": {
     "iopub.execute_input": "2021-02-22T11:55:30.388404Z",
     "iopub.status.busy": "2021-02-22T11:55:30.387839Z",
     "iopub.status.idle": "2021-02-22T11:55:30.397475Z",
     "shell.execute_reply": "2021-02-22T11:55:30.396919Z"
    },
    "scrolled": true
   },
   "outputs": [
    {
     "data": {
      "text/plain": [
       "{'x1': {'x1': array([0.11186929, 0.11186929, 0.49520142, 0.49520142, 0.18168431,\n",
       "         0.18168431, 0.81438637, 0.81438637, 0.92376484, 0.92376484,\n",
       "         0.60536217, 0.60536217, 0.96454683, 0.96454683, 0.8949255 ,\n",
       "         0.8949255 , 0.14623077, 0.14623077, 0.72876149, 0.72876149,\n",
       "         0.6018672 , 0.6018672 , 0.70405184, 0.70405184, 0.59055499,\n",
       "         0.59055499, 0.61240742, 0.61240742, 0.11724019, 0.11724019,\n",
       "         0.47512603, 0.47512603, 0.63982806, 0.63982806, 0.46073485,\n",
       "         0.46073485, 0.06323783, 0.06323783, 0.75275669, 0.75275669,\n",
       "         0.54430353, 0.54430353, 0.17747   , 0.17747   , 0.81981875,\n",
       "         0.81981875, 0.64910564, 0.64910564, 0.57850259, 0.57850259,\n",
       "         0.15601129, 0.15601129, 0.0912849 , 0.0912849 , 0.46308403,\n",
       "         0.46308403, 0.58815611, 0.58815611, 0.57387668, 0.57387668,\n",
       "         0.76941387, 0.76941387, 0.41646082, 0.41646082, 0.79542543,\n",
       "         0.79542543, 0.46029851, 0.46029851, 0.1838157 , 0.1838157 ,\n",
       "         0.08214098, 0.08214098, 0.96615157, 0.96615157, 0.73357566,\n",
       "         0.73357566, 0.45806144, 0.45806144, 0.7115057 , 0.7115057 ,\n",
       "         0.87955558, 0.87955558, 0.74592658, 0.74592658, 0.14225982,\n",
       "         0.14225982, 0.35504602, 0.35504602, 0.90437559, 0.90437559,\n",
       "         0.13062628, 0.13062628, 0.07623553, 0.07623553, 0.40839517,\n",
       "         0.40839517, 0.78466567, 0.78466567, 0.92728895, 0.92728895,\n",
       "         0.64701998, 0.64701998, 0.64273975, 0.64273975, 0.25876375,\n",
       "         0.25876375, 0.03771467, 0.03771467, 0.02513188, 0.02513188,\n",
       "         0.31792943, 0.31792943, 0.02861617, 0.02861617, 0.37280283,\n",
       "         0.37280283, 0.38998007, 0.38998007, 0.84081123, 0.84081123,\n",
       "         0.44242078, 0.44242078, 0.02586447, 0.02586447, 0.58003982,\n",
       "         0.58003982, 0.88875865, 0.88875865, 0.72083558, 0.72083558,\n",
       "         0.43268227, 0.43268227, 0.0699057 , 0.0699057 , 0.15473479,\n",
       "         0.15473479, 0.60314687, 0.60314687, 0.76435328, 0.76435328,\n",
       "         0.23255675, 0.23255675, 0.22305164, 0.22305164, 0.17846908,\n",
       "         0.17846908, 0.12795535, 0.12795535, 0.15141859, 0.15141859,\n",
       "         0.82344628, 0.82344628, 0.3645565 , 0.3645565 , 0.1255408 ,\n",
       "         0.1255408 , 0.17343863, 0.17343863, 0.82349699, 0.82349699,\n",
       "         0.91974746, 0.91974746, 0.9826357 , 0.9826357 , 0.808107  ,\n",
       "         0.808107  , 0.40611861, 0.40611861, 0.18934337, 0.18934337,\n",
       "         0.25343375, 0.25343375, 0.24040606, 0.24040606, 0.35535805,\n",
       "         0.35535805, 0.34673378, 0.34673378, 0.18072008, 0.18072008,\n",
       "         0.27821238, 0.27821238, 0.46851585, 0.46851585, 0.95034315,\n",
       "         0.95034315, 0.51285236, 0.51285236, 0.51211032, 0.51211032,\n",
       "         0.44166205, 0.44166205, 0.2853934 , 0.2853934 , 0.95004475,\n",
       "         0.95004475, 0.16116932, 0.16116932, 0.97259637, 0.97259637])}}"
      ]
     },
     "execution_count": 1,
     "metadata": {},
     "output_type": "execute_result"
    }
   ],
   "source": [
    "ds = load_by_id(run_id_n)\n",
    "ds.get_parameter_data('x1')"
   ]
  },
  {
   "cell_type": "markdown",
   "metadata": {},
   "source": [
    "And a dataset stored as binary arrays"
   ]
  },
  {
   "cell_type": "code",
   "execution_count": 12,
   "metadata": {
    "execution": {
     "iopub.execute_input": "2021-02-22T11:55:30.400851Z",
     "iopub.status.busy": "2021-02-22T11:55:30.400236Z",
     "iopub.status.idle": "2021-02-22T11:55:30.465957Z",
     "shell.execute_reply": "2021-02-22T11:55:30.466807Z"
    },
    "scrolled": true
   },
   "outputs": [
    {
     "data": {
      "text/plain": [
       "{'x1': {'x1': array([[0.94318399],\n",
       "         [0.94318399],\n",
       "         [0.44891549],\n",
       "         [0.44891549],\n",
       "         [0.65705219],\n",
       "         [0.65705219],\n",
       "         [0.27019918],\n",
       "         [0.27019918],\n",
       "         [0.78961599],\n",
       "         [0.78961599],\n",
       "         [0.7954607 ],\n",
       "         [0.7954607 ],\n",
       "         [0.78315429],\n",
       "         [0.78315429],\n",
       "         [0.92906898],\n",
       "         [0.92906898],\n",
       "         [0.52934874],\n",
       "         [0.52934874],\n",
       "         [0.82108332],\n",
       "         [0.82108332],\n",
       "         [0.65864065],\n",
       "         [0.65864065],\n",
       "         [0.93554949],\n",
       "         [0.93554949],\n",
       "         [0.32106563],\n",
       "         [0.32106563],\n",
       "         [0.32875305],\n",
       "         [0.32875305],\n",
       "         [0.94624576],\n",
       "         [0.94624576],\n",
       "         [0.86412915],\n",
       "         [0.86412915],\n",
       "         [0.43534084],\n",
       "         [0.43534084],\n",
       "         [0.95972768],\n",
       "         [0.95972768],\n",
       "         [0.52722913],\n",
       "         [0.52722913],\n",
       "         [0.96834868],\n",
       "         [0.96834868],\n",
       "         [0.48650695],\n",
       "         [0.48650695],\n",
       "         [0.75425547],\n",
       "         [0.75425547],\n",
       "         [0.61337931],\n",
       "         [0.61337931],\n",
       "         [0.61524017],\n",
       "         [0.61524017],\n",
       "         [0.5795223 ],\n",
       "         [0.5795223 ],\n",
       "         [0.71039987],\n",
       "         [0.71039987],\n",
       "         [0.15151957],\n",
       "         [0.15151957],\n",
       "         [0.64248455],\n",
       "         [0.64248455],\n",
       "         [0.43741   ],\n",
       "         [0.43741   ],\n",
       "         [0.55382665],\n",
       "         [0.55382665],\n",
       "         [0.76021847],\n",
       "         [0.76021847],\n",
       "         [0.54820477],\n",
       "         [0.54820477],\n",
       "         [0.23504331],\n",
       "         [0.23504331],\n",
       "         [0.78727935],\n",
       "         [0.78727935],\n",
       "         [0.38912368],\n",
       "         [0.38912368],\n",
       "         [0.40831721],\n",
       "         [0.40831721],\n",
       "         [0.01106319],\n",
       "         [0.01106319],\n",
       "         [0.63347963],\n",
       "         [0.63347963],\n",
       "         [0.55093179],\n",
       "         [0.55093179],\n",
       "         [0.29671511],\n",
       "         [0.29671511],\n",
       "         [0.25405354],\n",
       "         [0.25405354],\n",
       "         [0.01366475],\n",
       "         [0.01366475],\n",
       "         [0.8640965 ],\n",
       "         [0.8640965 ],\n",
       "         [0.27427895],\n",
       "         [0.27427895],\n",
       "         [0.909792  ],\n",
       "         [0.909792  ],\n",
       "         [0.94669188],\n",
       "         [0.94669188],\n",
       "         [0.36748382],\n",
       "         [0.36748382],\n",
       "         [0.31996077],\n",
       "         [0.31996077],\n",
       "         [0.18842592],\n",
       "         [0.18842592],\n",
       "         [0.03562213],\n",
       "         [0.03562213],\n",
       "         [0.72027206],\n",
       "         [0.72027206],\n",
       "         [0.57161958],\n",
       "         [0.57161958],\n",
       "         [0.07881553],\n",
       "         [0.07881553],\n",
       "         [0.58020398],\n",
       "         [0.58020398],\n",
       "         [0.87804303],\n",
       "         [0.87804303],\n",
       "         [0.67693407],\n",
       "         [0.67693407],\n",
       "         [0.69340657],\n",
       "         [0.69340657],\n",
       "         [0.27683935],\n",
       "         [0.27683935],\n",
       "         [0.80952781],\n",
       "         [0.80952781],\n",
       "         [0.26545225],\n",
       "         [0.26545225],\n",
       "         [0.04019625],\n",
       "         [0.04019625],\n",
       "         [0.24365616],\n",
       "         [0.24365616],\n",
       "         [0.95223895],\n",
       "         [0.95223895],\n",
       "         [0.03707341],\n",
       "         [0.03707341],\n",
       "         [0.38250431],\n",
       "         [0.38250431],\n",
       "         [0.45338434],\n",
       "         [0.45338434],\n",
       "         [0.13595684],\n",
       "         [0.13595684],\n",
       "         [0.37154747],\n",
       "         [0.37154747],\n",
       "         [0.70763824],\n",
       "         [0.70763824],\n",
       "         [0.30991308],\n",
       "         [0.30991308],\n",
       "         [0.99987097],\n",
       "         [0.99987097],\n",
       "         [0.54166749],\n",
       "         [0.54166749],\n",
       "         [0.26809689],\n",
       "         [0.26809689],\n",
       "         [0.79557   ],\n",
       "         [0.79557   ],\n",
       "         [0.60353406],\n",
       "         [0.60353406],\n",
       "         [0.60632156],\n",
       "         [0.60632156],\n",
       "         [0.10246433],\n",
       "         [0.10246433],\n",
       "         [0.55937235],\n",
       "         [0.55937235],\n",
       "         [0.66053529],\n",
       "         [0.66053529],\n",
       "         [0.08383777],\n",
       "         [0.08383777],\n",
       "         [0.17716912],\n",
       "         [0.17716912],\n",
       "         [0.15177739],\n",
       "         [0.15177739],\n",
       "         [0.45264583],\n",
       "         [0.45264583],\n",
       "         [0.33886511],\n",
       "         [0.33886511],\n",
       "         [0.63531392],\n",
       "         [0.63531392],\n",
       "         [0.77600131],\n",
       "         [0.77600131],\n",
       "         [0.66113589],\n",
       "         [0.66113589],\n",
       "         [0.70202993],\n",
       "         [0.70202993],\n",
       "         [0.39969941],\n",
       "         [0.39969941],\n",
       "         [0.3628161 ],\n",
       "         [0.3628161 ],\n",
       "         [0.15672715],\n",
       "         [0.15672715],\n",
       "         [0.44879355],\n",
       "         [0.44879355],\n",
       "         [0.04348256],\n",
       "         [0.04348256],\n",
       "         [0.26048441],\n",
       "         [0.26048441],\n",
       "         [0.62054119],\n",
       "         [0.62054119],\n",
       "         [0.50890233],\n",
       "         [0.50890233],\n",
       "         [0.90180591],\n",
       "         [0.90180591],\n",
       "         [0.77160032],\n",
       "         [0.77160032],\n",
       "         [0.23426219],\n",
       "         [0.23426219],\n",
       "         [0.97250443],\n",
       "         [0.97250443]])}}"
      ]
     },
     "execution_count": 1,
     "metadata": {},
     "output_type": "execute_result"
    }
   ],
   "source": [
    "ds = load_by_id(run_id_a)\n",
    "ds.get_parameter_data('x1')"
   ]
  },
  {
   "cell_type": "code",
   "execution_count": null,
   "metadata": {},
   "outputs": [],
   "source": []
  }
 ],
 "metadata": {
  "kernelspec": {
   "display_name": "Python 3",
   "language": "python",
   "name": "python3"
  },
  "language_info": {
   "codemirror_mode": {
    "name": "ipython",
    "version": 3
   },
   "file_extension": ".py",
   "mimetype": "text/x-python",
   "name": "python",
   "nbconvert_exporter": "python",
   "pygments_lexer": "ipython3",
   "version": "3.7.9"
  },
  "nbsphinx": {
   "timeout": 600
  },
  "toc": {
   "base_numbering": 1,
   "nav_menu": {},
   "number_sections": true,
   "sideBar": true,
   "skip_h1_title": false,
   "title_cell": "Table of Contents",
   "title_sidebar": "Contents",
   "toc_cell": false,
   "toc_position": {},
   "toc_section_display": true,
   "toc_window_display": false
  },
  "varInspector": {
   "cols": {
    "lenName": 16,
    "lenType": 16,
    "lenVar": 40
   },
   "kernels_config": {
    "python": {
     "delete_cmd_postfix": "",
     "delete_cmd_prefix": "del ",
     "library": "var_list.py",
     "varRefreshCmd": "print(var_dic_list())"
    },
    "r": {
     "delete_cmd_postfix": ") ",
     "delete_cmd_prefix": "rm(",
     "library": "var_list.r",
     "varRefreshCmd": "cat(var_dic_list()) "
    }
   },
   "types_to_exclude": [
    "module",
    "function",
    "builtin_function_or_method",
    "instance",
    "_Feature"
   ],
   "window_display": false
  }
 },
 "nbformat": 4,
 "nbformat_minor": 2
}
