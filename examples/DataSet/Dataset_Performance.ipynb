{
 "cells": [
  {
   "cell_type": "markdown",
   "metadata": {},
   "source": [
    "# DataSet Performance\n",
    "\n",
    "This notebook shows the trade-off between inserting data into a database row-by-row and as binary blobs. Inserting the data row-by-row means that we have direct access to all the data and may perform queries directly on the values of the data. On the other hand, as we shall see, this is much slower than inserting the data directly as binary blobs."
   ]
  },
  {
   "cell_type": "markdown",
   "metadata": {},
   "source": [
    "First, we choose a new location for the database to ensure that we don't add a bunch of benchmarking data to the default one."
   ]
  },
  {
   "cell_type": "code",
   "execution_count": 1,
   "metadata": {
    "execution": {
     "iopub.execute_input": "2020-10-19T17:31:58.446061Z",
     "iopub.status.busy": "2020-10-19T17:31:58.445478Z",
     "iopub.status.idle": "2020-10-19T17:31:59.545014Z",
     "shell.execute_reply": "2020-10-19T17:31:59.545494Z"
    }
   },
   "outputs": [
    {
     "name": "stdout",
     "output_type": "stream",
     "text": [
      "Logging hadn't been started.\n",
      "Activating auto-logging. Current session state plus future input saved.\n",
      "Filename       : /home/vsts/.qcodes/logs/command_history.log\n",
      "Mode           : append\n",
      "Output logging : True\n",
      "Raw input log  : False\n",
      "Timestamping   : True\n",
      "State          : active\n"
     ]
    },
    {
     "name": "stdout",
     "output_type": "stream",
     "text": [
      "Qcodes Logfile : /home/vsts/.qcodes/logs/201019-14395-qcodes.log\n"
     ]
    }
   ],
   "source": [
    "import os\n",
    "cwd = os.getcwd()\n",
    "import qcodes as qc\n",
    "qc.config[\"core\"][\"db_location\"] = os.path.join(cwd, 'testing.db')\n"
   ]
  },
  {
   "cell_type": "code",
   "execution_count": 2,
   "metadata": {
    "execution": {
     "iopub.execute_input": "2020-10-19T17:31:59.553126Z",
     "iopub.status.busy": "2020-10-19T17:31:59.551329Z",
     "iopub.status.idle": "2020-10-19T17:31:59.754621Z",
     "shell.execute_reply": "2020-10-19T17:31:59.753756Z"
    }
   },
   "outputs": [],
   "source": [
    "%matplotlib inline\n",
    "import time\n",
    "import matplotlib.pyplot as plt\n",
    "import numpy as np\n",
    "\n",
    "import qcodes as qc\n",
    "from qcodes.instrument.parameter import ManualParameter\n",
    "from qcodes.dataset.experiment_container import (Experiment,\n",
    "                                                 load_last_experiment,\n",
    "                                                 new_experiment)\n",
    "from qcodes.dataset.sqlite.database import initialise_database\n",
    "from qcodes import load_or_create_experiment\n",
    "from qcodes.dataset.measurements import Measurement"
   ]
  },
  {
   "cell_type": "code",
   "execution_count": 3,
   "metadata": {
    "execution": {
     "iopub.execute_input": "2020-10-19T17:31:59.758855Z",
     "iopub.status.busy": "2020-10-19T17:31:59.758226Z",
     "iopub.status.idle": "2020-10-19T17:31:59.871965Z",
     "shell.execute_reply": "2020-10-19T17:31:59.871118Z"
    }
   },
   "outputs": [
    {
     "name": "stdout",
     "output_type": "stream",
     "text": [
      "\r",
      "0it [00:00, ?it/s]"
     ]
    },
    {
     "name": "stdout",
     "output_type": "stream",
     "text": [
      "\r",
      "Upgrading database; v0 -> v1: : 0it [00:00, ?it/s]"
     ]
    },
    {
     "name": "stdout",
     "output_type": "stream",
     "text": [
      "\r",
      "Upgrading database; v0 -> v1: : 0it [00:00, ?it/s]"
     ]
    },
    {
     "name": "stdout",
     "output_type": "stream",
     "text": [
      "\n",
      "\r",
      "  0%|          | 0/1 [00:00<?, ?it/s]"
     ]
    },
    {
     "name": "stdout",
     "output_type": "stream",
     "text": [
      "\r",
      "Upgrading database; v1 -> v2:   0%|          | 0/1 [00:00<?, ?it/s]"
     ]
    },
    {
     "name": "stdout",
     "output_type": "stream",
     "text": [
      "\r",
      "Upgrading database; v1 -> v2: 100%|██████████| 1/1 [00:00<00:00, 332.96it/s]"
     ]
    },
    {
     "name": "stdout",
     "output_type": "stream",
     "text": [
      "\n",
      "\r",
      "0it [00:00, ?it/s]"
     ]
    },
    {
     "name": "stdout",
     "output_type": "stream",
     "text": [
      "\r",
      "Upgrading database; v2 -> v3: : 0it [00:00, ?it/s]"
     ]
    },
    {
     "name": "stdout",
     "output_type": "stream",
     "text": [
      "\r",
      "Upgrading database; v2 -> v3: : 0it [00:00, ?it/s]"
     ]
    },
    {
     "name": "stdout",
     "output_type": "stream",
     "text": [
      "\n",
      "\r",
      "0it [00:00, ?it/s]"
     ]
    },
    {
     "name": "stdout",
     "output_type": "stream",
     "text": [
      "\r",
      "Upgrading database; v3 -> v4: : 0it [00:00, ?it/s]"
     ]
    },
    {
     "name": "stdout",
     "output_type": "stream",
     "text": [
      "\r",
      "Upgrading database; v3 -> v4: : 0it [00:00, ?it/s]"
     ]
    },
    {
     "name": "stdout",
     "output_type": "stream",
     "text": [
      "\n",
      "\r",
      "  0%|          | 0/1 [00:00<?, ?it/s]"
     ]
    },
    {
     "name": "stdout",
     "output_type": "stream",
     "text": [
      "\r",
      "Upgrading database; v4 -> v5:   0%|          | 0/1 [00:00<?, ?it/s]"
     ]
    },
    {
     "name": "stdout",
     "output_type": "stream",
     "text": [
      "\r",
      "Upgrading database; v4 -> v5: 100%|██████████| 1/1 [00:00<00:00, 1022.00it/s]"
     ]
    },
    {
     "name": "stdout",
     "output_type": "stream",
     "text": [
      "\n",
      "\r",
      "0it [00:00, ?it/s]"
     ]
    },
    {
     "name": "stdout",
     "output_type": "stream",
     "text": [
      "\r",
      "Upgrading database; v5 -> v6: : 0it [00:00, ?it/s]"
     ]
    },
    {
     "name": "stdout",
     "output_type": "stream",
     "text": [
      "\r",
      "Upgrading database; v5 -> v6: : 0it [00:00, ?it/s]"
     ]
    },
    {
     "name": "stdout",
     "output_type": "stream",
     "text": [
      "\n",
      "\r",
      "  0%|          | 0/1 [00:00<?, ?it/s]"
     ]
    },
    {
     "name": "stdout",
     "output_type": "stream",
     "text": [
      "\r",
      "Upgrading database; v6 -> v7:   0%|          | 0/1 [00:00<?, ?it/s]"
     ]
    },
    {
     "name": "stdout",
     "output_type": "stream",
     "text": [
      "\r",
      "Upgrading database; v6 -> v7: 100%|██████████| 1/1 [00:00<00:00, 386.43it/s]"
     ]
    },
    {
     "name": "stdout",
     "output_type": "stream",
     "text": [
      "\n",
      "\r",
      "  0%|          | 0/1 [00:00<?, ?it/s]"
     ]
    },
    {
     "name": "stdout",
     "output_type": "stream",
     "text": [
      "\r",
      "Upgrading database; v7 -> v8:   0%|          | 0/1 [00:00<?, ?it/s]"
     ]
    },
    {
     "name": "stdout",
     "output_type": "stream",
     "text": [
      "\r",
      "Upgrading database; v7 -> v8: 100%|██████████| 1/1 [00:00<00:00, 725.91it/s]"
     ]
    },
    {
     "name": "stdout",
     "output_type": "stream",
     "text": [
      "\n",
      "\r",
      "  0%|          | 0/1 [00:00<?, ?it/s]"
     ]
    },
    {
     "name": "stdout",
     "output_type": "stream",
     "text": [
      "\r",
      "Upgrading database; v8 -> v9:   0%|          | 0/1 [00:00<?, ?it/s]"
     ]
    },
    {
     "name": "stdout",
     "output_type": "stream",
     "text": [
      "\r",
      "Upgrading database; v8 -> v9: 100%|██████████| 1/1 [00:00<00:00, 851.29it/s]"
     ]
    },
    {
     "name": "stdout",
     "output_type": "stream",
     "text": [
      "\n"
     ]
    }
   ],
   "source": [
    "initialise_database()\n",
    "exp = load_or_create_experiment(experiment_name='tutorial_exp', sample_name=\"no sample\")"
   ]
  },
  {
   "cell_type": "markdown",
   "metadata": {},
   "source": [
    "Here, we define a simple function to benchmark the time it takes to insert n points with either numeric or array data type.\n",
    "We will compare both the time used to call ``add_result`` and the time used for the full measurement."
   ]
  },
  {
   "cell_type": "code",
   "execution_count": 4,
   "metadata": {
    "execution": {
     "iopub.execute_input": "2020-10-19T17:31:59.880949Z",
     "iopub.status.busy": "2020-10-19T17:31:59.880345Z",
     "iopub.status.idle": "2020-10-19T17:31:59.884299Z",
     "shell.execute_reply": "2020-10-19T17:31:59.883502Z"
    }
   },
   "outputs": [],
   "source": [
    "def insert_data(paramtype, npoints, nreps=1):\n",
    "\n",
    "    meas = Measurement(exp=exp)\n",
    "\n",
    "    x1 = ManualParameter('x1')\n",
    "    x2 = ManualParameter('x2')\n",
    "    x3 = ManualParameter('x3')\n",
    "    y1 = ManualParameter('y1')\n",
    "    y2 = ManualParameter('y2')\n",
    "\n",
    "    meas.register_parameter(x1, paramtype=paramtype)\n",
    "    meas.register_parameter(x2, paramtype=paramtype)\n",
    "    meas.register_parameter(x3, paramtype=paramtype)\n",
    "    meas.register_parameter(y1, setpoints=[x1, x2, x3],\n",
    "                            paramtype=paramtype)\n",
    "    meas.register_parameter(y2, setpoints=[x1, x2, x3],\n",
    "                            paramtype=paramtype)\n",
    "    start = time.perf_counter()\n",
    "    with meas.run() as datasaver:\n",
    "        start_adding = time.perf_counter()\n",
    "        for i in range(nreps):\n",
    "            datasaver.add_result((x1, np.random.rand(npoints)),\n",
    "                                 (x2, np.random.rand(npoints)),\n",
    "                                 (x3, np.random.rand(npoints)),\n",
    "                                 (y1, np.random.rand(npoints)),\n",
    "                                 (y2, np.random.rand(npoints)))\n",
    "        stop_adding = time.perf_counter()\n",
    "        run_id = datasaver.run_id\n",
    "    stop = time.perf_counter()\n",
    "    tot_time = stop - start\n",
    "    add_time = stop_adding - start_adding\n",
    "    return tot_time, add_time, run_id"
   ]
  },
  {
   "cell_type": "markdown",
   "metadata": {},
   "source": [
    "## Comparison between numeric/array data and binary blob"
   ]
  },
  {
   "cell_type": "markdown",
   "metadata": {},
   "source": [
    "### Case1: Short experiment time"
   ]
  },
  {
   "cell_type": "code",
   "execution_count": 5,
   "metadata": {
    "execution": {
     "iopub.execute_input": "2020-10-19T17:31:59.891101Z",
     "iopub.status.busy": "2020-10-19T17:31:59.890093Z",
     "iopub.status.idle": "2020-10-19T17:32:00.731787Z",
     "shell.execute_reply": "2020-10-19T17:32:00.732386Z"
    }
   },
   "outputs": [
    {
     "name": "stdout",
     "output_type": "stream",
     "text": [
      "Starting experimental run with id: 1. \n",
      "Starting experimental run with id: 2. \n",
      "Starting experimental run with id: 3. \n",
      "Starting experimental run with id: 4. \n",
      "Starting experimental run with id: 5. \n"
     ]
    },
    {
     "name": "stdout",
     "output_type": "stream",
     "text": [
      "Starting experimental run with id: 6. \n"
     ]
    },
    {
     "name": "stdout",
     "output_type": "stream",
     "text": [
      "Starting experimental run with id: 7. "
     ]
    },
    {
     "name": "stdout",
     "output_type": "stream",
     "text": [
      "\n"
     ]
    },
    {
     "name": "stdout",
     "output_type": "stream",
     "text": [
      "Starting experimental run with id: 8. \n",
      "Starting experimental run with id: 9. \n"
     ]
    },
    {
     "name": "stdout",
     "output_type": "stream",
     "text": [
      "Starting experimental run with id: 10. \n",
      "Starting experimental run with id: 11. \n"
     ]
    },
    {
     "name": "stdout",
     "output_type": "stream",
     "text": [
      "Starting experimental run with id: 12. \n",
      "Starting experimental run with id: 13. \n"
     ]
    },
    {
     "name": "stdout",
     "output_type": "stream",
     "text": [
      "Starting experimental run with id: 14. \n"
     ]
    }
   ],
   "source": [
    "sizes = [1,500,1000,2000,3000,4000,5000]\n",
    "t_numeric = []\n",
    "t_numeric_add = []\n",
    "t_array = []\n",
    "t_array_add = []\n",
    "for size in sizes:\n",
    "    tn, tna, run_id_n =  insert_data('numeric', size)\n",
    "    t_numeric.append(tn)\n",
    "    t_numeric_add.append(tna)\n",
    "\n",
    "    ta, taa, run_id_a =  insert_data('array', size)\n",
    "    t_array.append(ta)\n",
    "    t_array_add.append(taa)"
   ]
  },
  {
   "cell_type": "code",
   "execution_count": 6,
   "metadata": {
    "execution": {
     "iopub.execute_input": "2020-10-19T17:32:00.781741Z",
     "iopub.status.busy": "2020-10-19T17:32:00.759820Z",
     "iopub.status.idle": "2020-10-19T17:32:00.962032Z",
     "shell.execute_reply": "2020-10-19T17:32:00.961191Z"
    }
   },
   "outputs": [
    {
     "data": {
      "image/png": "[encoded data removed]",
      "text/plain": [
       "<Figure size 432x288 with 1 Axes>"
      ]
     },
     "metadata": {
      "needs_background": "light"
     },
     "output_type": "display_data"
    }
   ],
   "source": [
    "fig, ax = plt.subplots(1,1)\n",
    "ax.plot(sizes, t_numeric, 'o-', label='Inserting row-by-row')\n",
    "ax.plot(sizes, t_numeric_add, 'o-', label='Inserting row-by-row: add_result only')\n",
    "ax.plot(sizes, t_array, 'd-', label='Inserting as binary blob')\n",
    "ax.plot(sizes, t_array_add, 'd-', label='Inserting as binary blob: add_result only')\n",
    "ax.legend()\n",
    "ax.set_xlabel('Array length')\n",
    "ax.set_ylabel('Time (s)')\n",
    "fig.tight_layout()"
   ]
  },
  {
   "cell_type": "markdown",
   "metadata": {},
   "source": [
    "As shown in the latter figure, the time to setup and and close the experiment is approximately 0.4 sec. In case of small array sizes, the difference between inserting values of data as arrays and inserting them row-by-row is relatively unimportant. At larger array sizes, i.e. above 10000 points, the cost of writing data as individual datapoints starts to become important.\n"
   ]
  },
  {
   "cell_type": "markdown",
   "metadata": {},
   "source": [
    "### Case2: Long experiment time "
   ]
  },
  {
   "cell_type": "code",
   "execution_count": 7,
   "metadata": {
    "execution": {
     "iopub.execute_input": "2020-10-19T17:32:00.969810Z",
     "iopub.status.busy": "2020-10-19T17:32:00.968878Z",
     "iopub.status.idle": "2020-10-19T17:33:00.675665Z",
     "shell.execute_reply": "2020-10-19T17:33:00.674812Z"
    }
   },
   "outputs": [
    {
     "name": "stdout",
     "output_type": "stream",
     "text": [
      "Starting experimental run with id: 15. \n",
      "Starting experimental run with id: 16. \n",
      "Starting experimental run with id: 17. \n"
     ]
    },
    {
     "name": "stdout",
     "output_type": "stream",
     "text": [
      "Starting experimental run with id: 18. \n",
      "Starting experimental run with id: 19. \n"
     ]
    },
    {
     "name": "stdout",
     "output_type": "stream",
     "text": [
      "Starting experimental run with id: 20. \n"
     ]
    },
    {
     "name": "stdout",
     "output_type": "stream",
     "text": [
      "Starting experimental run with id: 21. \n"
     ]
    },
    {
     "name": "stdout",
     "output_type": "stream",
     "text": [
      "Starting experimental run with id: 22. \n"
     ]
    },
    {
     "name": "stdout",
     "output_type": "stream",
     "text": [
      "Starting experimental run with id: 23. \n"
     ]
    },
    {
     "name": "stdout",
     "output_type": "stream",
     "text": [
      "Starting experimental run with id: 24. \n"
     ]
    },
    {
     "name": "stdout",
     "output_type": "stream",
     "text": [
      "Starting experimental run with id: 25. \n"
     ]
    },
    {
     "name": "stdout",
     "output_type": "stream",
     "text": [
      "Starting experimental run with id: 26. \n"
     ]
    },
    {
     "name": "stdout",
     "output_type": "stream",
     "text": [
      "Starting experimental run with id: 27. \n"
     ]
    },
    {
     "name": "stdout",
     "output_type": "stream",
     "text": [
      "Starting experimental run with id: 28. \n"
     ]
    }
   ],
   "source": [
    "sizes = [1,500,1000,2000,3000,4000,5000]\n",
    "nreps = 100\n",
    "t_numeric = []\n",
    "t_numeric_add = []\n",
    "t_numeric_run_ids = []\n",
    "t_array = []\n",
    "t_array_add = []\n",
    "t_array_run_ids = []\n",
    "for size in sizes:\n",
    "    tn, tna, run_id_n =  insert_data('numeric', size, nreps=nreps)\n",
    "    t_numeric.append(tn)\n",
    "    t_numeric_add.append(tna)\n",
    "    t_numeric_run_ids.append(run_id_n)\n",
    "\n",
    "    ta, taa, run_id_a =  insert_data('array', size, nreps=nreps)\n",
    "    t_array.append(ta)\n",
    "    t_array_add.append(taa)\n",
    "    t_array_run_ids.append(run_id_a)"
   ]
  },
  {
   "cell_type": "code",
   "execution_count": 8,
   "metadata": {
    "execution": {
     "iopub.execute_input": "2020-10-19T17:33:00.703783Z",
     "iopub.status.busy": "2020-10-19T17:33:00.693817Z",
     "iopub.status.idle": "2020-10-19T17:33:00.899911Z",
     "shell.execute_reply": "2020-10-19T17:33:00.899384Z"
    },
    "scrolled": true
   },
   "outputs": [
    {
     "data": {
      "image/png": "[encoded data removed]",
      "text/plain": [
       "<Figure size 432x288 with 1 Axes>"
      ]
     },
     "metadata": {
      "needs_background": "light"
     },
     "output_type": "display_data"
    }
   ],
   "source": [
    "fig, ax = plt.subplots(1,1)\n",
    "ax.plot(sizes, t_numeric, 'o-', label='Inserting row-by-row')\n",
    "ax.plot(sizes, t_numeric_add, 'o-', label='Inserting row-by-row: add_result only')\n",
    "ax.plot(sizes, t_array, 'd-', label='Inserting as binary blob')\n",
    "ax.plot(sizes, t_array_add, 'd-', label='Inserting as binary blob: add_result only')\n",
    "ax.legend()\n",
    "ax.set_xlabel('Array length')\n",
    "ax.set_ylabel('Time (s)')\n",
    "fig.tight_layout()"
   ]
  },
  {
   "cell_type": "markdown",
   "metadata": {},
   "source": [
    "However, as we increase the length of the experiment, as seen here by repeating the insertion 100 times, we see a big difference between inserting values of the data row-by-row and inserting it as a binary blob."
   ]
  },
  {
   "cell_type": "markdown",
   "metadata": {},
   "source": [
    "## Loading the data "
   ]
  },
  {
   "cell_type": "code",
   "execution_count": 9,
   "metadata": {
    "execution": {
     "iopub.execute_input": "2020-10-19T17:33:00.904300Z",
     "iopub.status.busy": "2020-10-19T17:33:00.903316Z",
     "iopub.status.idle": "2020-10-19T17:33:00.906701Z",
     "shell.execute_reply": "2020-10-19T17:33:00.907422Z"
    }
   },
   "outputs": [],
   "source": [
    "from qcodes.dataset.data_set import load_by_id\n",
    "from qcodes.dataset.data_export import get_data_by_id"
   ]
  },
  {
   "cell_type": "markdown",
   "metadata": {},
   "source": [
    "As usual you can load the data by using the ``load_by_id`` function but you will notice that the different storage methods\n",
    "are reflected in shape of the data as it is retrieved. "
   ]
  },
  {
   "cell_type": "code",
   "execution_count": 10,
   "metadata": {
    "execution": {
     "iopub.execute_input": "2020-10-19T17:33:00.911218Z",
     "iopub.status.busy": "2020-10-19T17:33:00.910621Z",
     "iopub.status.idle": "2020-10-19T17:33:00.913683Z",
     "shell.execute_reply": "2020-10-19T17:33:00.914255Z"
    }
   },
   "outputs": [],
   "source": [
    "run_id_n = t_numeric_run_ids[0]\n",
    "run_id_a = t_array_run_ids[0]"
   ]
  },
  {
   "cell_type": "code",
   "execution_count": 11,
   "metadata": {
    "execution": {
     "iopub.execute_input": "2020-10-19T17:33:00.917427Z",
     "iopub.status.busy": "2020-10-19T17:33:00.916862Z",
     "iopub.status.idle": "2020-10-19T17:33:00.927209Z",
     "shell.execute_reply": "2020-10-19T17:33:00.926595Z"
    },
    "scrolled": true
   },
   "outputs": [
    {
     "data": {
      "text/plain": [
       "{'x1': {'x1': array([0.54661491, 0.54661491, 0.03421092, 0.03421092, 0.12642396,\n",
       "         0.12642396, 0.57835263, 0.57835263, 0.35457098, 0.35457098,\n",
       "         0.51478063, 0.51478063, 0.65586717, 0.65586717, 0.68290587,\n",
       "         0.68290587, 0.11431986, 0.11431986, 0.62689758, 0.62689758,\n",
       "         0.79741107, 0.79741107, 0.73907269, 0.73907269, 0.37511628,\n",
       "         0.37511628, 0.13973849, 0.13973849, 0.32087608, 0.32087608,\n",
       "         0.14162927, 0.14162927, 0.33246749, 0.33246749, 0.35565808,\n",
       "         0.35565808, 0.0998162 , 0.0998162 , 0.89373266, 0.89373266,\n",
       "         0.92987509, 0.92987509, 0.58831373, 0.58831373, 0.10854238,\n",
       "         0.10854238, 0.91366419, 0.91366419, 0.50916012, 0.50916012,\n",
       "         0.24798879, 0.24798879, 0.35077931, 0.35077931, 0.10251289,\n",
       "         0.10251289, 0.36831231, 0.36831231, 0.37593831, 0.37593831,\n",
       "         0.67451166, 0.67451166, 0.98423727, 0.98423727, 0.24673579,\n",
       "         0.24673579, 0.14079229, 0.14079229, 0.33698599, 0.33698599,\n",
       "         0.7575156 , 0.7575156 , 0.63802745, 0.63802745, 0.85815484,\n",
       "         0.85815484, 0.39904794, 0.39904794, 0.51743929, 0.51743929,\n",
       "         0.62969509, 0.62969509, 0.12034207, 0.12034207, 0.01113126,\n",
       "         0.01113126, 0.06109159, 0.06109159, 0.62892424, 0.62892424,\n",
       "         0.16346563, 0.16346563, 0.83441995, 0.83441995, 0.63016679,\n",
       "         0.63016679, 0.27164988, 0.27164988, 0.39095003, 0.39095003,\n",
       "         0.20891333, 0.20891333, 0.07549565, 0.07549565, 0.65989298,\n",
       "         0.65989298, 0.04867587, 0.04867587, 0.91891535, 0.91891535,\n",
       "         0.20686139, 0.20686139, 0.17501324, 0.17501324, 0.47372029,\n",
       "         0.47372029, 0.68540327, 0.68540327, 0.38257649, 0.38257649,\n",
       "         0.14488505, 0.14488505, 0.33265071, 0.33265071, 0.06715671,\n",
       "         0.06715671, 0.07415272, 0.07415272, 0.00445727, 0.00445727,\n",
       "         0.26775151, 0.26775151, 0.05104094, 0.05104094, 0.52379974,\n",
       "         0.52379974, 0.75709581, 0.75709581, 0.41582493, 0.41582493,\n",
       "         0.55847802, 0.55847802, 0.89990339, 0.89990339, 0.68842163,\n",
       "         0.68842163, 0.57306137, 0.57306137, 0.03678703, 0.03678703,\n",
       "         0.89053112, 0.89053112, 0.76128166, 0.76128166, 0.52936508,\n",
       "         0.52936508, 0.81523928, 0.81523928, 0.94734757, 0.94734757,\n",
       "         0.68661782, 0.68661782, 0.29011208, 0.29011208, 0.20026539,\n",
       "         0.20026539, 0.49827934, 0.49827934, 0.67372329, 0.67372329,\n",
       "         0.86966128, 0.86966128, 0.37349055, 0.37349055, 0.01810559,\n",
       "         0.01810559, 0.29530847, 0.29530847, 0.8864866 , 0.8864866 ,\n",
       "         0.04201426, 0.04201426, 0.29022304, 0.29022304, 0.92561099,\n",
       "         0.92561099, 0.84206426, 0.84206426, 0.49782549, 0.49782549,\n",
       "         0.16916217, 0.16916217, 0.89923208, 0.89923208, 0.15502811,\n",
       "         0.15502811, 0.26067896, 0.26067896, 0.93245115, 0.93245115])}}"
      ]
     },
     "execution_count": 1,
     "metadata": {},
     "output_type": "execute_result"
    }
   ],
   "source": [
    "ds = load_by_id(run_id_n)\n",
    "ds.get_parameter_data('x1')"
   ]
  },
  {
   "cell_type": "markdown",
   "metadata": {},
   "source": [
    "And a dataset stored as binary arrays"
   ]
  },
  {
   "cell_type": "code",
   "execution_count": 12,
   "metadata": {
    "execution": {
     "iopub.execute_input": "2020-10-19T17:33:00.930512Z",
     "iopub.status.busy": "2020-10-19T17:33:00.929951Z",
     "iopub.status.idle": "2020-10-19T17:33:00.992700Z",
     "shell.execute_reply": "2020-10-19T17:33:00.993306Z"
    },
    "scrolled": true
   },
   "outputs": [
    {
     "data": {
      "text/plain": [
       "{'x1': {'x1': array([[0.75928159],\n",
       "         [0.75928159],\n",
       "         [0.26772305],\n",
       "         [0.26772305],\n",
       "         [0.70353137],\n",
       "         [0.70353137],\n",
       "         [0.0536759 ],\n",
       "         [0.0536759 ],\n",
       "         [0.63299928],\n",
       "         [0.63299928],\n",
       "         [0.03497526],\n",
       "         [0.03497526],\n",
       "         [0.83523789],\n",
       "         [0.83523789],\n",
       "         [0.91497963],\n",
       "         [0.91497963],\n",
       "         [0.44769811],\n",
       "         [0.44769811],\n",
       "         [0.61813711],\n",
       "         [0.61813711],\n",
       "         [0.34011786],\n",
       "         [0.34011786],\n",
       "         [0.11978509],\n",
       "         [0.11978509],\n",
       "         [0.46188306],\n",
       "         [0.46188306],\n",
       "         [0.96056414],\n",
       "         [0.96056414],\n",
       "         [0.4459668 ],\n",
       "         [0.4459668 ],\n",
       "         [0.14297438],\n",
       "         [0.14297438],\n",
       "         [0.70389351],\n",
       "         [0.70389351],\n",
       "         [0.89331521],\n",
       "         [0.89331521],\n",
       "         [0.61300673],\n",
       "         [0.61300673],\n",
       "         [0.83145148],\n",
       "         [0.83145148],\n",
       "         [0.45061784],\n",
       "         [0.45061784],\n",
       "         [0.34252563],\n",
       "         [0.34252563],\n",
       "         [0.83083139],\n",
       "         [0.83083139],\n",
       "         [0.0377962 ],\n",
       "         [0.0377962 ],\n",
       "         [0.29502512],\n",
       "         [0.29502512],\n",
       "         [0.76341599],\n",
       "         [0.76341599],\n",
       "         [0.5152925 ],\n",
       "         [0.5152925 ],\n",
       "         [0.69737483],\n",
       "         [0.69737483],\n",
       "         [0.5219099 ],\n",
       "         [0.5219099 ],\n",
       "         [0.87388703],\n",
       "         [0.87388703],\n",
       "         [0.09023802],\n",
       "         [0.09023802],\n",
       "         [0.50188165],\n",
       "         [0.50188165],\n",
       "         [0.24623251],\n",
       "         [0.24623251],\n",
       "         [0.14231387],\n",
       "         [0.14231387],\n",
       "         [0.98826777],\n",
       "         [0.98826777],\n",
       "         [0.88885775],\n",
       "         [0.88885775],\n",
       "         [0.45161704],\n",
       "         [0.45161704],\n",
       "         [0.02789632],\n",
       "         [0.02789632],\n",
       "         [0.97729974],\n",
       "         [0.97729974],\n",
       "         [0.40166247],\n",
       "         [0.40166247],\n",
       "         [0.23236702],\n",
       "         [0.23236702],\n",
       "         [0.6356567 ],\n",
       "         [0.6356567 ],\n",
       "         [0.57317871],\n",
       "         [0.57317871],\n",
       "         [0.52320953],\n",
       "         [0.52320953],\n",
       "         [0.60283381],\n",
       "         [0.60283381],\n",
       "         [0.82462518],\n",
       "         [0.82462518],\n",
       "         [0.20264985],\n",
       "         [0.20264985],\n",
       "         [0.60245899],\n",
       "         [0.60245899],\n",
       "         [0.46955213],\n",
       "         [0.46955213],\n",
       "         [0.15634268],\n",
       "         [0.15634268],\n",
       "         [0.70965236],\n",
       "         [0.70965236],\n",
       "         [0.25117916],\n",
       "         [0.25117916],\n",
       "         [0.41833574],\n",
       "         [0.41833574],\n",
       "         [0.21275128],\n",
       "         [0.21275128],\n",
       "         [0.76176411],\n",
       "         [0.76176411],\n",
       "         [0.97898927],\n",
       "         [0.97898927],\n",
       "         [0.49172637],\n",
       "         [0.49172637],\n",
       "         [0.64872132],\n",
       "         [0.64872132],\n",
       "         [0.08869717],\n",
       "         [0.08869717],\n",
       "         [0.21160079],\n",
       "         [0.21160079],\n",
       "         [0.59710591],\n",
       "         [0.59710591],\n",
       "         [0.49401621],\n",
       "         [0.49401621],\n",
       "         [0.09741351],\n",
       "         [0.09741351],\n",
       "         [0.2646164 ],\n",
       "         [0.2646164 ],\n",
       "         [0.78948075],\n",
       "         [0.78948075],\n",
       "         [0.20495744],\n",
       "         [0.20495744],\n",
       "         [0.35674583],\n",
       "         [0.35674583],\n",
       "         [0.82153103],\n",
       "         [0.82153103],\n",
       "         [0.85717853],\n",
       "         [0.85717853],\n",
       "         [0.57494365],\n",
       "         [0.57494365],\n",
       "         [0.49389547],\n",
       "         [0.49389547],\n",
       "         [0.61091643],\n",
       "         [0.61091643],\n",
       "         [0.12149586],\n",
       "         [0.12149586],\n",
       "         [0.20405431],\n",
       "         [0.20405431],\n",
       "         [0.00235356],\n",
       "         [0.00235356],\n",
       "         [0.14730879],\n",
       "         [0.14730879],\n",
       "         [0.80072024],\n",
       "         [0.80072024],\n",
       "         [0.44204243],\n",
       "         [0.44204243],\n",
       "         [0.00792154],\n",
       "         [0.00792154],\n",
       "         [0.15364109],\n",
       "         [0.15364109],\n",
       "         [0.44733165],\n",
       "         [0.44733165],\n",
       "         [0.40648377],\n",
       "         [0.40648377],\n",
       "         [0.03836378],\n",
       "         [0.03836378],\n",
       "         [0.31435383],\n",
       "         [0.31435383],\n",
       "         [0.61388917],\n",
       "         [0.61388917],\n",
       "         [0.1466873 ],\n",
       "         [0.1466873 ],\n",
       "         [0.74633916],\n",
       "         [0.74633916],\n",
       "         [0.5989767 ],\n",
       "         [0.5989767 ],\n",
       "         [0.62644531],\n",
       "         [0.62644531],\n",
       "         [0.83580058],\n",
       "         [0.83580058],\n",
       "         [0.06336844],\n",
       "         [0.06336844],\n",
       "         [0.21387252],\n",
       "         [0.21387252],\n",
       "         [0.56574376],\n",
       "         [0.56574376],\n",
       "         [0.11358238],\n",
       "         [0.11358238],\n",
       "         [0.13775579],\n",
       "         [0.13775579],\n",
       "         [0.2354386 ],\n",
       "         [0.2354386 ],\n",
       "         [0.86104125],\n",
       "         [0.86104125],\n",
       "         [0.96571379],\n",
       "         [0.96571379],\n",
       "         [0.38453591],\n",
       "         [0.38453591],\n",
       "         [0.38711289],\n",
       "         [0.38711289]])}}"
      ]
     },
     "execution_count": 1,
     "metadata": {},
     "output_type": "execute_result"
    }
   ],
   "source": [
    "ds = load_by_id(run_id_a)\n",
    "ds.get_parameter_data('x1')"
   ]
  },
  {
   "cell_type": "code",
   "execution_count": null,
   "metadata": {},
   "outputs": [],
   "source": []
  }
 ],
 "metadata": {
  "kernelspec": {
   "display_name": "Python 3",
   "language": "python",
   "name": "python3"
  },
  "language_info": {
   "codemirror_mode": {
    "name": "ipython",
    "version": 3
   },
   "file_extension": ".py",
   "mimetype": "text/x-python",
   "name": "python",
   "nbconvert_exporter": "python",
   "pygments_lexer": "ipython3",
   "version": "3.7.7"
  },
  "nbsphinx": {
   "timeout": 600
  },
  "toc": {
   "base_numbering": 1,
   "nav_menu": {},
   "number_sections": true,
   "sideBar": true,
   "skip_h1_title": false,
   "title_cell": "Table of Contents",
   "title_sidebar": "Contents",
   "toc_cell": false,
   "toc_position": {},
   "toc_section_display": true,
   "toc_window_display": false
  },
  "varInspector": {
   "cols": {
    "lenName": 16,
    "lenType": 16,
    "lenVar": 40
   },
   "kernels_config": {
    "python": {
     "delete_cmd_postfix": "",
     "delete_cmd_prefix": "del ",
     "library": "var_list.py",
     "varRefreshCmd": "print(var_dic_list())"
    },
    "r": {
     "delete_cmd_postfix": ") ",
     "delete_cmd_prefix": "rm(",
     "library": "var_list.r",
     "varRefreshCmd": "cat(var_dic_list()) "
    }
   },
   "types_to_exclude": [
    "module",
    "function",
    "builtin_function_or_method",
    "instance",
    "_Feature"
   ],
   "window_display": false
  }
 },
 "nbformat": 4,
 "nbformat_minor": 2
}
