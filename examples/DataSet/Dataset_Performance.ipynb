{
 "cells": [
  {
   "cell_type": "markdown",
   "metadata": {},
   "source": [
    "# DataSet Performance\n",
    "\n",
    "This notebook shows the trade-off between inserting data into a database row-by-row and as binary blobs. Inserting the data row-by-row means that we have direct access to all the data and may perform queries directly on the values of the data. On the other hand, as we shall see, this is much slower than inserting the data directly as binary blobs."
   ]
  },
  {
   "cell_type": "markdown",
   "metadata": {},
   "source": [
    "First, we choose a new location for the database to ensure that we don't add a bunch of benchmarking data to the default one."
   ]
  },
  {
   "cell_type": "code",
   "execution_count": 1,
   "metadata": {},
   "outputs": [
    {
     "name": "stdout",
     "output_type": "stream",
     "text": [
      "Logging hadn't been started.\n",
      "Activating auto-logging. Current session state plus future input saved.\n",
      "Filename       : /home/vsts/.qcodes/logs/command_history.log\n",
      "Mode           : append\n",
      "Output logging : True\n",
      "Raw input log  : False\n",
      "Timestamping   : True\n",
      "State          : active\n"
     ]
    },
    {
     "name": "stdout",
     "output_type": "stream",
     "text": [
      "Qcodes Logfile : /home/vsts/.qcodes/logs/200416-18561-qcodes.log\n"
     ]
    }
   ],
   "source": [
    "import os\n",
    "cwd = os.getcwd()\n",
    "import qcodes as qc\n",
    "qc.config[\"core\"][\"db_location\"] = os.path.join(cwd, 'testing.db')\n"
   ]
  },
  {
   "cell_type": "code",
   "execution_count": 2,
   "metadata": {},
   "outputs": [],
   "source": [
    "%matplotlib inline\n",
    "import time\n",
    "import matplotlib.pyplot as plt\n",
    "import numpy as np\n",
    "\n",
    "import qcodes as qc\n",
    "from qcodes.instrument.parameter import ManualParameter\n",
    "from qcodes.dataset.experiment_container import (Experiment,\n",
    "                                                 load_last_experiment,\n",
    "                                                 new_experiment)\n",
    "from qcodes.dataset.sqlite.database import initialise_database\n",
    "from qcodes import load_or_create_experiment\n",
    "from qcodes.dataset.measurements import Measurement"
   ]
  },
  {
   "cell_type": "code",
   "execution_count": 3,
   "metadata": {},
   "outputs": [
    {
     "name": "stdout",
     "output_type": "stream",
     "text": [
      "\r",
      "0it [00:00, ?it/s]"
     ]
    },
    {
     "name": "stdout",
     "output_type": "stream",
     "text": [
      "\r",
      "Upgrading database; v0 -> v1: : 0it [00:00, ?it/s]"
     ]
    },
    {
     "name": "stdout",
     "output_type": "stream",
     "text": [
      "\r",
      "Upgrading database; v0 -> v1: : 0it [00:00, ?it/s]"
     ]
    },
    {
     "name": "stdout",
     "output_type": "stream",
     "text": [
      "\n",
      "\r",
      "  0%|          | 0/1 [00:00<?, ?it/s]"
     ]
    },
    {
     "name": "stdout",
     "output_type": "stream",
     "text": [
      "\r",
      "Upgrading database; v1 -> v2:   0%|          | 0/1 [00:00<?, ?it/s]"
     ]
    },
    {
     "name": "stdout",
     "output_type": "stream",
     "text": [
      "\r",
      "Upgrading database; v1 -> v2: 100%|██████████| 1/1 [00:00<00:00, 776.58it/s]"
     ]
    },
    {
     "name": "stdout",
     "output_type": "stream",
     "text": [
      "\n",
      "\r",
      "0it [00:00, ?it/s]"
     ]
    },
    {
     "name": "stdout",
     "output_type": "stream",
     "text": [
      "\r",
      "Upgrading database; v2 -> v3: : 0it [00:00, ?it/s]"
     ]
    },
    {
     "name": "stdout",
     "output_type": "stream",
     "text": [
      "\r",
      "Upgrading database; v2 -> v3: : 0it [00:00, ?it/s]"
     ]
    },
    {
     "name": "stdout",
     "output_type": "stream",
     "text": [
      "\n",
      "\r",
      "0it [00:00, ?it/s]"
     ]
    },
    {
     "name": "stdout",
     "output_type": "stream",
     "text": [
      "\r",
      "Upgrading database; v3 -> v4: : 0it [00:00, ?it/s]"
     ]
    },
    {
     "name": "stdout",
     "output_type": "stream",
     "text": [
      "\r",
      "Upgrading database; v3 -> v4: : 0it [00:00, ?it/s]"
     ]
    },
    {
     "name": "stdout",
     "output_type": "stream",
     "text": [
      "\n",
      "\r",
      "  0%|          | 0/1 [00:00<?, ?it/s]"
     ]
    },
    {
     "name": "stdout",
     "output_type": "stream",
     "text": [
      "\r",
      "Upgrading database; v4 -> v5:   0%|          | 0/1 [00:00<?, ?it/s]"
     ]
    },
    {
     "name": "stdout",
     "output_type": "stream",
     "text": [
      "\r",
      "Upgrading database; v4 -> v5: 100%|██████████| 1/1 [00:00<00:00, 767.91it/s]"
     ]
    },
    {
     "name": "stdout",
     "output_type": "stream",
     "text": [
      "\n",
      "\r",
      "0it [00:00, ?it/s]"
     ]
    },
    {
     "name": "stdout",
     "output_type": "stream",
     "text": [
      "\r",
      "Upgrading database; v5 -> v6: : 0it [00:00, ?it/s]"
     ]
    },
    {
     "name": "stdout",
     "output_type": "stream",
     "text": [
      "\r",
      "Upgrading database; v5 -> v6: : 0it [00:00, ?it/s]"
     ]
    },
    {
     "name": "stdout",
     "output_type": "stream",
     "text": [
      "\n",
      "\r",
      "  0%|          | 0/1 [00:00<?, ?it/s]"
     ]
    },
    {
     "name": "stdout",
     "output_type": "stream",
     "text": [
      "\r",
      "Upgrading database; v6 -> v7:   0%|          | 0/1 [00:00<?, ?it/s]"
     ]
    },
    {
     "name": "stdout",
     "output_type": "stream",
     "text": [
      "\r",
      "Upgrading database; v6 -> v7: 100%|██████████| 1/1 [00:00<00:00, 362.08it/s]"
     ]
    },
    {
     "name": "stdout",
     "output_type": "stream",
     "text": [
      "\n",
      "\r",
      "  0%|          | 0/1 [00:00<?, ?it/s]"
     ]
    },
    {
     "name": "stdout",
     "output_type": "stream",
     "text": [
      "\r",
      "Upgrading database; v7 -> v8:   0%|          | 0/1 [00:00<?, ?it/s]"
     ]
    },
    {
     "name": "stdout",
     "output_type": "stream",
     "text": [
      "\r",
      "Upgrading database; v7 -> v8: 100%|██████████| 1/1 [00:00<00:00, 638.31it/s]"
     ]
    },
    {
     "name": "stdout",
     "output_type": "stream",
     "text": [
      "\n",
      "\r",
      "  0%|          | 0/1 [00:00<?, ?it/s]"
     ]
    },
    {
     "name": "stdout",
     "output_type": "stream",
     "text": [
      "\r",
      "Upgrading database; v8 -> v9:   0%|          | 0/1 [00:00<?, ?it/s]"
     ]
    },
    {
     "name": "stdout",
     "output_type": "stream",
     "text": [
      "\r",
      "Upgrading database; v8 -> v9: 100%|██████████| 1/1 [00:00<00:00, 709.46it/s]"
     ]
    },
    {
     "name": "stdout",
     "output_type": "stream",
     "text": [
      "\n"
     ]
    }
   ],
   "source": [
    "initialise_database()\n",
    "exp = load_or_create_experiment(experiment_name='tutorial_exp', sample_name=\"no sample\")"
   ]
  },
  {
   "cell_type": "markdown",
   "metadata": {},
   "source": [
    "Here, we define a simple function to benchmark the time it takes to insert n points with either numeric or array data type.\n",
    "We will compare both the time used to call ``add_result`` and the time used for the full measurement."
   ]
  },
  {
   "cell_type": "code",
   "execution_count": 4,
   "metadata": {},
   "outputs": [],
   "source": [
    "def insert_data(paramtype, npoints, nreps=1):\n",
    "\n",
    "    meas = Measurement(exp=exp)\n",
    "\n",
    "    x1 = ManualParameter('x1')\n",
    "    x2 = ManualParameter('x2')\n",
    "    x3 = ManualParameter('x3')\n",
    "    y1 = ManualParameter('y1')\n",
    "    y2 = ManualParameter('y2')\n",
    "\n",
    "    meas.register_parameter(x1, paramtype=paramtype)\n",
    "    meas.register_parameter(x2, paramtype=paramtype)\n",
    "    meas.register_parameter(x3, paramtype=paramtype)\n",
    "    meas.register_parameter(y1, setpoints=[x1, x2, x3],\n",
    "                            paramtype=paramtype)\n",
    "    meas.register_parameter(y2, setpoints=[x1, x2, x3],\n",
    "                            paramtype=paramtype)\n",
    "    start = time.perf_counter()\n",
    "    with meas.run() as datasaver:\n",
    "        start_adding = time.perf_counter()\n",
    "        for i in range(nreps):\n",
    "            datasaver.add_result((x1, np.random.rand(npoints)),\n",
    "                                 (x2, np.random.rand(npoints)),\n",
    "                                 (x3, np.random.rand(npoints)),\n",
    "                                 (y1, np.random.rand(npoints)),\n",
    "                                 (y2, np.random.rand(npoints)))\n",
    "        stop_adding = time.perf_counter()\n",
    "        run_id = datasaver.run_id\n",
    "    stop = time.perf_counter()\n",
    "    tot_time = stop - start\n",
    "    add_time = stop_adding - start_adding\n",
    "    return tot_time, add_time, run_id"
   ]
  },
  {
   "cell_type": "markdown",
   "metadata": {},
   "source": [
    "## Comparison between numeric/array data and binary blob"
   ]
  },
  {
   "cell_type": "markdown",
   "metadata": {},
   "source": [
    "### Case1: Short experiment time"
   ]
  },
  {
   "cell_type": "code",
   "execution_count": 5,
   "metadata": {},
   "outputs": [
    {
     "name": "stdout",
     "output_type": "stream",
     "text": [
      "Starting experimental run with id: 1. \n",
      "Starting experimental run with id: 2. \n",
      "Starting experimental run with id: 3. \n"
     ]
    },
    {
     "name": "stdout",
     "output_type": "stream",
     "text": [
      "Starting experimental run with id: 4. \n"
     ]
    },
    {
     "name": "stdout",
     "output_type": "stream",
     "text": [
      "Starting experimental run with id: 5. \n"
     ]
    },
    {
     "name": "stdout",
     "output_type": "stream",
     "text": [
      "Starting experimental run with id: 6. \n",
      "Starting experimental run with id: 7. \n"
     ]
    },
    {
     "name": "stdout",
     "output_type": "stream",
     "text": [
      "Starting experimental run with id: 8. \n",
      "Starting experimental run with id: 9. \n"
     ]
    },
    {
     "name": "stdout",
     "output_type": "stream",
     "text": [
      "Starting experimental run with id: 10. \n",
      "Starting experimental run with id: 11. \n"
     ]
    },
    {
     "name": "stdout",
     "output_type": "stream",
     "text": [
      "Starting experimental run with id: 12. \n"
     ]
    },
    {
     "name": "stdout",
     "output_type": "stream",
     "text": [
      "Starting experimental run with id: 13. \n"
     ]
    },
    {
     "name": "stdout",
     "output_type": "stream",
     "text": [
      "Starting experimental run with id: 14. \n"
     ]
    }
   ],
   "source": [
    "sizes = [1,500,1000,2000,3000,4000,5000]\n",
    "t_numeric = []\n",
    "t_numeric_add = []\n",
    "t_array = []\n",
    "t_array_add = []\n",
    "for size in sizes:\n",
    "    tn, tna, run_id_n =  insert_data('numeric', size)\n",
    "    t_numeric.append(tn)\n",
    "    t_numeric_add.append(tna)\n",
    "\n",
    "    ta, taa, run_id_a =  insert_data('array', size)\n",
    "    t_array.append(ta)\n",
    "    t_array_add.append(taa)"
   ]
  },
  {
   "cell_type": "code",
   "execution_count": 6,
   "metadata": {},
   "outputs": [
    {
     "data": {
      "image/png": "[encoded data removed]",
      "text/plain": [
       "<Figure size 432x288 with 1 Axes>"
      ]
     },
     "metadata": {
      "needs_background": "light"
     },
     "output_type": "display_data"
    }
   ],
   "source": [
    "fig, ax = plt.subplots(1,1)\n",
    "ax.plot(sizes, t_numeric, 'o-', label='Inserting row-by-row')\n",
    "ax.plot(sizes, t_numeric_add, 'o-', label='Inserting row-by-row: add_result only')\n",
    "ax.plot(sizes, t_array, 'd-', label='Inserting as binary blob')\n",
    "ax.plot(sizes, t_array_add, 'd-', label='Inserting as binary blob: add_result only')\n",
    "ax.legend()\n",
    "ax.set_xlabel('Array length')\n",
    "ax.set_ylabel('Time (s)')\n",
    "fig.tight_layout()"
   ]
  },
  {
   "cell_type": "markdown",
   "metadata": {},
   "source": [
    "As shown in the latter figure, the time to setup and and close the experiment is approximately 0.4 sec. In case of small array sizes, the difference between inserting values of data as arrays and inserting them row-by-row is relatively unimportant. At larger array sizes, i.e. above 10000 points, the cost of writing data as individual datapoints starts to become important.\n"
   ]
  },
  {
   "cell_type": "markdown",
   "metadata": {},
   "source": [
    "### Case2: Long experiment time "
   ]
  },
  {
   "cell_type": "code",
   "execution_count": 7,
   "metadata": {},
   "outputs": [
    {
     "name": "stdout",
     "output_type": "stream",
     "text": [
      "Starting experimental run with id: 15. \n",
      "Starting experimental run with id: 16. \n",
      "Starting experimental run with id: 17. \n"
     ]
    },
    {
     "name": "stdout",
     "output_type": "stream",
     "text": [
      "Starting experimental run with id: 18. \n",
      "Starting experimental run with id: 19. \n"
     ]
    },
    {
     "name": "stdout",
     "output_type": "stream",
     "text": [
      "Starting experimental run with id: 20. \n"
     ]
    },
    {
     "name": "stdout",
     "output_type": "stream",
     "text": [
      "Starting experimental run with id: 21. \n"
     ]
    },
    {
     "name": "stdout",
     "output_type": "stream",
     "text": [
      "Starting experimental run with id: 22. \n"
     ]
    },
    {
     "name": "stdout",
     "output_type": "stream",
     "text": [
      "Starting experimental run with id: 23. \n"
     ]
    },
    {
     "name": "stdout",
     "output_type": "stream",
     "text": [
      "Starting experimental run with id: 24. \n"
     ]
    },
    {
     "name": "stdout",
     "output_type": "stream",
     "text": [
      "Starting experimental run with id: 25. \n"
     ]
    },
    {
     "name": "stdout",
     "output_type": "stream",
     "text": [
      "Starting experimental run with id: 26. \n"
     ]
    },
    {
     "name": "stdout",
     "output_type": "stream",
     "text": [
      "Starting experimental run with id: 27. \n"
     ]
    },
    {
     "name": "stdout",
     "output_type": "stream",
     "text": [
      "Starting experimental run with id: 28. \n"
     ]
    }
   ],
   "source": [
    "sizes = [1,500,1000,2000,3000,4000,5000]\n",
    "nreps = 100\n",
    "t_numeric = []\n",
    "t_numeric_add = []\n",
    "t_numeric_run_ids = []\n",
    "t_array = []\n",
    "t_array_add = []\n",
    "t_array_run_ids = []\n",
    "for size in sizes:\n",
    "    tn, tna, run_id_n =  insert_data('numeric', size, nreps=nreps)\n",
    "    t_numeric.append(tn)\n",
    "    t_numeric_add.append(tna)\n",
    "    t_numeric_run_ids.append(run_id_n)\n",
    "\n",
    "    ta, taa, run_id_a =  insert_data('array', size, nreps=nreps)\n",
    "    t_array.append(ta)\n",
    "    t_array_add.append(taa)\n",
    "    t_array_run_ids.append(run_id_a)"
   ]
  },
  {
   "cell_type": "code",
   "execution_count": 8,
   "metadata": {
    "scrolled": true
   },
   "outputs": [
    {
     "data": {
      "image/png": "[encoded data removed]",
      "text/plain": [
       "<Figure size 432x288 with 1 Axes>"
      ]
     },
     "metadata": {
      "needs_background": "light"
     },
     "output_type": "display_data"
    }
   ],
   "source": [
    "fig, ax = plt.subplots(1,1)\n",
    "ax.plot(sizes, t_numeric, 'o-', label='Inserting row-by-row')\n",
    "ax.plot(sizes, t_numeric_add, 'o-', label='Inserting row-by-row: add_result only')\n",
    "ax.plot(sizes, t_array, 'd-', label='Inserting as binary blob')\n",
    "ax.plot(sizes, t_array_add, 'd-', label='Inserting as binary blob: add_result only')\n",
    "ax.legend()\n",
    "ax.set_xlabel('Array length')\n",
    "ax.set_ylabel('Time (s)')\n",
    "fig.tight_layout()"
   ]
  },
  {
   "cell_type": "markdown",
   "metadata": {},
   "source": [
    "However, as we increase the length of the experiment, as seen here by repeating the insertion 100 times, we see a big difference between inserting values of the data row-by-row and inserting it as a binary blob."
   ]
  },
  {
   "cell_type": "markdown",
   "metadata": {},
   "source": [
    "## Loading the data "
   ]
  },
  {
   "cell_type": "code",
   "execution_count": 9,
   "metadata": {},
   "outputs": [],
   "source": [
    "from qcodes.dataset.data_set import load_by_id\n",
    "from qcodes.dataset.data_export import get_data_by_id"
   ]
  },
  {
   "cell_type": "markdown",
   "metadata": {},
   "source": [
    "As usual you can load the data by using the ``load_by_id`` function but you will notice that the different storage methods\n",
    "are reflected in shape of the data as it is retrieved. "
   ]
  },
  {
   "cell_type": "code",
   "execution_count": 10,
   "metadata": {},
   "outputs": [],
   "source": [
    "run_id_n = t_numeric_run_ids[0]\n",
    "run_id_a = t_array_run_ids[0]"
   ]
  },
  {
   "cell_type": "code",
   "execution_count": 11,
   "metadata": {
    "scrolled": true
   },
   "outputs": [
    {
     "data": {
      "text/plain": [
       "{'x1': {'x1': array([0.37337248, 0.37337248, 0.7029689 , 0.7029689 , 0.98467432,\n",
       "         0.98467432, 0.66001233, 0.66001233, 0.69326612, 0.69326612,\n",
       "         0.3560482 , 0.3560482 , 0.91542539, 0.91542539, 0.54716531,\n",
       "         0.54716531, 0.53429106, 0.53429106, 0.38827076, 0.38827076,\n",
       "         0.19584445, 0.19584445, 0.59337719, 0.59337719, 0.98103404,\n",
       "         0.98103404, 0.04794062, 0.04794062, 0.05412967, 0.05412967,\n",
       "         0.45228636, 0.45228636, 0.51513046, 0.51513046, 0.84838404,\n",
       "         0.84838404, 0.679264  , 0.679264  , 0.89246709, 0.89246709,\n",
       "         0.12130847, 0.12130847, 0.88906795, 0.88906795, 0.58889474,\n",
       "         0.58889474, 0.54669778, 0.54669778, 0.22745696, 0.22745696,\n",
       "         0.78522077, 0.78522077, 0.50782173, 0.50782173, 0.9812966 ,\n",
       "         0.9812966 , 0.37160201, 0.37160201, 0.60666019, 0.60666019,\n",
       "         0.90069539, 0.90069539, 0.05644646, 0.05644646, 0.27611424,\n",
       "         0.27611424, 0.40244061, 0.40244061, 0.83653461, 0.83653461,\n",
       "         0.60946107, 0.60946107, 0.3938613 , 0.3938613 , 0.41227844,\n",
       "         0.41227844, 0.10153213, 0.10153213, 0.64389494, 0.64389494,\n",
       "         0.72871898, 0.72871898, 0.494329  , 0.494329  , 0.65439674,\n",
       "         0.65439674, 0.65636124, 0.65636124, 0.58816071, 0.58816071,\n",
       "         0.64591522, 0.64591522, 0.36747607, 0.36747607, 0.21388672,\n",
       "         0.21388672, 0.65961873, 0.65961873, 0.38265686, 0.38265686,\n",
       "         0.06547535, 0.06547535, 0.41997809, 0.41997809, 0.42275344,\n",
       "         0.42275344, 0.59203693, 0.59203693, 0.19987518, 0.19987518,\n",
       "         0.45126645, 0.45126645, 0.78887674, 0.78887674, 0.54892465,\n",
       "         0.54892465, 0.9498543 , 0.9498543 , 0.86377563, 0.86377563,\n",
       "         0.40593061, 0.40593061, 0.016071  , 0.016071  , 0.05345727,\n",
       "         0.05345727, 0.67378528, 0.67378528, 0.06438342, 0.06438342,\n",
       "         0.19307611, 0.19307611, 0.96459239, 0.96459239, 0.23256242,\n",
       "         0.23256242, 0.46071637, 0.46071637, 0.84075324, 0.84075324,\n",
       "         0.99200252, 0.99200252, 0.9103526 , 0.9103526 , 0.15707891,\n",
       "         0.15707891, 0.64610506, 0.64610506, 0.56771145, 0.56771145,\n",
       "         0.29584481, 0.29584481, 0.64771678, 0.64771678, 0.51975957,\n",
       "         0.51975957, 0.57304523, 0.57304523, 0.53415596, 0.53415596,\n",
       "         0.17555196, 0.17555196, 0.30280331, 0.30280331, 0.98259067,\n",
       "         0.98259067, 0.19763576, 0.19763576, 0.65224586, 0.65224586,\n",
       "         0.80965526, 0.80965526, 0.71791681, 0.71791681, 0.49195413,\n",
       "         0.49195413, 0.7125877 , 0.7125877 , 0.95912747, 0.95912747,\n",
       "         0.28945353, 0.28945353, 0.64260037, 0.64260037, 0.69708261,\n",
       "         0.69708261, 0.11403658, 0.11403658, 0.08389531, 0.08389531,\n",
       "         0.12320585, 0.12320585, 0.08587224, 0.08587224, 0.55362205,\n",
       "         0.55362205, 0.14630522, 0.14630522, 0.47795615, 0.47795615])}}"
      ]
     },
     "execution_count": 11,
     "metadata": {},
     "output_type": "execute_result"
    }
   ],
   "source": [
    "ds = load_by_id(run_id_n)\n",
    "ds.get_parameter_data('x1')"
   ]
  },
  {
   "cell_type": "markdown",
   "metadata": {},
   "source": [
    "And a dataset stored as binary arrays"
   ]
  },
  {
   "cell_type": "code",
   "execution_count": 12,
   "metadata": {
    "scrolled": true
   },
   "outputs": [
    {
     "data": {
      "text/plain": [
       "{'x1': {'x1': array([[0.35486475],\n",
       "         [0.35486475],\n",
       "         [0.37821505],\n",
       "         [0.37821505],\n",
       "         [0.6398475 ],\n",
       "         [0.6398475 ],\n",
       "         [0.24448628],\n",
       "         [0.24448628],\n",
       "         [0.87464124],\n",
       "         [0.87464124],\n",
       "         [0.20954005],\n",
       "         [0.20954005],\n",
       "         [0.21353893],\n",
       "         [0.21353893],\n",
       "         [0.3459941 ],\n",
       "         [0.3459941 ],\n",
       "         [0.46882339],\n",
       "         [0.46882339],\n",
       "         [0.25172725],\n",
       "         [0.25172725],\n",
       "         [0.6629487 ],\n",
       "         [0.6629487 ],\n",
       "         [0.78424507],\n",
       "         [0.78424507],\n",
       "         [0.94734311],\n",
       "         [0.94734311],\n",
       "         [0.5181156 ],\n",
       "         [0.5181156 ],\n",
       "         [0.1547989 ],\n",
       "         [0.1547989 ],\n",
       "         [0.70019893],\n",
       "         [0.70019893],\n",
       "         [0.00650515],\n",
       "         [0.00650515],\n",
       "         [0.88368802],\n",
       "         [0.88368802],\n",
       "         [0.74873357],\n",
       "         [0.74873357],\n",
       "         [0.50830971],\n",
       "         [0.50830971],\n",
       "         [0.06943631],\n",
       "         [0.06943631],\n",
       "         [0.56127806],\n",
       "         [0.56127806],\n",
       "         [0.35545531],\n",
       "         [0.35545531],\n",
       "         [0.20301001],\n",
       "         [0.20301001],\n",
       "         [0.96584093],\n",
       "         [0.96584093],\n",
       "         [0.85942922],\n",
       "         [0.85942922],\n",
       "         [0.93859345],\n",
       "         [0.93859345],\n",
       "         [0.87524092],\n",
       "         [0.87524092],\n",
       "         [0.08775393],\n",
       "         [0.08775393],\n",
       "         [0.8766809 ],\n",
       "         [0.8766809 ],\n",
       "         [0.97734899],\n",
       "         [0.97734899],\n",
       "         [0.20369819],\n",
       "         [0.20369819],\n",
       "         [0.45884106],\n",
       "         [0.45884106],\n",
       "         [0.53312534],\n",
       "         [0.53312534],\n",
       "         [0.92639017],\n",
       "         [0.92639017],\n",
       "         [0.06310946],\n",
       "         [0.06310946],\n",
       "         [0.81773121],\n",
       "         [0.81773121],\n",
       "         [0.07111605],\n",
       "         [0.07111605],\n",
       "         [0.2063253 ],\n",
       "         [0.2063253 ],\n",
       "         [0.12183516],\n",
       "         [0.12183516],\n",
       "         [0.82341556],\n",
       "         [0.82341556],\n",
       "         [0.01553189],\n",
       "         [0.01553189],\n",
       "         [0.49264952],\n",
       "         [0.49264952],\n",
       "         [0.12263902],\n",
       "         [0.12263902],\n",
       "         [0.71867391],\n",
       "         [0.71867391],\n",
       "         [0.58911141],\n",
       "         [0.58911141],\n",
       "         [0.62306839],\n",
       "         [0.62306839],\n",
       "         [0.95983785],\n",
       "         [0.95983785],\n",
       "         [0.45016099],\n",
       "         [0.45016099],\n",
       "         [0.94227178],\n",
       "         [0.94227178],\n",
       "         [0.13951493],\n",
       "         [0.13951493],\n",
       "         [0.42194253],\n",
       "         [0.42194253],\n",
       "         [0.11298893],\n",
       "         [0.11298893],\n",
       "         [0.8036602 ],\n",
       "         [0.8036602 ],\n",
       "         [0.44996588],\n",
       "         [0.44996588],\n",
       "         [0.56774505],\n",
       "         [0.56774505],\n",
       "         [0.41925952],\n",
       "         [0.41925952],\n",
       "         [0.96537341],\n",
       "         [0.96537341],\n",
       "         [0.9243129 ],\n",
       "         [0.9243129 ],\n",
       "         [0.42812192],\n",
       "         [0.42812192],\n",
       "         [0.58227059],\n",
       "         [0.58227059],\n",
       "         [0.79111567],\n",
       "         [0.79111567],\n",
       "         [0.31924414],\n",
       "         [0.31924414],\n",
       "         [0.99730466],\n",
       "         [0.99730466],\n",
       "         [0.10927396],\n",
       "         [0.10927396],\n",
       "         [0.04532689],\n",
       "         [0.04532689],\n",
       "         [0.94186922],\n",
       "         [0.94186922],\n",
       "         [0.83512806],\n",
       "         [0.83512806],\n",
       "         [0.51502372],\n",
       "         [0.51502372],\n",
       "         [0.74627768],\n",
       "         [0.74627768],\n",
       "         [0.57455513],\n",
       "         [0.57455513],\n",
       "         [0.01992086],\n",
       "         [0.01992086],\n",
       "         [0.07898089],\n",
       "         [0.07898089],\n",
       "         [0.04654601],\n",
       "         [0.04654601],\n",
       "         [0.48994232],\n",
       "         [0.48994232],\n",
       "         [0.20319092],\n",
       "         [0.20319092],\n",
       "         [0.15900425],\n",
       "         [0.15900425],\n",
       "         [0.81388796],\n",
       "         [0.81388796],\n",
       "         [0.34719994],\n",
       "         [0.34719994],\n",
       "         [0.6640962 ],\n",
       "         [0.6640962 ],\n",
       "         [0.40617076],\n",
       "         [0.40617076],\n",
       "         [0.01512251],\n",
       "         [0.01512251],\n",
       "         [0.74118815],\n",
       "         [0.74118815],\n",
       "         [0.8476391 ],\n",
       "         [0.8476391 ],\n",
       "         [0.68560896],\n",
       "         [0.68560896],\n",
       "         [0.86982344],\n",
       "         [0.86982344],\n",
       "         [0.98461135],\n",
       "         [0.98461135],\n",
       "         [0.6596876 ],\n",
       "         [0.6596876 ],\n",
       "         [0.78746572],\n",
       "         [0.78746572],\n",
       "         [0.21538871],\n",
       "         [0.21538871],\n",
       "         [0.18407546],\n",
       "         [0.18407546],\n",
       "         [0.17019851],\n",
       "         [0.17019851],\n",
       "         [0.02761166],\n",
       "         [0.02761166],\n",
       "         [0.29676698],\n",
       "         [0.29676698],\n",
       "         [0.34992452],\n",
       "         [0.34992452],\n",
       "         [0.89861955],\n",
       "         [0.89861955],\n",
       "         [0.50792248],\n",
       "         [0.50792248],\n",
       "         [0.61870706],\n",
       "         [0.61870706],\n",
       "         [0.21980065],\n",
       "         [0.21980065],\n",
       "         [0.8033045 ],\n",
       "         [0.8033045 ]])}}"
      ]
     },
     "execution_count": 12,
     "metadata": {},
     "output_type": "execute_result"
    }
   ],
   "source": [
    "ds = load_by_id(run_id_a)\n",
    "ds.get_parameter_data('x1')"
   ]
  },
  {
   "cell_type": "code",
   "execution_count": null,
   "metadata": {},
   "outputs": [],
   "source": []
  }
 ],
 "metadata": {
  "kernelspec": {
   "display_name": "Python 3",
   "language": "python",
   "name": "python3"
  },
  "language_info": {
   "codemirror_mode": {
    "name": "ipython",
    "version": 3
   },
   "file_extension": ".py",
   "mimetype": "text/x-python",
   "name": "python",
   "nbconvert_exporter": "python",
   "pygments_lexer": "ipython3",
   "version": "3.7.7"
  },
  "nbsphinx": {
   "timeout": 600
  },
  "toc": {
   "base_numbering": 1,
   "nav_menu": {},
   "number_sections": true,
   "sideBar": true,
   "skip_h1_title": false,
   "title_cell": "Table of Contents",
   "title_sidebar": "Contents",
   "toc_cell": false,
   "toc_position": {},
   "toc_section_display": true,
   "toc_window_display": false
  },
  "varInspector": {
   "cols": {
    "lenName": 16,
    "lenType": 16,
    "lenVar": 40
   },
   "kernels_config": {
    "python": {
     "delete_cmd_postfix": "",
     "delete_cmd_prefix": "del ",
     "library": "var_list.py",
     "varRefreshCmd": "print(var_dic_list())"
    },
    "r": {
     "delete_cmd_postfix": ") ",
     "delete_cmd_prefix": "rm(",
     "library": "var_list.r",
     "varRefreshCmd": "cat(var_dic_list()) "
    }
   },
   "types_to_exclude": [
    "module",
    "function",
    "builtin_function_or_method",
    "instance",
    "_Feature"
   ],
   "window_display": false
  }
 },
 "nbformat": 4,
 "nbformat_minor": 2
}
