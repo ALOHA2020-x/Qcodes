{
 "cells": [
  {
   "cell_type": "markdown",
   "metadata": {},
   "source": [
    "# DataSet Performance\n",
    "\n",
    "This notebook shows the trade-off between inserting data into a database row-by-row and as binary blobs. Inserting the data row-by-row means that we have direct access to all the data and may perform queries directly on the values of the data. On the other hand, as we shall see, this is much slower than inserting the data directly as binary blobs."
   ]
  },
  {
   "cell_type": "markdown",
   "metadata": {},
   "source": [
    "First, we choose a new location for the database to ensure that we don't add a bunch of benchmarking data to the default one."
   ]
  },
  {
   "cell_type": "code",
   "execution_count": 1,
   "metadata": {
    "execution": {
     "iopub.execute_input": "2020-09-24T06:54:51.466974Z",
     "iopub.status.busy": "2020-09-24T06:54:51.465960Z",
     "iopub.status.idle": "2020-09-24T06:54:52.530779Z",
     "shell.execute_reply": "2020-09-24T06:54:52.529963Z"
    }
   },
   "outputs": [
    {
     "name": "stdout",
     "output_type": "stream",
     "text": [
      "Logging hadn't been started.\n",
      "Activating auto-logging. Current session state plus future input saved.\n",
      "Filename       : /home/vsts/.qcodes/logs/command_history.log\n",
      "Mode           : append\n",
      "Output logging : True\n",
      "Raw input log  : False\n",
      "Timestamping   : True\n",
      "State          : active\n"
     ]
    },
    {
     "name": "stdout",
     "output_type": "stream",
     "text": [
      "Qcodes Logfile : /home/vsts/.qcodes/logs/200924-18754-qcodes.log\n"
     ]
    }
   ],
   "source": [
    "import os\n",
    "cwd = os.getcwd()\n",
    "import qcodes as qc\n",
    "qc.config[\"core\"][\"db_location\"] = os.path.join(cwd, 'testing.db')\n"
   ]
  },
  {
   "cell_type": "code",
   "execution_count": 2,
   "metadata": {
    "execution": {
     "iopub.execute_input": "2020-09-24T06:54:52.536331Z",
     "iopub.status.busy": "2020-09-24T06:54:52.535233Z",
     "iopub.status.idle": "2020-09-24T06:54:52.728884Z",
     "shell.execute_reply": "2020-09-24T06:54:52.729396Z"
    }
   },
   "outputs": [],
   "source": [
    "%matplotlib inline\n",
    "import time\n",
    "import matplotlib.pyplot as plt\n",
    "import numpy as np\n",
    "\n",
    "import qcodes as qc\n",
    "from qcodes.instrument.parameter import ManualParameter\n",
    "from qcodes.dataset.experiment_container import (Experiment,\n",
    "                                                 load_last_experiment,\n",
    "                                                 new_experiment)\n",
    "from qcodes.dataset.sqlite.database import initialise_database\n",
    "from qcodes import load_or_create_experiment\n",
    "from qcodes.dataset.measurements import Measurement"
   ]
  },
  {
   "cell_type": "code",
   "execution_count": 3,
   "metadata": {
    "execution": {
     "iopub.execute_input": "2020-09-24T06:54:52.733709Z",
     "iopub.status.busy": "2020-09-24T06:54:52.732877Z",
     "iopub.status.idle": "2020-09-24T06:54:52.865035Z",
     "shell.execute_reply": "2020-09-24T06:54:52.864409Z"
    }
   },
   "outputs": [
    {
     "name": "stdout",
     "output_type": "stream",
     "text": [
      "\r",
      "0it [00:00, ?it/s]"
     ]
    },
    {
     "name": "stdout",
     "output_type": "stream",
     "text": [
      "\r",
      "Upgrading database; v0 -> v1: : 0it [00:00, ?it/s]"
     ]
    },
    {
     "name": "stdout",
     "output_type": "stream",
     "text": [
      "\r",
      "Upgrading database; v0 -> v1: : 0it [00:00, ?it/s]"
     ]
    },
    {
     "name": "stdout",
     "output_type": "stream",
     "text": [
      "\n",
      "\r",
      "  0%|          | 0/1 [00:00<?, ?it/s]"
     ]
    },
    {
     "name": "stdout",
     "output_type": "stream",
     "text": [
      "\r",
      "Upgrading database; v1 -> v2:   0%|          | 0/1 [00:00<?, ?it/s]"
     ]
    },
    {
     "name": "stdout",
     "output_type": "stream",
     "text": [
      "\r",
      "Upgrading database; v1 -> v2: 100%|██████████| 1/1 [00:00<00:00, 438.32it/s]"
     ]
    },
    {
     "name": "stdout",
     "output_type": "stream",
     "text": [
      "\n",
      "\r",
      "0it [00:00, ?it/s]"
     ]
    },
    {
     "name": "stdout",
     "output_type": "stream",
     "text": [
      "\r",
      "Upgrading database; v2 -> v3: : 0it [00:00, ?it/s]"
     ]
    },
    {
     "name": "stdout",
     "output_type": "stream",
     "text": [
      "\r",
      "Upgrading database; v2 -> v3: : 0it [00:00, ?it/s]"
     ]
    },
    {
     "name": "stdout",
     "output_type": "stream",
     "text": [
      "\n",
      "\r",
      "0it [00:00, ?it/s]"
     ]
    },
    {
     "name": "stdout",
     "output_type": "stream",
     "text": [
      "\r",
      "Upgrading database; v3 -> v4: : 0it [00:00, ?it/s]"
     ]
    },
    {
     "name": "stdout",
     "output_type": "stream",
     "text": [
      "\r",
      "Upgrading database; v3 -> v4: : 0it [00:00, ?it/s]"
     ]
    },
    {
     "name": "stdout",
     "output_type": "stream",
     "text": [
      "\n",
      "\r",
      "  0%|          | 0/1 [00:00<?, ?it/s]"
     ]
    },
    {
     "name": "stdout",
     "output_type": "stream",
     "text": [
      "\r",
      "Upgrading database; v4 -> v5:   0%|          | 0/1 [00:00<?, ?it/s]"
     ]
    },
    {
     "name": "stdout",
     "output_type": "stream",
     "text": [
      "\r",
      "Upgrading database; v4 -> v5: 100%|██████████| 1/1 [00:00<00:00, 400.30it/s]"
     ]
    },
    {
     "name": "stdout",
     "output_type": "stream",
     "text": [
      "\n",
      "\r",
      "0it [00:00, ?it/s]"
     ]
    },
    {
     "name": "stdout",
     "output_type": "stream",
     "text": [
      "\r",
      "Upgrading database; v5 -> v6: : 0it [00:00, ?it/s]"
     ]
    },
    {
     "name": "stdout",
     "output_type": "stream",
     "text": [
      "\r",
      "Upgrading database; v5 -> v6: : 0it [00:00, ?it/s]"
     ]
    },
    {
     "name": "stdout",
     "output_type": "stream",
     "text": [
      "\n",
      "\r",
      "  0%|          | 0/1 [00:00<?, ?it/s]"
     ]
    },
    {
     "name": "stdout",
     "output_type": "stream",
     "text": [
      "\r",
      "Upgrading database; v6 -> v7:   0%|          | 0/1 [00:00<?, ?it/s]"
     ]
    },
    {
     "name": "stdout",
     "output_type": "stream",
     "text": [
      "\r",
      "Upgrading database; v6 -> v7: 100%|██████████| 1/1 [00:00<00:00, 261.85it/s]"
     ]
    },
    {
     "name": "stdout",
     "output_type": "stream",
     "text": [
      "\n",
      "\r",
      "  0%|          | 0/1 [00:00<?, ?it/s]"
     ]
    },
    {
     "name": "stdout",
     "output_type": "stream",
     "text": [
      "\r",
      "Upgrading database; v7 -> v8:   0%|          | 0/1 [00:00<?, ?it/s]"
     ]
    },
    {
     "name": "stdout",
     "output_type": "stream",
     "text": [
      "\r",
      "Upgrading database; v7 -> v8: 100%|██████████| 1/1 [00:00<00:00, 453.68it/s]"
     ]
    },
    {
     "name": "stdout",
     "output_type": "stream",
     "text": [
      "\n",
      "\r",
      "  0%|          | 0/1 [00:00<?, ?it/s]"
     ]
    },
    {
     "name": "stdout",
     "output_type": "stream",
     "text": [
      "\r",
      "Upgrading database; v8 -> v9:   0%|          | 0/1 [00:00<?, ?it/s]"
     ]
    },
    {
     "name": "stdout",
     "output_type": "stream",
     "text": [
      "\r",
      "Upgrading database; v8 -> v9: 100%|██████████| 1/1 [00:00<00:00, 470.95it/s]"
     ]
    },
    {
     "name": "stdout",
     "output_type": "stream",
     "text": [
      "\n"
     ]
    }
   ],
   "source": [
    "initialise_database()\n",
    "exp = load_or_create_experiment(experiment_name='tutorial_exp', sample_name=\"no sample\")"
   ]
  },
  {
   "cell_type": "markdown",
   "metadata": {},
   "source": [
    "Here, we define a simple function to benchmark the time it takes to insert n points with either numeric or array data type.\n",
    "We will compare both the time used to call ``add_result`` and the time used for the full measurement."
   ]
  },
  {
   "cell_type": "code",
   "execution_count": 4,
   "metadata": {
    "execution": {
     "iopub.execute_input": "2020-09-24T06:54:52.873870Z",
     "iopub.status.busy": "2020-09-24T06:54:52.873315Z",
     "iopub.status.idle": "2020-09-24T06:54:52.876719Z",
     "shell.execute_reply": "2020-09-24T06:54:52.876160Z"
    }
   },
   "outputs": [],
   "source": [
    "def insert_data(paramtype, npoints, nreps=1):\n",
    "\n",
    "    meas = Measurement(exp=exp)\n",
    "\n",
    "    x1 = ManualParameter('x1')\n",
    "    x2 = ManualParameter('x2')\n",
    "    x3 = ManualParameter('x3')\n",
    "    y1 = ManualParameter('y1')\n",
    "    y2 = ManualParameter('y2')\n",
    "\n",
    "    meas.register_parameter(x1, paramtype=paramtype)\n",
    "    meas.register_parameter(x2, paramtype=paramtype)\n",
    "    meas.register_parameter(x3, paramtype=paramtype)\n",
    "    meas.register_parameter(y1, setpoints=[x1, x2, x3],\n",
    "                            paramtype=paramtype)\n",
    "    meas.register_parameter(y2, setpoints=[x1, x2, x3],\n",
    "                            paramtype=paramtype)\n",
    "    start = time.perf_counter()\n",
    "    with meas.run() as datasaver:\n",
    "        start_adding = time.perf_counter()\n",
    "        for i in range(nreps):\n",
    "            datasaver.add_result((x1, np.random.rand(npoints)),\n",
    "                                 (x2, np.random.rand(npoints)),\n",
    "                                 (x3, np.random.rand(npoints)),\n",
    "                                 (y1, np.random.rand(npoints)),\n",
    "                                 (y2, np.random.rand(npoints)))\n",
    "        stop_adding = time.perf_counter()\n",
    "        run_id = datasaver.run_id\n",
    "    stop = time.perf_counter()\n",
    "    tot_time = stop - start\n",
    "    add_time = stop_adding - start_adding\n",
    "    return tot_time, add_time, run_id"
   ]
  },
  {
   "cell_type": "markdown",
   "metadata": {},
   "source": [
    "## Comparison between numeric/array data and binary blob"
   ]
  },
  {
   "cell_type": "markdown",
   "metadata": {},
   "source": [
    "### Case1: Short experiment time"
   ]
  },
  {
   "cell_type": "code",
   "execution_count": 5,
   "metadata": {
    "execution": {
     "iopub.execute_input": "2020-09-24T06:54:52.883140Z",
     "iopub.status.busy": "2020-09-24T06:54:52.882135Z",
     "iopub.status.idle": "2020-09-24T06:54:53.807910Z",
     "shell.execute_reply": "2020-09-24T06:54:53.806989Z"
    }
   },
   "outputs": [
    {
     "name": "stdout",
     "output_type": "stream",
     "text": [
      "Starting experimental run with id: 1. \n",
      "Starting experimental run with id: 2. \n",
      "Starting experimental run with id: 3. \n"
     ]
    },
    {
     "name": "stdout",
     "output_type": "stream",
     "text": [
      "Starting experimental run with id: 4. \n"
     ]
    },
    {
     "name": "stdout",
     "output_type": "stream",
     "text": [
      "Starting experimental run with id: 5. \n"
     ]
    },
    {
     "name": "stdout",
     "output_type": "stream",
     "text": [
      "Starting experimental run with id: 6. \n",
      "Starting experimental run with id: 7. \n"
     ]
    },
    {
     "name": "stdout",
     "output_type": "stream",
     "text": [
      "Starting experimental run with id: 8. \n"
     ]
    },
    {
     "name": "stdout",
     "output_type": "stream",
     "text": [
      "Starting experimental run with id: 9. \n"
     ]
    },
    {
     "name": "stdout",
     "output_type": "stream",
     "text": [
      "Starting experimental run with id: 10. \n",
      "Starting experimental run with id: 11. \n"
     ]
    },
    {
     "name": "stdout",
     "output_type": "stream",
     "text": [
      "Starting experimental run with id: 12. \n"
     ]
    },
    {
     "name": "stdout",
     "output_type": "stream",
     "text": [
      "Starting experimental run with id: 13. \n"
     ]
    },
    {
     "name": "stdout",
     "output_type": "stream",
     "text": [
      "Starting experimental run with id: 14. \n"
     ]
    }
   ],
   "source": [
    "sizes = [1,500,1000,2000,3000,4000,5000]\n",
    "t_numeric = []\n",
    "t_numeric_add = []\n",
    "t_array = []\n",
    "t_array_add = []\n",
    "for size in sizes:\n",
    "    tn, tna, run_id_n =  insert_data('numeric', size)\n",
    "    t_numeric.append(tn)\n",
    "    t_numeric_add.append(tna)\n",
    "\n",
    "    ta, taa, run_id_a =  insert_data('array', size)\n",
    "    t_array.append(ta)\n",
    "    t_array_add.append(taa)"
   ]
  },
  {
   "cell_type": "code",
   "execution_count": 6,
   "metadata": {
    "execution": {
     "iopub.execute_input": "2020-09-24T06:54:53.827300Z",
     "iopub.status.busy": "2020-09-24T06:54:53.826493Z",
     "iopub.status.idle": "2020-09-24T06:54:54.059081Z",
     "shell.execute_reply": "2020-09-24T06:54:54.058468Z"
    }
   },
   "outputs": [
    {
     "data": {
      "image/png": "[encoded data removed]",
      "text/plain": [
       "<Figure size 432x288 with 1 Axes>"
      ]
     },
     "metadata": {
      "needs_background": "light"
     },
     "output_type": "display_data"
    }
   ],
   "source": [
    "fig, ax = plt.subplots(1,1)\n",
    "ax.plot(sizes, t_numeric, 'o-', label='Inserting row-by-row')\n",
    "ax.plot(sizes, t_numeric_add, 'o-', label='Inserting row-by-row: add_result only')\n",
    "ax.plot(sizes, t_array, 'd-', label='Inserting as binary blob')\n",
    "ax.plot(sizes, t_array_add, 'd-', label='Inserting as binary blob: add_result only')\n",
    "ax.legend()\n",
    "ax.set_xlabel('Array length')\n",
    "ax.set_ylabel('Time (s)')\n",
    "fig.tight_layout()"
   ]
  },
  {
   "cell_type": "markdown",
   "metadata": {},
   "source": [
    "As shown in the latter figure, the time to setup and and close the experiment is approximately 0.4 sec. In case of small array sizes, the difference between inserting values of data as arrays and inserting them row-by-row is relatively unimportant. At larger array sizes, i.e. above 10000 points, the cost of writing data as individual datapoints starts to become important.\n"
   ]
  },
  {
   "cell_type": "markdown",
   "metadata": {},
   "source": [
    "### Case2: Long experiment time "
   ]
  },
  {
   "cell_type": "code",
   "execution_count": 7,
   "metadata": {
    "execution": {
     "iopub.execute_input": "2020-09-24T06:54:54.066510Z",
     "iopub.status.busy": "2020-09-24T06:54:54.065644Z",
     "iopub.status.idle": "2020-09-24T06:55:54.295718Z",
     "shell.execute_reply": "2020-09-24T06:55:54.296516Z"
    }
   },
   "outputs": [
    {
     "name": "stdout",
     "output_type": "stream",
     "text": [
      "Starting experimental run with id: 15. \n",
      "Starting experimental run with id: 16. \n",
      "Starting experimental run with id: 17. \n"
     ]
    },
    {
     "name": "stdout",
     "output_type": "stream",
     "text": [
      "Starting experimental run with id: 18. \n",
      "Starting experimental run with id: 19. \n"
     ]
    },
    {
     "name": "stdout",
     "output_type": "stream",
     "text": [
      "Starting experimental run with id: 20. \n"
     ]
    },
    {
     "name": "stdout",
     "output_type": "stream",
     "text": [
      "Starting experimental run with id: 21. \n"
     ]
    },
    {
     "name": "stdout",
     "output_type": "stream",
     "text": [
      "Starting experimental run with id: 22. \n"
     ]
    },
    {
     "name": "stdout",
     "output_type": "stream",
     "text": [
      "Starting experimental run with id: 23. \n"
     ]
    },
    {
     "name": "stdout",
     "output_type": "stream",
     "text": [
      "Starting experimental run with id: 24. \n"
     ]
    },
    {
     "name": "stdout",
     "output_type": "stream",
     "text": [
      "Starting experimental run with id: 25. \n"
     ]
    },
    {
     "name": "stdout",
     "output_type": "stream",
     "text": [
      "Starting experimental run with id: 26. \n"
     ]
    },
    {
     "name": "stdout",
     "output_type": "stream",
     "text": [
      "Starting experimental run with id: 27. \n"
     ]
    },
    {
     "name": "stdout",
     "output_type": "stream",
     "text": [
      "Starting experimental run with id: 28. \n"
     ]
    }
   ],
   "source": [
    "sizes = [1,500,1000,2000,3000,4000,5000]\n",
    "nreps = 100\n",
    "t_numeric = []\n",
    "t_numeric_add = []\n",
    "t_numeric_run_ids = []\n",
    "t_array = []\n",
    "t_array_add = []\n",
    "t_array_run_ids = []\n",
    "for size in sizes:\n",
    "    tn, tna, run_id_n =  insert_data('numeric', size, nreps=nreps)\n",
    "    t_numeric.append(tn)\n",
    "    t_numeric_add.append(tna)\n",
    "    t_numeric_run_ids.append(run_id_n)\n",
    "\n",
    "    ta, taa, run_id_a =  insert_data('array', size, nreps=nreps)\n",
    "    t_array.append(ta)\n",
    "    t_array_add.append(taa)\n",
    "    t_array_run_ids.append(run_id_a)"
   ]
  },
  {
   "cell_type": "code",
   "execution_count": 8,
   "metadata": {
    "execution": {
     "iopub.execute_input": "2020-09-24T06:55:54.316874Z",
     "iopub.status.busy": "2020-09-24T06:55:54.314899Z",
     "iopub.status.idle": "2020-09-24T06:55:54.547586Z",
     "shell.execute_reply": "2020-09-24T06:55:54.548088Z"
    },
    "scrolled": true
   },
   "outputs": [
    {
     "data": {
      "image/png": "[encoded data removed]",
      "text/plain": [
       "<Figure size 432x288 with 1 Axes>"
      ]
     },
     "metadata": {
      "needs_background": "light"
     },
     "output_type": "display_data"
    }
   ],
   "source": [
    "fig, ax = plt.subplots(1,1)\n",
    "ax.plot(sizes, t_numeric, 'o-', label='Inserting row-by-row')\n",
    "ax.plot(sizes, t_numeric_add, 'o-', label='Inserting row-by-row: add_result only')\n",
    "ax.plot(sizes, t_array, 'd-', label='Inserting as binary blob')\n",
    "ax.plot(sizes, t_array_add, 'd-', label='Inserting as binary blob: add_result only')\n",
    "ax.legend()\n",
    "ax.set_xlabel('Array length')\n",
    "ax.set_ylabel('Time (s)')\n",
    "fig.tight_layout()"
   ]
  },
  {
   "cell_type": "markdown",
   "metadata": {},
   "source": [
    "However, as we increase the length of the experiment, as seen here by repeating the insertion 100 times, we see a big difference between inserting values of the data row-by-row and inserting it as a binary blob."
   ]
  },
  {
   "cell_type": "markdown",
   "metadata": {},
   "source": [
    "## Loading the data "
   ]
  },
  {
   "cell_type": "code",
   "execution_count": 9,
   "metadata": {
    "execution": {
     "iopub.execute_input": "2020-09-24T06:55:54.552715Z",
     "iopub.status.busy": "2020-09-24T06:55:54.552059Z",
     "iopub.status.idle": "2020-09-24T06:55:54.556395Z",
     "shell.execute_reply": "2020-09-24T06:55:54.555532Z"
    }
   },
   "outputs": [],
   "source": [
    "from qcodes.dataset.data_set import load_by_id\n",
    "from qcodes.dataset.data_export import get_data_by_id"
   ]
  },
  {
   "cell_type": "markdown",
   "metadata": {},
   "source": [
    "As usual you can load the data by using the ``load_by_id`` function but you will notice that the different storage methods\n",
    "are reflected in shape of the data as it is retrieved. "
   ]
  },
  {
   "cell_type": "code",
   "execution_count": 10,
   "metadata": {
    "execution": {
     "iopub.execute_input": "2020-09-24T06:55:54.559852Z",
     "iopub.status.busy": "2020-09-24T06:55:54.558979Z",
     "iopub.status.idle": "2020-09-24T06:55:54.563456Z",
     "shell.execute_reply": "2020-09-24T06:55:54.562551Z"
    }
   },
   "outputs": [],
   "source": [
    "run_id_n = t_numeric_run_ids[0]\n",
    "run_id_a = t_array_run_ids[0]"
   ]
  },
  {
   "cell_type": "code",
   "execution_count": 11,
   "metadata": {
    "execution": {
     "iopub.execute_input": "2020-09-24T06:55:54.570844Z",
     "iopub.status.busy": "2020-09-24T06:55:54.570187Z",
     "iopub.status.idle": "2020-09-24T06:55:54.581052Z",
     "shell.execute_reply": "2020-09-24T06:55:54.580451Z"
    },
    "scrolled": true
   },
   "outputs": [
    {
     "data": {
      "text/plain": [
       "{'x1': {'x1': array([0.78018697, 0.78018697, 0.19334595, 0.19334595, 0.20796878,\n",
       "         0.20796878, 0.14958209, 0.14958209, 0.98608288, 0.98608288,\n",
       "         0.48769435, 0.48769435, 0.5902827 , 0.5902827 , 0.15610396,\n",
       "         0.15610396, 0.54501595, 0.54501595, 0.20957248, 0.20957248,\n",
       "         0.34851081, 0.34851081, 0.59087028, 0.59087028, 0.72358977,\n",
       "         0.72358977, 0.86842667, 0.86842667, 0.7854574 , 0.7854574 ,\n",
       "         0.74050128, 0.74050128, 0.61197024, 0.61197024, 0.04101625,\n",
       "         0.04101625, 0.12205173, 0.12205173, 0.75134693, 0.75134693,\n",
       "         0.42480656, 0.42480656, 0.31338212, 0.31338212, 0.0148388 ,\n",
       "         0.0148388 , 0.06789227, 0.06789227, 0.38696337, 0.38696337,\n",
       "         0.89436715, 0.89436715, 0.97505561, 0.97505561, 0.7303325 ,\n",
       "         0.7303325 , 0.67542443, 0.67542443, 0.63594963, 0.63594963,\n",
       "         0.79498805, 0.79498805, 0.50203104, 0.50203104, 0.67940256,\n",
       "         0.67940256, 0.82960159, 0.82960159, 0.49056557, 0.49056557,\n",
       "         0.61795565, 0.61795565, 0.09931713, 0.09931713, 0.204849  ,\n",
       "         0.204849  , 0.37230638, 0.37230638, 0.63336094, 0.63336094,\n",
       "         0.67189644, 0.67189644, 0.89961744, 0.89961744, 0.38753123,\n",
       "         0.38753123, 0.56466552, 0.56466552, 0.65507326, 0.65507326,\n",
       "         0.86792968, 0.86792968, 0.45492847, 0.45492847, 0.15194671,\n",
       "         0.15194671, 0.42997432, 0.42997432, 0.80806635, 0.80806635,\n",
       "         0.36052648, 0.36052648, 0.74131988, 0.74131988, 0.96648393,\n",
       "         0.96648393, 0.45569932, 0.45569932, 0.20604794, 0.20604794,\n",
       "         0.58477358, 0.58477358, 0.45111168, 0.45111168, 0.0235614 ,\n",
       "         0.0235614 , 0.33349635, 0.33349635, 0.1915781 , 0.1915781 ,\n",
       "         0.54939639, 0.54939639, 0.85948431, 0.85948431, 0.53336568,\n",
       "         0.53336568, 0.54152807, 0.54152807, 0.46454533, 0.46454533,\n",
       "         0.58306124, 0.58306124, 0.81816543, 0.81816543, 0.05822561,\n",
       "         0.05822561, 0.44814592, 0.44814592, 0.63458338, 0.63458338,\n",
       "         0.94461211, 0.94461211, 0.4514978 , 0.4514978 , 0.21957812,\n",
       "         0.21957812, 0.65245898, 0.65245898, 0.29285876, 0.29285876,\n",
       "         0.89187963, 0.89187963, 0.08129284, 0.08129284, 0.1220883 ,\n",
       "         0.1220883 , 0.19780354, 0.19780354, 0.3571107 , 0.3571107 ,\n",
       "         0.95866677, 0.95866677, 0.72704109, 0.72704109, 0.12358578,\n",
       "         0.12358578, 0.6047196 , 0.6047196 , 0.65409529, 0.65409529,\n",
       "         0.09080629, 0.09080629, 0.68944859, 0.68944859, 0.34020986,\n",
       "         0.34020986, 0.8009952 , 0.8009952 , 0.10077268, 0.10077268,\n",
       "         0.97793103, 0.97793103, 0.69240721, 0.69240721, 0.59559089,\n",
       "         0.59559089, 0.87254255, 0.87254255, 0.48938675, 0.48938675,\n",
       "         0.42870295, 0.42870295, 0.55136531, 0.55136531, 0.04991144,\n",
       "         0.04991144, 0.84051653, 0.84051653, 0.1027613 , 0.1027613 ])}}"
      ]
     },
     "execution_count": 1,
     "metadata": {},
     "output_type": "execute_result"
    }
   ],
   "source": [
    "ds = load_by_id(run_id_n)\n",
    "ds.get_parameter_data('x1')"
   ]
  },
  {
   "cell_type": "markdown",
   "metadata": {},
   "source": [
    "And a dataset stored as binary arrays"
   ]
  },
  {
   "cell_type": "code",
   "execution_count": 12,
   "metadata": {
    "execution": {
     "iopub.execute_input": "2020-09-24T06:55:54.584210Z",
     "iopub.status.busy": "2020-09-24T06:55:54.583590Z",
     "iopub.status.idle": "2020-09-24T06:55:54.645687Z",
     "shell.execute_reply": "2020-09-24T06:55:54.644875Z"
    },
    "scrolled": true
   },
   "outputs": [
    {
     "data": {
      "text/plain": [
       "{'x1': {'x1': array([[0.22837841],\n",
       "         [0.22837841],\n",
       "         [0.2196531 ],\n",
       "         [0.2196531 ],\n",
       "         [0.84443362],\n",
       "         [0.84443362],\n",
       "         [0.57916421],\n",
       "         [0.57916421],\n",
       "         [0.22177254],\n",
       "         [0.22177254],\n",
       "         [0.37971414],\n",
       "         [0.37971414],\n",
       "         [0.18158875],\n",
       "         [0.18158875],\n",
       "         [0.4455737 ],\n",
       "         [0.4455737 ],\n",
       "         [0.97065255],\n",
       "         [0.97065255],\n",
       "         [0.19112406],\n",
       "         [0.19112406],\n",
       "         [0.40267733],\n",
       "         [0.40267733],\n",
       "         [0.19582052],\n",
       "         [0.19582052],\n",
       "         [0.63402019],\n",
       "         [0.63402019],\n",
       "         [0.82507814],\n",
       "         [0.82507814],\n",
       "         [0.68078262],\n",
       "         [0.68078262],\n",
       "         [0.36943145],\n",
       "         [0.36943145],\n",
       "         [0.79288095],\n",
       "         [0.79288095],\n",
       "         [0.47844871],\n",
       "         [0.47844871],\n",
       "         [0.44361915],\n",
       "         [0.44361915],\n",
       "         [0.58698647],\n",
       "         [0.58698647],\n",
       "         [0.01392639],\n",
       "         [0.01392639],\n",
       "         [0.36190484],\n",
       "         [0.36190484],\n",
       "         [0.49971495],\n",
       "         [0.49971495],\n",
       "         [0.46265151],\n",
       "         [0.46265151],\n",
       "         [0.06157624],\n",
       "         [0.06157624],\n",
       "         [0.91495701],\n",
       "         [0.91495701],\n",
       "         [0.36202853],\n",
       "         [0.36202853],\n",
       "         [0.18814389],\n",
       "         [0.18814389],\n",
       "         [0.40859132],\n",
       "         [0.40859132],\n",
       "         [0.34722078],\n",
       "         [0.34722078],\n",
       "         [0.03963878],\n",
       "         [0.03963878],\n",
       "         [0.62006948],\n",
       "         [0.62006948],\n",
       "         [0.63937959],\n",
       "         [0.63937959],\n",
       "         [0.64531455],\n",
       "         [0.64531455],\n",
       "         [0.33665231],\n",
       "         [0.33665231],\n",
       "         [0.23162682],\n",
       "         [0.23162682],\n",
       "         [0.87548527],\n",
       "         [0.87548527],\n",
       "         [0.98982519],\n",
       "         [0.98982519],\n",
       "         [0.29360172],\n",
       "         [0.29360172],\n",
       "         [0.92751033],\n",
       "         [0.92751033],\n",
       "         [0.10775168],\n",
       "         [0.10775168],\n",
       "         [0.43646691],\n",
       "         [0.43646691],\n",
       "         [0.43625872],\n",
       "         [0.43625872],\n",
       "         [0.90598574],\n",
       "         [0.90598574],\n",
       "         [0.87362315],\n",
       "         [0.87362315],\n",
       "         [0.43830261],\n",
       "         [0.43830261],\n",
       "         [0.66424986],\n",
       "         [0.66424986],\n",
       "         [0.32839918],\n",
       "         [0.32839918],\n",
       "         [0.81413003],\n",
       "         [0.81413003],\n",
       "         [0.88453276],\n",
       "         [0.88453276],\n",
       "         [0.10950112],\n",
       "         [0.10950112],\n",
       "         [0.10738425],\n",
       "         [0.10738425],\n",
       "         [0.47267749],\n",
       "         [0.47267749],\n",
       "         [0.11099347],\n",
       "         [0.11099347],\n",
       "         [0.72736631],\n",
       "         [0.72736631],\n",
       "         [0.17784518],\n",
       "         [0.17784518],\n",
       "         [0.6635843 ],\n",
       "         [0.6635843 ],\n",
       "         [0.98718385],\n",
       "         [0.98718385],\n",
       "         [0.06692243],\n",
       "         [0.06692243],\n",
       "         [0.01489346],\n",
       "         [0.01489346],\n",
       "         [0.92834185],\n",
       "         [0.92834185],\n",
       "         [0.92046405],\n",
       "         [0.92046405],\n",
       "         [0.73342101],\n",
       "         [0.73342101],\n",
       "         [0.05755067],\n",
       "         [0.05755067],\n",
       "         [0.5122139 ],\n",
       "         [0.5122139 ],\n",
       "         [0.37617461],\n",
       "         [0.37617461],\n",
       "         [0.14798517],\n",
       "         [0.14798517],\n",
       "         [0.29246409],\n",
       "         [0.29246409],\n",
       "         [0.75554574],\n",
       "         [0.75554574],\n",
       "         [0.40323483],\n",
       "         [0.40323483],\n",
       "         [0.91352399],\n",
       "         [0.91352399],\n",
       "         [0.778898  ],\n",
       "         [0.778898  ],\n",
       "         [0.64189907],\n",
       "         [0.64189907],\n",
       "         [0.53414147],\n",
       "         [0.53414147],\n",
       "         [0.20854283],\n",
       "         [0.20854283],\n",
       "         [0.42523498],\n",
       "         [0.42523498],\n",
       "         [0.27387986],\n",
       "         [0.27387986],\n",
       "         [0.54540525],\n",
       "         [0.54540525],\n",
       "         [0.02057082],\n",
       "         [0.02057082],\n",
       "         [0.05951722],\n",
       "         [0.05951722],\n",
       "         [0.05111114],\n",
       "         [0.05111114],\n",
       "         [0.01799214],\n",
       "         [0.01799214],\n",
       "         [0.90209625],\n",
       "         [0.90209625],\n",
       "         [0.37750201],\n",
       "         [0.37750201],\n",
       "         [0.65363144],\n",
       "         [0.65363144],\n",
       "         [0.21088582],\n",
       "         [0.21088582],\n",
       "         [0.18949846],\n",
       "         [0.18949846],\n",
       "         [0.83106982],\n",
       "         [0.83106982],\n",
       "         [0.02864413],\n",
       "         [0.02864413],\n",
       "         [0.68353241],\n",
       "         [0.68353241],\n",
       "         [0.65668758],\n",
       "         [0.65668758],\n",
       "         [0.44100605],\n",
       "         [0.44100605],\n",
       "         [0.53006717],\n",
       "         [0.53006717],\n",
       "         [0.98768229],\n",
       "         [0.98768229],\n",
       "         [0.77554415],\n",
       "         [0.77554415],\n",
       "         [0.91904614],\n",
       "         [0.91904614],\n",
       "         [0.58673484],\n",
       "         [0.58673484],\n",
       "         [0.838859  ],\n",
       "         [0.838859  ],\n",
       "         [0.47154355],\n",
       "         [0.47154355],\n",
       "         [0.57777483],\n",
       "         [0.57777483]])}}"
      ]
     },
     "execution_count": 1,
     "metadata": {},
     "output_type": "execute_result"
    }
   ],
   "source": [
    "ds = load_by_id(run_id_a)\n",
    "ds.get_parameter_data('x1')"
   ]
  },
  {
   "cell_type": "code",
   "execution_count": null,
   "metadata": {},
   "outputs": [],
   "source": []
  }
 ],
 "metadata": {
  "kernelspec": {
   "display_name": "Python 3",
   "language": "python",
   "name": "python3"
  },
  "language_info": {
   "codemirror_mode": {
    "name": "ipython",
    "version": 3
   },
   "file_extension": ".py",
   "mimetype": "text/x-python",
   "name": "python",
   "nbconvert_exporter": "python",
   "pygments_lexer": "ipython3",
   "version": "3.7.7"
  },
  "nbsphinx": {
   "timeout": 600
  },
  "toc": {
   "base_numbering": 1,
   "nav_menu": {},
   "number_sections": true,
   "sideBar": true,
   "skip_h1_title": false,
   "title_cell": "Table of Contents",
   "title_sidebar": "Contents",
   "toc_cell": false,
   "toc_position": {},
   "toc_section_display": true,
   "toc_window_display": false
  },
  "varInspector": {
   "cols": {
    "lenName": 16,
    "lenType": 16,
    "lenVar": 40
   },
   "kernels_config": {
    "python": {
     "delete_cmd_postfix": "",
     "delete_cmd_prefix": "del ",
     "library": "var_list.py",
     "varRefreshCmd": "print(var_dic_list())"
    },
    "r": {
     "delete_cmd_postfix": ") ",
     "delete_cmd_prefix": "rm(",
     "library": "var_list.r",
     "varRefreshCmd": "cat(var_dic_list()) "
    }
   },
   "types_to_exclude": [
    "module",
    "function",
    "builtin_function_or_method",
    "instance",
    "_Feature"
   ],
   "window_display": false
  }
 },
 "nbformat": 4,
 "nbformat_minor": 2
}
