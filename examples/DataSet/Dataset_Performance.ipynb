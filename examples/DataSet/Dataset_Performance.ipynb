{
 "cells": [
  {
   "cell_type": "markdown",
   "metadata": {},
   "source": [
    "# DataSet Performance\n",
    "\n",
    "This notebook shows the trade-off between inserting data into a database row-by-row and as binary blobs. Inserting the data row-by-row means that we have direct access to all the data and may perform queries directly on the values of the data. On the other hand, as we shall see, this is much slower than inserting the data directly as binary blobs."
   ]
  },
  {
   "cell_type": "markdown",
   "metadata": {},
   "source": [
    "First, we choose a new location for the database to ensure that we don't add a bunch of benchmarking data to the default one."
   ]
  },
  {
   "cell_type": "code",
   "execution_count": 1,
   "metadata": {
    "execution": {
     "iopub.execute_input": "2021-05-14T06:22:41.871638Z",
     "iopub.status.busy": "2021-05-14T06:22:41.871057Z",
     "iopub.status.idle": "2021-05-14T06:22:42.993659Z",
     "shell.execute_reply": "2021-05-14T06:22:42.992154Z"
    }
   },
   "outputs": [
    {
     "name": "stdout",
     "output_type": "stream",
     "text": [
      "Logging hadn't been started.\n",
      "Activating auto-logging. Current session state plus future input saved.\n",
      "Filename       : /home/runner/.qcodes/logs/command_history.log\n",
      "Mode           : append\n",
      "Output logging : True\n",
      "Raw input log  : False\n",
      "Timestamping   : True\n",
      "State          : active\n"
     ]
    },
    {
     "name": "stdout",
     "output_type": "stream",
     "text": [
      "Qcodes Logfile : /home/runner/.qcodes/logs/210514-4469-qcodes.log\n"
     ]
    }
   ],
   "source": [
    "import os\n",
    "cwd = os.getcwd()\n",
    "import qcodes as qc\n",
    "qc.config[\"core\"][\"db_location\"] = os.path.join(cwd, 'testing.db')\n"
   ]
  },
  {
   "cell_type": "code",
   "execution_count": 2,
   "metadata": {
    "execution": {
     "iopub.execute_input": "2021-05-14T06:22:43.000774Z",
     "iopub.status.busy": "2021-05-14T06:22:43.000215Z",
     "iopub.status.idle": "2021-05-14T06:22:43.192017Z",
     "shell.execute_reply": "2021-05-14T06:22:43.191519Z"
    }
   },
   "outputs": [],
   "source": [
    "%matplotlib inline\n",
    "import time\n",
    "import matplotlib.pyplot as plt\n",
    "import numpy as np\n",
    "\n",
    "import qcodes as qc\n",
    "from qcodes.instrument.parameter import ManualParameter\n",
    "from qcodes.dataset.experiment_container import (Experiment,\n",
    "                                                 load_last_experiment,\n",
    "                                                 new_experiment)\n",
    "from qcodes.dataset.sqlite.database import initialise_database\n",
    "from qcodes import load_or_create_experiment\n",
    "from qcodes.dataset.measurements import Measurement"
   ]
  },
  {
   "cell_type": "code",
   "execution_count": 3,
   "metadata": {
    "execution": {
     "iopub.execute_input": "2021-05-14T06:22:43.196011Z",
     "iopub.status.busy": "2021-05-14T06:22:43.195263Z",
     "iopub.status.idle": "2021-05-14T06:22:43.255520Z",
     "shell.execute_reply": "2021-05-14T06:22:43.255105Z"
    }
   },
   "outputs": [
    {
     "name": "stdout",
     "output_type": "stream",
     "text": [
      "\r",
      "0it [00:00, ?it/s]"
     ]
    },
    {
     "name": "stdout",
     "output_type": "stream",
     "text": [
      "\r",
      "Upgrading database; v0 -> v1: : 0it [00:00, ?it/s]"
     ]
    },
    {
     "name": "stdout",
     "output_type": "stream",
     "text": [
      "\r",
      "Upgrading database; v0 -> v1: : 0it [00:00, ?it/s]"
     ]
    },
    {
     "name": "stdout",
     "output_type": "stream",
     "text": [
      "\n",
      "\r",
      "  0%|          | 0/1 [00:00<?, ?it/s]"
     ]
    },
    {
     "name": "stdout",
     "output_type": "stream",
     "text": [
      "\r",
      "Upgrading database; v1 -> v2:   0%|          | 0/1 [00:00<?, ?it/s]"
     ]
    },
    {
     "name": "stdout",
     "output_type": "stream",
     "text": [
      "\r",
      "Upgrading database; v1 -> v2: 100%|██████████| 1/1 [00:00<00:00, 1223.19it/s]"
     ]
    },
    {
     "name": "stdout",
     "output_type": "stream",
     "text": [
      "\n",
      "\r",
      "0it [00:00, ?it/s]"
     ]
    },
    {
     "name": "stdout",
     "output_type": "stream",
     "text": [
      "\r",
      "Upgrading database; v2 -> v3: : 0it [00:00, ?it/s]"
     ]
    },
    {
     "name": "stdout",
     "output_type": "stream",
     "text": [
      "\r",
      "Upgrading database; v2 -> v3: : 0it [00:00, ?it/s]"
     ]
    },
    {
     "name": "stdout",
     "output_type": "stream",
     "text": [
      "\n",
      "\r",
      "0it [00:00, ?it/s]"
     ]
    },
    {
     "name": "stdout",
     "output_type": "stream",
     "text": [
      "\r",
      "Upgrading database; v3 -> v4: : 0it [00:00, ?it/s]"
     ]
    },
    {
     "name": "stdout",
     "output_type": "stream",
     "text": [
      "\r",
      "Upgrading database; v3 -> v4: : 0it [00:00, ?it/s]"
     ]
    },
    {
     "name": "stdout",
     "output_type": "stream",
     "text": [
      "\n",
      "\r",
      "  0%|          | 0/1 [00:00<?, ?it/s]"
     ]
    },
    {
     "name": "stdout",
     "output_type": "stream",
     "text": [
      "\r",
      "Upgrading database; v4 -> v5:   0%|          | 0/1 [00:00<?, ?it/s]"
     ]
    },
    {
     "name": "stdout",
     "output_type": "stream",
     "text": [
      "\r",
      "Upgrading database; v4 -> v5: 100%|██████████| 1/1 [00:00<00:00, 432.58it/s]"
     ]
    },
    {
     "name": "stdout",
     "output_type": "stream",
     "text": [
      "\n",
      "\r",
      "0it [00:00, ?it/s]"
     ]
    },
    {
     "name": "stdout",
     "output_type": "stream",
     "text": [
      "\r",
      "Upgrading database; v5 -> v6: : 0it [00:00, ?it/s]"
     ]
    },
    {
     "name": "stdout",
     "output_type": "stream",
     "text": [
      "\r",
      "Upgrading database; v5 -> v6: : 0it [00:00, ?it/s]"
     ]
    },
    {
     "name": "stdout",
     "output_type": "stream",
     "text": [
      "\n",
      "\r",
      "  0%|          | 0/1 [00:00<?, ?it/s]"
     ]
    },
    {
     "name": "stdout",
     "output_type": "stream",
     "text": [
      "\r",
      "Upgrading database; v6 -> v7:   0%|          | 0/1 [00:00<?, ?it/s]"
     ]
    },
    {
     "name": "stdout",
     "output_type": "stream",
     "text": [
      "\r",
      "Upgrading database; v6 -> v7: 100%|██████████| 1/1 [00:00<00:00, 459.95it/s]"
     ]
    },
    {
     "name": "stdout",
     "output_type": "stream",
     "text": [
      "\n",
      "\r",
      "  0%|          | 0/1 [00:00<?, ?it/s]"
     ]
    },
    {
     "name": "stdout",
     "output_type": "stream",
     "text": [
      "\r",
      "Upgrading database; v7 -> v8:   0%|          | 0/1 [00:00<?, ?it/s]"
     ]
    },
    {
     "name": "stdout",
     "output_type": "stream",
     "text": [
      "\r",
      "Upgrading database; v7 -> v8: 100%|██████████| 1/1 [00:00<00:00, 839.53it/s]"
     ]
    },
    {
     "name": "stdout",
     "output_type": "stream",
     "text": [
      "\n",
      "\r",
      "  0%|          | 0/1 [00:00<?, ?it/s]"
     ]
    },
    {
     "name": "stdout",
     "output_type": "stream",
     "text": [
      "\r",
      "Upgrading database; v8 -> v9:   0%|          | 0/1 [00:00<?, ?it/s]"
     ]
    },
    {
     "name": "stdout",
     "output_type": "stream",
     "text": [
      "\r",
      "Upgrading database; v8 -> v9: 100%|██████████| 1/1 [00:00<00:00, 970.90it/s]"
     ]
    },
    {
     "name": "stdout",
     "output_type": "stream",
     "text": [
      "\n"
     ]
    }
   ],
   "source": [
    "initialise_database()\n",
    "exp = load_or_create_experiment(experiment_name='tutorial_exp', sample_name=\"no sample\")"
   ]
  },
  {
   "cell_type": "markdown",
   "metadata": {},
   "source": [
    "Here, we define a simple function to benchmark the time it takes to insert n points with either numeric or array data type.\n",
    "We will compare both the time used to call ``add_result`` and the time used for the full measurement."
   ]
  },
  {
   "cell_type": "code",
   "execution_count": 4,
   "metadata": {
    "execution": {
     "iopub.execute_input": "2021-05-14T06:22:43.264263Z",
     "iopub.status.busy": "2021-05-14T06:22:43.262978Z",
     "iopub.status.idle": "2021-05-14T06:22:43.264920Z",
     "shell.execute_reply": "2021-05-14T06:22:43.265378Z"
    }
   },
   "outputs": [],
   "source": [
    "def insert_data(paramtype, npoints, nreps=1):\n",
    "\n",
    "    meas = Measurement(exp=exp)\n",
    "\n",
    "    x1 = ManualParameter('x1')\n",
    "    x2 = ManualParameter('x2')\n",
    "    x3 = ManualParameter('x3')\n",
    "    y1 = ManualParameter('y1')\n",
    "    y2 = ManualParameter('y2')\n",
    "\n",
    "    meas.register_parameter(x1, paramtype=paramtype)\n",
    "    meas.register_parameter(x2, paramtype=paramtype)\n",
    "    meas.register_parameter(x3, paramtype=paramtype)\n",
    "    meas.register_parameter(y1, setpoints=[x1, x2, x3],\n",
    "                            paramtype=paramtype)\n",
    "    meas.register_parameter(y2, setpoints=[x1, x2, x3],\n",
    "                            paramtype=paramtype)\n",
    "    start = time.perf_counter()\n",
    "    with meas.run() as datasaver:\n",
    "        start_adding = time.perf_counter()\n",
    "        for i in range(nreps):\n",
    "            datasaver.add_result((x1, np.random.rand(npoints)),\n",
    "                                 (x2, np.random.rand(npoints)),\n",
    "                                 (x3, np.random.rand(npoints)),\n",
    "                                 (y1, np.random.rand(npoints)),\n",
    "                                 (y2, np.random.rand(npoints)))\n",
    "        stop_adding = time.perf_counter()\n",
    "        run_id = datasaver.run_id\n",
    "    stop = time.perf_counter()\n",
    "    tot_time = stop - start\n",
    "    add_time = stop_adding - start_adding\n",
    "    return tot_time, add_time, run_id"
   ]
  },
  {
   "cell_type": "markdown",
   "metadata": {},
   "source": [
    "## Comparison between numeric/array data and binary blob"
   ]
  },
  {
   "cell_type": "markdown",
   "metadata": {},
   "source": [
    "### Case1: Short experiment time"
   ]
  },
  {
   "cell_type": "code",
   "execution_count": 5,
   "metadata": {
    "execution": {
     "iopub.execute_input": "2021-05-14T06:22:43.271252Z",
     "iopub.status.busy": "2021-05-14T06:22:43.269934Z",
     "iopub.status.idle": "2021-05-14T06:22:44.002678Z",
     "shell.execute_reply": "2021-05-14T06:22:44.002196Z"
    }
   },
   "outputs": [
    {
     "name": "stdout",
     "output_type": "stream",
     "text": [
      "Starting experimental run with id: 1. \n",
      "Starting experimental run with id: 2. \n",
      "Starting experimental run with id: 3. \n",
      "Starting experimental run with id: 4. \n",
      "Starting experimental run with id: 5. \n"
     ]
    },
    {
     "name": "stdout",
     "output_type": "stream",
     "text": [
      "Starting experimental run with id: 6. \n"
     ]
    },
    {
     "name": "stdout",
     "output_type": "stream",
     "text": [
      "Starting experimental run with id: 7. \n"
     ]
    },
    {
     "name": "stdout",
     "output_type": "stream",
     "text": [
      "Starting experimental run with id: 8. \n",
      "Starting experimental run with id: 9. \n"
     ]
    },
    {
     "name": "stdout",
     "output_type": "stream",
     "text": [
      "Starting experimental run with id: 10. \n"
     ]
    },
    {
     "name": "stdout",
     "output_type": "stream",
     "text": [
      "Starting experimental run with id: 11. \n"
     ]
    },
    {
     "name": "stdout",
     "output_type": "stream",
     "text": [
      "Starting experimental run with id: 12. \n",
      "Starting experimental run with id: 13. \n"
     ]
    },
    {
     "name": "stdout",
     "output_type": "stream",
     "text": [
      "Starting experimental run with id: 14. \n"
     ]
    }
   ],
   "source": [
    "sizes = [1,500,1000,2000,3000,4000,5000]\n",
    "t_numeric = []\n",
    "t_numeric_add = []\n",
    "t_array = []\n",
    "t_array_add = []\n",
    "for size in sizes:\n",
    "    tn, tna, run_id_n =  insert_data('numeric', size)\n",
    "    t_numeric.append(tn)\n",
    "    t_numeric_add.append(tna)\n",
    "\n",
    "    ta, taa, run_id_a =  insert_data('array', size)\n",
    "    t_array.append(ta)\n",
    "    t_array_add.append(taa)"
   ]
  },
  {
   "cell_type": "code",
   "execution_count": 6,
   "metadata": {
    "execution": {
     "iopub.execute_input": "2021-05-14T06:22:44.024827Z",
     "iopub.status.busy": "2021-05-14T06:22:44.020672Z",
     "iopub.status.idle": "2021-05-14T06:22:44.226494Z",
     "shell.execute_reply": "2021-05-14T06:22:44.225642Z"
    }
   },
   "outputs": [
    {
     "data": {
      "image/png": "[encoded data removed]",
      "text/plain": [
       "<Figure size 432x288 with 1 Axes>"
      ]
     },
     "metadata": {
      "needs_background": "light"
     },
     "output_type": "display_data"
    }
   ],
   "source": [
    "fig, ax = plt.subplots(1,1)\n",
    "ax.plot(sizes, t_numeric, 'o-', label='Inserting row-by-row')\n",
    "ax.plot(sizes, t_numeric_add, 'o-', label='Inserting row-by-row: add_result only')\n",
    "ax.plot(sizes, t_array, 'd-', label='Inserting as binary blob')\n",
    "ax.plot(sizes, t_array_add, 'd-', label='Inserting as binary blob: add_result only')\n",
    "ax.legend()\n",
    "ax.set_xlabel('Array length')\n",
    "ax.set_ylabel('Time (s)')\n",
    "fig.tight_layout()"
   ]
  },
  {
   "cell_type": "markdown",
   "metadata": {},
   "source": [
    "As shown in the latter figure, the time to setup and and close the experiment is approximately 0.4 sec. In case of small array sizes, the difference between inserting values of data as arrays and inserting them row-by-row is relatively unimportant. At larger array sizes, i.e. above 10000 points, the cost of writing data as individual datapoints starts to become important.\n"
   ]
  },
  {
   "cell_type": "markdown",
   "metadata": {},
   "source": [
    "### Case2: Long experiment time "
   ]
  },
  {
   "cell_type": "code",
   "execution_count": 7,
   "metadata": {
    "execution": {
     "iopub.execute_input": "2021-05-14T06:22:44.233619Z",
     "iopub.status.busy": "2021-05-14T06:22:44.232454Z",
     "iopub.status.idle": "2021-05-14T06:23:35.475644Z",
     "shell.execute_reply": "2021-05-14T06:23:35.476337Z"
    }
   },
   "outputs": [
    {
     "name": "stdout",
     "output_type": "stream",
     "text": [
      "Starting experimental run with id: 15. \n",
      "Starting experimental run with id: 16. \n",
      "Starting experimental run with id: 17. \n"
     ]
    },
    {
     "name": "stdout",
     "output_type": "stream",
     "text": [
      "Starting experimental run with id: 18. \n",
      "Starting experimental run with id: 19. \n"
     ]
    },
    {
     "name": "stdout",
     "output_type": "stream",
     "text": [
      "Starting experimental run with id: 20. \n"
     ]
    },
    {
     "name": "stdout",
     "output_type": "stream",
     "text": [
      "Starting experimental run with id: 21. \n"
     ]
    },
    {
     "name": "stdout",
     "output_type": "stream",
     "text": [
      "Starting experimental run with id: 22. \n"
     ]
    },
    {
     "name": "stdout",
     "output_type": "stream",
     "text": [
      "Starting experimental run with id: 23. \n"
     ]
    },
    {
     "name": "stdout",
     "output_type": "stream",
     "text": [
      "Starting experimental run with id: 24. \n"
     ]
    },
    {
     "name": "stdout",
     "output_type": "stream",
     "text": [
      "Starting experimental run with id: 25. \n"
     ]
    },
    {
     "name": "stdout",
     "output_type": "stream",
     "text": [
      "Starting experimental run with id: 26. \n"
     ]
    },
    {
     "name": "stdout",
     "output_type": "stream",
     "text": [
      "Starting experimental run with id: 27. \n"
     ]
    },
    {
     "name": "stdout",
     "output_type": "stream",
     "text": [
      "Starting experimental run with id: 28. \n"
     ]
    }
   ],
   "source": [
    "sizes = [1,500,1000,2000,3000,4000,5000]\n",
    "nreps = 100\n",
    "t_numeric = []\n",
    "t_numeric_add = []\n",
    "t_numeric_run_ids = []\n",
    "t_array = []\n",
    "t_array_add = []\n",
    "t_array_run_ids = []\n",
    "for size in sizes:\n",
    "    tn, tna, run_id_n =  insert_data('numeric', size, nreps=nreps)\n",
    "    t_numeric.append(tn)\n",
    "    t_numeric_add.append(tna)\n",
    "    t_numeric_run_ids.append(run_id_n)\n",
    "\n",
    "    ta, taa, run_id_a =  insert_data('array', size, nreps=nreps)\n",
    "    t_array.append(ta)\n",
    "    t_array_add.append(taa)\n",
    "    t_array_run_ids.append(run_id_a)"
   ]
  },
  {
   "cell_type": "code",
   "execution_count": 8,
   "metadata": {
    "execution": {
     "iopub.execute_input": "2021-05-14T06:23:35.515541Z",
     "iopub.status.busy": "2021-05-14T06:23:35.502179Z",
     "iopub.status.idle": "2021-05-14T06:23:35.683143Z",
     "shell.execute_reply": "2021-05-14T06:23:35.682605Z"
    },
    "scrolled": true
   },
   "outputs": [
    {
     "data": {
      "image/png": "[encoded data removed]",
      "text/plain": [
       "<Figure size 432x288 with 1 Axes>"
      ]
     },
     "metadata": {
      "needs_background": "light"
     },
     "output_type": "display_data"
    }
   ],
   "source": [
    "fig, ax = plt.subplots(1,1)\n",
    "ax.plot(sizes, t_numeric, 'o-', label='Inserting row-by-row')\n",
    "ax.plot(sizes, t_numeric_add, 'o-', label='Inserting row-by-row: add_result only')\n",
    "ax.plot(sizes, t_array, 'd-', label='Inserting as binary blob')\n",
    "ax.plot(sizes, t_array_add, 'd-', label='Inserting as binary blob: add_result only')\n",
    "ax.legend()\n",
    "ax.set_xlabel('Array length')\n",
    "ax.set_ylabel('Time (s)')\n",
    "fig.tight_layout()"
   ]
  },
  {
   "cell_type": "markdown",
   "metadata": {},
   "source": [
    "However, as we increase the length of the experiment, as seen here by repeating the insertion 100 times, we see a big difference between inserting values of the data row-by-row and inserting it as a binary blob."
   ]
  },
  {
   "cell_type": "markdown",
   "metadata": {},
   "source": [
    "## Loading the data "
   ]
  },
  {
   "cell_type": "code",
   "execution_count": 9,
   "metadata": {
    "execution": {
     "iopub.execute_input": "2021-05-14T06:23:35.687467Z",
     "iopub.status.busy": "2021-05-14T06:23:35.686870Z",
     "iopub.status.idle": "2021-05-14T06:23:35.690985Z",
     "shell.execute_reply": "2021-05-14T06:23:35.690511Z"
    }
   },
   "outputs": [],
   "source": [
    "from qcodes.dataset.data_set import load_by_id"
   ]
  },
  {
   "cell_type": "markdown",
   "metadata": {},
   "source": [
    "As usual you can load the data by using the ``load_by_id`` function but you will notice that the different storage methods\n",
    "are reflected in shape of the data as it is retrieved. "
   ]
  },
  {
   "cell_type": "code",
   "execution_count": 10,
   "metadata": {
    "execution": {
     "iopub.execute_input": "2021-05-14T06:23:35.694612Z",
     "iopub.status.busy": "2021-05-14T06:23:35.694035Z",
     "iopub.status.idle": "2021-05-14T06:23:35.696583Z",
     "shell.execute_reply": "2021-05-14T06:23:35.696086Z"
    }
   },
   "outputs": [],
   "source": [
    "run_id_n = t_numeric_run_ids[0]\n",
    "run_id_a = t_array_run_ids[0]"
   ]
  },
  {
   "cell_type": "code",
   "execution_count": 11,
   "metadata": {
    "execution": {
     "iopub.execute_input": "2021-05-14T06:23:35.699754Z",
     "iopub.status.busy": "2021-05-14T06:23:35.699200Z",
     "iopub.status.idle": "2021-05-14T06:23:35.708509Z",
     "shell.execute_reply": "2021-05-14T06:23:35.708993Z"
    },
    "scrolled": true
   },
   "outputs": [
    {
     "data": {
      "text/plain": [
       "{'x1': {'x1': array([0.22925701, 0.22925701, 0.04644761, 0.04644761, 0.33546363,\n",
       "         0.33546363, 0.23382923, 0.23382923, 0.13844169, 0.13844169,\n",
       "         0.83951784, 0.83951784, 0.54821217, 0.54821217, 0.70101823,\n",
       "         0.70101823, 0.86226837, 0.86226837, 0.54114897, 0.54114897,\n",
       "         0.46354109, 0.46354109, 0.64927256, 0.64927256, 0.24074298,\n",
       "         0.24074298, 0.82009272, 0.82009272, 0.21194452, 0.21194452,\n",
       "         0.51179986, 0.51179986, 0.7871763 , 0.7871763 , 0.66626305,\n",
       "         0.66626305, 0.55187462, 0.55187462, 0.54515749, 0.54515749,\n",
       "         0.68481008, 0.68481008, 0.62704267, 0.62704267, 0.20729647,\n",
       "         0.20729647, 0.00473333, 0.00473333, 0.61342786, 0.61342786,\n",
       "         0.49286377, 0.49286377, 0.04463689, 0.04463689, 0.48637076,\n",
       "         0.48637076, 0.15010383, 0.15010383, 0.31728085, 0.31728085,\n",
       "         0.78628858, 0.78628858, 0.30625877, 0.30625877, 0.57107555,\n",
       "         0.57107555, 0.06497514, 0.06497514, 0.25258535, 0.25258535,\n",
       "         0.669092  , 0.669092  , 0.38094119, 0.38094119, 0.48475565,\n",
       "         0.48475565, 0.53220286, 0.53220286, 0.26478188, 0.26478188,\n",
       "         0.2247495 , 0.2247495 , 0.41521678, 0.41521678, 0.360618  ,\n",
       "         0.360618  , 0.79342578, 0.79342578, 0.39510925, 0.39510925,\n",
       "         0.33160755, 0.33160755, 0.15621008, 0.15621008, 0.08042426,\n",
       "         0.08042426, 0.87388505, 0.87388505, 0.30710835, 0.30710835,\n",
       "         0.19952179, 0.19952179, 0.53556305, 0.53556305, 0.40958453,\n",
       "         0.40958453, 0.10406971, 0.10406971, 0.79775178, 0.79775178,\n",
       "         0.05820193, 0.05820193, 0.71204907, 0.71204907, 0.80953483,\n",
       "         0.80953483, 0.01883706, 0.01883706, 0.71787978, 0.71787978,\n",
       "         0.23895208, 0.23895208, 0.87608791, 0.87608791, 0.29173604,\n",
       "         0.29173604, 0.71163368, 0.71163368, 0.44202571, 0.44202571,\n",
       "         0.39635463, 0.39635463, 0.0446794 , 0.0446794 , 0.51168142,\n",
       "         0.51168142, 0.95271937, 0.95271937, 0.39310769, 0.39310769,\n",
       "         0.39736839, 0.39736839, 0.47240175, 0.47240175, 0.70082586,\n",
       "         0.70082586, 0.47831374, 0.47831374, 0.27281492, 0.27281492,\n",
       "         0.64499716, 0.64499716, 0.49121493, 0.49121493, 0.15859187,\n",
       "         0.15859187, 0.96415557, 0.96415557, 0.33701219, 0.33701219,\n",
       "         0.75056448, 0.75056448, 0.43481399, 0.43481399, 0.84078519,\n",
       "         0.84078519, 0.29434468, 0.29434468, 0.35896301, 0.35896301,\n",
       "         0.06655094, 0.06655094, 0.33020548, 0.33020548, 0.71210362,\n",
       "         0.71210362, 0.79280963, 0.79280963, 0.11842335, 0.11842335,\n",
       "         0.45675655, 0.45675655, 0.42908059, 0.42908059, 0.71507813,\n",
       "         0.71507813, 0.84604683, 0.84604683, 0.72762191, 0.72762191,\n",
       "         0.58244643, 0.58244643, 0.39726678, 0.39726678, 0.83357636,\n",
       "         0.83357636, 0.6060857 , 0.6060857 , 0.37492163, 0.37492163])}}"
      ]
     },
     "execution_count": 1,
     "metadata": {},
     "output_type": "execute_result"
    }
   ],
   "source": [
    "ds = load_by_id(run_id_n)\n",
    "ds.get_parameter_data('x1')"
   ]
  },
  {
   "cell_type": "markdown",
   "metadata": {},
   "source": [
    "And a dataset stored as binary arrays"
   ]
  },
  {
   "cell_type": "code",
   "execution_count": 12,
   "metadata": {
    "execution": {
     "iopub.execute_input": "2021-05-14T06:23:35.712365Z",
     "iopub.status.busy": "2021-05-14T06:23:35.711839Z",
     "iopub.status.idle": "2021-05-14T06:23:35.764934Z",
     "shell.execute_reply": "2021-05-14T06:23:35.765788Z"
    },
    "scrolled": true
   },
   "outputs": [
    {
     "data": {
      "text/plain": [
       "{'x1': {'x1': array([[0.67732148],\n",
       "         [0.67732148],\n",
       "         [0.71907916],\n",
       "         [0.71907916],\n",
       "         [0.96218815],\n",
       "         [0.96218815],\n",
       "         [0.84988317],\n",
       "         [0.84988317],\n",
       "         [0.06010052],\n",
       "         [0.06010052],\n",
       "         [0.67720119],\n",
       "         [0.67720119],\n",
       "         [0.55790038],\n",
       "         [0.55790038],\n",
       "         [0.12362557],\n",
       "         [0.12362557],\n",
       "         [0.10674333],\n",
       "         [0.10674333],\n",
       "         [0.9392933 ],\n",
       "         [0.9392933 ],\n",
       "         [0.99342732],\n",
       "         [0.99342732],\n",
       "         [0.87690914],\n",
       "         [0.87690914],\n",
       "         [0.571918  ],\n",
       "         [0.571918  ],\n",
       "         [0.32879181],\n",
       "         [0.32879181],\n",
       "         [0.65542262],\n",
       "         [0.65542262],\n",
       "         [0.3328473 ],\n",
       "         [0.3328473 ],\n",
       "         [0.08719961],\n",
       "         [0.08719961],\n",
       "         [0.63615729],\n",
       "         [0.63615729],\n",
       "         [0.31839529],\n",
       "         [0.31839529],\n",
       "         [0.37868684],\n",
       "         [0.37868684],\n",
       "         [0.40143673],\n",
       "         [0.40143673],\n",
       "         [0.4804755 ],\n",
       "         [0.4804755 ],\n",
       "         [0.05748197],\n",
       "         [0.05748197],\n",
       "         [0.45343121],\n",
       "         [0.45343121],\n",
       "         [0.24082782],\n",
       "         [0.24082782],\n",
       "         [0.75879049],\n",
       "         [0.75879049],\n",
       "         [0.72696555],\n",
       "         [0.72696555],\n",
       "         [0.6285556 ],\n",
       "         [0.6285556 ],\n",
       "         [0.12246259],\n",
       "         [0.12246259],\n",
       "         [0.42815543],\n",
       "         [0.42815543],\n",
       "         [0.57536936],\n",
       "         [0.57536936],\n",
       "         [0.8189727 ],\n",
       "         [0.8189727 ],\n",
       "         [0.74791034],\n",
       "         [0.74791034],\n",
       "         [0.98682748],\n",
       "         [0.98682748],\n",
       "         [0.17191166],\n",
       "         [0.17191166],\n",
       "         [0.40457634],\n",
       "         [0.40457634],\n",
       "         [0.19820147],\n",
       "         [0.19820147],\n",
       "         [0.35756086],\n",
       "         [0.35756086],\n",
       "         [0.02297674],\n",
       "         [0.02297674],\n",
       "         [0.54191614],\n",
       "         [0.54191614],\n",
       "         [0.64494407],\n",
       "         [0.64494407],\n",
       "         [0.07108562],\n",
       "         [0.07108562],\n",
       "         [0.48304286],\n",
       "         [0.48304286],\n",
       "         [0.23505795],\n",
       "         [0.23505795],\n",
       "         [0.96272384],\n",
       "         [0.96272384],\n",
       "         [0.69953764],\n",
       "         [0.69953764],\n",
       "         [0.91799918],\n",
       "         [0.91799918],\n",
       "         [0.66591768],\n",
       "         [0.66591768],\n",
       "         [0.52768023],\n",
       "         [0.52768023],\n",
       "         [0.13445025],\n",
       "         [0.13445025],\n",
       "         [0.40189646],\n",
       "         [0.40189646],\n",
       "         [0.29492247],\n",
       "         [0.29492247],\n",
       "         [0.45634841],\n",
       "         [0.45634841],\n",
       "         [0.80960128],\n",
       "         [0.80960128],\n",
       "         [0.7929062 ],\n",
       "         [0.7929062 ],\n",
       "         [0.44445452],\n",
       "         [0.44445452],\n",
       "         [0.45489809],\n",
       "         [0.45489809],\n",
       "         [0.26873931],\n",
       "         [0.26873931],\n",
       "         [0.08895678],\n",
       "         [0.08895678],\n",
       "         [0.64411406],\n",
       "         [0.64411406],\n",
       "         [0.55045526],\n",
       "         [0.55045526],\n",
       "         [0.26813464],\n",
       "         [0.26813464],\n",
       "         [0.58635163],\n",
       "         [0.58635163],\n",
       "         [0.88255175],\n",
       "         [0.88255175],\n",
       "         [0.31448053],\n",
       "         [0.31448053],\n",
       "         [0.77170629],\n",
       "         [0.77170629],\n",
       "         [0.17539819],\n",
       "         [0.17539819],\n",
       "         [0.27028933],\n",
       "         [0.27028933],\n",
       "         [0.03851496],\n",
       "         [0.03851496],\n",
       "         [0.03061628],\n",
       "         [0.03061628],\n",
       "         [0.26608765],\n",
       "         [0.26608765],\n",
       "         [0.98422653],\n",
       "         [0.98422653],\n",
       "         [0.05256922],\n",
       "         [0.05256922],\n",
       "         [0.32193482],\n",
       "         [0.32193482],\n",
       "         [0.23019853],\n",
       "         [0.23019853],\n",
       "         [0.9001119 ],\n",
       "         [0.9001119 ],\n",
       "         [0.54560848],\n",
       "         [0.54560848],\n",
       "         [0.64503009],\n",
       "         [0.64503009],\n",
       "         [0.93469203],\n",
       "         [0.93469203],\n",
       "         [0.33509233],\n",
       "         [0.33509233],\n",
       "         [0.8949365 ],\n",
       "         [0.8949365 ],\n",
       "         [0.16425302],\n",
       "         [0.16425302],\n",
       "         [0.63048577],\n",
       "         [0.63048577],\n",
       "         [0.47810969],\n",
       "         [0.47810969],\n",
       "         [0.66849283],\n",
       "         [0.66849283],\n",
       "         [0.01767121],\n",
       "         [0.01767121],\n",
       "         [0.02353878],\n",
       "         [0.02353878],\n",
       "         [0.6803558 ],\n",
       "         [0.6803558 ],\n",
       "         [0.70985173],\n",
       "         [0.70985173],\n",
       "         [0.18522266],\n",
       "         [0.18522266],\n",
       "         [0.19392323],\n",
       "         [0.19392323],\n",
       "         [0.47537308],\n",
       "         [0.47537308],\n",
       "         [0.75944029],\n",
       "         [0.75944029],\n",
       "         [0.62075721],\n",
       "         [0.62075721],\n",
       "         [0.00154547],\n",
       "         [0.00154547],\n",
       "         [0.6288993 ],\n",
       "         [0.6288993 ],\n",
       "         [0.08695729],\n",
       "         [0.08695729],\n",
       "         [0.2951213 ],\n",
       "         [0.2951213 ],\n",
       "         [0.30992769],\n",
       "         [0.30992769],\n",
       "         [0.78705611],\n",
       "         [0.78705611]])}}"
      ]
     },
     "execution_count": 1,
     "metadata": {},
     "output_type": "execute_result"
    }
   ],
   "source": [
    "ds = load_by_id(run_id_a)\n",
    "ds.get_parameter_data('x1')"
   ]
  },
  {
   "cell_type": "code",
   "execution_count": null,
   "metadata": {},
   "outputs": [],
   "source": []
  }
 ],
 "metadata": {
  "kernelspec": {
   "display_name": "Python 3",
   "language": "python",
   "name": "python3"
  },
  "language_info": {
   "codemirror_mode": {
    "name": "ipython",
    "version": 3
   },
   "file_extension": ".py",
   "mimetype": "text/x-python",
   "name": "python",
   "nbconvert_exporter": "python",
   "pygments_lexer": "ipython3",
   "version": "3.7.10"
  },
  "nbsphinx": {
   "timeout": 600
  },
  "toc": {
   "base_numbering": 1,
   "nav_menu": {},
   "number_sections": true,
   "sideBar": true,
   "skip_h1_title": false,
   "title_cell": "Table of Contents",
   "title_sidebar": "Contents",
   "toc_cell": false,
   "toc_position": {},
   "toc_section_display": true,
   "toc_window_display": false
  },
  "varInspector": {
   "cols": {
    "lenName": 16,
    "lenType": 16,
    "lenVar": 40
   },
   "kernels_config": {
    "python": {
     "delete_cmd_postfix": "",
     "delete_cmd_prefix": "del ",
     "library": "var_list.py",
     "varRefreshCmd": "print(var_dic_list())"
    },
    "r": {
     "delete_cmd_postfix": ") ",
     "delete_cmd_prefix": "rm(",
     "library": "var_list.r",
     "varRefreshCmd": "cat(var_dic_list()) "
    }
   },
   "types_to_exclude": [
    "module",
    "function",
    "builtin_function_or_method",
    "instance",
    "_Feature"
   ],
   "window_display": false
  }
 },
 "nbformat": 4,
 "nbformat_minor": 4
}
