{
 "cells": [
  {
   "cell_type": "markdown",
   "metadata": {},
   "source": [
    "# DataSet Performance\n",
    "\n",
    "This notebook shows the trade-off between inserting data into a database row-by-row and as binary blobs. Inserting the data row-by-row means that we have direct access to all the data and may perform queries directly on the values of the data. On the other hand, as we shall see, this is much slower than inserting the data directly as binary blobs."
   ]
  },
  {
   "cell_type": "markdown",
   "metadata": {},
   "source": [
    "First, we choose a new location for the database to ensure that we don't add a bunch of benchmarking data to the default one."
   ]
  },
  {
   "cell_type": "code",
   "execution_count": 1,
   "metadata": {},
   "outputs": [
    {
     "name": "stdout",
     "output_type": "stream",
     "text": [
      "Logging hadn't been started.\n",
      "Activating auto-logging. Current session state plus future input saved.\n",
      "Filename       : /home/vsts/.qcodes/logs/command_history.log\n",
      "Mode           : append\n",
      "Output logging : True\n",
      "Raw input log  : False\n",
      "Timestamping   : True\n",
      "State          : active\n"
     ]
    },
    {
     "name": "stdout",
     "output_type": "stream",
     "text": [
      "Qcodes Logfile : /home/vsts/.qcodes/logs/200814-18630-qcodes.log\n"
     ]
    }
   ],
   "source": [
    "import os\n",
    "cwd = os.getcwd()\n",
    "import qcodes as qc\n",
    "qc.config[\"core\"][\"db_location\"] = os.path.join(cwd, 'testing.db')\n"
   ]
  },
  {
   "cell_type": "code",
   "execution_count": 2,
   "metadata": {},
   "outputs": [],
   "source": [
    "%matplotlib inline\n",
    "import time\n",
    "import matplotlib.pyplot as plt\n",
    "import numpy as np\n",
    "\n",
    "import qcodes as qc\n",
    "from qcodes.instrument.parameter import ManualParameter\n",
    "from qcodes.dataset.experiment_container import (Experiment,\n",
    "                                                 load_last_experiment,\n",
    "                                                 new_experiment)\n",
    "from qcodes.dataset.sqlite.database import initialise_database\n",
    "from qcodes import load_or_create_experiment\n",
    "from qcodes.dataset.measurements import Measurement"
   ]
  },
  {
   "cell_type": "code",
   "execution_count": 3,
   "metadata": {},
   "outputs": [
    {
     "name": "stdout",
     "output_type": "stream",
     "text": [
      "\r",
      "0it [00:00, ?it/s]"
     ]
    },
    {
     "name": "stdout",
     "output_type": "stream",
     "text": [
      "\r",
      "Upgrading database; v0 -> v1: : 0it [00:00, ?it/s]"
     ]
    },
    {
     "name": "stdout",
     "output_type": "stream",
     "text": [
      "\r",
      "Upgrading database; v0 -> v1: : 0it [00:00, ?it/s]"
     ]
    },
    {
     "name": "stdout",
     "output_type": "stream",
     "text": [
      "\n",
      "\r",
      "  0%|          | 0/1 [00:00<?, ?it/s]"
     ]
    },
    {
     "name": "stdout",
     "output_type": "stream",
     "text": [
      "\r",
      "Upgrading database; v1 -> v2:   0%|          | 0/1 [00:00<?, ?it/s]"
     ]
    },
    {
     "name": "stdout",
     "output_type": "stream",
     "text": [
      "\r",
      "Upgrading database; v1 -> v2: 100%|██████████| 1/1 [00:00<00:00, 836.35it/s]"
     ]
    },
    {
     "name": "stdout",
     "output_type": "stream",
     "text": [
      "\n",
      "\r",
      "0it [00:00, ?it/s]"
     ]
    },
    {
     "name": "stdout",
     "output_type": "stream",
     "text": [
      "\r",
      "Upgrading database; v2 -> v3: : 0it [00:00, ?it/s]"
     ]
    },
    {
     "name": "stdout",
     "output_type": "stream",
     "text": [
      "\r",
      "Upgrading database; v2 -> v3: : 0it [00:00, ?it/s]"
     ]
    },
    {
     "name": "stdout",
     "output_type": "stream",
     "text": [
      "\n",
      "\r",
      "0it [00:00, ?it/s]"
     ]
    },
    {
     "name": "stdout",
     "output_type": "stream",
     "text": [
      "\r",
      "Upgrading database; v3 -> v4: : 0it [00:00, ?it/s]"
     ]
    },
    {
     "name": "stdout",
     "output_type": "stream",
     "text": [
      "\r",
      "Upgrading database; v3 -> v4: : 0it [00:00, ?it/s]"
     ]
    },
    {
     "name": "stdout",
     "output_type": "stream",
     "text": [
      "\n",
      "\r",
      "  0%|          | 0/1 [00:00<?, ?it/s]"
     ]
    },
    {
     "name": "stdout",
     "output_type": "stream",
     "text": [
      "\r",
      "Upgrading database; v4 -> v5:   0%|          | 0/1 [00:00<?, ?it/s]"
     ]
    },
    {
     "name": "stdout",
     "output_type": "stream",
     "text": [
      "\r",
      "Upgrading database; v4 -> v5: 100%|██████████| 1/1 [00:00<00:00, 663.45it/s]"
     ]
    },
    {
     "name": "stdout",
     "output_type": "stream",
     "text": [
      "\n",
      "\r",
      "0it [00:00, ?it/s]"
     ]
    },
    {
     "name": "stdout",
     "output_type": "stream",
     "text": [
      "\r",
      "Upgrading database; v5 -> v6: : 0it [00:00, ?it/s]"
     ]
    },
    {
     "name": "stdout",
     "output_type": "stream",
     "text": [
      "\r",
      "Upgrading database; v5 -> v6: : 0it [00:00, ?it/s]"
     ]
    },
    {
     "name": "stdout",
     "output_type": "stream",
     "text": [
      "\n",
      "\r",
      "  0%|          | 0/1 [00:00<?, ?it/s]"
     ]
    },
    {
     "name": "stdout",
     "output_type": "stream",
     "text": [
      "\r",
      "Upgrading database; v6 -> v7:   0%|          | 0/1 [00:00<?, ?it/s]"
     ]
    },
    {
     "name": "stdout",
     "output_type": "stream",
     "text": [
      "\r",
      "Upgrading database; v6 -> v7: 100%|██████████| 1/1 [00:00<00:00, 414.13it/s]"
     ]
    },
    {
     "name": "stdout",
     "output_type": "stream",
     "text": [
      "\n",
      "\r",
      "  0%|          | 0/1 [00:00<?, ?it/s]"
     ]
    },
    {
     "name": "stdout",
     "output_type": "stream",
     "text": [
      "\r",
      "Upgrading database; v7 -> v8:   0%|          | 0/1 [00:00<?, ?it/s]"
     ]
    },
    {
     "name": "stdout",
     "output_type": "stream",
     "text": [
      "\r",
      "Upgrading database; v7 -> v8: 100%|██████████| 1/1 [00:00<00:00, 688.04it/s]"
     ]
    },
    {
     "name": "stdout",
     "output_type": "stream",
     "text": [
      "\n",
      "\r",
      "  0%|          | 0/1 [00:00<?, ?it/s]"
     ]
    },
    {
     "name": "stdout",
     "output_type": "stream",
     "text": [
      "\r",
      "Upgrading database; v8 -> v9:   0%|          | 0/1 [00:00<?, ?it/s]"
     ]
    },
    {
     "name": "stdout",
     "output_type": "stream",
     "text": [
      "\r",
      "Upgrading database; v8 -> v9: 100%|██████████| 1/1 [00:00<00:00, 758.19it/s]"
     ]
    },
    {
     "name": "stdout",
     "output_type": "stream",
     "text": [
      "\n"
     ]
    }
   ],
   "source": [
    "initialise_database()\n",
    "exp = load_or_create_experiment(experiment_name='tutorial_exp', sample_name=\"no sample\")"
   ]
  },
  {
   "cell_type": "markdown",
   "metadata": {},
   "source": [
    "Here, we define a simple function to benchmark the time it takes to insert n points with either numeric or array data type.\n",
    "We will compare both the time used to call ``add_result`` and the time used for the full measurement."
   ]
  },
  {
   "cell_type": "code",
   "execution_count": 4,
   "metadata": {},
   "outputs": [],
   "source": [
    "def insert_data(paramtype, npoints, nreps=1):\n",
    "\n",
    "    meas = Measurement(exp=exp)\n",
    "\n",
    "    x1 = ManualParameter('x1')\n",
    "    x2 = ManualParameter('x2')\n",
    "    x3 = ManualParameter('x3')\n",
    "    y1 = ManualParameter('y1')\n",
    "    y2 = ManualParameter('y2')\n",
    "\n",
    "    meas.register_parameter(x1, paramtype=paramtype)\n",
    "    meas.register_parameter(x2, paramtype=paramtype)\n",
    "    meas.register_parameter(x3, paramtype=paramtype)\n",
    "    meas.register_parameter(y1, setpoints=[x1, x2, x3],\n",
    "                            paramtype=paramtype)\n",
    "    meas.register_parameter(y2, setpoints=[x1, x2, x3],\n",
    "                            paramtype=paramtype)\n",
    "    start = time.perf_counter()\n",
    "    with meas.run() as datasaver:\n",
    "        start_adding = time.perf_counter()\n",
    "        for i in range(nreps):\n",
    "            datasaver.add_result((x1, np.random.rand(npoints)),\n",
    "                                 (x2, np.random.rand(npoints)),\n",
    "                                 (x3, np.random.rand(npoints)),\n",
    "                                 (y1, np.random.rand(npoints)),\n",
    "                                 (y2, np.random.rand(npoints)))\n",
    "        stop_adding = time.perf_counter()\n",
    "        run_id = datasaver.run_id\n",
    "    stop = time.perf_counter()\n",
    "    tot_time = stop - start\n",
    "    add_time = stop_adding - start_adding\n",
    "    return tot_time, add_time, run_id"
   ]
  },
  {
   "cell_type": "markdown",
   "metadata": {},
   "source": [
    "## Comparison between numeric/array data and binary blob"
   ]
  },
  {
   "cell_type": "markdown",
   "metadata": {},
   "source": [
    "### Case1: Short experiment time"
   ]
  },
  {
   "cell_type": "code",
   "execution_count": 5,
   "metadata": {},
   "outputs": [
    {
     "name": "stdout",
     "output_type": "stream",
     "text": [
      "Starting experimental run with id: 1. \n",
      "Starting experimental run with id: 2. \n",
      "Starting experimental run with id: 3. \n"
     ]
    },
    {
     "name": "stdout",
     "output_type": "stream",
     "text": [
      "Starting experimental run with id: 4. \n"
     ]
    },
    {
     "name": "stdout",
     "output_type": "stream",
     "text": [
      "Starting experimental run with id: 5. \n"
     ]
    },
    {
     "name": "stdout",
     "output_type": "stream",
     "text": [
      "Starting experimental run with id: 6. \n",
      "Starting experimental run with id: 7. \n"
     ]
    },
    {
     "name": "stdout",
     "output_type": "stream",
     "text": [
      "Starting experimental run with id: 8. \n",
      "Starting experimental run with id: 9. \n"
     ]
    },
    {
     "name": "stdout",
     "output_type": "stream",
     "text": [
      "Starting experimental run with id: 10. \n",
      "Starting experimental run with id: 11. \n"
     ]
    },
    {
     "name": "stdout",
     "output_type": "stream",
     "text": [
      "Starting experimental run with id: 12. \n",
      "Starting experimental run with id: 13. \n"
     ]
    },
    {
     "name": "stdout",
     "output_type": "stream",
     "text": [
      "Starting experimental run with id: 14. \n"
     ]
    }
   ],
   "source": [
    "sizes = [1,500,1000,2000,3000,4000,5000]\n",
    "t_numeric = []\n",
    "t_numeric_add = []\n",
    "t_array = []\n",
    "t_array_add = []\n",
    "for size in sizes:\n",
    "    tn, tna, run_id_n =  insert_data('numeric', size)\n",
    "    t_numeric.append(tn)\n",
    "    t_numeric_add.append(tna)\n",
    "\n",
    "    ta, taa, run_id_a =  insert_data('array', size)\n",
    "    t_array.append(ta)\n",
    "    t_array_add.append(taa)"
   ]
  },
  {
   "cell_type": "code",
   "execution_count": 6,
   "metadata": {},
   "outputs": [
    {
     "data": {
      "image/png": "[encoded data removed]",
      "text/plain": [
       "<Figure size 432x288 with 1 Axes>"
      ]
     },
     "metadata": {
      "needs_background": "light"
     },
     "output_type": "display_data"
    }
   ],
   "source": [
    "fig, ax = plt.subplots(1,1)\n",
    "ax.plot(sizes, t_numeric, 'o-', label='Inserting row-by-row')\n",
    "ax.plot(sizes, t_numeric_add, 'o-', label='Inserting row-by-row: add_result only')\n",
    "ax.plot(sizes, t_array, 'd-', label='Inserting as binary blob')\n",
    "ax.plot(sizes, t_array_add, 'd-', label='Inserting as binary blob: add_result only')\n",
    "ax.legend()\n",
    "ax.set_xlabel('Array length')\n",
    "ax.set_ylabel('Time (s)')\n",
    "fig.tight_layout()"
   ]
  },
  {
   "cell_type": "markdown",
   "metadata": {},
   "source": [
    "As shown in the latter figure, the time to setup and and close the experiment is approximately 0.4 sec. In case of small array sizes, the difference between inserting values of data as arrays and inserting them row-by-row is relatively unimportant. At larger array sizes, i.e. above 10000 points, the cost of writing data as individual datapoints starts to become important.\n"
   ]
  },
  {
   "cell_type": "markdown",
   "metadata": {},
   "source": [
    "### Case2: Long experiment time "
   ]
  },
  {
   "cell_type": "code",
   "execution_count": 7,
   "metadata": {},
   "outputs": [
    {
     "name": "stdout",
     "output_type": "stream",
     "text": [
      "Starting experimental run with id: 15. \n",
      "Starting experimental run with id: 16. \n",
      "Starting experimental run with id: 17. \n"
     ]
    },
    {
     "name": "stdout",
     "output_type": "stream",
     "text": [
      "Starting experimental run with id: 18. \n",
      "Starting experimental run with id: 19. \n"
     ]
    },
    {
     "name": "stdout",
     "output_type": "stream",
     "text": [
      "Starting experimental run with id: 20. \n"
     ]
    },
    {
     "name": "stdout",
     "output_type": "stream",
     "text": [
      "Starting experimental run with id: 21. \n"
     ]
    },
    {
     "name": "stdout",
     "output_type": "stream",
     "text": [
      "Starting experimental run with id: 22. \n"
     ]
    },
    {
     "name": "stdout",
     "output_type": "stream",
     "text": [
      "Starting experimental run with id: 23. \n"
     ]
    },
    {
     "name": "stdout",
     "output_type": "stream",
     "text": [
      "Starting experimental run with id: 24. \n"
     ]
    },
    {
     "name": "stdout",
     "output_type": "stream",
     "text": [
      "Starting experimental run with id: 25. \n"
     ]
    },
    {
     "name": "stdout",
     "output_type": "stream",
     "text": [
      "Starting experimental run with id: 26. \n"
     ]
    },
    {
     "name": "stdout",
     "output_type": "stream",
     "text": [
      "Starting experimental run with id: 27. \n"
     ]
    },
    {
     "name": "stdout",
     "output_type": "stream",
     "text": [
      "Starting experimental run with id: 28. \n"
     ]
    }
   ],
   "source": [
    "sizes = [1,500,1000,2000,3000,4000,5000]\n",
    "nreps = 100\n",
    "t_numeric = []\n",
    "t_numeric_add = []\n",
    "t_numeric_run_ids = []\n",
    "t_array = []\n",
    "t_array_add = []\n",
    "t_array_run_ids = []\n",
    "for size in sizes:\n",
    "    tn, tna, run_id_n =  insert_data('numeric', size, nreps=nreps)\n",
    "    t_numeric.append(tn)\n",
    "    t_numeric_add.append(tna)\n",
    "    t_numeric_run_ids.append(run_id_n)\n",
    "\n",
    "    ta, taa, run_id_a =  insert_data('array', size, nreps=nreps)\n",
    "    t_array.append(ta)\n",
    "    t_array_add.append(taa)\n",
    "    t_array_run_ids.append(run_id_a)"
   ]
  },
  {
   "cell_type": "code",
   "execution_count": 8,
   "metadata": {
    "scrolled": true
   },
   "outputs": [
    {
     "data": {
      "image/png": "[encoded data removed]",
      "text/plain": [
       "<Figure size 432x288 with 1 Axes>"
      ]
     },
     "metadata": {
      "needs_background": "light"
     },
     "output_type": "display_data"
    }
   ],
   "source": [
    "fig, ax = plt.subplots(1,1)\n",
    "ax.plot(sizes, t_numeric, 'o-', label='Inserting row-by-row')\n",
    "ax.plot(sizes, t_numeric_add, 'o-', label='Inserting row-by-row: add_result only')\n",
    "ax.plot(sizes, t_array, 'd-', label='Inserting as binary blob')\n",
    "ax.plot(sizes, t_array_add, 'd-', label='Inserting as binary blob: add_result only')\n",
    "ax.legend()\n",
    "ax.set_xlabel('Array length')\n",
    "ax.set_ylabel('Time (s)')\n",
    "fig.tight_layout()"
   ]
  },
  {
   "cell_type": "markdown",
   "metadata": {},
   "source": [
    "However, as we increase the length of the experiment, as seen here by repeating the insertion 100 times, we see a big difference between inserting values of the data row-by-row and inserting it as a binary blob."
   ]
  },
  {
   "cell_type": "markdown",
   "metadata": {},
   "source": [
    "## Loading the data "
   ]
  },
  {
   "cell_type": "code",
   "execution_count": 9,
   "metadata": {},
   "outputs": [],
   "source": [
    "from qcodes.dataset.data_set import load_by_id\n",
    "from qcodes.dataset.data_export import get_data_by_id"
   ]
  },
  {
   "cell_type": "markdown",
   "metadata": {},
   "source": [
    "As usual you can load the data by using the ``load_by_id`` function but you will notice that the different storage methods\n",
    "are reflected in shape of the data as it is retrieved. "
   ]
  },
  {
   "cell_type": "code",
   "execution_count": 10,
   "metadata": {},
   "outputs": [],
   "source": [
    "run_id_n = t_numeric_run_ids[0]\n",
    "run_id_a = t_array_run_ids[0]"
   ]
  },
  {
   "cell_type": "code",
   "execution_count": 11,
   "metadata": {
    "scrolled": true
   },
   "outputs": [
    {
     "data": {
      "text/plain": [
       "{'x1': {'x1': array([0.97070782, 0.97070782, 0.87387334, 0.87387334, 0.39389784,\n",
       "         0.39389784, 0.20229312, 0.20229312, 0.20765668, 0.20765668,\n",
       "         0.89455814, 0.89455814, 0.6372013 , 0.6372013 , 0.26835151,\n",
       "         0.26835151, 0.57272131, 0.57272131, 0.3896167 , 0.3896167 ,\n",
       "         0.15290453, 0.15290453, 0.84359004, 0.84359004, 0.86308191,\n",
       "         0.86308191, 0.92558464, 0.92558464, 0.99708888, 0.99708888,\n",
       "         0.99384207, 0.99384207, 0.40082235, 0.40082235, 0.78972973,\n",
       "         0.78972973, 0.44541569, 0.44541569, 0.56936663, 0.56936663,\n",
       "         0.9403488 , 0.9403488 , 0.08941346, 0.08941346, 0.90273521,\n",
       "         0.90273521, 0.34287786, 0.34287786, 0.42069208, 0.42069208,\n",
       "         0.22846104, 0.22846104, 0.3028294 , 0.3028294 , 0.33314023,\n",
       "         0.33314023, 0.19506525, 0.19506525, 0.70542598, 0.70542598,\n",
       "         0.7135459 , 0.7135459 , 0.63636846, 0.63636846, 0.57600643,\n",
       "         0.57600643, 0.00659101, 0.00659101, 0.95548337, 0.95548337,\n",
       "         0.51968373, 0.51968373, 0.56877629, 0.56877629, 0.10039553,\n",
       "         0.10039553, 0.50005571, 0.50005571, 0.43998328, 0.43998328,\n",
       "         0.32531887, 0.32531887, 0.14115826, 0.14115826, 0.06245322,\n",
       "         0.06245322, 0.11713893, 0.11713893, 0.59670105, 0.59670105,\n",
       "         0.76601987, 0.76601987, 0.1577714 , 0.1577714 , 0.07255329,\n",
       "         0.07255329, 0.16820882, 0.16820882, 0.280634  , 0.280634  ,\n",
       "         0.89604443, 0.89604443, 0.37080588, 0.37080588, 0.03975144,\n",
       "         0.03975144, 0.15015126, 0.15015126, 0.96993831, 0.96993831,\n",
       "         0.04229157, 0.04229157, 0.48382208, 0.48382208, 0.53733877,\n",
       "         0.53733877, 0.45099255, 0.45099255, 0.17547655, 0.17547655,\n",
       "         0.34343137, 0.34343137, 0.71400907, 0.71400907, 0.63471802,\n",
       "         0.63471802, 0.76017838, 0.76017838, 0.9780848 , 0.9780848 ,\n",
       "         0.42808186, 0.42808186, 0.37574267, 0.37574267, 0.64197053,\n",
       "         0.64197053, 0.85962834, 0.85962834, 0.78757232, 0.78757232,\n",
       "         0.68303204, 0.68303204, 0.32064811, 0.32064811, 0.9644938 ,\n",
       "         0.9644938 , 0.89135287, 0.89135287, 0.48360324, 0.48360324,\n",
       "         0.31387802, 0.31387802, 0.68677232, 0.68677232, 0.57296897,\n",
       "         0.57296897, 0.03443136, 0.03443136, 0.74038779, 0.74038779,\n",
       "         0.63535902, 0.63535902, 0.74699253, 0.74699253, 0.53197749,\n",
       "         0.53197749, 0.63677159, 0.63677159, 0.56179453, 0.56179453,\n",
       "         0.01546499, 0.01546499, 0.3478188 , 0.3478188 , 0.94259697,\n",
       "         0.94259697, 0.04280129, 0.04280129, 0.39238077, 0.39238077,\n",
       "         0.72038445, 0.72038445, 0.63001074, 0.63001074, 0.76086057,\n",
       "         0.76086057, 0.05361761, 0.05361761, 0.98463428, 0.98463428,\n",
       "         0.24972382, 0.24972382, 0.62353471, 0.62353471, 0.68444648,\n",
       "         0.68444648, 0.65733153, 0.65733153, 0.77552233, 0.77552233])}}"
      ]
     },
     "execution_count": 11,
     "metadata": {},
     "output_type": "execute_result"
    }
   ],
   "source": [
    "ds = load_by_id(run_id_n)\n",
    "ds.get_parameter_data('x1')"
   ]
  },
  {
   "cell_type": "markdown",
   "metadata": {},
   "source": [
    "And a dataset stored as binary arrays"
   ]
  },
  {
   "cell_type": "code",
   "execution_count": 12,
   "metadata": {
    "scrolled": true
   },
   "outputs": [
    {
     "data": {
      "text/plain": [
       "{'x1': {'x1': array([[0.93994298],\n",
       "         [0.93994298],\n",
       "         [0.6124544 ],\n",
       "         [0.6124544 ],\n",
       "         [0.9007154 ],\n",
       "         [0.9007154 ],\n",
       "         [0.32547864],\n",
       "         [0.32547864],\n",
       "         [0.3928028 ],\n",
       "         [0.3928028 ],\n",
       "         [0.85851448],\n",
       "         [0.85851448],\n",
       "         [0.34980588],\n",
       "         [0.34980588],\n",
       "         [0.82853638],\n",
       "         [0.82853638],\n",
       "         [0.56264385],\n",
       "         [0.56264385],\n",
       "         [0.03706017],\n",
       "         [0.03706017],\n",
       "         [0.37174932],\n",
       "         [0.37174932],\n",
       "         [0.62735555],\n",
       "         [0.62735555],\n",
       "         [0.54778333],\n",
       "         [0.54778333],\n",
       "         [0.59341726],\n",
       "         [0.59341726],\n",
       "         [0.23474591],\n",
       "         [0.23474591],\n",
       "         [0.98927844],\n",
       "         [0.98927844],\n",
       "         [0.87284032],\n",
       "         [0.87284032],\n",
       "         [0.2378608 ],\n",
       "         [0.2378608 ],\n",
       "         [0.56757439],\n",
       "         [0.56757439],\n",
       "         [0.43608752],\n",
       "         [0.43608752],\n",
       "         [0.56268289],\n",
       "         [0.56268289],\n",
       "         [0.88559339],\n",
       "         [0.88559339],\n",
       "         [0.32595557],\n",
       "         [0.32595557],\n",
       "         [0.58453229],\n",
       "         [0.58453229],\n",
       "         [0.72217283],\n",
       "         [0.72217283],\n",
       "         [0.05873563],\n",
       "         [0.05873563],\n",
       "         [0.14822814],\n",
       "         [0.14822814],\n",
       "         [0.40627868],\n",
       "         [0.40627868],\n",
       "         [0.8965377 ],\n",
       "         [0.8965377 ],\n",
       "         [0.99797293],\n",
       "         [0.99797293],\n",
       "         [0.50120237],\n",
       "         [0.50120237],\n",
       "         [0.27820106],\n",
       "         [0.27820106],\n",
       "         [0.13933458],\n",
       "         [0.13933458],\n",
       "         [0.28074939],\n",
       "         [0.28074939],\n",
       "         [0.00972607],\n",
       "         [0.00972607],\n",
       "         [0.15799012],\n",
       "         [0.15799012],\n",
       "         [0.62541105],\n",
       "         [0.62541105],\n",
       "         [0.41235323],\n",
       "         [0.41235323],\n",
       "         [0.57821892],\n",
       "         [0.57821892],\n",
       "         [0.36817934],\n",
       "         [0.36817934],\n",
       "         [0.26834097],\n",
       "         [0.26834097],\n",
       "         [0.23945502],\n",
       "         [0.23945502],\n",
       "         [0.02763903],\n",
       "         [0.02763903],\n",
       "         [0.84330759],\n",
       "         [0.84330759],\n",
       "         [0.89875131],\n",
       "         [0.89875131],\n",
       "         [0.4254299 ],\n",
       "         [0.4254299 ],\n",
       "         [0.64646978],\n",
       "         [0.64646978],\n",
       "         [0.79737253],\n",
       "         [0.79737253],\n",
       "         [0.53073775],\n",
       "         [0.53073775],\n",
       "         [0.41328611],\n",
       "         [0.41328611],\n",
       "         [0.50207947],\n",
       "         [0.50207947],\n",
       "         [0.303426  ],\n",
       "         [0.303426  ],\n",
       "         [0.61159991],\n",
       "         [0.61159991],\n",
       "         [0.80818617],\n",
       "         [0.80818617],\n",
       "         [0.91002816],\n",
       "         [0.91002816],\n",
       "         [0.01847295],\n",
       "         [0.01847295],\n",
       "         [0.07469265],\n",
       "         [0.07469265],\n",
       "         [0.53433803],\n",
       "         [0.53433803],\n",
       "         [0.35440568],\n",
       "         [0.35440568],\n",
       "         [0.21906188],\n",
       "         [0.21906188],\n",
       "         [0.91822202],\n",
       "         [0.91822202],\n",
       "         [0.77075021],\n",
       "         [0.77075021],\n",
       "         [0.17891727],\n",
       "         [0.17891727],\n",
       "         [0.31966813],\n",
       "         [0.31966813],\n",
       "         [0.63544513],\n",
       "         [0.63544513],\n",
       "         [0.2879456 ],\n",
       "         [0.2879456 ],\n",
       "         [0.53607392],\n",
       "         [0.53607392],\n",
       "         [0.92912312],\n",
       "         [0.92912312],\n",
       "         [0.53398477],\n",
       "         [0.53398477],\n",
       "         [0.58757046],\n",
       "         [0.58757046],\n",
       "         [0.69677632],\n",
       "         [0.69677632],\n",
       "         [0.83273099],\n",
       "         [0.83273099],\n",
       "         [0.55031382],\n",
       "         [0.55031382],\n",
       "         [0.50564285],\n",
       "         [0.50564285],\n",
       "         [0.54173279],\n",
       "         [0.54173279],\n",
       "         [0.85243705],\n",
       "         [0.85243705],\n",
       "         [0.17228375],\n",
       "         [0.17228375],\n",
       "         [0.30170169],\n",
       "         [0.30170169],\n",
       "         [0.818788  ],\n",
       "         [0.818788  ],\n",
       "         [0.25402512],\n",
       "         [0.25402512],\n",
       "         [0.57314283],\n",
       "         [0.57314283],\n",
       "         [0.2054077 ],\n",
       "         [0.2054077 ],\n",
       "         [0.44370462],\n",
       "         [0.44370462],\n",
       "         [0.57031874],\n",
       "         [0.57031874],\n",
       "         [0.41606095],\n",
       "         [0.41606095],\n",
       "         [0.71130027],\n",
       "         [0.71130027],\n",
       "         [0.61438556],\n",
       "         [0.61438556],\n",
       "         [0.62052518],\n",
       "         [0.62052518],\n",
       "         [0.60134882],\n",
       "         [0.60134882],\n",
       "         [0.34863775],\n",
       "         [0.34863775],\n",
       "         [0.49920319],\n",
       "         [0.49920319],\n",
       "         [0.48560404],\n",
       "         [0.48560404],\n",
       "         [0.60069803],\n",
       "         [0.60069803],\n",
       "         [0.87271388],\n",
       "         [0.87271388],\n",
       "         [0.556007  ],\n",
       "         [0.556007  ],\n",
       "         [0.14115371],\n",
       "         [0.14115371],\n",
       "         [0.84829641],\n",
       "         [0.84829641],\n",
       "         [0.5080661 ],\n",
       "         [0.5080661 ],\n",
       "         [0.04743901],\n",
       "         [0.04743901],\n",
       "         [0.51404811],\n",
       "         [0.51404811]])}}"
      ]
     },
     "execution_count": 12,
     "metadata": {},
     "output_type": "execute_result"
    }
   ],
   "source": [
    "ds = load_by_id(run_id_a)\n",
    "ds.get_parameter_data('x1')"
   ]
  },
  {
   "cell_type": "code",
   "execution_count": null,
   "metadata": {},
   "outputs": [],
   "source": []
  }
 ],
 "metadata": {
  "kernelspec": {
   "display_name": "Python 3",
   "language": "python",
   "name": "python3"
  },
  "language_info": {
   "codemirror_mode": {
    "name": "ipython",
    "version": 3
   },
   "file_extension": ".py",
   "mimetype": "text/x-python",
   "name": "python",
   "nbconvert_exporter": "python",
   "pygments_lexer": "ipython3",
   "version": "3.7.7"
  },
  "nbsphinx": {
   "timeout": 600
  },
  "toc": {
   "base_numbering": 1,
   "nav_menu": {},
   "number_sections": true,
   "sideBar": true,
   "skip_h1_title": false,
   "title_cell": "Table of Contents",
   "title_sidebar": "Contents",
   "toc_cell": false,
   "toc_position": {},
   "toc_section_display": true,
   "toc_window_display": false
  },
  "varInspector": {
   "cols": {
    "lenName": 16,
    "lenType": 16,
    "lenVar": 40
   },
   "kernels_config": {
    "python": {
     "delete_cmd_postfix": "",
     "delete_cmd_prefix": "del ",
     "library": "var_list.py",
     "varRefreshCmd": "print(var_dic_list())"
    },
    "r": {
     "delete_cmd_postfix": ") ",
     "delete_cmd_prefix": "rm(",
     "library": "var_list.r",
     "varRefreshCmd": "cat(var_dic_list()) "
    }
   },
   "types_to_exclude": [
    "module",
    "function",
    "builtin_function_or_method",
    "instance",
    "_Feature"
   ],
   "window_display": false
  }
 },
 "nbformat": 4,
 "nbformat_minor": 2
}
