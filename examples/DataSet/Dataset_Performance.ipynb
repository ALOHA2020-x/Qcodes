{
 "cells": [
  {
   "cell_type": "markdown",
   "metadata": {},
   "source": [
    "# DataSet Performance\n",
    "\n",
    "This notebook shows the trade-off between inserting data into a database row-by-row and as binary blobs. Inserting the data row-by-row means that we have direct access to all the data and may perform queries directly on the values of the data. On the other hand, as we shall see, this is much slower than inserting the data directly as binary blobs."
   ]
  },
  {
   "cell_type": "markdown",
   "metadata": {},
   "source": [
    "First, we choose a new location for the database to ensure that we don't add a bunch of benchmarking data to the default one."
   ]
  },
  {
   "cell_type": "code",
   "execution_count": 1,
   "metadata": {
    "execution": {
     "iopub.execute_input": "2021-05-11T05:43:44.184790Z",
     "iopub.status.busy": "2021-05-11T05:43:44.183774Z",
     "iopub.status.idle": "2021-05-11T05:43:45.298681Z",
     "shell.execute_reply": "2021-05-11T05:43:45.297527Z"
    }
   },
   "outputs": [
    {
     "name": "stdout",
     "output_type": "stream",
     "text": [
      "Logging hadn't been started.\n",
      "Activating auto-logging. Current session state plus future input saved.\n",
      "Filename       : /home/runner/.qcodes/logs/command_history.log\n",
      "Mode           : append\n",
      "Output logging : True\n",
      "Raw input log  : False\n",
      "Timestamping   : True\n",
      "State          : active\n"
     ]
    },
    {
     "name": "stdout",
     "output_type": "stream",
     "text": [
      "Qcodes Logfile : /home/runner/.qcodes/logs/210511-4564-qcodes.log\n"
     ]
    }
   ],
   "source": [
    "import os\n",
    "cwd = os.getcwd()\n",
    "import qcodes as qc\n",
    "qc.config[\"core\"][\"db_location\"] = os.path.join(cwd, 'testing.db')\n"
   ]
  },
  {
   "cell_type": "code",
   "execution_count": 2,
   "metadata": {
    "execution": {
     "iopub.execute_input": "2021-05-11T05:43:45.305128Z",
     "iopub.status.busy": "2021-05-11T05:43:45.304095Z",
     "iopub.status.idle": "2021-05-11T05:43:45.501380Z",
     "shell.execute_reply": "2021-05-11T05:43:45.500604Z"
    }
   },
   "outputs": [],
   "source": [
    "%matplotlib inline\n",
    "import time\n",
    "import matplotlib.pyplot as plt\n",
    "import numpy as np\n",
    "\n",
    "import qcodes as qc\n",
    "from qcodes.instrument.parameter import ManualParameter\n",
    "from qcodes.dataset.experiment_container import (Experiment,\n",
    "                                                 load_last_experiment,\n",
    "                                                 new_experiment)\n",
    "from qcodes.dataset.sqlite.database import initialise_database\n",
    "from qcodes import load_or_create_experiment\n",
    "from qcodes.dataset.measurements import Measurement"
   ]
  },
  {
   "cell_type": "code",
   "execution_count": 3,
   "metadata": {
    "execution": {
     "iopub.execute_input": "2021-05-11T05:43:45.505587Z",
     "iopub.status.busy": "2021-05-11T05:43:45.504412Z",
     "iopub.status.idle": "2021-05-11T05:43:45.580949Z",
     "shell.execute_reply": "2021-05-11T05:43:45.580219Z"
    }
   },
   "outputs": [
    {
     "name": "stdout",
     "output_type": "stream",
     "text": [
      "\r",
      "0it [00:00, ?it/s]"
     ]
    },
    {
     "name": "stdout",
     "output_type": "stream",
     "text": [
      "\r",
      "Upgrading database; v0 -> v1: : 0it [00:00, ?it/s]"
     ]
    },
    {
     "name": "stdout",
     "output_type": "stream",
     "text": [
      "\r",
      "Upgrading database; v0 -> v1: : 0it [00:00, ?it/s]"
     ]
    },
    {
     "name": "stdout",
     "output_type": "stream",
     "text": [
      "\n",
      "\r",
      "  0%|          | 0/1 [00:00<?, ?it/s]"
     ]
    },
    {
     "name": "stdout",
     "output_type": "stream",
     "text": [
      "\r",
      "Upgrading database; v1 -> v2:   0%|          | 0/1 [00:00<?, ?it/s]"
     ]
    },
    {
     "name": "stdout",
     "output_type": "stream",
     "text": [
      "\r",
      "Upgrading database; v1 -> v2: 100%|██████████| 1/1 [00:00<00:00, 617.45it/s]"
     ]
    },
    {
     "name": "stdout",
     "output_type": "stream",
     "text": [
      "\n",
      "\r",
      "0it [00:00, ?it/s]"
     ]
    },
    {
     "name": "stdout",
     "output_type": "stream",
     "text": [
      "\r",
      "Upgrading database; v2 -> v3: : 0it [00:00, ?it/s]"
     ]
    },
    {
     "name": "stdout",
     "output_type": "stream",
     "text": [
      "\r",
      "Upgrading database; v2 -> v3: : 0it [00:00, ?it/s]"
     ]
    },
    {
     "name": "stdout",
     "output_type": "stream",
     "text": [
      "\n",
      "\r",
      "0it [00:00, ?it/s]"
     ]
    },
    {
     "name": "stdout",
     "output_type": "stream",
     "text": [
      "\r",
      "Upgrading database; v3 -> v4: : 0it [00:00, ?it/s]"
     ]
    },
    {
     "name": "stdout",
     "output_type": "stream",
     "text": [
      "\r",
      "Upgrading database; v3 -> v4: : 0it [00:00, ?it/s]"
     ]
    },
    {
     "name": "stdout",
     "output_type": "stream",
     "text": [
      "\n",
      "\r",
      "  0%|          | 0/1 [00:00<?, ?it/s]"
     ]
    },
    {
     "name": "stdout",
     "output_type": "stream",
     "text": [
      "\r",
      "Upgrading database; v4 -> v5:   0%|          | 0/1 [00:00<?, ?it/s]"
     ]
    },
    {
     "name": "stdout",
     "output_type": "stream",
     "text": [
      "\r",
      "Upgrading database; v4 -> v5: 100%|██████████| 1/1 [00:00<00:00, 484.72it/s]"
     ]
    },
    {
     "name": "stdout",
     "output_type": "stream",
     "text": [
      "\n",
      "\r",
      "0it [00:00, ?it/s]"
     ]
    },
    {
     "name": "stdout",
     "output_type": "stream",
     "text": [
      "\r",
      "Upgrading database; v5 -> v6: : 0it [00:00, ?it/s]"
     ]
    },
    {
     "name": "stdout",
     "output_type": "stream",
     "text": [
      "\r",
      "Upgrading database; v5 -> v6: : 0it [00:00, ?it/s]"
     ]
    },
    {
     "name": "stdout",
     "output_type": "stream",
     "text": [
      "\n",
      "\r",
      "  0%|          | 0/1 [00:00<?, ?it/s]"
     ]
    },
    {
     "name": "stdout",
     "output_type": "stream",
     "text": [
      "\r",
      "Upgrading database; v6 -> v7:   0%|          | 0/1 [00:00<?, ?it/s]"
     ]
    },
    {
     "name": "stdout",
     "output_type": "stream",
     "text": [
      "\r",
      "Upgrading database; v6 -> v7: 100%|██████████| 1/1 [00:00<00:00, 282.86it/s]"
     ]
    },
    {
     "name": "stdout",
     "output_type": "stream",
     "text": [
      "\n",
      "\r",
      "  0%|          | 0/1 [00:00<?, ?it/s]"
     ]
    },
    {
     "name": "stdout",
     "output_type": "stream",
     "text": [
      "\r",
      "Upgrading database; v7 -> v8:   0%|          | 0/1 [00:00<?, ?it/s]"
     ]
    },
    {
     "name": "stdout",
     "output_type": "stream",
     "text": [
      "\r",
      "Upgrading database; v7 -> v8: 100%|██████████| 1/1 [00:00<00:00, 417.80it/s]"
     ]
    },
    {
     "name": "stdout",
     "output_type": "stream",
     "text": [
      "\n",
      "\r",
      "  0%|          | 0/1 [00:00<?, ?it/s]"
     ]
    },
    {
     "name": "stdout",
     "output_type": "stream",
     "text": [
      "\r",
      "Upgrading database; v8 -> v9:   0%|          | 0/1 [00:00<?, ?it/s]"
     ]
    },
    {
     "name": "stdout",
     "output_type": "stream",
     "text": [
      "\r",
      "Upgrading database; v8 -> v9: 100%|██████████| 1/1 [00:00<00:00, 1011.89it/s]"
     ]
    },
    {
     "name": "stdout",
     "output_type": "stream",
     "text": [
      "\n"
     ]
    }
   ],
   "source": [
    "initialise_database()\n",
    "exp = load_or_create_experiment(experiment_name='tutorial_exp', sample_name=\"no sample\")"
   ]
  },
  {
   "cell_type": "markdown",
   "metadata": {},
   "source": [
    "Here, we define a simple function to benchmark the time it takes to insert n points with either numeric or array data type.\n",
    "We will compare both the time used to call ``add_result`` and the time used for the full measurement."
   ]
  },
  {
   "cell_type": "code",
   "execution_count": 4,
   "metadata": {
    "execution": {
     "iopub.execute_input": "2021-05-11T05:43:45.589613Z",
     "iopub.status.busy": "2021-05-11T05:43:45.587590Z",
     "iopub.status.idle": "2021-05-11T05:43:45.593893Z",
     "shell.execute_reply": "2021-05-11T05:43:45.593237Z"
    }
   },
   "outputs": [],
   "source": [
    "def insert_data(paramtype, npoints, nreps=1):\n",
    "\n",
    "    meas = Measurement(exp=exp)\n",
    "\n",
    "    x1 = ManualParameter('x1')\n",
    "    x2 = ManualParameter('x2')\n",
    "    x3 = ManualParameter('x3')\n",
    "    y1 = ManualParameter('y1')\n",
    "    y2 = ManualParameter('y2')\n",
    "\n",
    "    meas.register_parameter(x1, paramtype=paramtype)\n",
    "    meas.register_parameter(x2, paramtype=paramtype)\n",
    "    meas.register_parameter(x3, paramtype=paramtype)\n",
    "    meas.register_parameter(y1, setpoints=[x1, x2, x3],\n",
    "                            paramtype=paramtype)\n",
    "    meas.register_parameter(y2, setpoints=[x1, x2, x3],\n",
    "                            paramtype=paramtype)\n",
    "    start = time.perf_counter()\n",
    "    with meas.run() as datasaver:\n",
    "        start_adding = time.perf_counter()\n",
    "        for i in range(nreps):\n",
    "            datasaver.add_result((x1, np.random.rand(npoints)),\n",
    "                                 (x2, np.random.rand(npoints)),\n",
    "                                 (x3, np.random.rand(npoints)),\n",
    "                                 (y1, np.random.rand(npoints)),\n",
    "                                 (y2, np.random.rand(npoints)))\n",
    "        stop_adding = time.perf_counter()\n",
    "        run_id = datasaver.run_id\n",
    "    stop = time.perf_counter()\n",
    "    tot_time = stop - start\n",
    "    add_time = stop_adding - start_adding\n",
    "    return tot_time, add_time, run_id"
   ]
  },
  {
   "cell_type": "markdown",
   "metadata": {},
   "source": [
    "## Comparison between numeric/array data and binary blob"
   ]
  },
  {
   "cell_type": "markdown",
   "metadata": {},
   "source": [
    "### Case1: Short experiment time"
   ]
  },
  {
   "cell_type": "code",
   "execution_count": 5,
   "metadata": {
    "execution": {
     "iopub.execute_input": "2021-05-11T05:43:45.604298Z",
     "iopub.status.busy": "2021-05-11T05:43:45.603531Z",
     "iopub.status.idle": "2021-05-11T05:43:46.396129Z",
     "shell.execute_reply": "2021-05-11T05:43:46.396768Z"
    }
   },
   "outputs": [
    {
     "name": "stdout",
     "output_type": "stream",
     "text": [
      "Starting experimental run with id: 1. \n",
      "Starting experimental run with id: 2. \n",
      "Starting experimental run with id: 3. \n"
     ]
    },
    {
     "name": "stdout",
     "output_type": "stream",
     "text": [
      "Starting experimental run with id: 4. \n"
     ]
    },
    {
     "name": "stdout",
     "output_type": "stream",
     "text": [
      "Starting experimental run with id: 5. \n"
     ]
    },
    {
     "name": "stdout",
     "output_type": "stream",
     "text": [
      "Starting experimental run with id: 6. \n",
      "Starting experimental run with id: 7. \n",
      "Starting experimental run with id: 8. \n",
      "Starting experimental run with id: 9. \n"
     ]
    },
    {
     "name": "stdout",
     "output_type": "stream",
     "text": [
      "Starting experimental run with id: 10. \n",
      "Starting experimental run with id: 11. \n",
      "Starting experimental run with id: 12. \n",
      "Starting experimental run with id: 13. \n"
     ]
    },
    {
     "name": "stdout",
     "output_type": "stream",
     "text": [
      "Starting experimental run with id: 14. \n"
     ]
    }
   ],
   "source": [
    "sizes = [1,500,1000,2000,3000,4000,5000]\n",
    "t_numeric = []\n",
    "t_numeric_add = []\n",
    "t_array = []\n",
    "t_array_add = []\n",
    "for size in sizes:\n",
    "    tn, tna, run_id_n =  insert_data('numeric', size)\n",
    "    t_numeric.append(tn)\n",
    "    t_numeric_add.append(tna)\n",
    "\n",
    "    ta, taa, run_id_a =  insert_data('array', size)\n",
    "    t_array.append(ta)\n",
    "    t_array_add.append(taa)"
   ]
  },
  {
   "cell_type": "code",
   "execution_count": 6,
   "metadata": {
    "execution": {
     "iopub.execute_input": "2021-05-11T05:43:46.415781Z",
     "iopub.status.busy": "2021-05-11T05:43:46.401531Z",
     "iopub.status.idle": "2021-05-11T05:43:46.681381Z",
     "shell.execute_reply": "2021-05-11T05:43:46.680876Z"
    }
   },
   "outputs": [
    {
     "data": {
      "image/png": "[encoded data removed]",
      "text/plain": [
       "<Figure size 432x288 with 1 Axes>"
      ]
     },
     "metadata": {
      "needs_background": "light"
     },
     "output_type": "display_data"
    }
   ],
   "source": [
    "fig, ax = plt.subplots(1,1)\n",
    "ax.plot(sizes, t_numeric, 'o-', label='Inserting row-by-row')\n",
    "ax.plot(sizes, t_numeric_add, 'o-', label='Inserting row-by-row: add_result only')\n",
    "ax.plot(sizes, t_array, 'd-', label='Inserting as binary blob')\n",
    "ax.plot(sizes, t_array_add, 'd-', label='Inserting as binary blob: add_result only')\n",
    "ax.legend()\n",
    "ax.set_xlabel('Array length')\n",
    "ax.set_ylabel('Time (s)')\n",
    "fig.tight_layout()"
   ]
  },
  {
   "cell_type": "markdown",
   "metadata": {},
   "source": [
    "As shown in the latter figure, the time to setup and and close the experiment is approximately 0.4 sec. In case of small array sizes, the difference between inserting values of data as arrays and inserting them row-by-row is relatively unimportant. At larger array sizes, i.e. above 10000 points, the cost of writing data as individual datapoints starts to become important.\n"
   ]
  },
  {
   "cell_type": "markdown",
   "metadata": {},
   "source": [
    "### Case2: Long experiment time "
   ]
  },
  {
   "cell_type": "code",
   "execution_count": 7,
   "metadata": {
    "execution": {
     "iopub.execute_input": "2021-05-11T05:43:46.689234Z",
     "iopub.status.busy": "2021-05-11T05:43:46.688346Z",
     "iopub.status.idle": "2021-05-11T05:44:37.272008Z",
     "shell.execute_reply": "2021-05-11T05:44:37.271528Z"
    }
   },
   "outputs": [
    {
     "name": "stdout",
     "output_type": "stream",
     "text": [
      "Starting experimental run with id: 15. \n",
      "Starting experimental run with id: 16. \n",
      "Starting experimental run with id: 17. \n"
     ]
    },
    {
     "name": "stdout",
     "output_type": "stream",
     "text": [
      "Starting experimental run with id: 18. \n",
      "Starting experimental run with id: 19. \n"
     ]
    },
    {
     "name": "stdout",
     "output_type": "stream",
     "text": [
      "Starting experimental run with id: 20. \n"
     ]
    },
    {
     "name": "stdout",
     "output_type": "stream",
     "text": [
      "Starting experimental run with id: 21. \n"
     ]
    },
    {
     "name": "stdout",
     "output_type": "stream",
     "text": [
      "Starting experimental run with id: 22. \n"
     ]
    },
    {
     "name": "stdout",
     "output_type": "stream",
     "text": [
      "Starting experimental run with id: 23. \n"
     ]
    },
    {
     "name": "stdout",
     "output_type": "stream",
     "text": [
      "Starting experimental run with id: 24. \n"
     ]
    },
    {
     "name": "stdout",
     "output_type": "stream",
     "text": [
      "Starting experimental run with id: 25. \n"
     ]
    },
    {
     "name": "stdout",
     "output_type": "stream",
     "text": [
      "Starting experimental run with id: 26. \n"
     ]
    },
    {
     "name": "stdout",
     "output_type": "stream",
     "text": [
      "Starting experimental run with id: 27. \n"
     ]
    },
    {
     "name": "stdout",
     "output_type": "stream",
     "text": [
      "Starting experimental run with id: 28. \n"
     ]
    }
   ],
   "source": [
    "sizes = [1,500,1000,2000,3000,4000,5000]\n",
    "nreps = 100\n",
    "t_numeric = []\n",
    "t_numeric_add = []\n",
    "t_numeric_run_ids = []\n",
    "t_array = []\n",
    "t_array_add = []\n",
    "t_array_run_ids = []\n",
    "for size in sizes:\n",
    "    tn, tna, run_id_n =  insert_data('numeric', size, nreps=nreps)\n",
    "    t_numeric.append(tn)\n",
    "    t_numeric_add.append(tna)\n",
    "    t_numeric_run_ids.append(run_id_n)\n",
    "\n",
    "    ta, taa, run_id_a =  insert_data('array', size, nreps=nreps)\n",
    "    t_array.append(ta)\n",
    "    t_array_add.append(taa)\n",
    "    t_array_run_ids.append(run_id_a)"
   ]
  },
  {
   "cell_type": "code",
   "execution_count": 8,
   "metadata": {
    "execution": {
     "iopub.execute_input": "2021-05-11T05:44:37.294049Z",
     "iopub.status.busy": "2021-05-11T05:44:37.289495Z",
     "iopub.status.idle": "2021-05-11T05:44:37.530762Z",
     "shell.execute_reply": "2021-05-11T05:44:37.530272Z"
    },
    "scrolled": true
   },
   "outputs": [
    {
     "data": {
      "image/png": "[encoded data removed]",
      "text/plain": [
       "<Figure size 432x288 with 1 Axes>"
      ]
     },
     "metadata": {
      "needs_background": "light"
     },
     "output_type": "display_data"
    }
   ],
   "source": [
    "fig, ax = plt.subplots(1,1)\n",
    "ax.plot(sizes, t_numeric, 'o-', label='Inserting row-by-row')\n",
    "ax.plot(sizes, t_numeric_add, 'o-', label='Inserting row-by-row: add_result only')\n",
    "ax.plot(sizes, t_array, 'd-', label='Inserting as binary blob')\n",
    "ax.plot(sizes, t_array_add, 'd-', label='Inserting as binary blob: add_result only')\n",
    "ax.legend()\n",
    "ax.set_xlabel('Array length')\n",
    "ax.set_ylabel('Time (s)')\n",
    "fig.tight_layout()"
   ]
  },
  {
   "cell_type": "markdown",
   "metadata": {},
   "source": [
    "However, as we increase the length of the experiment, as seen here by repeating the insertion 100 times, we see a big difference between inserting values of the data row-by-row and inserting it as a binary blob."
   ]
  },
  {
   "cell_type": "markdown",
   "metadata": {},
   "source": [
    "## Loading the data "
   ]
  },
  {
   "cell_type": "code",
   "execution_count": 9,
   "metadata": {
    "execution": {
     "iopub.execute_input": "2021-05-11T05:44:37.534921Z",
     "iopub.status.busy": "2021-05-11T05:44:37.534401Z",
     "iopub.status.idle": "2021-05-11T05:44:37.538101Z",
     "shell.execute_reply": "2021-05-11T05:44:37.537556Z"
    }
   },
   "outputs": [],
   "source": [
    "from qcodes.dataset.data_set import load_by_id"
   ]
  },
  {
   "cell_type": "markdown",
   "metadata": {},
   "source": [
    "As usual you can load the data by using the ``load_by_id`` function but you will notice that the different storage methods\n",
    "are reflected in shape of the data as it is retrieved. "
   ]
  },
  {
   "cell_type": "code",
   "execution_count": 10,
   "metadata": {
    "execution": {
     "iopub.execute_input": "2021-05-11T05:44:37.542607Z",
     "iopub.status.busy": "2021-05-11T05:44:37.541283Z",
     "iopub.status.idle": "2021-05-11T05:44:37.543340Z",
     "shell.execute_reply": "2021-05-11T05:44:37.543752Z"
    }
   },
   "outputs": [],
   "source": [
    "run_id_n = t_numeric_run_ids[0]\n",
    "run_id_a = t_array_run_ids[0]"
   ]
  },
  {
   "cell_type": "code",
   "execution_count": 11,
   "metadata": {
    "execution": {
     "iopub.execute_input": "2021-05-11T05:44:37.546884Z",
     "iopub.status.busy": "2021-05-11T05:44:37.546393Z",
     "iopub.status.idle": "2021-05-11T05:44:37.555626Z",
     "shell.execute_reply": "2021-05-11T05:44:37.555080Z"
    },
    "scrolled": true
   },
   "outputs": [
    {
     "data": {
      "text/plain": [
       "{'x1': {'x1': array([0.11875898, 0.11875898, 0.29075872, 0.29075872, 0.62344295,\n",
       "         0.62344295, 0.63969251, 0.63969251, 0.47230469, 0.47230469,\n",
       "         0.85676822, 0.85676822, 0.16511588, 0.16511588, 0.05400536,\n",
       "         0.05400536, 0.75052999, 0.75052999, 0.61488014, 0.61488014,\n",
       "         0.75220754, 0.75220754, 0.78016401, 0.78016401, 0.08004733,\n",
       "         0.08004733, 0.38219118, 0.38219118, 0.44715708, 0.44715708,\n",
       "         0.57486727, 0.57486727, 0.27008247, 0.27008247, 0.44895554,\n",
       "         0.44895554, 0.68066897, 0.68066897, 0.65291583, 0.65291583,\n",
       "         0.36396028, 0.36396028, 0.78837224, 0.78837224, 0.05139417,\n",
       "         0.05139417, 0.35913512, 0.35913512, 0.30526231, 0.30526231,\n",
       "         0.25710065, 0.25710065, 0.75789507, 0.75789507, 0.3714879 ,\n",
       "         0.3714879 , 0.66395424, 0.66395424, 0.65800479, 0.65800479,\n",
       "         0.36502872, 0.36502872, 0.71356353, 0.71356353, 0.39867751,\n",
       "         0.39867751, 0.96857543, 0.96857543, 0.81932758, 0.81932758,\n",
       "         0.73382652, 0.73382652, 0.5180893 , 0.5180893 , 0.39857607,\n",
       "         0.39857607, 0.13533962, 0.13533962, 0.31935882, 0.31935882,\n",
       "         0.28629089, 0.28629089, 0.83119236, 0.83119236, 0.50175249,\n",
       "         0.50175249, 0.75305254, 0.75305254, 0.26412109, 0.26412109,\n",
       "         0.58016136, 0.58016136, 0.01293111, 0.01293111, 0.20995022,\n",
       "         0.20995022, 0.91810119, 0.91810119, 0.52452085, 0.52452085,\n",
       "         0.52142484, 0.52142484, 0.7254125 , 0.7254125 , 0.46799761,\n",
       "         0.46799761, 0.00651523, 0.00651523, 0.34763302, 0.34763302,\n",
       "         0.21774267, 0.21774267, 0.45797442, 0.45797442, 0.00580078,\n",
       "         0.00580078, 0.29187743, 0.29187743, 0.6154985 , 0.6154985 ,\n",
       "         0.81728364, 0.81728364, 0.2678089 , 0.2678089 , 0.19245064,\n",
       "         0.19245064, 0.66024621, 0.66024621, 0.64708409, 0.64708409,\n",
       "         0.82300929, 0.82300929, 0.69906527, 0.69906527, 0.30973632,\n",
       "         0.30973632, 0.53951387, 0.53951387, 0.49575188, 0.49575188,\n",
       "         0.13570081, 0.13570081, 0.63530539, 0.63530539, 0.42248181,\n",
       "         0.42248181, 0.32209205, 0.32209205, 0.00706504, 0.00706504,\n",
       "         0.2790828 , 0.2790828 , 0.22231772, 0.22231772, 0.54923974,\n",
       "         0.54923974, 0.45764638, 0.45764638, 0.40626695, 0.40626695,\n",
       "         0.97386587, 0.97386587, 0.00377451, 0.00377451, 0.03442199,\n",
       "         0.03442199, 0.37105037, 0.37105037, 0.69820668, 0.69820668,\n",
       "         0.72233014, 0.72233014, 0.26414534, 0.26414534, 0.15427825,\n",
       "         0.15427825, 0.88740536, 0.88740536, 0.02721346, 0.02721346,\n",
       "         0.10026514, 0.10026514, 0.9025199 , 0.9025199 , 0.78766804,\n",
       "         0.78766804, 0.29438426, 0.29438426, 0.56392534, 0.56392534,\n",
       "         0.22448488, 0.22448488, 0.82061441, 0.82061441, 0.93899994,\n",
       "         0.93899994, 0.16046773, 0.16046773, 0.42078102, 0.42078102])}}"
      ]
     },
     "execution_count": 1,
     "metadata": {},
     "output_type": "execute_result"
    }
   ],
   "source": [
    "ds = load_by_id(run_id_n)\n",
    "ds.get_parameter_data('x1')"
   ]
  },
  {
   "cell_type": "markdown",
   "metadata": {},
   "source": [
    "And a dataset stored as binary arrays"
   ]
  },
  {
   "cell_type": "code",
   "execution_count": 12,
   "metadata": {
    "execution": {
     "iopub.execute_input": "2021-05-11T05:44:37.559460Z",
     "iopub.status.busy": "2021-05-11T05:44:37.558716Z",
     "iopub.status.idle": "2021-05-11T05:44:37.618085Z",
     "shell.execute_reply": "2021-05-11T05:44:37.617589Z"
    },
    "scrolled": true
   },
   "outputs": [
    {
     "data": {
      "text/plain": [
       "{'x1': {'x1': array([[0.10753239],\n",
       "         [0.10753239],\n",
       "         [0.17308103],\n",
       "         [0.17308103],\n",
       "         [0.58833034],\n",
       "         [0.58833034],\n",
       "         [0.8090774 ],\n",
       "         [0.8090774 ],\n",
       "         [0.45322126],\n",
       "         [0.45322126],\n",
       "         [0.24496848],\n",
       "         [0.24496848],\n",
       "         [0.7101773 ],\n",
       "         [0.7101773 ],\n",
       "         [0.86304396],\n",
       "         [0.86304396],\n",
       "         [0.24235614],\n",
       "         [0.24235614],\n",
       "         [0.03555757],\n",
       "         [0.03555757],\n",
       "         [0.69880109],\n",
       "         [0.69880109],\n",
       "         [0.39582645],\n",
       "         [0.39582645],\n",
       "         [0.16958218],\n",
       "         [0.16958218],\n",
       "         [0.15063882],\n",
       "         [0.15063882],\n",
       "         [0.20336023],\n",
       "         [0.20336023],\n",
       "         [0.26530049],\n",
       "         [0.26530049],\n",
       "         [0.30427312],\n",
       "         [0.30427312],\n",
       "         [0.17660556],\n",
       "         [0.17660556],\n",
       "         [0.98671513],\n",
       "         [0.98671513],\n",
       "         [0.49602768],\n",
       "         [0.49602768],\n",
       "         [0.83048473],\n",
       "         [0.83048473],\n",
       "         [0.97664562],\n",
       "         [0.97664562],\n",
       "         [0.08609004],\n",
       "         [0.08609004],\n",
       "         [0.55990847],\n",
       "         [0.55990847],\n",
       "         [0.07299003],\n",
       "         [0.07299003],\n",
       "         [0.71441398],\n",
       "         [0.71441398],\n",
       "         [0.34935574],\n",
       "         [0.34935574],\n",
       "         [0.12506685],\n",
       "         [0.12506685],\n",
       "         [0.39188784],\n",
       "         [0.39188784],\n",
       "         [0.54474233],\n",
       "         [0.54474233],\n",
       "         [0.42228229],\n",
       "         [0.42228229],\n",
       "         [0.54438141],\n",
       "         [0.54438141],\n",
       "         [0.29365434],\n",
       "         [0.29365434],\n",
       "         [0.09893686],\n",
       "         [0.09893686],\n",
       "         [0.10324703],\n",
       "         [0.10324703],\n",
       "         [0.66771057],\n",
       "         [0.66771057],\n",
       "         [0.65235875],\n",
       "         [0.65235875],\n",
       "         [0.16482948],\n",
       "         [0.16482948],\n",
       "         [0.01571618],\n",
       "         [0.01571618],\n",
       "         [0.74033251],\n",
       "         [0.74033251],\n",
       "         [0.71111361],\n",
       "         [0.71111361],\n",
       "         [0.05679963],\n",
       "         [0.05679963],\n",
       "         [0.28740223],\n",
       "         [0.28740223],\n",
       "         [0.93360714],\n",
       "         [0.93360714],\n",
       "         [0.81855279],\n",
       "         [0.81855279],\n",
       "         [0.91980168],\n",
       "         [0.91980168],\n",
       "         [0.77241839],\n",
       "         [0.77241839],\n",
       "         [0.89409409],\n",
       "         [0.89409409],\n",
       "         [0.7787135 ],\n",
       "         [0.7787135 ],\n",
       "         [0.7261383 ],\n",
       "         [0.7261383 ],\n",
       "         [0.0861924 ],\n",
       "         [0.0861924 ],\n",
       "         [0.89714461],\n",
       "         [0.89714461],\n",
       "         [0.01837054],\n",
       "         [0.01837054],\n",
       "         [0.28300799],\n",
       "         [0.28300799],\n",
       "         [0.61005528],\n",
       "         [0.61005528],\n",
       "         [0.71225903],\n",
       "         [0.71225903],\n",
       "         [0.67239709],\n",
       "         [0.67239709],\n",
       "         [0.94510111],\n",
       "         [0.94510111],\n",
       "         [0.35743976],\n",
       "         [0.35743976],\n",
       "         [0.57745882],\n",
       "         [0.57745882],\n",
       "         [0.96486707],\n",
       "         [0.96486707],\n",
       "         [0.08364593],\n",
       "         [0.08364593],\n",
       "         [0.0858664 ],\n",
       "         [0.0858664 ],\n",
       "         [0.36177272],\n",
       "         [0.36177272],\n",
       "         [0.6615423 ],\n",
       "         [0.6615423 ],\n",
       "         [0.73056034],\n",
       "         [0.73056034],\n",
       "         [0.25060608],\n",
       "         [0.25060608],\n",
       "         [0.33402603],\n",
       "         [0.33402603],\n",
       "         [0.89684223],\n",
       "         [0.89684223],\n",
       "         [0.89019684],\n",
       "         [0.89019684],\n",
       "         [0.84846832],\n",
       "         [0.84846832],\n",
       "         [0.00876473],\n",
       "         [0.00876473],\n",
       "         [0.30504277],\n",
       "         [0.30504277],\n",
       "         [0.60126194],\n",
       "         [0.60126194],\n",
       "         [0.46974196],\n",
       "         [0.46974196],\n",
       "         [0.54333692],\n",
       "         [0.54333692],\n",
       "         [0.70572463],\n",
       "         [0.70572463],\n",
       "         [0.90963113],\n",
       "         [0.90963113],\n",
       "         [0.57869801],\n",
       "         [0.57869801],\n",
       "         [0.58957918],\n",
       "         [0.58957918],\n",
       "         [0.59003076],\n",
       "         [0.59003076],\n",
       "         [0.42590776],\n",
       "         [0.42590776],\n",
       "         [0.25544966],\n",
       "         [0.25544966],\n",
       "         [0.13562876],\n",
       "         [0.13562876],\n",
       "         [0.61552669],\n",
       "         [0.61552669],\n",
       "         [0.35311031],\n",
       "         [0.35311031],\n",
       "         [0.21406861],\n",
       "         [0.21406861],\n",
       "         [0.62237844],\n",
       "         [0.62237844],\n",
       "         [0.20540587],\n",
       "         [0.20540587],\n",
       "         [0.75228431],\n",
       "         [0.75228431],\n",
       "         [0.9134343 ],\n",
       "         [0.9134343 ],\n",
       "         [0.56779465],\n",
       "         [0.56779465],\n",
       "         [0.94994391],\n",
       "         [0.94994391],\n",
       "         [0.39294707],\n",
       "         [0.39294707],\n",
       "         [0.58992844],\n",
       "         [0.58992844],\n",
       "         [0.48325959],\n",
       "         [0.48325959],\n",
       "         [0.24987574],\n",
       "         [0.24987574],\n",
       "         [0.26257925],\n",
       "         [0.26257925],\n",
       "         [0.0590608 ],\n",
       "         [0.0590608 ],\n",
       "         [0.67753609],\n",
       "         [0.67753609]])}}"
      ]
     },
     "execution_count": 1,
     "metadata": {},
     "output_type": "execute_result"
    }
   ],
   "source": [
    "ds = load_by_id(run_id_a)\n",
    "ds.get_parameter_data('x1')"
   ]
  },
  {
   "cell_type": "code",
   "execution_count": null,
   "metadata": {},
   "outputs": [],
   "source": []
  }
 ],
 "metadata": {
  "kernelspec": {
   "display_name": "Python 3",
   "language": "python",
   "name": "python3"
  },
  "language_info": {
   "codemirror_mode": {
    "name": "ipython",
    "version": 3
   },
   "file_extension": ".py",
   "mimetype": "text/x-python",
   "name": "python",
   "nbconvert_exporter": "python",
   "pygments_lexer": "ipython3",
   "version": "3.7.10"
  },
  "nbsphinx": {
   "timeout": 600
  },
  "toc": {
   "base_numbering": 1,
   "nav_menu": {},
   "number_sections": true,
   "sideBar": true,
   "skip_h1_title": false,
   "title_cell": "Table of Contents",
   "title_sidebar": "Contents",
   "toc_cell": false,
   "toc_position": {},
   "toc_section_display": true,
   "toc_window_display": false
  },
  "varInspector": {
   "cols": {
    "lenName": 16,
    "lenType": 16,
    "lenVar": 40
   },
   "kernels_config": {
    "python": {
     "delete_cmd_postfix": "",
     "delete_cmd_prefix": "del ",
     "library": "var_list.py",
     "varRefreshCmd": "print(var_dic_list())"
    },
    "r": {
     "delete_cmd_postfix": ") ",
     "delete_cmd_prefix": "rm(",
     "library": "var_list.r",
     "varRefreshCmd": "cat(var_dic_list()) "
    }
   },
   "types_to_exclude": [
    "module",
    "function",
    "builtin_function_or_method",
    "instance",
    "_Feature"
   ],
   "window_display": false
  }
 },
 "nbformat": 4,
 "nbformat_minor": 4
}
