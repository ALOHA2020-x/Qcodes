{
 "cells": [
  {
   "cell_type": "markdown",
   "metadata": {},
   "source": [
    "# DataSet Performance\n",
    "\n",
    "This notebook shows the trade-off between inserting data into a database row-by-row and as binary blobs. Inserting the data row-by-row means that we have direct access to all the data and may perform queries directly on the values of the data. On the other hand, as we shall see, this is much slower than inserting the data directly as binary blobs."
   ]
  },
  {
   "cell_type": "markdown",
   "metadata": {},
   "source": [
    "First, we choose a new location for the database to ensure that we don't add a bunch of benchmarking data to the default one."
   ]
  },
  {
   "cell_type": "code",
   "execution_count": 1,
   "metadata": {
    "execution": {
     "iopub.execute_input": "2020-10-22T16:40:55.602778Z",
     "iopub.status.busy": "2020-10-22T16:40:55.602318Z",
     "iopub.status.idle": "2020-10-22T16:40:56.641033Z",
     "shell.execute_reply": "2020-10-22T16:40:56.639623Z"
    }
   },
   "outputs": [
    {
     "name": "stdout",
     "output_type": "stream",
     "text": [
      "Logging hadn't been started.\n",
      "Activating auto-logging. Current session state plus future input saved.\n",
      "Filename       : /home/vsts/.qcodes/logs/command_history.log\n",
      "Mode           : append\n",
      "Output logging : True\n",
      "Raw input log  : False\n",
      "Timestamping   : True\n",
      "State          : active\n"
     ]
    },
    {
     "name": "stdout",
     "output_type": "stream",
     "text": [
      "Qcodes Logfile : /home/vsts/.qcodes/logs/201022-14559-qcodes.log\n"
     ]
    }
   ],
   "source": [
    "import os\n",
    "cwd = os.getcwd()\n",
    "import qcodes as qc\n",
    "qc.config[\"core\"][\"db_location\"] = os.path.join(cwd, 'testing.db')\n"
   ]
  },
  {
   "cell_type": "code",
   "execution_count": 2,
   "metadata": {
    "execution": {
     "iopub.execute_input": "2020-10-22T16:40:56.647376Z",
     "iopub.status.busy": "2020-10-22T16:40:56.646801Z",
     "iopub.status.idle": "2020-10-22T16:40:56.825657Z",
     "shell.execute_reply": "2020-10-22T16:40:56.825139Z"
    }
   },
   "outputs": [],
   "source": [
    "%matplotlib inline\n",
    "import time\n",
    "import matplotlib.pyplot as plt\n",
    "import numpy as np\n",
    "\n",
    "import qcodes as qc\n",
    "from qcodes.instrument.parameter import ManualParameter\n",
    "from qcodes.dataset.experiment_container import (Experiment,\n",
    "                                                 load_last_experiment,\n",
    "                                                 new_experiment)\n",
    "from qcodes.dataset.sqlite.database import initialise_database\n",
    "from qcodes import load_or_create_experiment\n",
    "from qcodes.dataset.measurements import Measurement"
   ]
  },
  {
   "cell_type": "code",
   "execution_count": 3,
   "metadata": {
    "execution": {
     "iopub.execute_input": "2020-10-22T16:40:56.829850Z",
     "iopub.status.busy": "2020-10-22T16:40:56.829148Z",
     "iopub.status.idle": "2020-10-22T16:40:56.925928Z",
     "shell.execute_reply": "2020-10-22T16:40:56.925325Z"
    }
   },
   "outputs": [
    {
     "name": "stdout",
     "output_type": "stream",
     "text": [
      "\r",
      "0it [00:00, ?it/s]"
     ]
    },
    {
     "name": "stdout",
     "output_type": "stream",
     "text": [
      "\r",
      "Upgrading database; v0 -> v1: : 0it [00:00, ?it/s]"
     ]
    },
    {
     "name": "stdout",
     "output_type": "stream",
     "text": [
      "\r",
      "Upgrading database; v0 -> v1: : 0it [00:00, ?it/s]"
     ]
    },
    {
     "name": "stdout",
     "output_type": "stream",
     "text": [
      "\n",
      "\r",
      "  0%|          | 0/1 [00:00<?, ?it/s]"
     ]
    },
    {
     "name": "stdout",
     "output_type": "stream",
     "text": [
      "\r",
      "Upgrading database; v1 -> v2:   0%|          | 0/1 [00:00<?, ?it/s]"
     ]
    },
    {
     "name": "stdout",
     "output_type": "stream",
     "text": [
      "\r",
      "Upgrading database; v1 -> v2: 100%|██████████| 1/1 [00:00<00:00, 838.36it/s]"
     ]
    },
    {
     "name": "stdout",
     "output_type": "stream",
     "text": [
      "\n",
      "\r",
      "0it [00:00, ?it/s]"
     ]
    },
    {
     "name": "stdout",
     "output_type": "stream",
     "text": [
      "\r",
      "Upgrading database; v2 -> v3: : 0it [00:00, ?it/s]"
     ]
    },
    {
     "name": "stdout",
     "output_type": "stream",
     "text": [
      "\r",
      "Upgrading database; v2 -> v3: : 0it [00:00, ?it/s]"
     ]
    },
    {
     "name": "stdout",
     "output_type": "stream",
     "text": [
      "\n",
      "\r",
      "0it [00:00, ?it/s]"
     ]
    },
    {
     "name": "stdout",
     "output_type": "stream",
     "text": [
      "\r",
      "Upgrading database; v3 -> v4: : 0it [00:00, ?it/s]"
     ]
    },
    {
     "name": "stdout",
     "output_type": "stream",
     "text": [
      "\r",
      "Upgrading database; v3 -> v4: : 0it [00:00, ?it/s]"
     ]
    },
    {
     "name": "stdout",
     "output_type": "stream",
     "text": [
      "\n",
      "\r",
      "  0%|          | 0/1 [00:00<?, ?it/s]"
     ]
    },
    {
     "name": "stdout",
     "output_type": "stream",
     "text": [
      "\r",
      "Upgrading database; v4 -> v5:   0%|          | 0/1 [00:00<?, ?it/s]"
     ]
    },
    {
     "name": "stdout",
     "output_type": "stream",
     "text": [
      "\r",
      "Upgrading database; v4 -> v5: 100%|██████████| 1/1 [00:00<00:00, 614.10it/s]"
     ]
    },
    {
     "name": "stdout",
     "output_type": "stream",
     "text": [
      "\n",
      "\r",
      "0it [00:00, ?it/s]"
     ]
    },
    {
     "name": "stdout",
     "output_type": "stream",
     "text": [
      "\r",
      "Upgrading database; v5 -> v6: : 0it [00:00, ?it/s]"
     ]
    },
    {
     "name": "stdout",
     "output_type": "stream",
     "text": [
      "\r",
      "Upgrading database; v5 -> v6: : 0it [00:00, ?it/s]"
     ]
    },
    {
     "name": "stdout",
     "output_type": "stream",
     "text": [
      "\n",
      "\r",
      "  0%|          | 0/1 [00:00<?, ?it/s]"
     ]
    },
    {
     "name": "stdout",
     "output_type": "stream",
     "text": [
      "\r",
      "Upgrading database; v6 -> v7:   0%|          | 0/1 [00:00<?, ?it/s]"
     ]
    },
    {
     "name": "stdout",
     "output_type": "stream",
     "text": [
      "\r",
      "Upgrading database; v6 -> v7: 100%|██████████| 1/1 [00:00<00:00, 463.61it/s]"
     ]
    },
    {
     "name": "stdout",
     "output_type": "stream",
     "text": [
      "\n",
      "\r",
      "  0%|          | 0/1 [00:00<?, ?it/s]"
     ]
    },
    {
     "name": "stdout",
     "output_type": "stream",
     "text": [
      "\r",
      "Upgrading database; v7 -> v8:   0%|          | 0/1 [00:00<?, ?it/s]"
     ]
    },
    {
     "name": "stdout",
     "output_type": "stream",
     "text": [
      "\r",
      "Upgrading database; v7 -> v8: 100%|██████████| 1/1 [00:00<00:00, 509.64it/s]"
     ]
    },
    {
     "name": "stdout",
     "output_type": "stream",
     "text": [
      "\n",
      "\r",
      "  0%|          | 0/1 [00:00<?, ?it/s]"
     ]
    },
    {
     "name": "stdout",
     "output_type": "stream",
     "text": [
      "\r",
      "Upgrading database; v8 -> v9:   0%|          | 0/1 [00:00<?, ?it/s]"
     ]
    },
    {
     "name": "stdout",
     "output_type": "stream",
     "text": [
      "\r",
      "Upgrading database; v8 -> v9: 100%|██████████| 1/1 [00:00<00:00, 526.13it/s]"
     ]
    },
    {
     "name": "stdout",
     "output_type": "stream",
     "text": [
      "\n"
     ]
    }
   ],
   "source": [
    "initialise_database()\n",
    "exp = load_or_create_experiment(experiment_name='tutorial_exp', sample_name=\"no sample\")"
   ]
  },
  {
   "cell_type": "markdown",
   "metadata": {},
   "source": [
    "Here, we define a simple function to benchmark the time it takes to insert n points with either numeric or array data type.\n",
    "We will compare both the time used to call ``add_result`` and the time used for the full measurement."
   ]
  },
  {
   "cell_type": "code",
   "execution_count": 4,
   "metadata": {
    "execution": {
     "iopub.execute_input": "2020-10-22T16:40:56.933997Z",
     "iopub.status.busy": "2020-10-22T16:40:56.933251Z",
     "iopub.status.idle": "2020-10-22T16:40:56.938778Z",
     "shell.execute_reply": "2020-10-22T16:40:56.937906Z"
    }
   },
   "outputs": [],
   "source": [
    "def insert_data(paramtype, npoints, nreps=1):\n",
    "\n",
    "    meas = Measurement(exp=exp)\n",
    "\n",
    "    x1 = ManualParameter('x1')\n",
    "    x2 = ManualParameter('x2')\n",
    "    x3 = ManualParameter('x3')\n",
    "    y1 = ManualParameter('y1')\n",
    "    y2 = ManualParameter('y2')\n",
    "\n",
    "    meas.register_parameter(x1, paramtype=paramtype)\n",
    "    meas.register_parameter(x2, paramtype=paramtype)\n",
    "    meas.register_parameter(x3, paramtype=paramtype)\n",
    "    meas.register_parameter(y1, setpoints=[x1, x2, x3],\n",
    "                            paramtype=paramtype)\n",
    "    meas.register_parameter(y2, setpoints=[x1, x2, x3],\n",
    "                            paramtype=paramtype)\n",
    "    start = time.perf_counter()\n",
    "    with meas.run() as datasaver:\n",
    "        start_adding = time.perf_counter()\n",
    "        for i in range(nreps):\n",
    "            datasaver.add_result((x1, np.random.rand(npoints)),\n",
    "                                 (x2, np.random.rand(npoints)),\n",
    "                                 (x3, np.random.rand(npoints)),\n",
    "                                 (y1, np.random.rand(npoints)),\n",
    "                                 (y2, np.random.rand(npoints)))\n",
    "        stop_adding = time.perf_counter()\n",
    "        run_id = datasaver.run_id\n",
    "    stop = time.perf_counter()\n",
    "    tot_time = stop - start\n",
    "    add_time = stop_adding - start_adding\n",
    "    return tot_time, add_time, run_id"
   ]
  },
  {
   "cell_type": "markdown",
   "metadata": {},
   "source": [
    "## Comparison between numeric/array data and binary blob"
   ]
  },
  {
   "cell_type": "markdown",
   "metadata": {},
   "source": [
    "### Case1: Short experiment time"
   ]
  },
  {
   "cell_type": "code",
   "execution_count": 5,
   "metadata": {
    "execution": {
     "iopub.execute_input": "2020-10-22T16:40:56.945051Z",
     "iopub.status.busy": "2020-10-22T16:40:56.943862Z",
     "iopub.status.idle": "2020-10-22T16:40:57.724849Z",
     "shell.execute_reply": "2020-10-22T16:40:57.724350Z"
    }
   },
   "outputs": [
    {
     "name": "stdout",
     "output_type": "stream",
     "text": [
      "Starting experimental run with id: 1. \n",
      "Starting experimental run with id: 2. \n",
      "Starting experimental run with id: 3. \n",
      "Starting experimental run with id: 4. \n",
      "Starting experimental run with id: 5. \n"
     ]
    },
    {
     "name": "stdout",
     "output_type": "stream",
     "text": [
      "Starting experimental run with id: 6. \n"
     ]
    },
    {
     "name": "stdout",
     "output_type": "stream",
     "text": [
      "Starting experimental run with id: 7. \n"
     ]
    },
    {
     "name": "stdout",
     "output_type": "stream",
     "text": [
      "Starting experimental run with id: 8. \n",
      "Starting experimental run with id: 9. \n"
     ]
    },
    {
     "name": "stdout",
     "output_type": "stream",
     "text": [
      "Starting experimental run with id: 10. \n"
     ]
    },
    {
     "name": "stdout",
     "output_type": "stream",
     "text": [
      "Starting experimental run with id: 11. \n"
     ]
    },
    {
     "name": "stdout",
     "output_type": "stream",
     "text": [
      "Starting experimental run with id: 12. \n",
      "Starting experimental run with id: 13. \n"
     ]
    },
    {
     "name": "stdout",
     "output_type": "stream",
     "text": [
      "Starting experimental run with id: 14. \n"
     ]
    }
   ],
   "source": [
    "sizes = [1,500,1000,2000,3000,4000,5000]\n",
    "t_numeric = []\n",
    "t_numeric_add = []\n",
    "t_array = []\n",
    "t_array_add = []\n",
    "for size in sizes:\n",
    "    tn, tna, run_id_n =  insert_data('numeric', size)\n",
    "    t_numeric.append(tn)\n",
    "    t_numeric_add.append(tna)\n",
    "\n",
    "    ta, taa, run_id_a =  insert_data('array', size)\n",
    "    t_array.append(ta)\n",
    "    t_array_add.append(taa)"
   ]
  },
  {
   "cell_type": "code",
   "execution_count": 6,
   "metadata": {
    "execution": {
     "iopub.execute_input": "2020-10-22T16:40:57.746629Z",
     "iopub.status.busy": "2020-10-22T16:40:57.743867Z",
     "iopub.status.idle": "2020-10-22T16:40:57.964640Z",
     "shell.execute_reply": "2020-10-22T16:40:57.964109Z"
    }
   },
   "outputs": [
    {
     "data": {
      "image/png": "[encoded data removed]",
      "text/plain": [
       "<Figure size 432x288 with 1 Axes>"
      ]
     },
     "metadata": {
      "needs_background": "light"
     },
     "output_type": "display_data"
    }
   ],
   "source": [
    "fig, ax = plt.subplots(1,1)\n",
    "ax.plot(sizes, t_numeric, 'o-', label='Inserting row-by-row')\n",
    "ax.plot(sizes, t_numeric_add, 'o-', label='Inserting row-by-row: add_result only')\n",
    "ax.plot(sizes, t_array, 'd-', label='Inserting as binary blob')\n",
    "ax.plot(sizes, t_array_add, 'd-', label='Inserting as binary blob: add_result only')\n",
    "ax.legend()\n",
    "ax.set_xlabel('Array length')\n",
    "ax.set_ylabel('Time (s)')\n",
    "fig.tight_layout()"
   ]
  },
  {
   "cell_type": "markdown",
   "metadata": {},
   "source": [
    "As shown in the latter figure, the time to setup and and close the experiment is approximately 0.4 sec. In case of small array sizes, the difference between inserting values of data as arrays and inserting them row-by-row is relatively unimportant. At larger array sizes, i.e. above 10000 points, the cost of writing data as individual datapoints starts to become important.\n"
   ]
  },
  {
   "cell_type": "markdown",
   "metadata": {},
   "source": [
    "### Case2: Long experiment time "
   ]
  },
  {
   "cell_type": "code",
   "execution_count": 7,
   "metadata": {
    "execution": {
     "iopub.execute_input": "2020-10-22T16:40:57.973241Z",
     "iopub.status.busy": "2020-10-22T16:40:57.972653Z",
     "iopub.status.idle": "2020-10-22T16:41:52.772286Z",
     "shell.execute_reply": "2020-10-22T16:41:52.771515Z"
    }
   },
   "outputs": [
    {
     "name": "stdout",
     "output_type": "stream",
     "text": [
      "Starting experimental run with id: 15. \n",
      "Starting experimental run with id: 16. \n",
      "Starting experimental run with id: 17. \n"
     ]
    },
    {
     "name": "stdout",
     "output_type": "stream",
     "text": [
      "Starting experimental run with id: 18. \n",
      "Starting experimental run with id: 19. \n"
     ]
    },
    {
     "name": "stdout",
     "output_type": "stream",
     "text": [
      "Starting experimental run with id: 20. \n"
     ]
    },
    {
     "name": "stdout",
     "output_type": "stream",
     "text": [
      "Starting experimental run with id: 21. \n"
     ]
    },
    {
     "name": "stdout",
     "output_type": "stream",
     "text": [
      "Starting experimental run with id: 22. \n"
     ]
    },
    {
     "name": "stdout",
     "output_type": "stream",
     "text": [
      "Starting experimental run with id: 23. \n"
     ]
    },
    {
     "name": "stdout",
     "output_type": "stream",
     "text": [
      "Starting experimental run with id: 24. \n"
     ]
    },
    {
     "name": "stdout",
     "output_type": "stream",
     "text": [
      "Starting experimental run with id: 25. \n"
     ]
    },
    {
     "name": "stdout",
     "output_type": "stream",
     "text": [
      "Starting experimental run with id: 26. \n"
     ]
    },
    {
     "name": "stdout",
     "output_type": "stream",
     "text": [
      "Starting experimental run with id: 27. \n"
     ]
    },
    {
     "name": "stdout",
     "output_type": "stream",
     "text": [
      "Starting experimental run with id: 28. \n"
     ]
    }
   ],
   "source": [
    "sizes = [1,500,1000,2000,3000,4000,5000]\n",
    "nreps = 100\n",
    "t_numeric = []\n",
    "t_numeric_add = []\n",
    "t_numeric_run_ids = []\n",
    "t_array = []\n",
    "t_array_add = []\n",
    "t_array_run_ids = []\n",
    "for size in sizes:\n",
    "    tn, tna, run_id_n =  insert_data('numeric', size, nreps=nreps)\n",
    "    t_numeric.append(tn)\n",
    "    t_numeric_add.append(tna)\n",
    "    t_numeric_run_ids.append(run_id_n)\n",
    "\n",
    "    ta, taa, run_id_a =  insert_data('array', size, nreps=nreps)\n",
    "    t_array.append(ta)\n",
    "    t_array_add.append(taa)\n",
    "    t_array_run_ids.append(run_id_a)"
   ]
  },
  {
   "cell_type": "code",
   "execution_count": 8,
   "metadata": {
    "execution": {
     "iopub.execute_input": "2020-10-22T16:41:52.799690Z",
     "iopub.status.busy": "2020-10-22T16:41:52.782190Z",
     "iopub.status.idle": "2020-10-22T16:41:53.018705Z",
     "shell.execute_reply": "2020-10-22T16:41:53.019152Z"
    },
    "scrolled": true
   },
   "outputs": [
    {
     "data": {
      "image/png": "[encoded data removed]",
      "text/plain": [
       "<Figure size 432x288 with 1 Axes>"
      ]
     },
     "metadata": {
      "needs_background": "light"
     },
     "output_type": "display_data"
    }
   ],
   "source": [
    "fig, ax = plt.subplots(1,1)\n",
    "ax.plot(sizes, t_numeric, 'o-', label='Inserting row-by-row')\n",
    "ax.plot(sizes, t_numeric_add, 'o-', label='Inserting row-by-row: add_result only')\n",
    "ax.plot(sizes, t_array, 'd-', label='Inserting as binary blob')\n",
    "ax.plot(sizes, t_array_add, 'd-', label='Inserting as binary blob: add_result only')\n",
    "ax.legend()\n",
    "ax.set_xlabel('Array length')\n",
    "ax.set_ylabel('Time (s)')\n",
    "fig.tight_layout()"
   ]
  },
  {
   "cell_type": "markdown",
   "metadata": {},
   "source": [
    "However, as we increase the length of the experiment, as seen here by repeating the insertion 100 times, we see a big difference between inserting values of the data row-by-row and inserting it as a binary blob."
   ]
  },
  {
   "cell_type": "markdown",
   "metadata": {},
   "source": [
    "## Loading the data "
   ]
  },
  {
   "cell_type": "code",
   "execution_count": 9,
   "metadata": {
    "execution": {
     "iopub.execute_input": "2020-10-22T16:41:53.023706Z",
     "iopub.status.busy": "2020-10-22T16:41:53.022590Z",
     "iopub.status.idle": "2020-10-22T16:41:53.026800Z",
     "shell.execute_reply": "2020-10-22T16:41:53.026303Z"
    }
   },
   "outputs": [],
   "source": [
    "from qcodes.dataset.data_set import load_by_id\n",
    "from qcodes.dataset.data_export import get_data_by_id"
   ]
  },
  {
   "cell_type": "markdown",
   "metadata": {},
   "source": [
    "As usual you can load the data by using the ``load_by_id`` function but you will notice that the different storage methods\n",
    "are reflected in shape of the data as it is retrieved. "
   ]
  },
  {
   "cell_type": "code",
   "execution_count": 10,
   "metadata": {
    "execution": {
     "iopub.execute_input": "2020-10-22T16:41:53.031804Z",
     "iopub.status.busy": "2020-10-22T16:41:53.030287Z",
     "iopub.status.idle": "2020-10-22T16:41:53.032475Z",
     "shell.execute_reply": "2020-10-22T16:41:53.033172Z"
    }
   },
   "outputs": [],
   "source": [
    "run_id_n = t_numeric_run_ids[0]\n",
    "run_id_a = t_array_run_ids[0]"
   ]
  },
  {
   "cell_type": "code",
   "execution_count": 11,
   "metadata": {
    "execution": {
     "iopub.execute_input": "2020-10-22T16:41:53.036737Z",
     "iopub.status.busy": "2020-10-22T16:41:53.036187Z",
     "iopub.status.idle": "2020-10-22T16:41:53.045097Z",
     "shell.execute_reply": "2020-10-22T16:41:53.044658Z"
    },
    "scrolled": true
   },
   "outputs": [
    {
     "data": {
      "text/plain": [
       "{'x1': {'x1': array([0.47984294, 0.47984294, 0.21453806, 0.21453806, 0.98975204,\n",
       "         0.98975204, 0.05058088, 0.05058088, 0.78076116, 0.78076116,\n",
       "         0.04694652, 0.04694652, 0.69610362, 0.69610362, 0.16553251,\n",
       "         0.16553251, 0.71908411, 0.71908411, 0.28906175, 0.28906175,\n",
       "         0.65540427, 0.65540427, 0.74588742, 0.74588742, 0.06506387,\n",
       "         0.06506387, 0.69292498, 0.69292498, 0.56050139, 0.56050139,\n",
       "         0.21560717, 0.21560717, 0.27900973, 0.27900973, 0.46128714,\n",
       "         0.46128714, 0.63610082, 0.63610082, 0.83651191, 0.83651191,\n",
       "         0.50755653, 0.50755653, 0.63373781, 0.63373781, 0.91010233,\n",
       "         0.91010233, 0.63550003, 0.63550003, 0.83136614, 0.83136614,\n",
       "         0.84468359, 0.84468359, 0.35714959, 0.35714959, 0.63490651,\n",
       "         0.63490651, 0.700954  , 0.700954  , 0.22666868, 0.22666868,\n",
       "         0.22349475, 0.22349475, 0.95246048, 0.95246048, 0.02796624,\n",
       "         0.02796624, 0.0383499 , 0.0383499 , 0.6220471 , 0.6220471 ,\n",
       "         0.82995048, 0.82995048, 0.78136439, 0.78136439, 0.69483802,\n",
       "         0.69483802, 0.26546056, 0.26546056, 0.95394822, 0.95394822,\n",
       "         0.18994812, 0.18994812, 0.00400853, 0.00400853, 0.62667645,\n",
       "         0.62667645, 0.81188462, 0.81188462, 0.47036164, 0.47036164,\n",
       "         0.15196084, 0.15196084, 0.53094118, 0.53094118, 0.55966826,\n",
       "         0.55966826, 0.86086263, 0.86086263, 0.21661974, 0.21661974,\n",
       "         0.89966676, 0.89966676, 0.250027  , 0.250027  , 0.3393508 ,\n",
       "         0.3393508 , 0.83664755, 0.83664755, 0.63755155, 0.63755155,\n",
       "         0.06626279, 0.06626279, 0.9028065 , 0.9028065 , 0.30460826,\n",
       "         0.30460826, 0.9692218 , 0.9692218 , 0.42506769, 0.42506769,\n",
       "         0.77247484, 0.77247484, 0.78483391, 0.78483391, 0.83454819,\n",
       "         0.83454819, 0.53475891, 0.53475891, 0.10842034, 0.10842034,\n",
       "         0.63940302, 0.63940302, 0.05540525, 0.05540525, 0.68416886,\n",
       "         0.68416886, 0.65406118, 0.65406118, 0.81181318, 0.81181318,\n",
       "         0.95112322, 0.95112322, 0.05883412, 0.05883412, 0.00844188,\n",
       "         0.00844188, 0.30543791, 0.30543791, 0.49010889, 0.49010889,\n",
       "         0.87972632, 0.87972632, 0.07795594, 0.07795594, 0.69403279,\n",
       "         0.69403279, 0.03083507, 0.03083507, 0.72136116, 0.72136116,\n",
       "         0.68441015, 0.68441015, 0.98235278, 0.98235278, 0.88444274,\n",
       "         0.88444274, 0.73587271, 0.73587271, 0.62647044, 0.62647044,\n",
       "         0.77751698, 0.77751698, 0.8530881 , 0.8530881 , 0.58417471,\n",
       "         0.58417471, 0.01442087, 0.01442087, 0.39210961, 0.39210961,\n",
       "         0.61349678, 0.61349678, 0.79711111, 0.79711111, 0.44852768,\n",
       "         0.44852768, 0.85745951, 0.85745951, 0.66850705, 0.66850705,\n",
       "         0.93264895, 0.93264895, 0.0431249 , 0.0431249 , 0.33215135,\n",
       "         0.33215135, 0.14997387, 0.14997387, 0.17979331, 0.17979331])}}"
      ]
     },
     "execution_count": 1,
     "metadata": {},
     "output_type": "execute_result"
    }
   ],
   "source": [
    "ds = load_by_id(run_id_n)\n",
    "ds.get_parameter_data('x1')"
   ]
  },
  {
   "cell_type": "markdown",
   "metadata": {},
   "source": [
    "And a dataset stored as binary arrays"
   ]
  },
  {
   "cell_type": "code",
   "execution_count": 12,
   "metadata": {
    "execution": {
     "iopub.execute_input": "2020-10-22T16:41:53.048951Z",
     "iopub.status.busy": "2020-10-22T16:41:53.048196Z",
     "iopub.status.idle": "2020-10-22T16:41:53.102239Z",
     "shell.execute_reply": "2020-10-22T16:41:53.102657Z"
    },
    "scrolled": true
   },
   "outputs": [
    {
     "data": {
      "text/plain": [
       "{'x1': {'x1': array([[0.14771829],\n",
       "         [0.14771829],\n",
       "         [0.03142945],\n",
       "         [0.03142945],\n",
       "         [0.94071228],\n",
       "         [0.94071228],\n",
       "         [0.33007518],\n",
       "         [0.33007518],\n",
       "         [0.04507971],\n",
       "         [0.04507971],\n",
       "         [0.05159119],\n",
       "         [0.05159119],\n",
       "         [0.15908587],\n",
       "         [0.15908587],\n",
       "         [0.23171475],\n",
       "         [0.23171475],\n",
       "         [0.19232731],\n",
       "         [0.19232731],\n",
       "         [0.7611818 ],\n",
       "         [0.7611818 ],\n",
       "         [0.20287343],\n",
       "         [0.20287343],\n",
       "         [0.71426316],\n",
       "         [0.71426316],\n",
       "         [0.22659772],\n",
       "         [0.22659772],\n",
       "         [0.20897193],\n",
       "         [0.20897193],\n",
       "         [0.50970334],\n",
       "         [0.50970334],\n",
       "         [0.37827917],\n",
       "         [0.37827917],\n",
       "         [0.87278899],\n",
       "         [0.87278899],\n",
       "         [0.83154078],\n",
       "         [0.83154078],\n",
       "         [0.26062855],\n",
       "         [0.26062855],\n",
       "         [0.12608373],\n",
       "         [0.12608373],\n",
       "         [0.44540843],\n",
       "         [0.44540843],\n",
       "         [0.82306459],\n",
       "         [0.82306459],\n",
       "         [0.81295805],\n",
       "         [0.81295805],\n",
       "         [0.43199111],\n",
       "         [0.43199111],\n",
       "         [0.06881713],\n",
       "         [0.06881713],\n",
       "         [0.97631213],\n",
       "         [0.97631213],\n",
       "         [0.36076471],\n",
       "         [0.36076471],\n",
       "         [0.23001821],\n",
       "         [0.23001821],\n",
       "         [0.32254698],\n",
       "         [0.32254698],\n",
       "         [0.33736194],\n",
       "         [0.33736194],\n",
       "         [0.98433831],\n",
       "         [0.98433831],\n",
       "         [0.0404994 ],\n",
       "         [0.0404994 ],\n",
       "         [0.09571775],\n",
       "         [0.09571775],\n",
       "         [0.08054752],\n",
       "         [0.08054752],\n",
       "         [0.56691253],\n",
       "         [0.56691253],\n",
       "         [0.84462611],\n",
       "         [0.84462611],\n",
       "         [0.46867854],\n",
       "         [0.46867854],\n",
       "         [0.15665784],\n",
       "         [0.15665784],\n",
       "         [0.82944823],\n",
       "         [0.82944823],\n",
       "         [0.37278196],\n",
       "         [0.37278196],\n",
       "         [0.89580871],\n",
       "         [0.89580871],\n",
       "         [0.2640363 ],\n",
       "         [0.2640363 ],\n",
       "         [0.51283195],\n",
       "         [0.51283195],\n",
       "         [0.1190052 ],\n",
       "         [0.1190052 ],\n",
       "         [0.58428725],\n",
       "         [0.58428725],\n",
       "         [0.04246743],\n",
       "         [0.04246743],\n",
       "         [0.72315609],\n",
       "         [0.72315609],\n",
       "         [0.28241572],\n",
       "         [0.28241572],\n",
       "         [0.05801605],\n",
       "         [0.05801605],\n",
       "         [0.72760962],\n",
       "         [0.72760962],\n",
       "         [0.63466618],\n",
       "         [0.63466618],\n",
       "         [0.78200171],\n",
       "         [0.78200171],\n",
       "         [0.73825401],\n",
       "         [0.73825401],\n",
       "         [0.97331985],\n",
       "         [0.97331985],\n",
       "         [0.18086556],\n",
       "         [0.18086556],\n",
       "         [0.14262644],\n",
       "         [0.14262644],\n",
       "         [0.21165698],\n",
       "         [0.21165698],\n",
       "         [0.87980837],\n",
       "         [0.87980837],\n",
       "         [0.41983769],\n",
       "         [0.41983769],\n",
       "         [0.20150733],\n",
       "         [0.20150733],\n",
       "         [0.62598422],\n",
       "         [0.62598422],\n",
       "         [0.06070569],\n",
       "         [0.06070569],\n",
       "         [0.21220939],\n",
       "         [0.21220939],\n",
       "         [0.17463347],\n",
       "         [0.17463347],\n",
       "         [0.09509901],\n",
       "         [0.09509901],\n",
       "         [0.89916358],\n",
       "         [0.89916358],\n",
       "         [0.16615926],\n",
       "         [0.16615926],\n",
       "         [0.68544941],\n",
       "         [0.68544941],\n",
       "         [0.44356973],\n",
       "         [0.44356973],\n",
       "         [0.5168051 ],\n",
       "         [0.5168051 ],\n",
       "         [0.48667685],\n",
       "         [0.48667685],\n",
       "         [0.3784826 ],\n",
       "         [0.3784826 ],\n",
       "         [0.67879015],\n",
       "         [0.67879015],\n",
       "         [0.87950702],\n",
       "         [0.87950702],\n",
       "         [0.49901659],\n",
       "         [0.49901659],\n",
       "         [0.12679726],\n",
       "         [0.12679726],\n",
       "         [0.02237727],\n",
       "         [0.02237727],\n",
       "         [0.15604424],\n",
       "         [0.15604424],\n",
       "         [0.30768228],\n",
       "         [0.30768228],\n",
       "         [0.71784928],\n",
       "         [0.71784928],\n",
       "         [0.67790424],\n",
       "         [0.67790424],\n",
       "         [0.42853317],\n",
       "         [0.42853317],\n",
       "         [0.24217562],\n",
       "         [0.24217562],\n",
       "         [0.43661806],\n",
       "         [0.43661806],\n",
       "         [0.82108349],\n",
       "         [0.82108349],\n",
       "         [0.72113124],\n",
       "         [0.72113124],\n",
       "         [0.42866329],\n",
       "         [0.42866329],\n",
       "         [0.88739619],\n",
       "         [0.88739619],\n",
       "         [0.10311034],\n",
       "         [0.10311034],\n",
       "         [0.99122611],\n",
       "         [0.99122611],\n",
       "         [0.95367265],\n",
       "         [0.95367265],\n",
       "         [0.72658147],\n",
       "         [0.72658147],\n",
       "         [0.69054968],\n",
       "         [0.69054968],\n",
       "         [0.78699085],\n",
       "         [0.78699085],\n",
       "         [0.81695706],\n",
       "         [0.81695706],\n",
       "         [0.06983763],\n",
       "         [0.06983763],\n",
       "         [0.95559973],\n",
       "         [0.95559973],\n",
       "         [0.08760427],\n",
       "         [0.08760427],\n",
       "         [0.29749135],\n",
       "         [0.29749135],\n",
       "         [0.60949652],\n",
       "         [0.60949652]])}}"
      ]
     },
     "execution_count": 1,
     "metadata": {},
     "output_type": "execute_result"
    }
   ],
   "source": [
    "ds = load_by_id(run_id_a)\n",
    "ds.get_parameter_data('x1')"
   ]
  },
  {
   "cell_type": "code",
   "execution_count": null,
   "metadata": {},
   "outputs": [],
   "source": []
  }
 ],
 "metadata": {
  "kernelspec": {
   "display_name": "Python 3",
   "language": "python",
   "name": "python3"
  },
  "language_info": {
   "codemirror_mode": {
    "name": "ipython",
    "version": 3
   },
   "file_extension": ".py",
   "mimetype": "text/x-python",
   "name": "python",
   "nbconvert_exporter": "python",
   "pygments_lexer": "ipython3",
   "version": "3.7.7"
  },
  "nbsphinx": {
   "timeout": 600
  },
  "toc": {
   "base_numbering": 1,
   "nav_menu": {},
   "number_sections": true,
   "sideBar": true,
   "skip_h1_title": false,
   "title_cell": "Table of Contents",
   "title_sidebar": "Contents",
   "toc_cell": false,
   "toc_position": {},
   "toc_section_display": true,
   "toc_window_display": false
  },
  "varInspector": {
   "cols": {
    "lenName": 16,
    "lenType": 16,
    "lenVar": 40
   },
   "kernels_config": {
    "python": {
     "delete_cmd_postfix": "",
     "delete_cmd_prefix": "del ",
     "library": "var_list.py",
     "varRefreshCmd": "print(var_dic_list())"
    },
    "r": {
     "delete_cmd_postfix": ") ",
     "delete_cmd_prefix": "rm(",
     "library": "var_list.r",
     "varRefreshCmd": "cat(var_dic_list()) "
    }
   },
   "types_to_exclude": [
    "module",
    "function",
    "builtin_function_or_method",
    "instance",
    "_Feature"
   ],
   "window_display": false
  }
 },
 "nbformat": 4,
 "nbformat_minor": 2
}
