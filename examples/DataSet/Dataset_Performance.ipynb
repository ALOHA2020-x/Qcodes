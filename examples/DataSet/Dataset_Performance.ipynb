{
 "cells": [
  {
   "cell_type": "markdown",
   "metadata": {},
   "source": [
    "# DataSet Performance\n",
    "\n",
    "This notebook shows the trade-off between inserting data into a database row-by-row and as binary blobs. Inserting the data row-by-row means that we have direct access to all the data and may perform queries directly on the values of the data. On the other hand, as we shall see, this is much slower than inserting the data directly as binary blobs."
   ]
  },
  {
   "cell_type": "markdown",
   "metadata": {},
   "source": [
    "First, we choose a new location for the database to ensure that we don't add a bunch of benchmarking data to the default one."
   ]
  },
  {
   "cell_type": "code",
   "execution_count": 1,
   "metadata": {
    "execution": {
     "iopub.execute_input": "2020-10-27T07:41:12.119387Z",
     "iopub.status.busy": "2020-10-27T07:41:12.118780Z",
     "iopub.status.idle": "2020-10-27T07:41:13.225936Z",
     "shell.execute_reply": "2020-10-27T07:41:13.225349Z"
    }
   },
   "outputs": [
    {
     "name": "stdout",
     "output_type": "stream",
     "text": [
      "Logging hadn't been started.\n",
      "Activating auto-logging. Current session state plus future input saved.\n",
      "Filename       : /home/vsts/.qcodes/logs/command_history.log\n",
      "Mode           : append\n",
      "Output logging : True\n",
      "Raw input log  : False\n",
      "Timestamping   : True\n",
      "State          : active\n"
     ]
    },
    {
     "name": "stdout",
     "output_type": "stream",
     "text": [
      "Qcodes Logfile : /home/vsts/.qcodes/logs/201027-15251-qcodes.log\n"
     ]
    }
   ],
   "source": [
    "import os\n",
    "cwd = os.getcwd()\n",
    "import qcodes as qc\n",
    "qc.config[\"core\"][\"db_location\"] = os.path.join(cwd, 'testing.db')\n"
   ]
  },
  {
   "cell_type": "code",
   "execution_count": 2,
   "metadata": {
    "execution": {
     "iopub.execute_input": "2020-10-27T07:41:13.233183Z",
     "iopub.status.busy": "2020-10-27T07:41:13.231887Z",
     "iopub.status.idle": "2020-10-27T07:41:13.422228Z",
     "shell.execute_reply": "2020-10-27T07:41:13.422972Z"
    }
   },
   "outputs": [],
   "source": [
    "%matplotlib inline\n",
    "import time\n",
    "import matplotlib.pyplot as plt\n",
    "import numpy as np\n",
    "\n",
    "import qcodes as qc\n",
    "from qcodes.instrument.parameter import ManualParameter\n",
    "from qcodes.dataset.experiment_container import (Experiment,\n",
    "                                                 load_last_experiment,\n",
    "                                                 new_experiment)\n",
    "from qcodes.dataset.sqlite.database import initialise_database\n",
    "from qcodes import load_or_create_experiment\n",
    "from qcodes.dataset.measurements import Measurement"
   ]
  },
  {
   "cell_type": "code",
   "execution_count": 3,
   "metadata": {
    "execution": {
     "iopub.execute_input": "2020-10-27T07:41:13.427800Z",
     "iopub.status.busy": "2020-10-27T07:41:13.426995Z",
     "iopub.status.idle": "2020-10-27T07:41:13.542389Z",
     "shell.execute_reply": "2020-10-27T07:41:13.541855Z"
    }
   },
   "outputs": [
    {
     "name": "stdout",
     "output_type": "stream",
     "text": [
      "\r",
      "0it [00:00, ?it/s]"
     ]
    },
    {
     "name": "stdout",
     "output_type": "stream",
     "text": [
      "\r",
      "Upgrading database; v0 -> v1: : 0it [00:00, ?it/s]"
     ]
    },
    {
     "name": "stdout",
     "output_type": "stream",
     "text": [
      "\r",
      "Upgrading database; v0 -> v1: : 0it [00:00, ?it/s]"
     ]
    },
    {
     "name": "stdout",
     "output_type": "stream",
     "text": [
      "\n",
      "\r",
      "  0%|          | 0/1 [00:00<?, ?it/s]"
     ]
    },
    {
     "name": "stdout",
     "output_type": "stream",
     "text": [
      "\r",
      "Upgrading database; v1 -> v2:   0%|          | 0/1 [00:00<?, ?it/s]"
     ]
    },
    {
     "name": "stdout",
     "output_type": "stream",
     "text": [
      "\r",
      "Upgrading database; v1 -> v2: 100%|██████████| 1/1 [00:00<00:00, 557.09it/s]"
     ]
    },
    {
     "name": "stdout",
     "output_type": "stream",
     "text": [
      "\n",
      "\r",
      "0it [00:00, ?it/s]"
     ]
    },
    {
     "name": "stdout",
     "output_type": "stream",
     "text": [
      "\r",
      "Upgrading database; v2 -> v3: : 0it [00:00, ?it/s]"
     ]
    },
    {
     "name": "stdout",
     "output_type": "stream",
     "text": [
      "\r",
      "Upgrading database; v2 -> v3: : 0it [00:00, ?it/s]"
     ]
    },
    {
     "name": "stdout",
     "output_type": "stream",
     "text": [
      "\n",
      "\r",
      "0it [00:00, ?it/s]"
     ]
    },
    {
     "name": "stdout",
     "output_type": "stream",
     "text": [
      "\r",
      "Upgrading database; v3 -> v4: : 0it [00:00, ?it/s]"
     ]
    },
    {
     "name": "stdout",
     "output_type": "stream",
     "text": [
      "\r",
      "Upgrading database; v3 -> v4: : 0it [00:00, ?it/s]"
     ]
    },
    {
     "name": "stdout",
     "output_type": "stream",
     "text": [
      "\n",
      "\r",
      "  0%|          | 0/1 [00:00<?, ?it/s]"
     ]
    },
    {
     "name": "stdout",
     "output_type": "stream",
     "text": [
      "\r",
      "Upgrading database; v4 -> v5:   0%|          | 0/1 [00:00<?, ?it/s]"
     ]
    },
    {
     "name": "stdout",
     "output_type": "stream",
     "text": [
      "\r",
      "Upgrading database; v4 -> v5: 100%|██████████| 1/1 [00:00<00:00, 444.22it/s]"
     ]
    },
    {
     "name": "stdout",
     "output_type": "stream",
     "text": [
      "\n",
      "\r",
      "0it [00:00, ?it/s]"
     ]
    },
    {
     "name": "stdout",
     "output_type": "stream",
     "text": [
      "\r",
      "Upgrading database; v5 -> v6: : 0it [00:00, ?it/s]"
     ]
    },
    {
     "name": "stdout",
     "output_type": "stream",
     "text": [
      "\r",
      "Upgrading database; v5 -> v6: : 0it [00:00, ?it/s]"
     ]
    },
    {
     "name": "stdout",
     "output_type": "stream",
     "text": [
      "\n",
      "\r",
      "  0%|          | 0/1 [00:00<?, ?it/s]"
     ]
    },
    {
     "name": "stdout",
     "output_type": "stream",
     "text": [
      "\r",
      "Upgrading database; v6 -> v7:   0%|          | 0/1 [00:00<?, ?it/s]"
     ]
    },
    {
     "name": "stdout",
     "output_type": "stream",
     "text": [
      "\r",
      "Upgrading database; v6 -> v7: 100%|██████████| 1/1 [00:00<00:00, 254.62it/s]"
     ]
    },
    {
     "name": "stdout",
     "output_type": "stream",
     "text": [
      "\n",
      "\r",
      "  0%|          | 0/1 [00:00<?, ?it/s]"
     ]
    },
    {
     "name": "stdout",
     "output_type": "stream",
     "text": [
      "\r",
      "Upgrading database; v7 -> v8:   0%|          | 0/1 [00:00<?, ?it/s]"
     ]
    },
    {
     "name": "stdout",
     "output_type": "stream",
     "text": [
      "\r",
      "Upgrading database; v7 -> v8: 100%|██████████| 1/1 [00:00<00:00, 441.65it/s]"
     ]
    },
    {
     "name": "stdout",
     "output_type": "stream",
     "text": [
      "\n",
      "\r",
      "  0%|          | 0/1 [00:00<?, ?it/s]"
     ]
    },
    {
     "name": "stdout",
     "output_type": "stream",
     "text": [
      "\r",
      "Upgrading database; v8 -> v9:   0%|          | 0/1 [00:00<?, ?it/s]"
     ]
    },
    {
     "name": "stdout",
     "output_type": "stream",
     "text": [
      "\r",
      "Upgrading database; v8 -> v9: 100%|██████████| 1/1 [00:00<00:00, 585.80it/s]"
     ]
    },
    {
     "name": "stdout",
     "output_type": "stream",
     "text": [
      "\n"
     ]
    }
   ],
   "source": [
    "initialise_database()\n",
    "exp = load_or_create_experiment(experiment_name='tutorial_exp', sample_name=\"no sample\")"
   ]
  },
  {
   "cell_type": "markdown",
   "metadata": {},
   "source": [
    "Here, we define a simple function to benchmark the time it takes to insert n points with either numeric or array data type.\n",
    "We will compare both the time used to call ``add_result`` and the time used for the full measurement."
   ]
  },
  {
   "cell_type": "code",
   "execution_count": 4,
   "metadata": {
    "execution": {
     "iopub.execute_input": "2020-10-27T07:41:13.552034Z",
     "iopub.status.busy": "2020-10-27T07:41:13.550788Z",
     "iopub.status.idle": "2020-10-27T07:41:13.552744Z",
     "shell.execute_reply": "2020-10-27T07:41:13.553200Z"
    }
   },
   "outputs": [],
   "source": [
    "def insert_data(paramtype, npoints, nreps=1):\n",
    "\n",
    "    meas = Measurement(exp=exp)\n",
    "\n",
    "    x1 = ManualParameter('x1')\n",
    "    x2 = ManualParameter('x2')\n",
    "    x3 = ManualParameter('x3')\n",
    "    y1 = ManualParameter('y1')\n",
    "    y2 = ManualParameter('y2')\n",
    "\n",
    "    meas.register_parameter(x1, paramtype=paramtype)\n",
    "    meas.register_parameter(x2, paramtype=paramtype)\n",
    "    meas.register_parameter(x3, paramtype=paramtype)\n",
    "    meas.register_parameter(y1, setpoints=[x1, x2, x3],\n",
    "                            paramtype=paramtype)\n",
    "    meas.register_parameter(y2, setpoints=[x1, x2, x3],\n",
    "                            paramtype=paramtype)\n",
    "    start = time.perf_counter()\n",
    "    with meas.run() as datasaver:\n",
    "        start_adding = time.perf_counter()\n",
    "        for i in range(nreps):\n",
    "            datasaver.add_result((x1, np.random.rand(npoints)),\n",
    "                                 (x2, np.random.rand(npoints)),\n",
    "                                 (x3, np.random.rand(npoints)),\n",
    "                                 (y1, np.random.rand(npoints)),\n",
    "                                 (y2, np.random.rand(npoints)))\n",
    "        stop_adding = time.perf_counter()\n",
    "        run_id = datasaver.run_id\n",
    "    stop = time.perf_counter()\n",
    "    tot_time = stop - start\n",
    "    add_time = stop_adding - start_adding\n",
    "    return tot_time, add_time, run_id"
   ]
  },
  {
   "cell_type": "markdown",
   "metadata": {},
   "source": [
    "## Comparison between numeric/array data and binary blob"
   ]
  },
  {
   "cell_type": "markdown",
   "metadata": {},
   "source": [
    "### Case1: Short experiment time"
   ]
  },
  {
   "cell_type": "code",
   "execution_count": 5,
   "metadata": {
    "execution": {
     "iopub.execute_input": "2020-10-27T07:41:13.559990Z",
     "iopub.status.busy": "2020-10-27T07:41:13.559330Z",
     "iopub.status.idle": "2020-10-27T07:41:14.421983Z",
     "shell.execute_reply": "2020-10-27T07:41:14.422482Z"
    }
   },
   "outputs": [
    {
     "name": "stdout",
     "output_type": "stream",
     "text": [
      "Starting experimental run with id: 1. \n",
      "Starting experimental run with id: 2. \n",
      "Starting experimental run with id: 3. \n",
      "Starting experimental run with id: 4. \n",
      "Starting experimental run with id: 5. \n"
     ]
    },
    {
     "name": "stdout",
     "output_type": "stream",
     "text": [
      "Starting experimental run with id: 6. \n"
     ]
    },
    {
     "name": "stdout",
     "output_type": "stream",
     "text": [
      "Starting experimental run with id: 7. \n"
     ]
    },
    {
     "name": "stdout",
     "output_type": "stream",
     "text": [
      "Starting experimental run with id: 8. \n",
      "Starting experimental run with id: 9. \n"
     ]
    },
    {
     "name": "stdout",
     "output_type": "stream",
     "text": [
      "Starting experimental run with id: 10. \n",
      "Starting experimental run with id: 11. \n"
     ]
    },
    {
     "name": "stdout",
     "output_type": "stream",
     "text": [
      "Starting experimental run with id: 12. \n"
     ]
    },
    {
     "name": "stdout",
     "output_type": "stream",
     "text": [
      "Starting experimental run with id: 13. \n"
     ]
    },
    {
     "name": "stdout",
     "output_type": "stream",
     "text": [
      "Starting experimental run with id: 14. \n"
     ]
    }
   ],
   "source": [
    "sizes = [1,500,1000,2000,3000,4000,5000]\n",
    "t_numeric = []\n",
    "t_numeric_add = []\n",
    "t_array = []\n",
    "t_array_add = []\n",
    "for size in sizes:\n",
    "    tn, tna, run_id_n =  insert_data('numeric', size)\n",
    "    t_numeric.append(tn)\n",
    "    t_numeric_add.append(tna)\n",
    "\n",
    "    ta, taa, run_id_a =  insert_data('array', size)\n",
    "    t_array.append(ta)\n",
    "    t_array_add.append(taa)"
   ]
  },
  {
   "cell_type": "code",
   "execution_count": 6,
   "metadata": {
    "execution": {
     "iopub.execute_input": "2020-10-27T07:41:14.465539Z",
     "iopub.status.busy": "2020-10-27T07:41:14.453022Z",
     "iopub.status.idle": "2020-10-27T07:41:14.625140Z",
     "shell.execute_reply": "2020-10-27T07:41:14.625683Z"
    }
   },
   "outputs": [
    {
     "data": {
      "image/png": "[encoded data removed]",
      "text/plain": [
       "<Figure size 432x288 with 1 Axes>"
      ]
     },
     "metadata": {
      "needs_background": "light"
     },
     "output_type": "display_data"
    }
   ],
   "source": [
    "fig, ax = plt.subplots(1,1)\n",
    "ax.plot(sizes, t_numeric, 'o-', label='Inserting row-by-row')\n",
    "ax.plot(sizes, t_numeric_add, 'o-', label='Inserting row-by-row: add_result only')\n",
    "ax.plot(sizes, t_array, 'd-', label='Inserting as binary blob')\n",
    "ax.plot(sizes, t_array_add, 'd-', label='Inserting as binary blob: add_result only')\n",
    "ax.legend()\n",
    "ax.set_xlabel('Array length')\n",
    "ax.set_ylabel('Time (s)')\n",
    "fig.tight_layout()"
   ]
  },
  {
   "cell_type": "markdown",
   "metadata": {},
   "source": [
    "As shown in the latter figure, the time to setup and and close the experiment is approximately 0.4 sec. In case of small array sizes, the difference between inserting values of data as arrays and inserting them row-by-row is relatively unimportant. At larger array sizes, i.e. above 10000 points, the cost of writing data as individual datapoints starts to become important.\n"
   ]
  },
  {
   "cell_type": "markdown",
   "metadata": {},
   "source": [
    "### Case2: Long experiment time "
   ]
  },
  {
   "cell_type": "code",
   "execution_count": 7,
   "metadata": {
    "execution": {
     "iopub.execute_input": "2020-10-27T07:41:14.635712Z",
     "iopub.status.busy": "2020-10-27T07:41:14.634500Z",
     "iopub.status.idle": "2020-10-27T07:42:16.315422Z",
     "shell.execute_reply": "2020-10-27T07:42:16.314214Z"
    }
   },
   "outputs": [
    {
     "name": "stdout",
     "output_type": "stream",
     "text": [
      "Starting experimental run with id: 15. \n",
      "Starting experimental run with id: 16. \n",
      "Starting experimental run with id: 17. \n"
     ]
    },
    {
     "name": "stdout",
     "output_type": "stream",
     "text": [
      "Starting experimental run with id: 18. \n",
      "Starting experimental run with id: 19. \n"
     ]
    },
    {
     "name": "stdout",
     "output_type": "stream",
     "text": [
      "Starting experimental run with id: 20. \n"
     ]
    },
    {
     "name": "stdout",
     "output_type": "stream",
     "text": [
      "Starting experimental run with id: 21. \n"
     ]
    },
    {
     "name": "stdout",
     "output_type": "stream",
     "text": [
      "Starting experimental run with id: 22. \n"
     ]
    },
    {
     "name": "stdout",
     "output_type": "stream",
     "text": [
      "Starting experimental run with id: 23. \n"
     ]
    },
    {
     "name": "stdout",
     "output_type": "stream",
     "text": [
      "Starting experimental run with id: 24. \n"
     ]
    },
    {
     "name": "stdout",
     "output_type": "stream",
     "text": [
      "Starting experimental run with id: 25. \n"
     ]
    },
    {
     "name": "stdout",
     "output_type": "stream",
     "text": [
      "Starting experimental run with id: 26. \n"
     ]
    },
    {
     "name": "stdout",
     "output_type": "stream",
     "text": [
      "Starting experimental run with id: 27. \n"
     ]
    },
    {
     "name": "stdout",
     "output_type": "stream",
     "text": [
      "Starting experimental run with id: 28. \n"
     ]
    }
   ],
   "source": [
    "sizes = [1,500,1000,2000,3000,4000,5000]\n",
    "nreps = 100\n",
    "t_numeric = []\n",
    "t_numeric_add = []\n",
    "t_numeric_run_ids = []\n",
    "t_array = []\n",
    "t_array_add = []\n",
    "t_array_run_ids = []\n",
    "for size in sizes:\n",
    "    tn, tna, run_id_n =  insert_data('numeric', size, nreps=nreps)\n",
    "    t_numeric.append(tn)\n",
    "    t_numeric_add.append(tna)\n",
    "    t_numeric_run_ids.append(run_id_n)\n",
    "\n",
    "    ta, taa, run_id_a =  insert_data('array', size, nreps=nreps)\n",
    "    t_array.append(ta)\n",
    "    t_array_add.append(taa)\n",
    "    t_array_run_ids.append(run_id_a)"
   ]
  },
  {
   "cell_type": "code",
   "execution_count": 8,
   "metadata": {
    "execution": {
     "iopub.execute_input": "2020-10-27T07:42:16.346327Z",
     "iopub.status.busy": "2020-10-27T07:42:16.332350Z",
     "iopub.status.idle": "2020-10-27T07:42:16.526308Z",
     "shell.execute_reply": "2020-10-27T07:42:16.526790Z"
    },
    "scrolled": true
   },
   "outputs": [
    {
     "data": {
      "image/png": "[encoded data removed]",
      "text/plain": [
       "<Figure size 432x288 with 1 Axes>"
      ]
     },
     "metadata": {
      "needs_background": "light"
     },
     "output_type": "display_data"
    }
   ],
   "source": [
    "fig, ax = plt.subplots(1,1)\n",
    "ax.plot(sizes, t_numeric, 'o-', label='Inserting row-by-row')\n",
    "ax.plot(sizes, t_numeric_add, 'o-', label='Inserting row-by-row: add_result only')\n",
    "ax.plot(sizes, t_array, 'd-', label='Inserting as binary blob')\n",
    "ax.plot(sizes, t_array_add, 'd-', label='Inserting as binary blob: add_result only')\n",
    "ax.legend()\n",
    "ax.set_xlabel('Array length')\n",
    "ax.set_ylabel('Time (s)')\n",
    "fig.tight_layout()"
   ]
  },
  {
   "cell_type": "markdown",
   "metadata": {},
   "source": [
    "However, as we increase the length of the experiment, as seen here by repeating the insertion 100 times, we see a big difference between inserting values of the data row-by-row and inserting it as a binary blob."
   ]
  },
  {
   "cell_type": "markdown",
   "metadata": {},
   "source": [
    "## Loading the data "
   ]
  },
  {
   "cell_type": "code",
   "execution_count": 9,
   "metadata": {
    "execution": {
     "iopub.execute_input": "2020-10-27T07:42:16.531303Z",
     "iopub.status.busy": "2020-10-27T07:42:16.530128Z",
     "iopub.status.idle": "2020-10-27T07:42:16.533744Z",
     "shell.execute_reply": "2020-10-27T07:42:16.533156Z"
    }
   },
   "outputs": [],
   "source": [
    "from qcodes.dataset.data_set import load_by_id\n",
    "from qcodes.dataset.data_export import get_data_by_id"
   ]
  },
  {
   "cell_type": "markdown",
   "metadata": {},
   "source": [
    "As usual you can load the data by using the ``load_by_id`` function but you will notice that the different storage methods\n",
    "are reflected in shape of the data as it is retrieved. "
   ]
  },
  {
   "cell_type": "code",
   "execution_count": 10,
   "metadata": {
    "execution": {
     "iopub.execute_input": "2020-10-27T07:42:16.538357Z",
     "iopub.status.busy": "2020-10-27T07:42:16.537180Z",
     "iopub.status.idle": "2020-10-27T07:42:16.538998Z",
     "shell.execute_reply": "2020-10-27T07:42:16.539592Z"
    }
   },
   "outputs": [],
   "source": [
    "run_id_n = t_numeric_run_ids[0]\n",
    "run_id_a = t_array_run_ids[0]"
   ]
  },
  {
   "cell_type": "code",
   "execution_count": 11,
   "metadata": {
    "execution": {
     "iopub.execute_input": "2020-10-27T07:42:16.543018Z",
     "iopub.status.busy": "2020-10-27T07:42:16.542471Z",
     "iopub.status.idle": "2020-10-27T07:42:16.551909Z",
     "shell.execute_reply": "2020-10-27T07:42:16.551333Z"
    },
    "scrolled": true
   },
   "outputs": [
    {
     "data": {
      "text/plain": [
       "{'x1': {'x1': array([0.90942176, 0.90942176, 0.87570995, 0.87570995, 0.64334428,\n",
       "         0.64334428, 0.01353849, 0.01353849, 0.05133052, 0.05133052,\n",
       "         0.93204115, 0.93204115, 0.96759034, 0.96759034, 0.40705418,\n",
       "         0.40705418, 0.84040267, 0.84040267, 0.1338251 , 0.1338251 ,\n",
       "         0.41414255, 0.41414255, 0.19940599, 0.19940599, 0.63191894,\n",
       "         0.63191894, 0.33459664, 0.33459664, 0.14393797, 0.14393797,\n",
       "         0.59106387, 0.59106387, 0.172038  , 0.172038  , 0.0800622 ,\n",
       "         0.0800622 , 0.26466044, 0.26466044, 0.34165538, 0.34165538,\n",
       "         0.32210743, 0.32210743, 0.93143033, 0.93143033, 0.98404289,\n",
       "         0.98404289, 0.87597008, 0.87597008, 0.62660713, 0.62660713,\n",
       "         0.09691458, 0.09691458, 0.88855697, 0.88855697, 0.04670454,\n",
       "         0.04670454, 0.10550032, 0.10550032, 0.34575159, 0.34575159,\n",
       "         0.04958359, 0.04958359, 0.52990042, 0.52990042, 0.43908848,\n",
       "         0.43908848, 0.03384374, 0.03384374, 0.60848344, 0.60848344,\n",
       "         0.8336488 , 0.8336488 , 0.22012919, 0.22012919, 0.41911772,\n",
       "         0.41911772, 0.16902671, 0.16902671, 0.74617846, 0.74617846,\n",
       "         0.04738987, 0.04738987, 0.14926076, 0.14926076, 0.64202377,\n",
       "         0.64202377, 0.96500326, 0.96500326, 0.72346226, 0.72346226,\n",
       "         0.44758069, 0.44758069, 0.59613892, 0.59613892, 0.82769699,\n",
       "         0.82769699, 0.24433065, 0.24433065, 0.06546745, 0.06546745,\n",
       "         0.25213089, 0.25213089, 0.29730205, 0.29730205, 0.74450486,\n",
       "         0.74450486, 0.26037796, 0.26037796, 0.87935001, 0.87935001,\n",
       "         0.36144088, 0.36144088, 0.34337836, 0.34337836, 0.9328556 ,\n",
       "         0.9328556 , 0.49390506, 0.49390506, 0.10678916, 0.10678916,\n",
       "         0.79818927, 0.79818927, 0.67984068, 0.67984068, 0.7429098 ,\n",
       "         0.7429098 , 0.35186035, 0.35186035, 0.78632115, 0.78632115,\n",
       "         0.52313193, 0.52313193, 0.15506012, 0.15506012, 0.31230239,\n",
       "         0.31230239, 0.52274969, 0.52274969, 0.83393814, 0.83393814,\n",
       "         0.86383918, 0.86383918, 0.2118482 , 0.2118482 , 0.39357138,\n",
       "         0.39357138, 0.23156978, 0.23156978, 0.44184704, 0.44184704,\n",
       "         0.54828332, 0.54828332, 0.15810136, 0.15810136, 0.48818235,\n",
       "         0.48818235, 0.75205919, 0.75205919, 0.81505515, 0.81505515,\n",
       "         0.29583306, 0.29583306, 0.22644164, 0.22644164, 0.91298101,\n",
       "         0.91298101, 0.73773087, 0.73773087, 0.69183228, 0.69183228,\n",
       "         0.99299267, 0.99299267, 0.75129535, 0.75129535, 0.88073476,\n",
       "         0.88073476, 0.4523558 , 0.4523558 , 0.89477582, 0.89477582,\n",
       "         0.30767694, 0.30767694, 0.1403675 , 0.1403675 , 0.2728089 ,\n",
       "         0.2728089 , 0.80445072, 0.80445072, 0.71146417, 0.71146417,\n",
       "         0.02365374, 0.02365374, 0.83479176, 0.83479176, 0.88572617,\n",
       "         0.88572617, 0.20511899, 0.20511899, 0.04339645, 0.04339645])}}"
      ]
     },
     "execution_count": 1,
     "metadata": {},
     "output_type": "execute_result"
    }
   ],
   "source": [
    "ds = load_by_id(run_id_n)\n",
    "ds.get_parameter_data('x1')"
   ]
  },
  {
   "cell_type": "markdown",
   "metadata": {},
   "source": [
    "And a dataset stored as binary arrays"
   ]
  },
  {
   "cell_type": "code",
   "execution_count": 12,
   "metadata": {
    "execution": {
     "iopub.execute_input": "2020-10-27T07:42:16.557054Z",
     "iopub.status.busy": "2020-10-27T07:42:16.554838Z",
     "iopub.status.idle": "2020-10-27T07:42:16.611559Z",
     "shell.execute_reply": "2020-10-27T07:42:16.612027Z"
    },
    "scrolled": true
   },
   "outputs": [
    {
     "data": {
      "text/plain": [
       "{'x1': {'x1': array([[0.81929667],\n",
       "         [0.81929667],\n",
       "         [0.88525475],\n",
       "         [0.88525475],\n",
       "         [0.39551507],\n",
       "         [0.39551507],\n",
       "         [0.00229133],\n",
       "         [0.00229133],\n",
       "         [0.08617404],\n",
       "         [0.08617404],\n",
       "         [0.67173826],\n",
       "         [0.67173826],\n",
       "         [0.20041232],\n",
       "         [0.20041232],\n",
       "         [0.24383879],\n",
       "         [0.24383879],\n",
       "         [0.94526097],\n",
       "         [0.94526097],\n",
       "         [0.53128557],\n",
       "         [0.53128557],\n",
       "         [0.0235487 ],\n",
       "         [0.0235487 ],\n",
       "         [0.47787314],\n",
       "         [0.47787314],\n",
       "         [0.32176904],\n",
       "         [0.32176904],\n",
       "         [0.36045326],\n",
       "         [0.36045326],\n",
       "         [0.92777415],\n",
       "         [0.92777415],\n",
       "         [0.00136784],\n",
       "         [0.00136784],\n",
       "         [0.77795086],\n",
       "         [0.77795086],\n",
       "         [0.87570366],\n",
       "         [0.87570366],\n",
       "         [0.55464203],\n",
       "         [0.55464203],\n",
       "         [0.96509187],\n",
       "         [0.96509187],\n",
       "         [0.40437456],\n",
       "         [0.40437456],\n",
       "         [0.55614085],\n",
       "         [0.55614085],\n",
       "         [0.61083002],\n",
       "         [0.61083002],\n",
       "         [0.101113  ],\n",
       "         [0.101113  ],\n",
       "         [0.07885391],\n",
       "         [0.07885391],\n",
       "         [0.14611797],\n",
       "         [0.14611797],\n",
       "         [0.92217626],\n",
       "         [0.92217626],\n",
       "         [0.6219961 ],\n",
       "         [0.6219961 ],\n",
       "         [0.35624273],\n",
       "         [0.35624273],\n",
       "         [0.74787544],\n",
       "         [0.74787544],\n",
       "         [0.90585713],\n",
       "         [0.90585713],\n",
       "         [0.70362451],\n",
       "         [0.70362451],\n",
       "         [0.81299698],\n",
       "         [0.81299698],\n",
       "         [0.62154428],\n",
       "         [0.62154428],\n",
       "         [0.59168813],\n",
       "         [0.59168813],\n",
       "         [0.18955146],\n",
       "         [0.18955146],\n",
       "         [0.12094997],\n",
       "         [0.12094997],\n",
       "         [0.12498572],\n",
       "         [0.12498572],\n",
       "         [0.30445987],\n",
       "         [0.30445987],\n",
       "         [0.47503136],\n",
       "         [0.47503136],\n",
       "         [0.59413092],\n",
       "         [0.59413092],\n",
       "         [0.44269527],\n",
       "         [0.44269527],\n",
       "         [0.40435436],\n",
       "         [0.40435436],\n",
       "         [0.83492737],\n",
       "         [0.83492737],\n",
       "         [0.15995555],\n",
       "         [0.15995555],\n",
       "         [0.4890375 ],\n",
       "         [0.4890375 ],\n",
       "         [0.41663636],\n",
       "         [0.41663636],\n",
       "         [0.40033247],\n",
       "         [0.40033247],\n",
       "         [0.85159516],\n",
       "         [0.85159516],\n",
       "         [0.30190404],\n",
       "         [0.30190404],\n",
       "         [0.5264929 ],\n",
       "         [0.5264929 ],\n",
       "         [0.82554101],\n",
       "         [0.82554101],\n",
       "         [0.13296851],\n",
       "         [0.13296851],\n",
       "         [0.40499599],\n",
       "         [0.40499599],\n",
       "         [0.0812597 ],\n",
       "         [0.0812597 ],\n",
       "         [0.0113766 ],\n",
       "         [0.0113766 ],\n",
       "         [0.58993224],\n",
       "         [0.58993224],\n",
       "         [0.52912659],\n",
       "         [0.52912659],\n",
       "         [0.72484924],\n",
       "         [0.72484924],\n",
       "         [0.7099654 ],\n",
       "         [0.7099654 ],\n",
       "         [0.02579555],\n",
       "         [0.02579555],\n",
       "         [0.1975453 ],\n",
       "         [0.1975453 ],\n",
       "         [0.32024093],\n",
       "         [0.32024093],\n",
       "         [0.16431389],\n",
       "         [0.16431389],\n",
       "         [0.01467425],\n",
       "         [0.01467425],\n",
       "         [0.7010904 ],\n",
       "         [0.7010904 ],\n",
       "         [0.32023118],\n",
       "         [0.32023118],\n",
       "         [0.5891157 ],\n",
       "         [0.5891157 ],\n",
       "         [0.65259164],\n",
       "         [0.65259164],\n",
       "         [0.21168057],\n",
       "         [0.21168057],\n",
       "         [0.53632402],\n",
       "         [0.53632402],\n",
       "         [0.83936556],\n",
       "         [0.83936556],\n",
       "         [0.65753943],\n",
       "         [0.65753943],\n",
       "         [0.99754466],\n",
       "         [0.99754466],\n",
       "         [0.56627097],\n",
       "         [0.56627097],\n",
       "         [0.7272982 ],\n",
       "         [0.7272982 ],\n",
       "         [0.20768692],\n",
       "         [0.20768692],\n",
       "         [0.34544606],\n",
       "         [0.34544606],\n",
       "         [0.44763448],\n",
       "         [0.44763448],\n",
       "         [0.18000735],\n",
       "         [0.18000735],\n",
       "         [0.74364114],\n",
       "         [0.74364114],\n",
       "         [0.99666244],\n",
       "         [0.99666244],\n",
       "         [0.63962514],\n",
       "         [0.63962514],\n",
       "         [0.88505325],\n",
       "         [0.88505325],\n",
       "         [0.33019703],\n",
       "         [0.33019703],\n",
       "         [0.67228083],\n",
       "         [0.67228083],\n",
       "         [0.97629207],\n",
       "         [0.97629207],\n",
       "         [0.05487158],\n",
       "         [0.05487158],\n",
       "         [0.45678513],\n",
       "         [0.45678513],\n",
       "         [0.67757039],\n",
       "         [0.67757039],\n",
       "         [0.69412662],\n",
       "         [0.69412662],\n",
       "         [0.70537232],\n",
       "         [0.70537232],\n",
       "         [0.1369319 ],\n",
       "         [0.1369319 ],\n",
       "         [0.37079199],\n",
       "         [0.37079199],\n",
       "         [0.45251238],\n",
       "         [0.45251238],\n",
       "         [0.41097705],\n",
       "         [0.41097705],\n",
       "         [0.29378412],\n",
       "         [0.29378412],\n",
       "         [0.21966344],\n",
       "         [0.21966344],\n",
       "         [0.85898424],\n",
       "         [0.85898424],\n",
       "         [0.29591221],\n",
       "         [0.29591221]])}}"
      ]
     },
     "execution_count": 1,
     "metadata": {},
     "output_type": "execute_result"
    }
   ],
   "source": [
    "ds = load_by_id(run_id_a)\n",
    "ds.get_parameter_data('x1')"
   ]
  },
  {
   "cell_type": "code",
   "execution_count": null,
   "metadata": {},
   "outputs": [],
   "source": []
  }
 ],
 "metadata": {
  "kernelspec": {
   "display_name": "Python 3",
   "language": "python",
   "name": "python3"
  },
  "language_info": {
   "codemirror_mode": {
    "name": "ipython",
    "version": 3
   },
   "file_extension": ".py",
   "mimetype": "text/x-python",
   "name": "python",
   "nbconvert_exporter": "python",
   "pygments_lexer": "ipython3",
   "version": "3.7.7"
  },
  "nbsphinx": {
   "timeout": 600
  },
  "toc": {
   "base_numbering": 1,
   "nav_menu": {},
   "number_sections": true,
   "sideBar": true,
   "skip_h1_title": false,
   "title_cell": "Table of Contents",
   "title_sidebar": "Contents",
   "toc_cell": false,
   "toc_position": {},
   "toc_section_display": true,
   "toc_window_display": false
  },
  "varInspector": {
   "cols": {
    "lenName": 16,
    "lenType": 16,
    "lenVar": 40
   },
   "kernels_config": {
    "python": {
     "delete_cmd_postfix": "",
     "delete_cmd_prefix": "del ",
     "library": "var_list.py",
     "varRefreshCmd": "print(var_dic_list())"
    },
    "r": {
     "delete_cmd_postfix": ") ",
     "delete_cmd_prefix": "rm(",
     "library": "var_list.r",
     "varRefreshCmd": "cat(var_dic_list()) "
    }
   },
   "types_to_exclude": [
    "module",
    "function",
    "builtin_function_or_method",
    "instance",
    "_Feature"
   ],
   "window_display": false
  }
 },
 "nbformat": 4,
 "nbformat_minor": 2
}
