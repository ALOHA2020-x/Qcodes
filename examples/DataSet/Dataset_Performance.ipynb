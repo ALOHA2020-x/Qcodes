{
 "cells": [
  {
   "cell_type": "markdown",
   "metadata": {},
   "source": [
    "# DataSet Performance\n",
    "\n",
    "This notebook shows the trade-off between inserting data into a database row-by-row and as binary blobs. Inserting the data row-by-row means that we have direct access to all the data and may perform queries directly on the values of the data. On the other hand, as we shall see, this is much slower than inserting the data directly as binary blobs."
   ]
  },
  {
   "cell_type": "markdown",
   "metadata": {},
   "source": [
    "First, we choose a new location for the database to ensure that we don't add a bunch of benchmarking data to the default one."
   ]
  },
  {
   "cell_type": "code",
   "execution_count": 1,
   "metadata": {
    "execution": {
     "iopub.execute_input": "2021-04-12T07:12:04.176074Z",
     "iopub.status.busy": "2021-04-12T07:12:04.175503Z",
     "iopub.status.idle": "2021-04-12T07:12:05.333446Z",
     "shell.execute_reply": "2021-04-12T07:12:05.332722Z"
    }
   },
   "outputs": [
    {
     "name": "stdout",
     "output_type": "stream",
     "text": [
      "Logging hadn't been started.\n",
      "Activating auto-logging. Current session state plus future input saved.\n",
      "Filename       : /home/runner/.qcodes/logs/command_history.log\n",
      "Mode           : append\n",
      "Output logging : True\n",
      "Raw input log  : False\n",
      "Timestamping   : True\n",
      "State          : active\n"
     ]
    },
    {
     "name": "stdout",
     "output_type": "stream",
     "text": [
      "Qcodes Logfile : /home/runner/.qcodes/logs/210412-4534-qcodes.log\n"
     ]
    }
   ],
   "source": [
    "import os\n",
    "cwd = os.getcwd()\n",
    "import qcodes as qc\n",
    "qc.config[\"core\"][\"db_location\"] = os.path.join(cwd, 'testing.db')\n"
   ]
  },
  {
   "cell_type": "code",
   "execution_count": 2,
   "metadata": {
    "execution": {
     "iopub.execute_input": "2021-04-12T07:12:05.348023Z",
     "iopub.status.busy": "2021-04-12T07:12:05.345126Z",
     "iopub.status.idle": "2021-04-12T07:12:05.637561Z",
     "shell.execute_reply": "2021-04-12T07:12:05.638080Z"
    }
   },
   "outputs": [],
   "source": [
    "%matplotlib inline\n",
    "import time\n",
    "import matplotlib.pyplot as plt\n",
    "import numpy as np\n",
    "\n",
    "import qcodes as qc\n",
    "from qcodes.instrument.parameter import ManualParameter\n",
    "from qcodes.dataset.experiment_container import (Experiment,\n",
    "                                                 load_last_experiment,\n",
    "                                                 new_experiment)\n",
    "from qcodes.dataset.sqlite.database import initialise_database\n",
    "from qcodes import load_or_create_experiment\n",
    "from qcodes.dataset.measurements import Measurement"
   ]
  },
  {
   "cell_type": "code",
   "execution_count": 3,
   "metadata": {
    "execution": {
     "iopub.execute_input": "2021-04-12T07:12:05.642586Z",
     "iopub.status.busy": "2021-04-12T07:12:05.641794Z",
     "iopub.status.idle": "2021-04-12T07:12:05.735288Z",
     "shell.execute_reply": "2021-04-12T07:12:05.734712Z"
    }
   },
   "outputs": [
    {
     "name": "stdout",
     "output_type": "stream",
     "text": [
      "\r",
      "0it [00:00, ?it/s]"
     ]
    },
    {
     "name": "stdout",
     "output_type": "stream",
     "text": [
      "\r",
      "Upgrading database; v0 -> v1: : 0it [00:00, ?it/s]"
     ]
    },
    {
     "name": "stdout",
     "output_type": "stream",
     "text": [
      "\r",
      "Upgrading database; v0 -> v1: : 0it [00:00, ?it/s]"
     ]
    },
    {
     "name": "stdout",
     "output_type": "stream",
     "text": [
      "\n",
      "\r",
      "  0%|          | 0/1 [00:00<?, ?it/s]"
     ]
    },
    {
     "name": "stdout",
     "output_type": "stream",
     "text": [
      "\r",
      "Upgrading database; v1 -> v2:   0%|          | 0/1 [00:00<?, ?it/s]"
     ]
    },
    {
     "name": "stdout",
     "output_type": "stream",
     "text": [
      "\r",
      "Upgrading database; v1 -> v2: 100%|██████████| 1/1 [00:00<00:00, 296.04it/s]"
     ]
    },
    {
     "name": "stdout",
     "output_type": "stream",
     "text": [
      "\n",
      "\r",
      "0it [00:00, ?it/s]"
     ]
    },
    {
     "name": "stdout",
     "output_type": "stream",
     "text": [
      "\r",
      "Upgrading database; v2 -> v3: : 0it [00:00, ?it/s]"
     ]
    },
    {
     "name": "stdout",
     "output_type": "stream",
     "text": [
      "\r",
      "Upgrading database; v2 -> v3: : 0it [00:00, ?it/s]"
     ]
    },
    {
     "name": "stdout",
     "output_type": "stream",
     "text": [
      "\n",
      "\r",
      "0it [00:00, ?it/s]"
     ]
    },
    {
     "name": "stdout",
     "output_type": "stream",
     "text": [
      "\r",
      "Upgrading database; v3 -> v4: : 0it [00:00, ?it/s]"
     ]
    },
    {
     "name": "stdout",
     "output_type": "stream",
     "text": [
      "\r",
      "Upgrading database; v3 -> v4: : 0it [00:00, ?it/s]"
     ]
    },
    {
     "name": "stdout",
     "output_type": "stream",
     "text": [
      "\n",
      "\r",
      "  0%|          | 0/1 [00:00<?, ?it/s]"
     ]
    },
    {
     "name": "stdout",
     "output_type": "stream",
     "text": [
      "\r",
      "Upgrading database; v4 -> v5:   0%|          | 0/1 [00:00<?, ?it/s]"
     ]
    },
    {
     "name": "stdout",
     "output_type": "stream",
     "text": [
      "\r",
      "Upgrading database; v4 -> v5: 100%|██████████| 1/1 [00:00<00:00, 611.77it/s]"
     ]
    },
    {
     "name": "stdout",
     "output_type": "stream",
     "text": [
      "\n",
      "\r",
      "0it [00:00, ?it/s]"
     ]
    },
    {
     "name": "stdout",
     "output_type": "stream",
     "text": [
      "\r",
      "Upgrading database; v5 -> v6: : 0it [00:00, ?it/s]"
     ]
    },
    {
     "name": "stdout",
     "output_type": "stream",
     "text": [
      "\r",
      "Upgrading database; v5 -> v6: : 0it [00:00, ?it/s]"
     ]
    },
    {
     "name": "stdout",
     "output_type": "stream",
     "text": [
      "\n",
      "\r",
      "  0%|          | 0/1 [00:00<?, ?it/s]"
     ]
    },
    {
     "name": "stdout",
     "output_type": "stream",
     "text": [
      "\r",
      "Upgrading database; v6 -> v7:   0%|          | 0/1 [00:00<?, ?it/s]"
     ]
    },
    {
     "name": "stdout",
     "output_type": "stream",
     "text": [
      "\r",
      "Upgrading database; v6 -> v7: 100%|██████████| 1/1 [00:00<00:00, 407.85it/s]"
     ]
    },
    {
     "name": "stdout",
     "output_type": "stream",
     "text": [
      "\n",
      "\r",
      "  0%|          | 0/1 [00:00<?, ?it/s]"
     ]
    },
    {
     "name": "stdout",
     "output_type": "stream",
     "text": [
      "\r",
      "Upgrading database; v7 -> v8:   0%|          | 0/1 [00:00<?, ?it/s]"
     ]
    },
    {
     "name": "stdout",
     "output_type": "stream",
     "text": [
      "\r",
      "Upgrading database; v7 -> v8: 100%|██████████| 1/1 [00:00<00:00, 526.06it/s]"
     ]
    },
    {
     "name": "stdout",
     "output_type": "stream",
     "text": [
      "\n",
      "\r",
      "  0%|          | 0/1 [00:00<?, ?it/s]"
     ]
    },
    {
     "name": "stdout",
     "output_type": "stream",
     "text": [
      "\r",
      "Upgrading database; v8 -> v9:   0%|          | 0/1 [00:00<?, ?it/s]"
     ]
    },
    {
     "name": "stdout",
     "output_type": "stream",
     "text": [
      "\r",
      "Upgrading database; v8 -> v9: 100%|██████████| 1/1 [00:00<00:00, 618.08it/s]"
     ]
    },
    {
     "name": "stdout",
     "output_type": "stream",
     "text": [
      "\n"
     ]
    }
   ],
   "source": [
    "initialise_database()\n",
    "exp = load_or_create_experiment(experiment_name='tutorial_exp', sample_name=\"no sample\")"
   ]
  },
  {
   "cell_type": "markdown",
   "metadata": {},
   "source": [
    "Here, we define a simple function to benchmark the time it takes to insert n points with either numeric or array data type.\n",
    "We will compare both the time used to call ``add_result`` and the time used for the full measurement."
   ]
  },
  {
   "cell_type": "code",
   "execution_count": 4,
   "metadata": {
    "execution": {
     "iopub.execute_input": "2021-04-12T07:12:05.747182Z",
     "iopub.status.busy": "2021-04-12T07:12:05.746029Z",
     "iopub.status.idle": "2021-04-12T07:12:05.748388Z",
     "shell.execute_reply": "2021-04-12T07:12:05.749272Z"
    }
   },
   "outputs": [],
   "source": [
    "def insert_data(paramtype, npoints, nreps=1):\n",
    "\n",
    "    meas = Measurement(exp=exp)\n",
    "\n",
    "    x1 = ManualParameter('x1')\n",
    "    x2 = ManualParameter('x2')\n",
    "    x3 = ManualParameter('x3')\n",
    "    y1 = ManualParameter('y1')\n",
    "    y2 = ManualParameter('y2')\n",
    "\n",
    "    meas.register_parameter(x1, paramtype=paramtype)\n",
    "    meas.register_parameter(x2, paramtype=paramtype)\n",
    "    meas.register_parameter(x3, paramtype=paramtype)\n",
    "    meas.register_parameter(y1, setpoints=[x1, x2, x3],\n",
    "                            paramtype=paramtype)\n",
    "    meas.register_parameter(y2, setpoints=[x1, x2, x3],\n",
    "                            paramtype=paramtype)\n",
    "    start = time.perf_counter()\n",
    "    with meas.run() as datasaver:\n",
    "        start_adding = time.perf_counter()\n",
    "        for i in range(nreps):\n",
    "            datasaver.add_result((x1, np.random.rand(npoints)),\n",
    "                                 (x2, np.random.rand(npoints)),\n",
    "                                 (x3, np.random.rand(npoints)),\n",
    "                                 (y1, np.random.rand(npoints)),\n",
    "                                 (y2, np.random.rand(npoints)))\n",
    "        stop_adding = time.perf_counter()\n",
    "        run_id = datasaver.run_id\n",
    "    stop = time.perf_counter()\n",
    "    tot_time = stop - start\n",
    "    add_time = stop_adding - start_adding\n",
    "    return tot_time, add_time, run_id"
   ]
  },
  {
   "cell_type": "markdown",
   "metadata": {},
   "source": [
    "## Comparison between numeric/array data and binary blob"
   ]
  },
  {
   "cell_type": "markdown",
   "metadata": {},
   "source": [
    "### Case1: Short experiment time"
   ]
  },
  {
   "cell_type": "code",
   "execution_count": 5,
   "metadata": {
    "execution": {
     "iopub.execute_input": "2021-04-12T07:12:05.756663Z",
     "iopub.status.busy": "2021-04-12T07:12:05.755181Z",
     "iopub.status.idle": "2021-04-12T07:12:06.698445Z",
     "shell.execute_reply": "2021-04-12T07:12:06.697429Z"
    }
   },
   "outputs": [
    {
     "name": "stdout",
     "output_type": "stream",
     "text": [
      "Starting experimental run with id: 1. \n",
      "Starting experimental run with id: 2. \n",
      "Starting experimental run with id: 3. \n",
      "Starting experimental run with id: 4. \n"
     ]
    },
    {
     "name": "stdout",
     "output_type": "stream",
     "text": [
      "Starting experimental run with id: 5. \n"
     ]
    },
    {
     "name": "stdout",
     "output_type": "stream",
     "text": [
      "Starting experimental run with id: 6. \n",
      "Starting experimental run with id: 7. \n"
     ]
    },
    {
     "name": "stdout",
     "output_type": "stream",
     "text": [
      "Starting experimental run with id: 8. \n",
      "Starting experimental run with id: 9. \n"
     ]
    },
    {
     "name": "stdout",
     "output_type": "stream",
     "text": [
      "Starting experimental run with id: 10. \n",
      "Starting experimental run with id: 11. \n"
     ]
    },
    {
     "name": "stdout",
     "output_type": "stream",
     "text": [
      "Starting experimental run with id: 12. \n",
      "Starting experimental run with id: 13. \n"
     ]
    },
    {
     "name": "stdout",
     "output_type": "stream",
     "text": [
      "Starting experimental run with id: 14. \n"
     ]
    }
   ],
   "source": [
    "sizes = [1,500,1000,2000,3000,4000,5000]\n",
    "t_numeric = []\n",
    "t_numeric_add = []\n",
    "t_array = []\n",
    "t_array_add = []\n",
    "for size in sizes:\n",
    "    tn, tna, run_id_n =  insert_data('numeric', size)\n",
    "    t_numeric.append(tn)\n",
    "    t_numeric_add.append(tna)\n",
    "\n",
    "    ta, taa, run_id_a =  insert_data('array', size)\n",
    "    t_array.append(ta)\n",
    "    t_array_add.append(taa)"
   ]
  },
  {
   "cell_type": "code",
   "execution_count": 6,
   "metadata": {
    "execution": {
     "iopub.execute_input": "2021-04-12T07:12:06.706245Z",
     "iopub.status.busy": "2021-04-12T07:12:06.705648Z",
     "iopub.status.idle": "2021-04-12T07:12:06.935181Z",
     "shell.execute_reply": "2021-04-12T07:12:06.934658Z"
    }
   },
   "outputs": [
    {
     "data": {
      "image/png": "[encoded data removed]",
      "text/plain": [
       "<Figure size 432x288 with 1 Axes>"
      ]
     },
     "metadata": {
      "needs_background": "light"
     },
     "output_type": "display_data"
    }
   ],
   "source": [
    "fig, ax = plt.subplots(1,1)\n",
    "ax.plot(sizes, t_numeric, 'o-', label='Inserting row-by-row')\n",
    "ax.plot(sizes, t_numeric_add, 'o-', label='Inserting row-by-row: add_result only')\n",
    "ax.plot(sizes, t_array, 'd-', label='Inserting as binary blob')\n",
    "ax.plot(sizes, t_array_add, 'd-', label='Inserting as binary blob: add_result only')\n",
    "ax.legend()\n",
    "ax.set_xlabel('Array length')\n",
    "ax.set_ylabel('Time (s)')\n",
    "fig.tight_layout()"
   ]
  },
  {
   "cell_type": "markdown",
   "metadata": {},
   "source": [
    "As shown in the latter figure, the time to setup and and close the experiment is approximately 0.4 sec. In case of small array sizes, the difference between inserting values of data as arrays and inserting them row-by-row is relatively unimportant. At larger array sizes, i.e. above 10000 points, the cost of writing data as individual datapoints starts to become important.\n"
   ]
  },
  {
   "cell_type": "markdown",
   "metadata": {},
   "source": [
    "### Case2: Long experiment time "
   ]
  },
  {
   "cell_type": "code",
   "execution_count": 7,
   "metadata": {
    "execution": {
     "iopub.execute_input": "2021-04-12T07:12:06.943462Z",
     "iopub.status.busy": "2021-04-12T07:12:06.940488Z",
     "iopub.status.idle": "2021-04-12T07:13:10.070350Z",
     "shell.execute_reply": "2021-04-12T07:13:10.069198Z"
    }
   },
   "outputs": [
    {
     "name": "stdout",
     "output_type": "stream",
     "text": [
      "Starting experimental run with id: 15. \n",
      "Starting experimental run with id: 16. \n"
     ]
    },
    {
     "name": "stdout",
     "output_type": "stream",
     "text": [
      "Starting experimental run with id: 17. \n"
     ]
    },
    {
     "name": "stdout",
     "output_type": "stream",
     "text": [
      "Starting experimental run with id: 18. \n"
     ]
    },
    {
     "name": "stdout",
     "output_type": "stream",
     "text": [
      "Starting experimental run with id: 19. \n"
     ]
    },
    {
     "name": "stdout",
     "output_type": "stream",
     "text": [
      "Starting experimental run with id: 20. \n"
     ]
    },
    {
     "name": "stdout",
     "output_type": "stream",
     "text": [
      "Starting experimental run with id: 21. \n"
     ]
    },
    {
     "name": "stdout",
     "output_type": "stream",
     "text": [
      "Starting experimental run with id: 22. \n"
     ]
    },
    {
     "name": "stdout",
     "output_type": "stream",
     "text": [
      "Starting experimental run with id: 23. \n"
     ]
    },
    {
     "name": "stdout",
     "output_type": "stream",
     "text": [
      "Starting experimental run with id: 24. \n"
     ]
    },
    {
     "name": "stdout",
     "output_type": "stream",
     "text": [
      "Starting experimental run with id: 25. \n"
     ]
    },
    {
     "name": "stdout",
     "output_type": "stream",
     "text": [
      "Starting experimental run with id: 26. \n"
     ]
    },
    {
     "name": "stdout",
     "output_type": "stream",
     "text": [
      "Starting experimental run with id: 27. \n"
     ]
    },
    {
     "name": "stdout",
     "output_type": "stream",
     "text": [
      "Starting experimental run with id: 28. \n"
     ]
    }
   ],
   "source": [
    "sizes = [1,500,1000,2000,3000,4000,5000]\n",
    "nreps = 100\n",
    "t_numeric = []\n",
    "t_numeric_add = []\n",
    "t_numeric_run_ids = []\n",
    "t_array = []\n",
    "t_array_add = []\n",
    "t_array_run_ids = []\n",
    "for size in sizes:\n",
    "    tn, tna, run_id_n =  insert_data('numeric', size, nreps=nreps)\n",
    "    t_numeric.append(tn)\n",
    "    t_numeric_add.append(tna)\n",
    "    t_numeric_run_ids.append(run_id_n)\n",
    "\n",
    "    ta, taa, run_id_a =  insert_data('array', size, nreps=nreps)\n",
    "    t_array.append(ta)\n",
    "    t_array_add.append(taa)\n",
    "    t_array_run_ids.append(run_id_a)"
   ]
  },
  {
   "cell_type": "code",
   "execution_count": 8,
   "metadata": {
    "execution": {
     "iopub.execute_input": "2021-04-12T07:13:10.117663Z",
     "iopub.status.busy": "2021-04-12T07:13:10.094448Z",
     "iopub.status.idle": "2021-04-12T07:13:10.269498Z",
     "shell.execute_reply": "2021-04-12T07:13:10.270272Z"
    },
    "scrolled": true
   },
   "outputs": [
    {
     "data": {
      "image/png": "[encoded data removed]",
      "text/plain": [
       "<Figure size 432x288 with 1 Axes>"
      ]
     },
     "metadata": {
      "needs_background": "light"
     },
     "output_type": "display_data"
    }
   ],
   "source": [
    "fig, ax = plt.subplots(1,1)\n",
    "ax.plot(sizes, t_numeric, 'o-', label='Inserting row-by-row')\n",
    "ax.plot(sizes, t_numeric_add, 'o-', label='Inserting row-by-row: add_result only')\n",
    "ax.plot(sizes, t_array, 'd-', label='Inserting as binary blob')\n",
    "ax.plot(sizes, t_array_add, 'd-', label='Inserting as binary blob: add_result only')\n",
    "ax.legend()\n",
    "ax.set_xlabel('Array length')\n",
    "ax.set_ylabel('Time (s)')\n",
    "fig.tight_layout()"
   ]
  },
  {
   "cell_type": "markdown",
   "metadata": {},
   "source": [
    "However, as we increase the length of the experiment, as seen here by repeating the insertion 100 times, we see a big difference between inserting values of the data row-by-row and inserting it as a binary blob."
   ]
  },
  {
   "cell_type": "markdown",
   "metadata": {},
   "source": [
    "## Loading the data "
   ]
  },
  {
   "cell_type": "code",
   "execution_count": 9,
   "metadata": {
    "execution": {
     "iopub.execute_input": "2021-04-12T07:13:10.275024Z",
     "iopub.status.busy": "2021-04-12T07:13:10.274149Z",
     "iopub.status.idle": "2021-04-12T07:13:10.279230Z",
     "shell.execute_reply": "2021-04-12T07:13:10.280001Z"
    }
   },
   "outputs": [],
   "source": [
    "from qcodes.dataset.data_set import load_by_id\n",
    "from qcodes.dataset.data_export import get_data_by_id"
   ]
  },
  {
   "cell_type": "markdown",
   "metadata": {},
   "source": [
    "As usual you can load the data by using the ``load_by_id`` function but you will notice that the different storage methods\n",
    "are reflected in shape of the data as it is retrieved. "
   ]
  },
  {
   "cell_type": "code",
   "execution_count": 10,
   "metadata": {
    "execution": {
     "iopub.execute_input": "2021-04-12T07:13:10.284546Z",
     "iopub.status.busy": "2021-04-12T07:13:10.283852Z",
     "iopub.status.idle": "2021-04-12T07:13:10.287580Z",
     "shell.execute_reply": "2021-04-12T07:13:10.286921Z"
    }
   },
   "outputs": [],
   "source": [
    "run_id_n = t_numeric_run_ids[0]\n",
    "run_id_a = t_array_run_ids[0]"
   ]
  },
  {
   "cell_type": "code",
   "execution_count": 11,
   "metadata": {
    "execution": {
     "iopub.execute_input": "2021-04-12T07:13:10.291471Z",
     "iopub.status.busy": "2021-04-12T07:13:10.290898Z",
     "iopub.status.idle": "2021-04-12T07:13:10.301503Z",
     "shell.execute_reply": "2021-04-12T07:13:10.302161Z"
    },
    "scrolled": true
   },
   "outputs": [
    {
     "data": {
      "text/plain": [
       "{'x1': {'x1': array([2.40496152e-01, 2.40496152e-01, 3.30775531e-02, 3.30775531e-02,\n",
       "         1.96469963e-01, 1.96469963e-01, 8.64969662e-01, 8.64969662e-01,\n",
       "         3.84706255e-01, 3.84706255e-01, 7.79166850e-01, 7.79166850e-01,\n",
       "         4.98311071e-01, 4.98311071e-01, 9.20195093e-01, 9.20195093e-01,\n",
       "         4.69526939e-01, 4.69526939e-01, 6.90425950e-01, 6.90425950e-01,\n",
       "         3.97715556e-01, 3.97715556e-01, 3.34511955e-01, 3.34511955e-01,\n",
       "         6.39080721e-01, 6.39080721e-01, 5.97414104e-01, 5.97414104e-01,\n",
       "         2.18845234e-01, 2.18845234e-01, 6.87751864e-01, 6.87751864e-01,\n",
       "         3.45596151e-01, 3.45596151e-01, 9.24921778e-01, 9.24921778e-01,\n",
       "         6.39593315e-01, 6.39593315e-01, 6.60085540e-01, 6.60085540e-01,\n",
       "         3.19087581e-01, 3.19087581e-01, 9.58095247e-01, 9.58095247e-01,\n",
       "         4.42913536e-01, 4.42913536e-01, 9.25431298e-01, 9.25431298e-01,\n",
       "         8.43344206e-01, 8.43344206e-01, 5.20749307e-01, 5.20749307e-01,\n",
       "         7.18760477e-01, 7.18760477e-01, 3.05464361e-01, 3.05464361e-01,\n",
       "         4.65793488e-01, 4.65793488e-01, 1.49955201e-01, 1.49955201e-01,\n",
       "         7.97274178e-01, 7.97274178e-01, 1.26334920e-01, 1.26334920e-01,\n",
       "         2.99398862e-01, 2.99398862e-01, 9.83482530e-01, 9.83482530e-01,\n",
       "         1.70657326e-01, 1.70657326e-01, 1.56431986e-01, 1.56431986e-01,\n",
       "         3.71271155e-02, 3.71271155e-02, 8.66978520e-01, 8.66978520e-01,\n",
       "         9.79882741e-01, 9.79882741e-01, 7.93528574e-01, 7.93528574e-01,\n",
       "         6.59716327e-01, 6.59716327e-01, 6.53779135e-01, 6.53779135e-01,\n",
       "         2.95244268e-01, 2.95244268e-01, 7.65485167e-01, 7.65485167e-01,\n",
       "         5.41225770e-01, 5.41225770e-01, 1.88857472e-01, 1.88857472e-01,\n",
       "         9.36367787e-01, 9.36367787e-01, 7.35406469e-01, 7.35406469e-01,\n",
       "         1.30740948e-01, 1.30740948e-01, 1.79326535e-01, 1.79326535e-01,\n",
       "         2.06144056e-01, 2.06144056e-01, 1.36075701e-01, 1.36075701e-01,\n",
       "         6.46413846e-01, 6.46413846e-01, 2.93010560e-01, 2.93010560e-01,\n",
       "         8.40013826e-01, 8.40013826e-01, 2.52221192e-01, 2.52221192e-01,\n",
       "         1.76929797e-01, 1.76929797e-01, 9.31584016e-01, 9.31584016e-01,\n",
       "         3.23447082e-01, 3.23447082e-01, 7.18317975e-02, 7.18317975e-02,\n",
       "         1.42876663e-01, 1.42876663e-01, 4.75669467e-01, 4.75669467e-01,\n",
       "         7.76652928e-01, 7.76652928e-01, 9.11397619e-01, 9.11397619e-01,\n",
       "         1.01893620e-01, 1.01893620e-01, 4.93341216e-01, 4.93341216e-01,\n",
       "         3.69030022e-01, 3.69030022e-01, 8.73699895e-01, 8.73699895e-01,\n",
       "         7.50366507e-01, 7.50366507e-01, 8.08202539e-01, 8.08202539e-01,\n",
       "         6.34087338e-01, 6.34087338e-01, 3.57326352e-01, 3.57326352e-01,\n",
       "         3.90749104e-04, 3.90749104e-04, 1.68869544e-02, 1.68869544e-02,\n",
       "         9.03807106e-01, 9.03807106e-01, 7.99246534e-01, 7.99246534e-01,\n",
       "         2.15413853e-01, 2.15413853e-01, 6.80374953e-01, 6.80374953e-01,\n",
       "         1.30162778e-01, 1.30162778e-01, 2.78099349e-01, 2.78099349e-01,\n",
       "         9.86830113e-01, 9.86830113e-01, 5.76856325e-01, 5.76856325e-01,\n",
       "         5.39551461e-01, 5.39551461e-01, 2.32711388e-01, 2.32711388e-01,\n",
       "         6.97612755e-01, 6.97612755e-01, 5.54983525e-02, 5.54983525e-02,\n",
       "         3.59864723e-01, 3.59864723e-01, 6.35917922e-01, 6.35917922e-01,\n",
       "         9.23738893e-01, 9.23738893e-01, 2.34378553e-01, 2.34378553e-01,\n",
       "         6.88149550e-01, 6.88149550e-01, 8.68572428e-01, 8.68572428e-01,\n",
       "         7.40771846e-01, 7.40771846e-01, 8.14251969e-01, 8.14251969e-01,\n",
       "         9.18956493e-01, 9.18956493e-01, 1.04868620e-01, 1.04868620e-01,\n",
       "         7.35412526e-01, 7.35412526e-01, 7.48483937e-01, 7.48483937e-01,\n",
       "         1.72298154e-01, 1.72298154e-01, 2.54249029e-01, 2.54249029e-01])}}"
      ]
     },
     "execution_count": 1,
     "metadata": {},
     "output_type": "execute_result"
    }
   ],
   "source": [
    "ds = load_by_id(run_id_n)\n",
    "ds.get_parameter_data('x1')"
   ]
  },
  {
   "cell_type": "markdown",
   "metadata": {},
   "source": [
    "And a dataset stored as binary arrays"
   ]
  },
  {
   "cell_type": "code",
   "execution_count": 12,
   "metadata": {
    "execution": {
     "iopub.execute_input": "2021-04-12T07:13:10.306238Z",
     "iopub.status.busy": "2021-04-12T07:13:10.305646Z",
     "iopub.status.idle": "2021-04-12T07:13:10.370829Z",
     "shell.execute_reply": "2021-04-12T07:13:10.371832Z"
    },
    "scrolled": true
   },
   "outputs": [
    {
     "data": {
      "text/plain": [
       "{'x1': {'x1': array([[0.19848635],\n",
       "         [0.19848635],\n",
       "         [0.64285366],\n",
       "         [0.64285366],\n",
       "         [0.09355813],\n",
       "         [0.09355813],\n",
       "         [0.09676678],\n",
       "         [0.09676678],\n",
       "         [0.72037352],\n",
       "         [0.72037352],\n",
       "         [0.55344025],\n",
       "         [0.55344025],\n",
       "         [0.58753942],\n",
       "         [0.58753942],\n",
       "         [0.3895766 ],\n",
       "         [0.3895766 ],\n",
       "         [0.90653811],\n",
       "         [0.90653811],\n",
       "         [0.34665189],\n",
       "         [0.34665189],\n",
       "         [0.18787191],\n",
       "         [0.18787191],\n",
       "         [0.04859342],\n",
       "         [0.04859342],\n",
       "         [0.68398849],\n",
       "         [0.68398849],\n",
       "         [0.20213995],\n",
       "         [0.20213995],\n",
       "         [0.08093309],\n",
       "         [0.08093309],\n",
       "         [0.32437566],\n",
       "         [0.32437566],\n",
       "         [0.51626494],\n",
       "         [0.51626494],\n",
       "         [0.37693821],\n",
       "         [0.37693821],\n",
       "         [0.43997109],\n",
       "         [0.43997109],\n",
       "         [0.9154814 ],\n",
       "         [0.9154814 ],\n",
       "         [0.42944597],\n",
       "         [0.42944597],\n",
       "         [0.51333171],\n",
       "         [0.51333171],\n",
       "         [0.17227129],\n",
       "         [0.17227129],\n",
       "         [0.71118161],\n",
       "         [0.71118161],\n",
       "         [0.99947676],\n",
       "         [0.99947676],\n",
       "         [0.70285474],\n",
       "         [0.70285474],\n",
       "         [0.01458458],\n",
       "         [0.01458458],\n",
       "         [0.67540914],\n",
       "         [0.67540914],\n",
       "         [0.58013162],\n",
       "         [0.58013162],\n",
       "         [0.7941356 ],\n",
       "         [0.7941356 ],\n",
       "         [0.62993857],\n",
       "         [0.62993857],\n",
       "         [0.71211449],\n",
       "         [0.71211449],\n",
       "         [0.03973691],\n",
       "         [0.03973691],\n",
       "         [0.59460614],\n",
       "         [0.59460614],\n",
       "         [0.27083119],\n",
       "         [0.27083119],\n",
       "         [0.42220795],\n",
       "         [0.42220795],\n",
       "         [0.56614598],\n",
       "         [0.56614598],\n",
       "         [0.65360626],\n",
       "         [0.65360626],\n",
       "         [0.31241247],\n",
       "         [0.31241247],\n",
       "         [0.51221049],\n",
       "         [0.51221049],\n",
       "         [0.63324123],\n",
       "         [0.63324123],\n",
       "         [0.07065558],\n",
       "         [0.07065558],\n",
       "         [0.60264145],\n",
       "         [0.60264145],\n",
       "         [0.15236559],\n",
       "         [0.15236559],\n",
       "         [0.84622673],\n",
       "         [0.84622673],\n",
       "         [0.83110902],\n",
       "         [0.83110902],\n",
       "         [0.59602787],\n",
       "         [0.59602787],\n",
       "         [0.27457966],\n",
       "         [0.27457966],\n",
       "         [0.65467204],\n",
       "         [0.65467204],\n",
       "         [0.69606023],\n",
       "         [0.69606023],\n",
       "         [0.48098396],\n",
       "         [0.48098396],\n",
       "         [0.85792513],\n",
       "         [0.85792513],\n",
       "         [0.96403291],\n",
       "         [0.96403291],\n",
       "         [0.80439827],\n",
       "         [0.80439827],\n",
       "         [0.43874658],\n",
       "         [0.43874658],\n",
       "         [0.20274146],\n",
       "         [0.20274146],\n",
       "         [0.03035037],\n",
       "         [0.03035037],\n",
       "         [0.27407455],\n",
       "         [0.27407455],\n",
       "         [0.82978952],\n",
       "         [0.82978952],\n",
       "         [0.1018604 ],\n",
       "         [0.1018604 ],\n",
       "         [0.91141817],\n",
       "         [0.91141817],\n",
       "         [0.11868388],\n",
       "         [0.11868388],\n",
       "         [0.47809808],\n",
       "         [0.47809808],\n",
       "         [0.79462095],\n",
       "         [0.79462095],\n",
       "         [0.85811363],\n",
       "         [0.85811363],\n",
       "         [0.39258743],\n",
       "         [0.39258743],\n",
       "         [0.3727801 ],\n",
       "         [0.3727801 ],\n",
       "         [0.58317651],\n",
       "         [0.58317651],\n",
       "         [0.86050723],\n",
       "         [0.86050723],\n",
       "         [0.6301156 ],\n",
       "         [0.6301156 ],\n",
       "         [0.19930585],\n",
       "         [0.19930585],\n",
       "         [0.54990484],\n",
       "         [0.54990484],\n",
       "         [0.80447056],\n",
       "         [0.80447056],\n",
       "         [0.16638017],\n",
       "         [0.16638017],\n",
       "         [0.99942186],\n",
       "         [0.99942186],\n",
       "         [0.14385478],\n",
       "         [0.14385478],\n",
       "         [0.18302297],\n",
       "         [0.18302297],\n",
       "         [0.87262126],\n",
       "         [0.87262126],\n",
       "         [0.0838012 ],\n",
       "         [0.0838012 ],\n",
       "         [0.57565186],\n",
       "         [0.57565186],\n",
       "         [0.17537048],\n",
       "         [0.17537048],\n",
       "         [0.2785799 ],\n",
       "         [0.2785799 ],\n",
       "         [0.22420945],\n",
       "         [0.22420945],\n",
       "         [0.9893412 ],\n",
       "         [0.9893412 ],\n",
       "         [0.93434592],\n",
       "         [0.93434592],\n",
       "         [0.61907574],\n",
       "         [0.61907574],\n",
       "         [0.15131371],\n",
       "         [0.15131371],\n",
       "         [0.80578364],\n",
       "         [0.80578364],\n",
       "         [0.5247389 ],\n",
       "         [0.5247389 ],\n",
       "         [0.32058983],\n",
       "         [0.32058983],\n",
       "         [0.98673449],\n",
       "         [0.98673449],\n",
       "         [0.63627366],\n",
       "         [0.63627366],\n",
       "         [0.8761431 ],\n",
       "         [0.8761431 ],\n",
       "         [0.53887834],\n",
       "         [0.53887834],\n",
       "         [0.22958586],\n",
       "         [0.22958586],\n",
       "         [0.96279136],\n",
       "         [0.96279136],\n",
       "         [0.31798826],\n",
       "         [0.31798826],\n",
       "         [0.71717526],\n",
       "         [0.71717526],\n",
       "         [0.1553295 ],\n",
       "         [0.1553295 ],\n",
       "         [0.36111178],\n",
       "         [0.36111178]])}}"
      ]
     },
     "execution_count": 1,
     "metadata": {},
     "output_type": "execute_result"
    }
   ],
   "source": [
    "ds = load_by_id(run_id_a)\n",
    "ds.get_parameter_data('x1')"
   ]
  },
  {
   "cell_type": "code",
   "execution_count": null,
   "metadata": {},
   "outputs": [],
   "source": []
  }
 ],
 "metadata": {
  "kernelspec": {
   "display_name": "Python 3",
   "language": "python",
   "name": "python3"
  },
  "language_info": {
   "codemirror_mode": {
    "name": "ipython",
    "version": 3
   },
   "file_extension": ".py",
   "mimetype": "text/x-python",
   "name": "python",
   "nbconvert_exporter": "python",
   "pygments_lexer": "ipython3",
   "version": "3.7.10"
  },
  "nbsphinx": {
   "timeout": 600
  },
  "toc": {
   "base_numbering": 1,
   "nav_menu": {},
   "number_sections": true,
   "sideBar": true,
   "skip_h1_title": false,
   "title_cell": "Table of Contents",
   "title_sidebar": "Contents",
   "toc_cell": false,
   "toc_position": {},
   "toc_section_display": true,
   "toc_window_display": false
  },
  "varInspector": {
   "cols": {
    "lenName": 16,
    "lenType": 16,
    "lenVar": 40
   },
   "kernels_config": {
    "python": {
     "delete_cmd_postfix": "",
     "delete_cmd_prefix": "del ",
     "library": "var_list.py",
     "varRefreshCmd": "print(var_dic_list())"
    },
    "r": {
     "delete_cmd_postfix": ") ",
     "delete_cmd_prefix": "rm(",
     "library": "var_list.r",
     "varRefreshCmd": "cat(var_dic_list()) "
    }
   },
   "types_to_exclude": [
    "module",
    "function",
    "builtin_function_or_method",
    "instance",
    "_Feature"
   ],
   "window_display": false
  }
 },
 "nbformat": 4,
 "nbformat_minor": 2
}
