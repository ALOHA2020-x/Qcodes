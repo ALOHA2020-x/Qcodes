{
 "cells": [
  {
   "cell_type": "markdown",
   "metadata": {},
   "source": [
    "# DataSet Performance\n",
    "\n",
    "This notebook shows the trade-off between inserting data into a database row-by-row and as binary blobs. Inserting the data row-by-row means that we have direct access to all the data and may perform queries directly on the values of the data. On the other hand, as we shall see, this is much slower than inserting the data directly as binary blobs."
   ]
  },
  {
   "cell_type": "markdown",
   "metadata": {},
   "source": [
    "First, we choose a new location for the database to ensure that we don't add a bunch of benchmarking data to the default one."
   ]
  },
  {
   "cell_type": "code",
   "execution_count": 1,
   "metadata": {
    "execution": {
     "iopub.execute_input": "2021-04-27T06:38:28.494016Z",
     "iopub.status.busy": "2021-04-27T06:38:28.493245Z",
     "iopub.status.idle": "2021-04-27T06:38:30.097112Z",
     "shell.execute_reply": "2021-04-27T06:38:30.094948Z"
    }
   },
   "outputs": [
    {
     "name": "stdout",
     "output_type": "stream",
     "text": [
      "Logging hadn't been started.\n",
      "Activating auto-logging. Current session state plus future input saved.\n",
      "Filename       : /home/runner/.qcodes/logs/command_history.log\n",
      "Mode           : append\n",
      "Output logging : True\n",
      "Raw input log  : False\n",
      "Timestamping   : True\n",
      "State          : active\n"
     ]
    },
    {
     "name": "stdout",
     "output_type": "stream",
     "text": [
      "Qcodes Logfile : /home/runner/.qcodes/logs/210427-4514-qcodes.log\n"
     ]
    }
   ],
   "source": [
    "import os\n",
    "cwd = os.getcwd()\n",
    "import qcodes as qc\n",
    "qc.config[\"core\"][\"db_location\"] = os.path.join(cwd, 'testing.db')\n"
   ]
  },
  {
   "cell_type": "code",
   "execution_count": 2,
   "metadata": {
    "execution": {
     "iopub.execute_input": "2021-04-27T06:38:30.106567Z",
     "iopub.status.busy": "2021-04-27T06:38:30.104750Z",
     "iopub.status.idle": "2021-04-27T06:38:30.362696Z",
     "shell.execute_reply": "2021-04-27T06:38:30.362071Z"
    }
   },
   "outputs": [],
   "source": [
    "%matplotlib inline\n",
    "import time\n",
    "import matplotlib.pyplot as plt\n",
    "import numpy as np\n",
    "\n",
    "import qcodes as qc\n",
    "from qcodes.instrument.parameter import ManualParameter\n",
    "from qcodes.dataset.experiment_container import (Experiment,\n",
    "                                                 load_last_experiment,\n",
    "                                                 new_experiment)\n",
    "from qcodes.dataset.sqlite.database import initialise_database\n",
    "from qcodes import load_or_create_experiment\n",
    "from qcodes.dataset.measurements import Measurement"
   ]
  },
  {
   "cell_type": "code",
   "execution_count": 3,
   "metadata": {
    "execution": {
     "iopub.execute_input": "2021-04-27T06:38:30.367941Z",
     "iopub.status.busy": "2021-04-27T06:38:30.367211Z",
     "iopub.status.idle": "2021-04-27T06:38:30.587952Z",
     "shell.execute_reply": "2021-04-27T06:38:30.587158Z"
    }
   },
   "outputs": [
    {
     "name": "stdout",
     "output_type": "stream",
     "text": [
      "\r",
      "0it [00:00, ?it/s]"
     ]
    },
    {
     "name": "stdout",
     "output_type": "stream",
     "text": [
      "\r",
      "Upgrading database; v0 -> v1: : 0it [00:00, ?it/s]"
     ]
    },
    {
     "name": "stdout",
     "output_type": "stream",
     "text": [
      "\r",
      "Upgrading database; v0 -> v1: : 0it [00:00, ?it/s]"
     ]
    },
    {
     "name": "stdout",
     "output_type": "stream",
     "text": [
      "\n",
      "\r",
      "  0%|          | 0/1 [00:00<?, ?it/s]"
     ]
    },
    {
     "name": "stdout",
     "output_type": "stream",
     "text": [
      "\r",
      "Upgrading database; v1 -> v2:   0%|          | 0/1 [00:00<?, ?it/s]"
     ]
    },
    {
     "name": "stdout",
     "output_type": "stream",
     "text": [
      "\r",
      "Upgrading database; v1 -> v2: 100%|██████████| 1/1 [00:00<00:00, 332.01it/s]"
     ]
    },
    {
     "name": "stdout",
     "output_type": "stream",
     "text": [
      "\n",
      "\r",
      "0it [00:00, ?it/s]"
     ]
    },
    {
     "name": "stdout",
     "output_type": "stream",
     "text": [
      "\r",
      "Upgrading database; v2 -> v3: : 0it [00:00, ?it/s]"
     ]
    },
    {
     "name": "stdout",
     "output_type": "stream",
     "text": [
      "\r",
      "Upgrading database; v2 -> v3: : 0it [00:00, ?it/s]"
     ]
    },
    {
     "name": "stdout",
     "output_type": "stream",
     "text": [
      "\n",
      "\r",
      "0it [00:00, ?it/s]"
     ]
    },
    {
     "name": "stdout",
     "output_type": "stream",
     "text": [
      "\r",
      "Upgrading database; v3 -> v4: : 0it [00:00, ?it/s]"
     ]
    },
    {
     "name": "stdout",
     "output_type": "stream",
     "text": [
      "\r",
      "Upgrading database; v3 -> v4: : 0it [00:00, ?it/s]"
     ]
    },
    {
     "name": "stdout",
     "output_type": "stream",
     "text": [
      "\n",
      "\r",
      "  0%|          | 0/1 [00:00<?, ?it/s]"
     ]
    },
    {
     "name": "stdout",
     "output_type": "stream",
     "text": [
      "\r",
      "Upgrading database; v4 -> v5:   0%|          | 0/1 [00:00<?, ?it/s]"
     ]
    },
    {
     "name": "stdout",
     "output_type": "stream",
     "text": [
      "\r",
      "Upgrading database; v4 -> v5: 100%|██████████| 1/1 [00:00<00:00, 626.86it/s]"
     ]
    },
    {
     "name": "stdout",
     "output_type": "stream",
     "text": [
      "\n",
      "\r",
      "0it [00:00, ?it/s]"
     ]
    },
    {
     "name": "stdout",
     "output_type": "stream",
     "text": [
      "\r",
      "Upgrading database; v5 -> v6: : 0it [00:00, ?it/s]"
     ]
    },
    {
     "name": "stdout",
     "output_type": "stream",
     "text": [
      "\r",
      "Upgrading database; v5 -> v6: : 0it [00:00, ?it/s]"
     ]
    },
    {
     "name": "stdout",
     "output_type": "stream",
     "text": [
      "\n",
      "\r",
      "  0%|          | 0/1 [00:00<?, ?it/s]"
     ]
    },
    {
     "name": "stdout",
     "output_type": "stream",
     "text": [
      "\r",
      "Upgrading database; v6 -> v7:   0%|          | 0/1 [00:00<?, ?it/s]"
     ]
    },
    {
     "name": "stdout",
     "output_type": "stream",
     "text": [
      "\r",
      "Upgrading database; v6 -> v7: 100%|██████████| 1/1 [00:00<00:00, 190.43it/s]"
     ]
    },
    {
     "name": "stdout",
     "output_type": "stream",
     "text": [
      "\n",
      "\r",
      "  0%|          | 0/1 [00:00<?, ?it/s]"
     ]
    },
    {
     "name": "stdout",
     "output_type": "stream",
     "text": [
      "\r",
      "Upgrading database; v7 -> v8:   0%|          | 0/1 [00:00<?, ?it/s]"
     ]
    },
    {
     "name": "stdout",
     "output_type": "stream",
     "text": [
      "\r",
      "Upgrading database; v7 -> v8: 100%|██████████| 1/1 [00:00<00:00, 199.06it/s]"
     ]
    },
    {
     "name": "stdout",
     "output_type": "stream",
     "text": [
      "\n",
      "\r",
      "  0%|          | 0/1 [00:00<?, ?it/s]"
     ]
    },
    {
     "name": "stdout",
     "output_type": "stream",
     "text": [
      "\r",
      "Upgrading database; v8 -> v9:   0%|          | 0/1 [00:00<?, ?it/s]"
     ]
    },
    {
     "name": "stdout",
     "output_type": "stream",
     "text": [
      "\r",
      "Upgrading database; v8 -> v9: 100%|██████████| 1/1 [00:00<00:00, 346.95it/s]"
     ]
    },
    {
     "name": "stdout",
     "output_type": "stream",
     "text": [
      "\n"
     ]
    }
   ],
   "source": [
    "initialise_database()\n",
    "exp = load_or_create_experiment(experiment_name='tutorial_exp', sample_name=\"no sample\")"
   ]
  },
  {
   "cell_type": "markdown",
   "metadata": {},
   "source": [
    "Here, we define a simple function to benchmark the time it takes to insert n points with either numeric or array data type.\n",
    "We will compare both the time used to call ``add_result`` and the time used for the full measurement."
   ]
  },
  {
   "cell_type": "code",
   "execution_count": 4,
   "metadata": {
    "execution": {
     "iopub.execute_input": "2021-04-27T06:38:30.598324Z",
     "iopub.status.busy": "2021-04-27T06:38:30.596882Z",
     "iopub.status.idle": "2021-04-27T06:38:30.602801Z",
     "shell.execute_reply": "2021-04-27T06:38:30.602199Z"
    }
   },
   "outputs": [],
   "source": [
    "def insert_data(paramtype, npoints, nreps=1):\n",
    "\n",
    "    meas = Measurement(exp=exp)\n",
    "\n",
    "    x1 = ManualParameter('x1')\n",
    "    x2 = ManualParameter('x2')\n",
    "    x3 = ManualParameter('x3')\n",
    "    y1 = ManualParameter('y1')\n",
    "    y2 = ManualParameter('y2')\n",
    "\n",
    "    meas.register_parameter(x1, paramtype=paramtype)\n",
    "    meas.register_parameter(x2, paramtype=paramtype)\n",
    "    meas.register_parameter(x3, paramtype=paramtype)\n",
    "    meas.register_parameter(y1, setpoints=[x1, x2, x3],\n",
    "                            paramtype=paramtype)\n",
    "    meas.register_parameter(y2, setpoints=[x1, x2, x3],\n",
    "                            paramtype=paramtype)\n",
    "    start = time.perf_counter()\n",
    "    with meas.run() as datasaver:\n",
    "        start_adding = time.perf_counter()\n",
    "        for i in range(nreps):\n",
    "            datasaver.add_result((x1, np.random.rand(npoints)),\n",
    "                                 (x2, np.random.rand(npoints)),\n",
    "                                 (x3, np.random.rand(npoints)),\n",
    "                                 (y1, np.random.rand(npoints)),\n",
    "                                 (y2, np.random.rand(npoints)))\n",
    "        stop_adding = time.perf_counter()\n",
    "        run_id = datasaver.run_id\n",
    "    stop = time.perf_counter()\n",
    "    tot_time = stop - start\n",
    "    add_time = stop_adding - start_adding\n",
    "    return tot_time, add_time, run_id"
   ]
  },
  {
   "cell_type": "markdown",
   "metadata": {},
   "source": [
    "## Comparison between numeric/array data and binary blob"
   ]
  },
  {
   "cell_type": "markdown",
   "metadata": {},
   "source": [
    "### Case1: Short experiment time"
   ]
  },
  {
   "cell_type": "code",
   "execution_count": 5,
   "metadata": {
    "execution": {
     "iopub.execute_input": "2021-04-27T06:38:30.615159Z",
     "iopub.status.busy": "2021-04-27T06:38:30.613982Z",
     "iopub.status.idle": "2021-04-27T06:38:31.742915Z",
     "shell.execute_reply": "2021-04-27T06:38:31.743458Z"
    }
   },
   "outputs": [
    {
     "name": "stdout",
     "output_type": "stream",
     "text": [
      "Starting experimental run with id: 1. \n"
     ]
    },
    {
     "name": "stdout",
     "output_type": "stream",
     "text": [
      "Starting experimental run with id: 2. \n"
     ]
    },
    {
     "name": "stdout",
     "output_type": "stream",
     "text": [
      "Starting experimental run with id: 3. \n"
     ]
    },
    {
     "name": "stdout",
     "output_type": "stream",
     "text": [
      "Starting experimental run with id: 4. \n"
     ]
    },
    {
     "name": "stdout",
     "output_type": "stream",
     "text": [
      "Starting experimental run with id: 5. \n",
      "Starting experimental run with id: 6. \n"
     ]
    },
    {
     "name": "stdout",
     "output_type": "stream",
     "text": [
      "Starting experimental run with id: 7. \n"
     ]
    },
    {
     "name": "stdout",
     "output_type": "stream",
     "text": [
      "Starting experimental run with id: 8. \n"
     ]
    },
    {
     "name": "stdout",
     "output_type": "stream",
     "text": [
      "Starting experimental run with id: 9. \n"
     ]
    },
    {
     "name": "stdout",
     "output_type": "stream",
     "text": [
      "Starting experimental run with id: 10. \n",
      "Starting experimental run with id: 11. \n"
     ]
    },
    {
     "name": "stdout",
     "output_type": "stream",
     "text": [
      "Starting experimental run with id: 12. \n",
      "Starting experimental run with id: 13. \n"
     ]
    },
    {
     "name": "stdout",
     "output_type": "stream",
     "text": [
      "Starting experimental run with id: 14. \n"
     ]
    }
   ],
   "source": [
    "sizes = [1,500,1000,2000,3000,4000,5000]\n",
    "t_numeric = []\n",
    "t_numeric_add = []\n",
    "t_array = []\n",
    "t_array_add = []\n",
    "for size in sizes:\n",
    "    tn, tna, run_id_n =  insert_data('numeric', size)\n",
    "    t_numeric.append(tn)\n",
    "    t_numeric_add.append(tna)\n",
    "\n",
    "    ta, taa, run_id_a =  insert_data('array', size)\n",
    "    t_array.append(ta)\n",
    "    t_array_add.append(taa)"
   ]
  },
  {
   "cell_type": "code",
   "execution_count": 6,
   "metadata": {
    "execution": {
     "iopub.execute_input": "2021-04-27T06:38:31.808266Z",
     "iopub.status.busy": "2021-04-27T06:38:31.807049Z",
     "iopub.status.idle": "2021-04-27T06:38:32.008850Z",
     "shell.execute_reply": "2021-04-27T06:38:32.009392Z"
    }
   },
   "outputs": [
    {
     "data": {
      "image/png": "[encoded data removed]",
      "text/plain": [
       "<Figure size 432x288 with 1 Axes>"
      ]
     },
     "metadata": {
      "needs_background": "light"
     },
     "output_type": "display_data"
    }
   ],
   "source": [
    "fig, ax = plt.subplots(1,1)\n",
    "ax.plot(sizes, t_numeric, 'o-', label='Inserting row-by-row')\n",
    "ax.plot(sizes, t_numeric_add, 'o-', label='Inserting row-by-row: add_result only')\n",
    "ax.plot(sizes, t_array, 'd-', label='Inserting as binary blob')\n",
    "ax.plot(sizes, t_array_add, 'd-', label='Inserting as binary blob: add_result only')\n",
    "ax.legend()\n",
    "ax.set_xlabel('Array length')\n",
    "ax.set_ylabel('Time (s)')\n",
    "fig.tight_layout()"
   ]
  },
  {
   "cell_type": "markdown",
   "metadata": {},
   "source": [
    "As shown in the latter figure, the time to setup and and close the experiment is approximately 0.4 sec. In case of small array sizes, the difference between inserting values of data as arrays and inserting them row-by-row is relatively unimportant. At larger array sizes, i.e. above 10000 points, the cost of writing data as individual datapoints starts to become important.\n"
   ]
  },
  {
   "cell_type": "markdown",
   "metadata": {},
   "source": [
    "### Case2: Long experiment time "
   ]
  },
  {
   "cell_type": "code",
   "execution_count": 7,
   "metadata": {
    "execution": {
     "iopub.execute_input": "2021-04-27T06:38:32.015834Z",
     "iopub.status.busy": "2021-04-27T06:38:32.013738Z",
     "iopub.status.idle": "2021-04-27T06:39:37.806865Z",
     "shell.execute_reply": "2021-04-27T06:39:37.807455Z"
    }
   },
   "outputs": [
    {
     "name": "stdout",
     "output_type": "stream",
     "text": [
      "Starting experimental run with id: 15. \n",
      "Starting experimental run with id: 16. \n"
     ]
    },
    {
     "name": "stdout",
     "output_type": "stream",
     "text": [
      "Starting experimental run with id: 17. \n"
     ]
    },
    {
     "name": "stdout",
     "output_type": "stream",
     "text": [
      "Starting experimental run with id: 18. \n"
     ]
    },
    {
     "name": "stdout",
     "output_type": "stream",
     "text": [
      "Starting experimental run with id: 19. \n"
     ]
    },
    {
     "name": "stdout",
     "output_type": "stream",
     "text": [
      "Starting experimental run with id: 20. \n"
     ]
    },
    {
     "name": "stdout",
     "output_type": "stream",
     "text": [
      "Starting experimental run with id: 21. \n"
     ]
    },
    {
     "name": "stdout",
     "output_type": "stream",
     "text": [
      "Starting experimental run with id: 22. \n"
     ]
    },
    {
     "name": "stdout",
     "output_type": "stream",
     "text": [
      "Starting experimental run with id: 23. \n"
     ]
    },
    {
     "name": "stdout",
     "output_type": "stream",
     "text": [
      "Starting experimental run with id: 24. \n"
     ]
    },
    {
     "name": "stdout",
     "output_type": "stream",
     "text": [
      "Starting experimental run with id: 25. \n"
     ]
    },
    {
     "name": "stdout",
     "output_type": "stream",
     "text": [
      "Starting experimental run with id: 26. \n"
     ]
    },
    {
     "name": "stdout",
     "output_type": "stream",
     "text": [
      "Starting experimental run with id: 27. \n"
     ]
    },
    {
     "name": "stdout",
     "output_type": "stream",
     "text": [
      "Starting experimental run with id: 28. \n"
     ]
    }
   ],
   "source": [
    "sizes = [1,500,1000,2000,3000,4000,5000]\n",
    "nreps = 100\n",
    "t_numeric = []\n",
    "t_numeric_add = []\n",
    "t_numeric_run_ids = []\n",
    "t_array = []\n",
    "t_array_add = []\n",
    "t_array_run_ids = []\n",
    "for size in sizes:\n",
    "    tn, tna, run_id_n =  insert_data('numeric', size, nreps=nreps)\n",
    "    t_numeric.append(tn)\n",
    "    t_numeric_add.append(tna)\n",
    "    t_numeric_run_ids.append(run_id_n)\n",
    "\n",
    "    ta, taa, run_id_a =  insert_data('array', size, nreps=nreps)\n",
    "    t_array.append(ta)\n",
    "    t_array_add.append(taa)\n",
    "    t_array_run_ids.append(run_id_a)"
   ]
  },
  {
   "cell_type": "code",
   "execution_count": 8,
   "metadata": {
    "execution": {
     "iopub.execute_input": "2021-04-27T06:39:37.865768Z",
     "iopub.status.busy": "2021-04-27T06:39:37.845527Z",
     "iopub.status.idle": "2021-04-27T06:39:38.087229Z",
     "shell.execute_reply": "2021-04-27T06:39:38.087959Z"
    },
    "scrolled": true
   },
   "outputs": [
    {
     "data": {
      "image/png": "[encoded data removed]",
      "text/plain": [
       "<Figure size 432x288 with 1 Axes>"
      ]
     },
     "metadata": {
      "needs_background": "light"
     },
     "output_type": "display_data"
    }
   ],
   "source": [
    "fig, ax = plt.subplots(1,1)\n",
    "ax.plot(sizes, t_numeric, 'o-', label='Inserting row-by-row')\n",
    "ax.plot(sizes, t_numeric_add, 'o-', label='Inserting row-by-row: add_result only')\n",
    "ax.plot(sizes, t_array, 'd-', label='Inserting as binary blob')\n",
    "ax.plot(sizes, t_array_add, 'd-', label='Inserting as binary blob: add_result only')\n",
    "ax.legend()\n",
    "ax.set_xlabel('Array length')\n",
    "ax.set_ylabel('Time (s)')\n",
    "fig.tight_layout()"
   ]
  },
  {
   "cell_type": "markdown",
   "metadata": {},
   "source": [
    "However, as we increase the length of the experiment, as seen here by repeating the insertion 100 times, we see a big difference between inserting values of the data row-by-row and inserting it as a binary blob."
   ]
  },
  {
   "cell_type": "markdown",
   "metadata": {},
   "source": [
    "## Loading the data "
   ]
  },
  {
   "cell_type": "code",
   "execution_count": 9,
   "metadata": {
    "execution": {
     "iopub.execute_input": "2021-04-27T06:39:38.103007Z",
     "iopub.status.busy": "2021-04-27T06:39:38.100392Z",
     "iopub.status.idle": "2021-04-27T06:39:38.105382Z",
     "shell.execute_reply": "2021-04-27T06:39:38.104268Z"
    }
   },
   "outputs": [],
   "source": [
    "from qcodes.dataset.data_set import load_by_id"
   ]
  },
  {
   "cell_type": "markdown",
   "metadata": {},
   "source": [
    "As usual you can load the data by using the ``load_by_id`` function but you will notice that the different storage methods\n",
    "are reflected in shape of the data as it is retrieved. "
   ]
  },
  {
   "cell_type": "code",
   "execution_count": 10,
   "metadata": {
    "execution": {
     "iopub.execute_input": "2021-04-27T06:39:38.115641Z",
     "iopub.status.busy": "2021-04-27T06:39:38.114492Z",
     "iopub.status.idle": "2021-04-27T06:39:38.118459Z",
     "shell.execute_reply": "2021-04-27T06:39:38.119236Z"
    }
   },
   "outputs": [],
   "source": [
    "run_id_n = t_numeric_run_ids[0]\n",
    "run_id_a = t_array_run_ids[0]"
   ]
  },
  {
   "cell_type": "code",
   "execution_count": 11,
   "metadata": {
    "execution": {
     "iopub.execute_input": "2021-04-27T06:39:38.134679Z",
     "iopub.status.busy": "2021-04-27T06:39:38.130909Z",
     "iopub.status.idle": "2021-04-27T06:39:38.151114Z",
     "shell.execute_reply": "2021-04-27T06:39:38.152821Z"
    },
    "scrolled": true
   },
   "outputs": [
    {
     "data": {
      "text/plain": [
       "{'x1': {'x1': array([0.0970346 , 0.0970346 , 0.29536601, 0.29536601, 0.05168228,\n",
       "         0.05168228, 0.46455173, 0.46455173, 0.34172001, 0.34172001,\n",
       "         0.60685928, 0.60685928, 0.30451419, 0.30451419, 0.21571642,\n",
       "         0.21571642, 0.26120232, 0.26120232, 0.76157048, 0.76157048,\n",
       "         0.15186736, 0.15186736, 0.78641016, 0.78641016, 0.35958725,\n",
       "         0.35958725, 0.06749311, 0.06749311, 0.40340229, 0.40340229,\n",
       "         0.06418068, 0.06418068, 0.02097691, 0.02097691, 0.28773727,\n",
       "         0.28773727, 0.67930917, 0.67930917, 0.84796908, 0.84796908,\n",
       "         0.23523188, 0.23523188, 0.61941381, 0.61941381, 0.01012705,\n",
       "         0.01012705, 0.33685625, 0.33685625, 0.80158637, 0.80158637,\n",
       "         0.52488812, 0.52488812, 0.37331444, 0.37331444, 0.7611111 ,\n",
       "         0.7611111 , 0.47266417, 0.47266417, 0.929918  , 0.929918  ,\n",
       "         0.31031857, 0.31031857, 0.52249349, 0.52249349, 0.19933342,\n",
       "         0.19933342, 0.30960884, 0.30960884, 0.13286943, 0.13286943,\n",
       "         0.70655785, 0.70655785, 0.0738586 , 0.0738586 , 0.99416226,\n",
       "         0.99416226, 0.35852841, 0.35852841, 0.37750267, 0.37750267,\n",
       "         0.32513013, 0.32513013, 0.34182251, 0.34182251, 0.86157358,\n",
       "         0.86157358, 0.49419011, 0.49419011, 0.91060783, 0.91060783,\n",
       "         0.41290066, 0.41290066, 0.1235347 , 0.1235347 , 0.80338412,\n",
       "         0.80338412, 0.60009791, 0.60009791, 0.03271038, 0.03271038,\n",
       "         0.17395377, 0.17395377, 0.08877259, 0.08877259, 0.55306312,\n",
       "         0.55306312, 0.15851003, 0.15851003, 0.54683591, 0.54683591,\n",
       "         0.3327302 , 0.3327302 , 0.32949235, 0.32949235, 0.40008903,\n",
       "         0.40008903, 0.64169914, 0.64169914, 0.01249007, 0.01249007,\n",
       "         0.55219173, 0.55219173, 0.82929167, 0.82929167, 0.28152374,\n",
       "         0.28152374, 0.57520458, 0.57520458, 0.89955338, 0.89955338,\n",
       "         0.18968848, 0.18968848, 0.19017717, 0.19017717, 0.36157693,\n",
       "         0.36157693, 0.73378676, 0.73378676, 0.2327333 , 0.2327333 ,\n",
       "         0.8369935 , 0.8369935 , 0.2251309 , 0.2251309 , 0.71418243,\n",
       "         0.71418243, 0.31488996, 0.31488996, 0.05069787, 0.05069787,\n",
       "         0.80107106, 0.80107106, 0.67844791, 0.67844791, 0.77869961,\n",
       "         0.77869961, 0.56384666, 0.56384666, 0.90388857, 0.90388857,\n",
       "         0.67871376, 0.67871376, 0.51080429, 0.51080429, 0.71887684,\n",
       "         0.71887684, 0.60556557, 0.60556557, 0.13569387, 0.13569387,\n",
       "         0.5505354 , 0.5505354 , 0.33388044, 0.33388044, 0.73473177,\n",
       "         0.73473177, 0.6897001 , 0.6897001 , 0.0496045 , 0.0496045 ,\n",
       "         0.27542381, 0.27542381, 0.4599417 , 0.4599417 , 0.36436628,\n",
       "         0.36436628, 0.75707751, 0.75707751, 0.320843  , 0.320843  ,\n",
       "         0.30069541, 0.30069541, 0.11689329, 0.11689329, 0.56496554,\n",
       "         0.56496554, 0.75122749, 0.75122749, 0.10236609, 0.10236609])}}"
      ]
     },
     "execution_count": 1,
     "metadata": {},
     "output_type": "execute_result"
    }
   ],
   "source": [
    "ds = load_by_id(run_id_n)\n",
    "ds.get_parameter_data('x1')"
   ]
  },
  {
   "cell_type": "markdown",
   "metadata": {},
   "source": [
    "And a dataset stored as binary arrays"
   ]
  },
  {
   "cell_type": "code",
   "execution_count": 12,
   "metadata": {
    "execution": {
     "iopub.execute_input": "2021-04-27T06:39:38.173043Z",
     "iopub.status.busy": "2021-04-27T06:39:38.171435Z",
     "iopub.status.idle": "2021-04-27T06:39:38.244839Z",
     "shell.execute_reply": "2021-04-27T06:39:38.244235Z"
    },
    "scrolled": true
   },
   "outputs": [
    {
     "data": {
      "text/plain": [
       "{'x1': {'x1': array([[0.18546693],\n",
       "         [0.18546693],\n",
       "         [0.97798941],\n",
       "         [0.97798941],\n",
       "         [0.78527443],\n",
       "         [0.78527443],\n",
       "         [0.94186913],\n",
       "         [0.94186913],\n",
       "         [0.70536954],\n",
       "         [0.70536954],\n",
       "         [0.70992451],\n",
       "         [0.70992451],\n",
       "         [0.52570714],\n",
       "         [0.52570714],\n",
       "         [0.27954778],\n",
       "         [0.27954778],\n",
       "         [0.79067978],\n",
       "         [0.79067978],\n",
       "         [0.7510184 ],\n",
       "         [0.7510184 ],\n",
       "         [0.24713767],\n",
       "         [0.24713767],\n",
       "         [0.56321519],\n",
       "         [0.56321519],\n",
       "         [0.95331753],\n",
       "         [0.95331753],\n",
       "         [0.03374983],\n",
       "         [0.03374983],\n",
       "         [0.258196  ],\n",
       "         [0.258196  ],\n",
       "         [0.56185352],\n",
       "         [0.56185352],\n",
       "         [0.20460193],\n",
       "         [0.20460193],\n",
       "         [0.91128534],\n",
       "         [0.91128534],\n",
       "         [0.1042858 ],\n",
       "         [0.1042858 ],\n",
       "         [0.13417933],\n",
       "         [0.13417933],\n",
       "         [0.96374306],\n",
       "         [0.96374306],\n",
       "         [0.19503861],\n",
       "         [0.19503861],\n",
       "         [0.36292708],\n",
       "         [0.36292708],\n",
       "         [0.73634463],\n",
       "         [0.73634463],\n",
       "         [0.85588156],\n",
       "         [0.85588156],\n",
       "         [0.32331312],\n",
       "         [0.32331312],\n",
       "         [0.54155536],\n",
       "         [0.54155536],\n",
       "         [0.75030142],\n",
       "         [0.75030142],\n",
       "         [0.97829644],\n",
       "         [0.97829644],\n",
       "         [0.42804025],\n",
       "         [0.42804025],\n",
       "         [0.27084759],\n",
       "         [0.27084759],\n",
       "         [0.53526318],\n",
       "         [0.53526318],\n",
       "         [0.62366023],\n",
       "         [0.62366023],\n",
       "         [0.60681236],\n",
       "         [0.60681236],\n",
       "         [0.35624784],\n",
       "         [0.35624784],\n",
       "         [0.02724394],\n",
       "         [0.02724394],\n",
       "         [0.04043671],\n",
       "         [0.04043671],\n",
       "         [0.69254759],\n",
       "         [0.69254759],\n",
       "         [0.39933035],\n",
       "         [0.39933035],\n",
       "         [0.01421548],\n",
       "         [0.01421548],\n",
       "         [0.56966237],\n",
       "         [0.56966237],\n",
       "         [0.485222  ],\n",
       "         [0.485222  ],\n",
       "         [0.29397089],\n",
       "         [0.29397089],\n",
       "         [0.52375742],\n",
       "         [0.52375742],\n",
       "         [0.48430083],\n",
       "         [0.48430083],\n",
       "         [0.78599992],\n",
       "         [0.78599992],\n",
       "         [0.91209544],\n",
       "         [0.91209544],\n",
       "         [0.88970158],\n",
       "         [0.88970158],\n",
       "         [0.16627689],\n",
       "         [0.16627689],\n",
       "         [0.7311776 ],\n",
       "         [0.7311776 ],\n",
       "         [0.15132564],\n",
       "         [0.15132564],\n",
       "         [0.45779716],\n",
       "         [0.45779716],\n",
       "         [0.53019583],\n",
       "         [0.53019583],\n",
       "         [0.43069415],\n",
       "         [0.43069415],\n",
       "         [0.1505288 ],\n",
       "         [0.1505288 ],\n",
       "         [0.51127088],\n",
       "         [0.51127088],\n",
       "         [0.10582348],\n",
       "         [0.10582348],\n",
       "         [0.51274509],\n",
       "         [0.51274509],\n",
       "         [0.64849095],\n",
       "         [0.64849095],\n",
       "         [0.22948429],\n",
       "         [0.22948429],\n",
       "         [0.18923681],\n",
       "         [0.18923681],\n",
       "         [0.16051887],\n",
       "         [0.16051887],\n",
       "         [0.11967496],\n",
       "         [0.11967496],\n",
       "         [0.8944422 ],\n",
       "         [0.8944422 ],\n",
       "         [0.60685774],\n",
       "         [0.60685774],\n",
       "         [0.79761222],\n",
       "         [0.79761222],\n",
       "         [0.54538447],\n",
       "         [0.54538447],\n",
       "         [0.01709163],\n",
       "         [0.01709163],\n",
       "         [0.37572639],\n",
       "         [0.37572639],\n",
       "         [0.99606417],\n",
       "         [0.99606417],\n",
       "         [0.24223581],\n",
       "         [0.24223581],\n",
       "         [0.69854438],\n",
       "         [0.69854438],\n",
       "         [0.4801397 ],\n",
       "         [0.4801397 ],\n",
       "         [0.06853732],\n",
       "         [0.06853732],\n",
       "         [0.32946979],\n",
       "         [0.32946979],\n",
       "         [0.33619144],\n",
       "         [0.33619144],\n",
       "         [0.7306522 ],\n",
       "         [0.7306522 ],\n",
       "         [0.32197859],\n",
       "         [0.32197859],\n",
       "         [0.92578844],\n",
       "         [0.92578844],\n",
       "         [0.80922431],\n",
       "         [0.80922431],\n",
       "         [0.35889974],\n",
       "         [0.35889974],\n",
       "         [0.84160993],\n",
       "         [0.84160993],\n",
       "         [0.37951626],\n",
       "         [0.37951626],\n",
       "         [0.25643205],\n",
       "         [0.25643205],\n",
       "         [0.20164545],\n",
       "         [0.20164545],\n",
       "         [0.55167388],\n",
       "         [0.55167388],\n",
       "         [0.81201034],\n",
       "         [0.81201034],\n",
       "         [0.97249522],\n",
       "         [0.97249522],\n",
       "         [0.56296726],\n",
       "         [0.56296726],\n",
       "         [0.53858732],\n",
       "         [0.53858732],\n",
       "         [0.77347023],\n",
       "         [0.77347023],\n",
       "         [0.39727631],\n",
       "         [0.39727631],\n",
       "         [0.17169746],\n",
       "         [0.17169746],\n",
       "         [0.14260645],\n",
       "         [0.14260645],\n",
       "         [0.82211308],\n",
       "         [0.82211308],\n",
       "         [0.04755531],\n",
       "         [0.04755531],\n",
       "         [0.72260302],\n",
       "         [0.72260302],\n",
       "         [0.95308126],\n",
       "         [0.95308126],\n",
       "         [0.0823836 ],\n",
       "         [0.0823836 ],\n",
       "         [0.90620375],\n",
       "         [0.90620375]])}}"
      ]
     },
     "execution_count": 1,
     "metadata": {},
     "output_type": "execute_result"
    }
   ],
   "source": [
    "ds = load_by_id(run_id_a)\n",
    "ds.get_parameter_data('x1')"
   ]
  },
  {
   "cell_type": "code",
   "execution_count": null,
   "metadata": {},
   "outputs": [],
   "source": []
  }
 ],
 "metadata": {
  "kernelspec": {
   "display_name": "Python 3",
   "language": "python",
   "name": "python3"
  },
  "language_info": {
   "codemirror_mode": {
    "name": "ipython",
    "version": 3
   },
   "file_extension": ".py",
   "mimetype": "text/x-python",
   "name": "python",
   "nbconvert_exporter": "python",
   "pygments_lexer": "ipython3",
   "version": "3.7.10"
  },
  "nbsphinx": {
   "timeout": 600
  },
  "toc": {
   "base_numbering": 1,
   "nav_menu": {},
   "number_sections": true,
   "sideBar": true,
   "skip_h1_title": false,
   "title_cell": "Table of Contents",
   "title_sidebar": "Contents",
   "toc_cell": false,
   "toc_position": {},
   "toc_section_display": true,
   "toc_window_display": false
  },
  "varInspector": {
   "cols": {
    "lenName": 16,
    "lenType": 16,
    "lenVar": 40
   },
   "kernels_config": {
    "python": {
     "delete_cmd_postfix": "",
     "delete_cmd_prefix": "del ",
     "library": "var_list.py",
     "varRefreshCmd": "print(var_dic_list())"
    },
    "r": {
     "delete_cmd_postfix": ") ",
     "delete_cmd_prefix": "rm(",
     "library": "var_list.r",
     "varRefreshCmd": "cat(var_dic_list()) "
    }
   },
   "types_to_exclude": [
    "module",
    "function",
    "builtin_function_or_method",
    "instance",
    "_Feature"
   ],
   "window_display": false
  }
 },
 "nbformat": 4,
 "nbformat_minor": 4
}
