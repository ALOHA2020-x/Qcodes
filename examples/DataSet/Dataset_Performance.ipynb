{
 "cells": [
  {
   "cell_type": "markdown",
   "metadata": {},
   "source": [
    "# DataSet Performance\n",
    "\n",
    "This notebook shows the trade-off between inserting data into a database row-by-row and as binary blobs. Inserting the data row-by-row means that we have direct access to all the data and may perform queries directly on the values of the data. On the other hand, as we shall see, this is much slower than inserting the data directly as binary blobs."
   ]
  },
  {
   "cell_type": "markdown",
   "metadata": {},
   "source": [
    "First, we choose a new location for the database to ensure that we don't add a bunch of benchmarking data to the default one."
   ]
  },
  {
   "cell_type": "code",
   "execution_count": 1,
   "metadata": {
    "execution": {
     "iopub.execute_input": "2020-10-02T13:21:26.431878Z",
     "iopub.status.busy": "2020-10-02T13:21:26.431342Z",
     "iopub.status.idle": "2020-10-02T13:21:27.403627Z",
     "shell.execute_reply": "2020-10-02T13:21:27.404794Z"
    }
   },
   "outputs": [
    {
     "name": "stdout",
     "output_type": "stream",
     "text": [
      "Logging hadn't been started.\n",
      "Activating auto-logging. Current session state plus future input saved.\n",
      "Filename       : /home/vsts/.qcodes/logs/command_history.log\n",
      "Mode           : append\n",
      "Output logging : True\n",
      "Raw input log  : False\n",
      "Timestamping   : True\n",
      "State          : active\n"
     ]
    },
    {
     "name": "stdout",
     "output_type": "stream",
     "text": [
      "Qcodes Logfile : /home/vsts/.qcodes/logs/201002-18948-qcodes.log\n"
     ]
    }
   ],
   "source": [
    "import os\n",
    "cwd = os.getcwd()\n",
    "import qcodes as qc\n",
    "qc.config[\"core\"][\"db_location\"] = os.path.join(cwd, 'testing.db')\n"
   ]
  },
  {
   "cell_type": "code",
   "execution_count": 2,
   "metadata": {
    "execution": {
     "iopub.execute_input": "2020-10-02T13:21:27.411300Z",
     "iopub.status.busy": "2020-10-02T13:21:27.410793Z",
     "iopub.status.idle": "2020-10-02T13:21:27.603926Z",
     "shell.execute_reply": "2020-10-02T13:21:27.603363Z"
    }
   },
   "outputs": [],
   "source": [
    "%matplotlib inline\n",
    "import time\n",
    "import matplotlib.pyplot as plt\n",
    "import numpy as np\n",
    "\n",
    "import qcodes as qc\n",
    "from qcodes.instrument.parameter import ManualParameter\n",
    "from qcodes.dataset.experiment_container import (Experiment,\n",
    "                                                 load_last_experiment,\n",
    "                                                 new_experiment)\n",
    "from qcodes.dataset.sqlite.database import initialise_database\n",
    "from qcodes import load_or_create_experiment\n",
    "from qcodes.dataset.measurements import Measurement"
   ]
  },
  {
   "cell_type": "code",
   "execution_count": 3,
   "metadata": {
    "execution": {
     "iopub.execute_input": "2020-10-02T13:21:27.607630Z",
     "iopub.status.busy": "2020-10-02T13:21:27.607040Z",
     "iopub.status.idle": "2020-10-02T13:21:27.734106Z",
     "shell.execute_reply": "2020-10-02T13:21:27.734610Z"
    }
   },
   "outputs": [
    {
     "name": "stdout",
     "output_type": "stream",
     "text": [
      "\r",
      "0it [00:00, ?it/s]"
     ]
    },
    {
     "name": "stdout",
     "output_type": "stream",
     "text": [
      "\r",
      "Upgrading database; v0 -> v1: : 0it [00:00, ?it/s]"
     ]
    },
    {
     "name": "stdout",
     "output_type": "stream",
     "text": [
      "\r",
      "Upgrading database; v0 -> v1: : 0it [00:00, ?it/s]"
     ]
    },
    {
     "name": "stdout",
     "output_type": "stream",
     "text": [
      "\n",
      "\r",
      "  0%|          | 0/1 [00:00<?, ?it/s]"
     ]
    },
    {
     "name": "stdout",
     "output_type": "stream",
     "text": [
      "\r",
      "Upgrading database; v1 -> v2:   0%|          | 0/1 [00:00<?, ?it/s]"
     ]
    },
    {
     "name": "stdout",
     "output_type": "stream",
     "text": [
      "\r",
      "Upgrading database; v1 -> v2: 100%|██████████| 1/1 [00:00<00:00, 627.04it/s]"
     ]
    },
    {
     "name": "stdout",
     "output_type": "stream",
     "text": [
      "\n",
      "\r",
      "0it [00:00, ?it/s]"
     ]
    },
    {
     "name": "stdout",
     "output_type": "stream",
     "text": [
      "\r",
      "Upgrading database; v2 -> v3: : 0it [00:00, ?it/s]"
     ]
    },
    {
     "name": "stdout",
     "output_type": "stream",
     "text": [
      "\r",
      "Upgrading database; v2 -> v3: : 0it [00:00, ?it/s]"
     ]
    },
    {
     "name": "stdout",
     "output_type": "stream",
     "text": [
      "\n",
      "\r",
      "0it [00:00, ?it/s]"
     ]
    },
    {
     "name": "stdout",
     "output_type": "stream",
     "text": [
      "\r",
      "Upgrading database; v3 -> v4: : 0it [00:00, ?it/s]"
     ]
    },
    {
     "name": "stdout",
     "output_type": "stream",
     "text": [
      "\r",
      "Upgrading database; v3 -> v4: : 0it [00:00, ?it/s]"
     ]
    },
    {
     "name": "stdout",
     "output_type": "stream",
     "text": [
      "\n",
      "\r",
      "  0%|          | 0/1 [00:00<?, ?it/s]"
     ]
    },
    {
     "name": "stdout",
     "output_type": "stream",
     "text": [
      "\r",
      "Upgrading database; v4 -> v5:   0%|          | 0/1 [00:00<?, ?it/s]"
     ]
    },
    {
     "name": "stdout",
     "output_type": "stream",
     "text": [
      "\r",
      "Upgrading database; v4 -> v5: 100%|██████████| 1/1 [00:00<00:00, 519.61it/s]"
     ]
    },
    {
     "name": "stdout",
     "output_type": "stream",
     "text": [
      "\n",
      "\r",
      "0it [00:00, ?it/s]"
     ]
    },
    {
     "name": "stdout",
     "output_type": "stream",
     "text": [
      "\r",
      "Upgrading database; v5 -> v6: : 0it [00:00, ?it/s]"
     ]
    },
    {
     "name": "stdout",
     "output_type": "stream",
     "text": [
      "\r",
      "Upgrading database; v5 -> v6: : 0it [00:00, ?it/s]"
     ]
    },
    {
     "name": "stdout",
     "output_type": "stream",
     "text": [
      "\n",
      "\r",
      "  0%|          | 0/1 [00:00<?, ?it/s]"
     ]
    },
    {
     "name": "stdout",
     "output_type": "stream",
     "text": [
      "\r",
      "Upgrading database; v6 -> v7:   0%|          | 0/1 [00:00<?, ?it/s]"
     ]
    },
    {
     "name": "stdout",
     "output_type": "stream",
     "text": [
      "\r",
      "Upgrading database; v6 -> v7: 100%|██████████| 1/1 [00:00<00:00, 288.45it/s]"
     ]
    },
    {
     "name": "stdout",
     "output_type": "stream",
     "text": [
      "\n",
      "\r",
      "  0%|          | 0/1 [00:00<?, ?it/s]"
     ]
    },
    {
     "name": "stdout",
     "output_type": "stream",
     "text": [
      "\r",
      "Upgrading database; v7 -> v8:   0%|          | 0/1 [00:00<?, ?it/s]"
     ]
    },
    {
     "name": "stdout",
     "output_type": "stream",
     "text": [
      "\r",
      "Upgrading database; v7 -> v8: 100%|██████████| 1/1 [00:00<00:00, 147.19it/s]"
     ]
    },
    {
     "name": "stdout",
     "output_type": "stream",
     "text": [
      "\n",
      "\r",
      "  0%|          | 0/1 [00:00<?, ?it/s]"
     ]
    },
    {
     "name": "stdout",
     "output_type": "stream",
     "text": [
      "\r",
      "Upgrading database; v8 -> v9:   0%|          | 0/1 [00:00<?, ?it/s]"
     ]
    },
    {
     "name": "stdout",
     "output_type": "stream",
     "text": [
      "\r",
      "Upgrading database; v8 -> v9: 100%|██████████| 1/1 [00:00<00:00, 517.37it/s]"
     ]
    },
    {
     "name": "stdout",
     "output_type": "stream",
     "text": [
      "\n"
     ]
    }
   ],
   "source": [
    "initialise_database()\n",
    "exp = load_or_create_experiment(experiment_name='tutorial_exp', sample_name=\"no sample\")"
   ]
  },
  {
   "cell_type": "markdown",
   "metadata": {},
   "source": [
    "Here, we define a simple function to benchmark the time it takes to insert n points with either numeric or array data type.\n",
    "We will compare both the time used to call ``add_result`` and the time used for the full measurement."
   ]
  },
  {
   "cell_type": "code",
   "execution_count": 4,
   "metadata": {
    "execution": {
     "iopub.execute_input": "2020-10-02T13:21:27.743783Z",
     "iopub.status.busy": "2020-10-02T13:21:27.742706Z",
     "iopub.status.idle": "2020-10-02T13:21:27.744216Z",
     "shell.execute_reply": "2020-10-02T13:21:27.744711Z"
    }
   },
   "outputs": [],
   "source": [
    "def insert_data(paramtype, npoints, nreps=1):\n",
    "\n",
    "    meas = Measurement(exp=exp)\n",
    "\n",
    "    x1 = ManualParameter('x1')\n",
    "    x2 = ManualParameter('x2')\n",
    "    x3 = ManualParameter('x3')\n",
    "    y1 = ManualParameter('y1')\n",
    "    y2 = ManualParameter('y2')\n",
    "\n",
    "    meas.register_parameter(x1, paramtype=paramtype)\n",
    "    meas.register_parameter(x2, paramtype=paramtype)\n",
    "    meas.register_parameter(x3, paramtype=paramtype)\n",
    "    meas.register_parameter(y1, setpoints=[x1, x2, x3],\n",
    "                            paramtype=paramtype)\n",
    "    meas.register_parameter(y2, setpoints=[x1, x2, x3],\n",
    "                            paramtype=paramtype)\n",
    "    start = time.perf_counter()\n",
    "    with meas.run() as datasaver:\n",
    "        start_adding = time.perf_counter()\n",
    "        for i in range(nreps):\n",
    "            datasaver.add_result((x1, np.random.rand(npoints)),\n",
    "                                 (x2, np.random.rand(npoints)),\n",
    "                                 (x3, np.random.rand(npoints)),\n",
    "                                 (y1, np.random.rand(npoints)),\n",
    "                                 (y2, np.random.rand(npoints)))\n",
    "        stop_adding = time.perf_counter()\n",
    "        run_id = datasaver.run_id\n",
    "    stop = time.perf_counter()\n",
    "    tot_time = stop - start\n",
    "    add_time = stop_adding - start_adding\n",
    "    return tot_time, add_time, run_id"
   ]
  },
  {
   "cell_type": "markdown",
   "metadata": {},
   "source": [
    "## Comparison between numeric/array data and binary blob"
   ]
  },
  {
   "cell_type": "markdown",
   "metadata": {},
   "source": [
    "### Case1: Short experiment time"
   ]
  },
  {
   "cell_type": "code",
   "execution_count": 5,
   "metadata": {
    "execution": {
     "iopub.execute_input": "2020-10-02T13:21:27.750510Z",
     "iopub.status.busy": "2020-10-02T13:21:27.750027Z",
     "iopub.status.idle": "2020-10-02T13:21:28.571844Z",
     "shell.execute_reply": "2020-10-02T13:21:28.572565Z"
    }
   },
   "outputs": [
    {
     "name": "stdout",
     "output_type": "stream",
     "text": [
      "Starting experimental run with id: 1. \n",
      "Starting experimental run with id: 2. \n",
      "Starting experimental run with id: 3. \n",
      "Starting experimental run with id: 4. \n",
      "Starting experimental run with id: 5. \n"
     ]
    },
    {
     "name": "stdout",
     "output_type": "stream",
     "text": [
      "Starting experimental run with id: 6. \n"
     ]
    },
    {
     "name": "stdout",
     "output_type": "stream",
     "text": [
      "Starting experimental run with id: 7. \n"
     ]
    },
    {
     "name": "stdout",
     "output_type": "stream",
     "text": [
      "Starting experimental run with id: 8. \n",
      "Starting experimental run with id: 9. \n"
     ]
    },
    {
     "name": "stdout",
     "output_type": "stream",
     "text": [
      "Starting experimental run with id: 10. \n",
      "Starting experimental run with id: 11. \n"
     ]
    },
    {
     "name": "stdout",
     "output_type": "stream",
     "text": [
      "Starting experimental run with id: 12. \n",
      "Starting experimental run with id: 13. \n"
     ]
    },
    {
     "name": "stdout",
     "output_type": "stream",
     "text": [
      "Starting experimental run with id: 14. \n"
     ]
    }
   ],
   "source": [
    "sizes = [1,500,1000,2000,3000,4000,5000]\n",
    "t_numeric = []\n",
    "t_numeric_add = []\n",
    "t_array = []\n",
    "t_array_add = []\n",
    "for size in sizes:\n",
    "    tn, tna, run_id_n =  insert_data('numeric', size)\n",
    "    t_numeric.append(tn)\n",
    "    t_numeric_add.append(tna)\n",
    "\n",
    "    ta, taa, run_id_a =  insert_data('array', size)\n",
    "    t_array.append(ta)\n",
    "    t_array_add.append(taa)"
   ]
  },
  {
   "cell_type": "code",
   "execution_count": 6,
   "metadata": {
    "execution": {
     "iopub.execute_input": "2020-10-02T13:21:28.588979Z",
     "iopub.status.busy": "2020-10-02T13:21:28.588432Z",
     "iopub.status.idle": "2020-10-02T13:21:28.758824Z",
     "shell.execute_reply": "2020-10-02T13:21:28.758345Z"
    }
   },
   "outputs": [
    {
     "data": {
      "image/png": "[encoded data removed]",
      "text/plain": [
       "<Figure size 432x288 with 1 Axes>"
      ]
     },
     "metadata": {
      "needs_background": "light"
     },
     "output_type": "display_data"
    }
   ],
   "source": [
    "fig, ax = plt.subplots(1,1)\n",
    "ax.plot(sizes, t_numeric, 'o-', label='Inserting row-by-row')\n",
    "ax.plot(sizes, t_numeric_add, 'o-', label='Inserting row-by-row: add_result only')\n",
    "ax.plot(sizes, t_array, 'd-', label='Inserting as binary blob')\n",
    "ax.plot(sizes, t_array_add, 'd-', label='Inserting as binary blob: add_result only')\n",
    "ax.legend()\n",
    "ax.set_xlabel('Array length')\n",
    "ax.set_ylabel('Time (s)')\n",
    "fig.tight_layout()"
   ]
  },
  {
   "cell_type": "markdown",
   "metadata": {},
   "source": [
    "As shown in the latter figure, the time to setup and and close the experiment is approximately 0.4 sec. In case of small array sizes, the difference between inserting values of data as arrays and inserting them row-by-row is relatively unimportant. At larger array sizes, i.e. above 10000 points, the cost of writing data as individual datapoints starts to become important.\n"
   ]
  },
  {
   "cell_type": "markdown",
   "metadata": {},
   "source": [
    "### Case2: Long experiment time "
   ]
  },
  {
   "cell_type": "code",
   "execution_count": 7,
   "metadata": {
    "execution": {
     "iopub.execute_input": "2020-10-02T13:21:28.765002Z",
     "iopub.status.busy": "2020-10-02T13:21:28.763831Z",
     "iopub.status.idle": "2020-10-02T13:22:24.328224Z",
     "shell.execute_reply": "2020-10-02T13:22:24.326887Z"
    }
   },
   "outputs": [
    {
     "name": "stdout",
     "output_type": "stream",
     "text": [
      "Starting experimental run with id: 15. \n",
      "Starting experimental run with id: 16. \n",
      "Starting experimental run with id: 17. \n"
     ]
    },
    {
     "name": "stdout",
     "output_type": "stream",
     "text": [
      "Starting experimental run with id: 18. \n",
      "Starting experimental run with id: 19. \n"
     ]
    },
    {
     "name": "stdout",
     "output_type": "stream",
     "text": [
      "Starting experimental run with id: 20. \n"
     ]
    },
    {
     "name": "stdout",
     "output_type": "stream",
     "text": [
      "Starting experimental run with id: 21. \n"
     ]
    },
    {
     "name": "stdout",
     "output_type": "stream",
     "text": [
      "Starting experimental run with id: 22. \n"
     ]
    },
    {
     "name": "stdout",
     "output_type": "stream",
     "text": [
      "Starting experimental run with id: 23. \n"
     ]
    },
    {
     "name": "stdout",
     "output_type": "stream",
     "text": [
      "Starting experimental run with id: 24. \n"
     ]
    },
    {
     "name": "stdout",
     "output_type": "stream",
     "text": [
      "Starting experimental run with id: 25. \n"
     ]
    },
    {
     "name": "stdout",
     "output_type": "stream",
     "text": [
      "Starting experimental run with id: 26. \n"
     ]
    },
    {
     "name": "stdout",
     "output_type": "stream",
     "text": [
      "Starting experimental run with id: 27. \n"
     ]
    },
    {
     "name": "stdout",
     "output_type": "stream",
     "text": [
      "Starting experimental run with id: 28. \n"
     ]
    }
   ],
   "source": [
    "sizes = [1,500,1000,2000,3000,4000,5000]\n",
    "nreps = 100\n",
    "t_numeric = []\n",
    "t_numeric_add = []\n",
    "t_numeric_run_ids = []\n",
    "t_array = []\n",
    "t_array_add = []\n",
    "t_array_run_ids = []\n",
    "for size in sizes:\n",
    "    tn, tna, run_id_n =  insert_data('numeric', size, nreps=nreps)\n",
    "    t_numeric.append(tn)\n",
    "    t_numeric_add.append(tna)\n",
    "    t_numeric_run_ids.append(run_id_n)\n",
    "\n",
    "    ta, taa, run_id_a =  insert_data('array', size, nreps=nreps)\n",
    "    t_array.append(ta)\n",
    "    t_array_add.append(taa)\n",
    "    t_array_run_ids.append(run_id_a)"
   ]
  },
  {
   "cell_type": "code",
   "execution_count": 8,
   "metadata": {
    "execution": {
     "iopub.execute_input": "2020-10-02T13:22:24.346065Z",
     "iopub.status.busy": "2020-10-02T13:22:24.345255Z",
     "iopub.status.idle": "2020-10-02T13:22:24.514518Z",
     "shell.execute_reply": "2020-10-02T13:22:24.513985Z"
    },
    "scrolled": true
   },
   "outputs": [
    {
     "data": {
      "image/png": "[encoded data removed]",
      "text/plain": [
       "<Figure size 432x288 with 1 Axes>"
      ]
     },
     "metadata": {
      "needs_background": "light"
     },
     "output_type": "display_data"
    }
   ],
   "source": [
    "fig, ax = plt.subplots(1,1)\n",
    "ax.plot(sizes, t_numeric, 'o-', label='Inserting row-by-row')\n",
    "ax.plot(sizes, t_numeric_add, 'o-', label='Inserting row-by-row: add_result only')\n",
    "ax.plot(sizes, t_array, 'd-', label='Inserting as binary blob')\n",
    "ax.plot(sizes, t_array_add, 'd-', label='Inserting as binary blob: add_result only')\n",
    "ax.legend()\n",
    "ax.set_xlabel('Array length')\n",
    "ax.set_ylabel('Time (s)')\n",
    "fig.tight_layout()"
   ]
  },
  {
   "cell_type": "markdown",
   "metadata": {},
   "source": [
    "However, as we increase the length of the experiment, as seen here by repeating the insertion 100 times, we see a big difference between inserting values of the data row-by-row and inserting it as a binary blob."
   ]
  },
  {
   "cell_type": "markdown",
   "metadata": {},
   "source": [
    "## Loading the data "
   ]
  },
  {
   "cell_type": "code",
   "execution_count": 9,
   "metadata": {
    "execution": {
     "iopub.execute_input": "2020-10-02T13:22:24.518735Z",
     "iopub.status.busy": "2020-10-02T13:22:24.517970Z",
     "iopub.status.idle": "2020-10-02T13:22:24.522843Z",
     "shell.execute_reply": "2020-10-02T13:22:24.521870Z"
    }
   },
   "outputs": [],
   "source": [
    "from qcodes.dataset.data_set import load_by_id\n",
    "from qcodes.dataset.data_export import get_data_by_id"
   ]
  },
  {
   "cell_type": "markdown",
   "metadata": {},
   "source": [
    "As usual you can load the data by using the ``load_by_id`` function but you will notice that the different storage methods\n",
    "are reflected in shape of the data as it is retrieved. "
   ]
  },
  {
   "cell_type": "code",
   "execution_count": 10,
   "metadata": {
    "execution": {
     "iopub.execute_input": "2020-10-02T13:22:24.526607Z",
     "iopub.status.busy": "2020-10-02T13:22:24.526121Z",
     "iopub.status.idle": "2020-10-02T13:22:24.529461Z",
     "shell.execute_reply": "2020-10-02T13:22:24.528946Z"
    }
   },
   "outputs": [],
   "source": [
    "run_id_n = t_numeric_run_ids[0]\n",
    "run_id_a = t_array_run_ids[0]"
   ]
  },
  {
   "cell_type": "code",
   "execution_count": 11,
   "metadata": {
    "execution": {
     "iopub.execute_input": "2020-10-02T13:22:24.533148Z",
     "iopub.status.busy": "2020-10-02T13:22:24.532068Z",
     "iopub.status.idle": "2020-10-02T13:22:24.543825Z",
     "shell.execute_reply": "2020-10-02T13:22:24.543225Z"
    },
    "scrolled": true
   },
   "outputs": [
    {
     "data": {
      "text/plain": [
       "{'x1': {'x1': array([0.61349623, 0.61349623, 0.68124014, 0.68124014, 0.80431063,\n",
       "         0.80431063, 0.868257  , 0.868257  , 0.33868281, 0.33868281,\n",
       "         0.42354573, 0.42354573, 0.39681734, 0.39681734, 0.48810092,\n",
       "         0.48810092, 0.88679781, 0.88679781, 0.99723098, 0.99723098,\n",
       "         0.92540633, 0.92540633, 0.85130084, 0.85130084, 0.11458821,\n",
       "         0.11458821, 0.29343359, 0.29343359, 0.02763498, 0.02763498,\n",
       "         0.94793209, 0.94793209, 0.66224792, 0.66224792, 0.05389459,\n",
       "         0.05389459, 0.74969618, 0.74969618, 0.92869695, 0.92869695,\n",
       "         0.82472043, 0.82472043, 0.34942511, 0.34942511, 0.56366731,\n",
       "         0.56366731, 0.90541745, 0.90541745, 0.96852612, 0.96852612,\n",
       "         0.92793915, 0.92793915, 0.67923129, 0.67923129, 0.25728361,\n",
       "         0.25728361, 0.44357431, 0.44357431, 0.40786845, 0.40786845,\n",
       "         0.74560306, 0.74560306, 0.41746174, 0.41746174, 0.83378081,\n",
       "         0.83378081, 0.40958751, 0.40958751, 0.18691019, 0.18691019,\n",
       "         0.93412888, 0.93412888, 0.29307428, 0.29307428, 0.93203419,\n",
       "         0.93203419, 0.95143873, 0.95143873, 0.30162694, 0.30162694,\n",
       "         0.90159314, 0.90159314, 0.13307781, 0.13307781, 0.69505666,\n",
       "         0.69505666, 0.73961845, 0.73961845, 0.72238785, 0.72238785,\n",
       "         0.40535156, 0.40535156, 0.58309506, 0.58309506, 0.40964324,\n",
       "         0.40964324, 0.3658165 , 0.3658165 , 0.9097968 , 0.9097968 ,\n",
       "         0.48111582, 0.48111582, 0.2351851 , 0.2351851 , 0.0517161 ,\n",
       "         0.0517161 , 0.57857171, 0.57857171, 0.73085739, 0.73085739,\n",
       "         0.3218883 , 0.3218883 , 0.34081671, 0.34081671, 0.19406648,\n",
       "         0.19406648, 0.29320781, 0.29320781, 0.41959063, 0.41959063,\n",
       "         0.59874638, 0.59874638, 0.6490661 , 0.6490661 , 0.96694742,\n",
       "         0.96694742, 0.86103981, 0.86103981, 0.40739442, 0.40739442,\n",
       "         0.60989847, 0.60989847, 0.08128184, 0.08128184, 0.45025514,\n",
       "         0.45025514, 0.11681373, 0.11681373, 0.82316266, 0.82316266,\n",
       "         0.4260433 , 0.4260433 , 0.28868524, 0.28868524, 0.65469419,\n",
       "         0.65469419, 0.00929206, 0.00929206, 0.50415988, 0.50415988,\n",
       "         0.59177181, 0.59177181, 0.72333916, 0.72333916, 0.98191361,\n",
       "         0.98191361, 0.22806953, 0.22806953, 0.92852076, 0.92852076,\n",
       "         0.35091604, 0.35091604, 0.85522189, 0.85522189, 0.68217267,\n",
       "         0.68217267, 0.49349918, 0.49349918, 0.61603165, 0.61603165,\n",
       "         0.22071528, 0.22071528, 0.73818586, 0.73818586, 0.92605229,\n",
       "         0.92605229, 0.02206618, 0.02206618, 0.29209198, 0.29209198,\n",
       "         0.0460496 , 0.0460496 , 0.09979885, 0.09979885, 0.60236601,\n",
       "         0.60236601, 0.54497812, 0.54497812, 0.43192559, 0.43192559,\n",
       "         0.47687544, 0.47687544, 0.15795085, 0.15795085, 0.58460475,\n",
       "         0.58460475, 0.98969054, 0.98969054, 0.17435198, 0.17435198])}}"
      ]
     },
     "execution_count": 1,
     "metadata": {},
     "output_type": "execute_result"
    }
   ],
   "source": [
    "ds = load_by_id(run_id_n)\n",
    "ds.get_parameter_data('x1')"
   ]
  },
  {
   "cell_type": "markdown",
   "metadata": {},
   "source": [
    "And a dataset stored as binary arrays"
   ]
  },
  {
   "cell_type": "code",
   "execution_count": 12,
   "metadata": {
    "execution": {
     "iopub.execute_input": "2020-10-02T13:22:24.547247Z",
     "iopub.status.busy": "2020-10-02T13:22:24.546488Z",
     "iopub.status.idle": "2020-10-02T13:22:24.601809Z",
     "shell.execute_reply": "2020-10-02T13:22:24.600178Z"
    },
    "scrolled": true
   },
   "outputs": [
    {
     "data": {
      "text/plain": [
       "{'x1': {'x1': array([[0.04201908],\n",
       "         [0.04201908],\n",
       "         [0.93308858],\n",
       "         [0.93308858],\n",
       "         [0.04736745],\n",
       "         [0.04736745],\n",
       "         [0.83647973],\n",
       "         [0.83647973],\n",
       "         [0.22732279],\n",
       "         [0.22732279],\n",
       "         [0.87388805],\n",
       "         [0.87388805],\n",
       "         [0.04368495],\n",
       "         [0.04368495],\n",
       "         [0.83055679],\n",
       "         [0.83055679],\n",
       "         [0.17385471],\n",
       "         [0.17385471],\n",
       "         [0.96499873],\n",
       "         [0.96499873],\n",
       "         [0.04272857],\n",
       "         [0.04272857],\n",
       "         [0.81379697],\n",
       "         [0.81379697],\n",
       "         [0.88550277],\n",
       "         [0.88550277],\n",
       "         [0.11867866],\n",
       "         [0.11867866],\n",
       "         [0.79703736],\n",
       "         [0.79703736],\n",
       "         [0.54374526],\n",
       "         [0.54374526],\n",
       "         [0.65117276],\n",
       "         [0.65117276],\n",
       "         [0.37158346],\n",
       "         [0.37158346],\n",
       "         [0.57248572],\n",
       "         [0.57248572],\n",
       "         [0.76146445],\n",
       "         [0.76146445],\n",
       "         [0.3628569 ],\n",
       "         [0.3628569 ],\n",
       "         [0.91985008],\n",
       "         [0.91985008],\n",
       "         [0.82921209],\n",
       "         [0.82921209],\n",
       "         [0.99670481],\n",
       "         [0.99670481],\n",
       "         [0.71966059],\n",
       "         [0.71966059],\n",
       "         [0.0606414 ],\n",
       "         [0.0606414 ],\n",
       "         [0.74201265],\n",
       "         [0.74201265],\n",
       "         [0.1140467 ],\n",
       "         [0.1140467 ],\n",
       "         [0.8873308 ],\n",
       "         [0.8873308 ],\n",
       "         [0.4085775 ],\n",
       "         [0.4085775 ],\n",
       "         [0.13614422],\n",
       "         [0.13614422],\n",
       "         [0.89426021],\n",
       "         [0.89426021],\n",
       "         [0.40876989],\n",
       "         [0.40876989],\n",
       "         [0.77562048],\n",
       "         [0.77562048],\n",
       "         [0.74110515],\n",
       "         [0.74110515],\n",
       "         [0.10302619],\n",
       "         [0.10302619],\n",
       "         [0.11027808],\n",
       "         [0.11027808],\n",
       "         [0.85270731],\n",
       "         [0.85270731],\n",
       "         [0.93978052],\n",
       "         [0.93978052],\n",
       "         [0.68329897],\n",
       "         [0.68329897],\n",
       "         [0.98160418],\n",
       "         [0.98160418],\n",
       "         [0.95571011],\n",
       "         [0.95571011],\n",
       "         [0.02180733],\n",
       "         [0.02180733],\n",
       "         [0.89807932],\n",
       "         [0.89807932],\n",
       "         [0.64498458],\n",
       "         [0.64498458],\n",
       "         [0.80436709],\n",
       "         [0.80436709],\n",
       "         [0.61709511],\n",
       "         [0.61709511],\n",
       "         [0.00516319],\n",
       "         [0.00516319],\n",
       "         [0.60402698],\n",
       "         [0.60402698],\n",
       "         [0.77383013],\n",
       "         [0.77383013],\n",
       "         [0.59320122],\n",
       "         [0.59320122],\n",
       "         [0.52132775],\n",
       "         [0.52132775],\n",
       "         [0.51947828],\n",
       "         [0.51947828],\n",
       "         [0.86120253],\n",
       "         [0.86120253],\n",
       "         [0.56871319],\n",
       "         [0.56871319],\n",
       "         [0.58444407],\n",
       "         [0.58444407],\n",
       "         [0.96876729],\n",
       "         [0.96876729],\n",
       "         [0.34386811],\n",
       "         [0.34386811],\n",
       "         [0.58316989],\n",
       "         [0.58316989],\n",
       "         [0.60985951],\n",
       "         [0.60985951],\n",
       "         [0.20390305],\n",
       "         [0.20390305],\n",
       "         [0.74942602],\n",
       "         [0.74942602],\n",
       "         [0.15334812],\n",
       "         [0.15334812],\n",
       "         [0.70484635],\n",
       "         [0.70484635],\n",
       "         [0.82576434],\n",
       "         [0.82576434],\n",
       "         [0.14154795],\n",
       "         [0.14154795],\n",
       "         [0.19448325],\n",
       "         [0.19448325],\n",
       "         [0.73246105],\n",
       "         [0.73246105],\n",
       "         [0.52550337],\n",
       "         [0.52550337],\n",
       "         [0.57271454],\n",
       "         [0.57271454],\n",
       "         [0.68560444],\n",
       "         [0.68560444],\n",
       "         [0.77218152],\n",
       "         [0.77218152],\n",
       "         [0.25674599],\n",
       "         [0.25674599],\n",
       "         [0.6619005 ],\n",
       "         [0.6619005 ],\n",
       "         [0.40341365],\n",
       "         [0.40341365],\n",
       "         [0.32917177],\n",
       "         [0.32917177],\n",
       "         [0.51778262],\n",
       "         [0.51778262],\n",
       "         [0.80563746],\n",
       "         [0.80563746],\n",
       "         [0.55603507],\n",
       "         [0.55603507],\n",
       "         [0.70457979],\n",
       "         [0.70457979],\n",
       "         [0.5480272 ],\n",
       "         [0.5480272 ],\n",
       "         [0.68497282],\n",
       "         [0.68497282],\n",
       "         [0.14936362],\n",
       "         [0.14936362],\n",
       "         [0.4543571 ],\n",
       "         [0.4543571 ],\n",
       "         [0.87558643],\n",
       "         [0.87558643],\n",
       "         [0.96489525],\n",
       "         [0.96489525],\n",
       "         [0.08072796],\n",
       "         [0.08072796],\n",
       "         [0.6867485 ],\n",
       "         [0.6867485 ],\n",
       "         [0.4728818 ],\n",
       "         [0.4728818 ],\n",
       "         [0.2707365 ],\n",
       "         [0.2707365 ],\n",
       "         [0.34215139],\n",
       "         [0.34215139],\n",
       "         [0.5234014 ],\n",
       "         [0.5234014 ],\n",
       "         [0.01305836],\n",
       "         [0.01305836],\n",
       "         [0.94949636],\n",
       "         [0.94949636],\n",
       "         [0.04190049],\n",
       "         [0.04190049],\n",
       "         [0.56321612],\n",
       "         [0.56321612],\n",
       "         [0.14869254],\n",
       "         [0.14869254],\n",
       "         [0.96501643],\n",
       "         [0.96501643],\n",
       "         [0.69222298],\n",
       "         [0.69222298],\n",
       "         [0.28293159],\n",
       "         [0.28293159]])}}"
      ]
     },
     "execution_count": 1,
     "metadata": {},
     "output_type": "execute_result"
    }
   ],
   "source": [
    "ds = load_by_id(run_id_a)\n",
    "ds.get_parameter_data('x1')"
   ]
  },
  {
   "cell_type": "code",
   "execution_count": null,
   "metadata": {},
   "outputs": [],
   "source": []
  }
 ],
 "metadata": {
  "kernelspec": {
   "display_name": "Python 3",
   "language": "python",
   "name": "python3"
  },
  "language_info": {
   "codemirror_mode": {
    "name": "ipython",
    "version": 3
   },
   "file_extension": ".py",
   "mimetype": "text/x-python",
   "name": "python",
   "nbconvert_exporter": "python",
   "pygments_lexer": "ipython3",
   "version": "3.7.7"
  },
  "nbsphinx": {
   "timeout": 600
  },
  "toc": {
   "base_numbering": 1,
   "nav_menu": {},
   "number_sections": true,
   "sideBar": true,
   "skip_h1_title": false,
   "title_cell": "Table of Contents",
   "title_sidebar": "Contents",
   "toc_cell": false,
   "toc_position": {},
   "toc_section_display": true,
   "toc_window_display": false
  },
  "varInspector": {
   "cols": {
    "lenName": 16,
    "lenType": 16,
    "lenVar": 40
   },
   "kernels_config": {
    "python": {
     "delete_cmd_postfix": "",
     "delete_cmd_prefix": "del ",
     "library": "var_list.py",
     "varRefreshCmd": "print(var_dic_list())"
    },
    "r": {
     "delete_cmd_postfix": ") ",
     "delete_cmd_prefix": "rm(",
     "library": "var_list.r",
     "varRefreshCmd": "cat(var_dic_list()) "
    }
   },
   "types_to_exclude": [
    "module",
    "function",
    "builtin_function_or_method",
    "instance",
    "_Feature"
   ],
   "window_display": false
  }
 },
 "nbformat": 4,
 "nbformat_minor": 2
}
