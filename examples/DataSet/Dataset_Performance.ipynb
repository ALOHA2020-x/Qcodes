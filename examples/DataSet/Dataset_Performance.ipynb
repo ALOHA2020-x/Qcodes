{
 "cells": [
  {
   "cell_type": "markdown",
   "metadata": {},
   "source": [
    "# DataSet Performance\n",
    "\n",
    "This notebook shows the trade-off between inserting data into a database row-by-row and as binary blobs. Inserting the data row-by-row means that we have direct access to all the data and may perform queries directly on the values of the data. On the other hand, as we shall see, this is much slower than inserting the data directly as binary blobs."
   ]
  },
  {
   "cell_type": "markdown",
   "metadata": {},
   "source": [
    "First, we choose a new location for the database to ensure that we don't add a bunch of benchmarking data to the default one."
   ]
  },
  {
   "cell_type": "code",
   "execution_count": 1,
   "metadata": {
    "execution": {
     "iopub.execute_input": "2021-01-22T12:56:57.329530Z",
     "iopub.status.busy": "2021-01-22T12:56:57.328833Z",
     "iopub.status.idle": "2021-01-22T12:56:58.346966Z",
     "shell.execute_reply": "2021-01-22T12:56:58.347379Z"
    }
   },
   "outputs": [
    {
     "name": "stdout",
     "output_type": "stream",
     "text": [
      "Logging hadn't been started.\n",
      "Activating auto-logging. Current session state plus future input saved.\n",
      "Filename       : /home/vsts/.qcodes/logs/command_history.log\n",
      "Mode           : append\n",
      "Output logging : True\n",
      "Raw input log  : False\n",
      "Timestamping   : True\n",
      "State          : active\n"
     ]
    },
    {
     "name": "stdout",
     "output_type": "stream",
     "text": [
      "Qcodes Logfile : /home/vsts/.qcodes/logs/210122-13841-qcodes.log\n"
     ]
    }
   ],
   "source": [
    "import os\n",
    "cwd = os.getcwd()\n",
    "import qcodes as qc\n",
    "qc.config[\"core\"][\"db_location\"] = os.path.join(cwd, 'testing.db')\n"
   ]
  },
  {
   "cell_type": "code",
   "execution_count": 2,
   "metadata": {
    "execution": {
     "iopub.execute_input": "2021-01-22T12:56:58.353734Z",
     "iopub.status.busy": "2021-01-22T12:56:58.352458Z",
     "iopub.status.idle": "2021-01-22T12:56:58.532051Z",
     "shell.execute_reply": "2021-01-22T12:56:58.531436Z"
    }
   },
   "outputs": [],
   "source": [
    "%matplotlib inline\n",
    "import time\n",
    "import matplotlib.pyplot as plt\n",
    "import numpy as np\n",
    "\n",
    "import qcodes as qc\n",
    "from qcodes.instrument.parameter import ManualParameter\n",
    "from qcodes.dataset.experiment_container import (Experiment,\n",
    "                                                 load_last_experiment,\n",
    "                                                 new_experiment)\n",
    "from qcodes.dataset.sqlite.database import initialise_database\n",
    "from qcodes import load_or_create_experiment\n",
    "from qcodes.dataset.measurements import Measurement"
   ]
  },
  {
   "cell_type": "code",
   "execution_count": 3,
   "metadata": {
    "execution": {
     "iopub.execute_input": "2021-01-22T12:56:58.536372Z",
     "iopub.status.busy": "2021-01-22T12:56:58.535483Z",
     "iopub.status.idle": "2021-01-22T12:56:58.668465Z",
     "shell.execute_reply": "2021-01-22T12:56:58.667906Z"
    }
   },
   "outputs": [
    {
     "name": "stdout",
     "output_type": "stream",
     "text": [
      "\r",
      "0it [00:00, ?it/s]"
     ]
    },
    {
     "name": "stdout",
     "output_type": "stream",
     "text": [
      "\r",
      "Upgrading database; v0 -> v1: : 0it [00:00, ?it/s]"
     ]
    },
    {
     "name": "stdout",
     "output_type": "stream",
     "text": [
      "\r",
      "Upgrading database; v0 -> v1: : 0it [00:00, ?it/s]"
     ]
    },
    {
     "name": "stdout",
     "output_type": "stream",
     "text": [
      "\n",
      "\r",
      "  0%|          | 0/1 [00:00<?, ?it/s]"
     ]
    },
    {
     "name": "stdout",
     "output_type": "stream",
     "text": [
      "\r",
      "Upgrading database; v1 -> v2:   0%|          | 0/1 [00:00<?, ?it/s]"
     ]
    },
    {
     "name": "stdout",
     "output_type": "stream",
     "text": [
      "\r",
      "Upgrading database; v1 -> v2: 100%|██████████| 1/1 [00:00<00:00, 560.89it/s]"
     ]
    },
    {
     "name": "stdout",
     "output_type": "stream",
     "text": [
      "\n",
      "\r",
      "0it [00:00, ?it/s]"
     ]
    },
    {
     "name": "stdout",
     "output_type": "stream",
     "text": [
      "\r",
      "Upgrading database; v2 -> v3: : 0it [00:00, ?it/s]"
     ]
    },
    {
     "name": "stdout",
     "output_type": "stream",
     "text": [
      "\r",
      "Upgrading database; v2 -> v3: : 0it [00:00, ?it/s]"
     ]
    },
    {
     "name": "stdout",
     "output_type": "stream",
     "text": [
      "\n",
      "\r",
      "0it [00:00, ?it/s]"
     ]
    },
    {
     "name": "stdout",
     "output_type": "stream",
     "text": [
      "\r",
      "Upgrading database; v3 -> v4: : 0it [00:00, ?it/s]"
     ]
    },
    {
     "name": "stdout",
     "output_type": "stream",
     "text": [
      "\r",
      "Upgrading database; v3 -> v4: : 0it [00:00, ?it/s]"
     ]
    },
    {
     "name": "stdout",
     "output_type": "stream",
     "text": [
      "\n",
      "\r",
      "  0%|          | 0/1 [00:00<?, ?it/s]"
     ]
    },
    {
     "name": "stdout",
     "output_type": "stream",
     "text": [
      "\r",
      "Upgrading database; v4 -> v5:   0%|          | 0/1 [00:00<?, ?it/s]"
     ]
    },
    {
     "name": "stdout",
     "output_type": "stream",
     "text": [
      "\r",
      "Upgrading database; v4 -> v5: 100%|██████████| 1/1 [00:00<00:00, 384.23it/s]"
     ]
    },
    {
     "name": "stdout",
     "output_type": "stream",
     "text": [
      "\n",
      "\r",
      "0it [00:00, ?it/s]"
     ]
    },
    {
     "name": "stdout",
     "output_type": "stream",
     "text": [
      "\r",
      "Upgrading database; v5 -> v6: : 0it [00:00, ?it/s]"
     ]
    },
    {
     "name": "stdout",
     "output_type": "stream",
     "text": [
      "\r",
      "Upgrading database; v5 -> v6: : 0it [00:00, ?it/s]"
     ]
    },
    {
     "name": "stdout",
     "output_type": "stream",
     "text": [
      "\n",
      "\r",
      "  0%|          | 0/1 [00:00<?, ?it/s]"
     ]
    },
    {
     "name": "stdout",
     "output_type": "stream",
     "text": [
      "\r",
      "Upgrading database; v6 -> v7:   0%|          | 0/1 [00:00<?, ?it/s]"
     ]
    },
    {
     "name": "stdout",
     "output_type": "stream",
     "text": [
      "\r",
      "Upgrading database; v6 -> v7: 100%|██████████| 1/1 [00:00<00:00, 163.83it/s]"
     ]
    },
    {
     "name": "stdout",
     "output_type": "stream",
     "text": [
      "\n",
      "\r",
      "  0%|          | 0/1 [00:00<?, ?it/s]"
     ]
    },
    {
     "name": "stdout",
     "output_type": "stream",
     "text": [
      "\r",
      "Upgrading database; v7 -> v8:   0%|          | 0/1 [00:00<?, ?it/s]"
     ]
    },
    {
     "name": "stdout",
     "output_type": "stream",
     "text": [
      "\r",
      "Upgrading database; v7 -> v8: 100%|██████████| 1/1 [00:00<00:00, 624.62it/s]"
     ]
    },
    {
     "name": "stdout",
     "output_type": "stream",
     "text": [
      "\n",
      "\r",
      "  0%|          | 0/1 [00:00<?, ?it/s]"
     ]
    },
    {
     "name": "stdout",
     "output_type": "stream",
     "text": [
      "\r",
      "Upgrading database; v8 -> v9:   0%|          | 0/1 [00:00<?, ?it/s]"
     ]
    },
    {
     "name": "stdout",
     "output_type": "stream",
     "text": [
      "\r",
      "Upgrading database; v8 -> v9: 100%|██████████| 1/1 [00:00<00:00, 550.07it/s]"
     ]
    },
    {
     "name": "stdout",
     "output_type": "stream",
     "text": [
      "\n"
     ]
    }
   ],
   "source": [
    "initialise_database()\n",
    "exp = load_or_create_experiment(experiment_name='tutorial_exp', sample_name=\"no sample\")"
   ]
  },
  {
   "cell_type": "markdown",
   "metadata": {},
   "source": [
    "Here, we define a simple function to benchmark the time it takes to insert n points with either numeric or array data type.\n",
    "We will compare both the time used to call ``add_result`` and the time used for the full measurement."
   ]
  },
  {
   "cell_type": "code",
   "execution_count": 4,
   "metadata": {
    "execution": {
     "iopub.execute_input": "2021-01-22T12:56:58.676962Z",
     "iopub.status.busy": "2021-01-22T12:56:58.676456Z",
     "iopub.status.idle": "2021-01-22T12:56:58.679943Z",
     "shell.execute_reply": "2021-01-22T12:56:58.679428Z"
    }
   },
   "outputs": [],
   "source": [
    "def insert_data(paramtype, npoints, nreps=1):\n",
    "\n",
    "    meas = Measurement(exp=exp)\n",
    "\n",
    "    x1 = ManualParameter('x1')\n",
    "    x2 = ManualParameter('x2')\n",
    "    x3 = ManualParameter('x3')\n",
    "    y1 = ManualParameter('y1')\n",
    "    y2 = ManualParameter('y2')\n",
    "\n",
    "    meas.register_parameter(x1, paramtype=paramtype)\n",
    "    meas.register_parameter(x2, paramtype=paramtype)\n",
    "    meas.register_parameter(x3, paramtype=paramtype)\n",
    "    meas.register_parameter(y1, setpoints=[x1, x2, x3],\n",
    "                            paramtype=paramtype)\n",
    "    meas.register_parameter(y2, setpoints=[x1, x2, x3],\n",
    "                            paramtype=paramtype)\n",
    "    start = time.perf_counter()\n",
    "    with meas.run() as datasaver:\n",
    "        start_adding = time.perf_counter()\n",
    "        for i in range(nreps):\n",
    "            datasaver.add_result((x1, np.random.rand(npoints)),\n",
    "                                 (x2, np.random.rand(npoints)),\n",
    "                                 (x3, np.random.rand(npoints)),\n",
    "                                 (y1, np.random.rand(npoints)),\n",
    "                                 (y2, np.random.rand(npoints)))\n",
    "        stop_adding = time.perf_counter()\n",
    "        run_id = datasaver.run_id\n",
    "    stop = time.perf_counter()\n",
    "    tot_time = stop - start\n",
    "    add_time = stop_adding - start_adding\n",
    "    return tot_time, add_time, run_id"
   ]
  },
  {
   "cell_type": "markdown",
   "metadata": {},
   "source": [
    "## Comparison between numeric/array data and binary blob"
   ]
  },
  {
   "cell_type": "markdown",
   "metadata": {},
   "source": [
    "### Case1: Short experiment time"
   ]
  },
  {
   "cell_type": "code",
   "execution_count": 5,
   "metadata": {
    "execution": {
     "iopub.execute_input": "2021-01-22T12:56:58.686921Z",
     "iopub.status.busy": "2021-01-22T12:56:58.686000Z",
     "iopub.status.idle": "2021-01-22T12:56:59.541139Z",
     "shell.execute_reply": "2021-01-22T12:56:59.540559Z"
    }
   },
   "outputs": [
    {
     "name": "stdout",
     "output_type": "stream",
     "text": [
      "Starting experimental run with id: 1. \n",
      "Starting experimental run with id: 2. \n",
      "Starting experimental run with id: 3. \n"
     ]
    },
    {
     "name": "stdout",
     "output_type": "stream",
     "text": [
      "Starting experimental run with id: 4. \n"
     ]
    },
    {
     "name": "stdout",
     "output_type": "stream",
     "text": [
      "Starting experimental run with id: 5. \n"
     ]
    },
    {
     "name": "stdout",
     "output_type": "stream",
     "text": [
      "Starting experimental run with id: 6. \n",
      "Starting experimental run with id: 7. \n"
     ]
    },
    {
     "name": "stdout",
     "output_type": "stream",
     "text": [
      "Starting experimental run with id: 8. \n"
     ]
    },
    {
     "name": "stdout",
     "output_type": "stream",
     "text": [
      "Starting experimental run with id: 9. \n"
     ]
    },
    {
     "name": "stdout",
     "output_type": "stream",
     "text": [
      "Starting experimental run with id: 10. \n",
      "Starting experimental run with id: 11. \n"
     ]
    },
    {
     "name": "stdout",
     "output_type": "stream",
     "text": [
      "Starting experimental run with id: 12. \n"
     ]
    },
    {
     "name": "stdout",
     "output_type": "stream",
     "text": [
      "Starting experimental run with id: 13. \n"
     ]
    },
    {
     "name": "stdout",
     "output_type": "stream",
     "text": [
      "Starting experimental run with id: 14. \n"
     ]
    }
   ],
   "source": [
    "sizes = [1,500,1000,2000,3000,4000,5000]\n",
    "t_numeric = []\n",
    "t_numeric_add = []\n",
    "t_array = []\n",
    "t_array_add = []\n",
    "for size in sizes:\n",
    "    tn, tna, run_id_n =  insert_data('numeric', size)\n",
    "    t_numeric.append(tn)\n",
    "    t_numeric_add.append(tna)\n",
    "\n",
    "    ta, taa, run_id_a =  insert_data('array', size)\n",
    "    t_array.append(ta)\n",
    "    t_array_add.append(taa)"
   ]
  },
  {
   "cell_type": "code",
   "execution_count": 6,
   "metadata": {
    "execution": {
     "iopub.execute_input": "2021-01-22T12:56:59.563131Z",
     "iopub.status.busy": "2021-01-22T12:56:59.558566Z",
     "iopub.status.idle": "2021-01-22T12:56:59.782884Z",
     "shell.execute_reply": "2021-01-22T12:56:59.783870Z"
    }
   },
   "outputs": [
    {
     "data": {
      "image/png": "[encoded data removed]",
      "text/plain": [
       "<Figure size 432x288 with 1 Axes>"
      ]
     },
     "metadata": {
      "needs_background": "light"
     },
     "output_type": "display_data"
    }
   ],
   "source": [
    "fig, ax = plt.subplots(1,1)\n",
    "ax.plot(sizes, t_numeric, 'o-', label='Inserting row-by-row')\n",
    "ax.plot(sizes, t_numeric_add, 'o-', label='Inserting row-by-row: add_result only')\n",
    "ax.plot(sizes, t_array, 'd-', label='Inserting as binary blob')\n",
    "ax.plot(sizes, t_array_add, 'd-', label='Inserting as binary blob: add_result only')\n",
    "ax.legend()\n",
    "ax.set_xlabel('Array length')\n",
    "ax.set_ylabel('Time (s)')\n",
    "fig.tight_layout()"
   ]
  },
  {
   "cell_type": "markdown",
   "metadata": {},
   "source": [
    "As shown in the latter figure, the time to setup and and close the experiment is approximately 0.4 sec. In case of small array sizes, the difference between inserting values of data as arrays and inserting them row-by-row is relatively unimportant. At larger array sizes, i.e. above 10000 points, the cost of writing data as individual datapoints starts to become important.\n"
   ]
  },
  {
   "cell_type": "markdown",
   "metadata": {},
   "source": [
    "### Case2: Long experiment time "
   ]
  },
  {
   "cell_type": "code",
   "execution_count": 7,
   "metadata": {
    "execution": {
     "iopub.execute_input": "2021-01-22T12:56:59.791417Z",
     "iopub.status.busy": "2021-01-22T12:56:59.790287Z",
     "iopub.status.idle": "2021-01-22T12:57:57.040933Z",
     "shell.execute_reply": "2021-01-22T12:57:57.041350Z"
    }
   },
   "outputs": [
    {
     "name": "stdout",
     "output_type": "stream",
     "text": [
      "Starting experimental run with id: 15. \n",
      "Starting experimental run with id: 16. \n",
      "Starting experimental run with id: 17. \n"
     ]
    },
    {
     "name": "stdout",
     "output_type": "stream",
     "text": [
      "Starting experimental run with id: 18. \n",
      "Starting experimental run with id: 19. \n"
     ]
    },
    {
     "name": "stdout",
     "output_type": "stream",
     "text": [
      "Starting experimental run with id: 20. \n"
     ]
    },
    {
     "name": "stdout",
     "output_type": "stream",
     "text": [
      "Starting experimental run with id: 21. \n"
     ]
    },
    {
     "name": "stdout",
     "output_type": "stream",
     "text": [
      "Starting experimental run with id: 22. \n"
     ]
    },
    {
     "name": "stdout",
     "output_type": "stream",
     "text": [
      "Starting experimental run with id: 23. \n"
     ]
    },
    {
     "name": "stdout",
     "output_type": "stream",
     "text": [
      "Starting experimental run with id: 24. \n"
     ]
    },
    {
     "name": "stdout",
     "output_type": "stream",
     "text": [
      "Starting experimental run with id: 25. \n"
     ]
    },
    {
     "name": "stdout",
     "output_type": "stream",
     "text": [
      "Starting experimental run with id: 26. \n"
     ]
    },
    {
     "name": "stdout",
     "output_type": "stream",
     "text": [
      "Starting experimental run with id: 27. \n"
     ]
    },
    {
     "name": "stdout",
     "output_type": "stream",
     "text": [
      "Starting experimental run with id: 28. \n"
     ]
    }
   ],
   "source": [
    "sizes = [1,500,1000,2000,3000,4000,5000]\n",
    "nreps = 100\n",
    "t_numeric = []\n",
    "t_numeric_add = []\n",
    "t_numeric_run_ids = []\n",
    "t_array = []\n",
    "t_array_add = []\n",
    "t_array_run_ids = []\n",
    "for size in sizes:\n",
    "    tn, tna, run_id_n =  insert_data('numeric', size, nreps=nreps)\n",
    "    t_numeric.append(tn)\n",
    "    t_numeric_add.append(tna)\n",
    "    t_numeric_run_ids.append(run_id_n)\n",
    "\n",
    "    ta, taa, run_id_a =  insert_data('array', size, nreps=nreps)\n",
    "    t_array.append(ta)\n",
    "    t_array_add.append(taa)\n",
    "    t_array_run_ids.append(run_id_a)"
   ]
  },
  {
   "cell_type": "code",
   "execution_count": 8,
   "metadata": {
    "execution": {
     "iopub.execute_input": "2021-01-22T12:57:57.087027Z",
     "iopub.status.busy": "2021-01-22T12:57:57.062112Z",
     "iopub.status.idle": "2021-01-22T12:57:57.293124Z",
     "shell.execute_reply": "2021-01-22T12:57:57.292645Z"
    },
    "scrolled": true
   },
   "outputs": [
    {
     "data": {
      "image/png": "[encoded data removed]",
      "text/plain": [
       "<Figure size 432x288 with 1 Axes>"
      ]
     },
     "metadata": {
      "needs_background": "light"
     },
     "output_type": "display_data"
    }
   ],
   "source": [
    "fig, ax = plt.subplots(1,1)\n",
    "ax.plot(sizes, t_numeric, 'o-', label='Inserting row-by-row')\n",
    "ax.plot(sizes, t_numeric_add, 'o-', label='Inserting row-by-row: add_result only')\n",
    "ax.plot(sizes, t_array, 'd-', label='Inserting as binary blob')\n",
    "ax.plot(sizes, t_array_add, 'd-', label='Inserting as binary blob: add_result only')\n",
    "ax.legend()\n",
    "ax.set_xlabel('Array length')\n",
    "ax.set_ylabel('Time (s)')\n",
    "fig.tight_layout()"
   ]
  },
  {
   "cell_type": "markdown",
   "metadata": {},
   "source": [
    "However, as we increase the length of the experiment, as seen here by repeating the insertion 100 times, we see a big difference between inserting values of the data row-by-row and inserting it as a binary blob."
   ]
  },
  {
   "cell_type": "markdown",
   "metadata": {},
   "source": [
    "## Loading the data "
   ]
  },
  {
   "cell_type": "code",
   "execution_count": 9,
   "metadata": {
    "execution": {
     "iopub.execute_input": "2021-01-22T12:57:57.296965Z",
     "iopub.status.busy": "2021-01-22T12:57:57.296024Z",
     "iopub.status.idle": "2021-01-22T12:57:57.299506Z",
     "shell.execute_reply": "2021-01-22T12:57:57.299073Z"
    }
   },
   "outputs": [],
   "source": [
    "from qcodes.dataset.data_set import load_by_id\n",
    "from qcodes.dataset.data_export import get_data_by_id"
   ]
  },
  {
   "cell_type": "markdown",
   "metadata": {},
   "source": [
    "As usual you can load the data by using the ``load_by_id`` function but you will notice that the different storage methods\n",
    "are reflected in shape of the data as it is retrieved. "
   ]
  },
  {
   "cell_type": "code",
   "execution_count": 10,
   "metadata": {
    "execution": {
     "iopub.execute_input": "2021-01-22T12:57:57.303384Z",
     "iopub.status.busy": "2021-01-22T12:57:57.302382Z",
     "iopub.status.idle": "2021-01-22T12:57:57.303959Z",
     "shell.execute_reply": "2021-01-22T12:57:57.304452Z"
    }
   },
   "outputs": [],
   "source": [
    "run_id_n = t_numeric_run_ids[0]\n",
    "run_id_a = t_array_run_ids[0]"
   ]
  },
  {
   "cell_type": "code",
   "execution_count": 11,
   "metadata": {
    "execution": {
     "iopub.execute_input": "2021-01-22T12:57:57.307700Z",
     "iopub.status.busy": "2021-01-22T12:57:57.307145Z",
     "iopub.status.idle": "2021-01-22T12:57:57.315622Z",
     "shell.execute_reply": "2021-01-22T12:57:57.316070Z"
    },
    "scrolled": true
   },
   "outputs": [
    {
     "data": {
      "text/plain": [
       "{'x1': {'x1': array([0.53168485, 0.53168485, 0.9440338 , 0.9440338 , 0.8141256 ,\n",
       "         0.8141256 , 0.32509762, 0.32509762, 0.11952332, 0.11952332,\n",
       "         0.67567273, 0.67567273, 0.41451057, 0.41451057, 0.92850025,\n",
       "         0.92850025, 0.67971248, 0.67971248, 0.49641061, 0.49641061,\n",
       "         0.96409948, 0.96409948, 0.07635116, 0.07635116, 0.25884345,\n",
       "         0.25884345, 0.21361783, 0.21361783, 0.52538898, 0.52538898,\n",
       "         0.96358056, 0.96358056, 0.32220619, 0.32220619, 0.92890407,\n",
       "         0.92890407, 0.31838537, 0.31838537, 0.71008642, 0.71008642,\n",
       "         0.66290281, 0.66290281, 0.08885135, 0.08885135, 0.49448412,\n",
       "         0.49448412, 0.21588566, 0.21588566, 0.33098967, 0.33098967,\n",
       "         0.66963759, 0.66963759, 0.69502868, 0.69502868, 0.78362122,\n",
       "         0.78362122, 0.44591032, 0.44591032, 0.39261014, 0.39261014,\n",
       "         0.90198597, 0.90198597, 0.97549181, 0.97549181, 0.39799622,\n",
       "         0.39799622, 0.13057768, 0.13057768, 0.84018609, 0.84018609,\n",
       "         0.36810888, 0.36810888, 0.14660329, 0.14660329, 0.74301623,\n",
       "         0.74301623, 0.19513559, 0.19513559, 0.76577448, 0.76577448,\n",
       "         0.25646698, 0.25646698, 0.64817146, 0.64817146, 0.19371885,\n",
       "         0.19371885, 0.24161064, 0.24161064, 0.01594057, 0.01594057,\n",
       "         0.76010847, 0.76010847, 0.09957579, 0.09957579, 0.27161766,\n",
       "         0.27161766, 0.51952971, 0.51952971, 0.67842445, 0.67842445,\n",
       "         0.07593233, 0.07593233, 0.43508104, 0.43508104, 0.50790515,\n",
       "         0.50790515, 0.98945902, 0.98945902, 0.20590295, 0.20590295,\n",
       "         0.71388133, 0.71388133, 0.10809265, 0.10809265, 0.15244853,\n",
       "         0.15244853, 0.80560793, 0.80560793, 0.92038324, 0.92038324,\n",
       "         0.16968172, 0.16968172, 0.11761692, 0.11761692, 0.23792815,\n",
       "         0.23792815, 0.18775468, 0.18775468, 0.50041058, 0.50041058,\n",
       "         0.21790775, 0.21790775, 0.03054864, 0.03054864, 0.96379759,\n",
       "         0.96379759, 0.32760406, 0.32760406, 0.97965049, 0.97965049,\n",
       "         0.61079636, 0.61079636, 0.71821292, 0.71821292, 0.13962644,\n",
       "         0.13962644, 0.91629206, 0.91629206, 0.73363936, 0.73363936,\n",
       "         0.61030532, 0.61030532, 0.95107387, 0.95107387, 0.57244187,\n",
       "         0.57244187, 0.42846712, 0.42846712, 0.20743077, 0.20743077,\n",
       "         0.84131418, 0.84131418, 0.50938152, 0.50938152, 0.51441462,\n",
       "         0.51441462, 0.83123235, 0.83123235, 0.61824765, 0.61824765,\n",
       "         0.68511034, 0.68511034, 0.14319816, 0.14319816, 0.11480889,\n",
       "         0.11480889, 0.79395082, 0.79395082, 0.12683747, 0.12683747,\n",
       "         0.84757244, 0.84757244, 0.41307273, 0.41307273, 0.07595651,\n",
       "         0.07595651, 0.87719944, 0.87719944, 0.71728439, 0.71728439,\n",
       "         0.40191544, 0.40191544, 0.37400502, 0.37400502, 0.06015365,\n",
       "         0.06015365, 0.04470355, 0.04470355, 0.1511681 , 0.1511681 ])}}"
      ]
     },
     "execution_count": 1,
     "metadata": {},
     "output_type": "execute_result"
    }
   ],
   "source": [
    "ds = load_by_id(run_id_n)\n",
    "ds.get_parameter_data('x1')"
   ]
  },
  {
   "cell_type": "markdown",
   "metadata": {},
   "source": [
    "And a dataset stored as binary arrays"
   ]
  },
  {
   "cell_type": "code",
   "execution_count": 12,
   "metadata": {
    "execution": {
     "iopub.execute_input": "2021-01-22T12:57:57.319469Z",
     "iopub.status.busy": "2021-01-22T12:57:57.318912Z",
     "iopub.status.idle": "2021-01-22T12:57:57.383324Z",
     "shell.execute_reply": "2021-01-22T12:57:57.384025Z"
    },
    "scrolled": true
   },
   "outputs": [
    {
     "data": {
      "text/plain": [
       "{'x1': {'x1': array([[0.5329885 ],\n",
       "         [0.5329885 ],\n",
       "         [0.21299318],\n",
       "         [0.21299318],\n",
       "         [0.94763076],\n",
       "         [0.94763076],\n",
       "         [0.60853292],\n",
       "         [0.60853292],\n",
       "         [0.31678073],\n",
       "         [0.31678073],\n",
       "         [0.36754526],\n",
       "         [0.36754526],\n",
       "         [0.31810195],\n",
       "         [0.31810195],\n",
       "         [0.38374099],\n",
       "         [0.38374099],\n",
       "         [0.56068251],\n",
       "         [0.56068251],\n",
       "         [0.26996566],\n",
       "         [0.26996566],\n",
       "         [0.85994849],\n",
       "         [0.85994849],\n",
       "         [0.49003526],\n",
       "         [0.49003526],\n",
       "         [0.59061039],\n",
       "         [0.59061039],\n",
       "         [0.70644368],\n",
       "         [0.70644368],\n",
       "         [0.84861658],\n",
       "         [0.84861658],\n",
       "         [0.23507276],\n",
       "         [0.23507276],\n",
       "         [0.62016271],\n",
       "         [0.62016271],\n",
       "         [0.21171738],\n",
       "         [0.21171738],\n",
       "         [0.05697841],\n",
       "         [0.05697841],\n",
       "         [0.79270075],\n",
       "         [0.79270075],\n",
       "         [0.40943278],\n",
       "         [0.40943278],\n",
       "         [0.21522261],\n",
       "         [0.21522261],\n",
       "         [0.64852206],\n",
       "         [0.64852206],\n",
       "         [0.46843967],\n",
       "         [0.46843967],\n",
       "         [0.27166096],\n",
       "         [0.27166096],\n",
       "         [0.39951249],\n",
       "         [0.39951249],\n",
       "         [0.64474458],\n",
       "         [0.64474458],\n",
       "         [0.96653736],\n",
       "         [0.96653736],\n",
       "         [0.69782014],\n",
       "         [0.69782014],\n",
       "         [0.1417186 ],\n",
       "         [0.1417186 ],\n",
       "         [0.28145014],\n",
       "         [0.28145014],\n",
       "         [0.37320519],\n",
       "         [0.37320519],\n",
       "         [0.78748263],\n",
       "         [0.78748263],\n",
       "         [0.95606245],\n",
       "         [0.95606245],\n",
       "         [0.71184266],\n",
       "         [0.71184266],\n",
       "         [0.53316998],\n",
       "         [0.53316998],\n",
       "         [0.71054322],\n",
       "         [0.71054322],\n",
       "         [0.69377539],\n",
       "         [0.69377539],\n",
       "         [0.39366392],\n",
       "         [0.39366392],\n",
       "         [0.82354672],\n",
       "         [0.82354672],\n",
       "         [0.75553204],\n",
       "         [0.75553204],\n",
       "         [0.24983465],\n",
       "         [0.24983465],\n",
       "         [0.33845431],\n",
       "         [0.33845431],\n",
       "         [0.68318766],\n",
       "         [0.68318766],\n",
       "         [0.41177905],\n",
       "         [0.41177905],\n",
       "         [0.96737513],\n",
       "         [0.96737513],\n",
       "         [0.4910037 ],\n",
       "         [0.4910037 ],\n",
       "         [0.79235436],\n",
       "         [0.79235436],\n",
       "         [0.57755198],\n",
       "         [0.57755198],\n",
       "         [0.58056569],\n",
       "         [0.58056569],\n",
       "         [0.28712252],\n",
       "         [0.28712252],\n",
       "         [0.0750052 ],\n",
       "         [0.0750052 ],\n",
       "         [0.61183682],\n",
       "         [0.61183682],\n",
       "         [0.39045682],\n",
       "         [0.39045682],\n",
       "         [0.73412837],\n",
       "         [0.73412837],\n",
       "         [0.07669363],\n",
       "         [0.07669363],\n",
       "         [0.46756297],\n",
       "         [0.46756297],\n",
       "         [0.96931885],\n",
       "         [0.96931885],\n",
       "         [0.34030132],\n",
       "         [0.34030132],\n",
       "         [0.03522939],\n",
       "         [0.03522939],\n",
       "         [0.98163366],\n",
       "         [0.98163366],\n",
       "         [0.06078398],\n",
       "         [0.06078398],\n",
       "         [0.28644394],\n",
       "         [0.28644394],\n",
       "         [0.96219976],\n",
       "         [0.96219976],\n",
       "         [0.59774566],\n",
       "         [0.59774566],\n",
       "         [0.00211226],\n",
       "         [0.00211226],\n",
       "         [0.49703765],\n",
       "         [0.49703765],\n",
       "         [0.56280499],\n",
       "         [0.56280499],\n",
       "         [0.8247985 ],\n",
       "         [0.8247985 ],\n",
       "         [0.0777047 ],\n",
       "         [0.0777047 ],\n",
       "         [0.26891176],\n",
       "         [0.26891176],\n",
       "         [0.4426689 ],\n",
       "         [0.4426689 ],\n",
       "         [0.21541474],\n",
       "         [0.21541474],\n",
       "         [0.42263095],\n",
       "         [0.42263095],\n",
       "         [0.98927125],\n",
       "         [0.98927125],\n",
       "         [0.9412928 ],\n",
       "         [0.9412928 ],\n",
       "         [0.33710671],\n",
       "         [0.33710671],\n",
       "         [0.83033646],\n",
       "         [0.83033646],\n",
       "         [0.08076648],\n",
       "         [0.08076648],\n",
       "         [0.51024036],\n",
       "         [0.51024036],\n",
       "         [0.66964451],\n",
       "         [0.66964451],\n",
       "         [0.48915984],\n",
       "         [0.48915984],\n",
       "         [0.35783367],\n",
       "         [0.35783367],\n",
       "         [0.19131125],\n",
       "         [0.19131125],\n",
       "         [0.69682477],\n",
       "         [0.69682477],\n",
       "         [0.0578099 ],\n",
       "         [0.0578099 ],\n",
       "         [0.18089177],\n",
       "         [0.18089177],\n",
       "         [0.16503167],\n",
       "         [0.16503167],\n",
       "         [0.92172178],\n",
       "         [0.92172178],\n",
       "         [0.27515983],\n",
       "         [0.27515983],\n",
       "         [0.12285311],\n",
       "         [0.12285311],\n",
       "         [0.89531771],\n",
       "         [0.89531771],\n",
       "         [0.57270347],\n",
       "         [0.57270347],\n",
       "         [0.1876516 ],\n",
       "         [0.1876516 ],\n",
       "         [0.4240658 ],\n",
       "         [0.4240658 ],\n",
       "         [0.71477903],\n",
       "         [0.71477903],\n",
       "         [0.5964648 ],\n",
       "         [0.5964648 ],\n",
       "         [0.28324504],\n",
       "         [0.28324504],\n",
       "         [0.36489916],\n",
       "         [0.36489916],\n",
       "         [0.42786411],\n",
       "         [0.42786411]])}}"
      ]
     },
     "execution_count": 1,
     "metadata": {},
     "output_type": "execute_result"
    }
   ],
   "source": [
    "ds = load_by_id(run_id_a)\n",
    "ds.get_parameter_data('x1')"
   ]
  },
  {
   "cell_type": "code",
   "execution_count": null,
   "metadata": {},
   "outputs": [],
   "source": []
  }
 ],
 "metadata": {
  "kernelspec": {
   "display_name": "Python 3",
   "language": "python",
   "name": "python3"
  },
  "language_info": {
   "codemirror_mode": {
    "name": "ipython",
    "version": 3
   },
   "file_extension": ".py",
   "mimetype": "text/x-python",
   "name": "python",
   "nbconvert_exporter": "python",
   "pygments_lexer": "ipython3",
   "version": "3.7.9"
  },
  "nbsphinx": {
   "timeout": 600
  },
  "toc": {
   "base_numbering": 1,
   "nav_menu": {},
   "number_sections": true,
   "sideBar": true,
   "skip_h1_title": false,
   "title_cell": "Table of Contents",
   "title_sidebar": "Contents",
   "toc_cell": false,
   "toc_position": {},
   "toc_section_display": true,
   "toc_window_display": false
  },
  "varInspector": {
   "cols": {
    "lenName": 16,
    "lenType": 16,
    "lenVar": 40
   },
   "kernels_config": {
    "python": {
     "delete_cmd_postfix": "",
     "delete_cmd_prefix": "del ",
     "library": "var_list.py",
     "varRefreshCmd": "print(var_dic_list())"
    },
    "r": {
     "delete_cmd_postfix": ") ",
     "delete_cmd_prefix": "rm(",
     "library": "var_list.r",
     "varRefreshCmd": "cat(var_dic_list()) "
    }
   },
   "types_to_exclude": [
    "module",
    "function",
    "builtin_function_or_method",
    "instance",
    "_Feature"
   ],
   "window_display": false
  }
 },
 "nbformat": 4,
 "nbformat_minor": 2
}
