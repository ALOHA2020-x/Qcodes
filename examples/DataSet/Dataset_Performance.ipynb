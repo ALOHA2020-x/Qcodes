{
 "cells": [
  {
   "cell_type": "markdown",
   "metadata": {},
   "source": [
    "# DataSet Performance\n",
    "\n",
    "This notebook shows the trade-off between inserting data into a database row-by-row and as binary blobs. Inserting the data row-by-row means that we have direct access to all the data and may perform queries directly on the values of the data. On the other hand, as we shall see, this is much slower than inserting the data directly as binary blobs."
   ]
  },
  {
   "cell_type": "markdown",
   "metadata": {},
   "source": [
    "First, we choose a new location for the database to ensure that we don't add a bunch of benchmarking data to the default one."
   ]
  },
  {
   "cell_type": "code",
   "execution_count": 1,
   "metadata": {},
   "outputs": [
    {
     "name": "stdout",
     "output_type": "stream",
     "text": [
      "Logging hadn't been started.\n",
      "Activating auto-logging. Current session state plus future input saved.\n",
      "Filename       : /home/vsts/.qcodes/logs/command_history.log\n",
      "Mode           : append\n",
      "Output logging : True\n",
      "Raw input log  : False\n",
      "Timestamping   : True\n",
      "State          : active\n"
     ]
    },
    {
     "name": "stdout",
     "output_type": "stream",
     "text": [
      "Qcodes Logfile : /home/vsts/.qcodes/logs/200518-18451-qcodes.log\n"
     ]
    }
   ],
   "source": [
    "import os\n",
    "cwd = os.getcwd()\n",
    "import qcodes as qc\n",
    "qc.config[\"core\"][\"db_location\"] = os.path.join(cwd, 'testing.db')\n"
   ]
  },
  {
   "cell_type": "code",
   "execution_count": 2,
   "metadata": {},
   "outputs": [],
   "source": [
    "%matplotlib inline\n",
    "import time\n",
    "import matplotlib.pyplot as plt\n",
    "import numpy as np\n",
    "\n",
    "import qcodes as qc\n",
    "from qcodes.instrument.parameter import ManualParameter\n",
    "from qcodes.dataset.experiment_container import (Experiment,\n",
    "                                                 load_last_experiment,\n",
    "                                                 new_experiment)\n",
    "from qcodes.dataset.sqlite.database import initialise_database\n",
    "from qcodes import load_or_create_experiment\n",
    "from qcodes.dataset.measurements import Measurement"
   ]
  },
  {
   "cell_type": "code",
   "execution_count": 3,
   "metadata": {},
   "outputs": [
    {
     "name": "stdout",
     "output_type": "stream",
     "text": [
      "\r",
      "0it [00:00, ?it/s]"
     ]
    },
    {
     "name": "stdout",
     "output_type": "stream",
     "text": [
      "\r",
      "Upgrading database; v0 -> v1: : 0it [00:00, ?it/s]"
     ]
    },
    {
     "name": "stdout",
     "output_type": "stream",
     "text": [
      "\r",
      "Upgrading database; v0 -> v1: : 0it [00:00, ?it/s]"
     ]
    },
    {
     "name": "stdout",
     "output_type": "stream",
     "text": [
      "\n",
      "\r",
      "  0%|          | 0/1 [00:00<?, ?it/s]"
     ]
    },
    {
     "name": "stdout",
     "output_type": "stream",
     "text": [
      "\r",
      "Upgrading database; v1 -> v2:   0%|          | 0/1 [00:00<?, ?it/s]"
     ]
    },
    {
     "name": "stdout",
     "output_type": "stream",
     "text": [
      "\r",
      "Upgrading database; v1 -> v2: 100%|██████████| 1/1 [00:00<00:00, 687.03it/s]"
     ]
    },
    {
     "name": "stdout",
     "output_type": "stream",
     "text": [
      "\n",
      "\r",
      "0it [00:00, ?it/s]"
     ]
    },
    {
     "name": "stdout",
     "output_type": "stream",
     "text": [
      "\r",
      "Upgrading database; v2 -> v3: : 0it [00:00, ?it/s]"
     ]
    },
    {
     "name": "stdout",
     "output_type": "stream",
     "text": [
      "\r",
      "Upgrading database; v2 -> v3: : 0it [00:00, ?it/s]"
     ]
    },
    {
     "name": "stdout",
     "output_type": "stream",
     "text": [
      "\n",
      "\r",
      "0it [00:00, ?it/s]"
     ]
    },
    {
     "name": "stdout",
     "output_type": "stream",
     "text": [
      "\r",
      "Upgrading database; v3 -> v4: : 0it [00:00, ?it/s]"
     ]
    },
    {
     "name": "stdout",
     "output_type": "stream",
     "text": [
      "\r",
      "Upgrading database; v3 -> v4: : 0it [00:00, ?it/s]"
     ]
    },
    {
     "name": "stdout",
     "output_type": "stream",
     "text": [
      "\n",
      "\r",
      "  0%|          | 0/1 [00:00<?, ?it/s]"
     ]
    },
    {
     "name": "stdout",
     "output_type": "stream",
     "text": [
      "\r",
      "Upgrading database; v4 -> v5:   0%|          | 0/1 [00:00<?, ?it/s]"
     ]
    },
    {
     "name": "stdout",
     "output_type": "stream",
     "text": [
      "\r",
      "Upgrading database; v4 -> v5: 100%|██████████| 1/1 [00:00<00:00, 733.40it/s]"
     ]
    },
    {
     "name": "stdout",
     "output_type": "stream",
     "text": [
      "\n",
      "\r",
      "0it [00:00, ?it/s]"
     ]
    },
    {
     "name": "stdout",
     "output_type": "stream",
     "text": [
      "\r",
      "Upgrading database; v5 -> v6: : 0it [00:00, ?it/s]"
     ]
    },
    {
     "name": "stdout",
     "output_type": "stream",
     "text": [
      "\r",
      "Upgrading database; v5 -> v6: : 0it [00:00, ?it/s]"
     ]
    },
    {
     "name": "stdout",
     "output_type": "stream",
     "text": [
      "\n",
      "\r",
      "  0%|          | 0/1 [00:00<?, ?it/s]"
     ]
    },
    {
     "name": "stdout",
     "output_type": "stream",
     "text": [
      "\r",
      "Upgrading database; v6 -> v7:   0%|          | 0/1 [00:00<?, ?it/s]"
     ]
    },
    {
     "name": "stdout",
     "output_type": "stream",
     "text": [
      "\r",
      "Upgrading database; v6 -> v7: 100%|██████████| 1/1 [00:00<00:00, 358.00it/s]"
     ]
    },
    {
     "name": "stdout",
     "output_type": "stream",
     "text": [
      "\n",
      "\r",
      "  0%|          | 0/1 [00:00<?, ?it/s]"
     ]
    },
    {
     "name": "stdout",
     "output_type": "stream",
     "text": [
      "\r",
      "Upgrading database; v7 -> v8:   0%|          | 0/1 [00:00<?, ?it/s]"
     ]
    },
    {
     "name": "stdout",
     "output_type": "stream",
     "text": [
      "\r",
      "Upgrading database; v7 -> v8: 100%|██████████| 1/1 [00:00<00:00, 670.98it/s]"
     ]
    },
    {
     "name": "stdout",
     "output_type": "stream",
     "text": [
      "\n",
      "\r",
      "  0%|          | 0/1 [00:00<?, ?it/s]"
     ]
    },
    {
     "name": "stdout",
     "output_type": "stream",
     "text": [
      "\r",
      "Upgrading database; v8 -> v9:   0%|          | 0/1 [00:00<?, ?it/s]"
     ]
    },
    {
     "name": "stdout",
     "output_type": "stream",
     "text": [
      "\r",
      "Upgrading database; v8 -> v9: 100%|██████████| 1/1 [00:00<00:00, 886.00it/s]"
     ]
    },
    {
     "name": "stdout",
     "output_type": "stream",
     "text": [
      "\n"
     ]
    }
   ],
   "source": [
    "initialise_database()\n",
    "exp = load_or_create_experiment(experiment_name='tutorial_exp', sample_name=\"no sample\")"
   ]
  },
  {
   "cell_type": "markdown",
   "metadata": {},
   "source": [
    "Here, we define a simple function to benchmark the time it takes to insert n points with either numeric or array data type.\n",
    "We will compare both the time used to call ``add_result`` and the time used for the full measurement."
   ]
  },
  {
   "cell_type": "code",
   "execution_count": 4,
   "metadata": {},
   "outputs": [],
   "source": [
    "def insert_data(paramtype, npoints, nreps=1):\n",
    "\n",
    "    meas = Measurement(exp=exp)\n",
    "\n",
    "    x1 = ManualParameter('x1')\n",
    "    x2 = ManualParameter('x2')\n",
    "    x3 = ManualParameter('x3')\n",
    "    y1 = ManualParameter('y1')\n",
    "    y2 = ManualParameter('y2')\n",
    "\n",
    "    meas.register_parameter(x1, paramtype=paramtype)\n",
    "    meas.register_parameter(x2, paramtype=paramtype)\n",
    "    meas.register_parameter(x3, paramtype=paramtype)\n",
    "    meas.register_parameter(y1, setpoints=[x1, x2, x3],\n",
    "                            paramtype=paramtype)\n",
    "    meas.register_parameter(y2, setpoints=[x1, x2, x3],\n",
    "                            paramtype=paramtype)\n",
    "    start = time.perf_counter()\n",
    "    with meas.run() as datasaver:\n",
    "        start_adding = time.perf_counter()\n",
    "        for i in range(nreps):\n",
    "            datasaver.add_result((x1, np.random.rand(npoints)),\n",
    "                                 (x2, np.random.rand(npoints)),\n",
    "                                 (x3, np.random.rand(npoints)),\n",
    "                                 (y1, np.random.rand(npoints)),\n",
    "                                 (y2, np.random.rand(npoints)))\n",
    "        stop_adding = time.perf_counter()\n",
    "        run_id = datasaver.run_id\n",
    "    stop = time.perf_counter()\n",
    "    tot_time = stop - start\n",
    "    add_time = stop_adding - start_adding\n",
    "    return tot_time, add_time, run_id"
   ]
  },
  {
   "cell_type": "markdown",
   "metadata": {},
   "source": [
    "## Comparison between numeric/array data and binary blob"
   ]
  },
  {
   "cell_type": "markdown",
   "metadata": {},
   "source": [
    "### Case1: Short experiment time"
   ]
  },
  {
   "cell_type": "code",
   "execution_count": 5,
   "metadata": {},
   "outputs": [
    {
     "name": "stdout",
     "output_type": "stream",
     "text": [
      "Starting experimental run with id: 1. \n",
      "Starting experimental run with id: 2. \n",
      "Starting experimental run with id: 3. \n"
     ]
    },
    {
     "name": "stdout",
     "output_type": "stream",
     "text": [
      "Starting experimental run with id: 4. \n"
     ]
    },
    {
     "name": "stdout",
     "output_type": "stream",
     "text": [
      "Starting experimental run with id: 5. \n",
      "Starting experimental run with id: 6. \n"
     ]
    },
    {
     "name": "stdout",
     "output_type": "stream",
     "text": [
      "Starting experimental run with id: 7. \n"
     ]
    },
    {
     "name": "stdout",
     "output_type": "stream",
     "text": [
      "Starting experimental run with id: 8. \n"
     ]
    },
    {
     "name": "stdout",
     "output_type": "stream",
     "text": [
      "Starting experimental run with id: 9. \n"
     ]
    },
    {
     "name": "stdout",
     "output_type": "stream",
     "text": [
      "Starting experimental run with id: 10. \n",
      "Starting experimental run with id: 11. \n"
     ]
    },
    {
     "name": "stdout",
     "output_type": "stream",
     "text": [
      "Starting experimental run with id: 12. \n",
      "Starting experimental run with id: 13. \n"
     ]
    },
    {
     "name": "stdout",
     "output_type": "stream",
     "text": [
      "Starting experimental run with id: 14. \n"
     ]
    }
   ],
   "source": [
    "sizes = [1,500,1000,2000,3000,4000,5000]\n",
    "t_numeric = []\n",
    "t_numeric_add = []\n",
    "t_array = []\n",
    "t_array_add = []\n",
    "for size in sizes:\n",
    "    tn, tna, run_id_n =  insert_data('numeric', size)\n",
    "    t_numeric.append(tn)\n",
    "    t_numeric_add.append(tna)\n",
    "\n",
    "    ta, taa, run_id_a =  insert_data('array', size)\n",
    "    t_array.append(ta)\n",
    "    t_array_add.append(taa)"
   ]
  },
  {
   "cell_type": "code",
   "execution_count": 6,
   "metadata": {},
   "outputs": [
    {
     "data": {
      "image/png": "[encoded data removed]",
      "text/plain": [
       "<Figure size 432x288 with 1 Axes>"
      ]
     },
     "metadata": {
      "needs_background": "light"
     },
     "output_type": "display_data"
    }
   ],
   "source": [
    "fig, ax = plt.subplots(1,1)\n",
    "ax.plot(sizes, t_numeric, 'o-', label='Inserting row-by-row')\n",
    "ax.plot(sizes, t_numeric_add, 'o-', label='Inserting row-by-row: add_result only')\n",
    "ax.plot(sizes, t_array, 'd-', label='Inserting as binary blob')\n",
    "ax.plot(sizes, t_array_add, 'd-', label='Inserting as binary blob: add_result only')\n",
    "ax.legend()\n",
    "ax.set_xlabel('Array length')\n",
    "ax.set_ylabel('Time (s)')\n",
    "fig.tight_layout()"
   ]
  },
  {
   "cell_type": "markdown",
   "metadata": {},
   "source": [
    "As shown in the latter figure, the time to setup and and close the experiment is approximately 0.4 sec. In case of small array sizes, the difference between inserting values of data as arrays and inserting them row-by-row is relatively unimportant. At larger array sizes, i.e. above 10000 points, the cost of writing data as individual datapoints starts to become important.\n"
   ]
  },
  {
   "cell_type": "markdown",
   "metadata": {},
   "source": [
    "### Case2: Long experiment time "
   ]
  },
  {
   "cell_type": "code",
   "execution_count": 7,
   "metadata": {},
   "outputs": [
    {
     "name": "stdout",
     "output_type": "stream",
     "text": [
      "Starting experimental run with id: 15. \n",
      "Starting experimental run with id: 16. \n",
      "Starting experimental run with id: 17. \n"
     ]
    },
    {
     "name": "stdout",
     "output_type": "stream",
     "text": [
      "Starting experimental run with id: 18. \n",
      "Starting experimental run with id: 19. \n"
     ]
    },
    {
     "name": "stdout",
     "output_type": "stream",
     "text": [
      "Starting experimental run with id: 20. \n"
     ]
    },
    {
     "name": "stdout",
     "output_type": "stream",
     "text": [
      "Starting experimental run with id: 21. \n"
     ]
    },
    {
     "name": "stdout",
     "output_type": "stream",
     "text": [
      "Starting experimental run with id: 22. \n"
     ]
    },
    {
     "name": "stdout",
     "output_type": "stream",
     "text": [
      "Starting experimental run with id: 23. \n"
     ]
    },
    {
     "name": "stdout",
     "output_type": "stream",
     "text": [
      "Starting experimental run with id: 24. \n"
     ]
    },
    {
     "name": "stdout",
     "output_type": "stream",
     "text": [
      "Starting experimental run with id: 25. \n"
     ]
    },
    {
     "name": "stdout",
     "output_type": "stream",
     "text": [
      "Starting experimental run with id: 26. \n"
     ]
    },
    {
     "name": "stdout",
     "output_type": "stream",
     "text": [
      "Starting experimental run with id: 27. \n"
     ]
    },
    {
     "name": "stdout",
     "output_type": "stream",
     "text": [
      "Starting experimental run with id: 28. \n"
     ]
    }
   ],
   "source": [
    "sizes = [1,500,1000,2000,3000,4000,5000]\n",
    "nreps = 100\n",
    "t_numeric = []\n",
    "t_numeric_add = []\n",
    "t_numeric_run_ids = []\n",
    "t_array = []\n",
    "t_array_add = []\n",
    "t_array_run_ids = []\n",
    "for size in sizes:\n",
    "    tn, tna, run_id_n =  insert_data('numeric', size, nreps=nreps)\n",
    "    t_numeric.append(tn)\n",
    "    t_numeric_add.append(tna)\n",
    "    t_numeric_run_ids.append(run_id_n)\n",
    "\n",
    "    ta, taa, run_id_a =  insert_data('array', size, nreps=nreps)\n",
    "    t_array.append(ta)\n",
    "    t_array_add.append(taa)\n",
    "    t_array_run_ids.append(run_id_a)"
   ]
  },
  {
   "cell_type": "code",
   "execution_count": 8,
   "metadata": {
    "scrolled": true
   },
   "outputs": [
    {
     "data": {
      "image/png": "[encoded data removed]",
      "text/plain": [
       "<Figure size 432x288 with 1 Axes>"
      ]
     },
     "metadata": {
      "needs_background": "light"
     },
     "output_type": "display_data"
    }
   ],
   "source": [
    "fig, ax = plt.subplots(1,1)\n",
    "ax.plot(sizes, t_numeric, 'o-', label='Inserting row-by-row')\n",
    "ax.plot(sizes, t_numeric_add, 'o-', label='Inserting row-by-row: add_result only')\n",
    "ax.plot(sizes, t_array, 'd-', label='Inserting as binary blob')\n",
    "ax.plot(sizes, t_array_add, 'd-', label='Inserting as binary blob: add_result only')\n",
    "ax.legend()\n",
    "ax.set_xlabel('Array length')\n",
    "ax.set_ylabel('Time (s)')\n",
    "fig.tight_layout()"
   ]
  },
  {
   "cell_type": "markdown",
   "metadata": {},
   "source": [
    "However, as we increase the length of the experiment, as seen here by repeating the insertion 100 times, we see a big difference between inserting values of the data row-by-row and inserting it as a binary blob."
   ]
  },
  {
   "cell_type": "markdown",
   "metadata": {},
   "source": [
    "## Loading the data "
   ]
  },
  {
   "cell_type": "code",
   "execution_count": 9,
   "metadata": {},
   "outputs": [],
   "source": [
    "from qcodes.dataset.data_set import load_by_id\n",
    "from qcodes.dataset.data_export import get_data_by_id"
   ]
  },
  {
   "cell_type": "markdown",
   "metadata": {},
   "source": [
    "As usual you can load the data by using the ``load_by_id`` function but you will notice that the different storage methods\n",
    "are reflected in shape of the data as it is retrieved. "
   ]
  },
  {
   "cell_type": "code",
   "execution_count": 10,
   "metadata": {},
   "outputs": [],
   "source": [
    "run_id_n = t_numeric_run_ids[0]\n",
    "run_id_a = t_array_run_ids[0]"
   ]
  },
  {
   "cell_type": "code",
   "execution_count": 11,
   "metadata": {
    "scrolled": true
   },
   "outputs": [
    {
     "data": {
      "text/plain": [
       "{'x1': {'x1': array([6.90028156e-01, 6.90028156e-01, 5.97128278e-01, 5.97128278e-01,\n",
       "         5.29006707e-01, 5.29006707e-01, 2.97286554e-01, 2.97286554e-01,\n",
       "         4.68103926e-01, 4.68103926e-01, 4.22631759e-01, 4.22631759e-01,\n",
       "         4.86070598e-01, 4.86070598e-01, 3.13386802e-02, 3.13386802e-02,\n",
       "         2.52813382e-01, 2.52813382e-01, 2.02221077e-01, 2.02221077e-01,\n",
       "         4.20039844e-01, 4.20039844e-01, 7.51187920e-02, 7.51187920e-02,\n",
       "         2.49290907e-01, 2.49290907e-01, 2.40040052e-02, 2.40040052e-02,\n",
       "         2.28104273e-02, 2.28104273e-02, 8.55228478e-01, 8.55228478e-01,\n",
       "         8.30196990e-01, 8.30196990e-01, 9.18276022e-01, 9.18276022e-01,\n",
       "         8.07420668e-01, 8.07420668e-01, 1.10998840e-02, 1.10998840e-02,\n",
       "         5.97478811e-01, 5.97478811e-01, 1.06585756e-01, 1.06585756e-01,\n",
       "         4.06883126e-01, 4.06883126e-01, 4.67143618e-01, 4.67143618e-01,\n",
       "         4.60375791e-01, 4.60375791e-01, 3.33466472e-03, 3.33466472e-03,\n",
       "         9.47650427e-01, 9.47650427e-01, 2.09618297e-01, 2.09618297e-01,\n",
       "         8.28666915e-01, 8.28666915e-01, 8.06419800e-01, 8.06419800e-01,\n",
       "         3.67975019e-01, 3.67975019e-01, 8.18254367e-01, 8.18254367e-01,\n",
       "         4.30378955e-01, 4.30378955e-01, 8.68800859e-01, 8.68800859e-01,\n",
       "         3.07271407e-01, 3.07271407e-01, 8.56377846e-01, 8.56377846e-01,\n",
       "         9.25235384e-01, 9.25235384e-01, 6.53695806e-01, 6.53695806e-01,\n",
       "         6.57257460e-02, 6.57257460e-02, 9.71785602e-03, 9.71785602e-03,\n",
       "         9.83756972e-01, 9.83756972e-01, 5.84588664e-02, 5.84588664e-02,\n",
       "         6.30196506e-01, 6.30196506e-01, 3.98343277e-02, 3.98343277e-02,\n",
       "         1.46347169e-01, 1.46347169e-01, 3.95288330e-01, 3.95288330e-01,\n",
       "         1.32078034e-01, 1.32078034e-01, 6.49675171e-01, 6.49675171e-01,\n",
       "         8.28898647e-01, 8.28898647e-01, 8.25540504e-01, 8.25540504e-01,\n",
       "         7.44372111e-02, 7.44372111e-02, 1.53427866e-01, 1.53427866e-01,\n",
       "         9.24610203e-01, 9.24610203e-01, 8.56182272e-02, 8.56182272e-02,\n",
       "         5.86460630e-01, 5.86460630e-01, 1.47828523e-01, 1.47828523e-01,\n",
       "         1.56209493e-01, 1.56209493e-01, 6.56907785e-02, 6.56907785e-02,\n",
       "         1.46438923e-01, 1.46438923e-01, 8.22717602e-01, 8.22717602e-01,\n",
       "         4.41320784e-01, 4.41320784e-01, 3.20440771e-01, 3.20440771e-01,\n",
       "         7.01963629e-01, 7.01963629e-01, 4.93056541e-01, 4.93056541e-01,\n",
       "         7.92721453e-01, 7.92721453e-01, 2.87166539e-01, 2.87166539e-01,\n",
       "         7.73266843e-01, 7.73266843e-01, 1.07335377e-01, 1.07335377e-01,\n",
       "         1.61672053e-01, 1.61672053e-01, 2.67898953e-01, 2.67898953e-01,\n",
       "         8.80716899e-02, 8.80716899e-02, 7.88994520e-01, 7.88994520e-01,\n",
       "         2.72806269e-01, 2.72806269e-01, 3.33473403e-01, 3.33473403e-01,\n",
       "         6.63106369e-01, 6.63106369e-01, 2.81945111e-01, 2.81945111e-01,\n",
       "         8.41427552e-01, 8.41427552e-01, 3.51880005e-01, 3.51880005e-01,\n",
       "         1.31522431e-01, 1.31522431e-01, 2.11229834e-01, 2.11229834e-01,\n",
       "         7.67217421e-01, 7.67217421e-01, 3.78163878e-01, 3.78163878e-01,\n",
       "         7.10709423e-01, 7.10709423e-01, 6.40461510e-01, 6.40461510e-01,\n",
       "         6.84516046e-01, 6.84516046e-01, 9.25531245e-01, 9.25531245e-01,\n",
       "         2.53669227e-01, 2.53669227e-01, 6.58751566e-04, 6.58751566e-04,\n",
       "         4.49857073e-01, 4.49857073e-01, 3.39233075e-01, 3.39233075e-01,\n",
       "         3.14937145e-02, 3.14937145e-02, 4.60470788e-01, 4.60470788e-01,\n",
       "         9.88758208e-01, 9.88758208e-01, 2.56432795e-01, 2.56432795e-01,\n",
       "         5.82017987e-01, 5.82017987e-01, 2.68593397e-01, 2.68593397e-01,\n",
       "         4.19742060e-01, 4.19742060e-01, 8.92718091e-01, 8.92718091e-01,\n",
       "         1.57750334e-01, 1.57750334e-01, 3.88264764e-01, 3.88264764e-01])}}"
      ]
     },
     "execution_count": 11,
     "metadata": {},
     "output_type": "execute_result"
    }
   ],
   "source": [
    "ds = load_by_id(run_id_n)\n",
    "ds.get_parameter_data('x1')"
   ]
  },
  {
   "cell_type": "markdown",
   "metadata": {},
   "source": [
    "And a dataset stored as binary arrays"
   ]
  },
  {
   "cell_type": "code",
   "execution_count": 12,
   "metadata": {
    "scrolled": true
   },
   "outputs": [
    {
     "data": {
      "text/plain": [
       "{'x1': {'x1': array([[8.55168982e-01],\n",
       "         [8.55168982e-01],\n",
       "         [5.61084358e-01],\n",
       "         [5.61084358e-01],\n",
       "         [1.77120173e-01],\n",
       "         [1.77120173e-01],\n",
       "         [5.36668450e-01],\n",
       "         [5.36668450e-01],\n",
       "         [7.21125941e-01],\n",
       "         [7.21125941e-01],\n",
       "         [1.26794628e-01],\n",
       "         [1.26794628e-01],\n",
       "         [2.67516599e-01],\n",
       "         [2.67516599e-01],\n",
       "         [3.44645348e-01],\n",
       "         [3.44645348e-01],\n",
       "         [5.17950663e-05],\n",
       "         [5.17950663e-05],\n",
       "         [1.89220965e-01],\n",
       "         [1.89220965e-01],\n",
       "         [6.02226378e-01],\n",
       "         [6.02226378e-01],\n",
       "         [9.97345029e-01],\n",
       "         [9.97345029e-01],\n",
       "         [2.53146319e-01],\n",
       "         [2.53146319e-01],\n",
       "         [8.73229916e-01],\n",
       "         [8.73229916e-01],\n",
       "         [2.04476969e-01],\n",
       "         [2.04476969e-01],\n",
       "         [5.27073128e-01],\n",
       "         [5.27073128e-01],\n",
       "         [8.82924294e-01],\n",
       "         [8.82924294e-01],\n",
       "         [1.19938219e-01],\n",
       "         [1.19938219e-01],\n",
       "         [8.46714200e-01],\n",
       "         [8.46714200e-01],\n",
       "         [3.73670929e-01],\n",
       "         [3.73670929e-01],\n",
       "         [5.10949631e-01],\n",
       "         [5.10949631e-01],\n",
       "         [6.17614043e-01],\n",
       "         [6.17614043e-01],\n",
       "         [3.98419507e-01],\n",
       "         [3.98419507e-01],\n",
       "         [9.83439251e-01],\n",
       "         [9.83439251e-01],\n",
       "         [5.50663756e-01],\n",
       "         [5.50663756e-01],\n",
       "         [3.24641453e-01],\n",
       "         [3.24641453e-01],\n",
       "         [8.96385775e-01],\n",
       "         [8.96385775e-01],\n",
       "         [1.82798824e-01],\n",
       "         [1.82798824e-01],\n",
       "         [6.60257010e-01],\n",
       "         [6.60257010e-01],\n",
       "         [5.25141740e-01],\n",
       "         [5.25141740e-01],\n",
       "         [4.48693248e-01],\n",
       "         [4.48693248e-01],\n",
       "         [4.99951542e-01],\n",
       "         [4.99951542e-01],\n",
       "         [8.70997695e-01],\n",
       "         [8.70997695e-01],\n",
       "         [3.23595300e-01],\n",
       "         [3.23595300e-01],\n",
       "         [9.61941469e-01],\n",
       "         [9.61941469e-01],\n",
       "         [5.94081492e-01],\n",
       "         [5.94081492e-01],\n",
       "         [6.20646618e-01],\n",
       "         [6.20646618e-01],\n",
       "         [3.58719295e-01],\n",
       "         [3.58719295e-01],\n",
       "         [6.71088807e-01],\n",
       "         [6.71088807e-01],\n",
       "         [7.43839549e-01],\n",
       "         [7.43839549e-01],\n",
       "         [6.82938056e-01],\n",
       "         [6.82938056e-01],\n",
       "         [2.13866910e-02],\n",
       "         [2.13866910e-02],\n",
       "         [9.60292147e-01],\n",
       "         [9.60292147e-01],\n",
       "         [4.45076619e-01],\n",
       "         [4.45076619e-01],\n",
       "         [9.55921247e-01],\n",
       "         [9.55921247e-01],\n",
       "         [5.09710079e-01],\n",
       "         [5.09710079e-01],\n",
       "         [5.53883024e-01],\n",
       "         [5.53883024e-01],\n",
       "         [9.49449391e-01],\n",
       "         [9.49449391e-01],\n",
       "         [4.91395040e-01],\n",
       "         [4.91395040e-01],\n",
       "         [1.82391422e-01],\n",
       "         [1.82391422e-01],\n",
       "         [9.09118438e-01],\n",
       "         [9.09118438e-01],\n",
       "         [1.36987333e-01],\n",
       "         [1.36987333e-01],\n",
       "         [9.92466738e-01],\n",
       "         [9.92466738e-01],\n",
       "         [8.79862668e-01],\n",
       "         [8.79862668e-01],\n",
       "         [8.45332550e-01],\n",
       "         [8.45332550e-01],\n",
       "         [7.67634672e-01],\n",
       "         [7.67634672e-01],\n",
       "         [7.67264870e-01],\n",
       "         [7.67264870e-01],\n",
       "         [9.11361915e-01],\n",
       "         [9.11361915e-01],\n",
       "         [5.52894015e-01],\n",
       "         [5.52894015e-01],\n",
       "         [1.65413153e-01],\n",
       "         [1.65413153e-01],\n",
       "         [2.01947957e-01],\n",
       "         [2.01947957e-01],\n",
       "         [9.15800960e-03],\n",
       "         [9.15800960e-03],\n",
       "         [9.18425837e-01],\n",
       "         [9.18425837e-01],\n",
       "         [4.74267453e-01],\n",
       "         [4.74267453e-01],\n",
       "         [2.03171362e-01],\n",
       "         [2.03171362e-01],\n",
       "         [6.46352630e-01],\n",
       "         [6.46352630e-01],\n",
       "         [7.38349067e-02],\n",
       "         [7.38349067e-02],\n",
       "         [3.72639510e-01],\n",
       "         [3.72639510e-01],\n",
       "         [2.55646422e-01],\n",
       "         [2.55646422e-01],\n",
       "         [2.13259510e-01],\n",
       "         [2.13259510e-01],\n",
       "         [6.35153822e-01],\n",
       "         [6.35153822e-01],\n",
       "         [1.87807662e-01],\n",
       "         [1.87807662e-01],\n",
       "         [4.78858124e-01],\n",
       "         [4.78858124e-01],\n",
       "         [8.84789638e-01],\n",
       "         [8.84789638e-01],\n",
       "         [4.29719032e-01],\n",
       "         [4.29719032e-01],\n",
       "         [1.95805304e-01],\n",
       "         [1.95805304e-01],\n",
       "         [1.79331118e-01],\n",
       "         [1.79331118e-01],\n",
       "         [6.83336453e-01],\n",
       "         [6.83336453e-01],\n",
       "         [5.82492175e-01],\n",
       "         [5.82492175e-01],\n",
       "         [3.00990755e-01],\n",
       "         [3.00990755e-01],\n",
       "         [3.77960626e-02],\n",
       "         [3.77960626e-02],\n",
       "         [8.89213317e-01],\n",
       "         [8.89213317e-01],\n",
       "         [9.76935473e-01],\n",
       "         [9.76935473e-01],\n",
       "         [5.70279674e-01],\n",
       "         [5.70279674e-01],\n",
       "         [5.37925905e-01],\n",
       "         [5.37925905e-01],\n",
       "         [6.08763288e-02],\n",
       "         [6.08763288e-02],\n",
       "         [6.74631914e-01],\n",
       "         [6.74631914e-01],\n",
       "         [5.79982450e-01],\n",
       "         [5.79982450e-01],\n",
       "         [4.02148845e-01],\n",
       "         [4.02148845e-01],\n",
       "         [1.39280970e-01],\n",
       "         [1.39280970e-01],\n",
       "         [8.90787848e-01],\n",
       "         [8.90787848e-01],\n",
       "         [5.53543516e-02],\n",
       "         [5.53543516e-02],\n",
       "         [7.20410578e-02],\n",
       "         [7.20410578e-02],\n",
       "         [9.39837677e-01],\n",
       "         [9.39837677e-01],\n",
       "         [5.17802246e-01],\n",
       "         [5.17802246e-01],\n",
       "         [2.28663849e-01],\n",
       "         [2.28663849e-01],\n",
       "         [2.93507678e-01],\n",
       "         [2.93507678e-01],\n",
       "         [2.89934444e-01],\n",
       "         [2.89934444e-01],\n",
       "         [4.09795140e-01],\n",
       "         [4.09795140e-01],\n",
       "         [4.32867210e-01],\n",
       "         [4.32867210e-01]])}}"
      ]
     },
     "execution_count": 12,
     "metadata": {},
     "output_type": "execute_result"
    }
   ],
   "source": [
    "ds = load_by_id(run_id_a)\n",
    "ds.get_parameter_data('x1')"
   ]
  },
  {
   "cell_type": "code",
   "execution_count": null,
   "metadata": {},
   "outputs": [],
   "source": []
  }
 ],
 "metadata": {
  "kernelspec": {
   "display_name": "Python 3",
   "language": "python",
   "name": "python3"
  },
  "language_info": {
   "codemirror_mode": {
    "name": "ipython",
    "version": 3
   },
   "file_extension": ".py",
   "mimetype": "text/x-python",
   "name": "python",
   "nbconvert_exporter": "python",
   "pygments_lexer": "ipython3",
   "version": "3.7.7"
  },
  "nbsphinx": {
   "timeout": 600
  },
  "toc": {
   "base_numbering": 1,
   "nav_menu": {},
   "number_sections": true,
   "sideBar": true,
   "skip_h1_title": false,
   "title_cell": "Table of Contents",
   "title_sidebar": "Contents",
   "toc_cell": false,
   "toc_position": {},
   "toc_section_display": true,
   "toc_window_display": false
  },
  "varInspector": {
   "cols": {
    "lenName": 16,
    "lenType": 16,
    "lenVar": 40
   },
   "kernels_config": {
    "python": {
     "delete_cmd_postfix": "",
     "delete_cmd_prefix": "del ",
     "library": "var_list.py",
     "varRefreshCmd": "print(var_dic_list())"
    },
    "r": {
     "delete_cmd_postfix": ") ",
     "delete_cmd_prefix": "rm(",
     "library": "var_list.r",
     "varRefreshCmd": "cat(var_dic_list()) "
    }
   },
   "types_to_exclude": [
    "module",
    "function",
    "builtin_function_or_method",
    "instance",
    "_Feature"
   ],
   "window_display": false
  }
 },
 "nbformat": 4,
 "nbformat_minor": 2
}
