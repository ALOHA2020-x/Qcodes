{
 "cells": [
  {
   "cell_type": "markdown",
   "metadata": {},
   "source": [
    "# DataSet Performance\n",
    "\n",
    "This notebook shows the trade-off between inserting data into a database row-by-row and as binary blobs. Inserting the data row-by-row means that we have direct access to all the data and may perform queries directly on the values of the data. On the other hand, as we shall see, this is much slower than inserting the data directly as binary blobs."
   ]
  },
  {
   "cell_type": "markdown",
   "metadata": {},
   "source": [
    "First, we choose a new location for the database to ensure that we don't add a bunch of benchmarking data to the default one."
   ]
  },
  {
   "cell_type": "code",
   "execution_count": 1,
   "metadata": {
    "execution": {
     "iopub.execute_input": "2021-03-17T10:16:09.742778Z",
     "iopub.status.busy": "2021-03-17T10:16:09.742219Z",
     "iopub.status.idle": "2021-03-17T10:16:10.665258Z",
     "shell.execute_reply": "2021-03-17T10:16:10.664620Z"
    }
   },
   "outputs": [
    {
     "name": "stdout",
     "output_type": "stream",
     "text": [
      "Logging hadn't been started.\n",
      "Activating auto-logging. Current session state plus future input saved.\n",
      "Filename       : /home/runner/.qcodes/logs/command_history.log\n",
      "Mode           : append\n",
      "Output logging : True\n",
      "Raw input log  : False\n",
      "Timestamping   : True\n",
      "State          : active\n"
     ]
    },
    {
     "name": "stdout",
     "output_type": "stream",
     "text": [
      "Qcodes Logfile : /home/runner/.qcodes/logs/210317-5261-qcodes.log\n"
     ]
    }
   ],
   "source": [
    "import os\n",
    "cwd = os.getcwd()\n",
    "import qcodes as qc\n",
    "qc.config[\"core\"][\"db_location\"] = os.path.join(cwd, 'testing.db')\n"
   ]
  },
  {
   "cell_type": "code",
   "execution_count": 2,
   "metadata": {
    "execution": {
     "iopub.execute_input": "2021-03-17T10:16:10.671884Z",
     "iopub.status.busy": "2021-03-17T10:16:10.671284Z",
     "iopub.status.idle": "2021-03-17T10:16:10.877287Z",
     "shell.execute_reply": "2021-03-17T10:16:10.876656Z"
    }
   },
   "outputs": [],
   "source": [
    "%matplotlib inline\n",
    "import time\n",
    "import matplotlib.pyplot as plt\n",
    "import numpy as np\n",
    "\n",
    "import qcodes as qc\n",
    "from qcodes.instrument.parameter import ManualParameter\n",
    "from qcodes.dataset.experiment_container import (Experiment,\n",
    "                                                 load_last_experiment,\n",
    "                                                 new_experiment)\n",
    "from qcodes.dataset.sqlite.database import initialise_database\n",
    "from qcodes import load_or_create_experiment\n",
    "from qcodes.dataset.measurements import Measurement"
   ]
  },
  {
   "cell_type": "code",
   "execution_count": 3,
   "metadata": {
    "execution": {
     "iopub.execute_input": "2021-03-17T10:16:10.881401Z",
     "iopub.status.busy": "2021-03-17T10:16:10.880781Z",
     "iopub.status.idle": "2021-03-17T10:16:10.988609Z",
     "shell.execute_reply": "2021-03-17T10:16:10.988083Z"
    }
   },
   "outputs": [
    {
     "name": "stdout",
     "output_type": "stream",
     "text": [
      "\r",
      "0it [00:00, ?it/s]"
     ]
    },
    {
     "name": "stdout",
     "output_type": "stream",
     "text": [
      "\r",
      "Upgrading database; v0 -> v1: : 0it [00:00, ?it/s]"
     ]
    },
    {
     "name": "stdout",
     "output_type": "stream",
     "text": [
      "\r",
      "Upgrading database; v0 -> v1: : 0it [00:00, ?it/s]"
     ]
    },
    {
     "name": "stdout",
     "output_type": "stream",
     "text": [
      "\n",
      "\r",
      "  0%|          | 0/1 [00:00<?, ?it/s]"
     ]
    },
    {
     "name": "stdout",
     "output_type": "stream",
     "text": [
      "\r",
      "Upgrading database; v1 -> v2:   0%|          | 0/1 [00:00<?, ?it/s]"
     ]
    },
    {
     "name": "stdout",
     "output_type": "stream",
     "text": [
      "\r",
      "Upgrading database; v1 -> v2: 100%|██████████| 1/1 [00:00<00:00, 552.68it/s]"
     ]
    },
    {
     "name": "stdout",
     "output_type": "stream",
     "text": [
      "\n",
      "\r",
      "0it [00:00, ?it/s]"
     ]
    },
    {
     "name": "stdout",
     "output_type": "stream",
     "text": [
      "\r",
      "Upgrading database; v2 -> v3: : 0it [00:00, ?it/s]"
     ]
    },
    {
     "name": "stdout",
     "output_type": "stream",
     "text": [
      "\r",
      "Upgrading database; v2 -> v3: : 0it [00:00, ?it/s]"
     ]
    },
    {
     "name": "stdout",
     "output_type": "stream",
     "text": [
      "\n",
      "\r",
      "0it [00:00, ?it/s]"
     ]
    },
    {
     "name": "stdout",
     "output_type": "stream",
     "text": [
      "\r",
      "Upgrading database; v3 -> v4: : 0it [00:00, ?it/s]"
     ]
    },
    {
     "name": "stdout",
     "output_type": "stream",
     "text": [
      "\r",
      "Upgrading database; v3 -> v4: : 0it [00:00, ?it/s]"
     ]
    },
    {
     "name": "stdout",
     "output_type": "stream",
     "text": [
      "\n",
      "\r",
      "  0%|          | 0/1 [00:00<?, ?it/s]"
     ]
    },
    {
     "name": "stdout",
     "output_type": "stream",
     "text": [
      "\r",
      "Upgrading database; v4 -> v5:   0%|          | 0/1 [00:00<?, ?it/s]"
     ]
    },
    {
     "name": "stdout",
     "output_type": "stream",
     "text": [
      "\r",
      "Upgrading database; v4 -> v5: 100%|██████████| 1/1 [00:00<00:00, 526.99it/s]"
     ]
    },
    {
     "name": "stdout",
     "output_type": "stream",
     "text": [
      "\n",
      "\r",
      "0it [00:00, ?it/s]"
     ]
    },
    {
     "name": "stdout",
     "output_type": "stream",
     "text": [
      "\r",
      "Upgrading database; v5 -> v6: : 0it [00:00, ?it/s]"
     ]
    },
    {
     "name": "stdout",
     "output_type": "stream",
     "text": [
      "\r",
      "Upgrading database; v5 -> v6: : 0it [00:00, ?it/s]"
     ]
    },
    {
     "name": "stdout",
     "output_type": "stream",
     "text": [
      "\n",
      "\r",
      "  0%|          | 0/1 [00:00<?, ?it/s]"
     ]
    },
    {
     "name": "stdout",
     "output_type": "stream",
     "text": [
      "\r",
      "Upgrading database; v6 -> v7:   0%|          | 0/1 [00:00<?, ?it/s]"
     ]
    },
    {
     "name": "stdout",
     "output_type": "stream",
     "text": [
      "\r",
      "Upgrading database; v6 -> v7: 100%|██████████| 1/1 [00:00<00:00, 474.15it/s]"
     ]
    },
    {
     "name": "stdout",
     "output_type": "stream",
     "text": [
      "\n",
      "\r",
      "  0%|          | 0/1 [00:00<?, ?it/s]"
     ]
    },
    {
     "name": "stdout",
     "output_type": "stream",
     "text": [
      "\r",
      "Upgrading database; v7 -> v8:   0%|          | 0/1 [00:00<?, ?it/s]"
     ]
    },
    {
     "name": "stdout",
     "output_type": "stream",
     "text": [
      "\r",
      "Upgrading database; v7 -> v8: 100%|██████████| 1/1 [00:00<00:00, 709.58it/s]"
     ]
    },
    {
     "name": "stdout",
     "output_type": "stream",
     "text": [
      "\n",
      "\r",
      "  0%|          | 0/1 [00:00<?, ?it/s]"
     ]
    },
    {
     "name": "stdout",
     "output_type": "stream",
     "text": [
      "\r",
      "Upgrading database; v8 -> v9:   0%|          | 0/1 [00:00<?, ?it/s]"
     ]
    },
    {
     "name": "stdout",
     "output_type": "stream",
     "text": [
      "\r",
      "Upgrading database; v8 -> v9: 100%|██████████| 1/1 [00:00<00:00, 778.60it/s]"
     ]
    },
    {
     "name": "stdout",
     "output_type": "stream",
     "text": [
      "\n"
     ]
    }
   ],
   "source": [
    "initialise_database()\n",
    "exp = load_or_create_experiment(experiment_name='tutorial_exp', sample_name=\"no sample\")"
   ]
  },
  {
   "cell_type": "markdown",
   "metadata": {},
   "source": [
    "Here, we define a simple function to benchmark the time it takes to insert n points with either numeric or array data type.\n",
    "We will compare both the time used to call ``add_result`` and the time used for the full measurement."
   ]
  },
  {
   "cell_type": "code",
   "execution_count": 4,
   "metadata": {
    "execution": {
     "iopub.execute_input": "2021-03-17T10:16:10.998759Z",
     "iopub.status.busy": "2021-03-17T10:16:10.997444Z",
     "iopub.status.idle": "2021-03-17T10:16:10.999424Z",
     "shell.execute_reply": "2021-03-17T10:16:10.999909Z"
    }
   },
   "outputs": [],
   "source": [
    "def insert_data(paramtype, npoints, nreps=1):\n",
    "\n",
    "    meas = Measurement(exp=exp)\n",
    "\n",
    "    x1 = ManualParameter('x1')\n",
    "    x2 = ManualParameter('x2')\n",
    "    x3 = ManualParameter('x3')\n",
    "    y1 = ManualParameter('y1')\n",
    "    y2 = ManualParameter('y2')\n",
    "\n",
    "    meas.register_parameter(x1, paramtype=paramtype)\n",
    "    meas.register_parameter(x2, paramtype=paramtype)\n",
    "    meas.register_parameter(x3, paramtype=paramtype)\n",
    "    meas.register_parameter(y1, setpoints=[x1, x2, x3],\n",
    "                            paramtype=paramtype)\n",
    "    meas.register_parameter(y2, setpoints=[x1, x2, x3],\n",
    "                            paramtype=paramtype)\n",
    "    start = time.perf_counter()\n",
    "    with meas.run() as datasaver:\n",
    "        start_adding = time.perf_counter()\n",
    "        for i in range(nreps):\n",
    "            datasaver.add_result((x1, np.random.rand(npoints)),\n",
    "                                 (x2, np.random.rand(npoints)),\n",
    "                                 (x3, np.random.rand(npoints)),\n",
    "                                 (y1, np.random.rand(npoints)),\n",
    "                                 (y2, np.random.rand(npoints)))\n",
    "        stop_adding = time.perf_counter()\n",
    "        run_id = datasaver.run_id\n",
    "    stop = time.perf_counter()\n",
    "    tot_time = stop - start\n",
    "    add_time = stop_adding - start_adding\n",
    "    return tot_time, add_time, run_id"
   ]
  },
  {
   "cell_type": "markdown",
   "metadata": {},
   "source": [
    "## Comparison between numeric/array data and binary blob"
   ]
  },
  {
   "cell_type": "markdown",
   "metadata": {},
   "source": [
    "### Case1: Short experiment time"
   ]
  },
  {
   "cell_type": "code",
   "execution_count": 5,
   "metadata": {
    "execution": {
     "iopub.execute_input": "2021-03-17T10:16:11.006889Z",
     "iopub.status.busy": "2021-03-17T10:16:11.006273Z",
     "iopub.status.idle": "2021-03-17T10:16:11.827624Z",
     "shell.execute_reply": "2021-03-17T10:16:11.826824Z"
    }
   },
   "outputs": [
    {
     "name": "stdout",
     "output_type": "stream",
     "text": [
      "Starting experimental run with id: 1. \n",
      "Starting experimental run with id: 2. \n",
      "Starting experimental run with id: 3. \n",
      "Starting experimental run with id: 4. \n",
      "Starting experimental run with id: 5. \n"
     ]
    },
    {
     "name": "stdout",
     "output_type": "stream",
     "text": [
      "Starting experimental run with id: 6. \n"
     ]
    },
    {
     "name": "stdout",
     "output_type": "stream",
     "text": [
      "Starting experimental run with id: 7. \n"
     ]
    },
    {
     "name": "stdout",
     "output_type": "stream",
     "text": [
      "Starting experimental run with id: 8. \n",
      "Starting experimental run with id: 9. \n"
     ]
    },
    {
     "name": "stdout",
     "output_type": "stream",
     "text": [
      "Starting experimental run with id: 10. \n",
      "Starting experimental run with id: 11. \n"
     ]
    },
    {
     "name": "stdout",
     "output_type": "stream",
     "text": [
      "Starting experimental run with id: 12. \n",
      "Starting experimental run with id: 13. \n"
     ]
    },
    {
     "name": "stdout",
     "output_type": "stream",
     "text": [
      "Starting experimental run with id: 14. \n"
     ]
    }
   ],
   "source": [
    "sizes = [1,500,1000,2000,3000,4000,5000]\n",
    "t_numeric = []\n",
    "t_numeric_add = []\n",
    "t_array = []\n",
    "t_array_add = []\n",
    "for size in sizes:\n",
    "    tn, tna, run_id_n =  insert_data('numeric', size)\n",
    "    t_numeric.append(tn)\n",
    "    t_numeric_add.append(tna)\n",
    "\n",
    "    ta, taa, run_id_a =  insert_data('array', size)\n",
    "    t_array.append(ta)\n",
    "    t_array_add.append(taa)"
   ]
  },
  {
   "cell_type": "code",
   "execution_count": 6,
   "metadata": {
    "execution": {
     "iopub.execute_input": "2021-03-17T10:16:11.846106Z",
     "iopub.status.busy": "2021-03-17T10:16:11.833729Z",
     "iopub.status.idle": "2021-03-17T10:16:12.039276Z",
     "shell.execute_reply": "2021-03-17T10:16:12.038761Z"
    }
   },
   "outputs": [
    {
     "data": {
      "image/png": "[encoded data removed]",
      "text/plain": [
       "<Figure size 432x288 with 1 Axes>"
      ]
     },
     "metadata": {
      "needs_background": "light"
     },
     "output_type": "display_data"
    }
   ],
   "source": [
    "fig, ax = plt.subplots(1,1)\n",
    "ax.plot(sizes, t_numeric, 'o-', label='Inserting row-by-row')\n",
    "ax.plot(sizes, t_numeric_add, 'o-', label='Inserting row-by-row: add_result only')\n",
    "ax.plot(sizes, t_array, 'd-', label='Inserting as binary blob')\n",
    "ax.plot(sizes, t_array_add, 'd-', label='Inserting as binary blob: add_result only')\n",
    "ax.legend()\n",
    "ax.set_xlabel('Array length')\n",
    "ax.set_ylabel('Time (s)')\n",
    "fig.tight_layout()"
   ]
  },
  {
   "cell_type": "markdown",
   "metadata": {},
   "source": [
    "As shown in the latter figure, the time to setup and and close the experiment is approximately 0.4 sec. In case of small array sizes, the difference between inserting values of data as arrays and inserting them row-by-row is relatively unimportant. At larger array sizes, i.e. above 10000 points, the cost of writing data as individual datapoints starts to become important.\n"
   ]
  },
  {
   "cell_type": "markdown",
   "metadata": {},
   "source": [
    "### Case2: Long experiment time "
   ]
  },
  {
   "cell_type": "code",
   "execution_count": 7,
   "metadata": {
    "execution": {
     "iopub.execute_input": "2021-03-17T10:16:12.046384Z",
     "iopub.status.busy": "2021-03-17T10:16:12.045764Z",
     "iopub.status.idle": "2021-03-17T10:17:13.829728Z",
     "shell.execute_reply": "2021-03-17T10:17:13.828730Z"
    }
   },
   "outputs": [
    {
     "name": "stdout",
     "output_type": "stream",
     "text": [
      "Starting experimental run with id: 15. \n",
      "Starting experimental run with id: 16. \n",
      "Starting experimental run with id: 17. \n"
     ]
    },
    {
     "name": "stdout",
     "output_type": "stream",
     "text": [
      "Starting experimental run with id: 18. \n",
      "Starting experimental run with id: 19. \n"
     ]
    },
    {
     "name": "stdout",
     "output_type": "stream",
     "text": [
      "Starting experimental run with id: 20. \n"
     ]
    },
    {
     "name": "stdout",
     "output_type": "stream",
     "text": [
      "Starting experimental run with id: 21. \n"
     ]
    },
    {
     "name": "stdout",
     "output_type": "stream",
     "text": [
      "Starting experimental run with id: 22. \n"
     ]
    },
    {
     "name": "stdout",
     "output_type": "stream",
     "text": [
      "Starting experimental run with id: 23. \n"
     ]
    },
    {
     "name": "stdout",
     "output_type": "stream",
     "text": [
      "Starting experimental run with id: 24. \n"
     ]
    },
    {
     "name": "stdout",
     "output_type": "stream",
     "text": [
      "Starting experimental run with id: 25. \n"
     ]
    },
    {
     "name": "stdout",
     "output_type": "stream",
     "text": [
      "Starting experimental run with id: 26. \n"
     ]
    },
    {
     "name": "stdout",
     "output_type": "stream",
     "text": [
      "Starting experimental run with id: 27. \n"
     ]
    },
    {
     "name": "stdout",
     "output_type": "stream",
     "text": [
      "Starting experimental run with id: 28. \n"
     ]
    }
   ],
   "source": [
    "sizes = [1,500,1000,2000,3000,4000,5000]\n",
    "nreps = 100\n",
    "t_numeric = []\n",
    "t_numeric_add = []\n",
    "t_numeric_run_ids = []\n",
    "t_array = []\n",
    "t_array_add = []\n",
    "t_array_run_ids = []\n",
    "for size in sizes:\n",
    "    tn, tna, run_id_n =  insert_data('numeric', size, nreps=nreps)\n",
    "    t_numeric.append(tn)\n",
    "    t_numeric_add.append(tna)\n",
    "    t_numeric_run_ids.append(run_id_n)\n",
    "\n",
    "    ta, taa, run_id_a =  insert_data('array', size, nreps=nreps)\n",
    "    t_array.append(ta)\n",
    "    t_array_add.append(taa)\n",
    "    t_array_run_ids.append(run_id_a)"
   ]
  },
  {
   "cell_type": "code",
   "execution_count": 8,
   "metadata": {
    "execution": {
     "iopub.execute_input": "2021-03-17T10:17:13.872374Z",
     "iopub.status.busy": "2021-03-17T10:17:13.871434Z",
     "iopub.status.idle": "2021-03-17T10:17:14.044358Z",
     "shell.execute_reply": "2021-03-17T10:17:14.043850Z"
    },
    "scrolled": true
   },
   "outputs": [
    {
     "data": {
      "image/png": "[encoded data removed]",
      "text/plain": [
       "<Figure size 432x288 with 1 Axes>"
      ]
     },
     "metadata": {
      "needs_background": "light"
     },
     "output_type": "display_data"
    }
   ],
   "source": [
    "fig, ax = plt.subplots(1,1)\n",
    "ax.plot(sizes, t_numeric, 'o-', label='Inserting row-by-row')\n",
    "ax.plot(sizes, t_numeric_add, 'o-', label='Inserting row-by-row: add_result only')\n",
    "ax.plot(sizes, t_array, 'd-', label='Inserting as binary blob')\n",
    "ax.plot(sizes, t_array_add, 'd-', label='Inserting as binary blob: add_result only')\n",
    "ax.legend()\n",
    "ax.set_xlabel('Array length')\n",
    "ax.set_ylabel('Time (s)')\n",
    "fig.tight_layout()"
   ]
  },
  {
   "cell_type": "markdown",
   "metadata": {},
   "source": [
    "However, as we increase the length of the experiment, as seen here by repeating the insertion 100 times, we see a big difference between inserting values of the data row-by-row and inserting it as a binary blob."
   ]
  },
  {
   "cell_type": "markdown",
   "metadata": {},
   "source": [
    "## Loading the data "
   ]
  },
  {
   "cell_type": "code",
   "execution_count": 9,
   "metadata": {
    "execution": {
     "iopub.execute_input": "2021-03-17T10:17:14.049079Z",
     "iopub.status.busy": "2021-03-17T10:17:14.048446Z",
     "iopub.status.idle": "2021-03-17T10:17:14.051494Z",
     "shell.execute_reply": "2021-03-17T10:17:14.050889Z"
    }
   },
   "outputs": [],
   "source": [
    "from qcodes.dataset.data_set import load_by_id\n",
    "from qcodes.dataset.data_export import get_data_by_id"
   ]
  },
  {
   "cell_type": "markdown",
   "metadata": {},
   "source": [
    "As usual you can load the data by using the ``load_by_id`` function but you will notice that the different storage methods\n",
    "are reflected in shape of the data as it is retrieved. "
   ]
  },
  {
   "cell_type": "code",
   "execution_count": 10,
   "metadata": {
    "execution": {
     "iopub.execute_input": "2021-03-17T10:17:14.056239Z",
     "iopub.status.busy": "2021-03-17T10:17:14.055072Z",
     "iopub.status.idle": "2021-03-17T10:17:14.056937Z",
     "shell.execute_reply": "2021-03-17T10:17:14.057501Z"
    }
   },
   "outputs": [],
   "source": [
    "run_id_n = t_numeric_run_ids[0]\n",
    "run_id_a = t_array_run_ids[0]"
   ]
  },
  {
   "cell_type": "code",
   "execution_count": 11,
   "metadata": {
    "execution": {
     "iopub.execute_input": "2021-03-17T10:17:14.061130Z",
     "iopub.status.busy": "2021-03-17T10:17:14.060520Z",
     "iopub.status.idle": "2021-03-17T10:17:14.070336Z",
     "shell.execute_reply": "2021-03-17T10:17:14.070856Z"
    },
    "scrolled": true
   },
   "outputs": [
    {
     "data": {
      "text/plain": [
       "{'x1': {'x1': array([0.31075196, 0.31075196, 0.37611849, 0.37611849, 0.29584117,\n",
       "         0.29584117, 0.46906153, 0.46906153, 0.20521826, 0.20521826,\n",
       "         0.33261672, 0.33261672, 0.14398355, 0.14398355, 0.13018528,\n",
       "         0.13018528, 0.81881568, 0.81881568, 0.61888068, 0.61888068,\n",
       "         0.83099631, 0.83099631, 0.12755002, 0.12755002, 0.78651948,\n",
       "         0.78651948, 0.28771495, 0.28771495, 0.5141406 , 0.5141406 ,\n",
       "         0.49048162, 0.49048162, 0.85980462, 0.85980462, 0.77228372,\n",
       "         0.77228372, 0.16301913, 0.16301913, 0.4319651 , 0.4319651 ,\n",
       "         0.74029814, 0.74029814, 0.03640885, 0.03640885, 0.18268494,\n",
       "         0.18268494, 0.13870136, 0.13870136, 0.01934354, 0.01934354,\n",
       "         0.70930548, 0.70930548, 0.00685225, 0.00685225, 0.49944522,\n",
       "         0.49944522, 0.64399447, 0.64399447, 0.60488207, 0.60488207,\n",
       "         0.2463168 , 0.2463168 , 0.44130138, 0.44130138, 0.19916379,\n",
       "         0.19916379, 0.75379764, 0.75379764, 0.02799724, 0.02799724,\n",
       "         0.30162041, 0.30162041, 0.3667496 , 0.3667496 , 0.90565309,\n",
       "         0.90565309, 0.02283409, 0.02283409, 0.74517269, 0.74517269,\n",
       "         0.45519911, 0.45519911, 0.97192988, 0.97192988, 0.78978406,\n",
       "         0.78978406, 0.99586198, 0.99586198, 0.60710983, 0.60710983,\n",
       "         0.47232623, 0.47232623, 0.68085373, 0.68085373, 0.32108622,\n",
       "         0.32108622, 0.5083124 , 0.5083124 , 0.53062519, 0.53062519,\n",
       "         0.86171587, 0.86171587, 0.37563471, 0.37563471, 0.94811064,\n",
       "         0.94811064, 0.43677773, 0.43677773, 0.60723084, 0.60723084,\n",
       "         0.53709492, 0.53709492, 0.2319712 , 0.2319712 , 0.81176354,\n",
       "         0.81176354, 0.3328048 , 0.3328048 , 0.87885291, 0.87885291,\n",
       "         0.3937546 , 0.3937546 , 0.45541791, 0.45541791, 0.34880617,\n",
       "         0.34880617, 0.56630176, 0.56630176, 0.43613398, 0.43613398,\n",
       "         0.56648864, 0.56648864, 0.02494924, 0.02494924, 0.41735798,\n",
       "         0.41735798, 0.53833816, 0.53833816, 0.10532172, 0.10532172,\n",
       "         0.00588581, 0.00588581, 0.19599306, 0.19599306, 0.61519375,\n",
       "         0.61519375, 0.07491469, 0.07491469, 0.78242328, 0.78242328,\n",
       "         0.98826165, 0.98826165, 0.31951989, 0.31951989, 0.26870404,\n",
       "         0.26870404, 0.76594474, 0.76594474, 0.73794038, 0.73794038,\n",
       "         0.72798915, 0.72798915, 0.77732403, 0.77732403, 0.64643152,\n",
       "         0.64643152, 0.52207604, 0.52207604, 0.54904175, 0.54904175,\n",
       "         0.71557951, 0.71557951, 0.78240287, 0.78240287, 0.94615974,\n",
       "         0.94615974, 0.05510912, 0.05510912, 0.80163082, 0.80163082,\n",
       "         0.96232083, 0.96232083, 0.22143709, 0.22143709, 0.34229929,\n",
       "         0.34229929, 0.51299963, 0.51299963, 0.54734235, 0.54734235,\n",
       "         0.47320359, 0.47320359, 0.71303049, 0.71303049, 0.34460048,\n",
       "         0.34460048, 0.8459154 , 0.8459154 , 0.87122474, 0.87122474])}}"
      ]
     },
     "execution_count": 1,
     "metadata": {},
     "output_type": "execute_result"
    }
   ],
   "source": [
    "ds = load_by_id(run_id_n)\n",
    "ds.get_parameter_data('x1')"
   ]
  },
  {
   "cell_type": "markdown",
   "metadata": {},
   "source": [
    "And a dataset stored as binary arrays"
   ]
  },
  {
   "cell_type": "code",
   "execution_count": 12,
   "metadata": {
    "execution": {
     "iopub.execute_input": "2021-03-17T10:17:14.074806Z",
     "iopub.status.busy": "2021-03-17T10:17:14.074201Z",
     "iopub.status.idle": "2021-03-17T10:17:14.133999Z",
     "shell.execute_reply": "2021-03-17T10:17:14.134789Z"
    },
    "scrolled": true
   },
   "outputs": [
    {
     "data": {
      "text/plain": [
       "{'x1': {'x1': array([[0.48341266],\n",
       "         [0.48341266],\n",
       "         [0.38124393],\n",
       "         [0.38124393],\n",
       "         [0.62646279],\n",
       "         [0.62646279],\n",
       "         [0.36598265],\n",
       "         [0.36598265],\n",
       "         [0.92724612],\n",
       "         [0.92724612],\n",
       "         [0.97290148],\n",
       "         [0.97290148],\n",
       "         [0.18763483],\n",
       "         [0.18763483],\n",
       "         [0.42752821],\n",
       "         [0.42752821],\n",
       "         [0.40194033],\n",
       "         [0.40194033],\n",
       "         [0.40215877],\n",
       "         [0.40215877],\n",
       "         [0.42548597],\n",
       "         [0.42548597],\n",
       "         [0.53230284],\n",
       "         [0.53230284],\n",
       "         [0.71130887],\n",
       "         [0.71130887],\n",
       "         [0.44937661],\n",
       "         [0.44937661],\n",
       "         [0.30703066],\n",
       "         [0.30703066],\n",
       "         [0.36000838],\n",
       "         [0.36000838],\n",
       "         [0.91120169],\n",
       "         [0.91120169],\n",
       "         [0.81137077],\n",
       "         [0.81137077],\n",
       "         [0.06896727],\n",
       "         [0.06896727],\n",
       "         [0.06424465],\n",
       "         [0.06424465],\n",
       "         [0.7735811 ],\n",
       "         [0.7735811 ],\n",
       "         [0.4699319 ],\n",
       "         [0.4699319 ],\n",
       "         [0.89938888],\n",
       "         [0.89938888],\n",
       "         [0.69790125],\n",
       "         [0.69790125],\n",
       "         [0.34212376],\n",
       "         [0.34212376],\n",
       "         [0.77485331],\n",
       "         [0.77485331],\n",
       "         [0.29945702],\n",
       "         [0.29945702],\n",
       "         [0.82886211],\n",
       "         [0.82886211],\n",
       "         [0.94949985],\n",
       "         [0.94949985],\n",
       "         [0.16516602],\n",
       "         [0.16516602],\n",
       "         [0.7024232 ],\n",
       "         [0.7024232 ],\n",
       "         [0.28518176],\n",
       "         [0.28518176],\n",
       "         [0.32878078],\n",
       "         [0.32878078],\n",
       "         [0.49645245],\n",
       "         [0.49645245],\n",
       "         [0.57490088],\n",
       "         [0.57490088],\n",
       "         [0.10823635],\n",
       "         [0.10823635],\n",
       "         [0.52893804],\n",
       "         [0.52893804],\n",
       "         [0.964117  ],\n",
       "         [0.964117  ],\n",
       "         [0.37463488],\n",
       "         [0.37463488],\n",
       "         [0.972129  ],\n",
       "         [0.972129  ],\n",
       "         [0.52732194],\n",
       "         [0.52732194],\n",
       "         [0.90854159],\n",
       "         [0.90854159],\n",
       "         [0.72936863],\n",
       "         [0.72936863],\n",
       "         [0.39075202],\n",
       "         [0.39075202],\n",
       "         [0.86894492],\n",
       "         [0.86894492],\n",
       "         [0.36619183],\n",
       "         [0.36619183],\n",
       "         [0.21451294],\n",
       "         [0.21451294],\n",
       "         [0.14238409],\n",
       "         [0.14238409],\n",
       "         [0.96751932],\n",
       "         [0.96751932],\n",
       "         [0.80797208],\n",
       "         [0.80797208],\n",
       "         [0.11628548],\n",
       "         [0.11628548],\n",
       "         [0.18645398],\n",
       "         [0.18645398],\n",
       "         [0.4198556 ],\n",
       "         [0.4198556 ],\n",
       "         [0.1608539 ],\n",
       "         [0.1608539 ],\n",
       "         [0.03184779],\n",
       "         [0.03184779],\n",
       "         [0.59049784],\n",
       "         [0.59049784],\n",
       "         [0.92971931],\n",
       "         [0.92971931],\n",
       "         [0.644628  ],\n",
       "         [0.644628  ],\n",
       "         [0.18678758],\n",
       "         [0.18678758],\n",
       "         [0.50170333],\n",
       "         [0.50170333],\n",
       "         [0.93392849],\n",
       "         [0.93392849],\n",
       "         [0.21626158],\n",
       "         [0.21626158],\n",
       "         [0.64490211],\n",
       "         [0.64490211],\n",
       "         [0.86983193],\n",
       "         [0.86983193],\n",
       "         [0.90874411],\n",
       "         [0.90874411],\n",
       "         [0.45822046],\n",
       "         [0.45822046],\n",
       "         [0.43202652],\n",
       "         [0.43202652],\n",
       "         [0.3111015 ],\n",
       "         [0.3111015 ],\n",
       "         [0.73864342],\n",
       "         [0.73864342],\n",
       "         [0.33389997],\n",
       "         [0.33389997],\n",
       "         [0.37814824],\n",
       "         [0.37814824],\n",
       "         [0.54936456],\n",
       "         [0.54936456],\n",
       "         [0.88688853],\n",
       "         [0.88688853],\n",
       "         [0.85634713],\n",
       "         [0.85634713],\n",
       "         [0.47623906],\n",
       "         [0.47623906],\n",
       "         [0.63688474],\n",
       "         [0.63688474],\n",
       "         [0.89465196],\n",
       "         [0.89465196],\n",
       "         [0.93194101],\n",
       "         [0.93194101],\n",
       "         [0.03781667],\n",
       "         [0.03781667],\n",
       "         [0.42272998],\n",
       "         [0.42272998],\n",
       "         [0.76314717],\n",
       "         [0.76314717],\n",
       "         [0.9563456 ],\n",
       "         [0.9563456 ],\n",
       "         [0.09579888],\n",
       "         [0.09579888],\n",
       "         [0.67694813],\n",
       "         [0.67694813],\n",
       "         [0.33959469],\n",
       "         [0.33959469],\n",
       "         [0.35064005],\n",
       "         [0.35064005],\n",
       "         [0.41655848],\n",
       "         [0.41655848],\n",
       "         [0.51833189],\n",
       "         [0.51833189],\n",
       "         [0.74771849],\n",
       "         [0.74771849],\n",
       "         [0.55732748],\n",
       "         [0.55732748],\n",
       "         [0.37876822],\n",
       "         [0.37876822],\n",
       "         [0.62605471],\n",
       "         [0.62605471],\n",
       "         [0.71796843],\n",
       "         [0.71796843],\n",
       "         [0.11506639],\n",
       "         [0.11506639],\n",
       "         [0.86235662],\n",
       "         [0.86235662],\n",
       "         [0.81827362],\n",
       "         [0.81827362],\n",
       "         [0.99450734],\n",
       "         [0.99450734],\n",
       "         [0.68423232],\n",
       "         [0.68423232],\n",
       "         [0.86356214],\n",
       "         [0.86356214],\n",
       "         [0.63840853],\n",
       "         [0.63840853]])}}"
      ]
     },
     "execution_count": 1,
     "metadata": {},
     "output_type": "execute_result"
    }
   ],
   "source": [
    "ds = load_by_id(run_id_a)\n",
    "ds.get_parameter_data('x1')"
   ]
  },
  {
   "cell_type": "code",
   "execution_count": null,
   "metadata": {},
   "outputs": [],
   "source": []
  }
 ],
 "metadata": {
  "kernelspec": {
   "display_name": "Python 3",
   "language": "python",
   "name": "python3"
  },
  "language_info": {
   "codemirror_mode": {
    "name": "ipython",
    "version": 3
   },
   "file_extension": ".py",
   "mimetype": "text/x-python",
   "name": "python",
   "nbconvert_exporter": "python",
   "pygments_lexer": "ipython3",
   "version": "3.7.10"
  },
  "nbsphinx": {
   "timeout": 600
  },
  "toc": {
   "base_numbering": 1,
   "nav_menu": {},
   "number_sections": true,
   "sideBar": true,
   "skip_h1_title": false,
   "title_cell": "Table of Contents",
   "title_sidebar": "Contents",
   "toc_cell": false,
   "toc_position": {},
   "toc_section_display": true,
   "toc_window_display": false
  },
  "varInspector": {
   "cols": {
    "lenName": 16,
    "lenType": 16,
    "lenVar": 40
   },
   "kernels_config": {
    "python": {
     "delete_cmd_postfix": "",
     "delete_cmd_prefix": "del ",
     "library": "var_list.py",
     "varRefreshCmd": "print(var_dic_list())"
    },
    "r": {
     "delete_cmd_postfix": ") ",
     "delete_cmd_prefix": "rm(",
     "library": "var_list.r",
     "varRefreshCmd": "cat(var_dic_list()) "
    }
   },
   "types_to_exclude": [
    "module",
    "function",
    "builtin_function_or_method",
    "instance",
    "_Feature"
   ],
   "window_display": false
  }
 },
 "nbformat": 4,
 "nbformat_minor": 2
}
