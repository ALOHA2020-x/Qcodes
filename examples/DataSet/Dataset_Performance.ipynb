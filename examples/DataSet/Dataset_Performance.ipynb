{
 "cells": [
  {
   "cell_type": "markdown",
   "metadata": {},
   "source": [
    "# DataSet Performance\n",
    "\n",
    "This notebook shows the trade-off between inserting data into a database row-by-row and as binary blobs. Inserting the data row-by-row means that we have direct access to all the data and may perform queries directly on the values of the data. On the other hand, as we shall see, this is much slower than inserting the data directly as binary blobs."
   ]
  },
  {
   "cell_type": "markdown",
   "metadata": {},
   "source": [
    "First, we choose a new location for the database to ensure that we don't add a bunch of benchmarking data to the default one."
   ]
  },
  {
   "cell_type": "code",
   "execution_count": 1,
   "metadata": {
    "execution": {
     "iopub.execute_input": "2020-10-05T17:49:56.867603Z",
     "iopub.status.busy": "2020-10-05T17:49:56.867006Z",
     "iopub.status.idle": "2020-10-05T17:49:57.847162Z",
     "shell.execute_reply": "2020-10-05T17:49:57.847599Z"
    }
   },
   "outputs": [
    {
     "name": "stdout",
     "output_type": "stream",
     "text": [
      "Logging hadn't been started.\n",
      "Activating auto-logging. Current session state plus future input saved.\n",
      "Filename       : /home/vsts/.qcodes/logs/command_history.log\n",
      "Mode           : append\n",
      "Output logging : True\n",
      "Raw input log  : False\n",
      "Timestamping   : True\n",
      "State          : active\n"
     ]
    },
    {
     "name": "stdout",
     "output_type": "stream",
     "text": [
      "Qcodes Logfile : /home/vsts/.qcodes/logs/201005-18823-qcodes.log\n"
     ]
    }
   ],
   "source": [
    "import os\n",
    "cwd = os.getcwd()\n",
    "import qcodes as qc\n",
    "qc.config[\"core\"][\"db_location\"] = os.path.join(cwd, 'testing.db')\n"
   ]
  },
  {
   "cell_type": "code",
   "execution_count": 2,
   "metadata": {
    "execution": {
     "iopub.execute_input": "2020-10-05T17:49:57.853494Z",
     "iopub.status.busy": "2020-10-05T17:49:57.852931Z",
     "iopub.status.idle": "2020-10-05T17:49:58.019671Z",
     "shell.execute_reply": "2020-10-05T17:49:58.018860Z"
    }
   },
   "outputs": [],
   "source": [
    "%matplotlib inline\n",
    "import time\n",
    "import matplotlib.pyplot as plt\n",
    "import numpy as np\n",
    "\n",
    "import qcodes as qc\n",
    "from qcodes.instrument.parameter import ManualParameter\n",
    "from qcodes.dataset.experiment_container import (Experiment,\n",
    "                                                 load_last_experiment,\n",
    "                                                 new_experiment)\n",
    "from qcodes.dataset.sqlite.database import initialise_database\n",
    "from qcodes import load_or_create_experiment\n",
    "from qcodes.dataset.measurements import Measurement"
   ]
  },
  {
   "cell_type": "code",
   "execution_count": 3,
   "metadata": {
    "execution": {
     "iopub.execute_input": "2020-10-05T17:49:58.023378Z",
     "iopub.status.busy": "2020-10-05T17:49:58.022629Z",
     "iopub.status.idle": "2020-10-05T17:49:58.125905Z",
     "shell.execute_reply": "2020-10-05T17:49:58.125449Z"
    }
   },
   "outputs": [
    {
     "name": "stdout",
     "output_type": "stream",
     "text": [
      "\r",
      "0it [00:00, ?it/s]"
     ]
    },
    {
     "name": "stdout",
     "output_type": "stream",
     "text": [
      "\r",
      "Upgrading database; v0 -> v1: : 0it [00:00, ?it/s]"
     ]
    },
    {
     "name": "stdout",
     "output_type": "stream",
     "text": [
      "\r",
      "Upgrading database; v0 -> v1: : 0it [00:00, ?it/s]"
     ]
    },
    {
     "name": "stdout",
     "output_type": "stream",
     "text": [
      "\n",
      "\r",
      "  0%|          | 0/1 [00:00<?, ?it/s]"
     ]
    },
    {
     "name": "stdout",
     "output_type": "stream",
     "text": [
      "\r",
      "Upgrading database; v1 -> v2:   0%|          | 0/1 [00:00<?, ?it/s]"
     ]
    },
    {
     "name": "stdout",
     "output_type": "stream",
     "text": [
      "\r",
      "Upgrading database; v1 -> v2: 100%|██████████| 1/1 [00:00<00:00, 479.68it/s]"
     ]
    },
    {
     "name": "stdout",
     "output_type": "stream",
     "text": [
      "\n",
      "\r",
      "0it [00:00, ?it/s]"
     ]
    },
    {
     "name": "stdout",
     "output_type": "stream",
     "text": [
      "\r",
      "Upgrading database; v2 -> v3: : 0it [00:00, ?it/s]"
     ]
    },
    {
     "name": "stdout",
     "output_type": "stream",
     "text": [
      "\r",
      "Upgrading database; v2 -> v3: : 0it [00:00, ?it/s]"
     ]
    },
    {
     "name": "stdout",
     "output_type": "stream",
     "text": [
      "\n",
      "\r",
      "0it [00:00, ?it/s]"
     ]
    },
    {
     "name": "stdout",
     "output_type": "stream",
     "text": [
      "\r",
      "Upgrading database; v3 -> v4: : 0it [00:00, ?it/s]"
     ]
    },
    {
     "name": "stdout",
     "output_type": "stream",
     "text": [
      "\r",
      "Upgrading database; v3 -> v4: : 0it [00:00, ?it/s]"
     ]
    },
    {
     "name": "stdout",
     "output_type": "stream",
     "text": [
      "\n",
      "\r",
      "  0%|          | 0/1 [00:00<?, ?it/s]"
     ]
    },
    {
     "name": "stdout",
     "output_type": "stream",
     "text": [
      "\r",
      "Upgrading database; v4 -> v5:   0%|          | 0/1 [00:00<?, ?it/s]"
     ]
    },
    {
     "name": "stdout",
     "output_type": "stream",
     "text": [
      "\r",
      "Upgrading database; v4 -> v5: 100%|██████████| 1/1 [00:00<00:00, 538.49it/s]"
     ]
    },
    {
     "name": "stdout",
     "output_type": "stream",
     "text": [
      "\n",
      "\r",
      "0it [00:00, ?it/s]"
     ]
    },
    {
     "name": "stdout",
     "output_type": "stream",
     "text": [
      "\r",
      "Upgrading database; v5 -> v6: : 0it [00:00, ?it/s]"
     ]
    },
    {
     "name": "stdout",
     "output_type": "stream",
     "text": [
      "\r",
      "Upgrading database; v5 -> v6: : 0it [00:00, ?it/s]"
     ]
    },
    {
     "name": "stdout",
     "output_type": "stream",
     "text": [
      "\n",
      "\r",
      "  0%|          | 0/1 [00:00<?, ?it/s]"
     ]
    },
    {
     "name": "stdout",
     "output_type": "stream",
     "text": [
      "\r",
      "Upgrading database; v6 -> v7:   0%|          | 0/1 [00:00<?, ?it/s]"
     ]
    },
    {
     "name": "stdout",
     "output_type": "stream",
     "text": [
      "\r",
      "Upgrading database; v6 -> v7: 100%|██████████| 1/1 [00:00<00:00, 366.06it/s]"
     ]
    },
    {
     "name": "stdout",
     "output_type": "stream",
     "text": [
      "\n",
      "\r",
      "  0%|          | 0/1 [00:00<?, ?it/s]"
     ]
    },
    {
     "name": "stdout",
     "output_type": "stream",
     "text": [
      "\r",
      "Upgrading database; v7 -> v8:   0%|          | 0/1 [00:00<?, ?it/s]"
     ]
    },
    {
     "name": "stdout",
     "output_type": "stream",
     "text": [
      "\r",
      "Upgrading database; v7 -> v8: 100%|██████████| 1/1 [00:00<00:00, 471.16it/s]"
     ]
    },
    {
     "name": "stdout",
     "output_type": "stream",
     "text": [
      "\n",
      "\r",
      "  0%|          | 0/1 [00:00<?, ?it/s]"
     ]
    },
    {
     "name": "stdout",
     "output_type": "stream",
     "text": [
      "\r",
      "Upgrading database; v8 -> v9:   0%|          | 0/1 [00:00<?, ?it/s]"
     ]
    },
    {
     "name": "stdout",
     "output_type": "stream",
     "text": [
      "\r",
      "Upgrading database; v8 -> v9: 100%|██████████| 1/1 [00:00<00:00, 380.85it/s]"
     ]
    },
    {
     "name": "stdout",
     "output_type": "stream",
     "text": [
      "\n"
     ]
    }
   ],
   "source": [
    "initialise_database()\n",
    "exp = load_or_create_experiment(experiment_name='tutorial_exp', sample_name=\"no sample\")"
   ]
  },
  {
   "cell_type": "markdown",
   "metadata": {},
   "source": [
    "Here, we define a simple function to benchmark the time it takes to insert n points with either numeric or array data type.\n",
    "We will compare both the time used to call ``add_result`` and the time used for the full measurement."
   ]
  },
  {
   "cell_type": "code",
   "execution_count": 4,
   "metadata": {
    "execution": {
     "iopub.execute_input": "2020-10-05T17:49:58.134519Z",
     "iopub.status.busy": "2020-10-05T17:49:58.133366Z",
     "iopub.status.idle": "2020-10-05T17:49:58.135036Z",
     "shell.execute_reply": "2020-10-05T17:49:58.135617Z"
    }
   },
   "outputs": [],
   "source": [
    "def insert_data(paramtype, npoints, nreps=1):\n",
    "\n",
    "    meas = Measurement(exp=exp)\n",
    "\n",
    "    x1 = ManualParameter('x1')\n",
    "    x2 = ManualParameter('x2')\n",
    "    x3 = ManualParameter('x3')\n",
    "    y1 = ManualParameter('y1')\n",
    "    y2 = ManualParameter('y2')\n",
    "\n",
    "    meas.register_parameter(x1, paramtype=paramtype)\n",
    "    meas.register_parameter(x2, paramtype=paramtype)\n",
    "    meas.register_parameter(x3, paramtype=paramtype)\n",
    "    meas.register_parameter(y1, setpoints=[x1, x2, x3],\n",
    "                            paramtype=paramtype)\n",
    "    meas.register_parameter(y2, setpoints=[x1, x2, x3],\n",
    "                            paramtype=paramtype)\n",
    "    start = time.perf_counter()\n",
    "    with meas.run() as datasaver:\n",
    "        start_adding = time.perf_counter()\n",
    "        for i in range(nreps):\n",
    "            datasaver.add_result((x1, np.random.rand(npoints)),\n",
    "                                 (x2, np.random.rand(npoints)),\n",
    "                                 (x3, np.random.rand(npoints)),\n",
    "                                 (y1, np.random.rand(npoints)),\n",
    "                                 (y2, np.random.rand(npoints)))\n",
    "        stop_adding = time.perf_counter()\n",
    "        run_id = datasaver.run_id\n",
    "    stop = time.perf_counter()\n",
    "    tot_time = stop - start\n",
    "    add_time = stop_adding - start_adding\n",
    "    return tot_time, add_time, run_id"
   ]
  },
  {
   "cell_type": "markdown",
   "metadata": {},
   "source": [
    "## Comparison between numeric/array data and binary blob"
   ]
  },
  {
   "cell_type": "markdown",
   "metadata": {},
   "source": [
    "### Case1: Short experiment time"
   ]
  },
  {
   "cell_type": "code",
   "execution_count": 5,
   "metadata": {
    "execution": {
     "iopub.execute_input": "2020-10-05T17:49:58.141306Z",
     "iopub.status.busy": "2020-10-05T17:49:58.140687Z",
     "iopub.status.idle": "2020-10-05T17:49:58.945592Z",
     "shell.execute_reply": "2020-10-05T17:49:58.946212Z"
    }
   },
   "outputs": [
    {
     "name": "stdout",
     "output_type": "stream",
     "text": [
      "Starting experimental run with id: 1. \n",
      "Starting experimental run with id: 2. \n",
      "Starting experimental run with id: 3. \n",
      "Starting experimental run with id: 4. \n",
      "Starting experimental run with id: 5. \n"
     ]
    },
    {
     "name": "stdout",
     "output_type": "stream",
     "text": [
      "Starting experimental run with id: 6. \n"
     ]
    },
    {
     "name": "stdout",
     "output_type": "stream",
     "text": [
      "Starting experimental run with id: 7. \n"
     ]
    },
    {
     "name": "stdout",
     "output_type": "stream",
     "text": [
      "Starting experimental run with id: 8. \n",
      "Starting experimental run with id: 9. \n"
     ]
    },
    {
     "name": "stdout",
     "output_type": "stream",
     "text": [
      "Starting experimental run with id: 10. \n",
      "Starting experimental run with id: 11. \n"
     ]
    },
    {
     "name": "stdout",
     "output_type": "stream",
     "text": [
      "Starting experimental run with id: 12. \n",
      "Starting experimental run with id: 13. \n"
     ]
    },
    {
     "name": "stdout",
     "output_type": "stream",
     "text": [
      "Starting experimental run with id: 14. \n"
     ]
    }
   ],
   "source": [
    "sizes = [1,500,1000,2000,3000,4000,5000]\n",
    "t_numeric = []\n",
    "t_numeric_add = []\n",
    "t_array = []\n",
    "t_array_add = []\n",
    "for size in sizes:\n",
    "    tn, tna, run_id_n =  insert_data('numeric', size)\n",
    "    t_numeric.append(tn)\n",
    "    t_numeric_add.append(tna)\n",
    "\n",
    "    ta, taa, run_id_a =  insert_data('array', size)\n",
    "    t_array.append(ta)\n",
    "    t_array_add.append(taa)"
   ]
  },
  {
   "cell_type": "code",
   "execution_count": 6,
   "metadata": {
    "execution": {
     "iopub.execute_input": "2020-10-05T17:49:58.964733Z",
     "iopub.status.busy": "2020-10-05T17:49:58.963950Z",
     "iopub.status.idle": "2020-10-05T17:49:59.179723Z",
     "shell.execute_reply": "2020-10-05T17:49:59.179217Z"
    }
   },
   "outputs": [
    {
     "data": {
      "image/png": "[encoded data removed]",
      "text/plain": [
       "<Figure size 432x288 with 1 Axes>"
      ]
     },
     "metadata": {
      "needs_background": "light"
     },
     "output_type": "display_data"
    }
   ],
   "source": [
    "fig, ax = plt.subplots(1,1)\n",
    "ax.plot(sizes, t_numeric, 'o-', label='Inserting row-by-row')\n",
    "ax.plot(sizes, t_numeric_add, 'o-', label='Inserting row-by-row: add_result only')\n",
    "ax.plot(sizes, t_array, 'd-', label='Inserting as binary blob')\n",
    "ax.plot(sizes, t_array_add, 'd-', label='Inserting as binary blob: add_result only')\n",
    "ax.legend()\n",
    "ax.set_xlabel('Array length')\n",
    "ax.set_ylabel('Time (s)')\n",
    "fig.tight_layout()"
   ]
  },
  {
   "cell_type": "markdown",
   "metadata": {},
   "source": [
    "As shown in the latter figure, the time to setup and and close the experiment is approximately 0.4 sec. In case of small array sizes, the difference between inserting values of data as arrays and inserting them row-by-row is relatively unimportant. At larger array sizes, i.e. above 10000 points, the cost of writing data as individual datapoints starts to become important.\n"
   ]
  },
  {
   "cell_type": "markdown",
   "metadata": {},
   "source": [
    "### Case2: Long experiment time "
   ]
  },
  {
   "cell_type": "code",
   "execution_count": 7,
   "metadata": {
    "execution": {
     "iopub.execute_input": "2020-10-05T17:49:59.186243Z",
     "iopub.status.busy": "2020-10-05T17:49:59.185352Z",
     "iopub.status.idle": "2020-10-05T17:50:56.401387Z",
     "shell.execute_reply": "2020-10-05T17:50:56.400717Z"
    }
   },
   "outputs": [
    {
     "name": "stdout",
     "output_type": "stream",
     "text": [
      "Starting experimental run with id: 15. \n",
      "Starting experimental run with id: 16. \n",
      "Starting experimental run with id: 17. \n"
     ]
    },
    {
     "name": "stdout",
     "output_type": "stream",
     "text": [
      "Starting experimental run with id: 18. \n",
      "Starting experimental run with id: 19. \n"
     ]
    },
    {
     "name": "stdout",
     "output_type": "stream",
     "text": [
      "Starting experimental run with id: 20. \n"
     ]
    },
    {
     "name": "stdout",
     "output_type": "stream",
     "text": [
      "Starting experimental run with id: 21. \n"
     ]
    },
    {
     "name": "stdout",
     "output_type": "stream",
     "text": [
      "Starting experimental run with id: 22. \n"
     ]
    },
    {
     "name": "stdout",
     "output_type": "stream",
     "text": [
      "Starting experimental run with id: 23. \n"
     ]
    },
    {
     "name": "stdout",
     "output_type": "stream",
     "text": [
      "Starting experimental run with id: 24. \n"
     ]
    },
    {
     "name": "stdout",
     "output_type": "stream",
     "text": [
      "Starting experimental run with id: 25. \n"
     ]
    },
    {
     "name": "stdout",
     "output_type": "stream",
     "text": [
      "Starting experimental run with id: 26. \n"
     ]
    },
    {
     "name": "stdout",
     "output_type": "stream",
     "text": [
      "Starting experimental run with id: 27. \n"
     ]
    },
    {
     "name": "stdout",
     "output_type": "stream",
     "text": [
      "Starting experimental run with id: 28. \n"
     ]
    }
   ],
   "source": [
    "sizes = [1,500,1000,2000,3000,4000,5000]\n",
    "nreps = 100\n",
    "t_numeric = []\n",
    "t_numeric_add = []\n",
    "t_numeric_run_ids = []\n",
    "t_array = []\n",
    "t_array_add = []\n",
    "t_array_run_ids = []\n",
    "for size in sizes:\n",
    "    tn, tna, run_id_n =  insert_data('numeric', size, nreps=nreps)\n",
    "    t_numeric.append(tn)\n",
    "    t_numeric_add.append(tna)\n",
    "    t_numeric_run_ids.append(run_id_n)\n",
    "\n",
    "    ta, taa, run_id_a =  insert_data('array', size, nreps=nreps)\n",
    "    t_array.append(ta)\n",
    "    t_array_add.append(taa)\n",
    "    t_array_run_ids.append(run_id_a)"
   ]
  },
  {
   "cell_type": "code",
   "execution_count": 8,
   "metadata": {
    "execution": {
     "iopub.execute_input": "2020-10-05T17:50:56.423993Z",
     "iopub.status.busy": "2020-10-05T17:50:56.421776Z",
     "iopub.status.idle": "2020-10-05T17:50:56.652224Z",
     "shell.execute_reply": "2020-10-05T17:50:56.651509Z"
    },
    "scrolled": true
   },
   "outputs": [
    {
     "data": {
      "image/png": "[encoded data removed]",
      "text/plain": [
       "<Figure size 432x288 with 1 Axes>"
      ]
     },
     "metadata": {
      "needs_background": "light"
     },
     "output_type": "display_data"
    }
   ],
   "source": [
    "fig, ax = plt.subplots(1,1)\n",
    "ax.plot(sizes, t_numeric, 'o-', label='Inserting row-by-row')\n",
    "ax.plot(sizes, t_numeric_add, 'o-', label='Inserting row-by-row: add_result only')\n",
    "ax.plot(sizes, t_array, 'd-', label='Inserting as binary blob')\n",
    "ax.plot(sizes, t_array_add, 'd-', label='Inserting as binary blob: add_result only')\n",
    "ax.legend()\n",
    "ax.set_xlabel('Array length')\n",
    "ax.set_ylabel('Time (s)')\n",
    "fig.tight_layout()"
   ]
  },
  {
   "cell_type": "markdown",
   "metadata": {},
   "source": [
    "However, as we increase the length of the experiment, as seen here by repeating the insertion 100 times, we see a big difference between inserting values of the data row-by-row and inserting it as a binary blob."
   ]
  },
  {
   "cell_type": "markdown",
   "metadata": {},
   "source": [
    "## Loading the data "
   ]
  },
  {
   "cell_type": "code",
   "execution_count": 9,
   "metadata": {
    "execution": {
     "iopub.execute_input": "2020-10-05T17:50:56.656609Z",
     "iopub.status.busy": "2020-10-05T17:50:56.655578Z",
     "iopub.status.idle": "2020-10-05T17:50:56.659403Z",
     "shell.execute_reply": "2020-10-05T17:50:56.658920Z"
    }
   },
   "outputs": [],
   "source": [
    "from qcodes.dataset.data_set import load_by_id\n",
    "from qcodes.dataset.data_export import get_data_by_id"
   ]
  },
  {
   "cell_type": "markdown",
   "metadata": {},
   "source": [
    "As usual you can load the data by using the ``load_by_id`` function but you will notice that the different storage methods\n",
    "are reflected in shape of the data as it is retrieved. "
   ]
  },
  {
   "cell_type": "code",
   "execution_count": 10,
   "metadata": {
    "execution": {
     "iopub.execute_input": "2020-10-05T17:50:56.663811Z",
     "iopub.status.busy": "2020-10-05T17:50:56.662606Z",
     "iopub.status.idle": "2020-10-05T17:50:56.664373Z",
     "shell.execute_reply": "2020-10-05T17:50:56.664961Z"
    }
   },
   "outputs": [],
   "source": [
    "run_id_n = t_numeric_run_ids[0]\n",
    "run_id_a = t_array_run_ids[0]"
   ]
  },
  {
   "cell_type": "code",
   "execution_count": 11,
   "metadata": {
    "execution": {
     "iopub.execute_input": "2020-10-05T17:50:56.668399Z",
     "iopub.status.busy": "2020-10-05T17:50:56.667857Z",
     "iopub.status.idle": "2020-10-05T17:50:56.677658Z",
     "shell.execute_reply": "2020-10-05T17:50:56.677093Z"
    },
    "scrolled": true
   },
   "outputs": [
    {
     "data": {
      "text/plain": [
       "{'x1': {'x1': array([0.36291929, 0.36291929, 0.97840436, 0.97840436, 0.81031385,\n",
       "         0.81031385, 0.76950755, 0.76950755, 0.08396527, 0.08396527,\n",
       "         0.65256241, 0.65256241, 0.52610587, 0.52610587, 0.24053745,\n",
       "         0.24053745, 0.7450761 , 0.7450761 , 0.79009716, 0.79009716,\n",
       "         0.73124304, 0.73124304, 0.28492042, 0.28492042, 0.4413753 ,\n",
       "         0.4413753 , 0.38932654, 0.38932654, 0.0390258 , 0.0390258 ,\n",
       "         0.87555571, 0.87555571, 0.14464426, 0.14464426, 0.76938571,\n",
       "         0.76938571, 0.50058494, 0.50058494, 0.10814441, 0.10814441,\n",
       "         0.87860098, 0.87860098, 0.12734401, 0.12734401, 0.86299195,\n",
       "         0.86299195, 0.23411291, 0.23411291, 0.76719439, 0.76719439,\n",
       "         0.83466374, 0.83466374, 0.12724935, 0.12724935, 0.00786408,\n",
       "         0.00786408, 0.56075683, 0.56075683, 0.13586277, 0.13586277,\n",
       "         0.35721574, 0.35721574, 0.62205319, 0.62205319, 0.545985  ,\n",
       "         0.545985  , 0.88873698, 0.88873698, 0.22361438, 0.22361438,\n",
       "         0.10974028, 0.10974028, 0.12611132, 0.12611132, 0.36445467,\n",
       "         0.36445467, 0.11911478, 0.11911478, 0.248565  , 0.248565  ,\n",
       "         0.15012411, 0.15012411, 0.04301221, 0.04301221, 0.4567684 ,\n",
       "         0.4567684 , 0.23716656, 0.23716656, 0.13916348, 0.13916348,\n",
       "         0.50915757, 0.50915757, 0.57396428, 0.57396428, 0.20531119,\n",
       "         0.20531119, 0.50822972, 0.50822972, 0.11896677, 0.11896677,\n",
       "         0.86230274, 0.86230274, 0.78400362, 0.78400362, 0.33249052,\n",
       "         0.33249052, 0.27202726, 0.27202726, 0.67832593, 0.67832593,\n",
       "         0.07831761, 0.07831761, 0.21859787, 0.21859787, 0.12462175,\n",
       "         0.12462175, 0.0193028 , 0.0193028 , 0.44624081, 0.44624081,\n",
       "         0.19667941, 0.19667941, 0.12570214, 0.12570214, 0.56177992,\n",
       "         0.56177992, 0.59451992, 0.59451992, 0.79910358, 0.79910358,\n",
       "         0.70003004, 0.70003004, 0.75205792, 0.75205792, 0.08274118,\n",
       "         0.08274118, 0.65183522, 0.65183522, 0.8499676 , 0.8499676 ,\n",
       "         0.68974513, 0.68974513, 0.00470452, 0.00470452, 0.04470684,\n",
       "         0.04470684, 0.11427286, 0.11427286, 0.00822562, 0.00822562,\n",
       "         0.4454984 , 0.4454984 , 0.53663635, 0.53663635, 0.22218305,\n",
       "         0.22218305, 0.42621714, 0.42621714, 0.47005719, 0.47005719,\n",
       "         0.93341378, 0.93341378, 0.04662089, 0.04662089, 0.82271651,\n",
       "         0.82271651, 0.00994305, 0.00994305, 0.01914353, 0.01914353,\n",
       "         0.41551776, 0.41551776, 0.68165758, 0.68165758, 0.95779451,\n",
       "         0.95779451, 0.63067684, 0.63067684, 0.05821733, 0.05821733,\n",
       "         0.49001805, 0.49001805, 0.72181081, 0.72181081, 0.43905037,\n",
       "         0.43905037, 0.64778122, 0.64778122, 0.8071914 , 0.8071914 ,\n",
       "         0.10834724, 0.10834724, 0.01201043, 0.01201043, 0.68766608,\n",
       "         0.68766608, 0.19577108, 0.19577108, 0.31732286, 0.31732286])}}"
      ]
     },
     "execution_count": 1,
     "metadata": {},
     "output_type": "execute_result"
    }
   ],
   "source": [
    "ds = load_by_id(run_id_n)\n",
    "ds.get_parameter_data('x1')"
   ]
  },
  {
   "cell_type": "markdown",
   "metadata": {},
   "source": [
    "And a dataset stored as binary arrays"
   ]
  },
  {
   "cell_type": "code",
   "execution_count": 12,
   "metadata": {
    "execution": {
     "iopub.execute_input": "2020-10-05T17:50:56.680892Z",
     "iopub.status.busy": "2020-10-05T17:50:56.680355Z",
     "iopub.status.idle": "2020-10-05T17:50:56.740170Z",
     "shell.execute_reply": "2020-10-05T17:50:56.739639Z"
    },
    "scrolled": true
   },
   "outputs": [
    {
     "data": {
      "text/plain": [
       "{'x1': {'x1': array([[0.7540095 ],\n",
       "         [0.7540095 ],\n",
       "         [0.32152949],\n",
       "         [0.32152949],\n",
       "         [0.71043981],\n",
       "         [0.71043981],\n",
       "         [0.34473838],\n",
       "         [0.34473838],\n",
       "         [0.62608345],\n",
       "         [0.62608345],\n",
       "         [0.58584059],\n",
       "         [0.58584059],\n",
       "         [0.19283477],\n",
       "         [0.19283477],\n",
       "         [0.718873  ],\n",
       "         [0.718873  ],\n",
       "         [0.19596483],\n",
       "         [0.19596483],\n",
       "         [0.86353944],\n",
       "         [0.86353944],\n",
       "         [0.61018796],\n",
       "         [0.61018796],\n",
       "         [0.14731107],\n",
       "         [0.14731107],\n",
       "         [0.1035764 ],\n",
       "         [0.1035764 ],\n",
       "         [0.4746141 ],\n",
       "         [0.4746141 ],\n",
       "         [0.38322466],\n",
       "         [0.38322466],\n",
       "         [0.19961379],\n",
       "         [0.19961379],\n",
       "         [0.606818  ],\n",
       "         [0.606818  ],\n",
       "         [0.62157441],\n",
       "         [0.62157441],\n",
       "         [0.01303076],\n",
       "         [0.01303076],\n",
       "         [0.84323398],\n",
       "         [0.84323398],\n",
       "         [0.10030758],\n",
       "         [0.10030758],\n",
       "         [0.46889263],\n",
       "         [0.46889263],\n",
       "         [0.52231158],\n",
       "         [0.52231158],\n",
       "         [0.14482486],\n",
       "         [0.14482486],\n",
       "         [0.3633573 ],\n",
       "         [0.3633573 ],\n",
       "         [0.35662608],\n",
       "         [0.35662608],\n",
       "         [0.86747268],\n",
       "         [0.86747268],\n",
       "         [0.15295684],\n",
       "         [0.15295684],\n",
       "         [0.98537988],\n",
       "         [0.98537988],\n",
       "         [0.63726178],\n",
       "         [0.63726178],\n",
       "         [0.37180186],\n",
       "         [0.37180186],\n",
       "         [0.38929455],\n",
       "         [0.38929455],\n",
       "         [0.54054478],\n",
       "         [0.54054478],\n",
       "         [0.6063268 ],\n",
       "         [0.6063268 ],\n",
       "         [0.14734498],\n",
       "         [0.14734498],\n",
       "         [0.61447268],\n",
       "         [0.61447268],\n",
       "         [0.32152516],\n",
       "         [0.32152516],\n",
       "         [0.61506457],\n",
       "         [0.61506457],\n",
       "         [0.42552769],\n",
       "         [0.42552769],\n",
       "         [0.73058985],\n",
       "         [0.73058985],\n",
       "         [0.65521911],\n",
       "         [0.65521911],\n",
       "         [0.5832527 ],\n",
       "         [0.5832527 ],\n",
       "         [0.3517335 ],\n",
       "         [0.3517335 ],\n",
       "         [0.7745022 ],\n",
       "         [0.7745022 ],\n",
       "         [0.32150143],\n",
       "         [0.32150143],\n",
       "         [0.38178813],\n",
       "         [0.38178813],\n",
       "         [0.2549651 ],\n",
       "         [0.2549651 ],\n",
       "         [0.83643581],\n",
       "         [0.83643581],\n",
       "         [0.85998522],\n",
       "         [0.85998522],\n",
       "         [0.36236742],\n",
       "         [0.36236742],\n",
       "         [0.97779402],\n",
       "         [0.97779402],\n",
       "         [0.16368682],\n",
       "         [0.16368682],\n",
       "         [0.64093543],\n",
       "         [0.64093543],\n",
       "         [0.41397162],\n",
       "         [0.41397162],\n",
       "         [0.83180518],\n",
       "         [0.83180518],\n",
       "         [0.123034  ],\n",
       "         [0.123034  ],\n",
       "         [0.25154188],\n",
       "         [0.25154188],\n",
       "         [0.48179085],\n",
       "         [0.48179085],\n",
       "         [0.46269267],\n",
       "         [0.46269267],\n",
       "         [0.68455377],\n",
       "         [0.68455377],\n",
       "         [0.87019007],\n",
       "         [0.87019007],\n",
       "         [0.19365543],\n",
       "         [0.19365543],\n",
       "         [0.2230706 ],\n",
       "         [0.2230706 ],\n",
       "         [0.56266401],\n",
       "         [0.56266401],\n",
       "         [0.9929236 ],\n",
       "         [0.9929236 ],\n",
       "         [0.590229  ],\n",
       "         [0.590229  ],\n",
       "         [0.9661557 ],\n",
       "         [0.9661557 ],\n",
       "         [0.10553233],\n",
       "         [0.10553233],\n",
       "         [0.20041573],\n",
       "         [0.20041573],\n",
       "         [0.13897214],\n",
       "         [0.13897214],\n",
       "         [0.00711998],\n",
       "         [0.00711998],\n",
       "         [0.52317843],\n",
       "         [0.52317843],\n",
       "         [0.34738338],\n",
       "         [0.34738338],\n",
       "         [0.99858659],\n",
       "         [0.99858659],\n",
       "         [0.67638763],\n",
       "         [0.67638763],\n",
       "         [0.29768291],\n",
       "         [0.29768291],\n",
       "         [0.57793544],\n",
       "         [0.57793544],\n",
       "         [0.43513881],\n",
       "         [0.43513881],\n",
       "         [0.28006997],\n",
       "         [0.28006997],\n",
       "         [0.67121082],\n",
       "         [0.67121082],\n",
       "         [0.46199496],\n",
       "         [0.46199496],\n",
       "         [0.88594681],\n",
       "         [0.88594681],\n",
       "         [0.84930913],\n",
       "         [0.84930913],\n",
       "         [0.7105598 ],\n",
       "         [0.7105598 ],\n",
       "         [0.81749924],\n",
       "         [0.81749924],\n",
       "         [0.36481049],\n",
       "         [0.36481049],\n",
       "         [0.92511903],\n",
       "         [0.92511903],\n",
       "         [0.34842357],\n",
       "         [0.34842357],\n",
       "         [0.12253167],\n",
       "         [0.12253167],\n",
       "         [0.26374499],\n",
       "         [0.26374499],\n",
       "         [0.7097225 ],\n",
       "         [0.7097225 ],\n",
       "         [0.98047185],\n",
       "         [0.98047185],\n",
       "         [0.84400424],\n",
       "         [0.84400424],\n",
       "         [0.28942136],\n",
       "         [0.28942136],\n",
       "         [0.24495818],\n",
       "         [0.24495818],\n",
       "         [0.9967846 ],\n",
       "         [0.9967846 ],\n",
       "         [0.60414116],\n",
       "         [0.60414116],\n",
       "         [0.31246721],\n",
       "         [0.31246721],\n",
       "         [0.88617707],\n",
       "         [0.88617707],\n",
       "         [0.4892172 ],\n",
       "         [0.4892172 ]])}}"
      ]
     },
     "execution_count": 1,
     "metadata": {},
     "output_type": "execute_result"
    }
   ],
   "source": [
    "ds = load_by_id(run_id_a)\n",
    "ds.get_parameter_data('x1')"
   ]
  },
  {
   "cell_type": "code",
   "execution_count": null,
   "metadata": {},
   "outputs": [],
   "source": []
  }
 ],
 "metadata": {
  "kernelspec": {
   "display_name": "Python 3",
   "language": "python",
   "name": "python3"
  },
  "language_info": {
   "codemirror_mode": {
    "name": "ipython",
    "version": 3
   },
   "file_extension": ".py",
   "mimetype": "text/x-python",
   "name": "python",
   "nbconvert_exporter": "python",
   "pygments_lexer": "ipython3",
   "version": "3.7.7"
  },
  "nbsphinx": {
   "timeout": 600
  },
  "toc": {
   "base_numbering": 1,
   "nav_menu": {},
   "number_sections": true,
   "sideBar": true,
   "skip_h1_title": false,
   "title_cell": "Table of Contents",
   "title_sidebar": "Contents",
   "toc_cell": false,
   "toc_position": {},
   "toc_section_display": true,
   "toc_window_display": false
  },
  "varInspector": {
   "cols": {
    "lenName": 16,
    "lenType": 16,
    "lenVar": 40
   },
   "kernels_config": {
    "python": {
     "delete_cmd_postfix": "",
     "delete_cmd_prefix": "del ",
     "library": "var_list.py",
     "varRefreshCmd": "print(var_dic_list())"
    },
    "r": {
     "delete_cmd_postfix": ") ",
     "delete_cmd_prefix": "rm(",
     "library": "var_list.r",
     "varRefreshCmd": "cat(var_dic_list()) "
    }
   },
   "types_to_exclude": [
    "module",
    "function",
    "builtin_function_or_method",
    "instance",
    "_Feature"
   ],
   "window_display": false
  }
 },
 "nbformat": 4,
 "nbformat_minor": 2
}
