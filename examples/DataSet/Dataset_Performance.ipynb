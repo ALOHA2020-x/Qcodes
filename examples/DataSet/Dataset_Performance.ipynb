{
 "cells": [
  {
   "cell_type": "markdown",
   "metadata": {},
   "source": [
    "# DataSet Performance\n",
    "\n",
    "This notebook shows the trade-off between inserting data into a database row-by-row and as binary blobs. Inserting the data row-by-row means that we have direct access to all the data and may perform queries directly on the values of the data. On the other hand, as we shall see, this is much slower than inserting the data directly as binary blobs."
   ]
  },
  {
   "cell_type": "markdown",
   "metadata": {},
   "source": [
    "First, we choose a new location for the database to ensure that we don't add a bunch of benchmarking data to the default one."
   ]
  },
  {
   "cell_type": "code",
   "execution_count": 1,
   "metadata": {
    "execution": {
     "iopub.execute_input": "2021-01-22T09:54:16.198317Z",
     "iopub.status.busy": "2021-01-22T09:54:16.197819Z",
     "iopub.status.idle": "2021-01-22T09:54:17.083651Z",
     "shell.execute_reply": "2021-01-22T09:54:17.083088Z"
    }
   },
   "outputs": [
    {
     "name": "stdout",
     "output_type": "stream",
     "text": [
      "Logging hadn't been started.\n",
      "Activating auto-logging. Current session state plus future input saved.\n",
      "Filename       : /home/vsts/.qcodes/logs/command_history.log\n",
      "Mode           : append\n",
      "Output logging : True\n",
      "Raw input log  : False\n",
      "Timestamping   : True\n",
      "State          : active\n"
     ]
    },
    {
     "name": "stdout",
     "output_type": "stream",
     "text": [
      "Qcodes Logfile : /home/vsts/.qcodes/logs/210122-13891-qcodes.log\n"
     ]
    }
   ],
   "source": [
    "import os\n",
    "cwd = os.getcwd()\n",
    "import qcodes as qc\n",
    "qc.config[\"core\"][\"db_location\"] = os.path.join(cwd, 'testing.db')\n"
   ]
  },
  {
   "cell_type": "code",
   "execution_count": 2,
   "metadata": {
    "execution": {
     "iopub.execute_input": "2021-01-22T09:54:17.089807Z",
     "iopub.status.busy": "2021-01-22T09:54:17.088662Z",
     "iopub.status.idle": "2021-01-22T09:54:17.248485Z",
     "shell.execute_reply": "2021-01-22T09:54:17.247623Z"
    }
   },
   "outputs": [],
   "source": [
    "%matplotlib inline\n",
    "import time\n",
    "import matplotlib.pyplot as plt\n",
    "import numpy as np\n",
    "\n",
    "import qcodes as qc\n",
    "from qcodes.instrument.parameter import ManualParameter\n",
    "from qcodes.dataset.experiment_container import (Experiment,\n",
    "                                                 load_last_experiment,\n",
    "                                                 new_experiment)\n",
    "from qcodes.dataset.sqlite.database import initialise_database\n",
    "from qcodes import load_or_create_experiment\n",
    "from qcodes.dataset.measurements import Measurement"
   ]
  },
  {
   "cell_type": "code",
   "execution_count": 3,
   "metadata": {
    "execution": {
     "iopub.execute_input": "2021-01-22T09:54:17.251852Z",
     "iopub.status.busy": "2021-01-22T09:54:17.251406Z",
     "iopub.status.idle": "2021-01-22T09:54:17.351874Z",
     "shell.execute_reply": "2021-01-22T09:54:17.352263Z"
    }
   },
   "outputs": [
    {
     "name": "stdout",
     "output_type": "stream",
     "text": [
      "\r",
      "0it [00:00, ?it/s]"
     ]
    },
    {
     "name": "stdout",
     "output_type": "stream",
     "text": [
      "\r",
      "Upgrading database; v0 -> v1: : 0it [00:00, ?it/s]"
     ]
    },
    {
     "name": "stdout",
     "output_type": "stream",
     "text": [
      "\r",
      "Upgrading database; v0 -> v1: : 0it [00:00, ?it/s]"
     ]
    },
    {
     "name": "stdout",
     "output_type": "stream",
     "text": [
      "\n",
      "\r",
      "  0%|          | 0/1 [00:00<?, ?it/s]"
     ]
    },
    {
     "name": "stdout",
     "output_type": "stream",
     "text": [
      "\r",
      "Upgrading database; v1 -> v2:   0%|          | 0/1 [00:00<?, ?it/s]"
     ]
    },
    {
     "name": "stdout",
     "output_type": "stream",
     "text": [
      "\r",
      "Upgrading database; v1 -> v2: 100%|██████████| 1/1 [00:00<00:00, 1250.91it/s]"
     ]
    },
    {
     "name": "stdout",
     "output_type": "stream",
     "text": [
      "\n",
      "\r",
      "0it [00:00, ?it/s]"
     ]
    },
    {
     "name": "stdout",
     "output_type": "stream",
     "text": [
      "\r",
      "Upgrading database; v2 -> v3: : 0it [00:00, ?it/s]"
     ]
    },
    {
     "name": "stdout",
     "output_type": "stream",
     "text": [
      "\r",
      "Upgrading database; v2 -> v3: : 0it [00:00, ?it/s]"
     ]
    },
    {
     "name": "stdout",
     "output_type": "stream",
     "text": [
      "\n",
      "\r",
      "0it [00:00, ?it/s]"
     ]
    },
    {
     "name": "stdout",
     "output_type": "stream",
     "text": [
      "\r",
      "Upgrading database; v3 -> v4: : 0it [00:00, ?it/s]"
     ]
    },
    {
     "name": "stdout",
     "output_type": "stream",
     "text": [
      "\r",
      "Upgrading database; v3 -> v4: : 0it [00:00, ?it/s]"
     ]
    },
    {
     "name": "stdout",
     "output_type": "stream",
     "text": [
      "\n",
      "\r",
      "  0%|          | 0/1 [00:00<?, ?it/s]"
     ]
    },
    {
     "name": "stdout",
     "output_type": "stream",
     "text": [
      "\r",
      "Upgrading database; v4 -> v5:   0%|          | 0/1 [00:00<?, ?it/s]"
     ]
    },
    {
     "name": "stdout",
     "output_type": "stream",
     "text": [
      "\r",
      "Upgrading database; v4 -> v5: 100%|██████████| 1/1 [00:00<00:00, 608.93it/s]"
     ]
    },
    {
     "name": "stdout",
     "output_type": "stream",
     "text": [
      "\n",
      "\r",
      "0it [00:00, ?it/s]"
     ]
    },
    {
     "name": "stdout",
     "output_type": "stream",
     "text": [
      "\r",
      "Upgrading database; v5 -> v6: : 0it [00:00, ?it/s]"
     ]
    },
    {
     "name": "stdout",
     "output_type": "stream",
     "text": [
      "\r",
      "Upgrading database; v5 -> v6: : 0it [00:00, ?it/s]"
     ]
    },
    {
     "name": "stdout",
     "output_type": "stream",
     "text": [
      "\n",
      "\r",
      "  0%|          | 0/1 [00:00<?, ?it/s]"
     ]
    },
    {
     "name": "stdout",
     "output_type": "stream",
     "text": [
      "\r",
      "Upgrading database; v6 -> v7:   0%|          | 0/1 [00:00<?, ?it/s]"
     ]
    },
    {
     "name": "stdout",
     "output_type": "stream",
     "text": [
      "\r",
      "Upgrading database; v6 -> v7: 100%|██████████| 1/1 [00:00<00:00, 305.71it/s]"
     ]
    },
    {
     "name": "stdout",
     "output_type": "stream",
     "text": [
      "\n",
      "\r",
      "  0%|          | 0/1 [00:00<?, ?it/s]"
     ]
    },
    {
     "name": "stdout",
     "output_type": "stream",
     "text": [
      "\r",
      "Upgrading database; v7 -> v8:   0%|          | 0/1 [00:00<?, ?it/s]"
     ]
    },
    {
     "name": "stdout",
     "output_type": "stream",
     "text": [
      "\r",
      "Upgrading database; v7 -> v8: 100%|██████████| 1/1 [00:00<00:00, 531.46it/s]"
     ]
    },
    {
     "name": "stdout",
     "output_type": "stream",
     "text": [
      "\n",
      "\r",
      "  0%|          | 0/1 [00:00<?, ?it/s]"
     ]
    },
    {
     "name": "stdout",
     "output_type": "stream",
     "text": [
      "\r",
      "Upgrading database; v8 -> v9:   0%|          | 0/1 [00:00<?, ?it/s]"
     ]
    },
    {
     "name": "stdout",
     "output_type": "stream",
     "text": [
      "\r",
      "Upgrading database; v8 -> v9: 100%|██████████| 1/1 [00:00<00:00, 1481.04it/s]"
     ]
    },
    {
     "name": "stdout",
     "output_type": "stream",
     "text": [
      "\n"
     ]
    }
   ],
   "source": [
    "initialise_database()\n",
    "exp = load_or_create_experiment(experiment_name='tutorial_exp', sample_name=\"no sample\")"
   ]
  },
  {
   "cell_type": "markdown",
   "metadata": {},
   "source": [
    "Here, we define a simple function to benchmark the time it takes to insert n points with either numeric or array data type.\n",
    "We will compare both the time used to call ``add_result`` and the time used for the full measurement."
   ]
  },
  {
   "cell_type": "code",
   "execution_count": 4,
   "metadata": {
    "execution": {
     "iopub.execute_input": "2021-01-22T09:54:17.360204Z",
     "iopub.status.busy": "2021-01-22T09:54:17.359241Z",
     "iopub.status.idle": "2021-01-22T09:54:17.360796Z",
     "shell.execute_reply": "2021-01-22T09:54:17.361245Z"
    }
   },
   "outputs": [],
   "source": [
    "def insert_data(paramtype, npoints, nreps=1):\n",
    "\n",
    "    meas = Measurement(exp=exp)\n",
    "\n",
    "    x1 = ManualParameter('x1')\n",
    "    x2 = ManualParameter('x2')\n",
    "    x3 = ManualParameter('x3')\n",
    "    y1 = ManualParameter('y1')\n",
    "    y2 = ManualParameter('y2')\n",
    "\n",
    "    meas.register_parameter(x1, paramtype=paramtype)\n",
    "    meas.register_parameter(x2, paramtype=paramtype)\n",
    "    meas.register_parameter(x3, paramtype=paramtype)\n",
    "    meas.register_parameter(y1, setpoints=[x1, x2, x3],\n",
    "                            paramtype=paramtype)\n",
    "    meas.register_parameter(y2, setpoints=[x1, x2, x3],\n",
    "                            paramtype=paramtype)\n",
    "    start = time.perf_counter()\n",
    "    with meas.run() as datasaver:\n",
    "        start_adding = time.perf_counter()\n",
    "        for i in range(nreps):\n",
    "            datasaver.add_result((x1, np.random.rand(npoints)),\n",
    "                                 (x2, np.random.rand(npoints)),\n",
    "                                 (x3, np.random.rand(npoints)),\n",
    "                                 (y1, np.random.rand(npoints)),\n",
    "                                 (y2, np.random.rand(npoints)))\n",
    "        stop_adding = time.perf_counter()\n",
    "        run_id = datasaver.run_id\n",
    "    stop = time.perf_counter()\n",
    "    tot_time = stop - start\n",
    "    add_time = stop_adding - start_adding\n",
    "    return tot_time, add_time, run_id"
   ]
  },
  {
   "cell_type": "markdown",
   "metadata": {},
   "source": [
    "## Comparison between numeric/array data and binary blob"
   ]
  },
  {
   "cell_type": "markdown",
   "metadata": {},
   "source": [
    "### Case1: Short experiment time"
   ]
  },
  {
   "cell_type": "code",
   "execution_count": 5,
   "metadata": {
    "execution": {
     "iopub.execute_input": "2021-01-22T09:54:17.366522Z",
     "iopub.status.busy": "2021-01-22T09:54:17.364570Z",
     "iopub.status.idle": "2021-01-22T09:54:18.077678Z",
     "shell.execute_reply": "2021-01-22T09:54:18.078185Z"
    }
   },
   "outputs": [
    {
     "name": "stdout",
     "output_type": "stream",
     "text": [
      "Starting experimental run with id: 1. \n",
      "Starting experimental run with id: 2. \n",
      "Starting experimental run with id: 3. \n",
      "Starting experimental run with id: 4. \n",
      "Starting experimental run with id: 5. \n",
      "Starting experimental run with id: 6. \n"
     ]
    },
    {
     "name": "stdout",
     "output_type": "stream",
     "text": [
      "Starting experimental run with id: 7. \n"
     ]
    },
    {
     "name": "stdout",
     "output_type": "stream",
     "text": [
      "Starting experimental run with id: 8. \n"
     ]
    },
    {
     "name": "stdout",
     "output_type": "stream",
     "text": [
      "Starting experimental run with id: 9. \n",
      "Starting experimental run with id: 10. \n"
     ]
    },
    {
     "name": "stdout",
     "output_type": "stream",
     "text": [
      "Starting experimental run with id: 11. \n"
     ]
    },
    {
     "name": "stdout",
     "output_type": "stream",
     "text": [
      "Starting experimental run with id: 12. \n",
      "Starting experimental run with id: 13. \n"
     ]
    },
    {
     "name": "stdout",
     "output_type": "stream",
     "text": [
      "Starting experimental run with id: 14. \n"
     ]
    }
   ],
   "source": [
    "sizes = [1,500,1000,2000,3000,4000,5000]\n",
    "t_numeric = []\n",
    "t_numeric_add = []\n",
    "t_array = []\n",
    "t_array_add = []\n",
    "for size in sizes:\n",
    "    tn, tna, run_id_n =  insert_data('numeric', size)\n",
    "    t_numeric.append(tn)\n",
    "    t_numeric_add.append(tna)\n",
    "\n",
    "    ta, taa, run_id_a =  insert_data('array', size)\n",
    "    t_array.append(ta)\n",
    "    t_array_add.append(taa)"
   ]
  },
  {
   "cell_type": "code",
   "execution_count": 6,
   "metadata": {
    "execution": {
     "iopub.execute_input": "2021-01-22T09:54:18.093033Z",
     "iopub.status.busy": "2021-01-22T09:54:18.088277Z",
     "iopub.status.idle": "2021-01-22T09:54:18.265121Z",
     "shell.execute_reply": "2021-01-22T09:54:18.264591Z"
    }
   },
   "outputs": [
    {
     "data": {
      "image/png": "[encoded data removed]",
      "text/plain": [
       "<Figure size 432x288 with 1 Axes>"
      ]
     },
     "metadata": {
      "needs_background": "light"
     },
     "output_type": "display_data"
    }
   ],
   "source": [
    "fig, ax = plt.subplots(1,1)\n",
    "ax.plot(sizes, t_numeric, 'o-', label='Inserting row-by-row')\n",
    "ax.plot(sizes, t_numeric_add, 'o-', label='Inserting row-by-row: add_result only')\n",
    "ax.plot(sizes, t_array, 'd-', label='Inserting as binary blob')\n",
    "ax.plot(sizes, t_array_add, 'd-', label='Inserting as binary blob: add_result only')\n",
    "ax.legend()\n",
    "ax.set_xlabel('Array length')\n",
    "ax.set_ylabel('Time (s)')\n",
    "fig.tight_layout()"
   ]
  },
  {
   "cell_type": "markdown",
   "metadata": {},
   "source": [
    "As shown in the latter figure, the time to setup and and close the experiment is approximately 0.4 sec. In case of small array sizes, the difference between inserting values of data as arrays and inserting them row-by-row is relatively unimportant. At larger array sizes, i.e. above 10000 points, the cost of writing data as individual datapoints starts to become important.\n"
   ]
  },
  {
   "cell_type": "markdown",
   "metadata": {},
   "source": [
    "### Case2: Long experiment time "
   ]
  },
  {
   "cell_type": "code",
   "execution_count": 7,
   "metadata": {
    "execution": {
     "iopub.execute_input": "2021-01-22T09:54:18.271272Z",
     "iopub.status.busy": "2021-01-22T09:54:18.270465Z",
     "iopub.status.idle": "2021-01-22T09:55:13.412315Z",
     "shell.execute_reply": "2021-01-22T09:55:13.412735Z"
    }
   },
   "outputs": [
    {
     "name": "stdout",
     "output_type": "stream",
     "text": [
      "Starting experimental run with id: 15. \n",
      "Starting experimental run with id: 16. \n",
      "Starting experimental run with id: 17. \n"
     ]
    },
    {
     "name": "stdout",
     "output_type": "stream",
     "text": [
      "Starting experimental run with id: 18. \n",
      "Starting experimental run with id: 19. \n"
     ]
    },
    {
     "name": "stdout",
     "output_type": "stream",
     "text": [
      "Starting experimental run with id: 20. \n"
     ]
    },
    {
     "name": "stdout",
     "output_type": "stream",
     "text": [
      "Starting experimental run with id: 21. \n"
     ]
    },
    {
     "name": "stdout",
     "output_type": "stream",
     "text": [
      "Starting experimental run with id: 22. \n"
     ]
    },
    {
     "name": "stdout",
     "output_type": "stream",
     "text": [
      "Starting experimental run with id: 23. \n"
     ]
    },
    {
     "name": "stdout",
     "output_type": "stream",
     "text": [
      "Starting experimental run with id: 24. \n"
     ]
    },
    {
     "name": "stdout",
     "output_type": "stream",
     "text": [
      "Starting experimental run with id: 25. \n"
     ]
    },
    {
     "name": "stdout",
     "output_type": "stream",
     "text": [
      "Starting experimental run with id: 26. \n"
     ]
    },
    {
     "name": "stdout",
     "output_type": "stream",
     "text": [
      "Starting experimental run with id: 27. \n"
     ]
    },
    {
     "name": "stdout",
     "output_type": "stream",
     "text": [
      "Starting experimental run with id: 28. \n"
     ]
    }
   ],
   "source": [
    "sizes = [1,500,1000,2000,3000,4000,5000]\n",
    "nreps = 100\n",
    "t_numeric = []\n",
    "t_numeric_add = []\n",
    "t_numeric_run_ids = []\n",
    "t_array = []\n",
    "t_array_add = []\n",
    "t_array_run_ids = []\n",
    "for size in sizes:\n",
    "    tn, tna, run_id_n =  insert_data('numeric', size, nreps=nreps)\n",
    "    t_numeric.append(tn)\n",
    "    t_numeric_add.append(tna)\n",
    "    t_numeric_run_ids.append(run_id_n)\n",
    "\n",
    "    ta, taa, run_id_a =  insert_data('array', size, nreps=nreps)\n",
    "    t_array.append(ta)\n",
    "    t_array_add.append(taa)\n",
    "    t_array_run_ids.append(run_id_a)"
   ]
  },
  {
   "cell_type": "code",
   "execution_count": 8,
   "metadata": {
    "execution": {
     "iopub.execute_input": "2021-01-22T09:55:13.438076Z",
     "iopub.status.busy": "2021-01-22T09:55:13.417676Z",
     "iopub.status.idle": "2021-01-22T09:55:13.590199Z",
     "shell.execute_reply": "2021-01-22T09:55:13.589795Z"
    },
    "scrolled": true
   },
   "outputs": [
    {
     "data": {
      "image/png": "[encoded data removed]",
      "text/plain": [
       "<Figure size 432x288 with 1 Axes>"
      ]
     },
     "metadata": {
      "needs_background": "light"
     },
     "output_type": "display_data"
    }
   ],
   "source": [
    "fig, ax = plt.subplots(1,1)\n",
    "ax.plot(sizes, t_numeric, 'o-', label='Inserting row-by-row')\n",
    "ax.plot(sizes, t_numeric_add, 'o-', label='Inserting row-by-row: add_result only')\n",
    "ax.plot(sizes, t_array, 'd-', label='Inserting as binary blob')\n",
    "ax.plot(sizes, t_array_add, 'd-', label='Inserting as binary blob: add_result only')\n",
    "ax.legend()\n",
    "ax.set_xlabel('Array length')\n",
    "ax.set_ylabel('Time (s)')\n",
    "fig.tight_layout()"
   ]
  },
  {
   "cell_type": "markdown",
   "metadata": {},
   "source": [
    "However, as we increase the length of the experiment, as seen here by repeating the insertion 100 times, we see a big difference between inserting values of the data row-by-row and inserting it as a binary blob."
   ]
  },
  {
   "cell_type": "markdown",
   "metadata": {},
   "source": [
    "## Loading the data "
   ]
  },
  {
   "cell_type": "code",
   "execution_count": 9,
   "metadata": {
    "execution": {
     "iopub.execute_input": "2021-01-22T09:55:13.593712Z",
     "iopub.status.busy": "2021-01-22T09:55:13.592921Z",
     "iopub.status.idle": "2021-01-22T09:55:13.595742Z",
     "shell.execute_reply": "2021-01-22T09:55:13.595357Z"
    }
   },
   "outputs": [],
   "source": [
    "from qcodes.dataset.data_set import load_by_id\n",
    "from qcodes.dataset.data_export import get_data_by_id"
   ]
  },
  {
   "cell_type": "markdown",
   "metadata": {},
   "source": [
    "As usual you can load the data by using the ``load_by_id`` function but you will notice that the different storage methods\n",
    "are reflected in shape of the data as it is retrieved. "
   ]
  },
  {
   "cell_type": "code",
   "execution_count": 10,
   "metadata": {
    "execution": {
     "iopub.execute_input": "2021-01-22T09:55:13.599269Z",
     "iopub.status.busy": "2021-01-22T09:55:13.598497Z",
     "iopub.status.idle": "2021-01-22T09:55:13.600030Z",
     "shell.execute_reply": "2021-01-22T09:55:13.600482Z"
    }
   },
   "outputs": [],
   "source": [
    "run_id_n = t_numeric_run_ids[0]\n",
    "run_id_a = t_array_run_ids[0]"
   ]
  },
  {
   "cell_type": "code",
   "execution_count": 11,
   "metadata": {
    "execution": {
     "iopub.execute_input": "2021-01-22T09:55:13.603161Z",
     "iopub.status.busy": "2021-01-22T09:55:13.602728Z",
     "iopub.status.idle": "2021-01-22T09:55:13.611046Z",
     "shell.execute_reply": "2021-01-22T09:55:13.610670Z"
    },
    "scrolled": true
   },
   "outputs": [
    {
     "data": {
      "text/plain": [
       "{'x1': {'x1': array([2.31700560e-01, 2.31700560e-01, 2.03315713e-01, 2.03315713e-01,\n",
       "         2.54080887e-01, 2.54080887e-01, 5.87031785e-01, 5.87031785e-01,\n",
       "         7.83324192e-02, 7.83324192e-02, 7.15278433e-01, 7.15278433e-01,\n",
       "         1.75098264e-01, 1.75098264e-01, 3.98550030e-01, 3.98550030e-01,\n",
       "         1.40000344e-01, 1.40000344e-01, 3.81995034e-01, 3.81995034e-01,\n",
       "         1.23619555e-02, 1.23619555e-02, 7.61682477e-01, 7.61682477e-01,\n",
       "         7.60496974e-01, 7.60496974e-01, 8.77112049e-01, 8.77112049e-01,\n",
       "         1.01754022e-01, 1.01754022e-01, 3.00195806e-02, 3.00195806e-02,\n",
       "         5.56547459e-01, 5.56547459e-01, 8.73677238e-01, 8.73677238e-01,\n",
       "         9.41174448e-01, 9.41174448e-01, 7.69361057e-01, 7.69361057e-01,\n",
       "         9.35856477e-01, 9.35856477e-01, 6.52840178e-01, 6.52840178e-01,\n",
       "         1.29127988e-01, 1.29127988e-01, 6.56597708e-04, 6.56597708e-04,\n",
       "         9.16409992e-01, 9.16409992e-01, 4.60929056e-01, 4.60929056e-01,\n",
       "         3.33816880e-01, 3.33816880e-01, 1.33163760e-01, 1.33163760e-01,\n",
       "         1.30702624e-01, 1.30702624e-01, 7.09383750e-01, 7.09383750e-01,\n",
       "         9.09907172e-01, 9.09907172e-01, 2.44317000e-01, 2.44317000e-01,\n",
       "         5.07044390e-01, 5.07044390e-01, 9.89051003e-01, 9.89051003e-01,\n",
       "         9.96460700e-01, 9.96460700e-01, 5.09530815e-01, 5.09530815e-01,\n",
       "         7.68932265e-01, 7.68932265e-01, 8.22885808e-01, 8.22885808e-01,\n",
       "         4.64084846e-01, 4.64084846e-01, 6.37956868e-02, 6.37956868e-02,\n",
       "         7.20215881e-01, 7.20215881e-01, 1.39920296e-01, 1.39920296e-01,\n",
       "         6.17517390e-01, 6.17517390e-01, 9.09282609e-02, 9.09282609e-02,\n",
       "         9.79285738e-01, 9.79285738e-01, 5.65640367e-01, 5.65640367e-01,\n",
       "         8.51912407e-01, 8.51912407e-01, 5.92502142e-01, 5.92502142e-01,\n",
       "         6.65564354e-01, 6.65564354e-01, 2.96195145e-01, 2.96195145e-01,\n",
       "         7.09398877e-01, 7.09398877e-01, 8.40318385e-01, 8.40318385e-01,\n",
       "         1.78765023e-01, 1.78765023e-01, 6.79706789e-01, 6.79706789e-01,\n",
       "         8.50218200e-01, 8.50218200e-01, 6.07784249e-01, 6.07784249e-01,\n",
       "         8.37696476e-01, 8.37696476e-01, 7.69806942e-01, 7.69806942e-01,\n",
       "         9.23951747e-01, 9.23951747e-01, 4.00355824e-01, 4.00355824e-01,\n",
       "         5.53065108e-01, 5.53065108e-01, 2.22872449e-01, 2.22872449e-01,\n",
       "         5.89630504e-01, 5.89630504e-01, 4.21633904e-02, 4.21633904e-02,\n",
       "         6.13635585e-02, 6.13635585e-02, 3.64878537e-01, 3.64878537e-01,\n",
       "         7.86023947e-01, 7.86023947e-01, 5.36369589e-01, 5.36369589e-01,\n",
       "         6.09706532e-01, 6.09706532e-01, 3.53041906e-01, 3.53041906e-01,\n",
       "         1.40710998e-01, 1.40710998e-01, 6.69843512e-01, 6.69843512e-01,\n",
       "         4.56395993e-01, 4.56395993e-01, 6.52564663e-02, 6.52564663e-02,\n",
       "         2.30422932e-01, 2.30422932e-01, 2.61118260e-01, 2.61118260e-01,\n",
       "         5.36691337e-01, 5.36691337e-01, 5.92904635e-01, 5.92904635e-01,\n",
       "         5.38608879e-01, 5.38608879e-01, 9.13947641e-01, 9.13947641e-01,\n",
       "         2.82934963e-01, 2.82934963e-01, 3.47331310e-01, 3.47331310e-01,\n",
       "         6.90294208e-01, 6.90294208e-01, 1.95912635e-01, 1.95912635e-01,\n",
       "         7.35951592e-01, 7.35951592e-01, 4.51170474e-01, 4.51170474e-01,\n",
       "         3.67764652e-01, 3.67764652e-01, 9.50255448e-01, 9.50255448e-01,\n",
       "         3.10781820e-01, 3.10781820e-01, 5.83323872e-01, 5.83323872e-01,\n",
       "         4.55379488e-01, 4.55379488e-01, 3.78218350e-01, 3.78218350e-01,\n",
       "         8.74892581e-01, 8.74892581e-01, 1.90321354e-01, 1.90321354e-01,\n",
       "         3.99877706e-02, 3.99877706e-02, 1.70296955e-01, 1.70296955e-01,\n",
       "         9.38166304e-01, 9.38166304e-01, 6.46650087e-01, 6.46650087e-01,\n",
       "         2.47213493e-01, 2.47213493e-01, 8.11092679e-01, 8.11092679e-01])}}"
      ]
     },
     "execution_count": 1,
     "metadata": {},
     "output_type": "execute_result"
    }
   ],
   "source": [
    "ds = load_by_id(run_id_n)\n",
    "ds.get_parameter_data('x1')"
   ]
  },
  {
   "cell_type": "markdown",
   "metadata": {},
   "source": [
    "And a dataset stored as binary arrays"
   ]
  },
  {
   "cell_type": "code",
   "execution_count": 12,
   "metadata": {
    "execution": {
     "iopub.execute_input": "2021-01-22T09:55:13.613775Z",
     "iopub.status.busy": "2021-01-22T09:55:13.613341Z",
     "iopub.status.idle": "2021-01-22T09:55:13.658912Z",
     "shell.execute_reply": "2021-01-22T09:55:13.659430Z"
    },
    "scrolled": true
   },
   "outputs": [
    {
     "data": {
      "text/plain": [
       "{'x1': {'x1': array([[0.45548634],\n",
       "         [0.45548634],\n",
       "         [0.2144575 ],\n",
       "         [0.2144575 ],\n",
       "         [0.32631155],\n",
       "         [0.32631155],\n",
       "         [0.24839807],\n",
       "         [0.24839807],\n",
       "         [0.40518832],\n",
       "         [0.40518832],\n",
       "         [0.6075997 ],\n",
       "         [0.6075997 ],\n",
       "         [0.54075506],\n",
       "         [0.54075506],\n",
       "         [0.85328206],\n",
       "         [0.85328206],\n",
       "         [0.65554366],\n",
       "         [0.65554366],\n",
       "         [0.65917898],\n",
       "         [0.65917898],\n",
       "         [0.66323182],\n",
       "         [0.66323182],\n",
       "         [0.27038732],\n",
       "         [0.27038732],\n",
       "         [0.54581733],\n",
       "         [0.54581733],\n",
       "         [0.28021968],\n",
       "         [0.28021968],\n",
       "         [0.51433347],\n",
       "         [0.51433347],\n",
       "         [0.91649328],\n",
       "         [0.91649328],\n",
       "         [0.54696547],\n",
       "         [0.54696547],\n",
       "         [0.43646384],\n",
       "         [0.43646384],\n",
       "         [0.46632872],\n",
       "         [0.46632872],\n",
       "         [0.82217231],\n",
       "         [0.82217231],\n",
       "         [0.3267514 ],\n",
       "         [0.3267514 ],\n",
       "         [0.94489966],\n",
       "         [0.94489966],\n",
       "         [0.94563199],\n",
       "         [0.94563199],\n",
       "         [0.25441635],\n",
       "         [0.25441635],\n",
       "         [0.05145536],\n",
       "         [0.05145536],\n",
       "         [0.88279892],\n",
       "         [0.88279892],\n",
       "         [0.89302872],\n",
       "         [0.89302872],\n",
       "         [0.92499653],\n",
       "         [0.92499653],\n",
       "         [0.53004719],\n",
       "         [0.53004719],\n",
       "         [0.44201835],\n",
       "         [0.44201835],\n",
       "         [0.81521579],\n",
       "         [0.81521579],\n",
       "         [0.26242532],\n",
       "         [0.26242532],\n",
       "         [0.72348162],\n",
       "         [0.72348162],\n",
       "         [0.39007158],\n",
       "         [0.39007158],\n",
       "         [0.54321934],\n",
       "         [0.54321934],\n",
       "         [0.21916494],\n",
       "         [0.21916494],\n",
       "         [0.69425297],\n",
       "         [0.69425297],\n",
       "         [0.46081268],\n",
       "         [0.46081268],\n",
       "         [0.55479373],\n",
       "         [0.55479373],\n",
       "         [0.9568904 ],\n",
       "         [0.9568904 ],\n",
       "         [0.66934795],\n",
       "         [0.66934795],\n",
       "         [0.81158409],\n",
       "         [0.81158409],\n",
       "         [0.16284127],\n",
       "         [0.16284127],\n",
       "         [0.04092171],\n",
       "         [0.04092171],\n",
       "         [0.66956279],\n",
       "         [0.66956279],\n",
       "         [0.09595985],\n",
       "         [0.09595985],\n",
       "         [0.43258183],\n",
       "         [0.43258183],\n",
       "         [0.3548779 ],\n",
       "         [0.3548779 ],\n",
       "         [0.75500428],\n",
       "         [0.75500428],\n",
       "         [0.22873142],\n",
       "         [0.22873142],\n",
       "         [0.84922902],\n",
       "         [0.84922902],\n",
       "         [0.05227365],\n",
       "         [0.05227365],\n",
       "         [0.88718518],\n",
       "         [0.88718518],\n",
       "         [0.1095801 ],\n",
       "         [0.1095801 ],\n",
       "         [0.2429149 ],\n",
       "         [0.2429149 ],\n",
       "         [0.59402152],\n",
       "         [0.59402152],\n",
       "         [0.14549098],\n",
       "         [0.14549098],\n",
       "         [0.84123325],\n",
       "         [0.84123325],\n",
       "         [0.73854418],\n",
       "         [0.73854418],\n",
       "         [0.2447218 ],\n",
       "         [0.2447218 ],\n",
       "         [0.75540629],\n",
       "         [0.75540629],\n",
       "         [0.01665722],\n",
       "         [0.01665722],\n",
       "         [0.97517485],\n",
       "         [0.97517485],\n",
       "         [0.77802502],\n",
       "         [0.77802502],\n",
       "         [0.09237747],\n",
       "         [0.09237747],\n",
       "         [0.71207781],\n",
       "         [0.71207781],\n",
       "         [0.07724512],\n",
       "         [0.07724512],\n",
       "         [0.73285903],\n",
       "         [0.73285903],\n",
       "         [0.77044224],\n",
       "         [0.77044224],\n",
       "         [0.80396875],\n",
       "         [0.80396875],\n",
       "         [0.68541337],\n",
       "         [0.68541337],\n",
       "         [0.97619407],\n",
       "         [0.97619407],\n",
       "         [0.74298366],\n",
       "         [0.74298366],\n",
       "         [0.2345322 ],\n",
       "         [0.2345322 ],\n",
       "         [0.62923348],\n",
       "         [0.62923348],\n",
       "         [0.38527791],\n",
       "         [0.38527791],\n",
       "         [0.20646072],\n",
       "         [0.20646072],\n",
       "         [0.2493016 ],\n",
       "         [0.2493016 ],\n",
       "         [0.72940527],\n",
       "         [0.72940527],\n",
       "         [0.03618176],\n",
       "         [0.03618176],\n",
       "         [0.18093781],\n",
       "         [0.18093781],\n",
       "         [0.59909756],\n",
       "         [0.59909756],\n",
       "         [0.33122669],\n",
       "         [0.33122669],\n",
       "         [0.32783693],\n",
       "         [0.32783693],\n",
       "         [0.60512922],\n",
       "         [0.60512922],\n",
       "         [0.03282575],\n",
       "         [0.03282575],\n",
       "         [0.55664677],\n",
       "         [0.55664677],\n",
       "         [0.62942251],\n",
       "         [0.62942251],\n",
       "         [0.90907298],\n",
       "         [0.90907298],\n",
       "         [0.62504558],\n",
       "         [0.62504558],\n",
       "         [0.73481324],\n",
       "         [0.73481324],\n",
       "         [0.61549781],\n",
       "         [0.61549781],\n",
       "         [0.04976812],\n",
       "         [0.04976812],\n",
       "         [0.43643536],\n",
       "         [0.43643536],\n",
       "         [0.45169942],\n",
       "         [0.45169942],\n",
       "         [0.16923964],\n",
       "         [0.16923964],\n",
       "         [0.66869019],\n",
       "         [0.66869019],\n",
       "         [0.40275126],\n",
       "         [0.40275126],\n",
       "         [0.09307763],\n",
       "         [0.09307763],\n",
       "         [0.29624774],\n",
       "         [0.29624774]])}}"
      ]
     },
     "execution_count": 1,
     "metadata": {},
     "output_type": "execute_result"
    }
   ],
   "source": [
    "ds = load_by_id(run_id_a)\n",
    "ds.get_parameter_data('x1')"
   ]
  },
  {
   "cell_type": "code",
   "execution_count": null,
   "metadata": {},
   "outputs": [],
   "source": []
  }
 ],
 "metadata": {
  "kernelspec": {
   "display_name": "Python 3",
   "language": "python",
   "name": "python3"
  },
  "language_info": {
   "codemirror_mode": {
    "name": "ipython",
    "version": 3
   },
   "file_extension": ".py",
   "mimetype": "text/x-python",
   "name": "python",
   "nbconvert_exporter": "python",
   "pygments_lexer": "ipython3",
   "version": "3.7.9"
  },
  "nbsphinx": {
   "timeout": 600
  },
  "toc": {
   "base_numbering": 1,
   "nav_menu": {},
   "number_sections": true,
   "sideBar": true,
   "skip_h1_title": false,
   "title_cell": "Table of Contents",
   "title_sidebar": "Contents",
   "toc_cell": false,
   "toc_position": {},
   "toc_section_display": true,
   "toc_window_display": false
  },
  "varInspector": {
   "cols": {
    "lenName": 16,
    "lenType": 16,
    "lenVar": 40
   },
   "kernels_config": {
    "python": {
     "delete_cmd_postfix": "",
     "delete_cmd_prefix": "del ",
     "library": "var_list.py",
     "varRefreshCmd": "print(var_dic_list())"
    },
    "r": {
     "delete_cmd_postfix": ") ",
     "delete_cmd_prefix": "rm(",
     "library": "var_list.r",
     "varRefreshCmd": "cat(var_dic_list()) "
    }
   },
   "types_to_exclude": [
    "module",
    "function",
    "builtin_function_or_method",
    "instance",
    "_Feature"
   ],
   "window_display": false
  }
 },
 "nbformat": 4,
 "nbformat_minor": 2
}
