{
 "cells": [
  {
   "cell_type": "markdown",
   "metadata": {},
   "source": [
    "# DataSet Performance\n",
    "\n",
    "This notebook shows the trade-off between inserting data into a database row-by-row and as binary blobs. Inserting the data row-by-row means that we have direct access to all the data and may perform queries directly on the values of the data. On the other hand, as we shall see, this is much slower than inserting the data directly as binary blobs."
   ]
  },
  {
   "cell_type": "markdown",
   "metadata": {},
   "source": [
    "First, we choose a new location for the database to ensure that we don't add a bunch of benchmarking data to the default one."
   ]
  },
  {
   "cell_type": "code",
   "execution_count": 1,
   "metadata": {
    "execution": {
     "iopub.execute_input": "2021-03-15T07:58:01.355493Z",
     "iopub.status.busy": "2021-03-15T07:58:01.354997Z",
     "iopub.status.idle": "2021-03-15T07:58:02.228577Z",
     "shell.execute_reply": "2021-03-15T07:58:02.227984Z"
    }
   },
   "outputs": [
    {
     "name": "stdout",
     "output_type": "stream",
     "text": [
      "Logging hadn't been started.\n",
      "Activating auto-logging. Current session state plus future input saved.\n",
      "Filename       : /home/runner/.qcodes/logs/command_history.log\n",
      "Mode           : append\n",
      "Output logging : True\n",
      "Raw input log  : False\n",
      "Timestamping   : True\n",
      "State          : active\n"
     ]
    },
    {
     "name": "stdout",
     "output_type": "stream",
     "text": [
      "Qcodes Logfile : /home/runner/.qcodes/logs/210315-4099-qcodes.log\n"
     ]
    }
   ],
   "source": [
    "import os\n",
    "cwd = os.getcwd()\n",
    "import qcodes as qc\n",
    "qc.config[\"core\"][\"db_location\"] = os.path.join(cwd, 'testing.db')\n"
   ]
  },
  {
   "cell_type": "code",
   "execution_count": 2,
   "metadata": {
    "execution": {
     "iopub.execute_input": "2021-03-15T07:58:02.234807Z",
     "iopub.status.busy": "2021-03-15T07:58:02.234156Z",
     "iopub.status.idle": "2021-03-15T07:58:02.422086Z",
     "shell.execute_reply": "2021-03-15T07:58:02.421434Z"
    }
   },
   "outputs": [],
   "source": [
    "%matplotlib inline\n",
    "import time\n",
    "import matplotlib.pyplot as plt\n",
    "import numpy as np\n",
    "\n",
    "import qcodes as qc\n",
    "from qcodes.instrument.parameter import ManualParameter\n",
    "from qcodes.dataset.experiment_container import (Experiment,\n",
    "                                                 load_last_experiment,\n",
    "                                                 new_experiment)\n",
    "from qcodes.dataset.sqlite.database import initialise_database\n",
    "from qcodes import load_or_create_experiment\n",
    "from qcodes.dataset.measurements import Measurement"
   ]
  },
  {
   "cell_type": "code",
   "execution_count": 3,
   "metadata": {
    "execution": {
     "iopub.execute_input": "2021-03-15T07:58:02.426486Z",
     "iopub.status.busy": "2021-03-15T07:58:02.425616Z",
     "iopub.status.idle": "2021-03-15T07:58:02.535693Z",
     "shell.execute_reply": "2021-03-15T07:58:02.535152Z"
    }
   },
   "outputs": [
    {
     "name": "stdout",
     "output_type": "stream",
     "text": [
      "\r",
      "0it [00:00, ?it/s]"
     ]
    },
    {
     "name": "stdout",
     "output_type": "stream",
     "text": [
      "\r",
      "Upgrading database; v0 -> v1: : 0it [00:00, ?it/s]"
     ]
    },
    {
     "name": "stdout",
     "output_type": "stream",
     "text": [
      "\r",
      "Upgrading database; v0 -> v1: : 0it [00:00, ?it/s]"
     ]
    },
    {
     "name": "stdout",
     "output_type": "stream",
     "text": [
      "\n",
      "\r",
      "  0%|          | 0/1 [00:00<?, ?it/s]"
     ]
    },
    {
     "name": "stdout",
     "output_type": "stream",
     "text": [
      "\r",
      "Upgrading database; v1 -> v2:   0%|          | 0/1 [00:00<?, ?it/s]"
     ]
    },
    {
     "name": "stdout",
     "output_type": "stream",
     "text": [
      "\r",
      "Upgrading database; v1 -> v2: 100%|██████████| 1/1 [00:00<00:00, 514.32it/s]"
     ]
    },
    {
     "name": "stdout",
     "output_type": "stream",
     "text": [
      "\n",
      "\r",
      "0it [00:00, ?it/s]"
     ]
    },
    {
     "name": "stdout",
     "output_type": "stream",
     "text": [
      "\r",
      "Upgrading database; v2 -> v3: : 0it [00:00, ?it/s]"
     ]
    },
    {
     "name": "stdout",
     "output_type": "stream",
     "text": [
      "\r",
      "Upgrading database; v2 -> v3: : 0it [00:00, ?it/s]"
     ]
    },
    {
     "name": "stdout",
     "output_type": "stream",
     "text": [
      "\n",
      "\r",
      "0it [00:00, ?it/s]"
     ]
    },
    {
     "name": "stdout",
     "output_type": "stream",
     "text": [
      "\r",
      "Upgrading database; v3 -> v4: : 0it [00:00, ?it/s]"
     ]
    },
    {
     "name": "stdout",
     "output_type": "stream",
     "text": [
      "\r",
      "Upgrading database; v3 -> v4: : 0it [00:00, ?it/s]"
     ]
    },
    {
     "name": "stdout",
     "output_type": "stream",
     "text": [
      "\n",
      "\r",
      "  0%|          | 0/1 [00:00<?, ?it/s]"
     ]
    },
    {
     "name": "stdout",
     "output_type": "stream",
     "text": [
      "\r",
      "Upgrading database; v4 -> v5:   0%|          | 0/1 [00:00<?, ?it/s]"
     ]
    },
    {
     "name": "stdout",
     "output_type": "stream",
     "text": [
      "\r",
      "Upgrading database; v4 -> v5: 100%|██████████| 1/1 [00:00<00:00, 418.26it/s]"
     ]
    },
    {
     "name": "stdout",
     "output_type": "stream",
     "text": [
      "\n",
      "\r",
      "0it [00:00, ?it/s]"
     ]
    },
    {
     "name": "stdout",
     "output_type": "stream",
     "text": [
      "\r",
      "Upgrading database; v5 -> v6: : 0it [00:00, ?it/s]"
     ]
    },
    {
     "name": "stdout",
     "output_type": "stream",
     "text": [
      "\r",
      "Upgrading database; v5 -> v6: : 0it [00:00, ?it/s]"
     ]
    },
    {
     "name": "stdout",
     "output_type": "stream",
     "text": [
      "\n",
      "\r",
      "  0%|          | 0/1 [00:00<?, ?it/s]"
     ]
    },
    {
     "name": "stdout",
     "output_type": "stream",
     "text": [
      "\r",
      "Upgrading database; v6 -> v7:   0%|          | 0/1 [00:00<?, ?it/s]"
     ]
    },
    {
     "name": "stdout",
     "output_type": "stream",
     "text": [
      "\r",
      "Upgrading database; v6 -> v7: 100%|██████████| 1/1 [00:00<00:00, 251.71it/s]"
     ]
    },
    {
     "name": "stdout",
     "output_type": "stream",
     "text": [
      "\n",
      "\r",
      "  0%|          | 0/1 [00:00<?, ?it/s]"
     ]
    },
    {
     "name": "stdout",
     "output_type": "stream",
     "text": [
      "\r",
      "Upgrading database; v7 -> v8:   0%|          | 0/1 [00:00<?, ?it/s]"
     ]
    },
    {
     "name": "stdout",
     "output_type": "stream",
     "text": [
      "\r",
      "Upgrading database; v7 -> v8: 100%|██████████| 1/1 [00:00<00:00, 361.24it/s]"
     ]
    },
    {
     "name": "stdout",
     "output_type": "stream",
     "text": [
      "\n",
      "\r",
      "  0%|          | 0/1 [00:00<?, ?it/s]"
     ]
    },
    {
     "name": "stdout",
     "output_type": "stream",
     "text": [
      "\r",
      "Upgrading database; v8 -> v9:   0%|          | 0/1 [00:00<?, ?it/s]"
     ]
    },
    {
     "name": "stdout",
     "output_type": "stream",
     "text": [
      "\r",
      "Upgrading database; v8 -> v9: 100%|██████████| 1/1 [00:00<00:00, 437.00it/s]"
     ]
    },
    {
     "name": "stdout",
     "output_type": "stream",
     "text": [
      "\n"
     ]
    }
   ],
   "source": [
    "initialise_database()\n",
    "exp = load_or_create_experiment(experiment_name='tutorial_exp', sample_name=\"no sample\")"
   ]
  },
  {
   "cell_type": "markdown",
   "metadata": {},
   "source": [
    "Here, we define a simple function to benchmark the time it takes to insert n points with either numeric or array data type.\n",
    "We will compare both the time used to call ``add_result`` and the time used for the full measurement."
   ]
  },
  {
   "cell_type": "code",
   "execution_count": 4,
   "metadata": {
    "execution": {
     "iopub.execute_input": "2021-03-15T07:58:02.545476Z",
     "iopub.status.busy": "2021-03-15T07:58:02.544531Z",
     "iopub.status.idle": "2021-03-15T07:58:02.551700Z",
     "shell.execute_reply": "2021-03-15T07:58:02.550626Z"
    }
   },
   "outputs": [],
   "source": [
    "def insert_data(paramtype, npoints, nreps=1):\n",
    "\n",
    "    meas = Measurement(exp=exp)\n",
    "\n",
    "    x1 = ManualParameter('x1')\n",
    "    x2 = ManualParameter('x2')\n",
    "    x3 = ManualParameter('x3')\n",
    "    y1 = ManualParameter('y1')\n",
    "    y2 = ManualParameter('y2')\n",
    "\n",
    "    meas.register_parameter(x1, paramtype=paramtype)\n",
    "    meas.register_parameter(x2, paramtype=paramtype)\n",
    "    meas.register_parameter(x3, paramtype=paramtype)\n",
    "    meas.register_parameter(y1, setpoints=[x1, x2, x3],\n",
    "                            paramtype=paramtype)\n",
    "    meas.register_parameter(y2, setpoints=[x1, x2, x3],\n",
    "                            paramtype=paramtype)\n",
    "    start = time.perf_counter()\n",
    "    with meas.run() as datasaver:\n",
    "        start_adding = time.perf_counter()\n",
    "        for i in range(nreps):\n",
    "            datasaver.add_result((x1, np.random.rand(npoints)),\n",
    "                                 (x2, np.random.rand(npoints)),\n",
    "                                 (x3, np.random.rand(npoints)),\n",
    "                                 (y1, np.random.rand(npoints)),\n",
    "                                 (y2, np.random.rand(npoints)))\n",
    "        stop_adding = time.perf_counter()\n",
    "        run_id = datasaver.run_id\n",
    "    stop = time.perf_counter()\n",
    "    tot_time = stop - start\n",
    "    add_time = stop_adding - start_adding\n",
    "    return tot_time, add_time, run_id"
   ]
  },
  {
   "cell_type": "markdown",
   "metadata": {},
   "source": [
    "## Comparison between numeric/array data and binary blob"
   ]
  },
  {
   "cell_type": "markdown",
   "metadata": {},
   "source": [
    "### Case1: Short experiment time"
   ]
  },
  {
   "cell_type": "code",
   "execution_count": 5,
   "metadata": {
    "execution": {
     "iopub.execute_input": "2021-03-15T07:58:02.559217Z",
     "iopub.status.busy": "2021-03-15T07:58:02.558361Z",
     "iopub.status.idle": "2021-03-15T07:58:03.331493Z",
     "shell.execute_reply": "2021-03-15T07:58:03.332261Z"
    }
   },
   "outputs": [
    {
     "name": "stdout",
     "output_type": "stream",
     "text": [
      "Starting experimental run with id: 1. \n",
      "Starting experimental run with id: 2. \n",
      "Starting experimental run with id: 3. \n",
      "Starting experimental run with id: 4. \n",
      "Starting experimental run with id: 5. \n"
     ]
    },
    {
     "name": "stdout",
     "output_type": "stream",
     "text": [
      "Starting experimental run with id: 6. \n"
     ]
    },
    {
     "name": "stdout",
     "output_type": "stream",
     "text": [
      "Starting experimental run with id: 7. \n"
     ]
    },
    {
     "name": "stdout",
     "output_type": "stream",
     "text": [
      "Starting experimental run with id: 8. \n",
      "Starting experimental run with id: 9. \n"
     ]
    },
    {
     "name": "stdout",
     "output_type": "stream",
     "text": [
      "Starting experimental run with id: 10. \n",
      "Starting experimental run with id: 11. \n"
     ]
    },
    {
     "name": "stdout",
     "output_type": "stream",
     "text": [
      "Starting experimental run with id: 12. \n",
      "Starting experimental run with id: 13. \n"
     ]
    },
    {
     "name": "stdout",
     "output_type": "stream",
     "text": [
      "Starting experimental run with id: 14. \n"
     ]
    }
   ],
   "source": [
    "sizes = [1,500,1000,2000,3000,4000,5000]\n",
    "t_numeric = []\n",
    "t_numeric_add = []\n",
    "t_array = []\n",
    "t_array_add = []\n",
    "for size in sizes:\n",
    "    tn, tna, run_id_n =  insert_data('numeric', size)\n",
    "    t_numeric.append(tn)\n",
    "    t_numeric_add.append(tna)\n",
    "\n",
    "    ta, taa, run_id_a =  insert_data('array', size)\n",
    "    t_array.append(ta)\n",
    "    t_array_add.append(taa)"
   ]
  },
  {
   "cell_type": "code",
   "execution_count": 6,
   "metadata": {
    "execution": {
     "iopub.execute_input": "2021-03-15T07:58:03.337654Z",
     "iopub.status.busy": "2021-03-15T07:58:03.337117Z",
     "iopub.status.idle": "2021-03-15T07:58:03.583881Z",
     "shell.execute_reply": "2021-03-15T07:58:03.583398Z"
    }
   },
   "outputs": [
    {
     "data": {
      "image/png": "[encoded data removed]",
      "text/plain": [
       "<Figure size 432x288 with 1 Axes>"
      ]
     },
     "metadata": {
      "needs_background": "light"
     },
     "output_type": "display_data"
    }
   ],
   "source": [
    "fig, ax = plt.subplots(1,1)\n",
    "ax.plot(sizes, t_numeric, 'o-', label='Inserting row-by-row')\n",
    "ax.plot(sizes, t_numeric_add, 'o-', label='Inserting row-by-row: add_result only')\n",
    "ax.plot(sizes, t_array, 'd-', label='Inserting as binary blob')\n",
    "ax.plot(sizes, t_array_add, 'd-', label='Inserting as binary blob: add_result only')\n",
    "ax.legend()\n",
    "ax.set_xlabel('Array length')\n",
    "ax.set_ylabel('Time (s)')\n",
    "fig.tight_layout()"
   ]
  },
  {
   "cell_type": "markdown",
   "metadata": {},
   "source": [
    "As shown in the latter figure, the time to setup and and close the experiment is approximately 0.4 sec. In case of small array sizes, the difference between inserting values of data as arrays and inserting them row-by-row is relatively unimportant. At larger array sizes, i.e. above 10000 points, the cost of writing data as individual datapoints starts to become important.\n"
   ]
  },
  {
   "cell_type": "markdown",
   "metadata": {},
   "source": [
    "### Case2: Long experiment time "
   ]
  },
  {
   "cell_type": "code",
   "execution_count": 7,
   "metadata": {
    "execution": {
     "iopub.execute_input": "2021-03-15T07:58:03.592689Z",
     "iopub.status.busy": "2021-03-15T07:58:03.591187Z",
     "iopub.status.idle": "2021-03-15T07:59:01.443241Z",
     "shell.execute_reply": "2021-03-15T07:59:01.442695Z"
    }
   },
   "outputs": [
    {
     "name": "stdout",
     "output_type": "stream",
     "text": [
      "Starting experimental run with id: 15. \n",
      "Starting experimental run with id: 16. \n",
      "Starting experimental run with id: 17. \n"
     ]
    },
    {
     "name": "stdout",
     "output_type": "stream",
     "text": [
      "Starting experimental run with id: 18. \n"
     ]
    },
    {
     "name": "stdout",
     "output_type": "stream",
     "text": [
      "Starting experimental run with id: 19. \n"
     ]
    },
    {
     "name": "stdout",
     "output_type": "stream",
     "text": [
      "Starting experimental run with id: 20. \n"
     ]
    },
    {
     "name": "stdout",
     "output_type": "stream",
     "text": [
      "Starting experimental run with id: 21. \n"
     ]
    },
    {
     "name": "stdout",
     "output_type": "stream",
     "text": [
      "Starting experimental run with id: 22. \n"
     ]
    },
    {
     "name": "stdout",
     "output_type": "stream",
     "text": [
      "Starting experimental run with id: 23. \n"
     ]
    },
    {
     "name": "stdout",
     "output_type": "stream",
     "text": [
      "Starting experimental run with id: 24. \n"
     ]
    },
    {
     "name": "stdout",
     "output_type": "stream",
     "text": [
      "Starting experimental run with id: 25. \n"
     ]
    },
    {
     "name": "stdout",
     "output_type": "stream",
     "text": [
      "Starting experimental run with id: 26. \n"
     ]
    },
    {
     "name": "stdout",
     "output_type": "stream",
     "text": [
      "Starting experimental run with id: 27. \n"
     ]
    },
    {
     "name": "stdout",
     "output_type": "stream",
     "text": [
      "Starting experimental run with id: 28. \n"
     ]
    }
   ],
   "source": [
    "sizes = [1,500,1000,2000,3000,4000,5000]\n",
    "nreps = 100\n",
    "t_numeric = []\n",
    "t_numeric_add = []\n",
    "t_numeric_run_ids = []\n",
    "t_array = []\n",
    "t_array_add = []\n",
    "t_array_run_ids = []\n",
    "for size in sizes:\n",
    "    tn, tna, run_id_n =  insert_data('numeric', size, nreps=nreps)\n",
    "    t_numeric.append(tn)\n",
    "    t_numeric_add.append(tna)\n",
    "    t_numeric_run_ids.append(run_id_n)\n",
    "\n",
    "    ta, taa, run_id_a =  insert_data('array', size, nreps=nreps)\n",
    "    t_array.append(ta)\n",
    "    t_array_add.append(taa)\n",
    "    t_array_run_ids.append(run_id_a)"
   ]
  },
  {
   "cell_type": "code",
   "execution_count": 8,
   "metadata": {
    "execution": {
     "iopub.execute_input": "2021-03-15T07:59:01.462056Z",
     "iopub.status.busy": "2021-03-15T07:59:01.461532Z",
     "iopub.status.idle": "2021-03-15T07:59:01.691616Z",
     "shell.execute_reply": "2021-03-15T07:59:01.690832Z"
    },
    "scrolled": true
   },
   "outputs": [
    {
     "data": {
      "image/png": "[encoded data removed]",
      "text/plain": [
       "<Figure size 432x288 with 1 Axes>"
      ]
     },
     "metadata": {
      "needs_background": "light"
     },
     "output_type": "display_data"
    }
   ],
   "source": [
    "fig, ax = plt.subplots(1,1)\n",
    "ax.plot(sizes, t_numeric, 'o-', label='Inserting row-by-row')\n",
    "ax.plot(sizes, t_numeric_add, 'o-', label='Inserting row-by-row: add_result only')\n",
    "ax.plot(sizes, t_array, 'd-', label='Inserting as binary blob')\n",
    "ax.plot(sizes, t_array_add, 'd-', label='Inserting as binary blob: add_result only')\n",
    "ax.legend()\n",
    "ax.set_xlabel('Array length')\n",
    "ax.set_ylabel('Time (s)')\n",
    "fig.tight_layout()"
   ]
  },
  {
   "cell_type": "markdown",
   "metadata": {},
   "source": [
    "However, as we increase the length of the experiment, as seen here by repeating the insertion 100 times, we see a big difference between inserting values of the data row-by-row and inserting it as a binary blob."
   ]
  },
  {
   "cell_type": "markdown",
   "metadata": {},
   "source": [
    "## Loading the data "
   ]
  },
  {
   "cell_type": "code",
   "execution_count": 9,
   "metadata": {
    "execution": {
     "iopub.execute_input": "2021-03-15T07:59:01.696175Z",
     "iopub.status.busy": "2021-03-15T07:59:01.695124Z",
     "iopub.status.idle": "2021-03-15T07:59:01.698638Z",
     "shell.execute_reply": "2021-03-15T07:59:01.698170Z"
    }
   },
   "outputs": [],
   "source": [
    "from qcodes.dataset.data_set import load_by_id\n",
    "from qcodes.dataset.data_export import get_data_by_id"
   ]
  },
  {
   "cell_type": "markdown",
   "metadata": {},
   "source": [
    "As usual you can load the data by using the ``load_by_id`` function but you will notice that the different storage methods\n",
    "are reflected in shape of the data as it is retrieved. "
   ]
  },
  {
   "cell_type": "code",
   "execution_count": 10,
   "metadata": {
    "execution": {
     "iopub.execute_input": "2021-03-15T07:59:01.703378Z",
     "iopub.status.busy": "2021-03-15T07:59:01.702167Z",
     "iopub.status.idle": "2021-03-15T07:59:01.704143Z",
     "shell.execute_reply": "2021-03-15T07:59:01.704609Z"
    }
   },
   "outputs": [],
   "source": [
    "run_id_n = t_numeric_run_ids[0]\n",
    "run_id_a = t_array_run_ids[0]"
   ]
  },
  {
   "cell_type": "code",
   "execution_count": 11,
   "metadata": {
    "execution": {
     "iopub.execute_input": "2021-03-15T07:59:01.708047Z",
     "iopub.status.busy": "2021-03-15T07:59:01.707310Z",
     "iopub.status.idle": "2021-03-15T07:59:01.717134Z",
     "shell.execute_reply": "2021-03-15T07:59:01.716558Z"
    },
    "scrolled": true
   },
   "outputs": [
    {
     "data": {
      "text/plain": [
       "{'x1': {'x1': array([0.45499221, 0.45499221, 0.2292079 , 0.2292079 , 0.63972003,\n",
       "         0.63972003, 0.53972988, 0.53972988, 0.3438617 , 0.3438617 ,\n",
       "         0.73698836, 0.73698836, 0.64732618, 0.64732618, 0.65348459,\n",
       "         0.65348459, 0.23743208, 0.23743208, 0.2549129 , 0.2549129 ,\n",
       "         0.14202221, 0.14202221, 0.1038926 , 0.1038926 , 0.37890003,\n",
       "         0.37890003, 0.1054869 , 0.1054869 , 0.62495852, 0.62495852,\n",
       "         0.59472858, 0.59472858, 0.62992556, 0.62992556, 0.62318123,\n",
       "         0.62318123, 0.4562975 , 0.4562975 , 0.11954417, 0.11954417,\n",
       "         0.45438659, 0.45438659, 0.85217527, 0.85217527, 0.55985858,\n",
       "         0.55985858, 0.84280387, 0.84280387, 0.34476969, 0.34476969,\n",
       "         0.75337663, 0.75337663, 0.18543675, 0.18543675, 0.7694131 ,\n",
       "         0.7694131 , 0.97095994, 0.97095994, 0.74971584, 0.74971584,\n",
       "         0.17589388, 0.17589388, 0.33569769, 0.33569769, 0.11273027,\n",
       "         0.11273027, 0.62073115, 0.62073115, 0.58128456, 0.58128456,\n",
       "         0.37878125, 0.37878125, 0.29752401, 0.29752401, 0.61798872,\n",
       "         0.61798872, 0.54065137, 0.54065137, 0.53099754, 0.53099754,\n",
       "         0.03923672, 0.03923672, 0.31231422, 0.31231422, 0.26315682,\n",
       "         0.26315682, 0.93927753, 0.93927753, 0.47095334, 0.47095334,\n",
       "         0.5482785 , 0.5482785 , 0.05387024, 0.05387024, 0.68556001,\n",
       "         0.68556001, 0.42332639, 0.42332639, 0.23339569, 0.23339569,\n",
       "         0.51578897, 0.51578897, 0.63158409, 0.63158409, 0.44115013,\n",
       "         0.44115013, 0.95472418, 0.95472418, 0.73750788, 0.73750788,\n",
       "         0.9300259 , 0.9300259 , 0.91370189, 0.91370189, 0.62415099,\n",
       "         0.62415099, 0.09912345, 0.09912345, 0.20850578, 0.20850578,\n",
       "         0.46306186, 0.46306186, 0.82621779, 0.82621779, 0.519944  ,\n",
       "         0.519944  , 0.31991873, 0.31991873, 0.90046626, 0.90046626,\n",
       "         0.90139961, 0.90139961, 0.03994765, 0.03994765, 0.94152489,\n",
       "         0.94152489, 0.29918916, 0.29918916, 0.19777172, 0.19777172,\n",
       "         0.62835685, 0.62835685, 0.23125266, 0.23125266, 0.50069033,\n",
       "         0.50069033, 0.84894781, 0.84894781, 0.92808525, 0.92808525,\n",
       "         0.78355434, 0.78355434, 0.59985857, 0.59985857, 0.19392786,\n",
       "         0.19392786, 0.12484778, 0.12484778, 0.1827875 , 0.1827875 ,\n",
       "         0.68599222, 0.68599222, 0.37019975, 0.37019975, 0.44373049,\n",
       "         0.44373049, 0.57993233, 0.57993233, 0.52741556, 0.52741556,\n",
       "         0.24036107, 0.24036107, 0.34599385, 0.34599385, 0.99107464,\n",
       "         0.99107464, 0.89195239, 0.89195239, 0.46954721, 0.46954721,\n",
       "         0.44812602, 0.44812602, 0.61265148, 0.61265148, 0.82591293,\n",
       "         0.82591293, 0.47334636, 0.47334636, 0.38778006, 0.38778006,\n",
       "         0.76037156, 0.76037156, 0.78943708, 0.78943708, 0.69283464,\n",
       "         0.69283464, 0.36314386, 0.36314386, 0.29790957, 0.29790957])}}"
      ]
     },
     "execution_count": 1,
     "metadata": {},
     "output_type": "execute_result"
    }
   ],
   "source": [
    "ds = load_by_id(run_id_n)\n",
    "ds.get_parameter_data('x1')"
   ]
  },
  {
   "cell_type": "markdown",
   "metadata": {},
   "source": [
    "And a dataset stored as binary arrays"
   ]
  },
  {
   "cell_type": "code",
   "execution_count": 12,
   "metadata": {
    "execution": {
     "iopub.execute_input": "2021-03-15T07:59:01.720488Z",
     "iopub.status.busy": "2021-03-15T07:59:01.719995Z",
     "iopub.status.idle": "2021-03-15T07:59:01.777054Z",
     "shell.execute_reply": "2021-03-15T07:59:01.777548Z"
    },
    "scrolled": true
   },
   "outputs": [
    {
     "data": {
      "text/plain": [
       "{'x1': {'x1': array([[0.34440196],\n",
       "         [0.34440196],\n",
       "         [0.54539492],\n",
       "         [0.54539492],\n",
       "         [0.75788239],\n",
       "         [0.75788239],\n",
       "         [0.24374386],\n",
       "         [0.24374386],\n",
       "         [0.92349319],\n",
       "         [0.92349319],\n",
       "         [0.42937339],\n",
       "         [0.42937339],\n",
       "         [0.51210942],\n",
       "         [0.51210942],\n",
       "         [0.95327806],\n",
       "         [0.95327806],\n",
       "         [0.5322591 ],\n",
       "         [0.5322591 ],\n",
       "         [0.38572936],\n",
       "         [0.38572936],\n",
       "         [0.98331357],\n",
       "         [0.98331357],\n",
       "         [0.10564905],\n",
       "         [0.10564905],\n",
       "         [0.02337905],\n",
       "         [0.02337905],\n",
       "         [0.6903596 ],\n",
       "         [0.6903596 ],\n",
       "         [0.46192076],\n",
       "         [0.46192076],\n",
       "         [0.63264827],\n",
       "         [0.63264827],\n",
       "         [0.28594818],\n",
       "         [0.28594818],\n",
       "         [0.91599816],\n",
       "         [0.91599816],\n",
       "         [0.55819574],\n",
       "         [0.55819574],\n",
       "         [0.43590313],\n",
       "         [0.43590313],\n",
       "         [0.4160431 ],\n",
       "         [0.4160431 ],\n",
       "         [0.49782394],\n",
       "         [0.49782394],\n",
       "         [0.82628008],\n",
       "         [0.82628008],\n",
       "         [0.93122499],\n",
       "         [0.93122499],\n",
       "         [0.69606107],\n",
       "         [0.69606107],\n",
       "         [0.87687684],\n",
       "         [0.87687684],\n",
       "         [0.44208831],\n",
       "         [0.44208831],\n",
       "         [0.67457485],\n",
       "         [0.67457485],\n",
       "         [0.10161201],\n",
       "         [0.10161201],\n",
       "         [0.66889149],\n",
       "         [0.66889149],\n",
       "         [0.93022798],\n",
       "         [0.93022798],\n",
       "         [0.78593757],\n",
       "         [0.78593757],\n",
       "         [0.58865475],\n",
       "         [0.58865475],\n",
       "         [0.11836528],\n",
       "         [0.11836528],\n",
       "         [0.7606232 ],\n",
       "         [0.7606232 ],\n",
       "         [0.92122182],\n",
       "         [0.92122182],\n",
       "         [0.05982034],\n",
       "         [0.05982034],\n",
       "         [0.8808863 ],\n",
       "         [0.8808863 ],\n",
       "         [0.05187914],\n",
       "         [0.05187914],\n",
       "         [0.51449058],\n",
       "         [0.51449058],\n",
       "         [0.7372603 ],\n",
       "         [0.7372603 ],\n",
       "         [0.82089014],\n",
       "         [0.82089014],\n",
       "         [0.2468229 ],\n",
       "         [0.2468229 ],\n",
       "         [0.89120848],\n",
       "         [0.89120848],\n",
       "         [0.93938672],\n",
       "         [0.93938672],\n",
       "         [0.26541978],\n",
       "         [0.26541978],\n",
       "         [0.34317561],\n",
       "         [0.34317561],\n",
       "         [0.90750822],\n",
       "         [0.90750822],\n",
       "         [0.13145595],\n",
       "         [0.13145595],\n",
       "         [0.19818542],\n",
       "         [0.19818542],\n",
       "         [0.22029863],\n",
       "         [0.22029863],\n",
       "         [0.6838105 ],\n",
       "         [0.6838105 ],\n",
       "         [0.09391537],\n",
       "         [0.09391537],\n",
       "         [0.78791536],\n",
       "         [0.78791536],\n",
       "         [0.34138964],\n",
       "         [0.34138964],\n",
       "         [0.08252555],\n",
       "         [0.08252555],\n",
       "         [0.969177  ],\n",
       "         [0.969177  ],\n",
       "         [0.91190647],\n",
       "         [0.91190647],\n",
       "         [0.84494638],\n",
       "         [0.84494638],\n",
       "         [0.07206827],\n",
       "         [0.07206827],\n",
       "         [0.75611415],\n",
       "         [0.75611415],\n",
       "         [0.79650427],\n",
       "         [0.79650427],\n",
       "         [0.50988716],\n",
       "         [0.50988716],\n",
       "         [0.83289951],\n",
       "         [0.83289951],\n",
       "         [0.29008866],\n",
       "         [0.29008866],\n",
       "         [0.71941865],\n",
       "         [0.71941865],\n",
       "         [0.20190874],\n",
       "         [0.20190874],\n",
       "         [0.58016411],\n",
       "         [0.58016411],\n",
       "         [0.42316893],\n",
       "         [0.42316893],\n",
       "         [0.88088999],\n",
       "         [0.88088999],\n",
       "         [0.80302709],\n",
       "         [0.80302709],\n",
       "         [0.30200509],\n",
       "         [0.30200509],\n",
       "         [0.17365683],\n",
       "         [0.17365683],\n",
       "         [0.42467375],\n",
       "         [0.42467375],\n",
       "         [0.57731366],\n",
       "         [0.57731366],\n",
       "         [0.31554908],\n",
       "         [0.31554908],\n",
       "         [0.17928006],\n",
       "         [0.17928006],\n",
       "         [0.85313684],\n",
       "         [0.85313684],\n",
       "         [0.49882929],\n",
       "         [0.49882929],\n",
       "         [0.70853106],\n",
       "         [0.70853106],\n",
       "         [0.15032849],\n",
       "         [0.15032849],\n",
       "         [0.36649755],\n",
       "         [0.36649755],\n",
       "         [0.58971344],\n",
       "         [0.58971344],\n",
       "         [0.01300679],\n",
       "         [0.01300679],\n",
       "         [0.95241763],\n",
       "         [0.95241763],\n",
       "         [0.21136692],\n",
       "         [0.21136692],\n",
       "         [0.69409399],\n",
       "         [0.69409399],\n",
       "         [0.48733163],\n",
       "         [0.48733163],\n",
       "         [0.2701915 ],\n",
       "         [0.2701915 ],\n",
       "         [0.95954873],\n",
       "         [0.95954873],\n",
       "         [0.25860744],\n",
       "         [0.25860744],\n",
       "         [0.13873027],\n",
       "         [0.13873027],\n",
       "         [0.08619342],\n",
       "         [0.08619342],\n",
       "         [0.01726199],\n",
       "         [0.01726199],\n",
       "         [0.91073661],\n",
       "         [0.91073661],\n",
       "         [0.40696215],\n",
       "         [0.40696215],\n",
       "         [0.65520249],\n",
       "         [0.65520249],\n",
       "         [0.21121555],\n",
       "         [0.21121555],\n",
       "         [0.8563902 ],\n",
       "         [0.8563902 ],\n",
       "         [0.9152961 ],\n",
       "         [0.9152961 ]])}}"
      ]
     },
     "execution_count": 1,
     "metadata": {},
     "output_type": "execute_result"
    }
   ],
   "source": [
    "ds = load_by_id(run_id_a)\n",
    "ds.get_parameter_data('x1')"
   ]
  },
  {
   "cell_type": "code",
   "execution_count": null,
   "metadata": {},
   "outputs": [],
   "source": []
  }
 ],
 "metadata": {
  "kernelspec": {
   "display_name": "Python 3",
   "language": "python",
   "name": "python3"
  },
  "language_info": {
   "codemirror_mode": {
    "name": "ipython",
    "version": 3
   },
   "file_extension": ".py",
   "mimetype": "text/x-python",
   "name": "python",
   "nbconvert_exporter": "python",
   "pygments_lexer": "ipython3",
   "version": "3.7.10"
  },
  "nbsphinx": {
   "timeout": 600
  },
  "toc": {
   "base_numbering": 1,
   "nav_menu": {},
   "number_sections": true,
   "sideBar": true,
   "skip_h1_title": false,
   "title_cell": "Table of Contents",
   "title_sidebar": "Contents",
   "toc_cell": false,
   "toc_position": {},
   "toc_section_display": true,
   "toc_window_display": false
  },
  "varInspector": {
   "cols": {
    "lenName": 16,
    "lenType": 16,
    "lenVar": 40
   },
   "kernels_config": {
    "python": {
     "delete_cmd_postfix": "",
     "delete_cmd_prefix": "del ",
     "library": "var_list.py",
     "varRefreshCmd": "print(var_dic_list())"
    },
    "r": {
     "delete_cmd_postfix": ") ",
     "delete_cmd_prefix": "rm(",
     "library": "var_list.r",
     "varRefreshCmd": "cat(var_dic_list()) "
    }
   },
   "types_to_exclude": [
    "module",
    "function",
    "builtin_function_or_method",
    "instance",
    "_Feature"
   ],
   "window_display": false
  }
 },
 "nbformat": 4,
 "nbformat_minor": 2
}
