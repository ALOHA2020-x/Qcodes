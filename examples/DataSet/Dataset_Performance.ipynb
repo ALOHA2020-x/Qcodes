{
 "cells": [
  {
   "cell_type": "markdown",
   "metadata": {},
   "source": [
    "# DataSet Performance\n",
    "\n",
    "This notebook shows the trade-off between inserting data into a database row-by-row and as binary blobs. Inserting the data row-by-row means that we have direct access to all the data and may perform queries directly on the values of the data. On the other hand, as we shall see, this is much slower than inserting the data directly as binary blobs."
   ]
  },
  {
   "cell_type": "markdown",
   "metadata": {},
   "source": [
    "First, we choose a new location for the database to ensure that we don't add a bunch of benchmarking data to the default one."
   ]
  },
  {
   "cell_type": "code",
   "execution_count": 1,
   "metadata": {
    "execution": {
     "iopub.execute_input": "2021-02-12T11:02:36.914749Z",
     "iopub.status.busy": "2021-02-12T11:02:36.914187Z",
     "iopub.status.idle": "2021-02-12T11:02:37.812254Z",
     "shell.execute_reply": "2021-02-12T11:02:37.811210Z"
    }
   },
   "outputs": [
    {
     "name": "stdout",
     "output_type": "stream",
     "text": [
      "Logging hadn't been started.\n",
      "Activating auto-logging. Current session state plus future input saved.\n",
      "Filename       : /home/runner/.qcodes/logs/command_history.log\n",
      "Mode           : append\n",
      "Output logging : True\n",
      "Raw input log  : False\n",
      "Timestamping   : True\n",
      "State          : active\n"
     ]
    },
    {
     "name": "stdout",
     "output_type": "stream",
     "text": [
      "Qcodes Logfile : /home/runner/.qcodes/logs/210212-3950-qcodes.log\n"
     ]
    }
   ],
   "source": [
    "import os\n",
    "cwd = os.getcwd()\n",
    "import qcodes as qc\n",
    "qc.config[\"core\"][\"db_location\"] = os.path.join(cwd, 'testing.db')\n"
   ]
  },
  {
   "cell_type": "code",
   "execution_count": 2,
   "metadata": {
    "execution": {
     "iopub.execute_input": "2021-02-12T11:02:37.819895Z",
     "iopub.status.busy": "2021-02-12T11:02:37.818298Z",
     "iopub.status.idle": "2021-02-12T11:02:38.013596Z",
     "shell.execute_reply": "2021-02-12T11:02:38.012664Z"
    }
   },
   "outputs": [],
   "source": [
    "%matplotlib inline\n",
    "import time\n",
    "import matplotlib.pyplot as plt\n",
    "import numpy as np\n",
    "\n",
    "import qcodes as qc\n",
    "from qcodes.instrument.parameter import ManualParameter\n",
    "from qcodes.dataset.experiment_container import (Experiment,\n",
    "                                                 load_last_experiment,\n",
    "                                                 new_experiment)\n",
    "from qcodes.dataset.sqlite.database import initialise_database\n",
    "from qcodes import load_or_create_experiment\n",
    "from qcodes.dataset.measurements import Measurement"
   ]
  },
  {
   "cell_type": "code",
   "execution_count": 3,
   "metadata": {
    "execution": {
     "iopub.execute_input": "2021-02-12T11:02:38.018677Z",
     "iopub.status.busy": "2021-02-12T11:02:38.018070Z",
     "iopub.status.idle": "2021-02-12T11:02:38.138982Z",
     "shell.execute_reply": "2021-02-12T11:02:38.138201Z"
    }
   },
   "outputs": [
    {
     "name": "stdout",
     "output_type": "stream",
     "text": [
      "\r",
      "0it [00:00, ?it/s]"
     ]
    },
    {
     "name": "stdout",
     "output_type": "stream",
     "text": [
      "\r",
      "Upgrading database; v0 -> v1: : 0it [00:00, ?it/s]"
     ]
    },
    {
     "name": "stdout",
     "output_type": "stream",
     "text": [
      "\r",
      "Upgrading database; v0 -> v1: : 0it [00:00, ?it/s]"
     ]
    },
    {
     "name": "stdout",
     "output_type": "stream",
     "text": [
      "\n",
      "\r",
      "  0%|          | 0/1 [00:00<?, ?it/s]"
     ]
    },
    {
     "name": "stdout",
     "output_type": "stream",
     "text": [
      "\r",
      "Upgrading database; v1 -> v2:   0%|          | 0/1 [00:00<?, ?it/s]"
     ]
    },
    {
     "name": "stdout",
     "output_type": "stream",
     "text": [
      "\r",
      "Upgrading database; v1 -> v2: 100%|██████████| 1/1 [00:00<00:00, 435.82it/s]"
     ]
    },
    {
     "name": "stdout",
     "output_type": "stream",
     "text": [
      "\n",
      "\r",
      "0it [00:00, ?it/s]"
     ]
    },
    {
     "name": "stdout",
     "output_type": "stream",
     "text": [
      "\r",
      "Upgrading database; v2 -> v3: : 0it [00:00, ?it/s]"
     ]
    },
    {
     "name": "stdout",
     "output_type": "stream",
     "text": [
      "\r",
      "Upgrading database; v2 -> v3: : 0it [00:00, ?it/s]"
     ]
    },
    {
     "name": "stdout",
     "output_type": "stream",
     "text": [
      "\n",
      "\r",
      "0it [00:00, ?it/s]"
     ]
    },
    {
     "name": "stdout",
     "output_type": "stream",
     "text": [
      "\r",
      "Upgrading database; v3 -> v4: : 0it [00:00, ?it/s]"
     ]
    },
    {
     "name": "stdout",
     "output_type": "stream",
     "text": [
      "\r",
      "Upgrading database; v3 -> v4: : 0it [00:00, ?it/s]"
     ]
    },
    {
     "name": "stdout",
     "output_type": "stream",
     "text": [
      "\n",
      "\r",
      "  0%|          | 0/1 [00:00<?, ?it/s]"
     ]
    },
    {
     "name": "stdout",
     "output_type": "stream",
     "text": [
      "\r",
      "Upgrading database; v4 -> v5:   0%|          | 0/1 [00:00<?, ?it/s]"
     ]
    },
    {
     "name": "stdout",
     "output_type": "stream",
     "text": [
      "\r",
      "Upgrading database; v4 -> v5: 100%|██████████| 1/1 [00:00<00:00, 422.47it/s]"
     ]
    },
    {
     "name": "stdout",
     "output_type": "stream",
     "text": [
      "\n",
      "\r",
      "0it [00:00, ?it/s]"
     ]
    },
    {
     "name": "stdout",
     "output_type": "stream",
     "text": [
      "\r",
      "Upgrading database; v5 -> v6: : 0it [00:00, ?it/s]"
     ]
    },
    {
     "name": "stdout",
     "output_type": "stream",
     "text": [
      "\r",
      "Upgrading database; v5 -> v6: : 0it [00:00, ?it/s]"
     ]
    },
    {
     "name": "stdout",
     "output_type": "stream",
     "text": [
      "\n",
      "\r",
      "  0%|          | 0/1 [00:00<?, ?it/s]"
     ]
    },
    {
     "name": "stdout",
     "output_type": "stream",
     "text": [
      "\r",
      "Upgrading database; v6 -> v7:   0%|          | 0/1 [00:00<?, ?it/s]"
     ]
    },
    {
     "name": "stdout",
     "output_type": "stream",
     "text": [
      "\r",
      "Upgrading database; v6 -> v7: 100%|██████████| 1/1 [00:00<00:00, 258.22it/s]"
     ]
    },
    {
     "name": "stdout",
     "output_type": "stream",
     "text": [
      "\n",
      "\r",
      "  0%|          | 0/1 [00:00<?, ?it/s]"
     ]
    },
    {
     "name": "stdout",
     "output_type": "stream",
     "text": [
      "\r",
      "Upgrading database; v7 -> v8:   0%|          | 0/1 [00:00<?, ?it/s]"
     ]
    },
    {
     "name": "stdout",
     "output_type": "stream",
     "text": [
      "\r",
      "Upgrading database; v7 -> v8: 100%|██████████| 1/1 [00:00<00:00, 378.14it/s]"
     ]
    },
    {
     "name": "stdout",
     "output_type": "stream",
     "text": [
      "\n",
      "\r",
      "  0%|          | 0/1 [00:00<?, ?it/s]"
     ]
    },
    {
     "name": "stdout",
     "output_type": "stream",
     "text": [
      "\r",
      "Upgrading database; v8 -> v9:   0%|          | 0/1 [00:00<?, ?it/s]"
     ]
    },
    {
     "name": "stdout",
     "output_type": "stream",
     "text": [
      "\r",
      "Upgrading database; v8 -> v9: 100%|██████████| 1/1 [00:00<00:00, 370.88it/s]"
     ]
    },
    {
     "name": "stdout",
     "output_type": "stream",
     "text": [
      "\n"
     ]
    }
   ],
   "source": [
    "initialise_database()\n",
    "exp = load_or_create_experiment(experiment_name='tutorial_exp', sample_name=\"no sample\")"
   ]
  },
  {
   "cell_type": "markdown",
   "metadata": {},
   "source": [
    "Here, we define a simple function to benchmark the time it takes to insert n points with either numeric or array data type.\n",
    "We will compare both the time used to call ``add_result`` and the time used for the full measurement."
   ]
  },
  {
   "cell_type": "code",
   "execution_count": 4,
   "metadata": {
    "execution": {
     "iopub.execute_input": "2021-02-12T11:02:38.148926Z",
     "iopub.status.busy": "2021-02-12T11:02:38.147642Z",
     "iopub.status.idle": "2021-02-12T11:02:38.149572Z",
     "shell.execute_reply": "2021-02-12T11:02:38.150070Z"
    }
   },
   "outputs": [],
   "source": [
    "def insert_data(paramtype, npoints, nreps=1):\n",
    "\n",
    "    meas = Measurement(exp=exp)\n",
    "\n",
    "    x1 = ManualParameter('x1')\n",
    "    x2 = ManualParameter('x2')\n",
    "    x3 = ManualParameter('x3')\n",
    "    y1 = ManualParameter('y1')\n",
    "    y2 = ManualParameter('y2')\n",
    "\n",
    "    meas.register_parameter(x1, paramtype=paramtype)\n",
    "    meas.register_parameter(x2, paramtype=paramtype)\n",
    "    meas.register_parameter(x3, paramtype=paramtype)\n",
    "    meas.register_parameter(y1, setpoints=[x1, x2, x3],\n",
    "                            paramtype=paramtype)\n",
    "    meas.register_parameter(y2, setpoints=[x1, x2, x3],\n",
    "                            paramtype=paramtype)\n",
    "    start = time.perf_counter()\n",
    "    with meas.run() as datasaver:\n",
    "        start_adding = time.perf_counter()\n",
    "        for i in range(nreps):\n",
    "            datasaver.add_result((x1, np.random.rand(npoints)),\n",
    "                                 (x2, np.random.rand(npoints)),\n",
    "                                 (x3, np.random.rand(npoints)),\n",
    "                                 (y1, np.random.rand(npoints)),\n",
    "                                 (y2, np.random.rand(npoints)))\n",
    "        stop_adding = time.perf_counter()\n",
    "        run_id = datasaver.run_id\n",
    "    stop = time.perf_counter()\n",
    "    tot_time = stop - start\n",
    "    add_time = stop_adding - start_adding\n",
    "    return tot_time, add_time, run_id"
   ]
  },
  {
   "cell_type": "markdown",
   "metadata": {},
   "source": [
    "## Comparison between numeric/array data and binary blob"
   ]
  },
  {
   "cell_type": "markdown",
   "metadata": {},
   "source": [
    "### Case1: Short experiment time"
   ]
  },
  {
   "cell_type": "code",
   "execution_count": 5,
   "metadata": {
    "execution": {
     "iopub.execute_input": "2021-02-12T11:02:38.157230Z",
     "iopub.status.busy": "2021-02-12T11:02:38.156527Z",
     "iopub.status.idle": "2021-02-12T11:02:38.998980Z",
     "shell.execute_reply": "2021-02-12T11:02:38.998460Z"
    }
   },
   "outputs": [
    {
     "name": "stdout",
     "output_type": "stream",
     "text": [
      "Starting experimental run with id: 1. \n",
      "Starting experimental run with id: 2. \n",
      "Starting experimental run with id: 3. \n",
      "Starting experimental run with id: 4. \n",
      "Starting experimental run with id: 5. \n"
     ]
    },
    {
     "name": "stdout",
     "output_type": "stream",
     "text": [
      "Starting experimental run with id: 6. \n"
     ]
    },
    {
     "name": "stdout",
     "output_type": "stream",
     "text": [
      "Starting experimental run with id: 7. \n"
     ]
    },
    {
     "name": "stdout",
     "output_type": "stream",
     "text": [
      "Starting experimental run with id: 8. \n",
      "Starting experimental run with id: 9. \n"
     ]
    },
    {
     "name": "stdout",
     "output_type": "stream",
     "text": [
      "Starting experimental run with id: 10. \n",
      "Starting experimental run with id: 11. \n"
     ]
    },
    {
     "name": "stdout",
     "output_type": "stream",
     "text": [
      "Starting experimental run with id: 12. \n",
      "Starting experimental run with id: 13. \n"
     ]
    },
    {
     "name": "stdout",
     "output_type": "stream",
     "text": [
      "Starting experimental run with id: 14. \n"
     ]
    }
   ],
   "source": [
    "sizes = [1,500,1000,2000,3000,4000,5000]\n",
    "t_numeric = []\n",
    "t_numeric_add = []\n",
    "t_array = []\n",
    "t_array_add = []\n",
    "for size in sizes:\n",
    "    tn, tna, run_id_n =  insert_data('numeric', size)\n",
    "    t_numeric.append(tn)\n",
    "    t_numeric_add.append(tna)\n",
    "\n",
    "    ta, taa, run_id_a =  insert_data('array', size)\n",
    "    t_array.append(ta)\n",
    "    t_array_add.append(taa)"
   ]
  },
  {
   "cell_type": "code",
   "execution_count": 6,
   "metadata": {
    "execution": {
     "iopub.execute_input": "2021-02-12T11:02:39.010560Z",
     "iopub.status.busy": "2021-02-12T11:02:39.006977Z",
     "iopub.status.idle": "2021-02-12T11:02:39.211076Z",
     "shell.execute_reply": "2021-02-12T11:02:39.210230Z"
    }
   },
   "outputs": [
    {
     "data": {
      "image/png": "[encoded data removed]",
      "text/plain": [
       "<Figure size 432x288 with 1 Axes>"
      ]
     },
     "metadata": {
      "needs_background": "light"
     },
     "output_type": "display_data"
    }
   ],
   "source": [
    "fig, ax = plt.subplots(1,1)\n",
    "ax.plot(sizes, t_numeric, 'o-', label='Inserting row-by-row')\n",
    "ax.plot(sizes, t_numeric_add, 'o-', label='Inserting row-by-row: add_result only')\n",
    "ax.plot(sizes, t_array, 'd-', label='Inserting as binary blob')\n",
    "ax.plot(sizes, t_array_add, 'd-', label='Inserting as binary blob: add_result only')\n",
    "ax.legend()\n",
    "ax.set_xlabel('Array length')\n",
    "ax.set_ylabel('Time (s)')\n",
    "fig.tight_layout()"
   ]
  },
  {
   "cell_type": "markdown",
   "metadata": {},
   "source": [
    "As shown in the latter figure, the time to setup and and close the experiment is approximately 0.4 sec. In case of small array sizes, the difference between inserting values of data as arrays and inserting them row-by-row is relatively unimportant. At larger array sizes, i.e. above 10000 points, the cost of writing data as individual datapoints starts to become important.\n"
   ]
  },
  {
   "cell_type": "markdown",
   "metadata": {},
   "source": [
    "### Case2: Long experiment time "
   ]
  },
  {
   "cell_type": "code",
   "execution_count": 7,
   "metadata": {
    "execution": {
     "iopub.execute_input": "2021-02-12T11:02:39.218247Z",
     "iopub.status.busy": "2021-02-12T11:02:39.217594Z",
     "iopub.status.idle": "2021-02-12T11:03:38.749200Z",
     "shell.execute_reply": "2021-02-12T11:03:38.748162Z"
    }
   },
   "outputs": [
    {
     "name": "stdout",
     "output_type": "stream",
     "text": [
      "Starting experimental run with id: 15. \n",
      "Starting experimental run with id: 16. \n",
      "Starting experimental run with id: 17. \n"
     ]
    },
    {
     "name": "stdout",
     "output_type": "stream",
     "text": [
      "Starting experimental run with id: 18. \n"
     ]
    },
    {
     "name": "stdout",
     "output_type": "stream",
     "text": [
      "Starting experimental run with id: 19. \n"
     ]
    },
    {
     "name": "stdout",
     "output_type": "stream",
     "text": [
      "Starting experimental run with id: 20. \n"
     ]
    },
    {
     "name": "stdout",
     "output_type": "stream",
     "text": [
      "Starting experimental run with id: 21. \n"
     ]
    },
    {
     "name": "stdout",
     "output_type": "stream",
     "text": [
      "Starting experimental run with id: 22. \n"
     ]
    },
    {
     "name": "stdout",
     "output_type": "stream",
     "text": [
      "Starting experimental run with id: 23. \n"
     ]
    },
    {
     "name": "stdout",
     "output_type": "stream",
     "text": [
      "Starting experimental run with id: 24. \n"
     ]
    },
    {
     "name": "stdout",
     "output_type": "stream",
     "text": [
      "Starting experimental run with id: 25. \n"
     ]
    },
    {
     "name": "stdout",
     "output_type": "stream",
     "text": [
      "Starting experimental run with id: 26. \n"
     ]
    },
    {
     "name": "stdout",
     "output_type": "stream",
     "text": [
      "Starting experimental run with id: 27. \n"
     ]
    },
    {
     "name": "stdout",
     "output_type": "stream",
     "text": [
      "Starting experimental run with id: 28. \n"
     ]
    }
   ],
   "source": [
    "sizes = [1,500,1000,2000,3000,4000,5000]\n",
    "nreps = 100\n",
    "t_numeric = []\n",
    "t_numeric_add = []\n",
    "t_numeric_run_ids = []\n",
    "t_array = []\n",
    "t_array_add = []\n",
    "t_array_run_ids = []\n",
    "for size in sizes:\n",
    "    tn, tna, run_id_n =  insert_data('numeric', size, nreps=nreps)\n",
    "    t_numeric.append(tn)\n",
    "    t_numeric_add.append(tna)\n",
    "    t_numeric_run_ids.append(run_id_n)\n",
    "\n",
    "    ta, taa, run_id_a =  insert_data('array', size, nreps=nreps)\n",
    "    t_array.append(ta)\n",
    "    t_array_add.append(taa)\n",
    "    t_array_run_ids.append(run_id_a)"
   ]
  },
  {
   "cell_type": "code",
   "execution_count": 8,
   "metadata": {
    "execution": {
     "iopub.execute_input": "2021-02-12T11:03:38.794572Z",
     "iopub.status.busy": "2021-02-12T11:03:38.793522Z",
     "iopub.status.idle": "2021-02-12T11:03:38.966686Z",
     "shell.execute_reply": "2021-02-12T11:03:38.966163Z"
    },
    "scrolled": true
   },
   "outputs": [
    {
     "data": {
      "image/png": "[encoded data removed]",
      "text/plain": [
       "<Figure size 432x288 with 1 Axes>"
      ]
     },
     "metadata": {
      "needs_background": "light"
     },
     "output_type": "display_data"
    }
   ],
   "source": [
    "fig, ax = plt.subplots(1,1)\n",
    "ax.plot(sizes, t_numeric, 'o-', label='Inserting row-by-row')\n",
    "ax.plot(sizes, t_numeric_add, 'o-', label='Inserting row-by-row: add_result only')\n",
    "ax.plot(sizes, t_array, 'd-', label='Inserting as binary blob')\n",
    "ax.plot(sizes, t_array_add, 'd-', label='Inserting as binary blob: add_result only')\n",
    "ax.legend()\n",
    "ax.set_xlabel('Array length')\n",
    "ax.set_ylabel('Time (s)')\n",
    "fig.tight_layout()"
   ]
  },
  {
   "cell_type": "markdown",
   "metadata": {},
   "source": [
    "However, as we increase the length of the experiment, as seen here by repeating the insertion 100 times, we see a big difference between inserting values of the data row-by-row and inserting it as a binary blob."
   ]
  },
  {
   "cell_type": "markdown",
   "metadata": {},
   "source": [
    "## Loading the data "
   ]
  },
  {
   "cell_type": "code",
   "execution_count": 9,
   "metadata": {
    "execution": {
     "iopub.execute_input": "2021-02-12T11:03:38.970796Z",
     "iopub.status.busy": "2021-02-12T11:03:38.969766Z",
     "iopub.status.idle": "2021-02-12T11:03:38.973421Z",
     "shell.execute_reply": "2021-02-12T11:03:38.972950Z"
    }
   },
   "outputs": [],
   "source": [
    "from qcodes.dataset.data_set import load_by_id\n",
    "from qcodes.dataset.data_export import get_data_by_id"
   ]
  },
  {
   "cell_type": "markdown",
   "metadata": {},
   "source": [
    "As usual you can load the data by using the ``load_by_id`` function but you will notice that the different storage methods\n",
    "are reflected in shape of the data as it is retrieved. "
   ]
  },
  {
   "cell_type": "code",
   "execution_count": 10,
   "metadata": {
    "execution": {
     "iopub.execute_input": "2021-02-12T11:03:38.978372Z",
     "iopub.status.busy": "2021-02-12T11:03:38.977121Z",
     "iopub.status.idle": "2021-02-12T11:03:38.979006Z",
     "shell.execute_reply": "2021-02-12T11:03:38.979469Z"
    }
   },
   "outputs": [],
   "source": [
    "run_id_n = t_numeric_run_ids[0]\n",
    "run_id_a = t_array_run_ids[0]"
   ]
  },
  {
   "cell_type": "code",
   "execution_count": 11,
   "metadata": {
    "execution": {
     "iopub.execute_input": "2021-02-12T11:03:38.982922Z",
     "iopub.status.busy": "2021-02-12T11:03:38.982357Z",
     "iopub.status.idle": "2021-02-12T11:03:38.991821Z",
     "shell.execute_reply": "2021-02-12T11:03:38.992379Z"
    },
    "scrolled": true
   },
   "outputs": [
    {
     "data": {
      "text/plain": [
       "{'x1': {'x1': array([0.60234447, 0.60234447, 0.60452133, 0.60452133, 0.33656105,\n",
       "         0.33656105, 0.00550445, 0.00550445, 0.02693828, 0.02693828,\n",
       "         0.98688281, 0.98688281, 0.04986431, 0.04986431, 0.54815531,\n",
       "         0.54815531, 0.57757721, 0.57757721, 0.60671733, 0.60671733,\n",
       "         0.03288562, 0.03288562, 0.38568744, 0.38568744, 0.49391794,\n",
       "         0.49391794, 0.38953037, 0.38953037, 0.9318149 , 0.9318149 ,\n",
       "         0.50226987, 0.50226987, 0.87543412, 0.87543412, 0.17797828,\n",
       "         0.17797828, 0.31440203, 0.31440203, 0.280339  , 0.280339  ,\n",
       "         0.090161  , 0.090161  , 0.16313684, 0.16313684, 0.57394053,\n",
       "         0.57394053, 0.93558489, 0.93558489, 0.91900509, 0.91900509,\n",
       "         0.00311958, 0.00311958, 0.05891699, 0.05891699, 0.2639121 ,\n",
       "         0.2639121 , 0.58554721, 0.58554721, 0.05611934, 0.05611934,\n",
       "         0.33218964, 0.33218964, 0.26259077, 0.26259077, 0.42125615,\n",
       "         0.42125615, 0.25299245, 0.25299245, 0.61834679, 0.61834679,\n",
       "         0.16625436, 0.16625436, 0.77429626, 0.77429626, 0.44716877,\n",
       "         0.44716877, 0.88646732, 0.88646732, 0.27319639, 0.27319639,\n",
       "         0.33663236, 0.33663236, 0.2172244 , 0.2172244 , 0.27746475,\n",
       "         0.27746475, 0.38684512, 0.38684512, 0.0359356 , 0.0359356 ,\n",
       "         0.29724034, 0.29724034, 0.00653079, 0.00653079, 0.5484729 ,\n",
       "         0.5484729 , 0.41472282, 0.41472282, 0.92257847, 0.92257847,\n",
       "         0.4845166 , 0.4845166 , 0.09066846, 0.09066846, 0.7176074 ,\n",
       "         0.7176074 , 0.82399261, 0.82399261, 0.60918673, 0.60918673,\n",
       "         0.93576089, 0.93576089, 0.90463568, 0.90463568, 0.3276171 ,\n",
       "         0.3276171 , 0.68671769, 0.68671769, 0.18850461, 0.18850461,\n",
       "         0.43042892, 0.43042892, 0.37578261, 0.37578261, 0.59743465,\n",
       "         0.59743465, 0.96777272, 0.96777272, 0.11671347, 0.11671347,\n",
       "         0.90055882, 0.90055882, 0.30066022, 0.30066022, 0.0343462 ,\n",
       "         0.0343462 , 0.37044896, 0.37044896, 0.15949389, 0.15949389,\n",
       "         0.51938664, 0.51938664, 0.10767485, 0.10767485, 0.56083789,\n",
       "         0.56083789, 0.4708225 , 0.4708225 , 0.82864977, 0.82864977,\n",
       "         0.44974345, 0.44974345, 0.44449841, 0.44449841, 0.86711433,\n",
       "         0.86711433, 0.84207689, 0.84207689, 0.35082229, 0.35082229,\n",
       "         0.341048  , 0.341048  , 0.84441568, 0.84441568, 0.86830073,\n",
       "         0.86830073, 0.83572819, 0.83572819, 0.23549079, 0.23549079,\n",
       "         0.85097886, 0.85097886, 0.62080016, 0.62080016, 0.26417322,\n",
       "         0.26417322, 0.88635843, 0.88635843, 0.57177158, 0.57177158,\n",
       "         0.9531092 , 0.9531092 , 0.24786379, 0.24786379, 0.78726633,\n",
       "         0.78726633, 0.19653941, 0.19653941, 0.56371121, 0.56371121,\n",
       "         0.23157442, 0.23157442, 0.88763666, 0.88763666, 0.30124255,\n",
       "         0.30124255, 0.80551643, 0.80551643, 0.91550484, 0.91550484])}}"
      ]
     },
     "execution_count": 1,
     "metadata": {},
     "output_type": "execute_result"
    }
   ],
   "source": [
    "ds = load_by_id(run_id_n)\n",
    "ds.get_parameter_data('x1')"
   ]
  },
  {
   "cell_type": "markdown",
   "metadata": {},
   "source": [
    "And a dataset stored as binary arrays"
   ]
  },
  {
   "cell_type": "code",
   "execution_count": 12,
   "metadata": {
    "execution": {
     "iopub.execute_input": "2021-02-12T11:03:38.995999Z",
     "iopub.status.busy": "2021-02-12T11:03:38.995444Z",
     "iopub.status.idle": "2021-02-12T11:03:39.056342Z",
     "shell.execute_reply": "2021-02-12T11:03:39.057202Z"
    },
    "scrolled": true
   },
   "outputs": [
    {
     "data": {
      "text/plain": [
       "{'x1': {'x1': array([[0.3264346 ],\n",
       "         [0.3264346 ],\n",
       "         [0.14927799],\n",
       "         [0.14927799],\n",
       "         [0.64823349],\n",
       "         [0.64823349],\n",
       "         [0.44294762],\n",
       "         [0.44294762],\n",
       "         [0.3596872 ],\n",
       "         [0.3596872 ],\n",
       "         [0.00928043],\n",
       "         [0.00928043],\n",
       "         [0.31399944],\n",
       "         [0.31399944],\n",
       "         [0.58764399],\n",
       "         [0.58764399],\n",
       "         [0.03760575],\n",
       "         [0.03760575],\n",
       "         [0.12041036],\n",
       "         [0.12041036],\n",
       "         [0.32145515],\n",
       "         [0.32145515],\n",
       "         [0.18976021],\n",
       "         [0.18976021],\n",
       "         [0.07728771],\n",
       "         [0.07728771],\n",
       "         [0.34925263],\n",
       "         [0.34925263],\n",
       "         [0.43896549],\n",
       "         [0.43896549],\n",
       "         [0.58188564],\n",
       "         [0.58188564],\n",
       "         [0.05655047],\n",
       "         [0.05655047],\n",
       "         [0.79398135],\n",
       "         [0.79398135],\n",
       "         [0.56379815],\n",
       "         [0.56379815],\n",
       "         [0.66079605],\n",
       "         [0.66079605],\n",
       "         [0.96390213],\n",
       "         [0.96390213],\n",
       "         [0.64887677],\n",
       "         [0.64887677],\n",
       "         [0.53113097],\n",
       "         [0.53113097],\n",
       "         [0.85651086],\n",
       "         [0.85651086],\n",
       "         [0.73036651],\n",
       "         [0.73036651],\n",
       "         [0.97952119],\n",
       "         [0.97952119],\n",
       "         [0.18442065],\n",
       "         [0.18442065],\n",
       "         [0.96701652],\n",
       "         [0.96701652],\n",
       "         [0.5835379 ],\n",
       "         [0.5835379 ],\n",
       "         [0.04719616],\n",
       "         [0.04719616],\n",
       "         [0.65619638],\n",
       "         [0.65619638],\n",
       "         [0.71198083],\n",
       "         [0.71198083],\n",
       "         [0.84262495],\n",
       "         [0.84262495],\n",
       "         [0.78612319],\n",
       "         [0.78612319],\n",
       "         [0.46220779],\n",
       "         [0.46220779],\n",
       "         [0.14914357],\n",
       "         [0.14914357],\n",
       "         [0.5333382 ],\n",
       "         [0.5333382 ],\n",
       "         [0.01300404],\n",
       "         [0.01300404],\n",
       "         [0.36233047],\n",
       "         [0.36233047],\n",
       "         [0.21580463],\n",
       "         [0.21580463],\n",
       "         [0.64066028],\n",
       "         [0.64066028],\n",
       "         [0.51092205],\n",
       "         [0.51092205],\n",
       "         [0.63142099],\n",
       "         [0.63142099],\n",
       "         [0.96516506],\n",
       "         [0.96516506],\n",
       "         [0.34218165],\n",
       "         [0.34218165],\n",
       "         [0.89453551],\n",
       "         [0.89453551],\n",
       "         [0.51458335],\n",
       "         [0.51458335],\n",
       "         [0.92957069],\n",
       "         [0.92957069],\n",
       "         [0.37321603],\n",
       "         [0.37321603],\n",
       "         [0.94158018],\n",
       "         [0.94158018],\n",
       "         [0.38560306],\n",
       "         [0.38560306],\n",
       "         [0.18091693],\n",
       "         [0.18091693],\n",
       "         [0.30855506],\n",
       "         [0.30855506],\n",
       "         [0.00902739],\n",
       "         [0.00902739],\n",
       "         [0.76754893],\n",
       "         [0.76754893],\n",
       "         [0.50218431],\n",
       "         [0.50218431],\n",
       "         [0.36011667],\n",
       "         [0.36011667],\n",
       "         [0.53382109],\n",
       "         [0.53382109],\n",
       "         [0.32968182],\n",
       "         [0.32968182],\n",
       "         [0.99119577],\n",
       "         [0.99119577],\n",
       "         [0.3410589 ],\n",
       "         [0.3410589 ],\n",
       "         [0.09606664],\n",
       "         [0.09606664],\n",
       "         [0.18990208],\n",
       "         [0.18990208],\n",
       "         [0.23579604],\n",
       "         [0.23579604],\n",
       "         [0.64607193],\n",
       "         [0.64607193],\n",
       "         [0.20858965],\n",
       "         [0.20858965],\n",
       "         [0.62099563],\n",
       "         [0.62099563],\n",
       "         [0.901487  ],\n",
       "         [0.901487  ],\n",
       "         [0.18003856],\n",
       "         [0.18003856],\n",
       "         [0.96516667],\n",
       "         [0.96516667],\n",
       "         [0.06025057],\n",
       "         [0.06025057],\n",
       "         [0.0154093 ],\n",
       "         [0.0154093 ],\n",
       "         [0.25120035],\n",
       "         [0.25120035],\n",
       "         [0.51103269],\n",
       "         [0.51103269],\n",
       "         [0.73226722],\n",
       "         [0.73226722],\n",
       "         [0.53380729],\n",
       "         [0.53380729],\n",
       "         [0.52842732],\n",
       "         [0.52842732],\n",
       "         [0.73518978],\n",
       "         [0.73518978],\n",
       "         [0.12807876],\n",
       "         [0.12807876],\n",
       "         [0.9311741 ],\n",
       "         [0.9311741 ],\n",
       "         [0.13320754],\n",
       "         [0.13320754],\n",
       "         [0.10154402],\n",
       "         [0.10154402],\n",
       "         [0.37268222],\n",
       "         [0.37268222],\n",
       "         [0.39915469],\n",
       "         [0.39915469],\n",
       "         [0.58560959],\n",
       "         [0.58560959],\n",
       "         [0.28054428],\n",
       "         [0.28054428],\n",
       "         [0.38059716],\n",
       "         [0.38059716],\n",
       "         [0.19309216],\n",
       "         [0.19309216],\n",
       "         [0.80884289],\n",
       "         [0.80884289],\n",
       "         [0.58876961],\n",
       "         [0.58876961],\n",
       "         [0.13416712],\n",
       "         [0.13416712],\n",
       "         [0.80658112],\n",
       "         [0.80658112],\n",
       "         [0.41104514],\n",
       "         [0.41104514],\n",
       "         [0.55050365],\n",
       "         [0.55050365],\n",
       "         [0.98677776],\n",
       "         [0.98677776],\n",
       "         [0.90784011],\n",
       "         [0.90784011],\n",
       "         [0.55576561],\n",
       "         [0.55576561],\n",
       "         [0.94397146],\n",
       "         [0.94397146],\n",
       "         [0.27159552],\n",
       "         [0.27159552],\n",
       "         [0.97383277],\n",
       "         [0.97383277]])}}"
      ]
     },
     "execution_count": 1,
     "metadata": {},
     "output_type": "execute_result"
    }
   ],
   "source": [
    "ds = load_by_id(run_id_a)\n",
    "ds.get_parameter_data('x1')"
   ]
  },
  {
   "cell_type": "code",
   "execution_count": null,
   "metadata": {},
   "outputs": [],
   "source": []
  }
 ],
 "metadata": {
  "kernelspec": {
   "display_name": "Python 3",
   "language": "python",
   "name": "python3"
  },
  "language_info": {
   "codemirror_mode": {
    "name": "ipython",
    "version": 3
   },
   "file_extension": ".py",
   "mimetype": "text/x-python",
   "name": "python",
   "nbconvert_exporter": "python",
   "pygments_lexer": "ipython3",
   "version": "3.7.9"
  },
  "nbsphinx": {
   "timeout": 600
  },
  "toc": {
   "base_numbering": 1,
   "nav_menu": {},
   "number_sections": true,
   "sideBar": true,
   "skip_h1_title": false,
   "title_cell": "Table of Contents",
   "title_sidebar": "Contents",
   "toc_cell": false,
   "toc_position": {},
   "toc_section_display": true,
   "toc_window_display": false
  },
  "varInspector": {
   "cols": {
    "lenName": 16,
    "lenType": 16,
    "lenVar": 40
   },
   "kernels_config": {
    "python": {
     "delete_cmd_postfix": "",
     "delete_cmd_prefix": "del ",
     "library": "var_list.py",
     "varRefreshCmd": "print(var_dic_list())"
    },
    "r": {
     "delete_cmd_postfix": ") ",
     "delete_cmd_prefix": "rm(",
     "library": "var_list.r",
     "varRefreshCmd": "cat(var_dic_list()) "
    }
   },
   "types_to_exclude": [
    "module",
    "function",
    "builtin_function_or_method",
    "instance",
    "_Feature"
   ],
   "window_display": false
  }
 },
 "nbformat": 4,
 "nbformat_minor": 2
}
