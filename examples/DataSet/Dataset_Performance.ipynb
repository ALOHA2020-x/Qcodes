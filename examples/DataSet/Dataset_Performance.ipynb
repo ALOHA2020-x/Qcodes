{
 "cells": [
  {
   "cell_type": "markdown",
   "metadata": {},
   "source": [
    "# DataSet Performance\n",
    "\n",
    "This notebook shows the trade-off between inserting data into a database row-by-row and as binary blobs. Inserting the data row-by-row means that we have direct access to all the data and may perform queries directly on the values of the data. On the other hand, as we shall see, this is much slower than inserting the data directly as binary blobs."
   ]
  },
  {
   "cell_type": "markdown",
   "metadata": {},
   "source": [
    "First, we choose a new location for the database to ensure that we don't add a bunch of benchmarking data to the default one."
   ]
  },
  {
   "cell_type": "code",
   "execution_count": 1,
   "metadata": {},
   "outputs": [
    {
     "name": "stdout",
     "output_type": "stream",
     "text": [
      "Logging hadn't been started.\n",
      "Activating auto-logging. Current session state plus future input saved.\n",
      "Filename       : /home/vsts/.qcodes/logs/command_history.log\n",
      "Mode           : append\n",
      "Output logging : True\n",
      "Raw input log  : False\n",
      "Timestamping   : True\n",
      "State          : active\n"
     ]
    },
    {
     "name": "stdout",
     "output_type": "stream",
     "text": [
      "Qcodes Logfile : /home/vsts/.qcodes/logs/200519-19859-qcodes.log\n"
     ]
    }
   ],
   "source": [
    "import os\n",
    "cwd = os.getcwd()\n",
    "import qcodes as qc\n",
    "qc.config[\"core\"][\"db_location\"] = os.path.join(cwd, 'testing.db')\n"
   ]
  },
  {
   "cell_type": "code",
   "execution_count": 2,
   "metadata": {},
   "outputs": [],
   "source": [
    "%matplotlib inline\n",
    "import time\n",
    "import matplotlib.pyplot as plt\n",
    "import numpy as np\n",
    "\n",
    "import qcodes as qc\n",
    "from qcodes.instrument.parameter import ManualParameter\n",
    "from qcodes.dataset.experiment_container import (Experiment,\n",
    "                                                 load_last_experiment,\n",
    "                                                 new_experiment)\n",
    "from qcodes.dataset.sqlite.database import initialise_database\n",
    "from qcodes import load_or_create_experiment\n",
    "from qcodes.dataset.measurements import Measurement"
   ]
  },
  {
   "cell_type": "code",
   "execution_count": 3,
   "metadata": {},
   "outputs": [
    {
     "name": "stdout",
     "output_type": "stream",
     "text": [
      "\r",
      "0it [00:00, ?it/s]"
     ]
    },
    {
     "name": "stdout",
     "output_type": "stream",
     "text": [
      "\r",
      "Upgrading database; v0 -> v1: : 0it [00:00, ?it/s]"
     ]
    },
    {
     "name": "stdout",
     "output_type": "stream",
     "text": [
      "\r",
      "Upgrading database; v0 -> v1: : 0it [00:00, ?it/s]"
     ]
    },
    {
     "name": "stdout",
     "output_type": "stream",
     "text": [
      "\n",
      "\r",
      "  0%|          | 0/1 [00:00<?, ?it/s]"
     ]
    },
    {
     "name": "stdout",
     "output_type": "stream",
     "text": [
      "\r",
      "Upgrading database; v1 -> v2:   0%|          | 0/1 [00:00<?, ?it/s]"
     ]
    },
    {
     "name": "stdout",
     "output_type": "stream",
     "text": [
      "\r",
      "Upgrading database; v1 -> v2: 100%|██████████| 1/1 [00:00<00:00, 845.63it/s]"
     ]
    },
    {
     "name": "stdout",
     "output_type": "stream",
     "text": [
      "\n",
      "\r",
      "0it [00:00, ?it/s]"
     ]
    },
    {
     "name": "stdout",
     "output_type": "stream",
     "text": [
      "\r",
      "Upgrading database; v2 -> v3: : 0it [00:00, ?it/s]"
     ]
    },
    {
     "name": "stdout",
     "output_type": "stream",
     "text": [
      "\r",
      "Upgrading database; v2 -> v3: : 0it [00:00, ?it/s]"
     ]
    },
    {
     "name": "stdout",
     "output_type": "stream",
     "text": [
      "\n",
      "\r",
      "0it [00:00, ?it/s]"
     ]
    },
    {
     "name": "stdout",
     "output_type": "stream",
     "text": [
      "\r",
      "Upgrading database; v3 -> v4: : 0it [00:00, ?it/s]"
     ]
    },
    {
     "name": "stdout",
     "output_type": "stream",
     "text": [
      "\r",
      "Upgrading database; v3 -> v4: : 0it [00:00, ?it/s]"
     ]
    },
    {
     "name": "stdout",
     "output_type": "stream",
     "text": [
      "\n",
      "\r",
      "  0%|          | 0/1 [00:00<?, ?it/s]"
     ]
    },
    {
     "name": "stdout",
     "output_type": "stream",
     "text": [
      "\r",
      "Upgrading database; v4 -> v5:   0%|          | 0/1 [00:00<?, ?it/s]"
     ]
    },
    {
     "name": "stdout",
     "output_type": "stream",
     "text": [
      "\r",
      "Upgrading database; v4 -> v5: 100%|██████████| 1/1 [00:00<00:00, 826.46it/s]"
     ]
    },
    {
     "name": "stdout",
     "output_type": "stream",
     "text": [
      "\n",
      "\r",
      "0it [00:00, ?it/s]"
     ]
    },
    {
     "name": "stdout",
     "output_type": "stream",
     "text": [
      "\r",
      "Upgrading database; v5 -> v6: : 0it [00:00, ?it/s]"
     ]
    },
    {
     "name": "stdout",
     "output_type": "stream",
     "text": [
      "\r",
      "Upgrading database; v5 -> v6: : 0it [00:00, ?it/s]"
     ]
    },
    {
     "name": "stdout",
     "output_type": "stream",
     "text": [
      "\n",
      "\r",
      "  0%|          | 0/1 [00:00<?, ?it/s]"
     ]
    },
    {
     "name": "stdout",
     "output_type": "stream",
     "text": [
      "\r",
      "Upgrading database; v6 -> v7:   0%|          | 0/1 [00:00<?, ?it/s]"
     ]
    },
    {
     "name": "stdout",
     "output_type": "stream",
     "text": [
      "\r",
      "Upgrading database; v6 -> v7: 100%|██████████| 1/1 [00:00<00:00, 390.79it/s]"
     ]
    },
    {
     "name": "stdout",
     "output_type": "stream",
     "text": [
      "\n",
      "\r",
      "  0%|          | 0/1 [00:00<?, ?it/s]"
     ]
    },
    {
     "name": "stdout",
     "output_type": "stream",
     "text": [
      "\r",
      "Upgrading database; v7 -> v8:   0%|          | 0/1 [00:00<?, ?it/s]"
     ]
    },
    {
     "name": "stdout",
     "output_type": "stream",
     "text": [
      "\r",
      "Upgrading database; v7 -> v8: 100%|██████████| 1/1 [00:00<00:00, 830.39it/s]"
     ]
    },
    {
     "name": "stdout",
     "output_type": "stream",
     "text": [
      "\n",
      "\r",
      "  0%|          | 0/1 [00:00<?, ?it/s]"
     ]
    },
    {
     "name": "stdout",
     "output_type": "stream",
     "text": [
      "\r",
      "Upgrading database; v8 -> v9:   0%|          | 0/1 [00:00<?, ?it/s]"
     ]
    },
    {
     "name": "stdout",
     "output_type": "stream",
     "text": [
      "\r",
      "Upgrading database; v8 -> v9: 100%|██████████| 1/1 [00:00<00:00, 1068.88it/s]"
     ]
    },
    {
     "name": "stdout",
     "output_type": "stream",
     "text": [
      "\n"
     ]
    }
   ],
   "source": [
    "initialise_database()\n",
    "exp = load_or_create_experiment(experiment_name='tutorial_exp', sample_name=\"no sample\")"
   ]
  },
  {
   "cell_type": "markdown",
   "metadata": {},
   "source": [
    "Here, we define a simple function to benchmark the time it takes to insert n points with either numeric or array data type.\n",
    "We will compare both the time used to call ``add_result`` and the time used for the full measurement."
   ]
  },
  {
   "cell_type": "code",
   "execution_count": 4,
   "metadata": {},
   "outputs": [],
   "source": [
    "def insert_data(paramtype, npoints, nreps=1):\n",
    "\n",
    "    meas = Measurement(exp=exp)\n",
    "\n",
    "    x1 = ManualParameter('x1')\n",
    "    x2 = ManualParameter('x2')\n",
    "    x3 = ManualParameter('x3')\n",
    "    y1 = ManualParameter('y1')\n",
    "    y2 = ManualParameter('y2')\n",
    "\n",
    "    meas.register_parameter(x1, paramtype=paramtype)\n",
    "    meas.register_parameter(x2, paramtype=paramtype)\n",
    "    meas.register_parameter(x3, paramtype=paramtype)\n",
    "    meas.register_parameter(y1, setpoints=[x1, x2, x3],\n",
    "                            paramtype=paramtype)\n",
    "    meas.register_parameter(y2, setpoints=[x1, x2, x3],\n",
    "                            paramtype=paramtype)\n",
    "    start = time.perf_counter()\n",
    "    with meas.run() as datasaver:\n",
    "        start_adding = time.perf_counter()\n",
    "        for i in range(nreps):\n",
    "            datasaver.add_result((x1, np.random.rand(npoints)),\n",
    "                                 (x2, np.random.rand(npoints)),\n",
    "                                 (x3, np.random.rand(npoints)),\n",
    "                                 (y1, np.random.rand(npoints)),\n",
    "                                 (y2, np.random.rand(npoints)))\n",
    "        stop_adding = time.perf_counter()\n",
    "        run_id = datasaver.run_id\n",
    "    stop = time.perf_counter()\n",
    "    tot_time = stop - start\n",
    "    add_time = stop_adding - start_adding\n",
    "    return tot_time, add_time, run_id"
   ]
  },
  {
   "cell_type": "markdown",
   "metadata": {},
   "source": [
    "## Comparison between numeric/array data and binary blob"
   ]
  },
  {
   "cell_type": "markdown",
   "metadata": {},
   "source": [
    "### Case1: Short experiment time"
   ]
  },
  {
   "cell_type": "code",
   "execution_count": 5,
   "metadata": {},
   "outputs": [
    {
     "name": "stdout",
     "output_type": "stream",
     "text": [
      "Starting experimental run with id: 1. \n",
      "Starting experimental run with id: 2. \n",
      "Starting experimental run with id: 3. \n"
     ]
    },
    {
     "name": "stdout",
     "output_type": "stream",
     "text": [
      "Starting experimental run with id: 4. \n"
     ]
    },
    {
     "name": "stdout",
     "output_type": "stream",
     "text": [
      "Starting experimental run with id: 5. \n"
     ]
    },
    {
     "name": "stdout",
     "output_type": "stream",
     "text": [
      "Starting experimental run with id: 6. \n"
     ]
    },
    {
     "name": "stdout",
     "output_type": "stream",
     "text": [
      "Starting experimental run with id: 7. \n"
     ]
    },
    {
     "name": "stdout",
     "output_type": "stream",
     "text": [
      "Starting experimental run with id: 8. \n"
     ]
    },
    {
     "name": "stdout",
     "output_type": "stream",
     "text": [
      "Starting experimental run with id: 9. \n"
     ]
    },
    {
     "name": "stdout",
     "output_type": "stream",
     "text": [
      "Starting experimental run with id: 10. \n",
      "Starting experimental run with id: 11. \n"
     ]
    },
    {
     "name": "stdout",
     "output_type": "stream",
     "text": [
      "Starting experimental run with id: 12. \n"
     ]
    },
    {
     "name": "stdout",
     "output_type": "stream",
     "text": [
      "Starting experimental run with id: 13. \n"
     ]
    },
    {
     "name": "stdout",
     "output_type": "stream",
     "text": [
      "Starting experimental run with id: 14. \n"
     ]
    }
   ],
   "source": [
    "sizes = [1,500,1000,2000,3000,4000,5000]\n",
    "t_numeric = []\n",
    "t_numeric_add = []\n",
    "t_array = []\n",
    "t_array_add = []\n",
    "for size in sizes:\n",
    "    tn, tna, run_id_n =  insert_data('numeric', size)\n",
    "    t_numeric.append(tn)\n",
    "    t_numeric_add.append(tna)\n",
    "\n",
    "    ta, taa, run_id_a =  insert_data('array', size)\n",
    "    t_array.append(ta)\n",
    "    t_array_add.append(taa)"
   ]
  },
  {
   "cell_type": "code",
   "execution_count": 6,
   "metadata": {},
   "outputs": [
    {
     "data": {
      "image/png": "[encoded data removed]",
      "text/plain": [
       "<Figure size 432x288 with 1 Axes>"
      ]
     },
     "metadata": {
      "needs_background": "light"
     },
     "output_type": "display_data"
    }
   ],
   "source": [
    "fig, ax = plt.subplots(1,1)\n",
    "ax.plot(sizes, t_numeric, 'o-', label='Inserting row-by-row')\n",
    "ax.plot(sizes, t_numeric_add, 'o-', label='Inserting row-by-row: add_result only')\n",
    "ax.plot(sizes, t_array, 'd-', label='Inserting as binary blob')\n",
    "ax.plot(sizes, t_array_add, 'd-', label='Inserting as binary blob: add_result only')\n",
    "ax.legend()\n",
    "ax.set_xlabel('Array length')\n",
    "ax.set_ylabel('Time (s)')\n",
    "fig.tight_layout()"
   ]
  },
  {
   "cell_type": "markdown",
   "metadata": {},
   "source": [
    "As shown in the latter figure, the time to setup and and close the experiment is approximately 0.4 sec. In case of small array sizes, the difference between inserting values of data as arrays and inserting them row-by-row is relatively unimportant. At larger array sizes, i.e. above 10000 points, the cost of writing data as individual datapoints starts to become important.\n"
   ]
  },
  {
   "cell_type": "markdown",
   "metadata": {},
   "source": [
    "### Case2: Long experiment time "
   ]
  },
  {
   "cell_type": "code",
   "execution_count": 7,
   "metadata": {},
   "outputs": [
    {
     "name": "stdout",
     "output_type": "stream",
     "text": [
      "Starting experimental run with id: 15. \n",
      "Starting experimental run with id: 16. \n",
      "Starting experimental run with id: 17. \n"
     ]
    },
    {
     "name": "stdout",
     "output_type": "stream",
     "text": [
      "Starting experimental run with id: 18. \n",
      "Starting experimental run with id: 19. \n"
     ]
    },
    {
     "name": "stdout",
     "output_type": "stream",
     "text": [
      "Starting experimental run with id: 20. \n"
     ]
    },
    {
     "name": "stdout",
     "output_type": "stream",
     "text": [
      "Starting experimental run with id: 21. \n"
     ]
    },
    {
     "name": "stdout",
     "output_type": "stream",
     "text": [
      "Starting experimental run with id: 22. \n"
     ]
    },
    {
     "name": "stdout",
     "output_type": "stream",
     "text": [
      "Starting experimental run with id: 23. \n"
     ]
    },
    {
     "name": "stdout",
     "output_type": "stream",
     "text": [
      "Starting experimental run with id: 24. \n"
     ]
    },
    {
     "name": "stdout",
     "output_type": "stream",
     "text": [
      "Starting experimental run with id: 25. \n"
     ]
    },
    {
     "name": "stdout",
     "output_type": "stream",
     "text": [
      "Starting experimental run with id: 26. \n"
     ]
    },
    {
     "name": "stdout",
     "output_type": "stream",
     "text": [
      "Starting experimental run with id: 27. \n"
     ]
    },
    {
     "name": "stdout",
     "output_type": "stream",
     "text": [
      "Starting experimental run with id: 28. \n"
     ]
    }
   ],
   "source": [
    "sizes = [1,500,1000,2000,3000,4000,5000]\n",
    "nreps = 100\n",
    "t_numeric = []\n",
    "t_numeric_add = []\n",
    "t_numeric_run_ids = []\n",
    "t_array = []\n",
    "t_array_add = []\n",
    "t_array_run_ids = []\n",
    "for size in sizes:\n",
    "    tn, tna, run_id_n =  insert_data('numeric', size, nreps=nreps)\n",
    "    t_numeric.append(tn)\n",
    "    t_numeric_add.append(tna)\n",
    "    t_numeric_run_ids.append(run_id_n)\n",
    "\n",
    "    ta, taa, run_id_a =  insert_data('array', size, nreps=nreps)\n",
    "    t_array.append(ta)\n",
    "    t_array_add.append(taa)\n",
    "    t_array_run_ids.append(run_id_a)"
   ]
  },
  {
   "cell_type": "code",
   "execution_count": 8,
   "metadata": {
    "scrolled": true
   },
   "outputs": [
    {
     "data": {
      "image/png": "[encoded data removed]",
      "text/plain": [
       "<Figure size 432x288 with 1 Axes>"
      ]
     },
     "metadata": {
      "needs_background": "light"
     },
     "output_type": "display_data"
    }
   ],
   "source": [
    "fig, ax = plt.subplots(1,1)\n",
    "ax.plot(sizes, t_numeric, 'o-', label='Inserting row-by-row')\n",
    "ax.plot(sizes, t_numeric_add, 'o-', label='Inserting row-by-row: add_result only')\n",
    "ax.plot(sizes, t_array, 'd-', label='Inserting as binary blob')\n",
    "ax.plot(sizes, t_array_add, 'd-', label='Inserting as binary blob: add_result only')\n",
    "ax.legend()\n",
    "ax.set_xlabel('Array length')\n",
    "ax.set_ylabel('Time (s)')\n",
    "fig.tight_layout()"
   ]
  },
  {
   "cell_type": "markdown",
   "metadata": {},
   "source": [
    "However, as we increase the length of the experiment, as seen here by repeating the insertion 100 times, we see a big difference between inserting values of the data row-by-row and inserting it as a binary blob."
   ]
  },
  {
   "cell_type": "markdown",
   "metadata": {},
   "source": [
    "## Loading the data "
   ]
  },
  {
   "cell_type": "code",
   "execution_count": 9,
   "metadata": {},
   "outputs": [],
   "source": [
    "from qcodes.dataset.data_set import load_by_id\n",
    "from qcodes.dataset.data_export import get_data_by_id"
   ]
  },
  {
   "cell_type": "markdown",
   "metadata": {},
   "source": [
    "As usual you can load the data by using the ``load_by_id`` function but you will notice that the different storage methods\n",
    "are reflected in shape of the data as it is retrieved. "
   ]
  },
  {
   "cell_type": "code",
   "execution_count": 10,
   "metadata": {},
   "outputs": [],
   "source": [
    "run_id_n = t_numeric_run_ids[0]\n",
    "run_id_a = t_array_run_ids[0]"
   ]
  },
  {
   "cell_type": "code",
   "execution_count": 11,
   "metadata": {
    "scrolled": true
   },
   "outputs": [
    {
     "data": {
      "text/plain": [
       "{'x1': {'x1': array([0.57209751, 0.57209751, 0.09935726, 0.09935726, 0.9104602 ,\n",
       "         0.9104602 , 0.39703044, 0.39703044, 0.90427238, 0.90427238,\n",
       "         0.72362564, 0.72362564, 0.40412496, 0.40412496, 0.97230761,\n",
       "         0.97230761, 0.45656767, 0.45656767, 0.69772505, 0.69772505,\n",
       "         0.17446829, 0.17446829, 0.34291819, 0.34291819, 0.69048549,\n",
       "         0.69048549, 0.71199777, 0.71199777, 0.98364399, 0.98364399,\n",
       "         0.02531445, 0.02531445, 0.21918036, 0.21918036, 0.36323036,\n",
       "         0.36323036, 0.89402893, 0.89402893, 0.98732585, 0.98732585,\n",
       "         0.23058971, 0.23058971, 0.385643  , 0.385643  , 0.72311486,\n",
       "         0.72311486, 0.75363622, 0.75363622, 0.62271078, 0.62271078,\n",
       "         0.37722007, 0.37722007, 0.35691526, 0.35691526, 0.61915891,\n",
       "         0.61915891, 0.03744368, 0.03744368, 0.1967448 , 0.1967448 ,\n",
       "         0.63068843, 0.63068843, 0.55520918, 0.55520918, 0.3234268 ,\n",
       "         0.3234268 , 0.0394182 , 0.0394182 , 0.42513941, 0.42513941,\n",
       "         0.33873452, 0.33873452, 0.67733283, 0.67733283, 0.79723588,\n",
       "         0.79723588, 0.55589067, 0.55589067, 0.71601001, 0.71601001,\n",
       "         0.29154063, 0.29154063, 0.10823223, 0.10823223, 0.97423721,\n",
       "         0.97423721, 0.10344712, 0.10344712, 0.06613626, 0.06613626,\n",
       "         0.35450388, 0.35450388, 0.87944935, 0.87944935, 0.45364076,\n",
       "         0.45364076, 0.94302666, 0.94302666, 0.98781798, 0.98781798,\n",
       "         0.6368007 , 0.6368007 , 0.99070402, 0.99070402, 0.74834655,\n",
       "         0.74834655, 0.1096734 , 0.1096734 , 0.81910008, 0.81910008,\n",
       "         0.09333828, 0.09333828, 0.38937246, 0.38937246, 0.58636141,\n",
       "         0.58636141, 0.93638225, 0.93638225, 0.26648677, 0.26648677,\n",
       "         0.74513933, 0.74513933, 0.4822009 , 0.4822009 , 0.11841282,\n",
       "         0.11841282, 0.3696918 , 0.3696918 , 0.80022117, 0.80022117,\n",
       "         0.79971363, 0.79971363, 0.65790804, 0.65790804, 0.78461741,\n",
       "         0.78461741, 0.10871291, 0.10871291, 0.3468152 , 0.3468152 ,\n",
       "         0.99670277, 0.99670277, 0.69516264, 0.69516264, 0.79021091,\n",
       "         0.79021091, 0.81988508, 0.81988508, 0.69564251, 0.69564251,\n",
       "         0.29272323, 0.29272323, 0.40771085, 0.40771085, 0.4178478 ,\n",
       "         0.4178478 , 0.9196066 , 0.9196066 , 0.24073354, 0.24073354,\n",
       "         0.61810646, 0.61810646, 0.94407871, 0.94407871, 0.75778469,\n",
       "         0.75778469, 0.66131103, 0.66131103, 0.91726616, 0.91726616,\n",
       "         0.72452389, 0.72452389, 0.37968192, 0.37968192, 0.57203027,\n",
       "         0.57203027, 0.89162709, 0.89162709, 0.00182336, 0.00182336,\n",
       "         0.37834745, 0.37834745, 0.3583836 , 0.3583836 , 0.12694598,\n",
       "         0.12694598, 0.28550433, 0.28550433, 0.44558093, 0.44558093,\n",
       "         0.54188505, 0.54188505, 0.64047385, 0.64047385, 0.02606596,\n",
       "         0.02606596, 0.03653546, 0.03653546, 0.23422708, 0.23422708])}}"
      ]
     },
     "execution_count": 11,
     "metadata": {},
     "output_type": "execute_result"
    }
   ],
   "source": [
    "ds = load_by_id(run_id_n)\n",
    "ds.get_parameter_data('x1')"
   ]
  },
  {
   "cell_type": "markdown",
   "metadata": {},
   "source": [
    "And a dataset stored as binary arrays"
   ]
  },
  {
   "cell_type": "code",
   "execution_count": 12,
   "metadata": {
    "scrolled": true
   },
   "outputs": [
    {
     "data": {
      "text/plain": [
       "{'x1': {'x1': array([[0.10739791],\n",
       "         [0.10739791],\n",
       "         [0.64559027],\n",
       "         [0.64559027],\n",
       "         [0.31095529],\n",
       "         [0.31095529],\n",
       "         [0.17409661],\n",
       "         [0.17409661],\n",
       "         [0.83718567],\n",
       "         [0.83718567],\n",
       "         [0.94460621],\n",
       "         [0.94460621],\n",
       "         [0.03103612],\n",
       "         [0.03103612],\n",
       "         [0.58543735],\n",
       "         [0.58543735],\n",
       "         [0.3236576 ],\n",
       "         [0.3236576 ],\n",
       "         [0.97252214],\n",
       "         [0.97252214],\n",
       "         [0.22270986],\n",
       "         [0.22270986],\n",
       "         [0.50074024],\n",
       "         [0.50074024],\n",
       "         [0.16333409],\n",
       "         [0.16333409],\n",
       "         [0.6150961 ],\n",
       "         [0.6150961 ],\n",
       "         [0.45128498],\n",
       "         [0.45128498],\n",
       "         [0.8968289 ],\n",
       "         [0.8968289 ],\n",
       "         [0.13843998],\n",
       "         [0.13843998],\n",
       "         [0.73974799],\n",
       "         [0.73974799],\n",
       "         [0.93742505],\n",
       "         [0.93742505],\n",
       "         [0.55841589],\n",
       "         [0.55841589],\n",
       "         [0.81613269],\n",
       "         [0.81613269],\n",
       "         [0.0371028 ],\n",
       "         [0.0371028 ],\n",
       "         [0.49259235],\n",
       "         [0.49259235],\n",
       "         [0.22739638],\n",
       "         [0.22739638],\n",
       "         [0.81009258],\n",
       "         [0.81009258],\n",
       "         [0.41282088],\n",
       "         [0.41282088],\n",
       "         [0.24098818],\n",
       "         [0.24098818],\n",
       "         [0.04072862],\n",
       "         [0.04072862],\n",
       "         [0.33024359],\n",
       "         [0.33024359],\n",
       "         [0.69247247],\n",
       "         [0.69247247],\n",
       "         [0.02362498],\n",
       "         [0.02362498],\n",
       "         [0.22868821],\n",
       "         [0.22868821],\n",
       "         [0.77534864],\n",
       "         [0.77534864],\n",
       "         [0.40708614],\n",
       "         [0.40708614],\n",
       "         [0.77170923],\n",
       "         [0.77170923],\n",
       "         [0.87370739],\n",
       "         [0.87370739],\n",
       "         [0.72335151],\n",
       "         [0.72335151],\n",
       "         [0.68935488],\n",
       "         [0.68935488],\n",
       "         [0.02519497],\n",
       "         [0.02519497],\n",
       "         [0.73323719],\n",
       "         [0.73323719],\n",
       "         [0.6302565 ],\n",
       "         [0.6302565 ],\n",
       "         [0.7301252 ],\n",
       "         [0.7301252 ],\n",
       "         [0.04538589],\n",
       "         [0.04538589],\n",
       "         [0.22050565],\n",
       "         [0.22050565],\n",
       "         [0.51929873],\n",
       "         [0.51929873],\n",
       "         [0.77686267],\n",
       "         [0.77686267],\n",
       "         [0.1644619 ],\n",
       "         [0.1644619 ],\n",
       "         [0.11370639],\n",
       "         [0.11370639],\n",
       "         [0.626132  ],\n",
       "         [0.626132  ],\n",
       "         [0.24871422],\n",
       "         [0.24871422],\n",
       "         [0.99279671],\n",
       "         [0.99279671],\n",
       "         [0.62926497],\n",
       "         [0.62926497],\n",
       "         [0.26765966],\n",
       "         [0.26765966],\n",
       "         [0.68712771],\n",
       "         [0.68712771],\n",
       "         [0.17406749],\n",
       "         [0.17406749],\n",
       "         [0.4840924 ],\n",
       "         [0.4840924 ],\n",
       "         [0.814354  ],\n",
       "         [0.814354  ],\n",
       "         [0.23821092],\n",
       "         [0.23821092],\n",
       "         [0.03624323],\n",
       "         [0.03624323],\n",
       "         [0.36895712],\n",
       "         [0.36895712],\n",
       "         [0.73266699],\n",
       "         [0.73266699],\n",
       "         [0.6216354 ],\n",
       "         [0.6216354 ],\n",
       "         [0.80938395],\n",
       "         [0.80938395],\n",
       "         [0.89426714],\n",
       "         [0.89426714],\n",
       "         [0.081176  ],\n",
       "         [0.081176  ],\n",
       "         [0.06804195],\n",
       "         [0.06804195],\n",
       "         [0.13638638],\n",
       "         [0.13638638],\n",
       "         [0.06001706],\n",
       "         [0.06001706],\n",
       "         [0.90974727],\n",
       "         [0.90974727],\n",
       "         [0.963798  ],\n",
       "         [0.963798  ],\n",
       "         [0.16686546],\n",
       "         [0.16686546],\n",
       "         [0.9497421 ],\n",
       "         [0.9497421 ],\n",
       "         [0.97990572],\n",
       "         [0.97990572],\n",
       "         [0.48129424],\n",
       "         [0.48129424],\n",
       "         [0.35847434],\n",
       "         [0.35847434],\n",
       "         [0.61615069],\n",
       "         [0.61615069],\n",
       "         [0.3997182 ],\n",
       "         [0.3997182 ],\n",
       "         [0.02760286],\n",
       "         [0.02760286],\n",
       "         [0.24070201],\n",
       "         [0.24070201],\n",
       "         [0.90554651],\n",
       "         [0.90554651],\n",
       "         [0.91637131],\n",
       "         [0.91637131],\n",
       "         [0.50847788],\n",
       "         [0.50847788],\n",
       "         [0.94893442],\n",
       "         [0.94893442],\n",
       "         [0.12249761],\n",
       "         [0.12249761],\n",
       "         [0.04378671],\n",
       "         [0.04378671],\n",
       "         [0.87518445],\n",
       "         [0.87518445],\n",
       "         [0.88779175],\n",
       "         [0.88779175],\n",
       "         [0.36428311],\n",
       "         [0.36428311],\n",
       "         [0.31066772],\n",
       "         [0.31066772],\n",
       "         [0.57315905],\n",
       "         [0.57315905],\n",
       "         [0.27919452],\n",
       "         [0.27919452],\n",
       "         [0.7981718 ],\n",
       "         [0.7981718 ],\n",
       "         [0.28237461],\n",
       "         [0.28237461],\n",
       "         [0.226709  ],\n",
       "         [0.226709  ],\n",
       "         [0.21679323],\n",
       "         [0.21679323],\n",
       "         [0.30538805],\n",
       "         [0.30538805],\n",
       "         [0.22621013],\n",
       "         [0.22621013],\n",
       "         [0.81612831],\n",
       "         [0.81612831],\n",
       "         [0.14204057],\n",
       "         [0.14204057],\n",
       "         [0.78301705],\n",
       "         [0.78301705]])}}"
      ]
     },
     "execution_count": 12,
     "metadata": {},
     "output_type": "execute_result"
    }
   ],
   "source": [
    "ds = load_by_id(run_id_a)\n",
    "ds.get_parameter_data('x1')"
   ]
  },
  {
   "cell_type": "code",
   "execution_count": null,
   "metadata": {},
   "outputs": [],
   "source": []
  }
 ],
 "metadata": {
  "kernelspec": {
   "display_name": "Python 3",
   "language": "python",
   "name": "python3"
  },
  "language_info": {
   "codemirror_mode": {
    "name": "ipython",
    "version": 3
   },
   "file_extension": ".py",
   "mimetype": "text/x-python",
   "name": "python",
   "nbconvert_exporter": "python",
   "pygments_lexer": "ipython3",
   "version": "3.7.7"
  },
  "nbsphinx": {
   "timeout": 600
  },
  "toc": {
   "base_numbering": 1,
   "nav_menu": {},
   "number_sections": true,
   "sideBar": true,
   "skip_h1_title": false,
   "title_cell": "Table of Contents",
   "title_sidebar": "Contents",
   "toc_cell": false,
   "toc_position": {},
   "toc_section_display": true,
   "toc_window_display": false
  },
  "varInspector": {
   "cols": {
    "lenName": 16,
    "lenType": 16,
    "lenVar": 40
   },
   "kernels_config": {
    "python": {
     "delete_cmd_postfix": "",
     "delete_cmd_prefix": "del ",
     "library": "var_list.py",
     "varRefreshCmd": "print(var_dic_list())"
    },
    "r": {
     "delete_cmd_postfix": ") ",
     "delete_cmd_prefix": "rm(",
     "library": "var_list.r",
     "varRefreshCmd": "cat(var_dic_list()) "
    }
   },
   "types_to_exclude": [
    "module",
    "function",
    "builtin_function_or_method",
    "instance",
    "_Feature"
   ],
   "window_display": false
  }
 },
 "nbformat": 4,
 "nbformat_minor": 2
}
