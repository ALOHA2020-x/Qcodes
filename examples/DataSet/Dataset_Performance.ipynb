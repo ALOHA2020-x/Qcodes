{
 "cells": [
  {
   "cell_type": "markdown",
   "metadata": {},
   "source": [
    "# DataSet Performance\n",
    "\n",
    "This notebook shows the trade-off between inserting data into a database row-by-row and as binary blobs. Inserting the data row-by-row means that we have direct access to all the data and may perform queries directly on the values of the data. On the other hand, as we shall see, this is much slower than inserting the data directly as binary blobs."
   ]
  },
  {
   "cell_type": "markdown",
   "metadata": {},
   "source": [
    "First, we choose a new location for the database to ensure that we don't add a bunch of benchmarking data to the default one."
   ]
  },
  {
   "cell_type": "code",
   "execution_count": 1,
   "metadata": {},
   "outputs": [
    {
     "name": "stdout",
     "output_type": "stream",
     "text": [
      "Logging hadn't been started.\n",
      "Activating auto-logging. Current session state plus future input saved.\n",
      "Filename       : /home/vsts/.qcodes/logs/command_history.log\n",
      "Mode           : append\n",
      "Output logging : True\n",
      "Raw input log  : False\n",
      "Timestamping   : True\n",
      "State          : active\n"
     ]
    },
    {
     "name": "stdout",
     "output_type": "stream",
     "text": [
      "Qcodes Logfile : /home/vsts/.qcodes/logs/200325-19706-qcodes.log\n"
     ]
    }
   ],
   "source": [
    "import os\n",
    "cwd = os.getcwd()\n",
    "import qcodes as qc\n",
    "qc.config[\"core\"][\"db_location\"] = os.path.join(cwd, 'testing.db')\n"
   ]
  },
  {
   "cell_type": "code",
   "execution_count": 2,
   "metadata": {},
   "outputs": [],
   "source": [
    "%matplotlib inline\n",
    "import time\n",
    "import matplotlib.pyplot as plt\n",
    "import numpy as np\n",
    "\n",
    "import qcodes as qc\n",
    "from qcodes.instrument.parameter import ManualParameter\n",
    "from qcodes.dataset.experiment_container import (Experiment,\n",
    "                                                 load_last_experiment,\n",
    "                                                 new_experiment)\n",
    "from qcodes.dataset.sqlite.database import initialise_database\n",
    "from qcodes import load_or_create_experiment\n",
    "from qcodes.dataset.measurements import Measurement"
   ]
  },
  {
   "cell_type": "code",
   "execution_count": 3,
   "metadata": {},
   "outputs": [
    {
     "name": "stdout",
     "output_type": "stream",
     "text": [
      "\r",
      "0it [00:00, ?it/s]"
     ]
    },
    {
     "name": "stdout",
     "output_type": "stream",
     "text": [
      "\r",
      "Upgrading database; v0 -> v1: : 0it [00:00, ?it/s]"
     ]
    },
    {
     "name": "stdout",
     "output_type": "stream",
     "text": [
      "\r",
      "Upgrading database; v0 -> v1: : 0it [00:00, ?it/s]"
     ]
    },
    {
     "name": "stdout",
     "output_type": "stream",
     "text": [
      "\n",
      "\r",
      "  0%|          | 0/1 [00:00<?, ?it/s]"
     ]
    },
    {
     "name": "stdout",
     "output_type": "stream",
     "text": [
      "\r",
      "Upgrading database; v1 -> v2:   0%|          | 0/1 [00:00<?, ?it/s]"
     ]
    },
    {
     "name": "stdout",
     "output_type": "stream",
     "text": [
      "\r",
      "Upgrading database; v1 -> v2: 100%|██████████| 1/1 [00:00<00:00, 930.83it/s]"
     ]
    },
    {
     "name": "stdout",
     "output_type": "stream",
     "text": [
      "\n",
      "\r",
      "0it [00:00, ?it/s]"
     ]
    },
    {
     "name": "stdout",
     "output_type": "stream",
     "text": [
      "\r",
      "Upgrading database; v2 -> v3: : 0it [00:00, ?it/s]"
     ]
    },
    {
     "name": "stdout",
     "output_type": "stream",
     "text": [
      "\r",
      "Upgrading database; v2 -> v3: : 0it [00:00, ?it/s]"
     ]
    },
    {
     "name": "stdout",
     "output_type": "stream",
     "text": [
      "\n",
      "\r",
      "0it [00:00, ?it/s]"
     ]
    },
    {
     "name": "stdout",
     "output_type": "stream",
     "text": [
      "\r",
      "Upgrading database; v3 -> v4: : 0it [00:00, ?it/s]"
     ]
    },
    {
     "name": "stdout",
     "output_type": "stream",
     "text": [
      "\r",
      "Upgrading database; v3 -> v4: : 0it [00:00, ?it/s]"
     ]
    },
    {
     "name": "stdout",
     "output_type": "stream",
     "text": [
      "\n",
      "\r",
      "  0%|          | 0/1 [00:00<?, ?it/s]"
     ]
    },
    {
     "name": "stdout",
     "output_type": "stream",
     "text": [
      "\r",
      "Upgrading database; v4 -> v5:   0%|          | 0/1 [00:00<?, ?it/s]"
     ]
    },
    {
     "name": "stdout",
     "output_type": "stream",
     "text": [
      "\r",
      "Upgrading database; v4 -> v5: 100%|██████████| 1/1 [00:00<00:00, 650.48it/s]"
     ]
    },
    {
     "name": "stdout",
     "output_type": "stream",
     "text": [
      "\n",
      "\r",
      "0it [00:00, ?it/s]"
     ]
    },
    {
     "name": "stdout",
     "output_type": "stream",
     "text": [
      "\r",
      "Upgrading database; v5 -> v6: : 0it [00:00, ?it/s]"
     ]
    },
    {
     "name": "stdout",
     "output_type": "stream",
     "text": [
      "\r",
      "Upgrading database; v5 -> v6: : 0it [00:00, ?it/s]"
     ]
    },
    {
     "name": "stdout",
     "output_type": "stream",
     "text": [
      "\n",
      "\r",
      "  0%|          | 0/1 [00:00<?, ?it/s]"
     ]
    },
    {
     "name": "stdout",
     "output_type": "stream",
     "text": [
      "\r",
      "Upgrading database; v6 -> v7:   0%|          | 0/1 [00:00<?, ?it/s]"
     ]
    },
    {
     "name": "stdout",
     "output_type": "stream",
     "text": [
      "\r",
      "Upgrading database; v6 -> v7: 100%|██████████| 1/1 [00:00<00:00, 416.47it/s]"
     ]
    },
    {
     "name": "stdout",
     "output_type": "stream",
     "text": [
      "\n",
      "\r",
      "  0%|          | 0/1 [00:00<?, ?it/s]"
     ]
    },
    {
     "name": "stdout",
     "output_type": "stream",
     "text": [
      "\r",
      "Upgrading database; v7 -> v8:   0%|          | 0/1 [00:00<?, ?it/s]"
     ]
    },
    {
     "name": "stdout",
     "output_type": "stream",
     "text": [
      "\r",
      "Upgrading database; v7 -> v8: 100%|██████████| 1/1 [00:00<00:00, 512.94it/s]"
     ]
    },
    {
     "name": "stdout",
     "output_type": "stream",
     "text": [
      "\n",
      "\r",
      "  0%|          | 0/1 [00:00<?, ?it/s]"
     ]
    },
    {
     "name": "stdout",
     "output_type": "stream",
     "text": [
      "\r",
      "Upgrading database; v8 -> v9:   0%|          | 0/1 [00:00<?, ?it/s]"
     ]
    },
    {
     "name": "stdout",
     "output_type": "stream",
     "text": [
      "\r",
      "Upgrading database; v8 -> v9: 100%|██████████| 1/1 [00:00<00:00, 1029.02it/s]"
     ]
    },
    {
     "name": "stdout",
     "output_type": "stream",
     "text": [
      "\n"
     ]
    }
   ],
   "source": [
    "initialise_database()\n",
    "exp = load_or_create_experiment(experiment_name='tutorial_exp', sample_name=\"no sample\")"
   ]
  },
  {
   "cell_type": "markdown",
   "metadata": {},
   "source": [
    "Here, we define a simple function to benchmark the time it takes to insert n points with either numeric or array data type.\n",
    "We will compare both the time used to call ``add_result`` and the time used for the full measurement."
   ]
  },
  {
   "cell_type": "code",
   "execution_count": 4,
   "metadata": {},
   "outputs": [],
   "source": [
    "def insert_data(paramtype, npoints, nreps=1):\n",
    "\n",
    "    meas = Measurement(exp=exp)\n",
    "\n",
    "    x1 = ManualParameter('x1')\n",
    "    x2 = ManualParameter('x2')\n",
    "    x3 = ManualParameter('x3')\n",
    "    y1 = ManualParameter('y1')\n",
    "    y2 = ManualParameter('y2')\n",
    "\n",
    "    meas.register_parameter(x1, paramtype=paramtype)\n",
    "    meas.register_parameter(x2, paramtype=paramtype)\n",
    "    meas.register_parameter(x3, paramtype=paramtype)\n",
    "    meas.register_parameter(y1, setpoints=[x1, x2, x3],\n",
    "                            paramtype=paramtype)\n",
    "    meas.register_parameter(y2, setpoints=[x1, x2, x3],\n",
    "                            paramtype=paramtype)\n",
    "    start = time.perf_counter()\n",
    "    with meas.run() as datasaver:\n",
    "        start_adding = time.perf_counter()\n",
    "        for i in range(nreps):\n",
    "            datasaver.add_result((x1, np.random.rand(npoints)),\n",
    "                                 (x2, np.random.rand(npoints)),\n",
    "                                 (x3, np.random.rand(npoints)),\n",
    "                                 (y1, np.random.rand(npoints)),\n",
    "                                 (y2, np.random.rand(npoints)))\n",
    "        stop_adding = time.perf_counter()\n",
    "        run_id = datasaver.run_id\n",
    "    stop = time.perf_counter()\n",
    "    tot_time = stop - start\n",
    "    add_time = stop_adding - start_adding\n",
    "    return tot_time, add_time, run_id"
   ]
  },
  {
   "cell_type": "markdown",
   "metadata": {},
   "source": [
    "## Comparison between numeric/array data and binary blob"
   ]
  },
  {
   "cell_type": "markdown",
   "metadata": {},
   "source": [
    "### Case1: Short experiment time"
   ]
  },
  {
   "cell_type": "code",
   "execution_count": 5,
   "metadata": {},
   "outputs": [
    {
     "name": "stdout",
     "output_type": "stream",
     "text": [
      "Starting experimental run with id: 1. \n",
      "Starting experimental run with id: 2. \n"
     ]
    },
    {
     "name": "stdout",
     "output_type": "stream",
     "text": [
      "Starting experimental run with id: 3. \n"
     ]
    },
    {
     "name": "stdout",
     "output_type": "stream",
     "text": [
      "Starting experimental run with id: 4. \n"
     ]
    },
    {
     "name": "stdout",
     "output_type": "stream",
     "text": [
      "Starting experimental run with id: 5. \n"
     ]
    },
    {
     "name": "stdout",
     "output_type": "stream",
     "text": [
      "Starting experimental run with id: 6. \n",
      "Starting experimental run with id: 7. \n"
     ]
    },
    {
     "name": "stdout",
     "output_type": "stream",
     "text": [
      "Starting experimental run with id: 8. \n",
      "Starting experimental run with id: 9. \n"
     ]
    },
    {
     "name": "stdout",
     "output_type": "stream",
     "text": [
      "Starting experimental run with id: 10. \n",
      "Starting experimental run with id: 11. \n"
     ]
    },
    {
     "name": "stdout",
     "output_type": "stream",
     "text": [
      "Starting experimental run with id: 12. \n",
      "Starting experimental run with id: 13. \n"
     ]
    },
    {
     "name": "stdout",
     "output_type": "stream",
     "text": [
      "Starting experimental run with id: 14. \n"
     ]
    }
   ],
   "source": [
    "sizes = [1,500,1000,2000,3000,4000,5000]\n",
    "t_numeric = []\n",
    "t_numeric_add = []\n",
    "t_array = []\n",
    "t_array_add = []\n",
    "for size in sizes:\n",
    "    tn, tna, run_id_n =  insert_data('numeric', size)\n",
    "    t_numeric.append(tn)\n",
    "    t_numeric_add.append(tna)\n",
    "\n",
    "    ta, taa, run_id_a =  insert_data('array', size)\n",
    "    t_array.append(ta)\n",
    "    t_array_add.append(taa)"
   ]
  },
  {
   "cell_type": "code",
   "execution_count": 6,
   "metadata": {},
   "outputs": [
    {
     "data": {
      "image/png": "[encoded data removed]",
      "text/plain": [
       "<Figure size 432x288 with 1 Axes>"
      ]
     },
     "metadata": {
      "needs_background": "light"
     },
     "output_type": "display_data"
    }
   ],
   "source": [
    "fig, ax = plt.subplots(1,1)\n",
    "ax.plot(sizes, t_numeric, 'o-', label='Inserting row-by-row')\n",
    "ax.plot(sizes, t_numeric_add, 'o-', label='Inserting row-by-row: add_result only')\n",
    "ax.plot(sizes, t_array, 'd-', label='Inserting as binary blob')\n",
    "ax.plot(sizes, t_array_add, 'd-', label='Inserting as binary blob: add_result only')\n",
    "ax.legend()\n",
    "ax.set_xlabel('Array length')\n",
    "ax.set_ylabel('Time (s)')\n",
    "fig.tight_layout()"
   ]
  },
  {
   "cell_type": "markdown",
   "metadata": {},
   "source": [
    "As shown in the latter figure, the time to setup and and close the experiment is approximately 0.4 sec. In case of small array sizes, the difference between inserting values of data as arrays and inserting them row-by-row is relatively unimportant. At larger array sizes, i.e. above 10000 points, the cost of writing data as individual datapoints starts to become important.\n"
   ]
  },
  {
   "cell_type": "markdown",
   "metadata": {},
   "source": [
    "### Case2: Long experiment time "
   ]
  },
  {
   "cell_type": "code",
   "execution_count": 7,
   "metadata": {},
   "outputs": [
    {
     "name": "stdout",
     "output_type": "stream",
     "text": [
      "Starting experimental run with id: 15. \n",
      "Starting experimental run with id: 16. \n"
     ]
    },
    {
     "name": "stdout",
     "output_type": "stream",
     "text": [
      "Starting experimental run with id: 17. \n"
     ]
    },
    {
     "name": "stdout",
     "output_type": "stream",
     "text": [
      "Starting experimental run with id: 18. \n",
      "Starting experimental run with id: 19. \n"
     ]
    },
    {
     "name": "stdout",
     "output_type": "stream",
     "text": [
      "Starting experimental run with id: 20. \n"
     ]
    },
    {
     "name": "stdout",
     "output_type": "stream",
     "text": [
      "Starting experimental run with id: 21. \n"
     ]
    },
    {
     "name": "stdout",
     "output_type": "stream",
     "text": [
      "Starting experimental run with id: 22. \n"
     ]
    },
    {
     "name": "stdout",
     "output_type": "stream",
     "text": [
      "Starting experimental run with id: 23. \n"
     ]
    },
    {
     "name": "stdout",
     "output_type": "stream",
     "text": [
      "Starting experimental run with id: 24. \n"
     ]
    },
    {
     "name": "stdout",
     "output_type": "stream",
     "text": [
      "Starting experimental run with id: 25. \n"
     ]
    },
    {
     "name": "stdout",
     "output_type": "stream",
     "text": [
      "Starting experimental run with id: 26. \n"
     ]
    },
    {
     "name": "stdout",
     "output_type": "stream",
     "text": [
      "Starting experimental run with id: 27. \n"
     ]
    },
    {
     "name": "stdout",
     "output_type": "stream",
     "text": [
      "Starting experimental run with id: 28. \n"
     ]
    }
   ],
   "source": [
    "sizes = [1,500,1000,2000,3000,4000,5000]\n",
    "nreps = 100\n",
    "t_numeric = []\n",
    "t_numeric_add = []\n",
    "t_numeric_run_ids = []\n",
    "t_array = []\n",
    "t_array_add = []\n",
    "t_array_run_ids = []\n",
    "for size in sizes:\n",
    "    tn, tna, run_id_n =  insert_data('numeric', size, nreps=nreps)\n",
    "    t_numeric.append(tn)\n",
    "    t_numeric_add.append(tna)\n",
    "    t_numeric_run_ids.append(run_id_n)\n",
    "\n",
    "    ta, taa, run_id_a =  insert_data('array', size, nreps=nreps)\n",
    "    t_array.append(ta)\n",
    "    t_array_add.append(taa)\n",
    "    t_array_run_ids.append(run_id_a)"
   ]
  },
  {
   "cell_type": "code",
   "execution_count": 8,
   "metadata": {
    "scrolled": true
   },
   "outputs": [
    {
     "data": {
      "image/png": "[encoded data removed]",
      "text/plain": [
       "<Figure size 432x288 with 1 Axes>"
      ]
     },
     "metadata": {
      "needs_background": "light"
     },
     "output_type": "display_data"
    }
   ],
   "source": [
    "fig, ax = plt.subplots(1,1)\n",
    "ax.plot(sizes, t_numeric, 'o-', label='Inserting row-by-row')\n",
    "ax.plot(sizes, t_numeric_add, 'o-', label='Inserting row-by-row: add_result only')\n",
    "ax.plot(sizes, t_array, 'd-', label='Inserting as binary blob')\n",
    "ax.plot(sizes, t_array_add, 'd-', label='Inserting as binary blob: add_result only')\n",
    "ax.legend()\n",
    "ax.set_xlabel('Array length')\n",
    "ax.set_ylabel('Time (s)')\n",
    "fig.tight_layout()"
   ]
  },
  {
   "cell_type": "markdown",
   "metadata": {},
   "source": [
    "However, as we increase the length of the experiment, as seen here by repeating the insertion 100 times, we see a big difference between inserting values of the data row-by-row and inserting it as a binary blob."
   ]
  },
  {
   "cell_type": "markdown",
   "metadata": {},
   "source": [
    "## Loading the data "
   ]
  },
  {
   "cell_type": "code",
   "execution_count": 9,
   "metadata": {},
   "outputs": [],
   "source": [
    "from qcodes.dataset.data_set import load_by_id\n",
    "from qcodes.dataset.data_export import get_data_by_id"
   ]
  },
  {
   "cell_type": "markdown",
   "metadata": {},
   "source": [
    "As usual you can load the data by using the ``load_by_id`` function but you will notice that the different storage methods\n",
    "are reflected in shape of the data as it is retrieved. "
   ]
  },
  {
   "cell_type": "code",
   "execution_count": 10,
   "metadata": {},
   "outputs": [],
   "source": [
    "run_id_n = t_numeric_run_ids[0]\n",
    "run_id_a = t_array_run_ids[0]"
   ]
  },
  {
   "cell_type": "code",
   "execution_count": 11,
   "metadata": {
    "scrolled": true
   },
   "outputs": [
    {
     "data": {
      "text/plain": [
       "{'x1': {'x1': array([4.32679112e-01, 4.32679112e-01, 1.02512911e-01, 1.02512911e-01,\n",
       "         7.50122981e-01, 7.50122981e-01, 6.80054082e-01, 6.80054082e-01,\n",
       "         4.44111245e-01, 4.44111245e-01, 8.08174392e-01, 8.08174392e-01,\n",
       "         5.92069724e-01, 5.92069724e-01, 6.44834299e-01, 6.44834299e-01,\n",
       "         9.67763327e-01, 9.67763327e-01, 2.98025201e-01, 2.98025201e-01,\n",
       "         4.00561223e-01, 4.00561223e-01, 5.06610463e-01, 5.06610463e-01,\n",
       "         5.55315418e-01, 5.55315418e-01, 8.68810138e-01, 8.68810138e-01,\n",
       "         9.88958248e-01, 9.88958248e-01, 1.21529216e-01, 1.21529216e-01,\n",
       "         7.77749976e-01, 7.77749976e-01, 7.21017562e-01, 7.21017562e-01,\n",
       "         9.47540883e-01, 9.47540883e-01, 2.79174717e-01, 2.79174717e-01,\n",
       "         6.09250658e-01, 6.09250658e-01, 8.64052519e-01, 8.64052519e-01,\n",
       "         2.23532834e-01, 2.23532834e-01, 3.96998146e-01, 3.96998146e-01,\n",
       "         2.82390709e-01, 2.82390709e-01, 5.60731185e-01, 5.60731185e-01,\n",
       "         9.52738477e-01, 9.52738477e-01, 9.42890025e-01, 9.42890025e-01,\n",
       "         7.82572735e-01, 7.82572735e-01, 3.30735036e-01, 3.30735036e-01,\n",
       "         7.88197272e-01, 7.88197272e-01, 4.69536397e-01, 4.69536397e-01,\n",
       "         9.82194355e-01, 9.82194355e-01, 4.70392452e-01, 4.70392452e-01,\n",
       "         6.76310211e-01, 6.76310211e-01, 7.24064252e-01, 7.24064252e-01,\n",
       "         3.69273247e-01, 3.69273247e-01, 5.91621660e-01, 5.91621660e-01,\n",
       "         8.66826680e-01, 8.66826680e-01, 7.63335605e-01, 7.63335605e-01,\n",
       "         9.09593543e-01, 9.09593543e-01, 4.75350431e-01, 4.75350431e-01,\n",
       "         6.91422260e-01, 6.91422260e-01, 5.19027996e-01, 5.19027996e-01,\n",
       "         6.19349459e-01, 6.19349459e-01, 8.49584217e-01, 8.49584217e-01,\n",
       "         4.27692647e-01, 4.27692647e-01, 3.93638237e-04, 3.93638237e-04,\n",
       "         5.35927525e-01, 5.35927525e-01, 9.80850996e-01, 9.80850996e-01,\n",
       "         7.94550426e-01, 7.94550426e-01, 7.27592584e-01, 7.27592584e-01,\n",
       "         3.73532577e-01, 3.73532577e-01, 5.12580213e-02, 5.12580213e-02,\n",
       "         5.14562113e-01, 5.14562113e-01, 7.73570068e-02, 7.73570068e-02,\n",
       "         6.85080993e-01, 6.85080993e-01, 1.19692104e-01, 1.19692104e-01,\n",
       "         6.67578124e-01, 6.67578124e-01, 5.62270023e-01, 5.62270023e-01,\n",
       "         9.95482853e-01, 9.95482853e-01, 3.20749309e-01, 3.20749309e-01,\n",
       "         8.29334708e-01, 8.29334708e-01, 3.07274155e-01, 3.07274155e-01,\n",
       "         3.57805809e-01, 3.57805809e-01, 6.63407114e-01, 6.63407114e-01,\n",
       "         2.31027415e-03, 2.31027415e-03, 1.94283575e-01, 1.94283575e-01,\n",
       "         9.43002985e-02, 9.43002985e-02, 5.36436261e-01, 5.36436261e-01,\n",
       "         1.13015824e-01, 1.13015824e-01, 8.50412112e-01, 8.50412112e-01,\n",
       "         9.54697366e-01, 9.54697366e-01, 7.66964790e-01, 7.66964790e-01,\n",
       "         8.63507502e-01, 8.63507502e-01, 1.14174164e-01, 1.14174164e-01,\n",
       "         3.04217418e-01, 3.04217418e-01, 5.73822535e-01, 5.73822535e-01,\n",
       "         4.26347778e-01, 4.26347778e-01, 1.32219217e-01, 1.32219217e-01,\n",
       "         7.18633420e-01, 7.18633420e-01, 5.63094370e-01, 5.63094370e-01,\n",
       "         1.47091817e-01, 1.47091817e-01, 7.29222144e-01, 7.29222144e-01,\n",
       "         4.68052638e-01, 4.68052638e-01, 6.68763232e-01, 6.68763232e-01,\n",
       "         3.65978221e-01, 3.65978221e-01, 4.09598187e-01, 4.09598187e-01,\n",
       "         1.66288521e-01, 1.66288521e-01, 3.46838547e-01, 3.46838547e-01,\n",
       "         4.29600907e-01, 4.29600907e-01, 5.72565378e-01, 5.72565378e-01,\n",
       "         7.08541459e-01, 7.08541459e-01, 2.14269247e-01, 2.14269247e-01,\n",
       "         9.01924728e-01, 9.01924728e-01, 9.53501593e-01, 9.53501593e-01,\n",
       "         9.28828441e-02, 9.28828441e-02, 4.36006487e-01, 4.36006487e-01,\n",
       "         4.74354288e-02, 4.74354288e-02, 9.81834989e-01, 9.81834989e-01])}}"
      ]
     },
     "execution_count": 11,
     "metadata": {},
     "output_type": "execute_result"
    }
   ],
   "source": [
    "ds = load_by_id(run_id_n)\n",
    "ds.get_parameter_data('x1')"
   ]
  },
  {
   "cell_type": "markdown",
   "metadata": {},
   "source": [
    "And a dataset stored as binary arrays"
   ]
  },
  {
   "cell_type": "code",
   "execution_count": 12,
   "metadata": {
    "scrolled": true
   },
   "outputs": [
    {
     "data": {
      "text/plain": [
       "{'x1': {'x1': array([[0.72586969],\n",
       "         [0.72586969],\n",
       "         [0.76674812],\n",
       "         [0.76674812],\n",
       "         [0.64161563],\n",
       "         [0.64161563],\n",
       "         [0.35455029],\n",
       "         [0.35455029],\n",
       "         [0.05365277],\n",
       "         [0.05365277],\n",
       "         [0.56192485],\n",
       "         [0.56192485],\n",
       "         [0.68790823],\n",
       "         [0.68790823],\n",
       "         [0.32637329],\n",
       "         [0.32637329],\n",
       "         [0.98774422],\n",
       "         [0.98774422],\n",
       "         [0.49291601],\n",
       "         [0.49291601],\n",
       "         [0.24735872],\n",
       "         [0.24735872],\n",
       "         [0.10343527],\n",
       "         [0.10343527],\n",
       "         [0.2233883 ],\n",
       "         [0.2233883 ],\n",
       "         [0.20392476],\n",
       "         [0.20392476],\n",
       "         [0.82095463],\n",
       "         [0.82095463],\n",
       "         [0.01558139],\n",
       "         [0.01558139],\n",
       "         [0.04188733],\n",
       "         [0.04188733],\n",
       "         [0.12854372],\n",
       "         [0.12854372],\n",
       "         [0.56710659],\n",
       "         [0.56710659],\n",
       "         [0.07263205],\n",
       "         [0.07263205],\n",
       "         [0.81870697],\n",
       "         [0.81870697],\n",
       "         [0.26714314],\n",
       "         [0.26714314],\n",
       "         [0.36644956],\n",
       "         [0.36644956],\n",
       "         [0.08366699],\n",
       "         [0.08366699],\n",
       "         [0.1887073 ],\n",
       "         [0.1887073 ],\n",
       "         [0.20076496],\n",
       "         [0.20076496],\n",
       "         [0.61694762],\n",
       "         [0.61694762],\n",
       "         [0.96055567],\n",
       "         [0.96055567],\n",
       "         [0.72257822],\n",
       "         [0.72257822],\n",
       "         [0.97759577],\n",
       "         [0.97759577],\n",
       "         [0.82472739],\n",
       "         [0.82472739],\n",
       "         [0.36024592],\n",
       "         [0.36024592],\n",
       "         [0.74912811],\n",
       "         [0.74912811],\n",
       "         [0.14127046],\n",
       "         [0.14127046],\n",
       "         [0.00349717],\n",
       "         [0.00349717],\n",
       "         [0.02506289],\n",
       "         [0.02506289],\n",
       "         [0.26827755],\n",
       "         [0.26827755],\n",
       "         [0.2363918 ],\n",
       "         [0.2363918 ],\n",
       "         [0.60146701],\n",
       "         [0.60146701],\n",
       "         [0.44801189],\n",
       "         [0.44801189],\n",
       "         [0.38055307],\n",
       "         [0.38055307],\n",
       "         [0.92105786],\n",
       "         [0.92105786],\n",
       "         [0.80056173],\n",
       "         [0.80056173],\n",
       "         [0.4241414 ],\n",
       "         [0.4241414 ],\n",
       "         [0.07860029],\n",
       "         [0.07860029],\n",
       "         [0.62211694],\n",
       "         [0.62211694],\n",
       "         [0.60600068],\n",
       "         [0.60600068],\n",
       "         [0.84190975],\n",
       "         [0.84190975],\n",
       "         [0.59522113],\n",
       "         [0.59522113],\n",
       "         [0.90271962],\n",
       "         [0.90271962],\n",
       "         [0.96999215],\n",
       "         [0.96999215],\n",
       "         [0.31808606],\n",
       "         [0.31808606],\n",
       "         [0.67197225],\n",
       "         [0.67197225],\n",
       "         [0.0569552 ],\n",
       "         [0.0569552 ],\n",
       "         [0.38545508],\n",
       "         [0.38545508],\n",
       "         [0.70627987],\n",
       "         [0.70627987],\n",
       "         [0.06946505],\n",
       "         [0.06946505],\n",
       "         [0.1155963 ],\n",
       "         [0.1155963 ],\n",
       "         [0.83717965],\n",
       "         [0.83717965],\n",
       "         [0.44724505],\n",
       "         [0.44724505],\n",
       "         [0.89658915],\n",
       "         [0.89658915],\n",
       "         [0.21647537],\n",
       "         [0.21647537],\n",
       "         [0.10161554],\n",
       "         [0.10161554],\n",
       "         [0.22580554],\n",
       "         [0.22580554],\n",
       "         [0.89047582],\n",
       "         [0.89047582],\n",
       "         [0.16579097],\n",
       "         [0.16579097],\n",
       "         [0.13435174],\n",
       "         [0.13435174],\n",
       "         [0.60377853],\n",
       "         [0.60377853],\n",
       "         [0.28148415],\n",
       "         [0.28148415],\n",
       "         [0.9887904 ],\n",
       "         [0.9887904 ],\n",
       "         [0.03574717],\n",
       "         [0.03574717],\n",
       "         [0.08278005],\n",
       "         [0.08278005],\n",
       "         [0.51746421],\n",
       "         [0.51746421],\n",
       "         [0.45597386],\n",
       "         [0.45597386],\n",
       "         [0.94254339],\n",
       "         [0.94254339],\n",
       "         [0.7223696 ],\n",
       "         [0.7223696 ],\n",
       "         [0.51366632],\n",
       "         [0.51366632],\n",
       "         [0.74650029],\n",
       "         [0.74650029],\n",
       "         [0.61998106],\n",
       "         [0.61998106],\n",
       "         [0.57561511],\n",
       "         [0.57561511],\n",
       "         [0.73793456],\n",
       "         [0.73793456],\n",
       "         [0.08907368],\n",
       "         [0.08907368],\n",
       "         [0.12072069],\n",
       "         [0.12072069],\n",
       "         [0.29909344],\n",
       "         [0.29909344],\n",
       "         [0.48410912],\n",
       "         [0.48410912],\n",
       "         [0.27246744],\n",
       "         [0.27246744],\n",
       "         [0.02655878],\n",
       "         [0.02655878],\n",
       "         [0.46054096],\n",
       "         [0.46054096],\n",
       "         [0.92542695],\n",
       "         [0.92542695],\n",
       "         [0.58381381],\n",
       "         [0.58381381],\n",
       "         [0.95924369],\n",
       "         [0.95924369],\n",
       "         [0.95042504],\n",
       "         [0.95042504],\n",
       "         [0.18590788],\n",
       "         [0.18590788],\n",
       "         [0.42865269],\n",
       "         [0.42865269],\n",
       "         [0.80508219],\n",
       "         [0.80508219],\n",
       "         [0.41639855],\n",
       "         [0.41639855],\n",
       "         [0.66464563],\n",
       "         [0.66464563],\n",
       "         [0.74320859],\n",
       "         [0.74320859],\n",
       "         [0.65732357],\n",
       "         [0.65732357],\n",
       "         [0.18428928],\n",
       "         [0.18428928]])}}"
      ]
     },
     "execution_count": 12,
     "metadata": {},
     "output_type": "execute_result"
    }
   ],
   "source": [
    "ds = load_by_id(run_id_a)\n",
    "ds.get_parameter_data('x1')"
   ]
  },
  {
   "cell_type": "code",
   "execution_count": null,
   "metadata": {},
   "outputs": [],
   "source": []
  }
 ],
 "metadata": {
  "kernelspec": {
   "display_name": "Python 3",
   "language": "python",
   "name": "python3"
  },
  "language_info": {
   "codemirror_mode": {
    "name": "ipython",
    "version": 3
   },
   "file_extension": ".py",
   "mimetype": "text/x-python",
   "name": "python",
   "nbconvert_exporter": "python",
   "pygments_lexer": "ipython3",
   "version": "3.7.7"
  },
  "nbsphinx": {
   "timeout": 600
  },
  "toc": {
   "base_numbering": 1,
   "nav_menu": {},
   "number_sections": true,
   "sideBar": true,
   "skip_h1_title": false,
   "title_cell": "Table of Contents",
   "title_sidebar": "Contents",
   "toc_cell": false,
   "toc_position": {},
   "toc_section_display": true,
   "toc_window_display": false
  },
  "varInspector": {
   "cols": {
    "lenName": 16,
    "lenType": 16,
    "lenVar": 40
   },
   "kernels_config": {
    "python": {
     "delete_cmd_postfix": "",
     "delete_cmd_prefix": "del ",
     "library": "var_list.py",
     "varRefreshCmd": "print(var_dic_list())"
    },
    "r": {
     "delete_cmd_postfix": ") ",
     "delete_cmd_prefix": "rm(",
     "library": "var_list.r",
     "varRefreshCmd": "cat(var_dic_list()) "
    }
   },
   "types_to_exclude": [
    "module",
    "function",
    "builtin_function_or_method",
    "instance",
    "_Feature"
   ],
   "window_display": false
  }
 },
 "nbformat": 4,
 "nbformat_minor": 2
}
