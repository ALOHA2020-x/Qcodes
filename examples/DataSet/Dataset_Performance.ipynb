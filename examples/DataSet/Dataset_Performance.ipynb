{
 "cells": [
  {
   "cell_type": "markdown",
   "metadata": {},
   "source": [
    "# DataSet Performance\n",
    "\n",
    "This notebook shows the trade-off between inserting data into a database row-by-row and as binary blobs. Inserting the data row-by-row means that we have direct access to all the data and may perform queries directly on the values of the data. On the other hand, as we shall see, this is much slower than inserting the data directly as binary blobs."
   ]
  },
  {
   "cell_type": "markdown",
   "metadata": {},
   "source": [
    "First, we choose a new location for the database to ensure that we don't add a bunch of benchmarking data to the default one."
   ]
  },
  {
   "cell_type": "code",
   "execution_count": 1,
   "metadata": {
    "execution": {
     "iopub.execute_input": "2021-01-12T14:13:20.148192Z",
     "iopub.status.busy": "2021-01-12T14:13:20.147683Z",
     "iopub.status.idle": "2021-01-12T14:13:21.286874Z",
     "shell.execute_reply": "2021-01-12T14:13:21.287319Z"
    }
   },
   "outputs": [
    {
     "name": "stdout",
     "output_type": "stream",
     "text": [
      "Logging hadn't been started.\n",
      "Activating auto-logging. Current session state plus future input saved.\n",
      "Filename       : /home/vsts/.qcodes/logs/command_history.log\n",
      "Mode           : append\n",
      "Output logging : True\n",
      "Raw input log  : False\n",
      "Timestamping   : True\n",
      "State          : active\n"
     ]
    },
    {
     "name": "stdout",
     "output_type": "stream",
     "text": [
      "Qcodes Logfile : /home/vsts/.qcodes/logs/210112-13320-qcodes.log\n"
     ]
    }
   ],
   "source": [
    "import os\n",
    "cwd = os.getcwd()\n",
    "import qcodes as qc\n",
    "qc.config[\"core\"][\"db_location\"] = os.path.join(cwd, 'testing.db')\n"
   ]
  },
  {
   "cell_type": "code",
   "execution_count": 2,
   "metadata": {
    "execution": {
     "iopub.execute_input": "2021-01-12T14:13:21.293626Z",
     "iopub.status.busy": "2021-01-12T14:13:21.293098Z",
     "iopub.status.idle": "2021-01-12T14:13:21.488299Z",
     "shell.execute_reply": "2021-01-12T14:13:21.487366Z"
    }
   },
   "outputs": [],
   "source": [
    "%matplotlib inline\n",
    "import time\n",
    "import matplotlib.pyplot as plt\n",
    "import numpy as np\n",
    "\n",
    "import qcodes as qc\n",
    "from qcodes.instrument.parameter import ManualParameter\n",
    "from qcodes.dataset.experiment_container import (Experiment,\n",
    "                                                 load_last_experiment,\n",
    "                                                 new_experiment)\n",
    "from qcodes.dataset.sqlite.database import initialise_database\n",
    "from qcodes import load_or_create_experiment\n",
    "from qcodes.dataset.measurements import Measurement"
   ]
  },
  {
   "cell_type": "code",
   "execution_count": 3,
   "metadata": {
    "execution": {
     "iopub.execute_input": "2021-01-12T14:13:21.491972Z",
     "iopub.status.busy": "2021-01-12T14:13:21.491425Z",
     "iopub.status.idle": "2021-01-12T14:13:21.611521Z",
     "shell.execute_reply": "2021-01-12T14:13:21.610968Z"
    }
   },
   "outputs": [
    {
     "name": "stdout",
     "output_type": "stream",
     "text": [
      "\r",
      "0it [00:00, ?it/s]"
     ]
    },
    {
     "name": "stdout",
     "output_type": "stream",
     "text": [
      "\r",
      "Upgrading database; v0 -> v1: : 0it [00:00, ?it/s]"
     ]
    },
    {
     "name": "stdout",
     "output_type": "stream",
     "text": [
      "\r",
      "Upgrading database; v0 -> v1: : 0it [00:00, ?it/s]"
     ]
    },
    {
     "name": "stdout",
     "output_type": "stream",
     "text": [
      "\n",
      "\r",
      "  0%|          | 0/1 [00:00<?, ?it/s]"
     ]
    },
    {
     "name": "stdout",
     "output_type": "stream",
     "text": [
      "\r",
      "Upgrading database; v1 -> v2:   0%|          | 0/1 [00:00<?, ?it/s]"
     ]
    },
    {
     "name": "stdout",
     "output_type": "stream",
     "text": [
      "\r",
      "Upgrading database; v1 -> v2: 100%|██████████| 1/1 [00:00<00:00, 552.75it/s]"
     ]
    },
    {
     "name": "stdout",
     "output_type": "stream",
     "text": [
      "\n",
      "\r",
      "0it [00:00, ?it/s]"
     ]
    },
    {
     "name": "stdout",
     "output_type": "stream",
     "text": [
      "\r",
      "Upgrading database; v2 -> v3: : 0it [00:00, ?it/s]"
     ]
    },
    {
     "name": "stdout",
     "output_type": "stream",
     "text": [
      "\r",
      "Upgrading database; v2 -> v3: : 0it [00:00, ?it/s]"
     ]
    },
    {
     "name": "stdout",
     "output_type": "stream",
     "text": [
      "\n",
      "\r",
      "0it [00:00, ?it/s]"
     ]
    },
    {
     "name": "stdout",
     "output_type": "stream",
     "text": [
      "\r",
      "Upgrading database; v3 -> v4: : 0it [00:00, ?it/s]"
     ]
    },
    {
     "name": "stdout",
     "output_type": "stream",
     "text": [
      "\r",
      "Upgrading database; v3 -> v4: : 0it [00:00, ?it/s]"
     ]
    },
    {
     "name": "stdout",
     "output_type": "stream",
     "text": [
      "\n",
      "\r",
      "  0%|          | 0/1 [00:00<?, ?it/s]"
     ]
    },
    {
     "name": "stdout",
     "output_type": "stream",
     "text": [
      "\r",
      "Upgrading database; v4 -> v5:   0%|          | 0/1 [00:00<?, ?it/s]"
     ]
    },
    {
     "name": "stdout",
     "output_type": "stream",
     "text": [
      "\r",
      "Upgrading database; v4 -> v5: 100%|██████████| 1/1 [00:00<00:00, 737.65it/s]"
     ]
    },
    {
     "name": "stdout",
     "output_type": "stream",
     "text": [
      "\n",
      "\r",
      "0it [00:00, ?it/s]"
     ]
    },
    {
     "name": "stdout",
     "output_type": "stream",
     "text": [
      "\r",
      "Upgrading database; v5 -> v6: : 0it [00:00, ?it/s]"
     ]
    },
    {
     "name": "stdout",
     "output_type": "stream",
     "text": [
      "\r",
      "Upgrading database; v5 -> v6: : 0it [00:00, ?it/s]"
     ]
    },
    {
     "name": "stdout",
     "output_type": "stream",
     "text": [
      "\n",
      "\r",
      "  0%|          | 0/1 [00:00<?, ?it/s]"
     ]
    },
    {
     "name": "stdout",
     "output_type": "stream",
     "text": [
      "\r",
      "Upgrading database; v6 -> v7:   0%|          | 0/1 [00:00<?, ?it/s]"
     ]
    },
    {
     "name": "stdout",
     "output_type": "stream",
     "text": [
      "\r",
      "Upgrading database; v6 -> v7: 100%|██████████| 1/1 [00:00<00:00, 342.81it/s]"
     ]
    },
    {
     "name": "stdout",
     "output_type": "stream",
     "text": [
      "\n",
      "\r",
      "  0%|          | 0/1 [00:00<?, ?it/s]"
     ]
    },
    {
     "name": "stdout",
     "output_type": "stream",
     "text": [
      "\r",
      "Upgrading database; v7 -> v8:   0%|          | 0/1 [00:00<?, ?it/s]"
     ]
    },
    {
     "name": "stdout",
     "output_type": "stream",
     "text": [
      "\r",
      "Upgrading database; v7 -> v8: 100%|██████████| 1/1 [00:00<00:00, 853.89it/s]"
     ]
    },
    {
     "name": "stdout",
     "output_type": "stream",
     "text": [
      "\n",
      "\r",
      "  0%|          | 0/1 [00:00<?, ?it/s]"
     ]
    },
    {
     "name": "stdout",
     "output_type": "stream",
     "text": [
      "\r",
      "Upgrading database; v8 -> v9:   0%|          | 0/1 [00:00<?, ?it/s]"
     ]
    },
    {
     "name": "stdout",
     "output_type": "stream",
     "text": [
      "\r",
      "Upgrading database; v8 -> v9: 100%|██████████| 1/1 [00:00<00:00, 840.71it/s]"
     ]
    },
    {
     "name": "stdout",
     "output_type": "stream",
     "text": [
      "\n"
     ]
    }
   ],
   "source": [
    "initialise_database()\n",
    "exp = load_or_create_experiment(experiment_name='tutorial_exp', sample_name=\"no sample\")"
   ]
  },
  {
   "cell_type": "markdown",
   "metadata": {},
   "source": [
    "Here, we define a simple function to benchmark the time it takes to insert n points with either numeric or array data type.\n",
    "We will compare both the time used to call ``add_result`` and the time used for the full measurement."
   ]
  },
  {
   "cell_type": "code",
   "execution_count": 4,
   "metadata": {
    "execution": {
     "iopub.execute_input": "2021-01-12T14:13:21.620705Z",
     "iopub.status.busy": "2021-01-12T14:13:21.619778Z",
     "iopub.status.idle": "2021-01-12T14:13:21.621756Z",
     "shell.execute_reply": "2021-01-12T14:13:21.622288Z"
    }
   },
   "outputs": [],
   "source": [
    "def insert_data(paramtype, npoints, nreps=1):\n",
    "\n",
    "    meas = Measurement(exp=exp)\n",
    "\n",
    "    x1 = ManualParameter('x1')\n",
    "    x2 = ManualParameter('x2')\n",
    "    x3 = ManualParameter('x3')\n",
    "    y1 = ManualParameter('y1')\n",
    "    y2 = ManualParameter('y2')\n",
    "\n",
    "    meas.register_parameter(x1, paramtype=paramtype)\n",
    "    meas.register_parameter(x2, paramtype=paramtype)\n",
    "    meas.register_parameter(x3, paramtype=paramtype)\n",
    "    meas.register_parameter(y1, setpoints=[x1, x2, x3],\n",
    "                            paramtype=paramtype)\n",
    "    meas.register_parameter(y2, setpoints=[x1, x2, x3],\n",
    "                            paramtype=paramtype)\n",
    "    start = time.perf_counter()\n",
    "    with meas.run() as datasaver:\n",
    "        start_adding = time.perf_counter()\n",
    "        for i in range(nreps):\n",
    "            datasaver.add_result((x1, np.random.rand(npoints)),\n",
    "                                 (x2, np.random.rand(npoints)),\n",
    "                                 (x3, np.random.rand(npoints)),\n",
    "                                 (y1, np.random.rand(npoints)),\n",
    "                                 (y2, np.random.rand(npoints)))\n",
    "        stop_adding = time.perf_counter()\n",
    "        run_id = datasaver.run_id\n",
    "    stop = time.perf_counter()\n",
    "    tot_time = stop - start\n",
    "    add_time = stop_adding - start_adding\n",
    "    return tot_time, add_time, run_id"
   ]
  },
  {
   "cell_type": "markdown",
   "metadata": {},
   "source": [
    "## Comparison between numeric/array data and binary blob"
   ]
  },
  {
   "cell_type": "markdown",
   "metadata": {},
   "source": [
    "### Case1: Short experiment time"
   ]
  },
  {
   "cell_type": "code",
   "execution_count": 5,
   "metadata": {
    "execution": {
     "iopub.execute_input": "2021-01-12T14:13:21.635393Z",
     "iopub.status.busy": "2021-01-12T14:13:21.634845Z",
     "iopub.status.idle": "2021-01-12T14:13:22.574273Z",
     "shell.execute_reply": "2021-01-12T14:13:22.573161Z"
    }
   },
   "outputs": [
    {
     "name": "stdout",
     "output_type": "stream",
     "text": [
      "Starting experimental run with id: 1. \n",
      "Starting experimental run with id: 2. \n",
      "Starting experimental run with id: 3. \n",
      "Starting experimental run with id: 4. \n"
     ]
    },
    {
     "name": "stdout",
     "output_type": "stream",
     "text": [
      "Starting experimental run with id: 5. \n"
     ]
    },
    {
     "name": "stdout",
     "output_type": "stream",
     "text": [
      "Starting experimental run with id: 6. \n"
     ]
    },
    {
     "name": "stdout",
     "output_type": "stream",
     "text": [
      "Starting experimental run with id: 7. \n"
     ]
    },
    {
     "name": "stdout",
     "output_type": "stream",
     "text": [
      "Starting experimental run with id: 8. \n",
      "Starting experimental run with id: 9. \n"
     ]
    },
    {
     "name": "stdout",
     "output_type": "stream",
     "text": [
      "Starting experimental run with id: 10. \n",
      "Starting experimental run with id: 11. \n"
     ]
    },
    {
     "name": "stdout",
     "output_type": "stream",
     "text": [
      "Starting experimental run with id: 12. \n"
     ]
    },
    {
     "name": "stdout",
     "output_type": "stream",
     "text": [
      "Starting experimental run with id: 13. \n"
     ]
    },
    {
     "name": "stdout",
     "output_type": "stream",
     "text": [
      "Starting experimental run with id: 14. \n"
     ]
    }
   ],
   "source": [
    "sizes = [1,500,1000,2000,3000,4000,5000]\n",
    "t_numeric = []\n",
    "t_numeric_add = []\n",
    "t_array = []\n",
    "t_array_add = []\n",
    "for size in sizes:\n",
    "    tn, tna, run_id_n =  insert_data('numeric', size)\n",
    "    t_numeric.append(tn)\n",
    "    t_numeric_add.append(tna)\n",
    "\n",
    "    ta, taa, run_id_a =  insert_data('array', size)\n",
    "    t_array.append(ta)\n",
    "    t_array_add.append(taa)"
   ]
  },
  {
   "cell_type": "code",
   "execution_count": 6,
   "metadata": {
    "execution": {
     "iopub.execute_input": "2021-01-12T14:13:22.596069Z",
     "iopub.status.busy": "2021-01-12T14:13:22.595519Z",
     "iopub.status.idle": "2021-01-12T14:13:22.795411Z",
     "shell.execute_reply": "2021-01-12T14:13:22.794932Z"
    }
   },
   "outputs": [
    {
     "data": {
      "image/png": "[encoded data removed]",
      "text/plain": [
       "<Figure size 432x288 with 1 Axes>"
      ]
     },
     "metadata": {
      "needs_background": "light"
     },
     "output_type": "display_data"
    }
   ],
   "source": [
    "fig, ax = plt.subplots(1,1)\n",
    "ax.plot(sizes, t_numeric, 'o-', label='Inserting row-by-row')\n",
    "ax.plot(sizes, t_numeric_add, 'o-', label='Inserting row-by-row: add_result only')\n",
    "ax.plot(sizes, t_array, 'd-', label='Inserting as binary blob')\n",
    "ax.plot(sizes, t_array_add, 'd-', label='Inserting as binary blob: add_result only')\n",
    "ax.legend()\n",
    "ax.set_xlabel('Array length')\n",
    "ax.set_ylabel('Time (s)')\n",
    "fig.tight_layout()"
   ]
  },
  {
   "cell_type": "markdown",
   "metadata": {},
   "source": [
    "As shown in the latter figure, the time to setup and and close the experiment is approximately 0.4 sec. In case of small array sizes, the difference between inserting values of data as arrays and inserting them row-by-row is relatively unimportant. At larger array sizes, i.e. above 10000 points, the cost of writing data as individual datapoints starts to become important.\n"
   ]
  },
  {
   "cell_type": "markdown",
   "metadata": {},
   "source": [
    "### Case2: Long experiment time "
   ]
  },
  {
   "cell_type": "code",
   "execution_count": 7,
   "metadata": {
    "execution": {
     "iopub.execute_input": "2021-01-12T14:13:22.803754Z",
     "iopub.status.busy": "2021-01-12T14:13:22.803021Z",
     "iopub.status.idle": "2021-01-12T14:14:25.511678Z",
     "shell.execute_reply": "2021-01-12T14:14:25.510778Z"
    }
   },
   "outputs": [
    {
     "name": "stdout",
     "output_type": "stream",
     "text": [
      "Starting experimental run with id: 15. \n",
      "Starting experimental run with id: 16. \n",
      "Starting experimental run with id: 17. \n"
     ]
    },
    {
     "name": "stdout",
     "output_type": "stream",
     "text": [
      "Starting experimental run with id: 18. \n",
      "Starting experimental run with id: 19. \n"
     ]
    },
    {
     "name": "stdout",
     "output_type": "stream",
     "text": [
      "Starting experimental run with id: 20. \n"
     ]
    },
    {
     "name": "stdout",
     "output_type": "stream",
     "text": [
      "Starting experimental run with id: 21. \n"
     ]
    },
    {
     "name": "stdout",
     "output_type": "stream",
     "text": [
      "Starting experimental run with id: 22. \n"
     ]
    },
    {
     "name": "stdout",
     "output_type": "stream",
     "text": [
      "Starting experimental run with id: 23. \n"
     ]
    },
    {
     "name": "stdout",
     "output_type": "stream",
     "text": [
      "Starting experimental run with id: 24. \n"
     ]
    },
    {
     "name": "stdout",
     "output_type": "stream",
     "text": [
      "Starting experimental run with id: 25. \n"
     ]
    },
    {
     "name": "stdout",
     "output_type": "stream",
     "text": [
      "Starting experimental run with id: 26. \n"
     ]
    },
    {
     "name": "stdout",
     "output_type": "stream",
     "text": [
      "Starting experimental run with id: 27. \n"
     ]
    },
    {
     "name": "stdout",
     "output_type": "stream",
     "text": [
      "Starting experimental run with id: 28. \n"
     ]
    }
   ],
   "source": [
    "sizes = [1,500,1000,2000,3000,4000,5000]\n",
    "nreps = 100\n",
    "t_numeric = []\n",
    "t_numeric_add = []\n",
    "t_numeric_run_ids = []\n",
    "t_array = []\n",
    "t_array_add = []\n",
    "t_array_run_ids = []\n",
    "for size in sizes:\n",
    "    tn, tna, run_id_n =  insert_data('numeric', size, nreps=nreps)\n",
    "    t_numeric.append(tn)\n",
    "    t_numeric_add.append(tna)\n",
    "    t_numeric_run_ids.append(run_id_n)\n",
    "\n",
    "    ta, taa, run_id_a =  insert_data('array', size, nreps=nreps)\n",
    "    t_array.append(ta)\n",
    "    t_array_add.append(taa)\n",
    "    t_array_run_ids.append(run_id_a)"
   ]
  },
  {
   "cell_type": "code",
   "execution_count": 8,
   "metadata": {
    "execution": {
     "iopub.execute_input": "2021-01-12T14:14:25.541295Z",
     "iopub.status.busy": "2021-01-12T14:14:25.517086Z",
     "iopub.status.idle": "2021-01-12T14:14:25.722000Z",
     "shell.execute_reply": "2021-01-12T14:14:25.721088Z"
    },
    "scrolled": true
   },
   "outputs": [
    {
     "data": {
      "image/png": "[encoded data removed]",
      "text/plain": [
       "<Figure size 432x288 with 1 Axes>"
      ]
     },
     "metadata": {
      "needs_background": "light"
     },
     "output_type": "display_data"
    }
   ],
   "source": [
    "fig, ax = plt.subplots(1,1)\n",
    "ax.plot(sizes, t_numeric, 'o-', label='Inserting row-by-row')\n",
    "ax.plot(sizes, t_numeric_add, 'o-', label='Inserting row-by-row: add_result only')\n",
    "ax.plot(sizes, t_array, 'd-', label='Inserting as binary blob')\n",
    "ax.plot(sizes, t_array_add, 'd-', label='Inserting as binary blob: add_result only')\n",
    "ax.legend()\n",
    "ax.set_xlabel('Array length')\n",
    "ax.set_ylabel('Time (s)')\n",
    "fig.tight_layout()"
   ]
  },
  {
   "cell_type": "markdown",
   "metadata": {},
   "source": [
    "However, as we increase the length of the experiment, as seen here by repeating the insertion 100 times, we see a big difference between inserting values of the data row-by-row and inserting it as a binary blob."
   ]
  },
  {
   "cell_type": "markdown",
   "metadata": {},
   "source": [
    "## Loading the data "
   ]
  },
  {
   "cell_type": "code",
   "execution_count": 9,
   "metadata": {
    "execution": {
     "iopub.execute_input": "2021-01-12T14:14:25.726413Z",
     "iopub.status.busy": "2021-01-12T14:14:25.725488Z",
     "iopub.status.idle": "2021-01-12T14:14:25.728938Z",
     "shell.execute_reply": "2021-01-12T14:14:25.729657Z"
    }
   },
   "outputs": [],
   "source": [
    "from qcodes.dataset.data_set import load_by_id\n",
    "from qcodes.dataset.data_export import get_data_by_id"
   ]
  },
  {
   "cell_type": "markdown",
   "metadata": {},
   "source": [
    "As usual you can load the data by using the ``load_by_id`` function but you will notice that the different storage methods\n",
    "are reflected in shape of the data as it is retrieved. "
   ]
  },
  {
   "cell_type": "code",
   "execution_count": 10,
   "metadata": {
    "execution": {
     "iopub.execute_input": "2021-01-12T14:14:25.734136Z",
     "iopub.status.busy": "2021-01-12T14:14:25.733117Z",
     "iopub.status.idle": "2021-01-12T14:14:25.734770Z",
     "shell.execute_reply": "2021-01-12T14:14:25.735293Z"
    }
   },
   "outputs": [],
   "source": [
    "run_id_n = t_numeric_run_ids[0]\n",
    "run_id_a = t_array_run_ids[0]"
   ]
  },
  {
   "cell_type": "code",
   "execution_count": 11,
   "metadata": {
    "execution": {
     "iopub.execute_input": "2021-01-12T14:14:25.738540Z",
     "iopub.status.busy": "2021-01-12T14:14:25.737888Z",
     "iopub.status.idle": "2021-01-12T14:14:25.747798Z",
     "shell.execute_reply": "2021-01-12T14:14:25.747348Z"
    },
    "scrolled": true
   },
   "outputs": [
    {
     "data": {
      "text/plain": [
       "{'x1': {'x1': array([0.12909952, 0.12909952, 0.67454552, 0.67454552, 0.75999869,\n",
       "         0.75999869, 0.82635639, 0.82635639, 0.69301674, 0.69301674,\n",
       "         0.84590039, 0.84590039, 0.63946651, 0.63946651, 0.65311935,\n",
       "         0.65311935, 0.7768085 , 0.7768085 , 0.31057906, 0.31057906,\n",
       "         0.7193532 , 0.7193532 , 0.13665323, 0.13665323, 0.83146943,\n",
       "         0.83146943, 0.15208317, 0.15208317, 0.05107492, 0.05107492,\n",
       "         0.33169511, 0.33169511, 0.64867498, 0.64867498, 0.42989032,\n",
       "         0.42989032, 0.56298715, 0.56298715, 0.01500129, 0.01500129,\n",
       "         0.00736511, 0.00736511, 0.52167926, 0.52167926, 0.71823485,\n",
       "         0.71823485, 0.29221522, 0.29221522, 0.72921179, 0.72921179,\n",
       "         0.67223828, 0.67223828, 0.79916621, 0.79916621, 0.40358031,\n",
       "         0.40358031, 0.27801353, 0.27801353, 0.46869332, 0.46869332,\n",
       "         0.22979591, 0.22979591, 0.33883847, 0.33883847, 0.74232302,\n",
       "         0.74232302, 0.18106025, 0.18106025, 0.9747162 , 0.9747162 ,\n",
       "         0.6895047 , 0.6895047 , 0.95597858, 0.95597858, 0.17339693,\n",
       "         0.17339693, 0.79705146, 0.79705146, 0.02230617, 0.02230617,\n",
       "         0.81020302, 0.81020302, 0.71507548, 0.71507548, 0.42286185,\n",
       "         0.42286185, 0.67248322, 0.67248322, 0.1540036 , 0.1540036 ,\n",
       "         0.34058829, 0.34058829, 0.64389557, 0.64389557, 0.0885925 ,\n",
       "         0.0885925 , 0.35197019, 0.35197019, 0.02096088, 0.02096088,\n",
       "         0.6100838 , 0.6100838 , 0.66204054, 0.66204054, 0.45419832,\n",
       "         0.45419832, 0.93898302, 0.93898302, 0.54002609, 0.54002609,\n",
       "         0.28531016, 0.28531016, 0.12984792, 0.12984792, 0.33401696,\n",
       "         0.33401696, 0.43951187, 0.43951187, 0.45927705, 0.45927705,\n",
       "         0.94483894, 0.94483894, 0.36958967, 0.36958967, 0.12150781,\n",
       "         0.12150781, 0.98948822, 0.98948822, 0.10798155, 0.10798155,\n",
       "         0.02010068, 0.02010068, 0.66302318, 0.66302318, 0.63954804,\n",
       "         0.63954804, 0.18161533, 0.18161533, 0.99442101, 0.99442101,\n",
       "         0.3153683 , 0.3153683 , 0.32126447, 0.32126447, 0.72215644,\n",
       "         0.72215644, 0.50990035, 0.50990035, 0.97970361, 0.97970361,\n",
       "         0.09636347, 0.09636347, 0.81530735, 0.81530735, 0.68461793,\n",
       "         0.68461793, 0.82388264, 0.82388264, 0.24180972, 0.24180972,\n",
       "         0.36012079, 0.36012079, 0.80743106, 0.80743106, 0.31937054,\n",
       "         0.31937054, 0.39772008, 0.39772008, 0.03670545, 0.03670545,\n",
       "         0.33565296, 0.33565296, 0.64753807, 0.64753807, 0.13229401,\n",
       "         0.13229401, 0.32721146, 0.32721146, 0.15360617, 0.15360617,\n",
       "         0.49760361, 0.49760361, 0.72716303, 0.72716303, 0.73268851,\n",
       "         0.73268851, 0.85962209, 0.85962209, 0.28797603, 0.28797603,\n",
       "         0.15953379, 0.15953379, 0.10574465, 0.10574465, 0.0291083 ,\n",
       "         0.0291083 , 0.42850155, 0.42850155, 0.24266932, 0.24266932])}}"
      ]
     },
     "execution_count": 1,
     "metadata": {},
     "output_type": "execute_result"
    }
   ],
   "source": [
    "ds = load_by_id(run_id_n)\n",
    "ds.get_parameter_data('x1')"
   ]
  },
  {
   "cell_type": "markdown",
   "metadata": {},
   "source": [
    "And a dataset stored as binary arrays"
   ]
  },
  {
   "cell_type": "code",
   "execution_count": 12,
   "metadata": {
    "execution": {
     "iopub.execute_input": "2021-01-12T14:14:25.751164Z",
     "iopub.status.busy": "2021-01-12T14:14:25.750640Z",
     "iopub.status.idle": "2021-01-12T14:14:25.809736Z",
     "shell.execute_reply": "2021-01-12T14:14:25.810712Z"
    },
    "scrolled": true
   },
   "outputs": [
    {
     "data": {
      "text/plain": [
       "{'x1': {'x1': array([[0.64694949],\n",
       "         [0.64694949],\n",
       "         [0.69689907],\n",
       "         [0.69689907],\n",
       "         [0.05031218],\n",
       "         [0.05031218],\n",
       "         [0.50353071],\n",
       "         [0.50353071],\n",
       "         [0.15155408],\n",
       "         [0.15155408],\n",
       "         [0.06186103],\n",
       "         [0.06186103],\n",
       "         [0.35058938],\n",
       "         [0.35058938],\n",
       "         [0.30741378],\n",
       "         [0.30741378],\n",
       "         [0.76650874],\n",
       "         [0.76650874],\n",
       "         [0.78301119],\n",
       "         [0.78301119],\n",
       "         [0.88065834],\n",
       "         [0.88065834],\n",
       "         [0.03273706],\n",
       "         [0.03273706],\n",
       "         [0.69623855],\n",
       "         [0.69623855],\n",
       "         [0.57596751],\n",
       "         [0.57596751],\n",
       "         [0.87991878],\n",
       "         [0.87991878],\n",
       "         [0.9716032 ],\n",
       "         [0.9716032 ],\n",
       "         [0.29620667],\n",
       "         [0.29620667],\n",
       "         [0.58575574],\n",
       "         [0.58575574],\n",
       "         [0.62081472],\n",
       "         [0.62081472],\n",
       "         [0.61100749],\n",
       "         [0.61100749],\n",
       "         [0.78503231],\n",
       "         [0.78503231],\n",
       "         [0.59645884],\n",
       "         [0.59645884],\n",
       "         [0.23568707],\n",
       "         [0.23568707],\n",
       "         [0.34287399],\n",
       "         [0.34287399],\n",
       "         [0.53919748],\n",
       "         [0.53919748],\n",
       "         [0.69517589],\n",
       "         [0.69517589],\n",
       "         [0.85239014],\n",
       "         [0.85239014],\n",
       "         [0.31098002],\n",
       "         [0.31098002],\n",
       "         [0.07008697],\n",
       "         [0.07008697],\n",
       "         [0.18393816],\n",
       "         [0.18393816],\n",
       "         [0.11677551],\n",
       "         [0.11677551],\n",
       "         [0.10195785],\n",
       "         [0.10195785],\n",
       "         [0.16474859],\n",
       "         [0.16474859],\n",
       "         [0.55562379],\n",
       "         [0.55562379],\n",
       "         [0.21115064],\n",
       "         [0.21115064],\n",
       "         [0.84464243],\n",
       "         [0.84464243],\n",
       "         [0.14041969],\n",
       "         [0.14041969],\n",
       "         [0.26020043],\n",
       "         [0.26020043],\n",
       "         [0.13339055],\n",
       "         [0.13339055],\n",
       "         [0.2574779 ],\n",
       "         [0.2574779 ],\n",
       "         [0.66423314],\n",
       "         [0.66423314],\n",
       "         [0.37571336],\n",
       "         [0.37571336],\n",
       "         [0.45605034],\n",
       "         [0.45605034],\n",
       "         [0.51522163],\n",
       "         [0.51522163],\n",
       "         [0.56561484],\n",
       "         [0.56561484],\n",
       "         [0.19997394],\n",
       "         [0.19997394],\n",
       "         [0.07894717],\n",
       "         [0.07894717],\n",
       "         [0.10440181],\n",
       "         [0.10440181],\n",
       "         [0.23906525],\n",
       "         [0.23906525],\n",
       "         [0.77065352],\n",
       "         [0.77065352],\n",
       "         [0.82148711],\n",
       "         [0.82148711],\n",
       "         [0.1535015 ],\n",
       "         [0.1535015 ],\n",
       "         [0.99910005],\n",
       "         [0.99910005],\n",
       "         [0.63053261],\n",
       "         [0.63053261],\n",
       "         [0.14549834],\n",
       "         [0.14549834],\n",
       "         [0.8015015 ],\n",
       "         [0.8015015 ],\n",
       "         [0.42609571],\n",
       "         [0.42609571],\n",
       "         [0.88855461],\n",
       "         [0.88855461],\n",
       "         [0.08168069],\n",
       "         [0.08168069],\n",
       "         [0.30677852],\n",
       "         [0.30677852],\n",
       "         [0.62531267],\n",
       "         [0.62531267],\n",
       "         [0.55973491],\n",
       "         [0.55973491],\n",
       "         [0.95653718],\n",
       "         [0.95653718],\n",
       "         [0.18605967],\n",
       "         [0.18605967],\n",
       "         [0.99892184],\n",
       "         [0.99892184],\n",
       "         [0.23611607],\n",
       "         [0.23611607],\n",
       "         [0.70542437],\n",
       "         [0.70542437],\n",
       "         [0.37768774],\n",
       "         [0.37768774],\n",
       "         [0.02539892],\n",
       "         [0.02539892],\n",
       "         [0.535489  ],\n",
       "         [0.535489  ],\n",
       "         [0.52002806],\n",
       "         [0.52002806],\n",
       "         [0.91118041],\n",
       "         [0.91118041],\n",
       "         [0.56058036],\n",
       "         [0.56058036],\n",
       "         [0.74109028],\n",
       "         [0.74109028],\n",
       "         [0.05095164],\n",
       "         [0.05095164],\n",
       "         [0.35641993],\n",
       "         [0.35641993],\n",
       "         [0.40290179],\n",
       "         [0.40290179],\n",
       "         [0.97363713],\n",
       "         [0.97363713],\n",
       "         [0.32166994],\n",
       "         [0.32166994],\n",
       "         [0.08408105],\n",
       "         [0.08408105],\n",
       "         [0.15652055],\n",
       "         [0.15652055],\n",
       "         [0.16648335],\n",
       "         [0.16648335],\n",
       "         [0.53855867],\n",
       "         [0.53855867],\n",
       "         [0.2873992 ],\n",
       "         [0.2873992 ],\n",
       "         [0.14999087],\n",
       "         [0.14999087],\n",
       "         [0.31958772],\n",
       "         [0.31958772],\n",
       "         [0.23813007],\n",
       "         [0.23813007],\n",
       "         [0.40907043],\n",
       "         [0.40907043],\n",
       "         [0.72654558],\n",
       "         [0.72654558],\n",
       "         [0.74773021],\n",
       "         [0.74773021],\n",
       "         [0.38925573],\n",
       "         [0.38925573],\n",
       "         [0.57244933],\n",
       "         [0.57244933],\n",
       "         [0.81175038],\n",
       "         [0.81175038],\n",
       "         [0.46270017],\n",
       "         [0.46270017],\n",
       "         [0.98534793],\n",
       "         [0.98534793],\n",
       "         [0.79262984],\n",
       "         [0.79262984],\n",
       "         [0.80794498],\n",
       "         [0.80794498],\n",
       "         [0.74678728],\n",
       "         [0.74678728],\n",
       "         [0.18746678],\n",
       "         [0.18746678],\n",
       "         [0.46459462],\n",
       "         [0.46459462]])}}"
      ]
     },
     "execution_count": 1,
     "metadata": {},
     "output_type": "execute_result"
    }
   ],
   "source": [
    "ds = load_by_id(run_id_a)\n",
    "ds.get_parameter_data('x1')"
   ]
  },
  {
   "cell_type": "code",
   "execution_count": null,
   "metadata": {},
   "outputs": [],
   "source": []
  }
 ],
 "metadata": {
  "kernelspec": {
   "display_name": "Python 3",
   "language": "python",
   "name": "python3"
  },
  "language_info": {
   "codemirror_mode": {
    "name": "ipython",
    "version": 3
   },
   "file_extension": ".py",
   "mimetype": "text/x-python",
   "name": "python",
   "nbconvert_exporter": "python",
   "pygments_lexer": "ipython3",
   "version": "3.7.9"
  },
  "nbsphinx": {
   "timeout": 600
  },
  "toc": {
   "base_numbering": 1,
   "nav_menu": {},
   "number_sections": true,
   "sideBar": true,
   "skip_h1_title": false,
   "title_cell": "Table of Contents",
   "title_sidebar": "Contents",
   "toc_cell": false,
   "toc_position": {},
   "toc_section_display": true,
   "toc_window_display": false
  },
  "varInspector": {
   "cols": {
    "lenName": 16,
    "lenType": 16,
    "lenVar": 40
   },
   "kernels_config": {
    "python": {
     "delete_cmd_postfix": "",
     "delete_cmd_prefix": "del ",
     "library": "var_list.py",
     "varRefreshCmd": "print(var_dic_list())"
    },
    "r": {
     "delete_cmd_postfix": ") ",
     "delete_cmd_prefix": "rm(",
     "library": "var_list.r",
     "varRefreshCmd": "cat(var_dic_list()) "
    }
   },
   "types_to_exclude": [
    "module",
    "function",
    "builtin_function_or_method",
    "instance",
    "_Feature"
   ],
   "window_display": false
  }
 },
 "nbformat": 4,
 "nbformat_minor": 2
}
