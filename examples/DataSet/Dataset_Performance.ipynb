{
 "cells": [
  {
   "cell_type": "markdown",
   "metadata": {},
   "source": [
    "# DataSet Performance\n",
    "\n",
    "This notebook shows the trade-off between inserting data into a database row-by-row and as binary blobs. Inserting the data row-by-row means that we have direct access to all the data and may perform queries directly on the values of the data. On the other hand, as we shall see, this is much slower than inserting the data directly as binary blobs."
   ]
  },
  {
   "cell_type": "markdown",
   "metadata": {},
   "source": [
    "First, we choose a new location for the database to ensure that we don't add a bunch of benchmarking data to the default one."
   ]
  },
  {
   "cell_type": "code",
   "execution_count": 1,
   "metadata": {},
   "outputs": [
    {
     "name": "stdout",
     "output_type": "stream",
     "text": [
      "Logging hadn't been started.\n",
      "Activating auto-logging. Current session state plus future input saved.\n",
      "Filename       : /home/vsts/.qcodes/logs/command_history.log\n",
      "Mode           : append\n",
      "Output logging : True\n",
      "Raw input log  : False\n",
      "Timestamping   : True\n",
      "State          : active\n"
     ]
    },
    {
     "name": "stdout",
     "output_type": "stream",
     "text": [
      "Qcodes Logfile : /home/vsts/.qcodes/logs/200327-18450-qcodes.log\n"
     ]
    }
   ],
   "source": [
    "import os\n",
    "cwd = os.getcwd()\n",
    "import qcodes as qc\n",
    "qc.config[\"core\"][\"db_location\"] = os.path.join(cwd, 'testing.db')\n"
   ]
  },
  {
   "cell_type": "code",
   "execution_count": 2,
   "metadata": {},
   "outputs": [],
   "source": [
    "%matplotlib inline\n",
    "import time\n",
    "import matplotlib.pyplot as plt\n",
    "import numpy as np\n",
    "\n",
    "import qcodes as qc\n",
    "from qcodes.instrument.parameter import ManualParameter\n",
    "from qcodes.dataset.experiment_container import (Experiment,\n",
    "                                                 load_last_experiment,\n",
    "                                                 new_experiment)\n",
    "from qcodes.dataset.sqlite.database import initialise_database\n",
    "from qcodes import load_or_create_experiment\n",
    "from qcodes.dataset.measurements import Measurement"
   ]
  },
  {
   "cell_type": "code",
   "execution_count": 3,
   "metadata": {},
   "outputs": [
    {
     "name": "stdout",
     "output_type": "stream",
     "text": [
      "\r",
      "0it [00:00, ?it/s]"
     ]
    },
    {
     "name": "stdout",
     "output_type": "stream",
     "text": [
      "\r",
      "Upgrading database; v0 -> v1: : 0it [00:00, ?it/s]"
     ]
    },
    {
     "name": "stdout",
     "output_type": "stream",
     "text": [
      "\r",
      "Upgrading database; v0 -> v1: : 0it [00:00, ?it/s]"
     ]
    },
    {
     "name": "stdout",
     "output_type": "stream",
     "text": [
      "\n",
      "\r",
      "  0%|          | 0/1 [00:00<?, ?it/s]"
     ]
    },
    {
     "name": "stdout",
     "output_type": "stream",
     "text": [
      "\r",
      "Upgrading database; v1 -> v2:   0%|          | 0/1 [00:00<?, ?it/s]"
     ]
    },
    {
     "name": "stdout",
     "output_type": "stream",
     "text": [
      "\r",
      "Upgrading database; v1 -> v2: 100%|██████████| 1/1 [00:00<00:00, 887.68it/s]"
     ]
    },
    {
     "name": "stdout",
     "output_type": "stream",
     "text": [
      "\n",
      "\r",
      "0it [00:00, ?it/s]"
     ]
    },
    {
     "name": "stdout",
     "output_type": "stream",
     "text": [
      "\r",
      "Upgrading database; v2 -> v3: : 0it [00:00, ?it/s]"
     ]
    },
    {
     "name": "stdout",
     "output_type": "stream",
     "text": [
      "\r",
      "Upgrading database; v2 -> v3: : 0it [00:00, ?it/s]"
     ]
    },
    {
     "name": "stdout",
     "output_type": "stream",
     "text": [
      "\n",
      "\r",
      "0it [00:00, ?it/s]"
     ]
    },
    {
     "name": "stdout",
     "output_type": "stream",
     "text": [
      "\r",
      "Upgrading database; v3 -> v4: : 0it [00:00, ?it/s]"
     ]
    },
    {
     "name": "stdout",
     "output_type": "stream",
     "text": [
      "\r",
      "Upgrading database; v3 -> v4: : 0it [00:00, ?it/s]"
     ]
    },
    {
     "name": "stdout",
     "output_type": "stream",
     "text": [
      "\n",
      "\r",
      "  0%|          | 0/1 [00:00<?, ?it/s]"
     ]
    },
    {
     "name": "stdout",
     "output_type": "stream",
     "text": [
      "\r",
      "Upgrading database; v4 -> v5:   0%|          | 0/1 [00:00<?, ?it/s]"
     ]
    },
    {
     "name": "stdout",
     "output_type": "stream",
     "text": [
      "\r",
      "Upgrading database; v4 -> v5: 100%|██████████| 1/1 [00:00<00:00, 541.06it/s]"
     ]
    },
    {
     "name": "stdout",
     "output_type": "stream",
     "text": [
      "\n",
      "\r",
      "0it [00:00, ?it/s]"
     ]
    },
    {
     "name": "stdout",
     "output_type": "stream",
     "text": [
      "\r",
      "Upgrading database; v5 -> v6: : 0it [00:00, ?it/s]"
     ]
    },
    {
     "name": "stdout",
     "output_type": "stream",
     "text": [
      "\r",
      "Upgrading database; v5 -> v6: : 0it [00:00, ?it/s]"
     ]
    },
    {
     "name": "stdout",
     "output_type": "stream",
     "text": [
      "\n",
      "\r",
      "  0%|          | 0/1 [00:00<?, ?it/s]"
     ]
    },
    {
     "name": "stdout",
     "output_type": "stream",
     "text": [
      "\r",
      "Upgrading database; v6 -> v7:   0%|          | 0/1 [00:00<?, ?it/s]"
     ]
    },
    {
     "name": "stdout",
     "output_type": "stream",
     "text": [
      "\r",
      "Upgrading database; v6 -> v7: 100%|██████████| 1/1 [00:00<00:00, 424.05it/s]"
     ]
    },
    {
     "name": "stdout",
     "output_type": "stream",
     "text": [
      "\n",
      "\r",
      "  0%|          | 0/1 [00:00<?, ?it/s]"
     ]
    },
    {
     "name": "stdout",
     "output_type": "stream",
     "text": [
      "\r",
      "Upgrading database; v7 -> v8:   0%|          | 0/1 [00:00<?, ?it/s]"
     ]
    },
    {
     "name": "stdout",
     "output_type": "stream",
     "text": [
      "\r",
      "Upgrading database; v7 -> v8: 100%|██████████| 1/1 [00:00<00:00, 696.50it/s]"
     ]
    },
    {
     "name": "stdout",
     "output_type": "stream",
     "text": [
      "\n",
      "\r",
      "  0%|          | 0/1 [00:00<?, ?it/s]"
     ]
    },
    {
     "name": "stdout",
     "output_type": "stream",
     "text": [
      "\r",
      "Upgrading database; v8 -> v9:   0%|          | 0/1 [00:00<?, ?it/s]"
     ]
    },
    {
     "name": "stdout",
     "output_type": "stream",
     "text": [
      "\r",
      "Upgrading database; v8 -> v9: 100%|██████████| 1/1 [00:00<00:00, 972.25it/s]"
     ]
    },
    {
     "name": "stdout",
     "output_type": "stream",
     "text": [
      "\n"
     ]
    }
   ],
   "source": [
    "initialise_database()\n",
    "exp = load_or_create_experiment(experiment_name='tutorial_exp', sample_name=\"no sample\")"
   ]
  },
  {
   "cell_type": "markdown",
   "metadata": {},
   "source": [
    "Here, we define a simple function to benchmark the time it takes to insert n points with either numeric or array data type.\n",
    "We will compare both the time used to call ``add_result`` and the time used for the full measurement."
   ]
  },
  {
   "cell_type": "code",
   "execution_count": 4,
   "metadata": {},
   "outputs": [],
   "source": [
    "def insert_data(paramtype, npoints, nreps=1):\n",
    "\n",
    "    meas = Measurement(exp=exp)\n",
    "\n",
    "    x1 = ManualParameter('x1')\n",
    "    x2 = ManualParameter('x2')\n",
    "    x3 = ManualParameter('x3')\n",
    "    y1 = ManualParameter('y1')\n",
    "    y2 = ManualParameter('y2')\n",
    "\n",
    "    meas.register_parameter(x1, paramtype=paramtype)\n",
    "    meas.register_parameter(x2, paramtype=paramtype)\n",
    "    meas.register_parameter(x3, paramtype=paramtype)\n",
    "    meas.register_parameter(y1, setpoints=[x1, x2, x3],\n",
    "                            paramtype=paramtype)\n",
    "    meas.register_parameter(y2, setpoints=[x1, x2, x3],\n",
    "                            paramtype=paramtype)\n",
    "    start = time.perf_counter()\n",
    "    with meas.run() as datasaver:\n",
    "        start_adding = time.perf_counter()\n",
    "        for i in range(nreps):\n",
    "            datasaver.add_result((x1, np.random.rand(npoints)),\n",
    "                                 (x2, np.random.rand(npoints)),\n",
    "                                 (x3, np.random.rand(npoints)),\n",
    "                                 (y1, np.random.rand(npoints)),\n",
    "                                 (y2, np.random.rand(npoints)))\n",
    "        stop_adding = time.perf_counter()\n",
    "        run_id = datasaver.run_id\n",
    "    stop = time.perf_counter()\n",
    "    tot_time = stop - start\n",
    "    add_time = stop_adding - start_adding\n",
    "    return tot_time, add_time, run_id"
   ]
  },
  {
   "cell_type": "markdown",
   "metadata": {},
   "source": [
    "## Comparison between numeric/array data and binary blob"
   ]
  },
  {
   "cell_type": "markdown",
   "metadata": {},
   "source": [
    "### Case1: Short experiment time"
   ]
  },
  {
   "cell_type": "code",
   "execution_count": 5,
   "metadata": {},
   "outputs": [
    {
     "name": "stdout",
     "output_type": "stream",
     "text": [
      "Starting experimental run with id: 1. \n",
      "Starting experimental run with id: 2. \n",
      "Starting experimental run with id: 3. \n"
     ]
    },
    {
     "name": "stdout",
     "output_type": "stream",
     "text": [
      "Starting experimental run with id: 4. \n"
     ]
    },
    {
     "name": "stdout",
     "output_type": "stream",
     "text": [
      "Starting experimental run with id: 5. \n"
     ]
    },
    {
     "name": "stdout",
     "output_type": "stream",
     "text": [
      "Starting experimental run with id: 6. \n"
     ]
    },
    {
     "name": "stdout",
     "output_type": "stream",
     "text": [
      "Starting experimental run with id: 7. \n"
     ]
    },
    {
     "name": "stdout",
     "output_type": "stream",
     "text": [
      "Starting experimental run with id: 8. \n",
      "Starting experimental run with id: 9. \n"
     ]
    },
    {
     "name": "stdout",
     "output_type": "stream",
     "text": [
      "Starting experimental run with id: 10. \n",
      "Starting experimental run with id: 11. \n"
     ]
    },
    {
     "name": "stdout",
     "output_type": "stream",
     "text": [
      "Starting experimental run with id: 12. \n"
     ]
    },
    {
     "name": "stdout",
     "output_type": "stream",
     "text": [
      "Starting experimental run with id: 13. \n"
     ]
    },
    {
     "name": "stdout",
     "output_type": "stream",
     "text": [
      "Starting experimental run with id: 14. \n"
     ]
    }
   ],
   "source": [
    "sizes = [1,500,1000,2000,3000,4000,5000]\n",
    "t_numeric = []\n",
    "t_numeric_add = []\n",
    "t_array = []\n",
    "t_array_add = []\n",
    "for size in sizes:\n",
    "    tn, tna, run_id_n =  insert_data('numeric', size)\n",
    "    t_numeric.append(tn)\n",
    "    t_numeric_add.append(tna)\n",
    "\n",
    "    ta, taa, run_id_a =  insert_data('array', size)\n",
    "    t_array.append(ta)\n",
    "    t_array_add.append(taa)"
   ]
  },
  {
   "cell_type": "code",
   "execution_count": 6,
   "metadata": {},
   "outputs": [
    {
     "data": {
      "image/png": "[encoded data removed]",
      "text/plain": [
       "<Figure size 432x288 with 1 Axes>"
      ]
     },
     "metadata": {
      "needs_background": "light"
     },
     "output_type": "display_data"
    }
   ],
   "source": [
    "fig, ax = plt.subplots(1,1)\n",
    "ax.plot(sizes, t_numeric, 'o-', label='Inserting row-by-row')\n",
    "ax.plot(sizes, t_numeric_add, 'o-', label='Inserting row-by-row: add_result only')\n",
    "ax.plot(sizes, t_array, 'd-', label='Inserting as binary blob')\n",
    "ax.plot(sizes, t_array_add, 'd-', label='Inserting as binary blob: add_result only')\n",
    "ax.legend()\n",
    "ax.set_xlabel('Array length')\n",
    "ax.set_ylabel('Time (s)')\n",
    "fig.tight_layout()"
   ]
  },
  {
   "cell_type": "markdown",
   "metadata": {},
   "source": [
    "As shown in the latter figure, the time to setup and and close the experiment is approximately 0.4 sec. In case of small array sizes, the difference between inserting values of data as arrays and inserting them row-by-row is relatively unimportant. At larger array sizes, i.e. above 10000 points, the cost of writing data as individual datapoints starts to become important.\n"
   ]
  },
  {
   "cell_type": "markdown",
   "metadata": {},
   "source": [
    "### Case2: Long experiment time "
   ]
  },
  {
   "cell_type": "code",
   "execution_count": 7,
   "metadata": {},
   "outputs": [
    {
     "name": "stdout",
     "output_type": "stream",
     "text": [
      "Starting experimental run with id: 15. \n",
      "Starting experimental run with id: 16. \n"
     ]
    },
    {
     "name": "stdout",
     "output_type": "stream",
     "text": [
      "Starting experimental run with id: 17. \n"
     ]
    },
    {
     "name": "stdout",
     "output_type": "stream",
     "text": [
      "Starting experimental run with id: 18. \n",
      "Starting experimental run with id: 19. \n"
     ]
    },
    {
     "name": "stdout",
     "output_type": "stream",
     "text": [
      "Starting experimental run with id: 20. \n"
     ]
    },
    {
     "name": "stdout",
     "output_type": "stream",
     "text": [
      "Starting experimental run with id: 21. \n"
     ]
    },
    {
     "name": "stdout",
     "output_type": "stream",
     "text": [
      "Starting experimental run with id: 22. \n"
     ]
    },
    {
     "name": "stdout",
     "output_type": "stream",
     "text": [
      "Starting experimental run with id: 23. \n"
     ]
    },
    {
     "name": "stdout",
     "output_type": "stream",
     "text": [
      "Starting experimental run with id: 24. \n"
     ]
    },
    {
     "name": "stdout",
     "output_type": "stream",
     "text": [
      "Starting experimental run with id: 25. \n"
     ]
    },
    {
     "name": "stdout",
     "output_type": "stream",
     "text": [
      "Starting experimental run with id: 26. \n"
     ]
    },
    {
     "name": "stdout",
     "output_type": "stream",
     "text": [
      "Starting experimental run with id: 27. \n"
     ]
    },
    {
     "name": "stdout",
     "output_type": "stream",
     "text": [
      "Starting experimental run with id: 28. \n"
     ]
    }
   ],
   "source": [
    "sizes = [1,500,1000,2000,3000,4000,5000]\n",
    "nreps = 100\n",
    "t_numeric = []\n",
    "t_numeric_add = []\n",
    "t_numeric_run_ids = []\n",
    "t_array = []\n",
    "t_array_add = []\n",
    "t_array_run_ids = []\n",
    "for size in sizes:\n",
    "    tn, tna, run_id_n =  insert_data('numeric', size, nreps=nreps)\n",
    "    t_numeric.append(tn)\n",
    "    t_numeric_add.append(tna)\n",
    "    t_numeric_run_ids.append(run_id_n)\n",
    "\n",
    "    ta, taa, run_id_a =  insert_data('array', size, nreps=nreps)\n",
    "    t_array.append(ta)\n",
    "    t_array_add.append(taa)\n",
    "    t_array_run_ids.append(run_id_a)"
   ]
  },
  {
   "cell_type": "code",
   "execution_count": 8,
   "metadata": {
    "scrolled": true
   },
   "outputs": [
    {
     "data": {
      "image/png": "[encoded data removed]",
      "text/plain": [
       "<Figure size 432x288 with 1 Axes>"
      ]
     },
     "metadata": {
      "needs_background": "light"
     },
     "output_type": "display_data"
    }
   ],
   "source": [
    "fig, ax = plt.subplots(1,1)\n",
    "ax.plot(sizes, t_numeric, 'o-', label='Inserting row-by-row')\n",
    "ax.plot(sizes, t_numeric_add, 'o-', label='Inserting row-by-row: add_result only')\n",
    "ax.plot(sizes, t_array, 'd-', label='Inserting as binary blob')\n",
    "ax.plot(sizes, t_array_add, 'd-', label='Inserting as binary blob: add_result only')\n",
    "ax.legend()\n",
    "ax.set_xlabel('Array length')\n",
    "ax.set_ylabel('Time (s)')\n",
    "fig.tight_layout()"
   ]
  },
  {
   "cell_type": "markdown",
   "metadata": {},
   "source": [
    "However, as we increase the length of the experiment, as seen here by repeating the insertion 100 times, we see a big difference between inserting values of the data row-by-row and inserting it as a binary blob."
   ]
  },
  {
   "cell_type": "markdown",
   "metadata": {},
   "source": [
    "## Loading the data "
   ]
  },
  {
   "cell_type": "code",
   "execution_count": 9,
   "metadata": {},
   "outputs": [],
   "source": [
    "from qcodes.dataset.data_set import load_by_id\n",
    "from qcodes.dataset.data_export import get_data_by_id"
   ]
  },
  {
   "cell_type": "markdown",
   "metadata": {},
   "source": [
    "As usual you can load the data by using the ``load_by_id`` function but you will notice that the different storage methods\n",
    "are reflected in shape of the data as it is retrieved. "
   ]
  },
  {
   "cell_type": "code",
   "execution_count": 10,
   "metadata": {},
   "outputs": [],
   "source": [
    "run_id_n = t_numeric_run_ids[0]\n",
    "run_id_a = t_array_run_ids[0]"
   ]
  },
  {
   "cell_type": "code",
   "execution_count": 11,
   "metadata": {
    "scrolled": true
   },
   "outputs": [
    {
     "data": {
      "text/plain": [
       "{'x1': {'x1': array([0.51634046, 0.51634046, 0.13229672, 0.13229672, 0.6454477 ,\n",
       "         0.6454477 , 0.22542667, 0.22542667, 0.21793533, 0.21793533,\n",
       "         0.57793926, 0.57793926, 0.62531895, 0.62531895, 0.07925425,\n",
       "         0.07925425, 0.16552072, 0.16552072, 0.72262456, 0.72262456,\n",
       "         0.752324  , 0.752324  , 0.45624928, 0.45624928, 0.22922099,\n",
       "         0.22922099, 0.00289667, 0.00289667, 0.59852708, 0.59852708,\n",
       "         0.59861555, 0.59861555, 0.56062638, 0.56062638, 0.47700911,\n",
       "         0.47700911, 0.06766767, 0.06766767, 0.81102709, 0.81102709,\n",
       "         0.42879879, 0.42879879, 0.64468976, 0.64468976, 0.56235553,\n",
       "         0.56235553, 0.04699714, 0.04699714, 0.55110194, 0.55110194,\n",
       "         0.49917986, 0.49917986, 0.75611116, 0.75611116, 0.69793759,\n",
       "         0.69793759, 0.64401378, 0.64401378, 0.50806979, 0.50806979,\n",
       "         0.69330101, 0.69330101, 0.13028912, 0.13028912, 0.13708376,\n",
       "         0.13708376, 0.93497524, 0.93497524, 0.73835021, 0.73835021,\n",
       "         0.28244551, 0.28244551, 0.81984346, 0.81984346, 0.29882804,\n",
       "         0.29882804, 0.88008295, 0.88008295, 0.17474082, 0.17474082,\n",
       "         0.09415976, 0.09415976, 0.71907769, 0.71907769, 0.65617704,\n",
       "         0.65617704, 0.84914041, 0.84914041, 0.75997926, 0.75997926,\n",
       "         0.0938348 , 0.0938348 , 0.72737795, 0.72737795, 0.89156978,\n",
       "         0.89156978, 0.86019358, 0.86019358, 0.82911569, 0.82911569,\n",
       "         0.19936688, 0.19936688, 0.06868687, 0.06868687, 0.96882979,\n",
       "         0.96882979, 0.66509358, 0.66509358, 0.73838968, 0.73838968,\n",
       "         0.43230932, 0.43230932, 0.5704567 , 0.5704567 , 0.54085189,\n",
       "         0.54085189, 0.87511292, 0.87511292, 0.60690213, 0.60690213,\n",
       "         0.30257753, 0.30257753, 0.77847777, 0.77847777, 0.14630514,\n",
       "         0.14630514, 0.59465219, 0.59465219, 0.50271142, 0.50271142,\n",
       "         0.86758798, 0.86758798, 0.69827689, 0.69827689, 0.26761823,\n",
       "         0.26761823, 0.06979553, 0.06979553, 0.96174608, 0.96174608,\n",
       "         0.25509069, 0.25509069, 0.51623777, 0.51623777, 0.14816803,\n",
       "         0.14816803, 0.47149651, 0.47149651, 0.46509976, 0.46509976,\n",
       "         0.3376147 , 0.3376147 , 0.01318814, 0.01318814, 0.06139746,\n",
       "         0.06139746, 0.40072788, 0.40072788, 0.48414126, 0.48414126,\n",
       "         0.47290709, 0.47290709, 0.7190245 , 0.7190245 , 0.61831154,\n",
       "         0.61831154, 0.10050037, 0.10050037, 0.60611294, 0.60611294,\n",
       "         0.39239146, 0.39239146, 0.06905063, 0.06905063, 0.84717942,\n",
       "         0.84717942, 0.59427902, 0.59427902, 0.37009024, 0.37009024,\n",
       "         0.40413985, 0.40413985, 0.08637351, 0.08637351, 0.55468056,\n",
       "         0.55468056, 0.61825541, 0.61825541, 0.18575225, 0.18575225,\n",
       "         0.93850881, 0.93850881, 0.098566  , 0.098566  , 0.51201921,\n",
       "         0.51201921, 0.93945014, 0.93945014, 0.93242569, 0.93242569])}}"
      ]
     },
     "execution_count": 11,
     "metadata": {},
     "output_type": "execute_result"
    }
   ],
   "source": [
    "ds = load_by_id(run_id_n)\n",
    "ds.get_parameter_data('x1')"
   ]
  },
  {
   "cell_type": "markdown",
   "metadata": {},
   "source": [
    "And a dataset stored as binary arrays"
   ]
  },
  {
   "cell_type": "code",
   "execution_count": 12,
   "metadata": {
    "scrolled": true
   },
   "outputs": [
    {
     "data": {
      "text/plain": [
       "{'x1': {'x1': array([[0.94455937],\n",
       "         [0.94455937],\n",
       "         [0.66117974],\n",
       "         [0.66117974],\n",
       "         [0.61975777],\n",
       "         [0.61975777],\n",
       "         [0.08663379],\n",
       "         [0.08663379],\n",
       "         [0.75348822],\n",
       "         [0.75348822],\n",
       "         [0.81024587],\n",
       "         [0.81024587],\n",
       "         [0.80598462],\n",
       "         [0.80598462],\n",
       "         [0.55068275],\n",
       "         [0.55068275],\n",
       "         [0.61415156],\n",
       "         [0.61415156],\n",
       "         [0.33547739],\n",
       "         [0.33547739],\n",
       "         [0.76984008],\n",
       "         [0.76984008],\n",
       "         [0.81301872],\n",
       "         [0.81301872],\n",
       "         [0.23750652],\n",
       "         [0.23750652],\n",
       "         [0.0232469 ],\n",
       "         [0.0232469 ],\n",
       "         [0.31722935],\n",
       "         [0.31722935],\n",
       "         [0.7632787 ],\n",
       "         [0.7632787 ],\n",
       "         [0.24554144],\n",
       "         [0.24554144],\n",
       "         [0.29064673],\n",
       "         [0.29064673],\n",
       "         [0.12826235],\n",
       "         [0.12826235],\n",
       "         [0.0765816 ],\n",
       "         [0.0765816 ],\n",
       "         [0.87014479],\n",
       "         [0.87014479],\n",
       "         [0.87269609],\n",
       "         [0.87269609],\n",
       "         [0.59142427],\n",
       "         [0.59142427],\n",
       "         [0.740503  ],\n",
       "         [0.740503  ],\n",
       "         [0.36357546],\n",
       "         [0.36357546],\n",
       "         [0.80288015],\n",
       "         [0.80288015],\n",
       "         [0.62263981],\n",
       "         [0.62263981],\n",
       "         [0.3804922 ],\n",
       "         [0.3804922 ],\n",
       "         [0.90726683],\n",
       "         [0.90726683],\n",
       "         [0.02968786],\n",
       "         [0.02968786],\n",
       "         [0.63194989],\n",
       "         [0.63194989],\n",
       "         [0.33529933],\n",
       "         [0.33529933],\n",
       "         [0.28648795],\n",
       "         [0.28648795],\n",
       "         [0.9260064 ],\n",
       "         [0.9260064 ],\n",
       "         [0.29213403],\n",
       "         [0.29213403],\n",
       "         [0.70103196],\n",
       "         [0.70103196],\n",
       "         [0.50877203],\n",
       "         [0.50877203],\n",
       "         [0.53981191],\n",
       "         [0.53981191],\n",
       "         [0.75281746],\n",
       "         [0.75281746],\n",
       "         [0.81624224],\n",
       "         [0.81624224],\n",
       "         [0.77115545],\n",
       "         [0.77115545],\n",
       "         [0.96720065],\n",
       "         [0.96720065],\n",
       "         [0.69104193],\n",
       "         [0.69104193],\n",
       "         [0.40994523],\n",
       "         [0.40994523],\n",
       "         [0.58819025],\n",
       "         [0.58819025],\n",
       "         [0.64921774],\n",
       "         [0.64921774],\n",
       "         [0.71240041],\n",
       "         [0.71240041],\n",
       "         [0.67756565],\n",
       "         [0.67756565],\n",
       "         [0.05578113],\n",
       "         [0.05578113],\n",
       "         [0.96488757],\n",
       "         [0.96488757],\n",
       "         [0.35482597],\n",
       "         [0.35482597],\n",
       "         [0.21706747],\n",
       "         [0.21706747],\n",
       "         [0.41665856],\n",
       "         [0.41665856],\n",
       "         [0.5582841 ],\n",
       "         [0.5582841 ],\n",
       "         [0.22529875],\n",
       "         [0.22529875],\n",
       "         [0.09062767],\n",
       "         [0.09062767],\n",
       "         [0.72448155],\n",
       "         [0.72448155],\n",
       "         [0.89158984],\n",
       "         [0.89158984],\n",
       "         [0.12724829],\n",
       "         [0.12724829],\n",
       "         [0.62013241],\n",
       "         [0.62013241],\n",
       "         [0.89400905],\n",
       "         [0.89400905],\n",
       "         [0.73919711],\n",
       "         [0.73919711],\n",
       "         [0.9996219 ],\n",
       "         [0.9996219 ],\n",
       "         [0.37783768],\n",
       "         [0.37783768],\n",
       "         [0.30066436],\n",
       "         [0.30066436],\n",
       "         [0.02567912],\n",
       "         [0.02567912],\n",
       "         [0.42069327],\n",
       "         [0.42069327],\n",
       "         [0.36566481],\n",
       "         [0.36566481],\n",
       "         [0.87543418],\n",
       "         [0.87543418],\n",
       "         [0.5666424 ],\n",
       "         [0.5666424 ],\n",
       "         [0.2954433 ],\n",
       "         [0.2954433 ],\n",
       "         [0.36179278],\n",
       "         [0.36179278],\n",
       "         [0.72841723],\n",
       "         [0.72841723],\n",
       "         [0.78079869],\n",
       "         [0.78079869],\n",
       "         [0.82242048],\n",
       "         [0.82242048],\n",
       "         [0.74564177],\n",
       "         [0.74564177],\n",
       "         [0.16866062],\n",
       "         [0.16866062],\n",
       "         [0.84121465],\n",
       "         [0.84121465],\n",
       "         [0.25092188],\n",
       "         [0.25092188],\n",
       "         [0.30290402],\n",
       "         [0.30290402],\n",
       "         [0.19859796],\n",
       "         [0.19859796],\n",
       "         [0.19604194],\n",
       "         [0.19604194],\n",
       "         [0.02405216],\n",
       "         [0.02405216],\n",
       "         [0.9348932 ],\n",
       "         [0.9348932 ],\n",
       "         [0.32768929],\n",
       "         [0.32768929],\n",
       "         [0.05235853],\n",
       "         [0.05235853],\n",
       "         [0.56095907],\n",
       "         [0.56095907],\n",
       "         [0.25356323],\n",
       "         [0.25356323],\n",
       "         [0.12336681],\n",
       "         [0.12336681],\n",
       "         [0.34727914],\n",
       "         [0.34727914],\n",
       "         [0.11351138],\n",
       "         [0.11351138],\n",
       "         [0.03195172],\n",
       "         [0.03195172],\n",
       "         [0.58043336],\n",
       "         [0.58043336],\n",
       "         [0.85747737],\n",
       "         [0.85747737],\n",
       "         [0.05260297],\n",
       "         [0.05260297],\n",
       "         [0.13335462],\n",
       "         [0.13335462],\n",
       "         [0.06150642],\n",
       "         [0.06150642],\n",
       "         [0.7949958 ],\n",
       "         [0.7949958 ],\n",
       "         [0.4579598 ],\n",
       "         [0.4579598 ],\n",
       "         [0.33930288],\n",
       "         [0.33930288]])}}"
      ]
     },
     "execution_count": 12,
     "metadata": {},
     "output_type": "execute_result"
    }
   ],
   "source": [
    "ds = load_by_id(run_id_a)\n",
    "ds.get_parameter_data('x1')"
   ]
  },
  {
   "cell_type": "code",
   "execution_count": null,
   "metadata": {},
   "outputs": [],
   "source": []
  }
 ],
 "metadata": {
  "kernelspec": {
   "display_name": "Python 3",
   "language": "python",
   "name": "python3"
  },
  "language_info": {
   "codemirror_mode": {
    "name": "ipython",
    "version": 3
   },
   "file_extension": ".py",
   "mimetype": "text/x-python",
   "name": "python",
   "nbconvert_exporter": "python",
   "pygments_lexer": "ipython3",
   "version": "3.7.7"
  },
  "nbsphinx": {
   "timeout": 600
  },
  "toc": {
   "base_numbering": 1,
   "nav_menu": {},
   "number_sections": true,
   "sideBar": true,
   "skip_h1_title": false,
   "title_cell": "Table of Contents",
   "title_sidebar": "Contents",
   "toc_cell": false,
   "toc_position": {},
   "toc_section_display": true,
   "toc_window_display": false
  },
  "varInspector": {
   "cols": {
    "lenName": 16,
    "lenType": 16,
    "lenVar": 40
   },
   "kernels_config": {
    "python": {
     "delete_cmd_postfix": "",
     "delete_cmd_prefix": "del ",
     "library": "var_list.py",
     "varRefreshCmd": "print(var_dic_list())"
    },
    "r": {
     "delete_cmd_postfix": ") ",
     "delete_cmd_prefix": "rm(",
     "library": "var_list.r",
     "varRefreshCmd": "cat(var_dic_list()) "
    }
   },
   "types_to_exclude": [
    "module",
    "function",
    "builtin_function_or_method",
    "instance",
    "_Feature"
   ],
   "window_display": false
  }
 },
 "nbformat": 4,
 "nbformat_minor": 2
}
