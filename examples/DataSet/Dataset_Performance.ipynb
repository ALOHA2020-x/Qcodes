{
 "cells": [
  {
   "cell_type": "markdown",
   "metadata": {},
   "source": [
    "# DataSet Performance\n",
    "\n",
    "This notebook shows the trade-off between inserting data into a database row-by-row and as binary blobs. Inserting the data row-by-row means that we have direct access to all the data and may perform queries directly on the values of the data. On the other hand, as we shall see, this is much slower than inserting the data directly as binary blobs."
   ]
  },
  {
   "cell_type": "markdown",
   "metadata": {},
   "source": [
    "First, we choose a new location for the database to ensure that we don't add a bunch of benchmarking data to the default one."
   ]
  },
  {
   "cell_type": "code",
   "execution_count": 1,
   "metadata": {
    "execution": {
     "iopub.execute_input": "2021-02-16T08:54:49.088053Z",
     "iopub.status.busy": "2021-02-16T08:54:49.087501Z",
     "iopub.status.idle": "2021-02-16T08:54:49.971150Z",
     "shell.execute_reply": "2021-02-16T08:54:49.970409Z"
    }
   },
   "outputs": [
    {
     "name": "stdout",
     "output_type": "stream",
     "text": [
      "Logging hadn't been started.\n",
      "Activating auto-logging. Current session state plus future input saved.\n",
      "Filename       : /home/runner/.qcodes/logs/command_history.log\n",
      "Mode           : append\n",
      "Output logging : True\n",
      "Raw input log  : False\n",
      "Timestamping   : True\n",
      "State          : active\n"
     ]
    },
    {
     "name": "stdout",
     "output_type": "stream",
     "text": [
      "Qcodes Logfile : /home/runner/.qcodes/logs/210216-3849-qcodes.log\n"
     ]
    }
   ],
   "source": [
    "import os\n",
    "cwd = os.getcwd()\n",
    "import qcodes as qc\n",
    "qc.config[\"core\"][\"db_location\"] = os.path.join(cwd, 'testing.db')\n"
   ]
  },
  {
   "cell_type": "code",
   "execution_count": 2,
   "metadata": {
    "execution": {
     "iopub.execute_input": "2021-02-16T08:54:49.977461Z",
     "iopub.status.busy": "2021-02-16T08:54:49.976883Z",
     "iopub.status.idle": "2021-02-16T08:54:50.167408Z",
     "shell.execute_reply": "2021-02-16T08:54:50.166870Z"
    }
   },
   "outputs": [],
   "source": [
    "%matplotlib inline\n",
    "import time\n",
    "import matplotlib.pyplot as plt\n",
    "import numpy as np\n",
    "\n",
    "import qcodes as qc\n",
    "from qcodes.instrument.parameter import ManualParameter\n",
    "from qcodes.dataset.experiment_container import (Experiment,\n",
    "                                                 load_last_experiment,\n",
    "                                                 new_experiment)\n",
    "from qcodes.dataset.sqlite.database import initialise_database\n",
    "from qcodes import load_or_create_experiment\n",
    "from qcodes.dataset.measurements import Measurement"
   ]
  },
  {
   "cell_type": "code",
   "execution_count": 3,
   "metadata": {
    "execution": {
     "iopub.execute_input": "2021-02-16T08:54:50.171372Z",
     "iopub.status.busy": "2021-02-16T08:54:50.170801Z",
     "iopub.status.idle": "2021-02-16T08:54:50.296741Z",
     "shell.execute_reply": "2021-02-16T08:54:50.296237Z"
    }
   },
   "outputs": [
    {
     "name": "stdout",
     "output_type": "stream",
     "text": [
      "\r",
      "0it [00:00, ?it/s]"
     ]
    },
    {
     "name": "stdout",
     "output_type": "stream",
     "text": [
      "\r",
      "Upgrading database; v0 -> v1: : 0it [00:00, ?it/s]"
     ]
    },
    {
     "name": "stdout",
     "output_type": "stream",
     "text": [
      "\r",
      "Upgrading database; v0 -> v1: : 0it [00:00, ?it/s]"
     ]
    },
    {
     "name": "stdout",
     "output_type": "stream",
     "text": [
      "\n",
      "\r",
      "  0%|          | 0/1 [00:00<?, ?it/s]"
     ]
    },
    {
     "name": "stdout",
     "output_type": "stream",
     "text": [
      "\r",
      "Upgrading database; v1 -> v2:   0%|          | 0/1 [00:00<?, ?it/s]"
     ]
    },
    {
     "name": "stdout",
     "output_type": "stream",
     "text": [
      "\r",
      "Upgrading database; v1 -> v2: 100%|██████████| 1/1 [00:00<00:00, 1083.80it/s]"
     ]
    },
    {
     "name": "stdout",
     "output_type": "stream",
     "text": [
      "\n",
      "\r",
      "0it [00:00, ?it/s]"
     ]
    },
    {
     "name": "stdout",
     "output_type": "stream",
     "text": [
      "\r",
      "Upgrading database; v2 -> v3: : 0it [00:00, ?it/s]"
     ]
    },
    {
     "name": "stdout",
     "output_type": "stream",
     "text": [
      "\r",
      "Upgrading database; v2 -> v3: : 0it [00:00, ?it/s]"
     ]
    },
    {
     "name": "stdout",
     "output_type": "stream",
     "text": [
      "\n",
      "\r",
      "0it [00:00, ?it/s]"
     ]
    },
    {
     "name": "stdout",
     "output_type": "stream",
     "text": [
      "\r",
      "Upgrading database; v3 -> v4: : 0it [00:00, ?it/s]"
     ]
    },
    {
     "name": "stdout",
     "output_type": "stream",
     "text": [
      "\r",
      "Upgrading database; v3 -> v4: : 0it [00:00, ?it/s]"
     ]
    },
    {
     "name": "stdout",
     "output_type": "stream",
     "text": [
      "\n",
      "\r",
      "  0%|          | 0/1 [00:00<?, ?it/s]"
     ]
    },
    {
     "name": "stdout",
     "output_type": "stream",
     "text": [
      "\r",
      "Upgrading database; v4 -> v5:   0%|          | 0/1 [00:00<?, ?it/s]"
     ]
    },
    {
     "name": "stdout",
     "output_type": "stream",
     "text": [
      "\r",
      "Upgrading database; v4 -> v5: 100%|██████████| 1/1 [00:00<00:00, 436.59it/s]"
     ]
    },
    {
     "name": "stdout",
     "output_type": "stream",
     "text": [
      "\n",
      "\r",
      "0it [00:00, ?it/s]"
     ]
    },
    {
     "name": "stdout",
     "output_type": "stream",
     "text": [
      "\r",
      "Upgrading database; v5 -> v6: : 0it [00:00, ?it/s]"
     ]
    },
    {
     "name": "stdout",
     "output_type": "stream",
     "text": [
      "\r",
      "Upgrading database; v5 -> v6: : 0it [00:00, ?it/s]"
     ]
    },
    {
     "name": "stdout",
     "output_type": "stream",
     "text": [
      "\n",
      "\r",
      "  0%|          | 0/1 [00:00<?, ?it/s]"
     ]
    },
    {
     "name": "stdout",
     "output_type": "stream",
     "text": [
      "\r",
      "Upgrading database; v6 -> v7:   0%|          | 0/1 [00:00<?, ?it/s]"
     ]
    },
    {
     "name": "stdout",
     "output_type": "stream",
     "text": [
      "\r",
      "Upgrading database; v6 -> v7: 100%|██████████| 1/1 [00:00<00:00, 244.45it/s]"
     ]
    },
    {
     "name": "stdout",
     "output_type": "stream",
     "text": [
      "\n",
      "\r",
      "  0%|          | 0/1 [00:00<?, ?it/s]"
     ]
    },
    {
     "name": "stdout",
     "output_type": "stream",
     "text": [
      "\r",
      "Upgrading database; v7 -> v8:   0%|          | 0/1 [00:00<?, ?it/s]"
     ]
    },
    {
     "name": "stdout",
     "output_type": "stream",
     "text": [
      "\r",
      "Upgrading database; v7 -> v8: 100%|██████████| 1/1 [00:00<00:00, 561.94it/s]"
     ]
    },
    {
     "name": "stdout",
     "output_type": "stream",
     "text": [
      "\n",
      "\r",
      "  0%|          | 0/1 [00:00<?, ?it/s]"
     ]
    },
    {
     "name": "stdout",
     "output_type": "stream",
     "text": [
      "\r",
      "Upgrading database; v8 -> v9:   0%|          | 0/1 [00:00<?, ?it/s]"
     ]
    },
    {
     "name": "stdout",
     "output_type": "stream",
     "text": [
      "\r",
      "Upgrading database; v8 -> v9: 100%|██████████| 1/1 [00:00<00:00, 471.01it/s]"
     ]
    },
    {
     "name": "stdout",
     "output_type": "stream",
     "text": [
      "\n"
     ]
    }
   ],
   "source": [
    "initialise_database()\n",
    "exp = load_or_create_experiment(experiment_name='tutorial_exp', sample_name=\"no sample\")"
   ]
  },
  {
   "cell_type": "markdown",
   "metadata": {},
   "source": [
    "Here, we define a simple function to benchmark the time it takes to insert n points with either numeric or array data type.\n",
    "We will compare both the time used to call ``add_result`` and the time used for the full measurement."
   ]
  },
  {
   "cell_type": "code",
   "execution_count": 4,
   "metadata": {
    "execution": {
     "iopub.execute_input": "2021-02-16T08:54:50.306696Z",
     "iopub.status.busy": "2021-02-16T08:54:50.305401Z",
     "iopub.status.idle": "2021-02-16T08:54:50.307340Z",
     "shell.execute_reply": "2021-02-16T08:54:50.307844Z"
    }
   },
   "outputs": [],
   "source": [
    "def insert_data(paramtype, npoints, nreps=1):\n",
    "\n",
    "    meas = Measurement(exp=exp)\n",
    "\n",
    "    x1 = ManualParameter('x1')\n",
    "    x2 = ManualParameter('x2')\n",
    "    x3 = ManualParameter('x3')\n",
    "    y1 = ManualParameter('y1')\n",
    "    y2 = ManualParameter('y2')\n",
    "\n",
    "    meas.register_parameter(x1, paramtype=paramtype)\n",
    "    meas.register_parameter(x2, paramtype=paramtype)\n",
    "    meas.register_parameter(x3, paramtype=paramtype)\n",
    "    meas.register_parameter(y1, setpoints=[x1, x2, x3],\n",
    "                            paramtype=paramtype)\n",
    "    meas.register_parameter(y2, setpoints=[x1, x2, x3],\n",
    "                            paramtype=paramtype)\n",
    "    start = time.perf_counter()\n",
    "    with meas.run() as datasaver:\n",
    "        start_adding = time.perf_counter()\n",
    "        for i in range(nreps):\n",
    "            datasaver.add_result((x1, np.random.rand(npoints)),\n",
    "                                 (x2, np.random.rand(npoints)),\n",
    "                                 (x3, np.random.rand(npoints)),\n",
    "                                 (y1, np.random.rand(npoints)),\n",
    "                                 (y2, np.random.rand(npoints)))\n",
    "        stop_adding = time.perf_counter()\n",
    "        run_id = datasaver.run_id\n",
    "    stop = time.perf_counter()\n",
    "    tot_time = stop - start\n",
    "    add_time = stop_adding - start_adding\n",
    "    return tot_time, add_time, run_id"
   ]
  },
  {
   "cell_type": "markdown",
   "metadata": {},
   "source": [
    "## Comparison between numeric/array data and binary blob"
   ]
  },
  {
   "cell_type": "markdown",
   "metadata": {},
   "source": [
    "### Case1: Short experiment time"
   ]
  },
  {
   "cell_type": "code",
   "execution_count": 5,
   "metadata": {
    "execution": {
     "iopub.execute_input": "2021-02-16T08:54:50.314743Z",
     "iopub.status.busy": "2021-02-16T08:54:50.314169Z",
     "iopub.status.idle": "2021-02-16T08:54:51.202449Z",
     "shell.execute_reply": "2021-02-16T08:54:51.201901Z"
    }
   },
   "outputs": [
    {
     "name": "stdout",
     "output_type": "stream",
     "text": [
      "Starting experimental run with id: 1. \n",
      "Starting experimental run with id: 2. \n",
      "Starting experimental run with id: 3. \n",
      "Starting experimental run with id: 4. \n"
     ]
    },
    {
     "name": "stdout",
     "output_type": "stream",
     "text": [
      "Starting experimental run with id: 5. \n"
     ]
    },
    {
     "name": "stdout",
     "output_type": "stream",
     "text": [
      "Starting experimental run with id: 6. \n",
      "Starting experimental run with id: 7. \n"
     ]
    },
    {
     "name": "stdout",
     "output_type": "stream",
     "text": [
      "Starting experimental run with id: 8. \n",
      "Starting experimental run with id: 9. \n"
     ]
    },
    {
     "name": "stdout",
     "output_type": "stream",
     "text": [
      "Starting experimental run with id: 10. \n",
      "Starting experimental run with id: 11. \n"
     ]
    },
    {
     "name": "stdout",
     "output_type": "stream",
     "text": [
      "Starting experimental run with id: 12. \n"
     ]
    },
    {
     "name": "stdout",
     "output_type": "stream",
     "text": [
      "Starting experimental run with id: 13. \n"
     ]
    },
    {
     "name": "stdout",
     "output_type": "stream",
     "text": [
      "Starting experimental run with id: 14. \n"
     ]
    }
   ],
   "source": [
    "sizes = [1,500,1000,2000,3000,4000,5000]\n",
    "t_numeric = []\n",
    "t_numeric_add = []\n",
    "t_array = []\n",
    "t_array_add = []\n",
    "for size in sizes:\n",
    "    tn, tna, run_id_n =  insert_data('numeric', size)\n",
    "    t_numeric.append(tn)\n",
    "    t_numeric_add.append(tna)\n",
    "\n",
    "    ta, taa, run_id_a =  insert_data('array', size)\n",
    "    t_array.append(ta)\n",
    "    t_array_add.append(taa)"
   ]
  },
  {
   "cell_type": "code",
   "execution_count": 6,
   "metadata": {
    "execution": {
     "iopub.execute_input": "2021-02-16T08:54:51.246139Z",
     "iopub.status.busy": "2021-02-16T08:54:51.245543Z",
     "iopub.status.idle": "2021-02-16T08:54:51.410517Z",
     "shell.execute_reply": "2021-02-16T08:54:51.410015Z"
    }
   },
   "outputs": [
    {
     "data": {
      "image/png": "[encoded data removed]",
      "text/plain": [
       "<Figure size 432x288 with 1 Axes>"
      ]
     },
     "metadata": {
      "needs_background": "light"
     },
     "output_type": "display_data"
    }
   ],
   "source": [
    "fig, ax = plt.subplots(1,1)\n",
    "ax.plot(sizes, t_numeric, 'o-', label='Inserting row-by-row')\n",
    "ax.plot(sizes, t_numeric_add, 'o-', label='Inserting row-by-row: add_result only')\n",
    "ax.plot(sizes, t_array, 'd-', label='Inserting as binary blob')\n",
    "ax.plot(sizes, t_array_add, 'd-', label='Inserting as binary blob: add_result only')\n",
    "ax.legend()\n",
    "ax.set_xlabel('Array length')\n",
    "ax.set_ylabel('Time (s)')\n",
    "fig.tight_layout()"
   ]
  },
  {
   "cell_type": "markdown",
   "metadata": {},
   "source": [
    "As shown in the latter figure, the time to setup and and close the experiment is approximately 0.4 sec. In case of small array sizes, the difference between inserting values of data as arrays and inserting them row-by-row is relatively unimportant. At larger array sizes, i.e. above 10000 points, the cost of writing data as individual datapoints starts to become important.\n"
   ]
  },
  {
   "cell_type": "markdown",
   "metadata": {},
   "source": [
    "### Case2: Long experiment time "
   ]
  },
  {
   "cell_type": "code",
   "execution_count": 7,
   "metadata": {
    "execution": {
     "iopub.execute_input": "2021-02-16T08:54:51.417622Z",
     "iopub.status.busy": "2021-02-16T08:54:51.416446Z",
     "iopub.status.idle": "2021-02-16T08:55:51.343247Z",
     "shell.execute_reply": "2021-02-16T08:55:51.342067Z"
    }
   },
   "outputs": [
    {
     "name": "stdout",
     "output_type": "stream",
     "text": [
      "Starting experimental run with id: 15. \n",
      "Starting experimental run with id: 16. \n",
      "Starting experimental run with id: 17. \n"
     ]
    },
    {
     "name": "stdout",
     "output_type": "stream",
     "text": [
      "Starting experimental run with id: 18. \n"
     ]
    },
    {
     "name": "stdout",
     "output_type": "stream",
     "text": [
      "Starting experimental run with id: 19. \n"
     ]
    },
    {
     "name": "stdout",
     "output_type": "stream",
     "text": [
      "Starting experimental run with id: 20. \n"
     ]
    },
    {
     "name": "stdout",
     "output_type": "stream",
     "text": [
      "Starting experimental run with id: 21. \n"
     ]
    },
    {
     "name": "stdout",
     "output_type": "stream",
     "text": [
      "Starting experimental run with id: 22. \n"
     ]
    },
    {
     "name": "stdout",
     "output_type": "stream",
     "text": [
      "Starting experimental run with id: 23. \n"
     ]
    },
    {
     "name": "stdout",
     "output_type": "stream",
     "text": [
      "Starting experimental run with id: 24. \n"
     ]
    },
    {
     "name": "stdout",
     "output_type": "stream",
     "text": [
      "Starting experimental run with id: 25. \n"
     ]
    },
    {
     "name": "stdout",
     "output_type": "stream",
     "text": [
      "Starting experimental run with id: 26. \n"
     ]
    },
    {
     "name": "stdout",
     "output_type": "stream",
     "text": [
      "Starting experimental run with id: 27. \n"
     ]
    },
    {
     "name": "stdout",
     "output_type": "stream",
     "text": [
      "Starting experimental run with id: 28. \n"
     ]
    }
   ],
   "source": [
    "sizes = [1,500,1000,2000,3000,4000,5000]\n",
    "nreps = 100\n",
    "t_numeric = []\n",
    "t_numeric_add = []\n",
    "t_numeric_run_ids = []\n",
    "t_array = []\n",
    "t_array_add = []\n",
    "t_array_run_ids = []\n",
    "for size in sizes:\n",
    "    tn, tna, run_id_n =  insert_data('numeric', size, nreps=nreps)\n",
    "    t_numeric.append(tn)\n",
    "    t_numeric_add.append(tna)\n",
    "    t_numeric_run_ids.append(run_id_n)\n",
    "\n",
    "    ta, taa, run_id_a =  insert_data('array', size, nreps=nreps)\n",
    "    t_array.append(ta)\n",
    "    t_array_add.append(taa)\n",
    "    t_array_run_ids.append(run_id_a)"
   ]
  },
  {
   "cell_type": "code",
   "execution_count": 8,
   "metadata": {
    "execution": {
     "iopub.execute_input": "2021-02-16T08:55:51.387495Z",
     "iopub.status.busy": "2021-02-16T08:55:51.386894Z",
     "iopub.status.idle": "2021-02-16T08:55:51.557357Z",
     "shell.execute_reply": "2021-02-16T08:55:51.557852Z"
    },
    "scrolled": true
   },
   "outputs": [
    {
     "data": {
      "image/png": "[encoded data removed]",
      "text/plain": [
       "<Figure size 432x288 with 1 Axes>"
      ]
     },
     "metadata": {
      "needs_background": "light"
     },
     "output_type": "display_data"
    }
   ],
   "source": [
    "fig, ax = plt.subplots(1,1)\n",
    "ax.plot(sizes, t_numeric, 'o-', label='Inserting row-by-row')\n",
    "ax.plot(sizes, t_numeric_add, 'o-', label='Inserting row-by-row: add_result only')\n",
    "ax.plot(sizes, t_array, 'd-', label='Inserting as binary blob')\n",
    "ax.plot(sizes, t_array_add, 'd-', label='Inserting as binary blob: add_result only')\n",
    "ax.legend()\n",
    "ax.set_xlabel('Array length')\n",
    "ax.set_ylabel('Time (s)')\n",
    "fig.tight_layout()"
   ]
  },
  {
   "cell_type": "markdown",
   "metadata": {},
   "source": [
    "However, as we increase the length of the experiment, as seen here by repeating the insertion 100 times, we see a big difference between inserting values of the data row-by-row and inserting it as a binary blob."
   ]
  },
  {
   "cell_type": "markdown",
   "metadata": {},
   "source": [
    "## Loading the data "
   ]
  },
  {
   "cell_type": "code",
   "execution_count": 9,
   "metadata": {
    "execution": {
     "iopub.execute_input": "2021-02-16T08:55:51.562458Z",
     "iopub.status.busy": "2021-02-16T08:55:51.561844Z",
     "iopub.status.idle": "2021-02-16T08:55:51.564772Z",
     "shell.execute_reply": "2021-02-16T08:55:51.564222Z"
    }
   },
   "outputs": [],
   "source": [
    "from qcodes.dataset.data_set import load_by_id\n",
    "from qcodes.dataset.data_export import get_data_by_id"
   ]
  },
  {
   "cell_type": "markdown",
   "metadata": {},
   "source": [
    "As usual you can load the data by using the ``load_by_id`` function but you will notice that the different storage methods\n",
    "are reflected in shape of the data as it is retrieved. "
   ]
  },
  {
   "cell_type": "code",
   "execution_count": 10,
   "metadata": {
    "execution": {
     "iopub.execute_input": "2021-02-16T08:55:51.569554Z",
     "iopub.status.busy": "2021-02-16T08:55:51.568172Z",
     "iopub.status.idle": "2021-02-16T08:55:51.570211Z",
     "shell.execute_reply": "2021-02-16T08:55:51.570686Z"
    }
   },
   "outputs": [],
   "source": [
    "run_id_n = t_numeric_run_ids[0]\n",
    "run_id_a = t_array_run_ids[0]"
   ]
  },
  {
   "cell_type": "code",
   "execution_count": 11,
   "metadata": {
    "execution": {
     "iopub.execute_input": "2021-02-16T08:55:51.574250Z",
     "iopub.status.busy": "2021-02-16T08:55:51.572982Z",
     "iopub.status.idle": "2021-02-16T08:55:51.583821Z",
     "shell.execute_reply": "2021-02-16T08:55:51.583355Z"
    },
    "scrolled": true
   },
   "outputs": [
    {
     "data": {
      "text/plain": [
       "{'x1': {'x1': array([0.51785157, 0.51785157, 0.22261836, 0.22261836, 0.86301736,\n",
       "         0.86301736, 0.61966708, 0.61966708, 0.80270817, 0.80270817,\n",
       "         0.69406003, 0.69406003, 0.21228953, 0.21228953, 0.3686635 ,\n",
       "         0.3686635 , 0.40035756, 0.40035756, 0.81877637, 0.81877637,\n",
       "         0.4266644 , 0.4266644 , 0.53633744, 0.53633744, 0.84020903,\n",
       "         0.84020903, 0.50489684, 0.50489684, 0.6531146 , 0.6531146 ,\n",
       "         0.96002364, 0.96002364, 0.8529918 , 0.8529918 , 0.24450901,\n",
       "         0.24450901, 0.91023069, 0.91023069, 0.01883619, 0.01883619,\n",
       "         0.47777226, 0.47777226, 0.38554666, 0.38554666, 0.37048292,\n",
       "         0.37048292, 0.85630458, 0.85630458, 0.76136225, 0.76136225,\n",
       "         0.85156594, 0.85156594, 0.87883515, 0.87883515, 0.9235138 ,\n",
       "         0.9235138 , 0.66108504, 0.66108504, 0.68260844, 0.68260844,\n",
       "         0.75037704, 0.75037704, 0.809935  , 0.809935  , 0.31375649,\n",
       "         0.31375649, 0.8211923 , 0.8211923 , 0.31030688, 0.31030688,\n",
       "         0.99596631, 0.99596631, 0.43045064, 0.43045064, 0.78952508,\n",
       "         0.78952508, 0.14055431, 0.14055431, 0.39466111, 0.39466111,\n",
       "         0.04591369, 0.04591369, 0.37928194, 0.37928194, 0.66776097,\n",
       "         0.66776097, 0.97509936, 0.97509936, 0.60734173, 0.60734173,\n",
       "         0.51184118, 0.51184118, 0.71599394, 0.71599394, 0.44111878,\n",
       "         0.44111878, 0.85460171, 0.85460171, 0.33792912, 0.33792912,\n",
       "         0.04878418, 0.04878418, 0.70923593, 0.70923593, 0.9440517 ,\n",
       "         0.9440517 , 0.08672243, 0.08672243, 0.22162274, 0.22162274,\n",
       "         0.39285534, 0.39285534, 0.69342805, 0.69342805, 0.78970415,\n",
       "         0.78970415, 0.21131312, 0.21131312, 0.91744982, 0.91744982,\n",
       "         0.47605533, 0.47605533, 0.25213381, 0.25213381, 0.40601505,\n",
       "         0.40601505, 0.28738334, 0.28738334, 0.30396761, 0.30396761,\n",
       "         0.01060452, 0.01060452, 0.17224785, 0.17224785, 0.76491093,\n",
       "         0.76491093, 0.0771269 , 0.0771269 , 0.47650643, 0.47650643,\n",
       "         0.54634683, 0.54634683, 0.61486722, 0.61486722, 0.6427797 ,\n",
       "         0.6427797 , 0.5862016 , 0.5862016 , 0.18780429, 0.18780429,\n",
       "         0.09622248, 0.09622248, 0.88221447, 0.88221447, 0.8522145 ,\n",
       "         0.8522145 , 0.81448582, 0.81448582, 0.98457308, 0.98457308,\n",
       "         0.32597938, 0.32597938, 0.38474294, 0.38474294, 0.78915271,\n",
       "         0.78915271, 0.82333388, 0.82333388, 0.05748147, 0.05748147,\n",
       "         0.55293581, 0.55293581, 0.63472606, 0.63472606, 0.62031294,\n",
       "         0.62031294, 0.63610763, 0.63610763, 0.00848694, 0.00848694,\n",
       "         0.8061728 , 0.8061728 , 0.89194654, 0.89194654, 0.75530457,\n",
       "         0.75530457, 0.61503282, 0.61503282, 0.84584499, 0.84584499,\n",
       "         0.89684197, 0.89684197, 0.71950655, 0.71950655, 0.04326581,\n",
       "         0.04326581, 0.55154692, 0.55154692, 0.76798562, 0.76798562])}}"
      ]
     },
     "execution_count": 1,
     "metadata": {},
     "output_type": "execute_result"
    }
   ],
   "source": [
    "ds = load_by_id(run_id_n)\n",
    "ds.get_parameter_data('x1')"
   ]
  },
  {
   "cell_type": "markdown",
   "metadata": {},
   "source": [
    "And a dataset stored as binary arrays"
   ]
  },
  {
   "cell_type": "code",
   "execution_count": 12,
   "metadata": {
    "execution": {
     "iopub.execute_input": "2021-02-16T08:55:51.587381Z",
     "iopub.status.busy": "2021-02-16T08:55:51.586816Z",
     "iopub.status.idle": "2021-02-16T08:55:51.644028Z",
     "shell.execute_reply": "2021-02-16T08:55:51.644518Z"
    },
    "scrolled": true
   },
   "outputs": [
    {
     "data": {
      "text/plain": [
       "{'x1': {'x1': array([[0.44127387],\n",
       "         [0.44127387],\n",
       "         [0.37493615],\n",
       "         [0.37493615],\n",
       "         [0.18478848],\n",
       "         [0.18478848],\n",
       "         [0.69279013],\n",
       "         [0.69279013],\n",
       "         [0.24377642],\n",
       "         [0.24377642],\n",
       "         [0.39944209],\n",
       "         [0.39944209],\n",
       "         [0.22432877],\n",
       "         [0.22432877],\n",
       "         [0.46654689],\n",
       "         [0.46654689],\n",
       "         [0.86451956],\n",
       "         [0.86451956],\n",
       "         [0.28430204],\n",
       "         [0.28430204],\n",
       "         [0.81069872],\n",
       "         [0.81069872],\n",
       "         [0.71273754],\n",
       "         [0.71273754],\n",
       "         [0.54401064],\n",
       "         [0.54401064],\n",
       "         [0.01063202],\n",
       "         [0.01063202],\n",
       "         [0.91796717],\n",
       "         [0.91796717],\n",
       "         [0.00160831],\n",
       "         [0.00160831],\n",
       "         [0.6538347 ],\n",
       "         [0.6538347 ],\n",
       "         [0.84062198],\n",
       "         [0.84062198],\n",
       "         [0.52443056],\n",
       "         [0.52443056],\n",
       "         [0.1374583 ],\n",
       "         [0.1374583 ],\n",
       "         [0.99884943],\n",
       "         [0.99884943],\n",
       "         [0.60442542],\n",
       "         [0.60442542],\n",
       "         [0.69115414],\n",
       "         [0.69115414],\n",
       "         [0.90085353],\n",
       "         [0.90085353],\n",
       "         [0.460492  ],\n",
       "         [0.460492  ],\n",
       "         [0.86151046],\n",
       "         [0.86151046],\n",
       "         [0.93022287],\n",
       "         [0.93022287],\n",
       "         [0.20348204],\n",
       "         [0.20348204],\n",
       "         [0.06816731],\n",
       "         [0.06816731],\n",
       "         [0.57687191],\n",
       "         [0.57687191],\n",
       "         [0.601546  ],\n",
       "         [0.601546  ],\n",
       "         [0.81421038],\n",
       "         [0.81421038],\n",
       "         [0.06437597],\n",
       "         [0.06437597],\n",
       "         [0.65716478],\n",
       "         [0.65716478],\n",
       "         [0.02720961],\n",
       "         [0.02720961],\n",
       "         [0.60273509],\n",
       "         [0.60273509],\n",
       "         [0.14158936],\n",
       "         [0.14158936],\n",
       "         [0.17585275],\n",
       "         [0.17585275],\n",
       "         [0.79305356],\n",
       "         [0.79305356],\n",
       "         [0.20999387],\n",
       "         [0.20999387],\n",
       "         [0.65839854],\n",
       "         [0.65839854],\n",
       "         [0.1470812 ],\n",
       "         [0.1470812 ],\n",
       "         [0.79827949],\n",
       "         [0.79827949],\n",
       "         [0.37283949],\n",
       "         [0.37283949],\n",
       "         [0.15478063],\n",
       "         [0.15478063],\n",
       "         [0.5443029 ],\n",
       "         [0.5443029 ],\n",
       "         [0.16628459],\n",
       "         [0.16628459],\n",
       "         [0.03252757],\n",
       "         [0.03252757],\n",
       "         [0.46647775],\n",
       "         [0.46647775],\n",
       "         [0.95790849],\n",
       "         [0.95790849],\n",
       "         [0.40201118],\n",
       "         [0.40201118],\n",
       "         [0.77149857],\n",
       "         [0.77149857],\n",
       "         [0.75321932],\n",
       "         [0.75321932],\n",
       "         [0.27900345],\n",
       "         [0.27900345],\n",
       "         [0.32108885],\n",
       "         [0.32108885],\n",
       "         [0.89920978],\n",
       "         [0.89920978],\n",
       "         [0.80177502],\n",
       "         [0.80177502],\n",
       "         [0.17381012],\n",
       "         [0.17381012],\n",
       "         [0.2462349 ],\n",
       "         [0.2462349 ],\n",
       "         [0.18204515],\n",
       "         [0.18204515],\n",
       "         [0.26583252],\n",
       "         [0.26583252],\n",
       "         [0.07020804],\n",
       "         [0.07020804],\n",
       "         [0.33393108],\n",
       "         [0.33393108],\n",
       "         [0.07942211],\n",
       "         [0.07942211],\n",
       "         [0.43734149],\n",
       "         [0.43734149],\n",
       "         [0.59914844],\n",
       "         [0.59914844],\n",
       "         [0.19580778],\n",
       "         [0.19580778],\n",
       "         [0.33601871],\n",
       "         [0.33601871],\n",
       "         [0.57738491],\n",
       "         [0.57738491],\n",
       "         [0.82038267],\n",
       "         [0.82038267],\n",
       "         [0.1187702 ],\n",
       "         [0.1187702 ],\n",
       "         [0.52166499],\n",
       "         [0.52166499],\n",
       "         [0.28406359],\n",
       "         [0.28406359],\n",
       "         [0.99127307],\n",
       "         [0.99127307],\n",
       "         [0.82356207],\n",
       "         [0.82356207],\n",
       "         [0.41823667],\n",
       "         [0.41823667],\n",
       "         [0.55922106],\n",
       "         [0.55922106],\n",
       "         [0.77639283],\n",
       "         [0.77639283],\n",
       "         [0.99306845],\n",
       "         [0.99306845],\n",
       "         [0.60489362],\n",
       "         [0.60489362],\n",
       "         [0.38947197],\n",
       "         [0.38947197],\n",
       "         [0.8922833 ],\n",
       "         [0.8922833 ],\n",
       "         [0.58441532],\n",
       "         [0.58441532],\n",
       "         [0.56711972],\n",
       "         [0.56711972],\n",
       "         [0.88898577],\n",
       "         [0.88898577],\n",
       "         [0.20668053],\n",
       "         [0.20668053],\n",
       "         [0.98474221],\n",
       "         [0.98474221],\n",
       "         [0.04745416],\n",
       "         [0.04745416],\n",
       "         [0.54889437],\n",
       "         [0.54889437],\n",
       "         [0.15679525],\n",
       "         [0.15679525],\n",
       "         [0.36474978],\n",
       "         [0.36474978],\n",
       "         [0.2620961 ],\n",
       "         [0.2620961 ],\n",
       "         [0.46503006],\n",
       "         [0.46503006],\n",
       "         [0.01950258],\n",
       "         [0.01950258],\n",
       "         [0.20130733],\n",
       "         [0.20130733],\n",
       "         [0.80237741],\n",
       "         [0.80237741],\n",
       "         [0.55051111],\n",
       "         [0.55051111],\n",
       "         [0.86699747],\n",
       "         [0.86699747],\n",
       "         [0.44609518],\n",
       "         [0.44609518],\n",
       "         [0.10050824],\n",
       "         [0.10050824]])}}"
      ]
     },
     "execution_count": 1,
     "metadata": {},
     "output_type": "execute_result"
    }
   ],
   "source": [
    "ds = load_by_id(run_id_a)\n",
    "ds.get_parameter_data('x1')"
   ]
  },
  {
   "cell_type": "code",
   "execution_count": null,
   "metadata": {},
   "outputs": [],
   "source": []
  }
 ],
 "metadata": {
  "kernelspec": {
   "display_name": "Python 3",
   "language": "python",
   "name": "python3"
  },
  "language_info": {
   "codemirror_mode": {
    "name": "ipython",
    "version": 3
   },
   "file_extension": ".py",
   "mimetype": "text/x-python",
   "name": "python",
   "nbconvert_exporter": "python",
   "pygments_lexer": "ipython3",
   "version": "3.7.9"
  },
  "nbsphinx": {
   "timeout": 600
  },
  "toc": {
   "base_numbering": 1,
   "nav_menu": {},
   "number_sections": true,
   "sideBar": true,
   "skip_h1_title": false,
   "title_cell": "Table of Contents",
   "title_sidebar": "Contents",
   "toc_cell": false,
   "toc_position": {},
   "toc_section_display": true,
   "toc_window_display": false
  },
  "varInspector": {
   "cols": {
    "lenName": 16,
    "lenType": 16,
    "lenVar": 40
   },
   "kernels_config": {
    "python": {
     "delete_cmd_postfix": "",
     "delete_cmd_prefix": "del ",
     "library": "var_list.py",
     "varRefreshCmd": "print(var_dic_list())"
    },
    "r": {
     "delete_cmd_postfix": ") ",
     "delete_cmd_prefix": "rm(",
     "library": "var_list.r",
     "varRefreshCmd": "cat(var_dic_list()) "
    }
   },
   "types_to_exclude": [
    "module",
    "function",
    "builtin_function_or_method",
    "instance",
    "_Feature"
   ],
   "window_display": false
  }
 },
 "nbformat": 4,
 "nbformat_minor": 2
}
