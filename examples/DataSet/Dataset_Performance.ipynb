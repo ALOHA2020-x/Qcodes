{
 "cells": [
  {
   "cell_type": "markdown",
   "metadata": {},
   "source": [
    "# DataSet Performance\n",
    "\n",
    "This notebook shows the trade-off between inserting data into a database row-by-row and as binary blobs. Inserting the data row-by-row means that we have direct access to all the data and may perform queries directly on the values of the data. On the other hand, as we shall see, this is much slower than inserting the data directly as binary blobs."
   ]
  },
  {
   "cell_type": "markdown",
   "metadata": {},
   "source": [
    "First, we choose a new location for the database to ensure that we don't add a bunch of benchmarking data to the default one."
   ]
  },
  {
   "cell_type": "code",
   "execution_count": 1,
   "metadata": {
    "execution": {
     "iopub.execute_input": "2021-05-21T07:46:30.474319Z",
     "iopub.status.busy": "2021-05-21T07:46:30.473746Z",
     "iopub.status.idle": "2021-05-21T07:46:31.487538Z",
     "shell.execute_reply": "2021-05-21T07:46:31.488029Z"
    }
   },
   "outputs": [
    {
     "name": "stdout",
     "output_type": "stream",
     "text": [
      "Logging hadn't been started.\n",
      "Activating auto-logging. Current session state plus future input saved.\n",
      "Filename       : /home/runner/.qcodes/logs/command_history.log\n",
      "Mode           : append\n",
      "Output logging : True\n",
      "Raw input log  : False\n",
      "Timestamping   : True\n",
      "State          : active\n"
     ]
    },
    {
     "name": "stdout",
     "output_type": "stream",
     "text": [
      "Qcodes Logfile : /home/runner/.qcodes/logs/210521-4531-qcodes.log\n"
     ]
    }
   ],
   "source": [
    "import os\n",
    "cwd = os.getcwd()\n",
    "import qcodes as qc\n",
    "qc.config[\"core\"][\"db_location\"] = os.path.join(cwd, 'testing.db')\n"
   ]
  },
  {
   "cell_type": "code",
   "execution_count": 2,
   "metadata": {
    "execution": {
     "iopub.execute_input": "2021-05-21T07:46:31.493802Z",
     "iopub.status.busy": "2021-05-21T07:46:31.493314Z",
     "iopub.status.idle": "2021-05-21T07:46:31.668099Z",
     "shell.execute_reply": "2021-05-21T07:46:31.668569Z"
    }
   },
   "outputs": [],
   "source": [
    "%matplotlib inline\n",
    "import time\n",
    "import matplotlib.pyplot as plt\n",
    "import numpy as np\n",
    "\n",
    "import qcodes as qc\n",
    "from qcodes.instrument.parameter import ManualParameter\n",
    "from qcodes.dataset.experiment_container import (Experiment,\n",
    "                                                 load_last_experiment,\n",
    "                                                 new_experiment)\n",
    "from qcodes.dataset.sqlite.database import initialise_database\n",
    "from qcodes import load_or_create_experiment\n",
    "from qcodes.dataset.measurements import Measurement"
   ]
  },
  {
   "cell_type": "code",
   "execution_count": 3,
   "metadata": {
    "execution": {
     "iopub.execute_input": "2021-05-21T07:46:31.672304Z",
     "iopub.status.busy": "2021-05-21T07:46:31.671668Z",
     "iopub.status.idle": "2021-05-21T07:46:31.729759Z",
     "shell.execute_reply": "2021-05-21T07:46:31.730138Z"
    }
   },
   "outputs": [
    {
     "name": "stdout",
     "output_type": "stream",
     "text": [
      "\r",
      "0it [00:00, ?it/s]"
     ]
    },
    {
     "name": "stdout",
     "output_type": "stream",
     "text": [
      "\r",
      "Upgrading database; v0 -> v1: : 0it [00:00, ?it/s]"
     ]
    },
    {
     "name": "stdout",
     "output_type": "stream",
     "text": [
      "\r",
      "Upgrading database; v0 -> v1: : 0it [00:00, ?it/s]"
     ]
    },
    {
     "name": "stdout",
     "output_type": "stream",
     "text": [
      "\n",
      "\r",
      "  0%|          | 0/1 [00:00<?, ?it/s]"
     ]
    },
    {
     "name": "stdout",
     "output_type": "stream",
     "text": [
      "\r",
      "Upgrading database; v1 -> v2:   0%|          | 0/1 [00:00<?, ?it/s]"
     ]
    },
    {
     "name": "stdout",
     "output_type": "stream",
     "text": [
      "\r",
      "Upgrading database; v1 -> v2: 100%|██████████| 1/1 [00:00<00:00, 517.50it/s]"
     ]
    },
    {
     "name": "stdout",
     "output_type": "stream",
     "text": [
      "\n",
      "\r",
      "0it [00:00, ?it/s]"
     ]
    },
    {
     "name": "stdout",
     "output_type": "stream",
     "text": [
      "\r",
      "Upgrading database; v2 -> v3: : 0it [00:00, ?it/s]"
     ]
    },
    {
     "name": "stdout",
     "output_type": "stream",
     "text": [
      "\r",
      "Upgrading database; v2 -> v3: : 0it [00:00, ?it/s]"
     ]
    },
    {
     "name": "stdout",
     "output_type": "stream",
     "text": [
      "\n",
      "\r",
      "0it [00:00, ?it/s]"
     ]
    },
    {
     "name": "stdout",
     "output_type": "stream",
     "text": [
      "\r",
      "Upgrading database; v3 -> v4: : 0it [00:00, ?it/s]"
     ]
    },
    {
     "name": "stdout",
     "output_type": "stream",
     "text": [
      "\r",
      "Upgrading database; v3 -> v4: : 0it [00:00, ?it/s]"
     ]
    },
    {
     "name": "stdout",
     "output_type": "stream",
     "text": [
      "\n",
      "\r",
      "  0%|          | 0/1 [00:00<?, ?it/s]"
     ]
    },
    {
     "name": "stdout",
     "output_type": "stream",
     "text": [
      "\r",
      "Upgrading database; v4 -> v5:   0%|          | 0/1 [00:00<?, ?it/s]"
     ]
    },
    {
     "name": "stdout",
     "output_type": "stream",
     "text": [
      "\r",
      "Upgrading database; v4 -> v5: 100%|██████████| 1/1 [00:00<00:00, 486.52it/s]"
     ]
    },
    {
     "name": "stdout",
     "output_type": "stream",
     "text": [
      "\n",
      "\r",
      "0it [00:00, ?it/s]"
     ]
    },
    {
     "name": "stdout",
     "output_type": "stream",
     "text": [
      "\r",
      "Upgrading database; v5 -> v6: : 0it [00:00, ?it/s]"
     ]
    },
    {
     "name": "stdout",
     "output_type": "stream",
     "text": [
      "\r",
      "Upgrading database; v5 -> v6: : 0it [00:00, ?it/s]"
     ]
    },
    {
     "name": "stdout",
     "output_type": "stream",
     "text": [
      "\n",
      "\r",
      "  0%|          | 0/1 [00:00<?, ?it/s]"
     ]
    },
    {
     "name": "stdout",
     "output_type": "stream",
     "text": [
      "\r",
      "Upgrading database; v6 -> v7:   0%|          | 0/1 [00:00<?, ?it/s]"
     ]
    },
    {
     "name": "stdout",
     "output_type": "stream",
     "text": [
      "\r",
      "Upgrading database; v6 -> v7: 100%|██████████| 1/1 [00:00<00:00, 280.14it/s]"
     ]
    },
    {
     "name": "stdout",
     "output_type": "stream",
     "text": [
      "\n",
      "\r",
      "  0%|          | 0/1 [00:00<?, ?it/s]"
     ]
    },
    {
     "name": "stdout",
     "output_type": "stream",
     "text": [
      "\r",
      "Upgrading database; v7 -> v8:   0%|          | 0/1 [00:00<?, ?it/s]"
     ]
    },
    {
     "name": "stdout",
     "output_type": "stream",
     "text": [
      "\r",
      "Upgrading database; v7 -> v8: 100%|██████████| 1/1 [00:00<00:00, 403.22it/s]"
     ]
    },
    {
     "name": "stdout",
     "output_type": "stream",
     "text": [
      "\n",
      "\r",
      "  0%|          | 0/1 [00:00<?, ?it/s]"
     ]
    },
    {
     "name": "stdout",
     "output_type": "stream",
     "text": [
      "\r",
      "Upgrading database; v8 -> v9:   0%|          | 0/1 [00:00<?, ?it/s]"
     ]
    },
    {
     "name": "stdout",
     "output_type": "stream",
     "text": [
      "\r",
      "Upgrading database; v8 -> v9: 100%|██████████| 1/1 [00:00<00:00, 1437.88it/s]"
     ]
    },
    {
     "name": "stdout",
     "output_type": "stream",
     "text": [
      "\n"
     ]
    }
   ],
   "source": [
    "initialise_database()\n",
    "exp = load_or_create_experiment(experiment_name='tutorial_exp', sample_name=\"no sample\")"
   ]
  },
  {
   "cell_type": "markdown",
   "metadata": {},
   "source": [
    "Here, we define a simple function to benchmark the time it takes to insert n points with either numeric or array data type.\n",
    "We will compare both the time used to call ``add_result`` and the time used for the full measurement."
   ]
  },
  {
   "cell_type": "code",
   "execution_count": 4,
   "metadata": {
    "execution": {
     "iopub.execute_input": "2021-05-21T07:46:31.737749Z",
     "iopub.status.busy": "2021-05-21T07:46:31.737257Z",
     "iopub.status.idle": "2021-05-21T07:46:31.741045Z",
     "shell.execute_reply": "2021-05-21T07:46:31.740615Z"
    }
   },
   "outputs": [],
   "source": [
    "def insert_data(paramtype, npoints, nreps=1):\n",
    "\n",
    "    meas = Measurement(exp=exp)\n",
    "\n",
    "    x1 = ManualParameter('x1')\n",
    "    x2 = ManualParameter('x2')\n",
    "    x3 = ManualParameter('x3')\n",
    "    y1 = ManualParameter('y1')\n",
    "    y2 = ManualParameter('y2')\n",
    "\n",
    "    meas.register_parameter(x1, paramtype=paramtype)\n",
    "    meas.register_parameter(x2, paramtype=paramtype)\n",
    "    meas.register_parameter(x3, paramtype=paramtype)\n",
    "    meas.register_parameter(y1, setpoints=[x1, x2, x3],\n",
    "                            paramtype=paramtype)\n",
    "    meas.register_parameter(y2, setpoints=[x1, x2, x3],\n",
    "                            paramtype=paramtype)\n",
    "    start = time.perf_counter()\n",
    "    with meas.run() as datasaver:\n",
    "        start_adding = time.perf_counter()\n",
    "        for i in range(nreps):\n",
    "            datasaver.add_result((x1, np.random.rand(npoints)),\n",
    "                                 (x2, np.random.rand(npoints)),\n",
    "                                 (x3, np.random.rand(npoints)),\n",
    "                                 (y1, np.random.rand(npoints)),\n",
    "                                 (y2, np.random.rand(npoints)))\n",
    "        stop_adding = time.perf_counter()\n",
    "        run_id = datasaver.run_id\n",
    "    stop = time.perf_counter()\n",
    "    tot_time = stop - start\n",
    "    add_time = stop_adding - start_adding\n",
    "    return tot_time, add_time, run_id"
   ]
  },
  {
   "cell_type": "markdown",
   "metadata": {},
   "source": [
    "## Comparison between numeric/array data and binary blob"
   ]
  },
  {
   "cell_type": "markdown",
   "metadata": {},
   "source": [
    "### Case1: Short experiment time"
   ]
  },
  {
   "cell_type": "code",
   "execution_count": 5,
   "metadata": {
    "execution": {
     "iopub.execute_input": "2021-05-21T07:46:31.746982Z",
     "iopub.status.busy": "2021-05-21T07:46:31.746386Z",
     "iopub.status.idle": "2021-05-21T07:46:32.402024Z",
     "shell.execute_reply": "2021-05-21T07:46:32.401323Z"
    }
   },
   "outputs": [
    {
     "name": "stdout",
     "output_type": "stream",
     "text": [
      "Starting experimental run with id: 1. \n",
      "Starting experimental run with id: 2. \n",
      "Starting experimental run with id: 3. \n",
      "Starting experimental run with id: 4. \n",
      "Starting experimental run with id: 5. \n"
     ]
    },
    {
     "name": "stdout",
     "output_type": "stream",
     "text": [
      "Starting experimental run with id: 6. \n"
     ]
    },
    {
     "name": "stdout",
     "output_type": "stream",
     "text": [
      "Starting experimental run with id: 7. \n"
     ]
    },
    {
     "name": "stdout",
     "output_type": "stream",
     "text": [
      "Starting experimental run with id: 8. \n",
      "Starting experimental run with id: 9. \n",
      "Starting experimental run with id: 10. \n"
     ]
    },
    {
     "name": "stdout",
     "output_type": "stream",
     "text": [
      "Starting experimental run with id: 11. \n"
     ]
    },
    {
     "name": "stdout",
     "output_type": "stream",
     "text": [
      "Starting experimental run with id: 12. \n",
      "Starting experimental run with id: 13. \n"
     ]
    },
    {
     "name": "stdout",
     "output_type": "stream",
     "text": [
      "Starting experimental run with id: 14. \n"
     ]
    }
   ],
   "source": [
    "sizes = [1,500,1000,2000,3000,4000,5000]\n",
    "t_numeric = []\n",
    "t_numeric_add = []\n",
    "t_array = []\n",
    "t_array_add = []\n",
    "for size in sizes:\n",
    "    tn, tna, run_id_n =  insert_data('numeric', size)\n",
    "    t_numeric.append(tn)\n",
    "    t_numeric_add.append(tna)\n",
    "\n",
    "    ta, taa, run_id_a =  insert_data('array', size)\n",
    "    t_array.append(ta)\n",
    "    t_array_add.append(taa)"
   ]
  },
  {
   "cell_type": "code",
   "execution_count": 6,
   "metadata": {
    "execution": {
     "iopub.execute_input": "2021-05-21T07:46:32.418533Z",
     "iopub.status.busy": "2021-05-21T07:46:32.418037Z",
     "iopub.status.idle": "2021-05-21T07:46:32.604657Z",
     "shell.execute_reply": "2021-05-21T07:46:32.605295Z"
    }
   },
   "outputs": [
    {
     "data": {
      "image/png": "[encoded data removed]",
      "text/plain": [
       "<Figure size 432x288 with 1 Axes>"
      ]
     },
     "metadata": {
      "needs_background": "light"
     },
     "output_type": "display_data"
    }
   ],
   "source": [
    "fig, ax = plt.subplots(1,1)\n",
    "ax.plot(sizes, t_numeric, 'o-', label='Inserting row-by-row')\n",
    "ax.plot(sizes, t_numeric_add, 'o-', label='Inserting row-by-row: add_result only')\n",
    "ax.plot(sizes, t_array, 'd-', label='Inserting as binary blob')\n",
    "ax.plot(sizes, t_array_add, 'd-', label='Inserting as binary blob: add_result only')\n",
    "ax.legend()\n",
    "ax.set_xlabel('Array length')\n",
    "ax.set_ylabel('Time (s)')\n",
    "fig.tight_layout()"
   ]
  },
  {
   "cell_type": "markdown",
   "metadata": {},
   "source": [
    "As shown in the latter figure, the time to setup and and close the experiment is approximately 0.4 sec. In case of small array sizes, the difference between inserting values of data as arrays and inserting them row-by-row is relatively unimportant. At larger array sizes, i.e. above 10000 points, the cost of writing data as individual datapoints starts to become important.\n"
   ]
  },
  {
   "cell_type": "markdown",
   "metadata": {},
   "source": [
    "### Case2: Long experiment time "
   ]
  },
  {
   "cell_type": "code",
   "execution_count": 7,
   "metadata": {
    "execution": {
     "iopub.execute_input": "2021-05-21T07:46:32.611726Z",
     "iopub.status.busy": "2021-05-21T07:46:32.610732Z",
     "iopub.status.idle": "2021-05-21T07:47:21.249011Z",
     "shell.execute_reply": "2021-05-21T07:47:21.248095Z"
    }
   },
   "outputs": [
    {
     "name": "stdout",
     "output_type": "stream",
     "text": [
      "Starting experimental run with id: 15. \n",
      "Starting experimental run with id: 16. \n",
      "Starting experimental run with id: 17. \n"
     ]
    },
    {
     "name": "stdout",
     "output_type": "stream",
     "text": [
      "Starting experimental run with id: 18. \n",
      "Starting experimental run with id: 19. \n"
     ]
    },
    {
     "name": "stdout",
     "output_type": "stream",
     "text": [
      "Starting experimental run with id: 20. \n"
     ]
    },
    {
     "name": "stdout",
     "output_type": "stream",
     "text": [
      "Starting experimental run with id: 21. \n"
     ]
    },
    {
     "name": "stdout",
     "output_type": "stream",
     "text": [
      "Starting experimental run with id: 22. \n"
     ]
    },
    {
     "name": "stdout",
     "output_type": "stream",
     "text": [
      "Starting experimental run with id: 23. \n"
     ]
    },
    {
     "name": "stdout",
     "output_type": "stream",
     "text": [
      "Starting experimental run with id: 24. \n"
     ]
    },
    {
     "name": "stdout",
     "output_type": "stream",
     "text": [
      "Starting experimental run with id: 25. \n"
     ]
    },
    {
     "name": "stdout",
     "output_type": "stream",
     "text": [
      "Starting experimental run with id: 26. \n"
     ]
    },
    {
     "name": "stdout",
     "output_type": "stream",
     "text": [
      "Starting experimental run with id: 27. \n"
     ]
    },
    {
     "name": "stdout",
     "output_type": "stream",
     "text": [
      "Starting experimental run with id: 28. \n"
     ]
    }
   ],
   "source": [
    "sizes = [1,500,1000,2000,3000,4000,5000]\n",
    "nreps = 100\n",
    "t_numeric = []\n",
    "t_numeric_add = []\n",
    "t_numeric_run_ids = []\n",
    "t_array = []\n",
    "t_array_add = []\n",
    "t_array_run_ids = []\n",
    "for size in sizes:\n",
    "    tn, tna, run_id_n =  insert_data('numeric', size, nreps=nreps)\n",
    "    t_numeric.append(tn)\n",
    "    t_numeric_add.append(tna)\n",
    "    t_numeric_run_ids.append(run_id_n)\n",
    "\n",
    "    ta, taa, run_id_a =  insert_data('array', size, nreps=nreps)\n",
    "    t_array.append(ta)\n",
    "    t_array_add.append(taa)\n",
    "    t_array_run_ids.append(run_id_a)"
   ]
  },
  {
   "cell_type": "code",
   "execution_count": 8,
   "metadata": {
    "execution": {
     "iopub.execute_input": "2021-05-21T07:47:21.265552Z",
     "iopub.status.busy": "2021-05-21T07:47:21.254275Z",
     "iopub.status.idle": "2021-05-21T07:47:21.439604Z",
     "shell.execute_reply": "2021-05-21T07:47:21.439172Z"
    },
    "scrolled": true
   },
   "outputs": [
    {
     "data": {
      "image/png": "[encoded data removed]",
      "text/plain": [
       "<Figure size 432x288 with 1 Axes>"
      ]
     },
     "metadata": {
      "needs_background": "light"
     },
     "output_type": "display_data"
    }
   ],
   "source": [
    "fig, ax = plt.subplots(1,1)\n",
    "ax.plot(sizes, t_numeric, 'o-', label='Inserting row-by-row')\n",
    "ax.plot(sizes, t_numeric_add, 'o-', label='Inserting row-by-row: add_result only')\n",
    "ax.plot(sizes, t_array, 'd-', label='Inserting as binary blob')\n",
    "ax.plot(sizes, t_array_add, 'd-', label='Inserting as binary blob: add_result only')\n",
    "ax.legend()\n",
    "ax.set_xlabel('Array length')\n",
    "ax.set_ylabel('Time (s)')\n",
    "fig.tight_layout()"
   ]
  },
  {
   "cell_type": "markdown",
   "metadata": {},
   "source": [
    "However, as we increase the length of the experiment, as seen here by repeating the insertion 100 times, we see a big difference between inserting values of the data row-by-row and inserting it as a binary blob."
   ]
  },
  {
   "cell_type": "markdown",
   "metadata": {},
   "source": [
    "## Loading the data "
   ]
  },
  {
   "cell_type": "code",
   "execution_count": 9,
   "metadata": {
    "execution": {
     "iopub.execute_input": "2021-05-21T07:47:21.443310Z",
     "iopub.status.busy": "2021-05-21T07:47:21.442835Z",
     "iopub.status.idle": "2021-05-21T07:47:21.446499Z",
     "shell.execute_reply": "2021-05-21T07:47:21.446081Z"
    }
   },
   "outputs": [],
   "source": [
    "from qcodes.dataset.data_set import load_by_id"
   ]
  },
  {
   "cell_type": "markdown",
   "metadata": {},
   "source": [
    "As usual you can load the data by using the ``load_by_id`` function but you will notice that the different storage methods\n",
    "are reflected in shape of the data as it is retrieved. "
   ]
  },
  {
   "cell_type": "code",
   "execution_count": 10,
   "metadata": {
    "execution": {
     "iopub.execute_input": "2021-05-21T07:47:21.450397Z",
     "iopub.status.busy": "2021-05-21T07:47:21.449377Z",
     "iopub.status.idle": "2021-05-21T07:47:21.450968Z",
     "shell.execute_reply": "2021-05-21T07:47:21.451369Z"
    }
   },
   "outputs": [],
   "source": [
    "run_id_n = t_numeric_run_ids[0]\n",
    "run_id_a = t_array_run_ids[0]"
   ]
  },
  {
   "cell_type": "code",
   "execution_count": 11,
   "metadata": {
    "execution": {
     "iopub.execute_input": "2021-05-21T07:47:21.454382Z",
     "iopub.status.busy": "2021-05-21T07:47:21.453897Z",
     "iopub.status.idle": "2021-05-21T07:47:21.462305Z",
     "shell.execute_reply": "2021-05-21T07:47:21.461905Z"
    },
    "scrolled": true
   },
   "outputs": [
    {
     "data": {
      "text/plain": [
       "{'x1': {'x1': array([0.65312269, 0.65312269, 0.91348708, 0.91348708, 0.51642607,\n",
       "         0.51642607, 0.43985176, 0.43985176, 0.91850895, 0.91850895,\n",
       "         0.94613512, 0.94613512, 0.05381624, 0.05381624, 0.80939277,\n",
       "         0.80939277, 0.71109995, 0.71109995, 0.53963212, 0.53963212,\n",
       "         0.95312432, 0.95312432, 0.74506711, 0.74506711, 0.92618161,\n",
       "         0.92618161, 0.15413395, 0.15413395, 0.74247245, 0.74247245,\n",
       "         0.39974125, 0.39974125, 0.81618228, 0.81618228, 0.53974464,\n",
       "         0.53974464, 0.86693725, 0.86693725, 0.62261301, 0.62261301,\n",
       "         0.90894051, 0.90894051, 0.43739728, 0.43739728, 0.30829659,\n",
       "         0.30829659, 0.20089641, 0.20089641, 0.81519246, 0.81519246,\n",
       "         0.00935893, 0.00935893, 0.85770671, 0.85770671, 0.87766579,\n",
       "         0.87766579, 0.89330802, 0.89330802, 0.0593417 , 0.0593417 ,\n",
       "         0.10726948, 0.10726948, 0.2940372 , 0.2940372 , 0.23833202,\n",
       "         0.23833202, 0.08045603, 0.08045603, 0.10073019, 0.10073019,\n",
       "         0.66691091, 0.66691091, 0.8004191 , 0.8004191 , 0.41527032,\n",
       "         0.41527032, 0.73870011, 0.73870011, 0.8976323 , 0.8976323 ,\n",
       "         0.31361652, 0.31361652, 0.22490976, 0.22490976, 0.57380566,\n",
       "         0.57380566, 0.66193631, 0.66193631, 0.51658546, 0.51658546,\n",
       "         0.09783269, 0.09783269, 0.61164863, 0.61164863, 0.26550742,\n",
       "         0.26550742, 0.96615218, 0.96615218, 0.65660089, 0.65660089,\n",
       "         0.66993181, 0.66993181, 0.68509167, 0.68509167, 0.51499176,\n",
       "         0.51499176, 0.14212007, 0.14212007, 0.40505082, 0.40505082,\n",
       "         0.44500182, 0.44500182, 0.22312188, 0.22312188, 0.66709519,\n",
       "         0.66709519, 0.41223905, 0.41223905, 0.86123922, 0.86123922,\n",
       "         0.30872616, 0.30872616, 0.72811202, 0.72811202, 0.15470956,\n",
       "         0.15470956, 0.62836515, 0.62836515, 0.69614569, 0.69614569,\n",
       "         0.68379587, 0.68379587, 0.37113807, 0.37113807, 0.63587041,\n",
       "         0.63587041, 0.0859502 , 0.0859502 , 0.91990761, 0.91990761,\n",
       "         0.63052538, 0.63052538, 0.70474042, 0.70474042, 0.57606246,\n",
       "         0.57606246, 0.95649061, 0.95649061, 0.83653866, 0.83653866,\n",
       "         0.3346278 , 0.3346278 , 0.78704023, 0.78704023, 0.58986814,\n",
       "         0.58986814, 0.16649217, 0.16649217, 0.58108506, 0.58108506,\n",
       "         0.7352075 , 0.7352075 , 0.58407225, 0.58407225, 0.15364459,\n",
       "         0.15364459, 0.4595203 , 0.4595203 , 0.54097291, 0.54097291,\n",
       "         0.5787263 , 0.5787263 , 0.32373692, 0.32373692, 0.9040024 ,\n",
       "         0.9040024 , 0.16886121, 0.16886121, 0.28980432, 0.28980432,\n",
       "         0.1101678 , 0.1101678 , 0.94287052, 0.94287052, 0.0541143 ,\n",
       "         0.0541143 , 0.43597234, 0.43597234, 0.60661111, 0.60661111,\n",
       "         0.49856218, 0.49856218, 0.97696976, 0.97696976, 0.78467959,\n",
       "         0.78467959, 0.09845354, 0.09845354, 0.99149223, 0.99149223])}}"
      ]
     },
     "execution_count": 1,
     "metadata": {},
     "output_type": "execute_result"
    }
   ],
   "source": [
    "ds = load_by_id(run_id_n)\n",
    "ds.get_parameter_data('x1')"
   ]
  },
  {
   "cell_type": "markdown",
   "metadata": {},
   "source": [
    "And a dataset stored as binary arrays"
   ]
  },
  {
   "cell_type": "code",
   "execution_count": 12,
   "metadata": {
    "execution": {
     "iopub.execute_input": "2021-05-21T07:47:21.465226Z",
     "iopub.status.busy": "2021-05-21T07:47:21.464745Z",
     "iopub.status.idle": "2021-05-21T07:47:21.513436Z",
     "shell.execute_reply": "2021-05-21T07:47:21.513905Z"
    },
    "scrolled": true
   },
   "outputs": [
    {
     "data": {
      "text/plain": [
       "{'x1': {'x1': array([[0.44567808],\n",
       "         [0.44567808],\n",
       "         [0.52710526],\n",
       "         [0.52710526],\n",
       "         [0.89943479],\n",
       "         [0.89943479],\n",
       "         [0.45056945],\n",
       "         [0.45056945],\n",
       "         [0.29523372],\n",
       "         [0.29523372],\n",
       "         [0.18250552],\n",
       "         [0.18250552],\n",
       "         [0.77316104],\n",
       "         [0.77316104],\n",
       "         [0.23411421],\n",
       "         [0.23411421],\n",
       "         [0.20928457],\n",
       "         [0.20928457],\n",
       "         [0.22540676],\n",
       "         [0.22540676],\n",
       "         [0.52890798],\n",
       "         [0.52890798],\n",
       "         [0.64423342],\n",
       "         [0.64423342],\n",
       "         [0.43468286],\n",
       "         [0.43468286],\n",
       "         [0.87070281],\n",
       "         [0.87070281],\n",
       "         [0.44760376],\n",
       "         [0.44760376],\n",
       "         [0.27961147],\n",
       "         [0.27961147],\n",
       "         [0.29908818],\n",
       "         [0.29908818],\n",
       "         [0.05323323],\n",
       "         [0.05323323],\n",
       "         [0.255391  ],\n",
       "         [0.255391  ],\n",
       "         [0.91946076],\n",
       "         [0.91946076],\n",
       "         [0.87871969],\n",
       "         [0.87871969],\n",
       "         [0.285904  ],\n",
       "         [0.285904  ],\n",
       "         [0.93416644],\n",
       "         [0.93416644],\n",
       "         [0.34867216],\n",
       "         [0.34867216],\n",
       "         [0.09892992],\n",
       "         [0.09892992],\n",
       "         [0.55191709],\n",
       "         [0.55191709],\n",
       "         [0.52274654],\n",
       "         [0.52274654],\n",
       "         [0.62677639],\n",
       "         [0.62677639],\n",
       "         [0.91540404],\n",
       "         [0.91540404],\n",
       "         [0.62047956],\n",
       "         [0.62047956],\n",
       "         [0.17405069],\n",
       "         [0.17405069],\n",
       "         [0.9251359 ],\n",
       "         [0.9251359 ],\n",
       "         [0.81634209],\n",
       "         [0.81634209],\n",
       "         [0.62181257],\n",
       "         [0.62181257],\n",
       "         [0.60207882],\n",
       "         [0.60207882],\n",
       "         [0.66510794],\n",
       "         [0.66510794],\n",
       "         [0.53204835],\n",
       "         [0.53204835],\n",
       "         [0.58540363],\n",
       "         [0.58540363],\n",
       "         [0.0946686 ],\n",
       "         [0.0946686 ],\n",
       "         [0.48353694],\n",
       "         [0.48353694],\n",
       "         [0.26802818],\n",
       "         [0.26802818],\n",
       "         [0.02232402],\n",
       "         [0.02232402],\n",
       "         [0.55939125],\n",
       "         [0.55939125],\n",
       "         [0.7567066 ],\n",
       "         [0.7567066 ],\n",
       "         [0.21390913],\n",
       "         [0.21390913],\n",
       "         [0.91614148],\n",
       "         [0.91614148],\n",
       "         [0.84009636],\n",
       "         [0.84009636],\n",
       "         [0.34939003],\n",
       "         [0.34939003],\n",
       "         [0.14976257],\n",
       "         [0.14976257],\n",
       "         [0.10562983],\n",
       "         [0.10562983],\n",
       "         [0.84039458],\n",
       "         [0.84039458],\n",
       "         [0.53511601],\n",
       "         [0.53511601],\n",
       "         [0.21733264],\n",
       "         [0.21733264],\n",
       "         [0.89254618],\n",
       "         [0.89254618],\n",
       "         [0.60419244],\n",
       "         [0.60419244],\n",
       "         [0.70594418],\n",
       "         [0.70594418],\n",
       "         [0.99280691],\n",
       "         [0.99280691],\n",
       "         [0.82726393],\n",
       "         [0.82726393],\n",
       "         [0.4501658 ],\n",
       "         [0.4501658 ],\n",
       "         [0.25272649],\n",
       "         [0.25272649],\n",
       "         [0.12058751],\n",
       "         [0.12058751],\n",
       "         [0.64832667],\n",
       "         [0.64832667],\n",
       "         [0.19076102],\n",
       "         [0.19076102],\n",
       "         [0.4315084 ],\n",
       "         [0.4315084 ],\n",
       "         [0.28621085],\n",
       "         [0.28621085],\n",
       "         [0.10576165],\n",
       "         [0.10576165],\n",
       "         [0.5356714 ],\n",
       "         [0.5356714 ],\n",
       "         [0.78268777],\n",
       "         [0.78268777],\n",
       "         [0.59017898],\n",
       "         [0.59017898],\n",
       "         [0.14202835],\n",
       "         [0.14202835],\n",
       "         [0.11840083],\n",
       "         [0.11840083],\n",
       "         [0.39637435],\n",
       "         [0.39637435],\n",
       "         [0.18524994],\n",
       "         [0.18524994],\n",
       "         [0.13735977],\n",
       "         [0.13735977],\n",
       "         [0.83259698],\n",
       "         [0.83259698],\n",
       "         [0.43640915],\n",
       "         [0.43640915],\n",
       "         [0.08268115],\n",
       "         [0.08268115],\n",
       "         [0.95705167],\n",
       "         [0.95705167],\n",
       "         [0.13467888],\n",
       "         [0.13467888],\n",
       "         [0.29853424],\n",
       "         [0.29853424],\n",
       "         [0.90806545],\n",
       "         [0.90806545],\n",
       "         [0.0418529 ],\n",
       "         [0.0418529 ],\n",
       "         [0.74062439],\n",
       "         [0.74062439],\n",
       "         [0.08613087],\n",
       "         [0.08613087],\n",
       "         [0.63193169],\n",
       "         [0.63193169],\n",
       "         [0.11848888],\n",
       "         [0.11848888],\n",
       "         [0.23893453],\n",
       "         [0.23893453],\n",
       "         [0.83429507],\n",
       "         [0.83429507],\n",
       "         [0.07904132],\n",
       "         [0.07904132],\n",
       "         [0.13983061],\n",
       "         [0.13983061],\n",
       "         [0.94834341],\n",
       "         [0.94834341],\n",
       "         [0.16740999],\n",
       "         [0.16740999],\n",
       "         [0.0444249 ],\n",
       "         [0.0444249 ],\n",
       "         [0.18145164],\n",
       "         [0.18145164],\n",
       "         [0.66710506],\n",
       "         [0.66710506],\n",
       "         [0.56695208],\n",
       "         [0.56695208],\n",
       "         [0.39003891],\n",
       "         [0.39003891],\n",
       "         [0.12643776],\n",
       "         [0.12643776],\n",
       "         [0.95237081],\n",
       "         [0.95237081],\n",
       "         [0.01368227],\n",
       "         [0.01368227]])}}"
      ]
     },
     "execution_count": 1,
     "metadata": {},
     "output_type": "execute_result"
    }
   ],
   "source": [
    "ds = load_by_id(run_id_a)\n",
    "ds.get_parameter_data('x1')"
   ]
  },
  {
   "cell_type": "code",
   "execution_count": null,
   "metadata": {},
   "outputs": [],
   "source": []
  }
 ],
 "metadata": {
  "kernelspec": {
   "display_name": "Python 3",
   "language": "python",
   "name": "python3"
  },
  "language_info": {
   "codemirror_mode": {
    "name": "ipython",
    "version": 3
   },
   "file_extension": ".py",
   "mimetype": "text/x-python",
   "name": "python",
   "nbconvert_exporter": "python",
   "pygments_lexer": "ipython3",
   "version": "3.7.10"
  },
  "nbsphinx": {
   "timeout": 600
  },
  "toc": {
   "base_numbering": 1,
   "nav_menu": {},
   "number_sections": true,
   "sideBar": true,
   "skip_h1_title": false,
   "title_cell": "Table of Contents",
   "title_sidebar": "Contents",
   "toc_cell": false,
   "toc_position": {},
   "toc_section_display": true,
   "toc_window_display": false
  },
  "varInspector": {
   "cols": {
    "lenName": 16,
    "lenType": 16,
    "lenVar": 40
   },
   "kernels_config": {
    "python": {
     "delete_cmd_postfix": "",
     "delete_cmd_prefix": "del ",
     "library": "var_list.py",
     "varRefreshCmd": "print(var_dic_list())"
    },
    "r": {
     "delete_cmd_postfix": ") ",
     "delete_cmd_prefix": "rm(",
     "library": "var_list.r",
     "varRefreshCmd": "cat(var_dic_list()) "
    }
   },
   "types_to_exclude": [
    "module",
    "function",
    "builtin_function_or_method",
    "instance",
    "_Feature"
   ],
   "window_display": false
  }
 },
 "nbformat": 4,
 "nbformat_minor": 4
}
