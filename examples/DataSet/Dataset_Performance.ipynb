{
 "cells": [
  {
   "cell_type": "markdown",
   "metadata": {},
   "source": [
    "# DataSet Performance\n",
    "\n",
    "This notebook shows the trade-off between inserting data into a database row-by-row and as binary blobs. Inserting the data row-by-row means that we have direct access to all the data and may perform queries directly on the values of the data. On the other hand, as we shall see, this is much slower than inserting the data directly as binary blobs."
   ]
  },
  {
   "cell_type": "markdown",
   "metadata": {},
   "source": [
    "First, we choose a new location for the database to ensure that we don't add a bunch of benchmarking data to the default one."
   ]
  },
  {
   "cell_type": "code",
   "execution_count": 1,
   "metadata": {
    "execution": {
     "iopub.execute_input": "2021-04-29T06:48:11.718619Z",
     "iopub.status.busy": "2021-04-29T06:48:11.718067Z",
     "iopub.status.idle": "2021-04-29T06:48:12.964556Z",
     "shell.execute_reply": "2021-04-29T06:48:12.963877Z"
    }
   },
   "outputs": [
    {
     "name": "stdout",
     "output_type": "stream",
     "text": [
      "Logging hadn't been started.\n",
      "Activating auto-logging. Current session state plus future input saved.\n",
      "Filename       : /home/runner/.qcodes/logs/command_history.log\n",
      "Mode           : append\n",
      "Output logging : True\n",
      "Raw input log  : False\n",
      "Timestamping   : True\n",
      "State          : active\n"
     ]
    },
    {
     "name": "stdout",
     "output_type": "stream",
     "text": [
      "Qcodes Logfile : /home/runner/.qcodes/logs/210429-4421-qcodes.log\n"
     ]
    }
   ],
   "source": [
    "import os\n",
    "cwd = os.getcwd()\n",
    "import qcodes as qc\n",
    "qc.config[\"core\"][\"db_location\"] = os.path.join(cwd, 'testing.db')\n"
   ]
  },
  {
   "cell_type": "code",
   "execution_count": 2,
   "metadata": {
    "execution": {
     "iopub.execute_input": "2021-04-29T06:48:12.971056Z",
     "iopub.status.busy": "2021-04-29T06:48:12.970467Z",
     "iopub.status.idle": "2021-04-29T06:48:13.177475Z",
     "shell.execute_reply": "2021-04-29T06:48:13.176492Z"
    }
   },
   "outputs": [],
   "source": [
    "%matplotlib inline\n",
    "import time\n",
    "import matplotlib.pyplot as plt\n",
    "import numpy as np\n",
    "\n",
    "import qcodes as qc\n",
    "from qcodes.instrument.parameter import ManualParameter\n",
    "from qcodes.dataset.experiment_container import (Experiment,\n",
    "                                                 load_last_experiment,\n",
    "                                                 new_experiment)\n",
    "from qcodes.dataset.sqlite.database import initialise_database\n",
    "from qcodes import load_or_create_experiment\n",
    "from qcodes.dataset.measurements import Measurement"
   ]
  },
  {
   "cell_type": "code",
   "execution_count": 3,
   "metadata": {
    "execution": {
     "iopub.execute_input": "2021-04-29T06:48:13.181621Z",
     "iopub.status.busy": "2021-04-29T06:48:13.181027Z",
     "iopub.status.idle": "2021-04-29T06:48:13.309637Z",
     "shell.execute_reply": "2021-04-29T06:48:13.309142Z"
    }
   },
   "outputs": [
    {
     "name": "stdout",
     "output_type": "stream",
     "text": [
      "\r",
      "0it [00:00, ?it/s]"
     ]
    },
    {
     "name": "stdout",
     "output_type": "stream",
     "text": [
      "\r",
      "Upgrading database; v0 -> v1: : 0it [00:00, ?it/s]"
     ]
    },
    {
     "name": "stdout",
     "output_type": "stream",
     "text": [
      "\r",
      "Upgrading database; v0 -> v1: : 0it [00:00, ?it/s]"
     ]
    },
    {
     "name": "stdout",
     "output_type": "stream",
     "text": [
      "\n",
      "\r",
      "  0%|          | 0/1 [00:00<?, ?it/s]"
     ]
    },
    {
     "name": "stdout",
     "output_type": "stream",
     "text": [
      "\r",
      "Upgrading database; v1 -> v2:   0%|          | 0/1 [00:00<?, ?it/s]"
     ]
    },
    {
     "name": "stdout",
     "output_type": "stream",
     "text": [
      "\r",
      "Upgrading database; v1 -> v2: 100%|██████████| 1/1 [00:00<00:00, 785.16it/s]"
     ]
    },
    {
     "name": "stdout",
     "output_type": "stream",
     "text": [
      "\n",
      "\r",
      "0it [00:00, ?it/s]"
     ]
    },
    {
     "name": "stdout",
     "output_type": "stream",
     "text": [
      "\r",
      "Upgrading database; v2 -> v3: : 0it [00:00, ?it/s]"
     ]
    },
    {
     "name": "stdout",
     "output_type": "stream",
     "text": [
      "\r",
      "Upgrading database; v2 -> v3: : 0it [00:00, ?it/s]"
     ]
    },
    {
     "name": "stdout",
     "output_type": "stream",
     "text": [
      "\n",
      "\r",
      "0it [00:00, ?it/s]"
     ]
    },
    {
     "name": "stdout",
     "output_type": "stream",
     "text": [
      "\r",
      "Upgrading database; v3 -> v4: : 0it [00:00, ?it/s]"
     ]
    },
    {
     "name": "stdout",
     "output_type": "stream",
     "text": [
      "\r",
      "Upgrading database; v3 -> v4: : 0it [00:00, ?it/s]"
     ]
    },
    {
     "name": "stdout",
     "output_type": "stream",
     "text": [
      "\n",
      "\r",
      "  0%|          | 0/1 [00:00<?, ?it/s]"
     ]
    },
    {
     "name": "stdout",
     "output_type": "stream",
     "text": [
      "\r",
      "Upgrading database; v4 -> v5:   0%|          | 0/1 [00:00<?, ?it/s]"
     ]
    },
    {
     "name": "stdout",
     "output_type": "stream",
     "text": [
      "\r",
      "Upgrading database; v4 -> v5: 100%|██████████| 1/1 [00:00<00:00, 1101.73it/s]"
     ]
    },
    {
     "name": "stdout",
     "output_type": "stream",
     "text": [
      "\n",
      "\r",
      "0it [00:00, ?it/s]"
     ]
    },
    {
     "name": "stdout",
     "output_type": "stream",
     "text": [
      "\r",
      "Upgrading database; v5 -> v6: : 0it [00:00, ?it/s]"
     ]
    },
    {
     "name": "stdout",
     "output_type": "stream",
     "text": [
      "\r",
      "Upgrading database; v5 -> v6: : 0it [00:00, ?it/s]"
     ]
    },
    {
     "name": "stdout",
     "output_type": "stream",
     "text": [
      "\n",
      "\r",
      "  0%|          | 0/1 [00:00<?, ?it/s]"
     ]
    },
    {
     "name": "stdout",
     "output_type": "stream",
     "text": [
      "\r",
      "Upgrading database; v6 -> v7:   0%|          | 0/1 [00:00<?, ?it/s]"
     ]
    },
    {
     "name": "stdout",
     "output_type": "stream",
     "text": [
      "\r",
      "Upgrading database; v6 -> v7: 100%|██████████| 1/1 [00:00<00:00, 274.48it/s]"
     ]
    },
    {
     "name": "stdout",
     "output_type": "stream",
     "text": [
      "\n",
      "\r",
      "  0%|          | 0/1 [00:00<?, ?it/s]"
     ]
    },
    {
     "name": "stdout",
     "output_type": "stream",
     "text": [
      "\r",
      "Upgrading database; v7 -> v8:   0%|          | 0/1 [00:00<?, ?it/s]"
     ]
    },
    {
     "name": "stdout",
     "output_type": "stream",
     "text": [
      "\r",
      "Upgrading database; v7 -> v8: 100%|██████████| 1/1 [00:00<00:00, 413.44it/s]"
     ]
    },
    {
     "name": "stdout",
     "output_type": "stream",
     "text": [
      "\n",
      "\r",
      "  0%|          | 0/1 [00:00<?, ?it/s]"
     ]
    },
    {
     "name": "stdout",
     "output_type": "stream",
     "text": [
      "\r",
      "Upgrading database; v8 -> v9:   0%|          | 0/1 [00:00<?, ?it/s]"
     ]
    },
    {
     "name": "stdout",
     "output_type": "stream",
     "text": [
      "\r",
      "Upgrading database; v8 -> v9: 100%|██████████| 1/1 [00:00<00:00, 441.83it/s]"
     ]
    },
    {
     "name": "stdout",
     "output_type": "stream",
     "text": [
      "\n"
     ]
    }
   ],
   "source": [
    "initialise_database()\n",
    "exp = load_or_create_experiment(experiment_name='tutorial_exp', sample_name=\"no sample\")"
   ]
  },
  {
   "cell_type": "markdown",
   "metadata": {},
   "source": [
    "Here, we define a simple function to benchmark the time it takes to insert n points with either numeric or array data type.\n",
    "We will compare both the time used to call ``add_result`` and the time used for the full measurement."
   ]
  },
  {
   "cell_type": "code",
   "execution_count": 4,
   "metadata": {
    "execution": {
     "iopub.execute_input": "2021-04-29T06:48:13.318923Z",
     "iopub.status.busy": "2021-04-29T06:48:13.318355Z",
     "iopub.status.idle": "2021-04-29T06:48:13.322099Z",
     "shell.execute_reply": "2021-04-29T06:48:13.321601Z"
    }
   },
   "outputs": [],
   "source": [
    "def insert_data(paramtype, npoints, nreps=1):\n",
    "\n",
    "    meas = Measurement(exp=exp)\n",
    "\n",
    "    x1 = ManualParameter('x1')\n",
    "    x2 = ManualParameter('x2')\n",
    "    x3 = ManualParameter('x3')\n",
    "    y1 = ManualParameter('y1')\n",
    "    y2 = ManualParameter('y2')\n",
    "\n",
    "    meas.register_parameter(x1, paramtype=paramtype)\n",
    "    meas.register_parameter(x2, paramtype=paramtype)\n",
    "    meas.register_parameter(x3, paramtype=paramtype)\n",
    "    meas.register_parameter(y1, setpoints=[x1, x2, x3],\n",
    "                            paramtype=paramtype)\n",
    "    meas.register_parameter(y2, setpoints=[x1, x2, x3],\n",
    "                            paramtype=paramtype)\n",
    "    start = time.perf_counter()\n",
    "    with meas.run() as datasaver:\n",
    "        start_adding = time.perf_counter()\n",
    "        for i in range(nreps):\n",
    "            datasaver.add_result((x1, np.random.rand(npoints)),\n",
    "                                 (x2, np.random.rand(npoints)),\n",
    "                                 (x3, np.random.rand(npoints)),\n",
    "                                 (y1, np.random.rand(npoints)),\n",
    "                                 (y2, np.random.rand(npoints)))\n",
    "        stop_adding = time.perf_counter()\n",
    "        run_id = datasaver.run_id\n",
    "    stop = time.perf_counter()\n",
    "    tot_time = stop - start\n",
    "    add_time = stop_adding - start_adding\n",
    "    return tot_time, add_time, run_id"
   ]
  },
  {
   "cell_type": "markdown",
   "metadata": {},
   "source": [
    "## Comparison between numeric/array data and binary blob"
   ]
  },
  {
   "cell_type": "markdown",
   "metadata": {},
   "source": [
    "### Case1: Short experiment time"
   ]
  },
  {
   "cell_type": "code",
   "execution_count": 5,
   "metadata": {
    "execution": {
     "iopub.execute_input": "2021-04-29T06:48:13.329377Z",
     "iopub.status.busy": "2021-04-29T06:48:13.328820Z",
     "iopub.status.idle": "2021-04-29T06:48:14.141321Z",
     "shell.execute_reply": "2021-04-29T06:48:14.141784Z"
    }
   },
   "outputs": [
    {
     "name": "stdout",
     "output_type": "stream",
     "text": [
      "Starting experimental run with id: 1. \n",
      "Starting experimental run with id: 2. \n",
      "Starting experimental run with id: 3. \n",
      "Starting experimental run with id: 4. \n",
      "Starting experimental run with id: 5. \n"
     ]
    },
    {
     "name": "stdout",
     "output_type": "stream",
     "text": [
      "Starting experimental run with id: 6. \n"
     ]
    },
    {
     "name": "stdout",
     "output_type": "stream",
     "text": [
      "Starting experimental run with id: 7. \n"
     ]
    },
    {
     "name": "stdout",
     "output_type": "stream",
     "text": [
      "Starting experimental run with id: 8. \n",
      "Starting experimental run with id: 9. \n"
     ]
    },
    {
     "name": "stdout",
     "output_type": "stream",
     "text": [
      "Starting experimental run with id: 10. \n",
      "Starting experimental run with id: 11. \n"
     ]
    },
    {
     "name": "stdout",
     "output_type": "stream",
     "text": [
      "Starting experimental run with id: 12. \n",
      "Starting experimental run with id: 13. \n"
     ]
    },
    {
     "name": "stdout",
     "output_type": "stream",
     "text": [
      "Starting experimental run with id: 14. \n"
     ]
    }
   ],
   "source": [
    "sizes = [1,500,1000,2000,3000,4000,5000]\n",
    "t_numeric = []\n",
    "t_numeric_add = []\n",
    "t_array = []\n",
    "t_array_add = []\n",
    "for size in sizes:\n",
    "    tn, tna, run_id_n =  insert_data('numeric', size)\n",
    "    t_numeric.append(tn)\n",
    "    t_numeric_add.append(tna)\n",
    "\n",
    "    ta, taa, run_id_a =  insert_data('array', size)\n",
    "    t_array.append(ta)\n",
    "    t_array_add.append(taa)"
   ]
  },
  {
   "cell_type": "code",
   "execution_count": 6,
   "metadata": {
    "execution": {
     "iopub.execute_input": "2021-04-29T06:48:14.160973Z",
     "iopub.status.busy": "2021-04-29T06:48:14.148033Z",
     "iopub.status.idle": "2021-04-29T06:48:14.363168Z",
     "shell.execute_reply": "2021-04-29T06:48:14.362658Z"
    }
   },
   "outputs": [
    {
     "data": {
      "image/png": "[encoded data removed]",
      "text/plain": [
       "<Figure size 432x288 with 1 Axes>"
      ]
     },
     "metadata": {
      "needs_background": "light"
     },
     "output_type": "display_data"
    }
   ],
   "source": [
    "fig, ax = plt.subplots(1,1)\n",
    "ax.plot(sizes, t_numeric, 'o-', label='Inserting row-by-row')\n",
    "ax.plot(sizes, t_numeric_add, 'o-', label='Inserting row-by-row: add_result only')\n",
    "ax.plot(sizes, t_array, 'd-', label='Inserting as binary blob')\n",
    "ax.plot(sizes, t_array_add, 'd-', label='Inserting as binary blob: add_result only')\n",
    "ax.legend()\n",
    "ax.set_xlabel('Array length')\n",
    "ax.set_ylabel('Time (s)')\n",
    "fig.tight_layout()"
   ]
  },
  {
   "cell_type": "markdown",
   "metadata": {},
   "source": [
    "As shown in the latter figure, the time to setup and and close the experiment is approximately 0.4 sec. In case of small array sizes, the difference between inserting values of data as arrays and inserting them row-by-row is relatively unimportant. At larger array sizes, i.e. above 10000 points, the cost of writing data as individual datapoints starts to become important.\n"
   ]
  },
  {
   "cell_type": "markdown",
   "metadata": {},
   "source": [
    "### Case2: Long experiment time "
   ]
  },
  {
   "cell_type": "code",
   "execution_count": 7,
   "metadata": {
    "execution": {
     "iopub.execute_input": "2021-04-29T06:48:14.370533Z",
     "iopub.status.busy": "2021-04-29T06:48:14.369261Z",
     "iopub.status.idle": "2021-04-29T06:49:12.718847Z",
     "shell.execute_reply": "2021-04-29T06:49:12.719727Z"
    }
   },
   "outputs": [
    {
     "name": "stdout",
     "output_type": "stream",
     "text": [
      "Starting experimental run with id: 15. \n",
      "Starting experimental run with id: 16. \n",
      "Starting experimental run with id: 17. \n"
     ]
    },
    {
     "name": "stdout",
     "output_type": "stream",
     "text": [
      "Starting experimental run with id: 18. \n",
      "Starting experimental run with id: 19. \n"
     ]
    },
    {
     "name": "stdout",
     "output_type": "stream",
     "text": [
      "Starting experimental run with id: 20. \n"
     ]
    },
    {
     "name": "stdout",
     "output_type": "stream",
     "text": [
      "Starting experimental run with id: 21. \n"
     ]
    },
    {
     "name": "stdout",
     "output_type": "stream",
     "text": [
      "Starting experimental run with id: 22. \n"
     ]
    },
    {
     "name": "stdout",
     "output_type": "stream",
     "text": [
      "Starting experimental run with id: 23. \n"
     ]
    },
    {
     "name": "stdout",
     "output_type": "stream",
     "text": [
      "Starting experimental run with id: 24. \n"
     ]
    },
    {
     "name": "stdout",
     "output_type": "stream",
     "text": [
      "Starting experimental run with id: 25. \n"
     ]
    },
    {
     "name": "stdout",
     "output_type": "stream",
     "text": [
      "Starting experimental run with id: 26. \n"
     ]
    },
    {
     "name": "stdout",
     "output_type": "stream",
     "text": [
      "Starting experimental run with id: 27. \n"
     ]
    },
    {
     "name": "stdout",
     "output_type": "stream",
     "text": [
      "Starting experimental run with id: 28. \n"
     ]
    }
   ],
   "source": [
    "sizes = [1,500,1000,2000,3000,4000,5000]\n",
    "nreps = 100\n",
    "t_numeric = []\n",
    "t_numeric_add = []\n",
    "t_numeric_run_ids = []\n",
    "t_array = []\n",
    "t_array_add = []\n",
    "t_array_run_ids = []\n",
    "for size in sizes:\n",
    "    tn, tna, run_id_n =  insert_data('numeric', size, nreps=nreps)\n",
    "    t_numeric.append(tn)\n",
    "    t_numeric_add.append(tna)\n",
    "    t_numeric_run_ids.append(run_id_n)\n",
    "\n",
    "    ta, taa, run_id_a =  insert_data('array', size, nreps=nreps)\n",
    "    t_array.append(ta)\n",
    "    t_array_add.append(taa)\n",
    "    t_array_run_ids.append(run_id_a)"
   ]
  },
  {
   "cell_type": "code",
   "execution_count": 8,
   "metadata": {
    "execution": {
     "iopub.execute_input": "2021-04-29T06:49:12.752408Z",
     "iopub.status.busy": "2021-04-29T06:49:12.740769Z",
     "iopub.status.idle": "2021-04-29T06:49:12.935504Z",
     "shell.execute_reply": "2021-04-29T06:49:12.935000Z"
    },
    "scrolled": true
   },
   "outputs": [
    {
     "data": {
      "image/png": "[encoded data removed]",
      "text/plain": [
       "<Figure size 432x288 with 1 Axes>"
      ]
     },
     "metadata": {
      "needs_background": "light"
     },
     "output_type": "display_data"
    }
   ],
   "source": [
    "fig, ax = plt.subplots(1,1)\n",
    "ax.plot(sizes, t_numeric, 'o-', label='Inserting row-by-row')\n",
    "ax.plot(sizes, t_numeric_add, 'o-', label='Inserting row-by-row: add_result only')\n",
    "ax.plot(sizes, t_array, 'd-', label='Inserting as binary blob')\n",
    "ax.plot(sizes, t_array_add, 'd-', label='Inserting as binary blob: add_result only')\n",
    "ax.legend()\n",
    "ax.set_xlabel('Array length')\n",
    "ax.set_ylabel('Time (s)')\n",
    "fig.tight_layout()"
   ]
  },
  {
   "cell_type": "markdown",
   "metadata": {},
   "source": [
    "However, as we increase the length of the experiment, as seen here by repeating the insertion 100 times, we see a big difference between inserting values of the data row-by-row and inserting it as a binary blob."
   ]
  },
  {
   "cell_type": "markdown",
   "metadata": {},
   "source": [
    "## Loading the data "
   ]
  },
  {
   "cell_type": "code",
   "execution_count": 9,
   "metadata": {
    "execution": {
     "iopub.execute_input": "2021-04-29T06:49:12.940492Z",
     "iopub.status.busy": "2021-04-29T06:49:12.939889Z",
     "iopub.status.idle": "2021-04-29T06:49:12.943922Z",
     "shell.execute_reply": "2021-04-29T06:49:12.943424Z"
    }
   },
   "outputs": [],
   "source": [
    "from qcodes.dataset.data_set import load_by_id"
   ]
  },
  {
   "cell_type": "markdown",
   "metadata": {},
   "source": [
    "As usual you can load the data by using the ``load_by_id`` function but you will notice that the different storage methods\n",
    "are reflected in shape of the data as it is retrieved. "
   ]
  },
  {
   "cell_type": "code",
   "execution_count": 10,
   "metadata": {
    "execution": {
     "iopub.execute_input": "2021-04-29T06:49:12.948930Z",
     "iopub.status.busy": "2021-04-29T06:49:12.947736Z",
     "iopub.status.idle": "2021-04-29T06:49:12.949883Z",
     "shell.execute_reply": "2021-04-29T06:49:12.950460Z"
    }
   },
   "outputs": [],
   "source": [
    "run_id_n = t_numeric_run_ids[0]\n",
    "run_id_a = t_array_run_ids[0]"
   ]
  },
  {
   "cell_type": "code",
   "execution_count": 11,
   "metadata": {
    "execution": {
     "iopub.execute_input": "2021-04-29T06:49:12.954170Z",
     "iopub.status.busy": "2021-04-29T06:49:12.953601Z",
     "iopub.status.idle": "2021-04-29T06:49:12.963657Z",
     "shell.execute_reply": "2021-04-29T06:49:12.963178Z"
    },
    "scrolled": true
   },
   "outputs": [
    {
     "data": {
      "text/plain": [
       "{'x1': {'x1': array([0.01775785, 0.01775785, 0.624149  , 0.624149  , 0.36947374,\n",
       "         0.36947374, 0.44824432, 0.44824432, 0.46806974, 0.46806974,\n",
       "         0.35470497, 0.35470497, 0.40492612, 0.40492612, 0.13957142,\n",
       "         0.13957142, 0.84239185, 0.84239185, 0.2931444 , 0.2931444 ,\n",
       "         0.78107254, 0.78107254, 0.74641014, 0.74641014, 0.72298049,\n",
       "         0.72298049, 0.62044679, 0.62044679, 0.46779362, 0.46779362,\n",
       "         0.73570803, 0.73570803, 0.50515516, 0.50515516, 0.73203042,\n",
       "         0.73203042, 0.47178732, 0.47178732, 0.7649637 , 0.7649637 ,\n",
       "         0.55196911, 0.55196911, 0.12930074, 0.12930074, 0.52305609,\n",
       "         0.52305609, 0.26640849, 0.26640849, 0.10771375, 0.10771375,\n",
       "         0.61423031, 0.61423031, 0.21383223, 0.21383223, 0.92431638,\n",
       "         0.92431638, 0.62925827, 0.62925827, 0.23366927, 0.23366927,\n",
       "         0.26345447, 0.26345447, 0.83711305, 0.83711305, 0.5857265 ,\n",
       "         0.5857265 , 0.91847373, 0.91847373, 0.15126745, 0.15126745,\n",
       "         0.23069805, 0.23069805, 0.40438678, 0.40438678, 0.24613607,\n",
       "         0.24613607, 0.50115485, 0.50115485, 0.44756223, 0.44756223,\n",
       "         0.56769143, 0.56769143, 0.59889125, 0.59889125, 0.93867242,\n",
       "         0.93867242, 0.80387919, 0.80387919, 0.22961412, 0.22961412,\n",
       "         0.11823475, 0.11823475, 0.51484239, 0.51484239, 0.37685405,\n",
       "         0.37685405, 0.73721591, 0.73721591, 0.89126979, 0.89126979,\n",
       "         0.0815476 , 0.0815476 , 0.1658652 , 0.1658652 , 0.04775298,\n",
       "         0.04775298, 0.35766373, 0.35766373, 0.65336692, 0.65336692,\n",
       "         0.4448821 , 0.4448821 , 0.81042142, 0.81042142, 0.00685877,\n",
       "         0.00685877, 0.92370773, 0.92370773, 0.47361227, 0.47361227,\n",
       "         0.48412447, 0.48412447, 0.89033449, 0.89033449, 0.7556766 ,\n",
       "         0.7556766 , 0.87438872, 0.87438872, 0.4931627 , 0.4931627 ,\n",
       "         0.31746752, 0.31746752, 0.63713164, 0.63713164, 0.68985736,\n",
       "         0.68985736, 0.65855739, 0.65855739, 0.9543785 , 0.9543785 ,\n",
       "         0.94924496, 0.94924496, 0.5819444 , 0.5819444 , 0.45643302,\n",
       "         0.45643302, 0.82023026, 0.82023026, 0.23865339, 0.23865339,\n",
       "         0.75653117, 0.75653117, 0.1722209 , 0.1722209 , 0.17408764,\n",
       "         0.17408764, 0.62393737, 0.62393737, 0.18711487, 0.18711487,\n",
       "         0.95706974, 0.95706974, 0.31337263, 0.31337263, 0.18936206,\n",
       "         0.18936206, 0.24749408, 0.24749408, 0.57821408, 0.57821408,\n",
       "         0.15509127, 0.15509127, 0.70858559, 0.70858559, 0.10990107,\n",
       "         0.10990107, 0.46926238, 0.46926238, 0.15963467, 0.15963467,\n",
       "         0.29710723, 0.29710723, 0.01922445, 0.01922445, 0.48918372,\n",
       "         0.48918372, 0.83238457, 0.83238457, 0.29181814, 0.29181814,\n",
       "         0.94011555, 0.94011555, 0.87036435, 0.87036435, 0.4105855 ,\n",
       "         0.4105855 , 0.67319148, 0.67319148, 0.46663681, 0.46663681])}}"
      ]
     },
     "execution_count": 1,
     "metadata": {},
     "output_type": "execute_result"
    }
   ],
   "source": [
    "ds = load_by_id(run_id_n)\n",
    "ds.get_parameter_data('x1')"
   ]
  },
  {
   "cell_type": "markdown",
   "metadata": {},
   "source": [
    "And a dataset stored as binary arrays"
   ]
  },
  {
   "cell_type": "code",
   "execution_count": 12,
   "metadata": {
    "execution": {
     "iopub.execute_input": "2021-04-29T06:49:12.967226Z",
     "iopub.status.busy": "2021-04-29T06:49:12.966663Z",
     "iopub.status.idle": "2021-04-29T06:49:13.026650Z",
     "shell.execute_reply": "2021-04-29T06:49:13.027173Z"
    },
    "scrolled": true
   },
   "outputs": [
    {
     "data": {
      "text/plain": [
       "{'x1': {'x1': array([[1.83982960e-01],\n",
       "         [1.83982960e-01],\n",
       "         [9.54777707e-01],\n",
       "         [9.54777707e-01],\n",
       "         [6.92707143e-01],\n",
       "         [6.92707143e-01],\n",
       "         [7.30336966e-01],\n",
       "         [7.30336966e-01],\n",
       "         [1.22482663e-01],\n",
       "         [1.22482663e-01],\n",
       "         [1.70077124e-01],\n",
       "         [1.70077124e-01],\n",
       "         [3.95867264e-01],\n",
       "         [3.95867264e-01],\n",
       "         [4.86813373e-01],\n",
       "         [4.86813373e-01],\n",
       "         [5.22147306e-01],\n",
       "         [5.22147306e-01],\n",
       "         [8.19505878e-01],\n",
       "         [8.19505878e-01],\n",
       "         [5.81787477e-01],\n",
       "         [5.81787477e-01],\n",
       "         [6.58209069e-01],\n",
       "         [6.58209069e-01],\n",
       "         [9.62443362e-01],\n",
       "         [9.62443362e-01],\n",
       "         [3.99331886e-01],\n",
       "         [3.99331886e-01],\n",
       "         [9.59599622e-01],\n",
       "         [9.59599622e-01],\n",
       "         [1.60320229e-01],\n",
       "         [1.60320229e-01],\n",
       "         [6.85224721e-01],\n",
       "         [6.85224721e-01],\n",
       "         [3.75251540e-01],\n",
       "         [3.75251540e-01],\n",
       "         [6.89232163e-01],\n",
       "         [6.89232163e-01],\n",
       "         [9.06188943e-02],\n",
       "         [9.06188943e-02],\n",
       "         [9.72164373e-01],\n",
       "         [9.72164373e-01],\n",
       "         [8.01035341e-01],\n",
       "         [8.01035341e-01],\n",
       "         [8.07843269e-01],\n",
       "         [8.07843269e-01],\n",
       "         [4.34840917e-01],\n",
       "         [4.34840917e-01],\n",
       "         [5.16343864e-01],\n",
       "         [5.16343864e-01],\n",
       "         [4.11588413e-01],\n",
       "         [4.11588413e-01],\n",
       "         [3.77422827e-02],\n",
       "         [3.77422827e-02],\n",
       "         [6.53377095e-01],\n",
       "         [6.53377095e-01],\n",
       "         [1.97173206e-01],\n",
       "         [1.97173206e-01],\n",
       "         [5.28884803e-02],\n",
       "         [5.28884803e-02],\n",
       "         [7.65985293e-01],\n",
       "         [7.65985293e-01],\n",
       "         [8.84860128e-01],\n",
       "         [8.84860128e-01],\n",
       "         [1.55434138e-01],\n",
       "         [1.55434138e-01],\n",
       "         [5.35755921e-01],\n",
       "         [5.35755921e-01],\n",
       "         [8.74565058e-01],\n",
       "         [8.74565058e-01],\n",
       "         [6.00847629e-01],\n",
       "         [6.00847629e-01],\n",
       "         [5.95396013e-01],\n",
       "         [5.95396013e-01],\n",
       "         [6.98047704e-01],\n",
       "         [6.98047704e-01],\n",
       "         [2.02498214e-01],\n",
       "         [2.02498214e-01],\n",
       "         [1.35563517e-01],\n",
       "         [1.35563517e-01],\n",
       "         [2.12313520e-01],\n",
       "         [2.12313520e-01],\n",
       "         [4.52097433e-01],\n",
       "         [4.52097433e-01],\n",
       "         [1.04054886e-01],\n",
       "         [1.04054886e-01],\n",
       "         [3.85060185e-01],\n",
       "         [3.85060185e-01],\n",
       "         [1.94365424e-01],\n",
       "         [1.94365424e-01],\n",
       "         [2.92894536e-01],\n",
       "         [2.92894536e-01],\n",
       "         [2.63667825e-01],\n",
       "         [2.63667825e-01],\n",
       "         [4.73254009e-01],\n",
       "         [4.73254009e-01],\n",
       "         [4.23712415e-01],\n",
       "         [4.23712415e-01],\n",
       "         [6.70346432e-01],\n",
       "         [6.70346432e-01],\n",
       "         [6.48789815e-01],\n",
       "         [6.48789815e-01],\n",
       "         [3.29138741e-01],\n",
       "         [3.29138741e-01],\n",
       "         [7.36508960e-01],\n",
       "         [7.36508960e-01],\n",
       "         [5.26673740e-01],\n",
       "         [5.26673740e-01],\n",
       "         [4.47424855e-01],\n",
       "         [4.47424855e-01],\n",
       "         [3.81026379e-01],\n",
       "         [3.81026379e-01],\n",
       "         [4.04714837e-01],\n",
       "         [4.04714837e-01],\n",
       "         [3.78254758e-01],\n",
       "         [3.78254758e-01],\n",
       "         [5.95861108e-01],\n",
       "         [5.95861108e-01],\n",
       "         [3.91222968e-02],\n",
       "         [3.91222968e-02],\n",
       "         [8.13909158e-01],\n",
       "         [8.13909158e-01],\n",
       "         [8.27979704e-01],\n",
       "         [8.27979704e-01],\n",
       "         [5.67077778e-01],\n",
       "         [5.67077778e-01],\n",
       "         [3.68378335e-01],\n",
       "         [3.68378335e-01],\n",
       "         [1.43442752e-01],\n",
       "         [1.43442752e-01],\n",
       "         [6.31431699e-01],\n",
       "         [6.31431699e-01],\n",
       "         [2.43165606e-01],\n",
       "         [2.43165606e-01],\n",
       "         [2.75877475e-01],\n",
       "         [2.75877475e-01],\n",
       "         [3.20646803e-01],\n",
       "         [3.20646803e-01],\n",
       "         [8.81555765e-01],\n",
       "         [8.81555765e-01],\n",
       "         [1.26462859e-01],\n",
       "         [1.26462859e-01],\n",
       "         [5.57876251e-01],\n",
       "         [5.57876251e-01],\n",
       "         [7.90772724e-04],\n",
       "         [7.90772724e-04],\n",
       "         [5.95262918e-01],\n",
       "         [5.95262918e-01],\n",
       "         [5.96751020e-01],\n",
       "         [5.96751020e-01],\n",
       "         [8.57723948e-01],\n",
       "         [8.57723948e-01],\n",
       "         [3.36759549e-01],\n",
       "         [3.36759549e-01],\n",
       "         [1.25277104e-01],\n",
       "         [1.25277104e-01],\n",
       "         [6.18563574e-01],\n",
       "         [6.18563574e-01],\n",
       "         [3.46946023e-01],\n",
       "         [3.46946023e-01],\n",
       "         [4.88216457e-01],\n",
       "         [4.88216457e-01],\n",
       "         [9.36370096e-01],\n",
       "         [9.36370096e-01],\n",
       "         [8.89325494e-01],\n",
       "         [8.89325494e-01],\n",
       "         [2.32242011e-01],\n",
       "         [2.32242011e-01],\n",
       "         [8.87738820e-01],\n",
       "         [8.87738820e-01],\n",
       "         [7.20085237e-01],\n",
       "         [7.20085237e-01],\n",
       "         [1.27593358e-01],\n",
       "         [1.27593358e-01],\n",
       "         [9.66472997e-01],\n",
       "         [9.66472997e-01],\n",
       "         [6.78593928e-01],\n",
       "         [6.78593928e-01],\n",
       "         [3.78043477e-01],\n",
       "         [3.78043477e-01],\n",
       "         [1.62006623e-01],\n",
       "         [1.62006623e-01],\n",
       "         [1.05590263e-01],\n",
       "         [1.05590263e-01],\n",
       "         [4.27919129e-01],\n",
       "         [4.27919129e-01],\n",
       "         [6.14072016e-01],\n",
       "         [6.14072016e-01],\n",
       "         [2.85259874e-01],\n",
       "         [2.85259874e-01],\n",
       "         [4.44493844e-01],\n",
       "         [4.44493844e-01],\n",
       "         [4.23878179e-01],\n",
       "         [4.23878179e-01],\n",
       "         [6.25003627e-01],\n",
       "         [6.25003627e-01],\n",
       "         [5.60194699e-01],\n",
       "         [5.60194699e-01],\n",
       "         [3.45074283e-01],\n",
       "         [3.45074283e-01]])}}"
      ]
     },
     "execution_count": 1,
     "metadata": {},
     "output_type": "execute_result"
    }
   ],
   "source": [
    "ds = load_by_id(run_id_a)\n",
    "ds.get_parameter_data('x1')"
   ]
  },
  {
   "cell_type": "code",
   "execution_count": null,
   "metadata": {},
   "outputs": [],
   "source": []
  }
 ],
 "metadata": {
  "kernelspec": {
   "display_name": "Python 3",
   "language": "python",
   "name": "python3"
  },
  "language_info": {
   "codemirror_mode": {
    "name": "ipython",
    "version": 3
   },
   "file_extension": ".py",
   "mimetype": "text/x-python",
   "name": "python",
   "nbconvert_exporter": "python",
   "pygments_lexer": "ipython3",
   "version": "3.7.10"
  },
  "nbsphinx": {
   "timeout": 600
  },
  "toc": {
   "base_numbering": 1,
   "nav_menu": {},
   "number_sections": true,
   "sideBar": true,
   "skip_h1_title": false,
   "title_cell": "Table of Contents",
   "title_sidebar": "Contents",
   "toc_cell": false,
   "toc_position": {},
   "toc_section_display": true,
   "toc_window_display": false
  },
  "varInspector": {
   "cols": {
    "lenName": 16,
    "lenType": 16,
    "lenVar": 40
   },
   "kernels_config": {
    "python": {
     "delete_cmd_postfix": "",
     "delete_cmd_prefix": "del ",
     "library": "var_list.py",
     "varRefreshCmd": "print(var_dic_list())"
    },
    "r": {
     "delete_cmd_postfix": ") ",
     "delete_cmd_prefix": "rm(",
     "library": "var_list.r",
     "varRefreshCmd": "cat(var_dic_list()) "
    }
   },
   "types_to_exclude": [
    "module",
    "function",
    "builtin_function_or_method",
    "instance",
    "_Feature"
   ],
   "window_display": false
  }
 },
 "nbformat": 4,
 "nbformat_minor": 4
}
