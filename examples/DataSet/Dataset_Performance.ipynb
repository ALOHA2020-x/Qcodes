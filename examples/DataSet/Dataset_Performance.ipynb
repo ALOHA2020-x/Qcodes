{
 "cells": [
  {
   "cell_type": "markdown",
   "metadata": {},
   "source": [
    "# DataSet Performance\n",
    "\n",
    "This notebook shows the trade-off between inserting data into a database row-by-row and as binary blobs. Inserting the data row-by-row means that we have direct access to all the data and may perform queries directly on the values of the data. On the other hand, as we shall see, this is much slower than inserting the data directly as binary blobs."
   ]
  },
  {
   "cell_type": "markdown",
   "metadata": {},
   "source": [
    "First, we choose a new location for the database to ensure that we don't add a bunch of benchmarking data to the default one."
   ]
  },
  {
   "cell_type": "code",
   "execution_count": 1,
   "metadata": {
    "execution": {
     "iopub.execute_input": "2021-05-21T09:08:28.485892Z",
     "iopub.status.busy": "2021-05-21T09:08:28.485308Z",
     "iopub.status.idle": "2021-05-21T09:08:29.808889Z",
     "shell.execute_reply": "2021-05-21T09:08:29.808200Z"
    }
   },
   "outputs": [
    {
     "name": "stdout",
     "output_type": "stream",
     "text": [
      "Logging hadn't been started.\n",
      "Activating auto-logging. Current session state plus future input saved.\n",
      "Filename       : /home/runner/.qcodes/logs/command_history.log\n",
      "Mode           : append\n",
      "Output logging : True\n",
      "Raw input log  : False\n",
      "Timestamping   : True\n",
      "State          : active\n"
     ]
    },
    {
     "name": "stdout",
     "output_type": "stream",
     "text": [
      "Qcodes Logfile : /home/runner/.qcodes/logs/210521-4503-qcodes.log\n"
     ]
    }
   ],
   "source": [
    "import os\n",
    "cwd = os.getcwd()\n",
    "import qcodes as qc\n",
    "qc.config[\"core\"][\"db_location\"] = os.path.join(cwd, 'testing.db')\n"
   ]
  },
  {
   "cell_type": "code",
   "execution_count": 2,
   "metadata": {
    "execution": {
     "iopub.execute_input": "2021-05-21T09:08:29.817182Z",
     "iopub.status.busy": "2021-05-21T09:08:29.815845Z",
     "iopub.status.idle": "2021-05-21T09:08:30.043880Z",
     "shell.execute_reply": "2021-05-21T09:08:30.044444Z"
    }
   },
   "outputs": [],
   "source": [
    "%matplotlib inline\n",
    "import time\n",
    "import matplotlib.pyplot as plt\n",
    "import numpy as np\n",
    "\n",
    "import qcodes as qc\n",
    "from qcodes.instrument.parameter import ManualParameter\n",
    "from qcodes.dataset.experiment_container import (Experiment,\n",
    "                                                 load_last_experiment,\n",
    "                                                 new_experiment)\n",
    "from qcodes.dataset.sqlite.database import initialise_database\n",
    "from qcodes import load_or_create_experiment\n",
    "from qcodes.dataset.measurements import Measurement"
   ]
  },
  {
   "cell_type": "code",
   "execution_count": 3,
   "metadata": {
    "execution": {
     "iopub.execute_input": "2021-05-21T09:08:30.049172Z",
     "iopub.status.busy": "2021-05-21T09:08:30.048234Z",
     "iopub.status.idle": "2021-05-21T09:08:30.132108Z",
     "shell.execute_reply": "2021-05-21T09:08:30.132635Z"
    }
   },
   "outputs": [
    {
     "name": "stdout",
     "output_type": "stream",
     "text": [
      "\r",
      "0it [00:00, ?it/s]"
     ]
    },
    {
     "name": "stdout",
     "output_type": "stream",
     "text": [
      "\r",
      "Upgrading database; v0 -> v1: : 0it [00:00, ?it/s]"
     ]
    },
    {
     "name": "stdout",
     "output_type": "stream",
     "text": [
      "\r",
      "Upgrading database; v0 -> v1: : 0it [00:00, ?it/s]"
     ]
    },
    {
     "name": "stdout",
     "output_type": "stream",
     "text": [
      "\n",
      "\r",
      "  0%|          | 0/1 [00:00<?, ?it/s]"
     ]
    },
    {
     "name": "stdout",
     "output_type": "stream",
     "text": [
      "\r",
      "Upgrading database; v1 -> v2:   0%|          | 0/1 [00:00<?, ?it/s]"
     ]
    },
    {
     "name": "stdout",
     "output_type": "stream",
     "text": [
      "\r",
      "Upgrading database; v1 -> v2: 100%|██████████| 1/1 [00:00<00:00, 433.12it/s]"
     ]
    },
    {
     "name": "stdout",
     "output_type": "stream",
     "text": [
      "\n",
      "\r",
      "0it [00:00, ?it/s]"
     ]
    },
    {
     "name": "stdout",
     "output_type": "stream",
     "text": [
      "\r",
      "Upgrading database; v2 -> v3: : 0it [00:00, ?it/s]"
     ]
    },
    {
     "name": "stdout",
     "output_type": "stream",
     "text": [
      "\r",
      "Upgrading database; v2 -> v3: : 0it [00:00, ?it/s]"
     ]
    },
    {
     "name": "stdout",
     "output_type": "stream",
     "text": [
      "\n",
      "\r",
      "0it [00:00, ?it/s]"
     ]
    },
    {
     "name": "stdout",
     "output_type": "stream",
     "text": [
      "\r",
      "Upgrading database; v3 -> v4: : 0it [00:00, ?it/s]"
     ]
    },
    {
     "name": "stdout",
     "output_type": "stream",
     "text": [
      "\r",
      "Upgrading database; v3 -> v4: : 0it [00:00, ?it/s]"
     ]
    },
    {
     "name": "stdout",
     "output_type": "stream",
     "text": [
      "\n",
      "\r",
      "  0%|          | 0/1 [00:00<?, ?it/s]"
     ]
    },
    {
     "name": "stdout",
     "output_type": "stream",
     "text": [
      "\r",
      "Upgrading database; v4 -> v5:   0%|          | 0/1 [00:00<?, ?it/s]"
     ]
    },
    {
     "name": "stdout",
     "output_type": "stream",
     "text": [
      "\r",
      "Upgrading database; v4 -> v5: 100%|██████████| 1/1 [00:00<00:00, 403.76it/s]"
     ]
    },
    {
     "name": "stdout",
     "output_type": "stream",
     "text": [
      "\n",
      "\r",
      "0it [00:00, ?it/s]"
     ]
    },
    {
     "name": "stdout",
     "output_type": "stream",
     "text": [
      "\r",
      "Upgrading database; v5 -> v6: : 0it [00:00, ?it/s]"
     ]
    },
    {
     "name": "stdout",
     "output_type": "stream",
     "text": [
      "\r",
      "Upgrading database; v5 -> v6: : 0it [00:00, ?it/s]"
     ]
    },
    {
     "name": "stdout",
     "output_type": "stream",
     "text": [
      "\n",
      "\r",
      "  0%|          | 0/1 [00:00<?, ?it/s]"
     ]
    },
    {
     "name": "stdout",
     "output_type": "stream",
     "text": [
      "\r",
      "Upgrading database; v6 -> v7:   0%|          | 0/1 [00:00<?, ?it/s]"
     ]
    },
    {
     "name": "stdout",
     "output_type": "stream",
     "text": [
      "\r",
      "Upgrading database; v6 -> v7: 100%|██████████| 1/1 [00:00<00:00, 283.13it/s]"
     ]
    },
    {
     "name": "stdout",
     "output_type": "stream",
     "text": [
      "\n",
      "\r",
      "  0%|          | 0/1 [00:00<?, ?it/s]"
     ]
    },
    {
     "name": "stdout",
     "output_type": "stream",
     "text": [
      "\r",
      "Upgrading database; v7 -> v8:   0%|          | 0/1 [00:00<?, ?it/s]"
     ]
    },
    {
     "name": "stdout",
     "output_type": "stream",
     "text": [
      "\r",
      "Upgrading database; v7 -> v8: 100%|██████████| 1/1 [00:00<00:00, 797.70it/s]"
     ]
    },
    {
     "name": "stdout",
     "output_type": "stream",
     "text": [
      "\n",
      "\r",
      "  0%|          | 0/1 [00:00<?, ?it/s]"
     ]
    },
    {
     "name": "stdout",
     "output_type": "stream",
     "text": [
      "\r",
      "Upgrading database; v8 -> v9:   0%|          | 0/1 [00:00<?, ?it/s]"
     ]
    },
    {
     "name": "stdout",
     "output_type": "stream",
     "text": [
      "\r",
      "Upgrading database; v8 -> v9: 100%|██████████| 1/1 [00:00<00:00, 932.69it/s]"
     ]
    },
    {
     "name": "stdout",
     "output_type": "stream",
     "text": [
      "\n"
     ]
    }
   ],
   "source": [
    "initialise_database()\n",
    "exp = load_or_create_experiment(experiment_name='tutorial_exp', sample_name=\"no sample\")"
   ]
  },
  {
   "cell_type": "markdown",
   "metadata": {},
   "source": [
    "Here, we define a simple function to benchmark the time it takes to insert n points with either numeric or array data type.\n",
    "We will compare both the time used to call ``add_result`` and the time used for the full measurement."
   ]
  },
  {
   "cell_type": "code",
   "execution_count": 4,
   "metadata": {
    "execution": {
     "iopub.execute_input": "2021-05-21T09:08:30.143613Z",
     "iopub.status.busy": "2021-05-21T09:08:30.141977Z",
     "iopub.status.idle": "2021-05-21T09:08:30.144453Z",
     "shell.execute_reply": "2021-05-21T09:08:30.145094Z"
    }
   },
   "outputs": [],
   "source": [
    "def insert_data(paramtype, npoints, nreps=1):\n",
    "\n",
    "    meas = Measurement(exp=exp)\n",
    "\n",
    "    x1 = ManualParameter('x1')\n",
    "    x2 = ManualParameter('x2')\n",
    "    x3 = ManualParameter('x3')\n",
    "    y1 = ManualParameter('y1')\n",
    "    y2 = ManualParameter('y2')\n",
    "\n",
    "    meas.register_parameter(x1, paramtype=paramtype)\n",
    "    meas.register_parameter(x2, paramtype=paramtype)\n",
    "    meas.register_parameter(x3, paramtype=paramtype)\n",
    "    meas.register_parameter(y1, setpoints=[x1, x2, x3],\n",
    "                            paramtype=paramtype)\n",
    "    meas.register_parameter(y2, setpoints=[x1, x2, x3],\n",
    "                            paramtype=paramtype)\n",
    "    start = time.perf_counter()\n",
    "    with meas.run() as datasaver:\n",
    "        start_adding = time.perf_counter()\n",
    "        for i in range(nreps):\n",
    "            datasaver.add_result((x1, np.random.rand(npoints)),\n",
    "                                 (x2, np.random.rand(npoints)),\n",
    "                                 (x3, np.random.rand(npoints)),\n",
    "                                 (y1, np.random.rand(npoints)),\n",
    "                                 (y2, np.random.rand(npoints)))\n",
    "        stop_adding = time.perf_counter()\n",
    "        run_id = datasaver.run_id\n",
    "    stop = time.perf_counter()\n",
    "    tot_time = stop - start\n",
    "    add_time = stop_adding - start_adding\n",
    "    return tot_time, add_time, run_id"
   ]
  },
  {
   "cell_type": "markdown",
   "metadata": {},
   "source": [
    "## Comparison between numeric/array data and binary blob"
   ]
  },
  {
   "cell_type": "markdown",
   "metadata": {},
   "source": [
    "### Case1: Short experiment time"
   ]
  },
  {
   "cell_type": "code",
   "execution_count": 5,
   "metadata": {
    "execution": {
     "iopub.execute_input": "2021-05-21T09:08:30.152259Z",
     "iopub.status.busy": "2021-05-21T09:08:30.151072Z",
     "iopub.status.idle": "2021-05-21T09:08:31.103613Z",
     "shell.execute_reply": "2021-05-21T09:08:31.104252Z"
    }
   },
   "outputs": [
    {
     "name": "stdout",
     "output_type": "stream",
     "text": [
      "Starting experimental run with id: 1. \n",
      "Starting experimental run with id: 2. \n",
      "Starting experimental run with id: 3. \n"
     ]
    },
    {
     "name": "stdout",
     "output_type": "stream",
     "text": [
      "Starting experimental run with id: 4. \n"
     ]
    },
    {
     "name": "stdout",
     "output_type": "stream",
     "text": [
      "Starting experimental run with id: 5. \n"
     ]
    },
    {
     "name": "stdout",
     "output_type": "stream",
     "text": [
      "Starting experimental run with id: 6. \n",
      "Starting experimental run with id: 7. \n"
     ]
    },
    {
     "name": "stdout",
     "output_type": "stream",
     "text": [
      "Starting experimental run with id: 8. \n"
     ]
    },
    {
     "name": "stdout",
     "output_type": "stream",
     "text": [
      "Starting experimental run with id: 9. \n"
     ]
    },
    {
     "name": "stdout",
     "output_type": "stream",
     "text": [
      "Starting experimental run with id: 10. \n",
      "Starting experimental run with id: 11. \n"
     ]
    },
    {
     "name": "stdout",
     "output_type": "stream",
     "text": [
      "Starting experimental run with id: 12. \n"
     ]
    },
    {
     "name": "stdout",
     "output_type": "stream",
     "text": [
      "Starting experimental run with id: 13. \n"
     ]
    },
    {
     "name": "stdout",
     "output_type": "stream",
     "text": [
      "Starting experimental run with id: 14. \n"
     ]
    }
   ],
   "source": [
    "sizes = [1,500,1000,2000,3000,4000,5000]\n",
    "t_numeric = []\n",
    "t_numeric_add = []\n",
    "t_array = []\n",
    "t_array_add = []\n",
    "for size in sizes:\n",
    "    tn, tna, run_id_n =  insert_data('numeric', size)\n",
    "    t_numeric.append(tn)\n",
    "    t_numeric_add.append(tna)\n",
    "\n",
    "    ta, taa, run_id_a =  insert_data('array', size)\n",
    "    t_array.append(ta)\n",
    "    t_array_add.append(taa)"
   ]
  },
  {
   "cell_type": "code",
   "execution_count": 6,
   "metadata": {
    "execution": {
     "iopub.execute_input": "2021-05-21T09:08:31.163048Z",
     "iopub.status.busy": "2021-05-21T09:08:31.126525Z",
     "iopub.status.idle": "2021-05-21T09:08:31.379125Z",
     "shell.execute_reply": "2021-05-21T09:08:31.379793Z"
    }
   },
   "outputs": [
    {
     "data": {
      "image/png": "[encoded data removed]",
      "text/plain": [
       "<Figure size 432x288 with 1 Axes>"
      ]
     },
     "metadata": {
      "needs_background": "light"
     },
     "output_type": "display_data"
    }
   ],
   "source": [
    "fig, ax = plt.subplots(1,1)\n",
    "ax.plot(sizes, t_numeric, 'o-', label='Inserting row-by-row')\n",
    "ax.plot(sizes, t_numeric_add, 'o-', label='Inserting row-by-row: add_result only')\n",
    "ax.plot(sizes, t_array, 'd-', label='Inserting as binary blob')\n",
    "ax.plot(sizes, t_array_add, 'd-', label='Inserting as binary blob: add_result only')\n",
    "ax.legend()\n",
    "ax.set_xlabel('Array length')\n",
    "ax.set_ylabel('Time (s)')\n",
    "fig.tight_layout()"
   ]
  },
  {
   "cell_type": "markdown",
   "metadata": {},
   "source": [
    "As shown in the latter figure, the time to setup and and close the experiment is approximately 0.4 sec. In case of small array sizes, the difference between inserting values of data as arrays and inserting them row-by-row is relatively unimportant. At larger array sizes, i.e. above 10000 points, the cost of writing data as individual datapoints starts to become important.\n"
   ]
  },
  {
   "cell_type": "markdown",
   "metadata": {},
   "source": [
    "### Case2: Long experiment time "
   ]
  },
  {
   "cell_type": "code",
   "execution_count": 7,
   "metadata": {
    "execution": {
     "iopub.execute_input": "2021-05-21T09:08:31.389330Z",
     "iopub.status.busy": "2021-05-21T09:08:31.388659Z",
     "iopub.status.idle": "2021-05-21T09:09:33.470400Z",
     "shell.execute_reply": "2021-05-21T09:09:33.469341Z"
    }
   },
   "outputs": [
    {
     "name": "stdout",
     "output_type": "stream",
     "text": [
      "Starting experimental run with id: 15. \n",
      "Starting experimental run with id: 16. \n"
     ]
    },
    {
     "name": "stdout",
     "output_type": "stream",
     "text": [
      "Starting experimental run with id: 17. \n"
     ]
    },
    {
     "name": "stdout",
     "output_type": "stream",
     "text": [
      "Starting experimental run with id: 18. \n"
     ]
    },
    {
     "name": "stdout",
     "output_type": "stream",
     "text": [
      "Starting experimental run with id: 19. \n"
     ]
    },
    {
     "name": "stdout",
     "output_type": "stream",
     "text": [
      "Starting experimental run with id: 20. \n"
     ]
    },
    {
     "name": "stdout",
     "output_type": "stream",
     "text": [
      "Starting experimental run with id: 21. \n"
     ]
    },
    {
     "name": "stdout",
     "output_type": "stream",
     "text": [
      "Starting experimental run with id: 22. \n"
     ]
    },
    {
     "name": "stdout",
     "output_type": "stream",
     "text": [
      "Starting experimental run with id: 23. \n"
     ]
    },
    {
     "name": "stdout",
     "output_type": "stream",
     "text": [
      "Starting experimental run with id: 24. \n"
     ]
    },
    {
     "name": "stdout",
     "output_type": "stream",
     "text": [
      "Starting experimental run with id: 25. \n"
     ]
    },
    {
     "name": "stdout",
     "output_type": "stream",
     "text": [
      "Starting experimental run with id: 26. \n"
     ]
    },
    {
     "name": "stdout",
     "output_type": "stream",
     "text": [
      "Starting experimental run with id: 27. \n"
     ]
    },
    {
     "name": "stdout",
     "output_type": "stream",
     "text": [
      "Starting experimental run with id: 28. \n"
     ]
    }
   ],
   "source": [
    "sizes = [1,500,1000,2000,3000,4000,5000]\n",
    "nreps = 100\n",
    "t_numeric = []\n",
    "t_numeric_add = []\n",
    "t_numeric_run_ids = []\n",
    "t_array = []\n",
    "t_array_add = []\n",
    "t_array_run_ids = []\n",
    "for size in sizes:\n",
    "    tn, tna, run_id_n =  insert_data('numeric', size, nreps=nreps)\n",
    "    t_numeric.append(tn)\n",
    "    t_numeric_add.append(tna)\n",
    "    t_numeric_run_ids.append(run_id_n)\n",
    "\n",
    "    ta, taa, run_id_a =  insert_data('array', size, nreps=nreps)\n",
    "    t_array.append(ta)\n",
    "    t_array_add.append(taa)\n",
    "    t_array_run_ids.append(run_id_a)"
   ]
  },
  {
   "cell_type": "code",
   "execution_count": 8,
   "metadata": {
    "execution": {
     "iopub.execute_input": "2021-05-21T09:09:33.491318Z",
     "iopub.status.busy": "2021-05-21T09:09:33.475078Z",
     "iopub.status.idle": "2021-05-21T09:09:33.759719Z",
     "shell.execute_reply": "2021-05-21T09:09:33.760498Z"
    },
    "scrolled": true
   },
   "outputs": [
    {
     "data": {
      "image/png": "[encoded data removed]",
      "text/plain": [
       "<Figure size 432x288 with 1 Axes>"
      ]
     },
     "metadata": {
      "needs_background": "light"
     },
     "output_type": "display_data"
    }
   ],
   "source": [
    "fig, ax = plt.subplots(1,1)\n",
    "ax.plot(sizes, t_numeric, 'o-', label='Inserting row-by-row')\n",
    "ax.plot(sizes, t_numeric_add, 'o-', label='Inserting row-by-row: add_result only')\n",
    "ax.plot(sizes, t_array, 'd-', label='Inserting as binary blob')\n",
    "ax.plot(sizes, t_array_add, 'd-', label='Inserting as binary blob: add_result only')\n",
    "ax.legend()\n",
    "ax.set_xlabel('Array length')\n",
    "ax.set_ylabel('Time (s)')\n",
    "fig.tight_layout()"
   ]
  },
  {
   "cell_type": "markdown",
   "metadata": {},
   "source": [
    "However, as we increase the length of the experiment, as seen here by repeating the insertion 100 times, we see a big difference between inserting values of the data row-by-row and inserting it as a binary blob."
   ]
  },
  {
   "cell_type": "markdown",
   "metadata": {},
   "source": [
    "## Loading the data "
   ]
  },
  {
   "cell_type": "code",
   "execution_count": 9,
   "metadata": {
    "execution": {
     "iopub.execute_input": "2021-05-21T09:09:33.766305Z",
     "iopub.status.busy": "2021-05-21T09:09:33.765645Z",
     "iopub.status.idle": "2021-05-21T09:09:33.769608Z",
     "shell.execute_reply": "2021-05-21T09:09:33.769120Z"
    }
   },
   "outputs": [],
   "source": [
    "from qcodes.dataset.data_set import load_by_id"
   ]
  },
  {
   "cell_type": "markdown",
   "metadata": {},
   "source": [
    "As usual you can load the data by using the ``load_by_id`` function but you will notice that the different storage methods\n",
    "are reflected in shape of the data as it is retrieved. "
   ]
  },
  {
   "cell_type": "code",
   "execution_count": 10,
   "metadata": {
    "execution": {
     "iopub.execute_input": "2021-05-21T09:09:33.775102Z",
     "iopub.status.busy": "2021-05-21T09:09:33.773487Z",
     "iopub.status.idle": "2021-05-21T09:09:33.775826Z",
     "shell.execute_reply": "2021-05-21T09:09:33.776375Z"
    }
   },
   "outputs": [],
   "source": [
    "run_id_n = t_numeric_run_ids[0]\n",
    "run_id_a = t_array_run_ids[0]"
   ]
  },
  {
   "cell_type": "code",
   "execution_count": 11,
   "metadata": {
    "execution": {
     "iopub.execute_input": "2021-05-21T09:09:33.780233Z",
     "iopub.status.busy": "2021-05-21T09:09:33.779486Z",
     "iopub.status.idle": "2021-05-21T09:09:33.790984Z",
     "shell.execute_reply": "2021-05-21T09:09:33.791520Z"
    },
    "scrolled": true
   },
   "outputs": [
    {
     "data": {
      "text/plain": [
       "{'x1': {'x1': array([5.21875999e-01, 5.21875999e-01, 1.21399873e-01, 1.21399873e-01,\n",
       "         6.62171035e-01, 6.62171035e-01, 5.74194939e-01, 5.74194939e-01,\n",
       "         6.92333753e-01, 6.92333753e-01, 3.82220283e-01, 3.82220283e-01,\n",
       "         1.01733980e-01, 1.01733980e-01, 4.67548204e-01, 4.67548204e-01,\n",
       "         9.89162418e-01, 9.89162418e-01, 4.44660799e-01, 4.44660799e-01,\n",
       "         7.51325589e-01, 7.51325589e-01, 6.15718742e-01, 6.15718742e-01,\n",
       "         4.87224204e-01, 4.87224204e-01, 9.84091733e-01, 9.84091733e-01,\n",
       "         6.94399761e-01, 6.94399761e-01, 7.14880044e-01, 7.14880044e-01,\n",
       "         1.76492911e-02, 1.76492911e-02, 6.51582040e-01, 6.51582040e-01,\n",
       "         5.98697435e-01, 5.98697435e-01, 8.18650739e-01, 8.18650739e-01,\n",
       "         9.26099909e-02, 9.26099909e-02, 3.96546773e-01, 3.96546773e-01,\n",
       "         2.27848722e-01, 2.27848722e-01, 6.78890667e-02, 6.78890667e-02,\n",
       "         6.43559164e-01, 6.43559164e-01, 8.40417942e-01, 8.40417942e-01,\n",
       "         1.50612500e-02, 1.50612500e-02, 2.52893912e-01, 2.52893912e-01,\n",
       "         2.36519541e-01, 2.36519541e-01, 1.71468555e-01, 1.71468555e-01,\n",
       "         5.02818512e-01, 5.02818512e-01, 2.09328969e-01, 2.09328969e-01,\n",
       "         3.60514896e-01, 3.60514896e-01, 2.42330237e-01, 2.42330237e-01,\n",
       "         1.16697615e-01, 1.16697615e-01, 1.39252466e-01, 1.39252466e-01,\n",
       "         4.55007779e-01, 4.55007779e-01, 6.38300177e-01, 6.38300177e-01,\n",
       "         8.76763896e-01, 8.76763896e-01, 2.72753516e-04, 2.72753516e-04,\n",
       "         8.47339005e-02, 8.47339005e-02, 6.85074905e-01, 6.85074905e-01,\n",
       "         2.35897668e-01, 2.35897668e-01, 9.75335829e-01, 9.75335829e-01,\n",
       "         9.06810531e-01, 9.06810531e-01, 6.43298528e-01, 6.43298528e-01,\n",
       "         3.31174057e-01, 3.31174057e-01, 1.86592886e-01, 1.86592886e-01,\n",
       "         5.48825226e-01, 5.48825226e-01, 6.66904933e-01, 6.66904933e-01,\n",
       "         3.44216450e-01, 3.44216450e-01, 4.39736319e-01, 4.39736319e-01,\n",
       "         5.87122519e-01, 5.87122519e-01, 4.55916339e-01, 4.55916339e-01,\n",
       "         5.29904503e-01, 5.29904503e-01, 8.48213168e-01, 8.48213168e-01,\n",
       "         8.52118099e-01, 8.52118099e-01, 8.96951671e-01, 8.96951671e-01,\n",
       "         9.93989634e-02, 9.93989634e-02, 6.13119572e-01, 6.13119572e-01,\n",
       "         6.14115079e-01, 6.14115079e-01, 9.15850830e-02, 9.15850830e-02,\n",
       "         2.33208504e-01, 2.33208504e-01, 9.95090977e-01, 9.95090977e-01,\n",
       "         1.74626665e-01, 1.74626665e-01, 2.57563641e-01, 2.57563641e-01,\n",
       "         5.24390950e-02, 5.24390950e-02, 5.58895571e-01, 5.58895571e-01,\n",
       "         3.10315506e-01, 3.10315506e-01, 5.12687864e-01, 5.12687864e-01,\n",
       "         7.58935746e-01, 7.58935746e-01, 2.59478388e-01, 2.59478388e-01,\n",
       "         1.79538073e-01, 1.79538073e-01, 9.92605650e-01, 9.92605650e-01,\n",
       "         5.19056759e-03, 5.19056759e-03, 4.14719723e-01, 4.14719723e-01,\n",
       "         9.39957020e-01, 9.39957020e-01, 2.43819923e-01, 2.43819923e-01,\n",
       "         9.71157226e-02, 9.71157226e-02, 7.89928312e-02, 7.89928312e-02,\n",
       "         5.08854685e-01, 5.08854685e-01, 9.49665460e-03, 9.49665460e-03,\n",
       "         3.06994255e-01, 3.06994255e-01, 7.85793869e-01, 7.85793869e-01,\n",
       "         3.99974003e-01, 3.99974003e-01, 5.25660666e-01, 5.25660666e-01,\n",
       "         6.01617151e-01, 6.01617151e-01, 3.91046814e-01, 3.91046814e-01,\n",
       "         2.31476364e-01, 2.31476364e-01, 2.49719994e-01, 2.49719994e-01,\n",
       "         8.31251844e-01, 8.31251844e-01, 6.78376559e-01, 6.78376559e-01,\n",
       "         5.85936137e-01, 5.85936137e-01, 5.85222256e-01, 5.85222256e-01,\n",
       "         8.29868212e-01, 8.29868212e-01, 1.66571631e-01, 1.66571631e-01,\n",
       "         3.20788951e-01, 3.20788951e-01, 1.33648868e-02, 1.33648868e-02,\n",
       "         8.69293793e-01, 8.69293793e-01, 7.71848368e-02, 7.71848368e-02])}}"
      ]
     },
     "execution_count": 1,
     "metadata": {},
     "output_type": "execute_result"
    }
   ],
   "source": [
    "ds = load_by_id(run_id_n)\n",
    "ds.get_parameter_data('x1')"
   ]
  },
  {
   "cell_type": "markdown",
   "metadata": {},
   "source": [
    "And a dataset stored as binary arrays"
   ]
  },
  {
   "cell_type": "code",
   "execution_count": 12,
   "metadata": {
    "execution": {
     "iopub.execute_input": "2021-05-21T09:09:33.798000Z",
     "iopub.status.busy": "2021-05-21T09:09:33.797340Z",
     "iopub.status.idle": "2021-05-21T09:09:33.865674Z",
     "shell.execute_reply": "2021-05-21T09:09:33.866239Z"
    },
    "scrolled": true
   },
   "outputs": [
    {
     "data": {
      "text/plain": [
       "{'x1': {'x1': array([[0.04864686],\n",
       "         [0.04864686],\n",
       "         [0.89447083],\n",
       "         [0.89447083],\n",
       "         [0.80639632],\n",
       "         [0.80639632],\n",
       "         [0.57250099],\n",
       "         [0.57250099],\n",
       "         [0.9948798 ],\n",
       "         [0.9948798 ],\n",
       "         [0.85855493],\n",
       "         [0.85855493],\n",
       "         [0.05786327],\n",
       "         [0.05786327],\n",
       "         [0.04960994],\n",
       "         [0.04960994],\n",
       "         [0.72969479],\n",
       "         [0.72969479],\n",
       "         [0.10334042],\n",
       "         [0.10334042],\n",
       "         [0.01300011],\n",
       "         [0.01300011],\n",
       "         [0.3499198 ],\n",
       "         [0.3499198 ],\n",
       "         [0.46529406],\n",
       "         [0.46529406],\n",
       "         [0.04574226],\n",
       "         [0.04574226],\n",
       "         [0.50224877],\n",
       "         [0.50224877],\n",
       "         [0.14442855],\n",
       "         [0.14442855],\n",
       "         [0.9917873 ],\n",
       "         [0.9917873 ],\n",
       "         [0.79821775],\n",
       "         [0.79821775],\n",
       "         [0.01260409],\n",
       "         [0.01260409],\n",
       "         [0.45980529],\n",
       "         [0.45980529],\n",
       "         [0.96943871],\n",
       "         [0.96943871],\n",
       "         [0.4929427 ],\n",
       "         [0.4929427 ],\n",
       "         [0.27604151],\n",
       "         [0.27604151],\n",
       "         [0.44786427],\n",
       "         [0.44786427],\n",
       "         [0.18621781],\n",
       "         [0.18621781],\n",
       "         [0.9807384 ],\n",
       "         [0.9807384 ],\n",
       "         [0.24143616],\n",
       "         [0.24143616],\n",
       "         [0.93606563],\n",
       "         [0.93606563],\n",
       "         [0.52455688],\n",
       "         [0.52455688],\n",
       "         [0.9861851 ],\n",
       "         [0.9861851 ],\n",
       "         [0.25796013],\n",
       "         [0.25796013],\n",
       "         [0.61491451],\n",
       "         [0.61491451],\n",
       "         [0.77019213],\n",
       "         [0.77019213],\n",
       "         [0.66193339],\n",
       "         [0.66193339],\n",
       "         [0.87672209],\n",
       "         [0.87672209],\n",
       "         [0.23924456],\n",
       "         [0.23924456],\n",
       "         [0.95508004],\n",
       "         [0.95508004],\n",
       "         [0.47050561],\n",
       "         [0.47050561],\n",
       "         [0.49160551],\n",
       "         [0.49160551],\n",
       "         [0.73117232],\n",
       "         [0.73117232],\n",
       "         [0.2741206 ],\n",
       "         [0.2741206 ],\n",
       "         [0.6920741 ],\n",
       "         [0.6920741 ],\n",
       "         [0.92635514],\n",
       "         [0.92635514],\n",
       "         [0.29602933],\n",
       "         [0.29602933],\n",
       "         [0.78856716],\n",
       "         [0.78856716],\n",
       "         [0.07008984],\n",
       "         [0.07008984],\n",
       "         [0.46768461],\n",
       "         [0.46768461],\n",
       "         [0.14150674],\n",
       "         [0.14150674],\n",
       "         [0.48742478],\n",
       "         [0.48742478],\n",
       "         [0.33237587],\n",
       "         [0.33237587],\n",
       "         [0.57286722],\n",
       "         [0.57286722],\n",
       "         [0.888239  ],\n",
       "         [0.888239  ],\n",
       "         [0.0800542 ],\n",
       "         [0.0800542 ],\n",
       "         [0.95893341],\n",
       "         [0.95893341],\n",
       "         [0.73102609],\n",
       "         [0.73102609],\n",
       "         [0.7103454 ],\n",
       "         [0.7103454 ],\n",
       "         [0.09740787],\n",
       "         [0.09740787],\n",
       "         [0.15387252],\n",
       "         [0.15387252],\n",
       "         [0.43255696],\n",
       "         [0.43255696],\n",
       "         [0.80657638],\n",
       "         [0.80657638],\n",
       "         [0.67285569],\n",
       "         [0.67285569],\n",
       "         [0.08763213],\n",
       "         [0.08763213],\n",
       "         [0.54642766],\n",
       "         [0.54642766],\n",
       "         [0.01674984],\n",
       "         [0.01674984],\n",
       "         [0.85869253],\n",
       "         [0.85869253],\n",
       "         [0.542529  ],\n",
       "         [0.542529  ],\n",
       "         [0.48857485],\n",
       "         [0.48857485],\n",
       "         [0.30974722],\n",
       "         [0.30974722],\n",
       "         [0.00189093],\n",
       "         [0.00189093],\n",
       "         [0.42856205],\n",
       "         [0.42856205],\n",
       "         [0.59891113],\n",
       "         [0.59891113],\n",
       "         [0.78535613],\n",
       "         [0.78535613],\n",
       "         [0.39043385],\n",
       "         [0.39043385],\n",
       "         [0.50135412],\n",
       "         [0.50135412],\n",
       "         [0.1172876 ],\n",
       "         [0.1172876 ],\n",
       "         [0.5270422 ],\n",
       "         [0.5270422 ],\n",
       "         [0.19287287],\n",
       "         [0.19287287],\n",
       "         [0.47930649],\n",
       "         [0.47930649],\n",
       "         [0.0455574 ],\n",
       "         [0.0455574 ],\n",
       "         [0.11659394],\n",
       "         [0.11659394],\n",
       "         [0.84467369],\n",
       "         [0.84467369],\n",
       "         [0.27038015],\n",
       "         [0.27038015],\n",
       "         [0.14878025],\n",
       "         [0.14878025],\n",
       "         [0.52386017],\n",
       "         [0.52386017],\n",
       "         [0.71313359],\n",
       "         [0.71313359],\n",
       "         [0.93343192],\n",
       "         [0.93343192],\n",
       "         [0.07576945],\n",
       "         [0.07576945],\n",
       "         [0.821601  ],\n",
       "         [0.821601  ],\n",
       "         [0.66684145],\n",
       "         [0.66684145],\n",
       "         [0.33001141],\n",
       "         [0.33001141],\n",
       "         [0.35592738],\n",
       "         [0.35592738],\n",
       "         [0.97385987],\n",
       "         [0.97385987],\n",
       "         [0.71860361],\n",
       "         [0.71860361],\n",
       "         [0.25296714],\n",
       "         [0.25296714],\n",
       "         [0.29528112],\n",
       "         [0.29528112],\n",
       "         [0.47658937],\n",
       "         [0.47658937],\n",
       "         [0.17331216],\n",
       "         [0.17331216],\n",
       "         [0.54911023],\n",
       "         [0.54911023],\n",
       "         [0.46018878],\n",
       "         [0.46018878],\n",
       "         [0.53976621],\n",
       "         [0.53976621]])}}"
      ]
     },
     "execution_count": 1,
     "metadata": {},
     "output_type": "execute_result"
    }
   ],
   "source": [
    "ds = load_by_id(run_id_a)\n",
    "ds.get_parameter_data('x1')"
   ]
  },
  {
   "cell_type": "code",
   "execution_count": null,
   "metadata": {},
   "outputs": [],
   "source": []
  }
 ],
 "metadata": {
  "kernelspec": {
   "display_name": "Python 3",
   "language": "python",
   "name": "python3"
  },
  "language_info": {
   "codemirror_mode": {
    "name": "ipython",
    "version": 3
   },
   "file_extension": ".py",
   "mimetype": "text/x-python",
   "name": "python",
   "nbconvert_exporter": "python",
   "pygments_lexer": "ipython3",
   "version": "3.7.10"
  },
  "nbsphinx": {
   "timeout": 600
  },
  "toc": {
   "base_numbering": 1,
   "nav_menu": {},
   "number_sections": true,
   "sideBar": true,
   "skip_h1_title": false,
   "title_cell": "Table of Contents",
   "title_sidebar": "Contents",
   "toc_cell": false,
   "toc_position": {},
   "toc_section_display": true,
   "toc_window_display": false
  },
  "varInspector": {
   "cols": {
    "lenName": 16,
    "lenType": 16,
    "lenVar": 40
   },
   "kernels_config": {
    "python": {
     "delete_cmd_postfix": "",
     "delete_cmd_prefix": "del ",
     "library": "var_list.py",
     "varRefreshCmd": "print(var_dic_list())"
    },
    "r": {
     "delete_cmd_postfix": ") ",
     "delete_cmd_prefix": "rm(",
     "library": "var_list.r",
     "varRefreshCmd": "cat(var_dic_list()) "
    }
   },
   "types_to_exclude": [
    "module",
    "function",
    "builtin_function_or_method",
    "instance",
    "_Feature"
   ],
   "window_display": false
  }
 },
 "nbformat": 4,
 "nbformat_minor": 4
}
