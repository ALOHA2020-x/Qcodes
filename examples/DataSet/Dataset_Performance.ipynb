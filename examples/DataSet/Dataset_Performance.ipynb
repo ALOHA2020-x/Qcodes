{
 "cells": [
  {
   "cell_type": "markdown",
   "metadata": {},
   "source": [
    "# DataSet Performance\n",
    "\n",
    "This notebook shows the trade-off between inserting data into a database row-by-row and as binary blobs. Inserting the data row-by-row means that we have direct access to all the data and may perform queries directly on the values of the data. On the other hand, as we shall see, this is much slower than inserting the data directly as binary blobs."
   ]
  },
  {
   "cell_type": "markdown",
   "metadata": {},
   "source": [
    "First, we choose a new location for the database to ensure that we don't add a bunch of benchmarking data to the default one."
   ]
  },
  {
   "cell_type": "code",
   "execution_count": 1,
   "metadata": {
    "execution": {
     "iopub.execute_input": "2021-02-24T11:20:01.969794Z",
     "iopub.status.busy": "2021-02-24T11:20:01.969222Z",
     "iopub.status.idle": "2021-02-24T11:20:02.890051Z",
     "shell.execute_reply": "2021-02-24T11:20:02.889188Z"
    }
   },
   "outputs": [
    {
     "name": "stdout",
     "output_type": "stream",
     "text": [
      "Logging hadn't been started.\n",
      "Activating auto-logging. Current session state plus future input saved.\n",
      "Filename       : /home/runner/.qcodes/logs/command_history.log\n",
      "Mode           : append\n",
      "Output logging : True\n",
      "Raw input log  : False\n",
      "Timestamping   : True\n",
      "State          : active\n"
     ]
    },
    {
     "name": "stdout",
     "output_type": "stream",
     "text": [
      "Qcodes Logfile : /home/runner/.qcodes/logs/210224-4047-qcodes.log\n"
     ]
    }
   ],
   "source": [
    "import os\n",
    "cwd = os.getcwd()\n",
    "import qcodes as qc\n",
    "qc.config[\"core\"][\"db_location\"] = os.path.join(cwd, 'testing.db')\n"
   ]
  },
  {
   "cell_type": "code",
   "execution_count": 2,
   "metadata": {
    "execution": {
     "iopub.execute_input": "2021-02-24T11:20:02.897673Z",
     "iopub.status.busy": "2021-02-24T11:20:02.896009Z",
     "iopub.status.idle": "2021-02-24T11:20:03.098132Z",
     "shell.execute_reply": "2021-02-24T11:20:03.097582Z"
    }
   },
   "outputs": [],
   "source": [
    "%matplotlib inline\n",
    "import time\n",
    "import matplotlib.pyplot as plt\n",
    "import numpy as np\n",
    "\n",
    "import qcodes as qc\n",
    "from qcodes.instrument.parameter import ManualParameter\n",
    "from qcodes.dataset.experiment_container import (Experiment,\n",
    "                                                 load_last_experiment,\n",
    "                                                 new_experiment)\n",
    "from qcodes.dataset.sqlite.database import initialise_database\n",
    "from qcodes import load_or_create_experiment\n",
    "from qcodes.dataset.measurements import Measurement"
   ]
  },
  {
   "cell_type": "code",
   "execution_count": 3,
   "metadata": {
    "execution": {
     "iopub.execute_input": "2021-02-24T11:20:03.102388Z",
     "iopub.status.busy": "2021-02-24T11:20:03.101436Z",
     "iopub.status.idle": "2021-02-24T11:20:03.242722Z",
     "shell.execute_reply": "2021-02-24T11:20:03.243226Z"
    }
   },
   "outputs": [
    {
     "name": "stdout",
     "output_type": "stream",
     "text": [
      "\r",
      "0it [00:00, ?it/s]"
     ]
    },
    {
     "name": "stdout",
     "output_type": "stream",
     "text": [
      "\r",
      "Upgrading database; v0 -> v1: : 0it [00:00, ?it/s]"
     ]
    },
    {
     "name": "stdout",
     "output_type": "stream",
     "text": [
      "\r",
      "Upgrading database; v0 -> v1: : 0it [00:00, ?it/s]"
     ]
    },
    {
     "name": "stdout",
     "output_type": "stream",
     "text": [
      "\n",
      "\r",
      "  0%|          | 0/1 [00:00<?, ?it/s]"
     ]
    },
    {
     "name": "stdout",
     "output_type": "stream",
     "text": [
      "\r",
      "Upgrading database; v1 -> v2:   0%|          | 0/1 [00:00<?, ?it/s]"
     ]
    },
    {
     "name": "stdout",
     "output_type": "stream",
     "text": [
      "\r",
      "Upgrading database; v1 -> v2: 100%|██████████| 1/1 [00:00<00:00, 799.98it/s]"
     ]
    },
    {
     "name": "stdout",
     "output_type": "stream",
     "text": [
      "\n",
      "\r",
      "0it [00:00, ?it/s]"
     ]
    },
    {
     "name": "stdout",
     "output_type": "stream",
     "text": [
      "\r",
      "Upgrading database; v2 -> v3: : 0it [00:00, ?it/s]"
     ]
    },
    {
     "name": "stdout",
     "output_type": "stream",
     "text": [
      "\r",
      "Upgrading database; v2 -> v3: : 0it [00:00, ?it/s]"
     ]
    },
    {
     "name": "stdout",
     "output_type": "stream",
     "text": [
      "\n",
      "\r",
      "0it [00:00, ?it/s]"
     ]
    },
    {
     "name": "stdout",
     "output_type": "stream",
     "text": [
      "\r",
      "Upgrading database; v3 -> v4: : 0it [00:00, ?it/s]"
     ]
    },
    {
     "name": "stdout",
     "output_type": "stream",
     "text": [
      "\r",
      "Upgrading database; v3 -> v4: : 0it [00:00, ?it/s]"
     ]
    },
    {
     "name": "stdout",
     "output_type": "stream",
     "text": [
      "\n",
      "\r",
      "  0%|          | 0/1 [00:00<?, ?it/s]"
     ]
    },
    {
     "name": "stdout",
     "output_type": "stream",
     "text": [
      "\r",
      "Upgrading database; v4 -> v5:   0%|          | 0/1 [00:00<?, ?it/s]"
     ]
    },
    {
     "name": "stdout",
     "output_type": "stream",
     "text": [
      "\r",
      "Upgrading database; v4 -> v5: 100%|██████████| 1/1 [00:00<00:00, 399.57it/s]"
     ]
    },
    {
     "name": "stdout",
     "output_type": "stream",
     "text": [
      "\n",
      "\r",
      "0it [00:00, ?it/s]"
     ]
    },
    {
     "name": "stdout",
     "output_type": "stream",
     "text": [
      "\r",
      "Upgrading database; v5 -> v6: : 0it [00:00, ?it/s]"
     ]
    },
    {
     "name": "stdout",
     "output_type": "stream",
     "text": [
      "\r",
      "Upgrading database; v5 -> v6: : 0it [00:00, ?it/s]"
     ]
    },
    {
     "name": "stdout",
     "output_type": "stream",
     "text": [
      "\n",
      "\r",
      "  0%|          | 0/1 [00:00<?, ?it/s]"
     ]
    },
    {
     "name": "stdout",
     "output_type": "stream",
     "text": [
      "\r",
      "Upgrading database; v6 -> v7:   0%|          | 0/1 [00:00<?, ?it/s]"
     ]
    },
    {
     "name": "stdout",
     "output_type": "stream",
     "text": [
      "\r",
      "Upgrading database; v6 -> v7: 100%|██████████| 1/1 [00:00<00:00, 173.13it/s]"
     ]
    },
    {
     "name": "stdout",
     "output_type": "stream",
     "text": [
      "\n",
      "\r",
      "  0%|          | 0/1 [00:00<?, ?it/s]"
     ]
    },
    {
     "name": "stdout",
     "output_type": "stream",
     "text": [
      "\r",
      "Upgrading database; v7 -> v8:   0%|          | 0/1 [00:00<?, ?it/s]"
     ]
    },
    {
     "name": "stdout",
     "output_type": "stream",
     "text": [
      "\r",
      "Upgrading database; v7 -> v8: 100%|██████████| 1/1 [00:00<00:00, 430.63it/s]"
     ]
    },
    {
     "name": "stdout",
     "output_type": "stream",
     "text": [
      "\n",
      "\r",
      "  0%|          | 0/1 [00:00<?, ?it/s]"
     ]
    },
    {
     "name": "stdout",
     "output_type": "stream",
     "text": [
      "\r",
      "Upgrading database; v8 -> v9:   0%|          | 0/1 [00:00<?, ?it/s]"
     ]
    },
    {
     "name": "stdout",
     "output_type": "stream",
     "text": [
      "\r",
      "Upgrading database; v8 -> v9: 100%|██████████| 1/1 [00:00<00:00, 452.36it/s]"
     ]
    },
    {
     "name": "stdout",
     "output_type": "stream",
     "text": [
      "\n"
     ]
    }
   ],
   "source": [
    "initialise_database()\n",
    "exp = load_or_create_experiment(experiment_name='tutorial_exp', sample_name=\"no sample\")"
   ]
  },
  {
   "cell_type": "markdown",
   "metadata": {},
   "source": [
    "Here, we define a simple function to benchmark the time it takes to insert n points with either numeric or array data type.\n",
    "We will compare both the time used to call ``add_result`` and the time used for the full measurement."
   ]
  },
  {
   "cell_type": "code",
   "execution_count": 4,
   "metadata": {
    "execution": {
     "iopub.execute_input": "2021-02-24T11:20:03.251066Z",
     "iopub.status.busy": "2021-02-24T11:20:03.250476Z",
     "iopub.status.idle": "2021-02-24T11:20:03.255351Z",
     "shell.execute_reply": "2021-02-24T11:20:03.255840Z"
    }
   },
   "outputs": [],
   "source": [
    "def insert_data(paramtype, npoints, nreps=1):\n",
    "\n",
    "    meas = Measurement(exp=exp)\n",
    "\n",
    "    x1 = ManualParameter('x1')\n",
    "    x2 = ManualParameter('x2')\n",
    "    x3 = ManualParameter('x3')\n",
    "    y1 = ManualParameter('y1')\n",
    "    y2 = ManualParameter('y2')\n",
    "\n",
    "    meas.register_parameter(x1, paramtype=paramtype)\n",
    "    meas.register_parameter(x2, paramtype=paramtype)\n",
    "    meas.register_parameter(x3, paramtype=paramtype)\n",
    "    meas.register_parameter(y1, setpoints=[x1, x2, x3],\n",
    "                            paramtype=paramtype)\n",
    "    meas.register_parameter(y2, setpoints=[x1, x2, x3],\n",
    "                            paramtype=paramtype)\n",
    "    start = time.perf_counter()\n",
    "    with meas.run() as datasaver:\n",
    "        start_adding = time.perf_counter()\n",
    "        for i in range(nreps):\n",
    "            datasaver.add_result((x1, np.random.rand(npoints)),\n",
    "                                 (x2, np.random.rand(npoints)),\n",
    "                                 (x3, np.random.rand(npoints)),\n",
    "                                 (y1, np.random.rand(npoints)),\n",
    "                                 (y2, np.random.rand(npoints)))\n",
    "        stop_adding = time.perf_counter()\n",
    "        run_id = datasaver.run_id\n",
    "    stop = time.perf_counter()\n",
    "    tot_time = stop - start\n",
    "    add_time = stop_adding - start_adding\n",
    "    return tot_time, add_time, run_id"
   ]
  },
  {
   "cell_type": "markdown",
   "metadata": {},
   "source": [
    "## Comparison between numeric/array data and binary blob"
   ]
  },
  {
   "cell_type": "markdown",
   "metadata": {},
   "source": [
    "### Case1: Short experiment time"
   ]
  },
  {
   "cell_type": "code",
   "execution_count": 5,
   "metadata": {
    "execution": {
     "iopub.execute_input": "2021-02-24T11:20:03.262574Z",
     "iopub.status.busy": "2021-02-24T11:20:03.260024Z",
     "iopub.status.idle": "2021-02-24T11:20:04.179594Z",
     "shell.execute_reply": "2021-02-24T11:20:04.180045Z"
    }
   },
   "outputs": [
    {
     "name": "stdout",
     "output_type": "stream",
     "text": [
      "Starting experimental run with id: 1. \n",
      "Starting experimental run with id: 2. \n",
      "Starting experimental run with id: 3. \n"
     ]
    },
    {
     "name": "stdout",
     "output_type": "stream",
     "text": [
      "Starting experimental run with id: 4. \n"
     ]
    },
    {
     "name": "stdout",
     "output_type": "stream",
     "text": [
      "Starting experimental run with id: 5. \n"
     ]
    },
    {
     "name": "stdout",
     "output_type": "stream",
     "text": [
      "Starting experimental run with id: 6. \n",
      "Starting experimental run with id: 7. \n"
     ]
    },
    {
     "name": "stdout",
     "output_type": "stream",
     "text": [
      "Starting experimental run with id: 8. \n"
     ]
    },
    {
     "name": "stdout",
     "output_type": "stream",
     "text": [
      "Starting experimental run with id: 9. \n"
     ]
    },
    {
     "name": "stdout",
     "output_type": "stream",
     "text": [
      "Starting experimental run with id: 10. \n",
      "Starting experimental run with id: 11. \n"
     ]
    },
    {
     "name": "stdout",
     "output_type": "stream",
     "text": [
      "Starting experimental run with id: 12. \n"
     ]
    },
    {
     "name": "stdout",
     "output_type": "stream",
     "text": [
      "Starting experimental run with id: 13. \n"
     ]
    },
    {
     "name": "stdout",
     "output_type": "stream",
     "text": [
      "Starting experimental run with id: 14. \n"
     ]
    }
   ],
   "source": [
    "sizes = [1,500,1000,2000,3000,4000,5000]\n",
    "t_numeric = []\n",
    "t_numeric_add = []\n",
    "t_array = []\n",
    "t_array_add = []\n",
    "for size in sizes:\n",
    "    tn, tna, run_id_n =  insert_data('numeric', size)\n",
    "    t_numeric.append(tn)\n",
    "    t_numeric_add.append(tna)\n",
    "\n",
    "    ta, taa, run_id_a =  insert_data('array', size)\n",
    "    t_array.append(ta)\n",
    "    t_array_add.append(taa)"
   ]
  },
  {
   "cell_type": "code",
   "execution_count": 6,
   "metadata": {
    "execution": {
     "iopub.execute_input": "2021-02-24T11:20:04.211390Z",
     "iopub.status.busy": "2021-02-24T11:20:04.184620Z",
     "iopub.status.idle": "2021-02-24T11:20:04.387120Z",
     "shell.execute_reply": "2021-02-24T11:20:04.386612Z"
    }
   },
   "outputs": [
    {
     "data": {
      "image/png": "[encoded data removed]",
      "text/plain": [
       "<Figure size 432x288 with 1 Axes>"
      ]
     },
     "metadata": {
      "needs_background": "light"
     },
     "output_type": "display_data"
    }
   ],
   "source": [
    "fig, ax = plt.subplots(1,1)\n",
    "ax.plot(sizes, t_numeric, 'o-', label='Inserting row-by-row')\n",
    "ax.plot(sizes, t_numeric_add, 'o-', label='Inserting row-by-row: add_result only')\n",
    "ax.plot(sizes, t_array, 'd-', label='Inserting as binary blob')\n",
    "ax.plot(sizes, t_array_add, 'd-', label='Inserting as binary blob: add_result only')\n",
    "ax.legend()\n",
    "ax.set_xlabel('Array length')\n",
    "ax.set_ylabel('Time (s)')\n",
    "fig.tight_layout()"
   ]
  },
  {
   "cell_type": "markdown",
   "metadata": {},
   "source": [
    "As shown in the latter figure, the time to setup and and close the experiment is approximately 0.4 sec. In case of small array sizes, the difference between inserting values of data as arrays and inserting them row-by-row is relatively unimportant. At larger array sizes, i.e. above 10000 points, the cost of writing data as individual datapoints starts to become important.\n"
   ]
  },
  {
   "cell_type": "markdown",
   "metadata": {},
   "source": [
    "### Case2: Long experiment time "
   ]
  },
  {
   "cell_type": "code",
   "execution_count": 7,
   "metadata": {
    "execution": {
     "iopub.execute_input": "2021-02-24T11:20:04.394169Z",
     "iopub.status.busy": "2021-02-24T11:20:04.393591Z",
     "iopub.status.idle": "2021-02-24T11:21:04.839535Z",
     "shell.execute_reply": "2021-02-24T11:21:04.838988Z"
    }
   },
   "outputs": [
    {
     "name": "stdout",
     "output_type": "stream",
     "text": [
      "Starting experimental run with id: 15. \n",
      "Starting experimental run with id: 16. \n",
      "Starting experimental run with id: 17. \n"
     ]
    },
    {
     "name": "stdout",
     "output_type": "stream",
     "text": [
      "Starting experimental run with id: 18. \n"
     ]
    },
    {
     "name": "stdout",
     "output_type": "stream",
     "text": [
      "Starting experimental run with id: 19. \n"
     ]
    },
    {
     "name": "stdout",
     "output_type": "stream",
     "text": [
      "Starting experimental run with id: 20. \n"
     ]
    },
    {
     "name": "stdout",
     "output_type": "stream",
     "text": [
      "Starting experimental run with id: 21. \n"
     ]
    },
    {
     "name": "stdout",
     "output_type": "stream",
     "text": [
      "Starting experimental run with id: 22. \n"
     ]
    },
    {
     "name": "stdout",
     "output_type": "stream",
     "text": [
      "Starting experimental run with id: 23. \n"
     ]
    },
    {
     "name": "stdout",
     "output_type": "stream",
     "text": [
      "Starting experimental run with id: 24. \n"
     ]
    },
    {
     "name": "stdout",
     "output_type": "stream",
     "text": [
      "Starting experimental run with id: 25. \n"
     ]
    },
    {
     "name": "stdout",
     "output_type": "stream",
     "text": [
      "Starting experimental run with id: 26. \n"
     ]
    },
    {
     "name": "stdout",
     "output_type": "stream",
     "text": [
      "Starting experimental run with id: 27. \n"
     ]
    },
    {
     "name": "stdout",
     "output_type": "stream",
     "text": [
      "Starting experimental run with id: 28. \n"
     ]
    }
   ],
   "source": [
    "sizes = [1,500,1000,2000,3000,4000,5000]\n",
    "nreps = 100\n",
    "t_numeric = []\n",
    "t_numeric_add = []\n",
    "t_numeric_run_ids = []\n",
    "t_array = []\n",
    "t_array_add = []\n",
    "t_array_run_ids = []\n",
    "for size in sizes:\n",
    "    tn, tna, run_id_n =  insert_data('numeric', size, nreps=nreps)\n",
    "    t_numeric.append(tn)\n",
    "    t_numeric_add.append(tna)\n",
    "    t_numeric_run_ids.append(run_id_n)\n",
    "\n",
    "    ta, taa, run_id_a =  insert_data('array', size, nreps=nreps)\n",
    "    t_array.append(ta)\n",
    "    t_array_add.append(taa)\n",
    "    t_array_run_ids.append(run_id_a)"
   ]
  },
  {
   "cell_type": "code",
   "execution_count": 8,
   "metadata": {
    "execution": {
     "iopub.execute_input": "2021-02-24T11:21:04.884776Z",
     "iopub.status.busy": "2021-02-24T11:21:04.883630Z",
     "iopub.status.idle": "2021-02-24T11:21:05.056012Z",
     "shell.execute_reply": "2021-02-24T11:21:05.055512Z"
    },
    "scrolled": true
   },
   "outputs": [
    {
     "data": {
      "image/png": "[encoded data removed]",
      "text/plain": [
       "<Figure size 432x288 with 1 Axes>"
      ]
     },
     "metadata": {
      "needs_background": "light"
     },
     "output_type": "display_data"
    }
   ],
   "source": [
    "fig, ax = plt.subplots(1,1)\n",
    "ax.plot(sizes, t_numeric, 'o-', label='Inserting row-by-row')\n",
    "ax.plot(sizes, t_numeric_add, 'o-', label='Inserting row-by-row: add_result only')\n",
    "ax.plot(sizes, t_array, 'd-', label='Inserting as binary blob')\n",
    "ax.plot(sizes, t_array_add, 'd-', label='Inserting as binary blob: add_result only')\n",
    "ax.legend()\n",
    "ax.set_xlabel('Array length')\n",
    "ax.set_ylabel('Time (s)')\n",
    "fig.tight_layout()"
   ]
  },
  {
   "cell_type": "markdown",
   "metadata": {},
   "source": [
    "However, as we increase the length of the experiment, as seen here by repeating the insertion 100 times, we see a big difference between inserting values of the data row-by-row and inserting it as a binary blob."
   ]
  },
  {
   "cell_type": "markdown",
   "metadata": {},
   "source": [
    "## Loading the data "
   ]
  },
  {
   "cell_type": "code",
   "execution_count": 9,
   "metadata": {
    "execution": {
     "iopub.execute_input": "2021-02-24T11:21:05.060533Z",
     "iopub.status.busy": "2021-02-24T11:21:05.059498Z",
     "iopub.status.idle": "2021-02-24T11:21:05.062737Z",
     "shell.execute_reply": "2021-02-24T11:21:05.062306Z"
    }
   },
   "outputs": [],
   "source": [
    "from qcodes.dataset.data_set import load_by_id\n",
    "from qcodes.dataset.data_export import get_data_by_id"
   ]
  },
  {
   "cell_type": "markdown",
   "metadata": {},
   "source": [
    "As usual you can load the data by using the ``load_by_id`` function but you will notice that the different storage methods\n",
    "are reflected in shape of the data as it is retrieved. "
   ]
  },
  {
   "cell_type": "code",
   "execution_count": 10,
   "metadata": {
    "execution": {
     "iopub.execute_input": "2021-02-24T11:21:05.067684Z",
     "iopub.status.busy": "2021-02-24T11:21:05.066484Z",
     "iopub.status.idle": "2021-02-24T11:21:05.068318Z",
     "shell.execute_reply": "2021-02-24T11:21:05.068781Z"
    }
   },
   "outputs": [],
   "source": [
    "run_id_n = t_numeric_run_ids[0]\n",
    "run_id_a = t_array_run_ids[0]"
   ]
  },
  {
   "cell_type": "code",
   "execution_count": 11,
   "metadata": {
    "execution": {
     "iopub.execute_input": "2021-02-24T11:21:05.072119Z",
     "iopub.status.busy": "2021-02-24T11:21:05.071554Z",
     "iopub.status.idle": "2021-02-24T11:21:05.081433Z",
     "shell.execute_reply": "2021-02-24T11:21:05.080958Z"
    },
    "scrolled": true
   },
   "outputs": [
    {
     "data": {
      "text/plain": [
       "{'x1': {'x1': array([0.69446065, 0.69446065, 0.45463558, 0.45463558, 0.81037928,\n",
       "         0.81037928, 0.18683607, 0.18683607, 0.19371236, 0.19371236,\n",
       "         0.38421564, 0.38421564, 0.97450047, 0.97450047, 0.13844973,\n",
       "         0.13844973, 0.00617262, 0.00617262, 0.36503349, 0.36503349,\n",
       "         0.10474499, 0.10474499, 0.76870622, 0.76870622, 0.57632396,\n",
       "         0.57632396, 0.55884672, 0.55884672, 0.80879132, 0.80879132,\n",
       "         0.59709958, 0.59709958, 0.71117143, 0.71117143, 0.06408513,\n",
       "         0.06408513, 0.34349488, 0.34349488, 0.70640372, 0.70640372,\n",
       "         0.47332844, 0.47332844, 0.77884421, 0.77884421, 0.31610021,\n",
       "         0.31610021, 0.50489267, 0.50489267, 0.96401494, 0.96401494,\n",
       "         0.47320479, 0.47320479, 0.65024015, 0.65024015, 0.15965006,\n",
       "         0.15965006, 0.92120176, 0.92120176, 0.74656441, 0.74656441,\n",
       "         0.97030823, 0.97030823, 0.72087121, 0.72087121, 0.22058192,\n",
       "         0.22058192, 0.61722489, 0.61722489, 0.04112139, 0.04112139,\n",
       "         0.73645315, 0.73645315, 0.22358752, 0.22358752, 0.84461976,\n",
       "         0.84461976, 0.82401595, 0.82401595, 0.73667155, 0.73667155,\n",
       "         0.83771652, 0.83771652, 0.50570567, 0.50570567, 0.27625085,\n",
       "         0.27625085, 0.74523727, 0.74523727, 0.45584269, 0.45584269,\n",
       "         0.12369472, 0.12369472, 0.62310253, 0.62310253, 0.00485375,\n",
       "         0.00485375, 0.44910278, 0.44910278, 0.34264662, 0.34264662,\n",
       "         0.31871495, 0.31871495, 0.35065019, 0.35065019, 0.99698017,\n",
       "         0.99698017, 0.02735567, 0.02735567, 0.32640627, 0.32640627,\n",
       "         0.11119717, 0.11119717, 0.96326027, 0.96326027, 0.60362798,\n",
       "         0.60362798, 0.60880749, 0.60880749, 0.53716106, 0.53716106,\n",
       "         0.1384561 , 0.1384561 , 0.58550101, 0.58550101, 0.47411158,\n",
       "         0.47411158, 0.44936655, 0.44936655, 0.1591134 , 0.1591134 ,\n",
       "         0.09210753, 0.09210753, 0.07200114, 0.07200114, 0.45213237,\n",
       "         0.45213237, 0.2148828 , 0.2148828 , 0.89663967, 0.89663967,\n",
       "         0.13714185, 0.13714185, 0.68344647, 0.68344647, 0.88174403,\n",
       "         0.88174403, 0.75873989, 0.75873989, 0.69237969, 0.69237969,\n",
       "         0.31558437, 0.31558437, 0.22225828, 0.22225828, 0.07468988,\n",
       "         0.07468988, 0.86559247, 0.86559247, 0.86601745, 0.86601745,\n",
       "         0.45046544, 0.45046544, 0.14842389, 0.14842389, 0.5254954 ,\n",
       "         0.5254954 , 0.30815195, 0.30815195, 0.88794211, 0.88794211,\n",
       "         0.73994817, 0.73994817, 0.39449994, 0.39449994, 0.88910697,\n",
       "         0.88910697, 0.23497421, 0.23497421, 0.85917237, 0.85917237,\n",
       "         0.0263836 , 0.0263836 , 0.41524901, 0.41524901, 0.75261678,\n",
       "         0.75261678, 0.75246811, 0.75246811, 0.9412214 , 0.9412214 ,\n",
       "         0.2847219 , 0.2847219 , 0.8117321 , 0.8117321 , 0.25977141,\n",
       "         0.25977141, 0.79033447, 0.79033447, 0.75241436, 0.75241436])}}"
      ]
     },
     "execution_count": 1,
     "metadata": {},
     "output_type": "execute_result"
    }
   ],
   "source": [
    "ds = load_by_id(run_id_n)\n",
    "ds.get_parameter_data('x1')"
   ]
  },
  {
   "cell_type": "markdown",
   "metadata": {},
   "source": [
    "And a dataset stored as binary arrays"
   ]
  },
  {
   "cell_type": "code",
   "execution_count": 12,
   "metadata": {
    "execution": {
     "iopub.execute_input": "2021-02-24T11:21:05.084788Z",
     "iopub.status.busy": "2021-02-24T11:21:05.084279Z",
     "iopub.status.idle": "2021-02-24T11:21:05.142388Z",
     "shell.execute_reply": "2021-02-24T11:21:05.143220Z"
    },
    "scrolled": true
   },
   "outputs": [
    {
     "data": {
      "text/plain": [
       "{'x1': {'x1': array([[0.38557839],\n",
       "         [0.38557839],\n",
       "         [0.70525012],\n",
       "         [0.70525012],\n",
       "         [0.94851786],\n",
       "         [0.94851786],\n",
       "         [0.14352081],\n",
       "         [0.14352081],\n",
       "         [0.88418805],\n",
       "         [0.88418805],\n",
       "         [0.68941594],\n",
       "         [0.68941594],\n",
       "         [0.34699182],\n",
       "         [0.34699182],\n",
       "         [0.35226554],\n",
       "         [0.35226554],\n",
       "         [0.91331205],\n",
       "         [0.91331205],\n",
       "         [0.78763051],\n",
       "         [0.78763051],\n",
       "         [0.27699824],\n",
       "         [0.27699824],\n",
       "         [0.39271483],\n",
       "         [0.39271483],\n",
       "         [0.16713159],\n",
       "         [0.16713159],\n",
       "         [0.63066828],\n",
       "         [0.63066828],\n",
       "         [0.91713775],\n",
       "         [0.91713775],\n",
       "         [0.40503123],\n",
       "         [0.40503123],\n",
       "         [0.93881799],\n",
       "         [0.93881799],\n",
       "         [0.45233614],\n",
       "         [0.45233614],\n",
       "         [0.670408  ],\n",
       "         [0.670408  ],\n",
       "         [0.83406907],\n",
       "         [0.83406907],\n",
       "         [0.72088787],\n",
       "         [0.72088787],\n",
       "         [0.63111956],\n",
       "         [0.63111956],\n",
       "         [0.69525815],\n",
       "         [0.69525815],\n",
       "         [0.84463836],\n",
       "         [0.84463836],\n",
       "         [0.81456971],\n",
       "         [0.81456971],\n",
       "         [0.29500879],\n",
       "         [0.29500879],\n",
       "         [0.01742771],\n",
       "         [0.01742771],\n",
       "         [0.36150226],\n",
       "         [0.36150226],\n",
       "         [0.11807012],\n",
       "         [0.11807012],\n",
       "         [0.98266685],\n",
       "         [0.98266685],\n",
       "         [0.28269299],\n",
       "         [0.28269299],\n",
       "         [0.69922569],\n",
       "         [0.69922569],\n",
       "         [0.32119442],\n",
       "         [0.32119442],\n",
       "         [0.31124159],\n",
       "         [0.31124159],\n",
       "         [0.22867228],\n",
       "         [0.22867228],\n",
       "         [0.82275362],\n",
       "         [0.82275362],\n",
       "         [0.96700231],\n",
       "         [0.96700231],\n",
       "         [0.59108951],\n",
       "         [0.59108951],\n",
       "         [0.7351333 ],\n",
       "         [0.7351333 ],\n",
       "         [0.54179366],\n",
       "         [0.54179366],\n",
       "         [0.71454808],\n",
       "         [0.71454808],\n",
       "         [0.9649301 ],\n",
       "         [0.9649301 ],\n",
       "         [0.16695411],\n",
       "         [0.16695411],\n",
       "         [0.72497692],\n",
       "         [0.72497692],\n",
       "         [0.24025403],\n",
       "         [0.24025403],\n",
       "         [0.90461454],\n",
       "         [0.90461454],\n",
       "         [0.25443833],\n",
       "         [0.25443833],\n",
       "         [0.77707172],\n",
       "         [0.77707172],\n",
       "         [0.19717807],\n",
       "         [0.19717807],\n",
       "         [0.25928774],\n",
       "         [0.25928774],\n",
       "         [0.48066462],\n",
       "         [0.48066462],\n",
       "         [0.59189845],\n",
       "         [0.59189845],\n",
       "         [0.14353965],\n",
       "         [0.14353965],\n",
       "         [0.32807844],\n",
       "         [0.32807844],\n",
       "         [0.41710038],\n",
       "         [0.41710038],\n",
       "         [0.40899651],\n",
       "         [0.40899651],\n",
       "         [0.38361655],\n",
       "         [0.38361655],\n",
       "         [0.64546671],\n",
       "         [0.64546671],\n",
       "         [0.34134126],\n",
       "         [0.34134126],\n",
       "         [0.82759479],\n",
       "         [0.82759479],\n",
       "         [0.35991026],\n",
       "         [0.35991026],\n",
       "         [0.64274409],\n",
       "         [0.64274409],\n",
       "         [0.55166649],\n",
       "         [0.55166649],\n",
       "         [0.32298472],\n",
       "         [0.32298472],\n",
       "         [0.77975682],\n",
       "         [0.77975682],\n",
       "         [0.57633741],\n",
       "         [0.57633741],\n",
       "         [0.57328381],\n",
       "         [0.57328381],\n",
       "         [0.22476612],\n",
       "         [0.22476612],\n",
       "         [0.03452455],\n",
       "         [0.03452455],\n",
       "         [0.34802899],\n",
       "         [0.34802899],\n",
       "         [0.69718091],\n",
       "         [0.69718091],\n",
       "         [0.4901289 ],\n",
       "         [0.4901289 ],\n",
       "         [0.52853665],\n",
       "         [0.52853665],\n",
       "         [0.27033598],\n",
       "         [0.27033598],\n",
       "         [0.14572356],\n",
       "         [0.14572356],\n",
       "         [0.18512898],\n",
       "         [0.18512898],\n",
       "         [0.37091999],\n",
       "         [0.37091999],\n",
       "         [0.81913847],\n",
       "         [0.81913847],\n",
       "         [0.48435731],\n",
       "         [0.48435731],\n",
       "         [0.6437113 ],\n",
       "         [0.6437113 ],\n",
       "         [0.99856129],\n",
       "         [0.99856129],\n",
       "         [0.12928726],\n",
       "         [0.12928726],\n",
       "         [0.39055254],\n",
       "         [0.39055254],\n",
       "         [0.17988846],\n",
       "         [0.17988846],\n",
       "         [0.68884998],\n",
       "         [0.68884998],\n",
       "         [0.70204757],\n",
       "         [0.70204757],\n",
       "         [0.9326757 ],\n",
       "         [0.9326757 ],\n",
       "         [0.18175461],\n",
       "         [0.18175461],\n",
       "         [0.95149644],\n",
       "         [0.95149644],\n",
       "         [0.55510532],\n",
       "         [0.55510532],\n",
       "         [0.05259344],\n",
       "         [0.05259344],\n",
       "         [0.65378887],\n",
       "         [0.65378887],\n",
       "         [0.40367254],\n",
       "         [0.40367254],\n",
       "         [0.16958664],\n",
       "         [0.16958664],\n",
       "         [0.5660889 ],\n",
       "         [0.5660889 ],\n",
       "         [0.4167758 ],\n",
       "         [0.4167758 ],\n",
       "         [0.6245484 ],\n",
       "         [0.6245484 ],\n",
       "         [0.47176335],\n",
       "         [0.47176335],\n",
       "         [0.62162334],\n",
       "         [0.62162334],\n",
       "         [0.54159128],\n",
       "         [0.54159128]])}}"
      ]
     },
     "execution_count": 1,
     "metadata": {},
     "output_type": "execute_result"
    }
   ],
   "source": [
    "ds = load_by_id(run_id_a)\n",
    "ds.get_parameter_data('x1')"
   ]
  },
  {
   "cell_type": "code",
   "execution_count": null,
   "metadata": {},
   "outputs": [],
   "source": []
  }
 ],
 "metadata": {
  "kernelspec": {
   "display_name": "Python 3",
   "language": "python",
   "name": "python3"
  },
  "language_info": {
   "codemirror_mode": {
    "name": "ipython",
    "version": 3
   },
   "file_extension": ".py",
   "mimetype": "text/x-python",
   "name": "python",
   "nbconvert_exporter": "python",
   "pygments_lexer": "ipython3",
   "version": "3.7.10"
  },
  "nbsphinx": {
   "timeout": 600
  },
  "toc": {
   "base_numbering": 1,
   "nav_menu": {},
   "number_sections": true,
   "sideBar": true,
   "skip_h1_title": false,
   "title_cell": "Table of Contents",
   "title_sidebar": "Contents",
   "toc_cell": false,
   "toc_position": {},
   "toc_section_display": true,
   "toc_window_display": false
  },
  "varInspector": {
   "cols": {
    "lenName": 16,
    "lenType": 16,
    "lenVar": 40
   },
   "kernels_config": {
    "python": {
     "delete_cmd_postfix": "",
     "delete_cmd_prefix": "del ",
     "library": "var_list.py",
     "varRefreshCmd": "print(var_dic_list())"
    },
    "r": {
     "delete_cmd_postfix": ") ",
     "delete_cmd_prefix": "rm(",
     "library": "var_list.r",
     "varRefreshCmd": "cat(var_dic_list()) "
    }
   },
   "types_to_exclude": [
    "module",
    "function",
    "builtin_function_or_method",
    "instance",
    "_Feature"
   ],
   "window_display": false
  }
 },
 "nbformat": 4,
 "nbformat_minor": 2
}
