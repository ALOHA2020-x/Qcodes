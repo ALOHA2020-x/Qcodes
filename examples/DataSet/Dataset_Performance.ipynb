{
 "cells": [
  {
   "cell_type": "markdown",
   "metadata": {},
   "source": [
    "# DataSet Performance\n",
    "\n",
    "This notebook shows the trade-off between inserting data into a database row-by-row and as binary blobs. Inserting the data row-by-row means that we have direct access to all the data and may perform queries directly on the values of the data. On the other hand, as we shall see, this is much slower than inserting the data directly as binary blobs."
   ]
  },
  {
   "cell_type": "markdown",
   "metadata": {},
   "source": [
    "First, we choose a new location for the database to ensure that we don't add a bunch of benchmarking data to the default one."
   ]
  },
  {
   "cell_type": "code",
   "execution_count": 1,
   "metadata": {
    "execution": {
     "iopub.execute_input": "2021-03-25T07:58:35.368616Z",
     "iopub.status.busy": "2021-03-25T07:58:35.367670Z",
     "iopub.status.idle": "2021-03-25T07:58:36.571860Z",
     "shell.execute_reply": "2021-03-25T07:58:36.570875Z"
    }
   },
   "outputs": [
    {
     "name": "stdout",
     "output_type": "stream",
     "text": [
      "Logging hadn't been started.\n",
      "Activating auto-logging. Current session state plus future input saved.\n",
      "Filename       : /home/runner/.qcodes/logs/command_history.log\n",
      "Mode           : append\n",
      "Output logging : True\n",
      "Raw input log  : False\n",
      "Timestamping   : True\n",
      "State          : active\n"
     ]
    },
    {
     "name": "stdout",
     "output_type": "stream",
     "text": [
      "Qcodes Logfile : /home/runner/.qcodes/logs/210325-4499-qcodes.log\n"
     ]
    }
   ],
   "source": [
    "import os\n",
    "cwd = os.getcwd()\n",
    "import qcodes as qc\n",
    "qc.config[\"core\"][\"db_location\"] = os.path.join(cwd, 'testing.db')\n"
   ]
  },
  {
   "cell_type": "code",
   "execution_count": 2,
   "metadata": {
    "execution": {
     "iopub.execute_input": "2021-03-25T07:58:36.580448Z",
     "iopub.status.busy": "2021-03-25T07:58:36.578779Z",
     "iopub.status.idle": "2021-03-25T07:58:36.837482Z",
     "shell.execute_reply": "2021-03-25T07:58:36.838030Z"
    }
   },
   "outputs": [],
   "source": [
    "%matplotlib inline\n",
    "import time\n",
    "import matplotlib.pyplot as plt\n",
    "import numpy as np\n",
    "\n",
    "import qcodes as qc\n",
    "from qcodes.instrument.parameter import ManualParameter\n",
    "from qcodes.dataset.experiment_container import (Experiment,\n",
    "                                                 load_last_experiment,\n",
    "                                                 new_experiment)\n",
    "from qcodes.dataset.sqlite.database import initialise_database\n",
    "from qcodes import load_or_create_experiment\n",
    "from qcodes.dataset.measurements import Measurement"
   ]
  },
  {
   "cell_type": "code",
   "execution_count": 3,
   "metadata": {
    "execution": {
     "iopub.execute_input": "2021-03-25T07:58:36.842577Z",
     "iopub.status.busy": "2021-03-25T07:58:36.841856Z",
     "iopub.status.idle": "2021-03-25T07:58:36.920620Z",
     "shell.execute_reply": "2021-03-25T07:58:36.919983Z"
    }
   },
   "outputs": [
    {
     "name": "stdout",
     "output_type": "stream",
     "text": [
      "\r",
      "0it [00:00, ?it/s]"
     ]
    },
    {
     "name": "stdout",
     "output_type": "stream",
     "text": [
      "\r",
      "Upgrading database; v0 -> v1: : 0it [00:00, ?it/s]"
     ]
    },
    {
     "name": "stdout",
     "output_type": "stream",
     "text": [
      "\r",
      "Upgrading database; v0 -> v1: : 0it [00:00, ?it/s]"
     ]
    },
    {
     "name": "stdout",
     "output_type": "stream",
     "text": [
      "\n",
      "\r",
      "  0%|          | 0/1 [00:00<?, ?it/s]"
     ]
    },
    {
     "name": "stdout",
     "output_type": "stream",
     "text": [
      "\r",
      "Upgrading database; v1 -> v2:   0%|          | 0/1 [00:00<?, ?it/s]"
     ]
    },
    {
     "name": "stdout",
     "output_type": "stream",
     "text": [
      "\r",
      "Upgrading database; v1 -> v2: 100%|██████████| 1/1 [00:00<00:00, 458.49it/s]"
     ]
    },
    {
     "name": "stdout",
     "output_type": "stream",
     "text": [
      "\n",
      "\r",
      "0it [00:00, ?it/s]"
     ]
    },
    {
     "name": "stdout",
     "output_type": "stream",
     "text": [
      "\r",
      "Upgrading database; v2 -> v3: : 0it [00:00, ?it/s]"
     ]
    },
    {
     "name": "stdout",
     "output_type": "stream",
     "text": [
      "\r",
      "Upgrading database; v2 -> v3: : 0it [00:00, ?it/s]"
     ]
    },
    {
     "name": "stdout",
     "output_type": "stream",
     "text": [
      "\n",
      "\r",
      "0it [00:00, ?it/s]"
     ]
    },
    {
     "name": "stdout",
     "output_type": "stream",
     "text": [
      "\r",
      "Upgrading database; v3 -> v4: : 0it [00:00, ?it/s]"
     ]
    },
    {
     "name": "stdout",
     "output_type": "stream",
     "text": [
      "\r",
      "Upgrading database; v3 -> v4: : 0it [00:00, ?it/s]"
     ]
    },
    {
     "name": "stdout",
     "output_type": "stream",
     "text": [
      "\n",
      "\r",
      "  0%|          | 0/1 [00:00<?, ?it/s]"
     ]
    },
    {
     "name": "stdout",
     "output_type": "stream",
     "text": [
      "\r",
      "Upgrading database; v4 -> v5:   0%|          | 0/1 [00:00<?, ?it/s]"
     ]
    },
    {
     "name": "stdout",
     "output_type": "stream",
     "text": [
      "\r",
      "Upgrading database; v4 -> v5: 100%|██████████| 1/1 [00:00<00:00, 637.14it/s]"
     ]
    },
    {
     "name": "stdout",
     "output_type": "stream",
     "text": [
      "\n",
      "\r",
      "0it [00:00, ?it/s]"
     ]
    },
    {
     "name": "stdout",
     "output_type": "stream",
     "text": [
      "\r",
      "Upgrading database; v5 -> v6: : 0it [00:00, ?it/s]"
     ]
    },
    {
     "name": "stdout",
     "output_type": "stream",
     "text": [
      "\r",
      "Upgrading database; v5 -> v6: : 0it [00:00, ?it/s]"
     ]
    },
    {
     "name": "stdout",
     "output_type": "stream",
     "text": [
      "\n",
      "\r",
      "  0%|          | 0/1 [00:00<?, ?it/s]"
     ]
    },
    {
     "name": "stdout",
     "output_type": "stream",
     "text": [
      "\r",
      "Upgrading database; v6 -> v7:   0%|          | 0/1 [00:00<?, ?it/s]"
     ]
    },
    {
     "name": "stdout",
     "output_type": "stream",
     "text": [
      "\r",
      "Upgrading database; v6 -> v7: 100%|██████████| 1/1 [00:00<00:00, 326.46it/s]"
     ]
    },
    {
     "name": "stdout",
     "output_type": "stream",
     "text": [
      "\n",
      "\r",
      "  0%|          | 0/1 [00:00<?, ?it/s]"
     ]
    },
    {
     "name": "stdout",
     "output_type": "stream",
     "text": [
      "\r",
      "Upgrading database; v7 -> v8:   0%|          | 0/1 [00:00<?, ?it/s]"
     ]
    },
    {
     "name": "stdout",
     "output_type": "stream",
     "text": [
      "\r",
      "Upgrading database; v7 -> v8: 100%|██████████| 1/1 [00:00<00:00, 533.49it/s]"
     ]
    },
    {
     "name": "stdout",
     "output_type": "stream",
     "text": [
      "\n",
      "\r",
      "  0%|          | 0/1 [00:00<?, ?it/s]"
     ]
    },
    {
     "name": "stdout",
     "output_type": "stream",
     "text": [
      "\r",
      "Upgrading database; v8 -> v9:   0%|          | 0/1 [00:00<?, ?it/s]"
     ]
    },
    {
     "name": "stdout",
     "output_type": "stream",
     "text": [
      "\r",
      "Upgrading database; v8 -> v9: 100%|██████████| 1/1 [00:00<00:00, 866.23it/s]"
     ]
    },
    {
     "name": "stdout",
     "output_type": "stream",
     "text": [
      "\n"
     ]
    }
   ],
   "source": [
    "initialise_database()\n",
    "exp = load_or_create_experiment(experiment_name='tutorial_exp', sample_name=\"no sample\")"
   ]
  },
  {
   "cell_type": "markdown",
   "metadata": {},
   "source": [
    "Here, we define a simple function to benchmark the time it takes to insert n points with either numeric or array data type.\n",
    "We will compare both the time used to call ``add_result`` and the time used for the full measurement."
   ]
  },
  {
   "cell_type": "code",
   "execution_count": 4,
   "metadata": {
    "execution": {
     "iopub.execute_input": "2021-03-25T07:58:36.935072Z",
     "iopub.status.busy": "2021-03-25T07:58:36.934355Z",
     "iopub.status.idle": "2021-03-25T07:58:36.941338Z",
     "shell.execute_reply": "2021-03-25T07:58:36.940689Z"
    }
   },
   "outputs": [],
   "source": [
    "def insert_data(paramtype, npoints, nreps=1):\n",
    "\n",
    "    meas = Measurement(exp=exp)\n",
    "\n",
    "    x1 = ManualParameter('x1')\n",
    "    x2 = ManualParameter('x2')\n",
    "    x3 = ManualParameter('x3')\n",
    "    y1 = ManualParameter('y1')\n",
    "    y2 = ManualParameter('y2')\n",
    "\n",
    "    meas.register_parameter(x1, paramtype=paramtype)\n",
    "    meas.register_parameter(x2, paramtype=paramtype)\n",
    "    meas.register_parameter(x3, paramtype=paramtype)\n",
    "    meas.register_parameter(y1, setpoints=[x1, x2, x3],\n",
    "                            paramtype=paramtype)\n",
    "    meas.register_parameter(y2, setpoints=[x1, x2, x3],\n",
    "                            paramtype=paramtype)\n",
    "    start = time.perf_counter()\n",
    "    with meas.run() as datasaver:\n",
    "        start_adding = time.perf_counter()\n",
    "        for i in range(nreps):\n",
    "            datasaver.add_result((x1, np.random.rand(npoints)),\n",
    "                                 (x2, np.random.rand(npoints)),\n",
    "                                 (x3, np.random.rand(npoints)),\n",
    "                                 (y1, np.random.rand(npoints)),\n",
    "                                 (y2, np.random.rand(npoints)))\n",
    "        stop_adding = time.perf_counter()\n",
    "        run_id = datasaver.run_id\n",
    "    stop = time.perf_counter()\n",
    "    tot_time = stop - start\n",
    "    add_time = stop_adding - start_adding\n",
    "    return tot_time, add_time, run_id"
   ]
  },
  {
   "cell_type": "markdown",
   "metadata": {},
   "source": [
    "## Comparison between numeric/array data and binary blob"
   ]
  },
  {
   "cell_type": "markdown",
   "metadata": {},
   "source": [
    "### Case1: Short experiment time"
   ]
  },
  {
   "cell_type": "code",
   "execution_count": 5,
   "metadata": {
    "execution": {
     "iopub.execute_input": "2021-03-25T07:58:36.950201Z",
     "iopub.status.busy": "2021-03-25T07:58:36.949349Z",
     "iopub.status.idle": "2021-03-25T07:58:37.853156Z",
     "shell.execute_reply": "2021-03-25T07:58:37.853943Z"
    }
   },
   "outputs": [
    {
     "name": "stdout",
     "output_type": "stream",
     "text": [
      "Starting experimental run with id: 1. \n",
      "Starting experimental run with id: 2. \n",
      "Starting experimental run with id: 3. \n",
      "Starting experimental run with id: 4. \n"
     ]
    },
    {
     "name": "stdout",
     "output_type": "stream",
     "text": [
      "Starting experimental run with id: 5. \n"
     ]
    },
    {
     "name": "stdout",
     "output_type": "stream",
     "text": [
      "Starting experimental run with id: 6. \n",
      "Starting experimental run with id: 7. \n"
     ]
    },
    {
     "name": "stdout",
     "output_type": "stream",
     "text": [
      "Starting experimental run with id: 8. \n",
      "Starting experimental run with id: 9. \n"
     ]
    },
    {
     "name": "stdout",
     "output_type": "stream",
     "text": [
      "Starting experimental run with id: 10. \n",
      "Starting experimental run with id: 11. \n"
     ]
    },
    {
     "name": "stdout",
     "output_type": "stream",
     "text": [
      "Starting experimental run with id: 12. \n",
      "Starting experimental run with id: 13. \n"
     ]
    },
    {
     "name": "stdout",
     "output_type": "stream",
     "text": [
      "Starting experimental run with id: 14. \n"
     ]
    }
   ],
   "source": [
    "sizes = [1,500,1000,2000,3000,4000,5000]\n",
    "t_numeric = []\n",
    "t_numeric_add = []\n",
    "t_array = []\n",
    "t_array_add = []\n",
    "for size in sizes:\n",
    "    tn, tna, run_id_n =  insert_data('numeric', size)\n",
    "    t_numeric.append(tn)\n",
    "    t_numeric_add.append(tna)\n",
    "\n",
    "    ta, taa, run_id_a =  insert_data('array', size)\n",
    "    t_array.append(ta)\n",
    "    t_array_add.append(taa)"
   ]
  },
  {
   "cell_type": "code",
   "execution_count": 6,
   "metadata": {
    "execution": {
     "iopub.execute_input": "2021-03-25T07:58:37.885374Z",
     "iopub.status.busy": "2021-03-25T07:58:37.874387Z",
     "iopub.status.idle": "2021-03-25T07:58:38.135335Z",
     "shell.execute_reply": "2021-03-25T07:58:38.134266Z"
    }
   },
   "outputs": [
    {
     "data": {
      "image/png": "[encoded data removed]",
      "text/plain": [
       "<Figure size 432x288 with 1 Axes>"
      ]
     },
     "metadata": {
      "needs_background": "light"
     },
     "output_type": "display_data"
    }
   ],
   "source": [
    "fig, ax = plt.subplots(1,1)\n",
    "ax.plot(sizes, t_numeric, 'o-', label='Inserting row-by-row')\n",
    "ax.plot(sizes, t_numeric_add, 'o-', label='Inserting row-by-row: add_result only')\n",
    "ax.plot(sizes, t_array, 'd-', label='Inserting as binary blob')\n",
    "ax.plot(sizes, t_array_add, 'd-', label='Inserting as binary blob: add_result only')\n",
    "ax.legend()\n",
    "ax.set_xlabel('Array length')\n",
    "ax.set_ylabel('Time (s)')\n",
    "fig.tight_layout()"
   ]
  },
  {
   "cell_type": "markdown",
   "metadata": {},
   "source": [
    "As shown in the latter figure, the time to setup and and close the experiment is approximately 0.4 sec. In case of small array sizes, the difference between inserting values of data as arrays and inserting them row-by-row is relatively unimportant. At larger array sizes, i.e. above 10000 points, the cost of writing data as individual datapoints starts to become important.\n"
   ]
  },
  {
   "cell_type": "markdown",
   "metadata": {},
   "source": [
    "### Case2: Long experiment time "
   ]
  },
  {
   "cell_type": "code",
   "execution_count": 7,
   "metadata": {
    "execution": {
     "iopub.execute_input": "2021-03-25T07:58:38.143257Z",
     "iopub.status.busy": "2021-03-25T07:58:38.142634Z",
     "iopub.status.idle": "2021-03-25T07:59:45.634377Z",
     "shell.execute_reply": "2021-03-25T07:59:45.633792Z"
    }
   },
   "outputs": [
    {
     "name": "stdout",
     "output_type": "stream",
     "text": [
      "Starting experimental run with id: 15. \n",
      "Starting experimental run with id: 16. \n"
     ]
    },
    {
     "name": "stdout",
     "output_type": "stream",
     "text": [
      "Starting experimental run with id: 17. \n"
     ]
    },
    {
     "name": "stdout",
     "output_type": "stream",
     "text": [
      "Starting experimental run with id: 18. \n"
     ]
    },
    {
     "name": "stdout",
     "output_type": "stream",
     "text": [
      "Starting experimental run with id: 19. \n"
     ]
    },
    {
     "name": "stdout",
     "output_type": "stream",
     "text": [
      "Starting experimental run with id: 20. \n"
     ]
    },
    {
     "name": "stdout",
     "output_type": "stream",
     "text": [
      "Starting experimental run with id: 21. \n"
     ]
    },
    {
     "name": "stdout",
     "output_type": "stream",
     "text": [
      "Starting experimental run with id: 22. \n"
     ]
    },
    {
     "name": "stdout",
     "output_type": "stream",
     "text": [
      "Starting experimental run with id: 23. \n"
     ]
    },
    {
     "name": "stdout",
     "output_type": "stream",
     "text": [
      "Starting experimental run with id: 24. \n"
     ]
    },
    {
     "name": "stdout",
     "output_type": "stream",
     "text": [
      "Starting experimental run with id: 25. \n"
     ]
    },
    {
     "name": "stdout",
     "output_type": "stream",
     "text": [
      "Starting experimental run with id: 26. \n"
     ]
    },
    {
     "name": "stdout",
     "output_type": "stream",
     "text": [
      "Starting experimental run with id: 27. \n"
     ]
    },
    {
     "name": "stdout",
     "output_type": "stream",
     "text": [
      "Starting experimental run with id: 28. \n"
     ]
    }
   ],
   "source": [
    "sizes = [1,500,1000,2000,3000,4000,5000]\n",
    "nreps = 100\n",
    "t_numeric = []\n",
    "t_numeric_add = []\n",
    "t_numeric_run_ids = []\n",
    "t_array = []\n",
    "t_array_add = []\n",
    "t_array_run_ids = []\n",
    "for size in sizes:\n",
    "    tn, tna, run_id_n =  insert_data('numeric', size, nreps=nreps)\n",
    "    t_numeric.append(tn)\n",
    "    t_numeric_add.append(tna)\n",
    "    t_numeric_run_ids.append(run_id_n)\n",
    "\n",
    "    ta, taa, run_id_a =  insert_data('array', size, nreps=nreps)\n",
    "    t_array.append(ta)\n",
    "    t_array_add.append(taa)\n",
    "    t_array_run_ids.append(run_id_a)"
   ]
  },
  {
   "cell_type": "code",
   "execution_count": 8,
   "metadata": {
    "execution": {
     "iopub.execute_input": "2021-03-25T07:59:45.666601Z",
     "iopub.status.busy": "2021-03-25T07:59:45.660065Z",
     "iopub.status.idle": "2021-03-25T07:59:45.904040Z",
     "shell.execute_reply": "2021-03-25T07:59:45.904593Z"
    },
    "scrolled": true
   },
   "outputs": [
    {
     "data": {
      "image/png": "[encoded data removed]",
      "text/plain": [
       "<Figure size 432x288 with 1 Axes>"
      ]
     },
     "metadata": {
      "needs_background": "light"
     },
     "output_type": "display_data"
    }
   ],
   "source": [
    "fig, ax = plt.subplots(1,1)\n",
    "ax.plot(sizes, t_numeric, 'o-', label='Inserting row-by-row')\n",
    "ax.plot(sizes, t_numeric_add, 'o-', label='Inserting row-by-row: add_result only')\n",
    "ax.plot(sizes, t_array, 'd-', label='Inserting as binary blob')\n",
    "ax.plot(sizes, t_array_add, 'd-', label='Inserting as binary blob: add_result only')\n",
    "ax.legend()\n",
    "ax.set_xlabel('Array length')\n",
    "ax.set_ylabel('Time (s)')\n",
    "fig.tight_layout()"
   ]
  },
  {
   "cell_type": "markdown",
   "metadata": {},
   "source": [
    "However, as we increase the length of the experiment, as seen here by repeating the insertion 100 times, we see a big difference between inserting values of the data row-by-row and inserting it as a binary blob."
   ]
  },
  {
   "cell_type": "markdown",
   "metadata": {},
   "source": [
    "## Loading the data "
   ]
  },
  {
   "cell_type": "code",
   "execution_count": 9,
   "metadata": {
    "execution": {
     "iopub.execute_input": "2021-03-25T07:59:45.910257Z",
     "iopub.status.busy": "2021-03-25T07:59:45.909580Z",
     "iopub.status.idle": "2021-03-25T07:59:45.914074Z",
     "shell.execute_reply": "2021-03-25T07:59:45.913173Z"
    }
   },
   "outputs": [],
   "source": [
    "from qcodes.dataset.data_set import load_by_id\n",
    "from qcodes.dataset.data_export import get_data_by_id"
   ]
  },
  {
   "cell_type": "markdown",
   "metadata": {},
   "source": [
    "As usual you can load the data by using the ``load_by_id`` function but you will notice that the different storage methods\n",
    "are reflected in shape of the data as it is retrieved. "
   ]
  },
  {
   "cell_type": "code",
   "execution_count": 10,
   "metadata": {
    "execution": {
     "iopub.execute_input": "2021-03-25T07:59:45.919485Z",
     "iopub.status.busy": "2021-03-25T07:59:45.918027Z",
     "iopub.status.idle": "2021-03-25T07:59:45.920246Z",
     "shell.execute_reply": "2021-03-25T07:59:45.920828Z"
    }
   },
   "outputs": [],
   "source": [
    "run_id_n = t_numeric_run_ids[0]\n",
    "run_id_a = t_array_run_ids[0]"
   ]
  },
  {
   "cell_type": "code",
   "execution_count": 11,
   "metadata": {
    "execution": {
     "iopub.execute_input": "2021-03-25T07:59:45.924984Z",
     "iopub.status.busy": "2021-03-25T07:59:45.924256Z",
     "iopub.status.idle": "2021-03-25T07:59:45.935401Z",
     "shell.execute_reply": "2021-03-25T07:59:45.935924Z"
    },
    "scrolled": true
   },
   "outputs": [
    {
     "data": {
      "text/plain": [
       "{'x1': {'x1': array([5.51990638e-01, 5.51990638e-01, 1.17417796e-01, 1.17417796e-01,\n",
       "         8.15200943e-01, 8.15200943e-01, 6.94082734e-02, 6.94082734e-02,\n",
       "         4.17161669e-01, 4.17161669e-01, 9.52149066e-01, 9.52149066e-01,\n",
       "         4.91641466e-01, 4.91641466e-01, 9.23215250e-01, 9.23215250e-01,\n",
       "         3.13604100e-02, 3.13604100e-02, 1.80298303e-01, 1.80298303e-01,\n",
       "         4.05620332e-01, 4.05620332e-01, 1.55715771e-02, 1.55715771e-02,\n",
       "         4.96562047e-01, 4.96562047e-01, 8.09232547e-01, 8.09232547e-01,\n",
       "         5.27871619e-01, 5.27871619e-01, 3.72223551e-02, 3.72223551e-02,\n",
       "         7.13283559e-01, 7.13283559e-01, 6.79421205e-01, 6.79421205e-01,\n",
       "         1.06195201e-01, 1.06195201e-01, 3.77641827e-01, 3.77641827e-01,\n",
       "         4.91165357e-01, 4.91165357e-01, 2.86581920e-01, 2.86581920e-01,\n",
       "         7.61763687e-01, 7.61763687e-01, 2.82864970e-01, 2.82864970e-01,\n",
       "         8.00770773e-01, 8.00770773e-01, 5.31391877e-01, 5.31391877e-01,\n",
       "         9.69110037e-03, 9.69110037e-03, 3.23510957e-01, 3.23510957e-01,\n",
       "         4.77351199e-01, 4.77351199e-01, 6.06964945e-03, 6.06964945e-03,\n",
       "         5.39443583e-01, 5.39443583e-01, 5.01680766e-01, 5.01680766e-01,\n",
       "         5.09883718e-01, 5.09883718e-01, 8.74792963e-01, 8.74792963e-01,\n",
       "         4.26548136e-01, 4.26548136e-01, 3.30216488e-01, 3.30216488e-01,\n",
       "         9.74698781e-01, 9.74698781e-01, 4.68896052e-02, 4.68896052e-02,\n",
       "         4.27231433e-01, 4.27231433e-01, 7.44846394e-01, 7.44846394e-01,\n",
       "         1.96886102e-01, 1.96886102e-01, 2.01396681e-01, 2.01396681e-01,\n",
       "         8.28383169e-01, 8.28383169e-01, 6.68604589e-01, 6.68604589e-01,\n",
       "         5.00108672e-01, 5.00108672e-01, 9.44940416e-01, 9.44940416e-01,\n",
       "         5.17167175e-01, 5.17167175e-01, 6.98586643e-01, 6.98586643e-01,\n",
       "         2.05242064e-01, 2.05242064e-01, 2.59940698e-01, 2.59940698e-01,\n",
       "         8.20375025e-03, 8.20375025e-03, 1.71836345e-01, 1.71836345e-01,\n",
       "         6.99013516e-01, 6.99013516e-01, 8.89111228e-01, 8.89111228e-01,\n",
       "         7.37728494e-01, 7.37728494e-01, 3.82675918e-01, 3.82675918e-01,\n",
       "         5.49525725e-01, 5.49525725e-01, 1.65453985e-01, 1.65453985e-01,\n",
       "         8.36786161e-01, 8.36786161e-01, 9.38987973e-01, 9.38987973e-01,\n",
       "         4.11121451e-01, 4.11121451e-01, 4.48088825e-01, 4.48088825e-01,\n",
       "         9.87192706e-01, 9.87192706e-01, 8.02641521e-01, 8.02641521e-01,\n",
       "         5.57570621e-01, 5.57570621e-01, 5.91958502e-01, 5.91958502e-01,\n",
       "         4.81927906e-01, 4.81927906e-01, 3.55330038e-01, 3.55330038e-01,\n",
       "         7.89921581e-01, 7.89921581e-01, 6.56838841e-01, 6.56838841e-01,\n",
       "         7.53294864e-01, 7.53294864e-01, 5.25981091e-01, 5.25981091e-01,\n",
       "         3.11914159e-01, 3.11914159e-01, 8.17076737e-02, 8.17076737e-02,\n",
       "         4.09435154e-01, 4.09435154e-01, 5.94456822e-01, 5.94456822e-01,\n",
       "         4.99155551e-04, 4.99155551e-04, 3.01780874e-02, 3.01780874e-02,\n",
       "         1.34588004e-01, 1.34588004e-01, 5.41926375e-01, 5.41926375e-01,\n",
       "         2.11875991e-01, 2.11875991e-01, 6.18650349e-01, 6.18650349e-01,\n",
       "         4.40911537e-01, 4.40911537e-01, 2.95093169e-02, 2.95093169e-02,\n",
       "         7.72986120e-01, 7.72986120e-01, 4.90713814e-01, 4.90713814e-01,\n",
       "         6.43450476e-02, 6.43450476e-02, 2.62660830e-01, 2.62660830e-01,\n",
       "         9.05735536e-01, 9.05735536e-01, 1.25384817e-01, 1.25384817e-01,\n",
       "         5.23008239e-01, 5.23008239e-01, 1.72300457e-01, 1.72300457e-01,\n",
       "         9.25031938e-01, 9.25031938e-01, 3.98479782e-01, 3.98479782e-01,\n",
       "         3.05229213e-01, 3.05229213e-01, 5.35830605e-01, 5.35830605e-01,\n",
       "         3.26770087e-01, 3.26770087e-01, 6.99206122e-01, 6.99206122e-01,\n",
       "         1.11407762e-01, 1.11407762e-01, 8.01051791e-02, 8.01051791e-02])}}"
      ]
     },
     "execution_count": 1,
     "metadata": {},
     "output_type": "execute_result"
    }
   ],
   "source": [
    "ds = load_by_id(run_id_n)\n",
    "ds.get_parameter_data('x1')"
   ]
  },
  {
   "cell_type": "markdown",
   "metadata": {},
   "source": [
    "And a dataset stored as binary arrays"
   ]
  },
  {
   "cell_type": "code",
   "execution_count": 12,
   "metadata": {
    "execution": {
     "iopub.execute_input": "2021-03-25T07:59:45.940246Z",
     "iopub.status.busy": "2021-03-25T07:59:45.939518Z",
     "iopub.status.idle": "2021-03-25T07:59:46.009083Z",
     "shell.execute_reply": "2021-03-25T07:59:46.009660Z"
    },
    "scrolled": true
   },
   "outputs": [
    {
     "data": {
      "text/plain": [
       "{'x1': {'x1': array([[0.86505013],\n",
       "         [0.86505013],\n",
       "         [0.7724364 ],\n",
       "         [0.7724364 ],\n",
       "         [0.61852484],\n",
       "         [0.61852484],\n",
       "         [0.39198527],\n",
       "         [0.39198527],\n",
       "         [0.52475398],\n",
       "         [0.52475398],\n",
       "         [0.01893199],\n",
       "         [0.01893199],\n",
       "         [0.08546391],\n",
       "         [0.08546391],\n",
       "         [0.66307178],\n",
       "         [0.66307178],\n",
       "         [0.9165209 ],\n",
       "         [0.9165209 ],\n",
       "         [0.37836422],\n",
       "         [0.37836422],\n",
       "         [0.08460188],\n",
       "         [0.08460188],\n",
       "         [0.39722041],\n",
       "         [0.39722041],\n",
       "         [0.53600429],\n",
       "         [0.53600429],\n",
       "         [0.39924035],\n",
       "         [0.39924035],\n",
       "         [0.56007106],\n",
       "         [0.56007106],\n",
       "         [0.33126215],\n",
       "         [0.33126215],\n",
       "         [0.86820842],\n",
       "         [0.86820842],\n",
       "         [0.82817293],\n",
       "         [0.82817293],\n",
       "         [0.93922655],\n",
       "         [0.93922655],\n",
       "         [0.21081719],\n",
       "         [0.21081719],\n",
       "         [0.6611246 ],\n",
       "         [0.6611246 ],\n",
       "         [0.35267618],\n",
       "         [0.35267618],\n",
       "         [0.68057693],\n",
       "         [0.68057693],\n",
       "         [0.75602168],\n",
       "         [0.75602168],\n",
       "         [0.68691451],\n",
       "         [0.68691451],\n",
       "         [0.17467899],\n",
       "         [0.17467899],\n",
       "         [0.38754559],\n",
       "         [0.38754559],\n",
       "         [0.13454587],\n",
       "         [0.13454587],\n",
       "         [0.75550117],\n",
       "         [0.75550117],\n",
       "         [0.4022097 ],\n",
       "         [0.4022097 ],\n",
       "         [0.40364023],\n",
       "         [0.40364023],\n",
       "         [0.45643017],\n",
       "         [0.45643017],\n",
       "         [0.84927253],\n",
       "         [0.84927253],\n",
       "         [0.04959675],\n",
       "         [0.04959675],\n",
       "         [0.20843186],\n",
       "         [0.20843186],\n",
       "         [0.93269067],\n",
       "         [0.93269067],\n",
       "         [0.91521127],\n",
       "         [0.91521127],\n",
       "         [0.49088578],\n",
       "         [0.49088578],\n",
       "         [0.08004549],\n",
       "         [0.08004549],\n",
       "         [0.94824763],\n",
       "         [0.94824763],\n",
       "         [0.88636674],\n",
       "         [0.88636674],\n",
       "         [0.45107518],\n",
       "         [0.45107518],\n",
       "         [0.54724008],\n",
       "         [0.54724008],\n",
       "         [0.77223262],\n",
       "         [0.77223262],\n",
       "         [0.89309932],\n",
       "         [0.89309932],\n",
       "         [0.806316  ],\n",
       "         [0.806316  ],\n",
       "         [0.10465271],\n",
       "         [0.10465271],\n",
       "         [0.14356326],\n",
       "         [0.14356326],\n",
       "         [0.30161178],\n",
       "         [0.30161178],\n",
       "         [0.79610885],\n",
       "         [0.79610885],\n",
       "         [0.01852305],\n",
       "         [0.01852305],\n",
       "         [0.38215333],\n",
       "         [0.38215333],\n",
       "         [0.3066404 ],\n",
       "         [0.3066404 ],\n",
       "         [0.0605306 ],\n",
       "         [0.0605306 ],\n",
       "         [0.93493214],\n",
       "         [0.93493214],\n",
       "         [0.22794405],\n",
       "         [0.22794405],\n",
       "         [0.4042319 ],\n",
       "         [0.4042319 ],\n",
       "         [0.60662752],\n",
       "         [0.60662752],\n",
       "         [0.64560865],\n",
       "         [0.64560865],\n",
       "         [0.90306792],\n",
       "         [0.90306792],\n",
       "         [0.34123315],\n",
       "         [0.34123315],\n",
       "         [0.33489965],\n",
       "         [0.33489965],\n",
       "         [0.96866381],\n",
       "         [0.96866381],\n",
       "         [0.70381105],\n",
       "         [0.70381105],\n",
       "         [0.57239752],\n",
       "         [0.57239752],\n",
       "         [0.08953485],\n",
       "         [0.08953485],\n",
       "         [0.80227267],\n",
       "         [0.80227267],\n",
       "         [0.53663393],\n",
       "         [0.53663393],\n",
       "         [0.22658372],\n",
       "         [0.22658372],\n",
       "         [0.54386882],\n",
       "         [0.54386882],\n",
       "         [0.51804809],\n",
       "         [0.51804809],\n",
       "         [0.43385811],\n",
       "         [0.43385811],\n",
       "         [0.78110723],\n",
       "         [0.78110723],\n",
       "         [0.51543714],\n",
       "         [0.51543714],\n",
       "         [0.9634609 ],\n",
       "         [0.9634609 ],\n",
       "         [0.02770261],\n",
       "         [0.02770261],\n",
       "         [0.85971204],\n",
       "         [0.85971204],\n",
       "         [0.96914394],\n",
       "         [0.96914394],\n",
       "         [0.92321631],\n",
       "         [0.92321631],\n",
       "         [0.56004551],\n",
       "         [0.56004551],\n",
       "         [0.80880986],\n",
       "         [0.80880986],\n",
       "         [0.03181443],\n",
       "         [0.03181443],\n",
       "         [0.85385311],\n",
       "         [0.85385311],\n",
       "         [0.50000626],\n",
       "         [0.50000626],\n",
       "         [0.28382932],\n",
       "         [0.28382932],\n",
       "         [0.0740817 ],\n",
       "         [0.0740817 ],\n",
       "         [0.63709999],\n",
       "         [0.63709999],\n",
       "         [0.57009016],\n",
       "         [0.57009016],\n",
       "         [0.86144394],\n",
       "         [0.86144394],\n",
       "         [0.91156235],\n",
       "         [0.91156235],\n",
       "         [0.52562387],\n",
       "         [0.52562387],\n",
       "         [0.71911402],\n",
       "         [0.71911402],\n",
       "         [0.34058224],\n",
       "         [0.34058224],\n",
       "         [0.38411081],\n",
       "         [0.38411081],\n",
       "         [0.29455377],\n",
       "         [0.29455377],\n",
       "         [0.58865968],\n",
       "         [0.58865968],\n",
       "         [0.3698246 ],\n",
       "         [0.3698246 ],\n",
       "         [0.87428744],\n",
       "         [0.87428744],\n",
       "         [0.51474583],\n",
       "         [0.51474583],\n",
       "         [0.15279223],\n",
       "         [0.15279223]])}}"
      ]
     },
     "execution_count": 1,
     "metadata": {},
     "output_type": "execute_result"
    }
   ],
   "source": [
    "ds = load_by_id(run_id_a)\n",
    "ds.get_parameter_data('x1')"
   ]
  },
  {
   "cell_type": "code",
   "execution_count": null,
   "metadata": {},
   "outputs": [],
   "source": []
  }
 ],
 "metadata": {
  "kernelspec": {
   "display_name": "Python 3",
   "language": "python",
   "name": "python3"
  },
  "language_info": {
   "codemirror_mode": {
    "name": "ipython",
    "version": 3
   },
   "file_extension": ".py",
   "mimetype": "text/x-python",
   "name": "python",
   "nbconvert_exporter": "python",
   "pygments_lexer": "ipython3",
   "version": "3.7.10"
  },
  "nbsphinx": {
   "timeout": 600
  },
  "toc": {
   "base_numbering": 1,
   "nav_menu": {},
   "number_sections": true,
   "sideBar": true,
   "skip_h1_title": false,
   "title_cell": "Table of Contents",
   "title_sidebar": "Contents",
   "toc_cell": false,
   "toc_position": {},
   "toc_section_display": true,
   "toc_window_display": false
  },
  "varInspector": {
   "cols": {
    "lenName": 16,
    "lenType": 16,
    "lenVar": 40
   },
   "kernels_config": {
    "python": {
     "delete_cmd_postfix": "",
     "delete_cmd_prefix": "del ",
     "library": "var_list.py",
     "varRefreshCmd": "print(var_dic_list())"
    },
    "r": {
     "delete_cmd_postfix": ") ",
     "delete_cmd_prefix": "rm(",
     "library": "var_list.r",
     "varRefreshCmd": "cat(var_dic_list()) "
    }
   },
   "types_to_exclude": [
    "module",
    "function",
    "builtin_function_or_method",
    "instance",
    "_Feature"
   ],
   "window_display": false
  }
 },
 "nbformat": 4,
 "nbformat_minor": 2
}
