{
 "cells": [
  {
   "cell_type": "markdown",
   "metadata": {},
   "source": [
    "# DataSet Performance\n",
    "\n",
    "This notebook shows the trade-off between inserting data into a database row-by-row and as binary blobs. Inserting the data row-by-row means that we have direct access to all the data and may perform queries directly on the values of the data. On the other hand, as we shall see, this is much slower than inserting the data directly as binary blobs."
   ]
  },
  {
   "cell_type": "markdown",
   "metadata": {},
   "source": [
    "First, we choose a new location for the database to ensure that we don't add a bunch of benchmarking data to the default one."
   ]
  },
  {
   "cell_type": "code",
   "execution_count": 1,
   "metadata": {
    "execution": {
     "iopub.execute_input": "2021-02-15T11:52:17.116229Z",
     "iopub.status.busy": "2021-02-15T11:52:17.115543Z",
     "iopub.status.idle": "2021-02-15T11:52:18.038105Z",
     "shell.execute_reply": "2021-02-15T11:52:18.038605Z"
    }
   },
   "outputs": [
    {
     "name": "stdout",
     "output_type": "stream",
     "text": [
      "Logging hadn't been started.\n",
      "Activating auto-logging. Current session state plus future input saved.\n",
      "Filename       : /home/runner/.qcodes/logs/command_history.log\n",
      "Mode           : append\n",
      "Output logging : True\n",
      "Raw input log  : False\n",
      "Timestamping   : True\n",
      "State          : active\n"
     ]
    },
    {
     "name": "stdout",
     "output_type": "stream",
     "text": [
      "Qcodes Logfile : /home/runner/.qcodes/logs/210215-3733-qcodes.log\n"
     ]
    }
   ],
   "source": [
    "import os\n",
    "cwd = os.getcwd()\n",
    "import qcodes as qc\n",
    "qc.config[\"core\"][\"db_location\"] = os.path.join(cwd, 'testing.db')\n"
   ]
  },
  {
   "cell_type": "code",
   "execution_count": 2,
   "metadata": {
    "execution": {
     "iopub.execute_input": "2021-02-15T11:52:18.045749Z",
     "iopub.status.busy": "2021-02-15T11:52:18.045105Z",
     "iopub.status.idle": "2021-02-15T11:52:18.245442Z",
     "shell.execute_reply": "2021-02-15T11:52:18.244686Z"
    }
   },
   "outputs": [],
   "source": [
    "%matplotlib inline\n",
    "import time\n",
    "import matplotlib.pyplot as plt\n",
    "import numpy as np\n",
    "\n",
    "import qcodes as qc\n",
    "from qcodes.instrument.parameter import ManualParameter\n",
    "from qcodes.dataset.experiment_container import (Experiment,\n",
    "                                                 load_last_experiment,\n",
    "                                                 new_experiment)\n",
    "from qcodes.dataset.sqlite.database import initialise_database\n",
    "from qcodes import load_or_create_experiment\n",
    "from qcodes.dataset.measurements import Measurement"
   ]
  },
  {
   "cell_type": "code",
   "execution_count": 3,
   "metadata": {
    "execution": {
     "iopub.execute_input": "2021-02-15T11:52:18.249664Z",
     "iopub.status.busy": "2021-02-15T11:52:18.248868Z",
     "iopub.status.idle": "2021-02-15T11:52:18.378478Z",
     "shell.execute_reply": "2021-02-15T11:52:18.377951Z"
    }
   },
   "outputs": [
    {
     "name": "stdout",
     "output_type": "stream",
     "text": [
      "\r",
      "0it [00:00, ?it/s]"
     ]
    },
    {
     "name": "stdout",
     "output_type": "stream",
     "text": [
      "\r",
      "Upgrading database; v0 -> v1: : 0it [00:00, ?it/s]"
     ]
    },
    {
     "name": "stdout",
     "output_type": "stream",
     "text": [
      "\r",
      "Upgrading database; v0 -> v1: : 0it [00:00, ?it/s]"
     ]
    },
    {
     "name": "stdout",
     "output_type": "stream",
     "text": [
      "\n",
      "\r",
      "  0%|          | 0/1 [00:00<?, ?it/s]"
     ]
    },
    {
     "name": "stdout",
     "output_type": "stream",
     "text": [
      "\r",
      "Upgrading database; v1 -> v2:   0%|          | 0/1 [00:00<?, ?it/s]"
     ]
    },
    {
     "name": "stdout",
     "output_type": "stream",
     "text": [
      "\r",
      "Upgrading database; v1 -> v2: 100%|██████████| 1/1 [00:00<00:00, 488.96it/s]"
     ]
    },
    {
     "name": "stdout",
     "output_type": "stream",
     "text": [
      "\n",
      "\r",
      "0it [00:00, ?it/s]"
     ]
    },
    {
     "name": "stdout",
     "output_type": "stream",
     "text": [
      "\r",
      "Upgrading database; v2 -> v3: : 0it [00:00, ?it/s]"
     ]
    },
    {
     "name": "stdout",
     "output_type": "stream",
     "text": [
      "\r",
      "Upgrading database; v2 -> v3: : 0it [00:00, ?it/s]"
     ]
    },
    {
     "name": "stdout",
     "output_type": "stream",
     "text": [
      "\n",
      "\r",
      "0it [00:00, ?it/s]"
     ]
    },
    {
     "name": "stdout",
     "output_type": "stream",
     "text": [
      "\r",
      "Upgrading database; v3 -> v4: : 0it [00:00, ?it/s]"
     ]
    },
    {
     "name": "stdout",
     "output_type": "stream",
     "text": [
      "\r",
      "Upgrading database; v3 -> v4: : 0it [00:00, ?it/s]"
     ]
    },
    {
     "name": "stdout",
     "output_type": "stream",
     "text": [
      "\n",
      "\r",
      "  0%|          | 0/1 [00:00<?, ?it/s]"
     ]
    },
    {
     "name": "stdout",
     "output_type": "stream",
     "text": [
      "\r",
      "Upgrading database; v4 -> v5:   0%|          | 0/1 [00:00<?, ?it/s]"
     ]
    },
    {
     "name": "stdout",
     "output_type": "stream",
     "text": [
      "\r",
      "Upgrading database; v4 -> v5: 100%|██████████| 1/1 [00:00<00:00, 492.87it/s]"
     ]
    },
    {
     "name": "stdout",
     "output_type": "stream",
     "text": [
      "\n",
      "\r",
      "0it [00:00, ?it/s]"
     ]
    },
    {
     "name": "stdout",
     "output_type": "stream",
     "text": [
      "\r",
      "Upgrading database; v5 -> v6: : 0it [00:00, ?it/s]"
     ]
    },
    {
     "name": "stdout",
     "output_type": "stream",
     "text": [
      "\r",
      "Upgrading database; v5 -> v6: : 0it [00:00, ?it/s]"
     ]
    },
    {
     "name": "stdout",
     "output_type": "stream",
     "text": [
      "\n",
      "\r",
      "  0%|          | 0/1 [00:00<?, ?it/s]"
     ]
    },
    {
     "name": "stdout",
     "output_type": "stream",
     "text": [
      "\r",
      "Upgrading database; v6 -> v7:   0%|          | 0/1 [00:00<?, ?it/s]"
     ]
    },
    {
     "name": "stdout",
     "output_type": "stream",
     "text": [
      "\r",
      "Upgrading database; v6 -> v7: 100%|██████████| 1/1 [00:00<00:00, 171.32it/s]"
     ]
    },
    {
     "name": "stdout",
     "output_type": "stream",
     "text": [
      "\n",
      "\r",
      "  0%|          | 0/1 [00:00<?, ?it/s]"
     ]
    },
    {
     "name": "stdout",
     "output_type": "stream",
     "text": [
      "\r",
      "Upgrading database; v7 -> v8:   0%|          | 0/1 [00:00<?, ?it/s]"
     ]
    },
    {
     "name": "stdout",
     "output_type": "stream",
     "text": [
      "\r",
      "Upgrading database; v7 -> v8: 100%|██████████| 1/1 [00:00<00:00, 401.14it/s]"
     ]
    },
    {
     "name": "stdout",
     "output_type": "stream",
     "text": [
      "\n",
      "\r",
      "  0%|          | 0/1 [00:00<?, ?it/s]"
     ]
    },
    {
     "name": "stdout",
     "output_type": "stream",
     "text": [
      "\r",
      "Upgrading database; v8 -> v9:   0%|          | 0/1 [00:00<?, ?it/s]"
     ]
    },
    {
     "name": "stdout",
     "output_type": "stream",
     "text": [
      "\r",
      "Upgrading database; v8 -> v9: 100%|██████████| 1/1 [00:00<00:00, 434.01it/s]"
     ]
    },
    {
     "name": "stdout",
     "output_type": "stream",
     "text": [
      "\n"
     ]
    }
   ],
   "source": [
    "initialise_database()\n",
    "exp = load_or_create_experiment(experiment_name='tutorial_exp', sample_name=\"no sample\")"
   ]
  },
  {
   "cell_type": "markdown",
   "metadata": {},
   "source": [
    "Here, we define a simple function to benchmark the time it takes to insert n points with either numeric or array data type.\n",
    "We will compare both the time used to call ``add_result`` and the time used for the full measurement."
   ]
  },
  {
   "cell_type": "code",
   "execution_count": 4,
   "metadata": {
    "execution": {
     "iopub.execute_input": "2021-02-15T11:52:18.387863Z",
     "iopub.status.busy": "2021-02-15T11:52:18.387130Z",
     "iopub.status.idle": "2021-02-15T11:52:18.390759Z",
     "shell.execute_reply": "2021-02-15T11:52:18.391226Z"
    }
   },
   "outputs": [],
   "source": [
    "def insert_data(paramtype, npoints, nreps=1):\n",
    "\n",
    "    meas = Measurement(exp=exp)\n",
    "\n",
    "    x1 = ManualParameter('x1')\n",
    "    x2 = ManualParameter('x2')\n",
    "    x3 = ManualParameter('x3')\n",
    "    y1 = ManualParameter('y1')\n",
    "    y2 = ManualParameter('y2')\n",
    "\n",
    "    meas.register_parameter(x1, paramtype=paramtype)\n",
    "    meas.register_parameter(x2, paramtype=paramtype)\n",
    "    meas.register_parameter(x3, paramtype=paramtype)\n",
    "    meas.register_parameter(y1, setpoints=[x1, x2, x3],\n",
    "                            paramtype=paramtype)\n",
    "    meas.register_parameter(y2, setpoints=[x1, x2, x3],\n",
    "                            paramtype=paramtype)\n",
    "    start = time.perf_counter()\n",
    "    with meas.run() as datasaver:\n",
    "        start_adding = time.perf_counter()\n",
    "        for i in range(nreps):\n",
    "            datasaver.add_result((x1, np.random.rand(npoints)),\n",
    "                                 (x2, np.random.rand(npoints)),\n",
    "                                 (x3, np.random.rand(npoints)),\n",
    "                                 (y1, np.random.rand(npoints)),\n",
    "                                 (y2, np.random.rand(npoints)))\n",
    "        stop_adding = time.perf_counter()\n",
    "        run_id = datasaver.run_id\n",
    "    stop = time.perf_counter()\n",
    "    tot_time = stop - start\n",
    "    add_time = stop_adding - start_adding\n",
    "    return tot_time, add_time, run_id"
   ]
  },
  {
   "cell_type": "markdown",
   "metadata": {},
   "source": [
    "## Comparison between numeric/array data and binary blob"
   ]
  },
  {
   "cell_type": "markdown",
   "metadata": {},
   "source": [
    "### Case1: Short experiment time"
   ]
  },
  {
   "cell_type": "code",
   "execution_count": 5,
   "metadata": {
    "execution": {
     "iopub.execute_input": "2021-02-15T11:52:18.398384Z",
     "iopub.status.busy": "2021-02-15T11:52:18.397354Z",
     "iopub.status.idle": "2021-02-15T11:52:19.318801Z",
     "shell.execute_reply": "2021-02-15T11:52:19.317884Z"
    }
   },
   "outputs": [
    {
     "name": "stdout",
     "output_type": "stream",
     "text": [
      "Starting experimental run with id: 1. \n",
      "Starting experimental run with id: 2. \n",
      "Starting experimental run with id: 3. \n",
      "Starting experimental run with id: 4. \n"
     ]
    },
    {
     "name": "stdout",
     "output_type": "stream",
     "text": [
      "Starting experimental run with id: 5. \n"
     ]
    },
    {
     "name": "stdout",
     "output_type": "stream",
     "text": [
      "Starting experimental run with id: 6. \n",
      "Starting experimental run with id: 7. \n"
     ]
    },
    {
     "name": "stdout",
     "output_type": "stream",
     "text": [
      "Starting experimental run with id: 8. \n",
      "Starting experimental run with id: 9. \n"
     ]
    },
    {
     "name": "stdout",
     "output_type": "stream",
     "text": [
      "Starting experimental run with id: 10. \n",
      "Starting experimental run with id: 11. \n"
     ]
    },
    {
     "name": "stdout",
     "output_type": "stream",
     "text": [
      "Starting experimental run with id: 12. \n"
     ]
    },
    {
     "name": "stdout",
     "output_type": "stream",
     "text": [
      "Starting experimental run with id: 13. \n"
     ]
    },
    {
     "name": "stdout",
     "output_type": "stream",
     "text": [
      "Starting experimental run with id: 14. \n"
     ]
    }
   ],
   "source": [
    "sizes = [1,500,1000,2000,3000,4000,5000]\n",
    "t_numeric = []\n",
    "t_numeric_add = []\n",
    "t_array = []\n",
    "t_array_add = []\n",
    "for size in sizes:\n",
    "    tn, tna, run_id_n =  insert_data('numeric', size)\n",
    "    t_numeric.append(tn)\n",
    "    t_numeric_add.append(tna)\n",
    "\n",
    "    ta, taa, run_id_a =  insert_data('array', size)\n",
    "    t_array.append(ta)\n",
    "    t_array_add.append(taa)"
   ]
  },
  {
   "cell_type": "code",
   "execution_count": 6,
   "metadata": {
    "execution": {
     "iopub.execute_input": "2021-02-15T11:52:19.337834Z",
     "iopub.status.busy": "2021-02-15T11:52:19.323706Z",
     "iopub.status.idle": "2021-02-15T11:52:19.574225Z",
     "shell.execute_reply": "2021-02-15T11:52:19.573396Z"
    }
   },
   "outputs": [
    {
     "data": {
      "image/png": "[encoded data removed]",
      "text/plain": [
       "<Figure size 432x288 with 1 Axes>"
      ]
     },
     "metadata": {
      "needs_background": "light"
     },
     "output_type": "display_data"
    }
   ],
   "source": [
    "fig, ax = plt.subplots(1,1)\n",
    "ax.plot(sizes, t_numeric, 'o-', label='Inserting row-by-row')\n",
    "ax.plot(sizes, t_numeric_add, 'o-', label='Inserting row-by-row: add_result only')\n",
    "ax.plot(sizes, t_array, 'd-', label='Inserting as binary blob')\n",
    "ax.plot(sizes, t_array_add, 'd-', label='Inserting as binary blob: add_result only')\n",
    "ax.legend()\n",
    "ax.set_xlabel('Array length')\n",
    "ax.set_ylabel('Time (s)')\n",
    "fig.tight_layout()"
   ]
  },
  {
   "cell_type": "markdown",
   "metadata": {},
   "source": [
    "As shown in the latter figure, the time to setup and and close the experiment is approximately 0.4 sec. In case of small array sizes, the difference between inserting values of data as arrays and inserting them row-by-row is relatively unimportant. At larger array sizes, i.e. above 10000 points, the cost of writing data as individual datapoints starts to become important.\n"
   ]
  },
  {
   "cell_type": "markdown",
   "metadata": {},
   "source": [
    "### Case2: Long experiment time "
   ]
  },
  {
   "cell_type": "code",
   "execution_count": 7,
   "metadata": {
    "execution": {
     "iopub.execute_input": "2021-02-15T11:52:19.582098Z",
     "iopub.status.busy": "2021-02-15T11:52:19.580883Z",
     "iopub.status.idle": "2021-02-15T11:53:23.566210Z",
     "shell.execute_reply": "2021-02-15T11:53:23.565604Z"
    }
   },
   "outputs": [
    {
     "name": "stdout",
     "output_type": "stream",
     "text": [
      "Starting experimental run with id: 15. \n",
      "Starting experimental run with id: 16. \n"
     ]
    },
    {
     "name": "stdout",
     "output_type": "stream",
     "text": [
      "Starting experimental run with id: 17. \n"
     ]
    },
    {
     "name": "stdout",
     "output_type": "stream",
     "text": [
      "Starting experimental run with id: 18. \n"
     ]
    },
    {
     "name": "stdout",
     "output_type": "stream",
     "text": [
      "Starting experimental run with id: 19. \n"
     ]
    },
    {
     "name": "stdout",
     "output_type": "stream",
     "text": [
      "Starting experimental run with id: 20. \n"
     ]
    },
    {
     "name": "stdout",
     "output_type": "stream",
     "text": [
      "Starting experimental run with id: 21. \n"
     ]
    },
    {
     "name": "stdout",
     "output_type": "stream",
     "text": [
      "Starting experimental run with id: 22. \n"
     ]
    },
    {
     "name": "stdout",
     "output_type": "stream",
     "text": [
      "Starting experimental run with id: 23. \n"
     ]
    },
    {
     "name": "stdout",
     "output_type": "stream",
     "text": [
      "Starting experimental run with id: 24. \n"
     ]
    },
    {
     "name": "stdout",
     "output_type": "stream",
     "text": [
      "Starting experimental run with id: 25. \n"
     ]
    },
    {
     "name": "stdout",
     "output_type": "stream",
     "text": [
      "Starting experimental run with id: 26. \n"
     ]
    },
    {
     "name": "stdout",
     "output_type": "stream",
     "text": [
      "Starting experimental run with id: 27. \n"
     ]
    },
    {
     "name": "stdout",
     "output_type": "stream",
     "text": [
      "Starting experimental run with id: 28. \n"
     ]
    }
   ],
   "source": [
    "sizes = [1,500,1000,2000,3000,4000,5000]\n",
    "nreps = 100\n",
    "t_numeric = []\n",
    "t_numeric_add = []\n",
    "t_numeric_run_ids = []\n",
    "t_array = []\n",
    "t_array_add = []\n",
    "t_array_run_ids = []\n",
    "for size in sizes:\n",
    "    tn, tna, run_id_n =  insert_data('numeric', size, nreps=nreps)\n",
    "    t_numeric.append(tn)\n",
    "    t_numeric_add.append(tna)\n",
    "    t_numeric_run_ids.append(run_id_n)\n",
    "\n",
    "    ta, taa, run_id_a =  insert_data('array', size, nreps=nreps)\n",
    "    t_array.append(ta)\n",
    "    t_array_add.append(taa)\n",
    "    t_array_run_ids.append(run_id_a)"
   ]
  },
  {
   "cell_type": "code",
   "execution_count": 8,
   "metadata": {
    "execution": {
     "iopub.execute_input": "2021-02-15T11:53:23.613497Z",
     "iopub.status.busy": "2021-02-15T11:53:23.589660Z",
     "iopub.status.idle": "2021-02-15T11:53:23.838432Z",
     "shell.execute_reply": "2021-02-15T11:53:23.837869Z"
    },
    "scrolled": true
   },
   "outputs": [
    {
     "data": {
      "image/png": "[encoded data removed]",
      "text/plain": [
       "<Figure size 432x288 with 1 Axes>"
      ]
     },
     "metadata": {
      "needs_background": "light"
     },
     "output_type": "display_data"
    }
   ],
   "source": [
    "fig, ax = plt.subplots(1,1)\n",
    "ax.plot(sizes, t_numeric, 'o-', label='Inserting row-by-row')\n",
    "ax.plot(sizes, t_numeric_add, 'o-', label='Inserting row-by-row: add_result only')\n",
    "ax.plot(sizes, t_array, 'd-', label='Inserting as binary blob')\n",
    "ax.plot(sizes, t_array_add, 'd-', label='Inserting as binary blob: add_result only')\n",
    "ax.legend()\n",
    "ax.set_xlabel('Array length')\n",
    "ax.set_ylabel('Time (s)')\n",
    "fig.tight_layout()"
   ]
  },
  {
   "cell_type": "markdown",
   "metadata": {},
   "source": [
    "However, as we increase the length of the experiment, as seen here by repeating the insertion 100 times, we see a big difference between inserting values of the data row-by-row and inserting it as a binary blob."
   ]
  },
  {
   "cell_type": "markdown",
   "metadata": {},
   "source": [
    "## Loading the data "
   ]
  },
  {
   "cell_type": "code",
   "execution_count": 9,
   "metadata": {
    "execution": {
     "iopub.execute_input": "2021-02-15T11:53:23.843365Z",
     "iopub.status.busy": "2021-02-15T11:53:23.842099Z",
     "iopub.status.idle": "2021-02-15T11:53:23.846047Z",
     "shell.execute_reply": "2021-02-15T11:53:23.845423Z"
    }
   },
   "outputs": [],
   "source": [
    "from qcodes.dataset.data_set import load_by_id\n",
    "from qcodes.dataset.data_export import get_data_by_id"
   ]
  },
  {
   "cell_type": "markdown",
   "metadata": {},
   "source": [
    "As usual you can load the data by using the ``load_by_id`` function but you will notice that the different storage methods\n",
    "are reflected in shape of the data as it is retrieved. "
   ]
  },
  {
   "cell_type": "code",
   "execution_count": 10,
   "metadata": {
    "execution": {
     "iopub.execute_input": "2021-02-15T11:53:23.850257Z",
     "iopub.status.busy": "2021-02-15T11:53:23.849339Z",
     "iopub.status.idle": "2021-02-15T11:53:23.852233Z",
     "shell.execute_reply": "2021-02-15T11:53:23.851682Z"
    }
   },
   "outputs": [],
   "source": [
    "run_id_n = t_numeric_run_ids[0]\n",
    "run_id_a = t_array_run_ids[0]"
   ]
  },
  {
   "cell_type": "code",
   "execution_count": 11,
   "metadata": {
    "execution": {
     "iopub.execute_input": "2021-02-15T11:53:23.856063Z",
     "iopub.status.busy": "2021-02-15T11:53:23.855341Z",
     "iopub.status.idle": "2021-02-15T11:53:23.865518Z",
     "shell.execute_reply": "2021-02-15T11:53:23.866042Z"
    },
    "scrolled": true
   },
   "outputs": [
    {
     "data": {
      "text/plain": [
       "{'x1': {'x1': array([0.58016453, 0.58016453, 0.15889937, 0.15889937, 0.87399288,\n",
       "         0.87399288, 0.46818267, 0.46818267, 0.03273147, 0.03273147,\n",
       "         0.49884452, 0.49884452, 0.48980371, 0.48980371, 0.45519498,\n",
       "         0.45519498, 0.9098666 , 0.9098666 , 0.68080171, 0.68080171,\n",
       "         0.99594768, 0.99594768, 0.87840938, 0.87840938, 0.04568924,\n",
       "         0.04568924, 0.48447051, 0.48447051, 0.22530883, 0.22530883,\n",
       "         0.49910924, 0.49910924, 0.87649729, 0.87649729, 0.34784761,\n",
       "         0.34784761, 0.83740897, 0.83740897, 0.97167916, 0.97167916,\n",
       "         0.66598451, 0.66598451, 0.81767922, 0.81767922, 0.1699409 ,\n",
       "         0.1699409 , 0.8121989 , 0.8121989 , 0.84659701, 0.84659701,\n",
       "         0.00107601, 0.00107601, 0.80786636, 0.80786636, 0.60764623,\n",
       "         0.60764623, 0.26305235, 0.26305235, 0.78147867, 0.78147867,\n",
       "         0.4104403 , 0.4104403 , 0.51768613, 0.51768613, 0.3711839 ,\n",
       "         0.3711839 , 0.26167374, 0.26167374, 0.99894919, 0.99894919,\n",
       "         0.03522626, 0.03522626, 0.59381698, 0.59381698, 0.85413022,\n",
       "         0.85413022, 0.48822117, 0.48822117, 0.34640255, 0.34640255,\n",
       "         0.04936947, 0.04936947, 0.99048967, 0.99048967, 0.65591971,\n",
       "         0.65591971, 0.20643798, 0.20643798, 0.5501436 , 0.5501436 ,\n",
       "         0.91130786, 0.91130786, 0.33506454, 0.33506454, 0.67199262,\n",
       "         0.67199262, 0.62880717, 0.62880717, 0.22342099, 0.22342099,\n",
       "         0.36361618, 0.36361618, 0.63125379, 0.63125379, 0.5726549 ,\n",
       "         0.5726549 , 0.3660235 , 0.3660235 , 0.43169437, 0.43169437,\n",
       "         0.23862186, 0.23862186, 0.36355818, 0.36355818, 0.22710799,\n",
       "         0.22710799, 0.94996996, 0.94996996, 0.42777742, 0.42777742,\n",
       "         0.47716459, 0.47716459, 0.45214316, 0.45214316, 0.16513451,\n",
       "         0.16513451, 0.5927171 , 0.5927171 , 0.25022245, 0.25022245,\n",
       "         0.56056834, 0.56056834, 0.22140946, 0.22140946, 0.20087436,\n",
       "         0.20087436, 0.41156432, 0.41156432, 0.04560498, 0.04560498,\n",
       "         0.53163822, 0.53163822, 0.58204807, 0.58204807, 0.16343239,\n",
       "         0.16343239, 0.66231182, 0.66231182, 0.16488063, 0.16488063,\n",
       "         0.73564867, 0.73564867, 0.60479776, 0.60479776, 0.22601517,\n",
       "         0.22601517, 0.1359484 , 0.1359484 , 0.69885365, 0.69885365,\n",
       "         0.6688759 , 0.6688759 , 0.10000557, 0.10000557, 0.58610961,\n",
       "         0.58610961, 0.93767977, 0.93767977, 0.16746469, 0.16746469,\n",
       "         0.76413593, 0.76413593, 0.24811242, 0.24811242, 0.77490314,\n",
       "         0.77490314, 0.48915232, 0.48915232, 0.16387188, 0.16387188,\n",
       "         0.2617936 , 0.2617936 , 0.10883975, 0.10883975, 0.57209105,\n",
       "         0.57209105, 0.71015273, 0.71015273, 0.40108147, 0.40108147,\n",
       "         0.72639763, 0.72639763, 0.5113351 , 0.5113351 , 0.1812017 ,\n",
       "         0.1812017 , 0.42170315, 0.42170315, 0.61163512, 0.61163512])}}"
      ]
     },
     "execution_count": 1,
     "metadata": {},
     "output_type": "execute_result"
    }
   ],
   "source": [
    "ds = load_by_id(run_id_n)\n",
    "ds.get_parameter_data('x1')"
   ]
  },
  {
   "cell_type": "markdown",
   "metadata": {},
   "source": [
    "And a dataset stored as binary arrays"
   ]
  },
  {
   "cell_type": "code",
   "execution_count": 12,
   "metadata": {
    "execution": {
     "iopub.execute_input": "2021-02-15T11:53:23.869425Z",
     "iopub.status.busy": "2021-02-15T11:53:23.868854Z",
     "iopub.status.idle": "2021-02-15T11:53:23.935489Z",
     "shell.execute_reply": "2021-02-15T11:53:23.936071Z"
    },
    "scrolled": true
   },
   "outputs": [
    {
     "data": {
      "text/plain": [
       "{'x1': {'x1': array([[0.45101333],\n",
       "         [0.45101333],\n",
       "         [0.99228218],\n",
       "         [0.99228218],\n",
       "         [0.88842208],\n",
       "         [0.88842208],\n",
       "         [0.50502261],\n",
       "         [0.50502261],\n",
       "         [0.1202347 ],\n",
       "         [0.1202347 ],\n",
       "         [0.52540988],\n",
       "         [0.52540988],\n",
       "         [0.23615731],\n",
       "         [0.23615731],\n",
       "         [0.95959984],\n",
       "         [0.95959984],\n",
       "         [0.54051476],\n",
       "         [0.54051476],\n",
       "         [0.445773  ],\n",
       "         [0.445773  ],\n",
       "         [0.56700919],\n",
       "         [0.56700919],\n",
       "         [0.76348081],\n",
       "         [0.76348081],\n",
       "         [0.05775766],\n",
       "         [0.05775766],\n",
       "         [0.29167167],\n",
       "         [0.29167167],\n",
       "         [0.2735579 ],\n",
       "         [0.2735579 ],\n",
       "         [0.45119958],\n",
       "         [0.45119958],\n",
       "         [0.52328761],\n",
       "         [0.52328761],\n",
       "         [0.3040958 ],\n",
       "         [0.3040958 ],\n",
       "         [0.61219269],\n",
       "         [0.61219269],\n",
       "         [0.95659517],\n",
       "         [0.95659517],\n",
       "         [0.29170502],\n",
       "         [0.29170502],\n",
       "         [0.7868061 ],\n",
       "         [0.7868061 ],\n",
       "         [0.93955707],\n",
       "         [0.93955707],\n",
       "         [0.99209515],\n",
       "         [0.99209515],\n",
       "         [0.35770732],\n",
       "         [0.35770732],\n",
       "         [0.86338579],\n",
       "         [0.86338579],\n",
       "         [0.40859603],\n",
       "         [0.40859603],\n",
       "         [0.41405825],\n",
       "         [0.41405825],\n",
       "         [0.94713472],\n",
       "         [0.94713472],\n",
       "         [0.85218361],\n",
       "         [0.85218361],\n",
       "         [0.81752568],\n",
       "         [0.81752568],\n",
       "         [0.47787995],\n",
       "         [0.47787995],\n",
       "         [0.71425775],\n",
       "         [0.71425775],\n",
       "         [0.33502325],\n",
       "         [0.33502325],\n",
       "         [0.28894879],\n",
       "         [0.28894879],\n",
       "         [0.62545358],\n",
       "         [0.62545358],\n",
       "         [0.57295888],\n",
       "         [0.57295888],\n",
       "         [0.83632708],\n",
       "         [0.83632708],\n",
       "         [0.12936713],\n",
       "         [0.12936713],\n",
       "         [0.44414062],\n",
       "         [0.44414062],\n",
       "         [0.25277646],\n",
       "         [0.25277646],\n",
       "         [0.69724419],\n",
       "         [0.69724419],\n",
       "         [0.11545186],\n",
       "         [0.11545186],\n",
       "         [0.51929811],\n",
       "         [0.51929811],\n",
       "         [0.34404855],\n",
       "         [0.34404855],\n",
       "         [0.17981472],\n",
       "         [0.17981472],\n",
       "         [0.49661082],\n",
       "         [0.49661082],\n",
       "         [0.83603688],\n",
       "         [0.83603688],\n",
       "         [0.75766463],\n",
       "         [0.75766463],\n",
       "         [0.47087915],\n",
       "         [0.47087915],\n",
       "         [0.0184915 ],\n",
       "         [0.0184915 ],\n",
       "         [0.48963352],\n",
       "         [0.48963352],\n",
       "         [0.0205768 ],\n",
       "         [0.0205768 ],\n",
       "         [0.7797305 ],\n",
       "         [0.7797305 ],\n",
       "         [0.71370971],\n",
       "         [0.71370971],\n",
       "         [0.09148139],\n",
       "         [0.09148139],\n",
       "         [0.49985422],\n",
       "         [0.49985422],\n",
       "         [0.1179997 ],\n",
       "         [0.1179997 ],\n",
       "         [0.76620015],\n",
       "         [0.76620015],\n",
       "         [0.73819502],\n",
       "         [0.73819502],\n",
       "         [0.78731238],\n",
       "         [0.78731238],\n",
       "         [0.25933215],\n",
       "         [0.25933215],\n",
       "         [0.50415643],\n",
       "         [0.50415643],\n",
       "         [0.40941883],\n",
       "         [0.40941883],\n",
       "         [0.02199106],\n",
       "         [0.02199106],\n",
       "         [0.48315857],\n",
       "         [0.48315857],\n",
       "         [0.08006312],\n",
       "         [0.08006312],\n",
       "         [0.7203297 ],\n",
       "         [0.7203297 ],\n",
       "         [0.27291384],\n",
       "         [0.27291384],\n",
       "         [0.4851019 ],\n",
       "         [0.4851019 ],\n",
       "         [0.29383731],\n",
       "         [0.29383731],\n",
       "         [0.25728504],\n",
       "         [0.25728504],\n",
       "         [0.16482233],\n",
       "         [0.16482233],\n",
       "         [0.30816243],\n",
       "         [0.30816243],\n",
       "         [0.23980125],\n",
       "         [0.23980125],\n",
       "         [0.8473674 ],\n",
       "         [0.8473674 ],\n",
       "         [0.59004083],\n",
       "         [0.59004083],\n",
       "         [0.9404432 ],\n",
       "         [0.9404432 ],\n",
       "         [0.48324442],\n",
       "         [0.48324442],\n",
       "         [0.69691139],\n",
       "         [0.69691139],\n",
       "         [0.48336501],\n",
       "         [0.48336501],\n",
       "         [0.8639679 ],\n",
       "         [0.8639679 ],\n",
       "         [0.73644596],\n",
       "         [0.73644596],\n",
       "         [0.68723498],\n",
       "         [0.68723498],\n",
       "         [0.02379152],\n",
       "         [0.02379152],\n",
       "         [0.92016374],\n",
       "         [0.92016374],\n",
       "         [0.26206248],\n",
       "         [0.26206248],\n",
       "         [0.7118178 ],\n",
       "         [0.7118178 ],\n",
       "         [0.79620938],\n",
       "         [0.79620938],\n",
       "         [0.90999319],\n",
       "         [0.90999319],\n",
       "         [0.0063977 ],\n",
       "         [0.0063977 ],\n",
       "         [0.14077623],\n",
       "         [0.14077623],\n",
       "         [0.49828941],\n",
       "         [0.49828941],\n",
       "         [0.170611  ],\n",
       "         [0.170611  ],\n",
       "         [0.2775147 ],\n",
       "         [0.2775147 ],\n",
       "         [0.37430694],\n",
       "         [0.37430694],\n",
       "         [0.97800379],\n",
       "         [0.97800379],\n",
       "         [0.2324986 ],\n",
       "         [0.2324986 ],\n",
       "         [0.49142338],\n",
       "         [0.49142338],\n",
       "         [0.57946549],\n",
       "         [0.57946549]])}}"
      ]
     },
     "execution_count": 1,
     "metadata": {},
     "output_type": "execute_result"
    }
   ],
   "source": [
    "ds = load_by_id(run_id_a)\n",
    "ds.get_parameter_data('x1')"
   ]
  },
  {
   "cell_type": "code",
   "execution_count": null,
   "metadata": {},
   "outputs": [],
   "source": []
  }
 ],
 "metadata": {
  "kernelspec": {
   "display_name": "Python 3",
   "language": "python",
   "name": "python3"
  },
  "language_info": {
   "codemirror_mode": {
    "name": "ipython",
    "version": 3
   },
   "file_extension": ".py",
   "mimetype": "text/x-python",
   "name": "python",
   "nbconvert_exporter": "python",
   "pygments_lexer": "ipython3",
   "version": "3.7.9"
  },
  "nbsphinx": {
   "timeout": 600
  },
  "toc": {
   "base_numbering": 1,
   "nav_menu": {},
   "number_sections": true,
   "sideBar": true,
   "skip_h1_title": false,
   "title_cell": "Table of Contents",
   "title_sidebar": "Contents",
   "toc_cell": false,
   "toc_position": {},
   "toc_section_display": true,
   "toc_window_display": false
  },
  "varInspector": {
   "cols": {
    "lenName": 16,
    "lenType": 16,
    "lenVar": 40
   },
   "kernels_config": {
    "python": {
     "delete_cmd_postfix": "",
     "delete_cmd_prefix": "del ",
     "library": "var_list.py",
     "varRefreshCmd": "print(var_dic_list())"
    },
    "r": {
     "delete_cmd_postfix": ") ",
     "delete_cmd_prefix": "rm(",
     "library": "var_list.r",
     "varRefreshCmd": "cat(var_dic_list()) "
    }
   },
   "types_to_exclude": [
    "module",
    "function",
    "builtin_function_or_method",
    "instance",
    "_Feature"
   ],
   "window_display": false
  }
 },
 "nbformat": 4,
 "nbformat_minor": 2
}
