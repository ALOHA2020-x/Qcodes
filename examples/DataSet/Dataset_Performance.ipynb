{
 "cells": [
  {
   "cell_type": "markdown",
   "metadata": {},
   "source": [
    "# DataSet Performance\n",
    "\n",
    "This notebook shows the trade-off between inserting data into a database row-by-row and as binary blobs. Inserting the data row-by-row means that we have direct access to all the data and may perform queries directly on the values of the data. On the other hand, as we shall see, this is much slower than inserting the data directly as binary blobs."
   ]
  },
  {
   "cell_type": "markdown",
   "metadata": {},
   "source": [
    "First, we choose a new location for the database to ensure that we don't add a bunch of benchmarking data to the default one."
   ]
  },
  {
   "cell_type": "code",
   "execution_count": 1,
   "metadata": {
    "execution": {
     "iopub.execute_input": "2021-02-21T19:15:07.915956Z",
     "iopub.status.busy": "2021-02-21T19:15:07.915204Z",
     "iopub.status.idle": "2021-02-21T19:15:08.691571Z",
     "shell.execute_reply": "2021-02-21T19:15:08.692121Z"
    }
   },
   "outputs": [
    {
     "name": "stdout",
     "output_type": "stream",
     "text": [
      "Logging hadn't been started.\n",
      "Activating auto-logging. Current session state plus future input saved.\n",
      "Filename       : /home/runner/.qcodes/logs/command_history.log\n",
      "Mode           : append\n",
      "Output logging : True\n",
      "Raw input log  : False\n",
      "Timestamping   : True\n",
      "State          : active\n"
     ]
    },
    {
     "name": "stdout",
     "output_type": "stream",
     "text": [
      "Qcodes Logfile : /home/runner/.qcodes/logs/210221-4091-qcodes.log\n"
     ]
    }
   ],
   "source": [
    "import os\n",
    "cwd = os.getcwd()\n",
    "import qcodes as qc\n",
    "qc.config[\"core\"][\"db_location\"] = os.path.join(cwd, 'testing.db')\n"
   ]
  },
  {
   "cell_type": "code",
   "execution_count": 2,
   "metadata": {
    "execution": {
     "iopub.execute_input": "2021-02-21T19:15:08.698308Z",
     "iopub.status.busy": "2021-02-21T19:15:08.697069Z",
     "iopub.status.idle": "2021-02-21T19:15:08.859505Z",
     "shell.execute_reply": "2021-02-21T19:15:08.858729Z"
    }
   },
   "outputs": [],
   "source": [
    "%matplotlib inline\n",
    "import time\n",
    "import matplotlib.pyplot as plt\n",
    "import numpy as np\n",
    "\n",
    "import qcodes as qc\n",
    "from qcodes.instrument.parameter import ManualParameter\n",
    "from qcodes.dataset.experiment_container import (Experiment,\n",
    "                                                 load_last_experiment,\n",
    "                                                 new_experiment)\n",
    "from qcodes.dataset.sqlite.database import initialise_database\n",
    "from qcodes import load_or_create_experiment\n",
    "from qcodes.dataset.measurements import Measurement"
   ]
  },
  {
   "cell_type": "code",
   "execution_count": 3,
   "metadata": {
    "execution": {
     "iopub.execute_input": "2021-02-21T19:15:08.862808Z",
     "iopub.status.busy": "2021-02-21T19:15:08.862284Z",
     "iopub.status.idle": "2021-02-21T19:15:08.955379Z",
     "shell.execute_reply": "2021-02-21T19:15:08.954858Z"
    }
   },
   "outputs": [
    {
     "name": "stdout",
     "output_type": "stream",
     "text": [
      "\r",
      "0it [00:00, ?it/s]"
     ]
    },
    {
     "name": "stdout",
     "output_type": "stream",
     "text": [
      "\r",
      "Upgrading database; v0 -> v1: : 0it [00:00, ?it/s]"
     ]
    },
    {
     "name": "stdout",
     "output_type": "stream",
     "text": [
      "\r",
      "Upgrading database; v0 -> v1: : 0it [00:00, ?it/s]"
     ]
    },
    {
     "name": "stdout",
     "output_type": "stream",
     "text": [
      "\n",
      "\r",
      "  0%|          | 0/1 [00:00<?, ?it/s]"
     ]
    },
    {
     "name": "stdout",
     "output_type": "stream",
     "text": [
      "\r",
      "Upgrading database; v1 -> v2:   0%|          | 0/1 [00:00<?, ?it/s]"
     ]
    },
    {
     "name": "stdout",
     "output_type": "stream",
     "text": [
      "\r",
      "Upgrading database; v1 -> v2: 100%|██████████| 1/1 [00:00<00:00, 1268.69it/s]"
     ]
    },
    {
     "name": "stdout",
     "output_type": "stream",
     "text": [
      "\n",
      "\r",
      "0it [00:00, ?it/s]"
     ]
    },
    {
     "name": "stdout",
     "output_type": "stream",
     "text": [
      "\r",
      "Upgrading database; v2 -> v3: : 0it [00:00, ?it/s]"
     ]
    },
    {
     "name": "stdout",
     "output_type": "stream",
     "text": [
      "\r",
      "Upgrading database; v2 -> v3: : 0it [00:00, ?it/s]"
     ]
    },
    {
     "name": "stdout",
     "output_type": "stream",
     "text": [
      "\n",
      "\r",
      "0it [00:00, ?it/s]"
     ]
    },
    {
     "name": "stdout",
     "output_type": "stream",
     "text": [
      "\r",
      "Upgrading database; v3 -> v4: : 0it [00:00, ?it/s]"
     ]
    },
    {
     "name": "stdout",
     "output_type": "stream",
     "text": [
      "\r",
      "Upgrading database; v3 -> v4: : 0it [00:00, ?it/s]"
     ]
    },
    {
     "name": "stdout",
     "output_type": "stream",
     "text": [
      "\n",
      "\r",
      "  0%|          | 0/1 [00:00<?, ?it/s]"
     ]
    },
    {
     "name": "stdout",
     "output_type": "stream",
     "text": [
      "\r",
      "Upgrading database; v4 -> v5:   0%|          | 0/1 [00:00<?, ?it/s]"
     ]
    },
    {
     "name": "stdout",
     "output_type": "stream",
     "text": [
      "\r",
      "Upgrading database; v4 -> v5: 100%|██████████| 1/1 [00:00<00:00, 1050.41it/s]"
     ]
    },
    {
     "name": "stdout",
     "output_type": "stream",
     "text": [
      "\n",
      "\r",
      "0it [00:00, ?it/s]"
     ]
    },
    {
     "name": "stdout",
     "output_type": "stream",
     "text": [
      "\r",
      "Upgrading database; v5 -> v6: : 0it [00:00, ?it/s]"
     ]
    },
    {
     "name": "stdout",
     "output_type": "stream",
     "text": [
      "\r",
      "Upgrading database; v5 -> v6: : 0it [00:00, ?it/s]"
     ]
    },
    {
     "name": "stdout",
     "output_type": "stream",
     "text": [
      "\n",
      "\r",
      "  0%|          | 0/1 [00:00<?, ?it/s]"
     ]
    },
    {
     "name": "stdout",
     "output_type": "stream",
     "text": [
      "\r",
      "Upgrading database; v6 -> v7:   0%|          | 0/1 [00:00<?, ?it/s]"
     ]
    },
    {
     "name": "stdout",
     "output_type": "stream",
     "text": [
      "\r",
      "Upgrading database; v6 -> v7: 100%|██████████| 1/1 [00:00<00:00, 354.19it/s]"
     ]
    },
    {
     "name": "stdout",
     "output_type": "stream",
     "text": [
      "\n",
      "\r",
      "  0%|          | 0/1 [00:00<?, ?it/s]"
     ]
    },
    {
     "name": "stdout",
     "output_type": "stream",
     "text": [
      "\r",
      "Upgrading database; v7 -> v8:   0%|          | 0/1 [00:00<?, ?it/s]"
     ]
    },
    {
     "name": "stdout",
     "output_type": "stream",
     "text": [
      "\r",
      "Upgrading database; v7 -> v8: 100%|██████████| 1/1 [00:00<00:00, 916.79it/s]"
     ]
    },
    {
     "name": "stdout",
     "output_type": "stream",
     "text": [
      "\n",
      "\r",
      "  0%|          | 0/1 [00:00<?, ?it/s]"
     ]
    },
    {
     "name": "stdout",
     "output_type": "stream",
     "text": [
      "\r",
      "Upgrading database; v8 -> v9:   0%|          | 0/1 [00:00<?, ?it/s]"
     ]
    },
    {
     "name": "stdout",
     "output_type": "stream",
     "text": [
      "\r",
      "Upgrading database; v8 -> v9: 100%|██████████| 1/1 [00:00<00:00, 1090.00it/s]"
     ]
    },
    {
     "name": "stdout",
     "output_type": "stream",
     "text": [
      "\n"
     ]
    }
   ],
   "source": [
    "initialise_database()\n",
    "exp = load_or_create_experiment(experiment_name='tutorial_exp', sample_name=\"no sample\")"
   ]
  },
  {
   "cell_type": "markdown",
   "metadata": {},
   "source": [
    "Here, we define a simple function to benchmark the time it takes to insert n points with either numeric or array data type.\n",
    "We will compare both the time used to call ``add_result`` and the time used for the full measurement."
   ]
  },
  {
   "cell_type": "code",
   "execution_count": 4,
   "metadata": {
    "execution": {
     "iopub.execute_input": "2021-02-21T19:15:08.962162Z",
     "iopub.status.busy": "2021-02-21T19:15:08.961202Z",
     "iopub.status.idle": "2021-02-21T19:15:08.965032Z",
     "shell.execute_reply": "2021-02-21T19:15:08.964335Z"
    }
   },
   "outputs": [],
   "source": [
    "def insert_data(paramtype, npoints, nreps=1):\n",
    "\n",
    "    meas = Measurement(exp=exp)\n",
    "\n",
    "    x1 = ManualParameter('x1')\n",
    "    x2 = ManualParameter('x2')\n",
    "    x3 = ManualParameter('x3')\n",
    "    y1 = ManualParameter('y1')\n",
    "    y2 = ManualParameter('y2')\n",
    "\n",
    "    meas.register_parameter(x1, paramtype=paramtype)\n",
    "    meas.register_parameter(x2, paramtype=paramtype)\n",
    "    meas.register_parameter(x3, paramtype=paramtype)\n",
    "    meas.register_parameter(y1, setpoints=[x1, x2, x3],\n",
    "                            paramtype=paramtype)\n",
    "    meas.register_parameter(y2, setpoints=[x1, x2, x3],\n",
    "                            paramtype=paramtype)\n",
    "    start = time.perf_counter()\n",
    "    with meas.run() as datasaver:\n",
    "        start_adding = time.perf_counter()\n",
    "        for i in range(nreps):\n",
    "            datasaver.add_result((x1, np.random.rand(npoints)),\n",
    "                                 (x2, np.random.rand(npoints)),\n",
    "                                 (x3, np.random.rand(npoints)),\n",
    "                                 (y1, np.random.rand(npoints)),\n",
    "                                 (y2, np.random.rand(npoints)))\n",
    "        stop_adding = time.perf_counter()\n",
    "        run_id = datasaver.run_id\n",
    "    stop = time.perf_counter()\n",
    "    tot_time = stop - start\n",
    "    add_time = stop_adding - start_adding\n",
    "    return tot_time, add_time, run_id"
   ]
  },
  {
   "cell_type": "markdown",
   "metadata": {},
   "source": [
    "## Comparison between numeric/array data and binary blob"
   ]
  },
  {
   "cell_type": "markdown",
   "metadata": {},
   "source": [
    "### Case1: Short experiment time"
   ]
  },
  {
   "cell_type": "code",
   "execution_count": 5,
   "metadata": {
    "execution": {
     "iopub.execute_input": "2021-02-21T19:15:08.971390Z",
     "iopub.status.busy": "2021-02-21T19:15:08.970705Z",
     "iopub.status.idle": "2021-02-21T19:15:09.611509Z",
     "shell.execute_reply": "2021-02-21T19:15:09.610624Z"
    }
   },
   "outputs": [
    {
     "name": "stdout",
     "output_type": "stream",
     "text": [
      "Starting experimental run with id: 1. \n",
      "Starting experimental run with id: 2. \n",
      "Starting experimental run with id: 3. \n",
      "Starting experimental run with id: 4. \n",
      "Starting experimental run with id: 5. \n",
      "Starting experimental run with id: 6. \n"
     ]
    },
    {
     "name": "stdout",
     "output_type": "stream",
     "text": [
      "Starting experimental run with id: 7. \n"
     ]
    },
    {
     "name": "stdout",
     "output_type": "stream",
     "text": [
      "Starting experimental run with id: 8. \n"
     ]
    },
    {
     "name": "stdout",
     "output_type": "stream",
     "text": [
      "Starting experimental run with id: 9. \n",
      "Starting experimental run with id: 10. \n",
      "Starting experimental run with id: 11. \n"
     ]
    },
    {
     "name": "stdout",
     "output_type": "stream",
     "text": [
      "Starting experimental run with id: 12. \n",
      "Starting experimental run with id: 13. \n",
      "Starting experimental run with id: 14. \n"
     ]
    }
   ],
   "source": [
    "sizes = [1,500,1000,2000,3000,4000,5000]\n",
    "t_numeric = []\n",
    "t_numeric_add = []\n",
    "t_array = []\n",
    "t_array_add = []\n",
    "for size in sizes:\n",
    "    tn, tna, run_id_n =  insert_data('numeric', size)\n",
    "    t_numeric.append(tn)\n",
    "    t_numeric_add.append(tna)\n",
    "\n",
    "    ta, taa, run_id_a =  insert_data('array', size)\n",
    "    t_array.append(ta)\n",
    "    t_array_add.append(taa)"
   ]
  },
  {
   "cell_type": "code",
   "execution_count": 6,
   "metadata": {
    "execution": {
     "iopub.execute_input": "2021-02-21T19:15:09.658116Z",
     "iopub.status.busy": "2021-02-21T19:15:09.627825Z",
     "iopub.status.idle": "2021-02-21T19:15:09.841966Z",
     "shell.execute_reply": "2021-02-21T19:15:09.842600Z"
    }
   },
   "outputs": [
    {
     "data": {
      "image/png": "[encoded data removed]",
      "text/plain": [
       "<Figure size 432x288 with 1 Axes>"
      ]
     },
     "metadata": {
      "needs_background": "light"
     },
     "output_type": "display_data"
    }
   ],
   "source": [
    "fig, ax = plt.subplots(1,1)\n",
    "ax.plot(sizes, t_numeric, 'o-', label='Inserting row-by-row')\n",
    "ax.plot(sizes, t_numeric_add, 'o-', label='Inserting row-by-row: add_result only')\n",
    "ax.plot(sizes, t_array, 'd-', label='Inserting as binary blob')\n",
    "ax.plot(sizes, t_array_add, 'd-', label='Inserting as binary blob: add_result only')\n",
    "ax.legend()\n",
    "ax.set_xlabel('Array length')\n",
    "ax.set_ylabel('Time (s)')\n",
    "fig.tight_layout()"
   ]
  },
  {
   "cell_type": "markdown",
   "metadata": {},
   "source": [
    "As shown in the latter figure, the time to setup and and close the experiment is approximately 0.4 sec. In case of small array sizes, the difference between inserting values of data as arrays and inserting them row-by-row is relatively unimportant. At larger array sizes, i.e. above 10000 points, the cost of writing data as individual datapoints starts to become important.\n"
   ]
  },
  {
   "cell_type": "markdown",
   "metadata": {},
   "source": [
    "### Case2: Long experiment time "
   ]
  },
  {
   "cell_type": "code",
   "execution_count": 7,
   "metadata": {
    "execution": {
     "iopub.execute_input": "2021-02-21T19:15:09.849771Z",
     "iopub.status.busy": "2021-02-21T19:15:09.848777Z",
     "iopub.status.idle": "2021-02-21T19:15:59.410447Z",
     "shell.execute_reply": "2021-02-21T19:15:59.409393Z"
    }
   },
   "outputs": [
    {
     "name": "stdout",
     "output_type": "stream",
     "text": [
      "Starting experimental run with id: 15. \n",
      "Starting experimental run with id: 16. \n",
      "Starting experimental run with id: 17. \n"
     ]
    },
    {
     "name": "stdout",
     "output_type": "stream",
     "text": [
      "Starting experimental run with id: 18. \n",
      "Starting experimental run with id: 19. \n"
     ]
    },
    {
     "name": "stdout",
     "output_type": "stream",
     "text": [
      "Starting experimental run with id: 20. \n"
     ]
    },
    {
     "name": "stdout",
     "output_type": "stream",
     "text": [
      "Starting experimental run with id: 21. \n"
     ]
    },
    {
     "name": "stdout",
     "output_type": "stream",
     "text": [
      "Starting experimental run with id: 22. \n"
     ]
    },
    {
     "name": "stdout",
     "output_type": "stream",
     "text": [
      "Starting experimental run with id: 23. \n"
     ]
    },
    {
     "name": "stdout",
     "output_type": "stream",
     "text": [
      "Starting experimental run with id: 24. \n"
     ]
    },
    {
     "name": "stdout",
     "output_type": "stream",
     "text": [
      "Starting experimental run with id: 25. \n"
     ]
    },
    {
     "name": "stdout",
     "output_type": "stream",
     "text": [
      "Starting experimental run with id: 26. \n"
     ]
    },
    {
     "name": "stdout",
     "output_type": "stream",
     "text": [
      "Starting experimental run with id: 27. \n"
     ]
    },
    {
     "name": "stdout",
     "output_type": "stream",
     "text": [
      "Starting experimental run with id: 28. \n"
     ]
    }
   ],
   "source": [
    "sizes = [1,500,1000,2000,3000,4000,5000]\n",
    "nreps = 100\n",
    "t_numeric = []\n",
    "t_numeric_add = []\n",
    "t_numeric_run_ids = []\n",
    "t_array = []\n",
    "t_array_add = []\n",
    "t_array_run_ids = []\n",
    "for size in sizes:\n",
    "    tn, tna, run_id_n =  insert_data('numeric', size, nreps=nreps)\n",
    "    t_numeric.append(tn)\n",
    "    t_numeric_add.append(tna)\n",
    "    t_numeric_run_ids.append(run_id_n)\n",
    "\n",
    "    ta, taa, run_id_a =  insert_data('array', size, nreps=nreps)\n",
    "    t_array.append(ta)\n",
    "    t_array_add.append(taa)\n",
    "    t_array_run_ids.append(run_id_a)"
   ]
  },
  {
   "cell_type": "code",
   "execution_count": 8,
   "metadata": {
    "execution": {
     "iopub.execute_input": "2021-02-21T19:15:59.461722Z",
     "iopub.status.busy": "2021-02-21T19:15:59.460773Z",
     "iopub.status.idle": "2021-02-21T19:15:59.639793Z",
     "shell.execute_reply": "2021-02-21T19:15:59.638896Z"
    },
    "scrolled": true
   },
   "outputs": [
    {
     "data": {
      "image/png": "[encoded data removed]",
      "text/plain": [
       "<Figure size 432x288 with 1 Axes>"
      ]
     },
     "metadata": {
      "needs_background": "light"
     },
     "output_type": "display_data"
    }
   ],
   "source": [
    "fig, ax = plt.subplots(1,1)\n",
    "ax.plot(sizes, t_numeric, 'o-', label='Inserting row-by-row')\n",
    "ax.plot(sizes, t_numeric_add, 'o-', label='Inserting row-by-row: add_result only')\n",
    "ax.plot(sizes, t_array, 'd-', label='Inserting as binary blob')\n",
    "ax.plot(sizes, t_array_add, 'd-', label='Inserting as binary blob: add_result only')\n",
    "ax.legend()\n",
    "ax.set_xlabel('Array length')\n",
    "ax.set_ylabel('Time (s)')\n",
    "fig.tight_layout()"
   ]
  },
  {
   "cell_type": "markdown",
   "metadata": {},
   "source": [
    "However, as we increase the length of the experiment, as seen here by repeating the insertion 100 times, we see a big difference between inserting values of the data row-by-row and inserting it as a binary blob."
   ]
  },
  {
   "cell_type": "markdown",
   "metadata": {},
   "source": [
    "## Loading the data "
   ]
  },
  {
   "cell_type": "code",
   "execution_count": 9,
   "metadata": {
    "execution": {
     "iopub.execute_input": "2021-02-21T19:15:59.643496Z",
     "iopub.status.busy": "2021-02-21T19:15:59.642399Z",
     "iopub.status.idle": "2021-02-21T19:15:59.646313Z",
     "shell.execute_reply": "2021-02-21T19:15:59.645867Z"
    }
   },
   "outputs": [],
   "source": [
    "from qcodes.dataset.data_set import load_by_id\n",
    "from qcodes.dataset.data_export import get_data_by_id"
   ]
  },
  {
   "cell_type": "markdown",
   "metadata": {},
   "source": [
    "As usual you can load the data by using the ``load_by_id`` function but you will notice that the different storage methods\n",
    "are reflected in shape of the data as it is retrieved. "
   ]
  },
  {
   "cell_type": "code",
   "execution_count": 10,
   "metadata": {
    "execution": {
     "iopub.execute_input": "2021-02-21T19:15:59.649670Z",
     "iopub.status.busy": "2021-02-21T19:15:59.648968Z",
     "iopub.status.idle": "2021-02-21T19:15:59.653001Z",
     "shell.execute_reply": "2021-02-21T19:15:59.652288Z"
    }
   },
   "outputs": [],
   "source": [
    "run_id_n = t_numeric_run_ids[0]\n",
    "run_id_a = t_array_run_ids[0]"
   ]
  },
  {
   "cell_type": "code",
   "execution_count": 11,
   "metadata": {
    "execution": {
     "iopub.execute_input": "2021-02-21T19:15:59.655970Z",
     "iopub.status.busy": "2021-02-21T19:15:59.655446Z",
     "iopub.status.idle": "2021-02-21T19:15:59.663582Z",
     "shell.execute_reply": "2021-02-21T19:15:59.664037Z"
    },
    "scrolled": true
   },
   "outputs": [
    {
     "data": {
      "text/plain": [
       "{'x1': {'x1': array([0.93095624, 0.93095624, 0.19193948, 0.19193948, 0.71948553,\n",
       "         0.71948553, 0.19566246, 0.19566246, 0.45688728, 0.45688728,\n",
       "         0.72405042, 0.72405042, 0.28573407, 0.28573407, 0.37160044,\n",
       "         0.37160044, 0.3131221 , 0.3131221 , 0.56450893, 0.56450893,\n",
       "         0.73702856, 0.73702856, 0.50338574, 0.50338574, 0.01816637,\n",
       "         0.01816637, 0.57367794, 0.57367794, 0.3433511 , 0.3433511 ,\n",
       "         0.69819958, 0.69819958, 0.96898287, 0.96898287, 0.55212961,\n",
       "         0.55212961, 0.73421843, 0.73421843, 0.2120668 , 0.2120668 ,\n",
       "         0.64123136, 0.64123136, 0.9701924 , 0.9701924 , 0.12403133,\n",
       "         0.12403133, 0.03233634, 0.03233634, 0.75101876, 0.75101876,\n",
       "         0.63292997, 0.63292997, 0.52691703, 0.52691703, 0.33887997,\n",
       "         0.33887997, 0.06163908, 0.06163908, 0.61064934, 0.61064934,\n",
       "         0.35299371, 0.35299371, 0.79873989, 0.79873989, 0.64829187,\n",
       "         0.64829187, 0.90929747, 0.90929747, 0.51697263, 0.51697263,\n",
       "         0.30436177, 0.30436177, 0.72257731, 0.72257731, 0.82804776,\n",
       "         0.82804776, 0.01408738, 0.01408738, 0.89754428, 0.89754428,\n",
       "         0.97023294, 0.97023294, 0.50168088, 0.50168088, 0.38683195,\n",
       "         0.38683195, 0.58891308, 0.58891308, 0.93669708, 0.93669708,\n",
       "         0.75069796, 0.75069796, 0.98243941, 0.98243941, 0.07549253,\n",
       "         0.07549253, 0.36618629, 0.36618629, 0.90496634, 0.90496634,\n",
       "         0.39490068, 0.39490068, 0.77041724, 0.77041724, 0.77190795,\n",
       "         0.77190795, 0.6021304 , 0.6021304 , 0.09908691, 0.09908691,\n",
       "         0.78410915, 0.78410915, 0.03495083, 0.03495083, 0.85524266,\n",
       "         0.85524266, 0.87198877, 0.87198877, 0.93260209, 0.93260209,\n",
       "         0.78347514, 0.78347514, 0.21443583, 0.21443583, 0.73709624,\n",
       "         0.73709624, 0.40140889, 0.40140889, 0.07663888, 0.07663888,\n",
       "         0.04196832, 0.04196832, 0.25147921, 0.25147921, 0.56310193,\n",
       "         0.56310193, 0.14717788, 0.14717788, 0.7057896 , 0.7057896 ,\n",
       "         0.42291137, 0.42291137, 0.99201185, 0.99201185, 0.33039323,\n",
       "         0.33039323, 0.57835802, 0.57835802, 0.71258643, 0.71258643,\n",
       "         0.96239468, 0.96239468, 0.36134364, 0.36134364, 0.1828799 ,\n",
       "         0.1828799 , 0.87345379, 0.87345379, 0.28893111, 0.28893111,\n",
       "         0.9940365 , 0.9940365 , 0.3138133 , 0.3138133 , 0.89789407,\n",
       "         0.89789407, 0.9146661 , 0.9146661 , 0.35561284, 0.35561284,\n",
       "         0.29080152, 0.29080152, 0.50082496, 0.50082496, 0.73801934,\n",
       "         0.73801934, 0.84262949, 0.84262949, 0.47268199, 0.47268199,\n",
       "         0.25787551, 0.25787551, 0.79635285, 0.79635285, 0.9639979 ,\n",
       "         0.9639979 , 0.27049995, 0.27049995, 0.10507244, 0.10507244,\n",
       "         0.11364842, 0.11364842, 0.59860925, 0.59860925, 0.7076963 ,\n",
       "         0.7076963 , 0.23409756, 0.23409756, 0.78019812, 0.78019812])}}"
      ]
     },
     "execution_count": 1,
     "metadata": {},
     "output_type": "execute_result"
    }
   ],
   "source": [
    "ds = load_by_id(run_id_n)\n",
    "ds.get_parameter_data('x1')"
   ]
  },
  {
   "cell_type": "markdown",
   "metadata": {},
   "source": [
    "And a dataset stored as binary arrays"
   ]
  },
  {
   "cell_type": "code",
   "execution_count": 12,
   "metadata": {
    "execution": {
     "iopub.execute_input": "2021-02-21T19:15:59.667244Z",
     "iopub.status.busy": "2021-02-21T19:15:59.666685Z",
     "iopub.status.idle": "2021-02-21T19:15:59.722052Z",
     "shell.execute_reply": "2021-02-21T19:15:59.721634Z"
    },
    "scrolled": true
   },
   "outputs": [
    {
     "data": {
      "text/plain": [
       "{'x1': {'x1': array([[0.73800029],\n",
       "         [0.73800029],\n",
       "         [0.41497692],\n",
       "         [0.41497692],\n",
       "         [0.1757457 ],\n",
       "         [0.1757457 ],\n",
       "         [0.74905133],\n",
       "         [0.74905133],\n",
       "         [0.3047988 ],\n",
       "         [0.3047988 ],\n",
       "         [0.85824106],\n",
       "         [0.85824106],\n",
       "         [0.78898765],\n",
       "         [0.78898765],\n",
       "         [0.83713567],\n",
       "         [0.83713567],\n",
       "         [0.68225852],\n",
       "         [0.68225852],\n",
       "         [0.49932263],\n",
       "         [0.49932263],\n",
       "         [0.13825095],\n",
       "         [0.13825095],\n",
       "         [0.2865107 ],\n",
       "         [0.2865107 ],\n",
       "         [0.56276857],\n",
       "         [0.56276857],\n",
       "         [0.30539488],\n",
       "         [0.30539488],\n",
       "         [0.38642387],\n",
       "         [0.38642387],\n",
       "         [0.42308483],\n",
       "         [0.42308483],\n",
       "         [0.41484924],\n",
       "         [0.41484924],\n",
       "         [0.71408096],\n",
       "         [0.71408096],\n",
       "         [0.70748583],\n",
       "         [0.70748583],\n",
       "         [0.89511845],\n",
       "         [0.89511845],\n",
       "         [0.79434628],\n",
       "         [0.79434628],\n",
       "         [0.79004043],\n",
       "         [0.79004043],\n",
       "         [0.01711405],\n",
       "         [0.01711405],\n",
       "         [0.44146314],\n",
       "         [0.44146314],\n",
       "         [0.16182151],\n",
       "         [0.16182151],\n",
       "         [0.86948051],\n",
       "         [0.86948051],\n",
       "         [0.46521744],\n",
       "         [0.46521744],\n",
       "         [0.07419143],\n",
       "         [0.07419143],\n",
       "         [0.34294275],\n",
       "         [0.34294275],\n",
       "         [0.42378359],\n",
       "         [0.42378359],\n",
       "         [0.91183695],\n",
       "         [0.91183695],\n",
       "         [0.10410418],\n",
       "         [0.10410418],\n",
       "         [0.23546132],\n",
       "         [0.23546132],\n",
       "         [0.74879776],\n",
       "         [0.74879776],\n",
       "         [0.05516029],\n",
       "         [0.05516029],\n",
       "         [0.88457668],\n",
       "         [0.88457668],\n",
       "         [0.11651521],\n",
       "         [0.11651521],\n",
       "         [0.89402224],\n",
       "         [0.89402224],\n",
       "         [0.99446194],\n",
       "         [0.99446194],\n",
       "         [0.17249201],\n",
       "         [0.17249201],\n",
       "         [0.62985896],\n",
       "         [0.62985896],\n",
       "         [0.29058212],\n",
       "         [0.29058212],\n",
       "         [0.14232643],\n",
       "         [0.14232643],\n",
       "         [0.17404353],\n",
       "         [0.17404353],\n",
       "         [0.2823823 ],\n",
       "         [0.2823823 ],\n",
       "         [0.22909764],\n",
       "         [0.22909764],\n",
       "         [0.2049488 ],\n",
       "         [0.2049488 ],\n",
       "         [0.59561523],\n",
       "         [0.59561523],\n",
       "         [0.78291421],\n",
       "         [0.78291421],\n",
       "         [0.31716522],\n",
       "         [0.31716522],\n",
       "         [0.06777554],\n",
       "         [0.06777554],\n",
       "         [0.8455402 ],\n",
       "         [0.8455402 ],\n",
       "         [0.51711486],\n",
       "         [0.51711486],\n",
       "         [0.40773974],\n",
       "         [0.40773974],\n",
       "         [0.2190465 ],\n",
       "         [0.2190465 ],\n",
       "         [0.0344092 ],\n",
       "         [0.0344092 ],\n",
       "         [0.23122699],\n",
       "         [0.23122699],\n",
       "         [0.38143975],\n",
       "         [0.38143975],\n",
       "         [0.81246874],\n",
       "         [0.81246874],\n",
       "         [0.33890002],\n",
       "         [0.33890002],\n",
       "         [0.51137337],\n",
       "         [0.51137337],\n",
       "         [0.54405065],\n",
       "         [0.54405065],\n",
       "         [0.82859641],\n",
       "         [0.82859641],\n",
       "         [0.95953731],\n",
       "         [0.95953731],\n",
       "         [0.5394733 ],\n",
       "         [0.5394733 ],\n",
       "         [0.33575261],\n",
       "         [0.33575261],\n",
       "         [0.06443666],\n",
       "         [0.06443666],\n",
       "         [0.1328143 ],\n",
       "         [0.1328143 ],\n",
       "         [0.42897043],\n",
       "         [0.42897043],\n",
       "         [0.6399628 ],\n",
       "         [0.6399628 ],\n",
       "         [0.14977358],\n",
       "         [0.14977358],\n",
       "         [0.24845312],\n",
       "         [0.24845312],\n",
       "         [0.51558233],\n",
       "         [0.51558233],\n",
       "         [0.71983497],\n",
       "         [0.71983497],\n",
       "         [0.59223584],\n",
       "         [0.59223584],\n",
       "         [0.38488046],\n",
       "         [0.38488046],\n",
       "         [0.1854737 ],\n",
       "         [0.1854737 ],\n",
       "         [0.81679894],\n",
       "         [0.81679894],\n",
       "         [0.29313263],\n",
       "         [0.29313263],\n",
       "         [0.18816195],\n",
       "         [0.18816195],\n",
       "         [0.84214739],\n",
       "         [0.84214739],\n",
       "         [0.23373604],\n",
       "         [0.23373604],\n",
       "         [0.540232  ],\n",
       "         [0.540232  ],\n",
       "         [0.67173334],\n",
       "         [0.67173334],\n",
       "         [0.92625234],\n",
       "         [0.92625234],\n",
       "         [0.92719657],\n",
       "         [0.92719657],\n",
       "         [0.94950305],\n",
       "         [0.94950305],\n",
       "         [0.47952401],\n",
       "         [0.47952401],\n",
       "         [0.3699185 ],\n",
       "         [0.3699185 ],\n",
       "         [0.22114991],\n",
       "         [0.22114991],\n",
       "         [0.70216716],\n",
       "         [0.70216716],\n",
       "         [0.24817583],\n",
       "         [0.24817583],\n",
       "         [0.79555791],\n",
       "         [0.79555791],\n",
       "         [0.64127507],\n",
       "         [0.64127507],\n",
       "         [0.43291716],\n",
       "         [0.43291716],\n",
       "         [0.04862694],\n",
       "         [0.04862694],\n",
       "         [0.86284619],\n",
       "         [0.86284619],\n",
       "         [0.9235191 ],\n",
       "         [0.9235191 ],\n",
       "         [0.30824546],\n",
       "         [0.30824546],\n",
       "         [0.89462714],\n",
       "         [0.89462714]])}}"
      ]
     },
     "execution_count": 1,
     "metadata": {},
     "output_type": "execute_result"
    }
   ],
   "source": [
    "ds = load_by_id(run_id_a)\n",
    "ds.get_parameter_data('x1')"
   ]
  },
  {
   "cell_type": "code",
   "execution_count": null,
   "metadata": {},
   "outputs": [],
   "source": []
  }
 ],
 "metadata": {
  "kernelspec": {
   "display_name": "Python 3",
   "language": "python",
   "name": "python3"
  },
  "language_info": {
   "codemirror_mode": {
    "name": "ipython",
    "version": 3
   },
   "file_extension": ".py",
   "mimetype": "text/x-python",
   "name": "python",
   "nbconvert_exporter": "python",
   "pygments_lexer": "ipython3",
   "version": "3.7.9"
  },
  "nbsphinx": {
   "timeout": 600
  },
  "toc": {
   "base_numbering": 1,
   "nav_menu": {},
   "number_sections": true,
   "sideBar": true,
   "skip_h1_title": false,
   "title_cell": "Table of Contents",
   "title_sidebar": "Contents",
   "toc_cell": false,
   "toc_position": {},
   "toc_section_display": true,
   "toc_window_display": false
  },
  "varInspector": {
   "cols": {
    "lenName": 16,
    "lenType": 16,
    "lenVar": 40
   },
   "kernels_config": {
    "python": {
     "delete_cmd_postfix": "",
     "delete_cmd_prefix": "del ",
     "library": "var_list.py",
     "varRefreshCmd": "print(var_dic_list())"
    },
    "r": {
     "delete_cmd_postfix": ") ",
     "delete_cmd_prefix": "rm(",
     "library": "var_list.r",
     "varRefreshCmd": "cat(var_dic_list()) "
    }
   },
   "types_to_exclude": [
    "module",
    "function",
    "builtin_function_or_method",
    "instance",
    "_Feature"
   ],
   "window_display": false
  }
 },
 "nbformat": 4,
 "nbformat_minor": 2
}
