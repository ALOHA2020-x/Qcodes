{
 "cells": [
  {
   "cell_type": "markdown",
   "metadata": {},
   "source": [
    "# DataSet Performance\n",
    "\n",
    "This notebook shows the trade-off between inserting data into a database row-by-row and as binary blobs. Inserting the data row-by-row means that we have direct access to all the data and may perform queries directly on the values of the data. On the other hand, as we shall see, this is much slower than inserting the data directly as binary blobs."
   ]
  },
  {
   "cell_type": "markdown",
   "metadata": {},
   "source": [
    "First, we choose a new location for the database to ensure that we don't add a bunch of benchmarking data to the default one."
   ]
  },
  {
   "cell_type": "code",
   "execution_count": 1,
   "metadata": {
    "execution": {
     "iopub.execute_input": "2021-01-26T08:01:47.271722Z",
     "iopub.status.busy": "2021-01-26T08:01:47.271213Z",
     "iopub.status.idle": "2021-01-26T08:01:48.323246Z",
     "shell.execute_reply": "2021-01-26T08:01:48.322689Z"
    }
   },
   "outputs": [
    {
     "name": "stdout",
     "output_type": "stream",
     "text": [
      "Logging hadn't been started.\n",
      "Activating auto-logging. Current session state plus future input saved.\n",
      "Filename       : /home/vsts/.qcodes/logs/command_history.log\n",
      "Mode           : append\n",
      "Output logging : True\n",
      "Raw input log  : False\n",
      "Timestamping   : True\n",
      "State          : active\n"
     ]
    },
    {
     "name": "stdout",
     "output_type": "stream",
     "text": [
      "Qcodes Logfile : /home/vsts/.qcodes/logs/210126-13448-qcodes.log\n"
     ]
    }
   ],
   "source": [
    "import os\n",
    "cwd = os.getcwd()\n",
    "import qcodes as qc\n",
    "qc.config[\"core\"][\"db_location\"] = os.path.join(cwd, 'testing.db')\n"
   ]
  },
  {
   "cell_type": "code",
   "execution_count": 2,
   "metadata": {
    "execution": {
     "iopub.execute_input": "2021-01-26T08:01:48.330701Z",
     "iopub.status.busy": "2021-01-26T08:01:48.329199Z",
     "iopub.status.idle": "2021-01-26T08:01:48.524400Z",
     "shell.execute_reply": "2021-01-26T08:01:48.523911Z"
    }
   },
   "outputs": [],
   "source": [
    "%matplotlib inline\n",
    "import time\n",
    "import matplotlib.pyplot as plt\n",
    "import numpy as np\n",
    "\n",
    "import qcodes as qc\n",
    "from qcodes.instrument.parameter import ManualParameter\n",
    "from qcodes.dataset.experiment_container import (Experiment,\n",
    "                                                 load_last_experiment,\n",
    "                                                 new_experiment)\n",
    "from qcodes.dataset.sqlite.database import initialise_database\n",
    "from qcodes import load_or_create_experiment\n",
    "from qcodes.dataset.measurements import Measurement"
   ]
  },
  {
   "cell_type": "code",
   "execution_count": 3,
   "metadata": {
    "execution": {
     "iopub.execute_input": "2021-01-26T08:01:48.528657Z",
     "iopub.status.busy": "2021-01-26T08:01:48.527955Z",
     "iopub.status.idle": "2021-01-26T08:01:48.657947Z",
     "shell.execute_reply": "2021-01-26T08:01:48.657479Z"
    }
   },
   "outputs": [
    {
     "name": "stdout",
     "output_type": "stream",
     "text": [
      "\r",
      "0it [00:00, ?it/s]"
     ]
    },
    {
     "name": "stdout",
     "output_type": "stream",
     "text": [
      "\r",
      "Upgrading database; v0 -> v1: : 0it [00:00, ?it/s]"
     ]
    },
    {
     "name": "stdout",
     "output_type": "stream",
     "text": [
      "\r",
      "Upgrading database; v0 -> v1: : 0it [00:00, ?it/s]"
     ]
    },
    {
     "name": "stdout",
     "output_type": "stream",
     "text": [
      "\n",
      "\r",
      "  0%|          | 0/1 [00:00<?, ?it/s]"
     ]
    },
    {
     "name": "stdout",
     "output_type": "stream",
     "text": [
      "\r",
      "Upgrading database; v1 -> v2:   0%|          | 0/1 [00:00<?, ?it/s]"
     ]
    },
    {
     "name": "stdout",
     "output_type": "stream",
     "text": [
      "\r",
      "Upgrading database; v1 -> v2: 100%|██████████| 1/1 [00:00<00:00, 1158.65it/s]"
     ]
    },
    {
     "name": "stdout",
     "output_type": "stream",
     "text": [
      "\n",
      "\r",
      "0it [00:00, ?it/s]"
     ]
    },
    {
     "name": "stdout",
     "output_type": "stream",
     "text": [
      "\r",
      "Upgrading database; v2 -> v3: : 0it [00:00, ?it/s]"
     ]
    },
    {
     "name": "stdout",
     "output_type": "stream",
     "text": [
      "\r",
      "Upgrading database; v2 -> v3: : 0it [00:00, ?it/s]"
     ]
    },
    {
     "name": "stdout",
     "output_type": "stream",
     "text": [
      "\n",
      "\r",
      "0it [00:00, ?it/s]"
     ]
    },
    {
     "name": "stdout",
     "output_type": "stream",
     "text": [
      "\r",
      "Upgrading database; v3 -> v4: : 0it [00:00, ?it/s]"
     ]
    },
    {
     "name": "stdout",
     "output_type": "stream",
     "text": [
      "\r",
      "Upgrading database; v3 -> v4: : 0it [00:00, ?it/s]"
     ]
    },
    {
     "name": "stdout",
     "output_type": "stream",
     "text": [
      "\n",
      "\r",
      "  0%|          | 0/1 [00:00<?, ?it/s]"
     ]
    },
    {
     "name": "stdout",
     "output_type": "stream",
     "text": [
      "\r",
      "Upgrading database; v4 -> v5:   0%|          | 0/1 [00:00<?, ?it/s]"
     ]
    },
    {
     "name": "stdout",
     "output_type": "stream",
     "text": [
      "\r",
      "Upgrading database; v4 -> v5: 100%|██████████| 1/1 [00:00<00:00, 468.58it/s]"
     ]
    },
    {
     "name": "stdout",
     "output_type": "stream",
     "text": [
      "\n",
      "\r",
      "0it [00:00, ?it/s]"
     ]
    },
    {
     "name": "stdout",
     "output_type": "stream",
     "text": [
      "\r",
      "Upgrading database; v5 -> v6: : 0it [00:00, ?it/s]"
     ]
    },
    {
     "name": "stdout",
     "output_type": "stream",
     "text": [
      "\r",
      "Upgrading database; v5 -> v6: : 0it [00:00, ?it/s]"
     ]
    },
    {
     "name": "stdout",
     "output_type": "stream",
     "text": [
      "\n",
      "\r",
      "  0%|          | 0/1 [00:00<?, ?it/s]"
     ]
    },
    {
     "name": "stdout",
     "output_type": "stream",
     "text": [
      "\r",
      "Upgrading database; v6 -> v7:   0%|          | 0/1 [00:00<?, ?it/s]"
     ]
    },
    {
     "name": "stdout",
     "output_type": "stream",
     "text": [
      "\r",
      "Upgrading database; v6 -> v7: 100%|██████████| 1/1 [00:00<00:00, 310.32it/s]"
     ]
    },
    {
     "name": "stdout",
     "output_type": "stream",
     "text": [
      "\n",
      "\r",
      "  0%|          | 0/1 [00:00<?, ?it/s]"
     ]
    },
    {
     "name": "stdout",
     "output_type": "stream",
     "text": [
      "\r",
      "Upgrading database; v7 -> v8:   0%|          | 0/1 [00:00<?, ?it/s]"
     ]
    },
    {
     "name": "stdout",
     "output_type": "stream",
     "text": [
      "\r",
      "Upgrading database; v7 -> v8: 100%|██████████| 1/1 [00:00<00:00, 422.47it/s]"
     ]
    },
    {
     "name": "stdout",
     "output_type": "stream",
     "text": [
      "\n",
      "\r",
      "  0%|          | 0/1 [00:00<?, ?it/s]"
     ]
    },
    {
     "name": "stdout",
     "output_type": "stream",
     "text": [
      "\r",
      "Upgrading database; v8 -> v9:   0%|          | 0/1 [00:00<?, ?it/s]"
     ]
    },
    {
     "name": "stdout",
     "output_type": "stream",
     "text": [
      "\r",
      "Upgrading database; v8 -> v9: 100%|██████████| 1/1 [00:00<00:00, 479.62it/s]"
     ]
    },
    {
     "name": "stdout",
     "output_type": "stream",
     "text": [
      "\n"
     ]
    }
   ],
   "source": [
    "initialise_database()\n",
    "exp = load_or_create_experiment(experiment_name='tutorial_exp', sample_name=\"no sample\")"
   ]
  },
  {
   "cell_type": "markdown",
   "metadata": {},
   "source": [
    "Here, we define a simple function to benchmark the time it takes to insert n points with either numeric or array data type.\n",
    "We will compare both the time used to call ``add_result`` and the time used for the full measurement."
   ]
  },
  {
   "cell_type": "code",
   "execution_count": 4,
   "metadata": {
    "execution": {
     "iopub.execute_input": "2021-01-26T08:01:48.667338Z",
     "iopub.status.busy": "2021-01-26T08:01:48.666086Z",
     "iopub.status.idle": "2021-01-26T08:01:48.667872Z",
     "shell.execute_reply": "2021-01-26T08:01:48.668392Z"
    }
   },
   "outputs": [],
   "source": [
    "def insert_data(paramtype, npoints, nreps=1):\n",
    "\n",
    "    meas = Measurement(exp=exp)\n",
    "\n",
    "    x1 = ManualParameter('x1')\n",
    "    x2 = ManualParameter('x2')\n",
    "    x3 = ManualParameter('x3')\n",
    "    y1 = ManualParameter('y1')\n",
    "    y2 = ManualParameter('y2')\n",
    "\n",
    "    meas.register_parameter(x1, paramtype=paramtype)\n",
    "    meas.register_parameter(x2, paramtype=paramtype)\n",
    "    meas.register_parameter(x3, paramtype=paramtype)\n",
    "    meas.register_parameter(y1, setpoints=[x1, x2, x3],\n",
    "                            paramtype=paramtype)\n",
    "    meas.register_parameter(y2, setpoints=[x1, x2, x3],\n",
    "                            paramtype=paramtype)\n",
    "    start = time.perf_counter()\n",
    "    with meas.run() as datasaver:\n",
    "        start_adding = time.perf_counter()\n",
    "        for i in range(nreps):\n",
    "            datasaver.add_result((x1, np.random.rand(npoints)),\n",
    "                                 (x2, np.random.rand(npoints)),\n",
    "                                 (x3, np.random.rand(npoints)),\n",
    "                                 (y1, np.random.rand(npoints)),\n",
    "                                 (y2, np.random.rand(npoints)))\n",
    "        stop_adding = time.perf_counter()\n",
    "        run_id = datasaver.run_id\n",
    "    stop = time.perf_counter()\n",
    "    tot_time = stop - start\n",
    "    add_time = stop_adding - start_adding\n",
    "    return tot_time, add_time, run_id"
   ]
  },
  {
   "cell_type": "markdown",
   "metadata": {},
   "source": [
    "## Comparison between numeric/array data and binary blob"
   ]
  },
  {
   "cell_type": "markdown",
   "metadata": {},
   "source": [
    "### Case1: Short experiment time"
   ]
  },
  {
   "cell_type": "code",
   "execution_count": 5,
   "metadata": {
    "execution": {
     "iopub.execute_input": "2021-01-26T08:01:48.675233Z",
     "iopub.status.busy": "2021-01-26T08:01:48.674639Z",
     "iopub.status.idle": "2021-01-26T08:01:49.621675Z",
     "shell.execute_reply": "2021-01-26T08:01:49.621167Z"
    }
   },
   "outputs": [
    {
     "name": "stdout",
     "output_type": "stream",
     "text": [
      "Starting experimental run with id: 1. \n",
      "Starting experimental run with id: 2. \n",
      "Starting experimental run with id: 3. \n",
      "Starting experimental run with id: 4. \n"
     ]
    },
    {
     "name": "stdout",
     "output_type": "stream",
     "text": [
      "Starting experimental run with id: 5. \n"
     ]
    },
    {
     "name": "stdout",
     "output_type": "stream",
     "text": [
      "Starting experimental run with id: 6. \n",
      "Starting experimental run with id: 7. \n"
     ]
    },
    {
     "name": "stdout",
     "output_type": "stream",
     "text": [
      "Starting experimental run with id: 8. \n",
      "Starting experimental run with id: 9. \n"
     ]
    },
    {
     "name": "stdout",
     "output_type": "stream",
     "text": [
      "Starting experimental run with id: 10. \n",
      "Starting experimental run with id: 11. \n"
     ]
    },
    {
     "name": "stdout",
     "output_type": "stream",
     "text": [
      "Starting experimental run with id: 12. \n"
     ]
    },
    {
     "name": "stdout",
     "output_type": "stream",
     "text": [
      "Starting experimental run with id: 13. \n"
     ]
    },
    {
     "name": "stdout",
     "output_type": "stream",
     "text": [
      "Starting experimental run with id: 14. \n"
     ]
    }
   ],
   "source": [
    "sizes = [1,500,1000,2000,3000,4000,5000]\n",
    "t_numeric = []\n",
    "t_numeric_add = []\n",
    "t_array = []\n",
    "t_array_add = []\n",
    "for size in sizes:\n",
    "    tn, tna, run_id_n =  insert_data('numeric', size)\n",
    "    t_numeric.append(tn)\n",
    "    t_numeric_add.append(tna)\n",
    "\n",
    "    ta, taa, run_id_a =  insert_data('array', size)\n",
    "    t_array.append(ta)\n",
    "    t_array_add.append(taa)"
   ]
  },
  {
   "cell_type": "code",
   "execution_count": 6,
   "metadata": {
    "execution": {
     "iopub.execute_input": "2021-01-26T08:01:49.651203Z",
     "iopub.status.busy": "2021-01-26T08:01:49.647473Z",
     "iopub.status.idle": "2021-01-26T08:01:49.830297Z",
     "shell.execute_reply": "2021-01-26T08:01:49.830845Z"
    }
   },
   "outputs": [
    {
     "data": {
      "image/png": "[encoded data removed]",
      "text/plain": [
       "<Figure size 432x288 with 1 Axes>"
      ]
     },
     "metadata": {
      "needs_background": "light"
     },
     "output_type": "display_data"
    }
   ],
   "source": [
    "fig, ax = plt.subplots(1,1)\n",
    "ax.plot(sizes, t_numeric, 'o-', label='Inserting row-by-row')\n",
    "ax.plot(sizes, t_numeric_add, 'o-', label='Inserting row-by-row: add_result only')\n",
    "ax.plot(sizes, t_array, 'd-', label='Inserting as binary blob')\n",
    "ax.plot(sizes, t_array_add, 'd-', label='Inserting as binary blob: add_result only')\n",
    "ax.legend()\n",
    "ax.set_xlabel('Array length')\n",
    "ax.set_ylabel('Time (s)')\n",
    "fig.tight_layout()"
   ]
  },
  {
   "cell_type": "markdown",
   "metadata": {},
   "source": [
    "As shown in the latter figure, the time to setup and and close the experiment is approximately 0.4 sec. In case of small array sizes, the difference between inserting values of data as arrays and inserting them row-by-row is relatively unimportant. At larger array sizes, i.e. above 10000 points, the cost of writing data as individual datapoints starts to become important.\n"
   ]
  },
  {
   "cell_type": "markdown",
   "metadata": {},
   "source": [
    "### Case2: Long experiment time "
   ]
  },
  {
   "cell_type": "code",
   "execution_count": 7,
   "metadata": {
    "execution": {
     "iopub.execute_input": "2021-01-26T08:01:49.847450Z",
     "iopub.status.busy": "2021-01-26T08:01:49.846895Z",
     "iopub.status.idle": "2021-01-26T08:02:53.396723Z",
     "shell.execute_reply": "2021-01-26T08:02:53.396225Z"
    }
   },
   "outputs": [
    {
     "name": "stdout",
     "output_type": "stream",
     "text": [
      "Starting experimental run with id: 15. \n",
      "Starting experimental run with id: 16. \n",
      "Starting experimental run with id: 17. \n"
     ]
    },
    {
     "name": "stdout",
     "output_type": "stream",
     "text": [
      "Starting experimental run with id: 18. \n",
      "Starting experimental run with id: 19. \n"
     ]
    },
    {
     "name": "stdout",
     "output_type": "stream",
     "text": [
      "Starting experimental run with id: 20. \n"
     ]
    },
    {
     "name": "stdout",
     "output_type": "stream",
     "text": [
      "Starting experimental run with id: 21. \n"
     ]
    },
    {
     "name": "stdout",
     "output_type": "stream",
     "text": [
      "Starting experimental run with id: 22. \n"
     ]
    },
    {
     "name": "stdout",
     "output_type": "stream",
     "text": [
      "Starting experimental run with id: 23. \n"
     ]
    },
    {
     "name": "stdout",
     "output_type": "stream",
     "text": [
      "Starting experimental run with id: 24. \n"
     ]
    },
    {
     "name": "stdout",
     "output_type": "stream",
     "text": [
      "Starting experimental run with id: 25. \n"
     ]
    },
    {
     "name": "stdout",
     "output_type": "stream",
     "text": [
      "Starting experimental run with id: 26. \n"
     ]
    },
    {
     "name": "stdout",
     "output_type": "stream",
     "text": [
      "Starting experimental run with id: 27. \n"
     ]
    },
    {
     "name": "stdout",
     "output_type": "stream",
     "text": [
      "Starting experimental run with id: 28. \n"
     ]
    }
   ],
   "source": [
    "sizes = [1,500,1000,2000,3000,4000,5000]\n",
    "nreps = 100\n",
    "t_numeric = []\n",
    "t_numeric_add = []\n",
    "t_numeric_run_ids = []\n",
    "t_array = []\n",
    "t_array_add = []\n",
    "t_array_run_ids = []\n",
    "for size in sizes:\n",
    "    tn, tna, run_id_n =  insert_data('numeric', size, nreps=nreps)\n",
    "    t_numeric.append(tn)\n",
    "    t_numeric_add.append(tna)\n",
    "    t_numeric_run_ids.append(run_id_n)\n",
    "\n",
    "    ta, taa, run_id_a =  insert_data('array', size, nreps=nreps)\n",
    "    t_array.append(ta)\n",
    "    t_array_add.append(taa)\n",
    "    t_array_run_ids.append(run_id_a)"
   ]
  },
  {
   "cell_type": "code",
   "execution_count": 8,
   "metadata": {
    "execution": {
     "iopub.execute_input": "2021-01-26T08:02:53.436621Z",
     "iopub.status.busy": "2021-01-26T08:02:53.414560Z",
     "iopub.status.idle": "2021-01-26T08:02:53.600118Z",
     "shell.execute_reply": "2021-01-26T08:02:53.600860Z"
    },
    "scrolled": true
   },
   "outputs": [
    {
     "data": {
      "image/png": "[encoded data removed]",
      "text/plain": [
       "<Figure size 432x288 with 1 Axes>"
      ]
     },
     "metadata": {
      "needs_background": "light"
     },
     "output_type": "display_data"
    }
   ],
   "source": [
    "fig, ax = plt.subplots(1,1)\n",
    "ax.plot(sizes, t_numeric, 'o-', label='Inserting row-by-row')\n",
    "ax.plot(sizes, t_numeric_add, 'o-', label='Inserting row-by-row: add_result only')\n",
    "ax.plot(sizes, t_array, 'd-', label='Inserting as binary blob')\n",
    "ax.plot(sizes, t_array_add, 'd-', label='Inserting as binary blob: add_result only')\n",
    "ax.legend()\n",
    "ax.set_xlabel('Array length')\n",
    "ax.set_ylabel('Time (s)')\n",
    "fig.tight_layout()"
   ]
  },
  {
   "cell_type": "markdown",
   "metadata": {},
   "source": [
    "However, as we increase the length of the experiment, as seen here by repeating the insertion 100 times, we see a big difference between inserting values of the data row-by-row and inserting it as a binary blob."
   ]
  },
  {
   "cell_type": "markdown",
   "metadata": {},
   "source": [
    "## Loading the data "
   ]
  },
  {
   "cell_type": "code",
   "execution_count": 9,
   "metadata": {
    "execution": {
     "iopub.execute_input": "2021-01-26T08:02:53.604999Z",
     "iopub.status.busy": "2021-01-26T08:02:53.604244Z",
     "iopub.status.idle": "2021-01-26T08:02:53.609050Z",
     "shell.execute_reply": "2021-01-26T08:02:53.608036Z"
    }
   },
   "outputs": [],
   "source": [
    "from qcodes.dataset.data_set import load_by_id\n",
    "from qcodes.dataset.data_export import get_data_by_id"
   ]
  },
  {
   "cell_type": "markdown",
   "metadata": {},
   "source": [
    "As usual you can load the data by using the ``load_by_id`` function but you will notice that the different storage methods\n",
    "are reflected in shape of the data as it is retrieved. "
   ]
  },
  {
   "cell_type": "code",
   "execution_count": 10,
   "metadata": {
    "execution": {
     "iopub.execute_input": "2021-01-26T08:02:53.612743Z",
     "iopub.status.busy": "2021-01-26T08:02:53.612279Z",
     "iopub.status.idle": "2021-01-26T08:02:53.615636Z",
     "shell.execute_reply": "2021-01-26T08:02:53.614978Z"
    }
   },
   "outputs": [],
   "source": [
    "run_id_n = t_numeric_run_ids[0]\n",
    "run_id_a = t_array_run_ids[0]"
   ]
  },
  {
   "cell_type": "code",
   "execution_count": 11,
   "metadata": {
    "execution": {
     "iopub.execute_input": "2021-01-26T08:02:53.619070Z",
     "iopub.status.busy": "2021-01-26T08:02:53.618570Z",
     "iopub.status.idle": "2021-01-26T08:02:53.629549Z",
     "shell.execute_reply": "2021-01-26T08:02:53.630206Z"
    },
    "scrolled": true
   },
   "outputs": [
    {
     "data": {
      "text/plain": [
       "{'x1': {'x1': array([0.45777048, 0.45777048, 0.13692305, 0.13692305, 0.95161534,\n",
       "         0.95161534, 0.62306962, 0.62306962, 0.49357585, 0.49357585,\n",
       "         0.64808129, 0.64808129, 0.22841011, 0.22841011, 0.37809334,\n",
       "         0.37809334, 0.4028883 , 0.4028883 , 0.02912692, 0.02912692,\n",
       "         0.72014516, 0.72014516, 0.46222992, 0.46222992, 0.99641989,\n",
       "         0.99641989, 0.59254194, 0.59254194, 0.43155075, 0.43155075,\n",
       "         0.25719763, 0.25719763, 0.68860641, 0.68860641, 0.24987916,\n",
       "         0.24987916, 0.34925538, 0.34925538, 0.11299533, 0.11299533,\n",
       "         0.82276467, 0.82276467, 0.78477977, 0.78477977, 0.23824876,\n",
       "         0.23824876, 0.04854311, 0.04854311, 0.27913798, 0.27913798,\n",
       "         0.17014411, 0.17014411, 0.94675152, 0.94675152, 0.42767877,\n",
       "         0.42767877, 0.80555684, 0.80555684, 0.28882796, 0.28882796,\n",
       "         0.77537313, 0.77537313, 0.72271154, 0.72271154, 0.50031505,\n",
       "         0.50031505, 0.55016378, 0.55016378, 0.98490076, 0.98490076,\n",
       "         0.04532585, 0.04532585, 0.80961374, 0.80961374, 0.38398706,\n",
       "         0.38398706, 0.37191358, 0.37191358, 0.067602  , 0.067602  ,\n",
       "         0.6222688 , 0.6222688 , 0.30008177, 0.30008177, 0.96833124,\n",
       "         0.96833124, 0.76534336, 0.76534336, 0.5081637 , 0.5081637 ,\n",
       "         0.52182896, 0.52182896, 0.67793298, 0.67793298, 0.26522671,\n",
       "         0.26522671, 0.10835473, 0.10835473, 0.36407615, 0.36407615,\n",
       "         0.77003184, 0.77003184, 0.29551931, 0.29551931, 0.76082518,\n",
       "         0.76082518, 0.20300106, 0.20300106, 0.06414154, 0.06414154,\n",
       "         0.15401405, 0.15401405, 0.22694807, 0.22694807, 0.88926256,\n",
       "         0.88926256, 0.24048228, 0.24048228, 0.68288574, 0.68288574,\n",
       "         0.46988951, 0.46988951, 0.0714076 , 0.0714076 , 0.23975016,\n",
       "         0.23975016, 0.95175407, 0.95175407, 0.35913026, 0.35913026,\n",
       "         0.54826892, 0.54826892, 0.62335836, 0.62335836, 0.5231909 ,\n",
       "         0.5231909 , 0.93295409, 0.93295409, 0.07488409, 0.07488409,\n",
       "         0.06998696, 0.06998696, 0.02384934, 0.02384934, 0.41129559,\n",
       "         0.41129559, 0.66456105, 0.66456105, 0.79592104, 0.79592104,\n",
       "         0.77116183, 0.77116183, 0.92813715, 0.92813715, 0.43387583,\n",
       "         0.43387583, 0.78199175, 0.78199175, 0.04300931, 0.04300931,\n",
       "         0.86506695, 0.86506695, 0.52272373, 0.52272373, 0.93296739,\n",
       "         0.93296739, 0.86383522, 0.86383522, 0.03200702, 0.03200702,\n",
       "         0.42517779, 0.42517779, 0.09891142, 0.09891142, 0.4172648 ,\n",
       "         0.4172648 , 0.38268131, 0.38268131, 0.4945065 , 0.4945065 ,\n",
       "         0.17614136, 0.17614136, 0.72988986, 0.72988986, 0.5494131 ,\n",
       "         0.5494131 , 0.44216981, 0.44216981, 0.34727818, 0.34727818,\n",
       "         0.25442727, 0.25442727, 0.34221283, 0.34221283, 0.17760241,\n",
       "         0.17760241, 0.14800285, 0.14800285, 0.50723143, 0.50723143])}}"
      ]
     },
     "execution_count": 1,
     "metadata": {},
     "output_type": "execute_result"
    }
   ],
   "source": [
    "ds = load_by_id(run_id_n)\n",
    "ds.get_parameter_data('x1')"
   ]
  },
  {
   "cell_type": "markdown",
   "metadata": {},
   "source": [
    "And a dataset stored as binary arrays"
   ]
  },
  {
   "cell_type": "code",
   "execution_count": 12,
   "metadata": {
    "execution": {
     "iopub.execute_input": "2021-01-26T08:02:53.633805Z",
     "iopub.status.busy": "2021-01-26T08:02:53.633295Z",
     "iopub.status.idle": "2021-01-26T08:02:53.691355Z",
     "shell.execute_reply": "2021-01-26T08:02:53.690344Z"
    },
    "scrolled": true
   },
   "outputs": [
    {
     "data": {
      "text/plain": [
       "{'x1': {'x1': array([[0.8008334 ],\n",
       "         [0.8008334 ],\n",
       "         [0.46242272],\n",
       "         [0.46242272],\n",
       "         [0.69415512],\n",
       "         [0.69415512],\n",
       "         [0.26535569],\n",
       "         [0.26535569],\n",
       "         [0.30773737],\n",
       "         [0.30773737],\n",
       "         [0.3263236 ],\n",
       "         [0.3263236 ],\n",
       "         [0.66217846],\n",
       "         [0.66217846],\n",
       "         [0.51004629],\n",
       "         [0.51004629],\n",
       "         [0.06142271],\n",
       "         [0.06142271],\n",
       "         [0.48652129],\n",
       "         [0.48652129],\n",
       "         [0.01185381],\n",
       "         [0.01185381],\n",
       "         [0.71766677],\n",
       "         [0.71766677],\n",
       "         [0.67411312],\n",
       "         [0.67411312],\n",
       "         [0.44567433],\n",
       "         [0.44567433],\n",
       "         [0.06928464],\n",
       "         [0.06928464],\n",
       "         [0.18106879],\n",
       "         [0.18106879],\n",
       "         [0.7364231 ],\n",
       "         [0.7364231 ],\n",
       "         [0.73628712],\n",
       "         [0.73628712],\n",
       "         [0.70718394],\n",
       "         [0.70718394],\n",
       "         [0.21514452],\n",
       "         [0.21514452],\n",
       "         [0.77890441],\n",
       "         [0.77890441],\n",
       "         [0.10777991],\n",
       "         [0.10777991],\n",
       "         [0.0430897 ],\n",
       "         [0.0430897 ],\n",
       "         [0.79559402],\n",
       "         [0.79559402],\n",
       "         [0.343218  ],\n",
       "         [0.343218  ],\n",
       "         [0.6617894 ],\n",
       "         [0.6617894 ],\n",
       "         [0.93327176],\n",
       "         [0.93327176],\n",
       "         [0.64872613],\n",
       "         [0.64872613],\n",
       "         [0.54802367],\n",
       "         [0.54802367],\n",
       "         [0.15282911],\n",
       "         [0.15282911],\n",
       "         [0.62782061],\n",
       "         [0.62782061],\n",
       "         [0.38998576],\n",
       "         [0.38998576],\n",
       "         [0.06868328],\n",
       "         [0.06868328],\n",
       "         [0.84727515],\n",
       "         [0.84727515],\n",
       "         [0.79159511],\n",
       "         [0.79159511],\n",
       "         [0.91395115],\n",
       "         [0.91395115],\n",
       "         [0.74370567],\n",
       "         [0.74370567],\n",
       "         [0.84179206],\n",
       "         [0.84179206],\n",
       "         [0.52162888],\n",
       "         [0.52162888],\n",
       "         [0.42070185],\n",
       "         [0.42070185],\n",
       "         [0.65111895],\n",
       "         [0.65111895],\n",
       "         [0.93787699],\n",
       "         [0.93787699],\n",
       "         [0.63670882],\n",
       "         [0.63670882],\n",
       "         [0.63505181],\n",
       "         [0.63505181],\n",
       "         [0.48630017],\n",
       "         [0.48630017],\n",
       "         [0.8456654 ],\n",
       "         [0.8456654 ],\n",
       "         [0.74498668],\n",
       "         [0.74498668],\n",
       "         [0.12349664],\n",
       "         [0.12349664],\n",
       "         [0.94119562],\n",
       "         [0.94119562],\n",
       "         [0.05117071],\n",
       "         [0.05117071],\n",
       "         [0.6007558 ],\n",
       "         [0.6007558 ],\n",
       "         [0.74169708],\n",
       "         [0.74169708],\n",
       "         [0.48178191],\n",
       "         [0.48178191],\n",
       "         [0.39162444],\n",
       "         [0.39162444],\n",
       "         [0.55761772],\n",
       "         [0.55761772],\n",
       "         [0.06831052],\n",
       "         [0.06831052],\n",
       "         [0.21804708],\n",
       "         [0.21804708],\n",
       "         [0.89411105],\n",
       "         [0.89411105],\n",
       "         [0.94126904],\n",
       "         [0.94126904],\n",
       "         [0.62145389],\n",
       "         [0.62145389],\n",
       "         [0.9713491 ],\n",
       "         [0.9713491 ],\n",
       "         [0.75262516],\n",
       "         [0.75262516],\n",
       "         [0.80552708],\n",
       "         [0.80552708],\n",
       "         [0.20105042],\n",
       "         [0.20105042],\n",
       "         [0.9063117 ],\n",
       "         [0.9063117 ],\n",
       "         [0.24512427],\n",
       "         [0.24512427],\n",
       "         [0.41002036],\n",
       "         [0.41002036],\n",
       "         [0.65012676],\n",
       "         [0.65012676],\n",
       "         [0.42238202],\n",
       "         [0.42238202],\n",
       "         [0.6278767 ],\n",
       "         [0.6278767 ],\n",
       "         [0.9017653 ],\n",
       "         [0.9017653 ],\n",
       "         [0.32997404],\n",
       "         [0.32997404],\n",
       "         [0.95789482],\n",
       "         [0.95789482],\n",
       "         [0.57102876],\n",
       "         [0.57102876],\n",
       "         [0.72203028],\n",
       "         [0.72203028],\n",
       "         [0.62075002],\n",
       "         [0.62075002],\n",
       "         [0.84276362],\n",
       "         [0.84276362],\n",
       "         [0.48275923],\n",
       "         [0.48275923],\n",
       "         [0.4536716 ],\n",
       "         [0.4536716 ],\n",
       "         [0.04917348],\n",
       "         [0.04917348],\n",
       "         [0.04229934],\n",
       "         [0.04229934],\n",
       "         [0.97385979],\n",
       "         [0.97385979],\n",
       "         [0.92022278],\n",
       "         [0.92022278],\n",
       "         [0.00673263],\n",
       "         [0.00673263],\n",
       "         [0.03084249],\n",
       "         [0.03084249],\n",
       "         [0.42080229],\n",
       "         [0.42080229],\n",
       "         [0.3409978 ],\n",
       "         [0.3409978 ],\n",
       "         [0.81742216],\n",
       "         [0.81742216],\n",
       "         [0.13277687],\n",
       "         [0.13277687],\n",
       "         [0.1260584 ],\n",
       "         [0.1260584 ],\n",
       "         [0.73669574],\n",
       "         [0.73669574],\n",
       "         [0.7069139 ],\n",
       "         [0.7069139 ],\n",
       "         [0.42796357],\n",
       "         [0.42796357],\n",
       "         [0.22347809],\n",
       "         [0.22347809],\n",
       "         [0.29468124],\n",
       "         [0.29468124],\n",
       "         [0.25285404],\n",
       "         [0.25285404],\n",
       "         [0.03501898],\n",
       "         [0.03501898],\n",
       "         [0.10361409],\n",
       "         [0.10361409],\n",
       "         [0.53930206],\n",
       "         [0.53930206],\n",
       "         [0.17877998],\n",
       "         [0.17877998]])}}"
      ]
     },
     "execution_count": 1,
     "metadata": {},
     "output_type": "execute_result"
    }
   ],
   "source": [
    "ds = load_by_id(run_id_a)\n",
    "ds.get_parameter_data('x1')"
   ]
  },
  {
   "cell_type": "code",
   "execution_count": null,
   "metadata": {},
   "outputs": [],
   "source": []
  }
 ],
 "metadata": {
  "kernelspec": {
   "display_name": "Python 3",
   "language": "python",
   "name": "python3"
  },
  "language_info": {
   "codemirror_mode": {
    "name": "ipython",
    "version": 3
   },
   "file_extension": ".py",
   "mimetype": "text/x-python",
   "name": "python",
   "nbconvert_exporter": "python",
   "pygments_lexer": "ipython3",
   "version": "3.7.9"
  },
  "nbsphinx": {
   "timeout": 600
  },
  "toc": {
   "base_numbering": 1,
   "nav_menu": {},
   "number_sections": true,
   "sideBar": true,
   "skip_h1_title": false,
   "title_cell": "Table of Contents",
   "title_sidebar": "Contents",
   "toc_cell": false,
   "toc_position": {},
   "toc_section_display": true,
   "toc_window_display": false
  },
  "varInspector": {
   "cols": {
    "lenName": 16,
    "lenType": 16,
    "lenVar": 40
   },
   "kernels_config": {
    "python": {
     "delete_cmd_postfix": "",
     "delete_cmd_prefix": "del ",
     "library": "var_list.py",
     "varRefreshCmd": "print(var_dic_list())"
    },
    "r": {
     "delete_cmd_postfix": ") ",
     "delete_cmd_prefix": "rm(",
     "library": "var_list.r",
     "varRefreshCmd": "cat(var_dic_list()) "
    }
   },
   "types_to_exclude": [
    "module",
    "function",
    "builtin_function_or_method",
    "instance",
    "_Feature"
   ],
   "window_display": false
  }
 },
 "nbformat": 4,
 "nbformat_minor": 2
}
