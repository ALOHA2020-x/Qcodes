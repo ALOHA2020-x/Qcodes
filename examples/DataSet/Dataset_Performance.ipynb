{
 "cells": [
  {
   "cell_type": "markdown",
   "metadata": {},
   "source": [
    "# DataSet Performance\n",
    "\n",
    "This notebook shows the trade-off between inserting data into a database row-by-row and as binary blobs. Inserting the data row-by-row means that we have direct access to all the data and may perform queries directly on the values of the data. On the other hand, as we shall see, this is much slower than inserting the data directly as binary blobs."
   ]
  },
  {
   "cell_type": "markdown",
   "metadata": {},
   "source": [
    "First, we choose a new location for the database to ensure that we don't add a bunch of benchmarking data to the default one."
   ]
  },
  {
   "cell_type": "code",
   "execution_count": 1,
   "metadata": {
    "execution": {
     "iopub.execute_input": "2020-10-08T13:37:33.561657Z",
     "iopub.status.busy": "2020-10-08T13:37:33.561113Z",
     "iopub.status.idle": "2020-10-08T13:37:34.717384Z",
     "shell.execute_reply": "2020-10-08T13:37:34.716734Z"
    }
   },
   "outputs": [
    {
     "name": "stdout",
     "output_type": "stream",
     "text": [
      "Logging hadn't been started.\n",
      "Activating auto-logging. Current session state plus future input saved.\n",
      "Filename       : /home/vsts/.qcodes/logs/command_history.log\n",
      "Mode           : append\n",
      "Output logging : True\n",
      "Raw input log  : False\n",
      "Timestamping   : True\n",
      "State          : active\n"
     ]
    },
    {
     "name": "stdout",
     "output_type": "stream",
     "text": [
      "Qcodes Logfile : /home/vsts/.qcodes/logs/201008-18901-qcodes.log\n"
     ]
    }
   ],
   "source": [
    "import os\n",
    "cwd = os.getcwd()\n",
    "import qcodes as qc\n",
    "qc.config[\"core\"][\"db_location\"] = os.path.join(cwd, 'testing.db')\n"
   ]
  },
  {
   "cell_type": "code",
   "execution_count": 2,
   "metadata": {
    "execution": {
     "iopub.execute_input": "2020-10-08T13:37:34.724245Z",
     "iopub.status.busy": "2020-10-08T13:37:34.719934Z",
     "iopub.status.idle": "2020-10-08T13:37:34.938973Z",
     "shell.execute_reply": "2020-10-08T13:37:34.937196Z"
    }
   },
   "outputs": [],
   "source": [
    "%matplotlib inline\n",
    "import time\n",
    "import matplotlib.pyplot as plt\n",
    "import numpy as np\n",
    "\n",
    "import qcodes as qc\n",
    "from qcodes.instrument.parameter import ManualParameter\n",
    "from qcodes.dataset.experiment_container import (Experiment,\n",
    "                                                 load_last_experiment,\n",
    "                                                 new_experiment)\n",
    "from qcodes.dataset.sqlite.database import initialise_database\n",
    "from qcodes import load_or_create_experiment\n",
    "from qcodes.dataset.measurements import Measurement"
   ]
  },
  {
   "cell_type": "code",
   "execution_count": 3,
   "metadata": {
    "execution": {
     "iopub.execute_input": "2020-10-08T13:37:34.944739Z",
     "iopub.status.busy": "2020-10-08T13:37:34.944020Z",
     "iopub.status.idle": "2020-10-08T13:37:35.093111Z",
     "shell.execute_reply": "2020-10-08T13:37:35.093621Z"
    }
   },
   "outputs": [
    {
     "name": "stdout",
     "output_type": "stream",
     "text": [
      "\r",
      "0it [00:00, ?it/s]"
     ]
    },
    {
     "name": "stdout",
     "output_type": "stream",
     "text": [
      "\r",
      "Upgrading database; v0 -> v1: : 0it [00:00, ?it/s]"
     ]
    },
    {
     "name": "stdout",
     "output_type": "stream",
     "text": [
      "\r",
      "Upgrading database; v0 -> v1: : 0it [00:00, ?it/s]"
     ]
    },
    {
     "name": "stdout",
     "output_type": "stream",
     "text": [
      "\n",
      "\r",
      "  0%|          | 0/1 [00:00<?, ?it/s]"
     ]
    },
    {
     "name": "stdout",
     "output_type": "stream",
     "text": [
      "\r",
      "Upgrading database; v1 -> v2:   0%|          | 0/1 [00:00<?, ?it/s]"
     ]
    },
    {
     "name": "stdout",
     "output_type": "stream",
     "text": [
      "\r",
      "Upgrading database; v1 -> v2: 100%|██████████| 1/1 [00:00<00:00, 460.81it/s]"
     ]
    },
    {
     "name": "stdout",
     "output_type": "stream",
     "text": [
      "\n",
      "\r",
      "0it [00:00, ?it/s]"
     ]
    },
    {
     "name": "stdout",
     "output_type": "stream",
     "text": [
      "\r",
      "Upgrading database; v2 -> v3: : 0it [00:00, ?it/s]"
     ]
    },
    {
     "name": "stdout",
     "output_type": "stream",
     "text": [
      "\r",
      "Upgrading database; v2 -> v3: : 0it [00:00, ?it/s]"
     ]
    },
    {
     "name": "stdout",
     "output_type": "stream",
     "text": [
      "\n",
      "\r",
      "0it [00:00, ?it/s]"
     ]
    },
    {
     "name": "stdout",
     "output_type": "stream",
     "text": [
      "\r",
      "Upgrading database; v3 -> v4: : 0it [00:00, ?it/s]"
     ]
    },
    {
     "name": "stdout",
     "output_type": "stream",
     "text": [
      "\r",
      "Upgrading database; v3 -> v4: : 0it [00:00, ?it/s]"
     ]
    },
    {
     "name": "stdout",
     "output_type": "stream",
     "text": [
      "\n",
      "\r",
      "  0%|          | 0/1 [00:00<?, ?it/s]"
     ]
    },
    {
     "name": "stdout",
     "output_type": "stream",
     "text": [
      "\r",
      "Upgrading database; v4 -> v5:   0%|          | 0/1 [00:00<?, ?it/s]"
     ]
    },
    {
     "name": "stdout",
     "output_type": "stream",
     "text": [
      "\r",
      "Upgrading database; v4 -> v5: 100%|██████████| 1/1 [00:00<00:00, 408.36it/s]"
     ]
    },
    {
     "name": "stdout",
     "output_type": "stream",
     "text": [
      "\n",
      "\r",
      "0it [00:00, ?it/s]"
     ]
    },
    {
     "name": "stdout",
     "output_type": "stream",
     "text": [
      "\r",
      "Upgrading database; v5 -> v6: : 0it [00:00, ?it/s]"
     ]
    },
    {
     "name": "stdout",
     "output_type": "stream",
     "text": [
      "\r",
      "Upgrading database; v5 -> v6: : 0it [00:00, ?it/s]"
     ]
    },
    {
     "name": "stdout",
     "output_type": "stream",
     "text": [
      "\n",
      "\r",
      "  0%|          | 0/1 [00:00<?, ?it/s]"
     ]
    },
    {
     "name": "stdout",
     "output_type": "stream",
     "text": [
      "\r",
      "Upgrading database; v6 -> v7:   0%|          | 0/1 [00:00<?, ?it/s]"
     ]
    },
    {
     "name": "stdout",
     "output_type": "stream",
     "text": [
      "\r",
      "Upgrading database; v6 -> v7: 100%|██████████| 1/1 [00:00<00:00, 322.56it/s]"
     ]
    },
    {
     "name": "stdout",
     "output_type": "stream",
     "text": [
      "\n",
      "\r",
      "  0%|          | 0/1 [00:00<?, ?it/s]"
     ]
    },
    {
     "name": "stdout",
     "output_type": "stream",
     "text": [
      "\r",
      "Upgrading database; v7 -> v8:   0%|          | 0/1 [00:00<?, ?it/s]"
     ]
    },
    {
     "name": "stdout",
     "output_type": "stream",
     "text": [
      "\r",
      "Upgrading database; v7 -> v8: 100%|██████████| 1/1 [00:00<00:00, 364.69it/s]"
     ]
    },
    {
     "name": "stdout",
     "output_type": "stream",
     "text": [
      "\n",
      "\r",
      "  0%|          | 0/1 [00:00<?, ?it/s]"
     ]
    },
    {
     "name": "stdout",
     "output_type": "stream",
     "text": [
      "\r",
      "Upgrading database; v8 -> v9:   0%|          | 0/1 [00:00<?, ?it/s]"
     ]
    },
    {
     "name": "stdout",
     "output_type": "stream",
     "text": [
      "\r",
      "Upgrading database; v8 -> v9: 100%|██████████| 1/1 [00:00<00:00, 342.14it/s]"
     ]
    },
    {
     "name": "stdout",
     "output_type": "stream",
     "text": [
      "\n"
     ]
    }
   ],
   "source": [
    "initialise_database()\n",
    "exp = load_or_create_experiment(experiment_name='tutorial_exp', sample_name=\"no sample\")"
   ]
  },
  {
   "cell_type": "markdown",
   "metadata": {},
   "source": [
    "Here, we define a simple function to benchmark the time it takes to insert n points with either numeric or array data type.\n",
    "We will compare both the time used to call ``add_result`` and the time used for the full measurement."
   ]
  },
  {
   "cell_type": "code",
   "execution_count": 4,
   "metadata": {
    "execution": {
     "iopub.execute_input": "2020-10-08T13:37:35.104595Z",
     "iopub.status.busy": "2020-10-08T13:37:35.103244Z",
     "iopub.status.idle": "2020-10-08T13:37:35.105161Z",
     "shell.execute_reply": "2020-10-08T13:37:35.105722Z"
    }
   },
   "outputs": [],
   "source": [
    "def insert_data(paramtype, npoints, nreps=1):\n",
    "\n",
    "    meas = Measurement(exp=exp)\n",
    "\n",
    "    x1 = ManualParameter('x1')\n",
    "    x2 = ManualParameter('x2')\n",
    "    x3 = ManualParameter('x3')\n",
    "    y1 = ManualParameter('y1')\n",
    "    y2 = ManualParameter('y2')\n",
    "\n",
    "    meas.register_parameter(x1, paramtype=paramtype)\n",
    "    meas.register_parameter(x2, paramtype=paramtype)\n",
    "    meas.register_parameter(x3, paramtype=paramtype)\n",
    "    meas.register_parameter(y1, setpoints=[x1, x2, x3],\n",
    "                            paramtype=paramtype)\n",
    "    meas.register_parameter(y2, setpoints=[x1, x2, x3],\n",
    "                            paramtype=paramtype)\n",
    "    start = time.perf_counter()\n",
    "    with meas.run() as datasaver:\n",
    "        start_adding = time.perf_counter()\n",
    "        for i in range(nreps):\n",
    "            datasaver.add_result((x1, np.random.rand(npoints)),\n",
    "                                 (x2, np.random.rand(npoints)),\n",
    "                                 (x3, np.random.rand(npoints)),\n",
    "                                 (y1, np.random.rand(npoints)),\n",
    "                                 (y2, np.random.rand(npoints)))\n",
    "        stop_adding = time.perf_counter()\n",
    "        run_id = datasaver.run_id\n",
    "    stop = time.perf_counter()\n",
    "    tot_time = stop - start\n",
    "    add_time = stop_adding - start_adding\n",
    "    return tot_time, add_time, run_id"
   ]
  },
  {
   "cell_type": "markdown",
   "metadata": {},
   "source": [
    "## Comparison between numeric/array data and binary blob"
   ]
  },
  {
   "cell_type": "markdown",
   "metadata": {},
   "source": [
    "### Case1: Short experiment time"
   ]
  },
  {
   "cell_type": "code",
   "execution_count": 5,
   "metadata": {
    "execution": {
     "iopub.execute_input": "2020-10-08T13:37:35.114536Z",
     "iopub.status.busy": "2020-10-08T13:37:35.113547Z",
     "iopub.status.idle": "2020-10-08T13:37:36.022634Z",
     "shell.execute_reply": "2020-10-08T13:37:36.021619Z"
    }
   },
   "outputs": [
    {
     "name": "stdout",
     "output_type": "stream",
     "text": [
      "Starting experimental run with id: 1. \n",
      "Starting experimental run with id: 2. \n",
      "Starting experimental run with id: 3. \n",
      "Starting experimental run with id: 4. \n"
     ]
    },
    {
     "name": "stdout",
     "output_type": "stream",
     "text": [
      "Starting experimental run with id: 5. \n"
     ]
    },
    {
     "name": "stdout",
     "output_type": "stream",
     "text": [
      "Starting experimental run with id: 6. \n",
      "Starting experimental run with id: 7. \n"
     ]
    },
    {
     "name": "stdout",
     "output_type": "stream",
     "text": [
      "Starting experimental run with id: 8. \n",
      "Starting experimental run with id: 9. \n"
     ]
    },
    {
     "name": "stdout",
     "output_type": "stream",
     "text": [
      "Starting experimental run with id: 10. \n",
      "Starting experimental run with id: 11. \n"
     ]
    },
    {
     "name": "stdout",
     "output_type": "stream",
     "text": [
      "Starting experimental run with id: 12. \n"
     ]
    },
    {
     "name": "stdout",
     "output_type": "stream",
     "text": [
      "Starting experimental run with id: 13. \n"
     ]
    },
    {
     "name": "stdout",
     "output_type": "stream",
     "text": [
      "Starting experimental run with id: 14. \n"
     ]
    }
   ],
   "source": [
    "sizes = [1,500,1000,2000,3000,4000,5000]\n",
    "t_numeric = []\n",
    "t_numeric_add = []\n",
    "t_array = []\n",
    "t_array_add = []\n",
    "for size in sizes:\n",
    "    tn, tna, run_id_n =  insert_data('numeric', size)\n",
    "    t_numeric.append(tn)\n",
    "    t_numeric_add.append(tna)\n",
    "\n",
    "    ta, taa, run_id_a =  insert_data('array', size)\n",
    "    t_array.append(ta)\n",
    "    t_array_add.append(taa)"
   ]
  },
  {
   "cell_type": "code",
   "execution_count": 6,
   "metadata": {
    "execution": {
     "iopub.execute_input": "2020-10-08T13:37:36.042659Z",
     "iopub.status.busy": "2020-10-08T13:37:36.041510Z",
     "iopub.status.idle": "2020-10-08T13:37:36.250005Z",
     "shell.execute_reply": "2020-10-08T13:37:36.249025Z"
    }
   },
   "outputs": [
    {
     "data": {
      "image/png": "[encoded data removed]",
      "text/plain": [
       "<Figure size 432x288 with 1 Axes>"
      ]
     },
     "metadata": {
      "needs_background": "light"
     },
     "output_type": "display_data"
    }
   ],
   "source": [
    "fig, ax = plt.subplots(1,1)\n",
    "ax.plot(sizes, t_numeric, 'o-', label='Inserting row-by-row')\n",
    "ax.plot(sizes, t_numeric_add, 'o-', label='Inserting row-by-row: add_result only')\n",
    "ax.plot(sizes, t_array, 'd-', label='Inserting as binary blob')\n",
    "ax.plot(sizes, t_array_add, 'd-', label='Inserting as binary blob: add_result only')\n",
    "ax.legend()\n",
    "ax.set_xlabel('Array length')\n",
    "ax.set_ylabel('Time (s)')\n",
    "fig.tight_layout()"
   ]
  },
  {
   "cell_type": "markdown",
   "metadata": {},
   "source": [
    "As shown in the latter figure, the time to setup and and close the experiment is approximately 0.4 sec. In case of small array sizes, the difference between inserting values of data as arrays and inserting them row-by-row is relatively unimportant. At larger array sizes, i.e. above 10000 points, the cost of writing data as individual datapoints starts to become important.\n"
   ]
  },
  {
   "cell_type": "markdown",
   "metadata": {},
   "source": [
    "### Case2: Long experiment time "
   ]
  },
  {
   "cell_type": "code",
   "execution_count": 7,
   "metadata": {
    "execution": {
     "iopub.execute_input": "2020-10-08T13:37:36.257504Z",
     "iopub.status.busy": "2020-10-08T13:37:36.256790Z",
     "iopub.status.idle": "2020-10-08T13:38:37.024868Z",
     "shell.execute_reply": "2020-10-08T13:38:37.023300Z"
    }
   },
   "outputs": [
    {
     "name": "stdout",
     "output_type": "stream",
     "text": [
      "Starting experimental run with id: 15. \n",
      "Starting experimental run with id: 16. \n",
      "Starting experimental run with id: 17. \n"
     ]
    },
    {
     "name": "stdout",
     "output_type": "stream",
     "text": [
      "Starting experimental run with id: 18. \n",
      "Starting experimental run with id: 19. \n"
     ]
    },
    {
     "name": "stdout",
     "output_type": "stream",
     "text": [
      "Starting experimental run with id: 20. \n"
     ]
    },
    {
     "name": "stdout",
     "output_type": "stream",
     "text": [
      "Starting experimental run with id: 21. \n"
     ]
    },
    {
     "name": "stdout",
     "output_type": "stream",
     "text": [
      "Starting experimental run with id: 22. \n"
     ]
    },
    {
     "name": "stdout",
     "output_type": "stream",
     "text": [
      "Starting experimental run with id: 23. \n"
     ]
    },
    {
     "name": "stdout",
     "output_type": "stream",
     "text": [
      "Starting experimental run with id: 24. \n"
     ]
    },
    {
     "name": "stdout",
     "output_type": "stream",
     "text": [
      "Starting experimental run with id: 25. \n"
     ]
    },
    {
     "name": "stdout",
     "output_type": "stream",
     "text": [
      "Starting experimental run with id: 26. \n"
     ]
    },
    {
     "name": "stdout",
     "output_type": "stream",
     "text": [
      "Starting experimental run with id: 27. \n"
     ]
    },
    {
     "name": "stdout",
     "output_type": "stream",
     "text": [
      "Starting experimental run with id: 28. \n"
     ]
    }
   ],
   "source": [
    "sizes = [1,500,1000,2000,3000,4000,5000]\n",
    "nreps = 100\n",
    "t_numeric = []\n",
    "t_numeric_add = []\n",
    "t_numeric_run_ids = []\n",
    "t_array = []\n",
    "t_array_add = []\n",
    "t_array_run_ids = []\n",
    "for size in sizes:\n",
    "    tn, tna, run_id_n =  insert_data('numeric', size, nreps=nreps)\n",
    "    t_numeric.append(tn)\n",
    "    t_numeric_add.append(tna)\n",
    "    t_numeric_run_ids.append(run_id_n)\n",
    "\n",
    "    ta, taa, run_id_a =  insert_data('array', size, nreps=nreps)\n",
    "    t_array.append(ta)\n",
    "    t_array_add.append(taa)\n",
    "    t_array_run_ids.append(run_id_a)"
   ]
  },
  {
   "cell_type": "code",
   "execution_count": 8,
   "metadata": {
    "execution": {
     "iopub.execute_input": "2020-10-08T13:38:37.049967Z",
     "iopub.status.busy": "2020-10-08T13:38:37.046572Z",
     "iopub.status.idle": "2020-10-08T13:38:37.248329Z",
     "shell.execute_reply": "2020-10-08T13:38:37.247281Z"
    },
    "scrolled": true
   },
   "outputs": [
    {
     "data": {
      "image/png": "[encoded data removed]",
      "text/plain": [
       "<Figure size 432x288 with 1 Axes>"
      ]
     },
     "metadata": {
      "needs_background": "light"
     },
     "output_type": "display_data"
    }
   ],
   "source": [
    "fig, ax = plt.subplots(1,1)\n",
    "ax.plot(sizes, t_numeric, 'o-', label='Inserting row-by-row')\n",
    "ax.plot(sizes, t_numeric_add, 'o-', label='Inserting row-by-row: add_result only')\n",
    "ax.plot(sizes, t_array, 'd-', label='Inserting as binary blob')\n",
    "ax.plot(sizes, t_array_add, 'd-', label='Inserting as binary blob: add_result only')\n",
    "ax.legend()\n",
    "ax.set_xlabel('Array length')\n",
    "ax.set_ylabel('Time (s)')\n",
    "fig.tight_layout()"
   ]
  },
  {
   "cell_type": "markdown",
   "metadata": {},
   "source": [
    "However, as we increase the length of the experiment, as seen here by repeating the insertion 100 times, we see a big difference between inserting values of the data row-by-row and inserting it as a binary blob."
   ]
  },
  {
   "cell_type": "markdown",
   "metadata": {},
   "source": [
    "## Loading the data "
   ]
  },
  {
   "cell_type": "code",
   "execution_count": 9,
   "metadata": {
    "execution": {
     "iopub.execute_input": "2020-10-08T13:38:37.253402Z",
     "iopub.status.busy": "2020-10-08T13:38:37.251906Z",
     "iopub.status.idle": "2020-10-08T13:38:37.256110Z",
     "shell.execute_reply": "2020-10-08T13:38:37.255611Z"
    }
   },
   "outputs": [],
   "source": [
    "from qcodes.dataset.data_set import load_by_id\n",
    "from qcodes.dataset.data_export import get_data_by_id"
   ]
  },
  {
   "cell_type": "markdown",
   "metadata": {},
   "source": [
    "As usual you can load the data by using the ``load_by_id`` function but you will notice that the different storage methods\n",
    "are reflected in shape of the data as it is retrieved. "
   ]
  },
  {
   "cell_type": "code",
   "execution_count": 10,
   "metadata": {
    "execution": {
     "iopub.execute_input": "2020-10-08T13:38:37.260862Z",
     "iopub.status.busy": "2020-10-08T13:38:37.260235Z",
     "iopub.status.idle": "2020-10-08T13:38:37.263556Z",
     "shell.execute_reply": "2020-10-08T13:38:37.262817Z"
    }
   },
   "outputs": [],
   "source": [
    "run_id_n = t_numeric_run_ids[0]\n",
    "run_id_a = t_array_run_ids[0]"
   ]
  },
  {
   "cell_type": "code",
   "execution_count": 11,
   "metadata": {
    "execution": {
     "iopub.execute_input": "2020-10-08T13:38:37.267474Z",
     "iopub.status.busy": "2020-10-08T13:38:37.266887Z",
     "iopub.status.idle": "2020-10-08T13:38:37.277126Z",
     "shell.execute_reply": "2020-10-08T13:38:37.277728Z"
    },
    "scrolled": true
   },
   "outputs": [
    {
     "data": {
      "text/plain": [
       "{'x1': {'x1': array([0.02324932, 0.02324932, 0.62113562, 0.62113562, 0.14957984,\n",
       "         0.14957984, 0.05106845, 0.05106845, 0.27951658, 0.27951658,\n",
       "         0.57463696, 0.57463696, 0.40819384, 0.40819384, 0.45739825,\n",
       "         0.45739825, 0.75563346, 0.75563346, 0.75250982, 0.75250982,\n",
       "         0.78584792, 0.78584792, 0.22659439, 0.22659439, 0.37710626,\n",
       "         0.37710626, 0.66468883, 0.66468883, 0.7515222 , 0.7515222 ,\n",
       "         0.84086057, 0.84086057, 0.44866038, 0.44866038, 0.71980213,\n",
       "         0.71980213, 0.08517347, 0.08517347, 0.23519637, 0.23519637,\n",
       "         0.93255881, 0.93255881, 0.3554462 , 0.3554462 , 0.42661413,\n",
       "         0.42661413, 0.47583024, 0.47583024, 0.70968575, 0.70968575,\n",
       "         0.50700397, 0.50700397, 0.38737352, 0.38737352, 0.14590047,\n",
       "         0.14590047, 0.66937613, 0.66937613, 0.27293501, 0.27293501,\n",
       "         0.20723561, 0.20723561, 0.42787715, 0.42787715, 0.81212952,\n",
       "         0.81212952, 0.63603659, 0.63603659, 0.94889753, 0.94889753,\n",
       "         0.29511248, 0.29511248, 0.8505074 , 0.8505074 , 0.5940573 ,\n",
       "         0.5940573 , 0.5948441 , 0.5948441 , 0.68276206, 0.68276206,\n",
       "         0.94448688, 0.94448688, 0.08740292, 0.08740292, 0.21461534,\n",
       "         0.21461534, 0.74487513, 0.74487513, 0.37591548, 0.37591548,\n",
       "         0.3832926 , 0.3832926 , 0.79583139, 0.79583139, 0.78182131,\n",
       "         0.78182131, 0.66289991, 0.66289991, 0.56579768, 0.56579768,\n",
       "         0.3231273 , 0.3231273 , 0.9589556 , 0.9589556 , 0.6211376 ,\n",
       "         0.6211376 , 0.79247232, 0.79247232, 0.14923705, 0.14923705,\n",
       "         0.81835254, 0.81835254, 0.36841664, 0.36841664, 0.38011498,\n",
       "         0.38011498, 0.80410169, 0.80410169, 0.75094568, 0.75094568,\n",
       "         0.91457648, 0.91457648, 0.47833002, 0.47833002, 0.50671838,\n",
       "         0.50671838, 0.471125  , 0.471125  , 0.7445754 , 0.7445754 ,\n",
       "         0.53192711, 0.53192711, 0.16190301, 0.16190301, 0.33941753,\n",
       "         0.33941753, 0.95231373, 0.95231373, 0.28947706, 0.28947706,\n",
       "         0.53791396, 0.53791396, 0.46800863, 0.46800863, 0.51086674,\n",
       "         0.51086674, 0.35248309, 0.35248309, 0.5172941 , 0.5172941 ,\n",
       "         0.88774617, 0.88774617, 0.62251056, 0.62251056, 0.87709413,\n",
       "         0.87709413, 0.83759801, 0.83759801, 0.49553123, 0.49553123,\n",
       "         0.45627483, 0.45627483, 0.17333784, 0.17333784, 0.87941857,\n",
       "         0.87941857, 0.61924922, 0.61924922, 0.33416044, 0.33416044,\n",
       "         0.18882635, 0.18882635, 0.1609881 , 0.1609881 , 0.21380794,\n",
       "         0.21380794, 0.90750452, 0.90750452, 0.23392009, 0.23392009,\n",
       "         0.90121434, 0.90121434, 0.73631068, 0.73631068, 0.93425966,\n",
       "         0.93425966, 0.52368285, 0.52368285, 0.32252506, 0.32252506,\n",
       "         0.597506  , 0.597506  , 0.26507835, 0.26507835, 0.53819246,\n",
       "         0.53819246, 0.2290739 , 0.2290739 , 0.07778798, 0.07778798])}}"
      ]
     },
     "execution_count": 1,
     "metadata": {},
     "output_type": "execute_result"
    }
   ],
   "source": [
    "ds = load_by_id(run_id_n)\n",
    "ds.get_parameter_data('x1')"
   ]
  },
  {
   "cell_type": "markdown",
   "metadata": {},
   "source": [
    "And a dataset stored as binary arrays"
   ]
  },
  {
   "cell_type": "code",
   "execution_count": 12,
   "metadata": {
    "execution": {
     "iopub.execute_input": "2020-10-08T13:38:37.281982Z",
     "iopub.status.busy": "2020-10-08T13:38:37.281405Z",
     "iopub.status.idle": "2020-10-08T13:38:37.339181Z",
     "shell.execute_reply": "2020-10-08T13:38:37.340114Z"
    },
    "scrolled": true
   },
   "outputs": [
    {
     "data": {
      "text/plain": [
       "{'x1': {'x1': array([[0.33670357],\n",
       "         [0.33670357],\n",
       "         [0.94897411],\n",
       "         [0.94897411],\n",
       "         [0.35162171],\n",
       "         [0.35162171],\n",
       "         [0.61929772],\n",
       "         [0.61929772],\n",
       "         [0.33321685],\n",
       "         [0.33321685],\n",
       "         [0.35039602],\n",
       "         [0.35039602],\n",
       "         [0.42774776],\n",
       "         [0.42774776],\n",
       "         [0.53132466],\n",
       "         [0.53132466],\n",
       "         [0.92698259],\n",
       "         [0.92698259],\n",
       "         [0.58319915],\n",
       "         [0.58319915],\n",
       "         [0.20939928],\n",
       "         [0.20939928],\n",
       "         [0.30391878],\n",
       "         [0.30391878],\n",
       "         [0.47137497],\n",
       "         [0.47137497],\n",
       "         [0.07904742],\n",
       "         [0.07904742],\n",
       "         [0.81607808],\n",
       "         [0.81607808],\n",
       "         [0.08522124],\n",
       "         [0.08522124],\n",
       "         [0.82616074],\n",
       "         [0.82616074],\n",
       "         [0.29522845],\n",
       "         [0.29522845],\n",
       "         [0.67223442],\n",
       "         [0.67223442],\n",
       "         [0.10741821],\n",
       "         [0.10741821],\n",
       "         [0.65405984],\n",
       "         [0.65405984],\n",
       "         [0.34219732],\n",
       "         [0.34219732],\n",
       "         [0.02549829],\n",
       "         [0.02549829],\n",
       "         [0.0941286 ],\n",
       "         [0.0941286 ],\n",
       "         [0.69141649],\n",
       "         [0.69141649],\n",
       "         [0.87463608],\n",
       "         [0.87463608],\n",
       "         [0.24782145],\n",
       "         [0.24782145],\n",
       "         [0.90837471],\n",
       "         [0.90837471],\n",
       "         [0.21171345],\n",
       "         [0.21171345],\n",
       "         [0.97666396],\n",
       "         [0.97666396],\n",
       "         [0.15247292],\n",
       "         [0.15247292],\n",
       "         [0.77669182],\n",
       "         [0.77669182],\n",
       "         [0.22123448],\n",
       "         [0.22123448],\n",
       "         [0.54966694],\n",
       "         [0.54966694],\n",
       "         [0.19009822],\n",
       "         [0.19009822],\n",
       "         [0.99831416],\n",
       "         [0.99831416],\n",
       "         [0.25086391],\n",
       "         [0.25086391],\n",
       "         [0.05033787],\n",
       "         [0.05033787],\n",
       "         [0.79415737],\n",
       "         [0.79415737],\n",
       "         [0.69783291],\n",
       "         [0.69783291],\n",
       "         [0.49631796],\n",
       "         [0.49631796],\n",
       "         [0.18734898],\n",
       "         [0.18734898],\n",
       "         [0.9582577 ],\n",
       "         [0.9582577 ],\n",
       "         [0.74928978],\n",
       "         [0.74928978],\n",
       "         [0.12802035],\n",
       "         [0.12802035],\n",
       "         [0.83923831],\n",
       "         [0.83923831],\n",
       "         [0.96600084],\n",
       "         [0.96600084],\n",
       "         [0.29203468],\n",
       "         [0.29203468],\n",
       "         [0.16616083],\n",
       "         [0.16616083],\n",
       "         [0.08371574],\n",
       "         [0.08371574],\n",
       "         [0.69700927],\n",
       "         [0.69700927],\n",
       "         [0.58074843],\n",
       "         [0.58074843],\n",
       "         [0.78823928],\n",
       "         [0.78823928],\n",
       "         [0.0454736 ],\n",
       "         [0.0454736 ],\n",
       "         [0.05942927],\n",
       "         [0.05942927],\n",
       "         [0.44748672],\n",
       "         [0.44748672],\n",
       "         [0.97261865],\n",
       "         [0.97261865],\n",
       "         [0.73503196],\n",
       "         [0.73503196],\n",
       "         [0.41760031],\n",
       "         [0.41760031],\n",
       "         [0.97600353],\n",
       "         [0.97600353],\n",
       "         [0.32847999],\n",
       "         [0.32847999],\n",
       "         [0.93684198],\n",
       "         [0.93684198],\n",
       "         [0.67110637],\n",
       "         [0.67110637],\n",
       "         [0.03762758],\n",
       "         [0.03762758],\n",
       "         [0.35216764],\n",
       "         [0.35216764],\n",
       "         [0.96443708],\n",
       "         [0.96443708],\n",
       "         [0.93953488],\n",
       "         [0.93953488],\n",
       "         [0.91258921],\n",
       "         [0.91258921],\n",
       "         [0.44884526],\n",
       "         [0.44884526],\n",
       "         [0.82841568],\n",
       "         [0.82841568],\n",
       "         [0.28310934],\n",
       "         [0.28310934],\n",
       "         [0.42227371],\n",
       "         [0.42227371],\n",
       "         [0.21333868],\n",
       "         [0.21333868],\n",
       "         [0.75530179],\n",
       "         [0.75530179],\n",
       "         [0.12072398],\n",
       "         [0.12072398],\n",
       "         [0.35504803],\n",
       "         [0.35504803],\n",
       "         [0.57975027],\n",
       "         [0.57975027],\n",
       "         [0.47107114],\n",
       "         [0.47107114],\n",
       "         [0.59979838],\n",
       "         [0.59979838],\n",
       "         [0.60384558],\n",
       "         [0.60384558],\n",
       "         [0.13136526],\n",
       "         [0.13136526],\n",
       "         [0.02954279],\n",
       "         [0.02954279],\n",
       "         [0.69367326],\n",
       "         [0.69367326],\n",
       "         [0.30134889],\n",
       "         [0.30134889],\n",
       "         [0.31030177],\n",
       "         [0.31030177],\n",
       "         [0.27850717],\n",
       "         [0.27850717],\n",
       "         [0.32928751],\n",
       "         [0.32928751],\n",
       "         [0.07581381],\n",
       "         [0.07581381],\n",
       "         [0.91962459],\n",
       "         [0.91962459],\n",
       "         [0.31996674],\n",
       "         [0.31996674],\n",
       "         [0.66222505],\n",
       "         [0.66222505],\n",
       "         [0.85493532],\n",
       "         [0.85493532],\n",
       "         [0.30070103],\n",
       "         [0.30070103],\n",
       "         [0.288628  ],\n",
       "         [0.288628  ],\n",
       "         [0.86044401],\n",
       "         [0.86044401],\n",
       "         [0.07042935],\n",
       "         [0.07042935],\n",
       "         [0.35383325],\n",
       "         [0.35383325],\n",
       "         [0.23974412],\n",
       "         [0.23974412],\n",
       "         [0.4271473 ],\n",
       "         [0.4271473 ],\n",
       "         [0.60727417],\n",
       "         [0.60727417]])}}"
      ]
     },
     "execution_count": 1,
     "metadata": {},
     "output_type": "execute_result"
    }
   ],
   "source": [
    "ds = load_by_id(run_id_a)\n",
    "ds.get_parameter_data('x1')"
   ]
  },
  {
   "cell_type": "code",
   "execution_count": null,
   "metadata": {},
   "outputs": [],
   "source": []
  }
 ],
 "metadata": {
  "kernelspec": {
   "display_name": "Python 3",
   "language": "python",
   "name": "python3"
  },
  "language_info": {
   "codemirror_mode": {
    "name": "ipython",
    "version": 3
   },
   "file_extension": ".py",
   "mimetype": "text/x-python",
   "name": "python",
   "nbconvert_exporter": "python",
   "pygments_lexer": "ipython3",
   "version": "3.7.7"
  },
  "nbsphinx": {
   "timeout": 600
  },
  "toc": {
   "base_numbering": 1,
   "nav_menu": {},
   "number_sections": true,
   "sideBar": true,
   "skip_h1_title": false,
   "title_cell": "Table of Contents",
   "title_sidebar": "Contents",
   "toc_cell": false,
   "toc_position": {},
   "toc_section_display": true,
   "toc_window_display": false
  },
  "varInspector": {
   "cols": {
    "lenName": 16,
    "lenType": 16,
    "lenVar": 40
   },
   "kernels_config": {
    "python": {
     "delete_cmd_postfix": "",
     "delete_cmd_prefix": "del ",
     "library": "var_list.py",
     "varRefreshCmd": "print(var_dic_list())"
    },
    "r": {
     "delete_cmd_postfix": ") ",
     "delete_cmd_prefix": "rm(",
     "library": "var_list.r",
     "varRefreshCmd": "cat(var_dic_list()) "
    }
   },
   "types_to_exclude": [
    "module",
    "function",
    "builtin_function_or_method",
    "instance",
    "_Feature"
   ],
   "window_display": false
  }
 },
 "nbformat": 4,
 "nbformat_minor": 2
}
