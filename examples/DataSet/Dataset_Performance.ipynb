{
 "cells": [
  {
   "cell_type": "markdown",
   "metadata": {},
   "source": [
    "# DataSet Performance\n",
    "\n",
    "This notebook shows the trade-off between inserting data into a database row-by-row and as binary blobs. Inserting the data row-by-row means that we have direct access to all the data and may perform queries directly on the values of the data. On the other hand, as we shall see, this is much slower than inserting the data directly as binary blobs."
   ]
  },
  {
   "cell_type": "markdown",
   "metadata": {},
   "source": [
    "First, we choose a new location for the database to ensure that we don't add a bunch of benchmarking data to the default one."
   ]
  },
  {
   "cell_type": "code",
   "execution_count": 1,
   "metadata": {},
   "outputs": [
    {
     "name": "stdout",
     "output_type": "stream",
     "text": [
      "Logging hadn't been started.\n",
      "Activating auto-logging. Current session state plus future input saved.\n",
      "Filename       : /home/vsts/.qcodes/logs/command_history.log\n",
      "Mode           : append\n",
      "Output logging : True\n",
      "Raw input log  : False\n",
      "Timestamping   : True\n",
      "State          : active\n"
     ]
    },
    {
     "name": "stdout",
     "output_type": "stream",
     "text": [
      "Qcodes Logfile : /home/vsts/.qcodes/logs/200323-17994-qcodes.log\n"
     ]
    }
   ],
   "source": [
    "import os\n",
    "cwd = os.getcwd()\n",
    "import qcodes as qc\n",
    "qc.config[\"core\"][\"db_location\"] = os.path.join(cwd, 'testing.db')\n"
   ]
  },
  {
   "cell_type": "code",
   "execution_count": 2,
   "metadata": {},
   "outputs": [],
   "source": [
    "%matplotlib inline\n",
    "import time\n",
    "import matplotlib.pyplot as plt\n",
    "import numpy as np\n",
    "\n",
    "import qcodes as qc\n",
    "from qcodes.instrument.parameter import ManualParameter\n",
    "from qcodes.dataset.experiment_container import (Experiment,\n",
    "                                                 load_last_experiment,\n",
    "                                                 new_experiment)\n",
    "from qcodes.dataset.sqlite.database import initialise_database\n",
    "from qcodes import load_or_create_experiment\n",
    "from qcodes.dataset.measurements import Measurement"
   ]
  },
  {
   "cell_type": "code",
   "execution_count": 3,
   "metadata": {},
   "outputs": [
    {
     "name": "stdout",
     "output_type": "stream",
     "text": [
      "\r",
      "0it [00:00, ?it/s]"
     ]
    },
    {
     "name": "stdout",
     "output_type": "stream",
     "text": [
      "\r",
      "Upgrading database; v0 -> v1: : 0it [00:00, ?it/s]"
     ]
    },
    {
     "name": "stdout",
     "output_type": "stream",
     "text": [
      "\r",
      "Upgrading database; v0 -> v1: : 0it [00:00, ?it/s]"
     ]
    },
    {
     "name": "stdout",
     "output_type": "stream",
     "text": [
      "\n",
      "\r",
      "  0%|          | 0/1 [00:00<?, ?it/s]"
     ]
    },
    {
     "name": "stdout",
     "output_type": "stream",
     "text": [
      "\r",
      "Upgrading database; v1 -> v2:   0%|          | 0/1 [00:00<?, ?it/s]"
     ]
    },
    {
     "name": "stdout",
     "output_type": "stream",
     "text": [
      "\r",
      "Upgrading database; v1 -> v2: 100%|██████████| 1/1 [00:00<00:00, 848.88it/s]"
     ]
    },
    {
     "name": "stdout",
     "output_type": "stream",
     "text": [
      "\n",
      "\r",
      "0it [00:00, ?it/s]"
     ]
    },
    {
     "name": "stdout",
     "output_type": "stream",
     "text": [
      "\r",
      "Upgrading database; v2 -> v3: : 0it [00:00, ?it/s]"
     ]
    },
    {
     "name": "stdout",
     "output_type": "stream",
     "text": [
      "\r",
      "Upgrading database; v2 -> v3: : 0it [00:00, ?it/s]"
     ]
    },
    {
     "name": "stdout",
     "output_type": "stream",
     "text": [
      "\n",
      "\r",
      "0it [00:00, ?it/s]"
     ]
    },
    {
     "name": "stdout",
     "output_type": "stream",
     "text": [
      "\r",
      "Upgrading database; v3 -> v4: : 0it [00:00, ?it/s]"
     ]
    },
    {
     "name": "stdout",
     "output_type": "stream",
     "text": [
      "\r",
      "Upgrading database; v3 -> v4: : 0it [00:00, ?it/s]"
     ]
    },
    {
     "name": "stdout",
     "output_type": "stream",
     "text": [
      "\n",
      "\r",
      "  0%|          | 0/1 [00:00<?, ?it/s]"
     ]
    },
    {
     "name": "stdout",
     "output_type": "stream",
     "text": [
      "\r",
      "Upgrading database; v4 -> v5:   0%|          | 0/1 [00:00<?, ?it/s]"
     ]
    },
    {
     "name": "stdout",
     "output_type": "stream",
     "text": [
      "\r",
      "Upgrading database; v4 -> v5: 100%|██████████| 1/1 [00:00<00:00, 1015.32it/s]"
     ]
    },
    {
     "name": "stdout",
     "output_type": "stream",
     "text": [
      "\n",
      "\r",
      "0it [00:00, ?it/s]"
     ]
    },
    {
     "name": "stdout",
     "output_type": "stream",
     "text": [
      "\r",
      "Upgrading database; v5 -> v6: : 0it [00:00, ?it/s]"
     ]
    },
    {
     "name": "stdout",
     "output_type": "stream",
     "text": [
      "\r",
      "Upgrading database; v5 -> v6: : 0it [00:00, ?it/s]"
     ]
    },
    {
     "name": "stdout",
     "output_type": "stream",
     "text": [
      "\n",
      "\r",
      "  0%|          | 0/1 [00:00<?, ?it/s]"
     ]
    },
    {
     "name": "stdout",
     "output_type": "stream",
     "text": [
      "\r",
      "Upgrading database; v6 -> v7:   0%|          | 0/1 [00:00<?, ?it/s]"
     ]
    },
    {
     "name": "stdout",
     "output_type": "stream",
     "text": [
      "\r",
      "Upgrading database; v6 -> v7: 100%|██████████| 1/1 [00:00<00:00, 286.18it/s]"
     ]
    },
    {
     "name": "stdout",
     "output_type": "stream",
     "text": [
      "\n",
      "\r",
      "  0%|          | 0/1 [00:00<?, ?it/s]"
     ]
    },
    {
     "name": "stdout",
     "output_type": "stream",
     "text": [
      "\r",
      "Upgrading database; v7 -> v8:   0%|          | 0/1 [00:00<?, ?it/s]"
     ]
    },
    {
     "name": "stdout",
     "output_type": "stream",
     "text": [
      "\r",
      "Upgrading database; v7 -> v8: 100%|██████████| 1/1 [00:00<00:00, 683.78it/s]"
     ]
    },
    {
     "name": "stdout",
     "output_type": "stream",
     "text": [
      "\n",
      "\r",
      "  0%|          | 0/1 [00:00<?, ?it/s]"
     ]
    },
    {
     "name": "stdout",
     "output_type": "stream",
     "text": [
      "\r",
      "Upgrading database; v8 -> v9:   0%|          | 0/1 [00:00<?, ?it/s]"
     ]
    },
    {
     "name": "stdout",
     "output_type": "stream",
     "text": [
      "\r",
      "Upgrading database; v8 -> v9: 100%|██████████| 1/1 [00:00<00:00, 870.91it/s]"
     ]
    },
    {
     "name": "stdout",
     "output_type": "stream",
     "text": [
      "\n"
     ]
    }
   ],
   "source": [
    "initialise_database()\n",
    "exp = load_or_create_experiment(experiment_name='tutorial_exp', sample_name=\"no sample\")"
   ]
  },
  {
   "cell_type": "markdown",
   "metadata": {},
   "source": [
    "Here, we define a simple function to benchmark the time it takes to insert n points with either numeric or array data type.\n",
    "We will compare both the time used to call ``add_result`` and the time used for the full measurement."
   ]
  },
  {
   "cell_type": "code",
   "execution_count": 4,
   "metadata": {},
   "outputs": [],
   "source": [
    "def insert_data(paramtype, npoints, nreps=1):\n",
    "\n",
    "    meas = Measurement(exp=exp)\n",
    "\n",
    "    x1 = ManualParameter('x1')\n",
    "    x2 = ManualParameter('x2')\n",
    "    x3 = ManualParameter('x3')\n",
    "    y1 = ManualParameter('y1')\n",
    "    y2 = ManualParameter('y2')\n",
    "\n",
    "    meas.register_parameter(x1, paramtype=paramtype)\n",
    "    meas.register_parameter(x2, paramtype=paramtype)\n",
    "    meas.register_parameter(x3, paramtype=paramtype)\n",
    "    meas.register_parameter(y1, setpoints=[x1, x2, x3],\n",
    "                            paramtype=paramtype)\n",
    "    meas.register_parameter(y2, setpoints=[x1, x2, x3],\n",
    "                            paramtype=paramtype)\n",
    "    start = time.perf_counter()\n",
    "    with meas.run() as datasaver:\n",
    "        start_adding = time.perf_counter()\n",
    "        for i in range(nreps):\n",
    "            datasaver.add_result((x1, np.random.rand(npoints)),\n",
    "                                 (x2, np.random.rand(npoints)),\n",
    "                                 (x3, np.random.rand(npoints)),\n",
    "                                 (y1, np.random.rand(npoints)),\n",
    "                                 (y2, np.random.rand(npoints)))\n",
    "        stop_adding = time.perf_counter()\n",
    "        run_id = datasaver.run_id\n",
    "    stop = time.perf_counter()\n",
    "    tot_time = stop - start\n",
    "    add_time = stop_adding - start_adding\n",
    "    return tot_time, add_time, run_id"
   ]
  },
  {
   "cell_type": "markdown",
   "metadata": {},
   "source": [
    "## Comparison between numeric/array data and binary blob"
   ]
  },
  {
   "cell_type": "markdown",
   "metadata": {},
   "source": [
    "### Case1: Short experiment time"
   ]
  },
  {
   "cell_type": "code",
   "execution_count": 5,
   "metadata": {},
   "outputs": [
    {
     "name": "stdout",
     "output_type": "stream",
     "text": [
      "Starting experimental run with id: 1. \n",
      "Starting experimental run with id: 2. \n",
      "Starting experimental run with id: 3. \n"
     ]
    },
    {
     "name": "stdout",
     "output_type": "stream",
     "text": [
      "Starting experimental run with id: 4. \n"
     ]
    },
    {
     "name": "stdout",
     "output_type": "stream",
     "text": [
      "Starting experimental run with id: 5. \n"
     ]
    },
    {
     "name": "stdout",
     "output_type": "stream",
     "text": [
      "Starting experimental run with id: 6. \n"
     ]
    },
    {
     "name": "stdout",
     "output_type": "stream",
     "text": [
      "Starting experimental run with id: 7. \n"
     ]
    },
    {
     "name": "stdout",
     "output_type": "stream",
     "text": [
      "Starting experimental run with id: 8. \n",
      "Starting experimental run with id: 9. \n"
     ]
    },
    {
     "name": "stdout",
     "output_type": "stream",
     "text": [
      "Starting experimental run with id: 10. \n",
      "Starting experimental run with id: 11. \n"
     ]
    },
    {
     "name": "stdout",
     "output_type": "stream",
     "text": [
      "Starting experimental run with id: 12. \n"
     ]
    },
    {
     "name": "stdout",
     "output_type": "stream",
     "text": [
      "Starting experimental run with id: 13. \n"
     ]
    },
    {
     "name": "stdout",
     "output_type": "stream",
     "text": [
      "Starting experimental run with id: 14. \n"
     ]
    }
   ],
   "source": [
    "sizes = [1,500,1000,2000,3000,4000,5000]\n",
    "t_numeric = []\n",
    "t_numeric_add = []\n",
    "t_array = []\n",
    "t_array_add = []\n",
    "for size in sizes:\n",
    "    tn, tna, run_id_n =  insert_data('numeric', size)\n",
    "    t_numeric.append(tn)\n",
    "    t_numeric_add.append(tna)\n",
    "\n",
    "    ta, taa, run_id_a =  insert_data('array', size)\n",
    "    t_array.append(ta)\n",
    "    t_array_add.append(taa)"
   ]
  },
  {
   "cell_type": "code",
   "execution_count": 6,
   "metadata": {},
   "outputs": [
    {
     "data": {
      "image/png": "[encoded data removed]",
      "text/plain": [
       "<Figure size 432x288 with 1 Axes>"
      ]
     },
     "metadata": {
      "needs_background": "light"
     },
     "output_type": "display_data"
    }
   ],
   "source": [
    "fig, ax = plt.subplots(1,1)\n",
    "ax.plot(sizes, t_numeric, 'o-', label='Inserting row-by-row')\n",
    "ax.plot(sizes, t_numeric_add, 'o-', label='Inserting row-by-row: add_result only')\n",
    "ax.plot(sizes, t_array, 'd-', label='Inserting as binary blob')\n",
    "ax.plot(sizes, t_array_add, 'd-', label='Inserting as binary blob: add_result only')\n",
    "ax.legend()\n",
    "ax.set_xlabel('Array length')\n",
    "ax.set_ylabel('Time (s)')\n",
    "fig.tight_layout()"
   ]
  },
  {
   "cell_type": "markdown",
   "metadata": {},
   "source": [
    "As shown in the latter figure, the time to setup and and close the experiment is approximately 0.4 sec. In case of small array sizes, the difference between inserting values of data as arrays and inserting them row-by-row is relatively unimportant. At larger array sizes, i.e. above 10000 points, the cost of writing data as individual datapoints starts to become important.\n"
   ]
  },
  {
   "cell_type": "markdown",
   "metadata": {},
   "source": [
    "### Case2: Long experiment time "
   ]
  },
  {
   "cell_type": "code",
   "execution_count": 7,
   "metadata": {},
   "outputs": [
    {
     "name": "stdout",
     "output_type": "stream",
     "text": [
      "Starting experimental run with id: 15. \n",
      "Starting experimental run with id: 16. \n",
      "Starting experimental run with id: 17. \n"
     ]
    },
    {
     "name": "stdout",
     "output_type": "stream",
     "text": [
      "Starting experimental run with id: 18. \n",
      "Starting experimental run with id: 19. \n"
     ]
    },
    {
     "name": "stdout",
     "output_type": "stream",
     "text": [
      "Starting experimental run with id: 20. \n"
     ]
    },
    {
     "name": "stdout",
     "output_type": "stream",
     "text": [
      "Starting experimental run with id: 21. \n"
     ]
    },
    {
     "name": "stdout",
     "output_type": "stream",
     "text": [
      "Starting experimental run with id: 22. \n"
     ]
    },
    {
     "name": "stdout",
     "output_type": "stream",
     "text": [
      "Starting experimental run with id: 23. \n"
     ]
    },
    {
     "name": "stdout",
     "output_type": "stream",
     "text": [
      "Starting experimental run with id: 24. \n"
     ]
    },
    {
     "name": "stdout",
     "output_type": "stream",
     "text": [
      "Starting experimental run with id: 25. \n"
     ]
    },
    {
     "name": "stdout",
     "output_type": "stream",
     "text": [
      "Starting experimental run with id: 26. \n"
     ]
    },
    {
     "name": "stdout",
     "output_type": "stream",
     "text": [
      "Starting experimental run with id: 27. \n"
     ]
    },
    {
     "name": "stdout",
     "output_type": "stream",
     "text": [
      "Starting experimental run with id: 28. \n"
     ]
    }
   ],
   "source": [
    "sizes = [1,500,1000,2000,3000,4000,5000]\n",
    "nreps = 100\n",
    "t_numeric = []\n",
    "t_numeric_add = []\n",
    "t_numeric_run_ids = []\n",
    "t_array = []\n",
    "t_array_add = []\n",
    "t_array_run_ids = []\n",
    "for size in sizes:\n",
    "    tn, tna, run_id_n =  insert_data('numeric', size, nreps=nreps)\n",
    "    t_numeric.append(tn)\n",
    "    t_numeric_add.append(tna)\n",
    "    t_numeric_run_ids.append(run_id_n)\n",
    "\n",
    "    ta, taa, run_id_a =  insert_data('array', size, nreps=nreps)\n",
    "    t_array.append(ta)\n",
    "    t_array_add.append(taa)\n",
    "    t_array_run_ids.append(run_id_a)"
   ]
  },
  {
   "cell_type": "code",
   "execution_count": 8,
   "metadata": {
    "scrolled": true
   },
   "outputs": [
    {
     "data": {
      "image/png": "[encoded data removed]",
      "text/plain": [
       "<Figure size 432x288 with 1 Axes>"
      ]
     },
     "metadata": {
      "needs_background": "light"
     },
     "output_type": "display_data"
    }
   ],
   "source": [
    "fig, ax = plt.subplots(1,1)\n",
    "ax.plot(sizes, t_numeric, 'o-', label='Inserting row-by-row')\n",
    "ax.plot(sizes, t_numeric_add, 'o-', label='Inserting row-by-row: add_result only')\n",
    "ax.plot(sizes, t_array, 'd-', label='Inserting as binary blob')\n",
    "ax.plot(sizes, t_array_add, 'd-', label='Inserting as binary blob: add_result only')\n",
    "ax.legend()\n",
    "ax.set_xlabel('Array length')\n",
    "ax.set_ylabel('Time (s)')\n",
    "fig.tight_layout()"
   ]
  },
  {
   "cell_type": "markdown",
   "metadata": {},
   "source": [
    "However, as we increase the length of the experiment, as seen here by repeating the insertion 100 times, we see a big difference between inserting values of the data row-by-row and inserting it as a binary blob."
   ]
  },
  {
   "cell_type": "markdown",
   "metadata": {},
   "source": [
    "## Loading the data "
   ]
  },
  {
   "cell_type": "code",
   "execution_count": 9,
   "metadata": {},
   "outputs": [],
   "source": [
    "from qcodes.dataset.data_set import load_by_id\n",
    "from qcodes.dataset.data_export import get_data_by_id"
   ]
  },
  {
   "cell_type": "markdown",
   "metadata": {},
   "source": [
    "As usual you can load the data by using the ``load_by_id`` function but you will notice that the different storage methods\n",
    "are reflected in shape of the data as it is retrieved. "
   ]
  },
  {
   "cell_type": "code",
   "execution_count": 10,
   "metadata": {},
   "outputs": [],
   "source": [
    "run_id_n = t_numeric_run_ids[0]\n",
    "run_id_a = t_array_run_ids[0]"
   ]
  },
  {
   "cell_type": "code",
   "execution_count": 11,
   "metadata": {
    "scrolled": true
   },
   "outputs": [
    {
     "data": {
      "text/plain": [
       "{'x1': {'x1': array([0.68104546, 0.68104546, 0.88422738, 0.88422738, 0.35177434,\n",
       "         0.35177434, 0.65372395, 0.65372395, 0.69600317, 0.69600317,\n",
       "         0.6347576 , 0.6347576 , 0.65993667, 0.65993667, 0.06104551,\n",
       "         0.06104551, 0.10904853, 0.10904853, 0.5288447 , 0.5288447 ,\n",
       "         0.27459009, 0.27459009, 0.63517779, 0.63517779, 0.87847161,\n",
       "         0.87847161, 0.33380137, 0.33380137, 0.47048401, 0.47048401,\n",
       "         0.86670931, 0.86670931, 0.12399435, 0.12399435, 0.38360121,\n",
       "         0.38360121, 0.00181859, 0.00181859, 0.73156819, 0.73156819,\n",
       "         0.62567605, 0.62567605, 0.79640869, 0.79640869, 0.94850765,\n",
       "         0.94850765, 0.72032489, 0.72032489, 0.2338931 , 0.2338931 ,\n",
       "         0.73053958, 0.73053958, 0.30676906, 0.30676906, 0.07770965,\n",
       "         0.07770965, 0.88666486, 0.88666486, 0.22789548, 0.22789548,\n",
       "         0.31844547, 0.31844547, 0.02234996, 0.02234996, 0.55020103,\n",
       "         0.55020103, 0.25401327, 0.25401327, 0.76502709, 0.76502709,\n",
       "         0.06806751, 0.06806751, 0.463795  , 0.463795  , 0.89933146,\n",
       "         0.89933146, 0.09696421, 0.09696421, 0.0342699 , 0.0342699 ,\n",
       "         0.23757796, 0.23757796, 0.00321588, 0.00321588, 0.02882253,\n",
       "         0.02882253, 0.89010587, 0.89010587, 0.03472164, 0.03472164,\n",
       "         0.23659565, 0.23659565, 0.87498039, 0.87498039, 0.70263839,\n",
       "         0.70263839, 0.50133822, 0.50133822, 0.11447846, 0.11447846,\n",
       "         0.35067462, 0.35067462, 0.68780944, 0.68780944, 0.59033071,\n",
       "         0.59033071, 0.93723922, 0.93723922, 0.51556531, 0.51556531,\n",
       "         0.7411172 , 0.7411172 , 0.227391  , 0.227391  , 0.4894242 ,\n",
       "         0.4894242 , 0.38535464, 0.38535464, 0.44710577, 0.44710577,\n",
       "         0.94003674, 0.94003674, 0.00357279, 0.00357279, 0.68964921,\n",
       "         0.68964921, 0.37487961, 0.37487961, 0.9314247 , 0.9314247 ,\n",
       "         0.76550025, 0.76550025, 0.19527405, 0.19527405, 0.50741022,\n",
       "         0.50741022, 0.24804247, 0.24804247, 0.58612016, 0.58612016,\n",
       "         0.51046427, 0.51046427, 0.69858164, 0.69858164, 0.25281618,\n",
       "         0.25281618, 0.58164153, 0.58164153, 0.97761116, 0.97761116,\n",
       "         0.23591991, 0.23591991, 0.25028094, 0.25028094, 0.07011757,\n",
       "         0.07011757, 0.29328997, 0.29328997, 0.23123916, 0.23123916,\n",
       "         0.12235304, 0.12235304, 0.00207459, 0.00207459, 0.51223984,\n",
       "         0.51223984, 0.44809994, 0.44809994, 0.35510709, 0.35510709,\n",
       "         0.65197993, 0.65197993, 0.99604448, 0.99604448, 0.98577229,\n",
       "         0.98577229, 0.30512468, 0.30512468, 0.28140791, 0.28140791,\n",
       "         0.63740413, 0.63740413, 0.79807013, 0.79807013, 0.50662248,\n",
       "         0.50662248, 0.26734234, 0.26734234, 0.52744985, 0.52744985,\n",
       "         0.31139362, 0.31139362, 0.3886209 , 0.3886209 , 0.99611998,\n",
       "         0.99611998, 0.56298369, 0.56298369, 0.07163754, 0.07163754])}}"
      ]
     },
     "execution_count": 11,
     "metadata": {},
     "output_type": "execute_result"
    }
   ],
   "source": [
    "ds = load_by_id(run_id_n)\n",
    "ds.get_parameter_data('x1')"
   ]
  },
  {
   "cell_type": "markdown",
   "metadata": {},
   "source": [
    "And a dataset stored as binary arrays"
   ]
  },
  {
   "cell_type": "code",
   "execution_count": 12,
   "metadata": {
    "scrolled": true
   },
   "outputs": [
    {
     "data": {
      "text/plain": [
       "{'x1': {'x1': array([[0.92150025],\n",
       "         [0.92150025],\n",
       "         [0.53312837],\n",
       "         [0.53312837],\n",
       "         [0.16543187],\n",
       "         [0.16543187],\n",
       "         [0.53869149],\n",
       "         [0.53869149],\n",
       "         [0.42555528],\n",
       "         [0.42555528],\n",
       "         [0.71828527],\n",
       "         [0.71828527],\n",
       "         [0.44133743],\n",
       "         [0.44133743],\n",
       "         [0.48140084],\n",
       "         [0.48140084],\n",
       "         [0.53499361],\n",
       "         [0.53499361],\n",
       "         [0.12028753],\n",
       "         [0.12028753],\n",
       "         [0.78199606],\n",
       "         [0.78199606],\n",
       "         [0.19174947],\n",
       "         [0.19174947],\n",
       "         [0.69607172],\n",
       "         [0.69607172],\n",
       "         [0.0355016 ],\n",
       "         [0.0355016 ],\n",
       "         [0.59928742],\n",
       "         [0.59928742],\n",
       "         [0.20772725],\n",
       "         [0.20772725],\n",
       "         [0.61948082],\n",
       "         [0.61948082],\n",
       "         [0.13108312],\n",
       "         [0.13108312],\n",
       "         [0.34171825],\n",
       "         [0.34171825],\n",
       "         [0.52662457],\n",
       "         [0.52662457],\n",
       "         [0.68850808],\n",
       "         [0.68850808],\n",
       "         [0.14975222],\n",
       "         [0.14975222],\n",
       "         [0.2396263 ],\n",
       "         [0.2396263 ],\n",
       "         [0.95317192],\n",
       "         [0.95317192],\n",
       "         [0.19183768],\n",
       "         [0.19183768],\n",
       "         [0.87498828],\n",
       "         [0.87498828],\n",
       "         [0.95452233],\n",
       "         [0.95452233],\n",
       "         [0.24974926],\n",
       "         [0.24974926],\n",
       "         [0.03703456],\n",
       "         [0.03703456],\n",
       "         [0.30993318],\n",
       "         [0.30993318],\n",
       "         [0.48754235],\n",
       "         [0.48754235],\n",
       "         [0.70225958],\n",
       "         [0.70225958],\n",
       "         [0.32034818],\n",
       "         [0.32034818],\n",
       "         [0.78538427],\n",
       "         [0.78538427],\n",
       "         [0.85255806],\n",
       "         [0.85255806],\n",
       "         [0.53766542],\n",
       "         [0.53766542],\n",
       "         [0.9809029 ],\n",
       "         [0.9809029 ],\n",
       "         [0.49991743],\n",
       "         [0.49991743],\n",
       "         [0.18376152],\n",
       "         [0.18376152],\n",
       "         [0.61401427],\n",
       "         [0.61401427],\n",
       "         [0.19562351],\n",
       "         [0.19562351],\n",
       "         [0.86602164],\n",
       "         [0.86602164],\n",
       "         [0.91277523],\n",
       "         [0.91277523],\n",
       "         [0.24271125],\n",
       "         [0.24271125],\n",
       "         [0.90947005],\n",
       "         [0.90947005],\n",
       "         [0.5766043 ],\n",
       "         [0.5766043 ],\n",
       "         [0.3059953 ],\n",
       "         [0.3059953 ],\n",
       "         [0.24984537],\n",
       "         [0.24984537],\n",
       "         [0.57300518],\n",
       "         [0.57300518],\n",
       "         [0.04351383],\n",
       "         [0.04351383],\n",
       "         [0.40489233],\n",
       "         [0.40489233],\n",
       "         [0.07407379],\n",
       "         [0.07407379],\n",
       "         [0.56879915],\n",
       "         [0.56879915],\n",
       "         [0.39145542],\n",
       "         [0.39145542],\n",
       "         [0.79561821],\n",
       "         [0.79561821],\n",
       "         [0.15527142],\n",
       "         [0.15527142],\n",
       "         [0.75293889],\n",
       "         [0.75293889],\n",
       "         [0.72873751],\n",
       "         [0.72873751],\n",
       "         [0.29894364],\n",
       "         [0.29894364],\n",
       "         [0.77842963],\n",
       "         [0.77842963],\n",
       "         [0.22897638],\n",
       "         [0.22897638],\n",
       "         [0.79126419],\n",
       "         [0.79126419],\n",
       "         [0.21023269],\n",
       "         [0.21023269],\n",
       "         [0.7349713 ],\n",
       "         [0.7349713 ],\n",
       "         [0.35383781],\n",
       "         [0.35383781],\n",
       "         [0.95174443],\n",
       "         [0.95174443],\n",
       "         [0.2958078 ],\n",
       "         [0.2958078 ],\n",
       "         [0.23902056],\n",
       "         [0.23902056],\n",
       "         [0.82015335],\n",
       "         [0.82015335],\n",
       "         [0.14586982],\n",
       "         [0.14586982],\n",
       "         [0.2794499 ],\n",
       "         [0.2794499 ],\n",
       "         [0.04669727],\n",
       "         [0.04669727],\n",
       "         [0.36486713],\n",
       "         [0.36486713],\n",
       "         [0.45221495],\n",
       "         [0.45221495],\n",
       "         [0.09289035],\n",
       "         [0.09289035],\n",
       "         [0.05523916],\n",
       "         [0.05523916],\n",
       "         [0.73718262],\n",
       "         [0.73718262],\n",
       "         [0.19812551],\n",
       "         [0.19812551],\n",
       "         [0.41836778],\n",
       "         [0.41836778],\n",
       "         [0.13370791],\n",
       "         [0.13370791],\n",
       "         [0.78372185],\n",
       "         [0.78372185],\n",
       "         [0.81722104],\n",
       "         [0.81722104],\n",
       "         [0.40823979],\n",
       "         [0.40823979],\n",
       "         [0.50128056],\n",
       "         [0.50128056],\n",
       "         [0.20495877],\n",
       "         [0.20495877],\n",
       "         [0.49397147],\n",
       "         [0.49397147],\n",
       "         [0.25317324],\n",
       "         [0.25317324],\n",
       "         [0.49748478],\n",
       "         [0.49748478],\n",
       "         [0.77329691],\n",
       "         [0.77329691],\n",
       "         [0.15183593],\n",
       "         [0.15183593],\n",
       "         [0.59365905],\n",
       "         [0.59365905],\n",
       "         [0.3294593 ],\n",
       "         [0.3294593 ],\n",
       "         [0.73540884],\n",
       "         [0.73540884],\n",
       "         [0.10490528],\n",
       "         [0.10490528],\n",
       "         [0.31470447],\n",
       "         [0.31470447],\n",
       "         [0.54555196],\n",
       "         [0.54555196],\n",
       "         [0.87474746],\n",
       "         [0.87474746],\n",
       "         [0.04035203],\n",
       "         [0.04035203],\n",
       "         [0.62557649],\n",
       "         [0.62557649],\n",
       "         [0.11329153],\n",
       "         [0.11329153]])}}"
      ]
     },
     "execution_count": 12,
     "metadata": {},
     "output_type": "execute_result"
    }
   ],
   "source": [
    "ds = load_by_id(run_id_a)\n",
    "ds.get_parameter_data('x1')"
   ]
  },
  {
   "cell_type": "code",
   "execution_count": null,
   "metadata": {},
   "outputs": [],
   "source": []
  }
 ],
 "metadata": {
  "kernelspec": {
   "display_name": "Python 3",
   "language": "python",
   "name": "python3"
  },
  "language_info": {
   "codemirror_mode": {
    "name": "ipython",
    "version": 3
   },
   "file_extension": ".py",
   "mimetype": "text/x-python",
   "name": "python",
   "nbconvert_exporter": "python",
   "pygments_lexer": "ipython3",
   "version": "3.7.5"
  },
  "nbsphinx": {
   "timeout": 600
  },
  "toc": {
   "base_numbering": 1,
   "nav_menu": {},
   "number_sections": true,
   "sideBar": true,
   "skip_h1_title": false,
   "title_cell": "Table of Contents",
   "title_sidebar": "Contents",
   "toc_cell": false,
   "toc_position": {},
   "toc_section_display": true,
   "toc_window_display": false
  },
  "varInspector": {
   "cols": {
    "lenName": 16,
    "lenType": 16,
    "lenVar": 40
   },
   "kernels_config": {
    "python": {
     "delete_cmd_postfix": "",
     "delete_cmd_prefix": "del ",
     "library": "var_list.py",
     "varRefreshCmd": "print(var_dic_list())"
    },
    "r": {
     "delete_cmd_postfix": ") ",
     "delete_cmd_prefix": "rm(",
     "library": "var_list.r",
     "varRefreshCmd": "cat(var_dic_list()) "
    }
   },
   "types_to_exclude": [
    "module",
    "function",
    "builtin_function_or_method",
    "instance",
    "_Feature"
   ],
   "window_display": false
  }
 },
 "nbformat": 4,
 "nbformat_minor": 2
}
