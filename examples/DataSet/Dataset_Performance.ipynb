{
 "cells": [
  {
   "cell_type": "markdown",
   "metadata": {},
   "source": [
    "# DataSet Performance\n",
    "\n",
    "This notebook shows the trade-off between inserting data into a database row-by-row and as binary blobs. Inserting the data row-by-row means that we have direct access to all the data and may perform queries directly on the values of the data. On the other hand, as we shall see, this is much slower than inserting the data directly as binary blobs."
   ]
  },
  {
   "cell_type": "markdown",
   "metadata": {},
   "source": [
    "First, we choose a new location for the database to ensure that we don't add a bunch of benchmarking data to the default one."
   ]
  },
  {
   "cell_type": "code",
   "execution_count": 1,
   "metadata": {},
   "outputs": [
    {
     "name": "stdout",
     "output_type": "stream",
     "text": [
      "Logging hadn't been started.\n",
      "Activating auto-logging. Current session state plus future input saved.\n",
      "Filename       : /home/vsts/.qcodes/logs/command_history.log\n",
      "Mode           : append\n",
      "Output logging : True\n",
      "Raw input log  : False\n",
      "Timestamping   : True\n",
      "State          : active\n"
     ]
    },
    {
     "name": "stdout",
     "output_type": "stream",
     "text": [
      "Qcodes Logfile : /home/vsts/.qcodes/logs/200706-19064-qcodes.log\n"
     ]
    }
   ],
   "source": [
    "import os\n",
    "cwd = os.getcwd()\n",
    "import qcodes as qc\n",
    "qc.config[\"core\"][\"db_location\"] = os.path.join(cwd, 'testing.db')\n"
   ]
  },
  {
   "cell_type": "code",
   "execution_count": 2,
   "metadata": {},
   "outputs": [],
   "source": [
    "%matplotlib inline\n",
    "import time\n",
    "import matplotlib.pyplot as plt\n",
    "import numpy as np\n",
    "\n",
    "import qcodes as qc\n",
    "from qcodes.instrument.parameter import ManualParameter\n",
    "from qcodes.dataset.experiment_container import (Experiment,\n",
    "                                                 load_last_experiment,\n",
    "                                                 new_experiment)\n",
    "from qcodes.dataset.sqlite.database import initialise_database\n",
    "from qcodes import load_or_create_experiment\n",
    "from qcodes.dataset.measurements import Measurement"
   ]
  },
  {
   "cell_type": "code",
   "execution_count": 3,
   "metadata": {},
   "outputs": [
    {
     "name": "stdout",
     "output_type": "stream",
     "text": [
      "\r",
      "0it [00:00, ?it/s]"
     ]
    },
    {
     "name": "stdout",
     "output_type": "stream",
     "text": [
      "\r",
      "Upgrading database; v0 -> v1: : 0it [00:00, ?it/s]"
     ]
    },
    {
     "name": "stdout",
     "output_type": "stream",
     "text": [
      "\r",
      "Upgrading database; v0 -> v1: : 0it [00:00, ?it/s]"
     ]
    },
    {
     "name": "stdout",
     "output_type": "stream",
     "text": [
      "\n",
      "\r",
      "  0%|          | 0/1 [00:00<?, ?it/s]"
     ]
    },
    {
     "name": "stdout",
     "output_type": "stream",
     "text": [
      "\r",
      "Upgrading database; v1 -> v2:   0%|          | 0/1 [00:00<?, ?it/s]"
     ]
    },
    {
     "name": "stdout",
     "output_type": "stream",
     "text": [
      "\r",
      "Upgrading database; v1 -> v2: 100%|██████████| 1/1 [00:00<00:00, 1047.79it/s]"
     ]
    },
    {
     "name": "stdout",
     "output_type": "stream",
     "text": [
      "\n",
      "\r",
      "0it [00:00, ?it/s]"
     ]
    },
    {
     "name": "stdout",
     "output_type": "stream",
     "text": [
      "\r",
      "Upgrading database; v2 -> v3: : 0it [00:00, ?it/s]"
     ]
    },
    {
     "name": "stdout",
     "output_type": "stream",
     "text": [
      "\r",
      "Upgrading database; v2 -> v3: : 0it [00:00, ?it/s]"
     ]
    },
    {
     "name": "stdout",
     "output_type": "stream",
     "text": [
      "\n",
      "\r",
      "0it [00:00, ?it/s]"
     ]
    },
    {
     "name": "stdout",
     "output_type": "stream",
     "text": [
      "\r",
      "Upgrading database; v3 -> v4: : 0it [00:00, ?it/s]"
     ]
    },
    {
     "name": "stdout",
     "output_type": "stream",
     "text": [
      "\r",
      "Upgrading database; v3 -> v4: : 0it [00:00, ?it/s]"
     ]
    },
    {
     "name": "stdout",
     "output_type": "stream",
     "text": [
      "\n",
      "\r",
      "  0%|          | 0/1 [00:00<?, ?it/s]"
     ]
    },
    {
     "name": "stdout",
     "output_type": "stream",
     "text": [
      "\r",
      "Upgrading database; v4 -> v5:   0%|          | 0/1 [00:00<?, ?it/s]"
     ]
    },
    {
     "name": "stdout",
     "output_type": "stream",
     "text": [
      "\r",
      "Upgrading database; v4 -> v5: 100%|██████████| 1/1 [00:00<00:00, 841.89it/s]"
     ]
    },
    {
     "name": "stdout",
     "output_type": "stream",
     "text": [
      "\n",
      "\r",
      "0it [00:00, ?it/s]"
     ]
    },
    {
     "name": "stdout",
     "output_type": "stream",
     "text": [
      "\r",
      "Upgrading database; v5 -> v6: : 0it [00:00, ?it/s]"
     ]
    },
    {
     "name": "stdout",
     "output_type": "stream",
     "text": [
      "\r",
      "Upgrading database; v5 -> v6: : 0it [00:00, ?it/s]"
     ]
    },
    {
     "name": "stdout",
     "output_type": "stream",
     "text": [
      "\n",
      "\r",
      "  0%|          | 0/1 [00:00<?, ?it/s]"
     ]
    },
    {
     "name": "stdout",
     "output_type": "stream",
     "text": [
      "\r",
      "Upgrading database; v6 -> v7:   0%|          | 0/1 [00:00<?, ?it/s]"
     ]
    },
    {
     "name": "stdout",
     "output_type": "stream",
     "text": [
      "\r",
      "Upgrading database; v6 -> v7: 100%|██████████| 1/1 [00:00<00:00, 341.08it/s]"
     ]
    },
    {
     "name": "stdout",
     "output_type": "stream",
     "text": [
      "\n",
      "\r",
      "  0%|          | 0/1 [00:00<?, ?it/s]"
     ]
    },
    {
     "name": "stdout",
     "output_type": "stream",
     "text": [
      "\r",
      "Upgrading database; v7 -> v8:   0%|          | 0/1 [00:00<?, ?it/s]"
     ]
    },
    {
     "name": "stdout",
     "output_type": "stream",
     "text": [
      "\r",
      "Upgrading database; v7 -> v8: 100%|██████████| 1/1 [00:00<00:00, 802.58it/s]"
     ]
    },
    {
     "name": "stdout",
     "output_type": "stream",
     "text": [
      "\n",
      "\r",
      "  0%|          | 0/1 [00:00<?, ?it/s]"
     ]
    },
    {
     "name": "stdout",
     "output_type": "stream",
     "text": [
      "\r",
      "Upgrading database; v8 -> v9:   0%|          | 0/1 [00:00<?, ?it/s]"
     ]
    },
    {
     "name": "stdout",
     "output_type": "stream",
     "text": [
      "\r",
      "Upgrading database; v8 -> v9: 100%|██████████| 1/1 [00:00<00:00, 947.87it/s]"
     ]
    },
    {
     "name": "stdout",
     "output_type": "stream",
     "text": [
      "\n"
     ]
    }
   ],
   "source": [
    "initialise_database()\n",
    "exp = load_or_create_experiment(experiment_name='tutorial_exp', sample_name=\"no sample\")"
   ]
  },
  {
   "cell_type": "markdown",
   "metadata": {},
   "source": [
    "Here, we define a simple function to benchmark the time it takes to insert n points with either numeric or array data type.\n",
    "We will compare both the time used to call ``add_result`` and the time used for the full measurement."
   ]
  },
  {
   "cell_type": "code",
   "execution_count": 4,
   "metadata": {},
   "outputs": [],
   "source": [
    "def insert_data(paramtype, npoints, nreps=1):\n",
    "\n",
    "    meas = Measurement(exp=exp)\n",
    "\n",
    "    x1 = ManualParameter('x1')\n",
    "    x2 = ManualParameter('x2')\n",
    "    x3 = ManualParameter('x3')\n",
    "    y1 = ManualParameter('y1')\n",
    "    y2 = ManualParameter('y2')\n",
    "\n",
    "    meas.register_parameter(x1, paramtype=paramtype)\n",
    "    meas.register_parameter(x2, paramtype=paramtype)\n",
    "    meas.register_parameter(x3, paramtype=paramtype)\n",
    "    meas.register_parameter(y1, setpoints=[x1, x2, x3],\n",
    "                            paramtype=paramtype)\n",
    "    meas.register_parameter(y2, setpoints=[x1, x2, x3],\n",
    "                            paramtype=paramtype)\n",
    "    start = time.perf_counter()\n",
    "    with meas.run() as datasaver:\n",
    "        start_adding = time.perf_counter()\n",
    "        for i in range(nreps):\n",
    "            datasaver.add_result((x1, np.random.rand(npoints)),\n",
    "                                 (x2, np.random.rand(npoints)),\n",
    "                                 (x3, np.random.rand(npoints)),\n",
    "                                 (y1, np.random.rand(npoints)),\n",
    "                                 (y2, np.random.rand(npoints)))\n",
    "        stop_adding = time.perf_counter()\n",
    "        run_id = datasaver.run_id\n",
    "    stop = time.perf_counter()\n",
    "    tot_time = stop - start\n",
    "    add_time = stop_adding - start_adding\n",
    "    return tot_time, add_time, run_id"
   ]
  },
  {
   "cell_type": "markdown",
   "metadata": {},
   "source": [
    "## Comparison between numeric/array data and binary blob"
   ]
  },
  {
   "cell_type": "markdown",
   "metadata": {},
   "source": [
    "### Case1: Short experiment time"
   ]
  },
  {
   "cell_type": "code",
   "execution_count": 5,
   "metadata": {},
   "outputs": [
    {
     "name": "stdout",
     "output_type": "stream",
     "text": [
      "Starting experimental run with id: 1. \n",
      "Starting experimental run with id: 2. \n",
      "Starting experimental run with id: 3. \n",
      "Starting experimental run with id: 4. \n"
     ]
    },
    {
     "name": "stdout",
     "output_type": "stream",
     "text": [
      "Starting experimental run with id: 5. \n"
     ]
    },
    {
     "name": "stdout",
     "output_type": "stream",
     "text": [
      "Starting experimental run with id: 6. \n",
      "Starting experimental run with id: 7. \n"
     ]
    },
    {
     "name": "stdout",
     "output_type": "stream",
     "text": [
      "Starting experimental run with id: 8. \n",
      "Starting experimental run with id: 9. \n"
     ]
    },
    {
     "name": "stdout",
     "output_type": "stream",
     "text": [
      "Starting experimental run with id: 10. \n",
      "Starting experimental run with id: 11. \n"
     ]
    },
    {
     "name": "stdout",
     "output_type": "stream",
     "text": [
      "Starting experimental run with id: 12. \n",
      "Starting experimental run with id: 13. \n"
     ]
    },
    {
     "name": "stdout",
     "output_type": "stream",
     "text": [
      "Starting experimental run with id: 14. \n"
     ]
    }
   ],
   "source": [
    "sizes = [1,500,1000,2000,3000,4000,5000]\n",
    "t_numeric = []\n",
    "t_numeric_add = []\n",
    "t_array = []\n",
    "t_array_add = []\n",
    "for size in sizes:\n",
    "    tn, tna, run_id_n =  insert_data('numeric', size)\n",
    "    t_numeric.append(tn)\n",
    "    t_numeric_add.append(tna)\n",
    "\n",
    "    ta, taa, run_id_a =  insert_data('array', size)\n",
    "    t_array.append(ta)\n",
    "    t_array_add.append(taa)"
   ]
  },
  {
   "cell_type": "code",
   "execution_count": 6,
   "metadata": {},
   "outputs": [
    {
     "data": {
      "image/png": "[encoded data removed]",
      "text/plain": [
       "<Figure size 432x288 with 1 Axes>"
      ]
     },
     "metadata": {
      "needs_background": "light"
     },
     "output_type": "display_data"
    }
   ],
   "source": [
    "fig, ax = plt.subplots(1,1)\n",
    "ax.plot(sizes, t_numeric, 'o-', label='Inserting row-by-row')\n",
    "ax.plot(sizes, t_numeric_add, 'o-', label='Inserting row-by-row: add_result only')\n",
    "ax.plot(sizes, t_array, 'd-', label='Inserting as binary blob')\n",
    "ax.plot(sizes, t_array_add, 'd-', label='Inserting as binary blob: add_result only')\n",
    "ax.legend()\n",
    "ax.set_xlabel('Array length')\n",
    "ax.set_ylabel('Time (s)')\n",
    "fig.tight_layout()"
   ]
  },
  {
   "cell_type": "markdown",
   "metadata": {},
   "source": [
    "As shown in the latter figure, the time to setup and and close the experiment is approximately 0.4 sec. In case of small array sizes, the difference between inserting values of data as arrays and inserting them row-by-row is relatively unimportant. At larger array sizes, i.e. above 10000 points, the cost of writing data as individual datapoints starts to become important.\n"
   ]
  },
  {
   "cell_type": "markdown",
   "metadata": {},
   "source": [
    "### Case2: Long experiment time "
   ]
  },
  {
   "cell_type": "code",
   "execution_count": 7,
   "metadata": {},
   "outputs": [
    {
     "name": "stdout",
     "output_type": "stream",
     "text": [
      "Starting experimental run with id: 15. \n",
      "Starting experimental run with id: 16. \n",
      "Starting experimental run with id: 17. \n"
     ]
    },
    {
     "name": "stdout",
     "output_type": "stream",
     "text": [
      "Starting experimental run with id: 18. \n",
      "Starting experimental run with id: 19. \n"
     ]
    },
    {
     "name": "stdout",
     "output_type": "stream",
     "text": [
      "Starting experimental run with id: 20. \n"
     ]
    },
    {
     "name": "stdout",
     "output_type": "stream",
     "text": [
      "Starting experimental run with id: 21. \n"
     ]
    },
    {
     "name": "stdout",
     "output_type": "stream",
     "text": [
      "Starting experimental run with id: 22. \n"
     ]
    },
    {
     "name": "stdout",
     "output_type": "stream",
     "text": [
      "Starting experimental run with id: 23. \n"
     ]
    },
    {
     "name": "stdout",
     "output_type": "stream",
     "text": [
      "Starting experimental run with id: 24. \n"
     ]
    },
    {
     "name": "stdout",
     "output_type": "stream",
     "text": [
      "Starting experimental run with id: 25. \n"
     ]
    },
    {
     "name": "stdout",
     "output_type": "stream",
     "text": [
      "Starting experimental run with id: 26. \n"
     ]
    },
    {
     "name": "stdout",
     "output_type": "stream",
     "text": [
      "Starting experimental run with id: 27. \n"
     ]
    },
    {
     "name": "stdout",
     "output_type": "stream",
     "text": [
      "Starting experimental run with id: 28. \n"
     ]
    }
   ],
   "source": [
    "sizes = [1,500,1000,2000,3000,4000,5000]\n",
    "nreps = 100\n",
    "t_numeric = []\n",
    "t_numeric_add = []\n",
    "t_numeric_run_ids = []\n",
    "t_array = []\n",
    "t_array_add = []\n",
    "t_array_run_ids = []\n",
    "for size in sizes:\n",
    "    tn, tna, run_id_n =  insert_data('numeric', size, nreps=nreps)\n",
    "    t_numeric.append(tn)\n",
    "    t_numeric_add.append(tna)\n",
    "    t_numeric_run_ids.append(run_id_n)\n",
    "\n",
    "    ta, taa, run_id_a =  insert_data('array', size, nreps=nreps)\n",
    "    t_array.append(ta)\n",
    "    t_array_add.append(taa)\n",
    "    t_array_run_ids.append(run_id_a)"
   ]
  },
  {
   "cell_type": "code",
   "execution_count": 8,
   "metadata": {
    "scrolled": true
   },
   "outputs": [
    {
     "data": {
      "image/png": "[encoded data removed]",
      "text/plain": [
       "<Figure size 432x288 with 1 Axes>"
      ]
     },
     "metadata": {
      "needs_background": "light"
     },
     "output_type": "display_data"
    }
   ],
   "source": [
    "fig, ax = plt.subplots(1,1)\n",
    "ax.plot(sizes, t_numeric, 'o-', label='Inserting row-by-row')\n",
    "ax.plot(sizes, t_numeric_add, 'o-', label='Inserting row-by-row: add_result only')\n",
    "ax.plot(sizes, t_array, 'd-', label='Inserting as binary blob')\n",
    "ax.plot(sizes, t_array_add, 'd-', label='Inserting as binary blob: add_result only')\n",
    "ax.legend()\n",
    "ax.set_xlabel('Array length')\n",
    "ax.set_ylabel('Time (s)')\n",
    "fig.tight_layout()"
   ]
  },
  {
   "cell_type": "markdown",
   "metadata": {},
   "source": [
    "However, as we increase the length of the experiment, as seen here by repeating the insertion 100 times, we see a big difference between inserting values of the data row-by-row and inserting it as a binary blob."
   ]
  },
  {
   "cell_type": "markdown",
   "metadata": {},
   "source": [
    "## Loading the data "
   ]
  },
  {
   "cell_type": "code",
   "execution_count": 9,
   "metadata": {},
   "outputs": [],
   "source": [
    "from qcodes.dataset.data_set import load_by_id\n",
    "from qcodes.dataset.data_export import get_data_by_id"
   ]
  },
  {
   "cell_type": "markdown",
   "metadata": {},
   "source": [
    "As usual you can load the data by using the ``load_by_id`` function but you will notice that the different storage methods\n",
    "are reflected in shape of the data as it is retrieved. "
   ]
  },
  {
   "cell_type": "code",
   "execution_count": 10,
   "metadata": {},
   "outputs": [],
   "source": [
    "run_id_n = t_numeric_run_ids[0]\n",
    "run_id_a = t_array_run_ids[0]"
   ]
  },
  {
   "cell_type": "code",
   "execution_count": 11,
   "metadata": {
    "scrolled": true
   },
   "outputs": [
    {
     "data": {
      "text/plain": [
       "{'x1': {'x1': array([0.2593533 , 0.2593533 , 0.04714502, 0.04714502, 0.75777863,\n",
       "         0.75777863, 0.90947052, 0.90947052, 0.66096421, 0.66096421,\n",
       "         0.33528691, 0.33528691, 0.80890763, 0.80890763, 0.84610744,\n",
       "         0.84610744, 0.5973074 , 0.5973074 , 0.30722193, 0.30722193,\n",
       "         0.30010627, 0.30010627, 0.77672744, 0.77672744, 0.49685703,\n",
       "         0.49685703, 0.45755196, 0.45755196, 0.60383449, 0.60383449,\n",
       "         0.48490882, 0.48490882, 0.4263298 , 0.4263298 , 0.76181998,\n",
       "         0.76181998, 0.03146228, 0.03146228, 0.82423475, 0.82423475,\n",
       "         0.04282247, 0.04282247, 0.03497236, 0.03497236, 0.50797783,\n",
       "         0.50797783, 0.95610577, 0.95610577, 0.48497239, 0.48497239,\n",
       "         0.66686918, 0.66686918, 0.64426625, 0.64426625, 0.09872401,\n",
       "         0.09872401, 0.49773346, 0.49773346, 0.26570334, 0.26570334,\n",
       "         0.41923058, 0.41923058, 0.4670909 , 0.4670909 , 0.29355447,\n",
       "         0.29355447, 0.57382316, 0.57382316, 0.2955781 , 0.2955781 ,\n",
       "         0.90598403, 0.90598403, 0.22806907, 0.22806907, 0.26187201,\n",
       "         0.26187201, 0.07958236, 0.07958236, 0.68659522, 0.68659522,\n",
       "         0.75157642, 0.75157642, 0.08092692, 0.08092692, 0.71855702,\n",
       "         0.71855702, 0.0299527 , 0.0299527 , 0.39243897, 0.39243897,\n",
       "         0.11812249, 0.11812249, 0.01624504, 0.01624504, 0.2738788 ,\n",
       "         0.2738788 , 0.28765711, 0.28765711, 0.37065622, 0.37065622,\n",
       "         0.8673964 , 0.8673964 , 0.00368123, 0.00368123, 0.01476752,\n",
       "         0.01476752, 0.45220715, 0.45220715, 0.62122697, 0.62122697,\n",
       "         0.85997322, 0.85997322, 0.31208615, 0.31208615, 0.31439239,\n",
       "         0.31439239, 0.70829862, 0.70829862, 0.33547704, 0.33547704,\n",
       "         0.02890564, 0.02890564, 0.66150299, 0.66150299, 0.43807968,\n",
       "         0.43807968, 0.81396782, 0.81396782, 0.49568074, 0.49568074,\n",
       "         0.3461545 , 0.3461545 , 0.99968495, 0.99968495, 0.24052396,\n",
       "         0.24052396, 0.27760238, 0.27760238, 0.67089306, 0.67089306,\n",
       "         0.33249809, 0.33249809, 0.30033477, 0.30033477, 0.1882041 ,\n",
       "         0.1882041 , 0.94891356, 0.94891356, 0.91721469, 0.91721469,\n",
       "         0.91979958, 0.91979958, 0.81486216, 0.81486216, 0.57103481,\n",
       "         0.57103481, 0.7726322 , 0.7726322 , 0.28798891, 0.28798891,\n",
       "         0.69916523, 0.69916523, 0.7045087 , 0.7045087 , 0.39046365,\n",
       "         0.39046365, 0.79224777, 0.79224777, 0.43639241, 0.43639241,\n",
       "         0.65789978, 0.65789978, 0.74440121, 0.74440121, 0.0399333 ,\n",
       "         0.0399333 , 0.14340415, 0.14340415, 0.70084956, 0.70084956,\n",
       "         0.61589546, 0.61589546, 0.62394274, 0.62394274, 0.73627218,\n",
       "         0.73627218, 0.15847064, 0.15847064, 0.5586735 , 0.5586735 ,\n",
       "         0.07009703, 0.07009703, 0.06509678, 0.06509678, 0.71689708,\n",
       "         0.71689708, 0.30431539, 0.30431539, 0.06337205, 0.06337205])}}"
      ]
     },
     "execution_count": 11,
     "metadata": {},
     "output_type": "execute_result"
    }
   ],
   "source": [
    "ds = load_by_id(run_id_n)\n",
    "ds.get_parameter_data('x1')"
   ]
  },
  {
   "cell_type": "markdown",
   "metadata": {},
   "source": [
    "And a dataset stored as binary arrays"
   ]
  },
  {
   "cell_type": "code",
   "execution_count": 12,
   "metadata": {
    "scrolled": true
   },
   "outputs": [
    {
     "data": {
      "text/plain": [
       "{'x1': {'x1': array([[0.91899646],\n",
       "         [0.91899646],\n",
       "         [0.46221113],\n",
       "         [0.46221113],\n",
       "         [0.9473766 ],\n",
       "         [0.9473766 ],\n",
       "         [0.00978761],\n",
       "         [0.00978761],\n",
       "         [0.55720033],\n",
       "         [0.55720033],\n",
       "         [0.83932076],\n",
       "         [0.83932076],\n",
       "         [0.35209595],\n",
       "         [0.35209595],\n",
       "         [0.85482668],\n",
       "         [0.85482668],\n",
       "         [0.13927204],\n",
       "         [0.13927204],\n",
       "         [0.83852116],\n",
       "         [0.83852116],\n",
       "         [0.48820688],\n",
       "         [0.48820688],\n",
       "         [0.28004933],\n",
       "         [0.28004933],\n",
       "         [0.20531611],\n",
       "         [0.20531611],\n",
       "         [0.19399655],\n",
       "         [0.19399655],\n",
       "         [0.66402299],\n",
       "         [0.66402299],\n",
       "         [0.60613695],\n",
       "         [0.60613695],\n",
       "         [0.40055652],\n",
       "         [0.40055652],\n",
       "         [0.70933428],\n",
       "         [0.70933428],\n",
       "         [0.96193454],\n",
       "         [0.96193454],\n",
       "         [0.99257018],\n",
       "         [0.99257018],\n",
       "         [0.90938222],\n",
       "         [0.90938222],\n",
       "         [0.27414376],\n",
       "         [0.27414376],\n",
       "         [0.1118662 ],\n",
       "         [0.1118662 ],\n",
       "         [0.61498488],\n",
       "         [0.61498488],\n",
       "         [0.12951633],\n",
       "         [0.12951633],\n",
       "         [0.34973168],\n",
       "         [0.34973168],\n",
       "         [0.30161774],\n",
       "         [0.30161774],\n",
       "         [0.79128432],\n",
       "         [0.79128432],\n",
       "         [0.63845616],\n",
       "         [0.63845616],\n",
       "         [0.95885983],\n",
       "         [0.95885983],\n",
       "         [0.75271653],\n",
       "         [0.75271653],\n",
       "         [0.68199279],\n",
       "         [0.68199279],\n",
       "         [0.83943851],\n",
       "         [0.83943851],\n",
       "         [0.14825491],\n",
       "         [0.14825491],\n",
       "         [0.45018786],\n",
       "         [0.45018786],\n",
       "         [0.97513548],\n",
       "         [0.97513548],\n",
       "         [0.06439316],\n",
       "         [0.06439316],\n",
       "         [0.93018232],\n",
       "         [0.93018232],\n",
       "         [0.9124363 ],\n",
       "         [0.9124363 ],\n",
       "         [0.10479822],\n",
       "         [0.10479822],\n",
       "         [0.7026114 ],\n",
       "         [0.7026114 ],\n",
       "         [0.66701647],\n",
       "         [0.66701647],\n",
       "         [0.26634156],\n",
       "         [0.26634156],\n",
       "         [0.4785603 ],\n",
       "         [0.4785603 ],\n",
       "         [0.94805648],\n",
       "         [0.94805648],\n",
       "         [0.19179823],\n",
       "         [0.19179823],\n",
       "         [0.82368296],\n",
       "         [0.82368296],\n",
       "         [0.97284313],\n",
       "         [0.97284313],\n",
       "         [0.22585282],\n",
       "         [0.22585282],\n",
       "         [0.96559045],\n",
       "         [0.96559045],\n",
       "         [0.34213751],\n",
       "         [0.34213751],\n",
       "         [0.62168482],\n",
       "         [0.62168482],\n",
       "         [0.80294698],\n",
       "         [0.80294698],\n",
       "         [0.22365735],\n",
       "         [0.22365735],\n",
       "         [0.27425256],\n",
       "         [0.27425256],\n",
       "         [0.41216077],\n",
       "         [0.41216077],\n",
       "         [0.07195032],\n",
       "         [0.07195032],\n",
       "         [0.66332182],\n",
       "         [0.66332182],\n",
       "         [0.32878277],\n",
       "         [0.32878277],\n",
       "         [0.94934712],\n",
       "         [0.94934712],\n",
       "         [0.73848964],\n",
       "         [0.73848964],\n",
       "         [0.50998046],\n",
       "         [0.50998046],\n",
       "         [0.75329842],\n",
       "         [0.75329842],\n",
       "         [0.74739782],\n",
       "         [0.74739782],\n",
       "         [0.07120751],\n",
       "         [0.07120751],\n",
       "         [0.25975314],\n",
       "         [0.25975314],\n",
       "         [0.93920436],\n",
       "         [0.93920436],\n",
       "         [0.4303515 ],\n",
       "         [0.4303515 ],\n",
       "         [0.23658573],\n",
       "         [0.23658573],\n",
       "         [0.41929645],\n",
       "         [0.41929645],\n",
       "         [0.68636161],\n",
       "         [0.68636161],\n",
       "         [0.31233247],\n",
       "         [0.31233247],\n",
       "         [0.20985093],\n",
       "         [0.20985093],\n",
       "         [0.62783986],\n",
       "         [0.62783986],\n",
       "         [0.24916074],\n",
       "         [0.24916074],\n",
       "         [0.61540506],\n",
       "         [0.61540506],\n",
       "         [0.96104009],\n",
       "         [0.96104009],\n",
       "         [0.94074533],\n",
       "         [0.94074533],\n",
       "         [0.2251602 ],\n",
       "         [0.2251602 ],\n",
       "         [0.38768692],\n",
       "         [0.38768692],\n",
       "         [0.72039506],\n",
       "         [0.72039506],\n",
       "         [0.14575304],\n",
       "         [0.14575304],\n",
       "         [0.21112989],\n",
       "         [0.21112989],\n",
       "         [0.33623394],\n",
       "         [0.33623394],\n",
       "         [0.05993818],\n",
       "         [0.05993818],\n",
       "         [0.15475735],\n",
       "         [0.15475735],\n",
       "         [0.77552026],\n",
       "         [0.77552026],\n",
       "         [0.67349836],\n",
       "         [0.67349836],\n",
       "         [0.59802177],\n",
       "         [0.59802177],\n",
       "         [0.51644166],\n",
       "         [0.51644166],\n",
       "         [0.93182651],\n",
       "         [0.93182651],\n",
       "         [0.28234468],\n",
       "         [0.28234468],\n",
       "         [0.91108314],\n",
       "         [0.91108314],\n",
       "         [0.67692056],\n",
       "         [0.67692056],\n",
       "         [0.95316814],\n",
       "         [0.95316814],\n",
       "         [0.96558435],\n",
       "         [0.96558435],\n",
       "         [0.35149586],\n",
       "         [0.35149586],\n",
       "         [0.26118282],\n",
       "         [0.26118282],\n",
       "         [0.38223309],\n",
       "         [0.38223309],\n",
       "         [0.88154803],\n",
       "         [0.88154803]])}}"
      ]
     },
     "execution_count": 12,
     "metadata": {},
     "output_type": "execute_result"
    }
   ],
   "source": [
    "ds = load_by_id(run_id_a)\n",
    "ds.get_parameter_data('x1')"
   ]
  },
  {
   "cell_type": "code",
   "execution_count": null,
   "metadata": {},
   "outputs": [],
   "source": []
  }
 ],
 "metadata": {
  "kernelspec": {
   "display_name": "Python 3",
   "language": "python",
   "name": "python3"
  },
  "language_info": {
   "codemirror_mode": {
    "name": "ipython",
    "version": 3
   },
   "file_extension": ".py",
   "mimetype": "text/x-python",
   "name": "python",
   "nbconvert_exporter": "python",
   "pygments_lexer": "ipython3",
   "version": "3.7.7"
  },
  "nbsphinx": {
   "timeout": 600
  },
  "toc": {
   "base_numbering": 1,
   "nav_menu": {},
   "number_sections": true,
   "sideBar": true,
   "skip_h1_title": false,
   "title_cell": "Table of Contents",
   "title_sidebar": "Contents",
   "toc_cell": false,
   "toc_position": {},
   "toc_section_display": true,
   "toc_window_display": false
  },
  "varInspector": {
   "cols": {
    "lenName": 16,
    "lenType": 16,
    "lenVar": 40
   },
   "kernels_config": {
    "python": {
     "delete_cmd_postfix": "",
     "delete_cmd_prefix": "del ",
     "library": "var_list.py",
     "varRefreshCmd": "print(var_dic_list())"
    },
    "r": {
     "delete_cmd_postfix": ") ",
     "delete_cmd_prefix": "rm(",
     "library": "var_list.r",
     "varRefreshCmd": "cat(var_dic_list()) "
    }
   },
   "types_to_exclude": [
    "module",
    "function",
    "builtin_function_or_method",
    "instance",
    "_Feature"
   ],
   "window_display": false
  }
 },
 "nbformat": 4,
 "nbformat_minor": 2
}
