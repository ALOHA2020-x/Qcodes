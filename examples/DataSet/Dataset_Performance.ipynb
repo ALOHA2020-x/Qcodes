{
 "cells": [
  {
   "cell_type": "markdown",
   "metadata": {},
   "source": [
    "# DataSet Performance\n",
    "\n",
    "This notebook shows the trade-off between inserting data into a database row-by-row and as binary blobs. Inserting the data row-by-row means that we have direct access to all the data and may perform queries directly on the values of the data. On the other hand, as we shall see, this is much slower than inserting the data directly as binary blobs."
   ]
  },
  {
   "cell_type": "markdown",
   "metadata": {},
   "source": [
    "First, we choose a new location for the database to ensure that we don't add a bunch of benchmarking data to the default one."
   ]
  },
  {
   "cell_type": "code",
   "execution_count": 1,
   "metadata": {
    "execution": {
     "iopub.execute_input": "2020-10-29T11:59:08.789457Z",
     "iopub.status.busy": "2020-10-29T11:59:08.788902Z",
     "iopub.status.idle": "2020-10-29T11:59:09.761231Z",
     "shell.execute_reply": "2020-10-29T11:59:09.760619Z"
    }
   },
   "outputs": [
    {
     "name": "stdout",
     "output_type": "stream",
     "text": [
      "Logging hadn't been started.\n",
      "Activating auto-logging. Current session state plus future input saved.\n",
      "Filename       : /home/vsts/.qcodes/logs/command_history.log\n",
      "Mode           : append\n",
      "Output logging : True\n",
      "Raw input log  : False\n",
      "Timestamping   : True\n",
      "State          : active\n"
     ]
    },
    {
     "name": "stdout",
     "output_type": "stream",
     "text": [
      "Qcodes Logfile : /home/vsts/.qcodes/logs/201029-14802-qcodes.log\n"
     ]
    }
   ],
   "source": [
    "import os\n",
    "cwd = os.getcwd()\n",
    "import qcodes as qc\n",
    "qc.config[\"core\"][\"db_location\"] = os.path.join(cwd, 'testing.db')\n"
   ]
  },
  {
   "cell_type": "code",
   "execution_count": 2,
   "metadata": {
    "execution": {
     "iopub.execute_input": "2020-10-29T11:59:09.767880Z",
     "iopub.status.busy": "2020-10-29T11:59:09.767025Z",
     "iopub.status.idle": "2020-10-29T11:59:09.961750Z",
     "shell.execute_reply": "2020-10-29T11:59:09.960942Z"
    }
   },
   "outputs": [],
   "source": [
    "%matplotlib inline\n",
    "import time\n",
    "import matplotlib.pyplot as plt\n",
    "import numpy as np\n",
    "\n",
    "import qcodes as qc\n",
    "from qcodes.instrument.parameter import ManualParameter\n",
    "from qcodes.dataset.experiment_container import (Experiment,\n",
    "                                                 load_last_experiment,\n",
    "                                                 new_experiment)\n",
    "from qcodes.dataset.sqlite.database import initialise_database\n",
    "from qcodes import load_or_create_experiment\n",
    "from qcodes.dataset.measurements import Measurement"
   ]
  },
  {
   "cell_type": "code",
   "execution_count": 3,
   "metadata": {
    "execution": {
     "iopub.execute_input": "2020-10-29T11:59:09.965797Z",
     "iopub.status.busy": "2020-10-29T11:59:09.964762Z",
     "iopub.status.idle": "2020-10-29T11:59:10.060005Z",
     "shell.execute_reply": "2020-10-29T11:59:10.060480Z"
    }
   },
   "outputs": [
    {
     "name": "stdout",
     "output_type": "stream",
     "text": [
      "\r",
      "0it [00:00, ?it/s]"
     ]
    },
    {
     "name": "stdout",
     "output_type": "stream",
     "text": [
      "\r",
      "Upgrading database; v0 -> v1: : 0it [00:00, ?it/s]"
     ]
    },
    {
     "name": "stdout",
     "output_type": "stream",
     "text": [
      "\r",
      "Upgrading database; v0 -> v1: : 0it [00:00, ?it/s]"
     ]
    },
    {
     "name": "stdout",
     "output_type": "stream",
     "text": [
      "\n",
      "\r",
      "  0%|          | 0/1 [00:00<?, ?it/s]"
     ]
    },
    {
     "name": "stdout",
     "output_type": "stream",
     "text": [
      "\r",
      "Upgrading database; v1 -> v2:   0%|          | 0/1 [00:00<?, ?it/s]"
     ]
    },
    {
     "name": "stdout",
     "output_type": "stream",
     "text": [
      "\r",
      "Upgrading database; v1 -> v2: 100%|██████████| 1/1 [00:00<00:00, 1223.54it/s]"
     ]
    },
    {
     "name": "stdout",
     "output_type": "stream",
     "text": [
      "\n",
      "\r",
      "0it [00:00, ?it/s]"
     ]
    },
    {
     "name": "stdout",
     "output_type": "stream",
     "text": [
      "\r",
      "Upgrading database; v2 -> v3: : 0it [00:00, ?it/s]"
     ]
    },
    {
     "name": "stdout",
     "output_type": "stream",
     "text": [
      "\r",
      "Upgrading database; v2 -> v3: : 0it [00:00, ?it/s]"
     ]
    },
    {
     "name": "stdout",
     "output_type": "stream",
     "text": [
      "\n",
      "\r",
      "0it [00:00, ?it/s]"
     ]
    },
    {
     "name": "stdout",
     "output_type": "stream",
     "text": [
      "\r",
      "Upgrading database; v3 -> v4: : 0it [00:00, ?it/s]"
     ]
    },
    {
     "name": "stdout",
     "output_type": "stream",
     "text": [
      "\r",
      "Upgrading database; v3 -> v4: : 0it [00:00, ?it/s]"
     ]
    },
    {
     "name": "stdout",
     "output_type": "stream",
     "text": [
      "\n",
      "\r",
      "  0%|          | 0/1 [00:00<?, ?it/s]"
     ]
    },
    {
     "name": "stdout",
     "output_type": "stream",
     "text": [
      "\r",
      "Upgrading database; v4 -> v5:   0%|          | 0/1 [00:00<?, ?it/s]"
     ]
    },
    {
     "name": "stdout",
     "output_type": "stream",
     "text": [
      "\r",
      "Upgrading database; v4 -> v5: 100%|██████████| 1/1 [00:00<00:00, 639.47it/s]"
     ]
    },
    {
     "name": "stdout",
     "output_type": "stream",
     "text": [
      "\n",
      "\r",
      "0it [00:00, ?it/s]"
     ]
    },
    {
     "name": "stdout",
     "output_type": "stream",
     "text": [
      "\r",
      "Upgrading database; v5 -> v6: : 0it [00:00, ?it/s]"
     ]
    },
    {
     "name": "stdout",
     "output_type": "stream",
     "text": [
      "\r",
      "Upgrading database; v5 -> v6: : 0it [00:00, ?it/s]"
     ]
    },
    {
     "name": "stdout",
     "output_type": "stream",
     "text": [
      "\n",
      "\r",
      "  0%|          | 0/1 [00:00<?, ?it/s]"
     ]
    },
    {
     "name": "stdout",
     "output_type": "stream",
     "text": [
      "\r",
      "Upgrading database; v6 -> v7:   0%|          | 0/1 [00:00<?, ?it/s]"
     ]
    },
    {
     "name": "stdout",
     "output_type": "stream",
     "text": [
      "\r",
      "Upgrading database; v6 -> v7: 100%|██████████| 1/1 [00:00<00:00, 419.43it/s]"
     ]
    },
    {
     "name": "stdout",
     "output_type": "stream",
     "text": [
      "\n",
      "\r",
      "  0%|          | 0/1 [00:00<?, ?it/s]"
     ]
    },
    {
     "name": "stdout",
     "output_type": "stream",
     "text": [
      "\r",
      "Upgrading database; v7 -> v8:   0%|          | 0/1 [00:00<?, ?it/s]"
     ]
    },
    {
     "name": "stdout",
     "output_type": "stream",
     "text": [
      "\r",
      "Upgrading database; v7 -> v8: 100%|██████████| 1/1 [00:00<00:00, 894.12it/s]"
     ]
    },
    {
     "name": "stdout",
     "output_type": "stream",
     "text": [
      "\n",
      "\r",
      "  0%|          | 0/1 [00:00<?, ?it/s]"
     ]
    },
    {
     "name": "stdout",
     "output_type": "stream",
     "text": [
      "\r",
      "Upgrading database; v8 -> v9:   0%|          | 0/1 [00:00<?, ?it/s]"
     ]
    },
    {
     "name": "stdout",
     "output_type": "stream",
     "text": [
      "\r",
      "Upgrading database; v8 -> v9: 100%|██████████| 1/1 [00:00<00:00, 404.11it/s]"
     ]
    },
    {
     "name": "stdout",
     "output_type": "stream",
     "text": [
      "\n"
     ]
    }
   ],
   "source": [
    "initialise_database()\n",
    "exp = load_or_create_experiment(experiment_name='tutorial_exp', sample_name=\"no sample\")"
   ]
  },
  {
   "cell_type": "markdown",
   "metadata": {},
   "source": [
    "Here, we define a simple function to benchmark the time it takes to insert n points with either numeric or array data type.\n",
    "We will compare both the time used to call ``add_result`` and the time used for the full measurement."
   ]
  },
  {
   "cell_type": "code",
   "execution_count": 4,
   "metadata": {
    "execution": {
     "iopub.execute_input": "2020-10-29T11:59:10.069033Z",
     "iopub.status.busy": "2020-10-29T11:59:10.068466Z",
     "iopub.status.idle": "2020-10-29T11:59:10.072255Z",
     "shell.execute_reply": "2020-10-29T11:59:10.071775Z"
    }
   },
   "outputs": [],
   "source": [
    "def insert_data(paramtype, npoints, nreps=1):\n",
    "\n",
    "    meas = Measurement(exp=exp)\n",
    "\n",
    "    x1 = ManualParameter('x1')\n",
    "    x2 = ManualParameter('x2')\n",
    "    x3 = ManualParameter('x3')\n",
    "    y1 = ManualParameter('y1')\n",
    "    y2 = ManualParameter('y2')\n",
    "\n",
    "    meas.register_parameter(x1, paramtype=paramtype)\n",
    "    meas.register_parameter(x2, paramtype=paramtype)\n",
    "    meas.register_parameter(x3, paramtype=paramtype)\n",
    "    meas.register_parameter(y1, setpoints=[x1, x2, x3],\n",
    "                            paramtype=paramtype)\n",
    "    meas.register_parameter(y2, setpoints=[x1, x2, x3],\n",
    "                            paramtype=paramtype)\n",
    "    start = time.perf_counter()\n",
    "    with meas.run() as datasaver:\n",
    "        start_adding = time.perf_counter()\n",
    "        for i in range(nreps):\n",
    "            datasaver.add_result((x1, np.random.rand(npoints)),\n",
    "                                 (x2, np.random.rand(npoints)),\n",
    "                                 (x3, np.random.rand(npoints)),\n",
    "                                 (y1, np.random.rand(npoints)),\n",
    "                                 (y2, np.random.rand(npoints)))\n",
    "        stop_adding = time.perf_counter()\n",
    "        run_id = datasaver.run_id\n",
    "    stop = time.perf_counter()\n",
    "    tot_time = stop - start\n",
    "    add_time = stop_adding - start_adding\n",
    "    return tot_time, add_time, run_id"
   ]
  },
  {
   "cell_type": "markdown",
   "metadata": {},
   "source": [
    "## Comparison between numeric/array data and binary blob"
   ]
  },
  {
   "cell_type": "markdown",
   "metadata": {},
   "source": [
    "### Case1: Short experiment time"
   ]
  },
  {
   "cell_type": "code",
   "execution_count": 5,
   "metadata": {
    "execution": {
     "iopub.execute_input": "2020-10-29T11:59:10.078503Z",
     "iopub.status.busy": "2020-10-29T11:59:10.076948Z",
     "iopub.status.idle": "2020-10-29T11:59:10.865062Z",
     "shell.execute_reply": "2020-10-29T11:59:10.865531Z"
    }
   },
   "outputs": [
    {
     "name": "stdout",
     "output_type": "stream",
     "text": [
      "Starting experimental run with id: 1. \n",
      "Starting experimental run with id: 2. \n",
      "Starting experimental run with id: 3. \n",
      "Starting experimental run with id: 4. \n",
      "Starting experimental run with id: 5. \n"
     ]
    },
    {
     "name": "stdout",
     "output_type": "stream",
     "text": [
      "Starting experimental run with id: 6. \n"
     ]
    },
    {
     "name": "stdout",
     "output_type": "stream",
     "text": [
      "Starting experimental run with id: 7. \n"
     ]
    },
    {
     "name": "stdout",
     "output_type": "stream",
     "text": [
      "Starting experimental run with id: 8. \n",
      "Starting experimental run with id: 9. \n"
     ]
    },
    {
     "name": "stdout",
     "output_type": "stream",
     "text": [
      "Starting experimental run with id: 10. \n",
      "Starting experimental run with id: 11. \n"
     ]
    },
    {
     "name": "stdout",
     "output_type": "stream",
     "text": [
      "Starting experimental run with id: 12. \n",
      "Starting experimental run with id: 13. \n"
     ]
    },
    {
     "name": "stdout",
     "output_type": "stream",
     "text": [
      "Starting experimental run with id: 14. \n"
     ]
    }
   ],
   "source": [
    "sizes = [1,500,1000,2000,3000,4000,5000]\n",
    "t_numeric = []\n",
    "t_numeric_add = []\n",
    "t_array = []\n",
    "t_array_add = []\n",
    "for size in sizes:\n",
    "    tn, tna, run_id_n =  insert_data('numeric', size)\n",
    "    t_numeric.append(tn)\n",
    "    t_numeric_add.append(tna)\n",
    "\n",
    "    ta, taa, run_id_a =  insert_data('array', size)\n",
    "    t_array.append(ta)\n",
    "    t_array_add.append(taa)"
   ]
  },
  {
   "cell_type": "code",
   "execution_count": 6,
   "metadata": {
    "execution": {
     "iopub.execute_input": "2020-10-29T11:59:10.887563Z",
     "iopub.status.busy": "2020-10-29T11:59:10.882956Z",
     "iopub.status.idle": "2020-10-29T11:59:11.099312Z",
     "shell.execute_reply": "2020-10-29T11:59:11.098786Z"
    }
   },
   "outputs": [
    {
     "data": {
      "image/png": "[encoded data removed]",
      "text/plain": [
       "<Figure size 432x288 with 1 Axes>"
      ]
     },
     "metadata": {
      "needs_background": "light"
     },
     "output_type": "display_data"
    }
   ],
   "source": [
    "fig, ax = plt.subplots(1,1)\n",
    "ax.plot(sizes, t_numeric, 'o-', label='Inserting row-by-row')\n",
    "ax.plot(sizes, t_numeric_add, 'o-', label='Inserting row-by-row: add_result only')\n",
    "ax.plot(sizes, t_array, 'd-', label='Inserting as binary blob')\n",
    "ax.plot(sizes, t_array_add, 'd-', label='Inserting as binary blob: add_result only')\n",
    "ax.legend()\n",
    "ax.set_xlabel('Array length')\n",
    "ax.set_ylabel('Time (s)')\n",
    "fig.tight_layout()"
   ]
  },
  {
   "cell_type": "markdown",
   "metadata": {},
   "source": [
    "As shown in the latter figure, the time to setup and and close the experiment is approximately 0.4 sec. In case of small array sizes, the difference between inserting values of data as arrays and inserting them row-by-row is relatively unimportant. At larger array sizes, i.e. above 10000 points, the cost of writing data as individual datapoints starts to become important.\n"
   ]
  },
  {
   "cell_type": "markdown",
   "metadata": {},
   "source": [
    "### Case2: Long experiment time "
   ]
  },
  {
   "cell_type": "code",
   "execution_count": 7,
   "metadata": {
    "execution": {
     "iopub.execute_input": "2020-10-29T11:59:11.105635Z",
     "iopub.status.busy": "2020-10-29T11:59:11.105087Z",
     "iopub.status.idle": "2020-10-29T12:00:07.552814Z",
     "shell.execute_reply": "2020-10-29T12:00:07.552296Z"
    }
   },
   "outputs": [
    {
     "name": "stdout",
     "output_type": "stream",
     "text": [
      "Starting experimental run with id: 15. \n",
      "Starting experimental run with id: 16. \n",
      "Starting experimental run with id: 17. \n"
     ]
    },
    {
     "name": "stdout",
     "output_type": "stream",
     "text": [
      "Starting experimental run with id: 18. \n",
      "Starting experimental run with id: 19. \n"
     ]
    },
    {
     "name": "stdout",
     "output_type": "stream",
     "text": [
      "Starting experimental run with id: 20. \n"
     ]
    },
    {
     "name": "stdout",
     "output_type": "stream",
     "text": [
      "Starting experimental run with id: 21. \n"
     ]
    },
    {
     "name": "stdout",
     "output_type": "stream",
     "text": [
      "Starting experimental run with id: 22. \n"
     ]
    },
    {
     "name": "stdout",
     "output_type": "stream",
     "text": [
      "Starting experimental run with id: 23. \n"
     ]
    },
    {
     "name": "stdout",
     "output_type": "stream",
     "text": [
      "Starting experimental run with id: 24. \n"
     ]
    },
    {
     "name": "stdout",
     "output_type": "stream",
     "text": [
      "Starting experimental run with id: 25. \n"
     ]
    },
    {
     "name": "stdout",
     "output_type": "stream",
     "text": [
      "Starting experimental run with id: 26. \n"
     ]
    },
    {
     "name": "stdout",
     "output_type": "stream",
     "text": [
      "Starting experimental run with id: 27. \n"
     ]
    },
    {
     "name": "stdout",
     "output_type": "stream",
     "text": [
      "Starting experimental run with id: 28. \n"
     ]
    }
   ],
   "source": [
    "sizes = [1,500,1000,2000,3000,4000,5000]\n",
    "nreps = 100\n",
    "t_numeric = []\n",
    "t_numeric_add = []\n",
    "t_numeric_run_ids = []\n",
    "t_array = []\n",
    "t_array_add = []\n",
    "t_array_run_ids = []\n",
    "for size in sizes:\n",
    "    tn, tna, run_id_n =  insert_data('numeric', size, nreps=nreps)\n",
    "    t_numeric.append(tn)\n",
    "    t_numeric_add.append(tna)\n",
    "    t_numeric_run_ids.append(run_id_n)\n",
    "\n",
    "    ta, taa, run_id_a =  insert_data('array', size, nreps=nreps)\n",
    "    t_array.append(ta)\n",
    "    t_array_add.append(taa)\n",
    "    t_array_run_ids.append(run_id_a)"
   ]
  },
  {
   "cell_type": "code",
   "execution_count": 8,
   "metadata": {
    "execution": {
     "iopub.execute_input": "2020-10-29T12:00:07.576573Z",
     "iopub.status.busy": "2020-10-29T12:00:07.571670Z",
     "iopub.status.idle": "2020-10-29T12:00:07.780351Z",
     "shell.execute_reply": "2020-10-29T12:00:07.779816Z"
    },
    "scrolled": true
   },
   "outputs": [
    {
     "data": {
      "image/png": "[encoded data removed]",
      "text/plain": [
       "<Figure size 432x288 with 1 Axes>"
      ]
     },
     "metadata": {
      "needs_background": "light"
     },
     "output_type": "display_data"
    }
   ],
   "source": [
    "fig, ax = plt.subplots(1,1)\n",
    "ax.plot(sizes, t_numeric, 'o-', label='Inserting row-by-row')\n",
    "ax.plot(sizes, t_numeric_add, 'o-', label='Inserting row-by-row: add_result only')\n",
    "ax.plot(sizes, t_array, 'd-', label='Inserting as binary blob')\n",
    "ax.plot(sizes, t_array_add, 'd-', label='Inserting as binary blob: add_result only')\n",
    "ax.legend()\n",
    "ax.set_xlabel('Array length')\n",
    "ax.set_ylabel('Time (s)')\n",
    "fig.tight_layout()"
   ]
  },
  {
   "cell_type": "markdown",
   "metadata": {},
   "source": [
    "However, as we increase the length of the experiment, as seen here by repeating the insertion 100 times, we see a big difference between inserting values of the data row-by-row and inserting it as a binary blob."
   ]
  },
  {
   "cell_type": "markdown",
   "metadata": {},
   "source": [
    "## Loading the data "
   ]
  },
  {
   "cell_type": "code",
   "execution_count": 9,
   "metadata": {
    "execution": {
     "iopub.execute_input": "2020-10-29T12:00:07.786191Z",
     "iopub.status.busy": "2020-10-29T12:00:07.785568Z",
     "iopub.status.idle": "2020-10-29T12:00:07.788769Z",
     "shell.execute_reply": "2020-10-29T12:00:07.789291Z"
    }
   },
   "outputs": [],
   "source": [
    "from qcodes.dataset.data_set import load_by_id\n",
    "from qcodes.dataset.data_export import get_data_by_id"
   ]
  },
  {
   "cell_type": "markdown",
   "metadata": {},
   "source": [
    "As usual you can load the data by using the ``load_by_id`` function but you will notice that the different storage methods\n",
    "are reflected in shape of the data as it is retrieved. "
   ]
  },
  {
   "cell_type": "code",
   "execution_count": 10,
   "metadata": {
    "execution": {
     "iopub.execute_input": "2020-10-29T12:00:07.794941Z",
     "iopub.status.busy": "2020-10-29T12:00:07.793797Z",
     "iopub.status.idle": "2020-10-29T12:00:07.795977Z",
     "shell.execute_reply": "2020-10-29T12:00:07.796790Z"
    }
   },
   "outputs": [],
   "source": [
    "run_id_n = t_numeric_run_ids[0]\n",
    "run_id_a = t_array_run_ids[0]"
   ]
  },
  {
   "cell_type": "code",
   "execution_count": 11,
   "metadata": {
    "execution": {
     "iopub.execute_input": "2020-10-29T12:00:07.800413Z",
     "iopub.status.busy": "2020-10-29T12:00:07.799730Z",
     "iopub.status.idle": "2020-10-29T12:00:07.809004Z",
     "shell.execute_reply": "2020-10-29T12:00:07.809523Z"
    },
    "scrolled": true
   },
   "outputs": [
    {
     "data": {
      "text/plain": [
       "{'x1': {'x1': array([0.37501237, 0.37501237, 0.9249981 , 0.9249981 , 0.25256331,\n",
       "         0.25256331, 0.22032631, 0.22032631, 0.02882658, 0.02882658,\n",
       "         0.92480432, 0.92480432, 0.66147127, 0.66147127, 0.27797353,\n",
       "         0.27797353, 0.87196505, 0.87196505, 0.9122848 , 0.9122848 ,\n",
       "         0.28217255, 0.28217255, 0.68351581, 0.68351581, 0.11965275,\n",
       "         0.11965275, 0.00130876, 0.00130876, 0.91704291, 0.91704291,\n",
       "         0.387683  , 0.387683  , 0.19646014, 0.19646014, 0.01125552,\n",
       "         0.01125552, 0.73403263, 0.73403263, 0.57271369, 0.57271369,\n",
       "         0.14840476, 0.14840476, 0.02443442, 0.02443442, 0.36129823,\n",
       "         0.36129823, 0.87195744, 0.87195744, 0.42893133, 0.42893133,\n",
       "         0.35756831, 0.35756831, 0.30147451, 0.30147451, 0.15366241,\n",
       "         0.15366241, 0.99011881, 0.99011881, 0.76104685, 0.76104685,\n",
       "         0.15030232, 0.15030232, 0.48241435, 0.48241435, 0.79067729,\n",
       "         0.79067729, 0.60306587, 0.60306587, 0.65494867, 0.65494867,\n",
       "         0.43402924, 0.43402924, 0.78307659, 0.78307659, 0.46191255,\n",
       "         0.46191255, 0.01961856, 0.01961856, 0.27138267, 0.27138267,\n",
       "         0.43735762, 0.43735762, 0.28545654, 0.28545654, 0.78525364,\n",
       "         0.78525364, 0.85320267, 0.85320267, 0.29735337, 0.29735337,\n",
       "         0.11966889, 0.11966889, 0.4074917 , 0.4074917 , 0.14451154,\n",
       "         0.14451154, 0.25394273, 0.25394273, 0.88938752, 0.88938752,\n",
       "         0.91436818, 0.91436818, 0.8314332 , 0.8314332 , 0.62609718,\n",
       "         0.62609718, 0.13669321, 0.13669321, 0.11603098, 0.11603098,\n",
       "         0.29141208, 0.29141208, 0.04159712, 0.04159712, 0.77743629,\n",
       "         0.77743629, 0.4889676 , 0.4889676 , 0.52062235, 0.52062235,\n",
       "         0.76026429, 0.76026429, 0.98573197, 0.98573197, 0.1846703 ,\n",
       "         0.1846703 , 0.51900577, 0.51900577, 0.56420144, 0.56420144,\n",
       "         0.95261106, 0.95261106, 0.3444893 , 0.3444893 , 0.06995526,\n",
       "         0.06995526, 0.16972217, 0.16972217, 0.75528735, 0.75528735,\n",
       "         0.29415746, 0.29415746, 0.83491462, 0.83491462, 0.78387307,\n",
       "         0.78387307, 0.59249038, 0.59249038, 0.00347705, 0.00347705,\n",
       "         0.91278266, 0.91278266, 0.72852713, 0.72852713, 0.42660399,\n",
       "         0.42660399, 0.91109884, 0.91109884, 0.62575249, 0.62575249,\n",
       "         0.25273181, 0.25273181, 0.81436084, 0.81436084, 0.00175669,\n",
       "         0.00175669, 0.00316262, 0.00316262, 0.2766681 , 0.2766681 ,\n",
       "         0.33834407, 0.33834407, 0.43799878, 0.43799878, 0.38567843,\n",
       "         0.38567843, 0.86246316, 0.86246316, 0.78665621, 0.78665621,\n",
       "         0.37283518, 0.37283518, 0.50993084, 0.50993084, 0.35861707,\n",
       "         0.35861707, 0.59223358, 0.59223358, 0.20031363, 0.20031363,\n",
       "         0.13935341, 0.13935341, 0.49134555, 0.49134555, 0.13997331,\n",
       "         0.13997331, 0.77944507, 0.77944507, 0.55493379, 0.55493379])}}"
      ]
     },
     "execution_count": 1,
     "metadata": {},
     "output_type": "execute_result"
    }
   ],
   "source": [
    "ds = load_by_id(run_id_n)\n",
    "ds.get_parameter_data('x1')"
   ]
  },
  {
   "cell_type": "markdown",
   "metadata": {},
   "source": [
    "And a dataset stored as binary arrays"
   ]
  },
  {
   "cell_type": "code",
   "execution_count": 12,
   "metadata": {
    "execution": {
     "iopub.execute_input": "2020-10-29T12:00:07.813313Z",
     "iopub.status.busy": "2020-10-29T12:00:07.812704Z",
     "iopub.status.idle": "2020-10-29T12:00:07.878344Z",
     "shell.execute_reply": "2020-10-29T12:00:07.877832Z"
    },
    "scrolled": true
   },
   "outputs": [
    {
     "data": {
      "text/plain": [
       "{'x1': {'x1': array([[0.69653797],\n",
       "         [0.69653797],\n",
       "         [0.10942774],\n",
       "         [0.10942774],\n",
       "         [0.96109994],\n",
       "         [0.96109994],\n",
       "         [0.28642515],\n",
       "         [0.28642515],\n",
       "         [0.48297953],\n",
       "         [0.48297953],\n",
       "         [0.92399253],\n",
       "         [0.92399253],\n",
       "         [0.37227054],\n",
       "         [0.37227054],\n",
       "         [0.82831174],\n",
       "         [0.82831174],\n",
       "         [0.24684065],\n",
       "         [0.24684065],\n",
       "         [0.39692927],\n",
       "         [0.39692927],\n",
       "         [0.66173371],\n",
       "         [0.66173371],\n",
       "         [0.01286033],\n",
       "         [0.01286033],\n",
       "         [0.40438753],\n",
       "         [0.40438753],\n",
       "         [0.30358607],\n",
       "         [0.30358607],\n",
       "         [0.95966645],\n",
       "         [0.95966645],\n",
       "         [0.26538199],\n",
       "         [0.26538199],\n",
       "         [0.87703412],\n",
       "         [0.87703412],\n",
       "         [0.06693809],\n",
       "         [0.06693809],\n",
       "         [0.44788854],\n",
       "         [0.44788854],\n",
       "         [0.04681756],\n",
       "         [0.04681756],\n",
       "         [0.86201457],\n",
       "         [0.86201457],\n",
       "         [0.54346652],\n",
       "         [0.54346652],\n",
       "         [0.50620723],\n",
       "         [0.50620723],\n",
       "         [0.8525497 ],\n",
       "         [0.8525497 ],\n",
       "         [0.87411585],\n",
       "         [0.87411585],\n",
       "         [0.66711404],\n",
       "         [0.66711404],\n",
       "         [0.87916618],\n",
       "         [0.87916618],\n",
       "         [0.67461831],\n",
       "         [0.67461831],\n",
       "         [0.70668927],\n",
       "         [0.70668927],\n",
       "         [0.23524548],\n",
       "         [0.23524548],\n",
       "         [0.84398519],\n",
       "         [0.84398519],\n",
       "         [0.97887251],\n",
       "         [0.97887251],\n",
       "         [0.68158142],\n",
       "         [0.68158142],\n",
       "         [0.13415299],\n",
       "         [0.13415299],\n",
       "         [0.06755604],\n",
       "         [0.06755604],\n",
       "         [0.16511754],\n",
       "         [0.16511754],\n",
       "         [0.25789026],\n",
       "         [0.25789026],\n",
       "         [0.25629819],\n",
       "         [0.25629819],\n",
       "         [0.45199079],\n",
       "         [0.45199079],\n",
       "         [0.79759635],\n",
       "         [0.79759635],\n",
       "         [0.82238011],\n",
       "         [0.82238011],\n",
       "         [0.83395026],\n",
       "         [0.83395026],\n",
       "         [0.25488525],\n",
       "         [0.25488525],\n",
       "         [0.96675499],\n",
       "         [0.96675499],\n",
       "         [0.8490395 ],\n",
       "         [0.8490395 ],\n",
       "         [0.54109765],\n",
       "         [0.54109765],\n",
       "         [0.97690738],\n",
       "         [0.97690738],\n",
       "         [0.46211993],\n",
       "         [0.46211993],\n",
       "         [0.81702741],\n",
       "         [0.81702741],\n",
       "         [0.65349532],\n",
       "         [0.65349532],\n",
       "         [0.24526253],\n",
       "         [0.24526253],\n",
       "         [0.7262443 ],\n",
       "         [0.7262443 ],\n",
       "         [0.03745549],\n",
       "         [0.03745549],\n",
       "         [0.47160039],\n",
       "         [0.47160039],\n",
       "         [0.79842119],\n",
       "         [0.79842119],\n",
       "         [0.34888158],\n",
       "         [0.34888158],\n",
       "         [0.79084427],\n",
       "         [0.79084427],\n",
       "         [0.902355  ],\n",
       "         [0.902355  ],\n",
       "         [0.68141206],\n",
       "         [0.68141206],\n",
       "         [0.73145556],\n",
       "         [0.73145556],\n",
       "         [0.45473862],\n",
       "         [0.45473862],\n",
       "         [0.19149102],\n",
       "         [0.19149102],\n",
       "         [0.53172136],\n",
       "         [0.53172136],\n",
       "         [0.41583677],\n",
       "         [0.41583677],\n",
       "         [0.45708268],\n",
       "         [0.45708268],\n",
       "         [0.35127803],\n",
       "         [0.35127803],\n",
       "         [0.06913699],\n",
       "         [0.06913699],\n",
       "         [0.37366868],\n",
       "         [0.37366868],\n",
       "         [0.78469959],\n",
       "         [0.78469959],\n",
       "         [0.87054001],\n",
       "         [0.87054001],\n",
       "         [0.67776438],\n",
       "         [0.67776438],\n",
       "         [0.87201681],\n",
       "         [0.87201681],\n",
       "         [0.94801197],\n",
       "         [0.94801197],\n",
       "         [0.87552018],\n",
       "         [0.87552018],\n",
       "         [0.97771007],\n",
       "         [0.97771007],\n",
       "         [0.37468523],\n",
       "         [0.37468523],\n",
       "         [0.10505292],\n",
       "         [0.10505292],\n",
       "         [0.66862764],\n",
       "         [0.66862764],\n",
       "         [0.61452924],\n",
       "         [0.61452924],\n",
       "         [0.75805462],\n",
       "         [0.75805462],\n",
       "         [0.47569798],\n",
       "         [0.47569798],\n",
       "         [0.62240332],\n",
       "         [0.62240332],\n",
       "         [0.20685622],\n",
       "         [0.20685622],\n",
       "         [0.02464226],\n",
       "         [0.02464226],\n",
       "         [0.93452838],\n",
       "         [0.93452838],\n",
       "         [0.65951766],\n",
       "         [0.65951766],\n",
       "         [0.83468783],\n",
       "         [0.83468783],\n",
       "         [0.01313712],\n",
       "         [0.01313712],\n",
       "         [0.30828892],\n",
       "         [0.30828892],\n",
       "         [0.38531643],\n",
       "         [0.38531643],\n",
       "         [0.20697212],\n",
       "         [0.20697212],\n",
       "         [0.41771411],\n",
       "         [0.41771411],\n",
       "         [0.51035145],\n",
       "         [0.51035145],\n",
       "         [0.71104505],\n",
       "         [0.71104505],\n",
       "         [0.05726011],\n",
       "         [0.05726011],\n",
       "         [0.81520668],\n",
       "         [0.81520668],\n",
       "         [0.19940268],\n",
       "         [0.19940268],\n",
       "         [0.07731672],\n",
       "         [0.07731672],\n",
       "         [0.02644345],\n",
       "         [0.02644345],\n",
       "         [0.83368933],\n",
       "         [0.83368933]])}}"
      ]
     },
     "execution_count": 1,
     "metadata": {},
     "output_type": "execute_result"
    }
   ],
   "source": [
    "ds = load_by_id(run_id_a)\n",
    "ds.get_parameter_data('x1')"
   ]
  },
  {
   "cell_type": "code",
   "execution_count": null,
   "metadata": {},
   "outputs": [],
   "source": []
  }
 ],
 "metadata": {
  "kernelspec": {
   "display_name": "Python 3",
   "language": "python",
   "name": "python3"
  },
  "language_info": {
   "codemirror_mode": {
    "name": "ipython",
    "version": 3
   },
   "file_extension": ".py",
   "mimetype": "text/x-python",
   "name": "python",
   "nbconvert_exporter": "python",
   "pygments_lexer": "ipython3",
   "version": "3.7.9"
  },
  "nbsphinx": {
   "timeout": 600
  },
  "toc": {
   "base_numbering": 1,
   "nav_menu": {},
   "number_sections": true,
   "sideBar": true,
   "skip_h1_title": false,
   "title_cell": "Table of Contents",
   "title_sidebar": "Contents",
   "toc_cell": false,
   "toc_position": {},
   "toc_section_display": true,
   "toc_window_display": false
  },
  "varInspector": {
   "cols": {
    "lenName": 16,
    "lenType": 16,
    "lenVar": 40
   },
   "kernels_config": {
    "python": {
     "delete_cmd_postfix": "",
     "delete_cmd_prefix": "del ",
     "library": "var_list.py",
     "varRefreshCmd": "print(var_dic_list())"
    },
    "r": {
     "delete_cmd_postfix": ") ",
     "delete_cmd_prefix": "rm(",
     "library": "var_list.r",
     "varRefreshCmd": "cat(var_dic_list()) "
    }
   },
   "types_to_exclude": [
    "module",
    "function",
    "builtin_function_or_method",
    "instance",
    "_Feature"
   ],
   "window_display": false
  }
 },
 "nbformat": 4,
 "nbformat_minor": 2
}
