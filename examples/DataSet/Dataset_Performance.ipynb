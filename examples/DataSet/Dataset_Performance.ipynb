{
 "cells": [
  {
   "cell_type": "markdown",
   "metadata": {},
   "source": [
    "# DataSet Performance\n",
    "\n",
    "This notebook shows the trade-off between inserting data into a database row-by-row and as binary blobs. Inserting the data row-by-row means that we have direct access to all the data and may perform queries directly on the values of the data. On the other hand, as we shall see, this is much slower than inserting the data directly as binary blobs."
   ]
  },
  {
   "cell_type": "markdown",
   "metadata": {},
   "source": [
    "First, we choose a new location for the database to ensure that we don't add a bunch of benchmarking data to the default one."
   ]
  },
  {
   "cell_type": "code",
   "execution_count": 1,
   "metadata": {
    "execution": {
     "iopub.execute_input": "2021-02-09T07:11:58.455089Z",
     "iopub.status.busy": "2021-02-09T07:11:58.454225Z",
     "iopub.status.idle": "2021-02-09T07:11:59.587958Z",
     "shell.execute_reply": "2021-02-09T07:11:59.586997Z"
    }
   },
   "outputs": [
    {
     "name": "stdout",
     "output_type": "stream",
     "text": [
      "Logging hadn't been started.\n",
      "Activating auto-logging. Current session state plus future input saved.\n",
      "Filename       : /home/vsts/.qcodes/logs/command_history.log\n",
      "Mode           : append\n",
      "Output logging : True\n",
      "Raw input log  : False\n",
      "Timestamping   : True\n",
      "State          : active\n"
     ]
    },
    {
     "name": "stdout",
     "output_type": "stream",
     "text": [
      "Qcodes Logfile : /home/vsts/.qcodes/logs/210209-14678-qcodes.log\n"
     ]
    }
   ],
   "source": [
    "import os\n",
    "cwd = os.getcwd()\n",
    "import qcodes as qc\n",
    "qc.config[\"core\"][\"db_location\"] = os.path.join(cwd, 'testing.db')\n"
   ]
  },
  {
   "cell_type": "code",
   "execution_count": 2,
   "metadata": {
    "execution": {
     "iopub.execute_input": "2021-02-09T07:11:59.595347Z",
     "iopub.status.busy": "2021-02-09T07:11:59.593681Z",
     "iopub.status.idle": "2021-02-09T07:11:59.796353Z",
     "shell.execute_reply": "2021-02-09T07:11:59.795752Z"
    }
   },
   "outputs": [],
   "source": [
    "%matplotlib inline\n",
    "import time\n",
    "import matplotlib.pyplot as plt\n",
    "import numpy as np\n",
    "\n",
    "import qcodes as qc\n",
    "from qcodes.instrument.parameter import ManualParameter\n",
    "from qcodes.dataset.experiment_container import (Experiment,\n",
    "                                                 load_last_experiment,\n",
    "                                                 new_experiment)\n",
    "from qcodes.dataset.sqlite.database import initialise_database\n",
    "from qcodes import load_or_create_experiment\n",
    "from qcodes.dataset.measurements import Measurement"
   ]
  },
  {
   "cell_type": "code",
   "execution_count": 3,
   "metadata": {
    "execution": {
     "iopub.execute_input": "2021-02-09T07:11:59.800662Z",
     "iopub.status.busy": "2021-02-09T07:11:59.799770Z",
     "iopub.status.idle": "2021-02-09T07:11:59.938200Z",
     "shell.execute_reply": "2021-02-09T07:11:59.937695Z"
    }
   },
   "outputs": [
    {
     "name": "stdout",
     "output_type": "stream",
     "text": [
      "\r",
      "0it [00:00, ?it/s]"
     ]
    },
    {
     "name": "stdout",
     "output_type": "stream",
     "text": [
      "\r",
      "Upgrading database; v0 -> v1: : 0it [00:00, ?it/s]"
     ]
    },
    {
     "name": "stdout",
     "output_type": "stream",
     "text": [
      "\r",
      "Upgrading database; v0 -> v1: : 0it [00:00, ?it/s]"
     ]
    },
    {
     "name": "stdout",
     "output_type": "stream",
     "text": [
      "\n",
      "\r",
      "  0%|          | 0/1 [00:00<?, ?it/s]"
     ]
    },
    {
     "name": "stdout",
     "output_type": "stream",
     "text": [
      "\r",
      "Upgrading database; v1 -> v2:   0%|          | 0/1 [00:00<?, ?it/s]"
     ]
    },
    {
     "name": "stdout",
     "output_type": "stream",
     "text": [
      "\r",
      "Upgrading database; v1 -> v2: 100%|██████████| 1/1 [00:00<00:00, 628.08it/s]"
     ]
    },
    {
     "name": "stdout",
     "output_type": "stream",
     "text": [
      "\n",
      "\r",
      "0it [00:00, ?it/s]"
     ]
    },
    {
     "name": "stdout",
     "output_type": "stream",
     "text": [
      "\r",
      "Upgrading database; v2 -> v3: : 0it [00:00, ?it/s]"
     ]
    },
    {
     "name": "stdout",
     "output_type": "stream",
     "text": [
      "\r",
      "Upgrading database; v2 -> v3: : 0it [00:00, ?it/s]"
     ]
    },
    {
     "name": "stdout",
     "output_type": "stream",
     "text": [
      "\n",
      "\r",
      "0it [00:00, ?it/s]"
     ]
    },
    {
     "name": "stdout",
     "output_type": "stream",
     "text": [
      "\r",
      "Upgrading database; v3 -> v4: : 0it [00:00, ?it/s]"
     ]
    },
    {
     "name": "stdout",
     "output_type": "stream",
     "text": [
      "\r",
      "Upgrading database; v3 -> v4: : 0it [00:00, ?it/s]"
     ]
    },
    {
     "name": "stdout",
     "output_type": "stream",
     "text": [
      "\n",
      "\r",
      "  0%|          | 0/1 [00:00<?, ?it/s]"
     ]
    },
    {
     "name": "stdout",
     "output_type": "stream",
     "text": [
      "\r",
      "Upgrading database; v4 -> v5:   0%|          | 0/1 [00:00<?, ?it/s]"
     ]
    },
    {
     "name": "stdout",
     "output_type": "stream",
     "text": [
      "\r",
      "Upgrading database; v4 -> v5: 100%|██████████| 1/1 [00:00<00:00, 527.25it/s]"
     ]
    },
    {
     "name": "stdout",
     "output_type": "stream",
     "text": [
      "\n",
      "\r",
      "0it [00:00, ?it/s]"
     ]
    },
    {
     "name": "stdout",
     "output_type": "stream",
     "text": [
      "\r",
      "Upgrading database; v5 -> v6: : 0it [00:00, ?it/s]"
     ]
    },
    {
     "name": "stdout",
     "output_type": "stream",
     "text": [
      "\r",
      "Upgrading database; v5 -> v6: : 0it [00:00, ?it/s]"
     ]
    },
    {
     "name": "stdout",
     "output_type": "stream",
     "text": [
      "\n",
      "\r",
      "  0%|          | 0/1 [00:00<?, ?it/s]"
     ]
    },
    {
     "name": "stdout",
     "output_type": "stream",
     "text": [
      "\r",
      "Upgrading database; v6 -> v7:   0%|          | 0/1 [00:00<?, ?it/s]"
     ]
    },
    {
     "name": "stdout",
     "output_type": "stream",
     "text": [
      "\r",
      "Upgrading database; v6 -> v7: 100%|██████████| 1/1 [00:00<00:00, 261.75it/s]"
     ]
    },
    {
     "name": "stdout",
     "output_type": "stream",
     "text": [
      "\n",
      "\r",
      "  0%|          | 0/1 [00:00<?, ?it/s]"
     ]
    },
    {
     "name": "stdout",
     "output_type": "stream",
     "text": [
      "\r",
      "Upgrading database; v7 -> v8:   0%|          | 0/1 [00:00<?, ?it/s]"
     ]
    },
    {
     "name": "stdout",
     "output_type": "stream",
     "text": [
      "\r",
      "Upgrading database; v7 -> v8: 100%|██████████| 1/1 [00:00<00:00, 379.95it/s]"
     ]
    },
    {
     "name": "stdout",
     "output_type": "stream",
     "text": [
      "\n",
      "\r",
      "  0%|          | 0/1 [00:00<?, ?it/s]"
     ]
    },
    {
     "name": "stdout",
     "output_type": "stream",
     "text": [
      "\r",
      "Upgrading database; v8 -> v9:   0%|          | 0/1 [00:00<?, ?it/s]"
     ]
    },
    {
     "name": "stdout",
     "output_type": "stream",
     "text": [
      "\r",
      "Upgrading database; v8 -> v9: 100%|██████████| 1/1 [00:00<00:00, 458.90it/s]"
     ]
    },
    {
     "name": "stdout",
     "output_type": "stream",
     "text": [
      "\n"
     ]
    }
   ],
   "source": [
    "initialise_database()\n",
    "exp = load_or_create_experiment(experiment_name='tutorial_exp', sample_name=\"no sample\")"
   ]
  },
  {
   "cell_type": "markdown",
   "metadata": {},
   "source": [
    "Here, we define a simple function to benchmark the time it takes to insert n points with either numeric or array data type.\n",
    "We will compare both the time used to call ``add_result`` and the time used for the full measurement."
   ]
  },
  {
   "cell_type": "code",
   "execution_count": 4,
   "metadata": {
    "execution": {
     "iopub.execute_input": "2021-02-09T07:11:59.947101Z",
     "iopub.status.busy": "2021-02-09T07:11:59.945488Z",
     "iopub.status.idle": "2021-02-09T07:11:59.949703Z",
     "shell.execute_reply": "2021-02-09T07:11:59.949031Z"
    }
   },
   "outputs": [],
   "source": [
    "def insert_data(paramtype, npoints, nreps=1):\n",
    "\n",
    "    meas = Measurement(exp=exp)\n",
    "\n",
    "    x1 = ManualParameter('x1')\n",
    "    x2 = ManualParameter('x2')\n",
    "    x3 = ManualParameter('x3')\n",
    "    y1 = ManualParameter('y1')\n",
    "    y2 = ManualParameter('y2')\n",
    "\n",
    "    meas.register_parameter(x1, paramtype=paramtype)\n",
    "    meas.register_parameter(x2, paramtype=paramtype)\n",
    "    meas.register_parameter(x3, paramtype=paramtype)\n",
    "    meas.register_parameter(y1, setpoints=[x1, x2, x3],\n",
    "                            paramtype=paramtype)\n",
    "    meas.register_parameter(y2, setpoints=[x1, x2, x3],\n",
    "                            paramtype=paramtype)\n",
    "    start = time.perf_counter()\n",
    "    with meas.run() as datasaver:\n",
    "        start_adding = time.perf_counter()\n",
    "        for i in range(nreps):\n",
    "            datasaver.add_result((x1, np.random.rand(npoints)),\n",
    "                                 (x2, np.random.rand(npoints)),\n",
    "                                 (x3, np.random.rand(npoints)),\n",
    "                                 (y1, np.random.rand(npoints)),\n",
    "                                 (y2, np.random.rand(npoints)))\n",
    "        stop_adding = time.perf_counter()\n",
    "        run_id = datasaver.run_id\n",
    "    stop = time.perf_counter()\n",
    "    tot_time = stop - start\n",
    "    add_time = stop_adding - start_adding\n",
    "    return tot_time, add_time, run_id"
   ]
  },
  {
   "cell_type": "markdown",
   "metadata": {},
   "source": [
    "## Comparison between numeric/array data and binary blob"
   ]
  },
  {
   "cell_type": "markdown",
   "metadata": {},
   "source": [
    "### Case1: Short experiment time"
   ]
  },
  {
   "cell_type": "code",
   "execution_count": 5,
   "metadata": {
    "execution": {
     "iopub.execute_input": "2021-02-09T07:11:59.956924Z",
     "iopub.status.busy": "2021-02-09T07:11:59.956211Z",
     "iopub.status.idle": "2021-02-09T07:12:00.889230Z",
     "shell.execute_reply": "2021-02-09T07:12:00.889731Z"
    }
   },
   "outputs": [
    {
     "name": "stdout",
     "output_type": "stream",
     "text": [
      "Starting experimental run with id: 1. \n",
      "Starting experimental run with id: 2. \n",
      "Starting experimental run with id: 3. \n"
     ]
    },
    {
     "name": "stdout",
     "output_type": "stream",
     "text": [
      "Starting experimental run with id: 4. \n"
     ]
    },
    {
     "name": "stdout",
     "output_type": "stream",
     "text": [
      "Starting experimental run with id: 5. \n"
     ]
    },
    {
     "name": "stdout",
     "output_type": "stream",
     "text": [
      "Starting experimental run with id: 6. \n",
      "Starting experimental run with id: 7. \n"
     ]
    },
    {
     "name": "stdout",
     "output_type": "stream",
     "text": [
      "Starting experimental run with id: 8. "
     ]
    },
    {
     "name": "stdout",
     "output_type": "stream",
     "text": [
      "\n",
      "Starting experimental run with id: 9. \n"
     ]
    },
    {
     "name": "stdout",
     "output_type": "stream",
     "text": [
      "Starting experimental run with id: 10. \n",
      "Starting experimental run with id: 11. \n"
     ]
    },
    {
     "name": "stdout",
     "output_type": "stream",
     "text": [
      "Starting experimental run with id: 12. \n"
     ]
    },
    {
     "name": "stdout",
     "output_type": "stream",
     "text": [
      "Starting experimental run with id: 13. \n"
     ]
    },
    {
     "name": "stdout",
     "output_type": "stream",
     "text": [
      "Starting experimental run with id: 14. \n"
     ]
    }
   ],
   "source": [
    "sizes = [1,500,1000,2000,3000,4000,5000]\n",
    "t_numeric = []\n",
    "t_numeric_add = []\n",
    "t_array = []\n",
    "t_array_add = []\n",
    "for size in sizes:\n",
    "    tn, tna, run_id_n =  insert_data('numeric', size)\n",
    "    t_numeric.append(tn)\n",
    "    t_numeric_add.append(tna)\n",
    "\n",
    "    ta, taa, run_id_a =  insert_data('array', size)\n",
    "    t_array.append(ta)\n",
    "    t_array_add.append(taa)"
   ]
  },
  {
   "cell_type": "code",
   "execution_count": 6,
   "metadata": {
    "execution": {
     "iopub.execute_input": "2021-02-09T07:12:00.918422Z",
     "iopub.status.busy": "2021-02-09T07:12:00.908081Z",
     "iopub.status.idle": "2021-02-09T07:12:01.138025Z",
     "shell.execute_reply": "2021-02-09T07:12:01.138513Z"
    }
   },
   "outputs": [
    {
     "data": {
      "image/png": "[encoded data removed]",
      "text/plain": [
       "<Figure size 432x288 with 1 Axes>"
      ]
     },
     "metadata": {
      "needs_background": "light"
     },
     "output_type": "display_data"
    }
   ],
   "source": [
    "fig, ax = plt.subplots(1,1)\n",
    "ax.plot(sizes, t_numeric, 'o-', label='Inserting row-by-row')\n",
    "ax.plot(sizes, t_numeric_add, 'o-', label='Inserting row-by-row: add_result only')\n",
    "ax.plot(sizes, t_array, 'd-', label='Inserting as binary blob')\n",
    "ax.plot(sizes, t_array_add, 'd-', label='Inserting as binary blob: add_result only')\n",
    "ax.legend()\n",
    "ax.set_xlabel('Array length')\n",
    "ax.set_ylabel('Time (s)')\n",
    "fig.tight_layout()"
   ]
  },
  {
   "cell_type": "markdown",
   "metadata": {},
   "source": [
    "As shown in the latter figure, the time to setup and and close the experiment is approximately 0.4 sec. In case of small array sizes, the difference between inserting values of data as arrays and inserting them row-by-row is relatively unimportant. At larger array sizes, i.e. above 10000 points, the cost of writing data as individual datapoints starts to become important.\n"
   ]
  },
  {
   "cell_type": "markdown",
   "metadata": {},
   "source": [
    "### Case2: Long experiment time "
   ]
  },
  {
   "cell_type": "code",
   "execution_count": 7,
   "metadata": {
    "execution": {
     "iopub.execute_input": "2021-02-09T07:12:01.145607Z",
     "iopub.status.busy": "2021-02-09T07:12:01.144644Z",
     "iopub.status.idle": "2021-02-09T07:13:10.020081Z",
     "shell.execute_reply": "2021-02-09T07:13:10.019429Z"
    }
   },
   "outputs": [
    {
     "name": "stdout",
     "output_type": "stream",
     "text": [
      "Starting experimental run with id: 15. \n",
      "Starting experimental run with id: 16. \n"
     ]
    },
    {
     "name": "stdout",
     "output_type": "stream",
     "text": [
      "Starting experimental run with id: 17. \n"
     ]
    },
    {
     "name": "stdout",
     "output_type": "stream",
     "text": [
      "Starting experimental run with id: 18. \n"
     ]
    },
    {
     "name": "stdout",
     "output_type": "stream",
     "text": [
      "Starting experimental run with id: 19. \n"
     ]
    },
    {
     "name": "stdout",
     "output_type": "stream",
     "text": [
      "Starting experimental run with id: 20. \n"
     ]
    },
    {
     "name": "stdout",
     "output_type": "stream",
     "text": [
      "Starting experimental run with id: 21. \n"
     ]
    },
    {
     "name": "stdout",
     "output_type": "stream",
     "text": [
      "Starting experimental run with id: 22. \n"
     ]
    },
    {
     "name": "stdout",
     "output_type": "stream",
     "text": [
      "Starting experimental run with id: 23. \n"
     ]
    },
    {
     "name": "stdout",
     "output_type": "stream",
     "text": [
      "Starting experimental run with id: 24. \n"
     ]
    },
    {
     "name": "stdout",
     "output_type": "stream",
     "text": [
      "Starting experimental run with id: 25. \n"
     ]
    },
    {
     "name": "stdout",
     "output_type": "stream",
     "text": [
      "Starting experimental run with id: 26. \n"
     ]
    },
    {
     "name": "stdout",
     "output_type": "stream",
     "text": [
      "Starting experimental run with id: 27. \n"
     ]
    },
    {
     "name": "stdout",
     "output_type": "stream",
     "text": [
      "Starting experimental run with id: 28. \n"
     ]
    }
   ],
   "source": [
    "sizes = [1,500,1000,2000,3000,4000,5000]\n",
    "nreps = 100\n",
    "t_numeric = []\n",
    "t_numeric_add = []\n",
    "t_numeric_run_ids = []\n",
    "t_array = []\n",
    "t_array_add = []\n",
    "t_array_run_ids = []\n",
    "for size in sizes:\n",
    "    tn, tna, run_id_n =  insert_data('numeric', size, nreps=nreps)\n",
    "    t_numeric.append(tn)\n",
    "    t_numeric_add.append(tna)\n",
    "    t_numeric_run_ids.append(run_id_n)\n",
    "\n",
    "    ta, taa, run_id_a =  insert_data('array', size, nreps=nreps)\n",
    "    t_array.append(ta)\n",
    "    t_array_add.append(taa)\n",
    "    t_array_run_ids.append(run_id_a)"
   ]
  },
  {
   "cell_type": "code",
   "execution_count": 8,
   "metadata": {
    "execution": {
     "iopub.execute_input": "2021-02-09T07:13:10.055784Z",
     "iopub.status.busy": "2021-02-09T07:13:10.050550Z",
     "iopub.status.idle": "2021-02-09T07:13:10.268402Z",
     "shell.execute_reply": "2021-02-09T07:13:10.267634Z"
    },
    "scrolled": true
   },
   "outputs": [
    {
     "data": {
      "image/png": "[encoded data removed]",
      "text/plain": [
       "<Figure size 432x288 with 1 Axes>"
      ]
     },
     "metadata": {
      "needs_background": "light"
     },
     "output_type": "display_data"
    }
   ],
   "source": [
    "fig, ax = plt.subplots(1,1)\n",
    "ax.plot(sizes, t_numeric, 'o-', label='Inserting row-by-row')\n",
    "ax.plot(sizes, t_numeric_add, 'o-', label='Inserting row-by-row: add_result only')\n",
    "ax.plot(sizes, t_array, 'd-', label='Inserting as binary blob')\n",
    "ax.plot(sizes, t_array_add, 'd-', label='Inserting as binary blob: add_result only')\n",
    "ax.legend()\n",
    "ax.set_xlabel('Array length')\n",
    "ax.set_ylabel('Time (s)')\n",
    "fig.tight_layout()"
   ]
  },
  {
   "cell_type": "markdown",
   "metadata": {},
   "source": [
    "However, as we increase the length of the experiment, as seen here by repeating the insertion 100 times, we see a big difference between inserting values of the data row-by-row and inserting it as a binary blob."
   ]
  },
  {
   "cell_type": "markdown",
   "metadata": {},
   "source": [
    "## Loading the data "
   ]
  },
  {
   "cell_type": "code",
   "execution_count": 9,
   "metadata": {
    "execution": {
     "iopub.execute_input": "2021-02-09T07:13:10.274199Z",
     "iopub.status.busy": "2021-02-09T07:13:10.273559Z",
     "iopub.status.idle": "2021-02-09T07:13:10.276479Z",
     "shell.execute_reply": "2021-02-09T07:13:10.275978Z"
    }
   },
   "outputs": [],
   "source": [
    "from qcodes.dataset.data_set import load_by_id\n",
    "from qcodes.dataset.data_export import get_data_by_id"
   ]
  },
  {
   "cell_type": "markdown",
   "metadata": {},
   "source": [
    "As usual you can load the data by using the ``load_by_id`` function but you will notice that the different storage methods\n",
    "are reflected in shape of the data as it is retrieved. "
   ]
  },
  {
   "cell_type": "code",
   "execution_count": 10,
   "metadata": {
    "execution": {
     "iopub.execute_input": "2021-02-09T07:13:10.282992Z",
     "iopub.status.busy": "2021-02-09T07:13:10.281192Z",
     "iopub.status.idle": "2021-02-09T07:13:10.284986Z",
     "shell.execute_reply": "2021-02-09T07:13:10.284205Z"
    }
   },
   "outputs": [],
   "source": [
    "run_id_n = t_numeric_run_ids[0]\n",
    "run_id_a = t_array_run_ids[0]"
   ]
  },
  {
   "cell_type": "code",
   "execution_count": 11,
   "metadata": {
    "execution": {
     "iopub.execute_input": "2021-02-09T07:13:10.289713Z",
     "iopub.status.busy": "2021-02-09T07:13:10.288796Z",
     "iopub.status.idle": "2021-02-09T07:13:10.301401Z",
     "shell.execute_reply": "2021-02-09T07:13:10.302209Z"
    },
    "scrolled": true
   },
   "outputs": [
    {
     "data": {
      "text/plain": [
       "{'x1': {'x1': array([0.38075561, 0.38075561, 0.98809355, 0.98809355, 0.36353151,\n",
       "         0.36353151, 0.27272798, 0.27272798, 0.8159334 , 0.8159334 ,\n",
       "         0.50294622, 0.50294622, 0.4378024 , 0.4378024 , 0.05255217,\n",
       "         0.05255217, 0.53847571, 0.53847571, 0.24550989, 0.24550989,\n",
       "         0.11691131, 0.11691131, 0.06964023, 0.06964023, 0.33367375,\n",
       "         0.33367375, 0.34314834, 0.34314834, 0.79783155, 0.79783155,\n",
       "         0.3701103 , 0.3701103 , 0.55380038, 0.55380038, 0.39725379,\n",
       "         0.39725379, 0.45282029, 0.45282029, 0.56995251, 0.56995251,\n",
       "         0.20871195, 0.20871195, 0.83646826, 0.83646826, 0.34145135,\n",
       "         0.34145135, 0.26816675, 0.26816675, 0.55606277, 0.55606277,\n",
       "         0.70103003, 0.70103003, 0.0412374 , 0.0412374 , 0.05942847,\n",
       "         0.05942847, 0.27183237, 0.27183237, 0.87950547, 0.87950547,\n",
       "         0.69645849, 0.69645849, 0.04899224, 0.04899224, 0.25390168,\n",
       "         0.25390168, 0.01725606, 0.01725606, 0.31014067, 0.31014067,\n",
       "         0.69786632, 0.69786632, 0.91462303, 0.91462303, 0.93448119,\n",
       "         0.93448119, 0.32537186, 0.32537186, 0.41363565, 0.41363565,\n",
       "         0.29148401, 0.29148401, 0.92623161, 0.92623161, 0.65580562,\n",
       "         0.65580562, 0.34848774, 0.34848774, 0.14162366, 0.14162366,\n",
       "         0.12933725, 0.12933725, 0.99432395, 0.99432395, 0.72046696,\n",
       "         0.72046696, 0.87112613, 0.87112613, 0.5629436 , 0.5629436 ,\n",
       "         0.06024658, 0.06024658, 0.6197457 , 0.6197457 , 0.81686418,\n",
       "         0.81686418, 0.55718905, 0.55718905, 0.48218236, 0.48218236,\n",
       "         0.62547782, 0.62547782, 0.04970864, 0.04970864, 0.84585013,\n",
       "         0.84585013, 0.95085852, 0.95085852, 0.1958181 , 0.1958181 ,\n",
       "         0.5159515 , 0.5159515 , 0.4061664 , 0.4061664 , 0.75013932,\n",
       "         0.75013932, 0.78367258, 0.78367258, 0.968632  , 0.968632  ,\n",
       "         0.72084451, 0.72084451, 0.23074071, 0.23074071, 0.06186029,\n",
       "         0.06186029, 0.88146479, 0.88146479, 0.22479297, 0.22479297,\n",
       "         0.76897071, 0.76897071, 0.26296296, 0.26296296, 0.98587812,\n",
       "         0.98587812, 0.23168579, 0.23168579, 0.86638395, 0.86638395,\n",
       "         0.59118735, 0.59118735, 0.0537635 , 0.0537635 , 0.11488415,\n",
       "         0.11488415, 0.05931529, 0.05931529, 0.14844558, 0.14844558,\n",
       "         0.43177988, 0.43177988, 0.8141134 , 0.8141134 , 0.28391326,\n",
       "         0.28391326, 0.90032795, 0.90032795, 0.96686428, 0.96686428,\n",
       "         0.34820864, 0.34820864, 0.69997894, 0.69997894, 0.73820031,\n",
       "         0.73820031, 0.80950877, 0.80950877, 0.87088815, 0.87088815,\n",
       "         0.32969856, 0.32969856, 0.80804848, 0.80804848, 0.01067424,\n",
       "         0.01067424, 0.87882698, 0.87882698, 0.97011612, 0.97011612,\n",
       "         0.37893492, 0.37893492, 0.87354136, 0.87354136, 0.14824959,\n",
       "         0.14824959, 0.22890479, 0.22890479, 0.06770577, 0.06770577])}}"
      ]
     },
     "execution_count": 1,
     "metadata": {},
     "output_type": "execute_result"
    }
   ],
   "source": [
    "ds = load_by_id(run_id_n)\n",
    "ds.get_parameter_data('x1')"
   ]
  },
  {
   "cell_type": "markdown",
   "metadata": {},
   "source": [
    "And a dataset stored as binary arrays"
   ]
  },
  {
   "cell_type": "code",
   "execution_count": 12,
   "metadata": {
    "execution": {
     "iopub.execute_input": "2021-02-09T07:13:10.306775Z",
     "iopub.status.busy": "2021-02-09T07:13:10.306146Z",
     "iopub.status.idle": "2021-02-09T07:13:10.378368Z",
     "shell.execute_reply": "2021-02-09T07:13:10.378911Z"
    },
    "scrolled": true
   },
   "outputs": [
    {
     "data": {
      "text/plain": [
       "{'x1': {'x1': array([[0.52041582],\n",
       "         [0.52041582],\n",
       "         [0.4701435 ],\n",
       "         [0.4701435 ],\n",
       "         [0.21606246],\n",
       "         [0.21606246],\n",
       "         [0.19910011],\n",
       "         [0.19910011],\n",
       "         [0.99067284],\n",
       "         [0.99067284],\n",
       "         [0.9937478 ],\n",
       "         [0.9937478 ],\n",
       "         [0.63796259],\n",
       "         [0.63796259],\n",
       "         [0.34294673],\n",
       "         [0.34294673],\n",
       "         [0.32412929],\n",
       "         [0.32412929],\n",
       "         [0.65044824],\n",
       "         [0.65044824],\n",
       "         [0.28703972],\n",
       "         [0.28703972],\n",
       "         [0.29799441],\n",
       "         [0.29799441],\n",
       "         [0.33403261],\n",
       "         [0.33403261],\n",
       "         [0.76338494],\n",
       "         [0.76338494],\n",
       "         [0.2297956 ],\n",
       "         [0.2297956 ],\n",
       "         [0.820311  ],\n",
       "         [0.820311  ],\n",
       "         [0.11560136],\n",
       "         [0.11560136],\n",
       "         [0.15655373],\n",
       "         [0.15655373],\n",
       "         [0.73961937],\n",
       "         [0.73961937],\n",
       "         [0.77036465],\n",
       "         [0.77036465],\n",
       "         [0.76292511],\n",
       "         [0.76292511],\n",
       "         [0.76803528],\n",
       "         [0.76803528],\n",
       "         [0.63281309],\n",
       "         [0.63281309],\n",
       "         [0.08836292],\n",
       "         [0.08836292],\n",
       "         [0.1340818 ],\n",
       "         [0.1340818 ],\n",
       "         [0.38273165],\n",
       "         [0.38273165],\n",
       "         [0.52170522],\n",
       "         [0.52170522],\n",
       "         [0.51320744],\n",
       "         [0.51320744],\n",
       "         [0.57217388],\n",
       "         [0.57217388],\n",
       "         [0.1295559 ],\n",
       "         [0.1295559 ],\n",
       "         [0.39269029],\n",
       "         [0.39269029],\n",
       "         [0.94439577],\n",
       "         [0.94439577],\n",
       "         [0.98749965],\n",
       "         [0.98749965],\n",
       "         [0.81320351],\n",
       "         [0.81320351],\n",
       "         [0.21798341],\n",
       "         [0.21798341],\n",
       "         [0.37754907],\n",
       "         [0.37754907],\n",
       "         [0.7475334 ],\n",
       "         [0.7475334 ],\n",
       "         [0.37008398],\n",
       "         [0.37008398],\n",
       "         [0.89869169],\n",
       "         [0.89869169],\n",
       "         [0.23029695],\n",
       "         [0.23029695],\n",
       "         [0.07352146],\n",
       "         [0.07352146],\n",
       "         [0.47351212],\n",
       "         [0.47351212],\n",
       "         [0.88685611],\n",
       "         [0.88685611],\n",
       "         [0.56178256],\n",
       "         [0.56178256],\n",
       "         [0.31044292],\n",
       "         [0.31044292],\n",
       "         [0.2206511 ],\n",
       "         [0.2206511 ],\n",
       "         [0.69707122],\n",
       "         [0.69707122],\n",
       "         [0.8369946 ],\n",
       "         [0.8369946 ],\n",
       "         [0.60663878],\n",
       "         [0.60663878],\n",
       "         [0.1917547 ],\n",
       "         [0.1917547 ],\n",
       "         [0.92499126],\n",
       "         [0.92499126],\n",
       "         [0.99382773],\n",
       "         [0.99382773],\n",
       "         [0.31431021],\n",
       "         [0.31431021],\n",
       "         [0.60169688],\n",
       "         [0.60169688],\n",
       "         [0.91850404],\n",
       "         [0.91850404],\n",
       "         [0.80971452],\n",
       "         [0.80971452],\n",
       "         [0.41618196],\n",
       "         [0.41618196],\n",
       "         [0.72774385],\n",
       "         [0.72774385],\n",
       "         [0.0402817 ],\n",
       "         [0.0402817 ],\n",
       "         [0.54102435],\n",
       "         [0.54102435],\n",
       "         [0.42395485],\n",
       "         [0.42395485],\n",
       "         [0.62438747],\n",
       "         [0.62438747],\n",
       "         [0.32209459],\n",
       "         [0.32209459],\n",
       "         [0.50692138],\n",
       "         [0.50692138],\n",
       "         [0.95201847],\n",
       "         [0.95201847],\n",
       "         [0.62564351],\n",
       "         [0.62564351],\n",
       "         [0.81177521],\n",
       "         [0.81177521],\n",
       "         [0.48214666],\n",
       "         [0.48214666],\n",
       "         [0.93936574],\n",
       "         [0.93936574],\n",
       "         [0.43764882],\n",
       "         [0.43764882],\n",
       "         [0.87594256],\n",
       "         [0.87594256],\n",
       "         [0.50774555],\n",
       "         [0.50774555],\n",
       "         [0.02786717],\n",
       "         [0.02786717],\n",
       "         [0.8202537 ],\n",
       "         [0.8202537 ],\n",
       "         [0.61967339],\n",
       "         [0.61967339],\n",
       "         [0.71171068],\n",
       "         [0.71171068],\n",
       "         [0.53148296],\n",
       "         [0.53148296],\n",
       "         [0.05995314],\n",
       "         [0.05995314],\n",
       "         [0.72301459],\n",
       "         [0.72301459],\n",
       "         [0.35350758],\n",
       "         [0.35350758],\n",
       "         [0.63664241],\n",
       "         [0.63664241],\n",
       "         [0.43215327],\n",
       "         [0.43215327],\n",
       "         [0.34820502],\n",
       "         [0.34820502],\n",
       "         [0.77304031],\n",
       "         [0.77304031],\n",
       "         [0.15481832],\n",
       "         [0.15481832],\n",
       "         [0.71550014],\n",
       "         [0.71550014],\n",
       "         [0.54108737],\n",
       "         [0.54108737],\n",
       "         [0.9390811 ],\n",
       "         [0.9390811 ],\n",
       "         [0.60587028],\n",
       "         [0.60587028],\n",
       "         [0.56080567],\n",
       "         [0.56080567],\n",
       "         [0.0403916 ],\n",
       "         [0.0403916 ],\n",
       "         [0.25076023],\n",
       "         [0.25076023],\n",
       "         [0.78008137],\n",
       "         [0.78008137],\n",
       "         [0.37203225],\n",
       "         [0.37203225],\n",
       "         [0.72532409],\n",
       "         [0.72532409],\n",
       "         [0.61140265],\n",
       "         [0.61140265],\n",
       "         [0.67507949],\n",
       "         [0.67507949],\n",
       "         [0.44009331],\n",
       "         [0.44009331],\n",
       "         [0.28889482],\n",
       "         [0.28889482],\n",
       "         [0.338876  ],\n",
       "         [0.338876  ]])}}"
      ]
     },
     "execution_count": 1,
     "metadata": {},
     "output_type": "execute_result"
    }
   ],
   "source": [
    "ds = load_by_id(run_id_a)\n",
    "ds.get_parameter_data('x1')"
   ]
  },
  {
   "cell_type": "code",
   "execution_count": null,
   "metadata": {},
   "outputs": [],
   "source": []
  }
 ],
 "metadata": {
  "kernelspec": {
   "display_name": "Python 3",
   "language": "python",
   "name": "python3"
  },
  "language_info": {
   "codemirror_mode": {
    "name": "ipython",
    "version": 3
   },
   "file_extension": ".py",
   "mimetype": "text/x-python",
   "name": "python",
   "nbconvert_exporter": "python",
   "pygments_lexer": "ipython3",
   "version": "3.7.9"
  },
  "nbsphinx": {
   "timeout": 600
  },
  "toc": {
   "base_numbering": 1,
   "nav_menu": {},
   "number_sections": true,
   "sideBar": true,
   "skip_h1_title": false,
   "title_cell": "Table of Contents",
   "title_sidebar": "Contents",
   "toc_cell": false,
   "toc_position": {},
   "toc_section_display": true,
   "toc_window_display": false
  },
  "varInspector": {
   "cols": {
    "lenName": 16,
    "lenType": 16,
    "lenVar": 40
   },
   "kernels_config": {
    "python": {
     "delete_cmd_postfix": "",
     "delete_cmd_prefix": "del ",
     "library": "var_list.py",
     "varRefreshCmd": "print(var_dic_list())"
    },
    "r": {
     "delete_cmd_postfix": ") ",
     "delete_cmd_prefix": "rm(",
     "library": "var_list.r",
     "varRefreshCmd": "cat(var_dic_list()) "
    }
   },
   "types_to_exclude": [
    "module",
    "function",
    "builtin_function_or_method",
    "instance",
    "_Feature"
   ],
   "window_display": false
  }
 },
 "nbformat": 4,
 "nbformat_minor": 2
}
