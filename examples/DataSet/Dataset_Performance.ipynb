{
 "cells": [
  {
   "cell_type": "markdown",
   "execution_count": 1,
   "metadata": {},
   "source": [
    "# DataSet Performance\n",
    "\n",
    "This notebook shows the trade-off between inserting data into a database row-by-row and as binary blobs. Inserting the data row-by-row means that we have direct access to all the data and may perform queries directly on the values of the data. On the other hand, as we shall see, this is much slower than inserting the data directly as binary blobs."
   ]
  },
  {
   "cell_type": "markdown",
   "execution_count": 1,
   "metadata": {},
   "source": [
    "First, we choose a new location for the database to ensure that we don't add a bunch of benchmarking data to the default one."
   ]
  },
  {
   "cell_type": "code",
   "execution_count": 1,
   "metadata": {
    "execution": {
     "iopub.execute_input": "2020-09-16T10:28:56.990333Z",
     "iopub.status.busy": "2020-09-16T10:28:56.989795Z",
     "iopub.status.idle": "2020-09-16T10:28:57.970730Z",
     "shell.execute_reply": "2020-09-16T10:28:57.970214Z"
    }
   },
   "outputs": [
    {
     "name": "stdout",
     "output_type": "stream",
     "text": [
      "Logging hadn't been started.\n",
      "Activating auto-logging. Current session state plus future input saved.\n",
      "Filename       : /home/vsts/.qcodes/logs/command_history.log\n",
      "Mode           : append\n",
      "Output logging : True\n",
      "Raw input log  : False\n",
      "Timestamping   : True\n",
      "State          : active\n"
     ]
    },
    {
     "name": "stdout",
     "output_type": "stream",
     "text": [
      "Qcodes Logfile : /home/vsts/.qcodes/logs/200916-18505-qcodes.log\n"
     ]
    }
   ],
   "source": [
    "import os\n",
    "cwd = os.getcwd()\n",
    "import qcodes as qc\n",
    "qc.config[\"core\"][\"db_location\"] = os.path.join(cwd, 'testing.db')\n"
   ]
  },
  {
   "cell_type": "code",
   "execution_count": 2,
   "metadata": {
    "execution": {
     "iopub.execute_input": "2020-09-16T10:28:57.975992Z",
     "iopub.status.busy": "2020-09-16T10:28:57.975165Z",
     "iopub.status.idle": "2020-09-16T10:28:58.136142Z",
     "shell.execute_reply": "2020-09-16T10:28:58.135346Z"
    }
   },
   "outputs": [],
   "source": [
    "%matplotlib inline\n",
    "import time\n",
    "import matplotlib.pyplot as plt\n",
    "import numpy as np\n",
    "\n",
    "import qcodes as qc\n",
    "from qcodes.instrument.parameter import ManualParameter\n",
    "from qcodes.dataset.experiment_container import (Experiment,\n",
    "                                                 load_last_experiment,\n",
    "                                                 new_experiment)\n",
    "from qcodes.dataset.sqlite.database import initialise_database\n",
    "from qcodes import load_or_create_experiment\n",
    "from qcodes.dataset.measurements import Measurement"
   ]
  },
  {
   "cell_type": "code",
   "execution_count": 3,
   "metadata": {
    "execution": {
     "iopub.execute_input": "2020-09-16T10:28:58.140312Z",
     "iopub.status.busy": "2020-09-16T10:28:58.139198Z",
     "iopub.status.idle": "2020-09-16T10:28:58.210829Z",
     "shell.execute_reply": "2020-09-16T10:28:58.210050Z"
    }
   },
   "outputs": [
    {
     "name": "stdout",
     "output_type": "stream",
     "text": [
      "\r",
      "0it [00:00, ?it/s]"
     ]
    },
    {
     "name": "stdout",
     "output_type": "stream",
     "text": [
      "\r",
      "Upgrading database; v0 -> v1: : 0it [00:00, ?it/s]"
     ]
    },
    {
     "name": "stdout",
     "output_type": "stream",
     "text": [
      "\r",
      "Upgrading database; v0 -> v1: : 0it [00:00, ?it/s]"
     ]
    },
    {
     "name": "stdout",
     "output_type": "stream",
     "text": [
      "\n",
      "\r",
      "  0%|          | 0/1 [00:00<?, ?it/s]"
     ]
    },
    {
     "name": "stdout",
     "output_type": "stream",
     "text": [
      "\r",
      "Upgrading database; v1 -> v2:   0%|          | 0/1 [00:00<?, ?it/s]"
     ]
    },
    {
     "name": "stdout",
     "output_type": "stream",
     "text": [
      "\r",
      "Upgrading database; v1 -> v2: 100%|██████████| 1/1 [00:00<00:00, 385.01it/s]"
     ]
    },
    {
     "name": "stdout",
     "output_type": "stream",
     "text": [
      "\n",
      "\r",
      "0it [00:00, ?it/s]"
     ]
    },
    {
     "name": "stdout",
     "output_type": "stream",
     "text": [
      "\r",
      "Upgrading database; v2 -> v3: : 0it [00:00, ?it/s]"
     ]
    },
    {
     "name": "stdout",
     "output_type": "stream",
     "text": [
      "\r",
      "Upgrading database; v2 -> v3: : 0it [00:00, ?it/s]"
     ]
    },
    {
     "name": "stdout",
     "output_type": "stream",
     "text": [
      "\n",
      "\r",
      "0it [00:00, ?it/s]"
     ]
    },
    {
     "name": "stdout",
     "output_type": "stream",
     "text": [
      "\r",
      "Upgrading database; v3 -> v4: : 0it [00:00, ?it/s]"
     ]
    },
    {
     "name": "stdout",
     "output_type": "stream",
     "text": [
      "\r",
      "Upgrading database; v3 -> v4: : 0it [00:00, ?it/s]"
     ]
    },
    {
     "name": "stdout",
     "output_type": "stream",
     "text": [
      "\n",
      "\r",
      "  0%|          | 0/1 [00:00<?, ?it/s]"
     ]
    },
    {
     "name": "stdout",
     "output_type": "stream",
     "text": [
      "\r",
      "Upgrading database; v4 -> v5:   0%|          | 0/1 [00:00<?, ?it/s]"
     ]
    },
    {
     "name": "stdout",
     "output_type": "stream",
     "text": [
      "\r",
      "Upgrading database; v4 -> v5: 100%|██████████| 1/1 [00:00<00:00, 470.42it/s]"
     ]
    },
    {
     "name": "stdout",
     "output_type": "stream",
     "text": [
      "\n",
      "\r",
      "0it [00:00, ?it/s]"
     ]
    },
    {
     "name": "stdout",
     "output_type": "stream",
     "text": [
      "\r",
      "Upgrading database; v5 -> v6: : 0it [00:00, ?it/s]"
     ]
    },
    {
     "name": "stdout",
     "output_type": "stream",
     "text": [
      "\r",
      "Upgrading database; v5 -> v6: : 0it [00:00, ?it/s]"
     ]
    },
    {
     "name": "stdout",
     "output_type": "stream",
     "text": [
      "\n",
      "\r",
      "  0%|          | 0/1 [00:00<?, ?it/s]"
     ]
    },
    {
     "name": "stdout",
     "output_type": "stream",
     "text": [
      "\r",
      "Upgrading database; v6 -> v7:   0%|          | 0/1 [00:00<?, ?it/s]"
     ]
    },
    {
     "name": "stdout",
     "output_type": "stream",
     "text": [
      "\r",
      "Upgrading database; v6 -> v7: 100%|██████████| 1/1 [00:00<00:00, 351.37it/s]"
     ]
    },
    {
     "name": "stdout",
     "output_type": "stream",
     "text": [
      "\n",
      "\r",
      "  0%|          | 0/1 [00:00<?, ?it/s]"
     ]
    },
    {
     "name": "stdout",
     "output_type": "stream",
     "text": [
      "\r",
      "Upgrading database; v7 -> v8:   0%|          | 0/1 [00:00<?, ?it/s]"
     ]
    },
    {
     "name": "stdout",
     "output_type": "stream",
     "text": [
      "\r",
      "Upgrading database; v7 -> v8: 100%|██████████| 1/1 [00:00<00:00, 428.25it/s]"
     ]
    },
    {
     "name": "stdout",
     "output_type": "stream",
     "text": [
      "\n",
      "\r",
      "  0%|          | 0/1 [00:00<?, ?it/s]"
     ]
    },
    {
     "name": "stdout",
     "output_type": "stream",
     "text": [
      "\r",
      "Upgrading database; v8 -> v9:   0%|          | 0/1 [00:00<?, ?it/s]"
     ]
    },
    {
     "name": "stdout",
     "output_type": "stream",
     "text": [
      "\r",
      "Upgrading database; v8 -> v9: 100%|██████████| 1/1 [00:00<00:00, 418.13it/s]"
     ]
    },
    {
     "name": "stdout",
     "output_type": "stream",
     "text": [
      "\n"
     ]
    }
   ],
   "source": [
    "initialise_database()\n",
    "exp = load_or_create_experiment(experiment_name='tutorial_exp', sample_name=\"no sample\")"
   ]
  },
  {
   "cell_type": "markdown",
   "execution_count": 4,
   "metadata": {},
   "source": [
    "Here, we define a simple function to benchmark the time it takes to insert n points with either numeric or array data type.\n",
    "We will compare both the time used to call ``add_result`` and the time used for the full measurement."
   ]
  },
  {
   "cell_type": "code",
   "execution_count": 4,
   "metadata": {
    "execution": {
     "iopub.execute_input": "2020-09-16T10:28:58.218773Z",
     "iopub.status.busy": "2020-09-16T10:28:58.218227Z",
     "iopub.status.idle": "2020-09-16T10:28:58.221964Z",
     "shell.execute_reply": "2020-09-16T10:28:58.221337Z"
    }
   },
   "outputs": [],
   "source": [
    "def insert_data(paramtype, npoints, nreps=1):\n",
    "\n",
    "    meas = Measurement(exp=exp)\n",
    "\n",
    "    x1 = ManualParameter('x1')\n",
    "    x2 = ManualParameter('x2')\n",
    "    x3 = ManualParameter('x3')\n",
    "    y1 = ManualParameter('y1')\n",
    "    y2 = ManualParameter('y2')\n",
    "\n",
    "    meas.register_parameter(x1, paramtype=paramtype)\n",
    "    meas.register_parameter(x2, paramtype=paramtype)\n",
    "    meas.register_parameter(x3, paramtype=paramtype)\n",
    "    meas.register_parameter(y1, setpoints=[x1, x2, x3],\n",
    "                            paramtype=paramtype)\n",
    "    meas.register_parameter(y2, setpoints=[x1, x2, x3],\n",
    "                            paramtype=paramtype)\n",
    "    start = time.perf_counter()\n",
    "    with meas.run() as datasaver:\n",
    "        start_adding = time.perf_counter()\n",
    "        for i in range(nreps):\n",
    "            datasaver.add_result((x1, np.random.rand(npoints)),\n",
    "                                 (x2, np.random.rand(npoints)),\n",
    "                                 (x3, np.random.rand(npoints)),\n",
    "                                 (y1, np.random.rand(npoints)),\n",
    "                                 (y2, np.random.rand(npoints)))\n",
    "        stop_adding = time.perf_counter()\n",
    "        run_id = datasaver.run_id\n",
    "    stop = time.perf_counter()\n",
    "    tot_time = stop - start\n",
    "    add_time = stop_adding - start_adding\n",
    "    return tot_time, add_time, run_id"
   ]
  },
  {
   "cell_type": "markdown",
   "execution_count": 5,
   "metadata": {},
   "source": [
    "## Comparison between numeric/array data and binary blob"
   ]
  },
  {
   "cell_type": "markdown",
   "execution_count": 5,
   "metadata": {},
   "source": [
    "### Case1: Short experiment time"
   ]
  },
  {
   "cell_type": "code",
   "execution_count": 5,
   "metadata": {
    "execution": {
     "iopub.execute_input": "2020-09-16T10:28:58.236522Z",
     "iopub.status.busy": "2020-09-16T10:28:58.235562Z",
     "iopub.status.idle": "2020-09-16T10:28:59.039346Z",
     "shell.execute_reply": "2020-09-16T10:28:59.039868Z"
    }
   },
   "outputs": [
    {
     "name": "stdout",
     "output_type": "stream",
     "text": [
      "Starting experimental run with id: 1. \n",
      "Starting experimental run with id: 2. \n",
      "Starting experimental run with id: 3. \n",
      "Starting experimental run with id: 4. \n"
     ]
    },
    {
     "name": "stdout",
     "output_type": "stream",
     "text": [
      "Starting experimental run with id: 5. \n"
     ]
    },
    {
     "name": "stdout",
     "output_type": "stream",
     "text": [
      "Starting experimental run with id: 6. \n",
      "Starting experimental run with id: 7. \n"
     ]
    },
    {
     "name": "stdout",
     "output_type": "stream",
     "text": [
      "Starting experimental run with id: 8. \n",
      "Starting experimental run with id: 9. \n"
     ]
    },
    {
     "name": "stdout",
     "output_type": "stream",
     "text": [
      "Starting experimental run with id: 10. \n",
      "Starting experimental run with id: 11. \n"
     ]
    },
    {
     "name": "stdout",
     "output_type": "stream",
     "text": [
      "Starting experimental run with id: 12. \n",
      "Starting experimental run with id: 13. \n"
     ]
    },
    {
     "name": "stdout",
     "output_type": "stream",
     "text": [
      "Starting experimental run with id: 14. \n"
     ]
    }
   ],
   "source": [
    "sizes = [1,500,1000,2000,3000,4000,5000]\n",
    "t_numeric = []\n",
    "t_numeric_add = []\n",
    "t_array = []\n",
    "t_array_add = []\n",
    "for size in sizes:\n",
    "    tn, tna, run_id_n =  insert_data('numeric', size)\n",
    "    t_numeric.append(tn)\n",
    "    t_numeric_add.append(tna)\n",
    "\n",
    "    ta, taa, run_id_a =  insert_data('array', size)\n",
    "    t_array.append(ta)\n",
    "    t_array_add.append(taa)"
   ]
  },
  {
   "cell_type": "code",
   "execution_count": 6,
   "metadata": {
    "execution": {
     "iopub.execute_input": "2020-09-16T10:28:59.045454Z",
     "iopub.status.busy": "2020-09-16T10:28:59.044630Z",
     "iopub.status.idle": "2020-09-16T10:28:59.257701Z",
     "shell.execute_reply": "2020-09-16T10:28:59.257191Z"
    }
   },
   "outputs": [
    {
     "data": {
      "image/png": "[encoded data removed]",
      "text/plain": [
       "<Figure size 432x288 with 1 Axes>"
      ]
     },
     "metadata": {
      "needs_background": "light"
     },
     "output_type": "display_data"
    }
   ],
   "source": [
    "fig, ax = plt.subplots(1,1)\n",
    "ax.plot(sizes, t_numeric, 'o-', label='Inserting row-by-row')\n",
    "ax.plot(sizes, t_numeric_add, 'o-', label='Inserting row-by-row: add_result only')\n",
    "ax.plot(sizes, t_array, 'd-', label='Inserting as binary blob')\n",
    "ax.plot(sizes, t_array_add, 'd-', label='Inserting as binary blob: add_result only')\n",
    "ax.legend()\n",
    "ax.set_xlabel('Array length')\n",
    "ax.set_ylabel('Time (s)')\n",
    "fig.tight_layout()"
   ]
  },
  {
   "cell_type": "markdown",
   "execution_count": 7,
   "metadata": {},
   "source": [
    "As shown in the latter figure, the time to setup and and close the experiment is approximately 0.4 sec. In case of small array sizes, the difference between inserting values of data as arrays and inserting them row-by-row is relatively unimportant. At larger array sizes, i.e. above 10000 points, the cost of writing data as individual datapoints starts to become important.\n"
   ]
  },
  {
   "cell_type": "markdown",
   "execution_count": 7,
   "metadata": {},
   "source": [
    "### Case2: Long experiment time "
   ]
  },
  {
   "cell_type": "code",
   "execution_count": 7,
   "metadata": {
    "execution": {
     "iopub.execute_input": "2020-09-16T10:28:59.264524Z",
     "iopub.status.busy": "2020-09-16T10:28:59.263754Z",
     "iopub.status.idle": "2020-09-16T10:29:56.898467Z",
     "shell.execute_reply": "2020-09-16T10:29:56.898897Z"
    }
   },
   "outputs": [
    {
     "name": "stdout",
     "output_type": "stream",
     "text": [
      "Starting experimental run with id: 15. \n",
      "Starting experimental run with id: 16. \n",
      "Starting experimental run with id: 17. \n"
     ]
    },
    {
     "name": "stdout",
     "output_type": "stream",
     "text": [
      "Starting experimental run with id: 18. \n",
      "Starting experimental run with id: 19. \n"
     ]
    },
    {
     "name": "stdout",
     "output_type": "stream",
     "text": [
      "Starting experimental run with id: 20. \n"
     ]
    },
    {
     "name": "stdout",
     "output_type": "stream",
     "text": [
      "Starting experimental run with id: 21. \n"
     ]
    },
    {
     "name": "stdout",
     "output_type": "stream",
     "text": [
      "Starting experimental run with id: 22. \n"
     ]
    },
    {
     "name": "stdout",
     "output_type": "stream",
     "text": [
      "Starting experimental run with id: 23. \n"
     ]
    },
    {
     "name": "stdout",
     "output_type": "stream",
     "text": [
      "Starting experimental run with id: 24. \n"
     ]
    },
    {
     "name": "stdout",
     "output_type": "stream",
     "text": [
      "Starting experimental run with id: 25. \n"
     ]
    },
    {
     "name": "stdout",
     "output_type": "stream",
     "text": [
      "Starting experimental run with id: 26. \n"
     ]
    },
    {
     "name": "stdout",
     "output_type": "stream",
     "text": [
      "Starting experimental run with id: 27. \n"
     ]
    },
    {
     "name": "stdout",
     "output_type": "stream",
     "text": [
      "Starting experimental run with id: 28. \n"
     ]
    }
   ],
   "source": [
    "sizes = [1,500,1000,2000,3000,4000,5000]\n",
    "nreps = 100\n",
    "t_numeric = []\n",
    "t_numeric_add = []\n",
    "t_numeric_run_ids = []\n",
    "t_array = []\n",
    "t_array_add = []\n",
    "t_array_run_ids = []\n",
    "for size in sizes:\n",
    "    tn, tna, run_id_n =  insert_data('numeric', size, nreps=nreps)\n",
    "    t_numeric.append(tn)\n",
    "    t_numeric_add.append(tna)\n",
    "    t_numeric_run_ids.append(run_id_n)\n",
    "\n",
    "    ta, taa, run_id_a =  insert_data('array', size, nreps=nreps)\n",
    "    t_array.append(ta)\n",
    "    t_array_add.append(taa)\n",
    "    t_array_run_ids.append(run_id_a)"
   ]
  },
  {
   "cell_type": "code",
   "execution_count": 8,
   "metadata": {
    "execution": {
     "iopub.execute_input": "2020-09-16T10:29:56.903975Z",
     "iopub.status.busy": "2020-09-16T10:29:56.903408Z",
     "iopub.status.idle": "2020-09-16T10:29:57.118080Z",
     "shell.execute_reply": "2020-09-16T10:29:57.118650Z"
    },
    "scrolled": true
   },
   "outputs": [
    {
     "data": {
      "image/png": "[encoded data removed]",
      "text/plain": [
       "<Figure size 432x288 with 1 Axes>"
      ]
     },
     "metadata": {
      "needs_background": "light"
     },
     "output_type": "display_data"
    }
   ],
   "source": [
    "fig, ax = plt.subplots(1,1)\n",
    "ax.plot(sizes, t_numeric, 'o-', label='Inserting row-by-row')\n",
    "ax.plot(sizes, t_numeric_add, 'o-', label='Inserting row-by-row: add_result only')\n",
    "ax.plot(sizes, t_array, 'd-', label='Inserting as binary blob')\n",
    "ax.plot(sizes, t_array_add, 'd-', label='Inserting as binary blob: add_result only')\n",
    "ax.legend()\n",
    "ax.set_xlabel('Array length')\n",
    "ax.set_ylabel('Time (s)')\n",
    "fig.tight_layout()"
   ]
  },
  {
   "cell_type": "markdown",
   "execution_count": 9,
   "metadata": {},
   "source": [
    "However, as we increase the length of the experiment, as seen here by repeating the insertion 100 times, we see a big difference between inserting values of the data row-by-row and inserting it as a binary blob."
   ]
  },
  {
   "cell_type": "markdown",
   "execution_count": 9,
   "metadata": {},
   "source": [
    "## Loading the data "
   ]
  },
  {
   "cell_type": "code",
   "execution_count": 9,
   "metadata": {
    "execution": {
     "iopub.execute_input": "2020-09-16T10:29:57.123010Z",
     "iopub.status.busy": "2020-09-16T10:29:57.122431Z",
     "iopub.status.idle": "2020-09-16T10:29:57.124619Z",
     "shell.execute_reply": "2020-09-16T10:29:57.125070Z"
    }
   },
   "outputs": [],
   "source": [
    "from qcodes.dataset.data_set import load_by_id\n",
    "from qcodes.dataset.data_export import get_data_by_id"
   ]
  },
  {
   "cell_type": "markdown",
   "execution_count": 10,
   "metadata": {},
   "source": [
    "As usual you can load the data by using the ``load_by_id`` function but you will notice that the different storage methods\n",
    "are reflected in shape of the data as it is retrieved. "
   ]
  },
  {
   "cell_type": "code",
   "execution_count": 10,
   "metadata": {
    "execution": {
     "iopub.execute_input": "2020-09-16T10:29:57.129975Z",
     "iopub.status.busy": "2020-09-16T10:29:57.128518Z",
     "iopub.status.idle": "2020-09-16T10:29:57.130529Z",
     "shell.execute_reply": "2020-09-16T10:29:57.131081Z"
    }
   },
   "outputs": [],
   "source": [
    "run_id_n = t_numeric_run_ids[0]\n",
    "run_id_a = t_array_run_ids[0]"
   ]
  },
  {
   "cell_type": "code",
   "execution_count": 11,
   "metadata": {
    "execution": {
     "iopub.execute_input": "2020-09-16T10:29:57.134269Z",
     "iopub.status.busy": "2020-09-16T10:29:57.133721Z",
     "iopub.status.idle": "2020-09-16T10:29:57.143396Z",
     "shell.execute_reply": "2020-09-16T10:29:57.142205Z"
    },
    "scrolled": true
   },
   "outputs": [
    {
     "data": {
      "text/plain": [
       "{'x1': {'x1': array([0.76853421, 0.76853421, 0.63004327, 0.63004327, 0.82167755,\n",
       "         0.82167755, 0.36442507, 0.36442507, 0.23652647, 0.23652647,\n",
       "         0.19717239, 0.19717239, 0.07711668, 0.07711668, 0.28090103,\n",
       "         0.28090103, 0.94497137, 0.94497137, 0.85094055, 0.85094055,\n",
       "         0.25622668, 0.25622668, 0.83898993, 0.83898993, 0.23530522,\n",
       "         0.23530522, 0.90643256, 0.90643256, 0.33508601, 0.33508601,\n",
       "         0.42883535, 0.42883535, 0.38728151, 0.38728151, 0.74865234,\n",
       "         0.74865234, 0.273185  , 0.273185  , 0.96352101, 0.96352101,\n",
       "         0.38279607, 0.38279607, 0.94560628, 0.94560628, 0.37362235,\n",
       "         0.37362235, 0.29184045, 0.29184045, 0.88191023, 0.88191023,\n",
       "         0.08921609, 0.08921609, 0.25141521, 0.25141521, 0.33033885,\n",
       "         0.33033885, 0.39546167, 0.39546167, 0.65357964, 0.65357964,\n",
       "         0.84293797, 0.84293797, 0.04113588, 0.04113588, 0.56241538,\n",
       "         0.56241538, 0.8188697 , 0.8188697 , 0.39733051, 0.39733051,\n",
       "         0.33177886, 0.33177886, 0.41237163, 0.41237163, 0.43787075,\n",
       "         0.43787075, 0.00144868, 0.00144868, 0.45458059, 0.45458059,\n",
       "         0.10817134, 0.10817134, 0.98045184, 0.98045184, 0.7750132 ,\n",
       "         0.7750132 , 0.08167883, 0.08167883, 0.97145971, 0.97145971,\n",
       "         0.63765623, 0.63765623, 0.72375329, 0.72375329, 0.71357129,\n",
       "         0.71357129, 0.51999917, 0.51999917, 0.06051003, 0.06051003,\n",
       "         0.34909652, 0.34909652, 0.04239687, 0.04239687, 0.29893231,\n",
       "         0.29893231, 0.97500001, 0.97500001, 0.49896339, 0.49896339,\n",
       "         0.68000371, 0.68000371, 0.37187791, 0.37187791, 0.26267171,\n",
       "         0.26267171, 0.53734757, 0.53734757, 0.04888842, 0.04888842,\n",
       "         0.47511963, 0.47511963, 0.02761862, 0.02761862, 0.0301805 ,\n",
       "         0.0301805 , 0.07977646, 0.07977646, 0.60724207, 0.60724207,\n",
       "         0.08559196, 0.08559196, 0.97490069, 0.97490069, 0.22029414,\n",
       "         0.22029414, 0.94671217, 0.94671217, 0.53696408, 0.53696408,\n",
       "         0.8423831 , 0.8423831 , 0.09599011, 0.09599011, 0.091495  ,\n",
       "         0.091495  , 0.92165066, 0.92165066, 0.04857584, 0.04857584,\n",
       "         0.77818686, 0.77818686, 0.6900739 , 0.6900739 , 0.20164818,\n",
       "         0.20164818, 0.50725032, 0.50725032, 0.72316074, 0.72316074,\n",
       "         0.98401341, 0.98401341, 0.10129953, 0.10129953, 0.39134024,\n",
       "         0.39134024, 0.69099232, 0.69099232, 0.40967765, 0.40967765,\n",
       "         0.35813922, 0.35813922, 0.24809598, 0.24809598, 0.74196091,\n",
       "         0.74196091, 0.82448981, 0.82448981, 0.67089819, 0.67089819,\n",
       "         0.63201415, 0.63201415, 0.1178364 , 0.1178364 , 0.0095152 ,\n",
       "         0.0095152 , 0.48464863, 0.48464863, 0.07739289, 0.07739289,\n",
       "         0.85277879, 0.85277879, 0.32526831, 0.32526831, 0.91953476,\n",
       "         0.91953476, 0.92393499, 0.92393499, 0.55399075, 0.55399075])}}"
      ]
     },
     "execution_count": 1,
     "metadata": {},
     "output_type": "execute_result"
    }
   ],
   "source": [
    "ds = load_by_id(run_id_n)\n",
    "ds.get_parameter_data('x1')"
   ]
  },
  {
   "cell_type": "markdown",
   "execution_count": 12,
   "metadata": {},
   "source": [
    "And a dataset stored as binary arrays"
   ]
  },
  {
   "cell_type": "code",
   "execution_count": 12,
   "metadata": {
    "execution": {
     "iopub.execute_input": "2020-09-16T10:29:57.148372Z",
     "iopub.status.busy": "2020-09-16T10:29:57.147790Z",
     "iopub.status.idle": "2020-09-16T10:29:57.207840Z",
     "shell.execute_reply": "2020-09-16T10:29:57.209072Z"
    },
    "scrolled": true
   },
   "outputs": [
    {
     "data": {
      "text/plain": [
       "{'x1': {'x1': array([[0.8754373 ],\n",
       "         [0.8754373 ],\n",
       "         [0.48864293],\n",
       "         [0.48864293],\n",
       "         [0.95063313],\n",
       "         [0.95063313],\n",
       "         [0.21418375],\n",
       "         [0.21418375],\n",
       "         [0.07275156],\n",
       "         [0.07275156],\n",
       "         [0.6380814 ],\n",
       "         [0.6380814 ],\n",
       "         [0.24490138],\n",
       "         [0.24490138],\n",
       "         [0.58896367],\n",
       "         [0.58896367],\n",
       "         [0.74940384],\n",
       "         [0.74940384],\n",
       "         [0.00441838],\n",
       "         [0.00441838],\n",
       "         [0.52313173],\n",
       "         [0.52313173],\n",
       "         [0.24615918],\n",
       "         [0.24615918],\n",
       "         [0.99184097],\n",
       "         [0.99184097],\n",
       "         [0.30397913],\n",
       "         [0.30397913],\n",
       "         [0.26230503],\n",
       "         [0.26230503],\n",
       "         [0.12270448],\n",
       "         [0.12270448],\n",
       "         [0.73839519],\n",
       "         [0.73839519],\n",
       "         [0.12433047],\n",
       "         [0.12433047],\n",
       "         [0.88199816],\n",
       "         [0.88199816],\n",
       "         [0.51107384],\n",
       "         [0.51107384],\n",
       "         [0.77015236],\n",
       "         [0.77015236],\n",
       "         [0.29619659],\n",
       "         [0.29619659],\n",
       "         [0.60346742],\n",
       "         [0.60346742],\n",
       "         [0.52243612],\n",
       "         [0.52243612],\n",
       "         [0.7812765 ],\n",
       "         [0.7812765 ],\n",
       "         [0.90022881],\n",
       "         [0.90022881],\n",
       "         [0.06992678],\n",
       "         [0.06992678],\n",
       "         [0.78028602],\n",
       "         [0.78028602],\n",
       "         [0.209298  ],\n",
       "         [0.209298  ],\n",
       "         [0.56968148],\n",
       "         [0.56968148],\n",
       "         [0.99013998],\n",
       "         [0.99013998],\n",
       "         [0.4234724 ],\n",
       "         [0.4234724 ],\n",
       "         [0.35508699],\n",
       "         [0.35508699],\n",
       "         [0.28070024],\n",
       "         [0.28070024],\n",
       "         [0.27596113],\n",
       "         [0.27596113],\n",
       "         [0.20355547],\n",
       "         [0.20355547],\n",
       "         [0.05756189],\n",
       "         [0.05756189],\n",
       "         [0.19034449],\n",
       "         [0.19034449],\n",
       "         [0.37510208],\n",
       "         [0.37510208],\n",
       "         [0.62544909],\n",
       "         [0.62544909],\n",
       "         [0.02266434],\n",
       "         [0.02266434],\n",
       "         [0.75308276],\n",
       "         [0.75308276],\n",
       "         [0.32848609],\n",
       "         [0.32848609],\n",
       "         [0.52582996],\n",
       "         [0.52582996],\n",
       "         [0.73696985],\n",
       "         [0.73696985],\n",
       "         [0.90118083],\n",
       "         [0.90118083],\n",
       "         [0.0545196 ],\n",
       "         [0.0545196 ],\n",
       "         [0.83127371],\n",
       "         [0.83127371],\n",
       "         [0.5852627 ],\n",
       "         [0.5852627 ],\n",
       "         [0.95067059],\n",
       "         [0.95067059],\n",
       "         [0.44896382],\n",
       "         [0.44896382],\n",
       "         [0.11716882],\n",
       "         [0.11716882],\n",
       "         [0.31507186],\n",
       "         [0.31507186],\n",
       "         [0.4549345 ],\n",
       "         [0.4549345 ],\n",
       "         [0.68812369],\n",
       "         [0.68812369],\n",
       "         [0.86878303],\n",
       "         [0.86878303],\n",
       "         [0.30138577],\n",
       "         [0.30138577],\n",
       "         [0.23245038],\n",
       "         [0.23245038],\n",
       "         [0.78209705],\n",
       "         [0.78209705],\n",
       "         [0.70661786],\n",
       "         [0.70661786],\n",
       "         [0.05651448],\n",
       "         [0.05651448],\n",
       "         [0.24792534],\n",
       "         [0.24792534],\n",
       "         [0.83258348],\n",
       "         [0.83258348],\n",
       "         [0.80366223],\n",
       "         [0.80366223],\n",
       "         [0.77106974],\n",
       "         [0.77106974],\n",
       "         [0.42675487],\n",
       "         [0.42675487],\n",
       "         [0.32960349],\n",
       "         [0.32960349],\n",
       "         [0.63527011],\n",
       "         [0.63527011],\n",
       "         [0.09329135],\n",
       "         [0.09329135],\n",
       "         [0.72391886],\n",
       "         [0.72391886],\n",
       "         [0.86169888],\n",
       "         [0.86169888],\n",
       "         [0.11545738],\n",
       "         [0.11545738],\n",
       "         [0.46211177],\n",
       "         [0.46211177],\n",
       "         [0.65308183],\n",
       "         [0.65308183],\n",
       "         [0.15554029],\n",
       "         [0.15554029],\n",
       "         [0.05131852],\n",
       "         [0.05131852],\n",
       "         [0.44641053],\n",
       "         [0.44641053],\n",
       "         [0.87281325],\n",
       "         [0.87281325],\n",
       "         [0.1517011 ],\n",
       "         [0.1517011 ],\n",
       "         [0.60842824],\n",
       "         [0.60842824],\n",
       "         [0.3512331 ],\n",
       "         [0.3512331 ],\n",
       "         [0.25788096],\n",
       "         [0.25788096],\n",
       "         [0.5623318 ],\n",
       "         [0.5623318 ],\n",
       "         [0.73130341],\n",
       "         [0.73130341],\n",
       "         [0.13293909],\n",
       "         [0.13293909],\n",
       "         [0.64088586],\n",
       "         [0.64088586],\n",
       "         [0.73411467],\n",
       "         [0.73411467],\n",
       "         [0.00231459],\n",
       "         [0.00231459],\n",
       "         [0.3119772 ],\n",
       "         [0.3119772 ],\n",
       "         [0.42298502],\n",
       "         [0.42298502],\n",
       "         [0.27283194],\n",
       "         [0.27283194],\n",
       "         [0.45351496],\n",
       "         [0.45351496],\n",
       "         [0.89193032],\n",
       "         [0.89193032],\n",
       "         [0.83003666],\n",
       "         [0.83003666],\n",
       "         [0.72313561],\n",
       "         [0.72313561],\n",
       "         [0.1340088 ],\n",
       "         [0.1340088 ],\n",
       "         [0.40362812],\n",
       "         [0.40362812],\n",
       "         [0.80513692],\n",
       "         [0.80513692],\n",
       "         [0.62158179],\n",
       "         [0.62158179],\n",
       "         [0.72557891],\n",
       "         [0.72557891]])}}"
      ]
     },
     "execution_count": 1,
     "metadata": {},
     "output_type": "execute_result"
    }
   ],
   "source": [
    "ds = load_by_id(run_id_a)\n",
    "ds.get_parameter_data('x1')"
   ]
  },
  {
   "cell_type": "code",
   "execution_count": 13,
   "metadata": {},
   "outputs": [],
   "source": []
  }
 ],
 "metadata": {
  "kernelspec": {
   "display_name": "Python 3",
   "language": "python",
   "name": "python3"
  },
  "language_info": {
   "codemirror_mode": {
    "name": "ipython",
    "version": 3
   },
   "file_extension": ".py",
   "mimetype": "text/x-python",
   "name": "python",
   "nbconvert_exporter": "python",
   "pygments_lexer": "ipython3",
   "version": "3.7.7"
  },
  "nbsphinx": {
   "timeout": 600
  },
  "toc": {
   "base_numbering": 1,
   "nav_menu": {},
   "number_sections": true,
   "sideBar": true,
   "skip_h1_title": false,
   "title_cell": "Table of Contents",
   "title_sidebar": "Contents",
   "toc_cell": false,
   "toc_position": {},
   "toc_section_display": true,
   "toc_window_display": false
  },
  "varInspector": {
   "cols": {
    "lenName": 16,
    "lenType": 16,
    "lenVar": 40
   },
   "kernels_config": {
    "python": {
     "delete_cmd_postfix": "",
     "delete_cmd_prefix": "del ",
     "library": "var_list.py",
     "varRefreshCmd": "print(var_dic_list())"
    },
    "r": {
     "delete_cmd_postfix": ") ",
     "delete_cmd_prefix": "rm(",
     "library": "var_list.r",
     "varRefreshCmd": "cat(var_dic_list()) "
    }
   },
   "types_to_exclude": [
    "module",
    "function",
    "builtin_function_or_method",
    "instance",
    "_Feature"
   ],
   "window_display": false
  }
 },
 "nbformat": 4,
 "nbformat_minor": 2
}
