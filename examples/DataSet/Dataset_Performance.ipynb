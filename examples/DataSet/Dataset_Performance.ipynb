{
 "cells": [
  {
   "cell_type": "markdown",
   "metadata": {},
   "source": [
    "# DataSet Performance\n",
    "\n",
    "This notebook shows the trade-off between inserting data into a database row-by-row and as binary blobs. Inserting the data row-by-row means that we have direct access to all the data and may perform queries directly on the values of the data. On the other hand, as we shall see, this is much slower than inserting the data directly as binary blobs."
   ]
  },
  {
   "cell_type": "markdown",
   "metadata": {},
   "source": [
    "First, we choose a new location for the database to ensure that we don't add a bunch of benchmarking data to the default one."
   ]
  },
  {
   "cell_type": "code",
   "execution_count": 1,
   "metadata": {
    "execution": {
     "iopub.execute_input": "2021-05-17T10:09:03.654304Z",
     "iopub.status.busy": "2021-05-17T10:09:03.653658Z",
     "iopub.status.idle": "2021-05-17T10:09:04.857868Z",
     "shell.execute_reply": "2021-05-17T10:09:04.857272Z"
    }
   },
   "outputs": [
    {
     "name": "stdout",
     "output_type": "stream",
     "text": [
      "Logging hadn't been started.\n",
      "Activating auto-logging. Current session state plus future input saved.\n",
      "Filename       : /home/runner/.qcodes/logs/command_history.log\n",
      "Mode           : append\n",
      "Output logging : True\n",
      "Raw input log  : False\n",
      "Timestamping   : True\n",
      "State          : active\n"
     ]
    },
    {
     "name": "stdout",
     "output_type": "stream",
     "text": [
      "Qcodes Logfile : /home/runner/.qcodes/logs/210517-4565-qcodes.log\n"
     ]
    }
   ],
   "source": [
    "import os\n",
    "cwd = os.getcwd()\n",
    "import qcodes as qc\n",
    "qc.config[\"core\"][\"db_location\"] = os.path.join(cwd, 'testing.db')\n"
   ]
  },
  {
   "cell_type": "code",
   "execution_count": 2,
   "metadata": {
    "execution": {
     "iopub.execute_input": "2021-05-17T10:09:04.865046Z",
     "iopub.status.busy": "2021-05-17T10:09:04.863777Z",
     "iopub.status.idle": "2021-05-17T10:09:05.064931Z",
     "shell.execute_reply": "2021-05-17T10:09:05.063883Z"
    }
   },
   "outputs": [],
   "source": [
    "%matplotlib inline\n",
    "import time\n",
    "import matplotlib.pyplot as plt\n",
    "import numpy as np\n",
    "\n",
    "import qcodes as qc\n",
    "from qcodes.instrument.parameter import ManualParameter\n",
    "from qcodes.dataset.experiment_container import (Experiment,\n",
    "                                                 load_last_experiment,\n",
    "                                                 new_experiment)\n",
    "from qcodes.dataset.sqlite.database import initialise_database\n",
    "from qcodes import load_or_create_experiment\n",
    "from qcodes.dataset.measurements import Measurement"
   ]
  },
  {
   "cell_type": "code",
   "execution_count": 3,
   "metadata": {
    "execution": {
     "iopub.execute_input": "2021-05-17T10:09:05.069653Z",
     "iopub.status.busy": "2021-05-17T10:09:05.069067Z",
     "iopub.status.idle": "2021-05-17T10:09:05.128552Z",
     "shell.execute_reply": "2021-05-17T10:09:05.128003Z"
    }
   },
   "outputs": [
    {
     "name": "stdout",
     "output_type": "stream",
     "text": [
      "\r",
      "0it [00:00, ?it/s]"
     ]
    },
    {
     "name": "stdout",
     "output_type": "stream",
     "text": [
      "\r",
      "Upgrading database; v0 -> v1: : 0it [00:00, ?it/s]"
     ]
    },
    {
     "name": "stdout",
     "output_type": "stream",
     "text": [
      "\r",
      "Upgrading database; v0 -> v1: : 0it [00:00, ?it/s]"
     ]
    },
    {
     "name": "stdout",
     "output_type": "stream",
     "text": [
      "\n",
      "\r",
      "  0%|          | 0/1 [00:00<?, ?it/s]"
     ]
    },
    {
     "name": "stdout",
     "output_type": "stream",
     "text": [
      "\r",
      "Upgrading database; v1 -> v2:   0%|          | 0/1 [00:00<?, ?it/s]"
     ]
    },
    {
     "name": "stdout",
     "output_type": "stream",
     "text": [
      "\r",
      "Upgrading database; v1 -> v2: 100%|██████████| 1/1 [00:00<00:00, 1102.31it/s]"
     ]
    },
    {
     "name": "stdout",
     "output_type": "stream",
     "text": [
      "\n",
      "\r",
      "0it [00:00, ?it/s]"
     ]
    },
    {
     "name": "stdout",
     "output_type": "stream",
     "text": [
      "\r",
      "Upgrading database; v2 -> v3: : 0it [00:00, ?it/s]"
     ]
    },
    {
     "name": "stdout",
     "output_type": "stream",
     "text": [
      "\r",
      "Upgrading database; v2 -> v3: : 0it [00:00, ?it/s]"
     ]
    },
    {
     "name": "stdout",
     "output_type": "stream",
     "text": [
      "\n",
      "\r",
      "0it [00:00, ?it/s]"
     ]
    },
    {
     "name": "stdout",
     "output_type": "stream",
     "text": [
      "\r",
      "Upgrading database; v3 -> v4: : 0it [00:00, ?it/s]"
     ]
    },
    {
     "name": "stdout",
     "output_type": "stream",
     "text": [
      "\r",
      "Upgrading database; v3 -> v4: : 0it [00:00, ?it/s]"
     ]
    },
    {
     "name": "stdout",
     "output_type": "stream",
     "text": [
      "\n",
      "\r",
      "  0%|          | 0/1 [00:00<?, ?it/s]"
     ]
    },
    {
     "name": "stdout",
     "output_type": "stream",
     "text": [
      "\r",
      "Upgrading database; v4 -> v5:   0%|          | 0/1 [00:00<?, ?it/s]"
     ]
    },
    {
     "name": "stdout",
     "output_type": "stream",
     "text": [
      "\r",
      "Upgrading database; v4 -> v5: 100%|██████████| 1/1 [00:00<00:00, 565.96it/s]"
     ]
    },
    {
     "name": "stdout",
     "output_type": "stream",
     "text": [
      "\n",
      "\r",
      "0it [00:00, ?it/s]"
     ]
    },
    {
     "name": "stdout",
     "output_type": "stream",
     "text": [
      "\r",
      "Upgrading database; v5 -> v6: : 0it [00:00, ?it/s]"
     ]
    },
    {
     "name": "stdout",
     "output_type": "stream",
     "text": [
      "\r",
      "Upgrading database; v5 -> v6: : 0it [00:00, ?it/s]"
     ]
    },
    {
     "name": "stdout",
     "output_type": "stream",
     "text": [
      "\n",
      "\r",
      "  0%|          | 0/1 [00:00<?, ?it/s]"
     ]
    },
    {
     "name": "stdout",
     "output_type": "stream",
     "text": [
      "\r",
      "Upgrading database; v6 -> v7:   0%|          | 0/1 [00:00<?, ?it/s]"
     ]
    },
    {
     "name": "stdout",
     "output_type": "stream",
     "text": [
      "\r",
      "Upgrading database; v6 -> v7: 100%|██████████| 1/1 [00:00<00:00, 462.34it/s]"
     ]
    },
    {
     "name": "stdout",
     "output_type": "stream",
     "text": [
      "\n",
      "\r",
      "  0%|          | 0/1 [00:00<?, ?it/s]"
     ]
    },
    {
     "name": "stdout",
     "output_type": "stream",
     "text": [
      "\r",
      "Upgrading database; v7 -> v8:   0%|          | 0/1 [00:00<?, ?it/s]"
     ]
    },
    {
     "name": "stdout",
     "output_type": "stream",
     "text": [
      "\r",
      "Upgrading database; v7 -> v8: 100%|██████████| 1/1 [00:00<00:00, 701.15it/s]"
     ]
    },
    {
     "name": "stdout",
     "output_type": "stream",
     "text": [
      "\n",
      "\r",
      "  0%|          | 0/1 [00:00<?, ?it/s]"
     ]
    },
    {
     "name": "stdout",
     "output_type": "stream",
     "text": [
      "\r",
      "Upgrading database; v8 -> v9:   0%|          | 0/1 [00:00<?, ?it/s]"
     ]
    },
    {
     "name": "stdout",
     "output_type": "stream",
     "text": [
      "\r",
      "Upgrading database; v8 -> v9: 100%|██████████| 1/1 [00:00<00:00, 823.54it/s]"
     ]
    },
    {
     "name": "stdout",
     "output_type": "stream",
     "text": [
      "\n"
     ]
    }
   ],
   "source": [
    "initialise_database()\n",
    "exp = load_or_create_experiment(experiment_name='tutorial_exp', sample_name=\"no sample\")"
   ]
  },
  {
   "cell_type": "markdown",
   "metadata": {},
   "source": [
    "Here, we define a simple function to benchmark the time it takes to insert n points with either numeric or array data type.\n",
    "We will compare both the time used to call ``add_result`` and the time used for the full measurement."
   ]
  },
  {
   "cell_type": "code",
   "execution_count": 4,
   "metadata": {
    "execution": {
     "iopub.execute_input": "2021-05-17T10:09:05.138571Z",
     "iopub.status.busy": "2021-05-17T10:09:05.137343Z",
     "iopub.status.idle": "2021-05-17T10:09:05.139146Z",
     "shell.execute_reply": "2021-05-17T10:09:05.139527Z"
    }
   },
   "outputs": [],
   "source": [
    "def insert_data(paramtype, npoints, nreps=1):\n",
    "\n",
    "    meas = Measurement(exp=exp)\n",
    "\n",
    "    x1 = ManualParameter('x1')\n",
    "    x2 = ManualParameter('x2')\n",
    "    x3 = ManualParameter('x3')\n",
    "    y1 = ManualParameter('y1')\n",
    "    y2 = ManualParameter('y2')\n",
    "\n",
    "    meas.register_parameter(x1, paramtype=paramtype)\n",
    "    meas.register_parameter(x2, paramtype=paramtype)\n",
    "    meas.register_parameter(x3, paramtype=paramtype)\n",
    "    meas.register_parameter(y1, setpoints=[x1, x2, x3],\n",
    "                            paramtype=paramtype)\n",
    "    meas.register_parameter(y2, setpoints=[x1, x2, x3],\n",
    "                            paramtype=paramtype)\n",
    "    start = time.perf_counter()\n",
    "    with meas.run() as datasaver:\n",
    "        start_adding = time.perf_counter()\n",
    "        for i in range(nreps):\n",
    "            datasaver.add_result((x1, np.random.rand(npoints)),\n",
    "                                 (x2, np.random.rand(npoints)),\n",
    "                                 (x3, np.random.rand(npoints)),\n",
    "                                 (y1, np.random.rand(npoints)),\n",
    "                                 (y2, np.random.rand(npoints)))\n",
    "        stop_adding = time.perf_counter()\n",
    "        run_id = datasaver.run_id\n",
    "    stop = time.perf_counter()\n",
    "    tot_time = stop - start\n",
    "    add_time = stop_adding - start_adding\n",
    "    return tot_time, add_time, run_id"
   ]
  },
  {
   "cell_type": "markdown",
   "metadata": {},
   "source": [
    "## Comparison between numeric/array data and binary blob"
   ]
  },
  {
   "cell_type": "markdown",
   "metadata": {},
   "source": [
    "### Case1: Short experiment time"
   ]
  },
  {
   "cell_type": "code",
   "execution_count": 5,
   "metadata": {
    "execution": {
     "iopub.execute_input": "2021-05-17T10:09:05.146546Z",
     "iopub.status.busy": "2021-05-17T10:09:05.145868Z",
     "iopub.status.idle": "2021-05-17T10:09:05.950354Z",
     "shell.execute_reply": "2021-05-17T10:09:05.950802Z"
    }
   },
   "outputs": [
    {
     "name": "stdout",
     "output_type": "stream",
     "text": [
      "Starting experimental run with id: 1. \n",
      "Starting experimental run with id: 2. \n",
      "Starting experimental run with id: 3. \n"
     ]
    },
    {
     "name": "stdout",
     "output_type": "stream",
     "text": [
      "Starting experimental run with id: 4. \n"
     ]
    },
    {
     "name": "stdout",
     "output_type": "stream",
     "text": [
      "Starting experimental run with id: 5. \n"
     ]
    },
    {
     "name": "stdout",
     "output_type": "stream",
     "text": [
      "Starting experimental run with id: 6. \n"
     ]
    },
    {
     "name": "stdout",
     "output_type": "stream",
     "text": [
      "Starting experimental run with id: 7. \n",
      "Starting experimental run with id: 8. \n",
      "Starting experimental run with id: 9. \n"
     ]
    },
    {
     "name": "stdout",
     "output_type": "stream",
     "text": [
      "Starting experimental run with id: 10. \n",
      "Starting experimental run with id: 11. \n",
      "Starting experimental run with id: 12. \n",
      "Starting experimental run with id: 13. \n"
     ]
    },
    {
     "name": "stdout",
     "output_type": "stream",
     "text": [
      "Starting experimental run with id: 14. \n"
     ]
    }
   ],
   "source": [
    "sizes = [1,500,1000,2000,3000,4000,5000]\n",
    "t_numeric = []\n",
    "t_numeric_add = []\n",
    "t_array = []\n",
    "t_array_add = []\n",
    "for size in sizes:\n",
    "    tn, tna, run_id_n =  insert_data('numeric', size)\n",
    "    t_numeric.append(tn)\n",
    "    t_numeric_add.append(tna)\n",
    "\n",
    "    ta, taa, run_id_a =  insert_data('array', size)\n",
    "    t_array.append(ta)\n",
    "    t_array_add.append(taa)"
   ]
  },
  {
   "cell_type": "code",
   "execution_count": 6,
   "metadata": {
    "execution": {
     "iopub.execute_input": "2021-05-17T10:09:05.971501Z",
     "iopub.status.busy": "2021-05-17T10:09:05.969552Z",
     "iopub.status.idle": "2021-05-17T10:09:06.189701Z",
     "shell.execute_reply": "2021-05-17T10:09:06.189191Z"
    }
   },
   "outputs": [
    {
     "data": {
      "image/png": "[encoded data removed]",
      "text/plain": [
       "<Figure size 432x288 with 1 Axes>"
      ]
     },
     "metadata": {
      "needs_background": "light"
     },
     "output_type": "display_data"
    }
   ],
   "source": [
    "fig, ax = plt.subplots(1,1)\n",
    "ax.plot(sizes, t_numeric, 'o-', label='Inserting row-by-row')\n",
    "ax.plot(sizes, t_numeric_add, 'o-', label='Inserting row-by-row: add_result only')\n",
    "ax.plot(sizes, t_array, 'd-', label='Inserting as binary blob')\n",
    "ax.plot(sizes, t_array_add, 'd-', label='Inserting as binary blob: add_result only')\n",
    "ax.legend()\n",
    "ax.set_xlabel('Array length')\n",
    "ax.set_ylabel('Time (s)')\n",
    "fig.tight_layout()"
   ]
  },
  {
   "cell_type": "markdown",
   "metadata": {},
   "source": [
    "As shown in the latter figure, the time to setup and and close the experiment is approximately 0.4 sec. In case of small array sizes, the difference between inserting values of data as arrays and inserting them row-by-row is relatively unimportant. At larger array sizes, i.e. above 10000 points, the cost of writing data as individual datapoints starts to become important.\n"
   ]
  },
  {
   "cell_type": "markdown",
   "metadata": {},
   "source": [
    "### Case2: Long experiment time "
   ]
  },
  {
   "cell_type": "code",
   "execution_count": 7,
   "metadata": {
    "execution": {
     "iopub.execute_input": "2021-05-17T10:09:06.197044Z",
     "iopub.status.busy": "2021-05-17T10:09:06.195687Z",
     "iopub.status.idle": "2021-05-17T10:10:01.718975Z",
     "shell.execute_reply": "2021-05-17T10:10:01.718000Z"
    }
   },
   "outputs": [
    {
     "name": "stdout",
     "output_type": "stream",
     "text": [
      "Starting experimental run with id: 15. \n",
      "Starting experimental run with id: 16. \n",
      "Starting experimental run with id: 17. \n"
     ]
    },
    {
     "name": "stdout",
     "output_type": "stream",
     "text": [
      "Starting experimental run with id: 18. \n",
      "Starting experimental run with id: 19. \n"
     ]
    },
    {
     "name": "stdout",
     "output_type": "stream",
     "text": [
      "Starting experimental run with id: 20. \n"
     ]
    },
    {
     "name": "stdout",
     "output_type": "stream",
     "text": [
      "Starting experimental run with id: 21. \n"
     ]
    },
    {
     "name": "stdout",
     "output_type": "stream",
     "text": [
      "Starting experimental run with id: 22. \n"
     ]
    },
    {
     "name": "stdout",
     "output_type": "stream",
     "text": [
      "Starting experimental run with id: 23. \n"
     ]
    },
    {
     "name": "stdout",
     "output_type": "stream",
     "text": [
      "Starting experimental run with id: 24. \n"
     ]
    },
    {
     "name": "stdout",
     "output_type": "stream",
     "text": [
      "Starting experimental run with id: 25. \n"
     ]
    },
    {
     "name": "stdout",
     "output_type": "stream",
     "text": [
      "Starting experimental run with id: 26. \n"
     ]
    },
    {
     "name": "stdout",
     "output_type": "stream",
     "text": [
      "Starting experimental run with id: 27. \n"
     ]
    },
    {
     "name": "stdout",
     "output_type": "stream",
     "text": [
      "Starting experimental run with id: 28. \n"
     ]
    }
   ],
   "source": [
    "sizes = [1,500,1000,2000,3000,4000,5000]\n",
    "nreps = 100\n",
    "t_numeric = []\n",
    "t_numeric_add = []\n",
    "t_numeric_run_ids = []\n",
    "t_array = []\n",
    "t_array_add = []\n",
    "t_array_run_ids = []\n",
    "for size in sizes:\n",
    "    tn, tna, run_id_n =  insert_data('numeric', size, nreps=nreps)\n",
    "    t_numeric.append(tn)\n",
    "    t_numeric_add.append(tna)\n",
    "    t_numeric_run_ids.append(run_id_n)\n",
    "\n",
    "    ta, taa, run_id_a =  insert_data('array', size, nreps=nreps)\n",
    "    t_array.append(ta)\n",
    "    t_array_add.append(taa)\n",
    "    t_array_run_ids.append(run_id_a)"
   ]
  },
  {
   "cell_type": "code",
   "execution_count": 8,
   "metadata": {
    "execution": {
     "iopub.execute_input": "2021-05-17T10:10:01.740124Z",
     "iopub.status.busy": "2021-05-17T10:10:01.724877Z",
     "iopub.status.idle": "2021-05-17T10:10:01.949852Z",
     "shell.execute_reply": "2021-05-17T10:10:01.949344Z"
    },
    "scrolled": true
   },
   "outputs": [
    {
     "data": {
      "image/png": "[encoded data removed]",
      "text/plain": [
       "<Figure size 432x288 with 1 Axes>"
      ]
     },
     "metadata": {
      "needs_background": "light"
     },
     "output_type": "display_data"
    }
   ],
   "source": [
    "fig, ax = plt.subplots(1,1)\n",
    "ax.plot(sizes, t_numeric, 'o-', label='Inserting row-by-row')\n",
    "ax.plot(sizes, t_numeric_add, 'o-', label='Inserting row-by-row: add_result only')\n",
    "ax.plot(sizes, t_array, 'd-', label='Inserting as binary blob')\n",
    "ax.plot(sizes, t_array_add, 'd-', label='Inserting as binary blob: add_result only')\n",
    "ax.legend()\n",
    "ax.set_xlabel('Array length')\n",
    "ax.set_ylabel('Time (s)')\n",
    "fig.tight_layout()"
   ]
  },
  {
   "cell_type": "markdown",
   "metadata": {},
   "source": [
    "However, as we increase the length of the experiment, as seen here by repeating the insertion 100 times, we see a big difference between inserting values of the data row-by-row and inserting it as a binary blob."
   ]
  },
  {
   "cell_type": "markdown",
   "metadata": {},
   "source": [
    "## Loading the data "
   ]
  },
  {
   "cell_type": "code",
   "execution_count": 9,
   "metadata": {
    "execution": {
     "iopub.execute_input": "2021-05-17T10:10:01.954227Z",
     "iopub.status.busy": "2021-05-17T10:10:01.953663Z",
     "iopub.status.idle": "2021-05-17T10:10:01.957254Z",
     "shell.execute_reply": "2021-05-17T10:10:01.956758Z"
    }
   },
   "outputs": [],
   "source": [
    "from qcodes.dataset.data_set import load_by_id"
   ]
  },
  {
   "cell_type": "markdown",
   "metadata": {},
   "source": [
    "As usual you can load the data by using the ``load_by_id`` function but you will notice that the different storage methods\n",
    "are reflected in shape of the data as it is retrieved. "
   ]
  },
  {
   "cell_type": "code",
   "execution_count": 10,
   "metadata": {
    "execution": {
     "iopub.execute_input": "2021-05-17T10:10:01.961726Z",
     "iopub.status.busy": "2021-05-17T10:10:01.960665Z",
     "iopub.status.idle": "2021-05-17T10:10:01.962255Z",
     "shell.execute_reply": "2021-05-17T10:10:01.962738Z"
    }
   },
   "outputs": [],
   "source": [
    "run_id_n = t_numeric_run_ids[0]\n",
    "run_id_a = t_array_run_ids[0]"
   ]
  },
  {
   "cell_type": "code",
   "execution_count": 11,
   "metadata": {
    "execution": {
     "iopub.execute_input": "2021-05-17T10:10:01.966137Z",
     "iopub.status.busy": "2021-05-17T10:10:01.965574Z",
     "iopub.status.idle": "2021-05-17T10:10:01.975153Z",
     "shell.execute_reply": "2021-05-17T10:10:01.975596Z"
    },
    "scrolled": true
   },
   "outputs": [
    {
     "data": {
      "text/plain": [
       "{'x1': {'x1': array([0.06797674, 0.06797674, 0.02347476, 0.02347476, 0.2930619 ,\n",
       "         0.2930619 , 0.96974911, 0.96974911, 0.76915218, 0.76915218,\n",
       "         0.65891078, 0.65891078, 0.06172809, 0.06172809, 0.15526605,\n",
       "         0.15526605, 0.54926642, 0.54926642, 0.94151856, 0.94151856,\n",
       "         0.80086139, 0.80086139, 0.15332751, 0.15332751, 0.1762874 ,\n",
       "         0.1762874 , 0.53134414, 0.53134414, 0.68579611, 0.68579611,\n",
       "         0.43482883, 0.43482883, 0.28970725, 0.28970725, 0.67119879,\n",
       "         0.67119879, 0.14024525, 0.14024525, 0.5116179 , 0.5116179 ,\n",
       "         0.66510501, 0.66510501, 0.40347231, 0.40347231, 0.25226918,\n",
       "         0.25226918, 0.67002011, 0.67002011, 0.30118311, 0.30118311,\n",
       "         0.44163376, 0.44163376, 0.10662451, 0.10662451, 0.00355139,\n",
       "         0.00355139, 0.4496041 , 0.4496041 , 0.83059981, 0.83059981,\n",
       "         0.79905982, 0.79905982, 0.56364178, 0.56364178, 0.57789877,\n",
       "         0.57789877, 0.41931449, 0.41931449, 0.34657979, 0.34657979,\n",
       "         0.72140235, 0.72140235, 0.68869466, 0.68869466, 0.10577099,\n",
       "         0.10577099, 0.07852168, 0.07852168, 0.23435011, 0.23435011,\n",
       "         0.76086464, 0.76086464, 0.18758809, 0.18758809, 0.69104714,\n",
       "         0.69104714, 0.58569038, 0.58569038, 0.53087901, 0.53087901,\n",
       "         0.4764772 , 0.4764772 , 0.25563768, 0.25563768, 0.92420848,\n",
       "         0.92420848, 0.2752148 , 0.2752148 , 0.60724094, 0.60724094,\n",
       "         0.79532295, 0.79532295, 0.51879801, 0.51879801, 0.88264296,\n",
       "         0.88264296, 0.06132194, 0.06132194, 0.59858975, 0.59858975,\n",
       "         0.07725724, 0.07725724, 0.19597271, 0.19597271, 0.66784645,\n",
       "         0.66784645, 0.58489672, 0.58489672, 0.92769205, 0.92769205,\n",
       "         0.28596228, 0.28596228, 0.72879443, 0.72879443, 0.52981766,\n",
       "         0.52981766, 0.20675461, 0.20675461, 0.74350538, 0.74350538,\n",
       "         0.07399151, 0.07399151, 0.650037  , 0.650037  , 0.62076288,\n",
       "         0.62076288, 0.67518164, 0.67518164, 0.76237413, 0.76237413,\n",
       "         0.27367149, 0.27367149, 0.64191799, 0.64191799, 0.77224185,\n",
       "         0.77224185, 0.34280062, 0.34280062, 0.81145748, 0.81145748,\n",
       "         0.52313193, 0.52313193, 0.70979428, 0.70979428, 0.81246423,\n",
       "         0.81246423, 0.18768037, 0.18768037, 0.51054013, 0.51054013,\n",
       "         0.14226157, 0.14226157, 0.57012838, 0.57012838, 0.51034322,\n",
       "         0.51034322, 0.18722134, 0.18722134, 0.91259459, 0.91259459,\n",
       "         0.49445685, 0.49445685, 0.9287774 , 0.9287774 , 0.84096013,\n",
       "         0.84096013, 0.86509455, 0.86509455, 0.42950897, 0.42950897,\n",
       "         0.94531052, 0.94531052, 0.53220065, 0.53220065, 0.9376709 ,\n",
       "         0.9376709 , 0.18637   , 0.18637   , 0.53808077, 0.53808077,\n",
       "         0.53494635, 0.53494635, 0.5178639 , 0.5178639 , 0.74697178,\n",
       "         0.74697178, 0.80368076, 0.80368076, 0.85156433, 0.85156433])}}"
      ]
     },
     "execution_count": 1,
     "metadata": {},
     "output_type": "execute_result"
    }
   ],
   "source": [
    "ds = load_by_id(run_id_n)\n",
    "ds.get_parameter_data('x1')"
   ]
  },
  {
   "cell_type": "markdown",
   "metadata": {},
   "source": [
    "And a dataset stored as binary arrays"
   ]
  },
  {
   "cell_type": "code",
   "execution_count": 12,
   "metadata": {
    "execution": {
     "iopub.execute_input": "2021-05-17T10:10:01.979061Z",
     "iopub.status.busy": "2021-05-17T10:10:01.978497Z",
     "iopub.status.idle": "2021-05-17T10:10:02.034127Z",
     "shell.execute_reply": "2021-05-17T10:10:02.033642Z"
    },
    "scrolled": true
   },
   "outputs": [
    {
     "data": {
      "text/plain": [
       "{'x1': {'x1': array([[3.50268566e-01],\n",
       "         [3.50268566e-01],\n",
       "         [8.63441781e-01],\n",
       "         [8.63441781e-01],\n",
       "         [2.50834836e-01],\n",
       "         [2.50834836e-01],\n",
       "         [1.73929654e-01],\n",
       "         [1.73929654e-01],\n",
       "         [8.67057453e-01],\n",
       "         [8.67057453e-01],\n",
       "         [5.77503148e-01],\n",
       "         [5.77503148e-01],\n",
       "         [1.44321812e-02],\n",
       "         [1.44321812e-02],\n",
       "         [1.93661275e-01],\n",
       "         [1.93661275e-01],\n",
       "         [8.75038645e-01],\n",
       "         [8.75038645e-01],\n",
       "         [6.06132545e-02],\n",
       "         [6.06132545e-02],\n",
       "         [2.02207961e-02],\n",
       "         [2.02207961e-02],\n",
       "         [2.67398214e-01],\n",
       "         [2.67398214e-01],\n",
       "         [1.16684812e-01],\n",
       "         [1.16684812e-01],\n",
       "         [8.54316042e-01],\n",
       "         [8.54316042e-01],\n",
       "         [9.79054628e-01],\n",
       "         [9.79054628e-01],\n",
       "         [1.79728800e-01],\n",
       "         [1.79728800e-01],\n",
       "         [2.50958662e-01],\n",
       "         [2.50958662e-01],\n",
       "         [5.71733749e-01],\n",
       "         [5.71733749e-01],\n",
       "         [1.19594600e-01],\n",
       "         [1.19594600e-01],\n",
       "         [6.85871660e-01],\n",
       "         [6.85871660e-01],\n",
       "         [2.84209073e-02],\n",
       "         [2.84209073e-02],\n",
       "         [4.03686561e-01],\n",
       "         [4.03686561e-01],\n",
       "         [7.00208073e-01],\n",
       "         [7.00208073e-01],\n",
       "         [3.09776755e-01],\n",
       "         [3.09776755e-01],\n",
       "         [7.36109925e-01],\n",
       "         [7.36109925e-01],\n",
       "         [6.02613953e-01],\n",
       "         [6.02613953e-01],\n",
       "         [8.35207302e-01],\n",
       "         [8.35207302e-01],\n",
       "         [8.98834390e-01],\n",
       "         [8.98834390e-01],\n",
       "         [6.06844385e-01],\n",
       "         [6.06844385e-01],\n",
       "         [2.92987431e-01],\n",
       "         [2.92987431e-01],\n",
       "         [1.72567210e-01],\n",
       "         [1.72567210e-01],\n",
       "         [5.10251227e-02],\n",
       "         [5.10251227e-02],\n",
       "         [4.24326389e-01],\n",
       "         [4.24326389e-01],\n",
       "         [4.59130606e-01],\n",
       "         [4.59130606e-01],\n",
       "         [8.49503292e-01],\n",
       "         [8.49503292e-01],\n",
       "         [1.80178119e-01],\n",
       "         [1.80178119e-01],\n",
       "         [7.27244497e-01],\n",
       "         [7.27244497e-01],\n",
       "         [4.25918650e-01],\n",
       "         [4.25918650e-01],\n",
       "         [1.06467254e-01],\n",
       "         [1.06467254e-01],\n",
       "         [4.81052496e-01],\n",
       "         [4.81052496e-01],\n",
       "         [1.34233605e-01],\n",
       "         [1.34233605e-01],\n",
       "         [5.99879676e-01],\n",
       "         [5.99879676e-01],\n",
       "         [9.84230696e-01],\n",
       "         [9.84230696e-01],\n",
       "         [5.30116472e-01],\n",
       "         [5.30116472e-01],\n",
       "         [5.82375543e-01],\n",
       "         [5.82375543e-01],\n",
       "         [2.48774238e-01],\n",
       "         [2.48774238e-01],\n",
       "         [2.75320384e-01],\n",
       "         [2.75320384e-01],\n",
       "         [9.33585906e-01],\n",
       "         [9.33585906e-01],\n",
       "         [1.42741424e-01],\n",
       "         [1.42741424e-01],\n",
       "         [5.22430023e-01],\n",
       "         [5.22430023e-01],\n",
       "         [4.41260276e-02],\n",
       "         [4.41260276e-02],\n",
       "         [5.88287734e-01],\n",
       "         [5.88287734e-01],\n",
       "         [8.96085083e-01],\n",
       "         [8.96085083e-01],\n",
       "         [4.92085141e-01],\n",
       "         [4.92085141e-01],\n",
       "         [8.21875102e-02],\n",
       "         [8.21875102e-02],\n",
       "         [3.82793930e-01],\n",
       "         [3.82793930e-01],\n",
       "         [9.06156697e-01],\n",
       "         [9.06156697e-01],\n",
       "         [1.15743791e-01],\n",
       "         [1.15743791e-01],\n",
       "         [2.36922803e-01],\n",
       "         [2.36922803e-01],\n",
       "         [1.80014792e-01],\n",
       "         [1.80014792e-01],\n",
       "         [3.45164104e-01],\n",
       "         [3.45164104e-01],\n",
       "         [3.10367365e-01],\n",
       "         [3.10367365e-01],\n",
       "         [6.79568981e-01],\n",
       "         [6.79568981e-01],\n",
       "         [9.58563648e-01],\n",
       "         [9.58563648e-01],\n",
       "         [7.37721347e-01],\n",
       "         [7.37721347e-01],\n",
       "         [4.19173898e-01],\n",
       "         [4.19173898e-01],\n",
       "         [2.62896620e-01],\n",
       "         [2.62896620e-01],\n",
       "         [1.98335812e-01],\n",
       "         [1.98335812e-01],\n",
       "         [9.21736962e-01],\n",
       "         [9.21736962e-01],\n",
       "         [4.60562358e-01],\n",
       "         [4.60562358e-01],\n",
       "         [8.54325965e-01],\n",
       "         [8.54325965e-01],\n",
       "         [2.83557093e-01],\n",
       "         [2.83557093e-01],\n",
       "         [4.73153987e-01],\n",
       "         [4.73153987e-01],\n",
       "         [3.02842896e-01],\n",
       "         [3.02842896e-01],\n",
       "         [3.46355883e-01],\n",
       "         [3.46355883e-01],\n",
       "         [8.40597877e-01],\n",
       "         [8.40597877e-01],\n",
       "         [2.98908007e-01],\n",
       "         [2.98908007e-01],\n",
       "         [9.26726778e-01],\n",
       "         [9.26726778e-01],\n",
       "         [3.94288227e-01],\n",
       "         [3.94288227e-01],\n",
       "         [9.57854902e-01],\n",
       "         [9.57854902e-01],\n",
       "         [1.62804121e-01],\n",
       "         [1.62804121e-01],\n",
       "         [4.79665554e-04],\n",
       "         [4.79665554e-04],\n",
       "         [2.55433463e-01],\n",
       "         [2.55433463e-01],\n",
       "         [1.49701053e-01],\n",
       "         [1.49701053e-01],\n",
       "         [1.28156343e-01],\n",
       "         [1.28156343e-01],\n",
       "         [7.89126729e-01],\n",
       "         [7.89126729e-01],\n",
       "         [7.36149375e-01],\n",
       "         [7.36149375e-01],\n",
       "         [7.42987285e-01],\n",
       "         [7.42987285e-01],\n",
       "         [4.33379947e-01],\n",
       "         [4.33379947e-01],\n",
       "         [9.47097359e-01],\n",
       "         [9.47097359e-01],\n",
       "         [7.11658293e-01],\n",
       "         [7.11658293e-01],\n",
       "         [8.43166031e-01],\n",
       "         [8.43166031e-01],\n",
       "         [8.08500027e-01],\n",
       "         [8.08500027e-01],\n",
       "         [3.12614824e-01],\n",
       "         [3.12614824e-01],\n",
       "         [7.29329655e-01],\n",
       "         [7.29329655e-01],\n",
       "         [4.12925241e-01],\n",
       "         [4.12925241e-01],\n",
       "         [1.85222424e-01],\n",
       "         [1.85222424e-01],\n",
       "         [8.43251379e-01],\n",
       "         [8.43251379e-01],\n",
       "         [6.06173275e-01],\n",
       "         [6.06173275e-01],\n",
       "         [6.92345656e-01],\n",
       "         [6.92345656e-01]])}}"
      ]
     },
     "execution_count": 1,
     "metadata": {},
     "output_type": "execute_result"
    }
   ],
   "source": [
    "ds = load_by_id(run_id_a)\n",
    "ds.get_parameter_data('x1')"
   ]
  },
  {
   "cell_type": "code",
   "execution_count": null,
   "metadata": {},
   "outputs": [],
   "source": []
  }
 ],
 "metadata": {
  "kernelspec": {
   "display_name": "Python 3",
   "language": "python",
   "name": "python3"
  },
  "language_info": {
   "codemirror_mode": {
    "name": "ipython",
    "version": 3
   },
   "file_extension": ".py",
   "mimetype": "text/x-python",
   "name": "python",
   "nbconvert_exporter": "python",
   "pygments_lexer": "ipython3",
   "version": "3.7.10"
  },
  "nbsphinx": {
   "timeout": 600
  },
  "toc": {
   "base_numbering": 1,
   "nav_menu": {},
   "number_sections": true,
   "sideBar": true,
   "skip_h1_title": false,
   "title_cell": "Table of Contents",
   "title_sidebar": "Contents",
   "toc_cell": false,
   "toc_position": {},
   "toc_section_display": true,
   "toc_window_display": false
  },
  "varInspector": {
   "cols": {
    "lenName": 16,
    "lenType": 16,
    "lenVar": 40
   },
   "kernels_config": {
    "python": {
     "delete_cmd_postfix": "",
     "delete_cmd_prefix": "del ",
     "library": "var_list.py",
     "varRefreshCmd": "print(var_dic_list())"
    },
    "r": {
     "delete_cmd_postfix": ") ",
     "delete_cmd_prefix": "rm(",
     "library": "var_list.r",
     "varRefreshCmd": "cat(var_dic_list()) "
    }
   },
   "types_to_exclude": [
    "module",
    "function",
    "builtin_function_or_method",
    "instance",
    "_Feature"
   ],
   "window_display": false
  }
 },
 "nbformat": 4,
 "nbformat_minor": 4
}
