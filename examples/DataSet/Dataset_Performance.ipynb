{
 "cells": [
  {
   "cell_type": "markdown",
   "metadata": {},
   "source": [
    "# DataSet Performance\n",
    "\n",
    "This notebook shows the trade-off between inserting data into a database row-by-row and as binary blobs. Inserting the data row-by-row means that we have direct access to all the data and may perform queries directly on the values of the data. On the other hand, as we shall see, this is much slower than inserting the data directly as binary blobs."
   ]
  },
  {
   "cell_type": "markdown",
   "metadata": {},
   "source": [
    "First, we choose a new location for the database to ensure that we don't add a bunch of benchmarking data to the default one."
   ]
  },
  {
   "cell_type": "code",
   "execution_count": 1,
   "metadata": {},
   "outputs": [
    {
     "name": "stdout",
     "output_type": "stream",
     "text": [
      "Logging hadn't been started.\n",
      "Activating auto-logging. Current session state plus future input saved.\n",
      "Filename       : /home/vsts/.qcodes/logs/command_history.log\n",
      "Mode           : append\n",
      "Output logging : True\n",
      "Raw input log  : False\n",
      "Timestamping   : True\n",
      "State          : active\n"
     ]
    },
    {
     "name": "stdout",
     "output_type": "stream",
     "text": [
      "Qcodes Logfile : /home/vsts/.qcodes/logs/200622-19303-qcodes.log\n"
     ]
    }
   ],
   "source": [
    "import os\n",
    "cwd = os.getcwd()\n",
    "import qcodes as qc\n",
    "qc.config[\"core\"][\"db_location\"] = os.path.join(cwd, 'testing.db')\n"
   ]
  },
  {
   "cell_type": "code",
   "execution_count": 2,
   "metadata": {},
   "outputs": [],
   "source": [
    "%matplotlib inline\n",
    "import time\n",
    "import matplotlib.pyplot as plt\n",
    "import numpy as np\n",
    "\n",
    "import qcodes as qc\n",
    "from qcodes.instrument.parameter import ManualParameter\n",
    "from qcodes.dataset.experiment_container import (Experiment,\n",
    "                                                 load_last_experiment,\n",
    "                                                 new_experiment)\n",
    "from qcodes.dataset.sqlite.database import initialise_database\n",
    "from qcodes import load_or_create_experiment\n",
    "from qcodes.dataset.measurements import Measurement"
   ]
  },
  {
   "cell_type": "code",
   "execution_count": 3,
   "metadata": {},
   "outputs": [
    {
     "name": "stdout",
     "output_type": "stream",
     "text": [
      "\r",
      "0it [00:00, ?it/s]"
     ]
    },
    {
     "name": "stdout",
     "output_type": "stream",
     "text": [
      "\r",
      "Upgrading database; v0 -> v1: : 0it [00:00, ?it/s]"
     ]
    },
    {
     "name": "stdout",
     "output_type": "stream",
     "text": [
      "\r",
      "Upgrading database; v0 -> v1: : 0it [00:00, ?it/s]"
     ]
    },
    {
     "name": "stdout",
     "output_type": "stream",
     "text": [
      "\n",
      "\r",
      "  0%|          | 0/1 [00:00<?, ?it/s]"
     ]
    },
    {
     "name": "stdout",
     "output_type": "stream",
     "text": [
      "\r",
      "Upgrading database; v1 -> v2:   0%|          | 0/1 [00:00<?, ?it/s]"
     ]
    },
    {
     "name": "stdout",
     "output_type": "stream",
     "text": [
      "\r",
      "Upgrading database; v1 -> v2: 100%|██████████| 1/1 [00:00<00:00, 932.69it/s]"
     ]
    },
    {
     "name": "stdout",
     "output_type": "stream",
     "text": [
      "\n",
      "\r",
      "0it [00:00, ?it/s]"
     ]
    },
    {
     "name": "stdout",
     "output_type": "stream",
     "text": [
      "\r",
      "Upgrading database; v2 -> v3: : 0it [00:00, ?it/s]"
     ]
    },
    {
     "name": "stdout",
     "output_type": "stream",
     "text": [
      "\r",
      "Upgrading database; v2 -> v3: : 0it [00:00, ?it/s]"
     ]
    },
    {
     "name": "stdout",
     "output_type": "stream",
     "text": [
      "\n",
      "\r",
      "0it [00:00, ?it/s]"
     ]
    },
    {
     "name": "stdout",
     "output_type": "stream",
     "text": [
      "\r",
      "Upgrading database; v3 -> v4: : 0it [00:00, ?it/s]"
     ]
    },
    {
     "name": "stdout",
     "output_type": "stream",
     "text": [
      "\r",
      "Upgrading database; v3 -> v4: : 0it [00:00, ?it/s]"
     ]
    },
    {
     "name": "stdout",
     "output_type": "stream",
     "text": [
      "\n",
      "\r",
      "  0%|          | 0/1 [00:00<?, ?it/s]"
     ]
    },
    {
     "name": "stdout",
     "output_type": "stream",
     "text": [
      "\r",
      "Upgrading database; v4 -> v5:   0%|          | 0/1 [00:00<?, ?it/s]"
     ]
    },
    {
     "name": "stdout",
     "output_type": "stream",
     "text": [
      "\r",
      "Upgrading database; v4 -> v5: 100%|██████████| 1/1 [00:00<00:00, 852.50it/s]"
     ]
    },
    {
     "name": "stdout",
     "output_type": "stream",
     "text": [
      "\n",
      "\r",
      "0it [00:00, ?it/s]"
     ]
    },
    {
     "name": "stdout",
     "output_type": "stream",
     "text": [
      "\r",
      "Upgrading database; v5 -> v6: : 0it [00:00, ?it/s]"
     ]
    },
    {
     "name": "stdout",
     "output_type": "stream",
     "text": [
      "\r",
      "Upgrading database; v5 -> v6: : 0it [00:00, ?it/s]"
     ]
    },
    {
     "name": "stdout",
     "output_type": "stream",
     "text": [
      "\n",
      "\r",
      "  0%|          | 0/1 [00:00<?, ?it/s]"
     ]
    },
    {
     "name": "stdout",
     "output_type": "stream",
     "text": [
      "\r",
      "Upgrading database; v6 -> v7:   0%|          | 0/1 [00:00<?, ?it/s]"
     ]
    },
    {
     "name": "stdout",
     "output_type": "stream",
     "text": [
      "\r",
      "Upgrading database; v6 -> v7: 100%|██████████| 1/1 [00:00<00:00, 373.19it/s]"
     ]
    },
    {
     "name": "stdout",
     "output_type": "stream",
     "text": [
      "\n",
      "\r",
      "  0%|          | 0/1 [00:00<?, ?it/s]"
     ]
    },
    {
     "name": "stdout",
     "output_type": "stream",
     "text": [
      "\r",
      "Upgrading database; v7 -> v8:   0%|          | 0/1 [00:00<?, ?it/s]"
     ]
    },
    {
     "name": "stdout",
     "output_type": "stream",
     "text": [
      "\r",
      "Upgrading database; v7 -> v8: 100%|██████████| 1/1 [00:00<00:00, 816.17it/s]"
     ]
    },
    {
     "name": "stdout",
     "output_type": "stream",
     "text": [
      "\n",
      "\r",
      "  0%|          | 0/1 [00:00<?, ?it/s]"
     ]
    },
    {
     "name": "stdout",
     "output_type": "stream",
     "text": [
      "\r",
      "Upgrading database; v8 -> v9:   0%|          | 0/1 [00:00<?, ?it/s]"
     ]
    },
    {
     "name": "stdout",
     "output_type": "stream",
     "text": [
      "\r",
      "Upgrading database; v8 -> v9: 100%|██████████| 1/1 [00:00<00:00, 754.64it/s]"
     ]
    },
    {
     "name": "stdout",
     "output_type": "stream",
     "text": [
      "\n"
     ]
    }
   ],
   "source": [
    "initialise_database()\n",
    "exp = load_or_create_experiment(experiment_name='tutorial_exp', sample_name=\"no sample\")"
   ]
  },
  {
   "cell_type": "markdown",
   "metadata": {},
   "source": [
    "Here, we define a simple function to benchmark the time it takes to insert n points with either numeric or array data type.\n",
    "We will compare both the time used to call ``add_result`` and the time used for the full measurement."
   ]
  },
  {
   "cell_type": "code",
   "execution_count": 4,
   "metadata": {},
   "outputs": [],
   "source": [
    "def insert_data(paramtype, npoints, nreps=1):\n",
    "\n",
    "    meas = Measurement(exp=exp)\n",
    "\n",
    "    x1 = ManualParameter('x1')\n",
    "    x2 = ManualParameter('x2')\n",
    "    x3 = ManualParameter('x3')\n",
    "    y1 = ManualParameter('y1')\n",
    "    y2 = ManualParameter('y2')\n",
    "\n",
    "    meas.register_parameter(x1, paramtype=paramtype)\n",
    "    meas.register_parameter(x2, paramtype=paramtype)\n",
    "    meas.register_parameter(x3, paramtype=paramtype)\n",
    "    meas.register_parameter(y1, setpoints=[x1, x2, x3],\n",
    "                            paramtype=paramtype)\n",
    "    meas.register_parameter(y2, setpoints=[x1, x2, x3],\n",
    "                            paramtype=paramtype)\n",
    "    start = time.perf_counter()\n",
    "    with meas.run() as datasaver:\n",
    "        start_adding = time.perf_counter()\n",
    "        for i in range(nreps):\n",
    "            datasaver.add_result((x1, np.random.rand(npoints)),\n",
    "                                 (x2, np.random.rand(npoints)),\n",
    "                                 (x3, np.random.rand(npoints)),\n",
    "                                 (y1, np.random.rand(npoints)),\n",
    "                                 (y2, np.random.rand(npoints)))\n",
    "        stop_adding = time.perf_counter()\n",
    "        run_id = datasaver.run_id\n",
    "    stop = time.perf_counter()\n",
    "    tot_time = stop - start\n",
    "    add_time = stop_adding - start_adding\n",
    "    return tot_time, add_time, run_id"
   ]
  },
  {
   "cell_type": "markdown",
   "metadata": {},
   "source": [
    "## Comparison between numeric/array data and binary blob"
   ]
  },
  {
   "cell_type": "markdown",
   "metadata": {},
   "source": [
    "### Case1: Short experiment time"
   ]
  },
  {
   "cell_type": "code",
   "execution_count": 5,
   "metadata": {},
   "outputs": [
    {
     "name": "stdout",
     "output_type": "stream",
     "text": [
      "Starting experimental run with id: 1. \n",
      "Starting experimental run with id: 2. \n",
      "Starting experimental run with id: 3. \n",
      "Starting experimental run with id: 4. \n"
     ]
    },
    {
     "name": "stdout",
     "output_type": "stream",
     "text": [
      "Starting experimental run with id: 5. \n"
     ]
    },
    {
     "name": "stdout",
     "output_type": "stream",
     "text": [
      "Starting experimental run with id: 6. \n",
      "Starting experimental run with id: 7. \n"
     ]
    },
    {
     "name": "stdout",
     "output_type": "stream",
     "text": [
      "Starting experimental run with id: 8. \n",
      "Starting experimental run with id: 9. \n"
     ]
    },
    {
     "name": "stdout",
     "output_type": "stream",
     "text": [
      "Starting experimental run with id: 10. \n",
      "Starting experimental run with id: 11. \n"
     ]
    },
    {
     "name": "stdout",
     "output_type": "stream",
     "text": [
      "Starting experimental run with id: 12. \n",
      "Starting experimental run with id: 13. \n"
     ]
    },
    {
     "name": "stdout",
     "output_type": "stream",
     "text": [
      "Starting experimental run with id: 14. \n"
     ]
    }
   ],
   "source": [
    "sizes = [1,500,1000,2000,3000,4000,5000]\n",
    "t_numeric = []\n",
    "t_numeric_add = []\n",
    "t_array = []\n",
    "t_array_add = []\n",
    "for size in sizes:\n",
    "    tn, tna, run_id_n =  insert_data('numeric', size)\n",
    "    t_numeric.append(tn)\n",
    "    t_numeric_add.append(tna)\n",
    "\n",
    "    ta, taa, run_id_a =  insert_data('array', size)\n",
    "    t_array.append(ta)\n",
    "    t_array_add.append(taa)"
   ]
  },
  {
   "cell_type": "code",
   "execution_count": 6,
   "metadata": {},
   "outputs": [
    {
     "data": {
      "image/png": "[encoded data removed]",
      "text/plain": [
       "<Figure size 432x288 with 1 Axes>"
      ]
     },
     "metadata": {
      "needs_background": "light"
     },
     "output_type": "display_data"
    }
   ],
   "source": [
    "fig, ax = plt.subplots(1,1)\n",
    "ax.plot(sizes, t_numeric, 'o-', label='Inserting row-by-row')\n",
    "ax.plot(sizes, t_numeric_add, 'o-', label='Inserting row-by-row: add_result only')\n",
    "ax.plot(sizes, t_array, 'd-', label='Inserting as binary blob')\n",
    "ax.plot(sizes, t_array_add, 'd-', label='Inserting as binary blob: add_result only')\n",
    "ax.legend()\n",
    "ax.set_xlabel('Array length')\n",
    "ax.set_ylabel('Time (s)')\n",
    "fig.tight_layout()"
   ]
  },
  {
   "cell_type": "markdown",
   "metadata": {},
   "source": [
    "As shown in the latter figure, the time to setup and and close the experiment is approximately 0.4 sec. In case of small array sizes, the difference between inserting values of data as arrays and inserting them row-by-row is relatively unimportant. At larger array sizes, i.e. above 10000 points, the cost of writing data as individual datapoints starts to become important.\n"
   ]
  },
  {
   "cell_type": "markdown",
   "metadata": {},
   "source": [
    "### Case2: Long experiment time "
   ]
  },
  {
   "cell_type": "code",
   "execution_count": 7,
   "metadata": {},
   "outputs": [
    {
     "name": "stdout",
     "output_type": "stream",
     "text": [
      "Starting experimental run with id: 15. \n",
      "Starting experimental run with id: 16. \n",
      "Starting experimental run with id: 17. \n"
     ]
    },
    {
     "name": "stdout",
     "output_type": "stream",
     "text": [
      "Starting experimental run with id: 18. \n",
      "Starting experimental run with id: 19. \n"
     ]
    },
    {
     "name": "stdout",
     "output_type": "stream",
     "text": [
      "Starting experimental run with id: 20. \n"
     ]
    },
    {
     "name": "stdout",
     "output_type": "stream",
     "text": [
      "Starting experimental run with id: 21. \n"
     ]
    },
    {
     "name": "stdout",
     "output_type": "stream",
     "text": [
      "Starting experimental run with id: 22. \n"
     ]
    },
    {
     "name": "stdout",
     "output_type": "stream",
     "text": [
      "Starting experimental run with id: 23. \n"
     ]
    },
    {
     "name": "stdout",
     "output_type": "stream",
     "text": [
      "Starting experimental run with id: 24. \n"
     ]
    },
    {
     "name": "stdout",
     "output_type": "stream",
     "text": [
      "Starting experimental run with id: 25. \n"
     ]
    },
    {
     "name": "stdout",
     "output_type": "stream",
     "text": [
      "Starting experimental run with id: 26. \n"
     ]
    },
    {
     "name": "stdout",
     "output_type": "stream",
     "text": [
      "Starting experimental run with id: 27. \n"
     ]
    },
    {
     "name": "stdout",
     "output_type": "stream",
     "text": [
      "Starting experimental run with id: 28. \n"
     ]
    }
   ],
   "source": [
    "sizes = [1,500,1000,2000,3000,4000,5000]\n",
    "nreps = 100\n",
    "t_numeric = []\n",
    "t_numeric_add = []\n",
    "t_numeric_run_ids = []\n",
    "t_array = []\n",
    "t_array_add = []\n",
    "t_array_run_ids = []\n",
    "for size in sizes:\n",
    "    tn, tna, run_id_n =  insert_data('numeric', size, nreps=nreps)\n",
    "    t_numeric.append(tn)\n",
    "    t_numeric_add.append(tna)\n",
    "    t_numeric_run_ids.append(run_id_n)\n",
    "\n",
    "    ta, taa, run_id_a =  insert_data('array', size, nreps=nreps)\n",
    "    t_array.append(ta)\n",
    "    t_array_add.append(taa)\n",
    "    t_array_run_ids.append(run_id_a)"
   ]
  },
  {
   "cell_type": "code",
   "execution_count": 8,
   "metadata": {
    "scrolled": true
   },
   "outputs": [
    {
     "data": {
      "image/png": "[encoded data removed]",
      "text/plain": [
       "<Figure size 432x288 with 1 Axes>"
      ]
     },
     "metadata": {
      "needs_background": "light"
     },
     "output_type": "display_data"
    }
   ],
   "source": [
    "fig, ax = plt.subplots(1,1)\n",
    "ax.plot(sizes, t_numeric, 'o-', label='Inserting row-by-row')\n",
    "ax.plot(sizes, t_numeric_add, 'o-', label='Inserting row-by-row: add_result only')\n",
    "ax.plot(sizes, t_array, 'd-', label='Inserting as binary blob')\n",
    "ax.plot(sizes, t_array_add, 'd-', label='Inserting as binary blob: add_result only')\n",
    "ax.legend()\n",
    "ax.set_xlabel('Array length')\n",
    "ax.set_ylabel('Time (s)')\n",
    "fig.tight_layout()"
   ]
  },
  {
   "cell_type": "markdown",
   "metadata": {},
   "source": [
    "However, as we increase the length of the experiment, as seen here by repeating the insertion 100 times, we see a big difference between inserting values of the data row-by-row and inserting it as a binary blob."
   ]
  },
  {
   "cell_type": "markdown",
   "metadata": {},
   "source": [
    "## Loading the data "
   ]
  },
  {
   "cell_type": "code",
   "execution_count": 9,
   "metadata": {},
   "outputs": [],
   "source": [
    "from qcodes.dataset.data_set import load_by_id\n",
    "from qcodes.dataset.data_export import get_data_by_id"
   ]
  },
  {
   "cell_type": "markdown",
   "metadata": {},
   "source": [
    "As usual you can load the data by using the ``load_by_id`` function but you will notice that the different storage methods\n",
    "are reflected in shape of the data as it is retrieved. "
   ]
  },
  {
   "cell_type": "code",
   "execution_count": 10,
   "metadata": {},
   "outputs": [],
   "source": [
    "run_id_n = t_numeric_run_ids[0]\n",
    "run_id_a = t_array_run_ids[0]"
   ]
  },
  {
   "cell_type": "code",
   "execution_count": 11,
   "metadata": {
    "scrolled": true
   },
   "outputs": [
    {
     "data": {
      "text/plain": [
       "{'x1': {'x1': array([0.49521688, 0.49521688, 0.61741539, 0.61741539, 0.57745589,\n",
       "         0.57745589, 0.47671836, 0.47671836, 0.32101898, 0.32101898,\n",
       "         0.1267405 , 0.1267405 , 0.56021445, 0.56021445, 0.42915894,\n",
       "         0.42915894, 0.31878007, 0.31878007, 0.36355114, 0.36355114,\n",
       "         0.74391564, 0.74391564, 0.5134138 , 0.5134138 , 0.28499886,\n",
       "         0.28499886, 0.99046414, 0.99046414, 0.58568654, 0.58568654,\n",
       "         0.544766  , 0.544766  , 0.1274369 , 0.1274369 , 0.79983608,\n",
       "         0.79983608, 0.65332333, 0.65332333, 0.95206088, 0.95206088,\n",
       "         0.2242524 , 0.2242524 , 0.89095811, 0.89095811, 0.20159398,\n",
       "         0.20159398, 0.92820475, 0.92820475, 0.06894771, 0.06894771,\n",
       "         0.07988335, 0.07988335, 0.81321017, 0.81321017, 0.47995179,\n",
       "         0.47995179, 0.25274642, 0.25274642, 0.73954816, 0.73954816,\n",
       "         0.60243253, 0.60243253, 0.6930511 , 0.6930511 , 0.24346738,\n",
       "         0.24346738, 0.08418707, 0.08418707, 0.41755148, 0.41755148,\n",
       "         0.46416507, 0.46416507, 0.70154424, 0.70154424, 0.64637618,\n",
       "         0.64637618, 0.92645224, 0.92645224, 0.42696873, 0.42696873,\n",
       "         0.38129823, 0.38129823, 0.95106139, 0.95106139, 0.23210756,\n",
       "         0.23210756, 0.33099915, 0.33099915, 0.6354552 , 0.6354552 ,\n",
       "         0.29323405, 0.29323405, 0.59884859, 0.59884859, 0.36067994,\n",
       "         0.36067994, 0.31698275, 0.31698275, 0.04457748, 0.04457748,\n",
       "         0.34627491, 0.34627491, 0.13723202, 0.13723202, 0.01060267,\n",
       "         0.01060267, 0.31044712, 0.31044712, 0.93535783, 0.93535783,\n",
       "         0.65376414, 0.65376414, 0.66336427, 0.66336427, 0.83984371,\n",
       "         0.83984371, 0.22613017, 0.22613017, 0.38288952, 0.38288952,\n",
       "         0.64541163, 0.64541163, 0.63409003, 0.63409003, 0.42056841,\n",
       "         0.42056841, 0.41775588, 0.41775588, 0.28361018, 0.28361018,\n",
       "         0.98222698, 0.98222698, 0.58840627, 0.58840627, 0.76934925,\n",
       "         0.76934925, 0.70434245, 0.70434245, 0.07698652, 0.07698652,\n",
       "         0.8575748 , 0.8575748 , 0.44405178, 0.44405178, 0.94677572,\n",
       "         0.94677572, 0.19747858, 0.19747858, 0.45256693, 0.45256693,\n",
       "         0.35236856, 0.35236856, 0.82177029, 0.82177029, 0.19074301,\n",
       "         0.19074301, 0.52900463, 0.52900463, 0.062028  , 0.062028  ,\n",
       "         0.35157627, 0.35157627, 0.22556069, 0.22556069, 0.1380942 ,\n",
       "         0.1380942 , 0.58393299, 0.58393299, 0.89195192, 0.89195192,\n",
       "         0.76665727, 0.76665727, 0.10334478, 0.10334478, 0.81733231,\n",
       "         0.81733231, 0.4220928 , 0.4220928 , 0.76759214, 0.76759214,\n",
       "         0.00503036, 0.00503036, 0.55586453, 0.55586453, 0.221907  ,\n",
       "         0.221907  , 0.72087142, 0.72087142, 0.73151867, 0.73151867,\n",
       "         0.18638297, 0.18638297, 0.56540622, 0.56540622, 0.52155277,\n",
       "         0.52155277, 0.51657919, 0.51657919, 0.49260907, 0.49260907])}}"
      ]
     },
     "execution_count": 11,
     "metadata": {},
     "output_type": "execute_result"
    }
   ],
   "source": [
    "ds = load_by_id(run_id_n)\n",
    "ds.get_parameter_data('x1')"
   ]
  },
  {
   "cell_type": "markdown",
   "metadata": {},
   "source": [
    "And a dataset stored as binary arrays"
   ]
  },
  {
   "cell_type": "code",
   "execution_count": 12,
   "metadata": {
    "scrolled": true
   },
   "outputs": [
    {
     "data": {
      "text/plain": [
       "{'x1': {'x1': array([[0.25846459],\n",
       "         [0.25846459],\n",
       "         [0.95372802],\n",
       "         [0.95372802],\n",
       "         [0.41211554],\n",
       "         [0.41211554],\n",
       "         [0.49846292],\n",
       "         [0.49846292],\n",
       "         [0.29142565],\n",
       "         [0.29142565],\n",
       "         [0.74307734],\n",
       "         [0.74307734],\n",
       "         [0.29377824],\n",
       "         [0.29377824],\n",
       "         [0.59321032],\n",
       "         [0.59321032],\n",
       "         [0.35447622],\n",
       "         [0.35447622],\n",
       "         [0.04016465],\n",
       "         [0.04016465],\n",
       "         [0.51097375],\n",
       "         [0.51097375],\n",
       "         [0.23389777],\n",
       "         [0.23389777],\n",
       "         [0.45662105],\n",
       "         [0.45662105],\n",
       "         [0.65732544],\n",
       "         [0.65732544],\n",
       "         [0.73898205],\n",
       "         [0.73898205],\n",
       "         [0.54504604],\n",
       "         [0.54504604],\n",
       "         [0.50558357],\n",
       "         [0.50558357],\n",
       "         [0.55285573],\n",
       "         [0.55285573],\n",
       "         [0.65373966],\n",
       "         [0.65373966],\n",
       "         [0.4271558 ],\n",
       "         [0.4271558 ],\n",
       "         [0.86624605],\n",
       "         [0.86624605],\n",
       "         [0.67054309],\n",
       "         [0.67054309],\n",
       "         [0.40178839],\n",
       "         [0.40178839],\n",
       "         [0.93500611],\n",
       "         [0.93500611],\n",
       "         [0.32674675],\n",
       "         [0.32674675],\n",
       "         [0.77424879],\n",
       "         [0.77424879],\n",
       "         [0.43405572],\n",
       "         [0.43405572],\n",
       "         [0.99700481],\n",
       "         [0.99700481],\n",
       "         [0.91263994],\n",
       "         [0.91263994],\n",
       "         [0.61300928],\n",
       "         [0.61300928],\n",
       "         [0.33965112],\n",
       "         [0.33965112],\n",
       "         [0.06471616],\n",
       "         [0.06471616],\n",
       "         [0.46687741],\n",
       "         [0.46687741],\n",
       "         [0.74337614],\n",
       "         [0.74337614],\n",
       "         [0.85695033],\n",
       "         [0.85695033],\n",
       "         [0.64990056],\n",
       "         [0.64990056],\n",
       "         [0.83886074],\n",
       "         [0.83886074],\n",
       "         [0.5252832 ],\n",
       "         [0.5252832 ],\n",
       "         [0.67839124],\n",
       "         [0.67839124],\n",
       "         [0.69227443],\n",
       "         [0.69227443],\n",
       "         [0.44983674],\n",
       "         [0.44983674],\n",
       "         [0.68784469],\n",
       "         [0.68784469],\n",
       "         [0.8212642 ],\n",
       "         [0.8212642 ],\n",
       "         [0.10326112],\n",
       "         [0.10326112],\n",
       "         [0.01446185],\n",
       "         [0.01446185],\n",
       "         [0.28128366],\n",
       "         [0.28128366],\n",
       "         [0.59317391],\n",
       "         [0.59317391],\n",
       "         [0.82346492],\n",
       "         [0.82346492],\n",
       "         [0.96655571],\n",
       "         [0.96655571],\n",
       "         [0.53989443],\n",
       "         [0.53989443],\n",
       "         [0.94996601],\n",
       "         [0.94996601],\n",
       "         [0.17794943],\n",
       "         [0.17794943],\n",
       "         [0.11426806],\n",
       "         [0.11426806],\n",
       "         [0.31637851],\n",
       "         [0.31637851],\n",
       "         [0.22933268],\n",
       "         [0.22933268],\n",
       "         [0.33701959],\n",
       "         [0.33701959],\n",
       "         [0.9590781 ],\n",
       "         [0.9590781 ],\n",
       "         [0.30494198],\n",
       "         [0.30494198],\n",
       "         [0.32350272],\n",
       "         [0.32350272],\n",
       "         [0.6513994 ],\n",
       "         [0.6513994 ],\n",
       "         [0.50802014],\n",
       "         [0.50802014],\n",
       "         [0.15976518],\n",
       "         [0.15976518],\n",
       "         [0.07660102],\n",
       "         [0.07660102],\n",
       "         [0.67324588],\n",
       "         [0.67324588],\n",
       "         [0.31249186],\n",
       "         [0.31249186],\n",
       "         [0.50989031],\n",
       "         [0.50989031],\n",
       "         [0.64638417],\n",
       "         [0.64638417],\n",
       "         [0.07786353],\n",
       "         [0.07786353],\n",
       "         [0.3879525 ],\n",
       "         [0.3879525 ],\n",
       "         [0.4748246 ],\n",
       "         [0.4748246 ],\n",
       "         [0.47612913],\n",
       "         [0.47612913],\n",
       "         [0.1473085 ],\n",
       "         [0.1473085 ],\n",
       "         [0.95567305],\n",
       "         [0.95567305],\n",
       "         [0.13418854],\n",
       "         [0.13418854],\n",
       "         [0.60608241],\n",
       "         [0.60608241],\n",
       "         [0.54910509],\n",
       "         [0.54910509],\n",
       "         [0.88888207],\n",
       "         [0.88888207],\n",
       "         [0.06242203],\n",
       "         [0.06242203],\n",
       "         [0.22235855],\n",
       "         [0.22235855],\n",
       "         [0.57328076],\n",
       "         [0.57328076],\n",
       "         [0.78389296],\n",
       "         [0.78389296],\n",
       "         [0.25477692],\n",
       "         [0.25477692],\n",
       "         [0.67998348],\n",
       "         [0.67998348],\n",
       "         [0.72927145],\n",
       "         [0.72927145],\n",
       "         [0.74871891],\n",
       "         [0.74871891],\n",
       "         [0.7931556 ],\n",
       "         [0.7931556 ],\n",
       "         [0.06351354],\n",
       "         [0.06351354],\n",
       "         [0.06224999],\n",
       "         [0.06224999],\n",
       "         [0.48005852],\n",
       "         [0.48005852],\n",
       "         [0.42899631],\n",
       "         [0.42899631],\n",
       "         [0.61227613],\n",
       "         [0.61227613],\n",
       "         [0.91165387],\n",
       "         [0.91165387],\n",
       "         [0.23590019],\n",
       "         [0.23590019],\n",
       "         [0.47772263],\n",
       "         [0.47772263],\n",
       "         [0.38181743],\n",
       "         [0.38181743],\n",
       "         [0.60488172],\n",
       "         [0.60488172],\n",
       "         [0.61602964],\n",
       "         [0.61602964],\n",
       "         [0.25541806],\n",
       "         [0.25541806],\n",
       "         [0.35208688],\n",
       "         [0.35208688],\n",
       "         [0.60352565],\n",
       "         [0.60352565]])}}"
      ]
     },
     "execution_count": 12,
     "metadata": {},
     "output_type": "execute_result"
    }
   ],
   "source": [
    "ds = load_by_id(run_id_a)\n",
    "ds.get_parameter_data('x1')"
   ]
  },
  {
   "cell_type": "code",
   "execution_count": null,
   "metadata": {},
   "outputs": [],
   "source": []
  }
 ],
 "metadata": {
  "kernelspec": {
   "display_name": "Python 3",
   "language": "python",
   "name": "python3"
  },
  "language_info": {
   "codemirror_mode": {
    "name": "ipython",
    "version": 3
   },
   "file_extension": ".py",
   "mimetype": "text/x-python",
   "name": "python",
   "nbconvert_exporter": "python",
   "pygments_lexer": "ipython3",
   "version": "3.7.7"
  },
  "nbsphinx": {
   "timeout": 600
  },
  "toc": {
   "base_numbering": 1,
   "nav_menu": {},
   "number_sections": true,
   "sideBar": true,
   "skip_h1_title": false,
   "title_cell": "Table of Contents",
   "title_sidebar": "Contents",
   "toc_cell": false,
   "toc_position": {},
   "toc_section_display": true,
   "toc_window_display": false
  },
  "varInspector": {
   "cols": {
    "lenName": 16,
    "lenType": 16,
    "lenVar": 40
   },
   "kernels_config": {
    "python": {
     "delete_cmd_postfix": "",
     "delete_cmd_prefix": "del ",
     "library": "var_list.py",
     "varRefreshCmd": "print(var_dic_list())"
    },
    "r": {
     "delete_cmd_postfix": ") ",
     "delete_cmd_prefix": "rm(",
     "library": "var_list.r",
     "varRefreshCmd": "cat(var_dic_list()) "
    }
   },
   "types_to_exclude": [
    "module",
    "function",
    "builtin_function_or_method",
    "instance",
    "_Feature"
   ],
   "window_display": false
  }
 },
 "nbformat": 4,
 "nbformat_minor": 2
}
