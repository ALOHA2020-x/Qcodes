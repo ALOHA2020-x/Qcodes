{
 "cells": [
  {
   "cell_type": "markdown",
   "metadata": {},
   "source": [
    "# DataSet Performance\n",
    "\n",
    "This notebook shows the trade-off between inserting data into a database row-by-row and as binary blobs. Inserting the data row-by-row means that we have direct access to all the data and may perform queries directly on the values of the data. On the other hand, as we shall see, this is much slower than inserting the data directly as binary blobs."
   ]
  },
  {
   "cell_type": "markdown",
   "metadata": {},
   "source": [
    "First, we choose a new location for the database to ensure that we don't add a bunch of benchmarking data to the default one."
   ]
  },
  {
   "cell_type": "code",
   "execution_count": 1,
   "metadata": {
    "execution": {
     "iopub.execute_input": "2021-01-26T11:06:32.101166Z",
     "iopub.status.busy": "2021-01-26T11:06:32.100444Z",
     "iopub.status.idle": "2021-01-26T11:06:33.274145Z",
     "shell.execute_reply": "2021-01-26T11:06:33.274906Z"
    }
   },
   "outputs": [
    {
     "name": "stdout",
     "output_type": "stream",
     "text": [
      "Logging hadn't been started.\n",
      "Activating auto-logging. Current session state plus future input saved.\n",
      "Filename       : /home/vsts/.qcodes/logs/command_history.log\n",
      "Mode           : append\n",
      "Output logging : True\n",
      "Raw input log  : False\n",
      "Timestamping   : True\n",
      "State          : active\n"
     ]
    },
    {
     "name": "stdout",
     "output_type": "stream",
     "text": [
      "Qcodes Logfile : /home/vsts/.qcodes/logs/210126-13360-qcodes.log\n"
     ]
    }
   ],
   "source": [
    "import os\n",
    "cwd = os.getcwd()\n",
    "import qcodes as qc\n",
    "qc.config[\"core\"][\"db_location\"] = os.path.join(cwd, 'testing.db')\n"
   ]
  },
  {
   "cell_type": "code",
   "execution_count": 2,
   "metadata": {
    "execution": {
     "iopub.execute_input": "2021-01-26T11:06:33.283489Z",
     "iopub.status.busy": "2021-01-26T11:06:33.281156Z",
     "iopub.status.idle": "2021-01-26T11:06:33.498427Z",
     "shell.execute_reply": "2021-01-26T11:06:33.498943Z"
    }
   },
   "outputs": [],
   "source": [
    "%matplotlib inline\n",
    "import time\n",
    "import matplotlib.pyplot as plt\n",
    "import numpy as np\n",
    "\n",
    "import qcodes as qc\n",
    "from qcodes.instrument.parameter import ManualParameter\n",
    "from qcodes.dataset.experiment_container import (Experiment,\n",
    "                                                 load_last_experiment,\n",
    "                                                 new_experiment)\n",
    "from qcodes.dataset.sqlite.database import initialise_database\n",
    "from qcodes import load_or_create_experiment\n",
    "from qcodes.dataset.measurements import Measurement"
   ]
  },
  {
   "cell_type": "code",
   "execution_count": 3,
   "metadata": {
    "execution": {
     "iopub.execute_input": "2021-01-26T11:06:33.503159Z",
     "iopub.status.busy": "2021-01-26T11:06:33.502351Z",
     "iopub.status.idle": "2021-01-26T11:06:33.625776Z",
     "shell.execute_reply": "2021-01-26T11:06:33.625190Z"
    }
   },
   "outputs": [
    {
     "name": "stdout",
     "output_type": "stream",
     "text": [
      "\r",
      "0it [00:00, ?it/s]"
     ]
    },
    {
     "name": "stdout",
     "output_type": "stream",
     "text": [
      "\r",
      "Upgrading database; v0 -> v1: : 0it [00:00, ?it/s]"
     ]
    },
    {
     "name": "stdout",
     "output_type": "stream",
     "text": [
      "\r",
      "Upgrading database; v0 -> v1: : 0it [00:00, ?it/s]"
     ]
    },
    {
     "name": "stdout",
     "output_type": "stream",
     "text": [
      "\n",
      "\r",
      "  0%|          | 0/1 [00:00<?, ?it/s]"
     ]
    },
    {
     "name": "stdout",
     "output_type": "stream",
     "text": [
      "\r",
      "Upgrading database; v1 -> v2:   0%|          | 0/1 [00:00<?, ?it/s]"
     ]
    },
    {
     "name": "stdout",
     "output_type": "stream",
     "text": [
      "\r",
      "Upgrading database; v1 -> v2: 100%|██████████| 1/1 [00:00<00:00, 960.67it/s]"
     ]
    },
    {
     "name": "stdout",
     "output_type": "stream",
     "text": [
      "\n",
      "\r",
      "0it [00:00, ?it/s]"
     ]
    },
    {
     "name": "stdout",
     "output_type": "stream",
     "text": [
      "\r",
      "Upgrading database; v2 -> v3: : 0it [00:00, ?it/s]"
     ]
    },
    {
     "name": "stdout",
     "output_type": "stream",
     "text": [
      "\r",
      "Upgrading database; v2 -> v3: : 0it [00:00, ?it/s]"
     ]
    },
    {
     "name": "stdout",
     "output_type": "stream",
     "text": [
      "\n",
      "\r",
      "0it [00:00, ?it/s]"
     ]
    },
    {
     "name": "stdout",
     "output_type": "stream",
     "text": [
      "\r",
      "Upgrading database; v3 -> v4: : 0it [00:00, ?it/s]"
     ]
    },
    {
     "name": "stdout",
     "output_type": "stream",
     "text": [
      "\r",
      "Upgrading database; v3 -> v4: : 0it [00:00, ?it/s]"
     ]
    },
    {
     "name": "stdout",
     "output_type": "stream",
     "text": [
      "\n",
      "\r",
      "  0%|          | 0/1 [00:00<?, ?it/s]"
     ]
    },
    {
     "name": "stdout",
     "output_type": "stream",
     "text": [
      "\r",
      "Upgrading database; v4 -> v5:   0%|          | 0/1 [00:00<?, ?it/s]"
     ]
    },
    {
     "name": "stdout",
     "output_type": "stream",
     "text": [
      "\r",
      "Upgrading database; v4 -> v5: 100%|██████████| 1/1 [00:00<00:00, 322.12it/s]"
     ]
    },
    {
     "name": "stdout",
     "output_type": "stream",
     "text": [
      "\n",
      "\r",
      "0it [00:00, ?it/s]"
     ]
    },
    {
     "name": "stdout",
     "output_type": "stream",
     "text": [
      "\r",
      "Upgrading database; v5 -> v6: : 0it [00:00, ?it/s]"
     ]
    },
    {
     "name": "stdout",
     "output_type": "stream",
     "text": [
      "\r",
      "Upgrading database; v5 -> v6: : 0it [00:00, ?it/s]"
     ]
    },
    {
     "name": "stdout",
     "output_type": "stream",
     "text": [
      "\n",
      "\r",
      "  0%|          | 0/1 [00:00<?, ?it/s]"
     ]
    },
    {
     "name": "stdout",
     "output_type": "stream",
     "text": [
      "\r",
      "Upgrading database; v6 -> v7:   0%|          | 0/1 [00:00<?, ?it/s]"
     ]
    },
    {
     "name": "stdout",
     "output_type": "stream",
     "text": [
      "\r",
      "Upgrading database; v6 -> v7: 100%|██████████| 1/1 [00:00<00:00, 241.55it/s]"
     ]
    },
    {
     "name": "stdout",
     "output_type": "stream",
     "text": [
      "\n",
      "\r",
      "  0%|          | 0/1 [00:00<?, ?it/s]"
     ]
    },
    {
     "name": "stdout",
     "output_type": "stream",
     "text": [
      "\r",
      "Upgrading database; v7 -> v8:   0%|          | 0/1 [00:00<?, ?it/s]"
     ]
    },
    {
     "name": "stdout",
     "output_type": "stream",
     "text": [
      "\r",
      "Upgrading database; v7 -> v8: 100%|██████████| 1/1 [00:00<00:00, 329.07it/s]"
     ]
    },
    {
     "name": "stdout",
     "output_type": "stream",
     "text": [
      "\n",
      "\r",
      "  0%|          | 0/1 [00:00<?, ?it/s]"
     ]
    },
    {
     "name": "stdout",
     "output_type": "stream",
     "text": [
      "\r",
      "Upgrading database; v8 -> v9:   0%|          | 0/1 [00:00<?, ?it/s]"
     ]
    },
    {
     "name": "stdout",
     "output_type": "stream",
     "text": [
      "\r",
      "Upgrading database; v8 -> v9: 100%|██████████| 1/1 [00:00<00:00, 378.99it/s]"
     ]
    },
    {
     "name": "stdout",
     "output_type": "stream",
     "text": [
      "\n"
     ]
    }
   ],
   "source": [
    "initialise_database()\n",
    "exp = load_or_create_experiment(experiment_name='tutorial_exp', sample_name=\"no sample\")"
   ]
  },
  {
   "cell_type": "markdown",
   "metadata": {},
   "source": [
    "Here, we define a simple function to benchmark the time it takes to insert n points with either numeric or array data type.\n",
    "We will compare both the time used to call ``add_result`` and the time used for the full measurement."
   ]
  },
  {
   "cell_type": "code",
   "execution_count": 4,
   "metadata": {
    "execution": {
     "iopub.execute_input": "2021-01-26T11:06:33.634388Z",
     "iopub.status.busy": "2021-01-26T11:06:33.632996Z",
     "iopub.status.idle": "2021-01-26T11:06:33.637795Z",
     "shell.execute_reply": "2021-01-26T11:06:33.637220Z"
    }
   },
   "outputs": [],
   "source": [
    "def insert_data(paramtype, npoints, nreps=1):\n",
    "\n",
    "    meas = Measurement(exp=exp)\n",
    "\n",
    "    x1 = ManualParameter('x1')\n",
    "    x2 = ManualParameter('x2')\n",
    "    x3 = ManualParameter('x3')\n",
    "    y1 = ManualParameter('y1')\n",
    "    y2 = ManualParameter('y2')\n",
    "\n",
    "    meas.register_parameter(x1, paramtype=paramtype)\n",
    "    meas.register_parameter(x2, paramtype=paramtype)\n",
    "    meas.register_parameter(x3, paramtype=paramtype)\n",
    "    meas.register_parameter(y1, setpoints=[x1, x2, x3],\n",
    "                            paramtype=paramtype)\n",
    "    meas.register_parameter(y2, setpoints=[x1, x2, x3],\n",
    "                            paramtype=paramtype)\n",
    "    start = time.perf_counter()\n",
    "    with meas.run() as datasaver:\n",
    "        start_adding = time.perf_counter()\n",
    "        for i in range(nreps):\n",
    "            datasaver.add_result((x1, np.random.rand(npoints)),\n",
    "                                 (x2, np.random.rand(npoints)),\n",
    "                                 (x3, np.random.rand(npoints)),\n",
    "                                 (y1, np.random.rand(npoints)),\n",
    "                                 (y2, np.random.rand(npoints)))\n",
    "        stop_adding = time.perf_counter()\n",
    "        run_id = datasaver.run_id\n",
    "    stop = time.perf_counter()\n",
    "    tot_time = stop - start\n",
    "    add_time = stop_adding - start_adding\n",
    "    return tot_time, add_time, run_id"
   ]
  },
  {
   "cell_type": "markdown",
   "metadata": {},
   "source": [
    "## Comparison between numeric/array data and binary blob"
   ]
  },
  {
   "cell_type": "markdown",
   "metadata": {},
   "source": [
    "### Case1: Short experiment time"
   ]
  },
  {
   "cell_type": "code",
   "execution_count": 5,
   "metadata": {
    "execution": {
     "iopub.execute_input": "2021-01-26T11:06:33.643718Z",
     "iopub.status.busy": "2021-01-26T11:06:33.641987Z",
     "iopub.status.idle": "2021-01-26T11:06:34.608260Z",
     "shell.execute_reply": "2021-01-26T11:06:34.607665Z"
    }
   },
   "outputs": [
    {
     "name": "stdout",
     "output_type": "stream",
     "text": [
      "Starting experimental run with id: 1. \n",
      "Starting experimental run with id: 2. \n",
      "Starting experimental run with id: 3. \n",
      "Starting experimental run with id: 4. \n"
     ]
    },
    {
     "name": "stdout",
     "output_type": "stream",
     "text": [
      "Starting experimental run with id: 5. \n"
     ]
    },
    {
     "name": "stdout",
     "output_type": "stream",
     "text": [
      "Starting experimental run with id: 6. \n",
      "Starting experimental run with id: 7. \n"
     ]
    },
    {
     "name": "stdout",
     "output_type": "stream",
     "text": [
      "Starting experimental run with id: 8. \n"
     ]
    },
    {
     "name": "stdout",
     "output_type": "stream",
     "text": [
      "Starting experimental run with id: 9. \n"
     ]
    },
    {
     "name": "stdout",
     "output_type": "stream",
     "text": [
      "Starting experimental run with id: 10. \n",
      "Starting experimental run with id: 11. \n"
     ]
    },
    {
     "name": "stdout",
     "output_type": "stream",
     "text": [
      "Starting experimental run with id: 12. \n"
     ]
    },
    {
     "name": "stdout",
     "output_type": "stream",
     "text": [
      "Starting experimental run with id: 13. \n"
     ]
    },
    {
     "name": "stdout",
     "output_type": "stream",
     "text": [
      "Starting experimental run with id: 14. \n"
     ]
    }
   ],
   "source": [
    "sizes = [1,500,1000,2000,3000,4000,5000]\n",
    "t_numeric = []\n",
    "t_numeric_add = []\n",
    "t_array = []\n",
    "t_array_add = []\n",
    "for size in sizes:\n",
    "    tn, tna, run_id_n =  insert_data('numeric', size)\n",
    "    t_numeric.append(tn)\n",
    "    t_numeric_add.append(tna)\n",
    "\n",
    "    ta, taa, run_id_a =  insert_data('array', size)\n",
    "    t_array.append(ta)\n",
    "    t_array_add.append(taa)"
   ]
  },
  {
   "cell_type": "code",
   "execution_count": 6,
   "metadata": {
    "execution": {
     "iopub.execute_input": "2021-01-26T11:06:34.631234Z",
     "iopub.status.busy": "2021-01-26T11:06:34.628707Z",
     "iopub.status.idle": "2021-01-26T11:06:34.872481Z",
     "shell.execute_reply": "2021-01-26T11:06:34.871711Z"
    }
   },
   "outputs": [
    {
     "data": {
      "image/png": "[encoded data removed]",
      "text/plain": [
       "<Figure size 432x288 with 1 Axes>"
      ]
     },
     "metadata": {
      "needs_background": "light"
     },
     "output_type": "display_data"
    }
   ],
   "source": [
    "fig, ax = plt.subplots(1,1)\n",
    "ax.plot(sizes, t_numeric, 'o-', label='Inserting row-by-row')\n",
    "ax.plot(sizes, t_numeric_add, 'o-', label='Inserting row-by-row: add_result only')\n",
    "ax.plot(sizes, t_array, 'd-', label='Inserting as binary blob')\n",
    "ax.plot(sizes, t_array_add, 'd-', label='Inserting as binary blob: add_result only')\n",
    "ax.legend()\n",
    "ax.set_xlabel('Array length')\n",
    "ax.set_ylabel('Time (s)')\n",
    "fig.tight_layout()"
   ]
  },
  {
   "cell_type": "markdown",
   "metadata": {},
   "source": [
    "As shown in the latter figure, the time to setup and and close the experiment is approximately 0.4 sec. In case of small array sizes, the difference between inserting values of data as arrays and inserting them row-by-row is relatively unimportant. At larger array sizes, i.e. above 10000 points, the cost of writing data as individual datapoints starts to become important.\n"
   ]
  },
  {
   "cell_type": "markdown",
   "metadata": {},
   "source": [
    "### Case2: Long experiment time "
   ]
  },
  {
   "cell_type": "code",
   "execution_count": 7,
   "metadata": {
    "execution": {
     "iopub.execute_input": "2021-01-26T11:06:34.881234Z",
     "iopub.status.busy": "2021-01-26T11:06:34.880269Z",
     "iopub.status.idle": "2021-01-26T11:07:38.561483Z",
     "shell.execute_reply": "2021-01-26T11:07:38.561977Z"
    }
   },
   "outputs": [
    {
     "name": "stdout",
     "output_type": "stream",
     "text": [
      "Starting experimental run with id: 15. \n",
      "Starting experimental run with id: 16. \n",
      "Starting experimental run with id: 17. \n"
     ]
    },
    {
     "name": "stdout",
     "output_type": "stream",
     "text": [
      "Starting experimental run with id: 18. \n",
      "Starting experimental run with id: 19. \n"
     ]
    },
    {
     "name": "stdout",
     "output_type": "stream",
     "text": [
      "Starting experimental run with id: 20. \n"
     ]
    },
    {
     "name": "stdout",
     "output_type": "stream",
     "text": [
      "Starting experimental run with id: 21. \n"
     ]
    },
    {
     "name": "stdout",
     "output_type": "stream",
     "text": [
      "Starting experimental run with id: 22. \n"
     ]
    },
    {
     "name": "stdout",
     "output_type": "stream",
     "text": [
      "Starting experimental run with id: 23. \n"
     ]
    },
    {
     "name": "stdout",
     "output_type": "stream",
     "text": [
      "Starting experimental run with id: 24. \n"
     ]
    },
    {
     "name": "stdout",
     "output_type": "stream",
     "text": [
      "Starting experimental run with id: 25. \n"
     ]
    },
    {
     "name": "stdout",
     "output_type": "stream",
     "text": [
      "Starting experimental run with id: 26. \n"
     ]
    },
    {
     "name": "stdout",
     "output_type": "stream",
     "text": [
      "Starting experimental run with id: 27. \n"
     ]
    },
    {
     "name": "stdout",
     "output_type": "stream",
     "text": [
      "Starting experimental run with id: 28. \n"
     ]
    }
   ],
   "source": [
    "sizes = [1,500,1000,2000,3000,4000,5000]\n",
    "nreps = 100\n",
    "t_numeric = []\n",
    "t_numeric_add = []\n",
    "t_numeric_run_ids = []\n",
    "t_array = []\n",
    "t_array_add = []\n",
    "t_array_run_ids = []\n",
    "for size in sizes:\n",
    "    tn, tna, run_id_n =  insert_data('numeric', size, nreps=nreps)\n",
    "    t_numeric.append(tn)\n",
    "    t_numeric_add.append(tna)\n",
    "    t_numeric_run_ids.append(run_id_n)\n",
    "\n",
    "    ta, taa, run_id_a =  insert_data('array', size, nreps=nreps)\n",
    "    t_array.append(ta)\n",
    "    t_array_add.append(taa)\n",
    "    t_array_run_ids.append(run_id_a)"
   ]
  },
  {
   "cell_type": "code",
   "execution_count": 8,
   "metadata": {
    "execution": {
     "iopub.execute_input": "2021-01-26T11:07:38.593453Z",
     "iopub.status.busy": "2021-01-26T11:07:38.581060Z",
     "iopub.status.idle": "2021-01-26T11:07:38.823457Z",
     "shell.execute_reply": "2021-01-26T11:07:38.822550Z"
    },
    "scrolled": true
   },
   "outputs": [
    {
     "data": {
      "image/png": "[encoded data removed]",
      "text/plain": [
       "<Figure size 432x288 with 1 Axes>"
      ]
     },
     "metadata": {
      "needs_background": "light"
     },
     "output_type": "display_data"
    }
   ],
   "source": [
    "fig, ax = plt.subplots(1,1)\n",
    "ax.plot(sizes, t_numeric, 'o-', label='Inserting row-by-row')\n",
    "ax.plot(sizes, t_numeric_add, 'o-', label='Inserting row-by-row: add_result only')\n",
    "ax.plot(sizes, t_array, 'd-', label='Inserting as binary blob')\n",
    "ax.plot(sizes, t_array_add, 'd-', label='Inserting as binary blob: add_result only')\n",
    "ax.legend()\n",
    "ax.set_xlabel('Array length')\n",
    "ax.set_ylabel('Time (s)')\n",
    "fig.tight_layout()"
   ]
  },
  {
   "cell_type": "markdown",
   "metadata": {},
   "source": [
    "However, as we increase the length of the experiment, as seen here by repeating the insertion 100 times, we see a big difference between inserting values of the data row-by-row and inserting it as a binary blob."
   ]
  },
  {
   "cell_type": "markdown",
   "metadata": {},
   "source": [
    "## Loading the data "
   ]
  },
  {
   "cell_type": "code",
   "execution_count": 9,
   "metadata": {
    "execution": {
     "iopub.execute_input": "2021-01-26T11:07:38.827900Z",
     "iopub.status.busy": "2021-01-26T11:07:38.826750Z",
     "iopub.status.idle": "2021-01-26T11:07:38.832298Z",
     "shell.execute_reply": "2021-01-26T11:07:38.831527Z"
    }
   },
   "outputs": [],
   "source": [
    "from qcodes.dataset.data_set import load_by_id\n",
    "from qcodes.dataset.data_export import get_data_by_id"
   ]
  },
  {
   "cell_type": "markdown",
   "metadata": {},
   "source": [
    "As usual you can load the data by using the ``load_by_id`` function but you will notice that the different storage methods\n",
    "are reflected in shape of the data as it is retrieved. "
   ]
  },
  {
   "cell_type": "code",
   "execution_count": 10,
   "metadata": {
    "execution": {
     "iopub.execute_input": "2021-01-26T11:07:38.836710Z",
     "iopub.status.busy": "2021-01-26T11:07:38.836029Z",
     "iopub.status.idle": "2021-01-26T11:07:38.840019Z",
     "shell.execute_reply": "2021-01-26T11:07:38.839550Z"
    }
   },
   "outputs": [],
   "source": [
    "run_id_n = t_numeric_run_ids[0]\n",
    "run_id_a = t_array_run_ids[0]"
   ]
  },
  {
   "cell_type": "code",
   "execution_count": 11,
   "metadata": {
    "execution": {
     "iopub.execute_input": "2021-01-26T11:07:38.843533Z",
     "iopub.status.busy": "2021-01-26T11:07:38.842903Z",
     "iopub.status.idle": "2021-01-26T11:07:38.854748Z",
     "shell.execute_reply": "2021-01-26T11:07:38.854058Z"
    },
    "scrolled": true
   },
   "outputs": [
    {
     "data": {
      "text/plain": [
       "{'x1': {'x1': array([0.5572162 , 0.5572162 , 0.08702834, 0.08702834, 0.01548474,\n",
       "         0.01548474, 0.45430546, 0.45430546, 0.49689703, 0.49689703,\n",
       "         0.6820182 , 0.6820182 , 0.17397828, 0.17397828, 0.14588965,\n",
       "         0.14588965, 0.44460518, 0.44460518, 0.93112301, 0.93112301,\n",
       "         0.11517345, 0.11517345, 0.64366246, 0.64366246, 0.33891214,\n",
       "         0.33891214, 0.3431626 , 0.3431626 , 0.0330879 , 0.0330879 ,\n",
       "         0.24658017, 0.24658017, 0.11625673, 0.11625673, 0.63847821,\n",
       "         0.63847821, 0.32466001, 0.32466001, 0.16685498, 0.16685498,\n",
       "         0.63073622, 0.63073622, 0.43320401, 0.43320401, 0.39139205,\n",
       "         0.39139205, 0.87989637, 0.87989637, 0.52896319, 0.52896319,\n",
       "         0.08021092, 0.08021092, 0.13834872, 0.13834872, 0.85863155,\n",
       "         0.85863155, 0.48017684, 0.48017684, 0.58942844, 0.58942844,\n",
       "         0.88910638, 0.88910638, 0.98929568, 0.98929568, 0.67042487,\n",
       "         0.67042487, 0.88962717, 0.88962717, 0.93147231, 0.93147231,\n",
       "         0.87066039, 0.87066039, 0.03566662, 0.03566662, 0.26872314,\n",
       "         0.26872314, 0.02191782, 0.02191782, 0.17964246, 0.17964246,\n",
       "         0.64387682, 0.64387682, 0.56916798, 0.56916798, 0.54378234,\n",
       "         0.54378234, 0.1144568 , 0.1144568 , 0.68083468, 0.68083468,\n",
       "         0.83810186, 0.83810186, 0.16860153, 0.16860153, 0.41218956,\n",
       "         0.41218956, 0.4579922 , 0.4579922 , 0.20642043, 0.20642043,\n",
       "         0.06113054, 0.06113054, 0.37732585, 0.37732585, 0.90801656,\n",
       "         0.90801656, 0.71396225, 0.71396225, 0.49209913, 0.49209913,\n",
       "         0.86207063, 0.86207063, 0.92694233, 0.92694233, 0.93054278,\n",
       "         0.93054278, 0.85175467, 0.85175467, 0.92404584, 0.92404584,\n",
       "         0.51393026, 0.51393026, 0.10286208, 0.10286208, 0.25524536,\n",
       "         0.25524536, 0.59708274, 0.59708274, 0.08593498, 0.08593498,\n",
       "         0.98555368, 0.98555368, 0.53067947, 0.53067947, 0.55876735,\n",
       "         0.55876735, 0.89262039, 0.89262039, 0.50109452, 0.50109452,\n",
       "         0.66440774, 0.66440774, 0.60070944, 0.60070944, 0.77510634,\n",
       "         0.77510634, 0.98993839, 0.98993839, 0.89784624, 0.89784624,\n",
       "         0.80944036, 0.80944036, 0.15586636, 0.15586636, 0.83888404,\n",
       "         0.83888404, 0.02497901, 0.02497901, 0.07559624, 0.07559624,\n",
       "         0.90953396, 0.90953396, 0.46157212, 0.46157212, 0.23239639,\n",
       "         0.23239639, 0.88729191, 0.88729191, 0.23019104, 0.23019104,\n",
       "         0.02254121, 0.02254121, 0.67028594, 0.67028594, 0.7853415 ,\n",
       "         0.7853415 , 0.20621673, 0.20621673, 0.90315234, 0.90315234,\n",
       "         0.17408815, 0.17408815, 0.94700858, 0.94700858, 0.49165738,\n",
       "         0.49165738, 0.9439224 , 0.9439224 , 0.0228714 , 0.0228714 ,\n",
       "         0.74406091, 0.74406091, 0.33596251, 0.33596251, 0.98757527,\n",
       "         0.98757527, 0.25079005, 0.25079005, 0.98799758, 0.98799758])}}"
      ]
     },
     "execution_count": 1,
     "metadata": {},
     "output_type": "execute_result"
    }
   ],
   "source": [
    "ds = load_by_id(run_id_n)\n",
    "ds.get_parameter_data('x1')"
   ]
  },
  {
   "cell_type": "markdown",
   "metadata": {},
   "source": [
    "And a dataset stored as binary arrays"
   ]
  },
  {
   "cell_type": "code",
   "execution_count": 12,
   "metadata": {
    "execution": {
     "iopub.execute_input": "2021-01-26T11:07:38.858713Z",
     "iopub.status.busy": "2021-01-26T11:07:38.858063Z",
     "iopub.status.idle": "2021-01-26T11:07:38.926829Z",
     "shell.execute_reply": "2021-01-26T11:07:38.927433Z"
    },
    "scrolled": true
   },
   "outputs": [
    {
     "data": {
      "text/plain": [
       "{'x1': {'x1': array([[0.57901132],\n",
       "         [0.57901132],\n",
       "         [0.52677005],\n",
       "         [0.52677005],\n",
       "         [0.89995845],\n",
       "         [0.89995845],\n",
       "         [0.39766503],\n",
       "         [0.39766503],\n",
       "         [0.11326926],\n",
       "         [0.11326926],\n",
       "         [0.25603368],\n",
       "         [0.25603368],\n",
       "         [0.15184393],\n",
       "         [0.15184393],\n",
       "         [0.11525452],\n",
       "         [0.11525452],\n",
       "         [0.79474605],\n",
       "         [0.79474605],\n",
       "         [0.83312856],\n",
       "         [0.83312856],\n",
       "         [0.66578178],\n",
       "         [0.66578178],\n",
       "         [0.85374119],\n",
       "         [0.85374119],\n",
       "         [0.98047577],\n",
       "         [0.98047577],\n",
       "         [0.39916842],\n",
       "         [0.39916842],\n",
       "         [0.87843078],\n",
       "         [0.87843078],\n",
       "         [0.51787863],\n",
       "         [0.51787863],\n",
       "         [0.37421424],\n",
       "         [0.37421424],\n",
       "         [0.64796095],\n",
       "         [0.64796095],\n",
       "         [0.738625  ],\n",
       "         [0.738625  ],\n",
       "         [0.85274776],\n",
       "         [0.85274776],\n",
       "         [0.02235854],\n",
       "         [0.02235854],\n",
       "         [0.86750361],\n",
       "         [0.86750361],\n",
       "         [0.24951677],\n",
       "         [0.24951677],\n",
       "         [0.60907613],\n",
       "         [0.60907613],\n",
       "         [0.51064822],\n",
       "         [0.51064822],\n",
       "         [0.3624642 ],\n",
       "         [0.3624642 ],\n",
       "         [0.76006504],\n",
       "         [0.76006504],\n",
       "         [0.37423838],\n",
       "         [0.37423838],\n",
       "         [0.26301477],\n",
       "         [0.26301477],\n",
       "         [0.69760269],\n",
       "         [0.69760269],\n",
       "         [0.49753112],\n",
       "         [0.49753112],\n",
       "         [0.3120441 ],\n",
       "         [0.3120441 ],\n",
       "         [0.24683631],\n",
       "         [0.24683631],\n",
       "         [0.79896628],\n",
       "         [0.79896628],\n",
       "         [0.3377878 ],\n",
       "         [0.3377878 ],\n",
       "         [0.86471262],\n",
       "         [0.86471262],\n",
       "         [0.40841955],\n",
       "         [0.40841955],\n",
       "         [0.43039409],\n",
       "         [0.43039409],\n",
       "         [0.49382583],\n",
       "         [0.49382583],\n",
       "         [0.07146977],\n",
       "         [0.07146977],\n",
       "         [0.30190094],\n",
       "         [0.30190094],\n",
       "         [0.00859083],\n",
       "         [0.00859083],\n",
       "         [0.39584097],\n",
       "         [0.39584097],\n",
       "         [0.86412749],\n",
       "         [0.86412749],\n",
       "         [0.87427498],\n",
       "         [0.87427498],\n",
       "         [0.78934001],\n",
       "         [0.78934001],\n",
       "         [0.58061932],\n",
       "         [0.58061932],\n",
       "         [0.07642561],\n",
       "         [0.07642561],\n",
       "         [0.12756221],\n",
       "         [0.12756221],\n",
       "         [0.3530063 ],\n",
       "         [0.3530063 ],\n",
       "         [0.21708494],\n",
       "         [0.21708494],\n",
       "         [0.11249336],\n",
       "         [0.11249336],\n",
       "         [0.14615743],\n",
       "         [0.14615743],\n",
       "         [0.83750998],\n",
       "         [0.83750998],\n",
       "         [0.5636579 ],\n",
       "         [0.5636579 ],\n",
       "         [0.64301643],\n",
       "         [0.64301643],\n",
       "         [0.62840451],\n",
       "         [0.62840451],\n",
       "         [0.20479821],\n",
       "         [0.20479821],\n",
       "         [0.63339329],\n",
       "         [0.63339329],\n",
       "         [0.2966262 ],\n",
       "         [0.2966262 ],\n",
       "         [0.63266483],\n",
       "         [0.63266483],\n",
       "         [0.34164807],\n",
       "         [0.34164807],\n",
       "         [0.39515579],\n",
       "         [0.39515579],\n",
       "         [0.92942118],\n",
       "         [0.92942118],\n",
       "         [0.4803752 ],\n",
       "         [0.4803752 ],\n",
       "         [0.98675359],\n",
       "         [0.98675359],\n",
       "         [0.03028457],\n",
       "         [0.03028457],\n",
       "         [0.49775164],\n",
       "         [0.49775164],\n",
       "         [0.19226927],\n",
       "         [0.19226927],\n",
       "         [0.83802028],\n",
       "         [0.83802028],\n",
       "         [0.61380482],\n",
       "         [0.61380482],\n",
       "         [0.18662867],\n",
       "         [0.18662867],\n",
       "         [0.3334079 ],\n",
       "         [0.3334079 ],\n",
       "         [0.21721565],\n",
       "         [0.21721565],\n",
       "         [0.75752725],\n",
       "         [0.75752725],\n",
       "         [0.26770553],\n",
       "         [0.26770553],\n",
       "         [0.25325839],\n",
       "         [0.25325839],\n",
       "         [0.8286897 ],\n",
       "         [0.8286897 ],\n",
       "         [0.62995724],\n",
       "         [0.62995724],\n",
       "         [0.09053659],\n",
       "         [0.09053659],\n",
       "         [0.36474097],\n",
       "         [0.36474097],\n",
       "         [0.78438646],\n",
       "         [0.78438646],\n",
       "         [0.69763683],\n",
       "         [0.69763683],\n",
       "         [0.99751992],\n",
       "         [0.99751992],\n",
       "         [0.05645508],\n",
       "         [0.05645508],\n",
       "         [0.08735071],\n",
       "         [0.08735071],\n",
       "         [0.19229863],\n",
       "         [0.19229863],\n",
       "         [0.75600038],\n",
       "         [0.75600038],\n",
       "         [0.68968391],\n",
       "         [0.68968391],\n",
       "         [0.20913191],\n",
       "         [0.20913191],\n",
       "         [0.9999955 ],\n",
       "         [0.9999955 ],\n",
       "         [0.44651004],\n",
       "         [0.44651004],\n",
       "         [0.42845818],\n",
       "         [0.42845818],\n",
       "         [0.33366722],\n",
       "         [0.33366722],\n",
       "         [0.11170901],\n",
       "         [0.11170901],\n",
       "         [0.92190198],\n",
       "         [0.92190198],\n",
       "         [0.51287252],\n",
       "         [0.51287252],\n",
       "         [0.30336218],\n",
       "         [0.30336218],\n",
       "         [0.68760045],\n",
       "         [0.68760045],\n",
       "         [0.28078   ],\n",
       "         [0.28078   ]])}}"
      ]
     },
     "execution_count": 1,
     "metadata": {},
     "output_type": "execute_result"
    }
   ],
   "source": [
    "ds = load_by_id(run_id_a)\n",
    "ds.get_parameter_data('x1')"
   ]
  },
  {
   "cell_type": "code",
   "execution_count": null,
   "metadata": {},
   "outputs": [],
   "source": []
  }
 ],
 "metadata": {
  "kernelspec": {
   "display_name": "Python 3",
   "language": "python",
   "name": "python3"
  },
  "language_info": {
   "codemirror_mode": {
    "name": "ipython",
    "version": 3
   },
   "file_extension": ".py",
   "mimetype": "text/x-python",
   "name": "python",
   "nbconvert_exporter": "python",
   "pygments_lexer": "ipython3",
   "version": "3.7.9"
  },
  "nbsphinx": {
   "timeout": 600
  },
  "toc": {
   "base_numbering": 1,
   "nav_menu": {},
   "number_sections": true,
   "sideBar": true,
   "skip_h1_title": false,
   "title_cell": "Table of Contents",
   "title_sidebar": "Contents",
   "toc_cell": false,
   "toc_position": {},
   "toc_section_display": true,
   "toc_window_display": false
  },
  "varInspector": {
   "cols": {
    "lenName": 16,
    "lenType": 16,
    "lenVar": 40
   },
   "kernels_config": {
    "python": {
     "delete_cmd_postfix": "",
     "delete_cmd_prefix": "del ",
     "library": "var_list.py",
     "varRefreshCmd": "print(var_dic_list())"
    },
    "r": {
     "delete_cmd_postfix": ") ",
     "delete_cmd_prefix": "rm(",
     "library": "var_list.r",
     "varRefreshCmd": "cat(var_dic_list()) "
    }
   },
   "types_to_exclude": [
    "module",
    "function",
    "builtin_function_or_method",
    "instance",
    "_Feature"
   ],
   "window_display": false
  }
 },
 "nbformat": 4,
 "nbformat_minor": 2
}
