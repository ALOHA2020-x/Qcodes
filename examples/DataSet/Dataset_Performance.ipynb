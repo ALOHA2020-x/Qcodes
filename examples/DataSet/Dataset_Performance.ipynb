{
 "cells": [
  {
   "cell_type": "markdown",
   "metadata": {},
   "source": [
    "# DataSet Performance\n",
    "\n",
    "This notebook shows the trade-off between inserting data into a database row-by-row and as binary blobs. Inserting the data row-by-row means that we have direct access to all the data and may perform queries directly on the values of the data. On the other hand, as we shall see, this is much slower than inserting the data directly as binary blobs."
   ]
  },
  {
   "cell_type": "markdown",
   "metadata": {},
   "source": [
    "First, we choose a new location for the database to ensure that we don't add a bunch of benchmarking data to the default one."
   ]
  },
  {
   "cell_type": "code",
   "execution_count": 1,
   "metadata": {},
   "outputs": [
    {
     "name": "stdout",
     "output_type": "stream",
     "text": [
      "Logging hadn't been started.\n",
      "Activating auto-logging. Current session state plus future input saved.\n",
      "Filename       : /home/vsts/.qcodes/logs/command_history.log\n",
      "Mode           : append\n",
      "Output logging : True\n",
      "Raw input log  : False\n",
      "Timestamping   : True\n",
      "State          : active\n"
     ]
    },
    {
     "name": "stdout",
     "output_type": "stream",
     "text": [
      "Qcodes Logfile : /home/vsts/.qcodes/logs/200611-19099-qcodes.log\n"
     ]
    }
   ],
   "source": [
    "import os\n",
    "cwd = os.getcwd()\n",
    "import qcodes as qc\n",
    "qc.config[\"core\"][\"db_location\"] = os.path.join(cwd, 'testing.db')\n"
   ]
  },
  {
   "cell_type": "code",
   "execution_count": 2,
   "metadata": {},
   "outputs": [],
   "source": [
    "%matplotlib inline\n",
    "import time\n",
    "import matplotlib.pyplot as plt\n",
    "import numpy as np\n",
    "\n",
    "import qcodes as qc\n",
    "from qcodes.instrument.parameter import ManualParameter\n",
    "from qcodes.dataset.experiment_container import (Experiment,\n",
    "                                                 load_last_experiment,\n",
    "                                                 new_experiment)\n",
    "from qcodes.dataset.sqlite.database import initialise_database\n",
    "from qcodes import load_or_create_experiment\n",
    "from qcodes.dataset.measurements import Measurement"
   ]
  },
  {
   "cell_type": "code",
   "execution_count": 3,
   "metadata": {},
   "outputs": [
    {
     "name": "stdout",
     "output_type": "stream",
     "text": [
      "\r",
      "0it [00:00, ?it/s]"
     ]
    },
    {
     "name": "stdout",
     "output_type": "stream",
     "text": [
      "\r",
      "Upgrading database; v0 -> v1: : 0it [00:00, ?it/s]"
     ]
    },
    {
     "name": "stdout",
     "output_type": "stream",
     "text": [
      "\r",
      "Upgrading database; v0 -> v1: : 0it [00:00, ?it/s]"
     ]
    },
    {
     "name": "stdout",
     "output_type": "stream",
     "text": [
      "\n",
      "\r",
      "  0%|          | 0/1 [00:00<?, ?it/s]"
     ]
    },
    {
     "name": "stdout",
     "output_type": "stream",
     "text": [
      "\r",
      "Upgrading database; v1 -> v2:   0%|          | 0/1 [00:00<?, ?it/s]"
     ]
    },
    {
     "name": "stdout",
     "output_type": "stream",
     "text": [
      "\r",
      "Upgrading database; v1 -> v2: 100%|██████████| 1/1 [00:00<00:00, 957.60it/s]"
     ]
    },
    {
     "name": "stdout",
     "output_type": "stream",
     "text": [
      "\n",
      "\r",
      "0it [00:00, ?it/s]"
     ]
    },
    {
     "name": "stdout",
     "output_type": "stream",
     "text": [
      "\r",
      "Upgrading database; v2 -> v3: : 0it [00:00, ?it/s]"
     ]
    },
    {
     "name": "stdout",
     "output_type": "stream",
     "text": [
      "\r",
      "Upgrading database; v2 -> v3: : 0it [00:00, ?it/s]"
     ]
    },
    {
     "name": "stdout",
     "output_type": "stream",
     "text": [
      "\n",
      "\r",
      "0it [00:00, ?it/s]"
     ]
    },
    {
     "name": "stdout",
     "output_type": "stream",
     "text": [
      "\r",
      "Upgrading database; v3 -> v4: : 0it [00:00, ?it/s]"
     ]
    },
    {
     "name": "stdout",
     "output_type": "stream",
     "text": [
      "\r",
      "Upgrading database; v3 -> v4: : 0it [00:00, ?it/s]"
     ]
    },
    {
     "name": "stdout",
     "output_type": "stream",
     "text": [
      "\n",
      "\r",
      "  0%|          | 0/1 [00:00<?, ?it/s]"
     ]
    },
    {
     "name": "stdout",
     "output_type": "stream",
     "text": [
      "\r",
      "Upgrading database; v4 -> v5:   0%|          | 0/1 [00:00<?, ?it/s]"
     ]
    },
    {
     "name": "stdout",
     "output_type": "stream",
     "text": [
      "\r",
      "Upgrading database; v4 -> v5: 100%|██████████| 1/1 [00:00<00:00, 890.89it/s]"
     ]
    },
    {
     "name": "stdout",
     "output_type": "stream",
     "text": [
      "\n",
      "\r",
      "0it [00:00, ?it/s]"
     ]
    },
    {
     "name": "stdout",
     "output_type": "stream",
     "text": [
      "\r",
      "Upgrading database; v5 -> v6: : 0it [00:00, ?it/s]"
     ]
    },
    {
     "name": "stdout",
     "output_type": "stream",
     "text": [
      "\r",
      "Upgrading database; v5 -> v6: : 0it [00:00, ?it/s]"
     ]
    },
    {
     "name": "stdout",
     "output_type": "stream",
     "text": [
      "\n",
      "\r",
      "  0%|          | 0/1 [00:00<?, ?it/s]"
     ]
    },
    {
     "name": "stdout",
     "output_type": "stream",
     "text": [
      "\r",
      "Upgrading database; v6 -> v7:   0%|          | 0/1 [00:00<?, ?it/s]"
     ]
    },
    {
     "name": "stdout",
     "output_type": "stream",
     "text": [
      "\r",
      "Upgrading database; v6 -> v7: 100%|██████████| 1/1 [00:00<00:00, 344.81it/s]"
     ]
    },
    {
     "name": "stdout",
     "output_type": "stream",
     "text": [
      "\n",
      "\r",
      "  0%|          | 0/1 [00:00<?, ?it/s]"
     ]
    },
    {
     "name": "stdout",
     "output_type": "stream",
     "text": [
      "\r",
      "Upgrading database; v7 -> v8:   0%|          | 0/1 [00:00<?, ?it/s]"
     ]
    },
    {
     "name": "stdout",
     "output_type": "stream",
     "text": [
      "\r",
      "Upgrading database; v7 -> v8: 100%|██████████| 1/1 [00:00<00:00, 866.77it/s]"
     ]
    },
    {
     "name": "stdout",
     "output_type": "stream",
     "text": [
      "\n",
      "\r",
      "  0%|          | 0/1 [00:00<?, ?it/s]"
     ]
    },
    {
     "name": "stdout",
     "output_type": "stream",
     "text": [
      "\r",
      "Upgrading database; v8 -> v9:   0%|          | 0/1 [00:00<?, ?it/s]"
     ]
    },
    {
     "name": "stdout",
     "output_type": "stream",
     "text": [
      "\r",
      "Upgrading database; v8 -> v9: 100%|██████████| 1/1 [00:00<00:00, 933.94it/s]"
     ]
    },
    {
     "name": "stdout",
     "output_type": "stream",
     "text": [
      "\n"
     ]
    }
   ],
   "source": [
    "initialise_database()\n",
    "exp = load_or_create_experiment(experiment_name='tutorial_exp', sample_name=\"no sample\")"
   ]
  },
  {
   "cell_type": "markdown",
   "metadata": {},
   "source": [
    "Here, we define a simple function to benchmark the time it takes to insert n points with either numeric or array data type.\n",
    "We will compare both the time used to call ``add_result`` and the time used for the full measurement."
   ]
  },
  {
   "cell_type": "code",
   "execution_count": 4,
   "metadata": {},
   "outputs": [],
   "source": [
    "def insert_data(paramtype, npoints, nreps=1):\n",
    "\n",
    "    meas = Measurement(exp=exp)\n",
    "\n",
    "    x1 = ManualParameter('x1')\n",
    "    x2 = ManualParameter('x2')\n",
    "    x3 = ManualParameter('x3')\n",
    "    y1 = ManualParameter('y1')\n",
    "    y2 = ManualParameter('y2')\n",
    "\n",
    "    meas.register_parameter(x1, paramtype=paramtype)\n",
    "    meas.register_parameter(x2, paramtype=paramtype)\n",
    "    meas.register_parameter(x3, paramtype=paramtype)\n",
    "    meas.register_parameter(y1, setpoints=[x1, x2, x3],\n",
    "                            paramtype=paramtype)\n",
    "    meas.register_parameter(y2, setpoints=[x1, x2, x3],\n",
    "                            paramtype=paramtype)\n",
    "    start = time.perf_counter()\n",
    "    with meas.run() as datasaver:\n",
    "        start_adding = time.perf_counter()\n",
    "        for i in range(nreps):\n",
    "            datasaver.add_result((x1, np.random.rand(npoints)),\n",
    "                                 (x2, np.random.rand(npoints)),\n",
    "                                 (x3, np.random.rand(npoints)),\n",
    "                                 (y1, np.random.rand(npoints)),\n",
    "                                 (y2, np.random.rand(npoints)))\n",
    "        stop_adding = time.perf_counter()\n",
    "        run_id = datasaver.run_id\n",
    "    stop = time.perf_counter()\n",
    "    tot_time = stop - start\n",
    "    add_time = stop_adding - start_adding\n",
    "    return tot_time, add_time, run_id"
   ]
  },
  {
   "cell_type": "markdown",
   "metadata": {},
   "source": [
    "## Comparison between numeric/array data and binary blob"
   ]
  },
  {
   "cell_type": "markdown",
   "metadata": {},
   "source": [
    "### Case1: Short experiment time"
   ]
  },
  {
   "cell_type": "code",
   "execution_count": 5,
   "metadata": {},
   "outputs": [
    {
     "name": "stdout",
     "output_type": "stream",
     "text": [
      "Starting experimental run with id: 1. \n",
      "Starting experimental run with id: 2. \n",
      "Starting experimental run with id: 3. \n",
      "Starting experimental run with id: 4. \n",
      "Starting experimental run with id: 5. \n"
     ]
    },
    {
     "name": "stdout",
     "output_type": "stream",
     "text": [
      "Starting experimental run with id: 6. \n"
     ]
    },
    {
     "name": "stdout",
     "output_type": "stream",
     "text": [
      "Starting experimental run with id: 7. \n"
     ]
    },
    {
     "name": "stdout",
     "output_type": "stream",
     "text": [
      "Starting experimental run with id: 8. \n",
      "Starting experimental run with id: 9. \n"
     ]
    },
    {
     "name": "stdout",
     "output_type": "stream",
     "text": [
      "Starting experimental run with id: 10. \n",
      "Starting experimental run with id: 11. \n"
     ]
    },
    {
     "name": "stdout",
     "output_type": "stream",
     "text": [
      "Starting experimental run with id: 12. \n",
      "Starting experimental run with id: 13. \n"
     ]
    },
    {
     "name": "stdout",
     "output_type": "stream",
     "text": [
      "Starting experimental run with id: 14. \n"
     ]
    }
   ],
   "source": [
    "sizes = [1,500,1000,2000,3000,4000,5000]\n",
    "t_numeric = []\n",
    "t_numeric_add = []\n",
    "t_array = []\n",
    "t_array_add = []\n",
    "for size in sizes:\n",
    "    tn, tna, run_id_n =  insert_data('numeric', size)\n",
    "    t_numeric.append(tn)\n",
    "    t_numeric_add.append(tna)\n",
    "\n",
    "    ta, taa, run_id_a =  insert_data('array', size)\n",
    "    t_array.append(ta)\n",
    "    t_array_add.append(taa)"
   ]
  },
  {
   "cell_type": "code",
   "execution_count": 6,
   "metadata": {},
   "outputs": [
    {
     "data": {
      "image/png": "[encoded data removed]",
      "text/plain": [
       "<Figure size 432x288 with 1 Axes>"
      ]
     },
     "metadata": {
      "needs_background": "light"
     },
     "output_type": "display_data"
    }
   ],
   "source": [
    "fig, ax = plt.subplots(1,1)\n",
    "ax.plot(sizes, t_numeric, 'o-', label='Inserting row-by-row')\n",
    "ax.plot(sizes, t_numeric_add, 'o-', label='Inserting row-by-row: add_result only')\n",
    "ax.plot(sizes, t_array, 'd-', label='Inserting as binary blob')\n",
    "ax.plot(sizes, t_array_add, 'd-', label='Inserting as binary blob: add_result only')\n",
    "ax.legend()\n",
    "ax.set_xlabel('Array length')\n",
    "ax.set_ylabel('Time (s)')\n",
    "fig.tight_layout()"
   ]
  },
  {
   "cell_type": "markdown",
   "metadata": {},
   "source": [
    "As shown in the latter figure, the time to setup and and close the experiment is approximately 0.4 sec. In case of small array sizes, the difference between inserting values of data as arrays and inserting them row-by-row is relatively unimportant. At larger array sizes, i.e. above 10000 points, the cost of writing data as individual datapoints starts to become important.\n"
   ]
  },
  {
   "cell_type": "markdown",
   "metadata": {},
   "source": [
    "### Case2: Long experiment time "
   ]
  },
  {
   "cell_type": "code",
   "execution_count": 7,
   "metadata": {},
   "outputs": [
    {
     "name": "stdout",
     "output_type": "stream",
     "text": [
      "Starting experimental run with id: 15. \n",
      "Starting experimental run with id: 16. \n",
      "Starting experimental run with id: 17. \n"
     ]
    },
    {
     "name": "stdout",
     "output_type": "stream",
     "text": [
      "Starting experimental run with id: 18. \n",
      "Starting experimental run with id: 19. \n"
     ]
    },
    {
     "name": "stdout",
     "output_type": "stream",
     "text": [
      "Starting experimental run with id: 20. \n"
     ]
    },
    {
     "name": "stdout",
     "output_type": "stream",
     "text": [
      "Starting experimental run with id: 21. \n"
     ]
    },
    {
     "name": "stdout",
     "output_type": "stream",
     "text": [
      "Starting experimental run with id: 22. \n"
     ]
    },
    {
     "name": "stdout",
     "output_type": "stream",
     "text": [
      "Starting experimental run with id: 23. \n"
     ]
    },
    {
     "name": "stdout",
     "output_type": "stream",
     "text": [
      "Starting experimental run with id: 24. \n"
     ]
    },
    {
     "name": "stdout",
     "output_type": "stream",
     "text": [
      "Starting experimental run with id: 25. \n"
     ]
    },
    {
     "name": "stdout",
     "output_type": "stream",
     "text": [
      "Starting experimental run with id: 26. \n"
     ]
    },
    {
     "name": "stdout",
     "output_type": "stream",
     "text": [
      "Starting experimental run with id: 27. \n"
     ]
    },
    {
     "name": "stdout",
     "output_type": "stream",
     "text": [
      "Starting experimental run with id: 28. \n"
     ]
    }
   ],
   "source": [
    "sizes = [1,500,1000,2000,3000,4000,5000]\n",
    "nreps = 100\n",
    "t_numeric = []\n",
    "t_numeric_add = []\n",
    "t_numeric_run_ids = []\n",
    "t_array = []\n",
    "t_array_add = []\n",
    "t_array_run_ids = []\n",
    "for size in sizes:\n",
    "    tn, tna, run_id_n =  insert_data('numeric', size, nreps=nreps)\n",
    "    t_numeric.append(tn)\n",
    "    t_numeric_add.append(tna)\n",
    "    t_numeric_run_ids.append(run_id_n)\n",
    "\n",
    "    ta, taa, run_id_a =  insert_data('array', size, nreps=nreps)\n",
    "    t_array.append(ta)\n",
    "    t_array_add.append(taa)\n",
    "    t_array_run_ids.append(run_id_a)"
   ]
  },
  {
   "cell_type": "code",
   "execution_count": 8,
   "metadata": {
    "scrolled": true
   },
   "outputs": [
    {
     "data": {
      "image/png": "[encoded data removed]",
      "text/plain": [
       "<Figure size 432x288 with 1 Axes>"
      ]
     },
     "metadata": {
      "needs_background": "light"
     },
     "output_type": "display_data"
    }
   ],
   "source": [
    "fig, ax = plt.subplots(1,1)\n",
    "ax.plot(sizes, t_numeric, 'o-', label='Inserting row-by-row')\n",
    "ax.plot(sizes, t_numeric_add, 'o-', label='Inserting row-by-row: add_result only')\n",
    "ax.plot(sizes, t_array, 'd-', label='Inserting as binary blob')\n",
    "ax.plot(sizes, t_array_add, 'd-', label='Inserting as binary blob: add_result only')\n",
    "ax.legend()\n",
    "ax.set_xlabel('Array length')\n",
    "ax.set_ylabel('Time (s)')\n",
    "fig.tight_layout()"
   ]
  },
  {
   "cell_type": "markdown",
   "metadata": {},
   "source": [
    "However, as we increase the length of the experiment, as seen here by repeating the insertion 100 times, we see a big difference between inserting values of the data row-by-row and inserting it as a binary blob."
   ]
  },
  {
   "cell_type": "markdown",
   "metadata": {},
   "source": [
    "## Loading the data "
   ]
  },
  {
   "cell_type": "code",
   "execution_count": 9,
   "metadata": {},
   "outputs": [],
   "source": [
    "from qcodes.dataset.data_set import load_by_id\n",
    "from qcodes.dataset.data_export import get_data_by_id"
   ]
  },
  {
   "cell_type": "markdown",
   "metadata": {},
   "source": [
    "As usual you can load the data by using the ``load_by_id`` function but you will notice that the different storage methods\n",
    "are reflected in shape of the data as it is retrieved. "
   ]
  },
  {
   "cell_type": "code",
   "execution_count": 10,
   "metadata": {},
   "outputs": [],
   "source": [
    "run_id_n = t_numeric_run_ids[0]\n",
    "run_id_a = t_array_run_ids[0]"
   ]
  },
  {
   "cell_type": "code",
   "execution_count": 11,
   "metadata": {
    "scrolled": true
   },
   "outputs": [
    {
     "data": {
      "text/plain": [
       "{'x1': {'x1': array([0.94741149, 0.94741149, 0.2810437 , 0.2810437 , 0.15457548,\n",
       "         0.15457548, 0.38334052, 0.38334052, 0.34162196, 0.34162196,\n",
       "         0.4776828 , 0.4776828 , 0.80961812, 0.80961812, 0.40854122,\n",
       "         0.40854122, 0.20047145, 0.20047145, 0.99068897, 0.99068897,\n",
       "         0.31643873, 0.31643873, 0.08222025, 0.08222025, 0.05081161,\n",
       "         0.05081161, 0.80288264, 0.80288264, 0.23981173, 0.23981173,\n",
       "         0.91771563, 0.91771563, 0.24917025, 0.24917025, 0.01453581,\n",
       "         0.01453581, 0.87996188, 0.87996188, 0.20566507, 0.20566507,\n",
       "         0.4250659 , 0.4250659 , 0.63347503, 0.63347503, 0.64971701,\n",
       "         0.64971701, 0.34518522, 0.34518522, 0.29084429, 0.29084429,\n",
       "         0.64415208, 0.64415208, 0.11448201, 0.11448201, 0.44944642,\n",
       "         0.44944642, 0.30012912, 0.30012912, 0.90405768, 0.90405768,\n",
       "         0.01401288, 0.01401288, 0.04842556, 0.04842556, 0.39762761,\n",
       "         0.39762761, 0.22235944, 0.22235944, 0.65939429, 0.65939429,\n",
       "         0.31070542, 0.31070542, 0.05967883, 0.05967883, 0.30256428,\n",
       "         0.30256428, 0.57012165, 0.57012165, 0.75683926, 0.75683926,\n",
       "         0.50595474, 0.50595474, 0.02717726, 0.02717726, 0.47743847,\n",
       "         0.47743847, 0.29613176, 0.29613176, 0.24447654, 0.24447654,\n",
       "         0.0626201 , 0.0626201 , 0.48360321, 0.48360321, 0.19026735,\n",
       "         0.19026735, 0.64916833, 0.64916833, 0.89041586, 0.89041586,\n",
       "         0.88030885, 0.88030885, 0.28731768, 0.28731768, 0.068547  ,\n",
       "         0.068547  , 0.36115665, 0.36115665, 0.1091806 , 0.1091806 ,\n",
       "         0.94329974, 0.94329974, 0.26521382, 0.26521382, 0.31378065,\n",
       "         0.31378065, 0.73633105, 0.73633105, 0.31750299, 0.31750299,\n",
       "         0.62997256, 0.62997256, 0.17910217, 0.17910217, 0.06586366,\n",
       "         0.06586366, 0.61516635, 0.61516635, 0.18535928, 0.18535928,\n",
       "         0.10893378, 0.10893378, 0.71543885, 0.71543885, 0.04049074,\n",
       "         0.04049074, 0.02459321, 0.02459321, 0.85260435, 0.85260435,\n",
       "         0.51059439, 0.51059439, 0.06914365, 0.06914365, 0.29309847,\n",
       "         0.29309847, 0.97337463, 0.97337463, 0.65030225, 0.65030225,\n",
       "         0.4719838 , 0.4719838 , 0.54477821, 0.54477821, 0.2097784 ,\n",
       "         0.2097784 , 0.44193178, 0.44193178, 0.79758182, 0.79758182,\n",
       "         0.8384219 , 0.8384219 , 0.68382356, 0.68382356, 0.82088702,\n",
       "         0.82088702, 0.23991579, 0.23991579, 0.95751788, 0.95751788,\n",
       "         0.47688957, 0.47688957, 0.92926422, 0.92926422, 0.65409345,\n",
       "         0.65409345, 0.2983905 , 0.2983905 , 0.27391195, 0.27391195,\n",
       "         0.84024206, 0.84024206, 0.37474733, 0.37474733, 0.90999868,\n",
       "         0.90999868, 0.50477564, 0.50477564, 0.06071693, 0.06071693,\n",
       "         0.76902096, 0.76902096, 0.93084385, 0.93084385, 0.70624795,\n",
       "         0.70624795, 0.80758176, 0.80758176, 0.43693515, 0.43693515])}}"
      ]
     },
     "execution_count": 11,
     "metadata": {},
     "output_type": "execute_result"
    }
   ],
   "source": [
    "ds = load_by_id(run_id_n)\n",
    "ds.get_parameter_data('x1')"
   ]
  },
  {
   "cell_type": "markdown",
   "metadata": {},
   "source": [
    "And a dataset stored as binary arrays"
   ]
  },
  {
   "cell_type": "code",
   "execution_count": 12,
   "metadata": {
    "scrolled": true
   },
   "outputs": [
    {
     "data": {
      "text/plain": [
       "{'x1': {'x1': array([[0.04750654],\n",
       "         [0.04750654],\n",
       "         [0.14154462],\n",
       "         [0.14154462],\n",
       "         [0.37390081],\n",
       "         [0.37390081],\n",
       "         [0.76566363],\n",
       "         [0.76566363],\n",
       "         [0.17991406],\n",
       "         [0.17991406],\n",
       "         [0.95655669],\n",
       "         [0.95655669],\n",
       "         [0.77253832],\n",
       "         [0.77253832],\n",
       "         [0.11146523],\n",
       "         [0.11146523],\n",
       "         [0.38673493],\n",
       "         [0.38673493],\n",
       "         [0.00710286],\n",
       "         [0.00710286],\n",
       "         [0.63851156],\n",
       "         [0.63851156],\n",
       "         [0.00829515],\n",
       "         [0.00829515],\n",
       "         [0.53263376],\n",
       "         [0.53263376],\n",
       "         [0.1829247 ],\n",
       "         [0.1829247 ],\n",
       "         [0.28636315],\n",
       "         [0.28636315],\n",
       "         [0.14362963],\n",
       "         [0.14362963],\n",
       "         [0.53902035],\n",
       "         [0.53902035],\n",
       "         [0.90315035],\n",
       "         [0.90315035],\n",
       "         [0.64244989],\n",
       "         [0.64244989],\n",
       "         [0.00496687],\n",
       "         [0.00496687],\n",
       "         [0.21277792],\n",
       "         [0.21277792],\n",
       "         [0.0790864 ],\n",
       "         [0.0790864 ],\n",
       "         [0.52799575],\n",
       "         [0.52799575],\n",
       "         [0.35609138],\n",
       "         [0.35609138],\n",
       "         [0.82290766],\n",
       "         [0.82290766],\n",
       "         [0.67498088],\n",
       "         [0.67498088],\n",
       "         [0.80715645],\n",
       "         [0.80715645],\n",
       "         [0.7315142 ],\n",
       "         [0.7315142 ],\n",
       "         [0.13152703],\n",
       "         [0.13152703],\n",
       "         [0.54082187],\n",
       "         [0.54082187],\n",
       "         [0.56212634],\n",
       "         [0.56212634],\n",
       "         [0.59237849],\n",
       "         [0.59237849],\n",
       "         [0.38212021],\n",
       "         [0.38212021],\n",
       "         [0.51799463],\n",
       "         [0.51799463],\n",
       "         [0.88506548],\n",
       "         [0.88506548],\n",
       "         [0.4031669 ],\n",
       "         [0.4031669 ],\n",
       "         [0.67461909],\n",
       "         [0.67461909],\n",
       "         [0.86956653],\n",
       "         [0.86956653],\n",
       "         [0.12653655],\n",
       "         [0.12653655],\n",
       "         [0.49429697],\n",
       "         [0.49429697],\n",
       "         [0.49079722],\n",
       "         [0.49079722],\n",
       "         [0.11321431],\n",
       "         [0.11321431],\n",
       "         [0.84794315],\n",
       "         [0.84794315],\n",
       "         [0.09462322],\n",
       "         [0.09462322],\n",
       "         [0.74264888],\n",
       "         [0.74264888],\n",
       "         [0.26190466],\n",
       "         [0.26190466],\n",
       "         [0.1136738 ],\n",
       "         [0.1136738 ],\n",
       "         [0.43378983],\n",
       "         [0.43378983],\n",
       "         [0.36685248],\n",
       "         [0.36685248],\n",
       "         [0.77222907],\n",
       "         [0.77222907],\n",
       "         [0.79421469],\n",
       "         [0.79421469],\n",
       "         [0.68650776],\n",
       "         [0.68650776],\n",
       "         [0.7397625 ],\n",
       "         [0.7397625 ],\n",
       "         [0.18837084],\n",
       "         [0.18837084],\n",
       "         [0.61218012],\n",
       "         [0.61218012],\n",
       "         [0.28529152],\n",
       "         [0.28529152],\n",
       "         [0.69748934],\n",
       "         [0.69748934],\n",
       "         [0.5000851 ],\n",
       "         [0.5000851 ],\n",
       "         [0.94144785],\n",
       "         [0.94144785],\n",
       "         [0.24443865],\n",
       "         [0.24443865],\n",
       "         [0.62349214],\n",
       "         [0.62349214],\n",
       "         [0.2679771 ],\n",
       "         [0.2679771 ],\n",
       "         [0.15359905],\n",
       "         [0.15359905],\n",
       "         [0.96311891],\n",
       "         [0.96311891],\n",
       "         [0.3553786 ],\n",
       "         [0.3553786 ],\n",
       "         [0.8606425 ],\n",
       "         [0.8606425 ],\n",
       "         [0.54177189],\n",
       "         [0.54177189],\n",
       "         [0.64874527],\n",
       "         [0.64874527],\n",
       "         [0.5712308 ],\n",
       "         [0.5712308 ],\n",
       "         [0.39075856],\n",
       "         [0.39075856],\n",
       "         [0.99215072],\n",
       "         [0.99215072],\n",
       "         [0.61654472],\n",
       "         [0.61654472],\n",
       "         [0.3485829 ],\n",
       "         [0.3485829 ],\n",
       "         [0.27549212],\n",
       "         [0.27549212],\n",
       "         [0.0778797 ],\n",
       "         [0.0778797 ],\n",
       "         [0.59105615],\n",
       "         [0.59105615],\n",
       "         [0.54117295],\n",
       "         [0.54117295],\n",
       "         [0.44555195],\n",
       "         [0.44555195],\n",
       "         [0.39405533],\n",
       "         [0.39405533],\n",
       "         [0.67647968],\n",
       "         [0.67647968],\n",
       "         [0.4646879 ],\n",
       "         [0.4646879 ],\n",
       "         [0.61207511],\n",
       "         [0.61207511],\n",
       "         [0.62538359],\n",
       "         [0.62538359],\n",
       "         [0.20501174],\n",
       "         [0.20501174],\n",
       "         [0.4769414 ],\n",
       "         [0.4769414 ],\n",
       "         [0.06080728],\n",
       "         [0.06080728],\n",
       "         [0.64746363],\n",
       "         [0.64746363],\n",
       "         [0.73163284],\n",
       "         [0.73163284],\n",
       "         [0.05983008],\n",
       "         [0.05983008],\n",
       "         [0.25683123],\n",
       "         [0.25683123],\n",
       "         [0.0225103 ],\n",
       "         [0.0225103 ],\n",
       "         [0.01855882],\n",
       "         [0.01855882],\n",
       "         [0.18242097],\n",
       "         [0.18242097],\n",
       "         [0.4065511 ],\n",
       "         [0.4065511 ],\n",
       "         [0.1271171 ],\n",
       "         [0.1271171 ],\n",
       "         [0.25134183],\n",
       "         [0.25134183],\n",
       "         [0.88197309],\n",
       "         [0.88197309],\n",
       "         [0.60684579],\n",
       "         [0.60684579],\n",
       "         [0.8321132 ],\n",
       "         [0.8321132 ],\n",
       "         [0.86584104],\n",
       "         [0.86584104]])}}"
      ]
     },
     "execution_count": 12,
     "metadata": {},
     "output_type": "execute_result"
    }
   ],
   "source": [
    "ds = load_by_id(run_id_a)\n",
    "ds.get_parameter_data('x1')"
   ]
  },
  {
   "cell_type": "code",
   "execution_count": null,
   "metadata": {},
   "outputs": [],
   "source": []
  }
 ],
 "metadata": {
  "kernelspec": {
   "display_name": "Python 3",
   "language": "python",
   "name": "python3"
  },
  "language_info": {
   "codemirror_mode": {
    "name": "ipython",
    "version": 3
   },
   "file_extension": ".py",
   "mimetype": "text/x-python",
   "name": "python",
   "nbconvert_exporter": "python",
   "pygments_lexer": "ipython3",
   "version": "3.7.7"
  },
  "nbsphinx": {
   "timeout": 600
  },
  "toc": {
   "base_numbering": 1,
   "nav_menu": {},
   "number_sections": true,
   "sideBar": true,
   "skip_h1_title": false,
   "title_cell": "Table of Contents",
   "title_sidebar": "Contents",
   "toc_cell": false,
   "toc_position": {},
   "toc_section_display": true,
   "toc_window_display": false
  },
  "varInspector": {
   "cols": {
    "lenName": 16,
    "lenType": 16,
    "lenVar": 40
   },
   "kernels_config": {
    "python": {
     "delete_cmd_postfix": "",
     "delete_cmd_prefix": "del ",
     "library": "var_list.py",
     "varRefreshCmd": "print(var_dic_list())"
    },
    "r": {
     "delete_cmd_postfix": ") ",
     "delete_cmd_prefix": "rm(",
     "library": "var_list.r",
     "varRefreshCmd": "cat(var_dic_list()) "
    }
   },
   "types_to_exclude": [
    "module",
    "function",
    "builtin_function_or_method",
    "instance",
    "_Feature"
   ],
   "window_display": false
  }
 },
 "nbformat": 4,
 "nbformat_minor": 2
}
