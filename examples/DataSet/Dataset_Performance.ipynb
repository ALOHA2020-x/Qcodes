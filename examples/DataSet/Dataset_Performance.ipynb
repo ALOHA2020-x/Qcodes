{
 "cells": [
  {
   "cell_type": "markdown",
   "metadata": {},
   "source": [
    "# DataSet Performance\n",
    "\n",
    "This notebook shows the trade-off between inserting data into a database row-by-row and as binary blobs. Inserting the data row-by-row means that we have direct access to all the data and may perform queries directly on the values of the data. On the other hand, as we shall see, this is much slower than inserting the data directly as binary blobs."
   ]
  },
  {
   "cell_type": "markdown",
   "metadata": {},
   "source": [
    "First, we choose a new location for the database to ensure that we don't add a bunch of benchmarking data to the default one."
   ]
  },
  {
   "cell_type": "code",
   "execution_count": 1,
   "metadata": {
    "execution": {
     "iopub.execute_input": "2020-12-30T07:01:20.956364Z",
     "iopub.status.busy": "2020-12-30T07:01:20.955499Z",
     "iopub.status.idle": "2020-12-30T07:01:21.921368Z",
     "shell.execute_reply": "2020-12-30T07:01:21.920705Z"
    }
   },
   "outputs": [
    {
     "name": "stdout",
     "output_type": "stream",
     "text": [
      "Logging hadn't been started.\n",
      "Activating auto-logging. Current session state plus future input saved.\n",
      "Filename       : /home/vsts/.qcodes/logs/command_history.log\n",
      "Mode           : append\n",
      "Output logging : True\n",
      "Raw input log  : False\n",
      "Timestamping   : True\n",
      "State          : active\n"
     ]
    },
    {
     "name": "stdout",
     "output_type": "stream",
     "text": [
      "Qcodes Logfile : /home/vsts/.qcodes/logs/201230-13392-qcodes.log\n"
     ]
    }
   ],
   "source": [
    "import os\n",
    "cwd = os.getcwd()\n",
    "import qcodes as qc\n",
    "qc.config[\"core\"][\"db_location\"] = os.path.join(cwd, 'testing.db')\n"
   ]
  },
  {
   "cell_type": "code",
   "execution_count": 2,
   "metadata": {
    "execution": {
     "iopub.execute_input": "2020-12-30T07:01:21.928066Z",
     "iopub.status.busy": "2020-12-30T07:01:21.927221Z",
     "iopub.status.idle": "2020-12-30T07:01:22.103926Z",
     "shell.execute_reply": "2020-12-30T07:01:22.103089Z"
    }
   },
   "outputs": [],
   "source": [
    "%matplotlib inline\n",
    "import time\n",
    "import matplotlib.pyplot as plt\n",
    "import numpy as np\n",
    "\n",
    "import qcodes as qc\n",
    "from qcodes.instrument.parameter import ManualParameter\n",
    "from qcodes.dataset.experiment_container import (Experiment,\n",
    "                                                 load_last_experiment,\n",
    "                                                 new_experiment)\n",
    "from qcodes.dataset.sqlite.database import initialise_database\n",
    "from qcodes import load_or_create_experiment\n",
    "from qcodes.dataset.measurements import Measurement"
   ]
  },
  {
   "cell_type": "code",
   "execution_count": 3,
   "metadata": {
    "execution": {
     "iopub.execute_input": "2020-12-30T07:01:22.107531Z",
     "iopub.status.busy": "2020-12-30T07:01:22.107037Z",
     "iopub.status.idle": "2020-12-30T07:01:22.215250Z",
     "shell.execute_reply": "2020-12-30T07:01:22.214724Z"
    }
   },
   "outputs": [
    {
     "name": "stdout",
     "output_type": "stream",
     "text": [
      "\r",
      "0it [00:00, ?it/s]"
     ]
    },
    {
     "name": "stdout",
     "output_type": "stream",
     "text": [
      "\r",
      "Upgrading database; v0 -> v1: : 0it [00:00, ?it/s]"
     ]
    },
    {
     "name": "stdout",
     "output_type": "stream",
     "text": [
      "\r",
      "Upgrading database; v0 -> v1: : 0it [00:00, ?it/s]"
     ]
    },
    {
     "name": "stdout",
     "output_type": "stream",
     "text": [
      "\n",
      "\r",
      "  0%|          | 0/1 [00:00<?, ?it/s]"
     ]
    },
    {
     "name": "stdout",
     "output_type": "stream",
     "text": [
      "\r",
      "Upgrading database; v1 -> v2:   0%|          | 0/1 [00:00<?, ?it/s]"
     ]
    },
    {
     "name": "stdout",
     "output_type": "stream",
     "text": [
      "\r",
      "Upgrading database; v1 -> v2: 100%|██████████| 1/1 [00:00<00:00, 599.27it/s]"
     ]
    },
    {
     "name": "stdout",
     "output_type": "stream",
     "text": [
      "\n",
      "\r",
      "0it [00:00, ?it/s]"
     ]
    },
    {
     "name": "stdout",
     "output_type": "stream",
     "text": [
      "\r",
      "Upgrading database; v2 -> v3: : 0it [00:00, ?it/s]"
     ]
    },
    {
     "name": "stdout",
     "output_type": "stream",
     "text": [
      "\r",
      "Upgrading database; v2 -> v3: : 0it [00:00, ?it/s]"
     ]
    },
    {
     "name": "stdout",
     "output_type": "stream",
     "text": [
      "\n",
      "\r",
      "0it [00:00, ?it/s]"
     ]
    },
    {
     "name": "stdout",
     "output_type": "stream",
     "text": [
      "\r",
      "Upgrading database; v3 -> v4: : 0it [00:00, ?it/s]"
     ]
    },
    {
     "name": "stdout",
     "output_type": "stream",
     "text": [
      "\r",
      "Upgrading database; v3 -> v4: : 0it [00:00, ?it/s]"
     ]
    },
    {
     "name": "stdout",
     "output_type": "stream",
     "text": [
      "\n",
      "\r",
      "  0%|          | 0/1 [00:00<?, ?it/s]"
     ]
    },
    {
     "name": "stdout",
     "output_type": "stream",
     "text": [
      "\r",
      "Upgrading database; v4 -> v5:   0%|          | 0/1 [00:00<?, ?it/s]"
     ]
    },
    {
     "name": "stdout",
     "output_type": "stream",
     "text": [
      "\r",
      "Upgrading database; v4 -> v5: 100%|██████████| 1/1 [00:00<00:00, 574.80it/s]"
     ]
    },
    {
     "name": "stdout",
     "output_type": "stream",
     "text": [
      "\n",
      "\r",
      "0it [00:00, ?it/s]"
     ]
    },
    {
     "name": "stdout",
     "output_type": "stream",
     "text": [
      "\r",
      "Upgrading database; v5 -> v6: : 0it [00:00, ?it/s]"
     ]
    },
    {
     "name": "stdout",
     "output_type": "stream",
     "text": [
      "\r",
      "Upgrading database; v5 -> v6: : 0it [00:00, ?it/s]"
     ]
    },
    {
     "name": "stdout",
     "output_type": "stream",
     "text": [
      "\n",
      "\r",
      "  0%|          | 0/1 [00:00<?, ?it/s]"
     ]
    },
    {
     "name": "stdout",
     "output_type": "stream",
     "text": [
      "\r",
      "Upgrading database; v6 -> v7:   0%|          | 0/1 [00:00<?, ?it/s]"
     ]
    },
    {
     "name": "stdout",
     "output_type": "stream",
     "text": [
      "\r",
      "Upgrading database; v6 -> v7: 100%|██████████| 1/1 [00:00<00:00, 267.55it/s]"
     ]
    },
    {
     "name": "stdout",
     "output_type": "stream",
     "text": [
      "\n",
      "\r",
      "  0%|          | 0/1 [00:00<?, ?it/s]"
     ]
    },
    {
     "name": "stdout",
     "output_type": "stream",
     "text": [
      "\r",
      "Upgrading database; v7 -> v8:   0%|          | 0/1 [00:00<?, ?it/s]"
     ]
    },
    {
     "name": "stdout",
     "output_type": "stream",
     "text": [
      "\r",
      "Upgrading database; v7 -> v8: 100%|██████████| 1/1 [00:00<00:00, 626.20it/s]"
     ]
    },
    {
     "name": "stdout",
     "output_type": "stream",
     "text": [
      "\n",
      "\r",
      "  0%|          | 0/1 [00:00<?, ?it/s]"
     ]
    },
    {
     "name": "stdout",
     "output_type": "stream",
     "text": [
      "\r",
      "Upgrading database; v8 -> v9:   0%|          | 0/1 [00:00<?, ?it/s]"
     ]
    },
    {
     "name": "stdout",
     "output_type": "stream",
     "text": [
      "\r",
      "Upgrading database; v8 -> v9: 100%|██████████| 1/1 [00:00<00:00, 634.25it/s]"
     ]
    },
    {
     "name": "stdout",
     "output_type": "stream",
     "text": [
      "\n"
     ]
    }
   ],
   "source": [
    "initialise_database()\n",
    "exp = load_or_create_experiment(experiment_name='tutorial_exp', sample_name=\"no sample\")"
   ]
  },
  {
   "cell_type": "markdown",
   "metadata": {},
   "source": [
    "Here, we define a simple function to benchmark the time it takes to insert n points with either numeric or array data type.\n",
    "We will compare both the time used to call ``add_result`` and the time used for the full measurement."
   ]
  },
  {
   "cell_type": "code",
   "execution_count": 4,
   "metadata": {
    "execution": {
     "iopub.execute_input": "2020-12-30T07:01:22.223018Z",
     "iopub.status.busy": "2020-12-30T07:01:22.222521Z",
     "iopub.status.idle": "2020-12-30T07:01:22.225840Z",
     "shell.execute_reply": "2020-12-30T07:01:22.225266Z"
    }
   },
   "outputs": [],
   "source": [
    "def insert_data(paramtype, npoints, nreps=1):\n",
    "\n",
    "    meas = Measurement(exp=exp)\n",
    "\n",
    "    x1 = ManualParameter('x1')\n",
    "    x2 = ManualParameter('x2')\n",
    "    x3 = ManualParameter('x3')\n",
    "    y1 = ManualParameter('y1')\n",
    "    y2 = ManualParameter('y2')\n",
    "\n",
    "    meas.register_parameter(x1, paramtype=paramtype)\n",
    "    meas.register_parameter(x2, paramtype=paramtype)\n",
    "    meas.register_parameter(x3, paramtype=paramtype)\n",
    "    meas.register_parameter(y1, setpoints=[x1, x2, x3],\n",
    "                            paramtype=paramtype)\n",
    "    meas.register_parameter(y2, setpoints=[x1, x2, x3],\n",
    "                            paramtype=paramtype)\n",
    "    start = time.perf_counter()\n",
    "    with meas.run() as datasaver:\n",
    "        start_adding = time.perf_counter()\n",
    "        for i in range(nreps):\n",
    "            datasaver.add_result((x1, np.random.rand(npoints)),\n",
    "                                 (x2, np.random.rand(npoints)),\n",
    "                                 (x3, np.random.rand(npoints)),\n",
    "                                 (y1, np.random.rand(npoints)),\n",
    "                                 (y2, np.random.rand(npoints)))\n",
    "        stop_adding = time.perf_counter()\n",
    "        run_id = datasaver.run_id\n",
    "    stop = time.perf_counter()\n",
    "    tot_time = stop - start\n",
    "    add_time = stop_adding - start_adding\n",
    "    return tot_time, add_time, run_id"
   ]
  },
  {
   "cell_type": "markdown",
   "metadata": {},
   "source": [
    "## Comparison between numeric/array data and binary blob"
   ]
  },
  {
   "cell_type": "markdown",
   "metadata": {},
   "source": [
    "### Case1: Short experiment time"
   ]
  },
  {
   "cell_type": "code",
   "execution_count": 5,
   "metadata": {
    "execution": {
     "iopub.execute_input": "2020-12-30T07:01:22.231507Z",
     "iopub.status.busy": "2020-12-30T07:01:22.230481Z",
     "iopub.status.idle": "2020-12-30T07:01:22.996277Z",
     "shell.execute_reply": "2020-12-30T07:01:22.995772Z"
    }
   },
   "outputs": [
    {
     "name": "stdout",
     "output_type": "stream",
     "text": [
      "Starting experimental run with id: 1. \n",
      "Starting experimental run with id: 2. \n",
      "Starting experimental run with id: 3. \n",
      "Starting experimental run with id: 4. \n",
      "Starting experimental run with id: 5. \n"
     ]
    },
    {
     "name": "stdout",
     "output_type": "stream",
     "text": [
      "Starting experimental run with id: 6. \n"
     ]
    },
    {
     "name": "stdout",
     "output_type": "stream",
     "text": [
      "Starting experimental run with id: 7. \n"
     ]
    },
    {
     "name": "stdout",
     "output_type": "stream",
     "text": [
      "Starting experimental run with id: 8. \n",
      "Starting experimental run with id: 9. \n"
     ]
    },
    {
     "name": "stdout",
     "output_type": "stream",
     "text": [
      "Starting experimental run with id: 10. \n",
      "Starting experimental run with id: 11. \n"
     ]
    },
    {
     "name": "stdout",
     "output_type": "stream",
     "text": [
      "Starting experimental run with id: 12. \n",
      "Starting experimental run with id: 13. \n"
     ]
    },
    {
     "name": "stdout",
     "output_type": "stream",
     "text": [
      "Starting experimental run with id: 14. \n"
     ]
    }
   ],
   "source": [
    "sizes = [1,500,1000,2000,3000,4000,5000]\n",
    "t_numeric = []\n",
    "t_numeric_add = []\n",
    "t_array = []\n",
    "t_array_add = []\n",
    "for size in sizes:\n",
    "    tn, tna, run_id_n =  insert_data('numeric', size)\n",
    "    t_numeric.append(tn)\n",
    "    t_numeric_add.append(tna)\n",
    "\n",
    "    ta, taa, run_id_a =  insert_data('array', size)\n",
    "    t_array.append(ta)\n",
    "    t_array_add.append(taa)"
   ]
  },
  {
   "cell_type": "code",
   "execution_count": 6,
   "metadata": {
    "execution": {
     "iopub.execute_input": "2020-12-30T07:01:23.013170Z",
     "iopub.status.busy": "2020-12-30T07:01:23.012661Z",
     "iopub.status.idle": "2020-12-30T07:01:23.183390Z",
     "shell.execute_reply": "2020-12-30T07:01:23.184139Z"
    }
   },
   "outputs": [
    {
     "data": {
      "image/png": "[encoded data removed]",
      "text/plain": [
       "<Figure size 432x288 with 1 Axes>"
      ]
     },
     "metadata": {
      "needs_background": "light"
     },
     "output_type": "display_data"
    }
   ],
   "source": [
    "fig, ax = plt.subplots(1,1)\n",
    "ax.plot(sizes, t_numeric, 'o-', label='Inserting row-by-row')\n",
    "ax.plot(sizes, t_numeric_add, 'o-', label='Inserting row-by-row: add_result only')\n",
    "ax.plot(sizes, t_array, 'd-', label='Inserting as binary blob')\n",
    "ax.plot(sizes, t_array_add, 'd-', label='Inserting as binary blob: add_result only')\n",
    "ax.legend()\n",
    "ax.set_xlabel('Array length')\n",
    "ax.set_ylabel('Time (s)')\n",
    "fig.tight_layout()"
   ]
  },
  {
   "cell_type": "markdown",
   "metadata": {},
   "source": [
    "As shown in the latter figure, the time to setup and and close the experiment is approximately 0.4 sec. In case of small array sizes, the difference between inserting values of data as arrays and inserting them row-by-row is relatively unimportant. At larger array sizes, i.e. above 10000 points, the cost of writing data as individual datapoints starts to become important.\n"
   ]
  },
  {
   "cell_type": "markdown",
   "metadata": {},
   "source": [
    "### Case2: Long experiment time "
   ]
  },
  {
   "cell_type": "code",
   "execution_count": 7,
   "metadata": {
    "execution": {
     "iopub.execute_input": "2020-12-30T07:01:23.187574Z",
     "iopub.status.busy": "2020-12-30T07:01:23.186534Z",
     "iopub.status.idle": "2020-12-30T07:02:20.285685Z",
     "shell.execute_reply": "2020-12-30T07:02:20.285073Z"
    }
   },
   "outputs": [
    {
     "name": "stdout",
     "output_type": "stream",
     "text": [
      "Starting experimental run with id: 15. \n",
      "Starting experimental run with id: 16. \n",
      "Starting experimental run with id: 17. \n"
     ]
    },
    {
     "name": "stdout",
     "output_type": "stream",
     "text": [
      "Starting experimental run with id: 18. \n",
      "Starting experimental run with id: 19. \n"
     ]
    },
    {
     "name": "stdout",
     "output_type": "stream",
     "text": [
      "Starting experimental run with id: 20. \n"
     ]
    },
    {
     "name": "stdout",
     "output_type": "stream",
     "text": [
      "Starting experimental run with id: 21. \n"
     ]
    },
    {
     "name": "stdout",
     "output_type": "stream",
     "text": [
      "Starting experimental run with id: 22. \n"
     ]
    },
    {
     "name": "stdout",
     "output_type": "stream",
     "text": [
      "Starting experimental run with id: 23. \n"
     ]
    },
    {
     "name": "stdout",
     "output_type": "stream",
     "text": [
      "Starting experimental run with id: 24. \n"
     ]
    },
    {
     "name": "stdout",
     "output_type": "stream",
     "text": [
      "Starting experimental run with id: 25. \n"
     ]
    },
    {
     "name": "stdout",
     "output_type": "stream",
     "text": [
      "Starting experimental run with id: 26. \n"
     ]
    },
    {
     "name": "stdout",
     "output_type": "stream",
     "text": [
      "Starting experimental run with id: 27. \n"
     ]
    },
    {
     "name": "stdout",
     "output_type": "stream",
     "text": [
      "Starting experimental run with id: 28. \n"
     ]
    }
   ],
   "source": [
    "sizes = [1,500,1000,2000,3000,4000,5000]\n",
    "nreps = 100\n",
    "t_numeric = []\n",
    "t_numeric_add = []\n",
    "t_numeric_run_ids = []\n",
    "t_array = []\n",
    "t_array_add = []\n",
    "t_array_run_ids = []\n",
    "for size in sizes:\n",
    "    tn, tna, run_id_n =  insert_data('numeric', size, nreps=nreps)\n",
    "    t_numeric.append(tn)\n",
    "    t_numeric_add.append(tna)\n",
    "    t_numeric_run_ids.append(run_id_n)\n",
    "\n",
    "    ta, taa, run_id_a =  insert_data('array', size, nreps=nreps)\n",
    "    t_array.append(ta)\n",
    "    t_array_add.append(taa)\n",
    "    t_array_run_ids.append(run_id_a)"
   ]
  },
  {
   "cell_type": "code",
   "execution_count": 8,
   "metadata": {
    "execution": {
     "iopub.execute_input": "2020-12-30T07:02:20.314341Z",
     "iopub.status.busy": "2020-12-30T07:02:20.301066Z",
     "iopub.status.idle": "2020-12-30T07:02:20.478344Z",
     "shell.execute_reply": "2020-12-30T07:02:20.479125Z"
    },
    "scrolled": true
   },
   "outputs": [
    {
     "data": {
      "image/png": "[encoded data removed]",
      "text/plain": [
       "<Figure size 432x288 with 1 Axes>"
      ]
     },
     "metadata": {
      "needs_background": "light"
     },
     "output_type": "display_data"
    }
   ],
   "source": [
    "fig, ax = plt.subplots(1,1)\n",
    "ax.plot(sizes, t_numeric, 'o-', label='Inserting row-by-row')\n",
    "ax.plot(sizes, t_numeric_add, 'o-', label='Inserting row-by-row: add_result only')\n",
    "ax.plot(sizes, t_array, 'd-', label='Inserting as binary blob')\n",
    "ax.plot(sizes, t_array_add, 'd-', label='Inserting as binary blob: add_result only')\n",
    "ax.legend()\n",
    "ax.set_xlabel('Array length')\n",
    "ax.set_ylabel('Time (s)')\n",
    "fig.tight_layout()"
   ]
  },
  {
   "cell_type": "markdown",
   "metadata": {},
   "source": [
    "However, as we increase the length of the experiment, as seen here by repeating the insertion 100 times, we see a big difference between inserting values of the data row-by-row and inserting it as a binary blob."
   ]
  },
  {
   "cell_type": "markdown",
   "metadata": {},
   "source": [
    "## Loading the data "
   ]
  },
  {
   "cell_type": "code",
   "execution_count": 9,
   "metadata": {
    "execution": {
     "iopub.execute_input": "2020-12-30T07:02:20.482746Z",
     "iopub.status.busy": "2020-12-30T07:02:20.481491Z",
     "iopub.status.idle": "2020-12-30T07:02:20.486729Z",
     "shell.execute_reply": "2020-12-30T07:02:20.487145Z"
    }
   },
   "outputs": [],
   "source": [
    "from qcodes.dataset.data_set import load_by_id\n",
    "from qcodes.dataset.data_export import get_data_by_id"
   ]
  },
  {
   "cell_type": "markdown",
   "metadata": {},
   "source": [
    "As usual you can load the data by using the ``load_by_id`` function but you will notice that the different storage methods\n",
    "are reflected in shape of the data as it is retrieved. "
   ]
  },
  {
   "cell_type": "code",
   "execution_count": 10,
   "metadata": {
    "execution": {
     "iopub.execute_input": "2020-12-30T07:02:20.491198Z",
     "iopub.status.busy": "2020-12-30T07:02:20.490202Z",
     "iopub.status.idle": "2020-12-30T07:02:20.491816Z",
     "shell.execute_reply": "2020-12-30T07:02:20.492338Z"
    }
   },
   "outputs": [],
   "source": [
    "run_id_n = t_numeric_run_ids[0]\n",
    "run_id_a = t_array_run_ids[0]"
   ]
  },
  {
   "cell_type": "code",
   "execution_count": 11,
   "metadata": {
    "execution": {
     "iopub.execute_input": "2020-12-30T07:02:20.495393Z",
     "iopub.status.busy": "2020-12-30T07:02:20.494878Z",
     "iopub.status.idle": "2020-12-30T07:02:20.503999Z",
     "shell.execute_reply": "2020-12-30T07:02:20.503580Z"
    },
    "scrolled": true
   },
   "outputs": [
    {
     "data": {
      "text/plain": [
       "{'x1': {'x1': array([7.25104331e-01, 7.25104331e-01, 3.54110511e-01, 3.54110511e-01,\n",
       "         7.31273696e-01, 7.31273696e-01, 7.35445752e-01, 7.35445752e-01,\n",
       "         7.31459380e-01, 7.31459380e-01, 2.02399217e-02, 2.02399217e-02,\n",
       "         9.66277531e-01, 9.66277531e-01, 8.57776260e-03, 8.57776260e-03,\n",
       "         9.89175467e-01, 9.89175467e-01, 4.90751179e-01, 4.90751179e-01,\n",
       "         4.46779470e-02, 4.46779470e-02, 6.07075586e-01, 6.07075586e-01,\n",
       "         6.21872512e-02, 6.21872512e-02, 1.22231973e-02, 1.22231973e-02,\n",
       "         6.80666602e-01, 6.80666602e-01, 7.66394360e-01, 7.66394360e-01,\n",
       "         1.44311743e-01, 1.44311743e-01, 3.26635538e-01, 3.26635538e-01,\n",
       "         8.90975761e-01, 8.90975761e-01, 7.18412249e-01, 7.18412249e-01,\n",
       "         6.54353042e-01, 6.54353042e-01, 2.96998973e-01, 2.96998973e-01,\n",
       "         2.91265632e-01, 2.91265632e-01, 5.99783794e-01, 5.99783794e-01,\n",
       "         4.49196817e-01, 4.49196817e-01, 5.56754555e-01, 5.56754555e-01,\n",
       "         5.79424776e-01, 5.79424776e-01, 8.57878564e-01, 8.57878564e-01,\n",
       "         1.01346986e-01, 1.01346986e-01, 4.85087397e-01, 4.85087397e-01,\n",
       "         4.40580144e-01, 4.40580144e-01, 3.12136558e-01, 3.12136558e-01,\n",
       "         1.82103148e-01, 1.82103148e-01, 9.07615115e-01, 9.07615115e-01,\n",
       "         1.71874112e-01, 1.71874112e-01, 2.38393133e-01, 2.38393133e-01,\n",
       "         1.16421699e-01, 1.16421699e-01, 8.56200905e-02, 8.56200905e-02,\n",
       "         6.37576185e-01, 6.37576185e-01, 6.90153082e-01, 6.90153082e-01,\n",
       "         9.47836566e-01, 9.47836566e-01, 2.14362466e-01, 2.14362466e-01,\n",
       "         1.98116639e-01, 1.98116639e-01, 8.92388041e-02, 8.92388041e-02,\n",
       "         5.15419482e-02, 5.15419482e-02, 2.53594510e-01, 2.53594510e-01,\n",
       "         2.82435699e-01, 2.82435699e-01, 7.40906606e-01, 7.40906606e-01,\n",
       "         2.22255789e-01, 2.22255789e-01, 3.04236464e-01, 3.04236464e-01,\n",
       "         5.86934037e-01, 5.86934037e-01, 2.22429090e-01, 2.22429090e-01,\n",
       "         9.78251105e-01, 9.78251105e-01, 3.10096761e-01, 3.10096761e-01,\n",
       "         4.32023917e-01, 4.32023917e-01, 5.49778176e-01, 5.49778176e-01,\n",
       "         4.69528905e-01, 4.69528905e-01, 5.94870180e-01, 5.94870180e-01,\n",
       "         3.65666694e-01, 3.65666694e-01, 5.49886874e-01, 5.49886874e-01,\n",
       "         8.85409895e-03, 8.85409895e-03, 2.51793546e-01, 2.51793546e-01,\n",
       "         4.57522836e-01, 4.57522836e-01, 5.71293695e-01, 5.71293695e-01,\n",
       "         2.83255961e-01, 2.83255961e-01, 5.29866134e-01, 5.29866134e-01,\n",
       "         7.96615702e-01, 7.96615702e-01, 4.43275814e-02, 4.43275814e-02,\n",
       "         8.77208516e-01, 8.77208516e-01, 1.12723767e-01, 1.12723767e-01,\n",
       "         4.70654029e-04, 4.70654029e-04, 4.35191559e-01, 4.35191559e-01,\n",
       "         8.51619418e-01, 8.51619418e-01, 5.07449907e-01, 5.07449907e-01,\n",
       "         1.78217182e-01, 1.78217182e-01, 6.32641027e-01, 6.32641027e-01,\n",
       "         9.84422475e-01, 9.84422475e-01, 4.37397344e-01, 4.37397344e-01,\n",
       "         3.02537474e-01, 3.02537474e-01, 2.02789804e-01, 2.02789804e-01,\n",
       "         7.74281487e-01, 7.74281487e-01, 4.99412515e-01, 4.99412515e-01,\n",
       "         1.69955746e-01, 1.69955746e-01, 9.65140576e-01, 9.65140576e-01,\n",
       "         8.16026130e-02, 8.16026130e-02, 6.82957545e-01, 6.82957545e-01,\n",
       "         1.29349651e-01, 1.29349651e-01, 7.51209313e-01, 7.51209313e-01,\n",
       "         6.97964211e-01, 6.97964211e-01, 3.97931575e-01, 3.97931575e-01,\n",
       "         1.30139134e-01, 1.30139134e-01, 3.39702102e-01, 3.39702102e-01,\n",
       "         3.33951786e-02, 3.33951786e-02, 8.23483545e-01, 8.23483545e-01,\n",
       "         1.44451309e-01, 1.44451309e-01, 7.54527018e-01, 7.54527018e-01,\n",
       "         7.42102557e-01, 7.42102557e-01, 5.03166835e-01, 5.03166835e-01,\n",
       "         9.09922221e-01, 9.09922221e-01, 1.57933373e-01, 1.57933373e-01])}}"
      ]
     },
     "execution_count": 1,
     "metadata": {},
     "output_type": "execute_result"
    }
   ],
   "source": [
    "ds = load_by_id(run_id_n)\n",
    "ds.get_parameter_data('x1')"
   ]
  },
  {
   "cell_type": "markdown",
   "metadata": {},
   "source": [
    "And a dataset stored as binary arrays"
   ]
  },
  {
   "cell_type": "code",
   "execution_count": 12,
   "metadata": {
    "execution": {
     "iopub.execute_input": "2020-12-30T07:02:20.507032Z",
     "iopub.status.busy": "2020-12-30T07:02:20.506562Z",
     "iopub.status.idle": "2020-12-30T07:02:20.560290Z",
     "shell.execute_reply": "2020-12-30T07:02:20.561227Z"
    },
    "scrolled": true
   },
   "outputs": [
    {
     "data": {
      "text/plain": [
       "{'x1': {'x1': array([[0.63576548],\n",
       "         [0.63576548],\n",
       "         [0.79597292],\n",
       "         [0.79597292],\n",
       "         [0.31457624],\n",
       "         [0.31457624],\n",
       "         [0.73194242],\n",
       "         [0.73194242],\n",
       "         [0.01214348],\n",
       "         [0.01214348],\n",
       "         [0.58055726],\n",
       "         [0.58055726],\n",
       "         [0.74299357],\n",
       "         [0.74299357],\n",
       "         [0.13127952],\n",
       "         [0.13127952],\n",
       "         [0.79358539],\n",
       "         [0.79358539],\n",
       "         [0.83842316],\n",
       "         [0.83842316],\n",
       "         [0.84876228],\n",
       "         [0.84876228],\n",
       "         [0.49323643],\n",
       "         [0.49323643],\n",
       "         [0.68252018],\n",
       "         [0.68252018],\n",
       "         [0.12308553],\n",
       "         [0.12308553],\n",
       "         [0.68987745],\n",
       "         [0.68987745],\n",
       "         [0.74769327],\n",
       "         [0.74769327],\n",
       "         [0.16065033],\n",
       "         [0.16065033],\n",
       "         [0.9147884 ],\n",
       "         [0.9147884 ],\n",
       "         [0.42259372],\n",
       "         [0.42259372],\n",
       "         [0.23788589],\n",
       "         [0.23788589],\n",
       "         [0.44614162],\n",
       "         [0.44614162],\n",
       "         [0.77834705],\n",
       "         [0.77834705],\n",
       "         [0.83176153],\n",
       "         [0.83176153],\n",
       "         [0.13062431],\n",
       "         [0.13062431],\n",
       "         [0.85957594],\n",
       "         [0.85957594],\n",
       "         [0.80105532],\n",
       "         [0.80105532],\n",
       "         [0.99693643],\n",
       "         [0.99693643],\n",
       "         [0.65589013],\n",
       "         [0.65589013],\n",
       "         [0.65362848],\n",
       "         [0.65362848],\n",
       "         [0.15981287],\n",
       "         [0.15981287],\n",
       "         [0.70530617],\n",
       "         [0.70530617],\n",
       "         [0.43562672],\n",
       "         [0.43562672],\n",
       "         [0.12488923],\n",
       "         [0.12488923],\n",
       "         [0.64685928],\n",
       "         [0.64685928],\n",
       "         [0.39324156],\n",
       "         [0.39324156],\n",
       "         [0.32353671],\n",
       "         [0.32353671],\n",
       "         [0.30986253],\n",
       "         [0.30986253],\n",
       "         [0.03941177],\n",
       "         [0.03941177],\n",
       "         [0.6647221 ],\n",
       "         [0.6647221 ],\n",
       "         [0.29402756],\n",
       "         [0.29402756],\n",
       "         [0.82154275],\n",
       "         [0.82154275],\n",
       "         [0.67581039],\n",
       "         [0.67581039],\n",
       "         [0.30810612],\n",
       "         [0.30810612],\n",
       "         [0.93667106],\n",
       "         [0.93667106],\n",
       "         [0.22361494],\n",
       "         [0.22361494],\n",
       "         [0.69811838],\n",
       "         [0.69811838],\n",
       "         [0.5984306 ],\n",
       "         [0.5984306 ],\n",
       "         [0.99927733],\n",
       "         [0.99927733],\n",
       "         [0.95979422],\n",
       "         [0.95979422],\n",
       "         [0.37026361],\n",
       "         [0.37026361],\n",
       "         [0.35895487],\n",
       "         [0.35895487],\n",
       "         [0.41352602],\n",
       "         [0.41352602],\n",
       "         [0.05237674],\n",
       "         [0.05237674],\n",
       "         [0.01512366],\n",
       "         [0.01512366],\n",
       "         [0.88897814],\n",
       "         [0.88897814],\n",
       "         [0.97328259],\n",
       "         [0.97328259],\n",
       "         [0.91055208],\n",
       "         [0.91055208],\n",
       "         [0.00685012],\n",
       "         [0.00685012],\n",
       "         [0.90906449],\n",
       "         [0.90906449],\n",
       "         [0.67597764],\n",
       "         [0.67597764],\n",
       "         [0.89908815],\n",
       "         [0.89908815],\n",
       "         [0.3695131 ],\n",
       "         [0.3695131 ],\n",
       "         [0.43694668],\n",
       "         [0.43694668],\n",
       "         [0.43682347],\n",
       "         [0.43682347],\n",
       "         [0.70160489],\n",
       "         [0.70160489],\n",
       "         [0.49571159],\n",
       "         [0.49571159],\n",
       "         [0.87392866],\n",
       "         [0.87392866],\n",
       "         [0.40485096],\n",
       "         [0.40485096],\n",
       "         [0.63807644],\n",
       "         [0.63807644],\n",
       "         [0.2067911 ],\n",
       "         [0.2067911 ],\n",
       "         [0.26770322],\n",
       "         [0.26770322],\n",
       "         [0.17057221],\n",
       "         [0.17057221],\n",
       "         [0.85706594],\n",
       "         [0.85706594],\n",
       "         [0.78103692],\n",
       "         [0.78103692],\n",
       "         [0.79692474],\n",
       "         [0.79692474],\n",
       "         [0.3805096 ],\n",
       "         [0.3805096 ],\n",
       "         [0.77982301],\n",
       "         [0.77982301],\n",
       "         [0.56859817],\n",
       "         [0.56859817],\n",
       "         [0.14787403],\n",
       "         [0.14787403],\n",
       "         [0.64677046],\n",
       "         [0.64677046],\n",
       "         [0.85604155],\n",
       "         [0.85604155],\n",
       "         [0.95516152],\n",
       "         [0.95516152],\n",
       "         [0.00424045],\n",
       "         [0.00424045],\n",
       "         [0.564428  ],\n",
       "         [0.564428  ],\n",
       "         [0.36317757],\n",
       "         [0.36317757],\n",
       "         [0.97035854],\n",
       "         [0.97035854],\n",
       "         [0.68903371],\n",
       "         [0.68903371],\n",
       "         [0.72373003],\n",
       "         [0.72373003],\n",
       "         [0.67033349],\n",
       "         [0.67033349],\n",
       "         [0.12114607],\n",
       "         [0.12114607],\n",
       "         [0.83766259],\n",
       "         [0.83766259],\n",
       "         [0.49923966],\n",
       "         [0.49923966],\n",
       "         [0.48523946],\n",
       "         [0.48523946],\n",
       "         [0.43826856],\n",
       "         [0.43826856],\n",
       "         [0.04887807],\n",
       "         [0.04887807],\n",
       "         [0.47882046],\n",
       "         [0.47882046],\n",
       "         [0.63378781],\n",
       "         [0.63378781],\n",
       "         [0.37000526],\n",
       "         [0.37000526],\n",
       "         [0.39616535],\n",
       "         [0.39616535],\n",
       "         [0.89267817],\n",
       "         [0.89267817]])}}"
      ]
     },
     "execution_count": 1,
     "metadata": {},
     "output_type": "execute_result"
    }
   ],
   "source": [
    "ds = load_by_id(run_id_a)\n",
    "ds.get_parameter_data('x1')"
   ]
  },
  {
   "cell_type": "code",
   "execution_count": null,
   "metadata": {},
   "outputs": [],
   "source": []
  }
 ],
 "metadata": {
  "kernelspec": {
   "display_name": "Python 3",
   "language": "python",
   "name": "python3"
  },
  "language_info": {
   "codemirror_mode": {
    "name": "ipython",
    "version": 3
   },
   "file_extension": ".py",
   "mimetype": "text/x-python",
   "name": "python",
   "nbconvert_exporter": "python",
   "pygments_lexer": "ipython3",
   "version": "3.7.9"
  },
  "nbsphinx": {
   "timeout": 600
  },
  "toc": {
   "base_numbering": 1,
   "nav_menu": {},
   "number_sections": true,
   "sideBar": true,
   "skip_h1_title": false,
   "title_cell": "Table of Contents",
   "title_sidebar": "Contents",
   "toc_cell": false,
   "toc_position": {},
   "toc_section_display": true,
   "toc_window_display": false
  },
  "varInspector": {
   "cols": {
    "lenName": 16,
    "lenType": 16,
    "lenVar": 40
   },
   "kernels_config": {
    "python": {
     "delete_cmd_postfix": "",
     "delete_cmd_prefix": "del ",
     "library": "var_list.py",
     "varRefreshCmd": "print(var_dic_list())"
    },
    "r": {
     "delete_cmd_postfix": ") ",
     "delete_cmd_prefix": "rm(",
     "library": "var_list.r",
     "varRefreshCmd": "cat(var_dic_list()) "
    }
   },
   "types_to_exclude": [
    "module",
    "function",
    "builtin_function_or_method",
    "instance",
    "_Feature"
   ],
   "window_display": false
  }
 },
 "nbformat": 4,
 "nbformat_minor": 2
}
