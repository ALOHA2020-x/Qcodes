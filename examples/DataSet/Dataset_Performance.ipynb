{
 "cells": [
  {
   "cell_type": "markdown",
   "metadata": {},
   "source": [
    "# DataSet Performance\n",
    "\n",
    "This notebook shows the trade-off between inserting data into a database row-by-row and as binary blobs. Inserting the data row-by-row means that we have direct access to all the data and may perform queries directly on the values of the data. On the other hand, as we shall see, this is much slower than inserting the data directly as binary blobs."
   ]
  },
  {
   "cell_type": "markdown",
   "metadata": {},
   "source": [
    "First, we choose a new location for the database to ensure that we don't add a bunch of benchmarking data to the default one."
   ]
  },
  {
   "cell_type": "code",
   "execution_count": 1,
   "metadata": {
    "execution": {
     "iopub.execute_input": "2020-11-02T14:46:25.959622Z",
     "iopub.status.busy": "2020-11-02T14:46:25.959029Z",
     "iopub.status.idle": "2020-11-02T14:46:26.985793Z",
     "shell.execute_reply": "2020-11-02T14:46:26.984802Z"
    }
   },
   "outputs": [
    {
     "name": "stdout",
     "output_type": "stream",
     "text": [
      "Logging hadn't been started.\n",
      "Activating auto-logging. Current session state plus future input saved.\n",
      "Filename       : /home/vsts/.qcodes/logs/command_history.log\n",
      "Mode           : append\n",
      "Output logging : True\n",
      "Raw input log  : False\n",
      "Timestamping   : True\n",
      "State          : active\n"
     ]
    },
    {
     "name": "stdout",
     "output_type": "stream",
     "text": [
      "Qcodes Logfile : /home/vsts/.qcodes/logs/201102-14642-qcodes.log\n"
     ]
    }
   ],
   "source": [
    "import os\n",
    "cwd = os.getcwd()\n",
    "import qcodes as qc\n",
    "qc.config[\"core\"][\"db_location\"] = os.path.join(cwd, 'testing.db')\n"
   ]
  },
  {
   "cell_type": "code",
   "execution_count": 2,
   "metadata": {
    "execution": {
     "iopub.execute_input": "2020-11-02T14:46:26.993233Z",
     "iopub.status.busy": "2020-11-02T14:46:26.992635Z",
     "iopub.status.idle": "2020-11-02T14:46:27.180685Z",
     "shell.execute_reply": "2020-11-02T14:46:27.179786Z"
    }
   },
   "outputs": [],
   "source": [
    "%matplotlib inline\n",
    "import time\n",
    "import matplotlib.pyplot as plt\n",
    "import numpy as np\n",
    "\n",
    "import qcodes as qc\n",
    "from qcodes.instrument.parameter import ManualParameter\n",
    "from qcodes.dataset.experiment_container import (Experiment,\n",
    "                                                 load_last_experiment,\n",
    "                                                 new_experiment)\n",
    "from qcodes.dataset.sqlite.database import initialise_database\n",
    "from qcodes import load_or_create_experiment\n",
    "from qcodes.dataset.measurements import Measurement"
   ]
  },
  {
   "cell_type": "code",
   "execution_count": 3,
   "metadata": {
    "execution": {
     "iopub.execute_input": "2020-11-02T14:46:27.185171Z",
     "iopub.status.busy": "2020-11-02T14:46:27.184390Z",
     "iopub.status.idle": "2020-11-02T14:46:27.301740Z",
     "shell.execute_reply": "2020-11-02T14:46:27.302141Z"
    }
   },
   "outputs": [
    {
     "name": "stdout",
     "output_type": "stream",
     "text": [
      "\r",
      "0it [00:00, ?it/s]"
     ]
    },
    {
     "name": "stdout",
     "output_type": "stream",
     "text": [
      "\r",
      "Upgrading database; v0 -> v1: : 0it [00:00, ?it/s]"
     ]
    },
    {
     "name": "stdout",
     "output_type": "stream",
     "text": [
      "\r",
      "Upgrading database; v0 -> v1: : 0it [00:00, ?it/s]"
     ]
    },
    {
     "name": "stdout",
     "output_type": "stream",
     "text": [
      "\n",
      "\r",
      "  0%|          | 0/1 [00:00<?, ?it/s]"
     ]
    },
    {
     "name": "stdout",
     "output_type": "stream",
     "text": [
      "\r",
      "Upgrading database; v1 -> v2:   0%|          | 0/1 [00:00<?, ?it/s]"
     ]
    },
    {
     "name": "stdout",
     "output_type": "stream",
     "text": [
      "\r",
      "Upgrading database; v1 -> v2: 100%|██████████| 1/1 [00:00<00:00, 567.49it/s]"
     ]
    },
    {
     "name": "stdout",
     "output_type": "stream",
     "text": [
      "\n",
      "\r",
      "0it [00:00, ?it/s]"
     ]
    },
    {
     "name": "stdout",
     "output_type": "stream",
     "text": [
      "\r",
      "Upgrading database; v2 -> v3: : 0it [00:00, ?it/s]"
     ]
    },
    {
     "name": "stdout",
     "output_type": "stream",
     "text": [
      "\r",
      "Upgrading database; v2 -> v3: : 0it [00:00, ?it/s]"
     ]
    },
    {
     "name": "stdout",
     "output_type": "stream",
     "text": [
      "\n",
      "\r",
      "0it [00:00, ?it/s]"
     ]
    },
    {
     "name": "stdout",
     "output_type": "stream",
     "text": [
      "\r",
      "Upgrading database; v3 -> v4: : 0it [00:00, ?it/s]"
     ]
    },
    {
     "name": "stdout",
     "output_type": "stream",
     "text": [
      "\r",
      "Upgrading database; v3 -> v4: : 0it [00:00, ?it/s]"
     ]
    },
    {
     "name": "stdout",
     "output_type": "stream",
     "text": [
      "\n",
      "\r",
      "  0%|          | 0/1 [00:00<?, ?it/s]"
     ]
    },
    {
     "name": "stdout",
     "output_type": "stream",
     "text": [
      "\r",
      "Upgrading database; v4 -> v5:   0%|          | 0/1 [00:00<?, ?it/s]"
     ]
    },
    {
     "name": "stdout",
     "output_type": "stream",
     "text": [
      "\r",
      "Upgrading database; v4 -> v5: 100%|██████████| 1/1 [00:00<00:00, 561.11it/s]"
     ]
    },
    {
     "name": "stdout",
     "output_type": "stream",
     "text": [
      "\n",
      "\r",
      "0it [00:00, ?it/s]"
     ]
    },
    {
     "name": "stdout",
     "output_type": "stream",
     "text": [
      "\r",
      "Upgrading database; v5 -> v6: : 0it [00:00, ?it/s]"
     ]
    },
    {
     "name": "stdout",
     "output_type": "stream",
     "text": [
      "\r",
      "Upgrading database; v5 -> v6: : 0it [00:00, ?it/s]"
     ]
    },
    {
     "name": "stdout",
     "output_type": "stream",
     "text": [
      "\n",
      "\r",
      "  0%|          | 0/1 [00:00<?, ?it/s]"
     ]
    },
    {
     "name": "stdout",
     "output_type": "stream",
     "text": [
      "\r",
      "Upgrading database; v6 -> v7:   0%|          | 0/1 [00:00<?, ?it/s]"
     ]
    },
    {
     "name": "stdout",
     "output_type": "stream",
     "text": [
      "\r",
      "Upgrading database; v6 -> v7: 100%|██████████| 1/1 [00:00<00:00, 257.60it/s]"
     ]
    },
    {
     "name": "stdout",
     "output_type": "stream",
     "text": [
      "\n",
      "\r",
      "  0%|          | 0/1 [00:00<?, ?it/s]"
     ]
    },
    {
     "name": "stdout",
     "output_type": "stream",
     "text": [
      "\r",
      "Upgrading database; v7 -> v8:   0%|          | 0/1 [00:00<?, ?it/s]"
     ]
    },
    {
     "name": "stdout",
     "output_type": "stream",
     "text": [
      "\r",
      "Upgrading database; v7 -> v8: 100%|██████████| 1/1 [00:00<00:00, 544.86it/s]"
     ]
    },
    {
     "name": "stdout",
     "output_type": "stream",
     "text": [
      "\n",
      "\r",
      "  0%|          | 0/1 [00:00<?, ?it/s]"
     ]
    },
    {
     "name": "stdout",
     "output_type": "stream",
     "text": [
      "\r",
      "Upgrading database; v8 -> v9:   0%|          | 0/1 [00:00<?, ?it/s]"
     ]
    },
    {
     "name": "stdout",
     "output_type": "stream",
     "text": [
      "\r",
      "Upgrading database; v8 -> v9: 100%|██████████| 1/1 [00:00<00:00, 1065.90it/s]"
     ]
    },
    {
     "name": "stdout",
     "output_type": "stream",
     "text": [
      "\n"
     ]
    }
   ],
   "source": [
    "initialise_database()\n",
    "exp = load_or_create_experiment(experiment_name='tutorial_exp', sample_name=\"no sample\")"
   ]
  },
  {
   "cell_type": "markdown",
   "metadata": {},
   "source": [
    "Here, we define a simple function to benchmark the time it takes to insert n points with either numeric or array data type.\n",
    "We will compare both the time used to call ``add_result`` and the time used for the full measurement."
   ]
  },
  {
   "cell_type": "code",
   "execution_count": 4,
   "metadata": {
    "execution": {
     "iopub.execute_input": "2020-11-02T14:46:27.310626Z",
     "iopub.status.busy": "2020-11-02T14:46:27.310045Z",
     "iopub.status.idle": "2020-11-02T14:46:27.314877Z",
     "shell.execute_reply": "2020-11-02T14:46:27.314398Z"
    }
   },
   "outputs": [],
   "source": [
    "def insert_data(paramtype, npoints, nreps=1):\n",
    "\n",
    "    meas = Measurement(exp=exp)\n",
    "\n",
    "    x1 = ManualParameter('x1')\n",
    "    x2 = ManualParameter('x2')\n",
    "    x3 = ManualParameter('x3')\n",
    "    y1 = ManualParameter('y1')\n",
    "    y2 = ManualParameter('y2')\n",
    "\n",
    "    meas.register_parameter(x1, paramtype=paramtype)\n",
    "    meas.register_parameter(x2, paramtype=paramtype)\n",
    "    meas.register_parameter(x3, paramtype=paramtype)\n",
    "    meas.register_parameter(y1, setpoints=[x1, x2, x3],\n",
    "                            paramtype=paramtype)\n",
    "    meas.register_parameter(y2, setpoints=[x1, x2, x3],\n",
    "                            paramtype=paramtype)\n",
    "    start = time.perf_counter()\n",
    "    with meas.run() as datasaver:\n",
    "        start_adding = time.perf_counter()\n",
    "        for i in range(nreps):\n",
    "            datasaver.add_result((x1, np.random.rand(npoints)),\n",
    "                                 (x2, np.random.rand(npoints)),\n",
    "                                 (x3, np.random.rand(npoints)),\n",
    "                                 (y1, np.random.rand(npoints)),\n",
    "                                 (y2, np.random.rand(npoints)))\n",
    "        stop_adding = time.perf_counter()\n",
    "        run_id = datasaver.run_id\n",
    "    stop = time.perf_counter()\n",
    "    tot_time = stop - start\n",
    "    add_time = stop_adding - start_adding\n",
    "    return tot_time, add_time, run_id"
   ]
  },
  {
   "cell_type": "markdown",
   "metadata": {},
   "source": [
    "## Comparison between numeric/array data and binary blob"
   ]
  },
  {
   "cell_type": "markdown",
   "metadata": {},
   "source": [
    "### Case1: Short experiment time"
   ]
  },
  {
   "cell_type": "code",
   "execution_count": 5,
   "metadata": {
    "execution": {
     "iopub.execute_input": "2020-11-02T14:46:27.321789Z",
     "iopub.status.busy": "2020-11-02T14:46:27.321226Z",
     "iopub.status.idle": "2020-11-02T14:46:28.133943Z",
     "shell.execute_reply": "2020-11-02T14:46:28.133157Z"
    }
   },
   "outputs": [
    {
     "name": "stdout",
     "output_type": "stream",
     "text": [
      "Starting experimental run with id: 1. \n",
      "Starting experimental run with id: 2. \n",
      "Starting experimental run with id: 3. \n",
      "Starting experimental run with id: 4. \n",
      "Starting experimental run with id: 5. \n"
     ]
    },
    {
     "name": "stdout",
     "output_type": "stream",
     "text": [
      "Starting experimental run with id: 6. \n"
     ]
    },
    {
     "name": "stdout",
     "output_type": "stream",
     "text": [
      "Starting experimental run with id: 7. \n"
     ]
    },
    {
     "name": "stdout",
     "output_type": "stream",
     "text": [
      "Starting experimental run with id: 8. \n",
      "Starting experimental run with id: 9. \n"
     ]
    },
    {
     "name": "stdout",
     "output_type": "stream",
     "text": [
      "Starting experimental run with id: 10. \n",
      "Starting experimental run with id: 11. \n"
     ]
    },
    {
     "name": "stdout",
     "output_type": "stream",
     "text": [
      "Starting experimental run with id: 12. \n",
      "Starting experimental run with id: 13. \n"
     ]
    },
    {
     "name": "stdout",
     "output_type": "stream",
     "text": [
      "Starting experimental run with id: 14. \n"
     ]
    }
   ],
   "source": [
    "sizes = [1,500,1000,2000,3000,4000,5000]\n",
    "t_numeric = []\n",
    "t_numeric_add = []\n",
    "t_array = []\n",
    "t_array_add = []\n",
    "for size in sizes:\n",
    "    tn, tna, run_id_n =  insert_data('numeric', size)\n",
    "    t_numeric.append(tn)\n",
    "    t_numeric_add.append(tna)\n",
    "\n",
    "    ta, taa, run_id_a =  insert_data('array', size)\n",
    "    t_array.append(ta)\n",
    "    t_array_add.append(taa)"
   ]
  },
  {
   "cell_type": "code",
   "execution_count": 6,
   "metadata": {
    "execution": {
     "iopub.execute_input": "2020-11-02T14:46:28.175799Z",
     "iopub.status.busy": "2020-11-02T14:46:28.163671Z",
     "iopub.status.idle": "2020-11-02T14:46:28.331050Z",
     "shell.execute_reply": "2020-11-02T14:46:28.331846Z"
    }
   },
   "outputs": [
    {
     "data": {
      "image/png": "[encoded data removed]",
      "text/plain": [
       "<Figure size 432x288 with 1 Axes>"
      ]
     },
     "metadata": {
      "needs_background": "light"
     },
     "output_type": "display_data"
    }
   ],
   "source": [
    "fig, ax = plt.subplots(1,1)\n",
    "ax.plot(sizes, t_numeric, 'o-', label='Inserting row-by-row')\n",
    "ax.plot(sizes, t_numeric_add, 'o-', label='Inserting row-by-row: add_result only')\n",
    "ax.plot(sizes, t_array, 'd-', label='Inserting as binary blob')\n",
    "ax.plot(sizes, t_array_add, 'd-', label='Inserting as binary blob: add_result only')\n",
    "ax.legend()\n",
    "ax.set_xlabel('Array length')\n",
    "ax.set_ylabel('Time (s)')\n",
    "fig.tight_layout()"
   ]
  },
  {
   "cell_type": "markdown",
   "metadata": {},
   "source": [
    "As shown in the latter figure, the time to setup and and close the experiment is approximately 0.4 sec. In case of small array sizes, the difference between inserting values of data as arrays and inserting them row-by-row is relatively unimportant. At larger array sizes, i.e. above 10000 points, the cost of writing data as individual datapoints starts to become important.\n"
   ]
  },
  {
   "cell_type": "markdown",
   "metadata": {},
   "source": [
    "### Case2: Long experiment time "
   ]
  },
  {
   "cell_type": "code",
   "execution_count": 7,
   "metadata": {
    "execution": {
     "iopub.execute_input": "2020-11-02T14:46:28.335477Z",
     "iopub.status.busy": "2020-11-02T14:46:28.334348Z",
     "iopub.status.idle": "2020-11-02T14:47:29.984227Z",
     "shell.execute_reply": "2020-11-02T14:47:29.983058Z"
    }
   },
   "outputs": [
    {
     "name": "stdout",
     "output_type": "stream",
     "text": [
      "Starting experimental run with id: 15. \n",
      "Starting experimental run with id: 16. \n",
      "Starting experimental run with id: 17. \n"
     ]
    },
    {
     "name": "stdout",
     "output_type": "stream",
     "text": [
      "Starting experimental run with id: 18. \n",
      "Starting experimental run with id: 19. \n"
     ]
    },
    {
     "name": "stdout",
     "output_type": "stream",
     "text": [
      "Starting experimental run with id: 20. \n"
     ]
    },
    {
     "name": "stdout",
     "output_type": "stream",
     "text": [
      "Starting experimental run with id: 21. \n"
     ]
    },
    {
     "name": "stdout",
     "output_type": "stream",
     "text": [
      "Starting experimental run with id: 22. \n"
     ]
    },
    {
     "name": "stdout",
     "output_type": "stream",
     "text": [
      "Starting experimental run with id: 23. \n"
     ]
    },
    {
     "name": "stdout",
     "output_type": "stream",
     "text": [
      "Starting experimental run with id: 24. \n"
     ]
    },
    {
     "name": "stdout",
     "output_type": "stream",
     "text": [
      "Starting experimental run with id: 25. \n"
     ]
    },
    {
     "name": "stdout",
     "output_type": "stream",
     "text": [
      "Starting experimental run with id: 26. \n"
     ]
    },
    {
     "name": "stdout",
     "output_type": "stream",
     "text": [
      "Starting experimental run with id: 27. \n"
     ]
    },
    {
     "name": "stdout",
     "output_type": "stream",
     "text": [
      "Starting experimental run with id: 28. \n"
     ]
    }
   ],
   "source": [
    "sizes = [1,500,1000,2000,3000,4000,5000]\n",
    "nreps = 100\n",
    "t_numeric = []\n",
    "t_numeric_add = []\n",
    "t_numeric_run_ids = []\n",
    "t_array = []\n",
    "t_array_add = []\n",
    "t_array_run_ids = []\n",
    "for size in sizes:\n",
    "    tn, tna, run_id_n =  insert_data('numeric', size, nreps=nreps)\n",
    "    t_numeric.append(tn)\n",
    "    t_numeric_add.append(tna)\n",
    "    t_numeric_run_ids.append(run_id_n)\n",
    "\n",
    "    ta, taa, run_id_a =  insert_data('array', size, nreps=nreps)\n",
    "    t_array.append(ta)\n",
    "    t_array_add.append(taa)\n",
    "    t_array_run_ids.append(run_id_a)"
   ]
  },
  {
   "cell_type": "code",
   "execution_count": 8,
   "metadata": {
    "execution": {
     "iopub.execute_input": "2020-11-02T14:47:30.023581Z",
     "iopub.status.busy": "2020-11-02T14:47:30.022940Z",
     "iopub.status.idle": "2020-11-02T14:47:30.186201Z",
     "shell.execute_reply": "2020-11-02T14:47:30.186902Z"
    },
    "scrolled": true
   },
   "outputs": [
    {
     "data": {
      "image/png": "[encoded data removed]",
      "text/plain": [
       "<Figure size 432x288 with 1 Axes>"
      ]
     },
     "metadata": {
      "needs_background": "light"
     },
     "output_type": "display_data"
    }
   ],
   "source": [
    "fig, ax = plt.subplots(1,1)\n",
    "ax.plot(sizes, t_numeric, 'o-', label='Inserting row-by-row')\n",
    "ax.plot(sizes, t_numeric_add, 'o-', label='Inserting row-by-row: add_result only')\n",
    "ax.plot(sizes, t_array, 'd-', label='Inserting as binary blob')\n",
    "ax.plot(sizes, t_array_add, 'd-', label='Inserting as binary blob: add_result only')\n",
    "ax.legend()\n",
    "ax.set_xlabel('Array length')\n",
    "ax.set_ylabel('Time (s)')\n",
    "fig.tight_layout()"
   ]
  },
  {
   "cell_type": "markdown",
   "metadata": {},
   "source": [
    "However, as we increase the length of the experiment, as seen here by repeating the insertion 100 times, we see a big difference between inserting values of the data row-by-row and inserting it as a binary blob."
   ]
  },
  {
   "cell_type": "markdown",
   "metadata": {},
   "source": [
    "## Loading the data "
   ]
  },
  {
   "cell_type": "code",
   "execution_count": 9,
   "metadata": {
    "execution": {
     "iopub.execute_input": "2020-11-02T14:47:30.191763Z",
     "iopub.status.busy": "2020-11-02T14:47:30.190965Z",
     "iopub.status.idle": "2020-11-02T14:47:30.194071Z",
     "shell.execute_reply": "2020-11-02T14:47:30.193644Z"
    }
   },
   "outputs": [],
   "source": [
    "from qcodes.dataset.data_set import load_by_id\n",
    "from qcodes.dataset.data_export import get_data_by_id"
   ]
  },
  {
   "cell_type": "markdown",
   "metadata": {},
   "source": [
    "As usual you can load the data by using the ``load_by_id`` function but you will notice that the different storage methods\n",
    "are reflected in shape of the data as it is retrieved. "
   ]
  },
  {
   "cell_type": "code",
   "execution_count": 10,
   "metadata": {
    "execution": {
     "iopub.execute_input": "2020-11-02T14:47:30.197189Z",
     "iopub.status.busy": "2020-11-02T14:47:30.196633Z",
     "iopub.status.idle": "2020-11-02T14:47:30.199299Z",
     "shell.execute_reply": "2020-11-02T14:47:30.198833Z"
    }
   },
   "outputs": [],
   "source": [
    "run_id_n = t_numeric_run_ids[0]\n",
    "run_id_a = t_array_run_ids[0]"
   ]
  },
  {
   "cell_type": "code",
   "execution_count": 11,
   "metadata": {
    "execution": {
     "iopub.execute_input": "2020-11-02T14:47:30.201748Z",
     "iopub.status.busy": "2020-11-02T14:47:30.201225Z",
     "iopub.status.idle": "2020-11-02T14:47:30.213219Z",
     "shell.execute_reply": "2020-11-02T14:47:30.213684Z"
    },
    "scrolled": true
   },
   "outputs": [
    {
     "data": {
      "text/plain": [
       "{'x1': {'x1': array([0.23060135, 0.23060135, 0.05931461, 0.05931461, 0.18885475,\n",
       "         0.18885475, 0.08370564, 0.08370564, 0.48507479, 0.48507479,\n",
       "         0.74212204, 0.74212204, 0.92746418, 0.92746418, 0.04174364,\n",
       "         0.04174364, 0.5900873 , 0.5900873 , 0.30268128, 0.30268128,\n",
       "         0.12390285, 0.12390285, 0.31798968, 0.31798968, 0.34881831,\n",
       "         0.34881831, 0.31603692, 0.31603692, 0.76328957, 0.76328957,\n",
       "         0.23841064, 0.23841064, 0.10488332, 0.10488332, 0.41401731,\n",
       "         0.41401731, 0.41333592, 0.41333592, 0.60555457, 0.60555457,\n",
       "         0.71875193, 0.71875193, 0.30035102, 0.30035102, 0.54727182,\n",
       "         0.54727182, 0.9552304 , 0.9552304 , 0.64635253, 0.64635253,\n",
       "         0.15844003, 0.15844003, 0.09240548, 0.09240548, 0.40264896,\n",
       "         0.40264896, 0.41105126, 0.41105126, 0.19926764, 0.19926764,\n",
       "         0.09263149, 0.09263149, 0.15027005, 0.15027005, 0.32832093,\n",
       "         0.32832093, 0.15247699, 0.15247699, 0.32106884, 0.32106884,\n",
       "         0.33375861, 0.33375861, 0.66790824, 0.66790824, 0.22148415,\n",
       "         0.22148415, 0.79056238, 0.79056238, 0.6069831 , 0.6069831 ,\n",
       "         0.78289665, 0.78289665, 0.0404757 , 0.0404757 , 0.6541005 ,\n",
       "         0.6541005 , 0.77450608, 0.77450608, 0.97687546, 0.97687546,\n",
       "         0.67825104, 0.67825104, 0.6232807 , 0.6232807 , 0.17710458,\n",
       "         0.17710458, 0.34870167, 0.34870167, 0.01466468, 0.01466468,\n",
       "         0.62955651, 0.62955651, 0.92749401, 0.92749401, 0.98183088,\n",
       "         0.98183088, 0.38102016, 0.38102016, 0.70912709, 0.70912709,\n",
       "         0.33026346, 0.33026346, 0.5939085 , 0.5939085 , 0.58480288,\n",
       "         0.58480288, 0.13440988, 0.13440988, 0.51344152, 0.51344152,\n",
       "         0.46342823, 0.46342823, 0.36909621, 0.36909621, 0.8919429 ,\n",
       "         0.8919429 , 0.19759023, 0.19759023, 0.31973357, 0.31973357,\n",
       "         0.24878452, 0.24878452, 0.25267405, 0.25267405, 0.86378003,\n",
       "         0.86378003, 0.28744747, 0.28744747, 0.59180335, 0.59180335,\n",
       "         0.4739672 , 0.4739672 , 0.24514721, 0.24514721, 0.44341244,\n",
       "         0.44341244, 0.82157888, 0.82157888, 0.76972885, 0.76972885,\n",
       "         0.82981429, 0.82981429, 0.09174416, 0.09174416, 0.036684  ,\n",
       "         0.036684  , 0.92980807, 0.92980807, 0.07465998, 0.07465998,\n",
       "         0.23927806, 0.23927806, 0.56824098, 0.56824098, 0.70522041,\n",
       "         0.70522041, 0.91416061, 0.91416061, 0.01857213, 0.01857213,\n",
       "         0.94772917, 0.94772917, 0.59137564, 0.59137564, 0.76509745,\n",
       "         0.76509745, 0.995412  , 0.995412  , 0.71429867, 0.71429867,\n",
       "         0.68882545, 0.68882545, 0.09026327, 0.09026327, 0.35727175,\n",
       "         0.35727175, 0.4670378 , 0.4670378 , 0.35328637, 0.35328637,\n",
       "         0.6337349 , 0.6337349 , 0.98550635, 0.98550635, 0.08343782,\n",
       "         0.08343782, 0.09300222, 0.09300222, 0.89501858, 0.89501858])}}"
      ]
     },
     "execution_count": 1,
     "metadata": {},
     "output_type": "execute_result"
    }
   ],
   "source": [
    "ds = load_by_id(run_id_n)\n",
    "ds.get_parameter_data('x1')"
   ]
  },
  {
   "cell_type": "markdown",
   "metadata": {},
   "source": [
    "And a dataset stored as binary arrays"
   ]
  },
  {
   "cell_type": "code",
   "execution_count": 12,
   "metadata": {
    "execution": {
     "iopub.execute_input": "2020-11-02T14:47:30.217145Z",
     "iopub.status.busy": "2020-11-02T14:47:30.216601Z",
     "iopub.status.idle": "2020-11-02T14:47:30.272487Z",
     "shell.execute_reply": "2020-11-02T14:47:30.273405Z"
    },
    "scrolled": true
   },
   "outputs": [
    {
     "data": {
      "text/plain": [
       "{'x1': {'x1': array([[0.70619816],\n",
       "         [0.70619816],\n",
       "         [0.79378038],\n",
       "         [0.79378038],\n",
       "         [0.49521667],\n",
       "         [0.49521667],\n",
       "         [0.53290421],\n",
       "         [0.53290421],\n",
       "         [0.28209585],\n",
       "         [0.28209585],\n",
       "         [0.09189309],\n",
       "         [0.09189309],\n",
       "         [0.73224043],\n",
       "         [0.73224043],\n",
       "         [0.64917753],\n",
       "         [0.64917753],\n",
       "         [0.87284195],\n",
       "         [0.87284195],\n",
       "         [0.92822441],\n",
       "         [0.92822441],\n",
       "         [0.35737359],\n",
       "         [0.35737359],\n",
       "         [0.07899717],\n",
       "         [0.07899717],\n",
       "         [0.01962959],\n",
       "         [0.01962959],\n",
       "         [0.16432507],\n",
       "         [0.16432507],\n",
       "         [0.43693375],\n",
       "         [0.43693375],\n",
       "         [0.44294399],\n",
       "         [0.44294399],\n",
       "         [0.83102082],\n",
       "         [0.83102082],\n",
       "         [0.97129486],\n",
       "         [0.97129486],\n",
       "         [0.65659052],\n",
       "         [0.65659052],\n",
       "         [0.277691  ],\n",
       "         [0.277691  ],\n",
       "         [0.40704285],\n",
       "         [0.40704285],\n",
       "         [0.76056041],\n",
       "         [0.76056041],\n",
       "         [0.7755744 ],\n",
       "         [0.7755744 ],\n",
       "         [0.17214102],\n",
       "         [0.17214102],\n",
       "         [0.47454683],\n",
       "         [0.47454683],\n",
       "         [0.88165137],\n",
       "         [0.88165137],\n",
       "         [0.18075961],\n",
       "         [0.18075961],\n",
       "         [0.35686221],\n",
       "         [0.35686221],\n",
       "         [0.79973412],\n",
       "         [0.79973412],\n",
       "         [0.96082116],\n",
       "         [0.96082116],\n",
       "         [0.82182689],\n",
       "         [0.82182689],\n",
       "         [0.87464645],\n",
       "         [0.87464645],\n",
       "         [0.53978117],\n",
       "         [0.53978117],\n",
       "         [0.30089969],\n",
       "         [0.30089969],\n",
       "         [0.14283804],\n",
       "         [0.14283804],\n",
       "         [0.53414408],\n",
       "         [0.53414408],\n",
       "         [0.84182023],\n",
       "         [0.84182023],\n",
       "         [0.68433706],\n",
       "         [0.68433706],\n",
       "         [0.58335267],\n",
       "         [0.58335267],\n",
       "         [0.09734169],\n",
       "         [0.09734169],\n",
       "         [0.05783845],\n",
       "         [0.05783845],\n",
       "         [0.85852525],\n",
       "         [0.85852525],\n",
       "         [0.83569706],\n",
       "         [0.83569706],\n",
       "         [0.87623238],\n",
       "         [0.87623238],\n",
       "         [0.2588038 ],\n",
       "         [0.2588038 ],\n",
       "         [0.5799387 ],\n",
       "         [0.5799387 ],\n",
       "         [0.78115397],\n",
       "         [0.78115397],\n",
       "         [0.01367749],\n",
       "         [0.01367749],\n",
       "         [0.14586692],\n",
       "         [0.14586692],\n",
       "         [0.99001968],\n",
       "         [0.99001968],\n",
       "         [0.31448658],\n",
       "         [0.31448658],\n",
       "         [0.07791386],\n",
       "         [0.07791386],\n",
       "         [0.35265251],\n",
       "         [0.35265251],\n",
       "         [0.69071843],\n",
       "         [0.69071843],\n",
       "         [0.44959956],\n",
       "         [0.44959956],\n",
       "         [0.48519125],\n",
       "         [0.48519125],\n",
       "         [0.48612975],\n",
       "         [0.48612975],\n",
       "         [0.27583083],\n",
       "         [0.27583083],\n",
       "         [0.41438576],\n",
       "         [0.41438576],\n",
       "         [0.5391378 ],\n",
       "         [0.5391378 ],\n",
       "         [0.11687273],\n",
       "         [0.11687273],\n",
       "         [0.61149342],\n",
       "         [0.61149342],\n",
       "         [0.66221715],\n",
       "         [0.66221715],\n",
       "         [0.14768846],\n",
       "         [0.14768846],\n",
       "         [0.24869549],\n",
       "         [0.24869549],\n",
       "         [0.45940687],\n",
       "         [0.45940687],\n",
       "         [0.09921493],\n",
       "         [0.09921493],\n",
       "         [0.01372092],\n",
       "         [0.01372092],\n",
       "         [0.40623601],\n",
       "         [0.40623601],\n",
       "         [0.66807905],\n",
       "         [0.66807905],\n",
       "         [0.17968553],\n",
       "         [0.17968553],\n",
       "         [0.76408569],\n",
       "         [0.76408569],\n",
       "         [0.32036464],\n",
       "         [0.32036464],\n",
       "         [0.8273869 ],\n",
       "         [0.8273869 ],\n",
       "         [0.19932329],\n",
       "         [0.19932329],\n",
       "         [0.04215285],\n",
       "         [0.04215285],\n",
       "         [0.45334285],\n",
       "         [0.45334285],\n",
       "         [0.00693826],\n",
       "         [0.00693826],\n",
       "         [0.57643842],\n",
       "         [0.57643842],\n",
       "         [0.96246627],\n",
       "         [0.96246627],\n",
       "         [0.63610985],\n",
       "         [0.63610985],\n",
       "         [0.17636275],\n",
       "         [0.17636275],\n",
       "         [0.46348248],\n",
       "         [0.46348248],\n",
       "         [0.65129866],\n",
       "         [0.65129866],\n",
       "         [0.89596645],\n",
       "         [0.89596645],\n",
       "         [0.31661286],\n",
       "         [0.31661286],\n",
       "         [0.88481285],\n",
       "         [0.88481285],\n",
       "         [0.83392686],\n",
       "         [0.83392686],\n",
       "         [0.00857309],\n",
       "         [0.00857309],\n",
       "         [0.92951314],\n",
       "         [0.92951314],\n",
       "         [0.70363838],\n",
       "         [0.70363838],\n",
       "         [0.1870862 ],\n",
       "         [0.1870862 ],\n",
       "         [0.91960157],\n",
       "         [0.91960157],\n",
       "         [0.28039477],\n",
       "         [0.28039477],\n",
       "         [0.02972431],\n",
       "         [0.02972431],\n",
       "         [0.40528587],\n",
       "         [0.40528587],\n",
       "         [0.19370679],\n",
       "         [0.19370679],\n",
       "         [0.0510094 ],\n",
       "         [0.0510094 ],\n",
       "         [0.2865807 ],\n",
       "         [0.2865807 ],\n",
       "         [0.56021879],\n",
       "         [0.56021879]])}}"
      ]
     },
     "execution_count": 1,
     "metadata": {},
     "output_type": "execute_result"
    }
   ],
   "source": [
    "ds = load_by_id(run_id_a)\n",
    "ds.get_parameter_data('x1')"
   ]
  },
  {
   "cell_type": "code",
   "execution_count": null,
   "metadata": {},
   "outputs": [],
   "source": []
  }
 ],
 "metadata": {
  "kernelspec": {
   "display_name": "Python 3",
   "language": "python",
   "name": "python3"
  },
  "language_info": {
   "codemirror_mode": {
    "name": "ipython",
    "version": 3
   },
   "file_extension": ".py",
   "mimetype": "text/x-python",
   "name": "python",
   "nbconvert_exporter": "python",
   "pygments_lexer": "ipython3",
   "version": "3.7.9"
  },
  "nbsphinx": {
   "timeout": 600
  },
  "toc": {
   "base_numbering": 1,
   "nav_menu": {},
   "number_sections": true,
   "sideBar": true,
   "skip_h1_title": false,
   "title_cell": "Table of Contents",
   "title_sidebar": "Contents",
   "toc_cell": false,
   "toc_position": {},
   "toc_section_display": true,
   "toc_window_display": false
  },
  "varInspector": {
   "cols": {
    "lenName": 16,
    "lenType": 16,
    "lenVar": 40
   },
   "kernels_config": {
    "python": {
     "delete_cmd_postfix": "",
     "delete_cmd_prefix": "del ",
     "library": "var_list.py",
     "varRefreshCmd": "print(var_dic_list())"
    },
    "r": {
     "delete_cmd_postfix": ") ",
     "delete_cmd_prefix": "rm(",
     "library": "var_list.r",
     "varRefreshCmd": "cat(var_dic_list()) "
    }
   },
   "types_to_exclude": [
    "module",
    "function",
    "builtin_function_or_method",
    "instance",
    "_Feature"
   ],
   "window_display": false
  }
 },
 "nbformat": 4,
 "nbformat_minor": 2
}
