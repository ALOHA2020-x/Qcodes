{
 "cells": [
  {
   "cell_type": "markdown",
   "metadata": {},
   "source": [
    "# DataSet Performance\n",
    "\n",
    "This notebook shows the trade-off between inserting data into a database row-by-row and as binary blobs. Inserting the data row-by-row means that we have direct access to all the data and may perform queries directly on the values of the data. On the other hand, as we shall see, this is much slower than inserting the data directly as binary blobs."
   ]
  },
  {
   "cell_type": "markdown",
   "metadata": {},
   "source": [
    "First, we choose a new location for the database to ensure that we don't add a bunch of benchmarking data to the default one."
   ]
  },
  {
   "cell_type": "code",
   "execution_count": 1,
   "metadata": {
    "execution": {
     "iopub.execute_input": "2021-04-22T08:33:06.472203Z",
     "iopub.status.busy": "2021-04-22T08:33:06.471666Z",
     "iopub.status.idle": "2021-04-22T08:33:07.404447Z",
     "shell.execute_reply": "2021-04-22T08:33:07.403828Z"
    }
   },
   "outputs": [
    {
     "name": "stdout",
     "output_type": "stream",
     "text": [
      "Logging hadn't been started.\n",
      "Activating auto-logging. Current session state plus future input saved.\n",
      "Filename       : /home/runner/.qcodes/logs/command_history.log\n",
      "Mode           : append\n",
      "Output logging : True\n",
      "Raw input log  : False\n",
      "Timestamping   : True\n",
      "State          : active\n"
     ]
    },
    {
     "name": "stdout",
     "output_type": "stream",
     "text": [
      "Qcodes Logfile : /home/runner/.qcodes/logs/210422-4484-qcodes.log\n"
     ]
    }
   ],
   "source": [
    "import os\n",
    "cwd = os.getcwd()\n",
    "import qcodes as qc\n",
    "qc.config[\"core\"][\"db_location\"] = os.path.join(cwd, 'testing.db')\n"
   ]
  },
  {
   "cell_type": "code",
   "execution_count": 2,
   "metadata": {
    "execution": {
     "iopub.execute_input": "2021-04-22T08:33:07.410408Z",
     "iopub.status.busy": "2021-04-22T08:33:07.409460Z",
     "iopub.status.idle": "2021-04-22T08:33:07.570002Z",
     "shell.execute_reply": "2021-04-22T08:33:07.569485Z"
    }
   },
   "outputs": [],
   "source": [
    "%matplotlib inline\n",
    "import time\n",
    "import matplotlib.pyplot as plt\n",
    "import numpy as np\n",
    "\n",
    "import qcodes as qc\n",
    "from qcodes.instrument.parameter import ManualParameter\n",
    "from qcodes.dataset.experiment_container import (Experiment,\n",
    "                                                 load_last_experiment,\n",
    "                                                 new_experiment)\n",
    "from qcodes.dataset.sqlite.database import initialise_database\n",
    "from qcodes import load_or_create_experiment\n",
    "from qcodes.dataset.measurements import Measurement"
   ]
  },
  {
   "cell_type": "code",
   "execution_count": 3,
   "metadata": {
    "execution": {
     "iopub.execute_input": "2021-04-22T08:33:07.573738Z",
     "iopub.status.busy": "2021-04-22T08:33:07.573051Z",
     "iopub.status.idle": "2021-04-22T08:33:07.690923Z",
     "shell.execute_reply": "2021-04-22T08:33:07.690546Z"
    }
   },
   "outputs": [
    {
     "name": "stdout",
     "output_type": "stream",
     "text": [
      "\r",
      "0it [00:00, ?it/s]"
     ]
    },
    {
     "name": "stdout",
     "output_type": "stream",
     "text": [
      "\r",
      "Upgrading database; v0 -> v1: : 0it [00:00, ?it/s]"
     ]
    },
    {
     "name": "stdout",
     "output_type": "stream",
     "text": [
      "\r",
      "Upgrading database; v0 -> v1: : 0it [00:00, ?it/s]"
     ]
    },
    {
     "name": "stdout",
     "output_type": "stream",
     "text": [
      "\n",
      "\r",
      "  0%|          | 0/1 [00:00<?, ?it/s]"
     ]
    },
    {
     "name": "stdout",
     "output_type": "stream",
     "text": [
      "\r",
      "Upgrading database; v1 -> v2:   0%|          | 0/1 [00:00<?, ?it/s]"
     ]
    },
    {
     "name": "stdout",
     "output_type": "stream",
     "text": [
      "\r",
      "Upgrading database; v1 -> v2: 100%|██████████| 1/1 [00:00<00:00, 572.52it/s]"
     ]
    },
    {
     "name": "stdout",
     "output_type": "stream",
     "text": [
      "\n",
      "\r",
      "0it [00:00, ?it/s]"
     ]
    },
    {
     "name": "stdout",
     "output_type": "stream",
     "text": [
      "\r",
      "Upgrading database; v2 -> v3: : 0it [00:00, ?it/s]"
     ]
    },
    {
     "name": "stdout",
     "output_type": "stream",
     "text": [
      "\r",
      "Upgrading database; v2 -> v3: : 0it [00:00, ?it/s]"
     ]
    },
    {
     "name": "stdout",
     "output_type": "stream",
     "text": [
      "\n",
      "\r",
      "0it [00:00, ?it/s]"
     ]
    },
    {
     "name": "stdout",
     "output_type": "stream",
     "text": [
      "\r",
      "Upgrading database; v3 -> v4: : 0it [00:00, ?it/s]"
     ]
    },
    {
     "name": "stdout",
     "output_type": "stream",
     "text": [
      "\r",
      "Upgrading database; v3 -> v4: : 0it [00:00, ?it/s]"
     ]
    },
    {
     "name": "stdout",
     "output_type": "stream",
     "text": [
      "\n",
      "\r",
      "  0%|          | 0/1 [00:00<?, ?it/s]"
     ]
    },
    {
     "name": "stdout",
     "output_type": "stream",
     "text": [
      "\r",
      "Upgrading database; v4 -> v5:   0%|          | 0/1 [00:00<?, ?it/s]"
     ]
    },
    {
     "name": "stdout",
     "output_type": "stream",
     "text": [
      "\r",
      "Upgrading database; v4 -> v5: 100%|██████████| 1/1 [00:00<00:00, 510.38it/s]"
     ]
    },
    {
     "name": "stdout",
     "output_type": "stream",
     "text": [
      "\n",
      "\r",
      "0it [00:00, ?it/s]"
     ]
    },
    {
     "name": "stdout",
     "output_type": "stream",
     "text": [
      "\r",
      "Upgrading database; v5 -> v6: : 0it [00:00, ?it/s]"
     ]
    },
    {
     "name": "stdout",
     "output_type": "stream",
     "text": [
      "\r",
      "Upgrading database; v5 -> v6: : 0it [00:00, ?it/s]"
     ]
    },
    {
     "name": "stdout",
     "output_type": "stream",
     "text": [
      "\n",
      "\r",
      "  0%|          | 0/1 [00:00<?, ?it/s]"
     ]
    },
    {
     "name": "stdout",
     "output_type": "stream",
     "text": [
      "\r",
      "Upgrading database; v6 -> v7:   0%|          | 0/1 [00:00<?, ?it/s]"
     ]
    },
    {
     "name": "stdout",
     "output_type": "stream",
     "text": [
      "\r",
      "Upgrading database; v6 -> v7: 100%|██████████| 1/1 [00:00<00:00, 328.94it/s]"
     ]
    },
    {
     "name": "stdout",
     "output_type": "stream",
     "text": [
      "\n",
      "\r",
      "  0%|          | 0/1 [00:00<?, ?it/s]"
     ]
    },
    {
     "name": "stdout",
     "output_type": "stream",
     "text": [
      "\r",
      "Upgrading database; v7 -> v8:   0%|          | 0/1 [00:00<?, ?it/s]"
     ]
    },
    {
     "name": "stdout",
     "output_type": "stream",
     "text": [
      "\r",
      "Upgrading database; v7 -> v8: 100%|██████████| 1/1 [00:00<00:00, 1328.99it/s]"
     ]
    },
    {
     "name": "stdout",
     "output_type": "stream",
     "text": [
      "\n",
      "\r",
      "  0%|          | 0/1 [00:00<?, ?it/s]"
     ]
    },
    {
     "name": "stdout",
     "output_type": "stream",
     "text": [
      "\r",
      "Upgrading database; v8 -> v9:   0%|          | 0/1 [00:00<?, ?it/s]"
     ]
    },
    {
     "name": "stdout",
     "output_type": "stream",
     "text": [
      "\r",
      "Upgrading database; v8 -> v9: 100%|██████████| 1/1 [00:00<00:00, 678.47it/s]"
     ]
    },
    {
     "name": "stdout",
     "output_type": "stream",
     "text": [
      "\n"
     ]
    }
   ],
   "source": [
    "initialise_database()\n",
    "exp = load_or_create_experiment(experiment_name='tutorial_exp', sample_name=\"no sample\")"
   ]
  },
  {
   "cell_type": "markdown",
   "metadata": {},
   "source": [
    "Here, we define a simple function to benchmark the time it takes to insert n points with either numeric or array data type.\n",
    "We will compare both the time used to call ``add_result`` and the time used for the full measurement."
   ]
  },
  {
   "cell_type": "code",
   "execution_count": 4,
   "metadata": {
    "execution": {
     "iopub.execute_input": "2021-04-22T08:33:07.698182Z",
     "iopub.status.busy": "2021-04-22T08:33:07.697735Z",
     "iopub.status.idle": "2021-04-22T08:33:07.700325Z",
     "shell.execute_reply": "2021-04-22T08:33:07.700760Z"
    }
   },
   "outputs": [],
   "source": [
    "def insert_data(paramtype, npoints, nreps=1):\n",
    "\n",
    "    meas = Measurement(exp=exp)\n",
    "\n",
    "    x1 = ManualParameter('x1')\n",
    "    x2 = ManualParameter('x2')\n",
    "    x3 = ManualParameter('x3')\n",
    "    y1 = ManualParameter('y1')\n",
    "    y2 = ManualParameter('y2')\n",
    "\n",
    "    meas.register_parameter(x1, paramtype=paramtype)\n",
    "    meas.register_parameter(x2, paramtype=paramtype)\n",
    "    meas.register_parameter(x3, paramtype=paramtype)\n",
    "    meas.register_parameter(y1, setpoints=[x1, x2, x3],\n",
    "                            paramtype=paramtype)\n",
    "    meas.register_parameter(y2, setpoints=[x1, x2, x3],\n",
    "                            paramtype=paramtype)\n",
    "    start = time.perf_counter()\n",
    "    with meas.run() as datasaver:\n",
    "        start_adding = time.perf_counter()\n",
    "        for i in range(nreps):\n",
    "            datasaver.add_result((x1, np.random.rand(npoints)),\n",
    "                                 (x2, np.random.rand(npoints)),\n",
    "                                 (x3, np.random.rand(npoints)),\n",
    "                                 (y1, np.random.rand(npoints)),\n",
    "                                 (y2, np.random.rand(npoints)))\n",
    "        stop_adding = time.perf_counter()\n",
    "        run_id = datasaver.run_id\n",
    "    stop = time.perf_counter()\n",
    "    tot_time = stop - start\n",
    "    add_time = stop_adding - start_adding\n",
    "    return tot_time, add_time, run_id"
   ]
  },
  {
   "cell_type": "markdown",
   "metadata": {},
   "source": [
    "## Comparison between numeric/array data and binary blob"
   ]
  },
  {
   "cell_type": "markdown",
   "metadata": {},
   "source": [
    "### Case1: Short experiment time"
   ]
  },
  {
   "cell_type": "code",
   "execution_count": 5,
   "metadata": {
    "execution": {
     "iopub.execute_input": "2021-04-22T08:33:07.706565Z",
     "iopub.status.busy": "2021-04-22T08:33:07.706046Z",
     "iopub.status.idle": "2021-04-22T08:33:08.310847Z",
     "shell.execute_reply": "2021-04-22T08:33:08.311220Z"
    }
   },
   "outputs": [
    {
     "name": "stdout",
     "output_type": "stream",
     "text": [
      "Starting experimental run with id: 1. \n",
      "Starting experimental run with id: 2. \n",
      "Starting experimental run with id: 3. \n",
      "Starting experimental run with id: 4. \n",
      "Starting experimental run with id: 5. \n",
      "Starting experimental run with id: 6. \n",
      "Starting experimental run with id: 7. \n"
     ]
    },
    {
     "name": "stdout",
     "output_type": "stream",
     "text": [
      "Starting experimental run with id: 8. \n",
      "Starting experimental run with id: 9. \n"
     ]
    },
    {
     "name": "stdout",
     "output_type": "stream",
     "text": [
      "Starting experimental run with id: 10. \n",
      "Starting experimental run with id: 11. \n"
     ]
    },
    {
     "name": "stdout",
     "output_type": "stream",
     "text": [
      "Starting experimental run with id: 12. \n",
      "Starting experimental run with id: 13. \n"
     ]
    },
    {
     "name": "stdout",
     "output_type": "stream",
     "text": [
      "Starting experimental run with id: 14. \n"
     ]
    }
   ],
   "source": [
    "sizes = [1,500,1000,2000,3000,4000,5000]\n",
    "t_numeric = []\n",
    "t_numeric_add = []\n",
    "t_array = []\n",
    "t_array_add = []\n",
    "for size in sizes:\n",
    "    tn, tna, run_id_n =  insert_data('numeric', size)\n",
    "    t_numeric.append(tn)\n",
    "    t_numeric_add.append(tna)\n",
    "\n",
    "    ta, taa, run_id_a =  insert_data('array', size)\n",
    "    t_array.append(ta)\n",
    "    t_array_add.append(taa)"
   ]
  },
  {
   "cell_type": "code",
   "execution_count": 6,
   "metadata": {
    "execution": {
     "iopub.execute_input": "2021-04-22T08:33:08.327708Z",
     "iopub.status.busy": "2021-04-22T08:33:08.326109Z",
     "iopub.status.idle": "2021-04-22T08:33:08.473627Z",
     "shell.execute_reply": "2021-04-22T08:33:08.474197Z"
    }
   },
   "outputs": [
    {
     "data": {
      "image/png": "[encoded data removed]",
      "text/plain": [
       "<Figure size 432x288 with 1 Axes>"
      ]
     },
     "metadata": {
      "needs_background": "light"
     },
     "output_type": "display_data"
    }
   ],
   "source": [
    "fig, ax = plt.subplots(1,1)\n",
    "ax.plot(sizes, t_numeric, 'o-', label='Inserting row-by-row')\n",
    "ax.plot(sizes, t_numeric_add, 'o-', label='Inserting row-by-row: add_result only')\n",
    "ax.plot(sizes, t_array, 'd-', label='Inserting as binary blob')\n",
    "ax.plot(sizes, t_array_add, 'd-', label='Inserting as binary blob: add_result only')\n",
    "ax.legend()\n",
    "ax.set_xlabel('Array length')\n",
    "ax.set_ylabel('Time (s)')\n",
    "fig.tight_layout()"
   ]
  },
  {
   "cell_type": "markdown",
   "metadata": {},
   "source": [
    "As shown in the latter figure, the time to setup and and close the experiment is approximately 0.4 sec. In case of small array sizes, the difference between inserting values of data as arrays and inserting them row-by-row is relatively unimportant. At larger array sizes, i.e. above 10000 points, the cost of writing data as individual datapoints starts to become important.\n"
   ]
  },
  {
   "cell_type": "markdown",
   "metadata": {},
   "source": [
    "### Case2: Long experiment time "
   ]
  },
  {
   "cell_type": "code",
   "execution_count": 7,
   "metadata": {
    "execution": {
     "iopub.execute_input": "2021-04-22T08:33:08.476374Z",
     "iopub.status.busy": "2021-04-22T08:33:08.475952Z",
     "iopub.status.idle": "2021-04-22T08:33:57.254288Z",
     "shell.execute_reply": "2021-04-22T08:33:57.253443Z"
    }
   },
   "outputs": [
    {
     "name": "stdout",
     "output_type": "stream",
     "text": [
      "Starting experimental run with id: 15. \n"
     ]
    },
    {
     "name": "stdout",
     "output_type": "stream",
     "text": [
      "Starting experimental run with id: 16. \n",
      "Starting experimental run with id: 17. \n"
     ]
    },
    {
     "name": "stdout",
     "output_type": "stream",
     "text": [
      "Starting experimental run with id: 18. \n",
      "Starting experimental run with id: 19. \n"
     ]
    },
    {
     "name": "stdout",
     "output_type": "stream",
     "text": [
      "Starting experimental run with id: 20. \n"
     ]
    },
    {
     "name": "stdout",
     "output_type": "stream",
     "text": [
      "Starting experimental run with id: 21. \n"
     ]
    },
    {
     "name": "stdout",
     "output_type": "stream",
     "text": [
      "Starting experimental run with id: 22. \n"
     ]
    },
    {
     "name": "stdout",
     "output_type": "stream",
     "text": [
      "Starting experimental run with id: 23. \n"
     ]
    },
    {
     "name": "stdout",
     "output_type": "stream",
     "text": [
      "Starting experimental run with id: 24. \n"
     ]
    },
    {
     "name": "stdout",
     "output_type": "stream",
     "text": [
      "Starting experimental run with id: 25. \n"
     ]
    },
    {
     "name": "stdout",
     "output_type": "stream",
     "text": [
      "Starting experimental run with id: 26. \n"
     ]
    },
    {
     "name": "stdout",
     "output_type": "stream",
     "text": [
      "Starting experimental run with id: 27. \n"
     ]
    },
    {
     "name": "stdout",
     "output_type": "stream",
     "text": [
      "Starting experimental run with id: 28. \n"
     ]
    }
   ],
   "source": [
    "sizes = [1,500,1000,2000,3000,4000,5000]\n",
    "nreps = 100\n",
    "t_numeric = []\n",
    "t_numeric_add = []\n",
    "t_numeric_run_ids = []\n",
    "t_array = []\n",
    "t_array_add = []\n",
    "t_array_run_ids = []\n",
    "for size in sizes:\n",
    "    tn, tna, run_id_n =  insert_data('numeric', size, nreps=nreps)\n",
    "    t_numeric.append(tn)\n",
    "    t_numeric_add.append(tna)\n",
    "    t_numeric_run_ids.append(run_id_n)\n",
    "\n",
    "    ta, taa, run_id_a =  insert_data('array', size, nreps=nreps)\n",
    "    t_array.append(ta)\n",
    "    t_array_add.append(taa)\n",
    "    t_array_run_ids.append(run_id_a)"
   ]
  },
  {
   "cell_type": "code",
   "execution_count": 8,
   "metadata": {
    "execution": {
     "iopub.execute_input": "2021-04-22T08:33:57.289389Z",
     "iopub.status.busy": "2021-04-22T08:33:57.288534Z",
     "iopub.status.idle": "2021-04-22T08:33:57.403163Z",
     "shell.execute_reply": "2021-04-22T08:33:57.403604Z"
    },
    "scrolled": true
   },
   "outputs": [
    {
     "data": {
      "image/png": "[encoded data removed]",
      "text/plain": [
       "<Figure size 432x288 with 1 Axes>"
      ]
     },
     "metadata": {
      "needs_background": "light"
     },
     "output_type": "display_data"
    }
   ],
   "source": [
    "fig, ax = plt.subplots(1,1)\n",
    "ax.plot(sizes, t_numeric, 'o-', label='Inserting row-by-row')\n",
    "ax.plot(sizes, t_numeric_add, 'o-', label='Inserting row-by-row: add_result only')\n",
    "ax.plot(sizes, t_array, 'd-', label='Inserting as binary blob')\n",
    "ax.plot(sizes, t_array_add, 'd-', label='Inserting as binary blob: add_result only')\n",
    "ax.legend()\n",
    "ax.set_xlabel('Array length')\n",
    "ax.set_ylabel('Time (s)')\n",
    "fig.tight_layout()"
   ]
  },
  {
   "cell_type": "markdown",
   "metadata": {},
   "source": [
    "However, as we increase the length of the experiment, as seen here by repeating the insertion 100 times, we see a big difference between inserting values of the data row-by-row and inserting it as a binary blob."
   ]
  },
  {
   "cell_type": "markdown",
   "metadata": {},
   "source": [
    "## Loading the data "
   ]
  },
  {
   "cell_type": "code",
   "execution_count": 9,
   "metadata": {
    "execution": {
     "iopub.execute_input": "2021-04-22T08:33:57.405767Z",
     "iopub.status.busy": "2021-04-22T08:33:57.405353Z",
     "iopub.status.idle": "2021-04-22T08:33:57.407985Z",
     "shell.execute_reply": "2021-04-22T08:33:57.408396Z"
    }
   },
   "outputs": [],
   "source": [
    "from qcodes.dataset.data_set import load_by_id"
   ]
  },
  {
   "cell_type": "markdown",
   "metadata": {},
   "source": [
    "As usual you can load the data by using the ``load_by_id`` function but you will notice that the different storage methods\n",
    "are reflected in shape of the data as it is retrieved. "
   ]
  },
  {
   "cell_type": "code",
   "execution_count": 10,
   "metadata": {
    "execution": {
     "iopub.execute_input": "2021-04-22T08:33:57.411409Z",
     "iopub.status.busy": "2021-04-22T08:33:57.410989Z",
     "iopub.status.idle": "2021-04-22T08:33:57.412288Z",
     "shell.execute_reply": "2021-04-22T08:33:57.412735Z"
    }
   },
   "outputs": [],
   "source": [
    "run_id_n = t_numeric_run_ids[0]\n",
    "run_id_a = t_array_run_ids[0]"
   ]
  },
  {
   "cell_type": "code",
   "execution_count": 11,
   "metadata": {
    "execution": {
     "iopub.execute_input": "2021-04-22T08:33:57.415101Z",
     "iopub.status.busy": "2021-04-22T08:33:57.414681Z",
     "iopub.status.idle": "2021-04-22T08:33:57.422383Z",
     "shell.execute_reply": "2021-04-22T08:33:57.422707Z"
    },
    "scrolled": true
   },
   "outputs": [
    {
     "data": {
      "text/plain": [
       "{'x1': {'x1': array([0.74162436, 0.74162436, 0.11017554, 0.11017554, 0.802742  ,\n",
       "         0.802742  , 0.64896022, 0.64896022, 0.74283214, 0.74283214,\n",
       "         0.01067055, 0.01067055, 0.14485448, 0.14485448, 0.40491372,\n",
       "         0.40491372, 0.45185203, 0.45185203, 0.78800902, 0.78800902,\n",
       "         0.79413466, 0.79413466, 0.07086766, 0.07086766, 0.30858531,\n",
       "         0.30858531, 0.7474795 , 0.7474795 , 0.61720704, 0.61720704,\n",
       "         0.16896416, 0.16896416, 0.35245685, 0.35245685, 0.98877673,\n",
       "         0.98877673, 0.45964617, 0.45964617, 0.54951012, 0.54951012,\n",
       "         0.59241026, 0.59241026, 0.62559342, 0.62559342, 0.48435396,\n",
       "         0.48435396, 0.90739599, 0.90739599, 0.96688906, 0.96688906,\n",
       "         0.26099044, 0.26099044, 0.66299175, 0.66299175, 0.34780123,\n",
       "         0.34780123, 0.21648741, 0.21648741, 0.08805348, 0.08805348,\n",
       "         0.41306521, 0.41306521, 0.50305042, 0.50305042, 0.4025074 ,\n",
       "         0.4025074 , 0.31216807, 0.31216807, 0.20414395, 0.20414395,\n",
       "         0.24233899, 0.24233899, 0.53429893, 0.53429893, 0.75649563,\n",
       "         0.75649563, 0.4542263 , 0.4542263 , 0.24872063, 0.24872063,\n",
       "         0.08656623, 0.08656623, 0.53677398, 0.53677398, 0.95143205,\n",
       "         0.95143205, 0.86042273, 0.86042273, 0.75254978, 0.75254978,\n",
       "         0.2309714 , 0.2309714 , 0.05442575, 0.05442575, 0.05059402,\n",
       "         0.05059402, 0.83982744, 0.83982744, 0.81476602, 0.81476602,\n",
       "         0.82568981, 0.82568981, 0.67265124, 0.67265124, 0.80967582,\n",
       "         0.80967582, 0.16184171, 0.16184171, 0.8346592 , 0.8346592 ,\n",
       "         0.79200274, 0.79200274, 0.95133179, 0.95133179, 0.32615654,\n",
       "         0.32615654, 0.67204097, 0.67204097, 0.14485515, 0.14485515,\n",
       "         0.38479047, 0.38479047, 0.92285186, 0.92285186, 0.43438724,\n",
       "         0.43438724, 0.30222201, 0.30222201, 0.99828057, 0.99828057,\n",
       "         0.63534467, 0.63534467, 0.86363013, 0.86363013, 0.74590595,\n",
       "         0.74590595, 0.93458584, 0.93458584, 0.64754801, 0.64754801,\n",
       "         0.93966033, 0.93966033, 0.49009409, 0.49009409, 0.14790231,\n",
       "         0.14790231, 0.88123204, 0.88123204, 0.69373979, 0.69373979,\n",
       "         0.01272897, 0.01272897, 0.38001048, 0.38001048, 0.70709684,\n",
       "         0.70709684, 0.74311241, 0.74311241, 0.21781082, 0.21781082,\n",
       "         0.53544496, 0.53544496, 0.68754866, 0.68754866, 0.94247822,\n",
       "         0.94247822, 0.17083393, 0.17083393, 0.91012551, 0.91012551,\n",
       "         0.06219518, 0.06219518, 0.90728414, 0.90728414, 0.33285188,\n",
       "         0.33285188, 0.74583929, 0.74583929, 0.65355973, 0.65355973,\n",
       "         0.40221661, 0.40221661, 0.57678024, 0.57678024, 0.2854767 ,\n",
       "         0.2854767 , 0.33629829, 0.33629829, 0.70768947, 0.70768947,\n",
       "         0.23805524, 0.23805524, 0.28528015, 0.28528015, 0.2839894 ,\n",
       "         0.2839894 , 0.75998035, 0.75998035, 0.43339129, 0.43339129])}}"
      ]
     },
     "execution_count": 1,
     "metadata": {},
     "output_type": "execute_result"
    }
   ],
   "source": [
    "ds = load_by_id(run_id_n)\n",
    "ds.get_parameter_data('x1')"
   ]
  },
  {
   "cell_type": "markdown",
   "metadata": {},
   "source": [
    "And a dataset stored as binary arrays"
   ]
  },
  {
   "cell_type": "code",
   "execution_count": 12,
   "metadata": {
    "execution": {
     "iopub.execute_input": "2021-04-22T08:33:57.425346Z",
     "iopub.status.busy": "2021-04-22T08:33:57.424921Z",
     "iopub.status.idle": "2021-04-22T08:33:57.468632Z",
     "shell.execute_reply": "2021-04-22T08:33:57.469104Z"
    },
    "scrolled": true
   },
   "outputs": [
    {
     "data": {
      "text/plain": [
       "{'x1': {'x1': array([[0.16771747],\n",
       "         [0.16771747],\n",
       "         [0.27543288],\n",
       "         [0.27543288],\n",
       "         [0.98975089],\n",
       "         [0.98975089],\n",
       "         [0.074663  ],\n",
       "         [0.074663  ],\n",
       "         [0.35926476],\n",
       "         [0.35926476],\n",
       "         [0.2994006 ],\n",
       "         [0.2994006 ],\n",
       "         [0.81464128],\n",
       "         [0.81464128],\n",
       "         [0.09969857],\n",
       "         [0.09969857],\n",
       "         [0.66186157],\n",
       "         [0.66186157],\n",
       "         [0.59216548],\n",
       "         [0.59216548],\n",
       "         [0.85881063],\n",
       "         [0.85881063],\n",
       "         [0.42450481],\n",
       "         [0.42450481],\n",
       "         [0.87526631],\n",
       "         [0.87526631],\n",
       "         [0.1478728 ],\n",
       "         [0.1478728 ],\n",
       "         [0.20435253],\n",
       "         [0.20435253],\n",
       "         [0.74435834],\n",
       "         [0.74435834],\n",
       "         [0.92303288],\n",
       "         [0.92303288],\n",
       "         [0.07420208],\n",
       "         [0.07420208],\n",
       "         [0.4306849 ],\n",
       "         [0.4306849 ],\n",
       "         [0.90586744],\n",
       "         [0.90586744],\n",
       "         [0.98046395],\n",
       "         [0.98046395],\n",
       "         [0.37734972],\n",
       "         [0.37734972],\n",
       "         [0.85112222],\n",
       "         [0.85112222],\n",
       "         [0.94908629],\n",
       "         [0.94908629],\n",
       "         [0.46240678],\n",
       "         [0.46240678],\n",
       "         [0.72856541],\n",
       "         [0.72856541],\n",
       "         [0.31743351],\n",
       "         [0.31743351],\n",
       "         [0.45348109],\n",
       "         [0.45348109],\n",
       "         [0.8266318 ],\n",
       "         [0.8266318 ],\n",
       "         [0.07063786],\n",
       "         [0.07063786],\n",
       "         [0.21252644],\n",
       "         [0.21252644],\n",
       "         [0.83277795],\n",
       "         [0.83277795],\n",
       "         [0.2877589 ],\n",
       "         [0.2877589 ],\n",
       "         [0.68789185],\n",
       "         [0.68789185],\n",
       "         [0.67604343],\n",
       "         [0.67604343],\n",
       "         [0.49425083],\n",
       "         [0.49425083],\n",
       "         [0.70603009],\n",
       "         [0.70603009],\n",
       "         [0.04281423],\n",
       "         [0.04281423],\n",
       "         [0.02153419],\n",
       "         [0.02153419],\n",
       "         [0.87998798],\n",
       "         [0.87998798],\n",
       "         [0.04757815],\n",
       "         [0.04757815],\n",
       "         [0.27994983],\n",
       "         [0.27994983],\n",
       "         [0.92826039],\n",
       "         [0.92826039],\n",
       "         [0.31568385],\n",
       "         [0.31568385],\n",
       "         [0.0815219 ],\n",
       "         [0.0815219 ],\n",
       "         [0.70621099],\n",
       "         [0.70621099],\n",
       "         [0.15885262],\n",
       "         [0.15885262],\n",
       "         [0.55447259],\n",
       "         [0.55447259],\n",
       "         [0.88475887],\n",
       "         [0.88475887],\n",
       "         [0.39363105],\n",
       "         [0.39363105],\n",
       "         [0.92955499],\n",
       "         [0.92955499],\n",
       "         [0.51395212],\n",
       "         [0.51395212],\n",
       "         [0.58342199],\n",
       "         [0.58342199],\n",
       "         [0.36634594],\n",
       "         [0.36634594],\n",
       "         [0.84174357],\n",
       "         [0.84174357],\n",
       "         [0.20220006],\n",
       "         [0.20220006],\n",
       "         [0.29293988],\n",
       "         [0.29293988],\n",
       "         [0.33343093],\n",
       "         [0.33343093],\n",
       "         [0.3844166 ],\n",
       "         [0.3844166 ],\n",
       "         [0.9614155 ],\n",
       "         [0.9614155 ],\n",
       "         [0.31246045],\n",
       "         [0.31246045],\n",
       "         [0.92251137],\n",
       "         [0.92251137],\n",
       "         [0.61014168],\n",
       "         [0.61014168],\n",
       "         [0.82270448],\n",
       "         [0.82270448],\n",
       "         [0.84331764],\n",
       "         [0.84331764],\n",
       "         [0.20978039],\n",
       "         [0.20978039],\n",
       "         [0.613724  ],\n",
       "         [0.613724  ],\n",
       "         [0.44087704],\n",
       "         [0.44087704],\n",
       "         [0.01052056],\n",
       "         [0.01052056],\n",
       "         [0.48363601],\n",
       "         [0.48363601],\n",
       "         [0.32719017],\n",
       "         [0.32719017],\n",
       "         [0.52422374],\n",
       "         [0.52422374],\n",
       "         [0.96884983],\n",
       "         [0.96884983],\n",
       "         [0.02935772],\n",
       "         [0.02935772],\n",
       "         [0.38954588],\n",
       "         [0.38954588],\n",
       "         [0.45237235],\n",
       "         [0.45237235],\n",
       "         [0.16097521],\n",
       "         [0.16097521],\n",
       "         [0.524783  ],\n",
       "         [0.524783  ],\n",
       "         [0.02672114],\n",
       "         [0.02672114],\n",
       "         [0.52121997],\n",
       "         [0.52121997],\n",
       "         [0.66632888],\n",
       "         [0.66632888],\n",
       "         [0.47561367],\n",
       "         [0.47561367],\n",
       "         [0.70825855],\n",
       "         [0.70825855],\n",
       "         [0.26566939],\n",
       "         [0.26566939],\n",
       "         [0.45024116],\n",
       "         [0.45024116],\n",
       "         [0.47492271],\n",
       "         [0.47492271],\n",
       "         [0.01768501],\n",
       "         [0.01768501],\n",
       "         [0.46633144],\n",
       "         [0.46633144],\n",
       "         [0.04734808],\n",
       "         [0.04734808],\n",
       "         [0.82102305],\n",
       "         [0.82102305],\n",
       "         [0.73148971],\n",
       "         [0.73148971],\n",
       "         [0.69655265],\n",
       "         [0.69655265],\n",
       "         [0.68326568],\n",
       "         [0.68326568],\n",
       "         [0.51367039],\n",
       "         [0.51367039],\n",
       "         [0.38224547],\n",
       "         [0.38224547],\n",
       "         [0.9366037 ],\n",
       "         [0.9366037 ],\n",
       "         [0.01081176],\n",
       "         [0.01081176],\n",
       "         [0.03568879],\n",
       "         [0.03568879],\n",
       "         [0.56192173],\n",
       "         [0.56192173],\n",
       "         [0.85814696],\n",
       "         [0.85814696]])}}"
      ]
     },
     "execution_count": 1,
     "metadata": {},
     "output_type": "execute_result"
    }
   ],
   "source": [
    "ds = load_by_id(run_id_a)\n",
    "ds.get_parameter_data('x1')"
   ]
  },
  {
   "cell_type": "code",
   "execution_count": null,
   "metadata": {},
   "outputs": [],
   "source": []
  }
 ],
 "metadata": {
  "kernelspec": {
   "display_name": "Python 3",
   "language": "python",
   "name": "python3"
  },
  "language_info": {
   "codemirror_mode": {
    "name": "ipython",
    "version": 3
   },
   "file_extension": ".py",
   "mimetype": "text/x-python",
   "name": "python",
   "nbconvert_exporter": "python",
   "pygments_lexer": "ipython3",
   "version": "3.7.10"
  },
  "nbsphinx": {
   "timeout": 600
  },
  "toc": {
   "base_numbering": 1,
   "nav_menu": {},
   "number_sections": true,
   "sideBar": true,
   "skip_h1_title": false,
   "title_cell": "Table of Contents",
   "title_sidebar": "Contents",
   "toc_cell": false,
   "toc_position": {},
   "toc_section_display": true,
   "toc_window_display": false
  },
  "varInspector": {
   "cols": {
    "lenName": 16,
    "lenType": 16,
    "lenVar": 40
   },
   "kernels_config": {
    "python": {
     "delete_cmd_postfix": "",
     "delete_cmd_prefix": "del ",
     "library": "var_list.py",
     "varRefreshCmd": "print(var_dic_list())"
    },
    "r": {
     "delete_cmd_postfix": ") ",
     "delete_cmd_prefix": "rm(",
     "library": "var_list.r",
     "varRefreshCmd": "cat(var_dic_list()) "
    }
   },
   "types_to_exclude": [
    "module",
    "function",
    "builtin_function_or_method",
    "instance",
    "_Feature"
   ],
   "window_display": false
  }
 },
 "nbformat": 4,
 "nbformat_minor": 4
}
