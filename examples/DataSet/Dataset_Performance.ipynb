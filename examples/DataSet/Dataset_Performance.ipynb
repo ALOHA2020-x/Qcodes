{
 "cells": [
  {
   "cell_type": "markdown",
   "metadata": {},
   "source": [
    "# DataSet Performance\n",
    "\n",
    "This notebook shows the trade-off between inserting data into a database row-by-row and as binary blobs. Inserting the data row-by-row means that we have direct access to all the data and may perform queries directly on the values of the data. On the other hand, as we shall see, this is much slower than inserting the data directly as binary blobs."
   ]
  },
  {
   "cell_type": "markdown",
   "metadata": {},
   "source": [
    "First, we choose a new location for the database to ensure that we don't add a bunch of benchmarking data to the default one."
   ]
  },
  {
   "cell_type": "code",
   "execution_count": 1,
   "metadata": {
    "execution": {
     "iopub.execute_input": "2020-10-22T19:24:36.012785Z",
     "iopub.status.busy": "2020-10-22T19:24:36.012188Z",
     "iopub.status.idle": "2020-10-22T19:24:37.236363Z",
     "shell.execute_reply": "2020-10-22T19:24:37.236954Z"
    }
   },
   "outputs": [
    {
     "name": "stdout",
     "output_type": "stream",
     "text": [
      "Logging hadn't been started.\n",
      "Activating auto-logging. Current session state plus future input saved.\n",
      "Filename       : /home/vsts/.qcodes/logs/command_history.log\n",
      "Mode           : append\n",
      "Output logging : True\n",
      "Raw input log  : False\n",
      "Timestamping   : True\n",
      "State          : active\n"
     ]
    },
    {
     "name": "stdout",
     "output_type": "stream",
     "text": [
      "Qcodes Logfile : /home/vsts/.qcodes/logs/201022-14671-qcodes.log\n"
     ]
    }
   ],
   "source": [
    "import os\n",
    "cwd = os.getcwd()\n",
    "import qcodes as qc\n",
    "qc.config[\"core\"][\"db_location\"] = os.path.join(cwd, 'testing.db')\n"
   ]
  },
  {
   "cell_type": "code",
   "execution_count": 2,
   "metadata": {
    "execution": {
     "iopub.execute_input": "2020-10-22T19:24:37.245700Z",
     "iopub.status.busy": "2020-10-22T19:24:37.243638Z",
     "iopub.status.idle": "2020-10-22T19:24:37.469154Z",
     "shell.execute_reply": "2020-10-22T19:24:37.468214Z"
    }
   },
   "outputs": [],
   "source": [
    "%matplotlib inline\n",
    "import time\n",
    "import matplotlib.pyplot as plt\n",
    "import numpy as np\n",
    "\n",
    "import qcodes as qc\n",
    "from qcodes.instrument.parameter import ManualParameter\n",
    "from qcodes.dataset.experiment_container import (Experiment,\n",
    "                                                 load_last_experiment,\n",
    "                                                 new_experiment)\n",
    "from qcodes.dataset.sqlite.database import initialise_database\n",
    "from qcodes import load_or_create_experiment\n",
    "from qcodes.dataset.measurements import Measurement"
   ]
  },
  {
   "cell_type": "code",
   "execution_count": 3,
   "metadata": {
    "execution": {
     "iopub.execute_input": "2020-10-22T19:24:37.473479Z",
     "iopub.status.busy": "2020-10-22T19:24:37.472803Z",
     "iopub.status.idle": "2020-10-22T19:24:37.591989Z",
     "shell.execute_reply": "2020-10-22T19:24:37.592502Z"
    }
   },
   "outputs": [
    {
     "name": "stdout",
     "output_type": "stream",
     "text": [
      "\r",
      "0it [00:00, ?it/s]"
     ]
    },
    {
     "name": "stdout",
     "output_type": "stream",
     "text": [
      "\r",
      "Upgrading database; v0 -> v1: : 0it [00:00, ?it/s]"
     ]
    },
    {
     "name": "stdout",
     "output_type": "stream",
     "text": [
      "\r",
      "Upgrading database; v0 -> v1: : 0it [00:00, ?it/s]"
     ]
    },
    {
     "name": "stdout",
     "output_type": "stream",
     "text": [
      "\n",
      "\r",
      "  0%|          | 0/1 [00:00<?, ?it/s]"
     ]
    },
    {
     "name": "stdout",
     "output_type": "stream",
     "text": [
      "\r",
      "Upgrading database; v1 -> v2:   0%|          | 0/1 [00:00<?, ?it/s]"
     ]
    },
    {
     "name": "stdout",
     "output_type": "stream",
     "text": [
      "\r",
      "Upgrading database; v1 -> v2: 100%|██████████| 1/1 [00:00<00:00, 712.35it/s]"
     ]
    },
    {
     "name": "stdout",
     "output_type": "stream",
     "text": [
      "\n",
      "\r",
      "0it [00:00, ?it/s]"
     ]
    },
    {
     "name": "stdout",
     "output_type": "stream",
     "text": [
      "\r",
      "Upgrading database; v2 -> v3: : 0it [00:00, ?it/s]"
     ]
    },
    {
     "name": "stdout",
     "output_type": "stream",
     "text": [
      "\r",
      "Upgrading database; v2 -> v3: : 0it [00:00, ?it/s]"
     ]
    },
    {
     "name": "stdout",
     "output_type": "stream",
     "text": [
      "\n",
      "\r",
      "0it [00:00, ?it/s]"
     ]
    },
    {
     "name": "stdout",
     "output_type": "stream",
     "text": [
      "\r",
      "Upgrading database; v3 -> v4: : 0it [00:00, ?it/s]"
     ]
    },
    {
     "name": "stdout",
     "output_type": "stream",
     "text": [
      "\r",
      "Upgrading database; v3 -> v4: : 0it [00:00, ?it/s]"
     ]
    },
    {
     "name": "stdout",
     "output_type": "stream",
     "text": [
      "\n",
      "\r",
      "  0%|          | 0/1 [00:00<?, ?it/s]"
     ]
    },
    {
     "name": "stdout",
     "output_type": "stream",
     "text": [
      "\r",
      "Upgrading database; v4 -> v5:   0%|          | 0/1 [00:00<?, ?it/s]"
     ]
    },
    {
     "name": "stdout",
     "output_type": "stream",
     "text": [
      "\r",
      "Upgrading database; v4 -> v5: 100%|██████████| 1/1 [00:00<00:00, 715.02it/s]"
     ]
    },
    {
     "name": "stdout",
     "output_type": "stream",
     "text": [
      "\n",
      "\r",
      "0it [00:00, ?it/s]"
     ]
    },
    {
     "name": "stdout",
     "output_type": "stream",
     "text": [
      "\r",
      "Upgrading database; v5 -> v6: : 0it [00:00, ?it/s]"
     ]
    },
    {
     "name": "stdout",
     "output_type": "stream",
     "text": [
      "\r",
      "Upgrading database; v5 -> v6: : 0it [00:00, ?it/s]"
     ]
    },
    {
     "name": "stdout",
     "output_type": "stream",
     "text": [
      "\n",
      "\r",
      "  0%|          | 0/1 [00:00<?, ?it/s]"
     ]
    },
    {
     "name": "stdout",
     "output_type": "stream",
     "text": [
      "\r",
      "Upgrading database; v6 -> v7:   0%|          | 0/1 [00:00<?, ?it/s]"
     ]
    },
    {
     "name": "stdout",
     "output_type": "stream",
     "text": [
      "\r",
      "Upgrading database; v6 -> v7: 100%|██████████| 1/1 [00:00<00:00, 298.36it/s]"
     ]
    },
    {
     "name": "stdout",
     "output_type": "stream",
     "text": [
      "\n",
      "\r",
      "  0%|          | 0/1 [00:00<?, ?it/s]"
     ]
    },
    {
     "name": "stdout",
     "output_type": "stream",
     "text": [
      "\r",
      "Upgrading database; v7 -> v8:   0%|          | 0/1 [00:00<?, ?it/s]"
     ]
    },
    {
     "name": "stdout",
     "output_type": "stream",
     "text": [
      "\r",
      "Upgrading database; v7 -> v8: 100%|██████████| 1/1 [00:00<00:00, 632.05it/s]"
     ]
    },
    {
     "name": "stdout",
     "output_type": "stream",
     "text": [
      "\n",
      "\r",
      "  0%|          | 0/1 [00:00<?, ?it/s]"
     ]
    },
    {
     "name": "stdout",
     "output_type": "stream",
     "text": [
      "\r",
      "Upgrading database; v8 -> v9:   0%|          | 0/1 [00:00<?, ?it/s]"
     ]
    },
    {
     "name": "stdout",
     "output_type": "stream",
     "text": [
      "\r",
      "Upgrading database; v8 -> v9: 100%|██████████| 1/1 [00:00<00:00, 777.59it/s]"
     ]
    },
    {
     "name": "stdout",
     "output_type": "stream",
     "text": [
      "\n"
     ]
    }
   ],
   "source": [
    "initialise_database()\n",
    "exp = load_or_create_experiment(experiment_name='tutorial_exp', sample_name=\"no sample\")"
   ]
  },
  {
   "cell_type": "markdown",
   "metadata": {},
   "source": [
    "Here, we define a simple function to benchmark the time it takes to insert n points with either numeric or array data type.\n",
    "We will compare both the time used to call ``add_result`` and the time used for the full measurement."
   ]
  },
  {
   "cell_type": "code",
   "execution_count": 4,
   "metadata": {
    "execution": {
     "iopub.execute_input": "2020-10-22T19:24:37.602106Z",
     "iopub.status.busy": "2020-10-22T19:24:37.600253Z",
     "iopub.status.idle": "2020-10-22T19:24:37.604626Z",
     "shell.execute_reply": "2020-10-22T19:24:37.604013Z"
    }
   },
   "outputs": [],
   "source": [
    "def insert_data(paramtype, npoints, nreps=1):\n",
    "\n",
    "    meas = Measurement(exp=exp)\n",
    "\n",
    "    x1 = ManualParameter('x1')\n",
    "    x2 = ManualParameter('x2')\n",
    "    x3 = ManualParameter('x3')\n",
    "    y1 = ManualParameter('y1')\n",
    "    y2 = ManualParameter('y2')\n",
    "\n",
    "    meas.register_parameter(x1, paramtype=paramtype)\n",
    "    meas.register_parameter(x2, paramtype=paramtype)\n",
    "    meas.register_parameter(x3, paramtype=paramtype)\n",
    "    meas.register_parameter(y1, setpoints=[x1, x2, x3],\n",
    "                            paramtype=paramtype)\n",
    "    meas.register_parameter(y2, setpoints=[x1, x2, x3],\n",
    "                            paramtype=paramtype)\n",
    "    start = time.perf_counter()\n",
    "    with meas.run() as datasaver:\n",
    "        start_adding = time.perf_counter()\n",
    "        for i in range(nreps):\n",
    "            datasaver.add_result((x1, np.random.rand(npoints)),\n",
    "                                 (x2, np.random.rand(npoints)),\n",
    "                                 (x3, np.random.rand(npoints)),\n",
    "                                 (y1, np.random.rand(npoints)),\n",
    "                                 (y2, np.random.rand(npoints)))\n",
    "        stop_adding = time.perf_counter()\n",
    "        run_id = datasaver.run_id\n",
    "    stop = time.perf_counter()\n",
    "    tot_time = stop - start\n",
    "    add_time = stop_adding - start_adding\n",
    "    return tot_time, add_time, run_id"
   ]
  },
  {
   "cell_type": "markdown",
   "metadata": {},
   "source": [
    "## Comparison between numeric/array data and binary blob"
   ]
  },
  {
   "cell_type": "markdown",
   "metadata": {},
   "source": [
    "### Case1: Short experiment time"
   ]
  },
  {
   "cell_type": "code",
   "execution_count": 5,
   "metadata": {
    "execution": {
     "iopub.execute_input": "2020-10-22T19:24:37.610652Z",
     "iopub.status.busy": "2020-10-22T19:24:37.609977Z",
     "iopub.status.idle": "2020-10-22T19:24:38.607773Z",
     "shell.execute_reply": "2020-10-22T19:24:38.606908Z"
    }
   },
   "outputs": [
    {
     "name": "stdout",
     "output_type": "stream",
     "text": [
      "Starting experimental run with id: 1. \n",
      "Starting experimental run with id: 2. \n",
      "Starting experimental run with id: 3. \n",
      "Starting experimental run with id: 4. \n"
     ]
    },
    {
     "name": "stdout",
     "output_type": "stream",
     "text": [
      "Starting experimental run with id: 5. \n"
     ]
    },
    {
     "name": "stdout",
     "output_type": "stream",
     "text": [
      "Starting experimental run with id: 6. \n",
      "Starting experimental run with id: 7. \n"
     ]
    },
    {
     "name": "stdout",
     "output_type": "stream",
     "text": [
      "Starting experimental run with id: 8. \n"
     ]
    },
    {
     "name": "stdout",
     "output_type": "stream",
     "text": [
      "Starting experimental run with id: 9. \n"
     ]
    },
    {
     "name": "stdout",
     "output_type": "stream",
     "text": [
      "Starting experimental run with id: 10. \n",
      "Starting experimental run with id: 11. \n"
     ]
    },
    {
     "name": "stdout",
     "output_type": "stream",
     "text": [
      "Starting experimental run with id: 12. \n",
      "Starting experimental run with id: 13. \n"
     ]
    },
    {
     "name": "stdout",
     "output_type": "stream",
     "text": [
      "Starting experimental run with id: 14. \n"
     ]
    }
   ],
   "source": [
    "sizes = [1,500,1000,2000,3000,4000,5000]\n",
    "t_numeric = []\n",
    "t_numeric_add = []\n",
    "t_array = []\n",
    "t_array_add = []\n",
    "for size in sizes:\n",
    "    tn, tna, run_id_n =  insert_data('numeric', size)\n",
    "    t_numeric.append(tn)\n",
    "    t_numeric_add.append(tna)\n",
    "\n",
    "    ta, taa, run_id_a =  insert_data('array', size)\n",
    "    t_array.append(ta)\n",
    "    t_array_add.append(taa)"
   ]
  },
  {
   "cell_type": "code",
   "execution_count": 6,
   "metadata": {
    "execution": {
     "iopub.execute_input": "2020-10-22T19:24:38.640394Z",
     "iopub.status.busy": "2020-10-22T19:24:38.628881Z",
     "iopub.status.idle": "2020-10-22T19:24:38.885077Z",
     "shell.execute_reply": "2020-10-22T19:24:38.884379Z"
    }
   },
   "outputs": [
    {
     "data": {
      "image/png": "[encoded data removed]",
      "text/plain": [
       "<Figure size 432x288 with 1 Axes>"
      ]
     },
     "metadata": {
      "needs_background": "light"
     },
     "output_type": "display_data"
    }
   ],
   "source": [
    "fig, ax = plt.subplots(1,1)\n",
    "ax.plot(sizes, t_numeric, 'o-', label='Inserting row-by-row')\n",
    "ax.plot(sizes, t_numeric_add, 'o-', label='Inserting row-by-row: add_result only')\n",
    "ax.plot(sizes, t_array, 'd-', label='Inserting as binary blob')\n",
    "ax.plot(sizes, t_array_add, 'd-', label='Inserting as binary blob: add_result only')\n",
    "ax.legend()\n",
    "ax.set_xlabel('Array length')\n",
    "ax.set_ylabel('Time (s)')\n",
    "fig.tight_layout()"
   ]
  },
  {
   "cell_type": "markdown",
   "metadata": {},
   "source": [
    "As shown in the latter figure, the time to setup and and close the experiment is approximately 0.4 sec. In case of small array sizes, the difference between inserting values of data as arrays and inserting them row-by-row is relatively unimportant. At larger array sizes, i.e. above 10000 points, the cost of writing data as individual datapoints starts to become important.\n"
   ]
  },
  {
   "cell_type": "markdown",
   "metadata": {},
   "source": [
    "### Case2: Long experiment time "
   ]
  },
  {
   "cell_type": "code",
   "execution_count": 7,
   "metadata": {
    "execution": {
     "iopub.execute_input": "2020-10-22T19:24:38.894303Z",
     "iopub.status.busy": "2020-10-22T19:24:38.893613Z",
     "iopub.status.idle": "2020-10-22T19:25:47.326681Z",
     "shell.execute_reply": "2020-10-22T19:25:47.326108Z"
    }
   },
   "outputs": [
    {
     "name": "stdout",
     "output_type": "stream",
     "text": [
      "Starting experimental run with id: 15. \n",
      "Starting experimental run with id: 16. \n"
     ]
    },
    {
     "name": "stdout",
     "output_type": "stream",
     "text": [
      "Starting experimental run with id: 17. \n"
     ]
    },
    {
     "name": "stdout",
     "output_type": "stream",
     "text": [
      "Starting experimental run with id: 18. \n",
      "Starting experimental run with id: 19. \n"
     ]
    },
    {
     "name": "stdout",
     "output_type": "stream",
     "text": [
      "Starting experimental run with id: 20. \n"
     ]
    },
    {
     "name": "stdout",
     "output_type": "stream",
     "text": [
      "Starting experimental run with id: 21. \n"
     ]
    },
    {
     "name": "stdout",
     "output_type": "stream",
     "text": [
      "Starting experimental run with id: 22. \n"
     ]
    },
    {
     "name": "stdout",
     "output_type": "stream",
     "text": [
      "Starting experimental run with id: 23. \n"
     ]
    },
    {
     "name": "stdout",
     "output_type": "stream",
     "text": [
      "Starting experimental run with id: 24. \n"
     ]
    },
    {
     "name": "stdout",
     "output_type": "stream",
     "text": [
      "Starting experimental run with id: 25. \n"
     ]
    },
    {
     "name": "stdout",
     "output_type": "stream",
     "text": [
      "Starting experimental run with id: 26. \n"
     ]
    },
    {
     "name": "stdout",
     "output_type": "stream",
     "text": [
      "Starting experimental run with id: 27. \n"
     ]
    },
    {
     "name": "stdout",
     "output_type": "stream",
     "text": [
      "Starting experimental run with id: 28. \n"
     ]
    }
   ],
   "source": [
    "sizes = [1,500,1000,2000,3000,4000,5000]\n",
    "nreps = 100\n",
    "t_numeric = []\n",
    "t_numeric_add = []\n",
    "t_numeric_run_ids = []\n",
    "t_array = []\n",
    "t_array_add = []\n",
    "t_array_run_ids = []\n",
    "for size in sizes:\n",
    "    tn, tna, run_id_n =  insert_data('numeric', size, nreps=nreps)\n",
    "    t_numeric.append(tn)\n",
    "    t_numeric_add.append(tna)\n",
    "    t_numeric_run_ids.append(run_id_n)\n",
    "\n",
    "    ta, taa, run_id_a =  insert_data('array', size, nreps=nreps)\n",
    "    t_array.append(ta)\n",
    "    t_array_add.append(taa)\n",
    "    t_array_run_ids.append(run_id_a)"
   ]
  },
  {
   "cell_type": "code",
   "execution_count": 8,
   "metadata": {
    "execution": {
     "iopub.execute_input": "2020-10-22T19:25:47.375535Z",
     "iopub.status.busy": "2020-10-22T19:25:47.355611Z",
     "iopub.status.idle": "2020-10-22T19:25:47.568424Z",
     "shell.execute_reply": "2020-10-22T19:25:47.567192Z"
    },
    "scrolled": true
   },
   "outputs": [
    {
     "data": {
      "image/png": "[encoded data removed]",
      "text/plain": [
       "<Figure size 432x288 with 1 Axes>"
      ]
     },
     "metadata": {
      "needs_background": "light"
     },
     "output_type": "display_data"
    }
   ],
   "source": [
    "fig, ax = plt.subplots(1,1)\n",
    "ax.plot(sizes, t_numeric, 'o-', label='Inserting row-by-row')\n",
    "ax.plot(sizes, t_numeric_add, 'o-', label='Inserting row-by-row: add_result only')\n",
    "ax.plot(sizes, t_array, 'd-', label='Inserting as binary blob')\n",
    "ax.plot(sizes, t_array_add, 'd-', label='Inserting as binary blob: add_result only')\n",
    "ax.legend()\n",
    "ax.set_xlabel('Array length')\n",
    "ax.set_ylabel('Time (s)')\n",
    "fig.tight_layout()"
   ]
  },
  {
   "cell_type": "markdown",
   "metadata": {},
   "source": [
    "However, as we increase the length of the experiment, as seen here by repeating the insertion 100 times, we see a big difference between inserting values of the data row-by-row and inserting it as a binary blob."
   ]
  },
  {
   "cell_type": "markdown",
   "metadata": {},
   "source": [
    "## Loading the data "
   ]
  },
  {
   "cell_type": "code",
   "execution_count": 9,
   "metadata": {
    "execution": {
     "iopub.execute_input": "2020-10-22T19:25:47.573912Z",
     "iopub.status.busy": "2020-10-22T19:25:47.572750Z",
     "iopub.status.idle": "2020-10-22T19:25:47.576480Z",
     "shell.execute_reply": "2020-10-22T19:25:47.575836Z"
    }
   },
   "outputs": [],
   "source": [
    "from qcodes.dataset.data_set import load_by_id\n",
    "from qcodes.dataset.data_export import get_data_by_id"
   ]
  },
  {
   "cell_type": "markdown",
   "metadata": {},
   "source": [
    "As usual you can load the data by using the ``load_by_id`` function but you will notice that the different storage methods\n",
    "are reflected in shape of the data as it is retrieved. "
   ]
  },
  {
   "cell_type": "code",
   "execution_count": 10,
   "metadata": {
    "execution": {
     "iopub.execute_input": "2020-10-22T19:25:47.581604Z",
     "iopub.status.busy": "2020-10-22T19:25:47.580100Z",
     "iopub.status.idle": "2020-10-22T19:25:47.582213Z",
     "shell.execute_reply": "2020-10-22T19:25:47.582822Z"
    }
   },
   "outputs": [],
   "source": [
    "run_id_n = t_numeric_run_ids[0]\n",
    "run_id_a = t_array_run_ids[0]"
   ]
  },
  {
   "cell_type": "code",
   "execution_count": 11,
   "metadata": {
    "execution": {
     "iopub.execute_input": "2020-10-22T19:25:47.586844Z",
     "iopub.status.busy": "2020-10-22T19:25:47.586159Z",
     "iopub.status.idle": "2020-10-22T19:25:47.596714Z",
     "shell.execute_reply": "2020-10-22T19:25:47.596101Z"
    },
    "scrolled": true
   },
   "outputs": [
    {
     "data": {
      "text/plain": [
       "{'x1': {'x1': array([0.03857626, 0.03857626, 0.19014187, 0.19014187, 0.35796281,\n",
       "         0.35796281, 0.49672041, 0.49672041, 0.51204542, 0.51204542,\n",
       "         0.8680863 , 0.8680863 , 0.9795724 , 0.9795724 , 0.58812457,\n",
       "         0.58812457, 0.30865871, 0.30865871, 0.87060807, 0.87060807,\n",
       "         0.15024443, 0.15024443, 0.17122844, 0.17122844, 0.21609213,\n",
       "         0.21609213, 0.89242718, 0.89242718, 0.736597  , 0.736597  ,\n",
       "         0.37366611, 0.37366611, 0.20221003, 0.20221003, 0.88461895,\n",
       "         0.88461895, 0.24281582, 0.24281582, 0.49332468, 0.49332468,\n",
       "         0.33268336, 0.33268336, 0.81785472, 0.81785472, 0.03802516,\n",
       "         0.03802516, 0.46598318, 0.46598318, 0.02284792, 0.02284792,\n",
       "         0.75379585, 0.75379585, 0.88761158, 0.88761158, 0.5862121 ,\n",
       "         0.5862121 , 0.84962893, 0.84962893, 0.83909474, 0.83909474,\n",
       "         0.82977093, 0.82977093, 0.72697025, 0.72697025, 0.24399332,\n",
       "         0.24399332, 0.49658339, 0.49658339, 0.16157355, 0.16157355,\n",
       "         0.58409327, 0.58409327, 0.35224048, 0.35224048, 0.37708285,\n",
       "         0.37708285, 0.28649378, 0.28649378, 0.55217001, 0.55217001,\n",
       "         0.5095684 , 0.5095684 , 0.18824517, 0.18824517, 0.86287416,\n",
       "         0.86287416, 0.91904078, 0.91904078, 0.00203851, 0.00203851,\n",
       "         0.80563995, 0.80563995, 0.12262604, 0.12262604, 0.33371949,\n",
       "         0.33371949, 0.87993633, 0.87993633, 0.68012465, 0.68012465,\n",
       "         0.11317871, 0.11317871, 0.21296778, 0.21296778, 0.21162556,\n",
       "         0.21162556, 0.44406124, 0.44406124, 0.67150713, 0.67150713,\n",
       "         0.72804571, 0.72804571, 0.39248555, 0.39248555, 0.09630985,\n",
       "         0.09630985, 0.02588441, 0.02588441, 0.2495265 , 0.2495265 ,\n",
       "         0.73733822, 0.73733822, 0.14271573, 0.14271573, 0.39602332,\n",
       "         0.39602332, 0.53962819, 0.53962819, 0.11865243, 0.11865243,\n",
       "         0.86298856, 0.86298856, 0.0695493 , 0.0695493 , 0.69371568,\n",
       "         0.69371568, 0.5600834 , 0.5600834 , 0.39090327, 0.39090327,\n",
       "         0.31209929, 0.31209929, 0.25894184, 0.25894184, 0.96963531,\n",
       "         0.96963531, 0.80645679, 0.80645679, 0.54589381, 0.54589381,\n",
       "         0.41967787, 0.41967787, 0.85463767, 0.85463767, 0.82374806,\n",
       "         0.82374806, 0.13165681, 0.13165681, 0.83082153, 0.83082153,\n",
       "         0.7703541 , 0.7703541 , 0.78687365, 0.78687365, 0.02123554,\n",
       "         0.02123554, 0.20873284, 0.20873284, 0.43782596, 0.43782596,\n",
       "         0.75444058, 0.75444058, 0.33137962, 0.33137962, 0.6015313 ,\n",
       "         0.6015313 , 0.75238307, 0.75238307, 0.73339912, 0.73339912,\n",
       "         0.19324974, 0.19324974, 0.38065758, 0.38065758, 0.59573982,\n",
       "         0.59573982, 0.59243829, 0.59243829, 0.67064369, 0.67064369,\n",
       "         0.31003906, 0.31003906, 0.27896364, 0.27896364, 0.99119839,\n",
       "         0.99119839, 0.07815958, 0.07815958, 0.42865208, 0.42865208])}}"
      ]
     },
     "execution_count": 1,
     "metadata": {},
     "output_type": "execute_result"
    }
   ],
   "source": [
    "ds = load_by_id(run_id_n)\n",
    "ds.get_parameter_data('x1')"
   ]
  },
  {
   "cell_type": "markdown",
   "metadata": {},
   "source": [
    "And a dataset stored as binary arrays"
   ]
  },
  {
   "cell_type": "code",
   "execution_count": 12,
   "metadata": {
    "execution": {
     "iopub.execute_input": "2020-10-22T19:25:47.600902Z",
     "iopub.status.busy": "2020-10-22T19:25:47.600221Z",
     "iopub.status.idle": "2020-10-22T19:25:47.667614Z",
     "shell.execute_reply": "2020-10-22T19:25:47.668300Z"
    },
    "scrolled": true
   },
   "outputs": [
    {
     "data": {
      "text/plain": [
       "{'x1': {'x1': array([[0.9440352 ],\n",
       "         [0.9440352 ],\n",
       "         [0.36840214],\n",
       "         [0.36840214],\n",
       "         [0.57517434],\n",
       "         [0.57517434],\n",
       "         [0.77762212],\n",
       "         [0.77762212],\n",
       "         [0.3295702 ],\n",
       "         [0.3295702 ],\n",
       "         [0.91232956],\n",
       "         [0.91232956],\n",
       "         [0.21230438],\n",
       "         [0.21230438],\n",
       "         [0.23065896],\n",
       "         [0.23065896],\n",
       "         [0.70467228],\n",
       "         [0.70467228],\n",
       "         [0.07601458],\n",
       "         [0.07601458],\n",
       "         [0.34193716],\n",
       "         [0.34193716],\n",
       "         [0.56445553],\n",
       "         [0.56445553],\n",
       "         [0.93985496],\n",
       "         [0.93985496],\n",
       "         [0.17428166],\n",
       "         [0.17428166],\n",
       "         [0.32137043],\n",
       "         [0.32137043],\n",
       "         [0.73929851],\n",
       "         [0.73929851],\n",
       "         [0.04962299],\n",
       "         [0.04962299],\n",
       "         [0.4902582 ],\n",
       "         [0.4902582 ],\n",
       "         [0.9939907 ],\n",
       "         [0.9939907 ],\n",
       "         [0.83291107],\n",
       "         [0.83291107],\n",
       "         [0.60803411],\n",
       "         [0.60803411],\n",
       "         [0.18000152],\n",
       "         [0.18000152],\n",
       "         [0.13071212],\n",
       "         [0.13071212],\n",
       "         [0.35541044],\n",
       "         [0.35541044],\n",
       "         [0.2894641 ],\n",
       "         [0.2894641 ],\n",
       "         [0.85000968],\n",
       "         [0.85000968],\n",
       "         [0.33140681],\n",
       "         [0.33140681],\n",
       "         [0.51354456],\n",
       "         [0.51354456],\n",
       "         [0.81261025],\n",
       "         [0.81261025],\n",
       "         [0.22369907],\n",
       "         [0.22369907],\n",
       "         [0.36609889],\n",
       "         [0.36609889],\n",
       "         [0.74595505],\n",
       "         [0.74595505],\n",
       "         [0.5942481 ],\n",
       "         [0.5942481 ],\n",
       "         [0.5478858 ],\n",
       "         [0.5478858 ],\n",
       "         [0.57950792],\n",
       "         [0.57950792],\n",
       "         [0.21529574],\n",
       "         [0.21529574],\n",
       "         [0.05071612],\n",
       "         [0.05071612],\n",
       "         [0.65789674],\n",
       "         [0.65789674],\n",
       "         [0.2197404 ],\n",
       "         [0.2197404 ],\n",
       "         [0.06154333],\n",
       "         [0.06154333],\n",
       "         [0.59639301],\n",
       "         [0.59639301],\n",
       "         [0.11471973],\n",
       "         [0.11471973],\n",
       "         [0.53046514],\n",
       "         [0.53046514],\n",
       "         [0.8836219 ],\n",
       "         [0.8836219 ],\n",
       "         [0.81615216],\n",
       "         [0.81615216],\n",
       "         [0.95304339],\n",
       "         [0.95304339],\n",
       "         [0.20170181],\n",
       "         [0.20170181],\n",
       "         [0.06559438],\n",
       "         [0.06559438],\n",
       "         [0.61006465],\n",
       "         [0.61006465],\n",
       "         [0.18746472],\n",
       "         [0.18746472],\n",
       "         [0.95402587],\n",
       "         [0.95402587],\n",
       "         [0.49518213],\n",
       "         [0.49518213],\n",
       "         [0.24869487],\n",
       "         [0.24869487],\n",
       "         [0.29913325],\n",
       "         [0.29913325],\n",
       "         [0.24502827],\n",
       "         [0.24502827],\n",
       "         [0.85132993],\n",
       "         [0.85132993],\n",
       "         [0.05720472],\n",
       "         [0.05720472],\n",
       "         [0.94220627],\n",
       "         [0.94220627],\n",
       "         [0.21264591],\n",
       "         [0.21264591],\n",
       "         [0.98073094],\n",
       "         [0.98073094],\n",
       "         [0.59530573],\n",
       "         [0.59530573],\n",
       "         [0.79161778],\n",
       "         [0.79161778],\n",
       "         [0.92626636],\n",
       "         [0.92626636],\n",
       "         [0.26618898],\n",
       "         [0.26618898],\n",
       "         [0.17543248],\n",
       "         [0.17543248],\n",
       "         [0.01701487],\n",
       "         [0.01701487],\n",
       "         [0.06630755],\n",
       "         [0.06630755],\n",
       "         [0.8714961 ],\n",
       "         [0.8714961 ],\n",
       "         [0.95632995],\n",
       "         [0.95632995],\n",
       "         [0.64293302],\n",
       "         [0.64293302],\n",
       "         [0.99633675],\n",
       "         [0.99633675],\n",
       "         [0.83897346],\n",
       "         [0.83897346],\n",
       "         [0.78813347],\n",
       "         [0.78813347],\n",
       "         [0.35367645],\n",
       "         [0.35367645],\n",
       "         [0.75481457],\n",
       "         [0.75481457],\n",
       "         [0.90880837],\n",
       "         [0.90880837],\n",
       "         [0.93240102],\n",
       "         [0.93240102],\n",
       "         [0.5821549 ],\n",
       "         [0.5821549 ],\n",
       "         [0.95118085],\n",
       "         [0.95118085],\n",
       "         [0.07786817],\n",
       "         [0.07786817],\n",
       "         [0.70464971],\n",
       "         [0.70464971],\n",
       "         [0.78745827],\n",
       "         [0.78745827],\n",
       "         [0.0516399 ],\n",
       "         [0.0516399 ],\n",
       "         [0.97991578],\n",
       "         [0.97991578],\n",
       "         [0.96371662],\n",
       "         [0.96371662],\n",
       "         [0.63811956],\n",
       "         [0.63811956],\n",
       "         [0.45736558],\n",
       "         [0.45736558],\n",
       "         [0.53034498],\n",
       "         [0.53034498],\n",
       "         [0.7519256 ],\n",
       "         [0.7519256 ],\n",
       "         [0.39879526],\n",
       "         [0.39879526],\n",
       "         [0.47903504],\n",
       "         [0.47903504],\n",
       "         [0.54711479],\n",
       "         [0.54711479],\n",
       "         [0.32282246],\n",
       "         [0.32282246],\n",
       "         [0.77886333],\n",
       "         [0.77886333],\n",
       "         [0.38213078],\n",
       "         [0.38213078],\n",
       "         [0.19085983],\n",
       "         [0.19085983],\n",
       "         [0.73910609],\n",
       "         [0.73910609],\n",
       "         [0.68010166],\n",
       "         [0.68010166],\n",
       "         [0.39337712],\n",
       "         [0.39337712],\n",
       "         [0.69869501],\n",
       "         [0.69869501]])}}"
      ]
     },
     "execution_count": 1,
     "metadata": {},
     "output_type": "execute_result"
    }
   ],
   "source": [
    "ds = load_by_id(run_id_a)\n",
    "ds.get_parameter_data('x1')"
   ]
  },
  {
   "cell_type": "code",
   "execution_count": null,
   "metadata": {},
   "outputs": [],
   "source": []
  }
 ],
 "metadata": {
  "kernelspec": {
   "display_name": "Python 3",
   "language": "python",
   "name": "python3"
  },
  "language_info": {
   "codemirror_mode": {
    "name": "ipython",
    "version": 3
   },
   "file_extension": ".py",
   "mimetype": "text/x-python",
   "name": "python",
   "nbconvert_exporter": "python",
   "pygments_lexer": "ipython3",
   "version": "3.7.7"
  },
  "nbsphinx": {
   "timeout": 600
  },
  "toc": {
   "base_numbering": 1,
   "nav_menu": {},
   "number_sections": true,
   "sideBar": true,
   "skip_h1_title": false,
   "title_cell": "Table of Contents",
   "title_sidebar": "Contents",
   "toc_cell": false,
   "toc_position": {},
   "toc_section_display": true,
   "toc_window_display": false
  },
  "varInspector": {
   "cols": {
    "lenName": 16,
    "lenType": 16,
    "lenVar": 40
   },
   "kernels_config": {
    "python": {
     "delete_cmd_postfix": "",
     "delete_cmd_prefix": "del ",
     "library": "var_list.py",
     "varRefreshCmd": "print(var_dic_list())"
    },
    "r": {
     "delete_cmd_postfix": ") ",
     "delete_cmd_prefix": "rm(",
     "library": "var_list.r",
     "varRefreshCmd": "cat(var_dic_list()) "
    }
   },
   "types_to_exclude": [
    "module",
    "function",
    "builtin_function_or_method",
    "instance",
    "_Feature"
   ],
   "window_display": false
  }
 },
 "nbformat": 4,
 "nbformat_minor": 2
}
