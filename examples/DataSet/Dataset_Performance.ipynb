{
 "cells": [
  {
   "cell_type": "markdown",
   "metadata": {},
   "source": [
    "# DataSet Performance\n",
    "\n",
    "This notebook shows the trade-off between inserting data into a database row-by-row and as binary blobs. Inserting the data row-by-row means that we have direct access to all the data and may perform queries directly on the values of the data. On the other hand, as we shall see, this is much slower than inserting the data directly as binary blobs."
   ]
  },
  {
   "cell_type": "markdown",
   "metadata": {},
   "source": [
    "First, we choose a new location for the database to ensure that we don't add a bunch of benchmarking data to the default one."
   ]
  },
  {
   "cell_type": "code",
   "execution_count": 1,
   "metadata": {},
   "outputs": [
    {
     "name": "stdout",
     "output_type": "stream",
     "text": [
      "Logging hadn't been started.\n",
      "Activating auto-logging. Current session state plus future input saved.\n",
      "Filename       : /home/vsts/.qcodes/logs/command_history.log\n",
      "Mode           : append\n",
      "Output logging : True\n",
      "Raw input log  : False\n",
      "Timestamping   : True\n",
      "State          : active\n"
     ]
    },
    {
     "name": "stdout",
     "output_type": "stream",
     "text": [
      "Qcodes Logfile : /home/vsts/.qcodes/logs/200417-18222-qcodes.log\n"
     ]
    }
   ],
   "source": [
    "import os\n",
    "cwd = os.getcwd()\n",
    "import qcodes as qc\n",
    "qc.config[\"core\"][\"db_location\"] = os.path.join(cwd, 'testing.db')\n"
   ]
  },
  {
   "cell_type": "code",
   "execution_count": 2,
   "metadata": {},
   "outputs": [],
   "source": [
    "%matplotlib inline\n",
    "import time\n",
    "import matplotlib.pyplot as plt\n",
    "import numpy as np\n",
    "\n",
    "import qcodes as qc\n",
    "from qcodes.instrument.parameter import ManualParameter\n",
    "from qcodes.dataset.experiment_container import (Experiment,\n",
    "                                                 load_last_experiment,\n",
    "                                                 new_experiment)\n",
    "from qcodes.dataset.sqlite.database import initialise_database\n",
    "from qcodes import load_or_create_experiment\n",
    "from qcodes.dataset.measurements import Measurement"
   ]
  },
  {
   "cell_type": "code",
   "execution_count": 3,
   "metadata": {},
   "outputs": [
    {
     "name": "stdout",
     "output_type": "stream",
     "text": [
      "\r",
      "0it [00:00, ?it/s]"
     ]
    },
    {
     "name": "stdout",
     "output_type": "stream",
     "text": [
      "\r",
      "Upgrading database; v0 -> v1: : 0it [00:00, ?it/s]"
     ]
    },
    {
     "name": "stdout",
     "output_type": "stream",
     "text": [
      "\r",
      "Upgrading database; v0 -> v1: : 0it [00:00, ?it/s]"
     ]
    },
    {
     "name": "stdout",
     "output_type": "stream",
     "text": [
      "\n",
      "\r",
      "  0%|          | 0/1 [00:00<?, ?it/s]"
     ]
    },
    {
     "name": "stdout",
     "output_type": "stream",
     "text": [
      "\r",
      "Upgrading database; v1 -> v2:   0%|          | 0/1 [00:00<?, ?it/s]"
     ]
    },
    {
     "name": "stdout",
     "output_type": "stream",
     "text": [
      "\r",
      "Upgrading database; v1 -> v2: 100%|██████████| 1/1 [00:00<00:00, 1028.02it/s]"
     ]
    },
    {
     "name": "stdout",
     "output_type": "stream",
     "text": [
      "\n",
      "\r",
      "0it [00:00, ?it/s]"
     ]
    },
    {
     "name": "stdout",
     "output_type": "stream",
     "text": [
      "\r",
      "Upgrading database; v2 -> v3: : 0it [00:00, ?it/s]"
     ]
    },
    {
     "name": "stdout",
     "output_type": "stream",
     "text": [
      "\r",
      "Upgrading database; v2 -> v3: : 0it [00:00, ?it/s]"
     ]
    },
    {
     "name": "stdout",
     "output_type": "stream",
     "text": [
      "\n",
      "\r",
      "0it [00:00, ?it/s]"
     ]
    },
    {
     "name": "stdout",
     "output_type": "stream",
     "text": [
      "\r",
      "Upgrading database; v3 -> v4: : 0it [00:00, ?it/s]"
     ]
    },
    {
     "name": "stdout",
     "output_type": "stream",
     "text": [
      "\r",
      "Upgrading database; v3 -> v4: : 0it [00:00, ?it/s]"
     ]
    },
    {
     "name": "stdout",
     "output_type": "stream",
     "text": [
      "\n",
      "\r",
      "  0%|          | 0/1 [00:00<?, ?it/s]"
     ]
    },
    {
     "name": "stdout",
     "output_type": "stream",
     "text": [
      "\r",
      "Upgrading database; v4 -> v5:   0%|          | 0/1 [00:00<?, ?it/s]"
     ]
    },
    {
     "name": "stdout",
     "output_type": "stream",
     "text": [
      "\r",
      "Upgrading database; v4 -> v5: 100%|██████████| 1/1 [00:00<00:00, 1060.24it/s]"
     ]
    },
    {
     "name": "stdout",
     "output_type": "stream",
     "text": [
      "\n",
      "\r",
      "0it [00:00, ?it/s]"
     ]
    },
    {
     "name": "stdout",
     "output_type": "stream",
     "text": [
      "\r",
      "Upgrading database; v5 -> v6: : 0it [00:00, ?it/s]"
     ]
    },
    {
     "name": "stdout",
     "output_type": "stream",
     "text": [
      "\r",
      "Upgrading database; v5 -> v6: : 0it [00:00, ?it/s]"
     ]
    },
    {
     "name": "stdout",
     "output_type": "stream",
     "text": [
      "\n",
      "\r",
      "  0%|          | 0/1 [00:00<?, ?it/s]"
     ]
    },
    {
     "name": "stdout",
     "output_type": "stream",
     "text": [
      "\r",
      "Upgrading database; v6 -> v7:   0%|          | 0/1 [00:00<?, ?it/s]"
     ]
    },
    {
     "name": "stdout",
     "output_type": "stream",
     "text": [
      "\r",
      "Upgrading database; v6 -> v7: 100%|██████████| 1/1 [00:00<00:00, 298.08it/s]"
     ]
    },
    {
     "name": "stdout",
     "output_type": "stream",
     "text": [
      "\n",
      "\r",
      "  0%|          | 0/1 [00:00<?, ?it/s]"
     ]
    },
    {
     "name": "stdout",
     "output_type": "stream",
     "text": [
      "\r",
      "Upgrading database; v7 -> v8:   0%|          | 0/1 [00:00<?, ?it/s]"
     ]
    },
    {
     "name": "stdout",
     "output_type": "stream",
     "text": [
      "\r",
      "Upgrading database; v7 -> v8: 100%|██████████| 1/1 [00:00<00:00, 882.83it/s]"
     ]
    },
    {
     "name": "stdout",
     "output_type": "stream",
     "text": [
      "\n",
      "\r",
      "  0%|          | 0/1 [00:00<?, ?it/s]"
     ]
    },
    {
     "name": "stdout",
     "output_type": "stream",
     "text": [
      "\r",
      "Upgrading database; v8 -> v9:   0%|          | 0/1 [00:00<?, ?it/s]"
     ]
    },
    {
     "name": "stdout",
     "output_type": "stream",
     "text": [
      "\r",
      "Upgrading database; v8 -> v9: 100%|██████████| 1/1 [00:00<00:00, 475.38it/s]"
     ]
    },
    {
     "name": "stdout",
     "output_type": "stream",
     "text": [
      "\n"
     ]
    }
   ],
   "source": [
    "initialise_database()\n",
    "exp = load_or_create_experiment(experiment_name='tutorial_exp', sample_name=\"no sample\")"
   ]
  },
  {
   "cell_type": "markdown",
   "metadata": {},
   "source": [
    "Here, we define a simple function to benchmark the time it takes to insert n points with either numeric or array data type.\n",
    "We will compare both the time used to call ``add_result`` and the time used for the full measurement."
   ]
  },
  {
   "cell_type": "code",
   "execution_count": 4,
   "metadata": {},
   "outputs": [],
   "source": [
    "def insert_data(paramtype, npoints, nreps=1):\n",
    "\n",
    "    meas = Measurement(exp=exp)\n",
    "\n",
    "    x1 = ManualParameter('x1')\n",
    "    x2 = ManualParameter('x2')\n",
    "    x3 = ManualParameter('x3')\n",
    "    y1 = ManualParameter('y1')\n",
    "    y2 = ManualParameter('y2')\n",
    "\n",
    "    meas.register_parameter(x1, paramtype=paramtype)\n",
    "    meas.register_parameter(x2, paramtype=paramtype)\n",
    "    meas.register_parameter(x3, paramtype=paramtype)\n",
    "    meas.register_parameter(y1, setpoints=[x1, x2, x3],\n",
    "                            paramtype=paramtype)\n",
    "    meas.register_parameter(y2, setpoints=[x1, x2, x3],\n",
    "                            paramtype=paramtype)\n",
    "    start = time.perf_counter()\n",
    "    with meas.run() as datasaver:\n",
    "        start_adding = time.perf_counter()\n",
    "        for i in range(nreps):\n",
    "            datasaver.add_result((x1, np.random.rand(npoints)),\n",
    "                                 (x2, np.random.rand(npoints)),\n",
    "                                 (x3, np.random.rand(npoints)),\n",
    "                                 (y1, np.random.rand(npoints)),\n",
    "                                 (y2, np.random.rand(npoints)))\n",
    "        stop_adding = time.perf_counter()\n",
    "        run_id = datasaver.run_id\n",
    "    stop = time.perf_counter()\n",
    "    tot_time = stop - start\n",
    "    add_time = stop_adding - start_adding\n",
    "    return tot_time, add_time, run_id"
   ]
  },
  {
   "cell_type": "markdown",
   "metadata": {},
   "source": [
    "## Comparison between numeric/array data and binary blob"
   ]
  },
  {
   "cell_type": "markdown",
   "metadata": {},
   "source": [
    "### Case1: Short experiment time"
   ]
  },
  {
   "cell_type": "code",
   "execution_count": 5,
   "metadata": {},
   "outputs": [
    {
     "name": "stdout",
     "output_type": "stream",
     "text": [
      "Starting experimental run with id: 1. \n",
      "Starting experimental run with id: 2. \n",
      "Starting experimental run with id: 3. \n"
     ]
    },
    {
     "name": "stdout",
     "output_type": "stream",
     "text": [
      "Starting experimental run with id: 4. \n"
     ]
    },
    {
     "name": "stdout",
     "output_type": "stream",
     "text": [
      "Starting experimental run with id: 5. \n"
     ]
    },
    {
     "name": "stdout",
     "output_type": "stream",
     "text": [
      "Starting experimental run with id: 6. \n"
     ]
    },
    {
     "name": "stdout",
     "output_type": "stream",
     "text": [
      "Starting experimental run with id: 7. \n"
     ]
    },
    {
     "name": "stdout",
     "output_type": "stream",
     "text": [
      "Starting experimental run with id: 8. \n",
      "Starting experimental run with id: 9. \n"
     ]
    },
    {
     "name": "stdout",
     "output_type": "stream",
     "text": [
      "Starting experimental run with id: 10. \n",
      "Starting experimental run with id: 11. \n"
     ]
    },
    {
     "name": "stdout",
     "output_type": "stream",
     "text": [
      "Starting experimental run with id: 12. \n"
     ]
    },
    {
     "name": "stdout",
     "output_type": "stream",
     "text": [
      "Starting experimental run with id: 13. \n"
     ]
    },
    {
     "name": "stdout",
     "output_type": "stream",
     "text": [
      "Starting experimental run with id: 14. \n"
     ]
    }
   ],
   "source": [
    "sizes = [1,500,1000,2000,3000,4000,5000]\n",
    "t_numeric = []\n",
    "t_numeric_add = []\n",
    "t_array = []\n",
    "t_array_add = []\n",
    "for size in sizes:\n",
    "    tn, tna, run_id_n =  insert_data('numeric', size)\n",
    "    t_numeric.append(tn)\n",
    "    t_numeric_add.append(tna)\n",
    "\n",
    "    ta, taa, run_id_a =  insert_data('array', size)\n",
    "    t_array.append(ta)\n",
    "    t_array_add.append(taa)"
   ]
  },
  {
   "cell_type": "code",
   "execution_count": 6,
   "metadata": {},
   "outputs": [
    {
     "data": {
      "image/png": "[encoded data removed]",
      "text/plain": [
       "<Figure size 432x288 with 1 Axes>"
      ]
     },
     "metadata": {
      "needs_background": "light"
     },
     "output_type": "display_data"
    }
   ],
   "source": [
    "fig, ax = plt.subplots(1,1)\n",
    "ax.plot(sizes, t_numeric, 'o-', label='Inserting row-by-row')\n",
    "ax.plot(sizes, t_numeric_add, 'o-', label='Inserting row-by-row: add_result only')\n",
    "ax.plot(sizes, t_array, 'd-', label='Inserting as binary blob')\n",
    "ax.plot(sizes, t_array_add, 'd-', label='Inserting as binary blob: add_result only')\n",
    "ax.legend()\n",
    "ax.set_xlabel('Array length')\n",
    "ax.set_ylabel('Time (s)')\n",
    "fig.tight_layout()"
   ]
  },
  {
   "cell_type": "markdown",
   "metadata": {},
   "source": [
    "As shown in the latter figure, the time to setup and and close the experiment is approximately 0.4 sec. In case of small array sizes, the difference between inserting values of data as arrays and inserting them row-by-row is relatively unimportant. At larger array sizes, i.e. above 10000 points, the cost of writing data as individual datapoints starts to become important.\n"
   ]
  },
  {
   "cell_type": "markdown",
   "metadata": {},
   "source": [
    "### Case2: Long experiment time "
   ]
  },
  {
   "cell_type": "code",
   "execution_count": 7,
   "metadata": {},
   "outputs": [
    {
     "name": "stdout",
     "output_type": "stream",
     "text": [
      "Starting experimental run with id: 15. \n",
      "Starting experimental run with id: 16. \n",
      "Starting experimental run with id: 17. \n"
     ]
    },
    {
     "name": "stdout",
     "output_type": "stream",
     "text": [
      "Starting experimental run with id: 18. \n",
      "Starting experimental run with id: 19. \n"
     ]
    },
    {
     "name": "stdout",
     "output_type": "stream",
     "text": [
      "Starting experimental run with id: 20. \n"
     ]
    },
    {
     "name": "stdout",
     "output_type": "stream",
     "text": [
      "Starting experimental run with id: 21. \n"
     ]
    },
    {
     "name": "stdout",
     "output_type": "stream",
     "text": [
      "Starting experimental run with id: 22. \n"
     ]
    },
    {
     "name": "stdout",
     "output_type": "stream",
     "text": [
      "Starting experimental run with id: 23. \n"
     ]
    },
    {
     "name": "stdout",
     "output_type": "stream",
     "text": [
      "Starting experimental run with id: 24. \n"
     ]
    },
    {
     "name": "stdout",
     "output_type": "stream",
     "text": [
      "Starting experimental run with id: 25. \n"
     ]
    },
    {
     "name": "stdout",
     "output_type": "stream",
     "text": [
      "Starting experimental run with id: 26. \n"
     ]
    },
    {
     "name": "stdout",
     "output_type": "stream",
     "text": [
      "Starting experimental run with id: 27. \n"
     ]
    },
    {
     "name": "stdout",
     "output_type": "stream",
     "text": [
      "Starting experimental run with id: 28. \n"
     ]
    }
   ],
   "source": [
    "sizes = [1,500,1000,2000,3000,4000,5000]\n",
    "nreps = 100\n",
    "t_numeric = []\n",
    "t_numeric_add = []\n",
    "t_numeric_run_ids = []\n",
    "t_array = []\n",
    "t_array_add = []\n",
    "t_array_run_ids = []\n",
    "for size in sizes:\n",
    "    tn, tna, run_id_n =  insert_data('numeric', size, nreps=nreps)\n",
    "    t_numeric.append(tn)\n",
    "    t_numeric_add.append(tna)\n",
    "    t_numeric_run_ids.append(run_id_n)\n",
    "\n",
    "    ta, taa, run_id_a =  insert_data('array', size, nreps=nreps)\n",
    "    t_array.append(ta)\n",
    "    t_array_add.append(taa)\n",
    "    t_array_run_ids.append(run_id_a)"
   ]
  },
  {
   "cell_type": "code",
   "execution_count": 8,
   "metadata": {
    "scrolled": true
   },
   "outputs": [
    {
     "data": {
      "image/png": "[encoded data removed]",
      "text/plain": [
       "<Figure size 432x288 with 1 Axes>"
      ]
     },
     "metadata": {
      "needs_background": "light"
     },
     "output_type": "display_data"
    }
   ],
   "source": [
    "fig, ax = plt.subplots(1,1)\n",
    "ax.plot(sizes, t_numeric, 'o-', label='Inserting row-by-row')\n",
    "ax.plot(sizes, t_numeric_add, 'o-', label='Inserting row-by-row: add_result only')\n",
    "ax.plot(sizes, t_array, 'd-', label='Inserting as binary blob')\n",
    "ax.plot(sizes, t_array_add, 'd-', label='Inserting as binary blob: add_result only')\n",
    "ax.legend()\n",
    "ax.set_xlabel('Array length')\n",
    "ax.set_ylabel('Time (s)')\n",
    "fig.tight_layout()"
   ]
  },
  {
   "cell_type": "markdown",
   "metadata": {},
   "source": [
    "However, as we increase the length of the experiment, as seen here by repeating the insertion 100 times, we see a big difference between inserting values of the data row-by-row and inserting it as a binary blob."
   ]
  },
  {
   "cell_type": "markdown",
   "metadata": {},
   "source": [
    "## Loading the data "
   ]
  },
  {
   "cell_type": "code",
   "execution_count": 9,
   "metadata": {},
   "outputs": [],
   "source": [
    "from qcodes.dataset.data_set import load_by_id\n",
    "from qcodes.dataset.data_export import get_data_by_id"
   ]
  },
  {
   "cell_type": "markdown",
   "metadata": {},
   "source": [
    "As usual you can load the data by using the ``load_by_id`` function but you will notice that the different storage methods\n",
    "are reflected in shape of the data as it is retrieved. "
   ]
  },
  {
   "cell_type": "code",
   "execution_count": 10,
   "metadata": {},
   "outputs": [],
   "source": [
    "run_id_n = t_numeric_run_ids[0]\n",
    "run_id_a = t_array_run_ids[0]"
   ]
  },
  {
   "cell_type": "code",
   "execution_count": 11,
   "metadata": {
    "scrolled": true
   },
   "outputs": [
    {
     "data": {
      "text/plain": [
       "{'x1': {'x1': array([0.1971097 , 0.1971097 , 0.57199556, 0.57199556, 0.24961793,\n",
       "         0.24961793, 0.05710224, 0.05710224, 0.80650325, 0.80650325,\n",
       "         0.65437743, 0.65437743, 0.20323229, 0.20323229, 0.21710236,\n",
       "         0.21710236, 0.15939153, 0.15939153, 0.13920446, 0.13920446,\n",
       "         0.3216312 , 0.3216312 , 0.33939746, 0.33939746, 0.39364014,\n",
       "         0.39364014, 0.16892605, 0.16892605, 0.93112459, 0.93112459,\n",
       "         0.95942879, 0.95942879, 0.27416089, 0.27416089, 0.50041636,\n",
       "         0.50041636, 0.44480806, 0.44480806, 0.28280873, 0.28280873,\n",
       "         0.86201388, 0.86201388, 0.98958858, 0.98958858, 0.41861476,\n",
       "         0.41861476, 0.86909398, 0.86909398, 0.99948959, 0.99948959,\n",
       "         0.38017929, 0.38017929, 0.80193861, 0.80193861, 0.35176922,\n",
       "         0.35176922, 0.75577259, 0.75577259, 0.55444449, 0.55444449,\n",
       "         0.70551143, 0.70551143, 0.56563528, 0.56563528, 0.28555393,\n",
       "         0.28555393, 0.99952752, 0.99952752, 0.5359867 , 0.5359867 ,\n",
       "         0.59921932, 0.59921932, 0.52734472, 0.52734472, 0.86822241,\n",
       "         0.86822241, 0.23285407, 0.23285407, 0.25233377, 0.25233377,\n",
       "         0.64065178, 0.64065178, 0.81365826, 0.81365826, 0.85142262,\n",
       "         0.85142262, 0.13340174, 0.13340174, 0.47127446, 0.47127446,\n",
       "         0.13764054, 0.13764054, 0.40871435, 0.40871435, 0.45420878,\n",
       "         0.45420878, 0.19140016, 0.19140016, 0.285363  , 0.285363  ,\n",
       "         0.24924355, 0.24924355, 0.23703573, 0.23703573, 0.38979873,\n",
       "         0.38979873, 0.88157779, 0.88157779, 0.72533649, 0.72533649,\n",
       "         0.82493866, 0.82493866, 0.71229743, 0.71229743, 0.15546659,\n",
       "         0.15546659, 0.59226645, 0.59226645, 0.16128764, 0.16128764,\n",
       "         0.28593665, 0.28593665, 0.44027292, 0.44027292, 0.61727616,\n",
       "         0.61727616, 0.11560354, 0.11560354, 0.33516873, 0.33516873,\n",
       "         0.95054195, 0.95054195, 0.86081721, 0.86081721, 0.14089963,\n",
       "         0.14089963, 0.5229938 , 0.5229938 , 0.25924679, 0.25924679,\n",
       "         0.97242614, 0.97242614, 0.78270717, 0.78270717, 0.89870995,\n",
       "         0.89870995, 0.23979896, 0.23979896, 0.16696832, 0.16696832,\n",
       "         0.70467521, 0.70467521, 0.76546944, 0.76546944, 0.59304685,\n",
       "         0.59304685, 0.16503934, 0.16503934, 0.4291725 , 0.4291725 ,\n",
       "         0.09360686, 0.09360686, 0.42406851, 0.42406851, 0.06233455,\n",
       "         0.06233455, 0.67259781, 0.67259781, 0.96862188, 0.96862188,\n",
       "         0.33760049, 0.33760049, 0.54870485, 0.54870485, 0.16266095,\n",
       "         0.16266095, 0.71334857, 0.71334857, 0.3176162 , 0.3176162 ,\n",
       "         0.55193167, 0.55193167, 0.15982806, 0.15982806, 0.94874915,\n",
       "         0.94874915, 0.07255631, 0.07255631, 0.22544224, 0.22544224,\n",
       "         0.81915544, 0.81915544, 0.72378239, 0.72378239, 0.610028  ,\n",
       "         0.610028  , 0.52299505, 0.52299505, 0.20266355, 0.20266355])}}"
      ]
     },
     "execution_count": 11,
     "metadata": {},
     "output_type": "execute_result"
    }
   ],
   "source": [
    "ds = load_by_id(run_id_n)\n",
    "ds.get_parameter_data('x1')"
   ]
  },
  {
   "cell_type": "markdown",
   "metadata": {},
   "source": [
    "And a dataset stored as binary arrays"
   ]
  },
  {
   "cell_type": "code",
   "execution_count": 12,
   "metadata": {
    "scrolled": true
   },
   "outputs": [
    {
     "data": {
      "text/plain": [
       "{'x1': {'x1': array([[0.54350324],\n",
       "         [0.54350324],\n",
       "         [0.89485508],\n",
       "         [0.89485508],\n",
       "         [0.87891649],\n",
       "         [0.87891649],\n",
       "         [0.69127667],\n",
       "         [0.69127667],\n",
       "         [0.60694627],\n",
       "         [0.60694627],\n",
       "         [0.43086649],\n",
       "         [0.43086649],\n",
       "         [0.87124453],\n",
       "         [0.87124453],\n",
       "         [0.40363711],\n",
       "         [0.40363711],\n",
       "         [0.28385278],\n",
       "         [0.28385278],\n",
       "         [0.89945982],\n",
       "         [0.89945982],\n",
       "         [0.86959938],\n",
       "         [0.86959938],\n",
       "         [0.89399092],\n",
       "         [0.89399092],\n",
       "         [0.83824714],\n",
       "         [0.83824714],\n",
       "         [0.7029081 ],\n",
       "         [0.7029081 ],\n",
       "         [0.60410646],\n",
       "         [0.60410646],\n",
       "         [0.7602893 ],\n",
       "         [0.7602893 ],\n",
       "         [0.27651585],\n",
       "         [0.27651585],\n",
       "         [0.47590789],\n",
       "         [0.47590789],\n",
       "         [0.18715188],\n",
       "         [0.18715188],\n",
       "         [0.6562886 ],\n",
       "         [0.6562886 ],\n",
       "         [0.55708494],\n",
       "         [0.55708494],\n",
       "         [0.23653142],\n",
       "         [0.23653142],\n",
       "         [0.58146443],\n",
       "         [0.58146443],\n",
       "         [0.06910279],\n",
       "         [0.06910279],\n",
       "         [0.7826363 ],\n",
       "         [0.7826363 ],\n",
       "         [0.96439461],\n",
       "         [0.96439461],\n",
       "         [0.98254206],\n",
       "         [0.98254206],\n",
       "         [0.89691163],\n",
       "         [0.89691163],\n",
       "         [0.00596191],\n",
       "         [0.00596191],\n",
       "         [0.31090993],\n",
       "         [0.31090993],\n",
       "         [0.77683438],\n",
       "         [0.77683438],\n",
       "         [0.58387693],\n",
       "         [0.58387693],\n",
       "         [0.90264639],\n",
       "         [0.90264639],\n",
       "         [0.2505223 ],\n",
       "         [0.2505223 ],\n",
       "         [0.7950297 ],\n",
       "         [0.7950297 ],\n",
       "         [0.48677539],\n",
       "         [0.48677539],\n",
       "         [0.75958299],\n",
       "         [0.75958299],\n",
       "         [0.55717495],\n",
       "         [0.55717495],\n",
       "         [0.57942916],\n",
       "         [0.57942916],\n",
       "         [0.19271162],\n",
       "         [0.19271162],\n",
       "         [0.67043545],\n",
       "         [0.67043545],\n",
       "         [0.93134909],\n",
       "         [0.93134909],\n",
       "         [0.31749334],\n",
       "         [0.31749334],\n",
       "         [0.57251661],\n",
       "         [0.57251661],\n",
       "         [0.27835635],\n",
       "         [0.27835635],\n",
       "         [0.24462628],\n",
       "         [0.24462628],\n",
       "         [0.01740319],\n",
       "         [0.01740319],\n",
       "         [0.8066811 ],\n",
       "         [0.8066811 ],\n",
       "         [0.38037941],\n",
       "         [0.38037941],\n",
       "         [0.43178452],\n",
       "         [0.43178452],\n",
       "         [0.17382485],\n",
       "         [0.17382485],\n",
       "         [0.18673838],\n",
       "         [0.18673838],\n",
       "         [0.23610788],\n",
       "         [0.23610788],\n",
       "         [0.60869824],\n",
       "         [0.60869824],\n",
       "         [0.74443642],\n",
       "         [0.74443642],\n",
       "         [0.40172066],\n",
       "         [0.40172066],\n",
       "         [0.45483075],\n",
       "         [0.45483075],\n",
       "         [0.7470001 ],\n",
       "         [0.7470001 ],\n",
       "         [0.76361456],\n",
       "         [0.76361456],\n",
       "         [0.90563776],\n",
       "         [0.90563776],\n",
       "         [0.93294587],\n",
       "         [0.93294587],\n",
       "         [0.90636718],\n",
       "         [0.90636718],\n",
       "         [0.36604203],\n",
       "         [0.36604203],\n",
       "         [0.77490179],\n",
       "         [0.77490179],\n",
       "         [0.95432995],\n",
       "         [0.95432995],\n",
       "         [0.40258473],\n",
       "         [0.40258473],\n",
       "         [0.74316239],\n",
       "         [0.74316239],\n",
       "         [0.53309651],\n",
       "         [0.53309651],\n",
       "         [0.4256749 ],\n",
       "         [0.4256749 ],\n",
       "         [0.29189262],\n",
       "         [0.29189262],\n",
       "         [0.64194542],\n",
       "         [0.64194542],\n",
       "         [0.95786817],\n",
       "         [0.95786817],\n",
       "         [0.0836893 ],\n",
       "         [0.0836893 ],\n",
       "         [0.40895325],\n",
       "         [0.40895325],\n",
       "         [0.52943291],\n",
       "         [0.52943291],\n",
       "         [0.27758807],\n",
       "         [0.27758807],\n",
       "         [0.43182183],\n",
       "         [0.43182183],\n",
       "         [0.95141337],\n",
       "         [0.95141337],\n",
       "         [0.1033752 ],\n",
       "         [0.1033752 ],\n",
       "         [0.17291549],\n",
       "         [0.17291549],\n",
       "         [0.77903063],\n",
       "         [0.77903063],\n",
       "         [0.94069794],\n",
       "         [0.94069794],\n",
       "         [0.46514402],\n",
       "         [0.46514402],\n",
       "         [0.85175641],\n",
       "         [0.85175641],\n",
       "         [0.4231678 ],\n",
       "         [0.4231678 ],\n",
       "         [0.18424714],\n",
       "         [0.18424714],\n",
       "         [0.5941785 ],\n",
       "         [0.5941785 ],\n",
       "         [0.02212672],\n",
       "         [0.02212672],\n",
       "         [0.90780974],\n",
       "         [0.90780974],\n",
       "         [0.24085893],\n",
       "         [0.24085893],\n",
       "         [0.54308073],\n",
       "         [0.54308073],\n",
       "         [0.47905697],\n",
       "         [0.47905697],\n",
       "         [0.1430676 ],\n",
       "         [0.1430676 ],\n",
       "         [0.48760645],\n",
       "         [0.48760645],\n",
       "         [0.26364915],\n",
       "         [0.26364915],\n",
       "         [0.15546599],\n",
       "         [0.15546599],\n",
       "         [0.63951713],\n",
       "         [0.63951713],\n",
       "         [0.37345152],\n",
       "         [0.37345152],\n",
       "         [0.28353105],\n",
       "         [0.28353105],\n",
       "         [0.91954346],\n",
       "         [0.91954346]])}}"
      ]
     },
     "execution_count": 12,
     "metadata": {},
     "output_type": "execute_result"
    }
   ],
   "source": [
    "ds = load_by_id(run_id_a)\n",
    "ds.get_parameter_data('x1')"
   ]
  },
  {
   "cell_type": "code",
   "execution_count": null,
   "metadata": {},
   "outputs": [],
   "source": []
  }
 ],
 "metadata": {
  "kernelspec": {
   "display_name": "Python 3",
   "language": "python",
   "name": "python3"
  },
  "language_info": {
   "codemirror_mode": {
    "name": "ipython",
    "version": 3
   },
   "file_extension": ".py",
   "mimetype": "text/x-python",
   "name": "python",
   "nbconvert_exporter": "python",
   "pygments_lexer": "ipython3",
   "version": "3.7.7"
  },
  "nbsphinx": {
   "timeout": 600
  },
  "toc": {
   "base_numbering": 1,
   "nav_menu": {},
   "number_sections": true,
   "sideBar": true,
   "skip_h1_title": false,
   "title_cell": "Table of Contents",
   "title_sidebar": "Contents",
   "toc_cell": false,
   "toc_position": {},
   "toc_section_display": true,
   "toc_window_display": false
  },
  "varInspector": {
   "cols": {
    "lenName": 16,
    "lenType": 16,
    "lenVar": 40
   },
   "kernels_config": {
    "python": {
     "delete_cmd_postfix": "",
     "delete_cmd_prefix": "del ",
     "library": "var_list.py",
     "varRefreshCmd": "print(var_dic_list())"
    },
    "r": {
     "delete_cmd_postfix": ") ",
     "delete_cmd_prefix": "rm(",
     "library": "var_list.r",
     "varRefreshCmd": "cat(var_dic_list()) "
    }
   },
   "types_to_exclude": [
    "module",
    "function",
    "builtin_function_or_method",
    "instance",
    "_Feature"
   ],
   "window_display": false
  }
 },
 "nbformat": 4,
 "nbformat_minor": 2
}
