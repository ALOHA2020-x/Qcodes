{
 "cells": [
  {
   "cell_type": "markdown",
   "metadata": {},
   "source": [
    "# DataSet Performance\n",
    "\n",
    "This notebook shows the trade-off between inserting data into a database row-by-row and as binary blobs. Inserting the data row-by-row means that we have direct access to all the data and may perform queries directly on the values of the data. On the other hand, as we shall see, this is much slower than inserting the data directly as binary blobs."
   ]
  },
  {
   "cell_type": "markdown",
   "metadata": {},
   "source": [
    "First, we choose a new location for the database to ensure that we don't add a bunch of benchmarking data to the default one."
   ]
  },
  {
   "cell_type": "code",
   "execution_count": 1,
   "metadata": {
    "execution": {
     "iopub.execute_input": "2020-09-28T09:18:01.505577Z",
     "iopub.status.busy": "2020-09-28T09:18:01.505034Z",
     "iopub.status.idle": "2020-09-28T09:18:02.401593Z",
     "shell.execute_reply": "2020-09-28T09:18:02.402079Z"
    }
   },
   "outputs": [
    {
     "name": "stdout",
     "output_type": "stream",
     "text": [
      "Logging hadn't been started.\n",
      "Activating auto-logging. Current session state plus future input saved.\n",
      "Filename       : /home/vsts/.qcodes/logs/command_history.log\n",
      "Mode           : append\n",
      "Output logging : True\n",
      "Raw input log  : False\n",
      "Timestamping   : True\n",
      "State          : active\n"
     ]
    },
    {
     "name": "stdout",
     "output_type": "stream",
     "text": [
      "Qcodes Logfile : /home/vsts/.qcodes/logs/200928-18633-qcodes.log\n"
     ]
    }
   ],
   "source": [
    "import os\n",
    "cwd = os.getcwd()\n",
    "import qcodes as qc\n",
    "qc.config[\"core\"][\"db_location\"] = os.path.join(cwd, 'testing.db')\n"
   ]
  },
  {
   "cell_type": "code",
   "execution_count": 2,
   "metadata": {
    "execution": {
     "iopub.execute_input": "2020-09-28T09:18:02.407688Z",
     "iopub.status.busy": "2020-09-28T09:18:02.407187Z",
     "iopub.status.idle": "2020-09-28T09:18:02.570416Z",
     "shell.execute_reply": "2020-09-28T09:18:02.569873Z"
    }
   },
   "outputs": [],
   "source": [
    "%matplotlib inline\n",
    "import time\n",
    "import matplotlib.pyplot as plt\n",
    "import numpy as np\n",
    "\n",
    "import qcodes as qc\n",
    "from qcodes.instrument.parameter import ManualParameter\n",
    "from qcodes.dataset.experiment_container import (Experiment,\n",
    "                                                 load_last_experiment,\n",
    "                                                 new_experiment)\n",
    "from qcodes.dataset.sqlite.database import initialise_database\n",
    "from qcodes import load_or_create_experiment\n",
    "from qcodes.dataset.measurements import Measurement"
   ]
  },
  {
   "cell_type": "code",
   "execution_count": 3,
   "metadata": {
    "execution": {
     "iopub.execute_input": "2020-09-28T09:18:02.574122Z",
     "iopub.status.busy": "2020-09-28T09:18:02.573586Z",
     "iopub.status.idle": "2020-09-28T09:18:02.675307Z",
     "shell.execute_reply": "2020-09-28T09:18:02.675669Z"
    }
   },
   "outputs": [
    {
     "name": "stdout",
     "output_type": "stream",
     "text": [
      "\r",
      "0it [00:00, ?it/s]"
     ]
    },
    {
     "name": "stdout",
     "output_type": "stream",
     "text": [
      "\r",
      "Upgrading database; v0 -> v1: : 0it [00:00, ?it/s]"
     ]
    },
    {
     "name": "stdout",
     "output_type": "stream",
     "text": [
      "\r",
      "Upgrading database; v0 -> v1: : 0it [00:00, ?it/s]"
     ]
    },
    {
     "name": "stdout",
     "output_type": "stream",
     "text": [
      "\n",
      "\r",
      "  0%|          | 0/1 [00:00<?, ?it/s]"
     ]
    },
    {
     "name": "stdout",
     "output_type": "stream",
     "text": [
      "\r",
      "Upgrading database; v1 -> v2:   0%|          | 0/1 [00:00<?, ?it/s]"
     ]
    },
    {
     "name": "stdout",
     "output_type": "stream",
     "text": [
      "\r",
      "Upgrading database; v1 -> v2: 100%|██████████| 1/1 [00:00<00:00, 491.14it/s]"
     ]
    },
    {
     "name": "stdout",
     "output_type": "stream",
     "text": [
      "\n",
      "\r",
      "0it [00:00, ?it/s]"
     ]
    },
    {
     "name": "stdout",
     "output_type": "stream",
     "text": [
      "\r",
      "Upgrading database; v2 -> v3: : 0it [00:00, ?it/s]"
     ]
    },
    {
     "name": "stdout",
     "output_type": "stream",
     "text": [
      "\r",
      "Upgrading database; v2 -> v3: : 0it [00:00, ?it/s]"
     ]
    },
    {
     "name": "stdout",
     "output_type": "stream",
     "text": [
      "\n",
      "\r",
      "0it [00:00, ?it/s]"
     ]
    },
    {
     "name": "stdout",
     "output_type": "stream",
     "text": [
      "\r",
      "Upgrading database; v3 -> v4: : 0it [00:00, ?it/s]"
     ]
    },
    {
     "name": "stdout",
     "output_type": "stream",
     "text": [
      "\r",
      "Upgrading database; v3 -> v4: : 0it [00:00, ?it/s]"
     ]
    },
    {
     "name": "stdout",
     "output_type": "stream",
     "text": [
      "\n",
      "\r",
      "  0%|          | 0/1 [00:00<?, ?it/s]"
     ]
    },
    {
     "name": "stdout",
     "output_type": "stream",
     "text": [
      "\r",
      "Upgrading database; v4 -> v5:   0%|          | 0/1 [00:00<?, ?it/s]"
     ]
    },
    {
     "name": "stdout",
     "output_type": "stream",
     "text": [
      "\r",
      "Upgrading database; v4 -> v5: 100%|██████████| 1/1 [00:00<00:00, 562.39it/s]"
     ]
    },
    {
     "name": "stdout",
     "output_type": "stream",
     "text": [
      "\n",
      "\r",
      "0it [00:00, ?it/s]"
     ]
    },
    {
     "name": "stdout",
     "output_type": "stream",
     "text": [
      "\r",
      "Upgrading database; v5 -> v6: : 0it [00:00, ?it/s]"
     ]
    },
    {
     "name": "stdout",
     "output_type": "stream",
     "text": [
      "\r",
      "Upgrading database; v5 -> v6: : 0it [00:00, ?it/s]"
     ]
    },
    {
     "name": "stdout",
     "output_type": "stream",
     "text": [
      "\n",
      "\r",
      "  0%|          | 0/1 [00:00<?, ?it/s]"
     ]
    },
    {
     "name": "stdout",
     "output_type": "stream",
     "text": [
      "\r",
      "Upgrading database; v6 -> v7:   0%|          | 0/1 [00:00<?, ?it/s]"
     ]
    },
    {
     "name": "stdout",
     "output_type": "stream",
     "text": [
      "\r",
      "Upgrading database; v6 -> v7: 100%|██████████| 1/1 [00:00<00:00, 431.87it/s]"
     ]
    },
    {
     "name": "stdout",
     "output_type": "stream",
     "text": [
      "\n",
      "\r",
      "  0%|          | 0/1 [00:00<?, ?it/s]"
     ]
    },
    {
     "name": "stdout",
     "output_type": "stream",
     "text": [
      "\r",
      "Upgrading database; v7 -> v8:   0%|          | 0/1 [00:00<?, ?it/s]"
     ]
    },
    {
     "name": "stdout",
     "output_type": "stream",
     "text": [
      "\r",
      "Upgrading database; v7 -> v8: 100%|██████████| 1/1 [00:00<00:00, 676.28it/s]"
     ]
    },
    {
     "name": "stdout",
     "output_type": "stream",
     "text": [
      "\n",
      "\r",
      "  0%|          | 0/1 [00:00<?, ?it/s]"
     ]
    },
    {
     "name": "stdout",
     "output_type": "stream",
     "text": [
      "\r",
      "Upgrading database; v8 -> v9:   0%|          | 0/1 [00:00<?, ?it/s]"
     ]
    },
    {
     "name": "stdout",
     "output_type": "stream",
     "text": [
      "\r",
      "Upgrading database; v8 -> v9: 100%|██████████| 1/1 [00:00<00:00, 459.10it/s]"
     ]
    },
    {
     "name": "stdout",
     "output_type": "stream",
     "text": [
      "\n"
     ]
    }
   ],
   "source": [
    "initialise_database()\n",
    "exp = load_or_create_experiment(experiment_name='tutorial_exp', sample_name=\"no sample\")"
   ]
  },
  {
   "cell_type": "markdown",
   "metadata": {},
   "source": [
    "Here, we define a simple function to benchmark the time it takes to insert n points with either numeric or array data type.\n",
    "We will compare both the time used to call ``add_result`` and the time used for the full measurement."
   ]
  },
  {
   "cell_type": "code",
   "execution_count": 4,
   "metadata": {
    "execution": {
     "iopub.execute_input": "2020-09-28T09:18:02.683613Z",
     "iopub.status.busy": "2020-09-28T09:18:02.683130Z",
     "iopub.status.idle": "2020-09-28T09:18:02.686092Z",
     "shell.execute_reply": "2020-09-28T09:18:02.686520Z"
    }
   },
   "outputs": [],
   "source": [
    "def insert_data(paramtype, npoints, nreps=1):\n",
    "\n",
    "    meas = Measurement(exp=exp)\n",
    "\n",
    "    x1 = ManualParameter('x1')\n",
    "    x2 = ManualParameter('x2')\n",
    "    x3 = ManualParameter('x3')\n",
    "    y1 = ManualParameter('y1')\n",
    "    y2 = ManualParameter('y2')\n",
    "\n",
    "    meas.register_parameter(x1, paramtype=paramtype)\n",
    "    meas.register_parameter(x2, paramtype=paramtype)\n",
    "    meas.register_parameter(x3, paramtype=paramtype)\n",
    "    meas.register_parameter(y1, setpoints=[x1, x2, x3],\n",
    "                            paramtype=paramtype)\n",
    "    meas.register_parameter(y2, setpoints=[x1, x2, x3],\n",
    "                            paramtype=paramtype)\n",
    "    start = time.perf_counter()\n",
    "    with meas.run() as datasaver:\n",
    "        start_adding = time.perf_counter()\n",
    "        for i in range(nreps):\n",
    "            datasaver.add_result((x1, np.random.rand(npoints)),\n",
    "                                 (x2, np.random.rand(npoints)),\n",
    "                                 (x3, np.random.rand(npoints)),\n",
    "                                 (y1, np.random.rand(npoints)),\n",
    "                                 (y2, np.random.rand(npoints)))\n",
    "        stop_adding = time.perf_counter()\n",
    "        run_id = datasaver.run_id\n",
    "    stop = time.perf_counter()\n",
    "    tot_time = stop - start\n",
    "    add_time = stop_adding - start_adding\n",
    "    return tot_time, add_time, run_id"
   ]
  },
  {
   "cell_type": "markdown",
   "metadata": {},
   "source": [
    "## Comparison between numeric/array data and binary blob"
   ]
  },
  {
   "cell_type": "markdown",
   "metadata": {},
   "source": [
    "### Case1: Short experiment time"
   ]
  },
  {
   "cell_type": "code",
   "execution_count": 5,
   "metadata": {
    "execution": {
     "iopub.execute_input": "2020-09-28T09:18:02.691307Z",
     "iopub.status.busy": "2020-09-28T09:18:02.690129Z",
     "iopub.status.idle": "2020-09-28T09:18:03.448704Z",
     "shell.execute_reply": "2020-09-28T09:18:03.449532Z"
    }
   },
   "outputs": [
    {
     "name": "stdout",
     "output_type": "stream",
     "text": [
      "Starting experimental run with id: 1. \n",
      "Starting experimental run with id: 2. \n",
      "Starting experimental run with id: 3. \n",
      "Starting experimental run with id: 4. \n",
      "Starting experimental run with id: 5. \n",
      "Starting experimental run with id: 6. \n"
     ]
    },
    {
     "name": "stdout",
     "output_type": "stream",
     "text": [
      "Starting experimental run with id: 7. \n"
     ]
    },
    {
     "name": "stdout",
     "output_type": "stream",
     "text": [
      "Starting experimental run with id: 8. \n",
      "Starting experimental run with id: 9. \n"
     ]
    },
    {
     "name": "stdout",
     "output_type": "stream",
     "text": [
      "Starting experimental run with id: 10. \n",
      "Starting experimental run with id: 11. \n"
     ]
    },
    {
     "name": "stdout",
     "output_type": "stream",
     "text": [
      "Starting experimental run with id: 12. \n",
      "Starting experimental run with id: 13. \n"
     ]
    },
    {
     "name": "stdout",
     "output_type": "stream",
     "text": [
      "Starting experimental run with id: 14. \n"
     ]
    }
   ],
   "source": [
    "sizes = [1,500,1000,2000,3000,4000,5000]\n",
    "t_numeric = []\n",
    "t_numeric_add = []\n",
    "t_array = []\n",
    "t_array_add = []\n",
    "for size in sizes:\n",
    "    tn, tna, run_id_n =  insert_data('numeric', size)\n",
    "    t_numeric.append(tn)\n",
    "    t_numeric_add.append(tna)\n",
    "\n",
    "    ta, taa, run_id_a =  insert_data('array', size)\n",
    "    t_array.append(ta)\n",
    "    t_array_add.append(taa)"
   ]
  },
  {
   "cell_type": "code",
   "execution_count": 6,
   "metadata": {
    "execution": {
     "iopub.execute_input": "2020-09-28T09:18:03.465792Z",
     "iopub.status.busy": "2020-09-28T09:18:03.463694Z",
     "iopub.status.idle": "2020-09-28T09:18:03.626660Z",
     "shell.execute_reply": "2020-09-28T09:18:03.626171Z"
    }
   },
   "outputs": [
    {
     "data": {
      "image/png": "[encoded data removed]",
      "text/plain": [
       "<Figure size 432x288 with 1 Axes>"
      ]
     },
     "metadata": {
      "needs_background": "light"
     },
     "output_type": "display_data"
    }
   ],
   "source": [
    "fig, ax = plt.subplots(1,1)\n",
    "ax.plot(sizes, t_numeric, 'o-', label='Inserting row-by-row')\n",
    "ax.plot(sizes, t_numeric_add, 'o-', label='Inserting row-by-row: add_result only')\n",
    "ax.plot(sizes, t_array, 'd-', label='Inserting as binary blob')\n",
    "ax.plot(sizes, t_array_add, 'd-', label='Inserting as binary blob: add_result only')\n",
    "ax.legend()\n",
    "ax.set_xlabel('Array length')\n",
    "ax.set_ylabel('Time (s)')\n",
    "fig.tight_layout()"
   ]
  },
  {
   "cell_type": "markdown",
   "metadata": {},
   "source": [
    "As shown in the latter figure, the time to setup and and close the experiment is approximately 0.4 sec. In case of small array sizes, the difference between inserting values of data as arrays and inserting them row-by-row is relatively unimportant. At larger array sizes, i.e. above 10000 points, the cost of writing data as individual datapoints starts to become important.\n"
   ]
  },
  {
   "cell_type": "markdown",
   "metadata": {},
   "source": [
    "### Case2: Long experiment time "
   ]
  },
  {
   "cell_type": "code",
   "execution_count": 7,
   "metadata": {
    "execution": {
     "iopub.execute_input": "2020-09-28T09:18:03.633292Z",
     "iopub.status.busy": "2020-09-28T09:18:03.632704Z",
     "iopub.status.idle": "2020-09-28T09:18:56.741646Z",
     "shell.execute_reply": "2020-09-28T09:18:56.741169Z"
    }
   },
   "outputs": [
    {
     "name": "stdout",
     "output_type": "stream",
     "text": [
      "Starting experimental run with id: 15. \n",
      "Starting experimental run with id: 16. \n",
      "Starting experimental run with id: 17. \n"
     ]
    },
    {
     "name": "stdout",
     "output_type": "stream",
     "text": [
      "Starting experimental run with id: 18. \n",
      "Starting experimental run with id: 19. \n"
     ]
    },
    {
     "name": "stdout",
     "output_type": "stream",
     "text": [
      "Starting experimental run with id: 20. \n"
     ]
    },
    {
     "name": "stdout",
     "output_type": "stream",
     "text": [
      "Starting experimental run with id: 21. \n"
     ]
    },
    {
     "name": "stdout",
     "output_type": "stream",
     "text": [
      "Starting experimental run with id: 22. \n"
     ]
    },
    {
     "name": "stdout",
     "output_type": "stream",
     "text": [
      "Starting experimental run with id: 23. \n"
     ]
    },
    {
     "name": "stdout",
     "output_type": "stream",
     "text": [
      "Starting experimental run with id: 24. \n"
     ]
    },
    {
     "name": "stdout",
     "output_type": "stream",
     "text": [
      "Starting experimental run with id: 25. \n"
     ]
    },
    {
     "name": "stdout",
     "output_type": "stream",
     "text": [
      "Starting experimental run with id: 26. \n"
     ]
    },
    {
     "name": "stdout",
     "output_type": "stream",
     "text": [
      "Starting experimental run with id: 27. \n"
     ]
    },
    {
     "name": "stdout",
     "output_type": "stream",
     "text": [
      "Starting experimental run with id: 28. \n"
     ]
    }
   ],
   "source": [
    "sizes = [1,500,1000,2000,3000,4000,5000]\n",
    "nreps = 100\n",
    "t_numeric = []\n",
    "t_numeric_add = []\n",
    "t_numeric_run_ids = []\n",
    "t_array = []\n",
    "t_array_add = []\n",
    "t_array_run_ids = []\n",
    "for size in sizes:\n",
    "    tn, tna, run_id_n =  insert_data('numeric', size, nreps=nreps)\n",
    "    t_numeric.append(tn)\n",
    "    t_numeric_add.append(tna)\n",
    "    t_numeric_run_ids.append(run_id_n)\n",
    "\n",
    "    ta, taa, run_id_a =  insert_data('array', size, nreps=nreps)\n",
    "    t_array.append(ta)\n",
    "    t_array_add.append(taa)\n",
    "    t_array_run_ids.append(run_id_a)"
   ]
  },
  {
   "cell_type": "code",
   "execution_count": 8,
   "metadata": {
    "execution": {
     "iopub.execute_input": "2020-09-28T09:18:56.757989Z",
     "iopub.status.busy": "2020-09-28T09:18:56.757169Z",
     "iopub.status.idle": "2020-09-28T09:18:56.918900Z",
     "shell.execute_reply": "2020-09-28T09:18:56.918464Z"
    },
    "scrolled": true
   },
   "outputs": [
    {
     "data": {
      "image/png": "[encoded data removed]",
      "text/plain": [
       "<Figure size 432x288 with 1 Axes>"
      ]
     },
     "metadata": {
      "needs_background": "light"
     },
     "output_type": "display_data"
    }
   ],
   "source": [
    "fig, ax = plt.subplots(1,1)\n",
    "ax.plot(sizes, t_numeric, 'o-', label='Inserting row-by-row')\n",
    "ax.plot(sizes, t_numeric_add, 'o-', label='Inserting row-by-row: add_result only')\n",
    "ax.plot(sizes, t_array, 'd-', label='Inserting as binary blob')\n",
    "ax.plot(sizes, t_array_add, 'd-', label='Inserting as binary blob: add_result only')\n",
    "ax.legend()\n",
    "ax.set_xlabel('Array length')\n",
    "ax.set_ylabel('Time (s)')\n",
    "fig.tight_layout()"
   ]
  },
  {
   "cell_type": "markdown",
   "metadata": {},
   "source": [
    "However, as we increase the length of the experiment, as seen here by repeating the insertion 100 times, we see a big difference between inserting values of the data row-by-row and inserting it as a binary blob."
   ]
  },
  {
   "cell_type": "markdown",
   "metadata": {},
   "source": [
    "## Loading the data "
   ]
  },
  {
   "cell_type": "code",
   "execution_count": 9,
   "metadata": {
    "execution": {
     "iopub.execute_input": "2020-09-28T09:18:56.922848Z",
     "iopub.status.busy": "2020-09-28T09:18:56.922107Z",
     "iopub.status.idle": "2020-09-28T09:18:56.926102Z",
     "shell.execute_reply": "2020-09-28T09:18:56.925685Z"
    }
   },
   "outputs": [],
   "source": [
    "from qcodes.dataset.data_set import load_by_id\n",
    "from qcodes.dataset.data_export import get_data_by_id"
   ]
  },
  {
   "cell_type": "markdown",
   "metadata": {},
   "source": [
    "As usual you can load the data by using the ``load_by_id`` function but you will notice that the different storage methods\n",
    "are reflected in shape of the data as it is retrieved. "
   ]
  },
  {
   "cell_type": "code",
   "execution_count": 10,
   "metadata": {
    "execution": {
     "iopub.execute_input": "2020-09-28T09:18:56.929465Z",
     "iopub.status.busy": "2020-09-28T09:18:56.928990Z",
     "iopub.status.idle": "2020-09-28T09:18:56.932546Z",
     "shell.execute_reply": "2020-09-28T09:18:56.932117Z"
    }
   },
   "outputs": [],
   "source": [
    "run_id_n = t_numeric_run_ids[0]\n",
    "run_id_a = t_array_run_ids[0]"
   ]
  },
  {
   "cell_type": "code",
   "execution_count": 11,
   "metadata": {
    "execution": {
     "iopub.execute_input": "2020-09-28T09:18:56.935930Z",
     "iopub.status.busy": "2020-09-28T09:18:56.935027Z",
     "iopub.status.idle": "2020-09-28T09:18:56.945460Z",
     "shell.execute_reply": "2020-09-28T09:18:56.945076Z"
    },
    "scrolled": true
   },
   "outputs": [
    {
     "data": {
      "text/plain": [
       "{'x1': {'x1': array([0.68703108, 0.68703108, 0.33641351, 0.33641351, 0.59006291,\n",
       "         0.59006291, 0.91098909, 0.91098909, 0.56594596, 0.56594596,\n",
       "         0.44972179, 0.44972179, 0.4880296 , 0.4880296 , 0.65596772,\n",
       "         0.65596772, 0.74757006, 0.74757006, 0.93540946, 0.93540946,\n",
       "         0.87415256, 0.87415256, 0.18809672, 0.18809672, 0.83737393,\n",
       "         0.83737393, 0.21921374, 0.21921374, 0.15642787, 0.15642787,\n",
       "         0.12326099, 0.12326099, 0.92552453, 0.92552453, 0.60851105,\n",
       "         0.60851105, 0.76439055, 0.76439055, 0.33952955, 0.33952955,\n",
       "         0.51532453, 0.51532453, 0.91475747, 0.91475747, 0.76642652,\n",
       "         0.76642652, 0.11431721, 0.11431721, 0.31803299, 0.31803299,\n",
       "         0.508918  , 0.508918  , 0.22078008, 0.22078008, 0.01867008,\n",
       "         0.01867008, 0.30531253, 0.30531253, 0.84389947, 0.84389947,\n",
       "         0.76012885, 0.76012885, 0.81804207, 0.81804207, 0.34534246,\n",
       "         0.34534246, 0.83285222, 0.83285222, 0.91182672, 0.91182672,\n",
       "         0.98779953, 0.98779953, 0.63089354, 0.63089354, 0.44186443,\n",
       "         0.44186443, 0.22182319, 0.22182319, 0.86188977, 0.86188977,\n",
       "         0.81345876, 0.81345876, 0.93681695, 0.93681695, 0.22818636,\n",
       "         0.22818636, 0.46355292, 0.46355292, 0.37095336, 0.37095336,\n",
       "         0.68273008, 0.68273008, 0.87807264, 0.87807264, 0.36151549,\n",
       "         0.36151549, 0.83607383, 0.83607383, 0.95139041, 0.95139041,\n",
       "         0.10204293, 0.10204293, 0.52439008, 0.52439008, 0.36166625,\n",
       "         0.36166625, 0.66166666, 0.66166666, 0.38262178, 0.38262178,\n",
       "         0.74949544, 0.74949544, 0.08607925, 0.08607925, 0.32556599,\n",
       "         0.32556599, 0.84331395, 0.84331395, 0.03747475, 0.03747475,\n",
       "         0.20227819, 0.20227819, 0.89786658, 0.89786658, 0.65585145,\n",
       "         0.65585145, 0.32244135, 0.32244135, 0.53654889, 0.53654889,\n",
       "         0.39293128, 0.39293128, 0.46056236, 0.46056236, 0.79444684,\n",
       "         0.79444684, 0.53544459, 0.53544459, 0.43360357, 0.43360357,\n",
       "         0.22247637, 0.22247637, 0.24047418, 0.24047418, 0.49055212,\n",
       "         0.49055212, 0.8532118 , 0.8532118 , 0.83865242, 0.83865242,\n",
       "         0.6428379 , 0.6428379 , 0.88453741, 0.88453741, 0.60307474,\n",
       "         0.60307474, 0.13923145, 0.13923145, 0.42358568, 0.42358568,\n",
       "         0.90453125, 0.90453125, 0.8756823 , 0.8756823 , 0.77441502,\n",
       "         0.77441502, 0.76030574, 0.76030574, 0.69707316, 0.69707316,\n",
       "         0.89877236, 0.89877236, 0.4719742 , 0.4719742 , 0.3342769 ,\n",
       "         0.3342769 , 0.42187886, 0.42187886, 0.94808067, 0.94808067,\n",
       "         0.76402217, 0.76402217, 0.22280293, 0.22280293, 0.53168281,\n",
       "         0.53168281, 0.87867471, 0.87867471, 0.60421355, 0.60421355,\n",
       "         0.69156973, 0.69156973, 0.03127094, 0.03127094, 0.66153152,\n",
       "         0.66153152, 0.73376222, 0.73376222, 0.96364092, 0.96364092])}}"
      ]
     },
     "execution_count": 1,
     "metadata": {},
     "output_type": "execute_result"
    }
   ],
   "source": [
    "ds = load_by_id(run_id_n)\n",
    "ds.get_parameter_data('x1')"
   ]
  },
  {
   "cell_type": "markdown",
   "metadata": {},
   "source": [
    "And a dataset stored as binary arrays"
   ]
  },
  {
   "cell_type": "code",
   "execution_count": 12,
   "metadata": {
    "execution": {
     "iopub.execute_input": "2020-09-28T09:18:56.948272Z",
     "iopub.status.busy": "2020-09-28T09:18:56.947813Z",
     "iopub.status.idle": "2020-09-28T09:18:56.994901Z",
     "shell.execute_reply": "2020-09-28T09:18:56.995390Z"
    },
    "scrolled": true
   },
   "outputs": [
    {
     "data": {
      "text/plain": [
       "{'x1': {'x1': array([[0.78338162],\n",
       "         [0.78338162],\n",
       "         [0.80439058],\n",
       "         [0.80439058],\n",
       "         [0.83131119],\n",
       "         [0.83131119],\n",
       "         [0.86528949],\n",
       "         [0.86528949],\n",
       "         [0.51788348],\n",
       "         [0.51788348],\n",
       "         [0.66574544],\n",
       "         [0.66574544],\n",
       "         [0.87325942],\n",
       "         [0.87325942],\n",
       "         [0.59497003],\n",
       "         [0.59497003],\n",
       "         [0.49922466],\n",
       "         [0.49922466],\n",
       "         [0.80252935],\n",
       "         [0.80252935],\n",
       "         [0.61212622],\n",
       "         [0.61212622],\n",
       "         [0.50121894],\n",
       "         [0.50121894],\n",
       "         [0.45384105],\n",
       "         [0.45384105],\n",
       "         [0.31141285],\n",
       "         [0.31141285],\n",
       "         [0.40978487],\n",
       "         [0.40978487],\n",
       "         [0.98988091],\n",
       "         [0.98988091],\n",
       "         [0.05760868],\n",
       "         [0.05760868],\n",
       "         [0.1561775 ],\n",
       "         [0.1561775 ],\n",
       "         [0.87057074],\n",
       "         [0.87057074],\n",
       "         [0.39459068],\n",
       "         [0.39459068],\n",
       "         [0.64159719],\n",
       "         [0.64159719],\n",
       "         [0.6646296 ],\n",
       "         [0.6646296 ],\n",
       "         [0.93961234],\n",
       "         [0.93961234],\n",
       "         [0.53037859],\n",
       "         [0.53037859],\n",
       "         [0.44093903],\n",
       "         [0.44093903],\n",
       "         [0.71997568],\n",
       "         [0.71997568],\n",
       "         [0.54615631],\n",
       "         [0.54615631],\n",
       "         [0.55063052],\n",
       "         [0.55063052],\n",
       "         [0.72361773],\n",
       "         [0.72361773],\n",
       "         [0.61278557],\n",
       "         [0.61278557],\n",
       "         [0.01786808],\n",
       "         [0.01786808],\n",
       "         [0.62974416],\n",
       "         [0.62974416],\n",
       "         [0.74428902],\n",
       "         [0.74428902],\n",
       "         [0.91536487],\n",
       "         [0.91536487],\n",
       "         [0.56940084],\n",
       "         [0.56940084],\n",
       "         [0.82961027],\n",
       "         [0.82961027],\n",
       "         [0.15216459],\n",
       "         [0.15216459],\n",
       "         [0.56968671],\n",
       "         [0.56968671],\n",
       "         [0.29460806],\n",
       "         [0.29460806],\n",
       "         [0.4214676 ],\n",
       "         [0.4214676 ],\n",
       "         [0.80174779],\n",
       "         [0.80174779],\n",
       "         [0.21282778],\n",
       "         [0.21282778],\n",
       "         [0.36315039],\n",
       "         [0.36315039],\n",
       "         [0.92373996],\n",
       "         [0.92373996],\n",
       "         [0.45032709],\n",
       "         [0.45032709],\n",
       "         [0.21735935],\n",
       "         [0.21735935],\n",
       "         [0.67378959],\n",
       "         [0.67378959],\n",
       "         [0.33534246],\n",
       "         [0.33534246],\n",
       "         [0.78269901],\n",
       "         [0.78269901],\n",
       "         [0.95144989],\n",
       "         [0.95144989],\n",
       "         [0.22592843],\n",
       "         [0.22592843],\n",
       "         [0.3310855 ],\n",
       "         [0.3310855 ],\n",
       "         [0.99776198],\n",
       "         [0.99776198],\n",
       "         [0.31255252],\n",
       "         [0.31255252],\n",
       "         [0.34479987],\n",
       "         [0.34479987],\n",
       "         [0.15202314],\n",
       "         [0.15202314],\n",
       "         [0.28924185],\n",
       "         [0.28924185],\n",
       "         [0.528049  ],\n",
       "         [0.528049  ],\n",
       "         [0.11737252],\n",
       "         [0.11737252],\n",
       "         [0.91147997],\n",
       "         [0.91147997],\n",
       "         [0.34977396],\n",
       "         [0.34977396],\n",
       "         [0.42877428],\n",
       "         [0.42877428],\n",
       "         [0.15285203],\n",
       "         [0.15285203],\n",
       "         [0.5764117 ],\n",
       "         [0.5764117 ],\n",
       "         [0.78481396],\n",
       "         [0.78481396],\n",
       "         [0.53320082],\n",
       "         [0.53320082],\n",
       "         [0.27624737],\n",
       "         [0.27624737],\n",
       "         [0.44881251],\n",
       "         [0.44881251],\n",
       "         [0.98379728],\n",
       "         [0.98379728],\n",
       "         [0.85262203],\n",
       "         [0.85262203],\n",
       "         [0.19954468],\n",
       "         [0.19954468],\n",
       "         [0.40269077],\n",
       "         [0.40269077],\n",
       "         [0.30857262],\n",
       "         [0.30857262],\n",
       "         [0.75176762],\n",
       "         [0.75176762],\n",
       "         [0.72272944],\n",
       "         [0.72272944],\n",
       "         [0.90252513],\n",
       "         [0.90252513],\n",
       "         [0.22622406],\n",
       "         [0.22622406],\n",
       "         [0.49398226],\n",
       "         [0.49398226],\n",
       "         [0.86702815],\n",
       "         [0.86702815],\n",
       "         [0.0563243 ],\n",
       "         [0.0563243 ],\n",
       "         [0.86519425],\n",
       "         [0.86519425],\n",
       "         [0.13371163],\n",
       "         [0.13371163],\n",
       "         [0.27565131],\n",
       "         [0.27565131],\n",
       "         [0.58527816],\n",
       "         [0.58527816],\n",
       "         [0.32481488],\n",
       "         [0.32481488],\n",
       "         [0.64996835],\n",
       "         [0.64996835],\n",
       "         [0.32753724],\n",
       "         [0.32753724],\n",
       "         [0.76171804],\n",
       "         [0.76171804],\n",
       "         [0.80043991],\n",
       "         [0.80043991],\n",
       "         [0.54251981],\n",
       "         [0.54251981],\n",
       "         [0.0673895 ],\n",
       "         [0.0673895 ],\n",
       "         [0.16789716],\n",
       "         [0.16789716],\n",
       "         [0.79596331],\n",
       "         [0.79596331],\n",
       "         [0.44037345],\n",
       "         [0.44037345],\n",
       "         [0.84882475],\n",
       "         [0.84882475],\n",
       "         [0.39195228],\n",
       "         [0.39195228],\n",
       "         [0.66097602],\n",
       "         [0.66097602],\n",
       "         [0.7906422 ],\n",
       "         [0.7906422 ],\n",
       "         [0.26192555],\n",
       "         [0.26192555],\n",
       "         [0.82209777],\n",
       "         [0.82209777]])}}"
      ]
     },
     "execution_count": 1,
     "metadata": {},
     "output_type": "execute_result"
    }
   ],
   "source": [
    "ds = load_by_id(run_id_a)\n",
    "ds.get_parameter_data('x1')"
   ]
  },
  {
   "cell_type": "code",
   "execution_count": null,
   "metadata": {},
   "outputs": [],
   "source": []
  }
 ],
 "metadata": {
  "kernelspec": {
   "display_name": "Python 3",
   "language": "python",
   "name": "python3"
  },
  "language_info": {
   "codemirror_mode": {
    "name": "ipython",
    "version": 3
   },
   "file_extension": ".py",
   "mimetype": "text/x-python",
   "name": "python",
   "nbconvert_exporter": "python",
   "pygments_lexer": "ipython3",
   "version": "3.7.7"
  },
  "nbsphinx": {
   "timeout": 600
  },
  "toc": {
   "base_numbering": 1,
   "nav_menu": {},
   "number_sections": true,
   "sideBar": true,
   "skip_h1_title": false,
   "title_cell": "Table of Contents",
   "title_sidebar": "Contents",
   "toc_cell": false,
   "toc_position": {},
   "toc_section_display": true,
   "toc_window_display": false
  },
  "varInspector": {
   "cols": {
    "lenName": 16,
    "lenType": 16,
    "lenVar": 40
   },
   "kernels_config": {
    "python": {
     "delete_cmd_postfix": "",
     "delete_cmd_prefix": "del ",
     "library": "var_list.py",
     "varRefreshCmd": "print(var_dic_list())"
    },
    "r": {
     "delete_cmd_postfix": ") ",
     "delete_cmd_prefix": "rm(",
     "library": "var_list.r",
     "varRefreshCmd": "cat(var_dic_list()) "
    }
   },
   "types_to_exclude": [
    "module",
    "function",
    "builtin_function_or_method",
    "instance",
    "_Feature"
   ],
   "window_display": false
  }
 },
 "nbformat": 4,
 "nbformat_minor": 2
}
