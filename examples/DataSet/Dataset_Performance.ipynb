{
 "cells": [
  {
   "cell_type": "markdown",
   "metadata": {},
   "source": [
    "# DataSet Performance\n",
    "\n",
    "This notebook shows the trade-off between inserting data into a database row-by-row and as binary blobs. Inserting the data row-by-row means that we have direct access to all the data and may perform queries directly on the values of the data. On the other hand, as we shall see, this is much slower than inserting the data directly as binary blobs."
   ]
  },
  {
   "cell_type": "markdown",
   "metadata": {},
   "source": [
    "First, we choose a new location for the database to ensure that we don't add a bunch of benchmarking data to the default one."
   ]
  },
  {
   "cell_type": "code",
   "execution_count": 1,
   "metadata": {
    "execution": {
     "iopub.execute_input": "2021-05-05T05:50:21.968750Z",
     "iopub.status.busy": "2021-05-05T05:50:21.968127Z",
     "iopub.status.idle": "2021-05-05T05:50:23.374381Z",
     "shell.execute_reply": "2021-05-05T05:50:23.372236Z"
    }
   },
   "outputs": [
    {
     "name": "stdout",
     "output_type": "stream",
     "text": [
      "Logging hadn't been started.\n",
      "Activating auto-logging. Current session state plus future input saved.\n",
      "Filename       : /home/runner/.qcodes/logs/command_history.log\n",
      "Mode           : append\n",
      "Output logging : True\n",
      "Raw input log  : False\n",
      "Timestamping   : True\n",
      "State          : active\n"
     ]
    },
    {
     "name": "stdout",
     "output_type": "stream",
     "text": [
      "Qcodes Logfile : /home/runner/.qcodes/logs/210505-4441-qcodes.log\n"
     ]
    }
   ],
   "source": [
    "import os\n",
    "cwd = os.getcwd()\n",
    "import qcodes as qc\n",
    "qc.config[\"core\"][\"db_location\"] = os.path.join(cwd, 'testing.db')\n"
   ]
  },
  {
   "cell_type": "code",
   "execution_count": 2,
   "metadata": {
    "execution": {
     "iopub.execute_input": "2021-05-05T05:50:23.382163Z",
     "iopub.status.busy": "2021-05-05T05:50:23.381505Z",
     "iopub.status.idle": "2021-05-05T05:50:23.634226Z",
     "shell.execute_reply": "2021-05-05T05:50:23.633639Z"
    }
   },
   "outputs": [],
   "source": [
    "%matplotlib inline\n",
    "import time\n",
    "import matplotlib.pyplot as plt\n",
    "import numpy as np\n",
    "\n",
    "import qcodes as qc\n",
    "from qcodes.instrument.parameter import ManualParameter\n",
    "from qcodes.dataset.experiment_container import (Experiment,\n",
    "                                                 load_last_experiment,\n",
    "                                                 new_experiment)\n",
    "from qcodes.dataset.sqlite.database import initialise_database\n",
    "from qcodes import load_or_create_experiment\n",
    "from qcodes.dataset.measurements import Measurement"
   ]
  },
  {
   "cell_type": "code",
   "execution_count": 3,
   "metadata": {
    "execution": {
     "iopub.execute_input": "2021-05-05T05:50:23.638678Z",
     "iopub.status.busy": "2021-05-05T05:50:23.637898Z",
     "iopub.status.idle": "2021-05-05T05:50:23.727441Z",
     "shell.execute_reply": "2021-05-05T05:50:23.726712Z"
    }
   },
   "outputs": [
    {
     "name": "stdout",
     "output_type": "stream",
     "text": [
      "\r",
      "0it [00:00, ?it/s]"
     ]
    },
    {
     "name": "stdout",
     "output_type": "stream",
     "text": [
      "\r",
      "Upgrading database; v0 -> v1: : 0it [00:00, ?it/s]"
     ]
    },
    {
     "name": "stdout",
     "output_type": "stream",
     "text": [
      "\r",
      "Upgrading database; v0 -> v1: : 0it [00:00, ?it/s]"
     ]
    },
    {
     "name": "stdout",
     "output_type": "stream",
     "text": [
      "\n",
      "\r",
      "  0%|          | 0/1 [00:00<?, ?it/s]"
     ]
    },
    {
     "name": "stdout",
     "output_type": "stream",
     "text": [
      "\r",
      "Upgrading database; v1 -> v2:   0%|          | 0/1 [00:00<?, ?it/s]"
     ]
    },
    {
     "name": "stdout",
     "output_type": "stream",
     "text": [
      "\r",
      "Upgrading database; v1 -> v2: 100%|██████████| 1/1 [00:00<00:00, 937.27it/s]"
     ]
    },
    {
     "name": "stdout",
     "output_type": "stream",
     "text": [
      "\n",
      "\r",
      "0it [00:00, ?it/s]"
     ]
    },
    {
     "name": "stdout",
     "output_type": "stream",
     "text": [
      "\r",
      "Upgrading database; v2 -> v3: : 0it [00:00, ?it/s]"
     ]
    },
    {
     "name": "stdout",
     "output_type": "stream",
     "text": [
      "\r",
      "Upgrading database; v2 -> v3: : 0it [00:00, ?it/s]"
     ]
    },
    {
     "name": "stdout",
     "output_type": "stream",
     "text": [
      "\n",
      "\r",
      "0it [00:00, ?it/s]"
     ]
    },
    {
     "name": "stdout",
     "output_type": "stream",
     "text": [
      "\r",
      "Upgrading database; v3 -> v4: : 0it [00:00, ?it/s]"
     ]
    },
    {
     "name": "stdout",
     "output_type": "stream",
     "text": [
      "\r",
      "Upgrading database; v3 -> v4: : 0it [00:00, ?it/s]"
     ]
    },
    {
     "name": "stdout",
     "output_type": "stream",
     "text": [
      "\n",
      "\r",
      "  0%|          | 0/1 [00:00<?, ?it/s]"
     ]
    },
    {
     "name": "stdout",
     "output_type": "stream",
     "text": [
      "\r",
      "Upgrading database; v4 -> v5:   0%|          | 0/1 [00:00<?, ?it/s]"
     ]
    },
    {
     "name": "stdout",
     "output_type": "stream",
     "text": [
      "\r",
      "Upgrading database; v4 -> v5: 100%|██████████| 1/1 [00:00<00:00, 387.54it/s]"
     ]
    },
    {
     "name": "stdout",
     "output_type": "stream",
     "text": [
      "\n",
      "\r",
      "0it [00:00, ?it/s]"
     ]
    },
    {
     "name": "stdout",
     "output_type": "stream",
     "text": [
      "\r",
      "Upgrading database; v5 -> v6: : 0it [00:00, ?it/s]"
     ]
    },
    {
     "name": "stdout",
     "output_type": "stream",
     "text": [
      "\r",
      "Upgrading database; v5 -> v6: : 0it [00:00, ?it/s]"
     ]
    },
    {
     "name": "stdout",
     "output_type": "stream",
     "text": [
      "\n",
      "\r",
      "  0%|          | 0/1 [00:00<?, ?it/s]"
     ]
    },
    {
     "name": "stdout",
     "output_type": "stream",
     "text": [
      "\r",
      "Upgrading database; v6 -> v7:   0%|          | 0/1 [00:00<?, ?it/s]"
     ]
    },
    {
     "name": "stdout",
     "output_type": "stream",
     "text": [
      "\r",
      "Upgrading database; v6 -> v7: 100%|██████████| 1/1 [00:00<00:00, 304.75it/s]"
     ]
    },
    {
     "name": "stdout",
     "output_type": "stream",
     "text": [
      "\n",
      "\r",
      "  0%|          | 0/1 [00:00<?, ?it/s]"
     ]
    },
    {
     "name": "stdout",
     "output_type": "stream",
     "text": [
      "\r",
      "Upgrading database; v7 -> v8:   0%|          | 0/1 [00:00<?, ?it/s]"
     ]
    },
    {
     "name": "stdout",
     "output_type": "stream",
     "text": [
      "\r",
      "Upgrading database; v7 -> v8: 100%|██████████| 1/1 [00:00<00:00, 458.09it/s]"
     ]
    },
    {
     "name": "stdout",
     "output_type": "stream",
     "text": [
      "\n",
      "\r",
      "  0%|          | 0/1 [00:00<?, ?it/s]"
     ]
    },
    {
     "name": "stdout",
     "output_type": "stream",
     "text": [
      "\r",
      "Upgrading database; v8 -> v9:   0%|          | 0/1 [00:00<?, ?it/s]"
     ]
    },
    {
     "name": "stdout",
     "output_type": "stream",
     "text": [
      "\r",
      "Upgrading database; v8 -> v9: 100%|██████████| 1/1 [00:00<00:00, 1099.71it/s]"
     ]
    },
    {
     "name": "stdout",
     "output_type": "stream",
     "text": [
      "\n"
     ]
    }
   ],
   "source": [
    "initialise_database()\n",
    "exp = load_or_create_experiment(experiment_name='tutorial_exp', sample_name=\"no sample\")"
   ]
  },
  {
   "cell_type": "markdown",
   "metadata": {},
   "source": [
    "Here, we define a simple function to benchmark the time it takes to insert n points with either numeric or array data type.\n",
    "We will compare both the time used to call ``add_result`` and the time used for the full measurement."
   ]
  },
  {
   "cell_type": "code",
   "execution_count": 4,
   "metadata": {
    "execution": {
     "iopub.execute_input": "2021-05-05T05:50:23.737555Z",
     "iopub.status.busy": "2021-05-05T05:50:23.736818Z",
     "iopub.status.idle": "2021-05-05T05:50:23.740439Z",
     "shell.execute_reply": "2021-05-05T05:50:23.739860Z"
    }
   },
   "outputs": [],
   "source": [
    "def insert_data(paramtype, npoints, nreps=1):\n",
    "\n",
    "    meas = Measurement(exp=exp)\n",
    "\n",
    "    x1 = ManualParameter('x1')\n",
    "    x2 = ManualParameter('x2')\n",
    "    x3 = ManualParameter('x3')\n",
    "    y1 = ManualParameter('y1')\n",
    "    y2 = ManualParameter('y2')\n",
    "\n",
    "    meas.register_parameter(x1, paramtype=paramtype)\n",
    "    meas.register_parameter(x2, paramtype=paramtype)\n",
    "    meas.register_parameter(x3, paramtype=paramtype)\n",
    "    meas.register_parameter(y1, setpoints=[x1, x2, x3],\n",
    "                            paramtype=paramtype)\n",
    "    meas.register_parameter(y2, setpoints=[x1, x2, x3],\n",
    "                            paramtype=paramtype)\n",
    "    start = time.perf_counter()\n",
    "    with meas.run() as datasaver:\n",
    "        start_adding = time.perf_counter()\n",
    "        for i in range(nreps):\n",
    "            datasaver.add_result((x1, np.random.rand(npoints)),\n",
    "                                 (x2, np.random.rand(npoints)),\n",
    "                                 (x3, np.random.rand(npoints)),\n",
    "                                 (y1, np.random.rand(npoints)),\n",
    "                                 (y2, np.random.rand(npoints)))\n",
    "        stop_adding = time.perf_counter()\n",
    "        run_id = datasaver.run_id\n",
    "    stop = time.perf_counter()\n",
    "    tot_time = stop - start\n",
    "    add_time = stop_adding - start_adding\n",
    "    return tot_time, add_time, run_id"
   ]
  },
  {
   "cell_type": "markdown",
   "metadata": {},
   "source": [
    "## Comparison between numeric/array data and binary blob"
   ]
  },
  {
   "cell_type": "markdown",
   "metadata": {},
   "source": [
    "### Case1: Short experiment time"
   ]
  },
  {
   "cell_type": "code",
   "execution_count": 5,
   "metadata": {
    "execution": {
     "iopub.execute_input": "2021-05-05T05:50:23.747016Z",
     "iopub.status.busy": "2021-05-05T05:50:23.746374Z",
     "iopub.status.idle": "2021-05-05T05:50:24.754485Z",
     "shell.execute_reply": "2021-05-05T05:50:24.754985Z"
    }
   },
   "outputs": [
    {
     "name": "stdout",
     "output_type": "stream",
     "text": [
      "Starting experimental run with id: 1. \n",
      "Starting experimental run with id: 2. \n",
      "Starting experimental run with id: 3. \n"
     ]
    },
    {
     "name": "stdout",
     "output_type": "stream",
     "text": [
      "Starting experimental run with id: 4. \n"
     ]
    },
    {
     "name": "stdout",
     "output_type": "stream",
     "text": [
      "Starting experimental run with id: 5. \n",
      "Starting experimental run with id: 6. \n",
      "Starting experimental run with id: 7. \n"
     ]
    },
    {
     "name": "stdout",
     "output_type": "stream",
     "text": [
      "Starting experimental run with id: 8. \n"
     ]
    },
    {
     "name": "stdout",
     "output_type": "stream",
     "text": [
      "Starting experimental run with id: 9. \n",
      "Starting experimental run with id: 10. \n",
      "Starting experimental run with id: 11. \n"
     ]
    },
    {
     "name": "stdout",
     "output_type": "stream",
     "text": [
      "Starting experimental run with id: 12. \n",
      "Starting experimental run with id: 13. \n"
     ]
    },
    {
     "name": "stdout",
     "output_type": "stream",
     "text": [
      "Starting experimental run with id: 14. \n"
     ]
    }
   ],
   "source": [
    "sizes = [1,500,1000,2000,3000,4000,5000]\n",
    "t_numeric = []\n",
    "t_numeric_add = []\n",
    "t_array = []\n",
    "t_array_add = []\n",
    "for size in sizes:\n",
    "    tn, tna, run_id_n =  insert_data('numeric', size)\n",
    "    t_numeric.append(tn)\n",
    "    t_numeric_add.append(tna)\n",
    "\n",
    "    ta, taa, run_id_a =  insert_data('array', size)\n",
    "    t_array.append(ta)\n",
    "    t_array_add.append(taa)"
   ]
  },
  {
   "cell_type": "code",
   "execution_count": 6,
   "metadata": {
    "execution": {
     "iopub.execute_input": "2021-05-05T05:50:24.818665Z",
     "iopub.status.busy": "2021-05-05T05:50:24.795115Z",
     "iopub.status.idle": "2021-05-05T05:50:25.078373Z",
     "shell.execute_reply": "2021-05-05T05:50:25.079123Z"
    }
   },
   "outputs": [
    {
     "data": {
      "image/png": "[encoded data removed]",
      "text/plain": [
       "<Figure size 640x480 with 1 Axes>"
      ]
     },
     "metadata": {},
     "output_type": "display_data"
    }
   ],
   "source": [
    "fig, ax = plt.subplots(1,1)\n",
    "ax.plot(sizes, t_numeric, 'o-', label='Inserting row-by-row')\n",
    "ax.plot(sizes, t_numeric_add, 'o-', label='Inserting row-by-row: add_result only')\n",
    "ax.plot(sizes, t_array, 'd-', label='Inserting as binary blob')\n",
    "ax.plot(sizes, t_array_add, 'd-', label='Inserting as binary blob: add_result only')\n",
    "ax.legend()\n",
    "ax.set_xlabel('Array length')\n",
    "ax.set_ylabel('Time (s)')\n",
    "fig.tight_layout()"
   ]
  },
  {
   "cell_type": "markdown",
   "metadata": {},
   "source": [
    "As shown in the latter figure, the time to setup and and close the experiment is approximately 0.4 sec. In case of small array sizes, the difference between inserting values of data as arrays and inserting them row-by-row is relatively unimportant. At larger array sizes, i.e. above 10000 points, the cost of writing data as individual datapoints starts to become important.\n"
   ]
  },
  {
   "cell_type": "markdown",
   "metadata": {},
   "source": [
    "### Case2: Long experiment time "
   ]
  },
  {
   "cell_type": "code",
   "execution_count": 7,
   "metadata": {
    "execution": {
     "iopub.execute_input": "2021-05-05T05:50:25.086736Z",
     "iopub.status.busy": "2021-05-05T05:50:25.084432Z",
     "iopub.status.idle": "2021-05-05T05:51:26.835413Z",
     "shell.execute_reply": "2021-05-05T05:51:26.834823Z"
    }
   },
   "outputs": [
    {
     "name": "stdout",
     "output_type": "stream",
     "text": [
      "Starting experimental run with id: 15. \n",
      "Starting experimental run with id: 16. \n"
     ]
    },
    {
     "name": "stdout",
     "output_type": "stream",
     "text": [
      "Starting experimental run with id: 17. \n"
     ]
    },
    {
     "name": "stdout",
     "output_type": "stream",
     "text": [
      "Starting experimental run with id: 18. \n"
     ]
    },
    {
     "name": "stdout",
     "output_type": "stream",
     "text": [
      "Starting experimental run with id: 19. \n"
     ]
    },
    {
     "name": "stdout",
     "output_type": "stream",
     "text": [
      "Starting experimental run with id: 20. \n"
     ]
    },
    {
     "name": "stdout",
     "output_type": "stream",
     "text": [
      "Starting experimental run with id: 21. \n"
     ]
    },
    {
     "name": "stdout",
     "output_type": "stream",
     "text": [
      "Starting experimental run with id: 22. \n"
     ]
    },
    {
     "name": "stdout",
     "output_type": "stream",
     "text": [
      "Starting experimental run with id: 23. \n"
     ]
    },
    {
     "name": "stdout",
     "output_type": "stream",
     "text": [
      "Starting experimental run with id: 24. \n"
     ]
    },
    {
     "name": "stdout",
     "output_type": "stream",
     "text": [
      "Starting experimental run with id: 25. \n"
     ]
    },
    {
     "name": "stdout",
     "output_type": "stream",
     "text": [
      "Starting experimental run with id: 26. \n"
     ]
    },
    {
     "name": "stdout",
     "output_type": "stream",
     "text": [
      "Starting experimental run with id: 27. \n"
     ]
    },
    {
     "name": "stdout",
     "output_type": "stream",
     "text": [
      "Starting experimental run with id: 28. \n"
     ]
    }
   ],
   "source": [
    "sizes = [1,500,1000,2000,3000,4000,5000]\n",
    "nreps = 100\n",
    "t_numeric = []\n",
    "t_numeric_add = []\n",
    "t_numeric_run_ids = []\n",
    "t_array = []\n",
    "t_array_add = []\n",
    "t_array_run_ids = []\n",
    "for size in sizes:\n",
    "    tn, tna, run_id_n =  insert_data('numeric', size, nreps=nreps)\n",
    "    t_numeric.append(tn)\n",
    "    t_numeric_add.append(tna)\n",
    "    t_numeric_run_ids.append(run_id_n)\n",
    "\n",
    "    ta, taa, run_id_a =  insert_data('array', size, nreps=nreps)\n",
    "    t_array.append(ta)\n",
    "    t_array_add.append(taa)\n",
    "    t_array_run_ids.append(run_id_a)"
   ]
  },
  {
   "cell_type": "code",
   "execution_count": 8,
   "metadata": {
    "execution": {
     "iopub.execute_input": "2021-05-05T05:51:26.888850Z",
     "iopub.status.busy": "2021-05-05T05:51:26.869209Z",
     "iopub.status.idle": "2021-05-05T05:51:27.132274Z",
     "shell.execute_reply": "2021-05-05T05:51:27.131712Z"
    },
    "scrolled": true
   },
   "outputs": [
    {
     "data": {
      "image/png": "[encoded data removed]",
      "text/plain": [
       "<Figure size 640x480 with 1 Axes>"
      ]
     },
     "metadata": {},
     "output_type": "display_data"
    }
   ],
   "source": [
    "fig, ax = plt.subplots(1,1)\n",
    "ax.plot(sizes, t_numeric, 'o-', label='Inserting row-by-row')\n",
    "ax.plot(sizes, t_numeric_add, 'o-', label='Inserting row-by-row: add_result only')\n",
    "ax.plot(sizes, t_array, 'd-', label='Inserting as binary blob')\n",
    "ax.plot(sizes, t_array_add, 'd-', label='Inserting as binary blob: add_result only')\n",
    "ax.legend()\n",
    "ax.set_xlabel('Array length')\n",
    "ax.set_ylabel('Time (s)')\n",
    "fig.tight_layout()"
   ]
  },
  {
   "cell_type": "markdown",
   "metadata": {},
   "source": [
    "However, as we increase the length of the experiment, as seen here by repeating the insertion 100 times, we see a big difference between inserting values of the data row-by-row and inserting it as a binary blob."
   ]
  },
  {
   "cell_type": "markdown",
   "metadata": {},
   "source": [
    "## Loading the data "
   ]
  },
  {
   "cell_type": "code",
   "execution_count": 9,
   "metadata": {
    "execution": {
     "iopub.execute_input": "2021-05-05T05:51:27.138230Z",
     "iopub.status.busy": "2021-05-05T05:51:27.136808Z",
     "iopub.status.idle": "2021-05-05T05:51:27.144366Z",
     "shell.execute_reply": "2021-05-05T05:51:27.144989Z"
    }
   },
   "outputs": [],
   "source": [
    "from qcodes.dataset.data_set import load_by_id"
   ]
  },
  {
   "cell_type": "markdown",
   "metadata": {},
   "source": [
    "As usual you can load the data by using the ``load_by_id`` function but you will notice that the different storage methods\n",
    "are reflected in shape of the data as it is retrieved. "
   ]
  },
  {
   "cell_type": "code",
   "execution_count": 10,
   "metadata": {
    "execution": {
     "iopub.execute_input": "2021-05-05T05:51:27.150233Z",
     "iopub.status.busy": "2021-05-05T05:51:27.149600Z",
     "iopub.status.idle": "2021-05-05T05:51:27.152895Z",
     "shell.execute_reply": "2021-05-05T05:51:27.152342Z"
    }
   },
   "outputs": [],
   "source": [
    "run_id_n = t_numeric_run_ids[0]\n",
    "run_id_a = t_array_run_ids[0]"
   ]
  },
  {
   "cell_type": "code",
   "execution_count": 11,
   "metadata": {
    "execution": {
     "iopub.execute_input": "2021-05-05T05:51:27.156930Z",
     "iopub.status.busy": "2021-05-05T05:51:27.156275Z",
     "iopub.status.idle": "2021-05-05T05:51:27.168564Z",
     "shell.execute_reply": "2021-05-05T05:51:27.169278Z"
    },
    "scrolled": true
   },
   "outputs": [
    {
     "data": {
      "text/plain": [
       "{'x1': {'x1': array([0.1808048 , 0.1808048 , 0.53594833, 0.53594833, 0.46429594,\n",
       "         0.46429594, 0.17148179, 0.17148179, 0.67776728, 0.67776728,\n",
       "         0.85584843, 0.85584843, 0.3234516 , 0.3234516 , 0.62981668,\n",
       "         0.62981668, 0.10261394, 0.10261394, 0.45735635, 0.45735635,\n",
       "         0.59875233, 0.59875233, 0.72524849, 0.72524849, 0.37282298,\n",
       "         0.37282298, 0.71230398, 0.71230398, 0.87791663, 0.87791663,\n",
       "         0.1100579 , 0.1100579 , 0.93517947, 0.93517947, 0.56702655,\n",
       "         0.56702655, 0.2102863 , 0.2102863 , 0.49447474, 0.49447474,\n",
       "         0.08761478, 0.08761478, 0.34643638, 0.34643638, 0.91833749,\n",
       "         0.91833749, 0.93875563, 0.93875563, 0.22342566, 0.22342566,\n",
       "         0.78355057, 0.78355057, 0.90667975, 0.90667975, 0.28536501,\n",
       "         0.28536501, 0.50407326, 0.50407326, 0.48450282, 0.48450282,\n",
       "         0.40970984, 0.40970984, 0.47785349, 0.47785349, 0.58734159,\n",
       "         0.58734159, 0.49639566, 0.49639566, 0.37506647, 0.37506647,\n",
       "         0.25117384, 0.25117384, 0.1402362 , 0.1402362 , 0.68204974,\n",
       "         0.68204974, 0.16009353, 0.16009353, 0.77180762, 0.77180762,\n",
       "         0.63473107, 0.63473107, 0.52064322, 0.52064322, 0.80884571,\n",
       "         0.80884571, 0.1178678 , 0.1178678 , 0.43582563, 0.43582563,\n",
       "         0.88960752, 0.88960752, 0.10348037, 0.10348037, 0.59608984,\n",
       "         0.59608984, 0.0523708 , 0.0523708 , 0.26585593, 0.26585593,\n",
       "         0.82206184, 0.82206184, 0.32689957, 0.32689957, 0.78210397,\n",
       "         0.78210397, 0.45994449, 0.45994449, 0.85061293, 0.85061293,\n",
       "         0.71463221, 0.71463221, 0.92734243, 0.92734243, 0.29993125,\n",
       "         0.29993125, 0.81029635, 0.81029635, 0.09029875, 0.09029875,\n",
       "         0.7959911 , 0.7959911 , 0.2420613 , 0.2420613 , 0.38152373,\n",
       "         0.38152373, 0.41385522, 0.41385522, 0.75617622, 0.75617622,\n",
       "         0.42020907, 0.42020907, 0.5259397 , 0.5259397 , 0.54415492,\n",
       "         0.54415492, 0.66719389, 0.66719389, 0.54652391, 0.54652391,\n",
       "         0.39959986, 0.39959986, 0.95477419, 0.95477419, 0.23371254,\n",
       "         0.23371254, 0.56180304, 0.56180304, 0.21443262, 0.21443262,\n",
       "         0.42097477, 0.42097477, 0.32125602, 0.32125602, 0.54141351,\n",
       "         0.54141351, 0.85926364, 0.85926364, 0.93909427, 0.93909427,\n",
       "         0.10390962, 0.10390962, 0.73299677, 0.73299677, 0.25463645,\n",
       "         0.25463645, 0.97808863, 0.97808863, 0.41876046, 0.41876046,\n",
       "         0.68032255, 0.68032255, 0.57251649, 0.57251649, 0.10579966,\n",
       "         0.10579966, 0.134102  , 0.134102  , 0.97508527, 0.97508527,\n",
       "         0.46752782, 0.46752782, 0.11984972, 0.11984972, 0.4636523 ,\n",
       "         0.4636523 , 0.59309934, 0.59309934, 0.07906143, 0.07906143,\n",
       "         0.72479712, 0.72479712, 0.81652218, 0.81652218, 0.36402268,\n",
       "         0.36402268, 0.1355448 , 0.1355448 , 0.95659604, 0.95659604])}}"
      ]
     },
     "execution_count": 1,
     "metadata": {},
     "output_type": "execute_result"
    }
   ],
   "source": [
    "ds = load_by_id(run_id_n)\n",
    "ds.get_parameter_data('x1')"
   ]
  },
  {
   "cell_type": "markdown",
   "metadata": {},
   "source": [
    "And a dataset stored as binary arrays"
   ]
  },
  {
   "cell_type": "code",
   "execution_count": 12,
   "metadata": {
    "execution": {
     "iopub.execute_input": "2021-05-05T05:51:27.173701Z",
     "iopub.status.busy": "2021-05-05T05:51:27.173061Z",
     "iopub.status.idle": "2021-05-05T05:51:27.247350Z",
     "shell.execute_reply": "2021-05-05T05:51:27.247855Z"
    },
    "scrolled": true
   },
   "outputs": [
    {
     "data": {
      "text/plain": [
       "{'x1': {'x1': array([[0.34070085],\n",
       "         [0.34070085],\n",
       "         [0.55438282],\n",
       "         [0.55438282],\n",
       "         [0.86376988],\n",
       "         [0.86376988],\n",
       "         [0.37771115],\n",
       "         [0.37771115],\n",
       "         [0.1381446 ],\n",
       "         [0.1381446 ],\n",
       "         [0.55312732],\n",
       "         [0.55312732],\n",
       "         [0.66651926],\n",
       "         [0.66651926],\n",
       "         [0.17613368],\n",
       "         [0.17613368],\n",
       "         [0.55946644],\n",
       "         [0.55946644],\n",
       "         [0.94955409],\n",
       "         [0.94955409],\n",
       "         [0.61121907],\n",
       "         [0.61121907],\n",
       "         [0.08672894],\n",
       "         [0.08672894],\n",
       "         [0.13891476],\n",
       "         [0.13891476],\n",
       "         [0.44468728],\n",
       "         [0.44468728],\n",
       "         [0.7961553 ],\n",
       "         [0.7961553 ],\n",
       "         [0.90527645],\n",
       "         [0.90527645],\n",
       "         [0.07481041],\n",
       "         [0.07481041],\n",
       "         [0.7460861 ],\n",
       "         [0.7460861 ],\n",
       "         [0.10086186],\n",
       "         [0.10086186],\n",
       "         [0.06202601],\n",
       "         [0.06202601],\n",
       "         [0.45986897],\n",
       "         [0.45986897],\n",
       "         [0.5974143 ],\n",
       "         [0.5974143 ],\n",
       "         [0.32439091],\n",
       "         [0.32439091],\n",
       "         [0.69632865],\n",
       "         [0.69632865],\n",
       "         [0.38307776],\n",
       "         [0.38307776],\n",
       "         [0.58663519],\n",
       "         [0.58663519],\n",
       "         [0.23875172],\n",
       "         [0.23875172],\n",
       "         [0.51908039],\n",
       "         [0.51908039],\n",
       "         [0.01197364],\n",
       "         [0.01197364],\n",
       "         [0.99670129],\n",
       "         [0.99670129],\n",
       "         [0.75373208],\n",
       "         [0.75373208],\n",
       "         [0.48656468],\n",
       "         [0.48656468],\n",
       "         [0.68602034],\n",
       "         [0.68602034],\n",
       "         [0.18596143],\n",
       "         [0.18596143],\n",
       "         [0.51057718],\n",
       "         [0.51057718],\n",
       "         [0.80663762],\n",
       "         [0.80663762],\n",
       "         [0.99904826],\n",
       "         [0.99904826],\n",
       "         [0.51710333],\n",
       "         [0.51710333],\n",
       "         [0.22036526],\n",
       "         [0.22036526],\n",
       "         [0.74238395],\n",
       "         [0.74238395],\n",
       "         [0.11630301],\n",
       "         [0.11630301],\n",
       "         [0.90140118],\n",
       "         [0.90140118],\n",
       "         [0.01098429],\n",
       "         [0.01098429],\n",
       "         [0.73921215],\n",
       "         [0.73921215],\n",
       "         [0.75056813],\n",
       "         [0.75056813],\n",
       "         [0.66681616],\n",
       "         [0.66681616],\n",
       "         [0.62222591],\n",
       "         [0.62222591],\n",
       "         [0.65845107],\n",
       "         [0.65845107],\n",
       "         [0.92011893],\n",
       "         [0.92011893],\n",
       "         [0.73740065],\n",
       "         [0.73740065],\n",
       "         [0.8976895 ],\n",
       "         [0.8976895 ],\n",
       "         [0.7754975 ],\n",
       "         [0.7754975 ],\n",
       "         [0.78382435],\n",
       "         [0.78382435],\n",
       "         [0.79810896],\n",
       "         [0.79810896],\n",
       "         [0.08222617],\n",
       "         [0.08222617],\n",
       "         [0.23536022],\n",
       "         [0.23536022],\n",
       "         [0.28515122],\n",
       "         [0.28515122],\n",
       "         [0.39427693],\n",
       "         [0.39427693],\n",
       "         [0.25726477],\n",
       "         [0.25726477],\n",
       "         [0.75210342],\n",
       "         [0.75210342],\n",
       "         [0.93736366],\n",
       "         [0.93736366],\n",
       "         [0.70590039],\n",
       "         [0.70590039],\n",
       "         [0.408513  ],\n",
       "         [0.408513  ],\n",
       "         [0.39425022],\n",
       "         [0.39425022],\n",
       "         [0.11115413],\n",
       "         [0.11115413],\n",
       "         [0.39579855],\n",
       "         [0.39579855],\n",
       "         [0.32659812],\n",
       "         [0.32659812],\n",
       "         [0.56689196],\n",
       "         [0.56689196],\n",
       "         [0.80998702],\n",
       "         [0.80998702],\n",
       "         [0.14104892],\n",
       "         [0.14104892],\n",
       "         [0.32022366],\n",
       "         [0.32022366],\n",
       "         [0.16850712],\n",
       "         [0.16850712],\n",
       "         [0.86201943],\n",
       "         [0.86201943],\n",
       "         [0.59000652],\n",
       "         [0.59000652],\n",
       "         [0.42967337],\n",
       "         [0.42967337],\n",
       "         [0.99542891],\n",
       "         [0.99542891],\n",
       "         [0.9520876 ],\n",
       "         [0.9520876 ],\n",
       "         [0.49762628],\n",
       "         [0.49762628],\n",
       "         [0.3912569 ],\n",
       "         [0.3912569 ],\n",
       "         [0.53297115],\n",
       "         [0.53297115],\n",
       "         [0.5158488 ],\n",
       "         [0.5158488 ],\n",
       "         [0.68863305],\n",
       "         [0.68863305],\n",
       "         [0.52873785],\n",
       "         [0.52873785],\n",
       "         [0.4086386 ],\n",
       "         [0.4086386 ],\n",
       "         [0.97081361],\n",
       "         [0.97081361],\n",
       "         [0.63390311],\n",
       "         [0.63390311],\n",
       "         [0.22217102],\n",
       "         [0.22217102],\n",
       "         [0.31408904],\n",
       "         [0.31408904],\n",
       "         [0.21409291],\n",
       "         [0.21409291],\n",
       "         [0.41787786],\n",
       "         [0.41787786],\n",
       "         [0.07954952],\n",
       "         [0.07954952],\n",
       "         [0.59891988],\n",
       "         [0.59891988],\n",
       "         [0.04272428],\n",
       "         [0.04272428],\n",
       "         [0.02543119],\n",
       "         [0.02543119],\n",
       "         [0.04386081],\n",
       "         [0.04386081],\n",
       "         [0.17981572],\n",
       "         [0.17981572],\n",
       "         [0.97919871],\n",
       "         [0.97919871],\n",
       "         [0.49430443],\n",
       "         [0.49430443],\n",
       "         [0.16834547],\n",
       "         [0.16834547],\n",
       "         [0.92841807],\n",
       "         [0.92841807]])}}"
      ]
     },
     "execution_count": 1,
     "metadata": {},
     "output_type": "execute_result"
    }
   ],
   "source": [
    "ds = load_by_id(run_id_a)\n",
    "ds.get_parameter_data('x1')"
   ]
  },
  {
   "cell_type": "code",
   "execution_count": null,
   "metadata": {},
   "outputs": [],
   "source": []
  }
 ],
 "metadata": {
  "kernelspec": {
   "display_name": "Python 3",
   "language": "python",
   "name": "python3"
  },
  "language_info": {
   "codemirror_mode": {
    "name": "ipython",
    "version": 3
   },
   "file_extension": ".py",
   "mimetype": "text/x-python",
   "name": "python",
   "nbconvert_exporter": "python",
   "pygments_lexer": "ipython3",
   "version": "3.7.10"
  },
  "nbsphinx": {
   "timeout": 600
  },
  "toc": {
   "base_numbering": 1,
   "nav_menu": {},
   "number_sections": true,
   "sideBar": true,
   "skip_h1_title": false,
   "title_cell": "Table of Contents",
   "title_sidebar": "Contents",
   "toc_cell": false,
   "toc_position": {},
   "toc_section_display": true,
   "toc_window_display": false
  },
  "varInspector": {
   "cols": {
    "lenName": 16,
    "lenType": 16,
    "lenVar": 40
   },
   "kernels_config": {
    "python": {
     "delete_cmd_postfix": "",
     "delete_cmd_prefix": "del ",
     "library": "var_list.py",
     "varRefreshCmd": "print(var_dic_list())"
    },
    "r": {
     "delete_cmd_postfix": ") ",
     "delete_cmd_prefix": "rm(",
     "library": "var_list.r",
     "varRefreshCmd": "cat(var_dic_list()) "
    }
   },
   "types_to_exclude": [
    "module",
    "function",
    "builtin_function_or_method",
    "instance",
    "_Feature"
   ],
   "window_display": false
  }
 },
 "nbformat": 4,
 "nbformat_minor": 4
}
