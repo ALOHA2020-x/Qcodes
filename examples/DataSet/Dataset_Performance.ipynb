{
 "cells": [
  {
   "cell_type": "markdown",
   "metadata": {},
   "source": [
    "# DataSet Performance\n",
    "\n",
    "This notebook shows the trade-off between inserting data into a database row-by-row and as binary blobs. Inserting the data row-by-row means that we have direct access to all the data and may perform queries directly on the values of the data. On the other hand, as we shall see, this is much slower than inserting the data directly as binary blobs."
   ]
  },
  {
   "cell_type": "markdown",
   "metadata": {},
   "source": [
    "First, we choose a new location for the database to ensure that we don't add a bunch of benchmarking data to the default one."
   ]
  },
  {
   "cell_type": "code",
   "execution_count": 1,
   "metadata": {
    "execution": {
     "iopub.execute_input": "2020-10-14T07:59:17.173286Z",
     "iopub.status.busy": "2020-10-14T07:59:17.172268Z",
     "iopub.status.idle": "2020-10-14T07:59:18.286884Z",
     "shell.execute_reply": "2020-10-14T07:59:18.285906Z"
    }
   },
   "outputs": [
    {
     "name": "stdout",
     "output_type": "stream",
     "text": [
      "Logging hadn't been started.\n",
      "Activating auto-logging. Current session state plus future input saved.\n",
      "Filename       : /home/vsts/.qcodes/logs/command_history.log\n",
      "Mode           : append\n",
      "Output logging : True\n",
      "Raw input log  : False\n",
      "Timestamping   : True\n",
      "State          : active\n"
     ]
    },
    {
     "name": "stdout",
     "output_type": "stream",
     "text": [
      "Qcodes Logfile : /home/vsts/.qcodes/logs/201014-14642-qcodes.log\n"
     ]
    }
   ],
   "source": [
    "import os\n",
    "cwd = os.getcwd()\n",
    "import qcodes as qc\n",
    "qc.config[\"core\"][\"db_location\"] = os.path.join(cwd, 'testing.db')\n"
   ]
  },
  {
   "cell_type": "code",
   "execution_count": 2,
   "metadata": {
    "execution": {
     "iopub.execute_input": "2020-10-14T07:59:18.294572Z",
     "iopub.status.busy": "2020-10-14T07:59:18.292860Z",
     "iopub.status.idle": "2020-10-14T07:59:18.493269Z",
     "shell.execute_reply": "2020-10-14T07:59:18.493723Z"
    }
   },
   "outputs": [],
   "source": [
    "%matplotlib inline\n",
    "import time\n",
    "import matplotlib.pyplot as plt\n",
    "import numpy as np\n",
    "\n",
    "import qcodes as qc\n",
    "from qcodes.instrument.parameter import ManualParameter\n",
    "from qcodes.dataset.experiment_container import (Experiment,\n",
    "                                                 load_last_experiment,\n",
    "                                                 new_experiment)\n",
    "from qcodes.dataset.sqlite.database import initialise_database\n",
    "from qcodes import load_or_create_experiment\n",
    "from qcodes.dataset.measurements import Measurement"
   ]
  },
  {
   "cell_type": "code",
   "execution_count": 3,
   "metadata": {
    "execution": {
     "iopub.execute_input": "2020-10-14T07:59:18.497801Z",
     "iopub.status.busy": "2020-10-14T07:59:18.497187Z",
     "iopub.status.idle": "2020-10-14T07:59:18.616601Z",
     "shell.execute_reply": "2020-10-14T07:59:18.615963Z"
    }
   },
   "outputs": [
    {
     "name": "stdout",
     "output_type": "stream",
     "text": [
      "\r",
      "0it [00:00, ?it/s]"
     ]
    },
    {
     "name": "stdout",
     "output_type": "stream",
     "text": [
      "\r",
      "Upgrading database; v0 -> v1: : 0it [00:00, ?it/s]"
     ]
    },
    {
     "name": "stdout",
     "output_type": "stream",
     "text": [
      "\r",
      "Upgrading database; v0 -> v1: : 0it [00:00, ?it/s]"
     ]
    },
    {
     "name": "stdout",
     "output_type": "stream",
     "text": [
      "\n",
      "\r",
      "  0%|          | 0/1 [00:00<?, ?it/s]"
     ]
    },
    {
     "name": "stdout",
     "output_type": "stream",
     "text": [
      "\r",
      "Upgrading database; v1 -> v2:   0%|          | 0/1 [00:00<?, ?it/s]"
     ]
    },
    {
     "name": "stdout",
     "output_type": "stream",
     "text": [
      "\r",
      "Upgrading database; v1 -> v2: 100%|██████████| 1/1 [00:00<00:00, 1077.95it/s]"
     ]
    },
    {
     "name": "stdout",
     "output_type": "stream",
     "text": [
      "\n",
      "\r",
      "0it [00:00, ?it/s]"
     ]
    },
    {
     "name": "stdout",
     "output_type": "stream",
     "text": [
      "\r",
      "Upgrading database; v2 -> v3: : 0it [00:00, ?it/s]"
     ]
    },
    {
     "name": "stdout",
     "output_type": "stream",
     "text": [
      "\r",
      "Upgrading database; v2 -> v3: : 0it [00:00, ?it/s]"
     ]
    },
    {
     "name": "stdout",
     "output_type": "stream",
     "text": [
      "\n",
      "\r",
      "0it [00:00, ?it/s]"
     ]
    },
    {
     "name": "stdout",
     "output_type": "stream",
     "text": [
      "\r",
      "Upgrading database; v3 -> v4: : 0it [00:00, ?it/s]"
     ]
    },
    {
     "name": "stdout",
     "output_type": "stream",
     "text": [
      "\r",
      "Upgrading database; v3 -> v4: : 0it [00:00, ?it/s]"
     ]
    },
    {
     "name": "stdout",
     "output_type": "stream",
     "text": [
      "\n",
      "\r",
      "  0%|          | 0/1 [00:00<?, ?it/s]"
     ]
    },
    {
     "name": "stdout",
     "output_type": "stream",
     "text": [
      "\r",
      "Upgrading database; v4 -> v5:   0%|          | 0/1 [00:00<?, ?it/s]"
     ]
    },
    {
     "name": "stdout",
     "output_type": "stream",
     "text": [
      "\r",
      "Upgrading database; v4 -> v5: 100%|██████████| 1/1 [00:00<00:00, 453.39it/s]"
     ]
    },
    {
     "name": "stdout",
     "output_type": "stream",
     "text": [
      "\n",
      "\r",
      "0it [00:00, ?it/s]"
     ]
    },
    {
     "name": "stdout",
     "output_type": "stream",
     "text": [
      "\r",
      "Upgrading database; v5 -> v6: : 0it [00:00, ?it/s]"
     ]
    },
    {
     "name": "stdout",
     "output_type": "stream",
     "text": [
      "\r",
      "Upgrading database; v5 -> v6: : 0it [00:00, ?it/s]"
     ]
    },
    {
     "name": "stdout",
     "output_type": "stream",
     "text": [
      "\n",
      "\r",
      "  0%|          | 0/1 [00:00<?, ?it/s]"
     ]
    },
    {
     "name": "stdout",
     "output_type": "stream",
     "text": [
      "\r",
      "Upgrading database; v6 -> v7:   0%|          | 0/1 [00:00<?, ?it/s]"
     ]
    },
    {
     "name": "stdout",
     "output_type": "stream",
     "text": [
      "\r",
      "Upgrading database; v6 -> v7: 100%|██████████| 1/1 [00:00<00:00, 233.52it/s]"
     ]
    },
    {
     "name": "stdout",
     "output_type": "stream",
     "text": [
      "\n",
      "\r",
      "  0%|          | 0/1 [00:00<?, ?it/s]"
     ]
    },
    {
     "name": "stdout",
     "output_type": "stream",
     "text": [
      "\r",
      "Upgrading database; v7 -> v8:   0%|          | 0/1 [00:00<?, ?it/s]"
     ]
    },
    {
     "name": "stdout",
     "output_type": "stream",
     "text": [
      "\r",
      "Upgrading database; v7 -> v8: 100%|██████████| 1/1 [00:00<00:00, 422.47it/s]"
     ]
    },
    {
     "name": "stdout",
     "output_type": "stream",
     "text": [
      "\n",
      "\r",
      "  0%|          | 0/1 [00:00<?, ?it/s]"
     ]
    },
    {
     "name": "stdout",
     "output_type": "stream",
     "text": [
      "\r",
      "Upgrading database; v8 -> v9:   0%|          | 0/1 [00:00<?, ?it/s]"
     ]
    },
    {
     "name": "stdout",
     "output_type": "stream",
     "text": [
      "\r",
      "Upgrading database; v8 -> v9: 100%|██████████| 1/1 [00:00<00:00, 947.44it/s]"
     ]
    },
    {
     "name": "stdout",
     "output_type": "stream",
     "text": [
      "\n"
     ]
    }
   ],
   "source": [
    "initialise_database()\n",
    "exp = load_or_create_experiment(experiment_name='tutorial_exp', sample_name=\"no sample\")"
   ]
  },
  {
   "cell_type": "markdown",
   "metadata": {},
   "source": [
    "Here, we define a simple function to benchmark the time it takes to insert n points with either numeric or array data type.\n",
    "We will compare both the time used to call ``add_result`` and the time used for the full measurement."
   ]
  },
  {
   "cell_type": "code",
   "execution_count": 4,
   "metadata": {
    "execution": {
     "iopub.execute_input": "2020-10-14T07:59:18.625526Z",
     "iopub.status.busy": "2020-10-14T07:59:18.624885Z",
     "iopub.status.idle": "2020-10-14T07:59:18.628438Z",
     "shell.execute_reply": "2020-10-14T07:59:18.629171Z"
    }
   },
   "outputs": [],
   "source": [
    "def insert_data(paramtype, npoints, nreps=1):\n",
    "\n",
    "    meas = Measurement(exp=exp)\n",
    "\n",
    "    x1 = ManualParameter('x1')\n",
    "    x2 = ManualParameter('x2')\n",
    "    x3 = ManualParameter('x3')\n",
    "    y1 = ManualParameter('y1')\n",
    "    y2 = ManualParameter('y2')\n",
    "\n",
    "    meas.register_parameter(x1, paramtype=paramtype)\n",
    "    meas.register_parameter(x2, paramtype=paramtype)\n",
    "    meas.register_parameter(x3, paramtype=paramtype)\n",
    "    meas.register_parameter(y1, setpoints=[x1, x2, x3],\n",
    "                            paramtype=paramtype)\n",
    "    meas.register_parameter(y2, setpoints=[x1, x2, x3],\n",
    "                            paramtype=paramtype)\n",
    "    start = time.perf_counter()\n",
    "    with meas.run() as datasaver:\n",
    "        start_adding = time.perf_counter()\n",
    "        for i in range(nreps):\n",
    "            datasaver.add_result((x1, np.random.rand(npoints)),\n",
    "                                 (x2, np.random.rand(npoints)),\n",
    "                                 (x3, np.random.rand(npoints)),\n",
    "                                 (y1, np.random.rand(npoints)),\n",
    "                                 (y2, np.random.rand(npoints)))\n",
    "        stop_adding = time.perf_counter()\n",
    "        run_id = datasaver.run_id\n",
    "    stop = time.perf_counter()\n",
    "    tot_time = stop - start\n",
    "    add_time = stop_adding - start_adding\n",
    "    return tot_time, add_time, run_id"
   ]
  },
  {
   "cell_type": "markdown",
   "metadata": {},
   "source": [
    "## Comparison between numeric/array data and binary blob"
   ]
  },
  {
   "cell_type": "markdown",
   "metadata": {},
   "source": [
    "### Case1: Short experiment time"
   ]
  },
  {
   "cell_type": "code",
   "execution_count": 5,
   "metadata": {
    "execution": {
     "iopub.execute_input": "2020-10-14T07:59:18.634934Z",
     "iopub.status.busy": "2020-10-14T07:59:18.634347Z",
     "iopub.status.idle": "2020-10-14T07:59:19.506237Z",
     "shell.execute_reply": "2020-10-14T07:59:19.505745Z"
    }
   },
   "outputs": [
    {
     "name": "stdout",
     "output_type": "stream",
     "text": [
      "Starting experimental run with id: 1. \n",
      "Starting experimental run with id: 2. \n",
      "Starting experimental run with id: 3. \n",
      "Starting experimental run with id: 4. \n",
      "Starting experimental run with id: 5. \n"
     ]
    },
    {
     "name": "stdout",
     "output_type": "stream",
     "text": [
      "Starting experimental run with id: 6. \n"
     ]
    },
    {
     "name": "stdout",
     "output_type": "stream",
     "text": [
      "Starting experimental run with id: 7. \n"
     ]
    },
    {
     "name": "stdout",
     "output_type": "stream",
     "text": [
      "Starting experimental run with id: 8. \n",
      "Starting experimental run with id: 9. \n"
     ]
    },
    {
     "name": "stdout",
     "output_type": "stream",
     "text": [
      "Starting experimental run with id: 10. \n",
      "Starting experimental run with id: 11. \n"
     ]
    },
    {
     "name": "stdout",
     "output_type": "stream",
     "text": [
      "Starting experimental run with id: 12. \n"
     ]
    },
    {
     "name": "stdout",
     "output_type": "stream",
     "text": [
      "Starting experimental run with id: 13. \n"
     ]
    },
    {
     "name": "stdout",
     "output_type": "stream",
     "text": [
      "Starting experimental run with id: 14. \n"
     ]
    }
   ],
   "source": [
    "sizes = [1,500,1000,2000,3000,4000,5000]\n",
    "t_numeric = []\n",
    "t_numeric_add = []\n",
    "t_array = []\n",
    "t_array_add = []\n",
    "for size in sizes:\n",
    "    tn, tna, run_id_n =  insert_data('numeric', size)\n",
    "    t_numeric.append(tn)\n",
    "    t_numeric_add.append(tna)\n",
    "\n",
    "    ta, taa, run_id_a =  insert_data('array', size)\n",
    "    t_array.append(ta)\n",
    "    t_array_add.append(taa)"
   ]
  },
  {
   "cell_type": "code",
   "execution_count": 6,
   "metadata": {
    "execution": {
     "iopub.execute_input": "2020-10-14T07:59:19.524046Z",
     "iopub.status.busy": "2020-10-14T07:59:19.523507Z",
     "iopub.status.idle": "2020-10-14T07:59:19.722596Z",
     "shell.execute_reply": "2020-10-14T07:59:19.723230Z"
    }
   },
   "outputs": [
    {
     "data": {
      "image/png": "[encoded data removed]",
      "text/plain": [
       "<Figure size 432x288 with 1 Axes>"
      ]
     },
     "metadata": {
      "needs_background": "light"
     },
     "output_type": "display_data"
    }
   ],
   "source": [
    "fig, ax = plt.subplots(1,1)\n",
    "ax.plot(sizes, t_numeric, 'o-', label='Inserting row-by-row')\n",
    "ax.plot(sizes, t_numeric_add, 'o-', label='Inserting row-by-row: add_result only')\n",
    "ax.plot(sizes, t_array, 'd-', label='Inserting as binary blob')\n",
    "ax.plot(sizes, t_array_add, 'd-', label='Inserting as binary blob: add_result only')\n",
    "ax.legend()\n",
    "ax.set_xlabel('Array length')\n",
    "ax.set_ylabel('Time (s)')\n",
    "fig.tight_layout()"
   ]
  },
  {
   "cell_type": "markdown",
   "metadata": {},
   "source": [
    "As shown in the latter figure, the time to setup and and close the experiment is approximately 0.4 sec. In case of small array sizes, the difference between inserting values of data as arrays and inserting them row-by-row is relatively unimportant. At larger array sizes, i.e. above 10000 points, the cost of writing data as individual datapoints starts to become important.\n"
   ]
  },
  {
   "cell_type": "markdown",
   "metadata": {},
   "source": [
    "### Case2: Long experiment time "
   ]
  },
  {
   "cell_type": "code",
   "execution_count": 7,
   "metadata": {
    "execution": {
     "iopub.execute_input": "2020-10-14T07:59:19.729802Z",
     "iopub.status.busy": "2020-10-14T07:59:19.728868Z",
     "iopub.status.idle": "2020-10-14T08:00:20.773292Z",
     "shell.execute_reply": "2020-10-14T08:00:20.772702Z"
    }
   },
   "outputs": [
    {
     "name": "stdout",
     "output_type": "stream",
     "text": [
      "Starting experimental run with id: 15. \n",
      "Starting experimental run with id: 16. \n",
      "Starting experimental run with id: 17. \n"
     ]
    },
    {
     "name": "stdout",
     "output_type": "stream",
     "text": [
      "Starting experimental run with id: 18. \n",
      "Starting experimental run with id: 19. \n"
     ]
    },
    {
     "name": "stdout",
     "output_type": "stream",
     "text": [
      "Starting experimental run with id: 20. \n"
     ]
    },
    {
     "name": "stdout",
     "output_type": "stream",
     "text": [
      "Starting experimental run with id: 21. \n"
     ]
    },
    {
     "name": "stdout",
     "output_type": "stream",
     "text": [
      "Starting experimental run with id: 22. \n"
     ]
    },
    {
     "name": "stdout",
     "output_type": "stream",
     "text": [
      "Starting experimental run with id: 23. \n"
     ]
    },
    {
     "name": "stdout",
     "output_type": "stream",
     "text": [
      "Starting experimental run with id: 24. \n"
     ]
    },
    {
     "name": "stdout",
     "output_type": "stream",
     "text": [
      "Starting experimental run with id: 25. \n"
     ]
    },
    {
     "name": "stdout",
     "output_type": "stream",
     "text": [
      "Starting experimental run with id: 26. \n"
     ]
    },
    {
     "name": "stdout",
     "output_type": "stream",
     "text": [
      "Starting experimental run with id: 27. \n"
     ]
    },
    {
     "name": "stdout",
     "output_type": "stream",
     "text": [
      "Starting experimental run with id: 28. \n"
     ]
    }
   ],
   "source": [
    "sizes = [1,500,1000,2000,3000,4000,5000]\n",
    "nreps = 100\n",
    "t_numeric = []\n",
    "t_numeric_add = []\n",
    "t_numeric_run_ids = []\n",
    "t_array = []\n",
    "t_array_add = []\n",
    "t_array_run_ids = []\n",
    "for size in sizes:\n",
    "    tn, tna, run_id_n =  insert_data('numeric', size, nreps=nreps)\n",
    "    t_numeric.append(tn)\n",
    "    t_numeric_add.append(tna)\n",
    "    t_numeric_run_ids.append(run_id_n)\n",
    "\n",
    "    ta, taa, run_id_a =  insert_data('array', size, nreps=nreps)\n",
    "    t_array.append(ta)\n",
    "    t_array_add.append(taa)\n",
    "    t_array_run_ids.append(run_id_a)"
   ]
  },
  {
   "cell_type": "code",
   "execution_count": 8,
   "metadata": {
    "execution": {
     "iopub.execute_input": "2020-10-14T08:00:20.793893Z",
     "iopub.status.busy": "2020-10-14T08:00:20.792313Z",
     "iopub.status.idle": "2020-10-14T08:00:21.004874Z",
     "shell.execute_reply": "2020-10-14T08:00:21.004092Z"
    },
    "scrolled": true
   },
   "outputs": [
    {
     "data": {
      "image/png": "[encoded data removed]",
      "text/plain": [
       "<Figure size 432x288 with 1 Axes>"
      ]
     },
     "metadata": {
      "needs_background": "light"
     },
     "output_type": "display_data"
    }
   ],
   "source": [
    "fig, ax = plt.subplots(1,1)\n",
    "ax.plot(sizes, t_numeric, 'o-', label='Inserting row-by-row')\n",
    "ax.plot(sizes, t_numeric_add, 'o-', label='Inserting row-by-row: add_result only')\n",
    "ax.plot(sizes, t_array, 'd-', label='Inserting as binary blob')\n",
    "ax.plot(sizes, t_array_add, 'd-', label='Inserting as binary blob: add_result only')\n",
    "ax.legend()\n",
    "ax.set_xlabel('Array length')\n",
    "ax.set_ylabel('Time (s)')\n",
    "fig.tight_layout()"
   ]
  },
  {
   "cell_type": "markdown",
   "metadata": {},
   "source": [
    "However, as we increase the length of the experiment, as seen here by repeating the insertion 100 times, we see a big difference between inserting values of the data row-by-row and inserting it as a binary blob."
   ]
  },
  {
   "cell_type": "markdown",
   "metadata": {},
   "source": [
    "## Loading the data "
   ]
  },
  {
   "cell_type": "code",
   "execution_count": 9,
   "metadata": {
    "execution": {
     "iopub.execute_input": "2020-10-14T08:00:21.009681Z",
     "iopub.status.busy": "2020-10-14T08:00:21.009078Z",
     "iopub.status.idle": "2020-10-14T08:00:21.011923Z",
     "shell.execute_reply": "2020-10-14T08:00:21.011355Z"
    }
   },
   "outputs": [],
   "source": [
    "from qcodes.dataset.data_set import load_by_id\n",
    "from qcodes.dataset.data_export import get_data_by_id"
   ]
  },
  {
   "cell_type": "markdown",
   "metadata": {},
   "source": [
    "As usual you can load the data by using the ``load_by_id`` function but you will notice that the different storage methods\n",
    "are reflected in shape of the data as it is retrieved. "
   ]
  },
  {
   "cell_type": "code",
   "execution_count": 10,
   "metadata": {
    "execution": {
     "iopub.execute_input": "2020-10-14T08:00:21.016782Z",
     "iopub.status.busy": "2020-10-14T08:00:21.015590Z",
     "iopub.status.idle": "2020-10-14T08:00:21.017405Z",
     "shell.execute_reply": "2020-10-14T08:00:21.017920Z"
    }
   },
   "outputs": [],
   "source": [
    "run_id_n = t_numeric_run_ids[0]\n",
    "run_id_a = t_array_run_ids[0]"
   ]
  },
  {
   "cell_type": "code",
   "execution_count": 11,
   "metadata": {
    "execution": {
     "iopub.execute_input": "2020-10-14T08:00:21.021399Z",
     "iopub.status.busy": "2020-10-14T08:00:21.020757Z",
     "iopub.status.idle": "2020-10-14T08:00:21.030417Z",
     "shell.execute_reply": "2020-10-14T08:00:21.029883Z"
    },
    "scrolled": true
   },
   "outputs": [
    {
     "data": {
      "text/plain": [
       "{'x1': {'x1': array([0.14746706, 0.14746706, 0.60005445, 0.60005445, 0.12138742,\n",
       "         0.12138742, 0.86147862, 0.86147862, 0.85710302, 0.85710302,\n",
       "         0.46096398, 0.46096398, 0.01889606, 0.01889606, 0.85066289,\n",
       "         0.85066289, 0.39878871, 0.39878871, 0.0889982 , 0.0889982 ,\n",
       "         0.97028531, 0.97028531, 0.50572506, 0.50572506, 0.22916465,\n",
       "         0.22916465, 0.01180898, 0.01180898, 0.65449578, 0.65449578,\n",
       "         0.80935264, 0.80935264, 0.04282293, 0.04282293, 0.26214098,\n",
       "         0.26214098, 0.49124978, 0.49124978, 0.18819152, 0.18819152,\n",
       "         0.03523422, 0.03523422, 0.89250549, 0.89250549, 0.88580058,\n",
       "         0.88580058, 0.41283504, 0.41283504, 0.66674298, 0.66674298,\n",
       "         0.58397046, 0.58397046, 0.35818647, 0.35818647, 0.69801738,\n",
       "         0.69801738, 0.39884833, 0.39884833, 0.67526208, 0.67526208,\n",
       "         0.64829105, 0.64829105, 0.5307244 , 0.5307244 , 0.35624107,\n",
       "         0.35624107, 0.62566545, 0.62566545, 0.43808012, 0.43808012,\n",
       "         0.39275066, 0.39275066, 0.79055395, 0.79055395, 0.50833175,\n",
       "         0.50833175, 0.9868924 , 0.9868924 , 0.93359243, 0.93359243,\n",
       "         0.75567774, 0.75567774, 0.06757239, 0.06757239, 0.5865675 ,\n",
       "         0.5865675 , 0.76278855, 0.76278855, 0.28340099, 0.28340099,\n",
       "         0.24198791, 0.24198791, 0.7637657 , 0.7637657 , 0.25220594,\n",
       "         0.25220594, 0.72142988, 0.72142988, 0.44835034, 0.44835034,\n",
       "         0.49778611, 0.49778611, 0.18995576, 0.18995576, 0.39478639,\n",
       "         0.39478639, 0.97025753, 0.97025753, 0.07811469, 0.07811469,\n",
       "         0.62780054, 0.62780054, 0.33345883, 0.33345883, 0.11310267,\n",
       "         0.11310267, 0.72750756, 0.72750756, 0.39705703, 0.39705703,\n",
       "         0.12579474, 0.12579474, 0.32398104, 0.32398104, 0.93692906,\n",
       "         0.93692906, 0.55573084, 0.55573084, 0.61834043, 0.61834043,\n",
       "         0.25038533, 0.25038533, 0.63181553, 0.63181553, 0.78167869,\n",
       "         0.78167869, 0.08323088, 0.08323088, 0.89010646, 0.89010646,\n",
       "         0.5273539 , 0.5273539 , 0.05959737, 0.05959737, 0.33573712,\n",
       "         0.33573712, 0.85843092, 0.85843092, 0.5226709 , 0.5226709 ,\n",
       "         0.94449786, 0.94449786, 0.17692225, 0.17692225, 0.97058444,\n",
       "         0.97058444, 0.33204756, 0.33204756, 0.83833182, 0.83833182,\n",
       "         0.37697478, 0.37697478, 0.14621714, 0.14621714, 0.5513909 ,\n",
       "         0.5513909 , 0.80099166, 0.80099166, 0.26783172, 0.26783172,\n",
       "         0.10120416, 0.10120416, 0.36965488, 0.36965488, 0.37204099,\n",
       "         0.37204099, 0.54594141, 0.54594141, 0.28706313, 0.28706313,\n",
       "         0.67697861, 0.67697861, 0.30473943, 0.30473943, 0.82400408,\n",
       "         0.82400408, 0.99175969, 0.99175969, 0.07095162, 0.07095162,\n",
       "         0.51032114, 0.51032114, 0.82798378, 0.82798378, 0.13401945,\n",
       "         0.13401945, 0.49174004, 0.49174004, 0.56109191, 0.56109191])}}"
      ]
     },
     "execution_count": 1,
     "metadata": {},
     "output_type": "execute_result"
    }
   ],
   "source": [
    "ds = load_by_id(run_id_n)\n",
    "ds.get_parameter_data('x1')"
   ]
  },
  {
   "cell_type": "markdown",
   "metadata": {},
   "source": [
    "And a dataset stored as binary arrays"
   ]
  },
  {
   "cell_type": "code",
   "execution_count": 12,
   "metadata": {
    "execution": {
     "iopub.execute_input": "2020-10-14T08:00:21.033721Z",
     "iopub.status.busy": "2020-10-14T08:00:21.033176Z",
     "iopub.status.idle": "2020-10-14T08:00:21.104041Z",
     "shell.execute_reply": "2020-10-14T08:00:21.103416Z"
    },
    "scrolled": true
   },
   "outputs": [
    {
     "data": {
      "text/plain": [
       "{'x1': {'x1': array([[0.15225714],\n",
       "         [0.15225714],\n",
       "         [0.20528747],\n",
       "         [0.20528747],\n",
       "         [0.50626426],\n",
       "         [0.50626426],\n",
       "         [0.8310507 ],\n",
       "         [0.8310507 ],\n",
       "         [0.00315048],\n",
       "         [0.00315048],\n",
       "         [0.77124658],\n",
       "         [0.77124658],\n",
       "         [0.92552445],\n",
       "         [0.92552445],\n",
       "         [0.49283144],\n",
       "         [0.49283144],\n",
       "         [0.69617911],\n",
       "         [0.69617911],\n",
       "         [0.96964836],\n",
       "         [0.96964836],\n",
       "         [0.49734013],\n",
       "         [0.49734013],\n",
       "         [0.34689293],\n",
       "         [0.34689293],\n",
       "         [0.60660167],\n",
       "         [0.60660167],\n",
       "         [0.11294183],\n",
       "         [0.11294183],\n",
       "         [0.28144205],\n",
       "         [0.28144205],\n",
       "         [0.70622969],\n",
       "         [0.70622969],\n",
       "         [0.984972  ],\n",
       "         [0.984972  ],\n",
       "         [0.58148462],\n",
       "         [0.58148462],\n",
       "         [0.90784653],\n",
       "         [0.90784653],\n",
       "         [0.47459428],\n",
       "         [0.47459428],\n",
       "         [0.8527266 ],\n",
       "         [0.8527266 ],\n",
       "         [0.35841263],\n",
       "         [0.35841263],\n",
       "         [0.38944584],\n",
       "         [0.38944584],\n",
       "         [0.61240191],\n",
       "         [0.61240191],\n",
       "         [0.61025495],\n",
       "         [0.61025495],\n",
       "         [0.1522076 ],\n",
       "         [0.1522076 ],\n",
       "         [0.80789669],\n",
       "         [0.80789669],\n",
       "         [0.55215146],\n",
       "         [0.55215146],\n",
       "         [0.86314327],\n",
       "         [0.86314327],\n",
       "         [0.30210833],\n",
       "         [0.30210833],\n",
       "         [0.28551642],\n",
       "         [0.28551642],\n",
       "         [0.14213217],\n",
       "         [0.14213217],\n",
       "         [0.1075913 ],\n",
       "         [0.1075913 ],\n",
       "         [0.22054775],\n",
       "         [0.22054775],\n",
       "         [0.321938  ],\n",
       "         [0.321938  ],\n",
       "         [0.66271337],\n",
       "         [0.66271337],\n",
       "         [0.04144999],\n",
       "         [0.04144999],\n",
       "         [0.70137388],\n",
       "         [0.70137388],\n",
       "         [0.98239361],\n",
       "         [0.98239361],\n",
       "         [0.86774888],\n",
       "         [0.86774888],\n",
       "         [0.00953514],\n",
       "         [0.00953514],\n",
       "         [0.7763956 ],\n",
       "         [0.7763956 ],\n",
       "         [0.54744819],\n",
       "         [0.54744819],\n",
       "         [0.47400834],\n",
       "         [0.47400834],\n",
       "         [0.21621752],\n",
       "         [0.21621752],\n",
       "         [0.76072044],\n",
       "         [0.76072044],\n",
       "         [0.55080488],\n",
       "         [0.55080488],\n",
       "         [0.37046082],\n",
       "         [0.37046082],\n",
       "         [0.48784336],\n",
       "         [0.48784336],\n",
       "         [0.70827451],\n",
       "         [0.70827451],\n",
       "         [0.97566921],\n",
       "         [0.97566921],\n",
       "         [0.89374272],\n",
       "         [0.89374272],\n",
       "         [0.49180496],\n",
       "         [0.49180496],\n",
       "         [0.80192852],\n",
       "         [0.80192852],\n",
       "         [0.33095153],\n",
       "         [0.33095153],\n",
       "         [0.60503584],\n",
       "         [0.60503584],\n",
       "         [0.22622578],\n",
       "         [0.22622578],\n",
       "         [0.34405728],\n",
       "         [0.34405728],\n",
       "         [0.67022001],\n",
       "         [0.67022001],\n",
       "         [0.79453512],\n",
       "         [0.79453512],\n",
       "         [0.44938887],\n",
       "         [0.44938887],\n",
       "         [0.54607347],\n",
       "         [0.54607347],\n",
       "         [0.89207517],\n",
       "         [0.89207517],\n",
       "         [0.91245146],\n",
       "         [0.91245146],\n",
       "         [0.50591311],\n",
       "         [0.50591311],\n",
       "         [0.634475  ],\n",
       "         [0.634475  ],\n",
       "         [0.45149974],\n",
       "         [0.45149974],\n",
       "         [0.71684194],\n",
       "         [0.71684194],\n",
       "         [0.1752988 ],\n",
       "         [0.1752988 ],\n",
       "         [0.49988312],\n",
       "         [0.49988312],\n",
       "         [0.59399674],\n",
       "         [0.59399674],\n",
       "         [0.00889909],\n",
       "         [0.00889909],\n",
       "         [0.98607444],\n",
       "         [0.98607444],\n",
       "         [0.54482867],\n",
       "         [0.54482867],\n",
       "         [0.58799007],\n",
       "         [0.58799007],\n",
       "         [0.7329211 ],\n",
       "         [0.7329211 ],\n",
       "         [0.80548015],\n",
       "         [0.80548015],\n",
       "         [0.93460043],\n",
       "         [0.93460043],\n",
       "         [0.93639457],\n",
       "         [0.93639457],\n",
       "         [0.74531084],\n",
       "         [0.74531084],\n",
       "         [0.11109633],\n",
       "         [0.11109633],\n",
       "         [0.08754786],\n",
       "         [0.08754786],\n",
       "         [0.2293287 ],\n",
       "         [0.2293287 ],\n",
       "         [0.80714639],\n",
       "         [0.80714639],\n",
       "         [0.54371711],\n",
       "         [0.54371711],\n",
       "         [0.82701241],\n",
       "         [0.82701241],\n",
       "         [0.1451059 ],\n",
       "         [0.1451059 ],\n",
       "         [0.2943588 ],\n",
       "         [0.2943588 ],\n",
       "         [0.26201496],\n",
       "         [0.26201496],\n",
       "         [0.7878379 ],\n",
       "         [0.7878379 ],\n",
       "         [0.30707699],\n",
       "         [0.30707699],\n",
       "         [0.89989863],\n",
       "         [0.89989863],\n",
       "         [0.68490131],\n",
       "         [0.68490131],\n",
       "         [0.64090601],\n",
       "         [0.64090601],\n",
       "         [0.16006979],\n",
       "         [0.16006979],\n",
       "         [0.36236943],\n",
       "         [0.36236943],\n",
       "         [0.69850717],\n",
       "         [0.69850717],\n",
       "         [0.26095449],\n",
       "         [0.26095449],\n",
       "         [0.45403476],\n",
       "         [0.45403476],\n",
       "         [0.69632964],\n",
       "         [0.69632964]])}}"
      ]
     },
     "execution_count": 1,
     "metadata": {},
     "output_type": "execute_result"
    }
   ],
   "source": [
    "ds = load_by_id(run_id_a)\n",
    "ds.get_parameter_data('x1')"
   ]
  },
  {
   "cell_type": "code",
   "execution_count": null,
   "metadata": {},
   "outputs": [],
   "source": []
  }
 ],
 "metadata": {
  "kernelspec": {
   "display_name": "Python 3",
   "language": "python",
   "name": "python3"
  },
  "language_info": {
   "codemirror_mode": {
    "name": "ipython",
    "version": 3
   },
   "file_extension": ".py",
   "mimetype": "text/x-python",
   "name": "python",
   "nbconvert_exporter": "python",
   "pygments_lexer": "ipython3",
   "version": "3.7.7"
  },
  "nbsphinx": {
   "timeout": 600
  },
  "toc": {
   "base_numbering": 1,
   "nav_menu": {},
   "number_sections": true,
   "sideBar": true,
   "skip_h1_title": false,
   "title_cell": "Table of Contents",
   "title_sidebar": "Contents",
   "toc_cell": false,
   "toc_position": {},
   "toc_section_display": true,
   "toc_window_display": false
  },
  "varInspector": {
   "cols": {
    "lenName": 16,
    "lenType": 16,
    "lenVar": 40
   },
   "kernels_config": {
    "python": {
     "delete_cmd_postfix": "",
     "delete_cmd_prefix": "del ",
     "library": "var_list.py",
     "varRefreshCmd": "print(var_dic_list())"
    },
    "r": {
     "delete_cmd_postfix": ") ",
     "delete_cmd_prefix": "rm(",
     "library": "var_list.r",
     "varRefreshCmd": "cat(var_dic_list()) "
    }
   },
   "types_to_exclude": [
    "module",
    "function",
    "builtin_function_or_method",
    "instance",
    "_Feature"
   ],
   "window_display": false
  }
 },
 "nbformat": 4,
 "nbformat_minor": 2
}
