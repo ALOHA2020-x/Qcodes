{
 "cells": [
  {
   "cell_type": "markdown",
   "metadata": {},
   "source": [
    "# DataSet Performance\n",
    "\n",
    "This notebook shows the trade-off between inserting data into a database row-by-row and as binary blobs. Inserting the data row-by-row means that we have direct access to all the data and may perform queries directly on the values of the data. On the other hand, as we shall see, this is much slower than inserting the data directly as binary blobs."
   ]
  },
  {
   "cell_type": "markdown",
   "metadata": {},
   "source": [
    "First, we choose a new location for the database to ensure that we don't add a bunch of benchmarking data to the default one."
   ]
  },
  {
   "cell_type": "code",
   "execution_count": 1,
   "metadata": {},
   "outputs": [
    {
     "name": "stdout",
     "output_type": "stream",
     "text": [
      "Logging hadn't been started.\n",
      "Activating auto-logging. Current session state plus future input saved.\n",
      "Filename       : /home/vsts/.qcodes/logs/command_history.log\n",
      "Mode           : append\n",
      "Output logging : True\n",
      "Raw input log  : False\n",
      "Timestamping   : True\n",
      "State          : active\n"
     ]
    },
    {
     "name": "stdout",
     "output_type": "stream",
     "text": [
      "Qcodes Logfile : /home/vsts/.qcodes/logs/200218-17432-qcodes.log\n"
     ]
    }
   ],
   "source": [
    "import os\n",
    "cwd = os.getcwd()\n",
    "import qcodes as qc\n",
    "qc.config[\"core\"][\"db_location\"] = os.path.join(cwd, 'testing.db')\n"
   ]
  },
  {
   "cell_type": "code",
   "execution_count": 2,
   "metadata": {},
   "outputs": [],
   "source": [
    "%matplotlib inline\n",
    "import time\n",
    "import matplotlib.pyplot as plt\n",
    "import numpy as np\n",
    "\n",
    "import qcodes as qc\n",
    "from qcodes.instrument.parameter import ManualParameter\n",
    "from qcodes.dataset.experiment_container import (Experiment,\n",
    "                                                 load_last_experiment,\n",
    "                                                 new_experiment)\n",
    "from qcodes.dataset.sqlite.database import initialise_database\n",
    "from qcodes import load_or_create_experiment\n",
    "from qcodes.dataset.measurements import Measurement"
   ]
  },
  {
   "cell_type": "code",
   "execution_count": 3,
   "metadata": {},
   "outputs": [
    {
     "name": "stdout",
     "output_type": "stream",
     "text": [
      "\r",
      "0it [00:00, ?it/s]"
     ]
    },
    {
     "name": "stdout",
     "output_type": "stream",
     "text": [
      "\r",
      "Upgrading database; v0 -> v1: : 0it [00:00, ?it/s]"
     ]
    },
    {
     "name": "stdout",
     "output_type": "stream",
     "text": [
      "\r",
      "Upgrading database; v0 -> v1: : 0it [00:00, ?it/s]"
     ]
    },
    {
     "name": "stdout",
     "output_type": "stream",
     "text": [
      "\n",
      "\r",
      "  0%|          | 0/1 [00:00<?, ?it/s]"
     ]
    },
    {
     "name": "stdout",
     "output_type": "stream",
     "text": [
      "\r",
      "Upgrading database; v1 -> v2:   0%|          | 0/1 [00:00<?, ?it/s]"
     ]
    },
    {
     "name": "stdout",
     "output_type": "stream",
     "text": [
      "\r",
      "Upgrading database; v1 -> v2: 100%|██████████| 1/1 [00:00<00:00, 1020.02it/s]"
     ]
    },
    {
     "name": "stdout",
     "output_type": "stream",
     "text": [
      "\n",
      "\r",
      "0it [00:00, ?it/s]"
     ]
    },
    {
     "name": "stdout",
     "output_type": "stream",
     "text": [
      "\r",
      "Upgrading database; v2 -> v3: : 0it [00:00, ?it/s]"
     ]
    },
    {
     "name": "stdout",
     "output_type": "stream",
     "text": [
      "\r",
      "Upgrading database; v2 -> v3: : 0it [00:00, ?it/s]"
     ]
    },
    {
     "name": "stdout",
     "output_type": "stream",
     "text": [
      "\n",
      "\r",
      "0it [00:00, ?it/s]"
     ]
    },
    {
     "name": "stdout",
     "output_type": "stream",
     "text": [
      "\r",
      "Upgrading database; v3 -> v4: : 0it [00:00, ?it/s]"
     ]
    },
    {
     "name": "stdout",
     "output_type": "stream",
     "text": [
      "\r",
      "Upgrading database; v3 -> v4: : 0it [00:00, ?it/s]"
     ]
    },
    {
     "name": "stdout",
     "output_type": "stream",
     "text": [
      "\n",
      "\r",
      "  0%|          | 0/1 [00:00<?, ?it/s]"
     ]
    },
    {
     "name": "stdout",
     "output_type": "stream",
     "text": [
      "\r",
      "Upgrading database; v4 -> v5:   0%|          | 0/1 [00:00<?, ?it/s]"
     ]
    },
    {
     "name": "stdout",
     "output_type": "stream",
     "text": [
      "\r",
      "Upgrading database; v4 -> v5: 100%|██████████| 1/1 [00:00<00:00, 951.74it/s]"
     ]
    },
    {
     "name": "stdout",
     "output_type": "stream",
     "text": [
      "\n",
      "\r",
      "0it [00:00, ?it/s]"
     ]
    },
    {
     "name": "stdout",
     "output_type": "stream",
     "text": [
      "\r",
      "Upgrading database; v5 -> v6: : 0it [00:00, ?it/s]"
     ]
    },
    {
     "name": "stdout",
     "output_type": "stream",
     "text": [
      "\r",
      "Upgrading database; v5 -> v6: : 0it [00:00, ?it/s]"
     ]
    },
    {
     "name": "stdout",
     "output_type": "stream",
     "text": [
      "\n",
      "\r",
      "  0%|          | 0/1 [00:00<?, ?it/s]"
     ]
    },
    {
     "name": "stdout",
     "output_type": "stream",
     "text": [
      "\r",
      "Upgrading database; v6 -> v7:   0%|          | 0/1 [00:00<?, ?it/s]"
     ]
    },
    {
     "name": "stdout",
     "output_type": "stream",
     "text": [
      "\r",
      "Upgrading database; v6 -> v7: 100%|██████████| 1/1 [00:00<00:00, 404.78it/s]"
     ]
    },
    {
     "name": "stdout",
     "output_type": "stream",
     "text": [
      "\n",
      "\r",
      "  0%|          | 0/1 [00:00<?, ?it/s]"
     ]
    },
    {
     "name": "stdout",
     "output_type": "stream",
     "text": [
      "\r",
      "Upgrading database; v7 -> v8:   0%|          | 0/1 [00:00<?, ?it/s]"
     ]
    },
    {
     "name": "stdout",
     "output_type": "stream",
     "text": [
      "\r",
      "Upgrading database; v7 -> v8: 100%|██████████| 1/1 [00:00<00:00, 786.78it/s]"
     ]
    },
    {
     "name": "stdout",
     "output_type": "stream",
     "text": [
      "\n"
     ]
    }
   ],
   "source": [
    "initialise_database()\n",
    "exp = load_or_create_experiment(experiment_name='tutorial_exp', sample_name=\"no sample\")"
   ]
  },
  {
   "cell_type": "markdown",
   "metadata": {},
   "source": [
    "Here, we define a simple function to benchmark the time it takes to insert n points with either numeric or array data type.\n",
    "We will compare both the time used to call ``add_result`` and the time used for the full measurement."
   ]
  },
  {
   "cell_type": "code",
   "execution_count": 4,
   "metadata": {},
   "outputs": [],
   "source": [
    "def insert_data(paramtype, npoints, nreps=1):\n",
    "\n",
    "    meas = Measurement(exp=exp)\n",
    "\n",
    "    x1 = ManualParameter('x1')\n",
    "    x2 = ManualParameter('x2')\n",
    "    x3 = ManualParameter('x3')\n",
    "    y1 = ManualParameter('y1')\n",
    "    y2 = ManualParameter('y2')\n",
    "\n",
    "    meas.register_parameter(x1, paramtype=paramtype)\n",
    "    meas.register_parameter(x2, paramtype=paramtype)\n",
    "    meas.register_parameter(x3, paramtype=paramtype)\n",
    "    meas.register_parameter(y1, setpoints=[x1, x2, x3],\n",
    "                            paramtype=paramtype)\n",
    "    meas.register_parameter(y2, setpoints=[x1, x2, x3],\n",
    "                            paramtype=paramtype)\n",
    "    start = time.perf_counter()\n",
    "    with meas.run() as datasaver:\n",
    "        start_adding = time.perf_counter()\n",
    "        for i in range(nreps):\n",
    "            datasaver.add_result((x1, np.random.rand(npoints)),\n",
    "                                 (x2, np.random.rand(npoints)),\n",
    "                                 (x3, np.random.rand(npoints)),\n",
    "                                 (y1, np.random.rand(npoints)),\n",
    "                                 (y2, np.random.rand(npoints)))\n",
    "        stop_adding = time.perf_counter()\n",
    "        run_id = datasaver.run_id\n",
    "    stop = time.perf_counter()\n",
    "    tot_time = stop - start\n",
    "    add_time = stop_adding - start_adding\n",
    "    return tot_time, add_time, run_id"
   ]
  },
  {
   "cell_type": "markdown",
   "metadata": {},
   "source": [
    "## Comparison between numeric/array data and binary blob"
   ]
  },
  {
   "cell_type": "markdown",
   "metadata": {},
   "source": [
    "### Case1: Short experiment time"
   ]
  },
  {
   "cell_type": "code",
   "execution_count": 5,
   "metadata": {},
   "outputs": [
    {
     "name": "stdout",
     "output_type": "stream",
     "text": [
      "Starting experimental run with id: 1. \n",
      "Starting experimental run with id: 2. \n",
      "Starting experimental run with id: 3. \n",
      "Starting experimental run with id: 4. \n"
     ]
    },
    {
     "name": "stdout",
     "output_type": "stream",
     "text": [
      "Starting experimental run with id: 5. \n"
     ]
    },
    {
     "name": "stdout",
     "output_type": "stream",
     "text": [
      "Starting experimental run with id: 6. \n"
     ]
    },
    {
     "name": "stdout",
     "output_type": "stream",
     "text": [
      "Starting experimental run with id: 7. \n"
     ]
    },
    {
     "name": "stdout",
     "output_type": "stream",
     "text": [
      "Starting experimental run with id: 8. \n",
      "Starting experimental run with id: 9. \n"
     ]
    },
    {
     "name": "stdout",
     "output_type": "stream",
     "text": [
      "Starting experimental run with id: 10. \n",
      "Starting experimental run with id: 11. \n"
     ]
    },
    {
     "name": "stdout",
     "output_type": "stream",
     "text": [
      "Starting experimental run with id: 12. \n"
     ]
    },
    {
     "name": "stdout",
     "output_type": "stream",
     "text": [
      "Starting experimental run with id: 13. \n"
     ]
    },
    {
     "name": "stdout",
     "output_type": "stream",
     "text": [
      "Starting experimental run with id: 14. \n"
     ]
    }
   ],
   "source": [
    "sizes = [1,500,1000,2000,3000,4000,5000]\n",
    "t_numeric = []\n",
    "t_numeric_add = []\n",
    "t_array = []\n",
    "t_array_add = []\n",
    "for size in sizes:\n",
    "    tn, tna, run_id_n =  insert_data('numeric', size)\n",
    "    t_numeric.append(tn)\n",
    "    t_numeric_add.append(tna)\n",
    "\n",
    "    ta, taa, run_id_a =  insert_data('array', size)\n",
    "    t_array.append(ta)\n",
    "    t_array_add.append(taa)"
   ]
  },
  {
   "cell_type": "code",
   "execution_count": 6,
   "metadata": {},
   "outputs": [
    {
     "data": {
      "image/png": "[encoded data removed]",
      "text/plain": [
       "<Figure size 432x288 with 1 Axes>"
      ]
     },
     "metadata": {
      "needs_background": "light"
     },
     "output_type": "display_data"
    }
   ],
   "source": [
    "fig, ax = plt.subplots(1,1)\n",
    "ax.plot(sizes, t_numeric, 'o-', label='Inserting row-by-row')\n",
    "ax.plot(sizes, t_numeric_add, 'o-', label='Inserting row-by-row: add_result only')\n",
    "ax.plot(sizes, t_array, 'd-', label='Inserting as binary blob')\n",
    "ax.plot(sizes, t_array_add, 'd-', label='Inserting as binary blob: add_result only')\n",
    "ax.legend()\n",
    "ax.set_xlabel('Array length')\n",
    "ax.set_ylabel('Time (s)')\n",
    "fig.tight_layout()"
   ]
  },
  {
   "cell_type": "markdown",
   "metadata": {},
   "source": [
    "As shown in the latter figure, the time to setup and and close the experiment is approximately 0.4 sec. In case of small array sizes, the difference between inserting values of data as arrays and inserting them row-by-row is relatively unimportant. At larger array sizes, i.e. above 10000 points, the cost of writing data as individual datapoints starts to become important.\n"
   ]
  },
  {
   "cell_type": "markdown",
   "metadata": {},
   "source": [
    "### Case2: Long experiment time "
   ]
  },
  {
   "cell_type": "code",
   "execution_count": 7,
   "metadata": {},
   "outputs": [
    {
     "name": "stdout",
     "output_type": "stream",
     "text": [
      "Starting experimental run with id: 15. \n",
      "Starting experimental run with id: 16. \n",
      "Starting experimental run with id: 17. \n"
     ]
    },
    {
     "name": "stdout",
     "output_type": "stream",
     "text": [
      "Starting experimental run with id: 18. \n",
      "Starting experimental run with id: 19. \n"
     ]
    },
    {
     "name": "stdout",
     "output_type": "stream",
     "text": [
      "Starting experimental run with id: 20. \n"
     ]
    },
    {
     "name": "stdout",
     "output_type": "stream",
     "text": [
      "Starting experimental run with id: 21. \n"
     ]
    },
    {
     "name": "stdout",
     "output_type": "stream",
     "text": [
      "Starting experimental run with id: 22. \n"
     ]
    },
    {
     "name": "stdout",
     "output_type": "stream",
     "text": [
      "Starting experimental run with id: 23. \n"
     ]
    },
    {
     "name": "stdout",
     "output_type": "stream",
     "text": [
      "Starting experimental run with id: 24. \n"
     ]
    },
    {
     "name": "stdout",
     "output_type": "stream",
     "text": [
      "Starting experimental run with id: 25. \n"
     ]
    },
    {
     "name": "stdout",
     "output_type": "stream",
     "text": [
      "Starting experimental run with id: 26. \n"
     ]
    },
    {
     "name": "stdout",
     "output_type": "stream",
     "text": [
      "Starting experimental run with id: 27. \n"
     ]
    },
    {
     "name": "stdout",
     "output_type": "stream",
     "text": [
      "Starting experimental run with id: 28. \n"
     ]
    }
   ],
   "source": [
    "sizes = [1,500,1000,2000,3000,4000,5000]\n",
    "nreps = 100\n",
    "t_numeric = []\n",
    "t_numeric_add = []\n",
    "t_numeric_run_ids = []\n",
    "t_array = []\n",
    "t_array_add = []\n",
    "t_array_run_ids = []\n",
    "for size in sizes:\n",
    "    tn, tna, run_id_n =  insert_data('numeric', size, nreps=nreps)\n",
    "    t_numeric.append(tn)\n",
    "    t_numeric_add.append(tna)\n",
    "    t_numeric_run_ids.append(run_id_n)\n",
    "\n",
    "    ta, taa, run_id_a =  insert_data('array', size, nreps=nreps)\n",
    "    t_array.append(ta)\n",
    "    t_array_add.append(taa)\n",
    "    t_array_run_ids.append(run_id_a)"
   ]
  },
  {
   "cell_type": "code",
   "execution_count": 8,
   "metadata": {
    "scrolled": true
   },
   "outputs": [
    {
     "data": {
      "image/png": "[encoded data removed]",
      "text/plain": [
       "<Figure size 432x288 with 1 Axes>"
      ]
     },
     "metadata": {
      "needs_background": "light"
     },
     "output_type": "display_data"
    }
   ],
   "source": [
    "fig, ax = plt.subplots(1,1)\n",
    "ax.plot(sizes, t_numeric, 'o-', label='Inserting row-by-row')\n",
    "ax.plot(sizes, t_numeric_add, 'o-', label='Inserting row-by-row: add_result only')\n",
    "ax.plot(sizes, t_array, 'd-', label='Inserting as binary blob')\n",
    "ax.plot(sizes, t_array_add, 'd-', label='Inserting as binary blob: add_result only')\n",
    "ax.legend()\n",
    "ax.set_xlabel('Array length')\n",
    "ax.set_ylabel('Time (s)')\n",
    "fig.tight_layout()"
   ]
  },
  {
   "cell_type": "markdown",
   "metadata": {},
   "source": [
    "However, as we increase the length of the experiment, as seen here by repeating the insertion 100 times, we see a big difference between inserting values of the data row-by-row and inserting it as a binary blob."
   ]
  },
  {
   "cell_type": "markdown",
   "metadata": {},
   "source": [
    "## Loading the data "
   ]
  },
  {
   "cell_type": "code",
   "execution_count": 9,
   "metadata": {},
   "outputs": [],
   "source": [
    "from qcodes.dataset.data_set import load_by_id\n",
    "from qcodes.dataset.data_export import get_data_by_id"
   ]
  },
  {
   "cell_type": "markdown",
   "metadata": {},
   "source": [
    "As usual you can load the data by using the ``load_by_id`` function but you will notice that the different storage methods\n",
    "are reflected in shape of the data as it is retrieved. "
   ]
  },
  {
   "cell_type": "code",
   "execution_count": 10,
   "metadata": {},
   "outputs": [],
   "source": [
    "run_id_n = t_numeric_run_ids[0]\n",
    "run_id_a = t_array_run_ids[0]"
   ]
  },
  {
   "cell_type": "code",
   "execution_count": 11,
   "metadata": {
    "scrolled": true
   },
   "outputs": [
    {
     "data": {
      "text/plain": [
       "{'x1': {'x1': array([0.18831074, 0.18831074, 0.62530581, 0.62530581, 0.56792929,\n",
       "         0.56792929, 0.48899544, 0.48899544, 0.51499403, 0.51499403,\n",
       "         0.95697503, 0.95697503, 0.7064467 , 0.7064467 , 0.81248606,\n",
       "         0.81248606, 0.53844144, 0.53844144, 0.11468182, 0.11468182,\n",
       "         0.89233295, 0.89233295, 0.99388439, 0.99388439, 0.00495158,\n",
       "         0.00495158, 0.22167358, 0.22167358, 0.40639128, 0.40639128,\n",
       "         0.75498954, 0.75498954, 0.91358663, 0.91358663, 0.21950322,\n",
       "         0.21950322, 0.79443259, 0.79443259, 0.2741489 , 0.2741489 ,\n",
       "         0.40823318, 0.40823318, 0.8010087 , 0.8010087 , 0.73493892,\n",
       "         0.73493892, 0.35593216, 0.35593216, 0.21584146, 0.21584146,\n",
       "         0.31118405, 0.31118405, 0.30298665, 0.30298665, 0.17216503,\n",
       "         0.17216503, 0.30811073, 0.30811073, 0.15534483, 0.15534483,\n",
       "         0.64132489, 0.64132489, 0.465345  , 0.465345  , 0.26899099,\n",
       "         0.26899099, 0.52821543, 0.52821543, 0.04541593, 0.04541593,\n",
       "         0.76514817, 0.76514817, 0.40199918, 0.40199918, 0.22142568,\n",
       "         0.22142568, 0.31130614, 0.31130614, 0.55995869, 0.55995869,\n",
       "         0.8357801 , 0.8357801 , 0.49908757, 0.49908757, 0.23549924,\n",
       "         0.23549924, 0.91471224, 0.91471224, 0.54772944, 0.54772944,\n",
       "         0.40740278, 0.40740278, 0.17124222, 0.17124222, 0.28281079,\n",
       "         0.28281079, 0.60799039, 0.60799039, 0.97116569, 0.97116569,\n",
       "         0.04491984, 0.04491984, 0.42656227, 0.42656227, 0.6215603 ,\n",
       "         0.6215603 , 0.97134581, 0.97134581, 0.87176703, 0.87176703,\n",
       "         0.72532419, 0.72532419, 0.92491751, 0.92491751, 0.88797478,\n",
       "         0.88797478, 0.14660745, 0.14660745, 0.62693784, 0.62693784,\n",
       "         0.91027609, 0.91027609, 0.93272275, 0.93272275, 0.11407669,\n",
       "         0.11407669, 0.74239449, 0.74239449, 0.22347944, 0.22347944,\n",
       "         0.6441982 , 0.6441982 , 0.72140061, 0.72140061, 0.25800844,\n",
       "         0.25800844, 0.9077674 , 0.9077674 , 0.98539496, 0.98539496,\n",
       "         0.40856419, 0.40856419, 0.82153685, 0.82153685, 0.05323707,\n",
       "         0.05323707, 0.45418005, 0.45418005, 0.86239141, 0.86239141,\n",
       "         0.35222876, 0.35222876, 0.90927918, 0.90927918, 0.44555419,\n",
       "         0.44555419, 0.14863249, 0.14863249, 0.2333267 , 0.2333267 ,\n",
       "         0.71583448, 0.71583448, 0.18641865, 0.18641865, 0.97393942,\n",
       "         0.97393942, 0.4680398 , 0.4680398 , 0.01531182, 0.01531182,\n",
       "         0.45815535, 0.45815535, 0.67429269, 0.67429269, 0.18210915,\n",
       "         0.18210915, 0.85290449, 0.85290449, 0.95280603, 0.95280603,\n",
       "         0.40569915, 0.40569915, 0.9951898 , 0.9951898 , 0.19064596,\n",
       "         0.19064596, 0.86776351, 0.86776351, 0.16108689, 0.16108689,\n",
       "         0.20890714, 0.20890714, 0.31603703, 0.31603703, 0.14749061,\n",
       "         0.14749061, 0.24878371, 0.24878371, 0.50755809, 0.50755809])}}"
      ]
     },
     "execution_count": 11,
     "metadata": {},
     "output_type": "execute_result"
    }
   ],
   "source": [
    "ds = load_by_id(run_id_n)\n",
    "ds.get_parameter_data('x1')"
   ]
  },
  {
   "cell_type": "markdown",
   "metadata": {},
   "source": [
    "And a dataset stored as binary arrays"
   ]
  },
  {
   "cell_type": "code",
   "execution_count": 12,
   "metadata": {
    "scrolled": true
   },
   "outputs": [
    {
     "data": {
      "text/plain": [
       "{'x1': {'x1': array([[2.39775943e-01],\n",
       "         [2.39775943e-01],\n",
       "         [9.04964222e-01],\n",
       "         [9.04964222e-01],\n",
       "         [1.71999790e-01],\n",
       "         [1.71999790e-01],\n",
       "         [5.86858919e-01],\n",
       "         [5.86858919e-01],\n",
       "         [4.46962439e-01],\n",
       "         [4.46962439e-01],\n",
       "         [3.29794655e-01],\n",
       "         [3.29794655e-01],\n",
       "         [9.51170176e-01],\n",
       "         [9.51170176e-01],\n",
       "         [7.42194654e-01],\n",
       "         [7.42194654e-01],\n",
       "         [7.31491242e-01],\n",
       "         [7.31491242e-01],\n",
       "         [2.17524058e-02],\n",
       "         [2.17524058e-02],\n",
       "         [8.22688392e-01],\n",
       "         [8.22688392e-01],\n",
       "         [7.48475102e-01],\n",
       "         [7.48475102e-01],\n",
       "         [8.55516944e-01],\n",
       "         [8.55516944e-01],\n",
       "         [6.96160430e-01],\n",
       "         [6.96160430e-01],\n",
       "         [8.77904056e-01],\n",
       "         [8.77904056e-01],\n",
       "         [4.32566850e-03],\n",
       "         [4.32566850e-03],\n",
       "         [1.48238242e-01],\n",
       "         [1.48238242e-01],\n",
       "         [2.76047884e-01],\n",
       "         [2.76047884e-01],\n",
       "         [6.69878177e-02],\n",
       "         [6.69878177e-02],\n",
       "         [4.89386930e-01],\n",
       "         [4.89386930e-01],\n",
       "         [5.21505599e-01],\n",
       "         [5.21505599e-01],\n",
       "         [1.42530399e-01],\n",
       "         [1.42530399e-01],\n",
       "         [3.15133553e-01],\n",
       "         [3.15133553e-01],\n",
       "         [4.69790249e-01],\n",
       "         [4.69790249e-01],\n",
       "         [2.50464384e-02],\n",
       "         [2.50464384e-02],\n",
       "         [8.25474777e-01],\n",
       "         [8.25474777e-01],\n",
       "         [4.86082378e-01],\n",
       "         [4.86082378e-01],\n",
       "         [4.08833084e-02],\n",
       "         [4.08833084e-02],\n",
       "         [5.06498700e-01],\n",
       "         [5.06498700e-01],\n",
       "         [6.40228225e-01],\n",
       "         [6.40228225e-01],\n",
       "         [4.99558104e-01],\n",
       "         [4.99558104e-01],\n",
       "         [8.26935062e-01],\n",
       "         [8.26935062e-01],\n",
       "         [6.10641538e-01],\n",
       "         [6.10641538e-01],\n",
       "         [1.79746327e-01],\n",
       "         [1.79746327e-01],\n",
       "         [8.99656208e-01],\n",
       "         [8.99656208e-01],\n",
       "         [1.83830894e-01],\n",
       "         [1.83830894e-01],\n",
       "         [9.07625191e-01],\n",
       "         [9.07625191e-01],\n",
       "         [3.89193407e-01],\n",
       "         [3.89193407e-01],\n",
       "         [7.60781915e-01],\n",
       "         [7.60781915e-01],\n",
       "         [1.79683503e-01],\n",
       "         [1.79683503e-01],\n",
       "         [1.08526511e-01],\n",
       "         [1.08526511e-01],\n",
       "         [6.78204373e-01],\n",
       "         [6.78204373e-01],\n",
       "         [8.98978548e-01],\n",
       "         [8.98978548e-01],\n",
       "         [2.77627074e-01],\n",
       "         [2.77627074e-01],\n",
       "         [4.93825726e-01],\n",
       "         [4.93825726e-01],\n",
       "         [2.09367192e-02],\n",
       "         [2.09367192e-02],\n",
       "         [6.03243656e-01],\n",
       "         [6.03243656e-01],\n",
       "         [3.74366436e-01],\n",
       "         [3.74366436e-01],\n",
       "         [2.38139378e-01],\n",
       "         [2.38139378e-01],\n",
       "         [9.39988319e-01],\n",
       "         [9.39988319e-01],\n",
       "         [9.49370047e-01],\n",
       "         [9.49370047e-01],\n",
       "         [3.21044630e-01],\n",
       "         [3.21044630e-01],\n",
       "         [2.78859349e-01],\n",
       "         [2.78859349e-01],\n",
       "         [8.83493890e-01],\n",
       "         [8.83493890e-01],\n",
       "         [8.26536986e-01],\n",
       "         [8.26536986e-01],\n",
       "         [7.56774434e-01],\n",
       "         [7.56774434e-01],\n",
       "         [4.18381160e-01],\n",
       "         [4.18381160e-01],\n",
       "         [8.30693637e-01],\n",
       "         [8.30693637e-01],\n",
       "         [1.48773620e-01],\n",
       "         [1.48773620e-01],\n",
       "         [5.33078391e-01],\n",
       "         [5.33078391e-01],\n",
       "         [2.33507052e-01],\n",
       "         [2.33507052e-01],\n",
       "         [3.97098931e-01],\n",
       "         [3.97098931e-01],\n",
       "         [4.77262004e-01],\n",
       "         [4.77262004e-01],\n",
       "         [1.88084048e-01],\n",
       "         [1.88084048e-01],\n",
       "         [6.78467292e-01],\n",
       "         [6.78467292e-01],\n",
       "         [3.12239114e-01],\n",
       "         [3.12239114e-01],\n",
       "         [2.86794068e-01],\n",
       "         [2.86794068e-01],\n",
       "         [5.22272994e-02],\n",
       "         [5.22272994e-02],\n",
       "         [3.84999454e-01],\n",
       "         [3.84999454e-01],\n",
       "         [2.24351937e-02],\n",
       "         [2.24351937e-02],\n",
       "         [7.35115358e-01],\n",
       "         [7.35115358e-01],\n",
       "         [3.61442550e-01],\n",
       "         [3.61442550e-01],\n",
       "         [9.71624699e-02],\n",
       "         [9.71624699e-02],\n",
       "         [6.13477326e-01],\n",
       "         [6.13477326e-01],\n",
       "         [6.94672779e-01],\n",
       "         [6.94672779e-01],\n",
       "         [7.19824945e-02],\n",
       "         [7.19824945e-02],\n",
       "         [9.42384564e-01],\n",
       "         [9.42384564e-01],\n",
       "         [5.63061847e-01],\n",
       "         [5.63061847e-01],\n",
       "         [8.08597216e-01],\n",
       "         [8.08597216e-01],\n",
       "         [9.76752312e-02],\n",
       "         [9.76752312e-02],\n",
       "         [7.14053636e-01],\n",
       "         [7.14053636e-01],\n",
       "         [1.74743808e-02],\n",
       "         [1.74743808e-02],\n",
       "         [2.66047767e-01],\n",
       "         [2.66047767e-01],\n",
       "         [1.97268023e-01],\n",
       "         [1.97268023e-01],\n",
       "         [4.35170709e-01],\n",
       "         [4.35170709e-01],\n",
       "         [8.71735726e-01],\n",
       "         [8.71735726e-01],\n",
       "         [3.44701244e-01],\n",
       "         [3.44701244e-01],\n",
       "         [9.00511607e-01],\n",
       "         [9.00511607e-01],\n",
       "         [2.08424761e-01],\n",
       "         [2.08424761e-01],\n",
       "         [2.22673996e-01],\n",
       "         [2.22673996e-01],\n",
       "         [6.79854712e-01],\n",
       "         [6.79854712e-01],\n",
       "         [3.76574741e-01],\n",
       "         [3.76574741e-01],\n",
       "         [2.70106952e-01],\n",
       "         [2.70106952e-01],\n",
       "         [3.49647946e-01],\n",
       "         [3.49647946e-01],\n",
       "         [8.94773169e-01],\n",
       "         [8.94773169e-01],\n",
       "         [7.33008202e-04],\n",
       "         [7.33008202e-04],\n",
       "         [2.08674823e-01],\n",
       "         [2.08674823e-01],\n",
       "         [1.70857141e-01],\n",
       "         [1.70857141e-01],\n",
       "         [4.90778024e-01],\n",
       "         [4.90778024e-01],\n",
       "         [8.42239875e-01],\n",
       "         [8.42239875e-01]])}}"
      ]
     },
     "execution_count": 12,
     "metadata": {},
     "output_type": "execute_result"
    }
   ],
   "source": [
    "ds = load_by_id(run_id_a)\n",
    "ds.get_parameter_data('x1')"
   ]
  },
  {
   "cell_type": "code",
   "execution_count": null,
   "metadata": {},
   "outputs": [],
   "source": []
  }
 ],
 "metadata": {
  "kernelspec": {
   "display_name": "Python 3",
   "language": "python",
   "name": "python3"
  },
  "language_info": {
   "codemirror_mode": {
    "name": "ipython",
    "version": 3
   },
   "file_extension": ".py",
   "mimetype": "text/x-python",
   "name": "python",
   "nbconvert_exporter": "python",
   "pygments_lexer": "ipython3",
   "version": "3.7.5"
  },
  "nbsphinx": {
   "timeout": 600
  },
  "toc": {
   "base_numbering": 1,
   "nav_menu": {},
   "number_sections": true,
   "sideBar": true,
   "skip_h1_title": false,
   "title_cell": "Table of Contents",
   "title_sidebar": "Contents",
   "toc_cell": false,
   "toc_position": {},
   "toc_section_display": true,
   "toc_window_display": false
  },
  "varInspector": {
   "cols": {
    "lenName": 16,
    "lenType": 16,
    "lenVar": 40
   },
   "kernels_config": {
    "python": {
     "delete_cmd_postfix": "",
     "delete_cmd_prefix": "del ",
     "library": "var_list.py",
     "varRefreshCmd": "print(var_dic_list())"
    },
    "r": {
     "delete_cmd_postfix": ") ",
     "delete_cmd_prefix": "rm(",
     "library": "var_list.r",
     "varRefreshCmd": "cat(var_dic_list()) "
    }
   },
   "types_to_exclude": [
    "module",
    "function",
    "builtin_function_or_method",
    "instance",
    "_Feature"
   ],
   "window_display": false
  }
 },
 "nbformat": 4,
 "nbformat_minor": 2
}
