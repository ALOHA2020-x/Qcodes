{
 "cells": [
  {
   "cell_type": "markdown",
   "metadata": {},
   "source": [
    "# DataSet Performance\n",
    "\n",
    "This notebook shows the trade-off between inserting data into a database row-by-row and as binary blobs. Inserting the data row-by-row means that we have direct access to all the data and may perform queries directly on the values of the data. On the other hand, as we shall see, this is much slower than inserting the data directly as binary blobs."
   ]
  },
  {
   "cell_type": "markdown",
   "metadata": {},
   "source": [
    "First, we choose a new location for the database to ensure that we don't add a bunch of benchmarking data to the default one."
   ]
  },
  {
   "cell_type": "code",
   "execution_count": 1,
   "metadata": {
    "execution": {
     "iopub.execute_input": "2021-05-25T10:16:07.033006Z",
     "iopub.status.busy": "2021-05-25T10:16:07.032279Z",
     "iopub.status.idle": "2021-05-25T10:16:08.391265Z",
     "shell.execute_reply": "2021-05-25T10:16:08.390298Z"
    }
   },
   "outputs": [
    {
     "name": "stdout",
     "output_type": "stream",
     "text": [
      "Logging hadn't been started.\n",
      "Activating auto-logging. Current session state plus future input saved.\n",
      "Filename       : /home/runner/.qcodes/logs/command_history.log\n",
      "Mode           : append\n",
      "Output logging : True\n",
      "Raw input log  : False\n",
      "Timestamping   : True\n",
      "State          : active\n"
     ]
    },
    {
     "name": "stdout",
     "output_type": "stream",
     "text": [
      "Qcodes Logfile : /home/runner/.qcodes/logs/210525-4627-qcodes.log\n"
     ]
    }
   ],
   "source": [
    "import os\n",
    "cwd = os.getcwd()\n",
    "import qcodes as qc\n",
    "qc.config[\"core\"][\"db_location\"] = os.path.join(cwd, 'testing.db')\n"
   ]
  },
  {
   "cell_type": "code",
   "execution_count": 2,
   "metadata": {
    "execution": {
     "iopub.execute_input": "2021-05-25T10:16:08.399110Z",
     "iopub.status.busy": "2021-05-25T10:16:08.397834Z",
     "iopub.status.idle": "2021-05-25T10:16:08.631834Z",
     "shell.execute_reply": "2021-05-25T10:16:08.632392Z"
    }
   },
   "outputs": [],
   "source": [
    "%matplotlib inline\n",
    "import time\n",
    "import matplotlib.pyplot as plt\n",
    "import numpy as np\n",
    "\n",
    "import qcodes as qc\n",
    "from qcodes.instrument.parameter import ManualParameter\n",
    "from qcodes.dataset.experiment_container import (Experiment,\n",
    "                                                 load_last_experiment,\n",
    "                                                 new_experiment)\n",
    "from qcodes.dataset.sqlite.database import initialise_database\n",
    "from qcodes import load_or_create_experiment\n",
    "from qcodes.dataset.measurements import Measurement"
   ]
  },
  {
   "cell_type": "code",
   "execution_count": 3,
   "metadata": {
    "execution": {
     "iopub.execute_input": "2021-05-25T10:16:08.637337Z",
     "iopub.status.busy": "2021-05-25T10:16:08.636416Z",
     "iopub.status.idle": "2021-05-25T10:16:08.714253Z",
     "shell.execute_reply": "2021-05-25T10:16:08.713647Z"
    }
   },
   "outputs": [
    {
     "name": "stdout",
     "output_type": "stream",
     "text": [
      "\r",
      "0it [00:00, ?it/s]"
     ]
    },
    {
     "name": "stdout",
     "output_type": "stream",
     "text": [
      "\r",
      "Upgrading database; v0 -> v1: : 0it [00:00, ?it/s]"
     ]
    },
    {
     "name": "stdout",
     "output_type": "stream",
     "text": [
      "\r",
      "Upgrading database; v0 -> v1: : 0it [00:00, ?it/s]"
     ]
    },
    {
     "name": "stdout",
     "output_type": "stream",
     "text": [
      "\n",
      "\r",
      "  0%|          | 0/1 [00:00<?, ?it/s]"
     ]
    },
    {
     "name": "stdout",
     "output_type": "stream",
     "text": [
      "\r",
      "Upgrading database; v1 -> v2:   0%|          | 0/1 [00:00<?, ?it/s]"
     ]
    },
    {
     "name": "stdout",
     "output_type": "stream",
     "text": [
      "\r",
      "Upgrading database; v1 -> v2: 100%|██████████| 1/1 [00:00<00:00, 502.55it/s]"
     ]
    },
    {
     "name": "stdout",
     "output_type": "stream",
     "text": [
      "\n",
      "\r",
      "0it [00:00, ?it/s]"
     ]
    },
    {
     "name": "stdout",
     "output_type": "stream",
     "text": [
      "\r",
      "Upgrading database; v2 -> v3: : 0it [00:00, ?it/s]"
     ]
    },
    {
     "name": "stdout",
     "output_type": "stream",
     "text": [
      "\r",
      "Upgrading database; v2 -> v3: : 0it [00:00, ?it/s]"
     ]
    },
    {
     "name": "stdout",
     "output_type": "stream",
     "text": [
      "\n",
      "\r",
      "0it [00:00, ?it/s]"
     ]
    },
    {
     "name": "stdout",
     "output_type": "stream",
     "text": [
      "\r",
      "Upgrading database; v3 -> v4: : 0it [00:00, ?it/s]"
     ]
    },
    {
     "name": "stdout",
     "output_type": "stream",
     "text": [
      "\r",
      "Upgrading database; v3 -> v4: : 0it [00:00, ?it/s]"
     ]
    },
    {
     "name": "stdout",
     "output_type": "stream",
     "text": [
      "\n",
      "\r",
      "  0%|          | 0/1 [00:00<?, ?it/s]"
     ]
    },
    {
     "name": "stdout",
     "output_type": "stream",
     "text": [
      "\r",
      "Upgrading database; v4 -> v5:   0%|          | 0/1 [00:00<?, ?it/s]"
     ]
    },
    {
     "name": "stdout",
     "output_type": "stream",
     "text": [
      "\r",
      "Upgrading database; v4 -> v5: 100%|██████████| 1/1 [00:00<00:00, 304.58it/s]"
     ]
    },
    {
     "name": "stdout",
     "output_type": "stream",
     "text": [
      "\n",
      "\r",
      "0it [00:00, ?it/s]"
     ]
    },
    {
     "name": "stdout",
     "output_type": "stream",
     "text": [
      "\r",
      "Upgrading database; v5 -> v6: : 0it [00:00, ?it/s]"
     ]
    },
    {
     "name": "stdout",
     "output_type": "stream",
     "text": [
      "\r",
      "Upgrading database; v5 -> v6: : 0it [00:00, ?it/s]"
     ]
    },
    {
     "name": "stdout",
     "output_type": "stream",
     "text": [
      "\n",
      "\r",
      "  0%|          | 0/1 [00:00<?, ?it/s]"
     ]
    },
    {
     "name": "stdout",
     "output_type": "stream",
     "text": [
      "\r",
      "Upgrading database; v6 -> v7:   0%|          | 0/1 [00:00<?, ?it/s]"
     ]
    },
    {
     "name": "stdout",
     "output_type": "stream",
     "text": [
      "\r",
      "Upgrading database; v6 -> v7: 100%|██████████| 1/1 [00:00<00:00, 417.59it/s]"
     ]
    },
    {
     "name": "stdout",
     "output_type": "stream",
     "text": [
      "\n",
      "\r",
      "  0%|          | 0/1 [00:00<?, ?it/s]"
     ]
    },
    {
     "name": "stdout",
     "output_type": "stream",
     "text": [
      "\r",
      "Upgrading database; v7 -> v8:   0%|          | 0/1 [00:00<?, ?it/s]"
     ]
    },
    {
     "name": "stdout",
     "output_type": "stream",
     "text": [
      "\r",
      "Upgrading database; v7 -> v8: 100%|██████████| 1/1 [00:00<00:00, 912.40it/s]"
     ]
    },
    {
     "name": "stdout",
     "output_type": "stream",
     "text": [
      "\n",
      "\r",
      "  0%|          | 0/1 [00:00<?, ?it/s]"
     ]
    },
    {
     "name": "stdout",
     "output_type": "stream",
     "text": [
      "\r",
      "Upgrading database; v8 -> v9:   0%|          | 0/1 [00:00<?, ?it/s]"
     ]
    },
    {
     "name": "stdout",
     "output_type": "stream",
     "text": [
      "\r",
      "Upgrading database; v8 -> v9: 100%|██████████| 1/1 [00:00<00:00, 634.25it/s]"
     ]
    },
    {
     "name": "stdout",
     "output_type": "stream",
     "text": [
      "\n"
     ]
    }
   ],
   "source": [
    "initialise_database()\n",
    "exp = load_or_create_experiment(experiment_name='tutorial_exp', sample_name=\"no sample\")"
   ]
  },
  {
   "cell_type": "markdown",
   "metadata": {},
   "source": [
    "Here, we define a simple function to benchmark the time it takes to insert n points with either numeric or array data type.\n",
    "We will compare both the time used to call ``add_result`` and the time used for the full measurement."
   ]
  },
  {
   "cell_type": "code",
   "execution_count": 4,
   "metadata": {
    "execution": {
     "iopub.execute_input": "2021-05-25T10:16:08.725482Z",
     "iopub.status.busy": "2021-05-25T10:16:08.723754Z",
     "iopub.status.idle": "2021-05-25T10:16:08.726279Z",
     "shell.execute_reply": "2021-05-25T10:16:08.726880Z"
    }
   },
   "outputs": [],
   "source": [
    "def insert_data(paramtype, npoints, nreps=1):\n",
    "\n",
    "    meas = Measurement(exp=exp)\n",
    "\n",
    "    x1 = ManualParameter('x1')\n",
    "    x2 = ManualParameter('x2')\n",
    "    x3 = ManualParameter('x3')\n",
    "    y1 = ManualParameter('y1')\n",
    "    y2 = ManualParameter('y2')\n",
    "\n",
    "    meas.register_parameter(x1, paramtype=paramtype)\n",
    "    meas.register_parameter(x2, paramtype=paramtype)\n",
    "    meas.register_parameter(x3, paramtype=paramtype)\n",
    "    meas.register_parameter(y1, setpoints=[x1, x2, x3],\n",
    "                            paramtype=paramtype)\n",
    "    meas.register_parameter(y2, setpoints=[x1, x2, x3],\n",
    "                            paramtype=paramtype)\n",
    "    start = time.perf_counter()\n",
    "    with meas.run() as datasaver:\n",
    "        start_adding = time.perf_counter()\n",
    "        for i in range(nreps):\n",
    "            datasaver.add_result((x1, np.random.rand(npoints)),\n",
    "                                 (x2, np.random.rand(npoints)),\n",
    "                                 (x3, np.random.rand(npoints)),\n",
    "                                 (y1, np.random.rand(npoints)),\n",
    "                                 (y2, np.random.rand(npoints)))\n",
    "        stop_adding = time.perf_counter()\n",
    "        run_id = datasaver.run_id\n",
    "    stop = time.perf_counter()\n",
    "    tot_time = stop - start\n",
    "    add_time = stop_adding - start_adding\n",
    "    return tot_time, add_time, run_id"
   ]
  },
  {
   "cell_type": "markdown",
   "metadata": {},
   "source": [
    "## Comparison between numeric/array data and binary blob"
   ]
  },
  {
   "cell_type": "markdown",
   "metadata": {},
   "source": [
    "### Case1: Short experiment time"
   ]
  },
  {
   "cell_type": "code",
   "execution_count": 5,
   "metadata": {
    "execution": {
     "iopub.execute_input": "2021-05-25T10:16:08.734854Z",
     "iopub.status.busy": "2021-05-25T10:16:08.734025Z",
     "iopub.status.idle": "2021-05-25T10:16:09.721874Z",
     "shell.execute_reply": "2021-05-25T10:16:09.722410Z"
    }
   },
   "outputs": [
    {
     "name": "stdout",
     "output_type": "stream",
     "text": [
      "Starting experimental run with id: 1. \n",
      "Starting experimental run with id: 2. \n",
      "Starting experimental run with id: 3. \n"
     ]
    },
    {
     "name": "stdout",
     "output_type": "stream",
     "text": [
      "Starting experimental run with id: 4. \n"
     ]
    },
    {
     "name": "stdout",
     "output_type": "stream",
     "text": [
      "Starting experimental run with id: 5. \n"
     ]
    },
    {
     "name": "stdout",
     "output_type": "stream",
     "text": [
      "Starting experimental run with id: 6. \n",
      "Starting experimental run with id: 7. \n"
     ]
    },
    {
     "name": "stdout",
     "output_type": "stream",
     "text": [
      "Starting experimental run with id: 8. \n"
     ]
    },
    {
     "name": "stdout",
     "output_type": "stream",
     "text": [
      "Starting experimental run with id: 9. \n"
     ]
    },
    {
     "name": "stdout",
     "output_type": "stream",
     "text": [
      "Starting experimental run with id: 10. \n",
      "Starting experimental run with id: 11. \n"
     ]
    },
    {
     "name": "stdout",
     "output_type": "stream",
     "text": [
      "Starting experimental run with id: 12. \n"
     ]
    },
    {
     "name": "stdout",
     "output_type": "stream",
     "text": [
      "Starting experimental run with id: 13. \n"
     ]
    },
    {
     "name": "stdout",
     "output_type": "stream",
     "text": [
      "Starting experimental run with id: 14. \n"
     ]
    }
   ],
   "source": [
    "sizes = [1,500,1000,2000,3000,4000,5000]\n",
    "t_numeric = []\n",
    "t_numeric_add = []\n",
    "t_array = []\n",
    "t_array_add = []\n",
    "for size in sizes:\n",
    "    tn, tna, run_id_n =  insert_data('numeric', size)\n",
    "    t_numeric.append(tn)\n",
    "    t_numeric_add.append(tna)\n",
    "\n",
    "    ta, taa, run_id_a =  insert_data('array', size)\n",
    "    t_array.append(ta)\n",
    "    t_array_add.append(taa)"
   ]
  },
  {
   "cell_type": "code",
   "execution_count": 6,
   "metadata": {
    "execution": {
     "iopub.execute_input": "2021-05-25T10:16:09.744459Z",
     "iopub.status.busy": "2021-05-25T10:16:09.727703Z",
     "iopub.status.idle": "2021-05-25T10:16:10.001346Z",
     "shell.execute_reply": "2021-05-25T10:16:10.001885Z"
    }
   },
   "outputs": [
    {
     "data": {
      "image/png": "[encoded data removed]",
      "text/plain": [
       "<Figure size 432x288 with 1 Axes>"
      ]
     },
     "metadata": {
      "needs_background": "light"
     },
     "output_type": "display_data"
    }
   ],
   "source": [
    "fig, ax = plt.subplots(1,1)\n",
    "ax.plot(sizes, t_numeric, 'o-', label='Inserting row-by-row')\n",
    "ax.plot(sizes, t_numeric_add, 'o-', label='Inserting row-by-row: add_result only')\n",
    "ax.plot(sizes, t_array, 'd-', label='Inserting as binary blob')\n",
    "ax.plot(sizes, t_array_add, 'd-', label='Inserting as binary blob: add_result only')\n",
    "ax.legend()\n",
    "ax.set_xlabel('Array length')\n",
    "ax.set_ylabel('Time (s)')\n",
    "fig.tight_layout()"
   ]
  },
  {
   "cell_type": "markdown",
   "metadata": {},
   "source": [
    "As shown in the latter figure, the time to setup and and close the experiment is approximately 0.4 sec. In case of small array sizes, the difference between inserting values of data as arrays and inserting them row-by-row is relatively unimportant. At larger array sizes, i.e. above 10000 points, the cost of writing data as individual datapoints starts to become important.\n"
   ]
  },
  {
   "cell_type": "markdown",
   "metadata": {},
   "source": [
    "### Case2: Long experiment time "
   ]
  },
  {
   "cell_type": "code",
   "execution_count": 7,
   "metadata": {
    "execution": {
     "iopub.execute_input": "2021-05-25T10:16:10.011198Z",
     "iopub.status.busy": "2021-05-25T10:16:10.010481Z",
     "iopub.status.idle": "2021-05-25T10:17:14.641957Z",
     "shell.execute_reply": "2021-05-25T10:17:14.640959Z"
    }
   },
   "outputs": [
    {
     "name": "stdout",
     "output_type": "stream",
     "text": [
      "Starting experimental run with id: 15. \n",
      "Starting experimental run with id: 16. \n"
     ]
    },
    {
     "name": "stdout",
     "output_type": "stream",
     "text": [
      "Starting experimental run with id: 17. \n"
     ]
    },
    {
     "name": "stdout",
     "output_type": "stream",
     "text": [
      "Starting experimental run with id: 18. \n"
     ]
    },
    {
     "name": "stdout",
     "output_type": "stream",
     "text": [
      "Starting experimental run with id: 19. \n"
     ]
    },
    {
     "name": "stdout",
     "output_type": "stream",
     "text": [
      "Starting experimental run with id: 20. \n"
     ]
    },
    {
     "name": "stdout",
     "output_type": "stream",
     "text": [
      "Starting experimental run with id: 21. \n"
     ]
    },
    {
     "name": "stdout",
     "output_type": "stream",
     "text": [
      "Starting experimental run with id: 22. \n"
     ]
    },
    {
     "name": "stdout",
     "output_type": "stream",
     "text": [
      "Starting experimental run with id: 23. \n"
     ]
    },
    {
     "name": "stdout",
     "output_type": "stream",
     "text": [
      "Starting experimental run with id: 24. \n"
     ]
    },
    {
     "name": "stdout",
     "output_type": "stream",
     "text": [
      "Starting experimental run with id: 25. \n"
     ]
    },
    {
     "name": "stdout",
     "output_type": "stream",
     "text": [
      "Starting experimental run with id: 26. \n"
     ]
    },
    {
     "name": "stdout",
     "output_type": "stream",
     "text": [
      "Starting experimental run with id: 27. \n"
     ]
    },
    {
     "name": "stdout",
     "output_type": "stream",
     "text": [
      "Starting experimental run with id: 28. \n"
     ]
    }
   ],
   "source": [
    "sizes = [1,500,1000,2000,3000,4000,5000]\n",
    "nreps = 100\n",
    "t_numeric = []\n",
    "t_numeric_add = []\n",
    "t_numeric_run_ids = []\n",
    "t_array = []\n",
    "t_array_add = []\n",
    "t_array_run_ids = []\n",
    "for size in sizes:\n",
    "    tn, tna, run_id_n =  insert_data('numeric', size, nreps=nreps)\n",
    "    t_numeric.append(tn)\n",
    "    t_numeric_add.append(tna)\n",
    "    t_numeric_run_ids.append(run_id_n)\n",
    "\n",
    "    ta, taa, run_id_a =  insert_data('array', size, nreps=nreps)\n",
    "    t_array.append(ta)\n",
    "    t_array_add.append(taa)\n",
    "    t_array_run_ids.append(run_id_a)"
   ]
  },
  {
   "cell_type": "code",
   "execution_count": 8,
   "metadata": {
    "execution": {
     "iopub.execute_input": "2021-05-25T10:17:14.678672Z",
     "iopub.status.busy": "2021-05-25T10:17:14.662748Z",
     "iopub.status.idle": "2021-05-25T10:17:14.929095Z",
     "shell.execute_reply": "2021-05-25T10:17:14.928541Z"
    },
    "scrolled": true
   },
   "outputs": [
    {
     "data": {
      "image/png": "[encoded data removed]",
      "text/plain": [
       "<Figure size 432x288 with 1 Axes>"
      ]
     },
     "metadata": {
      "needs_background": "light"
     },
     "output_type": "display_data"
    }
   ],
   "source": [
    "fig, ax = plt.subplots(1,1)\n",
    "ax.plot(sizes, t_numeric, 'o-', label='Inserting row-by-row')\n",
    "ax.plot(sizes, t_numeric_add, 'o-', label='Inserting row-by-row: add_result only')\n",
    "ax.plot(sizes, t_array, 'd-', label='Inserting as binary blob')\n",
    "ax.plot(sizes, t_array_add, 'd-', label='Inserting as binary blob: add_result only')\n",
    "ax.legend()\n",
    "ax.set_xlabel('Array length')\n",
    "ax.set_ylabel('Time (s)')\n",
    "fig.tight_layout()"
   ]
  },
  {
   "cell_type": "markdown",
   "metadata": {},
   "source": [
    "However, as we increase the length of the experiment, as seen here by repeating the insertion 100 times, we see a big difference between inserting values of the data row-by-row and inserting it as a binary blob."
   ]
  },
  {
   "cell_type": "markdown",
   "metadata": {},
   "source": [
    "## Loading the data "
   ]
  },
  {
   "cell_type": "code",
   "execution_count": 9,
   "metadata": {
    "execution": {
     "iopub.execute_input": "2021-05-25T10:17:14.934007Z",
     "iopub.status.busy": "2021-05-25T10:17:14.933360Z",
     "iopub.status.idle": "2021-05-25T10:17:14.937653Z",
     "shell.execute_reply": "2021-05-25T10:17:14.937085Z"
    }
   },
   "outputs": [],
   "source": [
    "from qcodes.dataset.data_set import load_by_id"
   ]
  },
  {
   "cell_type": "markdown",
   "metadata": {},
   "source": [
    "As usual you can load the data by using the ``load_by_id`` function but you will notice that the different storage methods\n",
    "are reflected in shape of the data as it is retrieved. "
   ]
  },
  {
   "cell_type": "code",
   "execution_count": 10,
   "metadata": {
    "execution": {
     "iopub.execute_input": "2021-05-25T10:17:14.942771Z",
     "iopub.status.busy": "2021-05-25T10:17:14.941351Z",
     "iopub.status.idle": "2021-05-25T10:17:14.943517Z",
     "shell.execute_reply": "2021-05-25T10:17:14.944031Z"
    }
   },
   "outputs": [],
   "source": [
    "run_id_n = t_numeric_run_ids[0]\n",
    "run_id_a = t_array_run_ids[0]"
   ]
  },
  {
   "cell_type": "code",
   "execution_count": 11,
   "metadata": {
    "execution": {
     "iopub.execute_input": "2021-05-25T10:17:14.948010Z",
     "iopub.status.busy": "2021-05-25T10:17:14.947369Z",
     "iopub.status.idle": "2021-05-25T10:17:14.958438Z",
     "shell.execute_reply": "2021-05-25T10:17:14.958981Z"
    },
    "scrolled": true
   },
   "outputs": [
    {
     "data": {
      "text/plain": [
       "{'x1': {'x1': array([0.29217708, 0.29217708, 0.71914479, 0.71914479, 0.63146964,\n",
       "         0.63146964, 0.60245061, 0.60245061, 0.16783135, 0.16783135,\n",
       "         0.78798569, 0.78798569, 0.71245006, 0.71245006, 0.45425075,\n",
       "         0.45425075, 0.85034968, 0.85034968, 0.97094003, 0.97094003,\n",
       "         0.06975844, 0.06975844, 0.21920674, 0.21920674, 0.92192511,\n",
       "         0.92192511, 0.75536186, 0.75536186, 0.13543225, 0.13543225,\n",
       "         0.58101976, 0.58101976, 0.88728907, 0.88728907, 0.17794833,\n",
       "         0.17794833, 0.19073719, 0.19073719, 0.9498045 , 0.9498045 ,\n",
       "         0.17979148, 0.17979148, 0.30699157, 0.30699157, 0.81412246,\n",
       "         0.81412246, 0.47504247, 0.47504247, 0.96174741, 0.96174741,\n",
       "         0.38622949, 0.38622949, 0.93733894, 0.93733894, 0.24847411,\n",
       "         0.24847411, 0.82827931, 0.82827931, 0.92923043, 0.92923043,\n",
       "         0.59766591, 0.59766591, 0.69565344, 0.69565344, 0.85447881,\n",
       "         0.85447881, 0.62909886, 0.62909886, 0.76376065, 0.76376065,\n",
       "         0.60983286, 0.60983286, 0.17881989, 0.17881989, 0.68512272,\n",
       "         0.68512272, 0.87727555, 0.87727555, 0.7657259 , 0.7657259 ,\n",
       "         0.56538201, 0.56538201, 0.31634594, 0.31634594, 0.54657161,\n",
       "         0.54657161, 0.78080291, 0.78080291, 0.32460071, 0.32460071,\n",
       "         0.45733681, 0.45733681, 0.05740563, 0.05740563, 0.53700404,\n",
       "         0.53700404, 0.99320689, 0.99320689, 0.43406887, 0.43406887,\n",
       "         0.25584612, 0.25584612, 0.38295865, 0.38295865, 0.65036231,\n",
       "         0.65036231, 0.07673911, 0.07673911, 0.81881523, 0.81881523,\n",
       "         0.96776189, 0.96776189, 0.59545218, 0.59545218, 0.04818737,\n",
       "         0.04818737, 0.41594829, 0.41594829, 0.6416423 , 0.6416423 ,\n",
       "         0.21033774, 0.21033774, 0.35368384, 0.35368384, 0.45008921,\n",
       "         0.45008921, 0.33130196, 0.33130196, 0.64470775, 0.64470775,\n",
       "         0.35097036, 0.35097036, 0.36504041, 0.36504041, 0.81932658,\n",
       "         0.81932658, 0.22435359, 0.22435359, 0.7292759 , 0.7292759 ,\n",
       "         0.47828759, 0.47828759, 0.8260176 , 0.8260176 , 0.65241882,\n",
       "         0.65241882, 0.53146324, 0.53146324, 0.14531894, 0.14531894,\n",
       "         0.90140453, 0.90140453, 0.46475464, 0.46475464, 0.7463566 ,\n",
       "         0.7463566 , 0.24177733, 0.24177733, 0.49044807, 0.49044807,\n",
       "         0.21928057, 0.21928057, 0.61792153, 0.61792153, 0.81975329,\n",
       "         0.81975329, 0.37825498, 0.37825498, 0.62533704, 0.62533704,\n",
       "         0.58623578, 0.58623578, 0.95492371, 0.95492371, 0.32275625,\n",
       "         0.32275625, 0.31481221, 0.31481221, 0.29481757, 0.29481757,\n",
       "         0.13689268, 0.13689268, 0.41725007, 0.41725007, 0.32094291,\n",
       "         0.32094291, 0.2606494 , 0.2606494 , 0.03853344, 0.03853344,\n",
       "         0.35291421, 0.35291421, 0.76891901, 0.76891901, 0.11274119,\n",
       "         0.11274119, 0.20091848, 0.20091848, 0.36237206, 0.36237206])}}"
      ]
     },
     "execution_count": 1,
     "metadata": {},
     "output_type": "execute_result"
    }
   ],
   "source": [
    "ds = load_by_id(run_id_n)\n",
    "ds.get_parameter_data('x1')"
   ]
  },
  {
   "cell_type": "markdown",
   "metadata": {},
   "source": [
    "And a dataset stored as binary arrays"
   ]
  },
  {
   "cell_type": "code",
   "execution_count": 12,
   "metadata": {
    "execution": {
     "iopub.execute_input": "2021-05-25T10:17:14.963034Z",
     "iopub.status.busy": "2021-05-25T10:17:14.962330Z",
     "iopub.status.idle": "2021-05-25T10:17:15.031932Z",
     "shell.execute_reply": "2021-05-25T10:17:15.032514Z"
    },
    "scrolled": true
   },
   "outputs": [
    {
     "data": {
      "text/plain": [
       "{'x1': {'x1': array([[0.90034211],\n",
       "         [0.90034211],\n",
       "         [0.26917722],\n",
       "         [0.26917722],\n",
       "         [0.05123216],\n",
       "         [0.05123216],\n",
       "         [0.66814854],\n",
       "         [0.66814854],\n",
       "         [0.10166022],\n",
       "         [0.10166022],\n",
       "         [0.0549905 ],\n",
       "         [0.0549905 ],\n",
       "         [0.22904935],\n",
       "         [0.22904935],\n",
       "         [0.11035362],\n",
       "         [0.11035362],\n",
       "         [0.80986757],\n",
       "         [0.80986757],\n",
       "         [0.64579635],\n",
       "         [0.64579635],\n",
       "         [0.17792979],\n",
       "         [0.17792979],\n",
       "         [0.45363681],\n",
       "         [0.45363681],\n",
       "         [0.7459934 ],\n",
       "         [0.7459934 ],\n",
       "         [0.97840656],\n",
       "         [0.97840656],\n",
       "         [0.31241449],\n",
       "         [0.31241449],\n",
       "         [0.6246706 ],\n",
       "         [0.6246706 ],\n",
       "         [0.60178526],\n",
       "         [0.60178526],\n",
       "         [0.9135951 ],\n",
       "         [0.9135951 ],\n",
       "         [0.85619432],\n",
       "         [0.85619432],\n",
       "         [0.73810639],\n",
       "         [0.73810639],\n",
       "         [0.15819444],\n",
       "         [0.15819444],\n",
       "         [0.30319303],\n",
       "         [0.30319303],\n",
       "         [0.87248619],\n",
       "         [0.87248619],\n",
       "         [0.45990772],\n",
       "         [0.45990772],\n",
       "         [0.21622628],\n",
       "         [0.21622628],\n",
       "         [0.58938609],\n",
       "         [0.58938609],\n",
       "         [0.08092592],\n",
       "         [0.08092592],\n",
       "         [0.86819255],\n",
       "         [0.86819255],\n",
       "         [0.4545916 ],\n",
       "         [0.4545916 ],\n",
       "         [0.13711806],\n",
       "         [0.13711806],\n",
       "         [0.29977101],\n",
       "         [0.29977101],\n",
       "         [0.31144618],\n",
       "         [0.31144618],\n",
       "         [0.74202793],\n",
       "         [0.74202793],\n",
       "         [0.12643541],\n",
       "         [0.12643541],\n",
       "         [0.05737886],\n",
       "         [0.05737886],\n",
       "         [0.37936074],\n",
       "         [0.37936074],\n",
       "         [0.26055182],\n",
       "         [0.26055182],\n",
       "         [0.39574981],\n",
       "         [0.39574981],\n",
       "         [0.12788279],\n",
       "         [0.12788279],\n",
       "         [0.49902225],\n",
       "         [0.49902225],\n",
       "         [0.79965059],\n",
       "         [0.79965059],\n",
       "         [0.7179766 ],\n",
       "         [0.7179766 ],\n",
       "         [0.00392001],\n",
       "         [0.00392001],\n",
       "         [0.42400381],\n",
       "         [0.42400381],\n",
       "         [0.84561132],\n",
       "         [0.84561132],\n",
       "         [0.85955422],\n",
       "         [0.85955422],\n",
       "         [0.97724449],\n",
       "         [0.97724449],\n",
       "         [0.009365  ],\n",
       "         [0.009365  ],\n",
       "         [0.95747247],\n",
       "         [0.95747247],\n",
       "         [0.30032348],\n",
       "         [0.30032348],\n",
       "         [0.37464311],\n",
       "         [0.37464311],\n",
       "         [0.60070531],\n",
       "         [0.60070531],\n",
       "         [0.09341225],\n",
       "         [0.09341225],\n",
       "         [0.52711658],\n",
       "         [0.52711658],\n",
       "         [0.52312596],\n",
       "         [0.52312596],\n",
       "         [0.46128185],\n",
       "         [0.46128185],\n",
       "         [0.26891252],\n",
       "         [0.26891252],\n",
       "         [0.03535302],\n",
       "         [0.03535302],\n",
       "         [0.50656463],\n",
       "         [0.50656463],\n",
       "         [0.67025366],\n",
       "         [0.67025366],\n",
       "         [0.73557636],\n",
       "         [0.73557636],\n",
       "         [0.76447547],\n",
       "         [0.76447547],\n",
       "         [0.28114102],\n",
       "         [0.28114102],\n",
       "         [0.78822394],\n",
       "         [0.78822394],\n",
       "         [0.9813005 ],\n",
       "         [0.9813005 ],\n",
       "         [0.06772199],\n",
       "         [0.06772199],\n",
       "         [0.94952674],\n",
       "         [0.94952674],\n",
       "         [0.52850346],\n",
       "         [0.52850346],\n",
       "         [0.81834345],\n",
       "         [0.81834345],\n",
       "         [0.7965148 ],\n",
       "         [0.7965148 ],\n",
       "         [0.15483397],\n",
       "         [0.15483397],\n",
       "         [0.50289575],\n",
       "         [0.50289575],\n",
       "         [0.54307597],\n",
       "         [0.54307597],\n",
       "         [0.49136979],\n",
       "         [0.49136979],\n",
       "         [0.8750783 ],\n",
       "         [0.8750783 ],\n",
       "         [0.46194995],\n",
       "         [0.46194995],\n",
       "         [0.91186903],\n",
       "         [0.91186903],\n",
       "         [0.26978869],\n",
       "         [0.26978869],\n",
       "         [0.26198492],\n",
       "         [0.26198492],\n",
       "         [0.2281522 ],\n",
       "         [0.2281522 ],\n",
       "         [0.04273691],\n",
       "         [0.04273691],\n",
       "         [0.93687842],\n",
       "         [0.93687842],\n",
       "         [0.25283909],\n",
       "         [0.25283909],\n",
       "         [0.56628702],\n",
       "         [0.56628702],\n",
       "         [0.98464542],\n",
       "         [0.98464542],\n",
       "         [0.84486359],\n",
       "         [0.84486359],\n",
       "         [0.45165597],\n",
       "         [0.45165597],\n",
       "         [0.41106255],\n",
       "         [0.41106255],\n",
       "         [0.42424449],\n",
       "         [0.42424449],\n",
       "         [0.50582585],\n",
       "         [0.50582585],\n",
       "         [0.85773118],\n",
       "         [0.85773118],\n",
       "         [0.32052083],\n",
       "         [0.32052083],\n",
       "         [0.56738776],\n",
       "         [0.56738776],\n",
       "         [0.16864895],\n",
       "         [0.16864895],\n",
       "         [0.31587939],\n",
       "         [0.31587939],\n",
       "         [0.96568701],\n",
       "         [0.96568701],\n",
       "         [0.67416496],\n",
       "         [0.67416496],\n",
       "         [0.88307623],\n",
       "         [0.88307623],\n",
       "         [0.41645637],\n",
       "         [0.41645637],\n",
       "         [0.90760649],\n",
       "         [0.90760649]])}}"
      ]
     },
     "execution_count": 1,
     "metadata": {},
     "output_type": "execute_result"
    }
   ],
   "source": [
    "ds = load_by_id(run_id_a)\n",
    "ds.get_parameter_data('x1')"
   ]
  },
  {
   "cell_type": "code",
   "execution_count": null,
   "metadata": {},
   "outputs": [],
   "source": []
  }
 ],
 "metadata": {
  "kernelspec": {
   "display_name": "Python 3",
   "language": "python",
   "name": "python3"
  },
  "language_info": {
   "codemirror_mode": {
    "name": "ipython",
    "version": 3
   },
   "file_extension": ".py",
   "mimetype": "text/x-python",
   "name": "python",
   "nbconvert_exporter": "python",
   "pygments_lexer": "ipython3",
   "version": "3.7.10"
  },
  "nbsphinx": {
   "timeout": 600
  },
  "toc": {
   "base_numbering": 1,
   "nav_menu": {},
   "number_sections": true,
   "sideBar": true,
   "skip_h1_title": false,
   "title_cell": "Table of Contents",
   "title_sidebar": "Contents",
   "toc_cell": false,
   "toc_position": {},
   "toc_section_display": true,
   "toc_window_display": false
  },
  "varInspector": {
   "cols": {
    "lenName": 16,
    "lenType": 16,
    "lenVar": 40
   },
   "kernels_config": {
    "python": {
     "delete_cmd_postfix": "",
     "delete_cmd_prefix": "del ",
     "library": "var_list.py",
     "varRefreshCmd": "print(var_dic_list())"
    },
    "r": {
     "delete_cmd_postfix": ") ",
     "delete_cmd_prefix": "rm(",
     "library": "var_list.r",
     "varRefreshCmd": "cat(var_dic_list()) "
    }
   },
   "types_to_exclude": [
    "module",
    "function",
    "builtin_function_or_method",
    "instance",
    "_Feature"
   ],
   "window_display": false
  }
 },
 "nbformat": 4,
 "nbformat_minor": 4
}
