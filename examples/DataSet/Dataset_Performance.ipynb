{
 "cells": [
  {
   "cell_type": "markdown",
   "metadata": {},
   "source": [
    "# DataSet Performance\n",
    "\n",
    "This notebook shows the trade-off between inserting data into a database row-by-row and as binary blobs. Inserting the data row-by-row means that we have direct access to all the data and may perform queries directly on the values of the data. On the other hand, as we shall see, this is much slower than inserting the data directly as binary blobs."
   ]
  },
  {
   "cell_type": "markdown",
   "metadata": {},
   "source": [
    "First, we choose a new location for the database to ensure that we don't add a bunch of benchmarking data to the default one."
   ]
  },
  {
   "cell_type": "code",
   "execution_count": 1,
   "metadata": {
    "execution": {
     "iopub.execute_input": "2020-11-20T16:56:24.838354Z",
     "iopub.status.busy": "2020-11-20T16:56:24.837851Z",
     "iopub.status.idle": "2020-11-20T16:56:25.726002Z",
     "shell.execute_reply": "2020-11-20T16:56:25.725479Z"
    }
   },
   "outputs": [
    {
     "name": "stdout",
     "output_type": "stream",
     "text": [
      "Logging hadn't been started.\n",
      "Activating auto-logging. Current session state plus future input saved.\n",
      "Filename       : /home/vsts/.qcodes/logs/command_history.log\n",
      "Mode           : append\n",
      "Output logging : True\n",
      "Raw input log  : False\n",
      "Timestamping   : True\n",
      "State          : active\n"
     ]
    },
    {
     "name": "stdout",
     "output_type": "stream",
     "text": [
      "Qcodes Logfile : /home/vsts/.qcodes/logs/201120-14099-qcodes.log\n"
     ]
    }
   ],
   "source": [
    "import os\n",
    "cwd = os.getcwd()\n",
    "import qcodes as qc\n",
    "qc.config[\"core\"][\"db_location\"] = os.path.join(cwd, 'testing.db')\n"
   ]
  },
  {
   "cell_type": "code",
   "execution_count": 2,
   "metadata": {
    "execution": {
     "iopub.execute_input": "2020-11-20T16:56:25.731981Z",
     "iopub.status.busy": "2020-11-20T16:56:25.731184Z",
     "iopub.status.idle": "2020-11-20T16:56:25.893451Z",
     "shell.execute_reply": "2020-11-20T16:56:25.892609Z"
    }
   },
   "outputs": [],
   "source": [
    "%matplotlib inline\n",
    "import time\n",
    "import matplotlib.pyplot as plt\n",
    "import numpy as np\n",
    "\n",
    "import qcodes as qc\n",
    "from qcodes.instrument.parameter import ManualParameter\n",
    "from qcodes.dataset.experiment_container import (Experiment,\n",
    "                                                 load_last_experiment,\n",
    "                                                 new_experiment)\n",
    "from qcodes.dataset.sqlite.database import initialise_database\n",
    "from qcodes import load_or_create_experiment\n",
    "from qcodes.dataset.measurements import Measurement"
   ]
  },
  {
   "cell_type": "code",
   "execution_count": 3,
   "metadata": {
    "execution": {
     "iopub.execute_input": "2020-11-20T16:56:25.897190Z",
     "iopub.status.busy": "2020-11-20T16:56:25.896091Z",
     "iopub.status.idle": "2020-11-20T16:56:25.983889Z",
     "shell.execute_reply": "2020-11-20T16:56:25.984269Z"
    }
   },
   "outputs": [
    {
     "name": "stdout",
     "output_type": "stream",
     "text": [
      "\r",
      "0it [00:00, ?it/s]"
     ]
    },
    {
     "name": "stdout",
     "output_type": "stream",
     "text": [
      "\r",
      "Upgrading database; v0 -> v1: : 0it [00:00, ?it/s]"
     ]
    },
    {
     "name": "stdout",
     "output_type": "stream",
     "text": [
      "\r",
      "Upgrading database; v0 -> v1: : 0it [00:00, ?it/s]"
     ]
    },
    {
     "name": "stdout",
     "output_type": "stream",
     "text": [
      "\n",
      "\r",
      "  0%|          | 0/1 [00:00<?, ?it/s]"
     ]
    },
    {
     "name": "stdout",
     "output_type": "stream",
     "text": [
      "\r",
      "Upgrading database; v1 -> v2:   0%|          | 0/1 [00:00<?, ?it/s]"
     ]
    },
    {
     "name": "stdout",
     "output_type": "stream",
     "text": [
      "\r",
      "Upgrading database; v1 -> v2: 100%|██████████| 1/1 [00:00<00:00, 546.70it/s]"
     ]
    },
    {
     "name": "stdout",
     "output_type": "stream",
     "text": [
      "\n",
      "\r",
      "0it [00:00, ?it/s]"
     ]
    },
    {
     "name": "stdout",
     "output_type": "stream",
     "text": [
      "\r",
      "Upgrading database; v2 -> v3: : 0it [00:00, ?it/s]"
     ]
    },
    {
     "name": "stdout",
     "output_type": "stream",
     "text": [
      "\r",
      "Upgrading database; v2 -> v3: : 0it [00:00, ?it/s]"
     ]
    },
    {
     "name": "stdout",
     "output_type": "stream",
     "text": [
      "\n",
      "\r",
      "0it [00:00, ?it/s]"
     ]
    },
    {
     "name": "stdout",
     "output_type": "stream",
     "text": [
      "\r",
      "Upgrading database; v3 -> v4: : 0it [00:00, ?it/s]"
     ]
    },
    {
     "name": "stdout",
     "output_type": "stream",
     "text": [
      "\r",
      "Upgrading database; v3 -> v4: : 0it [00:00, ?it/s]"
     ]
    },
    {
     "name": "stdout",
     "output_type": "stream",
     "text": [
      "\n",
      "\r",
      "  0%|          | 0/1 [00:00<?, ?it/s]"
     ]
    },
    {
     "name": "stdout",
     "output_type": "stream",
     "text": [
      "\r",
      "Upgrading database; v4 -> v5:   0%|          | 0/1 [00:00<?, ?it/s]"
     ]
    },
    {
     "name": "stdout",
     "output_type": "stream",
     "text": [
      "\r",
      "Upgrading database; v4 -> v5: 100%|██████████| 1/1 [00:00<00:00, 1227.48it/s]"
     ]
    },
    {
     "name": "stdout",
     "output_type": "stream",
     "text": [
      "\n",
      "\r",
      "0it [00:00, ?it/s]"
     ]
    },
    {
     "name": "stdout",
     "output_type": "stream",
     "text": [
      "\r",
      "Upgrading database; v5 -> v6: : 0it [00:00, ?it/s]"
     ]
    },
    {
     "name": "stdout",
     "output_type": "stream",
     "text": [
      "\r",
      "Upgrading database; v5 -> v6: : 0it [00:00, ?it/s]"
     ]
    },
    {
     "name": "stdout",
     "output_type": "stream",
     "text": [
      "\n",
      "\r",
      "  0%|          | 0/1 [00:00<?, ?it/s]"
     ]
    },
    {
     "name": "stdout",
     "output_type": "stream",
     "text": [
      "\r",
      "Upgrading database; v6 -> v7:   0%|          | 0/1 [00:00<?, ?it/s]"
     ]
    },
    {
     "name": "stdout",
     "output_type": "stream",
     "text": [
      "\r",
      "Upgrading database; v6 -> v7: 100%|██████████| 1/1 [00:00<00:00, 626.48it/s]"
     ]
    },
    {
     "name": "stdout",
     "output_type": "stream",
     "text": [
      "\n",
      "\r",
      "  0%|          | 0/1 [00:00<?, ?it/s]"
     ]
    },
    {
     "name": "stdout",
     "output_type": "stream",
     "text": [
      "\r",
      "Upgrading database; v7 -> v8:   0%|          | 0/1 [00:00<?, ?it/s]"
     ]
    },
    {
     "name": "stdout",
     "output_type": "stream",
     "text": [
      "\r",
      "Upgrading database; v7 -> v8: 100%|██████████| 1/1 [00:00<00:00, 857.56it/s]"
     ]
    },
    {
     "name": "stdout",
     "output_type": "stream",
     "text": [
      "\n",
      "\r",
      "  0%|          | 0/1 [00:00<?, ?it/s]"
     ]
    },
    {
     "name": "stdout",
     "output_type": "stream",
     "text": [
      "\r",
      "Upgrading database; v8 -> v9:   0%|          | 0/1 [00:00<?, ?it/s]"
     ]
    },
    {
     "name": "stdout",
     "output_type": "stream",
     "text": [
      "\r",
      "Upgrading database; v8 -> v9: 100%|██████████| 1/1 [00:00<00:00, 1174.88it/s]"
     ]
    },
    {
     "name": "stdout",
     "output_type": "stream",
     "text": [
      "\n"
     ]
    }
   ],
   "source": [
    "initialise_database()\n",
    "exp = load_or_create_experiment(experiment_name='tutorial_exp', sample_name=\"no sample\")"
   ]
  },
  {
   "cell_type": "markdown",
   "metadata": {},
   "source": [
    "Here, we define a simple function to benchmark the time it takes to insert n points with either numeric or array data type.\n",
    "We will compare both the time used to call ``add_result`` and the time used for the full measurement."
   ]
  },
  {
   "cell_type": "code",
   "execution_count": 4,
   "metadata": {
    "execution": {
     "iopub.execute_input": "2020-11-20T16:56:25.992273Z",
     "iopub.status.busy": "2020-11-20T16:56:25.991282Z",
     "iopub.status.idle": "2020-11-20T16:56:25.992889Z",
     "shell.execute_reply": "2020-11-20T16:56:25.993274Z"
    }
   },
   "outputs": [],
   "source": [
    "def insert_data(paramtype, npoints, nreps=1):\n",
    "\n",
    "    meas = Measurement(exp=exp)\n",
    "\n",
    "    x1 = ManualParameter('x1')\n",
    "    x2 = ManualParameter('x2')\n",
    "    x3 = ManualParameter('x3')\n",
    "    y1 = ManualParameter('y1')\n",
    "    y2 = ManualParameter('y2')\n",
    "\n",
    "    meas.register_parameter(x1, paramtype=paramtype)\n",
    "    meas.register_parameter(x2, paramtype=paramtype)\n",
    "    meas.register_parameter(x3, paramtype=paramtype)\n",
    "    meas.register_parameter(y1, setpoints=[x1, x2, x3],\n",
    "                            paramtype=paramtype)\n",
    "    meas.register_parameter(y2, setpoints=[x1, x2, x3],\n",
    "                            paramtype=paramtype)\n",
    "    start = time.perf_counter()\n",
    "    with meas.run() as datasaver:\n",
    "        start_adding = time.perf_counter()\n",
    "        for i in range(nreps):\n",
    "            datasaver.add_result((x1, np.random.rand(npoints)),\n",
    "                                 (x2, np.random.rand(npoints)),\n",
    "                                 (x3, np.random.rand(npoints)),\n",
    "                                 (y1, np.random.rand(npoints)),\n",
    "                                 (y2, np.random.rand(npoints)))\n",
    "        stop_adding = time.perf_counter()\n",
    "        run_id = datasaver.run_id\n",
    "    stop = time.perf_counter()\n",
    "    tot_time = stop - start\n",
    "    add_time = stop_adding - start_adding\n",
    "    return tot_time, add_time, run_id"
   ]
  },
  {
   "cell_type": "markdown",
   "metadata": {},
   "source": [
    "## Comparison between numeric/array data and binary blob"
   ]
  },
  {
   "cell_type": "markdown",
   "metadata": {},
   "source": [
    "### Case1: Short experiment time"
   ]
  },
  {
   "cell_type": "code",
   "execution_count": 5,
   "metadata": {
    "execution": {
     "iopub.execute_input": "2020-11-20T16:56:25.999425Z",
     "iopub.status.busy": "2020-11-20T16:56:25.997753Z",
     "iopub.status.idle": "2020-11-20T16:56:26.691456Z",
     "shell.execute_reply": "2020-11-20T16:56:26.691049Z"
    }
   },
   "outputs": [
    {
     "name": "stdout",
     "output_type": "stream",
     "text": [
      "Starting experimental run with id: 1. \n",
      "Starting experimental run with id: 2. \n",
      "Starting experimental run with id: 3. \n",
      "Starting experimental run with id: 4. \n",
      "Starting experimental run with id: 5. \n",
      "Starting experimental run with id: 6. \n",
      "Starting experimental run with id: 7. \n"
     ]
    },
    {
     "name": "stdout",
     "output_type": "stream",
     "text": [
      "Starting experimental run with id: 8. \n",
      "Starting experimental run with id: 9. \n"
     ]
    },
    {
     "name": "stdout",
     "output_type": "stream",
     "text": [
      "Starting experimental run with id: 10. \n",
      "Starting experimental run with id: 11. \n"
     ]
    },
    {
     "name": "stdout",
     "output_type": "stream",
     "text": [
      "Starting experimental run with id: 12. \n",
      "Starting experimental run with id: 13. \n"
     ]
    },
    {
     "name": "stdout",
     "output_type": "stream",
     "text": [
      "Starting experimental run with id: 14. \n"
     ]
    }
   ],
   "source": [
    "sizes = [1,500,1000,2000,3000,4000,5000]\n",
    "t_numeric = []\n",
    "t_numeric_add = []\n",
    "t_array = []\n",
    "t_array_add = []\n",
    "for size in sizes:\n",
    "    tn, tna, run_id_n =  insert_data('numeric', size)\n",
    "    t_numeric.append(tn)\n",
    "    t_numeric_add.append(tna)\n",
    "\n",
    "    ta, taa, run_id_a =  insert_data('array', size)\n",
    "    t_array.append(ta)\n",
    "    t_array_add.append(taa)"
   ]
  },
  {
   "cell_type": "code",
   "execution_count": 6,
   "metadata": {
    "execution": {
     "iopub.execute_input": "2020-11-20T16:56:26.717392Z",
     "iopub.status.busy": "2020-11-20T16:56:26.705738Z",
     "iopub.status.idle": "2020-11-20T16:56:26.878637Z",
     "shell.execute_reply": "2020-11-20T16:56:26.878211Z"
    }
   },
   "outputs": [
    {
     "data": {
      "image/png": "[encoded data removed]",
      "text/plain": [
       "<Figure size 432x288 with 1 Axes>"
      ]
     },
     "metadata": {
      "needs_background": "light"
     },
     "output_type": "display_data"
    }
   ],
   "source": [
    "fig, ax = plt.subplots(1,1)\n",
    "ax.plot(sizes, t_numeric, 'o-', label='Inserting row-by-row')\n",
    "ax.plot(sizes, t_numeric_add, 'o-', label='Inserting row-by-row: add_result only')\n",
    "ax.plot(sizes, t_array, 'd-', label='Inserting as binary blob')\n",
    "ax.plot(sizes, t_array_add, 'd-', label='Inserting as binary blob: add_result only')\n",
    "ax.legend()\n",
    "ax.set_xlabel('Array length')\n",
    "ax.set_ylabel('Time (s)')\n",
    "fig.tight_layout()"
   ]
  },
  {
   "cell_type": "markdown",
   "metadata": {},
   "source": [
    "As shown in the latter figure, the time to setup and and close the experiment is approximately 0.4 sec. In case of small array sizes, the difference between inserting values of data as arrays and inserting them row-by-row is relatively unimportant. At larger array sizes, i.e. above 10000 points, the cost of writing data as individual datapoints starts to become important.\n"
   ]
  },
  {
   "cell_type": "markdown",
   "metadata": {},
   "source": [
    "### Case2: Long experiment time "
   ]
  },
  {
   "cell_type": "code",
   "execution_count": 7,
   "metadata": {
    "execution": {
     "iopub.execute_input": "2020-11-20T16:56:26.884696Z",
     "iopub.status.busy": "2020-11-20T16:56:26.882706Z",
     "iopub.status.idle": "2020-11-20T16:57:18.441763Z",
     "shell.execute_reply": "2020-11-20T16:57:18.440883Z"
    }
   },
   "outputs": [
    {
     "name": "stdout",
     "output_type": "stream",
     "text": [
      "Starting experimental run with id: 15. \n",
      "Starting experimental run with id: 16. \n",
      "Starting experimental run with id: 17. \n"
     ]
    },
    {
     "name": "stdout",
     "output_type": "stream",
     "text": [
      "Starting experimental run with id: 18. \n",
      "Starting experimental run with id: 19. \n"
     ]
    },
    {
     "name": "stdout",
     "output_type": "stream",
     "text": [
      "Starting experimental run with id: 20. \n"
     ]
    },
    {
     "name": "stdout",
     "output_type": "stream",
     "text": [
      "Starting experimental run with id: 21. \n"
     ]
    },
    {
     "name": "stdout",
     "output_type": "stream",
     "text": [
      "Starting experimental run with id: 22. \n"
     ]
    },
    {
     "name": "stdout",
     "output_type": "stream",
     "text": [
      "Starting experimental run with id: 23. \n"
     ]
    },
    {
     "name": "stdout",
     "output_type": "stream",
     "text": [
      "Starting experimental run with id: 24. \n"
     ]
    },
    {
     "name": "stdout",
     "output_type": "stream",
     "text": [
      "Starting experimental run with id: 25. \n"
     ]
    },
    {
     "name": "stdout",
     "output_type": "stream",
     "text": [
      "Starting experimental run with id: 26. \n"
     ]
    },
    {
     "name": "stdout",
     "output_type": "stream",
     "text": [
      "Starting experimental run with id: 27. \n"
     ]
    },
    {
     "name": "stdout",
     "output_type": "stream",
     "text": [
      "Starting experimental run with id: 28. \n"
     ]
    }
   ],
   "source": [
    "sizes = [1,500,1000,2000,3000,4000,5000]\n",
    "nreps = 100\n",
    "t_numeric = []\n",
    "t_numeric_add = []\n",
    "t_numeric_run_ids = []\n",
    "t_array = []\n",
    "t_array_add = []\n",
    "t_array_run_ids = []\n",
    "for size in sizes:\n",
    "    tn, tna, run_id_n =  insert_data('numeric', size, nreps=nreps)\n",
    "    t_numeric.append(tn)\n",
    "    t_numeric_add.append(tna)\n",
    "    t_numeric_run_ids.append(run_id_n)\n",
    "\n",
    "    ta, taa, run_id_a =  insert_data('array', size, nreps=nreps)\n",
    "    t_array.append(ta)\n",
    "    t_array_add.append(taa)\n",
    "    t_array_run_ids.append(run_id_a)"
   ]
  },
  {
   "cell_type": "code",
   "execution_count": 8,
   "metadata": {
    "execution": {
     "iopub.execute_input": "2020-11-20T16:57:18.464657Z",
     "iopub.status.busy": "2020-11-20T16:57:18.446659Z",
     "iopub.status.idle": "2020-11-20T16:57:18.617908Z",
     "shell.execute_reply": "2020-11-20T16:57:18.617481Z"
    },
    "scrolled": true
   },
   "outputs": [
    {
     "data": {
      "image/png": "[encoded data removed]",
      "text/plain": [
       "<Figure size 432x288 with 1 Axes>"
      ]
     },
     "metadata": {
      "needs_background": "light"
     },
     "output_type": "display_data"
    }
   ],
   "source": [
    "fig, ax = plt.subplots(1,1)\n",
    "ax.plot(sizes, t_numeric, 'o-', label='Inserting row-by-row')\n",
    "ax.plot(sizes, t_numeric_add, 'o-', label='Inserting row-by-row: add_result only')\n",
    "ax.plot(sizes, t_array, 'd-', label='Inserting as binary blob')\n",
    "ax.plot(sizes, t_array_add, 'd-', label='Inserting as binary blob: add_result only')\n",
    "ax.legend()\n",
    "ax.set_xlabel('Array length')\n",
    "ax.set_ylabel('Time (s)')\n",
    "fig.tight_layout()"
   ]
  },
  {
   "cell_type": "markdown",
   "metadata": {},
   "source": [
    "However, as we increase the length of the experiment, as seen here by repeating the insertion 100 times, we see a big difference between inserting values of the data row-by-row and inserting it as a binary blob."
   ]
  },
  {
   "cell_type": "markdown",
   "metadata": {},
   "source": [
    "## Loading the data "
   ]
  },
  {
   "cell_type": "code",
   "execution_count": 9,
   "metadata": {
    "execution": {
     "iopub.execute_input": "2020-11-20T16:57:18.621393Z",
     "iopub.status.busy": "2020-11-20T16:57:18.620924Z",
     "iopub.status.idle": "2020-11-20T16:57:18.624173Z",
     "shell.execute_reply": "2020-11-20T16:57:18.623745Z"
    }
   },
   "outputs": [],
   "source": [
    "from qcodes.dataset.data_set import load_by_id\n",
    "from qcodes.dataset.data_export import get_data_by_id"
   ]
  },
  {
   "cell_type": "markdown",
   "metadata": {},
   "source": [
    "As usual you can load the data by using the ``load_by_id`` function but you will notice that the different storage methods\n",
    "are reflected in shape of the data as it is retrieved. "
   ]
  },
  {
   "cell_type": "code",
   "execution_count": 10,
   "metadata": {
    "execution": {
     "iopub.execute_input": "2020-11-20T16:57:18.628477Z",
     "iopub.status.busy": "2020-11-20T16:57:18.627181Z",
     "iopub.status.idle": "2020-11-20T16:57:18.629012Z",
     "shell.execute_reply": "2020-11-20T16:57:18.629397Z"
    }
   },
   "outputs": [],
   "source": [
    "run_id_n = t_numeric_run_ids[0]\n",
    "run_id_a = t_array_run_ids[0]"
   ]
  },
  {
   "cell_type": "code",
   "execution_count": 11,
   "metadata": {
    "execution": {
     "iopub.execute_input": "2020-11-20T16:57:18.632352Z",
     "iopub.status.busy": "2020-11-20T16:57:18.631865Z",
     "iopub.status.idle": "2020-11-20T16:57:18.640244Z",
     "shell.execute_reply": "2020-11-20T16:57:18.639828Z"
    },
    "scrolled": true
   },
   "outputs": [
    {
     "data": {
      "text/plain": [
       "{'x1': {'x1': array([0.45851036, 0.45851036, 0.93492666, 0.93492666, 0.36230454,\n",
       "         0.36230454, 0.60080412, 0.60080412, 0.56096017, 0.56096017,\n",
       "         0.47284098, 0.47284098, 0.8091975 , 0.8091975 , 0.33096311,\n",
       "         0.33096311, 0.05105111, 0.05105111, 0.14357612, 0.14357612,\n",
       "         0.28667858, 0.28667858, 0.01374192, 0.01374192, 0.27848885,\n",
       "         0.27848885, 0.93876554, 0.93876554, 0.14622075, 0.14622075,\n",
       "         0.18948602, 0.18948602, 0.74988529, 0.74988529, 0.21369904,\n",
       "         0.21369904, 0.23475284, 0.23475284, 0.67629188, 0.67629188,\n",
       "         0.44417575, 0.44417575, 0.2181136 , 0.2181136 , 0.53643851,\n",
       "         0.53643851, 0.60582089, 0.60582089, 0.22070564, 0.22070564,\n",
       "         0.35754219, 0.35754219, 0.21030126, 0.21030126, 0.3862987 ,\n",
       "         0.3862987 , 0.22457601, 0.22457601, 0.48930947, 0.48930947,\n",
       "         0.86488781, 0.86488781, 0.53118901, 0.53118901, 0.75842329,\n",
       "         0.75842329, 0.07872131, 0.07872131, 0.16475532, 0.16475532,\n",
       "         0.84945704, 0.84945704, 0.21417587, 0.21417587, 0.30702297,\n",
       "         0.30702297, 0.24810296, 0.24810296, 0.29106493, 0.29106493,\n",
       "         0.95046672, 0.95046672, 0.29411958, 0.29411958, 0.94439701,\n",
       "         0.94439701, 0.22153714, 0.22153714, 0.16652505, 0.16652505,\n",
       "         0.40147317, 0.40147317, 0.09428451, 0.09428451, 0.80134947,\n",
       "         0.80134947, 0.2107982 , 0.2107982 , 0.9919869 , 0.9919869 ,\n",
       "         0.55961648, 0.55961648, 0.12495383, 0.12495383, 0.80799496,\n",
       "         0.80799496, 0.99863425, 0.99863425, 0.20344438, 0.20344438,\n",
       "         0.43594879, 0.43594879, 0.10319185, 0.10319185, 0.24700972,\n",
       "         0.24700972, 0.60501823, 0.60501823, 0.10475261, 0.10475261,\n",
       "         0.85643465, 0.85643465, 0.23539704, 0.23539704, 0.12588097,\n",
       "         0.12588097, 0.92168877, 0.92168877, 0.02761772, 0.02761772,\n",
       "         0.8889567 , 0.8889567 , 0.07088595, 0.07088595, 0.2671901 ,\n",
       "         0.2671901 , 0.52958202, 0.52958202, 0.95544726, 0.95544726,\n",
       "         0.85691442, 0.85691442, 0.26461427, 0.26461427, 0.69562762,\n",
       "         0.69562762, 0.3823849 , 0.3823849 , 0.90439614, 0.90439614,\n",
       "         0.05914708, 0.05914708, 0.43108094, 0.43108094, 0.40778764,\n",
       "         0.40778764, 0.38097243, 0.38097243, 0.636797  , 0.636797  ,\n",
       "         0.94023193, 0.94023193, 0.2903127 , 0.2903127 , 0.48600989,\n",
       "         0.48600989, 0.77135066, 0.77135066, 0.91259528, 0.91259528,\n",
       "         0.51148263, 0.51148263, 0.39454097, 0.39454097, 0.44862422,\n",
       "         0.44862422, 0.24579768, 0.24579768, 0.94238505, 0.94238505,\n",
       "         0.2586091 , 0.2586091 , 0.66577046, 0.66577046, 0.58041101,\n",
       "         0.58041101, 0.31812189, 0.31812189, 0.29853465, 0.29853465,\n",
       "         0.69515245, 0.69515245, 0.07038117, 0.07038117, 0.52732484,\n",
       "         0.52732484, 0.85531643, 0.85531643, 0.79695426, 0.79695426])}}"
      ]
     },
     "execution_count": 1,
     "metadata": {},
     "output_type": "execute_result"
    }
   ],
   "source": [
    "ds = load_by_id(run_id_n)\n",
    "ds.get_parameter_data('x1')"
   ]
  },
  {
   "cell_type": "markdown",
   "metadata": {},
   "source": [
    "And a dataset stored as binary arrays"
   ]
  },
  {
   "cell_type": "code",
   "execution_count": 12,
   "metadata": {
    "execution": {
     "iopub.execute_input": "2020-11-20T16:57:18.643205Z",
     "iopub.status.busy": "2020-11-20T16:57:18.642732Z",
     "iopub.status.idle": "2020-11-20T16:57:18.690175Z",
     "shell.execute_reply": "2020-11-20T16:57:18.690632Z"
    },
    "scrolled": true
   },
   "outputs": [
    {
     "data": {
      "text/plain": [
       "{'x1': {'x1': array([[0.65113727],\n",
       "         [0.65113727],\n",
       "         [0.41797429],\n",
       "         [0.41797429],\n",
       "         [0.99947483],\n",
       "         [0.99947483],\n",
       "         [0.25606651],\n",
       "         [0.25606651],\n",
       "         [0.88492183],\n",
       "         [0.88492183],\n",
       "         [0.76179144],\n",
       "         [0.76179144],\n",
       "         [0.76177866],\n",
       "         [0.76177866],\n",
       "         [0.03101828],\n",
       "         [0.03101828],\n",
       "         [0.68504192],\n",
       "         [0.68504192],\n",
       "         [0.82110157],\n",
       "         [0.82110157],\n",
       "         [0.9018119 ],\n",
       "         [0.9018119 ],\n",
       "         [0.68826709],\n",
       "         [0.68826709],\n",
       "         [0.7037484 ],\n",
       "         [0.7037484 ],\n",
       "         [0.69293969],\n",
       "         [0.69293969],\n",
       "         [0.1092486 ],\n",
       "         [0.1092486 ],\n",
       "         [0.17971257],\n",
       "         [0.17971257],\n",
       "         [0.42718779],\n",
       "         [0.42718779],\n",
       "         [0.36511027],\n",
       "         [0.36511027],\n",
       "         [0.33134262],\n",
       "         [0.33134262],\n",
       "         [0.06232642],\n",
       "         [0.06232642],\n",
       "         [0.92658585],\n",
       "         [0.92658585],\n",
       "         [0.27171118],\n",
       "         [0.27171118],\n",
       "         [0.75429856],\n",
       "         [0.75429856],\n",
       "         [0.28059101],\n",
       "         [0.28059101],\n",
       "         [0.45440567],\n",
       "         [0.45440567],\n",
       "         [0.93053861],\n",
       "         [0.93053861],\n",
       "         [0.57210377],\n",
       "         [0.57210377],\n",
       "         [0.0653629 ],\n",
       "         [0.0653629 ],\n",
       "         [0.3005863 ],\n",
       "         [0.3005863 ],\n",
       "         [0.04202093],\n",
       "         [0.04202093],\n",
       "         [0.32272918],\n",
       "         [0.32272918],\n",
       "         [0.19753868],\n",
       "         [0.19753868],\n",
       "         [0.54122363],\n",
       "         [0.54122363],\n",
       "         [0.86015696],\n",
       "         [0.86015696],\n",
       "         [0.24377705],\n",
       "         [0.24377705],\n",
       "         [0.15395196],\n",
       "         [0.15395196],\n",
       "         [0.10034677],\n",
       "         [0.10034677],\n",
       "         [0.84189934],\n",
       "         [0.84189934],\n",
       "         [0.46003035],\n",
       "         [0.46003035],\n",
       "         [0.2650206 ],\n",
       "         [0.2650206 ],\n",
       "         [0.33657683],\n",
       "         [0.33657683],\n",
       "         [0.74700888],\n",
       "         [0.74700888],\n",
       "         [0.08926377],\n",
       "         [0.08926377],\n",
       "         [0.62778305],\n",
       "         [0.62778305],\n",
       "         [0.09409613],\n",
       "         [0.09409613],\n",
       "         [0.27636332],\n",
       "         [0.27636332],\n",
       "         [0.37088333],\n",
       "         [0.37088333],\n",
       "         [0.75414188],\n",
       "         [0.75414188],\n",
       "         [0.30050428],\n",
       "         [0.30050428],\n",
       "         [0.61260327],\n",
       "         [0.61260327],\n",
       "         [0.81025028],\n",
       "         [0.81025028],\n",
       "         [0.86330461],\n",
       "         [0.86330461],\n",
       "         [0.85956735],\n",
       "         [0.85956735],\n",
       "         [0.24119431],\n",
       "         [0.24119431],\n",
       "         [0.99280924],\n",
       "         [0.99280924],\n",
       "         [0.34574511],\n",
       "         [0.34574511],\n",
       "         [0.57390425],\n",
       "         [0.57390425],\n",
       "         [0.83251919],\n",
       "         [0.83251919],\n",
       "         [0.24770899],\n",
       "         [0.24770899],\n",
       "         [0.55851904],\n",
       "         [0.55851904],\n",
       "         [0.32909367],\n",
       "         [0.32909367],\n",
       "         [0.32098249],\n",
       "         [0.32098249],\n",
       "         [0.36533918],\n",
       "         [0.36533918],\n",
       "         [0.09059874],\n",
       "         [0.09059874],\n",
       "         [0.11757153],\n",
       "         [0.11757153],\n",
       "         [0.0887187 ],\n",
       "         [0.0887187 ],\n",
       "         [0.53695033],\n",
       "         [0.53695033],\n",
       "         [0.38482918],\n",
       "         [0.38482918],\n",
       "         [0.68588412],\n",
       "         [0.68588412],\n",
       "         [0.70659746],\n",
       "         [0.70659746],\n",
       "         [0.57538804],\n",
       "         [0.57538804],\n",
       "         [0.42150468],\n",
       "         [0.42150468],\n",
       "         [0.9718983 ],\n",
       "         [0.9718983 ],\n",
       "         [0.47056399],\n",
       "         [0.47056399],\n",
       "         [0.88267651],\n",
       "         [0.88267651],\n",
       "         [0.48887112],\n",
       "         [0.48887112],\n",
       "         [0.77411723],\n",
       "         [0.77411723],\n",
       "         [0.82474297],\n",
       "         [0.82474297],\n",
       "         [0.41291044],\n",
       "         [0.41291044],\n",
       "         [0.68819834],\n",
       "         [0.68819834],\n",
       "         [0.14279735],\n",
       "         [0.14279735],\n",
       "         [0.15919883],\n",
       "         [0.15919883],\n",
       "         [0.75463199],\n",
       "         [0.75463199],\n",
       "         [0.08792553],\n",
       "         [0.08792553],\n",
       "         [0.90695487],\n",
       "         [0.90695487],\n",
       "         [0.8033459 ],\n",
       "         [0.8033459 ],\n",
       "         [0.81508267],\n",
       "         [0.81508267],\n",
       "         [0.9704873 ],\n",
       "         [0.9704873 ],\n",
       "         [0.79861322],\n",
       "         [0.79861322],\n",
       "         [0.04240383],\n",
       "         [0.04240383],\n",
       "         [0.750333  ],\n",
       "         [0.750333  ],\n",
       "         [0.24826012],\n",
       "         [0.24826012],\n",
       "         [0.17714171],\n",
       "         [0.17714171],\n",
       "         [0.94087318],\n",
       "         [0.94087318],\n",
       "         [0.02832282],\n",
       "         [0.02832282],\n",
       "         [0.6407439 ],\n",
       "         [0.6407439 ],\n",
       "         [0.22921835],\n",
       "         [0.22921835],\n",
       "         [0.52104659],\n",
       "         [0.52104659],\n",
       "         [0.52654919],\n",
       "         [0.52654919],\n",
       "         [0.36946931],\n",
       "         [0.36946931]])}}"
      ]
     },
     "execution_count": 1,
     "metadata": {},
     "output_type": "execute_result"
    }
   ],
   "source": [
    "ds = load_by_id(run_id_a)\n",
    "ds.get_parameter_data('x1')"
   ]
  },
  {
   "cell_type": "code",
   "execution_count": null,
   "metadata": {},
   "outputs": [],
   "source": []
  }
 ],
 "metadata": {
  "kernelspec": {
   "display_name": "Python 3",
   "language": "python",
   "name": "python3"
  },
  "language_info": {
   "codemirror_mode": {
    "name": "ipython",
    "version": 3
   },
   "file_extension": ".py",
   "mimetype": "text/x-python",
   "name": "python",
   "nbconvert_exporter": "python",
   "pygments_lexer": "ipython3",
   "version": "3.7.9"
  },
  "nbsphinx": {
   "timeout": 600
  },
  "toc": {
   "base_numbering": 1,
   "nav_menu": {},
   "number_sections": true,
   "sideBar": true,
   "skip_h1_title": false,
   "title_cell": "Table of Contents",
   "title_sidebar": "Contents",
   "toc_cell": false,
   "toc_position": {},
   "toc_section_display": true,
   "toc_window_display": false
  },
  "varInspector": {
   "cols": {
    "lenName": 16,
    "lenType": 16,
    "lenVar": 40
   },
   "kernels_config": {
    "python": {
     "delete_cmd_postfix": "",
     "delete_cmd_prefix": "del ",
     "library": "var_list.py",
     "varRefreshCmd": "print(var_dic_list())"
    },
    "r": {
     "delete_cmd_postfix": ") ",
     "delete_cmd_prefix": "rm(",
     "library": "var_list.r",
     "varRefreshCmd": "cat(var_dic_list()) "
    }
   },
   "types_to_exclude": [
    "module",
    "function",
    "builtin_function_or_method",
    "instance",
    "_Feature"
   ],
   "window_display": false
  }
 },
 "nbformat": 4,
 "nbformat_minor": 2
}
