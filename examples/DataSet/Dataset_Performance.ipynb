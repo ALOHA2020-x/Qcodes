{
 "cells": [
  {
   "cell_type": "markdown",
   "metadata": {},
   "source": [
    "# DataSet Performance\n",
    "\n",
    "This notebook shows the trade-off between inserting data into a database row-by-row and as binary blobs. Inserting the data row-by-row means that we have direct access to all the data and may perform queries directly on the values of the data. On the other hand, as we shall see, this is much slower than inserting the data directly as binary blobs."
   ]
  },
  {
   "cell_type": "markdown",
   "metadata": {},
   "source": [
    "First, we choose a new location for the database to ensure that we don't add a bunch of benchmarking data to the default one."
   ]
  },
  {
   "cell_type": "code",
   "execution_count": 1,
   "metadata": {
    "execution": {
     "iopub.execute_input": "2020-12-18T09:15:37.437689Z",
     "iopub.status.busy": "2020-12-18T09:15:37.436826Z",
     "iopub.status.idle": "2020-12-18T09:15:38.498194Z",
     "shell.execute_reply": "2020-12-18T09:15:38.497048Z"
    }
   },
   "outputs": [
    {
     "name": "stdout",
     "output_type": "stream",
     "text": [
      "Logging hadn't been started.\n",
      "Activating auto-logging. Current session state plus future input saved.\n",
      "Filename       : /home/vsts/.qcodes/logs/command_history.log\n",
      "Mode           : append\n",
      "Output logging : True\n",
      "Raw input log  : False\n",
      "Timestamping   : True\n",
      "State          : active\n"
     ]
    },
    {
     "name": "stdout",
     "output_type": "stream",
     "text": [
      "Qcodes Logfile : /home/vsts/.qcodes/logs/201218-13291-qcodes.log\n"
     ]
    }
   ],
   "source": [
    "import os\n",
    "cwd = os.getcwd()\n",
    "import qcodes as qc\n",
    "qc.config[\"core\"][\"db_location\"] = os.path.join(cwd, 'testing.db')\n"
   ]
  },
  {
   "cell_type": "code",
   "execution_count": 2,
   "metadata": {
    "execution": {
     "iopub.execute_input": "2020-12-18T09:15:38.504619Z",
     "iopub.status.busy": "2020-12-18T09:15:38.504112Z",
     "iopub.status.idle": "2020-12-18T09:15:38.681325Z",
     "shell.execute_reply": "2020-12-18T09:15:38.680357Z"
    }
   },
   "outputs": [],
   "source": [
    "%matplotlib inline\n",
    "import time\n",
    "import matplotlib.pyplot as plt\n",
    "import numpy as np\n",
    "\n",
    "import qcodes as qc\n",
    "from qcodes.instrument.parameter import ManualParameter\n",
    "from qcodes.dataset.experiment_container import (Experiment,\n",
    "                                                 load_last_experiment,\n",
    "                                                 new_experiment)\n",
    "from qcodes.dataset.sqlite.database import initialise_database\n",
    "from qcodes import load_or_create_experiment\n",
    "from qcodes.dataset.measurements import Measurement"
   ]
  },
  {
   "cell_type": "code",
   "execution_count": 3,
   "metadata": {
    "execution": {
     "iopub.execute_input": "2020-12-18T09:15:38.684628Z",
     "iopub.status.busy": "2020-12-18T09:15:38.684112Z",
     "iopub.status.idle": "2020-12-18T09:15:38.795516Z",
     "shell.execute_reply": "2020-12-18T09:15:38.794952Z"
    }
   },
   "outputs": [
    {
     "name": "stdout",
     "output_type": "stream",
     "text": [
      "\r",
      "0it [00:00, ?it/s]"
     ]
    },
    {
     "name": "stdout",
     "output_type": "stream",
     "text": [
      "\r",
      "Upgrading database; v0 -> v1: : 0it [00:00, ?it/s]"
     ]
    },
    {
     "name": "stdout",
     "output_type": "stream",
     "text": [
      "\r",
      "Upgrading database; v0 -> v1: : 0it [00:00, ?it/s]"
     ]
    },
    {
     "name": "stdout",
     "output_type": "stream",
     "text": [
      "\n",
      "\r",
      "  0%|          | 0/1 [00:00<?, ?it/s]"
     ]
    },
    {
     "name": "stdout",
     "output_type": "stream",
     "text": [
      "\r",
      "Upgrading database; v1 -> v2:   0%|          | 0/1 [00:00<?, ?it/s]"
     ]
    },
    {
     "name": "stdout",
     "output_type": "stream",
     "text": [
      "\r",
      "Upgrading database; v1 -> v2: 100%|██████████| 1/1 [00:00<00:00, 684.00it/s]"
     ]
    },
    {
     "name": "stdout",
     "output_type": "stream",
     "text": [
      "\n",
      "\r",
      "0it [00:00, ?it/s]"
     ]
    },
    {
     "name": "stdout",
     "output_type": "stream",
     "text": [
      "\r",
      "Upgrading database; v2 -> v3: : 0it [00:00, ?it/s]"
     ]
    },
    {
     "name": "stdout",
     "output_type": "stream",
     "text": [
      "\r",
      "Upgrading database; v2 -> v3: : 0it [00:00, ?it/s]"
     ]
    },
    {
     "name": "stdout",
     "output_type": "stream",
     "text": [
      "\n",
      "\r",
      "0it [00:00, ?it/s]"
     ]
    },
    {
     "name": "stdout",
     "output_type": "stream",
     "text": [
      "\r",
      "Upgrading database; v3 -> v4: : 0it [00:00, ?it/s]"
     ]
    },
    {
     "name": "stdout",
     "output_type": "stream",
     "text": [
      "\r",
      "Upgrading database; v3 -> v4: : 0it [00:00, ?it/s]"
     ]
    },
    {
     "name": "stdout",
     "output_type": "stream",
     "text": [
      "\n",
      "\r",
      "  0%|          | 0/1 [00:00<?, ?it/s]"
     ]
    },
    {
     "name": "stdout",
     "output_type": "stream",
     "text": [
      "\r",
      "Upgrading database; v4 -> v5:   0%|          | 0/1 [00:00<?, ?it/s]"
     ]
    },
    {
     "name": "stdout",
     "output_type": "stream",
     "text": [
      "\r",
      "Upgrading database; v4 -> v5: 100%|██████████| 1/1 [00:00<00:00, 652.10it/s]"
     ]
    },
    {
     "name": "stdout",
     "output_type": "stream",
     "text": [
      "\n",
      "\r",
      "0it [00:00, ?it/s]"
     ]
    },
    {
     "name": "stdout",
     "output_type": "stream",
     "text": [
      "\r",
      "Upgrading database; v5 -> v6: : 0it [00:00, ?it/s]"
     ]
    },
    {
     "name": "stdout",
     "output_type": "stream",
     "text": [
      "\r",
      "Upgrading database; v5 -> v6: : 0it [00:00, ?it/s]"
     ]
    },
    {
     "name": "stdout",
     "output_type": "stream",
     "text": [
      "\n",
      "\r",
      "  0%|          | 0/1 [00:00<?, ?it/s]"
     ]
    },
    {
     "name": "stdout",
     "output_type": "stream",
     "text": [
      "\r",
      "Upgrading database; v6 -> v7:   0%|          | 0/1 [00:00<?, ?it/s]"
     ]
    },
    {
     "name": "stdout",
     "output_type": "stream",
     "text": [
      "\r",
      "Upgrading database; v6 -> v7: 100%|██████████| 1/1 [00:00<00:00, 290.12it/s]"
     ]
    },
    {
     "name": "stdout",
     "output_type": "stream",
     "text": [
      "\n",
      "\r",
      "  0%|          | 0/1 [00:00<?, ?it/s]"
     ]
    },
    {
     "name": "stdout",
     "output_type": "stream",
     "text": [
      "\r",
      "Upgrading database; v7 -> v8:   0%|          | 0/1 [00:00<?, ?it/s]"
     ]
    },
    {
     "name": "stdout",
     "output_type": "stream",
     "text": [
      "\r",
      "Upgrading database; v7 -> v8: 100%|██████████| 1/1 [00:00<00:00, 580.04it/s]"
     ]
    },
    {
     "name": "stdout",
     "output_type": "stream",
     "text": [
      "\n",
      "\r",
      "  0%|          | 0/1 [00:00<?, ?it/s]"
     ]
    },
    {
     "name": "stdout",
     "output_type": "stream",
     "text": [
      "\r",
      "Upgrading database; v8 -> v9:   0%|          | 0/1 [00:00<?, ?it/s]"
     ]
    },
    {
     "name": "stdout",
     "output_type": "stream",
     "text": [
      "\r",
      "Upgrading database; v8 -> v9: 100%|██████████| 1/1 [00:00<00:00, 536.01it/s]"
     ]
    },
    {
     "name": "stdout",
     "output_type": "stream",
     "text": [
      "\n"
     ]
    }
   ],
   "source": [
    "initialise_database()\n",
    "exp = load_or_create_experiment(experiment_name='tutorial_exp', sample_name=\"no sample\")"
   ]
  },
  {
   "cell_type": "markdown",
   "metadata": {},
   "source": [
    "Here, we define a simple function to benchmark the time it takes to insert n points with either numeric or array data type.\n",
    "We will compare both the time used to call ``add_result`` and the time used for the full measurement."
   ]
  },
  {
   "cell_type": "code",
   "execution_count": 4,
   "metadata": {
    "execution": {
     "iopub.execute_input": "2020-12-18T09:15:38.803775Z",
     "iopub.status.busy": "2020-12-18T09:15:38.803325Z",
     "iopub.status.idle": "2020-12-18T09:15:38.806570Z",
     "shell.execute_reply": "2020-12-18T09:15:38.806148Z"
    }
   },
   "outputs": [],
   "source": [
    "def insert_data(paramtype, npoints, nreps=1):\n",
    "\n",
    "    meas = Measurement(exp=exp)\n",
    "\n",
    "    x1 = ManualParameter('x1')\n",
    "    x2 = ManualParameter('x2')\n",
    "    x3 = ManualParameter('x3')\n",
    "    y1 = ManualParameter('y1')\n",
    "    y2 = ManualParameter('y2')\n",
    "\n",
    "    meas.register_parameter(x1, paramtype=paramtype)\n",
    "    meas.register_parameter(x2, paramtype=paramtype)\n",
    "    meas.register_parameter(x3, paramtype=paramtype)\n",
    "    meas.register_parameter(y1, setpoints=[x1, x2, x3],\n",
    "                            paramtype=paramtype)\n",
    "    meas.register_parameter(y2, setpoints=[x1, x2, x3],\n",
    "                            paramtype=paramtype)\n",
    "    start = time.perf_counter()\n",
    "    with meas.run() as datasaver:\n",
    "        start_adding = time.perf_counter()\n",
    "        for i in range(nreps):\n",
    "            datasaver.add_result((x1, np.random.rand(npoints)),\n",
    "                                 (x2, np.random.rand(npoints)),\n",
    "                                 (x3, np.random.rand(npoints)),\n",
    "                                 (y1, np.random.rand(npoints)),\n",
    "                                 (y2, np.random.rand(npoints)))\n",
    "        stop_adding = time.perf_counter()\n",
    "        run_id = datasaver.run_id\n",
    "    stop = time.perf_counter()\n",
    "    tot_time = stop - start\n",
    "    add_time = stop_adding - start_adding\n",
    "    return tot_time, add_time, run_id"
   ]
  },
  {
   "cell_type": "markdown",
   "metadata": {},
   "source": [
    "## Comparison between numeric/array data and binary blob"
   ]
  },
  {
   "cell_type": "markdown",
   "metadata": {},
   "source": [
    "### Case1: Short experiment time"
   ]
  },
  {
   "cell_type": "code",
   "execution_count": 5,
   "metadata": {
    "execution": {
     "iopub.execute_input": "2020-12-18T09:15:38.812019Z",
     "iopub.status.busy": "2020-12-18T09:15:38.811012Z",
     "iopub.status.idle": "2020-12-18T09:15:39.595622Z",
     "shell.execute_reply": "2020-12-18T09:15:39.594431Z"
    }
   },
   "outputs": [
    {
     "name": "stdout",
     "output_type": "stream",
     "text": [
      "Starting experimental run with id: 1. \n",
      "Starting experimental run with id: 2. \n",
      "Starting experimental run with id: 3. \n",
      "Starting experimental run with id: 4. \n",
      "Starting experimental run with id: 5. \n"
     ]
    },
    {
     "name": "stdout",
     "output_type": "stream",
     "text": [
      "Starting experimental run with id: 6. \n"
     ]
    },
    {
     "name": "stdout",
     "output_type": "stream",
     "text": [
      "Starting experimental run with id: 7. "
     ]
    },
    {
     "name": "stdout",
     "output_type": "stream",
     "text": [
      "\n"
     ]
    },
    {
     "name": "stdout",
     "output_type": "stream",
     "text": [
      "Starting experimental run with id: 8. \n",
      "Starting experimental run with id: 9. \n"
     ]
    },
    {
     "name": "stdout",
     "output_type": "stream",
     "text": [
      "Starting experimental run with id: 10. "
     ]
    },
    {
     "name": "stdout",
     "output_type": "stream",
     "text": [
      "\n",
      "Starting experimental run with id: 11. \n"
     ]
    },
    {
     "name": "stdout",
     "output_type": "stream",
     "text": [
      "Starting experimental run with id: 12. \n",
      "Starting experimental run with id: 13. \n"
     ]
    },
    {
     "name": "stdout",
     "output_type": "stream",
     "text": [
      "Starting experimental run with id: 14. \n"
     ]
    }
   ],
   "source": [
    "sizes = [1,500,1000,2000,3000,4000,5000]\n",
    "t_numeric = []\n",
    "t_numeric_add = []\n",
    "t_array = []\n",
    "t_array_add = []\n",
    "for size in sizes:\n",
    "    tn, tna, run_id_n =  insert_data('numeric', size)\n",
    "    t_numeric.append(tn)\n",
    "    t_numeric_add.append(tna)\n",
    "\n",
    "    ta, taa, run_id_a =  insert_data('array', size)\n",
    "    t_array.append(ta)\n",
    "    t_array_add.append(taa)"
   ]
  },
  {
   "cell_type": "code",
   "execution_count": 6,
   "metadata": {
    "execution": {
     "iopub.execute_input": "2020-12-18T09:15:39.613552Z",
     "iopub.status.busy": "2020-12-18T09:15:39.613002Z",
     "iopub.status.idle": "2020-12-18T09:15:39.785470Z",
     "shell.execute_reply": "2020-12-18T09:15:39.786210Z"
    }
   },
   "outputs": [
    {
     "data": {
      "image/png": "[encoded data removed]",
      "text/plain": [
       "<Figure size 432x288 with 1 Axes>"
      ]
     },
     "metadata": {
      "needs_background": "light"
     },
     "output_type": "display_data"
    }
   ],
   "source": [
    "fig, ax = plt.subplots(1,1)\n",
    "ax.plot(sizes, t_numeric, 'o-', label='Inserting row-by-row')\n",
    "ax.plot(sizes, t_numeric_add, 'o-', label='Inserting row-by-row: add_result only')\n",
    "ax.plot(sizes, t_array, 'd-', label='Inserting as binary blob')\n",
    "ax.plot(sizes, t_array_add, 'd-', label='Inserting as binary blob: add_result only')\n",
    "ax.legend()\n",
    "ax.set_xlabel('Array length')\n",
    "ax.set_ylabel('Time (s)')\n",
    "fig.tight_layout()"
   ]
  },
  {
   "cell_type": "markdown",
   "metadata": {},
   "source": [
    "As shown in the latter figure, the time to setup and and close the experiment is approximately 0.4 sec. In case of small array sizes, the difference between inserting values of data as arrays and inserting them row-by-row is relatively unimportant. At larger array sizes, i.e. above 10000 points, the cost of writing data as individual datapoints starts to become important.\n"
   ]
  },
  {
   "cell_type": "markdown",
   "metadata": {},
   "source": [
    "### Case2: Long experiment time "
   ]
  },
  {
   "cell_type": "code",
   "execution_count": 7,
   "metadata": {
    "execution": {
     "iopub.execute_input": "2020-12-18T09:15:39.789615Z",
     "iopub.status.busy": "2020-12-18T09:15:39.788560Z",
     "iopub.status.idle": "2020-12-18T09:16:37.094727Z",
     "shell.execute_reply": "2020-12-18T09:16:37.095173Z"
    }
   },
   "outputs": [
    {
     "name": "stdout",
     "output_type": "stream",
     "text": [
      "Starting experimental run with id: 15. \n",
      "Starting experimental run with id: 16. \n",
      "Starting experimental run with id: 17. \n"
     ]
    },
    {
     "name": "stdout",
     "output_type": "stream",
     "text": [
      "Starting experimental run with id: 18. \n",
      "Starting experimental run with id: 19. \n"
     ]
    },
    {
     "name": "stdout",
     "output_type": "stream",
     "text": [
      "Starting experimental run with id: 20. \n"
     ]
    },
    {
     "name": "stdout",
     "output_type": "stream",
     "text": [
      "Starting experimental run with id: 21. \n"
     ]
    },
    {
     "name": "stdout",
     "output_type": "stream",
     "text": [
      "Starting experimental run with id: 22. \n"
     ]
    },
    {
     "name": "stdout",
     "output_type": "stream",
     "text": [
      "Starting experimental run with id: 23. \n"
     ]
    },
    {
     "name": "stdout",
     "output_type": "stream",
     "text": [
      "Starting experimental run with id: 24. \n"
     ]
    },
    {
     "name": "stdout",
     "output_type": "stream",
     "text": [
      "Starting experimental run with id: 25. \n"
     ]
    },
    {
     "name": "stdout",
     "output_type": "stream",
     "text": [
      "Starting experimental run with id: 26. \n"
     ]
    },
    {
     "name": "stdout",
     "output_type": "stream",
     "text": [
      "Starting experimental run with id: 27. \n"
     ]
    },
    {
     "name": "stdout",
     "output_type": "stream",
     "text": [
      "Starting experimental run with id: 28. \n"
     ]
    }
   ],
   "source": [
    "sizes = [1,500,1000,2000,3000,4000,5000]\n",
    "nreps = 100\n",
    "t_numeric = []\n",
    "t_numeric_add = []\n",
    "t_numeric_run_ids = []\n",
    "t_array = []\n",
    "t_array_add = []\n",
    "t_array_run_ids = []\n",
    "for size in sizes:\n",
    "    tn, tna, run_id_n =  insert_data('numeric', size, nreps=nreps)\n",
    "    t_numeric.append(tn)\n",
    "    t_numeric_add.append(tna)\n",
    "    t_numeric_run_ids.append(run_id_n)\n",
    "\n",
    "    ta, taa, run_id_a =  insert_data('array', size, nreps=nreps)\n",
    "    t_array.append(ta)\n",
    "    t_array_add.append(taa)\n",
    "    t_array_run_ids.append(run_id_a)"
   ]
  },
  {
   "cell_type": "code",
   "execution_count": 8,
   "metadata": {
    "execution": {
     "iopub.execute_input": "2020-12-18T09:16:37.118834Z",
     "iopub.status.busy": "2020-12-18T09:16:37.104600Z",
     "iopub.status.idle": "2020-12-18T09:16:37.286510Z",
     "shell.execute_reply": "2020-12-18T09:16:37.287008Z"
    },
    "scrolled": true
   },
   "outputs": [
    {
     "data": {
      "image/png": "[encoded data removed]",
      "text/plain": [
       "<Figure size 432x288 with 1 Axes>"
      ]
     },
     "metadata": {
      "needs_background": "light"
     },
     "output_type": "display_data"
    }
   ],
   "source": [
    "fig, ax = plt.subplots(1,1)\n",
    "ax.plot(sizes, t_numeric, 'o-', label='Inserting row-by-row')\n",
    "ax.plot(sizes, t_numeric_add, 'o-', label='Inserting row-by-row: add_result only')\n",
    "ax.plot(sizes, t_array, 'd-', label='Inserting as binary blob')\n",
    "ax.plot(sizes, t_array_add, 'd-', label='Inserting as binary blob: add_result only')\n",
    "ax.legend()\n",
    "ax.set_xlabel('Array length')\n",
    "ax.set_ylabel('Time (s)')\n",
    "fig.tight_layout()"
   ]
  },
  {
   "cell_type": "markdown",
   "metadata": {},
   "source": [
    "However, as we increase the length of the experiment, as seen here by repeating the insertion 100 times, we see a big difference between inserting values of the data row-by-row and inserting it as a binary blob."
   ]
  },
  {
   "cell_type": "markdown",
   "metadata": {},
   "source": [
    "## Loading the data "
   ]
  },
  {
   "cell_type": "code",
   "execution_count": 9,
   "metadata": {
    "execution": {
     "iopub.execute_input": "2020-12-18T09:16:37.289690Z",
     "iopub.status.busy": "2020-12-18T09:16:37.288936Z",
     "iopub.status.idle": "2020-12-18T09:16:37.292191Z",
     "shell.execute_reply": "2020-12-18T09:16:37.292704Z"
    }
   },
   "outputs": [],
   "source": [
    "from qcodes.dataset.data_set import load_by_id\n",
    "from qcodes.dataset.data_export import get_data_by_id"
   ]
  },
  {
   "cell_type": "markdown",
   "metadata": {},
   "source": [
    "As usual you can load the data by using the ``load_by_id`` function but you will notice that the different storage methods\n",
    "are reflected in shape of the data as it is retrieved. "
   ]
  },
  {
   "cell_type": "code",
   "execution_count": 10,
   "metadata": {
    "execution": {
     "iopub.execute_input": "2020-12-18T09:16:37.296054Z",
     "iopub.status.busy": "2020-12-18T09:16:37.295583Z",
     "iopub.status.idle": "2020-12-18T09:16:37.297664Z",
     "shell.execute_reply": "2020-12-18T09:16:37.297163Z"
    }
   },
   "outputs": [],
   "source": [
    "run_id_n = t_numeric_run_ids[0]\n",
    "run_id_a = t_array_run_ids[0]"
   ]
  },
  {
   "cell_type": "code",
   "execution_count": 11,
   "metadata": {
    "execution": {
     "iopub.execute_input": "2020-12-18T09:16:37.300627Z",
     "iopub.status.busy": "2020-12-18T09:16:37.300119Z",
     "iopub.status.idle": "2020-12-18T09:16:37.308798Z",
     "shell.execute_reply": "2020-12-18T09:16:37.308327Z"
    },
    "scrolled": true
   },
   "outputs": [
    {
     "data": {
      "text/plain": [
       "{'x1': {'x1': array([0.72428179, 0.72428179, 0.77003693, 0.77003693, 0.72371102,\n",
       "         0.72371102, 0.74134143, 0.74134143, 0.93232113, 0.93232113,\n",
       "         0.09322933, 0.09322933, 0.43354107, 0.43354107, 0.23043226,\n",
       "         0.23043226, 0.04808014, 0.04808014, 0.49216338, 0.49216338,\n",
       "         0.40864813, 0.40864813, 0.6095878 , 0.6095878 , 0.79489437,\n",
       "         0.79489437, 0.41358906, 0.41358906, 0.82099924, 0.82099924,\n",
       "         0.32737236, 0.32737236, 0.35441018, 0.35441018, 0.19945364,\n",
       "         0.19945364, 0.25113638, 0.25113638, 0.61564745, 0.61564745,\n",
       "         0.34278502, 0.34278502, 0.05840448, 0.05840448, 0.68608537,\n",
       "         0.68608537, 0.40165351, 0.40165351, 0.05148286, 0.05148286,\n",
       "         0.94938197, 0.94938197, 0.87278036, 0.87278036, 0.94388076,\n",
       "         0.94388076, 0.30793701, 0.30793701, 0.32036561, 0.32036561,\n",
       "         0.96136413, 0.96136413, 0.73812684, 0.73812684, 0.01221271,\n",
       "         0.01221271, 0.92080464, 0.92080464, 0.36878667, 0.36878667,\n",
       "         0.35719374, 0.35719374, 0.31468765, 0.31468765, 0.30213642,\n",
       "         0.30213642, 0.8049399 , 0.8049399 , 0.97648746, 0.97648746,\n",
       "         0.81044366, 0.81044366, 0.53287186, 0.53287186, 0.31880658,\n",
       "         0.31880658, 0.06628021, 0.06628021, 0.69030976, 0.69030976,\n",
       "         0.79646577, 0.79646577, 0.59166545, 0.59166545, 0.78005873,\n",
       "         0.78005873, 0.19755657, 0.19755657, 0.50796386, 0.50796386,\n",
       "         0.63721051, 0.63721051, 0.0940157 , 0.0940157 , 0.62868604,\n",
       "         0.62868604, 0.42331403, 0.42331403, 0.87869773, 0.87869773,\n",
       "         0.03563492, 0.03563492, 0.32197149, 0.32197149, 0.19934013,\n",
       "         0.19934013, 0.70616146, 0.70616146, 0.17166216, 0.17166216,\n",
       "         0.96208103, 0.96208103, 0.50863291, 0.50863291, 0.58570686,\n",
       "         0.58570686, 0.58786142, 0.58786142, 0.16212911, 0.16212911,\n",
       "         0.06668007, 0.06668007, 0.70325979, 0.70325979, 0.59012143,\n",
       "         0.59012143, 0.16833103, 0.16833103, 0.37928097, 0.37928097,\n",
       "         0.12283109, 0.12283109, 0.01650038, 0.01650038, 0.89183895,\n",
       "         0.89183895, 0.0623785 , 0.0623785 , 0.02790622, 0.02790622,\n",
       "         0.4760331 , 0.4760331 , 0.10430422, 0.10430422, 0.1860269 ,\n",
       "         0.1860269 , 0.74675654, 0.74675654, 0.01285262, 0.01285262,\n",
       "         0.13866433, 0.13866433, 0.42937432, 0.42937432, 0.51607156,\n",
       "         0.51607156, 0.49743561, 0.49743561, 0.14795875, 0.14795875,\n",
       "         0.35662614, 0.35662614, 0.65412932, 0.65412932, 0.2074142 ,\n",
       "         0.2074142 , 0.26741882, 0.26741882, 0.09097838, 0.09097838,\n",
       "         0.25063592, 0.25063592, 0.62070035, 0.62070035, 0.10339307,\n",
       "         0.10339307, 0.35898256, 0.35898256, 0.92139075, 0.92139075,\n",
       "         0.22276751, 0.22276751, 0.88599326, 0.88599326, 0.22206011,\n",
       "         0.22206011, 0.09919126, 0.09919126, 0.01551387, 0.01551387])}}"
      ]
     },
     "execution_count": 1,
     "metadata": {},
     "output_type": "execute_result"
    }
   ],
   "source": [
    "ds = load_by_id(run_id_n)\n",
    "ds.get_parameter_data('x1')"
   ]
  },
  {
   "cell_type": "markdown",
   "metadata": {},
   "source": [
    "And a dataset stored as binary arrays"
   ]
  },
  {
   "cell_type": "code",
   "execution_count": 12,
   "metadata": {
    "execution": {
     "iopub.execute_input": "2020-12-18T09:16:37.311931Z",
     "iopub.status.busy": "2020-12-18T09:16:37.311428Z",
     "iopub.status.idle": "2020-12-18T09:16:37.365787Z",
     "shell.execute_reply": "2020-12-18T09:16:37.366349Z"
    },
    "scrolled": true
   },
   "outputs": [
    {
     "data": {
      "text/plain": [
       "{'x1': {'x1': array([[0.60340896],\n",
       "         [0.60340896],\n",
       "         [0.62164136],\n",
       "         [0.62164136],\n",
       "         [0.12522583],\n",
       "         [0.12522583],\n",
       "         [0.56077165],\n",
       "         [0.56077165],\n",
       "         [0.56541388],\n",
       "         [0.56541388],\n",
       "         [0.54151789],\n",
       "         [0.54151789],\n",
       "         [0.1185511 ],\n",
       "         [0.1185511 ],\n",
       "         [0.93616251],\n",
       "         [0.93616251],\n",
       "         [0.441006  ],\n",
       "         [0.441006  ],\n",
       "         [0.17032809],\n",
       "         [0.17032809],\n",
       "         [0.92132406],\n",
       "         [0.92132406],\n",
       "         [0.66153917],\n",
       "         [0.66153917],\n",
       "         [0.11015497],\n",
       "         [0.11015497],\n",
       "         [0.05948756],\n",
       "         [0.05948756],\n",
       "         [0.11489417],\n",
       "         [0.11489417],\n",
       "         [0.13129733],\n",
       "         [0.13129733],\n",
       "         [0.9497543 ],\n",
       "         [0.9497543 ],\n",
       "         [0.55115272],\n",
       "         [0.55115272],\n",
       "         [0.53645726],\n",
       "         [0.53645726],\n",
       "         [0.11686258],\n",
       "         [0.11686258],\n",
       "         [0.90610844],\n",
       "         [0.90610844],\n",
       "         [0.05533998],\n",
       "         [0.05533998],\n",
       "         [0.49521641],\n",
       "         [0.49521641],\n",
       "         [0.17677086],\n",
       "         [0.17677086],\n",
       "         [0.05129908],\n",
       "         [0.05129908],\n",
       "         [0.37604196],\n",
       "         [0.37604196],\n",
       "         [0.71310295],\n",
       "         [0.71310295],\n",
       "         [0.68133421],\n",
       "         [0.68133421],\n",
       "         [0.41549886],\n",
       "         [0.41549886],\n",
       "         [0.80881624],\n",
       "         [0.80881624],\n",
       "         [0.46877057],\n",
       "         [0.46877057],\n",
       "         [0.81101309],\n",
       "         [0.81101309],\n",
       "         [0.06220298],\n",
       "         [0.06220298],\n",
       "         [0.46145232],\n",
       "         [0.46145232],\n",
       "         [0.11742279],\n",
       "         [0.11742279],\n",
       "         [0.89161593],\n",
       "         [0.89161593],\n",
       "         [0.61966733],\n",
       "         [0.61966733],\n",
       "         [0.91176859],\n",
       "         [0.91176859],\n",
       "         [0.07415424],\n",
       "         [0.07415424],\n",
       "         [0.36103372],\n",
       "         [0.36103372],\n",
       "         [0.89166881],\n",
       "         [0.89166881],\n",
       "         [0.21109701],\n",
       "         [0.21109701],\n",
       "         [0.89127682],\n",
       "         [0.89127682],\n",
       "         [0.90893974],\n",
       "         [0.90893974],\n",
       "         [0.05219729],\n",
       "         [0.05219729],\n",
       "         [0.6349089 ],\n",
       "         [0.6349089 ],\n",
       "         [0.7993807 ],\n",
       "         [0.7993807 ],\n",
       "         [0.25085307],\n",
       "         [0.25085307],\n",
       "         [0.83592698],\n",
       "         [0.83592698],\n",
       "         [0.00578707],\n",
       "         [0.00578707],\n",
       "         [0.24034111],\n",
       "         [0.24034111],\n",
       "         [0.41228193],\n",
       "         [0.41228193],\n",
       "         [0.17654148],\n",
       "         [0.17654148],\n",
       "         [0.99361013],\n",
       "         [0.99361013],\n",
       "         [0.60989951],\n",
       "         [0.60989951],\n",
       "         [0.40204439],\n",
       "         [0.40204439],\n",
       "         [0.10673429],\n",
       "         [0.10673429],\n",
       "         [0.59917347],\n",
       "         [0.59917347],\n",
       "         [0.57971606],\n",
       "         [0.57971606],\n",
       "         [0.84324847],\n",
       "         [0.84324847],\n",
       "         [0.32419646],\n",
       "         [0.32419646],\n",
       "         [0.20560119],\n",
       "         [0.20560119],\n",
       "         [0.56763313],\n",
       "         [0.56763313],\n",
       "         [0.55383591],\n",
       "         [0.55383591],\n",
       "         [0.40027514],\n",
       "         [0.40027514],\n",
       "         [0.36426942],\n",
       "         [0.36426942],\n",
       "         [0.4140538 ],\n",
       "         [0.4140538 ],\n",
       "         [0.7901219 ],\n",
       "         [0.7901219 ],\n",
       "         [0.33612201],\n",
       "         [0.33612201],\n",
       "         [0.99337519],\n",
       "         [0.99337519],\n",
       "         [0.29750152],\n",
       "         [0.29750152],\n",
       "         [0.79568448],\n",
       "         [0.79568448],\n",
       "         [0.38856397],\n",
       "         [0.38856397],\n",
       "         [0.70704352],\n",
       "         [0.70704352],\n",
       "         [0.71549914],\n",
       "         [0.71549914],\n",
       "         [0.82164071],\n",
       "         [0.82164071],\n",
       "         [0.67244477],\n",
       "         [0.67244477],\n",
       "         [0.94902239],\n",
       "         [0.94902239],\n",
       "         [0.12326049],\n",
       "         [0.12326049],\n",
       "         [0.33695036],\n",
       "         [0.33695036],\n",
       "         [0.22075498],\n",
       "         [0.22075498],\n",
       "         [0.16228604],\n",
       "         [0.16228604],\n",
       "         [0.74511269],\n",
       "         [0.74511269],\n",
       "         [0.64719485],\n",
       "         [0.64719485],\n",
       "         [0.91048001],\n",
       "         [0.91048001],\n",
       "         [0.71305034],\n",
       "         [0.71305034],\n",
       "         [0.77763063],\n",
       "         [0.77763063],\n",
       "         [0.89122978],\n",
       "         [0.89122978],\n",
       "         [0.39078766],\n",
       "         [0.39078766],\n",
       "         [0.48382385],\n",
       "         [0.48382385],\n",
       "         [0.27206298],\n",
       "         [0.27206298],\n",
       "         [0.49196127],\n",
       "         [0.49196127],\n",
       "         [0.98337665],\n",
       "         [0.98337665],\n",
       "         [0.41117806],\n",
       "         [0.41117806],\n",
       "         [0.50503532],\n",
       "         [0.50503532],\n",
       "         [0.85357118],\n",
       "         [0.85357118],\n",
       "         [0.90741843],\n",
       "         [0.90741843],\n",
       "         [0.71557029],\n",
       "         [0.71557029],\n",
       "         [0.36735807],\n",
       "         [0.36735807],\n",
       "         [0.82305025],\n",
       "         [0.82305025]])}}"
      ]
     },
     "execution_count": 1,
     "metadata": {},
     "output_type": "execute_result"
    }
   ],
   "source": [
    "ds = load_by_id(run_id_a)\n",
    "ds.get_parameter_data('x1')"
   ]
  },
  {
   "cell_type": "code",
   "execution_count": null,
   "metadata": {},
   "outputs": [],
   "source": []
  }
 ],
 "metadata": {
  "kernelspec": {
   "display_name": "Python 3",
   "language": "python",
   "name": "python3"
  },
  "language_info": {
   "codemirror_mode": {
    "name": "ipython",
    "version": 3
   },
   "file_extension": ".py",
   "mimetype": "text/x-python",
   "name": "python",
   "nbconvert_exporter": "python",
   "pygments_lexer": "ipython3",
   "version": "3.7.9"
  },
  "nbsphinx": {
   "timeout": 600
  },
  "toc": {
   "base_numbering": 1,
   "nav_menu": {},
   "number_sections": true,
   "sideBar": true,
   "skip_h1_title": false,
   "title_cell": "Table of Contents",
   "title_sidebar": "Contents",
   "toc_cell": false,
   "toc_position": {},
   "toc_section_display": true,
   "toc_window_display": false
  },
  "varInspector": {
   "cols": {
    "lenName": 16,
    "lenType": 16,
    "lenVar": 40
   },
   "kernels_config": {
    "python": {
     "delete_cmd_postfix": "",
     "delete_cmd_prefix": "del ",
     "library": "var_list.py",
     "varRefreshCmd": "print(var_dic_list())"
    },
    "r": {
     "delete_cmd_postfix": ") ",
     "delete_cmd_prefix": "rm(",
     "library": "var_list.r",
     "varRefreshCmd": "cat(var_dic_list()) "
    }
   },
   "types_to_exclude": [
    "module",
    "function",
    "builtin_function_or_method",
    "instance",
    "_Feature"
   ],
   "window_display": false
  }
 },
 "nbformat": 4,
 "nbformat_minor": 2
}
