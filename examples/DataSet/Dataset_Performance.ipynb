{
 "cells": [
  {
   "cell_type": "markdown",
   "metadata": {},
   "source": [
    "# DataSet Performance\n",
    "\n",
    "This notebook shows the trade-off between inserting data into a database row-by-row and as binary blobs. Inserting the data row-by-row means that we have direct access to all the data and may perform queries directly on the values of the data. On the other hand, as we shall see, this is much slower than inserting the data directly as binary blobs."
   ]
  },
  {
   "cell_type": "markdown",
   "metadata": {},
   "source": [
    "First, we choose a new location for the database to ensure that we don't add a bunch of benchmarking data to the default one."
   ]
  },
  {
   "cell_type": "code",
   "execution_count": 1,
   "metadata": {
    "execution": {
     "iopub.execute_input": "2020-12-16T07:08:40.540804Z",
     "iopub.status.busy": "2020-12-16T07:08:40.540274Z",
     "iopub.status.idle": "2020-12-16T07:08:41.625399Z",
     "shell.execute_reply": "2020-12-16T07:08:41.624461Z"
    }
   },
   "outputs": [
    {
     "name": "stdout",
     "output_type": "stream",
     "text": [
      "Logging hadn't been started.\n",
      "Activating auto-logging. Current session state plus future input saved.\n",
      "Filename       : /home/vsts/.qcodes/logs/command_history.log\n",
      "Mode           : append\n",
      "Output logging : True\n",
      "Raw input log  : False\n",
      "Timestamping   : True\n",
      "State          : active\n"
     ]
    },
    {
     "name": "stdout",
     "output_type": "stream",
     "text": [
      "Qcodes Logfile : /home/vsts/.qcodes/logs/201216-14212-qcodes.log\n"
     ]
    }
   ],
   "source": [
    "import os\n",
    "cwd = os.getcwd()\n",
    "import qcodes as qc\n",
    "qc.config[\"core\"][\"db_location\"] = os.path.join(cwd, 'testing.db')\n"
   ]
  },
  {
   "cell_type": "code",
   "execution_count": 2,
   "metadata": {
    "execution": {
     "iopub.execute_input": "2020-12-16T07:08:41.632436Z",
     "iopub.status.busy": "2020-12-16T07:08:41.631913Z",
     "iopub.status.idle": "2020-12-16T07:08:41.823165Z",
     "shell.execute_reply": "2020-12-16T07:08:41.822232Z"
    }
   },
   "outputs": [],
   "source": [
    "%matplotlib inline\n",
    "import time\n",
    "import matplotlib.pyplot as plt\n",
    "import numpy as np\n",
    "\n",
    "import qcodes as qc\n",
    "from qcodes.instrument.parameter import ManualParameter\n",
    "from qcodes.dataset.experiment_container import (Experiment,\n",
    "                                                 load_last_experiment,\n",
    "                                                 new_experiment)\n",
    "from qcodes.dataset.sqlite.database import initialise_database\n",
    "from qcodes import load_or_create_experiment\n",
    "from qcodes.dataset.measurements import Measurement"
   ]
  },
  {
   "cell_type": "code",
   "execution_count": 3,
   "metadata": {
    "execution": {
     "iopub.execute_input": "2020-12-16T07:08:41.826656Z",
     "iopub.status.busy": "2020-12-16T07:08:41.826145Z",
     "iopub.status.idle": "2020-12-16T07:08:41.936423Z",
     "shell.execute_reply": "2020-12-16T07:08:41.935856Z"
    }
   },
   "outputs": [
    {
     "name": "stdout",
     "output_type": "stream",
     "text": [
      "\r",
      "0it [00:00, ?it/s]"
     ]
    },
    {
     "name": "stdout",
     "output_type": "stream",
     "text": [
      "\r",
      "Upgrading database; v0 -> v1: : 0it [00:00, ?it/s]"
     ]
    },
    {
     "name": "stdout",
     "output_type": "stream",
     "text": [
      "\r",
      "Upgrading database; v0 -> v1: : 0it [00:00, ?it/s]"
     ]
    },
    {
     "name": "stdout",
     "output_type": "stream",
     "text": [
      "\n",
      "\r",
      "  0%|          | 0/1 [00:00<?, ?it/s]"
     ]
    },
    {
     "name": "stdout",
     "output_type": "stream",
     "text": [
      "\r",
      "Upgrading database; v1 -> v2:   0%|          | 0/1 [00:00<?, ?it/s]"
     ]
    },
    {
     "name": "stdout",
     "output_type": "stream",
     "text": [
      "\r",
      "Upgrading database; v1 -> v2: 100%|██████████| 1/1 [00:00<00:00, 695.46it/s]"
     ]
    },
    {
     "name": "stdout",
     "output_type": "stream",
     "text": [
      "\n",
      "\r",
      "0it [00:00, ?it/s]"
     ]
    },
    {
     "name": "stdout",
     "output_type": "stream",
     "text": [
      "\r",
      "Upgrading database; v2 -> v3: : 0it [00:00, ?it/s]"
     ]
    },
    {
     "name": "stdout",
     "output_type": "stream",
     "text": [
      "\r",
      "Upgrading database; v2 -> v3: : 0it [00:00, ?it/s]"
     ]
    },
    {
     "name": "stdout",
     "output_type": "stream",
     "text": [
      "\n",
      "\r",
      "0it [00:00, ?it/s]"
     ]
    },
    {
     "name": "stdout",
     "output_type": "stream",
     "text": [
      "\r",
      "Upgrading database; v3 -> v4: : 0it [00:00, ?it/s]"
     ]
    },
    {
     "name": "stdout",
     "output_type": "stream",
     "text": [
      "\r",
      "Upgrading database; v3 -> v4: : 0it [00:00, ?it/s]"
     ]
    },
    {
     "name": "stdout",
     "output_type": "stream",
     "text": [
      "\n",
      "\r",
      "  0%|          | 0/1 [00:00<?, ?it/s]"
     ]
    },
    {
     "name": "stdout",
     "output_type": "stream",
     "text": [
      "\r",
      "Upgrading database; v4 -> v5:   0%|          | 0/1 [00:00<?, ?it/s]"
     ]
    },
    {
     "name": "stdout",
     "output_type": "stream",
     "text": [
      "\r",
      "Upgrading database; v4 -> v5: 100%|██████████| 1/1 [00:00<00:00, 583.60it/s]"
     ]
    },
    {
     "name": "stdout",
     "output_type": "stream",
     "text": [
      "\n",
      "\r",
      "0it [00:00, ?it/s]"
     ]
    },
    {
     "name": "stdout",
     "output_type": "stream",
     "text": [
      "\r",
      "Upgrading database; v5 -> v6: : 0it [00:00, ?it/s]"
     ]
    },
    {
     "name": "stdout",
     "output_type": "stream",
     "text": [
      "\r",
      "Upgrading database; v5 -> v6: : 0it [00:00, ?it/s]"
     ]
    },
    {
     "name": "stdout",
     "output_type": "stream",
     "text": [
      "\n",
      "\r",
      "  0%|          | 0/1 [00:00<?, ?it/s]"
     ]
    },
    {
     "name": "stdout",
     "output_type": "stream",
     "text": [
      "\r",
      "Upgrading database; v6 -> v7:   0%|          | 0/1 [00:00<?, ?it/s]"
     ]
    },
    {
     "name": "stdout",
     "output_type": "stream",
     "text": [
      "\r",
      "Upgrading database; v6 -> v7: 100%|██████████| 1/1 [00:00<00:00, 437.77it/s]"
     ]
    },
    {
     "name": "stdout",
     "output_type": "stream",
     "text": [
      "\n",
      "\r",
      "  0%|          | 0/1 [00:00<?, ?it/s]"
     ]
    },
    {
     "name": "stdout",
     "output_type": "stream",
     "text": [
      "\r",
      "Upgrading database; v7 -> v8:   0%|          | 0/1 [00:00<?, ?it/s]"
     ]
    },
    {
     "name": "stdout",
     "output_type": "stream",
     "text": [
      "\r",
      "Upgrading database; v7 -> v8: 100%|██████████| 1/1 [00:00<00:00, 466.03it/s]"
     ]
    },
    {
     "name": "stdout",
     "output_type": "stream",
     "text": [
      "\n",
      "\r",
      "  0%|          | 0/1 [00:00<?, ?it/s]"
     ]
    },
    {
     "name": "stdout",
     "output_type": "stream",
     "text": [
      "\r",
      "Upgrading database; v8 -> v9:   0%|          | 0/1 [00:00<?, ?it/s]"
     ]
    },
    {
     "name": "stdout",
     "output_type": "stream",
     "text": [
      "\r",
      "Upgrading database; v8 -> v9: 100%|██████████| 1/1 [00:00<00:00, 563.98it/s]"
     ]
    },
    {
     "name": "stdout",
     "output_type": "stream",
     "text": [
      "\n"
     ]
    }
   ],
   "source": [
    "initialise_database()\n",
    "exp = load_or_create_experiment(experiment_name='tutorial_exp', sample_name=\"no sample\")"
   ]
  },
  {
   "cell_type": "markdown",
   "metadata": {},
   "source": [
    "Here, we define a simple function to benchmark the time it takes to insert n points with either numeric or array data type.\n",
    "We will compare both the time used to call ``add_result`` and the time used for the full measurement."
   ]
  },
  {
   "cell_type": "code",
   "execution_count": 4,
   "metadata": {
    "execution": {
     "iopub.execute_input": "2020-12-16T07:08:41.945446Z",
     "iopub.status.busy": "2020-12-16T07:08:41.944491Z",
     "iopub.status.idle": "2020-12-16T07:08:41.946778Z",
     "shell.execute_reply": "2020-12-16T07:08:41.947188Z"
    }
   },
   "outputs": [],
   "source": [
    "def insert_data(paramtype, npoints, nreps=1):\n",
    "\n",
    "    meas = Measurement(exp=exp)\n",
    "\n",
    "    x1 = ManualParameter('x1')\n",
    "    x2 = ManualParameter('x2')\n",
    "    x3 = ManualParameter('x3')\n",
    "    y1 = ManualParameter('y1')\n",
    "    y2 = ManualParameter('y2')\n",
    "\n",
    "    meas.register_parameter(x1, paramtype=paramtype)\n",
    "    meas.register_parameter(x2, paramtype=paramtype)\n",
    "    meas.register_parameter(x3, paramtype=paramtype)\n",
    "    meas.register_parameter(y1, setpoints=[x1, x2, x3],\n",
    "                            paramtype=paramtype)\n",
    "    meas.register_parameter(y2, setpoints=[x1, x2, x3],\n",
    "                            paramtype=paramtype)\n",
    "    start = time.perf_counter()\n",
    "    with meas.run() as datasaver:\n",
    "        start_adding = time.perf_counter()\n",
    "        for i in range(nreps):\n",
    "            datasaver.add_result((x1, np.random.rand(npoints)),\n",
    "                                 (x2, np.random.rand(npoints)),\n",
    "                                 (x3, np.random.rand(npoints)),\n",
    "                                 (y1, np.random.rand(npoints)),\n",
    "                                 (y2, np.random.rand(npoints)))\n",
    "        stop_adding = time.perf_counter()\n",
    "        run_id = datasaver.run_id\n",
    "    stop = time.perf_counter()\n",
    "    tot_time = stop - start\n",
    "    add_time = stop_adding - start_adding\n",
    "    return tot_time, add_time, run_id"
   ]
  },
  {
   "cell_type": "markdown",
   "metadata": {},
   "source": [
    "## Comparison between numeric/array data and binary blob"
   ]
  },
  {
   "cell_type": "markdown",
   "metadata": {},
   "source": [
    "### Case1: Short experiment time"
   ]
  },
  {
   "cell_type": "code",
   "execution_count": 5,
   "metadata": {
    "execution": {
     "iopub.execute_input": "2020-12-16T07:08:41.953236Z",
     "iopub.status.busy": "2020-12-16T07:08:41.952191Z",
     "iopub.status.idle": "2020-12-16T07:08:42.775250Z",
     "shell.execute_reply": "2020-12-16T07:08:42.774571Z"
    }
   },
   "outputs": [
    {
     "name": "stdout",
     "output_type": "stream",
     "text": [
      "Starting experimental run with id: 1. \n",
      "Starting experimental run with id: 2. \n",
      "Starting experimental run with id: 3. \n",
      "Starting experimental run with id: 4. \n",
      "Starting experimental run with id: 5. \n"
     ]
    },
    {
     "name": "stdout",
     "output_type": "stream",
     "text": [
      "Starting experimental run with id: 6. \n"
     ]
    },
    {
     "name": "stdout",
     "output_type": "stream",
     "text": [
      "Starting experimental run with id: 7. \n"
     ]
    },
    {
     "name": "stdout",
     "output_type": "stream",
     "text": [
      "Starting experimental run with id: 8. \n",
      "Starting experimental run with id: 9. \n"
     ]
    },
    {
     "name": "stdout",
     "output_type": "stream",
     "text": [
      "Starting experimental run with id: 10. \n",
      "Starting experimental run with id: 11. \n"
     ]
    },
    {
     "name": "stdout",
     "output_type": "stream",
     "text": [
      "Starting experimental run with id: 12. \n",
      "Starting experimental run with id: 13. \n"
     ]
    },
    {
     "name": "stdout",
     "output_type": "stream",
     "text": [
      "Starting experimental run with id: 14. \n"
     ]
    }
   ],
   "source": [
    "sizes = [1,500,1000,2000,3000,4000,5000]\n",
    "t_numeric = []\n",
    "t_numeric_add = []\n",
    "t_array = []\n",
    "t_array_add = []\n",
    "for size in sizes:\n",
    "    tn, tna, run_id_n =  insert_data('numeric', size)\n",
    "    t_numeric.append(tn)\n",
    "    t_numeric_add.append(tna)\n",
    "\n",
    "    ta, taa, run_id_a =  insert_data('array', size)\n",
    "    t_array.append(ta)\n",
    "    t_array_add.append(taa)"
   ]
  },
  {
   "cell_type": "code",
   "execution_count": 6,
   "metadata": {
    "execution": {
     "iopub.execute_input": "2020-12-16T07:08:42.805569Z",
     "iopub.status.busy": "2020-12-16T07:08:42.792101Z",
     "iopub.status.idle": "2020-12-16T07:08:42.968247Z",
     "shell.execute_reply": "2020-12-16T07:08:42.968836Z"
    }
   },
   "outputs": [
    {
     "data": {
      "image/png": "[encoded data removed]",
      "text/plain": [
       "<Figure size 432x288 with 1 Axes>"
      ]
     },
     "metadata": {
      "needs_background": "light"
     },
     "output_type": "display_data"
    }
   ],
   "source": [
    "fig, ax = plt.subplots(1,1)\n",
    "ax.plot(sizes, t_numeric, 'o-', label='Inserting row-by-row')\n",
    "ax.plot(sizes, t_numeric_add, 'o-', label='Inserting row-by-row: add_result only')\n",
    "ax.plot(sizes, t_array, 'd-', label='Inserting as binary blob')\n",
    "ax.plot(sizes, t_array_add, 'd-', label='Inserting as binary blob: add_result only')\n",
    "ax.legend()\n",
    "ax.set_xlabel('Array length')\n",
    "ax.set_ylabel('Time (s)')\n",
    "fig.tight_layout()"
   ]
  },
  {
   "cell_type": "markdown",
   "metadata": {},
   "source": [
    "As shown in the latter figure, the time to setup and and close the experiment is approximately 0.4 sec. In case of small array sizes, the difference between inserting values of data as arrays and inserting them row-by-row is relatively unimportant. At larger array sizes, i.e. above 10000 points, the cost of writing data as individual datapoints starts to become important.\n"
   ]
  },
  {
   "cell_type": "markdown",
   "metadata": {},
   "source": [
    "### Case2: Long experiment time "
   ]
  },
  {
   "cell_type": "code",
   "execution_count": 7,
   "metadata": {
    "execution": {
     "iopub.execute_input": "2020-12-16T07:08:42.972027Z",
     "iopub.status.busy": "2020-12-16T07:08:42.970940Z",
     "iopub.status.idle": "2020-12-16T07:09:42.030090Z",
     "shell.execute_reply": "2020-12-16T07:09:42.028945Z"
    }
   },
   "outputs": [
    {
     "name": "stdout",
     "output_type": "stream",
     "text": [
      "Starting experimental run with id: 15. \n",
      "Starting experimental run with id: 16. \n",
      "Starting experimental run with id: 17. \n"
     ]
    },
    {
     "name": "stdout",
     "output_type": "stream",
     "text": [
      "Starting experimental run with id: 18. \n",
      "Starting experimental run with id: 19. \n"
     ]
    },
    {
     "name": "stdout",
     "output_type": "stream",
     "text": [
      "Starting experimental run with id: 20. \n"
     ]
    },
    {
     "name": "stdout",
     "output_type": "stream",
     "text": [
      "Starting experimental run with id: 21. \n"
     ]
    },
    {
     "name": "stdout",
     "output_type": "stream",
     "text": [
      "Starting experimental run with id: 22. \n"
     ]
    },
    {
     "name": "stdout",
     "output_type": "stream",
     "text": [
      "Starting experimental run with id: 23. \n"
     ]
    },
    {
     "name": "stdout",
     "output_type": "stream",
     "text": [
      "Starting experimental run with id: 24. \n"
     ]
    },
    {
     "name": "stdout",
     "output_type": "stream",
     "text": [
      "Starting experimental run with id: 25. \n"
     ]
    },
    {
     "name": "stdout",
     "output_type": "stream",
     "text": [
      "Starting experimental run with id: 26. \n"
     ]
    },
    {
     "name": "stdout",
     "output_type": "stream",
     "text": [
      "Starting experimental run with id: 27. \n"
     ]
    },
    {
     "name": "stdout",
     "output_type": "stream",
     "text": [
      "Starting experimental run with id: 28. \n"
     ]
    }
   ],
   "source": [
    "sizes = [1,500,1000,2000,3000,4000,5000]\n",
    "nreps = 100\n",
    "t_numeric = []\n",
    "t_numeric_add = []\n",
    "t_numeric_run_ids = []\n",
    "t_array = []\n",
    "t_array_add = []\n",
    "t_array_run_ids = []\n",
    "for size in sizes:\n",
    "    tn, tna, run_id_n =  insert_data('numeric', size, nreps=nreps)\n",
    "    t_numeric.append(tn)\n",
    "    t_numeric_add.append(tna)\n",
    "    t_numeric_run_ids.append(run_id_n)\n",
    "\n",
    "    ta, taa, run_id_a =  insert_data('array', size, nreps=nreps)\n",
    "    t_array.append(ta)\n",
    "    t_array_add.append(taa)\n",
    "    t_array_run_ids.append(run_id_a)"
   ]
  },
  {
   "cell_type": "code",
   "execution_count": 8,
   "metadata": {
    "execution": {
     "iopub.execute_input": "2020-12-16T07:09:42.070806Z",
     "iopub.status.busy": "2020-12-16T07:09:42.059955Z",
     "iopub.status.idle": "2020-12-16T07:09:42.234127Z",
     "shell.execute_reply": "2020-12-16T07:09:42.234659Z"
    },
    "scrolled": true
   },
   "outputs": [
    {
     "data": {
      "image/png": "[encoded data removed]",
      "text/plain": [
       "<Figure size 432x288 with 1 Axes>"
      ]
     },
     "metadata": {
      "needs_background": "light"
     },
     "output_type": "display_data"
    }
   ],
   "source": [
    "fig, ax = plt.subplots(1,1)\n",
    "ax.plot(sizes, t_numeric, 'o-', label='Inserting row-by-row')\n",
    "ax.plot(sizes, t_numeric_add, 'o-', label='Inserting row-by-row: add_result only')\n",
    "ax.plot(sizes, t_array, 'd-', label='Inserting as binary blob')\n",
    "ax.plot(sizes, t_array_add, 'd-', label='Inserting as binary blob: add_result only')\n",
    "ax.legend()\n",
    "ax.set_xlabel('Array length')\n",
    "ax.set_ylabel('Time (s)')\n",
    "fig.tight_layout()"
   ]
  },
  {
   "cell_type": "markdown",
   "metadata": {},
   "source": [
    "However, as we increase the length of the experiment, as seen here by repeating the insertion 100 times, we see a big difference between inserting values of the data row-by-row and inserting it as a binary blob."
   ]
  },
  {
   "cell_type": "markdown",
   "metadata": {},
   "source": [
    "## Loading the data "
   ]
  },
  {
   "cell_type": "code",
   "execution_count": 9,
   "metadata": {
    "execution": {
     "iopub.execute_input": "2020-12-16T07:09:42.239177Z",
     "iopub.status.busy": "2020-12-16T07:09:42.238650Z",
     "iopub.status.idle": "2020-12-16T07:09:42.243180Z",
     "shell.execute_reply": "2020-12-16T07:09:42.242413Z"
    }
   },
   "outputs": [],
   "source": [
    "from qcodes.dataset.data_set import load_by_id\n",
    "from qcodes.dataset.data_export import get_data_by_id"
   ]
  },
  {
   "cell_type": "markdown",
   "metadata": {},
   "source": [
    "As usual you can load the data by using the ``load_by_id`` function but you will notice that the different storage methods\n",
    "are reflected in shape of the data as it is retrieved. "
   ]
  },
  {
   "cell_type": "code",
   "execution_count": 10,
   "metadata": {
    "execution": {
     "iopub.execute_input": "2020-12-16T07:09:42.247090Z",
     "iopub.status.busy": "2020-12-16T07:09:42.246578Z",
     "iopub.status.idle": "2020-12-16T07:09:42.249859Z",
     "shell.execute_reply": "2020-12-16T07:09:42.249411Z"
    }
   },
   "outputs": [],
   "source": [
    "run_id_n = t_numeric_run_ids[0]\n",
    "run_id_a = t_array_run_ids[0]"
   ]
  },
  {
   "cell_type": "code",
   "execution_count": 11,
   "metadata": {
    "execution": {
     "iopub.execute_input": "2020-12-16T07:09:42.253292Z",
     "iopub.status.busy": "2020-12-16T07:09:42.252776Z",
     "iopub.status.idle": "2020-12-16T07:09:42.263740Z",
     "shell.execute_reply": "2020-12-16T07:09:42.264280Z"
    },
    "scrolled": true
   },
   "outputs": [
    {
     "data": {
      "text/plain": [
       "{'x1': {'x1': array([0.0326889 , 0.0326889 , 0.57883172, 0.57883172, 0.07770142,\n",
       "         0.07770142, 0.57686673, 0.57686673, 0.6880332 , 0.6880332 ,\n",
       "         0.81424555, 0.81424555, 0.34183968, 0.34183968, 0.52137412,\n",
       "         0.52137412, 0.45650921, 0.45650921, 0.74867341, 0.74867341,\n",
       "         0.1888545 , 0.1888545 , 0.28917783, 0.28917783, 0.38275579,\n",
       "         0.38275579, 0.63870352, 0.63870352, 0.14431559, 0.14431559,\n",
       "         0.42146551, 0.42146551, 0.27661268, 0.27661268, 0.27282161,\n",
       "         0.27282161, 0.3258467 , 0.3258467 , 0.33935739, 0.33935739,\n",
       "         0.86521699, 0.86521699, 0.68642812, 0.68642812, 0.62569713,\n",
       "         0.62569713, 0.8320782 , 0.8320782 , 0.50492887, 0.50492887,\n",
       "         0.74232947, 0.74232947, 0.72705184, 0.72705184, 0.22529998,\n",
       "         0.22529998, 0.66845068, 0.66845068, 0.90628058, 0.90628058,\n",
       "         0.09286621, 0.09286621, 0.38176212, 0.38176212, 0.32476014,\n",
       "         0.32476014, 0.20361364, 0.20361364, 0.69133886, 0.69133886,\n",
       "         0.81665194, 0.81665194, 0.46896223, 0.46896223, 0.81111201,\n",
       "         0.81111201, 0.91349047, 0.91349047, 0.6547851 , 0.6547851 ,\n",
       "         0.15480026, 0.15480026, 0.28081462, 0.28081462, 0.54181835,\n",
       "         0.54181835, 0.26185307, 0.26185307, 0.01380013, 0.01380013,\n",
       "         0.52463798, 0.52463798, 0.78474656, 0.78474656, 0.28217098,\n",
       "         0.28217098, 0.24631282, 0.24631282, 0.98528864, 0.98528864,\n",
       "         0.30413283, 0.30413283, 0.54098545, 0.54098545, 0.20576721,\n",
       "         0.20576721, 0.57750179, 0.57750179, 0.55553322, 0.55553322,\n",
       "         0.16055499, 0.16055499, 0.1105106 , 0.1105106 , 0.55643416,\n",
       "         0.55643416, 0.59152252, 0.59152252, 0.15203411, 0.15203411,\n",
       "         0.16626064, 0.16626064, 0.68027184, 0.68027184, 0.12005968,\n",
       "         0.12005968, 0.43090996, 0.43090996, 0.4655902 , 0.4655902 ,\n",
       "         0.73956765, 0.73956765, 0.56314843, 0.56314843, 0.43578603,\n",
       "         0.43578603, 0.02151801, 0.02151801, 0.90982628, 0.90982628,\n",
       "         0.63030727, 0.63030727, 0.54452433, 0.54452433, 0.39635299,\n",
       "         0.39635299, 0.7099335 , 0.7099335 , 0.74030798, 0.74030798,\n",
       "         0.97209396, 0.97209396, 0.19062243, 0.19062243, 0.02923169,\n",
       "         0.02923169, 0.25953335, 0.25953335, 0.6392198 , 0.6392198 ,\n",
       "         0.47227276, 0.47227276, 0.65014422, 0.65014422, 0.81342981,\n",
       "         0.81342981, 0.1076    , 0.1076    , 0.96428421, 0.96428421,\n",
       "         0.90498037, 0.90498037, 0.35817014, 0.35817014, 0.72265152,\n",
       "         0.72265152, 0.27276146, 0.27276146, 0.60340748, 0.60340748,\n",
       "         0.16081811, 0.16081811, 0.78667992, 0.78667992, 0.5710156 ,\n",
       "         0.5710156 , 0.71014257, 0.71014257, 0.93485229, 0.93485229,\n",
       "         0.17463733, 0.17463733, 0.94543911, 0.94543911, 0.98715603,\n",
       "         0.98715603, 0.79734704, 0.79734704, 0.80536925, 0.80536925])}}"
      ]
     },
     "execution_count": 1,
     "metadata": {},
     "output_type": "execute_result"
    }
   ],
   "source": [
    "ds = load_by_id(run_id_n)\n",
    "ds.get_parameter_data('x1')"
   ]
  },
  {
   "cell_type": "markdown",
   "metadata": {},
   "source": [
    "And a dataset stored as binary arrays"
   ]
  },
  {
   "cell_type": "code",
   "execution_count": 12,
   "metadata": {
    "execution": {
     "iopub.execute_input": "2020-12-16T07:09:42.267550Z",
     "iopub.status.busy": "2020-12-16T07:09:42.267040Z",
     "iopub.status.idle": "2020-12-16T07:09:42.322377Z",
     "shell.execute_reply": "2020-12-16T07:09:42.321911Z"
    },
    "scrolled": true
   },
   "outputs": [
    {
     "data": {
      "text/plain": [
       "{'x1': {'x1': array([[1.52297920e-01],\n",
       "         [1.52297920e-01],\n",
       "         [5.12575221e-01],\n",
       "         [5.12575221e-01],\n",
       "         [3.17361793e-01],\n",
       "         [3.17361793e-01],\n",
       "         [1.80131948e-01],\n",
       "         [1.80131948e-01],\n",
       "         [7.59794670e-01],\n",
       "         [7.59794670e-01],\n",
       "         [4.44745897e-01],\n",
       "         [4.44745897e-01],\n",
       "         [2.39208909e-01],\n",
       "         [2.39208909e-01],\n",
       "         [3.60067410e-01],\n",
       "         [3.60067410e-01],\n",
       "         [4.53805316e-01],\n",
       "         [4.53805316e-01],\n",
       "         [6.08557085e-01],\n",
       "         [6.08557085e-01],\n",
       "         [5.43189047e-01],\n",
       "         [5.43189047e-01],\n",
       "         [8.27832622e-01],\n",
       "         [8.27832622e-01],\n",
       "         [7.72012820e-01],\n",
       "         [7.72012820e-01],\n",
       "         [6.77491265e-01],\n",
       "         [6.77491265e-01],\n",
       "         [2.24308933e-01],\n",
       "         [2.24308933e-01],\n",
       "         [1.04598197e-01],\n",
       "         [1.04598197e-01],\n",
       "         [9.07446895e-01],\n",
       "         [9.07446895e-01],\n",
       "         [7.06352860e-01],\n",
       "         [7.06352860e-01],\n",
       "         [4.39813043e-01],\n",
       "         [4.39813043e-01],\n",
       "         [5.66145222e-01],\n",
       "         [5.66145222e-01],\n",
       "         [9.83451807e-01],\n",
       "         [9.83451807e-01],\n",
       "         [5.41488795e-01],\n",
       "         [5.41488795e-01],\n",
       "         [9.42293609e-01],\n",
       "         [9.42293609e-01],\n",
       "         [7.25405708e-01],\n",
       "         [7.25405708e-01],\n",
       "         [9.47648778e-01],\n",
       "         [9.47648778e-01],\n",
       "         [7.86989788e-01],\n",
       "         [7.86989788e-01],\n",
       "         [6.95241937e-01],\n",
       "         [6.95241937e-01],\n",
       "         [3.32244075e-01],\n",
       "         [3.32244075e-01],\n",
       "         [6.24117035e-01],\n",
       "         [6.24117035e-01],\n",
       "         [7.77200464e-01],\n",
       "         [7.77200464e-01],\n",
       "         [5.14810409e-01],\n",
       "         [5.14810409e-01],\n",
       "         [1.19604860e-01],\n",
       "         [1.19604860e-01],\n",
       "         [6.53212625e-02],\n",
       "         [6.53212625e-02],\n",
       "         [7.99680693e-01],\n",
       "         [7.99680693e-01],\n",
       "         [9.74583036e-01],\n",
       "         [9.74583036e-01],\n",
       "         [1.71306759e-01],\n",
       "         [1.71306759e-01],\n",
       "         [3.06574887e-01],\n",
       "         [3.06574887e-01],\n",
       "         [3.72518219e-01],\n",
       "         [3.72518219e-01],\n",
       "         [1.72183624e-01],\n",
       "         [1.72183624e-01],\n",
       "         [5.86387758e-01],\n",
       "         [5.86387758e-01],\n",
       "         [4.22911279e-01],\n",
       "         [4.22911279e-01],\n",
       "         [8.61413772e-01],\n",
       "         [8.61413772e-01],\n",
       "         [7.46097998e-01],\n",
       "         [7.46097998e-01],\n",
       "         [1.61690366e-01],\n",
       "         [1.61690366e-01],\n",
       "         [6.69637488e-01],\n",
       "         [6.69637488e-01],\n",
       "         [7.74774355e-01],\n",
       "         [7.74774355e-01],\n",
       "         [2.23897113e-01],\n",
       "         [2.23897113e-01],\n",
       "         [3.06110862e-01],\n",
       "         [3.06110862e-01],\n",
       "         [5.51862792e-01],\n",
       "         [5.51862792e-01],\n",
       "         [6.40910715e-02],\n",
       "         [6.40910715e-02],\n",
       "         [9.08086608e-02],\n",
       "         [9.08086608e-02],\n",
       "         [8.28709780e-01],\n",
       "         [8.28709780e-01],\n",
       "         [6.30620558e-01],\n",
       "         [6.30620558e-01],\n",
       "         [2.75244522e-01],\n",
       "         [2.75244522e-01],\n",
       "         [5.78106415e-02],\n",
       "         [5.78106415e-02],\n",
       "         [3.04788013e-01],\n",
       "         [3.04788013e-01],\n",
       "         [5.47382734e-01],\n",
       "         [5.47382734e-01],\n",
       "         [2.86326739e-01],\n",
       "         [2.86326739e-01],\n",
       "         [4.37910160e-01],\n",
       "         [4.37910160e-01],\n",
       "         [2.63863778e-01],\n",
       "         [2.63863778e-01],\n",
       "         [8.75610036e-01],\n",
       "         [8.75610036e-01],\n",
       "         [3.98213098e-01],\n",
       "         [3.98213098e-01],\n",
       "         [7.59332235e-01],\n",
       "         [7.59332235e-01],\n",
       "         [5.56872774e-01],\n",
       "         [5.56872774e-01],\n",
       "         [1.28531863e-02],\n",
       "         [1.28531863e-02],\n",
       "         [5.61173126e-01],\n",
       "         [5.61173126e-01],\n",
       "         [2.07988375e-01],\n",
       "         [2.07988375e-01],\n",
       "         [5.63961642e-01],\n",
       "         [5.63961642e-01],\n",
       "         [3.48970346e-01],\n",
       "         [3.48970346e-01],\n",
       "         [7.67445124e-01],\n",
       "         [7.67445124e-01],\n",
       "         [7.63106660e-01],\n",
       "         [7.63106660e-01],\n",
       "         [6.87327311e-01],\n",
       "         [6.87327311e-01],\n",
       "         [3.41221909e-01],\n",
       "         [3.41221909e-01],\n",
       "         [8.34855989e-01],\n",
       "         [8.34855989e-01],\n",
       "         [8.87012100e-01],\n",
       "         [8.87012100e-01],\n",
       "         [4.63037898e-01],\n",
       "         [4.63037898e-01],\n",
       "         [1.35624316e-01],\n",
       "         [1.35624316e-01],\n",
       "         [8.88231502e-01],\n",
       "         [8.88231502e-01],\n",
       "         [9.98576535e-01],\n",
       "         [9.98576535e-01],\n",
       "         [8.99588206e-01],\n",
       "         [8.99588206e-01],\n",
       "         [3.91537021e-01],\n",
       "         [3.91537021e-01],\n",
       "         [6.36367176e-01],\n",
       "         [6.36367176e-01],\n",
       "         [7.74527923e-01],\n",
       "         [7.74527923e-01],\n",
       "         [2.45637128e-01],\n",
       "         [2.45637128e-01],\n",
       "         [6.93857673e-01],\n",
       "         [6.93857673e-01],\n",
       "         [2.53734392e-01],\n",
       "         [2.53734392e-01],\n",
       "         [8.59254674e-01],\n",
       "         [8.59254674e-01],\n",
       "         [8.68727845e-01],\n",
       "         [8.68727845e-01],\n",
       "         [8.28582494e-04],\n",
       "         [8.28582494e-04],\n",
       "         [1.58518016e-02],\n",
       "         [1.58518016e-02],\n",
       "         [3.07233867e-01],\n",
       "         [3.07233867e-01],\n",
       "         [3.00175351e-01],\n",
       "         [3.00175351e-01],\n",
       "         [7.14892551e-01],\n",
       "         [7.14892551e-01],\n",
       "         [2.28476334e-01],\n",
       "         [2.28476334e-01],\n",
       "         [9.96430656e-01],\n",
       "         [9.96430656e-01],\n",
       "         [9.32073000e-01],\n",
       "         [9.32073000e-01],\n",
       "         [4.07859875e-01],\n",
       "         [4.07859875e-01],\n",
       "         [9.76078246e-01],\n",
       "         [9.76078246e-01],\n",
       "         [3.36157085e-01],\n",
       "         [3.36157085e-01],\n",
       "         [8.42040932e-01],\n",
       "         [8.42040932e-01]])}}"
      ]
     },
     "execution_count": 1,
     "metadata": {},
     "output_type": "execute_result"
    }
   ],
   "source": [
    "ds = load_by_id(run_id_a)\n",
    "ds.get_parameter_data('x1')"
   ]
  },
  {
   "cell_type": "code",
   "execution_count": null,
   "metadata": {},
   "outputs": [],
   "source": []
  }
 ],
 "metadata": {
  "kernelspec": {
   "display_name": "Python 3",
   "language": "python",
   "name": "python3"
  },
  "language_info": {
   "codemirror_mode": {
    "name": "ipython",
    "version": 3
   },
   "file_extension": ".py",
   "mimetype": "text/x-python",
   "name": "python",
   "nbconvert_exporter": "python",
   "pygments_lexer": "ipython3",
   "version": "3.7.9"
  },
  "nbsphinx": {
   "timeout": 600
  },
  "toc": {
   "base_numbering": 1,
   "nav_menu": {},
   "number_sections": true,
   "sideBar": true,
   "skip_h1_title": false,
   "title_cell": "Table of Contents",
   "title_sidebar": "Contents",
   "toc_cell": false,
   "toc_position": {},
   "toc_section_display": true,
   "toc_window_display": false
  },
  "varInspector": {
   "cols": {
    "lenName": 16,
    "lenType": 16,
    "lenVar": 40
   },
   "kernels_config": {
    "python": {
     "delete_cmd_postfix": "",
     "delete_cmd_prefix": "del ",
     "library": "var_list.py",
     "varRefreshCmd": "print(var_dic_list())"
    },
    "r": {
     "delete_cmd_postfix": ") ",
     "delete_cmd_prefix": "rm(",
     "library": "var_list.r",
     "varRefreshCmd": "cat(var_dic_list()) "
    }
   },
   "types_to_exclude": [
    "module",
    "function",
    "builtin_function_or_method",
    "instance",
    "_Feature"
   ],
   "window_display": false
  }
 },
 "nbformat": 4,
 "nbformat_minor": 2
}
