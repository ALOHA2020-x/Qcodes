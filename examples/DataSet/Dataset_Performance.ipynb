{
 "cells": [
  {
   "cell_type": "markdown",
   "metadata": {},
   "source": [
    "# DataSet Performance\n",
    "\n",
    "This notebook shows the trade-off between inserting data into a database row-by-row and as binary blobs. Inserting the data row-by-row means that we have direct access to all the data and may perform queries directly on the values of the data. On the other hand, as we shall see, this is much slower than inserting the data directly as binary blobs."
   ]
  },
  {
   "cell_type": "markdown",
   "metadata": {},
   "source": [
    "First, we choose a new location for the database to ensure that we don't add a bunch of benchmarking data to the default one."
   ]
  },
  {
   "cell_type": "code",
   "execution_count": 1,
   "metadata": {
    "execution": {
     "iopub.execute_input": "2021-01-01T09:19:43.500401Z",
     "iopub.status.busy": "2021-01-01T09:19:43.500005Z",
     "iopub.status.idle": "2021-01-01T09:19:44.359175Z",
     "shell.execute_reply": "2021-01-01T09:19:44.358759Z"
    }
   },
   "outputs": [
    {
     "name": "stdout",
     "output_type": "stream",
     "text": [
      "Logging hadn't been started.\n",
      "Activating auto-logging. Current session state plus future input saved.\n",
      "Filename       : /home/vsts/.qcodes/logs/command_history.log\n",
      "Mode           : append\n",
      "Output logging : True\n",
      "Raw input log  : False\n",
      "Timestamping   : True\n",
      "State          : active\n"
     ]
    },
    {
     "name": "stdout",
     "output_type": "stream",
     "text": [
      "Qcodes Logfile : /home/vsts/.qcodes/logs/210101-13335-qcodes.log\n"
     ]
    }
   ],
   "source": [
    "import os\n",
    "cwd = os.getcwd()\n",
    "import qcodes as qc\n",
    "qc.config[\"core\"][\"db_location\"] = os.path.join(cwd, 'testing.db')\n"
   ]
  },
  {
   "cell_type": "code",
   "execution_count": 2,
   "metadata": {
    "execution": {
     "iopub.execute_input": "2021-01-01T09:19:44.364332Z",
     "iopub.status.busy": "2021-01-01T09:19:44.363804Z",
     "iopub.status.idle": "2021-01-01T09:19:44.520017Z",
     "shell.execute_reply": "2021-01-01T09:19:44.519039Z"
    }
   },
   "outputs": [],
   "source": [
    "%matplotlib inline\n",
    "import time\n",
    "import matplotlib.pyplot as plt\n",
    "import numpy as np\n",
    "\n",
    "import qcodes as qc\n",
    "from qcodes.instrument.parameter import ManualParameter\n",
    "from qcodes.dataset.experiment_container import (Experiment,\n",
    "                                                 load_last_experiment,\n",
    "                                                 new_experiment)\n",
    "from qcodes.dataset.sqlite.database import initialise_database\n",
    "from qcodes import load_or_create_experiment\n",
    "from qcodes.dataset.measurements import Measurement"
   ]
  },
  {
   "cell_type": "code",
   "execution_count": 3,
   "metadata": {
    "execution": {
     "iopub.execute_input": "2021-01-01T09:19:44.523189Z",
     "iopub.status.busy": "2021-01-01T09:19:44.522727Z",
     "iopub.status.idle": "2021-01-01T09:19:44.623121Z",
     "shell.execute_reply": "2021-01-01T09:19:44.623567Z"
    }
   },
   "outputs": [
    {
     "name": "stdout",
     "output_type": "stream",
     "text": [
      "\r",
      "0it [00:00, ?it/s]"
     ]
    },
    {
     "name": "stdout",
     "output_type": "stream",
     "text": [
      "\r",
      "Upgrading database; v0 -> v1: : 0it [00:00, ?it/s]"
     ]
    },
    {
     "name": "stdout",
     "output_type": "stream",
     "text": [
      "\r",
      "Upgrading database; v0 -> v1: : 0it [00:00, ?it/s]"
     ]
    },
    {
     "name": "stdout",
     "output_type": "stream",
     "text": [
      "\n",
      "\r",
      "  0%|          | 0/1 [00:00<?, ?it/s]"
     ]
    },
    {
     "name": "stdout",
     "output_type": "stream",
     "text": [
      "\r",
      "Upgrading database; v1 -> v2:   0%|          | 0/1 [00:00<?, ?it/s]"
     ]
    },
    {
     "name": "stdout",
     "output_type": "stream",
     "text": [
      "\r",
      "Upgrading database; v1 -> v2: 100%|██████████| 1/1 [00:00<00:00, 747.38it/s]"
     ]
    },
    {
     "name": "stdout",
     "output_type": "stream",
     "text": [
      "\n",
      "\r",
      "0it [00:00, ?it/s]"
     ]
    },
    {
     "name": "stdout",
     "output_type": "stream",
     "text": [
      "\r",
      "Upgrading database; v2 -> v3: : 0it [00:00, ?it/s]"
     ]
    },
    {
     "name": "stdout",
     "output_type": "stream",
     "text": [
      "\r",
      "Upgrading database; v2 -> v3: : 0it [00:00, ?it/s]"
     ]
    },
    {
     "name": "stdout",
     "output_type": "stream",
     "text": [
      "\n",
      "\r",
      "0it [00:00, ?it/s]"
     ]
    },
    {
     "name": "stdout",
     "output_type": "stream",
     "text": [
      "\r",
      "Upgrading database; v3 -> v4: : 0it [00:00, ?it/s]"
     ]
    },
    {
     "name": "stdout",
     "output_type": "stream",
     "text": [
      "\r",
      "Upgrading database; v3 -> v4: : 0it [00:00, ?it/s]"
     ]
    },
    {
     "name": "stdout",
     "output_type": "stream",
     "text": [
      "\n",
      "\r",
      "  0%|          | 0/1 [00:00<?, ?it/s]"
     ]
    },
    {
     "name": "stdout",
     "output_type": "stream",
     "text": [
      "\r",
      "Upgrading database; v4 -> v5:   0%|          | 0/1 [00:00<?, ?it/s]"
     ]
    },
    {
     "name": "stdout",
     "output_type": "stream",
     "text": [
      "\r",
      "Upgrading database; v4 -> v5: 100%|██████████| 1/1 [00:00<00:00, 473.24it/s]"
     ]
    },
    {
     "name": "stdout",
     "output_type": "stream",
     "text": [
      "\n",
      "\r",
      "0it [00:00, ?it/s]"
     ]
    },
    {
     "name": "stdout",
     "output_type": "stream",
     "text": [
      "\r",
      "Upgrading database; v5 -> v6: : 0it [00:00, ?it/s]"
     ]
    },
    {
     "name": "stdout",
     "output_type": "stream",
     "text": [
      "\r",
      "Upgrading database; v5 -> v6: : 0it [00:00, ?it/s]"
     ]
    },
    {
     "name": "stdout",
     "output_type": "stream",
     "text": [
      "\n",
      "\r",
      "  0%|          | 0/1 [00:00<?, ?it/s]"
     ]
    },
    {
     "name": "stdout",
     "output_type": "stream",
     "text": [
      "\r",
      "Upgrading database; v6 -> v7:   0%|          | 0/1 [00:00<?, ?it/s]"
     ]
    },
    {
     "name": "stdout",
     "output_type": "stream",
     "text": [
      "\r",
      "Upgrading database; v6 -> v7: 100%|██████████| 1/1 [00:00<00:00, 300.71it/s]"
     ]
    },
    {
     "name": "stdout",
     "output_type": "stream",
     "text": [
      "\n",
      "\r",
      "  0%|          | 0/1 [00:00<?, ?it/s]"
     ]
    },
    {
     "name": "stdout",
     "output_type": "stream",
     "text": [
      "\r",
      "Upgrading database; v7 -> v8:   0%|          | 0/1 [00:00<?, ?it/s]"
     ]
    },
    {
     "name": "stdout",
     "output_type": "stream",
     "text": [
      "\r",
      "Upgrading database; v7 -> v8: 100%|██████████| 1/1 [00:00<00:00, 616.63it/s]"
     ]
    },
    {
     "name": "stdout",
     "output_type": "stream",
     "text": [
      "\n",
      "\r",
      "  0%|          | 0/1 [00:00<?, ?it/s]"
     ]
    },
    {
     "name": "stdout",
     "output_type": "stream",
     "text": [
      "\r",
      "Upgrading database; v8 -> v9:   0%|          | 0/1 [00:00<?, ?it/s]"
     ]
    },
    {
     "name": "stdout",
     "output_type": "stream",
     "text": [
      "\r",
      "Upgrading database; v8 -> v9: 100%|██████████| 1/1 [00:00<00:00, 653.52it/s]"
     ]
    },
    {
     "name": "stdout",
     "output_type": "stream",
     "text": [
      "\n"
     ]
    }
   ],
   "source": [
    "initialise_database()\n",
    "exp = load_or_create_experiment(experiment_name='tutorial_exp', sample_name=\"no sample\")"
   ]
  },
  {
   "cell_type": "markdown",
   "metadata": {},
   "source": [
    "Here, we define a simple function to benchmark the time it takes to insert n points with either numeric or array data type.\n",
    "We will compare both the time used to call ``add_result`` and the time used for the full measurement."
   ]
  },
  {
   "cell_type": "code",
   "execution_count": 4,
   "metadata": {
    "execution": {
     "iopub.execute_input": "2021-01-01T09:19:44.631386Z",
     "iopub.status.busy": "2021-01-01T09:19:44.630883Z",
     "iopub.status.idle": "2021-01-01T09:19:44.634216Z",
     "shell.execute_reply": "2021-01-01T09:19:44.634607Z"
    }
   },
   "outputs": [],
   "source": [
    "def insert_data(paramtype, npoints, nreps=1):\n",
    "\n",
    "    meas = Measurement(exp=exp)\n",
    "\n",
    "    x1 = ManualParameter('x1')\n",
    "    x2 = ManualParameter('x2')\n",
    "    x3 = ManualParameter('x3')\n",
    "    y1 = ManualParameter('y1')\n",
    "    y2 = ManualParameter('y2')\n",
    "\n",
    "    meas.register_parameter(x1, paramtype=paramtype)\n",
    "    meas.register_parameter(x2, paramtype=paramtype)\n",
    "    meas.register_parameter(x3, paramtype=paramtype)\n",
    "    meas.register_parameter(y1, setpoints=[x1, x2, x3],\n",
    "                            paramtype=paramtype)\n",
    "    meas.register_parameter(y2, setpoints=[x1, x2, x3],\n",
    "                            paramtype=paramtype)\n",
    "    start = time.perf_counter()\n",
    "    with meas.run() as datasaver:\n",
    "        start_adding = time.perf_counter()\n",
    "        for i in range(nreps):\n",
    "            datasaver.add_result((x1, np.random.rand(npoints)),\n",
    "                                 (x2, np.random.rand(npoints)),\n",
    "                                 (x3, np.random.rand(npoints)),\n",
    "                                 (y1, np.random.rand(npoints)),\n",
    "                                 (y2, np.random.rand(npoints)))\n",
    "        stop_adding = time.perf_counter()\n",
    "        run_id = datasaver.run_id\n",
    "    stop = time.perf_counter()\n",
    "    tot_time = stop - start\n",
    "    add_time = stop_adding - start_adding\n",
    "    return tot_time, add_time, run_id"
   ]
  },
  {
   "cell_type": "markdown",
   "metadata": {},
   "source": [
    "## Comparison between numeric/array data and binary blob"
   ]
  },
  {
   "cell_type": "markdown",
   "metadata": {},
   "source": [
    "### Case1: Short experiment time"
   ]
  },
  {
   "cell_type": "code",
   "execution_count": 5,
   "metadata": {
    "execution": {
     "iopub.execute_input": "2021-01-01T09:19:44.640189Z",
     "iopub.status.busy": "2021-01-01T09:19:44.639338Z",
     "iopub.status.idle": "2021-01-01T09:19:45.323581Z",
     "shell.execute_reply": "2021-01-01T09:19:45.322735Z"
    }
   },
   "outputs": [
    {
     "name": "stdout",
     "output_type": "stream",
     "text": [
      "Starting experimental run with id: 1. \n",
      "Starting experimental run with id: 2. \n",
      "Starting experimental run with id: 3. \n",
      "Starting experimental run with id: 4. \n",
      "Starting experimental run with id: 5. \n",
      "Starting experimental run with id: 6. \n"
     ]
    },
    {
     "name": "stdout",
     "output_type": "stream",
     "text": [
      "Starting experimental run with id: 7. \n"
     ]
    },
    {
     "name": "stdout",
     "output_type": "stream",
     "text": [
      "Starting experimental run with id: 8. \n"
     ]
    },
    {
     "name": "stdout",
     "output_type": "stream",
     "text": [
      "Starting experimental run with id: 9. \n",
      "Starting experimental run with id: 10. \n",
      "Starting experimental run with id: 11. \n"
     ]
    },
    {
     "name": "stdout",
     "output_type": "stream",
     "text": [
      "Starting experimental run with id: 12. \n",
      "Starting experimental run with id: 13. \n"
     ]
    },
    {
     "name": "stdout",
     "output_type": "stream",
     "text": [
      "Starting experimental run with id: 14. \n"
     ]
    }
   ],
   "source": [
    "sizes = [1,500,1000,2000,3000,4000,5000]\n",
    "t_numeric = []\n",
    "t_numeric_add = []\n",
    "t_array = []\n",
    "t_array_add = []\n",
    "for size in sizes:\n",
    "    tn, tna, run_id_n =  insert_data('numeric', size)\n",
    "    t_numeric.append(tn)\n",
    "    t_numeric_add.append(tna)\n",
    "\n",
    "    ta, taa, run_id_a =  insert_data('array', size)\n",
    "    t_array.append(ta)\n",
    "    t_array_add.append(taa)"
   ]
  },
  {
   "cell_type": "code",
   "execution_count": 6,
   "metadata": {
    "execution": {
     "iopub.execute_input": "2021-01-01T09:19:45.337744Z",
     "iopub.status.busy": "2021-01-01T09:19:45.328106Z",
     "iopub.status.idle": "2021-01-01T09:19:45.487629Z",
     "shell.execute_reply": "2021-01-01T09:19:45.488050Z"
    }
   },
   "outputs": [
    {
     "data": {
      "image/png": "[encoded data removed]",
      "text/plain": [
       "<Figure size 432x288 with 1 Axes>"
      ]
     },
     "metadata": {
      "needs_background": "light"
     },
     "output_type": "display_data"
    }
   ],
   "source": [
    "fig, ax = plt.subplots(1,1)\n",
    "ax.plot(sizes, t_numeric, 'o-', label='Inserting row-by-row')\n",
    "ax.plot(sizes, t_numeric_add, 'o-', label='Inserting row-by-row: add_result only')\n",
    "ax.plot(sizes, t_array, 'd-', label='Inserting as binary blob')\n",
    "ax.plot(sizes, t_array_add, 'd-', label='Inserting as binary blob: add_result only')\n",
    "ax.legend()\n",
    "ax.set_xlabel('Array length')\n",
    "ax.set_ylabel('Time (s)')\n",
    "fig.tight_layout()"
   ]
  },
  {
   "cell_type": "markdown",
   "metadata": {},
   "source": [
    "As shown in the latter figure, the time to setup and and close the experiment is approximately 0.4 sec. In case of small array sizes, the difference between inserting values of data as arrays and inserting them row-by-row is relatively unimportant. At larger array sizes, i.e. above 10000 points, the cost of writing data as individual datapoints starts to become important.\n"
   ]
  },
  {
   "cell_type": "markdown",
   "metadata": {},
   "source": [
    "### Case2: Long experiment time "
   ]
  },
  {
   "cell_type": "code",
   "execution_count": 7,
   "metadata": {
    "execution": {
     "iopub.execute_input": "2021-01-01T09:19:45.490360Z",
     "iopub.status.busy": "2021-01-01T09:19:45.489936Z",
     "iopub.status.idle": "2021-01-01T09:20:34.374885Z",
     "shell.execute_reply": "2021-01-01T09:20:34.373859Z"
    }
   },
   "outputs": [
    {
     "name": "stdout",
     "output_type": "stream",
     "text": [
      "Starting experimental run with id: 15. \n",
      "Starting experimental run with id: 16. \n",
      "Starting experimental run with id: 17. \n"
     ]
    },
    {
     "name": "stdout",
     "output_type": "stream",
     "text": [
      "Starting experimental run with id: 18. \n",
      "Starting experimental run with id: 19. \n"
     ]
    },
    {
     "name": "stdout",
     "output_type": "stream",
     "text": [
      "Starting experimental run with id: 20. \n"
     ]
    },
    {
     "name": "stdout",
     "output_type": "stream",
     "text": [
      "Starting experimental run with id: 21. \n"
     ]
    },
    {
     "name": "stdout",
     "output_type": "stream",
     "text": [
      "Starting experimental run with id: 22. \n"
     ]
    },
    {
     "name": "stdout",
     "output_type": "stream",
     "text": [
      "Starting experimental run with id: 23. \n"
     ]
    },
    {
     "name": "stdout",
     "output_type": "stream",
     "text": [
      "Starting experimental run with id: 24. \n"
     ]
    },
    {
     "name": "stdout",
     "output_type": "stream",
     "text": [
      "Starting experimental run with id: 25. \n"
     ]
    },
    {
     "name": "stdout",
     "output_type": "stream",
     "text": [
      "Starting experimental run with id: 26. \n"
     ]
    },
    {
     "name": "stdout",
     "output_type": "stream",
     "text": [
      "Starting experimental run with id: 27. \n"
     ]
    },
    {
     "name": "stdout",
     "output_type": "stream",
     "text": [
      "Starting experimental run with id: 28. \n"
     ]
    }
   ],
   "source": [
    "sizes = [1,500,1000,2000,3000,4000,5000]\n",
    "nreps = 100\n",
    "t_numeric = []\n",
    "t_numeric_add = []\n",
    "t_numeric_run_ids = []\n",
    "t_array = []\n",
    "t_array_add = []\n",
    "t_array_run_ids = []\n",
    "for size in sizes:\n",
    "    tn, tna, run_id_n =  insert_data('numeric', size, nreps=nreps)\n",
    "    t_numeric.append(tn)\n",
    "    t_numeric_add.append(tna)\n",
    "    t_numeric_run_ids.append(run_id_n)\n",
    "\n",
    "    ta, taa, run_id_a =  insert_data('array', size, nreps=nreps)\n",
    "    t_array.append(ta)\n",
    "    t_array_add.append(taa)\n",
    "    t_array_run_ids.append(run_id_a)"
   ]
  },
  {
   "cell_type": "code",
   "execution_count": 8,
   "metadata": {
    "execution": {
     "iopub.execute_input": "2021-01-01T09:20:34.380557Z",
     "iopub.status.busy": "2021-01-01T09:20:34.380176Z",
     "iopub.status.idle": "2021-01-01T09:20:34.527877Z",
     "shell.execute_reply": "2021-01-01T09:20:34.528258Z"
    },
    "scrolled": true
   },
   "outputs": [
    {
     "data": {
      "image/png": "[encoded data removed]",
      "text/plain": [
       "<Figure size 432x288 with 1 Axes>"
      ]
     },
     "metadata": {
      "needs_background": "light"
     },
     "output_type": "display_data"
    }
   ],
   "source": [
    "fig, ax = plt.subplots(1,1)\n",
    "ax.plot(sizes, t_numeric, 'o-', label='Inserting row-by-row')\n",
    "ax.plot(sizes, t_numeric_add, 'o-', label='Inserting row-by-row: add_result only')\n",
    "ax.plot(sizes, t_array, 'd-', label='Inserting as binary blob')\n",
    "ax.plot(sizes, t_array_add, 'd-', label='Inserting as binary blob: add_result only')\n",
    "ax.legend()\n",
    "ax.set_xlabel('Array length')\n",
    "ax.set_ylabel('Time (s)')\n",
    "fig.tight_layout()"
   ]
  },
  {
   "cell_type": "markdown",
   "metadata": {},
   "source": [
    "However, as we increase the length of the experiment, as seen here by repeating the insertion 100 times, we see a big difference between inserting values of the data row-by-row and inserting it as a binary blob."
   ]
  },
  {
   "cell_type": "markdown",
   "metadata": {},
   "source": [
    "## Loading the data "
   ]
  },
  {
   "cell_type": "code",
   "execution_count": 9,
   "metadata": {
    "execution": {
     "iopub.execute_input": "2021-01-01T09:20:34.531140Z",
     "iopub.status.busy": "2021-01-01T09:20:34.530450Z",
     "iopub.status.idle": "2021-01-01T09:20:34.532451Z",
     "shell.execute_reply": "2021-01-01T09:20:34.532863Z"
    }
   },
   "outputs": [],
   "source": [
    "from qcodes.dataset.data_set import load_by_id\n",
    "from qcodes.dataset.data_export import get_data_by_id"
   ]
  },
  {
   "cell_type": "markdown",
   "metadata": {},
   "source": [
    "As usual you can load the data by using the ``load_by_id`` function but you will notice that the different storage methods\n",
    "are reflected in shape of the data as it is retrieved. "
   ]
  },
  {
   "cell_type": "code",
   "execution_count": 10,
   "metadata": {
    "execution": {
     "iopub.execute_input": "2021-01-01T09:20:34.535094Z",
     "iopub.status.busy": "2021-01-01T09:20:34.534740Z",
     "iopub.status.idle": "2021-01-01T09:20:34.536902Z",
     "shell.execute_reply": "2021-01-01T09:20:34.537468Z"
    }
   },
   "outputs": [],
   "source": [
    "run_id_n = t_numeric_run_ids[0]\n",
    "run_id_a = t_array_run_ids[0]"
   ]
  },
  {
   "cell_type": "code",
   "execution_count": 11,
   "metadata": {
    "execution": {
     "iopub.execute_input": "2021-01-01T09:20:34.540021Z",
     "iopub.status.busy": "2021-01-01T09:20:34.539091Z",
     "iopub.status.idle": "2021-01-01T09:20:34.546500Z",
     "shell.execute_reply": "2021-01-01T09:20:34.546900Z"
    },
    "scrolled": true
   },
   "outputs": [
    {
     "data": {
      "text/plain": [
       "{'x1': {'x1': array([0.36377436, 0.36377436, 0.30509836, 0.30509836, 0.11426366,\n",
       "         0.11426366, 0.77039519, 0.77039519, 0.62759161, 0.62759161,\n",
       "         0.80074047, 0.80074047, 0.02654406, 0.02654406, 0.53495224,\n",
       "         0.53495224, 0.57162562, 0.57162562, 0.04051514, 0.04051514,\n",
       "         0.9974165 , 0.9974165 , 0.65545501, 0.65545501, 0.374318  ,\n",
       "         0.374318  , 0.95693189, 0.95693189, 0.15698893, 0.15698893,\n",
       "         0.28472791, 0.28472791, 0.39992095, 0.39992095, 0.8121188 ,\n",
       "         0.8121188 , 0.82302789, 0.82302789, 0.83061277, 0.83061277,\n",
       "         0.78670321, 0.78670321, 0.73782662, 0.73782662, 0.59203163,\n",
       "         0.59203163, 0.16625946, 0.16625946, 0.98651608, 0.98651608,\n",
       "         0.47674351, 0.47674351, 0.8633629 , 0.8633629 , 0.19251059,\n",
       "         0.19251059, 0.86229947, 0.86229947, 0.49807876, 0.49807876,\n",
       "         0.60434148, 0.60434148, 0.61605493, 0.61605493, 0.52183751,\n",
       "         0.52183751, 0.89815167, 0.89815167, 0.97431602, 0.97431602,\n",
       "         0.66667578, 0.66667578, 0.14766295, 0.14766295, 0.58685842,\n",
       "         0.58685842, 0.9490554 , 0.9490554 , 0.61302763, 0.61302763,\n",
       "         0.58072029, 0.58072029, 0.87386861, 0.87386861, 0.96080174,\n",
       "         0.96080174, 0.52571371, 0.52571371, 0.61369993, 0.61369993,\n",
       "         0.61787318, 0.61787318, 0.84842503, 0.84842503, 0.11638616,\n",
       "         0.11638616, 0.24258286, 0.24258286, 0.38247198, 0.38247198,\n",
       "         0.19317262, 0.19317262, 0.95293522, 0.95293522, 0.29579939,\n",
       "         0.29579939, 0.32445569, 0.32445569, 0.80659115, 0.80659115,\n",
       "         0.29921817, 0.29921817, 0.21595551, 0.21595551, 0.08269576,\n",
       "         0.08269576, 0.78490814, 0.78490814, 0.97593609, 0.97593609,\n",
       "         0.72097023, 0.72097023, 0.60579656, 0.60579656, 0.98192208,\n",
       "         0.98192208, 0.18320217, 0.18320217, 0.04212163, 0.04212163,\n",
       "         0.87696578, 0.87696578, 0.75229909, 0.75229909, 0.06846947,\n",
       "         0.06846947, 0.44013655, 0.44013655, 0.32932441, 0.32932441,\n",
       "         0.97051873, 0.97051873, 0.02007949, 0.02007949, 0.1313716 ,\n",
       "         0.1313716 , 0.67207885, 0.67207885, 0.24321558, 0.24321558,\n",
       "         0.16941972, 0.16941972, 0.90304131, 0.90304131, 0.56618777,\n",
       "         0.56618777, 0.83346014, 0.83346014, 0.44285511, 0.44285511,\n",
       "         0.05940934, 0.05940934, 0.70780761, 0.70780761, 0.74784598,\n",
       "         0.74784598, 0.41995332, 0.41995332, 0.71377237, 0.71377237,\n",
       "         0.54728728, 0.54728728, 0.25839161, 0.25839161, 0.76730362,\n",
       "         0.76730362, 0.14899267, 0.14899267, 0.47603754, 0.47603754,\n",
       "         0.60931334, 0.60931334, 0.54186135, 0.54186135, 0.79346505,\n",
       "         0.79346505, 0.6877878 , 0.6877878 , 0.4344015 , 0.4344015 ,\n",
       "         0.91310527, 0.91310527, 0.03892107, 0.03892107, 0.75312371,\n",
       "         0.75312371, 0.56682442, 0.56682442, 0.02768544, 0.02768544])}}"
      ]
     },
     "execution_count": 1,
     "metadata": {},
     "output_type": "execute_result"
    }
   ],
   "source": [
    "ds = load_by_id(run_id_n)\n",
    "ds.get_parameter_data('x1')"
   ]
  },
  {
   "cell_type": "markdown",
   "metadata": {},
   "source": [
    "And a dataset stored as binary arrays"
   ]
  },
  {
   "cell_type": "code",
   "execution_count": 12,
   "metadata": {
    "execution": {
     "iopub.execute_input": "2021-01-01T09:20:34.548712Z",
     "iopub.status.busy": "2021-01-01T09:20:34.548312Z",
     "iopub.status.idle": "2021-01-01T09:20:34.590687Z",
     "shell.execute_reply": "2021-01-01T09:20:34.590374Z"
    },
    "scrolled": true
   },
   "outputs": [
    {
     "data": {
      "text/plain": [
       "{'x1': {'x1': array([[5.59908107e-01],\n",
       "         [5.59908107e-01],\n",
       "         [4.12200437e-01],\n",
       "         [4.12200437e-01],\n",
       "         [4.40733167e-01],\n",
       "         [4.40733167e-01],\n",
       "         [8.80533083e-01],\n",
       "         [8.80533083e-01],\n",
       "         [6.05445112e-01],\n",
       "         [6.05445112e-01],\n",
       "         [6.71057175e-01],\n",
       "         [6.71057175e-01],\n",
       "         [4.01353279e-01],\n",
       "         [4.01353279e-01],\n",
       "         [3.93151926e-01],\n",
       "         [3.93151926e-01],\n",
       "         [6.35580549e-01],\n",
       "         [6.35580549e-01],\n",
       "         [3.97862790e-01],\n",
       "         [3.97862790e-01],\n",
       "         [9.18855134e-01],\n",
       "         [9.18855134e-01],\n",
       "         [3.81366163e-01],\n",
       "         [3.81366163e-01],\n",
       "         [5.54927370e-01],\n",
       "         [5.54927370e-01],\n",
       "         [5.47794968e-01],\n",
       "         [5.47794968e-01],\n",
       "         [3.95327972e-01],\n",
       "         [3.95327972e-01],\n",
       "         [2.62943927e-01],\n",
       "         [2.62943927e-01],\n",
       "         [4.48687518e-02],\n",
       "         [4.48687518e-02],\n",
       "         [3.57745274e-01],\n",
       "         [3.57745274e-01],\n",
       "         [9.38660436e-02],\n",
       "         [9.38660436e-02],\n",
       "         [2.44402342e-01],\n",
       "         [2.44402342e-01],\n",
       "         [2.84039078e-01],\n",
       "         [2.84039078e-01],\n",
       "         [4.81912696e-01],\n",
       "         [4.81912696e-01],\n",
       "         [6.87734872e-01],\n",
       "         [6.87734872e-01],\n",
       "         [4.86979319e-02],\n",
       "         [4.86979319e-02],\n",
       "         [8.92639696e-01],\n",
       "         [8.92639696e-01],\n",
       "         [8.32508882e-01],\n",
       "         [8.32508882e-01],\n",
       "         [2.14288069e-01],\n",
       "         [2.14288069e-01],\n",
       "         [2.13360465e-01],\n",
       "         [2.13360465e-01],\n",
       "         [6.66989643e-01],\n",
       "         [6.66989643e-01],\n",
       "         [8.35362365e-02],\n",
       "         [8.35362365e-02],\n",
       "         [7.83850925e-01],\n",
       "         [7.83850925e-01],\n",
       "         [2.49381396e-01],\n",
       "         [2.49381396e-01],\n",
       "         [7.53635882e-01],\n",
       "         [7.53635882e-01],\n",
       "         [5.44635163e-01],\n",
       "         [5.44635163e-01],\n",
       "         [5.45174793e-01],\n",
       "         [5.45174793e-01],\n",
       "         [9.79217897e-02],\n",
       "         [9.79217897e-02],\n",
       "         [9.22369102e-01],\n",
       "         [9.22369102e-01],\n",
       "         [3.84261014e-01],\n",
       "         [3.84261014e-01],\n",
       "         [7.00118809e-01],\n",
       "         [7.00118809e-01],\n",
       "         [2.52799628e-01],\n",
       "         [2.52799628e-01],\n",
       "         [8.03476612e-01],\n",
       "         [8.03476612e-01],\n",
       "         [9.62706770e-02],\n",
       "         [9.62706770e-02],\n",
       "         [2.61083804e-01],\n",
       "         [2.61083804e-01],\n",
       "         [7.20323183e-01],\n",
       "         [7.20323183e-01],\n",
       "         [9.00619297e-02],\n",
       "         [9.00619297e-02],\n",
       "         [1.90066054e-01],\n",
       "         [1.90066054e-01],\n",
       "         [1.72598068e-01],\n",
       "         [1.72598068e-01],\n",
       "         [5.45919275e-01],\n",
       "         [5.45919275e-01],\n",
       "         [4.65606020e-01],\n",
       "         [4.65606020e-01],\n",
       "         [2.76394303e-02],\n",
       "         [2.76394303e-02],\n",
       "         [6.69831567e-01],\n",
       "         [6.69831567e-01],\n",
       "         [1.26933126e-01],\n",
       "         [1.26933126e-01],\n",
       "         [6.12803438e-01],\n",
       "         [6.12803438e-01],\n",
       "         [3.33552521e-05],\n",
       "         [3.33552521e-05],\n",
       "         [6.28042208e-01],\n",
       "         [6.28042208e-01],\n",
       "         [1.95634906e-01],\n",
       "         [1.95634906e-01],\n",
       "         [3.27760915e-01],\n",
       "         [3.27760915e-01],\n",
       "         [4.95444486e-01],\n",
       "         [4.95444486e-01],\n",
       "         [4.46288699e-02],\n",
       "         [4.46288699e-02],\n",
       "         [2.48321680e-01],\n",
       "         [2.48321680e-01],\n",
       "         [4.05990548e-01],\n",
       "         [4.05990548e-01],\n",
       "         [9.20445290e-01],\n",
       "         [9.20445290e-01],\n",
       "         [5.90986453e-01],\n",
       "         [5.90986453e-01],\n",
       "         [7.26314186e-01],\n",
       "         [7.26314186e-01],\n",
       "         [8.79029136e-01],\n",
       "         [8.79029136e-01],\n",
       "         [4.81363909e-01],\n",
       "         [4.81363909e-01],\n",
       "         [3.00382514e-01],\n",
       "         [3.00382514e-01],\n",
       "         [7.62770373e-01],\n",
       "         [7.62770373e-01],\n",
       "         [3.24399618e-01],\n",
       "         [3.24399618e-01],\n",
       "         [6.41212120e-01],\n",
       "         [6.41212120e-01],\n",
       "         [8.01857066e-01],\n",
       "         [8.01857066e-01],\n",
       "         [6.09705864e-01],\n",
       "         [6.09705864e-01],\n",
       "         [9.66064087e-01],\n",
       "         [9.66064087e-01],\n",
       "         [6.37078463e-01],\n",
       "         [6.37078463e-01],\n",
       "         [1.41277587e-01],\n",
       "         [1.41277587e-01],\n",
       "         [4.67975015e-01],\n",
       "         [4.67975015e-01],\n",
       "         [9.60385022e-02],\n",
       "         [9.60385022e-02],\n",
       "         [4.85426934e-01],\n",
       "         [4.85426934e-01],\n",
       "         [4.17189474e-01],\n",
       "         [4.17189474e-01],\n",
       "         [3.18113195e-01],\n",
       "         [3.18113195e-01],\n",
       "         [7.30849336e-01],\n",
       "         [7.30849336e-01],\n",
       "         [1.25480022e-01],\n",
       "         [1.25480022e-01],\n",
       "         [6.48931771e-01],\n",
       "         [6.48931771e-01],\n",
       "         [2.67730019e-01],\n",
       "         [2.67730019e-01],\n",
       "         [1.10209749e-01],\n",
       "         [1.10209749e-01],\n",
       "         [1.04485491e-01],\n",
       "         [1.04485491e-01],\n",
       "         [3.15069773e-01],\n",
       "         [3.15069773e-01],\n",
       "         [1.26286337e-01],\n",
       "         [1.26286337e-01],\n",
       "         [1.40813796e-01],\n",
       "         [1.40813796e-01],\n",
       "         [5.52180868e-01],\n",
       "         [5.52180868e-01],\n",
       "         [3.55704747e-01],\n",
       "         [3.55704747e-01],\n",
       "         [2.69715039e-01],\n",
       "         [2.69715039e-01],\n",
       "         [7.73981425e-01],\n",
       "         [7.73981425e-01],\n",
       "         [3.30333322e-01],\n",
       "         [3.30333322e-01],\n",
       "         [7.97686702e-01],\n",
       "         [7.97686702e-01],\n",
       "         [7.94229264e-01],\n",
       "         [7.94229264e-01],\n",
       "         [7.36855842e-01],\n",
       "         [7.36855842e-01],\n",
       "         [5.73083921e-01],\n",
       "         [5.73083921e-01],\n",
       "         [6.44772420e-01],\n",
       "         [6.44772420e-01],\n",
       "         [5.88507167e-01],\n",
       "         [5.88507167e-01]])}}"
      ]
     },
     "execution_count": 1,
     "metadata": {},
     "output_type": "execute_result"
    }
   ],
   "source": [
    "ds = load_by_id(run_id_a)\n",
    "ds.get_parameter_data('x1')"
   ]
  },
  {
   "cell_type": "code",
   "execution_count": null,
   "metadata": {},
   "outputs": [],
   "source": []
  }
 ],
 "metadata": {
  "kernelspec": {
   "display_name": "Python 3",
   "language": "python",
   "name": "python3"
  },
  "language_info": {
   "codemirror_mode": {
    "name": "ipython",
    "version": 3
   },
   "file_extension": ".py",
   "mimetype": "text/x-python",
   "name": "python",
   "nbconvert_exporter": "python",
   "pygments_lexer": "ipython3",
   "version": "3.7.9"
  },
  "nbsphinx": {
   "timeout": 600
  },
  "toc": {
   "base_numbering": 1,
   "nav_menu": {},
   "number_sections": true,
   "sideBar": true,
   "skip_h1_title": false,
   "title_cell": "Table of Contents",
   "title_sidebar": "Contents",
   "toc_cell": false,
   "toc_position": {},
   "toc_section_display": true,
   "toc_window_display": false
  },
  "varInspector": {
   "cols": {
    "lenName": 16,
    "lenType": 16,
    "lenVar": 40
   },
   "kernels_config": {
    "python": {
     "delete_cmd_postfix": "",
     "delete_cmd_prefix": "del ",
     "library": "var_list.py",
     "varRefreshCmd": "print(var_dic_list())"
    },
    "r": {
     "delete_cmd_postfix": ") ",
     "delete_cmd_prefix": "rm(",
     "library": "var_list.r",
     "varRefreshCmd": "cat(var_dic_list()) "
    }
   },
   "types_to_exclude": [
    "module",
    "function",
    "builtin_function_or_method",
    "instance",
    "_Feature"
   ],
   "window_display": false
  }
 },
 "nbformat": 4,
 "nbformat_minor": 2
}
