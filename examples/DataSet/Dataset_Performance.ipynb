{
 "cells": [
  {
   "cell_type": "markdown",
   "metadata": {},
   "source": [
    "# DataSet Performance\n",
    "\n",
    "This notebook shows the trade-off between inserting data into a database row-by-row and as binary blobs. Inserting the data row-by-row means that we have direct access to all the data and may perform queries directly on the values of the data. On the other hand, as we shall see, this is much slower than inserting the data directly as binary blobs."
   ]
  },
  {
   "cell_type": "markdown",
   "metadata": {},
   "source": [
    "First, we choose a new location for the database to ensure that we don't add a bunch of benchmarking data to the default one."
   ]
  },
  {
   "cell_type": "code",
   "execution_count": 1,
   "metadata": {},
   "outputs": [
    {
     "name": "stdout",
     "output_type": "stream",
     "text": [
      "Logging hadn't been started.\n",
      "Activating auto-logging. Current session state plus future input saved.\n",
      "Filename       : /home/vsts/.qcodes/logs/command_history.log\n",
      "Mode           : append\n",
      "Output logging : True\n",
      "Raw input log  : False\n",
      "Timestamping   : True\n",
      "State          : active\n"
     ]
    },
    {
     "name": "stdout",
     "output_type": "stream",
     "text": [
      "Qcodes Logfile : /home/vsts/.qcodes/logs/200324-18641-qcodes.log\n"
     ]
    }
   ],
   "source": [
    "import os\n",
    "cwd = os.getcwd()\n",
    "import qcodes as qc\n",
    "qc.config[\"core\"][\"db_location\"] = os.path.join(cwd, 'testing.db')\n"
   ]
  },
  {
   "cell_type": "code",
   "execution_count": 2,
   "metadata": {},
   "outputs": [],
   "source": [
    "%matplotlib inline\n",
    "import time\n",
    "import matplotlib.pyplot as plt\n",
    "import numpy as np\n",
    "\n",
    "import qcodes as qc\n",
    "from qcodes.instrument.parameter import ManualParameter\n",
    "from qcodes.dataset.experiment_container import (Experiment,\n",
    "                                                 load_last_experiment,\n",
    "                                                 new_experiment)\n",
    "from qcodes.dataset.sqlite.database import initialise_database\n",
    "from qcodes import load_or_create_experiment\n",
    "from qcodes.dataset.measurements import Measurement"
   ]
  },
  {
   "cell_type": "code",
   "execution_count": 3,
   "metadata": {},
   "outputs": [
    {
     "name": "stdout",
     "output_type": "stream",
     "text": [
      "\r",
      "0it [00:00, ?it/s]"
     ]
    },
    {
     "name": "stdout",
     "output_type": "stream",
     "text": [
      "\r",
      "Upgrading database; v0 -> v1: : 0it [00:00, ?it/s]"
     ]
    },
    {
     "name": "stdout",
     "output_type": "stream",
     "text": [
      "\r",
      "Upgrading database; v0 -> v1: : 0it [00:00, ?it/s]"
     ]
    },
    {
     "name": "stdout",
     "output_type": "stream",
     "text": [
      "\n",
      "\r",
      "  0%|          | 0/1 [00:00<?, ?it/s]"
     ]
    },
    {
     "name": "stdout",
     "output_type": "stream",
     "text": [
      "\r",
      "Upgrading database; v1 -> v2:   0%|          | 0/1 [00:00<?, ?it/s]"
     ]
    },
    {
     "name": "stdout",
     "output_type": "stream",
     "text": [
      "\r",
      "Upgrading database; v1 -> v2: 100%|██████████| 1/1 [00:00<00:00, 1059.70it/s]"
     ]
    },
    {
     "name": "stdout",
     "output_type": "stream",
     "text": [
      "\n",
      "\r",
      "0it [00:00, ?it/s]"
     ]
    },
    {
     "name": "stdout",
     "output_type": "stream",
     "text": [
      "\r",
      "Upgrading database; v2 -> v3: : 0it [00:00, ?it/s]"
     ]
    },
    {
     "name": "stdout",
     "output_type": "stream",
     "text": [
      "\r",
      "Upgrading database; v2 -> v3: : 0it [00:00, ?it/s]"
     ]
    },
    {
     "name": "stdout",
     "output_type": "stream",
     "text": [
      "\n",
      "\r",
      "0it [00:00, ?it/s]"
     ]
    },
    {
     "name": "stdout",
     "output_type": "stream",
     "text": [
      "\r",
      "Upgrading database; v3 -> v4: : 0it [00:00, ?it/s]"
     ]
    },
    {
     "name": "stdout",
     "output_type": "stream",
     "text": [
      "\r",
      "Upgrading database; v3 -> v4: : 0it [00:00, ?it/s]"
     ]
    },
    {
     "name": "stdout",
     "output_type": "stream",
     "text": [
      "\n",
      "\r",
      "  0%|          | 0/1 [00:00<?, ?it/s]"
     ]
    },
    {
     "name": "stdout",
     "output_type": "stream",
     "text": [
      "\r",
      "Upgrading database; v4 -> v5:   0%|          | 0/1 [00:00<?, ?it/s]"
     ]
    },
    {
     "name": "stdout",
     "output_type": "stream",
     "text": [
      "\r",
      "Upgrading database; v4 -> v5: 100%|██████████| 1/1 [00:00<00:00, 953.68it/s]"
     ]
    },
    {
     "name": "stdout",
     "output_type": "stream",
     "text": [
      "\n",
      "\r",
      "0it [00:00, ?it/s]"
     ]
    },
    {
     "name": "stdout",
     "output_type": "stream",
     "text": [
      "\r",
      "Upgrading database; v5 -> v6: : 0it [00:00, ?it/s]"
     ]
    },
    {
     "name": "stdout",
     "output_type": "stream",
     "text": [
      "\r",
      "Upgrading database; v5 -> v6: : 0it [00:00, ?it/s]"
     ]
    },
    {
     "name": "stdout",
     "output_type": "stream",
     "text": [
      "\n",
      "\r",
      "  0%|          | 0/1 [00:00<?, ?it/s]"
     ]
    },
    {
     "name": "stdout",
     "output_type": "stream",
     "text": [
      "\r",
      "Upgrading database; v6 -> v7:   0%|          | 0/1 [00:00<?, ?it/s]"
     ]
    },
    {
     "name": "stdout",
     "output_type": "stream",
     "text": [
      "\r",
      "Upgrading database; v6 -> v7: 100%|██████████| 1/1 [00:00<00:00, 256.69it/s]"
     ]
    },
    {
     "name": "stdout",
     "output_type": "stream",
     "text": [
      "\n",
      "\r",
      "  0%|          | 0/1 [00:00<?, ?it/s]"
     ]
    },
    {
     "name": "stdout",
     "output_type": "stream",
     "text": [
      "\r",
      "Upgrading database; v7 -> v8:   0%|          | 0/1 [00:00<?, ?it/s]"
     ]
    },
    {
     "name": "stdout",
     "output_type": "stream",
     "text": [
      "\r",
      "Upgrading database; v7 -> v8: 100%|██████████| 1/1 [00:00<00:00, 618.08it/s]"
     ]
    },
    {
     "name": "stdout",
     "output_type": "stream",
     "text": [
      "\n",
      "\r",
      "  0%|          | 0/1 [00:00<?, ?it/s]"
     ]
    },
    {
     "name": "stdout",
     "output_type": "stream",
     "text": [
      "\r",
      "Upgrading database; v8 -> v9:   0%|          | 0/1 [00:00<?, ?it/s]"
     ]
    },
    {
     "name": "stdout",
     "output_type": "stream",
     "text": [
      "\r",
      "Upgrading database; v8 -> v9: 100%|██████████| 1/1 [00:00<00:00, 986.66it/s]"
     ]
    },
    {
     "name": "stdout",
     "output_type": "stream",
     "text": [
      "\n"
     ]
    }
   ],
   "source": [
    "initialise_database()\n",
    "exp = load_or_create_experiment(experiment_name='tutorial_exp', sample_name=\"no sample\")"
   ]
  },
  {
   "cell_type": "markdown",
   "metadata": {},
   "source": [
    "Here, we define a simple function to benchmark the time it takes to insert n points with either numeric or array data type.\n",
    "We will compare both the time used to call ``add_result`` and the time used for the full measurement."
   ]
  },
  {
   "cell_type": "code",
   "execution_count": 4,
   "metadata": {},
   "outputs": [],
   "source": [
    "def insert_data(paramtype, npoints, nreps=1):\n",
    "\n",
    "    meas = Measurement(exp=exp)\n",
    "\n",
    "    x1 = ManualParameter('x1')\n",
    "    x2 = ManualParameter('x2')\n",
    "    x3 = ManualParameter('x3')\n",
    "    y1 = ManualParameter('y1')\n",
    "    y2 = ManualParameter('y2')\n",
    "\n",
    "    meas.register_parameter(x1, paramtype=paramtype)\n",
    "    meas.register_parameter(x2, paramtype=paramtype)\n",
    "    meas.register_parameter(x3, paramtype=paramtype)\n",
    "    meas.register_parameter(y1, setpoints=[x1, x2, x3],\n",
    "                            paramtype=paramtype)\n",
    "    meas.register_parameter(y2, setpoints=[x1, x2, x3],\n",
    "                            paramtype=paramtype)\n",
    "    start = time.perf_counter()\n",
    "    with meas.run() as datasaver:\n",
    "        start_adding = time.perf_counter()\n",
    "        for i in range(nreps):\n",
    "            datasaver.add_result((x1, np.random.rand(npoints)),\n",
    "                                 (x2, np.random.rand(npoints)),\n",
    "                                 (x3, np.random.rand(npoints)),\n",
    "                                 (y1, np.random.rand(npoints)),\n",
    "                                 (y2, np.random.rand(npoints)))\n",
    "        stop_adding = time.perf_counter()\n",
    "        run_id = datasaver.run_id\n",
    "    stop = time.perf_counter()\n",
    "    tot_time = stop - start\n",
    "    add_time = stop_adding - start_adding\n",
    "    return tot_time, add_time, run_id"
   ]
  },
  {
   "cell_type": "markdown",
   "metadata": {},
   "source": [
    "## Comparison between numeric/array data and binary blob"
   ]
  },
  {
   "cell_type": "markdown",
   "metadata": {},
   "source": [
    "### Case1: Short experiment time"
   ]
  },
  {
   "cell_type": "code",
   "execution_count": 5,
   "metadata": {},
   "outputs": [
    {
     "name": "stdout",
     "output_type": "stream",
     "text": [
      "Starting experimental run with id: 1. \n",
      "Starting experimental run with id: 2. \n",
      "Starting experimental run with id: 3. \n",
      "Starting experimental run with id: 4. \n"
     ]
    },
    {
     "name": "stdout",
     "output_type": "stream",
     "text": [
      "Starting experimental run with id: 5. \n"
     ]
    },
    {
     "name": "stdout",
     "output_type": "stream",
     "text": [
      "Starting experimental run with id: 6. \n",
      "Starting experimental run with id: 7. \n"
     ]
    },
    {
     "name": "stdout",
     "output_type": "stream",
     "text": [
      "Starting experimental run with id: 8. \n",
      "Starting experimental run with id: 9. \n"
     ]
    },
    {
     "name": "stdout",
     "output_type": "stream",
     "text": [
      "Starting experimental run with id: 10. \n",
      "Starting experimental run with id: 11. \n"
     ]
    },
    {
     "name": "stdout",
     "output_type": "stream",
     "text": [
      "Starting experimental run with id: 12. \n"
     ]
    },
    {
     "name": "stdout",
     "output_type": "stream",
     "text": [
      "Starting experimental run with id: 13. \n",
      "Starting experimental run with id: 14. \n"
     ]
    }
   ],
   "source": [
    "sizes = [1,500,1000,2000,3000,4000,5000]\n",
    "t_numeric = []\n",
    "t_numeric_add = []\n",
    "t_array = []\n",
    "t_array_add = []\n",
    "for size in sizes:\n",
    "    tn, tna, run_id_n =  insert_data('numeric', size)\n",
    "    t_numeric.append(tn)\n",
    "    t_numeric_add.append(tna)\n",
    "\n",
    "    ta, taa, run_id_a =  insert_data('array', size)\n",
    "    t_array.append(ta)\n",
    "    t_array_add.append(taa)"
   ]
  },
  {
   "cell_type": "code",
   "execution_count": 6,
   "metadata": {},
   "outputs": [
    {
     "data": {
      "image/png": "[encoded data removed]",
      "text/plain": [
       "<Figure size 432x288 with 1 Axes>"
      ]
     },
     "metadata": {
      "needs_background": "light"
     },
     "output_type": "display_data"
    }
   ],
   "source": [
    "fig, ax = plt.subplots(1,1)\n",
    "ax.plot(sizes, t_numeric, 'o-', label='Inserting row-by-row')\n",
    "ax.plot(sizes, t_numeric_add, 'o-', label='Inserting row-by-row: add_result only')\n",
    "ax.plot(sizes, t_array, 'd-', label='Inserting as binary blob')\n",
    "ax.plot(sizes, t_array_add, 'd-', label='Inserting as binary blob: add_result only')\n",
    "ax.legend()\n",
    "ax.set_xlabel('Array length')\n",
    "ax.set_ylabel('Time (s)')\n",
    "fig.tight_layout()"
   ]
  },
  {
   "cell_type": "markdown",
   "metadata": {},
   "source": [
    "As shown in the latter figure, the time to setup and and close the experiment is approximately 0.4 sec. In case of small array sizes, the difference between inserting values of data as arrays and inserting them row-by-row is relatively unimportant. At larger array sizes, i.e. above 10000 points, the cost of writing data as individual datapoints starts to become important.\n"
   ]
  },
  {
   "cell_type": "markdown",
   "metadata": {},
   "source": [
    "### Case2: Long experiment time "
   ]
  },
  {
   "cell_type": "code",
   "execution_count": 7,
   "metadata": {},
   "outputs": [
    {
     "name": "stdout",
     "output_type": "stream",
     "text": [
      "Starting experimental run with id: 15. \n",
      "Starting experimental run with id: 16. \n",
      "Starting experimental run with id: 17. \n"
     ]
    },
    {
     "name": "stdout",
     "output_type": "stream",
     "text": [
      "Starting experimental run with id: 18. \n",
      "Starting experimental run with id: 19. \n"
     ]
    },
    {
     "name": "stdout",
     "output_type": "stream",
     "text": [
      "Starting experimental run with id: 20. \n"
     ]
    },
    {
     "name": "stdout",
     "output_type": "stream",
     "text": [
      "Starting experimental run with id: 21. \n"
     ]
    },
    {
     "name": "stdout",
     "output_type": "stream",
     "text": [
      "Starting experimental run with id: 22. \n"
     ]
    },
    {
     "name": "stdout",
     "output_type": "stream",
     "text": [
      "Starting experimental run with id: 23. \n"
     ]
    },
    {
     "name": "stdout",
     "output_type": "stream",
     "text": [
      "Starting experimental run with id: 24. \n"
     ]
    },
    {
     "name": "stdout",
     "output_type": "stream",
     "text": [
      "Starting experimental run with id: 25. \n"
     ]
    },
    {
     "name": "stdout",
     "output_type": "stream",
     "text": [
      "Starting experimental run with id: 26. \n"
     ]
    },
    {
     "name": "stdout",
     "output_type": "stream",
     "text": [
      "Starting experimental run with id: 27. \n"
     ]
    },
    {
     "name": "stdout",
     "output_type": "stream",
     "text": [
      "Starting experimental run with id: 28. \n"
     ]
    }
   ],
   "source": [
    "sizes = [1,500,1000,2000,3000,4000,5000]\n",
    "nreps = 100\n",
    "t_numeric = []\n",
    "t_numeric_add = []\n",
    "t_numeric_run_ids = []\n",
    "t_array = []\n",
    "t_array_add = []\n",
    "t_array_run_ids = []\n",
    "for size in sizes:\n",
    "    tn, tna, run_id_n =  insert_data('numeric', size, nreps=nreps)\n",
    "    t_numeric.append(tn)\n",
    "    t_numeric_add.append(tna)\n",
    "    t_numeric_run_ids.append(run_id_n)\n",
    "\n",
    "    ta, taa, run_id_a =  insert_data('array', size, nreps=nreps)\n",
    "    t_array.append(ta)\n",
    "    t_array_add.append(taa)\n",
    "    t_array_run_ids.append(run_id_a)"
   ]
  },
  {
   "cell_type": "code",
   "execution_count": 8,
   "metadata": {
    "scrolled": true
   },
   "outputs": [
    {
     "data": {
      "image/png": "[encoded data removed]",
      "text/plain": [
       "<Figure size 432x288 with 1 Axes>"
      ]
     },
     "metadata": {
      "needs_background": "light"
     },
     "output_type": "display_data"
    }
   ],
   "source": [
    "fig, ax = plt.subplots(1,1)\n",
    "ax.plot(sizes, t_numeric, 'o-', label='Inserting row-by-row')\n",
    "ax.plot(sizes, t_numeric_add, 'o-', label='Inserting row-by-row: add_result only')\n",
    "ax.plot(sizes, t_array, 'd-', label='Inserting as binary blob')\n",
    "ax.plot(sizes, t_array_add, 'd-', label='Inserting as binary blob: add_result only')\n",
    "ax.legend()\n",
    "ax.set_xlabel('Array length')\n",
    "ax.set_ylabel('Time (s)')\n",
    "fig.tight_layout()"
   ]
  },
  {
   "cell_type": "markdown",
   "metadata": {},
   "source": [
    "However, as we increase the length of the experiment, as seen here by repeating the insertion 100 times, we see a big difference between inserting values of the data row-by-row and inserting it as a binary blob."
   ]
  },
  {
   "cell_type": "markdown",
   "metadata": {},
   "source": [
    "## Loading the data "
   ]
  },
  {
   "cell_type": "code",
   "execution_count": 9,
   "metadata": {},
   "outputs": [],
   "source": [
    "from qcodes.dataset.data_set import load_by_id\n",
    "from qcodes.dataset.data_export import get_data_by_id"
   ]
  },
  {
   "cell_type": "markdown",
   "metadata": {},
   "source": [
    "As usual you can load the data by using the ``load_by_id`` function but you will notice that the different storage methods\n",
    "are reflected in shape of the data as it is retrieved. "
   ]
  },
  {
   "cell_type": "code",
   "execution_count": 10,
   "metadata": {},
   "outputs": [],
   "source": [
    "run_id_n = t_numeric_run_ids[0]\n",
    "run_id_a = t_array_run_ids[0]"
   ]
  },
  {
   "cell_type": "code",
   "execution_count": 11,
   "metadata": {
    "scrolled": true
   },
   "outputs": [
    {
     "data": {
      "text/plain": [
       "{'x1': {'x1': array([0.28936238, 0.28936238, 0.66027198, 0.66027198, 0.89990032,\n",
       "         0.89990032, 0.18945949, 0.18945949, 0.08413959, 0.08413959,\n",
       "         0.38147858, 0.38147858, 0.80279969, 0.80279969, 0.50786378,\n",
       "         0.50786378, 0.92549692, 0.92549692, 0.71768279, 0.71768279,\n",
       "         0.71859164, 0.71859164, 0.71686989, 0.71686989, 0.21832062,\n",
       "         0.21832062, 0.41875657, 0.41875657, 0.62825951, 0.62825951,\n",
       "         0.40662232, 0.40662232, 0.38922386, 0.38922386, 0.25485152,\n",
       "         0.25485152, 0.69370462, 0.69370462, 0.58238038, 0.58238038,\n",
       "         0.51282521, 0.51282521, 0.65229873, 0.65229873, 0.56702868,\n",
       "         0.56702868, 0.02513143, 0.02513143, 0.24496436, 0.24496436,\n",
       "         0.51766362, 0.51766362, 0.94332975, 0.94332975, 0.38054215,\n",
       "         0.38054215, 0.58282935, 0.58282935, 0.69053374, 0.69053374,\n",
       "         0.00370161, 0.00370161, 0.66087671, 0.66087671, 0.58152502,\n",
       "         0.58152502, 0.72853514, 0.72853514, 0.56975534, 0.56975534,\n",
       "         0.10638465, 0.10638465, 0.12469815, 0.12469815, 0.44520744,\n",
       "         0.44520744, 0.25716429, 0.25716429, 0.84746817, 0.84746817,\n",
       "         0.02884821, 0.02884821, 0.7260877 , 0.7260877 , 0.37536308,\n",
       "         0.37536308, 0.30605041, 0.30605041, 0.91546004, 0.91546004,\n",
       "         0.2933331 , 0.2933331 , 0.17144157, 0.17144157, 0.76788345,\n",
       "         0.76788345, 0.26903225, 0.26903225, 0.54893249, 0.54893249,\n",
       "         0.96262915, 0.96262915, 0.23949579, 0.23949579, 0.63075373,\n",
       "         0.63075373, 0.94079328, 0.94079328, 0.58960271, 0.58960271,\n",
       "         0.10584635, 0.10584635, 0.44984769, 0.44984769, 0.37997489,\n",
       "         0.37997489, 0.42115205, 0.42115205, 0.99844686, 0.99844686,\n",
       "         0.64399887, 0.64399887, 0.35181215, 0.35181215, 0.93502269,\n",
       "         0.93502269, 0.50247929, 0.50247929, 0.02906186, 0.02906186,\n",
       "         0.37817763, 0.37817763, 0.46846747, 0.46846747, 0.92535737,\n",
       "         0.92535737, 0.31394254, 0.31394254, 0.89364363, 0.89364363,\n",
       "         0.31214738, 0.31214738, 0.49973844, 0.49973844, 0.10210325,\n",
       "         0.10210325, 0.961907  , 0.961907  , 0.36048331, 0.36048331,\n",
       "         0.55217923, 0.55217923, 0.99633851, 0.99633851, 0.78461017,\n",
       "         0.78461017, 0.49346453, 0.49346453, 0.8731853 , 0.8731853 ,\n",
       "         0.10023633, 0.10023633, 0.84698111, 0.84698111, 0.2993068 ,\n",
       "         0.2993068 , 0.76743952, 0.76743952, 0.54898607, 0.54898607,\n",
       "         0.34222339, 0.34222339, 0.43863757, 0.43863757, 0.4821528 ,\n",
       "         0.4821528 , 0.98805773, 0.98805773, 0.93956136, 0.93956136,\n",
       "         0.63450871, 0.63450871, 0.79927733, 0.79927733, 0.3423423 ,\n",
       "         0.3423423 , 0.68748562, 0.68748562, 0.9079386 , 0.9079386 ,\n",
       "         0.16576348, 0.16576348, 0.97379693, 0.97379693, 0.52403018,\n",
       "         0.52403018, 0.54916162, 0.54916162, 0.81943925, 0.81943925])}}"
      ]
     },
     "execution_count": 11,
     "metadata": {},
     "output_type": "execute_result"
    }
   ],
   "source": [
    "ds = load_by_id(run_id_n)\n",
    "ds.get_parameter_data('x1')"
   ]
  },
  {
   "cell_type": "markdown",
   "metadata": {},
   "source": [
    "And a dataset stored as binary arrays"
   ]
  },
  {
   "cell_type": "code",
   "execution_count": 12,
   "metadata": {
    "scrolled": true
   },
   "outputs": [
    {
     "data": {
      "text/plain": [
       "{'x1': {'x1': array([[0.66652911],\n",
       "         [0.66652911],\n",
       "         [0.88203895],\n",
       "         [0.88203895],\n",
       "         [0.91308972],\n",
       "         [0.91308972],\n",
       "         [0.71187366],\n",
       "         [0.71187366],\n",
       "         [0.72027379],\n",
       "         [0.72027379],\n",
       "         [0.26568995],\n",
       "         [0.26568995],\n",
       "         [0.64380691],\n",
       "         [0.64380691],\n",
       "         [0.01042655],\n",
       "         [0.01042655],\n",
       "         [0.1434933 ],\n",
       "         [0.1434933 ],\n",
       "         [0.72025538],\n",
       "         [0.72025538],\n",
       "         [0.03918299],\n",
       "         [0.03918299],\n",
       "         [0.44457108],\n",
       "         [0.44457108],\n",
       "         [0.68225846],\n",
       "         [0.68225846],\n",
       "         [0.85673899],\n",
       "         [0.85673899],\n",
       "         [0.90870244],\n",
       "         [0.90870244],\n",
       "         [0.17224629],\n",
       "         [0.17224629],\n",
       "         [0.34182477],\n",
       "         [0.34182477],\n",
       "         [0.65029446],\n",
       "         [0.65029446],\n",
       "         [0.94987635],\n",
       "         [0.94987635],\n",
       "         [0.6463667 ],\n",
       "         [0.6463667 ],\n",
       "         [0.60927478],\n",
       "         [0.60927478],\n",
       "         [0.16510366],\n",
       "         [0.16510366],\n",
       "         [0.74139905],\n",
       "         [0.74139905],\n",
       "         [0.41525608],\n",
       "         [0.41525608],\n",
       "         [0.47061866],\n",
       "         [0.47061866],\n",
       "         [0.86459955],\n",
       "         [0.86459955],\n",
       "         [0.88901978],\n",
       "         [0.88901978],\n",
       "         [0.4604302 ],\n",
       "         [0.4604302 ],\n",
       "         [0.94879837],\n",
       "         [0.94879837],\n",
       "         [0.6473692 ],\n",
       "         [0.6473692 ],\n",
       "         [0.23285126],\n",
       "         [0.23285126],\n",
       "         [0.03536666],\n",
       "         [0.03536666],\n",
       "         [0.42705928],\n",
       "         [0.42705928],\n",
       "         [0.01432782],\n",
       "         [0.01432782],\n",
       "         [0.74242925],\n",
       "         [0.74242925],\n",
       "         [0.67443529],\n",
       "         [0.67443529],\n",
       "         [0.47999698],\n",
       "         [0.47999698],\n",
       "         [0.83582461],\n",
       "         [0.83582461],\n",
       "         [0.3784889 ],\n",
       "         [0.3784889 ],\n",
       "         [0.67586599],\n",
       "         [0.67586599],\n",
       "         [0.83580304],\n",
       "         [0.83580304],\n",
       "         [0.02311635],\n",
       "         [0.02311635],\n",
       "         [0.19518825],\n",
       "         [0.19518825],\n",
       "         [0.22089727],\n",
       "         [0.22089727],\n",
       "         [0.78983778],\n",
       "         [0.78983778],\n",
       "         [0.10029075],\n",
       "         [0.10029075],\n",
       "         [0.15783037],\n",
       "         [0.15783037],\n",
       "         [0.544389  ],\n",
       "         [0.544389  ],\n",
       "         [0.16340306],\n",
       "         [0.16340306],\n",
       "         [0.13416056],\n",
       "         [0.13416056],\n",
       "         [0.4438396 ],\n",
       "         [0.4438396 ],\n",
       "         [0.09000048],\n",
       "         [0.09000048],\n",
       "         [0.41600226],\n",
       "         [0.41600226],\n",
       "         [0.84096903],\n",
       "         [0.84096903],\n",
       "         [0.47539484],\n",
       "         [0.47539484],\n",
       "         [0.9696639 ],\n",
       "         [0.9696639 ],\n",
       "         [0.29689248],\n",
       "         [0.29689248],\n",
       "         [0.87543537],\n",
       "         [0.87543537],\n",
       "         [0.69814598],\n",
       "         [0.69814598],\n",
       "         [0.91635883],\n",
       "         [0.91635883],\n",
       "         [0.67692923],\n",
       "         [0.67692923],\n",
       "         [0.97776612],\n",
       "         [0.97776612],\n",
       "         [0.35864271],\n",
       "         [0.35864271],\n",
       "         [0.3985819 ],\n",
       "         [0.3985819 ],\n",
       "         [0.74809326],\n",
       "         [0.74809326],\n",
       "         [0.10808966],\n",
       "         [0.10808966],\n",
       "         [0.30002619],\n",
       "         [0.30002619],\n",
       "         [0.51166015],\n",
       "         [0.51166015],\n",
       "         [0.81378985],\n",
       "         [0.81378985],\n",
       "         [0.50522633],\n",
       "         [0.50522633],\n",
       "         [0.14537825],\n",
       "         [0.14537825],\n",
       "         [0.12384029],\n",
       "         [0.12384029],\n",
       "         [0.95736487],\n",
       "         [0.95736487],\n",
       "         [0.32027117],\n",
       "         [0.32027117],\n",
       "         [0.06792785],\n",
       "         [0.06792785],\n",
       "         [0.39217856],\n",
       "         [0.39217856],\n",
       "         [0.55251881],\n",
       "         [0.55251881],\n",
       "         [0.41934092],\n",
       "         [0.41934092],\n",
       "         [0.06801573],\n",
       "         [0.06801573],\n",
       "         [0.77372973],\n",
       "         [0.77372973],\n",
       "         [0.0848733 ],\n",
       "         [0.0848733 ],\n",
       "         [0.01616552],\n",
       "         [0.01616552],\n",
       "         [0.07910119],\n",
       "         [0.07910119],\n",
       "         [0.22677175],\n",
       "         [0.22677175],\n",
       "         [0.54600017],\n",
       "         [0.54600017],\n",
       "         [0.33757629],\n",
       "         [0.33757629],\n",
       "         [0.56357631],\n",
       "         [0.56357631],\n",
       "         [0.76682631],\n",
       "         [0.76682631],\n",
       "         [0.86974529],\n",
       "         [0.86974529],\n",
       "         [0.93372936],\n",
       "         [0.93372936],\n",
       "         [0.77903503],\n",
       "         [0.77903503],\n",
       "         [0.70259177],\n",
       "         [0.70259177],\n",
       "         [0.98825932],\n",
       "         [0.98825932],\n",
       "         [0.0504665 ],\n",
       "         [0.0504665 ],\n",
       "         [0.76246191],\n",
       "         [0.76246191],\n",
       "         [0.5862107 ],\n",
       "         [0.5862107 ],\n",
       "         [0.03948408],\n",
       "         [0.03948408],\n",
       "         [0.19624527],\n",
       "         [0.19624527],\n",
       "         [0.95695144],\n",
       "         [0.95695144],\n",
       "         [0.60008203],\n",
       "         [0.60008203]])}}"
      ]
     },
     "execution_count": 12,
     "metadata": {},
     "output_type": "execute_result"
    }
   ],
   "source": [
    "ds = load_by_id(run_id_a)\n",
    "ds.get_parameter_data('x1')"
   ]
  },
  {
   "cell_type": "code",
   "execution_count": null,
   "metadata": {},
   "outputs": [],
   "source": []
  }
 ],
 "metadata": {
  "kernelspec": {
   "display_name": "Python 3",
   "language": "python",
   "name": "python3"
  },
  "language_info": {
   "codemirror_mode": {
    "name": "ipython",
    "version": 3
   },
   "file_extension": ".py",
   "mimetype": "text/x-python",
   "name": "python",
   "nbconvert_exporter": "python",
   "pygments_lexer": "ipython3",
   "version": "3.7.5"
  },
  "nbsphinx": {
   "timeout": 600
  },
  "toc": {
   "base_numbering": 1,
   "nav_menu": {},
   "number_sections": true,
   "sideBar": true,
   "skip_h1_title": false,
   "title_cell": "Table of Contents",
   "title_sidebar": "Contents",
   "toc_cell": false,
   "toc_position": {},
   "toc_section_display": true,
   "toc_window_display": false
  },
  "varInspector": {
   "cols": {
    "lenName": 16,
    "lenType": 16,
    "lenVar": 40
   },
   "kernels_config": {
    "python": {
     "delete_cmd_postfix": "",
     "delete_cmd_prefix": "del ",
     "library": "var_list.py",
     "varRefreshCmd": "print(var_dic_list())"
    },
    "r": {
     "delete_cmd_postfix": ") ",
     "delete_cmd_prefix": "rm(",
     "library": "var_list.r",
     "varRefreshCmd": "cat(var_dic_list()) "
    }
   },
   "types_to_exclude": [
    "module",
    "function",
    "builtin_function_or_method",
    "instance",
    "_Feature"
   ],
   "window_display": false
  }
 },
 "nbformat": 4,
 "nbformat_minor": 2
}
