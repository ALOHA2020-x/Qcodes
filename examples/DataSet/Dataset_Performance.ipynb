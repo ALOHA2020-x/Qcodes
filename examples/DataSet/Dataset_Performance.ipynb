{
 "cells": [
  {
   "cell_type": "markdown",
   "metadata": {},
   "source": [
    "# DataSet Performance\n",
    "\n",
    "This notebook shows the trade-off between inserting data into a database row-by-row and as binary blobs. Inserting the data row-by-row means that we have direct access to all the data and may perform queries directly on the values of the data. On the other hand, as we shall see, this is much slower than inserting the data directly as binary blobs."
   ]
  },
  {
   "cell_type": "markdown",
   "metadata": {},
   "source": [
    "First, we choose a new location for the database to ensure that we don't add a bunch of benchmarking data to the default one."
   ]
  },
  {
   "cell_type": "code",
   "execution_count": 1,
   "metadata": {
    "execution": {
     "iopub.execute_input": "2021-04-06T06:24:15.981914Z",
     "iopub.status.busy": "2021-04-06T06:24:15.981384Z",
     "iopub.status.idle": "2021-04-06T06:24:16.857010Z",
     "shell.execute_reply": "2021-04-06T06:24:16.856397Z"
    }
   },
   "outputs": [
    {
     "name": "stdout",
     "output_type": "stream",
     "text": [
      "Logging hadn't been started.\n",
      "Activating auto-logging. Current session state plus future input saved.\n",
      "Filename       : /home/runner/.qcodes/logs/command_history.log\n",
      "Mode           : append\n",
      "Output logging : True\n",
      "Raw input log  : False\n",
      "Timestamping   : True\n",
      "State          : active\n"
     ]
    },
    {
     "name": "stdout",
     "output_type": "stream",
     "text": [
      "Qcodes Logfile : /home/runner/.qcodes/logs/210406-4654-qcodes.log\n"
     ]
    }
   ],
   "source": [
    "import os\n",
    "cwd = os.getcwd()\n",
    "import qcodes as qc\n",
    "qc.config[\"core\"][\"db_location\"] = os.path.join(cwd, 'testing.db')\n"
   ]
  },
  {
   "cell_type": "code",
   "execution_count": 2,
   "metadata": {
    "execution": {
     "iopub.execute_input": "2021-04-06T06:24:16.863622Z",
     "iopub.status.busy": "2021-04-06T06:24:16.862237Z",
     "iopub.status.idle": "2021-04-06T06:24:17.076466Z",
     "shell.execute_reply": "2021-04-06T06:24:17.075500Z"
    }
   },
   "outputs": [],
   "source": [
    "%matplotlib inline\n",
    "import time\n",
    "import matplotlib.pyplot as plt\n",
    "import numpy as np\n",
    "\n",
    "import qcodes as qc\n",
    "from qcodes.instrument.parameter import ManualParameter\n",
    "from qcodes.dataset.experiment_container import (Experiment,\n",
    "                                                 load_last_experiment,\n",
    "                                                 new_experiment)\n",
    "from qcodes.dataset.sqlite.database import initialise_database\n",
    "from qcodes import load_or_create_experiment\n",
    "from qcodes.dataset.measurements import Measurement"
   ]
  },
  {
   "cell_type": "code",
   "execution_count": 3,
   "metadata": {
    "execution": {
     "iopub.execute_input": "2021-04-06T06:24:17.080112Z",
     "iopub.status.busy": "2021-04-06T06:24:17.079252Z",
     "iopub.status.idle": "2021-04-06T06:24:17.144132Z",
     "shell.execute_reply": "2021-04-06T06:24:17.144522Z"
    }
   },
   "outputs": [
    {
     "name": "stdout",
     "output_type": "stream",
     "text": [
      "\r",
      "0it [00:00, ?it/s]"
     ]
    },
    {
     "name": "stdout",
     "output_type": "stream",
     "text": [
      "\r",
      "Upgrading database; v0 -> v1: : 0it [00:00, ?it/s]"
     ]
    },
    {
     "name": "stdout",
     "output_type": "stream",
     "text": [
      "\r",
      "Upgrading database; v0 -> v1: : 0it [00:00, ?it/s]"
     ]
    },
    {
     "name": "stdout",
     "output_type": "stream",
     "text": [
      "\n",
      "\r",
      "  0%|          | 0/1 [00:00<?, ?it/s]"
     ]
    },
    {
     "name": "stdout",
     "output_type": "stream",
     "text": [
      "\r",
      "Upgrading database; v1 -> v2:   0%|          | 0/1 [00:00<?, ?it/s]"
     ]
    },
    {
     "name": "stdout",
     "output_type": "stream",
     "text": [
      "\r",
      "Upgrading database; v1 -> v2: 100%|██████████| 1/1 [00:00<00:00, 600.30it/s]"
     ]
    },
    {
     "name": "stdout",
     "output_type": "stream",
     "text": [
      "\n",
      "\r",
      "0it [00:00, ?it/s]"
     ]
    },
    {
     "name": "stdout",
     "output_type": "stream",
     "text": [
      "\r",
      "Upgrading database; v2 -> v3: : 0it [00:00, ?it/s]"
     ]
    },
    {
     "name": "stdout",
     "output_type": "stream",
     "text": [
      "\r",
      "Upgrading database; v2 -> v3: : 0it [00:00, ?it/s]"
     ]
    },
    {
     "name": "stdout",
     "output_type": "stream",
     "text": [
      "\n",
      "\r",
      "0it [00:00, ?it/s]"
     ]
    },
    {
     "name": "stdout",
     "output_type": "stream",
     "text": [
      "\r",
      "Upgrading database; v3 -> v4: : 0it [00:00, ?it/s]"
     ]
    },
    {
     "name": "stdout",
     "output_type": "stream",
     "text": [
      "\r",
      "Upgrading database; v3 -> v4: : 0it [00:00, ?it/s]"
     ]
    },
    {
     "name": "stdout",
     "output_type": "stream",
     "text": [
      "\n",
      "\r",
      "  0%|          | 0/1 [00:00<?, ?it/s]"
     ]
    },
    {
     "name": "stdout",
     "output_type": "stream",
     "text": [
      "\r",
      "Upgrading database; v4 -> v5:   0%|          | 0/1 [00:00<?, ?it/s]"
     ]
    },
    {
     "name": "stdout",
     "output_type": "stream",
     "text": [
      "\r",
      "Upgrading database; v4 -> v5: 100%|██████████| 1/1 [00:00<00:00, 495.66it/s]"
     ]
    },
    {
     "name": "stdout",
     "output_type": "stream",
     "text": [
      "\n",
      "\r",
      "0it [00:00, ?it/s]"
     ]
    },
    {
     "name": "stdout",
     "output_type": "stream",
     "text": [
      "\r",
      "Upgrading database; v5 -> v6: : 0it [00:00, ?it/s]"
     ]
    },
    {
     "name": "stdout",
     "output_type": "stream",
     "text": [
      "\r",
      "Upgrading database; v5 -> v6: : 0it [00:00, ?it/s]"
     ]
    },
    {
     "name": "stdout",
     "output_type": "stream",
     "text": [
      "\n",
      "\r",
      "  0%|          | 0/1 [00:00<?, ?it/s]"
     ]
    },
    {
     "name": "stdout",
     "output_type": "stream",
     "text": [
      "\r",
      "Upgrading database; v6 -> v7:   0%|          | 0/1 [00:00<?, ?it/s]"
     ]
    },
    {
     "name": "stdout",
     "output_type": "stream",
     "text": [
      "\r",
      "Upgrading database; v6 -> v7: 100%|██████████| 1/1 [00:00<00:00, 285.21it/s]"
     ]
    },
    {
     "name": "stdout",
     "output_type": "stream",
     "text": [
      "\n",
      "\r",
      "  0%|          | 0/1 [00:00<?, ?it/s]"
     ]
    },
    {
     "name": "stdout",
     "output_type": "stream",
     "text": [
      "\r",
      "Upgrading database; v7 -> v8:   0%|          | 0/1 [00:00<?, ?it/s]"
     ]
    },
    {
     "name": "stdout",
     "output_type": "stream",
     "text": [
      "\r",
      "Upgrading database; v7 -> v8: 100%|██████████| 1/1 [00:00<00:00, 490.73it/s]"
     ]
    },
    {
     "name": "stdout",
     "output_type": "stream",
     "text": [
      "\n",
      "\r",
      "  0%|          | 0/1 [00:00<?, ?it/s]"
     ]
    },
    {
     "name": "stdout",
     "output_type": "stream",
     "text": [
      "\r",
      "Upgrading database; v8 -> v9:   0%|          | 0/1 [00:00<?, ?it/s]"
     ]
    },
    {
     "name": "stdout",
     "output_type": "stream",
     "text": [
      "\r",
      "Upgrading database; v8 -> v9: 100%|██████████| 1/1 [00:00<00:00, 538.77it/s]"
     ]
    },
    {
     "name": "stdout",
     "output_type": "stream",
     "text": [
      "\n"
     ]
    }
   ],
   "source": [
    "initialise_database()\n",
    "exp = load_or_create_experiment(experiment_name='tutorial_exp', sample_name=\"no sample\")"
   ]
  },
  {
   "cell_type": "markdown",
   "metadata": {},
   "source": [
    "Here, we define a simple function to benchmark the time it takes to insert n points with either numeric or array data type.\n",
    "We will compare both the time used to call ``add_result`` and the time used for the full measurement."
   ]
  },
  {
   "cell_type": "code",
   "execution_count": 4,
   "metadata": {
    "execution": {
     "iopub.execute_input": "2021-04-06T06:24:17.152274Z",
     "iopub.status.busy": "2021-04-06T06:24:17.151788Z",
     "iopub.status.idle": "2021-04-06T06:24:17.154881Z",
     "shell.execute_reply": "2021-04-06T06:24:17.154456Z"
    }
   },
   "outputs": [],
   "source": [
    "def insert_data(paramtype, npoints, nreps=1):\n",
    "\n",
    "    meas = Measurement(exp=exp)\n",
    "\n",
    "    x1 = ManualParameter('x1')\n",
    "    x2 = ManualParameter('x2')\n",
    "    x3 = ManualParameter('x3')\n",
    "    y1 = ManualParameter('y1')\n",
    "    y2 = ManualParameter('y2')\n",
    "\n",
    "    meas.register_parameter(x1, paramtype=paramtype)\n",
    "    meas.register_parameter(x2, paramtype=paramtype)\n",
    "    meas.register_parameter(x3, paramtype=paramtype)\n",
    "    meas.register_parameter(y1, setpoints=[x1, x2, x3],\n",
    "                            paramtype=paramtype)\n",
    "    meas.register_parameter(y2, setpoints=[x1, x2, x3],\n",
    "                            paramtype=paramtype)\n",
    "    start = time.perf_counter()\n",
    "    with meas.run() as datasaver:\n",
    "        start_adding = time.perf_counter()\n",
    "        for i in range(nreps):\n",
    "            datasaver.add_result((x1, np.random.rand(npoints)),\n",
    "                                 (x2, np.random.rand(npoints)),\n",
    "                                 (x3, np.random.rand(npoints)),\n",
    "                                 (y1, np.random.rand(npoints)),\n",
    "                                 (y2, np.random.rand(npoints)))\n",
    "        stop_adding = time.perf_counter()\n",
    "        run_id = datasaver.run_id\n",
    "    stop = time.perf_counter()\n",
    "    tot_time = stop - start\n",
    "    add_time = stop_adding - start_adding\n",
    "    return tot_time, add_time, run_id"
   ]
  },
  {
   "cell_type": "markdown",
   "metadata": {},
   "source": [
    "## Comparison between numeric/array data and binary blob"
   ]
  },
  {
   "cell_type": "markdown",
   "metadata": {},
   "source": [
    "### Case1: Short experiment time"
   ]
  },
  {
   "cell_type": "code",
   "execution_count": 5,
   "metadata": {
    "execution": {
     "iopub.execute_input": "2021-04-06T06:24:17.161038Z",
     "iopub.status.busy": "2021-04-06T06:24:17.160514Z",
     "iopub.status.idle": "2021-04-06T06:24:17.833157Z",
     "shell.execute_reply": "2021-04-06T06:24:17.833568Z"
    }
   },
   "outputs": [
    {
     "name": "stdout",
     "output_type": "stream",
     "text": [
      "Starting experimental run with id: 1. \n",
      "Starting experimental run with id: 2. \n",
      "Starting experimental run with id: 3. \n",
      "Starting experimental run with id: 4. \n",
      "Starting experimental run with id: 5. \n",
      "Starting experimental run with id: 6. \n",
      "Starting experimental run with id: 7. \n"
     ]
    },
    {
     "name": "stdout",
     "output_type": "stream",
     "text": [
      "Starting experimental run with id: 8. \n",
      "Starting experimental run with id: 9. \n"
     ]
    },
    {
     "name": "stdout",
     "output_type": "stream",
     "text": [
      "Starting experimental run with id: 10. \n",
      "Starting experimental run with id: 11. \n"
     ]
    },
    {
     "name": "stdout",
     "output_type": "stream",
     "text": [
      "Starting experimental run with id: 12. \n"
     ]
    },
    {
     "name": "stdout",
     "output_type": "stream",
     "text": [
      "Starting experimental run with id: 13. \n",
      "Starting experimental run with id: 14. \n"
     ]
    }
   ],
   "source": [
    "sizes = [1,500,1000,2000,3000,4000,5000]\n",
    "t_numeric = []\n",
    "t_numeric_add = []\n",
    "t_array = []\n",
    "t_array_add = []\n",
    "for size in sizes:\n",
    "    tn, tna, run_id_n =  insert_data('numeric', size)\n",
    "    t_numeric.append(tn)\n",
    "    t_numeric_add.append(tna)\n",
    "\n",
    "    ta, taa, run_id_a =  insert_data('array', size)\n",
    "    t_array.append(ta)\n",
    "    t_array_add.append(taa)"
   ]
  },
  {
   "cell_type": "code",
   "execution_count": 6,
   "metadata": {
    "execution": {
     "iopub.execute_input": "2021-04-06T06:24:17.850423Z",
     "iopub.status.busy": "2021-04-06T06:24:17.849906Z",
     "iopub.status.idle": "2021-04-06T06:24:18.020242Z",
     "shell.execute_reply": "2021-04-06T06:24:18.020931Z"
    }
   },
   "outputs": [
    {
     "data": {
      "image/png": "[encoded data removed]",
      "text/plain": [
       "<Figure size 432x288 with 1 Axes>"
      ]
     },
     "metadata": {
      "needs_background": "light"
     },
     "output_type": "display_data"
    }
   ],
   "source": [
    "fig, ax = plt.subplots(1,1)\n",
    "ax.plot(sizes, t_numeric, 'o-', label='Inserting row-by-row')\n",
    "ax.plot(sizes, t_numeric_add, 'o-', label='Inserting row-by-row: add_result only')\n",
    "ax.plot(sizes, t_array, 'd-', label='Inserting as binary blob')\n",
    "ax.plot(sizes, t_array_add, 'd-', label='Inserting as binary blob: add_result only')\n",
    "ax.legend()\n",
    "ax.set_xlabel('Array length')\n",
    "ax.set_ylabel('Time (s)')\n",
    "fig.tight_layout()"
   ]
  },
  {
   "cell_type": "markdown",
   "metadata": {},
   "source": [
    "As shown in the latter figure, the time to setup and and close the experiment is approximately 0.4 sec. In case of small array sizes, the difference between inserting values of data as arrays and inserting them row-by-row is relatively unimportant. At larger array sizes, i.e. above 10000 points, the cost of writing data as individual datapoints starts to become important.\n"
   ]
  },
  {
   "cell_type": "markdown",
   "metadata": {},
   "source": [
    "### Case2: Long experiment time "
   ]
  },
  {
   "cell_type": "code",
   "execution_count": 7,
   "metadata": {
    "execution": {
     "iopub.execute_input": "2021-04-06T06:24:18.027859Z",
     "iopub.status.busy": "2021-04-06T06:24:18.027045Z",
     "iopub.status.idle": "2021-04-06T06:25:07.316316Z",
     "shell.execute_reply": "2021-04-06T06:25:07.315809Z"
    }
   },
   "outputs": [
    {
     "name": "stdout",
     "output_type": "stream",
     "text": [
      "Starting experimental run with id: 15. \n",
      "Starting experimental run with id: 16. \n",
      "Starting experimental run with id: 17. \n"
     ]
    },
    {
     "name": "stdout",
     "output_type": "stream",
     "text": [
      "Starting experimental run with id: 18. \n",
      "Starting experimental run with id: 19. \n"
     ]
    },
    {
     "name": "stdout",
     "output_type": "stream",
     "text": [
      "Starting experimental run with id: 20. \n",
      "Starting experimental run with id: 21. \n"
     ]
    },
    {
     "name": "stdout",
     "output_type": "stream",
     "text": [
      "Starting experimental run with id: 22. \n"
     ]
    },
    {
     "name": "stdout",
     "output_type": "stream",
     "text": [
      "Starting experimental run with id: 23. \n"
     ]
    },
    {
     "name": "stdout",
     "output_type": "stream",
     "text": [
      "Starting experimental run with id: 24. \n"
     ]
    },
    {
     "name": "stdout",
     "output_type": "stream",
     "text": [
      "Starting experimental run with id: 25. \n"
     ]
    },
    {
     "name": "stdout",
     "output_type": "stream",
     "text": [
      "Starting experimental run with id: 26. \n"
     ]
    },
    {
     "name": "stdout",
     "output_type": "stream",
     "text": [
      "Starting experimental run with id: 27. \n"
     ]
    },
    {
     "name": "stdout",
     "output_type": "stream",
     "text": [
      "Starting experimental run with id: 28. \n"
     ]
    }
   ],
   "source": [
    "sizes = [1,500,1000,2000,3000,4000,5000]\n",
    "nreps = 100\n",
    "t_numeric = []\n",
    "t_numeric_add = []\n",
    "t_numeric_run_ids = []\n",
    "t_array = []\n",
    "t_array_add = []\n",
    "t_array_run_ids = []\n",
    "for size in sizes:\n",
    "    tn, tna, run_id_n =  insert_data('numeric', size, nreps=nreps)\n",
    "    t_numeric.append(tn)\n",
    "    t_numeric_add.append(tna)\n",
    "    t_numeric_run_ids.append(run_id_n)\n",
    "\n",
    "    ta, taa, run_id_a =  insert_data('array', size, nreps=nreps)\n",
    "    t_array.append(ta)\n",
    "    t_array_add.append(taa)\n",
    "    t_array_run_ids.append(run_id_a)"
   ]
  },
  {
   "cell_type": "code",
   "execution_count": 8,
   "metadata": {
    "execution": {
     "iopub.execute_input": "2021-04-06T06:25:07.353958Z",
     "iopub.status.busy": "2021-04-06T06:25:07.342317Z",
     "iopub.status.idle": "2021-04-06T06:25:07.480558Z",
     "shell.execute_reply": "2021-04-06T06:25:07.480130Z"
    },
    "scrolled": true
   },
   "outputs": [
    {
     "data": {
      "image/png": "[encoded data removed]",
      "text/plain": [
       "<Figure size 432x288 with 1 Axes>"
      ]
     },
     "metadata": {
      "needs_background": "light"
     },
     "output_type": "display_data"
    }
   ],
   "source": [
    "fig, ax = plt.subplots(1,1)\n",
    "ax.plot(sizes, t_numeric, 'o-', label='Inserting row-by-row')\n",
    "ax.plot(sizes, t_numeric_add, 'o-', label='Inserting row-by-row: add_result only')\n",
    "ax.plot(sizes, t_array, 'd-', label='Inserting as binary blob')\n",
    "ax.plot(sizes, t_array_add, 'd-', label='Inserting as binary blob: add_result only')\n",
    "ax.legend()\n",
    "ax.set_xlabel('Array length')\n",
    "ax.set_ylabel('Time (s)')\n",
    "fig.tight_layout()"
   ]
  },
  {
   "cell_type": "markdown",
   "metadata": {},
   "source": [
    "However, as we increase the length of the experiment, as seen here by repeating the insertion 100 times, we see a big difference between inserting values of the data row-by-row and inserting it as a binary blob."
   ]
  },
  {
   "cell_type": "markdown",
   "metadata": {},
   "source": [
    "## Loading the data "
   ]
  },
  {
   "cell_type": "code",
   "execution_count": 9,
   "metadata": {
    "execution": {
     "iopub.execute_input": "2021-04-06T06:25:07.483492Z",
     "iopub.status.busy": "2021-04-06T06:25:07.482583Z",
     "iopub.status.idle": "2021-04-06T06:25:07.487611Z",
     "shell.execute_reply": "2021-04-06T06:25:07.487210Z"
    }
   },
   "outputs": [],
   "source": [
    "from qcodes.dataset.data_set import load_by_id\n",
    "from qcodes.dataset.data_export import get_data_by_id"
   ]
  },
  {
   "cell_type": "markdown",
   "metadata": {},
   "source": [
    "As usual you can load the data by using the ``load_by_id`` function but you will notice that the different storage methods\n",
    "are reflected in shape of the data as it is retrieved. "
   ]
  },
  {
   "cell_type": "code",
   "execution_count": 10,
   "metadata": {
    "execution": {
     "iopub.execute_input": "2021-04-06T06:25:07.491196Z",
     "iopub.status.busy": "2021-04-06T06:25:07.490718Z",
     "iopub.status.idle": "2021-04-06T06:25:07.494136Z",
     "shell.execute_reply": "2021-04-06T06:25:07.493742Z"
    }
   },
   "outputs": [],
   "source": [
    "run_id_n = t_numeric_run_ids[0]\n",
    "run_id_a = t_array_run_ids[0]"
   ]
  },
  {
   "cell_type": "code",
   "execution_count": 11,
   "metadata": {
    "execution": {
     "iopub.execute_input": "2021-04-06T06:25:07.497010Z",
     "iopub.status.busy": "2021-04-06T06:25:07.496535Z",
     "iopub.status.idle": "2021-04-06T06:25:07.504881Z",
     "shell.execute_reply": "2021-04-06T06:25:07.505255Z"
    },
    "scrolled": true
   },
   "outputs": [
    {
     "data": {
      "text/plain": [
       "{'x1': {'x1': array([4.54210751e-01, 4.54210751e-01, 9.66197949e-01, 9.66197949e-01,\n",
       "         5.41882630e-01, 5.41882630e-01, 4.45076472e-01, 4.45076472e-01,\n",
       "         5.44200223e-01, 5.44200223e-01, 5.59649109e-01, 5.59649109e-01,\n",
       "         5.21194598e-01, 5.21194598e-01, 9.22433666e-01, 9.22433666e-01,\n",
       "         7.06928353e-01, 7.06928353e-01, 1.60776907e-05, 1.60776907e-05,\n",
       "         7.35282192e-01, 7.35282192e-01, 6.40557805e-01, 6.40557805e-01,\n",
       "         4.51394897e-02, 4.51394897e-02, 4.75348078e-01, 4.75348078e-01,\n",
       "         2.91687572e-01, 2.91687572e-01, 2.75091385e-01, 2.75091385e-01,\n",
       "         1.76022960e-01, 1.76022960e-01, 1.07061991e-01, 1.07061991e-01,\n",
       "         2.22487813e-01, 2.22487813e-01, 8.03868717e-01, 8.03868717e-01,\n",
       "         6.79135928e-01, 6.79135928e-01, 5.54953297e-01, 5.54953297e-01,\n",
       "         9.37537487e-01, 9.37537487e-01, 3.26235216e-01, 3.26235216e-01,\n",
       "         1.12982257e-01, 1.12982257e-01, 6.93942239e-02, 6.93942239e-02,\n",
       "         8.13025562e-01, 8.13025562e-01, 7.47485283e-01, 7.47485283e-01,\n",
       "         9.95408659e-01, 9.95408659e-01, 6.28949691e-01, 6.28949691e-01,\n",
       "         7.90055458e-01, 7.90055458e-01, 7.73772300e-01, 7.73772300e-01,\n",
       "         8.41602798e-01, 8.41602798e-01, 6.70779887e-01, 6.70779887e-01,\n",
       "         4.49679541e-01, 4.49679541e-01, 8.72124719e-01, 8.72124719e-01,\n",
       "         9.01494930e-01, 9.01494930e-01, 6.31225499e-01, 6.31225499e-01,\n",
       "         6.60650036e-03, 6.60650036e-03, 9.89360749e-01, 9.89360749e-01,\n",
       "         6.21057373e-01, 6.21057373e-01, 1.45472837e-01, 1.45472837e-01,\n",
       "         5.81577233e-03, 5.81577233e-03, 2.49658213e-01, 2.49658213e-01,\n",
       "         1.24585374e-01, 1.24585374e-01, 5.31372841e-01, 5.31372841e-01,\n",
       "         2.50951900e-01, 2.50951900e-01, 4.29767042e-01, 4.29767042e-01,\n",
       "         2.36400526e-01, 2.36400526e-01, 4.60757402e-02, 4.60757402e-02,\n",
       "         1.23246308e-01, 1.23246308e-01, 7.45859503e-01, 7.45859503e-01,\n",
       "         8.75869230e-01, 8.75869230e-01, 2.41865000e-01, 2.41865000e-01,\n",
       "         2.60991587e-01, 2.60991587e-01, 4.43246622e-01, 4.43246622e-01,\n",
       "         7.44229784e-01, 7.44229784e-01, 4.00978263e-01, 4.00978263e-01,\n",
       "         3.16131922e-01, 3.16131922e-01, 2.54657259e-01, 2.54657259e-01,\n",
       "         4.25778163e-01, 4.25778163e-01, 7.30571330e-01, 7.30571330e-01,\n",
       "         2.59097227e-01, 2.59097227e-01, 5.91326563e-01, 5.91326563e-01,\n",
       "         1.62825713e-01, 1.62825713e-01, 1.38272130e-01, 1.38272130e-01,\n",
       "         6.76719758e-01, 6.76719758e-01, 2.54551964e-01, 2.54551964e-01,\n",
       "         9.56005032e-03, 9.56005032e-03, 3.72680694e-01, 3.72680694e-01,\n",
       "         1.40631389e-01, 1.40631389e-01, 7.23788355e-01, 7.23788355e-01,\n",
       "         9.25216806e-02, 9.25216806e-02, 7.03093821e-01, 7.03093821e-01,\n",
       "         4.75550688e-01, 4.75550688e-01, 1.82926284e-01, 1.82926284e-01,\n",
       "         3.79401178e-01, 3.79401178e-01, 8.55412189e-01, 8.55412189e-01,\n",
       "         8.30986118e-01, 8.30986118e-01, 7.63535868e-01, 7.63535868e-01,\n",
       "         2.78724015e-01, 2.78724015e-01, 9.71760404e-01, 9.71760404e-01,\n",
       "         4.49637967e-01, 4.49637967e-01, 5.92887160e-01, 5.92887160e-01,\n",
       "         7.59634736e-01, 7.59634736e-01, 8.48420989e-01, 8.48420989e-01,\n",
       "         5.84531386e-01, 5.84531386e-01, 9.47567341e-01, 9.47567341e-01,\n",
       "         2.12820646e-01, 2.12820646e-01, 7.05728627e-01, 7.05728627e-01,\n",
       "         3.90582582e-01, 3.90582582e-01, 9.52814548e-01, 9.52814548e-01,\n",
       "         2.71392544e-01, 2.71392544e-01, 9.71077563e-01, 9.71077563e-01,\n",
       "         3.60160104e-01, 3.60160104e-01, 9.22060059e-01, 9.22060059e-01,\n",
       "         1.24029369e-01, 1.24029369e-01, 6.11263741e-01, 6.11263741e-01,\n",
       "         6.57946306e-01, 6.57946306e-01, 7.30417046e-01, 7.30417046e-01])}}"
      ]
     },
     "execution_count": 1,
     "metadata": {},
     "output_type": "execute_result"
    }
   ],
   "source": [
    "ds = load_by_id(run_id_n)\n",
    "ds.get_parameter_data('x1')"
   ]
  },
  {
   "cell_type": "markdown",
   "metadata": {},
   "source": [
    "And a dataset stored as binary arrays"
   ]
  },
  {
   "cell_type": "code",
   "execution_count": 12,
   "metadata": {
    "execution": {
     "iopub.execute_input": "2021-04-06T06:25:07.508165Z",
     "iopub.status.busy": "2021-04-06T06:25:07.507692Z",
     "iopub.status.idle": "2021-04-06T06:25:07.556997Z",
     "shell.execute_reply": "2021-04-06T06:25:07.557394Z"
    },
    "scrolled": true
   },
   "outputs": [
    {
     "data": {
      "text/plain": [
       "{'x1': {'x1': array([[0.54707271],\n",
       "         [0.54707271],\n",
       "         [0.97988666],\n",
       "         [0.97988666],\n",
       "         [0.86606828],\n",
       "         [0.86606828],\n",
       "         [0.05696317],\n",
       "         [0.05696317],\n",
       "         [0.93830752],\n",
       "         [0.93830752],\n",
       "         [0.30676817],\n",
       "         [0.30676817],\n",
       "         [0.40125053],\n",
       "         [0.40125053],\n",
       "         [0.63450931],\n",
       "         [0.63450931],\n",
       "         [0.65069607],\n",
       "         [0.65069607],\n",
       "         [0.78446949],\n",
       "         [0.78446949],\n",
       "         [0.10789547],\n",
       "         [0.10789547],\n",
       "         [0.74743241],\n",
       "         [0.74743241],\n",
       "         [0.36328254],\n",
       "         [0.36328254],\n",
       "         [0.64140863],\n",
       "         [0.64140863],\n",
       "         [0.72761973],\n",
       "         [0.72761973],\n",
       "         [0.45056073],\n",
       "         [0.45056073],\n",
       "         [0.60119781],\n",
       "         [0.60119781],\n",
       "         [0.8652839 ],\n",
       "         [0.8652839 ],\n",
       "         [0.54696195],\n",
       "         [0.54696195],\n",
       "         [0.35464048],\n",
       "         [0.35464048],\n",
       "         [0.2993942 ],\n",
       "         [0.2993942 ],\n",
       "         [0.78293131],\n",
       "         [0.78293131],\n",
       "         [0.641164  ],\n",
       "         [0.641164  ],\n",
       "         [0.12806201],\n",
       "         [0.12806201],\n",
       "         [0.04048398],\n",
       "         [0.04048398],\n",
       "         [0.94631027],\n",
       "         [0.94631027],\n",
       "         [0.81113706],\n",
       "         [0.81113706],\n",
       "         [0.87208035],\n",
       "         [0.87208035],\n",
       "         [0.80339684],\n",
       "         [0.80339684],\n",
       "         [0.10764013],\n",
       "         [0.10764013],\n",
       "         [0.8115346 ],\n",
       "         [0.8115346 ],\n",
       "         [0.04301261],\n",
       "         [0.04301261],\n",
       "         [0.43545196],\n",
       "         [0.43545196],\n",
       "         [0.80417919],\n",
       "         [0.80417919],\n",
       "         [0.3600238 ],\n",
       "         [0.3600238 ],\n",
       "         [0.94363635],\n",
       "         [0.94363635],\n",
       "         [0.40389885],\n",
       "         [0.40389885],\n",
       "         [0.1714196 ],\n",
       "         [0.1714196 ],\n",
       "         [0.14774046],\n",
       "         [0.14774046],\n",
       "         [0.51699118],\n",
       "         [0.51699118],\n",
       "         [0.44056784],\n",
       "         [0.44056784],\n",
       "         [0.08212789],\n",
       "         [0.08212789],\n",
       "         [0.19486837],\n",
       "         [0.19486837],\n",
       "         [0.73275815],\n",
       "         [0.73275815],\n",
       "         [0.91293749],\n",
       "         [0.91293749],\n",
       "         [0.42085835],\n",
       "         [0.42085835],\n",
       "         [0.31092636],\n",
       "         [0.31092636],\n",
       "         [0.96431405],\n",
       "         [0.96431405],\n",
       "         [0.63034781],\n",
       "         [0.63034781],\n",
       "         [0.20914249],\n",
       "         [0.20914249],\n",
       "         [0.55366573],\n",
       "         [0.55366573],\n",
       "         [0.17970548],\n",
       "         [0.17970548],\n",
       "         [0.93839482],\n",
       "         [0.93839482],\n",
       "         [0.20425183],\n",
       "         [0.20425183],\n",
       "         [0.25491945],\n",
       "         [0.25491945],\n",
       "         [0.31873692],\n",
       "         [0.31873692],\n",
       "         [0.62473211],\n",
       "         [0.62473211],\n",
       "         [0.52382182],\n",
       "         [0.52382182],\n",
       "         [0.79558168],\n",
       "         [0.79558168],\n",
       "         [0.22154489],\n",
       "         [0.22154489],\n",
       "         [0.53465223],\n",
       "         [0.53465223],\n",
       "         [0.77832077],\n",
       "         [0.77832077],\n",
       "         [0.01786891],\n",
       "         [0.01786891],\n",
       "         [0.66487661],\n",
       "         [0.66487661],\n",
       "         [0.84787482],\n",
       "         [0.84787482],\n",
       "         [0.76793106],\n",
       "         [0.76793106],\n",
       "         [0.19857482],\n",
       "         [0.19857482],\n",
       "         [0.38887314],\n",
       "         [0.38887314],\n",
       "         [0.10085472],\n",
       "         [0.10085472],\n",
       "         [0.67123664],\n",
       "         [0.67123664],\n",
       "         [0.28124896],\n",
       "         [0.28124896],\n",
       "         [0.56246447],\n",
       "         [0.56246447],\n",
       "         [0.67400623],\n",
       "         [0.67400623],\n",
       "         [0.86670236],\n",
       "         [0.86670236],\n",
       "         [0.28241618],\n",
       "         [0.28241618],\n",
       "         [0.64312938],\n",
       "         [0.64312938],\n",
       "         [0.91791452],\n",
       "         [0.91791452],\n",
       "         [0.57642842],\n",
       "         [0.57642842],\n",
       "         [0.6550927 ],\n",
       "         [0.6550927 ],\n",
       "         [0.74347802],\n",
       "         [0.74347802],\n",
       "         [0.54887809],\n",
       "         [0.54887809],\n",
       "         [0.76058445],\n",
       "         [0.76058445],\n",
       "         [0.36705656],\n",
       "         [0.36705656],\n",
       "         [0.70041289],\n",
       "         [0.70041289],\n",
       "         [0.43931396],\n",
       "         [0.43931396],\n",
       "         [0.66118479],\n",
       "         [0.66118479],\n",
       "         [0.4965697 ],\n",
       "         [0.4965697 ],\n",
       "         [0.01770484],\n",
       "         [0.01770484],\n",
       "         [0.94440228],\n",
       "         [0.94440228],\n",
       "         [0.29078797],\n",
       "         [0.29078797],\n",
       "         [0.77191416],\n",
       "         [0.77191416],\n",
       "         [0.99641823],\n",
       "         [0.99641823],\n",
       "         [0.39923657],\n",
       "         [0.39923657],\n",
       "         [0.59773968],\n",
       "         [0.59773968],\n",
       "         [0.15455812],\n",
       "         [0.15455812],\n",
       "         [0.43871462],\n",
       "         [0.43871462],\n",
       "         [0.80192128],\n",
       "         [0.80192128],\n",
       "         [0.13996856],\n",
       "         [0.13996856],\n",
       "         [0.31867212],\n",
       "         [0.31867212],\n",
       "         [0.17751976],\n",
       "         [0.17751976]])}}"
      ]
     },
     "execution_count": 1,
     "metadata": {},
     "output_type": "execute_result"
    }
   ],
   "source": [
    "ds = load_by_id(run_id_a)\n",
    "ds.get_parameter_data('x1')"
   ]
  },
  {
   "cell_type": "code",
   "execution_count": null,
   "metadata": {},
   "outputs": [],
   "source": []
  }
 ],
 "metadata": {
  "kernelspec": {
   "display_name": "Python 3",
   "language": "python",
   "name": "python3"
  },
  "language_info": {
   "codemirror_mode": {
    "name": "ipython",
    "version": 3
   },
   "file_extension": ".py",
   "mimetype": "text/x-python",
   "name": "python",
   "nbconvert_exporter": "python",
   "pygments_lexer": "ipython3",
   "version": "3.7.10"
  },
  "nbsphinx": {
   "timeout": 600
  },
  "toc": {
   "base_numbering": 1,
   "nav_menu": {},
   "number_sections": true,
   "sideBar": true,
   "skip_h1_title": false,
   "title_cell": "Table of Contents",
   "title_sidebar": "Contents",
   "toc_cell": false,
   "toc_position": {},
   "toc_section_display": true,
   "toc_window_display": false
  },
  "varInspector": {
   "cols": {
    "lenName": 16,
    "lenType": 16,
    "lenVar": 40
   },
   "kernels_config": {
    "python": {
     "delete_cmd_postfix": "",
     "delete_cmd_prefix": "del ",
     "library": "var_list.py",
     "varRefreshCmd": "print(var_dic_list())"
    },
    "r": {
     "delete_cmd_postfix": ") ",
     "delete_cmd_prefix": "rm(",
     "library": "var_list.r",
     "varRefreshCmd": "cat(var_dic_list()) "
    }
   },
   "types_to_exclude": [
    "module",
    "function",
    "builtin_function_or_method",
    "instance",
    "_Feature"
   ],
   "window_display": false
  }
 },
 "nbformat": 4,
 "nbformat_minor": 2
}
