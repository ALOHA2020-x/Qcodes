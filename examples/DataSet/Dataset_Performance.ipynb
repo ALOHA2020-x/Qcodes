{
 "cells": [
  {
   "cell_type": "markdown",
   "metadata": {},
   "source": [
    "# DataSet Performance\n",
    "\n",
    "This notebook shows the trade-off between inserting data into a database row-by-row and as binary blobs. Inserting the data row-by-row means that we have direct access to all the data and may perform queries directly on the values of the data. On the other hand, as we shall see, this is much slower than inserting the data directly as binary blobs."
   ]
  },
  {
   "cell_type": "markdown",
   "metadata": {},
   "source": [
    "First, we choose a new location for the database to ensure that we don't add a bunch of benchmarking data to the default one."
   ]
  },
  {
   "cell_type": "code",
   "execution_count": 1,
   "metadata": {
    "execution": {
     "iopub.execute_input": "2021-01-06T12:09:43.346693Z",
     "iopub.status.busy": "2021-01-06T12:09:43.346083Z",
     "iopub.status.idle": "2021-01-06T12:09:44.420006Z",
     "shell.execute_reply": "2021-01-06T12:09:44.419090Z"
    }
   },
   "outputs": [
    {
     "name": "stdout",
     "output_type": "stream",
     "text": [
      "Logging hadn't been started.\n",
      "Activating auto-logging. Current session state plus future input saved.\n",
      "Filename       : /home/vsts/.qcodes/logs/command_history.log\n",
      "Mode           : append\n",
      "Output logging : True\n",
      "Raw input log  : False\n",
      "Timestamping   : True\n",
      "State          : active\n"
     ]
    },
    {
     "name": "stdout",
     "output_type": "stream",
     "text": [
      "Qcodes Logfile : /home/vsts/.qcodes/logs/210106-13458-qcodes.log\n"
     ]
    }
   ],
   "source": [
    "import os\n",
    "cwd = os.getcwd()\n",
    "import qcodes as qc\n",
    "qc.config[\"core\"][\"db_location\"] = os.path.join(cwd, 'testing.db')\n"
   ]
  },
  {
   "cell_type": "code",
   "execution_count": 2,
   "metadata": {
    "execution": {
     "iopub.execute_input": "2021-01-06T12:09:44.427080Z",
     "iopub.status.busy": "2021-01-06T12:09:44.426498Z",
     "iopub.status.idle": "2021-01-06T12:09:44.616876Z",
     "shell.execute_reply": "2021-01-06T12:09:44.615848Z"
    }
   },
   "outputs": [],
   "source": [
    "%matplotlib inline\n",
    "import time\n",
    "import matplotlib.pyplot as plt\n",
    "import numpy as np\n",
    "\n",
    "import qcodes as qc\n",
    "from qcodes.instrument.parameter import ManualParameter\n",
    "from qcodes.dataset.experiment_container import (Experiment,\n",
    "                                                 load_last_experiment,\n",
    "                                                 new_experiment)\n",
    "from qcodes.dataset.sqlite.database import initialise_database\n",
    "from qcodes import load_or_create_experiment\n",
    "from qcodes.dataset.measurements import Measurement"
   ]
  },
  {
   "cell_type": "code",
   "execution_count": 3,
   "metadata": {
    "execution": {
     "iopub.execute_input": "2021-01-06T12:09:44.620713Z",
     "iopub.status.busy": "2021-01-06T12:09:44.620193Z",
     "iopub.status.idle": "2021-01-06T12:09:44.721355Z",
     "shell.execute_reply": "2021-01-06T12:09:44.720809Z"
    }
   },
   "outputs": [
    {
     "name": "stdout",
     "output_type": "stream",
     "text": [
      "\r",
      "0it [00:00, ?it/s]"
     ]
    },
    {
     "name": "stdout",
     "output_type": "stream",
     "text": [
      "\r",
      "Upgrading database; v0 -> v1: : 0it [00:00, ?it/s]"
     ]
    },
    {
     "name": "stdout",
     "output_type": "stream",
     "text": [
      "\r",
      "Upgrading database; v0 -> v1: : 0it [00:00, ?it/s]"
     ]
    },
    {
     "name": "stdout",
     "output_type": "stream",
     "text": [
      "\n",
      "\r",
      "  0%|          | 0/1 [00:00<?, ?it/s]"
     ]
    },
    {
     "name": "stdout",
     "output_type": "stream",
     "text": [
      "\r",
      "Upgrading database; v1 -> v2:   0%|          | 0/1 [00:00<?, ?it/s]"
     ]
    },
    {
     "name": "stdout",
     "output_type": "stream",
     "text": [
      "\r",
      "Upgrading database; v1 -> v2: 100%|██████████| 1/1 [00:00<00:00, 791.23it/s]"
     ]
    },
    {
     "name": "stdout",
     "output_type": "stream",
     "text": [
      "\n",
      "\r",
      "0it [00:00, ?it/s]"
     ]
    },
    {
     "name": "stdout",
     "output_type": "stream",
     "text": [
      "\r",
      "Upgrading database; v2 -> v3: : 0it [00:00, ?it/s]"
     ]
    },
    {
     "name": "stdout",
     "output_type": "stream",
     "text": [
      "\r",
      "Upgrading database; v2 -> v3: : 0it [00:00, ?it/s]"
     ]
    },
    {
     "name": "stdout",
     "output_type": "stream",
     "text": [
      "\n",
      "\r",
      "0it [00:00, ?it/s]"
     ]
    },
    {
     "name": "stdout",
     "output_type": "stream",
     "text": [
      "\r",
      "Upgrading database; v3 -> v4: : 0it [00:00, ?it/s]"
     ]
    },
    {
     "name": "stdout",
     "output_type": "stream",
     "text": [
      "\r",
      "Upgrading database; v3 -> v4: : 0it [00:00, ?it/s]"
     ]
    },
    {
     "name": "stdout",
     "output_type": "stream",
     "text": [
      "\n",
      "\r",
      "  0%|          | 0/1 [00:00<?, ?it/s]"
     ]
    },
    {
     "name": "stdout",
     "output_type": "stream",
     "text": [
      "\r",
      "Upgrading database; v4 -> v5:   0%|          | 0/1 [00:00<?, ?it/s]"
     ]
    },
    {
     "name": "stdout",
     "output_type": "stream",
     "text": [
      "\r",
      "Upgrading database; v4 -> v5: 100%|██████████| 1/1 [00:00<00:00, 640.45it/s]"
     ]
    },
    {
     "name": "stdout",
     "output_type": "stream",
     "text": [
      "\n",
      "\r",
      "0it [00:00, ?it/s]"
     ]
    },
    {
     "name": "stdout",
     "output_type": "stream",
     "text": [
      "\r",
      "Upgrading database; v5 -> v6: : 0it [00:00, ?it/s]"
     ]
    },
    {
     "name": "stdout",
     "output_type": "stream",
     "text": [
      "\r",
      "Upgrading database; v5 -> v6: : 0it [00:00, ?it/s]"
     ]
    },
    {
     "name": "stdout",
     "output_type": "stream",
     "text": [
      "\n",
      "\r",
      "  0%|          | 0/1 [00:00<?, ?it/s]"
     ]
    },
    {
     "name": "stdout",
     "output_type": "stream",
     "text": [
      "\r",
      "Upgrading database; v6 -> v7:   0%|          | 0/1 [00:00<?, ?it/s]"
     ]
    },
    {
     "name": "stdout",
     "output_type": "stream",
     "text": [
      "\r",
      "Upgrading database; v6 -> v7: 100%|██████████| 1/1 [00:00<00:00, 416.39it/s]"
     ]
    },
    {
     "name": "stdout",
     "output_type": "stream",
     "text": [
      "\n",
      "\r",
      "  0%|          | 0/1 [00:00<?, ?it/s]"
     ]
    },
    {
     "name": "stdout",
     "output_type": "stream",
     "text": [
      "\r",
      "Upgrading database; v7 -> v8:   0%|          | 0/1 [00:00<?, ?it/s]"
     ]
    },
    {
     "name": "stdout",
     "output_type": "stream",
     "text": [
      "\r",
      "Upgrading database; v7 -> v8: 100%|██████████| 1/1 [00:00<00:00, 943.39it/s]"
     ]
    },
    {
     "name": "stdout",
     "output_type": "stream",
     "text": [
      "\n",
      "\r",
      "  0%|          | 0/1 [00:00<?, ?it/s]"
     ]
    },
    {
     "name": "stdout",
     "output_type": "stream",
     "text": [
      "\r",
      "Upgrading database; v8 -> v9:   0%|          | 0/1 [00:00<?, ?it/s]"
     ]
    },
    {
     "name": "stdout",
     "output_type": "stream",
     "text": [
      "\r",
      "Upgrading database; v8 -> v9: 100%|██████████| 1/1 [00:00<00:00, 507.78it/s]"
     ]
    },
    {
     "name": "stdout",
     "output_type": "stream",
     "text": [
      "\n"
     ]
    }
   ],
   "source": [
    "initialise_database()\n",
    "exp = load_or_create_experiment(experiment_name='tutorial_exp', sample_name=\"no sample\")"
   ]
  },
  {
   "cell_type": "markdown",
   "metadata": {},
   "source": [
    "Here, we define a simple function to benchmark the time it takes to insert n points with either numeric or array data type.\n",
    "We will compare both the time used to call ``add_result`` and the time used for the full measurement."
   ]
  },
  {
   "cell_type": "code",
   "execution_count": 4,
   "metadata": {
    "execution": {
     "iopub.execute_input": "2021-01-06T12:09:44.730919Z",
     "iopub.status.busy": "2021-01-06T12:09:44.729761Z",
     "iopub.status.idle": "2021-01-06T12:09:44.731452Z",
     "shell.execute_reply": "2021-01-06T12:09:44.731959Z"
    }
   },
   "outputs": [],
   "source": [
    "def insert_data(paramtype, npoints, nreps=1):\n",
    "\n",
    "    meas = Measurement(exp=exp)\n",
    "\n",
    "    x1 = ManualParameter('x1')\n",
    "    x2 = ManualParameter('x2')\n",
    "    x3 = ManualParameter('x3')\n",
    "    y1 = ManualParameter('y1')\n",
    "    y2 = ManualParameter('y2')\n",
    "\n",
    "    meas.register_parameter(x1, paramtype=paramtype)\n",
    "    meas.register_parameter(x2, paramtype=paramtype)\n",
    "    meas.register_parameter(x3, paramtype=paramtype)\n",
    "    meas.register_parameter(y1, setpoints=[x1, x2, x3],\n",
    "                            paramtype=paramtype)\n",
    "    meas.register_parameter(y2, setpoints=[x1, x2, x3],\n",
    "                            paramtype=paramtype)\n",
    "    start = time.perf_counter()\n",
    "    with meas.run() as datasaver:\n",
    "        start_adding = time.perf_counter()\n",
    "        for i in range(nreps):\n",
    "            datasaver.add_result((x1, np.random.rand(npoints)),\n",
    "                                 (x2, np.random.rand(npoints)),\n",
    "                                 (x3, np.random.rand(npoints)),\n",
    "                                 (y1, np.random.rand(npoints)),\n",
    "                                 (y2, np.random.rand(npoints)))\n",
    "        stop_adding = time.perf_counter()\n",
    "        run_id = datasaver.run_id\n",
    "    stop = time.perf_counter()\n",
    "    tot_time = stop - start\n",
    "    add_time = stop_adding - start_adding\n",
    "    return tot_time, add_time, run_id"
   ]
  },
  {
   "cell_type": "markdown",
   "metadata": {},
   "source": [
    "## Comparison between numeric/array data and binary blob"
   ]
  },
  {
   "cell_type": "markdown",
   "metadata": {},
   "source": [
    "### Case1: Short experiment time"
   ]
  },
  {
   "cell_type": "code",
   "execution_count": 5,
   "metadata": {
    "execution": {
     "iopub.execute_input": "2021-01-06T12:09:44.737891Z",
     "iopub.status.busy": "2021-01-06T12:09:44.735800Z",
     "iopub.status.idle": "2021-01-06T12:09:45.567439Z",
     "shell.execute_reply": "2021-01-06T12:09:45.566857Z"
    }
   },
   "outputs": [
    {
     "name": "stdout",
     "output_type": "stream",
     "text": [
      "Starting experimental run with id: 1. \n",
      "Starting experimental run with id: 2. \n",
      "Starting experimental run with id: 3. \n",
      "Starting experimental run with id: 4. \n",
      "Starting experimental run with id: 5. \n"
     ]
    },
    {
     "name": "stdout",
     "output_type": "stream",
     "text": [
      "Starting experimental run with id: 6. \n"
     ]
    },
    {
     "name": "stdout",
     "output_type": "stream",
     "text": [
      "Starting experimental run with id: 7. "
     ]
    },
    {
     "name": "stdout",
     "output_type": "stream",
     "text": [
      "\n"
     ]
    },
    {
     "name": "stdout",
     "output_type": "stream",
     "text": [
      "Starting experimental run with id: 8. \n",
      "Starting experimental run with id: 9. \n"
     ]
    },
    {
     "name": "stdout",
     "output_type": "stream",
     "text": [
      "Starting experimental run with id: 10. \n",
      "Starting experimental run with id: 11. \n"
     ]
    },
    {
     "name": "stdout",
     "output_type": "stream",
     "text": [
      "Starting experimental run with id: 12. \n",
      "Starting experimental run with id: 13. \n"
     ]
    },
    {
     "name": "stdout",
     "output_type": "stream",
     "text": [
      "Starting experimental run with id: 14. \n"
     ]
    }
   ],
   "source": [
    "sizes = [1,500,1000,2000,3000,4000,5000]\n",
    "t_numeric = []\n",
    "t_numeric_add = []\n",
    "t_array = []\n",
    "t_array_add = []\n",
    "for size in sizes:\n",
    "    tn, tna, run_id_n =  insert_data('numeric', size)\n",
    "    t_numeric.append(tn)\n",
    "    t_numeric_add.append(tna)\n",
    "\n",
    "    ta, taa, run_id_a =  insert_data('array', size)\n",
    "    t_array.append(ta)\n",
    "    t_array_add.append(taa)"
   ]
  },
  {
   "cell_type": "code",
   "execution_count": 6,
   "metadata": {
    "execution": {
     "iopub.execute_input": "2021-01-06T12:09:45.610293Z",
     "iopub.status.busy": "2021-01-06T12:09:45.596973Z",
     "iopub.status.idle": "2021-01-06T12:09:45.769099Z",
     "shell.execute_reply": "2021-01-06T12:09:45.769849Z"
    }
   },
   "outputs": [
    {
     "data": {
      "image/png": "[encoded data removed]",
      "text/plain": [
       "<Figure size 432x288 with 1 Axes>"
      ]
     },
     "metadata": {
      "needs_background": "light"
     },
     "output_type": "display_data"
    }
   ],
   "source": [
    "fig, ax = plt.subplots(1,1)\n",
    "ax.plot(sizes, t_numeric, 'o-', label='Inserting row-by-row')\n",
    "ax.plot(sizes, t_numeric_add, 'o-', label='Inserting row-by-row: add_result only')\n",
    "ax.plot(sizes, t_array, 'd-', label='Inserting as binary blob')\n",
    "ax.plot(sizes, t_array_add, 'd-', label='Inserting as binary blob: add_result only')\n",
    "ax.legend()\n",
    "ax.set_xlabel('Array length')\n",
    "ax.set_ylabel('Time (s)')\n",
    "fig.tight_layout()"
   ]
  },
  {
   "cell_type": "markdown",
   "metadata": {},
   "source": [
    "As shown in the latter figure, the time to setup and and close the experiment is approximately 0.4 sec. In case of small array sizes, the difference between inserting values of data as arrays and inserting them row-by-row is relatively unimportant. At larger array sizes, i.e. above 10000 points, the cost of writing data as individual datapoints starts to become important.\n"
   ]
  },
  {
   "cell_type": "markdown",
   "metadata": {},
   "source": [
    "### Case2: Long experiment time "
   ]
  },
  {
   "cell_type": "code",
   "execution_count": 7,
   "metadata": {
    "execution": {
     "iopub.execute_input": "2021-01-06T12:09:45.777021Z",
     "iopub.status.busy": "2021-01-06T12:09:45.776425Z",
     "iopub.status.idle": "2021-01-06T12:10:45.606625Z",
     "shell.execute_reply": "2021-01-06T12:10:45.605947Z"
    }
   },
   "outputs": [
    {
     "name": "stdout",
     "output_type": "stream",
     "text": [
      "Starting experimental run with id: 15. \n",
      "Starting experimental run with id: 16. \n",
      "Starting experimental run with id: 17. \n"
     ]
    },
    {
     "name": "stdout",
     "output_type": "stream",
     "text": [
      "Starting experimental run with id: 18. \n",
      "Starting experimental run with id: 19. \n"
     ]
    },
    {
     "name": "stdout",
     "output_type": "stream",
     "text": [
      "Starting experimental run with id: 20. \n"
     ]
    },
    {
     "name": "stdout",
     "output_type": "stream",
     "text": [
      "Starting experimental run with id: 21. \n"
     ]
    },
    {
     "name": "stdout",
     "output_type": "stream",
     "text": [
      "Starting experimental run with id: 22. \n"
     ]
    },
    {
     "name": "stdout",
     "output_type": "stream",
     "text": [
      "Starting experimental run with id: 23. \n"
     ]
    },
    {
     "name": "stdout",
     "output_type": "stream",
     "text": [
      "Starting experimental run with id: 24. \n"
     ]
    },
    {
     "name": "stdout",
     "output_type": "stream",
     "text": [
      "Starting experimental run with id: 25. \n"
     ]
    },
    {
     "name": "stdout",
     "output_type": "stream",
     "text": [
      "Starting experimental run with id: 26. \n"
     ]
    },
    {
     "name": "stdout",
     "output_type": "stream",
     "text": [
      "Starting experimental run with id: 27. \n"
     ]
    },
    {
     "name": "stdout",
     "output_type": "stream",
     "text": [
      "Starting experimental run with id: 28. \n"
     ]
    }
   ],
   "source": [
    "sizes = [1,500,1000,2000,3000,4000,5000]\n",
    "nreps = 100\n",
    "t_numeric = []\n",
    "t_numeric_add = []\n",
    "t_numeric_run_ids = []\n",
    "t_array = []\n",
    "t_array_add = []\n",
    "t_array_run_ids = []\n",
    "for size in sizes:\n",
    "    tn, tna, run_id_n =  insert_data('numeric', size, nreps=nreps)\n",
    "    t_numeric.append(tn)\n",
    "    t_numeric_add.append(tna)\n",
    "    t_numeric_run_ids.append(run_id_n)\n",
    "\n",
    "    ta, taa, run_id_a =  insert_data('array', size, nreps=nreps)\n",
    "    t_array.append(ta)\n",
    "    t_array_add.append(taa)\n",
    "    t_array_run_ids.append(run_id_a)"
   ]
  },
  {
   "cell_type": "code",
   "execution_count": 8,
   "metadata": {
    "execution": {
     "iopub.execute_input": "2021-01-06T12:10:45.630023Z",
     "iopub.status.busy": "2021-01-06T12:10:45.611748Z",
     "iopub.status.idle": "2021-01-06T12:10:45.806703Z",
     "shell.execute_reply": "2021-01-06T12:10:45.807263Z"
    },
    "scrolled": true
   },
   "outputs": [
    {
     "data": {
      "image/png": "[encoded data removed]",
      "text/plain": [
       "<Figure size 432x288 with 1 Axes>"
      ]
     },
     "metadata": {
      "needs_background": "light"
     },
     "output_type": "display_data"
    }
   ],
   "source": [
    "fig, ax = plt.subplots(1,1)\n",
    "ax.plot(sizes, t_numeric, 'o-', label='Inserting row-by-row')\n",
    "ax.plot(sizes, t_numeric_add, 'o-', label='Inserting row-by-row: add_result only')\n",
    "ax.plot(sizes, t_array, 'd-', label='Inserting as binary blob')\n",
    "ax.plot(sizes, t_array_add, 'd-', label='Inserting as binary blob: add_result only')\n",
    "ax.legend()\n",
    "ax.set_xlabel('Array length')\n",
    "ax.set_ylabel('Time (s)')\n",
    "fig.tight_layout()"
   ]
  },
  {
   "cell_type": "markdown",
   "metadata": {},
   "source": [
    "However, as we increase the length of the experiment, as seen here by repeating the insertion 100 times, we see a big difference between inserting values of the data row-by-row and inserting it as a binary blob."
   ]
  },
  {
   "cell_type": "markdown",
   "metadata": {},
   "source": [
    "## Loading the data "
   ]
  },
  {
   "cell_type": "code",
   "execution_count": 9,
   "metadata": {
    "execution": {
     "iopub.execute_input": "2021-01-06T12:10:45.811251Z",
     "iopub.status.busy": "2021-01-06T12:10:45.810436Z",
     "iopub.status.idle": "2021-01-06T12:10:45.814874Z",
     "shell.execute_reply": "2021-01-06T12:10:45.814167Z"
    }
   },
   "outputs": [],
   "source": [
    "from qcodes.dataset.data_set import load_by_id\n",
    "from qcodes.dataset.data_export import get_data_by_id"
   ]
  },
  {
   "cell_type": "markdown",
   "metadata": {},
   "source": [
    "As usual you can load the data by using the ``load_by_id`` function but you will notice that the different storage methods\n",
    "are reflected in shape of the data as it is retrieved. "
   ]
  },
  {
   "cell_type": "code",
   "execution_count": 10,
   "metadata": {
    "execution": {
     "iopub.execute_input": "2021-01-06T12:10:45.818832Z",
     "iopub.status.busy": "2021-01-06T12:10:45.818059Z",
     "iopub.status.idle": "2021-01-06T12:10:45.820442Z",
     "shell.execute_reply": "2021-01-06T12:10:45.819881Z"
    }
   },
   "outputs": [],
   "source": [
    "run_id_n = t_numeric_run_ids[0]\n",
    "run_id_a = t_array_run_ids[0]"
   ]
  },
  {
   "cell_type": "code",
   "execution_count": 11,
   "metadata": {
    "execution": {
     "iopub.execute_input": "2021-01-06T12:10:45.823536Z",
     "iopub.status.busy": "2021-01-06T12:10:45.823022Z",
     "iopub.status.idle": "2021-01-06T12:10:45.832205Z",
     "shell.execute_reply": "2021-01-06T12:10:45.831762Z"
    },
    "scrolled": true
   },
   "outputs": [
    {
     "data": {
      "text/plain": [
       "{'x1': {'x1': array([0.12153767, 0.12153767, 0.8827354 , 0.8827354 , 0.45896097,\n",
       "         0.45896097, 0.96895901, 0.96895901, 0.3669957 , 0.3669957 ,\n",
       "         0.79410196, 0.79410196, 0.35649976, 0.35649976, 0.80290143,\n",
       "         0.80290143, 0.58502026, 0.58502026, 0.2950647 , 0.2950647 ,\n",
       "         0.72985951, 0.72985951, 0.37904763, 0.37904763, 0.41155454,\n",
       "         0.41155454, 0.89233193, 0.89233193, 0.10434643, 0.10434643,\n",
       "         0.01442559, 0.01442559, 0.0243794 , 0.0243794 , 0.35726365,\n",
       "         0.35726365, 0.26050293, 0.26050293, 0.59201097, 0.59201097,\n",
       "         0.66244051, 0.66244051, 0.32022629, 0.32022629, 0.28015551,\n",
       "         0.28015551, 0.98544682, 0.98544682, 0.45369511, 0.45369511,\n",
       "         0.83132405, 0.83132405, 0.58044172, 0.58044172, 0.02744132,\n",
       "         0.02744132, 0.51854702, 0.51854702, 0.46458557, 0.46458557,\n",
       "         0.06367992, 0.06367992, 0.03494805, 0.03494805, 0.97352878,\n",
       "         0.97352878, 0.02030388, 0.02030388, 0.70930944, 0.70930944,\n",
       "         0.42209   , 0.42209   , 0.83537388, 0.83537388, 0.19477907,\n",
       "         0.19477907, 0.09809862, 0.09809862, 0.44017307, 0.44017307,\n",
       "         0.14186079, 0.14186079, 0.32056371, 0.32056371, 0.28497112,\n",
       "         0.28497112, 0.65215627, 0.65215627, 0.29380987, 0.29380987,\n",
       "         0.63403441, 0.63403441, 0.91815058, 0.91815058, 0.32965376,\n",
       "         0.32965376, 0.26024564, 0.26024564, 0.11254042, 0.11254042,\n",
       "         0.4340518 , 0.4340518 , 0.95176884, 0.95176884, 0.23428416,\n",
       "         0.23428416, 0.39242739, 0.39242739, 0.11014013, 0.11014013,\n",
       "         0.09946149, 0.09946149, 0.52700888, 0.52700888, 0.5046502 ,\n",
       "         0.5046502 , 0.58447651, 0.58447651, 0.68894142, 0.68894142,\n",
       "         0.26492035, 0.26492035, 0.71342525, 0.71342525, 0.39287957,\n",
       "         0.39287957, 0.11852452, 0.11852452, 0.10259336, 0.10259336,\n",
       "         0.63032149, 0.63032149, 0.39634079, 0.39634079, 0.76354963,\n",
       "         0.76354963, 0.08848579, 0.08848579, 0.89602017, 0.89602017,\n",
       "         0.69648286, 0.69648286, 0.97925846, 0.97925846, 0.1334866 ,\n",
       "         0.1334866 , 0.1550749 , 0.1550749 , 0.3351996 , 0.3351996 ,\n",
       "         0.55243525, 0.55243525, 0.18020372, 0.18020372, 0.91466215,\n",
       "         0.91466215, 0.44337934, 0.44337934, 0.10137544, 0.10137544,\n",
       "         0.66379893, 0.66379893, 0.13766413, 0.13766413, 0.11559046,\n",
       "         0.11559046, 0.34850538, 0.34850538, 0.2662088 , 0.2662088 ,\n",
       "         0.29481671, 0.29481671, 0.40779041, 0.40779041, 0.79787825,\n",
       "         0.79787825, 0.93381513, 0.93381513, 0.22970145, 0.22970145,\n",
       "         0.42052067, 0.42052067, 0.81878833, 0.81878833, 0.40805851,\n",
       "         0.40805851, 0.90213946, 0.90213946, 0.8108814 , 0.8108814 ,\n",
       "         0.7795051 , 0.7795051 , 0.15806981, 0.15806981, 0.534881  ,\n",
       "         0.534881  , 0.52315352, 0.52315352, 0.65340626, 0.65340626])}}"
      ]
     },
     "execution_count": 1,
     "metadata": {},
     "output_type": "execute_result"
    }
   ],
   "source": [
    "ds = load_by_id(run_id_n)\n",
    "ds.get_parameter_data('x1')"
   ]
  },
  {
   "cell_type": "markdown",
   "metadata": {},
   "source": [
    "And a dataset stored as binary arrays"
   ]
  },
  {
   "cell_type": "code",
   "execution_count": 12,
   "metadata": {
    "execution": {
     "iopub.execute_input": "2021-01-06T12:10:45.835614Z",
     "iopub.status.busy": "2021-01-06T12:10:45.834977Z",
     "iopub.status.idle": "2021-01-06T12:10:45.889437Z",
     "shell.execute_reply": "2021-01-06T12:10:45.890126Z"
    },
    "scrolled": true
   },
   "outputs": [
    {
     "data": {
      "text/plain": [
       "{'x1': {'x1': array([[0.59526884],\n",
       "         [0.59526884],\n",
       "         [0.64845522],\n",
       "         [0.64845522],\n",
       "         [0.62121255],\n",
       "         [0.62121255],\n",
       "         [0.33491212],\n",
       "         [0.33491212],\n",
       "         [0.1866623 ],\n",
       "         [0.1866623 ],\n",
       "         [0.7291933 ],\n",
       "         [0.7291933 ],\n",
       "         [0.00475257],\n",
       "         [0.00475257],\n",
       "         [0.35640501],\n",
       "         [0.35640501],\n",
       "         [0.86606624],\n",
       "         [0.86606624],\n",
       "         [0.95116868],\n",
       "         [0.95116868],\n",
       "         [0.31727129],\n",
       "         [0.31727129],\n",
       "         [0.04887042],\n",
       "         [0.04887042],\n",
       "         [0.29821783],\n",
       "         [0.29821783],\n",
       "         [0.7344896 ],\n",
       "         [0.7344896 ],\n",
       "         [0.36106182],\n",
       "         [0.36106182],\n",
       "         [0.14661937],\n",
       "         [0.14661937],\n",
       "         [0.46261612],\n",
       "         [0.46261612],\n",
       "         [0.54789047],\n",
       "         [0.54789047],\n",
       "         [0.14875443],\n",
       "         [0.14875443],\n",
       "         [0.58381871],\n",
       "         [0.58381871],\n",
       "         [0.19364041],\n",
       "         [0.19364041],\n",
       "         [0.60339238],\n",
       "         [0.60339238],\n",
       "         [0.22391419],\n",
       "         [0.22391419],\n",
       "         [0.7973271 ],\n",
       "         [0.7973271 ],\n",
       "         [0.39256895],\n",
       "         [0.39256895],\n",
       "         [0.49991586],\n",
       "         [0.49991586],\n",
       "         [0.91761428],\n",
       "         [0.91761428],\n",
       "         [0.91373028],\n",
       "         [0.91373028],\n",
       "         [0.22536074],\n",
       "         [0.22536074],\n",
       "         [0.09723016],\n",
       "         [0.09723016],\n",
       "         [0.35605085],\n",
       "         [0.35605085],\n",
       "         [0.30260922],\n",
       "         [0.30260922],\n",
       "         [0.18115321],\n",
       "         [0.18115321],\n",
       "         [0.43105114],\n",
       "         [0.43105114],\n",
       "         [0.79046598],\n",
       "         [0.79046598],\n",
       "         [0.48690902],\n",
       "         [0.48690902],\n",
       "         [0.9145749 ],\n",
       "         [0.9145749 ],\n",
       "         [0.19939813],\n",
       "         [0.19939813],\n",
       "         [0.17924622],\n",
       "         [0.17924622],\n",
       "         [0.09656516],\n",
       "         [0.09656516],\n",
       "         [0.27879529],\n",
       "         [0.27879529],\n",
       "         [0.12604037],\n",
       "         [0.12604037],\n",
       "         [0.24996793],\n",
       "         [0.24996793],\n",
       "         [0.21477942],\n",
       "         [0.21477942],\n",
       "         [0.58363925],\n",
       "         [0.58363925],\n",
       "         [0.45699863],\n",
       "         [0.45699863],\n",
       "         [0.01705351],\n",
       "         [0.01705351],\n",
       "         [0.59232064],\n",
       "         [0.59232064],\n",
       "         [0.73306514],\n",
       "         [0.73306514],\n",
       "         [0.17620825],\n",
       "         [0.17620825],\n",
       "         [0.97388658],\n",
       "         [0.97388658],\n",
       "         [0.47328718],\n",
       "         [0.47328718],\n",
       "         [0.98494779],\n",
       "         [0.98494779],\n",
       "         [0.98722831],\n",
       "         [0.98722831],\n",
       "         [0.48363192],\n",
       "         [0.48363192],\n",
       "         [0.09699104],\n",
       "         [0.09699104],\n",
       "         [0.92467131],\n",
       "         [0.92467131],\n",
       "         [0.90558257],\n",
       "         [0.90558257],\n",
       "         [0.38486559],\n",
       "         [0.38486559],\n",
       "         [0.12021998],\n",
       "         [0.12021998],\n",
       "         [0.00278689],\n",
       "         [0.00278689],\n",
       "         [0.80682016],\n",
       "         [0.80682016],\n",
       "         [0.16227483],\n",
       "         [0.16227483],\n",
       "         [0.27875635],\n",
       "         [0.27875635],\n",
       "         [0.55914167],\n",
       "         [0.55914167],\n",
       "         [0.38686494],\n",
       "         [0.38686494],\n",
       "         [0.16240504],\n",
       "         [0.16240504],\n",
       "         [0.86132785],\n",
       "         [0.86132785],\n",
       "         [0.59932682],\n",
       "         [0.59932682],\n",
       "         [0.21311852],\n",
       "         [0.21311852],\n",
       "         [0.5947259 ],\n",
       "         [0.5947259 ],\n",
       "         [0.24991518],\n",
       "         [0.24991518],\n",
       "         [0.02849085],\n",
       "         [0.02849085],\n",
       "         [0.72893921],\n",
       "         [0.72893921],\n",
       "         [0.26646685],\n",
       "         [0.26646685],\n",
       "         [0.5431594 ],\n",
       "         [0.5431594 ],\n",
       "         [0.14364513],\n",
       "         [0.14364513],\n",
       "         [0.76704154],\n",
       "         [0.76704154],\n",
       "         [0.61275841],\n",
       "         [0.61275841],\n",
       "         [0.94609886],\n",
       "         [0.94609886],\n",
       "         [0.98915062],\n",
       "         [0.98915062],\n",
       "         [0.51319813],\n",
       "         [0.51319813],\n",
       "         [0.93778312],\n",
       "         [0.93778312],\n",
       "         [0.50325409],\n",
       "         [0.50325409],\n",
       "         [0.33904137],\n",
       "         [0.33904137],\n",
       "         [0.98679712],\n",
       "         [0.98679712],\n",
       "         [0.39604381],\n",
       "         [0.39604381],\n",
       "         [0.57587887],\n",
       "         [0.57587887],\n",
       "         [0.13858489],\n",
       "         [0.13858489],\n",
       "         [0.09251166],\n",
       "         [0.09251166],\n",
       "         [0.52180201],\n",
       "         [0.52180201],\n",
       "         [0.58151419],\n",
       "         [0.58151419],\n",
       "         [0.76456802],\n",
       "         [0.76456802],\n",
       "         [0.64673343],\n",
       "         [0.64673343],\n",
       "         [0.23583037],\n",
       "         [0.23583037],\n",
       "         [0.44625339],\n",
       "         [0.44625339],\n",
       "         [0.14978099],\n",
       "         [0.14978099],\n",
       "         [0.33450102],\n",
       "         [0.33450102],\n",
       "         [0.99042899],\n",
       "         [0.99042899],\n",
       "         [0.65054021],\n",
       "         [0.65054021]])}}"
      ]
     },
     "execution_count": 1,
     "metadata": {},
     "output_type": "execute_result"
    }
   ],
   "source": [
    "ds = load_by_id(run_id_a)\n",
    "ds.get_parameter_data('x1')"
   ]
  },
  {
   "cell_type": "code",
   "execution_count": null,
   "metadata": {},
   "outputs": [],
   "source": []
  }
 ],
 "metadata": {
  "kernelspec": {
   "display_name": "Python 3",
   "language": "python",
   "name": "python3"
  },
  "language_info": {
   "codemirror_mode": {
    "name": "ipython",
    "version": 3
   },
   "file_extension": ".py",
   "mimetype": "text/x-python",
   "name": "python",
   "nbconvert_exporter": "python",
   "pygments_lexer": "ipython3",
   "version": "3.7.9"
  },
  "nbsphinx": {
   "timeout": 600
  },
  "toc": {
   "base_numbering": 1,
   "nav_menu": {},
   "number_sections": true,
   "sideBar": true,
   "skip_h1_title": false,
   "title_cell": "Table of Contents",
   "title_sidebar": "Contents",
   "toc_cell": false,
   "toc_position": {},
   "toc_section_display": true,
   "toc_window_display": false
  },
  "varInspector": {
   "cols": {
    "lenName": 16,
    "lenType": 16,
    "lenVar": 40
   },
   "kernels_config": {
    "python": {
     "delete_cmd_postfix": "",
     "delete_cmd_prefix": "del ",
     "library": "var_list.py",
     "varRefreshCmd": "print(var_dic_list())"
    },
    "r": {
     "delete_cmd_postfix": ") ",
     "delete_cmd_prefix": "rm(",
     "library": "var_list.r",
     "varRefreshCmd": "cat(var_dic_list()) "
    }
   },
   "types_to_exclude": [
    "module",
    "function",
    "builtin_function_or_method",
    "instance",
    "_Feature"
   ],
   "window_display": false
  }
 },
 "nbformat": 4,
 "nbformat_minor": 2
}
