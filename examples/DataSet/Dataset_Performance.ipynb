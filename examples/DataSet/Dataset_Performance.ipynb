{
 "cells": [
  {
   "cell_type": "markdown",
   "metadata": {},
   "source": [
    "# DataSet Performance\n",
    "\n",
    "This notebook shows the trade-off between inserting data into a database row-by-row and as binary blobs. Inserting the data row-by-row means that we have direct access to all the data and may perform queries directly on the values of the data. On the other hand, as we shall see, this is much slower than inserting the data directly as binary blobs."
   ]
  },
  {
   "cell_type": "markdown",
   "metadata": {},
   "source": [
    "First, we choose a new location for the database to ensure that we don't add a bunch of benchmarking data to the default one."
   ]
  },
  {
   "cell_type": "code",
   "execution_count": 1,
   "metadata": {
    "execution": {
     "iopub.execute_input": "2020-11-23T07:54:39.892920Z",
     "iopub.status.busy": "2020-11-23T07:54:39.891940Z",
     "iopub.status.idle": "2020-11-23T07:54:40.818962Z",
     "shell.execute_reply": "2020-11-23T07:54:40.817896Z"
    }
   },
   "outputs": [
    {
     "name": "stdout",
     "output_type": "stream",
     "text": [
      "Logging hadn't been started.\n",
      "Activating auto-logging. Current session state plus future input saved.\n",
      "Filename       : /home/vsts/.qcodes/logs/command_history.log\n",
      "Mode           : append\n",
      "Output logging : True\n",
      "Raw input log  : False\n",
      "Timestamping   : True\n",
      "State          : active\n"
     ]
    },
    {
     "name": "stdout",
     "output_type": "stream",
     "text": [
      "Qcodes Logfile : /home/vsts/.qcodes/logs/201123-14196-qcodes.log\n"
     ]
    }
   ],
   "source": [
    "import os\n",
    "cwd = os.getcwd()\n",
    "import qcodes as qc\n",
    "qc.config[\"core\"][\"db_location\"] = os.path.join(cwd, 'testing.db')\n"
   ]
  },
  {
   "cell_type": "code",
   "execution_count": 2,
   "metadata": {
    "execution": {
     "iopub.execute_input": "2020-11-23T07:54:40.825248Z",
     "iopub.status.busy": "2020-11-23T07:54:40.824469Z",
     "iopub.status.idle": "2020-11-23T07:54:40.986374Z",
     "shell.execute_reply": "2020-11-23T07:54:40.985597Z"
    }
   },
   "outputs": [],
   "source": [
    "%matplotlib inline\n",
    "import time\n",
    "import matplotlib.pyplot as plt\n",
    "import numpy as np\n",
    "\n",
    "import qcodes as qc\n",
    "from qcodes.instrument.parameter import ManualParameter\n",
    "from qcodes.dataset.experiment_container import (Experiment,\n",
    "                                                 load_last_experiment,\n",
    "                                                 new_experiment)\n",
    "from qcodes.dataset.sqlite.database import initialise_database\n",
    "from qcodes import load_or_create_experiment\n",
    "from qcodes.dataset.measurements import Measurement"
   ]
  },
  {
   "cell_type": "code",
   "execution_count": 3,
   "metadata": {
    "execution": {
     "iopub.execute_input": "2020-11-23T07:54:40.991197Z",
     "iopub.status.busy": "2020-11-23T07:54:40.990118Z",
     "iopub.status.idle": "2020-11-23T07:54:41.094808Z",
     "shell.execute_reply": "2020-11-23T07:54:41.094212Z"
    }
   },
   "outputs": [
    {
     "name": "stdout",
     "output_type": "stream",
     "text": [
      "\r",
      "0it [00:00, ?it/s]"
     ]
    },
    {
     "name": "stdout",
     "output_type": "stream",
     "text": [
      "\r",
      "Upgrading database; v0 -> v1: : 0it [00:00, ?it/s]"
     ]
    },
    {
     "name": "stdout",
     "output_type": "stream",
     "text": [
      "\r",
      "Upgrading database; v0 -> v1: : 0it [00:00, ?it/s]"
     ]
    },
    {
     "name": "stdout",
     "output_type": "stream",
     "text": [
      "\n",
      "\r",
      "  0%|          | 0/1 [00:00<?, ?it/s]"
     ]
    },
    {
     "name": "stdout",
     "output_type": "stream",
     "text": [
      "\r",
      "Upgrading database; v1 -> v2:   0%|          | 0/1 [00:00<?, ?it/s]"
     ]
    },
    {
     "name": "stdout",
     "output_type": "stream",
     "text": [
      "\r",
      "Upgrading database; v1 -> v2: 100%|██████████| 1/1 [00:00<00:00, 443.00it/s]"
     ]
    },
    {
     "name": "stdout",
     "output_type": "stream",
     "text": [
      "\n",
      "\r",
      "0it [00:00, ?it/s]"
     ]
    },
    {
     "name": "stdout",
     "output_type": "stream",
     "text": [
      "\r",
      "Upgrading database; v2 -> v3: : 0it [00:00, ?it/s]"
     ]
    },
    {
     "name": "stdout",
     "output_type": "stream",
     "text": [
      "\r",
      "Upgrading database; v2 -> v3: : 0it [00:00, ?it/s]"
     ]
    },
    {
     "name": "stdout",
     "output_type": "stream",
     "text": [
      "\n",
      "\r",
      "0it [00:00, ?it/s]"
     ]
    },
    {
     "name": "stdout",
     "output_type": "stream",
     "text": [
      "\r",
      "Upgrading database; v3 -> v4: : 0it [00:00, ?it/s]"
     ]
    },
    {
     "name": "stdout",
     "output_type": "stream",
     "text": [
      "\r",
      "Upgrading database; v3 -> v4: : 0it [00:00, ?it/s]"
     ]
    },
    {
     "name": "stdout",
     "output_type": "stream",
     "text": [
      "\n",
      "\r",
      "  0%|          | 0/1 [00:00<?, ?it/s]"
     ]
    },
    {
     "name": "stdout",
     "output_type": "stream",
     "text": [
      "\r",
      "Upgrading database; v4 -> v5:   0%|          | 0/1 [00:00<?, ?it/s]"
     ]
    },
    {
     "name": "stdout",
     "output_type": "stream",
     "text": [
      "\r",
      "Upgrading database; v4 -> v5: 100%|██████████| 1/1 [00:00<00:00, 555.10it/s]"
     ]
    },
    {
     "name": "stdout",
     "output_type": "stream",
     "text": [
      "\n",
      "\r",
      "0it [00:00, ?it/s]"
     ]
    },
    {
     "name": "stdout",
     "output_type": "stream",
     "text": [
      "\r",
      "Upgrading database; v5 -> v6: : 0it [00:00, ?it/s]"
     ]
    },
    {
     "name": "stdout",
     "output_type": "stream",
     "text": [
      "\r",
      "Upgrading database; v5 -> v6: : 0it [00:00, ?it/s]"
     ]
    },
    {
     "name": "stdout",
     "output_type": "stream",
     "text": [
      "\n",
      "\r",
      "  0%|          | 0/1 [00:00<?, ?it/s]"
     ]
    },
    {
     "name": "stdout",
     "output_type": "stream",
     "text": [
      "\r",
      "Upgrading database; v6 -> v7:   0%|          | 0/1 [00:00<?, ?it/s]"
     ]
    },
    {
     "name": "stdout",
     "output_type": "stream",
     "text": [
      "\r",
      "Upgrading database; v6 -> v7: 100%|██████████| 1/1 [00:00<00:00, 340.34it/s]"
     ]
    },
    {
     "name": "stdout",
     "output_type": "stream",
     "text": [
      "\n",
      "\r",
      "  0%|          | 0/1 [00:00<?, ?it/s]"
     ]
    },
    {
     "name": "stdout",
     "output_type": "stream",
     "text": [
      "\r",
      "Upgrading database; v7 -> v8:   0%|          | 0/1 [00:00<?, ?it/s]"
     ]
    },
    {
     "name": "stdout",
     "output_type": "stream",
     "text": [
      "\r",
      "Upgrading database; v7 -> v8: 100%|██████████| 1/1 [00:00<00:00, 1103.18it/s]"
     ]
    },
    {
     "name": "stdout",
     "output_type": "stream",
     "text": [
      "\n",
      "\r",
      "  0%|          | 0/1 [00:00<?, ?it/s]"
     ]
    },
    {
     "name": "stdout",
     "output_type": "stream",
     "text": [
      "\r",
      "Upgrading database; v8 -> v9:   0%|          | 0/1 [00:00<?, ?it/s]"
     ]
    },
    {
     "name": "stdout",
     "output_type": "stream",
     "text": [
      "\r",
      "Upgrading database; v8 -> v9: 100%|██████████| 1/1 [00:00<00:00, 590.83it/s]"
     ]
    },
    {
     "name": "stdout",
     "output_type": "stream",
     "text": [
      "\n"
     ]
    }
   ],
   "source": [
    "initialise_database()\n",
    "exp = load_or_create_experiment(experiment_name='tutorial_exp', sample_name=\"no sample\")"
   ]
  },
  {
   "cell_type": "markdown",
   "metadata": {},
   "source": [
    "Here, we define a simple function to benchmark the time it takes to insert n points with either numeric or array data type.\n",
    "We will compare both the time used to call ``add_result`` and the time used for the full measurement."
   ]
  },
  {
   "cell_type": "code",
   "execution_count": 4,
   "metadata": {
    "execution": {
     "iopub.execute_input": "2020-11-23T07:54:41.102199Z",
     "iopub.status.busy": "2020-11-23T07:54:41.101409Z",
     "iopub.status.idle": "2020-11-23T07:54:41.104694Z",
     "shell.execute_reply": "2020-11-23T07:54:41.105136Z"
    }
   },
   "outputs": [],
   "source": [
    "def insert_data(paramtype, npoints, nreps=1):\n",
    "\n",
    "    meas = Measurement(exp=exp)\n",
    "\n",
    "    x1 = ManualParameter('x1')\n",
    "    x2 = ManualParameter('x2')\n",
    "    x3 = ManualParameter('x3')\n",
    "    y1 = ManualParameter('y1')\n",
    "    y2 = ManualParameter('y2')\n",
    "\n",
    "    meas.register_parameter(x1, paramtype=paramtype)\n",
    "    meas.register_parameter(x2, paramtype=paramtype)\n",
    "    meas.register_parameter(x3, paramtype=paramtype)\n",
    "    meas.register_parameter(y1, setpoints=[x1, x2, x3],\n",
    "                            paramtype=paramtype)\n",
    "    meas.register_parameter(y2, setpoints=[x1, x2, x3],\n",
    "                            paramtype=paramtype)\n",
    "    start = time.perf_counter()\n",
    "    with meas.run() as datasaver:\n",
    "        start_adding = time.perf_counter()\n",
    "        for i in range(nreps):\n",
    "            datasaver.add_result((x1, np.random.rand(npoints)),\n",
    "                                 (x2, np.random.rand(npoints)),\n",
    "                                 (x3, np.random.rand(npoints)),\n",
    "                                 (y1, np.random.rand(npoints)),\n",
    "                                 (y2, np.random.rand(npoints)))\n",
    "        stop_adding = time.perf_counter()\n",
    "        run_id = datasaver.run_id\n",
    "    stop = time.perf_counter()\n",
    "    tot_time = stop - start\n",
    "    add_time = stop_adding - start_adding\n",
    "    return tot_time, add_time, run_id"
   ]
  },
  {
   "cell_type": "markdown",
   "metadata": {},
   "source": [
    "## Comparison between numeric/array data and binary blob"
   ]
  },
  {
   "cell_type": "markdown",
   "metadata": {},
   "source": [
    "### Case1: Short experiment time"
   ]
  },
  {
   "cell_type": "code",
   "execution_count": 5,
   "metadata": {
    "execution": {
     "iopub.execute_input": "2020-11-23T07:54:41.111642Z",
     "iopub.status.busy": "2020-11-23T07:54:41.110318Z",
     "iopub.status.idle": "2020-11-23T07:54:41.895413Z",
     "shell.execute_reply": "2020-11-23T07:54:41.896231Z"
    }
   },
   "outputs": [
    {
     "name": "stdout",
     "output_type": "stream",
     "text": [
      "Starting experimental run with id: 1. \n",
      "Starting experimental run with id: 2. \n",
      "Starting experimental run with id: 3. \n",
      "Starting experimental run with id: 4. \n",
      "Starting experimental run with id: 5. \n"
     ]
    },
    {
     "name": "stdout",
     "output_type": "stream",
     "text": [
      "Starting experimental run with id: 6. \n"
     ]
    },
    {
     "name": "stdout",
     "output_type": "stream",
     "text": [
      "Starting experimental run with id: 7. \n"
     ]
    },
    {
     "name": "stdout",
     "output_type": "stream",
     "text": [
      "Starting experimental run with id: 8. \n",
      "Starting experimental run with id: 9. \n"
     ]
    },
    {
     "name": "stdout",
     "output_type": "stream",
     "text": [
      "Starting experimental run with id: 10. \n",
      "Starting experimental run with id: 11. \n"
     ]
    },
    {
     "name": "stdout",
     "output_type": "stream",
     "text": [
      "Starting experimental run with id: 12. \n",
      "Starting experimental run with id: 13. \n"
     ]
    },
    {
     "name": "stdout",
     "output_type": "stream",
     "text": [
      "Starting experimental run with id: 14. \n"
     ]
    }
   ],
   "source": [
    "sizes = [1,500,1000,2000,3000,4000,5000]\n",
    "t_numeric = []\n",
    "t_numeric_add = []\n",
    "t_array = []\n",
    "t_array_add = []\n",
    "for size in sizes:\n",
    "    tn, tna, run_id_n =  insert_data('numeric', size)\n",
    "    t_numeric.append(tn)\n",
    "    t_numeric_add.append(tna)\n",
    "\n",
    "    ta, taa, run_id_a =  insert_data('array', size)\n",
    "    t_array.append(ta)\n",
    "    t_array_add.append(taa)"
   ]
  },
  {
   "cell_type": "code",
   "execution_count": 6,
   "metadata": {
    "execution": {
     "iopub.execute_input": "2020-11-23T07:54:41.939861Z",
     "iopub.status.busy": "2020-11-23T07:54:41.914799Z",
     "iopub.status.idle": "2020-11-23T07:54:42.090633Z",
     "shell.execute_reply": "2020-11-23T07:54:42.091450Z"
    }
   },
   "outputs": [
    {
     "data": {
      "image/png": "[encoded data removed]",
      "text/plain": [
       "<Figure size 432x288 with 1 Axes>"
      ]
     },
     "metadata": {
      "needs_background": "light"
     },
     "output_type": "display_data"
    }
   ],
   "source": [
    "fig, ax = plt.subplots(1,1)\n",
    "ax.plot(sizes, t_numeric, 'o-', label='Inserting row-by-row')\n",
    "ax.plot(sizes, t_numeric_add, 'o-', label='Inserting row-by-row: add_result only')\n",
    "ax.plot(sizes, t_array, 'd-', label='Inserting as binary blob')\n",
    "ax.plot(sizes, t_array_add, 'd-', label='Inserting as binary blob: add_result only')\n",
    "ax.legend()\n",
    "ax.set_xlabel('Array length')\n",
    "ax.set_ylabel('Time (s)')\n",
    "fig.tight_layout()"
   ]
  },
  {
   "cell_type": "markdown",
   "metadata": {},
   "source": [
    "As shown in the latter figure, the time to setup and and close the experiment is approximately 0.4 sec. In case of small array sizes, the difference between inserting values of data as arrays and inserting them row-by-row is relatively unimportant. At larger array sizes, i.e. above 10000 points, the cost of writing data as individual datapoints starts to become important.\n"
   ]
  },
  {
   "cell_type": "markdown",
   "metadata": {},
   "source": [
    "### Case2: Long experiment time "
   ]
  },
  {
   "cell_type": "code",
   "execution_count": 7,
   "metadata": {
    "execution": {
     "iopub.execute_input": "2020-11-23T07:54:42.094952Z",
     "iopub.status.busy": "2020-11-23T07:54:42.093886Z",
     "iopub.status.idle": "2020-11-23T07:55:37.143383Z",
     "shell.execute_reply": "2020-11-23T07:55:37.142213Z"
    }
   },
   "outputs": [
    {
     "name": "stdout",
     "output_type": "stream",
     "text": [
      "Starting experimental run with id: 15. \n",
      "Starting experimental run with id: 16. \n",
      "Starting experimental run with id: 17. \n"
     ]
    },
    {
     "name": "stdout",
     "output_type": "stream",
     "text": [
      "Starting experimental run with id: 18. \n",
      "Starting experimental run with id: 19. \n"
     ]
    },
    {
     "name": "stdout",
     "output_type": "stream",
     "text": [
      "Starting experimental run with id: 20. \n"
     ]
    },
    {
     "name": "stdout",
     "output_type": "stream",
     "text": [
      "Starting experimental run with id: 21. \n"
     ]
    },
    {
     "name": "stdout",
     "output_type": "stream",
     "text": [
      "Starting experimental run with id: 22. \n"
     ]
    },
    {
     "name": "stdout",
     "output_type": "stream",
     "text": [
      "Starting experimental run with id: 23. \n"
     ]
    },
    {
     "name": "stdout",
     "output_type": "stream",
     "text": [
      "Starting experimental run with id: 24. \n"
     ]
    },
    {
     "name": "stdout",
     "output_type": "stream",
     "text": [
      "Starting experimental run with id: 25. \n"
     ]
    },
    {
     "name": "stdout",
     "output_type": "stream",
     "text": [
      "Starting experimental run with id: 26. \n"
     ]
    },
    {
     "name": "stdout",
     "output_type": "stream",
     "text": [
      "Starting experimental run with id: 27. \n"
     ]
    },
    {
     "name": "stdout",
     "output_type": "stream",
     "text": [
      "Starting experimental run with id: 28. \n"
     ]
    }
   ],
   "source": [
    "sizes = [1,500,1000,2000,3000,4000,5000]\n",
    "nreps = 100\n",
    "t_numeric = []\n",
    "t_numeric_add = []\n",
    "t_numeric_run_ids = []\n",
    "t_array = []\n",
    "t_array_add = []\n",
    "t_array_run_ids = []\n",
    "for size in sizes:\n",
    "    tn, tna, run_id_n =  insert_data('numeric', size, nreps=nreps)\n",
    "    t_numeric.append(tn)\n",
    "    t_numeric_add.append(tna)\n",
    "    t_numeric_run_ids.append(run_id_n)\n",
    "\n",
    "    ta, taa, run_id_a =  insert_data('array', size, nreps=nreps)\n",
    "    t_array.append(ta)\n",
    "    t_array_add.append(taa)\n",
    "    t_array_run_ids.append(run_id_a)"
   ]
  },
  {
   "cell_type": "code",
   "execution_count": 8,
   "metadata": {
    "execution": {
     "iopub.execute_input": "2020-11-23T07:55:37.168400Z",
     "iopub.status.busy": "2020-11-23T07:55:37.160045Z",
     "iopub.status.idle": "2020-11-23T07:55:37.332077Z",
     "shell.execute_reply": "2020-11-23T07:55:37.332551Z"
    },
    "scrolled": true
   },
   "outputs": [
    {
     "data": {
      "image/png": "[encoded data removed]",
      "text/plain": [
       "<Figure size 432x288 with 1 Axes>"
      ]
     },
     "metadata": {
      "needs_background": "light"
     },
     "output_type": "display_data"
    }
   ],
   "source": [
    "fig, ax = plt.subplots(1,1)\n",
    "ax.plot(sizes, t_numeric, 'o-', label='Inserting row-by-row')\n",
    "ax.plot(sizes, t_numeric_add, 'o-', label='Inserting row-by-row: add_result only')\n",
    "ax.plot(sizes, t_array, 'd-', label='Inserting as binary blob')\n",
    "ax.plot(sizes, t_array_add, 'd-', label='Inserting as binary blob: add_result only')\n",
    "ax.legend()\n",
    "ax.set_xlabel('Array length')\n",
    "ax.set_ylabel('Time (s)')\n",
    "fig.tight_layout()"
   ]
  },
  {
   "cell_type": "markdown",
   "metadata": {},
   "source": [
    "However, as we increase the length of the experiment, as seen here by repeating the insertion 100 times, we see a big difference between inserting values of the data row-by-row and inserting it as a binary blob."
   ]
  },
  {
   "cell_type": "markdown",
   "metadata": {},
   "source": [
    "## Loading the data "
   ]
  },
  {
   "cell_type": "code",
   "execution_count": 9,
   "metadata": {
    "execution": {
     "iopub.execute_input": "2020-11-23T07:55:37.336638Z",
     "iopub.status.busy": "2020-11-23T07:55:37.335624Z",
     "iopub.status.idle": "2020-11-23T07:55:37.338185Z",
     "shell.execute_reply": "2020-11-23T07:55:37.338796Z"
    }
   },
   "outputs": [],
   "source": [
    "from qcodes.dataset.data_set import load_by_id\n",
    "from qcodes.dataset.data_export import get_data_by_id"
   ]
  },
  {
   "cell_type": "markdown",
   "metadata": {},
   "source": [
    "As usual you can load the data by using the ``load_by_id`` function but you will notice that the different storage methods\n",
    "are reflected in shape of the data as it is retrieved. "
   ]
  },
  {
   "cell_type": "code",
   "execution_count": 10,
   "metadata": {
    "execution": {
     "iopub.execute_input": "2020-11-23T07:55:37.342471Z",
     "iopub.status.busy": "2020-11-23T07:55:37.341922Z",
     "iopub.status.idle": "2020-11-23T07:55:37.344315Z",
     "shell.execute_reply": "2020-11-23T07:55:37.343842Z"
    }
   },
   "outputs": [],
   "source": [
    "run_id_n = t_numeric_run_ids[0]\n",
    "run_id_a = t_array_run_ids[0]"
   ]
  },
  {
   "cell_type": "code",
   "execution_count": 11,
   "metadata": {
    "execution": {
     "iopub.execute_input": "2020-11-23T07:55:37.347533Z",
     "iopub.status.busy": "2020-11-23T07:55:37.346976Z",
     "iopub.status.idle": "2020-11-23T07:55:37.355255Z",
     "shell.execute_reply": "2020-11-23T07:55:37.355942Z"
    },
    "scrolled": true
   },
   "outputs": [
    {
     "data": {
      "text/plain": [
       "{'x1': {'x1': array([0.93348349, 0.93348349, 0.68481071, 0.68481071, 0.61240852,\n",
       "         0.61240852, 0.22014064, 0.22014064, 0.33691106, 0.33691106,\n",
       "         0.71668796, 0.71668796, 0.16530518, 0.16530518, 0.67034102,\n",
       "         0.67034102, 0.2088092 , 0.2088092 , 0.6473018 , 0.6473018 ,\n",
       "         0.35626424, 0.35626424, 0.9790973 , 0.9790973 , 0.86939819,\n",
       "         0.86939819, 0.05870632, 0.05870632, 0.13858315, 0.13858315,\n",
       "         0.42765658, 0.42765658, 0.83022097, 0.83022097, 0.08939089,\n",
       "         0.08939089, 0.44498069, 0.44498069, 0.07731581, 0.07731581,\n",
       "         0.82513488, 0.82513488, 0.69943546, 0.69943546, 0.11419372,\n",
       "         0.11419372, 0.65609112, 0.65609112, 0.08725464, 0.08725464,\n",
       "         0.23270325, 0.23270325, 0.65806879, 0.65806879, 0.18987363,\n",
       "         0.18987363, 0.22244515, 0.22244515, 0.25593206, 0.25593206,\n",
       "         0.5583181 , 0.5583181 , 0.83772996, 0.83772996, 0.55596391,\n",
       "         0.55596391, 0.38924397, 0.38924397, 0.43054466, 0.43054466,\n",
       "         0.75303973, 0.75303973, 0.37709095, 0.37709095, 0.07673053,\n",
       "         0.07673053, 0.49489582, 0.49489582, 0.39034134, 0.39034134,\n",
       "         0.94203403, 0.94203403, 0.89520797, 0.89520797, 0.79972743,\n",
       "         0.79972743, 0.97291463, 0.97291463, 0.70286465, 0.70286465,\n",
       "         0.02792678, 0.02792678, 0.13826675, 0.13826675, 0.85405115,\n",
       "         0.85405115, 0.34888279, 0.34888279, 0.38544018, 0.38544018,\n",
       "         0.910278  , 0.910278  , 0.90994459, 0.90994459, 0.75025371,\n",
       "         0.75025371, 0.8245454 , 0.8245454 , 0.737802  , 0.737802  ,\n",
       "         0.76399588, 0.76399588, 0.72926352, 0.72926352, 0.66428708,\n",
       "         0.66428708, 0.20400255, 0.20400255, 0.42781197, 0.42781197,\n",
       "         0.51839482, 0.51839482, 0.28679767, 0.28679767, 0.19426513,\n",
       "         0.19426513, 0.83406334, 0.83406334, 0.53129727, 0.53129727,\n",
       "         0.76520752, 0.76520752, 0.82725248, 0.82725248, 0.90359627,\n",
       "         0.90359627, 0.55782271, 0.55782271, 0.52739742, 0.52739742,\n",
       "         0.82443443, 0.82443443, 0.82932245, 0.82932245, 0.79082749,\n",
       "         0.79082749, 0.23676033, 0.23676033, 0.69462102, 0.69462102,\n",
       "         0.01328252, 0.01328252, 0.76536699, 0.76536699, 0.5966668 ,\n",
       "         0.5966668 , 0.74472723, 0.74472723, 0.82922398, 0.82922398,\n",
       "         0.94579745, 0.94579745, 0.41667698, 0.41667698, 0.19705695,\n",
       "         0.19705695, 0.77287364, 0.77287364, 0.21128492, 0.21128492,\n",
       "         0.75397342, 0.75397342, 0.10848361, 0.10848361, 0.96202812,\n",
       "         0.96202812, 0.38676364, 0.38676364, 0.08804997, 0.08804997,\n",
       "         0.60020473, 0.60020473, 0.04611578, 0.04611578, 0.45267292,\n",
       "         0.45267292, 0.23274699, 0.23274699, 0.4060078 , 0.4060078 ,\n",
       "         0.72786693, 0.72786693, 0.93802179, 0.93802179, 0.04449815,\n",
       "         0.04449815, 0.3774778 , 0.3774778 , 0.01732223, 0.01732223])}}"
      ]
     },
     "execution_count": 1,
     "metadata": {},
     "output_type": "execute_result"
    }
   ],
   "source": [
    "ds = load_by_id(run_id_n)\n",
    "ds.get_parameter_data('x1')"
   ]
  },
  {
   "cell_type": "markdown",
   "metadata": {},
   "source": [
    "And a dataset stored as binary arrays"
   ]
  },
  {
   "cell_type": "code",
   "execution_count": 12,
   "metadata": {
    "execution": {
     "iopub.execute_input": "2020-11-23T07:55:37.359258Z",
     "iopub.status.busy": "2020-11-23T07:55:37.358690Z",
     "iopub.status.idle": "2020-11-23T07:55:37.410256Z",
     "shell.execute_reply": "2020-11-23T07:55:37.411111Z"
    },
    "scrolled": true
   },
   "outputs": [
    {
     "data": {
      "text/plain": [
       "{'x1': {'x1': array([[0.64394625],\n",
       "         [0.64394625],\n",
       "         [0.05592968],\n",
       "         [0.05592968],\n",
       "         [0.68045181],\n",
       "         [0.68045181],\n",
       "         [0.20345818],\n",
       "         [0.20345818],\n",
       "         [0.86736243],\n",
       "         [0.86736243],\n",
       "         [0.28286786],\n",
       "         [0.28286786],\n",
       "         [0.54031093],\n",
       "         [0.54031093],\n",
       "         [0.14898247],\n",
       "         [0.14898247],\n",
       "         [0.393417  ],\n",
       "         [0.393417  ],\n",
       "         [0.26717434],\n",
       "         [0.26717434],\n",
       "         [0.55779542],\n",
       "         [0.55779542],\n",
       "         [0.25716688],\n",
       "         [0.25716688],\n",
       "         [0.22770993],\n",
       "         [0.22770993],\n",
       "         [0.29619381],\n",
       "         [0.29619381],\n",
       "         [0.11751761],\n",
       "         [0.11751761],\n",
       "         [0.98379903],\n",
       "         [0.98379903],\n",
       "         [0.13481149],\n",
       "         [0.13481149],\n",
       "         [0.07299029],\n",
       "         [0.07299029],\n",
       "         [0.388447  ],\n",
       "         [0.388447  ],\n",
       "         [0.19674332],\n",
       "         [0.19674332],\n",
       "         [0.67484634],\n",
       "         [0.67484634],\n",
       "         [0.92753844],\n",
       "         [0.92753844],\n",
       "         [0.44116534],\n",
       "         [0.44116534],\n",
       "         [0.43357783],\n",
       "         [0.43357783],\n",
       "         [0.13829083],\n",
       "         [0.13829083],\n",
       "         [0.00705546],\n",
       "         [0.00705546],\n",
       "         [0.48387266],\n",
       "         [0.48387266],\n",
       "         [0.24090667],\n",
       "         [0.24090667],\n",
       "         [0.91629371],\n",
       "         [0.91629371],\n",
       "         [0.1224631 ],\n",
       "         [0.1224631 ],\n",
       "         [0.59849895],\n",
       "         [0.59849895],\n",
       "         [0.73226504],\n",
       "         [0.73226504],\n",
       "         [0.91914149],\n",
       "         [0.91914149],\n",
       "         [0.09786361],\n",
       "         [0.09786361],\n",
       "         [0.90347628],\n",
       "         [0.90347628],\n",
       "         [0.75875335],\n",
       "         [0.75875335],\n",
       "         [0.98794348],\n",
       "         [0.98794348],\n",
       "         [0.67453031],\n",
       "         [0.67453031],\n",
       "         [0.35203917],\n",
       "         [0.35203917],\n",
       "         [0.07429068],\n",
       "         [0.07429068],\n",
       "         [0.0858679 ],\n",
       "         [0.0858679 ],\n",
       "         [0.32117683],\n",
       "         [0.32117683],\n",
       "         [0.3895139 ],\n",
       "         [0.3895139 ],\n",
       "         [0.31774367],\n",
       "         [0.31774367],\n",
       "         [0.2265289 ],\n",
       "         [0.2265289 ],\n",
       "         [0.39935755],\n",
       "         [0.39935755],\n",
       "         [0.47003017],\n",
       "         [0.47003017],\n",
       "         [0.69941054],\n",
       "         [0.69941054],\n",
       "         [0.2613241 ],\n",
       "         [0.2613241 ],\n",
       "         [0.03557106],\n",
       "         [0.03557106],\n",
       "         [0.37029737],\n",
       "         [0.37029737],\n",
       "         [0.70546506],\n",
       "         [0.70546506],\n",
       "         [0.82268906],\n",
       "         [0.82268906],\n",
       "         [0.88337839],\n",
       "         [0.88337839],\n",
       "         [0.51019355],\n",
       "         [0.51019355],\n",
       "         [0.15309221],\n",
       "         [0.15309221],\n",
       "         [0.75230738],\n",
       "         [0.75230738],\n",
       "         [0.32483745],\n",
       "         [0.32483745],\n",
       "         [0.68106275],\n",
       "         [0.68106275],\n",
       "         [0.43831531],\n",
       "         [0.43831531],\n",
       "         [0.73643325],\n",
       "         [0.73643325],\n",
       "         [0.33282422],\n",
       "         [0.33282422],\n",
       "         [0.89852223],\n",
       "         [0.89852223],\n",
       "         [0.14195202],\n",
       "         [0.14195202],\n",
       "         [0.12642649],\n",
       "         [0.12642649],\n",
       "         [0.10074873],\n",
       "         [0.10074873],\n",
       "         [0.13323493],\n",
       "         [0.13323493],\n",
       "         [0.95023301],\n",
       "         [0.95023301],\n",
       "         [0.77209655],\n",
       "         [0.77209655],\n",
       "         [0.03935033],\n",
       "         [0.03935033],\n",
       "         [0.32634543],\n",
       "         [0.32634543],\n",
       "         [0.11463746],\n",
       "         [0.11463746],\n",
       "         [0.90076729],\n",
       "         [0.90076729],\n",
       "         [0.12628071],\n",
       "         [0.12628071],\n",
       "         [0.20082848],\n",
       "         [0.20082848],\n",
       "         [0.62808787],\n",
       "         [0.62808787],\n",
       "         [0.38851832],\n",
       "         [0.38851832],\n",
       "         [0.46832793],\n",
       "         [0.46832793],\n",
       "         [0.41425271],\n",
       "         [0.41425271],\n",
       "         [0.3108671 ],\n",
       "         [0.3108671 ],\n",
       "         [0.49330731],\n",
       "         [0.49330731],\n",
       "         [0.04245167],\n",
       "         [0.04245167],\n",
       "         [0.3751906 ],\n",
       "         [0.3751906 ],\n",
       "         [0.28338092],\n",
       "         [0.28338092],\n",
       "         [0.85055403],\n",
       "         [0.85055403],\n",
       "         [0.91968452],\n",
       "         [0.91968452],\n",
       "         [0.05895161],\n",
       "         [0.05895161],\n",
       "         [0.18807913],\n",
       "         [0.18807913],\n",
       "         [0.11124581],\n",
       "         [0.11124581],\n",
       "         [0.49479104],\n",
       "         [0.49479104],\n",
       "         [0.06102535],\n",
       "         [0.06102535],\n",
       "         [0.03604306],\n",
       "         [0.03604306],\n",
       "         [0.10834093],\n",
       "         [0.10834093],\n",
       "         [0.18571743],\n",
       "         [0.18571743],\n",
       "         [0.99531795],\n",
       "         [0.99531795],\n",
       "         [0.80308629],\n",
       "         [0.80308629],\n",
       "         [0.64738563],\n",
       "         [0.64738563],\n",
       "         [0.4454417 ],\n",
       "         [0.4454417 ],\n",
       "         [0.72136936],\n",
       "         [0.72136936],\n",
       "         [0.61531076],\n",
       "         [0.61531076]])}}"
      ]
     },
     "execution_count": 1,
     "metadata": {},
     "output_type": "execute_result"
    }
   ],
   "source": [
    "ds = load_by_id(run_id_a)\n",
    "ds.get_parameter_data('x1')"
   ]
  },
  {
   "cell_type": "code",
   "execution_count": null,
   "metadata": {},
   "outputs": [],
   "source": []
  }
 ],
 "metadata": {
  "kernelspec": {
   "display_name": "Python 3",
   "language": "python",
   "name": "python3"
  },
  "language_info": {
   "codemirror_mode": {
    "name": "ipython",
    "version": 3
   },
   "file_extension": ".py",
   "mimetype": "text/x-python",
   "name": "python",
   "nbconvert_exporter": "python",
   "pygments_lexer": "ipython3",
   "version": "3.7.9"
  },
  "nbsphinx": {
   "timeout": 600
  },
  "toc": {
   "base_numbering": 1,
   "nav_menu": {},
   "number_sections": true,
   "sideBar": true,
   "skip_h1_title": false,
   "title_cell": "Table of Contents",
   "title_sidebar": "Contents",
   "toc_cell": false,
   "toc_position": {},
   "toc_section_display": true,
   "toc_window_display": false
  },
  "varInspector": {
   "cols": {
    "lenName": 16,
    "lenType": 16,
    "lenVar": 40
   },
   "kernels_config": {
    "python": {
     "delete_cmd_postfix": "",
     "delete_cmd_prefix": "del ",
     "library": "var_list.py",
     "varRefreshCmd": "print(var_dic_list())"
    },
    "r": {
     "delete_cmd_postfix": ") ",
     "delete_cmd_prefix": "rm(",
     "library": "var_list.r",
     "varRefreshCmd": "cat(var_dic_list()) "
    }
   },
   "types_to_exclude": [
    "module",
    "function",
    "builtin_function_or_method",
    "instance",
    "_Feature"
   ],
   "window_display": false
  }
 },
 "nbformat": 4,
 "nbformat_minor": 2
}
