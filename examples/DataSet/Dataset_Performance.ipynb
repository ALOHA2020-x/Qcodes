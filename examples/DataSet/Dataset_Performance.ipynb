{
 "cells": [
  {
   "cell_type": "markdown",
   "metadata": {},
   "source": [
    "# DataSet Performance\n",
    "\n",
    "This notebook shows the trade-off between inserting data into a database row-by-row and as binary blobs. Inserting the data row-by-row means that we have direct access to all the data and may perform queries directly on the values of the data. On the other hand, as we shall see, this is much slower than inserting the data directly as binary blobs."
   ]
  },
  {
   "cell_type": "markdown",
   "metadata": {},
   "source": [
    "First, we choose a new location for the database to ensure that we don't add a bunch of benchmarking data to the default one."
   ]
  },
  {
   "cell_type": "code",
   "execution_count": 1,
   "metadata": {
    "execution": {
     "iopub.execute_input": "2021-01-29T14:45:40.589552Z",
     "iopub.status.busy": "2021-01-29T14:45:40.588882Z",
     "iopub.status.idle": "2021-01-29T14:45:41.635633Z",
     "shell.execute_reply": "2021-01-29T14:45:41.635011Z"
    }
   },
   "outputs": [
    {
     "name": "stdout",
     "output_type": "stream",
     "text": [
      "Logging hadn't been started.\n",
      "Activating auto-logging. Current session state plus future input saved.\n",
      "Filename       : /home/vsts/.qcodes/logs/command_history.log\n",
      "Mode           : append\n",
      "Output logging : True\n",
      "Raw input log  : False\n",
      "Timestamping   : True\n",
      "State          : active\n"
     ]
    },
    {
     "name": "stdout",
     "output_type": "stream",
     "text": [
      "Qcodes Logfile : /home/vsts/.qcodes/logs/210129-13684-qcodes.log\n"
     ]
    }
   ],
   "source": [
    "import os\n",
    "cwd = os.getcwd()\n",
    "import qcodes as qc\n",
    "qc.config[\"core\"][\"db_location\"] = os.path.join(cwd, 'testing.db')\n"
   ]
  },
  {
   "cell_type": "code",
   "execution_count": 2,
   "metadata": {
    "execution": {
     "iopub.execute_input": "2021-01-29T14:45:41.641830Z",
     "iopub.status.busy": "2021-01-29T14:45:41.641155Z",
     "iopub.status.idle": "2021-01-29T14:45:41.838749Z",
     "shell.execute_reply": "2021-01-29T14:45:41.839247Z"
    }
   },
   "outputs": [],
   "source": [
    "%matplotlib inline\n",
    "import time\n",
    "import matplotlib.pyplot as plt\n",
    "import numpy as np\n",
    "\n",
    "import qcodes as qc\n",
    "from qcodes.instrument.parameter import ManualParameter\n",
    "from qcodes.dataset.experiment_container import (Experiment,\n",
    "                                                 load_last_experiment,\n",
    "                                                 new_experiment)\n",
    "from qcodes.dataset.sqlite.database import initialise_database\n",
    "from qcodes import load_or_create_experiment\n",
    "from qcodes.dataset.measurements import Measurement"
   ]
  },
  {
   "cell_type": "code",
   "execution_count": 3,
   "metadata": {
    "execution": {
     "iopub.execute_input": "2021-01-29T14:45:41.843698Z",
     "iopub.status.busy": "2021-01-29T14:45:41.842907Z",
     "iopub.status.idle": "2021-01-29T14:45:41.948948Z",
     "shell.execute_reply": "2021-01-29T14:45:41.948429Z"
    }
   },
   "outputs": [
    {
     "name": "stdout",
     "output_type": "stream",
     "text": [
      "\r",
      "0it [00:00, ?it/s]"
     ]
    },
    {
     "name": "stdout",
     "output_type": "stream",
     "text": [
      "\r",
      "Upgrading database; v0 -> v1: : 0it [00:00, ?it/s]"
     ]
    },
    {
     "name": "stdout",
     "output_type": "stream",
     "text": [
      "\r",
      "Upgrading database; v0 -> v1: : 0it [00:00, ?it/s]"
     ]
    },
    {
     "name": "stdout",
     "output_type": "stream",
     "text": [
      "\n",
      "\r",
      "  0%|          | 0/1 [00:00<?, ?it/s]"
     ]
    },
    {
     "name": "stdout",
     "output_type": "stream",
     "text": [
      "\r",
      "Upgrading database; v1 -> v2:   0%|          | 0/1 [00:00<?, ?it/s]"
     ]
    },
    {
     "name": "stdout",
     "output_type": "stream",
     "text": [
      "\r",
      "Upgrading database; v1 -> v2: 100%|██████████| 1/1 [00:00<00:00, 1131.46it/s]"
     ]
    },
    {
     "name": "stdout",
     "output_type": "stream",
     "text": [
      "\n",
      "\r",
      "0it [00:00, ?it/s]"
     ]
    },
    {
     "name": "stdout",
     "output_type": "stream",
     "text": [
      "\r",
      "Upgrading database; v2 -> v3: : 0it [00:00, ?it/s]"
     ]
    },
    {
     "name": "stdout",
     "output_type": "stream",
     "text": [
      "\r",
      "Upgrading database; v2 -> v3: : 0it [00:00, ?it/s]"
     ]
    },
    {
     "name": "stdout",
     "output_type": "stream",
     "text": [
      "\n",
      "\r",
      "0it [00:00, ?it/s]"
     ]
    },
    {
     "name": "stdout",
     "output_type": "stream",
     "text": [
      "\r",
      "Upgrading database; v3 -> v4: : 0it [00:00, ?it/s]"
     ]
    },
    {
     "name": "stdout",
     "output_type": "stream",
     "text": [
      "\r",
      "Upgrading database; v3 -> v4: : 0it [00:00, ?it/s]"
     ]
    },
    {
     "name": "stdout",
     "output_type": "stream",
     "text": [
      "\n",
      "\r",
      "  0%|          | 0/1 [00:00<?, ?it/s]"
     ]
    },
    {
     "name": "stdout",
     "output_type": "stream",
     "text": [
      "\r",
      "Upgrading database; v4 -> v5:   0%|          | 0/1 [00:00<?, ?it/s]"
     ]
    },
    {
     "name": "stdout",
     "output_type": "stream",
     "text": [
      "\r",
      "Upgrading database; v4 -> v5: 100%|██████████| 1/1 [00:00<00:00, 569.03it/s]"
     ]
    },
    {
     "name": "stdout",
     "output_type": "stream",
     "text": [
      "\n",
      "\r",
      "0it [00:00, ?it/s]"
     ]
    },
    {
     "name": "stdout",
     "output_type": "stream",
     "text": [
      "\r",
      "Upgrading database; v5 -> v6: : 0it [00:00, ?it/s]"
     ]
    },
    {
     "name": "stdout",
     "output_type": "stream",
     "text": [
      "\r",
      "Upgrading database; v5 -> v6: : 0it [00:00, ?it/s]"
     ]
    },
    {
     "name": "stdout",
     "output_type": "stream",
     "text": [
      "\n",
      "\r",
      "  0%|          | 0/1 [00:00<?, ?it/s]"
     ]
    },
    {
     "name": "stdout",
     "output_type": "stream",
     "text": [
      "\r",
      "Upgrading database; v6 -> v7:   0%|          | 0/1 [00:00<?, ?it/s]"
     ]
    },
    {
     "name": "stdout",
     "output_type": "stream",
     "text": [
      "\r",
      "Upgrading database; v6 -> v7: 100%|██████████| 1/1 [00:00<00:00, 489.65it/s]"
     ]
    },
    {
     "name": "stdout",
     "output_type": "stream",
     "text": [
      "\n",
      "\r",
      "  0%|          | 0/1 [00:00<?, ?it/s]"
     ]
    },
    {
     "name": "stdout",
     "output_type": "stream",
     "text": [
      "\r",
      "Upgrading database; v7 -> v8:   0%|          | 0/1 [00:00<?, ?it/s]"
     ]
    },
    {
     "name": "stdout",
     "output_type": "stream",
     "text": [
      "\r",
      "Upgrading database; v7 -> v8: 100%|██████████| 1/1 [00:00<00:00, 953.03it/s]"
     ]
    },
    {
     "name": "stdout",
     "output_type": "stream",
     "text": [
      "\n",
      "\r",
      "  0%|          | 0/1 [00:00<?, ?it/s]"
     ]
    },
    {
     "name": "stdout",
     "output_type": "stream",
     "text": [
      "\r",
      "Upgrading database; v8 -> v9:   0%|          | 0/1 [00:00<?, ?it/s]"
     ]
    },
    {
     "name": "stdout",
     "output_type": "stream",
     "text": [
      "\r",
      "Upgrading database; v8 -> v9: 100%|██████████| 1/1 [00:00<00:00, 1027.51it/s]"
     ]
    },
    {
     "name": "stdout",
     "output_type": "stream",
     "text": [
      "\n"
     ]
    }
   ],
   "source": [
    "initialise_database()\n",
    "exp = load_or_create_experiment(experiment_name='tutorial_exp', sample_name=\"no sample\")"
   ]
  },
  {
   "cell_type": "markdown",
   "metadata": {},
   "source": [
    "Here, we define a simple function to benchmark the time it takes to insert n points with either numeric or array data type.\n",
    "We will compare both the time used to call ``add_result`` and the time used for the full measurement."
   ]
  },
  {
   "cell_type": "code",
   "execution_count": 4,
   "metadata": {
    "execution": {
     "iopub.execute_input": "2021-01-29T14:45:41.957866Z",
     "iopub.status.busy": "2021-01-29T14:45:41.957308Z",
     "iopub.status.idle": "2021-01-29T14:45:41.960502Z",
     "shell.execute_reply": "2021-01-29T14:45:41.961363Z"
    }
   },
   "outputs": [],
   "source": [
    "def insert_data(paramtype, npoints, nreps=1):\n",
    "\n",
    "    meas = Measurement(exp=exp)\n",
    "\n",
    "    x1 = ManualParameter('x1')\n",
    "    x2 = ManualParameter('x2')\n",
    "    x3 = ManualParameter('x3')\n",
    "    y1 = ManualParameter('y1')\n",
    "    y2 = ManualParameter('y2')\n",
    "\n",
    "    meas.register_parameter(x1, paramtype=paramtype)\n",
    "    meas.register_parameter(x2, paramtype=paramtype)\n",
    "    meas.register_parameter(x3, paramtype=paramtype)\n",
    "    meas.register_parameter(y1, setpoints=[x1, x2, x3],\n",
    "                            paramtype=paramtype)\n",
    "    meas.register_parameter(y2, setpoints=[x1, x2, x3],\n",
    "                            paramtype=paramtype)\n",
    "    start = time.perf_counter()\n",
    "    with meas.run() as datasaver:\n",
    "        start_adding = time.perf_counter()\n",
    "        for i in range(nreps):\n",
    "            datasaver.add_result((x1, np.random.rand(npoints)),\n",
    "                                 (x2, np.random.rand(npoints)),\n",
    "                                 (x3, np.random.rand(npoints)),\n",
    "                                 (y1, np.random.rand(npoints)),\n",
    "                                 (y2, np.random.rand(npoints)))\n",
    "        stop_adding = time.perf_counter()\n",
    "        run_id = datasaver.run_id\n",
    "    stop = time.perf_counter()\n",
    "    tot_time = stop - start\n",
    "    add_time = stop_adding - start_adding\n",
    "    return tot_time, add_time, run_id"
   ]
  },
  {
   "cell_type": "markdown",
   "metadata": {},
   "source": [
    "## Comparison between numeric/array data and binary blob"
   ]
  },
  {
   "cell_type": "markdown",
   "metadata": {},
   "source": [
    "### Case1: Short experiment time"
   ]
  },
  {
   "cell_type": "code",
   "execution_count": 5,
   "metadata": {
    "execution": {
     "iopub.execute_input": "2021-01-29T14:45:41.968575Z",
     "iopub.status.busy": "2021-01-29T14:45:41.966590Z",
     "iopub.status.idle": "2021-01-29T14:45:42.811770Z",
     "shell.execute_reply": "2021-01-29T14:45:42.812227Z"
    }
   },
   "outputs": [
    {
     "name": "stdout",
     "output_type": "stream",
     "text": [
      "Starting experimental run with id: 1. \n",
      "Starting experimental run with id: 2. \n",
      "Starting experimental run with id: 3. \n",
      "Starting experimental run with id: 4. \n",
      "Starting experimental run with id: 5. \n"
     ]
    },
    {
     "name": "stdout",
     "output_type": "stream",
     "text": [
      "Starting experimental run with id: 6. \n"
     ]
    },
    {
     "name": "stdout",
     "output_type": "stream",
     "text": [
      "Starting experimental run with id: 7. \n"
     ]
    },
    {
     "name": "stdout",
     "output_type": "stream",
     "text": [
      "Starting experimental run with id: 8. \n",
      "Starting experimental run with id: 9. \n"
     ]
    },
    {
     "name": "stdout",
     "output_type": "stream",
     "text": [
      "Starting experimental run with id: 10. \n",
      "Starting experimental run with id: 11. \n"
     ]
    },
    {
     "name": "stdout",
     "output_type": "stream",
     "text": [
      "Starting experimental run with id: 12. \n",
      "Starting experimental run with id: 13. \n"
     ]
    },
    {
     "name": "stdout",
     "output_type": "stream",
     "text": [
      "Starting experimental run with id: 14. \n"
     ]
    }
   ],
   "source": [
    "sizes = [1,500,1000,2000,3000,4000,5000]\n",
    "t_numeric = []\n",
    "t_numeric_add = []\n",
    "t_array = []\n",
    "t_array_add = []\n",
    "for size in sizes:\n",
    "    tn, tna, run_id_n =  insert_data('numeric', size)\n",
    "    t_numeric.append(tn)\n",
    "    t_numeric_add.append(tna)\n",
    "\n",
    "    ta, taa, run_id_a =  insert_data('array', size)\n",
    "    t_array.append(ta)\n",
    "    t_array_add.append(taa)"
   ]
  },
  {
   "cell_type": "code",
   "execution_count": 6,
   "metadata": {
    "execution": {
     "iopub.execute_input": "2021-01-29T14:45:42.828904Z",
     "iopub.status.busy": "2021-01-29T14:45:42.817781Z",
     "iopub.status.idle": "2021-01-29T14:45:43.027539Z",
     "shell.execute_reply": "2021-01-29T14:45:43.026521Z"
    }
   },
   "outputs": [
    {
     "data": {
      "image/png": "[encoded data removed]",
      "text/plain": [
       "<Figure size 432x288 with 1 Axes>"
      ]
     },
     "metadata": {
      "needs_background": "light"
     },
     "output_type": "display_data"
    }
   ],
   "source": [
    "fig, ax = plt.subplots(1,1)\n",
    "ax.plot(sizes, t_numeric, 'o-', label='Inserting row-by-row')\n",
    "ax.plot(sizes, t_numeric_add, 'o-', label='Inserting row-by-row: add_result only')\n",
    "ax.plot(sizes, t_array, 'd-', label='Inserting as binary blob')\n",
    "ax.plot(sizes, t_array_add, 'd-', label='Inserting as binary blob: add_result only')\n",
    "ax.legend()\n",
    "ax.set_xlabel('Array length')\n",
    "ax.set_ylabel('Time (s)')\n",
    "fig.tight_layout()"
   ]
  },
  {
   "cell_type": "markdown",
   "metadata": {},
   "source": [
    "As shown in the latter figure, the time to setup and and close the experiment is approximately 0.4 sec. In case of small array sizes, the difference between inserting values of data as arrays and inserting them row-by-row is relatively unimportant. At larger array sizes, i.e. above 10000 points, the cost of writing data as individual datapoints starts to become important.\n"
   ]
  },
  {
   "cell_type": "markdown",
   "metadata": {},
   "source": [
    "### Case2: Long experiment time "
   ]
  },
  {
   "cell_type": "code",
   "execution_count": 7,
   "metadata": {
    "execution": {
     "iopub.execute_input": "2021-01-29T14:45:43.036041Z",
     "iopub.status.busy": "2021-01-29T14:45:43.035329Z",
     "iopub.status.idle": "2021-01-29T14:46:44.031619Z",
     "shell.execute_reply": "2021-01-29T14:46:44.032110Z"
    }
   },
   "outputs": [
    {
     "name": "stdout",
     "output_type": "stream",
     "text": [
      "Starting experimental run with id: 15. \n",
      "Starting experimental run with id: 16. \n",
      "Starting experimental run with id: 17. \n"
     ]
    },
    {
     "name": "stdout",
     "output_type": "stream",
     "text": [
      "Starting experimental run with id: 18. \n",
      "Starting experimental run with id: 19. \n"
     ]
    },
    {
     "name": "stdout",
     "output_type": "stream",
     "text": [
      "Starting experimental run with id: 20. \n"
     ]
    },
    {
     "name": "stdout",
     "output_type": "stream",
     "text": [
      "Starting experimental run with id: 21. \n"
     ]
    },
    {
     "name": "stdout",
     "output_type": "stream",
     "text": [
      "Starting experimental run with id: 22. \n"
     ]
    },
    {
     "name": "stdout",
     "output_type": "stream",
     "text": [
      "Starting experimental run with id: 23. \n"
     ]
    },
    {
     "name": "stdout",
     "output_type": "stream",
     "text": [
      "Starting experimental run with id: 24. \n"
     ]
    },
    {
     "name": "stdout",
     "output_type": "stream",
     "text": [
      "Starting experimental run with id: 25. \n"
     ]
    },
    {
     "name": "stdout",
     "output_type": "stream",
     "text": [
      "Starting experimental run with id: 26. \n"
     ]
    },
    {
     "name": "stdout",
     "output_type": "stream",
     "text": [
      "Starting experimental run with id: 27. \n"
     ]
    },
    {
     "name": "stdout",
     "output_type": "stream",
     "text": [
      "Starting experimental run with id: 28. \n"
     ]
    }
   ],
   "source": [
    "sizes = [1,500,1000,2000,3000,4000,5000]\n",
    "nreps = 100\n",
    "t_numeric = []\n",
    "t_numeric_add = []\n",
    "t_numeric_run_ids = []\n",
    "t_array = []\n",
    "t_array_add = []\n",
    "t_array_run_ids = []\n",
    "for size in sizes:\n",
    "    tn, tna, run_id_n =  insert_data('numeric', size, nreps=nreps)\n",
    "    t_numeric.append(tn)\n",
    "    t_numeric_add.append(tna)\n",
    "    t_numeric_run_ids.append(run_id_n)\n",
    "\n",
    "    ta, taa, run_id_a =  insert_data('array', size, nreps=nreps)\n",
    "    t_array.append(ta)\n",
    "    t_array_add.append(taa)\n",
    "    t_array_run_ids.append(run_id_a)"
   ]
  },
  {
   "cell_type": "code",
   "execution_count": 8,
   "metadata": {
    "execution": {
     "iopub.execute_input": "2021-01-29T14:46:44.071722Z",
     "iopub.status.busy": "2021-01-29T14:46:44.070859Z",
     "iopub.status.idle": "2021-01-29T14:46:44.233447Z",
     "shell.execute_reply": "2021-01-29T14:46:44.233994Z"
    },
    "scrolled": true
   },
   "outputs": [
    {
     "data": {
      "image/png": "[encoded data removed]",
      "text/plain": [
       "<Figure size 432x288 with 1 Axes>"
      ]
     },
     "metadata": {
      "needs_background": "light"
     },
     "output_type": "display_data"
    }
   ],
   "source": [
    "fig, ax = plt.subplots(1,1)\n",
    "ax.plot(sizes, t_numeric, 'o-', label='Inserting row-by-row')\n",
    "ax.plot(sizes, t_numeric_add, 'o-', label='Inserting row-by-row: add_result only')\n",
    "ax.plot(sizes, t_array, 'd-', label='Inserting as binary blob')\n",
    "ax.plot(sizes, t_array_add, 'd-', label='Inserting as binary blob: add_result only')\n",
    "ax.legend()\n",
    "ax.set_xlabel('Array length')\n",
    "ax.set_ylabel('Time (s)')\n",
    "fig.tight_layout()"
   ]
  },
  {
   "cell_type": "markdown",
   "metadata": {},
   "source": [
    "However, as we increase the length of the experiment, as seen here by repeating the insertion 100 times, we see a big difference between inserting values of the data row-by-row and inserting it as a binary blob."
   ]
  },
  {
   "cell_type": "markdown",
   "metadata": {},
   "source": [
    "## Loading the data "
   ]
  },
  {
   "cell_type": "code",
   "execution_count": 9,
   "metadata": {
    "execution": {
     "iopub.execute_input": "2021-01-29T14:46:44.236561Z",
     "iopub.status.busy": "2021-01-29T14:46:44.236058Z",
     "iopub.status.idle": "2021-01-29T14:46:44.240276Z",
     "shell.execute_reply": "2021-01-29T14:46:44.239766Z"
    }
   },
   "outputs": [],
   "source": [
    "from qcodes.dataset.data_set import load_by_id\n",
    "from qcodes.dataset.data_export import get_data_by_id"
   ]
  },
  {
   "cell_type": "markdown",
   "metadata": {},
   "source": [
    "As usual you can load the data by using the ``load_by_id`` function but you will notice that the different storage methods\n",
    "are reflected in shape of the data as it is retrieved. "
   ]
  },
  {
   "cell_type": "code",
   "execution_count": 10,
   "metadata": {
    "execution": {
     "iopub.execute_input": "2021-01-29T14:46:44.243931Z",
     "iopub.status.busy": "2021-01-29T14:46:44.243378Z",
     "iopub.status.idle": "2021-01-29T14:46:44.245740Z",
     "shell.execute_reply": "2021-01-29T14:46:44.245273Z"
    }
   },
   "outputs": [],
   "source": [
    "run_id_n = t_numeric_run_ids[0]\n",
    "run_id_a = t_array_run_ids[0]"
   ]
  },
  {
   "cell_type": "code",
   "execution_count": 11,
   "metadata": {
    "execution": {
     "iopub.execute_input": "2021-01-29T14:46:44.248929Z",
     "iopub.status.busy": "2021-01-29T14:46:44.248412Z",
     "iopub.status.idle": "2021-01-29T14:46:44.257767Z",
     "shell.execute_reply": "2021-01-29T14:46:44.257335Z"
    },
    "scrolled": true
   },
   "outputs": [
    {
     "data": {
      "text/plain": [
       "{'x1': {'x1': array([0.47259451, 0.47259451, 0.36383985, 0.36383985, 0.56396378,\n",
       "         0.56396378, 0.0034099 , 0.0034099 , 0.10720874, 0.10720874,\n",
       "         0.52567739, 0.52567739, 0.99123451, 0.99123451, 0.7852779 ,\n",
       "         0.7852779 , 0.16830717, 0.16830717, 0.43812216, 0.43812216,\n",
       "         0.92780478, 0.92780478, 0.23992455, 0.23992455, 0.6801935 ,\n",
       "         0.6801935 , 0.36378254, 0.36378254, 0.62844519, 0.62844519,\n",
       "         0.09176553, 0.09176553, 0.71188784, 0.71188784, 0.99897533,\n",
       "         0.99897533, 0.60379411, 0.60379411, 0.53498659, 0.53498659,\n",
       "         0.33775321, 0.33775321, 0.87301993, 0.87301993, 0.84636117,\n",
       "         0.84636117, 0.69095659, 0.69095659, 0.08512699, 0.08512699,\n",
       "         0.11496207, 0.11496207, 0.7058808 , 0.7058808 , 0.76554472,\n",
       "         0.76554472, 0.50361029, 0.50361029, 0.73015432, 0.73015432,\n",
       "         0.79073857, 0.79073857, 0.82142072, 0.82142072, 0.58877509,\n",
       "         0.58877509, 0.60805965, 0.60805965, 0.54160286, 0.54160286,\n",
       "         0.42996542, 0.42996542, 0.03500229, 0.03500229, 0.53357008,\n",
       "         0.53357008, 0.82467956, 0.82467956, 0.3340654 , 0.3340654 ,\n",
       "         0.14930138, 0.14930138, 0.48522435, 0.48522435, 0.39818645,\n",
       "         0.39818645, 0.18143022, 0.18143022, 0.16097339, 0.16097339,\n",
       "         0.53179231, 0.53179231, 0.34808959, 0.34808959, 0.37458547,\n",
       "         0.37458547, 0.57978583, 0.57978583, 0.86529615, 0.86529615,\n",
       "         0.7125417 , 0.7125417 , 0.84256043, 0.84256043, 0.20748069,\n",
       "         0.20748069, 0.33393886, 0.33393886, 0.3104066 , 0.3104066 ,\n",
       "         0.0776836 , 0.0776836 , 0.73745672, 0.73745672, 0.63982191,\n",
       "         0.63982191, 0.11188906, 0.11188906, 0.85244416, 0.85244416,\n",
       "         0.49957551, 0.49957551, 0.19540069, 0.19540069, 0.80662561,\n",
       "         0.80662561, 0.93682635, 0.93682635, 0.69411469, 0.69411469,\n",
       "         0.23242063, 0.23242063, 0.41073403, 0.41073403, 0.31493102,\n",
       "         0.31493102, 0.2520305 , 0.2520305 , 0.30691138, 0.30691138,\n",
       "         0.82103009, 0.82103009, 0.86771588, 0.86771588, 0.57283971,\n",
       "         0.57283971, 0.16459274, 0.16459274, 0.26831264, 0.26831264,\n",
       "         0.37236253, 0.37236253, 0.55574736, 0.55574736, 0.3882136 ,\n",
       "         0.3882136 , 0.93245155, 0.93245155, 0.466302  , 0.466302  ,\n",
       "         0.41124822, 0.41124822, 0.77074796, 0.77074796, 0.52584233,\n",
       "         0.52584233, 0.66651344, 0.66651344, 0.5714402 , 0.5714402 ,\n",
       "         0.10796978, 0.10796978, 0.63648079, 0.63648079, 0.23653792,\n",
       "         0.23653792, 0.41573933, 0.41573933, 0.40253089, 0.40253089,\n",
       "         0.27374632, 0.27374632, 0.05658653, 0.05658653, 0.40563381,\n",
       "         0.40563381, 0.97119379, 0.97119379, 0.66354401, 0.66354401,\n",
       "         0.34692265, 0.34692265, 0.58868399, 0.58868399, 0.3488161 ,\n",
       "         0.3488161 , 0.22446752, 0.22446752, 0.54316673, 0.54316673])}}"
      ]
     },
     "execution_count": 1,
     "metadata": {},
     "output_type": "execute_result"
    }
   ],
   "source": [
    "ds = load_by_id(run_id_n)\n",
    "ds.get_parameter_data('x1')"
   ]
  },
  {
   "cell_type": "markdown",
   "metadata": {},
   "source": [
    "And a dataset stored as binary arrays"
   ]
  },
  {
   "cell_type": "code",
   "execution_count": 12,
   "metadata": {
    "execution": {
     "iopub.execute_input": "2021-01-29T14:46:44.261135Z",
     "iopub.status.busy": "2021-01-29T14:46:44.260611Z",
     "iopub.status.idle": "2021-01-29T14:46:44.316175Z",
     "shell.execute_reply": "2021-01-29T14:46:44.316967Z"
    },
    "scrolled": true
   },
   "outputs": [
    {
     "data": {
      "text/plain": [
       "{'x1': {'x1': array([[0.32135368],\n",
       "         [0.32135368],\n",
       "         [0.33960617],\n",
       "         [0.33960617],\n",
       "         [0.81988843],\n",
       "         [0.81988843],\n",
       "         [0.5800661 ],\n",
       "         [0.5800661 ],\n",
       "         [0.13201805],\n",
       "         [0.13201805],\n",
       "         [0.5045173 ],\n",
       "         [0.5045173 ],\n",
       "         [0.82405977],\n",
       "         [0.82405977],\n",
       "         [0.71897593],\n",
       "         [0.71897593],\n",
       "         [0.34078843],\n",
       "         [0.34078843],\n",
       "         [0.00703072],\n",
       "         [0.00703072],\n",
       "         [0.02129657],\n",
       "         [0.02129657],\n",
       "         [0.79642346],\n",
       "         [0.79642346],\n",
       "         [0.39516466],\n",
       "         [0.39516466],\n",
       "         [0.98039626],\n",
       "         [0.98039626],\n",
       "         [0.84169653],\n",
       "         [0.84169653],\n",
       "         [0.4252915 ],\n",
       "         [0.4252915 ],\n",
       "         [0.35511311],\n",
       "         [0.35511311],\n",
       "         [0.50633861],\n",
       "         [0.50633861],\n",
       "         [0.59671733],\n",
       "         [0.59671733],\n",
       "         [0.30083771],\n",
       "         [0.30083771],\n",
       "         [0.6740342 ],\n",
       "         [0.6740342 ],\n",
       "         [0.28279788],\n",
       "         [0.28279788],\n",
       "         [0.767033  ],\n",
       "         [0.767033  ],\n",
       "         [0.46991966],\n",
       "         [0.46991966],\n",
       "         [0.10587775],\n",
       "         [0.10587775],\n",
       "         [0.82639177],\n",
       "         [0.82639177],\n",
       "         [0.6314661 ],\n",
       "         [0.6314661 ],\n",
       "         [0.15832755],\n",
       "         [0.15832755],\n",
       "         [0.30903715],\n",
       "         [0.30903715],\n",
       "         [0.72595941],\n",
       "         [0.72595941],\n",
       "         [0.51446976],\n",
       "         [0.51446976],\n",
       "         [0.52887833],\n",
       "         [0.52887833],\n",
       "         [0.00234493],\n",
       "         [0.00234493],\n",
       "         [0.7179717 ],\n",
       "         [0.7179717 ],\n",
       "         [0.23178839],\n",
       "         [0.23178839],\n",
       "         [0.04416181],\n",
       "         [0.04416181],\n",
       "         [0.0490294 ],\n",
       "         [0.0490294 ],\n",
       "         [0.07160671],\n",
       "         [0.07160671],\n",
       "         [0.33182099],\n",
       "         [0.33182099],\n",
       "         [0.14920168],\n",
       "         [0.14920168],\n",
       "         [0.6651762 ],\n",
       "         [0.6651762 ],\n",
       "         [0.91704691],\n",
       "         [0.91704691],\n",
       "         [0.78104356],\n",
       "         [0.78104356],\n",
       "         [0.51754541],\n",
       "         [0.51754541],\n",
       "         [0.84613398],\n",
       "         [0.84613398],\n",
       "         [0.37143454],\n",
       "         [0.37143454],\n",
       "         [0.17976416],\n",
       "         [0.17976416],\n",
       "         [0.86378175],\n",
       "         [0.86378175],\n",
       "         [0.72454363],\n",
       "         [0.72454363],\n",
       "         [0.54736075],\n",
       "         [0.54736075],\n",
       "         [0.44735228],\n",
       "         [0.44735228],\n",
       "         [0.99996189],\n",
       "         [0.99996189],\n",
       "         [0.84193522],\n",
       "         [0.84193522],\n",
       "         [0.12476808],\n",
       "         [0.12476808],\n",
       "         [0.26383243],\n",
       "         [0.26383243],\n",
       "         [0.90779765],\n",
       "         [0.90779765],\n",
       "         [0.06932135],\n",
       "         [0.06932135],\n",
       "         [0.80791538],\n",
       "         [0.80791538],\n",
       "         [0.91951884],\n",
       "         [0.91951884],\n",
       "         [0.46107111],\n",
       "         [0.46107111],\n",
       "         [0.90964742],\n",
       "         [0.90964742],\n",
       "         [0.35173889],\n",
       "         [0.35173889],\n",
       "         [0.29334592],\n",
       "         [0.29334592],\n",
       "         [0.49931118],\n",
       "         [0.49931118],\n",
       "         [0.84165051],\n",
       "         [0.84165051],\n",
       "         [0.28996383],\n",
       "         [0.28996383],\n",
       "         [0.59613245],\n",
       "         [0.59613245],\n",
       "         [0.61158556],\n",
       "         [0.61158556],\n",
       "         [0.86535082],\n",
       "         [0.86535082],\n",
       "         [0.9193435 ],\n",
       "         [0.9193435 ],\n",
       "         [0.12127537],\n",
       "         [0.12127537],\n",
       "         [0.85610168],\n",
       "         [0.85610168],\n",
       "         [0.56258947],\n",
       "         [0.56258947],\n",
       "         [0.88343646],\n",
       "         [0.88343646],\n",
       "         [0.46474052],\n",
       "         [0.46474052],\n",
       "         [0.5946448 ],\n",
       "         [0.5946448 ],\n",
       "         [0.53445127],\n",
       "         [0.53445127],\n",
       "         [0.00101449],\n",
       "         [0.00101449],\n",
       "         [0.86855285],\n",
       "         [0.86855285],\n",
       "         [0.24233191],\n",
       "         [0.24233191],\n",
       "         [0.9477435 ],\n",
       "         [0.9477435 ],\n",
       "         [0.67001502],\n",
       "         [0.67001502],\n",
       "         [0.19738601],\n",
       "         [0.19738601],\n",
       "         [0.79838122],\n",
       "         [0.79838122],\n",
       "         [0.31987126],\n",
       "         [0.31987126],\n",
       "         [0.00738265],\n",
       "         [0.00738265],\n",
       "         [0.44431492],\n",
       "         [0.44431492],\n",
       "         [0.19190874],\n",
       "         [0.19190874],\n",
       "         [0.31948093],\n",
       "         [0.31948093],\n",
       "         [0.21806401],\n",
       "         [0.21806401],\n",
       "         [0.08575598],\n",
       "         [0.08575598],\n",
       "         [0.88635593],\n",
       "         [0.88635593],\n",
       "         [0.41884659],\n",
       "         [0.41884659],\n",
       "         [0.40347599],\n",
       "         [0.40347599],\n",
       "         [0.70792286],\n",
       "         [0.70792286],\n",
       "         [0.43810079],\n",
       "         [0.43810079],\n",
       "         [0.12220075],\n",
       "         [0.12220075],\n",
       "         [0.67197893],\n",
       "         [0.67197893],\n",
       "         [0.19688905],\n",
       "         [0.19688905],\n",
       "         [0.63015683],\n",
       "         [0.63015683]])}}"
      ]
     },
     "execution_count": 1,
     "metadata": {},
     "output_type": "execute_result"
    }
   ],
   "source": [
    "ds = load_by_id(run_id_a)\n",
    "ds.get_parameter_data('x1')"
   ]
  },
  {
   "cell_type": "code",
   "execution_count": null,
   "metadata": {},
   "outputs": [],
   "source": []
  }
 ],
 "metadata": {
  "kernelspec": {
   "display_name": "Python 3",
   "language": "python",
   "name": "python3"
  },
  "language_info": {
   "codemirror_mode": {
    "name": "ipython",
    "version": 3
   },
   "file_extension": ".py",
   "mimetype": "text/x-python",
   "name": "python",
   "nbconvert_exporter": "python",
   "pygments_lexer": "ipython3",
   "version": "3.7.9"
  },
  "nbsphinx": {
   "timeout": 600
  },
  "toc": {
   "base_numbering": 1,
   "nav_menu": {},
   "number_sections": true,
   "sideBar": true,
   "skip_h1_title": false,
   "title_cell": "Table of Contents",
   "title_sidebar": "Contents",
   "toc_cell": false,
   "toc_position": {},
   "toc_section_display": true,
   "toc_window_display": false
  },
  "varInspector": {
   "cols": {
    "lenName": 16,
    "lenType": 16,
    "lenVar": 40
   },
   "kernels_config": {
    "python": {
     "delete_cmd_postfix": "",
     "delete_cmd_prefix": "del ",
     "library": "var_list.py",
     "varRefreshCmd": "print(var_dic_list())"
    },
    "r": {
     "delete_cmd_postfix": ") ",
     "delete_cmd_prefix": "rm(",
     "library": "var_list.r",
     "varRefreshCmd": "cat(var_dic_list()) "
    }
   },
   "types_to_exclude": [
    "module",
    "function",
    "builtin_function_or_method",
    "instance",
    "_Feature"
   ],
   "window_display": false
  }
 },
 "nbformat": 4,
 "nbformat_minor": 2
}
