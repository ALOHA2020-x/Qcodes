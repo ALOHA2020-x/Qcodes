{
 "cells": [
  {
   "cell_type": "markdown",
   "metadata": {},
   "source": [
    "# DataSet Performance\n",
    "\n",
    "This notebook shows the trade-off between inserting data into a database row-by-row and as binary blobs. Inserting the data row-by-row means that we have direct access to all the data and may perform queries directly on the values of the data. On the other hand, as we shall see, this is much slower than inserting the data directly as binary blobs."
   ]
  },
  {
   "cell_type": "markdown",
   "metadata": {},
   "source": [
    "First, we choose a new location for the database to ensure that we don't add a bunch of benchmarking data to the default one."
   ]
  },
  {
   "cell_type": "code",
   "execution_count": 1,
   "metadata": {
    "execution": {
     "iopub.execute_input": "2020-10-12T10:57:20.039438Z",
     "iopub.status.busy": "2020-10-12T10:57:20.038580Z",
     "iopub.status.idle": "2020-10-12T10:57:21.059395Z",
     "shell.execute_reply": "2020-10-12T10:57:21.058448Z"
    }
   },
   "outputs": [
    {
     "name": "stdout",
     "output_type": "stream",
     "text": [
      "Logging hadn't been started.\n",
      "Activating auto-logging. Current session state plus future input saved.\n",
      "Filename       : /home/vsts/.qcodes/logs/command_history.log\n",
      "Mode           : append\n",
      "Output logging : True\n",
      "Raw input log  : False\n",
      "Timestamping   : True\n",
      "State          : active\n"
     ]
    },
    {
     "name": "stdout",
     "output_type": "stream",
     "text": [
      "Qcodes Logfile : /home/vsts/.qcodes/logs/201012-15167-qcodes.log\n"
     ]
    }
   ],
   "source": [
    "import os\n",
    "cwd = os.getcwd()\n",
    "import qcodes as qc\n",
    "qc.config[\"core\"][\"db_location\"] = os.path.join(cwd, 'testing.db')\n"
   ]
  },
  {
   "cell_type": "code",
   "execution_count": 2,
   "metadata": {
    "execution": {
     "iopub.execute_input": "2020-10-12T10:57:21.066238Z",
     "iopub.status.busy": "2020-10-12T10:57:21.065693Z",
     "iopub.status.idle": "2020-10-12T10:57:21.253442Z",
     "shell.execute_reply": "2020-10-12T10:57:21.252310Z"
    }
   },
   "outputs": [],
   "source": [
    "%matplotlib inline\n",
    "import time\n",
    "import matplotlib.pyplot as plt\n",
    "import numpy as np\n",
    "\n",
    "import qcodes as qc\n",
    "from qcodes.instrument.parameter import ManualParameter\n",
    "from qcodes.dataset.experiment_container import (Experiment,\n",
    "                                                 load_last_experiment,\n",
    "                                                 new_experiment)\n",
    "from qcodes.dataset.sqlite.database import initialise_database\n",
    "from qcodes import load_or_create_experiment\n",
    "from qcodes.dataset.measurements import Measurement"
   ]
  },
  {
   "cell_type": "code",
   "execution_count": 3,
   "metadata": {
    "execution": {
     "iopub.execute_input": "2020-10-12T10:57:21.257394Z",
     "iopub.status.busy": "2020-10-12T10:57:21.256785Z",
     "iopub.status.idle": "2020-10-12T10:57:21.377079Z",
     "shell.execute_reply": "2020-10-12T10:57:21.376529Z"
    }
   },
   "outputs": [
    {
     "name": "stdout",
     "output_type": "stream",
     "text": [
      "\r",
      "0it [00:00, ?it/s]"
     ]
    },
    {
     "name": "stdout",
     "output_type": "stream",
     "text": [
      "\r",
      "Upgrading database; v0 -> v1: : 0it [00:00, ?it/s]"
     ]
    },
    {
     "name": "stdout",
     "output_type": "stream",
     "text": [
      "\r",
      "Upgrading database; v0 -> v1: : 0it [00:00, ?it/s]"
     ]
    },
    {
     "name": "stdout",
     "output_type": "stream",
     "text": [
      "\n",
      "\r",
      "  0%|          | 0/1 [00:00<?, ?it/s]"
     ]
    },
    {
     "name": "stdout",
     "output_type": "stream",
     "text": [
      "\r",
      "Upgrading database; v1 -> v2:   0%|          | 0/1 [00:00<?, ?it/s]"
     ]
    },
    {
     "name": "stdout",
     "output_type": "stream",
     "text": [
      "\r",
      "Upgrading database; v1 -> v2: 100%|██████████| 1/1 [00:00<00:00, 420.73it/s]"
     ]
    },
    {
     "name": "stdout",
     "output_type": "stream",
     "text": [
      "\n",
      "\r",
      "0it [00:00, ?it/s]"
     ]
    },
    {
     "name": "stdout",
     "output_type": "stream",
     "text": [
      "\r",
      "Upgrading database; v2 -> v3: : 0it [00:00, ?it/s]"
     ]
    },
    {
     "name": "stdout",
     "output_type": "stream",
     "text": [
      "\r",
      "Upgrading database; v2 -> v3: : 0it [00:00, ?it/s]"
     ]
    },
    {
     "name": "stdout",
     "output_type": "stream",
     "text": [
      "\n",
      "\r",
      "0it [00:00, ?it/s]"
     ]
    },
    {
     "name": "stdout",
     "output_type": "stream",
     "text": [
      "\r",
      "Upgrading database; v3 -> v4: : 0it [00:00, ?it/s]"
     ]
    },
    {
     "name": "stdout",
     "output_type": "stream",
     "text": [
      "\r",
      "Upgrading database; v3 -> v4: : 0it [00:00, ?it/s]"
     ]
    },
    {
     "name": "stdout",
     "output_type": "stream",
     "text": [
      "\n",
      "\r",
      "  0%|          | 0/1 [00:00<?, ?it/s]"
     ]
    },
    {
     "name": "stdout",
     "output_type": "stream",
     "text": [
      "\r",
      "Upgrading database; v4 -> v5:   0%|          | 0/1 [00:00<?, ?it/s]"
     ]
    },
    {
     "name": "stdout",
     "output_type": "stream",
     "text": [
      "\r",
      "Upgrading database; v4 -> v5: 100%|██████████| 1/1 [00:00<00:00, 437.50it/s]"
     ]
    },
    {
     "name": "stdout",
     "output_type": "stream",
     "text": [
      "\n",
      "\r",
      "0it [00:00, ?it/s]"
     ]
    },
    {
     "name": "stdout",
     "output_type": "stream",
     "text": [
      "\r",
      "Upgrading database; v5 -> v6: : 0it [00:00, ?it/s]"
     ]
    },
    {
     "name": "stdout",
     "output_type": "stream",
     "text": [
      "\r",
      "Upgrading database; v5 -> v6: : 0it [00:00, ?it/s]"
     ]
    },
    {
     "name": "stdout",
     "output_type": "stream",
     "text": [
      "\n",
      "\r",
      "  0%|          | 0/1 [00:00<?, ?it/s]"
     ]
    },
    {
     "name": "stdout",
     "output_type": "stream",
     "text": [
      "\r",
      "Upgrading database; v6 -> v7:   0%|          | 0/1 [00:00<?, ?it/s]"
     ]
    },
    {
     "name": "stdout",
     "output_type": "stream",
     "text": [
      "\r",
      "Upgrading database; v6 -> v7: 100%|██████████| 1/1 [00:00<00:00, 402.41it/s]"
     ]
    },
    {
     "name": "stdout",
     "output_type": "stream",
     "text": [
      "\n",
      "\r",
      "  0%|          | 0/1 [00:00<?, ?it/s]"
     ]
    },
    {
     "name": "stdout",
     "output_type": "stream",
     "text": [
      "\r",
      "Upgrading database; v7 -> v8:   0%|          | 0/1 [00:00<?, ?it/s]"
     ]
    },
    {
     "name": "stdout",
     "output_type": "stream",
     "text": [
      "\r",
      "Upgrading database; v7 -> v8: 100%|██████████| 1/1 [00:00<00:00, 466.40it/s]"
     ]
    },
    {
     "name": "stdout",
     "output_type": "stream",
     "text": [
      "\n",
      "\r",
      "  0%|          | 0/1 [00:00<?, ?it/s]"
     ]
    },
    {
     "name": "stdout",
     "output_type": "stream",
     "text": [
      "\r",
      "Upgrading database; v8 -> v9:   0%|          | 0/1 [00:00<?, ?it/s]"
     ]
    },
    {
     "name": "stdout",
     "output_type": "stream",
     "text": [
      "\r",
      "Upgrading database; v8 -> v9: 100%|██████████| 1/1 [00:00<00:00, 497.78it/s]"
     ]
    },
    {
     "name": "stdout",
     "output_type": "stream",
     "text": [
      "\n"
     ]
    }
   ],
   "source": [
    "initialise_database()\n",
    "exp = load_or_create_experiment(experiment_name='tutorial_exp', sample_name=\"no sample\")"
   ]
  },
  {
   "cell_type": "markdown",
   "metadata": {},
   "source": [
    "Here, we define a simple function to benchmark the time it takes to insert n points with either numeric or array data type.\n",
    "We will compare both the time used to call ``add_result`` and the time used for the full measurement."
   ]
  },
  {
   "cell_type": "code",
   "execution_count": 4,
   "metadata": {
    "execution": {
     "iopub.execute_input": "2020-10-12T10:57:21.385797Z",
     "iopub.status.busy": "2020-10-12T10:57:21.385275Z",
     "iopub.status.idle": "2020-10-12T10:57:21.388578Z",
     "shell.execute_reply": "2020-10-12T10:57:21.388039Z"
    }
   },
   "outputs": [],
   "source": [
    "def insert_data(paramtype, npoints, nreps=1):\n",
    "\n",
    "    meas = Measurement(exp=exp)\n",
    "\n",
    "    x1 = ManualParameter('x1')\n",
    "    x2 = ManualParameter('x2')\n",
    "    x3 = ManualParameter('x3')\n",
    "    y1 = ManualParameter('y1')\n",
    "    y2 = ManualParameter('y2')\n",
    "\n",
    "    meas.register_parameter(x1, paramtype=paramtype)\n",
    "    meas.register_parameter(x2, paramtype=paramtype)\n",
    "    meas.register_parameter(x3, paramtype=paramtype)\n",
    "    meas.register_parameter(y1, setpoints=[x1, x2, x3],\n",
    "                            paramtype=paramtype)\n",
    "    meas.register_parameter(y2, setpoints=[x1, x2, x3],\n",
    "                            paramtype=paramtype)\n",
    "    start = time.perf_counter()\n",
    "    with meas.run() as datasaver:\n",
    "        start_adding = time.perf_counter()\n",
    "        for i in range(nreps):\n",
    "            datasaver.add_result((x1, np.random.rand(npoints)),\n",
    "                                 (x2, np.random.rand(npoints)),\n",
    "                                 (x3, np.random.rand(npoints)),\n",
    "                                 (y1, np.random.rand(npoints)),\n",
    "                                 (y2, np.random.rand(npoints)))\n",
    "        stop_adding = time.perf_counter()\n",
    "        run_id = datasaver.run_id\n",
    "    stop = time.perf_counter()\n",
    "    tot_time = stop - start\n",
    "    add_time = stop_adding - start_adding\n",
    "    return tot_time, add_time, run_id"
   ]
  },
  {
   "cell_type": "markdown",
   "metadata": {},
   "source": [
    "## Comparison between numeric/array data and binary blob"
   ]
  },
  {
   "cell_type": "markdown",
   "metadata": {},
   "source": [
    "### Case1: Short experiment time"
   ]
  },
  {
   "cell_type": "code",
   "execution_count": 5,
   "metadata": {
    "execution": {
     "iopub.execute_input": "2020-10-12T10:57:21.394740Z",
     "iopub.status.busy": "2020-10-12T10:57:21.394230Z",
     "iopub.status.idle": "2020-10-12T10:57:22.223637Z",
     "shell.execute_reply": "2020-10-12T10:57:22.224406Z"
    }
   },
   "outputs": [
    {
     "name": "stdout",
     "output_type": "stream",
     "text": [
      "Starting experimental run with id: 1. \n",
      "Starting experimental run with id: 2. \n",
      "Starting experimental run with id: 3. \n",
      "Starting experimental run with id: 4. \n",
      "Starting experimental run with id: 5. \n"
     ]
    },
    {
     "name": "stdout",
     "output_type": "stream",
     "text": [
      "Starting experimental run with id: 6. \n"
     ]
    },
    {
     "name": "stdout",
     "output_type": "stream",
     "text": [
      "Starting experimental run with id: 7. \n"
     ]
    },
    {
     "name": "stdout",
     "output_type": "stream",
     "text": [
      "Starting experimental run with id: 8. \n",
      "Starting experimental run with id: 9. \n"
     ]
    },
    {
     "name": "stdout",
     "output_type": "stream",
     "text": [
      "Starting experimental run with id: 10. \n",
      "Starting experimental run with id: 11. \n"
     ]
    },
    {
     "name": "stdout",
     "output_type": "stream",
     "text": [
      "Starting experimental run with id: 12. \n",
      "Starting experimental run with id: 13. \n"
     ]
    },
    {
     "name": "stdout",
     "output_type": "stream",
     "text": [
      "Starting experimental run with id: 14. \n"
     ]
    }
   ],
   "source": [
    "sizes = [1,500,1000,2000,3000,4000,5000]\n",
    "t_numeric = []\n",
    "t_numeric_add = []\n",
    "t_array = []\n",
    "t_array_add = []\n",
    "for size in sizes:\n",
    "    tn, tna, run_id_n =  insert_data('numeric', size)\n",
    "    t_numeric.append(tn)\n",
    "    t_numeric_add.append(tna)\n",
    "\n",
    "    ta, taa, run_id_a =  insert_data('array', size)\n",
    "    t_array.append(ta)\n",
    "    t_array_add.append(taa)"
   ]
  },
  {
   "cell_type": "code",
   "execution_count": 6,
   "metadata": {
    "execution": {
     "iopub.execute_input": "2020-10-12T10:57:22.241879Z",
     "iopub.status.busy": "2020-10-12T10:57:22.241033Z",
     "iopub.status.idle": "2020-10-12T10:57:22.422279Z",
     "shell.execute_reply": "2020-10-12T10:57:22.421368Z"
    }
   },
   "outputs": [
    {
     "data": {
      "image/png": "[encoded data removed]",
      "text/plain": [
       "<Figure size 432x288 with 1 Axes>"
      ]
     },
     "metadata": {
      "needs_background": "light"
     },
     "output_type": "display_data"
    }
   ],
   "source": [
    "fig, ax = plt.subplots(1,1)\n",
    "ax.plot(sizes, t_numeric, 'o-', label='Inserting row-by-row')\n",
    "ax.plot(sizes, t_numeric_add, 'o-', label='Inserting row-by-row: add_result only')\n",
    "ax.plot(sizes, t_array, 'd-', label='Inserting as binary blob')\n",
    "ax.plot(sizes, t_array_add, 'd-', label='Inserting as binary blob: add_result only')\n",
    "ax.legend()\n",
    "ax.set_xlabel('Array length')\n",
    "ax.set_ylabel('Time (s)')\n",
    "fig.tight_layout()"
   ]
  },
  {
   "cell_type": "markdown",
   "metadata": {},
   "source": [
    "As shown in the latter figure, the time to setup and and close the experiment is approximately 0.4 sec. In case of small array sizes, the difference between inserting values of data as arrays and inserting them row-by-row is relatively unimportant. At larger array sizes, i.e. above 10000 points, the cost of writing data as individual datapoints starts to become important.\n"
   ]
  },
  {
   "cell_type": "markdown",
   "metadata": {},
   "source": [
    "### Case2: Long experiment time "
   ]
  },
  {
   "cell_type": "code",
   "execution_count": 7,
   "metadata": {
    "execution": {
     "iopub.execute_input": "2020-10-12T10:57:22.430050Z",
     "iopub.status.busy": "2020-10-12T10:57:22.426964Z",
     "iopub.status.idle": "2020-10-12T10:58:20.815385Z",
     "shell.execute_reply": "2020-10-12T10:58:20.814470Z"
    }
   },
   "outputs": [
    {
     "name": "stdout",
     "output_type": "stream",
     "text": [
      "Starting experimental run with id: 15. \n",
      "Starting experimental run with id: 16. \n",
      "Starting experimental run with id: 17. \n"
     ]
    },
    {
     "name": "stdout",
     "output_type": "stream",
     "text": [
      "Starting experimental run with id: 18. \n",
      "Starting experimental run with id: 19. \n"
     ]
    },
    {
     "name": "stdout",
     "output_type": "stream",
     "text": [
      "Starting experimental run with id: 20. \n"
     ]
    },
    {
     "name": "stdout",
     "output_type": "stream",
     "text": [
      "Starting experimental run with id: 21. \n"
     ]
    },
    {
     "name": "stdout",
     "output_type": "stream",
     "text": [
      "Starting experimental run with id: 22. \n"
     ]
    },
    {
     "name": "stdout",
     "output_type": "stream",
     "text": [
      "Starting experimental run with id: 23. \n"
     ]
    },
    {
     "name": "stdout",
     "output_type": "stream",
     "text": [
      "Starting experimental run with id: 24. \n"
     ]
    },
    {
     "name": "stdout",
     "output_type": "stream",
     "text": [
      "Starting experimental run with id: 25. \n"
     ]
    },
    {
     "name": "stdout",
     "output_type": "stream",
     "text": [
      "Starting experimental run with id: 26. \n"
     ]
    },
    {
     "name": "stdout",
     "output_type": "stream",
     "text": [
      "Starting experimental run with id: 27. \n"
     ]
    },
    {
     "name": "stdout",
     "output_type": "stream",
     "text": [
      "Starting experimental run with id: 28. \n"
     ]
    }
   ],
   "source": [
    "sizes = [1,500,1000,2000,3000,4000,5000]\n",
    "nreps = 100\n",
    "t_numeric = []\n",
    "t_numeric_add = []\n",
    "t_numeric_run_ids = []\n",
    "t_array = []\n",
    "t_array_add = []\n",
    "t_array_run_ids = []\n",
    "for size in sizes:\n",
    "    tn, tna, run_id_n =  insert_data('numeric', size, nreps=nreps)\n",
    "    t_numeric.append(tn)\n",
    "    t_numeric_add.append(tna)\n",
    "    t_numeric_run_ids.append(run_id_n)\n",
    "\n",
    "    ta, taa, run_id_a =  insert_data('array', size, nreps=nreps)\n",
    "    t_array.append(ta)\n",
    "    t_array_add.append(taa)\n",
    "    t_array_run_ids.append(run_id_a)"
   ]
  },
  {
   "cell_type": "code",
   "execution_count": 8,
   "metadata": {
    "execution": {
     "iopub.execute_input": "2020-10-12T10:58:20.837891Z",
     "iopub.status.busy": "2020-10-12T10:58:20.820124Z",
     "iopub.status.idle": "2020-10-12T10:58:21.012121Z",
     "shell.execute_reply": "2020-10-12T10:58:21.011579Z"
    },
    "scrolled": true
   },
   "outputs": [
    {
     "data": {
      "image/png": "[encoded data removed]",
      "text/plain": [
       "<Figure size 432x288 with 1 Axes>"
      ]
     },
     "metadata": {
      "needs_background": "light"
     },
     "output_type": "display_data"
    }
   ],
   "source": [
    "fig, ax = plt.subplots(1,1)\n",
    "ax.plot(sizes, t_numeric, 'o-', label='Inserting row-by-row')\n",
    "ax.plot(sizes, t_numeric_add, 'o-', label='Inserting row-by-row: add_result only')\n",
    "ax.plot(sizes, t_array, 'd-', label='Inserting as binary blob')\n",
    "ax.plot(sizes, t_array_add, 'd-', label='Inserting as binary blob: add_result only')\n",
    "ax.legend()\n",
    "ax.set_xlabel('Array length')\n",
    "ax.set_ylabel('Time (s)')\n",
    "fig.tight_layout()"
   ]
  },
  {
   "cell_type": "markdown",
   "metadata": {},
   "source": [
    "However, as we increase the length of the experiment, as seen here by repeating the insertion 100 times, we see a big difference between inserting values of the data row-by-row and inserting it as a binary blob."
   ]
  },
  {
   "cell_type": "markdown",
   "metadata": {},
   "source": [
    "## Loading the data "
   ]
  },
  {
   "cell_type": "code",
   "execution_count": 9,
   "metadata": {
    "execution": {
     "iopub.execute_input": "2020-10-12T10:58:21.016416Z",
     "iopub.status.busy": "2020-10-12T10:58:21.015168Z",
     "iopub.status.idle": "2020-10-12T10:58:21.018764Z",
     "shell.execute_reply": "2020-10-12T10:58:21.019489Z"
    }
   },
   "outputs": [],
   "source": [
    "from qcodes.dataset.data_set import load_by_id\n",
    "from qcodes.dataset.data_export import get_data_by_id"
   ]
  },
  {
   "cell_type": "markdown",
   "metadata": {},
   "source": [
    "As usual you can load the data by using the ``load_by_id`` function but you will notice that the different storage methods\n",
    "are reflected in shape of the data as it is retrieved. "
   ]
  },
  {
   "cell_type": "code",
   "execution_count": 10,
   "metadata": {
    "execution": {
     "iopub.execute_input": "2020-10-12T10:58:21.023266Z",
     "iopub.status.busy": "2020-10-12T10:58:21.022733Z",
     "iopub.status.idle": "2020-10-12T10:58:21.026076Z",
     "shell.execute_reply": "2020-10-12T10:58:21.025541Z"
    }
   },
   "outputs": [],
   "source": [
    "run_id_n = t_numeric_run_ids[0]\n",
    "run_id_a = t_array_run_ids[0]"
   ]
  },
  {
   "cell_type": "code",
   "execution_count": 11,
   "metadata": {
    "execution": {
     "iopub.execute_input": "2020-10-12T10:58:21.029262Z",
     "iopub.status.busy": "2020-10-12T10:58:21.028764Z",
     "iopub.status.idle": "2020-10-12T10:58:21.038931Z",
     "shell.execute_reply": "2020-10-12T10:58:21.038386Z"
    },
    "scrolled": true
   },
   "outputs": [
    {
     "data": {
      "text/plain": [
       "{'x1': {'x1': array([0.49614206, 0.49614206, 0.5924099 , 0.5924099 , 0.50023343,\n",
       "         0.50023343, 0.37385768, 0.37385768, 0.68419568, 0.68419568,\n",
       "         0.82655122, 0.82655122, 0.66329564, 0.66329564, 0.29158606,\n",
       "         0.29158606, 0.51081449, 0.51081449, 0.68052569, 0.68052569,\n",
       "         0.43050031, 0.43050031, 0.68767517, 0.68767517, 0.82277372,\n",
       "         0.82277372, 0.95455194, 0.95455194, 0.96678456, 0.96678456,\n",
       "         0.79991624, 0.79991624, 0.86897072, 0.86897072, 0.51800415,\n",
       "         0.51800415, 0.01379755, 0.01379755, 0.73977781, 0.73977781,\n",
       "         0.07652564, 0.07652564, 0.5988341 , 0.5988341 , 0.20007918,\n",
       "         0.20007918, 0.72810793, 0.72810793, 0.86002079, 0.86002079,\n",
       "         0.16856497, 0.16856497, 0.16271655, 0.16271655, 0.90188131,\n",
       "         0.90188131, 0.84374562, 0.84374562, 0.26251055, 0.26251055,\n",
       "         0.79645388, 0.79645388, 0.47194397, 0.47194397, 0.50954151,\n",
       "         0.50954151, 0.95760142, 0.95760142, 0.59492688, 0.59492688,\n",
       "         0.61414909, 0.61414909, 0.68392939, 0.68392939, 0.18786376,\n",
       "         0.18786376, 0.55852055, 0.55852055, 0.5934396 , 0.5934396 ,\n",
       "         0.57723116, 0.57723116, 0.45601493, 0.45601493, 0.70960335,\n",
       "         0.70960335, 0.76539589, 0.76539589, 0.64580418, 0.64580418,\n",
       "         0.09046867, 0.09046867, 0.01299673, 0.01299673, 0.79313653,\n",
       "         0.79313653, 0.38240934, 0.38240934, 0.5964129 , 0.5964129 ,\n",
       "         0.80406637, 0.80406637, 0.49539867, 0.49539867, 0.16694643,\n",
       "         0.16694643, 0.46623332, 0.46623332, 0.003778  , 0.003778  ,\n",
       "         0.42259373, 0.42259373, 0.0846364 , 0.0846364 , 0.50274859,\n",
       "         0.50274859, 0.29506588, 0.29506588, 0.51593038, 0.51593038,\n",
       "         0.49964124, 0.49964124, 0.19617628, 0.19617628, 0.97276141,\n",
       "         0.97276141, 0.63102525, 0.63102525, 0.50296363, 0.50296363,\n",
       "         0.28355952, 0.28355952, 0.20868598, 0.20868598, 0.3483734 ,\n",
       "         0.3483734 , 0.6493397 , 0.6493397 , 0.06161504, 0.06161504,\n",
       "         0.01737539, 0.01737539, 0.36253491, 0.36253491, 0.7177327 ,\n",
       "         0.7177327 , 0.38312182, 0.38312182, 0.11545063, 0.11545063,\n",
       "         0.75999233, 0.75999233, 0.03852996, 0.03852996, 0.46975723,\n",
       "         0.46975723, 0.8273329 , 0.8273329 , 0.28967066, 0.28967066,\n",
       "         0.30149071, 0.30149071, 0.66986238, 0.66986238, 0.34810509,\n",
       "         0.34810509, 0.31876246, 0.31876246, 0.62621856, 0.62621856,\n",
       "         0.46245005, 0.46245005, 0.19772028, 0.19772028, 0.04595681,\n",
       "         0.04595681, 0.30081848, 0.30081848, 0.32944524, 0.32944524,\n",
       "         0.49993609, 0.49993609, 0.69031116, 0.69031116, 0.39983857,\n",
       "         0.39983857, 0.37487645, 0.37487645, 0.70864186, 0.70864186,\n",
       "         0.31666768, 0.31666768, 0.33801395, 0.33801395, 0.71276078,\n",
       "         0.71276078, 0.93221646, 0.93221646, 0.51088299, 0.51088299])}}"
      ]
     },
     "execution_count": 1,
     "metadata": {},
     "output_type": "execute_result"
    }
   ],
   "source": [
    "ds = load_by_id(run_id_n)\n",
    "ds.get_parameter_data('x1')"
   ]
  },
  {
   "cell_type": "markdown",
   "metadata": {},
   "source": [
    "And a dataset stored as binary arrays"
   ]
  },
  {
   "cell_type": "code",
   "execution_count": 12,
   "metadata": {
    "execution": {
     "iopub.execute_input": "2020-10-12T10:58:21.042244Z",
     "iopub.status.busy": "2020-10-12T10:58:21.041733Z",
     "iopub.status.idle": "2020-10-12T10:58:21.096393Z",
     "shell.execute_reply": "2020-10-12T10:58:21.096937Z"
    },
    "scrolled": true
   },
   "outputs": [
    {
     "data": {
      "text/plain": [
       "{'x1': {'x1': array([[0.13541725],\n",
       "         [0.13541725],\n",
       "         [0.00273453],\n",
       "         [0.00273453],\n",
       "         [0.34822948],\n",
       "         [0.34822948],\n",
       "         [0.23415485],\n",
       "         [0.23415485],\n",
       "         [0.68150895],\n",
       "         [0.68150895],\n",
       "         [0.98573704],\n",
       "         [0.98573704],\n",
       "         [0.72298092],\n",
       "         [0.72298092],\n",
       "         [0.57203457],\n",
       "         [0.57203457],\n",
       "         [0.52034775],\n",
       "         [0.52034775],\n",
       "         [0.17439792],\n",
       "         [0.17439792],\n",
       "         [0.46943177],\n",
       "         [0.46943177],\n",
       "         [0.58232521],\n",
       "         [0.58232521],\n",
       "         [0.05613261],\n",
       "         [0.05613261],\n",
       "         [0.92336894],\n",
       "         [0.92336894],\n",
       "         [0.81369779],\n",
       "         [0.81369779],\n",
       "         [0.11982423],\n",
       "         [0.11982423],\n",
       "         [0.83461472],\n",
       "         [0.83461472],\n",
       "         [0.05000819],\n",
       "         [0.05000819],\n",
       "         [0.88965123],\n",
       "         [0.88965123],\n",
       "         [0.56202901],\n",
       "         [0.56202901],\n",
       "         [0.83658952],\n",
       "         [0.83658952],\n",
       "         [0.13912367],\n",
       "         [0.13912367],\n",
       "         [0.82455565],\n",
       "         [0.82455565],\n",
       "         [0.55877648],\n",
       "         [0.55877648],\n",
       "         [0.36429227],\n",
       "         [0.36429227],\n",
       "         [0.96956231],\n",
       "         [0.96956231],\n",
       "         [0.43179891],\n",
       "         [0.43179891],\n",
       "         [0.63947799],\n",
       "         [0.63947799],\n",
       "         [0.45537415],\n",
       "         [0.45537415],\n",
       "         [0.71291031],\n",
       "         [0.71291031],\n",
       "         [0.44344286],\n",
       "         [0.44344286],\n",
       "         [0.57776231],\n",
       "         [0.57776231],\n",
       "         [0.31938924],\n",
       "         [0.31938924],\n",
       "         [0.47341615],\n",
       "         [0.47341615],\n",
       "         [0.37145286],\n",
       "         [0.37145286],\n",
       "         [0.14838944],\n",
       "         [0.14838944],\n",
       "         [0.96325372],\n",
       "         [0.96325372],\n",
       "         [0.04271157],\n",
       "         [0.04271157],\n",
       "         [0.17435796],\n",
       "         [0.17435796],\n",
       "         [0.29874296],\n",
       "         [0.29874296],\n",
       "         [0.06684943],\n",
       "         [0.06684943],\n",
       "         [0.6401951 ],\n",
       "         [0.6401951 ],\n",
       "         [0.56451769],\n",
       "         [0.56451769],\n",
       "         [0.15610928],\n",
       "         [0.15610928],\n",
       "         [0.2482355 ],\n",
       "         [0.2482355 ],\n",
       "         [0.8804427 ],\n",
       "         [0.8804427 ],\n",
       "         [0.72963646],\n",
       "         [0.72963646],\n",
       "         [0.47586286],\n",
       "         [0.47586286],\n",
       "         [0.81143877],\n",
       "         [0.81143877],\n",
       "         [0.46908396],\n",
       "         [0.46908396],\n",
       "         [0.42356754],\n",
       "         [0.42356754],\n",
       "         [0.88153176],\n",
       "         [0.88153176],\n",
       "         [0.83000076],\n",
       "         [0.83000076],\n",
       "         [0.83972695],\n",
       "         [0.83972695],\n",
       "         [0.82911449],\n",
       "         [0.82911449],\n",
       "         [0.85399325],\n",
       "         [0.85399325],\n",
       "         [0.05376245],\n",
       "         [0.05376245],\n",
       "         [0.51302456],\n",
       "         [0.51302456],\n",
       "         [0.8972682 ],\n",
       "         [0.8972682 ],\n",
       "         [0.74468957],\n",
       "         [0.74468957],\n",
       "         [0.86439768],\n",
       "         [0.86439768],\n",
       "         [0.36881369],\n",
       "         [0.36881369],\n",
       "         [0.66065504],\n",
       "         [0.66065504],\n",
       "         [0.64763328],\n",
       "         [0.64763328],\n",
       "         [0.75423678],\n",
       "         [0.75423678],\n",
       "         [0.17374633],\n",
       "         [0.17374633],\n",
       "         [0.13532047],\n",
       "         [0.13532047],\n",
       "         [0.95328703],\n",
       "         [0.95328703],\n",
       "         [0.20318962],\n",
       "         [0.20318962],\n",
       "         [0.10569484],\n",
       "         [0.10569484],\n",
       "         [0.67227206],\n",
       "         [0.67227206],\n",
       "         [0.41564815],\n",
       "         [0.41564815],\n",
       "         [0.49137454],\n",
       "         [0.49137454],\n",
       "         [0.90023383],\n",
       "         [0.90023383],\n",
       "         [0.35218914],\n",
       "         [0.35218914],\n",
       "         [0.53858107],\n",
       "         [0.53858107],\n",
       "         [0.87535139],\n",
       "         [0.87535139],\n",
       "         [0.18760016],\n",
       "         [0.18760016],\n",
       "         [0.99109396],\n",
       "         [0.99109396],\n",
       "         [0.83907907],\n",
       "         [0.83907907],\n",
       "         [0.72087445],\n",
       "         [0.72087445],\n",
       "         [0.38259701],\n",
       "         [0.38259701],\n",
       "         [0.35614998],\n",
       "         [0.35614998],\n",
       "         [0.11176423],\n",
       "         [0.11176423],\n",
       "         [0.60979461],\n",
       "         [0.60979461],\n",
       "         [0.95023084],\n",
       "         [0.95023084],\n",
       "         [0.43263436],\n",
       "         [0.43263436],\n",
       "         [0.46352842],\n",
       "         [0.46352842],\n",
       "         [0.69391486],\n",
       "         [0.69391486],\n",
       "         [0.41960896],\n",
       "         [0.41960896],\n",
       "         [0.89946929],\n",
       "         [0.89946929],\n",
       "         [0.99080026],\n",
       "         [0.99080026],\n",
       "         [0.94581276],\n",
       "         [0.94581276],\n",
       "         [0.45321967],\n",
       "         [0.45321967],\n",
       "         [0.29252338],\n",
       "         [0.29252338],\n",
       "         [0.41207914],\n",
       "         [0.41207914],\n",
       "         [0.64961773],\n",
       "         [0.64961773],\n",
       "         [0.27669661],\n",
       "         [0.27669661],\n",
       "         [0.55291976],\n",
       "         [0.55291976],\n",
       "         [0.69146826],\n",
       "         [0.69146826]])}}"
      ]
     },
     "execution_count": 1,
     "metadata": {},
     "output_type": "execute_result"
    }
   ],
   "source": [
    "ds = load_by_id(run_id_a)\n",
    "ds.get_parameter_data('x1')"
   ]
  },
  {
   "cell_type": "code",
   "execution_count": null,
   "metadata": {},
   "outputs": [],
   "source": []
  }
 ],
 "metadata": {
  "kernelspec": {
   "display_name": "Python 3",
   "language": "python",
   "name": "python3"
  },
  "language_info": {
   "codemirror_mode": {
    "name": "ipython",
    "version": 3
   },
   "file_extension": ".py",
   "mimetype": "text/x-python",
   "name": "python",
   "nbconvert_exporter": "python",
   "pygments_lexer": "ipython3",
   "version": "3.7.7"
  },
  "nbsphinx": {
   "timeout": 600
  },
  "toc": {
   "base_numbering": 1,
   "nav_menu": {},
   "number_sections": true,
   "sideBar": true,
   "skip_h1_title": false,
   "title_cell": "Table of Contents",
   "title_sidebar": "Contents",
   "toc_cell": false,
   "toc_position": {},
   "toc_section_display": true,
   "toc_window_display": false
  },
  "varInspector": {
   "cols": {
    "lenName": 16,
    "lenType": 16,
    "lenVar": 40
   },
   "kernels_config": {
    "python": {
     "delete_cmd_postfix": "",
     "delete_cmd_prefix": "del ",
     "library": "var_list.py",
     "varRefreshCmd": "print(var_dic_list())"
    },
    "r": {
     "delete_cmd_postfix": ") ",
     "delete_cmd_prefix": "rm(",
     "library": "var_list.r",
     "varRefreshCmd": "cat(var_dic_list()) "
    }
   },
   "types_to_exclude": [
    "module",
    "function",
    "builtin_function_or_method",
    "instance",
    "_Feature"
   ],
   "window_display": false
  }
 },
 "nbformat": 4,
 "nbformat_minor": 2
}
