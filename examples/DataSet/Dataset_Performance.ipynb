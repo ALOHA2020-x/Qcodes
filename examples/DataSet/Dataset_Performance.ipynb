{
 "cells": [
  {
   "cell_type": "markdown",
   "metadata": {},
   "source": [
    "# DataSet Performance\n",
    "\n",
    "This notebook shows the trade-off between inserting data into a database row-by-row and as binary blobs. Inserting the data row-by-row means that we have direct access to all the data and may perform queries directly on the values of the data. On the other hand, as we shall see, this is much slower than inserting the data directly as binary blobs."
   ]
  },
  {
   "cell_type": "markdown",
   "metadata": {},
   "source": [
    "First, we choose a new location for the database to ensure that we don't add a bunch of benchmarking data to the default one."
   ]
  },
  {
   "cell_type": "code",
   "execution_count": 1,
   "metadata": {},
   "outputs": [
    {
     "name": "stdout",
     "output_type": "stream",
     "text": [
      "Logging hadn't been started.\n",
      "Activating auto-logging. Current session state plus future input saved.\n",
      "Filename       : /home/vsts/.qcodes/logs/command_history.log\n",
      "Mode           : append\n",
      "Output logging : True\n",
      "Raw input log  : False\n",
      "Timestamping   : True\n",
      "State          : active\n"
     ]
    },
    {
     "name": "stdout",
     "output_type": "stream",
     "text": [
      "Qcodes Logfile : /home/vsts/.qcodes/logs/200504-18432-qcodes.log\n"
     ]
    }
   ],
   "source": [
    "import os\n",
    "cwd = os.getcwd()\n",
    "import qcodes as qc\n",
    "qc.config[\"core\"][\"db_location\"] = os.path.join(cwd, 'testing.db')\n"
   ]
  },
  {
   "cell_type": "code",
   "execution_count": 2,
   "metadata": {},
   "outputs": [],
   "source": [
    "%matplotlib inline\n",
    "import time\n",
    "import matplotlib.pyplot as plt\n",
    "import numpy as np\n",
    "\n",
    "import qcodes as qc\n",
    "from qcodes.instrument.parameter import ManualParameter\n",
    "from qcodes.dataset.experiment_container import (Experiment,\n",
    "                                                 load_last_experiment,\n",
    "                                                 new_experiment)\n",
    "from qcodes.dataset.sqlite.database import initialise_database\n",
    "from qcodes import load_or_create_experiment\n",
    "from qcodes.dataset.measurements import Measurement"
   ]
  },
  {
   "cell_type": "code",
   "execution_count": 3,
   "metadata": {},
   "outputs": [
    {
     "name": "stdout",
     "output_type": "stream",
     "text": [
      "\r",
      "0it [00:00, ?it/s]"
     ]
    },
    {
     "name": "stdout",
     "output_type": "stream",
     "text": [
      "\r",
      "Upgrading database; v0 -> v1: : 0it [00:00, ?it/s]"
     ]
    },
    {
     "name": "stdout",
     "output_type": "stream",
     "text": [
      "\r",
      "Upgrading database; v0 -> v1: : 0it [00:00, ?it/s]"
     ]
    },
    {
     "name": "stdout",
     "output_type": "stream",
     "text": [
      "\n",
      "\r",
      "  0%|          | 0/1 [00:00<?, ?it/s]"
     ]
    },
    {
     "name": "stdout",
     "output_type": "stream",
     "text": [
      "\r",
      "Upgrading database; v1 -> v2:   0%|          | 0/1 [00:00<?, ?it/s]"
     ]
    },
    {
     "name": "stdout",
     "output_type": "stream",
     "text": [
      "\r",
      "Upgrading database; v1 -> v2: 100%|██████████| 1/1 [00:00<00:00, 627.80it/s]"
     ]
    },
    {
     "name": "stdout",
     "output_type": "stream",
     "text": [
      "\n",
      "\r",
      "0it [00:00, ?it/s]"
     ]
    },
    {
     "name": "stdout",
     "output_type": "stream",
     "text": [
      "\r",
      "Upgrading database; v2 -> v3: : 0it [00:00, ?it/s]"
     ]
    },
    {
     "name": "stdout",
     "output_type": "stream",
     "text": [
      "\r",
      "Upgrading database; v2 -> v3: : 0it [00:00, ?it/s]"
     ]
    },
    {
     "name": "stdout",
     "output_type": "stream",
     "text": [
      "\n",
      "\r",
      "0it [00:00, ?it/s]"
     ]
    },
    {
     "name": "stdout",
     "output_type": "stream",
     "text": [
      "\r",
      "Upgrading database; v3 -> v4: : 0it [00:00, ?it/s]"
     ]
    },
    {
     "name": "stdout",
     "output_type": "stream",
     "text": [
      "\r",
      "Upgrading database; v3 -> v4: : 0it [00:00, ?it/s]"
     ]
    },
    {
     "name": "stdout",
     "output_type": "stream",
     "text": [
      "\n",
      "\r",
      "  0%|          | 0/1 [00:00<?, ?it/s]"
     ]
    },
    {
     "name": "stdout",
     "output_type": "stream",
     "text": [
      "\r",
      "Upgrading database; v4 -> v5:   0%|          | 0/1 [00:00<?, ?it/s]"
     ]
    },
    {
     "name": "stdout",
     "output_type": "stream",
     "text": [
      "\r",
      "Upgrading database; v4 -> v5: 100%|██████████| 1/1 [00:00<00:00, 941.06it/s]"
     ]
    },
    {
     "name": "stdout",
     "output_type": "stream",
     "text": [
      "\n",
      "\r",
      "0it [00:00, ?it/s]"
     ]
    },
    {
     "name": "stdout",
     "output_type": "stream",
     "text": [
      "\r",
      "Upgrading database; v5 -> v6: : 0it [00:00, ?it/s]"
     ]
    },
    {
     "name": "stdout",
     "output_type": "stream",
     "text": [
      "\r",
      "Upgrading database; v5 -> v6: : 0it [00:00, ?it/s]"
     ]
    },
    {
     "name": "stdout",
     "output_type": "stream",
     "text": [
      "\n",
      "\r",
      "  0%|          | 0/1 [00:00<?, ?it/s]"
     ]
    },
    {
     "name": "stdout",
     "output_type": "stream",
     "text": [
      "\r",
      "Upgrading database; v6 -> v7:   0%|          | 0/1 [00:00<?, ?it/s]"
     ]
    },
    {
     "name": "stdout",
     "output_type": "stream",
     "text": [
      "\r",
      "Upgrading database; v6 -> v7: 100%|██████████| 1/1 [00:00<00:00, 401.95it/s]"
     ]
    },
    {
     "name": "stdout",
     "output_type": "stream",
     "text": [
      "\n",
      "\r",
      "  0%|          | 0/1 [00:00<?, ?it/s]"
     ]
    },
    {
     "name": "stdout",
     "output_type": "stream",
     "text": [
      "\r",
      "Upgrading database; v7 -> v8:   0%|          | 0/1 [00:00<?, ?it/s]"
     ]
    },
    {
     "name": "stdout",
     "output_type": "stream",
     "text": [
      "\r",
      "Upgrading database; v7 -> v8: 100%|██████████| 1/1 [00:00<00:00, 866.77it/s]"
     ]
    },
    {
     "name": "stdout",
     "output_type": "stream",
     "text": [
      "\n",
      "\r",
      "  0%|          | 0/1 [00:00<?, ?it/s]"
     ]
    },
    {
     "name": "stdout",
     "output_type": "stream",
     "text": [
      "\r",
      "Upgrading database; v8 -> v9:   0%|          | 0/1 [00:00<?, ?it/s]"
     ]
    },
    {
     "name": "stdout",
     "output_type": "stream",
     "text": [
      "\r",
      "Upgrading database; v8 -> v9: 100%|██████████| 1/1 [00:00<00:00, 922.84it/s]"
     ]
    },
    {
     "name": "stdout",
     "output_type": "stream",
     "text": [
      "\n"
     ]
    }
   ],
   "source": [
    "initialise_database()\n",
    "exp = load_or_create_experiment(experiment_name='tutorial_exp', sample_name=\"no sample\")"
   ]
  },
  {
   "cell_type": "markdown",
   "metadata": {},
   "source": [
    "Here, we define a simple function to benchmark the time it takes to insert n points with either numeric or array data type.\n",
    "We will compare both the time used to call ``add_result`` and the time used for the full measurement."
   ]
  },
  {
   "cell_type": "code",
   "execution_count": 4,
   "metadata": {},
   "outputs": [],
   "source": [
    "def insert_data(paramtype, npoints, nreps=1):\n",
    "\n",
    "    meas = Measurement(exp=exp)\n",
    "\n",
    "    x1 = ManualParameter('x1')\n",
    "    x2 = ManualParameter('x2')\n",
    "    x3 = ManualParameter('x3')\n",
    "    y1 = ManualParameter('y1')\n",
    "    y2 = ManualParameter('y2')\n",
    "\n",
    "    meas.register_parameter(x1, paramtype=paramtype)\n",
    "    meas.register_parameter(x2, paramtype=paramtype)\n",
    "    meas.register_parameter(x3, paramtype=paramtype)\n",
    "    meas.register_parameter(y1, setpoints=[x1, x2, x3],\n",
    "                            paramtype=paramtype)\n",
    "    meas.register_parameter(y2, setpoints=[x1, x2, x3],\n",
    "                            paramtype=paramtype)\n",
    "    start = time.perf_counter()\n",
    "    with meas.run() as datasaver:\n",
    "        start_adding = time.perf_counter()\n",
    "        for i in range(nreps):\n",
    "            datasaver.add_result((x1, np.random.rand(npoints)),\n",
    "                                 (x2, np.random.rand(npoints)),\n",
    "                                 (x3, np.random.rand(npoints)),\n",
    "                                 (y1, np.random.rand(npoints)),\n",
    "                                 (y2, np.random.rand(npoints)))\n",
    "        stop_adding = time.perf_counter()\n",
    "        run_id = datasaver.run_id\n",
    "    stop = time.perf_counter()\n",
    "    tot_time = stop - start\n",
    "    add_time = stop_adding - start_adding\n",
    "    return tot_time, add_time, run_id"
   ]
  },
  {
   "cell_type": "markdown",
   "metadata": {},
   "source": [
    "## Comparison between numeric/array data and binary blob"
   ]
  },
  {
   "cell_type": "markdown",
   "metadata": {},
   "source": [
    "### Case1: Short experiment time"
   ]
  },
  {
   "cell_type": "code",
   "execution_count": 5,
   "metadata": {},
   "outputs": [
    {
     "name": "stdout",
     "output_type": "stream",
     "text": [
      "Starting experimental run with id: 1. \n",
      "Starting experimental run with id: 2. \n",
      "Starting experimental run with id: 3. \n"
     ]
    },
    {
     "name": "stdout",
     "output_type": "stream",
     "text": [
      "Starting experimental run with id: 4. \n"
     ]
    },
    {
     "name": "stdout",
     "output_type": "stream",
     "text": [
      "Starting experimental run with id: 5. \n"
     ]
    },
    {
     "name": "stdout",
     "output_type": "stream",
     "text": [
      "Starting experimental run with id: 6. \n"
     ]
    },
    {
     "name": "stdout",
     "output_type": "stream",
     "text": [
      "Starting experimental run with id: 7. \n"
     ]
    },
    {
     "name": "stdout",
     "output_type": "stream",
     "text": [
      "Starting experimental run with id: 8. \n"
     ]
    },
    {
     "name": "stdout",
     "output_type": "stream",
     "text": [
      "Starting experimental run with id: 9. \n"
     ]
    },
    {
     "name": "stdout",
     "output_type": "stream",
     "text": [
      "Starting experimental run with id: 10. \n",
      "Starting experimental run with id: 11. \n"
     ]
    },
    {
     "name": "stdout",
     "output_type": "stream",
     "text": [
      "Starting experimental run with id: 12. \n"
     ]
    },
    {
     "name": "stdout",
     "output_type": "stream",
     "text": [
      "Starting experimental run with id: 13. \n"
     ]
    },
    {
     "name": "stdout",
     "output_type": "stream",
     "text": [
      "Starting experimental run with id: 14. \n"
     ]
    }
   ],
   "source": [
    "sizes = [1,500,1000,2000,3000,4000,5000]\n",
    "t_numeric = []\n",
    "t_numeric_add = []\n",
    "t_array = []\n",
    "t_array_add = []\n",
    "for size in sizes:\n",
    "    tn, tna, run_id_n =  insert_data('numeric', size)\n",
    "    t_numeric.append(tn)\n",
    "    t_numeric_add.append(tna)\n",
    "\n",
    "    ta, taa, run_id_a =  insert_data('array', size)\n",
    "    t_array.append(ta)\n",
    "    t_array_add.append(taa)"
   ]
  },
  {
   "cell_type": "code",
   "execution_count": 6,
   "metadata": {},
   "outputs": [
    {
     "data": {
      "image/png": "[encoded data removed]",
      "text/plain": [
       "<Figure size 432x288 with 1 Axes>"
      ]
     },
     "metadata": {
      "needs_background": "light"
     },
     "output_type": "display_data"
    }
   ],
   "source": [
    "fig, ax = plt.subplots(1,1)\n",
    "ax.plot(sizes, t_numeric, 'o-', label='Inserting row-by-row')\n",
    "ax.plot(sizes, t_numeric_add, 'o-', label='Inserting row-by-row: add_result only')\n",
    "ax.plot(sizes, t_array, 'd-', label='Inserting as binary blob')\n",
    "ax.plot(sizes, t_array_add, 'd-', label='Inserting as binary blob: add_result only')\n",
    "ax.legend()\n",
    "ax.set_xlabel('Array length')\n",
    "ax.set_ylabel('Time (s)')\n",
    "fig.tight_layout()"
   ]
  },
  {
   "cell_type": "markdown",
   "metadata": {},
   "source": [
    "As shown in the latter figure, the time to setup and and close the experiment is approximately 0.4 sec. In case of small array sizes, the difference between inserting values of data as arrays and inserting them row-by-row is relatively unimportant. At larger array sizes, i.e. above 10000 points, the cost of writing data as individual datapoints starts to become important.\n"
   ]
  },
  {
   "cell_type": "markdown",
   "metadata": {},
   "source": [
    "### Case2: Long experiment time "
   ]
  },
  {
   "cell_type": "code",
   "execution_count": 7,
   "metadata": {},
   "outputs": [
    {
     "name": "stdout",
     "output_type": "stream",
     "text": [
      "Starting experimental run with id: 15. \n",
      "Starting experimental run with id: 16. \n",
      "Starting experimental run with id: 17. \n"
     ]
    },
    {
     "name": "stdout",
     "output_type": "stream",
     "text": [
      "Starting experimental run with id: 18. \n",
      "Starting experimental run with id: 19. \n"
     ]
    },
    {
     "name": "stdout",
     "output_type": "stream",
     "text": [
      "Starting experimental run with id: 20. \n"
     ]
    },
    {
     "name": "stdout",
     "output_type": "stream",
     "text": [
      "Starting experimental run with id: 21. \n"
     ]
    },
    {
     "name": "stdout",
     "output_type": "stream",
     "text": [
      "Starting experimental run with id: 22. \n"
     ]
    },
    {
     "name": "stdout",
     "output_type": "stream",
     "text": [
      "Starting experimental run with id: 23. \n"
     ]
    },
    {
     "name": "stdout",
     "output_type": "stream",
     "text": [
      "Starting experimental run with id: 24. \n"
     ]
    },
    {
     "name": "stdout",
     "output_type": "stream",
     "text": [
      "Starting experimental run with id: 25. \n"
     ]
    },
    {
     "name": "stdout",
     "output_type": "stream",
     "text": [
      "Starting experimental run with id: 26. \n"
     ]
    },
    {
     "name": "stdout",
     "output_type": "stream",
     "text": [
      "Starting experimental run with id: 27. \n"
     ]
    },
    {
     "name": "stdout",
     "output_type": "stream",
     "text": [
      "Starting experimental run with id: 28. \n"
     ]
    }
   ],
   "source": [
    "sizes = [1,500,1000,2000,3000,4000,5000]\n",
    "nreps = 100\n",
    "t_numeric = []\n",
    "t_numeric_add = []\n",
    "t_numeric_run_ids = []\n",
    "t_array = []\n",
    "t_array_add = []\n",
    "t_array_run_ids = []\n",
    "for size in sizes:\n",
    "    tn, tna, run_id_n =  insert_data('numeric', size, nreps=nreps)\n",
    "    t_numeric.append(tn)\n",
    "    t_numeric_add.append(tna)\n",
    "    t_numeric_run_ids.append(run_id_n)\n",
    "\n",
    "    ta, taa, run_id_a =  insert_data('array', size, nreps=nreps)\n",
    "    t_array.append(ta)\n",
    "    t_array_add.append(taa)\n",
    "    t_array_run_ids.append(run_id_a)"
   ]
  },
  {
   "cell_type": "code",
   "execution_count": 8,
   "metadata": {
    "scrolled": true
   },
   "outputs": [
    {
     "data": {
      "image/png": "[encoded data removed]",
      "text/plain": [
       "<Figure size 432x288 with 1 Axes>"
      ]
     },
     "metadata": {
      "needs_background": "light"
     },
     "output_type": "display_data"
    }
   ],
   "source": [
    "fig, ax = plt.subplots(1,1)\n",
    "ax.plot(sizes, t_numeric, 'o-', label='Inserting row-by-row')\n",
    "ax.plot(sizes, t_numeric_add, 'o-', label='Inserting row-by-row: add_result only')\n",
    "ax.plot(sizes, t_array, 'd-', label='Inserting as binary blob')\n",
    "ax.plot(sizes, t_array_add, 'd-', label='Inserting as binary blob: add_result only')\n",
    "ax.legend()\n",
    "ax.set_xlabel('Array length')\n",
    "ax.set_ylabel('Time (s)')\n",
    "fig.tight_layout()"
   ]
  },
  {
   "cell_type": "markdown",
   "metadata": {},
   "source": [
    "However, as we increase the length of the experiment, as seen here by repeating the insertion 100 times, we see a big difference between inserting values of the data row-by-row and inserting it as a binary blob."
   ]
  },
  {
   "cell_type": "markdown",
   "metadata": {},
   "source": [
    "## Loading the data "
   ]
  },
  {
   "cell_type": "code",
   "execution_count": 9,
   "metadata": {},
   "outputs": [],
   "source": [
    "from qcodes.dataset.data_set import load_by_id\n",
    "from qcodes.dataset.data_export import get_data_by_id"
   ]
  },
  {
   "cell_type": "markdown",
   "metadata": {},
   "source": [
    "As usual you can load the data by using the ``load_by_id`` function but you will notice that the different storage methods\n",
    "are reflected in shape of the data as it is retrieved. "
   ]
  },
  {
   "cell_type": "code",
   "execution_count": 10,
   "metadata": {},
   "outputs": [],
   "source": [
    "run_id_n = t_numeric_run_ids[0]\n",
    "run_id_a = t_array_run_ids[0]"
   ]
  },
  {
   "cell_type": "code",
   "execution_count": 11,
   "metadata": {
    "scrolled": true
   },
   "outputs": [
    {
     "data": {
      "text/plain": [
       "{'x1': {'x1': array([8.20811237e-01, 8.20811237e-01, 4.18497210e-01, 4.18497210e-01,\n",
       "         2.81690036e-01, 2.81690036e-01, 4.27768990e-01, 4.27768990e-01,\n",
       "         1.88204705e-01, 1.88204705e-01, 9.42463781e-01, 9.42463781e-01,\n",
       "         1.70142786e-01, 1.70142786e-01, 5.36721504e-01, 5.36721504e-01,\n",
       "         8.96723216e-01, 8.96723216e-01, 5.24918845e-01, 5.24918845e-01,\n",
       "         1.89797309e-01, 1.89797309e-01, 1.36926404e-01, 1.36926404e-01,\n",
       "         5.92943176e-01, 5.92943176e-01, 7.28766301e-02, 7.28766301e-02,\n",
       "         6.21540121e-01, 6.21540121e-01, 7.46381423e-01, 7.46381423e-01,\n",
       "         6.55475884e-01, 6.55475884e-01, 2.72361265e-01, 2.72361265e-01,\n",
       "         5.92687729e-02, 5.92687729e-02, 5.12539477e-02, 5.12539477e-02,\n",
       "         4.92129170e-01, 4.92129170e-01, 2.24626780e-01, 2.24626780e-01,\n",
       "         6.57000942e-01, 6.57000942e-01, 6.96965908e-01, 6.96965908e-01,\n",
       "         2.97184574e-01, 2.97184574e-01, 9.48279196e-01, 9.48279196e-01,\n",
       "         1.39668780e-01, 1.39668780e-01, 5.64867872e-01, 5.64867872e-01,\n",
       "         2.61052554e-01, 2.61052554e-01, 4.15299227e-01, 4.15299227e-01,\n",
       "         8.78078676e-01, 8.78078676e-01, 1.26672235e-01, 1.26672235e-01,\n",
       "         5.10677324e-01, 5.10677324e-01, 3.51635111e-01, 3.51635111e-01,\n",
       "         7.93574037e-01, 7.93574037e-01, 9.36632582e-01, 9.36632582e-01,\n",
       "         3.44546855e-01, 3.44546855e-01, 8.09626867e-01, 8.09626867e-01,\n",
       "         3.30991253e-01, 3.30991253e-01, 6.88739001e-01, 6.88739001e-01,\n",
       "         2.39948498e-01, 2.39948498e-01, 4.68791280e-02, 4.68791280e-02,\n",
       "         3.06987438e-01, 3.06987438e-01, 5.41926109e-03, 5.41926109e-03,\n",
       "         6.48053056e-01, 6.48053056e-01, 3.93888660e-01, 3.93888660e-01,\n",
       "         3.66152659e-01, 3.66152659e-01, 6.12092744e-01, 6.12092744e-01,\n",
       "         3.38598743e-02, 3.38598743e-02, 5.63879533e-01, 5.63879533e-01,\n",
       "         1.04538325e-01, 1.04538325e-01, 8.16264876e-01, 8.16264876e-01,\n",
       "         4.18623627e-02, 4.18623627e-02, 9.58794476e-01, 9.58794476e-01,\n",
       "         9.71491347e-01, 9.71491347e-01, 8.79210546e-01, 8.79210546e-01,\n",
       "         4.54663980e-01, 4.54663980e-01, 6.07779929e-01, 6.07779929e-01,\n",
       "         9.60329465e-01, 9.60329465e-01, 7.69358841e-01, 7.69358841e-01,\n",
       "         7.85628850e-01, 7.85628850e-01, 6.99558355e-01, 6.99558355e-01,\n",
       "         5.28587625e-01, 5.28587625e-01, 8.05849815e-01, 8.05849815e-01,\n",
       "         6.10684333e-01, 6.10684333e-01, 4.04384441e-01, 4.04384441e-01,\n",
       "         4.39959641e-01, 4.39959641e-01, 6.98985584e-01, 6.98985584e-01,\n",
       "         3.61094180e-01, 3.61094180e-01, 7.27051783e-01, 7.27051783e-01,\n",
       "         8.00770524e-01, 8.00770524e-01, 3.85452872e-01, 3.85452872e-01,\n",
       "         8.37304830e-01, 8.37304830e-01, 9.41660589e-02, 9.41660589e-02,\n",
       "         9.67410872e-02, 9.67410872e-02, 9.74965332e-01, 9.74965332e-01,\n",
       "         6.63855298e-02, 6.63855298e-02, 8.58872057e-01, 8.58872057e-01,\n",
       "         4.28412616e-01, 4.28412616e-01, 4.38990285e-02, 4.38990285e-02,\n",
       "         1.66582408e-01, 1.66582408e-01, 5.43234841e-01, 5.43234841e-01,\n",
       "         2.07537701e-01, 2.07537701e-01, 6.63221568e-02, 6.63221568e-02,\n",
       "         3.51807123e-01, 3.51807123e-01, 8.40343327e-01, 8.40343327e-01,\n",
       "         1.83197572e-01, 1.83197572e-01, 2.59292792e-02, 2.59292792e-02,\n",
       "         4.15128155e-01, 4.15128155e-01, 7.40565740e-01, 7.40565740e-01,\n",
       "         4.01100716e-01, 4.01100716e-01, 7.68068447e-01, 7.68068447e-01,\n",
       "         1.96014097e-04, 1.96014097e-04, 4.77524468e-01, 4.77524468e-01,\n",
       "         6.18014417e-01, 6.18014417e-01, 8.05767195e-01, 8.05767195e-01,\n",
       "         9.82647299e-01, 9.82647299e-01, 4.77192031e-01, 4.77192031e-01,\n",
       "         4.29786666e-01, 4.29786666e-01, 6.60471208e-01, 6.60471208e-01])}}"
      ]
     },
     "execution_count": 11,
     "metadata": {},
     "output_type": "execute_result"
    }
   ],
   "source": [
    "ds = load_by_id(run_id_n)\n",
    "ds.get_parameter_data('x1')"
   ]
  },
  {
   "cell_type": "markdown",
   "metadata": {},
   "source": [
    "And a dataset stored as binary arrays"
   ]
  },
  {
   "cell_type": "code",
   "execution_count": 12,
   "metadata": {
    "scrolled": true
   },
   "outputs": [
    {
     "data": {
      "text/plain": [
       "{'x1': {'x1': array([[0.12000911],\n",
       "         [0.12000911],\n",
       "         [0.93741336],\n",
       "         [0.93741336],\n",
       "         [0.1700158 ],\n",
       "         [0.1700158 ],\n",
       "         [0.00887597],\n",
       "         [0.00887597],\n",
       "         [0.3073257 ],\n",
       "         [0.3073257 ],\n",
       "         [0.4274977 ],\n",
       "         [0.4274977 ],\n",
       "         [0.32778177],\n",
       "         [0.32778177],\n",
       "         [0.99881274],\n",
       "         [0.99881274],\n",
       "         [0.43558716],\n",
       "         [0.43558716],\n",
       "         [0.68120803],\n",
       "         [0.68120803],\n",
       "         [0.74293318],\n",
       "         [0.74293318],\n",
       "         [0.36910343],\n",
       "         [0.36910343],\n",
       "         [0.95801462],\n",
       "         [0.95801462],\n",
       "         [0.36414758],\n",
       "         [0.36414758],\n",
       "         [0.24355789],\n",
       "         [0.24355789],\n",
       "         [0.18717211],\n",
       "         [0.18717211],\n",
       "         [0.61874426],\n",
       "         [0.61874426],\n",
       "         [0.81147246],\n",
       "         [0.81147246],\n",
       "         [0.12862061],\n",
       "         [0.12862061],\n",
       "         [0.11955188],\n",
       "         [0.11955188],\n",
       "         [0.60200398],\n",
       "         [0.60200398],\n",
       "         [0.97200443],\n",
       "         [0.97200443],\n",
       "         [0.23869239],\n",
       "         [0.23869239],\n",
       "         [0.45428288],\n",
       "         [0.45428288],\n",
       "         [0.54886726],\n",
       "         [0.54886726],\n",
       "         [0.33651145],\n",
       "         [0.33651145],\n",
       "         [0.19810067],\n",
       "         [0.19810067],\n",
       "         [0.92141339],\n",
       "         [0.92141339],\n",
       "         [0.58977161],\n",
       "         [0.58977161],\n",
       "         [0.39741862],\n",
       "         [0.39741862],\n",
       "         [0.08214752],\n",
       "         [0.08214752],\n",
       "         [0.9143327 ],\n",
       "         [0.9143327 ],\n",
       "         [0.45710909],\n",
       "         [0.45710909],\n",
       "         [0.72327956],\n",
       "         [0.72327956],\n",
       "         [0.94157042],\n",
       "         [0.94157042],\n",
       "         [0.50003804],\n",
       "         [0.50003804],\n",
       "         [0.0839901 ],\n",
       "         [0.0839901 ],\n",
       "         [0.54926918],\n",
       "         [0.54926918],\n",
       "         [0.83521244],\n",
       "         [0.83521244],\n",
       "         [0.12443922],\n",
       "         [0.12443922],\n",
       "         [0.15413784],\n",
       "         [0.15413784],\n",
       "         [0.86873848],\n",
       "         [0.86873848],\n",
       "         [0.51809026],\n",
       "         [0.51809026],\n",
       "         [0.02546048],\n",
       "         [0.02546048],\n",
       "         [0.68657657],\n",
       "         [0.68657657],\n",
       "         [0.94677383],\n",
       "         [0.94677383],\n",
       "         [0.43266003],\n",
       "         [0.43266003],\n",
       "         [0.90528015],\n",
       "         [0.90528015],\n",
       "         [0.85376337],\n",
       "         [0.85376337],\n",
       "         [0.16614185],\n",
       "         [0.16614185],\n",
       "         [0.88146192],\n",
       "         [0.88146192],\n",
       "         [0.24327566],\n",
       "         [0.24327566],\n",
       "         [0.12443886],\n",
       "         [0.12443886],\n",
       "         [0.63874215],\n",
       "         [0.63874215],\n",
       "         [0.9438254 ],\n",
       "         [0.9438254 ],\n",
       "         [0.71723064],\n",
       "         [0.71723064],\n",
       "         [0.0386909 ],\n",
       "         [0.0386909 ],\n",
       "         [0.675007  ],\n",
       "         [0.675007  ],\n",
       "         [0.97147858],\n",
       "         [0.97147858],\n",
       "         [0.15715619],\n",
       "         [0.15715619],\n",
       "         [0.026443  ],\n",
       "         [0.026443  ],\n",
       "         [0.45869362],\n",
       "         [0.45869362],\n",
       "         [0.08816935],\n",
       "         [0.08816935],\n",
       "         [0.08215376],\n",
       "         [0.08215376],\n",
       "         [0.6384825 ],\n",
       "         [0.6384825 ],\n",
       "         [0.69935263],\n",
       "         [0.69935263],\n",
       "         [0.18860816],\n",
       "         [0.18860816],\n",
       "         [0.13909046],\n",
       "         [0.13909046],\n",
       "         [0.28944835],\n",
       "         [0.28944835],\n",
       "         [0.71752366],\n",
       "         [0.71752366],\n",
       "         [0.77255277],\n",
       "         [0.77255277],\n",
       "         [0.25733438],\n",
       "         [0.25733438],\n",
       "         [0.25754241],\n",
       "         [0.25754241],\n",
       "         [0.20512219],\n",
       "         [0.20512219],\n",
       "         [0.65061707],\n",
       "         [0.65061707],\n",
       "         [0.43022068],\n",
       "         [0.43022068],\n",
       "         [0.25987145],\n",
       "         [0.25987145],\n",
       "         [0.83582401],\n",
       "         [0.83582401],\n",
       "         [0.24786511],\n",
       "         [0.24786511],\n",
       "         [0.08063803],\n",
       "         [0.08063803],\n",
       "         [0.84198605],\n",
       "         [0.84198605],\n",
       "         [0.17841172],\n",
       "         [0.17841172],\n",
       "         [0.83971561],\n",
       "         [0.83971561],\n",
       "         [0.61242842],\n",
       "         [0.61242842],\n",
       "         [0.73526207],\n",
       "         [0.73526207],\n",
       "         [0.24400687],\n",
       "         [0.24400687],\n",
       "         [0.06197775],\n",
       "         [0.06197775],\n",
       "         [0.18378498],\n",
       "         [0.18378498],\n",
       "         [0.72857729],\n",
       "         [0.72857729],\n",
       "         [0.68979863],\n",
       "         [0.68979863],\n",
       "         [0.56159149],\n",
       "         [0.56159149],\n",
       "         [0.7275522 ],\n",
       "         [0.7275522 ],\n",
       "         [0.30610836],\n",
       "         [0.30610836],\n",
       "         [0.68088262],\n",
       "         [0.68088262],\n",
       "         [0.5738843 ],\n",
       "         [0.5738843 ],\n",
       "         [0.59495765],\n",
       "         [0.59495765],\n",
       "         [0.26770302],\n",
       "         [0.26770302],\n",
       "         [0.55219729],\n",
       "         [0.55219729],\n",
       "         [0.05921539],\n",
       "         [0.05921539],\n",
       "         [0.83484824],\n",
       "         [0.83484824]])}}"
      ]
     },
     "execution_count": 12,
     "metadata": {},
     "output_type": "execute_result"
    }
   ],
   "source": [
    "ds = load_by_id(run_id_a)\n",
    "ds.get_parameter_data('x1')"
   ]
  },
  {
   "cell_type": "code",
   "execution_count": null,
   "metadata": {},
   "outputs": [],
   "source": []
  }
 ],
 "metadata": {
  "kernelspec": {
   "display_name": "Python 3",
   "language": "python",
   "name": "python3"
  },
  "language_info": {
   "codemirror_mode": {
    "name": "ipython",
    "version": 3
   },
   "file_extension": ".py",
   "mimetype": "text/x-python",
   "name": "python",
   "nbconvert_exporter": "python",
   "pygments_lexer": "ipython3",
   "version": "3.7.7"
  },
  "nbsphinx": {
   "timeout": 600
  },
  "toc": {
   "base_numbering": 1,
   "nav_menu": {},
   "number_sections": true,
   "sideBar": true,
   "skip_h1_title": false,
   "title_cell": "Table of Contents",
   "title_sidebar": "Contents",
   "toc_cell": false,
   "toc_position": {},
   "toc_section_display": true,
   "toc_window_display": false
  },
  "varInspector": {
   "cols": {
    "lenName": 16,
    "lenType": 16,
    "lenVar": 40
   },
   "kernels_config": {
    "python": {
     "delete_cmd_postfix": "",
     "delete_cmd_prefix": "del ",
     "library": "var_list.py",
     "varRefreshCmd": "print(var_dic_list())"
    },
    "r": {
     "delete_cmd_postfix": ") ",
     "delete_cmd_prefix": "rm(",
     "library": "var_list.r",
     "varRefreshCmd": "cat(var_dic_list()) "
    }
   },
   "types_to_exclude": [
    "module",
    "function",
    "builtin_function_or_method",
    "instance",
    "_Feature"
   ],
   "window_display": false
  }
 },
 "nbformat": 4,
 "nbformat_minor": 2
}
