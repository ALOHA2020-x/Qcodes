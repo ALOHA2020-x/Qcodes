{
 "cells": [
  {
   "cell_type": "markdown",
   "metadata": {},
   "source": [
    "# DataSet Performance\n",
    "\n",
    "This notebook shows the trade-off between inserting data into a database row-by-row and as binary blobs. Inserting the data row-by-row means that we have direct access to all the data and may perform queries directly on the values of the data. On the other hand, as we shall see, this is much slower than inserting the data directly as binary blobs."
   ]
  },
  {
   "cell_type": "markdown",
   "metadata": {},
   "source": [
    "First, we choose a new location for the database to ensure that we don't add a bunch of benchmarking data to the default one."
   ]
  },
  {
   "cell_type": "code",
   "execution_count": 1,
   "metadata": {
    "execution": {
     "iopub.execute_input": "2020-10-22T12:01:54.367467Z",
     "iopub.status.busy": "2020-10-22T12:01:54.366709Z",
     "iopub.status.idle": "2020-10-22T12:01:55.498578Z",
     "shell.execute_reply": "2020-10-22T12:01:55.497599Z"
    }
   },
   "outputs": [
    {
     "name": "stdout",
     "output_type": "stream",
     "text": [
      "Logging hadn't been started.\n",
      "Activating auto-logging. Current session state plus future input saved.\n",
      "Filename       : /home/vsts/.qcodes/logs/command_history.log\n",
      "Mode           : append\n",
      "Output logging : True\n",
      "Raw input log  : False\n",
      "Timestamping   : True\n",
      "State          : active\n"
     ]
    },
    {
     "name": "stdout",
     "output_type": "stream",
     "text": [
      "Qcodes Logfile : /home/vsts/.qcodes/logs/201022-14763-qcodes.log\n"
     ]
    }
   ],
   "source": [
    "import os\n",
    "cwd = os.getcwd()\n",
    "import qcodes as qc\n",
    "qc.config[\"core\"][\"db_location\"] = os.path.join(cwd, 'testing.db')\n"
   ]
  },
  {
   "cell_type": "code",
   "execution_count": 2,
   "metadata": {
    "execution": {
     "iopub.execute_input": "2020-10-22T12:01:55.505160Z",
     "iopub.status.busy": "2020-10-22T12:01:55.504332Z",
     "iopub.status.idle": "2020-10-22T12:01:55.705327Z",
     "shell.execute_reply": "2020-10-22T12:01:55.704488Z"
    }
   },
   "outputs": [],
   "source": [
    "%matplotlib inline\n",
    "import time\n",
    "import matplotlib.pyplot as plt\n",
    "import numpy as np\n",
    "\n",
    "import qcodes as qc\n",
    "from qcodes.instrument.parameter import ManualParameter\n",
    "from qcodes.dataset.experiment_container import (Experiment,\n",
    "                                                 load_last_experiment,\n",
    "                                                 new_experiment)\n",
    "from qcodes.dataset.sqlite.database import initialise_database\n",
    "from qcodes import load_or_create_experiment\n",
    "from qcodes.dataset.measurements import Measurement"
   ]
  },
  {
   "cell_type": "code",
   "execution_count": 3,
   "metadata": {
    "execution": {
     "iopub.execute_input": "2020-10-22T12:01:55.709205Z",
     "iopub.status.busy": "2020-10-22T12:01:55.708589Z",
     "iopub.status.idle": "2020-10-22T12:01:55.822244Z",
     "shell.execute_reply": "2020-10-22T12:01:55.821717Z"
    }
   },
   "outputs": [
    {
     "name": "stdout",
     "output_type": "stream",
     "text": [
      "\r",
      "0it [00:00, ?it/s]"
     ]
    },
    {
     "name": "stdout",
     "output_type": "stream",
     "text": [
      "\r",
      "Upgrading database; v0 -> v1: : 0it [00:00, ?it/s]"
     ]
    },
    {
     "name": "stdout",
     "output_type": "stream",
     "text": [
      "\r",
      "Upgrading database; v0 -> v1: : 0it [00:00, ?it/s]"
     ]
    },
    {
     "name": "stdout",
     "output_type": "stream",
     "text": [
      "\n",
      "\r",
      "  0%|          | 0/1 [00:00<?, ?it/s]"
     ]
    },
    {
     "name": "stdout",
     "output_type": "stream",
     "text": [
      "\r",
      "Upgrading database; v1 -> v2:   0%|          | 0/1 [00:00<?, ?it/s]"
     ]
    },
    {
     "name": "stdout",
     "output_type": "stream",
     "text": [
      "\r",
      "Upgrading database; v1 -> v2: 100%|██████████| 1/1 [00:00<00:00, 536.29it/s]"
     ]
    },
    {
     "name": "stdout",
     "output_type": "stream",
     "text": [
      "\n",
      "\r",
      "0it [00:00, ?it/s]"
     ]
    },
    {
     "name": "stdout",
     "output_type": "stream",
     "text": [
      "\r",
      "Upgrading database; v2 -> v3: : 0it [00:00, ?it/s]"
     ]
    },
    {
     "name": "stdout",
     "output_type": "stream",
     "text": [
      "\r",
      "Upgrading database; v2 -> v3: : 0it [00:00, ?it/s]"
     ]
    },
    {
     "name": "stdout",
     "output_type": "stream",
     "text": [
      "\n",
      "\r",
      "0it [00:00, ?it/s]"
     ]
    },
    {
     "name": "stdout",
     "output_type": "stream",
     "text": [
      "\r",
      "Upgrading database; v3 -> v4: : 0it [00:00, ?it/s]"
     ]
    },
    {
     "name": "stdout",
     "output_type": "stream",
     "text": [
      "\r",
      "Upgrading database; v3 -> v4: : 0it [00:00, ?it/s]"
     ]
    },
    {
     "name": "stdout",
     "output_type": "stream",
     "text": [
      "\n",
      "\r",
      "  0%|          | 0/1 [00:00<?, ?it/s]"
     ]
    },
    {
     "name": "stdout",
     "output_type": "stream",
     "text": [
      "\r",
      "Upgrading database; v4 -> v5:   0%|          | 0/1 [00:00<?, ?it/s]"
     ]
    },
    {
     "name": "stdout",
     "output_type": "stream",
     "text": [
      "\r",
      "Upgrading database; v4 -> v5: 100%|██████████| 1/1 [00:00<00:00, 418.01it/s]"
     ]
    },
    {
     "name": "stdout",
     "output_type": "stream",
     "text": [
      "\n",
      "\r",
      "0it [00:00, ?it/s]"
     ]
    },
    {
     "name": "stdout",
     "output_type": "stream",
     "text": [
      "\r",
      "Upgrading database; v5 -> v6: : 0it [00:00, ?it/s]"
     ]
    },
    {
     "name": "stdout",
     "output_type": "stream",
     "text": [
      "\r",
      "Upgrading database; v5 -> v6: : 0it [00:00, ?it/s]"
     ]
    },
    {
     "name": "stdout",
     "output_type": "stream",
     "text": [
      "\n",
      "\r",
      "  0%|          | 0/1 [00:00<?, ?it/s]"
     ]
    },
    {
     "name": "stdout",
     "output_type": "stream",
     "text": [
      "\r",
      "Upgrading database; v6 -> v7:   0%|          | 0/1 [00:00<?, ?it/s]"
     ]
    },
    {
     "name": "stdout",
     "output_type": "stream",
     "text": [
      "\r",
      "Upgrading database; v6 -> v7: 100%|██████████| 1/1 [00:00<00:00, 253.55it/s]"
     ]
    },
    {
     "name": "stdout",
     "output_type": "stream",
     "text": [
      "\n",
      "\r",
      "  0%|          | 0/1 [00:00<?, ?it/s]"
     ]
    },
    {
     "name": "stdout",
     "output_type": "stream",
     "text": [
      "\r",
      "Upgrading database; v7 -> v8:   0%|          | 0/1 [00:00<?, ?it/s]"
     ]
    },
    {
     "name": "stdout",
     "output_type": "stream",
     "text": [
      "\r",
      "Upgrading database; v7 -> v8: 100%|██████████| 1/1 [00:00<00:00, 728.94it/s]"
     ]
    },
    {
     "name": "stdout",
     "output_type": "stream",
     "text": [
      "\n",
      "\r",
      "  0%|          | 0/1 [00:00<?, ?it/s]"
     ]
    },
    {
     "name": "stdout",
     "output_type": "stream",
     "text": [
      "\r",
      "Upgrading database; v8 -> v9:   0%|          | 0/1 [00:00<?, ?it/s]"
     ]
    },
    {
     "name": "stdout",
     "output_type": "stream",
     "text": [
      "\r",
      "Upgrading database; v8 -> v9: 100%|██████████| 1/1 [00:00<00:00, 403.45it/s]"
     ]
    },
    {
     "name": "stdout",
     "output_type": "stream",
     "text": [
      "\n"
     ]
    }
   ],
   "source": [
    "initialise_database()\n",
    "exp = load_or_create_experiment(experiment_name='tutorial_exp', sample_name=\"no sample\")"
   ]
  },
  {
   "cell_type": "markdown",
   "metadata": {},
   "source": [
    "Here, we define a simple function to benchmark the time it takes to insert n points with either numeric or array data type.\n",
    "We will compare both the time used to call ``add_result`` and the time used for the full measurement."
   ]
  },
  {
   "cell_type": "code",
   "execution_count": 4,
   "metadata": {
    "execution": {
     "iopub.execute_input": "2020-10-22T12:01:55.831852Z",
     "iopub.status.busy": "2020-10-22T12:01:55.831147Z",
     "iopub.status.idle": "2020-10-22T12:01:55.835539Z",
     "shell.execute_reply": "2020-10-22T12:01:55.834782Z"
    }
   },
   "outputs": [],
   "source": [
    "def insert_data(paramtype, npoints, nreps=1):\n",
    "\n",
    "    meas = Measurement(exp=exp)\n",
    "\n",
    "    x1 = ManualParameter('x1')\n",
    "    x2 = ManualParameter('x2')\n",
    "    x3 = ManualParameter('x3')\n",
    "    y1 = ManualParameter('y1')\n",
    "    y2 = ManualParameter('y2')\n",
    "\n",
    "    meas.register_parameter(x1, paramtype=paramtype)\n",
    "    meas.register_parameter(x2, paramtype=paramtype)\n",
    "    meas.register_parameter(x3, paramtype=paramtype)\n",
    "    meas.register_parameter(y1, setpoints=[x1, x2, x3],\n",
    "                            paramtype=paramtype)\n",
    "    meas.register_parameter(y2, setpoints=[x1, x2, x3],\n",
    "                            paramtype=paramtype)\n",
    "    start = time.perf_counter()\n",
    "    with meas.run() as datasaver:\n",
    "        start_adding = time.perf_counter()\n",
    "        for i in range(nreps):\n",
    "            datasaver.add_result((x1, np.random.rand(npoints)),\n",
    "                                 (x2, np.random.rand(npoints)),\n",
    "                                 (x3, np.random.rand(npoints)),\n",
    "                                 (y1, np.random.rand(npoints)),\n",
    "                                 (y2, np.random.rand(npoints)))\n",
    "        stop_adding = time.perf_counter()\n",
    "        run_id = datasaver.run_id\n",
    "    stop = time.perf_counter()\n",
    "    tot_time = stop - start\n",
    "    add_time = stop_adding - start_adding\n",
    "    return tot_time, add_time, run_id"
   ]
  },
  {
   "cell_type": "markdown",
   "metadata": {},
   "source": [
    "## Comparison between numeric/array data and binary blob"
   ]
  },
  {
   "cell_type": "markdown",
   "metadata": {},
   "source": [
    "### Case1: Short experiment time"
   ]
  },
  {
   "cell_type": "code",
   "execution_count": 5,
   "metadata": {
    "execution": {
     "iopub.execute_input": "2020-10-22T12:01:55.842368Z",
     "iopub.status.busy": "2020-10-22T12:01:55.841430Z",
     "iopub.status.idle": "2020-10-22T12:01:56.725597Z",
     "shell.execute_reply": "2020-10-22T12:01:56.725000Z"
    }
   },
   "outputs": [
    {
     "name": "stdout",
     "output_type": "stream",
     "text": [
      "Starting experimental run with id: 1. \n",
      "Starting experimental run with id: 2. \n",
      "Starting experimental run with id: 3. \n",
      "Starting experimental run with id: 4. \n",
      "Starting experimental run with id: 5. \n"
     ]
    },
    {
     "name": "stdout",
     "output_type": "stream",
     "text": [
      "Starting experimental run with id: 6. \n"
     ]
    },
    {
     "name": "stdout",
     "output_type": "stream",
     "text": [
      "Starting experimental run with id: 7. \n"
     ]
    },
    {
     "name": "stdout",
     "output_type": "stream",
     "text": [
      "Starting experimental run with id: 8. \n",
      "Starting experimental run with id: 9. \n"
     ]
    },
    {
     "name": "stdout",
     "output_type": "stream",
     "text": [
      "Starting experimental run with id: 10. \n",
      "Starting experimental run with id: 11. \n"
     ]
    },
    {
     "name": "stdout",
     "output_type": "stream",
     "text": [
      "Starting experimental run with id: 12. \n"
     ]
    },
    {
     "name": "stdout",
     "output_type": "stream",
     "text": [
      "Starting experimental run with id: 13. \n"
     ]
    },
    {
     "name": "stdout",
     "output_type": "stream",
     "text": [
      "Starting experimental run with id: 14. \n"
     ]
    }
   ],
   "source": [
    "sizes = [1,500,1000,2000,3000,4000,5000]\n",
    "t_numeric = []\n",
    "t_numeric_add = []\n",
    "t_array = []\n",
    "t_array_add = []\n",
    "for size in sizes:\n",
    "    tn, tna, run_id_n =  insert_data('numeric', size)\n",
    "    t_numeric.append(tn)\n",
    "    t_numeric_add.append(tna)\n",
    "\n",
    "    ta, taa, run_id_a =  insert_data('array', size)\n",
    "    t_array.append(ta)\n",
    "    t_array_add.append(taa)"
   ]
  },
  {
   "cell_type": "code",
   "execution_count": 6,
   "metadata": {
    "execution": {
     "iopub.execute_input": "2020-10-22T12:01:56.761314Z",
     "iopub.status.busy": "2020-10-22T12:01:56.749400Z",
     "iopub.status.idle": "2020-10-22T12:01:56.962436Z",
     "shell.execute_reply": "2020-10-22T12:01:56.961610Z"
    }
   },
   "outputs": [
    {
     "data": {
      "image/png": "[encoded data removed]",
      "text/plain": [
       "<Figure size 432x288 with 1 Axes>"
      ]
     },
     "metadata": {
      "needs_background": "light"
     },
     "output_type": "display_data"
    }
   ],
   "source": [
    "fig, ax = plt.subplots(1,1)\n",
    "ax.plot(sizes, t_numeric, 'o-', label='Inserting row-by-row')\n",
    "ax.plot(sizes, t_numeric_add, 'o-', label='Inserting row-by-row: add_result only')\n",
    "ax.plot(sizes, t_array, 'd-', label='Inserting as binary blob')\n",
    "ax.plot(sizes, t_array_add, 'd-', label='Inserting as binary blob: add_result only')\n",
    "ax.legend()\n",
    "ax.set_xlabel('Array length')\n",
    "ax.set_ylabel('Time (s)')\n",
    "fig.tight_layout()"
   ]
  },
  {
   "cell_type": "markdown",
   "metadata": {},
   "source": [
    "As shown in the latter figure, the time to setup and and close the experiment is approximately 0.4 sec. In case of small array sizes, the difference between inserting values of data as arrays and inserting them row-by-row is relatively unimportant. At larger array sizes, i.e. above 10000 points, the cost of writing data as individual datapoints starts to become important.\n"
   ]
  },
  {
   "cell_type": "markdown",
   "metadata": {},
   "source": [
    "### Case2: Long experiment time "
   ]
  },
  {
   "cell_type": "code",
   "execution_count": 7,
   "metadata": {
    "execution": {
     "iopub.execute_input": "2020-10-22T12:01:56.970203Z",
     "iopub.status.busy": "2020-10-22T12:01:56.969262Z",
     "iopub.status.idle": "2020-10-22T12:03:00.022835Z",
     "shell.execute_reply": "2020-10-22T12:03:00.023362Z"
    }
   },
   "outputs": [
    {
     "name": "stdout",
     "output_type": "stream",
     "text": [
      "Starting experimental run with id: 15. \n",
      "Starting experimental run with id: 16. \n",
      "Starting experimental run with id: 17. \n"
     ]
    },
    {
     "name": "stdout",
     "output_type": "stream",
     "text": [
      "Starting experimental run with id: 18. \n",
      "Starting experimental run with id: 19. \n"
     ]
    },
    {
     "name": "stdout",
     "output_type": "stream",
     "text": [
      "Starting experimental run with id: 20. \n"
     ]
    },
    {
     "name": "stdout",
     "output_type": "stream",
     "text": [
      "Starting experimental run with id: 21. \n"
     ]
    },
    {
     "name": "stdout",
     "output_type": "stream",
     "text": [
      "Starting experimental run with id: 22. \n"
     ]
    },
    {
     "name": "stdout",
     "output_type": "stream",
     "text": [
      "Starting experimental run with id: 23. \n"
     ]
    },
    {
     "name": "stdout",
     "output_type": "stream",
     "text": [
      "Starting experimental run with id: 24. \n"
     ]
    },
    {
     "name": "stdout",
     "output_type": "stream",
     "text": [
      "Starting experimental run with id: 25. \n"
     ]
    },
    {
     "name": "stdout",
     "output_type": "stream",
     "text": [
      "Starting experimental run with id: 26. \n"
     ]
    },
    {
     "name": "stdout",
     "output_type": "stream",
     "text": [
      "Starting experimental run with id: 27. \n"
     ]
    },
    {
     "name": "stdout",
     "output_type": "stream",
     "text": [
      "Starting experimental run with id: 28. \n"
     ]
    }
   ],
   "source": [
    "sizes = [1,500,1000,2000,3000,4000,5000]\n",
    "nreps = 100\n",
    "t_numeric = []\n",
    "t_numeric_add = []\n",
    "t_numeric_run_ids = []\n",
    "t_array = []\n",
    "t_array_add = []\n",
    "t_array_run_ids = []\n",
    "for size in sizes:\n",
    "    tn, tna, run_id_n =  insert_data('numeric', size, nreps=nreps)\n",
    "    t_numeric.append(tn)\n",
    "    t_numeric_add.append(tna)\n",
    "    t_numeric_run_ids.append(run_id_n)\n",
    "\n",
    "    ta, taa, run_id_a =  insert_data('array', size, nreps=nreps)\n",
    "    t_array.append(ta)\n",
    "    t_array_add.append(taa)\n",
    "    t_array_run_ids.append(run_id_a)"
   ]
  },
  {
   "cell_type": "code",
   "execution_count": 8,
   "metadata": {
    "execution": {
     "iopub.execute_input": "2020-10-22T12:03:00.045059Z",
     "iopub.status.busy": "2020-10-22T12:03:00.042535Z",
     "iopub.status.idle": "2020-10-22T12:03:00.262261Z",
     "shell.execute_reply": "2020-10-22T12:03:00.261747Z"
    },
    "scrolled": true
   },
   "outputs": [
    {
     "data": {
      "image/png": "[encoded data removed]",
      "text/plain": [
       "<Figure size 432x288 with 1 Axes>"
      ]
     },
     "metadata": {
      "needs_background": "light"
     },
     "output_type": "display_data"
    }
   ],
   "source": [
    "fig, ax = plt.subplots(1,1)\n",
    "ax.plot(sizes, t_numeric, 'o-', label='Inserting row-by-row')\n",
    "ax.plot(sizes, t_numeric_add, 'o-', label='Inserting row-by-row: add_result only')\n",
    "ax.plot(sizes, t_array, 'd-', label='Inserting as binary blob')\n",
    "ax.plot(sizes, t_array_add, 'd-', label='Inserting as binary blob: add_result only')\n",
    "ax.legend()\n",
    "ax.set_xlabel('Array length')\n",
    "ax.set_ylabel('Time (s)')\n",
    "fig.tight_layout()"
   ]
  },
  {
   "cell_type": "markdown",
   "metadata": {},
   "source": [
    "However, as we increase the length of the experiment, as seen here by repeating the insertion 100 times, we see a big difference between inserting values of the data row-by-row and inserting it as a binary blob."
   ]
  },
  {
   "cell_type": "markdown",
   "metadata": {},
   "source": [
    "## Loading the data "
   ]
  },
  {
   "cell_type": "code",
   "execution_count": 9,
   "metadata": {
    "execution": {
     "iopub.execute_input": "2020-10-22T12:03:00.267051Z",
     "iopub.status.busy": "2020-10-22T12:03:00.265719Z",
     "iopub.status.idle": "2020-10-22T12:03:00.269265Z",
     "shell.execute_reply": "2020-10-22T12:03:00.268574Z"
    }
   },
   "outputs": [],
   "source": [
    "from qcodes.dataset.data_set import load_by_id\n",
    "from qcodes.dataset.data_export import get_data_by_id"
   ]
  },
  {
   "cell_type": "markdown",
   "metadata": {},
   "source": [
    "As usual you can load the data by using the ``load_by_id`` function but you will notice that the different storage methods\n",
    "are reflected in shape of the data as it is retrieved. "
   ]
  },
  {
   "cell_type": "code",
   "execution_count": 10,
   "metadata": {
    "execution": {
     "iopub.execute_input": "2020-10-22T12:03:00.274434Z",
     "iopub.status.busy": "2020-10-22T12:03:00.272900Z",
     "iopub.status.idle": "2020-10-22T12:03:00.275045Z",
     "shell.execute_reply": "2020-10-22T12:03:00.275668Z"
    }
   },
   "outputs": [],
   "source": [
    "run_id_n = t_numeric_run_ids[0]\n",
    "run_id_a = t_array_run_ids[0]"
   ]
  },
  {
   "cell_type": "code",
   "execution_count": 11,
   "metadata": {
    "execution": {
     "iopub.execute_input": "2020-10-22T12:03:00.279303Z",
     "iopub.status.busy": "2020-10-22T12:03:00.278741Z",
     "iopub.status.idle": "2020-10-22T12:03:00.288411Z",
     "shell.execute_reply": "2020-10-22T12:03:00.287936Z"
    },
    "scrolled": true
   },
   "outputs": [
    {
     "data": {
      "text/plain": [
       "{'x1': {'x1': array([0.88874588, 0.88874588, 0.48807039, 0.48807039, 0.16726967,\n",
       "         0.16726967, 0.76468721, 0.76468721, 0.87309125, 0.87309125,\n",
       "         0.63854502, 0.63854502, 0.16859911, 0.16859911, 0.96462075,\n",
       "         0.96462075, 0.0997497 , 0.0997497 , 0.26683551, 0.26683551,\n",
       "         0.3146003 , 0.3146003 , 0.07580618, 0.07580618, 0.38658557,\n",
       "         0.38658557, 0.58353916, 0.58353916, 0.032283  , 0.032283  ,\n",
       "         0.34170532, 0.34170532, 0.07309552, 0.07309552, 0.54249547,\n",
       "         0.54249547, 0.88139296, 0.88139296, 0.27606836, 0.27606836,\n",
       "         0.93513003, 0.93513003, 0.47943452, 0.47943452, 0.31326794,\n",
       "         0.31326794, 0.68442724, 0.68442724, 0.31048466, 0.31048466,\n",
       "         0.08470549, 0.08470549, 0.89938792, 0.89938792, 0.44233098,\n",
       "         0.44233098, 0.07772031, 0.07772031, 0.62118889, 0.62118889,\n",
       "         0.75022509, 0.75022509, 0.18403138, 0.18403138, 0.84233817,\n",
       "         0.84233817, 0.97469185, 0.97469185, 0.51376814, 0.51376814,\n",
       "         0.49514522, 0.49514522, 0.50423805, 0.50423805, 0.13646224,\n",
       "         0.13646224, 0.39138963, 0.39138963, 0.3301274 , 0.3301274 ,\n",
       "         0.38310424, 0.38310424, 0.00668541, 0.00668541, 0.93322389,\n",
       "         0.93322389, 0.22081778, 0.22081778, 0.97805936, 0.97805936,\n",
       "         0.9300829 , 0.9300829 , 0.15924929, 0.15924929, 0.1056725 ,\n",
       "         0.1056725 , 0.78738046, 0.78738046, 0.0131967 , 0.0131967 ,\n",
       "         0.23651526, 0.23651526, 0.84807098, 0.84807098, 0.33887474,\n",
       "         0.33887474, 0.42717009, 0.42717009, 0.16398279, 0.16398279,\n",
       "         0.0767608 , 0.0767608 , 0.90400481, 0.90400481, 0.6488136 ,\n",
       "         0.6488136 , 0.93971791, 0.93971791, 0.43867963, 0.43867963,\n",
       "         0.78368657, 0.78368657, 0.47212439, 0.47212439, 0.11702511,\n",
       "         0.11702511, 0.24878264, 0.24878264, 0.44343802, 0.44343802,\n",
       "         0.24447522, 0.24447522, 0.16594023, 0.16594023, 0.0519531 ,\n",
       "         0.0519531 , 0.94045253, 0.94045253, 0.34371816, 0.34371816,\n",
       "         0.78474325, 0.78474325, 0.68979202, 0.68979202, 0.16740338,\n",
       "         0.16740338, 0.86110036, 0.86110036, 0.26728567, 0.26728567,\n",
       "         0.76896244, 0.76896244, 0.77214416, 0.77214416, 0.56978179,\n",
       "         0.56978179, 0.68722708, 0.68722708, 0.2543189 , 0.2543189 ,\n",
       "         0.81528242, 0.81528242, 0.60026411, 0.60026411, 0.86893813,\n",
       "         0.86893813, 0.36803513, 0.36803513, 0.53233077, 0.53233077,\n",
       "         0.08677599, 0.08677599, 0.0787553 , 0.0787553 , 0.08723041,\n",
       "         0.08723041, 0.78871813, 0.78871813, 0.62200531, 0.62200531,\n",
       "         0.3504242 , 0.3504242 , 0.10355309, 0.10355309, 0.26764294,\n",
       "         0.26764294, 0.25197437, 0.25197437, 0.42074741, 0.42074741,\n",
       "         0.25750118, 0.25750118, 0.10120569, 0.10120569, 0.99900558,\n",
       "         0.99900558, 0.02609945, 0.02609945, 0.18511671, 0.18511671])}}"
      ]
     },
     "execution_count": 1,
     "metadata": {},
     "output_type": "execute_result"
    }
   ],
   "source": [
    "ds = load_by_id(run_id_n)\n",
    "ds.get_parameter_data('x1')"
   ]
  },
  {
   "cell_type": "markdown",
   "metadata": {},
   "source": [
    "And a dataset stored as binary arrays"
   ]
  },
  {
   "cell_type": "code",
   "execution_count": 12,
   "metadata": {
    "execution": {
     "iopub.execute_input": "2020-10-22T12:03:00.291811Z",
     "iopub.status.busy": "2020-10-22T12:03:00.291263Z",
     "iopub.status.idle": "2020-10-22T12:03:00.361063Z",
     "shell.execute_reply": "2020-10-22T12:03:00.361746Z"
    },
    "scrolled": true
   },
   "outputs": [
    {
     "data": {
      "text/plain": [
       "{'x1': {'x1': array([[0.25902762],\n",
       "         [0.25902762],\n",
       "         [0.09582905],\n",
       "         [0.09582905],\n",
       "         [0.26452826],\n",
       "         [0.26452826],\n",
       "         [0.63154307],\n",
       "         [0.63154307],\n",
       "         [0.12019894],\n",
       "         [0.12019894],\n",
       "         [0.92861639],\n",
       "         [0.92861639],\n",
       "         [0.04568866],\n",
       "         [0.04568866],\n",
       "         [0.64542946],\n",
       "         [0.64542946],\n",
       "         [0.96887255],\n",
       "         [0.96887255],\n",
       "         [0.53150655],\n",
       "         [0.53150655],\n",
       "         [0.68476791],\n",
       "         [0.68476791],\n",
       "         [0.2645179 ],\n",
       "         [0.2645179 ],\n",
       "         [0.54741406],\n",
       "         [0.54741406],\n",
       "         [0.4648141 ],\n",
       "         [0.4648141 ],\n",
       "         [0.10274602],\n",
       "         [0.10274602],\n",
       "         [0.86719273],\n",
       "         [0.86719273],\n",
       "         [0.77288142],\n",
       "         [0.77288142],\n",
       "         [0.7588571 ],\n",
       "         [0.7588571 ],\n",
       "         [0.6101898 ],\n",
       "         [0.6101898 ],\n",
       "         [0.9388988 ],\n",
       "         [0.9388988 ],\n",
       "         [0.13601032],\n",
       "         [0.13601032],\n",
       "         [0.15568488],\n",
       "         [0.15568488],\n",
       "         [0.37644289],\n",
       "         [0.37644289],\n",
       "         [0.75686386],\n",
       "         [0.75686386],\n",
       "         [0.21758317],\n",
       "         [0.21758317],\n",
       "         [0.76273208],\n",
       "         [0.76273208],\n",
       "         [0.13289036],\n",
       "         [0.13289036],\n",
       "         [0.63368969],\n",
       "         [0.63368969],\n",
       "         [0.6159222 ],\n",
       "         [0.6159222 ],\n",
       "         [0.67956348],\n",
       "         [0.67956348],\n",
       "         [0.66892436],\n",
       "         [0.66892436],\n",
       "         [0.79653073],\n",
       "         [0.79653073],\n",
       "         [0.83633599],\n",
       "         [0.83633599],\n",
       "         [0.83405612],\n",
       "         [0.83405612],\n",
       "         [0.31099965],\n",
       "         [0.31099965],\n",
       "         [0.58560584],\n",
       "         [0.58560584],\n",
       "         [0.10459514],\n",
       "         [0.10459514],\n",
       "         [0.818949  ],\n",
       "         [0.818949  ],\n",
       "         [0.52245292],\n",
       "         [0.52245292],\n",
       "         [0.44325984],\n",
       "         [0.44325984],\n",
       "         [0.03250215],\n",
       "         [0.03250215],\n",
       "         [0.96184031],\n",
       "         [0.96184031],\n",
       "         [0.55924828],\n",
       "         [0.55924828],\n",
       "         [0.32628069],\n",
       "         [0.32628069],\n",
       "         [0.97683711],\n",
       "         [0.97683711],\n",
       "         [0.89878886],\n",
       "         [0.89878886],\n",
       "         [0.87949672],\n",
       "         [0.87949672],\n",
       "         [0.27859864],\n",
       "         [0.27859864],\n",
       "         [0.35526045],\n",
       "         [0.35526045],\n",
       "         [0.72002246],\n",
       "         [0.72002246],\n",
       "         [0.21950096],\n",
       "         [0.21950096],\n",
       "         [0.3321526 ],\n",
       "         [0.3321526 ],\n",
       "         [0.29865333],\n",
       "         [0.29865333],\n",
       "         [0.5455984 ],\n",
       "         [0.5455984 ],\n",
       "         [0.91614789],\n",
       "         [0.91614789],\n",
       "         [0.11712336],\n",
       "         [0.11712336],\n",
       "         [0.74254385],\n",
       "         [0.74254385],\n",
       "         [0.19239722],\n",
       "         [0.19239722],\n",
       "         [0.78530187],\n",
       "         [0.78530187],\n",
       "         [0.66313939],\n",
       "         [0.66313939],\n",
       "         [0.90273343],\n",
       "         [0.90273343],\n",
       "         [0.20403963],\n",
       "         [0.20403963],\n",
       "         [0.06666689],\n",
       "         [0.06666689],\n",
       "         [0.24302693],\n",
       "         [0.24302693],\n",
       "         [0.77439269],\n",
       "         [0.77439269],\n",
       "         [0.40684251],\n",
       "         [0.40684251],\n",
       "         [0.81834221],\n",
       "         [0.81834221],\n",
       "         [0.76359472],\n",
       "         [0.76359472],\n",
       "         [0.54125885],\n",
       "         [0.54125885],\n",
       "         [0.65559695],\n",
       "         [0.65559695],\n",
       "         [0.2698241 ],\n",
       "         [0.2698241 ],\n",
       "         [0.05209885],\n",
       "         [0.05209885],\n",
       "         [0.68877027],\n",
       "         [0.68877027],\n",
       "         [0.3887327 ],\n",
       "         [0.3887327 ],\n",
       "         [0.68190834],\n",
       "         [0.68190834],\n",
       "         [0.34916897],\n",
       "         [0.34916897],\n",
       "         [0.61697955],\n",
       "         [0.61697955],\n",
       "         [0.13621602],\n",
       "         [0.13621602],\n",
       "         [0.43592927],\n",
       "         [0.43592927],\n",
       "         [0.37408423],\n",
       "         [0.37408423],\n",
       "         [0.78494022],\n",
       "         [0.78494022],\n",
       "         [0.64459542],\n",
       "         [0.64459542],\n",
       "         [0.20584653],\n",
       "         [0.20584653],\n",
       "         [0.42684352],\n",
       "         [0.42684352],\n",
       "         [0.15148866],\n",
       "         [0.15148866],\n",
       "         [0.2039121 ],\n",
       "         [0.2039121 ],\n",
       "         [0.94707836],\n",
       "         [0.94707836],\n",
       "         [0.62700358],\n",
       "         [0.62700358],\n",
       "         [0.28076241],\n",
       "         [0.28076241],\n",
       "         [0.21753694],\n",
       "         [0.21753694],\n",
       "         [0.50095803],\n",
       "         [0.50095803],\n",
       "         [0.23847622],\n",
       "         [0.23847622],\n",
       "         [0.99051775],\n",
       "         [0.99051775],\n",
       "         [0.06209032],\n",
       "         [0.06209032],\n",
       "         [0.58170423],\n",
       "         [0.58170423],\n",
       "         [0.57012936],\n",
       "         [0.57012936],\n",
       "         [0.22656368],\n",
       "         [0.22656368],\n",
       "         [0.64531669],\n",
       "         [0.64531669],\n",
       "         [0.04807022],\n",
       "         [0.04807022],\n",
       "         [0.44505975],\n",
       "         [0.44505975]])}}"
      ]
     },
     "execution_count": 1,
     "metadata": {},
     "output_type": "execute_result"
    }
   ],
   "source": [
    "ds = load_by_id(run_id_a)\n",
    "ds.get_parameter_data('x1')"
   ]
  },
  {
   "cell_type": "code",
   "execution_count": null,
   "metadata": {},
   "outputs": [],
   "source": []
  }
 ],
 "metadata": {
  "kernelspec": {
   "display_name": "Python 3",
   "language": "python",
   "name": "python3"
  },
  "language_info": {
   "codemirror_mode": {
    "name": "ipython",
    "version": 3
   },
   "file_extension": ".py",
   "mimetype": "text/x-python",
   "name": "python",
   "nbconvert_exporter": "python",
   "pygments_lexer": "ipython3",
   "version": "3.7.7"
  },
  "nbsphinx": {
   "timeout": 600
  },
  "toc": {
   "base_numbering": 1,
   "nav_menu": {},
   "number_sections": true,
   "sideBar": true,
   "skip_h1_title": false,
   "title_cell": "Table of Contents",
   "title_sidebar": "Contents",
   "toc_cell": false,
   "toc_position": {},
   "toc_section_display": true,
   "toc_window_display": false
  },
  "varInspector": {
   "cols": {
    "lenName": 16,
    "lenType": 16,
    "lenVar": 40
   },
   "kernels_config": {
    "python": {
     "delete_cmd_postfix": "",
     "delete_cmd_prefix": "del ",
     "library": "var_list.py",
     "varRefreshCmd": "print(var_dic_list())"
    },
    "r": {
     "delete_cmd_postfix": ") ",
     "delete_cmd_prefix": "rm(",
     "library": "var_list.r",
     "varRefreshCmd": "cat(var_dic_list()) "
    }
   },
   "types_to_exclude": [
    "module",
    "function",
    "builtin_function_or_method",
    "instance",
    "_Feature"
   ],
   "window_display": false
  }
 },
 "nbformat": 4,
 "nbformat_minor": 2
}
