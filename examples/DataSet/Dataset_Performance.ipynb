{
 "cells": [
  {
   "cell_type": "markdown",
   "execution_count": 1,
   "metadata": {},
   "source": [
    "# DataSet Performance\n",
    "\n",
    "This notebook shows the trade-off between inserting data into a database row-by-row and as binary blobs. Inserting the data row-by-row means that we have direct access to all the data and may perform queries directly on the values of the data. On the other hand, as we shall see, this is much slower than inserting the data directly as binary blobs."
   ]
  },
  {
   "cell_type": "markdown",
   "execution_count": 1,
   "metadata": {},
   "source": [
    "First, we choose a new location for the database to ensure that we don't add a bunch of benchmarking data to the default one."
   ]
  },
  {
   "cell_type": "code",
   "execution_count": 1,
   "metadata": {
    "execution": {
     "iopub.execute_input": "2020-09-14T08:08:44.186922Z",
     "iopub.status.busy": "2020-09-14T08:08:44.186462Z",
     "iopub.status.idle": "2020-09-14T08:08:45.015142Z",
     "shell.execute_reply": "2020-09-14T08:08:45.014666Z"
    }
   },
   "outputs": [
    {
     "name": "stdout",
     "output_type": "stream",
     "text": [
      "Logging hadn't been started.\n",
      "Activating auto-logging. Current session state plus future input saved.\n",
      "Filename       : /home/vsts/.qcodes/logs/command_history.log\n",
      "Mode           : append\n",
      "Output logging : True\n",
      "Raw input log  : False\n",
      "Timestamping   : True\n",
      "State          : active\n"
     ]
    },
    {
     "name": "stdout",
     "output_type": "stream",
     "text": [
      "Qcodes Logfile : /home/vsts/.qcodes/logs/200914-18439-qcodes.log\n"
     ]
    }
   ],
   "source": [
    "import os\n",
    "cwd = os.getcwd()\n",
    "import qcodes as qc\n",
    "qc.config[\"core\"][\"db_location\"] = os.path.join(cwd, 'testing.db')\n"
   ]
  },
  {
   "cell_type": "code",
   "execution_count": 2,
   "metadata": {
    "execution": {
     "iopub.execute_input": "2020-09-14T08:08:45.020238Z",
     "iopub.status.busy": "2020-09-14T08:08:45.019778Z",
     "iopub.status.idle": "2020-09-14T08:08:45.154847Z",
     "shell.execute_reply": "2020-09-14T08:08:45.155224Z"
    }
   },
   "outputs": [],
   "source": [
    "%matplotlib inline\n",
    "import time\n",
    "import matplotlib.pyplot as plt\n",
    "import numpy as np\n",
    "\n",
    "import qcodes as qc\n",
    "from qcodes.instrument.parameter import ManualParameter\n",
    "from qcodes.dataset.experiment_container import (Experiment,\n",
    "                                                 load_last_experiment,\n",
    "                                                 new_experiment)\n",
    "from qcodes.dataset.sqlite.database import initialise_database\n",
    "from qcodes import load_or_create_experiment\n",
    "from qcodes.dataset.measurements import Measurement"
   ]
  },
  {
   "cell_type": "code",
   "execution_count": 3,
   "metadata": {
    "execution": {
     "iopub.execute_input": "2020-09-14T08:08:45.158611Z",
     "iopub.status.busy": "2020-09-14T08:08:45.157819Z",
     "iopub.status.idle": "2020-09-14T08:08:45.223978Z",
     "shell.execute_reply": "2020-09-14T08:08:45.224696Z"
    }
   },
   "outputs": [
    {
     "name": "stdout",
     "output_type": "stream",
     "text": [
      "\r",
      "0it [00:00, ?it/s]"
     ]
    },
    {
     "name": "stdout",
     "output_type": "stream",
     "text": [
      "\r",
      "Upgrading database; v0 -> v1: : 0it [00:00, ?it/s]"
     ]
    },
    {
     "name": "stdout",
     "output_type": "stream",
     "text": [
      "\r",
      "Upgrading database; v0 -> v1: : 0it [00:00, ?it/s]"
     ]
    },
    {
     "name": "stdout",
     "output_type": "stream",
     "text": [
      "\n",
      "\r",
      "  0%|          | 0/1 [00:00<?, ?it/s]"
     ]
    },
    {
     "name": "stdout",
     "output_type": "stream",
     "text": [
      "\r",
      "Upgrading database; v1 -> v2:   0%|          | 0/1 [00:00<?, ?it/s]"
     ]
    },
    {
     "name": "stdout",
     "output_type": "stream",
     "text": [
      "\r",
      "Upgrading database; v1 -> v2: 100%|██████████| 1/1 [00:00<00:00, 567.64it/s]"
     ]
    },
    {
     "name": "stdout",
     "output_type": "stream",
     "text": [
      "\n",
      "\r",
      "0it [00:00, ?it/s]"
     ]
    },
    {
     "name": "stdout",
     "output_type": "stream",
     "text": [
      "\r",
      "Upgrading database; v2 -> v3: : 0it [00:00, ?it/s]"
     ]
    },
    {
     "name": "stdout",
     "output_type": "stream",
     "text": [
      "\r",
      "Upgrading database; v2 -> v3: : 0it [00:00, ?it/s]"
     ]
    },
    {
     "name": "stdout",
     "output_type": "stream",
     "text": [
      "\n",
      "\r",
      "0it [00:00, ?it/s]"
     ]
    },
    {
     "name": "stdout",
     "output_type": "stream",
     "text": [
      "\r",
      "Upgrading database; v3 -> v4: : 0it [00:00, ?it/s]"
     ]
    },
    {
     "name": "stdout",
     "output_type": "stream",
     "text": [
      "\r",
      "Upgrading database; v3 -> v4: : 0it [00:00, ?it/s]"
     ]
    },
    {
     "name": "stdout",
     "output_type": "stream",
     "text": [
      "\n",
      "\r",
      "  0%|          | 0/1 [00:00<?, ?it/s]"
     ]
    },
    {
     "name": "stdout",
     "output_type": "stream",
     "text": [
      "\r",
      "Upgrading database; v4 -> v5:   0%|          | 0/1 [00:00<?, ?it/s]"
     ]
    },
    {
     "name": "stdout",
     "output_type": "stream",
     "text": [
      "\r",
      "Upgrading database; v4 -> v5: 100%|██████████| 1/1 [00:00<00:00, 451.19it/s]"
     ]
    },
    {
     "name": "stdout",
     "output_type": "stream",
     "text": [
      "\n",
      "\r",
      "0it [00:00, ?it/s]"
     ]
    },
    {
     "name": "stdout",
     "output_type": "stream",
     "text": [
      "\r",
      "Upgrading database; v5 -> v6: : 0it [00:00, ?it/s]"
     ]
    },
    {
     "name": "stdout",
     "output_type": "stream",
     "text": [
      "\r",
      "Upgrading database; v5 -> v6: : 0it [00:00, ?it/s]"
     ]
    },
    {
     "name": "stdout",
     "output_type": "stream",
     "text": [
      "\n",
      "\r",
      "  0%|          | 0/1 [00:00<?, ?it/s]"
     ]
    },
    {
     "name": "stdout",
     "output_type": "stream",
     "text": [
      "\r",
      "Upgrading database; v6 -> v7:   0%|          | 0/1 [00:00<?, ?it/s]"
     ]
    },
    {
     "name": "stdout",
     "output_type": "stream",
     "text": [
      "\r",
      "Upgrading database; v6 -> v7: 100%|██████████| 1/1 [00:00<00:00, 314.89it/s]"
     ]
    },
    {
     "name": "stdout",
     "output_type": "stream",
     "text": [
      "\n",
      "\r",
      "  0%|          | 0/1 [00:00<?, ?it/s]"
     ]
    },
    {
     "name": "stdout",
     "output_type": "stream",
     "text": [
      "\r",
      "Upgrading database; v7 -> v8:   0%|          | 0/1 [00:00<?, ?it/s]"
     ]
    },
    {
     "name": "stdout",
     "output_type": "stream",
     "text": [
      "\r",
      "Upgrading database; v7 -> v8: 100%|██████████| 1/1 [00:00<00:00, 535.40it/s]"
     ]
    },
    {
     "name": "stdout",
     "output_type": "stream",
     "text": [
      "\n",
      "\r",
      "  0%|          | 0/1 [00:00<?, ?it/s]"
     ]
    },
    {
     "name": "stdout",
     "output_type": "stream",
     "text": [
      "\r",
      "Upgrading database; v8 -> v9:   0%|          | 0/1 [00:00<?, ?it/s]"
     ]
    },
    {
     "name": "stdout",
     "output_type": "stream",
     "text": [
      "\r",
      "Upgrading database; v8 -> v9: 100%|██████████| 1/1 [00:00<00:00, 495.72it/s]"
     ]
    },
    {
     "name": "stdout",
     "output_type": "stream",
     "text": [
      "\n"
     ]
    }
   ],
   "source": [
    "initialise_database()\n",
    "exp = load_or_create_experiment(experiment_name='tutorial_exp', sample_name=\"no sample\")"
   ]
  },
  {
   "cell_type": "markdown",
   "execution_count": 4,
   "metadata": {},
   "source": [
    "Here, we define a simple function to benchmark the time it takes to insert n points with either numeric or array data type.\n",
    "We will compare both the time used to call ``add_result`` and the time used for the full measurement."
   ]
  },
  {
   "cell_type": "code",
   "execution_count": 4,
   "metadata": {
    "execution": {
     "iopub.execute_input": "2020-09-14T08:08:45.232185Z",
     "iopub.status.busy": "2020-09-14T08:08:45.231720Z",
     "iopub.status.idle": "2020-09-14T08:08:45.234758Z",
     "shell.execute_reply": "2020-09-14T08:08:45.234159Z"
    }
   },
   "outputs": [],
   "source": [
    "def insert_data(paramtype, npoints, nreps=1):\n",
    "\n",
    "    meas = Measurement(exp=exp)\n",
    "\n",
    "    x1 = ManualParameter('x1')\n",
    "    x2 = ManualParameter('x2')\n",
    "    x3 = ManualParameter('x3')\n",
    "    y1 = ManualParameter('y1')\n",
    "    y2 = ManualParameter('y2')\n",
    "\n",
    "    meas.register_parameter(x1, paramtype=paramtype)\n",
    "    meas.register_parameter(x2, paramtype=paramtype)\n",
    "    meas.register_parameter(x3, paramtype=paramtype)\n",
    "    meas.register_parameter(y1, setpoints=[x1, x2, x3],\n",
    "                            paramtype=paramtype)\n",
    "    meas.register_parameter(y2, setpoints=[x1, x2, x3],\n",
    "                            paramtype=paramtype)\n",
    "    start = time.perf_counter()\n",
    "    with meas.run() as datasaver:\n",
    "        start_adding = time.perf_counter()\n",
    "        for i in range(nreps):\n",
    "            datasaver.add_result((x1, np.random.rand(npoints)),\n",
    "                                 (x2, np.random.rand(npoints)),\n",
    "                                 (x3, np.random.rand(npoints)),\n",
    "                                 (y1, np.random.rand(npoints)),\n",
    "                                 (y2, np.random.rand(npoints)))\n",
    "        stop_adding = time.perf_counter()\n",
    "        run_id = datasaver.run_id\n",
    "    stop = time.perf_counter()\n",
    "    tot_time = stop - start\n",
    "    add_time = stop_adding - start_adding\n",
    "    return tot_time, add_time, run_id"
   ]
  },
  {
   "cell_type": "markdown",
   "execution_count": 5,
   "metadata": {},
   "source": [
    "## Comparison between numeric/array data and binary blob"
   ]
  },
  {
   "cell_type": "markdown",
   "execution_count": 5,
   "metadata": {},
   "source": [
    "### Case1: Short experiment time"
   ]
  },
  {
   "cell_type": "code",
   "execution_count": 5,
   "metadata": {
    "execution": {
     "iopub.execute_input": "2020-09-14T08:08:45.238694Z",
     "iopub.status.busy": "2020-09-14T08:08:45.237851Z",
     "iopub.status.idle": "2020-09-14T08:08:45.921354Z",
     "shell.execute_reply": "2020-09-14T08:08:45.920827Z"
    }
   },
   "outputs": [
    {
     "name": "stdout",
     "output_type": "stream",
     "text": [
      "Starting experimental run with id: 1. \n",
      "Starting experimental run with id: 2. \n",
      "Starting experimental run with id: 3. \n",
      "Starting experimental run with id: 4. \n",
      "Starting experimental run with id: 5. \n"
     ]
    },
    {
     "name": "stdout",
     "output_type": "stream",
     "text": [
      "Starting experimental run with id: 6. \n"
     ]
    },
    {
     "name": "stdout",
     "output_type": "stream",
     "text": [
      "Starting experimental run with id: 7. "
     ]
    },
    {
     "name": "stdout",
     "output_type": "stream",
     "text": [
      "\n"
     ]
    },
    {
     "name": "stdout",
     "output_type": "stream",
     "text": [
      "Starting experimental run with id: 8. \n",
      "Starting experimental run with id: 9. \n",
      "Starting experimental run with id: 10. \n"
     ]
    },
    {
     "name": "stdout",
     "output_type": "stream",
     "text": [
      "Starting experimental run with id: 11. \n"
     ]
    },
    {
     "name": "stdout",
     "output_type": "stream",
     "text": [
      "Starting experimental run with id: 12. \n",
      "Starting experimental run with id: 13. \n"
     ]
    },
    {
     "name": "stdout",
     "output_type": "stream",
     "text": [
      "Starting experimental run with id: 14. \n"
     ]
    }
   ],
   "source": [
    "sizes = [1,500,1000,2000,3000,4000,5000]\n",
    "t_numeric = []\n",
    "t_numeric_add = []\n",
    "t_array = []\n",
    "t_array_add = []\n",
    "for size in sizes:\n",
    "    tn, tna, run_id_n =  insert_data('numeric', size)\n",
    "    t_numeric.append(tn)\n",
    "    t_numeric_add.append(tna)\n",
    "\n",
    "    ta, taa, run_id_a =  insert_data('array', size)\n",
    "    t_array.append(ta)\n",
    "    t_array_add.append(taa)"
   ]
  },
  {
   "cell_type": "code",
   "execution_count": 6,
   "metadata": {
    "execution": {
     "iopub.execute_input": "2020-09-14T08:08:45.926430Z",
     "iopub.status.busy": "2020-09-14T08:08:45.925733Z",
     "iopub.status.idle": "2020-09-14T08:08:46.150808Z",
     "shell.execute_reply": "2020-09-14T08:08:46.150174Z"
    }
   },
   "outputs": [
    {
     "data": {
      "image/png": "[encoded data removed]",
      "text/plain": [
       "<Figure size 432x288 with 1 Axes>"
      ]
     },
     "metadata": {
      "needs_background": "light"
     },
     "output_type": "display_data"
    }
   ],
   "source": [
    "fig, ax = plt.subplots(1,1)\n",
    "ax.plot(sizes, t_numeric, 'o-', label='Inserting row-by-row')\n",
    "ax.plot(sizes, t_numeric_add, 'o-', label='Inserting row-by-row: add_result only')\n",
    "ax.plot(sizes, t_array, 'd-', label='Inserting as binary blob')\n",
    "ax.plot(sizes, t_array_add, 'd-', label='Inserting as binary blob: add_result only')\n",
    "ax.legend()\n",
    "ax.set_xlabel('Array length')\n",
    "ax.set_ylabel('Time (s)')\n",
    "fig.tight_layout()"
   ]
  },
  {
   "cell_type": "markdown",
   "execution_count": 7,
   "metadata": {},
   "source": [
    "As shown in the latter figure, the time to setup and and close the experiment is approximately 0.4 sec. In case of small array sizes, the difference between inserting values of data as arrays and inserting them row-by-row is relatively unimportant. At larger array sizes, i.e. above 10000 points, the cost of writing data as individual datapoints starts to become important.\n"
   ]
  },
  {
   "cell_type": "markdown",
   "execution_count": 7,
   "metadata": {},
   "source": [
    "### Case2: Long experiment time "
   ]
  },
  {
   "cell_type": "code",
   "execution_count": 7,
   "metadata": {
    "execution": {
     "iopub.execute_input": "2020-09-14T08:08:46.156946Z",
     "iopub.status.busy": "2020-09-14T08:08:46.156072Z",
     "iopub.status.idle": "2020-09-14T08:09:34.053032Z",
     "shell.execute_reply": "2020-09-14T08:09:34.052548Z"
    }
   },
   "outputs": [
    {
     "name": "stdout",
     "output_type": "stream",
     "text": [
      "Starting experimental run with id: 15. \n",
      "Starting experimental run with id: 16. \n",
      "Starting experimental run with id: 17. \n"
     ]
    },
    {
     "name": "stdout",
     "output_type": "stream",
     "text": [
      "Starting experimental run with id: 18. \n",
      "Starting experimental run with id: 19. \n"
     ]
    },
    {
     "name": "stdout",
     "output_type": "stream",
     "text": [
      "Starting experimental run with id: 20. \n"
     ]
    },
    {
     "name": "stdout",
     "output_type": "stream",
     "text": [
      "Starting experimental run with id: 21. \n"
     ]
    },
    {
     "name": "stdout",
     "output_type": "stream",
     "text": [
      "Starting experimental run with id: 22. \n"
     ]
    },
    {
     "name": "stdout",
     "output_type": "stream",
     "text": [
      "Starting experimental run with id: 23. \n"
     ]
    },
    {
     "name": "stdout",
     "output_type": "stream",
     "text": [
      "Starting experimental run with id: 24. \n"
     ]
    },
    {
     "name": "stdout",
     "output_type": "stream",
     "text": [
      "Starting experimental run with id: 25. \n"
     ]
    },
    {
     "name": "stdout",
     "output_type": "stream",
     "text": [
      "Starting experimental run with id: 26. \n"
     ]
    },
    {
     "name": "stdout",
     "output_type": "stream",
     "text": [
      "Starting experimental run with id: 27. \n"
     ]
    },
    {
     "name": "stdout",
     "output_type": "stream",
     "text": [
      "Starting experimental run with id: 28. \n"
     ]
    }
   ],
   "source": [
    "sizes = [1,500,1000,2000,3000,4000,5000]\n",
    "nreps = 100\n",
    "t_numeric = []\n",
    "t_numeric_add = []\n",
    "t_numeric_run_ids = []\n",
    "t_array = []\n",
    "t_array_add = []\n",
    "t_array_run_ids = []\n",
    "for size in sizes:\n",
    "    tn, tna, run_id_n =  insert_data('numeric', size, nreps=nreps)\n",
    "    t_numeric.append(tn)\n",
    "    t_numeric_add.append(tna)\n",
    "    t_numeric_run_ids.append(run_id_n)\n",
    "\n",
    "    ta, taa, run_id_a =  insert_data('array', size, nreps=nreps)\n",
    "    t_array.append(ta)\n",
    "    t_array_add.append(taa)\n",
    "    t_array_run_ids.append(run_id_a)"
   ]
  },
  {
   "cell_type": "code",
   "execution_count": 8,
   "metadata": {
    "execution": {
     "iopub.execute_input": "2020-09-14T08:09:34.063187Z",
     "iopub.status.busy": "2020-09-14T08:09:34.062483Z",
     "iopub.status.idle": "2020-09-14T08:09:34.263839Z",
     "shell.execute_reply": "2020-09-14T08:09:34.263433Z"
    },
    "scrolled": true
   },
   "outputs": [
    {
     "data": {
      "image/png": "[encoded data removed]",
      "text/plain": [
       "<Figure size 432x288 with 1 Axes>"
      ]
     },
     "metadata": {
      "needs_background": "light"
     },
     "output_type": "display_data"
    }
   ],
   "source": [
    "fig, ax = plt.subplots(1,1)\n",
    "ax.plot(sizes, t_numeric, 'o-', label='Inserting row-by-row')\n",
    "ax.plot(sizes, t_numeric_add, 'o-', label='Inserting row-by-row: add_result only')\n",
    "ax.plot(sizes, t_array, 'd-', label='Inserting as binary blob')\n",
    "ax.plot(sizes, t_array_add, 'd-', label='Inserting as binary blob: add_result only')\n",
    "ax.legend()\n",
    "ax.set_xlabel('Array length')\n",
    "ax.set_ylabel('Time (s)')\n",
    "fig.tight_layout()"
   ]
  },
  {
   "cell_type": "markdown",
   "execution_count": 9,
   "metadata": {},
   "source": [
    "However, as we increase the length of the experiment, as seen here by repeating the insertion 100 times, we see a big difference between inserting values of the data row-by-row and inserting it as a binary blob."
   ]
  },
  {
   "cell_type": "markdown",
   "execution_count": 9,
   "metadata": {},
   "source": [
    "## Loading the data "
   ]
  },
  {
   "cell_type": "code",
   "execution_count": 9,
   "metadata": {
    "execution": {
     "iopub.execute_input": "2020-09-14T08:09:34.267357Z",
     "iopub.status.busy": "2020-09-14T08:09:34.266242Z",
     "iopub.status.idle": "2020-09-14T08:09:34.270162Z",
     "shell.execute_reply": "2020-09-14T08:09:34.269749Z"
    }
   },
   "outputs": [],
   "source": [
    "from qcodes.dataset.data_set import load_by_id\n",
    "from qcodes.dataset.data_export import get_data_by_id"
   ]
  },
  {
   "cell_type": "markdown",
   "execution_count": 10,
   "metadata": {},
   "source": [
    "As usual you can load the data by using the ``load_by_id`` function but you will notice that the different storage methods\n",
    "are reflected in shape of the data as it is retrieved. "
   ]
  },
  {
   "cell_type": "code",
   "execution_count": 10,
   "metadata": {
    "execution": {
     "iopub.execute_input": "2020-09-14T08:09:34.274882Z",
     "iopub.status.busy": "2020-09-14T08:09:34.273611Z",
     "iopub.status.idle": "2020-09-14T08:09:34.275347Z",
     "shell.execute_reply": "2020-09-14T08:09:34.275815Z"
    }
   },
   "outputs": [],
   "source": [
    "run_id_n = t_numeric_run_ids[0]\n",
    "run_id_a = t_array_run_ids[0]"
   ]
  },
  {
   "cell_type": "code",
   "execution_count": 11,
   "metadata": {
    "execution": {
     "iopub.execute_input": "2020-09-14T08:09:34.278639Z",
     "iopub.status.busy": "2020-09-14T08:09:34.278179Z",
     "iopub.status.idle": "2020-09-14T08:09:34.286915Z",
     "shell.execute_reply": "2020-09-14T08:09:34.286395Z"
    },
    "scrolled": true
   },
   "outputs": [
    {
     "data": {
      "text/plain": [
       "{'x1': {'x1': array([0.07230495, 0.07230495, 0.93671769, 0.93671769, 0.07669099,\n",
       "         0.07669099, 0.09483193, 0.09483193, 0.50875054, 0.50875054,\n",
       "         0.46365655, 0.46365655, 0.31328442, 0.31328442, 0.1700409 ,\n",
       "         0.1700409 , 0.49456243, 0.49456243, 0.94059393, 0.94059393,\n",
       "         0.70765405, 0.70765405, 0.68336539, 0.68336539, 0.82657593,\n",
       "         0.82657593, 0.06067087, 0.06067087, 0.88893853, 0.88893853,\n",
       "         0.42993944, 0.42993944, 0.52461575, 0.52461575, 0.49654506,\n",
       "         0.49654506, 0.93810416, 0.93810416, 0.66716743, 0.66716743,\n",
       "         0.72770894, 0.72770894, 0.84487904, 0.84487904, 0.80347865,\n",
       "         0.80347865, 0.94670667, 0.94670667, 0.89065082, 0.89065082,\n",
       "         0.78785338, 0.78785338, 0.14916126, 0.14916126, 0.99208816,\n",
       "         0.99208816, 0.51374864, 0.51374864, 0.98347374, 0.98347374,\n",
       "         0.60533047, 0.60533047, 0.02477473, 0.02477473, 0.64017948,\n",
       "         0.64017948, 0.17883041, 0.17883041, 0.94776947, 0.94776947,\n",
       "         0.56536066, 0.56536066, 0.27580779, 0.27580779, 0.83902752,\n",
       "         0.83902752, 0.8809545 , 0.8809545 , 0.33673761, 0.33673761,\n",
       "         0.00808875, 0.00808875, 0.97390732, 0.97390732, 0.89154304,\n",
       "         0.89154304, 0.21361603, 0.21361603, 0.05906861, 0.05906861,\n",
       "         0.22057139, 0.22057139, 0.6646112 , 0.6646112 , 0.30308323,\n",
       "         0.30308323, 0.60830563, 0.60830563, 0.18532635, 0.18532635,\n",
       "         0.51415473, 0.51415473, 0.50400517, 0.50400517, 0.18617165,\n",
       "         0.18617165, 0.79526619, 0.79526619, 0.34692606, 0.34692606,\n",
       "         0.33922828, 0.33922828, 0.46650313, 0.46650313, 0.68793815,\n",
       "         0.68793815, 0.99033468, 0.99033468, 0.6624228 , 0.6624228 ,\n",
       "         0.30437941, 0.30437941, 0.34953646, 0.34953646, 0.7877373 ,\n",
       "         0.7877373 , 0.36159105, 0.36159105, 0.12225681, 0.12225681,\n",
       "         0.39415025, 0.39415025, 0.97040521, 0.97040521, 0.99700647,\n",
       "         0.99700647, 0.96578794, 0.96578794, 0.54240781, 0.54240781,\n",
       "         0.27917261, 0.27917261, 0.09287015, 0.09287015, 0.09257989,\n",
       "         0.09257989, 0.50336083, 0.50336083, 0.69436207, 0.69436207,\n",
       "         0.47014536, 0.47014536, 0.60602218, 0.60602218, 0.71460643,\n",
       "         0.71460643, 0.02144285, 0.02144285, 0.07117591, 0.07117591,\n",
       "         0.27090467, 0.27090467, 0.08735063, 0.08735063, 0.1358248 ,\n",
       "         0.1358248 , 0.82334682, 0.82334682, 0.99482213, 0.99482213,\n",
       "         0.02887882, 0.02887882, 0.49390016, 0.49390016, 0.99695965,\n",
       "         0.99695965, 0.92367819, 0.92367819, 0.02726085, 0.02726085,\n",
       "         0.76144408, 0.76144408, 0.88821753, 0.88821753, 0.35794091,\n",
       "         0.35794091, 0.6612994 , 0.6612994 , 0.0851631 , 0.0851631 ,\n",
       "         0.44985419, 0.44985419, 0.42497317, 0.42497317, 0.79961831,\n",
       "         0.79961831, 0.41648614, 0.41648614, 0.67151298, 0.67151298])}}"
      ]
     },
     "execution_count": 1,
     "metadata": {},
     "output_type": "execute_result"
    }
   ],
   "source": [
    "ds = load_by_id(run_id_n)\n",
    "ds.get_parameter_data('x1')"
   ]
  },
  {
   "cell_type": "markdown",
   "execution_count": 12,
   "metadata": {},
   "source": [
    "And a dataset stored as binary arrays"
   ]
  },
  {
   "cell_type": "code",
   "execution_count": 12,
   "metadata": {
    "execution": {
     "iopub.execute_input": "2020-09-14T08:09:34.289648Z",
     "iopub.status.busy": "2020-09-14T08:09:34.289184Z",
     "iopub.status.idle": "2020-09-14T08:09:34.337869Z",
     "shell.execute_reply": "2020-09-14T08:09:34.337391Z"
    },
    "scrolled": true
   },
   "outputs": [
    {
     "data": {
      "text/plain": [
       "{'x1': {'x1': array([[0.32249444],\n",
       "         [0.32249444],\n",
       "         [0.98196138],\n",
       "         [0.98196138],\n",
       "         [0.32278522],\n",
       "         [0.32278522],\n",
       "         [0.41706215],\n",
       "         [0.41706215],\n",
       "         [0.58409995],\n",
       "         [0.58409995],\n",
       "         [0.12589573],\n",
       "         [0.12589573],\n",
       "         [0.32519726],\n",
       "         [0.32519726],\n",
       "         [0.20057588],\n",
       "         [0.20057588],\n",
       "         [0.05506452],\n",
       "         [0.05506452],\n",
       "         [0.31596587],\n",
       "         [0.31596587],\n",
       "         [0.65859567],\n",
       "         [0.65859567],\n",
       "         [0.5020498 ],\n",
       "         [0.5020498 ],\n",
       "         [0.91016257],\n",
       "         [0.91016257],\n",
       "         [0.96298034],\n",
       "         [0.96298034],\n",
       "         [0.21436275],\n",
       "         [0.21436275],\n",
       "         [0.91861341],\n",
       "         [0.91861341],\n",
       "         [0.76978834],\n",
       "         [0.76978834],\n",
       "         [0.58390544],\n",
       "         [0.58390544],\n",
       "         [0.97787548],\n",
       "         [0.97787548],\n",
       "         [0.54061712],\n",
       "         [0.54061712],\n",
       "         [0.38480113],\n",
       "         [0.38480113],\n",
       "         [0.75443767],\n",
       "         [0.75443767],\n",
       "         [0.244126  ],\n",
       "         [0.244126  ],\n",
       "         [0.94759362],\n",
       "         [0.94759362],\n",
       "         [0.28933584],\n",
       "         [0.28933584],\n",
       "         [0.5158698 ],\n",
       "         [0.5158698 ],\n",
       "         [0.93236634],\n",
       "         [0.93236634],\n",
       "         [0.68696283],\n",
       "         [0.68696283],\n",
       "         [0.03779599],\n",
       "         [0.03779599],\n",
       "         [0.01840971],\n",
       "         [0.01840971],\n",
       "         [0.7015228 ],\n",
       "         [0.7015228 ],\n",
       "         [0.72931973],\n",
       "         [0.72931973],\n",
       "         [0.12426239],\n",
       "         [0.12426239],\n",
       "         [0.4863149 ],\n",
       "         [0.4863149 ],\n",
       "         [0.03223291],\n",
       "         [0.03223291],\n",
       "         [0.97396365],\n",
       "         [0.97396365],\n",
       "         [0.71522597],\n",
       "         [0.71522597],\n",
       "         [0.25299209],\n",
       "         [0.25299209],\n",
       "         [0.0716042 ],\n",
       "         [0.0716042 ],\n",
       "         [0.89865467],\n",
       "         [0.89865467],\n",
       "         [0.67212564],\n",
       "         [0.67212564],\n",
       "         [0.19659753],\n",
       "         [0.19659753],\n",
       "         [0.58822716],\n",
       "         [0.58822716],\n",
       "         [0.13126352],\n",
       "         [0.13126352],\n",
       "         [0.60236816],\n",
       "         [0.60236816],\n",
       "         [0.01908652],\n",
       "         [0.01908652],\n",
       "         [0.16559906],\n",
       "         [0.16559906],\n",
       "         [0.17215369],\n",
       "         [0.17215369],\n",
       "         [0.90984467],\n",
       "         [0.90984467],\n",
       "         [0.53324575],\n",
       "         [0.53324575],\n",
       "         [0.56520083],\n",
       "         [0.56520083],\n",
       "         [0.99162206],\n",
       "         [0.99162206],\n",
       "         [0.16455054],\n",
       "         [0.16455054],\n",
       "         [0.41836627],\n",
       "         [0.41836627],\n",
       "         [0.80685742],\n",
       "         [0.80685742],\n",
       "         [0.13556383],\n",
       "         [0.13556383],\n",
       "         [0.12944177],\n",
       "         [0.12944177],\n",
       "         [0.53530012],\n",
       "         [0.53530012],\n",
       "         [0.67924954],\n",
       "         [0.67924954],\n",
       "         [0.90415188],\n",
       "         [0.90415188],\n",
       "         [0.70542372],\n",
       "         [0.70542372],\n",
       "         [0.72899138],\n",
       "         [0.72899138],\n",
       "         [0.35935974],\n",
       "         [0.35935974],\n",
       "         [0.09941048],\n",
       "         [0.09941048],\n",
       "         [0.90936875],\n",
       "         [0.90936875],\n",
       "         [0.21817007],\n",
       "         [0.21817007],\n",
       "         [0.8251679 ],\n",
       "         [0.8251679 ],\n",
       "         [0.08997759],\n",
       "         [0.08997759],\n",
       "         [0.75732276],\n",
       "         [0.75732276],\n",
       "         [0.66578247],\n",
       "         [0.66578247],\n",
       "         [0.66808232],\n",
       "         [0.66808232],\n",
       "         [0.58770433],\n",
       "         [0.58770433],\n",
       "         [0.33253677],\n",
       "         [0.33253677],\n",
       "         [0.67090788],\n",
       "         [0.67090788],\n",
       "         [0.92030814],\n",
       "         [0.92030814],\n",
       "         [0.93367993],\n",
       "         [0.93367993],\n",
       "         [0.63819565],\n",
       "         [0.63819565],\n",
       "         [0.0655492 ],\n",
       "         [0.0655492 ],\n",
       "         [0.75283449],\n",
       "         [0.75283449],\n",
       "         [0.37432047],\n",
       "         [0.37432047],\n",
       "         [0.6960538 ],\n",
       "         [0.6960538 ],\n",
       "         [0.74103041],\n",
       "         [0.74103041],\n",
       "         [0.69264632],\n",
       "         [0.69264632],\n",
       "         [0.39431796],\n",
       "         [0.39431796],\n",
       "         [0.21155385],\n",
       "         [0.21155385],\n",
       "         [0.31608595],\n",
       "         [0.31608595],\n",
       "         [0.2248702 ],\n",
       "         [0.2248702 ],\n",
       "         [0.07386728],\n",
       "         [0.07386728],\n",
       "         [0.45315648],\n",
       "         [0.45315648],\n",
       "         [0.60818883],\n",
       "         [0.60818883],\n",
       "         [0.56699341],\n",
       "         [0.56699341],\n",
       "         [0.21828436],\n",
       "         [0.21828436],\n",
       "         [0.10365644],\n",
       "         [0.10365644],\n",
       "         [0.04762257],\n",
       "         [0.04762257],\n",
       "         [0.91952592],\n",
       "         [0.91952592],\n",
       "         [0.86433498],\n",
       "         [0.86433498],\n",
       "         [0.22772478],\n",
       "         [0.22772478],\n",
       "         [0.36764953],\n",
       "         [0.36764953],\n",
       "         [0.79226973],\n",
       "         [0.79226973],\n",
       "         [0.16943366],\n",
       "         [0.16943366]])}}"
      ]
     },
     "execution_count": 1,
     "metadata": {},
     "output_type": "execute_result"
    }
   ],
   "source": [
    "ds = load_by_id(run_id_a)\n",
    "ds.get_parameter_data('x1')"
   ]
  },
  {
   "cell_type": "code",
   "execution_count": 13,
   "metadata": {},
   "outputs": [],
   "source": []
  }
 ],
 "metadata": {
  "kernelspec": {
   "display_name": "Python 3",
   "language": "python",
   "name": "python3"
  },
  "language_info": {
   "codemirror_mode": {
    "name": "ipython",
    "version": 3
   },
   "file_extension": ".py",
   "mimetype": "text/x-python",
   "name": "python",
   "nbconvert_exporter": "python",
   "pygments_lexer": "ipython3",
   "version": "3.7.7"
  },
  "nbsphinx": {
   "timeout": 600
  },
  "toc": {
   "base_numbering": 1,
   "nav_menu": {},
   "number_sections": true,
   "sideBar": true,
   "skip_h1_title": false,
   "title_cell": "Table of Contents",
   "title_sidebar": "Contents",
   "toc_cell": false,
   "toc_position": {},
   "toc_section_display": true,
   "toc_window_display": false
  },
  "varInspector": {
   "cols": {
    "lenName": 16,
    "lenType": 16,
    "lenVar": 40
   },
   "kernels_config": {
    "python": {
     "delete_cmd_postfix": "",
     "delete_cmd_prefix": "del ",
     "library": "var_list.py",
     "varRefreshCmd": "print(var_dic_list())"
    },
    "r": {
     "delete_cmd_postfix": ") ",
     "delete_cmd_prefix": "rm(",
     "library": "var_list.r",
     "varRefreshCmd": "cat(var_dic_list()) "
    }
   },
   "types_to_exclude": [
    "module",
    "function",
    "builtin_function_or_method",
    "instance",
    "_Feature"
   ],
   "window_display": false
  }
 },
 "nbformat": 4,
 "nbformat_minor": 2
}
