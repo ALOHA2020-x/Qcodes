{
 "cells": [
  {
   "cell_type": "markdown",
   "metadata": {},
   "source": [
    "# DataSet Performance\n",
    "\n",
    "This notebook shows the trade-off between inserting data into a database row-by-row and as binary blobs. Inserting the data row-by-row means that we have direct access to all the data and may perform queries directly on the values of the data. On the other hand, as we shall see, this is much slower than inserting the data directly as binary blobs."
   ]
  },
  {
   "cell_type": "markdown",
   "metadata": {},
   "source": [
    "First, we choose a new location for the database to ensure that we don't add a bunch of benchmarking data to the default one."
   ]
  },
  {
   "cell_type": "code",
   "execution_count": 1,
   "metadata": {},
   "outputs": [
    {
     "name": "stdout",
     "output_type": "stream",
     "text": [
      "Logging hadn't been started.\n",
      "Activating auto-logging. Current session state plus future input saved.\n",
      "Filename       : /home/vsts/.qcodes/logs/command_history.log\n",
      "Mode           : append\n",
      "Output logging : True\n",
      "Raw input log  : False\n",
      "Timestamping   : True\n",
      "State          : active\n"
     ]
    },
    {
     "name": "stdout",
     "output_type": "stream",
     "text": [
      "Qcodes Logfile : /home/vsts/.qcodes/logs/200828-18498-qcodes.log\n"
     ]
    }
   ],
   "source": [
    "import os\n",
    "cwd = os.getcwd()\n",
    "import qcodes as qc\n",
    "qc.config[\"core\"][\"db_location\"] = os.path.join(cwd, 'testing.db')\n"
   ]
  },
  {
   "cell_type": "code",
   "execution_count": 2,
   "metadata": {},
   "outputs": [],
   "source": [
    "%matplotlib inline\n",
    "import time\n",
    "import matplotlib.pyplot as plt\n",
    "import numpy as np\n",
    "\n",
    "import qcodes as qc\n",
    "from qcodes.instrument.parameter import ManualParameter\n",
    "from qcodes.dataset.experiment_container import (Experiment,\n",
    "                                                 load_last_experiment,\n",
    "                                                 new_experiment)\n",
    "from qcodes.dataset.sqlite.database import initialise_database\n",
    "from qcodes import load_or_create_experiment\n",
    "from qcodes.dataset.measurements import Measurement"
   ]
  },
  {
   "cell_type": "code",
   "execution_count": 3,
   "metadata": {},
   "outputs": [
    {
     "name": "stdout",
     "output_type": "stream",
     "text": [
      "\r",
      "0it [00:00, ?it/s]"
     ]
    },
    {
     "name": "stdout",
     "output_type": "stream",
     "text": [
      "\r",
      "Upgrading database; v0 -> v1: : 0it [00:00, ?it/s]"
     ]
    },
    {
     "name": "stdout",
     "output_type": "stream",
     "text": [
      "\r",
      "Upgrading database; v0 -> v1: : 0it [00:00, ?it/s]"
     ]
    },
    {
     "name": "stdout",
     "output_type": "stream",
     "text": [
      "\n",
      "\r",
      "  0%|          | 0/1 [00:00<?, ?it/s]"
     ]
    },
    {
     "name": "stdout",
     "output_type": "stream",
     "text": [
      "\r",
      "Upgrading database; v1 -> v2:   0%|          | 0/1 [00:00<?, ?it/s]"
     ]
    },
    {
     "name": "stdout",
     "output_type": "stream",
     "text": [
      "\r",
      "Upgrading database; v1 -> v2: 100%|██████████| 1/1 [00:00<00:00, 951.52it/s]"
     ]
    },
    {
     "name": "stdout",
     "output_type": "stream",
     "text": [
      "\n",
      "\r",
      "0it [00:00, ?it/s]"
     ]
    },
    {
     "name": "stdout",
     "output_type": "stream",
     "text": [
      "\r",
      "Upgrading database; v2 -> v3: : 0it [00:00, ?it/s]"
     ]
    },
    {
     "name": "stdout",
     "output_type": "stream",
     "text": [
      "\r",
      "Upgrading database; v2 -> v3: : 0it [00:00, ?it/s]"
     ]
    },
    {
     "name": "stdout",
     "output_type": "stream",
     "text": [
      "\n",
      "\r",
      "0it [00:00, ?it/s]"
     ]
    },
    {
     "name": "stdout",
     "output_type": "stream",
     "text": [
      "\r",
      "Upgrading database; v3 -> v4: : 0it [00:00, ?it/s]"
     ]
    },
    {
     "name": "stdout",
     "output_type": "stream",
     "text": [
      "\r",
      "Upgrading database; v3 -> v4: : 0it [00:00, ?it/s]"
     ]
    },
    {
     "name": "stdout",
     "output_type": "stream",
     "text": [
      "\n",
      "\r",
      "  0%|          | 0/1 [00:00<?, ?it/s]"
     ]
    },
    {
     "name": "stdout",
     "output_type": "stream",
     "text": [
      "\r",
      "Upgrading database; v4 -> v5:   0%|          | 0/1 [00:00<?, ?it/s]"
     ]
    },
    {
     "name": "stdout",
     "output_type": "stream",
     "text": [
      "\r",
      "Upgrading database; v4 -> v5: 100%|██████████| 1/1 [00:00<00:00, 655.46it/s]"
     ]
    },
    {
     "name": "stdout",
     "output_type": "stream",
     "text": [
      "\n",
      "\r",
      "0it [00:00, ?it/s]"
     ]
    },
    {
     "name": "stdout",
     "output_type": "stream",
     "text": [
      "\r",
      "Upgrading database; v5 -> v6: : 0it [00:00, ?it/s]"
     ]
    },
    {
     "name": "stdout",
     "output_type": "stream",
     "text": [
      "\r",
      "Upgrading database; v5 -> v6: : 0it [00:00, ?it/s]"
     ]
    },
    {
     "name": "stdout",
     "output_type": "stream",
     "text": [
      "\n",
      "\r",
      "  0%|          | 0/1 [00:00<?, ?it/s]"
     ]
    },
    {
     "name": "stdout",
     "output_type": "stream",
     "text": [
      "\r",
      "Upgrading database; v6 -> v7:   0%|          | 0/1 [00:00<?, ?it/s]"
     ]
    },
    {
     "name": "stdout",
     "output_type": "stream",
     "text": [
      "\r",
      "Upgrading database; v6 -> v7: 100%|██████████| 1/1 [00:00<00:00, 331.64it/s]"
     ]
    },
    {
     "name": "stdout",
     "output_type": "stream",
     "text": [
      "\n",
      "\r",
      "  0%|          | 0/1 [00:00<?, ?it/s]"
     ]
    },
    {
     "name": "stdout",
     "output_type": "stream",
     "text": [
      "\r",
      "Upgrading database; v7 -> v8:   0%|          | 0/1 [00:00<?, ?it/s]"
     ]
    },
    {
     "name": "stdout",
     "output_type": "stream",
     "text": [
      "\r",
      "Upgrading database; v7 -> v8: 100%|██████████| 1/1 [00:00<00:00, 653.42it/s]"
     ]
    },
    {
     "name": "stdout",
     "output_type": "stream",
     "text": [
      "\n",
      "\r",
      "  0%|          | 0/1 [00:00<?, ?it/s]"
     ]
    },
    {
     "name": "stdout",
     "output_type": "stream",
     "text": [
      "\r",
      "Upgrading database; v8 -> v9:   0%|          | 0/1 [00:00<?, ?it/s]"
     ]
    },
    {
     "name": "stdout",
     "output_type": "stream",
     "text": [
      "\r",
      "Upgrading database; v8 -> v9: 100%|██████████| 1/1 [00:00<00:00, 840.54it/s]"
     ]
    },
    {
     "name": "stdout",
     "output_type": "stream",
     "text": [
      "\n"
     ]
    }
   ],
   "source": [
    "initialise_database()\n",
    "exp = load_or_create_experiment(experiment_name='tutorial_exp', sample_name=\"no sample\")"
   ]
  },
  {
   "cell_type": "markdown",
   "metadata": {},
   "source": [
    "Here, we define a simple function to benchmark the time it takes to insert n points with either numeric or array data type.\n",
    "We will compare both the time used to call ``add_result`` and the time used for the full measurement."
   ]
  },
  {
   "cell_type": "code",
   "execution_count": 4,
   "metadata": {},
   "outputs": [],
   "source": [
    "def insert_data(paramtype, npoints, nreps=1):\n",
    "\n",
    "    meas = Measurement(exp=exp)\n",
    "\n",
    "    x1 = ManualParameter('x1')\n",
    "    x2 = ManualParameter('x2')\n",
    "    x3 = ManualParameter('x3')\n",
    "    y1 = ManualParameter('y1')\n",
    "    y2 = ManualParameter('y2')\n",
    "\n",
    "    meas.register_parameter(x1, paramtype=paramtype)\n",
    "    meas.register_parameter(x2, paramtype=paramtype)\n",
    "    meas.register_parameter(x3, paramtype=paramtype)\n",
    "    meas.register_parameter(y1, setpoints=[x1, x2, x3],\n",
    "                            paramtype=paramtype)\n",
    "    meas.register_parameter(y2, setpoints=[x1, x2, x3],\n",
    "                            paramtype=paramtype)\n",
    "    start = time.perf_counter()\n",
    "    with meas.run() as datasaver:\n",
    "        start_adding = time.perf_counter()\n",
    "        for i in range(nreps):\n",
    "            datasaver.add_result((x1, np.random.rand(npoints)),\n",
    "                                 (x2, np.random.rand(npoints)),\n",
    "                                 (x3, np.random.rand(npoints)),\n",
    "                                 (y1, np.random.rand(npoints)),\n",
    "                                 (y2, np.random.rand(npoints)))\n",
    "        stop_adding = time.perf_counter()\n",
    "        run_id = datasaver.run_id\n",
    "    stop = time.perf_counter()\n",
    "    tot_time = stop - start\n",
    "    add_time = stop_adding - start_adding\n",
    "    return tot_time, add_time, run_id"
   ]
  },
  {
   "cell_type": "markdown",
   "metadata": {},
   "source": [
    "## Comparison between numeric/array data and binary blob"
   ]
  },
  {
   "cell_type": "markdown",
   "metadata": {},
   "source": [
    "### Case1: Short experiment time"
   ]
  },
  {
   "cell_type": "code",
   "execution_count": 5,
   "metadata": {},
   "outputs": [
    {
     "name": "stdout",
     "output_type": "stream",
     "text": [
      "Starting experimental run with id: 1. \n",
      "Starting experimental run with id: 2. \n",
      "Starting experimental run with id: 3. \n",
      "Starting experimental run with id: 4. \n"
     ]
    },
    {
     "name": "stdout",
     "output_type": "stream",
     "text": [
      "Starting experimental run with id: 5. "
     ]
    },
    {
     "name": "stdout",
     "output_type": "stream",
     "text": [
      "\n"
     ]
    },
    {
     "name": "stdout",
     "output_type": "stream",
     "text": [
      "Starting experimental run with id: 6. \n",
      "Starting experimental run with id: 7. \n"
     ]
    },
    {
     "name": "stdout",
     "output_type": "stream",
     "text": [
      "Starting experimental run with id: 8. \n",
      "Starting experimental run with id: 9. \n"
     ]
    },
    {
     "name": "stdout",
     "output_type": "stream",
     "text": [
      "Starting experimental run with id: 10. \n",
      "Starting experimental run with id: 11. \n"
     ]
    },
    {
     "name": "stdout",
     "output_type": "stream",
     "text": [
      "Starting experimental run with id: 12. \n",
      "Starting experimental run with id: 13. \n"
     ]
    },
    {
     "name": "stdout",
     "output_type": "stream",
     "text": [
      "Starting experimental run with id: 14. \n"
     ]
    }
   ],
   "source": [
    "sizes = [1,500,1000,2000,3000,4000,5000]\n",
    "t_numeric = []\n",
    "t_numeric_add = []\n",
    "t_array = []\n",
    "t_array_add = []\n",
    "for size in sizes:\n",
    "    tn, tna, run_id_n =  insert_data('numeric', size)\n",
    "    t_numeric.append(tn)\n",
    "    t_numeric_add.append(tna)\n",
    "\n",
    "    ta, taa, run_id_a =  insert_data('array', size)\n",
    "    t_array.append(ta)\n",
    "    t_array_add.append(taa)"
   ]
  },
  {
   "cell_type": "code",
   "execution_count": 6,
   "metadata": {},
   "outputs": [
    {
     "data": {
      "image/png": "[encoded data removed]",
      "text/plain": [
       "<Figure size 432x288 with 1 Axes>"
      ]
     },
     "metadata": {
      "needs_background": "light"
     },
     "output_type": "display_data"
    }
   ],
   "source": [
    "fig, ax = plt.subplots(1,1)\n",
    "ax.plot(sizes, t_numeric, 'o-', label='Inserting row-by-row')\n",
    "ax.plot(sizes, t_numeric_add, 'o-', label='Inserting row-by-row: add_result only')\n",
    "ax.plot(sizes, t_array, 'd-', label='Inserting as binary blob')\n",
    "ax.plot(sizes, t_array_add, 'd-', label='Inserting as binary blob: add_result only')\n",
    "ax.legend()\n",
    "ax.set_xlabel('Array length')\n",
    "ax.set_ylabel('Time (s)')\n",
    "fig.tight_layout()"
   ]
  },
  {
   "cell_type": "markdown",
   "metadata": {},
   "source": [
    "As shown in the latter figure, the time to setup and and close the experiment is approximately 0.4 sec. In case of small array sizes, the difference between inserting values of data as arrays and inserting them row-by-row is relatively unimportant. At larger array sizes, i.e. above 10000 points, the cost of writing data as individual datapoints starts to become important.\n"
   ]
  },
  {
   "cell_type": "markdown",
   "metadata": {},
   "source": [
    "### Case2: Long experiment time "
   ]
  },
  {
   "cell_type": "code",
   "execution_count": 7,
   "metadata": {},
   "outputs": [
    {
     "name": "stdout",
     "output_type": "stream",
     "text": [
      "Starting experimental run with id: 15. \n",
      "Starting experimental run with id: 16. \n",
      "Starting experimental run with id: 17. \n"
     ]
    },
    {
     "name": "stdout",
     "output_type": "stream",
     "text": [
      "Starting experimental run with id: 18. \n",
      "Starting experimental run with id: 19. \n"
     ]
    },
    {
     "name": "stdout",
     "output_type": "stream",
     "text": [
      "Starting experimental run with id: 20. \n"
     ]
    },
    {
     "name": "stdout",
     "output_type": "stream",
     "text": [
      "Starting experimental run with id: 21. \n"
     ]
    },
    {
     "name": "stdout",
     "output_type": "stream",
     "text": [
      "Starting experimental run with id: 22. \n"
     ]
    },
    {
     "name": "stdout",
     "output_type": "stream",
     "text": [
      "Starting experimental run with id: 23. \n"
     ]
    },
    {
     "name": "stdout",
     "output_type": "stream",
     "text": [
      "Starting experimental run with id: 24. \n"
     ]
    },
    {
     "name": "stdout",
     "output_type": "stream",
     "text": [
      "Starting experimental run with id: 25. \n"
     ]
    },
    {
     "name": "stdout",
     "output_type": "stream",
     "text": [
      "Starting experimental run with id: 26. \n"
     ]
    },
    {
     "name": "stdout",
     "output_type": "stream",
     "text": [
      "Starting experimental run with id: 27. \n"
     ]
    },
    {
     "name": "stdout",
     "output_type": "stream",
     "text": [
      "Starting experimental run with id: 28. \n"
     ]
    }
   ],
   "source": [
    "sizes = [1,500,1000,2000,3000,4000,5000]\n",
    "nreps = 100\n",
    "t_numeric = []\n",
    "t_numeric_add = []\n",
    "t_numeric_run_ids = []\n",
    "t_array = []\n",
    "t_array_add = []\n",
    "t_array_run_ids = []\n",
    "for size in sizes:\n",
    "    tn, tna, run_id_n =  insert_data('numeric', size, nreps=nreps)\n",
    "    t_numeric.append(tn)\n",
    "    t_numeric_add.append(tna)\n",
    "    t_numeric_run_ids.append(run_id_n)\n",
    "\n",
    "    ta, taa, run_id_a =  insert_data('array', size, nreps=nreps)\n",
    "    t_array.append(ta)\n",
    "    t_array_add.append(taa)\n",
    "    t_array_run_ids.append(run_id_a)"
   ]
  },
  {
   "cell_type": "code",
   "execution_count": 8,
   "metadata": {
    "scrolled": true
   },
   "outputs": [
    {
     "data": {
      "image/png": "[encoded data removed]",
      "text/plain": [
       "<Figure size 432x288 with 1 Axes>"
      ]
     },
     "metadata": {
      "needs_background": "light"
     },
     "output_type": "display_data"
    }
   ],
   "source": [
    "fig, ax = plt.subplots(1,1)\n",
    "ax.plot(sizes, t_numeric, 'o-', label='Inserting row-by-row')\n",
    "ax.plot(sizes, t_numeric_add, 'o-', label='Inserting row-by-row: add_result only')\n",
    "ax.plot(sizes, t_array, 'd-', label='Inserting as binary blob')\n",
    "ax.plot(sizes, t_array_add, 'd-', label='Inserting as binary blob: add_result only')\n",
    "ax.legend()\n",
    "ax.set_xlabel('Array length')\n",
    "ax.set_ylabel('Time (s)')\n",
    "fig.tight_layout()"
   ]
  },
  {
   "cell_type": "markdown",
   "metadata": {},
   "source": [
    "However, as we increase the length of the experiment, as seen here by repeating the insertion 100 times, we see a big difference between inserting values of the data row-by-row and inserting it as a binary blob."
   ]
  },
  {
   "cell_type": "markdown",
   "metadata": {},
   "source": [
    "## Loading the data "
   ]
  },
  {
   "cell_type": "code",
   "execution_count": 9,
   "metadata": {},
   "outputs": [],
   "source": [
    "from qcodes.dataset.data_set import load_by_id\n",
    "from qcodes.dataset.data_export import get_data_by_id"
   ]
  },
  {
   "cell_type": "markdown",
   "metadata": {},
   "source": [
    "As usual you can load the data by using the ``load_by_id`` function but you will notice that the different storage methods\n",
    "are reflected in shape of the data as it is retrieved. "
   ]
  },
  {
   "cell_type": "code",
   "execution_count": 10,
   "metadata": {},
   "outputs": [],
   "source": [
    "run_id_n = t_numeric_run_ids[0]\n",
    "run_id_a = t_array_run_ids[0]"
   ]
  },
  {
   "cell_type": "code",
   "execution_count": 11,
   "metadata": {
    "scrolled": true
   },
   "outputs": [
    {
     "data": {
      "text/plain": [
       "{'x1': {'x1': array([0.63155116, 0.63155116, 0.20486661, 0.20486661, 0.42936773,\n",
       "         0.42936773, 0.21780369, 0.21780369, 0.83509437, 0.83509437,\n",
       "         0.24764611, 0.24764611, 0.58238791, 0.58238791, 0.16533562,\n",
       "         0.16533562, 0.94196861, 0.94196861, 0.69881906, 0.69881906,\n",
       "         0.84404963, 0.84404963, 0.93193731, 0.93193731, 0.72716205,\n",
       "         0.72716205, 0.05535824, 0.05535824, 0.04830912, 0.04830912,\n",
       "         0.09482994, 0.09482994, 0.98775972, 0.98775972, 0.02380313,\n",
       "         0.02380313, 0.66446123, 0.66446123, 0.59757755, 0.59757755,\n",
       "         0.32813375, 0.32813375, 0.6425471 , 0.6425471 , 0.22674267,\n",
       "         0.22674267, 0.39911392, 0.39911392, 0.11331891, 0.11331891,\n",
       "         0.74381633, 0.74381633, 0.79925474, 0.79925474, 0.53628551,\n",
       "         0.53628551, 0.77352681, 0.77352681, 0.07126116, 0.07126116,\n",
       "         0.31540408, 0.31540408, 0.19722938, 0.19722938, 0.86238076,\n",
       "         0.86238076, 0.66865407, 0.66865407, 0.45686961, 0.45686961,\n",
       "         0.72530919, 0.72530919, 0.8979265 , 0.8979265 , 0.19534851,\n",
       "         0.19534851, 0.24007516, 0.24007516, 0.80414361, 0.80414361,\n",
       "         0.16037145, 0.16037145, 0.75906758, 0.75906758, 0.59447145,\n",
       "         0.59447145, 0.55727189, 0.55727189, 0.05029979, 0.05029979,\n",
       "         0.78555035, 0.78555035, 0.57778897, 0.57778897, 0.38595145,\n",
       "         0.38595145, 0.28778435, 0.28778435, 0.71528774, 0.71528774,\n",
       "         0.034509  , 0.034509  , 0.34934049, 0.34934049, 0.00631381,\n",
       "         0.00631381, 0.08460244, 0.08460244, 0.1081786 , 0.1081786 ,\n",
       "         0.84885087, 0.84885087, 0.20789973, 0.20789973, 0.09699265,\n",
       "         0.09699265, 0.72577781, 0.72577781, 0.2254727 , 0.2254727 ,\n",
       "         0.71581996, 0.71581996, 0.54825235, 0.54825235, 0.02746869,\n",
       "         0.02746869, 0.56691304, 0.56691304, 0.50980409, 0.50980409,\n",
       "         0.91682542, 0.91682542, 0.30588657, 0.30588657, 0.38571747,\n",
       "         0.38571747, 0.48631767, 0.48631767, 0.26125039, 0.26125039,\n",
       "         0.462537  , 0.462537  , 0.19160229, 0.19160229, 0.86307879,\n",
       "         0.86307879, 0.24313014, 0.24313014, 0.66843927, 0.66843927,\n",
       "         0.76051127, 0.76051127, 0.08758001, 0.08758001, 0.52664801,\n",
       "         0.52664801, 0.73709959, 0.73709959, 0.25572175, 0.25572175,\n",
       "         0.24189767, 0.24189767, 0.33103481, 0.33103481, 0.26108004,\n",
       "         0.26108004, 0.60682334, 0.60682334, 0.373641  , 0.373641  ,\n",
       "         0.74585466, 0.74585466, 0.71629256, 0.71629256, 0.22611975,\n",
       "         0.22611975, 0.43097507, 0.43097507, 0.22166162, 0.22166162,\n",
       "         0.64783619, 0.64783619, 0.86653311, 0.86653311, 0.85497927,\n",
       "         0.85497927, 0.19223771, 0.19223771, 0.86502703, 0.86502703,\n",
       "         0.85221779, 0.85221779, 0.81955884, 0.81955884, 0.24326796,\n",
       "         0.24326796, 0.58065856, 0.58065856, 0.49351514, 0.49351514])}}"
      ]
     },
     "execution_count": 11,
     "metadata": {},
     "output_type": "execute_result"
    }
   ],
   "source": [
    "ds = load_by_id(run_id_n)\n",
    "ds.get_parameter_data('x1')"
   ]
  },
  {
   "cell_type": "markdown",
   "metadata": {},
   "source": [
    "And a dataset stored as binary arrays"
   ]
  },
  {
   "cell_type": "code",
   "execution_count": 12,
   "metadata": {
    "scrolled": true
   },
   "outputs": [
    {
     "data": {
      "text/plain": [
       "{'x1': {'x1': array([[0.81376193],\n",
       "         [0.81376193],\n",
       "         [0.91561562],\n",
       "         [0.91561562],\n",
       "         [0.77071909],\n",
       "         [0.77071909],\n",
       "         [0.27430355],\n",
       "         [0.27430355],\n",
       "         [0.7176102 ],\n",
       "         [0.7176102 ],\n",
       "         [0.27435101],\n",
       "         [0.27435101],\n",
       "         [0.0301843 ],\n",
       "         [0.0301843 ],\n",
       "         [0.63583036],\n",
       "         [0.63583036],\n",
       "         [0.60239312],\n",
       "         [0.60239312],\n",
       "         [0.12060812],\n",
       "         [0.12060812],\n",
       "         [0.74451015],\n",
       "         [0.74451015],\n",
       "         [0.04887736],\n",
       "         [0.04887736],\n",
       "         [0.44330129],\n",
       "         [0.44330129],\n",
       "         [0.00661913],\n",
       "         [0.00661913],\n",
       "         [0.06851076],\n",
       "         [0.06851076],\n",
       "         [0.5559428 ],\n",
       "         [0.5559428 ],\n",
       "         [0.99076323],\n",
       "         [0.99076323],\n",
       "         [0.75837661],\n",
       "         [0.75837661],\n",
       "         [0.33422841],\n",
       "         [0.33422841],\n",
       "         [0.71150664],\n",
       "         [0.71150664],\n",
       "         [0.61475604],\n",
       "         [0.61475604],\n",
       "         [0.89160137],\n",
       "         [0.89160137],\n",
       "         [0.58799512],\n",
       "         [0.58799512],\n",
       "         [0.72894846],\n",
       "         [0.72894846],\n",
       "         [0.33896792],\n",
       "         [0.33896792],\n",
       "         [0.39584788],\n",
       "         [0.39584788],\n",
       "         [0.42732082],\n",
       "         [0.42732082],\n",
       "         [0.64079085],\n",
       "         [0.64079085],\n",
       "         [0.00954498],\n",
       "         [0.00954498],\n",
       "         [0.07331275],\n",
       "         [0.07331275],\n",
       "         [0.38848178],\n",
       "         [0.38848178],\n",
       "         [0.23640301],\n",
       "         [0.23640301],\n",
       "         [0.09764343],\n",
       "         [0.09764343],\n",
       "         [0.73778085],\n",
       "         [0.73778085],\n",
       "         [0.58631682],\n",
       "         [0.58631682],\n",
       "         [0.17217954],\n",
       "         [0.17217954],\n",
       "         [0.62129117],\n",
       "         [0.62129117],\n",
       "         [0.8861061 ],\n",
       "         [0.8861061 ],\n",
       "         [0.22851773],\n",
       "         [0.22851773],\n",
       "         [0.83371368],\n",
       "         [0.83371368],\n",
       "         [0.91490539],\n",
       "         [0.91490539],\n",
       "         [0.82551656],\n",
       "         [0.82551656],\n",
       "         [0.64276795],\n",
       "         [0.64276795],\n",
       "         [0.81895487],\n",
       "         [0.81895487],\n",
       "         [0.98296254],\n",
       "         [0.98296254],\n",
       "         [0.99862925],\n",
       "         [0.99862925],\n",
       "         [0.97262141],\n",
       "         [0.97262141],\n",
       "         [0.09149411],\n",
       "         [0.09149411],\n",
       "         [0.45886288],\n",
       "         [0.45886288],\n",
       "         [0.07206755],\n",
       "         [0.07206755],\n",
       "         [0.50055695],\n",
       "         [0.50055695],\n",
       "         [0.59806812],\n",
       "         [0.59806812],\n",
       "         [0.6470797 ],\n",
       "         [0.6470797 ],\n",
       "         [0.18048428],\n",
       "         [0.18048428],\n",
       "         [0.83941886],\n",
       "         [0.83941886],\n",
       "         [0.02180796],\n",
       "         [0.02180796],\n",
       "         [0.21396163],\n",
       "         [0.21396163],\n",
       "         [0.58352797],\n",
       "         [0.58352797],\n",
       "         [0.1979    ],\n",
       "         [0.1979    ],\n",
       "         [0.38172685],\n",
       "         [0.38172685],\n",
       "         [0.51153733],\n",
       "         [0.51153733],\n",
       "         [0.64185163],\n",
       "         [0.64185163],\n",
       "         [0.41536083],\n",
       "         [0.41536083],\n",
       "         [0.28944187],\n",
       "         [0.28944187],\n",
       "         [0.86459464],\n",
       "         [0.86459464],\n",
       "         [0.88947862],\n",
       "         [0.88947862],\n",
       "         [0.57234167],\n",
       "         [0.57234167],\n",
       "         [0.84795602],\n",
       "         [0.84795602],\n",
       "         [0.59917221],\n",
       "         [0.59917221],\n",
       "         [0.66306737],\n",
       "         [0.66306737],\n",
       "         [0.42396568],\n",
       "         [0.42396568],\n",
       "         [0.43759356],\n",
       "         [0.43759356],\n",
       "         [0.09705197],\n",
       "         [0.09705197],\n",
       "         [0.26107874],\n",
       "         [0.26107874],\n",
       "         [0.77282184],\n",
       "         [0.77282184],\n",
       "         [0.05001707],\n",
       "         [0.05001707],\n",
       "         [0.91881949],\n",
       "         [0.91881949],\n",
       "         [0.40306943],\n",
       "         [0.40306943],\n",
       "         [0.35234866],\n",
       "         [0.35234866],\n",
       "         [0.43298992],\n",
       "         [0.43298992],\n",
       "         [0.11847792],\n",
       "         [0.11847792],\n",
       "         [0.21836362],\n",
       "         [0.21836362],\n",
       "         [0.01902418],\n",
       "         [0.01902418],\n",
       "         [0.83611937],\n",
       "         [0.83611937],\n",
       "         [0.12528537],\n",
       "         [0.12528537],\n",
       "         [0.39700606],\n",
       "         [0.39700606],\n",
       "         [0.67305655],\n",
       "         [0.67305655],\n",
       "         [0.44720693],\n",
       "         [0.44720693],\n",
       "         [0.63002741],\n",
       "         [0.63002741],\n",
       "         [0.50049379],\n",
       "         [0.50049379],\n",
       "         [0.0746688 ],\n",
       "         [0.0746688 ],\n",
       "         [0.46049858],\n",
       "         [0.46049858],\n",
       "         [0.24597249],\n",
       "         [0.24597249],\n",
       "         [0.77453471],\n",
       "         [0.77453471],\n",
       "         [0.72377321],\n",
       "         [0.72377321],\n",
       "         [0.74905584],\n",
       "         [0.74905584],\n",
       "         [0.80367946],\n",
       "         [0.80367946],\n",
       "         [0.34226372],\n",
       "         [0.34226372],\n",
       "         [0.42090168],\n",
       "         [0.42090168],\n",
       "         [0.64065593],\n",
       "         [0.64065593]])}}"
      ]
     },
     "execution_count": 12,
     "metadata": {},
     "output_type": "execute_result"
    }
   ],
   "source": [
    "ds = load_by_id(run_id_a)\n",
    "ds.get_parameter_data('x1')"
   ]
  },
  {
   "cell_type": "code",
   "execution_count": null,
   "metadata": {},
   "outputs": [],
   "source": []
  }
 ],
 "metadata": {
  "kernelspec": {
   "display_name": "Python 3",
   "language": "python",
   "name": "python3"
  },
  "language_info": {
   "codemirror_mode": {
    "name": "ipython",
    "version": 3
   },
   "file_extension": ".py",
   "mimetype": "text/x-python",
   "name": "python",
   "nbconvert_exporter": "python",
   "pygments_lexer": "ipython3",
   "version": "3.7.7"
  },
  "nbsphinx": {
   "timeout": 600
  },
  "toc": {
   "base_numbering": 1,
   "nav_menu": {},
   "number_sections": true,
   "sideBar": true,
   "skip_h1_title": false,
   "title_cell": "Table of Contents",
   "title_sidebar": "Contents",
   "toc_cell": false,
   "toc_position": {},
   "toc_section_display": true,
   "toc_window_display": false
  },
  "varInspector": {
   "cols": {
    "lenName": 16,
    "lenType": 16,
    "lenVar": 40
   },
   "kernels_config": {
    "python": {
     "delete_cmd_postfix": "",
     "delete_cmd_prefix": "del ",
     "library": "var_list.py",
     "varRefreshCmd": "print(var_dic_list())"
    },
    "r": {
     "delete_cmd_postfix": ") ",
     "delete_cmd_prefix": "rm(",
     "library": "var_list.r",
     "varRefreshCmd": "cat(var_dic_list()) "
    }
   },
   "types_to_exclude": [
    "module",
    "function",
    "builtin_function_or_method",
    "instance",
    "_Feature"
   ],
   "window_display": false
  }
 },
 "nbformat": 4,
 "nbformat_minor": 2
}
