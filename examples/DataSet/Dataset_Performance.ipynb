{
 "cells": [
  {
   "cell_type": "markdown",
   "metadata": {},
   "source": [
    "# DataSet Performance\n",
    "\n",
    "This notebook shows the trade-off between inserting data into a database row-by-row and as binary blobs. Inserting the data row-by-row means that we have direct access to all the data and may perform queries directly on the values of the data. On the other hand, as we shall see, this is much slower than inserting the data directly as binary blobs."
   ]
  },
  {
   "cell_type": "markdown",
   "metadata": {},
   "source": [
    "First, we choose a new location for the database to ensure that we don't add a bunch of benchmarking data to the default one."
   ]
  },
  {
   "cell_type": "code",
   "execution_count": 1,
   "metadata": {},
   "outputs": [
    {
     "name": "stdout",
     "output_type": "stream",
     "text": [
      "Logging hadn't been started.\n",
      "Activating auto-logging. Current session state plus future input saved.\n",
      "Filename       : /home/vsts/.qcodes/logs/command_history.log\n",
      "Mode           : append\n",
      "Output logging : True\n",
      "Raw input log  : False\n",
      "Timestamping   : True\n",
      "State          : active\n"
     ]
    },
    {
     "name": "stdout",
     "output_type": "stream",
     "text": [
      "Qcodes Logfile : /home/vsts/.qcodes/logs/200429-18370-qcodes.log\n"
     ]
    }
   ],
   "source": [
    "import os\n",
    "cwd = os.getcwd()\n",
    "import qcodes as qc\n",
    "qc.config[\"core\"][\"db_location\"] = os.path.join(cwd, 'testing.db')\n"
   ]
  },
  {
   "cell_type": "code",
   "execution_count": 2,
   "metadata": {},
   "outputs": [],
   "source": [
    "%matplotlib inline\n",
    "import time\n",
    "import matplotlib.pyplot as plt\n",
    "import numpy as np\n",
    "\n",
    "import qcodes as qc\n",
    "from qcodes.instrument.parameter import ManualParameter\n",
    "from qcodes.dataset.experiment_container import (Experiment,\n",
    "                                                 load_last_experiment,\n",
    "                                                 new_experiment)\n",
    "from qcodes.dataset.sqlite.database import initialise_database\n",
    "from qcodes import load_or_create_experiment\n",
    "from qcodes.dataset.measurements import Measurement"
   ]
  },
  {
   "cell_type": "code",
   "execution_count": 3,
   "metadata": {},
   "outputs": [
    {
     "name": "stdout",
     "output_type": "stream",
     "text": [
      "\r",
      "0it [00:00, ?it/s]"
     ]
    },
    {
     "name": "stdout",
     "output_type": "stream",
     "text": [
      "\r",
      "Upgrading database; v0 -> v1: : 0it [00:00, ?it/s]"
     ]
    },
    {
     "name": "stdout",
     "output_type": "stream",
     "text": [
      "\r",
      "Upgrading database; v0 -> v1: : 0it [00:00, ?it/s]"
     ]
    },
    {
     "name": "stdout",
     "output_type": "stream",
     "text": [
      "\n",
      "\r",
      "  0%|          | 0/1 [00:00<?, ?it/s]"
     ]
    },
    {
     "name": "stdout",
     "output_type": "stream",
     "text": [
      "\r",
      "Upgrading database; v1 -> v2:   0%|          | 0/1 [00:00<?, ?it/s]"
     ]
    },
    {
     "name": "stdout",
     "output_type": "stream",
     "text": [
      "\r",
      "Upgrading database; v1 -> v2: 100%|██████████| 1/1 [00:00<00:00, 939.37it/s]"
     ]
    },
    {
     "name": "stdout",
     "output_type": "stream",
     "text": [
      "\n",
      "\r",
      "0it [00:00, ?it/s]"
     ]
    },
    {
     "name": "stdout",
     "output_type": "stream",
     "text": [
      "\r",
      "Upgrading database; v2 -> v3: : 0it [00:00, ?it/s]"
     ]
    },
    {
     "name": "stdout",
     "output_type": "stream",
     "text": [
      "\r",
      "Upgrading database; v2 -> v3: : 0it [00:00, ?it/s]"
     ]
    },
    {
     "name": "stdout",
     "output_type": "stream",
     "text": [
      "\n",
      "\r",
      "0it [00:00, ?it/s]"
     ]
    },
    {
     "name": "stdout",
     "output_type": "stream",
     "text": [
      "\r",
      "Upgrading database; v3 -> v4: : 0it [00:00, ?it/s]"
     ]
    },
    {
     "name": "stdout",
     "output_type": "stream",
     "text": [
      "\r",
      "Upgrading database; v3 -> v4: : 0it [00:00, ?it/s]"
     ]
    },
    {
     "name": "stdout",
     "output_type": "stream",
     "text": [
      "\n",
      "\r",
      "  0%|          | 0/1 [00:00<?, ?it/s]"
     ]
    },
    {
     "name": "stdout",
     "output_type": "stream",
     "text": [
      "\r",
      "Upgrading database; v4 -> v5:   0%|          | 0/1 [00:00<?, ?it/s]"
     ]
    },
    {
     "name": "stdout",
     "output_type": "stream",
     "text": [
      "\r",
      "Upgrading database; v4 -> v5: 100%|██████████| 1/1 [00:00<00:00, 985.74it/s]"
     ]
    },
    {
     "name": "stdout",
     "output_type": "stream",
     "text": [
      "\n",
      "\r",
      "0it [00:00, ?it/s]"
     ]
    },
    {
     "name": "stdout",
     "output_type": "stream",
     "text": [
      "\r",
      "Upgrading database; v5 -> v6: : 0it [00:00, ?it/s]"
     ]
    },
    {
     "name": "stdout",
     "output_type": "stream",
     "text": [
      "\r",
      "Upgrading database; v5 -> v6: : 0it [00:00, ?it/s]"
     ]
    },
    {
     "name": "stdout",
     "output_type": "stream",
     "text": [
      "\n",
      "\r",
      "  0%|          | 0/1 [00:00<?, ?it/s]"
     ]
    },
    {
     "name": "stdout",
     "output_type": "stream",
     "text": [
      "\r",
      "Upgrading database; v6 -> v7:   0%|          | 0/1 [00:00<?, ?it/s]"
     ]
    },
    {
     "name": "stdout",
     "output_type": "stream",
     "text": [
      "\r",
      "Upgrading database; v6 -> v7: 100%|██████████| 1/1 [00:00<00:00, 428.34it/s]"
     ]
    },
    {
     "name": "stdout",
     "output_type": "stream",
     "text": [
      "\n",
      "\r",
      "  0%|          | 0/1 [00:00<?, ?it/s]"
     ]
    },
    {
     "name": "stdout",
     "output_type": "stream",
     "text": [
      "\r",
      "Upgrading database; v7 -> v8:   0%|          | 0/1 [00:00<?, ?it/s]"
     ]
    },
    {
     "name": "stdout",
     "output_type": "stream",
     "text": [
      "\r",
      "Upgrading database; v7 -> v8: 100%|██████████| 1/1 [00:00<00:00, 964.43it/s]"
     ]
    },
    {
     "name": "stdout",
     "output_type": "stream",
     "text": [
      "\n",
      "\r",
      "  0%|          | 0/1 [00:00<?, ?it/s]"
     ]
    },
    {
     "name": "stdout",
     "output_type": "stream",
     "text": [
      "\r",
      "Upgrading database; v8 -> v9:   0%|          | 0/1 [00:00<?, ?it/s]"
     ]
    },
    {
     "name": "stdout",
     "output_type": "stream",
     "text": [
      "\r",
      "Upgrading database; v8 -> v9: 100%|██████████| 1/1 [00:00<00:00, 1002.94it/s]"
     ]
    },
    {
     "name": "stdout",
     "output_type": "stream",
     "text": [
      "\n"
     ]
    }
   ],
   "source": [
    "initialise_database()\n",
    "exp = load_or_create_experiment(experiment_name='tutorial_exp', sample_name=\"no sample\")"
   ]
  },
  {
   "cell_type": "markdown",
   "metadata": {},
   "source": [
    "Here, we define a simple function to benchmark the time it takes to insert n points with either numeric or array data type.\n",
    "We will compare both the time used to call ``add_result`` and the time used for the full measurement."
   ]
  },
  {
   "cell_type": "code",
   "execution_count": 4,
   "metadata": {},
   "outputs": [],
   "source": [
    "def insert_data(paramtype, npoints, nreps=1):\n",
    "\n",
    "    meas = Measurement(exp=exp)\n",
    "\n",
    "    x1 = ManualParameter('x1')\n",
    "    x2 = ManualParameter('x2')\n",
    "    x3 = ManualParameter('x3')\n",
    "    y1 = ManualParameter('y1')\n",
    "    y2 = ManualParameter('y2')\n",
    "\n",
    "    meas.register_parameter(x1, paramtype=paramtype)\n",
    "    meas.register_parameter(x2, paramtype=paramtype)\n",
    "    meas.register_parameter(x3, paramtype=paramtype)\n",
    "    meas.register_parameter(y1, setpoints=[x1, x2, x3],\n",
    "                            paramtype=paramtype)\n",
    "    meas.register_parameter(y2, setpoints=[x1, x2, x3],\n",
    "                            paramtype=paramtype)\n",
    "    start = time.perf_counter()\n",
    "    with meas.run() as datasaver:\n",
    "        start_adding = time.perf_counter()\n",
    "        for i in range(nreps):\n",
    "            datasaver.add_result((x1, np.random.rand(npoints)),\n",
    "                                 (x2, np.random.rand(npoints)),\n",
    "                                 (x3, np.random.rand(npoints)),\n",
    "                                 (y1, np.random.rand(npoints)),\n",
    "                                 (y2, np.random.rand(npoints)))\n",
    "        stop_adding = time.perf_counter()\n",
    "        run_id = datasaver.run_id\n",
    "    stop = time.perf_counter()\n",
    "    tot_time = stop - start\n",
    "    add_time = stop_adding - start_adding\n",
    "    return tot_time, add_time, run_id"
   ]
  },
  {
   "cell_type": "markdown",
   "metadata": {},
   "source": [
    "## Comparison between numeric/array data and binary blob"
   ]
  },
  {
   "cell_type": "markdown",
   "metadata": {},
   "source": [
    "### Case1: Short experiment time"
   ]
  },
  {
   "cell_type": "code",
   "execution_count": 5,
   "metadata": {},
   "outputs": [
    {
     "name": "stdout",
     "output_type": "stream",
     "text": [
      "Starting experimental run with id: 1. \n",
      "Starting experimental run with id: 2. \n",
      "Starting experimental run with id: 3. \n"
     ]
    },
    {
     "name": "stdout",
     "output_type": "stream",
     "text": [
      "Starting experimental run with id: 4. \n"
     ]
    },
    {
     "name": "stdout",
     "output_type": "stream",
     "text": [
      "Starting experimental run with id: 5. \n"
     ]
    },
    {
     "name": "stdout",
     "output_type": "stream",
     "text": [
      "Starting experimental run with id: 6. \n"
     ]
    },
    {
     "name": "stdout",
     "output_type": "stream",
     "text": [
      "Starting experimental run with id: 7. \n"
     ]
    },
    {
     "name": "stdout",
     "output_type": "stream",
     "text": [
      "Starting experimental run with id: 8. \n"
     ]
    },
    {
     "name": "stdout",
     "output_type": "stream",
     "text": [
      "Starting experimental run with id: 9. \n"
     ]
    },
    {
     "name": "stdout",
     "output_type": "stream",
     "text": [
      "Starting experimental run with id: 10. \n",
      "Starting experimental run with id: 11. \n"
     ]
    },
    {
     "name": "stdout",
     "output_type": "stream",
     "text": [
      "Starting experimental run with id: 12. \n",
      "Starting experimental run with id: 13. \n"
     ]
    },
    {
     "name": "stdout",
     "output_type": "stream",
     "text": [
      "Starting experimental run with id: 14. \n"
     ]
    }
   ],
   "source": [
    "sizes = [1,500,1000,2000,3000,4000,5000]\n",
    "t_numeric = []\n",
    "t_numeric_add = []\n",
    "t_array = []\n",
    "t_array_add = []\n",
    "for size in sizes:\n",
    "    tn, tna, run_id_n =  insert_data('numeric', size)\n",
    "    t_numeric.append(tn)\n",
    "    t_numeric_add.append(tna)\n",
    "\n",
    "    ta, taa, run_id_a =  insert_data('array', size)\n",
    "    t_array.append(ta)\n",
    "    t_array_add.append(taa)"
   ]
  },
  {
   "cell_type": "code",
   "execution_count": 6,
   "metadata": {},
   "outputs": [
    {
     "data": {
      "image/png": "[encoded data removed]",
      "text/plain": [
       "<Figure size 432x288 with 1 Axes>"
      ]
     },
     "metadata": {
      "needs_background": "light"
     },
     "output_type": "display_data"
    }
   ],
   "source": [
    "fig, ax = plt.subplots(1,1)\n",
    "ax.plot(sizes, t_numeric, 'o-', label='Inserting row-by-row')\n",
    "ax.plot(sizes, t_numeric_add, 'o-', label='Inserting row-by-row: add_result only')\n",
    "ax.plot(sizes, t_array, 'd-', label='Inserting as binary blob')\n",
    "ax.plot(sizes, t_array_add, 'd-', label='Inserting as binary blob: add_result only')\n",
    "ax.legend()\n",
    "ax.set_xlabel('Array length')\n",
    "ax.set_ylabel('Time (s)')\n",
    "fig.tight_layout()"
   ]
  },
  {
   "cell_type": "markdown",
   "metadata": {},
   "source": [
    "As shown in the latter figure, the time to setup and and close the experiment is approximately 0.4 sec. In case of small array sizes, the difference between inserting values of data as arrays and inserting them row-by-row is relatively unimportant. At larger array sizes, i.e. above 10000 points, the cost of writing data as individual datapoints starts to become important.\n"
   ]
  },
  {
   "cell_type": "markdown",
   "metadata": {},
   "source": [
    "### Case2: Long experiment time "
   ]
  },
  {
   "cell_type": "code",
   "execution_count": 7,
   "metadata": {},
   "outputs": [
    {
     "name": "stdout",
     "output_type": "stream",
     "text": [
      "Starting experimental run with id: 15. \n",
      "Starting experimental run with id: 16. \n",
      "Starting experimental run with id: 17. \n"
     ]
    },
    {
     "name": "stdout",
     "output_type": "stream",
     "text": [
      "Starting experimental run with id: 18. \n",
      "Starting experimental run with id: 19. \n"
     ]
    },
    {
     "name": "stdout",
     "output_type": "stream",
     "text": [
      "Starting experimental run with id: 20. \n"
     ]
    },
    {
     "name": "stdout",
     "output_type": "stream",
     "text": [
      "Starting experimental run with id: 21. \n"
     ]
    },
    {
     "name": "stdout",
     "output_type": "stream",
     "text": [
      "Starting experimental run with id: 22. \n"
     ]
    },
    {
     "name": "stdout",
     "output_type": "stream",
     "text": [
      "Starting experimental run with id: 23. \n"
     ]
    },
    {
     "name": "stdout",
     "output_type": "stream",
     "text": [
      "Starting experimental run with id: 24. \n"
     ]
    },
    {
     "name": "stdout",
     "output_type": "stream",
     "text": [
      "Starting experimental run with id: 25. \n"
     ]
    },
    {
     "name": "stdout",
     "output_type": "stream",
     "text": [
      "Starting experimental run with id: 26. \n"
     ]
    },
    {
     "name": "stdout",
     "output_type": "stream",
     "text": [
      "Starting experimental run with id: 27. \n"
     ]
    },
    {
     "name": "stdout",
     "output_type": "stream",
     "text": [
      "Starting experimental run with id: 28. \n"
     ]
    }
   ],
   "source": [
    "sizes = [1,500,1000,2000,3000,4000,5000]\n",
    "nreps = 100\n",
    "t_numeric = []\n",
    "t_numeric_add = []\n",
    "t_numeric_run_ids = []\n",
    "t_array = []\n",
    "t_array_add = []\n",
    "t_array_run_ids = []\n",
    "for size in sizes:\n",
    "    tn, tna, run_id_n =  insert_data('numeric', size, nreps=nreps)\n",
    "    t_numeric.append(tn)\n",
    "    t_numeric_add.append(tna)\n",
    "    t_numeric_run_ids.append(run_id_n)\n",
    "\n",
    "    ta, taa, run_id_a =  insert_data('array', size, nreps=nreps)\n",
    "    t_array.append(ta)\n",
    "    t_array_add.append(taa)\n",
    "    t_array_run_ids.append(run_id_a)"
   ]
  },
  {
   "cell_type": "code",
   "execution_count": 8,
   "metadata": {
    "scrolled": true
   },
   "outputs": [
    {
     "data": {
      "image/png": "[encoded data removed]",
      "text/plain": [
       "<Figure size 432x288 with 1 Axes>"
      ]
     },
     "metadata": {
      "needs_background": "light"
     },
     "output_type": "display_data"
    }
   ],
   "source": [
    "fig, ax = plt.subplots(1,1)\n",
    "ax.plot(sizes, t_numeric, 'o-', label='Inserting row-by-row')\n",
    "ax.plot(sizes, t_numeric_add, 'o-', label='Inserting row-by-row: add_result only')\n",
    "ax.plot(sizes, t_array, 'd-', label='Inserting as binary blob')\n",
    "ax.plot(sizes, t_array_add, 'd-', label='Inserting as binary blob: add_result only')\n",
    "ax.legend()\n",
    "ax.set_xlabel('Array length')\n",
    "ax.set_ylabel('Time (s)')\n",
    "fig.tight_layout()"
   ]
  },
  {
   "cell_type": "markdown",
   "metadata": {},
   "source": [
    "However, as we increase the length of the experiment, as seen here by repeating the insertion 100 times, we see a big difference between inserting values of the data row-by-row and inserting it as a binary blob."
   ]
  },
  {
   "cell_type": "markdown",
   "metadata": {},
   "source": [
    "## Loading the data "
   ]
  },
  {
   "cell_type": "code",
   "execution_count": 9,
   "metadata": {},
   "outputs": [],
   "source": [
    "from qcodes.dataset.data_set import load_by_id\n",
    "from qcodes.dataset.data_export import get_data_by_id"
   ]
  },
  {
   "cell_type": "markdown",
   "metadata": {},
   "source": [
    "As usual you can load the data by using the ``load_by_id`` function but you will notice that the different storage methods\n",
    "are reflected in shape of the data as it is retrieved. "
   ]
  },
  {
   "cell_type": "code",
   "execution_count": 10,
   "metadata": {},
   "outputs": [],
   "source": [
    "run_id_n = t_numeric_run_ids[0]\n",
    "run_id_a = t_array_run_ids[0]"
   ]
  },
  {
   "cell_type": "code",
   "execution_count": 11,
   "metadata": {
    "scrolled": true
   },
   "outputs": [
    {
     "data": {
      "text/plain": [
       "{'x1': {'x1': array([0.30454736, 0.30454736, 0.93962377, 0.93962377, 0.20192923,\n",
       "         0.20192923, 0.20394044, 0.20394044, 0.52965449, 0.52965449,\n",
       "         0.07215245, 0.07215245, 0.93651472, 0.93651472, 0.28262595,\n",
       "         0.28262595, 0.03521809, 0.03521809, 0.65019895, 0.65019895,\n",
       "         0.54214878, 0.54214878, 0.92816016, 0.92816016, 0.87467564,\n",
       "         0.87467564, 0.13930128, 0.13930128, 0.93428064, 0.93428064,\n",
       "         0.87293021, 0.87293021, 0.78232793, 0.78232793, 0.06134563,\n",
       "         0.06134563, 0.11694761, 0.11694761, 0.7694921 , 0.7694921 ,\n",
       "         0.76168052, 0.76168052, 0.92558946, 0.92558946, 0.39934108,\n",
       "         0.39934108, 0.91085913, 0.91085913, 0.04186578, 0.04186578,\n",
       "         0.13305482, 0.13305482, 0.15519214, 0.15519214, 0.23929791,\n",
       "         0.23929791, 0.73156207, 0.73156207, 0.15236709, 0.15236709,\n",
       "         0.7580606 , 0.7580606 , 0.98600763, 0.98600763, 0.71330868,\n",
       "         0.71330868, 0.3932314 , 0.3932314 , 0.96140065, 0.96140065,\n",
       "         0.86467328, 0.86467328, 0.92788114, 0.92788114, 0.70840863,\n",
       "         0.70840863, 0.5354462 , 0.5354462 , 0.49535066, 0.49535066,\n",
       "         0.42906214, 0.42906214, 0.86434341, 0.86434341, 0.92809305,\n",
       "         0.92809305, 0.28522115, 0.28522115, 0.70519963, 0.70519963,\n",
       "         0.72726497, 0.72726497, 0.04010675, 0.04010675, 0.73914892,\n",
       "         0.73914892, 0.90450322, 0.90450322, 0.83198091, 0.83198091,\n",
       "         0.32631261, 0.32631261, 0.70541454, 0.70541454, 0.11019094,\n",
       "         0.11019094, 0.17115845, 0.17115845, 0.97438624, 0.97438624,\n",
       "         0.27373801, 0.27373801, 0.83513391, 0.83513391, 0.01862524,\n",
       "         0.01862524, 0.73430274, 0.73430274, 0.14932651, 0.14932651,\n",
       "         0.31507981, 0.31507981, 0.01212745, 0.01212745, 0.83385686,\n",
       "         0.83385686, 0.06659725, 0.06659725, 0.25934315, 0.25934315,\n",
       "         0.82794588, 0.82794588, 0.01440925, 0.01440925, 0.4301815 ,\n",
       "         0.4301815 , 0.16838313, 0.16838313, 0.51534792, 0.51534792,\n",
       "         0.39914973, 0.39914973, 0.79058095, 0.79058095, 0.59484798,\n",
       "         0.59484798, 0.47522289, 0.47522289, 0.43699908, 0.43699908,\n",
       "         0.45350701, 0.45350701, 0.1808761 , 0.1808761 , 0.6324152 ,\n",
       "         0.6324152 , 0.28972907, 0.28972907, 0.36669531, 0.36669531,\n",
       "         0.45446031, 0.45446031, 0.64197226, 0.64197226, 0.89293843,\n",
       "         0.89293843, 0.02336226, 0.02336226, 0.01644149, 0.01644149,\n",
       "         0.66039528, 0.66039528, 0.01215028, 0.01215028, 0.87326914,\n",
       "         0.87326914, 0.74786974, 0.74786974, 0.82027932, 0.82027932,\n",
       "         0.92856902, 0.92856902, 0.89230273, 0.89230273, 0.76806519,\n",
       "         0.76806519, 0.46285057, 0.46285057, 0.58653957, 0.58653957,\n",
       "         0.37532693, 0.37532693, 0.73763922, 0.73763922, 0.59984378,\n",
       "         0.59984378, 0.40491237, 0.40491237, 0.71765922, 0.71765922])}}"
      ]
     },
     "execution_count": 11,
     "metadata": {},
     "output_type": "execute_result"
    }
   ],
   "source": [
    "ds = load_by_id(run_id_n)\n",
    "ds.get_parameter_data('x1')"
   ]
  },
  {
   "cell_type": "markdown",
   "metadata": {},
   "source": [
    "And a dataset stored as binary arrays"
   ]
  },
  {
   "cell_type": "code",
   "execution_count": 12,
   "metadata": {
    "scrolled": true
   },
   "outputs": [
    {
     "data": {
      "text/plain": [
       "{'x1': {'x1': array([[0.83591167],\n",
       "         [0.83591167],\n",
       "         [0.30533019],\n",
       "         [0.30533019],\n",
       "         [0.97816599],\n",
       "         [0.97816599],\n",
       "         [0.47883826],\n",
       "         [0.47883826],\n",
       "         [0.3730609 ],\n",
       "         [0.3730609 ],\n",
       "         [0.96346769],\n",
       "         [0.96346769],\n",
       "         [0.5821903 ],\n",
       "         [0.5821903 ],\n",
       "         [0.52542629],\n",
       "         [0.52542629],\n",
       "         [0.04997995],\n",
       "         [0.04997995],\n",
       "         [0.80952357],\n",
       "         [0.80952357],\n",
       "         [0.36151536],\n",
       "         [0.36151536],\n",
       "         [0.57675096],\n",
       "         [0.57675096],\n",
       "         [0.18910055],\n",
       "         [0.18910055],\n",
       "         [0.97351143],\n",
       "         [0.97351143],\n",
       "         [0.72832192],\n",
       "         [0.72832192],\n",
       "         [0.76663816],\n",
       "         [0.76663816],\n",
       "         [0.81008783],\n",
       "         [0.81008783],\n",
       "         [0.31778942],\n",
       "         [0.31778942],\n",
       "         [0.36038585],\n",
       "         [0.36038585],\n",
       "         [0.02900138],\n",
       "         [0.02900138],\n",
       "         [0.70383476],\n",
       "         [0.70383476],\n",
       "         [0.96844408],\n",
       "         [0.96844408],\n",
       "         [0.49781613],\n",
       "         [0.49781613],\n",
       "         [0.52347325],\n",
       "         [0.52347325],\n",
       "         [0.41629053],\n",
       "         [0.41629053],\n",
       "         [0.54626766],\n",
       "         [0.54626766],\n",
       "         [0.47734031],\n",
       "         [0.47734031],\n",
       "         [0.94744176],\n",
       "         [0.94744176],\n",
       "         [0.7934079 ],\n",
       "         [0.7934079 ],\n",
       "         [0.52960849],\n",
       "         [0.52960849],\n",
       "         [0.33850692],\n",
       "         [0.33850692],\n",
       "         [0.51277048],\n",
       "         [0.51277048],\n",
       "         [0.4583034 ],\n",
       "         [0.4583034 ],\n",
       "         [0.12200384],\n",
       "         [0.12200384],\n",
       "         [0.69864561],\n",
       "         [0.69864561],\n",
       "         [0.85176852],\n",
       "         [0.85176852],\n",
       "         [0.74425831],\n",
       "         [0.74425831],\n",
       "         [0.07907813],\n",
       "         [0.07907813],\n",
       "         [0.90903733],\n",
       "         [0.90903733],\n",
       "         [0.73927434],\n",
       "         [0.73927434],\n",
       "         [0.16124126],\n",
       "         [0.16124126],\n",
       "         [0.21493249],\n",
       "         [0.21493249],\n",
       "         [0.85489705],\n",
       "         [0.85489705],\n",
       "         [0.99162173],\n",
       "         [0.99162173],\n",
       "         [0.31407386],\n",
       "         [0.31407386],\n",
       "         [0.76095688],\n",
       "         [0.76095688],\n",
       "         [0.86844763],\n",
       "         [0.86844763],\n",
       "         [0.15813512],\n",
       "         [0.15813512],\n",
       "         [0.88466182],\n",
       "         [0.88466182],\n",
       "         [0.52869292],\n",
       "         [0.52869292],\n",
       "         [0.57465172],\n",
       "         [0.57465172],\n",
       "         [0.35473325],\n",
       "         [0.35473325],\n",
       "         [0.4252119 ],\n",
       "         [0.4252119 ],\n",
       "         [0.78058948],\n",
       "         [0.78058948],\n",
       "         [0.09130955],\n",
       "         [0.09130955],\n",
       "         [0.27534886],\n",
       "         [0.27534886],\n",
       "         [0.82597808],\n",
       "         [0.82597808],\n",
       "         [0.49484953],\n",
       "         [0.49484953],\n",
       "         [0.49831119],\n",
       "         [0.49831119],\n",
       "         [0.540681  ],\n",
       "         [0.540681  ],\n",
       "         [0.23767394],\n",
       "         [0.23767394],\n",
       "         [0.39737533],\n",
       "         [0.39737533],\n",
       "         [0.81827923],\n",
       "         [0.81827923],\n",
       "         [0.63598934],\n",
       "         [0.63598934],\n",
       "         [0.29969128],\n",
       "         [0.29969128],\n",
       "         [0.97092116],\n",
       "         [0.97092116],\n",
       "         [0.63723889],\n",
       "         [0.63723889],\n",
       "         [0.615975  ],\n",
       "         [0.615975  ],\n",
       "         [0.85833464],\n",
       "         [0.85833464],\n",
       "         [0.40451563],\n",
       "         [0.40451563],\n",
       "         [0.01134791],\n",
       "         [0.01134791],\n",
       "         [0.68567471],\n",
       "         [0.68567471],\n",
       "         [0.08645408],\n",
       "         [0.08645408],\n",
       "         [0.19488873],\n",
       "         [0.19488873],\n",
       "         [0.2230337 ],\n",
       "         [0.2230337 ],\n",
       "         [0.9049998 ],\n",
       "         [0.9049998 ],\n",
       "         [0.88238708],\n",
       "         [0.88238708],\n",
       "         [0.34155855],\n",
       "         [0.34155855],\n",
       "         [0.03206958],\n",
       "         [0.03206958],\n",
       "         [0.64179014],\n",
       "         [0.64179014],\n",
       "         [0.41323354],\n",
       "         [0.41323354],\n",
       "         [0.15677798],\n",
       "         [0.15677798],\n",
       "         [0.27463986],\n",
       "         [0.27463986],\n",
       "         [0.45147265],\n",
       "         [0.45147265],\n",
       "         [0.73626218],\n",
       "         [0.73626218],\n",
       "         [0.69759757],\n",
       "         [0.69759757],\n",
       "         [0.20180059],\n",
       "         [0.20180059],\n",
       "         [0.20329268],\n",
       "         [0.20329268],\n",
       "         [0.22803693],\n",
       "         [0.22803693],\n",
       "         [0.56598968],\n",
       "         [0.56598968],\n",
       "         [0.07085693],\n",
       "         [0.07085693],\n",
       "         [0.87868151],\n",
       "         [0.87868151],\n",
       "         [0.00272492],\n",
       "         [0.00272492],\n",
       "         [0.48087504],\n",
       "         [0.48087504],\n",
       "         [0.53241875],\n",
       "         [0.53241875],\n",
       "         [0.87881059],\n",
       "         [0.87881059],\n",
       "         [0.69299587],\n",
       "         [0.69299587],\n",
       "         [0.55321375],\n",
       "         [0.55321375],\n",
       "         [0.63799302],\n",
       "         [0.63799302],\n",
       "         [0.13711246],\n",
       "         [0.13711246]])}}"
      ]
     },
     "execution_count": 12,
     "metadata": {},
     "output_type": "execute_result"
    }
   ],
   "source": [
    "ds = load_by_id(run_id_a)\n",
    "ds.get_parameter_data('x1')"
   ]
  },
  {
   "cell_type": "code",
   "execution_count": null,
   "metadata": {},
   "outputs": [],
   "source": []
  }
 ],
 "metadata": {
  "kernelspec": {
   "display_name": "Python 3",
   "language": "python",
   "name": "python3"
  },
  "language_info": {
   "codemirror_mode": {
    "name": "ipython",
    "version": 3
   },
   "file_extension": ".py",
   "mimetype": "text/x-python",
   "name": "python",
   "nbconvert_exporter": "python",
   "pygments_lexer": "ipython3",
   "version": "3.7.7"
  },
  "nbsphinx": {
   "timeout": 600
  },
  "toc": {
   "base_numbering": 1,
   "nav_menu": {},
   "number_sections": true,
   "sideBar": true,
   "skip_h1_title": false,
   "title_cell": "Table of Contents",
   "title_sidebar": "Contents",
   "toc_cell": false,
   "toc_position": {},
   "toc_section_display": true,
   "toc_window_display": false
  },
  "varInspector": {
   "cols": {
    "lenName": 16,
    "lenType": 16,
    "lenVar": 40
   },
   "kernels_config": {
    "python": {
     "delete_cmd_postfix": "",
     "delete_cmd_prefix": "del ",
     "library": "var_list.py",
     "varRefreshCmd": "print(var_dic_list())"
    },
    "r": {
     "delete_cmd_postfix": ") ",
     "delete_cmd_prefix": "rm(",
     "library": "var_list.r",
     "varRefreshCmd": "cat(var_dic_list()) "
    }
   },
   "types_to_exclude": [
    "module",
    "function",
    "builtin_function_or_method",
    "instance",
    "_Feature"
   ],
   "window_display": false
  }
 },
 "nbformat": 4,
 "nbformat_minor": 2
}
