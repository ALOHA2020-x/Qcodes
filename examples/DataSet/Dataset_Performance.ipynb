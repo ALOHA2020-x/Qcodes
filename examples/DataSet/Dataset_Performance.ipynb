{
 "cells": [
  {
   "cell_type": "markdown",
   "metadata": {},
   "source": [
    "# DataSet Performance\n",
    "\n",
    "This notebook shows the trade-off between inserting data into a database row-by-row and as binary blobs. Inserting the data row-by-row means that we have direct access to all the data and may perform queries directly on the values of the data. On the other hand, as we shall see, this is much slower than inserting the data directly as binary blobs."
   ]
  },
  {
   "cell_type": "markdown",
   "metadata": {},
   "source": [
    "First, we choose a new location for the database to ensure that we don't add a bunch of benchmarking data to the default one."
   ]
  },
  {
   "cell_type": "code",
   "execution_count": 1,
   "metadata": {
    "execution": {
     "iopub.execute_input": "2020-10-06T08:15:16.110475Z",
     "iopub.status.busy": "2020-10-06T08:15:16.109851Z",
     "iopub.status.idle": "2020-10-06T08:15:17.097672Z",
     "shell.execute_reply": "2020-10-06T08:15:17.096946Z"
    }
   },
   "outputs": [
    {
     "name": "stdout",
     "output_type": "stream",
     "text": [
      "Logging hadn't been started.\n",
      "Activating auto-logging. Current session state plus future input saved.\n",
      "Filename       : /home/vsts/.qcodes/logs/command_history.log\n",
      "Mode           : append\n",
      "Output logging : True\n",
      "Raw input log  : False\n",
      "Timestamping   : True\n",
      "State          : active\n"
     ]
    },
    {
     "name": "stdout",
     "output_type": "stream",
     "text": [
      "Qcodes Logfile : /home/vsts/.qcodes/logs/201006-18702-qcodes.log\n"
     ]
    }
   ],
   "source": [
    "import os\n",
    "cwd = os.getcwd()\n",
    "import qcodes as qc\n",
    "qc.config[\"core\"][\"db_location\"] = os.path.join(cwd, 'testing.db')\n"
   ]
  },
  {
   "cell_type": "code",
   "execution_count": 2,
   "metadata": {
    "execution": {
     "iopub.execute_input": "2020-10-06T08:15:17.102862Z",
     "iopub.status.busy": "2020-10-06T08:15:17.102056Z",
     "iopub.status.idle": "2020-10-06T08:15:17.281614Z",
     "shell.execute_reply": "2020-10-06T08:15:17.280780Z"
    }
   },
   "outputs": [],
   "source": [
    "%matplotlib inline\n",
    "import time\n",
    "import matplotlib.pyplot as plt\n",
    "import numpy as np\n",
    "\n",
    "import qcodes as qc\n",
    "from qcodes.instrument.parameter import ManualParameter\n",
    "from qcodes.dataset.experiment_container import (Experiment,\n",
    "                                                 load_last_experiment,\n",
    "                                                 new_experiment)\n",
    "from qcodes.dataset.sqlite.database import initialise_database\n",
    "from qcodes import load_or_create_experiment\n",
    "from qcodes.dataset.measurements import Measurement"
   ]
  },
  {
   "cell_type": "code",
   "execution_count": 3,
   "metadata": {
    "execution": {
     "iopub.execute_input": "2020-10-06T08:15:17.285899Z",
     "iopub.status.busy": "2020-10-06T08:15:17.285180Z",
     "iopub.status.idle": "2020-10-06T08:15:17.394579Z",
     "shell.execute_reply": "2020-10-06T08:15:17.395025Z"
    }
   },
   "outputs": [
    {
     "name": "stdout",
     "output_type": "stream",
     "text": [
      "\r",
      "0it [00:00, ?it/s]"
     ]
    },
    {
     "name": "stdout",
     "output_type": "stream",
     "text": [
      "\r",
      "Upgrading database; v0 -> v1: : 0it [00:00, ?it/s]"
     ]
    },
    {
     "name": "stdout",
     "output_type": "stream",
     "text": [
      "\r",
      "Upgrading database; v0 -> v1: : 0it [00:00, ?it/s]"
     ]
    },
    {
     "name": "stdout",
     "output_type": "stream",
     "text": [
      "\n",
      "\r",
      "  0%|          | 0/1 [00:00<?, ?it/s]"
     ]
    },
    {
     "name": "stdout",
     "output_type": "stream",
     "text": [
      "\r",
      "Upgrading database; v1 -> v2:   0%|          | 0/1 [00:00<?, ?it/s]"
     ]
    },
    {
     "name": "stdout",
     "output_type": "stream",
     "text": [
      "\r",
      "Upgrading database; v1 -> v2: 100%|██████████| 1/1 [00:00<00:00, 450.03it/s]"
     ]
    },
    {
     "name": "stdout",
     "output_type": "stream",
     "text": [
      "\n",
      "\r",
      "0it [00:00, ?it/s]"
     ]
    },
    {
     "name": "stdout",
     "output_type": "stream",
     "text": [
      "\r",
      "Upgrading database; v2 -> v3: : 0it [00:00, ?it/s]"
     ]
    },
    {
     "name": "stdout",
     "output_type": "stream",
     "text": [
      "\r",
      "Upgrading database; v2 -> v3: : 0it [00:00, ?it/s]"
     ]
    },
    {
     "name": "stdout",
     "output_type": "stream",
     "text": [
      "\n",
      "\r",
      "0it [00:00, ?it/s]"
     ]
    },
    {
     "name": "stdout",
     "output_type": "stream",
     "text": [
      "\r",
      "Upgrading database; v3 -> v4: : 0it [00:00, ?it/s]"
     ]
    },
    {
     "name": "stdout",
     "output_type": "stream",
     "text": [
      "\r",
      "Upgrading database; v3 -> v4: : 0it [00:00, ?it/s]"
     ]
    },
    {
     "name": "stdout",
     "output_type": "stream",
     "text": [
      "\n",
      "\r",
      "  0%|          | 0/1 [00:00<?, ?it/s]"
     ]
    },
    {
     "name": "stdout",
     "output_type": "stream",
     "text": [
      "\r",
      "Upgrading database; v4 -> v5:   0%|          | 0/1 [00:00<?, ?it/s]"
     ]
    },
    {
     "name": "stdout",
     "output_type": "stream",
     "text": [
      "\r",
      "Upgrading database; v4 -> v5: 100%|██████████| 1/1 [00:00<00:00, 383.81it/s]"
     ]
    },
    {
     "name": "stdout",
     "output_type": "stream",
     "text": [
      "\n",
      "\r",
      "0it [00:00, ?it/s]"
     ]
    },
    {
     "name": "stdout",
     "output_type": "stream",
     "text": [
      "\r",
      "Upgrading database; v5 -> v6: : 0it [00:00, ?it/s]"
     ]
    },
    {
     "name": "stdout",
     "output_type": "stream",
     "text": [
      "\r",
      "Upgrading database; v5 -> v6: : 0it [00:00, ?it/s]"
     ]
    },
    {
     "name": "stdout",
     "output_type": "stream",
     "text": [
      "\n",
      "\r",
      "  0%|          | 0/1 [00:00<?, ?it/s]"
     ]
    },
    {
     "name": "stdout",
     "output_type": "stream",
     "text": [
      "\r",
      "Upgrading database; v6 -> v7:   0%|          | 0/1 [00:00<?, ?it/s]"
     ]
    },
    {
     "name": "stdout",
     "output_type": "stream",
     "text": [
      "\r",
      "Upgrading database; v6 -> v7: 100%|██████████| 1/1 [00:00<00:00, 283.11it/s]"
     ]
    },
    {
     "name": "stdout",
     "output_type": "stream",
     "text": [
      "\n",
      "\r",
      "  0%|          | 0/1 [00:00<?, ?it/s]"
     ]
    },
    {
     "name": "stdout",
     "output_type": "stream",
     "text": [
      "\r",
      "Upgrading database; v7 -> v8:   0%|          | 0/1 [00:00<?, ?it/s]"
     ]
    },
    {
     "name": "stdout",
     "output_type": "stream",
     "text": [
      "\r",
      "Upgrading database; v7 -> v8: 100%|██████████| 1/1 [00:00<00:00, 501.05it/s]"
     ]
    },
    {
     "name": "stdout",
     "output_type": "stream",
     "text": [
      "\n",
      "\r",
      "  0%|          | 0/1 [00:00<?, ?it/s]"
     ]
    },
    {
     "name": "stdout",
     "output_type": "stream",
     "text": [
      "\r",
      "Upgrading database; v8 -> v9:   0%|          | 0/1 [00:00<?, ?it/s]"
     ]
    },
    {
     "name": "stdout",
     "output_type": "stream",
     "text": [
      "\r",
      "Upgrading database; v8 -> v9: 100%|██████████| 1/1 [00:00<00:00, 463.46it/s]"
     ]
    },
    {
     "name": "stdout",
     "output_type": "stream",
     "text": [
      "\n"
     ]
    }
   ],
   "source": [
    "initialise_database()\n",
    "exp = load_or_create_experiment(experiment_name='tutorial_exp', sample_name=\"no sample\")"
   ]
  },
  {
   "cell_type": "markdown",
   "metadata": {},
   "source": [
    "Here, we define a simple function to benchmark the time it takes to insert n points with either numeric or array data type.\n",
    "We will compare both the time used to call ``add_result`` and the time used for the full measurement."
   ]
  },
  {
   "cell_type": "code",
   "execution_count": 4,
   "metadata": {
    "execution": {
     "iopub.execute_input": "2020-10-06T08:15:17.402916Z",
     "iopub.status.busy": "2020-10-06T08:15:17.402361Z",
     "iopub.status.idle": "2020-10-06T08:15:17.405978Z",
     "shell.execute_reply": "2020-10-06T08:15:17.405411Z"
    }
   },
   "outputs": [],
   "source": [
    "def insert_data(paramtype, npoints, nreps=1):\n",
    "\n",
    "    meas = Measurement(exp=exp)\n",
    "\n",
    "    x1 = ManualParameter('x1')\n",
    "    x2 = ManualParameter('x2')\n",
    "    x3 = ManualParameter('x3')\n",
    "    y1 = ManualParameter('y1')\n",
    "    y2 = ManualParameter('y2')\n",
    "\n",
    "    meas.register_parameter(x1, paramtype=paramtype)\n",
    "    meas.register_parameter(x2, paramtype=paramtype)\n",
    "    meas.register_parameter(x3, paramtype=paramtype)\n",
    "    meas.register_parameter(y1, setpoints=[x1, x2, x3],\n",
    "                            paramtype=paramtype)\n",
    "    meas.register_parameter(y2, setpoints=[x1, x2, x3],\n",
    "                            paramtype=paramtype)\n",
    "    start = time.perf_counter()\n",
    "    with meas.run() as datasaver:\n",
    "        start_adding = time.perf_counter()\n",
    "        for i in range(nreps):\n",
    "            datasaver.add_result((x1, np.random.rand(npoints)),\n",
    "                                 (x2, np.random.rand(npoints)),\n",
    "                                 (x3, np.random.rand(npoints)),\n",
    "                                 (y1, np.random.rand(npoints)),\n",
    "                                 (y2, np.random.rand(npoints)))\n",
    "        stop_adding = time.perf_counter()\n",
    "        run_id = datasaver.run_id\n",
    "    stop = time.perf_counter()\n",
    "    tot_time = stop - start\n",
    "    add_time = stop_adding - start_adding\n",
    "    return tot_time, add_time, run_id"
   ]
  },
  {
   "cell_type": "markdown",
   "metadata": {},
   "source": [
    "## Comparison between numeric/array data and binary blob"
   ]
  },
  {
   "cell_type": "markdown",
   "metadata": {},
   "source": [
    "### Case1: Short experiment time"
   ]
  },
  {
   "cell_type": "code",
   "execution_count": 5,
   "metadata": {
    "execution": {
     "iopub.execute_input": "2020-10-06T08:15:17.411776Z",
     "iopub.status.busy": "2020-10-06T08:15:17.411003Z",
     "iopub.status.idle": "2020-10-06T08:15:18.229021Z",
     "shell.execute_reply": "2020-10-06T08:15:18.229531Z"
    }
   },
   "outputs": [
    {
     "name": "stdout",
     "output_type": "stream",
     "text": [
      "Starting experimental run with id: 1. \n",
      "Starting experimental run with id: 2. \n",
      "Starting experimental run with id: 3. \n",
      "Starting experimental run with id: 4. \n",
      "Starting experimental run with id: 5. \n"
     ]
    },
    {
     "name": "stdout",
     "output_type": "stream",
     "text": [
      "Starting experimental run with id: 6. \n"
     ]
    },
    {
     "name": "stdout",
     "output_type": "stream",
     "text": [
      "Starting experimental run with id: 7. \n"
     ]
    },
    {
     "name": "stdout",
     "output_type": "stream",
     "text": [
      "Starting experimental run with id: 8. \n",
      "Starting experimental run with id: 9. \n"
     ]
    },
    {
     "name": "stdout",
     "output_type": "stream",
     "text": [
      "Starting experimental run with id: 10. \n",
      "Starting experimental run with id: 11. \n"
     ]
    },
    {
     "name": "stdout",
     "output_type": "stream",
     "text": [
      "Starting experimental run with id: 12. \n",
      "Starting experimental run with id: 13. \n"
     ]
    },
    {
     "name": "stdout",
     "output_type": "stream",
     "text": [
      "Starting experimental run with id: 14. \n"
     ]
    }
   ],
   "source": [
    "sizes = [1,500,1000,2000,3000,4000,5000]\n",
    "t_numeric = []\n",
    "t_numeric_add = []\n",
    "t_array = []\n",
    "t_array_add = []\n",
    "for size in sizes:\n",
    "    tn, tna, run_id_n =  insert_data('numeric', size)\n",
    "    t_numeric.append(tn)\n",
    "    t_numeric_add.append(tna)\n",
    "\n",
    "    ta, taa, run_id_a =  insert_data('array', size)\n",
    "    t_array.append(ta)\n",
    "    t_array_add.append(taa)"
   ]
  },
  {
   "cell_type": "code",
   "execution_count": 6,
   "metadata": {
    "execution": {
     "iopub.execute_input": "2020-10-06T08:15:18.249051Z",
     "iopub.status.busy": "2020-10-06T08:15:18.248506Z",
     "iopub.status.idle": "2020-10-06T08:15:18.443339Z",
     "shell.execute_reply": "2020-10-06T08:15:18.443773Z"
    }
   },
   "outputs": [
    {
     "data": {
      "image/png": "[encoded data removed]",
      "text/plain": [
       "<Figure size 432x288 with 1 Axes>"
      ]
     },
     "metadata": {
      "needs_background": "light"
     },
     "output_type": "display_data"
    }
   ],
   "source": [
    "fig, ax = plt.subplots(1,1)\n",
    "ax.plot(sizes, t_numeric, 'o-', label='Inserting row-by-row')\n",
    "ax.plot(sizes, t_numeric_add, 'o-', label='Inserting row-by-row: add_result only')\n",
    "ax.plot(sizes, t_array, 'd-', label='Inserting as binary blob')\n",
    "ax.plot(sizes, t_array_add, 'd-', label='Inserting as binary blob: add_result only')\n",
    "ax.legend()\n",
    "ax.set_xlabel('Array length')\n",
    "ax.set_ylabel('Time (s)')\n",
    "fig.tight_layout()"
   ]
  },
  {
   "cell_type": "markdown",
   "metadata": {},
   "source": [
    "As shown in the latter figure, the time to setup and and close the experiment is approximately 0.4 sec. In case of small array sizes, the difference between inserting values of data as arrays and inserting them row-by-row is relatively unimportant. At larger array sizes, i.e. above 10000 points, the cost of writing data as individual datapoints starts to become important.\n"
   ]
  },
  {
   "cell_type": "markdown",
   "metadata": {},
   "source": [
    "### Case2: Long experiment time "
   ]
  },
  {
   "cell_type": "code",
   "execution_count": 7,
   "metadata": {
    "execution": {
     "iopub.execute_input": "2020-10-06T08:15:18.450239Z",
     "iopub.status.busy": "2020-10-06T08:15:18.449452Z",
     "iopub.status.idle": "2020-10-06T08:16:13.076441Z",
     "shell.execute_reply": "2020-10-06T08:16:13.075309Z"
    }
   },
   "outputs": [
    {
     "name": "stdout",
     "output_type": "stream",
     "text": [
      "Starting experimental run with id: 15. \n",
      "Starting experimental run with id: 16. \n",
      "Starting experimental run with id: 17. \n"
     ]
    },
    {
     "name": "stdout",
     "output_type": "stream",
     "text": [
      "Starting experimental run with id: 18. \n",
      "Starting experimental run with id: 19. \n"
     ]
    },
    {
     "name": "stdout",
     "output_type": "stream",
     "text": [
      "Starting experimental run with id: 20. \n"
     ]
    },
    {
     "name": "stdout",
     "output_type": "stream",
     "text": [
      "Starting experimental run with id: 21. \n"
     ]
    },
    {
     "name": "stdout",
     "output_type": "stream",
     "text": [
      "Starting experimental run with id: 22. \n"
     ]
    },
    {
     "name": "stdout",
     "output_type": "stream",
     "text": [
      "Starting experimental run with id: 23. \n"
     ]
    },
    {
     "name": "stdout",
     "output_type": "stream",
     "text": [
      "Starting experimental run with id: 24. \n"
     ]
    },
    {
     "name": "stdout",
     "output_type": "stream",
     "text": [
      "Starting experimental run with id: 25. \n"
     ]
    },
    {
     "name": "stdout",
     "output_type": "stream",
     "text": [
      "Starting experimental run with id: 26. \n"
     ]
    },
    {
     "name": "stdout",
     "output_type": "stream",
     "text": [
      "Starting experimental run with id: 27. \n"
     ]
    },
    {
     "name": "stdout",
     "output_type": "stream",
     "text": [
      "Starting experimental run with id: 28. \n"
     ]
    }
   ],
   "source": [
    "sizes = [1,500,1000,2000,3000,4000,5000]\n",
    "nreps = 100\n",
    "t_numeric = []\n",
    "t_numeric_add = []\n",
    "t_numeric_run_ids = []\n",
    "t_array = []\n",
    "t_array_add = []\n",
    "t_array_run_ids = []\n",
    "for size in sizes:\n",
    "    tn, tna, run_id_n =  insert_data('numeric', size, nreps=nreps)\n",
    "    t_numeric.append(tn)\n",
    "    t_numeric_add.append(tna)\n",
    "    t_numeric_run_ids.append(run_id_n)\n",
    "\n",
    "    ta, taa, run_id_a =  insert_data('array', size, nreps=nreps)\n",
    "    t_array.append(ta)\n",
    "    t_array_add.append(taa)\n",
    "    t_array_run_ids.append(run_id_a)"
   ]
  },
  {
   "cell_type": "code",
   "execution_count": 8,
   "metadata": {
    "execution": {
     "iopub.execute_input": "2020-10-06T08:16:13.097164Z",
     "iopub.status.busy": "2020-10-06T08:16:13.096419Z",
     "iopub.status.idle": "2020-10-06T08:16:13.306096Z",
     "shell.execute_reply": "2020-10-06T08:16:13.305617Z"
    },
    "scrolled": true
   },
   "outputs": [
    {
     "data": {
      "image/png": "[encoded data removed]",
      "text/plain": [
       "<Figure size 432x288 with 1 Axes>"
      ]
     },
     "metadata": {
      "needs_background": "light"
     },
     "output_type": "display_data"
    }
   ],
   "source": [
    "fig, ax = plt.subplots(1,1)\n",
    "ax.plot(sizes, t_numeric, 'o-', label='Inserting row-by-row')\n",
    "ax.plot(sizes, t_numeric_add, 'o-', label='Inserting row-by-row: add_result only')\n",
    "ax.plot(sizes, t_array, 'd-', label='Inserting as binary blob')\n",
    "ax.plot(sizes, t_array_add, 'd-', label='Inserting as binary blob: add_result only')\n",
    "ax.legend()\n",
    "ax.set_xlabel('Array length')\n",
    "ax.set_ylabel('Time (s)')\n",
    "fig.tight_layout()"
   ]
  },
  {
   "cell_type": "markdown",
   "metadata": {},
   "source": [
    "However, as we increase the length of the experiment, as seen here by repeating the insertion 100 times, we see a big difference between inserting values of the data row-by-row and inserting it as a binary blob."
   ]
  },
  {
   "cell_type": "markdown",
   "metadata": {},
   "source": [
    "## Loading the data "
   ]
  },
  {
   "cell_type": "code",
   "execution_count": 9,
   "metadata": {
    "execution": {
     "iopub.execute_input": "2020-10-06T08:16:13.310250Z",
     "iopub.status.busy": "2020-10-06T08:16:13.309700Z",
     "iopub.status.idle": "2020-10-06T08:16:13.311803Z",
     "shell.execute_reply": "2020-10-06T08:16:13.312230Z"
    }
   },
   "outputs": [],
   "source": [
    "from qcodes.dataset.data_set import load_by_id\n",
    "from qcodes.dataset.data_export import get_data_by_id"
   ]
  },
  {
   "cell_type": "markdown",
   "metadata": {},
   "source": [
    "As usual you can load the data by using the ``load_by_id`` function but you will notice that the different storage methods\n",
    "are reflected in shape of the data as it is retrieved. "
   ]
  },
  {
   "cell_type": "code",
   "execution_count": 10,
   "metadata": {
    "execution": {
     "iopub.execute_input": "2020-10-06T08:16:13.316685Z",
     "iopub.status.busy": "2020-10-06T08:16:13.315257Z",
     "iopub.status.idle": "2020-10-06T08:16:13.317245Z",
     "shell.execute_reply": "2020-10-06T08:16:13.317777Z"
    }
   },
   "outputs": [],
   "source": [
    "run_id_n = t_numeric_run_ids[0]\n",
    "run_id_a = t_array_run_ids[0]"
   ]
  },
  {
   "cell_type": "code",
   "execution_count": 11,
   "metadata": {
    "execution": {
     "iopub.execute_input": "2020-10-06T08:16:13.320918Z",
     "iopub.status.busy": "2020-10-06T08:16:13.320393Z",
     "iopub.status.idle": "2020-10-06T08:16:13.328925Z",
     "shell.execute_reply": "2020-10-06T08:16:13.328456Z"
    },
    "scrolled": true
   },
   "outputs": [
    {
     "data": {
      "text/plain": [
       "{'x1': {'x1': array([0.02046433, 0.02046433, 0.35536566, 0.35536566, 0.65141089,\n",
       "         0.65141089, 0.05520791, 0.05520791, 0.62217687, 0.62217687,\n",
       "         0.38064646, 0.38064646, 0.61465127, 0.61465127, 0.83833251,\n",
       "         0.83833251, 0.93553456, 0.93553456, 0.26579721, 0.26579721,\n",
       "         0.54990107, 0.54990107, 0.79289442, 0.79289442, 0.23273602,\n",
       "         0.23273602, 0.22683939, 0.22683939, 0.18316881, 0.18316881,\n",
       "         0.19894975, 0.19894975, 0.2652572 , 0.2652572 , 0.99131126,\n",
       "         0.99131126, 0.11880924, 0.11880924, 0.43093259, 0.43093259,\n",
       "         0.06150144, 0.06150144, 0.28949564, 0.28949564, 0.88060663,\n",
       "         0.88060663, 0.14003419, 0.14003419, 0.90722355, 0.90722355,\n",
       "         0.3473182 , 0.3473182 , 0.63259021, 0.63259021, 0.4903375 ,\n",
       "         0.4903375 , 0.55871201, 0.55871201, 0.23918001, 0.23918001,\n",
       "         0.58453152, 0.58453152, 0.92382103, 0.92382103, 0.65441858,\n",
       "         0.65441858, 0.32942792, 0.32942792, 0.24546146, 0.24546146,\n",
       "         0.91041632, 0.91041632, 0.52567404, 0.52567404, 0.08064409,\n",
       "         0.08064409, 0.34529462, 0.34529462, 0.77551391, 0.77551391,\n",
       "         0.86724409, 0.86724409, 0.89190434, 0.89190434, 0.01963221,\n",
       "         0.01963221, 0.30603456, 0.30603456, 0.9011677 , 0.9011677 ,\n",
       "         0.51141554, 0.51141554, 0.50788469, 0.50788469, 0.08028516,\n",
       "         0.08028516, 0.76794819, 0.76794819, 0.91035966, 0.91035966,\n",
       "         0.23737892, 0.23737892, 0.69708053, 0.69708053, 0.50162912,\n",
       "         0.50162912, 0.55965573, 0.55965573, 0.46932145, 0.46932145,\n",
       "         0.30675216, 0.30675216, 0.34783065, 0.34783065, 0.89182766,\n",
       "         0.89182766, 0.72300565, 0.72300565, 0.40160177, 0.40160177,\n",
       "         0.46500292, 0.46500292, 0.00524245, 0.00524245, 0.26861817,\n",
       "         0.26861817, 0.80974872, 0.80974872, 0.57554416, 0.57554416,\n",
       "         0.26825752, 0.26825752, 0.49097982, 0.49097982, 0.55418108,\n",
       "         0.55418108, 0.84758347, 0.84758347, 0.4455717 , 0.4455717 ,\n",
       "         0.60051451, 0.60051451, 0.27755586, 0.27755586, 0.17216726,\n",
       "         0.17216726, 0.50286414, 0.50286414, 0.25137328, 0.25137328,\n",
       "         0.66365039, 0.66365039, 0.43522711, 0.43522711, 0.36596278,\n",
       "         0.36596278, 0.51593896, 0.51593896, 0.78592083, 0.78592083,\n",
       "         0.3635336 , 0.3635336 , 0.04060409, 0.04060409, 0.50414068,\n",
       "         0.50414068, 0.65694622, 0.65694622, 0.75262439, 0.75262439,\n",
       "         0.60318831, 0.60318831, 0.07571496, 0.07571496, 0.44871922,\n",
       "         0.44871922, 0.37805798, 0.37805798, 0.45870924, 0.45870924,\n",
       "         0.18216078, 0.18216078, 0.90646913, 0.90646913, 0.81372551,\n",
       "         0.81372551, 0.89608545, 0.89608545, 0.67915709, 0.67915709,\n",
       "         0.39496338, 0.39496338, 0.06889052, 0.06889052, 0.47832908,\n",
       "         0.47832908, 0.98305453, 0.98305453, 0.15829214, 0.15829214])}}"
      ]
     },
     "execution_count": 1,
     "metadata": {},
     "output_type": "execute_result"
    }
   ],
   "source": [
    "ds = load_by_id(run_id_n)\n",
    "ds.get_parameter_data('x1')"
   ]
  },
  {
   "cell_type": "markdown",
   "metadata": {},
   "source": [
    "And a dataset stored as binary arrays"
   ]
  },
  {
   "cell_type": "code",
   "execution_count": 12,
   "metadata": {
    "execution": {
     "iopub.execute_input": "2020-10-06T08:16:13.332361Z",
     "iopub.status.busy": "2020-10-06T08:16:13.331638Z",
     "iopub.status.idle": "2020-10-06T08:16:13.387781Z",
     "shell.execute_reply": "2020-10-06T08:16:13.387225Z"
    },
    "scrolled": true
   },
   "outputs": [
    {
     "data": {
      "text/plain": [
       "{'x1': {'x1': array([[0.45514004],\n",
       "         [0.45514004],\n",
       "         [0.19418013],\n",
       "         [0.19418013],\n",
       "         [0.97739667],\n",
       "         [0.97739667],\n",
       "         [0.8235801 ],\n",
       "         [0.8235801 ],\n",
       "         [0.73895662],\n",
       "         [0.73895662],\n",
       "         [0.54170234],\n",
       "         [0.54170234],\n",
       "         [0.84147255],\n",
       "         [0.84147255],\n",
       "         [0.46762268],\n",
       "         [0.46762268],\n",
       "         [0.25701243],\n",
       "         [0.25701243],\n",
       "         [0.64210123],\n",
       "         [0.64210123],\n",
       "         [0.66689959],\n",
       "         [0.66689959],\n",
       "         [0.53938951],\n",
       "         [0.53938951],\n",
       "         [0.44153971],\n",
       "         [0.44153971],\n",
       "         [0.86262329],\n",
       "         [0.86262329],\n",
       "         [0.12746004],\n",
       "         [0.12746004],\n",
       "         [0.24371577],\n",
       "         [0.24371577],\n",
       "         [0.64705546],\n",
       "         [0.64705546],\n",
       "         [0.19056717],\n",
       "         [0.19056717],\n",
       "         [0.14813001],\n",
       "         [0.14813001],\n",
       "         [0.94978245],\n",
       "         [0.94978245],\n",
       "         [0.39574004],\n",
       "         [0.39574004],\n",
       "         [0.09367362],\n",
       "         [0.09367362],\n",
       "         [0.17481222],\n",
       "         [0.17481222],\n",
       "         [0.80660652],\n",
       "         [0.80660652],\n",
       "         [0.53062639],\n",
       "         [0.53062639],\n",
       "         [0.71620516],\n",
       "         [0.71620516],\n",
       "         [0.32608397],\n",
       "         [0.32608397],\n",
       "         [0.12739502],\n",
       "         [0.12739502],\n",
       "         [0.67862839],\n",
       "         [0.67862839],\n",
       "         [0.27728294],\n",
       "         [0.27728294],\n",
       "         [0.51740292],\n",
       "         [0.51740292],\n",
       "         [0.97264868],\n",
       "         [0.97264868],\n",
       "         [0.77467899],\n",
       "         [0.77467899],\n",
       "         [0.07996362],\n",
       "         [0.07996362],\n",
       "         [0.63639452],\n",
       "         [0.63639452],\n",
       "         [0.17439398],\n",
       "         [0.17439398],\n",
       "         [0.24433867],\n",
       "         [0.24433867],\n",
       "         [0.95866421],\n",
       "         [0.95866421],\n",
       "         [0.35801251],\n",
       "         [0.35801251],\n",
       "         [0.69248271],\n",
       "         [0.69248271],\n",
       "         [0.2046198 ],\n",
       "         [0.2046198 ],\n",
       "         [0.12344278],\n",
       "         [0.12344278],\n",
       "         [0.94157461],\n",
       "         [0.94157461],\n",
       "         [0.28495927],\n",
       "         [0.28495927],\n",
       "         [0.93069341],\n",
       "         [0.93069341],\n",
       "         [0.27512183],\n",
       "         [0.27512183],\n",
       "         [0.51729378],\n",
       "         [0.51729378],\n",
       "         [0.66001054],\n",
       "         [0.66001054],\n",
       "         [0.45097417],\n",
       "         [0.45097417],\n",
       "         [0.75202686],\n",
       "         [0.75202686],\n",
       "         [0.33115057],\n",
       "         [0.33115057],\n",
       "         [0.66636751],\n",
       "         [0.66636751],\n",
       "         [0.25349819],\n",
       "         [0.25349819],\n",
       "         [0.03992424],\n",
       "         [0.03992424],\n",
       "         [0.15088341],\n",
       "         [0.15088341],\n",
       "         [0.84103838],\n",
       "         [0.84103838],\n",
       "         [0.63389253],\n",
       "         [0.63389253],\n",
       "         [0.5828897 ],\n",
       "         [0.5828897 ],\n",
       "         [0.15425141],\n",
       "         [0.15425141],\n",
       "         [0.89373627],\n",
       "         [0.89373627],\n",
       "         [0.63625366],\n",
       "         [0.63625366],\n",
       "         [0.79082008],\n",
       "         [0.79082008],\n",
       "         [0.4125725 ],\n",
       "         [0.4125725 ],\n",
       "         [0.61421715],\n",
       "         [0.61421715],\n",
       "         [0.90048706],\n",
       "         [0.90048706],\n",
       "         [0.29781277],\n",
       "         [0.29781277],\n",
       "         [0.61064569],\n",
       "         [0.61064569],\n",
       "         [0.89403397],\n",
       "         [0.89403397],\n",
       "         [0.38339169],\n",
       "         [0.38339169],\n",
       "         [0.2594488 ],\n",
       "         [0.2594488 ],\n",
       "         [0.72020442],\n",
       "         [0.72020442],\n",
       "         [0.10664234],\n",
       "         [0.10664234],\n",
       "         [0.11099797],\n",
       "         [0.11099797],\n",
       "         [0.46807582],\n",
       "         [0.46807582],\n",
       "         [0.06234609],\n",
       "         [0.06234609],\n",
       "         [0.54415096],\n",
       "         [0.54415096],\n",
       "         [0.15232872],\n",
       "         [0.15232872],\n",
       "         [0.58757496],\n",
       "         [0.58757496],\n",
       "         [0.24360191],\n",
       "         [0.24360191],\n",
       "         [0.5048446 ],\n",
       "         [0.5048446 ],\n",
       "         [0.50750327],\n",
       "         [0.50750327],\n",
       "         [0.16022481],\n",
       "         [0.16022481],\n",
       "         [0.77543759],\n",
       "         [0.77543759],\n",
       "         [0.53267137],\n",
       "         [0.53267137],\n",
       "         [0.18132957],\n",
       "         [0.18132957],\n",
       "         [0.67805065],\n",
       "         [0.67805065],\n",
       "         [0.22940441],\n",
       "         [0.22940441],\n",
       "         [0.35241148],\n",
       "         [0.35241148],\n",
       "         [0.25250224],\n",
       "         [0.25250224],\n",
       "         [0.85739059],\n",
       "         [0.85739059],\n",
       "         [0.31438586],\n",
       "         [0.31438586],\n",
       "         [0.98768369],\n",
       "         [0.98768369],\n",
       "         [0.05519435],\n",
       "         [0.05519435],\n",
       "         [0.88304238],\n",
       "         [0.88304238],\n",
       "         [0.82455769],\n",
       "         [0.82455769],\n",
       "         [0.94047974],\n",
       "         [0.94047974],\n",
       "         [0.74112626],\n",
       "         [0.74112626],\n",
       "         [0.2613458 ],\n",
       "         [0.2613458 ],\n",
       "         [0.05374909],\n",
       "         [0.05374909],\n",
       "         [0.39578944],\n",
       "         [0.39578944]])}}"
      ]
     },
     "execution_count": 1,
     "metadata": {},
     "output_type": "execute_result"
    }
   ],
   "source": [
    "ds = load_by_id(run_id_a)\n",
    "ds.get_parameter_data('x1')"
   ]
  },
  {
   "cell_type": "code",
   "execution_count": null,
   "metadata": {},
   "outputs": [],
   "source": []
  }
 ],
 "metadata": {
  "kernelspec": {
   "display_name": "Python 3",
   "language": "python",
   "name": "python3"
  },
  "language_info": {
   "codemirror_mode": {
    "name": "ipython",
    "version": 3
   },
   "file_extension": ".py",
   "mimetype": "text/x-python",
   "name": "python",
   "nbconvert_exporter": "python",
   "pygments_lexer": "ipython3",
   "version": "3.7.7"
  },
  "nbsphinx": {
   "timeout": 600
  },
  "toc": {
   "base_numbering": 1,
   "nav_menu": {},
   "number_sections": true,
   "sideBar": true,
   "skip_h1_title": false,
   "title_cell": "Table of Contents",
   "title_sidebar": "Contents",
   "toc_cell": false,
   "toc_position": {},
   "toc_section_display": true,
   "toc_window_display": false
  },
  "varInspector": {
   "cols": {
    "lenName": 16,
    "lenType": 16,
    "lenVar": 40
   },
   "kernels_config": {
    "python": {
     "delete_cmd_postfix": "",
     "delete_cmd_prefix": "del ",
     "library": "var_list.py",
     "varRefreshCmd": "print(var_dic_list())"
    },
    "r": {
     "delete_cmd_postfix": ") ",
     "delete_cmd_prefix": "rm(",
     "library": "var_list.r",
     "varRefreshCmd": "cat(var_dic_list()) "
    }
   },
   "types_to_exclude": [
    "module",
    "function",
    "builtin_function_or_method",
    "instance",
    "_Feature"
   ],
   "window_display": false
  }
 },
 "nbformat": 4,
 "nbformat_minor": 2
}
