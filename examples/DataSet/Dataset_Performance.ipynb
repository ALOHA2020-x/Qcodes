{
 "cells": [
  {
   "cell_type": "markdown",
   "metadata": {},
   "source": [
    "# DataSet Performance\n",
    "\n",
    "This notebook shows the trade-off between inserting data into a database row-by-row and as binary blobs. Inserting the data row-by-row means that we have direct access to all the data and may perform queries directly on the values of the data. On the other hand, as we shall see, this is much slower than inserting the data directly as binary blobs."
   ]
  },
  {
   "cell_type": "markdown",
   "metadata": {},
   "source": [
    "First, we choose a new location for the database to ensure that we don't add a bunch of benchmarking data to the default one."
   ]
  },
  {
   "cell_type": "code",
   "execution_count": 1,
   "metadata": {
    "execution": {
     "iopub.execute_input": "2020-10-16T09:28:25.646634Z",
     "iopub.status.busy": "2020-10-16T09:28:25.645992Z",
     "iopub.status.idle": "2020-10-16T09:28:26.605672Z",
     "shell.execute_reply": "2020-10-16T09:28:26.606117Z"
    }
   },
   "outputs": [
    {
     "name": "stdout",
     "output_type": "stream",
     "text": [
      "Logging hadn't been started.\n",
      "Activating auto-logging. Current session state plus future input saved.\n",
      "Filename       : /home/vsts/.qcodes/logs/command_history.log\n",
      "Mode           : append\n",
      "Output logging : True\n",
      "Raw input log  : False\n",
      "Timestamping   : True\n",
      "State          : active\n"
     ]
    },
    {
     "name": "stdout",
     "output_type": "stream",
     "text": [
      "Qcodes Logfile : /home/vsts/.qcodes/logs/201016-15003-qcodes.log\n"
     ]
    }
   ],
   "source": [
    "import os\n",
    "cwd = os.getcwd()\n",
    "import qcodes as qc\n",
    "qc.config[\"core\"][\"db_location\"] = os.path.join(cwd, 'testing.db')\n"
   ]
  },
  {
   "cell_type": "code",
   "execution_count": 2,
   "metadata": {
    "execution": {
     "iopub.execute_input": "2020-10-16T09:28:26.613772Z",
     "iopub.status.busy": "2020-10-16T09:28:26.612113Z",
     "iopub.status.idle": "2020-10-16T09:28:26.786341Z",
     "shell.execute_reply": "2020-10-16T09:28:26.785568Z"
    }
   },
   "outputs": [],
   "source": [
    "%matplotlib inline\n",
    "import time\n",
    "import matplotlib.pyplot as plt\n",
    "import numpy as np\n",
    "\n",
    "import qcodes as qc\n",
    "from qcodes.instrument.parameter import ManualParameter\n",
    "from qcodes.dataset.experiment_container import (Experiment,\n",
    "                                                 load_last_experiment,\n",
    "                                                 new_experiment)\n",
    "from qcodes.dataset.sqlite.database import initialise_database\n",
    "from qcodes import load_or_create_experiment\n",
    "from qcodes.dataset.measurements import Measurement"
   ]
  },
  {
   "cell_type": "code",
   "execution_count": 3,
   "metadata": {
    "execution": {
     "iopub.execute_input": "2020-10-16T09:28:26.790072Z",
     "iopub.status.busy": "2020-10-16T09:28:26.789114Z",
     "iopub.status.idle": "2020-10-16T09:28:26.897157Z",
     "shell.execute_reply": "2020-10-16T09:28:26.896676Z"
    }
   },
   "outputs": [
    {
     "name": "stdout",
     "output_type": "stream",
     "text": [
      "\r",
      "0it [00:00, ?it/s]"
     ]
    },
    {
     "name": "stdout",
     "output_type": "stream",
     "text": [
      "\r",
      "Upgrading database; v0 -> v1: : 0it [00:00, ?it/s]"
     ]
    },
    {
     "name": "stdout",
     "output_type": "stream",
     "text": [
      "\r",
      "Upgrading database; v0 -> v1: : 0it [00:00, ?it/s]"
     ]
    },
    {
     "name": "stdout",
     "output_type": "stream",
     "text": [
      "\n",
      "\r",
      "  0%|          | 0/1 [00:00<?, ?it/s]"
     ]
    },
    {
     "name": "stdout",
     "output_type": "stream",
     "text": [
      "\r",
      "Upgrading database; v1 -> v2:   0%|          | 0/1 [00:00<?, ?it/s]"
     ]
    },
    {
     "name": "stdout",
     "output_type": "stream",
     "text": [
      "\r",
      "Upgrading database; v1 -> v2: 100%|██████████| 1/1 [00:00<00:00, 509.76it/s]"
     ]
    },
    {
     "name": "stdout",
     "output_type": "stream",
     "text": [
      "\n",
      "\r",
      "0it [00:00, ?it/s]"
     ]
    },
    {
     "name": "stdout",
     "output_type": "stream",
     "text": [
      "\r",
      "Upgrading database; v2 -> v3: : 0it [00:00, ?it/s]"
     ]
    },
    {
     "name": "stdout",
     "output_type": "stream",
     "text": [
      "\r",
      "Upgrading database; v2 -> v3: : 0it [00:00, ?it/s]"
     ]
    },
    {
     "name": "stdout",
     "output_type": "stream",
     "text": [
      "\n",
      "\r",
      "0it [00:00, ?it/s]"
     ]
    },
    {
     "name": "stdout",
     "output_type": "stream",
     "text": [
      "\r",
      "Upgrading database; v3 -> v4: : 0it [00:00, ?it/s]"
     ]
    },
    {
     "name": "stdout",
     "output_type": "stream",
     "text": [
      "\r",
      "Upgrading database; v3 -> v4: : 0it [00:00, ?it/s]"
     ]
    },
    {
     "name": "stdout",
     "output_type": "stream",
     "text": [
      "\n",
      "\r",
      "  0%|          | 0/1 [00:00<?, ?it/s]"
     ]
    },
    {
     "name": "stdout",
     "output_type": "stream",
     "text": [
      "\r",
      "Upgrading database; v4 -> v5:   0%|          | 0/1 [00:00<?, ?it/s]"
     ]
    },
    {
     "name": "stdout",
     "output_type": "stream",
     "text": [
      "\r",
      "Upgrading database; v4 -> v5: 100%|██████████| 1/1 [00:00<00:00, 535.81it/s]"
     ]
    },
    {
     "name": "stdout",
     "output_type": "stream",
     "text": [
      "\n",
      "\r",
      "0it [00:00, ?it/s]"
     ]
    },
    {
     "name": "stdout",
     "output_type": "stream",
     "text": [
      "\r",
      "Upgrading database; v5 -> v6: : 0it [00:00, ?it/s]"
     ]
    },
    {
     "name": "stdout",
     "output_type": "stream",
     "text": [
      "\r",
      "Upgrading database; v5 -> v6: : 0it [00:00, ?it/s]"
     ]
    },
    {
     "name": "stdout",
     "output_type": "stream",
     "text": [
      "\n",
      "\r",
      "  0%|          | 0/1 [00:00<?, ?it/s]"
     ]
    },
    {
     "name": "stdout",
     "output_type": "stream",
     "text": [
      "\r",
      "Upgrading database; v6 -> v7:   0%|          | 0/1 [00:00<?, ?it/s]"
     ]
    },
    {
     "name": "stdout",
     "output_type": "stream",
     "text": [
      "\r",
      "Upgrading database; v6 -> v7: 100%|██████████| 1/1 [00:00<00:00, 391.41it/s]"
     ]
    },
    {
     "name": "stdout",
     "output_type": "stream",
     "text": [
      "\n",
      "\r",
      "  0%|          | 0/1 [00:00<?, ?it/s]"
     ]
    },
    {
     "name": "stdout",
     "output_type": "stream",
     "text": [
      "\r",
      "Upgrading database; v7 -> v8:   0%|          | 0/1 [00:00<?, ?it/s]"
     ]
    },
    {
     "name": "stdout",
     "output_type": "stream",
     "text": [
      "\r",
      "Upgrading database; v7 -> v8: 100%|██████████| 1/1 [00:00<00:00, 878.20it/s]"
     ]
    },
    {
     "name": "stdout",
     "output_type": "stream",
     "text": [
      "\n",
      "\r",
      "  0%|          | 0/1 [00:00<?, ?it/s]"
     ]
    },
    {
     "name": "stdout",
     "output_type": "stream",
     "text": [
      "\r",
      "Upgrading database; v8 -> v9:   0%|          | 0/1 [00:00<?, ?it/s]"
     ]
    },
    {
     "name": "stdout",
     "output_type": "stream",
     "text": [
      "\r",
      "Upgrading database; v8 -> v9: 100%|██████████| 1/1 [00:00<00:00, 1104.93it/s]"
     ]
    },
    {
     "name": "stdout",
     "output_type": "stream",
     "text": [
      "\n"
     ]
    }
   ],
   "source": [
    "initialise_database()\n",
    "exp = load_or_create_experiment(experiment_name='tutorial_exp', sample_name=\"no sample\")"
   ]
  },
  {
   "cell_type": "markdown",
   "metadata": {},
   "source": [
    "Here, we define a simple function to benchmark the time it takes to insert n points with either numeric or array data type.\n",
    "We will compare both the time used to call ``add_result`` and the time used for the full measurement."
   ]
  },
  {
   "cell_type": "code",
   "execution_count": 4,
   "metadata": {
    "execution": {
     "iopub.execute_input": "2020-10-16T09:28:26.905334Z",
     "iopub.status.busy": "2020-10-16T09:28:26.904192Z",
     "iopub.status.idle": "2020-10-16T09:28:26.905863Z",
     "shell.execute_reply": "2020-10-16T09:28:26.906372Z"
    }
   },
   "outputs": [],
   "source": [
    "def insert_data(paramtype, npoints, nreps=1):\n",
    "\n",
    "    meas = Measurement(exp=exp)\n",
    "\n",
    "    x1 = ManualParameter('x1')\n",
    "    x2 = ManualParameter('x2')\n",
    "    x3 = ManualParameter('x3')\n",
    "    y1 = ManualParameter('y1')\n",
    "    y2 = ManualParameter('y2')\n",
    "\n",
    "    meas.register_parameter(x1, paramtype=paramtype)\n",
    "    meas.register_parameter(x2, paramtype=paramtype)\n",
    "    meas.register_parameter(x3, paramtype=paramtype)\n",
    "    meas.register_parameter(y1, setpoints=[x1, x2, x3],\n",
    "                            paramtype=paramtype)\n",
    "    meas.register_parameter(y2, setpoints=[x1, x2, x3],\n",
    "                            paramtype=paramtype)\n",
    "    start = time.perf_counter()\n",
    "    with meas.run() as datasaver:\n",
    "        start_adding = time.perf_counter()\n",
    "        for i in range(nreps):\n",
    "            datasaver.add_result((x1, np.random.rand(npoints)),\n",
    "                                 (x2, np.random.rand(npoints)),\n",
    "                                 (x3, np.random.rand(npoints)),\n",
    "                                 (y1, np.random.rand(npoints)),\n",
    "                                 (y2, np.random.rand(npoints)))\n",
    "        stop_adding = time.perf_counter()\n",
    "        run_id = datasaver.run_id\n",
    "    stop = time.perf_counter()\n",
    "    tot_time = stop - start\n",
    "    add_time = stop_adding - start_adding\n",
    "    return tot_time, add_time, run_id"
   ]
  },
  {
   "cell_type": "markdown",
   "metadata": {},
   "source": [
    "## Comparison between numeric/array data and binary blob"
   ]
  },
  {
   "cell_type": "markdown",
   "metadata": {},
   "source": [
    "### Case1: Short experiment time"
   ]
  },
  {
   "cell_type": "code",
   "execution_count": 5,
   "metadata": {
    "execution": {
     "iopub.execute_input": "2020-10-16T09:28:26.910891Z",
     "iopub.status.busy": "2020-10-16T09:28:26.909937Z",
     "iopub.status.idle": "2020-10-16T09:28:27.667514Z",
     "shell.execute_reply": "2020-10-16T09:28:27.668156Z"
    }
   },
   "outputs": [
    {
     "name": "stdout",
     "output_type": "stream",
     "text": [
      "Starting experimental run with id: 1. \n",
      "Starting experimental run with id: 2. \n",
      "Starting experimental run with id: 3. \n",
      "Starting experimental run with id: 4. \n",
      "Starting experimental run with id: 5. \n"
     ]
    },
    {
     "name": "stdout",
     "output_type": "stream",
     "text": [
      "Starting experimental run with id: 6. \n"
     ]
    },
    {
     "name": "stdout",
     "output_type": "stream",
     "text": [
      "Starting experimental run with id: 7. \n"
     ]
    },
    {
     "name": "stdout",
     "output_type": "stream",
     "text": [
      "Starting experimental run with id: 8. \n",
      "Starting experimental run with id: 9. \n"
     ]
    },
    {
     "name": "stdout",
     "output_type": "stream",
     "text": [
      "Starting experimental run with id: 10. \n",
      "Starting experimental run with id: 11. \n"
     ]
    },
    {
     "name": "stdout",
     "output_type": "stream",
     "text": [
      "Starting experimental run with id: 12. \n",
      "Starting experimental run with id: 13. \n"
     ]
    },
    {
     "name": "stdout",
     "output_type": "stream",
     "text": [
      "Starting experimental run with id: 14. \n"
     ]
    }
   ],
   "source": [
    "sizes = [1,500,1000,2000,3000,4000,5000]\n",
    "t_numeric = []\n",
    "t_numeric_add = []\n",
    "t_array = []\n",
    "t_array_add = []\n",
    "for size in sizes:\n",
    "    tn, tna, run_id_n =  insert_data('numeric', size)\n",
    "    t_numeric.append(tn)\n",
    "    t_numeric_add.append(tna)\n",
    "\n",
    "    ta, taa, run_id_a =  insert_data('array', size)\n",
    "    t_array.append(ta)\n",
    "    t_array_add.append(taa)"
   ]
  },
  {
   "cell_type": "code",
   "execution_count": 6,
   "metadata": {
    "execution": {
     "iopub.execute_input": "2020-10-16T09:28:27.684323Z",
     "iopub.status.busy": "2020-10-16T09:28:27.673515Z",
     "iopub.status.idle": "2020-10-16T09:28:27.888642Z",
     "shell.execute_reply": "2020-10-16T09:28:27.887900Z"
    }
   },
   "outputs": [
    {
     "data": {
      "image/png": "[encoded data removed]",
      "text/plain": [
       "<Figure size 432x288 with 1 Axes>"
      ]
     },
     "metadata": {
      "needs_background": "light"
     },
     "output_type": "display_data"
    }
   ],
   "source": [
    "fig, ax = plt.subplots(1,1)\n",
    "ax.plot(sizes, t_numeric, 'o-', label='Inserting row-by-row')\n",
    "ax.plot(sizes, t_numeric_add, 'o-', label='Inserting row-by-row: add_result only')\n",
    "ax.plot(sizes, t_array, 'd-', label='Inserting as binary blob')\n",
    "ax.plot(sizes, t_array_add, 'd-', label='Inserting as binary blob: add_result only')\n",
    "ax.legend()\n",
    "ax.set_xlabel('Array length')\n",
    "ax.set_ylabel('Time (s)')\n",
    "fig.tight_layout()"
   ]
  },
  {
   "cell_type": "markdown",
   "metadata": {},
   "source": [
    "As shown in the latter figure, the time to setup and and close the experiment is approximately 0.4 sec. In case of small array sizes, the difference between inserting values of data as arrays and inserting them row-by-row is relatively unimportant. At larger array sizes, i.e. above 10000 points, the cost of writing data as individual datapoints starts to become important.\n"
   ]
  },
  {
   "cell_type": "markdown",
   "metadata": {},
   "source": [
    "### Case2: Long experiment time "
   ]
  },
  {
   "cell_type": "code",
   "execution_count": 7,
   "metadata": {
    "execution": {
     "iopub.execute_input": "2020-10-16T09:28:27.895194Z",
     "iopub.status.busy": "2020-10-16T09:28:27.894247Z",
     "iopub.status.idle": "2020-10-16T09:29:26.491574Z",
     "shell.execute_reply": "2020-10-16T09:29:26.490966Z"
    }
   },
   "outputs": [
    {
     "name": "stdout",
     "output_type": "stream",
     "text": [
      "Starting experimental run with id: 15. \n",
      "Starting experimental run with id: 16. \n",
      "Starting experimental run with id: 17. \n"
     ]
    },
    {
     "name": "stdout",
     "output_type": "stream",
     "text": [
      "Starting experimental run with id: 18. \n",
      "Starting experimental run with id: 19. \n"
     ]
    },
    {
     "name": "stdout",
     "output_type": "stream",
     "text": [
      "Starting experimental run with id: 20. \n"
     ]
    },
    {
     "name": "stdout",
     "output_type": "stream",
     "text": [
      "Starting experimental run with id: 21. \n"
     ]
    },
    {
     "name": "stdout",
     "output_type": "stream",
     "text": [
      "Starting experimental run with id: 22. \n"
     ]
    },
    {
     "name": "stdout",
     "output_type": "stream",
     "text": [
      "Starting experimental run with id: 23. \n"
     ]
    },
    {
     "name": "stdout",
     "output_type": "stream",
     "text": [
      "Starting experimental run with id: 24. \n"
     ]
    },
    {
     "name": "stdout",
     "output_type": "stream",
     "text": [
      "Starting experimental run with id: 25. \n"
     ]
    },
    {
     "name": "stdout",
     "output_type": "stream",
     "text": [
      "Starting experimental run with id: 26. \n"
     ]
    },
    {
     "name": "stdout",
     "output_type": "stream",
     "text": [
      "Starting experimental run with id: 27. \n"
     ]
    },
    {
     "name": "stdout",
     "output_type": "stream",
     "text": [
      "Starting experimental run with id: 28. \n"
     ]
    }
   ],
   "source": [
    "sizes = [1,500,1000,2000,3000,4000,5000]\n",
    "nreps = 100\n",
    "t_numeric = []\n",
    "t_numeric_add = []\n",
    "t_numeric_run_ids = []\n",
    "t_array = []\n",
    "t_array_add = []\n",
    "t_array_run_ids = []\n",
    "for size in sizes:\n",
    "    tn, tna, run_id_n =  insert_data('numeric', size, nreps=nreps)\n",
    "    t_numeric.append(tn)\n",
    "    t_numeric_add.append(tna)\n",
    "    t_numeric_run_ids.append(run_id_n)\n",
    "\n",
    "    ta, taa, run_id_a =  insert_data('array', size, nreps=nreps)\n",
    "    t_array.append(ta)\n",
    "    t_array_add.append(taa)\n",
    "    t_array_run_ids.append(run_id_a)"
   ]
  },
  {
   "cell_type": "code",
   "execution_count": 8,
   "metadata": {
    "execution": {
     "iopub.execute_input": "2020-10-16T09:29:26.512413Z",
     "iopub.status.busy": "2020-10-16T09:29:26.510274Z",
     "iopub.status.idle": "2020-10-16T09:29:26.696288Z",
     "shell.execute_reply": "2020-10-16T09:29:26.695566Z"
    },
    "scrolled": true
   },
   "outputs": [
    {
     "data": {
      "image/png": "[encoded data removed]",
      "text/plain": [
       "<Figure size 432x288 with 1 Axes>"
      ]
     },
     "metadata": {
      "needs_background": "light"
     },
     "output_type": "display_data"
    }
   ],
   "source": [
    "fig, ax = plt.subplots(1,1)\n",
    "ax.plot(sizes, t_numeric, 'o-', label='Inserting row-by-row')\n",
    "ax.plot(sizes, t_numeric_add, 'o-', label='Inserting row-by-row: add_result only')\n",
    "ax.plot(sizes, t_array, 'd-', label='Inserting as binary blob')\n",
    "ax.plot(sizes, t_array_add, 'd-', label='Inserting as binary blob: add_result only')\n",
    "ax.legend()\n",
    "ax.set_xlabel('Array length')\n",
    "ax.set_ylabel('Time (s)')\n",
    "fig.tight_layout()"
   ]
  },
  {
   "cell_type": "markdown",
   "metadata": {},
   "source": [
    "However, as we increase the length of the experiment, as seen here by repeating the insertion 100 times, we see a big difference between inserting values of the data row-by-row and inserting it as a binary blob."
   ]
  },
  {
   "cell_type": "markdown",
   "metadata": {},
   "source": [
    "## Loading the data "
   ]
  },
  {
   "cell_type": "code",
   "execution_count": 9,
   "metadata": {
    "execution": {
     "iopub.execute_input": "2020-10-16T09:29:26.699976Z",
     "iopub.status.busy": "2020-10-16T09:29:26.698894Z",
     "iopub.status.idle": "2020-10-16T09:29:26.703042Z",
     "shell.execute_reply": "2020-10-16T09:29:26.702391Z"
    }
   },
   "outputs": [],
   "source": [
    "from qcodes.dataset.data_set import load_by_id\n",
    "from qcodes.dataset.data_export import get_data_by_id"
   ]
  },
  {
   "cell_type": "markdown",
   "metadata": {},
   "source": [
    "As usual you can load the data by using the ``load_by_id`` function but you will notice that the different storage methods\n",
    "are reflected in shape of the data as it is retrieved. "
   ]
  },
  {
   "cell_type": "code",
   "execution_count": 10,
   "metadata": {
    "execution": {
     "iopub.execute_input": "2020-10-16T09:29:26.706672Z",
     "iopub.status.busy": "2020-10-16T09:29:26.706154Z",
     "iopub.status.idle": "2020-10-16T09:29:26.708454Z",
     "shell.execute_reply": "2020-10-16T09:29:26.708008Z"
    }
   },
   "outputs": [],
   "source": [
    "run_id_n = t_numeric_run_ids[0]\n",
    "run_id_a = t_array_run_ids[0]"
   ]
  },
  {
   "cell_type": "code",
   "execution_count": 11,
   "metadata": {
    "execution": {
     "iopub.execute_input": "2020-10-16T09:29:26.711369Z",
     "iopub.status.busy": "2020-10-16T09:29:26.710863Z",
     "iopub.status.idle": "2020-10-16T09:29:26.719680Z",
     "shell.execute_reply": "2020-10-16T09:29:26.719095Z"
    },
    "scrolled": true
   },
   "outputs": [
    {
     "data": {
      "text/plain": [
       "{'x1': {'x1': array([0.70337585, 0.70337585, 0.24437676, 0.24437676, 0.05848916,\n",
       "         0.05848916, 0.24577122, 0.24577122, 0.63470412, 0.63470412,\n",
       "         0.71324441, 0.71324441, 0.85581719, 0.85581719, 0.20854313,\n",
       "         0.20854313, 0.45156517, 0.45156517, 0.49056443, 0.49056443,\n",
       "         0.3335841 , 0.3335841 , 0.10703696, 0.10703696, 0.56095349,\n",
       "         0.56095349, 0.34131735, 0.34131735, 0.87080665, 0.87080665,\n",
       "         0.15179929, 0.15179929, 0.65353283, 0.65353283, 0.96310283,\n",
       "         0.96310283, 0.09023618, 0.09023618, 0.82933557, 0.82933557,\n",
       "         0.95158373, 0.95158373, 0.75493639, 0.75493639, 0.52079493,\n",
       "         0.52079493, 0.89841475, 0.89841475, 0.51528321, 0.51528321,\n",
       "         0.66021271, 0.66021271, 0.13251738, 0.13251738, 0.28209136,\n",
       "         0.28209136, 0.99032535, 0.99032535, 0.85728082, 0.85728082,\n",
       "         0.10002532, 0.10002532, 0.3102958 , 0.3102958 , 0.20556005,\n",
       "         0.20556005, 0.84506009, 0.84506009, 0.04468849, 0.04468849,\n",
       "         0.08780859, 0.08780859, 0.46875381, 0.46875381, 0.16124091,\n",
       "         0.16124091, 0.70161563, 0.70161563, 0.88568737, 0.88568737,\n",
       "         0.59486701, 0.59486701, 0.15461826, 0.15461826, 0.21597796,\n",
       "         0.21597796, 0.344603  , 0.344603  , 0.41735881, 0.41735881,\n",
       "         0.50950117, 0.50950117, 0.84118608, 0.84118608, 0.76707421,\n",
       "         0.76707421, 0.21002749, 0.21002749, 0.71698448, 0.71698448,\n",
       "         0.25883257, 0.25883257, 0.68707746, 0.68707746, 0.23272697,\n",
       "         0.23272697, 0.23828828, 0.23828828, 0.40537009, 0.40537009,\n",
       "         0.54535306, 0.54535306, 0.88559742, 0.88559742, 0.37363347,\n",
       "         0.37363347, 0.2991348 , 0.2991348 , 0.16512629, 0.16512629,\n",
       "         0.82596484, 0.82596484, 0.01310574, 0.01310574, 0.33521283,\n",
       "         0.33521283, 0.70079748, 0.70079748, 0.66037889, 0.66037889,\n",
       "         0.67680195, 0.67680195, 0.00671547, 0.00671547, 0.05068514,\n",
       "         0.05068514, 0.24411385, 0.24411385, 0.57149357, 0.57149357,\n",
       "         0.85162687, 0.85162687, 0.87898544, 0.87898544, 0.85304613,\n",
       "         0.85304613, 0.68406313, 0.68406313, 0.71274836, 0.71274836,\n",
       "         0.16169087, 0.16169087, 0.34188971, 0.34188971, 0.22192231,\n",
       "         0.22192231, 0.06466826, 0.06466826, 0.25092478, 0.25092478,\n",
       "         0.86890268, 0.86890268, 0.01302724, 0.01302724, 0.28075734,\n",
       "         0.28075734, 0.37809002, 0.37809002, 0.54389136, 0.54389136,\n",
       "         0.30789395, 0.30789395, 0.9916759 , 0.9916759 , 0.89023776,\n",
       "         0.89023776, 0.00233272, 0.00233272, 0.89310862, 0.89310862,\n",
       "         0.90076675, 0.90076675, 0.63004972, 0.63004972, 0.57861986,\n",
       "         0.57861986, 0.24820626, 0.24820626, 0.79980779, 0.79980779,\n",
       "         0.99579052, 0.99579052, 0.59283615, 0.59283615, 0.72284189,\n",
       "         0.72284189, 0.80600767, 0.80600767, 0.73544825, 0.73544825])}}"
      ]
     },
     "execution_count": 1,
     "metadata": {},
     "output_type": "execute_result"
    }
   ],
   "source": [
    "ds = load_by_id(run_id_n)\n",
    "ds.get_parameter_data('x1')"
   ]
  },
  {
   "cell_type": "markdown",
   "metadata": {},
   "source": [
    "And a dataset stored as binary arrays"
   ]
  },
  {
   "cell_type": "code",
   "execution_count": 12,
   "metadata": {
    "execution": {
     "iopub.execute_input": "2020-10-16T09:29:26.723167Z",
     "iopub.status.busy": "2020-10-16T09:29:26.722564Z",
     "iopub.status.idle": "2020-10-16T09:29:26.780718Z",
     "shell.execute_reply": "2020-10-16T09:29:26.780275Z"
    },
    "scrolled": true
   },
   "outputs": [
    {
     "data": {
      "text/plain": [
       "{'x1': {'x1': array([[0.9497404 ],\n",
       "         [0.9497404 ],\n",
       "         [0.60964042],\n",
       "         [0.60964042],\n",
       "         [0.61845247],\n",
       "         [0.61845247],\n",
       "         [0.55989282],\n",
       "         [0.55989282],\n",
       "         [0.82825703],\n",
       "         [0.82825703],\n",
       "         [0.13090471],\n",
       "         [0.13090471],\n",
       "         [0.73276866],\n",
       "         [0.73276866],\n",
       "         [0.18154297],\n",
       "         [0.18154297],\n",
       "         [0.4647923 ],\n",
       "         [0.4647923 ],\n",
       "         [0.24517934],\n",
       "         [0.24517934],\n",
       "         [0.35274403],\n",
       "         [0.35274403],\n",
       "         [0.88309657],\n",
       "         [0.88309657],\n",
       "         [0.46305165],\n",
       "         [0.46305165],\n",
       "         [0.04550323],\n",
       "         [0.04550323],\n",
       "         [0.13490995],\n",
       "         [0.13490995],\n",
       "         [0.72832858],\n",
       "         [0.72832858],\n",
       "         [0.32673759],\n",
       "         [0.32673759],\n",
       "         [0.83730114],\n",
       "         [0.83730114],\n",
       "         [0.46422325],\n",
       "         [0.46422325],\n",
       "         [0.78813915],\n",
       "         [0.78813915],\n",
       "         [0.10305952],\n",
       "         [0.10305952],\n",
       "         [0.81824262],\n",
       "         [0.81824262],\n",
       "         [0.96621791],\n",
       "         [0.96621791],\n",
       "         [0.41882817],\n",
       "         [0.41882817],\n",
       "         [0.32601302],\n",
       "         [0.32601302],\n",
       "         [0.29772636],\n",
       "         [0.29772636],\n",
       "         [0.79075293],\n",
       "         [0.79075293],\n",
       "         [0.93562373],\n",
       "         [0.93562373],\n",
       "         [0.15930581],\n",
       "         [0.15930581],\n",
       "         [0.51489123],\n",
       "         [0.51489123],\n",
       "         [0.18798658],\n",
       "         [0.18798658],\n",
       "         [0.39385658],\n",
       "         [0.39385658],\n",
       "         [0.731132  ],\n",
       "         [0.731132  ],\n",
       "         [0.33324794],\n",
       "         [0.33324794],\n",
       "         [0.74876445],\n",
       "         [0.74876445],\n",
       "         [0.70480524],\n",
       "         [0.70480524],\n",
       "         [0.30907467],\n",
       "         [0.30907467],\n",
       "         [0.79427171],\n",
       "         [0.79427171],\n",
       "         [0.45840872],\n",
       "         [0.45840872],\n",
       "         [0.64881208],\n",
       "         [0.64881208],\n",
       "         [0.32289412],\n",
       "         [0.32289412],\n",
       "         [0.67739419],\n",
       "         [0.67739419],\n",
       "         [0.78605074],\n",
       "         [0.78605074],\n",
       "         [0.05182866],\n",
       "         [0.05182866],\n",
       "         [0.21994416],\n",
       "         [0.21994416],\n",
       "         [0.98013536],\n",
       "         [0.98013536],\n",
       "         [0.75668843],\n",
       "         [0.75668843],\n",
       "         [0.06061712],\n",
       "         [0.06061712],\n",
       "         [0.77786013],\n",
       "         [0.77786013],\n",
       "         [0.33781396],\n",
       "         [0.33781396],\n",
       "         [0.94874711],\n",
       "         [0.94874711],\n",
       "         [0.79686529],\n",
       "         [0.79686529],\n",
       "         [0.06561472],\n",
       "         [0.06561472],\n",
       "         [0.00527856],\n",
       "         [0.00527856],\n",
       "         [0.65868713],\n",
       "         [0.65868713],\n",
       "         [0.61110586],\n",
       "         [0.61110586],\n",
       "         [0.37138265],\n",
       "         [0.37138265],\n",
       "         [0.25429064],\n",
       "         [0.25429064],\n",
       "         [0.02840923],\n",
       "         [0.02840923],\n",
       "         [0.55869375],\n",
       "         [0.55869375],\n",
       "         [0.63452701],\n",
       "         [0.63452701],\n",
       "         [0.89231344],\n",
       "         [0.89231344],\n",
       "         [0.13827427],\n",
       "         [0.13827427],\n",
       "         [0.45522541],\n",
       "         [0.45522541],\n",
       "         [0.96394042],\n",
       "         [0.96394042],\n",
       "         [0.65093291],\n",
       "         [0.65093291],\n",
       "         [0.26552645],\n",
       "         [0.26552645],\n",
       "         [0.68358558],\n",
       "         [0.68358558],\n",
       "         [0.16156808],\n",
       "         [0.16156808],\n",
       "         [0.083159  ],\n",
       "         [0.083159  ],\n",
       "         [0.02948595],\n",
       "         [0.02948595],\n",
       "         [0.77006951],\n",
       "         [0.77006951],\n",
       "         [0.76345579],\n",
       "         [0.76345579],\n",
       "         [0.06502596],\n",
       "         [0.06502596],\n",
       "         [0.61033714],\n",
       "         [0.61033714],\n",
       "         [0.69521075],\n",
       "         [0.69521075],\n",
       "         [0.28983069],\n",
       "         [0.28983069],\n",
       "         [0.81038381],\n",
       "         [0.81038381],\n",
       "         [0.0317892 ],\n",
       "         [0.0317892 ],\n",
       "         [0.14924911],\n",
       "         [0.14924911],\n",
       "         [0.91522248],\n",
       "         [0.91522248],\n",
       "         [0.59602631],\n",
       "         [0.59602631],\n",
       "         [0.31079583],\n",
       "         [0.31079583],\n",
       "         [0.558753  ],\n",
       "         [0.558753  ],\n",
       "         [0.28300766],\n",
       "         [0.28300766],\n",
       "         [0.86180715],\n",
       "         [0.86180715],\n",
       "         [0.37481244],\n",
       "         [0.37481244],\n",
       "         [0.78858449],\n",
       "         [0.78858449],\n",
       "         [0.62468767],\n",
       "         [0.62468767],\n",
       "         [0.20760594],\n",
       "         [0.20760594],\n",
       "         [0.47940304],\n",
       "         [0.47940304],\n",
       "         [0.51080813],\n",
       "         [0.51080813],\n",
       "         [0.69520204],\n",
       "         [0.69520204],\n",
       "         [0.64339381],\n",
       "         [0.64339381],\n",
       "         [0.50778034],\n",
       "         [0.50778034],\n",
       "         [0.86424539],\n",
       "         [0.86424539],\n",
       "         [0.56261316],\n",
       "         [0.56261316],\n",
       "         [0.10007835],\n",
       "         [0.10007835],\n",
       "         [0.3344592 ],\n",
       "         [0.3344592 ],\n",
       "         [0.95174702],\n",
       "         [0.95174702]])}}"
      ]
     },
     "execution_count": 1,
     "metadata": {},
     "output_type": "execute_result"
    }
   ],
   "source": [
    "ds = load_by_id(run_id_a)\n",
    "ds.get_parameter_data('x1')"
   ]
  },
  {
   "cell_type": "code",
   "execution_count": null,
   "metadata": {},
   "outputs": [],
   "source": []
  }
 ],
 "metadata": {
  "kernelspec": {
   "display_name": "Python 3",
   "language": "python",
   "name": "python3"
  },
  "language_info": {
   "codemirror_mode": {
    "name": "ipython",
    "version": 3
   },
   "file_extension": ".py",
   "mimetype": "text/x-python",
   "name": "python",
   "nbconvert_exporter": "python",
   "pygments_lexer": "ipython3",
   "version": "3.7.7"
  },
  "nbsphinx": {
   "timeout": 600
  },
  "toc": {
   "base_numbering": 1,
   "nav_menu": {},
   "number_sections": true,
   "sideBar": true,
   "skip_h1_title": false,
   "title_cell": "Table of Contents",
   "title_sidebar": "Contents",
   "toc_cell": false,
   "toc_position": {},
   "toc_section_display": true,
   "toc_window_display": false
  },
  "varInspector": {
   "cols": {
    "lenName": 16,
    "lenType": 16,
    "lenVar": 40
   },
   "kernels_config": {
    "python": {
     "delete_cmd_postfix": "",
     "delete_cmd_prefix": "del ",
     "library": "var_list.py",
     "varRefreshCmd": "print(var_dic_list())"
    },
    "r": {
     "delete_cmd_postfix": ") ",
     "delete_cmd_prefix": "rm(",
     "library": "var_list.r",
     "varRefreshCmd": "cat(var_dic_list()) "
    }
   },
   "types_to_exclude": [
    "module",
    "function",
    "builtin_function_or_method",
    "instance",
    "_Feature"
   ],
   "window_display": false
  }
 },
 "nbformat": 4,
 "nbformat_minor": 2
}
