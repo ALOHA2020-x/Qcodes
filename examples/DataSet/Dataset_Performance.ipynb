{
 "cells": [
  {
   "cell_type": "markdown",
   "metadata": {},
   "source": [
    "# DataSet Performance\n",
    "\n",
    "This notebook shows the trade-off between inserting data into a database row-by-row and as binary blobs. Inserting the data row-by-row means that we have direct access to all the data and may perform queries directly on the values of the data. On the other hand, as we shall see, this is much slower than inserting the data directly as binary blobs."
   ]
  },
  {
   "cell_type": "markdown",
   "metadata": {},
   "source": [
    "First, we choose a new location for the database to ensure that we don't add a bunch of benchmarking data to the default one."
   ]
  },
  {
   "cell_type": "code",
   "execution_count": 1,
   "metadata": {},
   "outputs": [
    {
     "name": "stdout",
     "output_type": "stream",
     "text": [
      "Logging hadn't been started.\n",
      "Activating auto-logging. Current session state plus future input saved.\n",
      "Filename       : /home/vsts/.qcodes/logs/command_history.log\n",
      "Mode           : append\n",
      "Output logging : True\n",
      "Raw input log  : False\n",
      "Timestamping   : True\n",
      "State          : active\n"
     ]
    },
    {
     "name": "stdout",
     "output_type": "stream",
     "text": [
      "Qcodes Logfile : /home/vsts/.qcodes/logs/200330-19076-qcodes.log\n"
     ]
    }
   ],
   "source": [
    "import os\n",
    "cwd = os.getcwd()\n",
    "import qcodes as qc\n",
    "qc.config[\"core\"][\"db_location\"] = os.path.join(cwd, 'testing.db')\n"
   ]
  },
  {
   "cell_type": "code",
   "execution_count": 2,
   "metadata": {},
   "outputs": [],
   "source": [
    "%matplotlib inline\n",
    "import time\n",
    "import matplotlib.pyplot as plt\n",
    "import numpy as np\n",
    "\n",
    "import qcodes as qc\n",
    "from qcodes.instrument.parameter import ManualParameter\n",
    "from qcodes.dataset.experiment_container import (Experiment,\n",
    "                                                 load_last_experiment,\n",
    "                                                 new_experiment)\n",
    "from qcodes.dataset.sqlite.database import initialise_database\n",
    "from qcodes import load_or_create_experiment\n",
    "from qcodes.dataset.measurements import Measurement"
   ]
  },
  {
   "cell_type": "code",
   "execution_count": 3,
   "metadata": {},
   "outputs": [
    {
     "name": "stdout",
     "output_type": "stream",
     "text": [
      "\r",
      "0it [00:00, ?it/s]"
     ]
    },
    {
     "name": "stdout",
     "output_type": "stream",
     "text": [
      "\r",
      "Upgrading database; v0 -> v1: : 0it [00:00, ?it/s]"
     ]
    },
    {
     "name": "stdout",
     "output_type": "stream",
     "text": [
      "\r",
      "Upgrading database; v0 -> v1: : 0it [00:00, ?it/s]"
     ]
    },
    {
     "name": "stdout",
     "output_type": "stream",
     "text": [
      "\n",
      "\r",
      "  0%|          | 0/1 [00:00<?, ?it/s]"
     ]
    },
    {
     "name": "stdout",
     "output_type": "stream",
     "text": [
      "\r",
      "Upgrading database; v1 -> v2:   0%|          | 0/1 [00:00<?, ?it/s]"
     ]
    },
    {
     "name": "stdout",
     "output_type": "stream",
     "text": [
      "\r",
      "Upgrading database; v1 -> v2: 100%|██████████| 1/1 [00:00<00:00, 897.18it/s]"
     ]
    },
    {
     "name": "stdout",
     "output_type": "stream",
     "text": [
      "\n",
      "\r",
      "0it [00:00, ?it/s]"
     ]
    },
    {
     "name": "stdout",
     "output_type": "stream",
     "text": [
      "\r",
      "Upgrading database; v2 -> v3: : 0it [00:00, ?it/s]"
     ]
    },
    {
     "name": "stdout",
     "output_type": "stream",
     "text": [
      "\r",
      "Upgrading database; v2 -> v3: : 0it [00:00, ?it/s]"
     ]
    },
    {
     "name": "stdout",
     "output_type": "stream",
     "text": [
      "\n",
      "\r",
      "0it [00:00, ?it/s]"
     ]
    },
    {
     "name": "stdout",
     "output_type": "stream",
     "text": [
      "\r",
      "Upgrading database; v3 -> v4: : 0it [00:00, ?it/s]"
     ]
    },
    {
     "name": "stdout",
     "output_type": "stream",
     "text": [
      "\r",
      "Upgrading database; v3 -> v4: : 0it [00:00, ?it/s]"
     ]
    },
    {
     "name": "stdout",
     "output_type": "stream",
     "text": [
      "\n",
      "\r",
      "  0%|          | 0/1 [00:00<?, ?it/s]"
     ]
    },
    {
     "name": "stdout",
     "output_type": "stream",
     "text": [
      "\r",
      "Upgrading database; v4 -> v5:   0%|          | 0/1 [00:00<?, ?it/s]"
     ]
    },
    {
     "name": "stdout",
     "output_type": "stream",
     "text": [
      "\r",
      "Upgrading database; v4 -> v5: 100%|██████████| 1/1 [00:00<00:00, 844.77it/s]"
     ]
    },
    {
     "name": "stdout",
     "output_type": "stream",
     "text": [
      "\n",
      "\r",
      "0it [00:00, ?it/s]"
     ]
    },
    {
     "name": "stdout",
     "output_type": "stream",
     "text": [
      "\r",
      "Upgrading database; v5 -> v6: : 0it [00:00, ?it/s]"
     ]
    },
    {
     "name": "stdout",
     "output_type": "stream",
     "text": [
      "\r",
      "Upgrading database; v5 -> v6: : 0it [00:00, ?it/s]"
     ]
    },
    {
     "name": "stdout",
     "output_type": "stream",
     "text": [
      "\n",
      "\r",
      "  0%|          | 0/1 [00:00<?, ?it/s]"
     ]
    },
    {
     "name": "stdout",
     "output_type": "stream",
     "text": [
      "\r",
      "Upgrading database; v6 -> v7:   0%|          | 0/1 [00:00<?, ?it/s]"
     ]
    },
    {
     "name": "stdout",
     "output_type": "stream",
     "text": [
      "\r",
      "Upgrading database; v6 -> v7: 100%|██████████| 1/1 [00:00<00:00, 395.80it/s]"
     ]
    },
    {
     "name": "stdout",
     "output_type": "stream",
     "text": [
      "\n",
      "\r",
      "  0%|          | 0/1 [00:00<?, ?it/s]"
     ]
    },
    {
     "name": "stdout",
     "output_type": "stream",
     "text": [
      "\r",
      "Upgrading database; v7 -> v8:   0%|          | 0/1 [00:00<?, ?it/s]"
     ]
    },
    {
     "name": "stdout",
     "output_type": "stream",
     "text": [
      "\r",
      "Upgrading database; v7 -> v8: 100%|██████████| 1/1 [00:00<00:00, 636.95it/s]"
     ]
    },
    {
     "name": "stdout",
     "output_type": "stream",
     "text": [
      "\n",
      "\r",
      "  0%|          | 0/1 [00:00<?, ?it/s]"
     ]
    },
    {
     "name": "stdout",
     "output_type": "stream",
     "text": [
      "\r",
      "Upgrading database; v8 -> v9:   0%|          | 0/1 [00:00<?, ?it/s]"
     ]
    },
    {
     "name": "stdout",
     "output_type": "stream",
     "text": [
      "\r",
      "Upgrading database; v8 -> v9: 100%|██████████| 1/1 [00:00<00:00, 1105.80it/s]"
     ]
    },
    {
     "name": "stdout",
     "output_type": "stream",
     "text": [
      "\n"
     ]
    }
   ],
   "source": [
    "initialise_database()\n",
    "exp = load_or_create_experiment(experiment_name='tutorial_exp', sample_name=\"no sample\")"
   ]
  },
  {
   "cell_type": "markdown",
   "metadata": {},
   "source": [
    "Here, we define a simple function to benchmark the time it takes to insert n points with either numeric or array data type.\n",
    "We will compare both the time used to call ``add_result`` and the time used for the full measurement."
   ]
  },
  {
   "cell_type": "code",
   "execution_count": 4,
   "metadata": {},
   "outputs": [],
   "source": [
    "def insert_data(paramtype, npoints, nreps=1):\n",
    "\n",
    "    meas = Measurement(exp=exp)\n",
    "\n",
    "    x1 = ManualParameter('x1')\n",
    "    x2 = ManualParameter('x2')\n",
    "    x3 = ManualParameter('x3')\n",
    "    y1 = ManualParameter('y1')\n",
    "    y2 = ManualParameter('y2')\n",
    "\n",
    "    meas.register_parameter(x1, paramtype=paramtype)\n",
    "    meas.register_parameter(x2, paramtype=paramtype)\n",
    "    meas.register_parameter(x3, paramtype=paramtype)\n",
    "    meas.register_parameter(y1, setpoints=[x1, x2, x3],\n",
    "                            paramtype=paramtype)\n",
    "    meas.register_parameter(y2, setpoints=[x1, x2, x3],\n",
    "                            paramtype=paramtype)\n",
    "    start = time.perf_counter()\n",
    "    with meas.run() as datasaver:\n",
    "        start_adding = time.perf_counter()\n",
    "        for i in range(nreps):\n",
    "            datasaver.add_result((x1, np.random.rand(npoints)),\n",
    "                                 (x2, np.random.rand(npoints)),\n",
    "                                 (x3, np.random.rand(npoints)),\n",
    "                                 (y1, np.random.rand(npoints)),\n",
    "                                 (y2, np.random.rand(npoints)))\n",
    "        stop_adding = time.perf_counter()\n",
    "        run_id = datasaver.run_id\n",
    "    stop = time.perf_counter()\n",
    "    tot_time = stop - start\n",
    "    add_time = stop_adding - start_adding\n",
    "    return tot_time, add_time, run_id"
   ]
  },
  {
   "cell_type": "markdown",
   "metadata": {},
   "source": [
    "## Comparison between numeric/array data and binary blob"
   ]
  },
  {
   "cell_type": "markdown",
   "metadata": {},
   "source": [
    "### Case1: Short experiment time"
   ]
  },
  {
   "cell_type": "code",
   "execution_count": 5,
   "metadata": {},
   "outputs": [
    {
     "name": "stdout",
     "output_type": "stream",
     "text": [
      "Starting experimental run with id: 1. \n",
      "Starting experimental run with id: 2. \n",
      "Starting experimental run with id: 3. \n"
     ]
    },
    {
     "name": "stdout",
     "output_type": "stream",
     "text": [
      "Starting experimental run with id: 4. \n"
     ]
    },
    {
     "name": "stdout",
     "output_type": "stream",
     "text": [
      "Starting experimental run with id: 5. \n",
      "Starting experimental run with id: 6. \n"
     ]
    },
    {
     "name": "stdout",
     "output_type": "stream",
     "text": [
      "Starting experimental run with id: 7. \n"
     ]
    },
    {
     "name": "stdout",
     "output_type": "stream",
     "text": [
      "Starting experimental run with id: 8. \n",
      "Starting experimental run with id: 9. \n"
     ]
    },
    {
     "name": "stdout",
     "output_type": "stream",
     "text": [
      "Starting experimental run with id: 10. \n",
      "Starting experimental run with id: 11. \n"
     ]
    },
    {
     "name": "stdout",
     "output_type": "stream",
     "text": [
      "Starting experimental run with id: 12. \n"
     ]
    },
    {
     "name": "stdout",
     "output_type": "stream",
     "text": [
      "Starting experimental run with id: 13. \n"
     ]
    },
    {
     "name": "stdout",
     "output_type": "stream",
     "text": [
      "Starting experimental run with id: 14. \n"
     ]
    }
   ],
   "source": [
    "sizes = [1,500,1000,2000,3000,4000,5000]\n",
    "t_numeric = []\n",
    "t_numeric_add = []\n",
    "t_array = []\n",
    "t_array_add = []\n",
    "for size in sizes:\n",
    "    tn, tna, run_id_n =  insert_data('numeric', size)\n",
    "    t_numeric.append(tn)\n",
    "    t_numeric_add.append(tna)\n",
    "\n",
    "    ta, taa, run_id_a =  insert_data('array', size)\n",
    "    t_array.append(ta)\n",
    "    t_array_add.append(taa)"
   ]
  },
  {
   "cell_type": "code",
   "execution_count": 6,
   "metadata": {},
   "outputs": [
    {
     "data": {
      "image/png": "[encoded data removed]",
      "text/plain": [
       "<Figure size 432x288 with 1 Axes>"
      ]
     },
     "metadata": {
      "needs_background": "light"
     },
     "output_type": "display_data"
    }
   ],
   "source": [
    "fig, ax = plt.subplots(1,1)\n",
    "ax.plot(sizes, t_numeric, 'o-', label='Inserting row-by-row')\n",
    "ax.plot(sizes, t_numeric_add, 'o-', label='Inserting row-by-row: add_result only')\n",
    "ax.plot(sizes, t_array, 'd-', label='Inserting as binary blob')\n",
    "ax.plot(sizes, t_array_add, 'd-', label='Inserting as binary blob: add_result only')\n",
    "ax.legend()\n",
    "ax.set_xlabel('Array length')\n",
    "ax.set_ylabel('Time (s)')\n",
    "fig.tight_layout()"
   ]
  },
  {
   "cell_type": "markdown",
   "metadata": {},
   "source": [
    "As shown in the latter figure, the time to setup and and close the experiment is approximately 0.4 sec. In case of small array sizes, the difference between inserting values of data as arrays and inserting them row-by-row is relatively unimportant. At larger array sizes, i.e. above 10000 points, the cost of writing data as individual datapoints starts to become important.\n"
   ]
  },
  {
   "cell_type": "markdown",
   "metadata": {},
   "source": [
    "### Case2: Long experiment time "
   ]
  },
  {
   "cell_type": "code",
   "execution_count": 7,
   "metadata": {},
   "outputs": [
    {
     "name": "stdout",
     "output_type": "stream",
     "text": [
      "Starting experimental run with id: 15. \n",
      "Starting experimental run with id: 16. \n"
     ]
    },
    {
     "name": "stdout",
     "output_type": "stream",
     "text": [
      "Starting experimental run with id: 17. \n"
     ]
    },
    {
     "name": "stdout",
     "output_type": "stream",
     "text": [
      "Starting experimental run with id: 18. \n",
      "Starting experimental run with id: 19. \n"
     ]
    },
    {
     "name": "stdout",
     "output_type": "stream",
     "text": [
      "Starting experimental run with id: 20. \n"
     ]
    },
    {
     "name": "stdout",
     "output_type": "stream",
     "text": [
      "Starting experimental run with id: 21. \n"
     ]
    },
    {
     "name": "stdout",
     "output_type": "stream",
     "text": [
      "Starting experimental run with id: 22. \n"
     ]
    },
    {
     "name": "stdout",
     "output_type": "stream",
     "text": [
      "Starting experimental run with id: 23. \n"
     ]
    },
    {
     "name": "stdout",
     "output_type": "stream",
     "text": [
      "Starting experimental run with id: 24. \n"
     ]
    },
    {
     "name": "stdout",
     "output_type": "stream",
     "text": [
      "Starting experimental run with id: 25. \n"
     ]
    },
    {
     "name": "stdout",
     "output_type": "stream",
     "text": [
      "Starting experimental run with id: 26. \n"
     ]
    },
    {
     "name": "stdout",
     "output_type": "stream",
     "text": [
      "Starting experimental run with id: 27. \n"
     ]
    },
    {
     "name": "stdout",
     "output_type": "stream",
     "text": [
      "Starting experimental run with id: 28. \n"
     ]
    }
   ],
   "source": [
    "sizes = [1,500,1000,2000,3000,4000,5000]\n",
    "nreps = 100\n",
    "t_numeric = []\n",
    "t_numeric_add = []\n",
    "t_numeric_run_ids = []\n",
    "t_array = []\n",
    "t_array_add = []\n",
    "t_array_run_ids = []\n",
    "for size in sizes:\n",
    "    tn, tna, run_id_n =  insert_data('numeric', size, nreps=nreps)\n",
    "    t_numeric.append(tn)\n",
    "    t_numeric_add.append(tna)\n",
    "    t_numeric_run_ids.append(run_id_n)\n",
    "\n",
    "    ta, taa, run_id_a =  insert_data('array', size, nreps=nreps)\n",
    "    t_array.append(ta)\n",
    "    t_array_add.append(taa)\n",
    "    t_array_run_ids.append(run_id_a)"
   ]
  },
  {
   "cell_type": "code",
   "execution_count": 8,
   "metadata": {
    "scrolled": true
   },
   "outputs": [
    {
     "data": {
      "image/png": "[encoded data removed]",
      "text/plain": [
       "<Figure size 432x288 with 1 Axes>"
      ]
     },
     "metadata": {
      "needs_background": "light"
     },
     "output_type": "display_data"
    }
   ],
   "source": [
    "fig, ax = plt.subplots(1,1)\n",
    "ax.plot(sizes, t_numeric, 'o-', label='Inserting row-by-row')\n",
    "ax.plot(sizes, t_numeric_add, 'o-', label='Inserting row-by-row: add_result only')\n",
    "ax.plot(sizes, t_array, 'd-', label='Inserting as binary blob')\n",
    "ax.plot(sizes, t_array_add, 'd-', label='Inserting as binary blob: add_result only')\n",
    "ax.legend()\n",
    "ax.set_xlabel('Array length')\n",
    "ax.set_ylabel('Time (s)')\n",
    "fig.tight_layout()"
   ]
  },
  {
   "cell_type": "markdown",
   "metadata": {},
   "source": [
    "However, as we increase the length of the experiment, as seen here by repeating the insertion 100 times, we see a big difference between inserting values of the data row-by-row and inserting it as a binary blob."
   ]
  },
  {
   "cell_type": "markdown",
   "metadata": {},
   "source": [
    "## Loading the data "
   ]
  },
  {
   "cell_type": "code",
   "execution_count": 9,
   "metadata": {},
   "outputs": [],
   "source": [
    "from qcodes.dataset.data_set import load_by_id\n",
    "from qcodes.dataset.data_export import get_data_by_id"
   ]
  },
  {
   "cell_type": "markdown",
   "metadata": {},
   "source": [
    "As usual you can load the data by using the ``load_by_id`` function but you will notice that the different storage methods\n",
    "are reflected in shape of the data as it is retrieved. "
   ]
  },
  {
   "cell_type": "code",
   "execution_count": 10,
   "metadata": {},
   "outputs": [],
   "source": [
    "run_id_n = t_numeric_run_ids[0]\n",
    "run_id_a = t_array_run_ids[0]"
   ]
  },
  {
   "cell_type": "code",
   "execution_count": 11,
   "metadata": {
    "scrolled": true
   },
   "outputs": [
    {
     "data": {
      "text/plain": [
       "{'x1': {'x1': array([0.66267066, 0.66267066, 0.4453005 , 0.4453005 , 0.88812314,\n",
       "         0.88812314, 0.1529881 , 0.1529881 , 0.4815375 , 0.4815375 ,\n",
       "         0.27090952, 0.27090952, 0.43957772, 0.43957772, 0.49969422,\n",
       "         0.49969422, 0.62644058, 0.62644058, 0.48472327, 0.48472327,\n",
       "         0.87757236, 0.87757236, 0.40216411, 0.40216411, 0.60358572,\n",
       "         0.60358572, 0.77546738, 0.77546738, 0.41382156, 0.41382156,\n",
       "         0.67343493, 0.67343493, 0.33345044, 0.33345044, 0.49302497,\n",
       "         0.49302497, 0.56822844, 0.56822844, 0.06190486, 0.06190486,\n",
       "         0.89681608, 0.89681608, 0.2146247 , 0.2146247 , 0.12079105,\n",
       "         0.12079105, 0.29630746, 0.29630746, 0.82892888, 0.82892888,\n",
       "         0.39073305, 0.39073305, 0.5953476 , 0.5953476 , 0.29753881,\n",
       "         0.29753881, 0.32930209, 0.32930209, 0.63055519, 0.63055519,\n",
       "         0.65654557, 0.65654557, 0.88744057, 0.88744057, 0.32391652,\n",
       "         0.32391652, 0.15723601, 0.15723601, 0.62887166, 0.62887166,\n",
       "         0.67572871, 0.67572871, 0.45797666, 0.45797666, 0.88433941,\n",
       "         0.88433941, 0.9932805 , 0.9932805 , 0.4676745 , 0.4676745 ,\n",
       "         0.2468062 , 0.2468062 , 0.18819008, 0.18819008, 0.74668231,\n",
       "         0.74668231, 0.44076878, 0.44076878, 0.56414846, 0.56414846,\n",
       "         0.57028297, 0.57028297, 0.00660474, 0.00660474, 0.43537287,\n",
       "         0.43537287, 0.80790778, 0.80790778, 0.10323816, 0.10323816,\n",
       "         0.03620972, 0.03620972, 0.15661611, 0.15661611, 0.32435981,\n",
       "         0.32435981, 0.8714633 , 0.8714633 , 0.34999121, 0.34999121,\n",
       "         0.39257904, 0.39257904, 0.00963048, 0.00963048, 0.9998131 ,\n",
       "         0.9998131 , 0.97252854, 0.97252854, 0.06258886, 0.06258886,\n",
       "         0.8314547 , 0.8314547 , 0.03331711, 0.03331711, 0.63489928,\n",
       "         0.63489928, 0.96738531, 0.96738531, 0.86934761, 0.86934761,\n",
       "         0.78474049, 0.78474049, 0.79285623, 0.79285623, 0.24219018,\n",
       "         0.24219018, 0.08447169, 0.08447169, 0.1967352 , 0.1967352 ,\n",
       "         0.16613948, 0.16613948, 0.26233532, 0.26233532, 0.93067972,\n",
       "         0.93067972, 0.54022301, 0.54022301, 0.64065345, 0.64065345,\n",
       "         0.89681054, 0.89681054, 0.22146105, 0.22146105, 0.78025891,\n",
       "         0.78025891, 0.17519791, 0.17519791, 0.9510368 , 0.9510368 ,\n",
       "         0.2468186 , 0.2468186 , 0.73037853, 0.73037853, 0.28819673,\n",
       "         0.28819673, 0.51634226, 0.51634226, 0.84637809, 0.84637809,\n",
       "         0.53364462, 0.53364462, 0.80818581, 0.80818581, 0.51192421,\n",
       "         0.51192421, 0.55475327, 0.55475327, 0.54437615, 0.54437615,\n",
       "         0.12880528, 0.12880528, 0.62219094, 0.62219094, 0.88359972,\n",
       "         0.88359972, 0.10501471, 0.10501471, 0.34914704, 0.34914704,\n",
       "         0.17235133, 0.17235133, 0.27570967, 0.27570967, 0.4066879 ,\n",
       "         0.4066879 , 0.27934535, 0.27934535, 0.50104781, 0.50104781])}}"
      ]
     },
     "execution_count": 11,
     "metadata": {},
     "output_type": "execute_result"
    }
   ],
   "source": [
    "ds = load_by_id(run_id_n)\n",
    "ds.get_parameter_data('x1')"
   ]
  },
  {
   "cell_type": "markdown",
   "metadata": {},
   "source": [
    "And a dataset stored as binary arrays"
   ]
  },
  {
   "cell_type": "code",
   "execution_count": 12,
   "metadata": {
    "scrolled": true
   },
   "outputs": [
    {
     "data": {
      "text/plain": [
       "{'x1': {'x1': array([[0.06813181],\n",
       "         [0.06813181],\n",
       "         [0.21520352],\n",
       "         [0.21520352],\n",
       "         [0.743831  ],\n",
       "         [0.743831  ],\n",
       "         [0.42849283],\n",
       "         [0.42849283],\n",
       "         [0.39413625],\n",
       "         [0.39413625],\n",
       "         [0.51421334],\n",
       "         [0.51421334],\n",
       "         [0.03084201],\n",
       "         [0.03084201],\n",
       "         [0.31428506],\n",
       "         [0.31428506],\n",
       "         [0.94978964],\n",
       "         [0.94978964],\n",
       "         [0.42277725],\n",
       "         [0.42277725],\n",
       "         [0.75934792],\n",
       "         [0.75934792],\n",
       "         [0.66795665],\n",
       "         [0.66795665],\n",
       "         [0.96062   ],\n",
       "         [0.96062   ],\n",
       "         [0.0030738 ],\n",
       "         [0.0030738 ],\n",
       "         [0.67656323],\n",
       "         [0.67656323],\n",
       "         [0.41534405],\n",
       "         [0.41534405],\n",
       "         [0.87789853],\n",
       "         [0.87789853],\n",
       "         [0.87420055],\n",
       "         [0.87420055],\n",
       "         [0.9880268 ],\n",
       "         [0.9880268 ],\n",
       "         [0.09309353],\n",
       "         [0.09309353],\n",
       "         [0.93209561],\n",
       "         [0.93209561],\n",
       "         [0.9644684 ],\n",
       "         [0.9644684 ],\n",
       "         [0.15902159],\n",
       "         [0.15902159],\n",
       "         [0.36490622],\n",
       "         [0.36490622],\n",
       "         [0.38864329],\n",
       "         [0.38864329],\n",
       "         [0.8395312 ],\n",
       "         [0.8395312 ],\n",
       "         [0.71793468],\n",
       "         [0.71793468],\n",
       "         [0.87190685],\n",
       "         [0.87190685],\n",
       "         [0.3938927 ],\n",
       "         [0.3938927 ],\n",
       "         [0.50825705],\n",
       "         [0.50825705],\n",
       "         [0.16578842],\n",
       "         [0.16578842],\n",
       "         [0.12930601],\n",
       "         [0.12930601],\n",
       "         [0.57544462],\n",
       "         [0.57544462],\n",
       "         [0.56187188],\n",
       "         [0.56187188],\n",
       "         [0.81128007],\n",
       "         [0.81128007],\n",
       "         [0.0667502 ],\n",
       "         [0.0667502 ],\n",
       "         [0.04965989],\n",
       "         [0.04965989],\n",
       "         [0.13796538],\n",
       "         [0.13796538],\n",
       "         [0.15587039],\n",
       "         [0.15587039],\n",
       "         [0.72150052],\n",
       "         [0.72150052],\n",
       "         [0.9703239 ],\n",
       "         [0.9703239 ],\n",
       "         [0.15291347],\n",
       "         [0.15291347],\n",
       "         [0.37022916],\n",
       "         [0.37022916],\n",
       "         [0.95613817],\n",
       "         [0.95613817],\n",
       "         [0.02039238],\n",
       "         [0.02039238],\n",
       "         [0.70083579],\n",
       "         [0.70083579],\n",
       "         [0.36352255],\n",
       "         [0.36352255],\n",
       "         [0.9133712 ],\n",
       "         [0.9133712 ],\n",
       "         [0.68041537],\n",
       "         [0.68041537],\n",
       "         [0.36601292],\n",
       "         [0.36601292],\n",
       "         [0.23125723],\n",
       "         [0.23125723],\n",
       "         [0.5255801 ],\n",
       "         [0.5255801 ],\n",
       "         [0.42309324],\n",
       "         [0.42309324],\n",
       "         [0.92216694],\n",
       "         [0.92216694],\n",
       "         [0.94941656],\n",
       "         [0.94941656],\n",
       "         [0.26411073],\n",
       "         [0.26411073],\n",
       "         [0.50427992],\n",
       "         [0.50427992],\n",
       "         [0.24205374],\n",
       "         [0.24205374],\n",
       "         [0.77054397],\n",
       "         [0.77054397],\n",
       "         [0.68936229],\n",
       "         [0.68936229],\n",
       "         [0.85510508],\n",
       "         [0.85510508],\n",
       "         [0.06436998],\n",
       "         [0.06436998],\n",
       "         [0.54451097],\n",
       "         [0.54451097],\n",
       "         [0.15093161],\n",
       "         [0.15093161],\n",
       "         [0.22283872],\n",
       "         [0.22283872],\n",
       "         [0.85471369],\n",
       "         [0.85471369],\n",
       "         [0.82689201],\n",
       "         [0.82689201],\n",
       "         [0.62177271],\n",
       "         [0.62177271],\n",
       "         [0.54370859],\n",
       "         [0.54370859],\n",
       "         [0.62435399],\n",
       "         [0.62435399],\n",
       "         [0.30737378],\n",
       "         [0.30737378],\n",
       "         [0.32325012],\n",
       "         [0.32325012],\n",
       "         [0.04748146],\n",
       "         [0.04748146],\n",
       "         [0.84891806],\n",
       "         [0.84891806],\n",
       "         [0.25405159],\n",
       "         [0.25405159],\n",
       "         [0.03337373],\n",
       "         [0.03337373],\n",
       "         [0.35916986],\n",
       "         [0.35916986],\n",
       "         [0.77609512],\n",
       "         [0.77609512],\n",
       "         [0.08082855],\n",
       "         [0.08082855],\n",
       "         [0.9945439 ],\n",
       "         [0.9945439 ],\n",
       "         [0.06967828],\n",
       "         [0.06967828],\n",
       "         [0.77145851],\n",
       "         [0.77145851],\n",
       "         [0.30924786],\n",
       "         [0.30924786],\n",
       "         [0.96753887],\n",
       "         [0.96753887],\n",
       "         [0.88861935],\n",
       "         [0.88861935],\n",
       "         [0.70908044],\n",
       "         [0.70908044],\n",
       "         [0.36651808],\n",
       "         [0.36651808],\n",
       "         [0.17983051],\n",
       "         [0.17983051],\n",
       "         [0.3984513 ],\n",
       "         [0.3984513 ],\n",
       "         [0.35238963],\n",
       "         [0.35238963],\n",
       "         [0.12931989],\n",
       "         [0.12931989],\n",
       "         [0.66400654],\n",
       "         [0.66400654],\n",
       "         [0.58180888],\n",
       "         [0.58180888],\n",
       "         [0.62612465],\n",
       "         [0.62612465],\n",
       "         [0.50520931],\n",
       "         [0.50520931],\n",
       "         [0.97200083],\n",
       "         [0.97200083],\n",
       "         [0.74588631],\n",
       "         [0.74588631],\n",
       "         [0.37477174],\n",
       "         [0.37477174],\n",
       "         [0.98769219],\n",
       "         [0.98769219],\n",
       "         [0.76961822],\n",
       "         [0.76961822]])}}"
      ]
     },
     "execution_count": 12,
     "metadata": {},
     "output_type": "execute_result"
    }
   ],
   "source": [
    "ds = load_by_id(run_id_a)\n",
    "ds.get_parameter_data('x1')"
   ]
  },
  {
   "cell_type": "code",
   "execution_count": null,
   "metadata": {},
   "outputs": [],
   "source": []
  }
 ],
 "metadata": {
  "kernelspec": {
   "display_name": "Python 3",
   "language": "python",
   "name": "python3"
  },
  "language_info": {
   "codemirror_mode": {
    "name": "ipython",
    "version": 3
   },
   "file_extension": ".py",
   "mimetype": "text/x-python",
   "name": "python",
   "nbconvert_exporter": "python",
   "pygments_lexer": "ipython3",
   "version": "3.7.7"
  },
  "nbsphinx": {
   "timeout": 600
  },
  "toc": {
   "base_numbering": 1,
   "nav_menu": {},
   "number_sections": true,
   "sideBar": true,
   "skip_h1_title": false,
   "title_cell": "Table of Contents",
   "title_sidebar": "Contents",
   "toc_cell": false,
   "toc_position": {},
   "toc_section_display": true,
   "toc_window_display": false
  },
  "varInspector": {
   "cols": {
    "lenName": 16,
    "lenType": 16,
    "lenVar": 40
   },
   "kernels_config": {
    "python": {
     "delete_cmd_postfix": "",
     "delete_cmd_prefix": "del ",
     "library": "var_list.py",
     "varRefreshCmd": "print(var_dic_list())"
    },
    "r": {
     "delete_cmd_postfix": ") ",
     "delete_cmd_prefix": "rm(",
     "library": "var_list.r",
     "varRefreshCmd": "cat(var_dic_list()) "
    }
   },
   "types_to_exclude": [
    "module",
    "function",
    "builtin_function_or_method",
    "instance",
    "_Feature"
   ],
   "window_display": false
  }
 },
 "nbformat": 4,
 "nbformat_minor": 2
}
