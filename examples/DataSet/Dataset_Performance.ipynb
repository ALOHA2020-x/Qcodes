{
 "cells": [
  {
   "cell_type": "markdown",
   "metadata": {},
   "source": [
    "# DataSet Performance\n",
    "\n",
    "This notebook shows the trade-off between inserting data into a database row-by-row and as binary blobs. Inserting the data row-by-row means that we have direct access to all the data and may perform queries directly on the values of the data. On the other hand, as we shall see, this is much slower than inserting the data directly as binary blobs."
   ]
  },
  {
   "cell_type": "markdown",
   "metadata": {},
   "source": [
    "First, we choose a new location for the database to ensure that we don't add a bunch of benchmarking data to the default one."
   ]
  },
  {
   "cell_type": "code",
   "execution_count": 1,
   "metadata": {
    "execution": {
     "iopub.execute_input": "2021-02-10T08:20:35.381125Z",
     "iopub.status.busy": "2021-02-10T08:20:35.380363Z",
     "iopub.status.idle": "2021-02-10T08:20:36.470374Z",
     "shell.execute_reply": "2021-02-10T08:20:36.469754Z"
    }
   },
   "outputs": [
    {
     "name": "stdout",
     "output_type": "stream",
     "text": [
      "Logging hadn't been started.\n",
      "Activating auto-logging. Current session state plus future input saved.\n",
      "Filename       : /home/vsts/.qcodes/logs/command_history.log\n",
      "Mode           : append\n",
      "Output logging : True\n",
      "Raw input log  : False\n",
      "Timestamping   : True\n",
      "State          : active\n"
     ]
    },
    {
     "name": "stdout",
     "output_type": "stream",
     "text": [
      "Qcodes Logfile : /home/vsts/.qcodes/logs/210210-14648-qcodes.log\n"
     ]
    }
   ],
   "source": [
    "import os\n",
    "cwd = os.getcwd()\n",
    "import qcodes as qc\n",
    "qc.config[\"core\"][\"db_location\"] = os.path.join(cwd, 'testing.db')\n"
   ]
  },
  {
   "cell_type": "code",
   "execution_count": 2,
   "metadata": {
    "execution": {
     "iopub.execute_input": "2021-02-10T08:20:36.477040Z",
     "iopub.status.busy": "2021-02-10T08:20:36.476130Z",
     "iopub.status.idle": "2021-02-10T08:20:36.673623Z",
     "shell.execute_reply": "2021-02-10T08:20:36.672737Z"
    }
   },
   "outputs": [],
   "source": [
    "%matplotlib inline\n",
    "import time\n",
    "import matplotlib.pyplot as plt\n",
    "import numpy as np\n",
    "\n",
    "import qcodes as qc\n",
    "from qcodes.instrument.parameter import ManualParameter\n",
    "from qcodes.dataset.experiment_container import (Experiment,\n",
    "                                                 load_last_experiment,\n",
    "                                                 new_experiment)\n",
    "from qcodes.dataset.sqlite.database import initialise_database\n",
    "from qcodes import load_or_create_experiment\n",
    "from qcodes.dataset.measurements import Measurement"
   ]
  },
  {
   "cell_type": "code",
   "execution_count": 3,
   "metadata": {
    "execution": {
     "iopub.execute_input": "2021-02-10T08:20:36.677635Z",
     "iopub.status.busy": "2021-02-10T08:20:36.676970Z",
     "iopub.status.idle": "2021-02-10T08:20:36.786989Z",
     "shell.execute_reply": "2021-02-10T08:20:36.787511Z"
    }
   },
   "outputs": [
    {
     "name": "stdout",
     "output_type": "stream",
     "text": [
      "\r",
      "0it [00:00, ?it/s]"
     ]
    },
    {
     "name": "stdout",
     "output_type": "stream",
     "text": [
      "\r",
      "Upgrading database; v0 -> v1: : 0it [00:00, ?it/s]"
     ]
    },
    {
     "name": "stdout",
     "output_type": "stream",
     "text": [
      "\r",
      "Upgrading database; v0 -> v1: : 0it [00:00, ?it/s]"
     ]
    },
    {
     "name": "stdout",
     "output_type": "stream",
     "text": [
      "\n",
      "\r",
      "  0%|          | 0/1 [00:00<?, ?it/s]"
     ]
    },
    {
     "name": "stdout",
     "output_type": "stream",
     "text": [
      "\r",
      "Upgrading database; v1 -> v2:   0%|          | 0/1 [00:00<?, ?it/s]"
     ]
    },
    {
     "name": "stdout",
     "output_type": "stream",
     "text": [
      "\r",
      "Upgrading database; v1 -> v2: 100%|██████████| 1/1 [00:00<00:00, 1093.98it/s]"
     ]
    },
    {
     "name": "stdout",
     "output_type": "stream",
     "text": [
      "\n",
      "\r",
      "0it [00:00, ?it/s]"
     ]
    },
    {
     "name": "stdout",
     "output_type": "stream",
     "text": [
      "\r",
      "Upgrading database; v2 -> v3: : 0it [00:00, ?it/s]"
     ]
    },
    {
     "name": "stdout",
     "output_type": "stream",
     "text": [
      "\r",
      "Upgrading database; v2 -> v3: : 0it [00:00, ?it/s]"
     ]
    },
    {
     "name": "stdout",
     "output_type": "stream",
     "text": [
      "\n",
      "\r",
      "0it [00:00, ?it/s]"
     ]
    },
    {
     "name": "stdout",
     "output_type": "stream",
     "text": [
      "\r",
      "Upgrading database; v3 -> v4: : 0it [00:00, ?it/s]"
     ]
    },
    {
     "name": "stdout",
     "output_type": "stream",
     "text": [
      "\r",
      "Upgrading database; v3 -> v4: : 0it [00:00, ?it/s]"
     ]
    },
    {
     "name": "stdout",
     "output_type": "stream",
     "text": [
      "\n",
      "\r",
      "  0%|          | 0/1 [00:00<?, ?it/s]"
     ]
    },
    {
     "name": "stdout",
     "output_type": "stream",
     "text": [
      "\r",
      "Upgrading database; v4 -> v5:   0%|          | 0/1 [00:00<?, ?it/s]"
     ]
    },
    {
     "name": "stdout",
     "output_type": "stream",
     "text": [
      "\r",
      "Upgrading database; v4 -> v5: 100%|██████████| 1/1 [00:00<00:00, 770.30it/s]"
     ]
    },
    {
     "name": "stdout",
     "output_type": "stream",
     "text": [
      "\n",
      "\r",
      "0it [00:00, ?it/s]"
     ]
    },
    {
     "name": "stdout",
     "output_type": "stream",
     "text": [
      "\r",
      "Upgrading database; v5 -> v6: : 0it [00:00, ?it/s]"
     ]
    },
    {
     "name": "stdout",
     "output_type": "stream",
     "text": [
      "\r",
      "Upgrading database; v5 -> v6: : 0it [00:00, ?it/s]"
     ]
    },
    {
     "name": "stdout",
     "output_type": "stream",
     "text": [
      "\n",
      "\r",
      "  0%|          | 0/1 [00:00<?, ?it/s]"
     ]
    },
    {
     "name": "stdout",
     "output_type": "stream",
     "text": [
      "\r",
      "Upgrading database; v6 -> v7:   0%|          | 0/1 [00:00<?, ?it/s]"
     ]
    },
    {
     "name": "stdout",
     "output_type": "stream",
     "text": [
      "\r",
      "Upgrading database; v6 -> v7: 100%|██████████| 1/1 [00:00<00:00, 281.40it/s]"
     ]
    },
    {
     "name": "stdout",
     "output_type": "stream",
     "text": [
      "\n",
      "\r",
      "  0%|          | 0/1 [00:00<?, ?it/s]"
     ]
    },
    {
     "name": "stdout",
     "output_type": "stream",
     "text": [
      "\r",
      "Upgrading database; v7 -> v8:   0%|          | 0/1 [00:00<?, ?it/s]"
     ]
    },
    {
     "name": "stdout",
     "output_type": "stream",
     "text": [
      "\r",
      "Upgrading database; v7 -> v8: 100%|██████████| 1/1 [00:00<00:00, 756.00it/s]"
     ]
    },
    {
     "name": "stdout",
     "output_type": "stream",
     "text": [
      "\n",
      "\r",
      "  0%|          | 0/1 [00:00<?, ?it/s]"
     ]
    },
    {
     "name": "stdout",
     "output_type": "stream",
     "text": [
      "\r",
      "Upgrading database; v8 -> v9:   0%|          | 0/1 [00:00<?, ?it/s]"
     ]
    },
    {
     "name": "stdout",
     "output_type": "stream",
     "text": [
      "\r",
      "Upgrading database; v8 -> v9: 100%|██████████| 1/1 [00:00<00:00, 1211.88it/s]"
     ]
    },
    {
     "name": "stdout",
     "output_type": "stream",
     "text": [
      "\n"
     ]
    }
   ],
   "source": [
    "initialise_database()\n",
    "exp = load_or_create_experiment(experiment_name='tutorial_exp', sample_name=\"no sample\")"
   ]
  },
  {
   "cell_type": "markdown",
   "metadata": {},
   "source": [
    "Here, we define a simple function to benchmark the time it takes to insert n points with either numeric or array data type.\n",
    "We will compare both the time used to call ``add_result`` and the time used for the full measurement."
   ]
  },
  {
   "cell_type": "code",
   "execution_count": 4,
   "metadata": {
    "execution": {
     "iopub.execute_input": "2021-02-10T08:20:36.796495Z",
     "iopub.status.busy": "2021-02-10T08:20:36.795780Z",
     "iopub.status.idle": "2021-02-10T08:20:36.799406Z",
     "shell.execute_reply": "2021-02-10T08:20:36.799883Z"
    }
   },
   "outputs": [],
   "source": [
    "def insert_data(paramtype, npoints, nreps=1):\n",
    "\n",
    "    meas = Measurement(exp=exp)\n",
    "\n",
    "    x1 = ManualParameter('x1')\n",
    "    x2 = ManualParameter('x2')\n",
    "    x3 = ManualParameter('x3')\n",
    "    y1 = ManualParameter('y1')\n",
    "    y2 = ManualParameter('y2')\n",
    "\n",
    "    meas.register_parameter(x1, paramtype=paramtype)\n",
    "    meas.register_parameter(x2, paramtype=paramtype)\n",
    "    meas.register_parameter(x3, paramtype=paramtype)\n",
    "    meas.register_parameter(y1, setpoints=[x1, x2, x3],\n",
    "                            paramtype=paramtype)\n",
    "    meas.register_parameter(y2, setpoints=[x1, x2, x3],\n",
    "                            paramtype=paramtype)\n",
    "    start = time.perf_counter()\n",
    "    with meas.run() as datasaver:\n",
    "        start_adding = time.perf_counter()\n",
    "        for i in range(nreps):\n",
    "            datasaver.add_result((x1, np.random.rand(npoints)),\n",
    "                                 (x2, np.random.rand(npoints)),\n",
    "                                 (x3, np.random.rand(npoints)),\n",
    "                                 (y1, np.random.rand(npoints)),\n",
    "                                 (y2, np.random.rand(npoints)))\n",
    "        stop_adding = time.perf_counter()\n",
    "        run_id = datasaver.run_id\n",
    "    stop = time.perf_counter()\n",
    "    tot_time = stop - start\n",
    "    add_time = stop_adding - start_adding\n",
    "    return tot_time, add_time, run_id"
   ]
  },
  {
   "cell_type": "markdown",
   "metadata": {},
   "source": [
    "## Comparison between numeric/array data and binary blob"
   ]
  },
  {
   "cell_type": "markdown",
   "metadata": {},
   "source": [
    "### Case1: Short experiment time"
   ]
  },
  {
   "cell_type": "code",
   "execution_count": 5,
   "metadata": {
    "execution": {
     "iopub.execute_input": "2021-02-10T08:20:36.805150Z",
     "iopub.status.busy": "2021-02-10T08:20:36.803814Z",
     "iopub.status.idle": "2021-02-10T08:20:37.694134Z",
     "shell.execute_reply": "2021-02-10T08:20:37.694923Z"
    }
   },
   "outputs": [
    {
     "name": "stdout",
     "output_type": "stream",
     "text": [
      "Starting experimental run with id: 1. \n",
      "Starting experimental run with id: 2. \n",
      "Starting experimental run with id: 3. \n",
      "Starting experimental run with id: 4. \n",
      "Starting experimental run with id: 5. \n"
     ]
    },
    {
     "name": "stdout",
     "output_type": "stream",
     "text": [
      "Starting experimental run with id: 6. \n"
     ]
    },
    {
     "name": "stdout",
     "output_type": "stream",
     "text": [
      "Starting experimental run with id: 7. \n"
     ]
    },
    {
     "name": "stdout",
     "output_type": "stream",
     "text": [
      "Starting experimental run with id: 8. \n",
      "Starting experimental run with id: 9. \n"
     ]
    },
    {
     "name": "stdout",
     "output_type": "stream",
     "text": [
      "Starting experimental run with id: 10. \n",
      "Starting experimental run with id: 11. \n"
     ]
    },
    {
     "name": "stdout",
     "output_type": "stream",
     "text": [
      "Starting experimental run with id: 12. \n"
     ]
    },
    {
     "name": "stdout",
     "output_type": "stream",
     "text": [
      "Starting experimental run with id: 13. \n"
     ]
    },
    {
     "name": "stdout",
     "output_type": "stream",
     "text": [
      "Starting experimental run with id: 14. \n"
     ]
    }
   ],
   "source": [
    "sizes = [1,500,1000,2000,3000,4000,5000]\n",
    "t_numeric = []\n",
    "t_numeric_add = []\n",
    "t_array = []\n",
    "t_array_add = []\n",
    "for size in sizes:\n",
    "    tn, tna, run_id_n =  insert_data('numeric', size)\n",
    "    t_numeric.append(tn)\n",
    "    t_numeric_add.append(tna)\n",
    "\n",
    "    ta, taa, run_id_a =  insert_data('array', size)\n",
    "    t_array.append(ta)\n",
    "    t_array_add.append(taa)"
   ]
  },
  {
   "cell_type": "code",
   "execution_count": 6,
   "metadata": {
    "execution": {
     "iopub.execute_input": "2021-02-10T08:20:37.730870Z",
     "iopub.status.busy": "2021-02-10T08:20:37.722158Z",
     "iopub.status.idle": "2021-02-10T08:20:37.922673Z",
     "shell.execute_reply": "2021-02-10T08:20:37.922143Z"
    }
   },
   "outputs": [
    {
     "data": {
      "image/png": "[encoded data removed]",
      "text/plain": [
       "<Figure size 432x288 with 1 Axes>"
      ]
     },
     "metadata": {
      "needs_background": "light"
     },
     "output_type": "display_data"
    }
   ],
   "source": [
    "fig, ax = plt.subplots(1,1)\n",
    "ax.plot(sizes, t_numeric, 'o-', label='Inserting row-by-row')\n",
    "ax.plot(sizes, t_numeric_add, 'o-', label='Inserting row-by-row: add_result only')\n",
    "ax.plot(sizes, t_array, 'd-', label='Inserting as binary blob')\n",
    "ax.plot(sizes, t_array_add, 'd-', label='Inserting as binary blob: add_result only')\n",
    "ax.legend()\n",
    "ax.set_xlabel('Array length')\n",
    "ax.set_ylabel('Time (s)')\n",
    "fig.tight_layout()"
   ]
  },
  {
   "cell_type": "markdown",
   "metadata": {},
   "source": [
    "As shown in the latter figure, the time to setup and and close the experiment is approximately 0.4 sec. In case of small array sizes, the difference between inserting values of data as arrays and inserting them row-by-row is relatively unimportant. At larger array sizes, i.e. above 10000 points, the cost of writing data as individual datapoints starts to become important.\n"
   ]
  },
  {
   "cell_type": "markdown",
   "metadata": {},
   "source": [
    "### Case2: Long experiment time "
   ]
  },
  {
   "cell_type": "code",
   "execution_count": 7,
   "metadata": {
    "execution": {
     "iopub.execute_input": "2021-02-10T08:20:37.929581Z",
     "iopub.status.busy": "2021-02-10T08:20:37.927130Z",
     "iopub.status.idle": "2021-02-10T08:21:39.440127Z",
     "shell.execute_reply": "2021-02-10T08:21:39.439590Z"
    }
   },
   "outputs": [
    {
     "name": "stdout",
     "output_type": "stream",
     "text": [
      "Starting experimental run with id: 15. \n",
      "Starting experimental run with id: 16. \n",
      "Starting experimental run with id: 17. \n"
     ]
    },
    {
     "name": "stdout",
     "output_type": "stream",
     "text": [
      "Starting experimental run with id: 18. \n"
     ]
    },
    {
     "name": "stdout",
     "output_type": "stream",
     "text": [
      "Starting experimental run with id: 19. \n"
     ]
    },
    {
     "name": "stdout",
     "output_type": "stream",
     "text": [
      "Starting experimental run with id: 20. \n"
     ]
    },
    {
     "name": "stdout",
     "output_type": "stream",
     "text": [
      "Starting experimental run with id: 21. \n"
     ]
    },
    {
     "name": "stdout",
     "output_type": "stream",
     "text": [
      "Starting experimental run with id: 22. \n"
     ]
    },
    {
     "name": "stdout",
     "output_type": "stream",
     "text": [
      "Starting experimental run with id: 23. \n"
     ]
    },
    {
     "name": "stdout",
     "output_type": "stream",
     "text": [
      "Starting experimental run with id: 24. \n"
     ]
    },
    {
     "name": "stdout",
     "output_type": "stream",
     "text": [
      "Starting experimental run with id: 25. \n"
     ]
    },
    {
     "name": "stdout",
     "output_type": "stream",
     "text": [
      "Starting experimental run with id: 26. \n"
     ]
    },
    {
     "name": "stdout",
     "output_type": "stream",
     "text": [
      "Starting experimental run with id: 27. \n"
     ]
    },
    {
     "name": "stdout",
     "output_type": "stream",
     "text": [
      "Starting experimental run with id: 28. \n"
     ]
    }
   ],
   "source": [
    "sizes = [1,500,1000,2000,3000,4000,5000]\n",
    "nreps = 100\n",
    "t_numeric = []\n",
    "t_numeric_add = []\n",
    "t_numeric_run_ids = []\n",
    "t_array = []\n",
    "t_array_add = []\n",
    "t_array_run_ids = []\n",
    "for size in sizes:\n",
    "    tn, tna, run_id_n =  insert_data('numeric', size, nreps=nreps)\n",
    "    t_numeric.append(tn)\n",
    "    t_numeric_add.append(tna)\n",
    "    t_numeric_run_ids.append(run_id_n)\n",
    "\n",
    "    ta, taa, run_id_a =  insert_data('array', size, nreps=nreps)\n",
    "    t_array.append(ta)\n",
    "    t_array_add.append(taa)\n",
    "    t_array_run_ids.append(run_id_a)"
   ]
  },
  {
   "cell_type": "code",
   "execution_count": 8,
   "metadata": {
    "execution": {
     "iopub.execute_input": "2021-02-10T08:21:39.467564Z",
     "iopub.status.busy": "2021-02-10T08:21:39.459483Z",
     "iopub.status.idle": "2021-02-10T08:21:39.673897Z",
     "shell.execute_reply": "2021-02-10T08:21:39.674377Z"
    },
    "scrolled": true
   },
   "outputs": [
    {
     "data": {
      "image/png": "[encoded data removed]",
      "text/plain": [
       "<Figure size 432x288 with 1 Axes>"
      ]
     },
     "metadata": {
      "needs_background": "light"
     },
     "output_type": "display_data"
    }
   ],
   "source": [
    "fig, ax = plt.subplots(1,1)\n",
    "ax.plot(sizes, t_numeric, 'o-', label='Inserting row-by-row')\n",
    "ax.plot(sizes, t_numeric_add, 'o-', label='Inserting row-by-row: add_result only')\n",
    "ax.plot(sizes, t_array, 'd-', label='Inserting as binary blob')\n",
    "ax.plot(sizes, t_array_add, 'd-', label='Inserting as binary blob: add_result only')\n",
    "ax.legend()\n",
    "ax.set_xlabel('Array length')\n",
    "ax.set_ylabel('Time (s)')\n",
    "fig.tight_layout()"
   ]
  },
  {
   "cell_type": "markdown",
   "metadata": {},
   "source": [
    "However, as we increase the length of the experiment, as seen here by repeating the insertion 100 times, we see a big difference between inserting values of the data row-by-row and inserting it as a binary blob."
   ]
  },
  {
   "cell_type": "markdown",
   "metadata": {},
   "source": [
    "## Loading the data "
   ]
  },
  {
   "cell_type": "code",
   "execution_count": 9,
   "metadata": {
    "execution": {
     "iopub.execute_input": "2021-02-10T08:21:39.678645Z",
     "iopub.status.busy": "2021-02-10T08:21:39.678013Z",
     "iopub.status.idle": "2021-02-10T08:21:39.681503Z",
     "shell.execute_reply": "2021-02-10T08:21:39.682049Z"
    }
   },
   "outputs": [],
   "source": [
    "from qcodes.dataset.data_set import load_by_id\n",
    "from qcodes.dataset.data_export import get_data_by_id"
   ]
  },
  {
   "cell_type": "markdown",
   "metadata": {},
   "source": [
    "As usual you can load the data by using the ``load_by_id`` function but you will notice that the different storage methods\n",
    "are reflected in shape of the data as it is retrieved. "
   ]
  },
  {
   "cell_type": "code",
   "execution_count": 10,
   "metadata": {
    "execution": {
     "iopub.execute_input": "2021-02-10T08:21:39.687310Z",
     "iopub.status.busy": "2021-02-10T08:21:39.685957Z",
     "iopub.status.idle": "2021-02-10T08:21:39.687978Z",
     "shell.execute_reply": "2021-02-10T08:21:39.688509Z"
    }
   },
   "outputs": [],
   "source": [
    "run_id_n = t_numeric_run_ids[0]\n",
    "run_id_a = t_array_run_ids[0]"
   ]
  },
  {
   "cell_type": "code",
   "execution_count": 11,
   "metadata": {
    "execution": {
     "iopub.execute_input": "2021-02-10T08:21:39.692110Z",
     "iopub.status.busy": "2021-02-10T08:21:39.691461Z",
     "iopub.status.idle": "2021-02-10T08:21:39.701703Z",
     "shell.execute_reply": "2021-02-10T08:21:39.702409Z"
    },
    "scrolled": true
   },
   "outputs": [
    {
     "data": {
      "text/plain": [
       "{'x1': {'x1': array([0.80187228, 0.80187228, 0.47184192, 0.47184192, 0.90426698,\n",
       "         0.90426698, 0.68961366, 0.68961366, 0.05767718, 0.05767718,\n",
       "         0.02603484, 0.02603484, 0.6512842 , 0.6512842 , 0.17033078,\n",
       "         0.17033078, 0.97233936, 0.97233936, 0.53212472, 0.53212472,\n",
       "         0.19409372, 0.19409372, 0.94795155, 0.94795155, 0.92442832,\n",
       "         0.92442832, 0.49635595, 0.49635595, 0.13738715, 0.13738715,\n",
       "         0.2145739 , 0.2145739 , 0.13111392, 0.13111392, 0.99960615,\n",
       "         0.99960615, 0.77976737, 0.77976737, 0.68137982, 0.68137982,\n",
       "         0.50070224, 0.50070224, 0.41928555, 0.41928555, 0.8365346 ,\n",
       "         0.8365346 , 0.76237611, 0.76237611, 0.36264656, 0.36264656,\n",
       "         0.43314521, 0.43314521, 0.67248214, 0.67248214, 0.63938302,\n",
       "         0.63938302, 0.93423108, 0.93423108, 0.64284569, 0.64284569,\n",
       "         0.9356991 , 0.9356991 , 0.74826184, 0.74826184, 0.80278398,\n",
       "         0.80278398, 0.19964088, 0.19964088, 0.0549524 , 0.0549524 ,\n",
       "         0.54477288, 0.54477288, 0.56836488, 0.56836488, 0.19284731,\n",
       "         0.19284731, 0.97303425, 0.97303425, 0.19406843, 0.19406843,\n",
       "         0.01682093, 0.01682093, 0.15943965, 0.15943965, 0.95377252,\n",
       "         0.95377252, 0.75725548, 0.75725548, 0.62808751, 0.62808751,\n",
       "         0.91777088, 0.91777088, 0.17853814, 0.17853814, 0.77002075,\n",
       "         0.77002075, 0.65578276, 0.65578276, 0.41403699, 0.41403699,\n",
       "         0.36330756, 0.36330756, 0.8737802 , 0.8737802 , 0.02702059,\n",
       "         0.02702059, 0.30124638, 0.30124638, 0.79518083, 0.79518083,\n",
       "         0.83447312, 0.83447312, 0.0998388 , 0.0998388 , 0.35265242,\n",
       "         0.35265242, 0.4241973 , 0.4241973 , 0.61918604, 0.61918604,\n",
       "         0.30430493, 0.30430493, 0.21992913, 0.21992913, 0.4722605 ,\n",
       "         0.4722605 , 0.90415296, 0.90415296, 0.38033065, 0.38033065,\n",
       "         0.0345818 , 0.0345818 , 0.69897024, 0.69897024, 0.45771874,\n",
       "         0.45771874, 0.33702494, 0.33702494, 0.60311009, 0.60311009,\n",
       "         0.47204519, 0.47204519, 0.93674946, 0.93674946, 0.28968331,\n",
       "         0.28968331, 0.59474167, 0.59474167, 0.27214741, 0.27214741,\n",
       "         0.98926873, 0.98926873, 0.27770171, 0.27770171, 0.82674804,\n",
       "         0.82674804, 0.04295923, 0.04295923, 0.18593336, 0.18593336,\n",
       "         0.89022034, 0.89022034, 0.31986137, 0.31986137, 0.43889617,\n",
       "         0.43889617, 0.08398394, 0.08398394, 0.1186396 , 0.1186396 ,\n",
       "         0.86717496, 0.86717496, 0.59878118, 0.59878118, 0.18580526,\n",
       "         0.18580526, 0.69422582, 0.69422582, 0.15173306, 0.15173306,\n",
       "         0.53239467, 0.53239467, 0.02066453, 0.02066453, 0.24944219,\n",
       "         0.24944219, 0.40284862, 0.40284862, 0.4835344 , 0.4835344 ,\n",
       "         0.58224176, 0.58224176, 0.17868845, 0.17868845, 0.42670903,\n",
       "         0.42670903, 0.64269786, 0.64269786, 0.45500199, 0.45500199])}}"
      ]
     },
     "execution_count": 1,
     "metadata": {},
     "output_type": "execute_result"
    }
   ],
   "source": [
    "ds = load_by_id(run_id_n)\n",
    "ds.get_parameter_data('x1')"
   ]
  },
  {
   "cell_type": "markdown",
   "metadata": {},
   "source": [
    "And a dataset stored as binary arrays"
   ]
  },
  {
   "cell_type": "code",
   "execution_count": 12,
   "metadata": {
    "execution": {
     "iopub.execute_input": "2021-02-10T08:21:39.705949Z",
     "iopub.status.busy": "2021-02-10T08:21:39.705408Z",
     "iopub.status.idle": "2021-02-10T08:21:39.768629Z",
     "shell.execute_reply": "2021-02-10T08:21:39.769172Z"
    },
    "scrolled": true
   },
   "outputs": [
    {
     "data": {
      "text/plain": [
       "{'x1': {'x1': array([[0.86806694],\n",
       "         [0.86806694],\n",
       "         [0.55240798],\n",
       "         [0.55240798],\n",
       "         [0.2093195 ],\n",
       "         [0.2093195 ],\n",
       "         [0.81219633],\n",
       "         [0.81219633],\n",
       "         [0.62706203],\n",
       "         [0.62706203],\n",
       "         [0.1290098 ],\n",
       "         [0.1290098 ],\n",
       "         [0.8453286 ],\n",
       "         [0.8453286 ],\n",
       "         [0.51637911],\n",
       "         [0.51637911],\n",
       "         [0.34129729],\n",
       "         [0.34129729],\n",
       "         [0.88012288],\n",
       "         [0.88012288],\n",
       "         [0.97720162],\n",
       "         [0.97720162],\n",
       "         [0.97819101],\n",
       "         [0.97819101],\n",
       "         [0.13820838],\n",
       "         [0.13820838],\n",
       "         [0.25090122],\n",
       "         [0.25090122],\n",
       "         [0.95662848],\n",
       "         [0.95662848],\n",
       "         [0.83436676],\n",
       "         [0.83436676],\n",
       "         [0.2490461 ],\n",
       "         [0.2490461 ],\n",
       "         [0.04762474],\n",
       "         [0.04762474],\n",
       "         [0.82409205],\n",
       "         [0.82409205],\n",
       "         [0.81490328],\n",
       "         [0.81490328],\n",
       "         [0.86588349],\n",
       "         [0.86588349],\n",
       "         [0.71806699],\n",
       "         [0.71806699],\n",
       "         [0.6051312 ],\n",
       "         [0.6051312 ],\n",
       "         [0.44056511],\n",
       "         [0.44056511],\n",
       "         [0.13587043],\n",
       "         [0.13587043],\n",
       "         [0.58279774],\n",
       "         [0.58279774],\n",
       "         [0.04353402],\n",
       "         [0.04353402],\n",
       "         [0.02717446],\n",
       "         [0.02717446],\n",
       "         [0.68677763],\n",
       "         [0.68677763],\n",
       "         [0.46210935],\n",
       "         [0.46210935],\n",
       "         [0.73999339],\n",
       "         [0.73999339],\n",
       "         [0.84332177],\n",
       "         [0.84332177],\n",
       "         [0.28527243],\n",
       "         [0.28527243],\n",
       "         [0.02654778],\n",
       "         [0.02654778],\n",
       "         [0.85213794],\n",
       "         [0.85213794],\n",
       "         [0.6315792 ],\n",
       "         [0.6315792 ],\n",
       "         [0.01766869],\n",
       "         [0.01766869],\n",
       "         [0.79032147],\n",
       "         [0.79032147],\n",
       "         [0.43890576],\n",
       "         [0.43890576],\n",
       "         [0.7515908 ],\n",
       "         [0.7515908 ],\n",
       "         [0.72275671],\n",
       "         [0.72275671],\n",
       "         [0.30351034],\n",
       "         [0.30351034],\n",
       "         [0.37091895],\n",
       "         [0.37091895],\n",
       "         [0.50277295],\n",
       "         [0.50277295],\n",
       "         [0.9931782 ],\n",
       "         [0.9931782 ],\n",
       "         [0.6665544 ],\n",
       "         [0.6665544 ],\n",
       "         [0.38824669],\n",
       "         [0.38824669],\n",
       "         [0.43615977],\n",
       "         [0.43615977],\n",
       "         [0.42806986],\n",
       "         [0.42806986],\n",
       "         [0.01858613],\n",
       "         [0.01858613],\n",
       "         [0.76965023],\n",
       "         [0.76965023],\n",
       "         [0.50847093],\n",
       "         [0.50847093],\n",
       "         [0.73495978],\n",
       "         [0.73495978],\n",
       "         [0.99775782],\n",
       "         [0.99775782],\n",
       "         [0.56090523],\n",
       "         [0.56090523],\n",
       "         [0.91265639],\n",
       "         [0.91265639],\n",
       "         [0.719482  ],\n",
       "         [0.719482  ],\n",
       "         [0.4006748 ],\n",
       "         [0.4006748 ],\n",
       "         [0.59456178],\n",
       "         [0.59456178],\n",
       "         [0.07447033],\n",
       "         [0.07447033],\n",
       "         [0.32728854],\n",
       "         [0.32728854],\n",
       "         [0.19584662],\n",
       "         [0.19584662],\n",
       "         [0.00533982],\n",
       "         [0.00533982],\n",
       "         [0.56372019],\n",
       "         [0.56372019],\n",
       "         [0.13633491],\n",
       "         [0.13633491],\n",
       "         [0.88391881],\n",
       "         [0.88391881],\n",
       "         [0.8376483 ],\n",
       "         [0.8376483 ],\n",
       "         [0.25555128],\n",
       "         [0.25555128],\n",
       "         [0.49279547],\n",
       "         [0.49279547],\n",
       "         [0.17579633],\n",
       "         [0.17579633],\n",
       "         [0.51409616],\n",
       "         [0.51409616],\n",
       "         [0.95279104],\n",
       "         [0.95279104],\n",
       "         [0.54504494],\n",
       "         [0.54504494],\n",
       "         [0.09534397],\n",
       "         [0.09534397],\n",
       "         [0.69092524],\n",
       "         [0.69092524],\n",
       "         [0.91672858],\n",
       "         [0.91672858],\n",
       "         [0.76841504],\n",
       "         [0.76841504],\n",
       "         [0.24583904],\n",
       "         [0.24583904],\n",
       "         [0.87367971],\n",
       "         [0.87367971],\n",
       "         [0.90497997],\n",
       "         [0.90497997],\n",
       "         [0.4786469 ],\n",
       "         [0.4786469 ],\n",
       "         [0.90903099],\n",
       "         [0.90903099],\n",
       "         [0.16603627],\n",
       "         [0.16603627],\n",
       "         [0.74770236],\n",
       "         [0.74770236],\n",
       "         [0.0841813 ],\n",
       "         [0.0841813 ],\n",
       "         [0.87097057],\n",
       "         [0.87097057],\n",
       "         [0.50483007],\n",
       "         [0.50483007],\n",
       "         [0.76509063],\n",
       "         [0.76509063],\n",
       "         [0.44770771],\n",
       "         [0.44770771],\n",
       "         [0.58844191],\n",
       "         [0.58844191],\n",
       "         [0.89358396],\n",
       "         [0.89358396],\n",
       "         [0.44750559],\n",
       "         [0.44750559],\n",
       "         [0.14799917],\n",
       "         [0.14799917],\n",
       "         [0.14591259],\n",
       "         [0.14591259],\n",
       "         [0.33425356],\n",
       "         [0.33425356],\n",
       "         [0.68850773],\n",
       "         [0.68850773],\n",
       "         [0.46302373],\n",
       "         [0.46302373],\n",
       "         [0.7265804 ],\n",
       "         [0.7265804 ],\n",
       "         [0.41852926],\n",
       "         [0.41852926],\n",
       "         [0.52764835],\n",
       "         [0.52764835]])}}"
      ]
     },
     "execution_count": 1,
     "metadata": {},
     "output_type": "execute_result"
    }
   ],
   "source": [
    "ds = load_by_id(run_id_a)\n",
    "ds.get_parameter_data('x1')"
   ]
  },
  {
   "cell_type": "code",
   "execution_count": null,
   "metadata": {},
   "outputs": [],
   "source": []
  }
 ],
 "metadata": {
  "kernelspec": {
   "display_name": "Python 3",
   "language": "python",
   "name": "python3"
  },
  "language_info": {
   "codemirror_mode": {
    "name": "ipython",
    "version": 3
   },
   "file_extension": ".py",
   "mimetype": "text/x-python",
   "name": "python",
   "nbconvert_exporter": "python",
   "pygments_lexer": "ipython3",
   "version": "3.7.9"
  },
  "nbsphinx": {
   "timeout": 600
  },
  "toc": {
   "base_numbering": 1,
   "nav_menu": {},
   "number_sections": true,
   "sideBar": true,
   "skip_h1_title": false,
   "title_cell": "Table of Contents",
   "title_sidebar": "Contents",
   "toc_cell": false,
   "toc_position": {},
   "toc_section_display": true,
   "toc_window_display": false
  },
  "varInspector": {
   "cols": {
    "lenName": 16,
    "lenType": 16,
    "lenVar": 40
   },
   "kernels_config": {
    "python": {
     "delete_cmd_postfix": "",
     "delete_cmd_prefix": "del ",
     "library": "var_list.py",
     "varRefreshCmd": "print(var_dic_list())"
    },
    "r": {
     "delete_cmd_postfix": ") ",
     "delete_cmd_prefix": "rm(",
     "library": "var_list.r",
     "varRefreshCmd": "cat(var_dic_list()) "
    }
   },
   "types_to_exclude": [
    "module",
    "function",
    "builtin_function_or_method",
    "instance",
    "_Feature"
   ],
   "window_display": false
  }
 },
 "nbformat": 4,
 "nbformat_minor": 2
}
