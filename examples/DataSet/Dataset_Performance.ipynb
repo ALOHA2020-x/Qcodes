{
 "cells": [
  {
   "cell_type": "markdown",
   "metadata": {},
   "source": [
    "# DataSet Performance\n",
    "\n",
    "This notebook shows the trade-off between inserting data into a database row-by-row and as binary blobs. Inserting the data row-by-row means that we have direct access to all the data and may perform queries directly on the values of the data. On the other hand, as we shall see, this is much slower than inserting the data directly as binary blobs."
   ]
  },
  {
   "cell_type": "markdown",
   "metadata": {},
   "source": [
    "First, we choose a new location for the database to ensure that we don't add a bunch of benchmarking data to the default one."
   ]
  },
  {
   "cell_type": "code",
   "execution_count": 1,
   "metadata": {
    "execution": {
     "iopub.execute_input": "2020-10-05T14:10:16.361368Z",
     "iopub.status.busy": "2020-10-05T14:10:16.360703Z",
     "iopub.status.idle": "2020-10-05T14:10:17.442601Z",
     "shell.execute_reply": "2020-10-05T14:10:17.441660Z"
    }
   },
   "outputs": [
    {
     "name": "stdout",
     "output_type": "stream",
     "text": [
      "Logging hadn't been started.\n",
      "Activating auto-logging. Current session state plus future input saved.\n",
      "Filename       : /home/vsts/.qcodes/logs/command_history.log\n",
      "Mode           : append\n",
      "Output logging : True\n",
      "Raw input log  : False\n",
      "Timestamping   : True\n",
      "State          : active\n"
     ]
    },
    {
     "name": "stdout",
     "output_type": "stream",
     "text": [
      "Qcodes Logfile : /home/vsts/.qcodes/logs/201005-19186-qcodes.log\n"
     ]
    }
   ],
   "source": [
    "import os\n",
    "cwd = os.getcwd()\n",
    "import qcodes as qc\n",
    "qc.config[\"core\"][\"db_location\"] = os.path.join(cwd, 'testing.db')\n"
   ]
  },
  {
   "cell_type": "code",
   "execution_count": 2,
   "metadata": {
    "execution": {
     "iopub.execute_input": "2020-10-05T14:10:17.449278Z",
     "iopub.status.busy": "2020-10-05T14:10:17.448006Z",
     "iopub.status.idle": "2020-10-05T14:10:17.646451Z",
     "shell.execute_reply": "2020-10-05T14:10:17.645573Z"
    }
   },
   "outputs": [],
   "source": [
    "%matplotlib inline\n",
    "import time\n",
    "import matplotlib.pyplot as plt\n",
    "import numpy as np\n",
    "\n",
    "import qcodes as qc\n",
    "from qcodes.instrument.parameter import ManualParameter\n",
    "from qcodes.dataset.experiment_container import (Experiment,\n",
    "                                                 load_last_experiment,\n",
    "                                                 new_experiment)\n",
    "from qcodes.dataset.sqlite.database import initialise_database\n",
    "from qcodes import load_or_create_experiment\n",
    "from qcodes.dataset.measurements import Measurement"
   ]
  },
  {
   "cell_type": "code",
   "execution_count": 3,
   "metadata": {
    "execution": {
     "iopub.execute_input": "2020-10-05T14:10:17.651198Z",
     "iopub.status.busy": "2020-10-05T14:10:17.649758Z",
     "iopub.status.idle": "2020-10-05T14:10:17.761277Z",
     "shell.execute_reply": "2020-10-05T14:10:17.760437Z"
    }
   },
   "outputs": [
    {
     "name": "stdout",
     "output_type": "stream",
     "text": [
      "\r",
      "0it [00:00, ?it/s]"
     ]
    },
    {
     "name": "stdout",
     "output_type": "stream",
     "text": [
      "\r",
      "Upgrading database; v0 -> v1: : 0it [00:00, ?it/s]"
     ]
    },
    {
     "name": "stdout",
     "output_type": "stream",
     "text": [
      "\r",
      "Upgrading database; v0 -> v1: : 0it [00:00, ?it/s]"
     ]
    },
    {
     "name": "stdout",
     "output_type": "stream",
     "text": [
      "\n",
      "\r",
      "  0%|          | 0/1 [00:00<?, ?it/s]"
     ]
    },
    {
     "name": "stdout",
     "output_type": "stream",
     "text": [
      "\r",
      "Upgrading database; v1 -> v2:   0%|          | 0/1 [00:00<?, ?it/s]"
     ]
    },
    {
     "name": "stdout",
     "output_type": "stream",
     "text": [
      "\r",
      "Upgrading database; v1 -> v2: 100%|██████████| 1/1 [00:00<00:00, 414.50it/s]"
     ]
    },
    {
     "name": "stdout",
     "output_type": "stream",
     "text": [
      "\n",
      "\r",
      "0it [00:00, ?it/s]"
     ]
    },
    {
     "name": "stdout",
     "output_type": "stream",
     "text": [
      "\r",
      "Upgrading database; v2 -> v3: : 0it [00:00, ?it/s]"
     ]
    },
    {
     "name": "stdout",
     "output_type": "stream",
     "text": [
      "\r",
      "Upgrading database; v2 -> v3: : 0it [00:00, ?it/s]"
     ]
    },
    {
     "name": "stdout",
     "output_type": "stream",
     "text": [
      "\n",
      "\r",
      "0it [00:00, ?it/s]"
     ]
    },
    {
     "name": "stdout",
     "output_type": "stream",
     "text": [
      "\r",
      "Upgrading database; v3 -> v4: : 0it [00:00, ?it/s]"
     ]
    },
    {
     "name": "stdout",
     "output_type": "stream",
     "text": [
      "\r",
      "Upgrading database; v3 -> v4: : 0it [00:00, ?it/s]"
     ]
    },
    {
     "name": "stdout",
     "output_type": "stream",
     "text": [
      "\n",
      "\r",
      "  0%|          | 0/1 [00:00<?, ?it/s]"
     ]
    },
    {
     "name": "stdout",
     "output_type": "stream",
     "text": [
      "\r",
      "Upgrading database; v4 -> v5:   0%|          | 0/1 [00:00<?, ?it/s]"
     ]
    },
    {
     "name": "stdout",
     "output_type": "stream",
     "text": [
      "\r",
      "Upgrading database; v4 -> v5: 100%|██████████| 1/1 [00:00<00:00, 401.83it/s]"
     ]
    },
    {
     "name": "stdout",
     "output_type": "stream",
     "text": [
      "\n",
      "\r",
      "0it [00:00, ?it/s]"
     ]
    },
    {
     "name": "stdout",
     "output_type": "stream",
     "text": [
      "\r",
      "Upgrading database; v5 -> v6: : 0it [00:00, ?it/s]"
     ]
    },
    {
     "name": "stdout",
     "output_type": "stream",
     "text": [
      "\r",
      "Upgrading database; v5 -> v6: : 0it [00:00, ?it/s]"
     ]
    },
    {
     "name": "stdout",
     "output_type": "stream",
     "text": [
      "\n",
      "\r",
      "  0%|          | 0/1 [00:00<?, ?it/s]"
     ]
    },
    {
     "name": "stdout",
     "output_type": "stream",
     "text": [
      "\r",
      "Upgrading database; v6 -> v7:   0%|          | 0/1 [00:00<?, ?it/s]"
     ]
    },
    {
     "name": "stdout",
     "output_type": "stream",
     "text": [
      "\r",
      "Upgrading database; v6 -> v7: 100%|██████████| 1/1 [00:00<00:00, 327.78it/s]"
     ]
    },
    {
     "name": "stdout",
     "output_type": "stream",
     "text": [
      "\n",
      "\r",
      "  0%|          | 0/1 [00:00<?, ?it/s]"
     ]
    },
    {
     "name": "stdout",
     "output_type": "stream",
     "text": [
      "\r",
      "Upgrading database; v7 -> v8:   0%|          | 0/1 [00:00<?, ?it/s]"
     ]
    },
    {
     "name": "stdout",
     "output_type": "stream",
     "text": [
      "\r",
      "Upgrading database; v7 -> v8: 100%|██████████| 1/1 [00:00<00:00, 437.41it/s]"
     ]
    },
    {
     "name": "stdout",
     "output_type": "stream",
     "text": [
      "\n",
      "\r",
      "  0%|          | 0/1 [00:00<?, ?it/s]"
     ]
    },
    {
     "name": "stdout",
     "output_type": "stream",
     "text": [
      "\r",
      "Upgrading database; v8 -> v9:   0%|          | 0/1 [00:00<?, ?it/s]"
     ]
    },
    {
     "name": "stdout",
     "output_type": "stream",
     "text": [
      "\r",
      "Upgrading database; v8 -> v9: 100%|██████████| 1/1 [00:00<00:00, 415.36it/s]"
     ]
    },
    {
     "name": "stdout",
     "output_type": "stream",
     "text": [
      "\n"
     ]
    }
   ],
   "source": [
    "initialise_database()\n",
    "exp = load_or_create_experiment(experiment_name='tutorial_exp', sample_name=\"no sample\")"
   ]
  },
  {
   "cell_type": "markdown",
   "metadata": {},
   "source": [
    "Here, we define a simple function to benchmark the time it takes to insert n points with either numeric or array data type.\n",
    "We will compare both the time used to call ``add_result`` and the time used for the full measurement."
   ]
  },
  {
   "cell_type": "code",
   "execution_count": 4,
   "metadata": {
    "execution": {
     "iopub.execute_input": "2020-10-05T14:10:17.770176Z",
     "iopub.status.busy": "2020-10-05T14:10:17.769602Z",
     "iopub.status.idle": "2020-10-05T14:10:17.773280Z",
     "shell.execute_reply": "2020-10-05T14:10:17.772687Z"
    }
   },
   "outputs": [],
   "source": [
    "def insert_data(paramtype, npoints, nreps=1):\n",
    "\n",
    "    meas = Measurement(exp=exp)\n",
    "\n",
    "    x1 = ManualParameter('x1')\n",
    "    x2 = ManualParameter('x2')\n",
    "    x3 = ManualParameter('x3')\n",
    "    y1 = ManualParameter('y1')\n",
    "    y2 = ManualParameter('y2')\n",
    "\n",
    "    meas.register_parameter(x1, paramtype=paramtype)\n",
    "    meas.register_parameter(x2, paramtype=paramtype)\n",
    "    meas.register_parameter(x3, paramtype=paramtype)\n",
    "    meas.register_parameter(y1, setpoints=[x1, x2, x3],\n",
    "                            paramtype=paramtype)\n",
    "    meas.register_parameter(y2, setpoints=[x1, x2, x3],\n",
    "                            paramtype=paramtype)\n",
    "    start = time.perf_counter()\n",
    "    with meas.run() as datasaver:\n",
    "        start_adding = time.perf_counter()\n",
    "        for i in range(nreps):\n",
    "            datasaver.add_result((x1, np.random.rand(npoints)),\n",
    "                                 (x2, np.random.rand(npoints)),\n",
    "                                 (x3, np.random.rand(npoints)),\n",
    "                                 (y1, np.random.rand(npoints)),\n",
    "                                 (y2, np.random.rand(npoints)))\n",
    "        stop_adding = time.perf_counter()\n",
    "        run_id = datasaver.run_id\n",
    "    stop = time.perf_counter()\n",
    "    tot_time = stop - start\n",
    "    add_time = stop_adding - start_adding\n",
    "    return tot_time, add_time, run_id"
   ]
  },
  {
   "cell_type": "markdown",
   "metadata": {},
   "source": [
    "## Comparison between numeric/array data and binary blob"
   ]
  },
  {
   "cell_type": "markdown",
   "metadata": {},
   "source": [
    "### Case1: Short experiment time"
   ]
  },
  {
   "cell_type": "code",
   "execution_count": 5,
   "metadata": {
    "execution": {
     "iopub.execute_input": "2020-10-05T14:10:17.779649Z",
     "iopub.status.busy": "2020-10-05T14:10:17.778734Z",
     "iopub.status.idle": "2020-10-05T14:10:18.648678Z",
     "shell.execute_reply": "2020-10-05T14:10:18.648030Z"
    }
   },
   "outputs": [
    {
     "name": "stdout",
     "output_type": "stream",
     "text": [
      "Starting experimental run with id: 1. \n",
      "Starting experimental run with id: 2. \n",
      "Starting experimental run with id: 3. \n",
      "Starting experimental run with id: 4. \n"
     ]
    },
    {
     "name": "stdout",
     "output_type": "stream",
     "text": [
      "Starting experimental run with id: 5. \n"
     ]
    },
    {
     "name": "stdout",
     "output_type": "stream",
     "text": [
      "Starting experimental run with id: 6. \n"
     ]
    },
    {
     "name": "stdout",
     "output_type": "stream",
     "text": [
      "Starting experimental run with id: 7. \n"
     ]
    },
    {
     "name": "stdout",
     "output_type": "stream",
     "text": [
      "Starting experimental run with id: 8. \n",
      "Starting experimental run with id: 9. \n"
     ]
    },
    {
     "name": "stdout",
     "output_type": "stream",
     "text": [
      "Starting experimental run with id: 10. \n",
      "Starting experimental run with id: 11. \n"
     ]
    },
    {
     "name": "stdout",
     "output_type": "stream",
     "text": [
      "Starting experimental run with id: 12. \n",
      "Starting experimental run with id: 13. \n"
     ]
    },
    {
     "name": "stdout",
     "output_type": "stream",
     "text": [
      "Starting experimental run with id: 14. \n"
     ]
    }
   ],
   "source": [
    "sizes = [1,500,1000,2000,3000,4000,5000]\n",
    "t_numeric = []\n",
    "t_numeric_add = []\n",
    "t_array = []\n",
    "t_array_add = []\n",
    "for size in sizes:\n",
    "    tn, tna, run_id_n =  insert_data('numeric', size)\n",
    "    t_numeric.append(tn)\n",
    "    t_numeric_add.append(tna)\n",
    "\n",
    "    ta, taa, run_id_a =  insert_data('array', size)\n",
    "    t_array.append(ta)\n",
    "    t_array_add.append(taa)"
   ]
  },
  {
   "cell_type": "code",
   "execution_count": 6,
   "metadata": {
    "execution": {
     "iopub.execute_input": "2020-10-05T14:10:18.669279Z",
     "iopub.status.busy": "2020-10-05T14:10:18.662567Z",
     "iopub.status.idle": "2020-10-05T14:10:18.892244Z",
     "shell.execute_reply": "2020-10-05T14:10:18.892976Z"
    }
   },
   "outputs": [
    {
     "data": {
      "image/png": "[encoded data removed]",
      "text/plain": [
       "<Figure size 432x288 with 1 Axes>"
      ]
     },
     "metadata": {
      "needs_background": "light"
     },
     "output_type": "display_data"
    }
   ],
   "source": [
    "fig, ax = plt.subplots(1,1)\n",
    "ax.plot(sizes, t_numeric, 'o-', label='Inserting row-by-row')\n",
    "ax.plot(sizes, t_numeric_add, 'o-', label='Inserting row-by-row: add_result only')\n",
    "ax.plot(sizes, t_array, 'd-', label='Inserting as binary blob')\n",
    "ax.plot(sizes, t_array_add, 'd-', label='Inserting as binary blob: add_result only')\n",
    "ax.legend()\n",
    "ax.set_xlabel('Array length')\n",
    "ax.set_ylabel('Time (s)')\n",
    "fig.tight_layout()"
   ]
  },
  {
   "cell_type": "markdown",
   "metadata": {},
   "source": [
    "As shown in the latter figure, the time to setup and and close the experiment is approximately 0.4 sec. In case of small array sizes, the difference between inserting values of data as arrays and inserting them row-by-row is relatively unimportant. At larger array sizes, i.e. above 10000 points, the cost of writing data as individual datapoints starts to become important.\n"
   ]
  },
  {
   "cell_type": "markdown",
   "metadata": {},
   "source": [
    "### Case2: Long experiment time "
   ]
  },
  {
   "cell_type": "code",
   "execution_count": 7,
   "metadata": {
    "execution": {
     "iopub.execute_input": "2020-10-05T14:10:18.900733Z",
     "iopub.status.busy": "2020-10-05T14:10:18.900101Z",
     "iopub.status.idle": "2020-10-05T14:11:18.245210Z",
     "shell.execute_reply": "2020-10-05T14:11:18.245868Z"
    }
   },
   "outputs": [
    {
     "name": "stdout",
     "output_type": "stream",
     "text": [
      "Starting experimental run with id: 15. \n",
      "Starting experimental run with id: 16. \n",
      "Starting experimental run with id: 17. \n"
     ]
    },
    {
     "name": "stdout",
     "output_type": "stream",
     "text": [
      "Starting experimental run with id: 18. \n",
      "Starting experimental run with id: 19. \n"
     ]
    },
    {
     "name": "stdout",
     "output_type": "stream",
     "text": [
      "Starting experimental run with id: 20. \n"
     ]
    },
    {
     "name": "stdout",
     "output_type": "stream",
     "text": [
      "Starting experimental run with id: 21. \n"
     ]
    },
    {
     "name": "stdout",
     "output_type": "stream",
     "text": [
      "Starting experimental run with id: 22. \n"
     ]
    },
    {
     "name": "stdout",
     "output_type": "stream",
     "text": [
      "Starting experimental run with id: 23. \n"
     ]
    },
    {
     "name": "stdout",
     "output_type": "stream",
     "text": [
      "Starting experimental run with id: 24. \n"
     ]
    },
    {
     "name": "stdout",
     "output_type": "stream",
     "text": [
      "Starting experimental run with id: 25. \n"
     ]
    },
    {
     "name": "stdout",
     "output_type": "stream",
     "text": [
      "Starting experimental run with id: 26. \n"
     ]
    },
    {
     "name": "stdout",
     "output_type": "stream",
     "text": [
      "Starting experimental run with id: 27. \n"
     ]
    },
    {
     "name": "stdout",
     "output_type": "stream",
     "text": [
      "Starting experimental run with id: 28. \n"
     ]
    }
   ],
   "source": [
    "sizes = [1,500,1000,2000,3000,4000,5000]\n",
    "nreps = 100\n",
    "t_numeric = []\n",
    "t_numeric_add = []\n",
    "t_numeric_run_ids = []\n",
    "t_array = []\n",
    "t_array_add = []\n",
    "t_array_run_ids = []\n",
    "for size in sizes:\n",
    "    tn, tna, run_id_n =  insert_data('numeric', size, nreps=nreps)\n",
    "    t_numeric.append(tn)\n",
    "    t_numeric_add.append(tna)\n",
    "    t_numeric_run_ids.append(run_id_n)\n",
    "\n",
    "    ta, taa, run_id_a =  insert_data('array', size, nreps=nreps)\n",
    "    t_array.append(ta)\n",
    "    t_array_add.append(taa)\n",
    "    t_array_run_ids.append(run_id_a)"
   ]
  },
  {
   "cell_type": "code",
   "execution_count": 8,
   "metadata": {
    "execution": {
     "iopub.execute_input": "2020-10-05T14:11:18.268373Z",
     "iopub.status.busy": "2020-10-05T14:11:18.266253Z",
     "iopub.status.idle": "2020-10-05T14:11:18.484542Z",
     "shell.execute_reply": "2020-10-05T14:11:18.484065Z"
    },
    "scrolled": true
   },
   "outputs": [
    {
     "data": {
      "image/png": "[encoded data removed]",
      "text/plain": [
       "<Figure size 432x288 with 1 Axes>"
      ]
     },
     "metadata": {
      "needs_background": "light"
     },
     "output_type": "display_data"
    }
   ],
   "source": [
    "fig, ax = plt.subplots(1,1)\n",
    "ax.plot(sizes, t_numeric, 'o-', label='Inserting row-by-row')\n",
    "ax.plot(sizes, t_numeric_add, 'o-', label='Inserting row-by-row: add_result only')\n",
    "ax.plot(sizes, t_array, 'd-', label='Inserting as binary blob')\n",
    "ax.plot(sizes, t_array_add, 'd-', label='Inserting as binary blob: add_result only')\n",
    "ax.legend()\n",
    "ax.set_xlabel('Array length')\n",
    "ax.set_ylabel('Time (s)')\n",
    "fig.tight_layout()"
   ]
  },
  {
   "cell_type": "markdown",
   "metadata": {},
   "source": [
    "However, as we increase the length of the experiment, as seen here by repeating the insertion 100 times, we see a big difference between inserting values of the data row-by-row and inserting it as a binary blob."
   ]
  },
  {
   "cell_type": "markdown",
   "metadata": {},
   "source": [
    "## Loading the data "
   ]
  },
  {
   "cell_type": "code",
   "execution_count": 9,
   "metadata": {
    "execution": {
     "iopub.execute_input": "2020-10-05T14:11:18.489182Z",
     "iopub.status.busy": "2020-10-05T14:11:18.488257Z",
     "iopub.status.idle": "2020-10-05T14:11:18.492041Z",
     "shell.execute_reply": "2020-10-05T14:11:18.492540Z"
    }
   },
   "outputs": [],
   "source": [
    "from qcodes.dataset.data_set import load_by_id\n",
    "from qcodes.dataset.data_export import get_data_by_id"
   ]
  },
  {
   "cell_type": "markdown",
   "metadata": {},
   "source": [
    "As usual you can load the data by using the ``load_by_id`` function but you will notice that the different storage methods\n",
    "are reflected in shape of the data as it is retrieved. "
   ]
  },
  {
   "cell_type": "code",
   "execution_count": 10,
   "metadata": {
    "execution": {
     "iopub.execute_input": "2020-10-05T14:11:18.497324Z",
     "iopub.status.busy": "2020-10-05T14:11:18.496060Z",
     "iopub.status.idle": "2020-10-05T14:11:18.497861Z",
     "shell.execute_reply": "2020-10-05T14:11:18.498527Z"
    }
   },
   "outputs": [],
   "source": [
    "run_id_n = t_numeric_run_ids[0]\n",
    "run_id_a = t_array_run_ids[0]"
   ]
  },
  {
   "cell_type": "code",
   "execution_count": 11,
   "metadata": {
    "execution": {
     "iopub.execute_input": "2020-10-05T14:11:18.502489Z",
     "iopub.status.busy": "2020-10-05T14:11:18.501782Z",
     "iopub.status.idle": "2020-10-05T14:11:18.511414Z",
     "shell.execute_reply": "2020-10-05T14:11:18.510875Z"
    },
    "scrolled": true
   },
   "outputs": [
    {
     "data": {
      "text/plain": [
       "{'x1': {'x1': array([0.80965429, 0.80965429, 0.75552507, 0.75552507, 0.70874344,\n",
       "         0.70874344, 0.4936483 , 0.4936483 , 0.90213766, 0.90213766,\n",
       "         0.44072514, 0.44072514, 0.37510769, 0.37510769, 0.36785391,\n",
       "         0.36785391, 0.24213699, 0.24213699, 0.7045992 , 0.7045992 ,\n",
       "         0.93338428, 0.93338428, 0.82065776, 0.82065776, 0.43682992,\n",
       "         0.43682992, 0.24690552, 0.24690552, 0.07668927, 0.07668927,\n",
       "         0.249596  , 0.249596  , 0.99219027, 0.99219027, 0.1736847 ,\n",
       "         0.1736847 , 0.46885052, 0.46885052, 0.34145183, 0.34145183,\n",
       "         0.32479136, 0.32479136, 0.13917737, 0.13917737, 0.22043723,\n",
       "         0.22043723, 0.55492587, 0.55492587, 0.51725107, 0.51725107,\n",
       "         0.26101579, 0.26101579, 0.93371429, 0.93371429, 0.33187191,\n",
       "         0.33187191, 0.46191625, 0.46191625, 0.97816383, 0.97816383,\n",
       "         0.03219123, 0.03219123, 0.2834822 , 0.2834822 , 0.00881852,\n",
       "         0.00881852, 0.52737887, 0.52737887, 0.61576312, 0.61576312,\n",
       "         0.10433043, 0.10433043, 0.3574082 , 0.3574082 , 0.99305312,\n",
       "         0.99305312, 0.04824464, 0.04824464, 0.77751473, 0.77751473,\n",
       "         0.50275226, 0.50275226, 0.27322499, 0.27322499, 0.53159371,\n",
       "         0.53159371, 0.4661119 , 0.4661119 , 0.42395421, 0.42395421,\n",
       "         0.6635416 , 0.6635416 , 0.03219129, 0.03219129, 0.45828596,\n",
       "         0.45828596, 0.01925515, 0.01925515, 0.10639465, 0.10639465,\n",
       "         0.1656067 , 0.1656067 , 0.37101627, 0.37101627, 0.22710889,\n",
       "         0.22710889, 0.02633979, 0.02633979, 0.49256756, 0.49256756,\n",
       "         0.38656988, 0.38656988, 0.60879628, 0.60879628, 0.05810765,\n",
       "         0.05810765, 0.84669358, 0.84669358, 0.41499467, 0.41499467,\n",
       "         0.56299447, 0.56299447, 0.47182646, 0.47182646, 0.26129554,\n",
       "         0.26129554, 0.99264259, 0.99264259, 0.29651267, 0.29651267,\n",
       "         0.41591771, 0.41591771, 0.621713  , 0.621713  , 0.75999386,\n",
       "         0.75999386, 0.36460417, 0.36460417, 0.05242727, 0.05242727,\n",
       "         0.62983739, 0.62983739, 0.8687487 , 0.8687487 , 0.92213331,\n",
       "         0.92213331, 0.63994682, 0.63994682, 0.59194527, 0.59194527,\n",
       "         0.42973112, 0.42973112, 0.5564132 , 0.5564132 , 0.28319095,\n",
       "         0.28319095, 0.43988784, 0.43988784, 0.49364651, 0.49364651,\n",
       "         0.44443998, 0.44443998, 0.10688692, 0.10688692, 0.11539466,\n",
       "         0.11539466, 0.70996403, 0.70996403, 0.51296113, 0.51296113,\n",
       "         0.07315703, 0.07315703, 0.79165685, 0.79165685, 0.27643537,\n",
       "         0.27643537, 0.3539118 , 0.3539118 , 0.97933281, 0.97933281,\n",
       "         0.5325056 , 0.5325056 , 0.87229973, 0.87229973, 0.95060724,\n",
       "         0.95060724, 0.99385358, 0.99385358, 0.47211638, 0.47211638,\n",
       "         0.88291655, 0.88291655, 0.59474888, 0.59474888, 0.15124525,\n",
       "         0.15124525, 0.16616085, 0.16616085, 0.55277214, 0.55277214])}}"
      ]
     },
     "execution_count": 1,
     "metadata": {},
     "output_type": "execute_result"
    }
   ],
   "source": [
    "ds = load_by_id(run_id_n)\n",
    "ds.get_parameter_data('x1')"
   ]
  },
  {
   "cell_type": "markdown",
   "metadata": {},
   "source": [
    "And a dataset stored as binary arrays"
   ]
  },
  {
   "cell_type": "code",
   "execution_count": 12,
   "metadata": {
    "execution": {
     "iopub.execute_input": "2020-10-05T14:11:18.514734Z",
     "iopub.status.busy": "2020-10-05T14:11:18.514137Z",
     "iopub.status.idle": "2020-10-05T14:11:18.571556Z",
     "shell.execute_reply": "2020-10-05T14:11:18.572096Z"
    },
    "scrolled": true
   },
   "outputs": [
    {
     "data": {
      "text/plain": [
       "{'x1': {'x1': array([[0.01129303],\n",
       "         [0.01129303],\n",
       "         [0.27069704],\n",
       "         [0.27069704],\n",
       "         [0.94581217],\n",
       "         [0.94581217],\n",
       "         [0.10791555],\n",
       "         [0.10791555],\n",
       "         [0.78213959],\n",
       "         [0.78213959],\n",
       "         [0.9049475 ],\n",
       "         [0.9049475 ],\n",
       "         [0.2936549 ],\n",
       "         [0.2936549 ],\n",
       "         [0.10410439],\n",
       "         [0.10410439],\n",
       "         [0.11273304],\n",
       "         [0.11273304],\n",
       "         [0.47864723],\n",
       "         [0.47864723],\n",
       "         [0.10102761],\n",
       "         [0.10102761],\n",
       "         [0.0054801 ],\n",
       "         [0.0054801 ],\n",
       "         [0.21975114],\n",
       "         [0.21975114],\n",
       "         [0.09224247],\n",
       "         [0.09224247],\n",
       "         [0.3000332 ],\n",
       "         [0.3000332 ],\n",
       "         [0.37784921],\n",
       "         [0.37784921],\n",
       "         [0.0455825 ],\n",
       "         [0.0455825 ],\n",
       "         [0.75587378],\n",
       "         [0.75587378],\n",
       "         [0.62911035],\n",
       "         [0.62911035],\n",
       "         [0.34245703],\n",
       "         [0.34245703],\n",
       "         [0.88404142],\n",
       "         [0.88404142],\n",
       "         [0.4188424 ],\n",
       "         [0.4188424 ],\n",
       "         [0.58790974],\n",
       "         [0.58790974],\n",
       "         [0.86210855],\n",
       "         [0.86210855],\n",
       "         [0.60890225],\n",
       "         [0.60890225],\n",
       "         [0.14043186],\n",
       "         [0.14043186],\n",
       "         [0.02085943],\n",
       "         [0.02085943],\n",
       "         [0.22107531],\n",
       "         [0.22107531],\n",
       "         [0.83521146],\n",
       "         [0.83521146],\n",
       "         [0.03458595],\n",
       "         [0.03458595],\n",
       "         [0.84458819],\n",
       "         [0.84458819],\n",
       "         [0.4231018 ],\n",
       "         [0.4231018 ],\n",
       "         [0.00882017],\n",
       "         [0.00882017],\n",
       "         [0.25104335],\n",
       "         [0.25104335],\n",
       "         [0.30846411],\n",
       "         [0.30846411],\n",
       "         [0.89797887],\n",
       "         [0.89797887],\n",
       "         [0.89539603],\n",
       "         [0.89539603],\n",
       "         [0.73820543],\n",
       "         [0.73820543],\n",
       "         [0.39792189],\n",
       "         [0.39792189],\n",
       "         [0.78415042],\n",
       "         [0.78415042],\n",
       "         [0.86352286],\n",
       "         [0.86352286],\n",
       "         [0.44350028],\n",
       "         [0.44350028],\n",
       "         [0.88737796],\n",
       "         [0.88737796],\n",
       "         [0.0477777 ],\n",
       "         [0.0477777 ],\n",
       "         [0.76703388],\n",
       "         [0.76703388],\n",
       "         [0.25451897],\n",
       "         [0.25451897],\n",
       "         [0.95465611],\n",
       "         [0.95465611],\n",
       "         [0.66845081],\n",
       "         [0.66845081],\n",
       "         [0.76651072],\n",
       "         [0.76651072],\n",
       "         [0.23461824],\n",
       "         [0.23461824],\n",
       "         [0.02921605],\n",
       "         [0.02921605],\n",
       "         [0.2839635 ],\n",
       "         [0.2839635 ],\n",
       "         [0.61961312],\n",
       "         [0.61961312],\n",
       "         [0.49548631],\n",
       "         [0.49548631],\n",
       "         [0.88855885],\n",
       "         [0.88855885],\n",
       "         [0.18794508],\n",
       "         [0.18794508],\n",
       "         [0.64989856],\n",
       "         [0.64989856],\n",
       "         [0.81618565],\n",
       "         [0.81618565],\n",
       "         [0.89177343],\n",
       "         [0.89177343],\n",
       "         [0.67962549],\n",
       "         [0.67962549],\n",
       "         [0.33677245],\n",
       "         [0.33677245],\n",
       "         [0.7254536 ],\n",
       "         [0.7254536 ],\n",
       "         [0.77682245],\n",
       "         [0.77682245],\n",
       "         [0.2361308 ],\n",
       "         [0.2361308 ],\n",
       "         [0.98665663],\n",
       "         [0.98665663],\n",
       "         [0.47448398],\n",
       "         [0.47448398],\n",
       "         [0.78633684],\n",
       "         [0.78633684],\n",
       "         [0.32165115],\n",
       "         [0.32165115],\n",
       "         [0.52970529],\n",
       "         [0.52970529],\n",
       "         [0.22027847],\n",
       "         [0.22027847],\n",
       "         [0.61477466],\n",
       "         [0.61477466],\n",
       "         [0.6963927 ],\n",
       "         [0.6963927 ],\n",
       "         [0.81219336],\n",
       "         [0.81219336],\n",
       "         [0.03115067],\n",
       "         [0.03115067],\n",
       "         [0.64035685],\n",
       "         [0.64035685],\n",
       "         [0.0318692 ],\n",
       "         [0.0318692 ],\n",
       "         [0.95058421],\n",
       "         [0.95058421],\n",
       "         [0.53038691],\n",
       "         [0.53038691],\n",
       "         [0.29069012],\n",
       "         [0.29069012],\n",
       "         [0.3516464 ],\n",
       "         [0.3516464 ],\n",
       "         [0.59799335],\n",
       "         [0.59799335],\n",
       "         [0.24962353],\n",
       "         [0.24962353],\n",
       "         [0.45007857],\n",
       "         [0.45007857],\n",
       "         [0.73471173],\n",
       "         [0.73471173],\n",
       "         [0.40113891],\n",
       "         [0.40113891],\n",
       "         [0.32181673],\n",
       "         [0.32181673],\n",
       "         [0.84490725],\n",
       "         [0.84490725],\n",
       "         [0.84868239],\n",
       "         [0.84868239],\n",
       "         [0.62330341],\n",
       "         [0.62330341],\n",
       "         [0.93618012],\n",
       "         [0.93618012],\n",
       "         [0.67510199],\n",
       "         [0.67510199],\n",
       "         [0.90172485],\n",
       "         [0.90172485],\n",
       "         [0.64976813],\n",
       "         [0.64976813],\n",
       "         [0.6004927 ],\n",
       "         [0.6004927 ],\n",
       "         [0.37620011],\n",
       "         [0.37620011],\n",
       "         [0.26626904],\n",
       "         [0.26626904],\n",
       "         [0.60605875],\n",
       "         [0.60605875],\n",
       "         [0.80338728],\n",
       "         [0.80338728],\n",
       "         [0.90224218],\n",
       "         [0.90224218],\n",
       "         [0.63009098],\n",
       "         [0.63009098]])}}"
      ]
     },
     "execution_count": 1,
     "metadata": {},
     "output_type": "execute_result"
    }
   ],
   "source": [
    "ds = load_by_id(run_id_a)\n",
    "ds.get_parameter_data('x1')"
   ]
  },
  {
   "cell_type": "code",
   "execution_count": null,
   "metadata": {},
   "outputs": [],
   "source": []
  }
 ],
 "metadata": {
  "kernelspec": {
   "display_name": "Python 3",
   "language": "python",
   "name": "python3"
  },
  "language_info": {
   "codemirror_mode": {
    "name": "ipython",
    "version": 3
   },
   "file_extension": ".py",
   "mimetype": "text/x-python",
   "name": "python",
   "nbconvert_exporter": "python",
   "pygments_lexer": "ipython3",
   "version": "3.7.7"
  },
  "nbsphinx": {
   "timeout": 600
  },
  "toc": {
   "base_numbering": 1,
   "nav_menu": {},
   "number_sections": true,
   "sideBar": true,
   "skip_h1_title": false,
   "title_cell": "Table of Contents",
   "title_sidebar": "Contents",
   "toc_cell": false,
   "toc_position": {},
   "toc_section_display": true,
   "toc_window_display": false
  },
  "varInspector": {
   "cols": {
    "lenName": 16,
    "lenType": 16,
    "lenVar": 40
   },
   "kernels_config": {
    "python": {
     "delete_cmd_postfix": "",
     "delete_cmd_prefix": "del ",
     "library": "var_list.py",
     "varRefreshCmd": "print(var_dic_list())"
    },
    "r": {
     "delete_cmd_postfix": ") ",
     "delete_cmd_prefix": "rm(",
     "library": "var_list.r",
     "varRefreshCmd": "cat(var_dic_list()) "
    }
   },
   "types_to_exclude": [
    "module",
    "function",
    "builtin_function_or_method",
    "instance",
    "_Feature"
   ],
   "window_display": false
  }
 },
 "nbformat": 4,
 "nbformat_minor": 2
}
