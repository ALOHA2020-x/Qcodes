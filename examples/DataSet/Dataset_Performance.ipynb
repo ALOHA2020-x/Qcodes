{
 "cells": [
  {
   "cell_type": "markdown",
   "metadata": {},
   "source": [
    "# DataSet Performance\n",
    "\n",
    "This notebook shows the trade-off between inserting data into a database row-by-row and as binary blobs. Inserting the data row-by-row means that we have direct access to all the data and may perform queries directly on the values of the data. On the other hand, as we shall see, this is much slower than inserting the data directly as binary blobs."
   ]
  },
  {
   "cell_type": "markdown",
   "metadata": {},
   "source": [
    "First, we choose a new location for the database to ensure that we don't add a bunch of benchmarking data to the default one."
   ]
  },
  {
   "cell_type": "code",
   "execution_count": 1,
   "metadata": {
    "execution": {
     "iopub.execute_input": "2020-10-16T10:28:11.155167Z",
     "iopub.status.busy": "2020-10-16T10:28:11.154429Z",
     "iopub.status.idle": "2020-10-16T10:28:12.182094Z",
     "shell.execute_reply": "2020-10-16T10:28:12.182645Z"
    }
   },
   "outputs": [
    {
     "name": "stdout",
     "output_type": "stream",
     "text": [
      "Logging hadn't been started.\n",
      "Activating auto-logging. Current session state plus future input saved.\n",
      "Filename       : /home/vsts/.qcodes/logs/command_history.log\n",
      "Mode           : append\n",
      "Output logging : True\n",
      "Raw input log  : False\n",
      "Timestamping   : True\n",
      "State          : active\n"
     ]
    },
    {
     "name": "stdout",
     "output_type": "stream",
     "text": [
      "Qcodes Logfile : /home/vsts/.qcodes/logs/201016-14893-qcodes.log\n"
     ]
    }
   ],
   "source": [
    "import os\n",
    "cwd = os.getcwd()\n",
    "import qcodes as qc\n",
    "qc.config[\"core\"][\"db_location\"] = os.path.join(cwd, 'testing.db')\n"
   ]
  },
  {
   "cell_type": "code",
   "execution_count": 2,
   "metadata": {
    "execution": {
     "iopub.execute_input": "2020-10-16T10:28:12.188556Z",
     "iopub.status.busy": "2020-10-16T10:28:12.187968Z",
     "iopub.status.idle": "2020-10-16T10:28:12.367936Z",
     "shell.execute_reply": "2020-10-16T10:28:12.367010Z"
    }
   },
   "outputs": [],
   "source": [
    "%matplotlib inline\n",
    "import time\n",
    "import matplotlib.pyplot as plt\n",
    "import numpy as np\n",
    "\n",
    "import qcodes as qc\n",
    "from qcodes.instrument.parameter import ManualParameter\n",
    "from qcodes.dataset.experiment_container import (Experiment,\n",
    "                                                 load_last_experiment,\n",
    "                                                 new_experiment)\n",
    "from qcodes.dataset.sqlite.database import initialise_database\n",
    "from qcodes import load_or_create_experiment\n",
    "from qcodes.dataset.measurements import Measurement"
   ]
  },
  {
   "cell_type": "code",
   "execution_count": 3,
   "metadata": {
    "execution": {
     "iopub.execute_input": "2020-10-16T10:28:12.375374Z",
     "iopub.status.busy": "2020-10-16T10:28:12.373922Z",
     "iopub.status.idle": "2020-10-16T10:28:12.479400Z",
     "shell.execute_reply": "2020-10-16T10:28:12.478874Z"
    }
   },
   "outputs": [
    {
     "name": "stdout",
     "output_type": "stream",
     "text": [
      "\r",
      "0it [00:00, ?it/s]"
     ]
    },
    {
     "name": "stdout",
     "output_type": "stream",
     "text": [
      "\r",
      "Upgrading database; v0 -> v1: : 0it [00:00, ?it/s]"
     ]
    },
    {
     "name": "stdout",
     "output_type": "stream",
     "text": [
      "\r",
      "Upgrading database; v0 -> v1: : 0it [00:00, ?it/s]"
     ]
    },
    {
     "name": "stdout",
     "output_type": "stream",
     "text": [
      "\n",
      "\r",
      "  0%|          | 0/1 [00:00<?, ?it/s]"
     ]
    },
    {
     "name": "stdout",
     "output_type": "stream",
     "text": [
      "\r",
      "Upgrading database; v1 -> v2:   0%|          | 0/1 [00:00<?, ?it/s]"
     ]
    },
    {
     "name": "stdout",
     "output_type": "stream",
     "text": [
      "\r",
      "Upgrading database; v1 -> v2: 100%|██████████| 1/1 [00:00<00:00, 429.04it/s]"
     ]
    },
    {
     "name": "stdout",
     "output_type": "stream",
     "text": [
      "\n",
      "\r",
      "0it [00:00, ?it/s]"
     ]
    },
    {
     "name": "stdout",
     "output_type": "stream",
     "text": [
      "\r",
      "Upgrading database; v2 -> v3: : 0it [00:00, ?it/s]"
     ]
    },
    {
     "name": "stdout",
     "output_type": "stream",
     "text": [
      "\r",
      "Upgrading database; v2 -> v3: : 0it [00:00, ?it/s]"
     ]
    },
    {
     "name": "stdout",
     "output_type": "stream",
     "text": [
      "\n",
      "\r",
      "0it [00:00, ?it/s]"
     ]
    },
    {
     "name": "stdout",
     "output_type": "stream",
     "text": [
      "\r",
      "Upgrading database; v3 -> v4: : 0it [00:00, ?it/s]"
     ]
    },
    {
     "name": "stdout",
     "output_type": "stream",
     "text": [
      "\r",
      "Upgrading database; v3 -> v4: : 0it [00:00, ?it/s]"
     ]
    },
    {
     "name": "stdout",
     "output_type": "stream",
     "text": [
      "\n",
      "\r",
      "  0%|          | 0/1 [00:00<?, ?it/s]"
     ]
    },
    {
     "name": "stdout",
     "output_type": "stream",
     "text": [
      "\r",
      "Upgrading database; v4 -> v5:   0%|          | 0/1 [00:00<?, ?it/s]"
     ]
    },
    {
     "name": "stdout",
     "output_type": "stream",
     "text": [
      "\r",
      "Upgrading database; v4 -> v5: 100%|██████████| 1/1 [00:00<00:00, 849.91it/s]"
     ]
    },
    {
     "name": "stdout",
     "output_type": "stream",
     "text": [
      "\n",
      "\r",
      "0it [00:00, ?it/s]"
     ]
    },
    {
     "name": "stdout",
     "output_type": "stream",
     "text": [
      "\r",
      "Upgrading database; v5 -> v6: : 0it [00:00, ?it/s]"
     ]
    },
    {
     "name": "stdout",
     "output_type": "stream",
     "text": [
      "\r",
      "Upgrading database; v5 -> v6: : 0it [00:00, ?it/s]"
     ]
    },
    {
     "name": "stdout",
     "output_type": "stream",
     "text": [
      "\n",
      "\r",
      "  0%|          | 0/1 [00:00<?, ?it/s]"
     ]
    },
    {
     "name": "stdout",
     "output_type": "stream",
     "text": [
      "\r",
      "Upgrading database; v6 -> v7:   0%|          | 0/1 [00:00<?, ?it/s]"
     ]
    },
    {
     "name": "stdout",
     "output_type": "stream",
     "text": [
      "\r",
      "Upgrading database; v6 -> v7: 100%|██████████| 1/1 [00:00<00:00, 259.39it/s]"
     ]
    },
    {
     "name": "stdout",
     "output_type": "stream",
     "text": [
      "\n",
      "\r",
      "  0%|          | 0/1 [00:00<?, ?it/s]"
     ]
    },
    {
     "name": "stdout",
     "output_type": "stream",
     "text": [
      "\r",
      "Upgrading database; v7 -> v8:   0%|          | 0/1 [00:00<?, ?it/s]"
     ]
    },
    {
     "name": "stdout",
     "output_type": "stream",
     "text": [
      "\r",
      "Upgrading database; v7 -> v8: 100%|██████████| 1/1 [00:00<00:00, 444.69it/s]"
     ]
    },
    {
     "name": "stdout",
     "output_type": "stream",
     "text": [
      "\n",
      "\r",
      "  0%|          | 0/1 [00:00<?, ?it/s]"
     ]
    },
    {
     "name": "stdout",
     "output_type": "stream",
     "text": [
      "\r",
      "Upgrading database; v8 -> v9:   0%|          | 0/1 [00:00<?, ?it/s]"
     ]
    },
    {
     "name": "stdout",
     "output_type": "stream",
     "text": [
      "\r",
      "Upgrading database; v8 -> v9: 100%|██████████| 1/1 [00:00<00:00, 1178.51it/s]"
     ]
    },
    {
     "name": "stdout",
     "output_type": "stream",
     "text": [
      "\n"
     ]
    }
   ],
   "source": [
    "initialise_database()\n",
    "exp = load_or_create_experiment(experiment_name='tutorial_exp', sample_name=\"no sample\")"
   ]
  },
  {
   "cell_type": "markdown",
   "metadata": {},
   "source": [
    "Here, we define a simple function to benchmark the time it takes to insert n points with either numeric or array data type.\n",
    "We will compare both the time used to call ``add_result`` and the time used for the full measurement."
   ]
  },
  {
   "cell_type": "code",
   "execution_count": 4,
   "metadata": {
    "execution": {
     "iopub.execute_input": "2020-10-16T10:28:12.487154Z",
     "iopub.status.busy": "2020-10-16T10:28:12.486008Z",
     "iopub.status.idle": "2020-10-16T10:28:12.487614Z",
     "shell.execute_reply": "2020-10-16T10:28:12.488176Z"
    }
   },
   "outputs": [],
   "source": [
    "def insert_data(paramtype, npoints, nreps=1):\n",
    "\n",
    "    meas = Measurement(exp=exp)\n",
    "\n",
    "    x1 = ManualParameter('x1')\n",
    "    x2 = ManualParameter('x2')\n",
    "    x3 = ManualParameter('x3')\n",
    "    y1 = ManualParameter('y1')\n",
    "    y2 = ManualParameter('y2')\n",
    "\n",
    "    meas.register_parameter(x1, paramtype=paramtype)\n",
    "    meas.register_parameter(x2, paramtype=paramtype)\n",
    "    meas.register_parameter(x3, paramtype=paramtype)\n",
    "    meas.register_parameter(y1, setpoints=[x1, x2, x3],\n",
    "                            paramtype=paramtype)\n",
    "    meas.register_parameter(y2, setpoints=[x1, x2, x3],\n",
    "                            paramtype=paramtype)\n",
    "    start = time.perf_counter()\n",
    "    with meas.run() as datasaver:\n",
    "        start_adding = time.perf_counter()\n",
    "        for i in range(nreps):\n",
    "            datasaver.add_result((x1, np.random.rand(npoints)),\n",
    "                                 (x2, np.random.rand(npoints)),\n",
    "                                 (x3, np.random.rand(npoints)),\n",
    "                                 (y1, np.random.rand(npoints)),\n",
    "                                 (y2, np.random.rand(npoints)))\n",
    "        stop_adding = time.perf_counter()\n",
    "        run_id = datasaver.run_id\n",
    "    stop = time.perf_counter()\n",
    "    tot_time = stop - start\n",
    "    add_time = stop_adding - start_adding\n",
    "    return tot_time, add_time, run_id"
   ]
  },
  {
   "cell_type": "markdown",
   "metadata": {},
   "source": [
    "## Comparison between numeric/array data and binary blob"
   ]
  },
  {
   "cell_type": "markdown",
   "metadata": {},
   "source": [
    "### Case1: Short experiment time"
   ]
  },
  {
   "cell_type": "code",
   "execution_count": 5,
   "metadata": {
    "execution": {
     "iopub.execute_input": "2020-10-16T10:28:12.494138Z",
     "iopub.status.busy": "2020-10-16T10:28:12.493086Z",
     "iopub.status.idle": "2020-10-16T10:28:13.264757Z",
     "shell.execute_reply": "2020-10-16T10:28:13.264307Z"
    }
   },
   "outputs": [
    {
     "name": "stdout",
     "output_type": "stream",
     "text": [
      "Starting experimental run with id: 1. \n",
      "Starting experimental run with id: 2. \n",
      "Starting experimental run with id: 3. \n",
      "Starting experimental run with id: 4. \n",
      "Starting experimental run with id: 5. \n"
     ]
    },
    {
     "name": "stdout",
     "output_type": "stream",
     "text": [
      "Starting experimental run with id: 6. \n"
     ]
    },
    {
     "name": "stdout",
     "output_type": "stream",
     "text": [
      "Starting experimental run with id: 7. \n"
     ]
    },
    {
     "name": "stdout",
     "output_type": "stream",
     "text": [
      "Starting experimental run with id: 8. \n",
      "Starting experimental run with id: 9. \n"
     ]
    },
    {
     "name": "stdout",
     "output_type": "stream",
     "text": [
      "Starting experimental run with id: 10. \n",
      "Starting experimental run with id: 11. \n"
     ]
    },
    {
     "name": "stdout",
     "output_type": "stream",
     "text": [
      "Starting experimental run with id: 12. \n",
      "Starting experimental run with id: 13. \n"
     ]
    },
    {
     "name": "stdout",
     "output_type": "stream",
     "text": [
      "Starting experimental run with id: 14. \n"
     ]
    }
   ],
   "source": [
    "sizes = [1,500,1000,2000,3000,4000,5000]\n",
    "t_numeric = []\n",
    "t_numeric_add = []\n",
    "t_array = []\n",
    "t_array_add = []\n",
    "for size in sizes:\n",
    "    tn, tna, run_id_n =  insert_data('numeric', size)\n",
    "    t_numeric.append(tn)\n",
    "    t_numeric_add.append(tna)\n",
    "\n",
    "    ta, taa, run_id_a =  insert_data('array', size)\n",
    "    t_array.append(ta)\n",
    "    t_array_add.append(taa)"
   ]
  },
  {
   "cell_type": "code",
   "execution_count": 6,
   "metadata": {
    "execution": {
     "iopub.execute_input": "2020-10-16T10:28:13.283987Z",
     "iopub.status.busy": "2020-10-16T10:28:13.283373Z",
     "iopub.status.idle": "2020-10-16T10:28:13.518152Z",
     "shell.execute_reply": "2020-10-16T10:28:13.518959Z"
    }
   },
   "outputs": [
    {
     "data": {
      "image/png": "[encoded data removed]",
      "text/plain": [
       "<Figure size 432x288 with 1 Axes>"
      ]
     },
     "metadata": {
      "needs_background": "light"
     },
     "output_type": "display_data"
    }
   ],
   "source": [
    "fig, ax = plt.subplots(1,1)\n",
    "ax.plot(sizes, t_numeric, 'o-', label='Inserting row-by-row')\n",
    "ax.plot(sizes, t_numeric_add, 'o-', label='Inserting row-by-row: add_result only')\n",
    "ax.plot(sizes, t_array, 'd-', label='Inserting as binary blob')\n",
    "ax.plot(sizes, t_array_add, 'd-', label='Inserting as binary blob: add_result only')\n",
    "ax.legend()\n",
    "ax.set_xlabel('Array length')\n",
    "ax.set_ylabel('Time (s)')\n",
    "fig.tight_layout()"
   ]
  },
  {
   "cell_type": "markdown",
   "metadata": {},
   "source": [
    "As shown in the latter figure, the time to setup and and close the experiment is approximately 0.4 sec. In case of small array sizes, the difference between inserting values of data as arrays and inserting them row-by-row is relatively unimportant. At larger array sizes, i.e. above 10000 points, the cost of writing data as individual datapoints starts to become important.\n"
   ]
  },
  {
   "cell_type": "markdown",
   "metadata": {},
   "source": [
    "### Case2: Long experiment time "
   ]
  },
  {
   "cell_type": "code",
   "execution_count": 7,
   "metadata": {
    "execution": {
     "iopub.execute_input": "2020-10-16T10:28:13.526250Z",
     "iopub.status.busy": "2020-10-16T10:28:13.525349Z",
     "iopub.status.idle": "2020-10-16T10:29:10.220164Z",
     "shell.execute_reply": "2020-10-16T10:29:10.219462Z"
    }
   },
   "outputs": [
    {
     "name": "stdout",
     "output_type": "stream",
     "text": [
      "Starting experimental run with id: 15. \n",
      "Starting experimental run with id: 16. \n",
      "Starting experimental run with id: 17. \n"
     ]
    },
    {
     "name": "stdout",
     "output_type": "stream",
     "text": [
      "Starting experimental run with id: 18. \n",
      "Starting experimental run with id: 19. \n"
     ]
    },
    {
     "name": "stdout",
     "output_type": "stream",
     "text": [
      "Starting experimental run with id: 20. \n"
     ]
    },
    {
     "name": "stdout",
     "output_type": "stream",
     "text": [
      "Starting experimental run with id: 21. \n"
     ]
    },
    {
     "name": "stdout",
     "output_type": "stream",
     "text": [
      "Starting experimental run with id: 22. \n"
     ]
    },
    {
     "name": "stdout",
     "output_type": "stream",
     "text": [
      "Starting experimental run with id: 23. \n"
     ]
    },
    {
     "name": "stdout",
     "output_type": "stream",
     "text": [
      "Starting experimental run with id: 24. \n"
     ]
    },
    {
     "name": "stdout",
     "output_type": "stream",
     "text": [
      "Starting experimental run with id: 25. \n"
     ]
    },
    {
     "name": "stdout",
     "output_type": "stream",
     "text": [
      "Starting experimental run with id: 26. \n"
     ]
    },
    {
     "name": "stdout",
     "output_type": "stream",
     "text": [
      "Starting experimental run with id: 27. \n"
     ]
    },
    {
     "name": "stdout",
     "output_type": "stream",
     "text": [
      "Starting experimental run with id: 28. \n"
     ]
    }
   ],
   "source": [
    "sizes = [1,500,1000,2000,3000,4000,5000]\n",
    "nreps = 100\n",
    "t_numeric = []\n",
    "t_numeric_add = []\n",
    "t_numeric_run_ids = []\n",
    "t_array = []\n",
    "t_array_add = []\n",
    "t_array_run_ids = []\n",
    "for size in sizes:\n",
    "    tn, tna, run_id_n =  insert_data('numeric', size, nreps=nreps)\n",
    "    t_numeric.append(tn)\n",
    "    t_numeric_add.append(tna)\n",
    "    t_numeric_run_ids.append(run_id_n)\n",
    "\n",
    "    ta, taa, run_id_a =  insert_data('array', size, nreps=nreps)\n",
    "    t_array.append(ta)\n",
    "    t_array_add.append(taa)\n",
    "    t_array_run_ids.append(run_id_a)"
   ]
  },
  {
   "cell_type": "code",
   "execution_count": 8,
   "metadata": {
    "execution": {
     "iopub.execute_input": "2020-10-16T10:29:10.248382Z",
     "iopub.status.busy": "2020-10-16T10:29:10.239978Z",
     "iopub.status.idle": "2020-10-16T10:29:10.477400Z",
     "shell.execute_reply": "2020-10-16T10:29:10.476853Z"
    },
    "scrolled": true
   },
   "outputs": [
    {
     "data": {
      "image/png": "[encoded data removed]",
      "text/plain": [
       "<Figure size 432x288 with 1 Axes>"
      ]
     },
     "metadata": {
      "needs_background": "light"
     },
     "output_type": "display_data"
    }
   ],
   "source": [
    "fig, ax = plt.subplots(1,1)\n",
    "ax.plot(sizes, t_numeric, 'o-', label='Inserting row-by-row')\n",
    "ax.plot(sizes, t_numeric_add, 'o-', label='Inserting row-by-row: add_result only')\n",
    "ax.plot(sizes, t_array, 'd-', label='Inserting as binary blob')\n",
    "ax.plot(sizes, t_array_add, 'd-', label='Inserting as binary blob: add_result only')\n",
    "ax.legend()\n",
    "ax.set_xlabel('Array length')\n",
    "ax.set_ylabel('Time (s)')\n",
    "fig.tight_layout()"
   ]
  },
  {
   "cell_type": "markdown",
   "metadata": {},
   "source": [
    "However, as we increase the length of the experiment, as seen here by repeating the insertion 100 times, we see a big difference between inserting values of the data row-by-row and inserting it as a binary blob."
   ]
  },
  {
   "cell_type": "markdown",
   "metadata": {},
   "source": [
    "## Loading the data "
   ]
  },
  {
   "cell_type": "code",
   "execution_count": 9,
   "metadata": {
    "execution": {
     "iopub.execute_input": "2020-10-16T10:29:10.482382Z",
     "iopub.status.busy": "2020-10-16T10:29:10.481176Z",
     "iopub.status.idle": "2020-10-16T10:29:10.485805Z",
     "shell.execute_reply": "2020-10-16T10:29:10.485334Z"
    }
   },
   "outputs": [],
   "source": [
    "from qcodes.dataset.data_set import load_by_id\n",
    "from qcodes.dataset.data_export import get_data_by_id"
   ]
  },
  {
   "cell_type": "markdown",
   "metadata": {},
   "source": [
    "As usual you can load the data by using the ``load_by_id`` function but you will notice that the different storage methods\n",
    "are reflected in shape of the data as it is retrieved. "
   ]
  },
  {
   "cell_type": "code",
   "execution_count": 10,
   "metadata": {
    "execution": {
     "iopub.execute_input": "2020-10-16T10:29:10.490256Z",
     "iopub.status.busy": "2020-10-16T10:29:10.489703Z",
     "iopub.status.idle": "2020-10-16T10:29:10.492417Z",
     "shell.execute_reply": "2020-10-16T10:29:10.491824Z"
    }
   },
   "outputs": [],
   "source": [
    "run_id_n = t_numeric_run_ids[0]\n",
    "run_id_a = t_array_run_ids[0]"
   ]
  },
  {
   "cell_type": "code",
   "execution_count": 11,
   "metadata": {
    "execution": {
     "iopub.execute_input": "2020-10-16T10:29:10.495724Z",
     "iopub.status.busy": "2020-10-16T10:29:10.495192Z",
     "iopub.status.idle": "2020-10-16T10:29:10.504934Z",
     "shell.execute_reply": "2020-10-16T10:29:10.504110Z"
    },
    "scrolled": true
   },
   "outputs": [
    {
     "data": {
      "text/plain": [
       "{'x1': {'x1': array([0.06702999, 0.06702999, 0.39949354, 0.39949354, 0.84548342,\n",
       "         0.84548342, 0.97174754, 0.97174754, 0.21048556, 0.21048556,\n",
       "         0.30402637, 0.30402637, 0.05721477, 0.05721477, 0.07672857,\n",
       "         0.07672857, 0.87887458, 0.87887458, 0.57289161, 0.57289161,\n",
       "         0.09535402, 0.09535402, 0.53282023, 0.53282023, 0.89373052,\n",
       "         0.89373052, 0.70941702, 0.70941702, 0.02278718, 0.02278718,\n",
       "         0.49776629, 0.49776629, 0.15652511, 0.15652511, 0.58718563,\n",
       "         0.58718563, 0.01156529, 0.01156529, 0.34446653, 0.34446653,\n",
       "         0.55379554, 0.55379554, 0.57960279, 0.57960279, 0.78472618,\n",
       "         0.78472618, 0.02464943, 0.02464943, 0.86122897, 0.86122897,\n",
       "         0.01737494, 0.01737494, 0.98132967, 0.98132967, 0.73663647,\n",
       "         0.73663647, 0.46411663, 0.46411663, 0.10611904, 0.10611904,\n",
       "         0.45892873, 0.45892873, 0.1926011 , 0.1926011 , 0.92070386,\n",
       "         0.92070386, 0.81752886, 0.81752886, 0.91699164, 0.91699164,\n",
       "         0.46039907, 0.46039907, 0.82799506, 0.82799506, 0.12916786,\n",
       "         0.12916786, 0.87037826, 0.87037826, 0.62301668, 0.62301668,\n",
       "         0.74702386, 0.74702386, 0.30113413, 0.30113413, 0.18498216,\n",
       "         0.18498216, 0.54038806, 0.54038806, 0.25771715, 0.25771715,\n",
       "         0.3866141 , 0.3866141 , 0.02843473, 0.02843473, 0.04706023,\n",
       "         0.04706023, 0.85868105, 0.85868105, 0.76592255, 0.76592255,\n",
       "         0.53064485, 0.53064485, 0.6994641 , 0.6994641 , 0.47250604,\n",
       "         0.47250604, 0.77737335, 0.77737335, 0.58357211, 0.58357211,\n",
       "         0.99433563, 0.99433563, 0.50321575, 0.50321575, 0.23730796,\n",
       "         0.23730796, 0.93903845, 0.93903845, 0.47529454, 0.47529454,\n",
       "         0.88628773, 0.88628773, 0.13548844, 0.13548844, 0.66898262,\n",
       "         0.66898262, 0.9861999 , 0.9861999 , 0.82463004, 0.82463004,\n",
       "         0.23951166, 0.23951166, 0.22076523, 0.22076523, 0.94603565,\n",
       "         0.94603565, 0.13161549, 0.13161549, 0.91330089, 0.91330089,\n",
       "         0.18821109, 0.18821109, 0.88710578, 0.88710578, 0.06801099,\n",
       "         0.06801099, 0.59857858, 0.59857858, 0.04103529, 0.04103529,\n",
       "         0.12600714, 0.12600714, 0.28526218, 0.28526218, 0.46285995,\n",
       "         0.46285995, 0.26838555, 0.26838555, 0.72730426, 0.72730426,\n",
       "         0.44738292, 0.44738292, 0.71316478, 0.71316478, 0.96473391,\n",
       "         0.96473391, 0.97457225, 0.97457225, 0.57233916, 0.57233916,\n",
       "         0.18561632, 0.18561632, 0.20126367, 0.20126367, 0.97341925,\n",
       "         0.97341925, 0.71226315, 0.71226315, 0.08167205, 0.08167205,\n",
       "         0.74126145, 0.74126145, 0.22108582, 0.22108582, 0.50323741,\n",
       "         0.50323741, 0.57470512, 0.57470512, 0.81279044, 0.81279044,\n",
       "         0.23782904, 0.23782904, 0.98035494, 0.98035494, 0.40169198,\n",
       "         0.40169198, 0.22805326, 0.22805326, 0.34215512, 0.34215512])}}"
      ]
     },
     "execution_count": 1,
     "metadata": {},
     "output_type": "execute_result"
    }
   ],
   "source": [
    "ds = load_by_id(run_id_n)\n",
    "ds.get_parameter_data('x1')"
   ]
  },
  {
   "cell_type": "markdown",
   "metadata": {},
   "source": [
    "And a dataset stored as binary arrays"
   ]
  },
  {
   "cell_type": "code",
   "execution_count": 12,
   "metadata": {
    "execution": {
     "iopub.execute_input": "2020-10-16T10:29:10.508975Z",
     "iopub.status.busy": "2020-10-16T10:29:10.508365Z",
     "iopub.status.idle": "2020-10-16T10:29:10.571486Z",
     "shell.execute_reply": "2020-10-16T10:29:10.570826Z"
    },
    "scrolled": true
   },
   "outputs": [
    {
     "data": {
      "text/plain": [
       "{'x1': {'x1': array([[0.94562123],\n",
       "         [0.94562123],\n",
       "         [0.18470353],\n",
       "         [0.18470353],\n",
       "         [0.83010365],\n",
       "         [0.83010365],\n",
       "         [0.77040598],\n",
       "         [0.77040598],\n",
       "         [0.27300559],\n",
       "         [0.27300559],\n",
       "         [0.88530429],\n",
       "         [0.88530429],\n",
       "         [0.32324212],\n",
       "         [0.32324212],\n",
       "         [0.39157401],\n",
       "         [0.39157401],\n",
       "         [0.12594944],\n",
       "         [0.12594944],\n",
       "         [0.04867866],\n",
       "         [0.04867866],\n",
       "         [0.1029391 ],\n",
       "         [0.1029391 ],\n",
       "         [0.39705589],\n",
       "         [0.39705589],\n",
       "         [0.92724489],\n",
       "         [0.92724489],\n",
       "         [0.12474683],\n",
       "         [0.12474683],\n",
       "         [0.01071321],\n",
       "         [0.01071321],\n",
       "         [0.08247937],\n",
       "         [0.08247937],\n",
       "         [0.082045  ],\n",
       "         [0.082045  ],\n",
       "         [0.06537985],\n",
       "         [0.06537985],\n",
       "         [0.88225011],\n",
       "         [0.88225011],\n",
       "         [0.83124336],\n",
       "         [0.83124336],\n",
       "         [0.42068462],\n",
       "         [0.42068462],\n",
       "         [0.00725358],\n",
       "         [0.00725358],\n",
       "         [0.32242199],\n",
       "         [0.32242199],\n",
       "         [0.80732858],\n",
       "         [0.80732858],\n",
       "         [0.82544928],\n",
       "         [0.82544928],\n",
       "         [0.89005809],\n",
       "         [0.89005809],\n",
       "         [0.6267113 ],\n",
       "         [0.6267113 ],\n",
       "         [0.64596094],\n",
       "         [0.64596094],\n",
       "         [0.04460738],\n",
       "         [0.04460738],\n",
       "         [0.76563631],\n",
       "         [0.76563631],\n",
       "         [0.01064139],\n",
       "         [0.01064139],\n",
       "         [0.40765385],\n",
       "         [0.40765385],\n",
       "         [0.07122309],\n",
       "         [0.07122309],\n",
       "         [0.04208678],\n",
       "         [0.04208678],\n",
       "         [0.65184701],\n",
       "         [0.65184701],\n",
       "         [0.29227706],\n",
       "         [0.29227706],\n",
       "         [0.91972011],\n",
       "         [0.91972011],\n",
       "         [0.23883195],\n",
       "         [0.23883195],\n",
       "         [0.73972383],\n",
       "         [0.73972383],\n",
       "         [0.78095864],\n",
       "         [0.78095864],\n",
       "         [0.2574935 ],\n",
       "         [0.2574935 ],\n",
       "         [0.89133968],\n",
       "         [0.89133968],\n",
       "         [0.52357948],\n",
       "         [0.52357948],\n",
       "         [0.378352  ],\n",
       "         [0.378352  ],\n",
       "         [0.58436439],\n",
       "         [0.58436439],\n",
       "         [0.72910763],\n",
       "         [0.72910763],\n",
       "         [0.41216762],\n",
       "         [0.41216762],\n",
       "         [0.05799083],\n",
       "         [0.05799083],\n",
       "         [0.35873983],\n",
       "         [0.35873983],\n",
       "         [0.43033822],\n",
       "         [0.43033822],\n",
       "         [0.27952386],\n",
       "         [0.27952386],\n",
       "         [0.43189468],\n",
       "         [0.43189468],\n",
       "         [0.18667898],\n",
       "         [0.18667898],\n",
       "         [0.15827751],\n",
       "         [0.15827751],\n",
       "         [0.01107137],\n",
       "         [0.01107137],\n",
       "         [0.62528849],\n",
       "         [0.62528849],\n",
       "         [0.77262303],\n",
       "         [0.77262303],\n",
       "         [0.98856651],\n",
       "         [0.98856651],\n",
       "         [0.08013688],\n",
       "         [0.08013688],\n",
       "         [0.88630366],\n",
       "         [0.88630366],\n",
       "         [0.3005093 ],\n",
       "         [0.3005093 ],\n",
       "         [0.66973985],\n",
       "         [0.66973985],\n",
       "         [0.25121795],\n",
       "         [0.25121795],\n",
       "         [0.56928927],\n",
       "         [0.56928927],\n",
       "         [0.27845672],\n",
       "         [0.27845672],\n",
       "         [0.25339488],\n",
       "         [0.25339488],\n",
       "         [0.97903018],\n",
       "         [0.97903018],\n",
       "         [0.57407738],\n",
       "         [0.57407738],\n",
       "         [0.64705736],\n",
       "         [0.64705736],\n",
       "         [0.83123545],\n",
       "         [0.83123545],\n",
       "         [0.46231978],\n",
       "         [0.46231978],\n",
       "         [0.66303674],\n",
       "         [0.66303674],\n",
       "         [0.92961039],\n",
       "         [0.92961039],\n",
       "         [0.42125179],\n",
       "         [0.42125179],\n",
       "         [0.5911714 ],\n",
       "         [0.5911714 ],\n",
       "         [0.14501851],\n",
       "         [0.14501851],\n",
       "         [0.90289699],\n",
       "         [0.90289699],\n",
       "         [0.85420711],\n",
       "         [0.85420711],\n",
       "         [0.56041701],\n",
       "         [0.56041701],\n",
       "         [0.32491096],\n",
       "         [0.32491096],\n",
       "         [0.05998938],\n",
       "         [0.05998938],\n",
       "         [0.59835705],\n",
       "         [0.59835705],\n",
       "         [0.94325723],\n",
       "         [0.94325723],\n",
       "         [0.84936957],\n",
       "         [0.84936957],\n",
       "         [0.30676742],\n",
       "         [0.30676742],\n",
       "         [0.05199552],\n",
       "         [0.05199552],\n",
       "         [0.68159913],\n",
       "         [0.68159913],\n",
       "         [0.99457   ],\n",
       "         [0.99457   ],\n",
       "         [0.93577954],\n",
       "         [0.93577954],\n",
       "         [0.5302098 ],\n",
       "         [0.5302098 ],\n",
       "         [0.80522493],\n",
       "         [0.80522493],\n",
       "         [0.75527987],\n",
       "         [0.75527987],\n",
       "         [0.96081607],\n",
       "         [0.96081607],\n",
       "         [0.72214568],\n",
       "         [0.72214568],\n",
       "         [0.29195925],\n",
       "         [0.29195925],\n",
       "         [0.74243489],\n",
       "         [0.74243489],\n",
       "         [0.11792397],\n",
       "         [0.11792397],\n",
       "         [0.24236229],\n",
       "         [0.24236229],\n",
       "         [0.20410959],\n",
       "         [0.20410959],\n",
       "         [0.55496479],\n",
       "         [0.55496479]])}}"
      ]
     },
     "execution_count": 1,
     "metadata": {},
     "output_type": "execute_result"
    }
   ],
   "source": [
    "ds = load_by_id(run_id_a)\n",
    "ds.get_parameter_data('x1')"
   ]
  },
  {
   "cell_type": "code",
   "execution_count": null,
   "metadata": {},
   "outputs": [],
   "source": []
  }
 ],
 "metadata": {
  "kernelspec": {
   "display_name": "Python 3",
   "language": "python",
   "name": "python3"
  },
  "language_info": {
   "codemirror_mode": {
    "name": "ipython",
    "version": 3
   },
   "file_extension": ".py",
   "mimetype": "text/x-python",
   "name": "python",
   "nbconvert_exporter": "python",
   "pygments_lexer": "ipython3",
   "version": "3.7.7"
  },
  "nbsphinx": {
   "timeout": 600
  },
  "toc": {
   "base_numbering": 1,
   "nav_menu": {},
   "number_sections": true,
   "sideBar": true,
   "skip_h1_title": false,
   "title_cell": "Table of Contents",
   "title_sidebar": "Contents",
   "toc_cell": false,
   "toc_position": {},
   "toc_section_display": true,
   "toc_window_display": false
  },
  "varInspector": {
   "cols": {
    "lenName": 16,
    "lenType": 16,
    "lenVar": 40
   },
   "kernels_config": {
    "python": {
     "delete_cmd_postfix": "",
     "delete_cmd_prefix": "del ",
     "library": "var_list.py",
     "varRefreshCmd": "print(var_dic_list())"
    },
    "r": {
     "delete_cmd_postfix": ") ",
     "delete_cmd_prefix": "rm(",
     "library": "var_list.r",
     "varRefreshCmd": "cat(var_dic_list()) "
    }
   },
   "types_to_exclude": [
    "module",
    "function",
    "builtin_function_or_method",
    "instance",
    "_Feature"
   ],
   "window_display": false
  }
 },
 "nbformat": 4,
 "nbformat_minor": 2
}
