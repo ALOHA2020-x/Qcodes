{
 "cells": [
  {
   "cell_type": "markdown",
   "metadata": {},
   "source": [
    "# DataSet Performance\n",
    "\n",
    "This notebook shows the trade-off between inserting data into a database row-by-row and as binary blobs. Inserting the data row-by-row means that we have direct access to all the data and may perform queries directly on the values of the data. On the other hand, as we shall see, this is much slower than inserting the data directly as binary blobs."
   ]
  },
  {
   "cell_type": "markdown",
   "metadata": {},
   "source": [
    "First, we choose a new location for the database to ensure that we don't add a bunch of benchmarking data to the default one."
   ]
  },
  {
   "cell_type": "code",
   "execution_count": 1,
   "metadata": {},
   "outputs": [
    {
     "name": "stdout",
     "output_type": "stream",
     "text": [
      "Logging hadn't been started.\n",
      "Activating auto-logging. Current session state plus future input saved.\n",
      "Filename       : /home/vsts/.qcodes/logs/command_history.log\n",
      "Mode           : append\n",
      "Output logging : True\n",
      "Raw input log  : False\n",
      "Timestamping   : True\n",
      "State          : active\n"
     ]
    },
    {
     "name": "stdout",
     "output_type": "stream",
     "text": [
      "Qcodes Logfile : /home/vsts/.qcodes/logs/200323-20090-qcodes.log\n"
     ]
    }
   ],
   "source": [
    "import os\n",
    "cwd = os.getcwd()\n",
    "import qcodes as qc\n",
    "qc.config[\"core\"][\"db_location\"] = os.path.join(cwd, 'testing.db')\n"
   ]
  },
  {
   "cell_type": "code",
   "execution_count": 2,
   "metadata": {},
   "outputs": [],
   "source": [
    "%matplotlib inline\n",
    "import time\n",
    "import matplotlib.pyplot as plt\n",
    "import numpy as np\n",
    "\n",
    "import qcodes as qc\n",
    "from qcodes.instrument.parameter import ManualParameter\n",
    "from qcodes.dataset.experiment_container import (Experiment,\n",
    "                                                 load_last_experiment,\n",
    "                                                 new_experiment)\n",
    "from qcodes.dataset.sqlite.database import initialise_database\n",
    "from qcodes import load_or_create_experiment\n",
    "from qcodes.dataset.measurements import Measurement"
   ]
  },
  {
   "cell_type": "code",
   "execution_count": 3,
   "metadata": {},
   "outputs": [
    {
     "name": "stdout",
     "output_type": "stream",
     "text": [
      "\r",
      "0it [00:00, ?it/s]"
     ]
    },
    {
     "name": "stdout",
     "output_type": "stream",
     "text": [
      "\r",
      "Upgrading database; v0 -> v1: : 0it [00:00, ?it/s]"
     ]
    },
    {
     "name": "stdout",
     "output_type": "stream",
     "text": [
      "\r",
      "Upgrading database; v0 -> v1: : 0it [00:00, ?it/s]"
     ]
    },
    {
     "name": "stdout",
     "output_type": "stream",
     "text": [
      "\n",
      "\r",
      "  0%|          | 0/1 [00:00<?, ?it/s]"
     ]
    },
    {
     "name": "stdout",
     "output_type": "stream",
     "text": [
      "\r",
      "Upgrading database; v1 -> v2:   0%|          | 0/1 [00:00<?, ?it/s]"
     ]
    },
    {
     "name": "stdout",
     "output_type": "stream",
     "text": [
      "\r",
      "Upgrading database; v1 -> v2: 100%|██████████| 1/1 [00:00<00:00, 1046.48it/s]"
     ]
    },
    {
     "name": "stdout",
     "output_type": "stream",
     "text": [
      "\n",
      "\r",
      "0it [00:00, ?it/s]"
     ]
    },
    {
     "name": "stdout",
     "output_type": "stream",
     "text": [
      "\r",
      "Upgrading database; v2 -> v3: : 0it [00:00, ?it/s]"
     ]
    },
    {
     "name": "stdout",
     "output_type": "stream",
     "text": [
      "\r",
      "Upgrading database; v2 -> v3: : 0it [00:00, ?it/s]"
     ]
    },
    {
     "name": "stdout",
     "output_type": "stream",
     "text": [
      "\n",
      "\r",
      "0it [00:00, ?it/s]"
     ]
    },
    {
     "name": "stdout",
     "output_type": "stream",
     "text": [
      "\r",
      "Upgrading database; v3 -> v4: : 0it [00:00, ?it/s]"
     ]
    },
    {
     "name": "stdout",
     "output_type": "stream",
     "text": [
      "\r",
      "Upgrading database; v3 -> v4: : 0it [00:00, ?it/s]"
     ]
    },
    {
     "name": "stdout",
     "output_type": "stream",
     "text": [
      "\n",
      "\r",
      "  0%|          | 0/1 [00:00<?, ?it/s]"
     ]
    },
    {
     "name": "stdout",
     "output_type": "stream",
     "text": [
      "\r",
      "Upgrading database; v4 -> v5:   0%|          | 0/1 [00:00<?, ?it/s]"
     ]
    },
    {
     "name": "stdout",
     "output_type": "stream",
     "text": [
      "\r",
      "Upgrading database; v4 -> v5: 100%|██████████| 1/1 [00:00<00:00, 752.48it/s]"
     ]
    },
    {
     "name": "stdout",
     "output_type": "stream",
     "text": [
      "\n",
      "\r",
      "0it [00:00, ?it/s]"
     ]
    },
    {
     "name": "stdout",
     "output_type": "stream",
     "text": [
      "\r",
      "Upgrading database; v5 -> v6: : 0it [00:00, ?it/s]"
     ]
    },
    {
     "name": "stdout",
     "output_type": "stream",
     "text": [
      "\r",
      "Upgrading database; v5 -> v6: : 0it [00:00, ?it/s]"
     ]
    },
    {
     "name": "stdout",
     "output_type": "stream",
     "text": [
      "\n",
      "\r",
      "  0%|          | 0/1 [00:00<?, ?it/s]"
     ]
    },
    {
     "name": "stdout",
     "output_type": "stream",
     "text": [
      "\r",
      "Upgrading database; v6 -> v7:   0%|          | 0/1 [00:00<?, ?it/s]"
     ]
    },
    {
     "name": "stdout",
     "output_type": "stream",
     "text": [
      "\r",
      "Upgrading database; v6 -> v7: 100%|██████████| 1/1 [00:00<00:00, 398.85it/s]"
     ]
    },
    {
     "name": "stdout",
     "output_type": "stream",
     "text": [
      "\n",
      "\r",
      "  0%|          | 0/1 [00:00<?, ?it/s]"
     ]
    },
    {
     "name": "stdout",
     "output_type": "stream",
     "text": [
      "\r",
      "Upgrading database; v7 -> v8:   0%|          | 0/1 [00:00<?, ?it/s]"
     ]
    },
    {
     "name": "stdout",
     "output_type": "stream",
     "text": [
      "\r",
      "Upgrading database; v7 -> v8: 100%|██████████| 1/1 [00:00<00:00, 661.98it/s]"
     ]
    },
    {
     "name": "stdout",
     "output_type": "stream",
     "text": [
      "\n",
      "\r",
      "  0%|          | 0/1 [00:00<?, ?it/s]"
     ]
    },
    {
     "name": "stdout",
     "output_type": "stream",
     "text": [
      "\r",
      "Upgrading database; v8 -> v9:   0%|          | 0/1 [00:00<?, ?it/s]"
     ]
    },
    {
     "name": "stdout",
     "output_type": "stream",
     "text": [
      "\r",
      "Upgrading database; v8 -> v9: 100%|██████████| 1/1 [00:00<00:00, 1030.54it/s]"
     ]
    },
    {
     "name": "stdout",
     "output_type": "stream",
     "text": [
      "\n"
     ]
    }
   ],
   "source": [
    "initialise_database()\n",
    "exp = load_or_create_experiment(experiment_name='tutorial_exp', sample_name=\"no sample\")"
   ]
  },
  {
   "cell_type": "markdown",
   "metadata": {},
   "source": [
    "Here, we define a simple function to benchmark the time it takes to insert n points with either numeric or array data type.\n",
    "We will compare both the time used to call ``add_result`` and the time used for the full measurement."
   ]
  },
  {
   "cell_type": "code",
   "execution_count": 4,
   "metadata": {},
   "outputs": [],
   "source": [
    "def insert_data(paramtype, npoints, nreps=1):\n",
    "\n",
    "    meas = Measurement(exp=exp)\n",
    "\n",
    "    x1 = ManualParameter('x1')\n",
    "    x2 = ManualParameter('x2')\n",
    "    x3 = ManualParameter('x3')\n",
    "    y1 = ManualParameter('y1')\n",
    "    y2 = ManualParameter('y2')\n",
    "\n",
    "    meas.register_parameter(x1, paramtype=paramtype)\n",
    "    meas.register_parameter(x2, paramtype=paramtype)\n",
    "    meas.register_parameter(x3, paramtype=paramtype)\n",
    "    meas.register_parameter(y1, setpoints=[x1, x2, x3],\n",
    "                            paramtype=paramtype)\n",
    "    meas.register_parameter(y2, setpoints=[x1, x2, x3],\n",
    "                            paramtype=paramtype)\n",
    "    start = time.perf_counter()\n",
    "    with meas.run() as datasaver:\n",
    "        start_adding = time.perf_counter()\n",
    "        for i in range(nreps):\n",
    "            datasaver.add_result((x1, np.random.rand(npoints)),\n",
    "                                 (x2, np.random.rand(npoints)),\n",
    "                                 (x3, np.random.rand(npoints)),\n",
    "                                 (y1, np.random.rand(npoints)),\n",
    "                                 (y2, np.random.rand(npoints)))\n",
    "        stop_adding = time.perf_counter()\n",
    "        run_id = datasaver.run_id\n",
    "    stop = time.perf_counter()\n",
    "    tot_time = stop - start\n",
    "    add_time = stop_adding - start_adding\n",
    "    return tot_time, add_time, run_id"
   ]
  },
  {
   "cell_type": "markdown",
   "metadata": {},
   "source": [
    "## Comparison between numeric/array data and binary blob"
   ]
  },
  {
   "cell_type": "markdown",
   "metadata": {},
   "source": [
    "### Case1: Short experiment time"
   ]
  },
  {
   "cell_type": "code",
   "execution_count": 5,
   "metadata": {},
   "outputs": [
    {
     "name": "stdout",
     "output_type": "stream",
     "text": [
      "Starting experimental run with id: 1. \n",
      "Starting experimental run with id: 2. \n",
      "Starting experimental run with id: 3. \n",
      "Starting experimental run with id: 4. \n"
     ]
    },
    {
     "name": "stdout",
     "output_type": "stream",
     "text": [
      "Starting experimental run with id: 5. \n"
     ]
    },
    {
     "name": "stdout",
     "output_type": "stream",
     "text": [
      "Starting experimental run with id: 6. \n",
      "Starting experimental run with id: 7. \n"
     ]
    },
    {
     "name": "stdout",
     "output_type": "stream",
     "text": [
      "Starting experimental run with id: 8. \n"
     ]
    },
    {
     "name": "stdout",
     "output_type": "stream",
     "text": [
      "Starting experimental run with id: 9. \n"
     ]
    },
    {
     "name": "stdout",
     "output_type": "stream",
     "text": [
      "Starting experimental run with id: 10. \n",
      "Starting experimental run with id: 11. \n"
     ]
    },
    {
     "name": "stdout",
     "output_type": "stream",
     "text": [
      "Starting experimental run with id: 12. \n",
      "Starting experimental run with id: 13. \n"
     ]
    },
    {
     "name": "stdout",
     "output_type": "stream",
     "text": [
      "Starting experimental run with id: 14. \n"
     ]
    }
   ],
   "source": [
    "sizes = [1,500,1000,2000,3000,4000,5000]\n",
    "t_numeric = []\n",
    "t_numeric_add = []\n",
    "t_array = []\n",
    "t_array_add = []\n",
    "for size in sizes:\n",
    "    tn, tna, run_id_n =  insert_data('numeric', size)\n",
    "    t_numeric.append(tn)\n",
    "    t_numeric_add.append(tna)\n",
    "\n",
    "    ta, taa, run_id_a =  insert_data('array', size)\n",
    "    t_array.append(ta)\n",
    "    t_array_add.append(taa)"
   ]
  },
  {
   "cell_type": "code",
   "execution_count": 6,
   "metadata": {},
   "outputs": [
    {
     "data": {
      "image/png": "[encoded data removed]",
      "text/plain": [
       "<Figure size 432x288 with 1 Axes>"
      ]
     },
     "metadata": {
      "needs_background": "light"
     },
     "output_type": "display_data"
    }
   ],
   "source": [
    "fig, ax = plt.subplots(1,1)\n",
    "ax.plot(sizes, t_numeric, 'o-', label='Inserting row-by-row')\n",
    "ax.plot(sizes, t_numeric_add, 'o-', label='Inserting row-by-row: add_result only')\n",
    "ax.plot(sizes, t_array, 'd-', label='Inserting as binary blob')\n",
    "ax.plot(sizes, t_array_add, 'd-', label='Inserting as binary blob: add_result only')\n",
    "ax.legend()\n",
    "ax.set_xlabel('Array length')\n",
    "ax.set_ylabel('Time (s)')\n",
    "fig.tight_layout()"
   ]
  },
  {
   "cell_type": "markdown",
   "metadata": {},
   "source": [
    "As shown in the latter figure, the time to setup and and close the experiment is approximately 0.4 sec. In case of small array sizes, the difference between inserting values of data as arrays and inserting them row-by-row is relatively unimportant. At larger array sizes, i.e. above 10000 points, the cost of writing data as individual datapoints starts to become important.\n"
   ]
  },
  {
   "cell_type": "markdown",
   "metadata": {},
   "source": [
    "### Case2: Long experiment time "
   ]
  },
  {
   "cell_type": "code",
   "execution_count": 7,
   "metadata": {},
   "outputs": [
    {
     "name": "stdout",
     "output_type": "stream",
     "text": [
      "Starting experimental run with id: 15. \n",
      "Starting experimental run with id: 16. \n",
      "Starting experimental run with id: 17. \n"
     ]
    },
    {
     "name": "stdout",
     "output_type": "stream",
     "text": [
      "Starting experimental run with id: 18. \n",
      "Starting experimental run with id: 19. \n"
     ]
    },
    {
     "name": "stdout",
     "output_type": "stream",
     "text": [
      "Starting experimental run with id: 20. \n"
     ]
    },
    {
     "name": "stdout",
     "output_type": "stream",
     "text": [
      "Starting experimental run with id: 21. \n"
     ]
    },
    {
     "name": "stdout",
     "output_type": "stream",
     "text": [
      "Starting experimental run with id: 22. \n"
     ]
    },
    {
     "name": "stdout",
     "output_type": "stream",
     "text": [
      "Starting experimental run with id: 23. \n"
     ]
    },
    {
     "name": "stdout",
     "output_type": "stream",
     "text": [
      "Starting experimental run with id: 24. \n"
     ]
    },
    {
     "name": "stdout",
     "output_type": "stream",
     "text": [
      "Starting experimental run with id: 25. \n"
     ]
    },
    {
     "name": "stdout",
     "output_type": "stream",
     "text": [
      "Starting experimental run with id: 26. \n"
     ]
    },
    {
     "name": "stdout",
     "output_type": "stream",
     "text": [
      "Starting experimental run with id: 27. \n"
     ]
    },
    {
     "name": "stdout",
     "output_type": "stream",
     "text": [
      "Starting experimental run with id: 28. \n"
     ]
    }
   ],
   "source": [
    "sizes = [1,500,1000,2000,3000,4000,5000]\n",
    "nreps = 100\n",
    "t_numeric = []\n",
    "t_numeric_add = []\n",
    "t_numeric_run_ids = []\n",
    "t_array = []\n",
    "t_array_add = []\n",
    "t_array_run_ids = []\n",
    "for size in sizes:\n",
    "    tn, tna, run_id_n =  insert_data('numeric', size, nreps=nreps)\n",
    "    t_numeric.append(tn)\n",
    "    t_numeric_add.append(tna)\n",
    "    t_numeric_run_ids.append(run_id_n)\n",
    "\n",
    "    ta, taa, run_id_a =  insert_data('array', size, nreps=nreps)\n",
    "    t_array.append(ta)\n",
    "    t_array_add.append(taa)\n",
    "    t_array_run_ids.append(run_id_a)"
   ]
  },
  {
   "cell_type": "code",
   "execution_count": 8,
   "metadata": {
    "scrolled": true
   },
   "outputs": [
    {
     "data": {
      "image/png": "[encoded data removed]",
      "text/plain": [
       "<Figure size 432x288 with 1 Axes>"
      ]
     },
     "metadata": {
      "needs_background": "light"
     },
     "output_type": "display_data"
    }
   ],
   "source": [
    "fig, ax = plt.subplots(1,1)\n",
    "ax.plot(sizes, t_numeric, 'o-', label='Inserting row-by-row')\n",
    "ax.plot(sizes, t_numeric_add, 'o-', label='Inserting row-by-row: add_result only')\n",
    "ax.plot(sizes, t_array, 'd-', label='Inserting as binary blob')\n",
    "ax.plot(sizes, t_array_add, 'd-', label='Inserting as binary blob: add_result only')\n",
    "ax.legend()\n",
    "ax.set_xlabel('Array length')\n",
    "ax.set_ylabel('Time (s)')\n",
    "fig.tight_layout()"
   ]
  },
  {
   "cell_type": "markdown",
   "metadata": {},
   "source": [
    "However, as we increase the length of the experiment, as seen here by repeating the insertion 100 times, we see a big difference between inserting values of the data row-by-row and inserting it as a binary blob."
   ]
  },
  {
   "cell_type": "markdown",
   "metadata": {},
   "source": [
    "## Loading the data "
   ]
  },
  {
   "cell_type": "code",
   "execution_count": 9,
   "metadata": {},
   "outputs": [],
   "source": [
    "from qcodes.dataset.data_set import load_by_id\n",
    "from qcodes.dataset.data_export import get_data_by_id"
   ]
  },
  {
   "cell_type": "markdown",
   "metadata": {},
   "source": [
    "As usual you can load the data by using the ``load_by_id`` function but you will notice that the different storage methods\n",
    "are reflected in shape of the data as it is retrieved. "
   ]
  },
  {
   "cell_type": "code",
   "execution_count": 10,
   "metadata": {},
   "outputs": [],
   "source": [
    "run_id_n = t_numeric_run_ids[0]\n",
    "run_id_a = t_array_run_ids[0]"
   ]
  },
  {
   "cell_type": "code",
   "execution_count": 11,
   "metadata": {
    "scrolled": true
   },
   "outputs": [
    {
     "data": {
      "text/plain": [
       "{'x1': {'x1': array([0.42645538, 0.42645538, 0.15020111, 0.15020111, 0.61906177,\n",
       "         0.61906177, 0.70611063, 0.70611063, 0.68758678, 0.68758678,\n",
       "         0.35724206, 0.35724206, 0.73539929, 0.73539929, 0.64297008,\n",
       "         0.64297008, 0.39855332, 0.39855332, 0.29259529, 0.29259529,\n",
       "         0.79109245, 0.79109245, 0.65434793, 0.65434793, 0.36629876,\n",
       "         0.36629876, 0.63434292, 0.63434292, 0.84467705, 0.84467705,\n",
       "         0.19250657, 0.19250657, 0.52698752, 0.52698752, 0.4500645 ,\n",
       "         0.4500645 , 0.65662406, 0.65662406, 0.63053533, 0.63053533,\n",
       "         0.59655705, 0.59655705, 0.83441308, 0.83441308, 0.2187125 ,\n",
       "         0.2187125 , 0.15330744, 0.15330744, 0.91564028, 0.91564028,\n",
       "         0.69114983, 0.69114983, 0.09480618, 0.09480618, 0.32602501,\n",
       "         0.32602501, 0.34574372, 0.34574372, 0.64842653, 0.64842653,\n",
       "         0.12440576, 0.12440576, 0.22393561, 0.22393561, 0.6986397 ,\n",
       "         0.6986397 , 0.47295029, 0.47295029, 0.00687915, 0.00687915,\n",
       "         0.79592373, 0.79592373, 0.19080453, 0.19080453, 0.55647729,\n",
       "         0.55647729, 0.871276  , 0.871276  , 0.21489188, 0.21489188,\n",
       "         0.72891916, 0.72891916, 0.38337006, 0.38337006, 0.34619398,\n",
       "         0.34619398, 0.56973669, 0.56973669, 0.02448385, 0.02448385,\n",
       "         0.91365466, 0.91365466, 0.6328531 , 0.6328531 , 0.07751561,\n",
       "         0.07751561, 0.38959659, 0.38959659, 0.1107323 , 0.1107323 ,\n",
       "         0.69029404, 0.69029404, 0.83929977, 0.83929977, 0.14389579,\n",
       "         0.14389579, 0.07554396, 0.07554396, 0.99398795, 0.99398795,\n",
       "         0.34532923, 0.34532923, 0.11287186, 0.11287186, 0.67170396,\n",
       "         0.67170396, 0.4233692 , 0.4233692 , 0.67151515, 0.67151515,\n",
       "         0.70277538, 0.70277538, 0.14949596, 0.14949596, 0.90263198,\n",
       "         0.90263198, 0.93122624, 0.93122624, 0.43360068, 0.43360068,\n",
       "         0.93105999, 0.93105999, 0.6509733 , 0.6509733 , 0.48599201,\n",
       "         0.48599201, 0.0160732 , 0.0160732 , 0.02111723, 0.02111723,\n",
       "         0.67632382, 0.67632382, 0.3502389 , 0.3502389 , 0.94815615,\n",
       "         0.94815615, 0.10353159, 0.10353159, 0.82636837, 0.82636837,\n",
       "         0.21989562, 0.21989562, 0.32730568, 0.32730568, 0.00122855,\n",
       "         0.00122855, 0.81354417, 0.81354417, 0.04073126, 0.04073126,\n",
       "         0.6639194 , 0.6639194 , 0.61355991, 0.61355991, 0.15998253,\n",
       "         0.15998253, 0.47857305, 0.47857305, 0.00424069, 0.00424069,\n",
       "         0.20308645, 0.20308645, 0.17582198, 0.17582198, 0.7767373 ,\n",
       "         0.7767373 , 0.79806545, 0.79806545, 0.64511385, 0.64511385,\n",
       "         0.49022119, 0.49022119, 0.47358758, 0.47358758, 0.55968232,\n",
       "         0.55968232, 0.07429245, 0.07429245, 0.60244125, 0.60244125,\n",
       "         0.75863497, 0.75863497, 0.94802444, 0.94802444, 0.31835931,\n",
       "         0.31835931, 0.3451055 , 0.3451055 , 0.53239014, 0.53239014])}}"
      ]
     },
     "execution_count": 11,
     "metadata": {},
     "output_type": "execute_result"
    }
   ],
   "source": [
    "ds = load_by_id(run_id_n)\n",
    "ds.get_parameter_data('x1')"
   ]
  },
  {
   "cell_type": "markdown",
   "metadata": {},
   "source": [
    "And a dataset stored as binary arrays"
   ]
  },
  {
   "cell_type": "code",
   "execution_count": 12,
   "metadata": {
    "scrolled": true
   },
   "outputs": [
    {
     "data": {
      "text/plain": [
       "{'x1': {'x1': array([[0.26312473],\n",
       "         [0.26312473],\n",
       "         [0.91656977],\n",
       "         [0.91656977],\n",
       "         [0.77291952],\n",
       "         [0.77291952],\n",
       "         [0.25281209],\n",
       "         [0.25281209],\n",
       "         [0.11176239],\n",
       "         [0.11176239],\n",
       "         [0.51820838],\n",
       "         [0.51820838],\n",
       "         [0.16021938],\n",
       "         [0.16021938],\n",
       "         [0.21931413],\n",
       "         [0.21931413],\n",
       "         [0.08198477],\n",
       "         [0.08198477],\n",
       "         [0.72360731],\n",
       "         [0.72360731],\n",
       "         [0.02892758],\n",
       "         [0.02892758],\n",
       "         [0.07300235],\n",
       "         [0.07300235],\n",
       "         [0.68010168],\n",
       "         [0.68010168],\n",
       "         [0.33487446],\n",
       "         [0.33487446],\n",
       "         [0.28026458],\n",
       "         [0.28026458],\n",
       "         [0.08217788],\n",
       "         [0.08217788],\n",
       "         [0.41643221],\n",
       "         [0.41643221],\n",
       "         [0.38732835],\n",
       "         [0.38732835],\n",
       "         [0.10150896],\n",
       "         [0.10150896],\n",
       "         [0.55989415],\n",
       "         [0.55989415],\n",
       "         [0.64240777],\n",
       "         [0.64240777],\n",
       "         [0.39550975],\n",
       "         [0.39550975],\n",
       "         [0.68919545],\n",
       "         [0.68919545],\n",
       "         [0.82737603],\n",
       "         [0.82737603],\n",
       "         [0.064761  ],\n",
       "         [0.064761  ],\n",
       "         [0.63167246],\n",
       "         [0.63167246],\n",
       "         [0.71835486],\n",
       "         [0.71835486],\n",
       "         [0.12020199],\n",
       "         [0.12020199],\n",
       "         [0.09588837],\n",
       "         [0.09588837],\n",
       "         [0.07819372],\n",
       "         [0.07819372],\n",
       "         [0.35849133],\n",
       "         [0.35849133],\n",
       "         [0.50216379],\n",
       "         [0.50216379],\n",
       "         [0.84804161],\n",
       "         [0.84804161],\n",
       "         [0.01393664],\n",
       "         [0.01393664],\n",
       "         [0.92421817],\n",
       "         [0.92421817],\n",
       "         [0.02159498],\n",
       "         [0.02159498],\n",
       "         [0.53143101],\n",
       "         [0.53143101],\n",
       "         [0.13188848],\n",
       "         [0.13188848],\n",
       "         [0.05545101],\n",
       "         [0.05545101],\n",
       "         [0.06384777],\n",
       "         [0.06384777],\n",
       "         [0.6367389 ],\n",
       "         [0.6367389 ],\n",
       "         [0.70701482],\n",
       "         [0.70701482],\n",
       "         [0.53214524],\n",
       "         [0.53214524],\n",
       "         [0.68226172],\n",
       "         [0.68226172],\n",
       "         [0.67103448],\n",
       "         [0.67103448],\n",
       "         [0.68662184],\n",
       "         [0.68662184],\n",
       "         [0.62231489],\n",
       "         [0.62231489],\n",
       "         [0.41869675],\n",
       "         [0.41869675],\n",
       "         [0.70106816],\n",
       "         [0.70106816],\n",
       "         [0.97031976],\n",
       "         [0.97031976],\n",
       "         [0.73210197],\n",
       "         [0.73210197],\n",
       "         [0.94331546],\n",
       "         [0.94331546],\n",
       "         [0.27838457],\n",
       "         [0.27838457],\n",
       "         [0.49252722],\n",
       "         [0.49252722],\n",
       "         [0.65614459],\n",
       "         [0.65614459],\n",
       "         [0.19314828],\n",
       "         [0.19314828],\n",
       "         [0.30487882],\n",
       "         [0.30487882],\n",
       "         [0.51436318],\n",
       "         [0.51436318],\n",
       "         [0.37274022],\n",
       "         [0.37274022],\n",
       "         [0.59903399],\n",
       "         [0.59903399],\n",
       "         [0.68541212],\n",
       "         [0.68541212],\n",
       "         [0.62506535],\n",
       "         [0.62506535],\n",
       "         [0.86249462],\n",
       "         [0.86249462],\n",
       "         [0.26883465],\n",
       "         [0.26883465],\n",
       "         [0.51399074],\n",
       "         [0.51399074],\n",
       "         [0.49835449],\n",
       "         [0.49835449],\n",
       "         [0.11449931],\n",
       "         [0.11449931],\n",
       "         [0.51027632],\n",
       "         [0.51027632],\n",
       "         [0.3131255 ],\n",
       "         [0.3131255 ],\n",
       "         [0.48301179],\n",
       "         [0.48301179],\n",
       "         [0.93569312],\n",
       "         [0.93569312],\n",
       "         [0.56504377],\n",
       "         [0.56504377],\n",
       "         [0.19991105],\n",
       "         [0.19991105],\n",
       "         [0.75231056],\n",
       "         [0.75231056],\n",
       "         [0.91859413],\n",
       "         [0.91859413],\n",
       "         [0.05982735],\n",
       "         [0.05982735],\n",
       "         [0.20519106],\n",
       "         [0.20519106],\n",
       "         [0.45772535],\n",
       "         [0.45772535],\n",
       "         [0.45451555],\n",
       "         [0.45451555],\n",
       "         [0.96324313],\n",
       "         [0.96324313],\n",
       "         [0.28695675],\n",
       "         [0.28695675],\n",
       "         [0.27959001],\n",
       "         [0.27959001],\n",
       "         [0.10570062],\n",
       "         [0.10570062],\n",
       "         [0.15306793],\n",
       "         [0.15306793],\n",
       "         [0.09982557],\n",
       "         [0.09982557],\n",
       "         [0.67276821],\n",
       "         [0.67276821],\n",
       "         [0.80866521],\n",
       "         [0.80866521],\n",
       "         [0.57188922],\n",
       "         [0.57188922],\n",
       "         [0.74032201],\n",
       "         [0.74032201],\n",
       "         [0.51441263],\n",
       "         [0.51441263],\n",
       "         [0.45383041],\n",
       "         [0.45383041],\n",
       "         [0.48590848],\n",
       "         [0.48590848],\n",
       "         [0.87309558],\n",
       "         [0.87309558],\n",
       "         [0.93751288],\n",
       "         [0.93751288],\n",
       "         [0.02808896],\n",
       "         [0.02808896],\n",
       "         [0.02523995],\n",
       "         [0.02523995],\n",
       "         [0.61715903],\n",
       "         [0.61715903],\n",
       "         [0.97366379],\n",
       "         [0.97366379],\n",
       "         [0.0641585 ],\n",
       "         [0.0641585 ],\n",
       "         [0.14564834],\n",
       "         [0.14564834]])}}"
      ]
     },
     "execution_count": 12,
     "metadata": {},
     "output_type": "execute_result"
    }
   ],
   "source": [
    "ds = load_by_id(run_id_a)\n",
    "ds.get_parameter_data('x1')"
   ]
  },
  {
   "cell_type": "code",
   "execution_count": null,
   "metadata": {},
   "outputs": [],
   "source": []
  }
 ],
 "metadata": {
  "kernelspec": {
   "display_name": "Python 3",
   "language": "python",
   "name": "python3"
  },
  "language_info": {
   "codemirror_mode": {
    "name": "ipython",
    "version": 3
   },
   "file_extension": ".py",
   "mimetype": "text/x-python",
   "name": "python",
   "nbconvert_exporter": "python",
   "pygments_lexer": "ipython3",
   "version": "3.7.5"
  },
  "nbsphinx": {
   "timeout": 600
  },
  "toc": {
   "base_numbering": 1,
   "nav_menu": {},
   "number_sections": true,
   "sideBar": true,
   "skip_h1_title": false,
   "title_cell": "Table of Contents",
   "title_sidebar": "Contents",
   "toc_cell": false,
   "toc_position": {},
   "toc_section_display": true,
   "toc_window_display": false
  },
  "varInspector": {
   "cols": {
    "lenName": 16,
    "lenType": 16,
    "lenVar": 40
   },
   "kernels_config": {
    "python": {
     "delete_cmd_postfix": "",
     "delete_cmd_prefix": "del ",
     "library": "var_list.py",
     "varRefreshCmd": "print(var_dic_list())"
    },
    "r": {
     "delete_cmd_postfix": ") ",
     "delete_cmd_prefix": "rm(",
     "library": "var_list.r",
     "varRefreshCmd": "cat(var_dic_list()) "
    }
   },
   "types_to_exclude": [
    "module",
    "function",
    "builtin_function_or_method",
    "instance",
    "_Feature"
   ],
   "window_display": false
  }
 },
 "nbformat": 4,
 "nbformat_minor": 2
}
