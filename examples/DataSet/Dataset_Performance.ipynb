{
 "cells": [
  {
   "cell_type": "markdown",
   "metadata": {},
   "source": [
    "# DataSet Performance\n",
    "\n",
    "This notebook shows the trade-off between inserting data into a database row-by-row and as binary blobs. Inserting the data row-by-row means that we have direct access to all the data and may perform queries directly on the values of the data. On the other hand, as we shall see, this is much slower than inserting the data directly as binary blobs."
   ]
  },
  {
   "cell_type": "markdown",
   "metadata": {},
   "source": [
    "First, we choose a new location for the database to ensure that we don't add a bunch of benchmarking data to the default one."
   ]
  },
  {
   "cell_type": "code",
   "execution_count": 1,
   "metadata": {
    "execution": {
     "iopub.execute_input": "2021-05-07T06:18:13.870802Z",
     "iopub.status.busy": "2021-05-07T06:18:13.870296Z",
     "iopub.status.idle": "2021-05-07T06:18:14.921137Z",
     "shell.execute_reply": "2021-05-07T06:18:14.920105Z"
    }
   },
   "outputs": [
    {
     "name": "stdout",
     "output_type": "stream",
     "text": [
      "Logging hadn't been started.\n",
      "Activating auto-logging. Current session state plus future input saved.\n",
      "Filename       : /home/runner/.qcodes/logs/command_history.log\n",
      "Mode           : append\n",
      "Output logging : True\n",
      "Raw input log  : False\n",
      "Timestamping   : True\n",
      "State          : active\n"
     ]
    },
    {
     "name": "stdout",
     "output_type": "stream",
     "text": [
      "Qcodes Logfile : /home/runner/.qcodes/logs/210507-4990-qcodes.log\n"
     ]
    }
   ],
   "source": [
    "import os\n",
    "cwd = os.getcwd()\n",
    "import qcodes as qc\n",
    "qc.config[\"core\"][\"db_location\"] = os.path.join(cwd, 'testing.db')\n"
   ]
  },
  {
   "cell_type": "code",
   "execution_count": 2,
   "metadata": {
    "execution": {
     "iopub.execute_input": "2021-05-07T06:18:14.927269Z",
     "iopub.status.busy": "2021-05-07T06:18:14.926532Z",
     "iopub.status.idle": "2021-05-07T06:18:15.105875Z",
     "shell.execute_reply": "2021-05-07T06:18:15.104623Z"
    }
   },
   "outputs": [],
   "source": [
    "%matplotlib inline\n",
    "import time\n",
    "import matplotlib.pyplot as plt\n",
    "import numpy as np\n",
    "\n",
    "import qcodes as qc\n",
    "from qcodes.instrument.parameter import ManualParameter\n",
    "from qcodes.dataset.experiment_container import (Experiment,\n",
    "                                                 load_last_experiment,\n",
    "                                                 new_experiment)\n",
    "from qcodes.dataset.sqlite.database import initialise_database\n",
    "from qcodes import load_or_create_experiment\n",
    "from qcodes.dataset.measurements import Measurement"
   ]
  },
  {
   "cell_type": "code",
   "execution_count": 3,
   "metadata": {
    "execution": {
     "iopub.execute_input": "2021-05-07T06:18:15.109564Z",
     "iopub.status.busy": "2021-05-07T06:18:15.109025Z",
     "iopub.status.idle": "2021-05-07T06:18:15.169032Z",
     "shell.execute_reply": "2021-05-07T06:18:15.169415Z"
    }
   },
   "outputs": [
    {
     "name": "stdout",
     "output_type": "stream",
     "text": [
      "\r",
      "0it [00:00, ?it/s]"
     ]
    },
    {
     "name": "stdout",
     "output_type": "stream",
     "text": [
      "\r",
      "Upgrading database; v0 -> v1: : 0it [00:00, ?it/s]"
     ]
    },
    {
     "name": "stdout",
     "output_type": "stream",
     "text": [
      "\r",
      "Upgrading database; v0 -> v1: : 0it [00:00, ?it/s]"
     ]
    },
    {
     "name": "stdout",
     "output_type": "stream",
     "text": [
      "\n",
      "\r",
      "  0%|          | 0/1 [00:00<?, ?it/s]"
     ]
    },
    {
     "name": "stdout",
     "output_type": "stream",
     "text": [
      "\r",
      "Upgrading database; v1 -> v2:   0%|          | 0/1 [00:00<?, ?it/s]"
     ]
    },
    {
     "name": "stdout",
     "output_type": "stream",
     "text": [
      "\r",
      "Upgrading database; v1 -> v2: 100%|██████████| 1/1 [00:00<00:00, 1286.60it/s]"
     ]
    },
    {
     "name": "stdout",
     "output_type": "stream",
     "text": [
      "\n",
      "\r",
      "0it [00:00, ?it/s]"
     ]
    },
    {
     "name": "stdout",
     "output_type": "stream",
     "text": [
      "\r",
      "Upgrading database; v2 -> v3: : 0it [00:00, ?it/s]"
     ]
    },
    {
     "name": "stdout",
     "output_type": "stream",
     "text": [
      "\r",
      "Upgrading database; v2 -> v3: : 0it [00:00, ?it/s]"
     ]
    },
    {
     "name": "stdout",
     "output_type": "stream",
     "text": [
      "\n",
      "\r",
      "0it [00:00, ?it/s]"
     ]
    },
    {
     "name": "stdout",
     "output_type": "stream",
     "text": [
      "\r",
      "Upgrading database; v3 -> v4: : 0it [00:00, ?it/s]"
     ]
    },
    {
     "name": "stdout",
     "output_type": "stream",
     "text": [
      "\r",
      "Upgrading database; v3 -> v4: : 0it [00:00, ?it/s]"
     ]
    },
    {
     "name": "stdout",
     "output_type": "stream",
     "text": [
      "\n",
      "\r",
      "  0%|          | 0/1 [00:00<?, ?it/s]"
     ]
    },
    {
     "name": "stdout",
     "output_type": "stream",
     "text": [
      "\r",
      "Upgrading database; v4 -> v5:   0%|          | 0/1 [00:00<?, ?it/s]"
     ]
    },
    {
     "name": "stdout",
     "output_type": "stream",
     "text": [
      "\r",
      "Upgrading database; v4 -> v5: 100%|██████████| 1/1 [00:00<00:00, 588.51it/s]"
     ]
    },
    {
     "name": "stdout",
     "output_type": "stream",
     "text": [
      "\n",
      "\r",
      "0it [00:00, ?it/s]"
     ]
    },
    {
     "name": "stdout",
     "output_type": "stream",
     "text": [
      "\r",
      "Upgrading database; v5 -> v6: : 0it [00:00, ?it/s]"
     ]
    },
    {
     "name": "stdout",
     "output_type": "stream",
     "text": [
      "\r",
      "Upgrading database; v5 -> v6: : 0it [00:00, ?it/s]"
     ]
    },
    {
     "name": "stdout",
     "output_type": "stream",
     "text": [
      "\n",
      "\r",
      "  0%|          | 0/1 [00:00<?, ?it/s]"
     ]
    },
    {
     "name": "stdout",
     "output_type": "stream",
     "text": [
      "\r",
      "Upgrading database; v6 -> v7:   0%|          | 0/1 [00:00<?, ?it/s]"
     ]
    },
    {
     "name": "stdout",
     "output_type": "stream",
     "text": [
      "\r",
      "Upgrading database; v6 -> v7: 100%|██████████| 1/1 [00:00<00:00, 485.28it/s]"
     ]
    },
    {
     "name": "stdout",
     "output_type": "stream",
     "text": [
      "\n",
      "\r",
      "  0%|          | 0/1 [00:00<?, ?it/s]"
     ]
    },
    {
     "name": "stdout",
     "output_type": "stream",
     "text": [
      "\r",
      "Upgrading database; v7 -> v8:   0%|          | 0/1 [00:00<?, ?it/s]"
     ]
    },
    {
     "name": "stdout",
     "output_type": "stream",
     "text": [
      "\r",
      "Upgrading database; v7 -> v8: 100%|██████████| 1/1 [00:00<00:00, 1109.02it/s]"
     ]
    },
    {
     "name": "stdout",
     "output_type": "stream",
     "text": [
      "\n",
      "\r",
      "  0%|          | 0/1 [00:00<?, ?it/s]"
     ]
    },
    {
     "name": "stdout",
     "output_type": "stream",
     "text": [
      "\r",
      "Upgrading database; v8 -> v9:   0%|          | 0/1 [00:00<?, ?it/s]"
     ]
    },
    {
     "name": "stdout",
     "output_type": "stream",
     "text": [
      "\r",
      "Upgrading database; v8 -> v9: 100%|██████████| 1/1 [00:00<00:00, 541.62it/s]"
     ]
    },
    {
     "name": "stdout",
     "output_type": "stream",
     "text": [
      "\n"
     ]
    }
   ],
   "source": [
    "initialise_database()\n",
    "exp = load_or_create_experiment(experiment_name='tutorial_exp', sample_name=\"no sample\")"
   ]
  },
  {
   "cell_type": "markdown",
   "metadata": {},
   "source": [
    "Here, we define a simple function to benchmark the time it takes to insert n points with either numeric or array data type.\n",
    "We will compare both the time used to call ``add_result`` and the time used for the full measurement."
   ]
  },
  {
   "cell_type": "code",
   "execution_count": 4,
   "metadata": {
    "execution": {
     "iopub.execute_input": "2021-05-07T06:18:15.177127Z",
     "iopub.status.busy": "2021-05-07T06:18:15.176628Z",
     "iopub.status.idle": "2021-05-07T06:18:15.180423Z",
     "shell.execute_reply": "2021-05-07T06:18:15.179978Z"
    }
   },
   "outputs": [],
   "source": [
    "def insert_data(paramtype, npoints, nreps=1):\n",
    "\n",
    "    meas = Measurement(exp=exp)\n",
    "\n",
    "    x1 = ManualParameter('x1')\n",
    "    x2 = ManualParameter('x2')\n",
    "    x3 = ManualParameter('x3')\n",
    "    y1 = ManualParameter('y1')\n",
    "    y2 = ManualParameter('y2')\n",
    "\n",
    "    meas.register_parameter(x1, paramtype=paramtype)\n",
    "    meas.register_parameter(x2, paramtype=paramtype)\n",
    "    meas.register_parameter(x3, paramtype=paramtype)\n",
    "    meas.register_parameter(y1, setpoints=[x1, x2, x3],\n",
    "                            paramtype=paramtype)\n",
    "    meas.register_parameter(y2, setpoints=[x1, x2, x3],\n",
    "                            paramtype=paramtype)\n",
    "    start = time.perf_counter()\n",
    "    with meas.run() as datasaver:\n",
    "        start_adding = time.perf_counter()\n",
    "        for i in range(nreps):\n",
    "            datasaver.add_result((x1, np.random.rand(npoints)),\n",
    "                                 (x2, np.random.rand(npoints)),\n",
    "                                 (x3, np.random.rand(npoints)),\n",
    "                                 (y1, np.random.rand(npoints)),\n",
    "                                 (y2, np.random.rand(npoints)))\n",
    "        stop_adding = time.perf_counter()\n",
    "        run_id = datasaver.run_id\n",
    "    stop = time.perf_counter()\n",
    "    tot_time = stop - start\n",
    "    add_time = stop_adding - start_adding\n",
    "    return tot_time, add_time, run_id"
   ]
  },
  {
   "cell_type": "markdown",
   "metadata": {},
   "source": [
    "## Comparison between numeric/array data and binary blob"
   ]
  },
  {
   "cell_type": "markdown",
   "metadata": {},
   "source": [
    "### Case1: Short experiment time"
   ]
  },
  {
   "cell_type": "code",
   "execution_count": 5,
   "metadata": {
    "execution": {
     "iopub.execute_input": "2021-05-07T06:18:15.186316Z",
     "iopub.status.busy": "2021-05-07T06:18:15.185778Z",
     "iopub.status.idle": "2021-05-07T06:18:15.917415Z",
     "shell.execute_reply": "2021-05-07T06:18:15.917887Z"
    }
   },
   "outputs": [
    {
     "name": "stdout",
     "output_type": "stream",
     "text": [
      "Starting experimental run with id: 1. \n",
      "Starting experimental run with id: 2. \n",
      "Starting experimental run with id: 3. \n",
      "Starting experimental run with id: 4. \n"
     ]
    },
    {
     "name": "stdout",
     "output_type": "stream",
     "text": [
      "Starting experimental run with id: 5. \n"
     ]
    },
    {
     "name": "stdout",
     "output_type": "stream",
     "text": [
      "Starting experimental run with id: 6. \n",
      "Starting experimental run with id: 7. \n"
     ]
    },
    {
     "name": "stdout",
     "output_type": "stream",
     "text": [
      "Starting experimental run with id: 8. \n",
      "Starting experimental run with id: 9. \n"
     ]
    },
    {
     "name": "stdout",
     "output_type": "stream",
     "text": [
      "Starting experimental run with id: 10. \n",
      "Starting experimental run with id: 11. \n"
     ]
    },
    {
     "name": "stdout",
     "output_type": "stream",
     "text": [
      "Starting experimental run with id: 12. \n",
      "Starting experimental run with id: 13. \n"
     ]
    },
    {
     "name": "stdout",
     "output_type": "stream",
     "text": [
      "Starting experimental run with id: 14. \n"
     ]
    }
   ],
   "source": [
    "sizes = [1,500,1000,2000,3000,4000,5000]\n",
    "t_numeric = []\n",
    "t_numeric_add = []\n",
    "t_array = []\n",
    "t_array_add = []\n",
    "for size in sizes:\n",
    "    tn, tna, run_id_n =  insert_data('numeric', size)\n",
    "    t_numeric.append(tn)\n",
    "    t_numeric_add.append(tna)\n",
    "\n",
    "    ta, taa, run_id_a =  insert_data('array', size)\n",
    "    t_array.append(ta)\n",
    "    t_array_add.append(taa)"
   ]
  },
  {
   "cell_type": "code",
   "execution_count": 6,
   "metadata": {
    "execution": {
     "iopub.execute_input": "2021-05-07T06:18:15.959294Z",
     "iopub.status.busy": "2021-05-07T06:18:15.945477Z",
     "iopub.status.idle": "2021-05-07T06:18:16.129336Z",
     "shell.execute_reply": "2021-05-07T06:18:16.128811Z"
    }
   },
   "outputs": [
    {
     "data": {
      "image/png": "[encoded data removed]",
      "text/plain": [
       "<Figure size 432x288 with 1 Axes>"
      ]
     },
     "metadata": {
      "needs_background": "light"
     },
     "output_type": "display_data"
    }
   ],
   "source": [
    "fig, ax = plt.subplots(1,1)\n",
    "ax.plot(sizes, t_numeric, 'o-', label='Inserting row-by-row')\n",
    "ax.plot(sizes, t_numeric_add, 'o-', label='Inserting row-by-row: add_result only')\n",
    "ax.plot(sizes, t_array, 'd-', label='Inserting as binary blob')\n",
    "ax.plot(sizes, t_array_add, 'd-', label='Inserting as binary blob: add_result only')\n",
    "ax.legend()\n",
    "ax.set_xlabel('Array length')\n",
    "ax.set_ylabel('Time (s)')\n",
    "fig.tight_layout()"
   ]
  },
  {
   "cell_type": "markdown",
   "metadata": {},
   "source": [
    "As shown in the latter figure, the time to setup and and close the experiment is approximately 0.4 sec. In case of small array sizes, the difference between inserting values of data as arrays and inserting them row-by-row is relatively unimportant. At larger array sizes, i.e. above 10000 points, the cost of writing data as individual datapoints starts to become important.\n"
   ]
  },
  {
   "cell_type": "markdown",
   "metadata": {},
   "source": [
    "### Case2: Long experiment time "
   ]
  },
  {
   "cell_type": "code",
   "execution_count": 7,
   "metadata": {
    "execution": {
     "iopub.execute_input": "2021-05-07T06:18:16.135249Z",
     "iopub.status.busy": "2021-05-07T06:18:16.134759Z",
     "iopub.status.idle": "2021-05-07T06:19:07.246895Z",
     "shell.execute_reply": "2021-05-07T06:19:07.245919Z"
    }
   },
   "outputs": [
    {
     "name": "stdout",
     "output_type": "stream",
     "text": [
      "Starting experimental run with id: 15. \n",
      "Starting experimental run with id: 16. \n",
      "Starting experimental run with id: 17. \n"
     ]
    },
    {
     "name": "stdout",
     "output_type": "stream",
     "text": [
      "Starting experimental run with id: 18. \n",
      "Starting experimental run with id: 19. \n"
     ]
    },
    {
     "name": "stdout",
     "output_type": "stream",
     "text": [
      "Starting experimental run with id: 20. \n"
     ]
    },
    {
     "name": "stdout",
     "output_type": "stream",
     "text": [
      "Starting experimental run with id: 21. \n"
     ]
    },
    {
     "name": "stdout",
     "output_type": "stream",
     "text": [
      "Starting experimental run with id: 22. \n"
     ]
    },
    {
     "name": "stdout",
     "output_type": "stream",
     "text": [
      "Starting experimental run with id: 23. \n"
     ]
    },
    {
     "name": "stdout",
     "output_type": "stream",
     "text": [
      "Starting experimental run with id: 24. \n"
     ]
    },
    {
     "name": "stdout",
     "output_type": "stream",
     "text": [
      "Starting experimental run with id: 25. \n"
     ]
    },
    {
     "name": "stdout",
     "output_type": "stream",
     "text": [
      "Starting experimental run with id: 26. \n"
     ]
    },
    {
     "name": "stdout",
     "output_type": "stream",
     "text": [
      "Starting experimental run with id: 27. \n"
     ]
    },
    {
     "name": "stdout",
     "output_type": "stream",
     "text": [
      "Starting experimental run with id: 28. \n"
     ]
    }
   ],
   "source": [
    "sizes = [1,500,1000,2000,3000,4000,5000]\n",
    "nreps = 100\n",
    "t_numeric = []\n",
    "t_numeric_add = []\n",
    "t_numeric_run_ids = []\n",
    "t_array = []\n",
    "t_array_add = []\n",
    "t_array_run_ids = []\n",
    "for size in sizes:\n",
    "    tn, tna, run_id_n =  insert_data('numeric', size, nreps=nreps)\n",
    "    t_numeric.append(tn)\n",
    "    t_numeric_add.append(tna)\n",
    "    t_numeric_run_ids.append(run_id_n)\n",
    "\n",
    "    ta, taa, run_id_a =  insert_data('array', size, nreps=nreps)\n",
    "    t_array.append(ta)\n",
    "    t_array_add.append(taa)\n",
    "    t_array_run_ids.append(run_id_a)"
   ]
  },
  {
   "cell_type": "code",
   "execution_count": 8,
   "metadata": {
    "execution": {
     "iopub.execute_input": "2021-05-07T06:19:07.274444Z",
     "iopub.status.busy": "2021-05-07T06:19:07.252158Z",
     "iopub.status.idle": "2021-05-07T06:19:07.444288Z",
     "shell.execute_reply": "2021-05-07T06:19:07.443812Z"
    },
    "scrolled": true
   },
   "outputs": [
    {
     "data": {
      "image/png": "[encoded data removed]",
      "text/plain": [
       "<Figure size 432x288 with 1 Axes>"
      ]
     },
     "metadata": {
      "needs_background": "light"
     },
     "output_type": "display_data"
    }
   ],
   "source": [
    "fig, ax = plt.subplots(1,1)\n",
    "ax.plot(sizes, t_numeric, 'o-', label='Inserting row-by-row')\n",
    "ax.plot(sizes, t_numeric_add, 'o-', label='Inserting row-by-row: add_result only')\n",
    "ax.plot(sizes, t_array, 'd-', label='Inserting as binary blob')\n",
    "ax.plot(sizes, t_array_add, 'd-', label='Inserting as binary blob: add_result only')\n",
    "ax.legend()\n",
    "ax.set_xlabel('Array length')\n",
    "ax.set_ylabel('Time (s)')\n",
    "fig.tight_layout()"
   ]
  },
  {
   "cell_type": "markdown",
   "metadata": {},
   "source": [
    "However, as we increase the length of the experiment, as seen here by repeating the insertion 100 times, we see a big difference between inserting values of the data row-by-row and inserting it as a binary blob."
   ]
  },
  {
   "cell_type": "markdown",
   "metadata": {},
   "source": [
    "## Loading the data "
   ]
  },
  {
   "cell_type": "code",
   "execution_count": 9,
   "metadata": {
    "execution": {
     "iopub.execute_input": "2021-05-07T06:19:07.449123Z",
     "iopub.status.busy": "2021-05-07T06:19:07.448089Z",
     "iopub.status.idle": "2021-05-07T06:19:07.449738Z",
     "shell.execute_reply": "2021-05-07T06:19:07.450151Z"
    }
   },
   "outputs": [],
   "source": [
    "from qcodes.dataset.data_set import load_by_id"
   ]
  },
  {
   "cell_type": "markdown",
   "metadata": {},
   "source": [
    "As usual you can load the data by using the ``load_by_id`` function but you will notice that the different storage methods\n",
    "are reflected in shape of the data as it is retrieved. "
   ]
  },
  {
   "cell_type": "code",
   "execution_count": 10,
   "metadata": {
    "execution": {
     "iopub.execute_input": "2021-05-07T06:19:07.453576Z",
     "iopub.status.busy": "2021-05-07T06:19:07.453044Z",
     "iopub.status.idle": "2021-05-07T06:19:07.455320Z",
     "shell.execute_reply": "2021-05-07T06:19:07.454909Z"
    }
   },
   "outputs": [],
   "source": [
    "run_id_n = t_numeric_run_ids[0]\n",
    "run_id_a = t_array_run_ids[0]"
   ]
  },
  {
   "cell_type": "code",
   "execution_count": 11,
   "metadata": {
    "execution": {
     "iopub.execute_input": "2021-05-07T06:19:07.458308Z",
     "iopub.status.busy": "2021-05-07T06:19:07.457804Z",
     "iopub.status.idle": "2021-05-07T06:19:07.466148Z",
     "shell.execute_reply": "2021-05-07T06:19:07.466528Z"
    },
    "scrolled": true
   },
   "outputs": [
    {
     "data": {
      "text/plain": [
       "{'x1': {'x1': array([0.71763624, 0.71763624, 0.59962041, 0.59962041, 0.6455853 ,\n",
       "         0.6455853 , 0.35646238, 0.35646238, 0.91906613, 0.91906613,\n",
       "         0.62607957, 0.62607957, 0.99619384, 0.99619384, 0.69127239,\n",
       "         0.69127239, 0.9173013 , 0.9173013 , 0.90873867, 0.90873867,\n",
       "         0.361078  , 0.361078  , 0.67305876, 0.67305876, 0.24651895,\n",
       "         0.24651895, 0.47851794, 0.47851794, 0.06806518, 0.06806518,\n",
       "         0.1596438 , 0.1596438 , 0.05815532, 0.05815532, 0.7974935 ,\n",
       "         0.7974935 , 0.91676034, 0.91676034, 0.47952711, 0.47952711,\n",
       "         0.03297819, 0.03297819, 0.489617  , 0.489617  , 0.72396971,\n",
       "         0.72396971, 0.87604854, 0.87604854, 0.96753035, 0.96753035,\n",
       "         0.60949303, 0.60949303, 0.70286769, 0.70286769, 0.89159064,\n",
       "         0.89159064, 0.60549242, 0.60549242, 0.61205853, 0.61205853,\n",
       "         0.2663817 , 0.2663817 , 0.0267358 , 0.0267358 , 0.07511794,\n",
       "         0.07511794, 0.99454937, 0.99454937, 0.61194534, 0.61194534,\n",
       "         0.59260349, 0.59260349, 0.6993543 , 0.6993543 , 0.87969763,\n",
       "         0.87969763, 0.23255797, 0.23255797, 0.71196831, 0.71196831,\n",
       "         0.36342746, 0.36342746, 0.85314588, 0.85314588, 0.08669687,\n",
       "         0.08669687, 0.94388186, 0.94388186, 0.09098759, 0.09098759,\n",
       "         0.0533028 , 0.0533028 , 0.92652628, 0.92652628, 0.67929225,\n",
       "         0.67929225, 0.70124659, 0.70124659, 0.54475392, 0.54475392,\n",
       "         0.26519739, 0.26519739, 0.71949654, 0.71949654, 0.76235924,\n",
       "         0.76235924, 0.02421885, 0.02421885, 0.02028689, 0.02028689,\n",
       "         0.61070384, 0.61070384, 0.97603865, 0.97603865, 0.93679338,\n",
       "         0.93679338, 0.36285775, 0.36285775, 0.74911847, 0.74911847,\n",
       "         0.97582567, 0.97582567, 0.93959886, 0.93959886, 0.02657439,\n",
       "         0.02657439, 0.0891429 , 0.0891429 , 0.41217441, 0.41217441,\n",
       "         0.94467362, 0.94467362, 0.84465728, 0.84465728, 0.58574195,\n",
       "         0.58574195, 0.20478902, 0.20478902, 0.64975503, 0.64975503,\n",
       "         0.14227673, 0.14227673, 0.44172346, 0.44172346, 0.69653293,\n",
       "         0.69653293, 0.94393493, 0.94393493, 0.21492699, 0.21492699,\n",
       "         0.67728576, 0.67728576, 0.3015587 , 0.3015587 , 0.49008454,\n",
       "         0.49008454, 0.35187767, 0.35187767, 0.16528869, 0.16528869,\n",
       "         0.10621113, 0.10621113, 0.56715432, 0.56715432, 0.95552991,\n",
       "         0.95552991, 0.49258873, 0.49258873, 0.67096026, 0.67096026,\n",
       "         0.10123577, 0.10123577, 0.76242054, 0.76242054, 0.79612522,\n",
       "         0.79612522, 0.37864871, 0.37864871, 0.19926761, 0.19926761,\n",
       "         0.97395911, 0.97395911, 0.44548804, 0.44548804, 0.91446698,\n",
       "         0.91446698, 0.01391293, 0.01391293, 0.31487296, 0.31487296,\n",
       "         0.83894557, 0.83894557, 0.3370196 , 0.3370196 , 0.28217704,\n",
       "         0.28217704, 0.79150917, 0.79150917, 0.06656032, 0.06656032])}}"
      ]
     },
     "execution_count": 1,
     "metadata": {},
     "output_type": "execute_result"
    }
   ],
   "source": [
    "ds = load_by_id(run_id_n)\n",
    "ds.get_parameter_data('x1')"
   ]
  },
  {
   "cell_type": "markdown",
   "metadata": {},
   "source": [
    "And a dataset stored as binary arrays"
   ]
  },
  {
   "cell_type": "code",
   "execution_count": 12,
   "metadata": {
    "execution": {
     "iopub.execute_input": "2021-05-07T06:19:07.469546Z",
     "iopub.status.busy": "2021-05-07T06:19:07.469025Z",
     "iopub.status.idle": "2021-05-07T06:19:07.518671Z",
     "shell.execute_reply": "2021-05-07T06:19:07.519150Z"
    },
    "scrolled": true
   },
   "outputs": [
    {
     "data": {
      "text/plain": [
       "{'x1': {'x1': array([[7.27377964e-01],\n",
       "         [7.27377964e-01],\n",
       "         [4.45963711e-01],\n",
       "         [4.45963711e-01],\n",
       "         [3.99690691e-01],\n",
       "         [3.99690691e-01],\n",
       "         [6.40552150e-01],\n",
       "         [6.40552150e-01],\n",
       "         [8.71989922e-01],\n",
       "         [8.71989922e-01],\n",
       "         [6.54099438e-01],\n",
       "         [6.54099438e-01],\n",
       "         [6.51693630e-01],\n",
       "         [6.51693630e-01],\n",
       "         [6.06449731e-01],\n",
       "         [6.06449731e-01],\n",
       "         [4.86751451e-01],\n",
       "         [4.86751451e-01],\n",
       "         [5.78583136e-02],\n",
       "         [5.78583136e-02],\n",
       "         [7.92225532e-02],\n",
       "         [7.92225532e-02],\n",
       "         [6.04629866e-01],\n",
       "         [6.04629866e-01],\n",
       "         [9.89354651e-01],\n",
       "         [9.89354651e-01],\n",
       "         [2.76117119e-01],\n",
       "         [2.76117119e-01],\n",
       "         [5.35167215e-01],\n",
       "         [5.35167215e-01],\n",
       "         [9.73152039e-01],\n",
       "         [9.73152039e-01],\n",
       "         [7.03502930e-01],\n",
       "         [7.03502930e-01],\n",
       "         [9.11000888e-01],\n",
       "         [9.11000888e-01],\n",
       "         [7.90550800e-01],\n",
       "         [7.90550800e-01],\n",
       "         [7.28760048e-01],\n",
       "         [7.28760048e-01],\n",
       "         [2.77819202e-02],\n",
       "         [2.77819202e-02],\n",
       "         [1.38156044e-02],\n",
       "         [1.38156044e-02],\n",
       "         [6.61335154e-01],\n",
       "         [6.61335154e-01],\n",
       "         [1.48723324e-01],\n",
       "         [1.48723324e-01],\n",
       "         [6.34904838e-01],\n",
       "         [6.34904838e-01],\n",
       "         [7.66202571e-01],\n",
       "         [7.66202571e-01],\n",
       "         [4.66790533e-01],\n",
       "         [4.66790533e-01],\n",
       "         [4.81209815e-01],\n",
       "         [4.81209815e-01],\n",
       "         [9.77435800e-01],\n",
       "         [9.77435800e-01],\n",
       "         [4.94819929e-01],\n",
       "         [4.94819929e-01],\n",
       "         [9.66191031e-01],\n",
       "         [9.66191031e-01],\n",
       "         [1.20517656e-01],\n",
       "         [1.20517656e-01],\n",
       "         [4.81133814e-02],\n",
       "         [4.81133814e-02],\n",
       "         [2.67984145e-01],\n",
       "         [2.67984145e-01],\n",
       "         [8.28279187e-01],\n",
       "         [8.28279187e-01],\n",
       "         [9.30077026e-01],\n",
       "         [9.30077026e-01],\n",
       "         [1.47510648e-02],\n",
       "         [1.47510648e-02],\n",
       "         [6.06343731e-01],\n",
       "         [6.06343731e-01],\n",
       "         [3.54649127e-01],\n",
       "         [3.54649127e-01],\n",
       "         [7.97401114e-01],\n",
       "         [7.97401114e-01],\n",
       "         [4.48590167e-02],\n",
       "         [4.48590167e-02],\n",
       "         [3.16193685e-01],\n",
       "         [3.16193685e-01],\n",
       "         [1.34348037e-01],\n",
       "         [1.34348037e-01],\n",
       "         [2.87231338e-02],\n",
       "         [2.87231338e-02],\n",
       "         [7.50538647e-01],\n",
       "         [7.50538647e-01],\n",
       "         [3.95247024e-01],\n",
       "         [3.95247024e-01],\n",
       "         [2.52800863e-01],\n",
       "         [2.52800863e-01],\n",
       "         [9.15629604e-01],\n",
       "         [9.15629604e-01],\n",
       "         [7.71796686e-01],\n",
       "         [7.71796686e-01],\n",
       "         [2.16993086e-01],\n",
       "         [2.16993086e-01],\n",
       "         [6.89755772e-01],\n",
       "         [6.89755772e-01],\n",
       "         [3.48690324e-01],\n",
       "         [3.48690324e-01],\n",
       "         [3.27517186e-01],\n",
       "         [3.27517186e-01],\n",
       "         [7.13295889e-01],\n",
       "         [7.13295889e-01],\n",
       "         [4.73915522e-01],\n",
       "         [4.73915522e-01],\n",
       "         [8.33356912e-01],\n",
       "         [8.33356912e-01],\n",
       "         [2.07023964e-05],\n",
       "         [2.07023964e-05],\n",
       "         [9.58430046e-01],\n",
       "         [9.58430046e-01],\n",
       "         [7.07645103e-01],\n",
       "         [7.07645103e-01],\n",
       "         [8.55121355e-01],\n",
       "         [8.55121355e-01],\n",
       "         [2.16634364e-01],\n",
       "         [2.16634364e-01],\n",
       "         [2.80615267e-01],\n",
       "         [2.80615267e-01],\n",
       "         [9.99898699e-01],\n",
       "         [9.99898699e-01],\n",
       "         [9.80253494e-01],\n",
       "         [9.80253494e-01],\n",
       "         [9.04497962e-01],\n",
       "         [9.04497962e-01],\n",
       "         [5.45813362e-01],\n",
       "         [5.45813362e-01],\n",
       "         [7.75166550e-03],\n",
       "         [7.75166550e-03],\n",
       "         [3.70227708e-01],\n",
       "         [3.70227708e-01],\n",
       "         [4.81231651e-01],\n",
       "         [4.81231651e-01],\n",
       "         [5.05865983e-01],\n",
       "         [5.05865983e-01],\n",
       "         [5.76755041e-01],\n",
       "         [5.76755041e-01],\n",
       "         [4.18869447e-01],\n",
       "         [4.18869447e-01],\n",
       "         [7.25328668e-01],\n",
       "         [7.25328668e-01],\n",
       "         [4.52004441e-01],\n",
       "         [4.52004441e-01],\n",
       "         [6.81464904e-01],\n",
       "         [6.81464904e-01],\n",
       "         [6.69644223e-01],\n",
       "         [6.69644223e-01],\n",
       "         [9.03569696e-01],\n",
       "         [9.03569696e-01],\n",
       "         [9.40256152e-01],\n",
       "         [9.40256152e-01],\n",
       "         [1.77034806e-01],\n",
       "         [1.77034806e-01],\n",
       "         [4.00727757e-01],\n",
       "         [4.00727757e-01],\n",
       "         [3.76460742e-01],\n",
       "         [3.76460742e-01],\n",
       "         [3.47484151e-01],\n",
       "         [3.47484151e-01],\n",
       "         [2.30518308e-01],\n",
       "         [2.30518308e-01],\n",
       "         [6.01579555e-01],\n",
       "         [6.01579555e-01],\n",
       "         [8.29431353e-01],\n",
       "         [8.29431353e-01],\n",
       "         [5.45659186e-01],\n",
       "         [5.45659186e-01],\n",
       "         [2.23325248e-01],\n",
       "         [2.23325248e-01],\n",
       "         [2.60585770e-01],\n",
       "         [2.60585770e-01],\n",
       "         [9.73504576e-01],\n",
       "         [9.73504576e-01],\n",
       "         [7.89712278e-01],\n",
       "         [7.89712278e-01],\n",
       "         [6.92854145e-01],\n",
       "         [6.92854145e-01],\n",
       "         [5.13935647e-01],\n",
       "         [5.13935647e-01],\n",
       "         [4.94311118e-04],\n",
       "         [4.94311118e-04],\n",
       "         [6.59688650e-01],\n",
       "         [6.59688650e-01],\n",
       "         [5.59271932e-02],\n",
       "         [5.59271932e-02],\n",
       "         [7.01409932e-02],\n",
       "         [7.01409932e-02],\n",
       "         [9.47306841e-01],\n",
       "         [9.47306841e-01],\n",
       "         [4.61160768e-01],\n",
       "         [4.61160768e-01],\n",
       "         [1.25695937e-01],\n",
       "         [1.25695937e-01],\n",
       "         [6.04153478e-01],\n",
       "         [6.04153478e-01]])}}"
      ]
     },
     "execution_count": 1,
     "metadata": {},
     "output_type": "execute_result"
    }
   ],
   "source": [
    "ds = load_by_id(run_id_a)\n",
    "ds.get_parameter_data('x1')"
   ]
  },
  {
   "cell_type": "code",
   "execution_count": null,
   "metadata": {},
   "outputs": [],
   "source": []
  }
 ],
 "metadata": {
  "kernelspec": {
   "display_name": "Python 3",
   "language": "python",
   "name": "python3"
  },
  "language_info": {
   "codemirror_mode": {
    "name": "ipython",
    "version": 3
   },
   "file_extension": ".py",
   "mimetype": "text/x-python",
   "name": "python",
   "nbconvert_exporter": "python",
   "pygments_lexer": "ipython3",
   "version": "3.7.10"
  },
  "nbsphinx": {
   "timeout": 600
  },
  "toc": {
   "base_numbering": 1,
   "nav_menu": {},
   "number_sections": true,
   "sideBar": true,
   "skip_h1_title": false,
   "title_cell": "Table of Contents",
   "title_sidebar": "Contents",
   "toc_cell": false,
   "toc_position": {},
   "toc_section_display": true,
   "toc_window_display": false
  },
  "varInspector": {
   "cols": {
    "lenName": 16,
    "lenType": 16,
    "lenVar": 40
   },
   "kernels_config": {
    "python": {
     "delete_cmd_postfix": "",
     "delete_cmd_prefix": "del ",
     "library": "var_list.py",
     "varRefreshCmd": "print(var_dic_list())"
    },
    "r": {
     "delete_cmd_postfix": ") ",
     "delete_cmd_prefix": "rm(",
     "library": "var_list.r",
     "varRefreshCmd": "cat(var_dic_list()) "
    }
   },
   "types_to_exclude": [
    "module",
    "function",
    "builtin_function_or_method",
    "instance",
    "_Feature"
   ],
   "window_display": false
  }
 },
 "nbformat": 4,
 "nbformat_minor": 4
}
