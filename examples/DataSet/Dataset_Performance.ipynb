{
 "cells": [
  {
   "cell_type": "markdown",
   "metadata": {},
   "source": [
    "# DataSet Performance\n",
    "\n",
    "This notebook shows the trade-off between inserting data into a database row-by-row and as binary blobs. Inserting the data row-by-row means that we have direct access to all the data and may perform queries directly on the values of the data. On the other hand, as we shall see, this is much slower than inserting the data directly as binary blobs."
   ]
  },
  {
   "cell_type": "markdown",
   "metadata": {},
   "source": [
    "First, we choose a new location for the database to ensure that we don't add a bunch of benchmarking data to the default one."
   ]
  },
  {
   "cell_type": "code",
   "execution_count": 1,
   "metadata": {
    "execution": {
     "iopub.execute_input": "2021-02-05T15:16:50.806912Z",
     "iopub.status.busy": "2021-02-05T15:16:50.806375Z",
     "iopub.status.idle": "2021-02-05T15:16:51.789053Z",
     "shell.execute_reply": "2021-02-05T15:16:51.788536Z"
    }
   },
   "outputs": [
    {
     "name": "stdout",
     "output_type": "stream",
     "text": [
      "Logging hadn't been started.\n",
      "Activating auto-logging. Current session state plus future input saved.\n",
      "Filename       : /home/vsts/.qcodes/logs/command_history.log\n",
      "Mode           : append\n",
      "Output logging : True\n",
      "Raw input log  : False\n",
      "Timestamping   : True\n",
      "State          : active\n"
     ]
    },
    {
     "name": "stdout",
     "output_type": "stream",
     "text": [
      "Qcodes Logfile : /home/vsts/.qcodes/logs/210205-13707-qcodes.log\n"
     ]
    }
   ],
   "source": [
    "import os\n",
    "cwd = os.getcwd()\n",
    "import qcodes as qc\n",
    "qc.config[\"core\"][\"db_location\"] = os.path.join(cwd, 'testing.db')\n"
   ]
  },
  {
   "cell_type": "code",
   "execution_count": 2,
   "metadata": {
    "execution": {
     "iopub.execute_input": "2021-02-05T15:16:51.795603Z",
     "iopub.status.busy": "2021-02-05T15:16:51.794734Z",
     "iopub.status.idle": "2021-02-05T15:16:51.988490Z",
     "shell.execute_reply": "2021-02-05T15:16:51.989245Z"
    }
   },
   "outputs": [],
   "source": [
    "%matplotlib inline\n",
    "import time\n",
    "import matplotlib.pyplot as plt\n",
    "import numpy as np\n",
    "\n",
    "import qcodes as qc\n",
    "from qcodes.instrument.parameter import ManualParameter\n",
    "from qcodes.dataset.experiment_container import (Experiment,\n",
    "                                                 load_last_experiment,\n",
    "                                                 new_experiment)\n",
    "from qcodes.dataset.sqlite.database import initialise_database\n",
    "from qcodes import load_or_create_experiment\n",
    "from qcodes.dataset.measurements import Measurement"
   ]
  },
  {
   "cell_type": "code",
   "execution_count": 3,
   "metadata": {
    "execution": {
     "iopub.execute_input": "2021-02-05T15:16:51.993509Z",
     "iopub.status.busy": "2021-02-05T15:16:51.992530Z",
     "iopub.status.idle": "2021-02-05T15:16:52.107629Z",
     "shell.execute_reply": "2021-02-05T15:16:52.106873Z"
    }
   },
   "outputs": [
    {
     "name": "stdout",
     "output_type": "stream",
     "text": [
      "\r",
      "0it [00:00, ?it/s]"
     ]
    },
    {
     "name": "stdout",
     "output_type": "stream",
     "text": [
      "\r",
      "Upgrading database; v0 -> v1: : 0it [00:00, ?it/s]"
     ]
    },
    {
     "name": "stdout",
     "output_type": "stream",
     "text": [
      "\r",
      "Upgrading database; v0 -> v1: : 0it [00:00, ?it/s]"
     ]
    },
    {
     "name": "stdout",
     "output_type": "stream",
     "text": [
      "\n",
      "\r",
      "  0%|          | 0/1 [00:00<?, ?it/s]"
     ]
    },
    {
     "name": "stdout",
     "output_type": "stream",
     "text": [
      "\r",
      "Upgrading database; v1 -> v2:   0%|          | 0/1 [00:00<?, ?it/s]"
     ]
    },
    {
     "name": "stdout",
     "output_type": "stream",
     "text": [
      "\r",
      "Upgrading database; v1 -> v2: 100%|██████████| 1/1 [00:00<00:00, 547.85it/s]"
     ]
    },
    {
     "name": "stdout",
     "output_type": "stream",
     "text": [
      "\n",
      "\r",
      "0it [00:00, ?it/s]"
     ]
    },
    {
     "name": "stdout",
     "output_type": "stream",
     "text": [
      "\r",
      "Upgrading database; v2 -> v3: : 0it [00:00, ?it/s]"
     ]
    },
    {
     "name": "stdout",
     "output_type": "stream",
     "text": [
      "\r",
      "Upgrading database; v2 -> v3: : 0it [00:00, ?it/s]"
     ]
    },
    {
     "name": "stdout",
     "output_type": "stream",
     "text": [
      "\n",
      "\r",
      "0it [00:00, ?it/s]"
     ]
    },
    {
     "name": "stdout",
     "output_type": "stream",
     "text": [
      "\r",
      "Upgrading database; v3 -> v4: : 0it [00:00, ?it/s]"
     ]
    },
    {
     "name": "stdout",
     "output_type": "stream",
     "text": [
      "\r",
      "Upgrading database; v3 -> v4: : 0it [00:00, ?it/s]"
     ]
    },
    {
     "name": "stdout",
     "output_type": "stream",
     "text": [
      "\n",
      "\r",
      "  0%|          | 0/1 [00:00<?, ?it/s]"
     ]
    },
    {
     "name": "stdout",
     "output_type": "stream",
     "text": [
      "\r",
      "Upgrading database; v4 -> v5:   0%|          | 0/1 [00:00<?, ?it/s]"
     ]
    },
    {
     "name": "stdout",
     "output_type": "stream",
     "text": [
      "\r",
      "Upgrading database; v4 -> v5: 100%|██████████| 1/1 [00:00<00:00, 1016.55it/s]"
     ]
    },
    {
     "name": "stdout",
     "output_type": "stream",
     "text": [
      "\n",
      "\r",
      "0it [00:00, ?it/s]"
     ]
    },
    {
     "name": "stdout",
     "output_type": "stream",
     "text": [
      "\r",
      "Upgrading database; v5 -> v6: : 0it [00:00, ?it/s]"
     ]
    },
    {
     "name": "stdout",
     "output_type": "stream",
     "text": [
      "\r",
      "Upgrading database; v5 -> v6: : 0it [00:00, ?it/s]"
     ]
    },
    {
     "name": "stdout",
     "output_type": "stream",
     "text": [
      "\n",
      "\r",
      "  0%|          | 0/1 [00:00<?, ?it/s]"
     ]
    },
    {
     "name": "stdout",
     "output_type": "stream",
     "text": [
      "\r",
      "Upgrading database; v6 -> v7:   0%|          | 0/1 [00:00<?, ?it/s]"
     ]
    },
    {
     "name": "stdout",
     "output_type": "stream",
     "text": [
      "\r",
      "Upgrading database; v6 -> v7: 100%|██████████| 1/1 [00:00<00:00, 404.00it/s]"
     ]
    },
    {
     "name": "stdout",
     "output_type": "stream",
     "text": [
      "\n",
      "\r",
      "  0%|          | 0/1 [00:00<?, ?it/s]"
     ]
    },
    {
     "name": "stdout",
     "output_type": "stream",
     "text": [
      "\r",
      "Upgrading database; v7 -> v8:   0%|          | 0/1 [00:00<?, ?it/s]"
     ]
    },
    {
     "name": "stdout",
     "output_type": "stream",
     "text": [
      "\r",
      "Upgrading database; v7 -> v8: 100%|██████████| 1/1 [00:00<00:00, 435.68it/s]"
     ]
    },
    {
     "name": "stdout",
     "output_type": "stream",
     "text": [
      "\n",
      "\r",
      "  0%|          | 0/1 [00:00<?, ?it/s]"
     ]
    },
    {
     "name": "stdout",
     "output_type": "stream",
     "text": [
      "\r",
      "Upgrading database; v8 -> v9:   0%|          | 0/1 [00:00<?, ?it/s]"
     ]
    },
    {
     "name": "stdout",
     "output_type": "stream",
     "text": [
      "\r",
      "Upgrading database; v8 -> v9: 100%|██████████| 1/1 [00:00<00:00, 1001.27it/s]"
     ]
    },
    {
     "name": "stdout",
     "output_type": "stream",
     "text": [
      "\n"
     ]
    }
   ],
   "source": [
    "initialise_database()\n",
    "exp = load_or_create_experiment(experiment_name='tutorial_exp', sample_name=\"no sample\")"
   ]
  },
  {
   "cell_type": "markdown",
   "metadata": {},
   "source": [
    "Here, we define a simple function to benchmark the time it takes to insert n points with either numeric or array data type.\n",
    "We will compare both the time used to call ``add_result`` and the time used for the full measurement."
   ]
  },
  {
   "cell_type": "code",
   "execution_count": 4,
   "metadata": {
    "execution": {
     "iopub.execute_input": "2021-02-05T15:16:52.115988Z",
     "iopub.status.busy": "2021-02-05T15:16:52.115391Z",
     "iopub.status.idle": "2021-02-05T15:16:52.118730Z",
     "shell.execute_reply": "2021-02-05T15:16:52.118340Z"
    }
   },
   "outputs": [],
   "source": [
    "def insert_data(paramtype, npoints, nreps=1):\n",
    "\n",
    "    meas = Measurement(exp=exp)\n",
    "\n",
    "    x1 = ManualParameter('x1')\n",
    "    x2 = ManualParameter('x2')\n",
    "    x3 = ManualParameter('x3')\n",
    "    y1 = ManualParameter('y1')\n",
    "    y2 = ManualParameter('y2')\n",
    "\n",
    "    meas.register_parameter(x1, paramtype=paramtype)\n",
    "    meas.register_parameter(x2, paramtype=paramtype)\n",
    "    meas.register_parameter(x3, paramtype=paramtype)\n",
    "    meas.register_parameter(y1, setpoints=[x1, x2, x3],\n",
    "                            paramtype=paramtype)\n",
    "    meas.register_parameter(y2, setpoints=[x1, x2, x3],\n",
    "                            paramtype=paramtype)\n",
    "    start = time.perf_counter()\n",
    "    with meas.run() as datasaver:\n",
    "        start_adding = time.perf_counter()\n",
    "        for i in range(nreps):\n",
    "            datasaver.add_result((x1, np.random.rand(npoints)),\n",
    "                                 (x2, np.random.rand(npoints)),\n",
    "                                 (x3, np.random.rand(npoints)),\n",
    "                                 (y1, np.random.rand(npoints)),\n",
    "                                 (y2, np.random.rand(npoints)))\n",
    "        stop_adding = time.perf_counter()\n",
    "        run_id = datasaver.run_id\n",
    "    stop = time.perf_counter()\n",
    "    tot_time = stop - start\n",
    "    add_time = stop_adding - start_adding\n",
    "    return tot_time, add_time, run_id"
   ]
  },
  {
   "cell_type": "markdown",
   "metadata": {},
   "source": [
    "## Comparison between numeric/array data and binary blob"
   ]
  },
  {
   "cell_type": "markdown",
   "metadata": {},
   "source": [
    "### Case1: Short experiment time"
   ]
  },
  {
   "cell_type": "code",
   "execution_count": 5,
   "metadata": {
    "execution": {
     "iopub.execute_input": "2021-02-05T15:16:52.125201Z",
     "iopub.status.busy": "2021-02-05T15:16:52.124315Z",
     "iopub.status.idle": "2021-02-05T15:16:52.950562Z",
     "shell.execute_reply": "2021-02-05T15:16:52.950989Z"
    }
   },
   "outputs": [
    {
     "name": "stdout",
     "output_type": "stream",
     "text": [
      "Starting experimental run with id: 1. \n",
      "Starting experimental run with id: 2. \n",
      "Starting experimental run with id: 3. \n",
      "Starting experimental run with id: 4. \n"
     ]
    },
    {
     "name": "stdout",
     "output_type": "stream",
     "text": [
      "Starting experimental run with id: 5. \n"
     ]
    },
    {
     "name": "stdout",
     "output_type": "stream",
     "text": [
      "Starting experimental run with id: 6. \n",
      "Starting experimental run with id: 7. \n"
     ]
    },
    {
     "name": "stdout",
     "output_type": "stream",
     "text": [
      "Starting experimental run with id: 8. \n",
      "Starting experimental run with id: 9. \n"
     ]
    },
    {
     "name": "stdout",
     "output_type": "stream",
     "text": [
      "Starting experimental run with id: 10. \n",
      "Starting experimental run with id: 11. \n"
     ]
    },
    {
     "name": "stdout",
     "output_type": "stream",
     "text": [
      "Starting experimental run with id: 12. \n",
      "Starting experimental run with id: 13. \n"
     ]
    },
    {
     "name": "stdout",
     "output_type": "stream",
     "text": [
      "Starting experimental run with id: 14. \n"
     ]
    }
   ],
   "source": [
    "sizes = [1,500,1000,2000,3000,4000,5000]\n",
    "t_numeric = []\n",
    "t_numeric_add = []\n",
    "t_array = []\n",
    "t_array_add = []\n",
    "for size in sizes:\n",
    "    tn, tna, run_id_n =  insert_data('numeric', size)\n",
    "    t_numeric.append(tn)\n",
    "    t_numeric_add.append(tna)\n",
    "\n",
    "    ta, taa, run_id_a =  insert_data('array', size)\n",
    "    t_array.append(ta)\n",
    "    t_array_add.append(taa)"
   ]
  },
  {
   "cell_type": "code",
   "execution_count": 6,
   "metadata": {
    "execution": {
     "iopub.execute_input": "2021-02-05T15:16:52.992108Z",
     "iopub.status.busy": "2021-02-05T15:16:52.968685Z",
     "iopub.status.idle": "2021-02-05T15:16:53.136175Z",
     "shell.execute_reply": "2021-02-05T15:16:53.136645Z"
    }
   },
   "outputs": [
    {
     "data": {
      "image/png": "[encoded data removed]",
      "text/plain": [
       "<Figure size 432x288 with 1 Axes>"
      ]
     },
     "metadata": {
      "needs_background": "light"
     },
     "output_type": "display_data"
    }
   ],
   "source": [
    "fig, ax = plt.subplots(1,1)\n",
    "ax.plot(sizes, t_numeric, 'o-', label='Inserting row-by-row')\n",
    "ax.plot(sizes, t_numeric_add, 'o-', label='Inserting row-by-row: add_result only')\n",
    "ax.plot(sizes, t_array, 'd-', label='Inserting as binary blob')\n",
    "ax.plot(sizes, t_array_add, 'd-', label='Inserting as binary blob: add_result only')\n",
    "ax.legend()\n",
    "ax.set_xlabel('Array length')\n",
    "ax.set_ylabel('Time (s)')\n",
    "fig.tight_layout()"
   ]
  },
  {
   "cell_type": "markdown",
   "metadata": {},
   "source": [
    "As shown in the latter figure, the time to setup and and close the experiment is approximately 0.4 sec. In case of small array sizes, the difference between inserting values of data as arrays and inserting them row-by-row is relatively unimportant. At larger array sizes, i.e. above 10000 points, the cost of writing data as individual datapoints starts to become important.\n"
   ]
  },
  {
   "cell_type": "markdown",
   "metadata": {},
   "source": [
    "### Case2: Long experiment time "
   ]
  },
  {
   "cell_type": "code",
   "execution_count": 7,
   "metadata": {
    "execution": {
     "iopub.execute_input": "2021-02-05T15:16:53.139286Z",
     "iopub.status.busy": "2021-02-05T15:16:53.138771Z",
     "iopub.status.idle": "2021-02-05T15:17:46.845538Z",
     "shell.execute_reply": "2021-02-05T15:17:46.845018Z"
    }
   },
   "outputs": [
    {
     "name": "stdout",
     "output_type": "stream",
     "text": [
      "Starting experimental run with id: 15. \n",
      "Starting experimental run with id: 16. \n",
      "Starting experimental run with id: 17. \n"
     ]
    },
    {
     "name": "stdout",
     "output_type": "stream",
     "text": [
      "Starting experimental run with id: 18. \n",
      "Starting experimental run with id: 19. \n"
     ]
    },
    {
     "name": "stdout",
     "output_type": "stream",
     "text": [
      "Starting experimental run with id: 20. \n"
     ]
    },
    {
     "name": "stdout",
     "output_type": "stream",
     "text": [
      "Starting experimental run with id: 21. \n"
     ]
    },
    {
     "name": "stdout",
     "output_type": "stream",
     "text": [
      "Starting experimental run with id: 22. \n"
     ]
    },
    {
     "name": "stdout",
     "output_type": "stream",
     "text": [
      "Starting experimental run with id: 23. \n"
     ]
    },
    {
     "name": "stdout",
     "output_type": "stream",
     "text": [
      "Starting experimental run with id: 24. \n"
     ]
    },
    {
     "name": "stdout",
     "output_type": "stream",
     "text": [
      "Starting experimental run with id: 25. \n"
     ]
    },
    {
     "name": "stdout",
     "output_type": "stream",
     "text": [
      "Starting experimental run with id: 26. \n"
     ]
    },
    {
     "name": "stdout",
     "output_type": "stream",
     "text": [
      "Starting experimental run with id: 27. \n"
     ]
    },
    {
     "name": "stdout",
     "output_type": "stream",
     "text": [
      "Starting experimental run with id: 28. \n"
     ]
    }
   ],
   "source": [
    "sizes = [1,500,1000,2000,3000,4000,5000]\n",
    "nreps = 100\n",
    "t_numeric = []\n",
    "t_numeric_add = []\n",
    "t_numeric_run_ids = []\n",
    "t_array = []\n",
    "t_array_add = []\n",
    "t_array_run_ids = []\n",
    "for size in sizes:\n",
    "    tn, tna, run_id_n =  insert_data('numeric', size, nreps=nreps)\n",
    "    t_numeric.append(tn)\n",
    "    t_numeric_add.append(tna)\n",
    "    t_numeric_run_ids.append(run_id_n)\n",
    "\n",
    "    ta, taa, run_id_a =  insert_data('array', size, nreps=nreps)\n",
    "    t_array.append(ta)\n",
    "    t_array_add.append(taa)\n",
    "    t_array_run_ids.append(run_id_a)"
   ]
  },
  {
   "cell_type": "code",
   "execution_count": 8,
   "metadata": {
    "execution": {
     "iopub.execute_input": "2021-02-05T15:17:46.882529Z",
     "iopub.status.busy": "2021-02-05T15:17:46.850784Z",
     "iopub.status.idle": "2021-02-05T15:17:47.041275Z",
     "shell.execute_reply": "2021-02-05T15:17:47.041727Z"
    },
    "scrolled": true
   },
   "outputs": [
    {
     "data": {
      "image/png": "[encoded data removed]",
      "text/plain": [
       "<Figure size 432x288 with 1 Axes>"
      ]
     },
     "metadata": {
      "needs_background": "light"
     },
     "output_type": "display_data"
    }
   ],
   "source": [
    "fig, ax = plt.subplots(1,1)\n",
    "ax.plot(sizes, t_numeric, 'o-', label='Inserting row-by-row')\n",
    "ax.plot(sizes, t_numeric_add, 'o-', label='Inserting row-by-row: add_result only')\n",
    "ax.plot(sizes, t_array, 'd-', label='Inserting as binary blob')\n",
    "ax.plot(sizes, t_array_add, 'd-', label='Inserting as binary blob: add_result only')\n",
    "ax.legend()\n",
    "ax.set_xlabel('Array length')\n",
    "ax.set_ylabel('Time (s)')\n",
    "fig.tight_layout()"
   ]
  },
  {
   "cell_type": "markdown",
   "metadata": {},
   "source": [
    "However, as we increase the length of the experiment, as seen here by repeating the insertion 100 times, we see a big difference between inserting values of the data row-by-row and inserting it as a binary blob."
   ]
  },
  {
   "cell_type": "markdown",
   "metadata": {},
   "source": [
    "## Loading the data "
   ]
  },
  {
   "cell_type": "code",
   "execution_count": 9,
   "metadata": {
    "execution": {
     "iopub.execute_input": "2021-02-05T15:17:47.044431Z",
     "iopub.status.busy": "2021-02-05T15:17:47.043863Z",
     "iopub.status.idle": "2021-02-05T15:17:47.047028Z",
     "shell.execute_reply": "2021-02-05T15:17:47.047756Z"
    }
   },
   "outputs": [],
   "source": [
    "from qcodes.dataset.data_set import load_by_id\n",
    "from qcodes.dataset.data_export import get_data_by_id"
   ]
  },
  {
   "cell_type": "markdown",
   "metadata": {},
   "source": [
    "As usual you can load the data by using the ``load_by_id`` function but you will notice that the different storage methods\n",
    "are reflected in shape of the data as it is retrieved. "
   ]
  },
  {
   "cell_type": "code",
   "execution_count": 10,
   "metadata": {
    "execution": {
     "iopub.execute_input": "2021-02-05T15:17:47.051285Z",
     "iopub.status.busy": "2021-02-05T15:17:47.050762Z",
     "iopub.status.idle": "2021-02-05T15:17:47.054245Z",
     "shell.execute_reply": "2021-02-05T15:17:47.053757Z"
    }
   },
   "outputs": [],
   "source": [
    "run_id_n = t_numeric_run_ids[0]\n",
    "run_id_a = t_array_run_ids[0]"
   ]
  },
  {
   "cell_type": "code",
   "execution_count": 11,
   "metadata": {
    "execution": {
     "iopub.execute_input": "2021-02-05T15:17:47.057773Z",
     "iopub.status.busy": "2021-02-05T15:17:47.057238Z",
     "iopub.status.idle": "2021-02-05T15:17:47.066674Z",
     "shell.execute_reply": "2021-02-05T15:17:47.066231Z"
    },
    "scrolled": true
   },
   "outputs": [
    {
     "data": {
      "text/plain": [
       "{'x1': {'x1': array([0.76615183, 0.76615183, 0.97924669, 0.97924669, 0.22139106,\n",
       "         0.22139106, 0.56920899, 0.56920899, 0.46728821, 0.46728821,\n",
       "         0.2554536 , 0.2554536 , 0.82507279, 0.82507279, 0.8182058 ,\n",
       "         0.8182058 , 0.71549594, 0.71549594, 0.94389786, 0.94389786,\n",
       "         0.66340557, 0.66340557, 0.08233427, 0.08233427, 0.81099075,\n",
       "         0.81099075, 0.97651717, 0.97651717, 0.18209945, 0.18209945,\n",
       "         0.58900465, 0.58900465, 0.37345063, 0.37345063, 0.5991925 ,\n",
       "         0.5991925 , 0.1728616 , 0.1728616 , 0.62044637, 0.62044637,\n",
       "         0.97360157, 0.97360157, 0.40882398, 0.40882398, 0.82394663,\n",
       "         0.82394663, 0.73302762, 0.73302762, 0.83785697, 0.83785697,\n",
       "         0.89452309, 0.89452309, 0.99931247, 0.99931247, 0.43233796,\n",
       "         0.43233796, 0.66919079, 0.66919079, 0.45947951, 0.45947951,\n",
       "         0.60293447, 0.60293447, 0.83724893, 0.83724893, 0.36301569,\n",
       "         0.36301569, 0.79139514, 0.79139514, 0.20847111, 0.20847111,\n",
       "         0.37799782, 0.37799782, 0.72684305, 0.72684305, 0.78591542,\n",
       "         0.78591542, 0.38718437, 0.38718437, 0.13945668, 0.13945668,\n",
       "         0.58921782, 0.58921782, 0.8330662 , 0.8330662 , 0.13413403,\n",
       "         0.13413403, 0.18213151, 0.18213151, 0.73832861, 0.73832861,\n",
       "         0.15743821, 0.15743821, 0.77820162, 0.77820162, 0.15518619,\n",
       "         0.15518619, 0.45088835, 0.45088835, 0.69121666, 0.69121666,\n",
       "         0.25111069, 0.25111069, 0.54723144, 0.54723144, 0.52174024,\n",
       "         0.52174024, 0.6464094 , 0.6464094 , 0.65815981, 0.65815981,\n",
       "         0.70999952, 0.70999952, 0.19972693, 0.19972693, 0.70656538,\n",
       "         0.70656538, 0.67622826, 0.67622826, 0.62232118, 0.62232118,\n",
       "         0.14928967, 0.14928967, 0.1912304 , 0.1912304 , 0.12202789,\n",
       "         0.12202789, 0.64776749, 0.64776749, 0.59666717, 0.59666717,\n",
       "         0.25734837, 0.25734837, 0.82675642, 0.82675642, 0.25178707,\n",
       "         0.25178707, 0.3283409 , 0.3283409 , 0.37624485, 0.37624485,\n",
       "         0.06299663, 0.06299663, 0.85530524, 0.85530524, 0.88580591,\n",
       "         0.88580591, 0.44399547, 0.44399547, 0.33950834, 0.33950834,\n",
       "         0.49079347, 0.49079347, 0.75411634, 0.75411634, 0.41149597,\n",
       "         0.41149597, 0.44194957, 0.44194957, 0.83899534, 0.83899534,\n",
       "         0.42101276, 0.42101276, 0.76073806, 0.76073806, 0.62942327,\n",
       "         0.62942327, 0.45267056, 0.45267056, 0.82908688, 0.82908688,\n",
       "         0.1033697 , 0.1033697 , 0.33029552, 0.33029552, 0.19194097,\n",
       "         0.19194097, 0.50303435, 0.50303435, 0.41256903, 0.41256903,\n",
       "         0.30212376, 0.30212376, 0.10830141, 0.10830141, 0.38127923,\n",
       "         0.38127923, 0.30588518, 0.30588518, 0.94294578, 0.94294578,\n",
       "         0.60951313, 0.60951313, 0.31592207, 0.31592207, 0.83744213,\n",
       "         0.83744213, 0.93938852, 0.93938852, 0.7906743 , 0.7906743 ])}}"
      ]
     },
     "execution_count": 1,
     "metadata": {},
     "output_type": "execute_result"
    }
   ],
   "source": [
    "ds = load_by_id(run_id_n)\n",
    "ds.get_parameter_data('x1')"
   ]
  },
  {
   "cell_type": "markdown",
   "metadata": {},
   "source": [
    "And a dataset stored as binary arrays"
   ]
  },
  {
   "cell_type": "code",
   "execution_count": 12,
   "metadata": {
    "execution": {
     "iopub.execute_input": "2021-02-05T15:17:47.069891Z",
     "iopub.status.busy": "2021-02-05T15:17:47.069377Z",
     "iopub.status.idle": "2021-02-05T15:17:47.123093Z",
     "shell.execute_reply": "2021-02-05T15:17:47.123888Z"
    },
    "scrolled": true
   },
   "outputs": [
    {
     "data": {
      "text/plain": [
       "{'x1': {'x1': array([[0.50834573],\n",
       "         [0.50834573],\n",
       "         [0.45789086],\n",
       "         [0.45789086],\n",
       "         [0.87333933],\n",
       "         [0.87333933],\n",
       "         [0.64521297],\n",
       "         [0.64521297],\n",
       "         [0.64944443],\n",
       "         [0.64944443],\n",
       "         [0.29764453],\n",
       "         [0.29764453],\n",
       "         [0.25138281],\n",
       "         [0.25138281],\n",
       "         [0.4557663 ],\n",
       "         [0.4557663 ],\n",
       "         [0.06147625],\n",
       "         [0.06147625],\n",
       "         [0.2823368 ],\n",
       "         [0.2823368 ],\n",
       "         [0.03312114],\n",
       "         [0.03312114],\n",
       "         [0.66637011],\n",
       "         [0.66637011],\n",
       "         [0.16491666],\n",
       "         [0.16491666],\n",
       "         [0.40875259],\n",
       "         [0.40875259],\n",
       "         [0.98346609],\n",
       "         [0.98346609],\n",
       "         [0.13222428],\n",
       "         [0.13222428],\n",
       "         [0.57204826],\n",
       "         [0.57204826],\n",
       "         [0.72164455],\n",
       "         [0.72164455],\n",
       "         [0.80857801],\n",
       "         [0.80857801],\n",
       "         [0.53723939],\n",
       "         [0.53723939],\n",
       "         [0.84794842],\n",
       "         [0.84794842],\n",
       "         [0.93690907],\n",
       "         [0.93690907],\n",
       "         [0.51787653],\n",
       "         [0.51787653],\n",
       "         [0.89293098],\n",
       "         [0.89293098],\n",
       "         [0.9887028 ],\n",
       "         [0.9887028 ],\n",
       "         [0.16377054],\n",
       "         [0.16377054],\n",
       "         [0.08283625],\n",
       "         [0.08283625],\n",
       "         [0.26870808],\n",
       "         [0.26870808],\n",
       "         [0.95729454],\n",
       "         [0.95729454],\n",
       "         [0.68252363],\n",
       "         [0.68252363],\n",
       "         [0.58857637],\n",
       "         [0.58857637],\n",
       "         [0.53383596],\n",
       "         [0.53383596],\n",
       "         [0.06885727],\n",
       "         [0.06885727],\n",
       "         [0.54186051],\n",
       "         [0.54186051],\n",
       "         [0.38581691],\n",
       "         [0.38581691],\n",
       "         [0.11306756],\n",
       "         [0.11306756],\n",
       "         [0.44936844],\n",
       "         [0.44936844],\n",
       "         [0.62144458],\n",
       "         [0.62144458],\n",
       "         [0.05699534],\n",
       "         [0.05699534],\n",
       "         [0.82863829],\n",
       "         [0.82863829],\n",
       "         [0.86848913],\n",
       "         [0.86848913],\n",
       "         [0.02353446],\n",
       "         [0.02353446],\n",
       "         [0.91981311],\n",
       "         [0.91981311],\n",
       "         [0.02259359],\n",
       "         [0.02259359],\n",
       "         [0.45615385],\n",
       "         [0.45615385],\n",
       "         [0.03484463],\n",
       "         [0.03484463],\n",
       "         [0.51194863],\n",
       "         [0.51194863],\n",
       "         [0.10874005],\n",
       "         [0.10874005],\n",
       "         [0.54555575],\n",
       "         [0.54555575],\n",
       "         [0.47634377],\n",
       "         [0.47634377],\n",
       "         [0.03720027],\n",
       "         [0.03720027],\n",
       "         [0.32194474],\n",
       "         [0.32194474],\n",
       "         [0.10847907],\n",
       "         [0.10847907],\n",
       "         [0.58295741],\n",
       "         [0.58295741],\n",
       "         [0.61372563],\n",
       "         [0.61372563],\n",
       "         [0.95888685],\n",
       "         [0.95888685],\n",
       "         [0.66229284],\n",
       "         [0.66229284],\n",
       "         [0.27789586],\n",
       "         [0.27789586],\n",
       "         [0.52992287],\n",
       "         [0.52992287],\n",
       "         [0.54660641],\n",
       "         [0.54660641],\n",
       "         [0.84125006],\n",
       "         [0.84125006],\n",
       "         [0.42030884],\n",
       "         [0.42030884],\n",
       "         [0.27153761],\n",
       "         [0.27153761],\n",
       "         [0.17463999],\n",
       "         [0.17463999],\n",
       "         [0.86584344],\n",
       "         [0.86584344],\n",
       "         [0.19884893],\n",
       "         [0.19884893],\n",
       "         [0.6007886 ],\n",
       "         [0.6007886 ],\n",
       "         [0.97890149],\n",
       "         [0.97890149],\n",
       "         [0.52823526],\n",
       "         [0.52823526],\n",
       "         [0.47955846],\n",
       "         [0.47955846],\n",
       "         [0.5714852 ],\n",
       "         [0.5714852 ],\n",
       "         [0.30381328],\n",
       "         [0.30381328],\n",
       "         [0.65963666],\n",
       "         [0.65963666],\n",
       "         [0.77815491],\n",
       "         [0.77815491],\n",
       "         [0.67822424],\n",
       "         [0.67822424],\n",
       "         [0.23192148],\n",
       "         [0.23192148],\n",
       "         [0.56699709],\n",
       "         [0.56699709],\n",
       "         [0.55717291],\n",
       "         [0.55717291],\n",
       "         [0.86593085],\n",
       "         [0.86593085],\n",
       "         [0.06385136],\n",
       "         [0.06385136],\n",
       "         [0.53484238],\n",
       "         [0.53484238],\n",
       "         [0.88625202],\n",
       "         [0.88625202],\n",
       "         [0.76868244],\n",
       "         [0.76868244],\n",
       "         [0.98761319],\n",
       "         [0.98761319],\n",
       "         [0.29327049],\n",
       "         [0.29327049],\n",
       "         [0.24790561],\n",
       "         [0.24790561],\n",
       "         [0.17683154],\n",
       "         [0.17683154],\n",
       "         [0.46766075],\n",
       "         [0.46766075],\n",
       "         [0.94372224],\n",
       "         [0.94372224],\n",
       "         [0.20112499],\n",
       "         [0.20112499],\n",
       "         [0.20107409],\n",
       "         [0.20107409],\n",
       "         [0.4650799 ],\n",
       "         [0.4650799 ],\n",
       "         [0.65861305],\n",
       "         [0.65861305],\n",
       "         [0.32114424],\n",
       "         [0.32114424],\n",
       "         [0.20373648],\n",
       "         [0.20373648],\n",
       "         [0.18855267],\n",
       "         [0.18855267],\n",
       "         [0.83518323],\n",
       "         [0.83518323],\n",
       "         [0.57954882],\n",
       "         [0.57954882],\n",
       "         [0.22430474],\n",
       "         [0.22430474],\n",
       "         [0.73458049],\n",
       "         [0.73458049]])}}"
      ]
     },
     "execution_count": 1,
     "metadata": {},
     "output_type": "execute_result"
    }
   ],
   "source": [
    "ds = load_by_id(run_id_a)\n",
    "ds.get_parameter_data('x1')"
   ]
  },
  {
   "cell_type": "code",
   "execution_count": null,
   "metadata": {},
   "outputs": [],
   "source": []
  }
 ],
 "metadata": {
  "kernelspec": {
   "display_name": "Python 3",
   "language": "python",
   "name": "python3"
  },
  "language_info": {
   "codemirror_mode": {
    "name": "ipython",
    "version": 3
   },
   "file_extension": ".py",
   "mimetype": "text/x-python",
   "name": "python",
   "nbconvert_exporter": "python",
   "pygments_lexer": "ipython3",
   "version": "3.7.9"
  },
  "nbsphinx": {
   "timeout": 600
  },
  "toc": {
   "base_numbering": 1,
   "nav_menu": {},
   "number_sections": true,
   "sideBar": true,
   "skip_h1_title": false,
   "title_cell": "Table of Contents",
   "title_sidebar": "Contents",
   "toc_cell": false,
   "toc_position": {},
   "toc_section_display": true,
   "toc_window_display": false
  },
  "varInspector": {
   "cols": {
    "lenName": 16,
    "lenType": 16,
    "lenVar": 40
   },
   "kernels_config": {
    "python": {
     "delete_cmd_postfix": "",
     "delete_cmd_prefix": "del ",
     "library": "var_list.py",
     "varRefreshCmd": "print(var_dic_list())"
    },
    "r": {
     "delete_cmd_postfix": ") ",
     "delete_cmd_prefix": "rm(",
     "library": "var_list.r",
     "varRefreshCmd": "cat(var_dic_list()) "
    }
   },
   "types_to_exclude": [
    "module",
    "function",
    "builtin_function_or_method",
    "instance",
    "_Feature"
   ],
   "window_display": false
  }
 },
 "nbformat": 4,
 "nbformat_minor": 2
}
