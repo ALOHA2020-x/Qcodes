{
 "cells": [
  {
   "cell_type": "markdown",
   "metadata": {},
   "source": [
    "# DataSet Performance\n",
    "\n",
    "This notebook shows the trade-off between inserting data into a database row-by-row and as binary blobs. Inserting the data row-by-row means that we have direct access to all the data and may perform queries directly on the values of the data. On the other hand, as we shall see, this is much slower than inserting the data directly as binary blobs."
   ]
  },
  {
   "cell_type": "markdown",
   "metadata": {},
   "source": [
    "First, we choose a new location for the database to ensure that we don't add a bunch of benchmarking data to the default one."
   ]
  },
  {
   "cell_type": "code",
   "execution_count": 1,
   "metadata": {
    "execution": {
     "iopub.execute_input": "2020-12-15T12:17:23.006509Z",
     "iopub.status.busy": "2020-12-15T12:17:23.005284Z",
     "iopub.status.idle": "2020-12-15T12:17:24.038396Z",
     "shell.execute_reply": "2020-12-15T12:17:24.037867Z"
    }
   },
   "outputs": [
    {
     "name": "stdout",
     "output_type": "stream",
     "text": [
      "Logging hadn't been started.\n",
      "Activating auto-logging. Current session state plus future input saved.\n",
      "Filename       : /home/vsts/.qcodes/logs/command_history.log\n",
      "Mode           : append\n",
      "Output logging : True\n",
      "Raw input log  : False\n",
      "Timestamping   : True\n",
      "State          : active\n"
     ]
    },
    {
     "name": "stdout",
     "output_type": "stream",
     "text": [
      "Qcodes Logfile : /home/vsts/.qcodes/logs/201215-14325-qcodes.log\n"
     ]
    }
   ],
   "source": [
    "import os\n",
    "cwd = os.getcwd()\n",
    "import qcodes as qc\n",
    "qc.config[\"core\"][\"db_location\"] = os.path.join(cwd, 'testing.db')\n"
   ]
  },
  {
   "cell_type": "code",
   "execution_count": 2,
   "metadata": {
    "execution": {
     "iopub.execute_input": "2020-12-15T12:17:24.045557Z",
     "iopub.status.busy": "2020-12-15T12:17:24.043373Z",
     "iopub.status.idle": "2020-12-15T12:17:24.214925Z",
     "shell.execute_reply": "2020-12-15T12:17:24.214360Z"
    }
   },
   "outputs": [],
   "source": [
    "%matplotlib inline\n",
    "import time\n",
    "import matplotlib.pyplot as plt\n",
    "import numpy as np\n",
    "\n",
    "import qcodes as qc\n",
    "from qcodes.instrument.parameter import ManualParameter\n",
    "from qcodes.dataset.experiment_container import (Experiment,\n",
    "                                                 load_last_experiment,\n",
    "                                                 new_experiment)\n",
    "from qcodes.dataset.sqlite.database import initialise_database\n",
    "from qcodes import load_or_create_experiment\n",
    "from qcodes.dataset.measurements import Measurement"
   ]
  },
  {
   "cell_type": "code",
   "execution_count": 3,
   "metadata": {
    "execution": {
     "iopub.execute_input": "2020-12-15T12:17:24.219058Z",
     "iopub.status.busy": "2020-12-15T12:17:24.218248Z",
     "iopub.status.idle": "2020-12-15T12:17:24.314807Z",
     "shell.execute_reply": "2020-12-15T12:17:24.314222Z"
    }
   },
   "outputs": [
    {
     "name": "stdout",
     "output_type": "stream",
     "text": [
      "\r",
      "0it [00:00, ?it/s]"
     ]
    },
    {
     "name": "stdout",
     "output_type": "stream",
     "text": [
      "\r",
      "Upgrading database; v0 -> v1: : 0it [00:00, ?it/s]"
     ]
    },
    {
     "name": "stdout",
     "output_type": "stream",
     "text": [
      "\r",
      "Upgrading database; v0 -> v1: : 0it [00:00, ?it/s]"
     ]
    },
    {
     "name": "stdout",
     "output_type": "stream",
     "text": [
      "\n",
      "\r",
      "  0%|          | 0/1 [00:00<?, ?it/s]"
     ]
    },
    {
     "name": "stdout",
     "output_type": "stream",
     "text": [
      "\r",
      "Upgrading database; v1 -> v2:   0%|          | 0/1 [00:00<?, ?it/s]"
     ]
    },
    {
     "name": "stdout",
     "output_type": "stream",
     "text": [
      "\r",
      "Upgrading database; v1 -> v2: 100%|██████████| 1/1 [00:00<00:00, 499.62it/s]"
     ]
    },
    {
     "name": "stdout",
     "output_type": "stream",
     "text": [
      "\n",
      "\r",
      "0it [00:00, ?it/s]"
     ]
    },
    {
     "name": "stdout",
     "output_type": "stream",
     "text": [
      "\r",
      "Upgrading database; v2 -> v3: : 0it [00:00, ?it/s]"
     ]
    },
    {
     "name": "stdout",
     "output_type": "stream",
     "text": [
      "\r",
      "Upgrading database; v2 -> v3: : 0it [00:00, ?it/s]"
     ]
    },
    {
     "name": "stdout",
     "output_type": "stream",
     "text": [
      "\n",
      "\r",
      "0it [00:00, ?it/s]"
     ]
    },
    {
     "name": "stdout",
     "output_type": "stream",
     "text": [
      "\r",
      "Upgrading database; v3 -> v4: : 0it [00:00, ?it/s]"
     ]
    },
    {
     "name": "stdout",
     "output_type": "stream",
     "text": [
      "\r",
      "Upgrading database; v3 -> v4: : 0it [00:00, ?it/s]"
     ]
    },
    {
     "name": "stdout",
     "output_type": "stream",
     "text": [
      "\n",
      "\r",
      "  0%|          | 0/1 [00:00<?, ?it/s]"
     ]
    },
    {
     "name": "stdout",
     "output_type": "stream",
     "text": [
      "\r",
      "Upgrading database; v4 -> v5:   0%|          | 0/1 [00:00<?, ?it/s]"
     ]
    },
    {
     "name": "stdout",
     "output_type": "stream",
     "text": [
      "\r",
      "Upgrading database; v4 -> v5: 100%|██████████| 1/1 [00:00<00:00, 1062.66it/s]"
     ]
    },
    {
     "name": "stdout",
     "output_type": "stream",
     "text": [
      "\n",
      "\r",
      "0it [00:00, ?it/s]"
     ]
    },
    {
     "name": "stdout",
     "output_type": "stream",
     "text": [
      "\r",
      "Upgrading database; v5 -> v6: : 0it [00:00, ?it/s]"
     ]
    },
    {
     "name": "stdout",
     "output_type": "stream",
     "text": [
      "\r",
      "Upgrading database; v5 -> v6: : 0it [00:00, ?it/s]"
     ]
    },
    {
     "name": "stdout",
     "output_type": "stream",
     "text": [
      "\n",
      "\r",
      "  0%|          | 0/1 [00:00<?, ?it/s]"
     ]
    },
    {
     "name": "stdout",
     "output_type": "stream",
     "text": [
      "\r",
      "Upgrading database; v6 -> v7:   0%|          | 0/1 [00:00<?, ?it/s]"
     ]
    },
    {
     "name": "stdout",
     "output_type": "stream",
     "text": [
      "\r",
      "Upgrading database; v6 -> v7: 100%|██████████| 1/1 [00:00<00:00, 225.03it/s]"
     ]
    },
    {
     "name": "stdout",
     "output_type": "stream",
     "text": [
      "\n",
      "\r",
      "  0%|          | 0/1 [00:00<?, ?it/s]"
     ]
    },
    {
     "name": "stdout",
     "output_type": "stream",
     "text": [
      "\r",
      "Upgrading database; v7 -> v8:   0%|          | 0/1 [00:00<?, ?it/s]"
     ]
    },
    {
     "name": "stdout",
     "output_type": "stream",
     "text": [
      "\r",
      "Upgrading database; v7 -> v8: 100%|██████████| 1/1 [00:00<00:00, 585.88it/s]"
     ]
    },
    {
     "name": "stdout",
     "output_type": "stream",
     "text": [
      "\n",
      "\r",
      "  0%|          | 0/1 [00:00<?, ?it/s]"
     ]
    },
    {
     "name": "stdout",
     "output_type": "stream",
     "text": [
      "\r",
      "Upgrading database; v8 -> v9:   0%|          | 0/1 [00:00<?, ?it/s]"
     ]
    },
    {
     "name": "stdout",
     "output_type": "stream",
     "text": [
      "\r",
      "Upgrading database; v8 -> v9: 100%|██████████| 1/1 [00:00<00:00, 1280.31it/s]"
     ]
    },
    {
     "name": "stdout",
     "output_type": "stream",
     "text": [
      "\n"
     ]
    }
   ],
   "source": [
    "initialise_database()\n",
    "exp = load_or_create_experiment(experiment_name='tutorial_exp', sample_name=\"no sample\")"
   ]
  },
  {
   "cell_type": "markdown",
   "metadata": {},
   "source": [
    "Here, we define a simple function to benchmark the time it takes to insert n points with either numeric or array data type.\n",
    "We will compare both the time used to call ``add_result`` and the time used for the full measurement."
   ]
  },
  {
   "cell_type": "code",
   "execution_count": 4,
   "metadata": {
    "execution": {
     "iopub.execute_input": "2020-12-15T12:17:24.323363Z",
     "iopub.status.busy": "2020-12-15T12:17:24.322233Z",
     "iopub.status.idle": "2020-12-15T12:17:24.323867Z",
     "shell.execute_reply": "2020-12-15T12:17:24.324383Z"
    }
   },
   "outputs": [],
   "source": [
    "def insert_data(paramtype, npoints, nreps=1):\n",
    "\n",
    "    meas = Measurement(exp=exp)\n",
    "\n",
    "    x1 = ManualParameter('x1')\n",
    "    x2 = ManualParameter('x2')\n",
    "    x3 = ManualParameter('x3')\n",
    "    y1 = ManualParameter('y1')\n",
    "    y2 = ManualParameter('y2')\n",
    "\n",
    "    meas.register_parameter(x1, paramtype=paramtype)\n",
    "    meas.register_parameter(x2, paramtype=paramtype)\n",
    "    meas.register_parameter(x3, paramtype=paramtype)\n",
    "    meas.register_parameter(y1, setpoints=[x1, x2, x3],\n",
    "                            paramtype=paramtype)\n",
    "    meas.register_parameter(y2, setpoints=[x1, x2, x3],\n",
    "                            paramtype=paramtype)\n",
    "    start = time.perf_counter()\n",
    "    with meas.run() as datasaver:\n",
    "        start_adding = time.perf_counter()\n",
    "        for i in range(nreps):\n",
    "            datasaver.add_result((x1, np.random.rand(npoints)),\n",
    "                                 (x2, np.random.rand(npoints)),\n",
    "                                 (x3, np.random.rand(npoints)),\n",
    "                                 (y1, np.random.rand(npoints)),\n",
    "                                 (y2, np.random.rand(npoints)))\n",
    "        stop_adding = time.perf_counter()\n",
    "        run_id = datasaver.run_id\n",
    "    stop = time.perf_counter()\n",
    "    tot_time = stop - start\n",
    "    add_time = stop_adding - start_adding\n",
    "    return tot_time, add_time, run_id"
   ]
  },
  {
   "cell_type": "markdown",
   "metadata": {},
   "source": [
    "## Comparison between numeric/array data and binary blob"
   ]
  },
  {
   "cell_type": "markdown",
   "metadata": {},
   "source": [
    "### Case1: Short experiment time"
   ]
  },
  {
   "cell_type": "code",
   "execution_count": 5,
   "metadata": {
    "execution": {
     "iopub.execute_input": "2020-12-15T12:17:24.330519Z",
     "iopub.status.busy": "2020-12-15T12:17:24.329903Z",
     "iopub.status.idle": "2020-12-15T12:17:25.090519Z",
     "shell.execute_reply": "2020-12-15T12:17:25.090018Z"
    }
   },
   "outputs": [
    {
     "name": "stdout",
     "output_type": "stream",
     "text": [
      "Starting experimental run with id: 1. \n",
      "Starting experimental run with id: 2. \n",
      "Starting experimental run with id: 3. \n",
      "Starting experimental run with id: 4. \n",
      "Starting experimental run with id: 5. \n",
      "Starting experimental run with id: 6. \n"
     ]
    },
    {
     "name": "stdout",
     "output_type": "stream",
     "text": [
      "Starting experimental run with id: 7. "
     ]
    },
    {
     "name": "stdout",
     "output_type": "stream",
     "text": [
      "\n"
     ]
    },
    {
     "name": "stdout",
     "output_type": "stream",
     "text": [
      "Starting experimental run with id: 8. \n",
      "Starting experimental run with id: 9. \n"
     ]
    },
    {
     "name": "stdout",
     "output_type": "stream",
     "text": [
      "Starting experimental run with id: 10. \n",
      "Starting experimental run with id: 11. \n"
     ]
    },
    {
     "name": "stdout",
     "output_type": "stream",
     "text": [
      "Starting experimental run with id: 12. \n",
      "Starting experimental run with id: 13. \n"
     ]
    },
    {
     "name": "stdout",
     "output_type": "stream",
     "text": [
      "Starting experimental run with id: 14. \n"
     ]
    }
   ],
   "source": [
    "sizes = [1,500,1000,2000,3000,4000,5000]\n",
    "t_numeric = []\n",
    "t_numeric_add = []\n",
    "t_array = []\n",
    "t_array_add = []\n",
    "for size in sizes:\n",
    "    tn, tna, run_id_n =  insert_data('numeric', size)\n",
    "    t_numeric.append(tn)\n",
    "    t_numeric_add.append(tna)\n",
    "\n",
    "    ta, taa, run_id_a =  insert_data('array', size)\n",
    "    t_array.append(ta)\n",
    "    t_array_add.append(taa)"
   ]
  },
  {
   "cell_type": "code",
   "execution_count": 6,
   "metadata": {
    "execution": {
     "iopub.execute_input": "2020-12-15T12:17:25.107662Z",
     "iopub.status.busy": "2020-12-15T12:17:25.107135Z",
     "iopub.status.idle": "2020-12-15T12:17:25.275364Z",
     "shell.execute_reply": "2020-12-15T12:17:25.276108Z"
    }
   },
   "outputs": [
    {
     "data": {
      "image/png": "[encoded data removed]",
      "text/plain": [
       "<Figure size 432x288 with 1 Axes>"
      ]
     },
     "metadata": {
      "needs_background": "light"
     },
     "output_type": "display_data"
    }
   ],
   "source": [
    "fig, ax = plt.subplots(1,1)\n",
    "ax.plot(sizes, t_numeric, 'o-', label='Inserting row-by-row')\n",
    "ax.plot(sizes, t_numeric_add, 'o-', label='Inserting row-by-row: add_result only')\n",
    "ax.plot(sizes, t_array, 'd-', label='Inserting as binary blob')\n",
    "ax.plot(sizes, t_array_add, 'd-', label='Inserting as binary blob: add_result only')\n",
    "ax.legend()\n",
    "ax.set_xlabel('Array length')\n",
    "ax.set_ylabel('Time (s)')\n",
    "fig.tight_layout()"
   ]
  },
  {
   "cell_type": "markdown",
   "metadata": {},
   "source": [
    "As shown in the latter figure, the time to setup and and close the experiment is approximately 0.4 sec. In case of small array sizes, the difference between inserting values of data as arrays and inserting them row-by-row is relatively unimportant. At larger array sizes, i.e. above 10000 points, the cost of writing data as individual datapoints starts to become important.\n"
   ]
  },
  {
   "cell_type": "markdown",
   "metadata": {},
   "source": [
    "### Case2: Long experiment time "
   ]
  },
  {
   "cell_type": "code",
   "execution_count": 7,
   "metadata": {
    "execution": {
     "iopub.execute_input": "2020-12-15T12:17:25.279627Z",
     "iopub.status.busy": "2020-12-15T12:17:25.278549Z",
     "iopub.status.idle": "2020-12-15T12:18:22.881941Z",
     "shell.execute_reply": "2020-12-15T12:18:22.882745Z"
    }
   },
   "outputs": [
    {
     "name": "stdout",
     "output_type": "stream",
     "text": [
      "Starting experimental run with id: 15. \n",
      "Starting experimental run with id: 16. \n",
      "Starting experimental run with id: 17. \n"
     ]
    },
    {
     "name": "stdout",
     "output_type": "stream",
     "text": [
      "Starting experimental run with id: 18. \n",
      "Starting experimental run with id: 19. \n"
     ]
    },
    {
     "name": "stdout",
     "output_type": "stream",
     "text": [
      "Starting experimental run with id: 20. \n"
     ]
    },
    {
     "name": "stdout",
     "output_type": "stream",
     "text": [
      "Starting experimental run with id: 21. \n"
     ]
    },
    {
     "name": "stdout",
     "output_type": "stream",
     "text": [
      "Starting experimental run with id: 22. \n"
     ]
    },
    {
     "name": "stdout",
     "output_type": "stream",
     "text": [
      "Starting experimental run with id: 23. \n"
     ]
    },
    {
     "name": "stdout",
     "output_type": "stream",
     "text": [
      "Starting experimental run with id: 24. \n"
     ]
    },
    {
     "name": "stdout",
     "output_type": "stream",
     "text": [
      "Starting experimental run with id: 25. \n"
     ]
    },
    {
     "name": "stdout",
     "output_type": "stream",
     "text": [
      "Starting experimental run with id: 26. \n"
     ]
    },
    {
     "name": "stdout",
     "output_type": "stream",
     "text": [
      "Starting experimental run with id: 27. \n"
     ]
    },
    {
     "name": "stdout",
     "output_type": "stream",
     "text": [
      "Starting experimental run with id: 28. \n"
     ]
    }
   ],
   "source": [
    "sizes = [1,500,1000,2000,3000,4000,5000]\n",
    "nreps = 100\n",
    "t_numeric = []\n",
    "t_numeric_add = []\n",
    "t_numeric_run_ids = []\n",
    "t_array = []\n",
    "t_array_add = []\n",
    "t_array_run_ids = []\n",
    "for size in sizes:\n",
    "    tn, tna, run_id_n =  insert_data('numeric', size, nreps=nreps)\n",
    "    t_numeric.append(tn)\n",
    "    t_numeric_add.append(tna)\n",
    "    t_numeric_run_ids.append(run_id_n)\n",
    "\n",
    "    ta, taa, run_id_a =  insert_data('array', size, nreps=nreps)\n",
    "    t_array.append(ta)\n",
    "    t_array_add.append(taa)\n",
    "    t_array_run_ids.append(run_id_a)"
   ]
  },
  {
   "cell_type": "code",
   "execution_count": 8,
   "metadata": {
    "execution": {
     "iopub.execute_input": "2020-12-15T12:18:22.911191Z",
     "iopub.status.busy": "2020-12-15T12:18:22.908924Z",
     "iopub.status.idle": "2020-12-15T12:18:23.080552Z",
     "shell.execute_reply": "2020-12-15T12:18:23.081108Z"
    },
    "scrolled": true
   },
   "outputs": [
    {
     "data": {
      "image/png": "[encoded data removed]",
      "text/plain": [
       "<Figure size 432x288 with 1 Axes>"
      ]
     },
     "metadata": {
      "needs_background": "light"
     },
     "output_type": "display_data"
    }
   ],
   "source": [
    "fig, ax = plt.subplots(1,1)\n",
    "ax.plot(sizes, t_numeric, 'o-', label='Inserting row-by-row')\n",
    "ax.plot(sizes, t_numeric_add, 'o-', label='Inserting row-by-row: add_result only')\n",
    "ax.plot(sizes, t_array, 'd-', label='Inserting as binary blob')\n",
    "ax.plot(sizes, t_array_add, 'd-', label='Inserting as binary blob: add_result only')\n",
    "ax.legend()\n",
    "ax.set_xlabel('Array length')\n",
    "ax.set_ylabel('Time (s)')\n",
    "fig.tight_layout()"
   ]
  },
  {
   "cell_type": "markdown",
   "metadata": {},
   "source": [
    "However, as we increase the length of the experiment, as seen here by repeating the insertion 100 times, we see a big difference between inserting values of the data row-by-row and inserting it as a binary blob."
   ]
  },
  {
   "cell_type": "markdown",
   "metadata": {},
   "source": [
    "## Loading the data "
   ]
  },
  {
   "cell_type": "code",
   "execution_count": 9,
   "metadata": {
    "execution": {
     "iopub.execute_input": "2020-12-15T12:18:23.086269Z",
     "iopub.status.busy": "2020-12-15T12:18:23.084566Z",
     "iopub.status.idle": "2020-12-15T12:18:23.089407Z",
     "shell.execute_reply": "2020-12-15T12:18:23.088516Z"
    }
   },
   "outputs": [],
   "source": [
    "from qcodes.dataset.data_set import load_by_id\n",
    "from qcodes.dataset.data_export import get_data_by_id"
   ]
  },
  {
   "cell_type": "markdown",
   "metadata": {},
   "source": [
    "As usual you can load the data by using the ``load_by_id`` function but you will notice that the different storage methods\n",
    "are reflected in shape of the data as it is retrieved. "
   ]
  },
  {
   "cell_type": "code",
   "execution_count": 10,
   "metadata": {
    "execution": {
     "iopub.execute_input": "2020-12-15T12:18:23.092916Z",
     "iopub.status.busy": "2020-12-15T12:18:23.092431Z",
     "iopub.status.idle": "2020-12-15T12:18:23.096213Z",
     "shell.execute_reply": "2020-12-15T12:18:23.095257Z"
    }
   },
   "outputs": [],
   "source": [
    "run_id_n = t_numeric_run_ids[0]\n",
    "run_id_a = t_array_run_ids[0]"
   ]
  },
  {
   "cell_type": "code",
   "execution_count": 11,
   "metadata": {
    "execution": {
     "iopub.execute_input": "2020-12-15T12:18:23.099406Z",
     "iopub.status.busy": "2020-12-15T12:18:23.098933Z",
     "iopub.status.idle": "2020-12-15T12:18:23.109303Z",
     "shell.execute_reply": "2020-12-15T12:18:23.108796Z"
    },
    "scrolled": true
   },
   "outputs": [
    {
     "data": {
      "text/plain": [
       "{'x1': {'x1': array([0.61620002, 0.61620002, 0.39255682, 0.39255682, 0.44109096,\n",
       "         0.44109096, 0.87663035, 0.87663035, 0.44426478, 0.44426478,\n",
       "         0.43998227, 0.43998227, 0.73189447, 0.73189447, 0.87579956,\n",
       "         0.87579956, 0.91812063, 0.91812063, 0.56809523, 0.56809523,\n",
       "         0.143809  , 0.143809  , 0.35538729, 0.35538729, 0.53556778,\n",
       "         0.53556778, 0.58289978, 0.58289978, 0.40158823, 0.40158823,\n",
       "         0.99007741, 0.99007741, 0.1077077 , 0.1077077 , 0.228494  ,\n",
       "         0.228494  , 0.28765078, 0.28765078, 0.37118541, 0.37118541,\n",
       "         0.90925159, 0.90925159, 0.73052984, 0.73052984, 0.51262181,\n",
       "         0.51262181, 0.00959553, 0.00959553, 0.81426026, 0.81426026,\n",
       "         0.53859036, 0.53859036, 0.7734629 , 0.7734629 , 0.41510377,\n",
       "         0.41510377, 0.99235756, 0.99235756, 0.36352015, 0.36352015,\n",
       "         0.40074089, 0.40074089, 0.73233859, 0.73233859, 0.58191412,\n",
       "         0.58191412, 0.00821611, 0.00821611, 0.00280976, 0.00280976,\n",
       "         0.94483555, 0.94483555, 0.4182462 , 0.4182462 , 0.91715092,\n",
       "         0.91715092, 0.49918002, 0.49918002, 0.49774169, 0.49774169,\n",
       "         0.43914475, 0.43914475, 0.82275297, 0.82275297, 0.78249767,\n",
       "         0.78249767, 0.61063917, 0.61063917, 0.92290303, 0.92290303,\n",
       "         0.92573268, 0.92573268, 0.85609272, 0.85609272, 0.08382749,\n",
       "         0.08382749, 0.58753054, 0.58753054, 0.49658813, 0.49658813,\n",
       "         0.54905609, 0.54905609, 0.87322597, 0.87322597, 0.17809246,\n",
       "         0.17809246, 0.5049866 , 0.5049866 , 0.4652822 , 0.4652822 ,\n",
       "         0.51154974, 0.51154974, 0.37993408, 0.37993408, 0.12336018,\n",
       "         0.12336018, 0.2633112 , 0.2633112 , 0.02819561, 0.02819561,\n",
       "         0.85257167, 0.85257167, 0.2763695 , 0.2763695 , 0.13389225,\n",
       "         0.13389225, 0.27046317, 0.27046317, 0.95675267, 0.95675267,\n",
       "         0.64660742, 0.64660742, 0.10342616, 0.10342616, 0.55425688,\n",
       "         0.55425688, 0.99267786, 0.99267786, 0.15313124, 0.15313124,\n",
       "         0.53415994, 0.53415994, 0.64242071, 0.64242071, 0.22303671,\n",
       "         0.22303671, 0.4621119 , 0.4621119 , 0.22404637, 0.22404637,\n",
       "         0.56931444, 0.56931444, 0.79508024, 0.79508024, 0.15734694,\n",
       "         0.15734694, 0.98986501, 0.98986501, 0.8501165 , 0.8501165 ,\n",
       "         0.00695888, 0.00695888, 0.77198872, 0.77198872, 0.57085904,\n",
       "         0.57085904, 0.92923984, 0.92923984, 0.38261029, 0.38261029,\n",
       "         0.15042758, 0.15042758, 0.52744461, 0.52744461, 0.23040991,\n",
       "         0.23040991, 0.26484401, 0.26484401, 0.67278403, 0.67278403,\n",
       "         0.16822684, 0.16822684, 0.23167636, 0.23167636, 0.85142262,\n",
       "         0.85142262, 0.55552482, 0.55552482, 0.39803046, 0.39803046,\n",
       "         0.95961836, 0.95961836, 0.80326843, 0.80326843, 0.11844435,\n",
       "         0.11844435, 0.70979778, 0.70979778, 0.61125878, 0.61125878])}}"
      ]
     },
     "execution_count": 1,
     "metadata": {},
     "output_type": "execute_result"
    }
   ],
   "source": [
    "ds = load_by_id(run_id_n)\n",
    "ds.get_parameter_data('x1')"
   ]
  },
  {
   "cell_type": "markdown",
   "metadata": {},
   "source": [
    "And a dataset stored as binary arrays"
   ]
  },
  {
   "cell_type": "code",
   "execution_count": 12,
   "metadata": {
    "execution": {
     "iopub.execute_input": "2020-12-15T12:18:23.112439Z",
     "iopub.status.busy": "2020-12-15T12:18:23.111897Z",
     "iopub.status.idle": "2020-12-15T12:18:23.162483Z",
     "shell.execute_reply": "2020-12-15T12:18:23.163081Z"
    },
    "scrolled": true
   },
   "outputs": [
    {
     "data": {
      "text/plain": [
       "{'x1': {'x1': array([[0.25617286],\n",
       "         [0.25617286],\n",
       "         [0.99533518],\n",
       "         [0.99533518],\n",
       "         [0.17084354],\n",
       "         [0.17084354],\n",
       "         [0.74252667],\n",
       "         [0.74252667],\n",
       "         [0.16505871],\n",
       "         [0.16505871],\n",
       "         [0.88648935],\n",
       "         [0.88648935],\n",
       "         [0.3501456 ],\n",
       "         [0.3501456 ],\n",
       "         [0.43925052],\n",
       "         [0.43925052],\n",
       "         [0.76588306],\n",
       "         [0.76588306],\n",
       "         [0.02189917],\n",
       "         [0.02189917],\n",
       "         [0.23528857],\n",
       "         [0.23528857],\n",
       "         [0.2086904 ],\n",
       "         [0.2086904 ],\n",
       "         [0.31389771],\n",
       "         [0.31389771],\n",
       "         [0.9557342 ],\n",
       "         [0.9557342 ],\n",
       "         [0.45338944],\n",
       "         [0.45338944],\n",
       "         [0.51839775],\n",
       "         [0.51839775],\n",
       "         [0.8502132 ],\n",
       "         [0.8502132 ],\n",
       "         [0.72398654],\n",
       "         [0.72398654],\n",
       "         [0.59707314],\n",
       "         [0.59707314],\n",
       "         [0.61692542],\n",
       "         [0.61692542],\n",
       "         [0.50540385],\n",
       "         [0.50540385],\n",
       "         [0.25030329],\n",
       "         [0.25030329],\n",
       "         [0.83491538],\n",
       "         [0.83491538],\n",
       "         [0.57917523],\n",
       "         [0.57917523],\n",
       "         [0.07062805],\n",
       "         [0.07062805],\n",
       "         [0.19891794],\n",
       "         [0.19891794],\n",
       "         [0.96624777],\n",
       "         [0.96624777],\n",
       "         [0.69221395],\n",
       "         [0.69221395],\n",
       "         [0.93998459],\n",
       "         [0.93998459],\n",
       "         [0.60721751],\n",
       "         [0.60721751],\n",
       "         [0.1233884 ],\n",
       "         [0.1233884 ],\n",
       "         [0.73691339],\n",
       "         [0.73691339],\n",
       "         [0.58964388],\n",
       "         [0.58964388],\n",
       "         [0.55352473],\n",
       "         [0.55352473],\n",
       "         [0.06581253],\n",
       "         [0.06581253],\n",
       "         [0.65219601],\n",
       "         [0.65219601],\n",
       "         [0.11065203],\n",
       "         [0.11065203],\n",
       "         [0.51052799],\n",
       "         [0.51052799],\n",
       "         [0.12490142],\n",
       "         [0.12490142],\n",
       "         [0.66203808],\n",
       "         [0.66203808],\n",
       "         [0.9855206 ],\n",
       "         [0.9855206 ],\n",
       "         [0.36820869],\n",
       "         [0.36820869],\n",
       "         [0.70045368],\n",
       "         [0.70045368],\n",
       "         [0.71841219],\n",
       "         [0.71841219],\n",
       "         [0.76314846],\n",
       "         [0.76314846],\n",
       "         [0.63916933],\n",
       "         [0.63916933],\n",
       "         [0.20732317],\n",
       "         [0.20732317],\n",
       "         [0.20921529],\n",
       "         [0.20921529],\n",
       "         [0.47113636],\n",
       "         [0.47113636],\n",
       "         [0.07480264],\n",
       "         [0.07480264],\n",
       "         [0.53528737],\n",
       "         [0.53528737],\n",
       "         [0.15514192],\n",
       "         [0.15514192],\n",
       "         [0.51758222],\n",
       "         [0.51758222],\n",
       "         [0.38787911],\n",
       "         [0.38787911],\n",
       "         [0.56701394],\n",
       "         [0.56701394],\n",
       "         [0.38700937],\n",
       "         [0.38700937],\n",
       "         [0.12953903],\n",
       "         [0.12953903],\n",
       "         [0.11630574],\n",
       "         [0.11630574],\n",
       "         [0.37377662],\n",
       "         [0.37377662],\n",
       "         [0.90709707],\n",
       "         [0.90709707],\n",
       "         [0.47212134],\n",
       "         [0.47212134],\n",
       "         [0.28677671],\n",
       "         [0.28677671],\n",
       "         [0.87970213],\n",
       "         [0.87970213],\n",
       "         [0.38093465],\n",
       "         [0.38093465],\n",
       "         [0.18355175],\n",
       "         [0.18355175],\n",
       "         [0.00294297],\n",
       "         [0.00294297],\n",
       "         [0.13075617],\n",
       "         [0.13075617],\n",
       "         [0.53578939],\n",
       "         [0.53578939],\n",
       "         [0.53476247],\n",
       "         [0.53476247],\n",
       "         [0.78615932],\n",
       "         [0.78615932],\n",
       "         [0.18401854],\n",
       "         [0.18401854],\n",
       "         [0.83504404],\n",
       "         [0.83504404],\n",
       "         [0.78011085],\n",
       "         [0.78011085],\n",
       "         [0.47991218],\n",
       "         [0.47991218],\n",
       "         [0.56204411],\n",
       "         [0.56204411],\n",
       "         [0.47512968],\n",
       "         [0.47512968],\n",
       "         [0.58671581],\n",
       "         [0.58671581],\n",
       "         [0.62763888],\n",
       "         [0.62763888],\n",
       "         [0.29625173],\n",
       "         [0.29625173],\n",
       "         [0.20015382],\n",
       "         [0.20015382],\n",
       "         [0.92396098],\n",
       "         [0.92396098],\n",
       "         [0.92340808],\n",
       "         [0.92340808],\n",
       "         [0.02492375],\n",
       "         [0.02492375],\n",
       "         [0.56173408],\n",
       "         [0.56173408],\n",
       "         [0.71499122],\n",
       "         [0.71499122],\n",
       "         [0.93018666],\n",
       "         [0.93018666],\n",
       "         [0.57031092],\n",
       "         [0.57031092],\n",
       "         [0.5496771 ],\n",
       "         [0.5496771 ],\n",
       "         [0.33417482],\n",
       "         [0.33417482],\n",
       "         [0.67013566],\n",
       "         [0.67013566],\n",
       "         [0.96954632],\n",
       "         [0.96954632],\n",
       "         [0.94754131],\n",
       "         [0.94754131],\n",
       "         [0.83156742],\n",
       "         [0.83156742],\n",
       "         [0.93365957],\n",
       "         [0.93365957],\n",
       "         [0.36429124],\n",
       "         [0.36429124],\n",
       "         [0.43074318],\n",
       "         [0.43074318],\n",
       "         [0.52270999],\n",
       "         [0.52270999],\n",
       "         [0.26660221],\n",
       "         [0.26660221],\n",
       "         [0.57504004],\n",
       "         [0.57504004],\n",
       "         [0.62349916],\n",
       "         [0.62349916]])}}"
      ]
     },
     "execution_count": 1,
     "metadata": {},
     "output_type": "execute_result"
    }
   ],
   "source": [
    "ds = load_by_id(run_id_a)\n",
    "ds.get_parameter_data('x1')"
   ]
  },
  {
   "cell_type": "code",
   "execution_count": null,
   "metadata": {},
   "outputs": [],
   "source": []
  }
 ],
 "metadata": {
  "kernelspec": {
   "display_name": "Python 3",
   "language": "python",
   "name": "python3"
  },
  "language_info": {
   "codemirror_mode": {
    "name": "ipython",
    "version": 3
   },
   "file_extension": ".py",
   "mimetype": "text/x-python",
   "name": "python",
   "nbconvert_exporter": "python",
   "pygments_lexer": "ipython3",
   "version": "3.7.9"
  },
  "nbsphinx": {
   "timeout": 600
  },
  "toc": {
   "base_numbering": 1,
   "nav_menu": {},
   "number_sections": true,
   "sideBar": true,
   "skip_h1_title": false,
   "title_cell": "Table of Contents",
   "title_sidebar": "Contents",
   "toc_cell": false,
   "toc_position": {},
   "toc_section_display": true,
   "toc_window_display": false
  },
  "varInspector": {
   "cols": {
    "lenName": 16,
    "lenType": 16,
    "lenVar": 40
   },
   "kernels_config": {
    "python": {
     "delete_cmd_postfix": "",
     "delete_cmd_prefix": "del ",
     "library": "var_list.py",
     "varRefreshCmd": "print(var_dic_list())"
    },
    "r": {
     "delete_cmd_postfix": ") ",
     "delete_cmd_prefix": "rm(",
     "library": "var_list.r",
     "varRefreshCmd": "cat(var_dic_list()) "
    }
   },
   "types_to_exclude": [
    "module",
    "function",
    "builtin_function_or_method",
    "instance",
    "_Feature"
   ],
   "window_display": false
  }
 },
 "nbformat": 4,
 "nbformat_minor": 2
}
