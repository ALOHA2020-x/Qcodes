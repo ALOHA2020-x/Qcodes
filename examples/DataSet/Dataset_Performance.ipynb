{
 "cells": [
  {
   "cell_type": "markdown",
   "metadata": {},
   "source": [
    "# DataSet Performance\n",
    "\n",
    "This notebook shows the trade-off between inserting data into a database row-by-row and as binary blobs. Inserting the data row-by-row means that we have direct access to all the data and may perform queries directly on the values of the data. On the other hand, as we shall see, this is much slower than inserting the data directly as binary blobs."
   ]
  },
  {
   "cell_type": "markdown",
   "metadata": {},
   "source": [
    "First, we choose a new location for the database to ensure that we don't add a bunch of benchmarking data to the default one."
   ]
  },
  {
   "cell_type": "code",
   "execution_count": 1,
   "metadata": {
    "execution": {
     "iopub.execute_input": "2021-02-23T11:26:22.437785Z",
     "iopub.status.busy": "2021-02-23T11:26:22.437153Z",
     "iopub.status.idle": "2021-02-23T11:26:23.359613Z",
     "shell.execute_reply": "2021-02-23T11:26:23.360142Z"
    }
   },
   "outputs": [
    {
     "name": "stdout",
     "output_type": "stream",
     "text": [
      "Logging hadn't been started.\n",
      "Activating auto-logging. Current session state plus future input saved.\n",
      "Filename       : /home/runner/.qcodes/logs/command_history.log\n",
      "Mode           : append\n",
      "Output logging : True\n",
      "Raw input log  : False\n",
      "Timestamping   : True\n",
      "State          : active\n"
     ]
    },
    {
     "name": "stdout",
     "output_type": "stream",
     "text": [
      "Qcodes Logfile : /home/runner/.qcodes/logs/210223-4014-qcodes.log\n"
     ]
    }
   ],
   "source": [
    "import os\n",
    "cwd = os.getcwd()\n",
    "import qcodes as qc\n",
    "qc.config[\"core\"][\"db_location\"] = os.path.join(cwd, 'testing.db')\n"
   ]
  },
  {
   "cell_type": "code",
   "execution_count": 2,
   "metadata": {
    "execution": {
     "iopub.execute_input": "2021-02-23T11:26:23.367846Z",
     "iopub.status.busy": "2021-02-23T11:26:23.366159Z",
     "iopub.status.idle": "2021-02-23T11:26:23.564804Z",
     "shell.execute_reply": "2021-02-23T11:26:23.563866Z"
    }
   },
   "outputs": [],
   "source": [
    "%matplotlib inline\n",
    "import time\n",
    "import matplotlib.pyplot as plt\n",
    "import numpy as np\n",
    "\n",
    "import qcodes as qc\n",
    "from qcodes.instrument.parameter import ManualParameter\n",
    "from qcodes.dataset.experiment_container import (Experiment,\n",
    "                                                 load_last_experiment,\n",
    "                                                 new_experiment)\n",
    "from qcodes.dataset.sqlite.database import initialise_database\n",
    "from qcodes import load_or_create_experiment\n",
    "from qcodes.dataset.measurements import Measurement"
   ]
  },
  {
   "cell_type": "code",
   "execution_count": 3,
   "metadata": {
    "execution": {
     "iopub.execute_input": "2021-02-23T11:26:23.568988Z",
     "iopub.status.busy": "2021-02-23T11:26:23.568363Z",
     "iopub.status.idle": "2021-02-23T11:26:23.869352Z",
     "shell.execute_reply": "2021-02-23T11:26:23.868664Z"
    }
   },
   "outputs": [
    {
     "name": "stdout",
     "output_type": "stream",
     "text": [
      "\r",
      "0it [00:00, ?it/s]"
     ]
    },
    {
     "name": "stdout",
     "output_type": "stream",
     "text": [
      "\r",
      "Upgrading database; v0 -> v1: : 0it [00:00, ?it/s]"
     ]
    },
    {
     "name": "stdout",
     "output_type": "stream",
     "text": [
      "\r",
      "Upgrading database; v0 -> v1: : 0it [00:00, ?it/s]"
     ]
    },
    {
     "name": "stdout",
     "output_type": "stream",
     "text": [
      "\n",
      "\r",
      "  0%|          | 0/1 [00:00<?, ?it/s]"
     ]
    },
    {
     "name": "stdout",
     "output_type": "stream",
     "text": [
      "\r",
      "Upgrading database; v1 -> v2:   0%|          | 0/1 [00:00<?, ?it/s]"
     ]
    },
    {
     "name": "stdout",
     "output_type": "stream",
     "text": [
      "\r",
      "Upgrading database; v1 -> v2: 100%|██████████| 1/1 [00:00<00:00, 1039.74it/s]"
     ]
    },
    {
     "name": "stdout",
     "output_type": "stream",
     "text": [
      "\n",
      "\r",
      "0it [00:00, ?it/s]"
     ]
    },
    {
     "name": "stdout",
     "output_type": "stream",
     "text": [
      "\r",
      "Upgrading database; v2 -> v3: : 0it [00:00, ?it/s]"
     ]
    },
    {
     "name": "stdout",
     "output_type": "stream",
     "text": [
      "\r",
      "Upgrading database; v2 -> v3: : 0it [00:00, ?it/s]"
     ]
    },
    {
     "name": "stdout",
     "output_type": "stream",
     "text": [
      "\n",
      "\r",
      "0it [00:00, ?it/s]"
     ]
    },
    {
     "name": "stdout",
     "output_type": "stream",
     "text": [
      "\r",
      "Upgrading database; v3 -> v4: : 0it [00:00, ?it/s]"
     ]
    },
    {
     "name": "stdout",
     "output_type": "stream",
     "text": [
      "\r",
      "Upgrading database; v3 -> v4: : 0it [00:00, ?it/s]"
     ]
    },
    {
     "name": "stdout",
     "output_type": "stream",
     "text": [
      "\n",
      "\r",
      "  0%|          | 0/1 [00:00<?, ?it/s]"
     ]
    },
    {
     "name": "stdout",
     "output_type": "stream",
     "text": [
      "\r",
      "Upgrading database; v4 -> v5:   0%|          | 0/1 [00:00<?, ?it/s]"
     ]
    },
    {
     "name": "stdout",
     "output_type": "stream",
     "text": [
      "\r",
      "Upgrading database; v4 -> v5: 100%|██████████| 1/1 [00:00<00:00, 745.52it/s]"
     ]
    },
    {
     "name": "stdout",
     "output_type": "stream",
     "text": [
      "\n",
      "\r",
      "0it [00:00, ?it/s]"
     ]
    },
    {
     "name": "stdout",
     "output_type": "stream",
     "text": [
      "\r",
      "Upgrading database; v5 -> v6: : 0it [00:00, ?it/s]"
     ]
    },
    {
     "name": "stdout",
     "output_type": "stream",
     "text": [
      "\r",
      "Upgrading database; v5 -> v6: : 0it [00:00, ?it/s]"
     ]
    },
    {
     "name": "stdout",
     "output_type": "stream",
     "text": [
      "\n",
      "\r",
      "  0%|          | 0/1 [00:00<?, ?it/s]"
     ]
    },
    {
     "name": "stdout",
     "output_type": "stream",
     "text": [
      "\r",
      "Upgrading database; v6 -> v7:   0%|          | 0/1 [00:00<?, ?it/s]"
     ]
    },
    {
     "name": "stdout",
     "output_type": "stream",
     "text": [
      "\r",
      "Upgrading database; v6 -> v7: 100%|██████████| 1/1 [00:00<00:00, 74.36it/s]"
     ]
    },
    {
     "name": "stdout",
     "output_type": "stream",
     "text": [
      "\n",
      "\r",
      "  0%|          | 0/1 [00:00<?, ?it/s]"
     ]
    },
    {
     "name": "stdout",
     "output_type": "stream",
     "text": [
      "\r",
      "Upgrading database; v7 -> v8:   0%|          | 0/1 [00:00<?, ?it/s]"
     ]
    },
    {
     "name": "stdout",
     "output_type": "stream",
     "text": [
      "\r",
      "Upgrading database; v7 -> v8: 100%|██████████| 1/1 [00:00<00:00, 914.39it/s]"
     ]
    },
    {
     "name": "stdout",
     "output_type": "stream",
     "text": [
      "\n",
      "\r",
      "  0%|          | 0/1 [00:00<?, ?it/s]"
     ]
    },
    {
     "name": "stdout",
     "output_type": "stream",
     "text": [
      "\r",
      "Upgrading database; v8 -> v9:   0%|          | 0/1 [00:00<?, ?it/s]"
     ]
    },
    {
     "name": "stdout",
     "output_type": "stream",
     "text": [
      "\r",
      "Upgrading database; v8 -> v9: 100%|██████████| 1/1 [00:00<00:00, 782.23it/s]"
     ]
    },
    {
     "name": "stdout",
     "output_type": "stream",
     "text": [
      "\n"
     ]
    }
   ],
   "source": [
    "initialise_database()\n",
    "exp = load_or_create_experiment(experiment_name='tutorial_exp', sample_name=\"no sample\")"
   ]
  },
  {
   "cell_type": "markdown",
   "metadata": {},
   "source": [
    "Here, we define a simple function to benchmark the time it takes to insert n points with either numeric or array data type.\n",
    "We will compare both the time used to call ``add_result`` and the time used for the full measurement."
   ]
  },
  {
   "cell_type": "code",
   "execution_count": 4,
   "metadata": {
    "execution": {
     "iopub.execute_input": "2021-02-23T11:26:23.878341Z",
     "iopub.status.busy": "2021-02-23T11:26:23.876930Z",
     "iopub.status.idle": "2021-02-23T11:26:23.880984Z",
     "shell.execute_reply": "2021-02-23T11:26:23.881809Z"
    }
   },
   "outputs": [],
   "source": [
    "def insert_data(paramtype, npoints, nreps=1):\n",
    "\n",
    "    meas = Measurement(exp=exp)\n",
    "\n",
    "    x1 = ManualParameter('x1')\n",
    "    x2 = ManualParameter('x2')\n",
    "    x3 = ManualParameter('x3')\n",
    "    y1 = ManualParameter('y1')\n",
    "    y2 = ManualParameter('y2')\n",
    "\n",
    "    meas.register_parameter(x1, paramtype=paramtype)\n",
    "    meas.register_parameter(x2, paramtype=paramtype)\n",
    "    meas.register_parameter(x3, paramtype=paramtype)\n",
    "    meas.register_parameter(y1, setpoints=[x1, x2, x3],\n",
    "                            paramtype=paramtype)\n",
    "    meas.register_parameter(y2, setpoints=[x1, x2, x3],\n",
    "                            paramtype=paramtype)\n",
    "    start = time.perf_counter()\n",
    "    with meas.run() as datasaver:\n",
    "        start_adding = time.perf_counter()\n",
    "        for i in range(nreps):\n",
    "            datasaver.add_result((x1, np.random.rand(npoints)),\n",
    "                                 (x2, np.random.rand(npoints)),\n",
    "                                 (x3, np.random.rand(npoints)),\n",
    "                                 (y1, np.random.rand(npoints)),\n",
    "                                 (y2, np.random.rand(npoints)))\n",
    "        stop_adding = time.perf_counter()\n",
    "        run_id = datasaver.run_id\n",
    "    stop = time.perf_counter()\n",
    "    tot_time = stop - start\n",
    "    add_time = stop_adding - start_adding\n",
    "    return tot_time, add_time, run_id"
   ]
  },
  {
   "cell_type": "markdown",
   "metadata": {},
   "source": [
    "## Comparison between numeric/array data and binary blob"
   ]
  },
  {
   "cell_type": "markdown",
   "metadata": {},
   "source": [
    "### Case1: Short experiment time"
   ]
  },
  {
   "cell_type": "code",
   "execution_count": 5,
   "metadata": {
    "execution": {
     "iopub.execute_input": "2021-02-23T11:26:23.885717Z",
     "iopub.status.busy": "2021-02-23T11:26:23.884562Z",
     "iopub.status.idle": "2021-02-23T11:26:25.311431Z",
     "shell.execute_reply": "2021-02-23T11:26:25.310487Z"
    }
   },
   "outputs": [
    {
     "name": "stdout",
     "output_type": "stream",
     "text": [
      "Starting experimental run with id: 1. \n"
     ]
    },
    {
     "name": "stdout",
     "output_type": "stream",
     "text": [
      "Starting experimental run with id: 2. \n"
     ]
    },
    {
     "name": "stdout",
     "output_type": "stream",
     "text": [
      "Starting experimental run with id: 3. \n",
      "Starting experimental run with id: 4. \n"
     ]
    },
    {
     "name": "stdout",
     "output_type": "stream",
     "text": [
      "Starting experimental run with id: 5. \n"
     ]
    },
    {
     "name": "stdout",
     "output_type": "stream",
     "text": [
      "Starting experimental run with id: 6. \n",
      "Starting experimental run with id: 7. \n"
     ]
    },
    {
     "name": "stdout",
     "output_type": "stream",
     "text": [
      "Starting experimental run with id: 8. \n"
     ]
    },
    {
     "name": "stdout",
     "output_type": "stream",
     "text": [
      "Starting experimental run with id: 9. \n"
     ]
    },
    {
     "name": "stdout",
     "output_type": "stream",
     "text": [
      "Starting experimental run with id: 10. \n"
     ]
    },
    {
     "name": "stdout",
     "output_type": "stream",
     "text": [
      "Starting experimental run with id: 11. \n"
     ]
    },
    {
     "name": "stdout",
     "output_type": "stream",
     "text": [
      "Starting experimental run with id: 12. \n"
     ]
    },
    {
     "name": "stdout",
     "output_type": "stream",
     "text": [
      "Starting experimental run with id: 13. \n"
     ]
    },
    {
     "name": "stdout",
     "output_type": "stream",
     "text": [
      "Starting experimental run with id: 14. \n"
     ]
    }
   ],
   "source": [
    "sizes = [1,500,1000,2000,3000,4000,5000]\n",
    "t_numeric = []\n",
    "t_numeric_add = []\n",
    "t_array = []\n",
    "t_array_add = []\n",
    "for size in sizes:\n",
    "    tn, tna, run_id_n =  insert_data('numeric', size)\n",
    "    t_numeric.append(tn)\n",
    "    t_numeric_add.append(tna)\n",
    "\n",
    "    ta, taa, run_id_a =  insert_data('array', size)\n",
    "    t_array.append(ta)\n",
    "    t_array_add.append(taa)"
   ]
  },
  {
   "cell_type": "code",
   "execution_count": 6,
   "metadata": {
    "execution": {
     "iopub.execute_input": "2021-02-23T11:26:25.333749Z",
     "iopub.status.busy": "2021-02-23T11:26:25.330955Z",
     "iopub.status.idle": "2021-02-23T11:26:25.560982Z",
     "shell.execute_reply": "2021-02-23T11:26:25.561871Z"
    }
   },
   "outputs": [
    {
     "data": {
      "image/png": "[encoded data removed]",
      "text/plain": [
       "<Figure size 432x288 with 1 Axes>"
      ]
     },
     "metadata": {
      "needs_background": "light"
     },
     "output_type": "display_data"
    }
   ],
   "source": [
    "fig, ax = plt.subplots(1,1)\n",
    "ax.plot(sizes, t_numeric, 'o-', label='Inserting row-by-row')\n",
    "ax.plot(sizes, t_numeric_add, 'o-', label='Inserting row-by-row: add_result only')\n",
    "ax.plot(sizes, t_array, 'd-', label='Inserting as binary blob')\n",
    "ax.plot(sizes, t_array_add, 'd-', label='Inserting as binary blob: add_result only')\n",
    "ax.legend()\n",
    "ax.set_xlabel('Array length')\n",
    "ax.set_ylabel('Time (s)')\n",
    "fig.tight_layout()"
   ]
  },
  {
   "cell_type": "markdown",
   "metadata": {},
   "source": [
    "As shown in the latter figure, the time to setup and and close the experiment is approximately 0.4 sec. In case of small array sizes, the difference between inserting values of data as arrays and inserting them row-by-row is relatively unimportant. At larger array sizes, i.e. above 10000 points, the cost of writing data as individual datapoints starts to become important.\n"
   ]
  },
  {
   "cell_type": "markdown",
   "metadata": {},
   "source": [
    "### Case2: Long experiment time "
   ]
  },
  {
   "cell_type": "code",
   "execution_count": 7,
   "metadata": {
    "execution": {
     "iopub.execute_input": "2021-02-23T11:26:25.572267Z",
     "iopub.status.busy": "2021-02-23T11:26:25.570339Z",
     "iopub.status.idle": "2021-02-23T11:27:33.283600Z",
     "shell.execute_reply": "2021-02-23T11:27:33.282974Z"
    }
   },
   "outputs": [
    {
     "name": "stdout",
     "output_type": "stream",
     "text": [
      "Starting experimental run with id: 15. \n",
      "Starting experimental run with id: 16. \n"
     ]
    },
    {
     "name": "stdout",
     "output_type": "stream",
     "text": [
      "Starting experimental run with id: 17. \n"
     ]
    },
    {
     "name": "stdout",
     "output_type": "stream",
     "text": [
      "Starting experimental run with id: 18. \n"
     ]
    },
    {
     "name": "stdout",
     "output_type": "stream",
     "text": [
      "Starting experimental run with id: 19. \n"
     ]
    },
    {
     "name": "stdout",
     "output_type": "stream",
     "text": [
      "Starting experimental run with id: 20. \n"
     ]
    },
    {
     "name": "stdout",
     "output_type": "stream",
     "text": [
      "Starting experimental run with id: 21. \n"
     ]
    },
    {
     "name": "stdout",
     "output_type": "stream",
     "text": [
      "Starting experimental run with id: 22. \n"
     ]
    },
    {
     "name": "stdout",
     "output_type": "stream",
     "text": [
      "Starting experimental run with id: 23. \n"
     ]
    },
    {
     "name": "stdout",
     "output_type": "stream",
     "text": [
      "Starting experimental run with id: 24. \n"
     ]
    },
    {
     "name": "stdout",
     "output_type": "stream",
     "text": [
      "Starting experimental run with id: 25. \n"
     ]
    },
    {
     "name": "stdout",
     "output_type": "stream",
     "text": [
      "Starting experimental run with id: 26. \n"
     ]
    },
    {
     "name": "stdout",
     "output_type": "stream",
     "text": [
      "Starting experimental run with id: 27. \n"
     ]
    },
    {
     "name": "stdout",
     "output_type": "stream",
     "text": [
      "Starting experimental run with id: 28. \n"
     ]
    }
   ],
   "source": [
    "sizes = [1,500,1000,2000,3000,4000,5000]\n",
    "nreps = 100\n",
    "t_numeric = []\n",
    "t_numeric_add = []\n",
    "t_numeric_run_ids = []\n",
    "t_array = []\n",
    "t_array_add = []\n",
    "t_array_run_ids = []\n",
    "for size in sizes:\n",
    "    tn, tna, run_id_n =  insert_data('numeric', size, nreps=nreps)\n",
    "    t_numeric.append(tn)\n",
    "    t_numeric_add.append(tna)\n",
    "    t_numeric_run_ids.append(run_id_n)\n",
    "\n",
    "    ta, taa, run_id_a =  insert_data('array', size, nreps=nreps)\n",
    "    t_array.append(ta)\n",
    "    t_array_add.append(taa)\n",
    "    t_array_run_ids.append(run_id_a)"
   ]
  },
  {
   "cell_type": "code",
   "execution_count": 8,
   "metadata": {
    "execution": {
     "iopub.execute_input": "2021-02-23T11:27:33.308304Z",
     "iopub.status.busy": "2021-02-23T11:27:33.304264Z",
     "iopub.status.idle": "2021-02-23T11:27:33.526157Z",
     "shell.execute_reply": "2021-02-23T11:27:33.526941Z"
    },
    "scrolled": true
   },
   "outputs": [
    {
     "data": {
      "image/png": "[encoded data removed]",
      "text/plain": [
       "<Figure size 432x288 with 1 Axes>"
      ]
     },
     "metadata": {
      "needs_background": "light"
     },
     "output_type": "display_data"
    }
   ],
   "source": [
    "fig, ax = plt.subplots(1,1)\n",
    "ax.plot(sizes, t_numeric, 'o-', label='Inserting row-by-row')\n",
    "ax.plot(sizes, t_numeric_add, 'o-', label='Inserting row-by-row: add_result only')\n",
    "ax.plot(sizes, t_array, 'd-', label='Inserting as binary blob')\n",
    "ax.plot(sizes, t_array_add, 'd-', label='Inserting as binary blob: add_result only')\n",
    "ax.legend()\n",
    "ax.set_xlabel('Array length')\n",
    "ax.set_ylabel('Time (s)')\n",
    "fig.tight_layout()"
   ]
  },
  {
   "cell_type": "markdown",
   "metadata": {},
   "source": [
    "However, as we increase the length of the experiment, as seen here by repeating the insertion 100 times, we see a big difference between inserting values of the data row-by-row and inserting it as a binary blob."
   ]
  },
  {
   "cell_type": "markdown",
   "metadata": {},
   "source": [
    "## Loading the data "
   ]
  },
  {
   "cell_type": "code",
   "execution_count": 9,
   "metadata": {
    "execution": {
     "iopub.execute_input": "2021-02-23T11:27:33.531760Z",
     "iopub.status.busy": "2021-02-23T11:27:33.531123Z",
     "iopub.status.idle": "2021-02-23T11:27:33.533651Z",
     "shell.execute_reply": "2021-02-23T11:27:33.534139Z"
    }
   },
   "outputs": [],
   "source": [
    "from qcodes.dataset.data_set import load_by_id\n",
    "from qcodes.dataset.data_export import get_data_by_id"
   ]
  },
  {
   "cell_type": "markdown",
   "metadata": {},
   "source": [
    "As usual you can load the data by using the ``load_by_id`` function but you will notice that the different storage methods\n",
    "are reflected in shape of the data as it is retrieved. "
   ]
  },
  {
   "cell_type": "code",
   "execution_count": 10,
   "metadata": {
    "execution": {
     "iopub.execute_input": "2021-02-23T11:27:33.539116Z",
     "iopub.status.busy": "2021-02-23T11:27:33.537791Z",
     "iopub.status.idle": "2021-02-23T11:27:33.539807Z",
     "shell.execute_reply": "2021-02-23T11:27:33.540368Z"
    }
   },
   "outputs": [],
   "source": [
    "run_id_n = t_numeric_run_ids[0]\n",
    "run_id_a = t_array_run_ids[0]"
   ]
  },
  {
   "cell_type": "code",
   "execution_count": 11,
   "metadata": {
    "execution": {
     "iopub.execute_input": "2021-02-23T11:27:33.543838Z",
     "iopub.status.busy": "2021-02-23T11:27:33.543210Z",
     "iopub.status.idle": "2021-02-23T11:27:33.553604Z",
     "shell.execute_reply": "2021-02-23T11:27:33.554086Z"
    },
    "scrolled": true
   },
   "outputs": [
    {
     "data": {
      "text/plain": [
       "{'x1': {'x1': array([2.64892524e-02, 2.64892524e-02, 8.23077523e-01, 8.23077523e-01,\n",
       "         7.81724265e-02, 7.81724265e-02, 3.39384617e-01, 3.39384617e-01,\n",
       "         5.22796645e-01, 5.22796645e-01, 8.24671420e-01, 8.24671420e-01,\n",
       "         1.14184977e-01, 1.14184977e-01, 7.90482163e-01, 7.90482163e-01,\n",
       "         9.78155526e-01, 9.78155526e-01, 4.10006759e-01, 4.10006759e-01,\n",
       "         3.84737061e-01, 3.84737061e-01, 8.67682177e-01, 8.67682177e-01,\n",
       "         8.99457168e-01, 8.99457168e-01, 1.10839973e-01, 1.10839973e-01,\n",
       "         6.73979974e-01, 6.73979974e-01, 1.54992032e-02, 1.54992032e-02,\n",
       "         7.10801219e-01, 7.10801219e-01, 6.59621950e-01, 6.59621950e-01,\n",
       "         1.95931898e-01, 1.95931898e-01, 4.13221616e-01, 4.13221616e-01,\n",
       "         5.84036414e-02, 5.84036414e-02, 4.68963658e-01, 4.68963658e-01,\n",
       "         3.65713225e-01, 3.65713225e-01, 1.96368481e-01, 1.96368481e-01,\n",
       "         6.09148708e-01, 6.09148708e-01, 8.36399691e-01, 8.36399691e-01,\n",
       "         9.90713871e-01, 9.90713871e-01, 3.93323857e-01, 3.93323857e-01,\n",
       "         7.69789666e-01, 7.69789666e-01, 6.54254024e-01, 6.54254024e-01,\n",
       "         9.60916422e-01, 9.60916422e-01, 9.33091126e-01, 9.33091126e-01,\n",
       "         4.36530906e-01, 4.36530906e-01, 6.97666230e-01, 6.97666230e-01,\n",
       "         8.20237256e-01, 8.20237256e-01, 9.15624904e-01, 9.15624904e-01,\n",
       "         4.11789137e-01, 4.11789137e-01, 1.48921388e-01, 1.48921388e-01,\n",
       "         5.46589549e-02, 5.46589549e-02, 2.15865733e-01, 2.15865733e-01,\n",
       "         7.26553496e-01, 7.26553496e-01, 6.74840163e-01, 6.74840163e-01,\n",
       "         3.00530960e-01, 3.00530960e-01, 7.94896251e-01, 7.94896251e-01,\n",
       "         7.18802720e-02, 7.18802720e-02, 8.74123366e-01, 8.74123366e-01,\n",
       "         9.27553368e-01, 9.27553368e-01, 8.63201560e-01, 8.63201560e-01,\n",
       "         7.96319896e-01, 7.96319896e-01, 8.17851312e-01, 8.17851312e-01,\n",
       "         1.24570499e-01, 1.24570499e-01, 1.53667499e-01, 1.53667499e-01,\n",
       "         1.25845499e-01, 1.25845499e-01, 1.13316582e-01, 1.13316582e-01,\n",
       "         1.12245458e-01, 1.12245458e-01, 5.45580747e-04, 5.45580747e-04,\n",
       "         5.73526469e-01, 5.73526469e-01, 3.21957522e-01, 3.21957522e-01,\n",
       "         6.89531217e-01, 6.89531217e-01, 1.21321595e-02, 1.21321595e-02,\n",
       "         1.79077706e-01, 1.79077706e-01, 5.76427157e-02, 5.76427157e-02,\n",
       "         3.65489489e-02, 3.65489489e-02, 4.33647558e-01, 4.33647558e-01,\n",
       "         3.44538516e-01, 3.44538516e-01, 2.68244402e-01, 2.68244402e-01,\n",
       "         2.13192127e-01, 2.13192127e-01, 8.52921451e-01, 8.52921451e-01,\n",
       "         3.11961921e-01, 3.11961921e-01, 5.88337789e-01, 5.88337789e-01,\n",
       "         3.21495959e-01, 3.21495959e-01, 3.17554905e-01, 3.17554905e-01,\n",
       "         2.48036885e-01, 2.48036885e-01, 1.99045973e-01, 1.99045973e-01,\n",
       "         2.06865862e-01, 2.06865862e-01, 4.18182071e-01, 4.18182071e-01,\n",
       "         8.44607652e-01, 8.44607652e-01, 1.08696024e-01, 1.08696024e-01,\n",
       "         6.91930538e-01, 6.91930538e-01, 7.39120997e-01, 7.39120997e-01,\n",
       "         9.74833550e-01, 9.74833550e-01, 8.84456030e-01, 8.84456030e-01,\n",
       "         8.85817069e-01, 8.85817069e-01, 7.81670060e-01, 7.81670060e-01,\n",
       "         4.70589917e-02, 4.70589917e-02, 8.15000645e-01, 8.15000645e-01,\n",
       "         1.78700172e-01, 1.78700172e-01, 7.38574099e-01, 7.38574099e-01,\n",
       "         4.22819469e-01, 4.22819469e-01, 9.05119213e-01, 9.05119213e-01,\n",
       "         3.86861867e-01, 3.86861867e-01, 3.91131173e-01, 3.91131173e-01,\n",
       "         1.20474473e-01, 1.20474473e-01, 4.12718242e-02, 4.12718242e-02,\n",
       "         8.96638656e-01, 8.96638656e-01, 7.12806661e-01, 7.12806661e-01,\n",
       "         7.00996549e-01, 7.00996549e-01, 6.21959522e-02, 6.21959522e-02,\n",
       "         6.79898078e-01, 6.79898078e-01, 1.93744424e-01, 1.93744424e-01])}}"
      ]
     },
     "execution_count": 1,
     "metadata": {},
     "output_type": "execute_result"
    }
   ],
   "source": [
    "ds = load_by_id(run_id_n)\n",
    "ds.get_parameter_data('x1')"
   ]
  },
  {
   "cell_type": "markdown",
   "metadata": {},
   "source": [
    "And a dataset stored as binary arrays"
   ]
  },
  {
   "cell_type": "code",
   "execution_count": 12,
   "metadata": {
    "execution": {
     "iopub.execute_input": "2021-02-23T11:27:33.557731Z",
     "iopub.status.busy": "2021-02-23T11:27:33.557124Z",
     "iopub.status.idle": "2021-02-23T11:27:33.626125Z",
     "shell.execute_reply": "2021-02-23T11:27:33.626616Z"
    },
    "scrolled": true
   },
   "outputs": [
    {
     "data": {
      "text/plain": [
       "{'x1': {'x1': array([[6.07291360e-01],\n",
       "         [6.07291360e-01],\n",
       "         [1.14265600e-01],\n",
       "         [1.14265600e-01],\n",
       "         [7.49583655e-01],\n",
       "         [7.49583655e-01],\n",
       "         [2.91342442e-01],\n",
       "         [2.91342442e-01],\n",
       "         [6.54503312e-01],\n",
       "         [6.54503312e-01],\n",
       "         [5.18610247e-01],\n",
       "         [5.18610247e-01],\n",
       "         [7.83772008e-04],\n",
       "         [7.83772008e-04],\n",
       "         [4.41020340e-01],\n",
       "         [4.41020340e-01],\n",
       "         [3.64846969e-01],\n",
       "         [3.64846969e-01],\n",
       "         [1.38012710e-01],\n",
       "         [1.38012710e-01],\n",
       "         [9.08440834e-01],\n",
       "         [9.08440834e-01],\n",
       "         [4.19407817e-01],\n",
       "         [4.19407817e-01],\n",
       "         [9.39049173e-01],\n",
       "         [9.39049173e-01],\n",
       "         [9.08501901e-01],\n",
       "         [9.08501901e-01],\n",
       "         [7.68814814e-03],\n",
       "         [7.68814814e-03],\n",
       "         [5.34032635e-01],\n",
       "         [5.34032635e-01],\n",
       "         [2.96893217e-01],\n",
       "         [2.96893217e-01],\n",
       "         [8.50284272e-01],\n",
       "         [8.50284272e-01],\n",
       "         [4.97218876e-01],\n",
       "         [4.97218876e-01],\n",
       "         [3.93418439e-01],\n",
       "         [3.93418439e-01],\n",
       "         [5.08183392e-01],\n",
       "         [5.08183392e-01],\n",
       "         [1.54339868e-01],\n",
       "         [1.54339868e-01],\n",
       "         [9.44134674e-01],\n",
       "         [9.44134674e-01],\n",
       "         [7.17228204e-01],\n",
       "         [7.17228204e-01],\n",
       "         [6.28734167e-01],\n",
       "         [6.28734167e-01],\n",
       "         [2.51885645e-01],\n",
       "         [2.51885645e-01],\n",
       "         [6.30477862e-01],\n",
       "         [6.30477862e-01],\n",
       "         [8.91112593e-01],\n",
       "         [8.91112593e-01],\n",
       "         [1.37839202e-01],\n",
       "         [1.37839202e-01],\n",
       "         [7.79898251e-01],\n",
       "         [7.79898251e-01],\n",
       "         [9.55091097e-02],\n",
       "         [9.55091097e-02],\n",
       "         [7.21304283e-01],\n",
       "         [7.21304283e-01],\n",
       "         [3.71243237e-01],\n",
       "         [3.71243237e-01],\n",
       "         [5.69393878e-01],\n",
       "         [5.69393878e-01],\n",
       "         [6.09985670e-01],\n",
       "         [6.09985670e-01],\n",
       "         [8.39449845e-01],\n",
       "         [8.39449845e-01],\n",
       "         [4.38791288e-01],\n",
       "         [4.38791288e-01],\n",
       "         [5.96549461e-01],\n",
       "         [5.96549461e-01],\n",
       "         [5.33545147e-01],\n",
       "         [5.33545147e-01],\n",
       "         [6.18030906e-01],\n",
       "         [6.18030906e-01],\n",
       "         [8.32947443e-01],\n",
       "         [8.32947443e-01],\n",
       "         [2.51312992e-01],\n",
       "         [2.51312992e-01],\n",
       "         [3.61198952e-01],\n",
       "         [3.61198952e-01],\n",
       "         [5.37090187e-01],\n",
       "         [5.37090187e-01],\n",
       "         [2.15389570e-01],\n",
       "         [2.15389570e-01],\n",
       "         [9.25943920e-01],\n",
       "         [9.25943920e-01],\n",
       "         [8.64015923e-01],\n",
       "         [8.64015923e-01],\n",
       "         [8.77827430e-01],\n",
       "         [8.77827430e-01],\n",
       "         [9.04334147e-01],\n",
       "         [9.04334147e-01],\n",
       "         [7.31686408e-01],\n",
       "         [7.31686408e-01],\n",
       "         [5.87587300e-01],\n",
       "         [5.87587300e-01],\n",
       "         [3.19901891e-01],\n",
       "         [3.19901891e-01],\n",
       "         [4.33327148e-01],\n",
       "         [4.33327148e-01],\n",
       "         [6.47962262e-02],\n",
       "         [6.47962262e-02],\n",
       "         [1.11999310e-01],\n",
       "         [1.11999310e-01],\n",
       "         [4.82039369e-01],\n",
       "         [4.82039369e-01],\n",
       "         [9.30493857e-01],\n",
       "         [9.30493857e-01],\n",
       "         [3.66419363e-01],\n",
       "         [3.66419363e-01],\n",
       "         [6.56565176e-01],\n",
       "         [6.56565176e-01],\n",
       "         [8.64797064e-01],\n",
       "         [8.64797064e-01],\n",
       "         [5.22355130e-01],\n",
       "         [5.22355130e-01],\n",
       "         [1.41470571e-01],\n",
       "         [1.41470571e-01],\n",
       "         [3.12841321e-01],\n",
       "         [3.12841321e-01],\n",
       "         [8.25123791e-01],\n",
       "         [8.25123791e-01],\n",
       "         [8.04548859e-01],\n",
       "         [8.04548859e-01],\n",
       "         [9.40553898e-01],\n",
       "         [9.40553898e-01],\n",
       "         [2.45999185e-01],\n",
       "         [2.45999185e-01],\n",
       "         [1.68939225e-01],\n",
       "         [1.68939225e-01],\n",
       "         [2.19992903e-01],\n",
       "         [2.19992903e-01],\n",
       "         [4.85797771e-01],\n",
       "         [4.85797771e-01],\n",
       "         [2.02857304e-02],\n",
       "         [2.02857304e-02],\n",
       "         [2.11246132e-01],\n",
       "         [2.11246132e-01],\n",
       "         [1.63256742e-01],\n",
       "         [1.63256742e-01],\n",
       "         [7.70682800e-01],\n",
       "         [7.70682800e-01],\n",
       "         [7.54212415e-01],\n",
       "         [7.54212415e-01],\n",
       "         [5.86867092e-01],\n",
       "         [5.86867092e-01],\n",
       "         [6.21714835e-01],\n",
       "         [6.21714835e-01],\n",
       "         [1.40690895e-01],\n",
       "         [1.40690895e-01],\n",
       "         [7.33751764e-01],\n",
       "         [7.33751764e-01],\n",
       "         [6.58923179e-01],\n",
       "         [6.58923179e-01],\n",
       "         [8.86840273e-01],\n",
       "         [8.86840273e-01],\n",
       "         [5.25775136e-01],\n",
       "         [5.25775136e-01],\n",
       "         [3.89841208e-01],\n",
       "         [3.89841208e-01],\n",
       "         [5.40905760e-01],\n",
       "         [5.40905760e-01],\n",
       "         [1.28299395e-01],\n",
       "         [1.28299395e-01],\n",
       "         [3.57782212e-01],\n",
       "         [3.57782212e-01],\n",
       "         [1.83900164e-01],\n",
       "         [1.83900164e-01],\n",
       "         [9.77199431e-03],\n",
       "         [9.77199431e-03],\n",
       "         [5.90981192e-03],\n",
       "         [5.90981192e-03],\n",
       "         [8.05137210e-01],\n",
       "         [8.05137210e-01],\n",
       "         [2.28710526e-01],\n",
       "         [2.28710526e-01],\n",
       "         [4.55216452e-01],\n",
       "         [4.55216452e-01],\n",
       "         [6.66422510e-01],\n",
       "         [6.66422510e-01],\n",
       "         [8.22831248e-01],\n",
       "         [8.22831248e-01],\n",
       "         [9.09727300e-01],\n",
       "         [9.09727300e-01],\n",
       "         [4.58636203e-01],\n",
       "         [4.58636203e-01],\n",
       "         [5.97407278e-01],\n",
       "         [5.97407278e-01],\n",
       "         [4.92998298e-01],\n",
       "         [4.92998298e-01],\n",
       "         [7.21558938e-01],\n",
       "         [7.21558938e-01],\n",
       "         [8.43223923e-01],\n",
       "         [8.43223923e-01]])}}"
      ]
     },
     "execution_count": 1,
     "metadata": {},
     "output_type": "execute_result"
    }
   ],
   "source": [
    "ds = load_by_id(run_id_a)\n",
    "ds.get_parameter_data('x1')"
   ]
  },
  {
   "cell_type": "code",
   "execution_count": null,
   "metadata": {},
   "outputs": [],
   "source": []
  }
 ],
 "metadata": {
  "kernelspec": {
   "display_name": "Python 3",
   "language": "python",
   "name": "python3"
  },
  "language_info": {
   "codemirror_mode": {
    "name": "ipython",
    "version": 3
   },
   "file_extension": ".py",
   "mimetype": "text/x-python",
   "name": "python",
   "nbconvert_exporter": "python",
   "pygments_lexer": "ipython3",
   "version": "3.7.9"
  },
  "nbsphinx": {
   "timeout": 600
  },
  "toc": {
   "base_numbering": 1,
   "nav_menu": {},
   "number_sections": true,
   "sideBar": true,
   "skip_h1_title": false,
   "title_cell": "Table of Contents",
   "title_sidebar": "Contents",
   "toc_cell": false,
   "toc_position": {},
   "toc_section_display": true,
   "toc_window_display": false
  },
  "varInspector": {
   "cols": {
    "lenName": 16,
    "lenType": 16,
    "lenVar": 40
   },
   "kernels_config": {
    "python": {
     "delete_cmd_postfix": "",
     "delete_cmd_prefix": "del ",
     "library": "var_list.py",
     "varRefreshCmd": "print(var_dic_list())"
    },
    "r": {
     "delete_cmd_postfix": ") ",
     "delete_cmd_prefix": "rm(",
     "library": "var_list.r",
     "varRefreshCmd": "cat(var_dic_list()) "
    }
   },
   "types_to_exclude": [
    "module",
    "function",
    "builtin_function_or_method",
    "instance",
    "_Feature"
   ],
   "window_display": false
  }
 },
 "nbformat": 4,
 "nbformat_minor": 2
}
