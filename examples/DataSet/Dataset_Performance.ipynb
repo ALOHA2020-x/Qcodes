{
 "cells": [
  {
   "cell_type": "markdown",
   "metadata": {},
   "source": [
    "# DataSet Performance\n",
    "\n",
    "This notebook shows the trade-off between inserting data into a database row-by-row and as binary blobs. Inserting the data row-by-row means that we have direct access to all the data and may perform queries directly on the values of the data. On the other hand, as we shall see, this is much slower than inserting the data directly as binary blobs."
   ]
  },
  {
   "cell_type": "markdown",
   "metadata": {},
   "source": [
    "First, we choose a new location for the database to ensure that we don't add a bunch of benchmarking data to the default one."
   ]
  },
  {
   "cell_type": "code",
   "execution_count": 1,
   "metadata": {
    "execution": {
     "iopub.execute_input": "2021-05-11T12:51:49.889986Z",
     "iopub.status.busy": "2021-05-11T12:51:49.889257Z",
     "iopub.status.idle": "2021-05-11T12:51:51.518878Z",
     "shell.execute_reply": "2021-05-11T12:51:51.519451Z"
    }
   },
   "outputs": [
    {
     "name": "stdout",
     "output_type": "stream",
     "text": [
      "Logging hadn't been started.\n",
      "Activating auto-logging. Current session state plus future input saved.\n",
      "Filename       : /home/runner/.qcodes/logs/command_history.log\n",
      "Mode           : append\n",
      "Output logging : True\n",
      "Raw input log  : False\n",
      "Timestamping   : True\n",
      "State          : active\n"
     ]
    },
    {
     "name": "stdout",
     "output_type": "stream",
     "text": [
      "Qcodes Logfile : /home/runner/.qcodes/logs/210511-4535-qcodes.log\n"
     ]
    }
   ],
   "source": [
    "import os\n",
    "cwd = os.getcwd()\n",
    "import qcodes as qc\n",
    "qc.config[\"core\"][\"db_location\"] = os.path.join(cwd, 'testing.db')\n"
   ]
  },
  {
   "cell_type": "code",
   "execution_count": 2,
   "metadata": {
    "execution": {
     "iopub.execute_input": "2021-05-11T12:51:51.528453Z",
     "iopub.status.busy": "2021-05-11T12:51:51.527587Z",
     "iopub.status.idle": "2021-05-11T12:51:51.823655Z",
     "shell.execute_reply": "2021-05-11T12:51:51.824315Z"
    }
   },
   "outputs": [],
   "source": [
    "%matplotlib inline\n",
    "import time\n",
    "import matplotlib.pyplot as plt\n",
    "import numpy as np\n",
    "\n",
    "import qcodes as qc\n",
    "from qcodes.instrument.parameter import ManualParameter\n",
    "from qcodes.dataset.experiment_container import (Experiment,\n",
    "                                                 load_last_experiment,\n",
    "                                                 new_experiment)\n",
    "from qcodes.dataset.sqlite.database import initialise_database\n",
    "from qcodes import load_or_create_experiment\n",
    "from qcodes.dataset.measurements import Measurement"
   ]
  },
  {
   "cell_type": "code",
   "execution_count": 3,
   "metadata": {
    "execution": {
     "iopub.execute_input": "2021-05-11T12:51:51.830346Z",
     "iopub.status.busy": "2021-05-11T12:51:51.829313Z",
     "iopub.status.idle": "2021-05-11T12:51:51.923040Z",
     "shell.execute_reply": "2021-05-11T12:51:51.922283Z"
    }
   },
   "outputs": [
    {
     "name": "stdout",
     "output_type": "stream",
     "text": [
      "\r",
      "0it [00:00, ?it/s]"
     ]
    },
    {
     "name": "stdout",
     "output_type": "stream",
     "text": [
      "\r",
      "Upgrading database; v0 -> v1: : 0it [00:00, ?it/s]"
     ]
    },
    {
     "name": "stdout",
     "output_type": "stream",
     "text": [
      "\r",
      "Upgrading database; v0 -> v1: : 0it [00:00, ?it/s]"
     ]
    },
    {
     "name": "stdout",
     "output_type": "stream",
     "text": [
      "\n",
      "\r",
      "  0%|          | 0/1 [00:00<?, ?it/s]"
     ]
    },
    {
     "name": "stdout",
     "output_type": "stream",
     "text": [
      "\r",
      "Upgrading database; v1 -> v2:   0%|          | 0/1 [00:00<?, ?it/s]"
     ]
    },
    {
     "name": "stdout",
     "output_type": "stream",
     "text": [
      "\r",
      "Upgrading database; v1 -> v2: 100%|██████████| 1/1 [00:00<00:00, 418.80it/s]"
     ]
    },
    {
     "name": "stdout",
     "output_type": "stream",
     "text": [
      "\n",
      "\r",
      "0it [00:00, ?it/s]"
     ]
    },
    {
     "name": "stdout",
     "output_type": "stream",
     "text": [
      "\r",
      "Upgrading database; v2 -> v3: : 0it [00:00, ?it/s]"
     ]
    },
    {
     "name": "stdout",
     "output_type": "stream",
     "text": [
      "\r",
      "Upgrading database; v2 -> v3: : 0it [00:00, ?it/s]"
     ]
    },
    {
     "name": "stdout",
     "output_type": "stream",
     "text": [
      "\n",
      "\r",
      "0it [00:00, ?it/s]"
     ]
    },
    {
     "name": "stdout",
     "output_type": "stream",
     "text": [
      "\r",
      "Upgrading database; v3 -> v4: : 0it [00:00, ?it/s]"
     ]
    },
    {
     "name": "stdout",
     "output_type": "stream",
     "text": [
      "\r",
      "Upgrading database; v3 -> v4: : 0it [00:00, ?it/s]"
     ]
    },
    {
     "name": "stdout",
     "output_type": "stream",
     "text": [
      "\n",
      "\r",
      "  0%|          | 0/1 [00:00<?, ?it/s]"
     ]
    },
    {
     "name": "stdout",
     "output_type": "stream",
     "text": [
      "\r",
      "Upgrading database; v4 -> v5:   0%|          | 0/1 [00:00<?, ?it/s]"
     ]
    },
    {
     "name": "stdout",
     "output_type": "stream",
     "text": [
      "\r",
      "Upgrading database; v4 -> v5: 100%|██████████| 1/1 [00:00<00:00, 276.00it/s]"
     ]
    },
    {
     "name": "stdout",
     "output_type": "stream",
     "text": [
      "\n",
      "\r",
      "0it [00:00, ?it/s]"
     ]
    },
    {
     "name": "stdout",
     "output_type": "stream",
     "text": [
      "\r",
      "Upgrading database; v5 -> v6: : 0it [00:00, ?it/s]"
     ]
    },
    {
     "name": "stdout",
     "output_type": "stream",
     "text": [
      "\r",
      "Upgrading database; v5 -> v6: : 0it [00:00, ?it/s]"
     ]
    },
    {
     "name": "stdout",
     "output_type": "stream",
     "text": [
      "\n",
      "\r",
      "  0%|          | 0/1 [00:00<?, ?it/s]"
     ]
    },
    {
     "name": "stdout",
     "output_type": "stream",
     "text": [
      "\r",
      "Upgrading database; v6 -> v7:   0%|          | 0/1 [00:00<?, ?it/s]"
     ]
    },
    {
     "name": "stdout",
     "output_type": "stream",
     "text": [
      "\r",
      "Upgrading database; v6 -> v7: 100%|██████████| 1/1 [00:00<00:00, 171.13it/s]"
     ]
    },
    {
     "name": "stdout",
     "output_type": "stream",
     "text": [
      "\n",
      "\r",
      "  0%|          | 0/1 [00:00<?, ?it/s]"
     ]
    },
    {
     "name": "stdout",
     "output_type": "stream",
     "text": [
      "\r",
      "Upgrading database; v7 -> v8:   0%|          | 0/1 [00:00<?, ?it/s]"
     ]
    },
    {
     "name": "stdout",
     "output_type": "stream",
     "text": [
      "\r",
      "Upgrading database; v7 -> v8: 100%|██████████| 1/1 [00:00<00:00, 810.96it/s]"
     ]
    },
    {
     "name": "stdout",
     "output_type": "stream",
     "text": [
      "\n",
      "\r",
      "  0%|          | 0/1 [00:00<?, ?it/s]"
     ]
    },
    {
     "name": "stdout",
     "output_type": "stream",
     "text": [
      "\r",
      "Upgrading database; v8 -> v9:   0%|          | 0/1 [00:00<?, ?it/s]"
     ]
    },
    {
     "name": "stdout",
     "output_type": "stream",
     "text": [
      "\r",
      "Upgrading database; v8 -> v9: 100%|██████████| 1/1 [00:00<00:00, 491.77it/s]"
     ]
    },
    {
     "name": "stdout",
     "output_type": "stream",
     "text": [
      "\n"
     ]
    }
   ],
   "source": [
    "initialise_database()\n",
    "exp = load_or_create_experiment(experiment_name='tutorial_exp', sample_name=\"no sample\")"
   ]
  },
  {
   "cell_type": "markdown",
   "metadata": {},
   "source": [
    "Here, we define a simple function to benchmark the time it takes to insert n points with either numeric or array data type.\n",
    "We will compare both the time used to call ``add_result`` and the time used for the full measurement."
   ]
  },
  {
   "cell_type": "code",
   "execution_count": 4,
   "metadata": {
    "execution": {
     "iopub.execute_input": "2021-05-11T12:51:51.936132Z",
     "iopub.status.busy": "2021-05-11T12:51:51.934473Z",
     "iopub.status.idle": "2021-05-11T12:51:51.938857Z",
     "shell.execute_reply": "2021-05-11T12:51:51.939467Z"
    }
   },
   "outputs": [],
   "source": [
    "def insert_data(paramtype, npoints, nreps=1):\n",
    "\n",
    "    meas = Measurement(exp=exp)\n",
    "\n",
    "    x1 = ManualParameter('x1')\n",
    "    x2 = ManualParameter('x2')\n",
    "    x3 = ManualParameter('x3')\n",
    "    y1 = ManualParameter('y1')\n",
    "    y2 = ManualParameter('y2')\n",
    "\n",
    "    meas.register_parameter(x1, paramtype=paramtype)\n",
    "    meas.register_parameter(x2, paramtype=paramtype)\n",
    "    meas.register_parameter(x3, paramtype=paramtype)\n",
    "    meas.register_parameter(y1, setpoints=[x1, x2, x3],\n",
    "                            paramtype=paramtype)\n",
    "    meas.register_parameter(y2, setpoints=[x1, x2, x3],\n",
    "                            paramtype=paramtype)\n",
    "    start = time.perf_counter()\n",
    "    with meas.run() as datasaver:\n",
    "        start_adding = time.perf_counter()\n",
    "        for i in range(nreps):\n",
    "            datasaver.add_result((x1, np.random.rand(npoints)),\n",
    "                                 (x2, np.random.rand(npoints)),\n",
    "                                 (x3, np.random.rand(npoints)),\n",
    "                                 (y1, np.random.rand(npoints)),\n",
    "                                 (y2, np.random.rand(npoints)))\n",
    "        stop_adding = time.perf_counter()\n",
    "        run_id = datasaver.run_id\n",
    "    stop = time.perf_counter()\n",
    "    tot_time = stop - start\n",
    "    add_time = stop_adding - start_adding\n",
    "    return tot_time, add_time, run_id"
   ]
  },
  {
   "cell_type": "markdown",
   "metadata": {},
   "source": [
    "## Comparison between numeric/array data and binary blob"
   ]
  },
  {
   "cell_type": "markdown",
   "metadata": {},
   "source": [
    "### Case1: Short experiment time"
   ]
  },
  {
   "cell_type": "code",
   "execution_count": 5,
   "metadata": {
    "execution": {
     "iopub.execute_input": "2021-05-11T12:51:51.945328Z",
     "iopub.status.busy": "2021-05-11T12:51:51.944586Z",
     "iopub.status.idle": "2021-05-11T12:51:53.028433Z",
     "shell.execute_reply": "2021-05-11T12:51:53.029285Z"
    }
   },
   "outputs": [
    {
     "name": "stdout",
     "output_type": "stream",
     "text": [
      "Starting experimental run with id: 1. \n",
      "Starting experimental run with id: 2. \n",
      "Starting experimental run with id: 3. \n"
     ]
    },
    {
     "name": "stdout",
     "output_type": "stream",
     "text": [
      "Starting experimental run with id: 4. \n"
     ]
    },
    {
     "name": "stdout",
     "output_type": "stream",
     "text": [
      "Starting experimental run with id: 5. \n"
     ]
    },
    {
     "name": "stdout",
     "output_type": "stream",
     "text": [
      "Starting experimental run with id: 6. \n",
      "Starting experimental run with id: 7. \n"
     ]
    },
    {
     "name": "stdout",
     "output_type": "stream",
     "text": [
      "Starting experimental run with id: 8. \n"
     ]
    },
    {
     "name": "stdout",
     "output_type": "stream",
     "text": [
      "Starting experimental run with id: 9. \n"
     ]
    },
    {
     "name": "stdout",
     "output_type": "stream",
     "text": [
      "Starting experimental run with id: 10. \n",
      "Starting experimental run with id: 11. \n"
     ]
    },
    {
     "name": "stdout",
     "output_type": "stream",
     "text": [
      "Starting experimental run with id: 12. \n",
      "Starting experimental run with id: 13. \n"
     ]
    },
    {
     "name": "stdout",
     "output_type": "stream",
     "text": [
      "Starting experimental run with id: 14. \n"
     ]
    }
   ],
   "source": [
    "sizes = [1,500,1000,2000,3000,4000,5000]\n",
    "t_numeric = []\n",
    "t_numeric_add = []\n",
    "t_array = []\n",
    "t_array_add = []\n",
    "for size in sizes:\n",
    "    tn, tna, run_id_n =  insert_data('numeric', size)\n",
    "    t_numeric.append(tn)\n",
    "    t_numeric_add.append(tna)\n",
    "\n",
    "    ta, taa, run_id_a =  insert_data('array', size)\n",
    "    t_array.append(ta)\n",
    "    t_array_add.append(taa)"
   ]
  },
  {
   "cell_type": "code",
   "execution_count": 6,
   "metadata": {
    "execution": {
     "iopub.execute_input": "2021-05-11T12:51:53.096391Z",
     "iopub.status.busy": "2021-05-11T12:51:53.035643Z",
     "iopub.status.idle": "2021-05-11T12:51:53.372745Z",
     "shell.execute_reply": "2021-05-11T12:51:53.372162Z"
    }
   },
   "outputs": [
    {
     "data": {
      "image/png": "[encoded data removed]",
      "text/plain": [
       "<Figure size 432x288 with 1 Axes>"
      ]
     },
     "metadata": {
      "needs_background": "light"
     },
     "output_type": "display_data"
    }
   ],
   "source": [
    "fig, ax = plt.subplots(1,1)\n",
    "ax.plot(sizes, t_numeric, 'o-', label='Inserting row-by-row')\n",
    "ax.plot(sizes, t_numeric_add, 'o-', label='Inserting row-by-row: add_result only')\n",
    "ax.plot(sizes, t_array, 'd-', label='Inserting as binary blob')\n",
    "ax.plot(sizes, t_array_add, 'd-', label='Inserting as binary blob: add_result only')\n",
    "ax.legend()\n",
    "ax.set_xlabel('Array length')\n",
    "ax.set_ylabel('Time (s)')\n",
    "fig.tight_layout()"
   ]
  },
  {
   "cell_type": "markdown",
   "metadata": {},
   "source": [
    "As shown in the latter figure, the time to setup and and close the experiment is approximately 0.4 sec. In case of small array sizes, the difference between inserting values of data as arrays and inserting them row-by-row is relatively unimportant. At larger array sizes, i.e. above 10000 points, the cost of writing data as individual datapoints starts to become important.\n"
   ]
  },
  {
   "cell_type": "markdown",
   "metadata": {},
   "source": [
    "### Case2: Long experiment time "
   ]
  },
  {
   "cell_type": "code",
   "execution_count": 7,
   "metadata": {
    "execution": {
     "iopub.execute_input": "2021-05-11T12:51:53.377226Z",
     "iopub.status.busy": "2021-05-11T12:51:53.376549Z",
     "iopub.status.idle": "2021-05-11T12:53:05.957707Z",
     "shell.execute_reply": "2021-05-11T12:53:05.957007Z"
    }
   },
   "outputs": [
    {
     "name": "stdout",
     "output_type": "stream",
     "text": [
      "Starting experimental run with id: 15. \n",
      "Starting experimental run with id: 16. \n"
     ]
    },
    {
     "name": "stdout",
     "output_type": "stream",
     "text": [
      "Starting experimental run with id: 17. \n"
     ]
    },
    {
     "name": "stdout",
     "output_type": "stream",
     "text": [
      "Starting experimental run with id: 18. \n"
     ]
    },
    {
     "name": "stdout",
     "output_type": "stream",
     "text": [
      "Starting experimental run with id: 19. \n"
     ]
    },
    {
     "name": "stdout",
     "output_type": "stream",
     "text": [
      "Starting experimental run with id: 20. \n"
     ]
    },
    {
     "name": "stdout",
     "output_type": "stream",
     "text": [
      "Starting experimental run with id: 21. \n"
     ]
    },
    {
     "name": "stdout",
     "output_type": "stream",
     "text": [
      "Starting experimental run with id: 22. \n"
     ]
    },
    {
     "name": "stdout",
     "output_type": "stream",
     "text": [
      "Starting experimental run with id: 23. \n"
     ]
    },
    {
     "name": "stdout",
     "output_type": "stream",
     "text": [
      "Starting experimental run with id: 24. \n"
     ]
    },
    {
     "name": "stdout",
     "output_type": "stream",
     "text": [
      "Starting experimental run with id: 25. \n"
     ]
    },
    {
     "name": "stdout",
     "output_type": "stream",
     "text": [
      "Starting experimental run with id: 26. \n"
     ]
    },
    {
     "name": "stdout",
     "output_type": "stream",
     "text": [
      "Starting experimental run with id: 27. \n"
     ]
    },
    {
     "name": "stdout",
     "output_type": "stream",
     "text": [
      "Starting experimental run with id: 28. \n"
     ]
    }
   ],
   "source": [
    "sizes = [1,500,1000,2000,3000,4000,5000]\n",
    "nreps = 100\n",
    "t_numeric = []\n",
    "t_numeric_add = []\n",
    "t_numeric_run_ids = []\n",
    "t_array = []\n",
    "t_array_add = []\n",
    "t_array_run_ids = []\n",
    "for size in sizes:\n",
    "    tn, tna, run_id_n =  insert_data('numeric', size, nreps=nreps)\n",
    "    t_numeric.append(tn)\n",
    "    t_numeric_add.append(tna)\n",
    "    t_numeric_run_ids.append(run_id_n)\n",
    "\n",
    "    ta, taa, run_id_a =  insert_data('array', size, nreps=nreps)\n",
    "    t_array.append(ta)\n",
    "    t_array_add.append(taa)\n",
    "    t_array_run_ids.append(run_id_a)"
   ]
  },
  {
   "cell_type": "code",
   "execution_count": 8,
   "metadata": {
    "execution": {
     "iopub.execute_input": "2021-05-11T12:53:05.987220Z",
     "iopub.status.busy": "2021-05-11T12:53:05.983326Z",
     "iopub.status.idle": "2021-05-11T12:53:06.270754Z",
     "shell.execute_reply": "2021-05-11T12:53:06.271289Z"
    },
    "scrolled": true
   },
   "outputs": [
    {
     "data": {
      "image/png": "[encoded data removed]",
      "text/plain": [
       "<Figure size 432x288 with 1 Axes>"
      ]
     },
     "metadata": {
      "needs_background": "light"
     },
     "output_type": "display_data"
    }
   ],
   "source": [
    "fig, ax = plt.subplots(1,1)\n",
    "ax.plot(sizes, t_numeric, 'o-', label='Inserting row-by-row')\n",
    "ax.plot(sizes, t_numeric_add, 'o-', label='Inserting row-by-row: add_result only')\n",
    "ax.plot(sizes, t_array, 'd-', label='Inserting as binary blob')\n",
    "ax.plot(sizes, t_array_add, 'd-', label='Inserting as binary blob: add_result only')\n",
    "ax.legend()\n",
    "ax.set_xlabel('Array length')\n",
    "ax.set_ylabel('Time (s)')\n",
    "fig.tight_layout()"
   ]
  },
  {
   "cell_type": "markdown",
   "metadata": {},
   "source": [
    "However, as we increase the length of the experiment, as seen here by repeating the insertion 100 times, we see a big difference between inserting values of the data row-by-row and inserting it as a binary blob."
   ]
  },
  {
   "cell_type": "markdown",
   "metadata": {},
   "source": [
    "## Loading the data "
   ]
  },
  {
   "cell_type": "code",
   "execution_count": 9,
   "metadata": {
    "execution": {
     "iopub.execute_input": "2021-05-11T12:53:06.279629Z",
     "iopub.status.busy": "2021-05-11T12:53:06.278295Z",
     "iopub.status.idle": "2021-05-11T12:53:06.281867Z",
     "shell.execute_reply": "2021-05-11T12:53:06.280697Z"
    }
   },
   "outputs": [],
   "source": [
    "from qcodes.dataset.data_set import load_by_id"
   ]
  },
  {
   "cell_type": "markdown",
   "metadata": {},
   "source": [
    "As usual you can load the data by using the ``load_by_id`` function but you will notice that the different storage methods\n",
    "are reflected in shape of the data as it is retrieved. "
   ]
  },
  {
   "cell_type": "code",
   "execution_count": 10,
   "metadata": {
    "execution": {
     "iopub.execute_input": "2021-05-11T12:53:06.287031Z",
     "iopub.status.busy": "2021-05-11T12:53:06.285731Z",
     "iopub.status.idle": "2021-05-11T12:53:06.289692Z",
     "shell.execute_reply": "2021-05-11T12:53:06.290245Z"
    }
   },
   "outputs": [],
   "source": [
    "run_id_n = t_numeric_run_ids[0]\n",
    "run_id_a = t_array_run_ids[0]"
   ]
  },
  {
   "cell_type": "code",
   "execution_count": 11,
   "metadata": {
    "execution": {
     "iopub.execute_input": "2021-05-11T12:53:06.295337Z",
     "iopub.status.busy": "2021-05-11T12:53:06.294675Z",
     "iopub.status.idle": "2021-05-11T12:53:06.307866Z",
     "shell.execute_reply": "2021-05-11T12:53:06.307164Z"
    },
    "scrolled": true
   },
   "outputs": [
    {
     "data": {
      "text/plain": [
       "{'x1': {'x1': array([0.68614647, 0.68614647, 0.94206258, 0.94206258, 0.89044126,\n",
       "         0.89044126, 0.83238063, 0.83238063, 0.99496869, 0.99496869,\n",
       "         0.40793293, 0.40793293, 0.75352762, 0.75352762, 0.45049996,\n",
       "         0.45049996, 0.82025272, 0.82025272, 0.36601408, 0.36601408,\n",
       "         0.10624676, 0.10624676, 0.889878  , 0.889878  , 0.10787001,\n",
       "         0.10787001, 0.8919637 , 0.8919637 , 0.76057166, 0.76057166,\n",
       "         0.95289299, 0.95289299, 0.89992791, 0.89992791, 0.28160383,\n",
       "         0.28160383, 0.55695578, 0.55695578, 0.21075012, 0.21075012,\n",
       "         0.80378756, 0.80378756, 0.45830809, 0.45830809, 0.80842013,\n",
       "         0.80842013, 0.46130527, 0.46130527, 0.86102588, 0.86102588,\n",
       "         0.4636359 , 0.4636359 , 0.24379365, 0.24379365, 0.62539148,\n",
       "         0.62539148, 0.55035055, 0.55035055, 0.57006247, 0.57006247,\n",
       "         0.34869615, 0.34869615, 0.24561403, 0.24561403, 0.43232328,\n",
       "         0.43232328, 0.67638137, 0.67638137, 0.63721465, 0.63721465,\n",
       "         0.76297815, 0.76297815, 0.16852855, 0.16852855, 0.71933521,\n",
       "         0.71933521, 0.09707519, 0.09707519, 0.79149956, 0.79149956,\n",
       "         0.95415658, 0.95415658, 0.15346104, 0.15346104, 0.05987173,\n",
       "         0.05987173, 0.32361629, 0.32361629, 0.30883106, 0.30883106,\n",
       "         0.91900406, 0.91900406, 0.96095474, 0.96095474, 0.47954184,\n",
       "         0.47954184, 0.45040392, 0.45040392, 0.01398919, 0.01398919,\n",
       "         0.46319391, 0.46319391, 0.016391  , 0.016391  , 0.19210387,\n",
       "         0.19210387, 0.60729902, 0.60729902, 0.44744529, 0.44744529,\n",
       "         0.29631537, 0.29631537, 0.18385127, 0.18385127, 0.31210516,\n",
       "         0.31210516, 0.93943329, 0.93943329, 0.88683019, 0.88683019,\n",
       "         0.21022278, 0.21022278, 0.1121736 , 0.1121736 , 0.14640444,\n",
       "         0.14640444, 0.49807382, 0.49807382, 0.61170351, 0.61170351,\n",
       "         0.57364056, 0.57364056, 0.61537651, 0.61537651, 0.45751658,\n",
       "         0.45751658, 0.04966803, 0.04966803, 0.01828041, 0.01828041,\n",
       "         0.11573366, 0.11573366, 0.43681153, 0.43681153, 0.17617068,\n",
       "         0.17617068, 0.66691256, 0.66691256, 0.7990953 , 0.7990953 ,\n",
       "         0.32147902, 0.32147902, 0.49795262, 0.49795262, 0.5882578 ,\n",
       "         0.5882578 , 0.82446812, 0.82446812, 0.51231467, 0.51231467,\n",
       "         0.7999147 , 0.7999147 , 0.91583495, 0.91583495, 0.22080129,\n",
       "         0.22080129, 0.71676849, 0.71676849, 0.10618925, 0.10618925,\n",
       "         0.48474343, 0.48474343, 0.09534275, 0.09534275, 0.50178002,\n",
       "         0.50178002, 0.32782763, 0.32782763, 0.86203751, 0.86203751,\n",
       "         0.66133669, 0.66133669, 0.99678334, 0.99678334, 0.78500455,\n",
       "         0.78500455, 0.5790952 , 0.5790952 , 0.98491667, 0.98491667,\n",
       "         0.54786003, 0.54786003, 0.80100225, 0.80100225, 0.07277589,\n",
       "         0.07277589, 0.4810772 , 0.4810772 , 0.9125221 , 0.9125221 ])}}"
      ]
     },
     "execution_count": 1,
     "metadata": {},
     "output_type": "execute_result"
    }
   ],
   "source": [
    "ds = load_by_id(run_id_n)\n",
    "ds.get_parameter_data('x1')"
   ]
  },
  {
   "cell_type": "markdown",
   "metadata": {},
   "source": [
    "And a dataset stored as binary arrays"
   ]
  },
  {
   "cell_type": "code",
   "execution_count": 12,
   "metadata": {
    "execution": {
     "iopub.execute_input": "2021-05-11T12:53:06.312009Z",
     "iopub.status.busy": "2021-05-11T12:53:06.311329Z",
     "iopub.status.idle": "2021-05-11T12:53:06.393012Z",
     "shell.execute_reply": "2021-05-11T12:53:06.393614Z"
    },
    "scrolled": true
   },
   "outputs": [
    {
     "data": {
      "text/plain": [
       "{'x1': {'x1': array([[0.60206431],\n",
       "         [0.60206431],\n",
       "         [0.17186896],\n",
       "         [0.17186896],\n",
       "         [0.94608233],\n",
       "         [0.94608233],\n",
       "         [0.50841869],\n",
       "         [0.50841869],\n",
       "         [0.07968909],\n",
       "         [0.07968909],\n",
       "         [0.79907836],\n",
       "         [0.79907836],\n",
       "         [0.65878987],\n",
       "         [0.65878987],\n",
       "         [0.76035486],\n",
       "         [0.76035486],\n",
       "         [0.39897954],\n",
       "         [0.39897954],\n",
       "         [0.60012671],\n",
       "         [0.60012671],\n",
       "         [0.08377863],\n",
       "         [0.08377863],\n",
       "         [0.62672297],\n",
       "         [0.62672297],\n",
       "         [0.07094088],\n",
       "         [0.07094088],\n",
       "         [0.1628591 ],\n",
       "         [0.1628591 ],\n",
       "         [0.1887213 ],\n",
       "         [0.1887213 ],\n",
       "         [0.57449834],\n",
       "         [0.57449834],\n",
       "         [0.20143148],\n",
       "         [0.20143148],\n",
       "         [0.46225397],\n",
       "         [0.46225397],\n",
       "         [0.86310608],\n",
       "         [0.86310608],\n",
       "         [0.31916056],\n",
       "         [0.31916056],\n",
       "         [0.18550274],\n",
       "         [0.18550274],\n",
       "         [0.78893887],\n",
       "         [0.78893887],\n",
       "         [0.32117754],\n",
       "         [0.32117754],\n",
       "         [0.66702855],\n",
       "         [0.66702855],\n",
       "         [0.47658255],\n",
       "         [0.47658255],\n",
       "         [0.02254532],\n",
       "         [0.02254532],\n",
       "         [0.73867713],\n",
       "         [0.73867713],\n",
       "         [0.32633975],\n",
       "         [0.32633975],\n",
       "         [0.72038283],\n",
       "         [0.72038283],\n",
       "         [0.92488572],\n",
       "         [0.92488572],\n",
       "         [0.78126466],\n",
       "         [0.78126466],\n",
       "         [0.90965673],\n",
       "         [0.90965673],\n",
       "         [0.97237467],\n",
       "         [0.97237467],\n",
       "         [0.16427323],\n",
       "         [0.16427323],\n",
       "         [0.22069256],\n",
       "         [0.22069256],\n",
       "         [0.82173447],\n",
       "         [0.82173447],\n",
       "         [0.94286772],\n",
       "         [0.94286772],\n",
       "         [0.17075368],\n",
       "         [0.17075368],\n",
       "         [0.26016168],\n",
       "         [0.26016168],\n",
       "         [0.85983033],\n",
       "         [0.85983033],\n",
       "         [0.94688824],\n",
       "         [0.94688824],\n",
       "         [0.74297593],\n",
       "         [0.74297593],\n",
       "         [0.33051228],\n",
       "         [0.33051228],\n",
       "         [0.01419048],\n",
       "         [0.01419048],\n",
       "         [0.94529327],\n",
       "         [0.94529327],\n",
       "         [0.36123054],\n",
       "         [0.36123054],\n",
       "         [0.8247801 ],\n",
       "         [0.8247801 ],\n",
       "         [0.32632183],\n",
       "         [0.32632183],\n",
       "         [0.16781311],\n",
       "         [0.16781311],\n",
       "         [0.61613252],\n",
       "         [0.61613252],\n",
       "         [0.81396946],\n",
       "         [0.81396946],\n",
       "         [0.39673994],\n",
       "         [0.39673994],\n",
       "         [0.68058688],\n",
       "         [0.68058688],\n",
       "         [0.80161422],\n",
       "         [0.80161422],\n",
       "         [0.4866364 ],\n",
       "         [0.4866364 ],\n",
       "         [0.96129019],\n",
       "         [0.96129019],\n",
       "         [0.1992661 ],\n",
       "         [0.1992661 ],\n",
       "         [0.6371683 ],\n",
       "         [0.6371683 ],\n",
       "         [0.02439044],\n",
       "         [0.02439044],\n",
       "         [0.1593261 ],\n",
       "         [0.1593261 ],\n",
       "         [0.69266612],\n",
       "         [0.69266612],\n",
       "         [0.86151792],\n",
       "         [0.86151792],\n",
       "         [0.94592496],\n",
       "         [0.94592496],\n",
       "         [0.87059576],\n",
       "         [0.87059576],\n",
       "         [0.49424667],\n",
       "         [0.49424667],\n",
       "         [0.0255774 ],\n",
       "         [0.0255774 ],\n",
       "         [0.48496223],\n",
       "         [0.48496223],\n",
       "         [0.01794728],\n",
       "         [0.01794728],\n",
       "         [0.55811101],\n",
       "         [0.55811101],\n",
       "         [0.24790739],\n",
       "         [0.24790739],\n",
       "         [0.30247982],\n",
       "         [0.30247982],\n",
       "         [0.13025609],\n",
       "         [0.13025609],\n",
       "         [0.70381222],\n",
       "         [0.70381222],\n",
       "         [0.94870702],\n",
       "         [0.94870702],\n",
       "         [0.55074644],\n",
       "         [0.55074644],\n",
       "         [0.03348554],\n",
       "         [0.03348554],\n",
       "         [0.48509911],\n",
       "         [0.48509911],\n",
       "         [0.67412259],\n",
       "         [0.67412259],\n",
       "         [0.78643239],\n",
       "         [0.78643239],\n",
       "         [0.69360747],\n",
       "         [0.69360747],\n",
       "         [0.62115552],\n",
       "         [0.62115552],\n",
       "         [0.78232467],\n",
       "         [0.78232467],\n",
       "         [0.07485624],\n",
       "         [0.07485624],\n",
       "         [0.57977122],\n",
       "         [0.57977122],\n",
       "         [0.41879193],\n",
       "         [0.41879193],\n",
       "         [0.86045427],\n",
       "         [0.86045427],\n",
       "         [0.95706706],\n",
       "         [0.95706706],\n",
       "         [0.60036547],\n",
       "         [0.60036547],\n",
       "         [0.70625228],\n",
       "         [0.70625228],\n",
       "         [0.89360641],\n",
       "         [0.89360641],\n",
       "         [0.54848575],\n",
       "         [0.54848575],\n",
       "         [0.26680452],\n",
       "         [0.26680452],\n",
       "         [0.40908142],\n",
       "         [0.40908142],\n",
       "         [0.86360221],\n",
       "         [0.86360221],\n",
       "         [0.19372092],\n",
       "         [0.19372092],\n",
       "         [0.64283588],\n",
       "         [0.64283588],\n",
       "         [0.52811728],\n",
       "         [0.52811728],\n",
       "         [0.37674259],\n",
       "         [0.37674259],\n",
       "         [0.65795698],\n",
       "         [0.65795698],\n",
       "         [0.69035608],\n",
       "         [0.69035608]])}}"
      ]
     },
     "execution_count": 1,
     "metadata": {},
     "output_type": "execute_result"
    }
   ],
   "source": [
    "ds = load_by_id(run_id_a)\n",
    "ds.get_parameter_data('x1')"
   ]
  },
  {
   "cell_type": "code",
   "execution_count": null,
   "metadata": {},
   "outputs": [],
   "source": []
  }
 ],
 "metadata": {
  "kernelspec": {
   "display_name": "Python 3",
   "language": "python",
   "name": "python3"
  },
  "language_info": {
   "codemirror_mode": {
    "name": "ipython",
    "version": 3
   },
   "file_extension": ".py",
   "mimetype": "text/x-python",
   "name": "python",
   "nbconvert_exporter": "python",
   "pygments_lexer": "ipython3",
   "version": "3.7.10"
  },
  "nbsphinx": {
   "timeout": 600
  },
  "toc": {
   "base_numbering": 1,
   "nav_menu": {},
   "number_sections": true,
   "sideBar": true,
   "skip_h1_title": false,
   "title_cell": "Table of Contents",
   "title_sidebar": "Contents",
   "toc_cell": false,
   "toc_position": {},
   "toc_section_display": true,
   "toc_window_display": false
  },
  "varInspector": {
   "cols": {
    "lenName": 16,
    "lenType": 16,
    "lenVar": 40
   },
   "kernels_config": {
    "python": {
     "delete_cmd_postfix": "",
     "delete_cmd_prefix": "del ",
     "library": "var_list.py",
     "varRefreshCmd": "print(var_dic_list())"
    },
    "r": {
     "delete_cmd_postfix": ") ",
     "delete_cmd_prefix": "rm(",
     "library": "var_list.r",
     "varRefreshCmd": "cat(var_dic_list()) "
    }
   },
   "types_to_exclude": [
    "module",
    "function",
    "builtin_function_or_method",
    "instance",
    "_Feature"
   ],
   "window_display": false
  }
 },
 "nbformat": 4,
 "nbformat_minor": 4
}
