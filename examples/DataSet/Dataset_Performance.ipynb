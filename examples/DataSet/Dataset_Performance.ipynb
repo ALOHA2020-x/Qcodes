{
 "cells": [
  {
   "cell_type": "markdown",
   "metadata": {},
   "source": [
    "# DataSet Performance\n",
    "\n",
    "This notebook shows the trade-off between inserting data into a database row-by-row and as binary blobs. Inserting the data row-by-row means that we have direct access to all the data and may perform queries directly on the values of the data. On the other hand, as we shall see, this is much slower than inserting the data directly as binary blobs."
   ]
  },
  {
   "cell_type": "markdown",
   "metadata": {},
   "source": [
    "First, we choose a new location for the database to ensure that we don't add a bunch of benchmarking data to the default one."
   ]
  },
  {
   "cell_type": "code",
   "execution_count": 1,
   "metadata": {
    "execution": {
     "iopub.execute_input": "2020-10-15T10:52:53.704465Z",
     "iopub.status.busy": "2020-10-15T10:52:53.703822Z",
     "iopub.status.idle": "2020-10-15T10:52:54.756710Z",
     "shell.execute_reply": "2020-10-15T10:52:54.755950Z"
    }
   },
   "outputs": [
    {
     "name": "stdout",
     "output_type": "stream",
     "text": [
      "Logging hadn't been started.\n",
      "Activating auto-logging. Current session state plus future input saved.\n",
      "Filename       : /home/vsts/.qcodes/logs/command_history.log\n",
      "Mode           : append\n",
      "Output logging : True\n",
      "Raw input log  : False\n",
      "Timestamping   : True\n",
      "State          : active\n"
     ]
    },
    {
     "name": "stdout",
     "output_type": "stream",
     "text": [
      "Qcodes Logfile : /home/vsts/.qcodes/logs/201015-15321-qcodes.log\n"
     ]
    }
   ],
   "source": [
    "import os\n",
    "cwd = os.getcwd()\n",
    "import qcodes as qc\n",
    "qc.config[\"core\"][\"db_location\"] = os.path.join(cwd, 'testing.db')\n"
   ]
  },
  {
   "cell_type": "code",
   "execution_count": 2,
   "metadata": {
    "execution": {
     "iopub.execute_input": "2020-10-15T10:52:54.763141Z",
     "iopub.status.busy": "2020-10-15T10:52:54.761560Z",
     "iopub.status.idle": "2020-10-15T10:52:54.933756Z",
     "shell.execute_reply": "2020-10-15T10:52:54.933023Z"
    }
   },
   "outputs": [],
   "source": [
    "%matplotlib inline\n",
    "import time\n",
    "import matplotlib.pyplot as plt\n",
    "import numpy as np\n",
    "\n",
    "import qcodes as qc\n",
    "from qcodes.instrument.parameter import ManualParameter\n",
    "from qcodes.dataset.experiment_container import (Experiment,\n",
    "                                                 load_last_experiment,\n",
    "                                                 new_experiment)\n",
    "from qcodes.dataset.sqlite.database import initialise_database\n",
    "from qcodes import load_or_create_experiment\n",
    "from qcodes.dataset.measurements import Measurement"
   ]
  },
  {
   "cell_type": "code",
   "execution_count": 3,
   "metadata": {
    "execution": {
     "iopub.execute_input": "2020-10-15T10:52:54.937837Z",
     "iopub.status.busy": "2020-10-15T10:52:54.937093Z",
     "iopub.status.idle": "2020-10-15T10:52:55.050337Z",
     "shell.execute_reply": "2020-10-15T10:52:55.050894Z"
    }
   },
   "outputs": [
    {
     "name": "stdout",
     "output_type": "stream",
     "text": [
      "\r",
      "0it [00:00, ?it/s]"
     ]
    },
    {
     "name": "stdout",
     "output_type": "stream",
     "text": [
      "\r",
      "Upgrading database; v0 -> v1: : 0it [00:00, ?it/s]"
     ]
    },
    {
     "name": "stdout",
     "output_type": "stream",
     "text": [
      "\r",
      "Upgrading database; v0 -> v1: : 0it [00:00, ?it/s]"
     ]
    },
    {
     "name": "stdout",
     "output_type": "stream",
     "text": [
      "\n",
      "\r",
      "  0%|          | 0/1 [00:00<?, ?it/s]"
     ]
    },
    {
     "name": "stdout",
     "output_type": "stream",
     "text": [
      "\r",
      "Upgrading database; v1 -> v2:   0%|          | 0/1 [00:00<?, ?it/s]"
     ]
    },
    {
     "name": "stdout",
     "output_type": "stream",
     "text": [
      "\r",
      "Upgrading database; v1 -> v2: 100%|██████████| 1/1 [00:00<00:00, 412.22it/s]"
     ]
    },
    {
     "name": "stdout",
     "output_type": "stream",
     "text": [
      "\n",
      "\r",
      "0it [00:00, ?it/s]"
     ]
    },
    {
     "name": "stdout",
     "output_type": "stream",
     "text": [
      "\r",
      "Upgrading database; v2 -> v3: : 0it [00:00, ?it/s]"
     ]
    },
    {
     "name": "stdout",
     "output_type": "stream",
     "text": [
      "\r",
      "Upgrading database; v2 -> v3: : 0it [00:00, ?it/s]"
     ]
    },
    {
     "name": "stdout",
     "output_type": "stream",
     "text": [
      "\n",
      "\r",
      "0it [00:00, ?it/s]"
     ]
    },
    {
     "name": "stdout",
     "output_type": "stream",
     "text": [
      "\r",
      "Upgrading database; v3 -> v4: : 0it [00:00, ?it/s]"
     ]
    },
    {
     "name": "stdout",
     "output_type": "stream",
     "text": [
      "\r",
      "Upgrading database; v3 -> v4: : 0it [00:00, ?it/s]"
     ]
    },
    {
     "name": "stdout",
     "output_type": "stream",
     "text": [
      "\n",
      "\r",
      "  0%|          | 0/1 [00:00<?, ?it/s]"
     ]
    },
    {
     "name": "stdout",
     "output_type": "stream",
     "text": [
      "\r",
      "Upgrading database; v4 -> v5:   0%|          | 0/1 [00:00<?, ?it/s]"
     ]
    },
    {
     "name": "stdout",
     "output_type": "stream",
     "text": [
      "\r",
      "Upgrading database; v4 -> v5: 100%|██████████| 1/1 [00:00<00:00, 1128.41it/s]"
     ]
    },
    {
     "name": "stdout",
     "output_type": "stream",
     "text": [
      "\n",
      "\r",
      "0it [00:00, ?it/s]"
     ]
    },
    {
     "name": "stdout",
     "output_type": "stream",
     "text": [
      "\r",
      "Upgrading database; v5 -> v6: : 0it [00:00, ?it/s]"
     ]
    },
    {
     "name": "stdout",
     "output_type": "stream",
     "text": [
      "\r",
      "Upgrading database; v5 -> v6: : 0it [00:00, ?it/s]"
     ]
    },
    {
     "name": "stdout",
     "output_type": "stream",
     "text": [
      "\n",
      "\r",
      "  0%|          | 0/1 [00:00<?, ?it/s]"
     ]
    },
    {
     "name": "stdout",
     "output_type": "stream",
     "text": [
      "\r",
      "Upgrading database; v6 -> v7:   0%|          | 0/1 [00:00<?, ?it/s]"
     ]
    },
    {
     "name": "stdout",
     "output_type": "stream",
     "text": [
      "\r",
      "Upgrading database; v6 -> v7: 100%|██████████| 1/1 [00:00<00:00, 313.38it/s]"
     ]
    },
    {
     "name": "stdout",
     "output_type": "stream",
     "text": [
      "\n",
      "\r",
      "  0%|          | 0/1 [00:00<?, ?it/s]"
     ]
    },
    {
     "name": "stdout",
     "output_type": "stream",
     "text": [
      "\r",
      "Upgrading database; v7 -> v8:   0%|          | 0/1 [00:00<?, ?it/s]"
     ]
    },
    {
     "name": "stdout",
     "output_type": "stream",
     "text": [
      "\r",
      "Upgrading database; v7 -> v8: 100%|██████████| 1/1 [00:00<00:00, 433.70it/s]"
     ]
    },
    {
     "name": "stdout",
     "output_type": "stream",
     "text": [
      "\n",
      "\r",
      "  0%|          | 0/1 [00:00<?, ?it/s]"
     ]
    },
    {
     "name": "stdout",
     "output_type": "stream",
     "text": [
      "\r",
      "Upgrading database; v8 -> v9:   0%|          | 0/1 [00:00<?, ?it/s]"
     ]
    },
    {
     "name": "stdout",
     "output_type": "stream",
     "text": [
      "\r",
      "Upgrading database; v8 -> v9: 100%|██████████| 1/1 [00:00<00:00, 896.60it/s]"
     ]
    },
    {
     "name": "stdout",
     "output_type": "stream",
     "text": [
      "\n"
     ]
    }
   ],
   "source": [
    "initialise_database()\n",
    "exp = load_or_create_experiment(experiment_name='tutorial_exp', sample_name=\"no sample\")"
   ]
  },
  {
   "cell_type": "markdown",
   "metadata": {},
   "source": [
    "Here, we define a simple function to benchmark the time it takes to insert n points with either numeric or array data type.\n",
    "We will compare both the time used to call ``add_result`` and the time used for the full measurement."
   ]
  },
  {
   "cell_type": "code",
   "execution_count": 4,
   "metadata": {
    "execution": {
     "iopub.execute_input": "2020-10-15T10:52:55.059651Z",
     "iopub.status.busy": "2020-10-15T10:52:55.058854Z",
     "iopub.status.idle": "2020-10-15T10:52:55.062414Z",
     "shell.execute_reply": "2020-10-15T10:52:55.062998Z"
    }
   },
   "outputs": [],
   "source": [
    "def insert_data(paramtype, npoints, nreps=1):\n",
    "\n",
    "    meas = Measurement(exp=exp)\n",
    "\n",
    "    x1 = ManualParameter('x1')\n",
    "    x2 = ManualParameter('x2')\n",
    "    x3 = ManualParameter('x3')\n",
    "    y1 = ManualParameter('y1')\n",
    "    y2 = ManualParameter('y2')\n",
    "\n",
    "    meas.register_parameter(x1, paramtype=paramtype)\n",
    "    meas.register_parameter(x2, paramtype=paramtype)\n",
    "    meas.register_parameter(x3, paramtype=paramtype)\n",
    "    meas.register_parameter(y1, setpoints=[x1, x2, x3],\n",
    "                            paramtype=paramtype)\n",
    "    meas.register_parameter(y2, setpoints=[x1, x2, x3],\n",
    "                            paramtype=paramtype)\n",
    "    start = time.perf_counter()\n",
    "    with meas.run() as datasaver:\n",
    "        start_adding = time.perf_counter()\n",
    "        for i in range(nreps):\n",
    "            datasaver.add_result((x1, np.random.rand(npoints)),\n",
    "                                 (x2, np.random.rand(npoints)),\n",
    "                                 (x3, np.random.rand(npoints)),\n",
    "                                 (y1, np.random.rand(npoints)),\n",
    "                                 (y2, np.random.rand(npoints)))\n",
    "        stop_adding = time.perf_counter()\n",
    "        run_id = datasaver.run_id\n",
    "    stop = time.perf_counter()\n",
    "    tot_time = stop - start\n",
    "    add_time = stop_adding - start_adding\n",
    "    return tot_time, add_time, run_id"
   ]
  },
  {
   "cell_type": "markdown",
   "metadata": {},
   "source": [
    "## Comparison between numeric/array data and binary blob"
   ]
  },
  {
   "cell_type": "markdown",
   "metadata": {},
   "source": [
    "### Case1: Short experiment time"
   ]
  },
  {
   "cell_type": "code",
   "execution_count": 5,
   "metadata": {
    "execution": {
     "iopub.execute_input": "2020-10-15T10:52:55.068957Z",
     "iopub.status.busy": "2020-10-15T10:52:55.067531Z",
     "iopub.status.idle": "2020-10-15T10:52:55.925443Z",
     "shell.execute_reply": "2020-10-15T10:52:55.924733Z"
    }
   },
   "outputs": [
    {
     "name": "stdout",
     "output_type": "stream",
     "text": [
      "Starting experimental run with id: 1. \n",
      "Starting experimental run with id: 2. \n",
      "Starting experimental run with id: 3. \n",
      "Starting experimental run with id: 4. \n",
      "Starting experimental run with id: 5. \n"
     ]
    },
    {
     "name": "stdout",
     "output_type": "stream",
     "text": [
      "Starting experimental run with id: 6. \n"
     ]
    },
    {
     "name": "stdout",
     "output_type": "stream",
     "text": [
      "Starting experimental run with id: 7. \n"
     ]
    },
    {
     "name": "stdout",
     "output_type": "stream",
     "text": [
      "Starting experimental run with id: 8. \n",
      "Starting experimental run with id: 9. \n"
     ]
    },
    {
     "name": "stdout",
     "output_type": "stream",
     "text": [
      "Starting experimental run with id: 10. \n",
      "Starting experimental run with id: 11. \n"
     ]
    },
    {
     "name": "stdout",
     "output_type": "stream",
     "text": [
      "Starting experimental run with id: 12. \n"
     ]
    },
    {
     "name": "stdout",
     "output_type": "stream",
     "text": [
      "Starting experimental run with id: 13. \n"
     ]
    },
    {
     "name": "stdout",
     "output_type": "stream",
     "text": [
      "Starting experimental run with id: 14. \n"
     ]
    }
   ],
   "source": [
    "sizes = [1,500,1000,2000,3000,4000,5000]\n",
    "t_numeric = []\n",
    "t_numeric_add = []\n",
    "t_array = []\n",
    "t_array_add = []\n",
    "for size in sizes:\n",
    "    tn, tna, run_id_n =  insert_data('numeric', size)\n",
    "    t_numeric.append(tn)\n",
    "    t_numeric_add.append(tna)\n",
    "\n",
    "    ta, taa, run_id_a =  insert_data('array', size)\n",
    "    t_array.append(ta)\n",
    "    t_array_add.append(taa)"
   ]
  },
  {
   "cell_type": "code",
   "execution_count": 6,
   "metadata": {
    "execution": {
     "iopub.execute_input": "2020-10-15T10:52:55.945511Z",
     "iopub.status.busy": "2020-10-15T10:52:55.944910Z",
     "iopub.status.idle": "2020-10-15T10:52:56.165152Z",
     "shell.execute_reply": "2020-10-15T10:52:56.164293Z"
    }
   },
   "outputs": [
    {
     "data": {
      "image/png": "[encoded data removed]",
      "text/plain": [
       "<Figure size 432x288 with 1 Axes>"
      ]
     },
     "metadata": {
      "needs_background": "light"
     },
     "output_type": "display_data"
    }
   ],
   "source": [
    "fig, ax = plt.subplots(1,1)\n",
    "ax.plot(sizes, t_numeric, 'o-', label='Inserting row-by-row')\n",
    "ax.plot(sizes, t_numeric_add, 'o-', label='Inserting row-by-row: add_result only')\n",
    "ax.plot(sizes, t_array, 'd-', label='Inserting as binary blob')\n",
    "ax.plot(sizes, t_array_add, 'd-', label='Inserting as binary blob: add_result only')\n",
    "ax.legend()\n",
    "ax.set_xlabel('Array length')\n",
    "ax.set_ylabel('Time (s)')\n",
    "fig.tight_layout()"
   ]
  },
  {
   "cell_type": "markdown",
   "metadata": {},
   "source": [
    "As shown in the latter figure, the time to setup and and close the experiment is approximately 0.4 sec. In case of small array sizes, the difference between inserting values of data as arrays and inserting them row-by-row is relatively unimportant. At larger array sizes, i.e. above 10000 points, the cost of writing data as individual datapoints starts to become important.\n"
   ]
  },
  {
   "cell_type": "markdown",
   "metadata": {},
   "source": [
    "### Case2: Long experiment time "
   ]
  },
  {
   "cell_type": "code",
   "execution_count": 7,
   "metadata": {
    "execution": {
     "iopub.execute_input": "2020-10-15T10:52:56.173207Z",
     "iopub.status.busy": "2020-10-15T10:52:56.172429Z",
     "iopub.status.idle": "2020-10-15T10:53:54.973198Z",
     "shell.execute_reply": "2020-10-15T10:53:54.972715Z"
    }
   },
   "outputs": [
    {
     "name": "stdout",
     "output_type": "stream",
     "text": [
      "Starting experimental run with id: 15. \n",
      "Starting experimental run with id: 16. \n",
      "Starting experimental run with id: 17. \n"
     ]
    },
    {
     "name": "stdout",
     "output_type": "stream",
     "text": [
      "Starting experimental run with id: 18. \n",
      "Starting experimental run with id: 19. \n"
     ]
    },
    {
     "name": "stdout",
     "output_type": "stream",
     "text": [
      "Starting experimental run with id: 20. \n"
     ]
    },
    {
     "name": "stdout",
     "output_type": "stream",
     "text": [
      "Starting experimental run with id: 21. \n"
     ]
    },
    {
     "name": "stdout",
     "output_type": "stream",
     "text": [
      "Starting experimental run with id: 22. \n"
     ]
    },
    {
     "name": "stdout",
     "output_type": "stream",
     "text": [
      "Starting experimental run with id: 23. \n"
     ]
    },
    {
     "name": "stdout",
     "output_type": "stream",
     "text": [
      "Starting experimental run with id: 24. \n"
     ]
    },
    {
     "name": "stdout",
     "output_type": "stream",
     "text": [
      "Starting experimental run with id: 25. \n"
     ]
    },
    {
     "name": "stdout",
     "output_type": "stream",
     "text": [
      "Starting experimental run with id: 26. \n"
     ]
    },
    {
     "name": "stdout",
     "output_type": "stream",
     "text": [
      "Starting experimental run with id: 27. \n"
     ]
    },
    {
     "name": "stdout",
     "output_type": "stream",
     "text": [
      "Starting experimental run with id: 28. \n"
     ]
    }
   ],
   "source": [
    "sizes = [1,500,1000,2000,3000,4000,5000]\n",
    "nreps = 100\n",
    "t_numeric = []\n",
    "t_numeric_add = []\n",
    "t_numeric_run_ids = []\n",
    "t_array = []\n",
    "t_array_add = []\n",
    "t_array_run_ids = []\n",
    "for size in sizes:\n",
    "    tn, tna, run_id_n =  insert_data('numeric', size, nreps=nreps)\n",
    "    t_numeric.append(tn)\n",
    "    t_numeric_add.append(tna)\n",
    "    t_numeric_run_ids.append(run_id_n)\n",
    "\n",
    "    ta, taa, run_id_a =  insert_data('array', size, nreps=nreps)\n",
    "    t_array.append(ta)\n",
    "    t_array_add.append(taa)\n",
    "    t_array_run_ids.append(run_id_a)"
   ]
  },
  {
   "cell_type": "code",
   "execution_count": 8,
   "metadata": {
    "execution": {
     "iopub.execute_input": "2020-10-15T10:53:55.000791Z",
     "iopub.status.busy": "2020-10-15T10:53:54.990831Z",
     "iopub.status.idle": "2020-10-15T10:53:55.207110Z",
     "shell.execute_reply": "2020-10-15T10:53:55.206352Z"
    },
    "scrolled": true
   },
   "outputs": [
    {
     "data": {
      "image/png": "[encoded data removed]",
      "text/plain": [
       "<Figure size 432x288 with 1 Axes>"
      ]
     },
     "metadata": {
      "needs_background": "light"
     },
     "output_type": "display_data"
    }
   ],
   "source": [
    "fig, ax = plt.subplots(1,1)\n",
    "ax.plot(sizes, t_numeric, 'o-', label='Inserting row-by-row')\n",
    "ax.plot(sizes, t_numeric_add, 'o-', label='Inserting row-by-row: add_result only')\n",
    "ax.plot(sizes, t_array, 'd-', label='Inserting as binary blob')\n",
    "ax.plot(sizes, t_array_add, 'd-', label='Inserting as binary blob: add_result only')\n",
    "ax.legend()\n",
    "ax.set_xlabel('Array length')\n",
    "ax.set_ylabel('Time (s)')\n",
    "fig.tight_layout()"
   ]
  },
  {
   "cell_type": "markdown",
   "metadata": {},
   "source": [
    "However, as we increase the length of the experiment, as seen here by repeating the insertion 100 times, we see a big difference between inserting values of the data row-by-row and inserting it as a binary blob."
   ]
  },
  {
   "cell_type": "markdown",
   "metadata": {},
   "source": [
    "## Loading the data "
   ]
  },
  {
   "cell_type": "code",
   "execution_count": 9,
   "metadata": {
    "execution": {
     "iopub.execute_input": "2020-10-15T10:53:55.211535Z",
     "iopub.status.busy": "2020-10-15T10:53:55.210699Z",
     "iopub.status.idle": "2020-10-15T10:53:55.215578Z",
     "shell.execute_reply": "2020-10-15T10:53:55.214685Z"
    }
   },
   "outputs": [],
   "source": [
    "from qcodes.dataset.data_set import load_by_id\n",
    "from qcodes.dataset.data_export import get_data_by_id"
   ]
  },
  {
   "cell_type": "markdown",
   "metadata": {},
   "source": [
    "As usual you can load the data by using the ``load_by_id`` function but you will notice that the different storage methods\n",
    "are reflected in shape of the data as it is retrieved. "
   ]
  },
  {
   "cell_type": "code",
   "execution_count": 10,
   "metadata": {
    "execution": {
     "iopub.execute_input": "2020-10-15T10:53:55.219205Z",
     "iopub.status.busy": "2020-10-15T10:53:55.218711Z",
     "iopub.status.idle": "2020-10-15T10:53:55.222051Z",
     "shell.execute_reply": "2020-10-15T10:53:55.221511Z"
    }
   },
   "outputs": [],
   "source": [
    "run_id_n = t_numeric_run_ids[0]\n",
    "run_id_a = t_array_run_ids[0]"
   ]
  },
  {
   "cell_type": "code",
   "execution_count": 11,
   "metadata": {
    "execution": {
     "iopub.execute_input": "2020-10-15T10:53:55.225124Z",
     "iopub.status.busy": "2020-10-15T10:53:55.224524Z",
     "iopub.status.idle": "2020-10-15T10:53:55.233768Z",
     "shell.execute_reply": "2020-10-15T10:53:55.234288Z"
    },
    "scrolled": true
   },
   "outputs": [
    {
     "data": {
      "text/plain": [
       "{'x1': {'x1': array([0.4839517 , 0.4839517 , 0.4006135 , 0.4006135 , 0.65931994,\n",
       "         0.65931994, 0.24401827, 0.24401827, 0.56309372, 0.56309372,\n",
       "         0.699157  , 0.699157  , 0.39785622, 0.39785622, 0.11652883,\n",
       "         0.11652883, 0.50699268, 0.50699268, 0.66049372, 0.66049372,\n",
       "         0.94830389, 0.94830389, 0.28483905, 0.28483905, 0.90122964,\n",
       "         0.90122964, 0.14269675, 0.14269675, 0.96386682, 0.96386682,\n",
       "         0.29017689, 0.29017689, 0.49370013, 0.49370013, 0.40085369,\n",
       "         0.40085369, 0.59500556, 0.59500556, 0.20462657, 0.20462657,\n",
       "         0.75865375, 0.75865375, 0.78056997, 0.78056997, 0.33697261,\n",
       "         0.33697261, 0.11497505, 0.11497505, 0.48085979, 0.48085979,\n",
       "         0.77739312, 0.77739312, 0.27267452, 0.27267452, 0.62468533,\n",
       "         0.62468533, 0.05621053, 0.05621053, 0.82231911, 0.82231911,\n",
       "         0.59976051, 0.59976051, 0.66955722, 0.66955722, 0.22319546,\n",
       "         0.22319546, 0.73808158, 0.73808158, 0.75069761, 0.75069761,\n",
       "         0.68399402, 0.68399402, 0.58737953, 0.58737953, 0.39116999,\n",
       "         0.39116999, 0.52877609, 0.52877609, 0.20081856, 0.20081856,\n",
       "         0.68360375, 0.68360375, 0.44245684, 0.44245684, 0.77973903,\n",
       "         0.77973903, 0.23548014, 0.23548014, 0.63220226, 0.63220226,\n",
       "         0.2668488 , 0.2668488 , 0.90537576, 0.90537576, 0.38293687,\n",
       "         0.38293687, 0.36687543, 0.36687543, 0.39984497, 0.39984497,\n",
       "         0.48117741, 0.48117741, 0.80888074, 0.80888074, 0.50593916,\n",
       "         0.50593916, 0.34899509, 0.34899509, 0.32496037, 0.32496037,\n",
       "         0.6046786 , 0.6046786 , 0.40737335, 0.40737335, 0.39076466,\n",
       "         0.39076466, 0.5945842 , 0.5945842 , 0.27315245, 0.27315245,\n",
       "         0.90107964, 0.90107964, 0.39922305, 0.39922305, 0.32809343,\n",
       "         0.32809343, 0.08265767, 0.08265767, 0.84502272, 0.84502272,\n",
       "         0.60883878, 0.60883878, 0.316355  , 0.316355  , 0.0356906 ,\n",
       "         0.0356906 , 0.83544695, 0.83544695, 0.38657495, 0.38657495,\n",
       "         0.23350901, 0.23350901, 0.092375  , 0.092375  , 0.79863973,\n",
       "         0.79863973, 0.78932081, 0.78932081, 0.08999688, 0.08999688,\n",
       "         0.98200172, 0.98200172, 0.6986253 , 0.6986253 , 0.95945981,\n",
       "         0.95945981, 0.80728982, 0.80728982, 0.0794421 , 0.0794421 ,\n",
       "         0.33624481, 0.33624481, 0.57277726, 0.57277726, 0.46715889,\n",
       "         0.46715889, 0.0886883 , 0.0886883 , 0.18052791, 0.18052791,\n",
       "         0.09641877, 0.09641877, 0.74290616, 0.74290616, 0.8009736 ,\n",
       "         0.8009736 , 0.36059623, 0.36059623, 0.33710016, 0.33710016,\n",
       "         0.91937   , 0.91937   , 0.69909133, 0.69909133, 0.10051071,\n",
       "         0.10051071, 0.16090606, 0.16090606, 0.36598686, 0.36598686,\n",
       "         0.39935135, 0.39935135, 0.37757902, 0.37757902, 0.0100719 ,\n",
       "         0.0100719 , 0.30273871, 0.30273871, 0.34454792, 0.34454792])}}"
      ]
     },
     "execution_count": 1,
     "metadata": {},
     "output_type": "execute_result"
    }
   ],
   "source": [
    "ds = load_by_id(run_id_n)\n",
    "ds.get_parameter_data('x1')"
   ]
  },
  {
   "cell_type": "markdown",
   "metadata": {},
   "source": [
    "And a dataset stored as binary arrays"
   ]
  },
  {
   "cell_type": "code",
   "execution_count": 12,
   "metadata": {
    "execution": {
     "iopub.execute_input": "2020-10-15T10:53:55.237231Z",
     "iopub.status.busy": "2020-10-15T10:53:55.236684Z",
     "iopub.status.idle": "2020-10-15T10:53:55.295006Z",
     "shell.execute_reply": "2020-10-15T10:53:55.294358Z"
    },
    "scrolled": true
   },
   "outputs": [
    {
     "data": {
      "text/plain": [
       "{'x1': {'x1': array([[0.99300381],\n",
       "         [0.99300381],\n",
       "         [0.69523895],\n",
       "         [0.69523895],\n",
       "         [0.8712737 ],\n",
       "         [0.8712737 ],\n",
       "         [0.69466119],\n",
       "         [0.69466119],\n",
       "         [0.41628176],\n",
       "         [0.41628176],\n",
       "         [0.012244  ],\n",
       "         [0.012244  ],\n",
       "         [0.12611122],\n",
       "         [0.12611122],\n",
       "         [0.06975863],\n",
       "         [0.06975863],\n",
       "         [0.01139361],\n",
       "         [0.01139361],\n",
       "         [0.84922381],\n",
       "         [0.84922381],\n",
       "         [0.56796014],\n",
       "         [0.56796014],\n",
       "         [0.11095639],\n",
       "         [0.11095639],\n",
       "         [0.1244741 ],\n",
       "         [0.1244741 ],\n",
       "         [0.48750747],\n",
       "         [0.48750747],\n",
       "         [0.06576488],\n",
       "         [0.06576488],\n",
       "         [0.29955504],\n",
       "         [0.29955504],\n",
       "         [0.35709885],\n",
       "         [0.35709885],\n",
       "         [0.68712682],\n",
       "         [0.68712682],\n",
       "         [0.72780147],\n",
       "         [0.72780147],\n",
       "         [0.89181976],\n",
       "         [0.89181976],\n",
       "         [0.82227923],\n",
       "         [0.82227923],\n",
       "         [0.88551143],\n",
       "         [0.88551143],\n",
       "         [0.18499691],\n",
       "         [0.18499691],\n",
       "         [0.22060202],\n",
       "         [0.22060202],\n",
       "         [0.93685761],\n",
       "         [0.93685761],\n",
       "         [0.40240532],\n",
       "         [0.40240532],\n",
       "         [0.30830549],\n",
       "         [0.30830549],\n",
       "         [0.38057298],\n",
       "         [0.38057298],\n",
       "         [0.95440984],\n",
       "         [0.95440984],\n",
       "         [0.58204687],\n",
       "         [0.58204687],\n",
       "         [0.76102109],\n",
       "         [0.76102109],\n",
       "         [0.15583375],\n",
       "         [0.15583375],\n",
       "         [0.11735264],\n",
       "         [0.11735264],\n",
       "         [0.94738031],\n",
       "         [0.94738031],\n",
       "         [0.37329632],\n",
       "         [0.37329632],\n",
       "         [0.62303139],\n",
       "         [0.62303139],\n",
       "         [0.45259133],\n",
       "         [0.45259133],\n",
       "         [0.48554353],\n",
       "         [0.48554353],\n",
       "         [0.68717878],\n",
       "         [0.68717878],\n",
       "         [0.79882053],\n",
       "         [0.79882053],\n",
       "         [0.36489745],\n",
       "         [0.36489745],\n",
       "         [0.31361353],\n",
       "         [0.31361353],\n",
       "         [0.4045416 ],\n",
       "         [0.4045416 ],\n",
       "         [0.21498495],\n",
       "         [0.21498495],\n",
       "         [0.02587601],\n",
       "         [0.02587601],\n",
       "         [0.76534206],\n",
       "         [0.76534206],\n",
       "         [0.64969201],\n",
       "         [0.64969201],\n",
       "         [0.7688483 ],\n",
       "         [0.7688483 ],\n",
       "         [0.9590216 ],\n",
       "         [0.9590216 ],\n",
       "         [0.57697009],\n",
       "         [0.57697009],\n",
       "         [0.92842089],\n",
       "         [0.92842089],\n",
       "         [0.26731428],\n",
       "         [0.26731428],\n",
       "         [0.63748101],\n",
       "         [0.63748101],\n",
       "         [0.88012235],\n",
       "         [0.88012235],\n",
       "         [0.83278759],\n",
       "         [0.83278759],\n",
       "         [0.86469066],\n",
       "         [0.86469066],\n",
       "         [0.54728893],\n",
       "         [0.54728893],\n",
       "         [0.72301198],\n",
       "         [0.72301198],\n",
       "         [0.27796899],\n",
       "         [0.27796899],\n",
       "         [0.53836074],\n",
       "         [0.53836074],\n",
       "         [0.21699915],\n",
       "         [0.21699915],\n",
       "         [0.44610047],\n",
       "         [0.44610047],\n",
       "         [0.25411411],\n",
       "         [0.25411411],\n",
       "         [0.14915006],\n",
       "         [0.14915006],\n",
       "         [0.20700795],\n",
       "         [0.20700795],\n",
       "         [0.32901787],\n",
       "         [0.32901787],\n",
       "         [0.93922541],\n",
       "         [0.93922541],\n",
       "         [0.78724196],\n",
       "         [0.78724196],\n",
       "         [0.6069808 ],\n",
       "         [0.6069808 ],\n",
       "         [0.47343746],\n",
       "         [0.47343746],\n",
       "         [0.10846693],\n",
       "         [0.10846693],\n",
       "         [0.86137156],\n",
       "         [0.86137156],\n",
       "         [0.28282662],\n",
       "         [0.28282662],\n",
       "         [0.888468  ],\n",
       "         [0.888468  ],\n",
       "         [0.8982294 ],\n",
       "         [0.8982294 ],\n",
       "         [0.13240378],\n",
       "         [0.13240378],\n",
       "         [0.24696215],\n",
       "         [0.24696215],\n",
       "         [0.67216625],\n",
       "         [0.67216625],\n",
       "         [0.87711414],\n",
       "         [0.87711414],\n",
       "         [0.46144075],\n",
       "         [0.46144075],\n",
       "         [0.23782036],\n",
       "         [0.23782036],\n",
       "         [0.36109204],\n",
       "         [0.36109204],\n",
       "         [0.22297297],\n",
       "         [0.22297297],\n",
       "         [0.52358881],\n",
       "         [0.52358881],\n",
       "         [0.37745356],\n",
       "         [0.37745356],\n",
       "         [0.26431781],\n",
       "         [0.26431781],\n",
       "         [0.44262452],\n",
       "         [0.44262452],\n",
       "         [0.10849859],\n",
       "         [0.10849859],\n",
       "         [0.93199915],\n",
       "         [0.93199915],\n",
       "         [0.8272857 ],\n",
       "         [0.8272857 ],\n",
       "         [0.67772501],\n",
       "         [0.67772501],\n",
       "         [0.07698307],\n",
       "         [0.07698307],\n",
       "         [0.64045565],\n",
       "         [0.64045565],\n",
       "         [0.86403332],\n",
       "         [0.86403332],\n",
       "         [0.73650257],\n",
       "         [0.73650257],\n",
       "         [0.67886445],\n",
       "         [0.67886445],\n",
       "         [0.79809693],\n",
       "         [0.79809693],\n",
       "         [0.83294332],\n",
       "         [0.83294332],\n",
       "         [0.54209363],\n",
       "         [0.54209363],\n",
       "         [0.67097971],\n",
       "         [0.67097971]])}}"
      ]
     },
     "execution_count": 1,
     "metadata": {},
     "output_type": "execute_result"
    }
   ],
   "source": [
    "ds = load_by_id(run_id_a)\n",
    "ds.get_parameter_data('x1')"
   ]
  },
  {
   "cell_type": "code",
   "execution_count": null,
   "metadata": {},
   "outputs": [],
   "source": []
  }
 ],
 "metadata": {
  "kernelspec": {
   "display_name": "Python 3",
   "language": "python",
   "name": "python3"
  },
  "language_info": {
   "codemirror_mode": {
    "name": "ipython",
    "version": 3
   },
   "file_extension": ".py",
   "mimetype": "text/x-python",
   "name": "python",
   "nbconvert_exporter": "python",
   "pygments_lexer": "ipython3",
   "version": "3.7.7"
  },
  "nbsphinx": {
   "timeout": 600
  },
  "toc": {
   "base_numbering": 1,
   "nav_menu": {},
   "number_sections": true,
   "sideBar": true,
   "skip_h1_title": false,
   "title_cell": "Table of Contents",
   "title_sidebar": "Contents",
   "toc_cell": false,
   "toc_position": {},
   "toc_section_display": true,
   "toc_window_display": false
  },
  "varInspector": {
   "cols": {
    "lenName": 16,
    "lenType": 16,
    "lenVar": 40
   },
   "kernels_config": {
    "python": {
     "delete_cmd_postfix": "",
     "delete_cmd_prefix": "del ",
     "library": "var_list.py",
     "varRefreshCmd": "print(var_dic_list())"
    },
    "r": {
     "delete_cmd_postfix": ") ",
     "delete_cmd_prefix": "rm(",
     "library": "var_list.r",
     "varRefreshCmd": "cat(var_dic_list()) "
    }
   },
   "types_to_exclude": [
    "module",
    "function",
    "builtin_function_or_method",
    "instance",
    "_Feature"
   ],
   "window_display": false
  }
 },
 "nbformat": 4,
 "nbformat_minor": 2
}
