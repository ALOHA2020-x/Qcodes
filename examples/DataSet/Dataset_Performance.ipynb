{
 "cells": [
  {
   "cell_type": "markdown",
   "metadata": {},
   "source": [
    "# DataSet Performance\n",
    "\n",
    "This notebook shows the trade-off between inserting data into a database row-by-row and as binary blobs. Inserting the data row-by-row means that we have direct access to all the data and may perform queries directly on the values of the data. On the other hand, as we shall see, this is much slower than inserting the data directly as binary blobs."
   ]
  },
  {
   "cell_type": "markdown",
   "metadata": {},
   "source": [
    "First, we choose a new location for the database to ensure that we don't add a bunch of benchmarking data to the default one."
   ]
  },
  {
   "cell_type": "code",
   "execution_count": 1,
   "metadata": {},
   "outputs": [
    {
     "name": "stdout",
     "output_type": "stream",
     "text": [
      "Logging hadn't been started.\n",
      "Activating auto-logging. Current session state plus future input saved.\n",
      "Filename       : /home/vsts/.qcodes/logs/command_history.log\n",
      "Mode           : append\n",
      "Output logging : True\n",
      "Raw input log  : False\n",
      "Timestamping   : True\n",
      "State          : active\n"
     ]
    },
    {
     "name": "stdout",
     "output_type": "stream",
     "text": [
      "Qcodes Logfile : /home/vsts/.qcodes/logs/200420-18214-qcodes.log\n"
     ]
    }
   ],
   "source": [
    "import os\n",
    "cwd = os.getcwd()\n",
    "import qcodes as qc\n",
    "qc.config[\"core\"][\"db_location\"] = os.path.join(cwd, 'testing.db')\n"
   ]
  },
  {
   "cell_type": "code",
   "execution_count": 2,
   "metadata": {},
   "outputs": [],
   "source": [
    "%matplotlib inline\n",
    "import time\n",
    "import matplotlib.pyplot as plt\n",
    "import numpy as np\n",
    "\n",
    "import qcodes as qc\n",
    "from qcodes.instrument.parameter import ManualParameter\n",
    "from qcodes.dataset.experiment_container import (Experiment,\n",
    "                                                 load_last_experiment,\n",
    "                                                 new_experiment)\n",
    "from qcodes.dataset.sqlite.database import initialise_database\n",
    "from qcodes import load_or_create_experiment\n",
    "from qcodes.dataset.measurements import Measurement"
   ]
  },
  {
   "cell_type": "code",
   "execution_count": 3,
   "metadata": {},
   "outputs": [
    {
     "name": "stdout",
     "output_type": "stream",
     "text": [
      "\r",
      "0it [00:00, ?it/s]"
     ]
    },
    {
     "name": "stdout",
     "output_type": "stream",
     "text": [
      "\r",
      "Upgrading database; v0 -> v1: : 0it [00:00, ?it/s]"
     ]
    },
    {
     "name": "stdout",
     "output_type": "stream",
     "text": [
      "\r",
      "Upgrading database; v0 -> v1: : 0it [00:00, ?it/s]"
     ]
    },
    {
     "name": "stdout",
     "output_type": "stream",
     "text": [
      "\n",
      "\r",
      "  0%|          | 0/1 [00:00<?, ?it/s]"
     ]
    },
    {
     "name": "stdout",
     "output_type": "stream",
     "text": [
      "\r",
      "Upgrading database; v1 -> v2:   0%|          | 0/1 [00:00<?, ?it/s]"
     ]
    },
    {
     "name": "stdout",
     "output_type": "stream",
     "text": [
      "\r",
      "Upgrading database; v1 -> v2: 100%|██████████| 1/1 [00:00<00:00, 947.01it/s]"
     ]
    },
    {
     "name": "stdout",
     "output_type": "stream",
     "text": [
      "\n",
      "\r",
      "0it [00:00, ?it/s]"
     ]
    },
    {
     "name": "stdout",
     "output_type": "stream",
     "text": [
      "\r",
      "Upgrading database; v2 -> v3: : 0it [00:00, ?it/s]"
     ]
    },
    {
     "name": "stdout",
     "output_type": "stream",
     "text": [
      "\r",
      "Upgrading database; v2 -> v3: : 0it [00:00, ?it/s]"
     ]
    },
    {
     "name": "stdout",
     "output_type": "stream",
     "text": [
      "\n",
      "\r",
      "0it [00:00, ?it/s]"
     ]
    },
    {
     "name": "stdout",
     "output_type": "stream",
     "text": [
      "\r",
      "Upgrading database; v3 -> v4: : 0it [00:00, ?it/s]"
     ]
    },
    {
     "name": "stdout",
     "output_type": "stream",
     "text": [
      "\r",
      "Upgrading database; v3 -> v4: : 0it [00:00, ?it/s]"
     ]
    },
    {
     "name": "stdout",
     "output_type": "stream",
     "text": [
      "\n",
      "\r",
      "  0%|          | 0/1 [00:00<?, ?it/s]"
     ]
    },
    {
     "name": "stdout",
     "output_type": "stream",
     "text": [
      "\r",
      "Upgrading database; v4 -> v5:   0%|          | 0/1 [00:00<?, ?it/s]"
     ]
    },
    {
     "name": "stdout",
     "output_type": "stream",
     "text": [
      "\r",
      "Upgrading database; v4 -> v5: 100%|██████████| 1/1 [00:00<00:00, 877.84it/s]"
     ]
    },
    {
     "name": "stdout",
     "output_type": "stream",
     "text": [
      "\n",
      "\r",
      "0it [00:00, ?it/s]"
     ]
    },
    {
     "name": "stdout",
     "output_type": "stream",
     "text": [
      "\r",
      "Upgrading database; v5 -> v6: : 0it [00:00, ?it/s]"
     ]
    },
    {
     "name": "stdout",
     "output_type": "stream",
     "text": [
      "\r",
      "Upgrading database; v5 -> v6: : 0it [00:00, ?it/s]"
     ]
    },
    {
     "name": "stdout",
     "output_type": "stream",
     "text": [
      "\n",
      "\r",
      "  0%|          | 0/1 [00:00<?, ?it/s]"
     ]
    },
    {
     "name": "stdout",
     "output_type": "stream",
     "text": [
      "\r",
      "Upgrading database; v6 -> v7:   0%|          | 0/1 [00:00<?, ?it/s]"
     ]
    },
    {
     "name": "stdout",
     "output_type": "stream",
     "text": [
      "\r",
      "Upgrading database; v6 -> v7: 100%|██████████| 1/1 [00:00<00:00, 395.35it/s]"
     ]
    },
    {
     "name": "stdout",
     "output_type": "stream",
     "text": [
      "\n",
      "\r",
      "  0%|          | 0/1 [00:00<?, ?it/s]"
     ]
    },
    {
     "name": "stdout",
     "output_type": "stream",
     "text": [
      "\r",
      "Upgrading database; v7 -> v8:   0%|          | 0/1 [00:00<?, ?it/s]"
     ]
    },
    {
     "name": "stdout",
     "output_type": "stream",
     "text": [
      "\r",
      "Upgrading database; v7 -> v8: 100%|██████████| 1/1 [00:00<00:00, 944.03it/s]"
     ]
    },
    {
     "name": "stdout",
     "output_type": "stream",
     "text": [
      "\n",
      "\r",
      "  0%|          | 0/1 [00:00<?, ?it/s]"
     ]
    },
    {
     "name": "stdout",
     "output_type": "stream",
     "text": [
      "\r",
      "Upgrading database; v8 -> v9:   0%|          | 0/1 [00:00<?, ?it/s]"
     ]
    },
    {
     "name": "stdout",
     "output_type": "stream",
     "text": [
      "\r",
      "Upgrading database; v8 -> v9: 100%|██████████| 1/1 [00:00<00:00, 1184.50it/s]"
     ]
    },
    {
     "name": "stdout",
     "output_type": "stream",
     "text": [
      "\n"
     ]
    }
   ],
   "source": [
    "initialise_database()\n",
    "exp = load_or_create_experiment(experiment_name='tutorial_exp', sample_name=\"no sample\")"
   ]
  },
  {
   "cell_type": "markdown",
   "metadata": {},
   "source": [
    "Here, we define a simple function to benchmark the time it takes to insert n points with either numeric or array data type.\n",
    "We will compare both the time used to call ``add_result`` and the time used for the full measurement."
   ]
  },
  {
   "cell_type": "code",
   "execution_count": 4,
   "metadata": {},
   "outputs": [],
   "source": [
    "def insert_data(paramtype, npoints, nreps=1):\n",
    "\n",
    "    meas = Measurement(exp=exp)\n",
    "\n",
    "    x1 = ManualParameter('x1')\n",
    "    x2 = ManualParameter('x2')\n",
    "    x3 = ManualParameter('x3')\n",
    "    y1 = ManualParameter('y1')\n",
    "    y2 = ManualParameter('y2')\n",
    "\n",
    "    meas.register_parameter(x1, paramtype=paramtype)\n",
    "    meas.register_parameter(x2, paramtype=paramtype)\n",
    "    meas.register_parameter(x3, paramtype=paramtype)\n",
    "    meas.register_parameter(y1, setpoints=[x1, x2, x3],\n",
    "                            paramtype=paramtype)\n",
    "    meas.register_parameter(y2, setpoints=[x1, x2, x3],\n",
    "                            paramtype=paramtype)\n",
    "    start = time.perf_counter()\n",
    "    with meas.run() as datasaver:\n",
    "        start_adding = time.perf_counter()\n",
    "        for i in range(nreps):\n",
    "            datasaver.add_result((x1, np.random.rand(npoints)),\n",
    "                                 (x2, np.random.rand(npoints)),\n",
    "                                 (x3, np.random.rand(npoints)),\n",
    "                                 (y1, np.random.rand(npoints)),\n",
    "                                 (y2, np.random.rand(npoints)))\n",
    "        stop_adding = time.perf_counter()\n",
    "        run_id = datasaver.run_id\n",
    "    stop = time.perf_counter()\n",
    "    tot_time = stop - start\n",
    "    add_time = stop_adding - start_adding\n",
    "    return tot_time, add_time, run_id"
   ]
  },
  {
   "cell_type": "markdown",
   "metadata": {},
   "source": [
    "## Comparison between numeric/array data and binary blob"
   ]
  },
  {
   "cell_type": "markdown",
   "metadata": {},
   "source": [
    "### Case1: Short experiment time"
   ]
  },
  {
   "cell_type": "code",
   "execution_count": 5,
   "metadata": {},
   "outputs": [
    {
     "name": "stdout",
     "output_type": "stream",
     "text": [
      "Starting experimental run with id: 1. \n",
      "Starting experimental run with id: 2. \n",
      "Starting experimental run with id: 3. \n",
      "Starting experimental run with id: 4. \n"
     ]
    },
    {
     "name": "stdout",
     "output_type": "stream",
     "text": [
      "Starting experimental run with id: 5. "
     ]
    },
    {
     "name": "stdout",
     "output_type": "stream",
     "text": [
      "\n"
     ]
    },
    {
     "name": "stdout",
     "output_type": "stream",
     "text": [
      "Starting experimental run with id: 6. \n"
     ]
    },
    {
     "name": "stdout",
     "output_type": "stream",
     "text": [
      "Starting experimental run with id: 7. \n",
      "Starting experimental run with id: 8. \n"
     ]
    },
    {
     "name": "stdout",
     "output_type": "stream",
     "text": [
      "Starting experimental run with id: 9. \n"
     ]
    },
    {
     "name": "stdout",
     "output_type": "stream",
     "text": [
      "Starting experimental run with id: 10. \n",
      "Starting experimental run with id: 11. \n"
     ]
    },
    {
     "name": "stdout",
     "output_type": "stream",
     "text": [
      "Starting experimental run with id: 12. \n",
      "Starting experimental run with id: 13. \n"
     ]
    },
    {
     "name": "stdout",
     "output_type": "stream",
     "text": [
      "Starting experimental run with id: 14. \n"
     ]
    }
   ],
   "source": [
    "sizes = [1,500,1000,2000,3000,4000,5000]\n",
    "t_numeric = []\n",
    "t_numeric_add = []\n",
    "t_array = []\n",
    "t_array_add = []\n",
    "for size in sizes:\n",
    "    tn, tna, run_id_n =  insert_data('numeric', size)\n",
    "    t_numeric.append(tn)\n",
    "    t_numeric_add.append(tna)\n",
    "\n",
    "    ta, taa, run_id_a =  insert_data('array', size)\n",
    "    t_array.append(ta)\n",
    "    t_array_add.append(taa)"
   ]
  },
  {
   "cell_type": "code",
   "execution_count": 6,
   "metadata": {},
   "outputs": [
    {
     "data": {
      "image/png": "[encoded data removed]",
      "text/plain": [
       "<Figure size 432x288 with 1 Axes>"
      ]
     },
     "metadata": {
      "needs_background": "light"
     },
     "output_type": "display_data"
    }
   ],
   "source": [
    "fig, ax = plt.subplots(1,1)\n",
    "ax.plot(sizes, t_numeric, 'o-', label='Inserting row-by-row')\n",
    "ax.plot(sizes, t_numeric_add, 'o-', label='Inserting row-by-row: add_result only')\n",
    "ax.plot(sizes, t_array, 'd-', label='Inserting as binary blob')\n",
    "ax.plot(sizes, t_array_add, 'd-', label='Inserting as binary blob: add_result only')\n",
    "ax.legend()\n",
    "ax.set_xlabel('Array length')\n",
    "ax.set_ylabel('Time (s)')\n",
    "fig.tight_layout()"
   ]
  },
  {
   "cell_type": "markdown",
   "metadata": {},
   "source": [
    "As shown in the latter figure, the time to setup and and close the experiment is approximately 0.4 sec. In case of small array sizes, the difference between inserting values of data as arrays and inserting them row-by-row is relatively unimportant. At larger array sizes, i.e. above 10000 points, the cost of writing data as individual datapoints starts to become important.\n"
   ]
  },
  {
   "cell_type": "markdown",
   "metadata": {},
   "source": [
    "### Case2: Long experiment time "
   ]
  },
  {
   "cell_type": "code",
   "execution_count": 7,
   "metadata": {},
   "outputs": [
    {
     "name": "stdout",
     "output_type": "stream",
     "text": [
      "Starting experimental run with id: 15. \n",
      "Starting experimental run with id: 16. \n",
      "Starting experimental run with id: 17. \n"
     ]
    },
    {
     "name": "stdout",
     "output_type": "stream",
     "text": [
      "Starting experimental run with id: 18. \n",
      "Starting experimental run with id: 19. \n"
     ]
    },
    {
     "name": "stdout",
     "output_type": "stream",
     "text": [
      "Starting experimental run with id: 20. \n"
     ]
    },
    {
     "name": "stdout",
     "output_type": "stream",
     "text": [
      "Starting experimental run with id: 21. \n"
     ]
    },
    {
     "name": "stdout",
     "output_type": "stream",
     "text": [
      "Starting experimental run with id: 22. \n"
     ]
    },
    {
     "name": "stdout",
     "output_type": "stream",
     "text": [
      "Starting experimental run with id: 23. \n"
     ]
    },
    {
     "name": "stdout",
     "output_type": "stream",
     "text": [
      "Starting experimental run with id: 24. \n"
     ]
    },
    {
     "name": "stdout",
     "output_type": "stream",
     "text": [
      "Starting experimental run with id: 25. \n"
     ]
    },
    {
     "name": "stdout",
     "output_type": "stream",
     "text": [
      "Starting experimental run with id: 26. \n"
     ]
    },
    {
     "name": "stdout",
     "output_type": "stream",
     "text": [
      "Starting experimental run with id: 27. \n"
     ]
    },
    {
     "name": "stdout",
     "output_type": "stream",
     "text": [
      "Starting experimental run with id: 28. \n"
     ]
    }
   ],
   "source": [
    "sizes = [1,500,1000,2000,3000,4000,5000]\n",
    "nreps = 100\n",
    "t_numeric = []\n",
    "t_numeric_add = []\n",
    "t_numeric_run_ids = []\n",
    "t_array = []\n",
    "t_array_add = []\n",
    "t_array_run_ids = []\n",
    "for size in sizes:\n",
    "    tn, tna, run_id_n =  insert_data('numeric', size, nreps=nreps)\n",
    "    t_numeric.append(tn)\n",
    "    t_numeric_add.append(tna)\n",
    "    t_numeric_run_ids.append(run_id_n)\n",
    "\n",
    "    ta, taa, run_id_a =  insert_data('array', size, nreps=nreps)\n",
    "    t_array.append(ta)\n",
    "    t_array_add.append(taa)\n",
    "    t_array_run_ids.append(run_id_a)"
   ]
  },
  {
   "cell_type": "code",
   "execution_count": 8,
   "metadata": {
    "scrolled": true
   },
   "outputs": [
    {
     "data": {
      "image/png": "[encoded data removed]",
      "text/plain": [
       "<Figure size 432x288 with 1 Axes>"
      ]
     },
     "metadata": {
      "needs_background": "light"
     },
     "output_type": "display_data"
    }
   ],
   "source": [
    "fig, ax = plt.subplots(1,1)\n",
    "ax.plot(sizes, t_numeric, 'o-', label='Inserting row-by-row')\n",
    "ax.plot(sizes, t_numeric_add, 'o-', label='Inserting row-by-row: add_result only')\n",
    "ax.plot(sizes, t_array, 'd-', label='Inserting as binary blob')\n",
    "ax.plot(sizes, t_array_add, 'd-', label='Inserting as binary blob: add_result only')\n",
    "ax.legend()\n",
    "ax.set_xlabel('Array length')\n",
    "ax.set_ylabel('Time (s)')\n",
    "fig.tight_layout()"
   ]
  },
  {
   "cell_type": "markdown",
   "metadata": {},
   "source": [
    "However, as we increase the length of the experiment, as seen here by repeating the insertion 100 times, we see a big difference between inserting values of the data row-by-row and inserting it as a binary blob."
   ]
  },
  {
   "cell_type": "markdown",
   "metadata": {},
   "source": [
    "## Loading the data "
   ]
  },
  {
   "cell_type": "code",
   "execution_count": 9,
   "metadata": {},
   "outputs": [],
   "source": [
    "from qcodes.dataset.data_set import load_by_id\n",
    "from qcodes.dataset.data_export import get_data_by_id"
   ]
  },
  {
   "cell_type": "markdown",
   "metadata": {},
   "source": [
    "As usual you can load the data by using the ``load_by_id`` function but you will notice that the different storage methods\n",
    "are reflected in shape of the data as it is retrieved. "
   ]
  },
  {
   "cell_type": "code",
   "execution_count": 10,
   "metadata": {},
   "outputs": [],
   "source": [
    "run_id_n = t_numeric_run_ids[0]\n",
    "run_id_a = t_array_run_ids[0]"
   ]
  },
  {
   "cell_type": "code",
   "execution_count": 11,
   "metadata": {
    "scrolled": true
   },
   "outputs": [
    {
     "data": {
      "text/plain": [
       "{'x1': {'x1': array([9.24498507e-04, 9.24498507e-04, 9.71746264e-01, 9.71746264e-01,\n",
       "         9.21983682e-01, 9.21983682e-01, 4.56662332e-01, 4.56662332e-01,\n",
       "         5.75692068e-01, 5.75692068e-01, 2.65072202e-02, 2.65072202e-02,\n",
       "         8.53117411e-01, 8.53117411e-01, 4.66357683e-01, 4.66357683e-01,\n",
       "         6.71904283e-01, 6.71904283e-01, 8.43202453e-01, 8.43202453e-01,\n",
       "         1.31092579e-01, 1.31092579e-01, 3.54013113e-01, 3.54013113e-01,\n",
       "         1.05501813e-01, 1.05501813e-01, 9.40606811e-01, 9.40606811e-01,\n",
       "         5.05728971e-01, 5.05728971e-01, 4.50669049e-01, 4.50669049e-01,\n",
       "         2.64836229e-01, 2.64836229e-01, 7.52622044e-01, 7.52622044e-01,\n",
       "         7.42892771e-01, 7.42892771e-01, 4.62305313e-01, 4.62305313e-01,\n",
       "         7.28961451e-02, 7.28961451e-02, 9.68859097e-01, 9.68859097e-01,\n",
       "         8.26079540e-01, 8.26079540e-01, 7.70277841e-01, 7.70277841e-01,\n",
       "         6.77111428e-01, 6.77111428e-01, 2.12720759e-01, 2.12720759e-01,\n",
       "         1.72105098e-01, 1.72105098e-01, 5.06815635e-01, 5.06815635e-01,\n",
       "         2.40847872e-01, 2.40847872e-01, 2.05512726e-01, 2.05512726e-01,\n",
       "         3.53369290e-01, 3.53369290e-01, 9.88195772e-01, 9.88195772e-01,\n",
       "         6.54110603e-01, 6.54110603e-01, 3.27475103e-01, 3.27475103e-01,\n",
       "         9.68351148e-01, 9.68351148e-01, 3.81339406e-01, 3.81339406e-01,\n",
       "         6.91655238e-01, 6.91655238e-01, 5.83795316e-02, 5.83795316e-02,\n",
       "         3.09841671e-01, 3.09841671e-01, 6.84693467e-01, 6.84693467e-01,\n",
       "         3.48191397e-01, 3.48191397e-01, 8.69921518e-01, 8.69921518e-01,\n",
       "         6.87290225e-01, 6.87290225e-01, 6.79885801e-01, 6.79885801e-01,\n",
       "         7.36593837e-01, 7.36593837e-01, 2.57649462e-01, 2.57649462e-01,\n",
       "         8.25596055e-01, 8.25596055e-01, 6.97900702e-01, 6.97900702e-01,\n",
       "         9.03184969e-01, 9.03184969e-01, 3.42077403e-01, 3.42077403e-01,\n",
       "         9.03372274e-01, 9.03372274e-01, 1.59956880e-01, 1.59956880e-01,\n",
       "         7.80822103e-02, 7.80822103e-02, 6.26954360e-01, 6.26954360e-01,\n",
       "         8.34189405e-01, 8.34189405e-01, 8.02746322e-01, 8.02746322e-01,\n",
       "         1.50560530e-01, 1.50560530e-01, 6.62522320e-01, 6.62522320e-01,\n",
       "         6.03436596e-01, 6.03436596e-01, 9.27058974e-01, 9.27058974e-01,\n",
       "         1.40017941e-01, 1.40017941e-01, 1.82864852e-01, 1.82864852e-01,\n",
       "         7.05639169e-02, 7.05639169e-02, 7.51881361e-01, 7.51881361e-01,\n",
       "         7.39188834e-02, 7.39188834e-02, 6.57939785e-01, 6.57939785e-01,\n",
       "         3.38756436e-01, 3.38756436e-01, 6.47059257e-01, 6.47059257e-01,\n",
       "         7.81237258e-01, 7.81237258e-01, 5.81627311e-01, 5.81627311e-01,\n",
       "         9.98901033e-01, 9.98901033e-01, 8.83964353e-01, 8.83964353e-01,\n",
       "         9.88616373e-01, 9.88616373e-01, 9.53031045e-01, 9.53031045e-01,\n",
       "         5.02101903e-01, 5.02101903e-01, 1.44262555e-01, 1.44262555e-01,\n",
       "         4.13022297e-03, 4.13022297e-03, 4.72707818e-01, 4.72707818e-01,\n",
       "         2.24120452e-01, 2.24120452e-01, 9.73498183e-01, 9.73498183e-01,\n",
       "         5.78635772e-01, 5.78635772e-01, 8.33613323e-01, 8.33613323e-01,\n",
       "         4.88310016e-01, 4.88310016e-01, 9.12955710e-01, 9.12955710e-01,\n",
       "         3.81301270e-01, 3.81301270e-01, 5.46796452e-01, 5.46796452e-01,\n",
       "         2.60493231e-01, 2.60493231e-01, 4.09868628e-01, 4.09868628e-01,\n",
       "         6.05331743e-01, 6.05331743e-01, 4.16376183e-02, 4.16376183e-02,\n",
       "         7.02143836e-01, 7.02143836e-01, 8.02865779e-01, 8.02865779e-01,\n",
       "         3.51110570e-01, 3.51110570e-01, 3.15853994e-01, 3.15853994e-01,\n",
       "         1.75929566e-01, 1.75929566e-01, 9.59844921e-02, 9.59844921e-02,\n",
       "         1.43316405e-01, 1.43316405e-01, 8.93224040e-01, 8.93224040e-01,\n",
       "         2.49013564e-01, 2.49013564e-01, 4.17713784e-01, 4.17713784e-01])}}"
      ]
     },
     "execution_count": 11,
     "metadata": {},
     "output_type": "execute_result"
    }
   ],
   "source": [
    "ds = load_by_id(run_id_n)\n",
    "ds.get_parameter_data('x1')"
   ]
  },
  {
   "cell_type": "markdown",
   "metadata": {},
   "source": [
    "And a dataset stored as binary arrays"
   ]
  },
  {
   "cell_type": "code",
   "execution_count": 12,
   "metadata": {
    "scrolled": true
   },
   "outputs": [
    {
     "data": {
      "text/plain": [
       "{'x1': {'x1': array([[0.25102493],\n",
       "         [0.25102493],\n",
       "         [0.37806388],\n",
       "         [0.37806388],\n",
       "         [0.7946755 ],\n",
       "         [0.7946755 ],\n",
       "         [0.14127659],\n",
       "         [0.14127659],\n",
       "         [0.47957996],\n",
       "         [0.47957996],\n",
       "         [0.76401925],\n",
       "         [0.76401925],\n",
       "         [0.35071446],\n",
       "         [0.35071446],\n",
       "         [0.83845611],\n",
       "         [0.83845611],\n",
       "         [0.27061456],\n",
       "         [0.27061456],\n",
       "         [0.5901878 ],\n",
       "         [0.5901878 ],\n",
       "         [0.80002219],\n",
       "         [0.80002219],\n",
       "         [0.47991449],\n",
       "         [0.47991449],\n",
       "         [0.14997208],\n",
       "         [0.14997208],\n",
       "         [0.49282193],\n",
       "         [0.49282193],\n",
       "         [0.37227783],\n",
       "         [0.37227783],\n",
       "         [0.86863175],\n",
       "         [0.86863175],\n",
       "         [0.91221406],\n",
       "         [0.91221406],\n",
       "         [0.28672272],\n",
       "         [0.28672272],\n",
       "         [0.46511265],\n",
       "         [0.46511265],\n",
       "         [0.23117876],\n",
       "         [0.23117876],\n",
       "         [0.13990136],\n",
       "         [0.13990136],\n",
       "         [0.10770159],\n",
       "         [0.10770159],\n",
       "         [0.83899424],\n",
       "         [0.83899424],\n",
       "         [0.66968819],\n",
       "         [0.66968819],\n",
       "         [0.37161312],\n",
       "         [0.37161312],\n",
       "         [0.10371157],\n",
       "         [0.10371157],\n",
       "         [0.12838233],\n",
       "         [0.12838233],\n",
       "         [0.95934575],\n",
       "         [0.95934575],\n",
       "         [0.40600158],\n",
       "         [0.40600158],\n",
       "         [0.29165006],\n",
       "         [0.29165006],\n",
       "         [0.67315418],\n",
       "         [0.67315418],\n",
       "         [0.32256916],\n",
       "         [0.32256916],\n",
       "         [0.38353714],\n",
       "         [0.38353714],\n",
       "         [0.72856634],\n",
       "         [0.72856634],\n",
       "         [0.76535522],\n",
       "         [0.76535522],\n",
       "         [0.89101068],\n",
       "         [0.89101068],\n",
       "         [0.49857567],\n",
       "         [0.49857567],\n",
       "         [0.89015699],\n",
       "         [0.89015699],\n",
       "         [0.96665683],\n",
       "         [0.96665683],\n",
       "         [0.23135845],\n",
       "         [0.23135845],\n",
       "         [0.25839486],\n",
       "         [0.25839486],\n",
       "         [0.05250545],\n",
       "         [0.05250545],\n",
       "         [0.82566155],\n",
       "         [0.82566155],\n",
       "         [0.57759103],\n",
       "         [0.57759103],\n",
       "         [0.22856096],\n",
       "         [0.22856096],\n",
       "         [0.92275374],\n",
       "         [0.92275374],\n",
       "         [0.03522555],\n",
       "         [0.03522555],\n",
       "         [0.3333223 ],\n",
       "         [0.3333223 ],\n",
       "         [0.02608317],\n",
       "         [0.02608317],\n",
       "         [0.97809569],\n",
       "         [0.97809569],\n",
       "         [0.73107508],\n",
       "         [0.73107508],\n",
       "         [0.8207389 ],\n",
       "         [0.8207389 ],\n",
       "         [0.15697256],\n",
       "         [0.15697256],\n",
       "         [0.23974487],\n",
       "         [0.23974487],\n",
       "         [0.81609053],\n",
       "         [0.81609053],\n",
       "         [0.92704048],\n",
       "         [0.92704048],\n",
       "         [0.80334642],\n",
       "         [0.80334642],\n",
       "         [0.02337023],\n",
       "         [0.02337023],\n",
       "         [0.37052551],\n",
       "         [0.37052551],\n",
       "         [0.98476196],\n",
       "         [0.98476196],\n",
       "         [0.59057226],\n",
       "         [0.59057226],\n",
       "         [0.91959885],\n",
       "         [0.91959885],\n",
       "         [0.71609712],\n",
       "         [0.71609712],\n",
       "         [0.82520658],\n",
       "         [0.82520658],\n",
       "         [0.43215606],\n",
       "         [0.43215606],\n",
       "         [0.575816  ],\n",
       "         [0.575816  ],\n",
       "         [0.27258736],\n",
       "         [0.27258736],\n",
       "         [0.98704483],\n",
       "         [0.98704483],\n",
       "         [0.42949725],\n",
       "         [0.42949725],\n",
       "         [0.75800412],\n",
       "         [0.75800412],\n",
       "         [0.1796316 ],\n",
       "         [0.1796316 ],\n",
       "         [0.37529688],\n",
       "         [0.37529688],\n",
       "         [0.50828356],\n",
       "         [0.50828356],\n",
       "         [0.90370368],\n",
       "         [0.90370368],\n",
       "         [0.89055922],\n",
       "         [0.89055922],\n",
       "         [0.32652741],\n",
       "         [0.32652741],\n",
       "         [0.79241185],\n",
       "         [0.79241185],\n",
       "         [0.46627237],\n",
       "         [0.46627237],\n",
       "         [0.59352622],\n",
       "         [0.59352622],\n",
       "         [0.97324327],\n",
       "         [0.97324327],\n",
       "         [0.52787437],\n",
       "         [0.52787437],\n",
       "         [0.39136603],\n",
       "         [0.39136603],\n",
       "         [0.1613179 ],\n",
       "         [0.1613179 ],\n",
       "         [0.36177196],\n",
       "         [0.36177196],\n",
       "         [0.5886103 ],\n",
       "         [0.5886103 ],\n",
       "         [0.26507571],\n",
       "         [0.26507571],\n",
       "         [0.74959556],\n",
       "         [0.74959556],\n",
       "         [0.18064403],\n",
       "         [0.18064403],\n",
       "         [0.02646619],\n",
       "         [0.02646619],\n",
       "         [0.61405354],\n",
       "         [0.61405354],\n",
       "         [0.23119951],\n",
       "         [0.23119951],\n",
       "         [0.65953216],\n",
       "         [0.65953216],\n",
       "         [0.54029183],\n",
       "         [0.54029183],\n",
       "         [0.59992612],\n",
       "         [0.59992612],\n",
       "         [0.35392826],\n",
       "         [0.35392826],\n",
       "         [0.19023659],\n",
       "         [0.19023659],\n",
       "         [0.81306993],\n",
       "         [0.81306993],\n",
       "         [0.18338073],\n",
       "         [0.18338073],\n",
       "         [0.31762677],\n",
       "         [0.31762677],\n",
       "         [0.99902466],\n",
       "         [0.99902466]])}}"
      ]
     },
     "execution_count": 12,
     "metadata": {},
     "output_type": "execute_result"
    }
   ],
   "source": [
    "ds = load_by_id(run_id_a)\n",
    "ds.get_parameter_data('x1')"
   ]
  },
  {
   "cell_type": "code",
   "execution_count": null,
   "metadata": {},
   "outputs": [],
   "source": []
  }
 ],
 "metadata": {
  "kernelspec": {
   "display_name": "Python 3",
   "language": "python",
   "name": "python3"
  },
  "language_info": {
   "codemirror_mode": {
    "name": "ipython",
    "version": 3
   },
   "file_extension": ".py",
   "mimetype": "text/x-python",
   "name": "python",
   "nbconvert_exporter": "python",
   "pygments_lexer": "ipython3",
   "version": "3.7.7"
  },
  "nbsphinx": {
   "timeout": 600
  },
  "toc": {
   "base_numbering": 1,
   "nav_menu": {},
   "number_sections": true,
   "sideBar": true,
   "skip_h1_title": false,
   "title_cell": "Table of Contents",
   "title_sidebar": "Contents",
   "toc_cell": false,
   "toc_position": {},
   "toc_section_display": true,
   "toc_window_display": false
  },
  "varInspector": {
   "cols": {
    "lenName": 16,
    "lenType": 16,
    "lenVar": 40
   },
   "kernels_config": {
    "python": {
     "delete_cmd_postfix": "",
     "delete_cmd_prefix": "del ",
     "library": "var_list.py",
     "varRefreshCmd": "print(var_dic_list())"
    },
    "r": {
     "delete_cmd_postfix": ") ",
     "delete_cmd_prefix": "rm(",
     "library": "var_list.r",
     "varRefreshCmd": "cat(var_dic_list()) "
    }
   },
   "types_to_exclude": [
    "module",
    "function",
    "builtin_function_or_method",
    "instance",
    "_Feature"
   ],
   "window_display": false
  }
 },
 "nbformat": 4,
 "nbformat_minor": 2
}
