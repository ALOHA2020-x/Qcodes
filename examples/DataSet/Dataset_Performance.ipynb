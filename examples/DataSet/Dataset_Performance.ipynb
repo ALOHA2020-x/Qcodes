{
 "cells": [
  {
   "cell_type": "markdown",
   "metadata": {},
   "source": [
    "# DataSet Performance\n",
    "\n",
    "This notebook shows the trade-off between inserting data into a database row-by-row and as binary blobs. Inserting the data row-by-row means that we have direct access to all the data and may perform queries directly on the values of the data. On the other hand, as we shall see, this is much slower than inserting the data directly as binary blobs."
   ]
  },
  {
   "cell_type": "markdown",
   "metadata": {},
   "source": [
    "First, we choose a new location for the database to ensure that we don't add a bunch of benchmarking data to the default one."
   ]
  },
  {
   "cell_type": "code",
   "execution_count": 1,
   "metadata": {
    "execution": {
     "iopub.execute_input": "2021-01-27T13:14:13.532585Z",
     "iopub.status.busy": "2021-01-27T13:14:13.531858Z",
     "iopub.status.idle": "2021-01-27T13:14:14.704859Z",
     "shell.execute_reply": "2021-01-27T13:14:14.705358Z"
    }
   },
   "outputs": [
    {
     "name": "stdout",
     "output_type": "stream",
     "text": [
      "Logging hadn't been started.\n",
      "Activating auto-logging. Current session state plus future input saved.\n",
      "Filename       : /home/vsts/.qcodes/logs/command_history.log\n",
      "Mode           : append\n",
      "Output logging : True\n",
      "Raw input log  : False\n",
      "Timestamping   : True\n",
      "State          : active\n"
     ]
    },
    {
     "name": "stdout",
     "output_type": "stream",
     "text": [
      "Qcodes Logfile : /home/vsts/.qcodes/logs/210127-13694-qcodes.log\n"
     ]
    }
   ],
   "source": [
    "import os\n",
    "cwd = os.getcwd()\n",
    "import qcodes as qc\n",
    "qc.config[\"core\"][\"db_location\"] = os.path.join(cwd, 'testing.db')\n"
   ]
  },
  {
   "cell_type": "code",
   "execution_count": 2,
   "metadata": {
    "execution": {
     "iopub.execute_input": "2021-01-27T13:14:14.712486Z",
     "iopub.status.busy": "2021-01-27T13:14:14.711870Z",
     "iopub.status.idle": "2021-01-27T13:14:14.922863Z",
     "shell.execute_reply": "2021-01-27T13:14:14.922190Z"
    }
   },
   "outputs": [],
   "source": [
    "%matplotlib inline\n",
    "import time\n",
    "import matplotlib.pyplot as plt\n",
    "import numpy as np\n",
    "\n",
    "import qcodes as qc\n",
    "from qcodes.instrument.parameter import ManualParameter\n",
    "from qcodes.dataset.experiment_container import (Experiment,\n",
    "                                                 load_last_experiment,\n",
    "                                                 new_experiment)\n",
    "from qcodes.dataset.sqlite.database import initialise_database\n",
    "from qcodes import load_or_create_experiment\n",
    "from qcodes.dataset.measurements import Measurement"
   ]
  },
  {
   "cell_type": "code",
   "execution_count": 3,
   "metadata": {
    "execution": {
     "iopub.execute_input": "2021-01-27T13:14:14.927031Z",
     "iopub.status.busy": "2021-01-27T13:14:14.926369Z",
     "iopub.status.idle": "2021-01-27T13:14:15.048072Z",
     "shell.execute_reply": "2021-01-27T13:14:15.047406Z"
    }
   },
   "outputs": [
    {
     "name": "stdout",
     "output_type": "stream",
     "text": [
      "\r",
      "0it [00:00, ?it/s]"
     ]
    },
    {
     "name": "stdout",
     "output_type": "stream",
     "text": [
      "\r",
      "Upgrading database; v0 -> v1: : 0it [00:00, ?it/s]"
     ]
    },
    {
     "name": "stdout",
     "output_type": "stream",
     "text": [
      "\r",
      "Upgrading database; v0 -> v1: : 0it [00:00, ?it/s]"
     ]
    },
    {
     "name": "stdout",
     "output_type": "stream",
     "text": [
      "\n",
      "\r",
      "  0%|          | 0/1 [00:00<?, ?it/s]"
     ]
    },
    {
     "name": "stdout",
     "output_type": "stream",
     "text": [
      "\r",
      "Upgrading database; v1 -> v2:   0%|          | 0/1 [00:00<?, ?it/s]"
     ]
    },
    {
     "name": "stdout",
     "output_type": "stream",
     "text": [
      "\r",
      "Upgrading database; v1 -> v2: 100%|██████████| 1/1 [00:00<00:00, 408.09it/s]"
     ]
    },
    {
     "name": "stdout",
     "output_type": "stream",
     "text": [
      "\n",
      "\r",
      "0it [00:00, ?it/s]"
     ]
    },
    {
     "name": "stdout",
     "output_type": "stream",
     "text": [
      "\r",
      "Upgrading database; v2 -> v3: : 0it [00:00, ?it/s]"
     ]
    },
    {
     "name": "stdout",
     "output_type": "stream",
     "text": [
      "\r",
      "Upgrading database; v2 -> v3: : 0it [00:00, ?it/s]"
     ]
    },
    {
     "name": "stdout",
     "output_type": "stream",
     "text": [
      "\n",
      "\r",
      "0it [00:00, ?it/s]"
     ]
    },
    {
     "name": "stdout",
     "output_type": "stream",
     "text": [
      "\r",
      "Upgrading database; v3 -> v4: : 0it [00:00, ?it/s]"
     ]
    },
    {
     "name": "stdout",
     "output_type": "stream",
     "text": [
      "\r",
      "Upgrading database; v3 -> v4: : 0it [00:00, ?it/s]"
     ]
    },
    {
     "name": "stdout",
     "output_type": "stream",
     "text": [
      "\n",
      "\r",
      "  0%|          | 0/1 [00:00<?, ?it/s]"
     ]
    },
    {
     "name": "stdout",
     "output_type": "stream",
     "text": [
      "\r",
      "Upgrading database; v4 -> v5:   0%|          | 0/1 [00:00<?, ?it/s]"
     ]
    },
    {
     "name": "stdout",
     "output_type": "stream",
     "text": [
      "\r",
      "Upgrading database; v4 -> v5: 100%|██████████| 1/1 [00:00<00:00, 929.38it/s]"
     ]
    },
    {
     "name": "stdout",
     "output_type": "stream",
     "text": [
      "\n",
      "\r",
      "0it [00:00, ?it/s]"
     ]
    },
    {
     "name": "stdout",
     "output_type": "stream",
     "text": [
      "\r",
      "Upgrading database; v5 -> v6: : 0it [00:00, ?it/s]"
     ]
    },
    {
     "name": "stdout",
     "output_type": "stream",
     "text": [
      "\r",
      "Upgrading database; v5 -> v6: : 0it [00:00, ?it/s]"
     ]
    },
    {
     "name": "stdout",
     "output_type": "stream",
     "text": [
      "\n",
      "\r",
      "  0%|          | 0/1 [00:00<?, ?it/s]"
     ]
    },
    {
     "name": "stdout",
     "output_type": "stream",
     "text": [
      "\r",
      "Upgrading database; v6 -> v7:   0%|          | 0/1 [00:00<?, ?it/s]"
     ]
    },
    {
     "name": "stdout",
     "output_type": "stream",
     "text": [
      "\r",
      "Upgrading database; v6 -> v7: 100%|██████████| 1/1 [00:00<00:00, 401.83it/s]"
     ]
    },
    {
     "name": "stdout",
     "output_type": "stream",
     "text": [
      "\n",
      "\r",
      "  0%|          | 0/1 [00:00<?, ?it/s]"
     ]
    },
    {
     "name": "stdout",
     "output_type": "stream",
     "text": [
      "\r",
      "Upgrading database; v7 -> v8:   0%|          | 0/1 [00:00<?, ?it/s]"
     ]
    },
    {
     "name": "stdout",
     "output_type": "stream",
     "text": [
      "\r",
      "Upgrading database; v7 -> v8: 100%|██████████| 1/1 [00:00<00:00, 347.18it/s]"
     ]
    },
    {
     "name": "stdout",
     "output_type": "stream",
     "text": [
      "\n",
      "\r",
      "  0%|          | 0/1 [00:00<?, ?it/s]"
     ]
    },
    {
     "name": "stdout",
     "output_type": "stream",
     "text": [
      "\r",
      "Upgrading database; v8 -> v9:   0%|          | 0/1 [00:00<?, ?it/s]"
     ]
    },
    {
     "name": "stdout",
     "output_type": "stream",
     "text": [
      "\r",
      "Upgrading database; v8 -> v9: 100%|██████████| 1/1 [00:00<00:00, 273.87it/s]"
     ]
    },
    {
     "name": "stdout",
     "output_type": "stream",
     "text": [
      "\n"
     ]
    }
   ],
   "source": [
    "initialise_database()\n",
    "exp = load_or_create_experiment(experiment_name='tutorial_exp', sample_name=\"no sample\")"
   ]
  },
  {
   "cell_type": "markdown",
   "metadata": {},
   "source": [
    "Here, we define a simple function to benchmark the time it takes to insert n points with either numeric or array data type.\n",
    "We will compare both the time used to call ``add_result`` and the time used for the full measurement."
   ]
  },
  {
   "cell_type": "code",
   "execution_count": 4,
   "metadata": {
    "execution": {
     "iopub.execute_input": "2021-01-27T13:14:15.057544Z",
     "iopub.status.busy": "2021-01-27T13:14:15.056846Z",
     "iopub.status.idle": "2021-01-27T13:14:15.061402Z",
     "shell.execute_reply": "2021-01-27T13:14:15.060490Z"
    }
   },
   "outputs": [],
   "source": [
    "def insert_data(paramtype, npoints, nreps=1):\n",
    "\n",
    "    meas = Measurement(exp=exp)\n",
    "\n",
    "    x1 = ManualParameter('x1')\n",
    "    x2 = ManualParameter('x2')\n",
    "    x3 = ManualParameter('x3')\n",
    "    y1 = ManualParameter('y1')\n",
    "    y2 = ManualParameter('y2')\n",
    "\n",
    "    meas.register_parameter(x1, paramtype=paramtype)\n",
    "    meas.register_parameter(x2, paramtype=paramtype)\n",
    "    meas.register_parameter(x3, paramtype=paramtype)\n",
    "    meas.register_parameter(y1, setpoints=[x1, x2, x3],\n",
    "                            paramtype=paramtype)\n",
    "    meas.register_parameter(y2, setpoints=[x1, x2, x3],\n",
    "                            paramtype=paramtype)\n",
    "    start = time.perf_counter()\n",
    "    with meas.run() as datasaver:\n",
    "        start_adding = time.perf_counter()\n",
    "        for i in range(nreps):\n",
    "            datasaver.add_result((x1, np.random.rand(npoints)),\n",
    "                                 (x2, np.random.rand(npoints)),\n",
    "                                 (x3, np.random.rand(npoints)),\n",
    "                                 (y1, np.random.rand(npoints)),\n",
    "                                 (y2, np.random.rand(npoints)))\n",
    "        stop_adding = time.perf_counter()\n",
    "        run_id = datasaver.run_id\n",
    "    stop = time.perf_counter()\n",
    "    tot_time = stop - start\n",
    "    add_time = stop_adding - start_adding\n",
    "    return tot_time, add_time, run_id"
   ]
  },
  {
   "cell_type": "markdown",
   "metadata": {},
   "source": [
    "## Comparison between numeric/array data and binary blob"
   ]
  },
  {
   "cell_type": "markdown",
   "metadata": {},
   "source": [
    "### Case1: Short experiment time"
   ]
  },
  {
   "cell_type": "code",
   "execution_count": 5,
   "metadata": {
    "execution": {
     "iopub.execute_input": "2021-01-27T13:14:15.068588Z",
     "iopub.status.busy": "2021-01-27T13:14:15.067460Z",
     "iopub.status.idle": "2021-01-27T13:14:15.959408Z",
     "shell.execute_reply": "2021-01-27T13:14:15.958586Z"
    }
   },
   "outputs": [
    {
     "name": "stdout",
     "output_type": "stream",
     "text": [
      "Starting experimental run with id: 1. \n",
      "Starting experimental run with id: 2. \n",
      "Starting experimental run with id: 3. \n",
      "Starting experimental run with id: 4. \n"
     ]
    },
    {
     "name": "stdout",
     "output_type": "stream",
     "text": [
      "Starting experimental run with id: 5. "
     ]
    },
    {
     "name": "stdout",
     "output_type": "stream",
     "text": [
      "\n"
     ]
    },
    {
     "name": "stdout",
     "output_type": "stream",
     "text": [
      "Starting experimental run with id: 6. \n"
     ]
    },
    {
     "name": "stdout",
     "output_type": "stream",
     "text": [
      "Starting experimental run with id: 7. \n"
     ]
    },
    {
     "name": "stdout",
     "output_type": "stream",
     "text": [
      "Starting experimental run with id: 8. \n",
      "Starting experimental run with id: 9. \n"
     ]
    },
    {
     "name": "stdout",
     "output_type": "stream",
     "text": [
      "Starting experimental run with id: 10. \n",
      "Starting experimental run with id: 11. \n"
     ]
    },
    {
     "name": "stdout",
     "output_type": "stream",
     "text": [
      "Starting experimental run with id: 12. \n"
     ]
    },
    {
     "name": "stdout",
     "output_type": "stream",
     "text": [
      "Starting experimental run with id: 13. \n"
     ]
    },
    {
     "name": "stdout",
     "output_type": "stream",
     "text": [
      "Starting experimental run with id: 14. \n"
     ]
    }
   ],
   "source": [
    "sizes = [1,500,1000,2000,3000,4000,5000]\n",
    "t_numeric = []\n",
    "t_numeric_add = []\n",
    "t_array = []\n",
    "t_array_add = []\n",
    "for size in sizes:\n",
    "    tn, tna, run_id_n =  insert_data('numeric', size)\n",
    "    t_numeric.append(tn)\n",
    "    t_numeric_add.append(tna)\n",
    "\n",
    "    ta, taa, run_id_a =  insert_data('array', size)\n",
    "    t_array.append(ta)\n",
    "    t_array_add.append(taa)"
   ]
  },
  {
   "cell_type": "code",
   "execution_count": 6,
   "metadata": {
    "execution": {
     "iopub.execute_input": "2021-01-27T13:14:15.977994Z",
     "iopub.status.busy": "2021-01-27T13:14:15.965123Z",
     "iopub.status.idle": "2021-01-27T13:14:16.200896Z",
     "shell.execute_reply": "2021-01-27T13:14:16.200028Z"
    }
   },
   "outputs": [
    {
     "data": {
      "image/png": "[encoded data removed]",
      "text/plain": [
       "<Figure size 432x288 with 1 Axes>"
      ]
     },
     "metadata": {
      "needs_background": "light"
     },
     "output_type": "display_data"
    }
   ],
   "source": [
    "fig, ax = plt.subplots(1,1)\n",
    "ax.plot(sizes, t_numeric, 'o-', label='Inserting row-by-row')\n",
    "ax.plot(sizes, t_numeric_add, 'o-', label='Inserting row-by-row: add_result only')\n",
    "ax.plot(sizes, t_array, 'd-', label='Inserting as binary blob')\n",
    "ax.plot(sizes, t_array_add, 'd-', label='Inserting as binary blob: add_result only')\n",
    "ax.legend()\n",
    "ax.set_xlabel('Array length')\n",
    "ax.set_ylabel('Time (s)')\n",
    "fig.tight_layout()"
   ]
  },
  {
   "cell_type": "markdown",
   "metadata": {},
   "source": [
    "As shown in the latter figure, the time to setup and and close the experiment is approximately 0.4 sec. In case of small array sizes, the difference between inserting values of data as arrays and inserting them row-by-row is relatively unimportant. At larger array sizes, i.e. above 10000 points, the cost of writing data as individual datapoints starts to become important.\n"
   ]
  },
  {
   "cell_type": "markdown",
   "metadata": {},
   "source": [
    "### Case2: Long experiment time "
   ]
  },
  {
   "cell_type": "code",
   "execution_count": 7,
   "metadata": {
    "execution": {
     "iopub.execute_input": "2021-01-27T13:14:16.208211Z",
     "iopub.status.busy": "2021-01-27T13:14:16.205859Z",
     "iopub.status.idle": "2021-01-27T13:15:17.426884Z",
     "shell.execute_reply": "2021-01-27T13:15:17.427539Z"
    }
   },
   "outputs": [
    {
     "name": "stdout",
     "output_type": "stream",
     "text": [
      "Starting experimental run with id: 15. \n",
      "Starting experimental run with id: 16. \n",
      "Starting experimental run with id: 17. \n"
     ]
    },
    {
     "name": "stdout",
     "output_type": "stream",
     "text": [
      "Starting experimental run with id: 18. \n",
      "Starting experimental run with id: 19. \n"
     ]
    },
    {
     "name": "stdout",
     "output_type": "stream",
     "text": [
      "Starting experimental run with id: 20. \n"
     ]
    },
    {
     "name": "stdout",
     "output_type": "stream",
     "text": [
      "Starting experimental run with id: 21. \n"
     ]
    },
    {
     "name": "stdout",
     "output_type": "stream",
     "text": [
      "Starting experimental run with id: 22. \n"
     ]
    },
    {
     "name": "stdout",
     "output_type": "stream",
     "text": [
      "Starting experimental run with id: 23. \n"
     ]
    },
    {
     "name": "stdout",
     "output_type": "stream",
     "text": [
      "Starting experimental run with id: 24. \n"
     ]
    },
    {
     "name": "stdout",
     "output_type": "stream",
     "text": [
      "Starting experimental run with id: 25. \n"
     ]
    },
    {
     "name": "stdout",
     "output_type": "stream",
     "text": [
      "Starting experimental run with id: 26. \n"
     ]
    },
    {
     "name": "stdout",
     "output_type": "stream",
     "text": [
      "Starting experimental run with id: 27. \n"
     ]
    },
    {
     "name": "stdout",
     "output_type": "stream",
     "text": [
      "Starting experimental run with id: 28. \n"
     ]
    }
   ],
   "source": [
    "sizes = [1,500,1000,2000,3000,4000,5000]\n",
    "nreps = 100\n",
    "t_numeric = []\n",
    "t_numeric_add = []\n",
    "t_numeric_run_ids = []\n",
    "t_array = []\n",
    "t_array_add = []\n",
    "t_array_run_ids = []\n",
    "for size in sizes:\n",
    "    tn, tna, run_id_n =  insert_data('numeric', size, nreps=nreps)\n",
    "    t_numeric.append(tn)\n",
    "    t_numeric_add.append(tna)\n",
    "    t_numeric_run_ids.append(run_id_n)\n",
    "\n",
    "    ta, taa, run_id_a =  insert_data('array', size, nreps=nreps)\n",
    "    t_array.append(ta)\n",
    "    t_array_add.append(taa)\n",
    "    t_array_run_ids.append(run_id_a)"
   ]
  },
  {
   "cell_type": "code",
   "execution_count": 8,
   "metadata": {
    "execution": {
     "iopub.execute_input": "2021-01-27T13:15:17.458712Z",
     "iopub.status.busy": "2021-01-27T13:15:17.453863Z",
     "iopub.status.idle": "2021-01-27T13:15:17.682295Z",
     "shell.execute_reply": "2021-01-27T13:15:17.682835Z"
    },
    "scrolled": true
   },
   "outputs": [
    {
     "data": {
      "image/png": "[encoded data removed]",
      "text/plain": [
       "<Figure size 432x288 with 1 Axes>"
      ]
     },
     "metadata": {
      "needs_background": "light"
     },
     "output_type": "display_data"
    }
   ],
   "source": [
    "fig, ax = plt.subplots(1,1)\n",
    "ax.plot(sizes, t_numeric, 'o-', label='Inserting row-by-row')\n",
    "ax.plot(sizes, t_numeric_add, 'o-', label='Inserting row-by-row: add_result only')\n",
    "ax.plot(sizes, t_array, 'd-', label='Inserting as binary blob')\n",
    "ax.plot(sizes, t_array_add, 'd-', label='Inserting as binary blob: add_result only')\n",
    "ax.legend()\n",
    "ax.set_xlabel('Array length')\n",
    "ax.set_ylabel('Time (s)')\n",
    "fig.tight_layout()"
   ]
  },
  {
   "cell_type": "markdown",
   "metadata": {},
   "source": [
    "However, as we increase the length of the experiment, as seen here by repeating the insertion 100 times, we see a big difference between inserting values of the data row-by-row and inserting it as a binary blob."
   ]
  },
  {
   "cell_type": "markdown",
   "metadata": {},
   "source": [
    "## Loading the data "
   ]
  },
  {
   "cell_type": "code",
   "execution_count": 9,
   "metadata": {
    "execution": {
     "iopub.execute_input": "2021-01-27T13:15:17.688169Z",
     "iopub.status.busy": "2021-01-27T13:15:17.686885Z",
     "iopub.status.idle": "2021-01-27T13:15:17.691092Z",
     "shell.execute_reply": "2021-01-27T13:15:17.690539Z"
    }
   },
   "outputs": [],
   "source": [
    "from qcodes.dataset.data_set import load_by_id\n",
    "from qcodes.dataset.data_export import get_data_by_id"
   ]
  },
  {
   "cell_type": "markdown",
   "metadata": {},
   "source": [
    "As usual you can load the data by using the ``load_by_id`` function but you will notice that the different storage methods\n",
    "are reflected in shape of the data as it is retrieved. "
   ]
  },
  {
   "cell_type": "code",
   "execution_count": 10,
   "metadata": {
    "execution": {
     "iopub.execute_input": "2021-01-27T13:15:17.695102Z",
     "iopub.status.busy": "2021-01-27T13:15:17.694493Z",
     "iopub.status.idle": "2021-01-27T13:15:17.696707Z",
     "shell.execute_reply": "2021-01-27T13:15:17.697317Z"
    }
   },
   "outputs": [],
   "source": [
    "run_id_n = t_numeric_run_ids[0]\n",
    "run_id_a = t_array_run_ids[0]"
   ]
  },
  {
   "cell_type": "code",
   "execution_count": 11,
   "metadata": {
    "execution": {
     "iopub.execute_input": "2021-01-27T13:15:17.700752Z",
     "iopub.status.busy": "2021-01-27T13:15:17.700148Z",
     "iopub.status.idle": "2021-01-27T13:15:17.711939Z",
     "shell.execute_reply": "2021-01-27T13:15:17.711415Z"
    },
    "scrolled": true
   },
   "outputs": [
    {
     "data": {
      "text/plain": [
       "{'x1': {'x1': array([0.72318234, 0.72318234, 0.3027224 , 0.3027224 , 0.2900781 ,\n",
       "         0.2900781 , 0.66184544, 0.66184544, 0.33817661, 0.33817661,\n",
       "         0.79890809, 0.79890809, 0.84133264, 0.84133264, 0.38736792,\n",
       "         0.38736792, 0.55225403, 0.55225403, 0.97415071, 0.97415071,\n",
       "         0.43674447, 0.43674447, 0.28807046, 0.28807046, 0.36118556,\n",
       "         0.36118556, 0.34004401, 0.34004401, 0.87074984, 0.87074984,\n",
       "         0.93969097, 0.93969097, 0.31730919, 0.31730919, 0.73813164,\n",
       "         0.73813164, 0.19963733, 0.19963733, 0.69018826, 0.69018826,\n",
       "         0.81040696, 0.81040696, 0.14562467, 0.14562467, 0.01354258,\n",
       "         0.01354258, 0.51703435, 0.51703435, 0.28167284, 0.28167284,\n",
       "         0.80194793, 0.80194793, 0.29091291, 0.29091291, 0.99946657,\n",
       "         0.99946657, 0.33550359, 0.33550359, 0.4625712 , 0.4625712 ,\n",
       "         0.48242451, 0.48242451, 0.44199056, 0.44199056, 0.39241165,\n",
       "         0.39241165, 0.04913514, 0.04913514, 0.58258809, 0.58258809,\n",
       "         0.90368866, 0.90368866, 0.38123011, 0.38123011, 0.50834115,\n",
       "         0.50834115, 0.23624642, 0.23624642, 0.6631533 , 0.6631533 ,\n",
       "         0.25692791, 0.25692791, 0.05500399, 0.05500399, 0.08916681,\n",
       "         0.08916681, 0.37810247, 0.37810247, 0.89619794, 0.89619794,\n",
       "         0.13615296, 0.13615296, 0.78318285, 0.78318285, 0.26488369,\n",
       "         0.26488369, 0.76849394, 0.76849394, 0.44049141, 0.44049141,\n",
       "         0.8582529 , 0.8582529 , 0.19871385, 0.19871385, 0.80227295,\n",
       "         0.80227295, 0.87345966, 0.87345966, 0.00329954, 0.00329954,\n",
       "         0.97274955, 0.97274955, 0.08341054, 0.08341054, 0.26077111,\n",
       "         0.26077111, 0.26012536, 0.26012536, 0.04919107, 0.04919107,\n",
       "         0.0501526 , 0.0501526 , 0.5195963 , 0.5195963 , 0.17455761,\n",
       "         0.17455761, 0.30341671, 0.30341671, 0.04607255, 0.04607255,\n",
       "         0.26722673, 0.26722673, 0.94789235, 0.94789235, 0.56469572,\n",
       "         0.56469572, 0.19343085, 0.19343085, 0.14624113, 0.14624113,\n",
       "         0.78375938, 0.78375938, 0.14755394, 0.14755394, 0.63937589,\n",
       "         0.63937589, 0.31926784, 0.31926784, 0.91375128, 0.91375128,\n",
       "         0.11702092, 0.11702092, 0.05652836, 0.05652836, 0.83227815,\n",
       "         0.83227815, 0.0953952 , 0.0953952 , 0.15558366, 0.15558366,\n",
       "         0.42393434, 0.42393434, 0.09620138, 0.09620138, 0.96082134,\n",
       "         0.96082134, 0.10421656, 0.10421656, 0.16388774, 0.16388774,\n",
       "         0.46833558, 0.46833558, 0.36458146, 0.36458146, 0.95584489,\n",
       "         0.95584489, 0.78030492, 0.78030492, 0.60131142, 0.60131142,\n",
       "         0.85552475, 0.85552475, 0.84495273, 0.84495273, 0.05966246,\n",
       "         0.05966246, 0.51613761, 0.51613761, 0.57062646, 0.57062646,\n",
       "         0.40351392, 0.40351392, 0.7435002 , 0.7435002 , 0.15635916,\n",
       "         0.15635916, 0.24191498, 0.24191498, 0.52007584, 0.52007584])}}"
      ]
     },
     "execution_count": 1,
     "metadata": {},
     "output_type": "execute_result"
    }
   ],
   "source": [
    "ds = load_by_id(run_id_n)\n",
    "ds.get_parameter_data('x1')"
   ]
  },
  {
   "cell_type": "markdown",
   "metadata": {},
   "source": [
    "And a dataset stored as binary arrays"
   ]
  },
  {
   "cell_type": "code",
   "execution_count": 12,
   "metadata": {
    "execution": {
     "iopub.execute_input": "2021-01-27T13:15:17.716039Z",
     "iopub.status.busy": "2021-01-27T13:15:17.715442Z",
     "iopub.status.idle": "2021-01-27T13:15:17.783879Z",
     "shell.execute_reply": "2021-01-27T13:15:17.784511Z"
    },
    "scrolled": true
   },
   "outputs": [
    {
     "data": {
      "text/plain": [
       "{'x1': {'x1': array([[0.04690151],\n",
       "         [0.04690151],\n",
       "         [0.4689895 ],\n",
       "         [0.4689895 ],\n",
       "         [0.88969556],\n",
       "         [0.88969556],\n",
       "         [0.77276077],\n",
       "         [0.77276077],\n",
       "         [0.63294738],\n",
       "         [0.63294738],\n",
       "         [0.49414578],\n",
       "         [0.49414578],\n",
       "         [0.6575027 ],\n",
       "         [0.6575027 ],\n",
       "         [0.40973073],\n",
       "         [0.40973073],\n",
       "         [0.13164433],\n",
       "         [0.13164433],\n",
       "         [0.23540815],\n",
       "         [0.23540815],\n",
       "         [0.53088313],\n",
       "         [0.53088313],\n",
       "         [0.21333386],\n",
       "         [0.21333386],\n",
       "         [0.19268685],\n",
       "         [0.19268685],\n",
       "         [0.78271767],\n",
       "         [0.78271767],\n",
       "         [0.27579887],\n",
       "         [0.27579887],\n",
       "         [0.49602145],\n",
       "         [0.49602145],\n",
       "         [0.25041877],\n",
       "         [0.25041877],\n",
       "         [0.77728741],\n",
       "         [0.77728741],\n",
       "         [0.10620928],\n",
       "         [0.10620928],\n",
       "         [0.99728306],\n",
       "         [0.99728306],\n",
       "         [0.78374823],\n",
       "         [0.78374823],\n",
       "         [0.36177832],\n",
       "         [0.36177832],\n",
       "         [0.4395854 ],\n",
       "         [0.4395854 ],\n",
       "         [0.81250509],\n",
       "         [0.81250509],\n",
       "         [0.46495799],\n",
       "         [0.46495799],\n",
       "         [0.35186444],\n",
       "         [0.35186444],\n",
       "         [0.94433278],\n",
       "         [0.94433278],\n",
       "         [0.49462409],\n",
       "         [0.49462409],\n",
       "         [0.57907818],\n",
       "         [0.57907818],\n",
       "         [0.89163289],\n",
       "         [0.89163289],\n",
       "         [0.87893596],\n",
       "         [0.87893596],\n",
       "         [0.58992934],\n",
       "         [0.58992934],\n",
       "         [0.31127033],\n",
       "         [0.31127033],\n",
       "         [0.16985987],\n",
       "         [0.16985987],\n",
       "         [0.41964803],\n",
       "         [0.41964803],\n",
       "         [0.06344841],\n",
       "         [0.06344841],\n",
       "         [0.71684116],\n",
       "         [0.71684116],\n",
       "         [0.36735817],\n",
       "         [0.36735817],\n",
       "         [0.29572623],\n",
       "         [0.29572623],\n",
       "         [0.4215131 ],\n",
       "         [0.4215131 ],\n",
       "         [0.87599449],\n",
       "         [0.87599449],\n",
       "         [0.27860101],\n",
       "         [0.27860101],\n",
       "         [0.28094851],\n",
       "         [0.28094851],\n",
       "         [0.45203407],\n",
       "         [0.45203407],\n",
       "         [0.73959757],\n",
       "         [0.73959757],\n",
       "         [0.89527571],\n",
       "         [0.89527571],\n",
       "         [0.84154021],\n",
       "         [0.84154021],\n",
       "         [0.79659272],\n",
       "         [0.79659272],\n",
       "         [0.65599037],\n",
       "         [0.65599037],\n",
       "         [0.03748954],\n",
       "         [0.03748954],\n",
       "         [0.74166831],\n",
       "         [0.74166831],\n",
       "         [0.12152635],\n",
       "         [0.12152635],\n",
       "         [0.39062743],\n",
       "         [0.39062743],\n",
       "         [0.44529651],\n",
       "         [0.44529651],\n",
       "         [0.29004195],\n",
       "         [0.29004195],\n",
       "         [0.0053134 ],\n",
       "         [0.0053134 ],\n",
       "         [0.94094794],\n",
       "         [0.94094794],\n",
       "         [0.07045392],\n",
       "         [0.07045392],\n",
       "         [0.22899224],\n",
       "         [0.22899224],\n",
       "         [0.74503749],\n",
       "         [0.74503749],\n",
       "         [0.61172737],\n",
       "         [0.61172737],\n",
       "         [0.61370884],\n",
       "         [0.61370884],\n",
       "         [0.08839739],\n",
       "         [0.08839739],\n",
       "         [0.85063467],\n",
       "         [0.85063467],\n",
       "         [0.74916916],\n",
       "         [0.74916916],\n",
       "         [0.35014558],\n",
       "         [0.35014558],\n",
       "         [0.05290286],\n",
       "         [0.05290286],\n",
       "         [0.03265199],\n",
       "         [0.03265199],\n",
       "         [0.87397012],\n",
       "         [0.87397012],\n",
       "         [0.9432485 ],\n",
       "         [0.9432485 ],\n",
       "         [0.11185121],\n",
       "         [0.11185121],\n",
       "         [0.22006925],\n",
       "         [0.22006925],\n",
       "         [0.6943128 ],\n",
       "         [0.6943128 ],\n",
       "         [0.13797649],\n",
       "         [0.13797649],\n",
       "         [0.59843423],\n",
       "         [0.59843423],\n",
       "         [0.7892727 ],\n",
       "         [0.7892727 ],\n",
       "         [0.05572643],\n",
       "         [0.05572643],\n",
       "         [0.25185669],\n",
       "         [0.25185669],\n",
       "         [0.16237268],\n",
       "         [0.16237268],\n",
       "         [0.03612498],\n",
       "         [0.03612498],\n",
       "         [0.5496179 ],\n",
       "         [0.5496179 ],\n",
       "         [0.73046097],\n",
       "         [0.73046097],\n",
       "         [0.05999318],\n",
       "         [0.05999318],\n",
       "         [0.52233691],\n",
       "         [0.52233691],\n",
       "         [0.47891064],\n",
       "         [0.47891064],\n",
       "         [0.16328296],\n",
       "         [0.16328296],\n",
       "         [0.69988353],\n",
       "         [0.69988353],\n",
       "         [0.35714035],\n",
       "         [0.35714035],\n",
       "         [0.73157541],\n",
       "         [0.73157541],\n",
       "         [0.87658199],\n",
       "         [0.87658199],\n",
       "         [0.49167933],\n",
       "         [0.49167933],\n",
       "         [0.03492498],\n",
       "         [0.03492498],\n",
       "         [0.96466774],\n",
       "         [0.96466774],\n",
       "         [0.01520308],\n",
       "         [0.01520308],\n",
       "         [0.49540251],\n",
       "         [0.49540251],\n",
       "         [0.52144686],\n",
       "         [0.52144686],\n",
       "         [0.02459632],\n",
       "         [0.02459632],\n",
       "         [0.02606205],\n",
       "         [0.02606205],\n",
       "         [0.06669168],\n",
       "         [0.06669168],\n",
       "         [0.25954446],\n",
       "         [0.25954446]])}}"
      ]
     },
     "execution_count": 1,
     "metadata": {},
     "output_type": "execute_result"
    }
   ],
   "source": [
    "ds = load_by_id(run_id_a)\n",
    "ds.get_parameter_data('x1')"
   ]
  },
  {
   "cell_type": "code",
   "execution_count": null,
   "metadata": {},
   "outputs": [],
   "source": []
  }
 ],
 "metadata": {
  "kernelspec": {
   "display_name": "Python 3",
   "language": "python",
   "name": "python3"
  },
  "language_info": {
   "codemirror_mode": {
    "name": "ipython",
    "version": 3
   },
   "file_extension": ".py",
   "mimetype": "text/x-python",
   "name": "python",
   "nbconvert_exporter": "python",
   "pygments_lexer": "ipython3",
   "version": "3.7.9"
  },
  "nbsphinx": {
   "timeout": 600
  },
  "toc": {
   "base_numbering": 1,
   "nav_menu": {},
   "number_sections": true,
   "sideBar": true,
   "skip_h1_title": false,
   "title_cell": "Table of Contents",
   "title_sidebar": "Contents",
   "toc_cell": false,
   "toc_position": {},
   "toc_section_display": true,
   "toc_window_display": false
  },
  "varInspector": {
   "cols": {
    "lenName": 16,
    "lenType": 16,
    "lenVar": 40
   },
   "kernels_config": {
    "python": {
     "delete_cmd_postfix": "",
     "delete_cmd_prefix": "del ",
     "library": "var_list.py",
     "varRefreshCmd": "print(var_dic_list())"
    },
    "r": {
     "delete_cmd_postfix": ") ",
     "delete_cmd_prefix": "rm(",
     "library": "var_list.r",
     "varRefreshCmd": "cat(var_dic_list()) "
    }
   },
   "types_to_exclude": [
    "module",
    "function",
    "builtin_function_or_method",
    "instance",
    "_Feature"
   ],
   "window_display": false
  }
 },
 "nbformat": 4,
 "nbformat_minor": 2
}
