{
 "cells": [
  {
   "cell_type": "markdown",
   "metadata": {},
   "source": [
    "# DataSet Performance\n",
    "\n",
    "This notebook shows the trade-off between inserting data into a database row-by-row and as binary blobs. Inserting the data row-by-row means that we have direct access to all the data and may perform queries directly on the values of the data. On the other hand, as we shall see, this is much slower than inserting the data directly as binary blobs."
   ]
  },
  {
   "cell_type": "markdown",
   "metadata": {},
   "source": [
    "First, we choose a new location for the database to ensure that we don't add a bunch of benchmarking data to the default one."
   ]
  },
  {
   "cell_type": "code",
   "execution_count": 1,
   "metadata": {
    "execution": {
     "iopub.execute_input": "2021-05-25T10:40:06.239232Z",
     "iopub.status.busy": "2021-05-25T10:40:06.238703Z",
     "iopub.status.idle": "2021-05-25T10:40:07.459519Z",
     "shell.execute_reply": "2021-05-25T10:40:07.458840Z"
    }
   },
   "outputs": [
    {
     "name": "stdout",
     "output_type": "stream",
     "text": [
      "Logging hadn't been started.\n",
      "Activating auto-logging. Current session state plus future input saved.\n",
      "Filename       : /home/runner/.qcodes/logs/command_history.log\n",
      "Mode           : append\n",
      "Output logging : True\n",
      "Raw input log  : False\n",
      "Timestamping   : True\n",
      "State          : active\n"
     ]
    },
    {
     "name": "stdout",
     "output_type": "stream",
     "text": [
      "Qcodes Logfile : /home/runner/.qcodes/logs/210525-4570-qcodes.log\n"
     ]
    }
   ],
   "source": [
    "import os\n",
    "cwd = os.getcwd()\n",
    "import qcodes as qc\n",
    "qc.config[\"core\"][\"db_location\"] = os.path.join(cwd, 'testing.db')\n"
   ]
  },
  {
   "cell_type": "code",
   "execution_count": 2,
   "metadata": {
    "execution": {
     "iopub.execute_input": "2021-05-25T10:40:07.467376Z",
     "iopub.status.busy": "2021-05-25T10:40:07.466179Z",
     "iopub.status.idle": "2021-05-25T10:40:07.680010Z",
     "shell.execute_reply": "2021-05-25T10:40:07.679453Z"
    }
   },
   "outputs": [],
   "source": [
    "%matplotlib inline\n",
    "import time\n",
    "import matplotlib.pyplot as plt\n",
    "import numpy as np\n",
    "\n",
    "import qcodes as qc\n",
    "from qcodes.instrument.parameter import ManualParameter\n",
    "from qcodes.dataset.experiment_container import (Experiment,\n",
    "                                                 load_last_experiment,\n",
    "                                                 new_experiment)\n",
    "from qcodes.dataset.sqlite.database import initialise_database\n",
    "from qcodes import load_or_create_experiment\n",
    "from qcodes.dataset.measurements import Measurement"
   ]
  },
  {
   "cell_type": "code",
   "execution_count": 3,
   "metadata": {
    "execution": {
     "iopub.execute_input": "2021-05-25T10:40:07.684180Z",
     "iopub.status.busy": "2021-05-25T10:40:07.683479Z",
     "iopub.status.idle": "2021-05-25T10:40:07.768756Z",
     "shell.execute_reply": "2021-05-25T10:40:07.768133Z"
    }
   },
   "outputs": [
    {
     "name": "stdout",
     "output_type": "stream",
     "text": [
      "\r",
      "0it [00:00, ?it/s]"
     ]
    },
    {
     "name": "stdout",
     "output_type": "stream",
     "text": [
      "\r",
      "Upgrading database; v0 -> v1: : 0it [00:00, ?it/s]"
     ]
    },
    {
     "name": "stdout",
     "output_type": "stream",
     "text": [
      "\r",
      "Upgrading database; v0 -> v1: : 0it [00:00, ?it/s]"
     ]
    },
    {
     "name": "stdout",
     "output_type": "stream",
     "text": [
      "\n",
      "\r",
      "  0%|          | 0/1 [00:00<?, ?it/s]"
     ]
    },
    {
     "name": "stdout",
     "output_type": "stream",
     "text": [
      "\r",
      "Upgrading database; v1 -> v2:   0%|          | 0/1 [00:00<?, ?it/s]"
     ]
    },
    {
     "name": "stdout",
     "output_type": "stream",
     "text": [
      "\r",
      "Upgrading database; v1 -> v2: 100%|██████████| 1/1 [00:00<00:00, 584.90it/s]"
     ]
    },
    {
     "name": "stdout",
     "output_type": "stream",
     "text": [
      "\n",
      "\r",
      "0it [00:00, ?it/s]"
     ]
    },
    {
     "name": "stdout",
     "output_type": "stream",
     "text": [
      "\r",
      "Upgrading database; v2 -> v3: : 0it [00:00, ?it/s]"
     ]
    },
    {
     "name": "stdout",
     "output_type": "stream",
     "text": [
      "\r",
      "Upgrading database; v2 -> v3: : 0it [00:00, ?it/s]"
     ]
    },
    {
     "name": "stdout",
     "output_type": "stream",
     "text": [
      "\n",
      "\r",
      "0it [00:00, ?it/s]"
     ]
    },
    {
     "name": "stdout",
     "output_type": "stream",
     "text": [
      "\r",
      "Upgrading database; v3 -> v4: : 0it [00:00, ?it/s]"
     ]
    },
    {
     "name": "stdout",
     "output_type": "stream",
     "text": [
      "\r",
      "Upgrading database; v3 -> v4: : 0it [00:00, ?it/s]"
     ]
    },
    {
     "name": "stdout",
     "output_type": "stream",
     "text": [
      "\n",
      "\r",
      "  0%|          | 0/1 [00:00<?, ?it/s]"
     ]
    },
    {
     "name": "stdout",
     "output_type": "stream",
     "text": [
      "\r",
      "Upgrading database; v4 -> v5:   0%|          | 0/1 [00:00<?, ?it/s]"
     ]
    },
    {
     "name": "stdout",
     "output_type": "stream",
     "text": [
      "\r",
      "Upgrading database; v4 -> v5: 100%|██████████| 1/1 [00:00<00:00, 523.96it/s]"
     ]
    },
    {
     "name": "stdout",
     "output_type": "stream",
     "text": [
      "\n",
      "\r",
      "0it [00:00, ?it/s]"
     ]
    },
    {
     "name": "stdout",
     "output_type": "stream",
     "text": [
      "\r",
      "Upgrading database; v5 -> v6: : 0it [00:00, ?it/s]"
     ]
    },
    {
     "name": "stdout",
     "output_type": "stream",
     "text": [
      "\r",
      "Upgrading database; v5 -> v6: : 0it [00:00, ?it/s]"
     ]
    },
    {
     "name": "stdout",
     "output_type": "stream",
     "text": [
      "\n",
      "\r",
      "  0%|          | 0/1 [00:00<?, ?it/s]"
     ]
    },
    {
     "name": "stdout",
     "output_type": "stream",
     "text": [
      "\r",
      "Upgrading database; v6 -> v7:   0%|          | 0/1 [00:00<?, ?it/s]"
     ]
    },
    {
     "name": "stdout",
     "output_type": "stream",
     "text": [
      "\r",
      "Upgrading database; v6 -> v7: 100%|██████████| 1/1 [00:00<00:00, 308.27it/s]"
     ]
    },
    {
     "name": "stdout",
     "output_type": "stream",
     "text": [
      "\n",
      "\r",
      "  0%|          | 0/1 [00:00<?, ?it/s]"
     ]
    },
    {
     "name": "stdout",
     "output_type": "stream",
     "text": [
      "\r",
      "Upgrading database; v7 -> v8:   0%|          | 0/1 [00:00<?, ?it/s]"
     ]
    },
    {
     "name": "stdout",
     "output_type": "stream",
     "text": [
      "\r",
      "Upgrading database; v7 -> v8: 100%|██████████| 1/1 [00:00<00:00, 513.00it/s]"
     ]
    },
    {
     "name": "stdout",
     "output_type": "stream",
     "text": [
      "\n",
      "\r",
      "  0%|          | 0/1 [00:00<?, ?it/s]"
     ]
    },
    {
     "name": "stdout",
     "output_type": "stream",
     "text": [
      "\r",
      "Upgrading database; v8 -> v9:   0%|          | 0/1 [00:00<?, ?it/s]"
     ]
    },
    {
     "name": "stdout",
     "output_type": "stream",
     "text": [
      "\r",
      "Upgrading database; v8 -> v9: 100%|██████████| 1/1 [00:00<00:00, 522.26it/s]"
     ]
    },
    {
     "name": "stdout",
     "output_type": "stream",
     "text": [
      "\n"
     ]
    }
   ],
   "source": [
    "initialise_database()\n",
    "exp = load_or_create_experiment(experiment_name='tutorial_exp', sample_name=\"no sample\")"
   ]
  },
  {
   "cell_type": "markdown",
   "metadata": {},
   "source": [
    "Here, we define a simple function to benchmark the time it takes to insert n points with either numeric or array data type.\n",
    "We will compare both the time used to call ``add_result`` and the time used for the full measurement."
   ]
  },
  {
   "cell_type": "code",
   "execution_count": 4,
   "metadata": {
    "execution": {
     "iopub.execute_input": "2021-05-25T10:40:07.778385Z",
     "iopub.status.busy": "2021-05-25T10:40:07.777074Z",
     "iopub.status.idle": "2021-05-25T10:40:07.779148Z",
     "shell.execute_reply": "2021-05-25T10:40:07.779728Z"
    }
   },
   "outputs": [],
   "source": [
    "def insert_data(paramtype, npoints, nreps=1):\n",
    "\n",
    "    meas = Measurement(exp=exp)\n",
    "\n",
    "    x1 = ManualParameter('x1')\n",
    "    x2 = ManualParameter('x2')\n",
    "    x3 = ManualParameter('x3')\n",
    "    y1 = ManualParameter('y1')\n",
    "    y2 = ManualParameter('y2')\n",
    "\n",
    "    meas.register_parameter(x1, paramtype=paramtype)\n",
    "    meas.register_parameter(x2, paramtype=paramtype)\n",
    "    meas.register_parameter(x3, paramtype=paramtype)\n",
    "    meas.register_parameter(y1, setpoints=[x1, x2, x3],\n",
    "                            paramtype=paramtype)\n",
    "    meas.register_parameter(y2, setpoints=[x1, x2, x3],\n",
    "                            paramtype=paramtype)\n",
    "    start = time.perf_counter()\n",
    "    with meas.run() as datasaver:\n",
    "        start_adding = time.perf_counter()\n",
    "        for i in range(nreps):\n",
    "            datasaver.add_result((x1, np.random.rand(npoints)),\n",
    "                                 (x2, np.random.rand(npoints)),\n",
    "                                 (x3, np.random.rand(npoints)),\n",
    "                                 (y1, np.random.rand(npoints)),\n",
    "                                 (y2, np.random.rand(npoints)))\n",
    "        stop_adding = time.perf_counter()\n",
    "        run_id = datasaver.run_id\n",
    "    stop = time.perf_counter()\n",
    "    tot_time = stop - start\n",
    "    add_time = stop_adding - start_adding\n",
    "    return tot_time, add_time, run_id"
   ]
  },
  {
   "cell_type": "markdown",
   "metadata": {},
   "source": [
    "## Comparison between numeric/array data and binary blob"
   ]
  },
  {
   "cell_type": "markdown",
   "metadata": {},
   "source": [
    "### Case1: Short experiment time"
   ]
  },
  {
   "cell_type": "code",
   "execution_count": 5,
   "metadata": {
    "execution": {
     "iopub.execute_input": "2021-05-25T10:40:07.785678Z",
     "iopub.status.busy": "2021-05-25T10:40:07.785087Z",
     "iopub.status.idle": "2021-05-25T10:40:08.710977Z",
     "shell.execute_reply": "2021-05-25T10:40:08.711433Z"
    }
   },
   "outputs": [
    {
     "name": "stdout",
     "output_type": "stream",
     "text": [
      "Starting experimental run with id: 1. \n",
      "Starting experimental run with id: 2. \n",
      "Starting experimental run with id: 3. \n"
     ]
    },
    {
     "name": "stdout",
     "output_type": "stream",
     "text": [
      "Starting experimental run with id: 4. \n"
     ]
    },
    {
     "name": "stdout",
     "output_type": "stream",
     "text": [
      "Starting experimental run with id: 5. \n"
     ]
    },
    {
     "name": "stdout",
     "output_type": "stream",
     "text": [
      "Starting experimental run with id: 6. \n",
      "Starting experimental run with id: 7. \n",
      "Starting experimental run with id: 8. \n"
     ]
    },
    {
     "name": "stdout",
     "output_type": "stream",
     "text": [
      "Starting experimental run with id: 9. \n"
     ]
    },
    {
     "name": "stdout",
     "output_type": "stream",
     "text": [
      "Starting experimental run with id: 10. \n",
      "Starting experimental run with id: 11. \n"
     ]
    },
    {
     "name": "stdout",
     "output_type": "stream",
     "text": [
      "Starting experimental run with id: 12. \n"
     ]
    },
    {
     "name": "stdout",
     "output_type": "stream",
     "text": [
      "Starting experimental run with id: 13. \n"
     ]
    },
    {
     "name": "stdout",
     "output_type": "stream",
     "text": [
      "Starting experimental run with id: 14. \n"
     ]
    }
   ],
   "source": [
    "sizes = [1,500,1000,2000,3000,4000,5000]\n",
    "t_numeric = []\n",
    "t_numeric_add = []\n",
    "t_array = []\n",
    "t_array_add = []\n",
    "for size in sizes:\n",
    "    tn, tna, run_id_n =  insert_data('numeric', size)\n",
    "    t_numeric.append(tn)\n",
    "    t_numeric_add.append(tna)\n",
    "\n",
    "    ta, taa, run_id_a =  insert_data('array', size)\n",
    "    t_array.append(ta)\n",
    "    t_array_add.append(taa)"
   ]
  },
  {
   "cell_type": "code",
   "execution_count": 6,
   "metadata": {
    "execution": {
     "iopub.execute_input": "2021-05-25T10:40:08.749845Z",
     "iopub.status.busy": "2021-05-25T10:40:08.732600Z",
     "iopub.status.idle": "2021-05-25T10:40:09.018768Z",
     "shell.execute_reply": "2021-05-25T10:40:09.019234Z"
    }
   },
   "outputs": [
    {
     "data": {
      "image/png": "[encoded data removed]",
      "text/plain": [
       "<Figure size 432x288 with 1 Axes>"
      ]
     },
     "metadata": {
      "needs_background": "light"
     },
     "output_type": "display_data"
    }
   ],
   "source": [
    "fig, ax = plt.subplots(1,1)\n",
    "ax.plot(sizes, t_numeric, 'o-', label='Inserting row-by-row')\n",
    "ax.plot(sizes, t_numeric_add, 'o-', label='Inserting row-by-row: add_result only')\n",
    "ax.plot(sizes, t_array, 'd-', label='Inserting as binary blob')\n",
    "ax.plot(sizes, t_array_add, 'd-', label='Inserting as binary blob: add_result only')\n",
    "ax.legend()\n",
    "ax.set_xlabel('Array length')\n",
    "ax.set_ylabel('Time (s)')\n",
    "fig.tight_layout()"
   ]
  },
  {
   "cell_type": "markdown",
   "metadata": {},
   "source": [
    "As shown in the latter figure, the time to setup and and close the experiment is approximately 0.4 sec. In case of small array sizes, the difference between inserting values of data as arrays and inserting them row-by-row is relatively unimportant. At larger array sizes, i.e. above 10000 points, the cost of writing data as individual datapoints starts to become important.\n"
   ]
  },
  {
   "cell_type": "markdown",
   "metadata": {},
   "source": [
    "### Case2: Long experiment time "
   ]
  },
  {
   "cell_type": "code",
   "execution_count": 7,
   "metadata": {
    "execution": {
     "iopub.execute_input": "2021-05-25T10:40:09.078108Z",
     "iopub.status.busy": "2021-05-25T10:40:09.077407Z",
     "iopub.status.idle": "2021-05-25T10:41:04.590870Z",
     "shell.execute_reply": "2021-05-25T10:41:04.590372Z"
    }
   },
   "outputs": [
    {
     "name": "stdout",
     "output_type": "stream",
     "text": [
      "Starting experimental run with id: 15. \n",
      "Starting experimental run with id: 16. \n",
      "Starting experimental run with id: 17. \n"
     ]
    },
    {
     "name": "stdout",
     "output_type": "stream",
     "text": [
      "Starting experimental run with id: 18. \n"
     ]
    },
    {
     "name": "stdout",
     "output_type": "stream",
     "text": [
      "Starting experimental run with id: 19. \n"
     ]
    },
    {
     "name": "stdout",
     "output_type": "stream",
     "text": [
      "Starting experimental run with id: 20. \n"
     ]
    },
    {
     "name": "stdout",
     "output_type": "stream",
     "text": [
      "Starting experimental run with id: 21. \n"
     ]
    },
    {
     "name": "stdout",
     "output_type": "stream",
     "text": [
      "Starting experimental run with id: 22. \n"
     ]
    },
    {
     "name": "stdout",
     "output_type": "stream",
     "text": [
      "Starting experimental run with id: 23. \n"
     ]
    },
    {
     "name": "stdout",
     "output_type": "stream",
     "text": [
      "Starting experimental run with id: 24. \n"
     ]
    },
    {
     "name": "stdout",
     "output_type": "stream",
     "text": [
      "Starting experimental run with id: 25. \n"
     ]
    },
    {
     "name": "stdout",
     "output_type": "stream",
     "text": [
      "Starting experimental run with id: 26. \n"
     ]
    },
    {
     "name": "stdout",
     "output_type": "stream",
     "text": [
      "Starting experimental run with id: 27. \n"
     ]
    },
    {
     "name": "stdout",
     "output_type": "stream",
     "text": [
      "Starting experimental run with id: 28. \n"
     ]
    }
   ],
   "source": [
    "sizes = [1,500,1000,2000,3000,4000,5000]\n",
    "nreps = 100\n",
    "t_numeric = []\n",
    "t_numeric_add = []\n",
    "t_numeric_run_ids = []\n",
    "t_array = []\n",
    "t_array_add = []\n",
    "t_array_run_ids = []\n",
    "for size in sizes:\n",
    "    tn, tna, run_id_n =  insert_data('numeric', size, nreps=nreps)\n",
    "    t_numeric.append(tn)\n",
    "    t_numeric_add.append(tna)\n",
    "    t_numeric_run_ids.append(run_id_n)\n",
    "\n",
    "    ta, taa, run_id_a =  insert_data('array', size, nreps=nreps)\n",
    "    t_array.append(ta)\n",
    "    t_array_add.append(taa)\n",
    "    t_array_run_ids.append(run_id_a)"
   ]
  },
  {
   "cell_type": "code",
   "execution_count": 8,
   "metadata": {
    "execution": {
     "iopub.execute_input": "2021-05-25T10:41:04.640952Z",
     "iopub.status.busy": "2021-05-25T10:41:04.612512Z",
     "iopub.status.idle": "2021-05-25T10:41:04.856291Z",
     "shell.execute_reply": "2021-05-25T10:41:04.855726Z"
    },
    "scrolled": true
   },
   "outputs": [
    {
     "data": {
      "image/png": "[encoded data removed]",
      "text/plain": [
       "<Figure size 432x288 with 1 Axes>"
      ]
     },
     "metadata": {
      "needs_background": "light"
     },
     "output_type": "display_data"
    }
   ],
   "source": [
    "fig, ax = plt.subplots(1,1)\n",
    "ax.plot(sizes, t_numeric, 'o-', label='Inserting row-by-row')\n",
    "ax.plot(sizes, t_numeric_add, 'o-', label='Inserting row-by-row: add_result only')\n",
    "ax.plot(sizes, t_array, 'd-', label='Inserting as binary blob')\n",
    "ax.plot(sizes, t_array_add, 'd-', label='Inserting as binary blob: add_result only')\n",
    "ax.legend()\n",
    "ax.set_xlabel('Array length')\n",
    "ax.set_ylabel('Time (s)')\n",
    "fig.tight_layout()"
   ]
  },
  {
   "cell_type": "markdown",
   "metadata": {},
   "source": [
    "However, as we increase the length of the experiment, as seen here by repeating the insertion 100 times, we see a big difference between inserting values of the data row-by-row and inserting it as a binary blob."
   ]
  },
  {
   "cell_type": "markdown",
   "metadata": {},
   "source": [
    "## Loading the data "
   ]
  },
  {
   "cell_type": "code",
   "execution_count": 9,
   "metadata": {
    "execution": {
     "iopub.execute_input": "2021-05-25T10:41:04.860798Z",
     "iopub.status.busy": "2021-05-25T10:41:04.860181Z",
     "iopub.status.idle": "2021-05-25T10:41:04.863810Z",
     "shell.execute_reply": "2021-05-25T10:41:04.864254Z"
    }
   },
   "outputs": [],
   "source": [
    "from qcodes.dataset.data_set import load_by_id"
   ]
  },
  {
   "cell_type": "markdown",
   "metadata": {},
   "source": [
    "As usual you can load the data by using the ``load_by_id`` function but you will notice that the different storage methods\n",
    "are reflected in shape of the data as it is retrieved. "
   ]
  },
  {
   "cell_type": "code",
   "execution_count": 10,
   "metadata": {
    "execution": {
     "iopub.execute_input": "2021-05-25T10:41:04.868918Z",
     "iopub.status.busy": "2021-05-25T10:41:04.867603Z",
     "iopub.status.idle": "2021-05-25T10:41:04.869513Z",
     "shell.execute_reply": "2021-05-25T10:41:04.870009Z"
    }
   },
   "outputs": [],
   "source": [
    "run_id_n = t_numeric_run_ids[0]\n",
    "run_id_a = t_array_run_ids[0]"
   ]
  },
  {
   "cell_type": "code",
   "execution_count": 11,
   "metadata": {
    "execution": {
     "iopub.execute_input": "2021-05-25T10:41:04.873533Z",
     "iopub.status.busy": "2021-05-25T10:41:04.872925Z",
     "iopub.status.idle": "2021-05-25T10:41:04.882708Z",
     "shell.execute_reply": "2021-05-25T10:41:04.881938Z"
    },
    "scrolled": true
   },
   "outputs": [
    {
     "data": {
      "text/plain": [
       "{'x1': {'x1': array([0.68640704, 0.68640704, 0.90201714, 0.90201714, 0.60274256,\n",
       "         0.60274256, 0.88863472, 0.88863472, 0.13864545, 0.13864545,\n",
       "         0.60874721, 0.60874721, 0.86073881, 0.86073881, 0.2849104 ,\n",
       "         0.2849104 , 0.08212459, 0.08212459, 0.55886667, 0.55886667,\n",
       "         0.77786335, 0.77786335, 0.55350689, 0.55350689, 0.89638305,\n",
       "         0.89638305, 0.97334336, 0.97334336, 0.0349827 , 0.0349827 ,\n",
       "         0.00667634, 0.00667634, 0.55329189, 0.55329189, 0.93545491,\n",
       "         0.93545491, 0.47023288, 0.47023288, 0.71315374, 0.71315374,\n",
       "         0.05347231, 0.05347231, 0.75406765, 0.75406765, 0.90369711,\n",
       "         0.90369711, 0.29233168, 0.29233168, 0.67338578, 0.67338578,\n",
       "         0.14151609, 0.14151609, 0.85606122, 0.85606122, 0.70413405,\n",
       "         0.70413405, 0.9295441 , 0.9295441 , 0.92308972, 0.92308972,\n",
       "         0.95629969, 0.95629969, 0.80189051, 0.80189051, 0.01029372,\n",
       "         0.01029372, 0.94382235, 0.94382235, 0.40685577, 0.40685577,\n",
       "         0.96696525, 0.96696525, 0.38156759, 0.38156759, 0.03963811,\n",
       "         0.03963811, 0.56708012, 0.56708012, 0.10330797, 0.10330797,\n",
       "         0.29028596, 0.29028596, 0.23612011, 0.23612011, 0.84784453,\n",
       "         0.84784453, 0.44065963, 0.44065963, 0.17505789, 0.17505789,\n",
       "         0.60149126, 0.60149126, 0.42735857, 0.42735857, 0.71413813,\n",
       "         0.71413813, 0.86462722, 0.86462722, 0.2183712 , 0.2183712 ,\n",
       "         0.46040636, 0.46040636, 0.83647166, 0.83647166, 0.57788371,\n",
       "         0.57788371, 0.86254436, 0.86254436, 0.81903908, 0.81903908,\n",
       "         0.79832734, 0.79832734, 0.60011654, 0.60011654, 0.02930335,\n",
       "         0.02930335, 0.1619904 , 0.1619904 , 0.56027243, 0.56027243,\n",
       "         0.16506524, 0.16506524, 0.33239984, 0.33239984, 0.13329474,\n",
       "         0.13329474, 0.01693084, 0.01693084, 0.34120856, 0.34120856,\n",
       "         0.54417587, 0.54417587, 0.29602299, 0.29602299, 0.68992394,\n",
       "         0.68992394, 0.19975804, 0.19975804, 0.1215823 , 0.1215823 ,\n",
       "         0.95741662, 0.95741662, 0.87489011, 0.87489011, 0.53103421,\n",
       "         0.53103421, 0.36170904, 0.36170904, 0.25762332, 0.25762332,\n",
       "         0.34450952, 0.34450952, 0.0703701 , 0.0703701 , 0.87108385,\n",
       "         0.87108385, 0.51383258, 0.51383258, 0.46110402, 0.46110402,\n",
       "         0.29471256, 0.29471256, 0.38773991, 0.38773991, 0.02585599,\n",
       "         0.02585599, 0.18511681, 0.18511681, 0.55466365, 0.55466365,\n",
       "         0.34031493, 0.34031493, 0.28905993, 0.28905993, 0.7398079 ,\n",
       "         0.7398079 , 0.24603601, 0.24603601, 0.41123341, 0.41123341,\n",
       "         0.42046121, 0.42046121, 0.51081847, 0.51081847, 0.57231547,\n",
       "         0.57231547, 0.08698973, 0.08698973, 0.47314599, 0.47314599,\n",
       "         0.32687012, 0.32687012, 0.59492553, 0.59492553, 0.95589454,\n",
       "         0.95589454, 0.95601632, 0.95601632, 0.06368822, 0.06368822])}}"
      ]
     },
     "execution_count": 1,
     "metadata": {},
     "output_type": "execute_result"
    }
   ],
   "source": [
    "ds = load_by_id(run_id_n)\n",
    "ds.get_parameter_data('x1')"
   ]
  },
  {
   "cell_type": "markdown",
   "metadata": {},
   "source": [
    "And a dataset stored as binary arrays"
   ]
  },
  {
   "cell_type": "code",
   "execution_count": 12,
   "metadata": {
    "execution": {
     "iopub.execute_input": "2021-05-25T10:41:04.886235Z",
     "iopub.status.busy": "2021-05-25T10:41:04.885643Z",
     "iopub.status.idle": "2021-05-25T10:41:04.950727Z",
     "shell.execute_reply": "2021-05-25T10:41:04.951208Z"
    },
    "scrolled": true
   },
   "outputs": [
    {
     "data": {
      "text/plain": [
       "{'x1': {'x1': array([[0.46705566],\n",
       "         [0.46705566],\n",
       "         [0.44274631],\n",
       "         [0.44274631],\n",
       "         [0.22542922],\n",
       "         [0.22542922],\n",
       "         [0.48080108],\n",
       "         [0.48080108],\n",
       "         [0.50057834],\n",
       "         [0.50057834],\n",
       "         [0.08850323],\n",
       "         [0.08850323],\n",
       "         [0.68483246],\n",
       "         [0.68483246],\n",
       "         [0.71648767],\n",
       "         [0.71648767],\n",
       "         [0.48709384],\n",
       "         [0.48709384],\n",
       "         [0.97290759],\n",
       "         [0.97290759],\n",
       "         [0.39178691],\n",
       "         [0.39178691],\n",
       "         [0.43262391],\n",
       "         [0.43262391],\n",
       "         [0.089955  ],\n",
       "         [0.089955  ],\n",
       "         [0.72257152],\n",
       "         [0.72257152],\n",
       "         [0.39972665],\n",
       "         [0.39972665],\n",
       "         [0.97063381],\n",
       "         [0.97063381],\n",
       "         [0.37405549],\n",
       "         [0.37405549],\n",
       "         [0.59270882],\n",
       "         [0.59270882],\n",
       "         [0.95016346],\n",
       "         [0.95016346],\n",
       "         [0.25190015],\n",
       "         [0.25190015],\n",
       "         [0.63203186],\n",
       "         [0.63203186],\n",
       "         [0.33736704],\n",
       "         [0.33736704],\n",
       "         [0.55614527],\n",
       "         [0.55614527],\n",
       "         [0.47788218],\n",
       "         [0.47788218],\n",
       "         [0.70241301],\n",
       "         [0.70241301],\n",
       "         [0.53780323],\n",
       "         [0.53780323],\n",
       "         [0.00318188],\n",
       "         [0.00318188],\n",
       "         [0.77792524],\n",
       "         [0.77792524],\n",
       "         [0.44906586],\n",
       "         [0.44906586],\n",
       "         [0.04095958],\n",
       "         [0.04095958],\n",
       "         [0.14845221],\n",
       "         [0.14845221],\n",
       "         [0.32933065],\n",
       "         [0.32933065],\n",
       "         [0.43075089],\n",
       "         [0.43075089],\n",
       "         [0.37161774],\n",
       "         [0.37161774],\n",
       "         [0.69842833],\n",
       "         [0.69842833],\n",
       "         [0.4086397 ],\n",
       "         [0.4086397 ],\n",
       "         [0.85286206],\n",
       "         [0.85286206],\n",
       "         [0.14573178],\n",
       "         [0.14573178],\n",
       "         [0.75982988],\n",
       "         [0.75982988],\n",
       "         [0.04905025],\n",
       "         [0.04905025],\n",
       "         [0.7053905 ],\n",
       "         [0.7053905 ],\n",
       "         [0.89520321],\n",
       "         [0.89520321],\n",
       "         [0.24918742],\n",
       "         [0.24918742],\n",
       "         [0.1027884 ],\n",
       "         [0.1027884 ],\n",
       "         [0.99058795],\n",
       "         [0.99058795],\n",
       "         [0.41467653],\n",
       "         [0.41467653],\n",
       "         [0.13837286],\n",
       "         [0.13837286],\n",
       "         [0.41451816],\n",
       "         [0.41451816],\n",
       "         [0.30316465],\n",
       "         [0.30316465],\n",
       "         [0.66788827],\n",
       "         [0.66788827],\n",
       "         [0.98839978],\n",
       "         [0.98839978],\n",
       "         [0.69347579],\n",
       "         [0.69347579],\n",
       "         [0.07579092],\n",
       "         [0.07579092],\n",
       "         [0.80620922],\n",
       "         [0.80620922],\n",
       "         [0.22701149],\n",
       "         [0.22701149],\n",
       "         [0.46063231],\n",
       "         [0.46063231],\n",
       "         [0.81153934],\n",
       "         [0.81153934],\n",
       "         [0.69292917],\n",
       "         [0.69292917],\n",
       "         [0.75144029],\n",
       "         [0.75144029],\n",
       "         [0.56911282],\n",
       "         [0.56911282],\n",
       "         [0.59981505],\n",
       "         [0.59981505],\n",
       "         [0.44214593],\n",
       "         [0.44214593],\n",
       "         [0.0746685 ],\n",
       "         [0.0746685 ],\n",
       "         [0.6543091 ],\n",
       "         [0.6543091 ],\n",
       "         [0.37364246],\n",
       "         [0.37364246],\n",
       "         [0.86967968],\n",
       "         [0.86967968],\n",
       "         [0.48027976],\n",
       "         [0.48027976],\n",
       "         [0.20423839],\n",
       "         [0.20423839],\n",
       "         [0.09677114],\n",
       "         [0.09677114],\n",
       "         [0.76671149],\n",
       "         [0.76671149],\n",
       "         [0.55791555],\n",
       "         [0.55791555],\n",
       "         [0.04102082],\n",
       "         [0.04102082],\n",
       "         [0.35512988],\n",
       "         [0.35512988],\n",
       "         [0.10572171],\n",
       "         [0.10572171],\n",
       "         [0.66638126],\n",
       "         [0.66638126],\n",
       "         [0.00462926],\n",
       "         [0.00462926],\n",
       "         [0.47668108],\n",
       "         [0.47668108],\n",
       "         [0.46426436],\n",
       "         [0.46426436],\n",
       "         [0.36636499],\n",
       "         [0.36636499],\n",
       "         [0.08849071],\n",
       "         [0.08849071],\n",
       "         [0.22674911],\n",
       "         [0.22674911],\n",
       "         [0.80973834],\n",
       "         [0.80973834],\n",
       "         [0.7207379 ],\n",
       "         [0.7207379 ],\n",
       "         [0.72682168],\n",
       "         [0.72682168],\n",
       "         [0.60596284],\n",
       "         [0.60596284],\n",
       "         [0.47161464],\n",
       "         [0.47161464],\n",
       "         [0.60669779],\n",
       "         [0.60669779],\n",
       "         [0.78053633],\n",
       "         [0.78053633],\n",
       "         [0.96643204],\n",
       "         [0.96643204],\n",
       "         [0.89339364],\n",
       "         [0.89339364],\n",
       "         [0.97154121],\n",
       "         [0.97154121],\n",
       "         [0.45268663],\n",
       "         [0.45268663],\n",
       "         [0.08808356],\n",
       "         [0.08808356],\n",
       "         [0.95025105],\n",
       "         [0.95025105],\n",
       "         [0.76736104],\n",
       "         [0.76736104],\n",
       "         [0.74965769],\n",
       "         [0.74965769],\n",
       "         [0.41370865],\n",
       "         [0.41370865],\n",
       "         [0.69242928],\n",
       "         [0.69242928],\n",
       "         [0.86507172],\n",
       "         [0.86507172],\n",
       "         [0.19287574],\n",
       "         [0.19287574]])}}"
      ]
     },
     "execution_count": 1,
     "metadata": {},
     "output_type": "execute_result"
    }
   ],
   "source": [
    "ds = load_by_id(run_id_a)\n",
    "ds.get_parameter_data('x1')"
   ]
  },
  {
   "cell_type": "code",
   "execution_count": null,
   "metadata": {},
   "outputs": [],
   "source": []
  }
 ],
 "metadata": {
  "kernelspec": {
   "display_name": "Python 3",
   "language": "python",
   "name": "python3"
  },
  "language_info": {
   "codemirror_mode": {
    "name": "ipython",
    "version": 3
   },
   "file_extension": ".py",
   "mimetype": "text/x-python",
   "name": "python",
   "nbconvert_exporter": "python",
   "pygments_lexer": "ipython3",
   "version": "3.7.10"
  },
  "nbsphinx": {
   "timeout": 600
  },
  "toc": {
   "base_numbering": 1,
   "nav_menu": {},
   "number_sections": true,
   "sideBar": true,
   "skip_h1_title": false,
   "title_cell": "Table of Contents",
   "title_sidebar": "Contents",
   "toc_cell": false,
   "toc_position": {},
   "toc_section_display": true,
   "toc_window_display": false
  },
  "varInspector": {
   "cols": {
    "lenName": 16,
    "lenType": 16,
    "lenVar": 40
   },
   "kernels_config": {
    "python": {
     "delete_cmd_postfix": "",
     "delete_cmd_prefix": "del ",
     "library": "var_list.py",
     "varRefreshCmd": "print(var_dic_list())"
    },
    "r": {
     "delete_cmd_postfix": ") ",
     "delete_cmd_prefix": "rm(",
     "library": "var_list.r",
     "varRefreshCmd": "cat(var_dic_list()) "
    }
   },
   "types_to_exclude": [
    "module",
    "function",
    "builtin_function_or_method",
    "instance",
    "_Feature"
   ],
   "window_display": false
  }
 },
 "nbformat": 4,
 "nbformat_minor": 4
}
