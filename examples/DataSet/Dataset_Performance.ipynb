{
 "cells": [
  {
   "cell_type": "markdown",
   "metadata": {},
   "source": [
    "# DataSet Performance\n",
    "\n",
    "This notebook shows the trade-off between inserting data into a database row-by-row and as binary blobs. Inserting the data row-by-row means that we have direct access to all the data and may perform queries directly on the values of the data. On the other hand, as we shall see, this is much slower than inserting the data directly as binary blobs."
   ]
  },
  {
   "cell_type": "markdown",
   "metadata": {},
   "source": [
    "First, we choose a new location for the database to ensure that we don't add a bunch of benchmarking data to the default one."
   ]
  },
  {
   "cell_type": "code",
   "execution_count": 1,
   "metadata": {},
   "outputs": [
    {
     "name": "stdout",
     "output_type": "stream",
     "text": [
      "Logging hadn't been started.\n",
      "Activating auto-logging. Current session state plus future input saved.\n",
      "Filename       : /home/vsts/.qcodes/logs/command_history.log\n",
      "Mode           : append\n",
      "Output logging : True\n",
      "Raw input log  : False\n",
      "Timestamping   : True\n",
      "State          : active\n"
     ]
    },
    {
     "name": "stdout",
     "output_type": "stream",
     "text": [
      "Qcodes Logfile : /home/vsts/.qcodes/logs/200515-21474-qcodes.log\n"
     ]
    }
   ],
   "source": [
    "import os\n",
    "cwd = os.getcwd()\n",
    "import qcodes as qc\n",
    "qc.config[\"core\"][\"db_location\"] = os.path.join(cwd, 'testing.db')\n"
   ]
  },
  {
   "cell_type": "code",
   "execution_count": 2,
   "metadata": {},
   "outputs": [],
   "source": [
    "%matplotlib inline\n",
    "import time\n",
    "import matplotlib.pyplot as plt\n",
    "import numpy as np\n",
    "\n",
    "import qcodes as qc\n",
    "from qcodes.instrument.parameter import ManualParameter\n",
    "from qcodes.dataset.experiment_container import (Experiment,\n",
    "                                                 load_last_experiment,\n",
    "                                                 new_experiment)\n",
    "from qcodes.dataset.sqlite.database import initialise_database\n",
    "from qcodes import load_or_create_experiment\n",
    "from qcodes.dataset.measurements import Measurement"
   ]
  },
  {
   "cell_type": "code",
   "execution_count": 3,
   "metadata": {},
   "outputs": [
    {
     "name": "stdout",
     "output_type": "stream",
     "text": [
      "\r",
      "0it [00:00, ?it/s]"
     ]
    },
    {
     "name": "stdout",
     "output_type": "stream",
     "text": [
      "\r",
      "Upgrading database; v0 -> v1: : 0it [00:00, ?it/s]"
     ]
    },
    {
     "name": "stdout",
     "output_type": "stream",
     "text": [
      "\r",
      "Upgrading database; v0 -> v1: : 0it [00:00, ?it/s]"
     ]
    },
    {
     "name": "stdout",
     "output_type": "stream",
     "text": [
      "\n",
      "\r",
      "  0%|          | 0/1 [00:00<?, ?it/s]"
     ]
    },
    {
     "name": "stdout",
     "output_type": "stream",
     "text": [
      "\r",
      "Upgrading database; v1 -> v2:   0%|          | 0/1 [00:00<?, ?it/s]"
     ]
    },
    {
     "name": "stdout",
     "output_type": "stream",
     "text": [
      "\r",
      "Upgrading database; v1 -> v2: 100%|██████████| 1/1 [00:00<00:00, 922.64it/s]"
     ]
    },
    {
     "name": "stdout",
     "output_type": "stream",
     "text": [
      "\n",
      "\r",
      "0it [00:00, ?it/s]"
     ]
    },
    {
     "name": "stdout",
     "output_type": "stream",
     "text": [
      "\r",
      "Upgrading database; v2 -> v3: : 0it [00:00, ?it/s]"
     ]
    },
    {
     "name": "stdout",
     "output_type": "stream",
     "text": [
      "\r",
      "Upgrading database; v2 -> v3: : 0it [00:00, ?it/s]"
     ]
    },
    {
     "name": "stdout",
     "output_type": "stream",
     "text": [
      "\n",
      "\r",
      "0it [00:00, ?it/s]"
     ]
    },
    {
     "name": "stdout",
     "output_type": "stream",
     "text": [
      "\r",
      "Upgrading database; v3 -> v4: : 0it [00:00, ?it/s]"
     ]
    },
    {
     "name": "stdout",
     "output_type": "stream",
     "text": [
      "\r",
      "Upgrading database; v3 -> v4: : 0it [00:00, ?it/s]"
     ]
    },
    {
     "name": "stdout",
     "output_type": "stream",
     "text": [
      "\n",
      "\r",
      "  0%|          | 0/1 [00:00<?, ?it/s]"
     ]
    },
    {
     "name": "stdout",
     "output_type": "stream",
     "text": [
      "\r",
      "Upgrading database; v4 -> v5:   0%|          | 0/1 [00:00<?, ?it/s]"
     ]
    },
    {
     "name": "stdout",
     "output_type": "stream",
     "text": [
      "\r",
      "Upgrading database; v4 -> v5: 100%|██████████| 1/1 [00:00<00:00, 896.22it/s]"
     ]
    },
    {
     "name": "stdout",
     "output_type": "stream",
     "text": [
      "\n",
      "\r",
      "0it [00:00, ?it/s]"
     ]
    },
    {
     "name": "stdout",
     "output_type": "stream",
     "text": [
      "\r",
      "Upgrading database; v5 -> v6: : 0it [00:00, ?it/s]"
     ]
    },
    {
     "name": "stdout",
     "output_type": "stream",
     "text": [
      "\r",
      "Upgrading database; v5 -> v6: : 0it [00:00, ?it/s]"
     ]
    },
    {
     "name": "stdout",
     "output_type": "stream",
     "text": [
      "\n",
      "\r",
      "  0%|          | 0/1 [00:00<?, ?it/s]"
     ]
    },
    {
     "name": "stdout",
     "output_type": "stream",
     "text": [
      "\r",
      "Upgrading database; v6 -> v7:   0%|          | 0/1 [00:00<?, ?it/s]"
     ]
    },
    {
     "name": "stdout",
     "output_type": "stream",
     "text": [
      "\r",
      "Upgrading database; v6 -> v7: 100%|██████████| 1/1 [00:00<00:00, 273.98it/s]"
     ]
    },
    {
     "name": "stdout",
     "output_type": "stream",
     "text": [
      "\n",
      "\r",
      "  0%|          | 0/1 [00:00<?, ?it/s]"
     ]
    },
    {
     "name": "stdout",
     "output_type": "stream",
     "text": [
      "\r",
      "Upgrading database; v7 -> v8:   0%|          | 0/1 [00:00<?, ?it/s]"
     ]
    },
    {
     "name": "stdout",
     "output_type": "stream",
     "text": [
      "\r",
      "Upgrading database; v7 -> v8: 100%|██████████| 1/1 [00:00<00:00, 903.36it/s]"
     ]
    },
    {
     "name": "stdout",
     "output_type": "stream",
     "text": [
      "\n",
      "\r",
      "  0%|          | 0/1 [00:00<?, ?it/s]"
     ]
    },
    {
     "name": "stdout",
     "output_type": "stream",
     "text": [
      "\r",
      "Upgrading database; v8 -> v9:   0%|          | 0/1 [00:00<?, ?it/s]"
     ]
    },
    {
     "name": "stdout",
     "output_type": "stream",
     "text": [
      "\r",
      "Upgrading database; v8 -> v9: 100%|██████████| 1/1 [00:00<00:00, 802.43it/s]"
     ]
    },
    {
     "name": "stdout",
     "output_type": "stream",
     "text": [
      "\n"
     ]
    }
   ],
   "source": [
    "initialise_database()\n",
    "exp = load_or_create_experiment(experiment_name='tutorial_exp', sample_name=\"no sample\")"
   ]
  },
  {
   "cell_type": "markdown",
   "metadata": {},
   "source": [
    "Here, we define a simple function to benchmark the time it takes to insert n points with either numeric or array data type.\n",
    "We will compare both the time used to call ``add_result`` and the time used for the full measurement."
   ]
  },
  {
   "cell_type": "code",
   "execution_count": 4,
   "metadata": {},
   "outputs": [],
   "source": [
    "def insert_data(paramtype, npoints, nreps=1):\n",
    "\n",
    "    meas = Measurement(exp=exp)\n",
    "\n",
    "    x1 = ManualParameter('x1')\n",
    "    x2 = ManualParameter('x2')\n",
    "    x3 = ManualParameter('x3')\n",
    "    y1 = ManualParameter('y1')\n",
    "    y2 = ManualParameter('y2')\n",
    "\n",
    "    meas.register_parameter(x1, paramtype=paramtype)\n",
    "    meas.register_parameter(x2, paramtype=paramtype)\n",
    "    meas.register_parameter(x3, paramtype=paramtype)\n",
    "    meas.register_parameter(y1, setpoints=[x1, x2, x3],\n",
    "                            paramtype=paramtype)\n",
    "    meas.register_parameter(y2, setpoints=[x1, x2, x3],\n",
    "                            paramtype=paramtype)\n",
    "    start = time.perf_counter()\n",
    "    with meas.run() as datasaver:\n",
    "        start_adding = time.perf_counter()\n",
    "        for i in range(nreps):\n",
    "            datasaver.add_result((x1, np.random.rand(npoints)),\n",
    "                                 (x2, np.random.rand(npoints)),\n",
    "                                 (x3, np.random.rand(npoints)),\n",
    "                                 (y1, np.random.rand(npoints)),\n",
    "                                 (y2, np.random.rand(npoints)))\n",
    "        stop_adding = time.perf_counter()\n",
    "        run_id = datasaver.run_id\n",
    "    stop = time.perf_counter()\n",
    "    tot_time = stop - start\n",
    "    add_time = stop_adding - start_adding\n",
    "    return tot_time, add_time, run_id"
   ]
  },
  {
   "cell_type": "markdown",
   "metadata": {},
   "source": [
    "## Comparison between numeric/array data and binary blob"
   ]
  },
  {
   "cell_type": "markdown",
   "metadata": {},
   "source": [
    "### Case1: Short experiment time"
   ]
  },
  {
   "cell_type": "code",
   "execution_count": 5,
   "metadata": {},
   "outputs": [
    {
     "name": "stdout",
     "output_type": "stream",
     "text": [
      "Starting experimental run with id: 1. \n",
      "Starting experimental run with id: 2. \n",
      "Starting experimental run with id: 3. \n"
     ]
    },
    {
     "name": "stdout",
     "output_type": "stream",
     "text": [
      "Starting experimental run with id: 4. \n"
     ]
    },
    {
     "name": "stdout",
     "output_type": "stream",
     "text": [
      "Starting experimental run with id: 5. \n"
     ]
    },
    {
     "name": "stdout",
     "output_type": "stream",
     "text": [
      "Starting experimental run with id: 6. \n"
     ]
    },
    {
     "name": "stdout",
     "output_type": "stream",
     "text": [
      "Starting experimental run with id: 7. \n"
     ]
    },
    {
     "name": "stdout",
     "output_type": "stream",
     "text": [
      "Starting experimental run with id: 8. \n"
     ]
    },
    {
     "name": "stdout",
     "output_type": "stream",
     "text": [
      "Starting experimental run with id: 9. \n"
     ]
    },
    {
     "name": "stdout",
     "output_type": "stream",
     "text": [
      "Starting experimental run with id: 10. \n",
      "Starting experimental run with id: 11. \n"
     ]
    },
    {
     "name": "stdout",
     "output_type": "stream",
     "text": [
      "Starting experimental run with id: 12. \n"
     ]
    },
    {
     "name": "stdout",
     "output_type": "stream",
     "text": [
      "Starting experimental run with id: 13. \n"
     ]
    },
    {
     "name": "stdout",
     "output_type": "stream",
     "text": [
      "Starting experimental run with id: 14. \n"
     ]
    }
   ],
   "source": [
    "sizes = [1,500,1000,2000,3000,4000,5000]\n",
    "t_numeric = []\n",
    "t_numeric_add = []\n",
    "t_array = []\n",
    "t_array_add = []\n",
    "for size in sizes:\n",
    "    tn, tna, run_id_n =  insert_data('numeric', size)\n",
    "    t_numeric.append(tn)\n",
    "    t_numeric_add.append(tna)\n",
    "\n",
    "    ta, taa, run_id_a =  insert_data('array', size)\n",
    "    t_array.append(ta)\n",
    "    t_array_add.append(taa)"
   ]
  },
  {
   "cell_type": "code",
   "execution_count": 6,
   "metadata": {},
   "outputs": [
    {
     "data": {
      "image/png": "[encoded data removed]",
      "text/plain": [
       "<Figure size 432x288 with 1 Axes>"
      ]
     },
     "metadata": {
      "needs_background": "light"
     },
     "output_type": "display_data"
    }
   ],
   "source": [
    "fig, ax = plt.subplots(1,1)\n",
    "ax.plot(sizes, t_numeric, 'o-', label='Inserting row-by-row')\n",
    "ax.plot(sizes, t_numeric_add, 'o-', label='Inserting row-by-row: add_result only')\n",
    "ax.plot(sizes, t_array, 'd-', label='Inserting as binary blob')\n",
    "ax.plot(sizes, t_array_add, 'd-', label='Inserting as binary blob: add_result only')\n",
    "ax.legend()\n",
    "ax.set_xlabel('Array length')\n",
    "ax.set_ylabel('Time (s)')\n",
    "fig.tight_layout()"
   ]
  },
  {
   "cell_type": "markdown",
   "metadata": {},
   "source": [
    "As shown in the latter figure, the time to setup and and close the experiment is approximately 0.4 sec. In case of small array sizes, the difference between inserting values of data as arrays and inserting them row-by-row is relatively unimportant. At larger array sizes, i.e. above 10000 points, the cost of writing data as individual datapoints starts to become important.\n"
   ]
  },
  {
   "cell_type": "markdown",
   "metadata": {},
   "source": [
    "### Case2: Long experiment time "
   ]
  },
  {
   "cell_type": "code",
   "execution_count": 7,
   "metadata": {},
   "outputs": [
    {
     "name": "stdout",
     "output_type": "stream",
     "text": [
      "Starting experimental run with id: 15. \n",
      "Starting experimental run with id: 16. \n",
      "Starting experimental run with id: 17. \n"
     ]
    },
    {
     "name": "stdout",
     "output_type": "stream",
     "text": [
      "Starting experimental run with id: 18. \n",
      "Starting experimental run with id: 19. \n"
     ]
    },
    {
     "name": "stdout",
     "output_type": "stream",
     "text": [
      "Starting experimental run with id: 20. \n"
     ]
    },
    {
     "name": "stdout",
     "output_type": "stream",
     "text": [
      "Starting experimental run with id: 21. \n"
     ]
    },
    {
     "name": "stdout",
     "output_type": "stream",
     "text": [
      "Starting experimental run with id: 22. \n"
     ]
    },
    {
     "name": "stdout",
     "output_type": "stream",
     "text": [
      "Starting experimental run with id: 23. \n"
     ]
    },
    {
     "name": "stdout",
     "output_type": "stream",
     "text": [
      "Starting experimental run with id: 24. \n"
     ]
    },
    {
     "name": "stdout",
     "output_type": "stream",
     "text": [
      "Starting experimental run with id: 25. \n"
     ]
    },
    {
     "name": "stdout",
     "output_type": "stream",
     "text": [
      "Starting experimental run with id: 26. \n"
     ]
    },
    {
     "name": "stdout",
     "output_type": "stream",
     "text": [
      "Starting experimental run with id: 27. \n"
     ]
    },
    {
     "name": "stdout",
     "output_type": "stream",
     "text": [
      "Starting experimental run with id: 28. \n"
     ]
    }
   ],
   "source": [
    "sizes = [1,500,1000,2000,3000,4000,5000]\n",
    "nreps = 100\n",
    "t_numeric = []\n",
    "t_numeric_add = []\n",
    "t_numeric_run_ids = []\n",
    "t_array = []\n",
    "t_array_add = []\n",
    "t_array_run_ids = []\n",
    "for size in sizes:\n",
    "    tn, tna, run_id_n =  insert_data('numeric', size, nreps=nreps)\n",
    "    t_numeric.append(tn)\n",
    "    t_numeric_add.append(tna)\n",
    "    t_numeric_run_ids.append(run_id_n)\n",
    "\n",
    "    ta, taa, run_id_a =  insert_data('array', size, nreps=nreps)\n",
    "    t_array.append(ta)\n",
    "    t_array_add.append(taa)\n",
    "    t_array_run_ids.append(run_id_a)"
   ]
  },
  {
   "cell_type": "code",
   "execution_count": 8,
   "metadata": {
    "scrolled": true
   },
   "outputs": [
    {
     "data": {
      "image/png": "[encoded data removed]",
      "text/plain": [
       "<Figure size 432x288 with 1 Axes>"
      ]
     },
     "metadata": {
      "needs_background": "light"
     },
     "output_type": "display_data"
    }
   ],
   "source": [
    "fig, ax = plt.subplots(1,1)\n",
    "ax.plot(sizes, t_numeric, 'o-', label='Inserting row-by-row')\n",
    "ax.plot(sizes, t_numeric_add, 'o-', label='Inserting row-by-row: add_result only')\n",
    "ax.plot(sizes, t_array, 'd-', label='Inserting as binary blob')\n",
    "ax.plot(sizes, t_array_add, 'd-', label='Inserting as binary blob: add_result only')\n",
    "ax.legend()\n",
    "ax.set_xlabel('Array length')\n",
    "ax.set_ylabel('Time (s)')\n",
    "fig.tight_layout()"
   ]
  },
  {
   "cell_type": "markdown",
   "metadata": {},
   "source": [
    "However, as we increase the length of the experiment, as seen here by repeating the insertion 100 times, we see a big difference between inserting values of the data row-by-row and inserting it as a binary blob."
   ]
  },
  {
   "cell_type": "markdown",
   "metadata": {},
   "source": [
    "## Loading the data "
   ]
  },
  {
   "cell_type": "code",
   "execution_count": 9,
   "metadata": {},
   "outputs": [],
   "source": [
    "from qcodes.dataset.data_set import load_by_id\n",
    "from qcodes.dataset.data_export import get_data_by_id"
   ]
  },
  {
   "cell_type": "markdown",
   "metadata": {},
   "source": [
    "As usual you can load the data by using the ``load_by_id`` function but you will notice that the different storage methods\n",
    "are reflected in shape of the data as it is retrieved. "
   ]
  },
  {
   "cell_type": "code",
   "execution_count": 10,
   "metadata": {},
   "outputs": [],
   "source": [
    "run_id_n = t_numeric_run_ids[0]\n",
    "run_id_a = t_array_run_ids[0]"
   ]
  },
  {
   "cell_type": "code",
   "execution_count": 11,
   "metadata": {
    "scrolled": true
   },
   "outputs": [
    {
     "data": {
      "text/plain": [
       "{'x1': {'x1': array([0.23650165, 0.23650165, 0.78569038, 0.78569038, 0.58647014,\n",
       "         0.58647014, 0.89377707, 0.89377707, 0.86247892, 0.86247892,\n",
       "         0.66014601, 0.66014601, 0.92522553, 0.92522553, 0.33067787,\n",
       "         0.33067787, 0.18716252, 0.18716252, 0.20853344, 0.20853344,\n",
       "         0.92981852, 0.92981852, 0.14104009, 0.14104009, 0.65593857,\n",
       "         0.65593857, 0.17243278, 0.17243278, 0.26439139, 0.26439139,\n",
       "         0.44243306, 0.44243306, 0.71019689, 0.71019689, 0.18244786,\n",
       "         0.18244786, 0.46569978, 0.46569978, 0.95160513, 0.95160513,\n",
       "         0.28695497, 0.28695497, 0.56979732, 0.56979732, 0.75314579,\n",
       "         0.75314579, 0.36091159, 0.36091159, 0.64505943, 0.64505943,\n",
       "         0.43897375, 0.43897375, 0.63845755, 0.63845755, 0.82828006,\n",
       "         0.82828006, 0.86876069, 0.86876069, 0.48083716, 0.48083716,\n",
       "         0.46278889, 0.46278889, 0.74721483, 0.74721483, 0.15530946,\n",
       "         0.15530946, 0.05240472, 0.05240472, 0.86447577, 0.86447577,\n",
       "         0.83204239, 0.83204239, 0.97854101, 0.97854101, 0.91019146,\n",
       "         0.91019146, 0.87529592, 0.87529592, 0.54517326, 0.54517326,\n",
       "         0.97723431, 0.97723431, 0.0976882 , 0.0976882 , 0.99679325,\n",
       "         0.99679325, 0.33085815, 0.33085815, 0.54405286, 0.54405286,\n",
       "         0.93906286, 0.93906286, 0.85624061, 0.85624061, 0.03558257,\n",
       "         0.03558257, 0.73592528, 0.73592528, 0.85473256, 0.85473256,\n",
       "         0.93030844, 0.93030844, 0.43780317, 0.43780317, 0.07418897,\n",
       "         0.07418897, 0.93182873, 0.93182873, 0.27955284, 0.27955284,\n",
       "         0.16790271, 0.16790271, 0.8261483 , 0.8261483 , 0.40214337,\n",
       "         0.40214337, 0.7279926 , 0.7279926 , 0.70255837, 0.70255837,\n",
       "         0.28974834, 0.28974834, 0.08152961, 0.08152961, 0.8545535 ,\n",
       "         0.8545535 , 0.99146304, 0.99146304, 0.64819272, 0.64819272,\n",
       "         0.87113258, 0.87113258, 0.44225574, 0.44225574, 0.95493778,\n",
       "         0.95493778, 0.95754149, 0.95754149, 0.29640571, 0.29640571,\n",
       "         0.80284771, 0.80284771, 0.47594471, 0.47594471, 0.39593455,\n",
       "         0.39593455, 0.91439572, 0.91439572, 0.50706274, 0.50706274,\n",
       "         0.61621156, 0.61621156, 0.24674244, 0.24674244, 0.02868663,\n",
       "         0.02868663, 0.33263711, 0.33263711, 0.03716893, 0.03716893,\n",
       "         0.0167797 , 0.0167797 , 0.38190959, 0.38190959, 0.15133844,\n",
       "         0.15133844, 0.10020918, 0.10020918, 0.86751668, 0.86751668,\n",
       "         0.29980775, 0.29980775, 0.8174446 , 0.8174446 , 0.60965374,\n",
       "         0.60965374, 0.74049641, 0.74049641, 0.84326281, 0.84326281,\n",
       "         0.42942524, 0.42942524, 0.44701677, 0.44701677, 0.35105759,\n",
       "         0.35105759, 0.40031132, 0.40031132, 0.36323167, 0.36323167,\n",
       "         0.74684795, 0.74684795, 0.48458431, 0.48458431, 0.99003987,\n",
       "         0.99003987, 0.28693114, 0.28693114, 0.44920818, 0.44920818])}}"
      ]
     },
     "execution_count": 11,
     "metadata": {},
     "output_type": "execute_result"
    }
   ],
   "source": [
    "ds = load_by_id(run_id_n)\n",
    "ds.get_parameter_data('x1')"
   ]
  },
  {
   "cell_type": "markdown",
   "metadata": {},
   "source": [
    "And a dataset stored as binary arrays"
   ]
  },
  {
   "cell_type": "code",
   "execution_count": 12,
   "metadata": {
    "scrolled": true
   },
   "outputs": [
    {
     "data": {
      "text/plain": [
       "{'x1': {'x1': array([[0.4916663 ],\n",
       "         [0.4916663 ],\n",
       "         [0.21474164],\n",
       "         [0.21474164],\n",
       "         [0.58074248],\n",
       "         [0.58074248],\n",
       "         [0.0177027 ],\n",
       "         [0.0177027 ],\n",
       "         [0.42621527],\n",
       "         [0.42621527],\n",
       "         [0.42032547],\n",
       "         [0.42032547],\n",
       "         [0.60208124],\n",
       "         [0.60208124],\n",
       "         [0.63455565],\n",
       "         [0.63455565],\n",
       "         [0.79462012],\n",
       "         [0.79462012],\n",
       "         [0.1931581 ],\n",
       "         [0.1931581 ],\n",
       "         [0.76958787],\n",
       "         [0.76958787],\n",
       "         [0.03381596],\n",
       "         [0.03381596],\n",
       "         [0.55118155],\n",
       "         [0.55118155],\n",
       "         [0.68822962],\n",
       "         [0.68822962],\n",
       "         [0.80238974],\n",
       "         [0.80238974],\n",
       "         [0.89395036],\n",
       "         [0.89395036],\n",
       "         [0.34111443],\n",
       "         [0.34111443],\n",
       "         [0.03694984],\n",
       "         [0.03694984],\n",
       "         [0.20612975],\n",
       "         [0.20612975],\n",
       "         [0.58189082],\n",
       "         [0.58189082],\n",
       "         [0.48802393],\n",
       "         [0.48802393],\n",
       "         [0.75004222],\n",
       "         [0.75004222],\n",
       "         [0.86990048],\n",
       "         [0.86990048],\n",
       "         [0.18507227],\n",
       "         [0.18507227],\n",
       "         [0.96835961],\n",
       "         [0.96835961],\n",
       "         [0.01654022],\n",
       "         [0.01654022],\n",
       "         [0.54414673],\n",
       "         [0.54414673],\n",
       "         [0.75191956],\n",
       "         [0.75191956],\n",
       "         [0.5593036 ],\n",
       "         [0.5593036 ],\n",
       "         [0.78232371],\n",
       "         [0.78232371],\n",
       "         [0.82694854],\n",
       "         [0.82694854],\n",
       "         [0.72359838],\n",
       "         [0.72359838],\n",
       "         [0.5181056 ],\n",
       "         [0.5181056 ],\n",
       "         [0.4631925 ],\n",
       "         [0.4631925 ],\n",
       "         [0.33620624],\n",
       "         [0.33620624],\n",
       "         [0.36549972],\n",
       "         [0.36549972],\n",
       "         [0.25217276],\n",
       "         [0.25217276],\n",
       "         [0.78081986],\n",
       "         [0.78081986],\n",
       "         [0.10836729],\n",
       "         [0.10836729],\n",
       "         [0.29922763],\n",
       "         [0.29922763],\n",
       "         [0.97430257],\n",
       "         [0.97430257],\n",
       "         [0.30233449],\n",
       "         [0.30233449],\n",
       "         [0.1571287 ],\n",
       "         [0.1571287 ],\n",
       "         [0.0535848 ],\n",
       "         [0.0535848 ],\n",
       "         [0.15391706],\n",
       "         [0.15391706],\n",
       "         [0.29305362],\n",
       "         [0.29305362],\n",
       "         [0.80022248],\n",
       "         [0.80022248],\n",
       "         [0.20558783],\n",
       "         [0.20558783],\n",
       "         [0.0375904 ],\n",
       "         [0.0375904 ],\n",
       "         [0.58927401],\n",
       "         [0.58927401],\n",
       "         [0.68932616],\n",
       "         [0.68932616],\n",
       "         [0.37535355],\n",
       "         [0.37535355],\n",
       "         [0.76210809],\n",
       "         [0.76210809],\n",
       "         [0.3435298 ],\n",
       "         [0.3435298 ],\n",
       "         [0.47872802],\n",
       "         [0.47872802],\n",
       "         [0.1421215 ],\n",
       "         [0.1421215 ],\n",
       "         [0.91673996],\n",
       "         [0.91673996],\n",
       "         [0.22070952],\n",
       "         [0.22070952],\n",
       "         [0.78315191],\n",
       "         [0.78315191],\n",
       "         [0.52422112],\n",
       "         [0.52422112],\n",
       "         [0.71766403],\n",
       "         [0.71766403],\n",
       "         [0.50218003],\n",
       "         [0.50218003],\n",
       "         [0.70936225],\n",
       "         [0.70936225],\n",
       "         [0.07981724],\n",
       "         [0.07981724],\n",
       "         [0.03221927],\n",
       "         [0.03221927],\n",
       "         [0.61565581],\n",
       "         [0.61565581],\n",
       "         [0.6964355 ],\n",
       "         [0.6964355 ],\n",
       "         [0.35223219],\n",
       "         [0.35223219],\n",
       "         [0.60385502],\n",
       "         [0.60385502],\n",
       "         [0.56575689],\n",
       "         [0.56575689],\n",
       "         [0.6595382 ],\n",
       "         [0.6595382 ],\n",
       "         [0.17873215],\n",
       "         [0.17873215],\n",
       "         [0.46740849],\n",
       "         [0.46740849],\n",
       "         [0.16371554],\n",
       "         [0.16371554],\n",
       "         [0.37163014],\n",
       "         [0.37163014],\n",
       "         [0.68762536],\n",
       "         [0.68762536],\n",
       "         [0.86317851],\n",
       "         [0.86317851],\n",
       "         [0.54060562],\n",
       "         [0.54060562],\n",
       "         [0.21691008],\n",
       "         [0.21691008],\n",
       "         [0.39447874],\n",
       "         [0.39447874],\n",
       "         [0.78582925],\n",
       "         [0.78582925],\n",
       "         [0.99079546],\n",
       "         [0.99079546],\n",
       "         [0.72890025],\n",
       "         [0.72890025],\n",
       "         [0.10502685],\n",
       "         [0.10502685],\n",
       "         [0.06969906],\n",
       "         [0.06969906],\n",
       "         [0.98904563],\n",
       "         [0.98904563],\n",
       "         [0.89234363],\n",
       "         [0.89234363],\n",
       "         [0.33365861],\n",
       "         [0.33365861],\n",
       "         [0.16394106],\n",
       "         [0.16394106],\n",
       "         [0.10370105],\n",
       "         [0.10370105],\n",
       "         [0.75106409],\n",
       "         [0.75106409],\n",
       "         [0.28766354],\n",
       "         [0.28766354],\n",
       "         [0.5321601 ],\n",
       "         [0.5321601 ],\n",
       "         [0.95667478],\n",
       "         [0.95667478],\n",
       "         [0.76191377],\n",
       "         [0.76191377],\n",
       "         [0.57560851],\n",
       "         [0.57560851],\n",
       "         [0.8841324 ],\n",
       "         [0.8841324 ],\n",
       "         [0.10511752],\n",
       "         [0.10511752],\n",
       "         [0.57104489],\n",
       "         [0.57104489],\n",
       "         [0.29346858],\n",
       "         [0.29346858]])}}"
      ]
     },
     "execution_count": 12,
     "metadata": {},
     "output_type": "execute_result"
    }
   ],
   "source": [
    "ds = load_by_id(run_id_a)\n",
    "ds.get_parameter_data('x1')"
   ]
  },
  {
   "cell_type": "code",
   "execution_count": null,
   "metadata": {},
   "outputs": [],
   "source": []
  }
 ],
 "metadata": {
  "kernelspec": {
   "display_name": "Python 3",
   "language": "python",
   "name": "python3"
  },
  "language_info": {
   "codemirror_mode": {
    "name": "ipython",
    "version": 3
   },
   "file_extension": ".py",
   "mimetype": "text/x-python",
   "name": "python",
   "nbconvert_exporter": "python",
   "pygments_lexer": "ipython3",
   "version": "3.7.7"
  },
  "nbsphinx": {
   "timeout": 600
  },
  "toc": {
   "base_numbering": 1,
   "nav_menu": {},
   "number_sections": true,
   "sideBar": true,
   "skip_h1_title": false,
   "title_cell": "Table of Contents",
   "title_sidebar": "Contents",
   "toc_cell": false,
   "toc_position": {},
   "toc_section_display": true,
   "toc_window_display": false
  },
  "varInspector": {
   "cols": {
    "lenName": 16,
    "lenType": 16,
    "lenVar": 40
   },
   "kernels_config": {
    "python": {
     "delete_cmd_postfix": "",
     "delete_cmd_prefix": "del ",
     "library": "var_list.py",
     "varRefreshCmd": "print(var_dic_list())"
    },
    "r": {
     "delete_cmd_postfix": ") ",
     "delete_cmd_prefix": "rm(",
     "library": "var_list.r",
     "varRefreshCmd": "cat(var_dic_list()) "
    }
   },
   "types_to_exclude": [
    "module",
    "function",
    "builtin_function_or_method",
    "instance",
    "_Feature"
   ],
   "window_display": false
  }
 },
 "nbformat": 4,
 "nbformat_minor": 2
}
