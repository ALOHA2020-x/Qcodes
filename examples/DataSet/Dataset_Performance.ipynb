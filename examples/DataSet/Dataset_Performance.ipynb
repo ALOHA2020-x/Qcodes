{
 "cells": [
  {
   "cell_type": "markdown",
   "metadata": {},
   "source": [
    "# DataSet Performance\n",
    "\n",
    "This notebook shows the trade-off between inserting data into a database row-by-row and as binary blobs. Inserting the data row-by-row means that we have direct access to all the data and may perform queries directly on the values of the data. On the other hand, as we shall see, this is much slower than inserting the data directly as binary blobs."
   ]
  },
  {
   "cell_type": "markdown",
   "metadata": {},
   "source": [
    "First, we choose a new location for the database to ensure that we don't add a bunch of benchmarking data to the default one."
   ]
  },
  {
   "cell_type": "code",
   "execution_count": 1,
   "metadata": {
    "execution": {
     "iopub.execute_input": "2021-01-29T16:56:05.329270Z",
     "iopub.status.busy": "2021-01-29T16:56:05.328727Z",
     "iopub.status.idle": "2021-01-29T16:56:06.371098Z",
     "shell.execute_reply": "2021-01-29T16:56:06.370135Z"
    }
   },
   "outputs": [
    {
     "name": "stdout",
     "output_type": "stream",
     "text": [
      "Logging hadn't been started.\n",
      "Activating auto-logging. Current session state plus future input saved.\n",
      "Filename       : /home/vsts/.qcodes/logs/command_history.log\n",
      "Mode           : append\n",
      "Output logging : True\n",
      "Raw input log  : False\n",
      "Timestamping   : True\n",
      "State          : active\n"
     ]
    },
    {
     "name": "stdout",
     "output_type": "stream",
     "text": [
      "Qcodes Logfile : /home/vsts/.qcodes/logs/210129-13870-qcodes.log\n"
     ]
    }
   ],
   "source": [
    "import os\n",
    "cwd = os.getcwd()\n",
    "import qcodes as qc\n",
    "qc.config[\"core\"][\"db_location\"] = os.path.join(cwd, 'testing.db')\n"
   ]
  },
  {
   "cell_type": "code",
   "execution_count": 2,
   "metadata": {
    "execution": {
     "iopub.execute_input": "2021-01-29T16:56:06.379008Z",
     "iopub.status.busy": "2021-01-29T16:56:06.378437Z",
     "iopub.status.idle": "2021-01-29T16:56:06.566439Z",
     "shell.execute_reply": "2021-01-29T16:56:06.566990Z"
    }
   },
   "outputs": [],
   "source": [
    "%matplotlib inline\n",
    "import time\n",
    "import matplotlib.pyplot as plt\n",
    "import numpy as np\n",
    "\n",
    "import qcodes as qc\n",
    "from qcodes.instrument.parameter import ManualParameter\n",
    "from qcodes.dataset.experiment_container import (Experiment,\n",
    "                                                 load_last_experiment,\n",
    "                                                 new_experiment)\n",
    "from qcodes.dataset.sqlite.database import initialise_database\n",
    "from qcodes import load_or_create_experiment\n",
    "from qcodes.dataset.measurements import Measurement"
   ]
  },
  {
   "cell_type": "code",
   "execution_count": 3,
   "metadata": {
    "execution": {
     "iopub.execute_input": "2021-01-29T16:56:06.570809Z",
     "iopub.status.busy": "2021-01-29T16:56:06.570247Z",
     "iopub.status.idle": "2021-01-29T16:56:06.691132Z",
     "shell.execute_reply": "2021-01-29T16:56:06.690333Z"
    }
   },
   "outputs": [
    {
     "name": "stdout",
     "output_type": "stream",
     "text": [
      "\r",
      "0it [00:00, ?it/s]"
     ]
    },
    {
     "name": "stdout",
     "output_type": "stream",
     "text": [
      "\r",
      "Upgrading database; v0 -> v1: : 0it [00:00, ?it/s]"
     ]
    },
    {
     "name": "stdout",
     "output_type": "stream",
     "text": [
      "\r",
      "Upgrading database; v0 -> v1: : 0it [00:00, ?it/s]"
     ]
    },
    {
     "name": "stdout",
     "output_type": "stream",
     "text": [
      "\n",
      "\r",
      "  0%|          | 0/1 [00:00<?, ?it/s]"
     ]
    },
    {
     "name": "stdout",
     "output_type": "stream",
     "text": [
      "\r",
      "Upgrading database; v1 -> v2:   0%|          | 0/1 [00:00<?, ?it/s]"
     ]
    },
    {
     "name": "stdout",
     "output_type": "stream",
     "text": [
      "\r",
      "Upgrading database; v1 -> v2: 100%|██████████| 1/1 [00:00<00:00, 462.79it/s]"
     ]
    },
    {
     "name": "stdout",
     "output_type": "stream",
     "text": [
      "\n",
      "\r",
      "0it [00:00, ?it/s]"
     ]
    },
    {
     "name": "stdout",
     "output_type": "stream",
     "text": [
      "\r",
      "Upgrading database; v2 -> v3: : 0it [00:00, ?it/s]"
     ]
    },
    {
     "name": "stdout",
     "output_type": "stream",
     "text": [
      "\r",
      "Upgrading database; v2 -> v3: : 0it [00:00, ?it/s]"
     ]
    },
    {
     "name": "stdout",
     "output_type": "stream",
     "text": [
      "\n",
      "\r",
      "0it [00:00, ?it/s]"
     ]
    },
    {
     "name": "stdout",
     "output_type": "stream",
     "text": [
      "\r",
      "Upgrading database; v3 -> v4: : 0it [00:00, ?it/s]"
     ]
    },
    {
     "name": "stdout",
     "output_type": "stream",
     "text": [
      "\r",
      "Upgrading database; v3 -> v4: : 0it [00:00, ?it/s]"
     ]
    },
    {
     "name": "stdout",
     "output_type": "stream",
     "text": [
      "\n",
      "\r",
      "  0%|          | 0/1 [00:00<?, ?it/s]"
     ]
    },
    {
     "name": "stdout",
     "output_type": "stream",
     "text": [
      "\r",
      "Upgrading database; v4 -> v5:   0%|          | 0/1 [00:00<?, ?it/s]"
     ]
    },
    {
     "name": "stdout",
     "output_type": "stream",
     "text": [
      "\r",
      "Upgrading database; v4 -> v5: 100%|██████████| 1/1 [00:00<00:00, 419.77it/s]"
     ]
    },
    {
     "name": "stdout",
     "output_type": "stream",
     "text": [
      "\n",
      "\r",
      "0it [00:00, ?it/s]"
     ]
    },
    {
     "name": "stdout",
     "output_type": "stream",
     "text": [
      "\r",
      "Upgrading database; v5 -> v6: : 0it [00:00, ?it/s]"
     ]
    },
    {
     "name": "stdout",
     "output_type": "stream",
     "text": [
      "\r",
      "Upgrading database; v5 -> v6: : 0it [00:00, ?it/s]"
     ]
    },
    {
     "name": "stdout",
     "output_type": "stream",
     "text": [
      "\n",
      "\r",
      "  0%|          | 0/1 [00:00<?, ?it/s]"
     ]
    },
    {
     "name": "stdout",
     "output_type": "stream",
     "text": [
      "\r",
      "Upgrading database; v6 -> v7:   0%|          | 0/1 [00:00<?, ?it/s]"
     ]
    },
    {
     "name": "stdout",
     "output_type": "stream",
     "text": [
      "\r",
      "Upgrading database; v6 -> v7: 100%|██████████| 1/1 [00:00<00:00, 249.17it/s]"
     ]
    },
    {
     "name": "stdout",
     "output_type": "stream",
     "text": [
      "\n",
      "\r",
      "  0%|          | 0/1 [00:00<?, ?it/s]"
     ]
    },
    {
     "name": "stdout",
     "output_type": "stream",
     "text": [
      "\r",
      "Upgrading database; v7 -> v8:   0%|          | 0/1 [00:00<?, ?it/s]"
     ]
    },
    {
     "name": "stdout",
     "output_type": "stream",
     "text": [
      "\r",
      "Upgrading database; v7 -> v8: 100%|██████████| 1/1 [00:00<00:00, 428.25it/s]"
     ]
    },
    {
     "name": "stdout",
     "output_type": "stream",
     "text": [
      "\n",
      "\r",
      "  0%|          | 0/1 [00:00<?, ?it/s]"
     ]
    },
    {
     "name": "stdout",
     "output_type": "stream",
     "text": [
      "\r",
      "Upgrading database; v8 -> v9:   0%|          | 0/1 [00:00<?, ?it/s]"
     ]
    },
    {
     "name": "stdout",
     "output_type": "stream",
     "text": [
      "\r",
      "Upgrading database; v8 -> v9: 100%|██████████| 1/1 [00:00<00:00, 1211.53it/s]"
     ]
    },
    {
     "name": "stdout",
     "output_type": "stream",
     "text": [
      "\n"
     ]
    }
   ],
   "source": [
    "initialise_database()\n",
    "exp = load_or_create_experiment(experiment_name='tutorial_exp', sample_name=\"no sample\")"
   ]
  },
  {
   "cell_type": "markdown",
   "metadata": {},
   "source": [
    "Here, we define a simple function to benchmark the time it takes to insert n points with either numeric or array data type.\n",
    "We will compare both the time used to call ``add_result`` and the time used for the full measurement."
   ]
  },
  {
   "cell_type": "code",
   "execution_count": 4,
   "metadata": {
    "execution": {
     "iopub.execute_input": "2021-01-29T16:56:06.699663Z",
     "iopub.status.busy": "2021-01-29T16:56:06.699105Z",
     "iopub.status.idle": "2021-01-29T16:56:06.702986Z",
     "shell.execute_reply": "2021-01-29T16:56:06.702283Z"
    }
   },
   "outputs": [],
   "source": [
    "def insert_data(paramtype, npoints, nreps=1):\n",
    "\n",
    "    meas = Measurement(exp=exp)\n",
    "\n",
    "    x1 = ManualParameter('x1')\n",
    "    x2 = ManualParameter('x2')\n",
    "    x3 = ManualParameter('x3')\n",
    "    y1 = ManualParameter('y1')\n",
    "    y2 = ManualParameter('y2')\n",
    "\n",
    "    meas.register_parameter(x1, paramtype=paramtype)\n",
    "    meas.register_parameter(x2, paramtype=paramtype)\n",
    "    meas.register_parameter(x3, paramtype=paramtype)\n",
    "    meas.register_parameter(y1, setpoints=[x1, x2, x3],\n",
    "                            paramtype=paramtype)\n",
    "    meas.register_parameter(y2, setpoints=[x1, x2, x3],\n",
    "                            paramtype=paramtype)\n",
    "    start = time.perf_counter()\n",
    "    with meas.run() as datasaver:\n",
    "        start_adding = time.perf_counter()\n",
    "        for i in range(nreps):\n",
    "            datasaver.add_result((x1, np.random.rand(npoints)),\n",
    "                                 (x2, np.random.rand(npoints)),\n",
    "                                 (x3, np.random.rand(npoints)),\n",
    "                                 (y1, np.random.rand(npoints)),\n",
    "                                 (y2, np.random.rand(npoints)))\n",
    "        stop_adding = time.perf_counter()\n",
    "        run_id = datasaver.run_id\n",
    "    stop = time.perf_counter()\n",
    "    tot_time = stop - start\n",
    "    add_time = stop_adding - start_adding\n",
    "    return tot_time, add_time, run_id"
   ]
  },
  {
   "cell_type": "markdown",
   "metadata": {},
   "source": [
    "## Comparison between numeric/array data and binary blob"
   ]
  },
  {
   "cell_type": "markdown",
   "metadata": {},
   "source": [
    "### Case1: Short experiment time"
   ]
  },
  {
   "cell_type": "code",
   "execution_count": 5,
   "metadata": {
    "execution": {
     "iopub.execute_input": "2021-01-29T16:56:06.710011Z",
     "iopub.status.busy": "2021-01-29T16:56:06.709097Z",
     "iopub.status.idle": "2021-01-29T16:56:07.553120Z",
     "shell.execute_reply": "2021-01-29T16:56:07.552618Z"
    }
   },
   "outputs": [
    {
     "name": "stdout",
     "output_type": "stream",
     "text": [
      "Starting experimental run with id: 1. \n",
      "Starting experimental run with id: 2. \n",
      "Starting experimental run with id: 3. \n",
      "Starting experimental run with id: 4. \n",
      "Starting experimental run with id: 5. \n"
     ]
    },
    {
     "name": "stdout",
     "output_type": "stream",
     "text": [
      "Starting experimental run with id: 6. \n"
     ]
    },
    {
     "name": "stdout",
     "output_type": "stream",
     "text": [
      "Starting experimental run with id: 7. \n"
     ]
    },
    {
     "name": "stdout",
     "output_type": "stream",
     "text": [
      "Starting experimental run with id: 8. \n",
      "Starting experimental run with id: 9. \n"
     ]
    },
    {
     "name": "stdout",
     "output_type": "stream",
     "text": [
      "Starting experimental run with id: 10. \n",
      "Starting experimental run with id: 11. \n"
     ]
    },
    {
     "name": "stdout",
     "output_type": "stream",
     "text": [
      "Starting experimental run with id: 12. \n",
      "Starting experimental run with id: 13. \n"
     ]
    },
    {
     "name": "stdout",
     "output_type": "stream",
     "text": [
      "Starting experimental run with id: 14. \n"
     ]
    }
   ],
   "source": [
    "sizes = [1,500,1000,2000,3000,4000,5000]\n",
    "t_numeric = []\n",
    "t_numeric_add = []\n",
    "t_array = []\n",
    "t_array_add = []\n",
    "for size in sizes:\n",
    "    tn, tna, run_id_n =  insert_data('numeric', size)\n",
    "    t_numeric.append(tn)\n",
    "    t_numeric_add.append(tna)\n",
    "\n",
    "    ta, taa, run_id_a =  insert_data('array', size)\n",
    "    t_array.append(ta)\n",
    "    t_array_add.append(taa)"
   ]
  },
  {
   "cell_type": "code",
   "execution_count": 6,
   "metadata": {
    "execution": {
     "iopub.execute_input": "2021-01-29T16:56:07.578483Z",
     "iopub.status.busy": "2021-01-29T16:56:07.569226Z",
     "iopub.status.idle": "2021-01-29T16:56:07.746654Z",
     "shell.execute_reply": "2021-01-29T16:56:07.747184Z"
    }
   },
   "outputs": [
    {
     "data": {
      "image/png": "[encoded data removed]",
      "text/plain": [
       "<Figure size 432x288 with 1 Axes>"
      ]
     },
     "metadata": {
      "needs_background": "light"
     },
     "output_type": "display_data"
    }
   ],
   "source": [
    "fig, ax = plt.subplots(1,1)\n",
    "ax.plot(sizes, t_numeric, 'o-', label='Inserting row-by-row')\n",
    "ax.plot(sizes, t_numeric_add, 'o-', label='Inserting row-by-row: add_result only')\n",
    "ax.plot(sizes, t_array, 'd-', label='Inserting as binary blob')\n",
    "ax.plot(sizes, t_array_add, 'd-', label='Inserting as binary blob: add_result only')\n",
    "ax.legend()\n",
    "ax.set_xlabel('Array length')\n",
    "ax.set_ylabel('Time (s)')\n",
    "fig.tight_layout()"
   ]
  },
  {
   "cell_type": "markdown",
   "metadata": {},
   "source": [
    "As shown in the latter figure, the time to setup and and close the experiment is approximately 0.4 sec. In case of small array sizes, the difference between inserting values of data as arrays and inserting them row-by-row is relatively unimportant. At larger array sizes, i.e. above 10000 points, the cost of writing data as individual datapoints starts to become important.\n"
   ]
  },
  {
   "cell_type": "markdown",
   "metadata": {},
   "source": [
    "### Case2: Long experiment time "
   ]
  },
  {
   "cell_type": "code",
   "execution_count": 7,
   "metadata": {
    "execution": {
     "iopub.execute_input": "2021-01-29T16:56:07.749646Z",
     "iopub.status.busy": "2021-01-29T16:56:07.749150Z",
     "iopub.status.idle": "2021-01-29T16:57:07.999278Z",
     "shell.execute_reply": "2021-01-29T16:57:07.999736Z"
    }
   },
   "outputs": [
    {
     "name": "stdout",
     "output_type": "stream",
     "text": [
      "Starting experimental run with id: 15. \n",
      "Starting experimental run with id: 16. \n",
      "Starting experimental run with id: 17. \n"
     ]
    },
    {
     "name": "stdout",
     "output_type": "stream",
     "text": [
      "Starting experimental run with id: 18. \n",
      "Starting experimental run with id: 19. \n"
     ]
    },
    {
     "name": "stdout",
     "output_type": "stream",
     "text": [
      "Starting experimental run with id: 20. \n"
     ]
    },
    {
     "name": "stdout",
     "output_type": "stream",
     "text": [
      "Starting experimental run with id: 21. \n"
     ]
    },
    {
     "name": "stdout",
     "output_type": "stream",
     "text": [
      "Starting experimental run with id: 22. \n"
     ]
    },
    {
     "name": "stdout",
     "output_type": "stream",
     "text": [
      "Starting experimental run with id: 23. \n"
     ]
    },
    {
     "name": "stdout",
     "output_type": "stream",
     "text": [
      "Starting experimental run with id: 24. \n"
     ]
    },
    {
     "name": "stdout",
     "output_type": "stream",
     "text": [
      "Starting experimental run with id: 25. \n"
     ]
    },
    {
     "name": "stdout",
     "output_type": "stream",
     "text": [
      "Starting experimental run with id: 26. \n"
     ]
    },
    {
     "name": "stdout",
     "output_type": "stream",
     "text": [
      "Starting experimental run with id: 27. \n"
     ]
    },
    {
     "name": "stdout",
     "output_type": "stream",
     "text": [
      "Starting experimental run with id: 28. \n"
     ]
    }
   ],
   "source": [
    "sizes = [1,500,1000,2000,3000,4000,5000]\n",
    "nreps = 100\n",
    "t_numeric = []\n",
    "t_numeric_add = []\n",
    "t_numeric_run_ids = []\n",
    "t_array = []\n",
    "t_array_add = []\n",
    "t_array_run_ids = []\n",
    "for size in sizes:\n",
    "    tn, tna, run_id_n =  insert_data('numeric', size, nreps=nreps)\n",
    "    t_numeric.append(tn)\n",
    "    t_numeric_add.append(tna)\n",
    "    t_numeric_run_ids.append(run_id_n)\n",
    "\n",
    "    ta, taa, run_id_a =  insert_data('array', size, nreps=nreps)\n",
    "    t_array.append(ta)\n",
    "    t_array_add.append(taa)\n",
    "    t_array_run_ids.append(run_id_a)"
   ]
  },
  {
   "cell_type": "code",
   "execution_count": 8,
   "metadata": {
    "execution": {
     "iopub.execute_input": "2021-01-29T16:57:08.038946Z",
     "iopub.status.busy": "2021-01-29T16:57:08.028746Z",
     "iopub.status.idle": "2021-01-29T16:57:08.203761Z",
     "shell.execute_reply": "2021-01-29T16:57:08.204544Z"
    },
    "scrolled": true
   },
   "outputs": [
    {
     "data": {
      "image/png": "[encoded data removed]",
      "text/plain": [
       "<Figure size 432x288 with 1 Axes>"
      ]
     },
     "metadata": {
      "needs_background": "light"
     },
     "output_type": "display_data"
    }
   ],
   "source": [
    "fig, ax = plt.subplots(1,1)\n",
    "ax.plot(sizes, t_numeric, 'o-', label='Inserting row-by-row')\n",
    "ax.plot(sizes, t_numeric_add, 'o-', label='Inserting row-by-row: add_result only')\n",
    "ax.plot(sizes, t_array, 'd-', label='Inserting as binary blob')\n",
    "ax.plot(sizes, t_array_add, 'd-', label='Inserting as binary blob: add_result only')\n",
    "ax.legend()\n",
    "ax.set_xlabel('Array length')\n",
    "ax.set_ylabel('Time (s)')\n",
    "fig.tight_layout()"
   ]
  },
  {
   "cell_type": "markdown",
   "metadata": {},
   "source": [
    "However, as we increase the length of the experiment, as seen here by repeating the insertion 100 times, we see a big difference between inserting values of the data row-by-row and inserting it as a binary blob."
   ]
  },
  {
   "cell_type": "markdown",
   "metadata": {},
   "source": [
    "## Loading the data "
   ]
  },
  {
   "cell_type": "code",
   "execution_count": 9,
   "metadata": {
    "execution": {
     "iopub.execute_input": "2021-01-29T16:57:08.209033Z",
     "iopub.status.busy": "2021-01-29T16:57:08.208118Z",
     "iopub.status.idle": "2021-01-29T16:57:08.211404Z",
     "shell.execute_reply": "2021-01-29T16:57:08.210970Z"
    }
   },
   "outputs": [],
   "source": [
    "from qcodes.dataset.data_set import load_by_id\n",
    "from qcodes.dataset.data_export import get_data_by_id"
   ]
  },
  {
   "cell_type": "markdown",
   "metadata": {},
   "source": [
    "As usual you can load the data by using the ``load_by_id`` function but you will notice that the different storage methods\n",
    "are reflected in shape of the data as it is retrieved. "
   ]
  },
  {
   "cell_type": "code",
   "execution_count": 10,
   "metadata": {
    "execution": {
     "iopub.execute_input": "2021-01-29T16:57:08.215340Z",
     "iopub.status.busy": "2021-01-29T16:57:08.214597Z",
     "iopub.status.idle": "2021-01-29T16:57:08.217007Z",
     "shell.execute_reply": "2021-01-29T16:57:08.216541Z"
    }
   },
   "outputs": [],
   "source": [
    "run_id_n = t_numeric_run_ids[0]\n",
    "run_id_a = t_array_run_ids[0]"
   ]
  },
  {
   "cell_type": "code",
   "execution_count": 11,
   "metadata": {
    "execution": {
     "iopub.execute_input": "2021-01-29T16:57:08.220199Z",
     "iopub.status.busy": "2021-01-29T16:57:08.219680Z",
     "iopub.status.idle": "2021-01-29T16:57:08.229404Z",
     "shell.execute_reply": "2021-01-29T16:57:08.228927Z"
    },
    "scrolled": true
   },
   "outputs": [
    {
     "data": {
      "text/plain": [
       "{'x1': {'x1': array([0.62863775, 0.62863775, 0.25679108, 0.25679108, 0.82159995,\n",
       "         0.82159995, 0.7695429 , 0.7695429 , 0.95236388, 0.95236388,\n",
       "         0.22421805, 0.22421805, 0.02105727, 0.02105727, 0.00518619,\n",
       "         0.00518619, 0.97780696, 0.97780696, 0.25562957, 0.25562957,\n",
       "         0.50429057, 0.50429057, 0.07682385, 0.07682385, 0.10661622,\n",
       "         0.10661622, 0.06208926, 0.06208926, 0.86879153, 0.86879153,\n",
       "         0.99058574, 0.99058574, 0.08230085, 0.08230085, 0.12238325,\n",
       "         0.12238325, 0.31037172, 0.31037172, 0.48880683, 0.48880683,\n",
       "         0.16530809, 0.16530809, 0.83888528, 0.83888528, 0.91384094,\n",
       "         0.91384094, 0.83176132, 0.83176132, 0.3884397 , 0.3884397 ,\n",
       "         0.97846763, 0.97846763, 0.16175376, 0.16175376, 0.76646847,\n",
       "         0.76646847, 0.28689193, 0.28689193, 0.43213711, 0.43213711,\n",
       "         0.60480473, 0.60480473, 0.95117609, 0.95117609, 0.77501662,\n",
       "         0.77501662, 0.19056732, 0.19056732, 0.0541677 , 0.0541677 ,\n",
       "         0.57353597, 0.57353597, 0.67355084, 0.67355084, 0.17351797,\n",
       "         0.17351797, 0.6690367 , 0.6690367 , 0.82929781, 0.82929781,\n",
       "         0.70427383, 0.70427383, 0.23067729, 0.23067729, 0.20138122,\n",
       "         0.20138122, 0.96757139, 0.96757139, 0.64006624, 0.64006624,\n",
       "         0.30636009, 0.30636009, 0.74315906, 0.74315906, 0.96621991,\n",
       "         0.96621991, 0.32775515, 0.32775515, 0.48886767, 0.48886767,\n",
       "         0.98140744, 0.98140744, 0.19654231, 0.19654231, 0.32632157,\n",
       "         0.32632157, 0.04289256, 0.04289256, 0.50221353, 0.50221353,\n",
       "         0.42907962, 0.42907962, 0.79373602, 0.79373602, 0.00699493,\n",
       "         0.00699493, 0.02538677, 0.02538677, 0.03612654, 0.03612654,\n",
       "         0.57569324, 0.57569324, 0.97649223, 0.97649223, 0.88615279,\n",
       "         0.88615279, 0.61326127, 0.61326127, 0.02194435, 0.02194435,\n",
       "         0.20818423, 0.20818423, 0.312967  , 0.312967  , 0.8728194 ,\n",
       "         0.8728194 , 0.72840947, 0.72840947, 0.22790574, 0.22790574,\n",
       "         0.32504229, 0.32504229, 0.07126558, 0.07126558, 0.26199984,\n",
       "         0.26199984, 0.92438219, 0.92438219, 0.4730134 , 0.4730134 ,\n",
       "         0.58496648, 0.58496648, 0.01108384, 0.01108384, 0.42512652,\n",
       "         0.42512652, 0.95786482, 0.95786482, 0.71327904, 0.71327904,\n",
       "         0.54831956, 0.54831956, 0.7889567 , 0.7889567 , 0.53872963,\n",
       "         0.53872963, 0.27360874, 0.27360874, 0.50673671, 0.50673671,\n",
       "         0.14881453, 0.14881453, 0.09762812, 0.09762812, 0.99280043,\n",
       "         0.99280043, 0.52604667, 0.52604667, 0.35695061, 0.35695061,\n",
       "         0.89662249, 0.89662249, 0.6411523 , 0.6411523 , 0.77354497,\n",
       "         0.77354497, 0.60354221, 0.60354221, 0.22622826, 0.22622826,\n",
       "         0.69685808, 0.69685808, 0.36881267, 0.36881267, 0.0489537 ,\n",
       "         0.0489537 , 0.32719584, 0.32719584, 0.31712403, 0.31712403])}}"
      ]
     },
     "execution_count": 1,
     "metadata": {},
     "output_type": "execute_result"
    }
   ],
   "source": [
    "ds = load_by_id(run_id_n)\n",
    "ds.get_parameter_data('x1')"
   ]
  },
  {
   "cell_type": "markdown",
   "metadata": {},
   "source": [
    "And a dataset stored as binary arrays"
   ]
  },
  {
   "cell_type": "code",
   "execution_count": 12,
   "metadata": {
    "execution": {
     "iopub.execute_input": "2021-01-29T16:57:08.232786Z",
     "iopub.status.busy": "2021-01-29T16:57:08.232241Z",
     "iopub.status.idle": "2021-01-29T16:57:08.291108Z",
     "shell.execute_reply": "2021-01-29T16:57:08.291897Z"
    },
    "scrolled": true
   },
   "outputs": [
    {
     "data": {
      "text/plain": [
       "{'x1': {'x1': array([[0.0954482 ],\n",
       "         [0.0954482 ],\n",
       "         [0.08452661],\n",
       "         [0.08452661],\n",
       "         [0.46680238],\n",
       "         [0.46680238],\n",
       "         [0.84836323],\n",
       "         [0.84836323],\n",
       "         [0.5820204 ],\n",
       "         [0.5820204 ],\n",
       "         [0.40945456],\n",
       "         [0.40945456],\n",
       "         [0.99603197],\n",
       "         [0.99603197],\n",
       "         [0.75718948],\n",
       "         [0.75718948],\n",
       "         [0.07597226],\n",
       "         [0.07597226],\n",
       "         [0.88477948],\n",
       "         [0.88477948],\n",
       "         [0.1990584 ],\n",
       "         [0.1990584 ],\n",
       "         [0.14087251],\n",
       "         [0.14087251],\n",
       "         [0.95263929],\n",
       "         [0.95263929],\n",
       "         [0.08714205],\n",
       "         [0.08714205],\n",
       "         [0.18692304],\n",
       "         [0.18692304],\n",
       "         [0.15187213],\n",
       "         [0.15187213],\n",
       "         [0.64800137],\n",
       "         [0.64800137],\n",
       "         [0.06238712],\n",
       "         [0.06238712],\n",
       "         [0.83573475],\n",
       "         [0.83573475],\n",
       "         [0.43403721],\n",
       "         [0.43403721],\n",
       "         [0.86161784],\n",
       "         [0.86161784],\n",
       "         [0.60074196],\n",
       "         [0.60074196],\n",
       "         [0.58446774],\n",
       "         [0.58446774],\n",
       "         [0.69662742],\n",
       "         [0.69662742],\n",
       "         [0.79858402],\n",
       "         [0.79858402],\n",
       "         [0.20046974],\n",
       "         [0.20046974],\n",
       "         [0.833961  ],\n",
       "         [0.833961  ],\n",
       "         [0.95789952],\n",
       "         [0.95789952],\n",
       "         [0.76257922],\n",
       "         [0.76257922],\n",
       "         [0.37378636],\n",
       "         [0.37378636],\n",
       "         [0.4414419 ],\n",
       "         [0.4414419 ],\n",
       "         [0.63399329],\n",
       "         [0.63399329],\n",
       "         [0.87978357],\n",
       "         [0.87978357],\n",
       "         [0.62665278],\n",
       "         [0.62665278],\n",
       "         [0.97935151],\n",
       "         [0.97935151],\n",
       "         [0.61278657],\n",
       "         [0.61278657],\n",
       "         [0.03064965],\n",
       "         [0.03064965],\n",
       "         [0.73771994],\n",
       "         [0.73771994],\n",
       "         [0.19155045],\n",
       "         [0.19155045],\n",
       "         [0.35667228],\n",
       "         [0.35667228],\n",
       "         [0.75938657],\n",
       "         [0.75938657],\n",
       "         [0.96604921],\n",
       "         [0.96604921],\n",
       "         [0.7870478 ],\n",
       "         [0.7870478 ],\n",
       "         [0.87205268],\n",
       "         [0.87205268],\n",
       "         [0.5213065 ],\n",
       "         [0.5213065 ],\n",
       "         [0.50362832],\n",
       "         [0.50362832],\n",
       "         [0.12633989],\n",
       "         [0.12633989],\n",
       "         [0.17806057],\n",
       "         [0.17806057],\n",
       "         [0.60429461],\n",
       "         [0.60429461],\n",
       "         [0.03243467],\n",
       "         [0.03243467],\n",
       "         [0.94669318],\n",
       "         [0.94669318],\n",
       "         [0.31581146],\n",
       "         [0.31581146],\n",
       "         [0.78965334],\n",
       "         [0.78965334],\n",
       "         [0.62630529],\n",
       "         [0.62630529],\n",
       "         [0.09285396],\n",
       "         [0.09285396],\n",
       "         [0.18935716],\n",
       "         [0.18935716],\n",
       "         [0.21395681],\n",
       "         [0.21395681],\n",
       "         [0.17005186],\n",
       "         [0.17005186],\n",
       "         [0.11277627],\n",
       "         [0.11277627],\n",
       "         [0.74144258],\n",
       "         [0.74144258],\n",
       "         [0.9340357 ],\n",
       "         [0.9340357 ],\n",
       "         [0.38354404],\n",
       "         [0.38354404],\n",
       "         [0.07939858],\n",
       "         [0.07939858],\n",
       "         [0.7949224 ],\n",
       "         [0.7949224 ],\n",
       "         [0.99053247],\n",
       "         [0.99053247],\n",
       "         [0.56112715],\n",
       "         [0.56112715],\n",
       "         [0.33570515],\n",
       "         [0.33570515],\n",
       "         [0.92455066],\n",
       "         [0.92455066],\n",
       "         [0.13135142],\n",
       "         [0.13135142],\n",
       "         [0.44839065],\n",
       "         [0.44839065],\n",
       "         [0.66157605],\n",
       "         [0.66157605],\n",
       "         [0.49155191],\n",
       "         [0.49155191],\n",
       "         [0.90523356],\n",
       "         [0.90523356],\n",
       "         [0.52639507],\n",
       "         [0.52639507],\n",
       "         [0.04830179],\n",
       "         [0.04830179],\n",
       "         [0.39846288],\n",
       "         [0.39846288],\n",
       "         [0.47753641],\n",
       "         [0.47753641],\n",
       "         [0.98564114],\n",
       "         [0.98564114],\n",
       "         [0.96901095],\n",
       "         [0.96901095],\n",
       "         [0.27540162],\n",
       "         [0.27540162],\n",
       "         [0.76262053],\n",
       "         [0.76262053],\n",
       "         [0.02527571],\n",
       "         [0.02527571],\n",
       "         [0.22307233],\n",
       "         [0.22307233],\n",
       "         [0.93088812],\n",
       "         [0.93088812],\n",
       "         [0.5438388 ],\n",
       "         [0.5438388 ],\n",
       "         [0.76116763],\n",
       "         [0.76116763],\n",
       "         [0.6234992 ],\n",
       "         [0.6234992 ],\n",
       "         [0.41704055],\n",
       "         [0.41704055],\n",
       "         [0.68132964],\n",
       "         [0.68132964],\n",
       "         [0.60297552],\n",
       "         [0.60297552],\n",
       "         [0.20069612],\n",
       "         [0.20069612],\n",
       "         [0.53769508],\n",
       "         [0.53769508],\n",
       "         [0.88199552],\n",
       "         [0.88199552],\n",
       "         [0.50929195],\n",
       "         [0.50929195],\n",
       "         [0.4335233 ],\n",
       "         [0.4335233 ],\n",
       "         [0.79137581],\n",
       "         [0.79137581],\n",
       "         [0.65406721],\n",
       "         [0.65406721],\n",
       "         [0.25337264],\n",
       "         [0.25337264],\n",
       "         [0.86166727],\n",
       "         [0.86166727],\n",
       "         [0.10689761],\n",
       "         [0.10689761]])}}"
      ]
     },
     "execution_count": 1,
     "metadata": {},
     "output_type": "execute_result"
    }
   ],
   "source": [
    "ds = load_by_id(run_id_a)\n",
    "ds.get_parameter_data('x1')"
   ]
  },
  {
   "cell_type": "code",
   "execution_count": null,
   "metadata": {},
   "outputs": [],
   "source": []
  }
 ],
 "metadata": {
  "kernelspec": {
   "display_name": "Python 3",
   "language": "python",
   "name": "python3"
  },
  "language_info": {
   "codemirror_mode": {
    "name": "ipython",
    "version": 3
   },
   "file_extension": ".py",
   "mimetype": "text/x-python",
   "name": "python",
   "nbconvert_exporter": "python",
   "pygments_lexer": "ipython3",
   "version": "3.7.9"
  },
  "nbsphinx": {
   "timeout": 600
  },
  "toc": {
   "base_numbering": 1,
   "nav_menu": {},
   "number_sections": true,
   "sideBar": true,
   "skip_h1_title": false,
   "title_cell": "Table of Contents",
   "title_sidebar": "Contents",
   "toc_cell": false,
   "toc_position": {},
   "toc_section_display": true,
   "toc_window_display": false
  },
  "varInspector": {
   "cols": {
    "lenName": 16,
    "lenType": 16,
    "lenVar": 40
   },
   "kernels_config": {
    "python": {
     "delete_cmd_postfix": "",
     "delete_cmd_prefix": "del ",
     "library": "var_list.py",
     "varRefreshCmd": "print(var_dic_list())"
    },
    "r": {
     "delete_cmd_postfix": ") ",
     "delete_cmd_prefix": "rm(",
     "library": "var_list.r",
     "varRefreshCmd": "cat(var_dic_list()) "
    }
   },
   "types_to_exclude": [
    "module",
    "function",
    "builtin_function_or_method",
    "instance",
    "_Feature"
   ],
   "window_display": false
  }
 },
 "nbformat": 4,
 "nbformat_minor": 2
}
