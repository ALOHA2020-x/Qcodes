{
 "cells": [
  {
   "cell_type": "markdown",
   "metadata": {},
   "source": [
    "# DataSet Performance\n",
    "\n",
    "This notebook shows the trade-off between inserting data into a database row-by-row and as binary blobs. Inserting the data row-by-row means that we have direct access to all the data and may perform queries directly on the values of the data. On the other hand, as we shall see, this is much slower than inserting the data directly as binary blobs."
   ]
  },
  {
   "cell_type": "markdown",
   "metadata": {},
   "source": [
    "First, we choose a new location for the database to ensure that we don't add a bunch of benchmarking data to the default one."
   ]
  },
  {
   "cell_type": "code",
   "execution_count": 1,
   "metadata": {
    "execution": {
     "iopub.execute_input": "2021-01-19T16:01:52.240878Z",
     "iopub.status.busy": "2021-01-19T16:01:52.239959Z",
     "iopub.status.idle": "2021-01-19T16:01:53.447937Z",
     "shell.execute_reply": "2021-01-19T16:01:53.447274Z"
    }
   },
   "outputs": [
    {
     "name": "stdout",
     "output_type": "stream",
     "text": [
      "Logging hadn't been started.\n",
      "Activating auto-logging. Current session state plus future input saved.\n",
      "Filename       : /home/vsts/.qcodes/logs/command_history.log\n",
      "Mode           : append\n",
      "Output logging : True\n",
      "Raw input log  : False\n",
      "Timestamping   : True\n",
      "State          : active\n"
     ]
    },
    {
     "name": "stdout",
     "output_type": "stream",
     "text": [
      "Qcodes Logfile : /home/vsts/.qcodes/logs/210119-13423-qcodes.log\n"
     ]
    }
   ],
   "source": [
    "import os\n",
    "cwd = os.getcwd()\n",
    "import qcodes as qc\n",
    "qc.config[\"core\"][\"db_location\"] = os.path.join(cwd, 'testing.db')\n"
   ]
  },
  {
   "cell_type": "code",
   "execution_count": 2,
   "metadata": {
    "execution": {
     "iopub.execute_input": "2021-01-19T16:01:53.458041Z",
     "iopub.status.busy": "2021-01-19T16:01:53.456131Z",
     "iopub.status.idle": "2021-01-19T16:01:53.683059Z",
     "shell.execute_reply": "2021-01-19T16:01:53.682493Z"
    }
   },
   "outputs": [],
   "source": [
    "%matplotlib inline\n",
    "import time\n",
    "import matplotlib.pyplot as plt\n",
    "import numpy as np\n",
    "\n",
    "import qcodes as qc\n",
    "from qcodes.instrument.parameter import ManualParameter\n",
    "from qcodes.dataset.experiment_container import (Experiment,\n",
    "                                                 load_last_experiment,\n",
    "                                                 new_experiment)\n",
    "from qcodes.dataset.sqlite.database import initialise_database\n",
    "from qcodes import load_or_create_experiment\n",
    "from qcodes.dataset.measurements import Measurement"
   ]
  },
  {
   "cell_type": "code",
   "execution_count": 3,
   "metadata": {
    "execution": {
     "iopub.execute_input": "2021-01-19T16:01:53.687376Z",
     "iopub.status.busy": "2021-01-19T16:01:53.686624Z",
     "iopub.status.idle": "2021-01-19T16:01:53.837679Z",
     "shell.execute_reply": "2021-01-19T16:01:53.838172Z"
    }
   },
   "outputs": [
    {
     "name": "stdout",
     "output_type": "stream",
     "text": [
      "\r",
      "0it [00:00, ?it/s]"
     ]
    },
    {
     "name": "stdout",
     "output_type": "stream",
     "text": [
      "\r",
      "Upgrading database; v0 -> v1: : 0it [00:00, ?it/s]"
     ]
    },
    {
     "name": "stdout",
     "output_type": "stream",
     "text": [
      "\r",
      "Upgrading database; v0 -> v1: : 0it [00:00, ?it/s]"
     ]
    },
    {
     "name": "stdout",
     "output_type": "stream",
     "text": [
      "\n",
      "\r",
      "  0%|          | 0/1 [00:00<?, ?it/s]"
     ]
    },
    {
     "name": "stdout",
     "output_type": "stream",
     "text": [
      "\r",
      "Upgrading database; v1 -> v2:   0%|          | 0/1 [00:00<?, ?it/s]"
     ]
    },
    {
     "name": "stdout",
     "output_type": "stream",
     "text": [
      "\r",
      "Upgrading database; v1 -> v2: 100%|██████████| 1/1 [00:00<00:00, 393.24it/s]"
     ]
    },
    {
     "name": "stdout",
     "output_type": "stream",
     "text": [
      "\n",
      "\r",
      "0it [00:00, ?it/s]"
     ]
    },
    {
     "name": "stdout",
     "output_type": "stream",
     "text": [
      "\r",
      "Upgrading database; v2 -> v3: : 0it [00:00, ?it/s]"
     ]
    },
    {
     "name": "stdout",
     "output_type": "stream",
     "text": [
      "\r",
      "Upgrading database; v2 -> v3: : 0it [00:00, ?it/s]"
     ]
    },
    {
     "name": "stdout",
     "output_type": "stream",
     "text": [
      "\n",
      "\r",
      "0it [00:00, ?it/s]"
     ]
    },
    {
     "name": "stdout",
     "output_type": "stream",
     "text": [
      "\r",
      "Upgrading database; v3 -> v4: : 0it [00:00, ?it/s]"
     ]
    },
    {
     "name": "stdout",
     "output_type": "stream",
     "text": [
      "\r",
      "Upgrading database; v3 -> v4: : 0it [00:00, ?it/s]"
     ]
    },
    {
     "name": "stdout",
     "output_type": "stream",
     "text": [
      "\n",
      "\r",
      "  0%|          | 0/1 [00:00<?, ?it/s]"
     ]
    },
    {
     "name": "stdout",
     "output_type": "stream",
     "text": [
      "\r",
      "Upgrading database; v4 -> v5:   0%|          | 0/1 [00:00<?, ?it/s]"
     ]
    },
    {
     "name": "stdout",
     "output_type": "stream",
     "text": [
      "\r",
      "Upgrading database; v4 -> v5: 100%|██████████| 1/1 [00:00<00:00, 330.60it/s]"
     ]
    },
    {
     "name": "stdout",
     "output_type": "stream",
     "text": [
      "\n",
      "\r",
      "0it [00:00, ?it/s]"
     ]
    },
    {
     "name": "stdout",
     "output_type": "stream",
     "text": [
      "\r",
      "Upgrading database; v5 -> v6: : 0it [00:00, ?it/s]"
     ]
    },
    {
     "name": "stdout",
     "output_type": "stream",
     "text": [
      "\r",
      "Upgrading database; v5 -> v6: : 0it [00:00, ?it/s]"
     ]
    },
    {
     "name": "stdout",
     "output_type": "stream",
     "text": [
      "\n",
      "\r",
      "  0%|          | 0/1 [00:00<?, ?it/s]"
     ]
    },
    {
     "name": "stdout",
     "output_type": "stream",
     "text": [
      "\r",
      "Upgrading database; v6 -> v7:   0%|          | 0/1 [00:00<?, ?it/s]"
     ]
    },
    {
     "name": "stdout",
     "output_type": "stream",
     "text": [
      "\r",
      "Upgrading database; v6 -> v7: 100%|██████████| 1/1 [00:00<00:00, 204.07it/s]"
     ]
    },
    {
     "name": "stdout",
     "output_type": "stream",
     "text": [
      "\n",
      "\r",
      "  0%|          | 0/1 [00:00<?, ?it/s]"
     ]
    },
    {
     "name": "stdout",
     "output_type": "stream",
     "text": [
      "\r",
      "Upgrading database; v7 -> v8:   0%|          | 0/1 [00:00<?, ?it/s]"
     ]
    },
    {
     "name": "stdout",
     "output_type": "stream",
     "text": [
      "\r",
      "Upgrading database; v7 -> v8: 100%|██████████| 1/1 [00:00<00:00, 322.14it/s]"
     ]
    },
    {
     "name": "stdout",
     "output_type": "stream",
     "text": [
      "\n",
      "\r",
      "  0%|          | 0/1 [00:00<?, ?it/s]"
     ]
    },
    {
     "name": "stdout",
     "output_type": "stream",
     "text": [
      "\r",
      "Upgrading database; v8 -> v9:   0%|          | 0/1 [00:00<?, ?it/s]"
     ]
    },
    {
     "name": "stdout",
     "output_type": "stream",
     "text": [
      "\r",
      "Upgrading database; v8 -> v9: 100%|██████████| 1/1 [00:00<00:00, 779.47it/s]"
     ]
    },
    {
     "name": "stdout",
     "output_type": "stream",
     "text": [
      "\n"
     ]
    }
   ],
   "source": [
    "initialise_database()\n",
    "exp = load_or_create_experiment(experiment_name='tutorial_exp', sample_name=\"no sample\")"
   ]
  },
  {
   "cell_type": "markdown",
   "metadata": {},
   "source": [
    "Here, we define a simple function to benchmark the time it takes to insert n points with either numeric or array data type.\n",
    "We will compare both the time used to call ``add_result`` and the time used for the full measurement."
   ]
  },
  {
   "cell_type": "code",
   "execution_count": 4,
   "metadata": {
    "execution": {
     "iopub.execute_input": "2021-01-19T16:01:53.847998Z",
     "iopub.status.busy": "2021-01-19T16:01:53.847350Z",
     "iopub.status.idle": "2021-01-19T16:01:53.851494Z",
     "shell.execute_reply": "2021-01-19T16:01:53.850845Z"
    }
   },
   "outputs": [],
   "source": [
    "def insert_data(paramtype, npoints, nreps=1):\n",
    "\n",
    "    meas = Measurement(exp=exp)\n",
    "\n",
    "    x1 = ManualParameter('x1')\n",
    "    x2 = ManualParameter('x2')\n",
    "    x3 = ManualParameter('x3')\n",
    "    y1 = ManualParameter('y1')\n",
    "    y2 = ManualParameter('y2')\n",
    "\n",
    "    meas.register_parameter(x1, paramtype=paramtype)\n",
    "    meas.register_parameter(x2, paramtype=paramtype)\n",
    "    meas.register_parameter(x3, paramtype=paramtype)\n",
    "    meas.register_parameter(y1, setpoints=[x1, x2, x3],\n",
    "                            paramtype=paramtype)\n",
    "    meas.register_parameter(y2, setpoints=[x1, x2, x3],\n",
    "                            paramtype=paramtype)\n",
    "    start = time.perf_counter()\n",
    "    with meas.run() as datasaver:\n",
    "        start_adding = time.perf_counter()\n",
    "        for i in range(nreps):\n",
    "            datasaver.add_result((x1, np.random.rand(npoints)),\n",
    "                                 (x2, np.random.rand(npoints)),\n",
    "                                 (x3, np.random.rand(npoints)),\n",
    "                                 (y1, np.random.rand(npoints)),\n",
    "                                 (y2, np.random.rand(npoints)))\n",
    "        stop_adding = time.perf_counter()\n",
    "        run_id = datasaver.run_id\n",
    "    stop = time.perf_counter()\n",
    "    tot_time = stop - start\n",
    "    add_time = stop_adding - start_adding\n",
    "    return tot_time, add_time, run_id"
   ]
  },
  {
   "cell_type": "markdown",
   "metadata": {},
   "source": [
    "## Comparison between numeric/array data and binary blob"
   ]
  },
  {
   "cell_type": "markdown",
   "metadata": {},
   "source": [
    "### Case1: Short experiment time"
   ]
  },
  {
   "cell_type": "code",
   "execution_count": 5,
   "metadata": {
    "execution": {
     "iopub.execute_input": "2021-01-19T16:01:53.858220Z",
     "iopub.status.busy": "2021-01-19T16:01:53.857600Z",
     "iopub.status.idle": "2021-01-19T16:01:54.807664Z",
     "shell.execute_reply": "2021-01-19T16:01:54.806744Z"
    }
   },
   "outputs": [
    {
     "name": "stdout",
     "output_type": "stream",
     "text": [
      "Starting experimental run with id: 1. \n",
      "Starting experimental run with id: 2. \n",
      "Starting experimental run with id: 3. \n",
      "Starting experimental run with id: 4. \n"
     ]
    },
    {
     "name": "stdout",
     "output_type": "stream",
     "text": [
      "Starting experimental run with id: 5. \n"
     ]
    },
    {
     "name": "stdout",
     "output_type": "stream",
     "text": [
      "Starting experimental run with id: 6. \n"
     ]
    },
    {
     "name": "stdout",
     "output_type": "stream",
     "text": [
      "Starting experimental run with id: 7. \n"
     ]
    },
    {
     "name": "stdout",
     "output_type": "stream",
     "text": [
      "Starting experimental run with id: 8. \n"
     ]
    },
    {
     "name": "stdout",
     "output_type": "stream",
     "text": [
      "Starting experimental run with id: 9. \n"
     ]
    },
    {
     "name": "stdout",
     "output_type": "stream",
     "text": [
      "Starting experimental run with id: 10. \n",
      "Starting experimental run with id: 11. \n"
     ]
    },
    {
     "name": "stdout",
     "output_type": "stream",
     "text": [
      "Starting experimental run with id: 12. \n"
     ]
    },
    {
     "name": "stdout",
     "output_type": "stream",
     "text": [
      "Starting experimental run with id: 13. \n"
     ]
    },
    {
     "name": "stdout",
     "output_type": "stream",
     "text": [
      "Starting experimental run with id: 14. \n"
     ]
    }
   ],
   "source": [
    "sizes = [1,500,1000,2000,3000,4000,5000]\n",
    "t_numeric = []\n",
    "t_numeric_add = []\n",
    "t_array = []\n",
    "t_array_add = []\n",
    "for size in sizes:\n",
    "    tn, tna, run_id_n =  insert_data('numeric', size)\n",
    "    t_numeric.append(tn)\n",
    "    t_numeric_add.append(tna)\n",
    "\n",
    "    ta, taa, run_id_a =  insert_data('array', size)\n",
    "    t_array.append(ta)\n",
    "    t_array_add.append(taa)"
   ]
  },
  {
   "cell_type": "code",
   "execution_count": 6,
   "metadata": {
    "execution": {
     "iopub.execute_input": "2021-01-19T16:01:54.837849Z",
     "iopub.status.busy": "2021-01-19T16:01:54.827297Z",
     "iopub.status.idle": "2021-01-19T16:01:55.059585Z",
     "shell.execute_reply": "2021-01-19T16:01:55.059050Z"
    }
   },
   "outputs": [
    {
     "data": {
      "image/png": "[encoded data removed]",
      "text/plain": [
       "<Figure size 432x288 with 1 Axes>"
      ]
     },
     "metadata": {
      "needs_background": "light"
     },
     "output_type": "display_data"
    }
   ],
   "source": [
    "fig, ax = plt.subplots(1,1)\n",
    "ax.plot(sizes, t_numeric, 'o-', label='Inserting row-by-row')\n",
    "ax.plot(sizes, t_numeric_add, 'o-', label='Inserting row-by-row: add_result only')\n",
    "ax.plot(sizes, t_array, 'd-', label='Inserting as binary blob')\n",
    "ax.plot(sizes, t_array_add, 'd-', label='Inserting as binary blob: add_result only')\n",
    "ax.legend()\n",
    "ax.set_xlabel('Array length')\n",
    "ax.set_ylabel('Time (s)')\n",
    "fig.tight_layout()"
   ]
  },
  {
   "cell_type": "markdown",
   "metadata": {},
   "source": [
    "As shown in the latter figure, the time to setup and and close the experiment is approximately 0.4 sec. In case of small array sizes, the difference between inserting values of data as arrays and inserting them row-by-row is relatively unimportant. At larger array sizes, i.e. above 10000 points, the cost of writing data as individual datapoints starts to become important.\n"
   ]
  },
  {
   "cell_type": "markdown",
   "metadata": {},
   "source": [
    "### Case2: Long experiment time "
   ]
  },
  {
   "cell_type": "code",
   "execution_count": 7,
   "metadata": {
    "execution": {
     "iopub.execute_input": "2021-01-19T16:01:55.068028Z",
     "iopub.status.busy": "2021-01-19T16:01:55.067078Z",
     "iopub.status.idle": "2021-01-19T16:02:57.992617Z",
     "shell.execute_reply": "2021-01-19T16:02:57.993152Z"
    }
   },
   "outputs": [
    {
     "name": "stdout",
     "output_type": "stream",
     "text": [
      "Starting experimental run with id: 15. \n",
      "Starting experimental run with id: 16. \n",
      "Starting experimental run with id: 17. \n"
     ]
    },
    {
     "name": "stdout",
     "output_type": "stream",
     "text": [
      "Starting experimental run with id: 18. \n",
      "Starting experimental run with id: 19. \n"
     ]
    },
    {
     "name": "stdout",
     "output_type": "stream",
     "text": [
      "Starting experimental run with id: 20. \n"
     ]
    },
    {
     "name": "stdout",
     "output_type": "stream",
     "text": [
      "Starting experimental run with id: 21. \n"
     ]
    },
    {
     "name": "stdout",
     "output_type": "stream",
     "text": [
      "Starting experimental run with id: 22. \n"
     ]
    },
    {
     "name": "stdout",
     "output_type": "stream",
     "text": [
      "Starting experimental run with id: 23. \n"
     ]
    },
    {
     "name": "stdout",
     "output_type": "stream",
     "text": [
      "Starting experimental run with id: 24. \n"
     ]
    },
    {
     "name": "stdout",
     "output_type": "stream",
     "text": [
      "Starting experimental run with id: 25. \n"
     ]
    },
    {
     "name": "stdout",
     "output_type": "stream",
     "text": [
      "Starting experimental run with id: 26. \n"
     ]
    },
    {
     "name": "stdout",
     "output_type": "stream",
     "text": [
      "Starting experimental run with id: 27. \n"
     ]
    },
    {
     "name": "stdout",
     "output_type": "stream",
     "text": [
      "Starting experimental run with id: 28. \n"
     ]
    }
   ],
   "source": [
    "sizes = [1,500,1000,2000,3000,4000,5000]\n",
    "nreps = 100\n",
    "t_numeric = []\n",
    "t_numeric_add = []\n",
    "t_numeric_run_ids = []\n",
    "t_array = []\n",
    "t_array_add = []\n",
    "t_array_run_ids = []\n",
    "for size in sizes:\n",
    "    tn, tna, run_id_n =  insert_data('numeric', size, nreps=nreps)\n",
    "    t_numeric.append(tn)\n",
    "    t_numeric_add.append(tna)\n",
    "    t_numeric_run_ids.append(run_id_n)\n",
    "\n",
    "    ta, taa, run_id_a =  insert_data('array', size, nreps=nreps)\n",
    "    t_array.append(ta)\n",
    "    t_array_add.append(taa)\n",
    "    t_array_run_ids.append(run_id_a)"
   ]
  },
  {
   "cell_type": "code",
   "execution_count": 8,
   "metadata": {
    "execution": {
     "iopub.execute_input": "2021-01-19T16:02:58.028978Z",
     "iopub.status.busy": "2021-01-19T16:02:58.023231Z",
     "iopub.status.idle": "2021-01-19T16:02:58.253537Z",
     "shell.execute_reply": "2021-01-19T16:02:58.252993Z"
    },
    "scrolled": true
   },
   "outputs": [
    {
     "data": {
      "image/png": "[encoded data removed]",
      "text/plain": [
       "<Figure size 432x288 with 1 Axes>"
      ]
     },
     "metadata": {
      "needs_background": "light"
     },
     "output_type": "display_data"
    }
   ],
   "source": [
    "fig, ax = plt.subplots(1,1)\n",
    "ax.plot(sizes, t_numeric, 'o-', label='Inserting row-by-row')\n",
    "ax.plot(sizes, t_numeric_add, 'o-', label='Inserting row-by-row: add_result only')\n",
    "ax.plot(sizes, t_array, 'd-', label='Inserting as binary blob')\n",
    "ax.plot(sizes, t_array_add, 'd-', label='Inserting as binary blob: add_result only')\n",
    "ax.legend()\n",
    "ax.set_xlabel('Array length')\n",
    "ax.set_ylabel('Time (s)')\n",
    "fig.tight_layout()"
   ]
  },
  {
   "cell_type": "markdown",
   "metadata": {},
   "source": [
    "However, as we increase the length of the experiment, as seen here by repeating the insertion 100 times, we see a big difference between inserting values of the data row-by-row and inserting it as a binary blob."
   ]
  },
  {
   "cell_type": "markdown",
   "metadata": {},
   "source": [
    "## Loading the data "
   ]
  },
  {
   "cell_type": "code",
   "execution_count": 9,
   "metadata": {
    "execution": {
     "iopub.execute_input": "2021-01-19T16:02:58.258737Z",
     "iopub.status.busy": "2021-01-19T16:02:58.258147Z",
     "iopub.status.idle": "2021-01-19T16:02:58.261739Z",
     "shell.execute_reply": "2021-01-19T16:02:58.262224Z"
    }
   },
   "outputs": [],
   "source": [
    "from qcodes.dataset.data_set import load_by_id\n",
    "from qcodes.dataset.data_export import get_data_by_id"
   ]
  },
  {
   "cell_type": "markdown",
   "metadata": {},
   "source": [
    "As usual you can load the data by using the ``load_by_id`` function but you will notice that the different storage methods\n",
    "are reflected in shape of the data as it is retrieved. "
   ]
  },
  {
   "cell_type": "code",
   "execution_count": 10,
   "metadata": {
    "execution": {
     "iopub.execute_input": "2021-01-19T16:02:58.267422Z",
     "iopub.status.busy": "2021-01-19T16:02:58.266087Z",
     "iopub.status.idle": "2021-01-19T16:02:58.269137Z",
     "shell.execute_reply": "2021-01-19T16:02:58.269773Z"
    }
   },
   "outputs": [],
   "source": [
    "run_id_n = t_numeric_run_ids[0]\n",
    "run_id_a = t_array_run_ids[0]"
   ]
  },
  {
   "cell_type": "code",
   "execution_count": 11,
   "metadata": {
    "execution": {
     "iopub.execute_input": "2021-01-19T16:02:58.273740Z",
     "iopub.status.busy": "2021-01-19T16:02:58.273158Z",
     "iopub.status.idle": "2021-01-19T16:02:58.283703Z",
     "shell.execute_reply": "2021-01-19T16:02:58.284357Z"
    },
    "scrolled": true
   },
   "outputs": [
    {
     "data": {
      "text/plain": [
       "{'x1': {'x1': array([0.90975247, 0.90975247, 0.48948464, 0.48948464, 0.71612252,\n",
       "         0.71612252, 0.18527393, 0.18527393, 0.84707039, 0.84707039,\n",
       "         0.33505107, 0.33505107, 0.0906902 , 0.0906902 , 0.9360645 ,\n",
       "         0.9360645 , 0.86037261, 0.86037261, 0.14196882, 0.14196882,\n",
       "         0.89853361, 0.89853361, 0.03676717, 0.03676717, 0.56825942,\n",
       "         0.56825942, 0.0817787 , 0.0817787 , 0.47545948, 0.47545948,\n",
       "         0.67544406, 0.67544406, 0.21900592, 0.21900592, 0.93390486,\n",
       "         0.93390486, 0.49508391, 0.49508391, 0.3228944 , 0.3228944 ,\n",
       "         0.59675802, 0.59675802, 0.37087764, 0.37087764, 0.07833901,\n",
       "         0.07833901, 0.91943999, 0.91943999, 0.55546068, 0.55546068,\n",
       "         0.11689702, 0.11689702, 0.69389773, 0.69389773, 0.56231077,\n",
       "         0.56231077, 0.52791352, 0.52791352, 0.67678021, 0.67678021,\n",
       "         0.74501552, 0.74501552, 0.60145594, 0.60145594, 0.30624439,\n",
       "         0.30624439, 0.71480715, 0.71480715, 0.10160591, 0.10160591,\n",
       "         0.24704532, 0.24704532, 0.70172731, 0.70172731, 0.42585741,\n",
       "         0.42585741, 0.2392269 , 0.2392269 , 0.67063555, 0.67063555,\n",
       "         0.35305593, 0.35305593, 0.02989047, 0.02989047, 0.51144875,\n",
       "         0.51144875, 0.99646369, 0.99646369, 0.12207721, 0.12207721,\n",
       "         0.4364808 , 0.4364808 , 0.95098162, 0.95098162, 0.8405051 ,\n",
       "         0.8405051 , 0.71528839, 0.71528839, 0.18784766, 0.18784766,\n",
       "         0.34434398, 0.34434398, 0.55635812, 0.55635812, 0.24111834,\n",
       "         0.24111834, 0.57798196, 0.57798196, 0.94162468, 0.94162468,\n",
       "         0.48898672, 0.48898672, 0.46900434, 0.46900434, 0.58393233,\n",
       "         0.58393233, 0.53488679, 0.53488679, 0.01235081, 0.01235081,\n",
       "         0.55127383, 0.55127383, 0.98692114, 0.98692114, 0.69549907,\n",
       "         0.69549907, 0.01070775, 0.01070775, 0.51311664, 0.51311664,\n",
       "         0.26279323, 0.26279323, 0.68516008, 0.68516008, 0.34875439,\n",
       "         0.34875439, 0.5168728 , 0.5168728 , 0.15181674, 0.15181674,\n",
       "         0.90762814, 0.90762814, 0.92136586, 0.92136586, 0.5748657 ,\n",
       "         0.5748657 , 0.66053071, 0.66053071, 0.62448797, 0.62448797,\n",
       "         0.12096243, 0.12096243, 0.47171262, 0.47171262, 0.15076881,\n",
       "         0.15076881, 0.54910337, 0.54910337, 0.73744165, 0.73744165,\n",
       "         0.88457962, 0.88457962, 0.6877323 , 0.6877323 , 0.93509937,\n",
       "         0.93509937, 0.69493514, 0.69493514, 0.48578341, 0.48578341,\n",
       "         0.8734136 , 0.8734136 , 0.13273271, 0.13273271, 0.87037825,\n",
       "         0.87037825, 0.73775204, 0.73775204, 0.52601328, 0.52601328,\n",
       "         0.90806457, 0.90806457, 0.10192514, 0.10192514, 0.26027248,\n",
       "         0.26027248, 0.23881687, 0.23881687, 0.37332962, 0.37332962,\n",
       "         0.72986799, 0.72986799, 0.57032894, 0.57032894, 0.07952566,\n",
       "         0.07952566, 0.34197709, 0.34197709, 0.65312336, 0.65312336])}}"
      ]
     },
     "execution_count": 1,
     "metadata": {},
     "output_type": "execute_result"
    }
   ],
   "source": [
    "ds = load_by_id(run_id_n)\n",
    "ds.get_parameter_data('x1')"
   ]
  },
  {
   "cell_type": "markdown",
   "metadata": {},
   "source": [
    "And a dataset stored as binary arrays"
   ]
  },
  {
   "cell_type": "code",
   "execution_count": 12,
   "metadata": {
    "execution": {
     "iopub.execute_input": "2021-01-19T16:02:58.288243Z",
     "iopub.status.busy": "2021-01-19T16:02:58.287611Z",
     "iopub.status.idle": "2021-01-19T16:02:58.356538Z",
     "shell.execute_reply": "2021-01-19T16:02:58.357248Z"
    },
    "scrolled": true
   },
   "outputs": [
    {
     "data": {
      "text/plain": [
       "{'x1': {'x1': array([[0.75701792],\n",
       "         [0.75701792],\n",
       "         [0.58544809],\n",
       "         [0.58544809],\n",
       "         [0.30882975],\n",
       "         [0.30882975],\n",
       "         [0.35951457],\n",
       "         [0.35951457],\n",
       "         [0.16940735],\n",
       "         [0.16940735],\n",
       "         [0.59298476],\n",
       "         [0.59298476],\n",
       "         [0.9302154 ],\n",
       "         [0.9302154 ],\n",
       "         [0.04462166],\n",
       "         [0.04462166],\n",
       "         [0.53916772],\n",
       "         [0.53916772],\n",
       "         [0.87143666],\n",
       "         [0.87143666],\n",
       "         [0.5844645 ],\n",
       "         [0.5844645 ],\n",
       "         [0.25004991],\n",
       "         [0.25004991],\n",
       "         [0.89153289],\n",
       "         [0.89153289],\n",
       "         [0.04943142],\n",
       "         [0.04943142],\n",
       "         [0.64493658],\n",
       "         [0.64493658],\n",
       "         [0.5246594 ],\n",
       "         [0.5246594 ],\n",
       "         [0.85554852],\n",
       "         [0.85554852],\n",
       "         [0.35409465],\n",
       "         [0.35409465],\n",
       "         [0.5585157 ],\n",
       "         [0.5585157 ],\n",
       "         [0.160871  ],\n",
       "         [0.160871  ],\n",
       "         [0.46109896],\n",
       "         [0.46109896],\n",
       "         [0.20903171],\n",
       "         [0.20903171],\n",
       "         [0.80630191],\n",
       "         [0.80630191],\n",
       "         [0.47134591],\n",
       "         [0.47134591],\n",
       "         [0.45980602],\n",
       "         [0.45980602],\n",
       "         [0.80260088],\n",
       "         [0.80260088],\n",
       "         [0.73792788],\n",
       "         [0.73792788],\n",
       "         [0.1091643 ],\n",
       "         [0.1091643 ],\n",
       "         [0.30561081],\n",
       "         [0.30561081],\n",
       "         [0.79111925],\n",
       "         [0.79111925],\n",
       "         [0.13672314],\n",
       "         [0.13672314],\n",
       "         [0.07743938],\n",
       "         [0.07743938],\n",
       "         [0.28491928],\n",
       "         [0.28491928],\n",
       "         [0.40582646],\n",
       "         [0.40582646],\n",
       "         [0.70203402],\n",
       "         [0.70203402],\n",
       "         [0.90255192],\n",
       "         [0.90255192],\n",
       "         [0.29032421],\n",
       "         [0.29032421],\n",
       "         [0.07633294],\n",
       "         [0.07633294],\n",
       "         [0.17294279],\n",
       "         [0.17294279],\n",
       "         [0.41549367],\n",
       "         [0.41549367],\n",
       "         [0.44588852],\n",
       "         [0.44588852],\n",
       "         [0.28429667],\n",
       "         [0.28429667],\n",
       "         [0.80177528],\n",
       "         [0.80177528],\n",
       "         [0.00476706],\n",
       "         [0.00476706],\n",
       "         [0.23089212],\n",
       "         [0.23089212],\n",
       "         [0.97861947],\n",
       "         [0.97861947],\n",
       "         [0.43995431],\n",
       "         [0.43995431],\n",
       "         [0.31184092],\n",
       "         [0.31184092],\n",
       "         [0.935847  ],\n",
       "         [0.935847  ],\n",
       "         [0.09845717],\n",
       "         [0.09845717],\n",
       "         [0.88597342],\n",
       "         [0.88597342],\n",
       "         [0.97778258],\n",
       "         [0.97778258],\n",
       "         [0.7970236 ],\n",
       "         [0.7970236 ],\n",
       "         [0.49660719],\n",
       "         [0.49660719],\n",
       "         [0.05188985],\n",
       "         [0.05188985],\n",
       "         [0.62731911],\n",
       "         [0.62731911],\n",
       "         [0.95166884],\n",
       "         [0.95166884],\n",
       "         [0.12888699],\n",
       "         [0.12888699],\n",
       "         [0.12695075],\n",
       "         [0.12695075],\n",
       "         [0.72609834],\n",
       "         [0.72609834],\n",
       "         [0.01699015],\n",
       "         [0.01699015],\n",
       "         [0.55126589],\n",
       "         [0.55126589],\n",
       "         [0.47345193],\n",
       "         [0.47345193],\n",
       "         [0.91170676],\n",
       "         [0.91170676],\n",
       "         [0.06751184],\n",
       "         [0.06751184],\n",
       "         [0.18113997],\n",
       "         [0.18113997],\n",
       "         [0.67608033],\n",
       "         [0.67608033],\n",
       "         [0.76713007],\n",
       "         [0.76713007],\n",
       "         [0.12334337],\n",
       "         [0.12334337],\n",
       "         [0.96443557],\n",
       "         [0.96443557],\n",
       "         [0.60469807],\n",
       "         [0.60469807],\n",
       "         [0.02733359],\n",
       "         [0.02733359],\n",
       "         [0.95520445],\n",
       "         [0.95520445],\n",
       "         [0.37778883],\n",
       "         [0.37778883],\n",
       "         [0.65673322],\n",
       "         [0.65673322],\n",
       "         [0.71783334],\n",
       "         [0.71783334],\n",
       "         [0.06037637],\n",
       "         [0.06037637],\n",
       "         [0.04022029],\n",
       "         [0.04022029],\n",
       "         [0.99913554],\n",
       "         [0.99913554],\n",
       "         [0.20930577],\n",
       "         [0.20930577],\n",
       "         [0.98838437],\n",
       "         [0.98838437],\n",
       "         [0.59863802],\n",
       "         [0.59863802],\n",
       "         [0.69253575],\n",
       "         [0.69253575],\n",
       "         [0.2008337 ],\n",
       "         [0.2008337 ],\n",
       "         [0.37970486],\n",
       "         [0.37970486],\n",
       "         [0.26107113],\n",
       "         [0.26107113],\n",
       "         [0.10456864],\n",
       "         [0.10456864],\n",
       "         [0.93034512],\n",
       "         [0.93034512],\n",
       "         [0.14742015],\n",
       "         [0.14742015],\n",
       "         [0.07405651],\n",
       "         [0.07405651],\n",
       "         [0.15736661],\n",
       "         [0.15736661],\n",
       "         [0.97874505],\n",
       "         [0.97874505],\n",
       "         [0.88892899],\n",
       "         [0.88892899],\n",
       "         [0.65764473],\n",
       "         [0.65764473],\n",
       "         [0.90052723],\n",
       "         [0.90052723],\n",
       "         [0.7030275 ],\n",
       "         [0.7030275 ],\n",
       "         [0.0342221 ],\n",
       "         [0.0342221 ],\n",
       "         [0.8411899 ],\n",
       "         [0.8411899 ],\n",
       "         [0.29865027],\n",
       "         [0.29865027],\n",
       "         [0.5175812 ],\n",
       "         [0.5175812 ]])}}"
      ]
     },
     "execution_count": 1,
     "metadata": {},
     "output_type": "execute_result"
    }
   ],
   "source": [
    "ds = load_by_id(run_id_a)\n",
    "ds.get_parameter_data('x1')"
   ]
  },
  {
   "cell_type": "code",
   "execution_count": null,
   "metadata": {},
   "outputs": [],
   "source": []
  }
 ],
 "metadata": {
  "kernelspec": {
   "display_name": "Python 3",
   "language": "python",
   "name": "python3"
  },
  "language_info": {
   "codemirror_mode": {
    "name": "ipython",
    "version": 3
   },
   "file_extension": ".py",
   "mimetype": "text/x-python",
   "name": "python",
   "nbconvert_exporter": "python",
   "pygments_lexer": "ipython3",
   "version": "3.7.9"
  },
  "nbsphinx": {
   "timeout": 600
  },
  "toc": {
   "base_numbering": 1,
   "nav_menu": {},
   "number_sections": true,
   "sideBar": true,
   "skip_h1_title": false,
   "title_cell": "Table of Contents",
   "title_sidebar": "Contents",
   "toc_cell": false,
   "toc_position": {},
   "toc_section_display": true,
   "toc_window_display": false
  },
  "varInspector": {
   "cols": {
    "lenName": 16,
    "lenType": 16,
    "lenVar": 40
   },
   "kernels_config": {
    "python": {
     "delete_cmd_postfix": "",
     "delete_cmd_prefix": "del ",
     "library": "var_list.py",
     "varRefreshCmd": "print(var_dic_list())"
    },
    "r": {
     "delete_cmd_postfix": ") ",
     "delete_cmd_prefix": "rm(",
     "library": "var_list.r",
     "varRefreshCmd": "cat(var_dic_list()) "
    }
   },
   "types_to_exclude": [
    "module",
    "function",
    "builtin_function_or_method",
    "instance",
    "_Feature"
   ],
   "window_display": false
  }
 },
 "nbformat": 4,
 "nbformat_minor": 2
}
