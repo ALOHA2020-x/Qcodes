{
 "cells": [
  {
   "cell_type": "markdown",
   "metadata": {},
   "source": [
    "# DataSet Performance\n",
    "\n",
    "This notebook shows the trade-off between inserting data into a database row-by-row and as binary blobs. Inserting the data row-by-row means that we have direct access to all the data and may perform queries directly on the values of the data. On the other hand, as we shall see, this is much slower than inserting the data directly as binary blobs."
   ]
  },
  {
   "cell_type": "markdown",
   "metadata": {},
   "source": [
    "First, we choose a new location for the database to ensure that we don't add a bunch of benchmarking data to the default one."
   ]
  },
  {
   "cell_type": "code",
   "execution_count": 1,
   "metadata": {
    "execution": {
     "iopub.execute_input": "2021-01-05T10:08:53.196905Z",
     "iopub.status.busy": "2021-01-05T10:08:53.195847Z",
     "iopub.status.idle": "2021-01-05T10:08:54.215460Z",
     "shell.execute_reply": "2021-01-05T10:08:54.214516Z"
    }
   },
   "outputs": [
    {
     "name": "stdout",
     "output_type": "stream",
     "text": [
      "Logging hadn't been started.\n",
      "Activating auto-logging. Current session state plus future input saved.\n",
      "Filename       : /home/vsts/.qcodes/logs/command_history.log\n",
      "Mode           : append\n",
      "Output logging : True\n",
      "Raw input log  : False\n",
      "Timestamping   : True\n",
      "State          : active\n"
     ]
    },
    {
     "name": "stdout",
     "output_type": "stream",
     "text": [
      "Qcodes Logfile : /home/vsts/.qcodes/logs/210105-13501-qcodes.log\n"
     ]
    }
   ],
   "source": [
    "import os\n",
    "cwd = os.getcwd()\n",
    "import qcodes as qc\n",
    "qc.config[\"core\"][\"db_location\"] = os.path.join(cwd, 'testing.db')\n"
   ]
  },
  {
   "cell_type": "code",
   "execution_count": 2,
   "metadata": {
    "execution": {
     "iopub.execute_input": "2021-01-05T10:08:54.222315Z",
     "iopub.status.busy": "2021-01-05T10:08:54.221737Z",
     "iopub.status.idle": "2021-01-05T10:08:54.404966Z",
     "shell.execute_reply": "2021-01-05T10:08:54.403919Z"
    }
   },
   "outputs": [],
   "source": [
    "%matplotlib inline\n",
    "import time\n",
    "import matplotlib.pyplot as plt\n",
    "import numpy as np\n",
    "\n",
    "import qcodes as qc\n",
    "from qcodes.instrument.parameter import ManualParameter\n",
    "from qcodes.dataset.experiment_container import (Experiment,\n",
    "                                                 load_last_experiment,\n",
    "                                                 new_experiment)\n",
    "from qcodes.dataset.sqlite.database import initialise_database\n",
    "from qcodes import load_or_create_experiment\n",
    "from qcodes.dataset.measurements import Measurement"
   ]
  },
  {
   "cell_type": "code",
   "execution_count": 3,
   "metadata": {
    "execution": {
     "iopub.execute_input": "2021-01-05T10:08:54.409106Z",
     "iopub.status.busy": "2021-01-05T10:08:54.408156Z",
     "iopub.status.idle": "2021-01-05T10:08:54.507062Z",
     "shell.execute_reply": "2021-01-05T10:08:54.506492Z"
    }
   },
   "outputs": [
    {
     "name": "stdout",
     "output_type": "stream",
     "text": [
      "\r",
      "0it [00:00, ?it/s]"
     ]
    },
    {
     "name": "stdout",
     "output_type": "stream",
     "text": [
      "\r",
      "Upgrading database; v0 -> v1: : 0it [00:00, ?it/s]"
     ]
    },
    {
     "name": "stdout",
     "output_type": "stream",
     "text": [
      "\r",
      "Upgrading database; v0 -> v1: : 0it [00:00, ?it/s]"
     ]
    },
    {
     "name": "stdout",
     "output_type": "stream",
     "text": [
      "\n",
      "\r",
      "  0%|          | 0/1 [00:00<?, ?it/s]"
     ]
    },
    {
     "name": "stdout",
     "output_type": "stream",
     "text": [
      "\r",
      "Upgrading database; v1 -> v2:   0%|          | 0/1 [00:00<?, ?it/s]"
     ]
    },
    {
     "name": "stdout",
     "output_type": "stream",
     "text": [
      "\r",
      "Upgrading database; v1 -> v2: 100%|██████████| 1/1 [00:00<00:00, 517.11it/s]"
     ]
    },
    {
     "name": "stdout",
     "output_type": "stream",
     "text": [
      "\n",
      "\r",
      "0it [00:00, ?it/s]"
     ]
    },
    {
     "name": "stdout",
     "output_type": "stream",
     "text": [
      "\r",
      "Upgrading database; v2 -> v3: : 0it [00:00, ?it/s]"
     ]
    },
    {
     "name": "stdout",
     "output_type": "stream",
     "text": [
      "\r",
      "Upgrading database; v2 -> v3: : 0it [00:00, ?it/s]"
     ]
    },
    {
     "name": "stdout",
     "output_type": "stream",
     "text": [
      "\n",
      "\r",
      "0it [00:00, ?it/s]"
     ]
    },
    {
     "name": "stdout",
     "output_type": "stream",
     "text": [
      "\r",
      "Upgrading database; v3 -> v4: : 0it [00:00, ?it/s]"
     ]
    },
    {
     "name": "stdout",
     "output_type": "stream",
     "text": [
      "\r",
      "Upgrading database; v3 -> v4: : 0it [00:00, ?it/s]"
     ]
    },
    {
     "name": "stdout",
     "output_type": "stream",
     "text": [
      "\n",
      "\r",
      "  0%|          | 0/1 [00:00<?, ?it/s]"
     ]
    },
    {
     "name": "stdout",
     "output_type": "stream",
     "text": [
      "\r",
      "Upgrading database; v4 -> v5:   0%|          | 0/1 [00:00<?, ?it/s]"
     ]
    },
    {
     "name": "stdout",
     "output_type": "stream",
     "text": [
      "\r",
      "Upgrading database; v4 -> v5: 100%|██████████| 1/1 [00:00<00:00, 943.39it/s]"
     ]
    },
    {
     "name": "stdout",
     "output_type": "stream",
     "text": [
      "\n",
      "\r",
      "0it [00:00, ?it/s]"
     ]
    },
    {
     "name": "stdout",
     "output_type": "stream",
     "text": [
      "\r",
      "Upgrading database; v5 -> v6: : 0it [00:00, ?it/s]"
     ]
    },
    {
     "name": "stdout",
     "output_type": "stream",
     "text": [
      "\r",
      "Upgrading database; v5 -> v6: : 0it [00:00, ?it/s]"
     ]
    },
    {
     "name": "stdout",
     "output_type": "stream",
     "text": [
      "\n",
      "\r",
      "  0%|          | 0/1 [00:00<?, ?it/s]"
     ]
    },
    {
     "name": "stdout",
     "output_type": "stream",
     "text": [
      "\r",
      "Upgrading database; v6 -> v7:   0%|          | 0/1 [00:00<?, ?it/s]"
     ]
    },
    {
     "name": "stdout",
     "output_type": "stream",
     "text": [
      "\r",
      "Upgrading database; v6 -> v7: 100%|██████████| 1/1 [00:00<00:00, 583.35it/s]"
     ]
    },
    {
     "name": "stdout",
     "output_type": "stream",
     "text": [
      "\n",
      "\r",
      "  0%|          | 0/1 [00:00<?, ?it/s]"
     ]
    },
    {
     "name": "stdout",
     "output_type": "stream",
     "text": [
      "\r",
      "Upgrading database; v7 -> v8:   0%|          | 0/1 [00:00<?, ?it/s]"
     ]
    },
    {
     "name": "stdout",
     "output_type": "stream",
     "text": [
      "\r",
      "Upgrading database; v7 -> v8: 100%|██████████| 1/1 [00:00<00:00, 557.98it/s]"
     ]
    },
    {
     "name": "stdout",
     "output_type": "stream",
     "text": [
      "\n",
      "\r",
      "  0%|          | 0/1 [00:00<?, ?it/s]"
     ]
    },
    {
     "name": "stdout",
     "output_type": "stream",
     "text": [
      "\r",
      "Upgrading database; v8 -> v9:   0%|          | 0/1 [00:00<?, ?it/s]"
     ]
    },
    {
     "name": "stdout",
     "output_type": "stream",
     "text": [
      "\r",
      "Upgrading database; v8 -> v9: 100%|██████████| 1/1 [00:00<00:00, 1518.03it/s]"
     ]
    },
    {
     "name": "stdout",
     "output_type": "stream",
     "text": [
      "\n"
     ]
    }
   ],
   "source": [
    "initialise_database()\n",
    "exp = load_or_create_experiment(experiment_name='tutorial_exp', sample_name=\"no sample\")"
   ]
  },
  {
   "cell_type": "markdown",
   "metadata": {},
   "source": [
    "Here, we define a simple function to benchmark the time it takes to insert n points with either numeric or array data type.\n",
    "We will compare both the time used to call ``add_result`` and the time used for the full measurement."
   ]
  },
  {
   "cell_type": "code",
   "execution_count": 4,
   "metadata": {
    "execution": {
     "iopub.execute_input": "2021-01-05T10:08:54.515416Z",
     "iopub.status.busy": "2021-01-05T10:08:54.514435Z",
     "iopub.status.idle": "2021-01-05T10:08:54.515981Z",
     "shell.execute_reply": "2021-01-05T10:08:54.516468Z"
    }
   },
   "outputs": [],
   "source": [
    "def insert_data(paramtype, npoints, nreps=1):\n",
    "\n",
    "    meas = Measurement(exp=exp)\n",
    "\n",
    "    x1 = ManualParameter('x1')\n",
    "    x2 = ManualParameter('x2')\n",
    "    x3 = ManualParameter('x3')\n",
    "    y1 = ManualParameter('y1')\n",
    "    y2 = ManualParameter('y2')\n",
    "\n",
    "    meas.register_parameter(x1, paramtype=paramtype)\n",
    "    meas.register_parameter(x2, paramtype=paramtype)\n",
    "    meas.register_parameter(x3, paramtype=paramtype)\n",
    "    meas.register_parameter(y1, setpoints=[x1, x2, x3],\n",
    "                            paramtype=paramtype)\n",
    "    meas.register_parameter(y2, setpoints=[x1, x2, x3],\n",
    "                            paramtype=paramtype)\n",
    "    start = time.perf_counter()\n",
    "    with meas.run() as datasaver:\n",
    "        start_adding = time.perf_counter()\n",
    "        for i in range(nreps):\n",
    "            datasaver.add_result((x1, np.random.rand(npoints)),\n",
    "                                 (x2, np.random.rand(npoints)),\n",
    "                                 (x3, np.random.rand(npoints)),\n",
    "                                 (y1, np.random.rand(npoints)),\n",
    "                                 (y2, np.random.rand(npoints)))\n",
    "        stop_adding = time.perf_counter()\n",
    "        run_id = datasaver.run_id\n",
    "    stop = time.perf_counter()\n",
    "    tot_time = stop - start\n",
    "    add_time = stop_adding - start_adding\n",
    "    return tot_time, add_time, run_id"
   ]
  },
  {
   "cell_type": "markdown",
   "metadata": {},
   "source": [
    "## Comparison between numeric/array data and binary blob"
   ]
  },
  {
   "cell_type": "markdown",
   "metadata": {},
   "source": [
    "### Case1: Short experiment time"
   ]
  },
  {
   "cell_type": "code",
   "execution_count": 5,
   "metadata": {
    "execution": {
     "iopub.execute_input": "2021-01-05T10:08:54.522549Z",
     "iopub.status.busy": "2021-01-05T10:08:54.521021Z",
     "iopub.status.idle": "2021-01-05T10:08:55.320980Z",
     "shell.execute_reply": "2021-01-05T10:08:55.320191Z"
    }
   },
   "outputs": [
    {
     "name": "stdout",
     "output_type": "stream",
     "text": [
      "Starting experimental run with id: 1. \n",
      "Starting experimental run with id: 2. \n",
      "Starting experimental run with id: 3. \n",
      "Starting experimental run with id: 4. \n",
      "Starting experimental run with id: 5. \n"
     ]
    },
    {
     "name": "stdout",
     "output_type": "stream",
     "text": [
      "Starting experimental run with id: 6. \n"
     ]
    },
    {
     "name": "stdout",
     "output_type": "stream",
     "text": [
      "Starting experimental run with id: 7. \n"
     ]
    },
    {
     "name": "stdout",
     "output_type": "stream",
     "text": [
      "Starting experimental run with id: 8. \n",
      "Starting experimental run with id: 9. \n"
     ]
    },
    {
     "name": "stdout",
     "output_type": "stream",
     "text": [
      "Starting experimental run with id: 10. \n",
      "Starting experimental run with id: 11. \n"
     ]
    },
    {
     "name": "stdout",
     "output_type": "stream",
     "text": [
      "Starting experimental run with id: 12. \n",
      "Starting experimental run with id: 13. \n"
     ]
    },
    {
     "name": "stdout",
     "output_type": "stream",
     "text": [
      "Starting experimental run with id: 14. \n"
     ]
    }
   ],
   "source": [
    "sizes = [1,500,1000,2000,3000,4000,5000]\n",
    "t_numeric = []\n",
    "t_numeric_add = []\n",
    "t_array = []\n",
    "t_array_add = []\n",
    "for size in sizes:\n",
    "    tn, tna, run_id_n =  insert_data('numeric', size)\n",
    "    t_numeric.append(tn)\n",
    "    t_numeric_add.append(tna)\n",
    "\n",
    "    ta, taa, run_id_a =  insert_data('array', size)\n",
    "    t_array.append(ta)\n",
    "    t_array_add.append(taa)"
   ]
  },
  {
   "cell_type": "code",
   "execution_count": 6,
   "metadata": {
    "execution": {
     "iopub.execute_input": "2021-01-05T10:08:55.348744Z",
     "iopub.status.busy": "2021-01-05T10:08:55.336574Z",
     "iopub.status.idle": "2021-01-05T10:08:55.506638Z",
     "shell.execute_reply": "2021-01-05T10:08:55.507069Z"
    }
   },
   "outputs": [
    {
     "data": {
      "image/png": "[encoded data removed]",
      "text/plain": [
       "<Figure size 432x288 with 1 Axes>"
      ]
     },
     "metadata": {
      "needs_background": "light"
     },
     "output_type": "display_data"
    }
   ],
   "source": [
    "fig, ax = plt.subplots(1,1)\n",
    "ax.plot(sizes, t_numeric, 'o-', label='Inserting row-by-row')\n",
    "ax.plot(sizes, t_numeric_add, 'o-', label='Inserting row-by-row: add_result only')\n",
    "ax.plot(sizes, t_array, 'd-', label='Inserting as binary blob')\n",
    "ax.plot(sizes, t_array_add, 'd-', label='Inserting as binary blob: add_result only')\n",
    "ax.legend()\n",
    "ax.set_xlabel('Array length')\n",
    "ax.set_ylabel('Time (s)')\n",
    "fig.tight_layout()"
   ]
  },
  {
   "cell_type": "markdown",
   "metadata": {},
   "source": [
    "As shown in the latter figure, the time to setup and and close the experiment is approximately 0.4 sec. In case of small array sizes, the difference between inserting values of data as arrays and inserting them row-by-row is relatively unimportant. At larger array sizes, i.e. above 10000 points, the cost of writing data as individual datapoints starts to become important.\n"
   ]
  },
  {
   "cell_type": "markdown",
   "metadata": {},
   "source": [
    "### Case2: Long experiment time "
   ]
  },
  {
   "cell_type": "code",
   "execution_count": 7,
   "metadata": {
    "execution": {
     "iopub.execute_input": "2021-01-05T10:08:55.509603Z",
     "iopub.status.busy": "2021-01-05T10:08:55.509094Z",
     "iopub.status.idle": "2021-01-05T10:09:52.202664Z",
     "shell.execute_reply": "2021-01-05T10:09:52.203249Z"
    }
   },
   "outputs": [
    {
     "name": "stdout",
     "output_type": "stream",
     "text": [
      "Starting experimental run with id: 15. \n",
      "Starting experimental run with id: 16. \n",
      "Starting experimental run with id: 17. \n"
     ]
    },
    {
     "name": "stdout",
     "output_type": "stream",
     "text": [
      "Starting experimental run with id: 18. \n",
      "Starting experimental run with id: 19. \n"
     ]
    },
    {
     "name": "stdout",
     "output_type": "stream",
     "text": [
      "Starting experimental run with id: 20. \n"
     ]
    },
    {
     "name": "stdout",
     "output_type": "stream",
     "text": [
      "Starting experimental run with id: 21. \n"
     ]
    },
    {
     "name": "stdout",
     "output_type": "stream",
     "text": [
      "Starting experimental run with id: 22. \n"
     ]
    },
    {
     "name": "stdout",
     "output_type": "stream",
     "text": [
      "Starting experimental run with id: 23. \n"
     ]
    },
    {
     "name": "stdout",
     "output_type": "stream",
     "text": [
      "Starting experimental run with id: 24. \n"
     ]
    },
    {
     "name": "stdout",
     "output_type": "stream",
     "text": [
      "Starting experimental run with id: 25. \n"
     ]
    },
    {
     "name": "stdout",
     "output_type": "stream",
     "text": [
      "Starting experimental run with id: 26. \n"
     ]
    },
    {
     "name": "stdout",
     "output_type": "stream",
     "text": [
      "Starting experimental run with id: 27. \n"
     ]
    },
    {
     "name": "stdout",
     "output_type": "stream",
     "text": [
      "Starting experimental run with id: 28. \n"
     ]
    }
   ],
   "source": [
    "sizes = [1,500,1000,2000,3000,4000,5000]\n",
    "nreps = 100\n",
    "t_numeric = []\n",
    "t_numeric_add = []\n",
    "t_numeric_run_ids = []\n",
    "t_array = []\n",
    "t_array_add = []\n",
    "t_array_run_ids = []\n",
    "for size in sizes:\n",
    "    tn, tna, run_id_n =  insert_data('numeric', size, nreps=nreps)\n",
    "    t_numeric.append(tn)\n",
    "    t_numeric_add.append(tna)\n",
    "    t_numeric_run_ids.append(run_id_n)\n",
    "\n",
    "    ta, taa, run_id_a =  insert_data('array', size, nreps=nreps)\n",
    "    t_array.append(ta)\n",
    "    t_array_add.append(taa)\n",
    "    t_array_run_ids.append(run_id_a)"
   ]
  },
  {
   "cell_type": "code",
   "execution_count": 8,
   "metadata": {
    "execution": {
     "iopub.execute_input": "2021-01-05T10:09:52.240189Z",
     "iopub.status.busy": "2021-01-05T10:09:52.231058Z",
     "iopub.status.idle": "2021-01-05T10:09:52.395747Z",
     "shell.execute_reply": "2021-01-05T10:09:52.396260Z"
    },
    "scrolled": true
   },
   "outputs": [
    {
     "data": {
      "image/png": "[encoded data removed]",
      "text/plain": [
       "<Figure size 432x288 with 1 Axes>"
      ]
     },
     "metadata": {
      "needs_background": "light"
     },
     "output_type": "display_data"
    }
   ],
   "source": [
    "fig, ax = plt.subplots(1,1)\n",
    "ax.plot(sizes, t_numeric, 'o-', label='Inserting row-by-row')\n",
    "ax.plot(sizes, t_numeric_add, 'o-', label='Inserting row-by-row: add_result only')\n",
    "ax.plot(sizes, t_array, 'd-', label='Inserting as binary blob')\n",
    "ax.plot(sizes, t_array_add, 'd-', label='Inserting as binary blob: add_result only')\n",
    "ax.legend()\n",
    "ax.set_xlabel('Array length')\n",
    "ax.set_ylabel('Time (s)')\n",
    "fig.tight_layout()"
   ]
  },
  {
   "cell_type": "markdown",
   "metadata": {},
   "source": [
    "However, as we increase the length of the experiment, as seen here by repeating the insertion 100 times, we see a big difference between inserting values of the data row-by-row and inserting it as a binary blob."
   ]
  },
  {
   "cell_type": "markdown",
   "metadata": {},
   "source": [
    "## Loading the data "
   ]
  },
  {
   "cell_type": "code",
   "execution_count": 9,
   "metadata": {
    "execution": {
     "iopub.execute_input": "2021-01-05T10:09:52.400428Z",
     "iopub.status.busy": "2021-01-05T10:09:52.399587Z",
     "iopub.status.idle": "2021-01-05T10:09:52.403453Z",
     "shell.execute_reply": "2021-01-05T10:09:52.404143Z"
    }
   },
   "outputs": [],
   "source": [
    "from qcodes.dataset.data_set import load_by_id\n",
    "from qcodes.dataset.data_export import get_data_by_id"
   ]
  },
  {
   "cell_type": "markdown",
   "metadata": {},
   "source": [
    "As usual you can load the data by using the ``load_by_id`` function but you will notice that the different storage methods\n",
    "are reflected in shape of the data as it is retrieved. "
   ]
  },
  {
   "cell_type": "code",
   "execution_count": 10,
   "metadata": {
    "execution": {
     "iopub.execute_input": "2021-01-05T10:09:52.407659Z",
     "iopub.status.busy": "2021-01-05T10:09:52.407187Z",
     "iopub.status.idle": "2021-01-05T10:09:52.409310Z",
     "shell.execute_reply": "2021-01-05T10:09:52.408759Z"
    }
   },
   "outputs": [],
   "source": [
    "run_id_n = t_numeric_run_ids[0]\n",
    "run_id_a = t_array_run_ids[0]"
   ]
  },
  {
   "cell_type": "code",
   "execution_count": 11,
   "metadata": {
    "execution": {
     "iopub.execute_input": "2021-01-05T10:09:52.412302Z",
     "iopub.status.busy": "2021-01-05T10:09:52.411830Z",
     "iopub.status.idle": "2021-01-05T10:09:52.420606Z",
     "shell.execute_reply": "2021-01-05T10:09:52.420103Z"
    },
    "scrolled": true
   },
   "outputs": [
    {
     "data": {
      "text/plain": [
       "{'x1': {'x1': array([0.51578957, 0.51578957, 0.78992487, 0.78992487, 0.30167842,\n",
       "         0.30167842, 0.74534416, 0.74534416, 0.08341982, 0.08341982,\n",
       "         0.25435535, 0.25435535, 0.88811228, 0.88811228, 0.01975833,\n",
       "         0.01975833, 0.71296824, 0.71296824, 0.62273211, 0.62273211,\n",
       "         0.03639464, 0.03639464, 0.22341068, 0.22341068, 0.26215271,\n",
       "         0.26215271, 0.34262354, 0.34262354, 0.65322711, 0.65322711,\n",
       "         0.64284432, 0.64284432, 0.13449951, 0.13449951, 0.88742275,\n",
       "         0.88742275, 0.19323068, 0.19323068, 0.13281513, 0.13281513,\n",
       "         0.99936708, 0.99936708, 0.25929553, 0.25929553, 0.1519851 ,\n",
       "         0.1519851 , 0.58627619, 0.58627619, 0.30584336, 0.30584336,\n",
       "         0.68342034, 0.68342034, 0.88125573, 0.88125573, 0.82991713,\n",
       "         0.82991713, 0.01990596, 0.01990596, 0.09139577, 0.09139577,\n",
       "         0.05214286, 0.05214286, 0.93001176, 0.93001176, 0.60091696,\n",
       "         0.60091696, 0.79399019, 0.79399019, 0.97583191, 0.97583191,\n",
       "         0.1376991 , 0.1376991 , 0.4584504 , 0.4584504 , 0.88206019,\n",
       "         0.88206019, 0.96511601, 0.96511601, 0.20208301, 0.20208301,\n",
       "         0.45443953, 0.45443953, 0.72257212, 0.72257212, 0.3462884 ,\n",
       "         0.3462884 , 0.54766655, 0.54766655, 0.67047734, 0.67047734,\n",
       "         0.37044263, 0.37044263, 0.19619209, 0.19619209, 0.37193675,\n",
       "         0.37193675, 0.36688888, 0.36688888, 0.66796875, 0.66796875,\n",
       "         0.36833751, 0.36833751, 0.93178828, 0.93178828, 0.33922128,\n",
       "         0.33922128, 0.60653448, 0.60653448, 0.75337372, 0.75337372,\n",
       "         0.2973019 , 0.2973019 , 0.8456444 , 0.8456444 , 0.0047163 ,\n",
       "         0.0047163 , 0.94144823, 0.94144823, 0.6618711 , 0.6618711 ,\n",
       "         0.46301137, 0.46301137, 0.18684205, 0.18684205, 0.48415461,\n",
       "         0.48415461, 0.57259722, 0.57259722, 0.54635771, 0.54635771,\n",
       "         0.50472644, 0.50472644, 0.79069672, 0.79069672, 0.50020355,\n",
       "         0.50020355, 0.45864364, 0.45864364, 0.13852891, 0.13852891,\n",
       "         0.50577969, 0.50577969, 0.13037263, 0.13037263, 0.56934801,\n",
       "         0.56934801, 0.40691944, 0.40691944, 0.18134626, 0.18134626,\n",
       "         0.9939452 , 0.9939452 , 0.84414526, 0.84414526, 0.13236916,\n",
       "         0.13236916, 0.12380978, 0.12380978, 0.61064202, 0.61064202,\n",
       "         0.8494624 , 0.8494624 , 0.43915269, 0.43915269, 0.87306552,\n",
       "         0.87306552, 0.39273801, 0.39273801, 0.03051116, 0.03051116,\n",
       "         0.34262044, 0.34262044, 0.56987608, 0.56987608, 0.58681162,\n",
       "         0.58681162, 0.6771911 , 0.6771911 , 0.56958499, 0.56958499,\n",
       "         0.02493837, 0.02493837, 0.46555597, 0.46555597, 0.15461001,\n",
       "         0.15461001, 0.57927917, 0.57927917, 0.9325252 , 0.9325252 ,\n",
       "         0.54149854, 0.54149854, 0.64973162, 0.64973162, 0.66584758,\n",
       "         0.66584758, 0.10048786, 0.10048786, 0.50971014, 0.50971014])}}"
      ]
     },
     "execution_count": 1,
     "metadata": {},
     "output_type": "execute_result"
    }
   ],
   "source": [
    "ds = load_by_id(run_id_n)\n",
    "ds.get_parameter_data('x1')"
   ]
  },
  {
   "cell_type": "markdown",
   "metadata": {},
   "source": [
    "And a dataset stored as binary arrays"
   ]
  },
  {
   "cell_type": "code",
   "execution_count": 12,
   "metadata": {
    "execution": {
     "iopub.execute_input": "2021-01-05T10:09:52.423653Z",
     "iopub.status.busy": "2021-01-05T10:09:52.423179Z",
     "iopub.status.idle": "2021-01-05T10:09:52.476326Z",
     "shell.execute_reply": "2021-01-05T10:09:52.476889Z"
    },
    "scrolled": true
   },
   "outputs": [
    {
     "data": {
      "text/plain": [
       "{'x1': {'x1': array([[0.34255562],\n",
       "         [0.34255562],\n",
       "         [0.72972177],\n",
       "         [0.72972177],\n",
       "         [0.66043566],\n",
       "         [0.66043566],\n",
       "         [0.95871958],\n",
       "         [0.95871958],\n",
       "         [0.14889591],\n",
       "         [0.14889591],\n",
       "         [0.42750359],\n",
       "         [0.42750359],\n",
       "         [0.49472603],\n",
       "         [0.49472603],\n",
       "         [0.31023277],\n",
       "         [0.31023277],\n",
       "         [0.76850707],\n",
       "         [0.76850707],\n",
       "         [0.21239354],\n",
       "         [0.21239354],\n",
       "         [0.56762562],\n",
       "         [0.56762562],\n",
       "         [0.91107639],\n",
       "         [0.91107639],\n",
       "         [0.3020075 ],\n",
       "         [0.3020075 ],\n",
       "         [0.21462905],\n",
       "         [0.21462905],\n",
       "         [0.16410275],\n",
       "         [0.16410275],\n",
       "         [0.48344996],\n",
       "         [0.48344996],\n",
       "         [0.61834172],\n",
       "         [0.61834172],\n",
       "         [0.70524244],\n",
       "         [0.70524244],\n",
       "         [0.76683661],\n",
       "         [0.76683661],\n",
       "         [0.15391103],\n",
       "         [0.15391103],\n",
       "         [0.28342593],\n",
       "         [0.28342593],\n",
       "         [0.02364119],\n",
       "         [0.02364119],\n",
       "         [0.0600961 ],\n",
       "         [0.0600961 ],\n",
       "         [0.81490937],\n",
       "         [0.81490937],\n",
       "         [0.30720083],\n",
       "         [0.30720083],\n",
       "         [0.85993976],\n",
       "         [0.85993976],\n",
       "         [0.52961476],\n",
       "         [0.52961476],\n",
       "         [0.02835563],\n",
       "         [0.02835563],\n",
       "         [0.15821435],\n",
       "         [0.15821435],\n",
       "         [0.72617826],\n",
       "         [0.72617826],\n",
       "         [0.97950509],\n",
       "         [0.97950509],\n",
       "         [0.63971845],\n",
       "         [0.63971845],\n",
       "         [0.52143924],\n",
       "         [0.52143924],\n",
       "         [0.77260112],\n",
       "         [0.77260112],\n",
       "         [0.26375995],\n",
       "         [0.26375995],\n",
       "         [0.40548424],\n",
       "         [0.40548424],\n",
       "         [0.15217181],\n",
       "         [0.15217181],\n",
       "         [0.97209773],\n",
       "         [0.97209773],\n",
       "         [0.05554479],\n",
       "         [0.05554479],\n",
       "         [0.67517511],\n",
       "         [0.67517511],\n",
       "         [0.38730791],\n",
       "         [0.38730791],\n",
       "         [0.14030037],\n",
       "         [0.14030037],\n",
       "         [0.0321351 ],\n",
       "         [0.0321351 ],\n",
       "         [0.38795703],\n",
       "         [0.38795703],\n",
       "         [0.47944854],\n",
       "         [0.47944854],\n",
       "         [0.43090395],\n",
       "         [0.43090395],\n",
       "         [0.53340395],\n",
       "         [0.53340395],\n",
       "         [0.63504486],\n",
       "         [0.63504486],\n",
       "         [0.88829158],\n",
       "         [0.88829158],\n",
       "         [0.28063617],\n",
       "         [0.28063617],\n",
       "         [0.40474819],\n",
       "         [0.40474819],\n",
       "         [0.5558004 ],\n",
       "         [0.5558004 ],\n",
       "         [0.79527929],\n",
       "         [0.79527929],\n",
       "         [0.9540658 ],\n",
       "         [0.9540658 ],\n",
       "         [0.8955564 ],\n",
       "         [0.8955564 ],\n",
       "         [0.07522538],\n",
       "         [0.07522538],\n",
       "         [0.88813476],\n",
       "         [0.88813476],\n",
       "         [0.34399019],\n",
       "         [0.34399019],\n",
       "         [0.15244376],\n",
       "         [0.15244376],\n",
       "         [0.1175644 ],\n",
       "         [0.1175644 ],\n",
       "         [0.25659929],\n",
       "         [0.25659929],\n",
       "         [0.76581863],\n",
       "         [0.76581863],\n",
       "         [0.2589865 ],\n",
       "         [0.2589865 ],\n",
       "         [0.00739818],\n",
       "         [0.00739818],\n",
       "         [0.0025792 ],\n",
       "         [0.0025792 ],\n",
       "         [0.51966208],\n",
       "         [0.51966208],\n",
       "         [0.9782606 ],\n",
       "         [0.9782606 ],\n",
       "         [0.96545359],\n",
       "         [0.96545359],\n",
       "         [0.27071716],\n",
       "         [0.27071716],\n",
       "         [0.11690875],\n",
       "         [0.11690875],\n",
       "         [0.82183219],\n",
       "         [0.82183219],\n",
       "         [0.80354362],\n",
       "         [0.80354362],\n",
       "         [0.41470965],\n",
       "         [0.41470965],\n",
       "         [0.25833625],\n",
       "         [0.25833625],\n",
       "         [0.03195153],\n",
       "         [0.03195153],\n",
       "         [0.98246135],\n",
       "         [0.98246135],\n",
       "         [0.86173326],\n",
       "         [0.86173326],\n",
       "         [0.06608937],\n",
       "         [0.06608937],\n",
       "         [0.03083451],\n",
       "         [0.03083451],\n",
       "         [0.46641553],\n",
       "         [0.46641553],\n",
       "         [0.41713776],\n",
       "         [0.41713776],\n",
       "         [0.50271611],\n",
       "         [0.50271611],\n",
       "         [0.73746663],\n",
       "         [0.73746663],\n",
       "         [0.24888098],\n",
       "         [0.24888098],\n",
       "         [0.63688339],\n",
       "         [0.63688339],\n",
       "         [0.49960444],\n",
       "         [0.49960444],\n",
       "         [0.79085497],\n",
       "         [0.79085497],\n",
       "         [0.19603588],\n",
       "         [0.19603588],\n",
       "         [0.36184537],\n",
       "         [0.36184537],\n",
       "         [0.0381418 ],\n",
       "         [0.0381418 ],\n",
       "         [0.73759292],\n",
       "         [0.73759292],\n",
       "         [0.31229682],\n",
       "         [0.31229682],\n",
       "         [0.40088264],\n",
       "         [0.40088264],\n",
       "         [0.71496376],\n",
       "         [0.71496376],\n",
       "         [0.06853731],\n",
       "         [0.06853731],\n",
       "         [0.15408886],\n",
       "         [0.15408886],\n",
       "         [0.23501942],\n",
       "         [0.23501942],\n",
       "         [0.19324525],\n",
       "         [0.19324525],\n",
       "         [0.06198314],\n",
       "         [0.06198314],\n",
       "         [0.10722748],\n",
       "         [0.10722748]])}}"
      ]
     },
     "execution_count": 1,
     "metadata": {},
     "output_type": "execute_result"
    }
   ],
   "source": [
    "ds = load_by_id(run_id_a)\n",
    "ds.get_parameter_data('x1')"
   ]
  },
  {
   "cell_type": "code",
   "execution_count": null,
   "metadata": {},
   "outputs": [],
   "source": []
  }
 ],
 "metadata": {
  "kernelspec": {
   "display_name": "Python 3",
   "language": "python",
   "name": "python3"
  },
  "language_info": {
   "codemirror_mode": {
    "name": "ipython",
    "version": 3
   },
   "file_extension": ".py",
   "mimetype": "text/x-python",
   "name": "python",
   "nbconvert_exporter": "python",
   "pygments_lexer": "ipython3",
   "version": "3.7.9"
  },
  "nbsphinx": {
   "timeout": 600
  },
  "toc": {
   "base_numbering": 1,
   "nav_menu": {},
   "number_sections": true,
   "sideBar": true,
   "skip_h1_title": false,
   "title_cell": "Table of Contents",
   "title_sidebar": "Contents",
   "toc_cell": false,
   "toc_position": {},
   "toc_section_display": true,
   "toc_window_display": false
  },
  "varInspector": {
   "cols": {
    "lenName": 16,
    "lenType": 16,
    "lenVar": 40
   },
   "kernels_config": {
    "python": {
     "delete_cmd_postfix": "",
     "delete_cmd_prefix": "del ",
     "library": "var_list.py",
     "varRefreshCmd": "print(var_dic_list())"
    },
    "r": {
     "delete_cmd_postfix": ") ",
     "delete_cmd_prefix": "rm(",
     "library": "var_list.r",
     "varRefreshCmd": "cat(var_dic_list()) "
    }
   },
   "types_to_exclude": [
    "module",
    "function",
    "builtin_function_or_method",
    "instance",
    "_Feature"
   ],
   "window_display": false
  }
 },
 "nbformat": 4,
 "nbformat_minor": 2
}
