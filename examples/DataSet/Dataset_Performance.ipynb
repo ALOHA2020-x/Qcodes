{
 "cells": [
  {
   "cell_type": "markdown",
   "metadata": {},
   "source": [
    "# DataSet Performance\n",
    "\n",
    "This notebook shows the trade-off between inserting data into a database row-by-row and as binary blobs. Inserting the data row-by-row means that we have direct access to all the data and may perform queries directly on the values of the data. On the other hand, as we shall see, this is much slower than inserting the data directly as binary blobs."
   ]
  },
  {
   "cell_type": "markdown",
   "metadata": {},
   "source": [
    "First, we choose a new location for the database to ensure that we don't add a bunch of benchmarking data to the default one."
   ]
  },
  {
   "cell_type": "code",
   "execution_count": 1,
   "metadata": {
    "execution": {
     "iopub.execute_input": "2021-05-04T07:16:20.499844Z",
     "iopub.status.busy": "2021-05-04T07:16:20.499145Z",
     "iopub.status.idle": "2021-05-04T07:16:21.764524Z",
     "shell.execute_reply": "2021-05-04T07:16:21.765120Z"
    }
   },
   "outputs": [
    {
     "name": "stdout",
     "output_type": "stream",
     "text": [
      "Logging hadn't been started.\n",
      "Activating auto-logging. Current session state plus future input saved.\n",
      "Filename       : /home/runner/.qcodes/logs/command_history.log\n",
      "Mode           : append\n",
      "Output logging : True\n",
      "Raw input log  : False\n",
      "Timestamping   : True\n",
      "State          : active\n"
     ]
    },
    {
     "name": "stdout",
     "output_type": "stream",
     "text": [
      "Qcodes Logfile : /home/runner/.qcodes/logs/210504-4670-qcodes.log\n"
     ]
    }
   ],
   "source": [
    "import os\n",
    "cwd = os.getcwd()\n",
    "import qcodes as qc\n",
    "qc.config[\"core\"][\"db_location\"] = os.path.join(cwd, 'testing.db')\n"
   ]
  },
  {
   "cell_type": "code",
   "execution_count": 2,
   "metadata": {
    "execution": {
     "iopub.execute_input": "2021-05-04T07:16:21.772916Z",
     "iopub.status.busy": "2021-05-04T07:16:21.771893Z",
     "iopub.status.idle": "2021-05-04T07:16:21.989956Z",
     "shell.execute_reply": "2021-05-04T07:16:21.988792Z"
    }
   },
   "outputs": [],
   "source": [
    "%matplotlib inline\n",
    "import time\n",
    "import matplotlib.pyplot as plt\n",
    "import numpy as np\n",
    "\n",
    "import qcodes as qc\n",
    "from qcodes.instrument.parameter import ManualParameter\n",
    "from qcodes.dataset.experiment_container import (Experiment,\n",
    "                                                 load_last_experiment,\n",
    "                                                 new_experiment)\n",
    "from qcodes.dataset.sqlite.database import initialise_database\n",
    "from qcodes import load_or_create_experiment\n",
    "from qcodes.dataset.measurements import Measurement"
   ]
  },
  {
   "cell_type": "code",
   "execution_count": 3,
   "metadata": {
    "execution": {
     "iopub.execute_input": "2021-05-04T07:16:21.994367Z",
     "iopub.status.busy": "2021-05-04T07:16:21.993453Z",
     "iopub.status.idle": "2021-05-04T07:16:22.076134Z",
     "shell.execute_reply": "2021-05-04T07:16:22.076671Z"
    }
   },
   "outputs": [
    {
     "name": "stdout",
     "output_type": "stream",
     "text": [
      "\r",
      "0it [00:00, ?it/s]"
     ]
    },
    {
     "name": "stdout",
     "output_type": "stream",
     "text": [
      "\r",
      "Upgrading database; v0 -> v1: : 0it [00:00, ?it/s]"
     ]
    },
    {
     "name": "stdout",
     "output_type": "stream",
     "text": [
      "\r",
      "Upgrading database; v0 -> v1: : 0it [00:00, ?it/s]"
     ]
    },
    {
     "name": "stdout",
     "output_type": "stream",
     "text": [
      "\n",
      "\r",
      "  0%|          | 0/1 [00:00<?, ?it/s]"
     ]
    },
    {
     "name": "stdout",
     "output_type": "stream",
     "text": [
      "\r",
      "Upgrading database; v1 -> v2:   0%|          | 0/1 [00:00<?, ?it/s]"
     ]
    },
    {
     "name": "stdout",
     "output_type": "stream",
     "text": [
      "\r",
      "Upgrading database; v1 -> v2: 100%|██████████| 1/1 [00:00<00:00, 473.24it/s]"
     ]
    },
    {
     "name": "stdout",
     "output_type": "stream",
     "text": [
      "\n",
      "\r",
      "0it [00:00, ?it/s]"
     ]
    },
    {
     "name": "stdout",
     "output_type": "stream",
     "text": [
      "\r",
      "Upgrading database; v2 -> v3: : 0it [00:00, ?it/s]"
     ]
    },
    {
     "name": "stdout",
     "output_type": "stream",
     "text": [
      "\r",
      "Upgrading database; v2 -> v3: : 0it [00:00, ?it/s]"
     ]
    },
    {
     "name": "stdout",
     "output_type": "stream",
     "text": [
      "\n",
      "\r",
      "0it [00:00, ?it/s]"
     ]
    },
    {
     "name": "stdout",
     "output_type": "stream",
     "text": [
      "\r",
      "Upgrading database; v3 -> v4: : 0it [00:00, ?it/s]"
     ]
    },
    {
     "name": "stdout",
     "output_type": "stream",
     "text": [
      "\r",
      "Upgrading database; v3 -> v4: : 0it [00:00, ?it/s]"
     ]
    },
    {
     "name": "stdout",
     "output_type": "stream",
     "text": [
      "\n",
      "\r",
      "  0%|          | 0/1 [00:00<?, ?it/s]"
     ]
    },
    {
     "name": "stdout",
     "output_type": "stream",
     "text": [
      "\r",
      "Upgrading database; v4 -> v5:   0%|          | 0/1 [00:00<?, ?it/s]"
     ]
    },
    {
     "name": "stdout",
     "output_type": "stream",
     "text": [
      "\r",
      "Upgrading database; v4 -> v5: 100%|██████████| 1/1 [00:00<00:00, 661.35it/s]"
     ]
    },
    {
     "name": "stdout",
     "output_type": "stream",
     "text": [
      "\n",
      "\r",
      "0it [00:00, ?it/s]"
     ]
    },
    {
     "name": "stdout",
     "output_type": "stream",
     "text": [
      "\r",
      "Upgrading database; v5 -> v6: : 0it [00:00, ?it/s]"
     ]
    },
    {
     "name": "stdout",
     "output_type": "stream",
     "text": [
      "\r",
      "Upgrading database; v5 -> v6: : 0it [00:00, ?it/s]"
     ]
    },
    {
     "name": "stdout",
     "output_type": "stream",
     "text": [
      "\n",
      "\r",
      "  0%|          | 0/1 [00:00<?, ?it/s]"
     ]
    },
    {
     "name": "stdout",
     "output_type": "stream",
     "text": [
      "\r",
      "Upgrading database; v6 -> v7:   0%|          | 0/1 [00:00<?, ?it/s]"
     ]
    },
    {
     "name": "stdout",
     "output_type": "stream",
     "text": [
      "\r",
      "Upgrading database; v6 -> v7: 100%|██████████| 1/1 [00:00<00:00, 272.87it/s]"
     ]
    },
    {
     "name": "stdout",
     "output_type": "stream",
     "text": [
      "\n",
      "\r",
      "  0%|          | 0/1 [00:00<?, ?it/s]"
     ]
    },
    {
     "name": "stdout",
     "output_type": "stream",
     "text": [
      "\r",
      "Upgrading database; v7 -> v8:   0%|          | 0/1 [00:00<?, ?it/s]"
     ]
    },
    {
     "name": "stdout",
     "output_type": "stream",
     "text": [
      "\r",
      "Upgrading database; v7 -> v8: 100%|██████████| 1/1 [00:00<00:00, 392.06it/s]"
     ]
    },
    {
     "name": "stdout",
     "output_type": "stream",
     "text": [
      "\n",
      "\r",
      "  0%|          | 0/1 [00:00<?, ?it/s]"
     ]
    },
    {
     "name": "stdout",
     "output_type": "stream",
     "text": [
      "\r",
      "Upgrading database; v8 -> v9:   0%|          | 0/1 [00:00<?, ?it/s]"
     ]
    },
    {
     "name": "stdout",
     "output_type": "stream",
     "text": [
      "\r",
      "Upgrading database; v8 -> v9: 100%|██████████| 1/1 [00:00<00:00, 422.86it/s]"
     ]
    },
    {
     "name": "stdout",
     "output_type": "stream",
     "text": [
      "\n"
     ]
    }
   ],
   "source": [
    "initialise_database()\n",
    "exp = load_or_create_experiment(experiment_name='tutorial_exp', sample_name=\"no sample\")"
   ]
  },
  {
   "cell_type": "markdown",
   "metadata": {},
   "source": [
    "Here, we define a simple function to benchmark the time it takes to insert n points with either numeric or array data type.\n",
    "We will compare both the time used to call ``add_result`` and the time used for the full measurement."
   ]
  },
  {
   "cell_type": "code",
   "execution_count": 4,
   "metadata": {
    "execution": {
     "iopub.execute_input": "2021-05-04T07:16:22.089944Z",
     "iopub.status.busy": "2021-05-04T07:16:22.087844Z",
     "iopub.status.idle": "2021-05-04T07:16:22.090626Z",
     "shell.execute_reply": "2021-05-04T07:16:22.091183Z"
    }
   },
   "outputs": [],
   "source": [
    "def insert_data(paramtype, npoints, nreps=1):\n",
    "\n",
    "    meas = Measurement(exp=exp)\n",
    "\n",
    "    x1 = ManualParameter('x1')\n",
    "    x2 = ManualParameter('x2')\n",
    "    x3 = ManualParameter('x3')\n",
    "    y1 = ManualParameter('y1')\n",
    "    y2 = ManualParameter('y2')\n",
    "\n",
    "    meas.register_parameter(x1, paramtype=paramtype)\n",
    "    meas.register_parameter(x2, paramtype=paramtype)\n",
    "    meas.register_parameter(x3, paramtype=paramtype)\n",
    "    meas.register_parameter(y1, setpoints=[x1, x2, x3],\n",
    "                            paramtype=paramtype)\n",
    "    meas.register_parameter(y2, setpoints=[x1, x2, x3],\n",
    "                            paramtype=paramtype)\n",
    "    start = time.perf_counter()\n",
    "    with meas.run() as datasaver:\n",
    "        start_adding = time.perf_counter()\n",
    "        for i in range(nreps):\n",
    "            datasaver.add_result((x1, np.random.rand(npoints)),\n",
    "                                 (x2, np.random.rand(npoints)),\n",
    "                                 (x3, np.random.rand(npoints)),\n",
    "                                 (y1, np.random.rand(npoints)),\n",
    "                                 (y2, np.random.rand(npoints)))\n",
    "        stop_adding = time.perf_counter()\n",
    "        run_id = datasaver.run_id\n",
    "    stop = time.perf_counter()\n",
    "    tot_time = stop - start\n",
    "    add_time = stop_adding - start_adding\n",
    "    return tot_time, add_time, run_id"
   ]
  },
  {
   "cell_type": "markdown",
   "metadata": {},
   "source": [
    "## Comparison between numeric/array data and binary blob"
   ]
  },
  {
   "cell_type": "markdown",
   "metadata": {},
   "source": [
    "### Case1: Short experiment time"
   ]
  },
  {
   "cell_type": "code",
   "execution_count": 5,
   "metadata": {
    "execution": {
     "iopub.execute_input": "2021-05-04T07:16:22.098334Z",
     "iopub.status.busy": "2021-05-04T07:16:22.097517Z",
     "iopub.status.idle": "2021-05-04T07:16:23.112082Z",
     "shell.execute_reply": "2021-05-04T07:16:23.111495Z"
    }
   },
   "outputs": [
    {
     "name": "stdout",
     "output_type": "stream",
     "text": [
      "Starting experimental run with id: 1. \n",
      "Starting experimental run with id: 2. \n",
      "Starting experimental run with id: 3. \n"
     ]
    },
    {
     "name": "stdout",
     "output_type": "stream",
     "text": [
      "Starting experimental run with id: 4. \n"
     ]
    },
    {
     "name": "stdout",
     "output_type": "stream",
     "text": [
      "Starting experimental run with id: 5. \n"
     ]
    },
    {
     "name": "stdout",
     "output_type": "stream",
     "text": [
      "Starting experimental run with id: 6. \n",
      "Starting experimental run with id: 7. \n"
     ]
    },
    {
     "name": "stdout",
     "output_type": "stream",
     "text": [
      "Starting experimental run with id: 8. \n"
     ]
    },
    {
     "name": "stdout",
     "output_type": "stream",
     "text": [
      "Starting experimental run with id: 9. \n"
     ]
    },
    {
     "name": "stdout",
     "output_type": "stream",
     "text": [
      "Starting experimental run with id: 10. \n",
      "Starting experimental run with id: 11. \n"
     ]
    },
    {
     "name": "stdout",
     "output_type": "stream",
     "text": [
      "Starting experimental run with id: 12. \n",
      "Starting experimental run with id: 13. \n"
     ]
    },
    {
     "name": "stdout",
     "output_type": "stream",
     "text": [
      "Starting experimental run with id: 14. \n"
     ]
    }
   ],
   "source": [
    "sizes = [1,500,1000,2000,3000,4000,5000]\n",
    "t_numeric = []\n",
    "t_numeric_add = []\n",
    "t_array = []\n",
    "t_array_add = []\n",
    "for size in sizes:\n",
    "    tn, tna, run_id_n =  insert_data('numeric', size)\n",
    "    t_numeric.append(tn)\n",
    "    t_numeric_add.append(tna)\n",
    "\n",
    "    ta, taa, run_id_a =  insert_data('array', size)\n",
    "    t_array.append(ta)\n",
    "    t_array_add.append(taa)"
   ]
  },
  {
   "cell_type": "code",
   "execution_count": 6,
   "metadata": {
    "execution": {
     "iopub.execute_input": "2021-05-04T07:16:23.133886Z",
     "iopub.status.busy": "2021-05-04T07:16:23.133230Z",
     "iopub.status.idle": "2021-05-04T07:16:23.389673Z",
     "shell.execute_reply": "2021-05-04T07:16:23.388761Z"
    }
   },
   "outputs": [
    {
     "data": {
      "image/png": "[encoded data removed]",
      "text/plain": [
       "<Figure size 640x480 with 1 Axes>"
      ]
     },
     "metadata": {},
     "output_type": "display_data"
    }
   ],
   "source": [
    "fig, ax = plt.subplots(1,1)\n",
    "ax.plot(sizes, t_numeric, 'o-', label='Inserting row-by-row')\n",
    "ax.plot(sizes, t_numeric_add, 'o-', label='Inserting row-by-row: add_result only')\n",
    "ax.plot(sizes, t_array, 'd-', label='Inserting as binary blob')\n",
    "ax.plot(sizes, t_array_add, 'd-', label='Inserting as binary blob: add_result only')\n",
    "ax.legend()\n",
    "ax.set_xlabel('Array length')\n",
    "ax.set_ylabel('Time (s)')\n",
    "fig.tight_layout()"
   ]
  },
  {
   "cell_type": "markdown",
   "metadata": {},
   "source": [
    "As shown in the latter figure, the time to setup and and close the experiment is approximately 0.4 sec. In case of small array sizes, the difference between inserting values of data as arrays and inserting them row-by-row is relatively unimportant. At larger array sizes, i.e. above 10000 points, the cost of writing data as individual datapoints starts to become important.\n"
   ]
  },
  {
   "cell_type": "markdown",
   "metadata": {},
   "source": [
    "### Case2: Long experiment time "
   ]
  },
  {
   "cell_type": "code",
   "execution_count": 7,
   "metadata": {
    "execution": {
     "iopub.execute_input": "2021-05-04T07:16:23.457071Z",
     "iopub.status.busy": "2021-05-04T07:16:23.399453Z",
     "iopub.status.idle": "2021-05-04T07:17:28.196128Z",
     "shell.execute_reply": "2021-05-04T07:17:28.195056Z"
    }
   },
   "outputs": [
    {
     "name": "stdout",
     "output_type": "stream",
     "text": [
      "Starting experimental run with id: 15. \n",
      "Starting experimental run with id: 16. \n"
     ]
    },
    {
     "name": "stdout",
     "output_type": "stream",
     "text": [
      "Starting experimental run with id: 17. \n"
     ]
    },
    {
     "name": "stdout",
     "output_type": "stream",
     "text": [
      "Starting experimental run with id: 18. \n"
     ]
    },
    {
     "name": "stdout",
     "output_type": "stream",
     "text": [
      "Starting experimental run with id: 19. \n"
     ]
    },
    {
     "name": "stdout",
     "output_type": "stream",
     "text": [
      "Starting experimental run with id: 20. \n"
     ]
    },
    {
     "name": "stdout",
     "output_type": "stream",
     "text": [
      "Starting experimental run with id: 21. \n"
     ]
    },
    {
     "name": "stdout",
     "output_type": "stream",
     "text": [
      "Starting experimental run with id: 22. \n"
     ]
    },
    {
     "name": "stdout",
     "output_type": "stream",
     "text": [
      "Starting experimental run with id: 23. \n"
     ]
    },
    {
     "name": "stdout",
     "output_type": "stream",
     "text": [
      "Starting experimental run with id: 24. \n"
     ]
    },
    {
     "name": "stdout",
     "output_type": "stream",
     "text": [
      "Starting experimental run with id: 25. \n"
     ]
    },
    {
     "name": "stdout",
     "output_type": "stream",
     "text": [
      "Starting experimental run with id: 26. \n"
     ]
    },
    {
     "name": "stdout",
     "output_type": "stream",
     "text": [
      "Starting experimental run with id: 27. \n"
     ]
    },
    {
     "name": "stdout",
     "output_type": "stream",
     "text": [
      "Starting experimental run with id: 28. \n"
     ]
    }
   ],
   "source": [
    "sizes = [1,500,1000,2000,3000,4000,5000]\n",
    "nreps = 100\n",
    "t_numeric = []\n",
    "t_numeric_add = []\n",
    "t_numeric_run_ids = []\n",
    "t_array = []\n",
    "t_array_add = []\n",
    "t_array_run_ids = []\n",
    "for size in sizes:\n",
    "    tn, tna, run_id_n =  insert_data('numeric', size, nreps=nreps)\n",
    "    t_numeric.append(tn)\n",
    "    t_numeric_add.append(tna)\n",
    "    t_numeric_run_ids.append(run_id_n)\n",
    "\n",
    "    ta, taa, run_id_a =  insert_data('array', size, nreps=nreps)\n",
    "    t_array.append(ta)\n",
    "    t_array_add.append(taa)\n",
    "    t_array_run_ids.append(run_id_a)"
   ]
  },
  {
   "cell_type": "code",
   "execution_count": 8,
   "metadata": {
    "execution": {
     "iopub.execute_input": "2021-05-04T07:17:28.250365Z",
     "iopub.status.busy": "2021-05-04T07:17:28.249774Z",
     "iopub.status.idle": "2021-05-04T07:17:28.482480Z",
     "shell.execute_reply": "2021-05-04T07:17:28.481635Z"
    },
    "scrolled": true
   },
   "outputs": [
    {
     "data": {
      "image/png": "[encoded data removed]",
      "text/plain": [
       "<Figure size 640x480 with 1 Axes>"
      ]
     },
     "metadata": {},
     "output_type": "display_data"
    }
   ],
   "source": [
    "fig, ax = plt.subplots(1,1)\n",
    "ax.plot(sizes, t_numeric, 'o-', label='Inserting row-by-row')\n",
    "ax.plot(sizes, t_numeric_add, 'o-', label='Inserting row-by-row: add_result only')\n",
    "ax.plot(sizes, t_array, 'd-', label='Inserting as binary blob')\n",
    "ax.plot(sizes, t_array_add, 'd-', label='Inserting as binary blob: add_result only')\n",
    "ax.legend()\n",
    "ax.set_xlabel('Array length')\n",
    "ax.set_ylabel('Time (s)')\n",
    "fig.tight_layout()"
   ]
  },
  {
   "cell_type": "markdown",
   "metadata": {},
   "source": [
    "However, as we increase the length of the experiment, as seen here by repeating the insertion 100 times, we see a big difference between inserting values of the data row-by-row and inserting it as a binary blob."
   ]
  },
  {
   "cell_type": "markdown",
   "metadata": {},
   "source": [
    "## Loading the data "
   ]
  },
  {
   "cell_type": "code",
   "execution_count": 9,
   "metadata": {
    "execution": {
     "iopub.execute_input": "2021-05-04T07:17:28.486671Z",
     "iopub.status.busy": "2021-05-04T07:17:28.486110Z",
     "iopub.status.idle": "2021-05-04T07:17:28.491965Z",
     "shell.execute_reply": "2021-05-04T07:17:28.490505Z"
    }
   },
   "outputs": [],
   "source": [
    "from qcodes.dataset.data_set import load_by_id"
   ]
  },
  {
   "cell_type": "markdown",
   "metadata": {},
   "source": [
    "As usual you can load the data by using the ``load_by_id`` function but you will notice that the different storage methods\n",
    "are reflected in shape of the data as it is retrieved. "
   ]
  },
  {
   "cell_type": "code",
   "execution_count": 10,
   "metadata": {
    "execution": {
     "iopub.execute_input": "2021-05-04T07:17:28.496909Z",
     "iopub.status.busy": "2021-05-04T07:17:28.495519Z",
     "iopub.status.idle": "2021-05-04T07:17:28.497587Z",
     "shell.execute_reply": "2021-05-04T07:17:28.498105Z"
    }
   },
   "outputs": [],
   "source": [
    "run_id_n = t_numeric_run_ids[0]\n",
    "run_id_a = t_array_run_ids[0]"
   ]
  },
  {
   "cell_type": "code",
   "execution_count": 11,
   "metadata": {
    "execution": {
     "iopub.execute_input": "2021-05-04T07:17:28.501878Z",
     "iopub.status.busy": "2021-05-04T07:17:28.501277Z",
     "iopub.status.idle": "2021-05-04T07:17:28.511572Z",
     "shell.execute_reply": "2021-05-04T07:17:28.512153Z"
    },
    "scrolled": true
   },
   "outputs": [
    {
     "data": {
      "text/plain": [
       "{'x1': {'x1': array([0.03870619, 0.03870619, 0.83684468, 0.83684468, 0.81229923,\n",
       "         0.81229923, 0.22904672, 0.22904672, 0.63854875, 0.63854875,\n",
       "         0.50307897, 0.50307897, 0.4571723 , 0.4571723 , 0.32392809,\n",
       "         0.32392809, 0.21002592, 0.21002592, 0.60153439, 0.60153439,\n",
       "         0.08563404, 0.08563404, 0.8849393 , 0.8849393 , 0.83940965,\n",
       "         0.83940965, 0.88358865, 0.88358865, 0.75396599, 0.75396599,\n",
       "         0.40102994, 0.40102994, 0.77598392, 0.77598392, 0.575729  ,\n",
       "         0.575729  , 0.17699909, 0.17699909, 0.45444734, 0.45444734,\n",
       "         0.09701498, 0.09701498, 0.71632912, 0.71632912, 0.8330093 ,\n",
       "         0.8330093 , 0.77289743, 0.77289743, 0.04094751, 0.04094751,\n",
       "         0.15604164, 0.15604164, 0.27658821, 0.27658821, 0.82840143,\n",
       "         0.82840143, 0.98105016, 0.98105016, 0.593453  , 0.593453  ,\n",
       "         0.90391497, 0.90391497, 0.39114207, 0.39114207, 0.75456868,\n",
       "         0.75456868, 0.7927849 , 0.7927849 , 0.55059325, 0.55059325,\n",
       "         0.11923992, 0.11923992, 0.63968969, 0.63968969, 0.21701124,\n",
       "         0.21701124, 0.56507968, 0.56507968, 0.54353047, 0.54353047,\n",
       "         0.80867093, 0.80867093, 0.05114708, 0.05114708, 0.72663088,\n",
       "         0.72663088, 0.62572164, 0.62572164, 0.64733294, 0.64733294,\n",
       "         0.52899237, 0.52899237, 0.74364205, 0.74364205, 0.90732154,\n",
       "         0.90732154, 0.63332946, 0.63332946, 0.44922515, 0.44922515,\n",
       "         0.18323027, 0.18323027, 0.58888038, 0.58888038, 0.11319838,\n",
       "         0.11319838, 0.04657485, 0.04657485, 0.44154192, 0.44154192,\n",
       "         0.50289391, 0.50289391, 0.457416  , 0.457416  , 0.38700208,\n",
       "         0.38700208, 0.07504189, 0.07504189, 0.08598719, 0.08598719,\n",
       "         0.81197436, 0.81197436, 0.58951605, 0.58951605, 0.53940464,\n",
       "         0.53940464, 0.9787976 , 0.9787976 , 0.21076025, 0.21076025,\n",
       "         0.72344535, 0.72344535, 0.47640535, 0.47640535, 0.99601357,\n",
       "         0.99601357, 0.47338637, 0.47338637, 0.05262259, 0.05262259,\n",
       "         0.33700719, 0.33700719, 0.92054644, 0.92054644, 0.07442586,\n",
       "         0.07442586, 0.7263912 , 0.7263912 , 0.28484205, 0.28484205,\n",
       "         0.73526872, 0.73526872, 0.10489908, 0.10489908, 0.3320938 ,\n",
       "         0.3320938 , 0.74796448, 0.74796448, 0.29398331, 0.29398331,\n",
       "         0.15580195, 0.15580195, 0.60189805, 0.60189805, 0.24609565,\n",
       "         0.24609565, 0.84925348, 0.84925348, 0.85962629, 0.85962629,\n",
       "         0.77033323, 0.77033323, 0.71209987, 0.71209987, 0.38188337,\n",
       "         0.38188337, 0.05922802, 0.05922802, 0.43518939, 0.43518939,\n",
       "         0.24175565, 0.24175565, 0.74322742, 0.74322742, 0.8185109 ,\n",
       "         0.8185109 , 0.46715006, 0.46715006, 0.61051424, 0.61051424,\n",
       "         0.70192435, 0.70192435, 0.54546743, 0.54546743, 0.84225036,\n",
       "         0.84225036, 0.23601247, 0.23601247, 0.89648662, 0.89648662])}}"
      ]
     },
     "execution_count": 1,
     "metadata": {},
     "output_type": "execute_result"
    }
   ],
   "source": [
    "ds = load_by_id(run_id_n)\n",
    "ds.get_parameter_data('x1')"
   ]
  },
  {
   "cell_type": "markdown",
   "metadata": {},
   "source": [
    "And a dataset stored as binary arrays"
   ]
  },
  {
   "cell_type": "code",
   "execution_count": 12,
   "metadata": {
    "execution": {
     "iopub.execute_input": "2021-05-04T07:17:28.515748Z",
     "iopub.status.busy": "2021-05-04T07:17:28.515112Z",
     "iopub.status.idle": "2021-05-04T07:17:28.581582Z",
     "shell.execute_reply": "2021-05-04T07:17:28.580993Z"
    },
    "scrolled": true
   },
   "outputs": [
    {
     "data": {
      "text/plain": [
       "{'x1': {'x1': array([[0.08821045],\n",
       "         [0.08821045],\n",
       "         [0.46933562],\n",
       "         [0.46933562],\n",
       "         [0.39897612],\n",
       "         [0.39897612],\n",
       "         [0.29525772],\n",
       "         [0.29525772],\n",
       "         [0.26084977],\n",
       "         [0.26084977],\n",
       "         [0.58419582],\n",
       "         [0.58419582],\n",
       "         [0.92543944],\n",
       "         [0.92543944],\n",
       "         [0.22797564],\n",
       "         [0.22797564],\n",
       "         [0.60756251],\n",
       "         [0.60756251],\n",
       "         [0.26456947],\n",
       "         [0.26456947],\n",
       "         [0.3565966 ],\n",
       "         [0.3565966 ],\n",
       "         [0.52130655],\n",
       "         [0.52130655],\n",
       "         [0.60210079],\n",
       "         [0.60210079],\n",
       "         [0.79970247],\n",
       "         [0.79970247],\n",
       "         [0.61771862],\n",
       "         [0.61771862],\n",
       "         [0.1174669 ],\n",
       "         [0.1174669 ],\n",
       "         [0.80872456],\n",
       "         [0.80872456],\n",
       "         [0.32677158],\n",
       "         [0.32677158],\n",
       "         [0.65178812],\n",
       "         [0.65178812],\n",
       "         [0.08417506],\n",
       "         [0.08417506],\n",
       "         [0.92643926],\n",
       "         [0.92643926],\n",
       "         [0.00873731],\n",
       "         [0.00873731],\n",
       "         [0.64293265],\n",
       "         [0.64293265],\n",
       "         [0.87887814],\n",
       "         [0.87887814],\n",
       "         [0.83232292],\n",
       "         [0.83232292],\n",
       "         [0.36828305],\n",
       "         [0.36828305],\n",
       "         [0.70531327],\n",
       "         [0.70531327],\n",
       "         [0.09455682],\n",
       "         [0.09455682],\n",
       "         [0.96339025],\n",
       "         [0.96339025],\n",
       "         [0.51173303],\n",
       "         [0.51173303],\n",
       "         [0.26173127],\n",
       "         [0.26173127],\n",
       "         [0.43872787],\n",
       "         [0.43872787],\n",
       "         [0.18710035],\n",
       "         [0.18710035],\n",
       "         [0.85775086],\n",
       "         [0.85775086],\n",
       "         [0.88276324],\n",
       "         [0.88276324],\n",
       "         [0.44923841],\n",
       "         [0.44923841],\n",
       "         [0.3577812 ],\n",
       "         [0.3577812 ],\n",
       "         [0.62623825],\n",
       "         [0.62623825],\n",
       "         [0.48605538],\n",
       "         [0.48605538],\n",
       "         [0.19676903],\n",
       "         [0.19676903],\n",
       "         [0.37085953],\n",
       "         [0.37085953],\n",
       "         [0.08607801],\n",
       "         [0.08607801],\n",
       "         [0.71815133],\n",
       "         [0.71815133],\n",
       "         [0.85239621],\n",
       "         [0.85239621],\n",
       "         [0.19933785],\n",
       "         [0.19933785],\n",
       "         [0.57899876],\n",
       "         [0.57899876],\n",
       "         [0.21140353],\n",
       "         [0.21140353],\n",
       "         [0.70988737],\n",
       "         [0.70988737],\n",
       "         [0.63779692],\n",
       "         [0.63779692],\n",
       "         [0.8386564 ],\n",
       "         [0.8386564 ],\n",
       "         [0.04068789],\n",
       "         [0.04068789],\n",
       "         [0.01557194],\n",
       "         [0.01557194],\n",
       "         [0.31708472],\n",
       "         [0.31708472],\n",
       "         [0.06660712],\n",
       "         [0.06660712],\n",
       "         [0.00624779],\n",
       "         [0.00624779],\n",
       "         [0.78488461],\n",
       "         [0.78488461],\n",
       "         [0.57979375],\n",
       "         [0.57979375],\n",
       "         [0.76024054],\n",
       "         [0.76024054],\n",
       "         [0.15194843],\n",
       "         [0.15194843],\n",
       "         [0.49911347],\n",
       "         [0.49911347],\n",
       "         [0.1717981 ],\n",
       "         [0.1717981 ],\n",
       "         [0.01605438],\n",
       "         [0.01605438],\n",
       "         [0.54777287],\n",
       "         [0.54777287],\n",
       "         [0.4476947 ],\n",
       "         [0.4476947 ],\n",
       "         [0.4282561 ],\n",
       "         [0.4282561 ],\n",
       "         [0.10144468],\n",
       "         [0.10144468],\n",
       "         [0.08384551],\n",
       "         [0.08384551],\n",
       "         [0.76285144],\n",
       "         [0.76285144],\n",
       "         [0.46899647],\n",
       "         [0.46899647],\n",
       "         [0.00379438],\n",
       "         [0.00379438],\n",
       "         [0.43045785],\n",
       "         [0.43045785],\n",
       "         [0.20183174],\n",
       "         [0.20183174],\n",
       "         [0.70570715],\n",
       "         [0.70570715],\n",
       "         [0.74459702],\n",
       "         [0.74459702],\n",
       "         [0.4573332 ],\n",
       "         [0.4573332 ],\n",
       "         [0.12219458],\n",
       "         [0.12219458],\n",
       "         [0.0900753 ],\n",
       "         [0.0900753 ],\n",
       "         [0.94083884],\n",
       "         [0.94083884],\n",
       "         [0.75539321],\n",
       "         [0.75539321],\n",
       "         [0.49447779],\n",
       "         [0.49447779],\n",
       "         [0.74526143],\n",
       "         [0.74526143],\n",
       "         [0.35536525],\n",
       "         [0.35536525],\n",
       "         [0.10651434],\n",
       "         [0.10651434],\n",
       "         [0.59427341],\n",
       "         [0.59427341],\n",
       "         [0.32832659],\n",
       "         [0.32832659],\n",
       "         [0.62506964],\n",
       "         [0.62506964],\n",
       "         [0.29819184],\n",
       "         [0.29819184],\n",
       "         [0.43137174],\n",
       "         [0.43137174],\n",
       "         [0.47912459],\n",
       "         [0.47912459],\n",
       "         [0.21621218],\n",
       "         [0.21621218],\n",
       "         [0.25117265],\n",
       "         [0.25117265],\n",
       "         [0.37396966],\n",
       "         [0.37396966],\n",
       "         [0.03398157],\n",
       "         [0.03398157],\n",
       "         [0.66232094],\n",
       "         [0.66232094],\n",
       "         [0.92343137],\n",
       "         [0.92343137],\n",
       "         [0.86238433],\n",
       "         [0.86238433],\n",
       "         [0.45836421],\n",
       "         [0.45836421],\n",
       "         [0.60430036],\n",
       "         [0.60430036],\n",
       "         [0.07429337],\n",
       "         [0.07429337],\n",
       "         [0.92540004],\n",
       "         [0.92540004]])}}"
      ]
     },
     "execution_count": 1,
     "metadata": {},
     "output_type": "execute_result"
    }
   ],
   "source": [
    "ds = load_by_id(run_id_a)\n",
    "ds.get_parameter_data('x1')"
   ]
  },
  {
   "cell_type": "code",
   "execution_count": null,
   "metadata": {},
   "outputs": [],
   "source": []
  }
 ],
 "metadata": {
  "kernelspec": {
   "display_name": "Python 3",
   "language": "python",
   "name": "python3"
  },
  "language_info": {
   "codemirror_mode": {
    "name": "ipython",
    "version": 3
   },
   "file_extension": ".py",
   "mimetype": "text/x-python",
   "name": "python",
   "nbconvert_exporter": "python",
   "pygments_lexer": "ipython3",
   "version": "3.7.10"
  },
  "nbsphinx": {
   "timeout": 600
  },
  "toc": {
   "base_numbering": 1,
   "nav_menu": {},
   "number_sections": true,
   "sideBar": true,
   "skip_h1_title": false,
   "title_cell": "Table of Contents",
   "title_sidebar": "Contents",
   "toc_cell": false,
   "toc_position": {},
   "toc_section_display": true,
   "toc_window_display": false
  },
  "varInspector": {
   "cols": {
    "lenName": 16,
    "lenType": 16,
    "lenVar": 40
   },
   "kernels_config": {
    "python": {
     "delete_cmd_postfix": "",
     "delete_cmd_prefix": "del ",
     "library": "var_list.py",
     "varRefreshCmd": "print(var_dic_list())"
    },
    "r": {
     "delete_cmd_postfix": ") ",
     "delete_cmd_prefix": "rm(",
     "library": "var_list.r",
     "varRefreshCmd": "cat(var_dic_list()) "
    }
   },
   "types_to_exclude": [
    "module",
    "function",
    "builtin_function_or_method",
    "instance",
    "_Feature"
   ],
   "window_display": false
  }
 },
 "nbformat": 4,
 "nbformat_minor": 4
}
