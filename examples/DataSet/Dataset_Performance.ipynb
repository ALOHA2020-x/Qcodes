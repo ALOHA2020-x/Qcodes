{
 "cells": [
  {
   "cell_type": "markdown",
   "metadata": {},
   "source": [
    "# DataSet Performance\n",
    "\n",
    "This notebook shows the trade-off between inserting data into a database row-by-row and as binary blobs. Inserting the data row-by-row means that we have direct access to all the data and may perform queries directly on the values of the data. On the other hand, as we shall see, this is much slower than inserting the data directly as binary blobs."
   ]
  },
  {
   "cell_type": "markdown",
   "metadata": {},
   "source": [
    "First, we choose a new location for the database to ensure that we don't add a bunch of benchmarking data to the default one."
   ]
  },
  {
   "cell_type": "code",
   "execution_count": 1,
   "metadata": {
    "execution": {
     "iopub.execute_input": "2021-04-12T06:59:07.110783Z",
     "iopub.status.busy": "2021-04-12T06:59:07.109847Z",
     "iopub.status.idle": "2021-04-12T06:59:08.113132Z",
     "shell.execute_reply": "2021-04-12T06:59:08.112501Z"
    }
   },
   "outputs": [
    {
     "name": "stdout",
     "output_type": "stream",
     "text": [
      "Logging hadn't been started.\n",
      "Activating auto-logging. Current session state plus future input saved.\n",
      "Filename       : /home/runner/.qcodes/logs/command_history.log\n",
      "Mode           : append\n",
      "Output logging : True\n",
      "Raw input log  : False\n",
      "Timestamping   : True\n",
      "State          : active\n"
     ]
    },
    {
     "name": "stdout",
     "output_type": "stream",
     "text": [
      "Qcodes Logfile : /home/runner/.qcodes/logs/210412-4392-qcodes.log\n"
     ]
    }
   ],
   "source": [
    "import os\n",
    "cwd = os.getcwd()\n",
    "import qcodes as qc\n",
    "qc.config[\"core\"][\"db_location\"] = os.path.join(cwd, 'testing.db')\n"
   ]
  },
  {
   "cell_type": "code",
   "execution_count": 2,
   "metadata": {
    "execution": {
     "iopub.execute_input": "2021-04-12T06:59:08.121523Z",
     "iopub.status.busy": "2021-04-12T06:59:08.119024Z",
     "iopub.status.idle": "2021-04-12T06:59:08.371781Z",
     "shell.execute_reply": "2021-04-12T06:59:08.370402Z"
    }
   },
   "outputs": [],
   "source": [
    "%matplotlib inline\n",
    "import time\n",
    "import matplotlib.pyplot as plt\n",
    "import numpy as np\n",
    "\n",
    "import qcodes as qc\n",
    "from qcodes.instrument.parameter import ManualParameter\n",
    "from qcodes.dataset.experiment_container import (Experiment,\n",
    "                                                 load_last_experiment,\n",
    "                                                 new_experiment)\n",
    "from qcodes.dataset.sqlite.database import initialise_database\n",
    "from qcodes import load_or_create_experiment\n",
    "from qcodes.dataset.measurements import Measurement"
   ]
  },
  {
   "cell_type": "code",
   "execution_count": 3,
   "metadata": {
    "execution": {
     "iopub.execute_input": "2021-04-12T06:59:08.376808Z",
     "iopub.status.busy": "2021-04-12T06:59:08.376099Z",
     "iopub.status.idle": "2021-04-12T06:59:08.434814Z",
     "shell.execute_reply": "2021-04-12T06:59:08.434312Z"
    }
   },
   "outputs": [
    {
     "name": "stdout",
     "output_type": "stream",
     "text": [
      "\r",
      "0it [00:00, ?it/s]"
     ]
    },
    {
     "name": "stdout",
     "output_type": "stream",
     "text": [
      "\r",
      "Upgrading database; v0 -> v1: : 0it [00:00, ?it/s]"
     ]
    },
    {
     "name": "stdout",
     "output_type": "stream",
     "text": [
      "\r",
      "Upgrading database; v0 -> v1: : 0it [00:00, ?it/s]"
     ]
    },
    {
     "name": "stdout",
     "output_type": "stream",
     "text": [
      "\n",
      "\r",
      "  0%|          | 0/1 [00:00<?, ?it/s]"
     ]
    },
    {
     "name": "stdout",
     "output_type": "stream",
     "text": [
      "\r",
      "Upgrading database; v1 -> v2:   0%|          | 0/1 [00:00<?, ?it/s]"
     ]
    },
    {
     "name": "stdout",
     "output_type": "stream",
     "text": [
      "\r",
      "Upgrading database; v1 -> v2: 100%|██████████| 1/1 [00:00<00:00, 1271.00it/s]"
     ]
    },
    {
     "name": "stdout",
     "output_type": "stream",
     "text": [
      "\n",
      "\r",
      "0it [00:00, ?it/s]"
     ]
    },
    {
     "name": "stdout",
     "output_type": "stream",
     "text": [
      "\r",
      "Upgrading database; v2 -> v3: : 0it [00:00, ?it/s]"
     ]
    },
    {
     "name": "stdout",
     "output_type": "stream",
     "text": [
      "\r",
      "Upgrading database; v2 -> v3: : 0it [00:00, ?it/s]"
     ]
    },
    {
     "name": "stdout",
     "output_type": "stream",
     "text": [
      "\n",
      "\r",
      "0it [00:00, ?it/s]"
     ]
    },
    {
     "name": "stdout",
     "output_type": "stream",
     "text": [
      "\r",
      "Upgrading database; v3 -> v4: : 0it [00:00, ?it/s]"
     ]
    },
    {
     "name": "stdout",
     "output_type": "stream",
     "text": [
      "\r",
      "Upgrading database; v3 -> v4: : 0it [00:00, ?it/s]"
     ]
    },
    {
     "name": "stdout",
     "output_type": "stream",
     "text": [
      "\n",
      "\r",
      "  0%|          | 0/1 [00:00<?, ?it/s]"
     ]
    },
    {
     "name": "stdout",
     "output_type": "stream",
     "text": [
      "\r",
      "Upgrading database; v4 -> v5:   0%|          | 0/1 [00:00<?, ?it/s]"
     ]
    },
    {
     "name": "stdout",
     "output_type": "stream",
     "text": [
      "\r",
      "Upgrading database; v4 -> v5: 100%|██████████| 1/1 [00:00<00:00, 509.64it/s]"
     ]
    },
    {
     "name": "stdout",
     "output_type": "stream",
     "text": [
      "\n",
      "\r",
      "0it [00:00, ?it/s]"
     ]
    },
    {
     "name": "stdout",
     "output_type": "stream",
     "text": [
      "\r",
      "Upgrading database; v5 -> v6: : 0it [00:00, ?it/s]"
     ]
    },
    {
     "name": "stdout",
     "output_type": "stream",
     "text": [
      "\r",
      "Upgrading database; v5 -> v6: : 0it [00:00, ?it/s]"
     ]
    },
    {
     "name": "stdout",
     "output_type": "stream",
     "text": [
      "\n",
      "\r",
      "  0%|          | 0/1 [00:00<?, ?it/s]"
     ]
    },
    {
     "name": "stdout",
     "output_type": "stream",
     "text": [
      "\r",
      "Upgrading database; v6 -> v7:   0%|          | 0/1 [00:00<?, ?it/s]"
     ]
    },
    {
     "name": "stdout",
     "output_type": "stream",
     "text": [
      "\r",
      "Upgrading database; v6 -> v7: 100%|██████████| 1/1 [00:00<00:00, 482.21it/s]"
     ]
    },
    {
     "name": "stdout",
     "output_type": "stream",
     "text": [
      "\n",
      "\r",
      "  0%|          | 0/1 [00:00<?, ?it/s]"
     ]
    },
    {
     "name": "stdout",
     "output_type": "stream",
     "text": [
      "\r",
      "Upgrading database; v7 -> v8:   0%|          | 0/1 [00:00<?, ?it/s]"
     ]
    },
    {
     "name": "stdout",
     "output_type": "stream",
     "text": [
      "\r",
      "Upgrading database; v7 -> v8: 100%|██████████| 1/1 [00:00<00:00, 1253.15it/s]"
     ]
    },
    {
     "name": "stdout",
     "output_type": "stream",
     "text": [
      "\n",
      "\r",
      "  0%|          | 0/1 [00:00<?, ?it/s]"
     ]
    },
    {
     "name": "stdout",
     "output_type": "stream",
     "text": [
      "\r",
      "Upgrading database; v8 -> v9:   0%|          | 0/1 [00:00<?, ?it/s]"
     ]
    },
    {
     "name": "stdout",
     "output_type": "stream",
     "text": [
      "\r",
      "Upgrading database; v8 -> v9: 100%|██████████| 1/1 [00:00<00:00, 1087.73it/s]"
     ]
    },
    {
     "name": "stdout",
     "output_type": "stream",
     "text": [
      "\n"
     ]
    }
   ],
   "source": [
    "initialise_database()\n",
    "exp = load_or_create_experiment(experiment_name='tutorial_exp', sample_name=\"no sample\")"
   ]
  },
  {
   "cell_type": "markdown",
   "metadata": {},
   "source": [
    "Here, we define a simple function to benchmark the time it takes to insert n points with either numeric or array data type.\n",
    "We will compare both the time used to call ``add_result`` and the time used for the full measurement."
   ]
  },
  {
   "cell_type": "code",
   "execution_count": 4,
   "metadata": {
    "execution": {
     "iopub.execute_input": "2021-04-12T06:59:08.444688Z",
     "iopub.status.busy": "2021-04-12T06:59:08.443427Z",
     "iopub.status.idle": "2021-04-12T06:59:08.445363Z",
     "shell.execute_reply": "2021-04-12T06:59:08.445840Z"
    }
   },
   "outputs": [],
   "source": [
    "def insert_data(paramtype, npoints, nreps=1):\n",
    "\n",
    "    meas = Measurement(exp=exp)\n",
    "\n",
    "    x1 = ManualParameter('x1')\n",
    "    x2 = ManualParameter('x2')\n",
    "    x3 = ManualParameter('x3')\n",
    "    y1 = ManualParameter('y1')\n",
    "    y2 = ManualParameter('y2')\n",
    "\n",
    "    meas.register_parameter(x1, paramtype=paramtype)\n",
    "    meas.register_parameter(x2, paramtype=paramtype)\n",
    "    meas.register_parameter(x3, paramtype=paramtype)\n",
    "    meas.register_parameter(y1, setpoints=[x1, x2, x3],\n",
    "                            paramtype=paramtype)\n",
    "    meas.register_parameter(y2, setpoints=[x1, x2, x3],\n",
    "                            paramtype=paramtype)\n",
    "    start = time.perf_counter()\n",
    "    with meas.run() as datasaver:\n",
    "        start_adding = time.perf_counter()\n",
    "        for i in range(nreps):\n",
    "            datasaver.add_result((x1, np.random.rand(npoints)),\n",
    "                                 (x2, np.random.rand(npoints)),\n",
    "                                 (x3, np.random.rand(npoints)),\n",
    "                                 (y1, np.random.rand(npoints)),\n",
    "                                 (y2, np.random.rand(npoints)))\n",
    "        stop_adding = time.perf_counter()\n",
    "        run_id = datasaver.run_id\n",
    "    stop = time.perf_counter()\n",
    "    tot_time = stop - start\n",
    "    add_time = stop_adding - start_adding\n",
    "    return tot_time, add_time, run_id"
   ]
  },
  {
   "cell_type": "markdown",
   "metadata": {},
   "source": [
    "## Comparison between numeric/array data and binary blob"
   ]
  },
  {
   "cell_type": "markdown",
   "metadata": {},
   "source": [
    "### Case1: Short experiment time"
   ]
  },
  {
   "cell_type": "code",
   "execution_count": 5,
   "metadata": {
    "execution": {
     "iopub.execute_input": "2021-04-12T06:59:08.452126Z",
     "iopub.status.busy": "2021-04-12T06:59:08.450899Z",
     "iopub.status.idle": "2021-04-12T06:59:09.233075Z",
     "shell.execute_reply": "2021-04-12T06:59:09.232233Z"
    }
   },
   "outputs": [
    {
     "name": "stdout",
     "output_type": "stream",
     "text": [
      "Starting experimental run with id: 1. \n",
      "Starting experimental run with id: 2. \n",
      "Starting experimental run with id: 3. \n",
      "Starting experimental run with id: 4. \n",
      "Starting experimental run with id: 5. \n",
      "Starting experimental run with id: 6. \n"
     ]
    },
    {
     "name": "stdout",
     "output_type": "stream",
     "text": [
      "Starting experimental run with id: 7. \n"
     ]
    },
    {
     "name": "stdout",
     "output_type": "stream",
     "text": [
      "Starting experimental run with id: 8. \n",
      "Starting experimental run with id: 9. \n"
     ]
    },
    {
     "name": "stdout",
     "output_type": "stream",
     "text": [
      "Starting experimental run with id: 10. \n",
      "Starting experimental run with id: 11. \n"
     ]
    },
    {
     "name": "stdout",
     "output_type": "stream",
     "text": [
      "Starting experimental run with id: 12. \n",
      "Starting experimental run with id: 13. \n",
      "Starting experimental run with id: 14. \n"
     ]
    }
   ],
   "source": [
    "sizes = [1,500,1000,2000,3000,4000,5000]\n",
    "t_numeric = []\n",
    "t_numeric_add = []\n",
    "t_array = []\n",
    "t_array_add = []\n",
    "for size in sizes:\n",
    "    tn, tna, run_id_n =  insert_data('numeric', size)\n",
    "    t_numeric.append(tn)\n",
    "    t_numeric_add.append(tna)\n",
    "\n",
    "    ta, taa, run_id_a =  insert_data('array', size)\n",
    "    t_array.append(ta)\n",
    "    t_array_add.append(taa)"
   ]
  },
  {
   "cell_type": "code",
   "execution_count": 6,
   "metadata": {
    "execution": {
     "iopub.execute_input": "2021-04-12T06:59:09.278748Z",
     "iopub.status.busy": "2021-04-12T06:59:09.254227Z",
     "iopub.status.idle": "2021-04-12T06:59:09.442151Z",
     "shell.execute_reply": "2021-04-12T06:59:09.442857Z"
    }
   },
   "outputs": [
    {
     "data": {
      "image/png": "[encoded data removed]",
      "text/plain": [
       "<Figure size 432x288 with 1 Axes>"
      ]
     },
     "metadata": {
      "needs_background": "light"
     },
     "output_type": "display_data"
    }
   ],
   "source": [
    "fig, ax = plt.subplots(1,1)\n",
    "ax.plot(sizes, t_numeric, 'o-', label='Inserting row-by-row')\n",
    "ax.plot(sizes, t_numeric_add, 'o-', label='Inserting row-by-row: add_result only')\n",
    "ax.plot(sizes, t_array, 'd-', label='Inserting as binary blob')\n",
    "ax.plot(sizes, t_array_add, 'd-', label='Inserting as binary blob: add_result only')\n",
    "ax.legend()\n",
    "ax.set_xlabel('Array length')\n",
    "ax.set_ylabel('Time (s)')\n",
    "fig.tight_layout()"
   ]
  },
  {
   "cell_type": "markdown",
   "metadata": {},
   "source": [
    "As shown in the latter figure, the time to setup and and close the experiment is approximately 0.4 sec. In case of small array sizes, the difference between inserting values of data as arrays and inserting them row-by-row is relatively unimportant. At larger array sizes, i.e. above 10000 points, the cost of writing data as individual datapoints starts to become important.\n"
   ]
  },
  {
   "cell_type": "markdown",
   "metadata": {},
   "source": [
    "### Case2: Long experiment time "
   ]
  },
  {
   "cell_type": "code",
   "execution_count": 7,
   "metadata": {
    "execution": {
     "iopub.execute_input": "2021-04-12T06:59:09.449495Z",
     "iopub.status.busy": "2021-04-12T06:59:09.448375Z",
     "iopub.status.idle": "2021-04-12T07:00:03.214329Z",
     "shell.execute_reply": "2021-04-12T07:00:03.213766Z"
    }
   },
   "outputs": [
    {
     "name": "stdout",
     "output_type": "stream",
     "text": [
      "Starting experimental run with id: 15. \n",
      "Starting experimental run with id: 16. \n",
      "Starting experimental run with id: 17. \n"
     ]
    },
    {
     "name": "stdout",
     "output_type": "stream",
     "text": [
      "Starting experimental run with id: 18. \n",
      "Starting experimental run with id: 19. \n"
     ]
    },
    {
     "name": "stdout",
     "output_type": "stream",
     "text": [
      "Starting experimental run with id: 20. \n"
     ]
    },
    {
     "name": "stdout",
     "output_type": "stream",
     "text": [
      "Starting experimental run with id: 21. \n"
     ]
    },
    {
     "name": "stdout",
     "output_type": "stream",
     "text": [
      "Starting experimental run with id: 22. \n"
     ]
    },
    {
     "name": "stdout",
     "output_type": "stream",
     "text": [
      "Starting experimental run with id: 23. \n"
     ]
    },
    {
     "name": "stdout",
     "output_type": "stream",
     "text": [
      "Starting experimental run with id: 24. \n"
     ]
    },
    {
     "name": "stdout",
     "output_type": "stream",
     "text": [
      "Starting experimental run with id: 25. \n"
     ]
    },
    {
     "name": "stdout",
     "output_type": "stream",
     "text": [
      "Starting experimental run with id: 26. \n"
     ]
    },
    {
     "name": "stdout",
     "output_type": "stream",
     "text": [
      "Starting experimental run with id: 27. \n"
     ]
    },
    {
     "name": "stdout",
     "output_type": "stream",
     "text": [
      "Starting experimental run with id: 28. \n"
     ]
    }
   ],
   "source": [
    "sizes = [1,500,1000,2000,3000,4000,5000]\n",
    "nreps = 100\n",
    "t_numeric = []\n",
    "t_numeric_add = []\n",
    "t_numeric_run_ids = []\n",
    "t_array = []\n",
    "t_array_add = []\n",
    "t_array_run_ids = []\n",
    "for size in sizes:\n",
    "    tn, tna, run_id_n =  insert_data('numeric', size, nreps=nreps)\n",
    "    t_numeric.append(tn)\n",
    "    t_numeric_add.append(tna)\n",
    "    t_numeric_run_ids.append(run_id_n)\n",
    "\n",
    "    ta, taa, run_id_a =  insert_data('array', size, nreps=nreps)\n",
    "    t_array.append(ta)\n",
    "    t_array_add.append(taa)\n",
    "    t_array_run_ids.append(run_id_a)"
   ]
  },
  {
   "cell_type": "code",
   "execution_count": 8,
   "metadata": {
    "execution": {
     "iopub.execute_input": "2021-04-12T07:00:03.262216Z",
     "iopub.status.busy": "2021-04-12T07:00:03.237461Z",
     "iopub.status.idle": "2021-04-12T07:00:03.418427Z",
     "shell.execute_reply": "2021-04-12T07:00:03.419226Z"
    },
    "scrolled": true
   },
   "outputs": [
    {
     "data": {
      "image/png": "[encoded data removed]",
      "text/plain": [
       "<Figure size 432x288 with 1 Axes>"
      ]
     },
     "metadata": {
      "needs_background": "light"
     },
     "output_type": "display_data"
    }
   ],
   "source": [
    "fig, ax = plt.subplots(1,1)\n",
    "ax.plot(sizes, t_numeric, 'o-', label='Inserting row-by-row')\n",
    "ax.plot(sizes, t_numeric_add, 'o-', label='Inserting row-by-row: add_result only')\n",
    "ax.plot(sizes, t_array, 'd-', label='Inserting as binary blob')\n",
    "ax.plot(sizes, t_array_add, 'd-', label='Inserting as binary blob: add_result only')\n",
    "ax.legend()\n",
    "ax.set_xlabel('Array length')\n",
    "ax.set_ylabel('Time (s)')\n",
    "fig.tight_layout()"
   ]
  },
  {
   "cell_type": "markdown",
   "metadata": {},
   "source": [
    "However, as we increase the length of the experiment, as seen here by repeating the insertion 100 times, we see a big difference between inserting values of the data row-by-row and inserting it as a binary blob."
   ]
  },
  {
   "cell_type": "markdown",
   "metadata": {},
   "source": [
    "## Loading the data "
   ]
  },
  {
   "cell_type": "code",
   "execution_count": 9,
   "metadata": {
    "execution": {
     "iopub.execute_input": "2021-04-12T07:00:03.423985Z",
     "iopub.status.busy": "2021-04-12T07:00:03.423131Z",
     "iopub.status.idle": "2021-04-12T07:00:03.428328Z",
     "shell.execute_reply": "2021-04-12T07:00:03.427466Z"
    }
   },
   "outputs": [],
   "source": [
    "from qcodes.dataset.data_set import load_by_id\n",
    "from qcodes.dataset.data_export import get_data_by_id"
   ]
  },
  {
   "cell_type": "markdown",
   "metadata": {},
   "source": [
    "As usual you can load the data by using the ``load_by_id`` function but you will notice that the different storage methods\n",
    "are reflected in shape of the data as it is retrieved. "
   ]
  },
  {
   "cell_type": "code",
   "execution_count": 10,
   "metadata": {
    "execution": {
     "iopub.execute_input": "2021-04-12T07:00:03.432500Z",
     "iopub.status.busy": "2021-04-12T07:00:03.431933Z",
     "iopub.status.idle": "2021-04-12T07:00:03.435510Z",
     "shell.execute_reply": "2021-04-12T07:00:03.435013Z"
    }
   },
   "outputs": [],
   "source": [
    "run_id_n = t_numeric_run_ids[0]\n",
    "run_id_a = t_array_run_ids[0]"
   ]
  },
  {
   "cell_type": "code",
   "execution_count": 11,
   "metadata": {
    "execution": {
     "iopub.execute_input": "2021-04-12T07:00:03.439341Z",
     "iopub.status.busy": "2021-04-12T07:00:03.438775Z",
     "iopub.status.idle": "2021-04-12T07:00:03.449967Z",
     "shell.execute_reply": "2021-04-12T07:00:03.449359Z"
    },
    "scrolled": true
   },
   "outputs": [
    {
     "data": {
      "text/plain": [
       "{'x1': {'x1': array([0.94456931, 0.94456931, 0.39717473, 0.39717473, 0.90403269,\n",
       "         0.90403269, 0.59348245, 0.59348245, 0.82479052, 0.82479052,\n",
       "         0.33506767, 0.33506767, 0.31645603, 0.31645603, 0.38756389,\n",
       "         0.38756389, 0.3495815 , 0.3495815 , 0.70146386, 0.70146386,\n",
       "         0.72262736, 0.72262736, 0.99763653, 0.99763653, 0.97147232,\n",
       "         0.97147232, 0.09836106, 0.09836106, 0.24348109, 0.24348109,\n",
       "         0.21124484, 0.21124484, 0.08282805, 0.08282805, 0.33241716,\n",
       "         0.33241716, 0.69380707, 0.69380707, 0.74204615, 0.74204615,\n",
       "         0.01884819, 0.01884819, 0.46375539, 0.46375539, 0.10959165,\n",
       "         0.10959165, 0.19292092, 0.19292092, 0.4847468 , 0.4847468 ,\n",
       "         0.38120895, 0.38120895, 0.17682593, 0.17682593, 0.74071081,\n",
       "         0.74071081, 0.79893891, 0.79893891, 0.10231055, 0.10231055,\n",
       "         0.63631747, 0.63631747, 0.78704469, 0.78704469, 0.41148224,\n",
       "         0.41148224, 0.67608653, 0.67608653, 0.18416605, 0.18416605,\n",
       "         0.31163525, 0.31163525, 0.51413668, 0.51413668, 0.27515376,\n",
       "         0.27515376, 0.5162206 , 0.5162206 , 0.02543932, 0.02543932,\n",
       "         0.96997545, 0.96997545, 0.1076077 , 0.1076077 , 0.24624854,\n",
       "         0.24624854, 0.94470659, 0.94470659, 0.52372714, 0.52372714,\n",
       "         0.63495747, 0.63495747, 0.23201315, 0.23201315, 0.44028585,\n",
       "         0.44028585, 0.77014042, 0.77014042, 0.32469545, 0.32469545,\n",
       "         0.05653432, 0.05653432, 0.86759762, 0.86759762, 0.09404043,\n",
       "         0.09404043, 0.03480138, 0.03480138, 0.47481536, 0.47481536,\n",
       "         0.46703941, 0.46703941, 0.20605283, 0.20605283, 0.73421917,\n",
       "         0.73421917, 0.61950568, 0.61950568, 0.57774197, 0.57774197,\n",
       "         0.80046852, 0.80046852, 0.62628692, 0.62628692, 0.49726374,\n",
       "         0.49726374, 0.103785  , 0.103785  , 0.63299384, 0.63299384,\n",
       "         0.83013362, 0.83013362, 0.30326841, 0.30326841, 0.08026598,\n",
       "         0.08026598, 0.06105327, 0.06105327, 0.43424406, 0.43424406,\n",
       "         0.48457499, 0.48457499, 0.78395388, 0.78395388, 0.42920846,\n",
       "         0.42920846, 0.01347485, 0.01347485, 0.52558014, 0.52558014,\n",
       "         0.06434694, 0.06434694, 0.25367423, 0.25367423, 0.08346501,\n",
       "         0.08346501, 0.32668889, 0.32668889, 0.48183364, 0.48183364,\n",
       "         0.39354313, 0.39354313, 0.15423045, 0.15423045, 0.43191585,\n",
       "         0.43191585, 0.43166246, 0.43166246, 0.70056188, 0.70056188,\n",
       "         0.29969168, 0.29969168, 0.48761105, 0.48761105, 0.45948298,\n",
       "         0.45948298, 0.08572045, 0.08572045, 0.74124623, 0.74124623,\n",
       "         0.45563385, 0.45563385, 0.66364596, 0.66364596, 0.65712801,\n",
       "         0.65712801, 0.28455514, 0.28455514, 0.00790995, 0.00790995,\n",
       "         0.02771011, 0.02771011, 0.81806992, 0.81806992, 0.70885362,\n",
       "         0.70885362, 0.62659146, 0.62659146, 0.80323294, 0.80323294])}}"
      ]
     },
     "execution_count": 1,
     "metadata": {},
     "output_type": "execute_result"
    }
   ],
   "source": [
    "ds = load_by_id(run_id_n)\n",
    "ds.get_parameter_data('x1')"
   ]
  },
  {
   "cell_type": "markdown",
   "metadata": {},
   "source": [
    "And a dataset stored as binary arrays"
   ]
  },
  {
   "cell_type": "code",
   "execution_count": 12,
   "metadata": {
    "execution": {
     "iopub.execute_input": "2021-04-12T07:00:03.453518Z",
     "iopub.status.busy": "2021-04-12T07:00:03.452908Z",
     "iopub.status.idle": "2021-04-12T07:00:03.515701Z",
     "shell.execute_reply": "2021-04-12T07:00:03.516193Z"
    },
    "scrolled": true
   },
   "outputs": [
    {
     "data": {
      "text/plain": [
       "{'x1': {'x1': array([[0.24448896],\n",
       "         [0.24448896],\n",
       "         [0.73520316],\n",
       "         [0.73520316],\n",
       "         [0.94849802],\n",
       "         [0.94849802],\n",
       "         [0.25799395],\n",
       "         [0.25799395],\n",
       "         [0.2660726 ],\n",
       "         [0.2660726 ],\n",
       "         [0.72908455],\n",
       "         [0.72908455],\n",
       "         [0.69770255],\n",
       "         [0.69770255],\n",
       "         [0.98808663],\n",
       "         [0.98808663],\n",
       "         [0.24380327],\n",
       "         [0.24380327],\n",
       "         [0.39074511],\n",
       "         [0.39074511],\n",
       "         [0.09578604],\n",
       "         [0.09578604],\n",
       "         [0.37762613],\n",
       "         [0.37762613],\n",
       "         [0.82033277],\n",
       "         [0.82033277],\n",
       "         [0.7697691 ],\n",
       "         [0.7697691 ],\n",
       "         [0.34850631],\n",
       "         [0.34850631],\n",
       "         [0.29365754],\n",
       "         [0.29365754],\n",
       "         [0.62734443],\n",
       "         [0.62734443],\n",
       "         [0.2836038 ],\n",
       "         [0.2836038 ],\n",
       "         [0.58355134],\n",
       "         [0.58355134],\n",
       "         [0.44775791],\n",
       "         [0.44775791],\n",
       "         [0.99981274],\n",
       "         [0.99981274],\n",
       "         [0.66969961],\n",
       "         [0.66969961],\n",
       "         [0.06377775],\n",
       "         [0.06377775],\n",
       "         [0.20933795],\n",
       "         [0.20933795],\n",
       "         [0.56156242],\n",
       "         [0.56156242],\n",
       "         [0.64873504],\n",
       "         [0.64873504],\n",
       "         [0.62107437],\n",
       "         [0.62107437],\n",
       "         [0.78434855],\n",
       "         [0.78434855],\n",
       "         [0.502     ],\n",
       "         [0.502     ],\n",
       "         [0.68463782],\n",
       "         [0.68463782],\n",
       "         [0.37442082],\n",
       "         [0.37442082],\n",
       "         [0.21571988],\n",
       "         [0.21571988],\n",
       "         [0.88696193],\n",
       "         [0.88696193],\n",
       "         [0.70125074],\n",
       "         [0.70125074],\n",
       "         [0.94998952],\n",
       "         [0.94998952],\n",
       "         [0.83909129],\n",
       "         [0.83909129],\n",
       "         [0.84860146],\n",
       "         [0.84860146],\n",
       "         [0.63126036],\n",
       "         [0.63126036],\n",
       "         [0.16476412],\n",
       "         [0.16476412],\n",
       "         [0.86135223],\n",
       "         [0.86135223],\n",
       "         [0.61133178],\n",
       "         [0.61133178],\n",
       "         [0.73162277],\n",
       "         [0.73162277],\n",
       "         [0.35560472],\n",
       "         [0.35560472],\n",
       "         [0.49605302],\n",
       "         [0.49605302],\n",
       "         [0.50525044],\n",
       "         [0.50525044],\n",
       "         [0.39011432],\n",
       "         [0.39011432],\n",
       "         [0.37112739],\n",
       "         [0.37112739],\n",
       "         [0.89259621],\n",
       "         [0.89259621],\n",
       "         [0.0744772 ],\n",
       "         [0.0744772 ],\n",
       "         [0.11132986],\n",
       "         [0.11132986],\n",
       "         [0.30155136],\n",
       "         [0.30155136],\n",
       "         [0.17699187],\n",
       "         [0.17699187],\n",
       "         [0.70718046],\n",
       "         [0.70718046],\n",
       "         [0.3884411 ],\n",
       "         [0.3884411 ],\n",
       "         [0.4963248 ],\n",
       "         [0.4963248 ],\n",
       "         [0.98365594],\n",
       "         [0.98365594],\n",
       "         [0.71191172],\n",
       "         [0.71191172],\n",
       "         [0.82394503],\n",
       "         [0.82394503],\n",
       "         [0.1203389 ],\n",
       "         [0.1203389 ],\n",
       "         [0.53437521],\n",
       "         [0.53437521],\n",
       "         [0.85325557],\n",
       "         [0.85325557],\n",
       "         [0.98131423],\n",
       "         [0.98131423],\n",
       "         [0.37301089],\n",
       "         [0.37301089],\n",
       "         [0.37660151],\n",
       "         [0.37660151],\n",
       "         [0.3351334 ],\n",
       "         [0.3351334 ],\n",
       "         [0.6691416 ],\n",
       "         [0.6691416 ],\n",
       "         [0.72765414],\n",
       "         [0.72765414],\n",
       "         [0.58625529],\n",
       "         [0.58625529],\n",
       "         [0.26389636],\n",
       "         [0.26389636],\n",
       "         [0.68812336],\n",
       "         [0.68812336],\n",
       "         [0.65186974],\n",
       "         [0.65186974],\n",
       "         [0.07730582],\n",
       "         [0.07730582],\n",
       "         [0.93778465],\n",
       "         [0.93778465],\n",
       "         [0.57463937],\n",
       "         [0.57463937],\n",
       "         [0.07133204],\n",
       "         [0.07133204],\n",
       "         [0.64270086],\n",
       "         [0.64270086],\n",
       "         [0.63382712],\n",
       "         [0.63382712],\n",
       "         [0.80604197],\n",
       "         [0.80604197],\n",
       "         [0.0749434 ],\n",
       "         [0.0749434 ],\n",
       "         [0.54233433],\n",
       "         [0.54233433],\n",
       "         [0.86109775],\n",
       "         [0.86109775],\n",
       "         [0.19095622],\n",
       "         [0.19095622],\n",
       "         [0.63915044],\n",
       "         [0.63915044],\n",
       "         [0.33450238],\n",
       "         [0.33450238],\n",
       "         [0.02825047],\n",
       "         [0.02825047],\n",
       "         [0.02827421],\n",
       "         [0.02827421],\n",
       "         [0.84425876],\n",
       "         [0.84425876],\n",
       "         [0.33017563],\n",
       "         [0.33017563],\n",
       "         [0.84952357],\n",
       "         [0.84952357],\n",
       "         [0.35636278],\n",
       "         [0.35636278],\n",
       "         [0.63593125],\n",
       "         [0.63593125],\n",
       "         [0.90498886],\n",
       "         [0.90498886],\n",
       "         [0.49343916],\n",
       "         [0.49343916],\n",
       "         [0.09069909],\n",
       "         [0.09069909],\n",
       "         [0.94209683],\n",
       "         [0.94209683],\n",
       "         [0.23488519],\n",
       "         [0.23488519],\n",
       "         [0.15672741],\n",
       "         [0.15672741],\n",
       "         [0.62693671],\n",
       "         [0.62693671],\n",
       "         [0.44525067],\n",
       "         [0.44525067],\n",
       "         [0.43603764],\n",
       "         [0.43603764]])}}"
      ]
     },
     "execution_count": 1,
     "metadata": {},
     "output_type": "execute_result"
    }
   ],
   "source": [
    "ds = load_by_id(run_id_a)\n",
    "ds.get_parameter_data('x1')"
   ]
  },
  {
   "cell_type": "code",
   "execution_count": null,
   "metadata": {},
   "outputs": [],
   "source": []
  }
 ],
 "metadata": {
  "kernelspec": {
   "display_name": "Python 3",
   "language": "python",
   "name": "python3"
  },
  "language_info": {
   "codemirror_mode": {
    "name": "ipython",
    "version": 3
   },
   "file_extension": ".py",
   "mimetype": "text/x-python",
   "name": "python",
   "nbconvert_exporter": "python",
   "pygments_lexer": "ipython3",
   "version": "3.7.10"
  },
  "nbsphinx": {
   "timeout": 600
  },
  "toc": {
   "base_numbering": 1,
   "nav_menu": {},
   "number_sections": true,
   "sideBar": true,
   "skip_h1_title": false,
   "title_cell": "Table of Contents",
   "title_sidebar": "Contents",
   "toc_cell": false,
   "toc_position": {},
   "toc_section_display": true,
   "toc_window_display": false
  },
  "varInspector": {
   "cols": {
    "lenName": 16,
    "lenType": 16,
    "lenVar": 40
   },
   "kernels_config": {
    "python": {
     "delete_cmd_postfix": "",
     "delete_cmd_prefix": "del ",
     "library": "var_list.py",
     "varRefreshCmd": "print(var_dic_list())"
    },
    "r": {
     "delete_cmd_postfix": ") ",
     "delete_cmd_prefix": "rm(",
     "library": "var_list.r",
     "varRefreshCmd": "cat(var_dic_list()) "
    }
   },
   "types_to_exclude": [
    "module",
    "function",
    "builtin_function_or_method",
    "instance",
    "_Feature"
   ],
   "window_display": false
  }
 },
 "nbformat": 4,
 "nbformat_minor": 2
}
