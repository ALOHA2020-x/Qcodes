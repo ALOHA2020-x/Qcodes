{
 "cells": [
  {
   "cell_type": "markdown",
   "metadata": {},
   "source": [
    "# DataSet Performance\n",
    "\n",
    "This notebook shows the trade-off between inserting data into a database row-by-row and as binary blobs. Inserting the data row-by-row means that we have direct access to all the data and may perform queries directly on the values of the data. On the other hand, as we shall see, this is much slower than inserting the data directly as binary blobs."
   ]
  },
  {
   "cell_type": "markdown",
   "metadata": {},
   "source": [
    "First, we choose a new location for the database to ensure that we don't add a bunch of benchmarking data to the default one."
   ]
  },
  {
   "cell_type": "code",
   "execution_count": 1,
   "metadata": {
    "execution": {
     "iopub.execute_input": "2021-04-19T07:20:41.157312Z",
     "iopub.status.busy": "2021-04-19T07:20:41.156597Z",
     "iopub.status.idle": "2021-04-19T07:20:42.336372Z",
     "shell.execute_reply": "2021-04-19T07:20:42.335708Z"
    }
   },
   "outputs": [
    {
     "name": "stdout",
     "output_type": "stream",
     "text": [
      "Logging hadn't been started.\n",
      "Activating auto-logging. Current session state plus future input saved.\n",
      "Filename       : /home/runner/.qcodes/logs/command_history.log\n",
      "Mode           : append\n",
      "Output logging : True\n",
      "Raw input log  : False\n",
      "Timestamping   : True\n",
      "State          : active\n"
     ]
    },
    {
     "name": "stdout",
     "output_type": "stream",
     "text": [
      "Qcodes Logfile : /home/runner/.qcodes/logs/210419-4507-qcodes.log\n"
     ]
    }
   ],
   "source": [
    "import os\n",
    "cwd = os.getcwd()\n",
    "import qcodes as qc\n",
    "qc.config[\"core\"][\"db_location\"] = os.path.join(cwd, 'testing.db')\n"
   ]
  },
  {
   "cell_type": "code",
   "execution_count": 2,
   "metadata": {
    "execution": {
     "iopub.execute_input": "2021-04-19T07:20:42.343824Z",
     "iopub.status.busy": "2021-04-19T07:20:42.342817Z",
     "iopub.status.idle": "2021-04-19T07:20:42.621395Z",
     "shell.execute_reply": "2021-04-19T07:20:42.621975Z"
    }
   },
   "outputs": [],
   "source": [
    "%matplotlib inline\n",
    "import time\n",
    "import matplotlib.pyplot as plt\n",
    "import numpy as np\n",
    "\n",
    "import qcodes as qc\n",
    "from qcodes.instrument.parameter import ManualParameter\n",
    "from qcodes.dataset.experiment_container import (Experiment,\n",
    "                                                 load_last_experiment,\n",
    "                                                 new_experiment)\n",
    "from qcodes.dataset.sqlite.database import initialise_database\n",
    "from qcodes import load_or_create_experiment\n",
    "from qcodes.dataset.measurements import Measurement"
   ]
  },
  {
   "cell_type": "code",
   "execution_count": 3,
   "metadata": {
    "execution": {
     "iopub.execute_input": "2021-04-19T07:20:42.626394Z",
     "iopub.status.busy": "2021-04-19T07:20:42.625716Z",
     "iopub.status.idle": "2021-04-19T07:20:42.714067Z",
     "shell.execute_reply": "2021-04-19T07:20:42.713436Z"
    }
   },
   "outputs": [
    {
     "name": "stdout",
     "output_type": "stream",
     "text": [
      "\r",
      "0it [00:00, ?it/s]"
     ]
    },
    {
     "name": "stdout",
     "output_type": "stream",
     "text": [
      "\r",
      "Upgrading database; v0 -> v1: : 0it [00:00, ?it/s]"
     ]
    },
    {
     "name": "stdout",
     "output_type": "stream",
     "text": [
      "\r",
      "Upgrading database; v0 -> v1: : 0it [00:00, ?it/s]"
     ]
    },
    {
     "name": "stdout",
     "output_type": "stream",
     "text": [
      "\n",
      "\r",
      "  0%|          | 0/1 [00:00<?, ?it/s]"
     ]
    },
    {
     "name": "stdout",
     "output_type": "stream",
     "text": [
      "\r",
      "Upgrading database; v1 -> v2:   0%|          | 0/1 [00:00<?, ?it/s]"
     ]
    },
    {
     "name": "stdout",
     "output_type": "stream",
     "text": [
      "\r",
      "Upgrading database; v1 -> v2: 100%|██████████| 1/1 [00:00<00:00, 426.38it/s]"
     ]
    },
    {
     "name": "stdout",
     "output_type": "stream",
     "text": [
      "\n",
      "\r",
      "0it [00:00, ?it/s]"
     ]
    },
    {
     "name": "stdout",
     "output_type": "stream",
     "text": [
      "\r",
      "Upgrading database; v2 -> v3: : 0it [00:00, ?it/s]"
     ]
    },
    {
     "name": "stdout",
     "output_type": "stream",
     "text": [
      "\r",
      "Upgrading database; v2 -> v3: : 0it [00:00, ?it/s]"
     ]
    },
    {
     "name": "stdout",
     "output_type": "stream",
     "text": [
      "\n",
      "\r",
      "0it [00:00, ?it/s]"
     ]
    },
    {
     "name": "stdout",
     "output_type": "stream",
     "text": [
      "\r",
      "Upgrading database; v3 -> v4: : 0it [00:00, ?it/s]"
     ]
    },
    {
     "name": "stdout",
     "output_type": "stream",
     "text": [
      "\r",
      "Upgrading database; v3 -> v4: : 0it [00:00, ?it/s]"
     ]
    },
    {
     "name": "stdout",
     "output_type": "stream",
     "text": [
      "\n",
      "\r",
      "  0%|          | 0/1 [00:00<?, ?it/s]"
     ]
    },
    {
     "name": "stdout",
     "output_type": "stream",
     "text": [
      "\r",
      "Upgrading database; v4 -> v5:   0%|          | 0/1 [00:00<?, ?it/s]"
     ]
    },
    {
     "name": "stdout",
     "output_type": "stream",
     "text": [
      "\r",
      "Upgrading database; v4 -> v5: 100%|██████████| 1/1 [00:00<00:00, 619.27it/s]"
     ]
    },
    {
     "name": "stdout",
     "output_type": "stream",
     "text": [
      "\n",
      "\r",
      "0it [00:00, ?it/s]"
     ]
    },
    {
     "name": "stdout",
     "output_type": "stream",
     "text": [
      "\r",
      "Upgrading database; v5 -> v6: : 0it [00:00, ?it/s]"
     ]
    },
    {
     "name": "stdout",
     "output_type": "stream",
     "text": [
      "\r",
      "Upgrading database; v5 -> v6: : 0it [00:00, ?it/s]"
     ]
    },
    {
     "name": "stdout",
     "output_type": "stream",
     "text": [
      "\n",
      "\r",
      "  0%|          | 0/1 [00:00<?, ?it/s]"
     ]
    },
    {
     "name": "stdout",
     "output_type": "stream",
     "text": [
      "\r",
      "Upgrading database; v6 -> v7:   0%|          | 0/1 [00:00<?, ?it/s]"
     ]
    },
    {
     "name": "stdout",
     "output_type": "stream",
     "text": [
      "\r",
      "Upgrading database; v6 -> v7: 100%|██████████| 1/1 [00:00<00:00, 344.84it/s]"
     ]
    },
    {
     "name": "stdout",
     "output_type": "stream",
     "text": [
      "\n",
      "\r",
      "  0%|          | 0/1 [00:00<?, ?it/s]"
     ]
    },
    {
     "name": "stdout",
     "output_type": "stream",
     "text": [
      "\r",
      "Upgrading database; v7 -> v8:   0%|          | 0/1 [00:00<?, ?it/s]"
     ]
    },
    {
     "name": "stdout",
     "output_type": "stream",
     "text": [
      "\r",
      "Upgrading database; v7 -> v8: 100%|██████████| 1/1 [00:00<00:00, 608.84it/s]"
     ]
    },
    {
     "name": "stdout",
     "output_type": "stream",
     "text": [
      "\n",
      "\r",
      "  0%|          | 0/1 [00:00<?, ?it/s]"
     ]
    },
    {
     "name": "stdout",
     "output_type": "stream",
     "text": [
      "\r",
      "Upgrading database; v8 -> v9:   0%|          | 0/1 [00:00<?, ?it/s]"
     ]
    },
    {
     "name": "stdout",
     "output_type": "stream",
     "text": [
      "\r",
      "Upgrading database; v8 -> v9: 100%|██████████| 1/1 [00:00<00:00, 770.02it/s]"
     ]
    },
    {
     "name": "stdout",
     "output_type": "stream",
     "text": [
      "\n"
     ]
    }
   ],
   "source": [
    "initialise_database()\n",
    "exp = load_or_create_experiment(experiment_name='tutorial_exp', sample_name=\"no sample\")"
   ]
  },
  {
   "cell_type": "markdown",
   "metadata": {},
   "source": [
    "Here, we define a simple function to benchmark the time it takes to insert n points with either numeric or array data type.\n",
    "We will compare both the time used to call ``add_result`` and the time used for the full measurement."
   ]
  },
  {
   "cell_type": "code",
   "execution_count": 4,
   "metadata": {
    "execution": {
     "iopub.execute_input": "2021-04-19T07:20:42.724265Z",
     "iopub.status.busy": "2021-04-19T07:20:42.722278Z",
     "iopub.status.idle": "2021-04-19T07:20:42.726271Z",
     "shell.execute_reply": "2021-04-19T07:20:42.726896Z"
    }
   },
   "outputs": [],
   "source": [
    "def insert_data(paramtype, npoints, nreps=1):\n",
    "\n",
    "    meas = Measurement(exp=exp)\n",
    "\n",
    "    x1 = ManualParameter('x1')\n",
    "    x2 = ManualParameter('x2')\n",
    "    x3 = ManualParameter('x3')\n",
    "    y1 = ManualParameter('y1')\n",
    "    y2 = ManualParameter('y2')\n",
    "\n",
    "    meas.register_parameter(x1, paramtype=paramtype)\n",
    "    meas.register_parameter(x2, paramtype=paramtype)\n",
    "    meas.register_parameter(x3, paramtype=paramtype)\n",
    "    meas.register_parameter(y1, setpoints=[x1, x2, x3],\n",
    "                            paramtype=paramtype)\n",
    "    meas.register_parameter(y2, setpoints=[x1, x2, x3],\n",
    "                            paramtype=paramtype)\n",
    "    start = time.perf_counter()\n",
    "    with meas.run() as datasaver:\n",
    "        start_adding = time.perf_counter()\n",
    "        for i in range(nreps):\n",
    "            datasaver.add_result((x1, np.random.rand(npoints)),\n",
    "                                 (x2, np.random.rand(npoints)),\n",
    "                                 (x3, np.random.rand(npoints)),\n",
    "                                 (y1, np.random.rand(npoints)),\n",
    "                                 (y2, np.random.rand(npoints)))\n",
    "        stop_adding = time.perf_counter()\n",
    "        run_id = datasaver.run_id\n",
    "    stop = time.perf_counter()\n",
    "    tot_time = stop - start\n",
    "    add_time = stop_adding - start_adding\n",
    "    return tot_time, add_time, run_id"
   ]
  },
  {
   "cell_type": "markdown",
   "metadata": {},
   "source": [
    "## Comparison between numeric/array data and binary blob"
   ]
  },
  {
   "cell_type": "markdown",
   "metadata": {},
   "source": [
    "### Case1: Short experiment time"
   ]
  },
  {
   "cell_type": "code",
   "execution_count": 5,
   "metadata": {
    "execution": {
     "iopub.execute_input": "2021-04-19T07:20:42.734280Z",
     "iopub.status.busy": "2021-04-19T07:20:42.733133Z",
     "iopub.status.idle": "2021-04-19T07:20:43.647217Z",
     "shell.execute_reply": "2021-04-19T07:20:43.648153Z"
    }
   },
   "outputs": [
    {
     "name": "stdout",
     "output_type": "stream",
     "text": [
      "Starting experimental run with id: 1. \n",
      "Starting experimental run with id: 2. \n",
      "Starting experimental run with id: 3. \n",
      "Starting experimental run with id: 4. \n"
     ]
    },
    {
     "name": "stdout",
     "output_type": "stream",
     "text": [
      "Starting experimental run with id: 5. \n"
     ]
    },
    {
     "name": "stdout",
     "output_type": "stream",
     "text": [
      "Starting experimental run with id: 6. \n",
      "Starting experimental run with id: 7. \n"
     ]
    },
    {
     "name": "stdout",
     "output_type": "stream",
     "text": [
      "Starting experimental run with id: 8. \n",
      "Starting experimental run with id: 9. \n"
     ]
    },
    {
     "name": "stdout",
     "output_type": "stream",
     "text": [
      "Starting experimental run with id: 10. \n",
      "Starting experimental run with id: 11. \n"
     ]
    },
    {
     "name": "stdout",
     "output_type": "stream",
     "text": [
      "Starting experimental run with id: 12. \n",
      "Starting experimental run with id: 13. \n"
     ]
    },
    {
     "name": "stdout",
     "output_type": "stream",
     "text": [
      "Starting experimental run with id: 14. \n"
     ]
    }
   ],
   "source": [
    "sizes = [1,500,1000,2000,3000,4000,5000]\n",
    "t_numeric = []\n",
    "t_numeric_add = []\n",
    "t_array = []\n",
    "t_array_add = []\n",
    "for size in sizes:\n",
    "    tn, tna, run_id_n =  insert_data('numeric', size)\n",
    "    t_numeric.append(tn)\n",
    "    t_numeric_add.append(tna)\n",
    "\n",
    "    ta, taa, run_id_a =  insert_data('array', size)\n",
    "    t_array.append(ta)\n",
    "    t_array_add.append(taa)"
   ]
  },
  {
   "cell_type": "code",
   "execution_count": 6,
   "metadata": {
    "execution": {
     "iopub.execute_input": "2021-04-19T07:20:43.704941Z",
     "iopub.status.busy": "2021-04-19T07:20:43.671891Z",
     "iopub.status.idle": "2021-04-19T07:20:43.901560Z",
     "shell.execute_reply": "2021-04-19T07:20:43.902453Z"
    }
   },
   "outputs": [
    {
     "data": {
      "image/png": "[encoded data removed]",
      "text/plain": [
       "<Figure size 432x288 with 1 Axes>"
      ]
     },
     "metadata": {
      "needs_background": "light"
     },
     "output_type": "display_data"
    }
   ],
   "source": [
    "fig, ax = plt.subplots(1,1)\n",
    "ax.plot(sizes, t_numeric, 'o-', label='Inserting row-by-row')\n",
    "ax.plot(sizes, t_numeric_add, 'o-', label='Inserting row-by-row: add_result only')\n",
    "ax.plot(sizes, t_array, 'd-', label='Inserting as binary blob')\n",
    "ax.plot(sizes, t_array_add, 'd-', label='Inserting as binary blob: add_result only')\n",
    "ax.legend()\n",
    "ax.set_xlabel('Array length')\n",
    "ax.set_ylabel('Time (s)')\n",
    "fig.tight_layout()"
   ]
  },
  {
   "cell_type": "markdown",
   "metadata": {},
   "source": [
    "As shown in the latter figure, the time to setup and and close the experiment is approximately 0.4 sec. In case of small array sizes, the difference between inserting values of data as arrays and inserting them row-by-row is relatively unimportant. At larger array sizes, i.e. above 10000 points, the cost of writing data as individual datapoints starts to become important.\n"
   ]
  },
  {
   "cell_type": "markdown",
   "metadata": {},
   "source": [
    "### Case2: Long experiment time "
   ]
  },
  {
   "cell_type": "code",
   "execution_count": 7,
   "metadata": {
    "execution": {
     "iopub.execute_input": "2021-04-19T07:20:43.909643Z",
     "iopub.status.busy": "2021-04-19T07:20:43.908026Z",
     "iopub.status.idle": "2021-04-19T07:21:46.868186Z",
     "shell.execute_reply": "2021-04-19T07:21:46.867530Z"
    }
   },
   "outputs": [
    {
     "name": "stdout",
     "output_type": "stream",
     "text": [
      "Starting experimental run with id: 15. \n",
      "Starting experimental run with id: 16. \n"
     ]
    },
    {
     "name": "stdout",
     "output_type": "stream",
     "text": [
      "Starting experimental run with id: 17. \n"
     ]
    },
    {
     "name": "stdout",
     "output_type": "stream",
     "text": [
      "Starting experimental run with id: 18. \n"
     ]
    },
    {
     "name": "stdout",
     "output_type": "stream",
     "text": [
      "Starting experimental run with id: 19. \n"
     ]
    },
    {
     "name": "stdout",
     "output_type": "stream",
     "text": [
      "Starting experimental run with id: 20. \n"
     ]
    },
    {
     "name": "stdout",
     "output_type": "stream",
     "text": [
      "Starting experimental run with id: 21. \n"
     ]
    },
    {
     "name": "stdout",
     "output_type": "stream",
     "text": [
      "Starting experimental run with id: 22. \n"
     ]
    },
    {
     "name": "stdout",
     "output_type": "stream",
     "text": [
      "Starting experimental run with id: 23. \n"
     ]
    },
    {
     "name": "stdout",
     "output_type": "stream",
     "text": [
      "Starting experimental run with id: 24. \n"
     ]
    },
    {
     "name": "stdout",
     "output_type": "stream",
     "text": [
      "Starting experimental run with id: 25. \n"
     ]
    },
    {
     "name": "stdout",
     "output_type": "stream",
     "text": [
      "Starting experimental run with id: 26. \n"
     ]
    },
    {
     "name": "stdout",
     "output_type": "stream",
     "text": [
      "Starting experimental run with id: 27. \n"
     ]
    },
    {
     "name": "stdout",
     "output_type": "stream",
     "text": [
      "Starting experimental run with id: 28. \n"
     ]
    }
   ],
   "source": [
    "sizes = [1,500,1000,2000,3000,4000,5000]\n",
    "nreps = 100\n",
    "t_numeric = []\n",
    "t_numeric_add = []\n",
    "t_numeric_run_ids = []\n",
    "t_array = []\n",
    "t_array_add = []\n",
    "t_array_run_ids = []\n",
    "for size in sizes:\n",
    "    tn, tna, run_id_n =  insert_data('numeric', size, nreps=nreps)\n",
    "    t_numeric.append(tn)\n",
    "    t_numeric_add.append(tna)\n",
    "    t_numeric_run_ids.append(run_id_n)\n",
    "\n",
    "    ta, taa, run_id_a =  insert_data('array', size, nreps=nreps)\n",
    "    t_array.append(ta)\n",
    "    t_array_add.append(taa)\n",
    "    t_array_run_ids.append(run_id_a)"
   ]
  },
  {
   "cell_type": "code",
   "execution_count": 8,
   "metadata": {
    "execution": {
     "iopub.execute_input": "2021-04-19T07:21:46.922659Z",
     "iopub.status.busy": "2021-04-19T07:21:46.892010Z",
     "iopub.status.idle": "2021-04-19T07:21:47.116922Z",
     "shell.execute_reply": "2021-04-19T07:21:47.117470Z"
    },
    "scrolled": true
   },
   "outputs": [
    {
     "data": {
      "image/png": "[encoded data removed]",
      "text/plain": [
       "<Figure size 432x288 with 1 Axes>"
      ]
     },
     "metadata": {
      "needs_background": "light"
     },
     "output_type": "display_data"
    }
   ],
   "source": [
    "fig, ax = plt.subplots(1,1)\n",
    "ax.plot(sizes, t_numeric, 'o-', label='Inserting row-by-row')\n",
    "ax.plot(sizes, t_numeric_add, 'o-', label='Inserting row-by-row: add_result only')\n",
    "ax.plot(sizes, t_array, 'd-', label='Inserting as binary blob')\n",
    "ax.plot(sizes, t_array_add, 'd-', label='Inserting as binary blob: add_result only')\n",
    "ax.legend()\n",
    "ax.set_xlabel('Array length')\n",
    "ax.set_ylabel('Time (s)')\n",
    "fig.tight_layout()"
   ]
  },
  {
   "cell_type": "markdown",
   "metadata": {},
   "source": [
    "However, as we increase the length of the experiment, as seen here by repeating the insertion 100 times, we see a big difference between inserting values of the data row-by-row and inserting it as a binary blob."
   ]
  },
  {
   "cell_type": "markdown",
   "metadata": {},
   "source": [
    "## Loading the data "
   ]
  },
  {
   "cell_type": "code",
   "execution_count": 9,
   "metadata": {
    "execution": {
     "iopub.execute_input": "2021-04-19T07:21:47.122910Z",
     "iopub.status.busy": "2021-04-19T07:21:47.122256Z",
     "iopub.status.idle": "2021-04-19T07:21:47.126457Z",
     "shell.execute_reply": "2021-04-19T07:21:47.125740Z"
    }
   },
   "outputs": [],
   "source": [
    "from qcodes.dataset.data_set import load_by_id"
   ]
  },
  {
   "cell_type": "markdown",
   "metadata": {},
   "source": [
    "As usual you can load the data by using the ``load_by_id`` function but you will notice that the different storage methods\n",
    "are reflected in shape of the data as it is retrieved. "
   ]
  },
  {
   "cell_type": "code",
   "execution_count": 10,
   "metadata": {
    "execution": {
     "iopub.execute_input": "2021-04-19T07:21:47.132009Z",
     "iopub.status.busy": "2021-04-19T07:21:47.130556Z",
     "iopub.status.idle": "2021-04-19T07:21:47.132733Z",
     "shell.execute_reply": "2021-04-19T07:21:47.133291Z"
    }
   },
   "outputs": [],
   "source": [
    "run_id_n = t_numeric_run_ids[0]\n",
    "run_id_a = t_array_run_ids[0]"
   ]
  },
  {
   "cell_type": "code",
   "execution_count": 11,
   "metadata": {
    "execution": {
     "iopub.execute_input": "2021-04-19T07:21:47.137347Z",
     "iopub.status.busy": "2021-04-19T07:21:47.136662Z",
     "iopub.status.idle": "2021-04-19T07:21:47.147565Z",
     "shell.execute_reply": "2021-04-19T07:21:47.148149Z"
    },
    "scrolled": true
   },
   "outputs": [
    {
     "data": {
      "text/plain": [
       "{'x1': {'x1': array([0.45015273, 0.45015273, 0.51315638, 0.51315638, 0.97981998,\n",
       "         0.97981998, 0.7747517 , 0.7747517 , 0.18108137, 0.18108137,\n",
       "         0.36161066, 0.36161066, 0.56561995, 0.56561995, 0.60913483,\n",
       "         0.60913483, 0.26646916, 0.26646916, 0.64042062, 0.64042062,\n",
       "         0.5403908 , 0.5403908 , 0.24829899, 0.24829899, 0.70785095,\n",
       "         0.70785095, 0.88645721, 0.88645721, 0.2766646 , 0.2766646 ,\n",
       "         0.14768314, 0.14768314, 0.49136938, 0.49136938, 0.54610237,\n",
       "         0.54610237, 0.17901593, 0.17901593, 0.45912092, 0.45912092,\n",
       "         0.45065751, 0.45065751, 0.16652112, 0.16652112, 0.51872546,\n",
       "         0.51872546, 0.197221  , 0.197221  , 0.57570892, 0.57570892,\n",
       "         0.99349725, 0.99349725, 0.20890493, 0.20890493, 0.33797141,\n",
       "         0.33797141, 0.36242113, 0.36242113, 0.02326279, 0.02326279,\n",
       "         0.68679328, 0.68679328, 0.87968468, 0.87968468, 0.29381613,\n",
       "         0.29381613, 0.71624328, 0.71624328, 0.12676398, 0.12676398,\n",
       "         0.72742001, 0.72742001, 0.91191069, 0.91191069, 0.10556538,\n",
       "         0.10556538, 0.02118068, 0.02118068, 0.11965657, 0.11965657,\n",
       "         0.32491695, 0.32491695, 0.10587569, 0.10587569, 0.38097322,\n",
       "         0.38097322, 0.56464279, 0.56464279, 0.15425622, 0.15425622,\n",
       "         0.78453875, 0.78453875, 0.14594474, 0.14594474, 0.33501892,\n",
       "         0.33501892, 0.47709641, 0.47709641, 0.59856153, 0.59856153,\n",
       "         0.41563123, 0.41563123, 0.46453918, 0.46453918, 0.74555292,\n",
       "         0.74555292, 0.99968075, 0.99968075, 0.08837818, 0.08837818,\n",
       "         0.85998149, 0.85998149, 0.01002069, 0.01002069, 0.34218063,\n",
       "         0.34218063, 0.57170336, 0.57170336, 0.6988264 , 0.6988264 ,\n",
       "         0.66293084, 0.66293084, 0.18269418, 0.18269418, 0.76928271,\n",
       "         0.76928271, 0.74693761, 0.74693761, 0.56404796, 0.56404796,\n",
       "         0.8477253 , 0.8477253 , 0.96999599, 0.96999599, 0.15322035,\n",
       "         0.15322035, 0.33057665, 0.33057665, 0.04743112, 0.04743112,\n",
       "         0.87488215, 0.87488215, 0.10023809, 0.10023809, 0.22001944,\n",
       "         0.22001944, 0.84366448, 0.84366448, 0.15411217, 0.15411217,\n",
       "         0.3078142 , 0.3078142 , 0.15257475, 0.15257475, 0.92286176,\n",
       "         0.92286176, 0.46593773, 0.46593773, 0.19029771, 0.19029771,\n",
       "         0.07926533, 0.07926533, 0.86316933, 0.86316933, 0.55629591,\n",
       "         0.55629591, 0.86135403, 0.86135403, 0.67411394, 0.67411394,\n",
       "         0.65859516, 0.65859516, 0.75388587, 0.75388587, 0.85809289,\n",
       "         0.85809289, 0.41381546, 0.41381546, 0.54425875, 0.54425875,\n",
       "         0.93911776, 0.93911776, 0.34535216, 0.34535216, 0.0661504 ,\n",
       "         0.0661504 , 0.81903273, 0.81903273, 0.28004504, 0.28004504,\n",
       "         0.61186642, 0.61186642, 0.16468672, 0.16468672, 0.82044229,\n",
       "         0.82044229, 0.0088192 , 0.0088192 , 0.17347666, 0.17347666])}}"
      ]
     },
     "execution_count": 1,
     "metadata": {},
     "output_type": "execute_result"
    }
   ],
   "source": [
    "ds = load_by_id(run_id_n)\n",
    "ds.get_parameter_data('x1')"
   ]
  },
  {
   "cell_type": "markdown",
   "metadata": {},
   "source": [
    "And a dataset stored as binary arrays"
   ]
  },
  {
   "cell_type": "code",
   "execution_count": 12,
   "metadata": {
    "execution": {
     "iopub.execute_input": "2021-04-19T07:21:47.152543Z",
     "iopub.status.busy": "2021-04-19T07:21:47.151869Z",
     "iopub.status.idle": "2021-04-19T07:21:47.222911Z",
     "shell.execute_reply": "2021-04-19T07:21:47.223510Z"
    },
    "scrolled": true
   },
   "outputs": [
    {
     "data": {
      "text/plain": [
       "{'x1': {'x1': array([[0.22165223],\n",
       "         [0.22165223],\n",
       "         [0.10730705],\n",
       "         [0.10730705],\n",
       "         [0.11080263],\n",
       "         [0.11080263],\n",
       "         [0.90863507],\n",
       "         [0.90863507],\n",
       "         [0.81852181],\n",
       "         [0.81852181],\n",
       "         [0.05300442],\n",
       "         [0.05300442],\n",
       "         [0.64584129],\n",
       "         [0.64584129],\n",
       "         [0.43481636],\n",
       "         [0.43481636],\n",
       "         [0.98651562],\n",
       "         [0.98651562],\n",
       "         [0.86267708],\n",
       "         [0.86267708],\n",
       "         [0.95765698],\n",
       "         [0.95765698],\n",
       "         [0.15968564],\n",
       "         [0.15968564],\n",
       "         [0.62713574],\n",
       "         [0.62713574],\n",
       "         [0.30441516],\n",
       "         [0.30441516],\n",
       "         [0.04633462],\n",
       "         [0.04633462],\n",
       "         [0.68193623],\n",
       "         [0.68193623],\n",
       "         [0.93814652],\n",
       "         [0.93814652],\n",
       "         [0.67249082],\n",
       "         [0.67249082],\n",
       "         [0.69225544],\n",
       "         [0.69225544],\n",
       "         [0.11784597],\n",
       "         [0.11784597],\n",
       "         [0.91946064],\n",
       "         [0.91946064],\n",
       "         [0.24061256],\n",
       "         [0.24061256],\n",
       "         [0.87757922],\n",
       "         [0.87757922],\n",
       "         [0.33541152],\n",
       "         [0.33541152],\n",
       "         [0.31320014],\n",
       "         [0.31320014],\n",
       "         [0.2489002 ],\n",
       "         [0.2489002 ],\n",
       "         [0.54952783],\n",
       "         [0.54952783],\n",
       "         [0.69362754],\n",
       "         [0.69362754],\n",
       "         [0.17799693],\n",
       "         [0.17799693],\n",
       "         [0.01556616],\n",
       "         [0.01556616],\n",
       "         [0.9565094 ],\n",
       "         [0.9565094 ],\n",
       "         [0.0246046 ],\n",
       "         [0.0246046 ],\n",
       "         [0.43402091],\n",
       "         [0.43402091],\n",
       "         [0.57994589],\n",
       "         [0.57994589],\n",
       "         [0.86370589],\n",
       "         [0.86370589],\n",
       "         [0.38792053],\n",
       "         [0.38792053],\n",
       "         [0.22786965],\n",
       "         [0.22786965],\n",
       "         [0.7890712 ],\n",
       "         [0.7890712 ],\n",
       "         [0.0356817 ],\n",
       "         [0.0356817 ],\n",
       "         [0.38124095],\n",
       "         [0.38124095],\n",
       "         [0.2535099 ],\n",
       "         [0.2535099 ],\n",
       "         [0.10285381],\n",
       "         [0.10285381],\n",
       "         [0.8140253 ],\n",
       "         [0.8140253 ],\n",
       "         [0.69706554],\n",
       "         [0.69706554],\n",
       "         [0.81458654],\n",
       "         [0.81458654],\n",
       "         [0.24534453],\n",
       "         [0.24534453],\n",
       "         [0.77339525],\n",
       "         [0.77339525],\n",
       "         [0.46316479],\n",
       "         [0.46316479],\n",
       "         [0.45655986],\n",
       "         [0.45655986],\n",
       "         [0.47805903],\n",
       "         [0.47805903],\n",
       "         [0.24916118],\n",
       "         [0.24916118],\n",
       "         [0.62962728],\n",
       "         [0.62962728],\n",
       "         [0.91535884],\n",
       "         [0.91535884],\n",
       "         [0.39079287],\n",
       "         [0.39079287],\n",
       "         [0.02520924],\n",
       "         [0.02520924],\n",
       "         [0.02263113],\n",
       "         [0.02263113],\n",
       "         [0.37770215],\n",
       "         [0.37770215],\n",
       "         [0.22033119],\n",
       "         [0.22033119],\n",
       "         [0.71465744],\n",
       "         [0.71465744],\n",
       "         [0.67312024],\n",
       "         [0.67312024],\n",
       "         [0.84730934],\n",
       "         [0.84730934],\n",
       "         [0.0352036 ],\n",
       "         [0.0352036 ],\n",
       "         [0.14447728],\n",
       "         [0.14447728],\n",
       "         [0.89040554],\n",
       "         [0.89040554],\n",
       "         [0.66236161],\n",
       "         [0.66236161],\n",
       "         [0.0161729 ],\n",
       "         [0.0161729 ],\n",
       "         [0.68941171],\n",
       "         [0.68941171],\n",
       "         [0.1904224 ],\n",
       "         [0.1904224 ],\n",
       "         [0.8088746 ],\n",
       "         [0.8088746 ],\n",
       "         [0.18750829],\n",
       "         [0.18750829],\n",
       "         [0.61723178],\n",
       "         [0.61723178],\n",
       "         [0.93138834],\n",
       "         [0.93138834],\n",
       "         [0.68641123],\n",
       "         [0.68641123],\n",
       "         [0.18677615],\n",
       "         [0.18677615],\n",
       "         [0.53908615],\n",
       "         [0.53908615],\n",
       "         [0.64473111],\n",
       "         [0.64473111],\n",
       "         [0.48814968],\n",
       "         [0.48814968],\n",
       "         [0.55444582],\n",
       "         [0.55444582],\n",
       "         [0.57653935],\n",
       "         [0.57653935],\n",
       "         [0.62094592],\n",
       "         [0.62094592],\n",
       "         [0.88156578],\n",
       "         [0.88156578],\n",
       "         [0.50129009],\n",
       "         [0.50129009],\n",
       "         [0.4534524 ],\n",
       "         [0.4534524 ],\n",
       "         [0.78727254],\n",
       "         [0.78727254],\n",
       "         [0.62036142],\n",
       "         [0.62036142],\n",
       "         [0.09929965],\n",
       "         [0.09929965],\n",
       "         [0.0764707 ],\n",
       "         [0.0764707 ],\n",
       "         [0.661319  ],\n",
       "         [0.661319  ],\n",
       "         [0.88192949],\n",
       "         [0.88192949],\n",
       "         [0.77887198],\n",
       "         [0.77887198],\n",
       "         [0.0702761 ],\n",
       "         [0.0702761 ],\n",
       "         [0.96009953],\n",
       "         [0.96009953],\n",
       "         [0.20141038],\n",
       "         [0.20141038],\n",
       "         [0.88964597],\n",
       "         [0.88964597],\n",
       "         [0.27342993],\n",
       "         [0.27342993],\n",
       "         [0.39418318],\n",
       "         [0.39418318],\n",
       "         [0.8198347 ],\n",
       "         [0.8198347 ],\n",
       "         [0.14493638],\n",
       "         [0.14493638],\n",
       "         [0.85058347],\n",
       "         [0.85058347],\n",
       "         [0.03381953],\n",
       "         [0.03381953]])}}"
      ]
     },
     "execution_count": 1,
     "metadata": {},
     "output_type": "execute_result"
    }
   ],
   "source": [
    "ds = load_by_id(run_id_a)\n",
    "ds.get_parameter_data('x1')"
   ]
  },
  {
   "cell_type": "code",
   "execution_count": null,
   "metadata": {},
   "outputs": [],
   "source": []
  }
 ],
 "metadata": {
  "kernelspec": {
   "display_name": "Python 3",
   "language": "python",
   "name": "python3"
  },
  "language_info": {
   "codemirror_mode": {
    "name": "ipython",
    "version": 3
   },
   "file_extension": ".py",
   "mimetype": "text/x-python",
   "name": "python",
   "nbconvert_exporter": "python",
   "pygments_lexer": "ipython3",
   "version": "3.7.10"
  },
  "nbsphinx": {
   "timeout": 600
  },
  "toc": {
   "base_numbering": 1,
   "nav_menu": {},
   "number_sections": true,
   "sideBar": true,
   "skip_h1_title": false,
   "title_cell": "Table of Contents",
   "title_sidebar": "Contents",
   "toc_cell": false,
   "toc_position": {},
   "toc_section_display": true,
   "toc_window_display": false
  },
  "varInspector": {
   "cols": {
    "lenName": 16,
    "lenType": 16,
    "lenVar": 40
   },
   "kernels_config": {
    "python": {
     "delete_cmd_postfix": "",
     "delete_cmd_prefix": "del ",
     "library": "var_list.py",
     "varRefreshCmd": "print(var_dic_list())"
    },
    "r": {
     "delete_cmd_postfix": ") ",
     "delete_cmd_prefix": "rm(",
     "library": "var_list.r",
     "varRefreshCmd": "cat(var_dic_list()) "
    }
   },
   "types_to_exclude": [
    "module",
    "function",
    "builtin_function_or_method",
    "instance",
    "_Feature"
   ],
   "window_display": false
  }
 },
 "nbformat": 4,
 "nbformat_minor": 4
}
