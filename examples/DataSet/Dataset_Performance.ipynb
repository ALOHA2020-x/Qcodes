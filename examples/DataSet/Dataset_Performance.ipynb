{
 "cells": [
  {
   "cell_type": "markdown",
   "metadata": {},
   "source": [
    "# DataSet Performance\n",
    "\n",
    "This notebook shows the trade-off between inserting data into a database row-by-row and as binary blobs. Inserting the data row-by-row means that we have direct access to all the data and may perform queries directly on the values of the data. On the other hand, as we shall see, this is much slower than inserting the data directly as binary blobs."
   ]
  },
  {
   "cell_type": "markdown",
   "metadata": {},
   "source": [
    "First, we choose a new location for the database to ensure that we don't add a bunch of benchmarking data to the default one."
   ]
  },
  {
   "cell_type": "code",
   "execution_count": 1,
   "metadata": {
    "execution": {
     "iopub.execute_input": "2020-09-25T16:20:31.764249Z",
     "iopub.status.busy": "2020-09-25T16:20:31.763555Z",
     "iopub.status.idle": "2020-09-25T16:20:32.747771Z",
     "shell.execute_reply": "2020-09-25T16:20:32.746748Z"
    }
   },
   "outputs": [
    {
     "name": "stdout",
     "output_type": "stream",
     "text": [
      "Logging hadn't been started.\n",
      "Activating auto-logging. Current session state plus future input saved.\n",
      "Filename       : /home/vsts/.qcodes/logs/command_history.log\n",
      "Mode           : append\n",
      "Output logging : True\n",
      "Raw input log  : False\n",
      "Timestamping   : True\n",
      "State          : active\n"
     ]
    },
    {
     "name": "stdout",
     "output_type": "stream",
     "text": [
      "Qcodes Logfile : /home/vsts/.qcodes/logs/200925-18902-qcodes.log\n"
     ]
    }
   ],
   "source": [
    "import os\n",
    "cwd = os.getcwd()\n",
    "import qcodes as qc\n",
    "qc.config[\"core\"][\"db_location\"] = os.path.join(cwd, 'testing.db')\n"
   ]
  },
  {
   "cell_type": "code",
   "execution_count": 2,
   "metadata": {
    "execution": {
     "iopub.execute_input": "2020-09-25T16:20:32.753407Z",
     "iopub.status.busy": "2020-09-25T16:20:32.752543Z",
     "iopub.status.idle": "2020-09-25T16:20:32.931634Z",
     "shell.execute_reply": "2020-09-25T16:20:32.931107Z"
    }
   },
   "outputs": [],
   "source": [
    "%matplotlib inline\n",
    "import time\n",
    "import matplotlib.pyplot as plt\n",
    "import numpy as np\n",
    "\n",
    "import qcodes as qc\n",
    "from qcodes.instrument.parameter import ManualParameter\n",
    "from qcodes.dataset.experiment_container import (Experiment,\n",
    "                                                 load_last_experiment,\n",
    "                                                 new_experiment)\n",
    "from qcodes.dataset.sqlite.database import initialise_database\n",
    "from qcodes import load_or_create_experiment\n",
    "from qcodes.dataset.measurements import Measurement"
   ]
  },
  {
   "cell_type": "code",
   "execution_count": 3,
   "metadata": {
    "execution": {
     "iopub.execute_input": "2020-09-25T16:20:32.935486Z",
     "iopub.status.busy": "2020-09-25T16:20:32.934736Z",
     "iopub.status.idle": "2020-09-25T16:20:33.042230Z",
     "shell.execute_reply": "2020-09-25T16:20:33.042771Z"
    }
   },
   "outputs": [
    {
     "name": "stdout",
     "output_type": "stream",
     "text": [
      "\r",
      "0it [00:00, ?it/s]"
     ]
    },
    {
     "name": "stdout",
     "output_type": "stream",
     "text": [
      "\r",
      "Upgrading database; v0 -> v1: : 0it [00:00, ?it/s]"
     ]
    },
    {
     "name": "stdout",
     "output_type": "stream",
     "text": [
      "\r",
      "Upgrading database; v0 -> v1: : 0it [00:00, ?it/s]"
     ]
    },
    {
     "name": "stdout",
     "output_type": "stream",
     "text": [
      "\n",
      "\r",
      "  0%|          | 0/1 [00:00<?, ?it/s]"
     ]
    },
    {
     "name": "stdout",
     "output_type": "stream",
     "text": [
      "\r",
      "Upgrading database; v1 -> v2:   0%|          | 0/1 [00:00<?, ?it/s]"
     ]
    },
    {
     "name": "stdout",
     "output_type": "stream",
     "text": [
      "\r",
      "Upgrading database; v1 -> v2: 100%|██████████| 1/1 [00:00<00:00, 380.16it/s]"
     ]
    },
    {
     "name": "stdout",
     "output_type": "stream",
     "text": [
      "\n",
      "\r",
      "0it [00:00, ?it/s]"
     ]
    },
    {
     "name": "stdout",
     "output_type": "stream",
     "text": [
      "\r",
      "Upgrading database; v2 -> v3: : 0it [00:00, ?it/s]"
     ]
    },
    {
     "name": "stdout",
     "output_type": "stream",
     "text": [
      "\r",
      "Upgrading database; v2 -> v3: : 0it [00:00, ?it/s]"
     ]
    },
    {
     "name": "stdout",
     "output_type": "stream",
     "text": [
      "\n",
      "\r",
      "0it [00:00, ?it/s]"
     ]
    },
    {
     "name": "stdout",
     "output_type": "stream",
     "text": [
      "\r",
      "Upgrading database; v3 -> v4: : 0it [00:00, ?it/s]"
     ]
    },
    {
     "name": "stdout",
     "output_type": "stream",
     "text": [
      "\r",
      "Upgrading database; v3 -> v4: : 0it [00:00, ?it/s]"
     ]
    },
    {
     "name": "stdout",
     "output_type": "stream",
     "text": [
      "\n",
      "\r",
      "  0%|          | 0/1 [00:00<?, ?it/s]"
     ]
    },
    {
     "name": "stdout",
     "output_type": "stream",
     "text": [
      "\r",
      "Upgrading database; v4 -> v5:   0%|          | 0/1 [00:00<?, ?it/s]"
     ]
    },
    {
     "name": "stdout",
     "output_type": "stream",
     "text": [
      "\r",
      "Upgrading database; v4 -> v5: 100%|██████████| 1/1 [00:00<00:00, 387.32it/s]"
     ]
    },
    {
     "name": "stdout",
     "output_type": "stream",
     "text": [
      "\n",
      "\r",
      "0it [00:00, ?it/s]"
     ]
    },
    {
     "name": "stdout",
     "output_type": "stream",
     "text": [
      "\r",
      "Upgrading database; v5 -> v6: : 0it [00:00, ?it/s]"
     ]
    },
    {
     "name": "stdout",
     "output_type": "stream",
     "text": [
      "\r",
      "Upgrading database; v5 -> v6: : 0it [00:00, ?it/s]"
     ]
    },
    {
     "name": "stdout",
     "output_type": "stream",
     "text": [
      "\n",
      "\r",
      "  0%|          | 0/1 [00:00<?, ?it/s]"
     ]
    },
    {
     "name": "stdout",
     "output_type": "stream",
     "text": [
      "\r",
      "Upgrading database; v6 -> v7:   0%|          | 0/1 [00:00<?, ?it/s]"
     ]
    },
    {
     "name": "stdout",
     "output_type": "stream",
     "text": [
      "\r",
      "Upgrading database; v6 -> v7: 100%|██████████| 1/1 [00:00<00:00, 294.75it/s]"
     ]
    },
    {
     "name": "stdout",
     "output_type": "stream",
     "text": [
      "\n",
      "\r",
      "  0%|          | 0/1 [00:00<?, ?it/s]"
     ]
    },
    {
     "name": "stdout",
     "output_type": "stream",
     "text": [
      "\r",
      "Upgrading database; v7 -> v8:   0%|          | 0/1 [00:00<?, ?it/s]"
     ]
    },
    {
     "name": "stdout",
     "output_type": "stream",
     "text": [
      "\r",
      "Upgrading database; v7 -> v8: 100%|██████████| 1/1 [00:00<00:00, 535.94it/s]"
     ]
    },
    {
     "name": "stdout",
     "output_type": "stream",
     "text": [
      "\n",
      "\r",
      "  0%|          | 0/1 [00:00<?, ?it/s]"
     ]
    },
    {
     "name": "stdout",
     "output_type": "stream",
     "text": [
      "\r",
      "Upgrading database; v8 -> v9:   0%|          | 0/1 [00:00<?, ?it/s]"
     ]
    },
    {
     "name": "stdout",
     "output_type": "stream",
     "text": [
      "\r",
      "Upgrading database; v8 -> v9: 100%|██████████| 1/1 [00:00<00:00, 842.06it/s]"
     ]
    },
    {
     "name": "stdout",
     "output_type": "stream",
     "text": [
      "\n"
     ]
    }
   ],
   "source": [
    "initialise_database()\n",
    "exp = load_or_create_experiment(experiment_name='tutorial_exp', sample_name=\"no sample\")"
   ]
  },
  {
   "cell_type": "markdown",
   "metadata": {},
   "source": [
    "Here, we define a simple function to benchmark the time it takes to insert n points with either numeric or array data type.\n",
    "We will compare both the time used to call ``add_result`` and the time used for the full measurement."
   ]
  },
  {
   "cell_type": "code",
   "execution_count": 4,
   "metadata": {
    "execution": {
     "iopub.execute_input": "2020-09-25T16:20:33.052457Z",
     "iopub.status.busy": "2020-09-25T16:20:33.051219Z",
     "iopub.status.idle": "2020-09-25T16:20:33.052974Z",
     "shell.execute_reply": "2020-09-25T16:20:33.053488Z"
    }
   },
   "outputs": [],
   "source": [
    "def insert_data(paramtype, npoints, nreps=1):\n",
    "\n",
    "    meas = Measurement(exp=exp)\n",
    "\n",
    "    x1 = ManualParameter('x1')\n",
    "    x2 = ManualParameter('x2')\n",
    "    x3 = ManualParameter('x3')\n",
    "    y1 = ManualParameter('y1')\n",
    "    y2 = ManualParameter('y2')\n",
    "\n",
    "    meas.register_parameter(x1, paramtype=paramtype)\n",
    "    meas.register_parameter(x2, paramtype=paramtype)\n",
    "    meas.register_parameter(x3, paramtype=paramtype)\n",
    "    meas.register_parameter(y1, setpoints=[x1, x2, x3],\n",
    "                            paramtype=paramtype)\n",
    "    meas.register_parameter(y2, setpoints=[x1, x2, x3],\n",
    "                            paramtype=paramtype)\n",
    "    start = time.perf_counter()\n",
    "    with meas.run() as datasaver:\n",
    "        start_adding = time.perf_counter()\n",
    "        for i in range(nreps):\n",
    "            datasaver.add_result((x1, np.random.rand(npoints)),\n",
    "                                 (x2, np.random.rand(npoints)),\n",
    "                                 (x3, np.random.rand(npoints)),\n",
    "                                 (y1, np.random.rand(npoints)),\n",
    "                                 (y2, np.random.rand(npoints)))\n",
    "        stop_adding = time.perf_counter()\n",
    "        run_id = datasaver.run_id\n",
    "    stop = time.perf_counter()\n",
    "    tot_time = stop - start\n",
    "    add_time = stop_adding - start_adding\n",
    "    return tot_time, add_time, run_id"
   ]
  },
  {
   "cell_type": "markdown",
   "metadata": {},
   "source": [
    "## Comparison between numeric/array data and binary blob"
   ]
  },
  {
   "cell_type": "markdown",
   "metadata": {},
   "source": [
    "### Case1: Short experiment time"
   ]
  },
  {
   "cell_type": "code",
   "execution_count": 5,
   "metadata": {
    "execution": {
     "iopub.execute_input": "2020-09-25T16:20:33.059155Z",
     "iopub.status.busy": "2020-09-25T16:20:33.058261Z",
     "iopub.status.idle": "2020-09-25T16:20:33.783343Z",
     "shell.execute_reply": "2020-09-25T16:20:33.782822Z"
    }
   },
   "outputs": [
    {
     "name": "stdout",
     "output_type": "stream",
     "text": [
      "Starting experimental run with id: 1. \n",
      "Starting experimental run with id: 2. \n",
      "Starting experimental run with id: 3. \n",
      "Starting experimental run with id: 4. \n",
      "Starting experimental run with id: 5. \n"
     ]
    },
    {
     "name": "stdout",
     "output_type": "stream",
     "text": [
      "Starting experimental run with id: 6. \n"
     ]
    },
    {
     "name": "stdout",
     "output_type": "stream",
     "text": [
      "Starting experimental run with id: 7. \n"
     ]
    },
    {
     "name": "stdout",
     "output_type": "stream",
     "text": [
      "Starting experimental run with id: 8. \n",
      "Starting experimental run with id: 9. \n"
     ]
    },
    {
     "name": "stdout",
     "output_type": "stream",
     "text": [
      "Starting experimental run with id: 10. \n"
     ]
    },
    {
     "name": "stdout",
     "output_type": "stream",
     "text": [
      "Starting experimental run with id: 11. \n"
     ]
    },
    {
     "name": "stdout",
     "output_type": "stream",
     "text": [
      "Starting experimental run with id: 12. \n",
      "Starting experimental run with id: 13. \n"
     ]
    },
    {
     "name": "stdout",
     "output_type": "stream",
     "text": [
      "Starting experimental run with id: 14. \n"
     ]
    }
   ],
   "source": [
    "sizes = [1,500,1000,2000,3000,4000,5000]\n",
    "t_numeric = []\n",
    "t_numeric_add = []\n",
    "t_array = []\n",
    "t_array_add = []\n",
    "for size in sizes:\n",
    "    tn, tna, run_id_n =  insert_data('numeric', size)\n",
    "    t_numeric.append(tn)\n",
    "    t_numeric_add.append(tna)\n",
    "\n",
    "    ta, taa, run_id_a =  insert_data('array', size)\n",
    "    t_array.append(ta)\n",
    "    t_array_add.append(taa)"
   ]
  },
  {
   "cell_type": "code",
   "execution_count": 6,
   "metadata": {
    "execution": {
     "iopub.execute_input": "2020-09-25T16:20:33.801481Z",
     "iopub.status.busy": "2020-09-25T16:20:33.800967Z",
     "iopub.status.idle": "2020-09-25T16:20:34.007300Z",
     "shell.execute_reply": "2020-09-25T16:20:34.006748Z"
    }
   },
   "outputs": [
    {
     "data": {
      "image/png": "[encoded data removed]",
      "text/plain": [
       "<Figure size 432x288 with 1 Axes>"
      ]
     },
     "metadata": {
      "needs_background": "light"
     },
     "output_type": "display_data"
    }
   ],
   "source": [
    "fig, ax = plt.subplots(1,1)\n",
    "ax.plot(sizes, t_numeric, 'o-', label='Inserting row-by-row')\n",
    "ax.plot(sizes, t_numeric_add, 'o-', label='Inserting row-by-row: add_result only')\n",
    "ax.plot(sizes, t_array, 'd-', label='Inserting as binary blob')\n",
    "ax.plot(sizes, t_array_add, 'd-', label='Inserting as binary blob: add_result only')\n",
    "ax.legend()\n",
    "ax.set_xlabel('Array length')\n",
    "ax.set_ylabel('Time (s)')\n",
    "fig.tight_layout()"
   ]
  },
  {
   "cell_type": "markdown",
   "metadata": {},
   "source": [
    "As shown in the latter figure, the time to setup and and close the experiment is approximately 0.4 sec. In case of small array sizes, the difference between inserting values of data as arrays and inserting them row-by-row is relatively unimportant. At larger array sizes, i.e. above 10000 points, the cost of writing data as individual datapoints starts to become important.\n"
   ]
  },
  {
   "cell_type": "markdown",
   "metadata": {},
   "source": [
    "### Case2: Long experiment time "
   ]
  },
  {
   "cell_type": "code",
   "execution_count": 7,
   "metadata": {
    "execution": {
     "iopub.execute_input": "2020-09-25T16:20:34.013571Z",
     "iopub.status.busy": "2020-09-25T16:20:34.012825Z",
     "iopub.status.idle": "2020-09-25T16:21:28.513224Z",
     "shell.execute_reply": "2020-09-25T16:21:28.512508Z"
    }
   },
   "outputs": [
    {
     "name": "stdout",
     "output_type": "stream",
     "text": [
      "Starting experimental run with id: 15. \n",
      "Starting experimental run with id: 16. \n",
      "Starting experimental run with id: 17. \n"
     ]
    },
    {
     "name": "stdout",
     "output_type": "stream",
     "text": [
      "Starting experimental run with id: 18. \n",
      "Starting experimental run with id: 19. \n"
     ]
    },
    {
     "name": "stdout",
     "output_type": "stream",
     "text": [
      "Starting experimental run with id: 20. \n"
     ]
    },
    {
     "name": "stdout",
     "output_type": "stream",
     "text": [
      "Starting experimental run with id: 21. \n"
     ]
    },
    {
     "name": "stdout",
     "output_type": "stream",
     "text": [
      "Starting experimental run with id: 22. \n"
     ]
    },
    {
     "name": "stdout",
     "output_type": "stream",
     "text": [
      "Starting experimental run with id: 23. \n"
     ]
    },
    {
     "name": "stdout",
     "output_type": "stream",
     "text": [
      "Starting experimental run with id: 24. \n"
     ]
    },
    {
     "name": "stdout",
     "output_type": "stream",
     "text": [
      "Starting experimental run with id: 25. \n"
     ]
    },
    {
     "name": "stdout",
     "output_type": "stream",
     "text": [
      "Starting experimental run with id: 26. \n"
     ]
    },
    {
     "name": "stdout",
     "output_type": "stream",
     "text": [
      "Starting experimental run with id: 27. \n"
     ]
    },
    {
     "name": "stdout",
     "output_type": "stream",
     "text": [
      "Starting experimental run with id: 28. \n"
     ]
    }
   ],
   "source": [
    "sizes = [1,500,1000,2000,3000,4000,5000]\n",
    "nreps = 100\n",
    "t_numeric = []\n",
    "t_numeric_add = []\n",
    "t_numeric_run_ids = []\n",
    "t_array = []\n",
    "t_array_add = []\n",
    "t_array_run_ids = []\n",
    "for size in sizes:\n",
    "    tn, tna, run_id_n =  insert_data('numeric', size, nreps=nreps)\n",
    "    t_numeric.append(tn)\n",
    "    t_numeric_add.append(tna)\n",
    "    t_numeric_run_ids.append(run_id_n)\n",
    "\n",
    "    ta, taa, run_id_a =  insert_data('array', size, nreps=nreps)\n",
    "    t_array.append(ta)\n",
    "    t_array_add.append(taa)\n",
    "    t_array_run_ids.append(run_id_a)"
   ]
  },
  {
   "cell_type": "code",
   "execution_count": 8,
   "metadata": {
    "execution": {
     "iopub.execute_input": "2020-09-25T16:21:28.539973Z",
     "iopub.status.busy": "2020-09-25T16:21:28.537487Z",
     "iopub.status.idle": "2020-09-25T16:21:28.742988Z",
     "shell.execute_reply": "2020-09-25T16:21:28.742508Z"
    },
    "scrolled": true
   },
   "outputs": [
    {
     "data": {
      "image/png": "[encoded data removed]",
      "text/plain": [
       "<Figure size 432x288 with 1 Axes>"
      ]
     },
     "metadata": {
      "needs_background": "light"
     },
     "output_type": "display_data"
    }
   ],
   "source": [
    "fig, ax = plt.subplots(1,1)\n",
    "ax.plot(sizes, t_numeric, 'o-', label='Inserting row-by-row')\n",
    "ax.plot(sizes, t_numeric_add, 'o-', label='Inserting row-by-row: add_result only')\n",
    "ax.plot(sizes, t_array, 'd-', label='Inserting as binary blob')\n",
    "ax.plot(sizes, t_array_add, 'd-', label='Inserting as binary blob: add_result only')\n",
    "ax.legend()\n",
    "ax.set_xlabel('Array length')\n",
    "ax.set_ylabel('Time (s)')\n",
    "fig.tight_layout()"
   ]
  },
  {
   "cell_type": "markdown",
   "metadata": {},
   "source": [
    "However, as we increase the length of the experiment, as seen here by repeating the insertion 100 times, we see a big difference between inserting values of the data row-by-row and inserting it as a binary blob."
   ]
  },
  {
   "cell_type": "markdown",
   "metadata": {},
   "source": [
    "## Loading the data "
   ]
  },
  {
   "cell_type": "code",
   "execution_count": 9,
   "metadata": {
    "execution": {
     "iopub.execute_input": "2020-09-25T16:21:28.747700Z",
     "iopub.status.busy": "2020-09-25T16:21:28.747159Z",
     "iopub.status.idle": "2020-09-25T16:21:28.749311Z",
     "shell.execute_reply": "2020-09-25T16:21:28.749741Z"
    }
   },
   "outputs": [],
   "source": [
    "from qcodes.dataset.data_set import load_by_id\n",
    "from qcodes.dataset.data_export import get_data_by_id"
   ]
  },
  {
   "cell_type": "markdown",
   "metadata": {},
   "source": [
    "As usual you can load the data by using the ``load_by_id`` function but you will notice that the different storage methods\n",
    "are reflected in shape of the data as it is retrieved. "
   ]
  },
  {
   "cell_type": "code",
   "execution_count": 10,
   "metadata": {
    "execution": {
     "iopub.execute_input": "2020-09-25T16:21:28.754626Z",
     "iopub.status.busy": "2020-09-25T16:21:28.752899Z",
     "iopub.status.idle": "2020-09-25T16:21:28.755149Z",
     "shell.execute_reply": "2020-09-25T16:21:28.755675Z"
    }
   },
   "outputs": [],
   "source": [
    "run_id_n = t_numeric_run_ids[0]\n",
    "run_id_a = t_array_run_ids[0]"
   ]
  },
  {
   "cell_type": "code",
   "execution_count": 11,
   "metadata": {
    "execution": {
     "iopub.execute_input": "2020-09-25T16:21:28.758808Z",
     "iopub.status.busy": "2020-09-25T16:21:28.758288Z",
     "iopub.status.idle": "2020-09-25T16:21:28.766682Z",
     "shell.execute_reply": "2020-09-25T16:21:28.766213Z"
    },
    "scrolled": true
   },
   "outputs": [
    {
     "data": {
      "text/plain": [
       "{'x1': {'x1': array([0.94699479, 0.94699479, 0.59579037, 0.59579037, 0.06869937,\n",
       "         0.06869937, 0.84428501, 0.84428501, 0.29968796, 0.29968796,\n",
       "         0.44696568, 0.44696568, 0.2157751 , 0.2157751 , 0.76254122,\n",
       "         0.76254122, 0.17667955, 0.17667955, 0.59849492, 0.59849492,\n",
       "         0.52376318, 0.52376318, 0.66945184, 0.66945184, 0.36847387,\n",
       "         0.36847387, 0.43838566, 0.43838566, 0.33555817, 0.33555817,\n",
       "         0.75335507, 0.75335507, 0.7334226 , 0.7334226 , 0.84817942,\n",
       "         0.84817942, 0.49583748, 0.49583748, 0.41464771, 0.41464771,\n",
       "         0.62953544, 0.62953544, 0.85391829, 0.85391829, 0.46146345,\n",
       "         0.46146345, 0.96841098, 0.96841098, 0.42978711, 0.42978711,\n",
       "         0.21746464, 0.21746464, 0.64038874, 0.64038874, 0.75100302,\n",
       "         0.75100302, 0.63182307, 0.63182307, 0.68989625, 0.68989625,\n",
       "         0.81858838, 0.81858838, 0.04705654, 0.04705654, 0.70686675,\n",
       "         0.70686675, 0.33610872, 0.33610872, 0.12059313, 0.12059313,\n",
       "         0.82313823, 0.82313823, 0.14216815, 0.14216815, 0.41907887,\n",
       "         0.41907887, 0.58678158, 0.58678158, 0.31205279, 0.31205279,\n",
       "         0.21519222, 0.21519222, 0.73409947, 0.73409947, 0.08319429,\n",
       "         0.08319429, 0.45909561, 0.45909561, 0.14136746, 0.14136746,\n",
       "         0.55744184, 0.55744184, 0.56584567, 0.56584567, 0.74771559,\n",
       "         0.74771559, 0.47999113, 0.47999113, 0.48082737, 0.48082737,\n",
       "         0.17528205, 0.17528205, 0.47321381, 0.47321381, 0.34251487,\n",
       "         0.34251487, 0.89318001, 0.89318001, 0.4169719 , 0.4169719 ,\n",
       "         0.16482742, 0.16482742, 0.96791286, 0.96791286, 0.22773651,\n",
       "         0.22773651, 0.46587561, 0.46587561, 0.16278367, 0.16278367,\n",
       "         0.1432119 , 0.1432119 , 0.1787945 , 0.1787945 , 0.70686649,\n",
       "         0.70686649, 0.63729735, 0.63729735, 0.60381762, 0.60381762,\n",
       "         0.96871205, 0.96871205, 0.97952058, 0.97952058, 0.87146847,\n",
       "         0.87146847, 0.26381746, 0.26381746, 0.784719  , 0.784719  ,\n",
       "         0.19351609, 0.19351609, 0.98758229, 0.98758229, 0.88258713,\n",
       "         0.88258713, 0.51152984, 0.51152984, 0.25349914, 0.25349914,\n",
       "         0.06038164, 0.06038164, 0.13834076, 0.13834076, 0.40502692,\n",
       "         0.40502692, 0.99666821, 0.99666821, 0.90544344, 0.90544344,\n",
       "         0.66080212, 0.66080212, 0.01056701, 0.01056701, 0.17669886,\n",
       "         0.17669886, 0.22066469, 0.22066469, 0.80580781, 0.80580781,\n",
       "         0.90572025, 0.90572025, 0.8122939 , 0.8122939 , 0.41101541,\n",
       "         0.41101541, 0.27920236, 0.27920236, 0.44032473, 0.44032473,\n",
       "         0.85589539, 0.85589539, 0.46009754, 0.46009754, 0.6350586 ,\n",
       "         0.6350586 , 0.89281844, 0.89281844, 0.94608745, 0.94608745,\n",
       "         0.27928891, 0.27928891, 0.75783677, 0.75783677, 0.41338377,\n",
       "         0.41338377, 0.21508296, 0.21508296, 0.01886726, 0.01886726])}}"
      ]
     },
     "execution_count": 1,
     "metadata": {},
     "output_type": "execute_result"
    }
   ],
   "source": [
    "ds = load_by_id(run_id_n)\n",
    "ds.get_parameter_data('x1')"
   ]
  },
  {
   "cell_type": "markdown",
   "metadata": {},
   "source": [
    "And a dataset stored as binary arrays"
   ]
  },
  {
   "cell_type": "code",
   "execution_count": 12,
   "metadata": {
    "execution": {
     "iopub.execute_input": "2020-09-25T16:21:28.770003Z",
     "iopub.status.busy": "2020-09-25T16:21:28.769479Z",
     "iopub.status.idle": "2020-09-25T16:21:28.825126Z",
     "shell.execute_reply": "2020-09-25T16:21:28.824576Z"
    },
    "scrolled": true
   },
   "outputs": [
    {
     "data": {
      "text/plain": [
       "{'x1': {'x1': array([[0.31553637],\n",
       "         [0.31553637],\n",
       "         [0.14094031],\n",
       "         [0.14094031],\n",
       "         [0.99559487],\n",
       "         [0.99559487],\n",
       "         [0.9341521 ],\n",
       "         [0.9341521 ],\n",
       "         [0.34206211],\n",
       "         [0.34206211],\n",
       "         [0.20704009],\n",
       "         [0.20704009],\n",
       "         [0.32057225],\n",
       "         [0.32057225],\n",
       "         [0.50142709],\n",
       "         [0.50142709],\n",
       "         [0.9240428 ],\n",
       "         [0.9240428 ],\n",
       "         [0.951426  ],\n",
       "         [0.951426  ],\n",
       "         [0.22294475],\n",
       "         [0.22294475],\n",
       "         [0.19520043],\n",
       "         [0.19520043],\n",
       "         [0.51632084],\n",
       "         [0.51632084],\n",
       "         [0.8592751 ],\n",
       "         [0.8592751 ],\n",
       "         [0.97159334],\n",
       "         [0.97159334],\n",
       "         [0.21071674],\n",
       "         [0.21071674],\n",
       "         [0.42640218],\n",
       "         [0.42640218],\n",
       "         [0.77960273],\n",
       "         [0.77960273],\n",
       "         [0.99387338],\n",
       "         [0.99387338],\n",
       "         [0.05556765],\n",
       "         [0.05556765],\n",
       "         [0.98417135],\n",
       "         [0.98417135],\n",
       "         [0.17239542],\n",
       "         [0.17239542],\n",
       "         [0.11165074],\n",
       "         [0.11165074],\n",
       "         [0.17021842],\n",
       "         [0.17021842],\n",
       "         [0.68246824],\n",
       "         [0.68246824],\n",
       "         [0.3719599 ],\n",
       "         [0.3719599 ],\n",
       "         [0.85389392],\n",
       "         [0.85389392],\n",
       "         [0.84786117],\n",
       "         [0.84786117],\n",
       "         [0.98264028],\n",
       "         [0.98264028],\n",
       "         [0.42161088],\n",
       "         [0.42161088],\n",
       "         [0.5732596 ],\n",
       "         [0.5732596 ],\n",
       "         [0.42073045],\n",
       "         [0.42073045],\n",
       "         [0.28529418],\n",
       "         [0.28529418],\n",
       "         [0.55417311],\n",
       "         [0.55417311],\n",
       "         [0.29010883],\n",
       "         [0.29010883],\n",
       "         [0.44003806],\n",
       "         [0.44003806],\n",
       "         [0.25665782],\n",
       "         [0.25665782],\n",
       "         [0.32754354],\n",
       "         [0.32754354],\n",
       "         [0.60064644],\n",
       "         [0.60064644],\n",
       "         [0.60107677],\n",
       "         [0.60107677],\n",
       "         [0.31195976],\n",
       "         [0.31195976],\n",
       "         [0.25493289],\n",
       "         [0.25493289],\n",
       "         [0.98869575],\n",
       "         [0.98869575],\n",
       "         [0.97727003],\n",
       "         [0.97727003],\n",
       "         [0.64921434],\n",
       "         [0.64921434],\n",
       "         [0.39601503],\n",
       "         [0.39601503],\n",
       "         [0.58393351],\n",
       "         [0.58393351],\n",
       "         [0.09625293],\n",
       "         [0.09625293],\n",
       "         [0.84639989],\n",
       "         [0.84639989],\n",
       "         [0.51146583],\n",
       "         [0.51146583],\n",
       "         [0.22362918],\n",
       "         [0.22362918],\n",
       "         [0.22886236],\n",
       "         [0.22886236],\n",
       "         [0.44182292],\n",
       "         [0.44182292],\n",
       "         [0.34300876],\n",
       "         [0.34300876],\n",
       "         [0.19044531],\n",
       "         [0.19044531],\n",
       "         [0.90025354],\n",
       "         [0.90025354],\n",
       "         [0.18034425],\n",
       "         [0.18034425],\n",
       "         [0.99914569],\n",
       "         [0.99914569],\n",
       "         [0.00989934],\n",
       "         [0.00989934],\n",
       "         [0.99339987],\n",
       "         [0.99339987],\n",
       "         [0.52133413],\n",
       "         [0.52133413],\n",
       "         [0.68686095],\n",
       "         [0.68686095],\n",
       "         [0.1266251 ],\n",
       "         [0.1266251 ],\n",
       "         [0.91411602],\n",
       "         [0.91411602],\n",
       "         [0.24246158],\n",
       "         [0.24246158],\n",
       "         [0.77682222],\n",
       "         [0.77682222],\n",
       "         [0.91232888],\n",
       "         [0.91232888],\n",
       "         [0.12401636],\n",
       "         [0.12401636],\n",
       "         [0.00548681],\n",
       "         [0.00548681],\n",
       "         [0.06553863],\n",
       "         [0.06553863],\n",
       "         [0.29414593],\n",
       "         [0.29414593],\n",
       "         [0.01969542],\n",
       "         [0.01969542],\n",
       "         [0.85719567],\n",
       "         [0.85719567],\n",
       "         [0.79734504],\n",
       "         [0.79734504],\n",
       "         [0.8370564 ],\n",
       "         [0.8370564 ],\n",
       "         [0.02485483],\n",
       "         [0.02485483],\n",
       "         [0.25948508],\n",
       "         [0.25948508],\n",
       "         [0.63707089],\n",
       "         [0.63707089],\n",
       "         [0.76277506],\n",
       "         [0.76277506],\n",
       "         [0.9323492 ],\n",
       "         [0.9323492 ],\n",
       "         [0.08624355],\n",
       "         [0.08624355],\n",
       "         [0.37933531],\n",
       "         [0.37933531],\n",
       "         [0.41281806],\n",
       "         [0.41281806],\n",
       "         [0.36077222],\n",
       "         [0.36077222],\n",
       "         [0.38704338],\n",
       "         [0.38704338],\n",
       "         [0.96129882],\n",
       "         [0.96129882],\n",
       "         [0.20153975],\n",
       "         [0.20153975],\n",
       "         [0.65986722],\n",
       "         [0.65986722],\n",
       "         [0.34357767],\n",
       "         [0.34357767],\n",
       "         [0.86183405],\n",
       "         [0.86183405],\n",
       "         [0.39684542],\n",
       "         [0.39684542],\n",
       "         [0.268971  ],\n",
       "         [0.268971  ],\n",
       "         [0.3968306 ],\n",
       "         [0.3968306 ],\n",
       "         [0.89247051],\n",
       "         [0.89247051],\n",
       "         [0.87419197],\n",
       "         [0.87419197],\n",
       "         [0.97523301],\n",
       "         [0.97523301],\n",
       "         [0.93353053],\n",
       "         [0.93353053],\n",
       "         [0.09519701],\n",
       "         [0.09519701],\n",
       "         [0.02459126],\n",
       "         [0.02459126],\n",
       "         [0.01755654],\n",
       "         [0.01755654]])}}"
      ]
     },
     "execution_count": 1,
     "metadata": {},
     "output_type": "execute_result"
    }
   ],
   "source": [
    "ds = load_by_id(run_id_a)\n",
    "ds.get_parameter_data('x1')"
   ]
  },
  {
   "cell_type": "code",
   "execution_count": null,
   "metadata": {},
   "outputs": [],
   "source": []
  }
 ],
 "metadata": {
  "kernelspec": {
   "display_name": "Python 3",
   "language": "python",
   "name": "python3"
  },
  "language_info": {
   "codemirror_mode": {
    "name": "ipython",
    "version": 3
   },
   "file_extension": ".py",
   "mimetype": "text/x-python",
   "name": "python",
   "nbconvert_exporter": "python",
   "pygments_lexer": "ipython3",
   "version": "3.7.7"
  },
  "nbsphinx": {
   "timeout": 600
  },
  "toc": {
   "base_numbering": 1,
   "nav_menu": {},
   "number_sections": true,
   "sideBar": true,
   "skip_h1_title": false,
   "title_cell": "Table of Contents",
   "title_sidebar": "Contents",
   "toc_cell": false,
   "toc_position": {},
   "toc_section_display": true,
   "toc_window_display": false
  },
  "varInspector": {
   "cols": {
    "lenName": 16,
    "lenType": 16,
    "lenVar": 40
   },
   "kernels_config": {
    "python": {
     "delete_cmd_postfix": "",
     "delete_cmd_prefix": "del ",
     "library": "var_list.py",
     "varRefreshCmd": "print(var_dic_list())"
    },
    "r": {
     "delete_cmd_postfix": ") ",
     "delete_cmd_prefix": "rm(",
     "library": "var_list.r",
     "varRefreshCmd": "cat(var_dic_list()) "
    }
   },
   "types_to_exclude": [
    "module",
    "function",
    "builtin_function_or_method",
    "instance",
    "_Feature"
   ],
   "window_display": false
  }
 },
 "nbformat": 4,
 "nbformat_minor": 2
}
