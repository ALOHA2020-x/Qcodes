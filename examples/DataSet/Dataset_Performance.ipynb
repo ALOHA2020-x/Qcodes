{
 "cells": [
  {
   "cell_type": "markdown",
   "metadata": {},
   "source": [
    "# DataSet Performance\n",
    "\n",
    "This notebook shows the trade-off between inserting data into a database row-by-row and as binary blobs. Inserting the data row-by-row means that we have direct access to all the data and may perform queries directly on the values of the data. On the other hand, as we shall see, this is much slower than inserting the data directly as binary blobs."
   ]
  },
  {
   "cell_type": "markdown",
   "metadata": {},
   "source": [
    "First, we choose a new location for the database to ensure that we don't add a bunch of benchmarking data to the default one."
   ]
  },
  {
   "cell_type": "code",
   "execution_count": 1,
   "metadata": {},
   "outputs": [
    {
     "name": "stdout",
     "output_type": "stream",
     "text": [
      "Logging hadn't been started.\n",
      "Activating auto-logging. Current session state plus future input saved.\n",
      "Filename       : /home/vsts/.qcodes/logs/command_history.log\n",
      "Mode           : append\n",
      "Output logging : True\n",
      "Raw input log  : False\n",
      "Timestamping   : True\n",
      "State          : active\n"
     ]
    },
    {
     "name": "stdout",
     "output_type": "stream",
     "text": [
      "Qcodes Logfile : /home/vsts/.qcodes/logs/200319-19456-qcodes.log\n"
     ]
    }
   ],
   "source": [
    "import os\n",
    "cwd = os.getcwd()\n",
    "import qcodes as qc\n",
    "qc.config[\"core\"][\"db_location\"] = os.path.join(cwd, 'testing.db')\n"
   ]
  },
  {
   "cell_type": "code",
   "execution_count": 2,
   "metadata": {},
   "outputs": [],
   "source": [
    "%matplotlib inline\n",
    "import time\n",
    "import matplotlib.pyplot as plt\n",
    "import numpy as np\n",
    "\n",
    "import qcodes as qc\n",
    "from qcodes.instrument.parameter import ManualParameter\n",
    "from qcodes.dataset.experiment_container import (Experiment,\n",
    "                                                 load_last_experiment,\n",
    "                                                 new_experiment)\n",
    "from qcodes.dataset.sqlite.database import initialise_database\n",
    "from qcodes import load_or_create_experiment\n",
    "from qcodes.dataset.measurements import Measurement"
   ]
  },
  {
   "cell_type": "code",
   "execution_count": 3,
   "metadata": {},
   "outputs": [
    {
     "name": "stdout",
     "output_type": "stream",
     "text": [
      "\r",
      "0it [00:00, ?it/s]"
     ]
    },
    {
     "name": "stdout",
     "output_type": "stream",
     "text": [
      "\r",
      "Upgrading database; v0 -> v1: : 0it [00:00, ?it/s]"
     ]
    },
    {
     "name": "stdout",
     "output_type": "stream",
     "text": [
      "\r",
      "Upgrading database; v0 -> v1: : 0it [00:00, ?it/s]"
     ]
    },
    {
     "name": "stdout",
     "output_type": "stream",
     "text": [
      "\n",
      "\r",
      "  0%|          | 0/1 [00:00<?, ?it/s]"
     ]
    },
    {
     "name": "stdout",
     "output_type": "stream",
     "text": [
      "\r",
      "Upgrading database; v1 -> v2:   0%|          | 0/1 [00:00<?, ?it/s]"
     ]
    },
    {
     "name": "stdout",
     "output_type": "stream",
     "text": [
      "\r",
      "Upgrading database; v1 -> v2: 100%|██████████| 1/1 [00:00<00:00, 990.86it/s]"
     ]
    },
    {
     "name": "stdout",
     "output_type": "stream",
     "text": [
      "\n",
      "\r",
      "0it [00:00, ?it/s]"
     ]
    },
    {
     "name": "stdout",
     "output_type": "stream",
     "text": [
      "\r",
      "Upgrading database; v2 -> v3: : 0it [00:00, ?it/s]"
     ]
    },
    {
     "name": "stdout",
     "output_type": "stream",
     "text": [
      "\r",
      "Upgrading database; v2 -> v3: : 0it [00:00, ?it/s]"
     ]
    },
    {
     "name": "stdout",
     "output_type": "stream",
     "text": [
      "\n",
      "\r",
      "0it [00:00, ?it/s]"
     ]
    },
    {
     "name": "stdout",
     "output_type": "stream",
     "text": [
      "\r",
      "Upgrading database; v3 -> v4: : 0it [00:00, ?it/s]"
     ]
    },
    {
     "name": "stdout",
     "output_type": "stream",
     "text": [
      "\r",
      "Upgrading database; v3 -> v4: : 0it [00:00, ?it/s]"
     ]
    },
    {
     "name": "stdout",
     "output_type": "stream",
     "text": [
      "\n",
      "\r",
      "  0%|          | 0/1 [00:00<?, ?it/s]"
     ]
    },
    {
     "name": "stdout",
     "output_type": "stream",
     "text": [
      "\r",
      "Upgrading database; v4 -> v5:   0%|          | 0/1 [00:00<?, ?it/s]"
     ]
    },
    {
     "name": "stdout",
     "output_type": "stream",
     "text": [
      "\r",
      "Upgrading database; v4 -> v5: 100%|██████████| 1/1 [00:00<00:00, 915.19it/s]"
     ]
    },
    {
     "name": "stdout",
     "output_type": "stream",
     "text": [
      "\n",
      "\r",
      "0it [00:00, ?it/s]"
     ]
    },
    {
     "name": "stdout",
     "output_type": "stream",
     "text": [
      "\r",
      "Upgrading database; v5 -> v6: : 0it [00:00, ?it/s]"
     ]
    },
    {
     "name": "stdout",
     "output_type": "stream",
     "text": [
      "\r",
      "Upgrading database; v5 -> v6: : 0it [00:00, ?it/s]"
     ]
    },
    {
     "name": "stdout",
     "output_type": "stream",
     "text": [
      "\n",
      "\r",
      "  0%|          | 0/1 [00:00<?, ?it/s]"
     ]
    },
    {
     "name": "stdout",
     "output_type": "stream",
     "text": [
      "\r",
      "Upgrading database; v6 -> v7:   0%|          | 0/1 [00:00<?, ?it/s]"
     ]
    },
    {
     "name": "stdout",
     "output_type": "stream",
     "text": [
      "\r",
      "Upgrading database; v6 -> v7: 100%|██████████| 1/1 [00:00<00:00, 496.25it/s]"
     ]
    },
    {
     "name": "stdout",
     "output_type": "stream",
     "text": [
      "\n",
      "\r",
      "  0%|          | 0/1 [00:00<?, ?it/s]"
     ]
    },
    {
     "name": "stdout",
     "output_type": "stream",
     "text": [
      "\r",
      "Upgrading database; v7 -> v8:   0%|          | 0/1 [00:00<?, ?it/s]"
     ]
    },
    {
     "name": "stdout",
     "output_type": "stream",
     "text": [
      "\r",
      "Upgrading database; v7 -> v8: 100%|██████████| 1/1 [00:00<00:00, 797.70it/s]"
     ]
    },
    {
     "name": "stdout",
     "output_type": "stream",
     "text": [
      "\n",
      "\r",
      "  0%|          | 0/1 [00:00<?, ?it/s]"
     ]
    },
    {
     "name": "stdout",
     "output_type": "stream",
     "text": [
      "\r",
      "Upgrading database; v8 -> v9:   0%|          | 0/1 [00:00<?, ?it/s]"
     ]
    },
    {
     "name": "stdout",
     "output_type": "stream",
     "text": [
      "\r",
      "Upgrading database; v8 -> v9: 100%|██████████| 1/1 [00:00<00:00, 1052.79it/s]"
     ]
    },
    {
     "name": "stdout",
     "output_type": "stream",
     "text": [
      "\n"
     ]
    }
   ],
   "source": [
    "initialise_database()\n",
    "exp = load_or_create_experiment(experiment_name='tutorial_exp', sample_name=\"no sample\")"
   ]
  },
  {
   "cell_type": "markdown",
   "metadata": {},
   "source": [
    "Here, we define a simple function to benchmark the time it takes to insert n points with either numeric or array data type.\n",
    "We will compare both the time used to call ``add_result`` and the time used for the full measurement."
   ]
  },
  {
   "cell_type": "code",
   "execution_count": 4,
   "metadata": {},
   "outputs": [],
   "source": [
    "def insert_data(paramtype, npoints, nreps=1):\n",
    "\n",
    "    meas = Measurement(exp=exp)\n",
    "\n",
    "    x1 = ManualParameter('x1')\n",
    "    x2 = ManualParameter('x2')\n",
    "    x3 = ManualParameter('x3')\n",
    "    y1 = ManualParameter('y1')\n",
    "    y2 = ManualParameter('y2')\n",
    "\n",
    "    meas.register_parameter(x1, paramtype=paramtype)\n",
    "    meas.register_parameter(x2, paramtype=paramtype)\n",
    "    meas.register_parameter(x3, paramtype=paramtype)\n",
    "    meas.register_parameter(y1, setpoints=[x1, x2, x3],\n",
    "                            paramtype=paramtype)\n",
    "    meas.register_parameter(y2, setpoints=[x1, x2, x3],\n",
    "                            paramtype=paramtype)\n",
    "    start = time.perf_counter()\n",
    "    with meas.run() as datasaver:\n",
    "        start_adding = time.perf_counter()\n",
    "        for i in range(nreps):\n",
    "            datasaver.add_result((x1, np.random.rand(npoints)),\n",
    "                                 (x2, np.random.rand(npoints)),\n",
    "                                 (x3, np.random.rand(npoints)),\n",
    "                                 (y1, np.random.rand(npoints)),\n",
    "                                 (y2, np.random.rand(npoints)))\n",
    "        stop_adding = time.perf_counter()\n",
    "        run_id = datasaver.run_id\n",
    "    stop = time.perf_counter()\n",
    "    tot_time = stop - start\n",
    "    add_time = stop_adding - start_adding\n",
    "    return tot_time, add_time, run_id"
   ]
  },
  {
   "cell_type": "markdown",
   "metadata": {},
   "source": [
    "## Comparison between numeric/array data and binary blob"
   ]
  },
  {
   "cell_type": "markdown",
   "metadata": {},
   "source": [
    "### Case1: Short experiment time"
   ]
  },
  {
   "cell_type": "code",
   "execution_count": 5,
   "metadata": {},
   "outputs": [
    {
     "name": "stdout",
     "output_type": "stream",
     "text": [
      "Starting experimental run with id: 1. \n",
      "Starting experimental run with id: 2. \n",
      "Starting experimental run with id: 3. \n",
      "Starting experimental run with id: 4. \n"
     ]
    },
    {
     "name": "stdout",
     "output_type": "stream",
     "text": [
      "Starting experimental run with id: 5. \n"
     ]
    },
    {
     "name": "stdout",
     "output_type": "stream",
     "text": [
      "Starting experimental run with id: 6. \n",
      "Starting experimental run with id: 7. \n"
     ]
    },
    {
     "name": "stdout",
     "output_type": "stream",
     "text": [
      "Starting experimental run with id: 8. \n",
      "Starting experimental run with id: 9. \n"
     ]
    },
    {
     "name": "stdout",
     "output_type": "stream",
     "text": [
      "Starting experimental run with id: 10. \n",
      "Starting experimental run with id: 11. \n"
     ]
    },
    {
     "name": "stdout",
     "output_type": "stream",
     "text": [
      "Starting experimental run with id: 12. \n"
     ]
    },
    {
     "name": "stdout",
     "output_type": "stream",
     "text": [
      "Starting experimental run with id: 13. \n"
     ]
    },
    {
     "name": "stdout",
     "output_type": "stream",
     "text": [
      "Starting experimental run with id: 14. \n"
     ]
    }
   ],
   "source": [
    "sizes = [1,500,1000,2000,3000,4000,5000]\n",
    "t_numeric = []\n",
    "t_numeric_add = []\n",
    "t_array = []\n",
    "t_array_add = []\n",
    "for size in sizes:\n",
    "    tn, tna, run_id_n =  insert_data('numeric', size)\n",
    "    t_numeric.append(tn)\n",
    "    t_numeric_add.append(tna)\n",
    "\n",
    "    ta, taa, run_id_a =  insert_data('array', size)\n",
    "    t_array.append(ta)\n",
    "    t_array_add.append(taa)"
   ]
  },
  {
   "cell_type": "code",
   "execution_count": 6,
   "metadata": {},
   "outputs": [
    {
     "data": {
      "image/png": "[encoded data removed]",
      "text/plain": [
       "<Figure size 432x288 with 1 Axes>"
      ]
     },
     "metadata": {
      "needs_background": "light"
     },
     "output_type": "display_data"
    }
   ],
   "source": [
    "fig, ax = plt.subplots(1,1)\n",
    "ax.plot(sizes, t_numeric, 'o-', label='Inserting row-by-row')\n",
    "ax.plot(sizes, t_numeric_add, 'o-', label='Inserting row-by-row: add_result only')\n",
    "ax.plot(sizes, t_array, 'd-', label='Inserting as binary blob')\n",
    "ax.plot(sizes, t_array_add, 'd-', label='Inserting as binary blob: add_result only')\n",
    "ax.legend()\n",
    "ax.set_xlabel('Array length')\n",
    "ax.set_ylabel('Time (s)')\n",
    "fig.tight_layout()"
   ]
  },
  {
   "cell_type": "markdown",
   "metadata": {},
   "source": [
    "As shown in the latter figure, the time to setup and and close the experiment is approximately 0.4 sec. In case of small array sizes, the difference between inserting values of data as arrays and inserting them row-by-row is relatively unimportant. At larger array sizes, i.e. above 10000 points, the cost of writing data as individual datapoints starts to become important.\n"
   ]
  },
  {
   "cell_type": "markdown",
   "metadata": {},
   "source": [
    "### Case2: Long experiment time "
   ]
  },
  {
   "cell_type": "code",
   "execution_count": 7,
   "metadata": {},
   "outputs": [
    {
     "name": "stdout",
     "output_type": "stream",
     "text": [
      "Starting experimental run with id: 15. \n",
      "Starting experimental run with id: 16. \n",
      "Starting experimental run with id: 17. \n"
     ]
    },
    {
     "name": "stdout",
     "output_type": "stream",
     "text": [
      "Starting experimental run with id: 18. \n",
      "Starting experimental run with id: 19. \n"
     ]
    },
    {
     "name": "stdout",
     "output_type": "stream",
     "text": [
      "Starting experimental run with id: 20. \n"
     ]
    },
    {
     "name": "stdout",
     "output_type": "stream",
     "text": [
      "Starting experimental run with id: 21. \n"
     ]
    },
    {
     "name": "stdout",
     "output_type": "stream",
     "text": [
      "Starting experimental run with id: 22. \n"
     ]
    },
    {
     "name": "stdout",
     "output_type": "stream",
     "text": [
      "Starting experimental run with id: 23. \n"
     ]
    },
    {
     "name": "stdout",
     "output_type": "stream",
     "text": [
      "Starting experimental run with id: 24. \n"
     ]
    },
    {
     "name": "stdout",
     "output_type": "stream",
     "text": [
      "Starting experimental run with id: 25. \n"
     ]
    },
    {
     "name": "stdout",
     "output_type": "stream",
     "text": [
      "Starting experimental run with id: 26. \n"
     ]
    },
    {
     "name": "stdout",
     "output_type": "stream",
     "text": [
      "Starting experimental run with id: 27. \n"
     ]
    },
    {
     "name": "stdout",
     "output_type": "stream",
     "text": [
      "Starting experimental run with id: 28. \n"
     ]
    }
   ],
   "source": [
    "sizes = [1,500,1000,2000,3000,4000,5000]\n",
    "nreps = 100\n",
    "t_numeric = []\n",
    "t_numeric_add = []\n",
    "t_numeric_run_ids = []\n",
    "t_array = []\n",
    "t_array_add = []\n",
    "t_array_run_ids = []\n",
    "for size in sizes:\n",
    "    tn, tna, run_id_n =  insert_data('numeric', size, nreps=nreps)\n",
    "    t_numeric.append(tn)\n",
    "    t_numeric_add.append(tna)\n",
    "    t_numeric_run_ids.append(run_id_n)\n",
    "\n",
    "    ta, taa, run_id_a =  insert_data('array', size, nreps=nreps)\n",
    "    t_array.append(ta)\n",
    "    t_array_add.append(taa)\n",
    "    t_array_run_ids.append(run_id_a)"
   ]
  },
  {
   "cell_type": "code",
   "execution_count": 8,
   "metadata": {
    "scrolled": true
   },
   "outputs": [
    {
     "data": {
      "image/png": "[encoded data removed]",
      "text/plain": [
       "<Figure size 432x288 with 1 Axes>"
      ]
     },
     "metadata": {
      "needs_background": "light"
     },
     "output_type": "display_data"
    }
   ],
   "source": [
    "fig, ax = plt.subplots(1,1)\n",
    "ax.plot(sizes, t_numeric, 'o-', label='Inserting row-by-row')\n",
    "ax.plot(sizes, t_numeric_add, 'o-', label='Inserting row-by-row: add_result only')\n",
    "ax.plot(sizes, t_array, 'd-', label='Inserting as binary blob')\n",
    "ax.plot(sizes, t_array_add, 'd-', label='Inserting as binary blob: add_result only')\n",
    "ax.legend()\n",
    "ax.set_xlabel('Array length')\n",
    "ax.set_ylabel('Time (s)')\n",
    "fig.tight_layout()"
   ]
  },
  {
   "cell_type": "markdown",
   "metadata": {},
   "source": [
    "However, as we increase the length of the experiment, as seen here by repeating the insertion 100 times, we see a big difference between inserting values of the data row-by-row and inserting it as a binary blob."
   ]
  },
  {
   "cell_type": "markdown",
   "metadata": {},
   "source": [
    "## Loading the data "
   ]
  },
  {
   "cell_type": "code",
   "execution_count": 9,
   "metadata": {},
   "outputs": [],
   "source": [
    "from qcodes.dataset.data_set import load_by_id\n",
    "from qcodes.dataset.data_export import get_data_by_id"
   ]
  },
  {
   "cell_type": "markdown",
   "metadata": {},
   "source": [
    "As usual you can load the data by using the ``load_by_id`` function but you will notice that the different storage methods\n",
    "are reflected in shape of the data as it is retrieved. "
   ]
  },
  {
   "cell_type": "code",
   "execution_count": 10,
   "metadata": {},
   "outputs": [],
   "source": [
    "run_id_n = t_numeric_run_ids[0]\n",
    "run_id_a = t_array_run_ids[0]"
   ]
  },
  {
   "cell_type": "code",
   "execution_count": 11,
   "metadata": {
    "scrolled": true
   },
   "outputs": [
    {
     "data": {
      "text/plain": [
       "{'x1': {'x1': array([0.10610515, 0.10610515, 0.41681932, 0.41681932, 0.9333488 ,\n",
       "         0.9333488 , 0.81093785, 0.81093785, 0.72434219, 0.72434219,\n",
       "         0.55651169, 0.55651169, 0.79672331, 0.79672331, 0.13385603,\n",
       "         0.13385603, 0.00637101, 0.00637101, 0.88789498, 0.88789498,\n",
       "         0.83251148, 0.83251148, 0.30911674, 0.30911674, 0.40583055,\n",
       "         0.40583055, 0.58824248, 0.58824248, 0.91912751, 0.91912751,\n",
       "         0.96128176, 0.96128176, 0.38602746, 0.38602746, 0.72984093,\n",
       "         0.72984093, 0.81048162, 0.81048162, 0.71491017, 0.71491017,\n",
       "         0.99479864, 0.99479864, 0.58947445, 0.58947445, 0.64446441,\n",
       "         0.64446441, 0.5851826 , 0.5851826 , 0.7069955 , 0.7069955 ,\n",
       "         0.20301032, 0.20301032, 0.20368703, 0.20368703, 0.81275048,\n",
       "         0.81275048, 0.45025862, 0.45025862, 0.04954944, 0.04954944,\n",
       "         0.28553008, 0.28553008, 0.27801748, 0.27801748, 0.20456203,\n",
       "         0.20456203, 0.23310243, 0.23310243, 0.61325971, 0.61325971,\n",
       "         0.07447802, 0.07447802, 0.9896155 , 0.9896155 , 0.49429925,\n",
       "         0.49429925, 0.40228966, 0.40228966, 0.97487568, 0.97487568,\n",
       "         0.08227428, 0.08227428, 0.7052851 , 0.7052851 , 0.00607597,\n",
       "         0.00607597, 0.77782116, 0.77782116, 0.76750737, 0.76750737,\n",
       "         0.97745576, 0.97745576, 0.21387176, 0.21387176, 0.96907038,\n",
       "         0.96907038, 0.25676793, 0.25676793, 0.46389159, 0.46389159,\n",
       "         0.22977144, 0.22977144, 0.27502976, 0.27502976, 0.80334335,\n",
       "         0.80334335, 0.38472591, 0.38472591, 0.03261903, 0.03261903,\n",
       "         0.47678323, 0.47678323, 0.16444496, 0.16444496, 0.70831294,\n",
       "         0.70831294, 0.95230519, 0.95230519, 0.5863297 , 0.5863297 ,\n",
       "         0.90943198, 0.90943198, 0.17845058, 0.17845058, 0.27728515,\n",
       "         0.27728515, 0.63131596, 0.63131596, 0.43994342, 0.43994342,\n",
       "         0.9888655 , 0.9888655 , 0.16491307, 0.16491307, 0.88164694,\n",
       "         0.88164694, 0.37270839, 0.37270839, 0.63056829, 0.63056829,\n",
       "         0.24402341, 0.24402341, 0.72764333, 0.72764333, 0.34478098,\n",
       "         0.34478098, 0.32912642, 0.32912642, 0.64227819, 0.64227819,\n",
       "         0.83241725, 0.83241725, 0.76448746, 0.76448746, 0.60145823,\n",
       "         0.60145823, 0.71396607, 0.71396607, 0.88556013, 0.88556013,\n",
       "         0.26910837, 0.26910837, 0.72175567, 0.72175567, 0.63080863,\n",
       "         0.63080863, 0.98442079, 0.98442079, 0.72514623, 0.72514623,\n",
       "         0.0124147 , 0.0124147 , 0.58863317, 0.58863317, 0.74852126,\n",
       "         0.74852126, 0.04739832, 0.04739832, 0.68962758, 0.68962758,\n",
       "         0.11064964, 0.11064964, 0.91730903, 0.91730903, 0.29081199,\n",
       "         0.29081199, 0.59224531, 0.59224531, 0.87825623, 0.87825623,\n",
       "         0.70826623, 0.70826623, 0.75809252, 0.75809252, 0.05148205,\n",
       "         0.05148205, 0.71254953, 0.71254953, 0.05700106, 0.05700106])}}"
      ]
     },
     "execution_count": 11,
     "metadata": {},
     "output_type": "execute_result"
    }
   ],
   "source": [
    "ds = load_by_id(run_id_n)\n",
    "ds.get_parameter_data('x1')"
   ]
  },
  {
   "cell_type": "markdown",
   "metadata": {},
   "source": [
    "And a dataset stored as binary arrays"
   ]
  },
  {
   "cell_type": "code",
   "execution_count": 12,
   "metadata": {
    "scrolled": true
   },
   "outputs": [
    {
     "data": {
      "text/plain": [
       "{'x1': {'x1': array([[0.37220288],\n",
       "         [0.37220288],\n",
       "         [0.48024265],\n",
       "         [0.48024265],\n",
       "         [0.9382119 ],\n",
       "         [0.9382119 ],\n",
       "         [0.36374246],\n",
       "         [0.36374246],\n",
       "         [0.86110474],\n",
       "         [0.86110474],\n",
       "         [0.5243023 ],\n",
       "         [0.5243023 ],\n",
       "         [0.5069804 ],\n",
       "         [0.5069804 ],\n",
       "         [0.67226687],\n",
       "         [0.67226687],\n",
       "         [0.30370224],\n",
       "         [0.30370224],\n",
       "         [0.01093983],\n",
       "         [0.01093983],\n",
       "         [0.99463195],\n",
       "         [0.99463195],\n",
       "         [0.81316249],\n",
       "         [0.81316249],\n",
       "         [0.88765777],\n",
       "         [0.88765777],\n",
       "         [0.07556294],\n",
       "         [0.07556294],\n",
       "         [0.85287233],\n",
       "         [0.85287233],\n",
       "         [0.59621137],\n",
       "         [0.59621137],\n",
       "         [0.09612003],\n",
       "         [0.09612003],\n",
       "         [0.58052433],\n",
       "         [0.58052433],\n",
       "         [0.31481785],\n",
       "         [0.31481785],\n",
       "         [0.03868254],\n",
       "         [0.03868254],\n",
       "         [0.31465519],\n",
       "         [0.31465519],\n",
       "         [0.69909855],\n",
       "         [0.69909855],\n",
       "         [0.72979162],\n",
       "         [0.72979162],\n",
       "         [0.81206212],\n",
       "         [0.81206212],\n",
       "         [0.97402019],\n",
       "         [0.97402019],\n",
       "         [0.22372162],\n",
       "         [0.22372162],\n",
       "         [0.72658656],\n",
       "         [0.72658656],\n",
       "         [0.8348113 ],\n",
       "         [0.8348113 ],\n",
       "         [0.01616214],\n",
       "         [0.01616214],\n",
       "         [0.39065515],\n",
       "         [0.39065515],\n",
       "         [0.66516902],\n",
       "         [0.66516902],\n",
       "         [0.58207324],\n",
       "         [0.58207324],\n",
       "         [0.11820457],\n",
       "         [0.11820457],\n",
       "         [0.13265382],\n",
       "         [0.13265382],\n",
       "         [0.55398874],\n",
       "         [0.55398874],\n",
       "         [0.95978751],\n",
       "         [0.95978751],\n",
       "         [0.87553252],\n",
       "         [0.87553252],\n",
       "         [0.74217443],\n",
       "         [0.74217443],\n",
       "         [0.24062274],\n",
       "         [0.24062274],\n",
       "         [0.82893866],\n",
       "         [0.82893866],\n",
       "         [0.47390622],\n",
       "         [0.47390622],\n",
       "         [0.40002314],\n",
       "         [0.40002314],\n",
       "         [0.57478224],\n",
       "         [0.57478224],\n",
       "         [0.47325617],\n",
       "         [0.47325617],\n",
       "         [0.84792671],\n",
       "         [0.84792671],\n",
       "         [0.65576063],\n",
       "         [0.65576063],\n",
       "         [0.07943794],\n",
       "         [0.07943794],\n",
       "         [0.22247071],\n",
       "         [0.22247071],\n",
       "         [0.55458909],\n",
       "         [0.55458909],\n",
       "         [0.59477415],\n",
       "         [0.59477415],\n",
       "         [0.8274457 ],\n",
       "         [0.8274457 ],\n",
       "         [0.85772726],\n",
       "         [0.85772726],\n",
       "         [0.65881391],\n",
       "         [0.65881391],\n",
       "         [0.22675527],\n",
       "         [0.22675527],\n",
       "         [0.81945665],\n",
       "         [0.81945665],\n",
       "         [0.75992927],\n",
       "         [0.75992927],\n",
       "         [0.0325401 ],\n",
       "         [0.0325401 ],\n",
       "         [0.16084297],\n",
       "         [0.16084297],\n",
       "         [0.84823087],\n",
       "         [0.84823087],\n",
       "         [0.35385537],\n",
       "         [0.35385537],\n",
       "         [0.84984721],\n",
       "         [0.84984721],\n",
       "         [0.54753313],\n",
       "         [0.54753313],\n",
       "         [0.32372161],\n",
       "         [0.32372161],\n",
       "         [0.88976025],\n",
       "         [0.88976025],\n",
       "         [0.68390513],\n",
       "         [0.68390513],\n",
       "         [0.17657589],\n",
       "         [0.17657589],\n",
       "         [0.34002403],\n",
       "         [0.34002403],\n",
       "         [0.26861685],\n",
       "         [0.26861685],\n",
       "         [0.87190266],\n",
       "         [0.87190266],\n",
       "         [0.64101294],\n",
       "         [0.64101294],\n",
       "         [0.7177166 ],\n",
       "         [0.7177166 ],\n",
       "         [0.10130817],\n",
       "         [0.10130817],\n",
       "         [0.64269227],\n",
       "         [0.64269227],\n",
       "         [0.99455078],\n",
       "         [0.99455078],\n",
       "         [0.32633556],\n",
       "         [0.32633556],\n",
       "         [0.54032238],\n",
       "         [0.54032238],\n",
       "         [0.17258466],\n",
       "         [0.17258466],\n",
       "         [0.94548222],\n",
       "         [0.94548222],\n",
       "         [0.19560188],\n",
       "         [0.19560188],\n",
       "         [0.0965456 ],\n",
       "         [0.0965456 ],\n",
       "         [0.52505174],\n",
       "         [0.52505174],\n",
       "         [0.47804102],\n",
       "         [0.47804102],\n",
       "         [0.98305494],\n",
       "         [0.98305494],\n",
       "         [0.57734942],\n",
       "         [0.57734942],\n",
       "         [0.21196737],\n",
       "         [0.21196737],\n",
       "         [0.26975827],\n",
       "         [0.26975827],\n",
       "         [0.17491049],\n",
       "         [0.17491049],\n",
       "         [0.9980326 ],\n",
       "         [0.9980326 ],\n",
       "         [0.26319497],\n",
       "         [0.26319497],\n",
       "         [0.17650846],\n",
       "         [0.17650846],\n",
       "         [0.59940953],\n",
       "         [0.59940953],\n",
       "         [0.86822233],\n",
       "         [0.86822233],\n",
       "         [0.45165433],\n",
       "         [0.45165433],\n",
       "         [0.90949903],\n",
       "         [0.90949903],\n",
       "         [0.49764049],\n",
       "         [0.49764049],\n",
       "         [0.64903405],\n",
       "         [0.64903405],\n",
       "         [0.92616246],\n",
       "         [0.92616246],\n",
       "         [0.9220688 ],\n",
       "         [0.9220688 ],\n",
       "         [0.25140046],\n",
       "         [0.25140046],\n",
       "         [0.97620937],\n",
       "         [0.97620937]])}}"
      ]
     },
     "execution_count": 12,
     "metadata": {},
     "output_type": "execute_result"
    }
   ],
   "source": [
    "ds = load_by_id(run_id_a)\n",
    "ds.get_parameter_data('x1')"
   ]
  },
  {
   "cell_type": "code",
   "execution_count": null,
   "metadata": {},
   "outputs": [],
   "source": []
  }
 ],
 "metadata": {
  "kernelspec": {
   "display_name": "Python 3",
   "language": "python",
   "name": "python3"
  },
  "language_info": {
   "codemirror_mode": {
    "name": "ipython",
    "version": 3
   },
   "file_extension": ".py",
   "mimetype": "text/x-python",
   "name": "python",
   "nbconvert_exporter": "python",
   "pygments_lexer": "ipython3",
   "version": "3.7.5"
  },
  "nbsphinx": {
   "timeout": 600
  },
  "toc": {
   "base_numbering": 1,
   "nav_menu": {},
   "number_sections": true,
   "sideBar": true,
   "skip_h1_title": false,
   "title_cell": "Table of Contents",
   "title_sidebar": "Contents",
   "toc_cell": false,
   "toc_position": {},
   "toc_section_display": true,
   "toc_window_display": false
  },
  "varInspector": {
   "cols": {
    "lenName": 16,
    "lenType": 16,
    "lenVar": 40
   },
   "kernels_config": {
    "python": {
     "delete_cmd_postfix": "",
     "delete_cmd_prefix": "del ",
     "library": "var_list.py",
     "varRefreshCmd": "print(var_dic_list())"
    },
    "r": {
     "delete_cmd_postfix": ") ",
     "delete_cmd_prefix": "rm(",
     "library": "var_list.r",
     "varRefreshCmd": "cat(var_dic_list()) "
    }
   },
   "types_to_exclude": [
    "module",
    "function",
    "builtin_function_or_method",
    "instance",
    "_Feature"
   ],
   "window_display": false
  }
 },
 "nbformat": 4,
 "nbformat_minor": 2
}
