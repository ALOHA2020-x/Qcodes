{
 "cells": [
  {
   "cell_type": "markdown",
   "metadata": {},
   "source": [
    "# DataSet Performance\n",
    "\n",
    "This notebook shows the trade-off between inserting data into a database row-by-row and as binary blobs. Inserting the data row-by-row means that we have direct access to all the data and may perform queries directly on the values of the data. On the other hand, as we shall see, this is much slower than inserting the data directly as binary blobs."
   ]
  },
  {
   "cell_type": "markdown",
   "metadata": {},
   "source": [
    "First, we choose a new location for the database to ensure that we don't add a bunch of benchmarking data to the default one."
   ]
  },
  {
   "cell_type": "code",
   "execution_count": 1,
   "metadata": {
    "execution": {
     "iopub.execute_input": "2021-04-06T06:11:47.843448Z",
     "iopub.status.busy": "2021-04-06T06:11:47.842769Z",
     "iopub.status.idle": "2021-04-06T06:11:49.080457Z",
     "shell.execute_reply": "2021-04-06T06:11:49.081081Z"
    }
   },
   "outputs": [
    {
     "name": "stdout",
     "output_type": "stream",
     "text": [
      "Logging hadn't been started.\n",
      "Activating auto-logging. Current session state plus future input saved.\n",
      "Filename       : /home/runner/.qcodes/logs/command_history.log\n",
      "Mode           : append\n",
      "Output logging : True\n",
      "Raw input log  : False\n",
      "Timestamping   : True\n",
      "State          : active\n"
     ]
    },
    {
     "name": "stdout",
     "output_type": "stream",
     "text": [
      "Qcodes Logfile : /home/runner/.qcodes/logs/210406-4829-qcodes.log\n"
     ]
    }
   ],
   "source": [
    "import os\n",
    "cwd = os.getcwd()\n",
    "import qcodes as qc\n",
    "qc.config[\"core\"][\"db_location\"] = os.path.join(cwd, 'testing.db')\n"
   ]
  },
  {
   "cell_type": "code",
   "execution_count": 2,
   "metadata": {
    "execution": {
     "iopub.execute_input": "2021-04-06T06:11:49.090203Z",
     "iopub.status.busy": "2021-04-06T06:11:49.089556Z",
     "iopub.status.idle": "2021-04-06T06:11:49.409838Z",
     "shell.execute_reply": "2021-04-06T06:11:49.409256Z"
    }
   },
   "outputs": [],
   "source": [
    "%matplotlib inline\n",
    "import time\n",
    "import matplotlib.pyplot as plt\n",
    "import numpy as np\n",
    "\n",
    "import qcodes as qc\n",
    "from qcodes.instrument.parameter import ManualParameter\n",
    "from qcodes.dataset.experiment_container import (Experiment,\n",
    "                                                 load_last_experiment,\n",
    "                                                 new_experiment)\n",
    "from qcodes.dataset.sqlite.database import initialise_database\n",
    "from qcodes import load_or_create_experiment\n",
    "from qcodes.dataset.measurements import Measurement"
   ]
  },
  {
   "cell_type": "code",
   "execution_count": 3,
   "metadata": {
    "execution": {
     "iopub.execute_input": "2021-04-06T06:11:49.414690Z",
     "iopub.status.busy": "2021-04-06T06:11:49.414099Z",
     "iopub.status.idle": "2021-04-06T06:11:49.533828Z",
     "shell.execute_reply": "2021-04-06T06:11:49.532323Z"
    }
   },
   "outputs": [
    {
     "name": "stdout",
     "output_type": "stream",
     "text": [
      "\r",
      "0it [00:00, ?it/s]"
     ]
    },
    {
     "name": "stdout",
     "output_type": "stream",
     "text": [
      "\r",
      "Upgrading database; v0 -> v1: : 0it [00:00, ?it/s]"
     ]
    },
    {
     "name": "stdout",
     "output_type": "stream",
     "text": [
      "\r",
      "Upgrading database; v0 -> v1: : 0it [00:00, ?it/s]"
     ]
    },
    {
     "name": "stdout",
     "output_type": "stream",
     "text": [
      "\n",
      "\r",
      "  0%|          | 0/1 [00:00<?, ?it/s]"
     ]
    },
    {
     "name": "stdout",
     "output_type": "stream",
     "text": [
      "\r",
      "Upgrading database; v1 -> v2:   0%|          | 0/1 [00:00<?, ?it/s]"
     ]
    },
    {
     "name": "stdout",
     "output_type": "stream",
     "text": [
      "\r",
      "Upgrading database; v1 -> v2: 100%|██████████| 1/1 [00:00<00:00, 384.23it/s]"
     ]
    },
    {
     "name": "stdout",
     "output_type": "stream",
     "text": [
      "\n",
      "\r",
      "0it [00:00, ?it/s]"
     ]
    },
    {
     "name": "stdout",
     "output_type": "stream",
     "text": [
      "\r",
      "Upgrading database; v2 -> v3: : 0it [00:00, ?it/s]"
     ]
    },
    {
     "name": "stdout",
     "output_type": "stream",
     "text": [
      "\r",
      "Upgrading database; v2 -> v3: : 0it [00:00, ?it/s]"
     ]
    },
    {
     "name": "stdout",
     "output_type": "stream",
     "text": [
      "\n",
      "\r",
      "0it [00:00, ?it/s]"
     ]
    },
    {
     "name": "stdout",
     "output_type": "stream",
     "text": [
      "\r",
      "Upgrading database; v3 -> v4: : 0it [00:00, ?it/s]"
     ]
    },
    {
     "name": "stdout",
     "output_type": "stream",
     "text": [
      "\r",
      "Upgrading database; v3 -> v4: : 0it [00:00, ?it/s]"
     ]
    },
    {
     "name": "stdout",
     "output_type": "stream",
     "text": [
      "\n",
      "\r",
      "  0%|          | 0/1 [00:00<?, ?it/s]"
     ]
    },
    {
     "name": "stdout",
     "output_type": "stream",
     "text": [
      "\r",
      "Upgrading database; v4 -> v5:   0%|          | 0/1 [00:00<?, ?it/s]"
     ]
    },
    {
     "name": "stdout",
     "output_type": "stream",
     "text": [
      "\r",
      "Upgrading database; v4 -> v5: 100%|██████████| 1/1 [00:00<00:00, 468.48it/s]"
     ]
    },
    {
     "name": "stdout",
     "output_type": "stream",
     "text": [
      "\n",
      "\r",
      "0it [00:00, ?it/s]"
     ]
    },
    {
     "name": "stdout",
     "output_type": "stream",
     "text": [
      "\r",
      "Upgrading database; v5 -> v6: : 0it [00:00, ?it/s]"
     ]
    },
    {
     "name": "stdout",
     "output_type": "stream",
     "text": [
      "\r",
      "Upgrading database; v5 -> v6: : 0it [00:00, ?it/s]"
     ]
    },
    {
     "name": "stdout",
     "output_type": "stream",
     "text": [
      "\n",
      "\r",
      "  0%|          | 0/1 [00:00<?, ?it/s]"
     ]
    },
    {
     "name": "stdout",
     "output_type": "stream",
     "text": [
      "\r",
      "Upgrading database; v6 -> v7:   0%|          | 0/1 [00:00<?, ?it/s]"
     ]
    },
    {
     "name": "stdout",
     "output_type": "stream",
     "text": [
      "\r",
      "Upgrading database; v6 -> v7: 100%|██████████| 1/1 [00:00<00:00, 215.79it/s]"
     ]
    },
    {
     "name": "stdout",
     "output_type": "stream",
     "text": [
      "\n",
      "\r",
      "  0%|          | 0/1 [00:00<?, ?it/s]"
     ]
    },
    {
     "name": "stdout",
     "output_type": "stream",
     "text": [
      "\r",
      "Upgrading database; v7 -> v8:   0%|          | 0/1 [00:00<?, ?it/s]"
     ]
    },
    {
     "name": "stdout",
     "output_type": "stream",
     "text": [
      "\r",
      "Upgrading database; v7 -> v8: 100%|██████████| 1/1 [00:00<00:00, 311.82it/s]"
     ]
    },
    {
     "name": "stdout",
     "output_type": "stream",
     "text": [
      "\n",
      "\r",
      "  0%|          | 0/1 [00:00<?, ?it/s]"
     ]
    },
    {
     "name": "stdout",
     "output_type": "stream",
     "text": [
      "\r",
      "Upgrading database; v8 -> v9:   0%|          | 0/1 [00:00<?, ?it/s]"
     ]
    },
    {
     "name": "stdout",
     "output_type": "stream",
     "text": [
      "\r",
      "Upgrading database; v8 -> v9: 100%|██████████| 1/1 [00:00<00:00, 585.96it/s]"
     ]
    },
    {
     "name": "stdout",
     "output_type": "stream",
     "text": [
      "\n"
     ]
    }
   ],
   "source": [
    "initialise_database()\n",
    "exp = load_or_create_experiment(experiment_name='tutorial_exp', sample_name=\"no sample\")"
   ]
  },
  {
   "cell_type": "markdown",
   "metadata": {},
   "source": [
    "Here, we define a simple function to benchmark the time it takes to insert n points with either numeric or array data type.\n",
    "We will compare both the time used to call ``add_result`` and the time used for the full measurement."
   ]
  },
  {
   "cell_type": "code",
   "execution_count": 4,
   "metadata": {
    "execution": {
     "iopub.execute_input": "2021-04-06T06:11:49.547109Z",
     "iopub.status.busy": "2021-04-06T06:11:49.545517Z",
     "iopub.status.idle": "2021-04-06T06:11:49.547846Z",
     "shell.execute_reply": "2021-04-06T06:11:49.548398Z"
    }
   },
   "outputs": [],
   "source": [
    "def insert_data(paramtype, npoints, nreps=1):\n",
    "\n",
    "    meas = Measurement(exp=exp)\n",
    "\n",
    "    x1 = ManualParameter('x1')\n",
    "    x2 = ManualParameter('x2')\n",
    "    x3 = ManualParameter('x3')\n",
    "    y1 = ManualParameter('y1')\n",
    "    y2 = ManualParameter('y2')\n",
    "\n",
    "    meas.register_parameter(x1, paramtype=paramtype)\n",
    "    meas.register_parameter(x2, paramtype=paramtype)\n",
    "    meas.register_parameter(x3, paramtype=paramtype)\n",
    "    meas.register_parameter(y1, setpoints=[x1, x2, x3],\n",
    "                            paramtype=paramtype)\n",
    "    meas.register_parameter(y2, setpoints=[x1, x2, x3],\n",
    "                            paramtype=paramtype)\n",
    "    start = time.perf_counter()\n",
    "    with meas.run() as datasaver:\n",
    "        start_adding = time.perf_counter()\n",
    "        for i in range(nreps):\n",
    "            datasaver.add_result((x1, np.random.rand(npoints)),\n",
    "                                 (x2, np.random.rand(npoints)),\n",
    "                                 (x3, np.random.rand(npoints)),\n",
    "                                 (y1, np.random.rand(npoints)),\n",
    "                                 (y2, np.random.rand(npoints)))\n",
    "        stop_adding = time.perf_counter()\n",
    "        run_id = datasaver.run_id\n",
    "    stop = time.perf_counter()\n",
    "    tot_time = stop - start\n",
    "    add_time = stop_adding - start_adding\n",
    "    return tot_time, add_time, run_id"
   ]
  },
  {
   "cell_type": "markdown",
   "metadata": {},
   "source": [
    "## Comparison between numeric/array data and binary blob"
   ]
  },
  {
   "cell_type": "markdown",
   "metadata": {},
   "source": [
    "### Case1: Short experiment time"
   ]
  },
  {
   "cell_type": "code",
   "execution_count": 5,
   "metadata": {
    "execution": {
     "iopub.execute_input": "2021-04-06T06:11:49.554173Z",
     "iopub.status.busy": "2021-04-06T06:11:49.553468Z",
     "iopub.status.idle": "2021-04-06T06:11:50.539895Z",
     "shell.execute_reply": "2021-04-06T06:11:50.541047Z"
    }
   },
   "outputs": [
    {
     "name": "stdout",
     "output_type": "stream",
     "text": [
      "Starting experimental run with id: 1. \n",
      "Starting experimental run with id: 2. \n",
      "Starting experimental run with id: 3. \n"
     ]
    },
    {
     "name": "stdout",
     "output_type": "stream",
     "text": [
      "Starting experimental run with id: 4. \n"
     ]
    },
    {
     "name": "stdout",
     "output_type": "stream",
     "text": [
      "Starting experimental run with id: 5. \n"
     ]
    },
    {
     "name": "stdout",
     "output_type": "stream",
     "text": [
      "Starting experimental run with id: 6. \n",
      "Starting experimental run with id: 7. \n"
     ]
    },
    {
     "name": "stdout",
     "output_type": "stream",
     "text": [
      "Starting experimental run with id: 8. \n"
     ]
    },
    {
     "name": "stdout",
     "output_type": "stream",
     "text": [
      "Starting experimental run with id: 9. \n"
     ]
    },
    {
     "name": "stdout",
     "output_type": "stream",
     "text": [
      "Starting experimental run with id: 10. \n",
      "Starting experimental run with id: 11. \n"
     ]
    },
    {
     "name": "stdout",
     "output_type": "stream",
     "text": [
      "Starting experimental run with id: 12. \n",
      "Starting experimental run with id: 13. \n"
     ]
    },
    {
     "name": "stdout",
     "output_type": "stream",
     "text": [
      "Starting experimental run with id: 14. \n"
     ]
    }
   ],
   "source": [
    "sizes = [1,500,1000,2000,3000,4000,5000]\n",
    "t_numeric = []\n",
    "t_numeric_add = []\n",
    "t_array = []\n",
    "t_array_add = []\n",
    "for size in sizes:\n",
    "    tn, tna, run_id_n =  insert_data('numeric', size)\n",
    "    t_numeric.append(tn)\n",
    "    t_numeric_add.append(tna)\n",
    "\n",
    "    ta, taa, run_id_a =  insert_data('array', size)\n",
    "    t_array.append(ta)\n",
    "    t_array_add.append(taa)"
   ]
  },
  {
   "cell_type": "code",
   "execution_count": 6,
   "metadata": {
    "execution": {
     "iopub.execute_input": "2021-04-06T06:11:50.563699Z",
     "iopub.status.busy": "2021-04-06T06:11:50.546996Z",
     "iopub.status.idle": "2021-04-06T06:11:50.805068Z",
     "shell.execute_reply": "2021-04-06T06:11:50.804335Z"
    }
   },
   "outputs": [
    {
     "data": {
      "image/png": "[encoded data removed]",
      "text/plain": [
       "<Figure size 432x288 with 1 Axes>"
      ]
     },
     "metadata": {
      "needs_background": "light"
     },
     "output_type": "display_data"
    }
   ],
   "source": [
    "fig, ax = plt.subplots(1,1)\n",
    "ax.plot(sizes, t_numeric, 'o-', label='Inserting row-by-row')\n",
    "ax.plot(sizes, t_numeric_add, 'o-', label='Inserting row-by-row: add_result only')\n",
    "ax.plot(sizes, t_array, 'd-', label='Inserting as binary blob')\n",
    "ax.plot(sizes, t_array_add, 'd-', label='Inserting as binary blob: add_result only')\n",
    "ax.legend()\n",
    "ax.set_xlabel('Array length')\n",
    "ax.set_ylabel('Time (s)')\n",
    "fig.tight_layout()"
   ]
  },
  {
   "cell_type": "markdown",
   "metadata": {},
   "source": [
    "As shown in the latter figure, the time to setup and and close the experiment is approximately 0.4 sec. In case of small array sizes, the difference between inserting values of data as arrays and inserting them row-by-row is relatively unimportant. At larger array sizes, i.e. above 10000 points, the cost of writing data as individual datapoints starts to become important.\n"
   ]
  },
  {
   "cell_type": "markdown",
   "metadata": {},
   "source": [
    "### Case2: Long experiment time "
   ]
  },
  {
   "cell_type": "code",
   "execution_count": 7,
   "metadata": {
    "execution": {
     "iopub.execute_input": "2021-04-06T06:11:50.813653Z",
     "iopub.status.busy": "2021-04-06T06:11:50.812977Z",
     "iopub.status.idle": "2021-04-06T06:12:51.947116Z",
     "shell.execute_reply": "2021-04-06T06:12:51.946073Z"
    }
   },
   "outputs": [
    {
     "name": "stdout",
     "output_type": "stream",
     "text": [
      "Starting experimental run with id: 15. \n",
      "Starting experimental run with id: 16. \n",
      "Starting experimental run with id: 17. \n"
     ]
    },
    {
     "name": "stdout",
     "output_type": "stream",
     "text": [
      "Starting experimental run with id: 18. \n"
     ]
    },
    {
     "name": "stdout",
     "output_type": "stream",
     "text": [
      "Starting experimental run with id: 19. \n"
     ]
    },
    {
     "name": "stdout",
     "output_type": "stream",
     "text": [
      "Starting experimental run with id: 20. \n"
     ]
    },
    {
     "name": "stdout",
     "output_type": "stream",
     "text": [
      "Starting experimental run with id: 21. \n"
     ]
    },
    {
     "name": "stdout",
     "output_type": "stream",
     "text": [
      "Starting experimental run with id: 22. \n"
     ]
    },
    {
     "name": "stdout",
     "output_type": "stream",
     "text": [
      "Starting experimental run with id: 23. \n"
     ]
    },
    {
     "name": "stdout",
     "output_type": "stream",
     "text": [
      "Starting experimental run with id: 24. \n"
     ]
    },
    {
     "name": "stdout",
     "output_type": "stream",
     "text": [
      "Starting experimental run with id: 25. \n"
     ]
    },
    {
     "name": "stdout",
     "output_type": "stream",
     "text": [
      "Starting experimental run with id: 26. \n"
     ]
    },
    {
     "name": "stdout",
     "output_type": "stream",
     "text": [
      "Starting experimental run with id: 27. \n"
     ]
    },
    {
     "name": "stdout",
     "output_type": "stream",
     "text": [
      "Starting experimental run with id: 28. \n"
     ]
    }
   ],
   "source": [
    "sizes = [1,500,1000,2000,3000,4000,5000]\n",
    "nreps = 100\n",
    "t_numeric = []\n",
    "t_numeric_add = []\n",
    "t_numeric_run_ids = []\n",
    "t_array = []\n",
    "t_array_add = []\n",
    "t_array_run_ids = []\n",
    "for size in sizes:\n",
    "    tn, tna, run_id_n =  insert_data('numeric', size, nreps=nreps)\n",
    "    t_numeric.append(tn)\n",
    "    t_numeric_add.append(tna)\n",
    "    t_numeric_run_ids.append(run_id_n)\n",
    "\n",
    "    ta, taa, run_id_a =  insert_data('array', size, nreps=nreps)\n",
    "    t_array.append(ta)\n",
    "    t_array_add.append(taa)\n",
    "    t_array_run_ids.append(run_id_a)"
   ]
  },
  {
   "cell_type": "code",
   "execution_count": 8,
   "metadata": {
    "execution": {
     "iopub.execute_input": "2021-04-06T06:12:51.971656Z",
     "iopub.status.busy": "2021-04-06T06:12:51.951634Z",
     "iopub.status.idle": "2021-04-06T06:12:52.196449Z",
     "shell.execute_reply": "2021-04-06T06:12:52.195431Z"
    },
    "scrolled": true
   },
   "outputs": [
    {
     "data": {
      "image/png": "[encoded data removed]",
      "text/plain": [
       "<Figure size 432x288 with 1 Axes>"
      ]
     },
     "metadata": {
      "needs_background": "light"
     },
     "output_type": "display_data"
    }
   ],
   "source": [
    "fig, ax = plt.subplots(1,1)\n",
    "ax.plot(sizes, t_numeric, 'o-', label='Inserting row-by-row')\n",
    "ax.plot(sizes, t_numeric_add, 'o-', label='Inserting row-by-row: add_result only')\n",
    "ax.plot(sizes, t_array, 'd-', label='Inserting as binary blob')\n",
    "ax.plot(sizes, t_array_add, 'd-', label='Inserting as binary blob: add_result only')\n",
    "ax.legend()\n",
    "ax.set_xlabel('Array length')\n",
    "ax.set_ylabel('Time (s)')\n",
    "fig.tight_layout()"
   ]
  },
  {
   "cell_type": "markdown",
   "metadata": {},
   "source": [
    "However, as we increase the length of the experiment, as seen here by repeating the insertion 100 times, we see a big difference between inserting values of the data row-by-row and inserting it as a binary blob."
   ]
  },
  {
   "cell_type": "markdown",
   "metadata": {},
   "source": [
    "## Loading the data "
   ]
  },
  {
   "cell_type": "code",
   "execution_count": 9,
   "metadata": {
    "execution": {
     "iopub.execute_input": "2021-04-06T06:12:52.203571Z",
     "iopub.status.busy": "2021-04-06T06:12:52.201237Z",
     "iopub.status.idle": "2021-04-06T06:12:52.207193Z",
     "shell.execute_reply": "2021-04-06T06:12:52.206541Z"
    }
   },
   "outputs": [],
   "source": [
    "from qcodes.dataset.data_set import load_by_id\n",
    "from qcodes.dataset.data_export import get_data_by_id"
   ]
  },
  {
   "cell_type": "markdown",
   "metadata": {},
   "source": [
    "As usual you can load the data by using the ``load_by_id`` function but you will notice that the different storage methods\n",
    "are reflected in shape of the data as it is retrieved. "
   ]
  },
  {
   "cell_type": "code",
   "execution_count": 10,
   "metadata": {
    "execution": {
     "iopub.execute_input": "2021-04-06T06:12:52.212431Z",
     "iopub.status.busy": "2021-04-06T06:12:52.211529Z",
     "iopub.status.idle": "2021-04-06T06:12:52.215459Z",
     "shell.execute_reply": "2021-04-06T06:12:52.215921Z"
    }
   },
   "outputs": [],
   "source": [
    "run_id_n = t_numeric_run_ids[0]\n",
    "run_id_a = t_array_run_ids[0]"
   ]
  },
  {
   "cell_type": "code",
   "execution_count": 11,
   "metadata": {
    "execution": {
     "iopub.execute_input": "2021-04-06T06:12:52.220641Z",
     "iopub.status.busy": "2021-04-06T06:12:52.219887Z",
     "iopub.status.idle": "2021-04-06T06:12:52.230634Z",
     "shell.execute_reply": "2021-04-06T06:12:52.231286Z"
    },
    "scrolled": true
   },
   "outputs": [
    {
     "data": {
      "text/plain": [
       "{'x1': {'x1': array([0.30018245, 0.30018245, 0.16686655, 0.16686655, 0.17664135,\n",
       "         0.17664135, 0.88260858, 0.88260858, 0.96928557, 0.96928557,\n",
       "         0.66327097, 0.66327097, 0.54320542, 0.54320542, 0.89269369,\n",
       "         0.89269369, 0.75702201, 0.75702201, 0.17331709, 0.17331709,\n",
       "         0.14624581, 0.14624581, 0.56907395, 0.56907395, 0.56344318,\n",
       "         0.56344318, 0.71996651, 0.71996651, 0.73503816, 0.73503816,\n",
       "         0.21616383, 0.21616383, 0.94521107, 0.94521107, 0.89590674,\n",
       "         0.89590674, 0.95004009, 0.95004009, 0.77176684, 0.77176684,\n",
       "         0.81513119, 0.81513119, 0.0975016 , 0.0975016 , 0.26204483,\n",
       "         0.26204483, 0.50984265, 0.50984265, 0.94469527, 0.94469527,\n",
       "         0.64057605, 0.64057605, 0.15231149, 0.15231149, 0.69297979,\n",
       "         0.69297979, 0.31910452, 0.31910452, 0.95571855, 0.95571855,\n",
       "         0.57485536, 0.57485536, 0.35763814, 0.35763814, 0.44528983,\n",
       "         0.44528983, 0.07293631, 0.07293631, 0.14202526, 0.14202526,\n",
       "         0.55783319, 0.55783319, 0.37955635, 0.37955635, 0.35950297,\n",
       "         0.35950297, 0.86220009, 0.86220009, 0.8923813 , 0.8923813 ,\n",
       "         0.1675595 , 0.1675595 , 0.76634331, 0.76634331, 0.10404512,\n",
       "         0.10404512, 0.34155352, 0.34155352, 0.4250208 , 0.4250208 ,\n",
       "         0.61560965, 0.61560965, 0.22750334, 0.22750334, 0.66786618,\n",
       "         0.66786618, 0.0890414 , 0.0890414 , 0.54943252, 0.54943252,\n",
       "         0.9767021 , 0.9767021 , 0.47823371, 0.47823371, 0.6733802 ,\n",
       "         0.6733802 , 0.0052055 , 0.0052055 , 0.11821972, 0.11821972,\n",
       "         0.5573945 , 0.5573945 , 0.6372169 , 0.6372169 , 0.02186316,\n",
       "         0.02186316, 0.46248361, 0.46248361, 0.22549737, 0.22549737,\n",
       "         0.01851571, 0.01851571, 0.68304142, 0.68304142, 0.53423278,\n",
       "         0.53423278, 0.89616398, 0.89616398, 0.25465216, 0.25465216,\n",
       "         0.49786365, 0.49786365, 0.15252514, 0.15252514, 0.89338825,\n",
       "         0.89338825, 0.51046374, 0.51046374, 0.09444306, 0.09444306,\n",
       "         0.07598202, 0.07598202, 0.71756159, 0.71756159, 0.09458563,\n",
       "         0.09458563, 0.48432175, 0.48432175, 0.10970389, 0.10970389,\n",
       "         0.19342295, 0.19342295, 0.26827169, 0.26827169, 0.38012072,\n",
       "         0.38012072, 0.75079811, 0.75079811, 0.96192072, 0.96192072,\n",
       "         0.65536489, 0.65536489, 0.14957434, 0.14957434, 0.1811717 ,\n",
       "         0.1811717 , 0.64654811, 0.64654811, 0.09232968, 0.09232968,\n",
       "         0.31015677, 0.31015677, 0.86810644, 0.86810644, 0.43373834,\n",
       "         0.43373834, 0.50547415, 0.50547415, 0.45868168, 0.45868168,\n",
       "         0.79099581, 0.79099581, 0.91308068, 0.91308068, 0.17863398,\n",
       "         0.17863398, 0.95275327, 0.95275327, 0.79045815, 0.79045815,\n",
       "         0.37257718, 0.37257718, 0.04405246, 0.04405246, 0.26816487,\n",
       "         0.26816487, 0.91534152, 0.91534152, 0.39175386, 0.39175386])}}"
      ]
     },
     "execution_count": 1,
     "metadata": {},
     "output_type": "execute_result"
    }
   ],
   "source": [
    "ds = load_by_id(run_id_n)\n",
    "ds.get_parameter_data('x1')"
   ]
  },
  {
   "cell_type": "markdown",
   "metadata": {},
   "source": [
    "And a dataset stored as binary arrays"
   ]
  },
  {
   "cell_type": "code",
   "execution_count": 12,
   "metadata": {
    "execution": {
     "iopub.execute_input": "2021-04-06T06:12:52.235523Z",
     "iopub.status.busy": "2021-04-06T06:12:52.234943Z",
     "iopub.status.idle": "2021-04-06T06:12:52.293518Z",
     "shell.execute_reply": "2021-04-06T06:12:52.294176Z"
    },
    "scrolled": true
   },
   "outputs": [
    {
     "data": {
      "text/plain": [
       "{'x1': {'x1': array([[0.86578122],\n",
       "         [0.86578122],\n",
       "         [0.8951485 ],\n",
       "         [0.8951485 ],\n",
       "         [0.39691971],\n",
       "         [0.39691971],\n",
       "         [0.56786052],\n",
       "         [0.56786052],\n",
       "         [0.81022457],\n",
       "         [0.81022457],\n",
       "         [0.6642342 ],\n",
       "         [0.6642342 ],\n",
       "         [0.94059263],\n",
       "         [0.94059263],\n",
       "         [0.58357047],\n",
       "         [0.58357047],\n",
       "         [0.55373871],\n",
       "         [0.55373871],\n",
       "         [0.44455527],\n",
       "         [0.44455527],\n",
       "         [0.83356425],\n",
       "         [0.83356425],\n",
       "         [0.01605753],\n",
       "         [0.01605753],\n",
       "         [0.60789748],\n",
       "         [0.60789748],\n",
       "         [0.60364537],\n",
       "         [0.60364537],\n",
       "         [0.97278106],\n",
       "         [0.97278106],\n",
       "         [0.89234062],\n",
       "         [0.89234062],\n",
       "         [0.46003755],\n",
       "         [0.46003755],\n",
       "         [0.69893955],\n",
       "         [0.69893955],\n",
       "         [0.31219978],\n",
       "         [0.31219978],\n",
       "         [0.30582334],\n",
       "         [0.30582334],\n",
       "         [0.53080946],\n",
       "         [0.53080946],\n",
       "         [0.29512416],\n",
       "         [0.29512416],\n",
       "         [0.66215278],\n",
       "         [0.66215278],\n",
       "         [0.40129959],\n",
       "         [0.40129959],\n",
       "         [0.47373956],\n",
       "         [0.47373956],\n",
       "         [0.64750692],\n",
       "         [0.64750692],\n",
       "         [0.54702666],\n",
       "         [0.54702666],\n",
       "         [0.64281763],\n",
       "         [0.64281763],\n",
       "         [0.61241968],\n",
       "         [0.61241968],\n",
       "         [0.47637259],\n",
       "         [0.47637259],\n",
       "         [0.86151249],\n",
       "         [0.86151249],\n",
       "         [0.26732475],\n",
       "         [0.26732475],\n",
       "         [0.94080014],\n",
       "         [0.94080014],\n",
       "         [0.53387899],\n",
       "         [0.53387899],\n",
       "         [0.02607526],\n",
       "         [0.02607526],\n",
       "         [0.51435626],\n",
       "         [0.51435626],\n",
       "         [0.72487444],\n",
       "         [0.72487444],\n",
       "         [0.03497925],\n",
       "         [0.03497925],\n",
       "         [0.34389114],\n",
       "         [0.34389114],\n",
       "         [0.28286934],\n",
       "         [0.28286934],\n",
       "         [0.32325743],\n",
       "         [0.32325743],\n",
       "         [0.1563751 ],\n",
       "         [0.1563751 ],\n",
       "         [0.11546978],\n",
       "         [0.11546978],\n",
       "         [0.98055182],\n",
       "         [0.98055182],\n",
       "         [0.56587592],\n",
       "         [0.56587592],\n",
       "         [0.12342059],\n",
       "         [0.12342059],\n",
       "         [0.46753027],\n",
       "         [0.46753027],\n",
       "         [0.35590454],\n",
       "         [0.35590454],\n",
       "         [0.19734826],\n",
       "         [0.19734826],\n",
       "         [0.950932  ],\n",
       "         [0.950932  ],\n",
       "         [0.43477639],\n",
       "         [0.43477639],\n",
       "         [0.89577047],\n",
       "         [0.89577047],\n",
       "         [0.99667993],\n",
       "         [0.99667993],\n",
       "         [0.34830421],\n",
       "         [0.34830421],\n",
       "         [0.80438256],\n",
       "         [0.80438256],\n",
       "         [0.41744411],\n",
       "         [0.41744411],\n",
       "         [0.87392106],\n",
       "         [0.87392106],\n",
       "         [0.6811437 ],\n",
       "         [0.6811437 ],\n",
       "         [0.67864232],\n",
       "         [0.67864232],\n",
       "         [0.83422591],\n",
       "         [0.83422591],\n",
       "         [0.68180653],\n",
       "         [0.68180653],\n",
       "         [0.80699622],\n",
       "         [0.80699622],\n",
       "         [0.57307491],\n",
       "         [0.57307491],\n",
       "         [0.56846419],\n",
       "         [0.56846419],\n",
       "         [0.26111277],\n",
       "         [0.26111277],\n",
       "         [0.56790466],\n",
       "         [0.56790466],\n",
       "         [0.99591691],\n",
       "         [0.99591691],\n",
       "         [0.56272307],\n",
       "         [0.56272307],\n",
       "         [0.93522615],\n",
       "         [0.93522615],\n",
       "         [0.13533628],\n",
       "         [0.13533628],\n",
       "         [0.09940123],\n",
       "         [0.09940123],\n",
       "         [0.64259237],\n",
       "         [0.64259237],\n",
       "         [0.66680252],\n",
       "         [0.66680252],\n",
       "         [0.79517067],\n",
       "         [0.79517067],\n",
       "         [0.39764133],\n",
       "         [0.39764133],\n",
       "         [0.0311731 ],\n",
       "         [0.0311731 ],\n",
       "         [0.88057292],\n",
       "         [0.88057292],\n",
       "         [0.83791108],\n",
       "         [0.83791108],\n",
       "         [0.37186297],\n",
       "         [0.37186297],\n",
       "         [0.20662524],\n",
       "         [0.20662524],\n",
       "         [0.26851073],\n",
       "         [0.26851073],\n",
       "         [0.92264753],\n",
       "         [0.92264753],\n",
       "         [0.24310078],\n",
       "         [0.24310078],\n",
       "         [0.2974481 ],\n",
       "         [0.2974481 ],\n",
       "         [0.66336722],\n",
       "         [0.66336722],\n",
       "         [0.35235354],\n",
       "         [0.35235354],\n",
       "         [0.69538797],\n",
       "         [0.69538797],\n",
       "         [0.80901541],\n",
       "         [0.80901541],\n",
       "         [0.26809569],\n",
       "         [0.26809569],\n",
       "         [0.22269733],\n",
       "         [0.22269733],\n",
       "         [0.0105364 ],\n",
       "         [0.0105364 ],\n",
       "         [0.81872556],\n",
       "         [0.81872556],\n",
       "         [0.04481513],\n",
       "         [0.04481513],\n",
       "         [0.09190875],\n",
       "         [0.09190875],\n",
       "         [0.88841673],\n",
       "         [0.88841673],\n",
       "         [0.20616371],\n",
       "         [0.20616371],\n",
       "         [0.76171429],\n",
       "         [0.76171429],\n",
       "         [0.95286328],\n",
       "         [0.95286328],\n",
       "         [0.10576894],\n",
       "         [0.10576894],\n",
       "         [0.18083815],\n",
       "         [0.18083815]])}}"
      ]
     },
     "execution_count": 1,
     "metadata": {},
     "output_type": "execute_result"
    }
   ],
   "source": [
    "ds = load_by_id(run_id_a)\n",
    "ds.get_parameter_data('x1')"
   ]
  },
  {
   "cell_type": "code",
   "execution_count": null,
   "metadata": {},
   "outputs": [],
   "source": []
  }
 ],
 "metadata": {
  "kernelspec": {
   "display_name": "Python 3",
   "language": "python",
   "name": "python3"
  },
  "language_info": {
   "codemirror_mode": {
    "name": "ipython",
    "version": 3
   },
   "file_extension": ".py",
   "mimetype": "text/x-python",
   "name": "python",
   "nbconvert_exporter": "python",
   "pygments_lexer": "ipython3",
   "version": "3.7.10"
  },
  "nbsphinx": {
   "timeout": 600
  },
  "toc": {
   "base_numbering": 1,
   "nav_menu": {},
   "number_sections": true,
   "sideBar": true,
   "skip_h1_title": false,
   "title_cell": "Table of Contents",
   "title_sidebar": "Contents",
   "toc_cell": false,
   "toc_position": {},
   "toc_section_display": true,
   "toc_window_display": false
  },
  "varInspector": {
   "cols": {
    "lenName": 16,
    "lenType": 16,
    "lenVar": 40
   },
   "kernels_config": {
    "python": {
     "delete_cmd_postfix": "",
     "delete_cmd_prefix": "del ",
     "library": "var_list.py",
     "varRefreshCmd": "print(var_dic_list())"
    },
    "r": {
     "delete_cmd_postfix": ") ",
     "delete_cmd_prefix": "rm(",
     "library": "var_list.r",
     "varRefreshCmd": "cat(var_dic_list()) "
    }
   },
   "types_to_exclude": [
    "module",
    "function",
    "builtin_function_or_method",
    "instance",
    "_Feature"
   ],
   "window_display": false
  }
 },
 "nbformat": 4,
 "nbformat_minor": 2
}
