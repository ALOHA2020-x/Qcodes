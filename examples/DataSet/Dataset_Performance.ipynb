{
 "cells": [
  {
   "cell_type": "markdown",
   "metadata": {},
   "source": [
    "# DataSet Performance\n",
    "\n",
    "This notebook shows the trade-off between inserting data into a database row-by-row and as binary blobs. Inserting the data row-by-row means that we have direct access to all the data and may perform queries directly on the values of the data. On the other hand, as we shall see, this is much slower than inserting the data directly as binary blobs."
   ]
  },
  {
   "cell_type": "markdown",
   "metadata": {},
   "source": [
    "First, we choose a new location for the database to ensure that we don't add a bunch of benchmarking data to the default one."
   ]
  },
  {
   "cell_type": "code",
   "execution_count": 1,
   "metadata": {
    "execution": {
     "iopub.execute_input": "2021-03-31T11:40:03.021437Z",
     "iopub.status.busy": "2021-03-31T11:40:03.020738Z",
     "iopub.status.idle": "2021-03-31T11:40:04.315243Z",
     "shell.execute_reply": "2021-03-31T11:40:04.314003Z"
    }
   },
   "outputs": [
    {
     "name": "stdout",
     "output_type": "stream",
     "text": [
      "Logging hadn't been started.\n",
      "Activating auto-logging. Current session state plus future input saved.\n",
      "Filename       : /home/runner/.qcodes/logs/command_history.log\n",
      "Mode           : append\n",
      "Output logging : True\n",
      "Raw input log  : False\n",
      "Timestamping   : True\n",
      "State          : active\n"
     ]
    },
    {
     "name": "stdout",
     "output_type": "stream",
     "text": [
      "Qcodes Logfile : /home/runner/.qcodes/logs/210331-4791-qcodes.log\n"
     ]
    }
   ],
   "source": [
    "import os\n",
    "cwd = os.getcwd()\n",
    "import qcodes as qc\n",
    "qc.config[\"core\"][\"db_location\"] = os.path.join(cwd, 'testing.db')\n"
   ]
  },
  {
   "cell_type": "code",
   "execution_count": 2,
   "metadata": {
    "execution": {
     "iopub.execute_input": "2021-03-31T11:40:04.323915Z",
     "iopub.status.busy": "2021-03-31T11:40:04.321840Z",
     "iopub.status.idle": "2021-03-31T11:40:04.634689Z",
     "shell.execute_reply": "2021-03-31T11:40:04.633915Z"
    }
   },
   "outputs": [],
   "source": [
    "%matplotlib inline\n",
    "import time\n",
    "import matplotlib.pyplot as plt\n",
    "import numpy as np\n",
    "\n",
    "import qcodes as qc\n",
    "from qcodes.instrument.parameter import ManualParameter\n",
    "from qcodes.dataset.experiment_container import (Experiment,\n",
    "                                                 load_last_experiment,\n",
    "                                                 new_experiment)\n",
    "from qcodes.dataset.sqlite.database import initialise_database\n",
    "from qcodes import load_or_create_experiment\n",
    "from qcodes.dataset.measurements import Measurement"
   ]
  },
  {
   "cell_type": "code",
   "execution_count": 3,
   "metadata": {
    "execution": {
     "iopub.execute_input": "2021-03-31T11:40:04.640049Z",
     "iopub.status.busy": "2021-03-31T11:40:04.639203Z",
     "iopub.status.idle": "2021-03-31T11:40:04.738079Z",
     "shell.execute_reply": "2021-03-31T11:40:04.738699Z"
    }
   },
   "outputs": [
    {
     "name": "stdout",
     "output_type": "stream",
     "text": [
      "\r",
      "0it [00:00, ?it/s]"
     ]
    },
    {
     "name": "stdout",
     "output_type": "stream",
     "text": [
      "\r",
      "Upgrading database; v0 -> v1: : 0it [00:00, ?it/s]"
     ]
    },
    {
     "name": "stdout",
     "output_type": "stream",
     "text": [
      "\r",
      "Upgrading database; v0 -> v1: : 0it [00:00, ?it/s]"
     ]
    },
    {
     "name": "stdout",
     "output_type": "stream",
     "text": [
      "\n",
      "\r",
      "  0%|          | 0/1 [00:00<?, ?it/s]"
     ]
    },
    {
     "name": "stdout",
     "output_type": "stream",
     "text": [
      "\r",
      "Upgrading database; v1 -> v2:   0%|          | 0/1 [00:00<?, ?it/s]"
     ]
    },
    {
     "name": "stdout",
     "output_type": "stream",
     "text": [
      "\r",
      "Upgrading database; v1 -> v2: 100%|██████████| 1/1 [00:00<00:00, 271.69it/s]"
     ]
    },
    {
     "name": "stdout",
     "output_type": "stream",
     "text": [
      "\n",
      "\r",
      "0it [00:00, ?it/s]"
     ]
    },
    {
     "name": "stdout",
     "output_type": "stream",
     "text": [
      "\r",
      "Upgrading database; v2 -> v3: : 0it [00:00, ?it/s]"
     ]
    },
    {
     "name": "stdout",
     "output_type": "stream",
     "text": [
      "\r",
      "Upgrading database; v2 -> v3: : 0it [00:00, ?it/s]"
     ]
    },
    {
     "name": "stdout",
     "output_type": "stream",
     "text": [
      "\n",
      "\r",
      "0it [00:00, ?it/s]"
     ]
    },
    {
     "name": "stdout",
     "output_type": "stream",
     "text": [
      "\r",
      "Upgrading database; v3 -> v4: : 0it [00:00, ?it/s]"
     ]
    },
    {
     "name": "stdout",
     "output_type": "stream",
     "text": [
      "\r",
      "Upgrading database; v3 -> v4: : 0it [00:00, ?it/s]"
     ]
    },
    {
     "name": "stdout",
     "output_type": "stream",
     "text": [
      "\n",
      "\r",
      "  0%|          | 0/1 [00:00<?, ?it/s]"
     ]
    },
    {
     "name": "stdout",
     "output_type": "stream",
     "text": [
      "\r",
      "Upgrading database; v4 -> v5:   0%|          | 0/1 [00:00<?, ?it/s]"
     ]
    },
    {
     "name": "stdout",
     "output_type": "stream",
     "text": [
      "\r",
      "Upgrading database; v4 -> v5: 100%|██████████| 1/1 [00:00<00:00, 245.34it/s]"
     ]
    },
    {
     "name": "stdout",
     "output_type": "stream",
     "text": [
      "\n",
      "\r",
      "0it [00:00, ?it/s]"
     ]
    },
    {
     "name": "stdout",
     "output_type": "stream",
     "text": [
      "\r",
      "Upgrading database; v5 -> v6: : 0it [00:00, ?it/s]"
     ]
    },
    {
     "name": "stdout",
     "output_type": "stream",
     "text": [
      "\r",
      "Upgrading database; v5 -> v6: : 0it [00:00, ?it/s]"
     ]
    },
    {
     "name": "stdout",
     "output_type": "stream",
     "text": [
      "\n",
      "\r",
      "  0%|          | 0/1 [00:00<?, ?it/s]"
     ]
    },
    {
     "name": "stdout",
     "output_type": "stream",
     "text": [
      "\r",
      "Upgrading database; v6 -> v7:   0%|          | 0/1 [00:00<?, ?it/s]"
     ]
    },
    {
     "name": "stdout",
     "output_type": "stream",
     "text": [
      "\r",
      "Upgrading database; v6 -> v7: 100%|██████████| 1/1 [00:00<00:00, 246.75it/s]"
     ]
    },
    {
     "name": "stdout",
     "output_type": "stream",
     "text": [
      "\n",
      "\r",
      "  0%|          | 0/1 [00:00<?, ?it/s]"
     ]
    },
    {
     "name": "stdout",
     "output_type": "stream",
     "text": [
      "\r",
      "Upgrading database; v7 -> v8:   0%|          | 0/1 [00:00<?, ?it/s]"
     ]
    },
    {
     "name": "stdout",
     "output_type": "stream",
     "text": [
      "\r",
      "Upgrading database; v7 -> v8: 100%|██████████| 1/1 [00:00<00:00, 772.15it/s]"
     ]
    },
    {
     "name": "stdout",
     "output_type": "stream",
     "text": [
      "\n",
      "\r",
      "  0%|          | 0/1 [00:00<?, ?it/s]"
     ]
    },
    {
     "name": "stdout",
     "output_type": "stream",
     "text": [
      "\r",
      "Upgrading database; v8 -> v9:   0%|          | 0/1 [00:00<?, ?it/s]"
     ]
    },
    {
     "name": "stdout",
     "output_type": "stream",
     "text": [
      "\r",
      "Upgrading database; v8 -> v9: 100%|██████████| 1/1 [00:00<00:00, 496.48it/s]"
     ]
    },
    {
     "name": "stdout",
     "output_type": "stream",
     "text": [
      "\n"
     ]
    }
   ],
   "source": [
    "initialise_database()\n",
    "exp = load_or_create_experiment(experiment_name='tutorial_exp', sample_name=\"no sample\")"
   ]
  },
  {
   "cell_type": "markdown",
   "metadata": {},
   "source": [
    "Here, we define a simple function to benchmark the time it takes to insert n points with either numeric or array data type.\n",
    "We will compare both the time used to call ``add_result`` and the time used for the full measurement."
   ]
  },
  {
   "cell_type": "code",
   "execution_count": 4,
   "metadata": {
    "execution": {
     "iopub.execute_input": "2021-03-31T11:40:04.748469Z",
     "iopub.status.busy": "2021-03-31T11:40:04.747682Z",
     "iopub.status.idle": "2021-03-31T11:40:04.755160Z",
     "shell.execute_reply": "2021-03-31T11:40:04.754483Z"
    }
   },
   "outputs": [],
   "source": [
    "def insert_data(paramtype, npoints, nreps=1):\n",
    "\n",
    "    meas = Measurement(exp=exp)\n",
    "\n",
    "    x1 = ManualParameter('x1')\n",
    "    x2 = ManualParameter('x2')\n",
    "    x3 = ManualParameter('x3')\n",
    "    y1 = ManualParameter('y1')\n",
    "    y2 = ManualParameter('y2')\n",
    "\n",
    "    meas.register_parameter(x1, paramtype=paramtype)\n",
    "    meas.register_parameter(x2, paramtype=paramtype)\n",
    "    meas.register_parameter(x3, paramtype=paramtype)\n",
    "    meas.register_parameter(y1, setpoints=[x1, x2, x3],\n",
    "                            paramtype=paramtype)\n",
    "    meas.register_parameter(y2, setpoints=[x1, x2, x3],\n",
    "                            paramtype=paramtype)\n",
    "    start = time.perf_counter()\n",
    "    with meas.run() as datasaver:\n",
    "        start_adding = time.perf_counter()\n",
    "        for i in range(nreps):\n",
    "            datasaver.add_result((x1, np.random.rand(npoints)),\n",
    "                                 (x2, np.random.rand(npoints)),\n",
    "                                 (x3, np.random.rand(npoints)),\n",
    "                                 (y1, np.random.rand(npoints)),\n",
    "                                 (y2, np.random.rand(npoints)))\n",
    "        stop_adding = time.perf_counter()\n",
    "        run_id = datasaver.run_id\n",
    "    stop = time.perf_counter()\n",
    "    tot_time = stop - start\n",
    "    add_time = stop_adding - start_adding\n",
    "    return tot_time, add_time, run_id"
   ]
  },
  {
   "cell_type": "markdown",
   "metadata": {},
   "source": [
    "## Comparison between numeric/array data and binary blob"
   ]
  },
  {
   "cell_type": "markdown",
   "metadata": {},
   "source": [
    "### Case1: Short experiment time"
   ]
  },
  {
   "cell_type": "code",
   "execution_count": 5,
   "metadata": {
    "execution": {
     "iopub.execute_input": "2021-03-31T11:40:04.765742Z",
     "iopub.status.busy": "2021-03-31T11:40:04.764774Z",
     "iopub.status.idle": "2021-03-31T11:40:05.758038Z",
     "shell.execute_reply": "2021-03-31T11:40:05.756862Z"
    }
   },
   "outputs": [
    {
     "name": "stdout",
     "output_type": "stream",
     "text": [
      "Starting experimental run with id: 1. \n",
      "Starting experimental run with id: 2. \n",
      "Starting experimental run with id: 3. \n"
     ]
    },
    {
     "name": "stdout",
     "output_type": "stream",
     "text": [
      "Starting experimental run with id: 4. \n"
     ]
    },
    {
     "name": "stdout",
     "output_type": "stream",
     "text": [
      "Starting experimental run with id: 5. \n"
     ]
    },
    {
     "name": "stdout",
     "output_type": "stream",
     "text": [
      "Starting experimental run with id: 6. \n",
      "Starting experimental run with id: 7. \n"
     ]
    },
    {
     "name": "stdout",
     "output_type": "stream",
     "text": [
      "Starting experimental run with id: 8. \n"
     ]
    },
    {
     "name": "stdout",
     "output_type": "stream",
     "text": [
      "Starting experimental run with id: 9. \n"
     ]
    },
    {
     "name": "stdout",
     "output_type": "stream",
     "text": [
      "Starting experimental run with id: 10. \n",
      "Starting experimental run with id: 11. \n"
     ]
    },
    {
     "name": "stdout",
     "output_type": "stream",
     "text": [
      "Starting experimental run with id: 12. \n",
      "Starting experimental run with id: 13. \n"
     ]
    },
    {
     "name": "stdout",
     "output_type": "stream",
     "text": [
      "Starting experimental run with id: 14. \n"
     ]
    }
   ],
   "source": [
    "sizes = [1,500,1000,2000,3000,4000,5000]\n",
    "t_numeric = []\n",
    "t_numeric_add = []\n",
    "t_array = []\n",
    "t_array_add = []\n",
    "for size in sizes:\n",
    "    tn, tna, run_id_n =  insert_data('numeric', size)\n",
    "    t_numeric.append(tn)\n",
    "    t_numeric_add.append(tna)\n",
    "\n",
    "    ta, taa, run_id_a =  insert_data('array', size)\n",
    "    t_array.append(ta)\n",
    "    t_array_add.append(taa)"
   ]
  },
  {
   "cell_type": "code",
   "execution_count": 6,
   "metadata": {
    "execution": {
     "iopub.execute_input": "2021-03-31T11:40:05.784546Z",
     "iopub.status.busy": "2021-03-31T11:40:05.782183Z",
     "iopub.status.idle": "2021-03-31T11:40:06.039068Z",
     "shell.execute_reply": "2021-03-31T11:40:06.040060Z"
    }
   },
   "outputs": [
    {
     "data": {
      "image/png": "[encoded data removed]",
      "text/plain": [
       "<Figure size 432x288 with 1 Axes>"
      ]
     },
     "metadata": {
      "needs_background": "light"
     },
     "output_type": "display_data"
    }
   ],
   "source": [
    "fig, ax = plt.subplots(1,1)\n",
    "ax.plot(sizes, t_numeric, 'o-', label='Inserting row-by-row')\n",
    "ax.plot(sizes, t_numeric_add, 'o-', label='Inserting row-by-row: add_result only')\n",
    "ax.plot(sizes, t_array, 'd-', label='Inserting as binary blob')\n",
    "ax.plot(sizes, t_array_add, 'd-', label='Inserting as binary blob: add_result only')\n",
    "ax.legend()\n",
    "ax.set_xlabel('Array length')\n",
    "ax.set_ylabel('Time (s)')\n",
    "fig.tight_layout()"
   ]
  },
  {
   "cell_type": "markdown",
   "metadata": {},
   "source": [
    "As shown in the latter figure, the time to setup and and close the experiment is approximately 0.4 sec. In case of small array sizes, the difference between inserting values of data as arrays and inserting them row-by-row is relatively unimportant. At larger array sizes, i.e. above 10000 points, the cost of writing data as individual datapoints starts to become important.\n"
   ]
  },
  {
   "cell_type": "markdown",
   "metadata": {},
   "source": [
    "### Case2: Long experiment time "
   ]
  },
  {
   "cell_type": "code",
   "execution_count": 7,
   "metadata": {
    "execution": {
     "iopub.execute_input": "2021-03-31T11:40:06.049774Z",
     "iopub.status.busy": "2021-03-31T11:40:06.049092Z",
     "iopub.status.idle": "2021-03-31T11:41:16.167756Z",
     "shell.execute_reply": "2021-03-31T11:41:16.166099Z"
    }
   },
   "outputs": [
    {
     "name": "stdout",
     "output_type": "stream",
     "text": [
      "Starting experimental run with id: 15. \n",
      "Starting experimental run with id: 16. \n"
     ]
    },
    {
     "name": "stdout",
     "output_type": "stream",
     "text": [
      "Starting experimental run with id: 17. \n"
     ]
    },
    {
     "name": "stdout",
     "output_type": "stream",
     "text": [
      "Starting experimental run with id: 18. \n"
     ]
    },
    {
     "name": "stdout",
     "output_type": "stream",
     "text": [
      "Starting experimental run with id: 19. \n"
     ]
    },
    {
     "name": "stdout",
     "output_type": "stream",
     "text": [
      "Starting experimental run with id: 20. \n"
     ]
    },
    {
     "name": "stdout",
     "output_type": "stream",
     "text": [
      "Starting experimental run with id: 21. \n"
     ]
    },
    {
     "name": "stdout",
     "output_type": "stream",
     "text": [
      "Starting experimental run with id: 22. \n"
     ]
    },
    {
     "name": "stdout",
     "output_type": "stream",
     "text": [
      "Starting experimental run with id: 23. \n"
     ]
    },
    {
     "name": "stdout",
     "output_type": "stream",
     "text": [
      "Starting experimental run with id: 24. \n"
     ]
    },
    {
     "name": "stdout",
     "output_type": "stream",
     "text": [
      "Starting experimental run with id: 25. \n"
     ]
    },
    {
     "name": "stdout",
     "output_type": "stream",
     "text": [
      "Starting experimental run with id: 26. \n"
     ]
    },
    {
     "name": "stdout",
     "output_type": "stream",
     "text": [
      "Starting experimental run with id: 27. \n"
     ]
    },
    {
     "name": "stdout",
     "output_type": "stream",
     "text": [
      "Starting experimental run with id: 28. \n"
     ]
    }
   ],
   "source": [
    "sizes = [1,500,1000,2000,3000,4000,5000]\n",
    "nreps = 100\n",
    "t_numeric = []\n",
    "t_numeric_add = []\n",
    "t_numeric_run_ids = []\n",
    "t_array = []\n",
    "t_array_add = []\n",
    "t_array_run_ids = []\n",
    "for size in sizes:\n",
    "    tn, tna, run_id_n =  insert_data('numeric', size, nreps=nreps)\n",
    "    t_numeric.append(tn)\n",
    "    t_numeric_add.append(tna)\n",
    "    t_numeric_run_ids.append(run_id_n)\n",
    "\n",
    "    ta, taa, run_id_a =  insert_data('array', size, nreps=nreps)\n",
    "    t_array.append(ta)\n",
    "    t_array_add.append(taa)\n",
    "    t_array_run_ids.append(run_id_a)"
   ]
  },
  {
   "cell_type": "code",
   "execution_count": 8,
   "metadata": {
    "execution": {
     "iopub.execute_input": "2021-03-31T11:41:16.208164Z",
     "iopub.status.busy": "2021-03-31T11:41:16.186256Z",
     "iopub.status.idle": "2021-03-31T11:41:16.423314Z",
     "shell.execute_reply": "2021-03-31T11:41:16.423878Z"
    },
    "scrolled": true
   },
   "outputs": [
    {
     "data": {
      "image/png": "[encoded data removed]",
      "text/plain": [
       "<Figure size 432x288 with 1 Axes>"
      ]
     },
     "metadata": {
      "needs_background": "light"
     },
     "output_type": "display_data"
    }
   ],
   "source": [
    "fig, ax = plt.subplots(1,1)\n",
    "ax.plot(sizes, t_numeric, 'o-', label='Inserting row-by-row')\n",
    "ax.plot(sizes, t_numeric_add, 'o-', label='Inserting row-by-row: add_result only')\n",
    "ax.plot(sizes, t_array, 'd-', label='Inserting as binary blob')\n",
    "ax.plot(sizes, t_array_add, 'd-', label='Inserting as binary blob: add_result only')\n",
    "ax.legend()\n",
    "ax.set_xlabel('Array length')\n",
    "ax.set_ylabel('Time (s)')\n",
    "fig.tight_layout()"
   ]
  },
  {
   "cell_type": "markdown",
   "metadata": {},
   "source": [
    "However, as we increase the length of the experiment, as seen here by repeating the insertion 100 times, we see a big difference between inserting values of the data row-by-row and inserting it as a binary blob."
   ]
  },
  {
   "cell_type": "markdown",
   "metadata": {},
   "source": [
    "## Loading the data "
   ]
  },
  {
   "cell_type": "code",
   "execution_count": 9,
   "metadata": {
    "execution": {
     "iopub.execute_input": "2021-03-31T11:41:16.428737Z",
     "iopub.status.busy": "2021-03-31T11:41:16.428094Z",
     "iopub.status.idle": "2021-03-31T11:41:16.433227Z",
     "shell.execute_reply": "2021-03-31T11:41:16.432434Z"
    }
   },
   "outputs": [],
   "source": [
    "from qcodes.dataset.data_set import load_by_id\n",
    "from qcodes.dataset.data_export import get_data_by_id"
   ]
  },
  {
   "cell_type": "markdown",
   "metadata": {},
   "source": [
    "As usual you can load the data by using the ``load_by_id`` function but you will notice that the different storage methods\n",
    "are reflected in shape of the data as it is retrieved. "
   ]
  },
  {
   "cell_type": "code",
   "execution_count": 10,
   "metadata": {
    "execution": {
     "iopub.execute_input": "2021-03-31T11:41:16.437493Z",
     "iopub.status.busy": "2021-03-31T11:41:16.436852Z",
     "iopub.status.idle": "2021-03-31T11:41:16.441874Z",
     "shell.execute_reply": "2021-03-31T11:41:16.440635Z"
    }
   },
   "outputs": [],
   "source": [
    "run_id_n = t_numeric_run_ids[0]\n",
    "run_id_a = t_array_run_ids[0]"
   ]
  },
  {
   "cell_type": "code",
   "execution_count": 11,
   "metadata": {
    "execution": {
     "iopub.execute_input": "2021-03-31T11:41:16.445769Z",
     "iopub.status.busy": "2021-03-31T11:41:16.444958Z",
     "iopub.status.idle": "2021-03-31T11:41:16.458228Z",
     "shell.execute_reply": "2021-03-31T11:41:16.457600Z"
    },
    "scrolled": true
   },
   "outputs": [
    {
     "data": {
      "text/plain": [
       "{'x1': {'x1': array([0.96559479, 0.96559479, 0.13333129, 0.13333129, 0.42502682,\n",
       "         0.42502682, 0.24912678, 0.24912678, 0.40512053, 0.40512053,\n",
       "         0.60346169, 0.60346169, 0.9326917 , 0.9326917 , 0.57808803,\n",
       "         0.57808803, 0.92702698, 0.92702698, 0.19419266, 0.19419266,\n",
       "         0.83442423, 0.83442423, 0.65905454, 0.65905454, 0.10770935,\n",
       "         0.10770935, 0.8253777 , 0.8253777 , 0.05329059, 0.05329059,\n",
       "         0.35352113, 0.35352113, 0.63617216, 0.63617216, 0.93587623,\n",
       "         0.93587623, 0.0503654 , 0.0503654 , 0.85569278, 0.85569278,\n",
       "         0.52158806, 0.52158806, 0.08951699, 0.08951699, 0.37897617,\n",
       "         0.37897617, 0.30613528, 0.30613528, 0.66797492, 0.66797492,\n",
       "         0.39011138, 0.39011138, 0.17340366, 0.17340366, 0.83706936,\n",
       "         0.83706936, 0.47609117, 0.47609117, 0.26498155, 0.26498155,\n",
       "         0.14484865, 0.14484865, 0.81569145, 0.81569145, 0.2547303 ,\n",
       "         0.2547303 , 0.26763729, 0.26763729, 0.52215779, 0.52215779,\n",
       "         0.31352874, 0.31352874, 0.20164784, 0.20164784, 0.04968413,\n",
       "         0.04968413, 0.24885329, 0.24885329, 0.07649117, 0.07649117,\n",
       "         0.619276  , 0.619276  , 0.34714555, 0.34714555, 0.57051103,\n",
       "         0.57051103, 0.57305319, 0.57305319, 0.41748113, 0.41748113,\n",
       "         0.87303184, 0.87303184, 0.58212544, 0.58212544, 0.89945226,\n",
       "         0.89945226, 0.48295184, 0.48295184, 0.60935271, 0.60935271,\n",
       "         0.51008888, 0.51008888, 0.07532253, 0.07532253, 0.09549197,\n",
       "         0.09549197, 0.38235374, 0.38235374, 0.53594087, 0.53594087,\n",
       "         0.68985351, 0.68985351, 0.64235299, 0.64235299, 0.71719111,\n",
       "         0.71719111, 0.58338641, 0.58338641, 0.811047  , 0.811047  ,\n",
       "         0.52326647, 0.52326647, 0.44579989, 0.44579989, 0.80755337,\n",
       "         0.80755337, 0.58201952, 0.58201952, 0.68870532, 0.68870532,\n",
       "         0.91081155, 0.91081155, 0.80320204, 0.80320204, 0.58960399,\n",
       "         0.58960399, 0.04684847, 0.04684847, 0.64985294, 0.64985294,\n",
       "         0.34858518, 0.34858518, 0.42294125, 0.42294125, 0.49392297,\n",
       "         0.49392297, 0.04227243, 0.04227243, 0.75076648, 0.75076648,\n",
       "         0.85038465, 0.85038465, 0.97893107, 0.97893107, 0.20062604,\n",
       "         0.20062604, 0.17438491, 0.17438491, 0.3705304 , 0.3705304 ,\n",
       "         0.6685345 , 0.6685345 , 0.24423051, 0.24423051, 0.48830909,\n",
       "         0.48830909, 0.74385376, 0.74385376, 0.53244643, 0.53244643,\n",
       "         0.32061167, 0.32061167, 0.22539732, 0.22539732, 0.09438512,\n",
       "         0.09438512, 0.88216548, 0.88216548, 0.73324016, 0.73324016,\n",
       "         0.47049638, 0.47049638, 0.56701771, 0.56701771, 0.99909778,\n",
       "         0.99909778, 0.92982459, 0.92982459, 0.18132182, 0.18132182,\n",
       "         0.10091909, 0.10091909, 0.22225394, 0.22225394, 0.98034133,\n",
       "         0.98034133, 0.38654421, 0.38654421, 0.84455347, 0.84455347])}}"
      ]
     },
     "execution_count": 1,
     "metadata": {},
     "output_type": "execute_result"
    }
   ],
   "source": [
    "ds = load_by_id(run_id_n)\n",
    "ds.get_parameter_data('x1')"
   ]
  },
  {
   "cell_type": "markdown",
   "metadata": {},
   "source": [
    "And a dataset stored as binary arrays"
   ]
  },
  {
   "cell_type": "code",
   "execution_count": 12,
   "metadata": {
    "execution": {
     "iopub.execute_input": "2021-03-31T11:41:16.462251Z",
     "iopub.status.busy": "2021-03-31T11:41:16.461306Z",
     "iopub.status.idle": "2021-03-31T11:41:16.538340Z",
     "shell.execute_reply": "2021-03-31T11:41:16.538899Z"
    },
    "scrolled": true
   },
   "outputs": [
    {
     "data": {
      "text/plain": [
       "{'x1': {'x1': array([[0.75446656],\n",
       "         [0.75446656],\n",
       "         [0.61027463],\n",
       "         [0.61027463],\n",
       "         [0.69995099],\n",
       "         [0.69995099],\n",
       "         [0.1519943 ],\n",
       "         [0.1519943 ],\n",
       "         [0.54473156],\n",
       "         [0.54473156],\n",
       "         [0.1626569 ],\n",
       "         [0.1626569 ],\n",
       "         [0.9643464 ],\n",
       "         [0.9643464 ],\n",
       "         [0.52488201],\n",
       "         [0.52488201],\n",
       "         [0.09162308],\n",
       "         [0.09162308],\n",
       "         [0.13819613],\n",
       "         [0.13819613],\n",
       "         [0.25436492],\n",
       "         [0.25436492],\n",
       "         [0.59200279],\n",
       "         [0.59200279],\n",
       "         [0.15377156],\n",
       "         [0.15377156],\n",
       "         [0.78001946],\n",
       "         [0.78001946],\n",
       "         [0.89622067],\n",
       "         [0.89622067],\n",
       "         [0.03270206],\n",
       "         [0.03270206],\n",
       "         [0.56151514],\n",
       "         [0.56151514],\n",
       "         [0.44969918],\n",
       "         [0.44969918],\n",
       "         [0.63188538],\n",
       "         [0.63188538],\n",
       "         [0.73729253],\n",
       "         [0.73729253],\n",
       "         [0.34604418],\n",
       "         [0.34604418],\n",
       "         [0.31861705],\n",
       "         [0.31861705],\n",
       "         [0.38574089],\n",
       "         [0.38574089],\n",
       "         [0.56200537],\n",
       "         [0.56200537],\n",
       "         [0.18188529],\n",
       "         [0.18188529],\n",
       "         [0.78319046],\n",
       "         [0.78319046],\n",
       "         [0.53634505],\n",
       "         [0.53634505],\n",
       "         [0.3780733 ],\n",
       "         [0.3780733 ],\n",
       "         [0.24202776],\n",
       "         [0.24202776],\n",
       "         [0.81340523],\n",
       "         [0.81340523],\n",
       "         [0.27029572],\n",
       "         [0.27029572],\n",
       "         [0.85656511],\n",
       "         [0.85656511],\n",
       "         [0.45525289],\n",
       "         [0.45525289],\n",
       "         [0.68150609],\n",
       "         [0.68150609],\n",
       "         [0.69835121],\n",
       "         [0.69835121],\n",
       "         [0.068715  ],\n",
       "         [0.068715  ],\n",
       "         [0.55381417],\n",
       "         [0.55381417],\n",
       "         [0.8194149 ],\n",
       "         [0.8194149 ],\n",
       "         [0.86857079],\n",
       "         [0.86857079],\n",
       "         [0.7900877 ],\n",
       "         [0.7900877 ],\n",
       "         [0.1558844 ],\n",
       "         [0.1558844 ],\n",
       "         [0.69343485],\n",
       "         [0.69343485],\n",
       "         [0.01540963],\n",
       "         [0.01540963],\n",
       "         [0.0230613 ],\n",
       "         [0.0230613 ],\n",
       "         [0.21784446],\n",
       "         [0.21784446],\n",
       "         [0.66706021],\n",
       "         [0.66706021],\n",
       "         [0.89970218],\n",
       "         [0.89970218],\n",
       "         [0.21276707],\n",
       "         [0.21276707],\n",
       "         [0.50337325],\n",
       "         [0.50337325],\n",
       "         [0.95309668],\n",
       "         [0.95309668],\n",
       "         [0.42681817],\n",
       "         [0.42681817],\n",
       "         [0.0201862 ],\n",
       "         [0.0201862 ],\n",
       "         [0.45550331],\n",
       "         [0.45550331],\n",
       "         [0.60049284],\n",
       "         [0.60049284],\n",
       "         [0.18662357],\n",
       "         [0.18662357],\n",
       "         [0.15769126],\n",
       "         [0.15769126],\n",
       "         [0.01013642],\n",
       "         [0.01013642],\n",
       "         [0.36175815],\n",
       "         [0.36175815],\n",
       "         [0.54939643],\n",
       "         [0.54939643],\n",
       "         [0.65997951],\n",
       "         [0.65997951],\n",
       "         [0.72659434],\n",
       "         [0.72659434],\n",
       "         [0.45763996],\n",
       "         [0.45763996],\n",
       "         [0.1833639 ],\n",
       "         [0.1833639 ],\n",
       "         [0.84739033],\n",
       "         [0.84739033],\n",
       "         [0.09913007],\n",
       "         [0.09913007],\n",
       "         [0.90051351],\n",
       "         [0.90051351],\n",
       "         [0.06962081],\n",
       "         [0.06962081],\n",
       "         [0.32128073],\n",
       "         [0.32128073],\n",
       "         [0.77917355],\n",
       "         [0.77917355],\n",
       "         [0.8562739 ],\n",
       "         [0.8562739 ],\n",
       "         [0.62978448],\n",
       "         [0.62978448],\n",
       "         [0.21095224],\n",
       "         [0.21095224],\n",
       "         [0.820201  ],\n",
       "         [0.820201  ],\n",
       "         [0.21394038],\n",
       "         [0.21394038],\n",
       "         [0.47745043],\n",
       "         [0.47745043],\n",
       "         [0.39763945],\n",
       "         [0.39763945],\n",
       "         [0.9667738 ],\n",
       "         [0.9667738 ],\n",
       "         [0.60346148],\n",
       "         [0.60346148],\n",
       "         [0.75693939],\n",
       "         [0.75693939],\n",
       "         [0.30554426],\n",
       "         [0.30554426],\n",
       "         [0.61547105],\n",
       "         [0.61547105],\n",
       "         [0.2595319 ],\n",
       "         [0.2595319 ],\n",
       "         [0.71153909],\n",
       "         [0.71153909],\n",
       "         [0.77844245],\n",
       "         [0.77844245],\n",
       "         [0.16193767],\n",
       "         [0.16193767],\n",
       "         [0.47687369],\n",
       "         [0.47687369],\n",
       "         [0.8831446 ],\n",
       "         [0.8831446 ],\n",
       "         [0.93927542],\n",
       "         [0.93927542],\n",
       "         [0.89178382],\n",
       "         [0.89178382],\n",
       "         [0.36123489],\n",
       "         [0.36123489],\n",
       "         [0.2374706 ],\n",
       "         [0.2374706 ],\n",
       "         [0.60261707],\n",
       "         [0.60261707],\n",
       "         [0.51856415],\n",
       "         [0.51856415],\n",
       "         [0.31849556],\n",
       "         [0.31849556],\n",
       "         [0.84682639],\n",
       "         [0.84682639],\n",
       "         [0.45380109],\n",
       "         [0.45380109],\n",
       "         [0.58120176],\n",
       "         [0.58120176],\n",
       "         [0.30004265],\n",
       "         [0.30004265],\n",
       "         [0.67020435],\n",
       "         [0.67020435],\n",
       "         [0.69344749],\n",
       "         [0.69344749]])}}"
      ]
     },
     "execution_count": 1,
     "metadata": {},
     "output_type": "execute_result"
    }
   ],
   "source": [
    "ds = load_by_id(run_id_a)\n",
    "ds.get_parameter_data('x1')"
   ]
  },
  {
   "cell_type": "code",
   "execution_count": null,
   "metadata": {},
   "outputs": [],
   "source": []
  }
 ],
 "metadata": {
  "kernelspec": {
   "display_name": "Python 3",
   "language": "python",
   "name": "python3"
  },
  "language_info": {
   "codemirror_mode": {
    "name": "ipython",
    "version": 3
   },
   "file_extension": ".py",
   "mimetype": "text/x-python",
   "name": "python",
   "nbconvert_exporter": "python",
   "pygments_lexer": "ipython3",
   "version": "3.7.10"
  },
  "nbsphinx": {
   "timeout": 600
  },
  "toc": {
   "base_numbering": 1,
   "nav_menu": {},
   "number_sections": true,
   "sideBar": true,
   "skip_h1_title": false,
   "title_cell": "Table of Contents",
   "title_sidebar": "Contents",
   "toc_cell": false,
   "toc_position": {},
   "toc_section_display": true,
   "toc_window_display": false
  },
  "varInspector": {
   "cols": {
    "lenName": 16,
    "lenType": 16,
    "lenVar": 40
   },
   "kernels_config": {
    "python": {
     "delete_cmd_postfix": "",
     "delete_cmd_prefix": "del ",
     "library": "var_list.py",
     "varRefreshCmd": "print(var_dic_list())"
    },
    "r": {
     "delete_cmd_postfix": ") ",
     "delete_cmd_prefix": "rm(",
     "library": "var_list.r",
     "varRefreshCmd": "cat(var_dic_list()) "
    }
   },
   "types_to_exclude": [
    "module",
    "function",
    "builtin_function_or_method",
    "instance",
    "_Feature"
   ],
   "window_display": false
  }
 },
 "nbformat": 4,
 "nbformat_minor": 2
}
