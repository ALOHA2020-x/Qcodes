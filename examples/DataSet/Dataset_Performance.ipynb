{
 "cells": [
  {
   "cell_type": "markdown",
   "metadata": {},
   "source": [
    "# DataSet Performance\n",
    "\n",
    "This notebook shows the trade-off between inserting data into a database row-by-row and as binary blobs. Inserting the data row-by-row means that we have direct access to all the data and may perform queries directly on the values of the data. On the other hand, as we shall see, this is much slower than inserting the data directly as binary blobs."
   ]
  },
  {
   "cell_type": "markdown",
   "metadata": {},
   "source": [
    "First, we choose a new location for the database to ensure that we don't add a bunch of benchmarking data to the default one."
   ]
  },
  {
   "cell_type": "code",
   "execution_count": 1,
   "metadata": {
    "execution": {
     "iopub.execute_input": "2020-09-18T16:07:43.046262Z",
     "iopub.status.busy": "2020-09-18T16:07:43.045620Z",
     "iopub.status.idle": "2020-09-18T16:07:44.114338Z",
     "shell.execute_reply": "2020-09-18T16:07:44.114839Z"
    }
   },
   "outputs": [
    {
     "name": "stdout",
     "output_type": "stream",
     "text": [
      "Logging hadn't been started.\n",
      "Activating auto-logging. Current session state plus future input saved.\n",
      "Filename       : /home/vsts/.qcodes/logs/command_history.log\n",
      "Mode           : append\n",
      "Output logging : True\n",
      "Raw input log  : False\n",
      "Timestamping   : True\n",
      "State          : active\n"
     ]
    },
    {
     "name": "stdout",
     "output_type": "stream",
     "text": [
      "Qcodes Logfile : /home/vsts/.qcodes/logs/200918-18520-qcodes.log\n"
     ]
    }
   ],
   "source": [
    "import os\n",
    "cwd = os.getcwd()\n",
    "import qcodes as qc\n",
    "qc.config[\"core\"][\"db_location\"] = os.path.join(cwd, 'testing.db')\n"
   ]
  },
  {
   "cell_type": "code",
   "execution_count": 2,
   "metadata": {
    "execution": {
     "iopub.execute_input": "2020-09-18T16:07:44.122421Z",
     "iopub.status.busy": "2020-09-18T16:07:44.120745Z",
     "iopub.status.idle": "2020-09-18T16:07:44.303842Z",
     "shell.execute_reply": "2020-09-18T16:07:44.302605Z"
    }
   },
   "outputs": [],
   "source": [
    "%matplotlib inline\n",
    "import time\n",
    "import matplotlib.pyplot as plt\n",
    "import numpy as np\n",
    "\n",
    "import qcodes as qc\n",
    "from qcodes.instrument.parameter import ManualParameter\n",
    "from qcodes.dataset.experiment_container import (Experiment,\n",
    "                                                 load_last_experiment,\n",
    "                                                 new_experiment)\n",
    "from qcodes.dataset.sqlite.database import initialise_database\n",
    "from qcodes import load_or_create_experiment\n",
    "from qcodes.dataset.measurements import Measurement"
   ]
  },
  {
   "cell_type": "code",
   "execution_count": 3,
   "metadata": {
    "execution": {
     "iopub.execute_input": "2020-09-18T16:07:44.308297Z",
     "iopub.status.busy": "2020-09-18T16:07:44.307445Z",
     "iopub.status.idle": "2020-09-18T16:07:44.389145Z",
     "shell.execute_reply": "2020-09-18T16:07:44.388407Z"
    }
   },
   "outputs": [
    {
     "name": "stdout",
     "output_type": "stream",
     "text": [
      "\r",
      "0it [00:00, ?it/s]"
     ]
    },
    {
     "name": "stdout",
     "output_type": "stream",
     "text": [
      "\r",
      "Upgrading database; v0 -> v1: : 0it [00:00, ?it/s]"
     ]
    },
    {
     "name": "stdout",
     "output_type": "stream",
     "text": [
      "\r",
      "Upgrading database; v0 -> v1: : 0it [00:00, ?it/s]"
     ]
    },
    {
     "name": "stdout",
     "output_type": "stream",
     "text": [
      "\n",
      "\r",
      "  0%|          | 0/1 [00:00<?, ?it/s]"
     ]
    },
    {
     "name": "stdout",
     "output_type": "stream",
     "text": [
      "\r",
      "Upgrading database; v1 -> v2:   0%|          | 0/1 [00:00<?, ?it/s]"
     ]
    },
    {
     "name": "stdout",
     "output_type": "stream",
     "text": [
      "\r",
      "Upgrading database; v1 -> v2: 100%|██████████| 1/1 [00:00<00:00, 385.33it/s]"
     ]
    },
    {
     "name": "stdout",
     "output_type": "stream",
     "text": [
      "\n",
      "\r",
      "0it [00:00, ?it/s]"
     ]
    },
    {
     "name": "stdout",
     "output_type": "stream",
     "text": [
      "\r",
      "Upgrading database; v2 -> v3: : 0it [00:00, ?it/s]"
     ]
    },
    {
     "name": "stdout",
     "output_type": "stream",
     "text": [
      "\r",
      "Upgrading database; v2 -> v3: : 0it [00:00, ?it/s]"
     ]
    },
    {
     "name": "stdout",
     "output_type": "stream",
     "text": [
      "\n",
      "\r",
      "0it [00:00, ?it/s]"
     ]
    },
    {
     "name": "stdout",
     "output_type": "stream",
     "text": [
      "\r",
      "Upgrading database; v3 -> v4: : 0it [00:00, ?it/s]"
     ]
    },
    {
     "name": "stdout",
     "output_type": "stream",
     "text": [
      "\r",
      "Upgrading database; v3 -> v4: : 0it [00:00, ?it/s]"
     ]
    },
    {
     "name": "stdout",
     "output_type": "stream",
     "text": [
      "\n",
      "\r",
      "  0%|          | 0/1 [00:00<?, ?it/s]"
     ]
    },
    {
     "name": "stdout",
     "output_type": "stream",
     "text": [
      "\r",
      "Upgrading database; v4 -> v5:   0%|          | 0/1 [00:00<?, ?it/s]"
     ]
    },
    {
     "name": "stdout",
     "output_type": "stream",
     "text": [
      "\r",
      "Upgrading database; v4 -> v5: 100%|██████████| 1/1 [00:00<00:00, 365.33it/s]"
     ]
    },
    {
     "name": "stdout",
     "output_type": "stream",
     "text": [
      "\n",
      "\r",
      "0it [00:00, ?it/s]"
     ]
    },
    {
     "name": "stdout",
     "output_type": "stream",
     "text": [
      "\r",
      "Upgrading database; v5 -> v6: : 0it [00:00, ?it/s]"
     ]
    },
    {
     "name": "stdout",
     "output_type": "stream",
     "text": [
      "\r",
      "Upgrading database; v5 -> v6: : 0it [00:00, ?it/s]"
     ]
    },
    {
     "name": "stdout",
     "output_type": "stream",
     "text": [
      "\n",
      "\r",
      "  0%|          | 0/1 [00:00<?, ?it/s]"
     ]
    },
    {
     "name": "stdout",
     "output_type": "stream",
     "text": [
      "\r",
      "Upgrading database; v6 -> v7:   0%|          | 0/1 [00:00<?, ?it/s]"
     ]
    },
    {
     "name": "stdout",
     "output_type": "stream",
     "text": [
      "\r",
      "Upgrading database; v6 -> v7: 100%|██████████| 1/1 [00:00<00:00, 299.89it/s]"
     ]
    },
    {
     "name": "stdout",
     "output_type": "stream",
     "text": [
      "\n",
      "\r",
      "  0%|          | 0/1 [00:00<?, ?it/s]"
     ]
    },
    {
     "name": "stdout",
     "output_type": "stream",
     "text": [
      "\r",
      "Upgrading database; v7 -> v8:   0%|          | 0/1 [00:00<?, ?it/s]"
     ]
    },
    {
     "name": "stdout",
     "output_type": "stream",
     "text": [
      "\r",
      "Upgrading database; v7 -> v8: 100%|██████████| 1/1 [00:00<00:00, 574.72it/s]"
     ]
    },
    {
     "name": "stdout",
     "output_type": "stream",
     "text": [
      "\n",
      "\r",
      "  0%|          | 0/1 [00:00<?, ?it/s]"
     ]
    },
    {
     "name": "stdout",
     "output_type": "stream",
     "text": [
      "\r",
      "Upgrading database; v8 -> v9:   0%|          | 0/1 [00:00<?, ?it/s]"
     ]
    },
    {
     "name": "stdout",
     "output_type": "stream",
     "text": [
      "\r",
      "Upgrading database; v8 -> v9: 100%|██████████| 1/1 [00:00<00:00, 394.39it/s]"
     ]
    },
    {
     "name": "stdout",
     "output_type": "stream",
     "text": [
      "\n"
     ]
    }
   ],
   "source": [
    "initialise_database()\n",
    "exp = load_or_create_experiment(experiment_name='tutorial_exp', sample_name=\"no sample\")"
   ]
  },
  {
   "cell_type": "markdown",
   "metadata": {},
   "source": [
    "Here, we define a simple function to benchmark the time it takes to insert n points with either numeric or array data type.\n",
    "We will compare both the time used to call ``add_result`` and the time used for the full measurement."
   ]
  },
  {
   "cell_type": "code",
   "execution_count": 4,
   "metadata": {
    "execution": {
     "iopub.execute_input": "2020-09-18T16:07:44.397966Z",
     "iopub.status.busy": "2020-09-18T16:07:44.397380Z",
     "iopub.status.idle": "2020-09-18T16:07:44.401192Z",
     "shell.execute_reply": "2020-09-18T16:07:44.400591Z"
    }
   },
   "outputs": [],
   "source": [
    "def insert_data(paramtype, npoints, nreps=1):\n",
    "\n",
    "    meas = Measurement(exp=exp)\n",
    "\n",
    "    x1 = ManualParameter('x1')\n",
    "    x2 = ManualParameter('x2')\n",
    "    x3 = ManualParameter('x3')\n",
    "    y1 = ManualParameter('y1')\n",
    "    y2 = ManualParameter('y2')\n",
    "\n",
    "    meas.register_parameter(x1, paramtype=paramtype)\n",
    "    meas.register_parameter(x2, paramtype=paramtype)\n",
    "    meas.register_parameter(x3, paramtype=paramtype)\n",
    "    meas.register_parameter(y1, setpoints=[x1, x2, x3],\n",
    "                            paramtype=paramtype)\n",
    "    meas.register_parameter(y2, setpoints=[x1, x2, x3],\n",
    "                            paramtype=paramtype)\n",
    "    start = time.perf_counter()\n",
    "    with meas.run() as datasaver:\n",
    "        start_adding = time.perf_counter()\n",
    "        for i in range(nreps):\n",
    "            datasaver.add_result((x1, np.random.rand(npoints)),\n",
    "                                 (x2, np.random.rand(npoints)),\n",
    "                                 (x3, np.random.rand(npoints)),\n",
    "                                 (y1, np.random.rand(npoints)),\n",
    "                                 (y2, np.random.rand(npoints)))\n",
    "        stop_adding = time.perf_counter()\n",
    "        run_id = datasaver.run_id\n",
    "    stop = time.perf_counter()\n",
    "    tot_time = stop - start\n",
    "    add_time = stop_adding - start_adding\n",
    "    return tot_time, add_time, run_id"
   ]
  },
  {
   "cell_type": "markdown",
   "metadata": {},
   "source": [
    "## Comparison between numeric/array data and binary blob"
   ]
  },
  {
   "cell_type": "markdown",
   "metadata": {},
   "source": [
    "### Case1: Short experiment time"
   ]
  },
  {
   "cell_type": "code",
   "execution_count": 5,
   "metadata": {
    "execution": {
     "iopub.execute_input": "2020-09-18T16:07:44.407533Z",
     "iopub.status.busy": "2020-09-18T16:07:44.406405Z",
     "iopub.status.idle": "2020-09-18T16:07:45.281347Z",
     "shell.execute_reply": "2020-09-18T16:07:45.281881Z"
    }
   },
   "outputs": [
    {
     "name": "stdout",
     "output_type": "stream",
     "text": [
      "Starting experimental run with id: 1. \n",
      "Starting experimental run with id: 2. \n",
      "Starting experimental run with id: 3. \n"
     ]
    },
    {
     "name": "stdout",
     "output_type": "stream",
     "text": [
      "Starting experimental run with id: 4. \n"
     ]
    },
    {
     "name": "stdout",
     "output_type": "stream",
     "text": [
      "Starting experimental run with id: 5. \n"
     ]
    },
    {
     "name": "stdout",
     "output_type": "stream",
     "text": [
      "Starting experimental run with id: 6. \n",
      "Starting experimental run with id: 7. \n"
     ]
    },
    {
     "name": "stdout",
     "output_type": "stream",
     "text": [
      "Starting experimental run with id: 8. \n",
      "Starting experimental run with id: 9. \n"
     ]
    },
    {
     "name": "stdout",
     "output_type": "stream",
     "text": [
      "Starting experimental run with id: 10. \n",
      "Starting experimental run with id: 11. \n"
     ]
    },
    {
     "name": "stdout",
     "output_type": "stream",
     "text": [
      "Starting experimental run with id: 12. \n",
      "Starting experimental run with id: 13. \n"
     ]
    },
    {
     "name": "stdout",
     "output_type": "stream",
     "text": [
      "Starting experimental run with id: 14. \n"
     ]
    }
   ],
   "source": [
    "sizes = [1,500,1000,2000,3000,4000,5000]\n",
    "t_numeric = []\n",
    "t_numeric_add = []\n",
    "t_array = []\n",
    "t_array_add = []\n",
    "for size in sizes:\n",
    "    tn, tna, run_id_n =  insert_data('numeric', size)\n",
    "    t_numeric.append(tn)\n",
    "    t_numeric_add.append(tna)\n",
    "\n",
    "    ta, taa, run_id_a =  insert_data('array', size)\n",
    "    t_array.append(ta)\n",
    "    t_array_add.append(taa)"
   ]
  },
  {
   "cell_type": "code",
   "execution_count": 6,
   "metadata": {
    "execution": {
     "iopub.execute_input": "2020-09-18T16:07:45.287757Z",
     "iopub.status.busy": "2020-09-18T16:07:45.287096Z",
     "iopub.status.idle": "2020-09-18T16:07:45.525331Z",
     "shell.execute_reply": "2020-09-18T16:07:45.525932Z"
    }
   },
   "outputs": [
    {
     "data": {
      "image/png": "[encoded data removed]",
      "text/plain": [
       "<Figure size 432x288 with 1 Axes>"
      ]
     },
     "metadata": {
      "needs_background": "light"
     },
     "output_type": "display_data"
    }
   ],
   "source": [
    "fig, ax = plt.subplots(1,1)\n",
    "ax.plot(sizes, t_numeric, 'o-', label='Inserting row-by-row')\n",
    "ax.plot(sizes, t_numeric_add, 'o-', label='Inserting row-by-row: add_result only')\n",
    "ax.plot(sizes, t_array, 'd-', label='Inserting as binary blob')\n",
    "ax.plot(sizes, t_array_add, 'd-', label='Inserting as binary blob: add_result only')\n",
    "ax.legend()\n",
    "ax.set_xlabel('Array length')\n",
    "ax.set_ylabel('Time (s)')\n",
    "fig.tight_layout()"
   ]
  },
  {
   "cell_type": "markdown",
   "metadata": {},
   "source": [
    "As shown in the latter figure, the time to setup and and close the experiment is approximately 0.4 sec. In case of small array sizes, the difference between inserting values of data as arrays and inserting them row-by-row is relatively unimportant. At larger array sizes, i.e. above 10000 points, the cost of writing data as individual datapoints starts to become important.\n"
   ]
  },
  {
   "cell_type": "markdown",
   "metadata": {},
   "source": [
    "### Case2: Long experiment time "
   ]
  },
  {
   "cell_type": "code",
   "execution_count": 7,
   "metadata": {
    "execution": {
     "iopub.execute_input": "2020-09-18T16:07:45.533786Z",
     "iopub.status.busy": "2020-09-18T16:07:45.533023Z",
     "iopub.status.idle": "2020-09-18T16:08:44.949504Z",
     "shell.execute_reply": "2020-09-18T16:08:44.950088Z"
    }
   },
   "outputs": [
    {
     "name": "stdout",
     "output_type": "stream",
     "text": [
      "Starting experimental run with id: 15. \n",
      "Starting experimental run with id: 16. \n",
      "Starting experimental run with id: 17. \n"
     ]
    },
    {
     "name": "stdout",
     "output_type": "stream",
     "text": [
      "Starting experimental run with id: 18. \n",
      "Starting experimental run with id: 19. \n"
     ]
    },
    {
     "name": "stdout",
     "output_type": "stream",
     "text": [
      "Starting experimental run with id: 20. \n"
     ]
    },
    {
     "name": "stdout",
     "output_type": "stream",
     "text": [
      "Starting experimental run with id: 21. \n"
     ]
    },
    {
     "name": "stdout",
     "output_type": "stream",
     "text": [
      "Starting experimental run with id: 22. \n"
     ]
    },
    {
     "name": "stdout",
     "output_type": "stream",
     "text": [
      "Starting experimental run with id: 23. \n"
     ]
    },
    {
     "name": "stdout",
     "output_type": "stream",
     "text": [
      "Starting experimental run with id: 24. \n"
     ]
    },
    {
     "name": "stdout",
     "output_type": "stream",
     "text": [
      "Starting experimental run with id: 25. \n"
     ]
    },
    {
     "name": "stdout",
     "output_type": "stream",
     "text": [
      "Starting experimental run with id: 26. \n"
     ]
    },
    {
     "name": "stdout",
     "output_type": "stream",
     "text": [
      "Starting experimental run with id: 27. \n"
     ]
    },
    {
     "name": "stdout",
     "output_type": "stream",
     "text": [
      "Starting experimental run with id: 28. \n"
     ]
    }
   ],
   "source": [
    "sizes = [1,500,1000,2000,3000,4000,5000]\n",
    "nreps = 100\n",
    "t_numeric = []\n",
    "t_numeric_add = []\n",
    "t_numeric_run_ids = []\n",
    "t_array = []\n",
    "t_array_add = []\n",
    "t_array_run_ids = []\n",
    "for size in sizes:\n",
    "    tn, tna, run_id_n =  insert_data('numeric', size, nreps=nreps)\n",
    "    t_numeric.append(tn)\n",
    "    t_numeric_add.append(tna)\n",
    "    t_numeric_run_ids.append(run_id_n)\n",
    "\n",
    "    ta, taa, run_id_a =  insert_data('array', size, nreps=nreps)\n",
    "    t_array.append(ta)\n",
    "    t_array_add.append(taa)\n",
    "    t_array_run_ids.append(run_id_a)"
   ]
  },
  {
   "cell_type": "code",
   "execution_count": 8,
   "metadata": {
    "execution": {
     "iopub.execute_input": "2020-09-18T16:08:44.965193Z",
     "iopub.status.busy": "2020-09-18T16:08:44.955545Z",
     "iopub.status.idle": "2020-09-18T16:08:45.198703Z",
     "shell.execute_reply": "2020-09-18T16:08:45.199229Z"
    },
    "scrolled": true
   },
   "outputs": [
    {
     "data": {
      "image/png": "[encoded data removed]",
      "text/plain": [
       "<Figure size 432x288 with 1 Axes>"
      ]
     },
     "metadata": {
      "needs_background": "light"
     },
     "output_type": "display_data"
    }
   ],
   "source": [
    "fig, ax = plt.subplots(1,1)\n",
    "ax.plot(sizes, t_numeric, 'o-', label='Inserting row-by-row')\n",
    "ax.plot(sizes, t_numeric_add, 'o-', label='Inserting row-by-row: add_result only')\n",
    "ax.plot(sizes, t_array, 'd-', label='Inserting as binary blob')\n",
    "ax.plot(sizes, t_array_add, 'd-', label='Inserting as binary blob: add_result only')\n",
    "ax.legend()\n",
    "ax.set_xlabel('Array length')\n",
    "ax.set_ylabel('Time (s)')\n",
    "fig.tight_layout()"
   ]
  },
  {
   "cell_type": "markdown",
   "metadata": {},
   "source": [
    "However, as we increase the length of the experiment, as seen here by repeating the insertion 100 times, we see a big difference between inserting values of the data row-by-row and inserting it as a binary blob."
   ]
  },
  {
   "cell_type": "markdown",
   "metadata": {},
   "source": [
    "## Loading the data "
   ]
  },
  {
   "cell_type": "code",
   "execution_count": 9,
   "metadata": {
    "execution": {
     "iopub.execute_input": "2020-09-18T16:08:45.203845Z",
     "iopub.status.busy": "2020-09-18T16:08:45.203221Z",
     "iopub.status.idle": "2020-09-18T16:08:45.206014Z",
     "shell.execute_reply": "2020-09-18T16:08:45.205564Z"
    }
   },
   "outputs": [],
   "source": [
    "from qcodes.dataset.data_set import load_by_id\n",
    "from qcodes.dataset.data_export import get_data_by_id"
   ]
  },
  {
   "cell_type": "markdown",
   "metadata": {},
   "source": [
    "As usual you can load the data by using the ``load_by_id`` function but you will notice that the different storage methods\n",
    "are reflected in shape of the data as it is retrieved. "
   ]
  },
  {
   "cell_type": "code",
   "execution_count": 10,
   "metadata": {
    "execution": {
     "iopub.execute_input": "2020-09-18T16:08:45.210811Z",
     "iopub.status.busy": "2020-09-18T16:08:45.209647Z",
     "iopub.status.idle": "2020-09-18T16:08:45.211407Z",
     "shell.execute_reply": "2020-09-18T16:08:45.211920Z"
    }
   },
   "outputs": [],
   "source": [
    "run_id_n = t_numeric_run_ids[0]\n",
    "run_id_a = t_array_run_ids[0]"
   ]
  },
  {
   "cell_type": "code",
   "execution_count": 11,
   "metadata": {
    "execution": {
     "iopub.execute_input": "2020-09-18T16:08:45.215515Z",
     "iopub.status.busy": "2020-09-18T16:08:45.214954Z",
     "iopub.status.idle": "2020-09-18T16:08:45.224344Z",
     "shell.execute_reply": "2020-09-18T16:08:45.224796Z"
    },
    "scrolled": true
   },
   "outputs": [
    {
     "data": {
      "text/plain": [
       "{'x1': {'x1': array([0.74258107, 0.74258107, 0.52201917, 0.52201917, 0.98478615,\n",
       "         0.98478615, 0.23670059, 0.23670059, 0.19851057, 0.19851057,\n",
       "         0.99932543, 0.99932543, 0.8059804 , 0.8059804 , 0.07163213,\n",
       "         0.07163213, 0.86614111, 0.86614111, 0.0139697 , 0.0139697 ,\n",
       "         0.93455186, 0.93455186, 0.63086246, 0.63086246, 0.32022765,\n",
       "         0.32022765, 0.41904734, 0.41904734, 0.17682414, 0.17682414,\n",
       "         0.20978219, 0.20978219, 0.61898506, 0.61898506, 0.7662639 ,\n",
       "         0.7662639 , 0.55035452, 0.55035452, 0.90966427, 0.90966427,\n",
       "         0.02231883, 0.02231883, 0.74145513, 0.74145513, 0.80630674,\n",
       "         0.80630674, 0.61902022, 0.61902022, 0.715174  , 0.715174  ,\n",
       "         0.8225194 , 0.8225194 , 0.60438836, 0.60438836, 0.38203791,\n",
       "         0.38203791, 0.01574319, 0.01574319, 0.98344119, 0.98344119,\n",
       "         0.65187077, 0.65187077, 0.51912303, 0.51912303, 0.45739865,\n",
       "         0.45739865, 0.59500002, 0.59500002, 0.55268815, 0.55268815,\n",
       "         0.09875581, 0.09875581, 0.23873737, 0.23873737, 0.62251613,\n",
       "         0.62251613, 0.94298187, 0.94298187, 0.38167427, 0.38167427,\n",
       "         0.37027608, 0.37027608, 0.06329347, 0.06329347, 0.70021083,\n",
       "         0.70021083, 0.80221673, 0.80221673, 0.10000883, 0.10000883,\n",
       "         0.23419954, 0.23419954, 0.50525974, 0.50525974, 0.84931406,\n",
       "         0.84931406, 0.96335699, 0.96335699, 0.24807007, 0.24807007,\n",
       "         0.19127618, 0.19127618, 0.7818789 , 0.7818789 , 0.35888782,\n",
       "         0.35888782, 0.36962358, 0.36962358, 0.65533364, 0.65533364,\n",
       "         0.09836239, 0.09836239, 0.57704661, 0.57704661, 0.23124634,\n",
       "         0.23124634, 0.45685243, 0.45685243, 0.6495528 , 0.6495528 ,\n",
       "         0.32652   , 0.32652   , 0.92050545, 0.92050545, 0.6614364 ,\n",
       "         0.6614364 , 0.04911975, 0.04911975, 0.22435781, 0.22435781,\n",
       "         0.33189601, 0.33189601, 0.00361732, 0.00361732, 0.01768933,\n",
       "         0.01768933, 0.96754622, 0.96754622, 0.03052564, 0.03052564,\n",
       "         0.76899258, 0.76899258, 0.20984651, 0.20984651, 0.87324029,\n",
       "         0.87324029, 0.34209905, 0.34209905, 0.21319703, 0.21319703,\n",
       "         0.07020166, 0.07020166, 0.74741285, 0.74741285, 0.33336885,\n",
       "         0.33336885, 0.91434769, 0.91434769, 0.2565077 , 0.2565077 ,\n",
       "         0.05022728, 0.05022728, 0.8300174 , 0.8300174 , 0.45152678,\n",
       "         0.45152678, 0.36450616, 0.36450616, 0.91187209, 0.91187209,\n",
       "         0.46094519, 0.46094519, 0.60992334, 0.60992334, 0.20874314,\n",
       "         0.20874314, 0.40244925, 0.40244925, 0.86058201, 0.86058201,\n",
       "         0.06396506, 0.06396506, 0.98742205, 0.98742205, 0.80419941,\n",
       "         0.80419941, 0.46829213, 0.46829213, 0.8817204 , 0.8817204 ,\n",
       "         0.62723573, 0.62723573, 0.56570708, 0.56570708, 0.16811397,\n",
       "         0.16811397, 0.99448155, 0.99448155, 0.53488274, 0.53488274])}}"
      ]
     },
     "execution_count": 1,
     "metadata": {},
     "output_type": "execute_result"
    }
   ],
   "source": [
    "ds = load_by_id(run_id_n)\n",
    "ds.get_parameter_data('x1')"
   ]
  },
  {
   "cell_type": "markdown",
   "metadata": {},
   "source": [
    "And a dataset stored as binary arrays"
   ]
  },
  {
   "cell_type": "code",
   "execution_count": 12,
   "metadata": {
    "execution": {
     "iopub.execute_input": "2020-09-18T16:08:45.228312Z",
     "iopub.status.busy": "2020-09-18T16:08:45.227670Z",
     "iopub.status.idle": "2020-09-18T16:08:45.288220Z",
     "shell.execute_reply": "2020-09-18T16:08:45.288992Z"
    },
    "scrolled": true
   },
   "outputs": [
    {
     "data": {
      "text/plain": [
       "{'x1': {'x1': array([[0.31737856],\n",
       "         [0.31737856],\n",
       "         [0.70179479],\n",
       "         [0.70179479],\n",
       "         [0.71299404],\n",
       "         [0.71299404],\n",
       "         [0.76512944],\n",
       "         [0.76512944],\n",
       "         [0.94738602],\n",
       "         [0.94738602],\n",
       "         [0.70657912],\n",
       "         [0.70657912],\n",
       "         [0.3528636 ],\n",
       "         [0.3528636 ],\n",
       "         [0.30471824],\n",
       "         [0.30471824],\n",
       "         [0.38020161],\n",
       "         [0.38020161],\n",
       "         [0.49049064],\n",
       "         [0.49049064],\n",
       "         [0.49866136],\n",
       "         [0.49866136],\n",
       "         [0.2424292 ],\n",
       "         [0.2424292 ],\n",
       "         [0.47112417],\n",
       "         [0.47112417],\n",
       "         [0.63768   ],\n",
       "         [0.63768   ],\n",
       "         [0.68037445],\n",
       "         [0.68037445],\n",
       "         [0.83033126],\n",
       "         [0.83033126],\n",
       "         [0.37532053],\n",
       "         [0.37532053],\n",
       "         [0.04828783],\n",
       "         [0.04828783],\n",
       "         [0.43507988],\n",
       "         [0.43507988],\n",
       "         [0.46991119],\n",
       "         [0.46991119],\n",
       "         [0.22143557],\n",
       "         [0.22143557],\n",
       "         [0.06793399],\n",
       "         [0.06793399],\n",
       "         [0.67036542],\n",
       "         [0.67036542],\n",
       "         [0.45256894],\n",
       "         [0.45256894],\n",
       "         [0.80532308],\n",
       "         [0.80532308],\n",
       "         [0.33683017],\n",
       "         [0.33683017],\n",
       "         [0.16683214],\n",
       "         [0.16683214],\n",
       "         [0.59921064],\n",
       "         [0.59921064],\n",
       "         [0.22236293],\n",
       "         [0.22236293],\n",
       "         [0.37904034],\n",
       "         [0.37904034],\n",
       "         [0.68746875],\n",
       "         [0.68746875],\n",
       "         [0.04040529],\n",
       "         [0.04040529],\n",
       "         [0.57096481],\n",
       "         [0.57096481],\n",
       "         [0.67864628],\n",
       "         [0.67864628],\n",
       "         [0.40293206],\n",
       "         [0.40293206],\n",
       "         [0.94372438],\n",
       "         [0.94372438],\n",
       "         [0.11990662],\n",
       "         [0.11990662],\n",
       "         [0.38669864],\n",
       "         [0.38669864],\n",
       "         [0.4461867 ],\n",
       "         [0.4461867 ],\n",
       "         [0.53490837],\n",
       "         [0.53490837],\n",
       "         [0.86236273],\n",
       "         [0.86236273],\n",
       "         [0.75278332],\n",
       "         [0.75278332],\n",
       "         [0.37948245],\n",
       "         [0.37948245],\n",
       "         [0.31868703],\n",
       "         [0.31868703],\n",
       "         [0.27207916],\n",
       "         [0.27207916],\n",
       "         [0.0144236 ],\n",
       "         [0.0144236 ],\n",
       "         [0.50800788],\n",
       "         [0.50800788],\n",
       "         [0.36758808],\n",
       "         [0.36758808],\n",
       "         [0.84340974],\n",
       "         [0.84340974],\n",
       "         [0.32358825],\n",
       "         [0.32358825],\n",
       "         [0.387395  ],\n",
       "         [0.387395  ],\n",
       "         [0.34956114],\n",
       "         [0.34956114],\n",
       "         [0.16973896],\n",
       "         [0.16973896],\n",
       "         [0.24735703],\n",
       "         [0.24735703],\n",
       "         [0.03658879],\n",
       "         [0.03658879],\n",
       "         [0.88523254],\n",
       "         [0.88523254],\n",
       "         [0.45785386],\n",
       "         [0.45785386],\n",
       "         [0.67235135],\n",
       "         [0.67235135],\n",
       "         [0.67129308],\n",
       "         [0.67129308],\n",
       "         [0.23386822],\n",
       "         [0.23386822],\n",
       "         [0.52709152],\n",
       "         [0.52709152],\n",
       "         [0.42971151],\n",
       "         [0.42971151],\n",
       "         [0.63100584],\n",
       "         [0.63100584],\n",
       "         [0.65492427],\n",
       "         [0.65492427],\n",
       "         [0.32376825],\n",
       "         [0.32376825],\n",
       "         [0.9951576 ],\n",
       "         [0.9951576 ],\n",
       "         [0.3979991 ],\n",
       "         [0.3979991 ],\n",
       "         [0.0667261 ],\n",
       "         [0.0667261 ],\n",
       "         [0.02968861],\n",
       "         [0.02968861],\n",
       "         [0.87953042],\n",
       "         [0.87953042],\n",
       "         [0.71757334],\n",
       "         [0.71757334],\n",
       "         [0.50105731],\n",
       "         [0.50105731],\n",
       "         [0.99988201],\n",
       "         [0.99988201],\n",
       "         [0.1848094 ],\n",
       "         [0.1848094 ],\n",
       "         [0.30592069],\n",
       "         [0.30592069],\n",
       "         [0.21937759],\n",
       "         [0.21937759],\n",
       "         [0.78348873],\n",
       "         [0.78348873],\n",
       "         [0.77127343],\n",
       "         [0.77127343],\n",
       "         [0.26133505],\n",
       "         [0.26133505],\n",
       "         [0.95342522],\n",
       "         [0.95342522],\n",
       "         [0.67004851],\n",
       "         [0.67004851],\n",
       "         [0.73018109],\n",
       "         [0.73018109],\n",
       "         [0.82071677],\n",
       "         [0.82071677],\n",
       "         [0.10828496],\n",
       "         [0.10828496],\n",
       "         [0.00753316],\n",
       "         [0.00753316],\n",
       "         [0.8217405 ],\n",
       "         [0.8217405 ],\n",
       "         [0.35082825],\n",
       "         [0.35082825],\n",
       "         [0.2947282 ],\n",
       "         [0.2947282 ],\n",
       "         [0.35399637],\n",
       "         [0.35399637],\n",
       "         [0.64955304],\n",
       "         [0.64955304],\n",
       "         [0.12089003],\n",
       "         [0.12089003],\n",
       "         [0.65440635],\n",
       "         [0.65440635],\n",
       "         [0.77514092],\n",
       "         [0.77514092],\n",
       "         [0.03041768],\n",
       "         [0.03041768],\n",
       "         [0.6291078 ],\n",
       "         [0.6291078 ],\n",
       "         [0.85770271],\n",
       "         [0.85770271],\n",
       "         [0.84505184],\n",
       "         [0.84505184],\n",
       "         [0.21649549],\n",
       "         [0.21649549],\n",
       "         [0.81209701],\n",
       "         [0.81209701],\n",
       "         [0.64939722],\n",
       "         [0.64939722]])}}"
      ]
     },
     "execution_count": 1,
     "metadata": {},
     "output_type": "execute_result"
    }
   ],
   "source": [
    "ds = load_by_id(run_id_a)\n",
    "ds.get_parameter_data('x1')"
   ]
  },
  {
   "cell_type": "code",
   "execution_count": null,
   "metadata": {},
   "outputs": [],
   "source": []
  }
 ],
 "metadata": {
  "kernelspec": {
   "display_name": "Python 3",
   "language": "python",
   "name": "python3"
  },
  "language_info": {
   "codemirror_mode": {
    "name": "ipython",
    "version": 3
   },
   "file_extension": ".py",
   "mimetype": "text/x-python",
   "name": "python",
   "nbconvert_exporter": "python",
   "pygments_lexer": "ipython3",
   "version": "3.7.7"
  },
  "nbsphinx": {
   "timeout": 600
  },
  "toc": {
   "base_numbering": 1,
   "nav_menu": {},
   "number_sections": true,
   "sideBar": true,
   "skip_h1_title": false,
   "title_cell": "Table of Contents",
   "title_sidebar": "Contents",
   "toc_cell": false,
   "toc_position": {},
   "toc_section_display": true,
   "toc_window_display": false
  },
  "varInspector": {
   "cols": {
    "lenName": 16,
    "lenType": 16,
    "lenVar": 40
   },
   "kernels_config": {
    "python": {
     "delete_cmd_postfix": "",
     "delete_cmd_prefix": "del ",
     "library": "var_list.py",
     "varRefreshCmd": "print(var_dic_list())"
    },
    "r": {
     "delete_cmd_postfix": ") ",
     "delete_cmd_prefix": "rm(",
     "library": "var_list.r",
     "varRefreshCmd": "cat(var_dic_list()) "
    }
   },
   "types_to_exclude": [
    "module",
    "function",
    "builtin_function_or_method",
    "instance",
    "_Feature"
   ],
   "window_display": false
  }
 },
 "nbformat": 4,
 "nbformat_minor": 2
}
