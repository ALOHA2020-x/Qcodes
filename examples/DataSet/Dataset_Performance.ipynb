{
 "cells": [
  {
   "cell_type": "markdown",
   "metadata": {},
   "source": [
    "# DataSet Performance\n",
    "\n",
    "This notebook shows the trade-off between inserting data into a database row-by-row and as binary blobs. Inserting the data row-by-row means that we have direct access to all the data and may perform queries directly on the values of the data. On the other hand, as we shall see, this is much slower than inserting the data directly as binary blobs."
   ]
  },
  {
   "cell_type": "markdown",
   "metadata": {},
   "source": [
    "First, we choose a new location for the database to ensure that we don't add a bunch of benchmarking data to the default one."
   ]
  },
  {
   "cell_type": "code",
   "execution_count": 1,
   "metadata": {
    "execution": {
     "iopub.execute_input": "2021-05-12T10:27:53.510092Z",
     "iopub.status.busy": "2021-05-12T10:27:53.509362Z",
     "iopub.status.idle": "2021-05-12T10:27:54.784446Z",
     "shell.execute_reply": "2021-05-12T10:27:54.783328Z"
    }
   },
   "outputs": [
    {
     "name": "stdout",
     "output_type": "stream",
     "text": [
      "Logging hadn't been started.\n",
      "Activating auto-logging. Current session state plus future input saved.\n",
      "Filename       : /home/runner/.qcodes/logs/command_history.log\n",
      "Mode           : append\n",
      "Output logging : True\n",
      "Raw input log  : False\n",
      "Timestamping   : True\n",
      "State          : active\n"
     ]
    },
    {
     "name": "stdout",
     "output_type": "stream",
     "text": [
      "Qcodes Logfile : /home/runner/.qcodes/logs/210512-4696-qcodes.log\n"
     ]
    }
   ],
   "source": [
    "import os\n",
    "cwd = os.getcwd()\n",
    "import qcodes as qc\n",
    "qc.config[\"core\"][\"db_location\"] = os.path.join(cwd, 'testing.db')\n"
   ]
  },
  {
   "cell_type": "code",
   "execution_count": 2,
   "metadata": {
    "execution": {
     "iopub.execute_input": "2021-05-12T10:27:54.791901Z",
     "iopub.status.busy": "2021-05-12T10:27:54.791218Z",
     "iopub.status.idle": "2021-05-12T10:27:55.006193Z",
     "shell.execute_reply": "2021-05-12T10:27:55.007083Z"
    }
   },
   "outputs": [],
   "source": [
    "%matplotlib inline\n",
    "import time\n",
    "import matplotlib.pyplot as plt\n",
    "import numpy as np\n",
    "\n",
    "import qcodes as qc\n",
    "from qcodes.instrument.parameter import ManualParameter\n",
    "from qcodes.dataset.experiment_container import (Experiment,\n",
    "                                                 load_last_experiment,\n",
    "                                                 new_experiment)\n",
    "from qcodes.dataset.sqlite.database import initialise_database\n",
    "from qcodes import load_or_create_experiment\n",
    "from qcodes.dataset.measurements import Measurement"
   ]
  },
  {
   "cell_type": "code",
   "execution_count": 3,
   "metadata": {
    "execution": {
     "iopub.execute_input": "2021-05-12T10:27:55.011798Z",
     "iopub.status.busy": "2021-05-12T10:27:55.011060Z",
     "iopub.status.idle": "2021-05-12T10:27:55.100953Z",
     "shell.execute_reply": "2021-05-12T10:27:55.100496Z"
    }
   },
   "outputs": [
    {
     "name": "stdout",
     "output_type": "stream",
     "text": [
      "\r",
      "0it [00:00, ?it/s]"
     ]
    },
    {
     "name": "stdout",
     "output_type": "stream",
     "text": [
      "\r",
      "Upgrading database; v0 -> v1: : 0it [00:00, ?it/s]"
     ]
    },
    {
     "name": "stdout",
     "output_type": "stream",
     "text": [
      "\r",
      "Upgrading database; v0 -> v1: : 0it [00:00, ?it/s]"
     ]
    },
    {
     "name": "stdout",
     "output_type": "stream",
     "text": [
      "\n",
      "\r",
      "  0%|          | 0/1 [00:00<?, ?it/s]"
     ]
    },
    {
     "name": "stdout",
     "output_type": "stream",
     "text": [
      "\r",
      "Upgrading database; v1 -> v2:   0%|          | 0/1 [00:00<?, ?it/s]"
     ]
    },
    {
     "name": "stdout",
     "output_type": "stream",
     "text": [
      "\r",
      "Upgrading database; v1 -> v2: 100%|██████████| 1/1 [00:00<00:00, 468.32it/s]"
     ]
    },
    {
     "name": "stdout",
     "output_type": "stream",
     "text": [
      "\n",
      "\r",
      "0it [00:00, ?it/s]"
     ]
    },
    {
     "name": "stdout",
     "output_type": "stream",
     "text": [
      "\r",
      "Upgrading database; v2 -> v3: : 0it [00:00, ?it/s]"
     ]
    },
    {
     "name": "stdout",
     "output_type": "stream",
     "text": [
      "\r",
      "Upgrading database; v2 -> v3: : 0it [00:00, ?it/s]"
     ]
    },
    {
     "name": "stdout",
     "output_type": "stream",
     "text": [
      "\n",
      "\r",
      "0it [00:00, ?it/s]"
     ]
    },
    {
     "name": "stdout",
     "output_type": "stream",
     "text": [
      "\r",
      "Upgrading database; v3 -> v4: : 0it [00:00, ?it/s]"
     ]
    },
    {
     "name": "stdout",
     "output_type": "stream",
     "text": [
      "\r",
      "Upgrading database; v3 -> v4: : 0it [00:00, ?it/s]"
     ]
    },
    {
     "name": "stdout",
     "output_type": "stream",
     "text": [
      "\n",
      "\r",
      "  0%|          | 0/1 [00:00<?, ?it/s]"
     ]
    },
    {
     "name": "stdout",
     "output_type": "stream",
     "text": [
      "\r",
      "Upgrading database; v4 -> v5:   0%|          | 0/1 [00:00<?, ?it/s]"
     ]
    },
    {
     "name": "stdout",
     "output_type": "stream",
     "text": [
      "\r",
      "Upgrading database; v4 -> v5: 100%|██████████| 1/1 [00:00<00:00, 477.77it/s]"
     ]
    },
    {
     "name": "stdout",
     "output_type": "stream",
     "text": [
      "\n",
      "\r",
      "0it [00:00, ?it/s]"
     ]
    },
    {
     "name": "stdout",
     "output_type": "stream",
     "text": [
      "\r",
      "Upgrading database; v5 -> v6: : 0it [00:00, ?it/s]"
     ]
    },
    {
     "name": "stdout",
     "output_type": "stream",
     "text": [
      "\r",
      "Upgrading database; v5 -> v6: : 0it [00:00, ?it/s]"
     ]
    },
    {
     "name": "stdout",
     "output_type": "stream",
     "text": [
      "\n",
      "\r",
      "  0%|          | 0/1 [00:00<?, ?it/s]"
     ]
    },
    {
     "name": "stdout",
     "output_type": "stream",
     "text": [
      "\r",
      "Upgrading database; v6 -> v7:   0%|          | 0/1 [00:00<?, ?it/s]"
     ]
    },
    {
     "name": "stdout",
     "output_type": "stream",
     "text": [
      "\r",
      "Upgrading database; v6 -> v7: 100%|██████████| 1/1 [00:00<00:00, 251.40it/s]"
     ]
    },
    {
     "name": "stdout",
     "output_type": "stream",
     "text": [
      "\n",
      "\r",
      "  0%|          | 0/1 [00:00<?, ?it/s]"
     ]
    },
    {
     "name": "stdout",
     "output_type": "stream",
     "text": [
      "\r",
      "Upgrading database; v7 -> v8:   0%|          | 0/1 [00:00<?, ?it/s]"
     ]
    },
    {
     "name": "stdout",
     "output_type": "stream",
     "text": [
      "\r",
      "Upgrading database; v7 -> v8: 100%|██████████| 1/1 [00:00<00:00, 411.53it/s]"
     ]
    },
    {
     "name": "stdout",
     "output_type": "stream",
     "text": [
      "\n",
      "\r",
      "  0%|          | 0/1 [00:00<?, ?it/s]"
     ]
    },
    {
     "name": "stdout",
     "output_type": "stream",
     "text": [
      "\r",
      "Upgrading database; v8 -> v9:   0%|          | 0/1 [00:00<?, ?it/s]"
     ]
    },
    {
     "name": "stdout",
     "output_type": "stream",
     "text": [
      "\r",
      "Upgrading database; v8 -> v9: 100%|██████████| 1/1 [00:00<00:00, 530.59it/s]"
     ]
    },
    {
     "name": "stdout",
     "output_type": "stream",
     "text": [
      "\n"
     ]
    }
   ],
   "source": [
    "initialise_database()\n",
    "exp = load_or_create_experiment(experiment_name='tutorial_exp', sample_name=\"no sample\")"
   ]
  },
  {
   "cell_type": "markdown",
   "metadata": {},
   "source": [
    "Here, we define a simple function to benchmark the time it takes to insert n points with either numeric or array data type.\n",
    "We will compare both the time used to call ``add_result`` and the time used for the full measurement."
   ]
  },
  {
   "cell_type": "code",
   "execution_count": 4,
   "metadata": {
    "execution": {
     "iopub.execute_input": "2021-05-12T10:27:55.110985Z",
     "iopub.status.busy": "2021-05-12T10:27:55.109721Z",
     "iopub.status.idle": "2021-05-12T10:27:55.111629Z",
     "shell.execute_reply": "2021-05-12T10:27:55.112067Z"
    }
   },
   "outputs": [],
   "source": [
    "def insert_data(paramtype, npoints, nreps=1):\n",
    "\n",
    "    meas = Measurement(exp=exp)\n",
    "\n",
    "    x1 = ManualParameter('x1')\n",
    "    x2 = ManualParameter('x2')\n",
    "    x3 = ManualParameter('x3')\n",
    "    y1 = ManualParameter('y1')\n",
    "    y2 = ManualParameter('y2')\n",
    "\n",
    "    meas.register_parameter(x1, paramtype=paramtype)\n",
    "    meas.register_parameter(x2, paramtype=paramtype)\n",
    "    meas.register_parameter(x3, paramtype=paramtype)\n",
    "    meas.register_parameter(y1, setpoints=[x1, x2, x3],\n",
    "                            paramtype=paramtype)\n",
    "    meas.register_parameter(y2, setpoints=[x1, x2, x3],\n",
    "                            paramtype=paramtype)\n",
    "    start = time.perf_counter()\n",
    "    with meas.run() as datasaver:\n",
    "        start_adding = time.perf_counter()\n",
    "        for i in range(nreps):\n",
    "            datasaver.add_result((x1, np.random.rand(npoints)),\n",
    "                                 (x2, np.random.rand(npoints)),\n",
    "                                 (x3, np.random.rand(npoints)),\n",
    "                                 (y1, np.random.rand(npoints)),\n",
    "                                 (y2, np.random.rand(npoints)))\n",
    "        stop_adding = time.perf_counter()\n",
    "        run_id = datasaver.run_id\n",
    "    stop = time.perf_counter()\n",
    "    tot_time = stop - start\n",
    "    add_time = stop_adding - start_adding\n",
    "    return tot_time, add_time, run_id"
   ]
  },
  {
   "cell_type": "markdown",
   "metadata": {},
   "source": [
    "## Comparison between numeric/array data and binary blob"
   ]
  },
  {
   "cell_type": "markdown",
   "metadata": {},
   "source": [
    "### Case1: Short experiment time"
   ]
  },
  {
   "cell_type": "code",
   "execution_count": 5,
   "metadata": {
    "execution": {
     "iopub.execute_input": "2021-05-12T10:27:55.119289Z",
     "iopub.status.busy": "2021-05-12T10:27:55.118655Z",
     "iopub.status.idle": "2021-05-12T10:27:56.007598Z",
     "shell.execute_reply": "2021-05-12T10:27:56.007083Z"
    }
   },
   "outputs": [
    {
     "name": "stdout",
     "output_type": "stream",
     "text": [
      "Starting experimental run with id: 1. \n",
      "Starting experimental run with id: 2. \n",
      "Starting experimental run with id: 3. \n"
     ]
    },
    {
     "name": "stdout",
     "output_type": "stream",
     "text": [
      "Starting experimental run with id: 4. \n"
     ]
    },
    {
     "name": "stdout",
     "output_type": "stream",
     "text": [
      "Starting experimental run with id: 5. \n"
     ]
    },
    {
     "name": "stdout",
     "output_type": "stream",
     "text": [
      "Starting experimental run with id: 6. \n",
      "Starting experimental run with id: 7. \n",
      "Starting experimental run with id: 8. \n"
     ]
    },
    {
     "name": "stdout",
     "output_type": "stream",
     "text": [
      "Starting experimental run with id: 9. \n"
     ]
    },
    {
     "name": "stdout",
     "output_type": "stream",
     "text": [
      "Starting experimental run with id: 10. \n",
      "Starting experimental run with id: 11. \n"
     ]
    },
    {
     "name": "stdout",
     "output_type": "stream",
     "text": [
      "Starting experimental run with id: 12. \n",
      "Starting experimental run with id: 13. \n"
     ]
    },
    {
     "name": "stdout",
     "output_type": "stream",
     "text": [
      "Starting experimental run with id: 14. \n"
     ]
    }
   ],
   "source": [
    "sizes = [1,500,1000,2000,3000,4000,5000]\n",
    "t_numeric = []\n",
    "t_numeric_add = []\n",
    "t_array = []\n",
    "t_array_add = []\n",
    "for size in sizes:\n",
    "    tn, tna, run_id_n =  insert_data('numeric', size)\n",
    "    t_numeric.append(tn)\n",
    "    t_numeric_add.append(tna)\n",
    "\n",
    "    ta, taa, run_id_a =  insert_data('array', size)\n",
    "    t_array.append(ta)\n",
    "    t_array_add.append(taa)"
   ]
  },
  {
   "cell_type": "code",
   "execution_count": 6,
   "metadata": {
    "execution": {
     "iopub.execute_input": "2021-05-12T10:27:56.028342Z",
     "iopub.status.busy": "2021-05-12T10:27:56.027756Z",
     "iopub.status.idle": "2021-05-12T10:27:56.266606Z",
     "shell.execute_reply": "2021-05-12T10:27:56.266058Z"
    }
   },
   "outputs": [
    {
     "data": {
      "image/png": "[encoded data removed]",
      "text/plain": [
       "<Figure size 432x288 with 1 Axes>"
      ]
     },
     "metadata": {
      "needs_background": "light"
     },
     "output_type": "display_data"
    }
   ],
   "source": [
    "fig, ax = plt.subplots(1,1)\n",
    "ax.plot(sizes, t_numeric, 'o-', label='Inserting row-by-row')\n",
    "ax.plot(sizes, t_numeric_add, 'o-', label='Inserting row-by-row: add_result only')\n",
    "ax.plot(sizes, t_array, 'd-', label='Inserting as binary blob')\n",
    "ax.plot(sizes, t_array_add, 'd-', label='Inserting as binary blob: add_result only')\n",
    "ax.legend()\n",
    "ax.set_xlabel('Array length')\n",
    "ax.set_ylabel('Time (s)')\n",
    "fig.tight_layout()"
   ]
  },
  {
   "cell_type": "markdown",
   "metadata": {},
   "source": [
    "As shown in the latter figure, the time to setup and and close the experiment is approximately 0.4 sec. In case of small array sizes, the difference between inserting values of data as arrays and inserting them row-by-row is relatively unimportant. At larger array sizes, i.e. above 10000 points, the cost of writing data as individual datapoints starts to become important.\n"
   ]
  },
  {
   "cell_type": "markdown",
   "metadata": {},
   "source": [
    "### Case2: Long experiment time "
   ]
  },
  {
   "cell_type": "code",
   "execution_count": 7,
   "metadata": {
    "execution": {
     "iopub.execute_input": "2021-05-12T10:27:56.275308Z",
     "iopub.status.busy": "2021-05-12T10:27:56.274695Z",
     "iopub.status.idle": "2021-05-12T10:28:53.924862Z",
     "shell.execute_reply": "2021-05-12T10:28:53.924404Z"
    }
   },
   "outputs": [
    {
     "name": "stdout",
     "output_type": "stream",
     "text": [
      "Starting experimental run with id: 15. \n",
      "Starting experimental run with id: 16. \n",
      "Starting experimental run with id: 17. \n"
     ]
    },
    {
     "name": "stdout",
     "output_type": "stream",
     "text": [
      "Starting experimental run with id: 18. \n",
      "Starting experimental run with id: 19. \n"
     ]
    },
    {
     "name": "stdout",
     "output_type": "stream",
     "text": [
      "Starting experimental run with id: 20. \n"
     ]
    },
    {
     "name": "stdout",
     "output_type": "stream",
     "text": [
      "Starting experimental run with id: 21. \n"
     ]
    },
    {
     "name": "stdout",
     "output_type": "stream",
     "text": [
      "Starting experimental run with id: 22. \n"
     ]
    },
    {
     "name": "stdout",
     "output_type": "stream",
     "text": [
      "Starting experimental run with id: 23. \n"
     ]
    },
    {
     "name": "stdout",
     "output_type": "stream",
     "text": [
      "Starting experimental run with id: 24. \n"
     ]
    },
    {
     "name": "stdout",
     "output_type": "stream",
     "text": [
      "Starting experimental run with id: 25. \n"
     ]
    },
    {
     "name": "stdout",
     "output_type": "stream",
     "text": [
      "Starting experimental run with id: 26. \n"
     ]
    },
    {
     "name": "stdout",
     "output_type": "stream",
     "text": [
      "Starting experimental run with id: 27. \n"
     ]
    },
    {
     "name": "stdout",
     "output_type": "stream",
     "text": [
      "Starting experimental run with id: 28. \n"
     ]
    }
   ],
   "source": [
    "sizes = [1,500,1000,2000,3000,4000,5000]\n",
    "nreps = 100\n",
    "t_numeric = []\n",
    "t_numeric_add = []\n",
    "t_numeric_run_ids = []\n",
    "t_array = []\n",
    "t_array_add = []\n",
    "t_array_run_ids = []\n",
    "for size in sizes:\n",
    "    tn, tna, run_id_n =  insert_data('numeric', size, nreps=nreps)\n",
    "    t_numeric.append(tn)\n",
    "    t_numeric_add.append(tna)\n",
    "    t_numeric_run_ids.append(run_id_n)\n",
    "\n",
    "    ta, taa, run_id_a =  insert_data('array', size, nreps=nreps)\n",
    "    t_array.append(ta)\n",
    "    t_array_add.append(taa)\n",
    "    t_array_run_ids.append(run_id_a)"
   ]
  },
  {
   "cell_type": "code",
   "execution_count": 8,
   "metadata": {
    "execution": {
     "iopub.execute_input": "2021-05-12T10:28:53.966761Z",
     "iopub.status.busy": "2021-05-12T10:28:53.953085Z",
     "iopub.status.idle": "2021-05-12T10:28:54.139313Z",
     "shell.execute_reply": "2021-05-12T10:28:54.138594Z"
    },
    "scrolled": true
   },
   "outputs": [
    {
     "data": {
      "image/png": "[encoded data removed]",
      "text/plain": [
       "<Figure size 432x288 with 1 Axes>"
      ]
     },
     "metadata": {
      "needs_background": "light"
     },
     "output_type": "display_data"
    }
   ],
   "source": [
    "fig, ax = plt.subplots(1,1)\n",
    "ax.plot(sizes, t_numeric, 'o-', label='Inserting row-by-row')\n",
    "ax.plot(sizes, t_numeric_add, 'o-', label='Inserting row-by-row: add_result only')\n",
    "ax.plot(sizes, t_array, 'd-', label='Inserting as binary blob')\n",
    "ax.plot(sizes, t_array_add, 'd-', label='Inserting as binary blob: add_result only')\n",
    "ax.legend()\n",
    "ax.set_xlabel('Array length')\n",
    "ax.set_ylabel('Time (s)')\n",
    "fig.tight_layout()"
   ]
  },
  {
   "cell_type": "markdown",
   "metadata": {},
   "source": [
    "However, as we increase the length of the experiment, as seen here by repeating the insertion 100 times, we see a big difference between inserting values of the data row-by-row and inserting it as a binary blob."
   ]
  },
  {
   "cell_type": "markdown",
   "metadata": {},
   "source": [
    "## Loading the data "
   ]
  },
  {
   "cell_type": "code",
   "execution_count": 9,
   "metadata": {
    "execution": {
     "iopub.execute_input": "2021-05-12T10:28:54.144130Z",
     "iopub.status.busy": "2021-05-12T10:28:54.143084Z",
     "iopub.status.idle": "2021-05-12T10:28:54.144750Z",
     "shell.execute_reply": "2021-05-12T10:28:54.145189Z"
    }
   },
   "outputs": [],
   "source": [
    "from qcodes.dataset.data_set import load_by_id"
   ]
  },
  {
   "cell_type": "markdown",
   "metadata": {},
   "source": [
    "As usual you can load the data by using the ``load_by_id`` function but you will notice that the different storage methods\n",
    "are reflected in shape of the data as it is retrieved. "
   ]
  },
  {
   "cell_type": "code",
   "execution_count": 10,
   "metadata": {
    "execution": {
     "iopub.execute_input": "2021-05-12T10:28:54.149771Z",
     "iopub.status.busy": "2021-05-12T10:28:54.148454Z",
     "iopub.status.idle": "2021-05-12T10:28:54.150420Z",
     "shell.execute_reply": "2021-05-12T10:28:54.150883Z"
    }
   },
   "outputs": [],
   "source": [
    "run_id_n = t_numeric_run_ids[0]\n",
    "run_id_a = t_array_run_ids[0]"
   ]
  },
  {
   "cell_type": "code",
   "execution_count": 11,
   "metadata": {
    "execution": {
     "iopub.execute_input": "2021-05-12T10:28:54.154261Z",
     "iopub.status.busy": "2021-05-12T10:28:54.153684Z",
     "iopub.status.idle": "2021-05-12T10:28:54.163375Z",
     "shell.execute_reply": "2021-05-12T10:28:54.163823Z"
    },
    "scrolled": true
   },
   "outputs": [
    {
     "data": {
      "text/plain": [
       "{'x1': {'x1': array([0.74105202, 0.74105202, 0.95711434, 0.95711434, 0.38870249,\n",
       "         0.38870249, 0.02986504, 0.02986504, 0.93617206, 0.93617206,\n",
       "         0.02532409, 0.02532409, 0.37023693, 0.37023693, 0.79023029,\n",
       "         0.79023029, 0.38527392, 0.38527392, 0.3584714 , 0.3584714 ,\n",
       "         0.61674038, 0.61674038, 0.80770254, 0.80770254, 0.89626916,\n",
       "         0.89626916, 0.60872747, 0.60872747, 0.82641266, 0.82641266,\n",
       "         0.46312631, 0.46312631, 0.63845727, 0.63845727, 0.7658975 ,\n",
       "         0.7658975 , 0.3597911 , 0.3597911 , 0.63901688, 0.63901688,\n",
       "         0.61299334, 0.61299334, 0.40898968, 0.40898968, 0.26527476,\n",
       "         0.26527476, 0.13426291, 0.13426291, 0.01760441, 0.01760441,\n",
       "         0.39872011, 0.39872011, 0.06372761, 0.06372761, 0.33513789,\n",
       "         0.33513789, 0.58112716, 0.58112716, 0.17664575, 0.17664575,\n",
       "         0.20491676, 0.20491676, 0.24581185, 0.24581185, 0.82717735,\n",
       "         0.82717735, 0.60020952, 0.60020952, 0.34549589, 0.34549589,\n",
       "         0.8239446 , 0.8239446 , 0.60892775, 0.60892775, 0.90635156,\n",
       "         0.90635156, 0.18624372, 0.18624372, 0.55706591, 0.55706591,\n",
       "         0.33972066, 0.33972066, 0.25003604, 0.25003604, 0.66459118,\n",
       "         0.66459118, 0.75377995, 0.75377995, 0.12255741, 0.12255741,\n",
       "         0.66910329, 0.66910329, 0.4558048 , 0.4558048 , 0.89744451,\n",
       "         0.89744451, 0.54428395, 0.54428395, 0.69064876, 0.69064876,\n",
       "         0.14272738, 0.14272738, 0.45326392, 0.45326392, 0.92553075,\n",
       "         0.92553075, 0.28184734, 0.28184734, 0.87580144, 0.87580144,\n",
       "         0.07964716, 0.07964716, 0.84758196, 0.84758196, 0.51786855,\n",
       "         0.51786855, 0.4148941 , 0.4148941 , 0.29261078, 0.29261078,\n",
       "         0.74370094, 0.74370094, 0.77832197, 0.77832197, 0.28821142,\n",
       "         0.28821142, 0.650244  , 0.650244  , 0.85948925, 0.85948925,\n",
       "         0.78700852, 0.78700852, 0.92691699, 0.92691699, 0.05994861,\n",
       "         0.05994861, 0.15643128, 0.15643128, 0.9600933 , 0.9600933 ,\n",
       "         0.76099487, 0.76099487, 0.98851165, 0.98851165, 0.79287229,\n",
       "         0.79287229, 0.94306296, 0.94306296, 0.59586558, 0.59586558,\n",
       "         0.14359331, 0.14359331, 0.29681129, 0.29681129, 0.33740082,\n",
       "         0.33740082, 0.8165546 , 0.8165546 , 0.95204056, 0.95204056,\n",
       "         0.25225467, 0.25225467, 0.29008324, 0.29008324, 0.30368236,\n",
       "         0.30368236, 0.85887036, 0.85887036, 0.68251778, 0.68251778,\n",
       "         0.53439285, 0.53439285, 0.03287551, 0.03287551, 0.62300047,\n",
       "         0.62300047, 0.25594244, 0.25594244, 0.76238069, 0.76238069,\n",
       "         0.14644169, 0.14644169, 0.63339762, 0.63339762, 0.09733627,\n",
       "         0.09733627, 0.37302829, 0.37302829, 0.29362103, 0.29362103,\n",
       "         0.94046161, 0.94046161, 0.19646538, 0.19646538, 0.03958238,\n",
       "         0.03958238, 0.51927861, 0.51927861, 0.78217013, 0.78217013])}}"
      ]
     },
     "execution_count": 1,
     "metadata": {},
     "output_type": "execute_result"
    }
   ],
   "source": [
    "ds = load_by_id(run_id_n)\n",
    "ds.get_parameter_data('x1')"
   ]
  },
  {
   "cell_type": "markdown",
   "metadata": {},
   "source": [
    "And a dataset stored as binary arrays"
   ]
  },
  {
   "cell_type": "code",
   "execution_count": 12,
   "metadata": {
    "execution": {
     "iopub.execute_input": "2021-05-12T10:28:54.167312Z",
     "iopub.status.busy": "2021-05-12T10:28:54.166745Z",
     "iopub.status.idle": "2021-05-12T10:28:54.224386Z",
     "shell.execute_reply": "2021-05-12T10:28:54.223903Z"
    },
    "scrolled": true
   },
   "outputs": [
    {
     "data": {
      "text/plain": [
       "{'x1': {'x1': array([[0.22467016],\n",
       "         [0.22467016],\n",
       "         [0.72213302],\n",
       "         [0.72213302],\n",
       "         [0.59614177],\n",
       "         [0.59614177],\n",
       "         [0.44525384],\n",
       "         [0.44525384],\n",
       "         [0.85459408],\n",
       "         [0.85459408],\n",
       "         [0.22054887],\n",
       "         [0.22054887],\n",
       "         [0.46249678],\n",
       "         [0.46249678],\n",
       "         [0.55118725],\n",
       "         [0.55118725],\n",
       "         [0.5208975 ],\n",
       "         [0.5208975 ],\n",
       "         [0.88271666],\n",
       "         [0.88271666],\n",
       "         [0.74498765],\n",
       "         [0.74498765],\n",
       "         [0.77721716],\n",
       "         [0.77721716],\n",
       "         [0.6024356 ],\n",
       "         [0.6024356 ],\n",
       "         [0.34800342],\n",
       "         [0.34800342],\n",
       "         [0.38700916],\n",
       "         [0.38700916],\n",
       "         [0.84605873],\n",
       "         [0.84605873],\n",
       "         [0.38726435],\n",
       "         [0.38726435],\n",
       "         [0.76798838],\n",
       "         [0.76798838],\n",
       "         [0.36957224],\n",
       "         [0.36957224],\n",
       "         [0.74922752],\n",
       "         [0.74922752],\n",
       "         [0.56781411],\n",
       "         [0.56781411],\n",
       "         [0.81871708],\n",
       "         [0.81871708],\n",
       "         [0.18329716],\n",
       "         [0.18329716],\n",
       "         [0.64002986],\n",
       "         [0.64002986],\n",
       "         [0.61831096],\n",
       "         [0.61831096],\n",
       "         [0.41418282],\n",
       "         [0.41418282],\n",
       "         [0.85783073],\n",
       "         [0.85783073],\n",
       "         [0.06807566],\n",
       "         [0.06807566],\n",
       "         [0.01757852],\n",
       "         [0.01757852],\n",
       "         [0.22956735],\n",
       "         [0.22956735],\n",
       "         [0.82538915],\n",
       "         [0.82538915],\n",
       "         [0.46299367],\n",
       "         [0.46299367],\n",
       "         [0.55661749],\n",
       "         [0.55661749],\n",
       "         [0.49926587],\n",
       "         [0.49926587],\n",
       "         [0.45003974],\n",
       "         [0.45003974],\n",
       "         [0.76654212],\n",
       "         [0.76654212],\n",
       "         [0.97884884],\n",
       "         [0.97884884],\n",
       "         [0.11951589],\n",
       "         [0.11951589],\n",
       "         [0.10744866],\n",
       "         [0.10744866],\n",
       "         [0.12317929],\n",
       "         [0.12317929],\n",
       "         [0.53423762],\n",
       "         [0.53423762],\n",
       "         [0.97229451],\n",
       "         [0.97229451],\n",
       "         [0.48961366],\n",
       "         [0.48961366],\n",
       "         [0.982383  ],\n",
       "         [0.982383  ],\n",
       "         [0.21323272],\n",
       "         [0.21323272],\n",
       "         [0.99112967],\n",
       "         [0.99112967],\n",
       "         [0.61899573],\n",
       "         [0.61899573],\n",
       "         [0.01845609],\n",
       "         [0.01845609],\n",
       "         [0.49036824],\n",
       "         [0.49036824],\n",
       "         [0.49728714],\n",
       "         [0.49728714],\n",
       "         [0.25375457],\n",
       "         [0.25375457],\n",
       "         [0.18401531],\n",
       "         [0.18401531],\n",
       "         [0.62210226],\n",
       "         [0.62210226],\n",
       "         [0.94404289],\n",
       "         [0.94404289],\n",
       "         [0.06474817],\n",
       "         [0.06474817],\n",
       "         [0.71422135],\n",
       "         [0.71422135],\n",
       "         [0.58577668],\n",
       "         [0.58577668],\n",
       "         [0.59916149],\n",
       "         [0.59916149],\n",
       "         [0.6693139 ],\n",
       "         [0.6693139 ],\n",
       "         [0.56601809],\n",
       "         [0.56601809],\n",
       "         [0.16460959],\n",
       "         [0.16460959],\n",
       "         [0.44023388],\n",
       "         [0.44023388],\n",
       "         [0.28228575],\n",
       "         [0.28228575],\n",
       "         [0.52239122],\n",
       "         [0.52239122],\n",
       "         [0.46344047],\n",
       "         [0.46344047],\n",
       "         [0.84607641],\n",
       "         [0.84607641],\n",
       "         [0.43570305],\n",
       "         [0.43570305],\n",
       "         [0.51621008],\n",
       "         [0.51621008],\n",
       "         [0.43124084],\n",
       "         [0.43124084],\n",
       "         [0.53178121],\n",
       "         [0.53178121],\n",
       "         [0.96296148],\n",
       "         [0.96296148],\n",
       "         [0.80434471],\n",
       "         [0.80434471],\n",
       "         [0.34772266],\n",
       "         [0.34772266],\n",
       "         [0.19347387],\n",
       "         [0.19347387],\n",
       "         [0.6252412 ],\n",
       "         [0.6252412 ],\n",
       "         [0.18122777],\n",
       "         [0.18122777],\n",
       "         [0.1139677 ],\n",
       "         [0.1139677 ],\n",
       "         [0.51382158],\n",
       "         [0.51382158],\n",
       "         [0.33888898],\n",
       "         [0.33888898],\n",
       "         [0.73840575],\n",
       "         [0.73840575],\n",
       "         [0.6582875 ],\n",
       "         [0.6582875 ],\n",
       "         [0.91700942],\n",
       "         [0.91700942],\n",
       "         [0.96195011],\n",
       "         [0.96195011],\n",
       "         [0.32655948],\n",
       "         [0.32655948],\n",
       "         [0.09788276],\n",
       "         [0.09788276],\n",
       "         [0.38498887],\n",
       "         [0.38498887],\n",
       "         [0.61176123],\n",
       "         [0.61176123],\n",
       "         [0.23188758],\n",
       "         [0.23188758],\n",
       "         [0.20208186],\n",
       "         [0.20208186],\n",
       "         [0.26454769],\n",
       "         [0.26454769],\n",
       "         [0.03525568],\n",
       "         [0.03525568],\n",
       "         [0.82287275],\n",
       "         [0.82287275],\n",
       "         [0.92353138],\n",
       "         [0.92353138],\n",
       "         [0.72535065],\n",
       "         [0.72535065],\n",
       "         [0.0035649 ],\n",
       "         [0.0035649 ],\n",
       "         [0.36581172],\n",
       "         [0.36581172],\n",
       "         [0.66785489],\n",
       "         [0.66785489],\n",
       "         [0.79762679],\n",
       "         [0.79762679],\n",
       "         [0.86402087],\n",
       "         [0.86402087],\n",
       "         [0.91104999],\n",
       "         [0.91104999]])}}"
      ]
     },
     "execution_count": 1,
     "metadata": {},
     "output_type": "execute_result"
    }
   ],
   "source": [
    "ds = load_by_id(run_id_a)\n",
    "ds.get_parameter_data('x1')"
   ]
  },
  {
   "cell_type": "code",
   "execution_count": null,
   "metadata": {},
   "outputs": [],
   "source": []
  }
 ],
 "metadata": {
  "kernelspec": {
   "display_name": "Python 3",
   "language": "python",
   "name": "python3"
  },
  "language_info": {
   "codemirror_mode": {
    "name": "ipython",
    "version": 3
   },
   "file_extension": ".py",
   "mimetype": "text/x-python",
   "name": "python",
   "nbconvert_exporter": "python",
   "pygments_lexer": "ipython3",
   "version": "3.7.10"
  },
  "nbsphinx": {
   "timeout": 600
  },
  "toc": {
   "base_numbering": 1,
   "nav_menu": {},
   "number_sections": true,
   "sideBar": true,
   "skip_h1_title": false,
   "title_cell": "Table of Contents",
   "title_sidebar": "Contents",
   "toc_cell": false,
   "toc_position": {},
   "toc_section_display": true,
   "toc_window_display": false
  },
  "varInspector": {
   "cols": {
    "lenName": 16,
    "lenType": 16,
    "lenVar": 40
   },
   "kernels_config": {
    "python": {
     "delete_cmd_postfix": "",
     "delete_cmd_prefix": "del ",
     "library": "var_list.py",
     "varRefreshCmd": "print(var_dic_list())"
    },
    "r": {
     "delete_cmd_postfix": ") ",
     "delete_cmd_prefix": "rm(",
     "library": "var_list.r",
     "varRefreshCmd": "cat(var_dic_list()) "
    }
   },
   "types_to_exclude": [
    "module",
    "function",
    "builtin_function_or_method",
    "instance",
    "_Feature"
   ],
   "window_display": false
  }
 },
 "nbformat": 4,
 "nbformat_minor": 4
}
