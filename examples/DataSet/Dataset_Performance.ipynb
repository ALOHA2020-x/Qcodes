{
 "cells": [
  {
   "cell_type": "markdown",
   "metadata": {},
   "source": [
    "# DataSet Performance\n",
    "\n",
    "This notebook shows the trade-off between inserting data into a database row-by-row and as binary blobs. Inserting the data row-by-row means that we have direct access to all the data and may perform queries directly on the values of the data. On the other hand, as we shall see, this is much slower than inserting the data directly as binary blobs."
   ]
  },
  {
   "cell_type": "markdown",
   "metadata": {},
   "source": [
    "First, we choose a new location for the database to ensure that we don't add a bunch of benchmarking data to the default one."
   ]
  },
  {
   "cell_type": "code",
   "execution_count": 1,
   "metadata": {
    "execution": {
     "iopub.execute_input": "2020-11-18T15:19:14.984798Z",
     "iopub.status.busy": "2020-11-18T15:19:14.984207Z",
     "iopub.status.idle": "2020-11-18T15:19:16.127237Z",
     "shell.execute_reply": "2020-11-18T15:19:16.126047Z"
    }
   },
   "outputs": [
    {
     "name": "stdout",
     "output_type": "stream",
     "text": [
      "Logging hadn't been started.\n",
      "Activating auto-logging. Current session state plus future input saved.\n",
      "Filename       : /home/vsts/.qcodes/logs/command_history.log\n",
      "Mode           : append\n",
      "Output logging : True\n",
      "Raw input log  : False\n",
      "Timestamping   : True\n",
      "State          : active\n"
     ]
    },
    {
     "name": "stdout",
     "output_type": "stream",
     "text": [
      "Qcodes Logfile : /home/vsts/.qcodes/logs/201118-14350-qcodes.log\n"
     ]
    }
   ],
   "source": [
    "import os\n",
    "cwd = os.getcwd()\n",
    "import qcodes as qc\n",
    "qc.config[\"core\"][\"db_location\"] = os.path.join(cwd, 'testing.db')\n"
   ]
  },
  {
   "cell_type": "code",
   "execution_count": 2,
   "metadata": {
    "execution": {
     "iopub.execute_input": "2020-11-18T15:19:16.133295Z",
     "iopub.status.busy": "2020-11-18T15:19:16.132423Z",
     "iopub.status.idle": "2020-11-18T15:19:16.326689Z",
     "shell.execute_reply": "2020-11-18T15:19:16.325704Z"
    }
   },
   "outputs": [],
   "source": [
    "%matplotlib inline\n",
    "import time\n",
    "import matplotlib.pyplot as plt\n",
    "import numpy as np\n",
    "\n",
    "import qcodes as qc\n",
    "from qcodes.instrument.parameter import ManualParameter\n",
    "from qcodes.dataset.experiment_container import (Experiment,\n",
    "                                                 load_last_experiment,\n",
    "                                                 new_experiment)\n",
    "from qcodes.dataset.sqlite.database import initialise_database\n",
    "from qcodes import load_or_create_experiment\n",
    "from qcodes.dataset.measurements import Measurement"
   ]
  },
  {
   "cell_type": "code",
   "execution_count": 3,
   "metadata": {
    "execution": {
     "iopub.execute_input": "2020-11-18T15:19:16.330870Z",
     "iopub.status.busy": "2020-11-18T15:19:16.330295Z",
     "iopub.status.idle": "2020-11-18T15:19:16.470046Z",
     "shell.execute_reply": "2020-11-18T15:19:16.469146Z"
    }
   },
   "outputs": [
    {
     "name": "stdout",
     "output_type": "stream",
     "text": [
      "\r",
      "0it [00:00, ?it/s]"
     ]
    },
    {
     "name": "stdout",
     "output_type": "stream",
     "text": [
      "\r",
      "Upgrading database; v0 -> v1: : 0it [00:00, ?it/s]"
     ]
    },
    {
     "name": "stdout",
     "output_type": "stream",
     "text": [
      "\r",
      "Upgrading database; v0 -> v1: : 0it [00:00, ?it/s]"
     ]
    },
    {
     "name": "stdout",
     "output_type": "stream",
     "text": [
      "\n",
      "\r",
      "  0%|          | 0/1 [00:00<?, ?it/s]"
     ]
    },
    {
     "name": "stdout",
     "output_type": "stream",
     "text": [
      "\r",
      "Upgrading database; v1 -> v2:   0%|          | 0/1 [00:00<?, ?it/s]"
     ]
    },
    {
     "name": "stdout",
     "output_type": "stream",
     "text": [
      "\r",
      "Upgrading database; v1 -> v2: 100%|██████████| 1/1 [00:00<00:00, 855.98it/s]"
     ]
    },
    {
     "name": "stdout",
     "output_type": "stream",
     "text": [
      "\n",
      "\r",
      "0it [00:00, ?it/s]"
     ]
    },
    {
     "name": "stdout",
     "output_type": "stream",
     "text": [
      "\r",
      "Upgrading database; v2 -> v3: : 0it [00:00, ?it/s]"
     ]
    },
    {
     "name": "stdout",
     "output_type": "stream",
     "text": [
      "\r",
      "Upgrading database; v2 -> v3: : 0it [00:00, ?it/s]"
     ]
    },
    {
     "name": "stdout",
     "output_type": "stream",
     "text": [
      "\n",
      "\r",
      "0it [00:00, ?it/s]"
     ]
    },
    {
     "name": "stdout",
     "output_type": "stream",
     "text": [
      "\r",
      "Upgrading database; v3 -> v4: : 0it [00:00, ?it/s]"
     ]
    },
    {
     "name": "stdout",
     "output_type": "stream",
     "text": [
      "\r",
      "Upgrading database; v3 -> v4: : 0it [00:00, ?it/s]"
     ]
    },
    {
     "name": "stdout",
     "output_type": "stream",
     "text": [
      "\n",
      "\r",
      "  0%|          | 0/1 [00:00<?, ?it/s]"
     ]
    },
    {
     "name": "stdout",
     "output_type": "stream",
     "text": [
      "\r",
      "Upgrading database; v4 -> v5:   0%|          | 0/1 [00:00<?, ?it/s]"
     ]
    },
    {
     "name": "stdout",
     "output_type": "stream",
     "text": [
      "\r",
      "Upgrading database; v4 -> v5: 100%|██████████| 1/1 [00:00<00:00, 394.61it/s]"
     ]
    },
    {
     "name": "stdout",
     "output_type": "stream",
     "text": [
      "\n",
      "\r",
      "0it [00:00, ?it/s]"
     ]
    },
    {
     "name": "stdout",
     "output_type": "stream",
     "text": [
      "\r",
      "Upgrading database; v5 -> v6: : 0it [00:00, ?it/s]"
     ]
    },
    {
     "name": "stdout",
     "output_type": "stream",
     "text": [
      "\r",
      "Upgrading database; v5 -> v6: : 0it [00:00, ?it/s]"
     ]
    },
    {
     "name": "stdout",
     "output_type": "stream",
     "text": [
      "\n",
      "\r",
      "  0%|          | 0/1 [00:00<?, ?it/s]"
     ]
    },
    {
     "name": "stdout",
     "output_type": "stream",
     "text": [
      "\r",
      "Upgrading database; v6 -> v7:   0%|          | 0/1 [00:00<?, ?it/s]"
     ]
    },
    {
     "name": "stdout",
     "output_type": "stream",
     "text": [
      "\r",
      "Upgrading database; v6 -> v7: 100%|██████████| 1/1 [00:00<00:00, 347.38it/s]"
     ]
    },
    {
     "name": "stdout",
     "output_type": "stream",
     "text": [
      "\n",
      "\r",
      "  0%|          | 0/1 [00:00<?, ?it/s]"
     ]
    },
    {
     "name": "stdout",
     "output_type": "stream",
     "text": [
      "\r",
      "Upgrading database; v7 -> v8:   0%|          | 0/1 [00:00<?, ?it/s]"
     ]
    },
    {
     "name": "stdout",
     "output_type": "stream",
     "text": [
      "\r",
      "Upgrading database; v7 -> v8: 100%|██████████| 1/1 [00:00<00:00, 665.34it/s]"
     ]
    },
    {
     "name": "stdout",
     "output_type": "stream",
     "text": [
      "\n",
      "\r",
      "  0%|          | 0/1 [00:00<?, ?it/s]"
     ]
    },
    {
     "name": "stdout",
     "output_type": "stream",
     "text": [
      "\r",
      "Upgrading database; v8 -> v9:   0%|          | 0/1 [00:00<?, ?it/s]"
     ]
    },
    {
     "name": "stdout",
     "output_type": "stream",
     "text": [
      "\r",
      "Upgrading database; v8 -> v9: 100%|██████████| 1/1 [00:00<00:00, 856.50it/s]"
     ]
    },
    {
     "name": "stdout",
     "output_type": "stream",
     "text": [
      "\n"
     ]
    }
   ],
   "source": [
    "initialise_database()\n",
    "exp = load_or_create_experiment(experiment_name='tutorial_exp', sample_name=\"no sample\")"
   ]
  },
  {
   "cell_type": "markdown",
   "metadata": {},
   "source": [
    "Here, we define a simple function to benchmark the time it takes to insert n points with either numeric or array data type.\n",
    "We will compare both the time used to call ``add_result`` and the time used for the full measurement."
   ]
  },
  {
   "cell_type": "code",
   "execution_count": 4,
   "metadata": {
    "execution": {
     "iopub.execute_input": "2020-11-18T15:19:16.479853Z",
     "iopub.status.busy": "2020-11-18T15:19:16.479201Z",
     "iopub.status.idle": "2020-11-18T15:19:16.483145Z",
     "shell.execute_reply": "2020-11-18T15:19:16.482637Z"
    }
   },
   "outputs": [],
   "source": [
    "def insert_data(paramtype, npoints, nreps=1):\n",
    "\n",
    "    meas = Measurement(exp=exp)\n",
    "\n",
    "    x1 = ManualParameter('x1')\n",
    "    x2 = ManualParameter('x2')\n",
    "    x3 = ManualParameter('x3')\n",
    "    y1 = ManualParameter('y1')\n",
    "    y2 = ManualParameter('y2')\n",
    "\n",
    "    meas.register_parameter(x1, paramtype=paramtype)\n",
    "    meas.register_parameter(x2, paramtype=paramtype)\n",
    "    meas.register_parameter(x3, paramtype=paramtype)\n",
    "    meas.register_parameter(y1, setpoints=[x1, x2, x3],\n",
    "                            paramtype=paramtype)\n",
    "    meas.register_parameter(y2, setpoints=[x1, x2, x3],\n",
    "                            paramtype=paramtype)\n",
    "    start = time.perf_counter()\n",
    "    with meas.run() as datasaver:\n",
    "        start_adding = time.perf_counter()\n",
    "        for i in range(nreps):\n",
    "            datasaver.add_result((x1, np.random.rand(npoints)),\n",
    "                                 (x2, np.random.rand(npoints)),\n",
    "                                 (x3, np.random.rand(npoints)),\n",
    "                                 (y1, np.random.rand(npoints)),\n",
    "                                 (y2, np.random.rand(npoints)))\n",
    "        stop_adding = time.perf_counter()\n",
    "        run_id = datasaver.run_id\n",
    "    stop = time.perf_counter()\n",
    "    tot_time = stop - start\n",
    "    add_time = stop_adding - start_adding\n",
    "    return tot_time, add_time, run_id"
   ]
  },
  {
   "cell_type": "markdown",
   "metadata": {},
   "source": [
    "## Comparison between numeric/array data and binary blob"
   ]
  },
  {
   "cell_type": "markdown",
   "metadata": {},
   "source": [
    "### Case1: Short experiment time"
   ]
  },
  {
   "cell_type": "code",
   "execution_count": 5,
   "metadata": {
    "execution": {
     "iopub.execute_input": "2020-11-18T15:19:16.489047Z",
     "iopub.status.busy": "2020-11-18T15:19:16.488477Z",
     "iopub.status.idle": "2020-11-18T15:19:17.456340Z",
     "shell.execute_reply": "2020-11-18T15:19:17.456830Z"
    }
   },
   "outputs": [
    {
     "name": "stdout",
     "output_type": "stream",
     "text": [
      "Starting experimental run with id: 1. \n",
      "Starting experimental run with id: 2. \n",
      "Starting experimental run with id: 3. \n"
     ]
    },
    {
     "name": "stdout",
     "output_type": "stream",
     "text": [
      "Starting experimental run with id: 4. \n"
     ]
    },
    {
     "name": "stdout",
     "output_type": "stream",
     "text": [
      "Starting experimental run with id: 5. \n"
     ]
    },
    {
     "name": "stdout",
     "output_type": "stream",
     "text": [
      "Starting experimental run with id: 6. \n",
      "Starting experimental run with id: 7. \n"
     ]
    },
    {
     "name": "stdout",
     "output_type": "stream",
     "text": [
      "Starting experimental run with id: 8. \n"
     ]
    },
    {
     "name": "stdout",
     "output_type": "stream",
     "text": [
      "Starting experimental run with id: 9. \n"
     ]
    },
    {
     "name": "stdout",
     "output_type": "stream",
     "text": [
      "Starting experimental run with id: 10. \n"
     ]
    },
    {
     "name": "stdout",
     "output_type": "stream",
     "text": [
      "Starting experimental run with id: 11. \n"
     ]
    },
    {
     "name": "stdout",
     "output_type": "stream",
     "text": [
      "Starting experimental run with id: 12. \n",
      "Starting experimental run with id: 13. \n"
     ]
    },
    {
     "name": "stdout",
     "output_type": "stream",
     "text": [
      "Starting experimental run with id: 14. \n"
     ]
    }
   ],
   "source": [
    "sizes = [1,500,1000,2000,3000,4000,5000]\n",
    "t_numeric = []\n",
    "t_numeric_add = []\n",
    "t_array = []\n",
    "t_array_add = []\n",
    "for size in sizes:\n",
    "    tn, tna, run_id_n =  insert_data('numeric', size)\n",
    "    t_numeric.append(tn)\n",
    "    t_numeric_add.append(tna)\n",
    "\n",
    "    ta, taa, run_id_a =  insert_data('array', size)\n",
    "    t_array.append(ta)\n",
    "    t_array_add.append(taa)"
   ]
  },
  {
   "cell_type": "code",
   "execution_count": 6,
   "metadata": {
    "execution": {
     "iopub.execute_input": "2020-11-18T15:19:17.467735Z",
     "iopub.status.busy": "2020-11-18T15:19:17.463081Z",
     "iopub.status.idle": "2020-11-18T15:19:17.677703Z",
     "shell.execute_reply": "2020-11-18T15:19:17.677185Z"
    }
   },
   "outputs": [
    {
     "data": {
      "image/png": "[encoded data removed]",
      "text/plain": [
       "<Figure size 432x288 with 1 Axes>"
      ]
     },
     "metadata": {
      "needs_background": "light"
     },
     "output_type": "display_data"
    }
   ],
   "source": [
    "fig, ax = plt.subplots(1,1)\n",
    "ax.plot(sizes, t_numeric, 'o-', label='Inserting row-by-row')\n",
    "ax.plot(sizes, t_numeric_add, 'o-', label='Inserting row-by-row: add_result only')\n",
    "ax.plot(sizes, t_array, 'd-', label='Inserting as binary blob')\n",
    "ax.plot(sizes, t_array_add, 'd-', label='Inserting as binary blob: add_result only')\n",
    "ax.legend()\n",
    "ax.set_xlabel('Array length')\n",
    "ax.set_ylabel('Time (s)')\n",
    "fig.tight_layout()"
   ]
  },
  {
   "cell_type": "markdown",
   "metadata": {},
   "source": [
    "As shown in the latter figure, the time to setup and and close the experiment is approximately 0.4 sec. In case of small array sizes, the difference between inserting values of data as arrays and inserting them row-by-row is relatively unimportant. At larger array sizes, i.e. above 10000 points, the cost of writing data as individual datapoints starts to become important.\n"
   ]
  },
  {
   "cell_type": "markdown",
   "metadata": {},
   "source": [
    "### Case2: Long experiment time "
   ]
  },
  {
   "cell_type": "code",
   "execution_count": 7,
   "metadata": {
    "execution": {
     "iopub.execute_input": "2020-11-18T15:19:17.685684Z",
     "iopub.status.busy": "2020-11-18T15:19:17.684710Z",
     "iopub.status.idle": "2020-11-18T15:20:19.337977Z",
     "shell.execute_reply": "2020-11-18T15:20:19.337453Z"
    }
   },
   "outputs": [
    {
     "name": "stdout",
     "output_type": "stream",
     "text": [
      "Starting experimental run with id: 15. \n",
      "Starting experimental run with id: 16. \n",
      "Starting experimental run with id: 17. \n"
     ]
    },
    {
     "name": "stdout",
     "output_type": "stream",
     "text": [
      "Starting experimental run with id: 18. \n",
      "Starting experimental run with id: 19. \n"
     ]
    },
    {
     "name": "stdout",
     "output_type": "stream",
     "text": [
      "Starting experimental run with id: 20. \n"
     ]
    },
    {
     "name": "stdout",
     "output_type": "stream",
     "text": [
      "Starting experimental run with id: 21. \n"
     ]
    },
    {
     "name": "stdout",
     "output_type": "stream",
     "text": [
      "Starting experimental run with id: 22. \n"
     ]
    },
    {
     "name": "stdout",
     "output_type": "stream",
     "text": [
      "Starting experimental run with id: 23. \n"
     ]
    },
    {
     "name": "stdout",
     "output_type": "stream",
     "text": [
      "Starting experimental run with id: 24. \n"
     ]
    },
    {
     "name": "stdout",
     "output_type": "stream",
     "text": [
      "Starting experimental run with id: 25. \n"
     ]
    },
    {
     "name": "stdout",
     "output_type": "stream",
     "text": [
      "Starting experimental run with id: 26. \n"
     ]
    },
    {
     "name": "stdout",
     "output_type": "stream",
     "text": [
      "Starting experimental run with id: 27. \n"
     ]
    },
    {
     "name": "stdout",
     "output_type": "stream",
     "text": [
      "Starting experimental run with id: 28. \n"
     ]
    }
   ],
   "source": [
    "sizes = [1,500,1000,2000,3000,4000,5000]\n",
    "nreps = 100\n",
    "t_numeric = []\n",
    "t_numeric_add = []\n",
    "t_numeric_run_ids = []\n",
    "t_array = []\n",
    "t_array_add = []\n",
    "t_array_run_ids = []\n",
    "for size in sizes:\n",
    "    tn, tna, run_id_n =  insert_data('numeric', size, nreps=nreps)\n",
    "    t_numeric.append(tn)\n",
    "    t_numeric_add.append(tna)\n",
    "    t_numeric_run_ids.append(run_id_n)\n",
    "\n",
    "    ta, taa, run_id_a =  insert_data('array', size, nreps=nreps)\n",
    "    t_array.append(ta)\n",
    "    t_array_add.append(taa)\n",
    "    t_array_run_ids.append(run_id_a)"
   ]
  },
  {
   "cell_type": "code",
   "execution_count": 8,
   "metadata": {
    "execution": {
     "iopub.execute_input": "2020-11-18T15:20:19.360436Z",
     "iopub.status.busy": "2020-11-18T15:20:19.354452Z",
     "iopub.status.idle": "2020-11-18T15:20:19.543661Z",
     "shell.execute_reply": "2020-11-18T15:20:19.543145Z"
    },
    "scrolled": true
   },
   "outputs": [
    {
     "data": {
      "image/png": "[encoded data removed]",
      "text/plain": [
       "<Figure size 432x288 with 1 Axes>"
      ]
     },
     "metadata": {
      "needs_background": "light"
     },
     "output_type": "display_data"
    }
   ],
   "source": [
    "fig, ax = plt.subplots(1,1)\n",
    "ax.plot(sizes, t_numeric, 'o-', label='Inserting row-by-row')\n",
    "ax.plot(sizes, t_numeric_add, 'o-', label='Inserting row-by-row: add_result only')\n",
    "ax.plot(sizes, t_array, 'd-', label='Inserting as binary blob')\n",
    "ax.plot(sizes, t_array_add, 'd-', label='Inserting as binary blob: add_result only')\n",
    "ax.legend()\n",
    "ax.set_xlabel('Array length')\n",
    "ax.set_ylabel('Time (s)')\n",
    "fig.tight_layout()"
   ]
  },
  {
   "cell_type": "markdown",
   "metadata": {},
   "source": [
    "However, as we increase the length of the experiment, as seen here by repeating the insertion 100 times, we see a big difference between inserting values of the data row-by-row and inserting it as a binary blob."
   ]
  },
  {
   "cell_type": "markdown",
   "metadata": {},
   "source": [
    "## Loading the data "
   ]
  },
  {
   "cell_type": "code",
   "execution_count": 9,
   "metadata": {
    "execution": {
     "iopub.execute_input": "2020-11-18T15:20:19.548141Z",
     "iopub.status.busy": "2020-11-18T15:20:19.547098Z",
     "iopub.status.idle": "2020-11-18T15:20:19.550033Z",
     "shell.execute_reply": "2020-11-18T15:20:19.550466Z"
    }
   },
   "outputs": [],
   "source": [
    "from qcodes.dataset.data_set import load_by_id\n",
    "from qcodes.dataset.data_export import get_data_by_id"
   ]
  },
  {
   "cell_type": "markdown",
   "metadata": {},
   "source": [
    "As usual you can load the data by using the ``load_by_id`` function but you will notice that the different storage methods\n",
    "are reflected in shape of the data as it is retrieved. "
   ]
  },
  {
   "cell_type": "code",
   "execution_count": 10,
   "metadata": {
    "execution": {
     "iopub.execute_input": "2020-11-18T15:20:19.555216Z",
     "iopub.status.busy": "2020-11-18T15:20:19.554063Z",
     "iopub.status.idle": "2020-11-18T15:20:19.555884Z",
     "shell.execute_reply": "2020-11-18T15:20:19.556341Z"
    }
   },
   "outputs": [],
   "source": [
    "run_id_n = t_numeric_run_ids[0]\n",
    "run_id_a = t_array_run_ids[0]"
   ]
  },
  {
   "cell_type": "code",
   "execution_count": 11,
   "metadata": {
    "execution": {
     "iopub.execute_input": "2020-11-18T15:20:19.559907Z",
     "iopub.status.busy": "2020-11-18T15:20:19.559308Z",
     "iopub.status.idle": "2020-11-18T15:20:19.569301Z",
     "shell.execute_reply": "2020-11-18T15:20:19.568817Z"
    },
    "scrolled": true
   },
   "outputs": [
    {
     "data": {
      "text/plain": [
       "{'x1': {'x1': array([0.84816208, 0.84816208, 0.79213034, 0.79213034, 0.51200689,\n",
       "         0.51200689, 0.0298266 , 0.0298266 , 0.36653917, 0.36653917,\n",
       "         0.51945541, 0.51945541, 0.24751275, 0.24751275, 0.02021118,\n",
       "         0.02021118, 0.12669049, 0.12669049, 0.97126609, 0.97126609,\n",
       "         0.52529715, 0.52529715, 0.78357455, 0.78357455, 0.87991889,\n",
       "         0.87991889, 0.7859239 , 0.7859239 , 0.66044688, 0.66044688,\n",
       "         0.20690274, 0.20690274, 0.06719017, 0.06719017, 0.79857423,\n",
       "         0.79857423, 0.48951241, 0.48951241, 0.95141147, 0.95141147,\n",
       "         0.14230856, 0.14230856, 0.02304123, 0.02304123, 0.47086676,\n",
       "         0.47086676, 0.29063116, 0.29063116, 0.7901863 , 0.7901863 ,\n",
       "         0.56855702, 0.56855702, 0.30498308, 0.30498308, 0.82459465,\n",
       "         0.82459465, 0.42005355, 0.42005355, 0.23855259, 0.23855259,\n",
       "         0.23397686, 0.23397686, 0.82543174, 0.82543174, 0.81086597,\n",
       "         0.81086597, 0.05588294, 0.05588294, 0.64300698, 0.64300698,\n",
       "         0.38228682, 0.38228682, 0.68901718, 0.68901718, 0.29000929,\n",
       "         0.29000929, 0.73357392, 0.73357392, 0.56888649, 0.56888649,\n",
       "         0.00634833, 0.00634833, 0.98091512, 0.98091512, 0.37647475,\n",
       "         0.37647475, 0.32434037, 0.32434037, 0.50672644, 0.50672644,\n",
       "         0.04638646, 0.04638646, 0.97949255, 0.97949255, 0.63935089,\n",
       "         0.63935089, 0.08448865, 0.08448865, 0.00692056, 0.00692056,\n",
       "         0.13136046, 0.13136046, 0.1264623 , 0.1264623 , 0.37900763,\n",
       "         0.37900763, 0.46216921, 0.46216921, 0.14920479, 0.14920479,\n",
       "         0.90282564, 0.90282564, 0.36468672, 0.36468672, 0.56437779,\n",
       "         0.56437779, 0.47279891, 0.47279891, 0.11440804, 0.11440804,\n",
       "         0.50266113, 0.50266113, 0.6749799 , 0.6749799 , 0.1558944 ,\n",
       "         0.1558944 , 0.83631622, 0.83631622, 0.35517419, 0.35517419,\n",
       "         0.70492941, 0.70492941, 0.87002131, 0.87002131, 0.11095166,\n",
       "         0.11095166, 0.18113812, 0.18113812, 0.33676567, 0.33676567,\n",
       "         0.39031257, 0.39031257, 0.93935479, 0.93935479, 0.41741599,\n",
       "         0.41741599, 0.85751935, 0.85751935, 0.93726497, 0.93726497,\n",
       "         0.0169899 , 0.0169899 , 0.08738048, 0.08738048, 0.54562562,\n",
       "         0.54562562, 0.43267556, 0.43267556, 0.69964388, 0.69964388,\n",
       "         0.78141557, 0.78141557, 0.04368491, 0.04368491, 0.01237073,\n",
       "         0.01237073, 0.89955269, 0.89955269, 0.46235874, 0.46235874,\n",
       "         0.26175347, 0.26175347, 0.46410966, 0.46410966, 0.91534736,\n",
       "         0.91534736, 0.24965389, 0.24965389, 0.41984907, 0.41984907,\n",
       "         0.61971978, 0.61971978, 0.80219728, 0.80219728, 0.58894479,\n",
       "         0.58894479, 0.79634902, 0.79634902, 0.07064631, 0.07064631,\n",
       "         0.68554762, 0.68554762, 0.48737559, 0.48737559, 0.79482989,\n",
       "         0.79482989, 0.18135532, 0.18135532, 0.57374412, 0.57374412])}}"
      ]
     },
     "execution_count": 1,
     "metadata": {},
     "output_type": "execute_result"
    }
   ],
   "source": [
    "ds = load_by_id(run_id_n)\n",
    "ds.get_parameter_data('x1')"
   ]
  },
  {
   "cell_type": "markdown",
   "metadata": {},
   "source": [
    "And a dataset stored as binary arrays"
   ]
  },
  {
   "cell_type": "code",
   "execution_count": 12,
   "metadata": {
    "execution": {
     "iopub.execute_input": "2020-11-18T15:20:19.572975Z",
     "iopub.status.busy": "2020-11-18T15:20:19.572422Z",
     "iopub.status.idle": "2020-11-18T15:20:19.636583Z",
     "shell.execute_reply": "2020-11-18T15:20:19.636076Z"
    },
    "scrolled": true
   },
   "outputs": [
    {
     "data": {
      "text/plain": [
       "{'x1': {'x1': array([[0.74262625],\n",
       "         [0.74262625],\n",
       "         [0.45757109],\n",
       "         [0.45757109],\n",
       "         [0.13004285],\n",
       "         [0.13004285],\n",
       "         [0.95000388],\n",
       "         [0.95000388],\n",
       "         [0.80481583],\n",
       "         [0.80481583],\n",
       "         [0.0523449 ],\n",
       "         [0.0523449 ],\n",
       "         [0.26147476],\n",
       "         [0.26147476],\n",
       "         [0.56455591],\n",
       "         [0.56455591],\n",
       "         [0.80143808],\n",
       "         [0.80143808],\n",
       "         [0.59745002],\n",
       "         [0.59745002],\n",
       "         [0.15560927],\n",
       "         [0.15560927],\n",
       "         [0.52476837],\n",
       "         [0.52476837],\n",
       "         [0.668571  ],\n",
       "         [0.668571  ],\n",
       "         [0.72323916],\n",
       "         [0.72323916],\n",
       "         [0.43869044],\n",
       "         [0.43869044],\n",
       "         [0.11021382],\n",
       "         [0.11021382],\n",
       "         [0.53053037],\n",
       "         [0.53053037],\n",
       "         [0.51684225],\n",
       "         [0.51684225],\n",
       "         [0.73966649],\n",
       "         [0.73966649],\n",
       "         [0.24697376],\n",
       "         [0.24697376],\n",
       "         [0.85485445],\n",
       "         [0.85485445],\n",
       "         [0.98731199],\n",
       "         [0.98731199],\n",
       "         [0.71172012],\n",
       "         [0.71172012],\n",
       "         [0.55461777],\n",
       "         [0.55461777],\n",
       "         [0.63930643],\n",
       "         [0.63930643],\n",
       "         [0.15680836],\n",
       "         [0.15680836],\n",
       "         [0.1316651 ],\n",
       "         [0.1316651 ],\n",
       "         [0.36757313],\n",
       "         [0.36757313],\n",
       "         [0.61643585],\n",
       "         [0.61643585],\n",
       "         [0.48991484],\n",
       "         [0.48991484],\n",
       "         [0.50997267],\n",
       "         [0.50997267],\n",
       "         [0.34485949],\n",
       "         [0.34485949],\n",
       "         [0.68587643],\n",
       "         [0.68587643],\n",
       "         [0.70686658],\n",
       "         [0.70686658],\n",
       "         [0.11953099],\n",
       "         [0.11953099],\n",
       "         [0.75073208],\n",
       "         [0.75073208],\n",
       "         [0.59812847],\n",
       "         [0.59812847],\n",
       "         [0.1792942 ],\n",
       "         [0.1792942 ],\n",
       "         [0.65336795],\n",
       "         [0.65336795],\n",
       "         [0.09917572],\n",
       "         [0.09917572],\n",
       "         [0.36133849],\n",
       "         [0.36133849],\n",
       "         [0.19905442],\n",
       "         [0.19905442],\n",
       "         [0.96480575],\n",
       "         [0.96480575],\n",
       "         [0.5669718 ],\n",
       "         [0.5669718 ],\n",
       "         [0.14381868],\n",
       "         [0.14381868],\n",
       "         [0.67706842],\n",
       "         [0.67706842],\n",
       "         [0.76845132],\n",
       "         [0.76845132],\n",
       "         [0.90535458],\n",
       "         [0.90535458],\n",
       "         [0.43899056],\n",
       "         [0.43899056],\n",
       "         [0.28844444],\n",
       "         [0.28844444],\n",
       "         [0.0596092 ],\n",
       "         [0.0596092 ],\n",
       "         [0.87523295],\n",
       "         [0.87523295],\n",
       "         [0.07161443],\n",
       "         [0.07161443],\n",
       "         [0.18343767],\n",
       "         [0.18343767],\n",
       "         [0.53318657],\n",
       "         [0.53318657],\n",
       "         [0.13939166],\n",
       "         [0.13939166],\n",
       "         [0.87442107],\n",
       "         [0.87442107],\n",
       "         [0.16371611],\n",
       "         [0.16371611],\n",
       "         [0.83829802],\n",
       "         [0.83829802],\n",
       "         [0.04336163],\n",
       "         [0.04336163],\n",
       "         [0.46859087],\n",
       "         [0.46859087],\n",
       "         [0.3593782 ],\n",
       "         [0.3593782 ],\n",
       "         [0.60154008],\n",
       "         [0.60154008],\n",
       "         [0.83236157],\n",
       "         [0.83236157],\n",
       "         [0.64779323],\n",
       "         [0.64779323],\n",
       "         [0.5024921 ],\n",
       "         [0.5024921 ],\n",
       "         [0.08840923],\n",
       "         [0.08840923],\n",
       "         [0.3224631 ],\n",
       "         [0.3224631 ],\n",
       "         [0.38983747],\n",
       "         [0.38983747],\n",
       "         [0.79231577],\n",
       "         [0.79231577],\n",
       "         [0.01882685],\n",
       "         [0.01882685],\n",
       "         [0.53437488],\n",
       "         [0.53437488],\n",
       "         [0.32927748],\n",
       "         [0.32927748],\n",
       "         [0.20491512],\n",
       "         [0.20491512],\n",
       "         [0.68656199],\n",
       "         [0.68656199],\n",
       "         [0.73118734],\n",
       "         [0.73118734],\n",
       "         [0.6993636 ],\n",
       "         [0.6993636 ],\n",
       "         [0.22756983],\n",
       "         [0.22756983],\n",
       "         [0.1079891 ],\n",
       "         [0.1079891 ],\n",
       "         [0.75962885],\n",
       "         [0.75962885],\n",
       "         [0.62912619],\n",
       "         [0.62912619],\n",
       "         [0.54371938],\n",
       "         [0.54371938],\n",
       "         [0.62480979],\n",
       "         [0.62480979],\n",
       "         [0.50724903],\n",
       "         [0.50724903],\n",
       "         [0.69984026],\n",
       "         [0.69984026],\n",
       "         [0.02760751],\n",
       "         [0.02760751],\n",
       "         [0.74501717],\n",
       "         [0.74501717],\n",
       "         [0.44882627],\n",
       "         [0.44882627],\n",
       "         [0.09276129],\n",
       "         [0.09276129],\n",
       "         [0.14895077],\n",
       "         [0.14895077],\n",
       "         [0.00782754],\n",
       "         [0.00782754],\n",
       "         [0.62713545],\n",
       "         [0.62713545],\n",
       "         [0.62741292],\n",
       "         [0.62741292],\n",
       "         [0.93575907],\n",
       "         [0.93575907],\n",
       "         [0.71672839],\n",
       "         [0.71672839],\n",
       "         [0.41766536],\n",
       "         [0.41766536],\n",
       "         [0.38293139],\n",
       "         [0.38293139],\n",
       "         [0.65242072],\n",
       "         [0.65242072],\n",
       "         [0.29435683],\n",
       "         [0.29435683],\n",
       "         [0.80421059],\n",
       "         [0.80421059]])}}"
      ]
     },
     "execution_count": 1,
     "metadata": {},
     "output_type": "execute_result"
    }
   ],
   "source": [
    "ds = load_by_id(run_id_a)\n",
    "ds.get_parameter_data('x1')"
   ]
  },
  {
   "cell_type": "code",
   "execution_count": null,
   "metadata": {},
   "outputs": [],
   "source": []
  }
 ],
 "metadata": {
  "kernelspec": {
   "display_name": "Python 3",
   "language": "python",
   "name": "python3"
  },
  "language_info": {
   "codemirror_mode": {
    "name": "ipython",
    "version": 3
   },
   "file_extension": ".py",
   "mimetype": "text/x-python",
   "name": "python",
   "nbconvert_exporter": "python",
   "pygments_lexer": "ipython3",
   "version": "3.7.9"
  },
  "nbsphinx": {
   "timeout": 600
  },
  "toc": {
   "base_numbering": 1,
   "nav_menu": {},
   "number_sections": true,
   "sideBar": true,
   "skip_h1_title": false,
   "title_cell": "Table of Contents",
   "title_sidebar": "Contents",
   "toc_cell": false,
   "toc_position": {},
   "toc_section_display": true,
   "toc_window_display": false
  },
  "varInspector": {
   "cols": {
    "lenName": 16,
    "lenType": 16,
    "lenVar": 40
   },
   "kernels_config": {
    "python": {
     "delete_cmd_postfix": "",
     "delete_cmd_prefix": "del ",
     "library": "var_list.py",
     "varRefreshCmd": "print(var_dic_list())"
    },
    "r": {
     "delete_cmd_postfix": ") ",
     "delete_cmd_prefix": "rm(",
     "library": "var_list.r",
     "varRefreshCmd": "cat(var_dic_list()) "
    }
   },
   "types_to_exclude": [
    "module",
    "function",
    "builtin_function_or_method",
    "instance",
    "_Feature"
   ],
   "window_display": false
  }
 },
 "nbformat": 4,
 "nbformat_minor": 2
}
