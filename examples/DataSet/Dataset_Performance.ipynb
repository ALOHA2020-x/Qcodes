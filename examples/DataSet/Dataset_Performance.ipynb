{
 "cells": [
  {
   "cell_type": "markdown",
   "metadata": {},
   "source": [
    "# DataSet Performance\n",
    "\n",
    "This notebook shows the trade-off between inserting data into a database row-by-row and as binary blobs. Inserting the data row-by-row means that we have direct access to all the data and may perform queries directly on the values of the data. On the other hand, as we shall see, this is much slower than inserting the data directly as binary blobs."
   ]
  },
  {
   "cell_type": "markdown",
   "metadata": {},
   "source": [
    "First, we choose a new location for the database to ensure that we don't add a bunch of benchmarking data to the default one."
   ]
  },
  {
   "cell_type": "code",
   "execution_count": 1,
   "metadata": {
    "execution": {
     "iopub.execute_input": "2020-10-16T09:32:35.356511Z",
     "iopub.status.busy": "2020-10-16T09:32:35.355885Z",
     "iopub.status.idle": "2020-10-16T09:32:36.421571Z",
     "shell.execute_reply": "2020-10-16T09:32:36.420932Z"
    }
   },
   "outputs": [
    {
     "name": "stdout",
     "output_type": "stream",
     "text": [
      "Logging hadn't been started.\n",
      "Activating auto-logging. Current session state plus future input saved.\n",
      "Filename       : /home/vsts/.qcodes/logs/command_history.log\n",
      "Mode           : append\n",
      "Output logging : True\n",
      "Raw input log  : False\n",
      "Timestamping   : True\n",
      "State          : active\n"
     ]
    },
    {
     "name": "stdout",
     "output_type": "stream",
     "text": [
      "Qcodes Logfile : /home/vsts/.qcodes/logs/201016-14661-qcodes.log\n"
     ]
    }
   ],
   "source": [
    "import os\n",
    "cwd = os.getcwd()\n",
    "import qcodes as qc\n",
    "qc.config[\"core\"][\"db_location\"] = os.path.join(cwd, 'testing.db')\n"
   ]
  },
  {
   "cell_type": "code",
   "execution_count": 2,
   "metadata": {
    "execution": {
     "iopub.execute_input": "2020-10-16T09:32:36.428588Z",
     "iopub.status.busy": "2020-10-16T09:32:36.427008Z",
     "iopub.status.idle": "2020-10-16T09:32:36.614439Z",
     "shell.execute_reply": "2020-10-16T09:32:36.613628Z"
    }
   },
   "outputs": [],
   "source": [
    "%matplotlib inline\n",
    "import time\n",
    "import matplotlib.pyplot as plt\n",
    "import numpy as np\n",
    "\n",
    "import qcodes as qc\n",
    "from qcodes.instrument.parameter import ManualParameter\n",
    "from qcodes.dataset.experiment_container import (Experiment,\n",
    "                                                 load_last_experiment,\n",
    "                                                 new_experiment)\n",
    "from qcodes.dataset.sqlite.database import initialise_database\n",
    "from qcodes import load_or_create_experiment\n",
    "from qcodes.dataset.measurements import Measurement"
   ]
  },
  {
   "cell_type": "code",
   "execution_count": 3,
   "metadata": {
    "execution": {
     "iopub.execute_input": "2020-10-16T09:32:36.618544Z",
     "iopub.status.busy": "2020-10-16T09:32:36.617769Z",
     "iopub.status.idle": "2020-10-16T09:32:36.722748Z",
     "shell.execute_reply": "2020-10-16T09:32:36.721938Z"
    }
   },
   "outputs": [
    {
     "name": "stdout",
     "output_type": "stream",
     "text": [
      "\r",
      "0it [00:00, ?it/s]"
     ]
    },
    {
     "name": "stdout",
     "output_type": "stream",
     "text": [
      "\r",
      "Upgrading database; v0 -> v1: : 0it [00:00, ?it/s]"
     ]
    },
    {
     "name": "stdout",
     "output_type": "stream",
     "text": [
      "\r",
      "Upgrading database; v0 -> v1: : 0it [00:00, ?it/s]"
     ]
    },
    {
     "name": "stdout",
     "output_type": "stream",
     "text": [
      "\n",
      "\r",
      "  0%|          | 0/1 [00:00<?, ?it/s]"
     ]
    },
    {
     "name": "stdout",
     "output_type": "stream",
     "text": [
      "\r",
      "Upgrading database; v1 -> v2:   0%|          | 0/1 [00:00<?, ?it/s]"
     ]
    },
    {
     "name": "stdout",
     "output_type": "stream",
     "text": [
      "\r",
      "Upgrading database; v1 -> v2: 100%|██████████| 1/1 [00:00<00:00, 541.76it/s]"
     ]
    },
    {
     "name": "stdout",
     "output_type": "stream",
     "text": [
      "\n",
      "\r",
      "0it [00:00, ?it/s]"
     ]
    },
    {
     "name": "stdout",
     "output_type": "stream",
     "text": [
      "\r",
      "Upgrading database; v2 -> v3: : 0it [00:00, ?it/s]"
     ]
    },
    {
     "name": "stdout",
     "output_type": "stream",
     "text": [
      "\r",
      "Upgrading database; v2 -> v3: : 0it [00:00, ?it/s]"
     ]
    },
    {
     "name": "stdout",
     "output_type": "stream",
     "text": [
      "\n",
      "\r",
      "0it [00:00, ?it/s]"
     ]
    },
    {
     "name": "stdout",
     "output_type": "stream",
     "text": [
      "\r",
      "Upgrading database; v3 -> v4: : 0it [00:00, ?it/s]"
     ]
    },
    {
     "name": "stdout",
     "output_type": "stream",
     "text": [
      "\r",
      "Upgrading database; v3 -> v4: : 0it [00:00, ?it/s]"
     ]
    },
    {
     "name": "stdout",
     "output_type": "stream",
     "text": [
      "\n",
      "\r",
      "  0%|          | 0/1 [00:00<?, ?it/s]"
     ]
    },
    {
     "name": "stdout",
     "output_type": "stream",
     "text": [
      "\r",
      "Upgrading database; v4 -> v5:   0%|          | 0/1 [00:00<?, ?it/s]"
     ]
    },
    {
     "name": "stdout",
     "output_type": "stream",
     "text": [
      "\r",
      "Upgrading database; v4 -> v5: 100%|██████████| 1/1 [00:00<00:00, 663.45it/s]"
     ]
    },
    {
     "name": "stdout",
     "output_type": "stream",
     "text": [
      "\n",
      "\r",
      "0it [00:00, ?it/s]"
     ]
    },
    {
     "name": "stdout",
     "output_type": "stream",
     "text": [
      "\r",
      "Upgrading database; v5 -> v6: : 0it [00:00, ?it/s]"
     ]
    },
    {
     "name": "stdout",
     "output_type": "stream",
     "text": [
      "\r",
      "Upgrading database; v5 -> v6: : 0it [00:00, ?it/s]"
     ]
    },
    {
     "name": "stdout",
     "output_type": "stream",
     "text": [
      "\n",
      "\r",
      "  0%|          | 0/1 [00:00<?, ?it/s]"
     ]
    },
    {
     "name": "stdout",
     "output_type": "stream",
     "text": [
      "\r",
      "Upgrading database; v6 -> v7:   0%|          | 0/1 [00:00<?, ?it/s]"
     ]
    },
    {
     "name": "stdout",
     "output_type": "stream",
     "text": [
      "\r",
      "Upgrading database; v6 -> v7: 100%|██████████| 1/1 [00:00<00:00, 364.41it/s]"
     ]
    },
    {
     "name": "stdout",
     "output_type": "stream",
     "text": [
      "\n",
      "\r",
      "  0%|          | 0/1 [00:00<?, ?it/s]"
     ]
    },
    {
     "name": "stdout",
     "output_type": "stream",
     "text": [
      "\r",
      "Upgrading database; v7 -> v8:   0%|          | 0/1 [00:00<?, ?it/s]"
     ]
    },
    {
     "name": "stdout",
     "output_type": "stream",
     "text": [
      "\r",
      "Upgrading database; v7 -> v8: 100%|██████████| 1/1 [00:00<00:00, 766.64it/s]"
     ]
    },
    {
     "name": "stdout",
     "output_type": "stream",
     "text": [
      "\n",
      "\r",
      "  0%|          | 0/1 [00:00<?, ?it/s]"
     ]
    },
    {
     "name": "stdout",
     "output_type": "stream",
     "text": [
      "\r",
      "Upgrading database; v8 -> v9:   0%|          | 0/1 [00:00<?, ?it/s]"
     ]
    },
    {
     "name": "stdout",
     "output_type": "stream",
     "text": [
      "\r",
      "Upgrading database; v8 -> v9: 100%|██████████| 1/1 [00:00<00:00, 849.91it/s]"
     ]
    },
    {
     "name": "stdout",
     "output_type": "stream",
     "text": [
      "\n"
     ]
    }
   ],
   "source": [
    "initialise_database()\n",
    "exp = load_or_create_experiment(experiment_name='tutorial_exp', sample_name=\"no sample\")"
   ]
  },
  {
   "cell_type": "markdown",
   "metadata": {},
   "source": [
    "Here, we define a simple function to benchmark the time it takes to insert n points with either numeric or array data type.\n",
    "We will compare both the time used to call ``add_result`` and the time used for the full measurement."
   ]
  },
  {
   "cell_type": "code",
   "execution_count": 4,
   "metadata": {
    "execution": {
     "iopub.execute_input": "2020-10-16T09:32:36.732570Z",
     "iopub.status.busy": "2020-10-16T09:32:36.730913Z",
     "iopub.status.idle": "2020-10-16T09:32:36.733506Z",
     "shell.execute_reply": "2020-10-16T09:32:36.734167Z"
    }
   },
   "outputs": [],
   "source": [
    "def insert_data(paramtype, npoints, nreps=1):\n",
    "\n",
    "    meas = Measurement(exp=exp)\n",
    "\n",
    "    x1 = ManualParameter('x1')\n",
    "    x2 = ManualParameter('x2')\n",
    "    x3 = ManualParameter('x3')\n",
    "    y1 = ManualParameter('y1')\n",
    "    y2 = ManualParameter('y2')\n",
    "\n",
    "    meas.register_parameter(x1, paramtype=paramtype)\n",
    "    meas.register_parameter(x2, paramtype=paramtype)\n",
    "    meas.register_parameter(x3, paramtype=paramtype)\n",
    "    meas.register_parameter(y1, setpoints=[x1, x2, x3],\n",
    "                            paramtype=paramtype)\n",
    "    meas.register_parameter(y2, setpoints=[x1, x2, x3],\n",
    "                            paramtype=paramtype)\n",
    "    start = time.perf_counter()\n",
    "    with meas.run() as datasaver:\n",
    "        start_adding = time.perf_counter()\n",
    "        for i in range(nreps):\n",
    "            datasaver.add_result((x1, np.random.rand(npoints)),\n",
    "                                 (x2, np.random.rand(npoints)),\n",
    "                                 (x3, np.random.rand(npoints)),\n",
    "                                 (y1, np.random.rand(npoints)),\n",
    "                                 (y2, np.random.rand(npoints)))\n",
    "        stop_adding = time.perf_counter()\n",
    "        run_id = datasaver.run_id\n",
    "    stop = time.perf_counter()\n",
    "    tot_time = stop - start\n",
    "    add_time = stop_adding - start_adding\n",
    "    return tot_time, add_time, run_id"
   ]
  },
  {
   "cell_type": "markdown",
   "metadata": {},
   "source": [
    "## Comparison between numeric/array data and binary blob"
   ]
  },
  {
   "cell_type": "markdown",
   "metadata": {},
   "source": [
    "### Case1: Short experiment time"
   ]
  },
  {
   "cell_type": "code",
   "execution_count": 5,
   "metadata": {
    "execution": {
     "iopub.execute_input": "2020-10-16T09:32:36.741286Z",
     "iopub.status.busy": "2020-10-16T09:32:36.740579Z",
     "iopub.status.idle": "2020-10-16T09:32:37.575589Z",
     "shell.execute_reply": "2020-10-16T09:32:37.574969Z"
    }
   },
   "outputs": [
    {
     "name": "stdout",
     "output_type": "stream",
     "text": [
      "Starting experimental run with id: 1. \n",
      "Starting experimental run with id: 2. \n",
      "Starting experimental run with id: 3. \n",
      "Starting experimental run with id: 4. \n"
     ]
    },
    {
     "name": "stdout",
     "output_type": "stream",
     "text": [
      "Starting experimental run with id: 5. \n"
     ]
    },
    {
     "name": "stdout",
     "output_type": "stream",
     "text": [
      "Starting experimental run with id: 6. \n",
      "Starting experimental run with id: 7. \n"
     ]
    },
    {
     "name": "stdout",
     "output_type": "stream",
     "text": [
      "Starting experimental run with id: 8. \n",
      "Starting experimental run with id: 9. \n"
     ]
    },
    {
     "name": "stdout",
     "output_type": "stream",
     "text": [
      "Starting experimental run with id: 10. \n",
      "Starting experimental run with id: 11. \n"
     ]
    },
    {
     "name": "stdout",
     "output_type": "stream",
     "text": [
      "Starting experimental run with id: 12. \n",
      "Starting experimental run with id: 13. \n"
     ]
    },
    {
     "name": "stdout",
     "output_type": "stream",
     "text": [
      "Starting experimental run with id: 14. \n"
     ]
    }
   ],
   "source": [
    "sizes = [1,500,1000,2000,3000,4000,5000]\n",
    "t_numeric = []\n",
    "t_numeric_add = []\n",
    "t_array = []\n",
    "t_array_add = []\n",
    "for size in sizes:\n",
    "    tn, tna, run_id_n =  insert_data('numeric', size)\n",
    "    t_numeric.append(tn)\n",
    "    t_numeric_add.append(tna)\n",
    "\n",
    "    ta, taa, run_id_a =  insert_data('array', size)\n",
    "    t_array.append(ta)\n",
    "    t_array_add.append(taa)"
   ]
  },
  {
   "cell_type": "code",
   "execution_count": 6,
   "metadata": {
    "execution": {
     "iopub.execute_input": "2020-10-16T09:32:37.594141Z",
     "iopub.status.busy": "2020-10-16T09:32:37.593540Z",
     "iopub.status.idle": "2020-10-16T09:32:37.811826Z",
     "shell.execute_reply": "2020-10-16T09:32:37.812528Z"
    }
   },
   "outputs": [
    {
     "data": {
      "image/png": "[encoded data removed]",
      "text/plain": [
       "<Figure size 432x288 with 1 Axes>"
      ]
     },
     "metadata": {
      "needs_background": "light"
     },
     "output_type": "display_data"
    }
   ],
   "source": [
    "fig, ax = plt.subplots(1,1)\n",
    "ax.plot(sizes, t_numeric, 'o-', label='Inserting row-by-row')\n",
    "ax.plot(sizes, t_numeric_add, 'o-', label='Inserting row-by-row: add_result only')\n",
    "ax.plot(sizes, t_array, 'd-', label='Inserting as binary blob')\n",
    "ax.plot(sizes, t_array_add, 'd-', label='Inserting as binary blob: add_result only')\n",
    "ax.legend()\n",
    "ax.set_xlabel('Array length')\n",
    "ax.set_ylabel('Time (s)')\n",
    "fig.tight_layout()"
   ]
  },
  {
   "cell_type": "markdown",
   "metadata": {},
   "source": [
    "As shown in the latter figure, the time to setup and and close the experiment is approximately 0.4 sec. In case of small array sizes, the difference between inserting values of data as arrays and inserting them row-by-row is relatively unimportant. At larger array sizes, i.e. above 10000 points, the cost of writing data as individual datapoints starts to become important.\n"
   ]
  },
  {
   "cell_type": "markdown",
   "metadata": {},
   "source": [
    "### Case2: Long experiment time "
   ]
  },
  {
   "cell_type": "code",
   "execution_count": 7,
   "metadata": {
    "execution": {
     "iopub.execute_input": "2020-10-16T09:32:37.819803Z",
     "iopub.status.busy": "2020-10-16T09:32:37.818988Z",
     "iopub.status.idle": "2020-10-16T09:33:38.613409Z",
     "shell.execute_reply": "2020-10-16T09:33:38.614007Z"
    }
   },
   "outputs": [
    {
     "name": "stdout",
     "output_type": "stream",
     "text": [
      "Starting experimental run with id: 15. \n",
      "Starting experimental run with id: 16. \n",
      "Starting experimental run with id: 17. \n"
     ]
    },
    {
     "name": "stdout",
     "output_type": "stream",
     "text": [
      "Starting experimental run with id: 18. \n",
      "Starting experimental run with id: 19. \n"
     ]
    },
    {
     "name": "stdout",
     "output_type": "stream",
     "text": [
      "Starting experimental run with id: 20. \n"
     ]
    },
    {
     "name": "stdout",
     "output_type": "stream",
     "text": [
      "Starting experimental run with id: 21. \n"
     ]
    },
    {
     "name": "stdout",
     "output_type": "stream",
     "text": [
      "Starting experimental run with id: 22. \n"
     ]
    },
    {
     "name": "stdout",
     "output_type": "stream",
     "text": [
      "Starting experimental run with id: 23. \n"
     ]
    },
    {
     "name": "stdout",
     "output_type": "stream",
     "text": [
      "Starting experimental run with id: 24. \n"
     ]
    },
    {
     "name": "stdout",
     "output_type": "stream",
     "text": [
      "Starting experimental run with id: 25. \n"
     ]
    },
    {
     "name": "stdout",
     "output_type": "stream",
     "text": [
      "Starting experimental run with id: 26. \n"
     ]
    },
    {
     "name": "stdout",
     "output_type": "stream",
     "text": [
      "Starting experimental run with id: 27. \n"
     ]
    },
    {
     "name": "stdout",
     "output_type": "stream",
     "text": [
      "Starting experimental run with id: 28. \n"
     ]
    }
   ],
   "source": [
    "sizes = [1,500,1000,2000,3000,4000,5000]\n",
    "nreps = 100\n",
    "t_numeric = []\n",
    "t_numeric_add = []\n",
    "t_numeric_run_ids = []\n",
    "t_array = []\n",
    "t_array_add = []\n",
    "t_array_run_ids = []\n",
    "for size in sizes:\n",
    "    tn, tna, run_id_n =  insert_data('numeric', size, nreps=nreps)\n",
    "    t_numeric.append(tn)\n",
    "    t_numeric_add.append(tna)\n",
    "    t_numeric_run_ids.append(run_id_n)\n",
    "\n",
    "    ta, taa, run_id_a =  insert_data('array', size, nreps=nreps)\n",
    "    t_array.append(ta)\n",
    "    t_array_add.append(taa)\n",
    "    t_array_run_ids.append(run_id_a)"
   ]
  },
  {
   "cell_type": "code",
   "execution_count": 8,
   "metadata": {
    "execution": {
     "iopub.execute_input": "2020-10-16T09:33:38.635531Z",
     "iopub.status.busy": "2020-10-16T09:33:38.633176Z",
     "iopub.status.idle": "2020-10-16T09:33:38.863432Z",
     "shell.execute_reply": "2020-10-16T09:33:38.862829Z"
    },
    "scrolled": true
   },
   "outputs": [
    {
     "data": {
      "image/png": "[encoded data removed]",
      "text/plain": [
       "<Figure size 432x288 with 1 Axes>"
      ]
     },
     "metadata": {
      "needs_background": "light"
     },
     "output_type": "display_data"
    }
   ],
   "source": [
    "fig, ax = plt.subplots(1,1)\n",
    "ax.plot(sizes, t_numeric, 'o-', label='Inserting row-by-row')\n",
    "ax.plot(sizes, t_numeric_add, 'o-', label='Inserting row-by-row: add_result only')\n",
    "ax.plot(sizes, t_array, 'd-', label='Inserting as binary blob')\n",
    "ax.plot(sizes, t_array_add, 'd-', label='Inserting as binary blob: add_result only')\n",
    "ax.legend()\n",
    "ax.set_xlabel('Array length')\n",
    "ax.set_ylabel('Time (s)')\n",
    "fig.tight_layout()"
   ]
  },
  {
   "cell_type": "markdown",
   "metadata": {},
   "source": [
    "However, as we increase the length of the experiment, as seen here by repeating the insertion 100 times, we see a big difference between inserting values of the data row-by-row and inserting it as a binary blob."
   ]
  },
  {
   "cell_type": "markdown",
   "metadata": {},
   "source": [
    "## Loading the data "
   ]
  },
  {
   "cell_type": "code",
   "execution_count": 9,
   "metadata": {
    "execution": {
     "iopub.execute_input": "2020-10-16T09:33:38.867787Z",
     "iopub.status.busy": "2020-10-16T09:33:38.867180Z",
     "iopub.status.idle": "2020-10-16T09:33:38.871646Z",
     "shell.execute_reply": "2020-10-16T09:33:38.871015Z"
    }
   },
   "outputs": [],
   "source": [
    "from qcodes.dataset.data_set import load_by_id\n",
    "from qcodes.dataset.data_export import get_data_by_id"
   ]
  },
  {
   "cell_type": "markdown",
   "metadata": {},
   "source": [
    "As usual you can load the data by using the ``load_by_id`` function but you will notice that the different storage methods\n",
    "are reflected in shape of the data as it is retrieved. "
   ]
  },
  {
   "cell_type": "code",
   "execution_count": 10,
   "metadata": {
    "execution": {
     "iopub.execute_input": "2020-10-16T09:33:38.876550Z",
     "iopub.status.busy": "2020-10-16T09:33:38.875946Z",
     "iopub.status.idle": "2020-10-16T09:33:38.879051Z",
     "shell.execute_reply": "2020-10-16T09:33:38.878470Z"
    }
   },
   "outputs": [],
   "source": [
    "run_id_n = t_numeric_run_ids[0]\n",
    "run_id_a = t_array_run_ids[0]"
   ]
  },
  {
   "cell_type": "code",
   "execution_count": 11,
   "metadata": {
    "execution": {
     "iopub.execute_input": "2020-10-16T09:33:38.882472Z",
     "iopub.status.busy": "2020-10-16T09:33:38.881892Z",
     "iopub.status.idle": "2020-10-16T09:33:38.892132Z",
     "shell.execute_reply": "2020-10-16T09:33:38.892744Z"
    },
    "scrolled": true
   },
   "outputs": [
    {
     "data": {
      "text/plain": [
       "{'x1': {'x1': array([0.56961727, 0.56961727, 0.2347487 , 0.2347487 , 0.1539544 ,\n",
       "         0.1539544 , 0.17164583, 0.17164583, 0.08416188, 0.08416188,\n",
       "         0.47283221, 0.47283221, 0.11090727, 0.11090727, 0.2039424 ,\n",
       "         0.2039424 , 0.17402877, 0.17402877, 0.40404491, 0.40404491,\n",
       "         0.61244229, 0.61244229, 0.92142663, 0.92142663, 0.62406157,\n",
       "         0.62406157, 0.66450986, 0.66450986, 0.36204096, 0.36204096,\n",
       "         0.86273838, 0.86273838, 0.42912846, 0.42912846, 0.62526053,\n",
       "         0.62526053, 0.17977762, 0.17977762, 0.59575867, 0.59575867,\n",
       "         0.94091278, 0.94091278, 0.3144904 , 0.3144904 , 0.97218893,\n",
       "         0.97218893, 0.76896196, 0.76896196, 0.44930665, 0.44930665,\n",
       "         0.37287095, 0.37287095, 0.20334624, 0.20334624, 0.49348045,\n",
       "         0.49348045, 0.63246291, 0.63246291, 0.19833077, 0.19833077,\n",
       "         0.84686437, 0.84686437, 0.20633115, 0.20633115, 0.64415569,\n",
       "         0.64415569, 0.86590501, 0.86590501, 0.20289925, 0.20289925,\n",
       "         0.03886342, 0.03886342, 0.20295425, 0.20295425, 0.13500587,\n",
       "         0.13500587, 0.96556754, 0.96556754, 0.89156936, 0.89156936,\n",
       "         0.06893457, 0.06893457, 0.73482134, 0.73482134, 0.48953588,\n",
       "         0.48953588, 0.41157968, 0.41157968, 0.94691594, 0.94691594,\n",
       "         0.5520768 , 0.5520768 , 0.36867622, 0.36867622, 0.34650087,\n",
       "         0.34650087, 0.14040898, 0.14040898, 0.51839666, 0.51839666,\n",
       "         0.10662626, 0.10662626, 0.95985259, 0.95985259, 0.6326972 ,\n",
       "         0.6326972 , 0.62039604, 0.62039604, 0.92087549, 0.92087549,\n",
       "         0.10725497, 0.10725497, 0.32133971, 0.32133971, 0.43130944,\n",
       "         0.43130944, 0.85440752, 0.85440752, 0.98999233, 0.98999233,\n",
       "         0.2759168 , 0.2759168 , 0.60593827, 0.60593827, 0.02864942,\n",
       "         0.02864942, 0.92437074, 0.92437074, 0.23588325, 0.23588325,\n",
       "         0.47603264, 0.47603264, 0.22476255, 0.22476255, 0.92485513,\n",
       "         0.92485513, 0.96885164, 0.96885164, 0.07357606, 0.07357606,\n",
       "         0.09780271, 0.09780271, 0.94046361, 0.94046361, 0.85570006,\n",
       "         0.85570006, 0.71671322, 0.71671322, 0.61925799, 0.61925799,\n",
       "         0.88471886, 0.88471886, 0.98461448, 0.98461448, 0.10594982,\n",
       "         0.10594982, 0.14721487, 0.14721487, 0.69017194, 0.69017194,\n",
       "         0.99965283, 0.99965283, 0.97787183, 0.97787183, 0.03793757,\n",
       "         0.03793757, 0.07237621, 0.07237621, 0.72070291, 0.72070291,\n",
       "         0.4239226 , 0.4239226 , 0.6095317 , 0.6095317 , 0.61597214,\n",
       "         0.61597214, 0.72068843, 0.72068843, 0.48576999, 0.48576999,\n",
       "         0.09301842, 0.09301842, 0.65947657, 0.65947657, 0.16499516,\n",
       "         0.16499516, 0.79218718, 0.79218718, 0.92238079, 0.92238079,\n",
       "         0.5803993 , 0.5803993 , 0.96824243, 0.96824243, 0.37759489,\n",
       "         0.37759489, 0.71568352, 0.71568352, 0.65733759, 0.65733759])}}"
      ]
     },
     "execution_count": 1,
     "metadata": {},
     "output_type": "execute_result"
    }
   ],
   "source": [
    "ds = load_by_id(run_id_n)\n",
    "ds.get_parameter_data('x1')"
   ]
  },
  {
   "cell_type": "markdown",
   "metadata": {},
   "source": [
    "And a dataset stored as binary arrays"
   ]
  },
  {
   "cell_type": "code",
   "execution_count": 12,
   "metadata": {
    "execution": {
     "iopub.execute_input": "2020-10-16T09:33:38.896256Z",
     "iopub.status.busy": "2020-10-16T09:33:38.895657Z",
     "iopub.status.idle": "2020-10-16T09:33:38.957097Z",
     "shell.execute_reply": "2020-10-16T09:33:38.957764Z"
    },
    "scrolled": true
   },
   "outputs": [
    {
     "data": {
      "text/plain": [
       "{'x1': {'x1': array([[0.04923583],\n",
       "         [0.04923583],\n",
       "         [0.31485544],\n",
       "         [0.31485544],\n",
       "         [0.72882621],\n",
       "         [0.72882621],\n",
       "         [0.32015305],\n",
       "         [0.32015305],\n",
       "         [0.04593101],\n",
       "         [0.04593101],\n",
       "         [0.59932808],\n",
       "         [0.59932808],\n",
       "         [0.46059483],\n",
       "         [0.46059483],\n",
       "         [0.42094733],\n",
       "         [0.42094733],\n",
       "         [0.31061482],\n",
       "         [0.31061482],\n",
       "         [0.28345731],\n",
       "         [0.28345731],\n",
       "         [0.34964852],\n",
       "         [0.34964852],\n",
       "         [0.98753595],\n",
       "         [0.98753595],\n",
       "         [0.90357085],\n",
       "         [0.90357085],\n",
       "         [0.98595261],\n",
       "         [0.98595261],\n",
       "         [0.508724  ],\n",
       "         [0.508724  ],\n",
       "         [0.92665825],\n",
       "         [0.92665825],\n",
       "         [0.76581778],\n",
       "         [0.76581778],\n",
       "         [0.00378624],\n",
       "         [0.00378624],\n",
       "         [0.44222176],\n",
       "         [0.44222176],\n",
       "         [0.34638764],\n",
       "         [0.34638764],\n",
       "         [0.31201916],\n",
       "         [0.31201916],\n",
       "         [0.0806493 ],\n",
       "         [0.0806493 ],\n",
       "         [0.87146111],\n",
       "         [0.87146111],\n",
       "         [0.08141609],\n",
       "         [0.08141609],\n",
       "         [0.90011558],\n",
       "         [0.90011558],\n",
       "         [0.22757775],\n",
       "         [0.22757775],\n",
       "         [0.25665508],\n",
       "         [0.25665508],\n",
       "         [0.955427  ],\n",
       "         [0.955427  ],\n",
       "         [0.93186734],\n",
       "         [0.93186734],\n",
       "         [0.56136508],\n",
       "         [0.56136508],\n",
       "         [0.44391847],\n",
       "         [0.44391847],\n",
       "         [0.45007978],\n",
       "         [0.45007978],\n",
       "         [0.26486734],\n",
       "         [0.26486734],\n",
       "         [0.94672923],\n",
       "         [0.94672923],\n",
       "         [0.6570971 ],\n",
       "         [0.6570971 ],\n",
       "         [0.78920433],\n",
       "         [0.78920433],\n",
       "         [0.27466017],\n",
       "         [0.27466017],\n",
       "         [0.01839934],\n",
       "         [0.01839934],\n",
       "         [0.67580372],\n",
       "         [0.67580372],\n",
       "         [0.70351145],\n",
       "         [0.70351145],\n",
       "         [0.75453721],\n",
       "         [0.75453721],\n",
       "         [0.24225638],\n",
       "         [0.24225638],\n",
       "         [0.61316558],\n",
       "         [0.61316558],\n",
       "         [0.20590639],\n",
       "         [0.20590639],\n",
       "         [0.15426587],\n",
       "         [0.15426587],\n",
       "         [0.8147207 ],\n",
       "         [0.8147207 ],\n",
       "         [0.02200585],\n",
       "         [0.02200585],\n",
       "         [0.94302892],\n",
       "         [0.94302892],\n",
       "         [0.35195588],\n",
       "         [0.35195588],\n",
       "         [0.90133133],\n",
       "         [0.90133133],\n",
       "         [0.09623188],\n",
       "         [0.09623188],\n",
       "         [0.89867461],\n",
       "         [0.89867461],\n",
       "         [0.02905092],\n",
       "         [0.02905092],\n",
       "         [0.18949324],\n",
       "         [0.18949324],\n",
       "         [0.80253854],\n",
       "         [0.80253854],\n",
       "         [0.35599986],\n",
       "         [0.35599986],\n",
       "         [0.61049012],\n",
       "         [0.61049012],\n",
       "         [0.16460537],\n",
       "         [0.16460537],\n",
       "         [0.81134744],\n",
       "         [0.81134744],\n",
       "         [0.16104478],\n",
       "         [0.16104478],\n",
       "         [0.60277891],\n",
       "         [0.60277891],\n",
       "         [0.798074  ],\n",
       "         [0.798074  ],\n",
       "         [0.04335079],\n",
       "         [0.04335079],\n",
       "         [0.4295279 ],\n",
       "         [0.4295279 ],\n",
       "         [0.75317172],\n",
       "         [0.75317172],\n",
       "         [0.36462522],\n",
       "         [0.36462522],\n",
       "         [0.36499579],\n",
       "         [0.36499579],\n",
       "         [0.80494882],\n",
       "         [0.80494882],\n",
       "         [0.99198572],\n",
       "         [0.99198572],\n",
       "         [0.96445118],\n",
       "         [0.96445118],\n",
       "         [0.04515768],\n",
       "         [0.04515768],\n",
       "         [0.85592313],\n",
       "         [0.85592313],\n",
       "         [0.31955925],\n",
       "         [0.31955925],\n",
       "         [0.99166382],\n",
       "         [0.99166382],\n",
       "         [0.08153844],\n",
       "         [0.08153844],\n",
       "         [0.02954815],\n",
       "         [0.02954815],\n",
       "         [0.30396345],\n",
       "         [0.30396345],\n",
       "         [0.79902506],\n",
       "         [0.79902506],\n",
       "         [0.51579434],\n",
       "         [0.51579434],\n",
       "         [0.01483147],\n",
       "         [0.01483147],\n",
       "         [0.82046783],\n",
       "         [0.82046783],\n",
       "         [0.9127562 ],\n",
       "         [0.9127562 ],\n",
       "         [0.47236623],\n",
       "         [0.47236623],\n",
       "         [0.32509367],\n",
       "         [0.32509367],\n",
       "         [0.51566609],\n",
       "         [0.51566609],\n",
       "         [0.94059573],\n",
       "         [0.94059573],\n",
       "         [0.69818831],\n",
       "         [0.69818831],\n",
       "         [0.65950871],\n",
       "         [0.65950871],\n",
       "         [0.80905112],\n",
       "         [0.80905112],\n",
       "         [0.80517084],\n",
       "         [0.80517084],\n",
       "         [0.46266054],\n",
       "         [0.46266054],\n",
       "         [0.34621132],\n",
       "         [0.34621132],\n",
       "         [0.84454384],\n",
       "         [0.84454384],\n",
       "         [0.93390885],\n",
       "         [0.93390885],\n",
       "         [0.02620469],\n",
       "         [0.02620469],\n",
       "         [0.97598595],\n",
       "         [0.97598595],\n",
       "         [0.28056882],\n",
       "         [0.28056882],\n",
       "         [0.7113148 ],\n",
       "         [0.7113148 ],\n",
       "         [0.0681279 ],\n",
       "         [0.0681279 ],\n",
       "         [0.73645626],\n",
       "         [0.73645626]])}}"
      ]
     },
     "execution_count": 1,
     "metadata": {},
     "output_type": "execute_result"
    }
   ],
   "source": [
    "ds = load_by_id(run_id_a)\n",
    "ds.get_parameter_data('x1')"
   ]
  },
  {
   "cell_type": "code",
   "execution_count": null,
   "metadata": {},
   "outputs": [],
   "source": []
  }
 ],
 "metadata": {
  "kernelspec": {
   "display_name": "Python 3",
   "language": "python",
   "name": "python3"
  },
  "language_info": {
   "codemirror_mode": {
    "name": "ipython",
    "version": 3
   },
   "file_extension": ".py",
   "mimetype": "text/x-python",
   "name": "python",
   "nbconvert_exporter": "python",
   "pygments_lexer": "ipython3",
   "version": "3.7.7"
  },
  "nbsphinx": {
   "timeout": 600
  },
  "toc": {
   "base_numbering": 1,
   "nav_menu": {},
   "number_sections": true,
   "sideBar": true,
   "skip_h1_title": false,
   "title_cell": "Table of Contents",
   "title_sidebar": "Contents",
   "toc_cell": false,
   "toc_position": {},
   "toc_section_display": true,
   "toc_window_display": false
  },
  "varInspector": {
   "cols": {
    "lenName": 16,
    "lenType": 16,
    "lenVar": 40
   },
   "kernels_config": {
    "python": {
     "delete_cmd_postfix": "",
     "delete_cmd_prefix": "del ",
     "library": "var_list.py",
     "varRefreshCmd": "print(var_dic_list())"
    },
    "r": {
     "delete_cmd_postfix": ") ",
     "delete_cmd_prefix": "rm(",
     "library": "var_list.r",
     "varRefreshCmd": "cat(var_dic_list()) "
    }
   },
   "types_to_exclude": [
    "module",
    "function",
    "builtin_function_or_method",
    "instance",
    "_Feature"
   ],
   "window_display": false
  }
 },
 "nbformat": 4,
 "nbformat_minor": 2
}
