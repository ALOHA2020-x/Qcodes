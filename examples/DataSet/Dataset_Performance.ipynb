{
 "cells": [
  {
   "cell_type": "markdown",
   "metadata": {},
   "source": [
    "# DataSet Performance\n",
    "\n",
    "This notebook shows the trade-off between inserting data into a database row-by-row and as binary blobs. Inserting the data row-by-row means that we have direct access to all the data and may perform queries directly on the values of the data. On the other hand, as we shall see, this is much slower than inserting the data directly as binary blobs."
   ]
  },
  {
   "cell_type": "markdown",
   "metadata": {},
   "source": [
    "First, we choose a new location for the database to ensure that we don't add a bunch of benchmarking data to the default one."
   ]
  },
  {
   "cell_type": "code",
   "execution_count": 1,
   "metadata": {
    "execution": {
     "iopub.execute_input": "2020-10-18T06:46:11.597482Z",
     "iopub.status.busy": "2020-10-18T06:46:11.596522Z",
     "iopub.status.idle": "2020-10-18T06:46:12.575913Z",
     "shell.execute_reply": "2020-10-18T06:46:12.575227Z"
    }
   },
   "outputs": [
    {
     "name": "stdout",
     "output_type": "stream",
     "text": [
      "Logging hadn't been started.\n",
      "Activating auto-logging. Current session state plus future input saved.\n",
      "Filename       : /home/vsts/.qcodes/logs/command_history.log\n",
      "Mode           : append\n",
      "Output logging : True\n",
      "Raw input log  : False\n",
      "Timestamping   : True\n",
      "State          : active\n"
     ]
    },
    {
     "name": "stdout",
     "output_type": "stream",
     "text": [
      "Qcodes Logfile : /home/vsts/.qcodes/logs/201018-15356-qcodes.log\n"
     ]
    }
   ],
   "source": [
    "import os\n",
    "cwd = os.getcwd()\n",
    "import qcodes as qc\n",
    "qc.config[\"core\"][\"db_location\"] = os.path.join(cwd, 'testing.db')\n"
   ]
  },
  {
   "cell_type": "code",
   "execution_count": 2,
   "metadata": {
    "execution": {
     "iopub.execute_input": "2020-10-18T06:46:12.582840Z",
     "iopub.status.busy": "2020-10-18T06:46:12.581420Z",
     "iopub.status.idle": "2020-10-18T06:46:12.759681Z",
     "shell.execute_reply": "2020-10-18T06:46:12.758714Z"
    }
   },
   "outputs": [],
   "source": [
    "%matplotlib inline\n",
    "import time\n",
    "import matplotlib.pyplot as plt\n",
    "import numpy as np\n",
    "\n",
    "import qcodes as qc\n",
    "from qcodes.instrument.parameter import ManualParameter\n",
    "from qcodes.dataset.experiment_container import (Experiment,\n",
    "                                                 load_last_experiment,\n",
    "                                                 new_experiment)\n",
    "from qcodes.dataset.sqlite.database import initialise_database\n",
    "from qcodes import load_or_create_experiment\n",
    "from qcodes.dataset.measurements import Measurement"
   ]
  },
  {
   "cell_type": "code",
   "execution_count": 3,
   "metadata": {
    "execution": {
     "iopub.execute_input": "2020-10-18T06:46:12.763701Z",
     "iopub.status.busy": "2020-10-18T06:46:12.763096Z",
     "iopub.status.idle": "2020-10-18T06:46:12.855893Z",
     "shell.execute_reply": "2020-10-18T06:46:12.855333Z"
    }
   },
   "outputs": [
    {
     "name": "stdout",
     "output_type": "stream",
     "text": [
      "\r",
      "0it [00:00, ?it/s]"
     ]
    },
    {
     "name": "stdout",
     "output_type": "stream",
     "text": [
      "\r",
      "Upgrading database; v0 -> v1: : 0it [00:00, ?it/s]"
     ]
    },
    {
     "name": "stdout",
     "output_type": "stream",
     "text": [
      "\r",
      "Upgrading database; v0 -> v1: : 0it [00:00, ?it/s]"
     ]
    },
    {
     "name": "stdout",
     "output_type": "stream",
     "text": [
      "\n",
      "\r",
      "  0%|          | 0/1 [00:00<?, ?it/s]"
     ]
    },
    {
     "name": "stdout",
     "output_type": "stream",
     "text": [
      "\r",
      "Upgrading database; v1 -> v2:   0%|          | 0/1 [00:00<?, ?it/s]"
     ]
    },
    {
     "name": "stdout",
     "output_type": "stream",
     "text": [
      "\r",
      "Upgrading database; v1 -> v2: 100%|██████████| 1/1 [00:00<00:00, 611.24it/s]"
     ]
    },
    {
     "name": "stdout",
     "output_type": "stream",
     "text": [
      "\n",
      "\r",
      "0it [00:00, ?it/s]"
     ]
    },
    {
     "name": "stdout",
     "output_type": "stream",
     "text": [
      "\r",
      "Upgrading database; v2 -> v3: : 0it [00:00, ?it/s]"
     ]
    },
    {
     "name": "stdout",
     "output_type": "stream",
     "text": [
      "\r",
      "Upgrading database; v2 -> v3: : 0it [00:00, ?it/s]"
     ]
    },
    {
     "name": "stdout",
     "output_type": "stream",
     "text": [
      "\n",
      "\r",
      "0it [00:00, ?it/s]"
     ]
    },
    {
     "name": "stdout",
     "output_type": "stream",
     "text": [
      "\r",
      "Upgrading database; v3 -> v4: : 0it [00:00, ?it/s]"
     ]
    },
    {
     "name": "stdout",
     "output_type": "stream",
     "text": [
      "\r",
      "Upgrading database; v3 -> v4: : 0it [00:00, ?it/s]"
     ]
    },
    {
     "name": "stdout",
     "output_type": "stream",
     "text": [
      "\n",
      "\r",
      "  0%|          | 0/1 [00:00<?, ?it/s]"
     ]
    },
    {
     "name": "stdout",
     "output_type": "stream",
     "text": [
      "\r",
      "Upgrading database; v4 -> v5:   0%|          | 0/1 [00:00<?, ?it/s]"
     ]
    },
    {
     "name": "stdout",
     "output_type": "stream",
     "text": [
      "\r",
      "Upgrading database; v4 -> v5: 100%|██████████| 1/1 [00:00<00:00, 856.33it/s]"
     ]
    },
    {
     "name": "stdout",
     "output_type": "stream",
     "text": [
      "\n",
      "\r",
      "0it [00:00, ?it/s]"
     ]
    },
    {
     "name": "stdout",
     "output_type": "stream",
     "text": [
      "\r",
      "Upgrading database; v5 -> v6: : 0it [00:00, ?it/s]"
     ]
    },
    {
     "name": "stdout",
     "output_type": "stream",
     "text": [
      "\r",
      "Upgrading database; v5 -> v6: : 0it [00:00, ?it/s]"
     ]
    },
    {
     "name": "stdout",
     "output_type": "stream",
     "text": [
      "\n",
      "\r",
      "  0%|          | 0/1 [00:00<?, ?it/s]"
     ]
    },
    {
     "name": "stdout",
     "output_type": "stream",
     "text": [
      "\r",
      "Upgrading database; v6 -> v7:   0%|          | 0/1 [00:00<?, ?it/s]"
     ]
    },
    {
     "name": "stdout",
     "output_type": "stream",
     "text": [
      "\r",
      "Upgrading database; v6 -> v7: 100%|██████████| 1/1 [00:00<00:00, 483.66it/s]"
     ]
    },
    {
     "name": "stdout",
     "output_type": "stream",
     "text": [
      "\n",
      "\r",
      "  0%|          | 0/1 [00:00<?, ?it/s]"
     ]
    },
    {
     "name": "stdout",
     "output_type": "stream",
     "text": [
      "\r",
      "Upgrading database; v7 -> v8:   0%|          | 0/1 [00:00<?, ?it/s]"
     ]
    },
    {
     "name": "stdout",
     "output_type": "stream",
     "text": [
      "\r",
      "Upgrading database; v7 -> v8: 100%|██████████| 1/1 [00:00<00:00, 858.61it/s]"
     ]
    },
    {
     "name": "stdout",
     "output_type": "stream",
     "text": [
      "\n",
      "\r",
      "  0%|          | 0/1 [00:00<?, ?it/s]"
     ]
    },
    {
     "name": "stdout",
     "output_type": "stream",
     "text": [
      "\r",
      "Upgrading database; v8 -> v9:   0%|          | 0/1 [00:00<?, ?it/s]"
     ]
    },
    {
     "name": "stdout",
     "output_type": "stream",
     "text": [
      "\r",
      "Upgrading database; v8 -> v9: 100%|██████████| 1/1 [00:00<00:00, 1049.10it/s]"
     ]
    },
    {
     "name": "stdout",
     "output_type": "stream",
     "text": [
      "\n"
     ]
    }
   ],
   "source": [
    "initialise_database()\n",
    "exp = load_or_create_experiment(experiment_name='tutorial_exp', sample_name=\"no sample\")"
   ]
  },
  {
   "cell_type": "markdown",
   "metadata": {},
   "source": [
    "Here, we define a simple function to benchmark the time it takes to insert n points with either numeric or array data type.\n",
    "We will compare both the time used to call ``add_result`` and the time used for the full measurement."
   ]
  },
  {
   "cell_type": "code",
   "execution_count": 4,
   "metadata": {
    "execution": {
     "iopub.execute_input": "2020-10-18T06:46:12.864755Z",
     "iopub.status.busy": "2020-10-18T06:46:12.863740Z",
     "iopub.status.idle": "2020-10-18T06:46:12.865435Z",
     "shell.execute_reply": "2020-10-18T06:46:12.865938Z"
    }
   },
   "outputs": [],
   "source": [
    "def insert_data(paramtype, npoints, nreps=1):\n",
    "\n",
    "    meas = Measurement(exp=exp)\n",
    "\n",
    "    x1 = ManualParameter('x1')\n",
    "    x2 = ManualParameter('x2')\n",
    "    x3 = ManualParameter('x3')\n",
    "    y1 = ManualParameter('y1')\n",
    "    y2 = ManualParameter('y2')\n",
    "\n",
    "    meas.register_parameter(x1, paramtype=paramtype)\n",
    "    meas.register_parameter(x2, paramtype=paramtype)\n",
    "    meas.register_parameter(x3, paramtype=paramtype)\n",
    "    meas.register_parameter(y1, setpoints=[x1, x2, x3],\n",
    "                            paramtype=paramtype)\n",
    "    meas.register_parameter(y2, setpoints=[x1, x2, x3],\n",
    "                            paramtype=paramtype)\n",
    "    start = time.perf_counter()\n",
    "    with meas.run() as datasaver:\n",
    "        start_adding = time.perf_counter()\n",
    "        for i in range(nreps):\n",
    "            datasaver.add_result((x1, np.random.rand(npoints)),\n",
    "                                 (x2, np.random.rand(npoints)),\n",
    "                                 (x3, np.random.rand(npoints)),\n",
    "                                 (y1, np.random.rand(npoints)),\n",
    "                                 (y2, np.random.rand(npoints)))\n",
    "        stop_adding = time.perf_counter()\n",
    "        run_id = datasaver.run_id\n",
    "    stop = time.perf_counter()\n",
    "    tot_time = stop - start\n",
    "    add_time = stop_adding - start_adding\n",
    "    return tot_time, add_time, run_id"
   ]
  },
  {
   "cell_type": "markdown",
   "metadata": {},
   "source": [
    "## Comparison between numeric/array data and binary blob"
   ]
  },
  {
   "cell_type": "markdown",
   "metadata": {},
   "source": [
    "### Case1: Short experiment time"
   ]
  },
  {
   "cell_type": "code",
   "execution_count": 5,
   "metadata": {
    "execution": {
     "iopub.execute_input": "2020-10-18T06:46:12.872039Z",
     "iopub.status.busy": "2020-10-18T06:46:12.871433Z",
     "iopub.status.idle": "2020-10-18T06:46:13.671223Z",
     "shell.execute_reply": "2020-10-18T06:46:13.671651Z"
    }
   },
   "outputs": [
    {
     "name": "stdout",
     "output_type": "stream",
     "text": [
      "Starting experimental run with id: 1. \n",
      "Starting experimental run with id: 2. \n",
      "Starting experimental run with id: 3. \n",
      "Starting experimental run with id: 4. \n",
      "Starting experimental run with id: 5. \n"
     ]
    },
    {
     "name": "stdout",
     "output_type": "stream",
     "text": [
      "Starting experimental run with id: 6. \n"
     ]
    },
    {
     "name": "stdout",
     "output_type": "stream",
     "text": [
      "Starting experimental run with id: 7. \n"
     ]
    },
    {
     "name": "stdout",
     "output_type": "stream",
     "text": [
      "Starting experimental run with id: 8. \n",
      "Starting experimental run with id: 9. \n"
     ]
    },
    {
     "name": "stdout",
     "output_type": "stream",
     "text": [
      "Starting experimental run with id: 10. \n",
      "Starting experimental run with id: 11. \n"
     ]
    },
    {
     "name": "stdout",
     "output_type": "stream",
     "text": [
      "Starting experimental run with id: 12. \n",
      "Starting experimental run with id: 13. \n"
     ]
    },
    {
     "name": "stdout",
     "output_type": "stream",
     "text": [
      "Starting experimental run with id: 14. \n"
     ]
    }
   ],
   "source": [
    "sizes = [1,500,1000,2000,3000,4000,5000]\n",
    "t_numeric = []\n",
    "t_numeric_add = []\n",
    "t_array = []\n",
    "t_array_add = []\n",
    "for size in sizes:\n",
    "    tn, tna, run_id_n =  insert_data('numeric', size)\n",
    "    t_numeric.append(tn)\n",
    "    t_numeric_add.append(tna)\n",
    "\n",
    "    ta, taa, run_id_a =  insert_data('array', size)\n",
    "    t_array.append(ta)\n",
    "    t_array_add.append(taa)"
   ]
  },
  {
   "cell_type": "code",
   "execution_count": 6,
   "metadata": {
    "execution": {
     "iopub.execute_input": "2020-10-18T06:46:13.710066Z",
     "iopub.status.busy": "2020-10-18T06:46:13.688061Z",
     "iopub.status.idle": "2020-10-18T06:46:13.868051Z",
     "shell.execute_reply": "2020-10-18T06:46:13.868493Z"
    }
   },
   "outputs": [
    {
     "data": {
      "image/png": "[encoded data removed]",
      "text/plain": [
       "<Figure size 432x288 with 1 Axes>"
      ]
     },
     "metadata": {
      "needs_background": "light"
     },
     "output_type": "display_data"
    }
   ],
   "source": [
    "fig, ax = plt.subplots(1,1)\n",
    "ax.plot(sizes, t_numeric, 'o-', label='Inserting row-by-row')\n",
    "ax.plot(sizes, t_numeric_add, 'o-', label='Inserting row-by-row: add_result only')\n",
    "ax.plot(sizes, t_array, 'd-', label='Inserting as binary blob')\n",
    "ax.plot(sizes, t_array_add, 'd-', label='Inserting as binary blob: add_result only')\n",
    "ax.legend()\n",
    "ax.set_xlabel('Array length')\n",
    "ax.set_ylabel('Time (s)')\n",
    "fig.tight_layout()"
   ]
  },
  {
   "cell_type": "markdown",
   "metadata": {},
   "source": [
    "As shown in the latter figure, the time to setup and and close the experiment is approximately 0.4 sec. In case of small array sizes, the difference between inserting values of data as arrays and inserting them row-by-row is relatively unimportant. At larger array sizes, i.e. above 10000 points, the cost of writing data as individual datapoints starts to become important.\n"
   ]
  },
  {
   "cell_type": "markdown",
   "metadata": {},
   "source": [
    "### Case2: Long experiment time "
   ]
  },
  {
   "cell_type": "code",
   "execution_count": 7,
   "metadata": {
    "execution": {
     "iopub.execute_input": "2020-10-18T06:46:13.875706Z",
     "iopub.status.busy": "2020-10-18T06:46:13.874888Z",
     "iopub.status.idle": "2020-10-18T06:47:10.416827Z",
     "shell.execute_reply": "2020-10-18T06:47:10.415770Z"
    }
   },
   "outputs": [
    {
     "name": "stdout",
     "output_type": "stream",
     "text": [
      "Starting experimental run with id: 15. \n",
      "Starting experimental run with id: 16. \n",
      "Starting experimental run with id: 17. \n"
     ]
    },
    {
     "name": "stdout",
     "output_type": "stream",
     "text": [
      "Starting experimental run with id: 18. \n",
      "Starting experimental run with id: 19. \n"
     ]
    },
    {
     "name": "stdout",
     "output_type": "stream",
     "text": [
      "Starting experimental run with id: 20. \n"
     ]
    },
    {
     "name": "stdout",
     "output_type": "stream",
     "text": [
      "Starting experimental run with id: 21. \n"
     ]
    },
    {
     "name": "stdout",
     "output_type": "stream",
     "text": [
      "Starting experimental run with id: 22. \n"
     ]
    },
    {
     "name": "stdout",
     "output_type": "stream",
     "text": [
      "Starting experimental run with id: 23. \n"
     ]
    },
    {
     "name": "stdout",
     "output_type": "stream",
     "text": [
      "Starting experimental run with id: 24. \n"
     ]
    },
    {
     "name": "stdout",
     "output_type": "stream",
     "text": [
      "Starting experimental run with id: 25. \n"
     ]
    },
    {
     "name": "stdout",
     "output_type": "stream",
     "text": [
      "Starting experimental run with id: 26. \n"
     ]
    },
    {
     "name": "stdout",
     "output_type": "stream",
     "text": [
      "Starting experimental run with id: 27. \n"
     ]
    },
    {
     "name": "stdout",
     "output_type": "stream",
     "text": [
      "Starting experimental run with id: 28. \n"
     ]
    }
   ],
   "source": [
    "sizes = [1,500,1000,2000,3000,4000,5000]\n",
    "nreps = 100\n",
    "t_numeric = []\n",
    "t_numeric_add = []\n",
    "t_numeric_run_ids = []\n",
    "t_array = []\n",
    "t_array_add = []\n",
    "t_array_run_ids = []\n",
    "for size in sizes:\n",
    "    tn, tna, run_id_n =  insert_data('numeric', size, nreps=nreps)\n",
    "    t_numeric.append(tn)\n",
    "    t_numeric_add.append(tna)\n",
    "    t_numeric_run_ids.append(run_id_n)\n",
    "\n",
    "    ta, taa, run_id_a =  insert_data('array', size, nreps=nreps)\n",
    "    t_array.append(ta)\n",
    "    t_array_add.append(taa)\n",
    "    t_array_run_ids.append(run_id_a)"
   ]
  },
  {
   "cell_type": "code",
   "execution_count": 8,
   "metadata": {
    "execution": {
     "iopub.execute_input": "2020-10-18T06:47:10.454544Z",
     "iopub.status.busy": "2020-10-18T06:47:10.444808Z",
     "iopub.status.idle": "2020-10-18T06:47:10.609921Z",
     "shell.execute_reply": "2020-10-18T06:47:10.610552Z"
    },
    "scrolled": true
   },
   "outputs": [
    {
     "data": {
      "image/png": "[encoded data removed]",
      "text/plain": [
       "<Figure size 432x288 with 1 Axes>"
      ]
     },
     "metadata": {
      "needs_background": "light"
     },
     "output_type": "display_data"
    }
   ],
   "source": [
    "fig, ax = plt.subplots(1,1)\n",
    "ax.plot(sizes, t_numeric, 'o-', label='Inserting row-by-row')\n",
    "ax.plot(sizes, t_numeric_add, 'o-', label='Inserting row-by-row: add_result only')\n",
    "ax.plot(sizes, t_array, 'd-', label='Inserting as binary blob')\n",
    "ax.plot(sizes, t_array_add, 'd-', label='Inserting as binary blob: add_result only')\n",
    "ax.legend()\n",
    "ax.set_xlabel('Array length')\n",
    "ax.set_ylabel('Time (s)')\n",
    "fig.tight_layout()"
   ]
  },
  {
   "cell_type": "markdown",
   "metadata": {},
   "source": [
    "However, as we increase the length of the experiment, as seen here by repeating the insertion 100 times, we see a big difference between inserting values of the data row-by-row and inserting it as a binary blob."
   ]
  },
  {
   "cell_type": "markdown",
   "metadata": {},
   "source": [
    "## Loading the data "
   ]
  },
  {
   "cell_type": "code",
   "execution_count": 9,
   "metadata": {
    "execution": {
     "iopub.execute_input": "2020-10-18T06:47:10.613356Z",
     "iopub.status.busy": "2020-10-18T06:47:10.612754Z",
     "iopub.status.idle": "2020-10-18T06:47:10.616004Z",
     "shell.execute_reply": "2020-10-18T06:47:10.616574Z"
    }
   },
   "outputs": [],
   "source": [
    "from qcodes.dataset.data_set import load_by_id\n",
    "from qcodes.dataset.data_export import get_data_by_id"
   ]
  },
  {
   "cell_type": "markdown",
   "metadata": {},
   "source": [
    "As usual you can load the data by using the ``load_by_id`` function but you will notice that the different storage methods\n",
    "are reflected in shape of the data as it is retrieved. "
   ]
  },
  {
   "cell_type": "code",
   "execution_count": 10,
   "metadata": {
    "execution": {
     "iopub.execute_input": "2020-10-18T06:47:10.620124Z",
     "iopub.status.busy": "2020-10-18T06:47:10.619619Z",
     "iopub.status.idle": "2020-10-18T06:47:10.626649Z",
     "shell.execute_reply": "2020-10-18T06:47:10.621293Z"
    }
   },
   "outputs": [],
   "source": [
    "run_id_n = t_numeric_run_ids[0]\n",
    "run_id_a = t_array_run_ids[0]"
   ]
  },
  {
   "cell_type": "code",
   "execution_count": 11,
   "metadata": {
    "execution": {
     "iopub.execute_input": "2020-10-18T06:47:10.629557Z",
     "iopub.status.busy": "2020-10-18T06:47:10.629051Z",
     "iopub.status.idle": "2020-10-18T06:47:10.638147Z",
     "shell.execute_reply": "2020-10-18T06:47:10.637572Z"
    },
    "scrolled": true
   },
   "outputs": [
    {
     "data": {
      "text/plain": [
       "{'x1': {'x1': array([0.15259371, 0.15259371, 0.03816638, 0.03816638, 0.31427748,\n",
       "         0.31427748, 0.38303947, 0.38303947, 0.07014053, 0.07014053,\n",
       "         0.81769918, 0.81769918, 0.58510671, 0.58510671, 0.73361139,\n",
       "         0.73361139, 0.38165211, 0.38165211, 0.91767421, 0.91767421,\n",
       "         0.21685342, 0.21685342, 0.25391372, 0.25391372, 0.39341355,\n",
       "         0.39341355, 0.93597421, 0.93597421, 0.07633123, 0.07633123,\n",
       "         0.26634258, 0.26634258, 0.86397836, 0.86397836, 0.02040373,\n",
       "         0.02040373, 0.27825557, 0.27825557, 0.82418617, 0.82418617,\n",
       "         0.85169251, 0.85169251, 0.39587724, 0.39587724, 0.00887198,\n",
       "         0.00887198, 0.40523037, 0.40523037, 0.7533116 , 0.7533116 ,\n",
       "         0.79262645, 0.79262645, 0.05927125, 0.05927125, 0.50376441,\n",
       "         0.50376441, 0.38023786, 0.38023786, 0.21039811, 0.21039811,\n",
       "         0.59398113, 0.59398113, 0.93608896, 0.93608896, 0.00116681,\n",
       "         0.00116681, 0.45965344, 0.45965344, 0.23672209, 0.23672209,\n",
       "         0.62257269, 0.62257269, 0.84956049, 0.84956049, 0.49692581,\n",
       "         0.49692581, 0.15729726, 0.15729726, 0.31968803, 0.31968803,\n",
       "         0.93004638, 0.93004638, 0.81444361, 0.81444361, 0.99625632,\n",
       "         0.99625632, 0.9207842 , 0.9207842 , 0.65241535, 0.65241535,\n",
       "         0.10981359, 0.10981359, 0.15000962, 0.15000962, 0.58711749,\n",
       "         0.58711749, 0.26473063, 0.26473063, 0.5472105 , 0.5472105 ,\n",
       "         0.1987768 , 0.1987768 , 0.72299644, 0.72299644, 0.71950794,\n",
       "         0.71950794, 0.35841283, 0.35841283, 0.06459983, 0.06459983,\n",
       "         0.76629825, 0.76629825, 0.91353749, 0.91353749, 0.61518547,\n",
       "         0.61518547, 0.84699438, 0.84699438, 0.07422334, 0.07422334,\n",
       "         0.13861862, 0.13861862, 0.4288279 , 0.4288279 , 0.55545919,\n",
       "         0.55545919, 0.44259426, 0.44259426, 0.32110387, 0.32110387,\n",
       "         0.25609479, 0.25609479, 0.41844485, 0.41844485, 0.3746418 ,\n",
       "         0.3746418 , 0.71974645, 0.71974645, 0.98753947, 0.98753947,\n",
       "         0.99058288, 0.99058288, 0.62853499, 0.62853499, 0.89073518,\n",
       "         0.89073518, 0.48058882, 0.48058882, 0.93573595, 0.93573595,\n",
       "         0.85830949, 0.85830949, 0.24782414, 0.24782414, 0.53635528,\n",
       "         0.53635528, 0.45016293, 0.45016293, 0.28752377, 0.28752377,\n",
       "         0.65619924, 0.65619924, 0.1245957 , 0.1245957 , 0.41441594,\n",
       "         0.41441594, 0.73257969, 0.73257969, 0.68420265, 0.68420265,\n",
       "         0.07630357, 0.07630357, 0.376759  , 0.376759  , 0.87196057,\n",
       "         0.87196057, 0.10121503, 0.10121503, 0.89897965, 0.89897965,\n",
       "         0.21972755, 0.21972755, 0.70487005, 0.70487005, 0.46796366,\n",
       "         0.46796366, 0.50606846, 0.50606846, 0.77913087, 0.77913087,\n",
       "         0.99150454, 0.99150454, 0.25531829, 0.25531829, 0.29014188,\n",
       "         0.29014188, 0.1957129 , 0.1957129 , 0.41413052, 0.41413052])}}"
      ]
     },
     "execution_count": 1,
     "metadata": {},
     "output_type": "execute_result"
    }
   ],
   "source": [
    "ds = load_by_id(run_id_n)\n",
    "ds.get_parameter_data('x1')"
   ]
  },
  {
   "cell_type": "markdown",
   "metadata": {},
   "source": [
    "And a dataset stored as binary arrays"
   ]
  },
  {
   "cell_type": "code",
   "execution_count": 12,
   "metadata": {
    "execution": {
     "iopub.execute_input": "2020-10-18T06:47:10.641115Z",
     "iopub.status.busy": "2020-10-18T06:47:10.640594Z",
     "iopub.status.idle": "2020-10-18T06:47:10.693635Z",
     "shell.execute_reply": "2020-10-18T06:47:10.694159Z"
    },
    "scrolled": true
   },
   "outputs": [
    {
     "data": {
      "text/plain": [
       "{'x1': {'x1': array([[0.30897924],\n",
       "         [0.30897924],\n",
       "         [0.47075087],\n",
       "         [0.47075087],\n",
       "         [0.55035478],\n",
       "         [0.55035478],\n",
       "         [0.26299401],\n",
       "         [0.26299401],\n",
       "         [0.09025175],\n",
       "         [0.09025175],\n",
       "         [0.83959293],\n",
       "         [0.83959293],\n",
       "         [0.19758177],\n",
       "         [0.19758177],\n",
       "         [0.93299684],\n",
       "         [0.93299684],\n",
       "         [0.96343328],\n",
       "         [0.96343328],\n",
       "         [0.42935694],\n",
       "         [0.42935694],\n",
       "         [0.86931695],\n",
       "         [0.86931695],\n",
       "         [0.12116699],\n",
       "         [0.12116699],\n",
       "         [0.50966078],\n",
       "         [0.50966078],\n",
       "         [0.954102  ],\n",
       "         [0.954102  ],\n",
       "         [0.84909658],\n",
       "         [0.84909658],\n",
       "         [0.04597969],\n",
       "         [0.04597969],\n",
       "         [0.5045259 ],\n",
       "         [0.5045259 ],\n",
       "         [0.12418128],\n",
       "         [0.12418128],\n",
       "         [0.97311396],\n",
       "         [0.97311396],\n",
       "         [0.65699497],\n",
       "         [0.65699497],\n",
       "         [0.47661347],\n",
       "         [0.47661347],\n",
       "         [0.51884989],\n",
       "         [0.51884989],\n",
       "         [0.47262244],\n",
       "         [0.47262244],\n",
       "         [0.06920331],\n",
       "         [0.06920331],\n",
       "         [0.26472213],\n",
       "         [0.26472213],\n",
       "         [0.55825303],\n",
       "         [0.55825303],\n",
       "         [0.25620436],\n",
       "         [0.25620436],\n",
       "         [0.4901247 ],\n",
       "         [0.4901247 ],\n",
       "         [0.59150541],\n",
       "         [0.59150541],\n",
       "         [0.76096196],\n",
       "         [0.76096196],\n",
       "         [0.56241404],\n",
       "         [0.56241404],\n",
       "         [0.06279037],\n",
       "         [0.06279037],\n",
       "         [0.9695976 ],\n",
       "         [0.9695976 ],\n",
       "         [0.23270178],\n",
       "         [0.23270178],\n",
       "         [0.50308352],\n",
       "         [0.50308352],\n",
       "         [0.9115071 ],\n",
       "         [0.9115071 ],\n",
       "         [0.16351329],\n",
       "         [0.16351329],\n",
       "         [0.56431864],\n",
       "         [0.56431864],\n",
       "         [0.31828688],\n",
       "         [0.31828688],\n",
       "         [0.65708711],\n",
       "         [0.65708711],\n",
       "         [0.02976173],\n",
       "         [0.02976173],\n",
       "         [0.57607057],\n",
       "         [0.57607057],\n",
       "         [0.54448933],\n",
       "         [0.54448933],\n",
       "         [0.3723988 ],\n",
       "         [0.3723988 ],\n",
       "         [0.87578836],\n",
       "         [0.87578836],\n",
       "         [0.01631901],\n",
       "         [0.01631901],\n",
       "         [0.33608136],\n",
       "         [0.33608136],\n",
       "         [0.90455167],\n",
       "         [0.90455167],\n",
       "         [0.68887969],\n",
       "         [0.68887969],\n",
       "         [0.58149308],\n",
       "         [0.58149308],\n",
       "         [0.00357946],\n",
       "         [0.00357946],\n",
       "         [0.04354939],\n",
       "         [0.04354939],\n",
       "         [0.83847176],\n",
       "         [0.83847176],\n",
       "         [0.33351774],\n",
       "         [0.33351774],\n",
       "         [0.01147909],\n",
       "         [0.01147909],\n",
       "         [0.06316824],\n",
       "         [0.06316824],\n",
       "         [0.77587736],\n",
       "         [0.77587736],\n",
       "         [0.2568557 ],\n",
       "         [0.2568557 ],\n",
       "         [0.21470116],\n",
       "         [0.21470116],\n",
       "         [0.30779658],\n",
       "         [0.30779658],\n",
       "         [0.45516058],\n",
       "         [0.45516058],\n",
       "         [0.21476255],\n",
       "         [0.21476255],\n",
       "         [0.12080113],\n",
       "         [0.12080113],\n",
       "         [0.08642024],\n",
       "         [0.08642024],\n",
       "         [0.3895153 ],\n",
       "         [0.3895153 ],\n",
       "         [0.8127928 ],\n",
       "         [0.8127928 ],\n",
       "         [0.02982992],\n",
       "         [0.02982992],\n",
       "         [0.58183004],\n",
       "         [0.58183004],\n",
       "         [0.65274376],\n",
       "         [0.65274376],\n",
       "         [0.89306416],\n",
       "         [0.89306416],\n",
       "         [0.61450463],\n",
       "         [0.61450463],\n",
       "         [0.17828484],\n",
       "         [0.17828484],\n",
       "         [0.68591145],\n",
       "         [0.68591145],\n",
       "         [0.65147501],\n",
       "         [0.65147501],\n",
       "         [0.91851004],\n",
       "         [0.91851004],\n",
       "         [0.33856529],\n",
       "         [0.33856529],\n",
       "         [0.52698384],\n",
       "         [0.52698384],\n",
       "         [0.57974264],\n",
       "         [0.57974264],\n",
       "         [0.06078727],\n",
       "         [0.06078727],\n",
       "         [0.56616785],\n",
       "         [0.56616785],\n",
       "         [0.23836318],\n",
       "         [0.23836318],\n",
       "         [0.26712511],\n",
       "         [0.26712511],\n",
       "         [0.85074446],\n",
       "         [0.85074446],\n",
       "         [0.72422634],\n",
       "         [0.72422634],\n",
       "         [0.44791968],\n",
       "         [0.44791968],\n",
       "         [0.40289846],\n",
       "         [0.40289846],\n",
       "         [0.60621569],\n",
       "         [0.60621569],\n",
       "         [0.42913921],\n",
       "         [0.42913921],\n",
       "         [0.50831689],\n",
       "         [0.50831689],\n",
       "         [0.94067052],\n",
       "         [0.94067052],\n",
       "         [0.75130275],\n",
       "         [0.75130275],\n",
       "         [0.6596944 ],\n",
       "         [0.6596944 ],\n",
       "         [0.51668942],\n",
       "         [0.51668942],\n",
       "         [0.29939195],\n",
       "         [0.29939195],\n",
       "         [0.80429293],\n",
       "         [0.80429293],\n",
       "         [0.97913401],\n",
       "         [0.97913401],\n",
       "         [0.85858277],\n",
       "         [0.85858277],\n",
       "         [0.62249112],\n",
       "         [0.62249112],\n",
       "         [0.20784283],\n",
       "         [0.20784283],\n",
       "         [0.03457839],\n",
       "         [0.03457839]])}}"
      ]
     },
     "execution_count": 1,
     "metadata": {},
     "output_type": "execute_result"
    }
   ],
   "source": [
    "ds = load_by_id(run_id_a)\n",
    "ds.get_parameter_data('x1')"
   ]
  },
  {
   "cell_type": "code",
   "execution_count": null,
   "metadata": {},
   "outputs": [],
   "source": []
  }
 ],
 "metadata": {
  "kernelspec": {
   "display_name": "Python 3",
   "language": "python",
   "name": "python3"
  },
  "language_info": {
   "codemirror_mode": {
    "name": "ipython",
    "version": 3
   },
   "file_extension": ".py",
   "mimetype": "text/x-python",
   "name": "python",
   "nbconvert_exporter": "python",
   "pygments_lexer": "ipython3",
   "version": "3.7.7"
  },
  "nbsphinx": {
   "timeout": 600
  },
  "toc": {
   "base_numbering": 1,
   "nav_menu": {},
   "number_sections": true,
   "sideBar": true,
   "skip_h1_title": false,
   "title_cell": "Table of Contents",
   "title_sidebar": "Contents",
   "toc_cell": false,
   "toc_position": {},
   "toc_section_display": true,
   "toc_window_display": false
  },
  "varInspector": {
   "cols": {
    "lenName": 16,
    "lenType": 16,
    "lenVar": 40
   },
   "kernels_config": {
    "python": {
     "delete_cmd_postfix": "",
     "delete_cmd_prefix": "del ",
     "library": "var_list.py",
     "varRefreshCmd": "print(var_dic_list())"
    },
    "r": {
     "delete_cmd_postfix": ") ",
     "delete_cmd_prefix": "rm(",
     "library": "var_list.r",
     "varRefreshCmd": "cat(var_dic_list()) "
    }
   },
   "types_to_exclude": [
    "module",
    "function",
    "builtin_function_or_method",
    "instance",
    "_Feature"
   ],
   "window_display": false
  }
 },
 "nbformat": 4,
 "nbformat_minor": 2
}
