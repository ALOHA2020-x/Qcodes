{
 "cells": [
  {
   "cell_type": "markdown",
   "metadata": {},
   "source": [
    "# DataSet Performance\n",
    "\n",
    "This notebook shows the trade-off between inserting data into a database row-by-row and as binary blobs. Inserting the data row-by-row means that we have direct access to all the data and may perform queries directly on the values of the data. On the other hand, as we shall see, this is much slower than inserting the data directly as binary blobs."
   ]
  },
  {
   "cell_type": "markdown",
   "metadata": {},
   "source": [
    "First, we choose a new location for the database to ensure that we don't add a bunch of benchmarking data to the default one."
   ]
  },
  {
   "cell_type": "code",
   "execution_count": 1,
   "metadata": {},
   "outputs": [
    {
     "name": "stdout",
     "output_type": "stream",
     "text": [
      "Logging hadn't been started.\n",
      "Activating auto-logging. Current session state plus future input saved.\n",
      "Filename       : /home/vsts/.qcodes/logs/command_history.log\n",
      "Mode           : append\n",
      "Output logging : True\n",
      "Raw input log  : False\n",
      "Timestamping   : True\n",
      "State          : active\n"
     ]
    },
    {
     "name": "stdout",
     "output_type": "stream",
     "text": [
      "Qcodes Logfile : /home/vsts/.qcodes/logs/200420-18390-qcodes.log\n"
     ]
    }
   ],
   "source": [
    "import os\n",
    "cwd = os.getcwd()\n",
    "import qcodes as qc\n",
    "qc.config[\"core\"][\"db_location\"] = os.path.join(cwd, 'testing.db')\n"
   ]
  },
  {
   "cell_type": "code",
   "execution_count": 2,
   "metadata": {},
   "outputs": [],
   "source": [
    "%matplotlib inline\n",
    "import time\n",
    "import matplotlib.pyplot as plt\n",
    "import numpy as np\n",
    "\n",
    "import qcodes as qc\n",
    "from qcodes.instrument.parameter import ManualParameter\n",
    "from qcodes.dataset.experiment_container import (Experiment,\n",
    "                                                 load_last_experiment,\n",
    "                                                 new_experiment)\n",
    "from qcodes.dataset.sqlite.database import initialise_database\n",
    "from qcodes import load_or_create_experiment\n",
    "from qcodes.dataset.measurements import Measurement"
   ]
  },
  {
   "cell_type": "code",
   "execution_count": 3,
   "metadata": {},
   "outputs": [
    {
     "name": "stdout",
     "output_type": "stream",
     "text": [
      "\r",
      "0it [00:00, ?it/s]"
     ]
    },
    {
     "name": "stdout",
     "output_type": "stream",
     "text": [
      "\r",
      "Upgrading database; v0 -> v1: : 0it [00:00, ?it/s]"
     ]
    },
    {
     "name": "stdout",
     "output_type": "stream",
     "text": [
      "\r",
      "Upgrading database; v0 -> v1: : 0it [00:00, ?it/s]"
     ]
    },
    {
     "name": "stdout",
     "output_type": "stream",
     "text": [
      "\n",
      "\r",
      "  0%|          | 0/1 [00:00<?, ?it/s]"
     ]
    },
    {
     "name": "stdout",
     "output_type": "stream",
     "text": [
      "\r",
      "Upgrading database; v1 -> v2:   0%|          | 0/1 [00:00<?, ?it/s]"
     ]
    },
    {
     "name": "stdout",
     "output_type": "stream",
     "text": [
      "\r",
      "Upgrading database; v1 -> v2: 100%|██████████| 1/1 [00:00<00:00, 662.08it/s]"
     ]
    },
    {
     "name": "stdout",
     "output_type": "stream",
     "text": [
      "\n",
      "\r",
      "0it [00:00, ?it/s]"
     ]
    },
    {
     "name": "stdout",
     "output_type": "stream",
     "text": [
      "\r",
      "Upgrading database; v2 -> v3: : 0it [00:00, ?it/s]"
     ]
    },
    {
     "name": "stdout",
     "output_type": "stream",
     "text": [
      "\r",
      "Upgrading database; v2 -> v3: : 0it [00:00, ?it/s]"
     ]
    },
    {
     "name": "stdout",
     "output_type": "stream",
     "text": [
      "\n",
      "\r",
      "0it [00:00, ?it/s]"
     ]
    },
    {
     "name": "stdout",
     "output_type": "stream",
     "text": [
      "\r",
      "Upgrading database; v3 -> v4: : 0it [00:00, ?it/s]"
     ]
    },
    {
     "name": "stdout",
     "output_type": "stream",
     "text": [
      "\r",
      "Upgrading database; v3 -> v4: : 0it [00:00, ?it/s]"
     ]
    },
    {
     "name": "stdout",
     "output_type": "stream",
     "text": [
      "\n",
      "\r",
      "  0%|          | 0/1 [00:00<?, ?it/s]"
     ]
    },
    {
     "name": "stdout",
     "output_type": "stream",
     "text": [
      "\r",
      "Upgrading database; v4 -> v5:   0%|          | 0/1 [00:00<?, ?it/s]"
     ]
    },
    {
     "name": "stdout",
     "output_type": "stream",
     "text": [
      "\r",
      "Upgrading database; v4 -> v5: 100%|██████████| 1/1 [00:00<00:00, 845.46it/s]"
     ]
    },
    {
     "name": "stdout",
     "output_type": "stream",
     "text": [
      "\n",
      "\r",
      "0it [00:00, ?it/s]"
     ]
    },
    {
     "name": "stdout",
     "output_type": "stream",
     "text": [
      "\r",
      "Upgrading database; v5 -> v6: : 0it [00:00, ?it/s]"
     ]
    },
    {
     "name": "stdout",
     "output_type": "stream",
     "text": [
      "\r",
      "Upgrading database; v5 -> v6: : 0it [00:00, ?it/s]"
     ]
    },
    {
     "name": "stdout",
     "output_type": "stream",
     "text": [
      "\n",
      "\r",
      "  0%|          | 0/1 [00:00<?, ?it/s]"
     ]
    },
    {
     "name": "stdout",
     "output_type": "stream",
     "text": [
      "\r",
      "Upgrading database; v6 -> v7:   0%|          | 0/1 [00:00<?, ?it/s]"
     ]
    },
    {
     "name": "stdout",
     "output_type": "stream",
     "text": [
      "\r",
      "Upgrading database; v6 -> v7: 100%|██████████| 1/1 [00:00<00:00, 305.24it/s]"
     ]
    },
    {
     "name": "stdout",
     "output_type": "stream",
     "text": [
      "\n",
      "\r",
      "  0%|          | 0/1 [00:00<?, ?it/s]"
     ]
    },
    {
     "name": "stdout",
     "output_type": "stream",
     "text": [
      "\r",
      "Upgrading database; v7 -> v8:   0%|          | 0/1 [00:00<?, ?it/s]"
     ]
    },
    {
     "name": "stdout",
     "output_type": "stream",
     "text": [
      "\r",
      "Upgrading database; v7 -> v8: 100%|██████████| 1/1 [00:00<00:00, 760.80it/s]"
     ]
    },
    {
     "name": "stdout",
     "output_type": "stream",
     "text": [
      "\n",
      "\r",
      "  0%|          | 0/1 [00:00<?, ?it/s]"
     ]
    },
    {
     "name": "stdout",
     "output_type": "stream",
     "text": [
      "\r",
      "Upgrading database; v8 -> v9:   0%|          | 0/1 [00:00<?, ?it/s]"
     ]
    },
    {
     "name": "stdout",
     "output_type": "stream",
     "text": [
      "\r",
      "Upgrading database; v8 -> v9: 100%|██████████| 1/1 [00:00<00:00, 1054.64it/s]"
     ]
    },
    {
     "name": "stdout",
     "output_type": "stream",
     "text": [
      "\n"
     ]
    }
   ],
   "source": [
    "initialise_database()\n",
    "exp = load_or_create_experiment(experiment_name='tutorial_exp', sample_name=\"no sample\")"
   ]
  },
  {
   "cell_type": "markdown",
   "metadata": {},
   "source": [
    "Here, we define a simple function to benchmark the time it takes to insert n points with either numeric or array data type.\n",
    "We will compare both the time used to call ``add_result`` and the time used for the full measurement."
   ]
  },
  {
   "cell_type": "code",
   "execution_count": 4,
   "metadata": {},
   "outputs": [],
   "source": [
    "def insert_data(paramtype, npoints, nreps=1):\n",
    "\n",
    "    meas = Measurement(exp=exp)\n",
    "\n",
    "    x1 = ManualParameter('x1')\n",
    "    x2 = ManualParameter('x2')\n",
    "    x3 = ManualParameter('x3')\n",
    "    y1 = ManualParameter('y1')\n",
    "    y2 = ManualParameter('y2')\n",
    "\n",
    "    meas.register_parameter(x1, paramtype=paramtype)\n",
    "    meas.register_parameter(x2, paramtype=paramtype)\n",
    "    meas.register_parameter(x3, paramtype=paramtype)\n",
    "    meas.register_parameter(y1, setpoints=[x1, x2, x3],\n",
    "                            paramtype=paramtype)\n",
    "    meas.register_parameter(y2, setpoints=[x1, x2, x3],\n",
    "                            paramtype=paramtype)\n",
    "    start = time.perf_counter()\n",
    "    with meas.run() as datasaver:\n",
    "        start_adding = time.perf_counter()\n",
    "        for i in range(nreps):\n",
    "            datasaver.add_result((x1, np.random.rand(npoints)),\n",
    "                                 (x2, np.random.rand(npoints)),\n",
    "                                 (x3, np.random.rand(npoints)),\n",
    "                                 (y1, np.random.rand(npoints)),\n",
    "                                 (y2, np.random.rand(npoints)))\n",
    "        stop_adding = time.perf_counter()\n",
    "        run_id = datasaver.run_id\n",
    "    stop = time.perf_counter()\n",
    "    tot_time = stop - start\n",
    "    add_time = stop_adding - start_adding\n",
    "    return tot_time, add_time, run_id"
   ]
  },
  {
   "cell_type": "markdown",
   "metadata": {},
   "source": [
    "## Comparison between numeric/array data and binary blob"
   ]
  },
  {
   "cell_type": "markdown",
   "metadata": {},
   "source": [
    "### Case1: Short experiment time"
   ]
  },
  {
   "cell_type": "code",
   "execution_count": 5,
   "metadata": {},
   "outputs": [
    {
     "name": "stdout",
     "output_type": "stream",
     "text": [
      "Starting experimental run with id: 1. \n",
      "Starting experimental run with id: 2. \n",
      "Starting experimental run with id: 3. \n"
     ]
    },
    {
     "name": "stdout",
     "output_type": "stream",
     "text": [
      "Starting experimental run with id: 4. \n"
     ]
    },
    {
     "name": "stdout",
     "output_type": "stream",
     "text": [
      "Starting experimental run with id: 5. \n"
     ]
    },
    {
     "name": "stdout",
     "output_type": "stream",
     "text": [
      "Starting experimental run with id: 6. \n",
      "Starting experimental run with id: 7. \n"
     ]
    },
    {
     "name": "stdout",
     "output_type": "stream",
     "text": [
      "Starting experimental run with id: 8. \n",
      "Starting experimental run with id: 9. \n"
     ]
    },
    {
     "name": "stdout",
     "output_type": "stream",
     "text": [
      "Starting experimental run with id: 10. \n",
      "Starting experimental run with id: 11. \n"
     ]
    },
    {
     "name": "stdout",
     "output_type": "stream",
     "text": [
      "Starting experimental run with id: 12. \n",
      "Starting experimental run with id: 13. \n"
     ]
    },
    {
     "name": "stdout",
     "output_type": "stream",
     "text": [
      "Starting experimental run with id: 14. \n"
     ]
    }
   ],
   "source": [
    "sizes = [1,500,1000,2000,3000,4000,5000]\n",
    "t_numeric = []\n",
    "t_numeric_add = []\n",
    "t_array = []\n",
    "t_array_add = []\n",
    "for size in sizes:\n",
    "    tn, tna, run_id_n =  insert_data('numeric', size)\n",
    "    t_numeric.append(tn)\n",
    "    t_numeric_add.append(tna)\n",
    "\n",
    "    ta, taa, run_id_a =  insert_data('array', size)\n",
    "    t_array.append(ta)\n",
    "    t_array_add.append(taa)"
   ]
  },
  {
   "cell_type": "code",
   "execution_count": 6,
   "metadata": {},
   "outputs": [
    {
     "data": {
      "image/png": "[encoded data removed]",
      "text/plain": [
       "<Figure size 432x288 with 1 Axes>"
      ]
     },
     "metadata": {
      "needs_background": "light"
     },
     "output_type": "display_data"
    }
   ],
   "source": [
    "fig, ax = plt.subplots(1,1)\n",
    "ax.plot(sizes, t_numeric, 'o-', label='Inserting row-by-row')\n",
    "ax.plot(sizes, t_numeric_add, 'o-', label='Inserting row-by-row: add_result only')\n",
    "ax.plot(sizes, t_array, 'd-', label='Inserting as binary blob')\n",
    "ax.plot(sizes, t_array_add, 'd-', label='Inserting as binary blob: add_result only')\n",
    "ax.legend()\n",
    "ax.set_xlabel('Array length')\n",
    "ax.set_ylabel('Time (s)')\n",
    "fig.tight_layout()"
   ]
  },
  {
   "cell_type": "markdown",
   "metadata": {},
   "source": [
    "As shown in the latter figure, the time to setup and and close the experiment is approximately 0.4 sec. In case of small array sizes, the difference between inserting values of data as arrays and inserting them row-by-row is relatively unimportant. At larger array sizes, i.e. above 10000 points, the cost of writing data as individual datapoints starts to become important.\n"
   ]
  },
  {
   "cell_type": "markdown",
   "metadata": {},
   "source": [
    "### Case2: Long experiment time "
   ]
  },
  {
   "cell_type": "code",
   "execution_count": 7,
   "metadata": {},
   "outputs": [
    {
     "name": "stdout",
     "output_type": "stream",
     "text": [
      "Starting experimental run with id: 15. \n",
      "Starting experimental run with id: 16. \n",
      "Starting experimental run with id: 17. \n"
     ]
    },
    {
     "name": "stdout",
     "output_type": "stream",
     "text": [
      "Starting experimental run with id: 18. \n",
      "Starting experimental run with id: 19. \n"
     ]
    },
    {
     "name": "stdout",
     "output_type": "stream",
     "text": [
      "Starting experimental run with id: 20. \n"
     ]
    },
    {
     "name": "stdout",
     "output_type": "stream",
     "text": [
      "Starting experimental run with id: 21. \n"
     ]
    },
    {
     "name": "stdout",
     "output_type": "stream",
     "text": [
      "Starting experimental run with id: 22. \n"
     ]
    },
    {
     "name": "stdout",
     "output_type": "stream",
     "text": [
      "Starting experimental run with id: 23. \n"
     ]
    },
    {
     "name": "stdout",
     "output_type": "stream",
     "text": [
      "Starting experimental run with id: 24. \n"
     ]
    },
    {
     "name": "stdout",
     "output_type": "stream",
     "text": [
      "Starting experimental run with id: 25. \n"
     ]
    },
    {
     "name": "stdout",
     "output_type": "stream",
     "text": [
      "Starting experimental run with id: 26. \n"
     ]
    },
    {
     "name": "stdout",
     "output_type": "stream",
     "text": [
      "Starting experimental run with id: 27. \n"
     ]
    },
    {
     "name": "stdout",
     "output_type": "stream",
     "text": [
      "Starting experimental run with id: 28. \n"
     ]
    }
   ],
   "source": [
    "sizes = [1,500,1000,2000,3000,4000,5000]\n",
    "nreps = 100\n",
    "t_numeric = []\n",
    "t_numeric_add = []\n",
    "t_numeric_run_ids = []\n",
    "t_array = []\n",
    "t_array_add = []\n",
    "t_array_run_ids = []\n",
    "for size in sizes:\n",
    "    tn, tna, run_id_n =  insert_data('numeric', size, nreps=nreps)\n",
    "    t_numeric.append(tn)\n",
    "    t_numeric_add.append(tna)\n",
    "    t_numeric_run_ids.append(run_id_n)\n",
    "\n",
    "    ta, taa, run_id_a =  insert_data('array', size, nreps=nreps)\n",
    "    t_array.append(ta)\n",
    "    t_array_add.append(taa)\n",
    "    t_array_run_ids.append(run_id_a)"
   ]
  },
  {
   "cell_type": "code",
   "execution_count": 8,
   "metadata": {
    "scrolled": true
   },
   "outputs": [
    {
     "data": {
      "image/png": "[encoded data removed]",
      "text/plain": [
       "<Figure size 432x288 with 1 Axes>"
      ]
     },
     "metadata": {
      "needs_background": "light"
     },
     "output_type": "display_data"
    }
   ],
   "source": [
    "fig, ax = plt.subplots(1,1)\n",
    "ax.plot(sizes, t_numeric, 'o-', label='Inserting row-by-row')\n",
    "ax.plot(sizes, t_numeric_add, 'o-', label='Inserting row-by-row: add_result only')\n",
    "ax.plot(sizes, t_array, 'd-', label='Inserting as binary blob')\n",
    "ax.plot(sizes, t_array_add, 'd-', label='Inserting as binary blob: add_result only')\n",
    "ax.legend()\n",
    "ax.set_xlabel('Array length')\n",
    "ax.set_ylabel('Time (s)')\n",
    "fig.tight_layout()"
   ]
  },
  {
   "cell_type": "markdown",
   "metadata": {},
   "source": [
    "However, as we increase the length of the experiment, as seen here by repeating the insertion 100 times, we see a big difference between inserting values of the data row-by-row and inserting it as a binary blob."
   ]
  },
  {
   "cell_type": "markdown",
   "metadata": {},
   "source": [
    "## Loading the data "
   ]
  },
  {
   "cell_type": "code",
   "execution_count": 9,
   "metadata": {},
   "outputs": [],
   "source": [
    "from qcodes.dataset.data_set import load_by_id\n",
    "from qcodes.dataset.data_export import get_data_by_id"
   ]
  },
  {
   "cell_type": "markdown",
   "metadata": {},
   "source": [
    "As usual you can load the data by using the ``load_by_id`` function but you will notice that the different storage methods\n",
    "are reflected in shape of the data as it is retrieved. "
   ]
  },
  {
   "cell_type": "code",
   "execution_count": 10,
   "metadata": {},
   "outputs": [],
   "source": [
    "run_id_n = t_numeric_run_ids[0]\n",
    "run_id_a = t_array_run_ids[0]"
   ]
  },
  {
   "cell_type": "code",
   "execution_count": 11,
   "metadata": {
    "scrolled": true
   },
   "outputs": [
    {
     "data": {
      "text/plain": [
       "{'x1': {'x1': array([0.79559448, 0.79559448, 0.1311633 , 0.1311633 , 0.02749909,\n",
       "         0.02749909, 0.57349475, 0.57349475, 0.60495299, 0.60495299,\n",
       "         0.39817488, 0.39817488, 0.51537652, 0.51537652, 0.9647834 ,\n",
       "         0.9647834 , 0.26289948, 0.26289948, 0.31996779, 0.31996779,\n",
       "         0.52398735, 0.52398735, 0.45058237, 0.45058237, 0.50713929,\n",
       "         0.50713929, 0.88655804, 0.88655804, 0.66148072, 0.66148072,\n",
       "         0.55738081, 0.55738081, 0.49366601, 0.49366601, 0.57906722,\n",
       "         0.57906722, 0.7189995 , 0.7189995 , 0.47527167, 0.47527167,\n",
       "         0.46820003, 0.46820003, 0.14998501, 0.14998501, 0.94600235,\n",
       "         0.94600235, 0.1896664 , 0.1896664 , 0.85336309, 0.85336309,\n",
       "         0.72134653, 0.72134653, 0.0084805 , 0.0084805 , 0.85389752,\n",
       "         0.85389752, 0.28696481, 0.28696481, 0.09850594, 0.09850594,\n",
       "         0.92175842, 0.92175842, 0.89877299, 0.89877299, 0.82650801,\n",
       "         0.82650801, 0.1821139 , 0.1821139 , 0.44619304, 0.44619304,\n",
       "         0.32632783, 0.32632783, 0.9239919 , 0.9239919 , 0.9733033 ,\n",
       "         0.9733033 , 0.46820791, 0.46820791, 0.90140362, 0.90140362,\n",
       "         0.53465764, 0.53465764, 0.100642  , 0.100642  , 0.2624932 ,\n",
       "         0.2624932 , 0.44602757, 0.44602757, 0.70638217, 0.70638217,\n",
       "         0.00298878, 0.00298878, 0.12259011, 0.12259011, 0.94200009,\n",
       "         0.94200009, 0.50469605, 0.50469605, 0.44737566, 0.44737566,\n",
       "         0.51789098, 0.51789098, 0.47617189, 0.47617189, 0.18577946,\n",
       "         0.18577946, 0.67209853, 0.67209853, 0.64874734, 0.64874734,\n",
       "         0.59698147, 0.59698147, 0.9993347 , 0.9993347 , 0.62780266,\n",
       "         0.62780266, 0.95139287, 0.95139287, 0.1081454 , 0.1081454 ,\n",
       "         0.33482345, 0.33482345, 0.71006352, 0.71006352, 0.51717924,\n",
       "         0.51717924, 0.67970951, 0.67970951, 0.22573805, 0.22573805,\n",
       "         0.52936886, 0.52936886, 0.6844622 , 0.6844622 , 0.81756841,\n",
       "         0.81756841, 0.54956357, 0.54956357, 0.2169189 , 0.2169189 ,\n",
       "         0.26035349, 0.26035349, 0.47846996, 0.47846996, 0.70877144,\n",
       "         0.70877144, 0.90414922, 0.90414922, 0.49673888, 0.49673888,\n",
       "         0.15834043, 0.15834043, 0.98224378, 0.98224378, 0.30412529,\n",
       "         0.30412529, 0.47553335, 0.47553335, 0.35810043, 0.35810043,\n",
       "         0.03542451, 0.03542451, 0.21246869, 0.21246869, 0.85204426,\n",
       "         0.85204426, 0.23762682, 0.23762682, 0.57026709, 0.57026709,\n",
       "         0.27200551, 0.27200551, 0.26917068, 0.26917068, 0.8313629 ,\n",
       "         0.8313629 , 0.23462407, 0.23462407, 0.98188401, 0.98188401,\n",
       "         0.38865354, 0.38865354, 0.36263125, 0.36263125, 0.89253726,\n",
       "         0.89253726, 0.60875143, 0.60875143, 0.75657349, 0.75657349,\n",
       "         0.98575292, 0.98575292, 0.0757945 , 0.0757945 , 0.04222027,\n",
       "         0.04222027, 0.48046346, 0.48046346, 0.61813344, 0.61813344])}}"
      ]
     },
     "execution_count": 11,
     "metadata": {},
     "output_type": "execute_result"
    }
   ],
   "source": [
    "ds = load_by_id(run_id_n)\n",
    "ds.get_parameter_data('x1')"
   ]
  },
  {
   "cell_type": "markdown",
   "metadata": {},
   "source": [
    "And a dataset stored as binary arrays"
   ]
  },
  {
   "cell_type": "code",
   "execution_count": 12,
   "metadata": {
    "scrolled": true
   },
   "outputs": [
    {
     "data": {
      "text/plain": [
       "{'x1': {'x1': array([[0.49750938],\n",
       "         [0.49750938],\n",
       "         [0.00113426],\n",
       "         [0.00113426],\n",
       "         [0.75363503],\n",
       "         [0.75363503],\n",
       "         [0.51163146],\n",
       "         [0.51163146],\n",
       "         [0.02329448],\n",
       "         [0.02329448],\n",
       "         [0.94238777],\n",
       "         [0.94238777],\n",
       "         [0.95983183],\n",
       "         [0.95983183],\n",
       "         [0.43333085],\n",
       "         [0.43333085],\n",
       "         [0.02980143],\n",
       "         [0.02980143],\n",
       "         [0.6079304 ],\n",
       "         [0.6079304 ],\n",
       "         [0.62245042],\n",
       "         [0.62245042],\n",
       "         [0.47431217],\n",
       "         [0.47431217],\n",
       "         [0.16490587],\n",
       "         [0.16490587],\n",
       "         [0.53191994],\n",
       "         [0.53191994],\n",
       "         [0.32167093],\n",
       "         [0.32167093],\n",
       "         [0.29355558],\n",
       "         [0.29355558],\n",
       "         [0.95412835],\n",
       "         [0.95412835],\n",
       "         [0.41678588],\n",
       "         [0.41678588],\n",
       "         [0.45280373],\n",
       "         [0.45280373],\n",
       "         [0.30424377],\n",
       "         [0.30424377],\n",
       "         [0.4702507 ],\n",
       "         [0.4702507 ],\n",
       "         [0.20197239],\n",
       "         [0.20197239],\n",
       "         [0.14259941],\n",
       "         [0.14259941],\n",
       "         [0.20312453],\n",
       "         [0.20312453],\n",
       "         [0.24423564],\n",
       "         [0.24423564],\n",
       "         [0.82148167],\n",
       "         [0.82148167],\n",
       "         [0.09437132],\n",
       "         [0.09437132],\n",
       "         [0.08272812],\n",
       "         [0.08272812],\n",
       "         [0.47645154],\n",
       "         [0.47645154],\n",
       "         [0.89076246],\n",
       "         [0.89076246],\n",
       "         [0.25938642],\n",
       "         [0.25938642],\n",
       "         [0.50655566],\n",
       "         [0.50655566],\n",
       "         [0.20016043],\n",
       "         [0.20016043],\n",
       "         [0.73239083],\n",
       "         [0.73239083],\n",
       "         [0.53541628],\n",
       "         [0.53541628],\n",
       "         [0.17006586],\n",
       "         [0.17006586],\n",
       "         [0.66354082],\n",
       "         [0.66354082],\n",
       "         [0.45240891],\n",
       "         [0.45240891],\n",
       "         [0.35660922],\n",
       "         [0.35660922],\n",
       "         [0.10569079],\n",
       "         [0.10569079],\n",
       "         [0.95390028],\n",
       "         [0.95390028],\n",
       "         [0.71917798],\n",
       "         [0.71917798],\n",
       "         [0.30551925],\n",
       "         [0.30551925],\n",
       "         [0.58288871],\n",
       "         [0.58288871],\n",
       "         [0.24318496],\n",
       "         [0.24318496],\n",
       "         [0.22439315],\n",
       "         [0.22439315],\n",
       "         [0.7312002 ],\n",
       "         [0.7312002 ],\n",
       "         [0.4623723 ],\n",
       "         [0.4623723 ],\n",
       "         [0.59391693],\n",
       "         [0.59391693],\n",
       "         [0.66977166],\n",
       "         [0.66977166],\n",
       "         [0.15868848],\n",
       "         [0.15868848],\n",
       "         [0.9572825 ],\n",
       "         [0.9572825 ],\n",
       "         [0.41855629],\n",
       "         [0.41855629],\n",
       "         [0.71170863],\n",
       "         [0.71170863],\n",
       "         [0.55276909],\n",
       "         [0.55276909],\n",
       "         [0.23332467],\n",
       "         [0.23332467],\n",
       "         [0.44680283],\n",
       "         [0.44680283],\n",
       "         [0.17089144],\n",
       "         [0.17089144],\n",
       "         [0.95585461],\n",
       "         [0.95585461],\n",
       "         [0.14979543],\n",
       "         [0.14979543],\n",
       "         [0.36118886],\n",
       "         [0.36118886],\n",
       "         [0.53597228],\n",
       "         [0.53597228],\n",
       "         [0.27888306],\n",
       "         [0.27888306],\n",
       "         [0.84118687],\n",
       "         [0.84118687],\n",
       "         [0.67103943],\n",
       "         [0.67103943],\n",
       "         [0.42551085],\n",
       "         [0.42551085],\n",
       "         [0.71555669],\n",
       "         [0.71555669],\n",
       "         [0.48784184],\n",
       "         [0.48784184],\n",
       "         [0.11835123],\n",
       "         [0.11835123],\n",
       "         [0.11237385],\n",
       "         [0.11237385],\n",
       "         [0.50843545],\n",
       "         [0.50843545],\n",
       "         [0.65086255],\n",
       "         [0.65086255],\n",
       "         [0.05829202],\n",
       "         [0.05829202],\n",
       "         [0.56562893],\n",
       "         [0.56562893],\n",
       "         [0.71934716],\n",
       "         [0.71934716],\n",
       "         [0.36124914],\n",
       "         [0.36124914],\n",
       "         [0.49009651],\n",
       "         [0.49009651],\n",
       "         [0.83904123],\n",
       "         [0.83904123],\n",
       "         [0.30569387],\n",
       "         [0.30569387],\n",
       "         [0.39767819],\n",
       "         [0.39767819],\n",
       "         [0.29603448],\n",
       "         [0.29603448],\n",
       "         [0.3608603 ],\n",
       "         [0.3608603 ],\n",
       "         [0.38438238],\n",
       "         [0.38438238],\n",
       "         [0.3931496 ],\n",
       "         [0.3931496 ],\n",
       "         [0.65454158],\n",
       "         [0.65454158],\n",
       "         [0.91690079],\n",
       "         [0.91690079],\n",
       "         [0.68910901],\n",
       "         [0.68910901],\n",
       "         [0.40047061],\n",
       "         [0.40047061],\n",
       "         [0.20267372],\n",
       "         [0.20267372],\n",
       "         [0.72531625],\n",
       "         [0.72531625],\n",
       "         [0.6756114 ],\n",
       "         [0.6756114 ],\n",
       "         [0.00127836],\n",
       "         [0.00127836],\n",
       "         [0.92546803],\n",
       "         [0.92546803],\n",
       "         [0.79185318],\n",
       "         [0.79185318],\n",
       "         [0.82623108],\n",
       "         [0.82623108],\n",
       "         [0.56636588],\n",
       "         [0.56636588],\n",
       "         [0.37094152],\n",
       "         [0.37094152],\n",
       "         [0.15857346],\n",
       "         [0.15857346],\n",
       "         [0.91578826],\n",
       "         [0.91578826],\n",
       "         [0.02462275],\n",
       "         [0.02462275]])}}"
      ]
     },
     "execution_count": 12,
     "metadata": {},
     "output_type": "execute_result"
    }
   ],
   "source": [
    "ds = load_by_id(run_id_a)\n",
    "ds.get_parameter_data('x1')"
   ]
  },
  {
   "cell_type": "code",
   "execution_count": null,
   "metadata": {},
   "outputs": [],
   "source": []
  }
 ],
 "metadata": {
  "kernelspec": {
   "display_name": "Python 3",
   "language": "python",
   "name": "python3"
  },
  "language_info": {
   "codemirror_mode": {
    "name": "ipython",
    "version": 3
   },
   "file_extension": ".py",
   "mimetype": "text/x-python",
   "name": "python",
   "nbconvert_exporter": "python",
   "pygments_lexer": "ipython3",
   "version": "3.7.7"
  },
  "nbsphinx": {
   "timeout": 600
  },
  "toc": {
   "base_numbering": 1,
   "nav_menu": {},
   "number_sections": true,
   "sideBar": true,
   "skip_h1_title": false,
   "title_cell": "Table of Contents",
   "title_sidebar": "Contents",
   "toc_cell": false,
   "toc_position": {},
   "toc_section_display": true,
   "toc_window_display": false
  },
  "varInspector": {
   "cols": {
    "lenName": 16,
    "lenType": 16,
    "lenVar": 40
   },
   "kernels_config": {
    "python": {
     "delete_cmd_postfix": "",
     "delete_cmd_prefix": "del ",
     "library": "var_list.py",
     "varRefreshCmd": "print(var_dic_list())"
    },
    "r": {
     "delete_cmd_postfix": ") ",
     "delete_cmd_prefix": "rm(",
     "library": "var_list.r",
     "varRefreshCmd": "cat(var_dic_list()) "
    }
   },
   "types_to_exclude": [
    "module",
    "function",
    "builtin_function_or_method",
    "instance",
    "_Feature"
   ],
   "window_display": false
  }
 },
 "nbformat": 4,
 "nbformat_minor": 2
}
