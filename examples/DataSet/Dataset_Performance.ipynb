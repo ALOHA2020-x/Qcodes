{
 "cells": [
  {
   "cell_type": "markdown",
   "metadata": {},
   "source": [
    "# DataSet Performance\n",
    "\n",
    "This notebook shows the trade-off between inserting data into a database row-by-row and as binary blobs. Inserting the data row-by-row means that we have direct access to all the data and may perform queries directly on the values of the data. On the other hand, as we shall see, this is much slower than inserting the data directly as binary blobs."
   ]
  },
  {
   "cell_type": "markdown",
   "metadata": {},
   "source": [
    "First, we choose a new location for the database to ensure that we don't add a bunch of benchmarking data to the default one."
   ]
  },
  {
   "cell_type": "code",
   "execution_count": 1,
   "metadata": {
    "execution": {
     "iopub.execute_input": "2021-01-06T12:07:03.646340Z",
     "iopub.status.busy": "2021-01-06T12:07:03.645624Z",
     "iopub.status.idle": "2021-01-06T12:07:04.552648Z",
     "shell.execute_reply": "2021-01-06T12:07:04.552227Z"
    }
   },
   "outputs": [
    {
     "name": "stdout",
     "output_type": "stream",
     "text": [
      "Logging hadn't been started.\n",
      "Activating auto-logging. Current session state plus future input saved.\n",
      "Filename       : /home/vsts/.qcodes/logs/command_history.log\n",
      "Mode           : append\n",
      "Output logging : True\n",
      "Raw input log  : False\n",
      "Timestamping   : True\n",
      "State          : active\n"
     ]
    },
    {
     "name": "stdout",
     "output_type": "stream",
     "text": [
      "Qcodes Logfile : /home/vsts/.qcodes/logs/210106-14047-qcodes.log\n"
     ]
    }
   ],
   "source": [
    "import os\n",
    "cwd = os.getcwd()\n",
    "import qcodes as qc\n",
    "qc.config[\"core\"][\"db_location\"] = os.path.join(cwd, 'testing.db')\n"
   ]
  },
  {
   "cell_type": "code",
   "execution_count": 2,
   "metadata": {
    "execution": {
     "iopub.execute_input": "2021-01-06T12:07:04.558697Z",
     "iopub.status.busy": "2021-01-06T12:07:04.557146Z",
     "iopub.status.idle": "2021-01-06T12:07:04.709497Z",
     "shell.execute_reply": "2021-01-06T12:07:04.708250Z"
    }
   },
   "outputs": [],
   "source": [
    "%matplotlib inline\n",
    "import time\n",
    "import matplotlib.pyplot as plt\n",
    "import numpy as np\n",
    "\n",
    "import qcodes as qc\n",
    "from qcodes.instrument.parameter import ManualParameter\n",
    "from qcodes.dataset.experiment_container import (Experiment,\n",
    "                                                 load_last_experiment,\n",
    "                                                 new_experiment)\n",
    "from qcodes.dataset.sqlite.database import initialise_database\n",
    "from qcodes import load_or_create_experiment\n",
    "from qcodes.dataset.measurements import Measurement"
   ]
  },
  {
   "cell_type": "code",
   "execution_count": 3,
   "metadata": {
    "execution": {
     "iopub.execute_input": "2021-01-06T12:07:04.713444Z",
     "iopub.status.busy": "2021-01-06T12:07:04.713015Z",
     "iopub.status.idle": "2021-01-06T12:07:04.828394Z",
     "shell.execute_reply": "2021-01-06T12:07:04.827986Z"
    }
   },
   "outputs": [
    {
     "name": "stdout",
     "output_type": "stream",
     "text": [
      "\r",
      "0it [00:00, ?it/s]"
     ]
    },
    {
     "name": "stdout",
     "output_type": "stream",
     "text": [
      "\r",
      "Upgrading database; v0 -> v1: : 0it [00:00, ?it/s]"
     ]
    },
    {
     "name": "stdout",
     "output_type": "stream",
     "text": [
      "\r",
      "Upgrading database; v0 -> v1: : 0it [00:00, ?it/s]"
     ]
    },
    {
     "name": "stdout",
     "output_type": "stream",
     "text": [
      "\n",
      "\r",
      "  0%|          | 0/1 [00:00<?, ?it/s]"
     ]
    },
    {
     "name": "stdout",
     "output_type": "stream",
     "text": [
      "\r",
      "Upgrading database; v1 -> v2:   0%|          | 0/1 [00:00<?, ?it/s]"
     ]
    },
    {
     "name": "stdout",
     "output_type": "stream",
     "text": [
      "\r",
      "Upgrading database; v1 -> v2: 100%|██████████| 1/1 [00:00<00:00, 1388.84it/s]"
     ]
    },
    {
     "name": "stdout",
     "output_type": "stream",
     "text": [
      "\n",
      "\r",
      "0it [00:00, ?it/s]"
     ]
    },
    {
     "name": "stdout",
     "output_type": "stream",
     "text": [
      "\r",
      "Upgrading database; v2 -> v3: : 0it [00:00, ?it/s]"
     ]
    },
    {
     "name": "stdout",
     "output_type": "stream",
     "text": [
      "\r",
      "Upgrading database; v2 -> v3: : 0it [00:00, ?it/s]"
     ]
    },
    {
     "name": "stdout",
     "output_type": "stream",
     "text": [
      "\n",
      "\r",
      "0it [00:00, ?it/s]"
     ]
    },
    {
     "name": "stdout",
     "output_type": "stream",
     "text": [
      "\r",
      "Upgrading database; v3 -> v4: : 0it [00:00, ?it/s]"
     ]
    },
    {
     "name": "stdout",
     "output_type": "stream",
     "text": [
      "\r",
      "Upgrading database; v3 -> v4: : 0it [00:00, ?it/s]"
     ]
    },
    {
     "name": "stdout",
     "output_type": "stream",
     "text": [
      "\n",
      "\r",
      "  0%|          | 0/1 [00:00<?, ?it/s]"
     ]
    },
    {
     "name": "stdout",
     "output_type": "stream",
     "text": [
      "\r",
      "Upgrading database; v4 -> v5:   0%|          | 0/1 [00:00<?, ?it/s]"
     ]
    },
    {
     "name": "stdout",
     "output_type": "stream",
     "text": [
      "\r",
      "Upgrading database; v4 -> v5: 100%|██████████| 1/1 [00:00<00:00, 512.38it/s]"
     ]
    },
    {
     "name": "stdout",
     "output_type": "stream",
     "text": [
      "\n",
      "\r",
      "0it [00:00, ?it/s]"
     ]
    },
    {
     "name": "stdout",
     "output_type": "stream",
     "text": [
      "\r",
      "Upgrading database; v5 -> v6: : 0it [00:00, ?it/s]"
     ]
    },
    {
     "name": "stdout",
     "output_type": "stream",
     "text": [
      "\r",
      "Upgrading database; v5 -> v6: : 0it [00:00, ?it/s]"
     ]
    },
    {
     "name": "stdout",
     "output_type": "stream",
     "text": [
      "\n",
      "\r",
      "  0%|          | 0/1 [00:00<?, ?it/s]"
     ]
    },
    {
     "name": "stdout",
     "output_type": "stream",
     "text": [
      "\r",
      "Upgrading database; v6 -> v7:   0%|          | 0/1 [00:00<?, ?it/s]"
     ]
    },
    {
     "name": "stdout",
     "output_type": "stream",
     "text": [
      "\r",
      "Upgrading database; v6 -> v7: 100%|██████████| 1/1 [00:00<00:00, 233.65it/s]"
     ]
    },
    {
     "name": "stdout",
     "output_type": "stream",
     "text": [
      "\n",
      "\r",
      "  0%|          | 0/1 [00:00<?, ?it/s]"
     ]
    },
    {
     "name": "stdout",
     "output_type": "stream",
     "text": [
      "\r",
      "Upgrading database; v7 -> v8:   0%|          | 0/1 [00:00<?, ?it/s]"
     ]
    },
    {
     "name": "stdout",
     "output_type": "stream",
     "text": [
      "\r",
      "Upgrading database; v7 -> v8: 100%|██████████| 1/1 [00:00<00:00, 519.29it/s]"
     ]
    },
    {
     "name": "stdout",
     "output_type": "stream",
     "text": [
      "\n",
      "\r",
      "  0%|          | 0/1 [00:00<?, ?it/s]"
     ]
    },
    {
     "name": "stdout",
     "output_type": "stream",
     "text": [
      "\r",
      "Upgrading database; v8 -> v9:   0%|          | 0/1 [00:00<?, ?it/s]"
     ]
    },
    {
     "name": "stdout",
     "output_type": "stream",
     "text": [
      "\r",
      "Upgrading database; v8 -> v9: 100%|██████████| 1/1 [00:00<00:00, 569.03it/s]"
     ]
    },
    {
     "name": "stdout",
     "output_type": "stream",
     "text": [
      "\n"
     ]
    }
   ],
   "source": [
    "initialise_database()\n",
    "exp = load_or_create_experiment(experiment_name='tutorial_exp', sample_name=\"no sample\")"
   ]
  },
  {
   "cell_type": "markdown",
   "metadata": {},
   "source": [
    "Here, we define a simple function to benchmark the time it takes to insert n points with either numeric or array data type.\n",
    "We will compare both the time used to call ``add_result`` and the time used for the full measurement."
   ]
  },
  {
   "cell_type": "code",
   "execution_count": 4,
   "metadata": {
    "execution": {
     "iopub.execute_input": "2021-01-06T12:07:04.835238Z",
     "iopub.status.busy": "2021-01-06T12:07:04.834795Z",
     "iopub.status.idle": "2021-01-06T12:07:04.837942Z",
     "shell.execute_reply": "2021-01-06T12:07:04.837368Z"
    }
   },
   "outputs": [],
   "source": [
    "def insert_data(paramtype, npoints, nreps=1):\n",
    "\n",
    "    meas = Measurement(exp=exp)\n",
    "\n",
    "    x1 = ManualParameter('x1')\n",
    "    x2 = ManualParameter('x2')\n",
    "    x3 = ManualParameter('x3')\n",
    "    y1 = ManualParameter('y1')\n",
    "    y2 = ManualParameter('y2')\n",
    "\n",
    "    meas.register_parameter(x1, paramtype=paramtype)\n",
    "    meas.register_parameter(x2, paramtype=paramtype)\n",
    "    meas.register_parameter(x3, paramtype=paramtype)\n",
    "    meas.register_parameter(y1, setpoints=[x1, x2, x3],\n",
    "                            paramtype=paramtype)\n",
    "    meas.register_parameter(y2, setpoints=[x1, x2, x3],\n",
    "                            paramtype=paramtype)\n",
    "    start = time.perf_counter()\n",
    "    with meas.run() as datasaver:\n",
    "        start_adding = time.perf_counter()\n",
    "        for i in range(nreps):\n",
    "            datasaver.add_result((x1, np.random.rand(npoints)),\n",
    "                                 (x2, np.random.rand(npoints)),\n",
    "                                 (x3, np.random.rand(npoints)),\n",
    "                                 (y1, np.random.rand(npoints)),\n",
    "                                 (y2, np.random.rand(npoints)))\n",
    "        stop_adding = time.perf_counter()\n",
    "        run_id = datasaver.run_id\n",
    "    stop = time.perf_counter()\n",
    "    tot_time = stop - start\n",
    "    add_time = stop_adding - start_adding\n",
    "    return tot_time, add_time, run_id"
   ]
  },
  {
   "cell_type": "markdown",
   "metadata": {},
   "source": [
    "## Comparison between numeric/array data and binary blob"
   ]
  },
  {
   "cell_type": "markdown",
   "metadata": {},
   "source": [
    "### Case1: Short experiment time"
   ]
  },
  {
   "cell_type": "code",
   "execution_count": 5,
   "metadata": {
    "execution": {
     "iopub.execute_input": "2021-01-06T12:07:04.843730Z",
     "iopub.status.busy": "2021-01-06T12:07:04.842912Z",
     "iopub.status.idle": "2021-01-06T12:07:05.584222Z",
     "shell.execute_reply": "2021-01-06T12:07:05.583553Z"
    }
   },
   "outputs": [
    {
     "name": "stdout",
     "output_type": "stream",
     "text": [
      "Starting experimental run with id: 1. \n",
      "Starting experimental run with id: 2. \n",
      "Starting experimental run with id: 3. \n",
      "Starting experimental run with id: 4. \n",
      "Starting experimental run with id: 5. \n"
     ]
    },
    {
     "name": "stdout",
     "output_type": "stream",
     "text": [
      "Starting experimental run with id: 6. "
     ]
    },
    {
     "name": "stdout",
     "output_type": "stream",
     "text": [
      "\n"
     ]
    },
    {
     "name": "stdout",
     "output_type": "stream",
     "text": [
      "Starting experimental run with id: 7. \n"
     ]
    },
    {
     "name": "stdout",
     "output_type": "stream",
     "text": [
      "Starting experimental run with id: 8. \n",
      "Starting experimental run with id: 9. \n"
     ]
    },
    {
     "name": "stdout",
     "output_type": "stream",
     "text": [
      "Starting experimental run with id: 10. \n"
     ]
    },
    {
     "name": "stdout",
     "output_type": "stream",
     "text": [
      "Starting experimental run with id: 11. \n"
     ]
    },
    {
     "name": "stdout",
     "output_type": "stream",
     "text": [
      "Starting experimental run with id: 12. \n",
      "Starting experimental run with id: 13. \n"
     ]
    },
    {
     "name": "stdout",
     "output_type": "stream",
     "text": [
      "Starting experimental run with id: 14. \n"
     ]
    }
   ],
   "source": [
    "sizes = [1,500,1000,2000,3000,4000,5000]\n",
    "t_numeric = []\n",
    "t_numeric_add = []\n",
    "t_array = []\n",
    "t_array_add = []\n",
    "for size in sizes:\n",
    "    tn, tna, run_id_n =  insert_data('numeric', size)\n",
    "    t_numeric.append(tn)\n",
    "    t_numeric_add.append(tna)\n",
    "\n",
    "    ta, taa, run_id_a =  insert_data('array', size)\n",
    "    t_array.append(ta)\n",
    "    t_array_add.append(taa)"
   ]
  },
  {
   "cell_type": "code",
   "execution_count": 6,
   "metadata": {
    "execution": {
     "iopub.execute_input": "2021-01-06T12:07:05.598270Z",
     "iopub.status.busy": "2021-01-06T12:07:05.592855Z",
     "iopub.status.idle": "2021-01-06T12:07:05.766398Z",
     "shell.execute_reply": "2021-01-06T12:07:05.767042Z"
    }
   },
   "outputs": [
    {
     "data": {
      "image/png": "[encoded data removed]",
      "text/plain": [
       "<Figure size 432x288 with 1 Axes>"
      ]
     },
     "metadata": {
      "needs_background": "light"
     },
     "output_type": "display_data"
    }
   ],
   "source": [
    "fig, ax = plt.subplots(1,1)\n",
    "ax.plot(sizes, t_numeric, 'o-', label='Inserting row-by-row')\n",
    "ax.plot(sizes, t_numeric_add, 'o-', label='Inserting row-by-row: add_result only')\n",
    "ax.plot(sizes, t_array, 'd-', label='Inserting as binary blob')\n",
    "ax.plot(sizes, t_array_add, 'd-', label='Inserting as binary blob: add_result only')\n",
    "ax.legend()\n",
    "ax.set_xlabel('Array length')\n",
    "ax.set_ylabel('Time (s)')\n",
    "fig.tight_layout()"
   ]
  },
  {
   "cell_type": "markdown",
   "metadata": {},
   "source": [
    "As shown in the latter figure, the time to setup and and close the experiment is approximately 0.4 sec. In case of small array sizes, the difference between inserting values of data as arrays and inserting them row-by-row is relatively unimportant. At larger array sizes, i.e. above 10000 points, the cost of writing data as individual datapoints starts to become important.\n"
   ]
  },
  {
   "cell_type": "markdown",
   "metadata": {},
   "source": [
    "### Case2: Long experiment time "
   ]
  },
  {
   "cell_type": "code",
   "execution_count": 7,
   "metadata": {
    "execution": {
     "iopub.execute_input": "2021-01-06T12:07:05.769806Z",
     "iopub.status.busy": "2021-01-06T12:07:05.769020Z",
     "iopub.status.idle": "2021-01-06T12:07:54.227642Z",
     "shell.execute_reply": "2021-01-06T12:07:54.227227Z"
    }
   },
   "outputs": [
    {
     "name": "stdout",
     "output_type": "stream",
     "text": [
      "Starting experimental run with id: 15. \n",
      "Starting experimental run with id: 16. \n",
      "Starting experimental run with id: 17. \n"
     ]
    },
    {
     "name": "stdout",
     "output_type": "stream",
     "text": [
      "Starting experimental run with id: 18. \n",
      "Starting experimental run with id: 19. \n"
     ]
    },
    {
     "name": "stdout",
     "output_type": "stream",
     "text": [
      "Starting experimental run with id: 20. \n"
     ]
    },
    {
     "name": "stdout",
     "output_type": "stream",
     "text": [
      "Starting experimental run with id: 21. \n"
     ]
    },
    {
     "name": "stdout",
     "output_type": "stream",
     "text": [
      "Starting experimental run with id: 22. \n"
     ]
    },
    {
     "name": "stdout",
     "output_type": "stream",
     "text": [
      "Starting experimental run with id: 23. \n"
     ]
    },
    {
     "name": "stdout",
     "output_type": "stream",
     "text": [
      "Starting experimental run with id: 24. \n"
     ]
    },
    {
     "name": "stdout",
     "output_type": "stream",
     "text": [
      "Starting experimental run with id: 25. \n"
     ]
    },
    {
     "name": "stdout",
     "output_type": "stream",
     "text": [
      "Starting experimental run with id: 26. \n"
     ]
    },
    {
     "name": "stdout",
     "output_type": "stream",
     "text": [
      "Starting experimental run with id: 27. \n"
     ]
    },
    {
     "name": "stdout",
     "output_type": "stream",
     "text": [
      "Starting experimental run with id: 28. \n"
     ]
    }
   ],
   "source": [
    "sizes = [1,500,1000,2000,3000,4000,5000]\n",
    "nreps = 100\n",
    "t_numeric = []\n",
    "t_numeric_add = []\n",
    "t_numeric_run_ids = []\n",
    "t_array = []\n",
    "t_array_add = []\n",
    "t_array_run_ids = []\n",
    "for size in sizes:\n",
    "    tn, tna, run_id_n =  insert_data('numeric', size, nreps=nreps)\n",
    "    t_numeric.append(tn)\n",
    "    t_numeric_add.append(tna)\n",
    "    t_numeric_run_ids.append(run_id_n)\n",
    "\n",
    "    ta, taa, run_id_a =  insert_data('array', size, nreps=nreps)\n",
    "    t_array.append(ta)\n",
    "    t_array_add.append(taa)\n",
    "    t_array_run_ids.append(run_id_a)"
   ]
  },
  {
   "cell_type": "code",
   "execution_count": 8,
   "metadata": {
    "execution": {
     "iopub.execute_input": "2021-01-06T12:07:54.252723Z",
     "iopub.status.busy": "2021-01-06T12:07:54.232140Z",
     "iopub.status.idle": "2021-01-06T12:07:54.390765Z",
     "shell.execute_reply": "2021-01-06T12:07:54.391303Z"
    },
    "scrolled": true
   },
   "outputs": [
    {
     "data": {
      "image/png": "[encoded data removed]",
      "text/plain": [
       "<Figure size 432x288 with 1 Axes>"
      ]
     },
     "metadata": {
      "needs_background": "light"
     },
     "output_type": "display_data"
    }
   ],
   "source": [
    "fig, ax = plt.subplots(1,1)\n",
    "ax.plot(sizes, t_numeric, 'o-', label='Inserting row-by-row')\n",
    "ax.plot(sizes, t_numeric_add, 'o-', label='Inserting row-by-row: add_result only')\n",
    "ax.plot(sizes, t_array, 'd-', label='Inserting as binary blob')\n",
    "ax.plot(sizes, t_array_add, 'd-', label='Inserting as binary blob: add_result only')\n",
    "ax.legend()\n",
    "ax.set_xlabel('Array length')\n",
    "ax.set_ylabel('Time (s)')\n",
    "fig.tight_layout()"
   ]
  },
  {
   "cell_type": "markdown",
   "metadata": {},
   "source": [
    "However, as we increase the length of the experiment, as seen here by repeating the insertion 100 times, we see a big difference between inserting values of the data row-by-row and inserting it as a binary blob."
   ]
  },
  {
   "cell_type": "markdown",
   "metadata": {},
   "source": [
    "## Loading the data "
   ]
  },
  {
   "cell_type": "code",
   "execution_count": 9,
   "metadata": {
    "execution": {
     "iopub.execute_input": "2021-01-06T12:07:54.394518Z",
     "iopub.status.busy": "2021-01-06T12:07:54.394045Z",
     "iopub.status.idle": "2021-01-06T12:07:54.396103Z",
     "shell.execute_reply": "2021-01-06T12:07:54.396538Z"
    }
   },
   "outputs": [],
   "source": [
    "from qcodes.dataset.data_set import load_by_id\n",
    "from qcodes.dataset.data_export import get_data_by_id"
   ]
  },
  {
   "cell_type": "markdown",
   "metadata": {},
   "source": [
    "As usual you can load the data by using the ``load_by_id`` function but you will notice that the different storage methods\n",
    "are reflected in shape of the data as it is retrieved. "
   ]
  },
  {
   "cell_type": "code",
   "execution_count": 10,
   "metadata": {
    "execution": {
     "iopub.execute_input": "2021-01-06T12:07:54.398572Z",
     "iopub.status.busy": "2021-01-06T12:07:54.398151Z",
     "iopub.status.idle": "2021-01-06T12:07:54.400430Z",
     "shell.execute_reply": "2021-01-06T12:07:54.400808Z"
    }
   },
   "outputs": [],
   "source": [
    "run_id_n = t_numeric_run_ids[0]\n",
    "run_id_a = t_array_run_ids[0]"
   ]
  },
  {
   "cell_type": "code",
   "execution_count": 11,
   "metadata": {
    "execution": {
     "iopub.execute_input": "2021-01-06T12:07:54.402591Z",
     "iopub.status.busy": "2021-01-06T12:07:54.402179Z",
     "iopub.status.idle": "2021-01-06T12:07:54.409978Z",
     "shell.execute_reply": "2021-01-06T12:07:54.410348Z"
    },
    "scrolled": true
   },
   "outputs": [
    {
     "data": {
      "text/plain": [
       "{'x1': {'x1': array([0.14652821, 0.14652821, 0.1356032 , 0.1356032 , 0.14039054,\n",
       "         0.14039054, 0.9560247 , 0.9560247 , 0.26924547, 0.26924547,\n",
       "         0.21600069, 0.21600069, 0.56403154, 0.56403154, 0.43101525,\n",
       "         0.43101525, 0.91484356, 0.91484356, 0.61530746, 0.61530746,\n",
       "         0.93249933, 0.93249933, 0.6047051 , 0.6047051 , 0.66395223,\n",
       "         0.66395223, 0.74491361, 0.74491361, 0.04214226, 0.04214226,\n",
       "         0.44886437, 0.44886437, 0.88142497, 0.88142497, 0.82708676,\n",
       "         0.82708676, 0.49037466, 0.49037466, 0.26703647, 0.26703647,\n",
       "         0.87823682, 0.87823682, 0.23543771, 0.23543771, 0.54317326,\n",
       "         0.54317326, 0.45625316, 0.45625316, 0.06955848, 0.06955848,\n",
       "         0.08353838, 0.08353838, 0.28344466, 0.28344466, 0.41474556,\n",
       "         0.41474556, 0.81555487, 0.81555487, 0.12196302, 0.12196302,\n",
       "         0.96494949, 0.96494949, 0.91686564, 0.91686564, 0.92849136,\n",
       "         0.92849136, 0.06857391, 0.06857391, 0.29870762, 0.29870762,\n",
       "         0.573583  , 0.573583  , 0.05220773, 0.05220773, 0.32472818,\n",
       "         0.32472818, 0.04647281, 0.04647281, 0.59173823, 0.59173823,\n",
       "         0.16988655, 0.16988655, 0.67631808, 0.67631808, 0.37528272,\n",
       "         0.37528272, 0.21890601, 0.21890601, 0.34316548, 0.34316548,\n",
       "         0.50993418, 0.50993418, 0.53146169, 0.53146169, 0.80961628,\n",
       "         0.80961628, 0.06583692, 0.06583692, 0.63845593, 0.63845593,\n",
       "         0.31343246, 0.31343246, 0.06283643, 0.06283643, 0.09157603,\n",
       "         0.09157603, 0.06652526, 0.06652526, 0.9140734 , 0.9140734 ,\n",
       "         0.39977006, 0.39977006, 0.29246261, 0.29246261, 0.32328667,\n",
       "         0.32328667, 0.53061159, 0.53061159, 0.59452137, 0.59452137,\n",
       "         0.1908307 , 0.1908307 , 0.47668924, 0.47668924, 0.68454012,\n",
       "         0.68454012, 0.00982217, 0.00982217, 0.40541053, 0.40541053,\n",
       "         0.12764829, 0.12764829, 0.19621405, 0.19621405, 0.200904  ,\n",
       "         0.200904  , 0.51064815, 0.51064815, 0.14780854, 0.14780854,\n",
       "         0.52792174, 0.52792174, 0.95553823, 0.95553823, 0.95994099,\n",
       "         0.95994099, 0.19811936, 0.19811936, 0.43486842, 0.43486842,\n",
       "         0.95251644, 0.95251644, 0.21600574, 0.21600574, 0.60419363,\n",
       "         0.60419363, 0.87574079, 0.87574079, 0.37304463, 0.37304463,\n",
       "         0.30166312, 0.30166312, 0.77541531, 0.77541531, 0.52619917,\n",
       "         0.52619917, 0.59488395, 0.59488395, 0.27538535, 0.27538535,\n",
       "         0.64396058, 0.64396058, 0.43085735, 0.43085735, 0.92355469,\n",
       "         0.92355469, 0.72426565, 0.72426565, 0.35273382, 0.35273382,\n",
       "         0.09331427, 0.09331427, 0.72178162, 0.72178162, 0.37649986,\n",
       "         0.37649986, 0.77841512, 0.77841512, 0.03927453, 0.03927453,\n",
       "         0.67490002, 0.67490002, 0.10768048, 0.10768048, 0.47971186,\n",
       "         0.47971186, 0.77792795, 0.77792795, 0.1011796 , 0.1011796 ])}}"
      ]
     },
     "execution_count": 1,
     "metadata": {},
     "output_type": "execute_result"
    }
   ],
   "source": [
    "ds = load_by_id(run_id_n)\n",
    "ds.get_parameter_data('x1')"
   ]
  },
  {
   "cell_type": "markdown",
   "metadata": {},
   "source": [
    "And a dataset stored as binary arrays"
   ]
  },
  {
   "cell_type": "code",
   "execution_count": 12,
   "metadata": {
    "execution": {
     "iopub.execute_input": "2021-01-06T12:07:54.412005Z",
     "iopub.status.busy": "2021-01-06T12:07:54.411637Z",
     "iopub.status.idle": "2021-01-06T12:07:54.455318Z",
     "shell.execute_reply": "2021-01-06T12:07:54.455911Z"
    },
    "scrolled": true
   },
   "outputs": [
    {
     "data": {
      "text/plain": [
       "{'x1': {'x1': array([[0.07339437],\n",
       "         [0.07339437],\n",
       "         [0.36116646],\n",
       "         [0.36116646],\n",
       "         [0.06140695],\n",
       "         [0.06140695],\n",
       "         [0.33002955],\n",
       "         [0.33002955],\n",
       "         [0.16207246],\n",
       "         [0.16207246],\n",
       "         [0.17277902],\n",
       "         [0.17277902],\n",
       "         [0.86952522],\n",
       "         [0.86952522],\n",
       "         [0.19474778],\n",
       "         [0.19474778],\n",
       "         [0.36803135],\n",
       "         [0.36803135],\n",
       "         [0.5215389 ],\n",
       "         [0.5215389 ],\n",
       "         [0.62942076],\n",
       "         [0.62942076],\n",
       "         [0.22574912],\n",
       "         [0.22574912],\n",
       "         [0.77988223],\n",
       "         [0.77988223],\n",
       "         [0.41629258],\n",
       "         [0.41629258],\n",
       "         [0.01215527],\n",
       "         [0.01215527],\n",
       "         [0.02062234],\n",
       "         [0.02062234],\n",
       "         [0.35491909],\n",
       "         [0.35491909],\n",
       "         [0.56672219],\n",
       "         [0.56672219],\n",
       "         [0.32898623],\n",
       "         [0.32898623],\n",
       "         [0.6629421 ],\n",
       "         [0.6629421 ],\n",
       "         [0.5850126 ],\n",
       "         [0.5850126 ],\n",
       "         [0.58166219],\n",
       "         [0.58166219],\n",
       "         [0.77346928],\n",
       "         [0.77346928],\n",
       "         [0.878787  ],\n",
       "         [0.878787  ],\n",
       "         [0.45368884],\n",
       "         [0.45368884],\n",
       "         [0.55684082],\n",
       "         [0.55684082],\n",
       "         [0.36020428],\n",
       "         [0.36020428],\n",
       "         [0.9731746 ],\n",
       "         [0.9731746 ],\n",
       "         [0.83240273],\n",
       "         [0.83240273],\n",
       "         [0.86070309],\n",
       "         [0.86070309],\n",
       "         [0.79395994],\n",
       "         [0.79395994],\n",
       "         [0.1875853 ],\n",
       "         [0.1875853 ],\n",
       "         [0.08565035],\n",
       "         [0.08565035],\n",
       "         [0.10996321],\n",
       "         [0.10996321],\n",
       "         [0.23625264],\n",
       "         [0.23625264],\n",
       "         [0.8200274 ],\n",
       "         [0.8200274 ],\n",
       "         [0.89261837],\n",
       "         [0.89261837],\n",
       "         [0.11887533],\n",
       "         [0.11887533],\n",
       "         [0.54433304],\n",
       "         [0.54433304],\n",
       "         [0.14123301],\n",
       "         [0.14123301],\n",
       "         [0.09416588],\n",
       "         [0.09416588],\n",
       "         [0.20332241],\n",
       "         [0.20332241],\n",
       "         [0.16220682],\n",
       "         [0.16220682],\n",
       "         [0.13311729],\n",
       "         [0.13311729],\n",
       "         [0.1882779 ],\n",
       "         [0.1882779 ],\n",
       "         [0.16788266],\n",
       "         [0.16788266],\n",
       "         [0.0905779 ],\n",
       "         [0.0905779 ],\n",
       "         [0.37104352],\n",
       "         [0.37104352],\n",
       "         [0.51776574],\n",
       "         [0.51776574],\n",
       "         [0.52460125],\n",
       "         [0.52460125],\n",
       "         [0.70558484],\n",
       "         [0.70558484],\n",
       "         [0.62857634],\n",
       "         [0.62857634],\n",
       "         [0.20747142],\n",
       "         [0.20747142],\n",
       "         [0.0877691 ],\n",
       "         [0.0877691 ],\n",
       "         [0.95835433],\n",
       "         [0.95835433],\n",
       "         [0.44467378],\n",
       "         [0.44467378],\n",
       "         [0.87752192],\n",
       "         [0.87752192],\n",
       "         [0.43734026],\n",
       "         [0.43734026],\n",
       "         [0.04938889],\n",
       "         [0.04938889],\n",
       "         [0.15606659],\n",
       "         [0.15606659],\n",
       "         [0.20635144],\n",
       "         [0.20635144],\n",
       "         [0.02170433],\n",
       "         [0.02170433],\n",
       "         [0.70322986],\n",
       "         [0.70322986],\n",
       "         [0.57878139],\n",
       "         [0.57878139],\n",
       "         [0.26893857],\n",
       "         [0.26893857],\n",
       "         [0.77134814],\n",
       "         [0.77134814],\n",
       "         [0.68676643],\n",
       "         [0.68676643],\n",
       "         [0.12463769],\n",
       "         [0.12463769],\n",
       "         [0.12069592],\n",
       "         [0.12069592],\n",
       "         [0.56112059],\n",
       "         [0.56112059],\n",
       "         [0.55949314],\n",
       "         [0.55949314],\n",
       "         [0.37915948],\n",
       "         [0.37915948],\n",
       "         [0.42613221],\n",
       "         [0.42613221],\n",
       "         [0.59727048],\n",
       "         [0.59727048],\n",
       "         [0.62710374],\n",
       "         [0.62710374],\n",
       "         [0.04051379],\n",
       "         [0.04051379],\n",
       "         [0.937848  ],\n",
       "         [0.937848  ],\n",
       "         [0.12144418],\n",
       "         [0.12144418],\n",
       "         [0.95306469],\n",
       "         [0.95306469],\n",
       "         [0.90028863],\n",
       "         [0.90028863],\n",
       "         [0.40989079],\n",
       "         [0.40989079],\n",
       "         [0.94336165],\n",
       "         [0.94336165],\n",
       "         [0.59837557],\n",
       "         [0.59837557],\n",
       "         [0.23872498],\n",
       "         [0.23872498],\n",
       "         [0.53333257],\n",
       "         [0.53333257],\n",
       "         [0.12009042],\n",
       "         [0.12009042],\n",
       "         [0.20369161],\n",
       "         [0.20369161],\n",
       "         [0.19077493],\n",
       "         [0.19077493],\n",
       "         [0.25753849],\n",
       "         [0.25753849],\n",
       "         [0.858453  ],\n",
       "         [0.858453  ],\n",
       "         [0.41869274],\n",
       "         [0.41869274],\n",
       "         [0.14553863],\n",
       "         [0.14553863],\n",
       "         [0.56333075],\n",
       "         [0.56333075],\n",
       "         [0.48317389],\n",
       "         [0.48317389],\n",
       "         [0.32437398],\n",
       "         [0.32437398],\n",
       "         [0.06795948],\n",
       "         [0.06795948],\n",
       "         [0.24867875],\n",
       "         [0.24867875],\n",
       "         [0.63698383],\n",
       "         [0.63698383],\n",
       "         [0.87584967],\n",
       "         [0.87584967],\n",
       "         [0.0098115 ],\n",
       "         [0.0098115 ]])}}"
      ]
     },
     "execution_count": 1,
     "metadata": {},
     "output_type": "execute_result"
    }
   ],
   "source": [
    "ds = load_by_id(run_id_a)\n",
    "ds.get_parameter_data('x1')"
   ]
  },
  {
   "cell_type": "code",
   "execution_count": null,
   "metadata": {},
   "outputs": [],
   "source": []
  }
 ],
 "metadata": {
  "kernelspec": {
   "display_name": "Python 3",
   "language": "python",
   "name": "python3"
  },
  "language_info": {
   "codemirror_mode": {
    "name": "ipython",
    "version": 3
   },
   "file_extension": ".py",
   "mimetype": "text/x-python",
   "name": "python",
   "nbconvert_exporter": "python",
   "pygments_lexer": "ipython3",
   "version": "3.7.9"
  },
  "nbsphinx": {
   "timeout": 600
  },
  "toc": {
   "base_numbering": 1,
   "nav_menu": {},
   "number_sections": true,
   "sideBar": true,
   "skip_h1_title": false,
   "title_cell": "Table of Contents",
   "title_sidebar": "Contents",
   "toc_cell": false,
   "toc_position": {},
   "toc_section_display": true,
   "toc_window_display": false
  },
  "varInspector": {
   "cols": {
    "lenName": 16,
    "lenType": 16,
    "lenVar": 40
   },
   "kernels_config": {
    "python": {
     "delete_cmd_postfix": "",
     "delete_cmd_prefix": "del ",
     "library": "var_list.py",
     "varRefreshCmd": "print(var_dic_list())"
    },
    "r": {
     "delete_cmd_postfix": ") ",
     "delete_cmd_prefix": "rm(",
     "library": "var_list.r",
     "varRefreshCmd": "cat(var_dic_list()) "
    }
   },
   "types_to_exclude": [
    "module",
    "function",
    "builtin_function_or_method",
    "instance",
    "_Feature"
   ],
   "window_display": false
  }
 },
 "nbformat": 4,
 "nbformat_minor": 2
}
