{
 "cells": [
  {
   "cell_type": "markdown",
   "metadata": {},
   "source": [
    "# DataSet Performance\n",
    "\n",
    "This notebook shows the trade-off between inserting data into a database row-by-row and as binary blobs. Inserting the data row-by-row means that we have direct access to all the data and may perform queries directly on the values of the data. On the other hand, as we shall see, this is much slower than inserting the data directly as binary blobs."
   ]
  },
  {
   "cell_type": "markdown",
   "metadata": {},
   "source": [
    "First, we choose a new location for the database to ensure that we don't add a bunch of benchmarking data to the default one."
   ]
  },
  {
   "cell_type": "code",
   "execution_count": 1,
   "metadata": {},
   "outputs": [
    {
     "name": "stdout",
     "output_type": "stream",
     "text": [
      "Logging hadn't been started.\n",
      "Activating auto-logging. Current session state plus future input saved.\n",
      "Filename       : /home/vsts/.qcodes/logs/command_history.log\n",
      "Mode           : append\n",
      "Output logging : True\n",
      "Raw input log  : False\n",
      "Timestamping   : True\n",
      "State          : active\n"
     ]
    },
    {
     "name": "stdout",
     "output_type": "stream",
     "text": [
      "Qcodes Logfile : /home/vsts/.qcodes/logs/200629-19264-qcodes.log\n"
     ]
    }
   ],
   "source": [
    "import os\n",
    "cwd = os.getcwd()\n",
    "import qcodes as qc\n",
    "qc.config[\"core\"][\"db_location\"] = os.path.join(cwd, 'testing.db')\n"
   ]
  },
  {
   "cell_type": "code",
   "execution_count": 2,
   "metadata": {},
   "outputs": [],
   "source": [
    "%matplotlib inline\n",
    "import time\n",
    "import matplotlib.pyplot as plt\n",
    "import numpy as np\n",
    "\n",
    "import qcodes as qc\n",
    "from qcodes.instrument.parameter import ManualParameter\n",
    "from qcodes.dataset.experiment_container import (Experiment,\n",
    "                                                 load_last_experiment,\n",
    "                                                 new_experiment)\n",
    "from qcodes.dataset.sqlite.database import initialise_database\n",
    "from qcodes import load_or_create_experiment\n",
    "from qcodes.dataset.measurements import Measurement"
   ]
  },
  {
   "cell_type": "code",
   "execution_count": 3,
   "metadata": {},
   "outputs": [
    {
     "name": "stdout",
     "output_type": "stream",
     "text": [
      "\r",
      "0it [00:00, ?it/s]"
     ]
    },
    {
     "name": "stdout",
     "output_type": "stream",
     "text": [
      "\r",
      "Upgrading database; v0 -> v1: : 0it [00:00, ?it/s]"
     ]
    },
    {
     "name": "stdout",
     "output_type": "stream",
     "text": [
      "\r",
      "Upgrading database; v0 -> v1: : 0it [00:00, ?it/s]"
     ]
    },
    {
     "name": "stdout",
     "output_type": "stream",
     "text": [
      "\n",
      "\r",
      "  0%|          | 0/1 [00:00<?, ?it/s]"
     ]
    },
    {
     "name": "stdout",
     "output_type": "stream",
     "text": [
      "\r",
      "Upgrading database; v1 -> v2:   0%|          | 0/1 [00:00<?, ?it/s]"
     ]
    },
    {
     "name": "stdout",
     "output_type": "stream",
     "text": [
      "\r",
      "Upgrading database; v1 -> v2: 100%|██████████| 1/1 [00:00<00:00, 731.10it/s]"
     ]
    },
    {
     "name": "stdout",
     "output_type": "stream",
     "text": [
      "\n",
      "\r",
      "0it [00:00, ?it/s]"
     ]
    },
    {
     "name": "stdout",
     "output_type": "stream",
     "text": [
      "\r",
      "Upgrading database; v2 -> v3: : 0it [00:00, ?it/s]"
     ]
    },
    {
     "name": "stdout",
     "output_type": "stream",
     "text": [
      "\r",
      "Upgrading database; v2 -> v3: : 0it [00:00, ?it/s]"
     ]
    },
    {
     "name": "stdout",
     "output_type": "stream",
     "text": [
      "\n",
      "\r",
      "0it [00:00, ?it/s]"
     ]
    },
    {
     "name": "stdout",
     "output_type": "stream",
     "text": [
      "\r",
      "Upgrading database; v3 -> v4: : 0it [00:00, ?it/s]"
     ]
    },
    {
     "name": "stdout",
     "output_type": "stream",
     "text": [
      "\r",
      "Upgrading database; v3 -> v4: : 0it [00:00, ?it/s]"
     ]
    },
    {
     "name": "stdout",
     "output_type": "stream",
     "text": [
      "\n",
      "\r",
      "  0%|          | 0/1 [00:00<?, ?it/s]"
     ]
    },
    {
     "name": "stdout",
     "output_type": "stream",
     "text": [
      "\r",
      "Upgrading database; v4 -> v5:   0%|          | 0/1 [00:00<?, ?it/s]"
     ]
    },
    {
     "name": "stdout",
     "output_type": "stream",
     "text": [
      "\r",
      "Upgrading database; v4 -> v5: 100%|██████████| 1/1 [00:00<00:00, 649.88it/s]"
     ]
    },
    {
     "name": "stdout",
     "output_type": "stream",
     "text": [
      "\n",
      "\r",
      "0it [00:00, ?it/s]"
     ]
    },
    {
     "name": "stdout",
     "output_type": "stream",
     "text": [
      "\r",
      "Upgrading database; v5 -> v6: : 0it [00:00, ?it/s]"
     ]
    },
    {
     "name": "stdout",
     "output_type": "stream",
     "text": [
      "\r",
      "Upgrading database; v5 -> v6: : 0it [00:00, ?it/s]"
     ]
    },
    {
     "name": "stdout",
     "output_type": "stream",
     "text": [
      "\n",
      "\r",
      "  0%|          | 0/1 [00:00<?, ?it/s]"
     ]
    },
    {
     "name": "stdout",
     "output_type": "stream",
     "text": [
      "\r",
      "Upgrading database; v6 -> v7:   0%|          | 0/1 [00:00<?, ?it/s]"
     ]
    },
    {
     "name": "stdout",
     "output_type": "stream",
     "text": [
      "\r",
      "Upgrading database; v6 -> v7: 100%|██████████| 1/1 [00:00<00:00, 302.49it/s]"
     ]
    },
    {
     "name": "stdout",
     "output_type": "stream",
     "text": [
      "\n",
      "\r",
      "  0%|          | 0/1 [00:00<?, ?it/s]"
     ]
    },
    {
     "name": "stdout",
     "output_type": "stream",
     "text": [
      "\r",
      "Upgrading database; v7 -> v8:   0%|          | 0/1 [00:00<?, ?it/s]"
     ]
    },
    {
     "name": "stdout",
     "output_type": "stream",
     "text": [
      "\r",
      "Upgrading database; v7 -> v8: 100%|██████████| 1/1 [00:00<00:00, 552.39it/s]"
     ]
    },
    {
     "name": "stdout",
     "output_type": "stream",
     "text": [
      "\n",
      "\r",
      "  0%|          | 0/1 [00:00<?, ?it/s]"
     ]
    },
    {
     "name": "stdout",
     "output_type": "stream",
     "text": [
      "\r",
      "Upgrading database; v8 -> v9:   0%|          | 0/1 [00:00<?, ?it/s]"
     ]
    },
    {
     "name": "stdout",
     "output_type": "stream",
     "text": [
      "\r",
      "Upgrading database; v8 -> v9: 100%|██████████| 1/1 [00:00<00:00, 840.71it/s]"
     ]
    },
    {
     "name": "stdout",
     "output_type": "stream",
     "text": [
      "\n"
     ]
    }
   ],
   "source": [
    "initialise_database()\n",
    "exp = load_or_create_experiment(experiment_name='tutorial_exp', sample_name=\"no sample\")"
   ]
  },
  {
   "cell_type": "markdown",
   "metadata": {},
   "source": [
    "Here, we define a simple function to benchmark the time it takes to insert n points with either numeric or array data type.\n",
    "We will compare both the time used to call ``add_result`` and the time used for the full measurement."
   ]
  },
  {
   "cell_type": "code",
   "execution_count": 4,
   "metadata": {},
   "outputs": [],
   "source": [
    "def insert_data(paramtype, npoints, nreps=1):\n",
    "\n",
    "    meas = Measurement(exp=exp)\n",
    "\n",
    "    x1 = ManualParameter('x1')\n",
    "    x2 = ManualParameter('x2')\n",
    "    x3 = ManualParameter('x3')\n",
    "    y1 = ManualParameter('y1')\n",
    "    y2 = ManualParameter('y2')\n",
    "\n",
    "    meas.register_parameter(x1, paramtype=paramtype)\n",
    "    meas.register_parameter(x2, paramtype=paramtype)\n",
    "    meas.register_parameter(x3, paramtype=paramtype)\n",
    "    meas.register_parameter(y1, setpoints=[x1, x2, x3],\n",
    "                            paramtype=paramtype)\n",
    "    meas.register_parameter(y2, setpoints=[x1, x2, x3],\n",
    "                            paramtype=paramtype)\n",
    "    start = time.perf_counter()\n",
    "    with meas.run() as datasaver:\n",
    "        start_adding = time.perf_counter()\n",
    "        for i in range(nreps):\n",
    "            datasaver.add_result((x1, np.random.rand(npoints)),\n",
    "                                 (x2, np.random.rand(npoints)),\n",
    "                                 (x3, np.random.rand(npoints)),\n",
    "                                 (y1, np.random.rand(npoints)),\n",
    "                                 (y2, np.random.rand(npoints)))\n",
    "        stop_adding = time.perf_counter()\n",
    "        run_id = datasaver.run_id\n",
    "    stop = time.perf_counter()\n",
    "    tot_time = stop - start\n",
    "    add_time = stop_adding - start_adding\n",
    "    return tot_time, add_time, run_id"
   ]
  },
  {
   "cell_type": "markdown",
   "metadata": {},
   "source": [
    "## Comparison between numeric/array data and binary blob"
   ]
  },
  {
   "cell_type": "markdown",
   "metadata": {},
   "source": [
    "### Case1: Short experiment time"
   ]
  },
  {
   "cell_type": "code",
   "execution_count": 5,
   "metadata": {},
   "outputs": [
    {
     "name": "stdout",
     "output_type": "stream",
     "text": [
      "Starting experimental run with id: 1. \n",
      "Starting experimental run with id: 2. \n",
      "Starting experimental run with id: 3. \n"
     ]
    },
    {
     "name": "stdout",
     "output_type": "stream",
     "text": [
      "Starting experimental run with id: 4. \n",
      "Starting experimental run with id: 5. \n"
     ]
    },
    {
     "name": "stdout",
     "output_type": "stream",
     "text": [
      "Starting experimental run with id: 6. \n",
      "Starting experimental run with id: 7. \n"
     ]
    },
    {
     "name": "stdout",
     "output_type": "stream",
     "text": [
      "Starting experimental run with id: 8. \n",
      "Starting experimental run with id: 9. \n"
     ]
    },
    {
     "name": "stdout",
     "output_type": "stream",
     "text": [
      "Starting experimental run with id: 10. \n",
      "Starting experimental run with id: 11. \n"
     ]
    },
    {
     "name": "stdout",
     "output_type": "stream",
     "text": [
      "Starting experimental run with id: 12. \n",
      "Starting experimental run with id: 13. \n"
     ]
    },
    {
     "name": "stdout",
     "output_type": "stream",
     "text": [
      "Starting experimental run with id: 14. \n"
     ]
    }
   ],
   "source": [
    "sizes = [1,500,1000,2000,3000,4000,5000]\n",
    "t_numeric = []\n",
    "t_numeric_add = []\n",
    "t_array = []\n",
    "t_array_add = []\n",
    "for size in sizes:\n",
    "    tn, tna, run_id_n =  insert_data('numeric', size)\n",
    "    t_numeric.append(tn)\n",
    "    t_numeric_add.append(tna)\n",
    "\n",
    "    ta, taa, run_id_a =  insert_data('array', size)\n",
    "    t_array.append(ta)\n",
    "    t_array_add.append(taa)"
   ]
  },
  {
   "cell_type": "code",
   "execution_count": 6,
   "metadata": {},
   "outputs": [
    {
     "data": {
      "image/png": "[encoded data removed]",
      "text/plain": [
       "<Figure size 432x288 with 1 Axes>"
      ]
     },
     "metadata": {
      "needs_background": "light"
     },
     "output_type": "display_data"
    }
   ],
   "source": [
    "fig, ax = plt.subplots(1,1)\n",
    "ax.plot(sizes, t_numeric, 'o-', label='Inserting row-by-row')\n",
    "ax.plot(sizes, t_numeric_add, 'o-', label='Inserting row-by-row: add_result only')\n",
    "ax.plot(sizes, t_array, 'd-', label='Inserting as binary blob')\n",
    "ax.plot(sizes, t_array_add, 'd-', label='Inserting as binary blob: add_result only')\n",
    "ax.legend()\n",
    "ax.set_xlabel('Array length')\n",
    "ax.set_ylabel('Time (s)')\n",
    "fig.tight_layout()"
   ]
  },
  {
   "cell_type": "markdown",
   "metadata": {},
   "source": [
    "As shown in the latter figure, the time to setup and and close the experiment is approximately 0.4 sec. In case of small array sizes, the difference between inserting values of data as arrays and inserting them row-by-row is relatively unimportant. At larger array sizes, i.e. above 10000 points, the cost of writing data as individual datapoints starts to become important.\n"
   ]
  },
  {
   "cell_type": "markdown",
   "metadata": {},
   "source": [
    "### Case2: Long experiment time "
   ]
  },
  {
   "cell_type": "code",
   "execution_count": 7,
   "metadata": {},
   "outputs": [
    {
     "name": "stdout",
     "output_type": "stream",
     "text": [
      "Starting experimental run with id: 15. \n",
      "Starting experimental run with id: 16. \n",
      "Starting experimental run with id: 17. \n"
     ]
    },
    {
     "name": "stdout",
     "output_type": "stream",
     "text": [
      "Starting experimental run with id: 18. \n",
      "Starting experimental run with id: 19. \n"
     ]
    },
    {
     "name": "stdout",
     "output_type": "stream",
     "text": [
      "Starting experimental run with id: 20. \n"
     ]
    },
    {
     "name": "stdout",
     "output_type": "stream",
     "text": [
      "Starting experimental run with id: 21. \n"
     ]
    },
    {
     "name": "stdout",
     "output_type": "stream",
     "text": [
      "Starting experimental run with id: 22. \n"
     ]
    },
    {
     "name": "stdout",
     "output_type": "stream",
     "text": [
      "Starting experimental run with id: 23. \n"
     ]
    },
    {
     "name": "stdout",
     "output_type": "stream",
     "text": [
      "Starting experimental run with id: 24. \n"
     ]
    },
    {
     "name": "stdout",
     "output_type": "stream",
     "text": [
      "Starting experimental run with id: 25. \n"
     ]
    },
    {
     "name": "stdout",
     "output_type": "stream",
     "text": [
      "Starting experimental run with id: 26. \n"
     ]
    },
    {
     "name": "stdout",
     "output_type": "stream",
     "text": [
      "Starting experimental run with id: 27. \n"
     ]
    },
    {
     "name": "stdout",
     "output_type": "stream",
     "text": [
      "Starting experimental run with id: 28. \n"
     ]
    }
   ],
   "source": [
    "sizes = [1,500,1000,2000,3000,4000,5000]\n",
    "nreps = 100\n",
    "t_numeric = []\n",
    "t_numeric_add = []\n",
    "t_numeric_run_ids = []\n",
    "t_array = []\n",
    "t_array_add = []\n",
    "t_array_run_ids = []\n",
    "for size in sizes:\n",
    "    tn, tna, run_id_n =  insert_data('numeric', size, nreps=nreps)\n",
    "    t_numeric.append(tn)\n",
    "    t_numeric_add.append(tna)\n",
    "    t_numeric_run_ids.append(run_id_n)\n",
    "\n",
    "    ta, taa, run_id_a =  insert_data('array', size, nreps=nreps)\n",
    "    t_array.append(ta)\n",
    "    t_array_add.append(taa)\n",
    "    t_array_run_ids.append(run_id_a)"
   ]
  },
  {
   "cell_type": "code",
   "execution_count": 8,
   "metadata": {
    "scrolled": true
   },
   "outputs": [
    {
     "data": {
      "image/png": "[encoded data removed]",
      "text/plain": [
       "<Figure size 432x288 with 1 Axes>"
      ]
     },
     "metadata": {
      "needs_background": "light"
     },
     "output_type": "display_data"
    }
   ],
   "source": [
    "fig, ax = plt.subplots(1,1)\n",
    "ax.plot(sizes, t_numeric, 'o-', label='Inserting row-by-row')\n",
    "ax.plot(sizes, t_numeric_add, 'o-', label='Inserting row-by-row: add_result only')\n",
    "ax.plot(sizes, t_array, 'd-', label='Inserting as binary blob')\n",
    "ax.plot(sizes, t_array_add, 'd-', label='Inserting as binary blob: add_result only')\n",
    "ax.legend()\n",
    "ax.set_xlabel('Array length')\n",
    "ax.set_ylabel('Time (s)')\n",
    "fig.tight_layout()"
   ]
  },
  {
   "cell_type": "markdown",
   "metadata": {},
   "source": [
    "However, as we increase the length of the experiment, as seen here by repeating the insertion 100 times, we see a big difference between inserting values of the data row-by-row and inserting it as a binary blob."
   ]
  },
  {
   "cell_type": "markdown",
   "metadata": {},
   "source": [
    "## Loading the data "
   ]
  },
  {
   "cell_type": "code",
   "execution_count": 9,
   "metadata": {},
   "outputs": [],
   "source": [
    "from qcodes.dataset.data_set import load_by_id\n",
    "from qcodes.dataset.data_export import get_data_by_id"
   ]
  },
  {
   "cell_type": "markdown",
   "metadata": {},
   "source": [
    "As usual you can load the data by using the ``load_by_id`` function but you will notice that the different storage methods\n",
    "are reflected in shape of the data as it is retrieved. "
   ]
  },
  {
   "cell_type": "code",
   "execution_count": 10,
   "metadata": {},
   "outputs": [],
   "source": [
    "run_id_n = t_numeric_run_ids[0]\n",
    "run_id_a = t_array_run_ids[0]"
   ]
  },
  {
   "cell_type": "code",
   "execution_count": 11,
   "metadata": {
    "scrolled": true
   },
   "outputs": [
    {
     "data": {
      "text/plain": [
       "{'x1': {'x1': array([0.12597706, 0.12597706, 0.85061553, 0.85061553, 0.40197293,\n",
       "         0.40197293, 0.41341195, 0.41341195, 0.20911844, 0.20911844,\n",
       "         0.7843536 , 0.7843536 , 0.32636569, 0.32636569, 0.2683335 ,\n",
       "         0.2683335 , 0.63521117, 0.63521117, 0.47380122, 0.47380122,\n",
       "         0.66488119, 0.66488119, 0.5902827 , 0.5902827 , 0.65594066,\n",
       "         0.65594066, 0.08213763, 0.08213763, 0.20988043, 0.20988043,\n",
       "         0.5375852 , 0.5375852 , 0.59813187, 0.59813187, 0.07151515,\n",
       "         0.07151515, 0.62499315, 0.62499315, 0.66938395, 0.66938395,\n",
       "         0.11174157, 0.11174157, 0.29353538, 0.29353538, 0.5992981 ,\n",
       "         0.5992981 , 0.97743999, 0.97743999, 0.77759978, 0.77759978,\n",
       "         0.57501541, 0.57501541, 0.35887458, 0.35887458, 0.45348298,\n",
       "         0.45348298, 0.7915648 , 0.7915648 , 0.53834563, 0.53834563,\n",
       "         0.89134871, 0.89134871, 0.19455497, 0.19455497, 0.52680669,\n",
       "         0.52680669, 0.5839629 , 0.5839629 , 0.15078465, 0.15078465,\n",
       "         0.21711615, 0.21711615, 0.25939362, 0.25939362, 0.12850219,\n",
       "         0.12850219, 0.21937568, 0.21937568, 0.35838815, 0.35838815,\n",
       "         0.18544876, 0.18544876, 0.31171345, 0.31171345, 0.10523084,\n",
       "         0.10523084, 0.30245046, 0.30245046, 0.05463121, 0.05463121,\n",
       "         0.49351104, 0.49351104, 0.6762711 , 0.6762711 , 0.71327321,\n",
       "         0.71327321, 0.92147822, 0.92147822, 0.09599337, 0.09599337,\n",
       "         0.71842652, 0.71842652, 0.91437783, 0.91437783, 0.08362773,\n",
       "         0.08362773, 0.66825905, 0.66825905, 0.64357595, 0.64357595,\n",
       "         0.71018528, 0.71018528, 0.69497248, 0.69497248, 0.96284815,\n",
       "         0.96284815, 0.55788427, 0.55788427, 0.16006657, 0.16006657,\n",
       "         0.54294619, 0.54294619, 0.81176645, 0.81176645, 0.82577264,\n",
       "         0.82577264, 0.62852574, 0.62852574, 0.92903795, 0.92903795,\n",
       "         0.06765908, 0.06765908, 0.5952693 , 0.5952693 , 0.03110161,\n",
       "         0.03110161, 0.80053967, 0.80053967, 0.98008246, 0.98008246,\n",
       "         0.13276768, 0.13276768, 0.98236601, 0.98236601, 0.72459539,\n",
       "         0.72459539, 0.69415891, 0.69415891, 0.64838104, 0.64838104,\n",
       "         0.56973112, 0.56973112, 0.95419051, 0.95419051, 0.05736794,\n",
       "         0.05736794, 0.71375184, 0.71375184, 0.33551301, 0.33551301,\n",
       "         0.24036469, 0.24036469, 0.85155835, 0.85155835, 0.55512846,\n",
       "         0.55512846, 0.40933135, 0.40933135, 0.32428275, 0.32428275,\n",
       "         0.65578113, 0.65578113, 0.13712461, 0.13712461, 0.70772379,\n",
       "         0.70772379, 0.94651337, 0.94651337, 0.81274632, 0.81274632,\n",
       "         0.67315872, 0.67315872, 0.64653268, 0.64653268, 0.55359145,\n",
       "         0.55359145, 0.70619737, 0.70619737, 0.76435083, 0.76435083,\n",
       "         0.81988807, 0.81988807, 0.00735802, 0.00735802, 0.22334075,\n",
       "         0.22334075, 0.78699433, 0.78699433, 0.7920263 , 0.7920263 ])}}"
      ]
     },
     "execution_count": 11,
     "metadata": {},
     "output_type": "execute_result"
    }
   ],
   "source": [
    "ds = load_by_id(run_id_n)\n",
    "ds.get_parameter_data('x1')"
   ]
  },
  {
   "cell_type": "markdown",
   "metadata": {},
   "source": [
    "And a dataset stored as binary arrays"
   ]
  },
  {
   "cell_type": "code",
   "execution_count": 12,
   "metadata": {
    "scrolled": true
   },
   "outputs": [
    {
     "data": {
      "text/plain": [
       "{'x1': {'x1': array([[0.06527006],\n",
       "         [0.06527006],\n",
       "         [0.47260223],\n",
       "         [0.47260223],\n",
       "         [0.70809988],\n",
       "         [0.70809988],\n",
       "         [0.45883767],\n",
       "         [0.45883767],\n",
       "         [0.08382672],\n",
       "         [0.08382672],\n",
       "         [0.89634698],\n",
       "         [0.89634698],\n",
       "         [0.03775675],\n",
       "         [0.03775675],\n",
       "         [0.72396742],\n",
       "         [0.72396742],\n",
       "         [0.56684557],\n",
       "         [0.56684557],\n",
       "         [0.75342161],\n",
       "         [0.75342161],\n",
       "         [0.92450263],\n",
       "         [0.92450263],\n",
       "         [0.60505136],\n",
       "         [0.60505136],\n",
       "         [0.38006257],\n",
       "         [0.38006257],\n",
       "         [0.90188727],\n",
       "         [0.90188727],\n",
       "         [0.37468805],\n",
       "         [0.37468805],\n",
       "         [0.85122213],\n",
       "         [0.85122213],\n",
       "         [0.08948295],\n",
       "         [0.08948295],\n",
       "         [0.18917552],\n",
       "         [0.18917552],\n",
       "         [0.65431022],\n",
       "         [0.65431022],\n",
       "         [0.96308016],\n",
       "         [0.96308016],\n",
       "         [0.13842482],\n",
       "         [0.13842482],\n",
       "         [0.40418019],\n",
       "         [0.40418019],\n",
       "         [0.99867974],\n",
       "         [0.99867974],\n",
       "         [0.31740919],\n",
       "         [0.31740919],\n",
       "         [0.40166422],\n",
       "         [0.40166422],\n",
       "         [0.0826933 ],\n",
       "         [0.0826933 ],\n",
       "         [0.69073182],\n",
       "         [0.69073182],\n",
       "         [0.75765162],\n",
       "         [0.75765162],\n",
       "         [0.1282631 ],\n",
       "         [0.1282631 ],\n",
       "         [0.35718651],\n",
       "         [0.35718651],\n",
       "         [0.93385775],\n",
       "         [0.93385775],\n",
       "         [0.51220302],\n",
       "         [0.51220302],\n",
       "         [0.58934201],\n",
       "         [0.58934201],\n",
       "         [0.82787512],\n",
       "         [0.82787512],\n",
       "         [0.51986383],\n",
       "         [0.51986383],\n",
       "         [0.96367895],\n",
       "         [0.96367895],\n",
       "         [0.19875422],\n",
       "         [0.19875422],\n",
       "         [0.27370633],\n",
       "         [0.27370633],\n",
       "         [0.63074824],\n",
       "         [0.63074824],\n",
       "         [0.26621361],\n",
       "         [0.26621361],\n",
       "         [0.39791508],\n",
       "         [0.39791508],\n",
       "         [0.11890903],\n",
       "         [0.11890903],\n",
       "         [0.20201382],\n",
       "         [0.20201382],\n",
       "         [0.7000486 ],\n",
       "         [0.7000486 ],\n",
       "         [0.73410379],\n",
       "         [0.73410379],\n",
       "         [0.29489315],\n",
       "         [0.29489315],\n",
       "         [0.70290093],\n",
       "         [0.70290093],\n",
       "         [0.5210515 ],\n",
       "         [0.5210515 ],\n",
       "         [0.81677799],\n",
       "         [0.81677799],\n",
       "         [0.78020924],\n",
       "         [0.78020924],\n",
       "         [0.11908075],\n",
       "         [0.11908075],\n",
       "         [0.68553568],\n",
       "         [0.68553568],\n",
       "         [0.73769052],\n",
       "         [0.73769052],\n",
       "         [0.77566515],\n",
       "         [0.77566515],\n",
       "         [0.75239274],\n",
       "         [0.75239274],\n",
       "         [0.69655974],\n",
       "         [0.69655974],\n",
       "         [0.72387808],\n",
       "         [0.72387808],\n",
       "         [0.49311445],\n",
       "         [0.49311445],\n",
       "         [0.3650776 ],\n",
       "         [0.3650776 ],\n",
       "         [0.80684584],\n",
       "         [0.80684584],\n",
       "         [0.80136712],\n",
       "         [0.80136712],\n",
       "         [0.88392554],\n",
       "         [0.88392554],\n",
       "         [0.67021499],\n",
       "         [0.67021499],\n",
       "         [0.11127681],\n",
       "         [0.11127681],\n",
       "         [0.88712684],\n",
       "         [0.88712684],\n",
       "         [0.51693522],\n",
       "         [0.51693522],\n",
       "         [0.09005487],\n",
       "         [0.09005487],\n",
       "         [0.67174992],\n",
       "         [0.67174992],\n",
       "         [0.28991412],\n",
       "         [0.28991412],\n",
       "         [0.38268398],\n",
       "         [0.38268398],\n",
       "         [0.19719551],\n",
       "         [0.19719551],\n",
       "         [0.23732229],\n",
       "         [0.23732229],\n",
       "         [0.27835534],\n",
       "         [0.27835534],\n",
       "         [0.47652814],\n",
       "         [0.47652814],\n",
       "         [0.65472841],\n",
       "         [0.65472841],\n",
       "         [0.22826874],\n",
       "         [0.22826874],\n",
       "         [0.9595031 ],\n",
       "         [0.9595031 ],\n",
       "         [0.28949541],\n",
       "         [0.28949541],\n",
       "         [0.62579614],\n",
       "         [0.62579614],\n",
       "         [0.29219779],\n",
       "         [0.29219779],\n",
       "         [0.80305742],\n",
       "         [0.80305742],\n",
       "         [0.84820633],\n",
       "         [0.84820633],\n",
       "         [0.5958372 ],\n",
       "         [0.5958372 ],\n",
       "         [0.65468157],\n",
       "         [0.65468157],\n",
       "         [0.8933425 ],\n",
       "         [0.8933425 ],\n",
       "         [0.68537498],\n",
       "         [0.68537498],\n",
       "         [0.91503821],\n",
       "         [0.91503821],\n",
       "         [0.19477769],\n",
       "         [0.19477769],\n",
       "         [0.24251047],\n",
       "         [0.24251047],\n",
       "         [0.99766177],\n",
       "         [0.99766177],\n",
       "         [0.41280371],\n",
       "         [0.41280371],\n",
       "         [0.61440519],\n",
       "         [0.61440519],\n",
       "         [0.00135578],\n",
       "         [0.00135578],\n",
       "         [0.09557762],\n",
       "         [0.09557762],\n",
       "         [0.83165529],\n",
       "         [0.83165529],\n",
       "         [0.99035084],\n",
       "         [0.99035084],\n",
       "         [0.60415253],\n",
       "         [0.60415253],\n",
       "         [0.21458232],\n",
       "         [0.21458232],\n",
       "         [0.03876512],\n",
       "         [0.03876512],\n",
       "         [0.03039171],\n",
       "         [0.03039171]])}}"
      ]
     },
     "execution_count": 12,
     "metadata": {},
     "output_type": "execute_result"
    }
   ],
   "source": [
    "ds = load_by_id(run_id_a)\n",
    "ds.get_parameter_data('x1')"
   ]
  },
  {
   "cell_type": "code",
   "execution_count": null,
   "metadata": {},
   "outputs": [],
   "source": []
  }
 ],
 "metadata": {
  "kernelspec": {
   "display_name": "Python 3",
   "language": "python",
   "name": "python3"
  },
  "language_info": {
   "codemirror_mode": {
    "name": "ipython",
    "version": 3
   },
   "file_extension": ".py",
   "mimetype": "text/x-python",
   "name": "python",
   "nbconvert_exporter": "python",
   "pygments_lexer": "ipython3",
   "version": "3.7.7"
  },
  "nbsphinx": {
   "timeout": 600
  },
  "toc": {
   "base_numbering": 1,
   "nav_menu": {},
   "number_sections": true,
   "sideBar": true,
   "skip_h1_title": false,
   "title_cell": "Table of Contents",
   "title_sidebar": "Contents",
   "toc_cell": false,
   "toc_position": {},
   "toc_section_display": true,
   "toc_window_display": false
  },
  "varInspector": {
   "cols": {
    "lenName": 16,
    "lenType": 16,
    "lenVar": 40
   },
   "kernels_config": {
    "python": {
     "delete_cmd_postfix": "",
     "delete_cmd_prefix": "del ",
     "library": "var_list.py",
     "varRefreshCmd": "print(var_dic_list())"
    },
    "r": {
     "delete_cmd_postfix": ") ",
     "delete_cmd_prefix": "rm(",
     "library": "var_list.r",
     "varRefreshCmd": "cat(var_dic_list()) "
    }
   },
   "types_to_exclude": [
    "module",
    "function",
    "builtin_function_or_method",
    "instance",
    "_Feature"
   ],
   "window_display": false
  }
 },
 "nbformat": 4,
 "nbformat_minor": 2
}
