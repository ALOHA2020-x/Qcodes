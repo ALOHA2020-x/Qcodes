{
 "cells": [
  {
   "cell_type": "markdown",
   "metadata": {},
   "source": [
    "# DataSet Performance\n",
    "\n",
    "This notebook shows the trade-off between inserting data into a database row-by-row and as binary blobs. Inserting the data row-by-row means that we have direct access to all the data and may perform queries directly on the values of the data. On the other hand, as we shall see, this is much slower than inserting the data directly as binary blobs."
   ]
  },
  {
   "cell_type": "markdown",
   "metadata": {},
   "source": [
    "First, we choose a new location for the database to ensure that we don't add a bunch of benchmarking data to the default one."
   ]
  },
  {
   "cell_type": "code",
   "execution_count": 1,
   "metadata": {
    "execution": {
     "iopub.execute_input": "2021-03-04T09:26:26.040543Z",
     "iopub.status.busy": "2021-03-04T09:26:26.039993Z",
     "iopub.status.idle": "2021-03-04T09:26:26.878388Z",
     "shell.execute_reply": "2021-03-04T09:26:26.877790Z"
    }
   },
   "outputs": [
    {
     "name": "stdout",
     "output_type": "stream",
     "text": [
      "Logging hadn't been started.\n",
      "Activating auto-logging. Current session state plus future input saved.\n",
      "Filename       : /home/runner/.qcodes/logs/command_history.log\n",
      "Mode           : append\n",
      "Output logging : True\n",
      "Raw input log  : False\n",
      "Timestamping   : True\n",
      "State          : active\n"
     ]
    },
    {
     "name": "stdout",
     "output_type": "stream",
     "text": [
      "Qcodes Logfile : /home/runner/.qcodes/logs/210304-4094-qcodes.log\n"
     ]
    }
   ],
   "source": [
    "import os\n",
    "cwd = os.getcwd()\n",
    "import qcodes as qc\n",
    "qc.config[\"core\"][\"db_location\"] = os.path.join(cwd, 'testing.db')\n"
   ]
  },
  {
   "cell_type": "code",
   "execution_count": 2,
   "metadata": {
    "execution": {
     "iopub.execute_input": "2021-03-04T09:26:26.885462Z",
     "iopub.status.busy": "2021-03-04T09:26:26.883885Z",
     "iopub.status.idle": "2021-03-04T09:26:27.066248Z",
     "shell.execute_reply": "2021-03-04T09:26:27.064845Z"
    }
   },
   "outputs": [],
   "source": [
    "%matplotlib inline\n",
    "import time\n",
    "import matplotlib.pyplot as plt\n",
    "import numpy as np\n",
    "\n",
    "import qcodes as qc\n",
    "from qcodes.instrument.parameter import ManualParameter\n",
    "from qcodes.dataset.experiment_container import (Experiment,\n",
    "                                                 load_last_experiment,\n",
    "                                                 new_experiment)\n",
    "from qcodes.dataset.sqlite.database import initialise_database\n",
    "from qcodes import load_or_create_experiment\n",
    "from qcodes.dataset.measurements import Measurement"
   ]
  },
  {
   "cell_type": "code",
   "execution_count": 3,
   "metadata": {
    "execution": {
     "iopub.execute_input": "2021-03-04T09:26:27.070764Z",
     "iopub.status.busy": "2021-03-04T09:26:27.069931Z",
     "iopub.status.idle": "2021-03-04T09:26:27.173026Z",
     "shell.execute_reply": "2021-03-04T09:26:27.173490Z"
    }
   },
   "outputs": [
    {
     "name": "stdout",
     "output_type": "stream",
     "text": [
      "\r",
      "0it [00:00, ?it/s]"
     ]
    },
    {
     "name": "stdout",
     "output_type": "stream",
     "text": [
      "\r",
      "Upgrading database; v0 -> v1: : 0it [00:00, ?it/s]"
     ]
    },
    {
     "name": "stdout",
     "output_type": "stream",
     "text": [
      "\r",
      "Upgrading database; v0 -> v1: : 0it [00:00, ?it/s]"
     ]
    },
    {
     "name": "stdout",
     "output_type": "stream",
     "text": [
      "\n",
      "\r",
      "  0%|          | 0/1 [00:00<?, ?it/s]"
     ]
    },
    {
     "name": "stdout",
     "output_type": "stream",
     "text": [
      "\r",
      "Upgrading database; v1 -> v2:   0%|          | 0/1 [00:00<?, ?it/s]"
     ]
    },
    {
     "name": "stdout",
     "output_type": "stream",
     "text": [
      "\r",
      "Upgrading database; v1 -> v2: 100%|██████████| 1/1 [00:00<00:00, 624.71it/s]"
     ]
    },
    {
     "name": "stdout",
     "output_type": "stream",
     "text": [
      "\n",
      "\r",
      "0it [00:00, ?it/s]"
     ]
    },
    {
     "name": "stdout",
     "output_type": "stream",
     "text": [
      "\r",
      "Upgrading database; v2 -> v3: : 0it [00:00, ?it/s]"
     ]
    },
    {
     "name": "stdout",
     "output_type": "stream",
     "text": [
      "\r",
      "Upgrading database; v2 -> v3: : 0it [00:00, ?it/s]"
     ]
    },
    {
     "name": "stdout",
     "output_type": "stream",
     "text": [
      "\n",
      "\r",
      "0it [00:00, ?it/s]"
     ]
    },
    {
     "name": "stdout",
     "output_type": "stream",
     "text": [
      "\r",
      "Upgrading database; v3 -> v4: : 0it [00:00, ?it/s]"
     ]
    },
    {
     "name": "stdout",
     "output_type": "stream",
     "text": [
      "\r",
      "Upgrading database; v3 -> v4: : 0it [00:00, ?it/s]"
     ]
    },
    {
     "name": "stdout",
     "output_type": "stream",
     "text": [
      "\n",
      "\r",
      "  0%|          | 0/1 [00:00<?, ?it/s]"
     ]
    },
    {
     "name": "stdout",
     "output_type": "stream",
     "text": [
      "\r",
      "Upgrading database; v4 -> v5:   0%|          | 0/1 [00:00<?, ?it/s]"
     ]
    },
    {
     "name": "stdout",
     "output_type": "stream",
     "text": [
      "\r",
      "Upgrading database; v4 -> v5: 100%|██████████| 1/1 [00:00<00:00, 337.05it/s]"
     ]
    },
    {
     "name": "stdout",
     "output_type": "stream",
     "text": [
      "\n",
      "\r",
      "0it [00:00, ?it/s]"
     ]
    },
    {
     "name": "stdout",
     "output_type": "stream",
     "text": [
      "\r",
      "Upgrading database; v5 -> v6: : 0it [00:00, ?it/s]"
     ]
    },
    {
     "name": "stdout",
     "output_type": "stream",
     "text": [
      "\r",
      "Upgrading database; v5 -> v6: : 0it [00:00, ?it/s]"
     ]
    },
    {
     "name": "stdout",
     "output_type": "stream",
     "text": [
      "\n",
      "\r",
      "  0%|          | 0/1 [00:00<?, ?it/s]"
     ]
    },
    {
     "name": "stdout",
     "output_type": "stream",
     "text": [
      "\r",
      "Upgrading database; v6 -> v7:   0%|          | 0/1 [00:00<?, ?it/s]"
     ]
    },
    {
     "name": "stdout",
     "output_type": "stream",
     "text": [
      "\r",
      "Upgrading database; v6 -> v7: 100%|██████████| 1/1 [00:00<00:00, 372.03it/s]"
     ]
    },
    {
     "name": "stdout",
     "output_type": "stream",
     "text": [
      "\n",
      "\r",
      "  0%|          | 0/1 [00:00<?, ?it/s]"
     ]
    },
    {
     "name": "stdout",
     "output_type": "stream",
     "text": [
      "\r",
      "Upgrading database; v7 -> v8:   0%|          | 0/1 [00:00<?, ?it/s]"
     ]
    },
    {
     "name": "stdout",
     "output_type": "stream",
     "text": [
      "\r",
      "Upgrading database; v7 -> v8: 100%|██████████| 1/1 [00:00<00:00, 1018.78it/s]"
     ]
    },
    {
     "name": "stdout",
     "output_type": "stream",
     "text": [
      "\n",
      "\r",
      "  0%|          | 0/1 [00:00<?, ?it/s]"
     ]
    },
    {
     "name": "stdout",
     "output_type": "stream",
     "text": [
      "\r",
      "Upgrading database; v8 -> v9:   0%|          | 0/1 [00:00<?, ?it/s]"
     ]
    },
    {
     "name": "stdout",
     "output_type": "stream",
     "text": [
      "\r",
      "Upgrading database; v8 -> v9: 100%|██████████| 1/1 [00:00<00:00, 1426.15it/s]"
     ]
    },
    {
     "name": "stdout",
     "output_type": "stream",
     "text": [
      "\n"
     ]
    }
   ],
   "source": [
    "initialise_database()\n",
    "exp = load_or_create_experiment(experiment_name='tutorial_exp', sample_name=\"no sample\")"
   ]
  },
  {
   "cell_type": "markdown",
   "metadata": {},
   "source": [
    "Here, we define a simple function to benchmark the time it takes to insert n points with either numeric or array data type.\n",
    "We will compare both the time used to call ``add_result`` and the time used for the full measurement."
   ]
  },
  {
   "cell_type": "code",
   "execution_count": 4,
   "metadata": {
    "execution": {
     "iopub.execute_input": "2021-03-04T09:26:27.184482Z",
     "iopub.status.busy": "2021-03-04T09:26:27.183295Z",
     "iopub.status.idle": "2021-03-04T09:26:27.186372Z",
     "shell.execute_reply": "2021-03-04T09:26:27.185440Z"
    }
   },
   "outputs": [],
   "source": [
    "def insert_data(paramtype, npoints, nreps=1):\n",
    "\n",
    "    meas = Measurement(exp=exp)\n",
    "\n",
    "    x1 = ManualParameter('x1')\n",
    "    x2 = ManualParameter('x2')\n",
    "    x3 = ManualParameter('x3')\n",
    "    y1 = ManualParameter('y1')\n",
    "    y2 = ManualParameter('y2')\n",
    "\n",
    "    meas.register_parameter(x1, paramtype=paramtype)\n",
    "    meas.register_parameter(x2, paramtype=paramtype)\n",
    "    meas.register_parameter(x3, paramtype=paramtype)\n",
    "    meas.register_parameter(y1, setpoints=[x1, x2, x3],\n",
    "                            paramtype=paramtype)\n",
    "    meas.register_parameter(y2, setpoints=[x1, x2, x3],\n",
    "                            paramtype=paramtype)\n",
    "    start = time.perf_counter()\n",
    "    with meas.run() as datasaver:\n",
    "        start_adding = time.perf_counter()\n",
    "        for i in range(nreps):\n",
    "            datasaver.add_result((x1, np.random.rand(npoints)),\n",
    "                                 (x2, np.random.rand(npoints)),\n",
    "                                 (x3, np.random.rand(npoints)),\n",
    "                                 (y1, np.random.rand(npoints)),\n",
    "                                 (y2, np.random.rand(npoints)))\n",
    "        stop_adding = time.perf_counter()\n",
    "        run_id = datasaver.run_id\n",
    "    stop = time.perf_counter()\n",
    "    tot_time = stop - start\n",
    "    add_time = stop_adding - start_adding\n",
    "    return tot_time, add_time, run_id"
   ]
  },
  {
   "cell_type": "markdown",
   "metadata": {},
   "source": [
    "## Comparison between numeric/array data and binary blob"
   ]
  },
  {
   "cell_type": "markdown",
   "metadata": {},
   "source": [
    "### Case1: Short experiment time"
   ]
  },
  {
   "cell_type": "code",
   "execution_count": 5,
   "metadata": {
    "execution": {
     "iopub.execute_input": "2021-03-04T09:26:27.193292Z",
     "iopub.status.busy": "2021-03-04T09:26:27.192586Z",
     "iopub.status.idle": "2021-03-04T09:26:27.981456Z",
     "shell.execute_reply": "2021-03-04T09:26:27.980533Z"
    }
   },
   "outputs": [
    {
     "name": "stdout",
     "output_type": "stream",
     "text": [
      "Starting experimental run with id: 1. \n",
      "Starting experimental run with id: 2. \n",
      "Starting experimental run with id: 3. \n",
      "Starting experimental run with id: 4. \n",
      "Starting experimental run with id: 5. \n"
     ]
    },
    {
     "name": "stdout",
     "output_type": "stream",
     "text": [
      "Starting experimental run with id: 6. \n"
     ]
    },
    {
     "name": "stdout",
     "output_type": "stream",
     "text": [
      "Starting experimental run with id: 7. \n"
     ]
    },
    {
     "name": "stdout",
     "output_type": "stream",
     "text": [
      "Starting experimental run with id: 8. \n",
      "Starting experimental run with id: 9. \n"
     ]
    },
    {
     "name": "stdout",
     "output_type": "stream",
     "text": [
      "Starting experimental run with id: 10. \n",
      "Starting experimental run with id: 11. \n"
     ]
    },
    {
     "name": "stdout",
     "output_type": "stream",
     "text": [
      "Starting experimental run with id: 12. \n",
      "Starting experimental run with id: 13. \n"
     ]
    },
    {
     "name": "stdout",
     "output_type": "stream",
     "text": [
      "Starting experimental run with id: 14. \n"
     ]
    }
   ],
   "source": [
    "sizes = [1,500,1000,2000,3000,4000,5000]\n",
    "t_numeric = []\n",
    "t_numeric_add = []\n",
    "t_array = []\n",
    "t_array_add = []\n",
    "for size in sizes:\n",
    "    tn, tna, run_id_n =  insert_data('numeric', size)\n",
    "    t_numeric.append(tn)\n",
    "    t_numeric_add.append(tna)\n",
    "\n",
    "    ta, taa, run_id_a =  insert_data('array', size)\n",
    "    t_array.append(ta)\n",
    "    t_array_add.append(taa)"
   ]
  },
  {
   "cell_type": "code",
   "execution_count": 6,
   "metadata": {
    "execution": {
     "iopub.execute_input": "2021-03-04T09:26:28.026006Z",
     "iopub.status.busy": "2021-03-04T09:26:28.002827Z",
     "iopub.status.idle": "2021-03-04T09:26:28.181857Z",
     "shell.execute_reply": "2021-03-04T09:26:28.182300Z"
    }
   },
   "outputs": [
    {
     "data": {
      "image/png": "[encoded data removed]",
      "text/plain": [
       "<Figure size 432x288 with 1 Axes>"
      ]
     },
     "metadata": {
      "needs_background": "light"
     },
     "output_type": "display_data"
    }
   ],
   "source": [
    "fig, ax = plt.subplots(1,1)\n",
    "ax.plot(sizes, t_numeric, 'o-', label='Inserting row-by-row')\n",
    "ax.plot(sizes, t_numeric_add, 'o-', label='Inserting row-by-row: add_result only')\n",
    "ax.plot(sizes, t_array, 'd-', label='Inserting as binary blob')\n",
    "ax.plot(sizes, t_array_add, 'd-', label='Inserting as binary blob: add_result only')\n",
    "ax.legend()\n",
    "ax.set_xlabel('Array length')\n",
    "ax.set_ylabel('Time (s)')\n",
    "fig.tight_layout()"
   ]
  },
  {
   "cell_type": "markdown",
   "metadata": {},
   "source": [
    "As shown in the latter figure, the time to setup and and close the experiment is approximately 0.4 sec. In case of small array sizes, the difference between inserting values of data as arrays and inserting them row-by-row is relatively unimportant. At larger array sizes, i.e. above 10000 points, the cost of writing data as individual datapoints starts to become important.\n"
   ]
  },
  {
   "cell_type": "markdown",
   "metadata": {},
   "source": [
    "### Case2: Long experiment time "
   ]
  },
  {
   "cell_type": "code",
   "execution_count": 7,
   "metadata": {
    "execution": {
     "iopub.execute_input": "2021-03-04T09:26:28.189992Z",
     "iopub.status.busy": "2021-03-04T09:26:28.189306Z",
     "iopub.status.idle": "2021-03-04T09:27:25.985786Z",
     "shell.execute_reply": "2021-03-04T09:27:25.985252Z"
    }
   },
   "outputs": [
    {
     "name": "stdout",
     "output_type": "stream",
     "text": [
      "Starting experimental run with id: 15. \n",
      "Starting experimental run with id: 16. \n",
      "Starting experimental run with id: 17. \n"
     ]
    },
    {
     "name": "stdout",
     "output_type": "stream",
     "text": [
      "Starting experimental run with id: 18. \n"
     ]
    },
    {
     "name": "stdout",
     "output_type": "stream",
     "text": [
      "Starting experimental run with id: 19. \n"
     ]
    },
    {
     "name": "stdout",
     "output_type": "stream",
     "text": [
      "Starting experimental run with id: 20. \n"
     ]
    },
    {
     "name": "stdout",
     "output_type": "stream",
     "text": [
      "Starting experimental run with id: 21. \n"
     ]
    },
    {
     "name": "stdout",
     "output_type": "stream",
     "text": [
      "Starting experimental run with id: 22. \n"
     ]
    },
    {
     "name": "stdout",
     "output_type": "stream",
     "text": [
      "Starting experimental run with id: 23. \n"
     ]
    },
    {
     "name": "stdout",
     "output_type": "stream",
     "text": [
      "Starting experimental run with id: 24. \n"
     ]
    },
    {
     "name": "stdout",
     "output_type": "stream",
     "text": [
      "Starting experimental run with id: 25. \n"
     ]
    },
    {
     "name": "stdout",
     "output_type": "stream",
     "text": [
      "Starting experimental run with id: 26. \n"
     ]
    },
    {
     "name": "stdout",
     "output_type": "stream",
     "text": [
      "Starting experimental run with id: 27. \n"
     ]
    },
    {
     "name": "stdout",
     "output_type": "stream",
     "text": [
      "Starting experimental run with id: 28. \n"
     ]
    }
   ],
   "source": [
    "sizes = [1,500,1000,2000,3000,4000,5000]\n",
    "nreps = 100\n",
    "t_numeric = []\n",
    "t_numeric_add = []\n",
    "t_numeric_run_ids = []\n",
    "t_array = []\n",
    "t_array_add = []\n",
    "t_array_run_ids = []\n",
    "for size in sizes:\n",
    "    tn, tna, run_id_n =  insert_data('numeric', size, nreps=nreps)\n",
    "    t_numeric.append(tn)\n",
    "    t_numeric_add.append(tna)\n",
    "    t_numeric_run_ids.append(run_id_n)\n",
    "\n",
    "    ta, taa, run_id_a =  insert_data('array', size, nreps=nreps)\n",
    "    t_array.append(ta)\n",
    "    t_array_add.append(taa)\n",
    "    t_array_run_ids.append(run_id_a)"
   ]
  },
  {
   "cell_type": "code",
   "execution_count": 8,
   "metadata": {
    "execution": {
     "iopub.execute_input": "2021-03-04T09:27:26.026671Z",
     "iopub.status.busy": "2021-03-04T09:27:26.025708Z",
     "iopub.status.idle": "2021-03-04T09:27:26.187752Z",
     "shell.execute_reply": "2021-03-04T09:27:26.188185Z"
    },
    "scrolled": true
   },
   "outputs": [
    {
     "data": {
      "image/png": "[encoded data removed]",
      "text/plain": [
       "<Figure size 432x288 with 1 Axes>"
      ]
     },
     "metadata": {
      "needs_background": "light"
     },
     "output_type": "display_data"
    }
   ],
   "source": [
    "fig, ax = plt.subplots(1,1)\n",
    "ax.plot(sizes, t_numeric, 'o-', label='Inserting row-by-row')\n",
    "ax.plot(sizes, t_numeric_add, 'o-', label='Inserting row-by-row: add_result only')\n",
    "ax.plot(sizes, t_array, 'd-', label='Inserting as binary blob')\n",
    "ax.plot(sizes, t_array_add, 'd-', label='Inserting as binary blob: add_result only')\n",
    "ax.legend()\n",
    "ax.set_xlabel('Array length')\n",
    "ax.set_ylabel('Time (s)')\n",
    "fig.tight_layout()"
   ]
  },
  {
   "cell_type": "markdown",
   "metadata": {},
   "source": [
    "However, as we increase the length of the experiment, as seen here by repeating the insertion 100 times, we see a big difference between inserting values of the data row-by-row and inserting it as a binary blob."
   ]
  },
  {
   "cell_type": "markdown",
   "metadata": {},
   "source": [
    "## Loading the data "
   ]
  },
  {
   "cell_type": "code",
   "execution_count": 9,
   "metadata": {
    "execution": {
     "iopub.execute_input": "2021-03-04T09:27:26.192680Z",
     "iopub.status.busy": "2021-03-04T09:27:26.191970Z",
     "iopub.status.idle": "2021-03-04T09:27:26.195047Z",
     "shell.execute_reply": "2021-03-04T09:27:26.194565Z"
    }
   },
   "outputs": [],
   "source": [
    "from qcodes.dataset.data_set import load_by_id\n",
    "from qcodes.dataset.data_export import get_data_by_id"
   ]
  },
  {
   "cell_type": "markdown",
   "metadata": {},
   "source": [
    "As usual you can load the data by using the ``load_by_id`` function but you will notice that the different storage methods\n",
    "are reflected in shape of the data as it is retrieved. "
   ]
  },
  {
   "cell_type": "code",
   "execution_count": 10,
   "metadata": {
    "execution": {
     "iopub.execute_input": "2021-03-04T09:27:26.198922Z",
     "iopub.status.busy": "2021-03-04T09:27:26.198345Z",
     "iopub.status.idle": "2021-03-04T09:27:26.200062Z",
     "shell.execute_reply": "2021-03-04T09:27:26.200577Z"
    }
   },
   "outputs": [],
   "source": [
    "run_id_n = t_numeric_run_ids[0]\n",
    "run_id_a = t_array_run_ids[0]"
   ]
  },
  {
   "cell_type": "code",
   "execution_count": 11,
   "metadata": {
    "execution": {
     "iopub.execute_input": "2021-03-04T09:27:26.204024Z",
     "iopub.status.busy": "2021-03-04T09:27:26.203459Z",
     "iopub.status.idle": "2021-03-04T09:27:26.212721Z",
     "shell.execute_reply": "2021-03-04T09:27:26.213209Z"
    },
    "scrolled": true
   },
   "outputs": [
    {
     "data": {
      "text/plain": [
       "{'x1': {'x1': array([0.81008847, 0.81008847, 0.9579555 , 0.9579555 , 0.13597918,\n",
       "         0.13597918, 0.38881642, 0.38881642, 0.7309134 , 0.7309134 ,\n",
       "         0.53433059, 0.53433059, 0.31090329, 0.31090329, 0.96420213,\n",
       "         0.96420213, 0.82364335, 0.82364335, 0.79716158, 0.79716158,\n",
       "         0.82786898, 0.82786898, 0.28488177, 0.28488177, 0.17127307,\n",
       "         0.17127307, 0.60388804, 0.60388804, 0.91652047, 0.91652047,\n",
       "         0.71955761, 0.71955761, 0.92040331, 0.92040331, 0.36436814,\n",
       "         0.36436814, 0.78521287, 0.78521287, 0.28063186, 0.28063186,\n",
       "         0.81268855, 0.81268855, 0.31767181, 0.31767181, 0.82382867,\n",
       "         0.82382867, 0.8848666 , 0.8848666 , 0.75034818, 0.75034818,\n",
       "         0.96901967, 0.96901967, 0.73676506, 0.73676506, 0.90947159,\n",
       "         0.90947159, 0.12851336, 0.12851336, 0.11828938, 0.11828938,\n",
       "         0.67264784, 0.67264784, 0.31574403, 0.31574403, 0.33231094,\n",
       "         0.33231094, 0.68851691, 0.68851691, 0.96326127, 0.96326127,\n",
       "         0.40927763, 0.40927763, 0.40597373, 0.40597373, 0.20663278,\n",
       "         0.20663278, 0.52832301, 0.52832301, 0.20320017, 0.20320017,\n",
       "         0.64153708, 0.64153708, 0.61381497, 0.61381497, 0.76738892,\n",
       "         0.76738892, 0.28186362, 0.28186362, 0.82261998, 0.82261998,\n",
       "         0.31457265, 0.31457265, 0.51165993, 0.51165993, 0.26223141,\n",
       "         0.26223141, 0.86939832, 0.86939832, 0.67908867, 0.67908867,\n",
       "         0.97210434, 0.97210434, 0.63810544, 0.63810544, 0.85227556,\n",
       "         0.85227556, 0.26467804, 0.26467804, 0.0475623 , 0.0475623 ,\n",
       "         0.19034892, 0.19034892, 0.95414925, 0.95414925, 0.72675093,\n",
       "         0.72675093, 0.1058559 , 0.1058559 , 0.74321371, 0.74321371,\n",
       "         0.40624534, 0.40624534, 0.6886212 , 0.6886212 , 0.60682916,\n",
       "         0.60682916, 0.79680707, 0.79680707, 0.42043208, 0.42043208,\n",
       "         0.36296178, 0.36296178, 0.4193004 , 0.4193004 , 0.10592991,\n",
       "         0.10592991, 0.89272519, 0.89272519, 0.43272816, 0.43272816,\n",
       "         0.65291201, 0.65291201, 0.48846548, 0.48846548, 0.70971589,\n",
       "         0.70971589, 0.0362588 , 0.0362588 , 0.24579593, 0.24579593,\n",
       "         0.7718512 , 0.7718512 , 0.20261516, 0.20261516, 0.20723209,\n",
       "         0.20723209, 0.69791427, 0.69791427, 0.35411076, 0.35411076,\n",
       "         0.65225293, 0.65225293, 0.22388124, 0.22388124, 0.07610641,\n",
       "         0.07610641, 0.34193788, 0.34193788, 0.18265114, 0.18265114,\n",
       "         0.60579823, 0.60579823, 0.87496175, 0.87496175, 0.42747349,\n",
       "         0.42747349, 0.63148162, 0.63148162, 0.99894926, 0.99894926,\n",
       "         0.66539164, 0.66539164, 0.20627347, 0.20627347, 0.70395   ,\n",
       "         0.70395   , 0.00981474, 0.00981474, 0.88949837, 0.88949837,\n",
       "         0.1462888 , 0.1462888 , 0.77194164, 0.77194164, 0.56890907,\n",
       "         0.56890907, 0.40845367, 0.40845367, 0.91491915, 0.91491915])}}"
      ]
     },
     "execution_count": 1,
     "metadata": {},
     "output_type": "execute_result"
    }
   ],
   "source": [
    "ds = load_by_id(run_id_n)\n",
    "ds.get_parameter_data('x1')"
   ]
  },
  {
   "cell_type": "markdown",
   "metadata": {},
   "source": [
    "And a dataset stored as binary arrays"
   ]
  },
  {
   "cell_type": "code",
   "execution_count": 12,
   "metadata": {
    "execution": {
     "iopub.execute_input": "2021-03-04T09:27:26.216599Z",
     "iopub.status.busy": "2021-03-04T09:27:26.216074Z",
     "iopub.status.idle": "2021-03-04T09:27:26.270095Z",
     "shell.execute_reply": "2021-03-04T09:27:26.270572Z"
    },
    "scrolled": true
   },
   "outputs": [
    {
     "data": {
      "text/plain": [
       "{'x1': {'x1': array([[0.24846542],\n",
       "         [0.24846542],\n",
       "         [0.98421135],\n",
       "         [0.98421135],\n",
       "         [0.2553073 ],\n",
       "         [0.2553073 ],\n",
       "         [0.15146222],\n",
       "         [0.15146222],\n",
       "         [0.34653371],\n",
       "         [0.34653371],\n",
       "         [0.54279108],\n",
       "         [0.54279108],\n",
       "         [0.33551879],\n",
       "         [0.33551879],\n",
       "         [0.76766375],\n",
       "         [0.76766375],\n",
       "         [0.7093166 ],\n",
       "         [0.7093166 ],\n",
       "         [0.9963514 ],\n",
       "         [0.9963514 ],\n",
       "         [0.31597995],\n",
       "         [0.31597995],\n",
       "         [0.95636113],\n",
       "         [0.95636113],\n",
       "         [0.95702256],\n",
       "         [0.95702256],\n",
       "         [0.13118005],\n",
       "         [0.13118005],\n",
       "         [0.49192955],\n",
       "         [0.49192955],\n",
       "         [0.14408419],\n",
       "         [0.14408419],\n",
       "         [0.86498516],\n",
       "         [0.86498516],\n",
       "         [0.08303277],\n",
       "         [0.08303277],\n",
       "         [0.93970197],\n",
       "         [0.93970197],\n",
       "         [0.37051789],\n",
       "         [0.37051789],\n",
       "         [0.34984172],\n",
       "         [0.34984172],\n",
       "         [0.3286424 ],\n",
       "         [0.3286424 ],\n",
       "         [0.33990545],\n",
       "         [0.33990545],\n",
       "         [0.9641008 ],\n",
       "         [0.9641008 ],\n",
       "         [0.52013205],\n",
       "         [0.52013205],\n",
       "         [0.77822383],\n",
       "         [0.77822383],\n",
       "         [0.57565526],\n",
       "         [0.57565526],\n",
       "         [0.33484044],\n",
       "         [0.33484044],\n",
       "         [0.77011422],\n",
       "         [0.77011422],\n",
       "         [0.59623403],\n",
       "         [0.59623403],\n",
       "         [0.78958137],\n",
       "         [0.78958137],\n",
       "         [0.22470281],\n",
       "         [0.22470281],\n",
       "         [0.06129065],\n",
       "         [0.06129065],\n",
       "         [0.57187526],\n",
       "         [0.57187526],\n",
       "         [0.72095873],\n",
       "         [0.72095873],\n",
       "         [0.55481583],\n",
       "         [0.55481583],\n",
       "         [0.97734263],\n",
       "         [0.97734263],\n",
       "         [0.7327464 ],\n",
       "         [0.7327464 ],\n",
       "         [0.66901835],\n",
       "         [0.66901835],\n",
       "         [0.29019006],\n",
       "         [0.29019006],\n",
       "         [0.57598507],\n",
       "         [0.57598507],\n",
       "         [0.0666962 ],\n",
       "         [0.0666962 ],\n",
       "         [0.99945708],\n",
       "         [0.99945708],\n",
       "         [0.27184784],\n",
       "         [0.27184784],\n",
       "         [0.22167832],\n",
       "         [0.22167832],\n",
       "         [0.21697333],\n",
       "         [0.21697333],\n",
       "         [0.69323532],\n",
       "         [0.69323532],\n",
       "         [0.0420399 ],\n",
       "         [0.0420399 ],\n",
       "         [0.15646266],\n",
       "         [0.15646266],\n",
       "         [0.89451694],\n",
       "         [0.89451694],\n",
       "         [0.09356596],\n",
       "         [0.09356596],\n",
       "         [0.81324116],\n",
       "         [0.81324116],\n",
       "         [0.59840541],\n",
       "         [0.59840541],\n",
       "         [0.35690741],\n",
       "         [0.35690741],\n",
       "         [0.72793215],\n",
       "         [0.72793215],\n",
       "         [0.65795176],\n",
       "         [0.65795176],\n",
       "         [0.25452312],\n",
       "         [0.25452312],\n",
       "         [0.9564452 ],\n",
       "         [0.9564452 ],\n",
       "         [0.69257503],\n",
       "         [0.69257503],\n",
       "         [0.25594519],\n",
       "         [0.25594519],\n",
       "         [0.81534183],\n",
       "         [0.81534183],\n",
       "         [0.64827244],\n",
       "         [0.64827244],\n",
       "         [0.21634371],\n",
       "         [0.21634371],\n",
       "         [0.54960458],\n",
       "         [0.54960458],\n",
       "         [0.64849663],\n",
       "         [0.64849663],\n",
       "         [0.14815482],\n",
       "         [0.14815482],\n",
       "         [0.87180602],\n",
       "         [0.87180602],\n",
       "         [0.78341116],\n",
       "         [0.78341116],\n",
       "         [0.95669118],\n",
       "         [0.95669118],\n",
       "         [0.56599635],\n",
       "         [0.56599635],\n",
       "         [0.98335716],\n",
       "         [0.98335716],\n",
       "         [0.08449076],\n",
       "         [0.08449076],\n",
       "         [0.56946175],\n",
       "         [0.56946175],\n",
       "         [0.12820152],\n",
       "         [0.12820152],\n",
       "         [0.52160986],\n",
       "         [0.52160986],\n",
       "         [0.2545252 ],\n",
       "         [0.2545252 ],\n",
       "         [0.91140291],\n",
       "         [0.91140291],\n",
       "         [0.26769225],\n",
       "         [0.26769225],\n",
       "         [0.41969547],\n",
       "         [0.41969547],\n",
       "         [0.85514178],\n",
       "         [0.85514178],\n",
       "         [0.92740564],\n",
       "         [0.92740564],\n",
       "         [0.43438018],\n",
       "         [0.43438018],\n",
       "         [0.876343  ],\n",
       "         [0.876343  ],\n",
       "         [0.40312116],\n",
       "         [0.40312116],\n",
       "         [0.18585626],\n",
       "         [0.18585626],\n",
       "         [0.58739289],\n",
       "         [0.58739289],\n",
       "         [0.12606419],\n",
       "         [0.12606419],\n",
       "         [0.87170916],\n",
       "         [0.87170916],\n",
       "         [0.73182461],\n",
       "         [0.73182461],\n",
       "         [0.4556937 ],\n",
       "         [0.4556937 ],\n",
       "         [0.2809444 ],\n",
       "         [0.2809444 ],\n",
       "         [0.38598676],\n",
       "         [0.38598676],\n",
       "         [0.8322653 ],\n",
       "         [0.8322653 ],\n",
       "         [0.22203849],\n",
       "         [0.22203849],\n",
       "         [0.34507107],\n",
       "         [0.34507107],\n",
       "         [0.50096376],\n",
       "         [0.50096376],\n",
       "         [0.28493767],\n",
       "         [0.28493767],\n",
       "         [0.65063966],\n",
       "         [0.65063966],\n",
       "         [0.46724148],\n",
       "         [0.46724148],\n",
       "         [0.8793088 ],\n",
       "         [0.8793088 ]])}}"
      ]
     },
     "execution_count": 1,
     "metadata": {},
     "output_type": "execute_result"
    }
   ],
   "source": [
    "ds = load_by_id(run_id_a)\n",
    "ds.get_parameter_data('x1')"
   ]
  },
  {
   "cell_type": "code",
   "execution_count": null,
   "metadata": {},
   "outputs": [],
   "source": []
  }
 ],
 "metadata": {
  "kernelspec": {
   "display_name": "Python 3",
   "language": "python",
   "name": "python3"
  },
  "language_info": {
   "codemirror_mode": {
    "name": "ipython",
    "version": 3
   },
   "file_extension": ".py",
   "mimetype": "text/x-python",
   "name": "python",
   "nbconvert_exporter": "python",
   "pygments_lexer": "ipython3",
   "version": "3.7.10"
  },
  "nbsphinx": {
   "timeout": 600
  },
  "toc": {
   "base_numbering": 1,
   "nav_menu": {},
   "number_sections": true,
   "sideBar": true,
   "skip_h1_title": false,
   "title_cell": "Table of Contents",
   "title_sidebar": "Contents",
   "toc_cell": false,
   "toc_position": {},
   "toc_section_display": true,
   "toc_window_display": false
  },
  "varInspector": {
   "cols": {
    "lenName": 16,
    "lenType": 16,
    "lenVar": 40
   },
   "kernels_config": {
    "python": {
     "delete_cmd_postfix": "",
     "delete_cmd_prefix": "del ",
     "library": "var_list.py",
     "varRefreshCmd": "print(var_dic_list())"
    },
    "r": {
     "delete_cmd_postfix": ") ",
     "delete_cmd_prefix": "rm(",
     "library": "var_list.r",
     "varRefreshCmd": "cat(var_dic_list()) "
    }
   },
   "types_to_exclude": [
    "module",
    "function",
    "builtin_function_or_method",
    "instance",
    "_Feature"
   ],
   "window_display": false
  }
 },
 "nbformat": 4,
 "nbformat_minor": 2
}
