{
 "cells": [
  {
   "cell_type": "markdown",
   "metadata": {},
   "source": [
    "# DataSet Performance\n",
    "\n",
    "This notebook shows the trade-off between inserting data into a database row-by-row and as binary blobs. Inserting the data row-by-row means that we have direct access to all the data and may perform queries directly on the values of the data. On the other hand, as we shall see, this is much slower than inserting the data directly as binary blobs."
   ]
  },
  {
   "cell_type": "markdown",
   "metadata": {},
   "source": [
    "First, we choose a new location for the database to ensure that we don't add a bunch of benchmarking data to the default one."
   ]
  },
  {
   "cell_type": "code",
   "execution_count": 1,
   "metadata": {
    "execution": {
     "iopub.execute_input": "2021-04-13T07:40:02.197443Z",
     "iopub.status.busy": "2021-04-13T07:40:02.196830Z",
     "iopub.status.idle": "2021-04-13T07:40:03.267015Z",
     "shell.execute_reply": "2021-04-13T07:40:03.267498Z"
    }
   },
   "outputs": [
    {
     "name": "stdout",
     "output_type": "stream",
     "text": [
      "Logging hadn't been started.\n",
      "Activating auto-logging. Current session state plus future input saved.\n",
      "Filename       : /home/runner/.qcodes/logs/command_history.log\n",
      "Mode           : append\n",
      "Output logging : True\n",
      "Raw input log  : False\n",
      "Timestamping   : True\n",
      "State          : active\n"
     ]
    },
    {
     "name": "stdout",
     "output_type": "stream",
     "text": [
      "Qcodes Logfile : /home/runner/.qcodes/logs/210413-4557-qcodes.log\n"
     ]
    }
   ],
   "source": [
    "import os\n",
    "cwd = os.getcwd()\n",
    "import qcodes as qc\n",
    "qc.config[\"core\"][\"db_location\"] = os.path.join(cwd, 'testing.db')\n"
   ]
  },
  {
   "cell_type": "code",
   "execution_count": 2,
   "metadata": {
    "execution": {
     "iopub.execute_input": "2021-04-13T07:40:03.276340Z",
     "iopub.status.busy": "2021-04-13T07:40:03.274107Z",
     "iopub.status.idle": "2021-04-13T07:40:03.524521Z",
     "shell.execute_reply": "2021-04-13T07:40:03.525030Z"
    }
   },
   "outputs": [],
   "source": [
    "%matplotlib inline\n",
    "import time\n",
    "import matplotlib.pyplot as plt\n",
    "import numpy as np\n",
    "\n",
    "import qcodes as qc\n",
    "from qcodes.instrument.parameter import ManualParameter\n",
    "from qcodes.dataset.experiment_container import (Experiment,\n",
    "                                                 load_last_experiment,\n",
    "                                                 new_experiment)\n",
    "from qcodes.dataset.sqlite.database import initialise_database\n",
    "from qcodes import load_or_create_experiment\n",
    "from qcodes.dataset.measurements import Measurement"
   ]
  },
  {
   "cell_type": "code",
   "execution_count": 3,
   "metadata": {
    "execution": {
     "iopub.execute_input": "2021-04-13T07:40:03.530859Z",
     "iopub.status.busy": "2021-04-13T07:40:03.529839Z",
     "iopub.status.idle": "2021-04-13T07:40:03.621141Z",
     "shell.execute_reply": "2021-04-13T07:40:03.620468Z"
    }
   },
   "outputs": [
    {
     "name": "stdout",
     "output_type": "stream",
     "text": [
      "\r",
      "0it [00:00, ?it/s]"
     ]
    },
    {
     "name": "stdout",
     "output_type": "stream",
     "text": [
      "\r",
      "Upgrading database; v0 -> v1: : 0it [00:00, ?it/s]"
     ]
    },
    {
     "name": "stdout",
     "output_type": "stream",
     "text": [
      "\r",
      "Upgrading database; v0 -> v1: : 0it [00:00, ?it/s]"
     ]
    },
    {
     "name": "stdout",
     "output_type": "stream",
     "text": [
      "\n",
      "\r",
      "  0%|          | 0/1 [00:00<?, ?it/s]"
     ]
    },
    {
     "name": "stdout",
     "output_type": "stream",
     "text": [
      "\r",
      "Upgrading database; v1 -> v2:   0%|          | 0/1 [00:00<?, ?it/s]"
     ]
    },
    {
     "name": "stdout",
     "output_type": "stream",
     "text": [
      "\r",
      "Upgrading database; v1 -> v2: 100%|██████████| 1/1 [00:00<00:00, 513.13it/s]"
     ]
    },
    {
     "name": "stdout",
     "output_type": "stream",
     "text": [
      "\n",
      "\r",
      "0it [00:00, ?it/s]"
     ]
    },
    {
     "name": "stdout",
     "output_type": "stream",
     "text": [
      "\r",
      "Upgrading database; v2 -> v3: : 0it [00:00, ?it/s]"
     ]
    },
    {
     "name": "stdout",
     "output_type": "stream",
     "text": [
      "\r",
      "Upgrading database; v2 -> v3: : 0it [00:00, ?it/s]"
     ]
    },
    {
     "name": "stdout",
     "output_type": "stream",
     "text": [
      "\n",
      "\r",
      "0it [00:00, ?it/s]"
     ]
    },
    {
     "name": "stdout",
     "output_type": "stream",
     "text": [
      "\r",
      "Upgrading database; v3 -> v4: : 0it [00:00, ?it/s]"
     ]
    },
    {
     "name": "stdout",
     "output_type": "stream",
     "text": [
      "\r",
      "Upgrading database; v3 -> v4: : 0it [00:00, ?it/s]"
     ]
    },
    {
     "name": "stdout",
     "output_type": "stream",
     "text": [
      "\n",
      "\r",
      "  0%|          | 0/1 [00:00<?, ?it/s]"
     ]
    },
    {
     "name": "stdout",
     "output_type": "stream",
     "text": [
      "\r",
      "Upgrading database; v4 -> v5:   0%|          | 0/1 [00:00<?, ?it/s]"
     ]
    },
    {
     "name": "stdout",
     "output_type": "stream",
     "text": [
      "\r",
      "Upgrading database; v4 -> v5: 100%|██████████| 1/1 [00:00<00:00, 334.15it/s]"
     ]
    },
    {
     "name": "stdout",
     "output_type": "stream",
     "text": [
      "\n",
      "\r",
      "0it [00:00, ?it/s]"
     ]
    },
    {
     "name": "stdout",
     "output_type": "stream",
     "text": [
      "\r",
      "Upgrading database; v5 -> v6: : 0it [00:00, ?it/s]"
     ]
    },
    {
     "name": "stdout",
     "output_type": "stream",
     "text": [
      "\r",
      "Upgrading database; v5 -> v6: : 0it [00:00, ?it/s]"
     ]
    },
    {
     "name": "stdout",
     "output_type": "stream",
     "text": [
      "\n",
      "\r",
      "  0%|          | 0/1 [00:00<?, ?it/s]"
     ]
    },
    {
     "name": "stdout",
     "output_type": "stream",
     "text": [
      "\r",
      "Upgrading database; v6 -> v7:   0%|          | 0/1 [00:00<?, ?it/s]"
     ]
    },
    {
     "name": "stdout",
     "output_type": "stream",
     "text": [
      "\r",
      "Upgrading database; v6 -> v7: 100%|██████████| 1/1 [00:00<00:00, 308.65it/s]"
     ]
    },
    {
     "name": "stdout",
     "output_type": "stream",
     "text": [
      "\n",
      "\r",
      "  0%|          | 0/1 [00:00<?, ?it/s]"
     ]
    },
    {
     "name": "stdout",
     "output_type": "stream",
     "text": [
      "\r",
      "Upgrading database; v7 -> v8:   0%|          | 0/1 [00:00<?, ?it/s]"
     ]
    },
    {
     "name": "stdout",
     "output_type": "stream",
     "text": [
      "\r",
      "Upgrading database; v7 -> v8: 100%|██████████| 1/1 [00:00<00:00, 398.70it/s]"
     ]
    },
    {
     "name": "stdout",
     "output_type": "stream",
     "text": [
      "\n",
      "\r",
      "  0%|          | 0/1 [00:00<?, ?it/s]"
     ]
    },
    {
     "name": "stdout",
     "output_type": "stream",
     "text": [
      "\r",
      "Upgrading database; v8 -> v9:   0%|          | 0/1 [00:00<?, ?it/s]"
     ]
    },
    {
     "name": "stdout",
     "output_type": "stream",
     "text": [
      "\r",
      "Upgrading database; v8 -> v9: 100%|██████████| 1/1 [00:00<00:00, 456.80it/s]"
     ]
    },
    {
     "name": "stdout",
     "output_type": "stream",
     "text": [
      "\n"
     ]
    }
   ],
   "source": [
    "initialise_database()\n",
    "exp = load_or_create_experiment(experiment_name='tutorial_exp', sample_name=\"no sample\")"
   ]
  },
  {
   "cell_type": "markdown",
   "metadata": {},
   "source": [
    "Here, we define a simple function to benchmark the time it takes to insert n points with either numeric or array data type.\n",
    "We will compare both the time used to call ``add_result`` and the time used for the full measurement."
   ]
  },
  {
   "cell_type": "code",
   "execution_count": 4,
   "metadata": {
    "execution": {
     "iopub.execute_input": "2021-04-13T07:40:03.630478Z",
     "iopub.status.busy": "2021-04-13T07:40:03.629848Z",
     "iopub.status.idle": "2021-04-13T07:40:03.634110Z",
     "shell.execute_reply": "2021-04-13T07:40:03.633570Z"
    }
   },
   "outputs": [],
   "source": [
    "def insert_data(paramtype, npoints, nreps=1):\n",
    "\n",
    "    meas = Measurement(exp=exp)\n",
    "\n",
    "    x1 = ManualParameter('x1')\n",
    "    x2 = ManualParameter('x2')\n",
    "    x3 = ManualParameter('x3')\n",
    "    y1 = ManualParameter('y1')\n",
    "    y2 = ManualParameter('y2')\n",
    "\n",
    "    meas.register_parameter(x1, paramtype=paramtype)\n",
    "    meas.register_parameter(x2, paramtype=paramtype)\n",
    "    meas.register_parameter(x3, paramtype=paramtype)\n",
    "    meas.register_parameter(y1, setpoints=[x1, x2, x3],\n",
    "                            paramtype=paramtype)\n",
    "    meas.register_parameter(y2, setpoints=[x1, x2, x3],\n",
    "                            paramtype=paramtype)\n",
    "    start = time.perf_counter()\n",
    "    with meas.run() as datasaver:\n",
    "        start_adding = time.perf_counter()\n",
    "        for i in range(nreps):\n",
    "            datasaver.add_result((x1, np.random.rand(npoints)),\n",
    "                                 (x2, np.random.rand(npoints)),\n",
    "                                 (x3, np.random.rand(npoints)),\n",
    "                                 (y1, np.random.rand(npoints)),\n",
    "                                 (y2, np.random.rand(npoints)))\n",
    "        stop_adding = time.perf_counter()\n",
    "        run_id = datasaver.run_id\n",
    "    stop = time.perf_counter()\n",
    "    tot_time = stop - start\n",
    "    add_time = stop_adding - start_adding\n",
    "    return tot_time, add_time, run_id"
   ]
  },
  {
   "cell_type": "markdown",
   "metadata": {},
   "source": [
    "## Comparison between numeric/array data and binary blob"
   ]
  },
  {
   "cell_type": "markdown",
   "metadata": {},
   "source": [
    "### Case1: Short experiment time"
   ]
  },
  {
   "cell_type": "code",
   "execution_count": 5,
   "metadata": {
    "execution": {
     "iopub.execute_input": "2021-04-13T07:40:03.643410Z",
     "iopub.status.busy": "2021-04-13T07:40:03.642033Z",
     "iopub.status.idle": "2021-04-13T07:40:04.505865Z",
     "shell.execute_reply": "2021-04-13T07:40:04.505153Z"
    }
   },
   "outputs": [
    {
     "name": "stdout",
     "output_type": "stream",
     "text": [
      "Starting experimental run with id: 1. \n",
      "Starting experimental run with id: 2. \n",
      "Starting experimental run with id: 3. \n",
      "Starting experimental run with id: 4. \n"
     ]
    },
    {
     "name": "stdout",
     "output_type": "stream",
     "text": [
      "Starting experimental run with id: 5. \n"
     ]
    },
    {
     "name": "stdout",
     "output_type": "stream",
     "text": [
      "Starting experimental run with id: 6. \n"
     ]
    },
    {
     "name": "stdout",
     "output_type": "stream",
     "text": [
      "Starting experimental run with id: 7. \n"
     ]
    },
    {
     "name": "stdout",
     "output_type": "stream",
     "text": [
      "Starting experimental run with id: 8. \n",
      "Starting experimental run with id: 9. \n"
     ]
    },
    {
     "name": "stdout",
     "output_type": "stream",
     "text": [
      "Starting experimental run with id: 10. \n",
      "Starting experimental run with id: 11. \n"
     ]
    },
    {
     "name": "stdout",
     "output_type": "stream",
     "text": [
      "Starting experimental run with id: 12. \n",
      "Starting experimental run with id: 13. \n",
      "Starting experimental run with id: 14. \n"
     ]
    }
   ],
   "source": [
    "sizes = [1,500,1000,2000,3000,4000,5000]\n",
    "t_numeric = []\n",
    "t_numeric_add = []\n",
    "t_array = []\n",
    "t_array_add = []\n",
    "for size in sizes:\n",
    "    tn, tna, run_id_n =  insert_data('numeric', size)\n",
    "    t_numeric.append(tn)\n",
    "    t_numeric_add.append(tna)\n",
    "\n",
    "    ta, taa, run_id_a =  insert_data('array', size)\n",
    "    t_array.append(ta)\n",
    "    t_array_add.append(taa)"
   ]
  },
  {
   "cell_type": "code",
   "execution_count": 6,
   "metadata": {
    "execution": {
     "iopub.execute_input": "2021-04-13T07:40:04.560727Z",
     "iopub.status.busy": "2021-04-13T07:40:04.525080Z",
     "iopub.status.idle": "2021-04-13T07:40:04.772780Z",
     "shell.execute_reply": "2021-04-13T07:40:04.772259Z"
    }
   },
   "outputs": [
    {
     "data": {
      "image/png": "[encoded data removed]",
      "text/plain": [
       "<Figure size 432x288 with 1 Axes>"
      ]
     },
     "metadata": {
      "needs_background": "light"
     },
     "output_type": "display_data"
    }
   ],
   "source": [
    "fig, ax = plt.subplots(1,1)\n",
    "ax.plot(sizes, t_numeric, 'o-', label='Inserting row-by-row')\n",
    "ax.plot(sizes, t_numeric_add, 'o-', label='Inserting row-by-row: add_result only')\n",
    "ax.plot(sizes, t_array, 'd-', label='Inserting as binary blob')\n",
    "ax.plot(sizes, t_array_add, 'd-', label='Inserting as binary blob: add_result only')\n",
    "ax.legend()\n",
    "ax.set_xlabel('Array length')\n",
    "ax.set_ylabel('Time (s)')\n",
    "fig.tight_layout()"
   ]
  },
  {
   "cell_type": "markdown",
   "metadata": {},
   "source": [
    "As shown in the latter figure, the time to setup and and close the experiment is approximately 0.4 sec. In case of small array sizes, the difference between inserting values of data as arrays and inserting them row-by-row is relatively unimportant. At larger array sizes, i.e. above 10000 points, the cost of writing data as individual datapoints starts to become important.\n"
   ]
  },
  {
   "cell_type": "markdown",
   "metadata": {},
   "source": [
    "### Case2: Long experiment time "
   ]
  },
  {
   "cell_type": "code",
   "execution_count": 7,
   "metadata": {
    "execution": {
     "iopub.execute_input": "2021-04-13T07:40:04.780747Z",
     "iopub.status.busy": "2021-04-13T07:40:04.779605Z",
     "iopub.status.idle": "2021-04-13T07:41:00.597184Z",
     "shell.execute_reply": "2021-04-13T07:41:00.596666Z"
    }
   },
   "outputs": [
    {
     "name": "stdout",
     "output_type": "stream",
     "text": [
      "Starting experimental run with id: 15. \n",
      "Starting experimental run with id: 16. \n",
      "Starting experimental run with id: 17. \n"
     ]
    },
    {
     "name": "stdout",
     "output_type": "stream",
     "text": [
      "Starting experimental run with id: 18. \n",
      "Starting experimental run with id: 19. \n"
     ]
    },
    {
     "name": "stdout",
     "output_type": "stream",
     "text": [
      "Starting experimental run with id: 20. \n"
     ]
    },
    {
     "name": "stdout",
     "output_type": "stream",
     "text": [
      "Starting experimental run with id: 21. \n"
     ]
    },
    {
     "name": "stdout",
     "output_type": "stream",
     "text": [
      "Starting experimental run with id: 22. \n"
     ]
    },
    {
     "name": "stdout",
     "output_type": "stream",
     "text": [
      "Starting experimental run with id: 23. \n"
     ]
    },
    {
     "name": "stdout",
     "output_type": "stream",
     "text": [
      "Starting experimental run with id: 24. \n"
     ]
    },
    {
     "name": "stdout",
     "output_type": "stream",
     "text": [
      "Starting experimental run with id: 25. \n"
     ]
    },
    {
     "name": "stdout",
     "output_type": "stream",
     "text": [
      "Starting experimental run with id: 26. \n"
     ]
    },
    {
     "name": "stdout",
     "output_type": "stream",
     "text": [
      "Starting experimental run with id: 27. \n"
     ]
    },
    {
     "name": "stdout",
     "output_type": "stream",
     "text": [
      "Starting experimental run with id: 28. \n"
     ]
    }
   ],
   "source": [
    "sizes = [1,500,1000,2000,3000,4000,5000]\n",
    "nreps = 100\n",
    "t_numeric = []\n",
    "t_numeric_add = []\n",
    "t_numeric_run_ids = []\n",
    "t_array = []\n",
    "t_array_add = []\n",
    "t_array_run_ids = []\n",
    "for size in sizes:\n",
    "    tn, tna, run_id_n =  insert_data('numeric', size, nreps=nreps)\n",
    "    t_numeric.append(tn)\n",
    "    t_numeric_add.append(tna)\n",
    "    t_numeric_run_ids.append(run_id_n)\n",
    "\n",
    "    ta, taa, run_id_a =  insert_data('array', size, nreps=nreps)\n",
    "    t_array.append(ta)\n",
    "    t_array_add.append(taa)\n",
    "    t_array_run_ids.append(run_id_a)"
   ]
  },
  {
   "cell_type": "code",
   "execution_count": 8,
   "metadata": {
    "execution": {
     "iopub.execute_input": "2021-04-13T07:41:00.621415Z",
     "iopub.status.busy": "2021-04-13T07:41:00.616075Z",
     "iopub.status.idle": "2021-04-13T07:41:00.834184Z",
     "shell.execute_reply": "2021-04-13T07:41:00.835095Z"
    },
    "scrolled": true
   },
   "outputs": [
    {
     "data": {
      "image/png": "[encoded data removed]",
      "text/plain": [
       "<Figure size 432x288 with 1 Axes>"
      ]
     },
     "metadata": {
      "needs_background": "light"
     },
     "output_type": "display_data"
    }
   ],
   "source": [
    "fig, ax = plt.subplots(1,1)\n",
    "ax.plot(sizes, t_numeric, 'o-', label='Inserting row-by-row')\n",
    "ax.plot(sizes, t_numeric_add, 'o-', label='Inserting row-by-row: add_result only')\n",
    "ax.plot(sizes, t_array, 'd-', label='Inserting as binary blob')\n",
    "ax.plot(sizes, t_array_add, 'd-', label='Inserting as binary blob: add_result only')\n",
    "ax.legend()\n",
    "ax.set_xlabel('Array length')\n",
    "ax.set_ylabel('Time (s)')\n",
    "fig.tight_layout()"
   ]
  },
  {
   "cell_type": "markdown",
   "metadata": {},
   "source": [
    "However, as we increase the length of the experiment, as seen here by repeating the insertion 100 times, we see a big difference between inserting values of the data row-by-row and inserting it as a binary blob."
   ]
  },
  {
   "cell_type": "markdown",
   "metadata": {},
   "source": [
    "## Loading the data "
   ]
  },
  {
   "cell_type": "code",
   "execution_count": 9,
   "metadata": {
    "execution": {
     "iopub.execute_input": "2021-04-13T07:41:00.841081Z",
     "iopub.status.busy": "2021-04-13T07:41:00.839412Z",
     "iopub.status.idle": "2021-04-13T07:41:00.842398Z",
     "shell.execute_reply": "2021-04-13T07:41:00.842937Z"
    }
   },
   "outputs": [],
   "source": [
    "from qcodes.dataset.data_set import load_by_id\n",
    "from qcodes.dataset.data_export import get_data_by_id"
   ]
  },
  {
   "cell_type": "markdown",
   "metadata": {},
   "source": [
    "As usual you can load the data by using the ``load_by_id`` function but you will notice that the different storage methods\n",
    "are reflected in shape of the data as it is retrieved. "
   ]
  },
  {
   "cell_type": "code",
   "execution_count": 10,
   "metadata": {
    "execution": {
     "iopub.execute_input": "2021-04-13T07:41:00.847836Z",
     "iopub.status.busy": "2021-04-13T07:41:00.846612Z",
     "iopub.status.idle": "2021-04-13T07:41:00.848721Z",
     "shell.execute_reply": "2021-04-13T07:41:00.849273Z"
    }
   },
   "outputs": [],
   "source": [
    "run_id_n = t_numeric_run_ids[0]\n",
    "run_id_a = t_array_run_ids[0]"
   ]
  },
  {
   "cell_type": "code",
   "execution_count": 11,
   "metadata": {
    "execution": {
     "iopub.execute_input": "2021-04-13T07:41:00.852796Z",
     "iopub.status.busy": "2021-04-13T07:41:00.852190Z",
     "iopub.status.idle": "2021-04-13T07:41:00.862722Z",
     "shell.execute_reply": "2021-04-13T07:41:00.863265Z"
    },
    "scrolled": true
   },
   "outputs": [
    {
     "data": {
      "text/plain": [
       "{'x1': {'x1': array([0.86401506, 0.86401506, 0.78920768, 0.78920768, 0.95709929,\n",
       "         0.95709929, 0.36713147, 0.36713147, 0.29441047, 0.29441047,\n",
       "         0.70308576, 0.70308576, 0.12001283, 0.12001283, 0.20697424,\n",
       "         0.20697424, 0.06857554, 0.06857554, 0.49353193, 0.49353193,\n",
       "         0.46142586, 0.46142586, 0.34608742, 0.34608742, 0.85627131,\n",
       "         0.85627131, 0.36023196, 0.36023196, 0.91775897, 0.91775897,\n",
       "         0.20966409, 0.20966409, 0.73462013, 0.73462013, 0.2214159 ,\n",
       "         0.2214159 , 0.21991992, 0.21991992, 0.67197115, 0.67197115,\n",
       "         0.71142311, 0.71142311, 0.67546858, 0.67546858, 0.11359626,\n",
       "         0.11359626, 0.6835647 , 0.6835647 , 0.93818178, 0.93818178,\n",
       "         0.24822762, 0.24822762, 0.65418418, 0.65418418, 0.72853115,\n",
       "         0.72853115, 0.25274182, 0.25274182, 0.7445062 , 0.7445062 ,\n",
       "         0.65928146, 0.65928146, 0.72720721, 0.72720721, 0.60877058,\n",
       "         0.60877058, 0.54752861, 0.54752861, 0.82458965, 0.82458965,\n",
       "         0.56097012, 0.56097012, 0.28259413, 0.28259413, 0.70409798,\n",
       "         0.70409798, 0.74189625, 0.74189625, 0.7080523 , 0.7080523 ,\n",
       "         0.70394511, 0.70394511, 0.70949166, 0.70949166, 0.95006199,\n",
       "         0.95006199, 0.43844265, 0.43844265, 0.3191081 , 0.3191081 ,\n",
       "         0.80189425, 0.80189425, 0.70126372, 0.70126372, 0.52925609,\n",
       "         0.52925609, 0.30527611, 0.30527611, 0.94701395, 0.94701395,\n",
       "         0.56423246, 0.56423246, 0.92820362, 0.92820362, 0.57885299,\n",
       "         0.57885299, 0.23173244, 0.23173244, 0.13067112, 0.13067112,\n",
       "         0.30272342, 0.30272342, 0.55552989, 0.55552989, 0.25169812,\n",
       "         0.25169812, 0.16911951, 0.16911951, 0.5143274 , 0.5143274 ,\n",
       "         0.140981  , 0.140981  , 0.27385661, 0.27385661, 0.59248036,\n",
       "         0.59248036, 0.93543617, 0.93543617, 0.22729723, 0.22729723,\n",
       "         0.78578488, 0.78578488, 0.73588031, 0.73588031, 0.59450883,\n",
       "         0.59450883, 0.30909464, 0.30909464, 0.97583422, 0.97583422,\n",
       "         0.65294818, 0.65294818, 0.6369091 , 0.6369091 , 0.52474488,\n",
       "         0.52474488, 0.03627939, 0.03627939, 0.33831952, 0.33831952,\n",
       "         0.28322737, 0.28322737, 0.40417038, 0.40417038, 0.00623383,\n",
       "         0.00623383, 0.62871601, 0.62871601, 0.31125097, 0.31125097,\n",
       "         0.54774862, 0.54774862, 0.80546005, 0.80546005, 0.00681248,\n",
       "         0.00681248, 0.31747894, 0.31747894, 0.81783618, 0.81783618,\n",
       "         0.47090758, 0.47090758, 0.37436924, 0.37436924, 0.72589135,\n",
       "         0.72589135, 0.08568469, 0.08568469, 0.31179246, 0.31179246,\n",
       "         0.63999233, 0.63999233, 0.82429581, 0.82429581, 0.65633841,\n",
       "         0.65633841, 0.03369501, 0.03369501, 0.82488483, 0.82488483,\n",
       "         0.29676822, 0.29676822, 0.56352958, 0.56352958, 0.62116045,\n",
       "         0.62116045, 0.84678657, 0.84678657, 0.68000839, 0.68000839])}}"
      ]
     },
     "execution_count": 1,
     "metadata": {},
     "output_type": "execute_result"
    }
   ],
   "source": [
    "ds = load_by_id(run_id_n)\n",
    "ds.get_parameter_data('x1')"
   ]
  },
  {
   "cell_type": "markdown",
   "metadata": {},
   "source": [
    "And a dataset stored as binary arrays"
   ]
  },
  {
   "cell_type": "code",
   "execution_count": 12,
   "metadata": {
    "execution": {
     "iopub.execute_input": "2021-04-13T07:41:00.866887Z",
     "iopub.status.busy": "2021-04-13T07:41:00.866247Z",
     "iopub.status.idle": "2021-04-13T07:41:00.928627Z",
     "shell.execute_reply": "2021-04-13T07:41:00.929114Z"
    },
    "scrolled": true
   },
   "outputs": [
    {
     "data": {
      "text/plain": [
       "{'x1': {'x1': array([[5.82394960e-01],\n",
       "         [5.82394960e-01],\n",
       "         [6.30311510e-02],\n",
       "         [6.30311510e-02],\n",
       "         [8.84864883e-01],\n",
       "         [8.84864883e-01],\n",
       "         [6.09713645e-01],\n",
       "         [6.09713645e-01],\n",
       "         [6.35586123e-01],\n",
       "         [6.35586123e-01],\n",
       "         [2.63429509e-01],\n",
       "         [2.63429509e-01],\n",
       "         [7.12637622e-05],\n",
       "         [7.12637622e-05],\n",
       "         [1.65247758e-01],\n",
       "         [1.65247758e-01],\n",
       "         [9.59505212e-01],\n",
       "         [9.59505212e-01],\n",
       "         [5.81253062e-01],\n",
       "         [5.81253062e-01],\n",
       "         [9.22654185e-01],\n",
       "         [9.22654185e-01],\n",
       "         [5.96478472e-01],\n",
       "         [5.96478472e-01],\n",
       "         [7.06671600e-01],\n",
       "         [7.06671600e-01],\n",
       "         [3.57173296e-01],\n",
       "         [3.57173296e-01],\n",
       "         [1.73515848e-01],\n",
       "         [1.73515848e-01],\n",
       "         [1.10323611e-01],\n",
       "         [1.10323611e-01],\n",
       "         [8.29545377e-01],\n",
       "         [8.29545377e-01],\n",
       "         [4.50627171e-01],\n",
       "         [4.50627171e-01],\n",
       "         [2.87673320e-02],\n",
       "         [2.87673320e-02],\n",
       "         [1.74774001e-01],\n",
       "         [1.74774001e-01],\n",
       "         [9.66553993e-02],\n",
       "         [9.66553993e-02],\n",
       "         [9.89343233e-01],\n",
       "         [9.89343233e-01],\n",
       "         [7.68598210e-01],\n",
       "         [7.68598210e-01],\n",
       "         [4.68888373e-01],\n",
       "         [4.68888373e-01],\n",
       "         [8.29440970e-01],\n",
       "         [8.29440970e-01],\n",
       "         [6.16818603e-01],\n",
       "         [6.16818603e-01],\n",
       "         [1.99617383e-01],\n",
       "         [1.99617383e-01],\n",
       "         [1.54919727e-01],\n",
       "         [1.54919727e-01],\n",
       "         [6.95900531e-01],\n",
       "         [6.95900531e-01],\n",
       "         [8.11038016e-01],\n",
       "         [8.11038016e-01],\n",
       "         [9.51635780e-01],\n",
       "         [9.51635780e-01],\n",
       "         [7.69397544e-01],\n",
       "         [7.69397544e-01],\n",
       "         [4.25536730e-01],\n",
       "         [4.25536730e-01],\n",
       "         [1.70677241e-02],\n",
       "         [1.70677241e-02],\n",
       "         [7.06480034e-01],\n",
       "         [7.06480034e-01],\n",
       "         [1.29423271e-01],\n",
       "         [1.29423271e-01],\n",
       "         [9.48714489e-01],\n",
       "         [9.48714489e-01],\n",
       "         [6.82572478e-02],\n",
       "         [6.82572478e-02],\n",
       "         [5.40093538e-01],\n",
       "         [5.40093538e-01],\n",
       "         [1.39394603e-01],\n",
       "         [1.39394603e-01],\n",
       "         [5.18407290e-01],\n",
       "         [5.18407290e-01],\n",
       "         [2.69552828e-01],\n",
       "         [2.69552828e-01],\n",
       "         [2.85410519e-01],\n",
       "         [2.85410519e-01],\n",
       "         [8.97429316e-01],\n",
       "         [8.97429316e-01],\n",
       "         [1.19529755e-01],\n",
       "         [1.19529755e-01],\n",
       "         [6.53303237e-01],\n",
       "         [6.53303237e-01],\n",
       "         [6.17055809e-01],\n",
       "         [6.17055809e-01],\n",
       "         [5.90373747e-01],\n",
       "         [5.90373747e-01],\n",
       "         [9.93060069e-01],\n",
       "         [9.93060069e-01],\n",
       "         [3.32178100e-01],\n",
       "         [3.32178100e-01],\n",
       "         [8.64453152e-01],\n",
       "         [8.64453152e-01],\n",
       "         [2.77796626e-01],\n",
       "         [2.77796626e-01],\n",
       "         [1.51395407e-01],\n",
       "         [1.51395407e-01],\n",
       "         [6.60784439e-01],\n",
       "         [6.60784439e-01],\n",
       "         [7.81205883e-01],\n",
       "         [7.81205883e-01],\n",
       "         [7.40237983e-01],\n",
       "         [7.40237983e-01],\n",
       "         [9.87298350e-01],\n",
       "         [9.87298350e-01],\n",
       "         [1.05877343e-01],\n",
       "         [1.05877343e-01],\n",
       "         [9.92482729e-01],\n",
       "         [9.92482729e-01],\n",
       "         [6.01286337e-01],\n",
       "         [6.01286337e-01],\n",
       "         [4.83260834e-01],\n",
       "         [4.83260834e-01],\n",
       "         [6.96854795e-01],\n",
       "         [6.96854795e-01],\n",
       "         [4.04773886e-01],\n",
       "         [4.04773886e-01],\n",
       "         [4.88343244e-01],\n",
       "         [4.88343244e-01],\n",
       "         [3.36602880e-02],\n",
       "         [3.36602880e-02],\n",
       "         [9.68923437e-02],\n",
       "         [9.68923437e-02],\n",
       "         [6.82111275e-01],\n",
       "         [6.82111275e-01],\n",
       "         [8.85833838e-01],\n",
       "         [8.85833838e-01],\n",
       "         [6.29500830e-01],\n",
       "         [6.29500830e-01],\n",
       "         [8.13196589e-01],\n",
       "         [8.13196589e-01],\n",
       "         [7.56321179e-01],\n",
       "         [7.56321179e-01],\n",
       "         [6.09476885e-01],\n",
       "         [6.09476885e-01],\n",
       "         [9.61826844e-01],\n",
       "         [9.61826844e-01],\n",
       "         [1.35534774e-01],\n",
       "         [1.35534774e-01],\n",
       "         [4.07567132e-01],\n",
       "         [4.07567132e-01],\n",
       "         [5.94545917e-01],\n",
       "         [5.94545917e-01],\n",
       "         [3.47916044e-01],\n",
       "         [3.47916044e-01],\n",
       "         [4.73812826e-01],\n",
       "         [4.73812826e-01],\n",
       "         [8.40710845e-01],\n",
       "         [8.40710845e-01],\n",
       "         [3.06948808e-01],\n",
       "         [3.06948808e-01],\n",
       "         [8.99082942e-01],\n",
       "         [8.99082942e-01],\n",
       "         [9.26704522e-01],\n",
       "         [9.26704522e-01],\n",
       "         [5.00325953e-01],\n",
       "         [5.00325953e-01],\n",
       "         [7.29861205e-01],\n",
       "         [7.29861205e-01],\n",
       "         [4.50140341e-01],\n",
       "         [4.50140341e-01],\n",
       "         [3.26579364e-01],\n",
       "         [3.26579364e-01],\n",
       "         [6.09974833e-01],\n",
       "         [6.09974833e-01],\n",
       "         [9.17535117e-01],\n",
       "         [9.17535117e-01],\n",
       "         [3.41605451e-01],\n",
       "         [3.41605451e-01],\n",
       "         [7.26516124e-01],\n",
       "         [7.26516124e-01],\n",
       "         [5.76061847e-01],\n",
       "         [5.76061847e-01],\n",
       "         [4.51201915e-01],\n",
       "         [4.51201915e-01],\n",
       "         [8.71733916e-01],\n",
       "         [8.71733916e-01],\n",
       "         [7.60908206e-01],\n",
       "         [7.60908206e-01],\n",
       "         [8.35593246e-01],\n",
       "         [8.35593246e-01],\n",
       "         [5.70269243e-01],\n",
       "         [5.70269243e-01],\n",
       "         [4.54382589e-01],\n",
       "         [4.54382589e-01],\n",
       "         [1.31056296e-01],\n",
       "         [1.31056296e-01],\n",
       "         [3.46546421e-01],\n",
       "         [3.46546421e-01],\n",
       "         [5.63722526e-01],\n",
       "         [5.63722526e-01]])}}"
      ]
     },
     "execution_count": 1,
     "metadata": {},
     "output_type": "execute_result"
    }
   ],
   "source": [
    "ds = load_by_id(run_id_a)\n",
    "ds.get_parameter_data('x1')"
   ]
  },
  {
   "cell_type": "code",
   "execution_count": null,
   "metadata": {},
   "outputs": [],
   "source": []
  }
 ],
 "metadata": {
  "kernelspec": {
   "display_name": "Python 3",
   "language": "python",
   "name": "python3"
  },
  "language_info": {
   "codemirror_mode": {
    "name": "ipython",
    "version": 3
   },
   "file_extension": ".py",
   "mimetype": "text/x-python",
   "name": "python",
   "nbconvert_exporter": "python",
   "pygments_lexer": "ipython3",
   "version": "3.7.10"
  },
  "nbsphinx": {
   "timeout": 600
  },
  "toc": {
   "base_numbering": 1,
   "nav_menu": {},
   "number_sections": true,
   "sideBar": true,
   "skip_h1_title": false,
   "title_cell": "Table of Contents",
   "title_sidebar": "Contents",
   "toc_cell": false,
   "toc_position": {},
   "toc_section_display": true,
   "toc_window_display": false
  },
  "varInspector": {
   "cols": {
    "lenName": 16,
    "lenType": 16,
    "lenVar": 40
   },
   "kernels_config": {
    "python": {
     "delete_cmd_postfix": "",
     "delete_cmd_prefix": "del ",
     "library": "var_list.py",
     "varRefreshCmd": "print(var_dic_list())"
    },
    "r": {
     "delete_cmd_postfix": ") ",
     "delete_cmd_prefix": "rm(",
     "library": "var_list.r",
     "varRefreshCmd": "cat(var_dic_list()) "
    }
   },
   "types_to_exclude": [
    "module",
    "function",
    "builtin_function_or_method",
    "instance",
    "_Feature"
   ],
   "window_display": false
  }
 },
 "nbformat": 4,
 "nbformat_minor": 2
}
