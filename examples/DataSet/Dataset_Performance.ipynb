{
 "cells": [
  {
   "cell_type": "markdown",
   "metadata": {},
   "source": [
    "# DataSet Performance\n",
    "\n",
    "This notebook shows the trade-off between inserting data into a database row-by-row and as binary blobs. Inserting the data row-by-row means that we have direct access to all the data and may perform queries directly on the values of the data. On the other hand, as we shall see, this is much slower than inserting the data directly as binary blobs."
   ]
  },
  {
   "cell_type": "markdown",
   "metadata": {},
   "source": [
    "First, we choose a new location for the database to ensure that we don't add a bunch of benchmarking data to the default one."
   ]
  },
  {
   "cell_type": "code",
   "execution_count": 1,
   "metadata": {
    "execution": {
     "iopub.execute_input": "2020-10-28T11:11:29.152085Z",
     "iopub.status.busy": "2020-10-28T11:11:29.151413Z",
     "iopub.status.idle": "2020-10-28T11:11:30.137527Z",
     "shell.execute_reply": "2020-10-28T11:11:30.136920Z"
    }
   },
   "outputs": [
    {
     "name": "stdout",
     "output_type": "stream",
     "text": [
      "Logging hadn't been started.\n",
      "Activating auto-logging. Current session state plus future input saved.\n",
      "Filename       : /home/vsts/.qcodes/logs/command_history.log\n",
      "Mode           : append\n",
      "Output logging : True\n",
      "Raw input log  : False\n",
      "Timestamping   : True\n",
      "State          : active\n"
     ]
    },
    {
     "name": "stdout",
     "output_type": "stream",
     "text": [
      "Qcodes Logfile : /home/vsts/.qcodes/logs/201028-14829-qcodes.log\n"
     ]
    }
   ],
   "source": [
    "import os\n",
    "cwd = os.getcwd()\n",
    "import qcodes as qc\n",
    "qc.config[\"core\"][\"db_location\"] = os.path.join(cwd, 'testing.db')\n"
   ]
  },
  {
   "cell_type": "code",
   "execution_count": 2,
   "metadata": {
    "execution": {
     "iopub.execute_input": "2020-10-28T11:11:30.143991Z",
     "iopub.status.busy": "2020-10-28T11:11:30.142546Z",
     "iopub.status.idle": "2020-10-28T11:11:30.315035Z",
     "shell.execute_reply": "2020-10-28T11:11:30.314142Z"
    }
   },
   "outputs": [],
   "source": [
    "%matplotlib inline\n",
    "import time\n",
    "import matplotlib.pyplot as plt\n",
    "import numpy as np\n",
    "\n",
    "import qcodes as qc\n",
    "from qcodes.instrument.parameter import ManualParameter\n",
    "from qcodes.dataset.experiment_container import (Experiment,\n",
    "                                                 load_last_experiment,\n",
    "                                                 new_experiment)\n",
    "from qcodes.dataset.sqlite.database import initialise_database\n",
    "from qcodes import load_or_create_experiment\n",
    "from qcodes.dataset.measurements import Measurement"
   ]
  },
  {
   "cell_type": "code",
   "execution_count": 3,
   "metadata": {
    "execution": {
     "iopub.execute_input": "2020-10-28T11:11:30.319132Z",
     "iopub.status.busy": "2020-10-28T11:11:30.318416Z",
     "iopub.status.idle": "2020-10-28T11:11:30.423074Z",
     "shell.execute_reply": "2020-10-28T11:11:30.422649Z"
    }
   },
   "outputs": [
    {
     "name": "stdout",
     "output_type": "stream",
     "text": [
      "\r",
      "0it [00:00, ?it/s]"
     ]
    },
    {
     "name": "stdout",
     "output_type": "stream",
     "text": [
      "\r",
      "Upgrading database; v0 -> v1: : 0it [00:00, ?it/s]"
     ]
    },
    {
     "name": "stdout",
     "output_type": "stream",
     "text": [
      "\r",
      "Upgrading database; v0 -> v1: : 0it [00:00, ?it/s]"
     ]
    },
    {
     "name": "stdout",
     "output_type": "stream",
     "text": [
      "\n",
      "\r",
      "  0%|          | 0/1 [00:00<?, ?it/s]"
     ]
    },
    {
     "name": "stdout",
     "output_type": "stream",
     "text": [
      "\r",
      "Upgrading database; v1 -> v2:   0%|          | 0/1 [00:00<?, ?it/s]"
     ]
    },
    {
     "name": "stdout",
     "output_type": "stream",
     "text": [
      "\r",
      "Upgrading database; v1 -> v2: 100%|██████████| 1/1 [00:00<00:00, 1010.19it/s]"
     ]
    },
    {
     "name": "stdout",
     "output_type": "stream",
     "text": [
      "\n",
      "\r",
      "0it [00:00, ?it/s]"
     ]
    },
    {
     "name": "stdout",
     "output_type": "stream",
     "text": [
      "\r",
      "Upgrading database; v2 -> v3: : 0it [00:00, ?it/s]"
     ]
    },
    {
     "name": "stdout",
     "output_type": "stream",
     "text": [
      "\r",
      "Upgrading database; v2 -> v3: : 0it [00:00, ?it/s]"
     ]
    },
    {
     "name": "stdout",
     "output_type": "stream",
     "text": [
      "\n",
      "\r",
      "0it [00:00, ?it/s]"
     ]
    },
    {
     "name": "stdout",
     "output_type": "stream",
     "text": [
      "\r",
      "Upgrading database; v3 -> v4: : 0it [00:00, ?it/s]"
     ]
    },
    {
     "name": "stdout",
     "output_type": "stream",
     "text": [
      "\r",
      "Upgrading database; v3 -> v4: : 0it [00:00, ?it/s]"
     ]
    },
    {
     "name": "stdout",
     "output_type": "stream",
     "text": [
      "\n",
      "\r",
      "  0%|          | 0/1 [00:00<?, ?it/s]"
     ]
    },
    {
     "name": "stdout",
     "output_type": "stream",
     "text": [
      "\r",
      "Upgrading database; v4 -> v5:   0%|          | 0/1 [00:00<?, ?it/s]"
     ]
    },
    {
     "name": "stdout",
     "output_type": "stream",
     "text": [
      "\r",
      "Upgrading database; v4 -> v5: 100%|██████████| 1/1 [00:00<00:00, 389.01it/s]"
     ]
    },
    {
     "name": "stdout",
     "output_type": "stream",
     "text": [
      "\n",
      "\r",
      "0it [00:00, ?it/s]"
     ]
    },
    {
     "name": "stdout",
     "output_type": "stream",
     "text": [
      "\r",
      "Upgrading database; v5 -> v6: : 0it [00:00, ?it/s]"
     ]
    },
    {
     "name": "stdout",
     "output_type": "stream",
     "text": [
      "\r",
      "Upgrading database; v5 -> v6: : 0it [00:00, ?it/s]"
     ]
    },
    {
     "name": "stdout",
     "output_type": "stream",
     "text": [
      "\n",
      "\r",
      "  0%|          | 0/1 [00:00<?, ?it/s]"
     ]
    },
    {
     "name": "stdout",
     "output_type": "stream",
     "text": [
      "\r",
      "Upgrading database; v6 -> v7:   0%|          | 0/1 [00:00<?, ?it/s]"
     ]
    },
    {
     "name": "stdout",
     "output_type": "stream",
     "text": [
      "\r",
      "Upgrading database; v6 -> v7: 100%|██████████| 1/1 [00:00<00:00, 309.52it/s]"
     ]
    },
    {
     "name": "stdout",
     "output_type": "stream",
     "text": [
      "\n",
      "\r",
      "  0%|          | 0/1 [00:00<?, ?it/s]"
     ]
    },
    {
     "name": "stdout",
     "output_type": "stream",
     "text": [
      "\r",
      "Upgrading database; v7 -> v8:   0%|          | 0/1 [00:00<?, ?it/s]"
     ]
    },
    {
     "name": "stdout",
     "output_type": "stream",
     "text": [
      "\r",
      "Upgrading database; v7 -> v8: 100%|██████████| 1/1 [00:00<00:00, 362.64it/s]"
     ]
    },
    {
     "name": "stdout",
     "output_type": "stream",
     "text": [
      "\n",
      "\r",
      "  0%|          | 0/1 [00:00<?, ?it/s]"
     ]
    },
    {
     "name": "stdout",
     "output_type": "stream",
     "text": [
      "\r",
      "Upgrading database; v8 -> v9:   0%|          | 0/1 [00:00<?, ?it/s]"
     ]
    },
    {
     "name": "stdout",
     "output_type": "stream",
     "text": [
      "\r",
      "Upgrading database; v8 -> v9: 100%|██████████| 1/1 [00:00<00:00, 500.16it/s]"
     ]
    },
    {
     "name": "stdout",
     "output_type": "stream",
     "text": [
      "\n"
     ]
    }
   ],
   "source": [
    "initialise_database()\n",
    "exp = load_or_create_experiment(experiment_name='tutorial_exp', sample_name=\"no sample\")"
   ]
  },
  {
   "cell_type": "markdown",
   "metadata": {},
   "source": [
    "Here, we define a simple function to benchmark the time it takes to insert n points with either numeric or array data type.\n",
    "We will compare both the time used to call ``add_result`` and the time used for the full measurement."
   ]
  },
  {
   "cell_type": "code",
   "execution_count": 4,
   "metadata": {
    "execution": {
     "iopub.execute_input": "2020-10-28T11:11:30.430263Z",
     "iopub.status.busy": "2020-10-28T11:11:30.429697Z",
     "iopub.status.idle": "2020-10-28T11:11:30.433759Z",
     "shell.execute_reply": "2020-10-28T11:11:30.433023Z"
    }
   },
   "outputs": [],
   "source": [
    "def insert_data(paramtype, npoints, nreps=1):\n",
    "\n",
    "    meas = Measurement(exp=exp)\n",
    "\n",
    "    x1 = ManualParameter('x1')\n",
    "    x2 = ManualParameter('x2')\n",
    "    x3 = ManualParameter('x3')\n",
    "    y1 = ManualParameter('y1')\n",
    "    y2 = ManualParameter('y2')\n",
    "\n",
    "    meas.register_parameter(x1, paramtype=paramtype)\n",
    "    meas.register_parameter(x2, paramtype=paramtype)\n",
    "    meas.register_parameter(x3, paramtype=paramtype)\n",
    "    meas.register_parameter(y1, setpoints=[x1, x2, x3],\n",
    "                            paramtype=paramtype)\n",
    "    meas.register_parameter(y2, setpoints=[x1, x2, x3],\n",
    "                            paramtype=paramtype)\n",
    "    start = time.perf_counter()\n",
    "    with meas.run() as datasaver:\n",
    "        start_adding = time.perf_counter()\n",
    "        for i in range(nreps):\n",
    "            datasaver.add_result((x1, np.random.rand(npoints)),\n",
    "                                 (x2, np.random.rand(npoints)),\n",
    "                                 (x3, np.random.rand(npoints)),\n",
    "                                 (y1, np.random.rand(npoints)),\n",
    "                                 (y2, np.random.rand(npoints)))\n",
    "        stop_adding = time.perf_counter()\n",
    "        run_id = datasaver.run_id\n",
    "    stop = time.perf_counter()\n",
    "    tot_time = stop - start\n",
    "    add_time = stop_adding - start_adding\n",
    "    return tot_time, add_time, run_id"
   ]
  },
  {
   "cell_type": "markdown",
   "metadata": {},
   "source": [
    "## Comparison between numeric/array data and binary blob"
   ]
  },
  {
   "cell_type": "markdown",
   "metadata": {},
   "source": [
    "### Case1: Short experiment time"
   ]
  },
  {
   "cell_type": "code",
   "execution_count": 5,
   "metadata": {
    "execution": {
     "iopub.execute_input": "2020-10-28T11:11:30.438857Z",
     "iopub.status.busy": "2020-10-28T11:11:30.438054Z",
     "iopub.status.idle": "2020-10-28T11:11:31.158761Z",
     "shell.execute_reply": "2020-10-28T11:11:31.158281Z"
    }
   },
   "outputs": [
    {
     "name": "stdout",
     "output_type": "stream",
     "text": [
      "Starting experimental run with id: 1. \n",
      "Starting experimental run with id: 2. \n",
      "Starting experimental run with id: 3. \n",
      "Starting experimental run with id: 4. \n",
      "Starting experimental run with id: 5. \n"
     ]
    },
    {
     "name": "stdout",
     "output_type": "stream",
     "text": [
      "Starting experimental run with id: 6. \n"
     ]
    },
    {
     "name": "stdout",
     "output_type": "stream",
     "text": [
      "Starting experimental run with id: 7. \n"
     ]
    },
    {
     "name": "stdout",
     "output_type": "stream",
     "text": [
      "Starting experimental run with id: 8. \n",
      "Starting experimental run with id: 9. \n"
     ]
    },
    {
     "name": "stdout",
     "output_type": "stream",
     "text": [
      "Starting experimental run with id: 10. \n"
     ]
    },
    {
     "name": "stdout",
     "output_type": "stream",
     "text": [
      "Starting experimental run with id: 11. \n"
     ]
    },
    {
     "name": "stdout",
     "output_type": "stream",
     "text": [
      "Starting experimental run with id: 12. \n",
      "Starting experimental run with id: 13. \n"
     ]
    },
    {
     "name": "stdout",
     "output_type": "stream",
     "text": [
      "Starting experimental run with id: 14. \n"
     ]
    }
   ],
   "source": [
    "sizes = [1,500,1000,2000,3000,4000,5000]\n",
    "t_numeric = []\n",
    "t_numeric_add = []\n",
    "t_array = []\n",
    "t_array_add = []\n",
    "for size in sizes:\n",
    "    tn, tna, run_id_n =  insert_data('numeric', size)\n",
    "    t_numeric.append(tn)\n",
    "    t_numeric_add.append(tna)\n",
    "\n",
    "    ta, taa, run_id_a =  insert_data('array', size)\n",
    "    t_array.append(ta)\n",
    "    t_array_add.append(taa)"
   ]
  },
  {
   "cell_type": "code",
   "execution_count": 6,
   "metadata": {
    "execution": {
     "iopub.execute_input": "2020-10-28T11:11:31.182617Z",
     "iopub.status.busy": "2020-10-28T11:11:31.175169Z",
     "iopub.status.idle": "2020-10-28T11:11:31.396269Z",
     "shell.execute_reply": "2020-10-28T11:11:31.395828Z"
    }
   },
   "outputs": [
    {
     "data": {
      "image/png": "[encoded data removed]",
      "text/plain": [
       "<Figure size 432x288 with 1 Axes>"
      ]
     },
     "metadata": {
      "needs_background": "light"
     },
     "output_type": "display_data"
    }
   ],
   "source": [
    "fig, ax = plt.subplots(1,1)\n",
    "ax.plot(sizes, t_numeric, 'o-', label='Inserting row-by-row')\n",
    "ax.plot(sizes, t_numeric_add, 'o-', label='Inserting row-by-row: add_result only')\n",
    "ax.plot(sizes, t_array, 'd-', label='Inserting as binary blob')\n",
    "ax.plot(sizes, t_array_add, 'd-', label='Inserting as binary blob: add_result only')\n",
    "ax.legend()\n",
    "ax.set_xlabel('Array length')\n",
    "ax.set_ylabel('Time (s)')\n",
    "fig.tight_layout()"
   ]
  },
  {
   "cell_type": "markdown",
   "metadata": {},
   "source": [
    "As shown in the latter figure, the time to setup and and close the experiment is approximately 0.4 sec. In case of small array sizes, the difference between inserting values of data as arrays and inserting them row-by-row is relatively unimportant. At larger array sizes, i.e. above 10000 points, the cost of writing data as individual datapoints starts to become important.\n"
   ]
  },
  {
   "cell_type": "markdown",
   "metadata": {},
   "source": [
    "### Case2: Long experiment time "
   ]
  },
  {
   "cell_type": "code",
   "execution_count": 7,
   "metadata": {
    "execution": {
     "iopub.execute_input": "2020-10-28T11:11:31.403443Z",
     "iopub.status.busy": "2020-10-28T11:11:31.402869Z",
     "iopub.status.idle": "2020-10-28T11:12:25.796801Z",
     "shell.execute_reply": "2020-10-28T11:12:25.797232Z"
    }
   },
   "outputs": [
    {
     "name": "stdout",
     "output_type": "stream",
     "text": [
      "Starting experimental run with id: 15. \n",
      "Starting experimental run with id: 16. \n",
      "Starting experimental run with id: 17. \n"
     ]
    },
    {
     "name": "stdout",
     "output_type": "stream",
     "text": [
      "Starting experimental run with id: 18. \n",
      "Starting experimental run with id: 19. \n"
     ]
    },
    {
     "name": "stdout",
     "output_type": "stream",
     "text": [
      "Starting experimental run with id: 20. \n"
     ]
    },
    {
     "name": "stdout",
     "output_type": "stream",
     "text": [
      "Starting experimental run with id: 21. \n"
     ]
    },
    {
     "name": "stdout",
     "output_type": "stream",
     "text": [
      "Starting experimental run with id: 22. \n"
     ]
    },
    {
     "name": "stdout",
     "output_type": "stream",
     "text": [
      "Starting experimental run with id: 23. \n"
     ]
    },
    {
     "name": "stdout",
     "output_type": "stream",
     "text": [
      "Starting experimental run with id: 24. \n"
     ]
    },
    {
     "name": "stdout",
     "output_type": "stream",
     "text": [
      "Starting experimental run with id: 25. \n"
     ]
    },
    {
     "name": "stdout",
     "output_type": "stream",
     "text": [
      "Starting experimental run with id: 26. \n"
     ]
    },
    {
     "name": "stdout",
     "output_type": "stream",
     "text": [
      "Starting experimental run with id: 27. \n"
     ]
    },
    {
     "name": "stdout",
     "output_type": "stream",
     "text": [
      "Starting experimental run with id: 28. \n"
     ]
    }
   ],
   "source": [
    "sizes = [1,500,1000,2000,3000,4000,5000]\n",
    "nreps = 100\n",
    "t_numeric = []\n",
    "t_numeric_add = []\n",
    "t_numeric_run_ids = []\n",
    "t_array = []\n",
    "t_array_add = []\n",
    "t_array_run_ids = []\n",
    "for size in sizes:\n",
    "    tn, tna, run_id_n =  insert_data('numeric', size, nreps=nreps)\n",
    "    t_numeric.append(tn)\n",
    "    t_numeric_add.append(tna)\n",
    "    t_numeric_run_ids.append(run_id_n)\n",
    "\n",
    "    ta, taa, run_id_a =  insert_data('array', size, nreps=nreps)\n",
    "    t_array.append(ta)\n",
    "    t_array_add.append(taa)\n",
    "    t_array_run_ids.append(run_id_a)"
   ]
  },
  {
   "cell_type": "code",
   "execution_count": 8,
   "metadata": {
    "execution": {
     "iopub.execute_input": "2020-10-28T11:12:25.827692Z",
     "iopub.status.busy": "2020-10-28T11:12:25.814131Z",
     "iopub.status.idle": "2020-10-28T11:12:26.025979Z",
     "shell.execute_reply": "2020-10-28T11:12:26.026595Z"
    },
    "scrolled": true
   },
   "outputs": [
    {
     "data": {
      "image/png": "[encoded data removed]",
      "text/plain": [
       "<Figure size 432x288 with 1 Axes>"
      ]
     },
     "metadata": {
      "needs_background": "light"
     },
     "output_type": "display_data"
    }
   ],
   "source": [
    "fig, ax = plt.subplots(1,1)\n",
    "ax.plot(sizes, t_numeric, 'o-', label='Inserting row-by-row')\n",
    "ax.plot(sizes, t_numeric_add, 'o-', label='Inserting row-by-row: add_result only')\n",
    "ax.plot(sizes, t_array, 'd-', label='Inserting as binary blob')\n",
    "ax.plot(sizes, t_array_add, 'd-', label='Inserting as binary blob: add_result only')\n",
    "ax.legend()\n",
    "ax.set_xlabel('Array length')\n",
    "ax.set_ylabel('Time (s)')\n",
    "fig.tight_layout()"
   ]
  },
  {
   "cell_type": "markdown",
   "metadata": {},
   "source": [
    "However, as we increase the length of the experiment, as seen here by repeating the insertion 100 times, we see a big difference between inserting values of the data row-by-row and inserting it as a binary blob."
   ]
  },
  {
   "cell_type": "markdown",
   "metadata": {},
   "source": [
    "## Loading the data "
   ]
  },
  {
   "cell_type": "code",
   "execution_count": 9,
   "metadata": {
    "execution": {
     "iopub.execute_input": "2020-10-28T11:12:26.033614Z",
     "iopub.status.busy": "2020-10-28T11:12:26.031507Z",
     "iopub.status.idle": "2020-10-28T11:12:26.035828Z",
     "shell.execute_reply": "2020-10-28T11:12:26.035098Z"
    }
   },
   "outputs": [],
   "source": [
    "from qcodes.dataset.data_set import load_by_id\n",
    "from qcodes.dataset.data_export import get_data_by_id"
   ]
  },
  {
   "cell_type": "markdown",
   "metadata": {},
   "source": [
    "As usual you can load the data by using the ``load_by_id`` function but you will notice that the different storage methods\n",
    "are reflected in shape of the data as it is retrieved. "
   ]
  },
  {
   "cell_type": "code",
   "execution_count": 10,
   "metadata": {
    "execution": {
     "iopub.execute_input": "2020-10-28T11:12:26.040542Z",
     "iopub.status.busy": "2020-10-28T11:12:26.039127Z",
     "iopub.status.idle": "2020-10-28T11:12:26.041192Z",
     "shell.execute_reply": "2020-10-28T11:12:26.041674Z"
    }
   },
   "outputs": [],
   "source": [
    "run_id_n = t_numeric_run_ids[0]\n",
    "run_id_a = t_array_run_ids[0]"
   ]
  },
  {
   "cell_type": "code",
   "execution_count": 11,
   "metadata": {
    "execution": {
     "iopub.execute_input": "2020-10-28T11:12:26.045075Z",
     "iopub.status.busy": "2020-10-28T11:12:26.044494Z",
     "iopub.status.idle": "2020-10-28T11:12:26.053158Z",
     "shell.execute_reply": "2020-10-28T11:12:26.052579Z"
    },
    "scrolled": true
   },
   "outputs": [
    {
     "data": {
      "text/plain": [
       "{'x1': {'x1': array([0.10675818, 0.10675818, 0.04677308, 0.04677308, 0.45284884,\n",
       "         0.45284884, 0.21114567, 0.21114567, 0.11826144, 0.11826144,\n",
       "         0.3260995 , 0.3260995 , 0.3204704 , 0.3204704 , 0.11728421,\n",
       "         0.11728421, 0.87118495, 0.87118495, 0.46162349, 0.46162349,\n",
       "         0.31348766, 0.31348766, 0.69148866, 0.69148866, 0.14500376,\n",
       "         0.14500376, 0.6656808 , 0.6656808 , 0.37557351, 0.37557351,\n",
       "         0.84352668, 0.84352668, 0.74968043, 0.74968043, 0.20462471,\n",
       "         0.20462471, 0.30739015, 0.30739015, 0.60740628, 0.60740628,\n",
       "         0.73991319, 0.73991319, 0.53682429, 0.53682429, 0.83584586,\n",
       "         0.83584586, 0.02864098, 0.02864098, 0.35325304, 0.35325304,\n",
       "         0.34810078, 0.34810078, 0.23084717, 0.23084717, 0.45456089,\n",
       "         0.45456089, 0.20231818, 0.20231818, 0.83484619, 0.83484619,\n",
       "         0.11003132, 0.11003132, 0.10096867, 0.10096867, 0.64251273,\n",
       "         0.64251273, 0.78281746, 0.78281746, 0.43000178, 0.43000178,\n",
       "         0.55189881, 0.55189881, 0.4619096 , 0.4619096 , 0.26942811,\n",
       "         0.26942811, 0.05854288, 0.05854288, 0.52134931, 0.52134931,\n",
       "         0.96880158, 0.96880158, 0.38415805, 0.38415805, 0.19976707,\n",
       "         0.19976707, 0.24038398, 0.24038398, 0.10983647, 0.10983647,\n",
       "         0.09458693, 0.09458693, 0.99056633, 0.99056633, 0.45322053,\n",
       "         0.45322053, 0.82440342, 0.82440342, 0.3372632 , 0.3372632 ,\n",
       "         0.01236834, 0.01236834, 0.39870327, 0.39870327, 0.75928835,\n",
       "         0.75928835, 0.16009905, 0.16009905, 0.36130246, 0.36130246,\n",
       "         0.67354104, 0.67354104, 0.24741913, 0.24741913, 0.34435181,\n",
       "         0.34435181, 0.07261722, 0.07261722, 0.6912888 , 0.6912888 ,\n",
       "         0.59150298, 0.59150298, 0.98609814, 0.98609814, 0.41219189,\n",
       "         0.41219189, 0.39454261, 0.39454261, 0.67907505, 0.67907505,\n",
       "         0.69548235, 0.69548235, 0.33539976, 0.33539976, 0.77883442,\n",
       "         0.77883442, 0.07364442, 0.07364442, 0.15020231, 0.15020231,\n",
       "         0.25945249, 0.25945249, 0.28705289, 0.28705289, 0.97910923,\n",
       "         0.97910923, 0.65306019, 0.65306019, 0.19968487, 0.19968487,\n",
       "         0.75754344, 0.75754344, 0.90271286, 0.90271286, 0.5695258 ,\n",
       "         0.5695258 , 0.4157977 , 0.4157977 , 0.26145161, 0.26145161,\n",
       "         0.81360145, 0.81360145, 0.22615146, 0.22615146, 0.58413629,\n",
       "         0.58413629, 0.6448277 , 0.6448277 , 0.63291702, 0.63291702,\n",
       "         0.47217651, 0.47217651, 0.84641986, 0.84641986, 0.73288395,\n",
       "         0.73288395, 0.21529432, 0.21529432, 0.84080629, 0.84080629,\n",
       "         0.63974597, 0.63974597, 0.57795983, 0.57795983, 0.32495502,\n",
       "         0.32495502, 0.24405099, 0.24405099, 0.30982385, 0.30982385,\n",
       "         0.52431848, 0.52431848, 0.69128892, 0.69128892, 0.5140425 ,\n",
       "         0.5140425 , 0.72404471, 0.72404471, 0.42841142, 0.42841142])}}"
      ]
     },
     "execution_count": 1,
     "metadata": {},
     "output_type": "execute_result"
    }
   ],
   "source": [
    "ds = load_by_id(run_id_n)\n",
    "ds.get_parameter_data('x1')"
   ]
  },
  {
   "cell_type": "markdown",
   "metadata": {},
   "source": [
    "And a dataset stored as binary arrays"
   ]
  },
  {
   "cell_type": "code",
   "execution_count": 12,
   "metadata": {
    "execution": {
     "iopub.execute_input": "2020-10-28T11:12:26.056536Z",
     "iopub.status.busy": "2020-10-28T11:12:26.055810Z",
     "iopub.status.idle": "2020-10-28T11:12:26.112020Z",
     "shell.execute_reply": "2020-10-28T11:12:26.111492Z"
    },
    "scrolled": true
   },
   "outputs": [
    {
     "data": {
      "text/plain": [
       "{'x1': {'x1': array([[0.98139652],\n",
       "         [0.98139652],\n",
       "         [0.96380557],\n",
       "         [0.96380557],\n",
       "         [0.52964784],\n",
       "         [0.52964784],\n",
       "         [0.25078755],\n",
       "         [0.25078755],\n",
       "         [0.84948288],\n",
       "         [0.84948288],\n",
       "         [0.13982687],\n",
       "         [0.13982687],\n",
       "         [0.60998343],\n",
       "         [0.60998343],\n",
       "         [0.93118242],\n",
       "         [0.93118242],\n",
       "         [0.06053703],\n",
       "         [0.06053703],\n",
       "         [0.39232462],\n",
       "         [0.39232462],\n",
       "         [0.93652106],\n",
       "         [0.93652106],\n",
       "         [0.01857207],\n",
       "         [0.01857207],\n",
       "         [0.65556088],\n",
       "         [0.65556088],\n",
       "         [0.81901239],\n",
       "         [0.81901239],\n",
       "         [0.39000317],\n",
       "         [0.39000317],\n",
       "         [0.76980495],\n",
       "         [0.76980495],\n",
       "         [0.63041374],\n",
       "         [0.63041374],\n",
       "         [0.72731067],\n",
       "         [0.72731067],\n",
       "         [0.76247431],\n",
       "         [0.76247431],\n",
       "         [0.83540196],\n",
       "         [0.83540196],\n",
       "         [0.76030641],\n",
       "         [0.76030641],\n",
       "         [0.37045167],\n",
       "         [0.37045167],\n",
       "         [0.79754081],\n",
       "         [0.79754081],\n",
       "         [0.81958326],\n",
       "         [0.81958326],\n",
       "         [0.77738823],\n",
       "         [0.77738823],\n",
       "         [0.57390119],\n",
       "         [0.57390119],\n",
       "         [0.35950698],\n",
       "         [0.35950698],\n",
       "         [0.4619007 ],\n",
       "         [0.4619007 ],\n",
       "         [0.74200669],\n",
       "         [0.74200669],\n",
       "         [0.34175677],\n",
       "         [0.34175677],\n",
       "         [0.8135854 ],\n",
       "         [0.8135854 ],\n",
       "         [0.73415509],\n",
       "         [0.73415509],\n",
       "         [0.71450893],\n",
       "         [0.71450893],\n",
       "         [0.35308119],\n",
       "         [0.35308119],\n",
       "         [0.53585118],\n",
       "         [0.53585118],\n",
       "         [0.28396397],\n",
       "         [0.28396397],\n",
       "         [0.33270003],\n",
       "         [0.33270003],\n",
       "         [0.75866903],\n",
       "         [0.75866903],\n",
       "         [0.42258281],\n",
       "         [0.42258281],\n",
       "         [0.15266496],\n",
       "         [0.15266496],\n",
       "         [0.4895166 ],\n",
       "         [0.4895166 ],\n",
       "         [0.78329288],\n",
       "         [0.78329288],\n",
       "         [0.31290678],\n",
       "         [0.31290678],\n",
       "         [0.51449971],\n",
       "         [0.51449971],\n",
       "         [0.22831911],\n",
       "         [0.22831911],\n",
       "         [0.58938317],\n",
       "         [0.58938317],\n",
       "         [0.50227607],\n",
       "         [0.50227607],\n",
       "         [0.60450842],\n",
       "         [0.60450842],\n",
       "         [0.44302568],\n",
       "         [0.44302568],\n",
       "         [0.07705499],\n",
       "         [0.07705499],\n",
       "         [0.05075728],\n",
       "         [0.05075728],\n",
       "         [0.34734166],\n",
       "         [0.34734166],\n",
       "         [0.25349158],\n",
       "         [0.25349158],\n",
       "         [0.93388163],\n",
       "         [0.93388163],\n",
       "         [0.08180061],\n",
       "         [0.08180061],\n",
       "         [0.97802691],\n",
       "         [0.97802691],\n",
       "         [0.46118571],\n",
       "         [0.46118571],\n",
       "         [0.69751719],\n",
       "         [0.69751719],\n",
       "         [0.77273422],\n",
       "         [0.77273422],\n",
       "         [0.47967135],\n",
       "         [0.47967135],\n",
       "         [0.90857577],\n",
       "         [0.90857577],\n",
       "         [0.82778811],\n",
       "         [0.82778811],\n",
       "         [0.49231821],\n",
       "         [0.49231821],\n",
       "         [0.67248625],\n",
       "         [0.67248625],\n",
       "         [0.6458966 ],\n",
       "         [0.6458966 ],\n",
       "         [0.78831517],\n",
       "         [0.78831517],\n",
       "         [0.13044752],\n",
       "         [0.13044752],\n",
       "         [0.33716542],\n",
       "         [0.33716542],\n",
       "         [0.83355665],\n",
       "         [0.83355665],\n",
       "         [0.84311208],\n",
       "         [0.84311208],\n",
       "         [0.09562079],\n",
       "         [0.09562079],\n",
       "         [0.89140784],\n",
       "         [0.89140784],\n",
       "         [0.21842786],\n",
       "         [0.21842786],\n",
       "         [0.68478013],\n",
       "         [0.68478013],\n",
       "         [0.63129442],\n",
       "         [0.63129442],\n",
       "         [0.63694253],\n",
       "         [0.63694253],\n",
       "         [0.3933542 ],\n",
       "         [0.3933542 ],\n",
       "         [0.93181181],\n",
       "         [0.93181181],\n",
       "         [0.17047945],\n",
       "         [0.17047945],\n",
       "         [0.04716759],\n",
       "         [0.04716759],\n",
       "         [0.49104807],\n",
       "         [0.49104807],\n",
       "         [0.8155113 ],\n",
       "         [0.8155113 ],\n",
       "         [0.23993249],\n",
       "         [0.23993249],\n",
       "         [0.31314303],\n",
       "         [0.31314303],\n",
       "         [0.4554568 ],\n",
       "         [0.4554568 ],\n",
       "         [0.43960975],\n",
       "         [0.43960975],\n",
       "         [0.66851875],\n",
       "         [0.66851875],\n",
       "         [0.06813536],\n",
       "         [0.06813536],\n",
       "         [0.53078725],\n",
       "         [0.53078725],\n",
       "         [0.97587223],\n",
       "         [0.97587223],\n",
       "         [0.40639343],\n",
       "         [0.40639343],\n",
       "         [0.82926433],\n",
       "         [0.82926433],\n",
       "         [0.63777025],\n",
       "         [0.63777025],\n",
       "         [0.3122556 ],\n",
       "         [0.3122556 ],\n",
       "         [0.86461378],\n",
       "         [0.86461378],\n",
       "         [0.55230776],\n",
       "         [0.55230776],\n",
       "         [0.14347747],\n",
       "         [0.14347747],\n",
       "         [0.6523613 ],\n",
       "         [0.6523613 ],\n",
       "         [0.90035799],\n",
       "         [0.90035799],\n",
       "         [0.1595178 ],\n",
       "         [0.1595178 ]])}}"
      ]
     },
     "execution_count": 1,
     "metadata": {},
     "output_type": "execute_result"
    }
   ],
   "source": [
    "ds = load_by_id(run_id_a)\n",
    "ds.get_parameter_data('x1')"
   ]
  },
  {
   "cell_type": "code",
   "execution_count": null,
   "metadata": {},
   "outputs": [],
   "source": []
  }
 ],
 "metadata": {
  "kernelspec": {
   "display_name": "Python 3",
   "language": "python",
   "name": "python3"
  },
  "language_info": {
   "codemirror_mode": {
    "name": "ipython",
    "version": 3
   },
   "file_extension": ".py",
   "mimetype": "text/x-python",
   "name": "python",
   "nbconvert_exporter": "python",
   "pygments_lexer": "ipython3",
   "version": "3.7.7"
  },
  "nbsphinx": {
   "timeout": 600
  },
  "toc": {
   "base_numbering": 1,
   "nav_menu": {},
   "number_sections": true,
   "sideBar": true,
   "skip_h1_title": false,
   "title_cell": "Table of Contents",
   "title_sidebar": "Contents",
   "toc_cell": false,
   "toc_position": {},
   "toc_section_display": true,
   "toc_window_display": false
  },
  "varInspector": {
   "cols": {
    "lenName": 16,
    "lenType": 16,
    "lenVar": 40
   },
   "kernels_config": {
    "python": {
     "delete_cmd_postfix": "",
     "delete_cmd_prefix": "del ",
     "library": "var_list.py",
     "varRefreshCmd": "print(var_dic_list())"
    },
    "r": {
     "delete_cmd_postfix": ") ",
     "delete_cmd_prefix": "rm(",
     "library": "var_list.r",
     "varRefreshCmd": "cat(var_dic_list()) "
    }
   },
   "types_to_exclude": [
    "module",
    "function",
    "builtin_function_or_method",
    "instance",
    "_Feature"
   ],
   "window_display": false
  }
 },
 "nbformat": 4,
 "nbformat_minor": 2
}
