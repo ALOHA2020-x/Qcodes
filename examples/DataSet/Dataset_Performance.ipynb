{
 "cells": [
  {
   "cell_type": "markdown",
   "metadata": {},
   "source": [
    "# DataSet Performance\n",
    "\n",
    "This notebook shows the trade-off between inserting data into a database row-by-row and as binary blobs. Inserting the data row-by-row means that we have direct access to all the data and may perform queries directly on the values of the data. On the other hand, as we shall see, this is much slower than inserting the data directly as binary blobs."
   ]
  },
  {
   "cell_type": "markdown",
   "metadata": {},
   "source": [
    "First, we choose a new location for the database to ensure that we don't add a bunch of benchmarking data to the default one."
   ]
  },
  {
   "cell_type": "code",
   "execution_count": 1,
   "metadata": {
    "execution": {
     "iopub.execute_input": "2021-02-16T09:21:55.825731Z",
     "iopub.status.busy": "2021-02-16T09:21:55.825070Z",
     "iopub.status.idle": "2021-02-16T09:21:56.883018Z",
     "shell.execute_reply": "2021-02-16T09:21:56.883544Z"
    }
   },
   "outputs": [
    {
     "name": "stdout",
     "output_type": "stream",
     "text": [
      "Logging hadn't been started.\n",
      "Activating auto-logging. Current session state plus future input saved.\n",
      "Filename       : /home/runner/.qcodes/logs/command_history.log\n",
      "Mode           : append\n",
      "Output logging : True\n",
      "Raw input log  : False\n",
      "Timestamping   : True\n",
      "State          : active\n"
     ]
    },
    {
     "name": "stdout",
     "output_type": "stream",
     "text": [
      "Qcodes Logfile : /home/runner/.qcodes/logs/210216-3902-qcodes.log\n"
     ]
    }
   ],
   "source": [
    "import os\n",
    "cwd = os.getcwd()\n",
    "import qcodes as qc\n",
    "qc.config[\"core\"][\"db_location\"] = os.path.join(cwd, 'testing.db')\n"
   ]
  },
  {
   "cell_type": "code",
   "execution_count": 2,
   "metadata": {
    "execution": {
     "iopub.execute_input": "2021-02-16T09:21:56.890894Z",
     "iopub.status.busy": "2021-02-16T09:21:56.889843Z",
     "iopub.status.idle": "2021-02-16T09:21:57.122359Z",
     "shell.execute_reply": "2021-02-16T09:21:57.122901Z"
    }
   },
   "outputs": [],
   "source": [
    "%matplotlib inline\n",
    "import time\n",
    "import matplotlib.pyplot as plt\n",
    "import numpy as np\n",
    "\n",
    "import qcodes as qc\n",
    "from qcodes.instrument.parameter import ManualParameter\n",
    "from qcodes.dataset.experiment_container import (Experiment,\n",
    "                                                 load_last_experiment,\n",
    "                                                 new_experiment)\n",
    "from qcodes.dataset.sqlite.database import initialise_database\n",
    "from qcodes import load_or_create_experiment\n",
    "from qcodes.dataset.measurements import Measurement"
   ]
  },
  {
   "cell_type": "code",
   "execution_count": 3,
   "metadata": {
    "execution": {
     "iopub.execute_input": "2021-02-16T09:21:57.131100Z",
     "iopub.status.busy": "2021-02-16T09:21:57.130128Z",
     "iopub.status.idle": "2021-02-16T09:21:57.320989Z",
     "shell.execute_reply": "2021-02-16T09:21:57.321561Z"
    }
   },
   "outputs": [
    {
     "name": "stdout",
     "output_type": "stream",
     "text": [
      "\r",
      "0it [00:00, ?it/s]"
     ]
    },
    {
     "name": "stdout",
     "output_type": "stream",
     "text": [
      "\r",
      "Upgrading database; v0 -> v1: : 0it [00:00, ?it/s]"
     ]
    },
    {
     "name": "stdout",
     "output_type": "stream",
     "text": [
      "\r",
      "Upgrading database; v0 -> v1: : 0it [00:00, ?it/s]"
     ]
    },
    {
     "name": "stdout",
     "output_type": "stream",
     "text": [
      "\n",
      "\r",
      "  0%|          | 0/1 [00:00<?, ?it/s]"
     ]
    },
    {
     "name": "stdout",
     "output_type": "stream",
     "text": [
      "\r",
      "Upgrading database; v1 -> v2:   0%|          | 0/1 [00:00<?, ?it/s]"
     ]
    },
    {
     "name": "stdout",
     "output_type": "stream",
     "text": [
      "\r",
      "Upgrading database; v1 -> v2: 100%|██████████| 1/1 [00:00<00:00, 530.19it/s]"
     ]
    },
    {
     "name": "stdout",
     "output_type": "stream",
     "text": [
      "\n",
      "\r",
      "0it [00:00, ?it/s]"
     ]
    },
    {
     "name": "stdout",
     "output_type": "stream",
     "text": [
      "\r",
      "Upgrading database; v2 -> v3: : 0it [00:00, ?it/s]"
     ]
    },
    {
     "name": "stdout",
     "output_type": "stream",
     "text": [
      "\r",
      "Upgrading database; v2 -> v3: : 0it [00:00, ?it/s]"
     ]
    },
    {
     "name": "stdout",
     "output_type": "stream",
     "text": [
      "\n",
      "\r",
      "0it [00:00, ?it/s]"
     ]
    },
    {
     "name": "stdout",
     "output_type": "stream",
     "text": [
      "\r",
      "Upgrading database; v3 -> v4: : 0it [00:00, ?it/s]"
     ]
    },
    {
     "name": "stdout",
     "output_type": "stream",
     "text": [
      "\r",
      "Upgrading database; v3 -> v4: : 0it [00:00, ?it/s]"
     ]
    },
    {
     "name": "stdout",
     "output_type": "stream",
     "text": [
      "\n",
      "\r",
      "  0%|          | 0/1 [00:00<?, ?it/s]"
     ]
    },
    {
     "name": "stdout",
     "output_type": "stream",
     "text": [
      "\r",
      "Upgrading database; v4 -> v5:   0%|          | 0/1 [00:00<?, ?it/s]"
     ]
    },
    {
     "name": "stdout",
     "output_type": "stream",
     "text": [
      "\r",
      "Upgrading database; v4 -> v5: 100%|██████████| 1/1 [00:00<00:00, 426.51it/s]"
     ]
    },
    {
     "name": "stdout",
     "output_type": "stream",
     "text": [
      "\n",
      "\r",
      "0it [00:00, ?it/s]"
     ]
    },
    {
     "name": "stdout",
     "output_type": "stream",
     "text": [
      "\r",
      "Upgrading database; v5 -> v6: : 0it [00:00, ?it/s]"
     ]
    },
    {
     "name": "stdout",
     "output_type": "stream",
     "text": [
      "\r",
      "Upgrading database; v5 -> v6: : 0it [00:00, ?it/s]"
     ]
    },
    {
     "name": "stdout",
     "output_type": "stream",
     "text": [
      "\n",
      "\r",
      "  0%|          | 0/1 [00:00<?, ?it/s]"
     ]
    },
    {
     "name": "stdout",
     "output_type": "stream",
     "text": [
      "\r",
      "Upgrading database; v6 -> v7:   0%|          | 0/1 [00:00<?, ?it/s]"
     ]
    },
    {
     "name": "stdout",
     "output_type": "stream",
     "text": [
      "\r",
      "Upgrading database; v6 -> v7: 100%|██████████| 1/1 [00:00<00:00, 198.36it/s]"
     ]
    },
    {
     "name": "stdout",
     "output_type": "stream",
     "text": [
      "\n",
      "\r",
      "  0%|          | 0/1 [00:00<?, ?it/s]"
     ]
    },
    {
     "name": "stdout",
     "output_type": "stream",
     "text": [
      "\r",
      "Upgrading database; v7 -> v8:   0%|          | 0/1 [00:00<?, ?it/s]"
     ]
    },
    {
     "name": "stdout",
     "output_type": "stream",
     "text": [
      "\r",
      "Upgrading database; v7 -> v8: 100%|██████████| 1/1 [00:00<00:00, 399.27it/s]"
     ]
    },
    {
     "name": "stdout",
     "output_type": "stream",
     "text": [
      "\n",
      "\r",
      "  0%|          | 0/1 [00:00<?, ?it/s]"
     ]
    },
    {
     "name": "stdout",
     "output_type": "stream",
     "text": [
      "\r",
      "Upgrading database; v8 -> v9:   0%|          | 0/1 [00:00<?, ?it/s]"
     ]
    },
    {
     "name": "stdout",
     "output_type": "stream",
     "text": [
      "\r",
      "Upgrading database; v8 -> v9: 100%|██████████| 1/1 [00:00<00:00, 422.86it/s]"
     ]
    },
    {
     "name": "stdout",
     "output_type": "stream",
     "text": [
      "\n"
     ]
    }
   ],
   "source": [
    "initialise_database()\n",
    "exp = load_or_create_experiment(experiment_name='tutorial_exp', sample_name=\"no sample\")"
   ]
  },
  {
   "cell_type": "markdown",
   "metadata": {},
   "source": [
    "Here, we define a simple function to benchmark the time it takes to insert n points with either numeric or array data type.\n",
    "We will compare both the time used to call ``add_result`` and the time used for the full measurement."
   ]
  },
  {
   "cell_type": "code",
   "execution_count": 4,
   "metadata": {
    "execution": {
     "iopub.execute_input": "2021-02-16T09:21:57.333347Z",
     "iopub.status.busy": "2021-02-16T09:21:57.331988Z",
     "iopub.status.idle": "2021-02-16T09:21:57.337094Z",
     "shell.execute_reply": "2021-02-16T09:21:57.336510Z"
    }
   },
   "outputs": [],
   "source": [
    "def insert_data(paramtype, npoints, nreps=1):\n",
    "\n",
    "    meas = Measurement(exp=exp)\n",
    "\n",
    "    x1 = ManualParameter('x1')\n",
    "    x2 = ManualParameter('x2')\n",
    "    x3 = ManualParameter('x3')\n",
    "    y1 = ManualParameter('y1')\n",
    "    y2 = ManualParameter('y2')\n",
    "\n",
    "    meas.register_parameter(x1, paramtype=paramtype)\n",
    "    meas.register_parameter(x2, paramtype=paramtype)\n",
    "    meas.register_parameter(x3, paramtype=paramtype)\n",
    "    meas.register_parameter(y1, setpoints=[x1, x2, x3],\n",
    "                            paramtype=paramtype)\n",
    "    meas.register_parameter(y2, setpoints=[x1, x2, x3],\n",
    "                            paramtype=paramtype)\n",
    "    start = time.perf_counter()\n",
    "    with meas.run() as datasaver:\n",
    "        start_adding = time.perf_counter()\n",
    "        for i in range(nreps):\n",
    "            datasaver.add_result((x1, np.random.rand(npoints)),\n",
    "                                 (x2, np.random.rand(npoints)),\n",
    "                                 (x3, np.random.rand(npoints)),\n",
    "                                 (y1, np.random.rand(npoints)),\n",
    "                                 (y2, np.random.rand(npoints)))\n",
    "        stop_adding = time.perf_counter()\n",
    "        run_id = datasaver.run_id\n",
    "    stop = time.perf_counter()\n",
    "    tot_time = stop - start\n",
    "    add_time = stop_adding - start_adding\n",
    "    return tot_time, add_time, run_id"
   ]
  },
  {
   "cell_type": "markdown",
   "metadata": {},
   "source": [
    "## Comparison between numeric/array data and binary blob"
   ]
  },
  {
   "cell_type": "markdown",
   "metadata": {},
   "source": [
    "### Case1: Short experiment time"
   ]
  },
  {
   "cell_type": "code",
   "execution_count": 5,
   "metadata": {
    "execution": {
     "iopub.execute_input": "2021-02-16T09:21:57.345274Z",
     "iopub.status.busy": "2021-02-16T09:21:57.343901Z",
     "iopub.status.idle": "2021-02-16T09:21:58.336102Z",
     "shell.execute_reply": "2021-02-16T09:21:58.336627Z"
    }
   },
   "outputs": [
    {
     "name": "stdout",
     "output_type": "stream",
     "text": [
      "Starting experimental run with id: 1. \n",
      "Starting experimental run with id: 2. \n"
     ]
    },
    {
     "name": "stdout",
     "output_type": "stream",
     "text": [
      "Starting experimental run with id: 3. \n"
     ]
    },
    {
     "name": "stdout",
     "output_type": "stream",
     "text": [
      "Starting experimental run with id: 4. \n"
     ]
    },
    {
     "name": "stdout",
     "output_type": "stream",
     "text": [
      "Starting experimental run with id: 5. \n"
     ]
    },
    {
     "name": "stdout",
     "output_type": "stream",
     "text": [
      "Starting experimental run with id: 6. \n",
      "Starting experimental run with id: 7. \n"
     ]
    },
    {
     "name": "stdout",
     "output_type": "stream",
     "text": [
      "Starting experimental run with id: 8. \n"
     ]
    },
    {
     "name": "stdout",
     "output_type": "stream",
     "text": [
      "Starting experimental run with id: 9. \n"
     ]
    },
    {
     "name": "stdout",
     "output_type": "stream",
     "text": [
      "Starting experimental run with id: 10. \n",
      "Starting experimental run with id: 11. \n"
     ]
    },
    {
     "name": "stdout",
     "output_type": "stream",
     "text": [
      "Starting experimental run with id: 12. \n",
      "Starting experimental run with id: 13. \n"
     ]
    },
    {
     "name": "stdout",
     "output_type": "stream",
     "text": [
      "Starting experimental run with id: 14. \n"
     ]
    }
   ],
   "source": [
    "sizes = [1,500,1000,2000,3000,4000,5000]\n",
    "t_numeric = []\n",
    "t_numeric_add = []\n",
    "t_array = []\n",
    "t_array_add = []\n",
    "for size in sizes:\n",
    "    tn, tna, run_id_n =  insert_data('numeric', size)\n",
    "    t_numeric.append(tn)\n",
    "    t_numeric_add.append(tna)\n",
    "\n",
    "    ta, taa, run_id_a =  insert_data('array', size)\n",
    "    t_array.append(ta)\n",
    "    t_array_add.append(taa)"
   ]
  },
  {
   "cell_type": "code",
   "execution_count": 6,
   "metadata": {
    "execution": {
     "iopub.execute_input": "2021-02-16T09:21:58.357273Z",
     "iopub.status.busy": "2021-02-16T09:21:58.356572Z",
     "iopub.status.idle": "2021-02-16T09:21:58.611315Z",
     "shell.execute_reply": "2021-02-16T09:21:58.612051Z"
    }
   },
   "outputs": [
    {
     "data": {
      "image/png": "[encoded data removed]",
      "text/plain": [
       "<Figure size 432x288 with 1 Axes>"
      ]
     },
     "metadata": {
      "needs_background": "light"
     },
     "output_type": "display_data"
    }
   ],
   "source": [
    "fig, ax = plt.subplots(1,1)\n",
    "ax.plot(sizes, t_numeric, 'o-', label='Inserting row-by-row')\n",
    "ax.plot(sizes, t_numeric_add, 'o-', label='Inserting row-by-row: add_result only')\n",
    "ax.plot(sizes, t_array, 'd-', label='Inserting as binary blob')\n",
    "ax.plot(sizes, t_array_add, 'd-', label='Inserting as binary blob: add_result only')\n",
    "ax.legend()\n",
    "ax.set_xlabel('Array length')\n",
    "ax.set_ylabel('Time (s)')\n",
    "fig.tight_layout()"
   ]
  },
  {
   "cell_type": "markdown",
   "metadata": {},
   "source": [
    "As shown in the latter figure, the time to setup and and close the experiment is approximately 0.4 sec. In case of small array sizes, the difference between inserting values of data as arrays and inserting them row-by-row is relatively unimportant. At larger array sizes, i.e. above 10000 points, the cost of writing data as individual datapoints starts to become important.\n"
   ]
  },
  {
   "cell_type": "markdown",
   "metadata": {},
   "source": [
    "### Case2: Long experiment time "
   ]
  },
  {
   "cell_type": "code",
   "execution_count": 7,
   "metadata": {
    "execution": {
     "iopub.execute_input": "2021-02-16T09:21:58.619109Z",
     "iopub.status.busy": "2021-02-16T09:21:58.617197Z",
     "iopub.status.idle": "2021-02-16T09:23:05.182635Z",
     "shell.execute_reply": "2021-02-16T09:23:05.181440Z"
    }
   },
   "outputs": [
    {
     "name": "stdout",
     "output_type": "stream",
     "text": [
      "Starting experimental run with id: 15. \n",
      "Starting experimental run with id: 16. \n"
     ]
    },
    {
     "name": "stdout",
     "output_type": "stream",
     "text": [
      "Starting experimental run with id: 17. \n"
     ]
    },
    {
     "name": "stdout",
     "output_type": "stream",
     "text": [
      "Starting experimental run with id: 18. \n"
     ]
    },
    {
     "name": "stdout",
     "output_type": "stream",
     "text": [
      "Starting experimental run with id: 19. \n"
     ]
    },
    {
     "name": "stdout",
     "output_type": "stream",
     "text": [
      "Starting experimental run with id: 20. \n"
     ]
    },
    {
     "name": "stdout",
     "output_type": "stream",
     "text": [
      "Starting experimental run with id: 21. \n"
     ]
    },
    {
     "name": "stdout",
     "output_type": "stream",
     "text": [
      "Starting experimental run with id: 22. \n"
     ]
    },
    {
     "name": "stdout",
     "output_type": "stream",
     "text": [
      "Starting experimental run with id: 23. \n"
     ]
    },
    {
     "name": "stdout",
     "output_type": "stream",
     "text": [
      "Starting experimental run with id: 24. \n"
     ]
    },
    {
     "name": "stdout",
     "output_type": "stream",
     "text": [
      "Starting experimental run with id: 25. \n"
     ]
    },
    {
     "name": "stdout",
     "output_type": "stream",
     "text": [
      "Starting experimental run with id: 26. \n"
     ]
    },
    {
     "name": "stdout",
     "output_type": "stream",
     "text": [
      "Starting experimental run with id: 27. \n"
     ]
    },
    {
     "name": "stdout",
     "output_type": "stream",
     "text": [
      "Starting experimental run with id: 28. \n"
     ]
    }
   ],
   "source": [
    "sizes = [1,500,1000,2000,3000,4000,5000]\n",
    "nreps = 100\n",
    "t_numeric = []\n",
    "t_numeric_add = []\n",
    "t_numeric_run_ids = []\n",
    "t_array = []\n",
    "t_array_add = []\n",
    "t_array_run_ids = []\n",
    "for size in sizes:\n",
    "    tn, tna, run_id_n =  insert_data('numeric', size, nreps=nreps)\n",
    "    t_numeric.append(tn)\n",
    "    t_numeric_add.append(tna)\n",
    "    t_numeric_run_ids.append(run_id_n)\n",
    "\n",
    "    ta, taa, run_id_a =  insert_data('array', size, nreps=nreps)\n",
    "    t_array.append(ta)\n",
    "    t_array_add.append(taa)\n",
    "    t_array_run_ids.append(run_id_a)"
   ]
  },
  {
   "cell_type": "code",
   "execution_count": 8,
   "metadata": {
    "execution": {
     "iopub.execute_input": "2021-02-16T09:23:05.208686Z",
     "iopub.status.busy": "2021-02-16T09:23:05.204799Z",
     "iopub.status.idle": "2021-02-16T09:23:05.449026Z",
     "shell.execute_reply": "2021-02-16T09:23:05.449864Z"
    },
    "scrolled": true
   },
   "outputs": [
    {
     "data": {
      "image/png": "[encoded data removed]",
      "text/plain": [
       "<Figure size 432x288 with 1 Axes>"
      ]
     },
     "metadata": {
      "needs_background": "light"
     },
     "output_type": "display_data"
    }
   ],
   "source": [
    "fig, ax = plt.subplots(1,1)\n",
    "ax.plot(sizes, t_numeric, 'o-', label='Inserting row-by-row')\n",
    "ax.plot(sizes, t_numeric_add, 'o-', label='Inserting row-by-row: add_result only')\n",
    "ax.plot(sizes, t_array, 'd-', label='Inserting as binary blob')\n",
    "ax.plot(sizes, t_array_add, 'd-', label='Inserting as binary blob: add_result only')\n",
    "ax.legend()\n",
    "ax.set_xlabel('Array length')\n",
    "ax.set_ylabel('Time (s)')\n",
    "fig.tight_layout()"
   ]
  },
  {
   "cell_type": "markdown",
   "metadata": {},
   "source": [
    "However, as we increase the length of the experiment, as seen here by repeating the insertion 100 times, we see a big difference between inserting values of the data row-by-row and inserting it as a binary blob."
   ]
  },
  {
   "cell_type": "markdown",
   "metadata": {},
   "source": [
    "## Loading the data "
   ]
  },
  {
   "cell_type": "code",
   "execution_count": 9,
   "metadata": {
    "execution": {
     "iopub.execute_input": "2021-02-16T09:23:05.455312Z",
     "iopub.status.busy": "2021-02-16T09:23:05.453963Z",
     "iopub.status.idle": "2021-02-16T09:23:05.457760Z",
     "shell.execute_reply": "2021-02-16T09:23:05.458347Z"
    }
   },
   "outputs": [],
   "source": [
    "from qcodes.dataset.data_set import load_by_id\n",
    "from qcodes.dataset.data_export import get_data_by_id"
   ]
  },
  {
   "cell_type": "markdown",
   "metadata": {},
   "source": [
    "As usual you can load the data by using the ``load_by_id`` function but you will notice that the different storage methods\n",
    "are reflected in shape of the data as it is retrieved. "
   ]
  },
  {
   "cell_type": "code",
   "execution_count": 10,
   "metadata": {
    "execution": {
     "iopub.execute_input": "2021-02-16T09:23:05.463813Z",
     "iopub.status.busy": "2021-02-16T09:23:05.462217Z",
     "iopub.status.idle": "2021-02-16T09:23:05.464544Z",
     "shell.execute_reply": "2021-02-16T09:23:05.465177Z"
    }
   },
   "outputs": [],
   "source": [
    "run_id_n = t_numeric_run_ids[0]\n",
    "run_id_a = t_array_run_ids[0]"
   ]
  },
  {
   "cell_type": "code",
   "execution_count": 11,
   "metadata": {
    "execution": {
     "iopub.execute_input": "2021-02-16T09:23:05.470903Z",
     "iopub.status.busy": "2021-02-16T09:23:05.470159Z",
     "iopub.status.idle": "2021-02-16T09:23:05.481783Z",
     "shell.execute_reply": "2021-02-16T09:23:05.482434Z"
    },
    "scrolled": true
   },
   "outputs": [
    {
     "data": {
      "text/plain": [
       "{'x1': {'x1': array([0.23599493, 0.23599493, 0.44598502, 0.44598502, 0.1866124 ,\n",
       "         0.1866124 , 0.95743167, 0.95743167, 0.71582451, 0.71582451,\n",
       "         0.37697375, 0.37697375, 0.45273027, 0.45273027, 0.7805783 ,\n",
       "         0.7805783 , 0.29992574, 0.29992574, 0.71333397, 0.71333397,\n",
       "         0.23637363, 0.23637363, 0.67931842, 0.67931842, 0.00666166,\n",
       "         0.00666166, 0.22696252, 0.22696252, 0.59413589, 0.59413589,\n",
       "         0.8746175 , 0.8746175 , 0.53905661, 0.53905661, 0.57290715,\n",
       "         0.57290715, 0.71277685, 0.71277685, 0.47798178, 0.47798178,\n",
       "         0.79482837, 0.79482837, 0.56666474, 0.56666474, 0.17108288,\n",
       "         0.17108288, 0.09462355, 0.09462355, 0.00303959, 0.00303959,\n",
       "         0.04975269, 0.04975269, 0.85595553, 0.85595553, 0.74193783,\n",
       "         0.74193783, 0.70965102, 0.70965102, 0.49556269, 0.49556269,\n",
       "         0.34516044, 0.34516044, 0.86980585, 0.86980585, 0.53158763,\n",
       "         0.53158763, 0.21636177, 0.21636177, 0.17224054, 0.17224054,\n",
       "         0.22843848, 0.22843848, 0.66713757, 0.66713757, 0.8977217 ,\n",
       "         0.8977217 , 0.38066868, 0.38066868, 0.88354142, 0.88354142,\n",
       "         0.06166543, 0.06166543, 0.28778078, 0.28778078, 0.41545709,\n",
       "         0.41545709, 0.83957815, 0.83957815, 0.13859011, 0.13859011,\n",
       "         0.3285186 , 0.3285186 , 0.70818471, 0.70818471, 0.82885834,\n",
       "         0.82885834, 0.52435144, 0.52435144, 0.15182615, 0.15182615,\n",
       "         0.89619148, 0.89619148, 0.29715302, 0.29715302, 0.41249762,\n",
       "         0.41249762, 0.03453654, 0.03453654, 0.19889996, 0.19889996,\n",
       "         0.50971046, 0.50971046, 0.09716769, 0.09716769, 0.70400261,\n",
       "         0.70400261, 0.42154705, 0.42154705, 0.76112854, 0.76112854,\n",
       "         0.81137564, 0.81137564, 0.28672972, 0.28672972, 0.00311838,\n",
       "         0.00311838, 0.30151576, 0.30151576, 0.89623644, 0.89623644,\n",
       "         0.78065243, 0.78065243, 0.76934427, 0.76934427, 0.49146795,\n",
       "         0.49146795, 0.54784645, 0.54784645, 0.15540075, 0.15540075,\n",
       "         0.30385772, 0.30385772, 0.27257316, 0.27257316, 0.91198771,\n",
       "         0.91198771, 0.22150229, 0.22150229, 0.15355928, 0.15355928,\n",
       "         0.33158205, 0.33158205, 0.94481568, 0.94481568, 0.86042088,\n",
       "         0.86042088, 0.76003268, 0.76003268, 0.97293237, 0.97293237,\n",
       "         0.08378524, 0.08378524, 0.68778399, 0.68778399, 0.56492406,\n",
       "         0.56492406, 0.51616826, 0.51616826, 0.83721162, 0.83721162,\n",
       "         0.72068058, 0.72068058, 0.12735743, 0.12735743, 0.19467539,\n",
       "         0.19467539, 0.80397602, 0.80397602, 0.37839781, 0.37839781,\n",
       "         0.88731636, 0.88731636, 0.61783209, 0.61783209, 0.80704684,\n",
       "         0.80704684, 0.083882  , 0.083882  , 0.79695311, 0.79695311,\n",
       "         0.09593348, 0.09593348, 0.32514432, 0.32514432, 0.52163078,\n",
       "         0.52163078, 0.09324436, 0.09324436, 0.81837999, 0.81837999])}}"
      ]
     },
     "execution_count": 1,
     "metadata": {},
     "output_type": "execute_result"
    }
   ],
   "source": [
    "ds = load_by_id(run_id_n)\n",
    "ds.get_parameter_data('x1')"
   ]
  },
  {
   "cell_type": "markdown",
   "metadata": {},
   "source": [
    "And a dataset stored as binary arrays"
   ]
  },
  {
   "cell_type": "code",
   "execution_count": 12,
   "metadata": {
    "execution": {
     "iopub.execute_input": "2021-02-16T09:23:05.486623Z",
     "iopub.status.busy": "2021-02-16T09:23:05.485949Z",
     "iopub.status.idle": "2021-02-16T09:23:05.558443Z",
     "shell.execute_reply": "2021-02-16T09:23:05.558959Z"
    },
    "scrolled": true
   },
   "outputs": [
    {
     "data": {
      "text/plain": [
       "{'x1': {'x1': array([[1.22127516e-02],\n",
       "         [1.22127516e-02],\n",
       "         [6.64013426e-01],\n",
       "         [6.64013426e-01],\n",
       "         [3.85433716e-01],\n",
       "         [3.85433716e-01],\n",
       "         [8.68271803e-01],\n",
       "         [8.68271803e-01],\n",
       "         [4.54006059e-01],\n",
       "         [4.54006059e-01],\n",
       "         [2.43277314e-01],\n",
       "         [2.43277314e-01],\n",
       "         [7.33572590e-01],\n",
       "         [7.33572590e-01],\n",
       "         [9.74782000e-01],\n",
       "         [9.74782000e-01],\n",
       "         [4.33439367e-01],\n",
       "         [4.33439367e-01],\n",
       "         [9.75756822e-01],\n",
       "         [9.75756822e-01],\n",
       "         [4.07995463e-01],\n",
       "         [4.07995463e-01],\n",
       "         [5.66327412e-01],\n",
       "         [5.66327412e-01],\n",
       "         [9.66030523e-01],\n",
       "         [9.66030523e-01],\n",
       "         [5.69596957e-01],\n",
       "         [5.69596957e-01],\n",
       "         [2.66677585e-01],\n",
       "         [2.66677585e-01],\n",
       "         [4.20785761e-01],\n",
       "         [4.20785761e-01],\n",
       "         [8.59692338e-01],\n",
       "         [8.59692338e-01],\n",
       "         [6.60185058e-01],\n",
       "         [6.60185058e-01],\n",
       "         [8.07394641e-01],\n",
       "         [8.07394641e-01],\n",
       "         [8.16720233e-01],\n",
       "         [8.16720233e-01],\n",
       "         [8.04135553e-01],\n",
       "         [8.04135553e-01],\n",
       "         [3.44480758e-01],\n",
       "         [3.44480758e-01],\n",
       "         [5.86931310e-02],\n",
       "         [5.86931310e-02],\n",
       "         [2.62295739e-01],\n",
       "         [2.62295739e-01],\n",
       "         [3.68881528e-01],\n",
       "         [3.68881528e-01],\n",
       "         [1.73635811e-02],\n",
       "         [1.73635811e-02],\n",
       "         [2.58471886e-01],\n",
       "         [2.58471886e-01],\n",
       "         [5.41757153e-01],\n",
       "         [5.41757153e-01],\n",
       "         [3.64030034e-01],\n",
       "         [3.64030034e-01],\n",
       "         [7.05147878e-02],\n",
       "         [7.05147878e-02],\n",
       "         [9.79496290e-01],\n",
       "         [9.79496290e-01],\n",
       "         [5.64758420e-01],\n",
       "         [5.64758420e-01],\n",
       "         [2.08215220e-01],\n",
       "         [2.08215220e-01],\n",
       "         [2.69822777e-03],\n",
       "         [2.69822777e-03],\n",
       "         [6.32183521e-01],\n",
       "         [6.32183521e-01],\n",
       "         [5.45387715e-01],\n",
       "         [5.45387715e-01],\n",
       "         [5.69037917e-01],\n",
       "         [5.69037917e-01],\n",
       "         [4.98524510e-01],\n",
       "         [4.98524510e-01],\n",
       "         [2.51195524e-02],\n",
       "         [2.51195524e-02],\n",
       "         [7.68096833e-01],\n",
       "         [7.68096833e-01],\n",
       "         [2.76905212e-04],\n",
       "         [2.76905212e-04],\n",
       "         [2.50462649e-01],\n",
       "         [2.50462649e-01],\n",
       "         [2.13875455e-01],\n",
       "         [2.13875455e-01],\n",
       "         [3.10836472e-01],\n",
       "         [3.10836472e-01],\n",
       "         [1.32925344e-02],\n",
       "         [1.32925344e-02],\n",
       "         [5.09144080e-01],\n",
       "         [5.09144080e-01],\n",
       "         [6.32133783e-02],\n",
       "         [6.32133783e-02],\n",
       "         [6.48525186e-01],\n",
       "         [6.48525186e-01],\n",
       "         [4.05176477e-01],\n",
       "         [4.05176477e-01],\n",
       "         [6.84726940e-01],\n",
       "         [6.84726940e-01],\n",
       "         [5.70017364e-01],\n",
       "         [5.70017364e-01],\n",
       "         [2.08569073e-02],\n",
       "         [2.08569073e-02],\n",
       "         [6.94597730e-01],\n",
       "         [6.94597730e-01],\n",
       "         [4.94617230e-01],\n",
       "         [4.94617230e-01],\n",
       "         [9.79333387e-01],\n",
       "         [9.79333387e-01],\n",
       "         [7.74604503e-02],\n",
       "         [7.74604503e-02],\n",
       "         [4.89912598e-01],\n",
       "         [4.89912598e-01],\n",
       "         [9.08599383e-01],\n",
       "         [9.08599383e-01],\n",
       "         [4.09333238e-01],\n",
       "         [4.09333238e-01],\n",
       "         [4.94193805e-01],\n",
       "         [4.94193805e-01],\n",
       "         [5.52722616e-01],\n",
       "         [5.52722616e-01],\n",
       "         [5.04445926e-01],\n",
       "         [5.04445926e-01],\n",
       "         [2.04859694e-01],\n",
       "         [2.04859694e-01],\n",
       "         [2.59192382e-01],\n",
       "         [2.59192382e-01],\n",
       "         [9.83370828e-01],\n",
       "         [9.83370828e-01],\n",
       "         [7.24133660e-01],\n",
       "         [7.24133660e-01],\n",
       "         [6.78553519e-01],\n",
       "         [6.78553519e-01],\n",
       "         [6.15305644e-01],\n",
       "         [6.15305644e-01],\n",
       "         [4.81405100e-01],\n",
       "         [4.81405100e-01],\n",
       "         [7.02585502e-01],\n",
       "         [7.02585502e-01],\n",
       "         [1.42338699e-01],\n",
       "         [1.42338699e-01],\n",
       "         [1.28479227e-01],\n",
       "         [1.28479227e-01],\n",
       "         [5.11523216e-01],\n",
       "         [5.11523216e-01],\n",
       "         [5.24522134e-01],\n",
       "         [5.24522134e-01],\n",
       "         [8.17021829e-01],\n",
       "         [8.17021829e-01],\n",
       "         [8.19957958e-01],\n",
       "         [8.19957958e-01],\n",
       "         [6.12653807e-01],\n",
       "         [6.12653807e-01],\n",
       "         [6.66303149e-01],\n",
       "         [6.66303149e-01],\n",
       "         [4.86799928e-02],\n",
       "         [4.86799928e-02],\n",
       "         [2.20666934e-01],\n",
       "         [2.20666934e-01],\n",
       "         [4.29388670e-01],\n",
       "         [4.29388670e-01],\n",
       "         [5.48207261e-01],\n",
       "         [5.48207261e-01],\n",
       "         [5.40149415e-01],\n",
       "         [5.40149415e-01],\n",
       "         [1.18133294e-01],\n",
       "         [1.18133294e-01],\n",
       "         [7.32989370e-01],\n",
       "         [7.32989370e-01],\n",
       "         [2.81558213e-01],\n",
       "         [2.81558213e-01],\n",
       "         [3.43878607e-01],\n",
       "         [3.43878607e-01],\n",
       "         [8.52059430e-01],\n",
       "         [8.52059430e-01],\n",
       "         [4.66167171e-01],\n",
       "         [4.66167171e-01],\n",
       "         [3.91540848e-01],\n",
       "         [3.91540848e-01],\n",
       "         [5.68509359e-01],\n",
       "         [5.68509359e-01],\n",
       "         [5.07921916e-01],\n",
       "         [5.07921916e-01],\n",
       "         [5.91546728e-01],\n",
       "         [5.91546728e-01],\n",
       "         [4.58888048e-01],\n",
       "         [4.58888048e-01],\n",
       "         [1.37874330e-01],\n",
       "         [1.37874330e-01],\n",
       "         [4.91163540e-02],\n",
       "         [4.91163540e-02],\n",
       "         [8.08737835e-02],\n",
       "         [8.08737835e-02],\n",
       "         [8.19955378e-01],\n",
       "         [8.19955378e-01],\n",
       "         [3.93914291e-01],\n",
       "         [3.93914291e-01],\n",
       "         [6.26172253e-01],\n",
       "         [6.26172253e-01]])}}"
      ]
     },
     "execution_count": 1,
     "metadata": {},
     "output_type": "execute_result"
    }
   ],
   "source": [
    "ds = load_by_id(run_id_a)\n",
    "ds.get_parameter_data('x1')"
   ]
  },
  {
   "cell_type": "code",
   "execution_count": null,
   "metadata": {},
   "outputs": [],
   "source": []
  }
 ],
 "metadata": {
  "kernelspec": {
   "display_name": "Python 3",
   "language": "python",
   "name": "python3"
  },
  "language_info": {
   "codemirror_mode": {
    "name": "ipython",
    "version": 3
   },
   "file_extension": ".py",
   "mimetype": "text/x-python",
   "name": "python",
   "nbconvert_exporter": "python",
   "pygments_lexer": "ipython3",
   "version": "3.7.9"
  },
  "nbsphinx": {
   "timeout": 600
  },
  "toc": {
   "base_numbering": 1,
   "nav_menu": {},
   "number_sections": true,
   "sideBar": true,
   "skip_h1_title": false,
   "title_cell": "Table of Contents",
   "title_sidebar": "Contents",
   "toc_cell": false,
   "toc_position": {},
   "toc_section_display": true,
   "toc_window_display": false
  },
  "varInspector": {
   "cols": {
    "lenName": 16,
    "lenType": 16,
    "lenVar": 40
   },
   "kernels_config": {
    "python": {
     "delete_cmd_postfix": "",
     "delete_cmd_prefix": "del ",
     "library": "var_list.py",
     "varRefreshCmd": "print(var_dic_list())"
    },
    "r": {
     "delete_cmd_postfix": ") ",
     "delete_cmd_prefix": "rm(",
     "library": "var_list.r",
     "varRefreshCmd": "cat(var_dic_list()) "
    }
   },
   "types_to_exclude": [
    "module",
    "function",
    "builtin_function_or_method",
    "instance",
    "_Feature"
   ],
   "window_display": false
  }
 },
 "nbformat": 4,
 "nbformat_minor": 2
}
