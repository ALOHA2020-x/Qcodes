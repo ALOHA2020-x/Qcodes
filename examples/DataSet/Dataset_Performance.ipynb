{
 "cells": [
  {
   "cell_type": "markdown",
   "metadata": {},
   "source": [
    "# DataSet Performance\n",
    "\n",
    "This notebook shows the trade-off between inserting data into a database row-by-row and as binary blobs. Inserting the data row-by-row means that we have direct access to all the data and may perform queries directly on the values of the data. On the other hand, as we shall see, this is much slower than inserting the data directly as binary blobs."
   ]
  },
  {
   "cell_type": "markdown",
   "metadata": {},
   "source": [
    "First, we choose a new location for the database to ensure that we don't add a bunch of benchmarking data to the default one."
   ]
  },
  {
   "cell_type": "code",
   "execution_count": 1,
   "metadata": {
    "execution": {
     "iopub.execute_input": "2021-04-14T09:05:02.467813Z",
     "iopub.status.busy": "2021-04-14T09:05:02.467245Z",
     "iopub.status.idle": "2021-04-14T09:05:03.478403Z",
     "shell.execute_reply": "2021-04-14T09:05:03.478879Z"
    }
   },
   "outputs": [
    {
     "name": "stdout",
     "output_type": "stream",
     "text": [
      "Logging hadn't been started.\n",
      "Activating auto-logging. Current session state plus future input saved.\n",
      "Filename       : /home/runner/.qcodes/logs/command_history.log\n",
      "Mode           : append\n",
      "Output logging : True\n",
      "Raw input log  : False\n",
      "Timestamping   : True\n",
      "State          : active\n"
     ]
    },
    {
     "name": "stdout",
     "output_type": "stream",
     "text": [
      "Qcodes Logfile : /home/runner/.qcodes/logs/210414-4420-qcodes.log\n"
     ]
    }
   ],
   "source": [
    "import os\n",
    "cwd = os.getcwd()\n",
    "import qcodes as qc\n",
    "qc.config[\"core\"][\"db_location\"] = os.path.join(cwd, 'testing.db')\n"
   ]
  },
  {
   "cell_type": "code",
   "execution_count": 2,
   "metadata": {
    "execution": {
     "iopub.execute_input": "2021-04-14T09:05:03.485548Z",
     "iopub.status.busy": "2021-04-14T09:05:03.484970Z",
     "iopub.status.idle": "2021-04-14T09:05:03.731588Z",
     "shell.execute_reply": "2021-04-14T09:05:03.730440Z"
    }
   },
   "outputs": [],
   "source": [
    "%matplotlib inline\n",
    "import time\n",
    "import matplotlib.pyplot as plt\n",
    "import numpy as np\n",
    "\n",
    "import qcodes as qc\n",
    "from qcodes.instrument.parameter import ManualParameter\n",
    "from qcodes.dataset.experiment_container import (Experiment,\n",
    "                                                 load_last_experiment,\n",
    "                                                 new_experiment)\n",
    "from qcodes.dataset.sqlite.database import initialise_database\n",
    "from qcodes import load_or_create_experiment\n",
    "from qcodes.dataset.measurements import Measurement"
   ]
  },
  {
   "cell_type": "code",
   "execution_count": 3,
   "metadata": {
    "execution": {
     "iopub.execute_input": "2021-04-14T09:05:03.735699Z",
     "iopub.status.busy": "2021-04-14T09:05:03.735120Z",
     "iopub.status.idle": "2021-04-14T09:05:03.808057Z",
     "shell.execute_reply": "2021-04-14T09:05:03.807560Z"
    }
   },
   "outputs": [
    {
     "name": "stdout",
     "output_type": "stream",
     "text": [
      "\r",
      "0it [00:00, ?it/s]"
     ]
    },
    {
     "name": "stdout",
     "output_type": "stream",
     "text": [
      "\r",
      "Upgrading database; v0 -> v1: : 0it [00:00, ?it/s]"
     ]
    },
    {
     "name": "stdout",
     "output_type": "stream",
     "text": [
      "\r",
      "Upgrading database; v0 -> v1: : 0it [00:00, ?it/s]"
     ]
    },
    {
     "name": "stdout",
     "output_type": "stream",
     "text": [
      "\n",
      "\r",
      "  0%|          | 0/1 [00:00<?, ?it/s]"
     ]
    },
    {
     "name": "stdout",
     "output_type": "stream",
     "text": [
      "\r",
      "Upgrading database; v1 -> v2:   0%|          | 0/1 [00:00<?, ?it/s]"
     ]
    },
    {
     "name": "stdout",
     "output_type": "stream",
     "text": [
      "\r",
      "Upgrading database; v1 -> v2: 100%|██████████| 1/1 [00:00<00:00, 441.09it/s]"
     ]
    },
    {
     "name": "stdout",
     "output_type": "stream",
     "text": [
      "\n",
      "\r",
      "0it [00:00, ?it/s]"
     ]
    },
    {
     "name": "stdout",
     "output_type": "stream",
     "text": [
      "\r",
      "Upgrading database; v2 -> v3: : 0it [00:00, ?it/s]"
     ]
    },
    {
     "name": "stdout",
     "output_type": "stream",
     "text": [
      "\r",
      "Upgrading database; v2 -> v3: : 0it [00:00, ?it/s]"
     ]
    },
    {
     "name": "stdout",
     "output_type": "stream",
     "text": [
      "\n",
      "\r",
      "0it [00:00, ?it/s]"
     ]
    },
    {
     "name": "stdout",
     "output_type": "stream",
     "text": [
      "\r",
      "Upgrading database; v3 -> v4: : 0it [00:00, ?it/s]"
     ]
    },
    {
     "name": "stdout",
     "output_type": "stream",
     "text": [
      "\r",
      "Upgrading database; v3 -> v4: : 0it [00:00, ?it/s]"
     ]
    },
    {
     "name": "stdout",
     "output_type": "stream",
     "text": [
      "\n",
      "\r",
      "  0%|          | 0/1 [00:00<?, ?it/s]"
     ]
    },
    {
     "name": "stdout",
     "output_type": "stream",
     "text": [
      "\r",
      "Upgrading database; v4 -> v5:   0%|          | 0/1 [00:00<?, ?it/s]"
     ]
    },
    {
     "name": "stdout",
     "output_type": "stream",
     "text": [
      "\r",
      "Upgrading database; v4 -> v5: 100%|██████████| 1/1 [00:00<00:00, 1059.44it/s]"
     ]
    },
    {
     "name": "stdout",
     "output_type": "stream",
     "text": [
      "\n",
      "\r",
      "0it [00:00, ?it/s]"
     ]
    },
    {
     "name": "stdout",
     "output_type": "stream",
     "text": [
      "\r",
      "Upgrading database; v5 -> v6: : 0it [00:00, ?it/s]"
     ]
    },
    {
     "name": "stdout",
     "output_type": "stream",
     "text": [
      "\r",
      "Upgrading database; v5 -> v6: : 0it [00:00, ?it/s]"
     ]
    },
    {
     "name": "stdout",
     "output_type": "stream",
     "text": [
      "\n",
      "\r",
      "  0%|          | 0/1 [00:00<?, ?it/s]"
     ]
    },
    {
     "name": "stdout",
     "output_type": "stream",
     "text": [
      "\r",
      "Upgrading database; v6 -> v7:   0%|          | 0/1 [00:00<?, ?it/s]"
     ]
    },
    {
     "name": "stdout",
     "output_type": "stream",
     "text": [
      "\r",
      "Upgrading database; v6 -> v7: 100%|██████████| 1/1 [00:00<00:00, 270.09it/s]"
     ]
    },
    {
     "name": "stdout",
     "output_type": "stream",
     "text": [
      "\n",
      "\r",
      "  0%|          | 0/1 [00:00<?, ?it/s]"
     ]
    },
    {
     "name": "stdout",
     "output_type": "stream",
     "text": [
      "\r",
      "Upgrading database; v7 -> v8:   0%|          | 0/1 [00:00<?, ?it/s]"
     ]
    },
    {
     "name": "stdout",
     "output_type": "stream",
     "text": [
      "\r",
      "Upgrading database; v7 -> v8: 100%|██████████| 1/1 [00:00<00:00, 536.22it/s]"
     ]
    },
    {
     "name": "stdout",
     "output_type": "stream",
     "text": [
      "\n",
      "\r",
      "  0%|          | 0/1 [00:00<?, ?it/s]"
     ]
    },
    {
     "name": "stdout",
     "output_type": "stream",
     "text": [
      "\r",
      "Upgrading database; v8 -> v9:   0%|          | 0/1 [00:00<?, ?it/s]"
     ]
    },
    {
     "name": "stdout",
     "output_type": "stream",
     "text": [
      "\r",
      "Upgrading database; v8 -> v9: 100%|██████████| 1/1 [00:00<00:00, 515.27it/s]"
     ]
    },
    {
     "name": "stdout",
     "output_type": "stream",
     "text": [
      "\n"
     ]
    }
   ],
   "source": [
    "initialise_database()\n",
    "exp = load_or_create_experiment(experiment_name='tutorial_exp', sample_name=\"no sample\")"
   ]
  },
  {
   "cell_type": "markdown",
   "metadata": {},
   "source": [
    "Here, we define a simple function to benchmark the time it takes to insert n points with either numeric or array data type.\n",
    "We will compare both the time used to call ``add_result`` and the time used for the full measurement."
   ]
  },
  {
   "cell_type": "code",
   "execution_count": 4,
   "metadata": {
    "execution": {
     "iopub.execute_input": "2021-04-14T09:05:03.818039Z",
     "iopub.status.busy": "2021-04-14T09:05:03.816768Z",
     "iopub.status.idle": "2021-04-14T09:05:03.818680Z",
     "shell.execute_reply": "2021-04-14T09:05:03.819170Z"
    }
   },
   "outputs": [],
   "source": [
    "def insert_data(paramtype, npoints, nreps=1):\n",
    "\n",
    "    meas = Measurement(exp=exp)\n",
    "\n",
    "    x1 = ManualParameter('x1')\n",
    "    x2 = ManualParameter('x2')\n",
    "    x3 = ManualParameter('x3')\n",
    "    y1 = ManualParameter('y1')\n",
    "    y2 = ManualParameter('y2')\n",
    "\n",
    "    meas.register_parameter(x1, paramtype=paramtype)\n",
    "    meas.register_parameter(x2, paramtype=paramtype)\n",
    "    meas.register_parameter(x3, paramtype=paramtype)\n",
    "    meas.register_parameter(y1, setpoints=[x1, x2, x3],\n",
    "                            paramtype=paramtype)\n",
    "    meas.register_parameter(y2, setpoints=[x1, x2, x3],\n",
    "                            paramtype=paramtype)\n",
    "    start = time.perf_counter()\n",
    "    with meas.run() as datasaver:\n",
    "        start_adding = time.perf_counter()\n",
    "        for i in range(nreps):\n",
    "            datasaver.add_result((x1, np.random.rand(npoints)),\n",
    "                                 (x2, np.random.rand(npoints)),\n",
    "                                 (x3, np.random.rand(npoints)),\n",
    "                                 (y1, np.random.rand(npoints)),\n",
    "                                 (y2, np.random.rand(npoints)))\n",
    "        stop_adding = time.perf_counter()\n",
    "        run_id = datasaver.run_id\n",
    "    stop = time.perf_counter()\n",
    "    tot_time = stop - start\n",
    "    add_time = stop_adding - start_adding\n",
    "    return tot_time, add_time, run_id"
   ]
  },
  {
   "cell_type": "markdown",
   "metadata": {},
   "source": [
    "## Comparison between numeric/array data and binary blob"
   ]
  },
  {
   "cell_type": "markdown",
   "metadata": {},
   "source": [
    "### Case1: Short experiment time"
   ]
  },
  {
   "cell_type": "code",
   "execution_count": 5,
   "metadata": {
    "execution": {
     "iopub.execute_input": "2021-04-14T09:05:03.824806Z",
     "iopub.status.busy": "2021-04-14T09:05:03.824252Z",
     "iopub.status.idle": "2021-04-14T09:05:04.648835Z",
     "shell.execute_reply": "2021-04-14T09:05:04.648338Z"
    }
   },
   "outputs": [
    {
     "name": "stdout",
     "output_type": "stream",
     "text": [
      "Starting experimental run with id: 1. \n",
      "Starting experimental run with id: 2. \n",
      "Starting experimental run with id: 3. \n",
      "Starting experimental run with id: 4. \n",
      "Starting experimental run with id: 5. \n"
     ]
    },
    {
     "name": "stdout",
     "output_type": "stream",
     "text": [
      "Starting experimental run with id: 6. \n"
     ]
    },
    {
     "name": "stdout",
     "output_type": "stream",
     "text": [
      "Starting experimental run with id: 7. \n"
     ]
    },
    {
     "name": "stdout",
     "output_type": "stream",
     "text": [
      "Starting experimental run with id: 8. \n",
      "Starting experimental run with id: 9. \n"
     ]
    },
    {
     "name": "stdout",
     "output_type": "stream",
     "text": [
      "Starting experimental run with id: 10. \n",
      "Starting experimental run with id: 11. \n"
     ]
    },
    {
     "name": "stdout",
     "output_type": "stream",
     "text": [
      "Starting experimental run with id: 12. \n",
      "Starting experimental run with id: 13. \n"
     ]
    },
    {
     "name": "stdout",
     "output_type": "stream",
     "text": [
      "Starting experimental run with id: 14. \n"
     ]
    }
   ],
   "source": [
    "sizes = [1,500,1000,2000,3000,4000,5000]\n",
    "t_numeric = []\n",
    "t_numeric_add = []\n",
    "t_array = []\n",
    "t_array_add = []\n",
    "for size in sizes:\n",
    "    tn, tna, run_id_n =  insert_data('numeric', size)\n",
    "    t_numeric.append(tn)\n",
    "    t_numeric_add.append(tna)\n",
    "\n",
    "    ta, taa, run_id_a =  insert_data('array', size)\n",
    "    t_array.append(ta)\n",
    "    t_array_add.append(taa)"
   ]
  },
  {
   "cell_type": "code",
   "execution_count": 6,
   "metadata": {
    "execution": {
     "iopub.execute_input": "2021-04-14T09:05:04.667859Z",
     "iopub.status.busy": "2021-04-14T09:05:04.667282Z",
     "iopub.status.idle": "2021-04-14T09:05:04.864718Z",
     "shell.execute_reply": "2021-04-14T09:05:04.864195Z"
    }
   },
   "outputs": [
    {
     "data": {
      "image/png": "[encoded data removed]",
      "text/plain": [
       "<Figure size 432x288 with 1 Axes>"
      ]
     },
     "metadata": {
      "needs_background": "light"
     },
     "output_type": "display_data"
    }
   ],
   "source": [
    "fig, ax = plt.subplots(1,1)\n",
    "ax.plot(sizes, t_numeric, 'o-', label='Inserting row-by-row')\n",
    "ax.plot(sizes, t_numeric_add, 'o-', label='Inserting row-by-row: add_result only')\n",
    "ax.plot(sizes, t_array, 'd-', label='Inserting as binary blob')\n",
    "ax.plot(sizes, t_array_add, 'd-', label='Inserting as binary blob: add_result only')\n",
    "ax.legend()\n",
    "ax.set_xlabel('Array length')\n",
    "ax.set_ylabel('Time (s)')\n",
    "fig.tight_layout()"
   ]
  },
  {
   "cell_type": "markdown",
   "metadata": {},
   "source": [
    "As shown in the latter figure, the time to setup and and close the experiment is approximately 0.4 sec. In case of small array sizes, the difference between inserting values of data as arrays and inserting them row-by-row is relatively unimportant. At larger array sizes, i.e. above 10000 points, the cost of writing data as individual datapoints starts to become important.\n"
   ]
  },
  {
   "cell_type": "markdown",
   "metadata": {},
   "source": [
    "### Case2: Long experiment time "
   ]
  },
  {
   "cell_type": "code",
   "execution_count": 7,
   "metadata": {
    "execution": {
     "iopub.execute_input": "2021-04-14T09:05:04.872854Z",
     "iopub.status.busy": "2021-04-14T09:05:04.871741Z",
     "iopub.status.idle": "2021-04-14T09:05:57.835209Z",
     "shell.execute_reply": "2021-04-14T09:05:57.834238Z"
    }
   },
   "outputs": [
    {
     "name": "stdout",
     "output_type": "stream",
     "text": [
      "Starting experimental run with id: 15. \n",
      "Starting experimental run with id: 16. \n",
      "Starting experimental run with id: 17. \n"
     ]
    },
    {
     "name": "stdout",
     "output_type": "stream",
     "text": [
      "Starting experimental run with id: 18. \n",
      "Starting experimental run with id: 19. \n"
     ]
    },
    {
     "name": "stdout",
     "output_type": "stream",
     "text": [
      "Starting experimental run with id: 20. \n"
     ]
    },
    {
     "name": "stdout",
     "output_type": "stream",
     "text": [
      "Starting experimental run with id: 21. \n"
     ]
    },
    {
     "name": "stdout",
     "output_type": "stream",
     "text": [
      "Starting experimental run with id: 22. \n"
     ]
    },
    {
     "name": "stdout",
     "output_type": "stream",
     "text": [
      "Starting experimental run with id: 23. \n"
     ]
    },
    {
     "name": "stdout",
     "output_type": "stream",
     "text": [
      "Starting experimental run with id: 24. \n"
     ]
    },
    {
     "name": "stdout",
     "output_type": "stream",
     "text": [
      "Starting experimental run with id: 25. \n"
     ]
    },
    {
     "name": "stdout",
     "output_type": "stream",
     "text": [
      "Starting experimental run with id: 26. \n"
     ]
    },
    {
     "name": "stdout",
     "output_type": "stream",
     "text": [
      "Starting experimental run with id: 27. \n"
     ]
    },
    {
     "name": "stdout",
     "output_type": "stream",
     "text": [
      "Starting experimental run with id: 28. \n"
     ]
    }
   ],
   "source": [
    "sizes = [1,500,1000,2000,3000,4000,5000]\n",
    "nreps = 100\n",
    "t_numeric = []\n",
    "t_numeric_add = []\n",
    "t_numeric_run_ids = []\n",
    "t_array = []\n",
    "t_array_add = []\n",
    "t_array_run_ids = []\n",
    "for size in sizes:\n",
    "    tn, tna, run_id_n =  insert_data('numeric', size, nreps=nreps)\n",
    "    t_numeric.append(tn)\n",
    "    t_numeric_add.append(tna)\n",
    "    t_numeric_run_ids.append(run_id_n)\n",
    "\n",
    "    ta, taa, run_id_a =  insert_data('array', size, nreps=nreps)\n",
    "    t_array.append(ta)\n",
    "    t_array_add.append(taa)\n",
    "    t_array_run_ids.append(run_id_a)"
   ]
  },
  {
   "cell_type": "code",
   "execution_count": 8,
   "metadata": {
    "execution": {
     "iopub.execute_input": "2021-04-14T09:05:57.863903Z",
     "iopub.status.busy": "2021-04-14T09:05:57.856745Z",
     "iopub.status.idle": "2021-04-14T09:05:58.014452Z",
     "shell.execute_reply": "2021-04-14T09:05:58.014925Z"
    },
    "scrolled": true
   },
   "outputs": [
    {
     "data": {
      "image/png": "[encoded data removed]",
      "text/plain": [
       "<Figure size 432x288 with 1 Axes>"
      ]
     },
     "metadata": {
      "needs_background": "light"
     },
     "output_type": "display_data"
    }
   ],
   "source": [
    "fig, ax = plt.subplots(1,1)\n",
    "ax.plot(sizes, t_numeric, 'o-', label='Inserting row-by-row')\n",
    "ax.plot(sizes, t_numeric_add, 'o-', label='Inserting row-by-row: add_result only')\n",
    "ax.plot(sizes, t_array, 'd-', label='Inserting as binary blob')\n",
    "ax.plot(sizes, t_array_add, 'd-', label='Inserting as binary blob: add_result only')\n",
    "ax.legend()\n",
    "ax.set_xlabel('Array length')\n",
    "ax.set_ylabel('Time (s)')\n",
    "fig.tight_layout()"
   ]
  },
  {
   "cell_type": "markdown",
   "metadata": {},
   "source": [
    "However, as we increase the length of the experiment, as seen here by repeating the insertion 100 times, we see a big difference between inserting values of the data row-by-row and inserting it as a binary blob."
   ]
  },
  {
   "cell_type": "markdown",
   "metadata": {},
   "source": [
    "## Loading the data "
   ]
  },
  {
   "cell_type": "code",
   "execution_count": 9,
   "metadata": {
    "execution": {
     "iopub.execute_input": "2021-04-14T09:05:58.018598Z",
     "iopub.status.busy": "2021-04-14T09:05:58.018088Z",
     "iopub.status.idle": "2021-04-14T09:05:58.020858Z",
     "shell.execute_reply": "2021-04-14T09:05:58.021616Z"
    }
   },
   "outputs": [],
   "source": [
    "from qcodes.dataset.data_set import load_by_id"
   ]
  },
  {
   "cell_type": "markdown",
   "metadata": {},
   "source": [
    "As usual you can load the data by using the ``load_by_id`` function but you will notice that the different storage methods\n",
    "are reflected in shape of the data as it is retrieved. "
   ]
  },
  {
   "cell_type": "code",
   "execution_count": 10,
   "metadata": {
    "execution": {
     "iopub.execute_input": "2021-04-14T09:05:58.024913Z",
     "iopub.status.busy": "2021-04-14T09:05:58.023922Z",
     "iopub.status.idle": "2021-04-14T09:05:58.027416Z",
     "shell.execute_reply": "2021-04-14T09:05:58.028058Z"
    }
   },
   "outputs": [],
   "source": [
    "run_id_n = t_numeric_run_ids[0]\n",
    "run_id_a = t_array_run_ids[0]"
   ]
  },
  {
   "cell_type": "code",
   "execution_count": 11,
   "metadata": {
    "execution": {
     "iopub.execute_input": "2021-04-14T09:05:58.031201Z",
     "iopub.status.busy": "2021-04-14T09:05:58.030192Z",
     "iopub.status.idle": "2021-04-14T09:05:58.042806Z",
     "shell.execute_reply": "2021-04-14T09:05:58.042311Z"
    },
    "scrolled": true
   },
   "outputs": [
    {
     "data": {
      "text/plain": [
       "{'x1': {'x1': array([0.41359518, 0.41359518, 0.48691208, 0.48691208, 0.37341349,\n",
       "         0.37341349, 0.07112204, 0.07112204, 0.73974366, 0.73974366,\n",
       "         0.33208036, 0.33208036, 0.2994103 , 0.2994103 , 0.22898325,\n",
       "         0.22898325, 0.12553735, 0.12553735, 0.64106835, 0.64106835,\n",
       "         0.37065108, 0.37065108, 0.37374199, 0.37374199, 0.83484723,\n",
       "         0.83484723, 0.76488606, 0.76488606, 0.12598119, 0.12598119,\n",
       "         0.55697417, 0.55697417, 0.02709395, 0.02709395, 0.26432939,\n",
       "         0.26432939, 0.41561541, 0.41561541, 0.96240015, 0.96240015,\n",
       "         0.92678369, 0.92678369, 0.17661884, 0.17661884, 0.451813  ,\n",
       "         0.451813  , 0.00500798, 0.00500798, 0.09628352, 0.09628352,\n",
       "         0.41202203, 0.41202203, 0.6751333 , 0.6751333 , 0.02129865,\n",
       "         0.02129865, 0.8586066 , 0.8586066 , 0.81934543, 0.81934543,\n",
       "         0.9153322 , 0.9153322 , 0.88502066, 0.88502066, 0.40033249,\n",
       "         0.40033249, 0.27877489, 0.27877489, 0.01698324, 0.01698324,\n",
       "         0.58992202, 0.58992202, 0.1284276 , 0.1284276 , 0.39124124,\n",
       "         0.39124124, 0.00369958, 0.00369958, 0.65691099, 0.65691099,\n",
       "         0.15679125, 0.15679125, 0.57964056, 0.57964056, 0.91853944,\n",
       "         0.91853944, 0.02876425, 0.02876425, 0.03214294, 0.03214294,\n",
       "         0.48673447, 0.48673447, 0.94101103, 0.94101103, 0.51284426,\n",
       "         0.51284426, 0.79106221, 0.79106221, 0.51738193, 0.51738193,\n",
       "         0.11716087, 0.11716087, 0.89271951, 0.89271951, 0.76256655,\n",
       "         0.76256655, 0.59140796, 0.59140796, 0.58054233, 0.58054233,\n",
       "         0.95258979, 0.95258979, 0.655971  , 0.655971  , 0.62645161,\n",
       "         0.62645161, 0.56458398, 0.56458398, 0.89911728, 0.89911728,\n",
       "         0.29466159, 0.29466159, 0.79530411, 0.79530411, 0.30502921,\n",
       "         0.30502921, 0.44548867, 0.44548867, 0.29875574, 0.29875574,\n",
       "         0.76825165, 0.76825165, 0.79149176, 0.79149176, 0.8122872 ,\n",
       "         0.8122872 , 0.36414402, 0.36414402, 0.25474927, 0.25474927,\n",
       "         0.60530001, 0.60530001, 0.15568729, 0.15568729, 0.97829632,\n",
       "         0.97829632, 0.05494826, 0.05494826, 0.48683842, 0.48683842,\n",
       "         0.46367966, 0.46367966, 0.80552184, 0.80552184, 0.59570169,\n",
       "         0.59570169, 0.62561889, 0.62561889, 0.63217501, 0.63217501,\n",
       "         0.90933644, 0.90933644, 0.31332207, 0.31332207, 0.88154142,\n",
       "         0.88154142, 0.99197648, 0.99197648, 0.02851593, 0.02851593,\n",
       "         0.66198551, 0.66198551, 0.00717539, 0.00717539, 0.15533523,\n",
       "         0.15533523, 0.17712334, 0.17712334, 0.52321657, 0.52321657,\n",
       "         0.52686258, 0.52686258, 0.59903895, 0.59903895, 0.80240096,\n",
       "         0.80240096, 0.59942767, 0.59942767, 0.06419233, 0.06419233,\n",
       "         0.49244108, 0.49244108, 0.19561385, 0.19561385, 0.14211987,\n",
       "         0.14211987, 0.0828658 , 0.0828658 , 0.66925918, 0.66925918])}}"
      ]
     },
     "execution_count": 1,
     "metadata": {},
     "output_type": "execute_result"
    }
   ],
   "source": [
    "ds = load_by_id(run_id_n)\n",
    "ds.get_parameter_data('x1')"
   ]
  },
  {
   "cell_type": "markdown",
   "metadata": {},
   "source": [
    "And a dataset stored as binary arrays"
   ]
  },
  {
   "cell_type": "code",
   "execution_count": 12,
   "metadata": {
    "execution": {
     "iopub.execute_input": "2021-04-14T09:05:58.046533Z",
     "iopub.status.busy": "2021-04-14T09:05:58.045998Z",
     "iopub.status.idle": "2021-04-14T09:05:58.103074Z",
     "shell.execute_reply": "2021-04-14T09:05:58.102207Z"
    },
    "scrolled": true
   },
   "outputs": [
    {
     "data": {
      "text/plain": [
       "{'x1': {'x1': array([[0.80578115],\n",
       "         [0.80578115],\n",
       "         [0.69268313],\n",
       "         [0.69268313],\n",
       "         [0.97658465],\n",
       "         [0.97658465],\n",
       "         [0.77402773],\n",
       "         [0.77402773],\n",
       "         [0.4494869 ],\n",
       "         [0.4494869 ],\n",
       "         [0.10122666],\n",
       "         [0.10122666],\n",
       "         [0.04689431],\n",
       "         [0.04689431],\n",
       "         [0.18542802],\n",
       "         [0.18542802],\n",
       "         [0.10620656],\n",
       "         [0.10620656],\n",
       "         [0.28305409],\n",
       "         [0.28305409],\n",
       "         [0.48759033],\n",
       "         [0.48759033],\n",
       "         [0.84568548],\n",
       "         [0.84568548],\n",
       "         [0.16541251],\n",
       "         [0.16541251],\n",
       "         [0.31850127],\n",
       "         [0.31850127],\n",
       "         [0.71799271],\n",
       "         [0.71799271],\n",
       "         [0.93164934],\n",
       "         [0.93164934],\n",
       "         [0.27325287],\n",
       "         [0.27325287],\n",
       "         [0.53548805],\n",
       "         [0.53548805],\n",
       "         [0.25211877],\n",
       "         [0.25211877],\n",
       "         [0.35203198],\n",
       "         [0.35203198],\n",
       "         [0.75124069],\n",
       "         [0.75124069],\n",
       "         [0.02612891],\n",
       "         [0.02612891],\n",
       "         [0.89053019],\n",
       "         [0.89053019],\n",
       "         [0.47817091],\n",
       "         [0.47817091],\n",
       "         [0.95808192],\n",
       "         [0.95808192],\n",
       "         [0.19847141],\n",
       "         [0.19847141],\n",
       "         [0.34573895],\n",
       "         [0.34573895],\n",
       "         [0.12679508],\n",
       "         [0.12679508],\n",
       "         [0.30894491],\n",
       "         [0.30894491],\n",
       "         [0.96586718],\n",
       "         [0.96586718],\n",
       "         [0.66129236],\n",
       "         [0.66129236],\n",
       "         [0.99079308],\n",
       "         [0.99079308],\n",
       "         [0.83264683],\n",
       "         [0.83264683],\n",
       "         [0.14849652],\n",
       "         [0.14849652],\n",
       "         [0.2609907 ],\n",
       "         [0.2609907 ],\n",
       "         [0.63420704],\n",
       "         [0.63420704],\n",
       "         [0.2459004 ],\n",
       "         [0.2459004 ],\n",
       "         [0.04601177],\n",
       "         [0.04601177],\n",
       "         [0.15131674],\n",
       "         [0.15131674],\n",
       "         [0.71022471],\n",
       "         [0.71022471],\n",
       "         [0.4257992 ],\n",
       "         [0.4257992 ],\n",
       "         [0.50208759],\n",
       "         [0.50208759],\n",
       "         [0.82354123],\n",
       "         [0.82354123],\n",
       "         [0.47152227],\n",
       "         [0.47152227],\n",
       "         [0.70060473],\n",
       "         [0.70060473],\n",
       "         [0.50894157],\n",
       "         [0.50894157],\n",
       "         [0.80641038],\n",
       "         [0.80641038],\n",
       "         [0.17592054],\n",
       "         [0.17592054],\n",
       "         [0.69154972],\n",
       "         [0.69154972],\n",
       "         [0.98850003],\n",
       "         [0.98850003],\n",
       "         [0.52497778],\n",
       "         [0.52497778],\n",
       "         [0.80665205],\n",
       "         [0.80665205],\n",
       "         [0.99943542],\n",
       "         [0.99943542],\n",
       "         [0.07703893],\n",
       "         [0.07703893],\n",
       "         [0.49493593],\n",
       "         [0.49493593],\n",
       "         [0.09269835],\n",
       "         [0.09269835],\n",
       "         [0.65025767],\n",
       "         [0.65025767],\n",
       "         [0.58332671],\n",
       "         [0.58332671],\n",
       "         [0.73702119],\n",
       "         [0.73702119],\n",
       "         [0.60560902],\n",
       "         [0.60560902],\n",
       "         [0.83877174],\n",
       "         [0.83877174],\n",
       "         [0.88307666],\n",
       "         [0.88307666],\n",
       "         [0.92140687],\n",
       "         [0.92140687],\n",
       "         [0.57829568],\n",
       "         [0.57829568],\n",
       "         [0.58240958],\n",
       "         [0.58240958],\n",
       "         [0.14752786],\n",
       "         [0.14752786],\n",
       "         [0.13000171],\n",
       "         [0.13000171],\n",
       "         [0.7716615 ],\n",
       "         [0.7716615 ],\n",
       "         [0.47993828],\n",
       "         [0.47993828],\n",
       "         [0.49423592],\n",
       "         [0.49423592],\n",
       "         [0.6645527 ],\n",
       "         [0.6645527 ],\n",
       "         [0.78044914],\n",
       "         [0.78044914],\n",
       "         [0.83948482],\n",
       "         [0.83948482],\n",
       "         [0.20719787],\n",
       "         [0.20719787],\n",
       "         [0.09257713],\n",
       "         [0.09257713],\n",
       "         [0.4886098 ],\n",
       "         [0.4886098 ],\n",
       "         [0.8015715 ],\n",
       "         [0.8015715 ],\n",
       "         [0.11687909],\n",
       "         [0.11687909],\n",
       "         [0.39868988],\n",
       "         [0.39868988],\n",
       "         [0.02126409],\n",
       "         [0.02126409],\n",
       "         [0.92354171],\n",
       "         [0.92354171],\n",
       "         [0.73347758],\n",
       "         [0.73347758],\n",
       "         [0.41626694],\n",
       "         [0.41626694],\n",
       "         [0.40033195],\n",
       "         [0.40033195],\n",
       "         [0.40420612],\n",
       "         [0.40420612],\n",
       "         [0.45267889],\n",
       "         [0.45267889],\n",
       "         [0.50884891],\n",
       "         [0.50884891],\n",
       "         [0.80415156],\n",
       "         [0.80415156],\n",
       "         [0.60492542],\n",
       "         [0.60492542],\n",
       "         [0.83585129],\n",
       "         [0.83585129],\n",
       "         [0.81409354],\n",
       "         [0.81409354],\n",
       "         [0.41276007],\n",
       "         [0.41276007],\n",
       "         [0.48632396],\n",
       "         [0.48632396],\n",
       "         [0.5551522 ],\n",
       "         [0.5551522 ],\n",
       "         [0.59048382],\n",
       "         [0.59048382],\n",
       "         [0.34968053],\n",
       "         [0.34968053],\n",
       "         [0.17704982],\n",
       "         [0.17704982],\n",
       "         [0.00127737],\n",
       "         [0.00127737],\n",
       "         [0.87301848],\n",
       "         [0.87301848],\n",
       "         [0.08536533],\n",
       "         [0.08536533]])}}"
      ]
     },
     "execution_count": 1,
     "metadata": {},
     "output_type": "execute_result"
    }
   ],
   "source": [
    "ds = load_by_id(run_id_a)\n",
    "ds.get_parameter_data('x1')"
   ]
  },
  {
   "cell_type": "code",
   "execution_count": null,
   "metadata": {},
   "outputs": [],
   "source": []
  }
 ],
 "metadata": {
  "kernelspec": {
   "display_name": "Python 3",
   "language": "python",
   "name": "python3"
  },
  "language_info": {
   "codemirror_mode": {
    "name": "ipython",
    "version": 3
   },
   "file_extension": ".py",
   "mimetype": "text/x-python",
   "name": "python",
   "nbconvert_exporter": "python",
   "pygments_lexer": "ipython3",
   "version": "3.7.10"
  },
  "nbsphinx": {
   "timeout": 600
  },
  "toc": {
   "base_numbering": 1,
   "nav_menu": {},
   "number_sections": true,
   "sideBar": true,
   "skip_h1_title": false,
   "title_cell": "Table of Contents",
   "title_sidebar": "Contents",
   "toc_cell": false,
   "toc_position": {},
   "toc_section_display": true,
   "toc_window_display": false
  },
  "varInspector": {
   "cols": {
    "lenName": 16,
    "lenType": 16,
    "lenVar": 40
   },
   "kernels_config": {
    "python": {
     "delete_cmd_postfix": "",
     "delete_cmd_prefix": "del ",
     "library": "var_list.py",
     "varRefreshCmd": "print(var_dic_list())"
    },
    "r": {
     "delete_cmd_postfix": ") ",
     "delete_cmd_prefix": "rm(",
     "library": "var_list.r",
     "varRefreshCmd": "cat(var_dic_list()) "
    }
   },
   "types_to_exclude": [
    "module",
    "function",
    "builtin_function_or_method",
    "instance",
    "_Feature"
   ],
   "window_display": false
  }
 },
 "nbformat": 4,
 "nbformat_minor": 4
}
