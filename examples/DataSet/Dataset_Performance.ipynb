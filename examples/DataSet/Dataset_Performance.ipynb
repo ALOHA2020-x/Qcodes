{
 "cells": [
  {
   "cell_type": "markdown",
   "metadata": {},
   "source": [
    "# DataSet Performance\n",
    "\n",
    "This notebook shows the trade-off between inserting data into a database row-by-row and as binary blobs. Inserting the data row-by-row means that we have direct access to all the data and may perform queries directly on the values of the data. On the other hand, as we shall see, this is much slower than inserting the data directly as binary blobs."
   ]
  },
  {
   "cell_type": "markdown",
   "metadata": {},
   "source": [
    "First, we choose a new location for the database to ensure that we don't add a bunch of benchmarking data to the default one."
   ]
  },
  {
   "cell_type": "code",
   "execution_count": 1,
   "metadata": {
    "execution": {
     "iopub.execute_input": "2021-01-28T14:44:36.102255Z",
     "iopub.status.busy": "2021-01-28T14:44:36.101563Z",
     "iopub.status.idle": "2021-01-28T14:44:37.239582Z",
     "shell.execute_reply": "2021-01-28T14:44:37.240098Z"
    }
   },
   "outputs": [
    {
     "name": "stdout",
     "output_type": "stream",
     "text": [
      "Logging hadn't been started.\n",
      "Activating auto-logging. Current session state plus future input saved.\n",
      "Filename       : /home/vsts/.qcodes/logs/command_history.log\n",
      "Mode           : append\n",
      "Output logging : True\n",
      "Raw input log  : False\n",
      "Timestamping   : True\n",
      "State          : active\n"
     ]
    },
    {
     "name": "stdout",
     "output_type": "stream",
     "text": [
      "Qcodes Logfile : /home/vsts/.qcodes/logs/210128-13729-qcodes.log\n"
     ]
    }
   ],
   "source": [
    "import os\n",
    "cwd = os.getcwd()\n",
    "import qcodes as qc\n",
    "qc.config[\"core\"][\"db_location\"] = os.path.join(cwd, 'testing.db')\n"
   ]
  },
  {
   "cell_type": "code",
   "execution_count": 2,
   "metadata": {
    "execution": {
     "iopub.execute_input": "2021-01-28T14:44:37.248727Z",
     "iopub.status.busy": "2021-01-28T14:44:37.246675Z",
     "iopub.status.idle": "2021-01-28T14:44:37.456330Z",
     "shell.execute_reply": "2021-01-28T14:44:37.455397Z"
    }
   },
   "outputs": [],
   "source": [
    "%matplotlib inline\n",
    "import time\n",
    "import matplotlib.pyplot as plt\n",
    "import numpy as np\n",
    "\n",
    "import qcodes as qc\n",
    "from qcodes.instrument.parameter import ManualParameter\n",
    "from qcodes.dataset.experiment_container import (Experiment,\n",
    "                                                 load_last_experiment,\n",
    "                                                 new_experiment)\n",
    "from qcodes.dataset.sqlite.database import initialise_database\n",
    "from qcodes import load_or_create_experiment\n",
    "from qcodes.dataset.measurements import Measurement"
   ]
  },
  {
   "cell_type": "code",
   "execution_count": 3,
   "metadata": {
    "execution": {
     "iopub.execute_input": "2021-01-28T14:44:37.460599Z",
     "iopub.status.busy": "2021-01-28T14:44:37.459959Z",
     "iopub.status.idle": "2021-01-28T14:44:37.572837Z",
     "shell.execute_reply": "2021-01-28T14:44:37.573471Z"
    }
   },
   "outputs": [
    {
     "name": "stdout",
     "output_type": "stream",
     "text": [
      "\r",
      "0it [00:00, ?it/s]"
     ]
    },
    {
     "name": "stdout",
     "output_type": "stream",
     "text": [
      "\r",
      "Upgrading database; v0 -> v1: : 0it [00:00, ?it/s]"
     ]
    },
    {
     "name": "stdout",
     "output_type": "stream",
     "text": [
      "\r",
      "Upgrading database; v0 -> v1: : 0it [00:00, ?it/s]"
     ]
    },
    {
     "name": "stdout",
     "output_type": "stream",
     "text": [
      "\n",
      "\r",
      "  0%|          | 0/1 [00:00<?, ?it/s]"
     ]
    },
    {
     "name": "stdout",
     "output_type": "stream",
     "text": [
      "\r",
      "Upgrading database; v1 -> v2:   0%|          | 0/1 [00:00<?, ?it/s]"
     ]
    },
    {
     "name": "stdout",
     "output_type": "stream",
     "text": [
      "\r",
      "Upgrading database; v1 -> v2: 100%|██████████| 1/1 [00:00<00:00, 321.82it/s]"
     ]
    },
    {
     "name": "stdout",
     "output_type": "stream",
     "text": [
      "\n",
      "\r",
      "0it [00:00, ?it/s]"
     ]
    },
    {
     "name": "stdout",
     "output_type": "stream",
     "text": [
      "\r",
      "Upgrading database; v2 -> v3: : 0it [00:00, ?it/s]"
     ]
    },
    {
     "name": "stdout",
     "output_type": "stream",
     "text": [
      "\r",
      "Upgrading database; v2 -> v3: : 0it [00:00, ?it/s]"
     ]
    },
    {
     "name": "stdout",
     "output_type": "stream",
     "text": [
      "\n",
      "\r",
      "0it [00:00, ?it/s]"
     ]
    },
    {
     "name": "stdout",
     "output_type": "stream",
     "text": [
      "\r",
      "Upgrading database; v3 -> v4: : 0it [00:00, ?it/s]"
     ]
    },
    {
     "name": "stdout",
     "output_type": "stream",
     "text": [
      "\r",
      "Upgrading database; v3 -> v4: : 0it [00:00, ?it/s]"
     ]
    },
    {
     "name": "stdout",
     "output_type": "stream",
     "text": [
      "\n",
      "\r",
      "  0%|          | 0/1 [00:00<?, ?it/s]"
     ]
    },
    {
     "name": "stdout",
     "output_type": "stream",
     "text": [
      "\r",
      "Upgrading database; v4 -> v5:   0%|          | 0/1 [00:00<?, ?it/s]"
     ]
    },
    {
     "name": "stdout",
     "output_type": "stream",
     "text": [
      "\r",
      "Upgrading database; v4 -> v5: 100%|██████████| 1/1 [00:00<00:00, 433.25it/s]"
     ]
    },
    {
     "name": "stdout",
     "output_type": "stream",
     "text": [
      "\n",
      "\r",
      "0it [00:00, ?it/s]"
     ]
    },
    {
     "name": "stdout",
     "output_type": "stream",
     "text": [
      "\r",
      "Upgrading database; v5 -> v6: : 0it [00:00, ?it/s]"
     ]
    },
    {
     "name": "stdout",
     "output_type": "stream",
     "text": [
      "\r",
      "Upgrading database; v5 -> v6: : 0it [00:00, ?it/s]"
     ]
    },
    {
     "name": "stdout",
     "output_type": "stream",
     "text": [
      "\n",
      "\r",
      "  0%|          | 0/1 [00:00<?, ?it/s]"
     ]
    },
    {
     "name": "stdout",
     "output_type": "stream",
     "text": [
      "\r",
      "Upgrading database; v6 -> v7:   0%|          | 0/1 [00:00<?, ?it/s]"
     ]
    },
    {
     "name": "stdout",
     "output_type": "stream",
     "text": [
      "\r",
      "Upgrading database; v6 -> v7: 100%|██████████| 1/1 [00:00<00:00, 360.61it/s]"
     ]
    },
    {
     "name": "stdout",
     "output_type": "stream",
     "text": [
      "\n",
      "\r",
      "  0%|          | 0/1 [00:00<?, ?it/s]"
     ]
    },
    {
     "name": "stdout",
     "output_type": "stream",
     "text": [
      "\r",
      "Upgrading database; v7 -> v8:   0%|          | 0/1 [00:00<?, ?it/s]"
     ]
    },
    {
     "name": "stdout",
     "output_type": "stream",
     "text": [
      "\r",
      "Upgrading database; v7 -> v8: 100%|██████████| 1/1 [00:00<00:00, 671.95it/s]"
     ]
    },
    {
     "name": "stdout",
     "output_type": "stream",
     "text": [
      "\n",
      "\r",
      "  0%|          | 0/1 [00:00<?, ?it/s]"
     ]
    },
    {
     "name": "stdout",
     "output_type": "stream",
     "text": [
      "\r",
      "Upgrading database; v8 -> v9:   0%|          | 0/1 [00:00<?, ?it/s]"
     ]
    },
    {
     "name": "stdout",
     "output_type": "stream",
     "text": [
      "\r",
      "Upgrading database; v8 -> v9: 100%|██████████| 1/1 [00:00<00:00, 711.50it/s]"
     ]
    },
    {
     "name": "stdout",
     "output_type": "stream",
     "text": [
      "\n"
     ]
    }
   ],
   "source": [
    "initialise_database()\n",
    "exp = load_or_create_experiment(experiment_name='tutorial_exp', sample_name=\"no sample\")"
   ]
  },
  {
   "cell_type": "markdown",
   "metadata": {},
   "source": [
    "Here, we define a simple function to benchmark the time it takes to insert n points with either numeric or array data type.\n",
    "We will compare both the time used to call ``add_result`` and the time used for the full measurement."
   ]
  },
  {
   "cell_type": "code",
   "execution_count": 4,
   "metadata": {
    "execution": {
     "iopub.execute_input": "2021-01-28T14:44:37.583652Z",
     "iopub.status.busy": "2021-01-28T14:44:37.582186Z",
     "iopub.status.idle": "2021-01-28T14:44:37.584320Z",
     "shell.execute_reply": "2021-01-28T14:44:37.584834Z"
    }
   },
   "outputs": [],
   "source": [
    "def insert_data(paramtype, npoints, nreps=1):\n",
    "\n",
    "    meas = Measurement(exp=exp)\n",
    "\n",
    "    x1 = ManualParameter('x1')\n",
    "    x2 = ManualParameter('x2')\n",
    "    x3 = ManualParameter('x3')\n",
    "    y1 = ManualParameter('y1')\n",
    "    y2 = ManualParameter('y2')\n",
    "\n",
    "    meas.register_parameter(x1, paramtype=paramtype)\n",
    "    meas.register_parameter(x2, paramtype=paramtype)\n",
    "    meas.register_parameter(x3, paramtype=paramtype)\n",
    "    meas.register_parameter(y1, setpoints=[x1, x2, x3],\n",
    "                            paramtype=paramtype)\n",
    "    meas.register_parameter(y2, setpoints=[x1, x2, x3],\n",
    "                            paramtype=paramtype)\n",
    "    start = time.perf_counter()\n",
    "    with meas.run() as datasaver:\n",
    "        start_adding = time.perf_counter()\n",
    "        for i in range(nreps):\n",
    "            datasaver.add_result((x1, np.random.rand(npoints)),\n",
    "                                 (x2, np.random.rand(npoints)),\n",
    "                                 (x3, np.random.rand(npoints)),\n",
    "                                 (y1, np.random.rand(npoints)),\n",
    "                                 (y2, np.random.rand(npoints)))\n",
    "        stop_adding = time.perf_counter()\n",
    "        run_id = datasaver.run_id\n",
    "    stop = time.perf_counter()\n",
    "    tot_time = stop - start\n",
    "    add_time = stop_adding - start_adding\n",
    "    return tot_time, add_time, run_id"
   ]
  },
  {
   "cell_type": "markdown",
   "metadata": {},
   "source": [
    "## Comparison between numeric/array data and binary blob"
   ]
  },
  {
   "cell_type": "markdown",
   "metadata": {},
   "source": [
    "### Case1: Short experiment time"
   ]
  },
  {
   "cell_type": "code",
   "execution_count": 5,
   "metadata": {
    "execution": {
     "iopub.execute_input": "2021-01-28T14:44:37.591775Z",
     "iopub.status.busy": "2021-01-28T14:44:37.590887Z",
     "iopub.status.idle": "2021-01-28T14:44:38.474068Z",
     "shell.execute_reply": "2021-01-28T14:44:38.473497Z"
    }
   },
   "outputs": [
    {
     "name": "stdout",
     "output_type": "stream",
     "text": [
      "Starting experimental run with id: 1. \n",
      "Starting experimental run with id: 2. \n",
      "Starting experimental run with id: 3. \n",
      "Starting experimental run with id: 4. \n",
      "Starting experimental run with id: 5. \n"
     ]
    },
    {
     "name": "stdout",
     "output_type": "stream",
     "text": [
      "Starting experimental run with id: 6. \n"
     ]
    },
    {
     "name": "stdout",
     "output_type": "stream",
     "text": [
      "Starting experimental run with id: 7. \n"
     ]
    },
    {
     "name": "stdout",
     "output_type": "stream",
     "text": [
      "Starting experimental run with id: 8. \n",
      "Starting experimental run with id: 9. \n"
     ]
    },
    {
     "name": "stdout",
     "output_type": "stream",
     "text": [
      "Starting experimental run with id: 10. \n",
      "Starting experimental run with id: 11. \n"
     ]
    },
    {
     "name": "stdout",
     "output_type": "stream",
     "text": [
      "Starting experimental run with id: 12. \n"
     ]
    },
    {
     "name": "stdout",
     "output_type": "stream",
     "text": [
      "Starting experimental run with id: 13. \n"
     ]
    },
    {
     "name": "stdout",
     "output_type": "stream",
     "text": [
      "Starting experimental run with id: 14. \n"
     ]
    }
   ],
   "source": [
    "sizes = [1,500,1000,2000,3000,4000,5000]\n",
    "t_numeric = []\n",
    "t_numeric_add = []\n",
    "t_array = []\n",
    "t_array_add = []\n",
    "for size in sizes:\n",
    "    tn, tna, run_id_n =  insert_data('numeric', size)\n",
    "    t_numeric.append(tn)\n",
    "    t_numeric_add.append(tna)\n",
    "\n",
    "    ta, taa, run_id_a =  insert_data('array', size)\n",
    "    t_array.append(ta)\n",
    "    t_array_add.append(taa)"
   ]
  },
  {
   "cell_type": "code",
   "execution_count": 6,
   "metadata": {
    "execution": {
     "iopub.execute_input": "2021-01-28T14:44:38.503226Z",
     "iopub.status.busy": "2021-01-28T14:44:38.493158Z",
     "iopub.status.idle": "2021-01-28T14:44:38.713035Z",
     "shell.execute_reply": "2021-01-28T14:44:38.712470Z"
    }
   },
   "outputs": [
    {
     "data": {
      "image/png": "[encoded data removed]",
      "text/plain": [
       "<Figure size 432x288 with 1 Axes>"
      ]
     },
     "metadata": {
      "needs_background": "light"
     },
     "output_type": "display_data"
    }
   ],
   "source": [
    "fig, ax = plt.subplots(1,1)\n",
    "ax.plot(sizes, t_numeric, 'o-', label='Inserting row-by-row')\n",
    "ax.plot(sizes, t_numeric_add, 'o-', label='Inserting row-by-row: add_result only')\n",
    "ax.plot(sizes, t_array, 'd-', label='Inserting as binary blob')\n",
    "ax.plot(sizes, t_array_add, 'd-', label='Inserting as binary blob: add_result only')\n",
    "ax.legend()\n",
    "ax.set_xlabel('Array length')\n",
    "ax.set_ylabel('Time (s)')\n",
    "fig.tight_layout()"
   ]
  },
  {
   "cell_type": "markdown",
   "metadata": {},
   "source": [
    "As shown in the latter figure, the time to setup and and close the experiment is approximately 0.4 sec. In case of small array sizes, the difference between inserting values of data as arrays and inserting them row-by-row is relatively unimportant. At larger array sizes, i.e. above 10000 points, the cost of writing data as individual datapoints starts to become important.\n"
   ]
  },
  {
   "cell_type": "markdown",
   "metadata": {},
   "source": [
    "### Case2: Long experiment time "
   ]
  },
  {
   "cell_type": "code",
   "execution_count": 7,
   "metadata": {
    "execution": {
     "iopub.execute_input": "2021-01-28T14:44:38.720195Z",
     "iopub.status.busy": "2021-01-28T14:44:38.719521Z",
     "iopub.status.idle": "2021-01-28T14:45:40.752486Z",
     "shell.execute_reply": "2021-01-28T14:45:40.752994Z"
    }
   },
   "outputs": [
    {
     "name": "stdout",
     "output_type": "stream",
     "text": [
      "Starting experimental run with id: 15. \n",
      "Starting experimental run with id: 16. \n",
      "Starting experimental run with id: 17. \n"
     ]
    },
    {
     "name": "stdout",
     "output_type": "stream",
     "text": [
      "Starting experimental run with id: 18. \n",
      "Starting experimental run with id: 19. \n"
     ]
    },
    {
     "name": "stdout",
     "output_type": "stream",
     "text": [
      "Starting experimental run with id: 20. \n"
     ]
    },
    {
     "name": "stdout",
     "output_type": "stream",
     "text": [
      "Starting experimental run with id: 21. \n"
     ]
    },
    {
     "name": "stdout",
     "output_type": "stream",
     "text": [
      "Starting experimental run with id: 22. \n"
     ]
    },
    {
     "name": "stdout",
     "output_type": "stream",
     "text": [
      "Starting experimental run with id: 23. \n"
     ]
    },
    {
     "name": "stdout",
     "output_type": "stream",
     "text": [
      "Starting experimental run with id: 24. \n"
     ]
    },
    {
     "name": "stdout",
     "output_type": "stream",
     "text": [
      "Starting experimental run with id: 25. \n"
     ]
    },
    {
     "name": "stdout",
     "output_type": "stream",
     "text": [
      "Starting experimental run with id: 26. \n"
     ]
    },
    {
     "name": "stdout",
     "output_type": "stream",
     "text": [
      "Starting experimental run with id: 27. \n"
     ]
    },
    {
     "name": "stdout",
     "output_type": "stream",
     "text": [
      "Starting experimental run with id: 28. \n"
     ]
    }
   ],
   "source": [
    "sizes = [1,500,1000,2000,3000,4000,5000]\n",
    "nreps = 100\n",
    "t_numeric = []\n",
    "t_numeric_add = []\n",
    "t_numeric_run_ids = []\n",
    "t_array = []\n",
    "t_array_add = []\n",
    "t_array_run_ids = []\n",
    "for size in sizes:\n",
    "    tn, tna, run_id_n =  insert_data('numeric', size, nreps=nreps)\n",
    "    t_numeric.append(tn)\n",
    "    t_numeric_add.append(tna)\n",
    "    t_numeric_run_ids.append(run_id_n)\n",
    "\n",
    "    ta, taa, run_id_a =  insert_data('array', size, nreps=nreps)\n",
    "    t_array.append(ta)\n",
    "    t_array_add.append(taa)\n",
    "    t_array_run_ids.append(run_id_a)"
   ]
  },
  {
   "cell_type": "code",
   "execution_count": 8,
   "metadata": {
    "execution": {
     "iopub.execute_input": "2021-01-28T14:45:40.778549Z",
     "iopub.status.busy": "2021-01-28T14:45:40.773066Z",
     "iopub.status.idle": "2021-01-28T14:45:40.997723Z",
     "shell.execute_reply": "2021-01-28T14:45:40.996903Z"
    },
    "scrolled": true
   },
   "outputs": [
    {
     "data": {
      "image/png": "[encoded data removed]",
      "text/plain": [
       "<Figure size 432x288 with 1 Axes>"
      ]
     },
     "metadata": {
      "needs_background": "light"
     },
     "output_type": "display_data"
    }
   ],
   "source": [
    "fig, ax = plt.subplots(1,1)\n",
    "ax.plot(sizes, t_numeric, 'o-', label='Inserting row-by-row')\n",
    "ax.plot(sizes, t_numeric_add, 'o-', label='Inserting row-by-row: add_result only')\n",
    "ax.plot(sizes, t_array, 'd-', label='Inserting as binary blob')\n",
    "ax.plot(sizes, t_array_add, 'd-', label='Inserting as binary blob: add_result only')\n",
    "ax.legend()\n",
    "ax.set_xlabel('Array length')\n",
    "ax.set_ylabel('Time (s)')\n",
    "fig.tight_layout()"
   ]
  },
  {
   "cell_type": "markdown",
   "metadata": {},
   "source": [
    "However, as we increase the length of the experiment, as seen here by repeating the insertion 100 times, we see a big difference between inserting values of the data row-by-row and inserting it as a binary blob."
   ]
  },
  {
   "cell_type": "markdown",
   "metadata": {},
   "source": [
    "## Loading the data "
   ]
  },
  {
   "cell_type": "code",
   "execution_count": 9,
   "metadata": {
    "execution": {
     "iopub.execute_input": "2021-01-28T14:45:41.002271Z",
     "iopub.status.busy": "2021-01-28T14:45:41.001627Z",
     "iopub.status.idle": "2021-01-28T14:45:41.004941Z",
     "shell.execute_reply": "2021-01-28T14:45:41.005489Z"
    }
   },
   "outputs": [],
   "source": [
    "from qcodes.dataset.data_set import load_by_id\n",
    "from qcodes.dataset.data_export import get_data_by_id"
   ]
  },
  {
   "cell_type": "markdown",
   "metadata": {},
   "source": [
    "As usual you can load the data by using the ``load_by_id`` function but you will notice that the different storage methods\n",
    "are reflected in shape of the data as it is retrieved. "
   ]
  },
  {
   "cell_type": "code",
   "execution_count": 10,
   "metadata": {
    "execution": {
     "iopub.execute_input": "2021-01-28T14:45:41.010310Z",
     "iopub.status.busy": "2021-01-28T14:45:41.009054Z",
     "iopub.status.idle": "2021-01-28T14:45:41.010967Z",
     "shell.execute_reply": "2021-01-28T14:45:41.011790Z"
    }
   },
   "outputs": [],
   "source": [
    "run_id_n = t_numeric_run_ids[0]\n",
    "run_id_a = t_array_run_ids[0]"
   ]
  },
  {
   "cell_type": "code",
   "execution_count": 11,
   "metadata": {
    "execution": {
     "iopub.execute_input": "2021-01-28T14:45:41.015793Z",
     "iopub.status.busy": "2021-01-28T14:45:41.015158Z",
     "iopub.status.idle": "2021-01-28T14:45:41.025774Z",
     "shell.execute_reply": "2021-01-28T14:45:41.026283Z"
    },
    "scrolled": true
   },
   "outputs": [
    {
     "data": {
      "text/plain": [
       "{'x1': {'x1': array([0.15438938, 0.15438938, 0.15098193, 0.15098193, 0.42976017,\n",
       "         0.42976017, 0.10786488, 0.10786488, 0.47071705, 0.47071705,\n",
       "         0.70560808, 0.70560808, 0.39099903, 0.39099903, 0.23191393,\n",
       "         0.23191393, 0.67160887, 0.67160887, 0.54722213, 0.54722213,\n",
       "         0.16411887, 0.16411887, 0.41607519, 0.41607519, 0.1776307 ,\n",
       "         0.1776307 , 0.50052103, 0.50052103, 0.270504  , 0.270504  ,\n",
       "         0.45595218, 0.45595218, 0.07138833, 0.07138833, 0.9270576 ,\n",
       "         0.9270576 , 0.36452674, 0.36452674, 0.00872294, 0.00872294,\n",
       "         0.00834841, 0.00834841, 0.36526089, 0.36526089, 0.96241839,\n",
       "         0.96241839, 0.61533314, 0.61533314, 0.0339987 , 0.0339987 ,\n",
       "         0.78638247, 0.78638247, 0.84287283, 0.84287283, 0.28326616,\n",
       "         0.28326616, 0.10997925, 0.10997925, 0.16597374, 0.16597374,\n",
       "         0.19860678, 0.19860678, 0.5009398 , 0.5009398 , 0.36883243,\n",
       "         0.36883243, 0.69429739, 0.69429739, 0.42802297, 0.42802297,\n",
       "         0.89420542, 0.89420542, 0.26755685, 0.26755685, 0.72205946,\n",
       "         0.72205946, 0.61632857, 0.61632857, 0.50900141, 0.50900141,\n",
       "         0.01963123, 0.01963123, 0.70013623, 0.70013623, 0.94670173,\n",
       "         0.94670173, 0.07447014, 0.07447014, 0.46396097, 0.46396097,\n",
       "         0.1681712 , 0.1681712 , 0.12556689, 0.12556689, 0.96908176,\n",
       "         0.96908176, 0.48388895, 0.48388895, 0.56508588, 0.56508588,\n",
       "         0.25035464, 0.25035464, 0.17855003, 0.17855003, 0.26742863,\n",
       "         0.26742863, 0.65901049, 0.65901049, 0.19612445, 0.19612445,\n",
       "         0.4236647 , 0.4236647 , 0.4569844 , 0.4569844 , 0.59741928,\n",
       "         0.59741928, 0.85621483, 0.85621483, 0.43025317, 0.43025317,\n",
       "         0.86612366, 0.86612366, 0.00671362, 0.00671362, 0.84601222,\n",
       "         0.84601222, 0.86092771, 0.86092771, 0.23449008, 0.23449008,\n",
       "         0.00132874, 0.00132874, 0.00986504, 0.00986504, 0.30517923,\n",
       "         0.30517923, 0.87778059, 0.87778059, 0.80411664, 0.80411664,\n",
       "         0.90127822, 0.90127822, 0.43787418, 0.43787418, 0.51327289,\n",
       "         0.51327289, 0.49186181, 0.49186181, 0.9374034 , 0.9374034 ,\n",
       "         0.43713394, 0.43713394, 0.27551052, 0.27551052, 0.12236046,\n",
       "         0.12236046, 0.59032957, 0.59032957, 0.45017675, 0.45017675,\n",
       "         0.85075977, 0.85075977, 0.84453327, 0.84453327, 0.58056422,\n",
       "         0.58056422, 0.49661724, 0.49661724, 0.43616108, 0.43616108,\n",
       "         0.37151684, 0.37151684, 0.03254376, 0.03254376, 0.5652797 ,\n",
       "         0.5652797 , 0.88105759, 0.88105759, 0.88723005, 0.88723005,\n",
       "         0.55467975, 0.55467975, 0.1951261 , 0.1951261 , 0.64912566,\n",
       "         0.64912566, 0.66504288, 0.66504288, 0.97163342, 0.97163342,\n",
       "         0.34138352, 0.34138352, 0.47604193, 0.47604193, 0.37730865,\n",
       "         0.37730865, 0.97759167, 0.97759167, 0.5146182 , 0.5146182 ])}}"
      ]
     },
     "execution_count": 1,
     "metadata": {},
     "output_type": "execute_result"
    }
   ],
   "source": [
    "ds = load_by_id(run_id_n)\n",
    "ds.get_parameter_data('x1')"
   ]
  },
  {
   "cell_type": "markdown",
   "metadata": {},
   "source": [
    "And a dataset stored as binary arrays"
   ]
  },
  {
   "cell_type": "code",
   "execution_count": 12,
   "metadata": {
    "execution": {
     "iopub.execute_input": "2021-01-28T14:45:41.030844Z",
     "iopub.status.busy": "2021-01-28T14:45:41.030217Z",
     "iopub.status.idle": "2021-01-28T14:45:41.106302Z",
     "shell.execute_reply": "2021-01-28T14:45:41.105743Z"
    },
    "scrolled": true
   },
   "outputs": [
    {
     "data": {
      "text/plain": [
       "{'x1': {'x1': array([[0.14605451],\n",
       "         [0.14605451],\n",
       "         [0.28526235],\n",
       "         [0.28526235],\n",
       "         [0.60444878],\n",
       "         [0.60444878],\n",
       "         [0.17868911],\n",
       "         [0.17868911],\n",
       "         [0.25501601],\n",
       "         [0.25501601],\n",
       "         [0.53252208],\n",
       "         [0.53252208],\n",
       "         [0.48316835],\n",
       "         [0.48316835],\n",
       "         [0.88114133],\n",
       "         [0.88114133],\n",
       "         [0.00654396],\n",
       "         [0.00654396],\n",
       "         [0.63927398],\n",
       "         [0.63927398],\n",
       "         [0.83831332],\n",
       "         [0.83831332],\n",
       "         [0.54556632],\n",
       "         [0.54556632],\n",
       "         [0.40767305],\n",
       "         [0.40767305],\n",
       "         [0.07675933],\n",
       "         [0.07675933],\n",
       "         [0.43485795],\n",
       "         [0.43485795],\n",
       "         [0.28849032],\n",
       "         [0.28849032],\n",
       "         [0.05946032],\n",
       "         [0.05946032],\n",
       "         [0.1928117 ],\n",
       "         [0.1928117 ],\n",
       "         [0.19589716],\n",
       "         [0.19589716],\n",
       "         [0.70124339],\n",
       "         [0.70124339],\n",
       "         [0.01409104],\n",
       "         [0.01409104],\n",
       "         [0.98942907],\n",
       "         [0.98942907],\n",
       "         [0.85356605],\n",
       "         [0.85356605],\n",
       "         [0.1616474 ],\n",
       "         [0.1616474 ],\n",
       "         [0.35110426],\n",
       "         [0.35110426],\n",
       "         [0.56735067],\n",
       "         [0.56735067],\n",
       "         [0.19040853],\n",
       "         [0.19040853],\n",
       "         [0.98118223],\n",
       "         [0.98118223],\n",
       "         [0.12062519],\n",
       "         [0.12062519],\n",
       "         [0.82351164],\n",
       "         [0.82351164],\n",
       "         [0.33622428],\n",
       "         [0.33622428],\n",
       "         [0.73470925],\n",
       "         [0.73470925],\n",
       "         [0.79760549],\n",
       "         [0.79760549],\n",
       "         [0.01894159],\n",
       "         [0.01894159],\n",
       "         [0.2981977 ],\n",
       "         [0.2981977 ],\n",
       "         [0.87054759],\n",
       "         [0.87054759],\n",
       "         [0.20634136],\n",
       "         [0.20634136],\n",
       "         [0.56842066],\n",
       "         [0.56842066],\n",
       "         [0.79659483],\n",
       "         [0.79659483],\n",
       "         [0.82642018],\n",
       "         [0.82642018],\n",
       "         [0.50173647],\n",
       "         [0.50173647],\n",
       "         [0.33701673],\n",
       "         [0.33701673],\n",
       "         [0.51034064],\n",
       "         [0.51034064],\n",
       "         [0.70581984],\n",
       "         [0.70581984],\n",
       "         [0.34458537],\n",
       "         [0.34458537],\n",
       "         [0.83773624],\n",
       "         [0.83773624],\n",
       "         [0.72573293],\n",
       "         [0.72573293],\n",
       "         [0.22427795],\n",
       "         [0.22427795],\n",
       "         [0.14675943],\n",
       "         [0.14675943],\n",
       "         [0.69983876],\n",
       "         [0.69983876],\n",
       "         [0.22600126],\n",
       "         [0.22600126],\n",
       "         [0.35035491],\n",
       "         [0.35035491],\n",
       "         [0.04937623],\n",
       "         [0.04937623],\n",
       "         [0.96256901],\n",
       "         [0.96256901],\n",
       "         [0.23091222],\n",
       "         [0.23091222],\n",
       "         [0.63697946],\n",
       "         [0.63697946],\n",
       "         [0.52733878],\n",
       "         [0.52733878],\n",
       "         [0.06091765],\n",
       "         [0.06091765],\n",
       "         [0.83438805],\n",
       "         [0.83438805],\n",
       "         [0.02317665],\n",
       "         [0.02317665],\n",
       "         [0.51195395],\n",
       "         [0.51195395],\n",
       "         [0.61969861],\n",
       "         [0.61969861],\n",
       "         [0.9720073 ],\n",
       "         [0.9720073 ],\n",
       "         [0.43383016],\n",
       "         [0.43383016],\n",
       "         [0.13663127],\n",
       "         [0.13663127],\n",
       "         [0.15297946],\n",
       "         [0.15297946],\n",
       "         [0.65851941],\n",
       "         [0.65851941],\n",
       "         [0.86374712],\n",
       "         [0.86374712],\n",
       "         [0.23056443],\n",
       "         [0.23056443],\n",
       "         [0.34683571],\n",
       "         [0.34683571],\n",
       "         [0.87566577],\n",
       "         [0.87566577],\n",
       "         [0.43586256],\n",
       "         [0.43586256],\n",
       "         [0.08357486],\n",
       "         [0.08357486],\n",
       "         [0.54571504],\n",
       "         [0.54571504],\n",
       "         [0.88105901],\n",
       "         [0.88105901],\n",
       "         [0.35109618],\n",
       "         [0.35109618],\n",
       "         [0.17299149],\n",
       "         [0.17299149],\n",
       "         [0.10368119],\n",
       "         [0.10368119],\n",
       "         [0.71657172],\n",
       "         [0.71657172],\n",
       "         [0.76881845],\n",
       "         [0.76881845],\n",
       "         [0.40543454],\n",
       "         [0.40543454],\n",
       "         [0.05196771],\n",
       "         [0.05196771],\n",
       "         [0.52747645],\n",
       "         [0.52747645],\n",
       "         [0.51160359],\n",
       "         [0.51160359],\n",
       "         [0.16770171],\n",
       "         [0.16770171],\n",
       "         [0.56489565],\n",
       "         [0.56489565],\n",
       "         [0.68703141],\n",
       "         [0.68703141],\n",
       "         [0.19984286],\n",
       "         [0.19984286],\n",
       "         [0.93408537],\n",
       "         [0.93408537],\n",
       "         [0.40249797],\n",
       "         [0.40249797],\n",
       "         [0.63784572],\n",
       "         [0.63784572],\n",
       "         [0.12380459],\n",
       "         [0.12380459],\n",
       "         [0.58023763],\n",
       "         [0.58023763],\n",
       "         [0.5520378 ],\n",
       "         [0.5520378 ],\n",
       "         [0.85215781],\n",
       "         [0.85215781],\n",
       "         [0.23584752],\n",
       "         [0.23584752],\n",
       "         [0.64026875],\n",
       "         [0.64026875],\n",
       "         [0.4264893 ],\n",
       "         [0.4264893 ],\n",
       "         [0.69034781],\n",
       "         [0.69034781],\n",
       "         [0.12735179],\n",
       "         [0.12735179]])}}"
      ]
     },
     "execution_count": 1,
     "metadata": {},
     "output_type": "execute_result"
    }
   ],
   "source": [
    "ds = load_by_id(run_id_a)\n",
    "ds.get_parameter_data('x1')"
   ]
  },
  {
   "cell_type": "code",
   "execution_count": null,
   "metadata": {},
   "outputs": [],
   "source": []
  }
 ],
 "metadata": {
  "kernelspec": {
   "display_name": "Python 3",
   "language": "python",
   "name": "python3"
  },
  "language_info": {
   "codemirror_mode": {
    "name": "ipython",
    "version": 3
   },
   "file_extension": ".py",
   "mimetype": "text/x-python",
   "name": "python",
   "nbconvert_exporter": "python",
   "pygments_lexer": "ipython3",
   "version": "3.7.9"
  },
  "nbsphinx": {
   "timeout": 600
  },
  "toc": {
   "base_numbering": 1,
   "nav_menu": {},
   "number_sections": true,
   "sideBar": true,
   "skip_h1_title": false,
   "title_cell": "Table of Contents",
   "title_sidebar": "Contents",
   "toc_cell": false,
   "toc_position": {},
   "toc_section_display": true,
   "toc_window_display": false
  },
  "varInspector": {
   "cols": {
    "lenName": 16,
    "lenType": 16,
    "lenVar": 40
   },
   "kernels_config": {
    "python": {
     "delete_cmd_postfix": "",
     "delete_cmd_prefix": "del ",
     "library": "var_list.py",
     "varRefreshCmd": "print(var_dic_list())"
    },
    "r": {
     "delete_cmd_postfix": ") ",
     "delete_cmd_prefix": "rm(",
     "library": "var_list.r",
     "varRefreshCmd": "cat(var_dic_list()) "
    }
   },
   "types_to_exclude": [
    "module",
    "function",
    "builtin_function_or_method",
    "instance",
    "_Feature"
   ],
   "window_display": false
  }
 },
 "nbformat": 4,
 "nbformat_minor": 2
}
