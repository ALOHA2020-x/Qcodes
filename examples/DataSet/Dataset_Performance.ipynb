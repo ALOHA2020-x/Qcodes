{
 "cells": [
  {
   "cell_type": "markdown",
   "metadata": {},
   "source": [
    "# DataSet Performance\n",
    "\n",
    "This notebook shows the trade-off between inserting data into a database row-by-row and as binary blobs. Inserting the data row-by-row means that we have direct access to all the data and may perform queries directly on the values of the data. On the other hand, as we shall see, this is much slower than inserting the data directly as binary blobs."
   ]
  },
  {
   "cell_type": "markdown",
   "metadata": {},
   "source": [
    "First, we choose a new location for the database to ensure that we don't add a bunch of benchmarking data to the default one."
   ]
  },
  {
   "cell_type": "code",
   "execution_count": 1,
   "metadata": {
    "execution": {
     "iopub.execute_input": "2020-10-27T07:45:22.952169Z",
     "iopub.status.busy": "2020-10-27T07:45:22.951504Z",
     "iopub.status.idle": "2020-10-27T07:45:24.077714Z",
     "shell.execute_reply": "2020-10-27T07:45:24.078273Z"
    }
   },
   "outputs": [
    {
     "name": "stdout",
     "output_type": "stream",
     "text": [
      "Logging hadn't been started.\n",
      "Activating auto-logging. Current session state plus future input saved.\n",
      "Filename       : /home/vsts/.qcodes/logs/command_history.log\n",
      "Mode           : append\n",
      "Output logging : True\n",
      "Raw input log  : False\n",
      "Timestamping   : True\n",
      "State          : active\n"
     ]
    },
    {
     "name": "stdout",
     "output_type": "stream",
     "text": [
      "Qcodes Logfile : /home/vsts/.qcodes/logs/201027-15303-qcodes.log\n"
     ]
    }
   ],
   "source": [
    "import os\n",
    "cwd = os.getcwd()\n",
    "import qcodes as qc\n",
    "qc.config[\"core\"][\"db_location\"] = os.path.join(cwd, 'testing.db')\n"
   ]
  },
  {
   "cell_type": "code",
   "execution_count": 2,
   "metadata": {
    "execution": {
     "iopub.execute_input": "2020-10-27T07:45:24.086527Z",
     "iopub.status.busy": "2020-10-27T07:45:24.084587Z",
     "iopub.status.idle": "2020-10-27T07:45:24.282534Z",
     "shell.execute_reply": "2020-10-27T07:45:24.281983Z"
    }
   },
   "outputs": [],
   "source": [
    "%matplotlib inline\n",
    "import time\n",
    "import matplotlib.pyplot as plt\n",
    "import numpy as np\n",
    "\n",
    "import qcodes as qc\n",
    "from qcodes.instrument.parameter import ManualParameter\n",
    "from qcodes.dataset.experiment_container import (Experiment,\n",
    "                                                 load_last_experiment,\n",
    "                                                 new_experiment)\n",
    "from qcodes.dataset.sqlite.database import initialise_database\n",
    "from qcodes import load_or_create_experiment\n",
    "from qcodes.dataset.measurements import Measurement"
   ]
  },
  {
   "cell_type": "code",
   "execution_count": 3,
   "metadata": {
    "execution": {
     "iopub.execute_input": "2020-10-27T07:45:24.287352Z",
     "iopub.status.busy": "2020-10-27T07:45:24.286571Z",
     "iopub.status.idle": "2020-10-27T07:45:24.403628Z",
     "shell.execute_reply": "2020-10-27T07:45:24.404110Z"
    }
   },
   "outputs": [
    {
     "name": "stdout",
     "output_type": "stream",
     "text": [
      "\r",
      "0it [00:00, ?it/s]"
     ]
    },
    {
     "name": "stdout",
     "output_type": "stream",
     "text": [
      "\r",
      "Upgrading database; v0 -> v1: : 0it [00:00, ?it/s]"
     ]
    },
    {
     "name": "stdout",
     "output_type": "stream",
     "text": [
      "\r",
      "Upgrading database; v0 -> v1: : 0it [00:00, ?it/s]"
     ]
    },
    {
     "name": "stdout",
     "output_type": "stream",
     "text": [
      "\n",
      "\r",
      "  0%|          | 0/1 [00:00<?, ?it/s]"
     ]
    },
    {
     "name": "stdout",
     "output_type": "stream",
     "text": [
      "\r",
      "Upgrading database; v1 -> v2:   0%|          | 0/1 [00:00<?, ?it/s]"
     ]
    },
    {
     "name": "stdout",
     "output_type": "stream",
     "text": [
      "\r",
      "Upgrading database; v1 -> v2: 100%|██████████| 1/1 [00:00<00:00, 561.86it/s]"
     ]
    },
    {
     "name": "stdout",
     "output_type": "stream",
     "text": [
      "\n",
      "\r",
      "0it [00:00, ?it/s]"
     ]
    },
    {
     "name": "stdout",
     "output_type": "stream",
     "text": [
      "\r",
      "Upgrading database; v2 -> v3: : 0it [00:00, ?it/s]"
     ]
    },
    {
     "name": "stdout",
     "output_type": "stream",
     "text": [
      "\r",
      "Upgrading database; v2 -> v3: : 0it [00:00, ?it/s]"
     ]
    },
    {
     "name": "stdout",
     "output_type": "stream",
     "text": [
      "\n",
      "\r",
      "0it [00:00, ?it/s]"
     ]
    },
    {
     "name": "stdout",
     "output_type": "stream",
     "text": [
      "\r",
      "Upgrading database; v3 -> v4: : 0it [00:00, ?it/s]"
     ]
    },
    {
     "name": "stdout",
     "output_type": "stream",
     "text": [
      "\r",
      "Upgrading database; v3 -> v4: : 0it [00:00, ?it/s]"
     ]
    },
    {
     "name": "stdout",
     "output_type": "stream",
     "text": [
      "\n",
      "\r",
      "  0%|          | 0/1 [00:00<?, ?it/s]"
     ]
    },
    {
     "name": "stdout",
     "output_type": "stream",
     "text": [
      "\r",
      "Upgrading database; v4 -> v5:   0%|          | 0/1 [00:00<?, ?it/s]"
     ]
    },
    {
     "name": "stdout",
     "output_type": "stream",
     "text": [
      "\r",
      "Upgrading database; v4 -> v5: 100%|██████████| 1/1 [00:00<00:00, 1057.57it/s]"
     ]
    },
    {
     "name": "stdout",
     "output_type": "stream",
     "text": [
      "\n",
      "\r",
      "0it [00:00, ?it/s]"
     ]
    },
    {
     "name": "stdout",
     "output_type": "stream",
     "text": [
      "\r",
      "Upgrading database; v5 -> v6: : 0it [00:00, ?it/s]"
     ]
    },
    {
     "name": "stdout",
     "output_type": "stream",
     "text": [
      "\r",
      "Upgrading database; v5 -> v6: : 0it [00:00, ?it/s]"
     ]
    },
    {
     "name": "stdout",
     "output_type": "stream",
     "text": [
      "\n",
      "\r",
      "  0%|          | 0/1 [00:00<?, ?it/s]"
     ]
    },
    {
     "name": "stdout",
     "output_type": "stream",
     "text": [
      "\r",
      "Upgrading database; v6 -> v7:   0%|          | 0/1 [00:00<?, ?it/s]"
     ]
    },
    {
     "name": "stdout",
     "output_type": "stream",
     "text": [
      "\r",
      "Upgrading database; v6 -> v7: 100%|██████████| 1/1 [00:00<00:00, 356.33it/s]"
     ]
    },
    {
     "name": "stdout",
     "output_type": "stream",
     "text": [
      "\n",
      "\r",
      "  0%|          | 0/1 [00:00<?, ?it/s]"
     ]
    },
    {
     "name": "stdout",
     "output_type": "stream",
     "text": [
      "\r",
      "Upgrading database; v7 -> v8:   0%|          | 0/1 [00:00<?, ?it/s]"
     ]
    },
    {
     "name": "stdout",
     "output_type": "stream",
     "text": [
      "\r",
      "Upgrading database; v7 -> v8: 100%|██████████| 1/1 [00:00<00:00, 1127.20it/s]"
     ]
    },
    {
     "name": "stdout",
     "output_type": "stream",
     "text": [
      "\n",
      "\r",
      "  0%|          | 0/1 [00:00<?, ?it/s]"
     ]
    },
    {
     "name": "stdout",
     "output_type": "stream",
     "text": [
      "\r",
      "Upgrading database; v8 -> v9:   0%|          | 0/1 [00:00<?, ?it/s]"
     ]
    },
    {
     "name": "stdout",
     "output_type": "stream",
     "text": [
      "\r",
      "Upgrading database; v8 -> v9: 100%|██████████| 1/1 [00:00<00:00, 545.57it/s]"
     ]
    },
    {
     "name": "stdout",
     "output_type": "stream",
     "text": [
      "\n"
     ]
    }
   ],
   "source": [
    "initialise_database()\n",
    "exp = load_or_create_experiment(experiment_name='tutorial_exp', sample_name=\"no sample\")"
   ]
  },
  {
   "cell_type": "markdown",
   "metadata": {},
   "source": [
    "Here, we define a simple function to benchmark the time it takes to insert n points with either numeric or array data type.\n",
    "We will compare both the time used to call ``add_result`` and the time used for the full measurement."
   ]
  },
  {
   "cell_type": "code",
   "execution_count": 4,
   "metadata": {
    "execution": {
     "iopub.execute_input": "2020-10-27T07:45:24.412695Z",
     "iopub.status.busy": "2020-10-27T07:45:24.412021Z",
     "iopub.status.idle": "2020-10-27T07:45:24.415880Z",
     "shell.execute_reply": "2020-10-27T07:45:24.415431Z"
    }
   },
   "outputs": [],
   "source": [
    "def insert_data(paramtype, npoints, nreps=1):\n",
    "\n",
    "    meas = Measurement(exp=exp)\n",
    "\n",
    "    x1 = ManualParameter('x1')\n",
    "    x2 = ManualParameter('x2')\n",
    "    x3 = ManualParameter('x3')\n",
    "    y1 = ManualParameter('y1')\n",
    "    y2 = ManualParameter('y2')\n",
    "\n",
    "    meas.register_parameter(x1, paramtype=paramtype)\n",
    "    meas.register_parameter(x2, paramtype=paramtype)\n",
    "    meas.register_parameter(x3, paramtype=paramtype)\n",
    "    meas.register_parameter(y1, setpoints=[x1, x2, x3],\n",
    "                            paramtype=paramtype)\n",
    "    meas.register_parameter(y2, setpoints=[x1, x2, x3],\n",
    "                            paramtype=paramtype)\n",
    "    start = time.perf_counter()\n",
    "    with meas.run() as datasaver:\n",
    "        start_adding = time.perf_counter()\n",
    "        for i in range(nreps):\n",
    "            datasaver.add_result((x1, np.random.rand(npoints)),\n",
    "                                 (x2, np.random.rand(npoints)),\n",
    "                                 (x3, np.random.rand(npoints)),\n",
    "                                 (y1, np.random.rand(npoints)),\n",
    "                                 (y2, np.random.rand(npoints)))\n",
    "        stop_adding = time.perf_counter()\n",
    "        run_id = datasaver.run_id\n",
    "    stop = time.perf_counter()\n",
    "    tot_time = stop - start\n",
    "    add_time = stop_adding - start_adding\n",
    "    return tot_time, add_time, run_id"
   ]
  },
  {
   "cell_type": "markdown",
   "metadata": {},
   "source": [
    "## Comparison between numeric/array data and binary blob"
   ]
  },
  {
   "cell_type": "markdown",
   "metadata": {},
   "source": [
    "### Case1: Short experiment time"
   ]
  },
  {
   "cell_type": "code",
   "execution_count": 5,
   "metadata": {
    "execution": {
     "iopub.execute_input": "2020-10-27T07:45:24.423472Z",
     "iopub.status.busy": "2020-10-27T07:45:24.421751Z",
     "iopub.status.idle": "2020-10-27T07:45:25.283418Z",
     "shell.execute_reply": "2020-10-27T07:45:25.282535Z"
    }
   },
   "outputs": [
    {
     "name": "stdout",
     "output_type": "stream",
     "text": [
      "Starting experimental run with id: 1. \n",
      "Starting experimental run with id: 2. \n",
      "Starting experimental run with id: 3. \n",
      "Starting experimental run with id: 4. \n"
     ]
    },
    {
     "name": "stdout",
     "output_type": "stream",
     "text": [
      "Starting experimental run with id: 5. \n"
     ]
    },
    {
     "name": "stdout",
     "output_type": "stream",
     "text": [
      "Starting experimental run with id: 6. "
     ]
    },
    {
     "name": "stdout",
     "output_type": "stream",
     "text": [
      "\n",
      "Starting experimental run with id: 7. \n"
     ]
    },
    {
     "name": "stdout",
     "output_type": "stream",
     "text": [
      "Starting experimental run with id: 8. \n",
      "Starting experimental run with id: 9. \n"
     ]
    },
    {
     "name": "stdout",
     "output_type": "stream",
     "text": [
      "Starting experimental run with id: 10. \n",
      "Starting experimental run with id: 11. \n"
     ]
    },
    {
     "name": "stdout",
     "output_type": "stream",
     "text": [
      "Starting experimental run with id: 12. \n",
      "Starting experimental run with id: 13. \n"
     ]
    },
    {
     "name": "stdout",
     "output_type": "stream",
     "text": [
      "Starting experimental run with id: 14. \n"
     ]
    }
   ],
   "source": [
    "sizes = [1,500,1000,2000,3000,4000,5000]\n",
    "t_numeric = []\n",
    "t_numeric_add = []\n",
    "t_array = []\n",
    "t_array_add = []\n",
    "for size in sizes:\n",
    "    tn, tna, run_id_n =  insert_data('numeric', size)\n",
    "    t_numeric.append(tn)\n",
    "    t_numeric_add.append(tna)\n",
    "\n",
    "    ta, taa, run_id_a =  insert_data('array', size)\n",
    "    t_array.append(ta)\n",
    "    t_array_add.append(taa)"
   ]
  },
  {
   "cell_type": "code",
   "execution_count": 6,
   "metadata": {
    "execution": {
     "iopub.execute_input": "2020-10-27T07:45:25.311839Z",
     "iopub.status.busy": "2020-10-27T07:45:25.304879Z",
     "iopub.status.idle": "2020-10-27T07:45:25.528054Z",
     "shell.execute_reply": "2020-10-27T07:45:25.528825Z"
    }
   },
   "outputs": [
    {
     "data": {
      "image/png": "[encoded data removed]",
      "text/plain": [
       "<Figure size 432x288 with 1 Axes>"
      ]
     },
     "metadata": {
      "needs_background": "light"
     },
     "output_type": "display_data"
    }
   ],
   "source": [
    "fig, ax = plt.subplots(1,1)\n",
    "ax.plot(sizes, t_numeric, 'o-', label='Inserting row-by-row')\n",
    "ax.plot(sizes, t_numeric_add, 'o-', label='Inserting row-by-row: add_result only')\n",
    "ax.plot(sizes, t_array, 'd-', label='Inserting as binary blob')\n",
    "ax.plot(sizes, t_array_add, 'd-', label='Inserting as binary blob: add_result only')\n",
    "ax.legend()\n",
    "ax.set_xlabel('Array length')\n",
    "ax.set_ylabel('Time (s)')\n",
    "fig.tight_layout()"
   ]
  },
  {
   "cell_type": "markdown",
   "metadata": {},
   "source": [
    "As shown in the latter figure, the time to setup and and close the experiment is approximately 0.4 sec. In case of small array sizes, the difference between inserting values of data as arrays and inserting them row-by-row is relatively unimportant. At larger array sizes, i.e. above 10000 points, the cost of writing data as individual datapoints starts to become important.\n"
   ]
  },
  {
   "cell_type": "markdown",
   "metadata": {},
   "source": [
    "### Case2: Long experiment time "
   ]
  },
  {
   "cell_type": "code",
   "execution_count": 7,
   "metadata": {
    "execution": {
     "iopub.execute_input": "2020-10-27T07:45:25.536224Z",
     "iopub.status.busy": "2020-10-27T07:45:25.534509Z",
     "iopub.status.idle": "2020-10-27T07:46:25.571608Z",
     "shell.execute_reply": "2020-10-27T07:46:25.572235Z"
    }
   },
   "outputs": [
    {
     "name": "stdout",
     "output_type": "stream",
     "text": [
      "Starting experimental run with id: 15. \n",
      "Starting experimental run with id: 16. \n",
      "Starting experimental run with id: 17. \n"
     ]
    },
    {
     "name": "stdout",
     "output_type": "stream",
     "text": [
      "Starting experimental run with id: 18. \n",
      "Starting experimental run with id: 19. \n"
     ]
    },
    {
     "name": "stdout",
     "output_type": "stream",
     "text": [
      "Starting experimental run with id: 20. \n"
     ]
    },
    {
     "name": "stdout",
     "output_type": "stream",
     "text": [
      "Starting experimental run with id: 21. \n"
     ]
    },
    {
     "name": "stdout",
     "output_type": "stream",
     "text": [
      "Starting experimental run with id: 22. \n"
     ]
    },
    {
     "name": "stdout",
     "output_type": "stream",
     "text": [
      "Starting experimental run with id: 23. \n"
     ]
    },
    {
     "name": "stdout",
     "output_type": "stream",
     "text": [
      "Starting experimental run with id: 24. \n"
     ]
    },
    {
     "name": "stdout",
     "output_type": "stream",
     "text": [
      "Starting experimental run with id: 25. \n"
     ]
    },
    {
     "name": "stdout",
     "output_type": "stream",
     "text": [
      "Starting experimental run with id: 26. \n"
     ]
    },
    {
     "name": "stdout",
     "output_type": "stream",
     "text": [
      "Starting experimental run with id: 27. \n"
     ]
    },
    {
     "name": "stdout",
     "output_type": "stream",
     "text": [
      "Starting experimental run with id: 28. \n"
     ]
    }
   ],
   "source": [
    "sizes = [1,500,1000,2000,3000,4000,5000]\n",
    "nreps = 100\n",
    "t_numeric = []\n",
    "t_numeric_add = []\n",
    "t_numeric_run_ids = []\n",
    "t_array = []\n",
    "t_array_add = []\n",
    "t_array_run_ids = []\n",
    "for size in sizes:\n",
    "    tn, tna, run_id_n =  insert_data('numeric', size, nreps=nreps)\n",
    "    t_numeric.append(tn)\n",
    "    t_numeric_add.append(tna)\n",
    "    t_numeric_run_ids.append(run_id_n)\n",
    "\n",
    "    ta, taa, run_id_a =  insert_data('array', size, nreps=nreps)\n",
    "    t_array.append(ta)\n",
    "    t_array_add.append(taa)\n",
    "    t_array_run_ids.append(run_id_a)"
   ]
  },
  {
   "cell_type": "code",
   "execution_count": 8,
   "metadata": {
    "execution": {
     "iopub.execute_input": "2020-10-27T07:46:25.595273Z",
     "iopub.status.busy": "2020-10-27T07:46:25.590850Z",
     "iopub.status.idle": "2020-10-27T07:46:25.816888Z",
     "shell.execute_reply": "2020-10-27T07:46:25.816383Z"
    },
    "scrolled": true
   },
   "outputs": [
    {
     "data": {
      "image/png": "[encoded data removed]",
      "text/plain": [
       "<Figure size 432x288 with 1 Axes>"
      ]
     },
     "metadata": {
      "needs_background": "light"
     },
     "output_type": "display_data"
    }
   ],
   "source": [
    "fig, ax = plt.subplots(1,1)\n",
    "ax.plot(sizes, t_numeric, 'o-', label='Inserting row-by-row')\n",
    "ax.plot(sizes, t_numeric_add, 'o-', label='Inserting row-by-row: add_result only')\n",
    "ax.plot(sizes, t_array, 'd-', label='Inserting as binary blob')\n",
    "ax.plot(sizes, t_array_add, 'd-', label='Inserting as binary blob: add_result only')\n",
    "ax.legend()\n",
    "ax.set_xlabel('Array length')\n",
    "ax.set_ylabel('Time (s)')\n",
    "fig.tight_layout()"
   ]
  },
  {
   "cell_type": "markdown",
   "metadata": {},
   "source": [
    "However, as we increase the length of the experiment, as seen here by repeating the insertion 100 times, we see a big difference between inserting values of the data row-by-row and inserting it as a binary blob."
   ]
  },
  {
   "cell_type": "markdown",
   "metadata": {},
   "source": [
    "## Loading the data "
   ]
  },
  {
   "cell_type": "code",
   "execution_count": 9,
   "metadata": {
    "execution": {
     "iopub.execute_input": "2020-10-27T07:46:25.821137Z",
     "iopub.status.busy": "2020-10-27T07:46:25.820098Z",
     "iopub.status.idle": "2020-10-27T07:46:25.824226Z",
     "shell.execute_reply": "2020-10-27T07:46:25.823780Z"
    }
   },
   "outputs": [],
   "source": [
    "from qcodes.dataset.data_set import load_by_id\n",
    "from qcodes.dataset.data_export import get_data_by_id"
   ]
  },
  {
   "cell_type": "markdown",
   "metadata": {},
   "source": [
    "As usual you can load the data by using the ``load_by_id`` function but you will notice that the different storage methods\n",
    "are reflected in shape of the data as it is retrieved. "
   ]
  },
  {
   "cell_type": "code",
   "execution_count": 10,
   "metadata": {
    "execution": {
     "iopub.execute_input": "2020-10-27T07:46:25.828472Z",
     "iopub.status.busy": "2020-10-27T07:46:25.827216Z",
     "iopub.status.idle": "2020-10-27T07:46:25.829422Z",
     "shell.execute_reply": "2020-10-27T07:46:25.830055Z"
    }
   },
   "outputs": [],
   "source": [
    "run_id_n = t_numeric_run_ids[0]\n",
    "run_id_a = t_array_run_ids[0]"
   ]
  },
  {
   "cell_type": "code",
   "execution_count": 11,
   "metadata": {
    "execution": {
     "iopub.execute_input": "2020-10-27T07:46:25.834161Z",
     "iopub.status.busy": "2020-10-27T07:46:25.833547Z",
     "iopub.status.idle": "2020-10-27T07:46:25.843265Z",
     "shell.execute_reply": "2020-10-27T07:46:25.842684Z"
    },
    "scrolled": true
   },
   "outputs": [
    {
     "data": {
      "text/plain": [
       "{'x1': {'x1': array([0.67096553, 0.67096553, 0.20217214, 0.20217214, 0.87772929,\n",
       "         0.87772929, 0.62512768, 0.62512768, 0.61550396, 0.61550396,\n",
       "         0.4465427 , 0.4465427 , 0.9950906 , 0.9950906 , 0.40523715,\n",
       "         0.40523715, 0.05857287, 0.05857287, 0.49555014, 0.49555014,\n",
       "         0.04895708, 0.04895708, 0.26801052, 0.26801052, 0.01915088,\n",
       "         0.01915088, 0.32202785, 0.32202785, 0.63508537, 0.63508537,\n",
       "         0.77794829, 0.77794829, 0.29517012, 0.29517012, 0.05647332,\n",
       "         0.05647332, 0.32898399, 0.32898399, 0.58912452, 0.58912452,\n",
       "         0.20299943, 0.20299943, 0.65349029, 0.65349029, 0.84989609,\n",
       "         0.84989609, 0.33707301, 0.33707301, 0.97668233, 0.97668233,\n",
       "         0.28003001, 0.28003001, 0.1687988 , 0.1687988 , 0.03321959,\n",
       "         0.03321959, 0.37269704, 0.37269704, 0.12391858, 0.12391858,\n",
       "         0.0631123 , 0.0631123 , 0.1823356 , 0.1823356 , 0.56568808,\n",
       "         0.56568808, 0.9634965 , 0.9634965 , 0.51227126, 0.51227126,\n",
       "         0.58067037, 0.58067037, 0.63000662, 0.63000662, 0.15433972,\n",
       "         0.15433972, 0.7178187 , 0.7178187 , 0.2689575 , 0.2689575 ,\n",
       "         0.81565704, 0.81565704, 0.29422963, 0.29422963, 0.24101774,\n",
       "         0.24101774, 0.26512624, 0.26512624, 0.41712433, 0.41712433,\n",
       "         0.85214305, 0.85214305, 0.68844336, 0.68844336, 0.8967031 ,\n",
       "         0.8967031 , 0.12329942, 0.12329942, 0.46166071, 0.46166071,\n",
       "         0.4547945 , 0.4547945 , 0.33354917, 0.33354917, 0.09555481,\n",
       "         0.09555481, 0.47739891, 0.47739891, 0.23746914, 0.23746914,\n",
       "         0.61311639, 0.61311639, 0.76391682, 0.76391682, 0.09125841,\n",
       "         0.09125841, 0.77372182, 0.77372182, 0.01107065, 0.01107065,\n",
       "         0.08570524, 0.08570524, 0.7967795 , 0.7967795 , 0.38234779,\n",
       "         0.38234779, 0.97412293, 0.97412293, 0.28487584, 0.28487584,\n",
       "         0.1616302 , 0.1616302 , 0.46133561, 0.46133561, 0.35013756,\n",
       "         0.35013756, 0.88151893, 0.88151893, 0.17302386, 0.17302386,\n",
       "         0.08781068, 0.08781068, 0.56472658, 0.56472658, 0.40489132,\n",
       "         0.40489132, 0.64147501, 0.64147501, 0.33196753, 0.33196753,\n",
       "         0.1080112 , 0.1080112 , 0.03644676, 0.03644676, 0.54596021,\n",
       "         0.54596021, 0.54875463, 0.54875463, 0.40671082, 0.40671082,\n",
       "         0.60450482, 0.60450482, 0.05531874, 0.05531874, 0.39048873,\n",
       "         0.39048873, 0.93005509, 0.93005509, 0.37940669, 0.37940669,\n",
       "         0.09659533, 0.09659533, 0.61527422, 0.61527422, 0.70186639,\n",
       "         0.70186639, 0.9838061 , 0.9838061 , 0.8189485 , 0.8189485 ,\n",
       "         0.38715997, 0.38715997, 0.29160326, 0.29160326, 0.76366727,\n",
       "         0.76366727, 0.97054474, 0.97054474, 0.32387752, 0.32387752,\n",
       "         0.4095445 , 0.4095445 , 0.09450648, 0.09450648, 0.15763088,\n",
       "         0.15763088, 0.45382273, 0.45382273, 0.6183518 , 0.6183518 ])}}"
      ]
     },
     "execution_count": 1,
     "metadata": {},
     "output_type": "execute_result"
    }
   ],
   "source": [
    "ds = load_by_id(run_id_n)\n",
    "ds.get_parameter_data('x1')"
   ]
  },
  {
   "cell_type": "markdown",
   "metadata": {},
   "source": [
    "And a dataset stored as binary arrays"
   ]
  },
  {
   "cell_type": "code",
   "execution_count": 12,
   "metadata": {
    "execution": {
     "iopub.execute_input": "2020-10-27T07:46:25.846855Z",
     "iopub.status.busy": "2020-10-27T07:46:25.846121Z",
     "iopub.status.idle": "2020-10-27T07:46:25.908564Z",
     "shell.execute_reply": "2020-10-27T07:46:25.909145Z"
    },
    "scrolled": true
   },
   "outputs": [
    {
     "data": {
      "text/plain": [
       "{'x1': {'x1': array([[0.40582423],\n",
       "         [0.40582423],\n",
       "         [0.9257942 ],\n",
       "         [0.9257942 ],\n",
       "         [0.47555259],\n",
       "         [0.47555259],\n",
       "         [0.70224431],\n",
       "         [0.70224431],\n",
       "         [0.10893734],\n",
       "         [0.10893734],\n",
       "         [0.86195396],\n",
       "         [0.86195396],\n",
       "         [0.38744057],\n",
       "         [0.38744057],\n",
       "         [0.63067695],\n",
       "         [0.63067695],\n",
       "         [0.89390142],\n",
       "         [0.89390142],\n",
       "         [0.4147643 ],\n",
       "         [0.4147643 ],\n",
       "         [0.44848798],\n",
       "         [0.44848798],\n",
       "         [0.17118845],\n",
       "         [0.17118845],\n",
       "         [0.68966478],\n",
       "         [0.68966478],\n",
       "         [0.12626139],\n",
       "         [0.12626139],\n",
       "         [0.20185423],\n",
       "         [0.20185423],\n",
       "         [0.274285  ],\n",
       "         [0.274285  ],\n",
       "         [0.65780689],\n",
       "         [0.65780689],\n",
       "         [0.38087509],\n",
       "         [0.38087509],\n",
       "         [0.7748112 ],\n",
       "         [0.7748112 ],\n",
       "         [0.91165209],\n",
       "         [0.91165209],\n",
       "         [0.51096266],\n",
       "         [0.51096266],\n",
       "         [0.92059627],\n",
       "         [0.92059627],\n",
       "         [0.68981652],\n",
       "         [0.68981652],\n",
       "         [0.17646111],\n",
       "         [0.17646111],\n",
       "         [0.4686626 ],\n",
       "         [0.4686626 ],\n",
       "         [0.00215539],\n",
       "         [0.00215539],\n",
       "         [0.92687314],\n",
       "         [0.92687314],\n",
       "         [0.53729743],\n",
       "         [0.53729743],\n",
       "         [0.91228111],\n",
       "         [0.91228111],\n",
       "         [0.48874446],\n",
       "         [0.48874446],\n",
       "         [0.45570445],\n",
       "         [0.45570445],\n",
       "         [0.04178967],\n",
       "         [0.04178967],\n",
       "         [0.43238411],\n",
       "         [0.43238411],\n",
       "         [0.59537647],\n",
       "         [0.59537647],\n",
       "         [0.63377122],\n",
       "         [0.63377122],\n",
       "         [0.59004251],\n",
       "         [0.59004251],\n",
       "         [0.34476016],\n",
       "         [0.34476016],\n",
       "         [0.43079048],\n",
       "         [0.43079048],\n",
       "         [0.8490861 ],\n",
       "         [0.8490861 ],\n",
       "         [0.53760575],\n",
       "         [0.53760575],\n",
       "         [0.08365948],\n",
       "         [0.08365948],\n",
       "         [0.29047518],\n",
       "         [0.29047518],\n",
       "         [0.86873176],\n",
       "         [0.86873176],\n",
       "         [0.56467048],\n",
       "         [0.56467048],\n",
       "         [0.74852339],\n",
       "         [0.74852339],\n",
       "         [0.00797143],\n",
       "         [0.00797143],\n",
       "         [0.82185532],\n",
       "         [0.82185532],\n",
       "         [0.18900469],\n",
       "         [0.18900469],\n",
       "         [0.82458683],\n",
       "         [0.82458683],\n",
       "         [0.6354259 ],\n",
       "         [0.6354259 ],\n",
       "         [0.8579012 ],\n",
       "         [0.8579012 ],\n",
       "         [0.39655492],\n",
       "         [0.39655492],\n",
       "         [0.52759039],\n",
       "         [0.52759039],\n",
       "         [0.20040664],\n",
       "         [0.20040664],\n",
       "         [0.77889681],\n",
       "         [0.77889681],\n",
       "         [0.37945055],\n",
       "         [0.37945055],\n",
       "         [0.60365042],\n",
       "         [0.60365042],\n",
       "         [0.85406211],\n",
       "         [0.85406211],\n",
       "         [0.22511432],\n",
       "         [0.22511432],\n",
       "         [0.41777574],\n",
       "         [0.41777574],\n",
       "         [0.4395189 ],\n",
       "         [0.4395189 ],\n",
       "         [0.79084303],\n",
       "         [0.79084303],\n",
       "         [0.48077981],\n",
       "         [0.48077981],\n",
       "         [0.09136886],\n",
       "         [0.09136886],\n",
       "         [0.70008915],\n",
       "         [0.70008915],\n",
       "         [0.90700204],\n",
       "         [0.90700204],\n",
       "         [0.18791311],\n",
       "         [0.18791311],\n",
       "         [0.31267689],\n",
       "         [0.31267689],\n",
       "         [0.67178728],\n",
       "         [0.67178728],\n",
       "         [0.96722183],\n",
       "         [0.96722183],\n",
       "         [0.81548366],\n",
       "         [0.81548366],\n",
       "         [0.88101633],\n",
       "         [0.88101633],\n",
       "         [0.39550681],\n",
       "         [0.39550681],\n",
       "         [0.88278144],\n",
       "         [0.88278144],\n",
       "         [0.98563524],\n",
       "         [0.98563524],\n",
       "         [0.11134512],\n",
       "         [0.11134512],\n",
       "         [0.87571532],\n",
       "         [0.87571532],\n",
       "         [0.39227504],\n",
       "         [0.39227504],\n",
       "         [0.25361121],\n",
       "         [0.25361121],\n",
       "         [0.80307129],\n",
       "         [0.80307129],\n",
       "         [0.71375779],\n",
       "         [0.71375779],\n",
       "         [0.19752122],\n",
       "         [0.19752122],\n",
       "         [0.92498956],\n",
       "         [0.92498956],\n",
       "         [0.72482678],\n",
       "         [0.72482678],\n",
       "         [0.49227642],\n",
       "         [0.49227642],\n",
       "         [0.90537736],\n",
       "         [0.90537736],\n",
       "         [0.5829995 ],\n",
       "         [0.5829995 ],\n",
       "         [0.65840111],\n",
       "         [0.65840111],\n",
       "         [0.52947025],\n",
       "         [0.52947025],\n",
       "         [0.11491096],\n",
       "         [0.11491096],\n",
       "         [0.00943935],\n",
       "         [0.00943935],\n",
       "         [0.58989414],\n",
       "         [0.58989414],\n",
       "         [0.13575694],\n",
       "         [0.13575694],\n",
       "         [0.5424217 ],\n",
       "         [0.5424217 ],\n",
       "         [0.80770791],\n",
       "         [0.80770791],\n",
       "         [0.89496804],\n",
       "         [0.89496804],\n",
       "         [0.30955374],\n",
       "         [0.30955374],\n",
       "         [0.40433509],\n",
       "         [0.40433509],\n",
       "         [0.30503479],\n",
       "         [0.30503479],\n",
       "         [0.23156814],\n",
       "         [0.23156814]])}}"
      ]
     },
     "execution_count": 1,
     "metadata": {},
     "output_type": "execute_result"
    }
   ],
   "source": [
    "ds = load_by_id(run_id_a)\n",
    "ds.get_parameter_data('x1')"
   ]
  },
  {
   "cell_type": "code",
   "execution_count": null,
   "metadata": {},
   "outputs": [],
   "source": []
  }
 ],
 "metadata": {
  "kernelspec": {
   "display_name": "Python 3",
   "language": "python",
   "name": "python3"
  },
  "language_info": {
   "codemirror_mode": {
    "name": "ipython",
    "version": 3
   },
   "file_extension": ".py",
   "mimetype": "text/x-python",
   "name": "python",
   "nbconvert_exporter": "python",
   "pygments_lexer": "ipython3",
   "version": "3.7.7"
  },
  "nbsphinx": {
   "timeout": 600
  },
  "toc": {
   "base_numbering": 1,
   "nav_menu": {},
   "number_sections": true,
   "sideBar": true,
   "skip_h1_title": false,
   "title_cell": "Table of Contents",
   "title_sidebar": "Contents",
   "toc_cell": false,
   "toc_position": {},
   "toc_section_display": true,
   "toc_window_display": false
  },
  "varInspector": {
   "cols": {
    "lenName": 16,
    "lenType": 16,
    "lenVar": 40
   },
   "kernels_config": {
    "python": {
     "delete_cmd_postfix": "",
     "delete_cmd_prefix": "del ",
     "library": "var_list.py",
     "varRefreshCmd": "print(var_dic_list())"
    },
    "r": {
     "delete_cmd_postfix": ") ",
     "delete_cmd_prefix": "rm(",
     "library": "var_list.r",
     "varRefreshCmd": "cat(var_dic_list()) "
    }
   },
   "types_to_exclude": [
    "module",
    "function",
    "builtin_function_or_method",
    "instance",
    "_Feature"
   ],
   "window_display": false
  }
 },
 "nbformat": 4,
 "nbformat_minor": 2
}
