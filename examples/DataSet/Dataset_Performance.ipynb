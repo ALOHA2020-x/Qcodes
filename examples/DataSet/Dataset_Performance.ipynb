{
 "cells": [
  {
   "cell_type": "markdown",
   "metadata": {},
   "source": [
    "# DataSet Performance\n",
    "\n",
    "This notebook shows the trade-off between inserting data into a database row-by-row and as binary blobs. Inserting the data row-by-row means that we have direct access to all the data and may perform queries directly on the values of the data. On the other hand, as we shall see, this is much slower than inserting the data directly as binary blobs."
   ]
  },
  {
   "cell_type": "markdown",
   "metadata": {},
   "source": [
    "First, we choose a new location for the database to ensure that we don't add a bunch of benchmarking data to the default one."
   ]
  },
  {
   "cell_type": "code",
   "execution_count": 1,
   "metadata": {
    "execution": {
     "iopub.execute_input": "2021-03-30T07:34:56.820719Z",
     "iopub.status.busy": "2021-03-30T07:34:56.820149Z",
     "iopub.status.idle": "2021-03-30T07:34:57.893192Z",
     "shell.execute_reply": "2021-03-30T07:34:57.892160Z"
    }
   },
   "outputs": [
    {
     "name": "stdout",
     "output_type": "stream",
     "text": [
      "Logging hadn't been started.\n",
      "Activating auto-logging. Current session state plus future input saved.\n",
      "Filename       : /home/runner/.qcodes/logs/command_history.log\n",
      "Mode           : append\n",
      "Output logging : True\n",
      "Raw input log  : False\n",
      "Timestamping   : True\n",
      "State          : active\n"
     ]
    },
    {
     "name": "stdout",
     "output_type": "stream",
     "text": [
      "Qcodes Logfile : /home/runner/.qcodes/logs/210330-4853-qcodes.log\n"
     ]
    }
   ],
   "source": [
    "import os\n",
    "cwd = os.getcwd()\n",
    "import qcodes as qc\n",
    "qc.config[\"core\"][\"db_location\"] = os.path.join(cwd, 'testing.db')\n"
   ]
  },
  {
   "cell_type": "code",
   "execution_count": 2,
   "metadata": {
    "execution": {
     "iopub.execute_input": "2021-03-30T07:34:57.903755Z",
     "iopub.status.busy": "2021-03-30T07:34:57.900975Z",
     "iopub.status.idle": "2021-03-30T07:34:58.153539Z",
     "shell.execute_reply": "2021-03-30T07:34:58.152862Z"
    }
   },
   "outputs": [],
   "source": [
    "%matplotlib inline\n",
    "import time\n",
    "import matplotlib.pyplot as plt\n",
    "import numpy as np\n",
    "\n",
    "import qcodes as qc\n",
    "from qcodes.instrument.parameter import ManualParameter\n",
    "from qcodes.dataset.experiment_container import (Experiment,\n",
    "                                                 load_last_experiment,\n",
    "                                                 new_experiment)\n",
    "from qcodes.dataset.sqlite.database import initialise_database\n",
    "from qcodes import load_or_create_experiment\n",
    "from qcodes.dataset.measurements import Measurement"
   ]
  },
  {
   "cell_type": "code",
   "execution_count": 3,
   "metadata": {
    "execution": {
     "iopub.execute_input": "2021-03-30T07:34:58.158445Z",
     "iopub.status.busy": "2021-03-30T07:34:58.157807Z",
     "iopub.status.idle": "2021-03-30T07:34:58.236630Z",
     "shell.execute_reply": "2021-03-30T07:34:58.236108Z"
    }
   },
   "outputs": [
    {
     "name": "stdout",
     "output_type": "stream",
     "text": [
      "\r",
      "0it [00:00, ?it/s]"
     ]
    },
    {
     "name": "stdout",
     "output_type": "stream",
     "text": [
      "\r",
      "Upgrading database; v0 -> v1: : 0it [00:00, ?it/s]"
     ]
    },
    {
     "name": "stdout",
     "output_type": "stream",
     "text": [
      "\r",
      "Upgrading database; v0 -> v1: : 0it [00:00, ?it/s]"
     ]
    },
    {
     "name": "stdout",
     "output_type": "stream",
     "text": [
      "\n",
      "\r",
      "  0%|          | 0/1 [00:00<?, ?it/s]"
     ]
    },
    {
     "name": "stdout",
     "output_type": "stream",
     "text": [
      "\r",
      "Upgrading database; v1 -> v2:   0%|          | 0/1 [00:00<?, ?it/s]"
     ]
    },
    {
     "name": "stdout",
     "output_type": "stream",
     "text": [
      "\r",
      "Upgrading database; v1 -> v2: 100%|██████████| 1/1 [00:00<00:00, 1123.88it/s]"
     ]
    },
    {
     "name": "stdout",
     "output_type": "stream",
     "text": [
      "\n",
      "\r",
      "0it [00:00, ?it/s]"
     ]
    },
    {
     "name": "stdout",
     "output_type": "stream",
     "text": [
      "\r",
      "Upgrading database; v2 -> v3: : 0it [00:00, ?it/s]"
     ]
    },
    {
     "name": "stdout",
     "output_type": "stream",
     "text": [
      "\r",
      "Upgrading database; v2 -> v3: : 0it [00:00, ?it/s]"
     ]
    },
    {
     "name": "stdout",
     "output_type": "stream",
     "text": [
      "\n",
      "\r",
      "0it [00:00, ?it/s]"
     ]
    },
    {
     "name": "stdout",
     "output_type": "stream",
     "text": [
      "\r",
      "Upgrading database; v3 -> v4: : 0it [00:00, ?it/s]"
     ]
    },
    {
     "name": "stdout",
     "output_type": "stream",
     "text": [
      "\r",
      "Upgrading database; v3 -> v4: : 0it [00:00, ?it/s]"
     ]
    },
    {
     "name": "stdout",
     "output_type": "stream",
     "text": [
      "\n",
      "\r",
      "  0%|          | 0/1 [00:00<?, ?it/s]"
     ]
    },
    {
     "name": "stdout",
     "output_type": "stream",
     "text": [
      "\r",
      "Upgrading database; v4 -> v5:   0%|          | 0/1 [00:00<?, ?it/s]"
     ]
    },
    {
     "name": "stdout",
     "output_type": "stream",
     "text": [
      "\r",
      "Upgrading database; v4 -> v5: 100%|██████████| 1/1 [00:00<00:00, 424.10it/s]"
     ]
    },
    {
     "name": "stdout",
     "output_type": "stream",
     "text": [
      "\n",
      "\r",
      "0it [00:00, ?it/s]"
     ]
    },
    {
     "name": "stdout",
     "output_type": "stream",
     "text": [
      "\r",
      "Upgrading database; v5 -> v6: : 0it [00:00, ?it/s]"
     ]
    },
    {
     "name": "stdout",
     "output_type": "stream",
     "text": [
      "\r",
      "Upgrading database; v5 -> v6: : 0it [00:00, ?it/s]"
     ]
    },
    {
     "name": "stdout",
     "output_type": "stream",
     "text": [
      "\n",
      "\r",
      "  0%|          | 0/1 [00:00<?, ?it/s]"
     ]
    },
    {
     "name": "stdout",
     "output_type": "stream",
     "text": [
      "\r",
      "Upgrading database; v6 -> v7:   0%|          | 0/1 [00:00<?, ?it/s]"
     ]
    },
    {
     "name": "stdout",
     "output_type": "stream",
     "text": [
      "\r",
      "Upgrading database; v6 -> v7: 100%|██████████| 1/1 [00:00<00:00, 283.96it/s]"
     ]
    },
    {
     "name": "stdout",
     "output_type": "stream",
     "text": [
      "\n",
      "\r",
      "  0%|          | 0/1 [00:00<?, ?it/s]"
     ]
    },
    {
     "name": "stdout",
     "output_type": "stream",
     "text": [
      "\r",
      "Upgrading database; v7 -> v8:   0%|          | 0/1 [00:00<?, ?it/s]"
     ]
    },
    {
     "name": "stdout",
     "output_type": "stream",
     "text": [
      "\r",
      "Upgrading database; v7 -> v8: 100%|██████████| 1/1 [00:00<00:00, 827.77it/s]"
     ]
    },
    {
     "name": "stdout",
     "output_type": "stream",
     "text": [
      "\n",
      "\r",
      "  0%|          | 0/1 [00:00<?, ?it/s]"
     ]
    },
    {
     "name": "stdout",
     "output_type": "stream",
     "text": [
      "\r",
      "Upgrading database; v8 -> v9:   0%|          | 0/1 [00:00<?, ?it/s]"
     ]
    },
    {
     "name": "stdout",
     "output_type": "stream",
     "text": [
      "\r",
      "Upgrading database; v8 -> v9: 100%|██████████| 1/1 [00:00<00:00, 441.00it/s]"
     ]
    },
    {
     "name": "stdout",
     "output_type": "stream",
     "text": [
      "\n"
     ]
    }
   ],
   "source": [
    "initialise_database()\n",
    "exp = load_or_create_experiment(experiment_name='tutorial_exp', sample_name=\"no sample\")"
   ]
  },
  {
   "cell_type": "markdown",
   "metadata": {},
   "source": [
    "Here, we define a simple function to benchmark the time it takes to insert n points with either numeric or array data type.\n",
    "We will compare both the time used to call ``add_result`` and the time used for the full measurement."
   ]
  },
  {
   "cell_type": "code",
   "execution_count": 4,
   "metadata": {
    "execution": {
     "iopub.execute_input": "2021-03-30T07:34:58.245168Z",
     "iopub.status.busy": "2021-03-30T07:34:58.243678Z",
     "iopub.status.idle": "2021-03-30T07:34:58.249325Z",
     "shell.execute_reply": "2021-03-30T07:34:58.248829Z"
    }
   },
   "outputs": [],
   "source": [
    "def insert_data(paramtype, npoints, nreps=1):\n",
    "\n",
    "    meas = Measurement(exp=exp)\n",
    "\n",
    "    x1 = ManualParameter('x1')\n",
    "    x2 = ManualParameter('x2')\n",
    "    x3 = ManualParameter('x3')\n",
    "    y1 = ManualParameter('y1')\n",
    "    y2 = ManualParameter('y2')\n",
    "\n",
    "    meas.register_parameter(x1, paramtype=paramtype)\n",
    "    meas.register_parameter(x2, paramtype=paramtype)\n",
    "    meas.register_parameter(x3, paramtype=paramtype)\n",
    "    meas.register_parameter(y1, setpoints=[x1, x2, x3],\n",
    "                            paramtype=paramtype)\n",
    "    meas.register_parameter(y2, setpoints=[x1, x2, x3],\n",
    "                            paramtype=paramtype)\n",
    "    start = time.perf_counter()\n",
    "    with meas.run() as datasaver:\n",
    "        start_adding = time.perf_counter()\n",
    "        for i in range(nreps):\n",
    "            datasaver.add_result((x1, np.random.rand(npoints)),\n",
    "                                 (x2, np.random.rand(npoints)),\n",
    "                                 (x3, np.random.rand(npoints)),\n",
    "                                 (y1, np.random.rand(npoints)),\n",
    "                                 (y2, np.random.rand(npoints)))\n",
    "        stop_adding = time.perf_counter()\n",
    "        run_id = datasaver.run_id\n",
    "    stop = time.perf_counter()\n",
    "    tot_time = stop - start\n",
    "    add_time = stop_adding - start_adding\n",
    "    return tot_time, add_time, run_id"
   ]
  },
  {
   "cell_type": "markdown",
   "metadata": {},
   "source": [
    "## Comparison between numeric/array data and binary blob"
   ]
  },
  {
   "cell_type": "markdown",
   "metadata": {},
   "source": [
    "### Case1: Short experiment time"
   ]
  },
  {
   "cell_type": "code",
   "execution_count": 5,
   "metadata": {
    "execution": {
     "iopub.execute_input": "2021-03-30T07:34:58.256969Z",
     "iopub.status.busy": "2021-03-30T07:34:58.256122Z",
     "iopub.status.idle": "2021-03-30T07:34:59.143081Z",
     "shell.execute_reply": "2021-03-30T07:34:59.143543Z"
    }
   },
   "outputs": [
    {
     "name": "stdout",
     "output_type": "stream",
     "text": [
      "Starting experimental run with id: 1. \n",
      "Starting experimental run with id: 2. \n",
      "Starting experimental run with id: 3. \n",
      "Starting experimental run with id: 4. \n",
      "Starting experimental run with id: 5. \n"
     ]
    },
    {
     "name": "stdout",
     "output_type": "stream",
     "text": [
      "Starting experimental run with id: 6. \n"
     ]
    },
    {
     "name": "stdout",
     "output_type": "stream",
     "text": [
      "Starting experimental run with id: 7. \n"
     ]
    },
    {
     "name": "stdout",
     "output_type": "stream",
     "text": [
      "Starting experimental run with id: 8. \n",
      "Starting experimental run with id: 9. \n"
     ]
    },
    {
     "name": "stdout",
     "output_type": "stream",
     "text": [
      "Starting experimental run with id: 10. \n",
      "Starting experimental run with id: 11. \n"
     ]
    },
    {
     "name": "stdout",
     "output_type": "stream",
     "text": [
      "Starting experimental run with id: 12. \n",
      "Starting experimental run with id: 13. \n"
     ]
    },
    {
     "name": "stdout",
     "output_type": "stream",
     "text": [
      "Starting experimental run with id: 14. \n"
     ]
    }
   ],
   "source": [
    "sizes = [1,500,1000,2000,3000,4000,5000]\n",
    "t_numeric = []\n",
    "t_numeric_add = []\n",
    "t_array = []\n",
    "t_array_add = []\n",
    "for size in sizes:\n",
    "    tn, tna, run_id_n =  insert_data('numeric', size)\n",
    "    t_numeric.append(tn)\n",
    "    t_numeric_add.append(tna)\n",
    "\n",
    "    ta, taa, run_id_a =  insert_data('array', size)\n",
    "    t_array.append(ta)\n",
    "    t_array_add.append(taa)"
   ]
  },
  {
   "cell_type": "code",
   "execution_count": 6,
   "metadata": {
    "execution": {
     "iopub.execute_input": "2021-03-30T07:34:59.174983Z",
     "iopub.status.busy": "2021-03-30T07:34:59.166884Z",
     "iopub.status.idle": "2021-03-30T07:34:59.355198Z",
     "shell.execute_reply": "2021-03-30T07:34:59.355666Z"
    }
   },
   "outputs": [
    {
     "data": {
      "image/png": "[encoded data removed]",
      "text/plain": [
       "<Figure size 432x288 with 1 Axes>"
      ]
     },
     "metadata": {
      "needs_background": "light"
     },
     "output_type": "display_data"
    }
   ],
   "source": [
    "fig, ax = plt.subplots(1,1)\n",
    "ax.plot(sizes, t_numeric, 'o-', label='Inserting row-by-row')\n",
    "ax.plot(sizes, t_numeric_add, 'o-', label='Inserting row-by-row: add_result only')\n",
    "ax.plot(sizes, t_array, 'd-', label='Inserting as binary blob')\n",
    "ax.plot(sizes, t_array_add, 'd-', label='Inserting as binary blob: add_result only')\n",
    "ax.legend()\n",
    "ax.set_xlabel('Array length')\n",
    "ax.set_ylabel('Time (s)')\n",
    "fig.tight_layout()"
   ]
  },
  {
   "cell_type": "markdown",
   "metadata": {},
   "source": [
    "As shown in the latter figure, the time to setup and and close the experiment is approximately 0.4 sec. In case of small array sizes, the difference between inserting values of data as arrays and inserting them row-by-row is relatively unimportant. At larger array sizes, i.e. above 10000 points, the cost of writing data as individual datapoints starts to become important.\n"
   ]
  },
  {
   "cell_type": "markdown",
   "metadata": {},
   "source": [
    "### Case2: Long experiment time "
   ]
  },
  {
   "cell_type": "code",
   "execution_count": 7,
   "metadata": {
    "execution": {
     "iopub.execute_input": "2021-03-30T07:34:59.363130Z",
     "iopub.status.busy": "2021-03-30T07:34:59.361887Z",
     "iopub.status.idle": "2021-03-30T07:36:01.709331Z",
     "shell.execute_reply": "2021-03-30T07:36:01.708784Z"
    }
   },
   "outputs": [
    {
     "name": "stdout",
     "output_type": "stream",
     "text": [
      "Starting experimental run with id: 15. \n",
      "Starting experimental run with id: 16. \n",
      "Starting experimental run with id: 17. \n"
     ]
    },
    {
     "name": "stdout",
     "output_type": "stream",
     "text": [
      "Starting experimental run with id: 18. \n",
      "Starting experimental run with id: 19. \n"
     ]
    },
    {
     "name": "stdout",
     "output_type": "stream",
     "text": [
      "Starting experimental run with id: 20. \n"
     ]
    },
    {
     "name": "stdout",
     "output_type": "stream",
     "text": [
      "Starting experimental run with id: 21. \n"
     ]
    },
    {
     "name": "stdout",
     "output_type": "stream",
     "text": [
      "Starting experimental run with id: 22. \n"
     ]
    },
    {
     "name": "stdout",
     "output_type": "stream",
     "text": [
      "Starting experimental run with id: 23. \n"
     ]
    },
    {
     "name": "stdout",
     "output_type": "stream",
     "text": [
      "Starting experimental run with id: 24. \n"
     ]
    },
    {
     "name": "stdout",
     "output_type": "stream",
     "text": [
      "Starting experimental run with id: 25. \n"
     ]
    },
    {
     "name": "stdout",
     "output_type": "stream",
     "text": [
      "Starting experimental run with id: 26. \n"
     ]
    },
    {
     "name": "stdout",
     "output_type": "stream",
     "text": [
      "Starting experimental run with id: 27. \n"
     ]
    },
    {
     "name": "stdout",
     "output_type": "stream",
     "text": [
      "Starting experimental run with id: 28. \n"
     ]
    }
   ],
   "source": [
    "sizes = [1,500,1000,2000,3000,4000,5000]\n",
    "nreps = 100\n",
    "t_numeric = []\n",
    "t_numeric_add = []\n",
    "t_numeric_run_ids = []\n",
    "t_array = []\n",
    "t_array_add = []\n",
    "t_array_run_ids = []\n",
    "for size in sizes:\n",
    "    tn, tna, run_id_n =  insert_data('numeric', size, nreps=nreps)\n",
    "    t_numeric.append(tn)\n",
    "    t_numeric_add.append(tna)\n",
    "    t_numeric_run_ids.append(run_id_n)\n",
    "\n",
    "    ta, taa, run_id_a =  insert_data('array', size, nreps=nreps)\n",
    "    t_array.append(ta)\n",
    "    t_array_add.append(taa)\n",
    "    t_array_run_ids.append(run_id_a)"
   ]
  },
  {
   "cell_type": "code",
   "execution_count": 8,
   "metadata": {
    "execution": {
     "iopub.execute_input": "2021-03-30T07:36:01.732358Z",
     "iopub.status.busy": "2021-03-30T07:36:01.715171Z",
     "iopub.status.idle": "2021-03-30T07:36:01.908262Z",
     "shell.execute_reply": "2021-03-30T07:36:01.909031Z"
    },
    "scrolled": true
   },
   "outputs": [
    {
     "data": {
      "image/png": "[encoded data removed]",
      "text/plain": [
       "<Figure size 432x288 with 1 Axes>"
      ]
     },
     "metadata": {
      "needs_background": "light"
     },
     "output_type": "display_data"
    }
   ],
   "source": [
    "fig, ax = plt.subplots(1,1)\n",
    "ax.plot(sizes, t_numeric, 'o-', label='Inserting row-by-row')\n",
    "ax.plot(sizes, t_numeric_add, 'o-', label='Inserting row-by-row: add_result only')\n",
    "ax.plot(sizes, t_array, 'd-', label='Inserting as binary blob')\n",
    "ax.plot(sizes, t_array_add, 'd-', label='Inserting as binary blob: add_result only')\n",
    "ax.legend()\n",
    "ax.set_xlabel('Array length')\n",
    "ax.set_ylabel('Time (s)')\n",
    "fig.tight_layout()"
   ]
  },
  {
   "cell_type": "markdown",
   "metadata": {},
   "source": [
    "However, as we increase the length of the experiment, as seen here by repeating the insertion 100 times, we see a big difference between inserting values of the data row-by-row and inserting it as a binary blob."
   ]
  },
  {
   "cell_type": "markdown",
   "metadata": {},
   "source": [
    "## Loading the data "
   ]
  },
  {
   "cell_type": "code",
   "execution_count": 9,
   "metadata": {
    "execution": {
     "iopub.execute_input": "2021-03-30T07:36:01.913627Z",
     "iopub.status.busy": "2021-03-30T07:36:01.912808Z",
     "iopub.status.idle": "2021-03-30T07:36:01.917581Z",
     "shell.execute_reply": "2021-03-30T07:36:01.917104Z"
    }
   },
   "outputs": [],
   "source": [
    "from qcodes.dataset.data_set import load_by_id\n",
    "from qcodes.dataset.data_export import get_data_by_id"
   ]
  },
  {
   "cell_type": "markdown",
   "metadata": {},
   "source": [
    "As usual you can load the data by using the ``load_by_id`` function but you will notice that the different storage methods\n",
    "are reflected in shape of the data as it is retrieved. "
   ]
  },
  {
   "cell_type": "code",
   "execution_count": 10,
   "metadata": {
    "execution": {
     "iopub.execute_input": "2021-03-30T07:36:01.921589Z",
     "iopub.status.busy": "2021-03-30T07:36:01.921018Z",
     "iopub.status.idle": "2021-03-30T07:36:01.924162Z",
     "shell.execute_reply": "2021-03-30T07:36:01.924647Z"
    }
   },
   "outputs": [],
   "source": [
    "run_id_n = t_numeric_run_ids[0]\n",
    "run_id_a = t_array_run_ids[0]"
   ]
  },
  {
   "cell_type": "code",
   "execution_count": 11,
   "metadata": {
    "execution": {
     "iopub.execute_input": "2021-03-30T07:36:01.928113Z",
     "iopub.status.busy": "2021-03-30T07:36:01.927539Z",
     "iopub.status.idle": "2021-03-30T07:36:01.939019Z",
     "shell.execute_reply": "2021-03-30T07:36:01.939873Z"
    },
    "scrolled": true
   },
   "outputs": [
    {
     "data": {
      "text/plain": [
       "{'x1': {'x1': array([0.93825769, 0.93825769, 0.84137849, 0.84137849, 0.72442993,\n",
       "         0.72442993, 0.82114831, 0.82114831, 0.21362158, 0.21362158,\n",
       "         0.59821075, 0.59821075, 0.59233781, 0.59233781, 0.57387811,\n",
       "         0.57387811, 0.09907695, 0.09907695, 0.63053734, 0.63053734,\n",
       "         0.04404314, 0.04404314, 0.16230988, 0.16230988, 0.47833301,\n",
       "         0.47833301, 0.14782009, 0.14782009, 0.77569067, 0.77569067,\n",
       "         0.75226278, 0.75226278, 0.09922482, 0.09922482, 0.76044269,\n",
       "         0.76044269, 0.00411309, 0.00411309, 0.43559403, 0.43559403,\n",
       "         0.07190733, 0.07190733, 0.48149692, 0.48149692, 0.10555231,\n",
       "         0.10555231, 0.75845787, 0.75845787, 0.79872891, 0.79872891,\n",
       "         0.63469569, 0.63469569, 0.21196793, 0.21196793, 0.94302614,\n",
       "         0.94302614, 0.99416358, 0.99416358, 0.6025393 , 0.6025393 ,\n",
       "         0.04652165, 0.04652165, 0.26888055, 0.26888055, 0.25510007,\n",
       "         0.25510007, 0.37901183, 0.37901183, 0.3657459 , 0.3657459 ,\n",
       "         0.72103971, 0.72103971, 0.12503802, 0.12503802, 0.41481904,\n",
       "         0.41481904, 0.24324438, 0.24324438, 0.60364103, 0.60364103,\n",
       "         0.45241162, 0.45241162, 0.1665474 , 0.1665474 , 0.18361528,\n",
       "         0.18361528, 0.20972784, 0.20972784, 0.02496761, 0.02496761,\n",
       "         0.2080911 , 0.2080911 , 0.38396523, 0.38396523, 0.92169354,\n",
       "         0.92169354, 0.16431576, 0.16431576, 0.25745602, 0.25745602,\n",
       "         0.76451222, 0.76451222, 0.83157325, 0.83157325, 0.88293084,\n",
       "         0.88293084, 0.53651556, 0.53651556, 0.7945559 , 0.7945559 ,\n",
       "         0.0112645 , 0.0112645 , 0.53419958, 0.53419958, 0.91846402,\n",
       "         0.91846402, 0.58695504, 0.58695504, 0.98684705, 0.98684705,\n",
       "         0.08063634, 0.08063634, 0.58870683, 0.58870683, 0.4101556 ,\n",
       "         0.4101556 , 0.47041105, 0.47041105, 0.87596842, 0.87596842,\n",
       "         0.03433494, 0.03433494, 0.28807759, 0.28807759, 0.53895502,\n",
       "         0.53895502, 0.61395916, 0.61395916, 0.11871023, 0.11871023,\n",
       "         0.73147669, 0.73147669, 0.5808042 , 0.5808042 , 0.60965765,\n",
       "         0.60965765, 0.27286459, 0.27286459, 0.46984275, 0.46984275,\n",
       "         0.72811663, 0.72811663, 0.70392063, 0.70392063, 0.88468765,\n",
       "         0.88468765, 0.39480712, 0.39480712, 0.61134593, 0.61134593,\n",
       "         0.12432353, 0.12432353, 0.49600547, 0.49600547, 0.02081256,\n",
       "         0.02081256, 0.39843188, 0.39843188, 0.2983533 , 0.2983533 ,\n",
       "         0.89811596, 0.89811596, 0.21865833, 0.21865833, 0.61996821,\n",
       "         0.61996821, 0.79824043, 0.79824043, 0.14325368, 0.14325368,\n",
       "         0.49615913, 0.49615913, 0.65272816, 0.65272816, 0.02409785,\n",
       "         0.02409785, 0.83284938, 0.83284938, 0.28320074, 0.28320074,\n",
       "         0.66751447, 0.66751447, 0.88056121, 0.88056121, 0.72701044,\n",
       "         0.72701044, 0.64582944, 0.64582944, 0.38137719, 0.38137719])}}"
      ]
     },
     "execution_count": 1,
     "metadata": {},
     "output_type": "execute_result"
    }
   ],
   "source": [
    "ds = load_by_id(run_id_n)\n",
    "ds.get_parameter_data('x1')"
   ]
  },
  {
   "cell_type": "markdown",
   "metadata": {},
   "source": [
    "And a dataset stored as binary arrays"
   ]
  },
  {
   "cell_type": "code",
   "execution_count": 12,
   "metadata": {
    "execution": {
     "iopub.execute_input": "2021-03-30T07:36:01.943430Z",
     "iopub.status.busy": "2021-03-30T07:36:01.942856Z",
     "iopub.status.idle": "2021-03-30T07:36:02.003094Z",
     "shell.execute_reply": "2021-03-30T07:36:02.003569Z"
    },
    "scrolled": true
   },
   "outputs": [
    {
     "data": {
      "text/plain": [
       "{'x1': {'x1': array([[0.27723502],\n",
       "         [0.27723502],\n",
       "         [0.18313853],\n",
       "         [0.18313853],\n",
       "         [0.66703538],\n",
       "         [0.66703538],\n",
       "         [0.80911708],\n",
       "         [0.80911708],\n",
       "         [0.6302327 ],\n",
       "         [0.6302327 ],\n",
       "         [0.47807725],\n",
       "         [0.47807725],\n",
       "         [0.39142102],\n",
       "         [0.39142102],\n",
       "         [0.70683596],\n",
       "         [0.70683596],\n",
       "         [0.23245369],\n",
       "         [0.23245369],\n",
       "         [0.88022506],\n",
       "         [0.88022506],\n",
       "         [0.92403843],\n",
       "         [0.92403843],\n",
       "         [0.48257213],\n",
       "         [0.48257213],\n",
       "         [0.52886354],\n",
       "         [0.52886354],\n",
       "         [0.19762768],\n",
       "         [0.19762768],\n",
       "         [0.06560921],\n",
       "         [0.06560921],\n",
       "         [0.4306335 ],\n",
       "         [0.4306335 ],\n",
       "         [0.61235714],\n",
       "         [0.61235714],\n",
       "         [0.2581603 ],\n",
       "         [0.2581603 ],\n",
       "         [0.93238259],\n",
       "         [0.93238259],\n",
       "         [0.73884059],\n",
       "         [0.73884059],\n",
       "         [0.20225703],\n",
       "         [0.20225703],\n",
       "         [0.49344509],\n",
       "         [0.49344509],\n",
       "         [0.26283899],\n",
       "         [0.26283899],\n",
       "         [0.71085161],\n",
       "         [0.71085161],\n",
       "         [0.85229015],\n",
       "         [0.85229015],\n",
       "         [0.79958932],\n",
       "         [0.79958932],\n",
       "         [0.65966276],\n",
       "         [0.65966276],\n",
       "         [0.6282194 ],\n",
       "         [0.6282194 ],\n",
       "         [0.13955364],\n",
       "         [0.13955364],\n",
       "         [0.54652835],\n",
       "         [0.54652835],\n",
       "         [0.7932733 ],\n",
       "         [0.7932733 ],\n",
       "         [0.35912177],\n",
       "         [0.35912177],\n",
       "         [0.0892808 ],\n",
       "         [0.0892808 ],\n",
       "         [0.26359413],\n",
       "         [0.26359413],\n",
       "         [0.41979012],\n",
       "         [0.41979012],\n",
       "         [0.52922381],\n",
       "         [0.52922381],\n",
       "         [0.40715956],\n",
       "         [0.40715956],\n",
       "         [0.52491419],\n",
       "         [0.52491419],\n",
       "         [0.64811562],\n",
       "         [0.64811562],\n",
       "         [0.17822708],\n",
       "         [0.17822708],\n",
       "         [0.92262829],\n",
       "         [0.92262829],\n",
       "         [0.74266885],\n",
       "         [0.74266885],\n",
       "         [0.57324074],\n",
       "         [0.57324074],\n",
       "         [0.50710185],\n",
       "         [0.50710185],\n",
       "         [0.9044627 ],\n",
       "         [0.9044627 ],\n",
       "         [0.13020861],\n",
       "         [0.13020861],\n",
       "         [0.86432091],\n",
       "         [0.86432091],\n",
       "         [0.87924667],\n",
       "         [0.87924667],\n",
       "         [0.19218429],\n",
       "         [0.19218429],\n",
       "         [0.74308576],\n",
       "         [0.74308576],\n",
       "         [0.5551152 ],\n",
       "         [0.5551152 ],\n",
       "         [0.66477175],\n",
       "         [0.66477175],\n",
       "         [0.65999679],\n",
       "         [0.65999679],\n",
       "         [0.71657607],\n",
       "         [0.71657607],\n",
       "         [0.689118  ],\n",
       "         [0.689118  ],\n",
       "         [0.04603938],\n",
       "         [0.04603938],\n",
       "         [0.79142702],\n",
       "         [0.79142702],\n",
       "         [0.92348924],\n",
       "         [0.92348924],\n",
       "         [0.13892529],\n",
       "         [0.13892529],\n",
       "         [0.11543477],\n",
       "         [0.11543477],\n",
       "         [0.82559189],\n",
       "         [0.82559189],\n",
       "         [0.72101455],\n",
       "         [0.72101455],\n",
       "         [0.75201778],\n",
       "         [0.75201778],\n",
       "         [0.44398507],\n",
       "         [0.44398507],\n",
       "         [0.93364192],\n",
       "         [0.93364192],\n",
       "         [0.14715977],\n",
       "         [0.14715977],\n",
       "         [0.34167777],\n",
       "         [0.34167777],\n",
       "         [0.3789777 ],\n",
       "         [0.3789777 ],\n",
       "         [0.47542567],\n",
       "         [0.47542567],\n",
       "         [0.37695467],\n",
       "         [0.37695467],\n",
       "         [0.39668689],\n",
       "         [0.39668689],\n",
       "         [0.96030591],\n",
       "         [0.96030591],\n",
       "         [0.20350502],\n",
       "         [0.20350502],\n",
       "         [0.79232214],\n",
       "         [0.79232214],\n",
       "         [0.07429073],\n",
       "         [0.07429073],\n",
       "         [0.82104732],\n",
       "         [0.82104732],\n",
       "         [0.96356779],\n",
       "         [0.96356779],\n",
       "         [0.93004725],\n",
       "         [0.93004725],\n",
       "         [0.58056021],\n",
       "         [0.58056021],\n",
       "         [0.05231295],\n",
       "         [0.05231295],\n",
       "         [0.3302898 ],\n",
       "         [0.3302898 ],\n",
       "         [0.27077214],\n",
       "         [0.27077214],\n",
       "         [0.25371281],\n",
       "         [0.25371281],\n",
       "         [0.0392849 ],\n",
       "         [0.0392849 ],\n",
       "         [0.58766632],\n",
       "         [0.58766632],\n",
       "         [0.09595587],\n",
       "         [0.09595587],\n",
       "         [0.58028951],\n",
       "         [0.58028951],\n",
       "         [0.26085727],\n",
       "         [0.26085727],\n",
       "         [0.06309551],\n",
       "         [0.06309551],\n",
       "         [0.48381411],\n",
       "         [0.48381411],\n",
       "         [0.30225894],\n",
       "         [0.30225894],\n",
       "         [0.26831551],\n",
       "         [0.26831551],\n",
       "         [0.24284193],\n",
       "         [0.24284193],\n",
       "         [0.50420334],\n",
       "         [0.50420334],\n",
       "         [0.00397006],\n",
       "         [0.00397006],\n",
       "         [0.87954953],\n",
       "         [0.87954953],\n",
       "         [0.09964566],\n",
       "         [0.09964566],\n",
       "         [0.29274228],\n",
       "         [0.29274228],\n",
       "         [0.14819359],\n",
       "         [0.14819359],\n",
       "         [0.2738031 ],\n",
       "         [0.2738031 ]])}}"
      ]
     },
     "execution_count": 1,
     "metadata": {},
     "output_type": "execute_result"
    }
   ],
   "source": [
    "ds = load_by_id(run_id_a)\n",
    "ds.get_parameter_data('x1')"
   ]
  },
  {
   "cell_type": "code",
   "execution_count": null,
   "metadata": {},
   "outputs": [],
   "source": []
  }
 ],
 "metadata": {
  "kernelspec": {
   "display_name": "Python 3",
   "language": "python",
   "name": "python3"
  },
  "language_info": {
   "codemirror_mode": {
    "name": "ipython",
    "version": 3
   },
   "file_extension": ".py",
   "mimetype": "text/x-python",
   "name": "python",
   "nbconvert_exporter": "python",
   "pygments_lexer": "ipython3",
   "version": "3.7.10"
  },
  "nbsphinx": {
   "timeout": 600
  },
  "toc": {
   "base_numbering": 1,
   "nav_menu": {},
   "number_sections": true,
   "sideBar": true,
   "skip_h1_title": false,
   "title_cell": "Table of Contents",
   "title_sidebar": "Contents",
   "toc_cell": false,
   "toc_position": {},
   "toc_section_display": true,
   "toc_window_display": false
  },
  "varInspector": {
   "cols": {
    "lenName": 16,
    "lenType": 16,
    "lenVar": 40
   },
   "kernels_config": {
    "python": {
     "delete_cmd_postfix": "",
     "delete_cmd_prefix": "del ",
     "library": "var_list.py",
     "varRefreshCmd": "print(var_dic_list())"
    },
    "r": {
     "delete_cmd_postfix": ") ",
     "delete_cmd_prefix": "rm(",
     "library": "var_list.r",
     "varRefreshCmd": "cat(var_dic_list()) "
    }
   },
   "types_to_exclude": [
    "module",
    "function",
    "builtin_function_or_method",
    "instance",
    "_Feature"
   ],
   "window_display": false
  }
 },
 "nbformat": 4,
 "nbformat_minor": 2
}
