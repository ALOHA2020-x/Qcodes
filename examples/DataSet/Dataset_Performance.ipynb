{
 "cells": [
  {
   "cell_type": "markdown",
   "metadata": {},
   "source": [
    "# DataSet Performance\n",
    "\n",
    "This notebook shows the trade-off between inserting data into a database row-by-row and as binary blobs. Inserting the data row-by-row means that we have direct access to all the data and may perform queries directly on the values of the data. On the other hand, as we shall see, this is much slower than inserting the data directly as binary blobs."
   ]
  },
  {
   "cell_type": "markdown",
   "metadata": {},
   "source": [
    "First, we choose a new location for the database to ensure that we don't add a bunch of benchmarking data to the default one."
   ]
  },
  {
   "cell_type": "code",
   "execution_count": 1,
   "metadata": {
    "execution": {
     "iopub.execute_input": "2020-10-07T07:09:57.657483Z",
     "iopub.status.busy": "2020-10-07T07:09:57.657023Z",
     "iopub.status.idle": "2020-10-07T07:09:58.616595Z",
     "shell.execute_reply": "2020-10-07T07:09:58.617245Z"
    }
   },
   "outputs": [
    {
     "name": "stdout",
     "output_type": "stream",
     "text": [
      "Logging hadn't been started.\n",
      "Activating auto-logging. Current session state plus future input saved.\n",
      "Filename       : /home/vsts/.qcodes/logs/command_history.log\n",
      "Mode           : append\n",
      "Output logging : True\n",
      "Raw input log  : False\n",
      "Timestamping   : True\n",
      "State          : active\n"
     ]
    },
    {
     "name": "stdout",
     "output_type": "stream",
     "text": [
      "Qcodes Logfile : /home/vsts/.qcodes/logs/201007-18823-qcodes.log\n"
     ]
    }
   ],
   "source": [
    "import os\n",
    "cwd = os.getcwd()\n",
    "import qcodes as qc\n",
    "qc.config[\"core\"][\"db_location\"] = os.path.join(cwd, 'testing.db')\n"
   ]
  },
  {
   "cell_type": "code",
   "execution_count": 2,
   "metadata": {
    "execution": {
     "iopub.execute_input": "2020-10-07T07:09:58.623367Z",
     "iopub.status.busy": "2020-10-07T07:09:58.622506Z",
     "iopub.status.idle": "2020-10-07T07:09:58.798943Z",
     "shell.execute_reply": "2020-10-07T07:09:58.799398Z"
    }
   },
   "outputs": [],
   "source": [
    "%matplotlib inline\n",
    "import time\n",
    "import matplotlib.pyplot as plt\n",
    "import numpy as np\n",
    "\n",
    "import qcodes as qc\n",
    "from qcodes.instrument.parameter import ManualParameter\n",
    "from qcodes.dataset.experiment_container import (Experiment,\n",
    "                                                 load_last_experiment,\n",
    "                                                 new_experiment)\n",
    "from qcodes.dataset.sqlite.database import initialise_database\n",
    "from qcodes import load_or_create_experiment\n",
    "from qcodes.dataset.measurements import Measurement"
   ]
  },
  {
   "cell_type": "code",
   "execution_count": 3,
   "metadata": {
    "execution": {
     "iopub.execute_input": "2020-10-07T07:09:58.803247Z",
     "iopub.status.busy": "2020-10-07T07:09:58.802695Z",
     "iopub.status.idle": "2020-10-07T07:09:58.906271Z",
     "shell.execute_reply": "2020-10-07T07:09:58.905786Z"
    }
   },
   "outputs": [
    {
     "name": "stdout",
     "output_type": "stream",
     "text": [
      "\r",
      "0it [00:00, ?it/s]"
     ]
    },
    {
     "name": "stdout",
     "output_type": "stream",
     "text": [
      "\r",
      "Upgrading database; v0 -> v1: : 0it [00:00, ?it/s]"
     ]
    },
    {
     "name": "stdout",
     "output_type": "stream",
     "text": [
      "\r",
      "Upgrading database; v0 -> v1: : 0it [00:00, ?it/s]"
     ]
    },
    {
     "name": "stdout",
     "output_type": "stream",
     "text": [
      "\n",
      "\r",
      "  0%|          | 0/1 [00:00<?, ?it/s]"
     ]
    },
    {
     "name": "stdout",
     "output_type": "stream",
     "text": [
      "\r",
      "Upgrading database; v1 -> v2:   0%|          | 0/1 [00:00<?, ?it/s]"
     ]
    },
    {
     "name": "stdout",
     "output_type": "stream",
     "text": [
      "\r",
      "Upgrading database; v1 -> v2: 100%|██████████| 1/1 [00:00<00:00, 438.23it/s]"
     ]
    },
    {
     "name": "stdout",
     "output_type": "stream",
     "text": [
      "\n",
      "\r",
      "0it [00:00, ?it/s]"
     ]
    },
    {
     "name": "stdout",
     "output_type": "stream",
     "text": [
      "\r",
      "Upgrading database; v2 -> v3: : 0it [00:00, ?it/s]"
     ]
    },
    {
     "name": "stdout",
     "output_type": "stream",
     "text": [
      "\r",
      "Upgrading database; v2 -> v3: : 0it [00:00, ?it/s]"
     ]
    },
    {
     "name": "stdout",
     "output_type": "stream",
     "text": [
      "\n",
      "\r",
      "0it [00:00, ?it/s]"
     ]
    },
    {
     "name": "stdout",
     "output_type": "stream",
     "text": [
      "\r",
      "Upgrading database; v3 -> v4: : 0it [00:00, ?it/s]"
     ]
    },
    {
     "name": "stdout",
     "output_type": "stream",
     "text": [
      "\r",
      "Upgrading database; v3 -> v4: : 0it [00:00, ?it/s]"
     ]
    },
    {
     "name": "stdout",
     "output_type": "stream",
     "text": [
      "\n",
      "\r",
      "  0%|          | 0/1 [00:00<?, ?it/s]"
     ]
    },
    {
     "name": "stdout",
     "output_type": "stream",
     "text": [
      "\r",
      "Upgrading database; v4 -> v5:   0%|          | 0/1 [00:00<?, ?it/s]"
     ]
    },
    {
     "name": "stdout",
     "output_type": "stream",
     "text": [
      "\r",
      "Upgrading database; v4 -> v5: 100%|██████████| 1/1 [00:00<00:00, 434.91it/s]"
     ]
    },
    {
     "name": "stdout",
     "output_type": "stream",
     "text": [
      "\n",
      "\r",
      "0it [00:00, ?it/s]"
     ]
    },
    {
     "name": "stdout",
     "output_type": "stream",
     "text": [
      "\r",
      "Upgrading database; v5 -> v6: : 0it [00:00, ?it/s]"
     ]
    },
    {
     "name": "stdout",
     "output_type": "stream",
     "text": [
      "\r",
      "Upgrading database; v5 -> v6: : 0it [00:00, ?it/s]"
     ]
    },
    {
     "name": "stdout",
     "output_type": "stream",
     "text": [
      "\n",
      "\r",
      "  0%|          | 0/1 [00:00<?, ?it/s]"
     ]
    },
    {
     "name": "stdout",
     "output_type": "stream",
     "text": [
      "\r",
      "Upgrading database; v6 -> v7:   0%|          | 0/1 [00:00<?, ?it/s]"
     ]
    },
    {
     "name": "stdout",
     "output_type": "stream",
     "text": [
      "\r",
      "Upgrading database; v6 -> v7: 100%|██████████| 1/1 [00:00<00:00, 379.88it/s]"
     ]
    },
    {
     "name": "stdout",
     "output_type": "stream",
     "text": [
      "\n",
      "\r",
      "  0%|          | 0/1 [00:00<?, ?it/s]"
     ]
    },
    {
     "name": "stdout",
     "output_type": "stream",
     "text": [
      "\r",
      "Upgrading database; v7 -> v8:   0%|          | 0/1 [00:00<?, ?it/s]"
     ]
    },
    {
     "name": "stdout",
     "output_type": "stream",
     "text": [
      "\r",
      "Upgrading database; v7 -> v8: 100%|██████████| 1/1 [00:00<00:00, 379.09it/s]"
     ]
    },
    {
     "name": "stdout",
     "output_type": "stream",
     "text": [
      "\n",
      "\r",
      "  0%|          | 0/1 [00:00<?, ?it/s]"
     ]
    },
    {
     "name": "stdout",
     "output_type": "stream",
     "text": [
      "\r",
      "Upgrading database; v8 -> v9:   0%|          | 0/1 [00:00<?, ?it/s]"
     ]
    },
    {
     "name": "stdout",
     "output_type": "stream",
     "text": [
      "\r",
      "Upgrading database; v8 -> v9: 100%|██████████| 1/1 [00:00<00:00, 814.90it/s]"
     ]
    },
    {
     "name": "stdout",
     "output_type": "stream",
     "text": [
      "\n"
     ]
    }
   ],
   "source": [
    "initialise_database()\n",
    "exp = load_or_create_experiment(experiment_name='tutorial_exp', sample_name=\"no sample\")"
   ]
  },
  {
   "cell_type": "markdown",
   "metadata": {},
   "source": [
    "Here, we define a simple function to benchmark the time it takes to insert n points with either numeric or array data type.\n",
    "We will compare both the time used to call ``add_result`` and the time used for the full measurement."
   ]
  },
  {
   "cell_type": "code",
   "execution_count": 4,
   "metadata": {
    "execution": {
     "iopub.execute_input": "2020-10-07T07:09:58.915333Z",
     "iopub.status.busy": "2020-10-07T07:09:58.914643Z",
     "iopub.status.idle": "2020-10-07T07:09:58.917858Z",
     "shell.execute_reply": "2020-10-07T07:09:58.917086Z"
    }
   },
   "outputs": [],
   "source": [
    "def insert_data(paramtype, npoints, nreps=1):\n",
    "\n",
    "    meas = Measurement(exp=exp)\n",
    "\n",
    "    x1 = ManualParameter('x1')\n",
    "    x2 = ManualParameter('x2')\n",
    "    x3 = ManualParameter('x3')\n",
    "    y1 = ManualParameter('y1')\n",
    "    y2 = ManualParameter('y2')\n",
    "\n",
    "    meas.register_parameter(x1, paramtype=paramtype)\n",
    "    meas.register_parameter(x2, paramtype=paramtype)\n",
    "    meas.register_parameter(x3, paramtype=paramtype)\n",
    "    meas.register_parameter(y1, setpoints=[x1, x2, x3],\n",
    "                            paramtype=paramtype)\n",
    "    meas.register_parameter(y2, setpoints=[x1, x2, x3],\n",
    "                            paramtype=paramtype)\n",
    "    start = time.perf_counter()\n",
    "    with meas.run() as datasaver:\n",
    "        start_adding = time.perf_counter()\n",
    "        for i in range(nreps):\n",
    "            datasaver.add_result((x1, np.random.rand(npoints)),\n",
    "                                 (x2, np.random.rand(npoints)),\n",
    "                                 (x3, np.random.rand(npoints)),\n",
    "                                 (y1, np.random.rand(npoints)),\n",
    "                                 (y2, np.random.rand(npoints)))\n",
    "        stop_adding = time.perf_counter()\n",
    "        run_id = datasaver.run_id\n",
    "    stop = time.perf_counter()\n",
    "    tot_time = stop - start\n",
    "    add_time = stop_adding - start_adding\n",
    "    return tot_time, add_time, run_id"
   ]
  },
  {
   "cell_type": "markdown",
   "metadata": {},
   "source": [
    "## Comparison between numeric/array data and binary blob"
   ]
  },
  {
   "cell_type": "markdown",
   "metadata": {},
   "source": [
    "### Case1: Short experiment time"
   ]
  },
  {
   "cell_type": "code",
   "execution_count": 5,
   "metadata": {
    "execution": {
     "iopub.execute_input": "2020-10-07T07:09:58.923441Z",
     "iopub.status.busy": "2020-10-07T07:09:58.922539Z",
     "iopub.status.idle": "2020-10-07T07:09:59.778058Z",
     "shell.execute_reply": "2020-10-07T07:09:59.777492Z"
    }
   },
   "outputs": [
    {
     "name": "stdout",
     "output_type": "stream",
     "text": [
      "Starting experimental run with id: 1. \n",
      "Starting experimental run with id: 2. \n",
      "Starting experimental run with id: 3. \n",
      "Starting experimental run with id: 4. \n",
      "Starting experimental run with id: 5. \n"
     ]
    },
    {
     "name": "stdout",
     "output_type": "stream",
     "text": [
      "Starting experimental run with id: 6. \n"
     ]
    },
    {
     "name": "stdout",
     "output_type": "stream",
     "text": [
      "Starting experimental run with id: 7. \n"
     ]
    },
    {
     "name": "stdout",
     "output_type": "stream",
     "text": [
      "Starting experimental run with id: 8. \n",
      "Starting experimental run with id: 9. \n"
     ]
    },
    {
     "name": "stdout",
     "output_type": "stream",
     "text": [
      "Starting experimental run with id: 10. \n",
      "Starting experimental run with id: 11. \n"
     ]
    },
    {
     "name": "stdout",
     "output_type": "stream",
     "text": [
      "Starting experimental run with id: 12. \n",
      "Starting experimental run with id: 13. \n"
     ]
    },
    {
     "name": "stdout",
     "output_type": "stream",
     "text": [
      "Starting experimental run with id: 14. \n"
     ]
    }
   ],
   "source": [
    "sizes = [1,500,1000,2000,3000,4000,5000]\n",
    "t_numeric = []\n",
    "t_numeric_add = []\n",
    "t_array = []\n",
    "t_array_add = []\n",
    "for size in sizes:\n",
    "    tn, tna, run_id_n =  insert_data('numeric', size)\n",
    "    t_numeric.append(tn)\n",
    "    t_numeric_add.append(tna)\n",
    "\n",
    "    ta, taa, run_id_a =  insert_data('array', size)\n",
    "    t_array.append(ta)\n",
    "    t_array_add.append(taa)"
   ]
  },
  {
   "cell_type": "code",
   "execution_count": 6,
   "metadata": {
    "execution": {
     "iopub.execute_input": "2020-10-07T07:09:59.795564Z",
     "iopub.status.busy": "2020-10-07T07:09:59.794868Z",
     "iopub.status.idle": "2020-10-07T07:09:59.967639Z",
     "shell.execute_reply": "2020-10-07T07:09:59.968176Z"
    }
   },
   "outputs": [
    {
     "data": {
      "image/png": "[encoded data removed]",
      "text/plain": [
       "<Figure size 432x288 with 1 Axes>"
      ]
     },
     "metadata": {
      "needs_background": "light"
     },
     "output_type": "display_data"
    }
   ],
   "source": [
    "fig, ax = plt.subplots(1,1)\n",
    "ax.plot(sizes, t_numeric, 'o-', label='Inserting row-by-row')\n",
    "ax.plot(sizes, t_numeric_add, 'o-', label='Inserting row-by-row: add_result only')\n",
    "ax.plot(sizes, t_array, 'd-', label='Inserting as binary blob')\n",
    "ax.plot(sizes, t_array_add, 'd-', label='Inserting as binary blob: add_result only')\n",
    "ax.legend()\n",
    "ax.set_xlabel('Array length')\n",
    "ax.set_ylabel('Time (s)')\n",
    "fig.tight_layout()"
   ]
  },
  {
   "cell_type": "markdown",
   "metadata": {},
   "source": [
    "As shown in the latter figure, the time to setup and and close the experiment is approximately 0.4 sec. In case of small array sizes, the difference between inserting values of data as arrays and inserting them row-by-row is relatively unimportant. At larger array sizes, i.e. above 10000 points, the cost of writing data as individual datapoints starts to become important.\n"
   ]
  },
  {
   "cell_type": "markdown",
   "metadata": {},
   "source": [
    "### Case2: Long experiment time "
   ]
  },
  {
   "cell_type": "code",
   "execution_count": 7,
   "metadata": {
    "execution": {
     "iopub.execute_input": "2020-10-07T07:09:59.974826Z",
     "iopub.status.busy": "2020-10-07T07:09:59.972492Z",
     "iopub.status.idle": "2020-10-07T07:10:57.033293Z",
     "shell.execute_reply": "2020-10-07T07:10:57.032770Z"
    }
   },
   "outputs": [
    {
     "name": "stdout",
     "output_type": "stream",
     "text": [
      "Starting experimental run with id: 15. \n",
      "Starting experimental run with id: 16. \n",
      "Starting experimental run with id: 17. \n"
     ]
    },
    {
     "name": "stdout",
     "output_type": "stream",
     "text": [
      "Starting experimental run with id: 18. \n",
      "Starting experimental run with id: 19. \n"
     ]
    },
    {
     "name": "stdout",
     "output_type": "stream",
     "text": [
      "Starting experimental run with id: 20. \n"
     ]
    },
    {
     "name": "stdout",
     "output_type": "stream",
     "text": [
      "Starting experimental run with id: 21. \n"
     ]
    },
    {
     "name": "stdout",
     "output_type": "stream",
     "text": [
      "Starting experimental run with id: 22. \n"
     ]
    },
    {
     "name": "stdout",
     "output_type": "stream",
     "text": [
      "Starting experimental run with id: 23. \n"
     ]
    },
    {
     "name": "stdout",
     "output_type": "stream",
     "text": [
      "Starting experimental run with id: 24. \n"
     ]
    },
    {
     "name": "stdout",
     "output_type": "stream",
     "text": [
      "Starting experimental run with id: 25. \n"
     ]
    },
    {
     "name": "stdout",
     "output_type": "stream",
     "text": [
      "Starting experimental run with id: 26. \n"
     ]
    },
    {
     "name": "stdout",
     "output_type": "stream",
     "text": [
      "Starting experimental run with id: 27. \n"
     ]
    },
    {
     "name": "stdout",
     "output_type": "stream",
     "text": [
      "Starting experimental run with id: 28. \n"
     ]
    }
   ],
   "source": [
    "sizes = [1,500,1000,2000,3000,4000,5000]\n",
    "nreps = 100\n",
    "t_numeric = []\n",
    "t_numeric_add = []\n",
    "t_numeric_run_ids = []\n",
    "t_array = []\n",
    "t_array_add = []\n",
    "t_array_run_ids = []\n",
    "for size in sizes:\n",
    "    tn, tna, run_id_n =  insert_data('numeric', size, nreps=nreps)\n",
    "    t_numeric.append(tn)\n",
    "    t_numeric_add.append(tna)\n",
    "    t_numeric_run_ids.append(run_id_n)\n",
    "\n",
    "    ta, taa, run_id_a =  insert_data('array', size, nreps=nreps)\n",
    "    t_array.append(ta)\n",
    "    t_array_add.append(taa)\n",
    "    t_array_run_ids.append(run_id_a)"
   ]
  },
  {
   "cell_type": "code",
   "execution_count": 8,
   "metadata": {
    "execution": {
     "iopub.execute_input": "2020-10-07T07:10:57.054613Z",
     "iopub.status.busy": "2020-10-07T07:10:57.052589Z",
     "iopub.status.idle": "2020-10-07T07:10:57.254106Z",
     "shell.execute_reply": "2020-10-07T07:10:57.253602Z"
    },
    "scrolled": true
   },
   "outputs": [
    {
     "data": {
      "image/png": "[encoded data removed]",
      "text/plain": [
       "<Figure size 432x288 with 1 Axes>"
      ]
     },
     "metadata": {
      "needs_background": "light"
     },
     "output_type": "display_data"
    }
   ],
   "source": [
    "fig, ax = plt.subplots(1,1)\n",
    "ax.plot(sizes, t_numeric, 'o-', label='Inserting row-by-row')\n",
    "ax.plot(sizes, t_numeric_add, 'o-', label='Inserting row-by-row: add_result only')\n",
    "ax.plot(sizes, t_array, 'd-', label='Inserting as binary blob')\n",
    "ax.plot(sizes, t_array_add, 'd-', label='Inserting as binary blob: add_result only')\n",
    "ax.legend()\n",
    "ax.set_xlabel('Array length')\n",
    "ax.set_ylabel('Time (s)')\n",
    "fig.tight_layout()"
   ]
  },
  {
   "cell_type": "markdown",
   "metadata": {},
   "source": [
    "However, as we increase the length of the experiment, as seen here by repeating the insertion 100 times, we see a big difference between inserting values of the data row-by-row and inserting it as a binary blob."
   ]
  },
  {
   "cell_type": "markdown",
   "metadata": {},
   "source": [
    "## Loading the data "
   ]
  },
  {
   "cell_type": "code",
   "execution_count": 9,
   "metadata": {
    "execution": {
     "iopub.execute_input": "2020-10-07T07:10:57.258587Z",
     "iopub.status.busy": "2020-10-07T07:10:57.257632Z",
     "iopub.status.idle": "2020-10-07T07:10:57.260035Z",
     "shell.execute_reply": "2020-10-07T07:10:57.260458Z"
    }
   },
   "outputs": [],
   "source": [
    "from qcodes.dataset.data_set import load_by_id\n",
    "from qcodes.dataset.data_export import get_data_by_id"
   ]
  },
  {
   "cell_type": "markdown",
   "metadata": {},
   "source": [
    "As usual you can load the data by using the ``load_by_id`` function but you will notice that the different storage methods\n",
    "are reflected in shape of the data as it is retrieved. "
   ]
  },
  {
   "cell_type": "code",
   "execution_count": 10,
   "metadata": {
    "execution": {
     "iopub.execute_input": "2020-10-07T07:10:57.264700Z",
     "iopub.status.busy": "2020-10-07T07:10:57.263642Z",
     "iopub.status.idle": "2020-10-07T07:10:57.265316Z",
     "shell.execute_reply": "2020-10-07T07:10:57.265862Z"
    }
   },
   "outputs": [],
   "source": [
    "run_id_n = t_numeric_run_ids[0]\n",
    "run_id_a = t_array_run_ids[0]"
   ]
  },
  {
   "cell_type": "code",
   "execution_count": 11,
   "metadata": {
    "execution": {
     "iopub.execute_input": "2020-10-07T07:10:57.269024Z",
     "iopub.status.busy": "2020-10-07T07:10:57.268522Z",
     "iopub.status.idle": "2020-10-07T07:10:57.277531Z",
     "shell.execute_reply": "2020-10-07T07:10:57.277098Z"
    },
    "scrolled": true
   },
   "outputs": [
    {
     "data": {
      "text/plain": [
       "{'x1': {'x1': array([0.25549934, 0.25549934, 0.42554827, 0.42554827, 0.51247652,\n",
       "         0.51247652, 0.49722544, 0.49722544, 0.34797502, 0.34797502,\n",
       "         0.86940544, 0.86940544, 0.75909585, 0.75909585, 0.21560388,\n",
       "         0.21560388, 0.02583629, 0.02583629, 0.53096753, 0.53096753,\n",
       "         0.28627725, 0.28627725, 0.66510514, 0.66510514, 0.398456  ,\n",
       "         0.398456  , 0.08098766, 0.08098766, 0.63817694, 0.63817694,\n",
       "         0.11595159, 0.11595159, 0.54939995, 0.54939995, 0.74834061,\n",
       "         0.74834061, 0.59735672, 0.59735672, 0.37986537, 0.37986537,\n",
       "         0.14836586, 0.14836586, 0.30116829, 0.30116829, 0.36494384,\n",
       "         0.36494384, 0.05026805, 0.05026805, 0.88750531, 0.88750531,\n",
       "         0.8809082 , 0.8809082 , 0.93360407, 0.93360407, 0.32571775,\n",
       "         0.32571775, 0.47612979, 0.47612979, 0.8953186 , 0.8953186 ,\n",
       "         0.58325854, 0.58325854, 0.83702287, 0.83702287, 0.06610424,\n",
       "         0.06610424, 0.16798562, 0.16798562, 0.63678056, 0.63678056,\n",
       "         0.00848858, 0.00848858, 0.91939331, 0.91939331, 0.75040721,\n",
       "         0.75040721, 0.31652576, 0.31652576, 0.71417961, 0.71417961,\n",
       "         0.76977954, 0.76977954, 0.88096882, 0.88096882, 0.47693977,\n",
       "         0.47693977, 0.07183107, 0.07183107, 0.57468005, 0.57468005,\n",
       "         0.89960777, 0.89960777, 0.94281315, 0.94281315, 0.57167777,\n",
       "         0.57167777, 0.46507741, 0.46507741, 0.71845138, 0.71845138,\n",
       "         0.4679228 , 0.4679228 , 0.87512786, 0.87512786, 0.77925596,\n",
       "         0.77925596, 0.13375711, 0.13375711, 0.12228311, 0.12228311,\n",
       "         0.44504177, 0.44504177, 0.12546896, 0.12546896, 0.77846116,\n",
       "         0.77846116, 0.53793146, 0.53793146, 0.12709006, 0.12709006,\n",
       "         0.39069412, 0.39069412, 0.69255329, 0.69255329, 0.77078526,\n",
       "         0.77078526, 0.10535548, 0.10535548, 0.22584089, 0.22584089,\n",
       "         0.80342879, 0.80342879, 0.67420247, 0.67420247, 0.37137989,\n",
       "         0.37137989, 0.16503036, 0.16503036, 0.68054987, 0.68054987,\n",
       "         0.66833441, 0.66833441, 0.3750784 , 0.3750784 , 0.94626161,\n",
       "         0.94626161, 0.73516677, 0.73516677, 0.9136895 , 0.9136895 ,\n",
       "         0.72979742, 0.72979742, 0.88258753, 0.88258753, 0.72892861,\n",
       "         0.72892861, 0.82770582, 0.82770582, 0.89505596, 0.89505596,\n",
       "         0.99271895, 0.99271895, 0.70088803, 0.70088803, 0.26780457,\n",
       "         0.26780457, 0.18788008, 0.18788008, 0.99986963, 0.99986963,\n",
       "         0.5775605 , 0.5775605 , 0.08387281, 0.08387281, 0.46010978,\n",
       "         0.46010978, 0.54405707, 0.54405707, 0.11335173, 0.11335173,\n",
       "         0.45124099, 0.45124099, 0.18926074, 0.18926074, 0.62719248,\n",
       "         0.62719248, 0.93325485, 0.93325485, 0.15586303, 0.15586303,\n",
       "         0.11193014, 0.11193014, 0.96612699, 0.96612699, 0.574635  ,\n",
       "         0.574635  , 0.0589293 , 0.0589293 , 0.44370776, 0.44370776])}}"
      ]
     },
     "execution_count": 1,
     "metadata": {},
     "output_type": "execute_result"
    }
   ],
   "source": [
    "ds = load_by_id(run_id_n)\n",
    "ds.get_parameter_data('x1')"
   ]
  },
  {
   "cell_type": "markdown",
   "metadata": {},
   "source": [
    "And a dataset stored as binary arrays"
   ]
  },
  {
   "cell_type": "code",
   "execution_count": 12,
   "metadata": {
    "execution": {
     "iopub.execute_input": "2020-10-07T07:10:57.280681Z",
     "iopub.status.busy": "2020-10-07T07:10:57.280184Z",
     "iopub.status.idle": "2020-10-07T07:10:57.335350Z",
     "shell.execute_reply": "2020-10-07T07:10:57.335885Z"
    },
    "scrolled": true
   },
   "outputs": [
    {
     "data": {
      "text/plain": [
       "{'x1': {'x1': array([[0.9720637 ],\n",
       "         [0.9720637 ],\n",
       "         [0.00340671],\n",
       "         [0.00340671],\n",
       "         [0.44721343],\n",
       "         [0.44721343],\n",
       "         [0.71745602],\n",
       "         [0.71745602],\n",
       "         [0.97288005],\n",
       "         [0.97288005],\n",
       "         [0.94663738],\n",
       "         [0.94663738],\n",
       "         [0.18337432],\n",
       "         [0.18337432],\n",
       "         [0.44197971],\n",
       "         [0.44197971],\n",
       "         [0.01344682],\n",
       "         [0.01344682],\n",
       "         [0.58433085],\n",
       "         [0.58433085],\n",
       "         [0.63861209],\n",
       "         [0.63861209],\n",
       "         [0.96547949],\n",
       "         [0.96547949],\n",
       "         [0.57693844],\n",
       "         [0.57693844],\n",
       "         [0.25963135],\n",
       "         [0.25963135],\n",
       "         [0.43230969],\n",
       "         [0.43230969],\n",
       "         [0.48905884],\n",
       "         [0.48905884],\n",
       "         [0.34933725],\n",
       "         [0.34933725],\n",
       "         [0.42522714],\n",
       "         [0.42522714],\n",
       "         [0.43121712],\n",
       "         [0.43121712],\n",
       "         [0.70464517],\n",
       "         [0.70464517],\n",
       "         [0.3955916 ],\n",
       "         [0.3955916 ],\n",
       "         [0.86360537],\n",
       "         [0.86360537],\n",
       "         [0.09684723],\n",
       "         [0.09684723],\n",
       "         [0.90503091],\n",
       "         [0.90503091],\n",
       "         [0.36079925],\n",
       "         [0.36079925],\n",
       "         [0.93218456],\n",
       "         [0.93218456],\n",
       "         [0.45838203],\n",
       "         [0.45838203],\n",
       "         [0.31761583],\n",
       "         [0.31761583],\n",
       "         [0.53470985],\n",
       "         [0.53470985],\n",
       "         [0.57248865],\n",
       "         [0.57248865],\n",
       "         [0.05169583],\n",
       "         [0.05169583],\n",
       "         [0.08062943],\n",
       "         [0.08062943],\n",
       "         [0.66402649],\n",
       "         [0.66402649],\n",
       "         [0.91850606],\n",
       "         [0.91850606],\n",
       "         [0.26319056],\n",
       "         [0.26319056],\n",
       "         [0.78202354],\n",
       "         [0.78202354],\n",
       "         [0.24124621],\n",
       "         [0.24124621],\n",
       "         [0.77611453],\n",
       "         [0.77611453],\n",
       "         [0.15774344],\n",
       "         [0.15774344],\n",
       "         [0.83507388],\n",
       "         [0.83507388],\n",
       "         [0.99484472],\n",
       "         [0.99484472],\n",
       "         [0.78517231],\n",
       "         [0.78517231],\n",
       "         [0.3133469 ],\n",
       "         [0.3133469 ],\n",
       "         [0.88833821],\n",
       "         [0.88833821],\n",
       "         [0.58242834],\n",
       "         [0.58242834],\n",
       "         [0.65410288],\n",
       "         [0.65410288],\n",
       "         [0.76636337],\n",
       "         [0.76636337],\n",
       "         [0.00958396],\n",
       "         [0.00958396],\n",
       "         [0.04600812],\n",
       "         [0.04600812],\n",
       "         [0.0338561 ],\n",
       "         [0.0338561 ],\n",
       "         [0.96404038],\n",
       "         [0.96404038],\n",
       "         [0.52259532],\n",
       "         [0.52259532],\n",
       "         [0.70618789],\n",
       "         [0.70618789],\n",
       "         [0.77294484],\n",
       "         [0.77294484],\n",
       "         [0.94718825],\n",
       "         [0.94718825],\n",
       "         [0.90135515],\n",
       "         [0.90135515],\n",
       "         [0.45158666],\n",
       "         [0.45158666],\n",
       "         [0.11364923],\n",
       "         [0.11364923],\n",
       "         [0.46739655],\n",
       "         [0.46739655],\n",
       "         [0.80403606],\n",
       "         [0.80403606],\n",
       "         [0.84233602],\n",
       "         [0.84233602],\n",
       "         [0.73784401],\n",
       "         [0.73784401],\n",
       "         [0.4121546 ],\n",
       "         [0.4121546 ],\n",
       "         [0.27239145],\n",
       "         [0.27239145],\n",
       "         [0.64446773],\n",
       "         [0.64446773],\n",
       "         [0.99113311],\n",
       "         [0.99113311],\n",
       "         [0.88746941],\n",
       "         [0.88746941],\n",
       "         [0.32517153],\n",
       "         [0.32517153],\n",
       "         [0.52682039],\n",
       "         [0.52682039],\n",
       "         [0.2331988 ],\n",
       "         [0.2331988 ],\n",
       "         [0.9879846 ],\n",
       "         [0.9879846 ],\n",
       "         [0.7281133 ],\n",
       "         [0.7281133 ],\n",
       "         [0.05665655],\n",
       "         [0.05665655],\n",
       "         [0.539108  ],\n",
       "         [0.539108  ],\n",
       "         [0.50397136],\n",
       "         [0.50397136],\n",
       "         [0.52855154],\n",
       "         [0.52855154],\n",
       "         [0.13277914],\n",
       "         [0.13277914],\n",
       "         [0.40128923],\n",
       "         [0.40128923],\n",
       "         [0.19401002],\n",
       "         [0.19401002],\n",
       "         [0.72881369],\n",
       "         [0.72881369],\n",
       "         [0.36726947],\n",
       "         [0.36726947],\n",
       "         [0.6754785 ],\n",
       "         [0.6754785 ],\n",
       "         [0.66714331],\n",
       "         [0.66714331],\n",
       "         [0.58511138],\n",
       "         [0.58511138],\n",
       "         [0.27411358],\n",
       "         [0.27411358],\n",
       "         [0.98670353],\n",
       "         [0.98670353],\n",
       "         [0.45369364],\n",
       "         [0.45369364],\n",
       "         [0.33289392],\n",
       "         [0.33289392],\n",
       "         [0.78729578],\n",
       "         [0.78729578],\n",
       "         [0.29922553],\n",
       "         [0.29922553],\n",
       "         [0.04838368],\n",
       "         [0.04838368],\n",
       "         [0.76470532],\n",
       "         [0.76470532],\n",
       "         [0.57644084],\n",
       "         [0.57644084],\n",
       "         [0.98971684],\n",
       "         [0.98971684],\n",
       "         [0.35283298],\n",
       "         [0.35283298],\n",
       "         [0.68243097],\n",
       "         [0.68243097],\n",
       "         [0.21582786],\n",
       "         [0.21582786],\n",
       "         [0.02887854],\n",
       "         [0.02887854],\n",
       "         [0.95552445],\n",
       "         [0.95552445],\n",
       "         [0.15406039],\n",
       "         [0.15406039]])}}"
      ]
     },
     "execution_count": 1,
     "metadata": {},
     "output_type": "execute_result"
    }
   ],
   "source": [
    "ds = load_by_id(run_id_a)\n",
    "ds.get_parameter_data('x1')"
   ]
  },
  {
   "cell_type": "code",
   "execution_count": null,
   "metadata": {},
   "outputs": [],
   "source": []
  }
 ],
 "metadata": {
  "kernelspec": {
   "display_name": "Python 3",
   "language": "python",
   "name": "python3"
  },
  "language_info": {
   "codemirror_mode": {
    "name": "ipython",
    "version": 3
   },
   "file_extension": ".py",
   "mimetype": "text/x-python",
   "name": "python",
   "nbconvert_exporter": "python",
   "pygments_lexer": "ipython3",
   "version": "3.7.7"
  },
  "nbsphinx": {
   "timeout": 600
  },
  "toc": {
   "base_numbering": 1,
   "nav_menu": {},
   "number_sections": true,
   "sideBar": true,
   "skip_h1_title": false,
   "title_cell": "Table of Contents",
   "title_sidebar": "Contents",
   "toc_cell": false,
   "toc_position": {},
   "toc_section_display": true,
   "toc_window_display": false
  },
  "varInspector": {
   "cols": {
    "lenName": 16,
    "lenType": 16,
    "lenVar": 40
   },
   "kernels_config": {
    "python": {
     "delete_cmd_postfix": "",
     "delete_cmd_prefix": "del ",
     "library": "var_list.py",
     "varRefreshCmd": "print(var_dic_list())"
    },
    "r": {
     "delete_cmd_postfix": ") ",
     "delete_cmd_prefix": "rm(",
     "library": "var_list.r",
     "varRefreshCmd": "cat(var_dic_list()) "
    }
   },
   "types_to_exclude": [
    "module",
    "function",
    "builtin_function_or_method",
    "instance",
    "_Feature"
   ],
   "window_display": false
  }
 },
 "nbformat": 4,
 "nbformat_minor": 2
}
