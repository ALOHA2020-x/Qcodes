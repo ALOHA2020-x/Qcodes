{
 "cells": [
  {
   "cell_type": "markdown",
   "metadata": {},
   "source": [
    "# DataSet Performance\n",
    "\n",
    "This notebook shows the trade-off between inserting data into a database row-by-row and as binary blobs. Inserting the data row-by-row means that we have direct access to all the data and may perform queries directly on the values of the data. On the other hand, as we shall see, this is much slower than inserting the data directly as binary blobs."
   ]
  },
  {
   "cell_type": "markdown",
   "metadata": {},
   "source": [
    "First, we choose a new location for the database to ensure that we don't add a bunch of benchmarking data to the default one."
   ]
  },
  {
   "cell_type": "code",
   "execution_count": 1,
   "metadata": {},
   "outputs": [
    {
     "name": "stdout",
     "output_type": "stream",
     "text": [
      "Logging hadn't been started.\n",
      "Activating auto-logging. Current session state plus future input saved.\n",
      "Filename       : /home/vsts/.qcodes/logs/command_history.log\n",
      "Mode           : append\n",
      "Output logging : True\n",
      "Raw input log  : False\n",
      "Timestamping   : True\n",
      "State          : active\n"
     ]
    },
    {
     "name": "stdout",
     "output_type": "stream",
     "text": [
      "Qcodes Logfile : /home/vsts/.qcodes/logs/200821-18452-qcodes.log\n"
     ]
    }
   ],
   "source": [
    "import os\n",
    "cwd = os.getcwd()\n",
    "import qcodes as qc\n",
    "qc.config[\"core\"][\"db_location\"] = os.path.join(cwd, 'testing.db')\n"
   ]
  },
  {
   "cell_type": "code",
   "execution_count": 2,
   "metadata": {},
   "outputs": [],
   "source": [
    "%matplotlib inline\n",
    "import time\n",
    "import matplotlib.pyplot as plt\n",
    "import numpy as np\n",
    "\n",
    "import qcodes as qc\n",
    "from qcodes.instrument.parameter import ManualParameter\n",
    "from qcodes.dataset.experiment_container import (Experiment,\n",
    "                                                 load_last_experiment,\n",
    "                                                 new_experiment)\n",
    "from qcodes.dataset.sqlite.database import initialise_database\n",
    "from qcodes import load_or_create_experiment\n",
    "from qcodes.dataset.measurements import Measurement"
   ]
  },
  {
   "cell_type": "code",
   "execution_count": 3,
   "metadata": {},
   "outputs": [
    {
     "name": "stdout",
     "output_type": "stream",
     "text": [
      "\r",
      "0it [00:00, ?it/s]"
     ]
    },
    {
     "name": "stdout",
     "output_type": "stream",
     "text": [
      "\r",
      "Upgrading database; v0 -> v1: : 0it [00:00, ?it/s]"
     ]
    },
    {
     "name": "stdout",
     "output_type": "stream",
     "text": [
      "\r",
      "Upgrading database; v0 -> v1: : 0it [00:00, ?it/s]"
     ]
    },
    {
     "name": "stdout",
     "output_type": "stream",
     "text": [
      "\n",
      "\r",
      "  0%|          | 0/1 [00:00<?, ?it/s]"
     ]
    },
    {
     "name": "stdout",
     "output_type": "stream",
     "text": [
      "\r",
      "Upgrading database; v1 -> v2:   0%|          | 0/1 [00:00<?, ?it/s]"
     ]
    },
    {
     "name": "stdout",
     "output_type": "stream",
     "text": [
      "\r",
      "Upgrading database; v1 -> v2: 100%|██████████| 1/1 [00:00<00:00, 729.70it/s]"
     ]
    },
    {
     "name": "stdout",
     "output_type": "stream",
     "text": [
      "\n",
      "\r",
      "0it [00:00, ?it/s]"
     ]
    },
    {
     "name": "stdout",
     "output_type": "stream",
     "text": [
      "\r",
      "Upgrading database; v2 -> v3: : 0it [00:00, ?it/s]"
     ]
    },
    {
     "name": "stdout",
     "output_type": "stream",
     "text": [
      "\r",
      "Upgrading database; v2 -> v3: : 0it [00:00, ?it/s]"
     ]
    },
    {
     "name": "stdout",
     "output_type": "stream",
     "text": [
      "\n",
      "\r",
      "0it [00:00, ?it/s]"
     ]
    },
    {
     "name": "stdout",
     "output_type": "stream",
     "text": [
      "\r",
      "Upgrading database; v3 -> v4: : 0it [00:00, ?it/s]"
     ]
    },
    {
     "name": "stdout",
     "output_type": "stream",
     "text": [
      "\r",
      "Upgrading database; v3 -> v4: : 0it [00:00, ?it/s]"
     ]
    },
    {
     "name": "stdout",
     "output_type": "stream",
     "text": [
      "\n",
      "\r",
      "  0%|          | 0/1 [00:00<?, ?it/s]"
     ]
    },
    {
     "name": "stdout",
     "output_type": "stream",
     "text": [
      "\r",
      "Upgrading database; v4 -> v5:   0%|          | 0/1 [00:00<?, ?it/s]"
     ]
    },
    {
     "name": "stdout",
     "output_type": "stream",
     "text": [
      "\r",
      "Upgrading database; v4 -> v5: 100%|██████████| 1/1 [00:00<00:00, 936.02it/s]"
     ]
    },
    {
     "name": "stdout",
     "output_type": "stream",
     "text": [
      "\n",
      "\r",
      "0it [00:00, ?it/s]"
     ]
    },
    {
     "name": "stdout",
     "output_type": "stream",
     "text": [
      "\r",
      "Upgrading database; v5 -> v6: : 0it [00:00, ?it/s]"
     ]
    },
    {
     "name": "stdout",
     "output_type": "stream",
     "text": [
      "\r",
      "Upgrading database; v5 -> v6: : 0it [00:00, ?it/s]"
     ]
    },
    {
     "name": "stdout",
     "output_type": "stream",
     "text": [
      "\n",
      "\r",
      "  0%|          | 0/1 [00:00<?, ?it/s]"
     ]
    },
    {
     "name": "stdout",
     "output_type": "stream",
     "text": [
      "\r",
      "Upgrading database; v6 -> v7:   0%|          | 0/1 [00:00<?, ?it/s]"
     ]
    },
    {
     "name": "stdout",
     "output_type": "stream",
     "text": [
      "\r",
      "Upgrading database; v6 -> v7: 100%|██████████| 1/1 [00:00<00:00, 409.16it/s]"
     ]
    },
    {
     "name": "stdout",
     "output_type": "stream",
     "text": [
      "\n",
      "\r",
      "  0%|          | 0/1 [00:00<?, ?it/s]"
     ]
    },
    {
     "name": "stdout",
     "output_type": "stream",
     "text": [
      "\r",
      "Upgrading database; v7 -> v8:   0%|          | 0/1 [00:00<?, ?it/s]"
     ]
    },
    {
     "name": "stdout",
     "output_type": "stream",
     "text": [
      "\r",
      "Upgrading database; v7 -> v8: 100%|██████████| 1/1 [00:00<00:00, 776.15it/s]"
     ]
    },
    {
     "name": "stdout",
     "output_type": "stream",
     "text": [
      "\n",
      "\r",
      "  0%|          | 0/1 [00:00<?, ?it/s]"
     ]
    },
    {
     "name": "stdout",
     "output_type": "stream",
     "text": [
      "\r",
      "Upgrading database; v8 -> v9:   0%|          | 0/1 [00:00<?, ?it/s]"
     ]
    },
    {
     "name": "stdout",
     "output_type": "stream",
     "text": [
      "\r",
      "Upgrading database; v8 -> v9: 100%|██████████| 1/1 [00:00<00:00, 917.39it/s]"
     ]
    },
    {
     "name": "stdout",
     "output_type": "stream",
     "text": [
      "\n"
     ]
    }
   ],
   "source": [
    "initialise_database()\n",
    "exp = load_or_create_experiment(experiment_name='tutorial_exp', sample_name=\"no sample\")"
   ]
  },
  {
   "cell_type": "markdown",
   "metadata": {},
   "source": [
    "Here, we define a simple function to benchmark the time it takes to insert n points with either numeric or array data type.\n",
    "We will compare both the time used to call ``add_result`` and the time used for the full measurement."
   ]
  },
  {
   "cell_type": "code",
   "execution_count": 4,
   "metadata": {},
   "outputs": [],
   "source": [
    "def insert_data(paramtype, npoints, nreps=1):\n",
    "\n",
    "    meas = Measurement(exp=exp)\n",
    "\n",
    "    x1 = ManualParameter('x1')\n",
    "    x2 = ManualParameter('x2')\n",
    "    x3 = ManualParameter('x3')\n",
    "    y1 = ManualParameter('y1')\n",
    "    y2 = ManualParameter('y2')\n",
    "\n",
    "    meas.register_parameter(x1, paramtype=paramtype)\n",
    "    meas.register_parameter(x2, paramtype=paramtype)\n",
    "    meas.register_parameter(x3, paramtype=paramtype)\n",
    "    meas.register_parameter(y1, setpoints=[x1, x2, x3],\n",
    "                            paramtype=paramtype)\n",
    "    meas.register_parameter(y2, setpoints=[x1, x2, x3],\n",
    "                            paramtype=paramtype)\n",
    "    start = time.perf_counter()\n",
    "    with meas.run() as datasaver:\n",
    "        start_adding = time.perf_counter()\n",
    "        for i in range(nreps):\n",
    "            datasaver.add_result((x1, np.random.rand(npoints)),\n",
    "                                 (x2, np.random.rand(npoints)),\n",
    "                                 (x3, np.random.rand(npoints)),\n",
    "                                 (y1, np.random.rand(npoints)),\n",
    "                                 (y2, np.random.rand(npoints)))\n",
    "        stop_adding = time.perf_counter()\n",
    "        run_id = datasaver.run_id\n",
    "    stop = time.perf_counter()\n",
    "    tot_time = stop - start\n",
    "    add_time = stop_adding - start_adding\n",
    "    return tot_time, add_time, run_id"
   ]
  },
  {
   "cell_type": "markdown",
   "metadata": {},
   "source": [
    "## Comparison between numeric/array data and binary blob"
   ]
  },
  {
   "cell_type": "markdown",
   "metadata": {},
   "source": [
    "### Case1: Short experiment time"
   ]
  },
  {
   "cell_type": "code",
   "execution_count": 5,
   "metadata": {},
   "outputs": [
    {
     "name": "stdout",
     "output_type": "stream",
     "text": [
      "Starting experimental run with id: 1. \n",
      "Starting experimental run with id: 2. \n",
      "Starting experimental run with id: 3. \n",
      "Starting experimental run with id: 4. \n"
     ]
    },
    {
     "name": "stdout",
     "output_type": "stream",
     "text": [
      "Starting experimental run with id: 5. \n"
     ]
    },
    {
     "name": "stdout",
     "output_type": "stream",
     "text": [
      "Starting experimental run with id: 6. \n",
      "Starting experimental run with id: 7. \n"
     ]
    },
    {
     "name": "stdout",
     "output_type": "stream",
     "text": [
      "Starting experimental run with id: 8. \n",
      "Starting experimental run with id: 9. \n"
     ]
    },
    {
     "name": "stdout",
     "output_type": "stream",
     "text": [
      "Starting experimental run with id: 10. \n",
      "Starting experimental run with id: 11. \n"
     ]
    },
    {
     "name": "stdout",
     "output_type": "stream",
     "text": [
      "Starting experimental run with id: 12. \n",
      "Starting experimental run with id: 13. \n"
     ]
    },
    {
     "name": "stdout",
     "output_type": "stream",
     "text": [
      "Starting experimental run with id: 14. \n"
     ]
    }
   ],
   "source": [
    "sizes = [1,500,1000,2000,3000,4000,5000]\n",
    "t_numeric = []\n",
    "t_numeric_add = []\n",
    "t_array = []\n",
    "t_array_add = []\n",
    "for size in sizes:\n",
    "    tn, tna, run_id_n =  insert_data('numeric', size)\n",
    "    t_numeric.append(tn)\n",
    "    t_numeric_add.append(tna)\n",
    "\n",
    "    ta, taa, run_id_a =  insert_data('array', size)\n",
    "    t_array.append(ta)\n",
    "    t_array_add.append(taa)"
   ]
  },
  {
   "cell_type": "code",
   "execution_count": 6,
   "metadata": {},
   "outputs": [
    {
     "data": {
      "image/png": "[encoded data removed]",
      "text/plain": [
       "<Figure size 432x288 with 1 Axes>"
      ]
     },
     "metadata": {
      "needs_background": "light"
     },
     "output_type": "display_data"
    }
   ],
   "source": [
    "fig, ax = plt.subplots(1,1)\n",
    "ax.plot(sizes, t_numeric, 'o-', label='Inserting row-by-row')\n",
    "ax.plot(sizes, t_numeric_add, 'o-', label='Inserting row-by-row: add_result only')\n",
    "ax.plot(sizes, t_array, 'd-', label='Inserting as binary blob')\n",
    "ax.plot(sizes, t_array_add, 'd-', label='Inserting as binary blob: add_result only')\n",
    "ax.legend()\n",
    "ax.set_xlabel('Array length')\n",
    "ax.set_ylabel('Time (s)')\n",
    "fig.tight_layout()"
   ]
  },
  {
   "cell_type": "markdown",
   "metadata": {},
   "source": [
    "As shown in the latter figure, the time to setup and and close the experiment is approximately 0.4 sec. In case of small array sizes, the difference between inserting values of data as arrays and inserting them row-by-row is relatively unimportant. At larger array sizes, i.e. above 10000 points, the cost of writing data as individual datapoints starts to become important.\n"
   ]
  },
  {
   "cell_type": "markdown",
   "metadata": {},
   "source": [
    "### Case2: Long experiment time "
   ]
  },
  {
   "cell_type": "code",
   "execution_count": 7,
   "metadata": {},
   "outputs": [
    {
     "name": "stdout",
     "output_type": "stream",
     "text": [
      "Starting experimental run with id: 15. \n",
      "Starting experimental run with id: 16. \n",
      "Starting experimental run with id: 17. \n"
     ]
    },
    {
     "name": "stdout",
     "output_type": "stream",
     "text": [
      "Starting experimental run with id: 18. \n",
      "Starting experimental run with id: 19. \n"
     ]
    },
    {
     "name": "stdout",
     "output_type": "stream",
     "text": [
      "Starting experimental run with id: 20. \n"
     ]
    },
    {
     "name": "stdout",
     "output_type": "stream",
     "text": [
      "Starting experimental run with id: 21. \n"
     ]
    },
    {
     "name": "stdout",
     "output_type": "stream",
     "text": [
      "Starting experimental run with id: 22. \n"
     ]
    },
    {
     "name": "stdout",
     "output_type": "stream",
     "text": [
      "Starting experimental run with id: 23. \n"
     ]
    },
    {
     "name": "stdout",
     "output_type": "stream",
     "text": [
      "Starting experimental run with id: 24. \n"
     ]
    },
    {
     "name": "stdout",
     "output_type": "stream",
     "text": [
      "Starting experimental run with id: 25. \n"
     ]
    },
    {
     "name": "stdout",
     "output_type": "stream",
     "text": [
      "Starting experimental run with id: 26. \n"
     ]
    },
    {
     "name": "stdout",
     "output_type": "stream",
     "text": [
      "Starting experimental run with id: 27. \n"
     ]
    },
    {
     "name": "stdout",
     "output_type": "stream",
     "text": [
      "Starting experimental run with id: 28. \n"
     ]
    }
   ],
   "source": [
    "sizes = [1,500,1000,2000,3000,4000,5000]\n",
    "nreps = 100\n",
    "t_numeric = []\n",
    "t_numeric_add = []\n",
    "t_numeric_run_ids = []\n",
    "t_array = []\n",
    "t_array_add = []\n",
    "t_array_run_ids = []\n",
    "for size in sizes:\n",
    "    tn, tna, run_id_n =  insert_data('numeric', size, nreps=nreps)\n",
    "    t_numeric.append(tn)\n",
    "    t_numeric_add.append(tna)\n",
    "    t_numeric_run_ids.append(run_id_n)\n",
    "\n",
    "    ta, taa, run_id_a =  insert_data('array', size, nreps=nreps)\n",
    "    t_array.append(ta)\n",
    "    t_array_add.append(taa)\n",
    "    t_array_run_ids.append(run_id_a)"
   ]
  },
  {
   "cell_type": "code",
   "execution_count": 8,
   "metadata": {
    "scrolled": true
   },
   "outputs": [
    {
     "data": {
      "image/png": "[encoded data removed]",
      "text/plain": [
       "<Figure size 432x288 with 1 Axes>"
      ]
     },
     "metadata": {
      "needs_background": "light"
     },
     "output_type": "display_data"
    }
   ],
   "source": [
    "fig, ax = plt.subplots(1,1)\n",
    "ax.plot(sizes, t_numeric, 'o-', label='Inserting row-by-row')\n",
    "ax.plot(sizes, t_numeric_add, 'o-', label='Inserting row-by-row: add_result only')\n",
    "ax.plot(sizes, t_array, 'd-', label='Inserting as binary blob')\n",
    "ax.plot(sizes, t_array_add, 'd-', label='Inserting as binary blob: add_result only')\n",
    "ax.legend()\n",
    "ax.set_xlabel('Array length')\n",
    "ax.set_ylabel('Time (s)')\n",
    "fig.tight_layout()"
   ]
  },
  {
   "cell_type": "markdown",
   "metadata": {},
   "source": [
    "However, as we increase the length of the experiment, as seen here by repeating the insertion 100 times, we see a big difference between inserting values of the data row-by-row and inserting it as a binary blob."
   ]
  },
  {
   "cell_type": "markdown",
   "metadata": {},
   "source": [
    "## Loading the data "
   ]
  },
  {
   "cell_type": "code",
   "execution_count": 9,
   "metadata": {},
   "outputs": [],
   "source": [
    "from qcodes.dataset.data_set import load_by_id\n",
    "from qcodes.dataset.data_export import get_data_by_id"
   ]
  },
  {
   "cell_type": "markdown",
   "metadata": {},
   "source": [
    "As usual you can load the data by using the ``load_by_id`` function but you will notice that the different storage methods\n",
    "are reflected in shape of the data as it is retrieved. "
   ]
  },
  {
   "cell_type": "code",
   "execution_count": 10,
   "metadata": {},
   "outputs": [],
   "source": [
    "run_id_n = t_numeric_run_ids[0]\n",
    "run_id_a = t_array_run_ids[0]"
   ]
  },
  {
   "cell_type": "code",
   "execution_count": 11,
   "metadata": {
    "scrolled": true
   },
   "outputs": [
    {
     "data": {
      "text/plain": [
       "{'x1': {'x1': array([0.39430976, 0.39430976, 0.34240964, 0.34240964, 0.97644749,\n",
       "         0.97644749, 0.10769677, 0.10769677, 0.82892158, 0.82892158,\n",
       "         0.57719404, 0.57719404, 0.09293761, 0.09293761, 0.08203547,\n",
       "         0.08203547, 0.28963955, 0.28963955, 0.66297026, 0.66297026,\n",
       "         0.27068549, 0.27068549, 0.00634544, 0.00634544, 0.66834649,\n",
       "         0.66834649, 0.48669187, 0.48669187, 0.54354725, 0.54354725,\n",
       "         0.50456224, 0.50456224, 0.62474581, 0.62474581, 0.43396816,\n",
       "         0.43396816, 0.92127922, 0.92127922, 0.60826132, 0.60826132,\n",
       "         0.46562141, 0.46562141, 0.55507129, 0.55507129, 0.14491779,\n",
       "         0.14491779, 0.39486524, 0.39486524, 0.63422331, 0.63422331,\n",
       "         0.54483713, 0.54483713, 0.1403267 , 0.1403267 , 0.25972045,\n",
       "         0.25972045, 0.06270725, 0.06270725, 0.59467756, 0.59467756,\n",
       "         0.49880177, 0.49880177, 0.21993366, 0.21993366, 0.54108007,\n",
       "         0.54108007, 0.94253924, 0.94253924, 0.11815517, 0.11815517,\n",
       "         0.195822  , 0.195822  , 0.38555811, 0.38555811, 0.98076743,\n",
       "         0.98076743, 0.07769238, 0.07769238, 0.28631267, 0.28631267,\n",
       "         0.16059657, 0.16059657, 0.02222046, 0.02222046, 0.76918401,\n",
       "         0.76918401, 0.83335001, 0.83335001, 0.13265613, 0.13265613,\n",
       "         0.9518219 , 0.9518219 , 0.55365223, 0.55365223, 0.78528702,\n",
       "         0.78528702, 0.34435388, 0.34435388, 0.81651336, 0.81651336,\n",
       "         0.98856664, 0.98856664, 0.62407562, 0.62407562, 0.78400915,\n",
       "         0.78400915, 0.44964554, 0.44964554, 0.25413955, 0.25413955,\n",
       "         0.89366704, 0.89366704, 0.38441584, 0.38441584, 0.2935992 ,\n",
       "         0.2935992 , 0.44186493, 0.44186493, 0.24908257, 0.24908257,\n",
       "         0.80310345, 0.80310345, 0.64295644, 0.64295644, 0.9289065 ,\n",
       "         0.9289065 , 0.16634453, 0.16634453, 0.70347394, 0.70347394,\n",
       "         0.69749439, 0.69749439, 0.90467047, 0.90467047, 0.19519455,\n",
       "         0.19519455, 0.48953637, 0.48953637, 0.20564975, 0.20564975,\n",
       "         0.17522534, 0.17522534, 0.64952402, 0.64952402, 0.30880885,\n",
       "         0.30880885, 0.89785588, 0.89785588, 0.82252615, 0.82252615,\n",
       "         0.24439203, 0.24439203, 0.86948096, 0.86948096, 0.16820249,\n",
       "         0.16820249, 0.92531079, 0.92531079, 0.71516213, 0.71516213,\n",
       "         0.03027601, 0.03027601, 0.12619186, 0.12619186, 0.22381572,\n",
       "         0.22381572, 0.20639282, 0.20639282, 0.88632909, 0.88632909,\n",
       "         0.60720499, 0.60720499, 0.10825154, 0.10825154, 0.85885913,\n",
       "         0.85885913, 0.86583518, 0.86583518, 0.35963947, 0.35963947,\n",
       "         0.8069489 , 0.8069489 , 0.17843271, 0.17843271, 0.93219652,\n",
       "         0.93219652, 0.39348746, 0.39348746, 0.50390063, 0.50390063,\n",
       "         0.5807489 , 0.5807489 , 0.35373277, 0.35373277, 0.85207656,\n",
       "         0.85207656, 0.50911099, 0.50911099, 0.20967133, 0.20967133])}}"
      ]
     },
     "execution_count": 11,
     "metadata": {},
     "output_type": "execute_result"
    }
   ],
   "source": [
    "ds = load_by_id(run_id_n)\n",
    "ds.get_parameter_data('x1')"
   ]
  },
  {
   "cell_type": "markdown",
   "metadata": {},
   "source": [
    "And a dataset stored as binary arrays"
   ]
  },
  {
   "cell_type": "code",
   "execution_count": 12,
   "metadata": {
    "scrolled": true
   },
   "outputs": [
    {
     "data": {
      "text/plain": [
       "{'x1': {'x1': array([[0.77207691],\n",
       "         [0.77207691],\n",
       "         [0.95464767],\n",
       "         [0.95464767],\n",
       "         [0.22671665],\n",
       "         [0.22671665],\n",
       "         [0.36227321],\n",
       "         [0.36227321],\n",
       "         [0.83241364],\n",
       "         [0.83241364],\n",
       "         [0.96413504],\n",
       "         [0.96413504],\n",
       "         [0.34659105],\n",
       "         [0.34659105],\n",
       "         [0.1940861 ],\n",
       "         [0.1940861 ],\n",
       "         [0.34905596],\n",
       "         [0.34905596],\n",
       "         [0.82722116],\n",
       "         [0.82722116],\n",
       "         [0.27569209],\n",
       "         [0.27569209],\n",
       "         [0.70662832],\n",
       "         [0.70662832],\n",
       "         [0.41196716],\n",
       "         [0.41196716],\n",
       "         [0.13654454],\n",
       "         [0.13654454],\n",
       "         [0.65827132],\n",
       "         [0.65827132],\n",
       "         [0.56939778],\n",
       "         [0.56939778],\n",
       "         [0.6208563 ],\n",
       "         [0.6208563 ],\n",
       "         [0.75860745],\n",
       "         [0.75860745],\n",
       "         [0.00180709],\n",
       "         [0.00180709],\n",
       "         [0.16863426],\n",
       "         [0.16863426],\n",
       "         [0.34491125],\n",
       "         [0.34491125],\n",
       "         [0.16860602],\n",
       "         [0.16860602],\n",
       "         [0.33824996],\n",
       "         [0.33824996],\n",
       "         [0.03646333],\n",
       "         [0.03646333],\n",
       "         [0.82569234],\n",
       "         [0.82569234],\n",
       "         [0.48399557],\n",
       "         [0.48399557],\n",
       "         [0.64949511],\n",
       "         [0.64949511],\n",
       "         [0.33111435],\n",
       "         [0.33111435],\n",
       "         [0.70565958],\n",
       "         [0.70565958],\n",
       "         [0.46402421],\n",
       "         [0.46402421],\n",
       "         [0.37007402],\n",
       "         [0.37007402],\n",
       "         [0.8580454 ],\n",
       "         [0.8580454 ],\n",
       "         [0.86241129],\n",
       "         [0.86241129],\n",
       "         [0.19470695],\n",
       "         [0.19470695],\n",
       "         [0.47726968],\n",
       "         [0.47726968],\n",
       "         [0.86105729],\n",
       "         [0.86105729],\n",
       "         [0.37432886],\n",
       "         [0.37432886],\n",
       "         [0.57247423],\n",
       "         [0.57247423],\n",
       "         [0.02292067],\n",
       "         [0.02292067],\n",
       "         [0.33809211],\n",
       "         [0.33809211],\n",
       "         [0.71783515],\n",
       "         [0.71783515],\n",
       "         [0.07069521],\n",
       "         [0.07069521],\n",
       "         [0.16469353],\n",
       "         [0.16469353],\n",
       "         [0.16682976],\n",
       "         [0.16682976],\n",
       "         [0.36701038],\n",
       "         [0.36701038],\n",
       "         [0.88987893],\n",
       "         [0.88987893],\n",
       "         [0.90896525],\n",
       "         [0.90896525],\n",
       "         [0.90446182],\n",
       "         [0.90446182],\n",
       "         [0.8561682 ],\n",
       "         [0.8561682 ],\n",
       "         [0.89247469],\n",
       "         [0.89247469],\n",
       "         [0.11188867],\n",
       "         [0.11188867],\n",
       "         [0.80380321],\n",
       "         [0.80380321],\n",
       "         [0.16242357],\n",
       "         [0.16242357],\n",
       "         [0.13790391],\n",
       "         [0.13790391],\n",
       "         [0.94990937],\n",
       "         [0.94990937],\n",
       "         [0.07655781],\n",
       "         [0.07655781],\n",
       "         [0.73208258],\n",
       "         [0.73208258],\n",
       "         [0.18800433],\n",
       "         [0.18800433],\n",
       "         [0.18203798],\n",
       "         [0.18203798],\n",
       "         [0.4113646 ],\n",
       "         [0.4113646 ],\n",
       "         [0.73280882],\n",
       "         [0.73280882],\n",
       "         [0.10367823],\n",
       "         [0.10367823],\n",
       "         [0.75483067],\n",
       "         [0.75483067],\n",
       "         [0.17395005],\n",
       "         [0.17395005],\n",
       "         [0.94734547],\n",
       "         [0.94734547],\n",
       "         [0.53283162],\n",
       "         [0.53283162],\n",
       "         [0.51310543],\n",
       "         [0.51310543],\n",
       "         [0.99265379],\n",
       "         [0.99265379],\n",
       "         [0.93005694],\n",
       "         [0.93005694],\n",
       "         [0.38885556],\n",
       "         [0.38885556],\n",
       "         [0.67290109],\n",
       "         [0.67290109],\n",
       "         [0.98631335],\n",
       "         [0.98631335],\n",
       "         [0.74944205],\n",
       "         [0.74944205],\n",
       "         [0.72154264],\n",
       "         [0.72154264],\n",
       "         [0.97538913],\n",
       "         [0.97538913],\n",
       "         [0.84621031],\n",
       "         [0.84621031],\n",
       "         [0.47699994],\n",
       "         [0.47699994],\n",
       "         [0.78477023],\n",
       "         [0.78477023],\n",
       "         [0.78103791],\n",
       "         [0.78103791],\n",
       "         [0.58195429],\n",
       "         [0.58195429],\n",
       "         [0.30921051],\n",
       "         [0.30921051],\n",
       "         [0.78105011],\n",
       "         [0.78105011],\n",
       "         [0.70184977],\n",
       "         [0.70184977],\n",
       "         [0.28818943],\n",
       "         [0.28818943],\n",
       "         [0.58304414],\n",
       "         [0.58304414],\n",
       "         [0.20635006],\n",
       "         [0.20635006],\n",
       "         [0.77272098],\n",
       "         [0.77272098],\n",
       "         [0.08258979],\n",
       "         [0.08258979],\n",
       "         [0.04833074],\n",
       "         [0.04833074],\n",
       "         [0.70764509],\n",
       "         [0.70764509],\n",
       "         [0.67540726],\n",
       "         [0.67540726],\n",
       "         [0.98869491],\n",
       "         [0.98869491],\n",
       "         [0.77133145],\n",
       "         [0.77133145],\n",
       "         [0.511379  ],\n",
       "         [0.511379  ],\n",
       "         [0.16165922],\n",
       "         [0.16165922],\n",
       "         [0.40271055],\n",
       "         [0.40271055],\n",
       "         [0.9048101 ],\n",
       "         [0.9048101 ],\n",
       "         [0.28524787],\n",
       "         [0.28524787],\n",
       "         [0.19381235],\n",
       "         [0.19381235],\n",
       "         [0.06136127],\n",
       "         [0.06136127]])}}"
      ]
     },
     "execution_count": 12,
     "metadata": {},
     "output_type": "execute_result"
    }
   ],
   "source": [
    "ds = load_by_id(run_id_a)\n",
    "ds.get_parameter_data('x1')"
   ]
  },
  {
   "cell_type": "code",
   "execution_count": null,
   "metadata": {},
   "outputs": [],
   "source": []
  }
 ],
 "metadata": {
  "kernelspec": {
   "display_name": "Python 3",
   "language": "python",
   "name": "python3"
  },
  "language_info": {
   "codemirror_mode": {
    "name": "ipython",
    "version": 3
   },
   "file_extension": ".py",
   "mimetype": "text/x-python",
   "name": "python",
   "nbconvert_exporter": "python",
   "pygments_lexer": "ipython3",
   "version": "3.7.7"
  },
  "nbsphinx": {
   "timeout": 600
  },
  "toc": {
   "base_numbering": 1,
   "nav_menu": {},
   "number_sections": true,
   "sideBar": true,
   "skip_h1_title": false,
   "title_cell": "Table of Contents",
   "title_sidebar": "Contents",
   "toc_cell": false,
   "toc_position": {},
   "toc_section_display": true,
   "toc_window_display": false
  },
  "varInspector": {
   "cols": {
    "lenName": 16,
    "lenType": 16,
    "lenVar": 40
   },
   "kernels_config": {
    "python": {
     "delete_cmd_postfix": "",
     "delete_cmd_prefix": "del ",
     "library": "var_list.py",
     "varRefreshCmd": "print(var_dic_list())"
    },
    "r": {
     "delete_cmd_postfix": ") ",
     "delete_cmd_prefix": "rm(",
     "library": "var_list.r",
     "varRefreshCmd": "cat(var_dic_list()) "
    }
   },
   "types_to_exclude": [
    "module",
    "function",
    "builtin_function_or_method",
    "instance",
    "_Feature"
   ],
   "window_display": false
  }
 },
 "nbformat": 4,
 "nbformat_minor": 2
}
