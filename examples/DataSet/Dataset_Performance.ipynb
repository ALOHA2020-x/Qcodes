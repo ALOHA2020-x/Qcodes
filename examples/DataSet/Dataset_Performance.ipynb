{
 "cells": [
  {
   "cell_type": "markdown",
   "metadata": {},
   "source": [
    "# DataSet Performance\n",
    "\n",
    "This notebook shows the trade-off between inserting data into a database row-by-row and as binary blobs. Inserting the data row-by-row means that we have direct access to all the data and may perform queries directly on the values of the data. On the other hand, as we shall see, this is much slower than inserting the data directly as binary blobs."
   ]
  },
  {
   "cell_type": "markdown",
   "metadata": {},
   "source": [
    "First, we choose a new location for the database to ensure that we don't add a bunch of benchmarking data to the default one."
   ]
  },
  {
   "cell_type": "code",
   "execution_count": 1,
   "metadata": {
    "execution": {
     "iopub.execute_input": "2021-05-26T08:44:05.431290Z",
     "iopub.status.busy": "2021-05-26T08:44:05.430581Z",
     "iopub.status.idle": "2021-05-26T08:44:06.833412Z",
     "shell.execute_reply": "2021-05-26T08:44:06.834080Z"
    }
   },
   "outputs": [
    {
     "name": "stdout",
     "output_type": "stream",
     "text": [
      "Logging hadn't been started.\n",
      "Activating auto-logging. Current session state plus future input saved.\n",
      "Filename       : /home/runner/.qcodes/logs/command_history.log\n",
      "Mode           : append\n",
      "Output logging : True\n",
      "Raw input log  : False\n",
      "Timestamping   : True\n",
      "State          : active\n"
     ]
    },
    {
     "name": "stdout",
     "output_type": "stream",
     "text": [
      "Qcodes Logfile : /home/runner/.qcodes/logs/210526-4663-qcodes.log\n"
     ]
    }
   ],
   "source": [
    "import os\n",
    "cwd = os.getcwd()\n",
    "import qcodes as qc\n",
    "qc.config[\"core\"][\"db_location\"] = os.path.join(cwd, 'testing.db')\n"
   ]
  },
  {
   "cell_type": "code",
   "execution_count": 2,
   "metadata": {
    "execution": {
     "iopub.execute_input": "2021-05-26T08:44:06.842183Z",
     "iopub.status.busy": "2021-05-26T08:44:06.840885Z",
     "iopub.status.idle": "2021-05-26T08:44:07.089228Z",
     "shell.execute_reply": "2021-05-26T08:44:07.088613Z"
    }
   },
   "outputs": [],
   "source": [
    "%matplotlib inline\n",
    "import time\n",
    "import matplotlib.pyplot as plt\n",
    "import numpy as np\n",
    "\n",
    "import qcodes as qc\n",
    "from qcodes.instrument.parameter import ManualParameter\n",
    "from qcodes.dataset.experiment_container import (Experiment,\n",
    "                                                 load_last_experiment,\n",
    "                                                 new_experiment)\n",
    "from qcodes.dataset.sqlite.database import initialise_database\n",
    "from qcodes import load_or_create_experiment\n",
    "from qcodes.dataset.measurements import Measurement"
   ]
  },
  {
   "cell_type": "code",
   "execution_count": 3,
   "metadata": {
    "execution": {
     "iopub.execute_input": "2021-05-26T08:44:07.094262Z",
     "iopub.status.busy": "2021-05-26T08:44:07.093369Z",
     "iopub.status.idle": "2021-05-26T08:44:07.174143Z",
     "shell.execute_reply": "2021-05-26T08:44:07.174739Z"
    }
   },
   "outputs": [
    {
     "name": "stdout",
     "output_type": "stream",
     "text": [
      "\r",
      "0it [00:00, ?it/s]"
     ]
    },
    {
     "name": "stdout",
     "output_type": "stream",
     "text": [
      "\r",
      "Upgrading database; v0 -> v1: : 0it [00:00, ?it/s]"
     ]
    },
    {
     "name": "stdout",
     "output_type": "stream",
     "text": [
      "\r",
      "Upgrading database; v0 -> v1: : 0it [00:00, ?it/s]"
     ]
    },
    {
     "name": "stdout",
     "output_type": "stream",
     "text": [
      "\n",
      "\r",
      "  0%|          | 0/1 [00:00<?, ?it/s]"
     ]
    },
    {
     "name": "stdout",
     "output_type": "stream",
     "text": [
      "\r",
      "Upgrading database; v1 -> v2:   0%|          | 0/1 [00:00<?, ?it/s]"
     ]
    },
    {
     "name": "stdout",
     "output_type": "stream",
     "text": [
      "\r",
      "Upgrading database; v1 -> v2: 100%|██████████| 1/1 [00:00<00:00, 363.52it/s]"
     ]
    },
    {
     "name": "stdout",
     "output_type": "stream",
     "text": [
      "\n",
      "\r",
      "0it [00:00, ?it/s]"
     ]
    },
    {
     "name": "stdout",
     "output_type": "stream",
     "text": [
      "\r",
      "Upgrading database; v2 -> v3: : 0it [00:00, ?it/s]"
     ]
    },
    {
     "name": "stdout",
     "output_type": "stream",
     "text": [
      "\r",
      "Upgrading database; v2 -> v3: : 0it [00:00, ?it/s]"
     ]
    },
    {
     "name": "stdout",
     "output_type": "stream",
     "text": [
      "\n",
      "\r",
      "0it [00:00, ?it/s]"
     ]
    },
    {
     "name": "stdout",
     "output_type": "stream",
     "text": [
      "\r",
      "Upgrading database; v3 -> v4: : 0it [00:00, ?it/s]"
     ]
    },
    {
     "name": "stdout",
     "output_type": "stream",
     "text": [
      "\r",
      "Upgrading database; v3 -> v4: : 0it [00:00, ?it/s]"
     ]
    },
    {
     "name": "stdout",
     "output_type": "stream",
     "text": [
      "\n",
      "\r",
      "  0%|          | 0/1 [00:00<?, ?it/s]"
     ]
    },
    {
     "name": "stdout",
     "output_type": "stream",
     "text": [
      "\r",
      "Upgrading database; v4 -> v5:   0%|          | 0/1 [00:00<?, ?it/s]"
     ]
    },
    {
     "name": "stdout",
     "output_type": "stream",
     "text": [
      "\r",
      "Upgrading database; v4 -> v5: 100%|██████████| 1/1 [00:00<00:00, 563.83it/s]"
     ]
    },
    {
     "name": "stdout",
     "output_type": "stream",
     "text": [
      "\n",
      "\r",
      "0it [00:00, ?it/s]"
     ]
    },
    {
     "name": "stdout",
     "output_type": "stream",
     "text": [
      "\r",
      "Upgrading database; v5 -> v6: : 0it [00:00, ?it/s]"
     ]
    },
    {
     "name": "stdout",
     "output_type": "stream",
     "text": [
      "\r",
      "Upgrading database; v5 -> v6: : 0it [00:00, ?it/s]"
     ]
    },
    {
     "name": "stdout",
     "output_type": "stream",
     "text": [
      "\n",
      "\r",
      "  0%|          | 0/1 [00:00<?, ?it/s]"
     ]
    },
    {
     "name": "stdout",
     "output_type": "stream",
     "text": [
      "\r",
      "Upgrading database; v6 -> v7:   0%|          | 0/1 [00:00<?, ?it/s]"
     ]
    },
    {
     "name": "stdout",
     "output_type": "stream",
     "text": [
      "\r",
      "Upgrading database; v6 -> v7: 100%|██████████| 1/1 [00:00<00:00, 335.30it/s]"
     ]
    },
    {
     "name": "stdout",
     "output_type": "stream",
     "text": [
      "\n",
      "\r",
      "  0%|          | 0/1 [00:00<?, ?it/s]"
     ]
    },
    {
     "name": "stdout",
     "output_type": "stream",
     "text": [
      "\r",
      "Upgrading database; v7 -> v8:   0%|          | 0/1 [00:00<?, ?it/s]"
     ]
    },
    {
     "name": "stdout",
     "output_type": "stream",
     "text": [
      "\r",
      "Upgrading database; v7 -> v8: 100%|██████████| 1/1 [00:00<00:00, 639.18it/s]"
     ]
    },
    {
     "name": "stdout",
     "output_type": "stream",
     "text": [
      "\n",
      "\r",
      "  0%|          | 0/1 [00:00<?, ?it/s]"
     ]
    },
    {
     "name": "stdout",
     "output_type": "stream",
     "text": [
      "\r",
      "Upgrading database; v8 -> v9:   0%|          | 0/1 [00:00<?, ?it/s]"
     ]
    },
    {
     "name": "stdout",
     "output_type": "stream",
     "text": [
      "\r",
      "Upgrading database; v8 -> v9: 100%|██████████| 1/1 [00:00<00:00, 934.56it/s]"
     ]
    },
    {
     "name": "stdout",
     "output_type": "stream",
     "text": [
      "\n"
     ]
    }
   ],
   "source": [
    "initialise_database()\n",
    "exp = load_or_create_experiment(experiment_name='tutorial_exp', sample_name=\"no sample\")"
   ]
  },
  {
   "cell_type": "markdown",
   "metadata": {},
   "source": [
    "Here, we define a simple function to benchmark the time it takes to insert n points with either numeric or array data type.\n",
    "We will compare both the time used to call ``add_result`` and the time used for the full measurement."
   ]
  },
  {
   "cell_type": "code",
   "execution_count": 4,
   "metadata": {
    "execution": {
     "iopub.execute_input": "2021-05-26T08:44:07.184689Z",
     "iopub.status.busy": "2021-05-26T08:44:07.182908Z",
     "iopub.status.idle": "2021-05-26T08:44:07.187300Z",
     "shell.execute_reply": "2021-05-26T08:44:07.186687Z"
    }
   },
   "outputs": [],
   "source": [
    "def insert_data(paramtype, npoints, nreps=1):\n",
    "\n",
    "    meas = Measurement(exp=exp)\n",
    "\n",
    "    x1 = ManualParameter('x1')\n",
    "    x2 = ManualParameter('x2')\n",
    "    x3 = ManualParameter('x3')\n",
    "    y1 = ManualParameter('y1')\n",
    "    y2 = ManualParameter('y2')\n",
    "\n",
    "    meas.register_parameter(x1, paramtype=paramtype)\n",
    "    meas.register_parameter(x2, paramtype=paramtype)\n",
    "    meas.register_parameter(x3, paramtype=paramtype)\n",
    "    meas.register_parameter(y1, setpoints=[x1, x2, x3],\n",
    "                            paramtype=paramtype)\n",
    "    meas.register_parameter(y2, setpoints=[x1, x2, x3],\n",
    "                            paramtype=paramtype)\n",
    "    start = time.perf_counter()\n",
    "    with meas.run() as datasaver:\n",
    "        start_adding = time.perf_counter()\n",
    "        for i in range(nreps):\n",
    "            datasaver.add_result((x1, np.random.rand(npoints)),\n",
    "                                 (x2, np.random.rand(npoints)),\n",
    "                                 (x3, np.random.rand(npoints)),\n",
    "                                 (y1, np.random.rand(npoints)),\n",
    "                                 (y2, np.random.rand(npoints)))\n",
    "        stop_adding = time.perf_counter()\n",
    "        run_id = datasaver.run_id\n",
    "    stop = time.perf_counter()\n",
    "    tot_time = stop - start\n",
    "    add_time = stop_adding - start_adding\n",
    "    return tot_time, add_time, run_id"
   ]
  },
  {
   "cell_type": "markdown",
   "metadata": {},
   "source": [
    "## Comparison between numeric/array data and binary blob"
   ]
  },
  {
   "cell_type": "markdown",
   "metadata": {},
   "source": [
    "### Case1: Short experiment time"
   ]
  },
  {
   "cell_type": "code",
   "execution_count": 5,
   "metadata": {
    "execution": {
     "iopub.execute_input": "2021-05-26T08:44:07.194899Z",
     "iopub.status.busy": "2021-05-26T08:44:07.193598Z",
     "iopub.status.idle": "2021-05-26T08:44:08.228637Z",
     "shell.execute_reply": "2021-05-26T08:44:08.229484Z"
    }
   },
   "outputs": [
    {
     "name": "stdout",
     "output_type": "stream",
     "text": [
      "Starting experimental run with id: 1. \n",
      "Starting experimental run with id: 2. \n",
      "Starting experimental run with id: 3. \n"
     ]
    },
    {
     "name": "stdout",
     "output_type": "stream",
     "text": [
      "Starting experimental run with id: 4. \n"
     ]
    },
    {
     "name": "stdout",
     "output_type": "stream",
     "text": [
      "Starting experimental run with id: 5. \n"
     ]
    },
    {
     "name": "stdout",
     "output_type": "stream",
     "text": [
      "Starting experimental run with id: 6. \n",
      "Starting experimental run with id: 7. \n"
     ]
    },
    {
     "name": "stdout",
     "output_type": "stream",
     "text": [
      "Starting experimental run with id: 8. \n",
      "Starting experimental run with id: 9. \n"
     ]
    },
    {
     "name": "stdout",
     "output_type": "stream",
     "text": [
      "Starting experimental run with id: 10. \n"
     ]
    },
    {
     "name": "stdout",
     "output_type": "stream",
     "text": [
      "Starting experimental run with id: 11. \n",
      "Starting experimental run with id: 12. \n"
     ]
    },
    {
     "name": "stdout",
     "output_type": "stream",
     "text": [
      "Starting experimental run with id: 13. \n"
     ]
    },
    {
     "name": "stdout",
     "output_type": "stream",
     "text": [
      "Starting experimental run with id: 14. \n"
     ]
    }
   ],
   "source": [
    "sizes = [1,500,1000,2000,3000,4000,5000]\n",
    "t_numeric = []\n",
    "t_numeric_add = []\n",
    "t_array = []\n",
    "t_array_add = []\n",
    "for size in sizes:\n",
    "    tn, tna, run_id_n =  insert_data('numeric', size)\n",
    "    t_numeric.append(tn)\n",
    "    t_numeric_add.append(tna)\n",
    "\n",
    "    ta, taa, run_id_a =  insert_data('array', size)\n",
    "    t_array.append(ta)\n",
    "    t_array_add.append(taa)"
   ]
  },
  {
   "cell_type": "code",
   "execution_count": 6,
   "metadata": {
    "execution": {
     "iopub.execute_input": "2021-05-26T08:44:08.254880Z",
     "iopub.status.busy": "2021-05-26T08:44:08.254108Z",
     "iopub.status.idle": "2021-05-26T08:44:08.545995Z",
     "shell.execute_reply": "2021-05-26T08:44:08.546600Z"
    }
   },
   "outputs": [
    {
     "data": {
      "image/png": "[encoded data removed]",
      "text/plain": [
       "<Figure size 432x288 with 1 Axes>"
      ]
     },
     "metadata": {
      "needs_background": "light"
     },
     "output_type": "display_data"
    }
   ],
   "source": [
    "fig, ax = plt.subplots(1,1)\n",
    "ax.plot(sizes, t_numeric, 'o-', label='Inserting row-by-row')\n",
    "ax.plot(sizes, t_numeric_add, 'o-', label='Inserting row-by-row: add_result only')\n",
    "ax.plot(sizes, t_array, 'd-', label='Inserting as binary blob')\n",
    "ax.plot(sizes, t_array_add, 'd-', label='Inserting as binary blob: add_result only')\n",
    "ax.legend()\n",
    "ax.set_xlabel('Array length')\n",
    "ax.set_ylabel('Time (s)')\n",
    "fig.tight_layout()"
   ]
  },
  {
   "cell_type": "markdown",
   "metadata": {},
   "source": [
    "As shown in the latter figure, the time to setup and and close the experiment is approximately 0.4 sec. In case of small array sizes, the difference between inserting values of data as arrays and inserting them row-by-row is relatively unimportant. At larger array sizes, i.e. above 10000 points, the cost of writing data as individual datapoints starts to become important.\n"
   ]
  },
  {
   "cell_type": "markdown",
   "metadata": {},
   "source": [
    "### Case2: Long experiment time "
   ]
  },
  {
   "cell_type": "code",
   "execution_count": 7,
   "metadata": {
    "execution": {
     "iopub.execute_input": "2021-05-26T08:44:08.555869Z",
     "iopub.status.busy": "2021-05-26T08:44:08.555121Z",
     "iopub.status.idle": "2021-05-26T08:45:15.844531Z",
     "shell.execute_reply": "2021-05-26T08:45:15.843498Z"
    }
   },
   "outputs": [
    {
     "name": "stdout",
     "output_type": "stream",
     "text": [
      "Starting experimental run with id: 15. \n",
      "Starting experimental run with id: 16. \n"
     ]
    },
    {
     "name": "stdout",
     "output_type": "stream",
     "text": [
      "Starting experimental run with id: 17. \n"
     ]
    },
    {
     "name": "stdout",
     "output_type": "stream",
     "text": [
      "Starting experimental run with id: 18. \n"
     ]
    },
    {
     "name": "stdout",
     "output_type": "stream",
     "text": [
      "Starting experimental run with id: 19. \n"
     ]
    },
    {
     "name": "stdout",
     "output_type": "stream",
     "text": [
      "Starting experimental run with id: 20. \n"
     ]
    },
    {
     "name": "stdout",
     "output_type": "stream",
     "text": [
      "Starting experimental run with id: 21. \n"
     ]
    },
    {
     "name": "stdout",
     "output_type": "stream",
     "text": [
      "Starting experimental run with id: 22. \n"
     ]
    },
    {
     "name": "stdout",
     "output_type": "stream",
     "text": [
      "Starting experimental run with id: 23. \n"
     ]
    },
    {
     "name": "stdout",
     "output_type": "stream",
     "text": [
      "Starting experimental run with id: 24. \n"
     ]
    },
    {
     "name": "stdout",
     "output_type": "stream",
     "text": [
      "Starting experimental run with id: 25. \n"
     ]
    },
    {
     "name": "stdout",
     "output_type": "stream",
     "text": [
      "Starting experimental run with id: 26. \n"
     ]
    },
    {
     "name": "stdout",
     "output_type": "stream",
     "text": [
      "Starting experimental run with id: 27. \n"
     ]
    },
    {
     "name": "stdout",
     "output_type": "stream",
     "text": [
      "Starting experimental run with id: 28. \n"
     ]
    }
   ],
   "source": [
    "sizes = [1,500,1000,2000,3000,4000,5000]\n",
    "nreps = 100\n",
    "t_numeric = []\n",
    "t_numeric_add = []\n",
    "t_numeric_run_ids = []\n",
    "t_array = []\n",
    "t_array_add = []\n",
    "t_array_run_ids = []\n",
    "for size in sizes:\n",
    "    tn, tna, run_id_n =  insert_data('numeric', size, nreps=nreps)\n",
    "    t_numeric.append(tn)\n",
    "    t_numeric_add.append(tna)\n",
    "    t_numeric_run_ids.append(run_id_n)\n",
    "\n",
    "    ta, taa, run_id_a =  insert_data('array', size, nreps=nreps)\n",
    "    t_array.append(ta)\n",
    "    t_array_add.append(taa)\n",
    "    t_array_run_ids.append(run_id_a)"
   ]
  },
  {
   "cell_type": "code",
   "execution_count": 8,
   "metadata": {
    "execution": {
     "iopub.execute_input": "2021-05-26T08:45:15.902616Z",
     "iopub.status.busy": "2021-05-26T08:45:15.901878Z",
     "iopub.status.idle": "2021-05-26T08:45:16.148608Z",
     "shell.execute_reply": "2021-05-26T08:45:16.147869Z"
    },
    "scrolled": true
   },
   "outputs": [
    {
     "data": {
      "image/png": "[encoded data removed]",
      "text/plain": [
       "<Figure size 432x288 with 1 Axes>"
      ]
     },
     "metadata": {
      "needs_background": "light"
     },
     "output_type": "display_data"
    }
   ],
   "source": [
    "fig, ax = plt.subplots(1,1)\n",
    "ax.plot(sizes, t_numeric, 'o-', label='Inserting row-by-row')\n",
    "ax.plot(sizes, t_numeric_add, 'o-', label='Inserting row-by-row: add_result only')\n",
    "ax.plot(sizes, t_array, 'd-', label='Inserting as binary blob')\n",
    "ax.plot(sizes, t_array_add, 'd-', label='Inserting as binary blob: add_result only')\n",
    "ax.legend()\n",
    "ax.set_xlabel('Array length')\n",
    "ax.set_ylabel('Time (s)')\n",
    "fig.tight_layout()"
   ]
  },
  {
   "cell_type": "markdown",
   "metadata": {},
   "source": [
    "However, as we increase the length of the experiment, as seen here by repeating the insertion 100 times, we see a big difference between inserting values of the data row-by-row and inserting it as a binary blob."
   ]
  },
  {
   "cell_type": "markdown",
   "metadata": {},
   "source": [
    "## Loading the data "
   ]
  },
  {
   "cell_type": "code",
   "execution_count": 9,
   "metadata": {
    "execution": {
     "iopub.execute_input": "2021-05-26T08:45:16.154089Z",
     "iopub.status.busy": "2021-05-26T08:45:16.152786Z",
     "iopub.status.idle": "2021-05-26T08:45:16.158108Z",
     "shell.execute_reply": "2021-05-26T08:45:16.157461Z"
    }
   },
   "outputs": [],
   "source": [
    "from qcodes.dataset.data_set import load_by_id"
   ]
  },
  {
   "cell_type": "markdown",
   "metadata": {},
   "source": [
    "As usual you can load the data by using the ``load_by_id`` function but you will notice that the different storage methods\n",
    "are reflected in shape of the data as it is retrieved. "
   ]
  },
  {
   "cell_type": "code",
   "execution_count": 10,
   "metadata": {
    "execution": {
     "iopub.execute_input": "2021-05-26T08:45:16.163668Z",
     "iopub.status.busy": "2021-05-26T08:45:16.162194Z",
     "iopub.status.idle": "2021-05-26T08:45:16.164546Z",
     "shell.execute_reply": "2021-05-26T08:45:16.165153Z"
    }
   },
   "outputs": [],
   "source": [
    "run_id_n = t_numeric_run_ids[0]\n",
    "run_id_a = t_array_run_ids[0]"
   ]
  },
  {
   "cell_type": "code",
   "execution_count": 11,
   "metadata": {
    "execution": {
     "iopub.execute_input": "2021-05-26T08:45:16.169189Z",
     "iopub.status.busy": "2021-05-26T08:45:16.168465Z",
     "iopub.status.idle": "2021-05-26T08:45:16.179992Z",
     "shell.execute_reply": "2021-05-26T08:45:16.180626Z"
    },
    "scrolled": true
   },
   "outputs": [
    {
     "data": {
      "text/plain": [
       "{'x1': {'x1': array([0.35390932, 0.35390932, 0.39342549, 0.39342549, 0.40021506,\n",
       "         0.40021506, 0.18571103, 0.18571103, 0.01366001, 0.01366001,\n",
       "         0.68734436, 0.68734436, 0.31308134, 0.31308134, 0.63692973,\n",
       "         0.63692973, 0.01037998, 0.01037998, 0.68801825, 0.68801825,\n",
       "         0.58551656, 0.58551656, 0.57311638, 0.57311638, 0.56943896,\n",
       "         0.56943896, 0.15050583, 0.15050583, 0.99554522, 0.99554522,\n",
       "         0.63700117, 0.63700117, 0.31700979, 0.31700979, 0.23075043,\n",
       "         0.23075043, 0.09884576, 0.09884576, 0.56293433, 0.56293433,\n",
       "         0.47342312, 0.47342312, 0.12368832, 0.12368832, 0.42115409,\n",
       "         0.42115409, 0.59615896, 0.59615896, 0.32123146, 0.32123146,\n",
       "         0.25436196, 0.25436196, 0.90861273, 0.90861273, 0.36200028,\n",
       "         0.36200028, 0.67173482, 0.67173482, 0.31691298, 0.31691298,\n",
       "         0.53368046, 0.53368046, 0.41459948, 0.41459948, 0.90100334,\n",
       "         0.90100334, 0.39750242, 0.39750242, 0.55655202, 0.55655202,\n",
       "         0.54210122, 0.54210122, 0.41877345, 0.41877345, 0.91712006,\n",
       "         0.91712006, 0.66348381, 0.66348381, 0.87963831, 0.87963831,\n",
       "         0.28799921, 0.28799921, 0.09601531, 0.09601531, 0.26264474,\n",
       "         0.26264474, 0.60709357, 0.60709357, 0.55402002, 0.55402002,\n",
       "         0.56828481, 0.56828481, 0.92048546, 0.92048546, 0.66682099,\n",
       "         0.66682099, 0.3859733 , 0.3859733 , 0.65522229, 0.65522229,\n",
       "         0.46471823, 0.46471823, 0.86930627, 0.86930627, 0.09214419,\n",
       "         0.09214419, 0.71091981, 0.71091981, 0.94258908, 0.94258908,\n",
       "         0.28997808, 0.28997808, 0.8145907 , 0.8145907 , 0.41719977,\n",
       "         0.41719977, 0.82401668, 0.82401668, 0.74669272, 0.74669272,\n",
       "         0.79007429, 0.79007429, 0.28065305, 0.28065305, 0.37342312,\n",
       "         0.37342312, 0.72825811, 0.72825811, 0.59549484, 0.59549484,\n",
       "         0.7753541 , 0.7753541 , 0.7246359 , 0.7246359 , 0.65880416,\n",
       "         0.65880416, 0.31589425, 0.31589425, 0.77072422, 0.77072422,\n",
       "         0.20712868, 0.20712868, 0.8974237 , 0.8974237 , 0.16622729,\n",
       "         0.16622729, 0.34320988, 0.34320988, 0.59727643, 0.59727643,\n",
       "         0.29916825, 0.29916825, 0.3111109 , 0.3111109 , 0.66834892,\n",
       "         0.66834892, 0.2981524 , 0.2981524 , 0.25924009, 0.25924009,\n",
       "         0.89187541, 0.89187541, 0.86173462, 0.86173462, 0.30711232,\n",
       "         0.30711232, 0.64245465, 0.64245465, 0.83089243, 0.83089243,\n",
       "         0.80294192, 0.80294192, 0.16797449, 0.16797449, 0.4648615 ,\n",
       "         0.4648615 , 0.90010271, 0.90010271, 0.90416822, 0.90416822,\n",
       "         0.31873429, 0.31873429, 0.67599698, 0.67599698, 0.20879027,\n",
       "         0.20879027, 0.27139732, 0.27139732, 0.84650671, 0.84650671,\n",
       "         0.47863943, 0.47863943, 0.75302464, 0.75302464, 0.31811275,\n",
       "         0.31811275, 0.20202207, 0.20202207, 0.03590941, 0.03590941])}}"
      ]
     },
     "execution_count": 1,
     "metadata": {},
     "output_type": "execute_result"
    }
   ],
   "source": [
    "ds = load_by_id(run_id_n)\n",
    "ds.get_parameter_data('x1')"
   ]
  },
  {
   "cell_type": "markdown",
   "metadata": {},
   "source": [
    "And a dataset stored as binary arrays"
   ]
  },
  {
   "cell_type": "code",
   "execution_count": 12,
   "metadata": {
    "execution": {
     "iopub.execute_input": "2021-05-26T08:45:16.184943Z",
     "iopub.status.busy": "2021-05-26T08:45:16.184229Z",
     "iopub.status.idle": "2021-05-26T08:45:16.256967Z",
     "shell.execute_reply": "2021-05-26T08:45:16.257752Z"
    },
    "scrolled": true
   },
   "outputs": [
    {
     "data": {
      "text/plain": [
       "{'x1': {'x1': array([[0.7740954 ],\n",
       "         [0.7740954 ],\n",
       "         [0.55506765],\n",
       "         [0.55506765],\n",
       "         [0.78458987],\n",
       "         [0.78458987],\n",
       "         [0.21515779],\n",
       "         [0.21515779],\n",
       "         [0.11450179],\n",
       "         [0.11450179],\n",
       "         [0.72421672],\n",
       "         [0.72421672],\n",
       "         [0.40324452],\n",
       "         [0.40324452],\n",
       "         [0.89432126],\n",
       "         [0.89432126],\n",
       "         [0.15508198],\n",
       "         [0.15508198],\n",
       "         [0.9662179 ],\n",
       "         [0.9662179 ],\n",
       "         [0.27809285],\n",
       "         [0.27809285],\n",
       "         [0.51976466],\n",
       "         [0.51976466],\n",
       "         [0.18988992],\n",
       "         [0.18988992],\n",
       "         [0.93716462],\n",
       "         [0.93716462],\n",
       "         [0.22771568],\n",
       "         [0.22771568],\n",
       "         [0.37012154],\n",
       "         [0.37012154],\n",
       "         [0.78245123],\n",
       "         [0.78245123],\n",
       "         [0.5492907 ],\n",
       "         [0.5492907 ],\n",
       "         [0.41959095],\n",
       "         [0.41959095],\n",
       "         [0.20248205],\n",
       "         [0.20248205],\n",
       "         [0.48984738],\n",
       "         [0.48984738],\n",
       "         [0.76202331],\n",
       "         [0.76202331],\n",
       "         [0.00147566],\n",
       "         [0.00147566],\n",
       "         [0.21298315],\n",
       "         [0.21298315],\n",
       "         [0.80300525],\n",
       "         [0.80300525],\n",
       "         [0.00787497],\n",
       "         [0.00787497],\n",
       "         [0.47669007],\n",
       "         [0.47669007],\n",
       "         [0.02756034],\n",
       "         [0.02756034],\n",
       "         [0.83318616],\n",
       "         [0.83318616],\n",
       "         [0.0816059 ],\n",
       "         [0.0816059 ],\n",
       "         [0.13199617],\n",
       "         [0.13199617],\n",
       "         [0.11645666],\n",
       "         [0.11645666],\n",
       "         [0.07135303],\n",
       "         [0.07135303],\n",
       "         [0.20875142],\n",
       "         [0.20875142],\n",
       "         [0.60088308],\n",
       "         [0.60088308],\n",
       "         [0.46547708],\n",
       "         [0.46547708],\n",
       "         [0.77674154],\n",
       "         [0.77674154],\n",
       "         [0.21313351],\n",
       "         [0.21313351],\n",
       "         [0.37387145],\n",
       "         [0.37387145],\n",
       "         [0.06456078],\n",
       "         [0.06456078],\n",
       "         [0.85934842],\n",
       "         [0.85934842],\n",
       "         [0.48201735],\n",
       "         [0.48201735],\n",
       "         [0.4070268 ],\n",
       "         [0.4070268 ],\n",
       "         [0.9059779 ],\n",
       "         [0.9059779 ],\n",
       "         [0.92776624],\n",
       "         [0.92776624],\n",
       "         [0.99318278],\n",
       "         [0.99318278],\n",
       "         [0.45395411],\n",
       "         [0.45395411],\n",
       "         [0.86018513],\n",
       "         [0.86018513],\n",
       "         [0.2808928 ],\n",
       "         [0.2808928 ],\n",
       "         [0.36061944],\n",
       "         [0.36061944],\n",
       "         [0.22154576],\n",
       "         [0.22154576],\n",
       "         [0.41970488],\n",
       "         [0.41970488],\n",
       "         [0.35237094],\n",
       "         [0.35237094],\n",
       "         [0.49134406],\n",
       "         [0.49134406],\n",
       "         [0.77437315],\n",
       "         [0.77437315],\n",
       "         [0.04532294],\n",
       "         [0.04532294],\n",
       "         [0.00226983],\n",
       "         [0.00226983],\n",
       "         [0.43807814],\n",
       "         [0.43807814],\n",
       "         [0.8389621 ],\n",
       "         [0.8389621 ],\n",
       "         [0.30900777],\n",
       "         [0.30900777],\n",
       "         [0.331909  ],\n",
       "         [0.331909  ],\n",
       "         [0.38625313],\n",
       "         [0.38625313],\n",
       "         [0.4868615 ],\n",
       "         [0.4868615 ],\n",
       "         [0.90496015],\n",
       "         [0.90496015],\n",
       "         [0.38537272],\n",
       "         [0.38537272],\n",
       "         [0.71447652],\n",
       "         [0.71447652],\n",
       "         [0.93809769],\n",
       "         [0.93809769],\n",
       "         [0.97403764],\n",
       "         [0.97403764],\n",
       "         [0.97377837],\n",
       "         [0.97377837],\n",
       "         [0.82472648],\n",
       "         [0.82472648],\n",
       "         [0.30330984],\n",
       "         [0.30330984],\n",
       "         [0.08283192],\n",
       "         [0.08283192],\n",
       "         [0.51674711],\n",
       "         [0.51674711],\n",
       "         [0.75132717],\n",
       "         [0.75132717],\n",
       "         [0.30285561],\n",
       "         [0.30285561],\n",
       "         [0.58735553],\n",
       "         [0.58735553],\n",
       "         [0.25830706],\n",
       "         [0.25830706],\n",
       "         [0.96431594],\n",
       "         [0.96431594],\n",
       "         [0.69387389],\n",
       "         [0.69387389],\n",
       "         [0.04386335],\n",
       "         [0.04386335],\n",
       "         [0.55858751],\n",
       "         [0.55858751],\n",
       "         [0.92869937],\n",
       "         [0.92869937],\n",
       "         [0.23035572],\n",
       "         [0.23035572],\n",
       "         [0.6767999 ],\n",
       "         [0.6767999 ],\n",
       "         [0.43316481],\n",
       "         [0.43316481],\n",
       "         [0.5722538 ],\n",
       "         [0.5722538 ],\n",
       "         [0.36278076],\n",
       "         [0.36278076],\n",
       "         [0.89380705],\n",
       "         [0.89380705],\n",
       "         [0.85558581],\n",
       "         [0.85558581],\n",
       "         [0.03174578],\n",
       "         [0.03174578],\n",
       "         [0.37117775],\n",
       "         [0.37117775],\n",
       "         [0.79111507],\n",
       "         [0.79111507],\n",
       "         [0.07445299],\n",
       "         [0.07445299],\n",
       "         [0.47710565],\n",
       "         [0.47710565],\n",
       "         [0.85808534],\n",
       "         [0.85808534],\n",
       "         [0.39505716],\n",
       "         [0.39505716],\n",
       "         [0.27919867],\n",
       "         [0.27919867],\n",
       "         [0.02745956],\n",
       "         [0.02745956],\n",
       "         [0.57001892],\n",
       "         [0.57001892],\n",
       "         [0.57687858],\n",
       "         [0.57687858]])}}"
      ]
     },
     "execution_count": 1,
     "metadata": {},
     "output_type": "execute_result"
    }
   ],
   "source": [
    "ds = load_by_id(run_id_a)\n",
    "ds.get_parameter_data('x1')"
   ]
  },
  {
   "cell_type": "code",
   "execution_count": null,
   "metadata": {},
   "outputs": [],
   "source": []
  }
 ],
 "metadata": {
  "kernelspec": {
   "display_name": "Python 3",
   "language": "python",
   "name": "python3"
  },
  "language_info": {
   "codemirror_mode": {
    "name": "ipython",
    "version": 3
   },
   "file_extension": ".py",
   "mimetype": "text/x-python",
   "name": "python",
   "nbconvert_exporter": "python",
   "pygments_lexer": "ipython3",
   "version": "3.7.10"
  },
  "nbsphinx": {
   "timeout": 600
  },
  "toc": {
   "base_numbering": 1,
   "nav_menu": {},
   "number_sections": true,
   "sideBar": true,
   "skip_h1_title": false,
   "title_cell": "Table of Contents",
   "title_sidebar": "Contents",
   "toc_cell": false,
   "toc_position": {},
   "toc_section_display": true,
   "toc_window_display": false
  },
  "varInspector": {
   "cols": {
    "lenName": 16,
    "lenType": 16,
    "lenVar": 40
   },
   "kernels_config": {
    "python": {
     "delete_cmd_postfix": "",
     "delete_cmd_prefix": "del ",
     "library": "var_list.py",
     "varRefreshCmd": "print(var_dic_list())"
    },
    "r": {
     "delete_cmd_postfix": ") ",
     "delete_cmd_prefix": "rm(",
     "library": "var_list.r",
     "varRefreshCmd": "cat(var_dic_list()) "
    }
   },
   "types_to_exclude": [
    "module",
    "function",
    "builtin_function_or_method",
    "instance",
    "_Feature"
   ],
   "window_display": false
  }
 },
 "nbformat": 4,
 "nbformat_minor": 4
}
