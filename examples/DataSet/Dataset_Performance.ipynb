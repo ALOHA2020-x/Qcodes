{
 "cells": [
  {
   "cell_type": "markdown",
   "metadata": {},
   "source": [
    "# DataSet Performance\n",
    "\n",
    "This notebook shows the trade-off between inserting data into a database row-by-row and as binary blobs. Inserting the data row-by-row means that we have direct access to all the data and may perform queries directly on the values of the data. On the other hand, as we shall see, this is much slower than inserting the data directly as binary blobs."
   ]
  },
  {
   "cell_type": "markdown",
   "metadata": {},
   "source": [
    "First, we choose a new location for the database to ensure that we don't add a bunch of benchmarking data to the default one."
   ]
  },
  {
   "cell_type": "code",
   "execution_count": 1,
   "metadata": {},
   "outputs": [
    {
     "name": "stdout",
     "output_type": "stream",
     "text": [
      "Logging hadn't been started.\n",
      "Activating auto-logging. Current session state plus future input saved.\n",
      "Filename       : /home/vsts/.qcodes/logs/command_history.log\n",
      "Mode           : append\n",
      "Output logging : True\n",
      "Raw input log  : False\n",
      "Timestamping   : True\n",
      "State          : active\n"
     ]
    },
    {
     "name": "stdout",
     "output_type": "stream",
     "text": [
      "Qcodes Logfile : /home/vsts/.qcodes/logs/200420-18987-qcodes.log\n"
     ]
    }
   ],
   "source": [
    "import os\n",
    "cwd = os.getcwd()\n",
    "import qcodes as qc\n",
    "qc.config[\"core\"][\"db_location\"] = os.path.join(cwd, 'testing.db')\n"
   ]
  },
  {
   "cell_type": "code",
   "execution_count": 2,
   "metadata": {},
   "outputs": [],
   "source": [
    "%matplotlib inline\n",
    "import time\n",
    "import matplotlib.pyplot as plt\n",
    "import numpy as np\n",
    "\n",
    "import qcodes as qc\n",
    "from qcodes.instrument.parameter import ManualParameter\n",
    "from qcodes.dataset.experiment_container import (Experiment,\n",
    "                                                 load_last_experiment,\n",
    "                                                 new_experiment)\n",
    "from qcodes.dataset.sqlite.database import initialise_database\n",
    "from qcodes import load_or_create_experiment\n",
    "from qcodes.dataset.measurements import Measurement"
   ]
  },
  {
   "cell_type": "code",
   "execution_count": 3,
   "metadata": {},
   "outputs": [
    {
     "name": "stdout",
     "output_type": "stream",
     "text": [
      "\r",
      "0it [00:00, ?it/s]"
     ]
    },
    {
     "name": "stdout",
     "output_type": "stream",
     "text": [
      "\r",
      "Upgrading database; v0 -> v1: : 0it [00:00, ?it/s]"
     ]
    },
    {
     "name": "stdout",
     "output_type": "stream",
     "text": [
      "\r",
      "Upgrading database; v0 -> v1: : 0it [00:00, ?it/s]"
     ]
    },
    {
     "name": "stdout",
     "output_type": "stream",
     "text": [
      "\n",
      "\r",
      "  0%|          | 0/1 [00:00<?, ?it/s]"
     ]
    },
    {
     "name": "stdout",
     "output_type": "stream",
     "text": [
      "\r",
      "Upgrading database; v1 -> v2:   0%|          | 0/1 [00:00<?, ?it/s]"
     ]
    },
    {
     "name": "stdout",
     "output_type": "stream",
     "text": [
      "\r",
      "Upgrading database; v1 -> v2: 100%|██████████| 1/1 [00:00<00:00, 1040.77it/s]"
     ]
    },
    {
     "name": "stdout",
     "output_type": "stream",
     "text": [
      "\n",
      "\r",
      "0it [00:00, ?it/s]"
     ]
    },
    {
     "name": "stdout",
     "output_type": "stream",
     "text": [
      "\r",
      "Upgrading database; v2 -> v3: : 0it [00:00, ?it/s]"
     ]
    },
    {
     "name": "stdout",
     "output_type": "stream",
     "text": [
      "\r",
      "Upgrading database; v2 -> v3: : 0it [00:00, ?it/s]"
     ]
    },
    {
     "name": "stdout",
     "output_type": "stream",
     "text": [
      "\n",
      "\r",
      "0it [00:00, ?it/s]"
     ]
    },
    {
     "name": "stdout",
     "output_type": "stream",
     "text": [
      "\r",
      "Upgrading database; v3 -> v4: : 0it [00:00, ?it/s]"
     ]
    },
    {
     "name": "stdout",
     "output_type": "stream",
     "text": [
      "\r",
      "Upgrading database; v3 -> v4: : 0it [00:00, ?it/s]"
     ]
    },
    {
     "name": "stdout",
     "output_type": "stream",
     "text": [
      "\n",
      "\r",
      "  0%|          | 0/1 [00:00<?, ?it/s]"
     ]
    },
    {
     "name": "stdout",
     "output_type": "stream",
     "text": [
      "\r",
      "Upgrading database; v4 -> v5:   0%|          | 0/1 [00:00<?, ?it/s]"
     ]
    },
    {
     "name": "stdout",
     "output_type": "stream",
     "text": [
      "\r",
      "Upgrading database; v4 -> v5: 100%|██████████| 1/1 [00:00<00:00, 1019.77it/s]"
     ]
    },
    {
     "name": "stdout",
     "output_type": "stream",
     "text": [
      "\n",
      "\r",
      "0it [00:00, ?it/s]"
     ]
    },
    {
     "name": "stdout",
     "output_type": "stream",
     "text": [
      "\r",
      "Upgrading database; v5 -> v6: : 0it [00:00, ?it/s]"
     ]
    },
    {
     "name": "stdout",
     "output_type": "stream",
     "text": [
      "\r",
      "Upgrading database; v5 -> v6: : 0it [00:00, ?it/s]"
     ]
    },
    {
     "name": "stdout",
     "output_type": "stream",
     "text": [
      "\n",
      "\r",
      "  0%|          | 0/1 [00:00<?, ?it/s]"
     ]
    },
    {
     "name": "stdout",
     "output_type": "stream",
     "text": [
      "\r",
      "Upgrading database; v6 -> v7:   0%|          | 0/1 [00:00<?, ?it/s]"
     ]
    },
    {
     "name": "stdout",
     "output_type": "stream",
     "text": [
      "\r",
      "Upgrading database; v6 -> v7: 100%|██████████| 1/1 [00:00<00:00, 598.84it/s]"
     ]
    },
    {
     "name": "stdout",
     "output_type": "stream",
     "text": [
      "\n",
      "\r",
      "  0%|          | 0/1 [00:00<?, ?it/s]"
     ]
    },
    {
     "name": "stdout",
     "output_type": "stream",
     "text": [
      "\r",
      "Upgrading database; v7 -> v8:   0%|          | 0/1 [00:00<?, ?it/s]"
     ]
    },
    {
     "name": "stdout",
     "output_type": "stream",
     "text": [
      "\r",
      "Upgrading database; v7 -> v8: 100%|██████████| 1/1 [00:00<00:00, 1079.89it/s]"
     ]
    },
    {
     "name": "stdout",
     "output_type": "stream",
     "text": [
      "\n",
      "\r",
      "  0%|          | 0/1 [00:00<?, ?it/s]"
     ]
    },
    {
     "name": "stdout",
     "output_type": "stream",
     "text": [
      "\r",
      "Upgrading database; v8 -> v9:   0%|          | 0/1 [00:00<?, ?it/s]"
     ]
    },
    {
     "name": "stdout",
     "output_type": "stream",
     "text": [
      "\r",
      "Upgrading database; v8 -> v9: 100%|██████████| 1/1 [00:00<00:00, 1058.63it/s]"
     ]
    },
    {
     "name": "stdout",
     "output_type": "stream",
     "text": [
      "\n"
     ]
    }
   ],
   "source": [
    "initialise_database()\n",
    "exp = load_or_create_experiment(experiment_name='tutorial_exp', sample_name=\"no sample\")"
   ]
  },
  {
   "cell_type": "markdown",
   "metadata": {},
   "source": [
    "Here, we define a simple function to benchmark the time it takes to insert n points with either numeric or array data type.\n",
    "We will compare both the time used to call ``add_result`` and the time used for the full measurement."
   ]
  },
  {
   "cell_type": "code",
   "execution_count": 4,
   "metadata": {},
   "outputs": [],
   "source": [
    "def insert_data(paramtype, npoints, nreps=1):\n",
    "\n",
    "    meas = Measurement(exp=exp)\n",
    "\n",
    "    x1 = ManualParameter('x1')\n",
    "    x2 = ManualParameter('x2')\n",
    "    x3 = ManualParameter('x3')\n",
    "    y1 = ManualParameter('y1')\n",
    "    y2 = ManualParameter('y2')\n",
    "\n",
    "    meas.register_parameter(x1, paramtype=paramtype)\n",
    "    meas.register_parameter(x2, paramtype=paramtype)\n",
    "    meas.register_parameter(x3, paramtype=paramtype)\n",
    "    meas.register_parameter(y1, setpoints=[x1, x2, x3],\n",
    "                            paramtype=paramtype)\n",
    "    meas.register_parameter(y2, setpoints=[x1, x2, x3],\n",
    "                            paramtype=paramtype)\n",
    "    start = time.perf_counter()\n",
    "    with meas.run() as datasaver:\n",
    "        start_adding = time.perf_counter()\n",
    "        for i in range(nreps):\n",
    "            datasaver.add_result((x1, np.random.rand(npoints)),\n",
    "                                 (x2, np.random.rand(npoints)),\n",
    "                                 (x3, np.random.rand(npoints)),\n",
    "                                 (y1, np.random.rand(npoints)),\n",
    "                                 (y2, np.random.rand(npoints)))\n",
    "        stop_adding = time.perf_counter()\n",
    "        run_id = datasaver.run_id\n",
    "    stop = time.perf_counter()\n",
    "    tot_time = stop - start\n",
    "    add_time = stop_adding - start_adding\n",
    "    return tot_time, add_time, run_id"
   ]
  },
  {
   "cell_type": "markdown",
   "metadata": {},
   "source": [
    "## Comparison between numeric/array data and binary blob"
   ]
  },
  {
   "cell_type": "markdown",
   "metadata": {},
   "source": [
    "### Case1: Short experiment time"
   ]
  },
  {
   "cell_type": "code",
   "execution_count": 5,
   "metadata": {},
   "outputs": [
    {
     "name": "stdout",
     "output_type": "stream",
     "text": [
      "Starting experimental run with id: 1. \n",
      "Starting experimental run with id: 2. \n",
      "Starting experimental run with id: 3. \n",
      "Starting experimental run with id: 4. \n",
      "Starting experimental run with id: 5. \n"
     ]
    },
    {
     "name": "stdout",
     "output_type": "stream",
     "text": [
      "Starting experimental run with id: 6. \n",
      "Starting experimental run with id: 7. \n"
     ]
    },
    {
     "name": "stdout",
     "output_type": "stream",
     "text": [
      "Starting experimental run with id: 8. \n",
      "Starting experimental run with id: 9. \n"
     ]
    },
    {
     "name": "stdout",
     "output_type": "stream",
     "text": [
      "Starting experimental run with id: 10. \n",
      "Starting experimental run with id: 11. \n"
     ]
    },
    {
     "name": "stdout",
     "output_type": "stream",
     "text": [
      "Starting experimental run with id: 12. \n"
     ]
    },
    {
     "name": "stdout",
     "output_type": "stream",
     "text": [
      "Starting experimental run with id: 13. \n",
      "Starting experimental run with id: 14. \n"
     ]
    }
   ],
   "source": [
    "sizes = [1,500,1000,2000,3000,4000,5000]\n",
    "t_numeric = []\n",
    "t_numeric_add = []\n",
    "t_array = []\n",
    "t_array_add = []\n",
    "for size in sizes:\n",
    "    tn, tna, run_id_n =  insert_data('numeric', size)\n",
    "    t_numeric.append(tn)\n",
    "    t_numeric_add.append(tna)\n",
    "\n",
    "    ta, taa, run_id_a =  insert_data('array', size)\n",
    "    t_array.append(ta)\n",
    "    t_array_add.append(taa)"
   ]
  },
  {
   "cell_type": "code",
   "execution_count": 6,
   "metadata": {},
   "outputs": [
    {
     "data": {
      "image/png": "[encoded data removed]",
      "text/plain": [
       "<Figure size 432x288 with 1 Axes>"
      ]
     },
     "metadata": {
      "needs_background": "light"
     },
     "output_type": "display_data"
    }
   ],
   "source": [
    "fig, ax = plt.subplots(1,1)\n",
    "ax.plot(sizes, t_numeric, 'o-', label='Inserting row-by-row')\n",
    "ax.plot(sizes, t_numeric_add, 'o-', label='Inserting row-by-row: add_result only')\n",
    "ax.plot(sizes, t_array, 'd-', label='Inserting as binary blob')\n",
    "ax.plot(sizes, t_array_add, 'd-', label='Inserting as binary blob: add_result only')\n",
    "ax.legend()\n",
    "ax.set_xlabel('Array length')\n",
    "ax.set_ylabel('Time (s)')\n",
    "fig.tight_layout()"
   ]
  },
  {
   "cell_type": "markdown",
   "metadata": {},
   "source": [
    "As shown in the latter figure, the time to setup and and close the experiment is approximately 0.4 sec. In case of small array sizes, the difference between inserting values of data as arrays and inserting them row-by-row is relatively unimportant. At larger array sizes, i.e. above 10000 points, the cost of writing data as individual datapoints starts to become important.\n"
   ]
  },
  {
   "cell_type": "markdown",
   "metadata": {},
   "source": [
    "### Case2: Long experiment time "
   ]
  },
  {
   "cell_type": "code",
   "execution_count": 7,
   "metadata": {},
   "outputs": [
    {
     "name": "stdout",
     "output_type": "stream",
     "text": [
      "Starting experimental run with id: 15. \n",
      "Starting experimental run with id: 16. \n",
      "Starting experimental run with id: 17. \n"
     ]
    },
    {
     "name": "stdout",
     "output_type": "stream",
     "text": [
      "Starting experimental run with id: 18. \n",
      "Starting experimental run with id: 19. \n"
     ]
    },
    {
     "name": "stdout",
     "output_type": "stream",
     "text": [
      "Starting experimental run with id: 20. \n"
     ]
    },
    {
     "name": "stdout",
     "output_type": "stream",
     "text": [
      "Starting experimental run with id: 21. \n"
     ]
    },
    {
     "name": "stdout",
     "output_type": "stream",
     "text": [
      "Starting experimental run with id: 22. \n"
     ]
    },
    {
     "name": "stdout",
     "output_type": "stream",
     "text": [
      "Starting experimental run with id: 23. \n"
     ]
    },
    {
     "name": "stdout",
     "output_type": "stream",
     "text": [
      "Starting experimental run with id: 24. \n"
     ]
    },
    {
     "name": "stdout",
     "output_type": "stream",
     "text": [
      "Starting experimental run with id: 25. \n"
     ]
    },
    {
     "name": "stdout",
     "output_type": "stream",
     "text": [
      "Starting experimental run with id: 26. \n"
     ]
    },
    {
     "name": "stdout",
     "output_type": "stream",
     "text": [
      "Starting experimental run with id: 27. \n"
     ]
    },
    {
     "name": "stdout",
     "output_type": "stream",
     "text": [
      "Starting experimental run with id: 28. \n"
     ]
    }
   ],
   "source": [
    "sizes = [1,500,1000,2000,3000,4000,5000]\n",
    "nreps = 100\n",
    "t_numeric = []\n",
    "t_numeric_add = []\n",
    "t_numeric_run_ids = []\n",
    "t_array = []\n",
    "t_array_add = []\n",
    "t_array_run_ids = []\n",
    "for size in sizes:\n",
    "    tn, tna, run_id_n =  insert_data('numeric', size, nreps=nreps)\n",
    "    t_numeric.append(tn)\n",
    "    t_numeric_add.append(tna)\n",
    "    t_numeric_run_ids.append(run_id_n)\n",
    "\n",
    "    ta, taa, run_id_a =  insert_data('array', size, nreps=nreps)\n",
    "    t_array.append(ta)\n",
    "    t_array_add.append(taa)\n",
    "    t_array_run_ids.append(run_id_a)"
   ]
  },
  {
   "cell_type": "code",
   "execution_count": 8,
   "metadata": {
    "scrolled": true
   },
   "outputs": [
    {
     "data": {
      "image/png": "[encoded data removed]",
      "text/plain": [
       "<Figure size 432x288 with 1 Axes>"
      ]
     },
     "metadata": {
      "needs_background": "light"
     },
     "output_type": "display_data"
    }
   ],
   "source": [
    "fig, ax = plt.subplots(1,1)\n",
    "ax.plot(sizes, t_numeric, 'o-', label='Inserting row-by-row')\n",
    "ax.plot(sizes, t_numeric_add, 'o-', label='Inserting row-by-row: add_result only')\n",
    "ax.plot(sizes, t_array, 'd-', label='Inserting as binary blob')\n",
    "ax.plot(sizes, t_array_add, 'd-', label='Inserting as binary blob: add_result only')\n",
    "ax.legend()\n",
    "ax.set_xlabel('Array length')\n",
    "ax.set_ylabel('Time (s)')\n",
    "fig.tight_layout()"
   ]
  },
  {
   "cell_type": "markdown",
   "metadata": {},
   "source": [
    "However, as we increase the length of the experiment, as seen here by repeating the insertion 100 times, we see a big difference between inserting values of the data row-by-row and inserting it as a binary blob."
   ]
  },
  {
   "cell_type": "markdown",
   "metadata": {},
   "source": [
    "## Loading the data "
   ]
  },
  {
   "cell_type": "code",
   "execution_count": 9,
   "metadata": {},
   "outputs": [],
   "source": [
    "from qcodes.dataset.data_set import load_by_id\n",
    "from qcodes.dataset.data_export import get_data_by_id"
   ]
  },
  {
   "cell_type": "markdown",
   "metadata": {},
   "source": [
    "As usual you can load the data by using the ``load_by_id`` function but you will notice that the different storage methods\n",
    "are reflected in shape of the data as it is retrieved. "
   ]
  },
  {
   "cell_type": "code",
   "execution_count": 10,
   "metadata": {},
   "outputs": [],
   "source": [
    "run_id_n = t_numeric_run_ids[0]\n",
    "run_id_a = t_array_run_ids[0]"
   ]
  },
  {
   "cell_type": "code",
   "execution_count": 11,
   "metadata": {
    "scrolled": true
   },
   "outputs": [
    {
     "data": {
      "text/plain": [
       "{'x1': {'x1': array([0.12095211, 0.12095211, 0.63953829, 0.63953829, 0.07614318,\n",
       "         0.07614318, 0.12694974, 0.12694974, 0.87932969, 0.87932969,\n",
       "         0.95591928, 0.95591928, 0.52749933, 0.52749933, 0.8186156 ,\n",
       "         0.8186156 , 0.85835667, 0.85835667, 0.65409861, 0.65409861,\n",
       "         0.04333351, 0.04333351, 0.04307993, 0.04307993, 0.72501669,\n",
       "         0.72501669, 0.33391714, 0.33391714, 0.21780109, 0.21780109,\n",
       "         0.47459287, 0.47459287, 0.14807902, 0.14807902, 0.02508599,\n",
       "         0.02508599, 0.1254983 , 0.1254983 , 0.08237861, 0.08237861,\n",
       "         0.77533261, 0.77533261, 0.0192295 , 0.0192295 , 0.39333556,\n",
       "         0.39333556, 0.49691411, 0.49691411, 0.99791149, 0.99791149,\n",
       "         0.72144735, 0.72144735, 0.82122909, 0.82122909, 0.72941419,\n",
       "         0.72941419, 0.25159543, 0.25159543, 0.98959741, 0.98959741,\n",
       "         0.39622981, 0.39622981, 0.55955071, 0.55955071, 0.09931094,\n",
       "         0.09931094, 0.77417816, 0.77417816, 0.7456702 , 0.7456702 ,\n",
       "         0.33256411, 0.33256411, 0.04095281, 0.04095281, 0.72679934,\n",
       "         0.72679934, 0.07918715, 0.07918715, 0.95022858, 0.95022858,\n",
       "         0.71699455, 0.71699455, 0.50859903, 0.50859903, 0.37041485,\n",
       "         0.37041485, 0.02709325, 0.02709325, 0.8609048 , 0.8609048 ,\n",
       "         0.87944593, 0.87944593, 0.90121028, 0.90121028, 0.06311513,\n",
       "         0.06311513, 0.46550786, 0.46550786, 0.9662809 , 0.9662809 ,\n",
       "         0.08629685, 0.08629685, 0.44435332, 0.44435332, 0.35620031,\n",
       "         0.35620031, 0.3825861 , 0.3825861 , 0.85280952, 0.85280952,\n",
       "         0.58142048, 0.58142048, 0.87921975, 0.87921975, 0.7847078 ,\n",
       "         0.7847078 , 0.61496795, 0.61496795, 0.92576665, 0.92576665,\n",
       "         0.18722109, 0.18722109, 0.62983383, 0.62983383, 0.42915903,\n",
       "         0.42915903, 0.87612254, 0.87612254, 0.6510849 , 0.6510849 ,\n",
       "         0.16494607, 0.16494607, 0.04184485, 0.04184485, 0.1398863 ,\n",
       "         0.1398863 , 0.97451638, 0.97451638, 0.09977274, 0.09977274,\n",
       "         0.61941079, 0.61941079, 0.17551642, 0.17551642, 0.84338024,\n",
       "         0.84338024, 0.09905748, 0.09905748, 0.54503138, 0.54503138,\n",
       "         0.80706304, 0.80706304, 0.40037954, 0.40037954, 0.45944347,\n",
       "         0.45944347, 0.98990381, 0.98990381, 0.63033891, 0.63033891,\n",
       "         0.67664797, 0.67664797, 0.18646598, 0.18646598, 0.96630549,\n",
       "         0.96630549, 0.72039968, 0.72039968, 0.27665907, 0.27665907,\n",
       "         0.61458348, 0.61458348, 0.61233798, 0.61233798, 0.96254881,\n",
       "         0.96254881, 0.72764735, 0.72764735, 0.108799  , 0.108799  ,\n",
       "         0.10051066, 0.10051066, 0.89386503, 0.89386503, 0.68655207,\n",
       "         0.68655207, 0.08630553, 0.08630553, 0.80341561, 0.80341561,\n",
       "         0.49379053, 0.49379053, 0.78011358, 0.78011358, 0.14441903,\n",
       "         0.14441903, 0.63494116, 0.63494116, 0.67435314, 0.67435314])}}"
      ]
     },
     "execution_count": 11,
     "metadata": {},
     "output_type": "execute_result"
    }
   ],
   "source": [
    "ds = load_by_id(run_id_n)\n",
    "ds.get_parameter_data('x1')"
   ]
  },
  {
   "cell_type": "markdown",
   "metadata": {},
   "source": [
    "And a dataset stored as binary arrays"
   ]
  },
  {
   "cell_type": "code",
   "execution_count": 12,
   "metadata": {
    "scrolled": true
   },
   "outputs": [
    {
     "data": {
      "text/plain": [
       "{'x1': {'x1': array([[0.49240278],\n",
       "         [0.49240278],\n",
       "         [0.05975317],\n",
       "         [0.05975317],\n",
       "         [0.27055235],\n",
       "         [0.27055235],\n",
       "         [0.97893244],\n",
       "         [0.97893244],\n",
       "         [0.28063679],\n",
       "         [0.28063679],\n",
       "         [0.57413974],\n",
       "         [0.57413974],\n",
       "         [0.93530337],\n",
       "         [0.93530337],\n",
       "         [0.46006183],\n",
       "         [0.46006183],\n",
       "         [0.28561546],\n",
       "         [0.28561546],\n",
       "         [0.89187695],\n",
       "         [0.89187695],\n",
       "         [0.72065968],\n",
       "         [0.72065968],\n",
       "         [0.62073511],\n",
       "         [0.62073511],\n",
       "         [0.121867  ],\n",
       "         [0.121867  ],\n",
       "         [0.37468266],\n",
       "         [0.37468266],\n",
       "         [0.14320135],\n",
       "         [0.14320135],\n",
       "         [0.58838675],\n",
       "         [0.58838675],\n",
       "         [0.9394484 ],\n",
       "         [0.9394484 ],\n",
       "         [0.96588406],\n",
       "         [0.96588406],\n",
       "         [0.36614616],\n",
       "         [0.36614616],\n",
       "         [0.41973694],\n",
       "         [0.41973694],\n",
       "         [0.1779677 ],\n",
       "         [0.1779677 ],\n",
       "         [0.42492592],\n",
       "         [0.42492592],\n",
       "         [0.92632504],\n",
       "         [0.92632504],\n",
       "         [0.7705952 ],\n",
       "         [0.7705952 ],\n",
       "         [0.05915943],\n",
       "         [0.05915943],\n",
       "         [0.69238132],\n",
       "         [0.69238132],\n",
       "         [0.03742841],\n",
       "         [0.03742841],\n",
       "         [0.03828699],\n",
       "         [0.03828699],\n",
       "         [0.534721  ],\n",
       "         [0.534721  ],\n",
       "         [0.96384666],\n",
       "         [0.96384666],\n",
       "         [0.78503483],\n",
       "         [0.78503483],\n",
       "         [0.19986703],\n",
       "         [0.19986703],\n",
       "         [0.42243005],\n",
       "         [0.42243005],\n",
       "         [0.33501084],\n",
       "         [0.33501084],\n",
       "         [0.86418229],\n",
       "         [0.86418229],\n",
       "         [0.19931387],\n",
       "         [0.19931387],\n",
       "         [0.18022726],\n",
       "         [0.18022726],\n",
       "         [0.96181018],\n",
       "         [0.96181018],\n",
       "         [0.98454107],\n",
       "         [0.98454107],\n",
       "         [0.0076768 ],\n",
       "         [0.0076768 ],\n",
       "         [0.66802869],\n",
       "         [0.66802869],\n",
       "         [0.76609914],\n",
       "         [0.76609914],\n",
       "         [0.56384828],\n",
       "         [0.56384828],\n",
       "         [0.58694912],\n",
       "         [0.58694912],\n",
       "         [0.02644359],\n",
       "         [0.02644359],\n",
       "         [0.17387558],\n",
       "         [0.17387558],\n",
       "         [0.37589351],\n",
       "         [0.37589351],\n",
       "         [0.99721931],\n",
       "         [0.99721931],\n",
       "         [0.17678329],\n",
       "         [0.17678329],\n",
       "         [0.76455472],\n",
       "         [0.76455472],\n",
       "         [0.77121068],\n",
       "         [0.77121068],\n",
       "         [0.23613814],\n",
       "         [0.23613814],\n",
       "         [0.04266991],\n",
       "         [0.04266991],\n",
       "         [0.82639349],\n",
       "         [0.82639349],\n",
       "         [0.21809321],\n",
       "         [0.21809321],\n",
       "         [0.2141623 ],\n",
       "         [0.2141623 ],\n",
       "         [0.11164142],\n",
       "         [0.11164142],\n",
       "         [0.72057954],\n",
       "         [0.72057954],\n",
       "         [0.73854029],\n",
       "         [0.73854029],\n",
       "         [0.4041049 ],\n",
       "         [0.4041049 ],\n",
       "         [0.41412962],\n",
       "         [0.41412962],\n",
       "         [0.16973547],\n",
       "         [0.16973547],\n",
       "         [0.64624111],\n",
       "         [0.64624111],\n",
       "         [0.07573387],\n",
       "         [0.07573387],\n",
       "         [0.38812012],\n",
       "         [0.38812012],\n",
       "         [0.6693618 ],\n",
       "         [0.6693618 ],\n",
       "         [0.04913647],\n",
       "         [0.04913647],\n",
       "         [0.34904319],\n",
       "         [0.34904319],\n",
       "         [0.4711219 ],\n",
       "         [0.4711219 ],\n",
       "         [0.42803587],\n",
       "         [0.42803587],\n",
       "         [0.77676463],\n",
       "         [0.77676463],\n",
       "         [0.52946274],\n",
       "         [0.52946274],\n",
       "         [0.83502364],\n",
       "         [0.83502364],\n",
       "         [0.00965354],\n",
       "         [0.00965354],\n",
       "         [0.0470765 ],\n",
       "         [0.0470765 ],\n",
       "         [0.78491033],\n",
       "         [0.78491033],\n",
       "         [0.65051663],\n",
       "         [0.65051663],\n",
       "         [0.96910169],\n",
       "         [0.96910169],\n",
       "         [0.90165568],\n",
       "         [0.90165568],\n",
       "         [0.96515599],\n",
       "         [0.96515599],\n",
       "         [0.65579956],\n",
       "         [0.65579956],\n",
       "         [0.11063212],\n",
       "         [0.11063212],\n",
       "         [0.10681314],\n",
       "         [0.10681314],\n",
       "         [0.69978464],\n",
       "         [0.69978464],\n",
       "         [0.31669943],\n",
       "         [0.31669943],\n",
       "         [0.04789582],\n",
       "         [0.04789582],\n",
       "         [0.06544099],\n",
       "         [0.06544099],\n",
       "         [0.86952807],\n",
       "         [0.86952807],\n",
       "         [0.13861479],\n",
       "         [0.13861479],\n",
       "         [0.22639259],\n",
       "         [0.22639259],\n",
       "         [0.62893191],\n",
       "         [0.62893191],\n",
       "         [0.03699378],\n",
       "         [0.03699378],\n",
       "         [0.97018525],\n",
       "         [0.97018525],\n",
       "         [0.83194438],\n",
       "         [0.83194438],\n",
       "         [0.89134641],\n",
       "         [0.89134641],\n",
       "         [0.23686657],\n",
       "         [0.23686657],\n",
       "         [0.04985221],\n",
       "         [0.04985221],\n",
       "         [0.06116315],\n",
       "         [0.06116315],\n",
       "         [0.7920923 ],\n",
       "         [0.7920923 ],\n",
       "         [0.16006866],\n",
       "         [0.16006866]])}}"
      ]
     },
     "execution_count": 12,
     "metadata": {},
     "output_type": "execute_result"
    }
   ],
   "source": [
    "ds = load_by_id(run_id_a)\n",
    "ds.get_parameter_data('x1')"
   ]
  },
  {
   "cell_type": "code",
   "execution_count": null,
   "metadata": {},
   "outputs": [],
   "source": []
  }
 ],
 "metadata": {
  "kernelspec": {
   "display_name": "Python 3",
   "language": "python",
   "name": "python3"
  },
  "language_info": {
   "codemirror_mode": {
    "name": "ipython",
    "version": 3
   },
   "file_extension": ".py",
   "mimetype": "text/x-python",
   "name": "python",
   "nbconvert_exporter": "python",
   "pygments_lexer": "ipython3",
   "version": "3.7.7"
  },
  "nbsphinx": {
   "timeout": 600
  },
  "toc": {
   "base_numbering": 1,
   "nav_menu": {},
   "number_sections": true,
   "sideBar": true,
   "skip_h1_title": false,
   "title_cell": "Table of Contents",
   "title_sidebar": "Contents",
   "toc_cell": false,
   "toc_position": {},
   "toc_section_display": true,
   "toc_window_display": false
  },
  "varInspector": {
   "cols": {
    "lenName": 16,
    "lenType": 16,
    "lenVar": 40
   },
   "kernels_config": {
    "python": {
     "delete_cmd_postfix": "",
     "delete_cmd_prefix": "del ",
     "library": "var_list.py",
     "varRefreshCmd": "print(var_dic_list())"
    },
    "r": {
     "delete_cmd_postfix": ") ",
     "delete_cmd_prefix": "rm(",
     "library": "var_list.r",
     "varRefreshCmd": "cat(var_dic_list()) "
    }
   },
   "types_to_exclude": [
    "module",
    "function",
    "builtin_function_or_method",
    "instance",
    "_Feature"
   ],
   "window_display": false
  }
 },
 "nbformat": 4,
 "nbformat_minor": 2
}
