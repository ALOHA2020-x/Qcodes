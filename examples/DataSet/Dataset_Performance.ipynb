{
 "cells": [
  {
   "cell_type": "markdown",
   "metadata": {},
   "source": [
    "# DataSet Performance\n",
    "\n",
    "This notebook shows the trade-off between inserting data into a database row-by-row and as binary blobs. Inserting the data row-by-row means that we have direct access to all the data and may perform queries directly on the values of the data. On the other hand, as we shall see, this is much slower than inserting the data directly as binary blobs."
   ]
  },
  {
   "cell_type": "markdown",
   "metadata": {},
   "source": [
    "First, we choose a new location for the database to ensure that we don't add a bunch of benchmarking data to the default one."
   ]
  },
  {
   "cell_type": "code",
   "execution_count": 1,
   "metadata": {},
   "outputs": [
    {
     "name": "stdout",
     "output_type": "stream",
     "text": [
      "Logging hadn't been started.\n",
      "Activating auto-logging. Current session state plus future input saved.\n",
      "Filename       : /home/vsts/.qcodes/logs/command_history.log\n",
      "Mode           : append\n",
      "Output logging : True\n",
      "Raw input log  : False\n",
      "Timestamping   : True\n",
      "State          : active\n"
     ]
    },
    {
     "name": "stdout",
     "output_type": "stream",
     "text": [
      "Qcodes Logfile : /home/vsts/.qcodes/logs/200617-19137-qcodes.log\n"
     ]
    }
   ],
   "source": [
    "import os\n",
    "cwd = os.getcwd()\n",
    "import qcodes as qc\n",
    "qc.config[\"core\"][\"db_location\"] = os.path.join(cwd, 'testing.db')\n"
   ]
  },
  {
   "cell_type": "code",
   "execution_count": 2,
   "metadata": {},
   "outputs": [],
   "source": [
    "%matplotlib inline\n",
    "import time\n",
    "import matplotlib.pyplot as plt\n",
    "import numpy as np\n",
    "\n",
    "import qcodes as qc\n",
    "from qcodes.instrument.parameter import ManualParameter\n",
    "from qcodes.dataset.experiment_container import (Experiment,\n",
    "                                                 load_last_experiment,\n",
    "                                                 new_experiment)\n",
    "from qcodes.dataset.sqlite.database import initialise_database\n",
    "from qcodes import load_or_create_experiment\n",
    "from qcodes.dataset.measurements import Measurement"
   ]
  },
  {
   "cell_type": "code",
   "execution_count": 3,
   "metadata": {},
   "outputs": [
    {
     "name": "stdout",
     "output_type": "stream",
     "text": [
      "\r",
      "0it [00:00, ?it/s]"
     ]
    },
    {
     "name": "stdout",
     "output_type": "stream",
     "text": [
      "\r",
      "Upgrading database; v0 -> v1: : 0it [00:00, ?it/s]"
     ]
    },
    {
     "name": "stdout",
     "output_type": "stream",
     "text": [
      "\r",
      "Upgrading database; v0 -> v1: : 0it [00:00, ?it/s]"
     ]
    },
    {
     "name": "stdout",
     "output_type": "stream",
     "text": [
      "\n",
      "\r",
      "  0%|          | 0/1 [00:00<?, ?it/s]"
     ]
    },
    {
     "name": "stdout",
     "output_type": "stream",
     "text": [
      "\r",
      "Upgrading database; v1 -> v2:   0%|          | 0/1 [00:00<?, ?it/s]"
     ]
    },
    {
     "name": "stdout",
     "output_type": "stream",
     "text": [
      "\r",
      "Upgrading database; v1 -> v2: 100%|██████████| 1/1 [00:00<00:00, 781.21it/s]"
     ]
    },
    {
     "name": "stdout",
     "output_type": "stream",
     "text": [
      "\n",
      "\r",
      "0it [00:00, ?it/s]"
     ]
    },
    {
     "name": "stdout",
     "output_type": "stream",
     "text": [
      "\r",
      "Upgrading database; v2 -> v3: : 0it [00:00, ?it/s]"
     ]
    },
    {
     "name": "stdout",
     "output_type": "stream",
     "text": [
      "\r",
      "Upgrading database; v2 -> v3: : 0it [00:00, ?it/s]"
     ]
    },
    {
     "name": "stdout",
     "output_type": "stream",
     "text": [
      "\n",
      "\r",
      "0it [00:00, ?it/s]"
     ]
    },
    {
     "name": "stdout",
     "output_type": "stream",
     "text": [
      "\r",
      "Upgrading database; v3 -> v4: : 0it [00:00, ?it/s]"
     ]
    },
    {
     "name": "stdout",
     "output_type": "stream",
     "text": [
      "\r",
      "Upgrading database; v3 -> v4: : 0it [00:00, ?it/s]"
     ]
    },
    {
     "name": "stdout",
     "output_type": "stream",
     "text": [
      "\n",
      "\r",
      "  0%|          | 0/1 [00:00<?, ?it/s]"
     ]
    },
    {
     "name": "stdout",
     "output_type": "stream",
     "text": [
      "\r",
      "Upgrading database; v4 -> v5:   0%|          | 0/1 [00:00<?, ?it/s]"
     ]
    },
    {
     "name": "stdout",
     "output_type": "stream",
     "text": [
      "\r",
      "Upgrading database; v4 -> v5: 100%|██████████| 1/1 [00:00<00:00, 893.17it/s]"
     ]
    },
    {
     "name": "stdout",
     "output_type": "stream",
     "text": [
      "\n",
      "\r",
      "0it [00:00, ?it/s]"
     ]
    },
    {
     "name": "stdout",
     "output_type": "stream",
     "text": [
      "\r",
      "Upgrading database; v5 -> v6: : 0it [00:00, ?it/s]"
     ]
    },
    {
     "name": "stdout",
     "output_type": "stream",
     "text": [
      "\r",
      "Upgrading database; v5 -> v6: : 0it [00:00, ?it/s]"
     ]
    },
    {
     "name": "stdout",
     "output_type": "stream",
     "text": [
      "\n",
      "\r",
      "  0%|          | 0/1 [00:00<?, ?it/s]"
     ]
    },
    {
     "name": "stdout",
     "output_type": "stream",
     "text": [
      "\r",
      "Upgrading database; v6 -> v7:   0%|          | 0/1 [00:00<?, ?it/s]"
     ]
    },
    {
     "name": "stdout",
     "output_type": "stream",
     "text": [
      "\r",
      "Upgrading database; v6 -> v7: 100%|██████████| 1/1 [00:00<00:00, 348.71it/s]"
     ]
    },
    {
     "name": "stdout",
     "output_type": "stream",
     "text": [
      "\n",
      "\r",
      "  0%|          | 0/1 [00:00<?, ?it/s]"
     ]
    },
    {
     "name": "stdout",
     "output_type": "stream",
     "text": [
      "\r",
      "Upgrading database; v7 -> v8:   0%|          | 0/1 [00:00<?, ?it/s]"
     ]
    },
    {
     "name": "stdout",
     "output_type": "stream",
     "text": [
      "\r",
      "Upgrading database; v7 -> v8: 100%|██████████| 1/1 [00:00<00:00, 909.63it/s]"
     ]
    },
    {
     "name": "stdout",
     "output_type": "stream",
     "text": [
      "\n",
      "\r",
      "  0%|          | 0/1 [00:00<?, ?it/s]"
     ]
    },
    {
     "name": "stdout",
     "output_type": "stream",
     "text": [
      "\r",
      "Upgrading database; v8 -> v9:   0%|          | 0/1 [00:00<?, ?it/s]"
     ]
    },
    {
     "name": "stdout",
     "output_type": "stream",
     "text": [
      "\r",
      "Upgrading database; v8 -> v9: 100%|██████████| 1/1 [00:00<00:00, 1077.40it/s]"
     ]
    },
    {
     "name": "stdout",
     "output_type": "stream",
     "text": [
      "\n"
     ]
    }
   ],
   "source": [
    "initialise_database()\n",
    "exp = load_or_create_experiment(experiment_name='tutorial_exp', sample_name=\"no sample\")"
   ]
  },
  {
   "cell_type": "markdown",
   "metadata": {},
   "source": [
    "Here, we define a simple function to benchmark the time it takes to insert n points with either numeric or array data type.\n",
    "We will compare both the time used to call ``add_result`` and the time used for the full measurement."
   ]
  },
  {
   "cell_type": "code",
   "execution_count": 4,
   "metadata": {},
   "outputs": [],
   "source": [
    "def insert_data(paramtype, npoints, nreps=1):\n",
    "\n",
    "    meas = Measurement(exp=exp)\n",
    "\n",
    "    x1 = ManualParameter('x1')\n",
    "    x2 = ManualParameter('x2')\n",
    "    x3 = ManualParameter('x3')\n",
    "    y1 = ManualParameter('y1')\n",
    "    y2 = ManualParameter('y2')\n",
    "\n",
    "    meas.register_parameter(x1, paramtype=paramtype)\n",
    "    meas.register_parameter(x2, paramtype=paramtype)\n",
    "    meas.register_parameter(x3, paramtype=paramtype)\n",
    "    meas.register_parameter(y1, setpoints=[x1, x2, x3],\n",
    "                            paramtype=paramtype)\n",
    "    meas.register_parameter(y2, setpoints=[x1, x2, x3],\n",
    "                            paramtype=paramtype)\n",
    "    start = time.perf_counter()\n",
    "    with meas.run() as datasaver:\n",
    "        start_adding = time.perf_counter()\n",
    "        for i in range(nreps):\n",
    "            datasaver.add_result((x1, np.random.rand(npoints)),\n",
    "                                 (x2, np.random.rand(npoints)),\n",
    "                                 (x3, np.random.rand(npoints)),\n",
    "                                 (y1, np.random.rand(npoints)),\n",
    "                                 (y2, np.random.rand(npoints)))\n",
    "        stop_adding = time.perf_counter()\n",
    "        run_id = datasaver.run_id\n",
    "    stop = time.perf_counter()\n",
    "    tot_time = stop - start\n",
    "    add_time = stop_adding - start_adding\n",
    "    return tot_time, add_time, run_id"
   ]
  },
  {
   "cell_type": "markdown",
   "metadata": {},
   "source": [
    "## Comparison between numeric/array data and binary blob"
   ]
  },
  {
   "cell_type": "markdown",
   "metadata": {},
   "source": [
    "### Case1: Short experiment time"
   ]
  },
  {
   "cell_type": "code",
   "execution_count": 5,
   "metadata": {},
   "outputs": [
    {
     "name": "stdout",
     "output_type": "stream",
     "text": [
      "Starting experimental run with id: 1. \n",
      "Starting experimental run with id: 2. \n",
      "Starting experimental run with id: 3. \n",
      "Starting experimental run with id: 4. \n",
      "Starting experimental run with id: 5. \n"
     ]
    },
    {
     "name": "stdout",
     "output_type": "stream",
     "text": [
      "Starting experimental run with id: 6. \n"
     ]
    },
    {
     "name": "stdout",
     "output_type": "stream",
     "text": [
      "Starting experimental run with id: 7. \n"
     ]
    },
    {
     "name": "stdout",
     "output_type": "stream",
     "text": [
      "Starting experimental run with id: 8. \n",
      "Starting experimental run with id: 9. \n"
     ]
    },
    {
     "name": "stdout",
     "output_type": "stream",
     "text": [
      "Starting experimental run with id: 10. \n",
      "Starting experimental run with id: 11. \n"
     ]
    },
    {
     "name": "stdout",
     "output_type": "stream",
     "text": [
      "Starting experimental run with id: 12. \n",
      "Starting experimental run with id: 13. \n"
     ]
    },
    {
     "name": "stdout",
     "output_type": "stream",
     "text": [
      "Starting experimental run with id: 14. \n"
     ]
    }
   ],
   "source": [
    "sizes = [1,500,1000,2000,3000,4000,5000]\n",
    "t_numeric = []\n",
    "t_numeric_add = []\n",
    "t_array = []\n",
    "t_array_add = []\n",
    "for size in sizes:\n",
    "    tn, tna, run_id_n =  insert_data('numeric', size)\n",
    "    t_numeric.append(tn)\n",
    "    t_numeric_add.append(tna)\n",
    "\n",
    "    ta, taa, run_id_a =  insert_data('array', size)\n",
    "    t_array.append(ta)\n",
    "    t_array_add.append(taa)"
   ]
  },
  {
   "cell_type": "code",
   "execution_count": 6,
   "metadata": {},
   "outputs": [
    {
     "data": {
      "image/png": "[encoded data removed]",
      "text/plain": [
       "<Figure size 432x288 with 1 Axes>"
      ]
     },
     "metadata": {
      "needs_background": "light"
     },
     "output_type": "display_data"
    }
   ],
   "source": [
    "fig, ax = plt.subplots(1,1)\n",
    "ax.plot(sizes, t_numeric, 'o-', label='Inserting row-by-row')\n",
    "ax.plot(sizes, t_numeric_add, 'o-', label='Inserting row-by-row: add_result only')\n",
    "ax.plot(sizes, t_array, 'd-', label='Inserting as binary blob')\n",
    "ax.plot(sizes, t_array_add, 'd-', label='Inserting as binary blob: add_result only')\n",
    "ax.legend()\n",
    "ax.set_xlabel('Array length')\n",
    "ax.set_ylabel('Time (s)')\n",
    "fig.tight_layout()"
   ]
  },
  {
   "cell_type": "markdown",
   "metadata": {},
   "source": [
    "As shown in the latter figure, the time to setup and and close the experiment is approximately 0.4 sec. In case of small array sizes, the difference between inserting values of data as arrays and inserting them row-by-row is relatively unimportant. At larger array sizes, i.e. above 10000 points, the cost of writing data as individual datapoints starts to become important.\n"
   ]
  },
  {
   "cell_type": "markdown",
   "metadata": {},
   "source": [
    "### Case2: Long experiment time "
   ]
  },
  {
   "cell_type": "code",
   "execution_count": 7,
   "metadata": {},
   "outputs": [
    {
     "name": "stdout",
     "output_type": "stream",
     "text": [
      "Starting experimental run with id: 15. \n",
      "Starting experimental run with id: 16. \n",
      "Starting experimental run with id: 17. \n"
     ]
    },
    {
     "name": "stdout",
     "output_type": "stream",
     "text": [
      "Starting experimental run with id: 18. \n",
      "Starting experimental run with id: 19. \n"
     ]
    },
    {
     "name": "stdout",
     "output_type": "stream",
     "text": [
      "Starting experimental run with id: 20. \n"
     ]
    },
    {
     "name": "stdout",
     "output_type": "stream",
     "text": [
      "Starting experimental run with id: 21. \n"
     ]
    },
    {
     "name": "stdout",
     "output_type": "stream",
     "text": [
      "Starting experimental run with id: 22. \n"
     ]
    },
    {
     "name": "stdout",
     "output_type": "stream",
     "text": [
      "Starting experimental run with id: 23. \n"
     ]
    },
    {
     "name": "stdout",
     "output_type": "stream",
     "text": [
      "Starting experimental run with id: 24. \n"
     ]
    },
    {
     "name": "stdout",
     "output_type": "stream",
     "text": [
      "Starting experimental run with id: 25. \n"
     ]
    },
    {
     "name": "stdout",
     "output_type": "stream",
     "text": [
      "Starting experimental run with id: 26. \n"
     ]
    },
    {
     "name": "stdout",
     "output_type": "stream",
     "text": [
      "Starting experimental run with id: 27. \n"
     ]
    },
    {
     "name": "stdout",
     "output_type": "stream",
     "text": [
      "Starting experimental run with id: 28. \n"
     ]
    }
   ],
   "source": [
    "sizes = [1,500,1000,2000,3000,4000,5000]\n",
    "nreps = 100\n",
    "t_numeric = []\n",
    "t_numeric_add = []\n",
    "t_numeric_run_ids = []\n",
    "t_array = []\n",
    "t_array_add = []\n",
    "t_array_run_ids = []\n",
    "for size in sizes:\n",
    "    tn, tna, run_id_n =  insert_data('numeric', size, nreps=nreps)\n",
    "    t_numeric.append(tn)\n",
    "    t_numeric_add.append(tna)\n",
    "    t_numeric_run_ids.append(run_id_n)\n",
    "\n",
    "    ta, taa, run_id_a =  insert_data('array', size, nreps=nreps)\n",
    "    t_array.append(ta)\n",
    "    t_array_add.append(taa)\n",
    "    t_array_run_ids.append(run_id_a)"
   ]
  },
  {
   "cell_type": "code",
   "execution_count": 8,
   "metadata": {
    "scrolled": true
   },
   "outputs": [
    {
     "data": {
      "image/png": "[encoded data removed]",
      "text/plain": [
       "<Figure size 432x288 with 1 Axes>"
      ]
     },
     "metadata": {
      "needs_background": "light"
     },
     "output_type": "display_data"
    }
   ],
   "source": [
    "fig, ax = plt.subplots(1,1)\n",
    "ax.plot(sizes, t_numeric, 'o-', label='Inserting row-by-row')\n",
    "ax.plot(sizes, t_numeric_add, 'o-', label='Inserting row-by-row: add_result only')\n",
    "ax.plot(sizes, t_array, 'd-', label='Inserting as binary blob')\n",
    "ax.plot(sizes, t_array_add, 'd-', label='Inserting as binary blob: add_result only')\n",
    "ax.legend()\n",
    "ax.set_xlabel('Array length')\n",
    "ax.set_ylabel('Time (s)')\n",
    "fig.tight_layout()"
   ]
  },
  {
   "cell_type": "markdown",
   "metadata": {},
   "source": [
    "However, as we increase the length of the experiment, as seen here by repeating the insertion 100 times, we see a big difference between inserting values of the data row-by-row and inserting it as a binary blob."
   ]
  },
  {
   "cell_type": "markdown",
   "metadata": {},
   "source": [
    "## Loading the data "
   ]
  },
  {
   "cell_type": "code",
   "execution_count": 9,
   "metadata": {},
   "outputs": [],
   "source": [
    "from qcodes.dataset.data_set import load_by_id\n",
    "from qcodes.dataset.data_export import get_data_by_id"
   ]
  },
  {
   "cell_type": "markdown",
   "metadata": {},
   "source": [
    "As usual you can load the data by using the ``load_by_id`` function but you will notice that the different storage methods\n",
    "are reflected in shape of the data as it is retrieved. "
   ]
  },
  {
   "cell_type": "code",
   "execution_count": 10,
   "metadata": {},
   "outputs": [],
   "source": [
    "run_id_n = t_numeric_run_ids[0]\n",
    "run_id_a = t_array_run_ids[0]"
   ]
  },
  {
   "cell_type": "code",
   "execution_count": 11,
   "metadata": {
    "scrolled": true
   },
   "outputs": [
    {
     "data": {
      "text/plain": [
       "{'x1': {'x1': array([0.25695904, 0.25695904, 0.8613527 , 0.8613527 , 0.40426757,\n",
       "         0.40426757, 0.75763183, 0.75763183, 0.48566601, 0.48566601,\n",
       "         0.50230407, 0.50230407, 0.10723365, 0.10723365, 0.11583773,\n",
       "         0.11583773, 0.33833159, 0.33833159, 0.79665606, 0.79665606,\n",
       "         0.2239692 , 0.2239692 , 0.47488471, 0.47488471, 0.84148168,\n",
       "         0.84148168, 0.55766788, 0.55766788, 0.37165973, 0.37165973,\n",
       "         0.43409984, 0.43409984, 0.50421098, 0.50421098, 0.41291343,\n",
       "         0.41291343, 0.345265  , 0.345265  , 0.96088307, 0.96088307,\n",
       "         0.38403468, 0.38403468, 0.04449674, 0.04449674, 0.61068285,\n",
       "         0.61068285, 0.32951373, 0.32951373, 0.68143121, 0.68143121,\n",
       "         0.75575904, 0.75575904, 0.85057116, 0.85057116, 0.05873199,\n",
       "         0.05873199, 0.00613889, 0.00613889, 0.90692011, 0.90692011,\n",
       "         0.37616991, 0.37616991, 0.19652854, 0.19652854, 0.14171348,\n",
       "         0.14171348, 0.05914189, 0.05914189, 0.8739767 , 0.8739767 ,\n",
       "         0.42095539, 0.42095539, 0.75911629, 0.75911629, 0.63924966,\n",
       "         0.63924966, 0.01171338, 0.01171338, 0.74352256, 0.74352256,\n",
       "         0.46225204, 0.46225204, 0.64076536, 0.64076536, 0.22227959,\n",
       "         0.22227959, 0.97323634, 0.97323634, 0.05575862, 0.05575862,\n",
       "         0.52199384, 0.52199384, 0.61449036, 0.61449036, 0.68791177,\n",
       "         0.68791177, 0.12370547, 0.12370547, 0.40068803, 0.40068803,\n",
       "         0.36288599, 0.36288599, 0.76724591, 0.76724591, 0.15780858,\n",
       "         0.15780858, 0.93127747, 0.93127747, 0.15640577, 0.15640577,\n",
       "         0.64682442, 0.64682442, 0.34522976, 0.34522976, 0.47775978,\n",
       "         0.47775978, 0.97248201, 0.97248201, 0.46821684, 0.46821684,\n",
       "         0.98206129, 0.98206129, 0.5093535 , 0.5093535 , 0.44651947,\n",
       "         0.44651947, 0.01174866, 0.01174866, 0.22682851, 0.22682851,\n",
       "         0.29480136, 0.29480136, 0.87623156, 0.87623156, 0.70303696,\n",
       "         0.70303696, 0.4003626 , 0.4003626 , 0.99779497, 0.99779497,\n",
       "         0.06991559, 0.06991559, 0.45737483, 0.45737483, 0.77316826,\n",
       "         0.77316826, 0.85080619, 0.85080619, 0.92730192, 0.92730192,\n",
       "         0.25966936, 0.25966936, 0.00136805, 0.00136805, 0.98974274,\n",
       "         0.98974274, 0.15783369, 0.15783369, 0.06840902, 0.06840902,\n",
       "         0.70026424, 0.70026424, 0.20398462, 0.20398462, 0.6759601 ,\n",
       "         0.6759601 , 0.86191493, 0.86191493, 0.45671785, 0.45671785,\n",
       "         0.21267362, 0.21267362, 0.37466534, 0.37466534, 0.44677513,\n",
       "         0.44677513, 0.41474688, 0.41474688, 0.7494916 , 0.7494916 ,\n",
       "         0.72537903, 0.72537903, 0.69090386, 0.69090386, 0.14932996,\n",
       "         0.14932996, 0.42193865, 0.42193865, 0.93103111, 0.93103111,\n",
       "         0.52020735, 0.52020735, 0.35626238, 0.35626238, 0.51882683,\n",
       "         0.51882683, 0.28862985, 0.28862985, 0.76394891, 0.76394891])}}"
      ]
     },
     "execution_count": 11,
     "metadata": {},
     "output_type": "execute_result"
    }
   ],
   "source": [
    "ds = load_by_id(run_id_n)\n",
    "ds.get_parameter_data('x1')"
   ]
  },
  {
   "cell_type": "markdown",
   "metadata": {},
   "source": [
    "And a dataset stored as binary arrays"
   ]
  },
  {
   "cell_type": "code",
   "execution_count": 12,
   "metadata": {
    "scrolled": true
   },
   "outputs": [
    {
     "data": {
      "text/plain": [
       "{'x1': {'x1': array([[5.56877233e-01],\n",
       "         [5.56877233e-01],\n",
       "         [2.61156248e-01],\n",
       "         [2.61156248e-01],\n",
       "         [8.48004996e-01],\n",
       "         [8.48004996e-01],\n",
       "         [7.74416117e-03],\n",
       "         [7.74416117e-03],\n",
       "         [3.63479635e-01],\n",
       "         [3.63479635e-01],\n",
       "         [8.22168791e-01],\n",
       "         [8.22168791e-01],\n",
       "         [1.79053519e-01],\n",
       "         [1.79053519e-01],\n",
       "         [8.81355679e-01],\n",
       "         [8.81355679e-01],\n",
       "         [4.09147772e-01],\n",
       "         [4.09147772e-01],\n",
       "         [4.10955908e-01],\n",
       "         [4.10955908e-01],\n",
       "         [8.47795124e-01],\n",
       "         [8.47795124e-01],\n",
       "         [3.56048030e-01],\n",
       "         [3.56048030e-01],\n",
       "         [2.06307453e-01],\n",
       "         [2.06307453e-01],\n",
       "         [3.37671343e-01],\n",
       "         [3.37671343e-01],\n",
       "         [8.98462135e-01],\n",
       "         [8.98462135e-01],\n",
       "         [4.93811043e-02],\n",
       "         [4.93811043e-02],\n",
       "         [8.78513663e-03],\n",
       "         [8.78513663e-03],\n",
       "         [5.70059915e-01],\n",
       "         [5.70059915e-01],\n",
       "         [7.24855331e-01],\n",
       "         [7.24855331e-01],\n",
       "         [2.46203823e-01],\n",
       "         [2.46203823e-01],\n",
       "         [7.80454391e-02],\n",
       "         [7.80454391e-02],\n",
       "         [9.16699628e-02],\n",
       "         [9.16699628e-02],\n",
       "         [7.09736482e-01],\n",
       "         [7.09736482e-01],\n",
       "         [2.17153568e-01],\n",
       "         [2.17153568e-01],\n",
       "         [9.10079951e-01],\n",
       "         [9.10079951e-01],\n",
       "         [3.22006142e-01],\n",
       "         [3.22006142e-01],\n",
       "         [7.34609855e-01],\n",
       "         [7.34609855e-01],\n",
       "         [9.03343802e-01],\n",
       "         [9.03343802e-01],\n",
       "         [5.35607869e-01],\n",
       "         [5.35607869e-01],\n",
       "         [6.42329825e-01],\n",
       "         [6.42329825e-01],\n",
       "         [3.00785596e-01],\n",
       "         [3.00785596e-01],\n",
       "         [9.18630678e-01],\n",
       "         [9.18630678e-01],\n",
       "         [1.69478374e-01],\n",
       "         [1.69478374e-01],\n",
       "         [9.75949368e-01],\n",
       "         [9.75949368e-01],\n",
       "         [3.47749996e-01],\n",
       "         [3.47749996e-01],\n",
       "         [1.43541875e-01],\n",
       "         [1.43541875e-01],\n",
       "         [9.00812035e-01],\n",
       "         [9.00812035e-01],\n",
       "         [9.49223214e-01],\n",
       "         [9.49223214e-01],\n",
       "         [7.77201237e-01],\n",
       "         [7.77201237e-01],\n",
       "         [8.33516531e-02],\n",
       "         [8.33516531e-02],\n",
       "         [3.24491804e-01],\n",
       "         [3.24491804e-01],\n",
       "         [5.76485999e-01],\n",
       "         [5.76485999e-01],\n",
       "         [3.90676881e-01],\n",
       "         [3.90676881e-01],\n",
       "         [7.60446302e-01],\n",
       "         [7.60446302e-01],\n",
       "         [9.83296783e-01],\n",
       "         [9.83296783e-01],\n",
       "         [2.79520287e-01],\n",
       "         [2.79520287e-01],\n",
       "         [1.11136888e-01],\n",
       "         [1.11136888e-01],\n",
       "         [3.14668935e-01],\n",
       "         [3.14668935e-01],\n",
       "         [6.72479042e-01],\n",
       "         [6.72479042e-01],\n",
       "         [6.36548186e-01],\n",
       "         [6.36548186e-01],\n",
       "         [8.70861175e-01],\n",
       "         [8.70861175e-01],\n",
       "         [2.62294211e-01],\n",
       "         [2.62294211e-01],\n",
       "         [2.79507405e-02],\n",
       "         [2.79507405e-02],\n",
       "         [5.69822186e-01],\n",
       "         [5.69822186e-01],\n",
       "         [9.20481835e-01],\n",
       "         [9.20481835e-01],\n",
       "         [9.91833038e-01],\n",
       "         [9.91833038e-01],\n",
       "         [9.97191387e-02],\n",
       "         [9.97191387e-02],\n",
       "         [9.91523820e-01],\n",
       "         [9.91523820e-01],\n",
       "         [6.59813491e-01],\n",
       "         [6.59813491e-01],\n",
       "         [2.47059769e-01],\n",
       "         [2.47059769e-01],\n",
       "         [5.53399661e-01],\n",
       "         [5.53399661e-01],\n",
       "         [3.74238010e-01],\n",
       "         [3.74238010e-01],\n",
       "         [5.09019665e-01],\n",
       "         [5.09019665e-01],\n",
       "         [5.78486487e-03],\n",
       "         [5.78486487e-03],\n",
       "         [6.17284688e-01],\n",
       "         [6.17284688e-01],\n",
       "         [7.48682566e-01],\n",
       "         [7.48682566e-01],\n",
       "         [8.55676509e-01],\n",
       "         [8.55676509e-01],\n",
       "         [2.06776996e-01],\n",
       "         [2.06776996e-01],\n",
       "         [1.81502747e-01],\n",
       "         [1.81502747e-01],\n",
       "         [4.64692995e-01],\n",
       "         [4.64692995e-01],\n",
       "         [6.68963876e-01],\n",
       "         [6.68963876e-01],\n",
       "         [4.23375578e-01],\n",
       "         [4.23375578e-01],\n",
       "         [2.13756848e-01],\n",
       "         [2.13756848e-01],\n",
       "         [6.23060013e-01],\n",
       "         [6.23060013e-01],\n",
       "         [1.20625500e-01],\n",
       "         [1.20625500e-01],\n",
       "         [7.48329301e-01],\n",
       "         [7.48329301e-01],\n",
       "         [4.66614259e-01],\n",
       "         [4.66614259e-01],\n",
       "         [9.83800126e-01],\n",
       "         [9.83800126e-01],\n",
       "         [2.54480428e-01],\n",
       "         [2.54480428e-01],\n",
       "         [5.95389350e-01],\n",
       "         [5.95389350e-01],\n",
       "         [1.63777093e-01],\n",
       "         [1.63777093e-01],\n",
       "         [9.27541936e-01],\n",
       "         [9.27541936e-01],\n",
       "         [2.81851658e-01],\n",
       "         [2.81851658e-01],\n",
       "         [3.16827660e-01],\n",
       "         [3.16827660e-01],\n",
       "         [3.06444853e-01],\n",
       "         [3.06444853e-01],\n",
       "         [9.31145579e-01],\n",
       "         [9.31145579e-01],\n",
       "         [4.55273600e-01],\n",
       "         [4.55273600e-01],\n",
       "         [4.88056745e-01],\n",
       "         [4.88056745e-01],\n",
       "         [7.79970003e-05],\n",
       "         [7.79970003e-05],\n",
       "         [3.92239383e-01],\n",
       "         [3.92239383e-01],\n",
       "         [8.36033449e-01],\n",
       "         [8.36033449e-01],\n",
       "         [6.19693303e-01],\n",
       "         [6.19693303e-01],\n",
       "         [4.28603612e-01],\n",
       "         [4.28603612e-01],\n",
       "         [5.14301680e-01],\n",
       "         [5.14301680e-01],\n",
       "         [6.71096385e-01],\n",
       "         [6.71096385e-01],\n",
       "         [4.20711393e-02],\n",
       "         [4.20711393e-02],\n",
       "         [2.50075058e-01],\n",
       "         [2.50075058e-01],\n",
       "         [1.97642280e-01],\n",
       "         [1.97642280e-01],\n",
       "         [1.38638377e-01],\n",
       "         [1.38638377e-01],\n",
       "         [7.19488413e-01],\n",
       "         [7.19488413e-01]])}}"
      ]
     },
     "execution_count": 12,
     "metadata": {},
     "output_type": "execute_result"
    }
   ],
   "source": [
    "ds = load_by_id(run_id_a)\n",
    "ds.get_parameter_data('x1')"
   ]
  },
  {
   "cell_type": "code",
   "execution_count": null,
   "metadata": {},
   "outputs": [],
   "source": []
  }
 ],
 "metadata": {
  "kernelspec": {
   "display_name": "Python 3",
   "language": "python",
   "name": "python3"
  },
  "language_info": {
   "codemirror_mode": {
    "name": "ipython",
    "version": 3
   },
   "file_extension": ".py",
   "mimetype": "text/x-python",
   "name": "python",
   "nbconvert_exporter": "python",
   "pygments_lexer": "ipython3",
   "version": "3.7.7"
  },
  "nbsphinx": {
   "timeout": 600
  },
  "toc": {
   "base_numbering": 1,
   "nav_menu": {},
   "number_sections": true,
   "sideBar": true,
   "skip_h1_title": false,
   "title_cell": "Table of Contents",
   "title_sidebar": "Contents",
   "toc_cell": false,
   "toc_position": {},
   "toc_section_display": true,
   "toc_window_display": false
  },
  "varInspector": {
   "cols": {
    "lenName": 16,
    "lenType": 16,
    "lenVar": 40
   },
   "kernels_config": {
    "python": {
     "delete_cmd_postfix": "",
     "delete_cmd_prefix": "del ",
     "library": "var_list.py",
     "varRefreshCmd": "print(var_dic_list())"
    },
    "r": {
     "delete_cmd_postfix": ") ",
     "delete_cmd_prefix": "rm(",
     "library": "var_list.r",
     "varRefreshCmd": "cat(var_dic_list()) "
    }
   },
   "types_to_exclude": [
    "module",
    "function",
    "builtin_function_or_method",
    "instance",
    "_Feature"
   ],
   "window_display": false
  }
 },
 "nbformat": 4,
 "nbformat_minor": 2
}
