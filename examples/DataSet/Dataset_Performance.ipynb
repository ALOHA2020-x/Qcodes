{
 "cells": [
  {
   "cell_type": "markdown",
   "metadata": {},
   "source": [
    "# DataSet Performance\n",
    "\n",
    "This notebook shows the trade-off between inserting data into a database row-by-row and as binary blobs. Inserting the data row-by-row means that we have direct access to all the data and may perform queries directly on the values of the data. On the other hand, as we shall see, this is much slower than inserting the data directly as binary blobs."
   ]
  },
  {
   "cell_type": "markdown",
   "metadata": {},
   "source": [
    "First, we choose a new location for the database to ensure that we don't add a bunch of benchmarking data to the default one."
   ]
  },
  {
   "cell_type": "code",
   "execution_count": 1,
   "metadata": {},
   "outputs": [
    {
     "name": "stdout",
     "output_type": "stream",
     "text": [
      "Logging hadn't been started.\n",
      "Activating auto-logging. Current session state plus future input saved.\n",
      "Filename       : /home/vsts/.qcodes/logs/command_history.log\n",
      "Mode           : append\n",
      "Output logging : True\n",
      "Raw input log  : False\n",
      "Timestamping   : True\n",
      "State          : active\n"
     ]
    },
    {
     "name": "stdout",
     "output_type": "stream",
     "text": [
      "Qcodes Logfile : /home/vsts/.qcodes/logs/200319-19158-qcodes.log\n"
     ]
    }
   ],
   "source": [
    "import os\n",
    "cwd = os.getcwd()\n",
    "import qcodes as qc\n",
    "qc.config[\"core\"][\"db_location\"] = os.path.join(cwd, 'testing.db')\n"
   ]
  },
  {
   "cell_type": "code",
   "execution_count": 2,
   "metadata": {},
   "outputs": [],
   "source": [
    "%matplotlib inline\n",
    "import time\n",
    "import matplotlib.pyplot as plt\n",
    "import numpy as np\n",
    "\n",
    "import qcodes as qc\n",
    "from qcodes.instrument.parameter import ManualParameter\n",
    "from qcodes.dataset.experiment_container import (Experiment,\n",
    "                                                 load_last_experiment,\n",
    "                                                 new_experiment)\n",
    "from qcodes.dataset.sqlite.database import initialise_database\n",
    "from qcodes import load_or_create_experiment\n",
    "from qcodes.dataset.measurements import Measurement"
   ]
  },
  {
   "cell_type": "code",
   "execution_count": 3,
   "metadata": {},
   "outputs": [
    {
     "name": "stdout",
     "output_type": "stream",
     "text": [
      "\r",
      "0it [00:00, ?it/s]"
     ]
    },
    {
     "name": "stdout",
     "output_type": "stream",
     "text": [
      "\r",
      "Upgrading database; v0 -> v1: : 0it [00:00, ?it/s]"
     ]
    },
    {
     "name": "stdout",
     "output_type": "stream",
     "text": [
      "\r",
      "Upgrading database; v0 -> v1: : 0it [00:00, ?it/s]"
     ]
    },
    {
     "name": "stdout",
     "output_type": "stream",
     "text": [
      "\n",
      "\r",
      "  0%|          | 0/1 [00:00<?, ?it/s]"
     ]
    },
    {
     "name": "stdout",
     "output_type": "stream",
     "text": [
      "\r",
      "Upgrading database; v1 -> v2:   0%|          | 0/1 [00:00<?, ?it/s]"
     ]
    },
    {
     "name": "stdout",
     "output_type": "stream",
     "text": [
      "\r",
      "Upgrading database; v1 -> v2: 100%|██████████| 1/1 [00:00<00:00, 973.83it/s]"
     ]
    },
    {
     "name": "stdout",
     "output_type": "stream",
     "text": [
      "\n",
      "\r",
      "0it [00:00, ?it/s]"
     ]
    },
    {
     "name": "stdout",
     "output_type": "stream",
     "text": [
      "\r",
      "Upgrading database; v2 -> v3: : 0it [00:00, ?it/s]"
     ]
    },
    {
     "name": "stdout",
     "output_type": "stream",
     "text": [
      "\r",
      "Upgrading database; v2 -> v3: : 0it [00:00, ?it/s]"
     ]
    },
    {
     "name": "stdout",
     "output_type": "stream",
     "text": [
      "\n",
      "\r",
      "0it [00:00, ?it/s]"
     ]
    },
    {
     "name": "stdout",
     "output_type": "stream",
     "text": [
      "\r",
      "Upgrading database; v3 -> v4: : 0it [00:00, ?it/s]"
     ]
    },
    {
     "name": "stdout",
     "output_type": "stream",
     "text": [
      "\r",
      "Upgrading database; v3 -> v4: : 0it [00:00, ?it/s]"
     ]
    },
    {
     "name": "stdout",
     "output_type": "stream",
     "text": [
      "\n",
      "\r",
      "  0%|          | 0/1 [00:00<?, ?it/s]"
     ]
    },
    {
     "name": "stdout",
     "output_type": "stream",
     "text": [
      "\r",
      "Upgrading database; v4 -> v5:   0%|          | 0/1 [00:00<?, ?it/s]"
     ]
    },
    {
     "name": "stdout",
     "output_type": "stream",
     "text": [
      "\r",
      "Upgrading database; v4 -> v5: 100%|██████████| 1/1 [00:00<00:00, 865.16it/s]"
     ]
    },
    {
     "name": "stdout",
     "output_type": "stream",
     "text": [
      "\n",
      "\r",
      "0it [00:00, ?it/s]"
     ]
    },
    {
     "name": "stdout",
     "output_type": "stream",
     "text": [
      "\r",
      "Upgrading database; v5 -> v6: : 0it [00:00, ?it/s]"
     ]
    },
    {
     "name": "stdout",
     "output_type": "stream",
     "text": [
      "\r",
      "Upgrading database; v5 -> v6: : 0it [00:00, ?it/s]"
     ]
    },
    {
     "name": "stdout",
     "output_type": "stream",
     "text": [
      "\n",
      "\r",
      "  0%|          | 0/1 [00:00<?, ?it/s]"
     ]
    },
    {
     "name": "stdout",
     "output_type": "stream",
     "text": [
      "\r",
      "Upgrading database; v6 -> v7:   0%|          | 0/1 [00:00<?, ?it/s]"
     ]
    },
    {
     "name": "stdout",
     "output_type": "stream",
     "text": [
      "\r",
      "Upgrading database; v6 -> v7: 100%|██████████| 1/1 [00:00<00:00, 461.72it/s]"
     ]
    },
    {
     "name": "stdout",
     "output_type": "stream",
     "text": [
      "\n",
      "\r",
      "  0%|          | 0/1 [00:00<?, ?it/s]"
     ]
    },
    {
     "name": "stdout",
     "output_type": "stream",
     "text": [
      "\r",
      "Upgrading database; v7 -> v8:   0%|          | 0/1 [00:00<?, ?it/s]"
     ]
    },
    {
     "name": "stdout",
     "output_type": "stream",
     "text": [
      "\r",
      "Upgrading database; v7 -> v8: 100%|██████████| 1/1 [00:00<00:00, 861.61it/s]"
     ]
    },
    {
     "name": "stdout",
     "output_type": "stream",
     "text": [
      "\n",
      "\r",
      "  0%|          | 0/1 [00:00<?, ?it/s]"
     ]
    },
    {
     "name": "stdout",
     "output_type": "stream",
     "text": [
      "\r",
      "Upgrading database; v8 -> v9:   0%|          | 0/1 [00:00<?, ?it/s]"
     ]
    },
    {
     "name": "stdout",
     "output_type": "stream",
     "text": [
      "\r",
      "Upgrading database; v8 -> v9: 100%|██████████| 1/1 [00:00<00:00, 1059.70it/s]"
     ]
    },
    {
     "name": "stdout",
     "output_type": "stream",
     "text": [
      "\n"
     ]
    }
   ],
   "source": [
    "initialise_database()\n",
    "exp = load_or_create_experiment(experiment_name='tutorial_exp', sample_name=\"no sample\")"
   ]
  },
  {
   "cell_type": "markdown",
   "metadata": {},
   "source": [
    "Here, we define a simple function to benchmark the time it takes to insert n points with either numeric or array data type.\n",
    "We will compare both the time used to call ``add_result`` and the time used for the full measurement."
   ]
  },
  {
   "cell_type": "code",
   "execution_count": 4,
   "metadata": {},
   "outputs": [],
   "source": [
    "def insert_data(paramtype, npoints, nreps=1):\n",
    "\n",
    "    meas = Measurement(exp=exp)\n",
    "\n",
    "    x1 = ManualParameter('x1')\n",
    "    x2 = ManualParameter('x2')\n",
    "    x3 = ManualParameter('x3')\n",
    "    y1 = ManualParameter('y1')\n",
    "    y2 = ManualParameter('y2')\n",
    "\n",
    "    meas.register_parameter(x1, paramtype=paramtype)\n",
    "    meas.register_parameter(x2, paramtype=paramtype)\n",
    "    meas.register_parameter(x3, paramtype=paramtype)\n",
    "    meas.register_parameter(y1, setpoints=[x1, x2, x3],\n",
    "                            paramtype=paramtype)\n",
    "    meas.register_parameter(y2, setpoints=[x1, x2, x3],\n",
    "                            paramtype=paramtype)\n",
    "    start = time.perf_counter()\n",
    "    with meas.run() as datasaver:\n",
    "        start_adding = time.perf_counter()\n",
    "        for i in range(nreps):\n",
    "            datasaver.add_result((x1, np.random.rand(npoints)),\n",
    "                                 (x2, np.random.rand(npoints)),\n",
    "                                 (x3, np.random.rand(npoints)),\n",
    "                                 (y1, np.random.rand(npoints)),\n",
    "                                 (y2, np.random.rand(npoints)))\n",
    "        stop_adding = time.perf_counter()\n",
    "        run_id = datasaver.run_id\n",
    "    stop = time.perf_counter()\n",
    "    tot_time = stop - start\n",
    "    add_time = stop_adding - start_adding\n",
    "    return tot_time, add_time, run_id"
   ]
  },
  {
   "cell_type": "markdown",
   "metadata": {},
   "source": [
    "## Comparison between numeric/array data and binary blob"
   ]
  },
  {
   "cell_type": "markdown",
   "metadata": {},
   "source": [
    "### Case1: Short experiment time"
   ]
  },
  {
   "cell_type": "code",
   "execution_count": 5,
   "metadata": {},
   "outputs": [
    {
     "name": "stdout",
     "output_type": "stream",
     "text": [
      "Starting experimental run with id: 1. \n",
      "Starting experimental run with id: 2. \n",
      "Starting experimental run with id: 3. \n",
      "Starting experimental run with id: 4. \n"
     ]
    },
    {
     "name": "stdout",
     "output_type": "stream",
     "text": [
      "Starting experimental run with id: 5. \n"
     ]
    },
    {
     "name": "stdout",
     "output_type": "stream",
     "text": [
      "Starting experimental run with id: 6. \n",
      "Starting experimental run with id: 7. \n"
     ]
    },
    {
     "name": "stdout",
     "output_type": "stream",
     "text": [
      "Starting experimental run with id: 8. \n",
      "Starting experimental run with id: 9. \n"
     ]
    },
    {
     "name": "stdout",
     "output_type": "stream",
     "text": [
      "Starting experimental run with id: 10. \n",
      "Starting experimental run with id: 11. \n"
     ]
    },
    {
     "name": "stdout",
     "output_type": "stream",
     "text": [
      "Starting experimental run with id: 12. \n"
     ]
    },
    {
     "name": "stdout",
     "output_type": "stream",
     "text": [
      "Starting experimental run with id: 13. \n"
     ]
    },
    {
     "name": "stdout",
     "output_type": "stream",
     "text": [
      "Starting experimental run with id: 14. \n"
     ]
    }
   ],
   "source": [
    "sizes = [1,500,1000,2000,3000,4000,5000]\n",
    "t_numeric = []\n",
    "t_numeric_add = []\n",
    "t_array = []\n",
    "t_array_add = []\n",
    "for size in sizes:\n",
    "    tn, tna, run_id_n =  insert_data('numeric', size)\n",
    "    t_numeric.append(tn)\n",
    "    t_numeric_add.append(tna)\n",
    "\n",
    "    ta, taa, run_id_a =  insert_data('array', size)\n",
    "    t_array.append(ta)\n",
    "    t_array_add.append(taa)"
   ]
  },
  {
   "cell_type": "code",
   "execution_count": 6,
   "metadata": {},
   "outputs": [
    {
     "data": {
      "image/png": "[encoded data removed]",
      "text/plain": [
       "<Figure size 432x288 with 1 Axes>"
      ]
     },
     "metadata": {
      "needs_background": "light"
     },
     "output_type": "display_data"
    }
   ],
   "source": [
    "fig, ax = plt.subplots(1,1)\n",
    "ax.plot(sizes, t_numeric, 'o-', label='Inserting row-by-row')\n",
    "ax.plot(sizes, t_numeric_add, 'o-', label='Inserting row-by-row: add_result only')\n",
    "ax.plot(sizes, t_array, 'd-', label='Inserting as binary blob')\n",
    "ax.plot(sizes, t_array_add, 'd-', label='Inserting as binary blob: add_result only')\n",
    "ax.legend()\n",
    "ax.set_xlabel('Array length')\n",
    "ax.set_ylabel('Time (s)')\n",
    "fig.tight_layout()"
   ]
  },
  {
   "cell_type": "markdown",
   "metadata": {},
   "source": [
    "As shown in the latter figure, the time to setup and and close the experiment is approximately 0.4 sec. In case of small array sizes, the difference between inserting values of data as arrays and inserting them row-by-row is relatively unimportant. At larger array sizes, i.e. above 10000 points, the cost of writing data as individual datapoints starts to become important.\n"
   ]
  },
  {
   "cell_type": "markdown",
   "metadata": {},
   "source": [
    "### Case2: Long experiment time "
   ]
  },
  {
   "cell_type": "code",
   "execution_count": 7,
   "metadata": {},
   "outputs": [
    {
     "name": "stdout",
     "output_type": "stream",
     "text": [
      "Starting experimental run with id: 15. \n",
      "Starting experimental run with id: 16. \n",
      "Starting experimental run with id: 17. \n"
     ]
    },
    {
     "name": "stdout",
     "output_type": "stream",
     "text": [
      "Starting experimental run with id: 18. \n",
      "Starting experimental run with id: 19. \n"
     ]
    },
    {
     "name": "stdout",
     "output_type": "stream",
     "text": [
      "Starting experimental run with id: 20. \n"
     ]
    },
    {
     "name": "stdout",
     "output_type": "stream",
     "text": [
      "Starting experimental run with id: 21. \n"
     ]
    },
    {
     "name": "stdout",
     "output_type": "stream",
     "text": [
      "Starting experimental run with id: 22. \n"
     ]
    },
    {
     "name": "stdout",
     "output_type": "stream",
     "text": [
      "Starting experimental run with id: 23. \n"
     ]
    },
    {
     "name": "stdout",
     "output_type": "stream",
     "text": [
      "Starting experimental run with id: 24. \n"
     ]
    },
    {
     "name": "stdout",
     "output_type": "stream",
     "text": [
      "Starting experimental run with id: 25. \n"
     ]
    },
    {
     "name": "stdout",
     "output_type": "stream",
     "text": [
      "Starting experimental run with id: 26. \n"
     ]
    },
    {
     "name": "stdout",
     "output_type": "stream",
     "text": [
      "Starting experimental run with id: 27. \n"
     ]
    },
    {
     "name": "stdout",
     "output_type": "stream",
     "text": [
      "Starting experimental run with id: 28. \n"
     ]
    }
   ],
   "source": [
    "sizes = [1,500,1000,2000,3000,4000,5000]\n",
    "nreps = 100\n",
    "t_numeric = []\n",
    "t_numeric_add = []\n",
    "t_numeric_run_ids = []\n",
    "t_array = []\n",
    "t_array_add = []\n",
    "t_array_run_ids = []\n",
    "for size in sizes:\n",
    "    tn, tna, run_id_n =  insert_data('numeric', size, nreps=nreps)\n",
    "    t_numeric.append(tn)\n",
    "    t_numeric_add.append(tna)\n",
    "    t_numeric_run_ids.append(run_id_n)\n",
    "\n",
    "    ta, taa, run_id_a =  insert_data('array', size, nreps=nreps)\n",
    "    t_array.append(ta)\n",
    "    t_array_add.append(taa)\n",
    "    t_array_run_ids.append(run_id_a)"
   ]
  },
  {
   "cell_type": "code",
   "execution_count": 8,
   "metadata": {
    "scrolled": true
   },
   "outputs": [
    {
     "data": {
      "image/png": "[encoded data removed]",
      "text/plain": [
       "<Figure size 432x288 with 1 Axes>"
      ]
     },
     "metadata": {
      "needs_background": "light"
     },
     "output_type": "display_data"
    }
   ],
   "source": [
    "fig, ax = plt.subplots(1,1)\n",
    "ax.plot(sizes, t_numeric, 'o-', label='Inserting row-by-row')\n",
    "ax.plot(sizes, t_numeric_add, 'o-', label='Inserting row-by-row: add_result only')\n",
    "ax.plot(sizes, t_array, 'd-', label='Inserting as binary blob')\n",
    "ax.plot(sizes, t_array_add, 'd-', label='Inserting as binary blob: add_result only')\n",
    "ax.legend()\n",
    "ax.set_xlabel('Array length')\n",
    "ax.set_ylabel('Time (s)')\n",
    "fig.tight_layout()"
   ]
  },
  {
   "cell_type": "markdown",
   "metadata": {},
   "source": [
    "However, as we increase the length of the experiment, as seen here by repeating the insertion 100 times, we see a big difference between inserting values of the data row-by-row and inserting it as a binary blob."
   ]
  },
  {
   "cell_type": "markdown",
   "metadata": {},
   "source": [
    "## Loading the data "
   ]
  },
  {
   "cell_type": "code",
   "execution_count": 9,
   "metadata": {},
   "outputs": [],
   "source": [
    "from qcodes.dataset.data_set import load_by_id\n",
    "from qcodes.dataset.data_export import get_data_by_id"
   ]
  },
  {
   "cell_type": "markdown",
   "metadata": {},
   "source": [
    "As usual you can load the data by using the ``load_by_id`` function but you will notice that the different storage methods\n",
    "are reflected in shape of the data as it is retrieved. "
   ]
  },
  {
   "cell_type": "code",
   "execution_count": 10,
   "metadata": {},
   "outputs": [],
   "source": [
    "run_id_n = t_numeric_run_ids[0]\n",
    "run_id_a = t_array_run_ids[0]"
   ]
  },
  {
   "cell_type": "code",
   "execution_count": 11,
   "metadata": {
    "scrolled": true
   },
   "outputs": [
    {
     "data": {
      "text/plain": [
       "{'x1': {'x1': array([0.60364144, 0.60364144, 0.68124471, 0.68124471, 0.46351119,\n",
       "         0.46351119, 0.06485545, 0.06485545, 0.36234084, 0.36234084,\n",
       "         0.25469357, 0.25469357, 0.85168877, 0.85168877, 0.77919914,\n",
       "         0.77919914, 0.53319768, 0.53319768, 0.1035836 , 0.1035836 ,\n",
       "         0.94753448, 0.94753448, 0.49616156, 0.49616156, 0.29214093,\n",
       "         0.29214093, 0.39789458, 0.39789458, 0.71613992, 0.71613992,\n",
       "         0.76039964, 0.76039964, 0.28801444, 0.28801444, 0.28446524,\n",
       "         0.28446524, 0.19605187, 0.19605187, 0.63189764, 0.63189764,\n",
       "         0.53510752, 0.53510752, 0.3052263 , 0.3052263 , 0.79398177,\n",
       "         0.79398177, 0.37569753, 0.37569753, 0.30944753, 0.30944753,\n",
       "         0.70976717, 0.70976717, 0.39434526, 0.39434526, 0.92122492,\n",
       "         0.92122492, 0.1352127 , 0.1352127 , 0.65990958, 0.65990958,\n",
       "         0.94156748, 0.94156748, 0.91502588, 0.91502588, 0.86634778,\n",
       "         0.86634778, 0.02255963, 0.02255963, 0.12400397, 0.12400397,\n",
       "         0.31190388, 0.31190388, 0.46429701, 0.46429701, 0.27423992,\n",
       "         0.27423992, 0.79285269, 0.79285269, 0.51194424, 0.51194424,\n",
       "         0.15394409, 0.15394409, 0.54723109, 0.54723109, 0.38737207,\n",
       "         0.38737207, 0.08604435, 0.08604435, 0.38729341, 0.38729341,\n",
       "         0.63050274, 0.63050274, 0.81184526, 0.81184526, 0.73668535,\n",
       "         0.73668535, 0.12054048, 0.12054048, 0.64983248, 0.64983248,\n",
       "         0.00728946, 0.00728946, 0.93232081, 0.93232081, 0.0355001 ,\n",
       "         0.0355001 , 0.40930887, 0.40930887, 0.80903194, 0.80903194,\n",
       "         0.84145288, 0.84145288, 0.0756553 , 0.0756553 , 0.98999406,\n",
       "         0.98999406, 0.9350782 , 0.9350782 , 0.46422178, 0.46422178,\n",
       "         0.66315399, 0.66315399, 0.98930394, 0.98930394, 0.15772363,\n",
       "         0.15772363, 0.7820885 , 0.7820885 , 0.4721983 , 0.4721983 ,\n",
       "         0.10318048, 0.10318048, 0.14351237, 0.14351237, 0.96938639,\n",
       "         0.96938639, 0.64791154, 0.64791154, 0.31068392, 0.31068392,\n",
       "         0.46781204, 0.46781204, 0.91665486, 0.91665486, 0.57349287,\n",
       "         0.57349287, 0.62199939, 0.62199939, 0.45125008, 0.45125008,\n",
       "         0.51155493, 0.51155493, 0.30218103, 0.30218103, 0.60508707,\n",
       "         0.60508707, 0.07997595, 0.07997595, 0.0765663 , 0.0765663 ,\n",
       "         0.20906847, 0.20906847, 0.53739813, 0.53739813, 0.45150715,\n",
       "         0.45150715, 0.13059377, 0.13059377, 0.52098008, 0.52098008,\n",
       "         0.88537976, 0.88537976, 0.4883024 , 0.4883024 , 0.71553142,\n",
       "         0.71553142, 0.3278286 , 0.3278286 , 0.09582611, 0.09582611,\n",
       "         0.24768063, 0.24768063, 0.80059977, 0.80059977, 0.95898773,\n",
       "         0.95898773, 0.52010519, 0.52010519, 0.77411162, 0.77411162,\n",
       "         0.89728718, 0.89728718, 0.5272215 , 0.5272215 , 0.67452404,\n",
       "         0.67452404, 0.34170702, 0.34170702, 0.08783609, 0.08783609])}}"
      ]
     },
     "execution_count": 11,
     "metadata": {},
     "output_type": "execute_result"
    }
   ],
   "source": [
    "ds = load_by_id(run_id_n)\n",
    "ds.get_parameter_data('x1')"
   ]
  },
  {
   "cell_type": "markdown",
   "metadata": {},
   "source": [
    "And a dataset stored as binary arrays"
   ]
  },
  {
   "cell_type": "code",
   "execution_count": 12,
   "metadata": {
    "scrolled": true
   },
   "outputs": [
    {
     "data": {
      "text/plain": [
       "{'x1': {'x1': array([[0.49361928],\n",
       "         [0.49361928],\n",
       "         [0.94956312],\n",
       "         [0.94956312],\n",
       "         [0.33520075],\n",
       "         [0.33520075],\n",
       "         [0.06390396],\n",
       "         [0.06390396],\n",
       "         [0.76451215],\n",
       "         [0.76451215],\n",
       "         [0.88632069],\n",
       "         [0.88632069],\n",
       "         [0.12339753],\n",
       "         [0.12339753],\n",
       "         [0.36238862],\n",
       "         [0.36238862],\n",
       "         [0.73210041],\n",
       "         [0.73210041],\n",
       "         [0.65725465],\n",
       "         [0.65725465],\n",
       "         [0.61279208],\n",
       "         [0.61279208],\n",
       "         [0.87568408],\n",
       "         [0.87568408],\n",
       "         [0.51452845],\n",
       "         [0.51452845],\n",
       "         [0.01724219],\n",
       "         [0.01724219],\n",
       "         [0.42161569],\n",
       "         [0.42161569],\n",
       "         [0.91106526],\n",
       "         [0.91106526],\n",
       "         [0.24984884],\n",
       "         [0.24984884],\n",
       "         [0.72704273],\n",
       "         [0.72704273],\n",
       "         [0.34899299],\n",
       "         [0.34899299],\n",
       "         [0.34105471],\n",
       "         [0.34105471],\n",
       "         [0.36096593],\n",
       "         [0.36096593],\n",
       "         [0.02341578],\n",
       "         [0.02341578],\n",
       "         [0.71924927],\n",
       "         [0.71924927],\n",
       "         [0.67202399],\n",
       "         [0.67202399],\n",
       "         [0.21051728],\n",
       "         [0.21051728],\n",
       "         [0.11298116],\n",
       "         [0.11298116],\n",
       "         [0.9058343 ],\n",
       "         [0.9058343 ],\n",
       "         [0.8097549 ],\n",
       "         [0.8097549 ],\n",
       "         [0.97000075],\n",
       "         [0.97000075],\n",
       "         [0.3725134 ],\n",
       "         [0.3725134 ],\n",
       "         [0.79096699],\n",
       "         [0.79096699],\n",
       "         [0.95273383],\n",
       "         [0.95273383],\n",
       "         [0.94903369],\n",
       "         [0.94903369],\n",
       "         [0.52933177],\n",
       "         [0.52933177],\n",
       "         [0.60981675],\n",
       "         [0.60981675],\n",
       "         [0.86992102],\n",
       "         [0.86992102],\n",
       "         [0.31050124],\n",
       "         [0.31050124],\n",
       "         [0.19259513],\n",
       "         [0.19259513],\n",
       "         [0.08003216],\n",
       "         [0.08003216],\n",
       "         [0.9277492 ],\n",
       "         [0.9277492 ],\n",
       "         [0.81836444],\n",
       "         [0.81836444],\n",
       "         [0.74499884],\n",
       "         [0.74499884],\n",
       "         [0.8087697 ],\n",
       "         [0.8087697 ],\n",
       "         [0.18175543],\n",
       "         [0.18175543],\n",
       "         [0.52381272],\n",
       "         [0.52381272],\n",
       "         [0.66813533],\n",
       "         [0.66813533],\n",
       "         [0.80910001],\n",
       "         [0.80910001],\n",
       "         [0.3079357 ],\n",
       "         [0.3079357 ],\n",
       "         [0.76536925],\n",
       "         [0.76536925],\n",
       "         [0.95950334],\n",
       "         [0.95950334],\n",
       "         [0.99133888],\n",
       "         [0.99133888],\n",
       "         [0.15940679],\n",
       "         [0.15940679],\n",
       "         [0.76208187],\n",
       "         [0.76208187],\n",
       "         [0.704975  ],\n",
       "         [0.704975  ],\n",
       "         [0.37796176],\n",
       "         [0.37796176],\n",
       "         [0.20493733],\n",
       "         [0.20493733],\n",
       "         [0.21345544],\n",
       "         [0.21345544],\n",
       "         [0.22630462],\n",
       "         [0.22630462],\n",
       "         [0.52766979],\n",
       "         [0.52766979],\n",
       "         [0.68718514],\n",
       "         [0.68718514],\n",
       "         [0.4327466 ],\n",
       "         [0.4327466 ],\n",
       "         [0.75610185],\n",
       "         [0.75610185],\n",
       "         [0.32391589],\n",
       "         [0.32391589],\n",
       "         [0.84475187],\n",
       "         [0.84475187],\n",
       "         [0.83742136],\n",
       "         [0.83742136],\n",
       "         [0.73267351],\n",
       "         [0.73267351],\n",
       "         [0.07313963],\n",
       "         [0.07313963],\n",
       "         [0.08403858],\n",
       "         [0.08403858],\n",
       "         [0.6237538 ],\n",
       "         [0.6237538 ],\n",
       "         [0.13368418],\n",
       "         [0.13368418],\n",
       "         [0.91076774],\n",
       "         [0.91076774],\n",
       "         [0.39525   ],\n",
       "         [0.39525   ],\n",
       "         [0.17009568],\n",
       "         [0.17009568],\n",
       "         [0.59680824],\n",
       "         [0.59680824],\n",
       "         [0.92157062],\n",
       "         [0.92157062],\n",
       "         [0.86910731],\n",
       "         [0.86910731],\n",
       "         [0.10861061],\n",
       "         [0.10861061],\n",
       "         [0.64073237],\n",
       "         [0.64073237],\n",
       "         [0.79807687],\n",
       "         [0.79807687],\n",
       "         [0.95751198],\n",
       "         [0.95751198],\n",
       "         [0.61410159],\n",
       "         [0.61410159],\n",
       "         [0.3113313 ],\n",
       "         [0.3113313 ],\n",
       "         [0.28451983],\n",
       "         [0.28451983],\n",
       "         [0.92835816],\n",
       "         [0.92835816],\n",
       "         [0.21158031],\n",
       "         [0.21158031],\n",
       "         [0.27314165],\n",
       "         [0.27314165],\n",
       "         [0.80311189],\n",
       "         [0.80311189],\n",
       "         [0.8354001 ],\n",
       "         [0.8354001 ],\n",
       "         [0.0219434 ],\n",
       "         [0.0219434 ],\n",
       "         [0.77321532],\n",
       "         [0.77321532],\n",
       "         [0.42148894],\n",
       "         [0.42148894],\n",
       "         [0.37623473],\n",
       "         [0.37623473],\n",
       "         [0.07851385],\n",
       "         [0.07851385],\n",
       "         [0.36380138],\n",
       "         [0.36380138],\n",
       "         [0.64873243],\n",
       "         [0.64873243],\n",
       "         [0.28778096],\n",
       "         [0.28778096],\n",
       "         [0.58312828],\n",
       "         [0.58312828],\n",
       "         [0.5240657 ],\n",
       "         [0.5240657 ],\n",
       "         [0.12039424],\n",
       "         [0.12039424],\n",
       "         [0.29858487],\n",
       "         [0.29858487]])}}"
      ]
     },
     "execution_count": 12,
     "metadata": {},
     "output_type": "execute_result"
    }
   ],
   "source": [
    "ds = load_by_id(run_id_a)\n",
    "ds.get_parameter_data('x1')"
   ]
  },
  {
   "cell_type": "code",
   "execution_count": null,
   "metadata": {},
   "outputs": [],
   "source": []
  }
 ],
 "metadata": {
  "kernelspec": {
   "display_name": "Python 3",
   "language": "python",
   "name": "python3"
  },
  "language_info": {
   "codemirror_mode": {
    "name": "ipython",
    "version": 3
   },
   "file_extension": ".py",
   "mimetype": "text/x-python",
   "name": "python",
   "nbconvert_exporter": "python",
   "pygments_lexer": "ipython3",
   "version": "3.7.5"
  },
  "nbsphinx": {
   "timeout": 600
  },
  "toc": {
   "base_numbering": 1,
   "nav_menu": {},
   "number_sections": true,
   "sideBar": true,
   "skip_h1_title": false,
   "title_cell": "Table of Contents",
   "title_sidebar": "Contents",
   "toc_cell": false,
   "toc_position": {},
   "toc_section_display": true,
   "toc_window_display": false
  },
  "varInspector": {
   "cols": {
    "lenName": 16,
    "lenType": 16,
    "lenVar": 40
   },
   "kernels_config": {
    "python": {
     "delete_cmd_postfix": "",
     "delete_cmd_prefix": "del ",
     "library": "var_list.py",
     "varRefreshCmd": "print(var_dic_list())"
    },
    "r": {
     "delete_cmd_postfix": ") ",
     "delete_cmd_prefix": "rm(",
     "library": "var_list.r",
     "varRefreshCmd": "cat(var_dic_list()) "
    }
   },
   "types_to_exclude": [
    "module",
    "function",
    "builtin_function_or_method",
    "instance",
    "_Feature"
   ],
   "window_display": false
  }
 },
 "nbformat": 4,
 "nbformat_minor": 2
}
