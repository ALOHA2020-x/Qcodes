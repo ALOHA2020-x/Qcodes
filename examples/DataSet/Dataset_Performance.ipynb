{
 "cells": [
  {
   "cell_type": "markdown",
   "metadata": {},
   "source": [
    "# DataSet Performance\n",
    "\n",
    "This notebook shows the trade-off between inserting data into a database row-by-row and as binary blobs. Inserting the data row-by-row means that we have direct access to all the data and may perform queries directly on the values of the data. On the other hand, as we shall see, this is much slower than inserting the data directly as binary blobs."
   ]
  },
  {
   "cell_type": "markdown",
   "metadata": {},
   "source": [
    "First, we choose a new location for the database to ensure that we don't add a bunch of benchmarking data to the default one."
   ]
  },
  {
   "cell_type": "code",
   "execution_count": 1,
   "metadata": {
    "execution": {
     "iopub.execute_input": "2021-01-18T21:43:25.286106Z",
     "iopub.status.busy": "2021-01-18T21:43:25.285534Z",
     "iopub.status.idle": "2021-01-18T21:43:26.443502Z",
     "shell.execute_reply": "2021-01-18T21:43:26.443981Z"
    }
   },
   "outputs": [
    {
     "name": "stdout",
     "output_type": "stream",
     "text": [
      "Logging hadn't been started.\n",
      "Activating auto-logging. Current session state plus future input saved.\n",
      "Filename       : /home/vsts/.qcodes/logs/command_history.log\n",
      "Mode           : append\n",
      "Output logging : True\n",
      "Raw input log  : False\n",
      "Timestamping   : True\n",
      "State          : active\n"
     ]
    },
    {
     "name": "stdout",
     "output_type": "stream",
     "text": [
      "Qcodes Logfile : /home/vsts/.qcodes/logs/210118-13645-qcodes.log\n"
     ]
    }
   ],
   "source": [
    "import os\n",
    "cwd = os.getcwd()\n",
    "import qcodes as qc\n",
    "qc.config[\"core\"][\"db_location\"] = os.path.join(cwd, 'testing.db')\n"
   ]
  },
  {
   "cell_type": "code",
   "execution_count": 2,
   "metadata": {
    "execution": {
     "iopub.execute_input": "2021-01-18T21:43:26.451735Z",
     "iopub.status.busy": "2021-01-18T21:43:26.450728Z",
     "iopub.status.idle": "2021-01-18T21:43:26.657070Z",
     "shell.execute_reply": "2021-01-18T21:43:26.657553Z"
    }
   },
   "outputs": [],
   "source": [
    "%matplotlib inline\n",
    "import time\n",
    "import matplotlib.pyplot as plt\n",
    "import numpy as np\n",
    "\n",
    "import qcodes as qc\n",
    "from qcodes.instrument.parameter import ManualParameter\n",
    "from qcodes.dataset.experiment_container import (Experiment,\n",
    "                                                 load_last_experiment,\n",
    "                                                 new_experiment)\n",
    "from qcodes.dataset.sqlite.database import initialise_database\n",
    "from qcodes import load_or_create_experiment\n",
    "from qcodes.dataset.measurements import Measurement"
   ]
  },
  {
   "cell_type": "code",
   "execution_count": 3,
   "metadata": {
    "execution": {
     "iopub.execute_input": "2021-01-18T21:43:26.661555Z",
     "iopub.status.busy": "2021-01-18T21:43:26.660847Z",
     "iopub.status.idle": "2021-01-18T21:43:26.813218Z",
     "shell.execute_reply": "2021-01-18T21:43:26.812687Z"
    }
   },
   "outputs": [
    {
     "name": "stdout",
     "output_type": "stream",
     "text": [
      "\r",
      "0it [00:00, ?it/s]"
     ]
    },
    {
     "name": "stdout",
     "output_type": "stream",
     "text": [
      "\r",
      "Upgrading database; v0 -> v1: : 0it [00:00, ?it/s]"
     ]
    },
    {
     "name": "stdout",
     "output_type": "stream",
     "text": [
      "\r",
      "Upgrading database; v0 -> v1: : 0it [00:00, ?it/s]"
     ]
    },
    {
     "name": "stdout",
     "output_type": "stream",
     "text": [
      "\n",
      "\r",
      "  0%|          | 0/1 [00:00<?, ?it/s]"
     ]
    },
    {
     "name": "stdout",
     "output_type": "stream",
     "text": [
      "\r",
      "Upgrading database; v1 -> v2:   0%|          | 0/1 [00:00<?, ?it/s]"
     ]
    },
    {
     "name": "stdout",
     "output_type": "stream",
     "text": [
      "\r",
      "Upgrading database; v1 -> v2: 100%|██████████| 1/1 [00:00<00:00, 659.27it/s]"
     ]
    },
    {
     "name": "stdout",
     "output_type": "stream",
     "text": [
      "\n",
      "\r",
      "0it [00:00, ?it/s]"
     ]
    },
    {
     "name": "stdout",
     "output_type": "stream",
     "text": [
      "\r",
      "Upgrading database; v2 -> v3: : 0it [00:00, ?it/s]"
     ]
    },
    {
     "name": "stdout",
     "output_type": "stream",
     "text": [
      "\r",
      "Upgrading database; v2 -> v3: : 0it [00:00, ?it/s]"
     ]
    },
    {
     "name": "stdout",
     "output_type": "stream",
     "text": [
      "\n",
      "\r",
      "0it [00:00, ?it/s]"
     ]
    },
    {
     "name": "stdout",
     "output_type": "stream",
     "text": [
      "\r",
      "Upgrading database; v3 -> v4: : 0it [00:00, ?it/s]"
     ]
    },
    {
     "name": "stdout",
     "output_type": "stream",
     "text": [
      "\r",
      "Upgrading database; v3 -> v4: : 0it [00:00, ?it/s]"
     ]
    },
    {
     "name": "stdout",
     "output_type": "stream",
     "text": [
      "\n",
      "\r",
      "  0%|          | 0/1 [00:00<?, ?it/s]"
     ]
    },
    {
     "name": "stdout",
     "output_type": "stream",
     "text": [
      "\r",
      "Upgrading database; v4 -> v5:   0%|          | 0/1 [00:00<?, ?it/s]"
     ]
    },
    {
     "name": "stdout",
     "output_type": "stream",
     "text": [
      "\r",
      "Upgrading database; v4 -> v5: 100%|██████████| 1/1 [00:00<00:00, 550.22it/s]"
     ]
    },
    {
     "name": "stdout",
     "output_type": "stream",
     "text": [
      "\n",
      "\r",
      "0it [00:00, ?it/s]"
     ]
    },
    {
     "name": "stdout",
     "output_type": "stream",
     "text": [
      "\r",
      "Upgrading database; v5 -> v6: : 0it [00:00, ?it/s]"
     ]
    },
    {
     "name": "stdout",
     "output_type": "stream",
     "text": [
      "\r",
      "Upgrading database; v5 -> v6: : 0it [00:00, ?it/s]"
     ]
    },
    {
     "name": "stdout",
     "output_type": "stream",
     "text": [
      "\n",
      "\r",
      "  0%|          | 0/1 [00:00<?, ?it/s]"
     ]
    },
    {
     "name": "stdout",
     "output_type": "stream",
     "text": [
      "\r",
      "Upgrading database; v6 -> v7:   0%|          | 0/1 [00:00<?, ?it/s]"
     ]
    },
    {
     "name": "stdout",
     "output_type": "stream",
     "text": [
      "\r",
      "Upgrading database; v6 -> v7: 100%|██████████| 1/1 [00:00<00:00, 390.42it/s]"
     ]
    },
    {
     "name": "stdout",
     "output_type": "stream",
     "text": [
      "\n",
      "\r",
      "  0%|          | 0/1 [00:00<?, ?it/s]"
     ]
    },
    {
     "name": "stdout",
     "output_type": "stream",
     "text": [
      "\r",
      "Upgrading database; v7 -> v8:   0%|          | 0/1 [00:00<?, ?it/s]"
     ]
    },
    {
     "name": "stdout",
     "output_type": "stream",
     "text": [
      "\r",
      "Upgrading database; v7 -> v8: 100%|██████████| 1/1 [00:00<00:00, 853.89it/s]"
     ]
    },
    {
     "name": "stdout",
     "output_type": "stream",
     "text": [
      "\n",
      "\r",
      "  0%|          | 0/1 [00:00<?, ?it/s]"
     ]
    },
    {
     "name": "stdout",
     "output_type": "stream",
     "text": [
      "\r",
      "Upgrading database; v8 -> v9:   0%|          | 0/1 [00:00<?, ?it/s]"
     ]
    },
    {
     "name": "stdout",
     "output_type": "stream",
     "text": [
      "\r",
      "Upgrading database; v8 -> v9: 100%|██████████| 1/1 [00:00<00:00, 1112.84it/s]"
     ]
    },
    {
     "name": "stdout",
     "output_type": "stream",
     "text": [
      "\n"
     ]
    }
   ],
   "source": [
    "initialise_database()\n",
    "exp = load_or_create_experiment(experiment_name='tutorial_exp', sample_name=\"no sample\")"
   ]
  },
  {
   "cell_type": "markdown",
   "metadata": {},
   "source": [
    "Here, we define a simple function to benchmark the time it takes to insert n points with either numeric or array data type.\n",
    "We will compare both the time used to call ``add_result`` and the time used for the full measurement."
   ]
  },
  {
   "cell_type": "code",
   "execution_count": 4,
   "metadata": {
    "execution": {
     "iopub.execute_input": "2021-01-18T21:43:26.821980Z",
     "iopub.status.busy": "2021-01-18T21:43:26.821378Z",
     "iopub.status.idle": "2021-01-18T21:43:26.824811Z",
     "shell.execute_reply": "2021-01-18T21:43:26.825295Z"
    }
   },
   "outputs": [],
   "source": [
    "def insert_data(paramtype, npoints, nreps=1):\n",
    "\n",
    "    meas = Measurement(exp=exp)\n",
    "\n",
    "    x1 = ManualParameter('x1')\n",
    "    x2 = ManualParameter('x2')\n",
    "    x3 = ManualParameter('x3')\n",
    "    y1 = ManualParameter('y1')\n",
    "    y2 = ManualParameter('y2')\n",
    "\n",
    "    meas.register_parameter(x1, paramtype=paramtype)\n",
    "    meas.register_parameter(x2, paramtype=paramtype)\n",
    "    meas.register_parameter(x3, paramtype=paramtype)\n",
    "    meas.register_parameter(y1, setpoints=[x1, x2, x3],\n",
    "                            paramtype=paramtype)\n",
    "    meas.register_parameter(y2, setpoints=[x1, x2, x3],\n",
    "                            paramtype=paramtype)\n",
    "    start = time.perf_counter()\n",
    "    with meas.run() as datasaver:\n",
    "        start_adding = time.perf_counter()\n",
    "        for i in range(nreps):\n",
    "            datasaver.add_result((x1, np.random.rand(npoints)),\n",
    "                                 (x2, np.random.rand(npoints)),\n",
    "                                 (x3, np.random.rand(npoints)),\n",
    "                                 (y1, np.random.rand(npoints)),\n",
    "                                 (y2, np.random.rand(npoints)))\n",
    "        stop_adding = time.perf_counter()\n",
    "        run_id = datasaver.run_id\n",
    "    stop = time.perf_counter()\n",
    "    tot_time = stop - start\n",
    "    add_time = stop_adding - start_adding\n",
    "    return tot_time, add_time, run_id"
   ]
  },
  {
   "cell_type": "markdown",
   "metadata": {},
   "source": [
    "## Comparison between numeric/array data and binary blob"
   ]
  },
  {
   "cell_type": "markdown",
   "metadata": {},
   "source": [
    "### Case1: Short experiment time"
   ]
  },
  {
   "cell_type": "code",
   "execution_count": 5,
   "metadata": {
    "execution": {
     "iopub.execute_input": "2021-01-18T21:43:26.831821Z",
     "iopub.status.busy": "2021-01-18T21:43:26.830700Z",
     "iopub.status.idle": "2021-01-18T21:43:27.790015Z",
     "shell.execute_reply": "2021-01-18T21:43:27.789281Z"
    }
   },
   "outputs": [
    {
     "name": "stdout",
     "output_type": "stream",
     "text": [
      "Starting experimental run with id: 1. \n",
      "Starting experimental run with id: 2. \n",
      "Starting experimental run with id: 3. \n"
     ]
    },
    {
     "name": "stdout",
     "output_type": "stream",
     "text": [
      "Starting experimental run with id: 4. \n"
     ]
    },
    {
     "name": "stdout",
     "output_type": "stream",
     "text": [
      "Starting experimental run with id: 5. \n"
     ]
    },
    {
     "name": "stdout",
     "output_type": "stream",
     "text": [
      "Starting experimental run with id: 6. \n"
     ]
    },
    {
     "name": "stdout",
     "output_type": "stream",
     "text": [
      "Starting experimental run with id: 7. \n"
     ]
    },
    {
     "name": "stdout",
     "output_type": "stream",
     "text": [
      "Starting experimental run with id: 8. \n"
     ]
    },
    {
     "name": "stdout",
     "output_type": "stream",
     "text": [
      "Starting experimental run with id: 9. \n"
     ]
    },
    {
     "name": "stdout",
     "output_type": "stream",
     "text": [
      "Starting experimental run with id: 10. \n",
      "Starting experimental run with id: 11. \n"
     ]
    },
    {
     "name": "stdout",
     "output_type": "stream",
     "text": [
      "Starting experimental run with id: 12. \n"
     ]
    },
    {
     "name": "stdout",
     "output_type": "stream",
     "text": [
      "Starting experimental run with id: 13. \n"
     ]
    },
    {
     "name": "stdout",
     "output_type": "stream",
     "text": [
      "Starting experimental run with id: 14. \n"
     ]
    }
   ],
   "source": [
    "sizes = [1,500,1000,2000,3000,4000,5000]\n",
    "t_numeric = []\n",
    "t_numeric_add = []\n",
    "t_array = []\n",
    "t_array_add = []\n",
    "for size in sizes:\n",
    "    tn, tna, run_id_n =  insert_data('numeric', size)\n",
    "    t_numeric.append(tn)\n",
    "    t_numeric_add.append(tna)\n",
    "\n",
    "    ta, taa, run_id_a =  insert_data('array', size)\n",
    "    t_array.append(ta)\n",
    "    t_array_add.append(taa)"
   ]
  },
  {
   "cell_type": "code",
   "execution_count": 6,
   "metadata": {
    "execution": {
     "iopub.execute_input": "2021-01-18T21:43:27.810680Z",
     "iopub.status.busy": "2021-01-18T21:43:27.802978Z",
     "iopub.status.idle": "2021-01-18T21:43:28.041586Z",
     "shell.execute_reply": "2021-01-18T21:43:28.041070Z"
    }
   },
   "outputs": [
    {
     "data": {
      "image/png": "[encoded data removed]",
      "text/plain": [
       "<Figure size 432x288 with 1 Axes>"
      ]
     },
     "metadata": {
      "needs_background": "light"
     },
     "output_type": "display_data"
    }
   ],
   "source": [
    "fig, ax = plt.subplots(1,1)\n",
    "ax.plot(sizes, t_numeric, 'o-', label='Inserting row-by-row')\n",
    "ax.plot(sizes, t_numeric_add, 'o-', label='Inserting row-by-row: add_result only')\n",
    "ax.plot(sizes, t_array, 'd-', label='Inserting as binary blob')\n",
    "ax.plot(sizes, t_array_add, 'd-', label='Inserting as binary blob: add_result only')\n",
    "ax.legend()\n",
    "ax.set_xlabel('Array length')\n",
    "ax.set_ylabel('Time (s)')\n",
    "fig.tight_layout()"
   ]
  },
  {
   "cell_type": "markdown",
   "metadata": {},
   "source": [
    "As shown in the latter figure, the time to setup and and close the experiment is approximately 0.4 sec. In case of small array sizes, the difference between inserting values of data as arrays and inserting them row-by-row is relatively unimportant. At larger array sizes, i.e. above 10000 points, the cost of writing data as individual datapoints starts to become important.\n"
   ]
  },
  {
   "cell_type": "markdown",
   "metadata": {},
   "source": [
    "### Case2: Long experiment time "
   ]
  },
  {
   "cell_type": "code",
   "execution_count": 7,
   "metadata": {
    "execution": {
     "iopub.execute_input": "2021-01-18T21:43:28.047915Z",
     "iopub.status.busy": "2021-01-18T21:43:28.046390Z",
     "iopub.status.idle": "2021-01-18T21:44:31.037591Z",
     "shell.execute_reply": "2021-01-18T21:44:31.037011Z"
    }
   },
   "outputs": [
    {
     "name": "stdout",
     "output_type": "stream",
     "text": [
      "Starting experimental run with id: 15. \n",
      "Starting experimental run with id: 16. \n",
      "Starting experimental run with id: 17. \n"
     ]
    },
    {
     "name": "stdout",
     "output_type": "stream",
     "text": [
      "Starting experimental run with id: 18. \n",
      "Starting experimental run with id: 19. \n"
     ]
    },
    {
     "name": "stdout",
     "output_type": "stream",
     "text": [
      "Starting experimental run with id: 20. \n"
     ]
    },
    {
     "name": "stdout",
     "output_type": "stream",
     "text": [
      "Starting experimental run with id: 21. \n"
     ]
    },
    {
     "name": "stdout",
     "output_type": "stream",
     "text": [
      "Starting experimental run with id: 22. \n"
     ]
    },
    {
     "name": "stdout",
     "output_type": "stream",
     "text": [
      "Starting experimental run with id: 23. \n"
     ]
    },
    {
     "name": "stdout",
     "output_type": "stream",
     "text": [
      "Starting experimental run with id: 24. \n"
     ]
    },
    {
     "name": "stdout",
     "output_type": "stream",
     "text": [
      "Starting experimental run with id: 25. \n"
     ]
    },
    {
     "name": "stdout",
     "output_type": "stream",
     "text": [
      "Starting experimental run with id: 26. \n"
     ]
    },
    {
     "name": "stdout",
     "output_type": "stream",
     "text": [
      "Starting experimental run with id: 27. \n"
     ]
    },
    {
     "name": "stdout",
     "output_type": "stream",
     "text": [
      "Starting experimental run with id: 28. \n"
     ]
    }
   ],
   "source": [
    "sizes = [1,500,1000,2000,3000,4000,5000]\n",
    "nreps = 100\n",
    "t_numeric = []\n",
    "t_numeric_add = []\n",
    "t_numeric_run_ids = []\n",
    "t_array = []\n",
    "t_array_add = []\n",
    "t_array_run_ids = []\n",
    "for size in sizes:\n",
    "    tn, tna, run_id_n =  insert_data('numeric', size, nreps=nreps)\n",
    "    t_numeric.append(tn)\n",
    "    t_numeric_add.append(tna)\n",
    "    t_numeric_run_ids.append(run_id_n)\n",
    "\n",
    "    ta, taa, run_id_a =  insert_data('array', size, nreps=nreps)\n",
    "    t_array.append(ta)\n",
    "    t_array_add.append(taa)\n",
    "    t_array_run_ids.append(run_id_a)"
   ]
  },
  {
   "cell_type": "code",
   "execution_count": 8,
   "metadata": {
    "execution": {
     "iopub.execute_input": "2021-01-18T21:44:31.057057Z",
     "iopub.status.busy": "2021-01-18T21:44:31.048383Z",
     "iopub.status.idle": "2021-01-18T21:44:31.284269Z",
     "shell.execute_reply": "2021-01-18T21:44:31.284747Z"
    },
    "scrolled": true
   },
   "outputs": [
    {
     "data": {
      "image/png": "[encoded data removed]",
      "text/plain": [
       "<Figure size 432x288 with 1 Axes>"
      ]
     },
     "metadata": {
      "needs_background": "light"
     },
     "output_type": "display_data"
    }
   ],
   "source": [
    "fig, ax = plt.subplots(1,1)\n",
    "ax.plot(sizes, t_numeric, 'o-', label='Inserting row-by-row')\n",
    "ax.plot(sizes, t_numeric_add, 'o-', label='Inserting row-by-row: add_result only')\n",
    "ax.plot(sizes, t_array, 'd-', label='Inserting as binary blob')\n",
    "ax.plot(sizes, t_array_add, 'd-', label='Inserting as binary blob: add_result only')\n",
    "ax.legend()\n",
    "ax.set_xlabel('Array length')\n",
    "ax.set_ylabel('Time (s)')\n",
    "fig.tight_layout()"
   ]
  },
  {
   "cell_type": "markdown",
   "metadata": {},
   "source": [
    "However, as we increase the length of the experiment, as seen here by repeating the insertion 100 times, we see a big difference between inserting values of the data row-by-row and inserting it as a binary blob."
   ]
  },
  {
   "cell_type": "markdown",
   "metadata": {},
   "source": [
    "## Loading the data "
   ]
  },
  {
   "cell_type": "code",
   "execution_count": 9,
   "metadata": {
    "execution": {
     "iopub.execute_input": "2021-01-18T21:44:31.288358Z",
     "iopub.status.busy": "2021-01-18T21:44:31.287765Z",
     "iopub.status.idle": "2021-01-18T21:44:31.292132Z",
     "shell.execute_reply": "2021-01-18T21:44:31.292616Z"
    }
   },
   "outputs": [],
   "source": [
    "from qcodes.dataset.data_set import load_by_id\n",
    "from qcodes.dataset.data_export import get_data_by_id"
   ]
  },
  {
   "cell_type": "markdown",
   "metadata": {},
   "source": [
    "As usual you can load the data by using the ``load_by_id`` function but you will notice that the different storage methods\n",
    "are reflected in shape of the data as it is retrieved. "
   ]
  },
  {
   "cell_type": "code",
   "execution_count": 10,
   "metadata": {
    "execution": {
     "iopub.execute_input": "2021-01-18T21:44:31.296577Z",
     "iopub.status.busy": "2021-01-18T21:44:31.295975Z",
     "iopub.status.idle": "2021-01-18T21:44:31.298996Z",
     "shell.execute_reply": "2021-01-18T21:44:31.298410Z"
    }
   },
   "outputs": [],
   "source": [
    "run_id_n = t_numeric_run_ids[0]\n",
    "run_id_a = t_array_run_ids[0]"
   ]
  },
  {
   "cell_type": "code",
   "execution_count": 11,
   "metadata": {
    "execution": {
     "iopub.execute_input": "2021-01-18T21:44:31.302407Z",
     "iopub.status.busy": "2021-01-18T21:44:31.301843Z",
     "iopub.status.idle": "2021-01-18T21:44:31.312342Z",
     "shell.execute_reply": "2021-01-18T21:44:31.311810Z"
    },
    "scrolled": true
   },
   "outputs": [
    {
     "data": {
      "text/plain": [
       "{'x1': {'x1': array([0.40245518, 0.40245518, 0.62692173, 0.62692173, 0.15192035,\n",
       "         0.15192035, 0.67843725, 0.67843725, 0.87366716, 0.87366716,\n",
       "         0.28784061, 0.28784061, 0.46925381, 0.46925381, 0.61342584,\n",
       "         0.61342584, 0.1710696 , 0.1710696 , 0.0907712 , 0.0907712 ,\n",
       "         0.43746953, 0.43746953, 0.81551971, 0.81551971, 0.17963304,\n",
       "         0.17963304, 0.89966114, 0.89966114, 0.30806226, 0.30806226,\n",
       "         0.37001141, 0.37001141, 0.38459725, 0.38459725, 0.70971718,\n",
       "         0.70971718, 0.0595977 , 0.0595977 , 0.96206653, 0.96206653,\n",
       "         0.00155939, 0.00155939, 0.31535034, 0.31535034, 0.15411256,\n",
       "         0.15411256, 0.57256408, 0.57256408, 0.66065678, 0.66065678,\n",
       "         0.66599455, 0.66599455, 0.13540905, 0.13540905, 0.95846067,\n",
       "         0.95846067, 0.3176739 , 0.3176739 , 0.24747064, 0.24747064,\n",
       "         0.66537244, 0.66537244, 0.35448042, 0.35448042, 0.35029851,\n",
       "         0.35029851, 0.09088434, 0.09088434, 0.27039516, 0.27039516,\n",
       "         0.97376908, 0.97376908, 0.57729151, 0.57729151, 0.73393363,\n",
       "         0.73393363, 0.94305787, 0.94305787, 0.88769008, 0.88769008,\n",
       "         0.10761294, 0.10761294, 0.32018261, 0.32018261, 0.37531312,\n",
       "         0.37531312, 0.9907764 , 0.9907764 , 0.78712027, 0.78712027,\n",
       "         0.68190302, 0.68190302, 0.81131735, 0.81131735, 0.04142949,\n",
       "         0.04142949, 0.25547365, 0.25547365, 0.72145007, 0.72145007,\n",
       "         0.25402258, 0.25402258, 0.12941916, 0.12941916, 0.32366729,\n",
       "         0.32366729, 0.03065864, 0.03065864, 0.95005433, 0.95005433,\n",
       "         0.02844521, 0.02844521, 0.66271478, 0.66271478, 0.829367  ,\n",
       "         0.829367  , 0.80871573, 0.80871573, 0.47160873, 0.47160873,\n",
       "         0.66246643, 0.66246643, 0.15576506, 0.15576506, 0.34692816,\n",
       "         0.34692816, 0.08614513, 0.08614513, 0.25555045, 0.25555045,\n",
       "         0.92133088, 0.92133088, 0.12749791, 0.12749791, 0.04311966,\n",
       "         0.04311966, 0.21486426, 0.21486426, 0.1863565 , 0.1863565 ,\n",
       "         0.14584585, 0.14584585, 0.03676552, 0.03676552, 0.65944966,\n",
       "         0.65944966, 0.94945392, 0.94945392, 0.13158977, 0.13158977,\n",
       "         0.47947728, 0.47947728, 0.81606767, 0.81606767, 0.53643842,\n",
       "         0.53643842, 0.00289066, 0.00289066, 0.3566086 , 0.3566086 ,\n",
       "         0.95192063, 0.95192063, 0.7245491 , 0.7245491 , 0.47591829,\n",
       "         0.47591829, 0.79618616, 0.79618616, 0.68883494, 0.68883494,\n",
       "         0.38192565, 0.38192565, 0.11063498, 0.11063498, 0.35978988,\n",
       "         0.35978988, 0.32758747, 0.32758747, 0.67366822, 0.67366822,\n",
       "         0.69879677, 0.69879677, 0.3592936 , 0.3592936 , 0.10990518,\n",
       "         0.10990518, 0.91126166, 0.91126166, 0.03891276, 0.03891276,\n",
       "         0.42802898, 0.42802898, 0.35661713, 0.35661713, 0.2744116 ,\n",
       "         0.2744116 , 0.64758106, 0.64758106, 0.20628184, 0.20628184])}}"
      ]
     },
     "execution_count": 1,
     "metadata": {},
     "output_type": "execute_result"
    }
   ],
   "source": [
    "ds = load_by_id(run_id_n)\n",
    "ds.get_parameter_data('x1')"
   ]
  },
  {
   "cell_type": "markdown",
   "metadata": {},
   "source": [
    "And a dataset stored as binary arrays"
   ]
  },
  {
   "cell_type": "code",
   "execution_count": 12,
   "metadata": {
    "execution": {
     "iopub.execute_input": "2021-01-18T21:44:31.315952Z",
     "iopub.status.busy": "2021-01-18T21:44:31.315399Z",
     "iopub.status.idle": "2021-01-18T21:44:31.382673Z",
     "shell.execute_reply": "2021-01-18T21:44:31.382072Z"
    },
    "scrolled": true
   },
   "outputs": [
    {
     "data": {
      "text/plain": [
       "{'x1': {'x1': array([[0.10696437],\n",
       "         [0.10696437],\n",
       "         [0.99717246],\n",
       "         [0.99717246],\n",
       "         [0.06098217],\n",
       "         [0.06098217],\n",
       "         [0.3799077 ],\n",
       "         [0.3799077 ],\n",
       "         [0.4756794 ],\n",
       "         [0.4756794 ],\n",
       "         [0.47247856],\n",
       "         [0.47247856],\n",
       "         [0.44426557],\n",
       "         [0.44426557],\n",
       "         [0.52557467],\n",
       "         [0.52557467],\n",
       "         [0.31509487],\n",
       "         [0.31509487],\n",
       "         [0.73150258],\n",
       "         [0.73150258],\n",
       "         [0.07229647],\n",
       "         [0.07229647],\n",
       "         [0.42047393],\n",
       "         [0.42047393],\n",
       "         [0.66764347],\n",
       "         [0.66764347],\n",
       "         [0.99062367],\n",
       "         [0.99062367],\n",
       "         [0.29700295],\n",
       "         [0.29700295],\n",
       "         [0.61805687],\n",
       "         [0.61805687],\n",
       "         [0.10079171],\n",
       "         [0.10079171],\n",
       "         [0.04629074],\n",
       "         [0.04629074],\n",
       "         [0.99713015],\n",
       "         [0.99713015],\n",
       "         [0.37821549],\n",
       "         [0.37821549],\n",
       "         [0.93139867],\n",
       "         [0.93139867],\n",
       "         [0.21332002],\n",
       "         [0.21332002],\n",
       "         [0.43040516],\n",
       "         [0.43040516],\n",
       "         [0.51410784],\n",
       "         [0.51410784],\n",
       "         [0.95033043],\n",
       "         [0.95033043],\n",
       "         [0.79550876],\n",
       "         [0.79550876],\n",
       "         [0.57131888],\n",
       "         [0.57131888],\n",
       "         [0.48693164],\n",
       "         [0.48693164],\n",
       "         [0.40614746],\n",
       "         [0.40614746],\n",
       "         [0.23005518],\n",
       "         [0.23005518],\n",
       "         [0.66803365],\n",
       "         [0.66803365],\n",
       "         [0.49264938],\n",
       "         [0.49264938],\n",
       "         [0.22369422],\n",
       "         [0.22369422],\n",
       "         [0.51394621],\n",
       "         [0.51394621],\n",
       "         [0.86530899],\n",
       "         [0.86530899],\n",
       "         [0.40377552],\n",
       "         [0.40377552],\n",
       "         [0.83104328],\n",
       "         [0.83104328],\n",
       "         [0.28092379],\n",
       "         [0.28092379],\n",
       "         [0.76674442],\n",
       "         [0.76674442],\n",
       "         [0.49103338],\n",
       "         [0.49103338],\n",
       "         [0.50315708],\n",
       "         [0.50315708],\n",
       "         [0.35836138],\n",
       "         [0.35836138],\n",
       "         [0.54003301],\n",
       "         [0.54003301],\n",
       "         [0.86476014],\n",
       "         [0.86476014],\n",
       "         [0.86472652],\n",
       "         [0.86472652],\n",
       "         [0.51811245],\n",
       "         [0.51811245],\n",
       "         [0.89094203],\n",
       "         [0.89094203],\n",
       "         [0.81143146],\n",
       "         [0.81143146],\n",
       "         [0.83546827],\n",
       "         [0.83546827],\n",
       "         [0.3244022 ],\n",
       "         [0.3244022 ],\n",
       "         [0.126584  ],\n",
       "         [0.126584  ],\n",
       "         [0.74078832],\n",
       "         [0.74078832],\n",
       "         [0.13491148],\n",
       "         [0.13491148],\n",
       "         [0.14409908],\n",
       "         [0.14409908],\n",
       "         [0.09324166],\n",
       "         [0.09324166],\n",
       "         [0.42347223],\n",
       "         [0.42347223],\n",
       "         [0.65296663],\n",
       "         [0.65296663],\n",
       "         [0.62087035],\n",
       "         [0.62087035],\n",
       "         [0.0075226 ],\n",
       "         [0.0075226 ],\n",
       "         [0.25765726],\n",
       "         [0.25765726],\n",
       "         [0.98472211],\n",
       "         [0.98472211],\n",
       "         [0.68613635],\n",
       "         [0.68613635],\n",
       "         [0.3920357 ],\n",
       "         [0.3920357 ],\n",
       "         [0.63173972],\n",
       "         [0.63173972],\n",
       "         [0.05258633],\n",
       "         [0.05258633],\n",
       "         [0.92881699],\n",
       "         [0.92881699],\n",
       "         [0.36132355],\n",
       "         [0.36132355],\n",
       "         [0.88689917],\n",
       "         [0.88689917],\n",
       "         [0.068107  ],\n",
       "         [0.068107  ],\n",
       "         [0.00392062],\n",
       "         [0.00392062],\n",
       "         [0.82571037],\n",
       "         [0.82571037],\n",
       "         [0.36137946],\n",
       "         [0.36137946],\n",
       "         [0.97520061],\n",
       "         [0.97520061],\n",
       "         [0.57988667],\n",
       "         [0.57988667],\n",
       "         [0.25144439],\n",
       "         [0.25144439],\n",
       "         [0.49468181],\n",
       "         [0.49468181],\n",
       "         [0.81142172],\n",
       "         [0.81142172],\n",
       "         [0.52305498],\n",
       "         [0.52305498],\n",
       "         [0.38710246],\n",
       "         [0.38710246],\n",
       "         [0.41636352],\n",
       "         [0.41636352],\n",
       "         [0.4446078 ],\n",
       "         [0.4446078 ],\n",
       "         [0.85913351],\n",
       "         [0.85913351],\n",
       "         [0.25009728],\n",
       "         [0.25009728],\n",
       "         [0.75096591],\n",
       "         [0.75096591],\n",
       "         [0.01732572],\n",
       "         [0.01732572],\n",
       "         [0.7324337 ],\n",
       "         [0.7324337 ],\n",
       "         [0.63851037],\n",
       "         [0.63851037],\n",
       "         [0.08150687],\n",
       "         [0.08150687],\n",
       "         [0.26668239],\n",
       "         [0.26668239],\n",
       "         [0.41460153],\n",
       "         [0.41460153],\n",
       "         [0.109664  ],\n",
       "         [0.109664  ],\n",
       "         [0.29371637],\n",
       "         [0.29371637],\n",
       "         [0.96697861],\n",
       "         [0.96697861],\n",
       "         [0.2731213 ],\n",
       "         [0.2731213 ],\n",
       "         [0.01942256],\n",
       "         [0.01942256],\n",
       "         [0.69453933],\n",
       "         [0.69453933],\n",
       "         [0.06490676],\n",
       "         [0.06490676],\n",
       "         [0.0320487 ],\n",
       "         [0.0320487 ],\n",
       "         [0.3398159 ],\n",
       "         [0.3398159 ],\n",
       "         [0.5998903 ],\n",
       "         [0.5998903 ]])}}"
      ]
     },
     "execution_count": 1,
     "metadata": {},
     "output_type": "execute_result"
    }
   ],
   "source": [
    "ds = load_by_id(run_id_a)\n",
    "ds.get_parameter_data('x1')"
   ]
  },
  {
   "cell_type": "code",
   "execution_count": null,
   "metadata": {},
   "outputs": [],
   "source": []
  }
 ],
 "metadata": {
  "kernelspec": {
   "display_name": "Python 3",
   "language": "python",
   "name": "python3"
  },
  "language_info": {
   "codemirror_mode": {
    "name": "ipython",
    "version": 3
   },
   "file_extension": ".py",
   "mimetype": "text/x-python",
   "name": "python",
   "nbconvert_exporter": "python",
   "pygments_lexer": "ipython3",
   "version": "3.7.9"
  },
  "nbsphinx": {
   "timeout": 600
  },
  "toc": {
   "base_numbering": 1,
   "nav_menu": {},
   "number_sections": true,
   "sideBar": true,
   "skip_h1_title": false,
   "title_cell": "Table of Contents",
   "title_sidebar": "Contents",
   "toc_cell": false,
   "toc_position": {},
   "toc_section_display": true,
   "toc_window_display": false
  },
  "varInspector": {
   "cols": {
    "lenName": 16,
    "lenType": 16,
    "lenVar": 40
   },
   "kernels_config": {
    "python": {
     "delete_cmd_postfix": "",
     "delete_cmd_prefix": "del ",
     "library": "var_list.py",
     "varRefreshCmd": "print(var_dic_list())"
    },
    "r": {
     "delete_cmd_postfix": ") ",
     "delete_cmd_prefix": "rm(",
     "library": "var_list.r",
     "varRefreshCmd": "cat(var_dic_list()) "
    }
   },
   "types_to_exclude": [
    "module",
    "function",
    "builtin_function_or_method",
    "instance",
    "_Feature"
   ],
   "window_display": false
  }
 },
 "nbformat": 4,
 "nbformat_minor": 2
}
