{
 "cells": [
  {
   "cell_type": "markdown",
   "metadata": {},
   "source": [
    "# DataSet Performance\n",
    "\n",
    "This notebook shows the trade-off between inserting data into a database row-by-row and as binary blobs. Inserting the data row-by-row means that we have direct access to all the data and may perform queries directly on the values of the data. On the other hand, as we shall see, this is much slower than inserting the data directly as binary blobs."
   ]
  },
  {
   "cell_type": "markdown",
   "metadata": {},
   "source": [
    "First, we choose a new location for the database to ensure that we don't add a bunch of benchmarking data to the default one."
   ]
  },
  {
   "cell_type": "code",
   "execution_count": 1,
   "metadata": {},
   "outputs": [
    {
     "name": "stdout",
     "output_type": "stream",
     "text": [
      "Logging hadn't been started.\n",
      "Activating auto-logging. Current session state plus future input saved.\n",
      "Filename       : /home/vsts/.qcodes/logs/command_history.log\n",
      "Mode           : append\n",
      "Output logging : True\n",
      "Raw input log  : False\n",
      "Timestamping   : True\n",
      "State          : active\n"
     ]
    },
    {
     "name": "stdout",
     "output_type": "stream",
     "text": [
      "Qcodes Logfile : /home/vsts/.qcodes/logs/200318-21662-qcodes.log\n"
     ]
    }
   ],
   "source": [
    "import os\n",
    "cwd = os.getcwd()\n",
    "import qcodes as qc\n",
    "qc.config[\"core\"][\"db_location\"] = os.path.join(cwd, 'testing.db')\n"
   ]
  },
  {
   "cell_type": "code",
   "execution_count": 2,
   "metadata": {},
   "outputs": [],
   "source": [
    "%matplotlib inline\n",
    "import time\n",
    "import matplotlib.pyplot as plt\n",
    "import numpy as np\n",
    "\n",
    "import qcodes as qc\n",
    "from qcodes.instrument.parameter import ManualParameter\n",
    "from qcodes.dataset.experiment_container import (Experiment,\n",
    "                                                 load_last_experiment,\n",
    "                                                 new_experiment)\n",
    "from qcodes.dataset.sqlite.database import initialise_database\n",
    "from qcodes import load_or_create_experiment\n",
    "from qcodes.dataset.measurements import Measurement"
   ]
  },
  {
   "cell_type": "code",
   "execution_count": 3,
   "metadata": {},
   "outputs": [
    {
     "name": "stdout",
     "output_type": "stream",
     "text": [
      "\r",
      "0it [00:00, ?it/s]"
     ]
    },
    {
     "name": "stdout",
     "output_type": "stream",
     "text": [
      "\r",
      "Upgrading database; v0 -> v1: : 0it [00:00, ?it/s]"
     ]
    },
    {
     "name": "stdout",
     "output_type": "stream",
     "text": [
      "\r",
      "Upgrading database; v0 -> v1: : 0it [00:00, ?it/s]"
     ]
    },
    {
     "name": "stdout",
     "output_type": "stream",
     "text": [
      "\n",
      "\r",
      "  0%|          | 0/1 [00:00<?, ?it/s]"
     ]
    },
    {
     "name": "stdout",
     "output_type": "stream",
     "text": [
      "\r",
      "Upgrading database; v1 -> v2:   0%|          | 0/1 [00:00<?, ?it/s]"
     ]
    },
    {
     "name": "stdout",
     "output_type": "stream",
     "text": [
      "\r",
      "Upgrading database; v1 -> v2: 100%|██████████| 1/1 [00:00<00:00, 893.36it/s]"
     ]
    },
    {
     "name": "stdout",
     "output_type": "stream",
     "text": [
      "\n",
      "\r",
      "0it [00:00, ?it/s]"
     ]
    },
    {
     "name": "stdout",
     "output_type": "stream",
     "text": [
      "\r",
      "Upgrading database; v2 -> v3: : 0it [00:00, ?it/s]"
     ]
    },
    {
     "name": "stdout",
     "output_type": "stream",
     "text": [
      "\r",
      "Upgrading database; v2 -> v3: : 0it [00:00, ?it/s]"
     ]
    },
    {
     "name": "stdout",
     "output_type": "stream",
     "text": [
      "\n",
      "\r",
      "0it [00:00, ?it/s]"
     ]
    },
    {
     "name": "stdout",
     "output_type": "stream",
     "text": [
      "\r",
      "Upgrading database; v3 -> v4: : 0it [00:00, ?it/s]"
     ]
    },
    {
     "name": "stdout",
     "output_type": "stream",
     "text": [
      "\r",
      "Upgrading database; v3 -> v4: : 0it [00:00, ?it/s]"
     ]
    },
    {
     "name": "stdout",
     "output_type": "stream",
     "text": [
      "\n",
      "\r",
      "  0%|          | 0/1 [00:00<?, ?it/s]"
     ]
    },
    {
     "name": "stdout",
     "output_type": "stream",
     "text": [
      "\r",
      "Upgrading database; v4 -> v5:   0%|          | 0/1 [00:00<?, ?it/s]"
     ]
    },
    {
     "name": "stdout",
     "output_type": "stream",
     "text": [
      "\r",
      "Upgrading database; v4 -> v5: 100%|██████████| 1/1 [00:00<00:00, 764.97it/s]"
     ]
    },
    {
     "name": "stdout",
     "output_type": "stream",
     "text": [
      "\n",
      "\r",
      "0it [00:00, ?it/s]"
     ]
    },
    {
     "name": "stdout",
     "output_type": "stream",
     "text": [
      "\r",
      "Upgrading database; v5 -> v6: : 0it [00:00, ?it/s]"
     ]
    },
    {
     "name": "stdout",
     "output_type": "stream",
     "text": [
      "\r",
      "Upgrading database; v5 -> v6: : 0it [00:00, ?it/s]"
     ]
    },
    {
     "name": "stdout",
     "output_type": "stream",
     "text": [
      "\n",
      "\r",
      "  0%|          | 0/1 [00:00<?, ?it/s]"
     ]
    },
    {
     "name": "stdout",
     "output_type": "stream",
     "text": [
      "\r",
      "Upgrading database; v6 -> v7:   0%|          | 0/1 [00:00<?, ?it/s]"
     ]
    },
    {
     "name": "stdout",
     "output_type": "stream",
     "text": [
      "\r",
      "Upgrading database; v6 -> v7: 100%|██████████| 1/1 [00:00<00:00, 420.57it/s]"
     ]
    },
    {
     "name": "stdout",
     "output_type": "stream",
     "text": [
      "\n",
      "\r",
      "  0%|          | 0/1 [00:00<?, ?it/s]"
     ]
    },
    {
     "name": "stdout",
     "output_type": "stream",
     "text": [
      "\r",
      "Upgrading database; v7 -> v8:   0%|          | 0/1 [00:00<?, ?it/s]"
     ]
    },
    {
     "name": "stdout",
     "output_type": "stream",
     "text": [
      "\r",
      "Upgrading database; v7 -> v8: 100%|██████████| 1/1 [00:00<00:00, 439.42it/s]"
     ]
    },
    {
     "name": "stdout",
     "output_type": "stream",
     "text": [
      "\n",
      "\r",
      "  0%|          | 0/1 [00:00<?, ?it/s]"
     ]
    },
    {
     "name": "stdout",
     "output_type": "stream",
     "text": [
      "\r",
      "Upgrading database; v8 -> v9:   0%|          | 0/1 [00:00<?, ?it/s]"
     ]
    },
    {
     "name": "stdout",
     "output_type": "stream",
     "text": [
      "\r",
      "Upgrading database; v8 -> v9: 100%|██████████| 1/1 [00:00<00:00, 988.76it/s]"
     ]
    },
    {
     "name": "stdout",
     "output_type": "stream",
     "text": [
      "\n"
     ]
    }
   ],
   "source": [
    "initialise_database()\n",
    "exp = load_or_create_experiment(experiment_name='tutorial_exp', sample_name=\"no sample\")"
   ]
  },
  {
   "cell_type": "markdown",
   "metadata": {},
   "source": [
    "Here, we define a simple function to benchmark the time it takes to insert n points with either numeric or array data type.\n",
    "We will compare both the time used to call ``add_result`` and the time used for the full measurement."
   ]
  },
  {
   "cell_type": "code",
   "execution_count": 4,
   "metadata": {},
   "outputs": [],
   "source": [
    "def insert_data(paramtype, npoints, nreps=1):\n",
    "\n",
    "    meas = Measurement(exp=exp)\n",
    "\n",
    "    x1 = ManualParameter('x1')\n",
    "    x2 = ManualParameter('x2')\n",
    "    x3 = ManualParameter('x3')\n",
    "    y1 = ManualParameter('y1')\n",
    "    y2 = ManualParameter('y2')\n",
    "\n",
    "    meas.register_parameter(x1, paramtype=paramtype)\n",
    "    meas.register_parameter(x2, paramtype=paramtype)\n",
    "    meas.register_parameter(x3, paramtype=paramtype)\n",
    "    meas.register_parameter(y1, setpoints=[x1, x2, x3],\n",
    "                            paramtype=paramtype)\n",
    "    meas.register_parameter(y2, setpoints=[x1, x2, x3],\n",
    "                            paramtype=paramtype)\n",
    "    start = time.perf_counter()\n",
    "    with meas.run() as datasaver:\n",
    "        start_adding = time.perf_counter()\n",
    "        for i in range(nreps):\n",
    "            datasaver.add_result((x1, np.random.rand(npoints)),\n",
    "                                 (x2, np.random.rand(npoints)),\n",
    "                                 (x3, np.random.rand(npoints)),\n",
    "                                 (y1, np.random.rand(npoints)),\n",
    "                                 (y2, np.random.rand(npoints)))\n",
    "        stop_adding = time.perf_counter()\n",
    "        run_id = datasaver.run_id\n",
    "    stop = time.perf_counter()\n",
    "    tot_time = stop - start\n",
    "    add_time = stop_adding - start_adding\n",
    "    return tot_time, add_time, run_id"
   ]
  },
  {
   "cell_type": "markdown",
   "metadata": {},
   "source": [
    "## Comparison between numeric/array data and binary blob"
   ]
  },
  {
   "cell_type": "markdown",
   "metadata": {},
   "source": [
    "### Case1: Short experiment time"
   ]
  },
  {
   "cell_type": "code",
   "execution_count": 5,
   "metadata": {},
   "outputs": [
    {
     "name": "stdout",
     "output_type": "stream",
     "text": [
      "Starting experimental run with id: 1. \n",
      "Starting experimental run with id: 2. \n",
      "Starting experimental run with id: 3. \n"
     ]
    },
    {
     "name": "stdout",
     "output_type": "stream",
     "text": [
      "Starting experimental run with id: 4. \n"
     ]
    },
    {
     "name": "stdout",
     "output_type": "stream",
     "text": [
      "Starting experimental run with id: 5. \n",
      "Starting experimental run with id: 6. \n"
     ]
    },
    {
     "name": "stdout",
     "output_type": "stream",
     "text": [
      "Starting experimental run with id: 7. \n"
     ]
    },
    {
     "name": "stdout",
     "output_type": "stream",
     "text": [
      "Starting experimental run with id: 8. \n",
      "Starting experimental run with id: 9. \n"
     ]
    },
    {
     "name": "stdout",
     "output_type": "stream",
     "text": [
      "Starting experimental run with id: 10. \n",
      "Starting experimental run with id: 11. \n"
     ]
    },
    {
     "name": "stdout",
     "output_type": "stream",
     "text": [
      "Starting experimental run with id: 12. \n"
     ]
    },
    {
     "name": "stdout",
     "output_type": "stream",
     "text": [
      "Starting experimental run with id: 13. \n"
     ]
    },
    {
     "name": "stdout",
     "output_type": "stream",
     "text": [
      "Starting experimental run with id: 14. \n"
     ]
    }
   ],
   "source": [
    "sizes = [1,500,1000,2000,3000,4000,5000]\n",
    "t_numeric = []\n",
    "t_numeric_add = []\n",
    "t_array = []\n",
    "t_array_add = []\n",
    "for size in sizes:\n",
    "    tn, tna, run_id_n =  insert_data('numeric', size)\n",
    "    t_numeric.append(tn)\n",
    "    t_numeric_add.append(tna)\n",
    "\n",
    "    ta, taa, run_id_a =  insert_data('array', size)\n",
    "    t_array.append(ta)\n",
    "    t_array_add.append(taa)"
   ]
  },
  {
   "cell_type": "code",
   "execution_count": 6,
   "metadata": {},
   "outputs": [
    {
     "data": {
      "image/png": "[encoded data removed]",
      "text/plain": [
       "<Figure size 432x288 with 1 Axes>"
      ]
     },
     "metadata": {
      "needs_background": "light"
     },
     "output_type": "display_data"
    }
   ],
   "source": [
    "fig, ax = plt.subplots(1,1)\n",
    "ax.plot(sizes, t_numeric, 'o-', label='Inserting row-by-row')\n",
    "ax.plot(sizes, t_numeric_add, 'o-', label='Inserting row-by-row: add_result only')\n",
    "ax.plot(sizes, t_array, 'd-', label='Inserting as binary blob')\n",
    "ax.plot(sizes, t_array_add, 'd-', label='Inserting as binary blob: add_result only')\n",
    "ax.legend()\n",
    "ax.set_xlabel('Array length')\n",
    "ax.set_ylabel('Time (s)')\n",
    "fig.tight_layout()"
   ]
  },
  {
   "cell_type": "markdown",
   "metadata": {},
   "source": [
    "As shown in the latter figure, the time to setup and and close the experiment is approximately 0.4 sec. In case of small array sizes, the difference between inserting values of data as arrays and inserting them row-by-row is relatively unimportant. At larger array sizes, i.e. above 10000 points, the cost of writing data as individual datapoints starts to become important.\n"
   ]
  },
  {
   "cell_type": "markdown",
   "metadata": {},
   "source": [
    "### Case2: Long experiment time "
   ]
  },
  {
   "cell_type": "code",
   "execution_count": 7,
   "metadata": {},
   "outputs": [
    {
     "name": "stdout",
     "output_type": "stream",
     "text": [
      "Starting experimental run with id: 15. \n",
      "Starting experimental run with id: 16. \n",
      "Starting experimental run with id: 17. \n"
     ]
    },
    {
     "name": "stdout",
     "output_type": "stream",
     "text": [
      "Starting experimental run with id: 18. \n",
      "Starting experimental run with id: 19. \n"
     ]
    },
    {
     "name": "stdout",
     "output_type": "stream",
     "text": [
      "Starting experimental run with id: 20. \n"
     ]
    },
    {
     "name": "stdout",
     "output_type": "stream",
     "text": [
      "Starting experimental run with id: 21. \n"
     ]
    },
    {
     "name": "stdout",
     "output_type": "stream",
     "text": [
      "Starting experimental run with id: 22. \n"
     ]
    },
    {
     "name": "stdout",
     "output_type": "stream",
     "text": [
      "Starting experimental run with id: 23. \n"
     ]
    },
    {
     "name": "stdout",
     "output_type": "stream",
     "text": [
      "Starting experimental run with id: 24. \n"
     ]
    },
    {
     "name": "stdout",
     "output_type": "stream",
     "text": [
      "Starting experimental run with id: 25. \n"
     ]
    },
    {
     "name": "stdout",
     "output_type": "stream",
     "text": [
      "Starting experimental run with id: 26. \n"
     ]
    },
    {
     "name": "stdout",
     "output_type": "stream",
     "text": [
      "Starting experimental run with id: 27. \n"
     ]
    },
    {
     "name": "stdout",
     "output_type": "stream",
     "text": [
      "Starting experimental run with id: 28. \n"
     ]
    }
   ],
   "source": [
    "sizes = [1,500,1000,2000,3000,4000,5000]\n",
    "nreps = 100\n",
    "t_numeric = []\n",
    "t_numeric_add = []\n",
    "t_numeric_run_ids = []\n",
    "t_array = []\n",
    "t_array_add = []\n",
    "t_array_run_ids = []\n",
    "for size in sizes:\n",
    "    tn, tna, run_id_n =  insert_data('numeric', size, nreps=nreps)\n",
    "    t_numeric.append(tn)\n",
    "    t_numeric_add.append(tna)\n",
    "    t_numeric_run_ids.append(run_id_n)\n",
    "\n",
    "    ta, taa, run_id_a =  insert_data('array', size, nreps=nreps)\n",
    "    t_array.append(ta)\n",
    "    t_array_add.append(taa)\n",
    "    t_array_run_ids.append(run_id_a)"
   ]
  },
  {
   "cell_type": "code",
   "execution_count": 8,
   "metadata": {
    "scrolled": true
   },
   "outputs": [
    {
     "data": {
      "image/png": "[encoded data removed]",
      "text/plain": [
       "<Figure size 432x288 with 1 Axes>"
      ]
     },
     "metadata": {
      "needs_background": "light"
     },
     "output_type": "display_data"
    }
   ],
   "source": [
    "fig, ax = plt.subplots(1,1)\n",
    "ax.plot(sizes, t_numeric, 'o-', label='Inserting row-by-row')\n",
    "ax.plot(sizes, t_numeric_add, 'o-', label='Inserting row-by-row: add_result only')\n",
    "ax.plot(sizes, t_array, 'd-', label='Inserting as binary blob')\n",
    "ax.plot(sizes, t_array_add, 'd-', label='Inserting as binary blob: add_result only')\n",
    "ax.legend()\n",
    "ax.set_xlabel('Array length')\n",
    "ax.set_ylabel('Time (s)')\n",
    "fig.tight_layout()"
   ]
  },
  {
   "cell_type": "markdown",
   "metadata": {},
   "source": [
    "However, as we increase the length of the experiment, as seen here by repeating the insertion 100 times, we see a big difference between inserting values of the data row-by-row and inserting it as a binary blob."
   ]
  },
  {
   "cell_type": "markdown",
   "metadata": {},
   "source": [
    "## Loading the data "
   ]
  },
  {
   "cell_type": "code",
   "execution_count": 9,
   "metadata": {},
   "outputs": [],
   "source": [
    "from qcodes.dataset.data_set import load_by_id\n",
    "from qcodes.dataset.data_export import get_data_by_id"
   ]
  },
  {
   "cell_type": "markdown",
   "metadata": {},
   "source": [
    "As usual you can load the data by using the ``load_by_id`` function but you will notice that the different storage methods\n",
    "are reflected in shape of the data as it is retrieved. "
   ]
  },
  {
   "cell_type": "code",
   "execution_count": 10,
   "metadata": {},
   "outputs": [],
   "source": [
    "run_id_n = t_numeric_run_ids[0]\n",
    "run_id_a = t_array_run_ids[0]"
   ]
  },
  {
   "cell_type": "code",
   "execution_count": 11,
   "metadata": {
    "scrolled": true
   },
   "outputs": [
    {
     "data": {
      "text/plain": [
       "{'x1': {'x1': array([0.24863014, 0.24863014, 0.21080289, 0.21080289, 0.09835039,\n",
       "         0.09835039, 0.48265231, 0.48265231, 0.29043233, 0.29043233,\n",
       "         0.4750496 , 0.4750496 , 0.0493195 , 0.0493195 , 0.2318524 ,\n",
       "         0.2318524 , 0.77589936, 0.77589936, 0.07239689, 0.07239689,\n",
       "         0.55957567, 0.55957567, 0.46047461, 0.46047461, 0.76607177,\n",
       "         0.76607177, 0.26387856, 0.26387856, 0.94283809, 0.94283809,\n",
       "         0.1829303 , 0.1829303 , 0.32051778, 0.32051778, 0.12421441,\n",
       "         0.12421441, 0.48685577, 0.48685577, 0.15802596, 0.15802596,\n",
       "         0.36857323, 0.36857323, 0.49765798, 0.49765798, 0.18530083,\n",
       "         0.18530083, 0.92270199, 0.92270199, 0.62298952, 0.62298952,\n",
       "         0.90406634, 0.90406634, 0.72997017, 0.72997017, 0.49377191,\n",
       "         0.49377191, 0.58993689, 0.58993689, 0.68913005, 0.68913005,\n",
       "         0.97829194, 0.97829194, 0.77365483, 0.77365483, 0.81515946,\n",
       "         0.81515946, 0.32165125, 0.32165125, 0.68392703, 0.68392703,\n",
       "         0.44363832, 0.44363832, 0.95786478, 0.95786478, 0.14583243,\n",
       "         0.14583243, 0.76471233, 0.76471233, 0.9432672 , 0.9432672 ,\n",
       "         0.57080103, 0.57080103, 0.07725333, 0.07725333, 0.3096764 ,\n",
       "         0.3096764 , 0.24706852, 0.24706852, 0.57458728, 0.57458728,\n",
       "         0.39970012, 0.39970012, 0.87504492, 0.87504492, 0.95762927,\n",
       "         0.95762927, 0.18773527, 0.18773527, 0.35296223, 0.35296223,\n",
       "         0.04035561, 0.04035561, 0.88811766, 0.88811766, 0.83256422,\n",
       "         0.83256422, 0.21185343, 0.21185343, 0.4503794 , 0.4503794 ,\n",
       "         0.3268409 , 0.3268409 , 0.76297585, 0.76297585, 0.83091569,\n",
       "         0.83091569, 0.85911236, 0.85911236, 0.84315562, 0.84315562,\n",
       "         0.30660026, 0.30660026, 0.17905208, 0.17905208, 0.27221207,\n",
       "         0.27221207, 0.58884309, 0.58884309, 0.51637914, 0.51637914,\n",
       "         0.96652811, 0.96652811, 0.76515172, 0.76515172, 0.6825146 ,\n",
       "         0.6825146 , 0.16916751, 0.16916751, 0.8468532 , 0.8468532 ,\n",
       "         0.64703659, 0.64703659, 0.37371305, 0.37371305, 0.27705027,\n",
       "         0.27705027, 0.1406274 , 0.1406274 , 0.64189973, 0.64189973,\n",
       "         0.26942335, 0.26942335, 0.85154455, 0.85154455, 0.42590456,\n",
       "         0.42590456, 0.2112807 , 0.2112807 , 0.08698204, 0.08698204,\n",
       "         0.09759713, 0.09759713, 0.9306694 , 0.9306694 , 0.7723565 ,\n",
       "         0.7723565 , 0.74296053, 0.74296053, 0.74293149, 0.74293149,\n",
       "         0.71177877, 0.71177877, 0.72901474, 0.72901474, 0.60154551,\n",
       "         0.60154551, 0.93762569, 0.93762569, 0.75797253, 0.75797253,\n",
       "         0.32347638, 0.32347638, 0.60197766, 0.60197766, 0.65402459,\n",
       "         0.65402459, 0.57921862, 0.57921862, 0.06418979, 0.06418979,\n",
       "         0.76541617, 0.76541617, 0.02930935, 0.02930935, 0.09613731,\n",
       "         0.09613731, 0.07976239, 0.07976239, 0.29905663, 0.29905663])}}"
      ]
     },
     "execution_count": 11,
     "metadata": {},
     "output_type": "execute_result"
    }
   ],
   "source": [
    "ds = load_by_id(run_id_n)\n",
    "ds.get_parameter_data('x1')"
   ]
  },
  {
   "cell_type": "markdown",
   "metadata": {},
   "source": [
    "And a dataset stored as binary arrays"
   ]
  },
  {
   "cell_type": "code",
   "execution_count": 12,
   "metadata": {
    "scrolled": true
   },
   "outputs": [
    {
     "data": {
      "text/plain": [
       "{'x1': {'x1': array([[0.48454813],\n",
       "         [0.48454813],\n",
       "         [0.37582608],\n",
       "         [0.37582608],\n",
       "         [0.36067024],\n",
       "         [0.36067024],\n",
       "         [0.97783854],\n",
       "         [0.97783854],\n",
       "         [0.55467654],\n",
       "         [0.55467654],\n",
       "         [0.35961115],\n",
       "         [0.35961115],\n",
       "         [0.20701972],\n",
       "         [0.20701972],\n",
       "         [0.87848832],\n",
       "         [0.87848832],\n",
       "         [0.23957397],\n",
       "         [0.23957397],\n",
       "         [0.32430579],\n",
       "         [0.32430579],\n",
       "         [0.2553866 ],\n",
       "         [0.2553866 ],\n",
       "         [0.82718732],\n",
       "         [0.82718732],\n",
       "         [0.19247983],\n",
       "         [0.19247983],\n",
       "         [0.19438489],\n",
       "         [0.19438489],\n",
       "         [0.35269482],\n",
       "         [0.35269482],\n",
       "         [0.4600256 ],\n",
       "         [0.4600256 ],\n",
       "         [0.03955912],\n",
       "         [0.03955912],\n",
       "         [0.31950831],\n",
       "         [0.31950831],\n",
       "         [0.60397283],\n",
       "         [0.60397283],\n",
       "         [0.73650442],\n",
       "         [0.73650442],\n",
       "         [0.62230844],\n",
       "         [0.62230844],\n",
       "         [0.99519646],\n",
       "         [0.99519646],\n",
       "         [0.40311145],\n",
       "         [0.40311145],\n",
       "         [0.37448954],\n",
       "         [0.37448954],\n",
       "         [0.59662661],\n",
       "         [0.59662661],\n",
       "         [0.86837179],\n",
       "         [0.86837179],\n",
       "         [0.30850945],\n",
       "         [0.30850945],\n",
       "         [0.49327122],\n",
       "         [0.49327122],\n",
       "         [0.95654085],\n",
       "         [0.95654085],\n",
       "         [0.86354196],\n",
       "         [0.86354196],\n",
       "         [0.90478557],\n",
       "         [0.90478557],\n",
       "         [0.70292577],\n",
       "         [0.70292577],\n",
       "         [0.68715782],\n",
       "         [0.68715782],\n",
       "         [0.18786337],\n",
       "         [0.18786337],\n",
       "         [0.83628289],\n",
       "         [0.83628289],\n",
       "         [0.02840771],\n",
       "         [0.02840771],\n",
       "         [0.11559305],\n",
       "         [0.11559305],\n",
       "         [0.23792068],\n",
       "         [0.23792068],\n",
       "         [0.00369429],\n",
       "         [0.00369429],\n",
       "         [0.59444859],\n",
       "         [0.59444859],\n",
       "         [0.50192745],\n",
       "         [0.50192745],\n",
       "         [0.56368647],\n",
       "         [0.56368647],\n",
       "         [0.33666838],\n",
       "         [0.33666838],\n",
       "         [0.62520348],\n",
       "         [0.62520348],\n",
       "         [0.23947802],\n",
       "         [0.23947802],\n",
       "         [0.26012931],\n",
       "         [0.26012931],\n",
       "         [0.10954067],\n",
       "         [0.10954067],\n",
       "         [0.23632314],\n",
       "         [0.23632314],\n",
       "         [0.22126402],\n",
       "         [0.22126402],\n",
       "         [0.48184077],\n",
       "         [0.48184077],\n",
       "         [0.78541805],\n",
       "         [0.78541805],\n",
       "         [0.42688059],\n",
       "         [0.42688059],\n",
       "         [0.33333876],\n",
       "         [0.33333876],\n",
       "         [0.74426472],\n",
       "         [0.74426472],\n",
       "         [0.47641642],\n",
       "         [0.47641642],\n",
       "         [0.43697645],\n",
       "         [0.43697645],\n",
       "         [0.95103341],\n",
       "         [0.95103341],\n",
       "         [0.63700071],\n",
       "         [0.63700071],\n",
       "         [0.01327252],\n",
       "         [0.01327252],\n",
       "         [0.37666094],\n",
       "         [0.37666094],\n",
       "         [0.43391266],\n",
       "         [0.43391266],\n",
       "         [0.17877319],\n",
       "         [0.17877319],\n",
       "         [0.72748212],\n",
       "         [0.72748212],\n",
       "         [0.96466028],\n",
       "         [0.96466028],\n",
       "         [0.9054398 ],\n",
       "         [0.9054398 ],\n",
       "         [0.11800339],\n",
       "         [0.11800339],\n",
       "         [0.5384447 ],\n",
       "         [0.5384447 ],\n",
       "         [0.56097429],\n",
       "         [0.56097429],\n",
       "         [0.73357457],\n",
       "         [0.73357457],\n",
       "         [0.19344386],\n",
       "         [0.19344386],\n",
       "         [0.82084802],\n",
       "         [0.82084802],\n",
       "         [0.70032188],\n",
       "         [0.70032188],\n",
       "         [0.81864615],\n",
       "         [0.81864615],\n",
       "         [0.79385545],\n",
       "         [0.79385545],\n",
       "         [0.25234753],\n",
       "         [0.25234753],\n",
       "         [0.11243021],\n",
       "         [0.11243021],\n",
       "         [0.36332818],\n",
       "         [0.36332818],\n",
       "         [0.2995304 ],\n",
       "         [0.2995304 ],\n",
       "         [0.03799914],\n",
       "         [0.03799914],\n",
       "         [0.9036529 ],\n",
       "         [0.9036529 ],\n",
       "         [0.1361324 ],\n",
       "         [0.1361324 ],\n",
       "         [0.88974755],\n",
       "         [0.88974755],\n",
       "         [0.94069194],\n",
       "         [0.94069194],\n",
       "         [0.02682571],\n",
       "         [0.02682571],\n",
       "         [0.39850987],\n",
       "         [0.39850987],\n",
       "         [0.8883116 ],\n",
       "         [0.8883116 ],\n",
       "         [0.72395879],\n",
       "         [0.72395879],\n",
       "         [0.14126424],\n",
       "         [0.14126424],\n",
       "         [0.16447336],\n",
       "         [0.16447336],\n",
       "         [0.71971417],\n",
       "         [0.71971417],\n",
       "         [0.85701705],\n",
       "         [0.85701705],\n",
       "         [0.8599051 ],\n",
       "         [0.8599051 ],\n",
       "         [0.32230781],\n",
       "         [0.32230781],\n",
       "         [0.86353979],\n",
       "         [0.86353979],\n",
       "         [0.63223637],\n",
       "         [0.63223637],\n",
       "         [0.5129708 ],\n",
       "         [0.5129708 ],\n",
       "         [0.15340959],\n",
       "         [0.15340959],\n",
       "         [0.3195936 ],\n",
       "         [0.3195936 ],\n",
       "         [0.8533329 ],\n",
       "         [0.8533329 ],\n",
       "         [0.40506403],\n",
       "         [0.40506403]])}}"
      ]
     },
     "execution_count": 12,
     "metadata": {},
     "output_type": "execute_result"
    }
   ],
   "source": [
    "ds = load_by_id(run_id_a)\n",
    "ds.get_parameter_data('x1')"
   ]
  },
  {
   "cell_type": "code",
   "execution_count": null,
   "metadata": {},
   "outputs": [],
   "source": []
  }
 ],
 "metadata": {
  "kernelspec": {
   "display_name": "Python 3",
   "language": "python",
   "name": "python3"
  },
  "language_info": {
   "codemirror_mode": {
    "name": "ipython",
    "version": 3
   },
   "file_extension": ".py",
   "mimetype": "text/x-python",
   "name": "python",
   "nbconvert_exporter": "python",
   "pygments_lexer": "ipython3",
   "version": "3.7.5"
  },
  "nbsphinx": {
   "timeout": 600
  },
  "toc": {
   "base_numbering": 1,
   "nav_menu": {},
   "number_sections": true,
   "sideBar": true,
   "skip_h1_title": false,
   "title_cell": "Table of Contents",
   "title_sidebar": "Contents",
   "toc_cell": false,
   "toc_position": {},
   "toc_section_display": true,
   "toc_window_display": false
  },
  "varInspector": {
   "cols": {
    "lenName": 16,
    "lenType": 16,
    "lenVar": 40
   },
   "kernels_config": {
    "python": {
     "delete_cmd_postfix": "",
     "delete_cmd_prefix": "del ",
     "library": "var_list.py",
     "varRefreshCmd": "print(var_dic_list())"
    },
    "r": {
     "delete_cmd_postfix": ") ",
     "delete_cmd_prefix": "rm(",
     "library": "var_list.r",
     "varRefreshCmd": "cat(var_dic_list()) "
    }
   },
   "types_to_exclude": [
    "module",
    "function",
    "builtin_function_or_method",
    "instance",
    "_Feature"
   ],
   "window_display": false
  }
 },
 "nbformat": 4,
 "nbformat_minor": 2
}
