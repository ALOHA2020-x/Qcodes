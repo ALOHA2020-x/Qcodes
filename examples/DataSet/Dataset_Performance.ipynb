{
 "cells": [
  {
   "cell_type": "markdown",
   "metadata": {},
   "source": [
    "# DataSet Performance\n",
    "\n",
    "This notebook shows the trade-off between inserting data into a database row-by-row and as binary blobs. Inserting the data row-by-row means that we have direct access to all the data and may perform queries directly on the values of the data. On the other hand, as we shall see, this is much slower than inserting the data directly as binary blobs."
   ]
  },
  {
   "cell_type": "markdown",
   "metadata": {},
   "source": [
    "First, we choose a new location for the database to ensure that we don't add a bunch of benchmarking data to the default one."
   ]
  },
  {
   "cell_type": "code",
   "execution_count": 1,
   "metadata": {
    "execution": {
     "iopub.execute_input": "2020-10-30T14:44:00.243116Z",
     "iopub.status.busy": "2020-10-30T14:44:00.242175Z",
     "iopub.status.idle": "2020-10-30T14:44:01.294773Z",
     "shell.execute_reply": "2020-10-30T14:44:01.294190Z"
    }
   },
   "outputs": [
    {
     "name": "stdout",
     "output_type": "stream",
     "text": [
      "Logging hadn't been started.\n",
      "Activating auto-logging. Current session state plus future input saved.\n",
      "Filename       : /home/vsts/.qcodes/logs/command_history.log\n",
      "Mode           : append\n",
      "Output logging : True\n",
      "Raw input log  : False\n",
      "Timestamping   : True\n",
      "State          : active\n"
     ]
    },
    {
     "name": "stdout",
     "output_type": "stream",
     "text": [
      "Qcodes Logfile : /home/vsts/.qcodes/logs/201030-14914-qcodes.log\n"
     ]
    }
   ],
   "source": [
    "import os\n",
    "cwd = os.getcwd()\n",
    "import qcodes as qc\n",
    "qc.config[\"core\"][\"db_location\"] = os.path.join(cwd, 'testing.db')\n"
   ]
  },
  {
   "cell_type": "code",
   "execution_count": 2,
   "metadata": {
    "execution": {
     "iopub.execute_input": "2020-10-30T14:44:01.302760Z",
     "iopub.status.busy": "2020-10-30T14:44:01.300672Z",
     "iopub.status.idle": "2020-10-30T14:44:01.484528Z",
     "shell.execute_reply": "2020-10-30T14:44:01.483968Z"
    }
   },
   "outputs": [],
   "source": [
    "%matplotlib inline\n",
    "import time\n",
    "import matplotlib.pyplot as plt\n",
    "import numpy as np\n",
    "\n",
    "import qcodes as qc\n",
    "from qcodes.instrument.parameter import ManualParameter\n",
    "from qcodes.dataset.experiment_container import (Experiment,\n",
    "                                                 load_last_experiment,\n",
    "                                                 new_experiment)\n",
    "from qcodes.dataset.sqlite.database import initialise_database\n",
    "from qcodes import load_or_create_experiment\n",
    "from qcodes.dataset.measurements import Measurement"
   ]
  },
  {
   "cell_type": "code",
   "execution_count": 3,
   "metadata": {
    "execution": {
     "iopub.execute_input": "2020-10-30T14:44:01.488013Z",
     "iopub.status.busy": "2020-10-30T14:44:01.487415Z",
     "iopub.status.idle": "2020-10-30T14:44:01.591321Z",
     "shell.execute_reply": "2020-10-30T14:44:01.590908Z"
    }
   },
   "outputs": [
    {
     "name": "stdout",
     "output_type": "stream",
     "text": [
      "\r",
      "0it [00:00, ?it/s]"
     ]
    },
    {
     "name": "stdout",
     "output_type": "stream",
     "text": [
      "\r",
      "Upgrading database; v0 -> v1: : 0it [00:00, ?it/s]"
     ]
    },
    {
     "name": "stdout",
     "output_type": "stream",
     "text": [
      "\r",
      "Upgrading database; v0 -> v1: : 0it [00:00, ?it/s]"
     ]
    },
    {
     "name": "stdout",
     "output_type": "stream",
     "text": [
      "\n",
      "\r",
      "  0%|          | 0/1 [00:00<?, ?it/s]"
     ]
    },
    {
     "name": "stdout",
     "output_type": "stream",
     "text": [
      "\r",
      "Upgrading database; v1 -> v2:   0%|          | 0/1 [00:00<?, ?it/s]"
     ]
    },
    {
     "name": "stdout",
     "output_type": "stream",
     "text": [
      "\r",
      "Upgrading database; v1 -> v2: 100%|██████████| 1/1 [00:00<00:00, 474.42it/s]"
     ]
    },
    {
     "name": "stdout",
     "output_type": "stream",
     "text": [
      "\n",
      "\r",
      "0it [00:00, ?it/s]"
     ]
    },
    {
     "name": "stdout",
     "output_type": "stream",
     "text": [
      "\r",
      "Upgrading database; v2 -> v3: : 0it [00:00, ?it/s]"
     ]
    },
    {
     "name": "stdout",
     "output_type": "stream",
     "text": [
      "\r",
      "Upgrading database; v2 -> v3: : 0it [00:00, ?it/s]"
     ]
    },
    {
     "name": "stdout",
     "output_type": "stream",
     "text": [
      "\n",
      "\r",
      "0it [00:00, ?it/s]"
     ]
    },
    {
     "name": "stdout",
     "output_type": "stream",
     "text": [
      "\r",
      "Upgrading database; v3 -> v4: : 0it [00:00, ?it/s]"
     ]
    },
    {
     "name": "stdout",
     "output_type": "stream",
     "text": [
      "\r",
      "Upgrading database; v3 -> v4: : 0it [00:00, ?it/s]"
     ]
    },
    {
     "name": "stdout",
     "output_type": "stream",
     "text": [
      "\n",
      "\r",
      "  0%|          | 0/1 [00:00<?, ?it/s]"
     ]
    },
    {
     "name": "stdout",
     "output_type": "stream",
     "text": [
      "\r",
      "Upgrading database; v4 -> v5:   0%|          | 0/1 [00:00<?, ?it/s]"
     ]
    },
    {
     "name": "stdout",
     "output_type": "stream",
     "text": [
      "\r",
      "Upgrading database; v4 -> v5: 100%|██████████| 1/1 [00:00<00:00, 580.69it/s]"
     ]
    },
    {
     "name": "stdout",
     "output_type": "stream",
     "text": [
      "\n",
      "\r",
      "0it [00:00, ?it/s]"
     ]
    },
    {
     "name": "stdout",
     "output_type": "stream",
     "text": [
      "\r",
      "Upgrading database; v5 -> v6: : 0it [00:00, ?it/s]"
     ]
    },
    {
     "name": "stdout",
     "output_type": "stream",
     "text": [
      "\r",
      "Upgrading database; v5 -> v6: : 0it [00:00, ?it/s]"
     ]
    },
    {
     "name": "stdout",
     "output_type": "stream",
     "text": [
      "\n",
      "\r",
      "  0%|          | 0/1 [00:00<?, ?it/s]"
     ]
    },
    {
     "name": "stdout",
     "output_type": "stream",
     "text": [
      "\r",
      "Upgrading database; v6 -> v7:   0%|          | 0/1 [00:00<?, ?it/s]"
     ]
    },
    {
     "name": "stdout",
     "output_type": "stream",
     "text": [
      "\r",
      "Upgrading database; v6 -> v7: 100%|██████████| 1/1 [00:00<00:00, 355.90it/s]"
     ]
    },
    {
     "name": "stdout",
     "output_type": "stream",
     "text": [
      "\n",
      "\r",
      "  0%|          | 0/1 [00:00<?, ?it/s]"
     ]
    },
    {
     "name": "stdout",
     "output_type": "stream",
     "text": [
      "\r",
      "Upgrading database; v7 -> v8:   0%|          | 0/1 [00:00<?, ?it/s]"
     ]
    },
    {
     "name": "stdout",
     "output_type": "stream",
     "text": [
      "\r",
      "Upgrading database; v7 -> v8: 100%|██████████| 1/1 [00:00<00:00, 1048.58it/s]"
     ]
    },
    {
     "name": "stdout",
     "output_type": "stream",
     "text": [
      "\n",
      "\r",
      "  0%|          | 0/1 [00:00<?, ?it/s]"
     ]
    },
    {
     "name": "stdout",
     "output_type": "stream",
     "text": [
      "\r",
      "Upgrading database; v8 -> v9:   0%|          | 0/1 [00:00<?, ?it/s]"
     ]
    },
    {
     "name": "stdout",
     "output_type": "stream",
     "text": [
      "\r",
      "Upgrading database; v8 -> v9: 100%|██████████| 1/1 [00:00<00:00, 1318.13it/s]"
     ]
    },
    {
     "name": "stdout",
     "output_type": "stream",
     "text": [
      "\n"
     ]
    }
   ],
   "source": [
    "initialise_database()\n",
    "exp = load_or_create_experiment(experiment_name='tutorial_exp', sample_name=\"no sample\")"
   ]
  },
  {
   "cell_type": "markdown",
   "metadata": {},
   "source": [
    "Here, we define a simple function to benchmark the time it takes to insert n points with either numeric or array data type.\n",
    "We will compare both the time used to call ``add_result`` and the time used for the full measurement."
   ]
  },
  {
   "cell_type": "code",
   "execution_count": 4,
   "metadata": {
    "execution": {
     "iopub.execute_input": "2020-10-30T14:44:01.599454Z",
     "iopub.status.busy": "2020-10-30T14:44:01.597827Z",
     "iopub.status.idle": "2020-10-30T14:44:01.601702Z",
     "shell.execute_reply": "2020-10-30T14:44:01.601155Z"
    }
   },
   "outputs": [],
   "source": [
    "def insert_data(paramtype, npoints, nreps=1):\n",
    "\n",
    "    meas = Measurement(exp=exp)\n",
    "\n",
    "    x1 = ManualParameter('x1')\n",
    "    x2 = ManualParameter('x2')\n",
    "    x3 = ManualParameter('x3')\n",
    "    y1 = ManualParameter('y1')\n",
    "    y2 = ManualParameter('y2')\n",
    "\n",
    "    meas.register_parameter(x1, paramtype=paramtype)\n",
    "    meas.register_parameter(x2, paramtype=paramtype)\n",
    "    meas.register_parameter(x3, paramtype=paramtype)\n",
    "    meas.register_parameter(y1, setpoints=[x1, x2, x3],\n",
    "                            paramtype=paramtype)\n",
    "    meas.register_parameter(y2, setpoints=[x1, x2, x3],\n",
    "                            paramtype=paramtype)\n",
    "    start = time.perf_counter()\n",
    "    with meas.run() as datasaver:\n",
    "        start_adding = time.perf_counter()\n",
    "        for i in range(nreps):\n",
    "            datasaver.add_result((x1, np.random.rand(npoints)),\n",
    "                                 (x2, np.random.rand(npoints)),\n",
    "                                 (x3, np.random.rand(npoints)),\n",
    "                                 (y1, np.random.rand(npoints)),\n",
    "                                 (y2, np.random.rand(npoints)))\n",
    "        stop_adding = time.perf_counter()\n",
    "        run_id = datasaver.run_id\n",
    "    stop = time.perf_counter()\n",
    "    tot_time = stop - start\n",
    "    add_time = stop_adding - start_adding\n",
    "    return tot_time, add_time, run_id"
   ]
  },
  {
   "cell_type": "markdown",
   "metadata": {},
   "source": [
    "## Comparison between numeric/array data and binary blob"
   ]
  },
  {
   "cell_type": "markdown",
   "metadata": {},
   "source": [
    "### Case1: Short experiment time"
   ]
  },
  {
   "cell_type": "code",
   "execution_count": 5,
   "metadata": {
    "execution": {
     "iopub.execute_input": "2020-10-30T14:44:01.607589Z",
     "iopub.status.busy": "2020-10-30T14:44:01.606438Z",
     "iopub.status.idle": "2020-10-30T14:44:02.458294Z",
     "shell.execute_reply": "2020-10-30T14:44:02.458776Z"
    }
   },
   "outputs": [
    {
     "name": "stdout",
     "output_type": "stream",
     "text": [
      "Starting experimental run with id: 1. \n",
      "Starting experimental run with id: 2. \n",
      "Starting experimental run with id: 3. \n",
      "Starting experimental run with id: 4. \n",
      "Starting experimental run with id: 5. \n"
     ]
    },
    {
     "name": "stdout",
     "output_type": "stream",
     "text": [
      "Starting experimental run with id: 6. \n"
     ]
    },
    {
     "name": "stdout",
     "output_type": "stream",
     "text": [
      "Starting experimental run with id: 7. \n"
     ]
    },
    {
     "name": "stdout",
     "output_type": "stream",
     "text": [
      "Starting experimental run with id: 8. \n",
      "Starting experimental run with id: 9. \n"
     ]
    },
    {
     "name": "stdout",
     "output_type": "stream",
     "text": [
      "Starting experimental run with id: 10. \n",
      "Starting experimental run with id: 11. \n"
     ]
    },
    {
     "name": "stdout",
     "output_type": "stream",
     "text": [
      "Starting experimental run with id: 12. \n"
     ]
    },
    {
     "name": "stdout",
     "output_type": "stream",
     "text": [
      "Starting experimental run with id: 13. \n"
     ]
    },
    {
     "name": "stdout",
     "output_type": "stream",
     "text": [
      "Starting experimental run with id: 14. \n"
     ]
    }
   ],
   "source": [
    "sizes = [1,500,1000,2000,3000,4000,5000]\n",
    "t_numeric = []\n",
    "t_numeric_add = []\n",
    "t_array = []\n",
    "t_array_add = []\n",
    "for size in sizes:\n",
    "    tn, tna, run_id_n =  insert_data('numeric', size)\n",
    "    t_numeric.append(tn)\n",
    "    t_numeric_add.append(tna)\n",
    "\n",
    "    ta, taa, run_id_a =  insert_data('array', size)\n",
    "    t_array.append(ta)\n",
    "    t_array_add.append(taa)"
   ]
  },
  {
   "cell_type": "code",
   "execution_count": 6,
   "metadata": {
    "execution": {
     "iopub.execute_input": "2020-10-30T14:44:02.477857Z",
     "iopub.status.busy": "2020-10-30T14:44:02.463511Z",
     "iopub.status.idle": "2020-10-30T14:44:02.664487Z",
     "shell.execute_reply": "2020-10-30T14:44:02.664912Z"
    }
   },
   "outputs": [
    {
     "data": {
      "image/png": "[encoded data removed]",
      "text/plain": [
       "<Figure size 432x288 with 1 Axes>"
      ]
     },
     "metadata": {
      "needs_background": "light"
     },
     "output_type": "display_data"
    }
   ],
   "source": [
    "fig, ax = plt.subplots(1,1)\n",
    "ax.plot(sizes, t_numeric, 'o-', label='Inserting row-by-row')\n",
    "ax.plot(sizes, t_numeric_add, 'o-', label='Inserting row-by-row: add_result only')\n",
    "ax.plot(sizes, t_array, 'd-', label='Inserting as binary blob')\n",
    "ax.plot(sizes, t_array_add, 'd-', label='Inserting as binary blob: add_result only')\n",
    "ax.legend()\n",
    "ax.set_xlabel('Array length')\n",
    "ax.set_ylabel('Time (s)')\n",
    "fig.tight_layout()"
   ]
  },
  {
   "cell_type": "markdown",
   "metadata": {},
   "source": [
    "As shown in the latter figure, the time to setup and and close the experiment is approximately 0.4 sec. In case of small array sizes, the difference between inserting values of data as arrays and inserting them row-by-row is relatively unimportant. At larger array sizes, i.e. above 10000 points, the cost of writing data as individual datapoints starts to become important.\n"
   ]
  },
  {
   "cell_type": "markdown",
   "metadata": {},
   "source": [
    "### Case2: Long experiment time "
   ]
  },
  {
   "cell_type": "code",
   "execution_count": 7,
   "metadata": {
    "execution": {
     "iopub.execute_input": "2020-10-30T14:44:02.671924Z",
     "iopub.status.busy": "2020-10-30T14:44:02.669469Z",
     "iopub.status.idle": "2020-10-30T14:45:03.852269Z",
     "shell.execute_reply": "2020-10-30T14:45:03.852862Z"
    }
   },
   "outputs": [
    {
     "name": "stdout",
     "output_type": "stream",
     "text": [
      "Starting experimental run with id: 15. \n",
      "Starting experimental run with id: 16. \n",
      "Starting experimental run with id: 17. \n"
     ]
    },
    {
     "name": "stdout",
     "output_type": "stream",
     "text": [
      "Starting experimental run with id: 18. \n",
      "Starting experimental run with id: 19. \n"
     ]
    },
    {
     "name": "stdout",
     "output_type": "stream",
     "text": [
      "Starting experimental run with id: 20. \n"
     ]
    },
    {
     "name": "stdout",
     "output_type": "stream",
     "text": [
      "Starting experimental run with id: 21. \n"
     ]
    },
    {
     "name": "stdout",
     "output_type": "stream",
     "text": [
      "Starting experimental run with id: 22. \n"
     ]
    },
    {
     "name": "stdout",
     "output_type": "stream",
     "text": [
      "Starting experimental run with id: 23. \n"
     ]
    },
    {
     "name": "stdout",
     "output_type": "stream",
     "text": [
      "Starting experimental run with id: 24. \n"
     ]
    },
    {
     "name": "stdout",
     "output_type": "stream",
     "text": [
      "Starting experimental run with id: 25. \n"
     ]
    },
    {
     "name": "stdout",
     "output_type": "stream",
     "text": [
      "Starting experimental run with id: 26. \n"
     ]
    },
    {
     "name": "stdout",
     "output_type": "stream",
     "text": [
      "Starting experimental run with id: 27. \n"
     ]
    },
    {
     "name": "stdout",
     "output_type": "stream",
     "text": [
      "Starting experimental run with id: 28. \n"
     ]
    }
   ],
   "source": [
    "sizes = [1,500,1000,2000,3000,4000,5000]\n",
    "nreps = 100\n",
    "t_numeric = []\n",
    "t_numeric_add = []\n",
    "t_numeric_run_ids = []\n",
    "t_array = []\n",
    "t_array_add = []\n",
    "t_array_run_ids = []\n",
    "for size in sizes:\n",
    "    tn, tna, run_id_n =  insert_data('numeric', size, nreps=nreps)\n",
    "    t_numeric.append(tn)\n",
    "    t_numeric_add.append(tna)\n",
    "    t_numeric_run_ids.append(run_id_n)\n",
    "\n",
    "    ta, taa, run_id_a =  insert_data('array', size, nreps=nreps)\n",
    "    t_array.append(ta)\n",
    "    t_array_add.append(taa)\n",
    "    t_array_run_ids.append(run_id_a)"
   ]
  },
  {
   "cell_type": "code",
   "execution_count": 8,
   "metadata": {
    "execution": {
     "iopub.execute_input": "2020-10-30T14:45:03.891235Z",
     "iopub.status.busy": "2020-10-30T14:45:03.878818Z",
     "iopub.status.idle": "2020-10-30T14:45:04.077526Z",
     "shell.execute_reply": "2020-10-30T14:45:04.077971Z"
    },
    "scrolled": true
   },
   "outputs": [
    {
     "data": {
      "image/png": "[encoded data removed]",
      "text/plain": [
       "<Figure size 432x288 with 1 Axes>"
      ]
     },
     "metadata": {
      "needs_background": "light"
     },
     "output_type": "display_data"
    }
   ],
   "source": [
    "fig, ax = plt.subplots(1,1)\n",
    "ax.plot(sizes, t_numeric, 'o-', label='Inserting row-by-row')\n",
    "ax.plot(sizes, t_numeric_add, 'o-', label='Inserting row-by-row: add_result only')\n",
    "ax.plot(sizes, t_array, 'd-', label='Inserting as binary blob')\n",
    "ax.plot(sizes, t_array_add, 'd-', label='Inserting as binary blob: add_result only')\n",
    "ax.legend()\n",
    "ax.set_xlabel('Array length')\n",
    "ax.set_ylabel('Time (s)')\n",
    "fig.tight_layout()"
   ]
  },
  {
   "cell_type": "markdown",
   "metadata": {},
   "source": [
    "However, as we increase the length of the experiment, as seen here by repeating the insertion 100 times, we see a big difference between inserting values of the data row-by-row and inserting it as a binary blob."
   ]
  },
  {
   "cell_type": "markdown",
   "metadata": {},
   "source": [
    "## Loading the data "
   ]
  },
  {
   "cell_type": "code",
   "execution_count": 9,
   "metadata": {
    "execution": {
     "iopub.execute_input": "2020-10-30T14:45:04.082406Z",
     "iopub.status.busy": "2020-10-30T14:45:04.081647Z",
     "iopub.status.idle": "2020-10-30T14:45:04.084022Z",
     "shell.execute_reply": "2020-10-30T14:45:04.084441Z"
    }
   },
   "outputs": [],
   "source": [
    "from qcodes.dataset.data_set import load_by_id\n",
    "from qcodes.dataset.data_export import get_data_by_id"
   ]
  },
  {
   "cell_type": "markdown",
   "metadata": {},
   "source": [
    "As usual you can load the data by using the ``load_by_id`` function but you will notice that the different storage methods\n",
    "are reflected in shape of the data as it is retrieved. "
   ]
  },
  {
   "cell_type": "code",
   "execution_count": 10,
   "metadata": {
    "execution": {
     "iopub.execute_input": "2020-10-30T14:45:04.088817Z",
     "iopub.status.busy": "2020-10-30T14:45:04.087679Z",
     "iopub.status.idle": "2020-10-30T14:45:04.089388Z",
     "shell.execute_reply": "2020-10-30T14:45:04.089799Z"
    }
   },
   "outputs": [],
   "source": [
    "run_id_n = t_numeric_run_ids[0]\n",
    "run_id_a = t_array_run_ids[0]"
   ]
  },
  {
   "cell_type": "code",
   "execution_count": 11,
   "metadata": {
    "execution": {
     "iopub.execute_input": "2020-10-30T14:45:04.092863Z",
     "iopub.status.busy": "2020-10-30T14:45:04.092339Z",
     "iopub.status.idle": "2020-10-30T14:45:04.102618Z",
     "shell.execute_reply": "2020-10-30T14:45:04.103064Z"
    },
    "scrolled": true
   },
   "outputs": [
    {
     "data": {
      "text/plain": [
       "{'x1': {'x1': array([0.64881678, 0.64881678, 0.49859507, 0.49859507, 0.97320798,\n",
       "         0.97320798, 0.4211945 , 0.4211945 , 0.45072077, 0.45072077,\n",
       "         0.6569328 , 0.6569328 , 0.61538412, 0.61538412, 0.00351024,\n",
       "         0.00351024, 0.83704785, 0.83704785, 0.41173902, 0.41173902,\n",
       "         0.55803327, 0.55803327, 0.27859955, 0.27859955, 0.5397592 ,\n",
       "         0.5397592 , 0.05597713, 0.05597713, 0.75748115, 0.75748115,\n",
       "         0.13010111, 0.13010111, 0.90439308, 0.90439308, 0.95668048,\n",
       "         0.95668048, 0.99634368, 0.99634368, 0.74994768, 0.74994768,\n",
       "         0.06865276, 0.06865276, 0.48079305, 0.48079305, 0.97484972,\n",
       "         0.97484972, 0.16223057, 0.16223057, 0.03587053, 0.03587053,\n",
       "         0.02200858, 0.02200858, 0.2177804 , 0.2177804 , 0.10531848,\n",
       "         0.10531848, 0.72027145, 0.72027145, 0.38375667, 0.38375667,\n",
       "         0.0573069 , 0.0573069 , 0.8872803 , 0.8872803 , 0.81969814,\n",
       "         0.81969814, 0.42301748, 0.42301748, 0.22611753, 0.22611753,\n",
       "         0.16579304, 0.16579304, 0.98439917, 0.98439917, 0.2210335 ,\n",
       "         0.2210335 , 0.22923055, 0.22923055, 0.70123286, 0.70123286,\n",
       "         0.65954307, 0.65954307, 0.51279286, 0.51279286, 0.547456  ,\n",
       "         0.547456  , 0.46241367, 0.46241367, 0.99170642, 0.99170642,\n",
       "         0.18531816, 0.18531816, 0.02311251, 0.02311251, 0.87970603,\n",
       "         0.87970603, 0.41186628, 0.41186628, 0.86084088, 0.86084088,\n",
       "         0.81724738, 0.81724738, 0.99091705, 0.99091705, 0.62723173,\n",
       "         0.62723173, 0.5922619 , 0.5922619 , 0.8724893 , 0.8724893 ,\n",
       "         0.66958642, 0.66958642, 0.47185719, 0.47185719, 0.30473263,\n",
       "         0.30473263, 0.5862986 , 0.5862986 , 0.32731177, 0.32731177,\n",
       "         0.73461613, 0.73461613, 0.7924146 , 0.7924146 , 0.39739174,\n",
       "         0.39739174, 0.72261287, 0.72261287, 0.98299993, 0.98299993,\n",
       "         0.06135713, 0.06135713, 0.21230675, 0.21230675, 0.32052707,\n",
       "         0.32052707, 0.62176254, 0.62176254, 0.31262985, 0.31262985,\n",
       "         0.59315008, 0.59315008, 0.94399213, 0.94399213, 0.84099924,\n",
       "         0.84099924, 0.73005703, 0.73005703, 0.98419183, 0.98419183,\n",
       "         0.56581207, 0.56581207, 0.32635155, 0.32635155, 0.52031858,\n",
       "         0.52031858, 0.2700861 , 0.2700861 , 0.97476418, 0.97476418,\n",
       "         0.3293744 , 0.3293744 , 0.15831347, 0.15831347, 0.87134241,\n",
       "         0.87134241, 0.23559377, 0.23559377, 0.19876616, 0.19876616,\n",
       "         0.36194892, 0.36194892, 0.41631074, 0.41631074, 0.28627876,\n",
       "         0.28627876, 0.0106222 , 0.0106222 , 0.98919321, 0.98919321,\n",
       "         0.92287369, 0.92287369, 0.9041533 , 0.9041533 , 0.98313214,\n",
       "         0.98313214, 0.77330061, 0.77330061, 0.79657386, 0.79657386,\n",
       "         0.75743412, 0.75743412, 0.04622502, 0.04622502, 0.73596527,\n",
       "         0.73596527, 0.83808635, 0.83808635, 0.75691761, 0.75691761])}}"
      ]
     },
     "execution_count": 1,
     "metadata": {},
     "output_type": "execute_result"
    }
   ],
   "source": [
    "ds = load_by_id(run_id_n)\n",
    "ds.get_parameter_data('x1')"
   ]
  },
  {
   "cell_type": "markdown",
   "metadata": {},
   "source": [
    "And a dataset stored as binary arrays"
   ]
  },
  {
   "cell_type": "code",
   "execution_count": 12,
   "metadata": {
    "execution": {
     "iopub.execute_input": "2020-10-30T14:45:04.106431Z",
     "iopub.status.busy": "2020-10-30T14:45:04.105902Z",
     "iopub.status.idle": "2020-10-30T14:45:04.161730Z",
     "shell.execute_reply": "2020-10-30T14:45:04.162530Z"
    },
    "scrolled": true
   },
   "outputs": [
    {
     "data": {
      "text/plain": [
       "{'x1': {'x1': array([[3.26842651e-01],\n",
       "         [3.26842651e-01],\n",
       "         [1.79659956e-03],\n",
       "         [1.79659956e-03],\n",
       "         [4.79644605e-02],\n",
       "         [4.79644605e-02],\n",
       "         [1.86111462e-01],\n",
       "         [1.86111462e-01],\n",
       "         [9.36927067e-01],\n",
       "         [9.36927067e-01],\n",
       "         [4.08476593e-01],\n",
       "         [4.08476593e-01],\n",
       "         [9.62583794e-04],\n",
       "         [9.62583794e-04],\n",
       "         [5.51774003e-01],\n",
       "         [5.51774003e-01],\n",
       "         [4.09760447e-01],\n",
       "         [4.09760447e-01],\n",
       "         [2.50718809e-01],\n",
       "         [2.50718809e-01],\n",
       "         [6.98667106e-01],\n",
       "         [6.98667106e-01],\n",
       "         [9.60360324e-01],\n",
       "         [9.60360324e-01],\n",
       "         [8.32285480e-01],\n",
       "         [8.32285480e-01],\n",
       "         [5.65006745e-01],\n",
       "         [5.65006745e-01],\n",
       "         [9.15708576e-01],\n",
       "         [9.15708576e-01],\n",
       "         [5.05351323e-01],\n",
       "         [5.05351323e-01],\n",
       "         [8.13541215e-01],\n",
       "         [8.13541215e-01],\n",
       "         [2.48226062e-01],\n",
       "         [2.48226062e-01],\n",
       "         [4.28144171e-02],\n",
       "         [4.28144171e-02],\n",
       "         [9.94208210e-01],\n",
       "         [9.94208210e-01],\n",
       "         [3.10788110e-01],\n",
       "         [3.10788110e-01],\n",
       "         [8.58653773e-01],\n",
       "         [8.58653773e-01],\n",
       "         [4.87593881e-01],\n",
       "         [4.87593881e-01],\n",
       "         [9.34990705e-01],\n",
       "         [9.34990705e-01],\n",
       "         [4.38937097e-01],\n",
       "         [4.38937097e-01],\n",
       "         [8.16249234e-01],\n",
       "         [8.16249234e-01],\n",
       "         [6.94791649e-01],\n",
       "         [6.94791649e-01],\n",
       "         [2.64635637e-01],\n",
       "         [2.64635637e-01],\n",
       "         [9.76013876e-01],\n",
       "         [9.76013876e-01],\n",
       "         [2.71742993e-01],\n",
       "         [2.71742993e-01],\n",
       "         [7.84837096e-01],\n",
       "         [7.84837096e-01],\n",
       "         [4.81747688e-01],\n",
       "         [4.81747688e-01],\n",
       "         [5.44630274e-04],\n",
       "         [5.44630274e-04],\n",
       "         [5.12342692e-01],\n",
       "         [5.12342692e-01],\n",
       "         [1.62375223e-01],\n",
       "         [1.62375223e-01],\n",
       "         [4.96194434e-01],\n",
       "         [4.96194434e-01],\n",
       "         [1.81463644e-03],\n",
       "         [1.81463644e-03],\n",
       "         [6.32603499e-01],\n",
       "         [6.32603499e-01],\n",
       "         [5.53100043e-01],\n",
       "         [5.53100043e-01],\n",
       "         [1.73157354e-01],\n",
       "         [1.73157354e-01],\n",
       "         [7.22393943e-01],\n",
       "         [7.22393943e-01],\n",
       "         [4.55867150e-02],\n",
       "         [4.55867150e-02],\n",
       "         [1.79601955e-01],\n",
       "         [1.79601955e-01],\n",
       "         [8.71799466e-02],\n",
       "         [8.71799466e-02],\n",
       "         [3.17477599e-01],\n",
       "         [3.17477599e-01],\n",
       "         [4.44895434e-01],\n",
       "         [4.44895434e-01],\n",
       "         [8.81326532e-01],\n",
       "         [8.81326532e-01],\n",
       "         [1.16859583e-01],\n",
       "         [1.16859583e-01],\n",
       "         [2.77488086e-01],\n",
       "         [2.77488086e-01],\n",
       "         [2.84050630e-01],\n",
       "         [2.84050630e-01],\n",
       "         [8.01367233e-01],\n",
       "         [8.01367233e-01],\n",
       "         [4.40104208e-01],\n",
       "         [4.40104208e-01],\n",
       "         [5.13930808e-01],\n",
       "         [5.13930808e-01],\n",
       "         [1.98122874e-02],\n",
       "         [1.98122874e-02],\n",
       "         [4.84112534e-01],\n",
       "         [4.84112534e-01],\n",
       "         [9.85573012e-01],\n",
       "         [9.85573012e-01],\n",
       "         [5.99656239e-01],\n",
       "         [5.99656239e-01],\n",
       "         [3.73164410e-01],\n",
       "         [3.73164410e-01],\n",
       "         [5.54250907e-01],\n",
       "         [5.54250907e-01],\n",
       "         [1.51317127e-01],\n",
       "         [1.51317127e-01],\n",
       "         [8.51229837e-01],\n",
       "         [8.51229837e-01],\n",
       "         [6.40764257e-01],\n",
       "         [6.40764257e-01],\n",
       "         [7.34135418e-01],\n",
       "         [7.34135418e-01],\n",
       "         [6.05255410e-01],\n",
       "         [6.05255410e-01],\n",
       "         [9.46240858e-03],\n",
       "         [9.46240858e-03],\n",
       "         [2.16747430e-01],\n",
       "         [2.16747430e-01],\n",
       "         [4.58528130e-01],\n",
       "         [4.58528130e-01],\n",
       "         [3.52802053e-01],\n",
       "         [3.52802053e-01],\n",
       "         [9.88618334e-01],\n",
       "         [9.88618334e-01],\n",
       "         [1.36557823e-01],\n",
       "         [1.36557823e-01],\n",
       "         [4.45393243e-01],\n",
       "         [4.45393243e-01],\n",
       "         [8.31314460e-01],\n",
       "         [8.31314460e-01],\n",
       "         [3.80207873e-02],\n",
       "         [3.80207873e-02],\n",
       "         [8.94645743e-01],\n",
       "         [8.94645743e-01],\n",
       "         [8.47611299e-01],\n",
       "         [8.47611299e-01],\n",
       "         [6.26143204e-01],\n",
       "         [6.26143204e-01],\n",
       "         [5.54814615e-01],\n",
       "         [5.54814615e-01],\n",
       "         [1.74164705e-01],\n",
       "         [1.74164705e-01],\n",
       "         [4.44230184e-02],\n",
       "         [4.44230184e-02],\n",
       "         [2.11342596e-01],\n",
       "         [2.11342596e-01],\n",
       "         [4.94394523e-01],\n",
       "         [4.94394523e-01],\n",
       "         [4.80419318e-02],\n",
       "         [4.80419318e-02],\n",
       "         [5.34274919e-01],\n",
       "         [5.34274919e-01],\n",
       "         [8.98520104e-01],\n",
       "         [8.98520104e-01],\n",
       "         [9.32731922e-01],\n",
       "         [9.32731922e-01],\n",
       "         [3.63515398e-01],\n",
       "         [3.63515398e-01],\n",
       "         [1.10378725e-01],\n",
       "         [1.10378725e-01],\n",
       "         [3.12027905e-01],\n",
       "         [3.12027905e-01],\n",
       "         [8.48791613e-01],\n",
       "         [8.48791613e-01],\n",
       "         [3.41123448e-01],\n",
       "         [3.41123448e-01],\n",
       "         [7.71877045e-01],\n",
       "         [7.71877045e-01],\n",
       "         [1.69226688e-01],\n",
       "         [1.69226688e-01],\n",
       "         [7.55709879e-01],\n",
       "         [7.55709879e-01],\n",
       "         [7.27961995e-01],\n",
       "         [7.27961995e-01],\n",
       "         [5.00079844e-01],\n",
       "         [5.00079844e-01],\n",
       "         [2.03304213e-01],\n",
       "         [2.03304213e-01],\n",
       "         [3.87043086e-01],\n",
       "         [3.87043086e-01],\n",
       "         [9.77593446e-01],\n",
       "         [9.77593446e-01],\n",
       "         [8.54170133e-01],\n",
       "         [8.54170133e-01],\n",
       "         [9.25371002e-01],\n",
       "         [9.25371002e-01]])}}"
      ]
     },
     "execution_count": 1,
     "metadata": {},
     "output_type": "execute_result"
    }
   ],
   "source": [
    "ds = load_by_id(run_id_a)\n",
    "ds.get_parameter_data('x1')"
   ]
  },
  {
   "cell_type": "code",
   "execution_count": null,
   "metadata": {},
   "outputs": [],
   "source": []
  }
 ],
 "metadata": {
  "kernelspec": {
   "display_name": "Python 3",
   "language": "python",
   "name": "python3"
  },
  "language_info": {
   "codemirror_mode": {
    "name": "ipython",
    "version": 3
   },
   "file_extension": ".py",
   "mimetype": "text/x-python",
   "name": "python",
   "nbconvert_exporter": "python",
   "pygments_lexer": "ipython3",
   "version": "3.7.9"
  },
  "nbsphinx": {
   "timeout": 600
  },
  "toc": {
   "base_numbering": 1,
   "nav_menu": {},
   "number_sections": true,
   "sideBar": true,
   "skip_h1_title": false,
   "title_cell": "Table of Contents",
   "title_sidebar": "Contents",
   "toc_cell": false,
   "toc_position": {},
   "toc_section_display": true,
   "toc_window_display": false
  },
  "varInspector": {
   "cols": {
    "lenName": 16,
    "lenType": 16,
    "lenVar": 40
   },
   "kernels_config": {
    "python": {
     "delete_cmd_postfix": "",
     "delete_cmd_prefix": "del ",
     "library": "var_list.py",
     "varRefreshCmd": "print(var_dic_list())"
    },
    "r": {
     "delete_cmd_postfix": ") ",
     "delete_cmd_prefix": "rm(",
     "library": "var_list.r",
     "varRefreshCmd": "cat(var_dic_list()) "
    }
   },
   "types_to_exclude": [
    "module",
    "function",
    "builtin_function_or_method",
    "instance",
    "_Feature"
   ],
   "window_display": false
  }
 },
 "nbformat": 4,
 "nbformat_minor": 2
}
