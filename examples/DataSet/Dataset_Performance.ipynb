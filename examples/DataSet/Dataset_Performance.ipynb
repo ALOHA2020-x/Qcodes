{
 "cells": [
  {
   "cell_type": "markdown",
   "metadata": {},
   "source": [
    "# DataSet Performance\n",
    "\n",
    "This notebook shows the trade-off between inserting data into a database row-by-row and as binary blobs. Inserting the data row-by-row means that we have direct access to all the data and may perform queries directly on the values of the data. On the other hand, as we shall see, this is much slower than inserting the data directly as binary blobs."
   ]
  },
  {
   "cell_type": "markdown",
   "metadata": {},
   "source": [
    "First, we choose a new location for the database to ensure that we don't add a bunch of benchmarking data to the default one."
   ]
  },
  {
   "cell_type": "code",
   "execution_count": 1,
   "metadata": {
    "execution": {
     "iopub.execute_input": "2021-04-13T13:51:27.080288Z",
     "iopub.status.busy": "2021-04-13T13:51:27.079620Z",
     "iopub.status.idle": "2021-04-13T13:51:28.186305Z",
     "shell.execute_reply": "2021-04-13T13:51:28.190853Z"
    }
   },
   "outputs": [
    {
     "name": "stdout",
     "output_type": "stream",
     "text": [
      "Logging hadn't been started.\n",
      "Activating auto-logging. Current session state plus future input saved.\n",
      "Filename       : /home/runner/.qcodes/logs/command_history.log\n",
      "Mode           : append\n",
      "Output logging : True\n",
      "Raw input log  : False\n",
      "Timestamping   : True\n",
      "State          : active\n"
     ]
    },
    {
     "name": "stdout",
     "output_type": "stream",
     "text": [
      "Qcodes Logfile : /home/runner/.qcodes/logs/210413-4435-qcodes.log\n"
     ]
    }
   ],
   "source": [
    "import os\n",
    "cwd = os.getcwd()\n",
    "import qcodes as qc\n",
    "qc.config[\"core\"][\"db_location\"] = os.path.join(cwd, 'testing.db')\n"
   ]
  },
  {
   "cell_type": "code",
   "execution_count": 2,
   "metadata": {
    "execution": {
     "iopub.execute_input": "2021-04-13T13:51:28.197951Z",
     "iopub.status.busy": "2021-04-13T13:51:28.196999Z",
     "iopub.status.idle": "2021-04-13T13:51:28.452591Z",
     "shell.execute_reply": "2021-04-13T13:51:28.451608Z"
    }
   },
   "outputs": [],
   "source": [
    "%matplotlib inline\n",
    "import time\n",
    "import matplotlib.pyplot as plt\n",
    "import numpy as np\n",
    "\n",
    "import qcodes as qc\n",
    "from qcodes.instrument.parameter import ManualParameter\n",
    "from qcodes.dataset.experiment_container import (Experiment,\n",
    "                                                 load_last_experiment,\n",
    "                                                 new_experiment)\n",
    "from qcodes.dataset.sqlite.database import initialise_database\n",
    "from qcodes import load_or_create_experiment\n",
    "from qcodes.dataset.measurements import Measurement"
   ]
  },
  {
   "cell_type": "code",
   "execution_count": 3,
   "metadata": {
    "execution": {
     "iopub.execute_input": "2021-04-13T13:51:28.457070Z",
     "iopub.status.busy": "2021-04-13T13:51:28.456255Z",
     "iopub.status.idle": "2021-04-13T13:51:28.543218Z",
     "shell.execute_reply": "2021-04-13T13:51:28.543849Z"
    }
   },
   "outputs": [
    {
     "name": "stdout",
     "output_type": "stream",
     "text": [
      "\r",
      "0it [00:00, ?it/s]"
     ]
    },
    {
     "name": "stdout",
     "output_type": "stream",
     "text": [
      "\r",
      "Upgrading database; v0 -> v1: : 0it [00:00, ?it/s]"
     ]
    },
    {
     "name": "stdout",
     "output_type": "stream",
     "text": [
      "\r",
      "Upgrading database; v0 -> v1: : 0it [00:00, ?it/s]"
     ]
    },
    {
     "name": "stdout",
     "output_type": "stream",
     "text": [
      "\n",
      "\r",
      "  0%|          | 0/1 [00:00<?, ?it/s]"
     ]
    },
    {
     "name": "stdout",
     "output_type": "stream",
     "text": [
      "\r",
      "Upgrading database; v1 -> v2:   0%|          | 0/1 [00:00<?, ?it/s]"
     ]
    },
    {
     "name": "stdout",
     "output_type": "stream",
     "text": [
      "\r",
      "Upgrading database; v1 -> v2: 100%|██████████| 1/1 [00:00<00:00, 534.24it/s]"
     ]
    },
    {
     "name": "stdout",
     "output_type": "stream",
     "text": [
      "\n",
      "\r",
      "0it [00:00, ?it/s]"
     ]
    },
    {
     "name": "stdout",
     "output_type": "stream",
     "text": [
      "\r",
      "Upgrading database; v2 -> v3: : 0it [00:00, ?it/s]"
     ]
    },
    {
     "name": "stdout",
     "output_type": "stream",
     "text": [
      "\r",
      "Upgrading database; v2 -> v3: : 0it [00:00, ?it/s]"
     ]
    },
    {
     "name": "stdout",
     "output_type": "stream",
     "text": [
      "\n",
      "\r",
      "0it [00:00, ?it/s]"
     ]
    },
    {
     "name": "stdout",
     "output_type": "stream",
     "text": [
      "\r",
      "Upgrading database; v3 -> v4: : 0it [00:00, ?it/s]"
     ]
    },
    {
     "name": "stdout",
     "output_type": "stream",
     "text": [
      "\r",
      "Upgrading database; v3 -> v4: : 0it [00:00, ?it/s]"
     ]
    },
    {
     "name": "stdout",
     "output_type": "stream",
     "text": [
      "\n",
      "\r",
      "  0%|          | 0/1 [00:00<?, ?it/s]"
     ]
    },
    {
     "name": "stdout",
     "output_type": "stream",
     "text": [
      "\r",
      "Upgrading database; v4 -> v5:   0%|          | 0/1 [00:00<?, ?it/s]"
     ]
    },
    {
     "name": "stdout",
     "output_type": "stream",
     "text": [
      "\r",
      "Upgrading database; v4 -> v5: 100%|██████████| 1/1 [00:00<00:00, 654.03it/s]"
     ]
    },
    {
     "name": "stdout",
     "output_type": "stream",
     "text": [
      "\n",
      "\r",
      "0it [00:00, ?it/s]"
     ]
    },
    {
     "name": "stdout",
     "output_type": "stream",
     "text": [
      "\r",
      "Upgrading database; v5 -> v6: : 0it [00:00, ?it/s]"
     ]
    },
    {
     "name": "stdout",
     "output_type": "stream",
     "text": [
      "\r",
      "Upgrading database; v5 -> v6: : 0it [00:00, ?it/s]"
     ]
    },
    {
     "name": "stdout",
     "output_type": "stream",
     "text": [
      "\n",
      "\r",
      "  0%|          | 0/1 [00:00<?, ?it/s]"
     ]
    },
    {
     "name": "stdout",
     "output_type": "stream",
     "text": [
      "\r",
      "Upgrading database; v6 -> v7:   0%|          | 0/1 [00:00<?, ?it/s]"
     ]
    },
    {
     "name": "stdout",
     "output_type": "stream",
     "text": [
      "\r",
      "Upgrading database; v6 -> v7: 100%|██████████| 1/1 [00:00<00:00, 249.75it/s]"
     ]
    },
    {
     "name": "stdout",
     "output_type": "stream",
     "text": [
      "\n",
      "\r",
      "  0%|          | 0/1 [00:00<?, ?it/s]"
     ]
    },
    {
     "name": "stdout",
     "output_type": "stream",
     "text": [
      "\r",
      "Upgrading database; v7 -> v8:   0%|          | 0/1 [00:00<?, ?it/s]"
     ]
    },
    {
     "name": "stdout",
     "output_type": "stream",
     "text": [
      "\r",
      "Upgrading database; v7 -> v8: 100%|██████████| 1/1 [00:00<00:00, 690.99it/s]"
     ]
    },
    {
     "name": "stdout",
     "output_type": "stream",
     "text": [
      "\n",
      "\r",
      "  0%|          | 0/1 [00:00<?, ?it/s]"
     ]
    },
    {
     "name": "stdout",
     "output_type": "stream",
     "text": [
      "\r",
      "Upgrading database; v8 -> v9:   0%|          | 0/1 [00:00<?, ?it/s]"
     ]
    },
    {
     "name": "stdout",
     "output_type": "stream",
     "text": [
      "\r",
      "Upgrading database; v8 -> v9: 100%|██████████| 1/1 [00:00<00:00, 646.97it/s]"
     ]
    },
    {
     "name": "stdout",
     "output_type": "stream",
     "text": [
      "\n"
     ]
    }
   ],
   "source": [
    "initialise_database()\n",
    "exp = load_or_create_experiment(experiment_name='tutorial_exp', sample_name=\"no sample\")"
   ]
  },
  {
   "cell_type": "markdown",
   "metadata": {},
   "source": [
    "Here, we define a simple function to benchmark the time it takes to insert n points with either numeric or array data type.\n",
    "We will compare both the time used to call ``add_result`` and the time used for the full measurement."
   ]
  },
  {
   "cell_type": "code",
   "execution_count": 4,
   "metadata": {
    "execution": {
     "iopub.execute_input": "2021-04-13T13:51:28.554739Z",
     "iopub.status.busy": "2021-04-13T13:51:28.553254Z",
     "iopub.status.idle": "2021-04-13T13:51:28.555452Z",
     "shell.execute_reply": "2021-04-13T13:51:28.555992Z"
    }
   },
   "outputs": [],
   "source": [
    "def insert_data(paramtype, npoints, nreps=1):\n",
    "\n",
    "    meas = Measurement(exp=exp)\n",
    "\n",
    "    x1 = ManualParameter('x1')\n",
    "    x2 = ManualParameter('x2')\n",
    "    x3 = ManualParameter('x3')\n",
    "    y1 = ManualParameter('y1')\n",
    "    y2 = ManualParameter('y2')\n",
    "\n",
    "    meas.register_parameter(x1, paramtype=paramtype)\n",
    "    meas.register_parameter(x2, paramtype=paramtype)\n",
    "    meas.register_parameter(x3, paramtype=paramtype)\n",
    "    meas.register_parameter(y1, setpoints=[x1, x2, x3],\n",
    "                            paramtype=paramtype)\n",
    "    meas.register_parameter(y2, setpoints=[x1, x2, x3],\n",
    "                            paramtype=paramtype)\n",
    "    start = time.perf_counter()\n",
    "    with meas.run() as datasaver:\n",
    "        start_adding = time.perf_counter()\n",
    "        for i in range(nreps):\n",
    "            datasaver.add_result((x1, np.random.rand(npoints)),\n",
    "                                 (x2, np.random.rand(npoints)),\n",
    "                                 (x3, np.random.rand(npoints)),\n",
    "                                 (y1, np.random.rand(npoints)),\n",
    "                                 (y2, np.random.rand(npoints)))\n",
    "        stop_adding = time.perf_counter()\n",
    "        run_id = datasaver.run_id\n",
    "    stop = time.perf_counter()\n",
    "    tot_time = stop - start\n",
    "    add_time = stop_adding - start_adding\n",
    "    return tot_time, add_time, run_id"
   ]
  },
  {
   "cell_type": "markdown",
   "metadata": {},
   "source": [
    "## Comparison between numeric/array data and binary blob"
   ]
  },
  {
   "cell_type": "markdown",
   "metadata": {},
   "source": [
    "### Case1: Short experiment time"
   ]
  },
  {
   "cell_type": "code",
   "execution_count": 5,
   "metadata": {
    "execution": {
     "iopub.execute_input": "2021-04-13T13:51:28.563938Z",
     "iopub.status.busy": "2021-04-13T13:51:28.562401Z",
     "iopub.status.idle": "2021-04-13T13:51:29.464901Z",
     "shell.execute_reply": "2021-04-13T13:51:29.463862Z"
    }
   },
   "outputs": [
    {
     "name": "stdout",
     "output_type": "stream",
     "text": [
      "Starting experimental run with id: 1. \n",
      "Starting experimental run with id: 2. \n",
      "Starting experimental run with id: 3. \n",
      "Starting experimental run with id: 4. \n"
     ]
    },
    {
     "name": "stdout",
     "output_type": "stream",
     "text": [
      "Starting experimental run with id: 5. \n"
     ]
    },
    {
     "name": "stdout",
     "output_type": "stream",
     "text": [
      "Starting experimental run with id: 6. \n"
     ]
    },
    {
     "name": "stdout",
     "output_type": "stream",
     "text": [
      "Starting experimental run with id: 7. \n"
     ]
    },
    {
     "name": "stdout",
     "output_type": "stream",
     "text": [
      "Starting experimental run with id: 8. \n",
      "Starting experimental run with id: 9. \n"
     ]
    },
    {
     "name": "stdout",
     "output_type": "stream",
     "text": [
      "Starting experimental run with id: 10. \n",
      "Starting experimental run with id: 11. \n"
     ]
    },
    {
     "name": "stdout",
     "output_type": "stream",
     "text": [
      "Starting experimental run with id: 12. \n",
      "Starting experimental run with id: 13. \n"
     ]
    },
    {
     "name": "stdout",
     "output_type": "stream",
     "text": [
      "Starting experimental run with id: 14. \n"
     ]
    }
   ],
   "source": [
    "sizes = [1,500,1000,2000,3000,4000,5000]\n",
    "t_numeric = []\n",
    "t_numeric_add = []\n",
    "t_array = []\n",
    "t_array_add = []\n",
    "for size in sizes:\n",
    "    tn, tna, run_id_n =  insert_data('numeric', size)\n",
    "    t_numeric.append(tn)\n",
    "    t_numeric_add.append(tna)\n",
    "\n",
    "    ta, taa, run_id_a =  insert_data('array', size)\n",
    "    t_array.append(ta)\n",
    "    t_array_add.append(taa)"
   ]
  },
  {
   "cell_type": "code",
   "execution_count": 6,
   "metadata": {
    "execution": {
     "iopub.execute_input": "2021-04-13T13:51:29.489023Z",
     "iopub.status.busy": "2021-04-13T13:51:29.485813Z",
     "iopub.status.idle": "2021-04-13T13:51:29.697935Z",
     "shell.execute_reply": "2021-04-13T13:51:29.698930Z"
    }
   },
   "outputs": [
    {
     "data": {
      "image/png": "[encoded data removed]",
      "text/plain": [
       "<Figure size 432x288 with 1 Axes>"
      ]
     },
     "metadata": {
      "needs_background": "light"
     },
     "output_type": "display_data"
    }
   ],
   "source": [
    "fig, ax = plt.subplots(1,1)\n",
    "ax.plot(sizes, t_numeric, 'o-', label='Inserting row-by-row')\n",
    "ax.plot(sizes, t_numeric_add, 'o-', label='Inserting row-by-row: add_result only')\n",
    "ax.plot(sizes, t_array, 'd-', label='Inserting as binary blob')\n",
    "ax.plot(sizes, t_array_add, 'd-', label='Inserting as binary blob: add_result only')\n",
    "ax.legend()\n",
    "ax.set_xlabel('Array length')\n",
    "ax.set_ylabel('Time (s)')\n",
    "fig.tight_layout()"
   ]
  },
  {
   "cell_type": "markdown",
   "metadata": {},
   "source": [
    "As shown in the latter figure, the time to setup and and close the experiment is approximately 0.4 sec. In case of small array sizes, the difference between inserting values of data as arrays and inserting them row-by-row is relatively unimportant. At larger array sizes, i.e. above 10000 points, the cost of writing data as individual datapoints starts to become important.\n"
   ]
  },
  {
   "cell_type": "markdown",
   "metadata": {},
   "source": [
    "### Case2: Long experiment time "
   ]
  },
  {
   "cell_type": "code",
   "execution_count": 7,
   "metadata": {
    "execution": {
     "iopub.execute_input": "2021-04-13T13:51:29.707691Z",
     "iopub.status.busy": "2021-04-13T13:51:29.706440Z",
     "iopub.status.idle": "2021-04-13T13:52:26.848119Z",
     "shell.execute_reply": "2021-04-13T13:52:26.847538Z"
    }
   },
   "outputs": [
    {
     "name": "stdout",
     "output_type": "stream",
     "text": [
      "Starting experimental run with id: 15. \n",
      "Starting experimental run with id: 16. \n"
     ]
    },
    {
     "name": "stdout",
     "output_type": "stream",
     "text": [
      "Starting experimental run with id: 17. \n"
     ]
    },
    {
     "name": "stdout",
     "output_type": "stream",
     "text": [
      "Starting experimental run with id: 18. \n"
     ]
    },
    {
     "name": "stdout",
     "output_type": "stream",
     "text": [
      "Starting experimental run with id: 19. \n"
     ]
    },
    {
     "name": "stdout",
     "output_type": "stream",
     "text": [
      "Starting experimental run with id: 20. \n"
     ]
    },
    {
     "name": "stdout",
     "output_type": "stream",
     "text": [
      "Starting experimental run with id: 21. \n"
     ]
    },
    {
     "name": "stdout",
     "output_type": "stream",
     "text": [
      "Starting experimental run with id: 22. \n"
     ]
    },
    {
     "name": "stdout",
     "output_type": "stream",
     "text": [
      "Starting experimental run with id: 23. \n"
     ]
    },
    {
     "name": "stdout",
     "output_type": "stream",
     "text": [
      "Starting experimental run with id: 24. \n"
     ]
    },
    {
     "name": "stdout",
     "output_type": "stream",
     "text": [
      "Starting experimental run with id: 25. \n"
     ]
    },
    {
     "name": "stdout",
     "output_type": "stream",
     "text": [
      "Starting experimental run with id: 26. \n"
     ]
    },
    {
     "name": "stdout",
     "output_type": "stream",
     "text": [
      "Starting experimental run with id: 27. \n"
     ]
    },
    {
     "name": "stdout",
     "output_type": "stream",
     "text": [
      "Starting experimental run with id: 28. \n"
     ]
    }
   ],
   "source": [
    "sizes = [1,500,1000,2000,3000,4000,5000]\n",
    "nreps = 100\n",
    "t_numeric = []\n",
    "t_numeric_add = []\n",
    "t_numeric_run_ids = []\n",
    "t_array = []\n",
    "t_array_add = []\n",
    "t_array_run_ids = []\n",
    "for size in sizes:\n",
    "    tn, tna, run_id_n =  insert_data('numeric', size, nreps=nreps)\n",
    "    t_numeric.append(tn)\n",
    "    t_numeric_add.append(tna)\n",
    "    t_numeric_run_ids.append(run_id_n)\n",
    "\n",
    "    ta, taa, run_id_a =  insert_data('array', size, nreps=nreps)\n",
    "    t_array.append(ta)\n",
    "    t_array_add.append(taa)\n",
    "    t_array_run_ids.append(run_id_a)"
   ]
  },
  {
   "cell_type": "code",
   "execution_count": 8,
   "metadata": {
    "execution": {
     "iopub.execute_input": "2021-04-13T13:52:26.899089Z",
     "iopub.status.busy": "2021-04-13T13:52:26.897164Z",
     "iopub.status.idle": "2021-04-13T13:52:27.077732Z",
     "shell.execute_reply": "2021-04-13T13:52:27.078374Z"
    },
    "scrolled": true
   },
   "outputs": [
    {
     "data": {
      "image/png": "[encoded data removed]",
      "text/plain": [
       "<Figure size 432x288 with 1 Axes>"
      ]
     },
     "metadata": {
      "needs_background": "light"
     },
     "output_type": "display_data"
    }
   ],
   "source": [
    "fig, ax = plt.subplots(1,1)\n",
    "ax.plot(sizes, t_numeric, 'o-', label='Inserting row-by-row')\n",
    "ax.plot(sizes, t_numeric_add, 'o-', label='Inserting row-by-row: add_result only')\n",
    "ax.plot(sizes, t_array, 'd-', label='Inserting as binary blob')\n",
    "ax.plot(sizes, t_array_add, 'd-', label='Inserting as binary blob: add_result only')\n",
    "ax.legend()\n",
    "ax.set_xlabel('Array length')\n",
    "ax.set_ylabel('Time (s)')\n",
    "fig.tight_layout()"
   ]
  },
  {
   "cell_type": "markdown",
   "metadata": {},
   "source": [
    "However, as we increase the length of the experiment, as seen here by repeating the insertion 100 times, we see a big difference between inserting values of the data row-by-row and inserting it as a binary blob."
   ]
  },
  {
   "cell_type": "markdown",
   "metadata": {},
   "source": [
    "## Loading the data "
   ]
  },
  {
   "cell_type": "code",
   "execution_count": 9,
   "metadata": {
    "execution": {
     "iopub.execute_input": "2021-04-13T13:52:27.083053Z",
     "iopub.status.busy": "2021-04-13T13:52:27.082466Z",
     "iopub.status.idle": "2021-04-13T13:52:27.084821Z",
     "shell.execute_reply": "2021-04-13T13:52:27.085342Z"
    }
   },
   "outputs": [],
   "source": [
    "from qcodes.dataset.data_set import load_by_id\n",
    "from qcodes.dataset.data_export import get_data_by_id"
   ]
  },
  {
   "cell_type": "markdown",
   "metadata": {},
   "source": [
    "As usual you can load the data by using the ``load_by_id`` function but you will notice that the different storage methods\n",
    "are reflected in shape of the data as it is retrieved. "
   ]
  },
  {
   "cell_type": "code",
   "execution_count": 10,
   "metadata": {
    "execution": {
     "iopub.execute_input": "2021-04-13T13:52:27.090360Z",
     "iopub.status.busy": "2021-04-13T13:52:27.088745Z",
     "iopub.status.idle": "2021-04-13T13:52:27.091095Z",
     "shell.execute_reply": "2021-04-13T13:52:27.091574Z"
    }
   },
   "outputs": [],
   "source": [
    "run_id_n = t_numeric_run_ids[0]\n",
    "run_id_a = t_array_run_ids[0]"
   ]
  },
  {
   "cell_type": "code",
   "execution_count": 11,
   "metadata": {
    "execution": {
     "iopub.execute_input": "2021-04-13T13:52:27.094929Z",
     "iopub.status.busy": "2021-04-13T13:52:27.094364Z",
     "iopub.status.idle": "2021-04-13T13:52:27.146439Z",
     "shell.execute_reply": "2021-04-13T13:52:27.147269Z"
    },
    "scrolled": true
   },
   "outputs": [
    {
     "data": {
      "text/plain": [
       "{'x1': {'x1': array([0.2311033 , 0.2311033 , 0.26873493, 0.26873493, 0.75389481,\n",
       "         0.75389481, 0.80788077, 0.80788077, 0.80159856, 0.80159856,\n",
       "         0.27431005, 0.27431005, 0.78979535, 0.78979535, 0.0080577 ,\n",
       "         0.0080577 , 0.16736385, 0.16736385, 0.34178075, 0.34178075,\n",
       "         0.49069   , 0.49069   , 0.16778581, 0.16778581, 0.26970359,\n",
       "         0.26970359, 0.96616088, 0.96616088, 0.77075236, 0.77075236,\n",
       "         0.91767712, 0.91767712, 0.71792741, 0.71792741, 0.75065195,\n",
       "         0.75065195, 0.16458408, 0.16458408, 0.97151836, 0.97151836,\n",
       "         0.06622062, 0.06622062, 0.96851375, 0.96851375, 0.8488958 ,\n",
       "         0.8488958 , 0.89244402, 0.89244402, 0.61849659, 0.61849659,\n",
       "         0.02626646, 0.02626646, 0.92506084, 0.92506084, 0.04305012,\n",
       "         0.04305012, 0.48504985, 0.48504985, 0.40698876, 0.40698876,\n",
       "         0.56505576, 0.56505576, 0.4906145 , 0.4906145 , 0.02036156,\n",
       "         0.02036156, 0.38376651, 0.38376651, 0.49150738, 0.49150738,\n",
       "         0.05324085, 0.05324085, 0.57479709, 0.57479709, 0.77277414,\n",
       "         0.77277414, 0.80015381, 0.80015381, 0.56900719, 0.56900719,\n",
       "         0.20509989, 0.20509989, 0.43277785, 0.43277785, 0.8935335 ,\n",
       "         0.8935335 , 0.7945236 , 0.7945236 , 0.58203216, 0.58203216,\n",
       "         0.83417716, 0.83417716, 0.22034808, 0.22034808, 0.9843096 ,\n",
       "         0.9843096 , 0.51152475, 0.51152475, 0.21770226, 0.21770226,\n",
       "         0.70202569, 0.70202569, 0.7850224 , 0.7850224 , 0.85257301,\n",
       "         0.85257301, 0.07564513, 0.07564513, 0.55092632, 0.55092632,\n",
       "         0.4707802 , 0.4707802 , 0.31439174, 0.31439174, 0.25697562,\n",
       "         0.25697562, 0.15975928, 0.15975928, 0.23067946, 0.23067946,\n",
       "         0.9771135 , 0.9771135 , 0.07164267, 0.07164267, 0.17800454,\n",
       "         0.17800454, 0.33806142, 0.33806142, 0.7304471 , 0.7304471 ,\n",
       "         0.47492688, 0.47492688, 0.11144003, 0.11144003, 0.54316045,\n",
       "         0.54316045, 0.95218572, 0.95218572, 0.75337656, 0.75337656,\n",
       "         0.89328057, 0.89328057, 0.42661202, 0.42661202, 0.17205326,\n",
       "         0.17205326, 0.09951434, 0.09951434, 0.27480227, 0.27480227,\n",
       "         0.10820334, 0.10820334, 0.83277886, 0.83277886, 0.3144774 ,\n",
       "         0.3144774 , 0.80140897, 0.80140897, 0.93497527, 0.93497527,\n",
       "         0.83141007, 0.83141007, 0.3621804 , 0.3621804 , 0.48510166,\n",
       "         0.48510166, 0.44828016, 0.44828016, 0.67695661, 0.67695661,\n",
       "         0.76849077, 0.76849077, 0.23199619, 0.23199619, 0.62084714,\n",
       "         0.62084714, 0.62344738, 0.62344738, 0.58345842, 0.58345842,\n",
       "         0.2154675 , 0.2154675 , 0.80332017, 0.80332017, 0.35028484,\n",
       "         0.35028484, 0.32913917, 0.32913917, 0.68174962, 0.68174962,\n",
       "         0.196258  , 0.196258  , 0.55814186, 0.55814186, 0.67971143,\n",
       "         0.67971143, 0.40966019, 0.40966019, 0.34076765, 0.34076765])}}"
      ]
     },
     "execution_count": 1,
     "metadata": {},
     "output_type": "execute_result"
    }
   ],
   "source": [
    "ds = load_by_id(run_id_n)\n",
    "ds.get_parameter_data('x1')"
   ]
  },
  {
   "cell_type": "markdown",
   "metadata": {},
   "source": [
    "And a dataset stored as binary arrays"
   ]
  },
  {
   "cell_type": "code",
   "execution_count": 12,
   "metadata": {
    "execution": {
     "iopub.execute_input": "2021-04-13T13:52:27.151225Z",
     "iopub.status.busy": "2021-04-13T13:52:27.150681Z",
     "iopub.status.idle": "2021-04-13T13:52:27.222955Z",
     "shell.execute_reply": "2021-04-13T13:52:27.222431Z"
    },
    "scrolled": true
   },
   "outputs": [
    {
     "data": {
      "text/plain": [
       "{'x1': {'x1': array([[0.27096889],\n",
       "         [0.27096889],\n",
       "         [0.06710704],\n",
       "         [0.06710704],\n",
       "         [0.02162703],\n",
       "         [0.02162703],\n",
       "         [0.33728688],\n",
       "         [0.33728688],\n",
       "         [0.33411117],\n",
       "         [0.33411117],\n",
       "         [0.0032252 ],\n",
       "         [0.0032252 ],\n",
       "         [0.8827712 ],\n",
       "         [0.8827712 ],\n",
       "         [0.91969163],\n",
       "         [0.91969163],\n",
       "         [0.41126418],\n",
       "         [0.41126418],\n",
       "         [0.39277697],\n",
       "         [0.39277697],\n",
       "         [0.24062444],\n",
       "         [0.24062444],\n",
       "         [0.80749135],\n",
       "         [0.80749135],\n",
       "         [0.86906586],\n",
       "         [0.86906586],\n",
       "         [0.63935562],\n",
       "         [0.63935562],\n",
       "         [0.52990451],\n",
       "         [0.52990451],\n",
       "         [0.85660169],\n",
       "         [0.85660169],\n",
       "         [0.60349589],\n",
       "         [0.60349589],\n",
       "         [0.62040465],\n",
       "         [0.62040465],\n",
       "         [0.24890813],\n",
       "         [0.24890813],\n",
       "         [0.18346008],\n",
       "         [0.18346008],\n",
       "         [0.46011292],\n",
       "         [0.46011292],\n",
       "         [0.9522701 ],\n",
       "         [0.9522701 ],\n",
       "         [0.78788761],\n",
       "         [0.78788761],\n",
       "         [0.05329424],\n",
       "         [0.05329424],\n",
       "         [0.63373969],\n",
       "         [0.63373969],\n",
       "         [0.61734005],\n",
       "         [0.61734005],\n",
       "         [0.55652985],\n",
       "         [0.55652985],\n",
       "         [0.97144618],\n",
       "         [0.97144618],\n",
       "         [0.88385743],\n",
       "         [0.88385743],\n",
       "         [0.42434882],\n",
       "         [0.42434882],\n",
       "         [0.87380603],\n",
       "         [0.87380603],\n",
       "         [0.45305676],\n",
       "         [0.45305676],\n",
       "         [0.13848875],\n",
       "         [0.13848875],\n",
       "         [0.3150969 ],\n",
       "         [0.3150969 ],\n",
       "         [0.65844121],\n",
       "         [0.65844121],\n",
       "         [0.05799574],\n",
       "         [0.05799574],\n",
       "         [0.1160516 ],\n",
       "         [0.1160516 ],\n",
       "         [0.05503358],\n",
       "         [0.05503358],\n",
       "         [0.77391117],\n",
       "         [0.77391117],\n",
       "         [0.58589424],\n",
       "         [0.58589424],\n",
       "         [0.59104759],\n",
       "         [0.59104759],\n",
       "         [0.2081633 ],\n",
       "         [0.2081633 ],\n",
       "         [0.24210255],\n",
       "         [0.24210255],\n",
       "         [0.95210998],\n",
       "         [0.95210998],\n",
       "         [0.01496032],\n",
       "         [0.01496032],\n",
       "         [0.82188308],\n",
       "         [0.82188308],\n",
       "         [0.31889516],\n",
       "         [0.31889516],\n",
       "         [0.58670951],\n",
       "         [0.58670951],\n",
       "         [0.63507637],\n",
       "         [0.63507637],\n",
       "         [0.4485308 ],\n",
       "         [0.4485308 ],\n",
       "         [0.11035355],\n",
       "         [0.11035355],\n",
       "         [0.36949568],\n",
       "         [0.36949568],\n",
       "         [0.79427191],\n",
       "         [0.79427191],\n",
       "         [0.7310155 ],\n",
       "         [0.7310155 ],\n",
       "         [0.76673612],\n",
       "         [0.76673612],\n",
       "         [0.32142216],\n",
       "         [0.32142216],\n",
       "         [0.73996049],\n",
       "         [0.73996049],\n",
       "         [0.55590407],\n",
       "         [0.55590407],\n",
       "         [0.11546401],\n",
       "         [0.11546401],\n",
       "         [0.38359379],\n",
       "         [0.38359379],\n",
       "         [0.97871333],\n",
       "         [0.97871333],\n",
       "         [0.85663955],\n",
       "         [0.85663955],\n",
       "         [0.85396925],\n",
       "         [0.85396925],\n",
       "         [0.36087101],\n",
       "         [0.36087101],\n",
       "         [0.67518845],\n",
       "         [0.67518845],\n",
       "         [0.7705965 ],\n",
       "         [0.7705965 ],\n",
       "         [0.19072436],\n",
       "         [0.19072436],\n",
       "         [0.06772247],\n",
       "         [0.06772247],\n",
       "         [0.926553  ],\n",
       "         [0.926553  ],\n",
       "         [0.62048733],\n",
       "         [0.62048733],\n",
       "         [0.84309068],\n",
       "         [0.84309068],\n",
       "         [0.27936145],\n",
       "         [0.27936145],\n",
       "         [0.73313146],\n",
       "         [0.73313146],\n",
       "         [0.80340295],\n",
       "         [0.80340295],\n",
       "         [0.55252831],\n",
       "         [0.55252831],\n",
       "         [0.11061494],\n",
       "         [0.11061494],\n",
       "         [0.6550479 ],\n",
       "         [0.6550479 ],\n",
       "         [0.55508609],\n",
       "         [0.55508609],\n",
       "         [0.62450088],\n",
       "         [0.62450088],\n",
       "         [0.84496768],\n",
       "         [0.84496768],\n",
       "         [0.45110216],\n",
       "         [0.45110216],\n",
       "         [0.95972615],\n",
       "         [0.95972615],\n",
       "         [0.9311697 ],\n",
       "         [0.9311697 ],\n",
       "         [0.47591128],\n",
       "         [0.47591128],\n",
       "         [0.54744365],\n",
       "         [0.54744365],\n",
       "         [0.25806327],\n",
       "         [0.25806327],\n",
       "         [0.62539925],\n",
       "         [0.62539925],\n",
       "         [0.03649702],\n",
       "         [0.03649702],\n",
       "         [0.04097218],\n",
       "         [0.04097218],\n",
       "         [0.12624815],\n",
       "         [0.12624815],\n",
       "         [0.04345703],\n",
       "         [0.04345703],\n",
       "         [0.58861663],\n",
       "         [0.58861663],\n",
       "         [0.66811739],\n",
       "         [0.66811739],\n",
       "         [0.3335873 ],\n",
       "         [0.3335873 ],\n",
       "         [0.48108883],\n",
       "         [0.48108883],\n",
       "         [0.19594126],\n",
       "         [0.19594126],\n",
       "         [0.50574753],\n",
       "         [0.50574753],\n",
       "         [0.7289493 ],\n",
       "         [0.7289493 ],\n",
       "         [0.90225041],\n",
       "         [0.90225041],\n",
       "         [0.77406959],\n",
       "         [0.77406959]])}}"
      ]
     },
     "execution_count": 1,
     "metadata": {},
     "output_type": "execute_result"
    }
   ],
   "source": [
    "ds = load_by_id(run_id_a)\n",
    "ds.get_parameter_data('x1')"
   ]
  },
  {
   "cell_type": "code",
   "execution_count": null,
   "metadata": {},
   "outputs": [],
   "source": []
  }
 ],
 "metadata": {
  "kernelspec": {
   "display_name": "Python 3",
   "language": "python",
   "name": "python3"
  },
  "language_info": {
   "codemirror_mode": {
    "name": "ipython",
    "version": 3
   },
   "file_extension": ".py",
   "mimetype": "text/x-python",
   "name": "python",
   "nbconvert_exporter": "python",
   "pygments_lexer": "ipython3",
   "version": "3.7.10"
  },
  "nbsphinx": {
   "timeout": 600
  },
  "toc": {
   "base_numbering": 1,
   "nav_menu": {},
   "number_sections": true,
   "sideBar": true,
   "skip_h1_title": false,
   "title_cell": "Table of Contents",
   "title_sidebar": "Contents",
   "toc_cell": false,
   "toc_position": {},
   "toc_section_display": true,
   "toc_window_display": false
  },
  "varInspector": {
   "cols": {
    "lenName": 16,
    "lenType": 16,
    "lenVar": 40
   },
   "kernels_config": {
    "python": {
     "delete_cmd_postfix": "",
     "delete_cmd_prefix": "del ",
     "library": "var_list.py",
     "varRefreshCmd": "print(var_dic_list())"
    },
    "r": {
     "delete_cmd_postfix": ") ",
     "delete_cmd_prefix": "rm(",
     "library": "var_list.r",
     "varRefreshCmd": "cat(var_dic_list()) "
    }
   },
   "types_to_exclude": [
    "module",
    "function",
    "builtin_function_or_method",
    "instance",
    "_Feature"
   ],
   "window_display": false
  }
 },
 "nbformat": 4,
 "nbformat_minor": 2
}
