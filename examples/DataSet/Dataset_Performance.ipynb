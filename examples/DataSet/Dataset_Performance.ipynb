{
 "cells": [
  {
   "cell_type": "markdown",
   "metadata": {},
   "source": [
    "# DataSet Performance\n",
    "\n",
    "This notebook shows the trade-off between inserting data into a database row-by-row and as binary blobs. Inserting the data row-by-row means that we have direct access to all the data and may perform queries directly on the values of the data. On the other hand, as we shall see, this is much slower than inserting the data directly as binary blobs."
   ]
  },
  {
   "cell_type": "markdown",
   "metadata": {},
   "source": [
    "First, we choose a new location for the database to ensure that we don't add a bunch of benchmarking data to the default one."
   ]
  },
  {
   "cell_type": "code",
   "execution_count": 1,
   "metadata": {
    "execution": {
     "iopub.execute_input": "2020-09-25T07:06:01.868165Z",
     "iopub.status.busy": "2020-09-25T07:06:01.867651Z",
     "iopub.status.idle": "2020-09-25T07:06:02.875106Z",
     "shell.execute_reply": "2020-09-25T07:06:02.875510Z"
    }
   },
   "outputs": [
    {
     "name": "stdout",
     "output_type": "stream",
     "text": [
      "Logging hadn't been started.\n",
      "Activating auto-logging. Current session state plus future input saved.\n",
      "Filename       : /home/vsts/.qcodes/logs/command_history.log\n",
      "Mode           : append\n",
      "Output logging : True\n",
      "Raw input log  : False\n",
      "Timestamping   : True\n",
      "State          : active\n"
     ]
    },
    {
     "name": "stdout",
     "output_type": "stream",
     "text": [
      "Qcodes Logfile : /home/vsts/.qcodes/logs/200925-18742-qcodes.log\n"
     ]
    }
   ],
   "source": [
    "import os\n",
    "cwd = os.getcwd()\n",
    "import qcodes as qc\n",
    "qc.config[\"core\"][\"db_location\"] = os.path.join(cwd, 'testing.db')\n"
   ]
  },
  {
   "cell_type": "code",
   "execution_count": 2,
   "metadata": {
    "execution": {
     "iopub.execute_input": "2020-09-25T07:06:02.882170Z",
     "iopub.status.busy": "2020-09-25T07:06:02.880269Z",
     "iopub.status.idle": "2020-09-25T07:06:03.040268Z",
     "shell.execute_reply": "2020-09-25T07:06:03.039268Z"
    }
   },
   "outputs": [],
   "source": [
    "%matplotlib inline\n",
    "import time\n",
    "import matplotlib.pyplot as plt\n",
    "import numpy as np\n",
    "\n",
    "import qcodes as qc\n",
    "from qcodes.instrument.parameter import ManualParameter\n",
    "from qcodes.dataset.experiment_container import (Experiment,\n",
    "                                                 load_last_experiment,\n",
    "                                                 new_experiment)\n",
    "from qcodes.dataset.sqlite.database import initialise_database\n",
    "from qcodes import load_or_create_experiment\n",
    "from qcodes.dataset.measurements import Measurement"
   ]
  },
  {
   "cell_type": "code",
   "execution_count": 3,
   "metadata": {
    "execution": {
     "iopub.execute_input": "2020-09-25T07:06:03.044080Z",
     "iopub.status.busy": "2020-09-25T07:06:03.043484Z",
     "iopub.status.idle": "2020-09-25T07:06:03.157601Z",
     "shell.execute_reply": "2020-09-25T07:06:03.156983Z"
    }
   },
   "outputs": [
    {
     "name": "stdout",
     "output_type": "stream",
     "text": [
      "\r",
      "0it [00:00, ?it/s]"
     ]
    },
    {
     "name": "stdout",
     "output_type": "stream",
     "text": [
      "\r",
      "Upgrading database; v0 -> v1: : 0it [00:00, ?it/s]"
     ]
    },
    {
     "name": "stdout",
     "output_type": "stream",
     "text": [
      "\r",
      "Upgrading database; v0 -> v1: : 0it [00:00, ?it/s]"
     ]
    },
    {
     "name": "stdout",
     "output_type": "stream",
     "text": [
      "\n",
      "\r",
      "  0%|          | 0/1 [00:00<?, ?it/s]"
     ]
    },
    {
     "name": "stdout",
     "output_type": "stream",
     "text": [
      "\r",
      "Upgrading database; v1 -> v2:   0%|          | 0/1 [00:00<?, ?it/s]"
     ]
    },
    {
     "name": "stdout",
     "output_type": "stream",
     "text": [
      "\r",
      "Upgrading database; v1 -> v2: 100%|██████████| 1/1 [00:00<00:00, 575.75it/s]"
     ]
    },
    {
     "name": "stdout",
     "output_type": "stream",
     "text": [
      "\n",
      "\r",
      "0it [00:00, ?it/s]"
     ]
    },
    {
     "name": "stdout",
     "output_type": "stream",
     "text": [
      "\r",
      "Upgrading database; v2 -> v3: : 0it [00:00, ?it/s]"
     ]
    },
    {
     "name": "stdout",
     "output_type": "stream",
     "text": [
      "\r",
      "Upgrading database; v2 -> v3: : 0it [00:00, ?it/s]"
     ]
    },
    {
     "name": "stdout",
     "output_type": "stream",
     "text": [
      "\n",
      "\r",
      "0it [00:00, ?it/s]"
     ]
    },
    {
     "name": "stdout",
     "output_type": "stream",
     "text": [
      "\r",
      "Upgrading database; v3 -> v4: : 0it [00:00, ?it/s]"
     ]
    },
    {
     "name": "stdout",
     "output_type": "stream",
     "text": [
      "\r",
      "Upgrading database; v3 -> v4: : 0it [00:00, ?it/s]"
     ]
    },
    {
     "name": "stdout",
     "output_type": "stream",
     "text": [
      "\n",
      "\r",
      "  0%|          | 0/1 [00:00<?, ?it/s]"
     ]
    },
    {
     "name": "stdout",
     "output_type": "stream",
     "text": [
      "\r",
      "Upgrading database; v4 -> v5:   0%|          | 0/1 [00:00<?, ?it/s]"
     ]
    },
    {
     "name": "stdout",
     "output_type": "stream",
     "text": [
      "\r",
      "Upgrading database; v4 -> v5: 100%|██████████| 1/1 [00:00<00:00, 353.26it/s]"
     ]
    },
    {
     "name": "stdout",
     "output_type": "stream",
     "text": [
      "\n",
      "\r",
      "0it [00:00, ?it/s]"
     ]
    },
    {
     "name": "stdout",
     "output_type": "stream",
     "text": [
      "\r",
      "Upgrading database; v5 -> v6: : 0it [00:00, ?it/s]"
     ]
    },
    {
     "name": "stdout",
     "output_type": "stream",
     "text": [
      "\r",
      "Upgrading database; v5 -> v6: : 0it [00:00, ?it/s]"
     ]
    },
    {
     "name": "stdout",
     "output_type": "stream",
     "text": [
      "\n",
      "\r",
      "  0%|          | 0/1 [00:00<?, ?it/s]"
     ]
    },
    {
     "name": "stdout",
     "output_type": "stream",
     "text": [
      "\r",
      "Upgrading database; v6 -> v7:   0%|          | 0/1 [00:00<?, ?it/s]"
     ]
    },
    {
     "name": "stdout",
     "output_type": "stream",
     "text": [
      "\r",
      "Upgrading database; v6 -> v7: 100%|██████████| 1/1 [00:00<00:00, 390.06it/s]"
     ]
    },
    {
     "name": "stdout",
     "output_type": "stream",
     "text": [
      "\n",
      "\r",
      "  0%|          | 0/1 [00:00<?, ?it/s]"
     ]
    },
    {
     "name": "stdout",
     "output_type": "stream",
     "text": [
      "\r",
      "Upgrading database; v7 -> v8:   0%|          | 0/1 [00:00<?, ?it/s]"
     ]
    },
    {
     "name": "stdout",
     "output_type": "stream",
     "text": [
      "\r",
      "Upgrading database; v7 -> v8: 100%|██████████| 1/1 [00:00<00:00, 404.43it/s]"
     ]
    },
    {
     "name": "stdout",
     "output_type": "stream",
     "text": [
      "\n",
      "\r",
      "  0%|          | 0/1 [00:00<?, ?it/s]"
     ]
    },
    {
     "name": "stdout",
     "output_type": "stream",
     "text": [
      "\r",
      "Upgrading database; v8 -> v9:   0%|          | 0/1 [00:00<?, ?it/s]"
     ]
    },
    {
     "name": "stdout",
     "output_type": "stream",
     "text": [
      "\r",
      "Upgrading database; v8 -> v9: 100%|██████████| 1/1 [00:00<00:00, 479.95it/s]"
     ]
    },
    {
     "name": "stdout",
     "output_type": "stream",
     "text": [
      "\n"
     ]
    }
   ],
   "source": [
    "initialise_database()\n",
    "exp = load_or_create_experiment(experiment_name='tutorial_exp', sample_name=\"no sample\")"
   ]
  },
  {
   "cell_type": "markdown",
   "metadata": {},
   "source": [
    "Here, we define a simple function to benchmark the time it takes to insert n points with either numeric or array data type.\n",
    "We will compare both the time used to call ``add_result`` and the time used for the full measurement."
   ]
  },
  {
   "cell_type": "code",
   "execution_count": 4,
   "metadata": {
    "execution": {
     "iopub.execute_input": "2020-09-25T07:06:03.166062Z",
     "iopub.status.busy": "2020-09-25T07:06:03.165525Z",
     "iopub.status.idle": "2020-09-25T07:06:03.168448Z",
     "shell.execute_reply": "2020-09-25T07:06:03.168874Z"
    }
   },
   "outputs": [],
   "source": [
    "def insert_data(paramtype, npoints, nreps=1):\n",
    "\n",
    "    meas = Measurement(exp=exp)\n",
    "\n",
    "    x1 = ManualParameter('x1')\n",
    "    x2 = ManualParameter('x2')\n",
    "    x3 = ManualParameter('x3')\n",
    "    y1 = ManualParameter('y1')\n",
    "    y2 = ManualParameter('y2')\n",
    "\n",
    "    meas.register_parameter(x1, paramtype=paramtype)\n",
    "    meas.register_parameter(x2, paramtype=paramtype)\n",
    "    meas.register_parameter(x3, paramtype=paramtype)\n",
    "    meas.register_parameter(y1, setpoints=[x1, x2, x3],\n",
    "                            paramtype=paramtype)\n",
    "    meas.register_parameter(y2, setpoints=[x1, x2, x3],\n",
    "                            paramtype=paramtype)\n",
    "    start = time.perf_counter()\n",
    "    with meas.run() as datasaver:\n",
    "        start_adding = time.perf_counter()\n",
    "        for i in range(nreps):\n",
    "            datasaver.add_result((x1, np.random.rand(npoints)),\n",
    "                                 (x2, np.random.rand(npoints)),\n",
    "                                 (x3, np.random.rand(npoints)),\n",
    "                                 (y1, np.random.rand(npoints)),\n",
    "                                 (y2, np.random.rand(npoints)))\n",
    "        stop_adding = time.perf_counter()\n",
    "        run_id = datasaver.run_id\n",
    "    stop = time.perf_counter()\n",
    "    tot_time = stop - start\n",
    "    add_time = stop_adding - start_adding\n",
    "    return tot_time, add_time, run_id"
   ]
  },
  {
   "cell_type": "markdown",
   "metadata": {},
   "source": [
    "## Comparison between numeric/array data and binary blob"
   ]
  },
  {
   "cell_type": "markdown",
   "metadata": {},
   "source": [
    "### Case1: Short experiment time"
   ]
  },
  {
   "cell_type": "code",
   "execution_count": 5,
   "metadata": {
    "execution": {
     "iopub.execute_input": "2020-09-25T07:06:03.174698Z",
     "iopub.status.busy": "2020-09-25T07:06:03.173581Z",
     "iopub.status.idle": "2020-09-25T07:06:03.917823Z",
     "shell.execute_reply": "2020-09-25T07:06:03.918412Z"
    }
   },
   "outputs": [
    {
     "name": "stdout",
     "output_type": "stream",
     "text": [
      "Starting experimental run with id: 1. \n",
      "Starting experimental run with id: 2. \n",
      "Starting experimental run with id: 3. \n",
      "Starting experimental run with id: 4. \n",
      "Starting experimental run with id: 5. \n"
     ]
    },
    {
     "name": "stdout",
     "output_type": "stream",
     "text": [
      "Starting experimental run with id: 6. \n"
     ]
    },
    {
     "name": "stdout",
     "output_type": "stream",
     "text": [
      "Starting experimental run with id: 7. \n"
     ]
    },
    {
     "name": "stdout",
     "output_type": "stream",
     "text": [
      "Starting experimental run with id: 8. \n",
      "Starting experimental run with id: 9. \n"
     ]
    },
    {
     "name": "stdout",
     "output_type": "stream",
     "text": [
      "Starting experimental run with id: 10. \n"
     ]
    },
    {
     "name": "stdout",
     "output_type": "stream",
     "text": [
      "Starting experimental run with id: 11. \n"
     ]
    },
    {
     "name": "stdout",
     "output_type": "stream",
     "text": [
      "Starting experimental run with id: 12. \n",
      "Starting experimental run with id: 13. \n"
     ]
    },
    {
     "name": "stdout",
     "output_type": "stream",
     "text": [
      "Starting experimental run with id: 14. \n"
     ]
    }
   ],
   "source": [
    "sizes = [1,500,1000,2000,3000,4000,5000]\n",
    "t_numeric = []\n",
    "t_numeric_add = []\n",
    "t_array = []\n",
    "t_array_add = []\n",
    "for size in sizes:\n",
    "    tn, tna, run_id_n =  insert_data('numeric', size)\n",
    "    t_numeric.append(tn)\n",
    "    t_numeric_add.append(tna)\n",
    "\n",
    "    ta, taa, run_id_a =  insert_data('array', size)\n",
    "    t_array.append(ta)\n",
    "    t_array_add.append(taa)"
   ]
  },
  {
   "cell_type": "code",
   "execution_count": 6,
   "metadata": {
    "execution": {
     "iopub.execute_input": "2020-09-25T07:06:03.934580Z",
     "iopub.status.busy": "2020-09-25T07:06:03.934082Z",
     "iopub.status.idle": "2020-09-25T07:06:04.140218Z",
     "shell.execute_reply": "2020-09-25T07:06:04.140591Z"
    }
   },
   "outputs": [
    {
     "data": {
      "image/png": "[encoded data removed]",
      "text/plain": [
       "<Figure size 432x288 with 1 Axes>"
      ]
     },
     "metadata": {
      "needs_background": "light"
     },
     "output_type": "display_data"
    }
   ],
   "source": [
    "fig, ax = plt.subplots(1,1)\n",
    "ax.plot(sizes, t_numeric, 'o-', label='Inserting row-by-row')\n",
    "ax.plot(sizes, t_numeric_add, 'o-', label='Inserting row-by-row: add_result only')\n",
    "ax.plot(sizes, t_array, 'd-', label='Inserting as binary blob')\n",
    "ax.plot(sizes, t_array_add, 'd-', label='Inserting as binary blob: add_result only')\n",
    "ax.legend()\n",
    "ax.set_xlabel('Array length')\n",
    "ax.set_ylabel('Time (s)')\n",
    "fig.tight_layout()"
   ]
  },
  {
   "cell_type": "markdown",
   "metadata": {},
   "source": [
    "As shown in the latter figure, the time to setup and and close the experiment is approximately 0.4 sec. In case of small array sizes, the difference between inserting values of data as arrays and inserting them row-by-row is relatively unimportant. At larger array sizes, i.e. above 10000 points, the cost of writing data as individual datapoints starts to become important.\n"
   ]
  },
  {
   "cell_type": "markdown",
   "metadata": {},
   "source": [
    "### Case2: Long experiment time "
   ]
  },
  {
   "cell_type": "code",
   "execution_count": 7,
   "metadata": {
    "execution": {
     "iopub.execute_input": "2020-09-25T07:06:04.145460Z",
     "iopub.status.busy": "2020-09-25T07:06:04.144259Z",
     "iopub.status.idle": "2020-09-25T07:06:56.121955Z",
     "shell.execute_reply": "2020-09-25T07:06:56.121502Z"
    }
   },
   "outputs": [
    {
     "name": "stdout",
     "output_type": "stream",
     "text": [
      "Starting experimental run with id: 15. \n",
      "Starting experimental run with id: 16. \n",
      "Starting experimental run with id: 17. \n"
     ]
    },
    {
     "name": "stdout",
     "output_type": "stream",
     "text": [
      "Starting experimental run with id: 18. \n",
      "Starting experimental run with id: 19. \n"
     ]
    },
    {
     "name": "stdout",
     "output_type": "stream",
     "text": [
      "Starting experimental run with id: 20. \n"
     ]
    },
    {
     "name": "stdout",
     "output_type": "stream",
     "text": [
      "Starting experimental run with id: 21. \n"
     ]
    },
    {
     "name": "stdout",
     "output_type": "stream",
     "text": [
      "Starting experimental run with id: 22. \n"
     ]
    },
    {
     "name": "stdout",
     "output_type": "stream",
     "text": [
      "Starting experimental run with id: 23. \n"
     ]
    },
    {
     "name": "stdout",
     "output_type": "stream",
     "text": [
      "Starting experimental run with id: 24. \n"
     ]
    },
    {
     "name": "stdout",
     "output_type": "stream",
     "text": [
      "Starting experimental run with id: 25. \n"
     ]
    },
    {
     "name": "stdout",
     "output_type": "stream",
     "text": [
      "Starting experimental run with id: 26. \n"
     ]
    },
    {
     "name": "stdout",
     "output_type": "stream",
     "text": [
      "Starting experimental run with id: 27. \n"
     ]
    },
    {
     "name": "stdout",
     "output_type": "stream",
     "text": [
      "Starting experimental run with id: 28. \n"
     ]
    }
   ],
   "source": [
    "sizes = [1,500,1000,2000,3000,4000,5000]\n",
    "nreps = 100\n",
    "t_numeric = []\n",
    "t_numeric_add = []\n",
    "t_numeric_run_ids = []\n",
    "t_array = []\n",
    "t_array_add = []\n",
    "t_array_run_ids = []\n",
    "for size in sizes:\n",
    "    tn, tna, run_id_n =  insert_data('numeric', size, nreps=nreps)\n",
    "    t_numeric.append(tn)\n",
    "    t_numeric_add.append(tna)\n",
    "    t_numeric_run_ids.append(run_id_n)\n",
    "\n",
    "    ta, taa, run_id_a =  insert_data('array', size, nreps=nreps)\n",
    "    t_array.append(ta)\n",
    "    t_array_add.append(taa)\n",
    "    t_array_run_ids.append(run_id_a)"
   ]
  },
  {
   "cell_type": "code",
   "execution_count": 8,
   "metadata": {
    "execution": {
     "iopub.execute_input": "2020-09-25T07:06:56.138423Z",
     "iopub.status.busy": "2020-09-25T07:06:56.136701Z",
     "iopub.status.idle": "2020-09-25T07:06:56.342155Z",
     "shell.execute_reply": "2020-09-25T07:06:56.341616Z"
    },
    "scrolled": true
   },
   "outputs": [
    {
     "data": {
      "image/png": "[encoded data removed]",
      "text/plain": [
       "<Figure size 432x288 with 1 Axes>"
      ]
     },
     "metadata": {
      "needs_background": "light"
     },
     "output_type": "display_data"
    }
   ],
   "source": [
    "fig, ax = plt.subplots(1,1)\n",
    "ax.plot(sizes, t_numeric, 'o-', label='Inserting row-by-row')\n",
    "ax.plot(sizes, t_numeric_add, 'o-', label='Inserting row-by-row: add_result only')\n",
    "ax.plot(sizes, t_array, 'd-', label='Inserting as binary blob')\n",
    "ax.plot(sizes, t_array_add, 'd-', label='Inserting as binary blob: add_result only')\n",
    "ax.legend()\n",
    "ax.set_xlabel('Array length')\n",
    "ax.set_ylabel('Time (s)')\n",
    "fig.tight_layout()"
   ]
  },
  {
   "cell_type": "markdown",
   "metadata": {},
   "source": [
    "However, as we increase the length of the experiment, as seen here by repeating the insertion 100 times, we see a big difference between inserting values of the data row-by-row and inserting it as a binary blob."
   ]
  },
  {
   "cell_type": "markdown",
   "metadata": {},
   "source": [
    "## Loading the data "
   ]
  },
  {
   "cell_type": "code",
   "execution_count": 9,
   "metadata": {
    "execution": {
     "iopub.execute_input": "2020-09-25T07:06:56.345456Z",
     "iopub.status.busy": "2020-09-25T07:06:56.344978Z",
     "iopub.status.idle": "2020-09-25T07:06:56.348483Z",
     "shell.execute_reply": "2020-09-25T07:06:56.348021Z"
    }
   },
   "outputs": [],
   "source": [
    "from qcodes.dataset.data_set import load_by_id\n",
    "from qcodes.dataset.data_export import get_data_by_id"
   ]
  },
  {
   "cell_type": "markdown",
   "metadata": {},
   "source": [
    "As usual you can load the data by using the ``load_by_id`` function but you will notice that the different storage methods\n",
    "are reflected in shape of the data as it is retrieved. "
   ]
  },
  {
   "cell_type": "code",
   "execution_count": 10,
   "metadata": {
    "execution": {
     "iopub.execute_input": "2020-09-25T07:06:56.352171Z",
     "iopub.status.busy": "2020-09-25T07:06:56.351599Z",
     "iopub.status.idle": "2020-09-25T07:06:56.354867Z",
     "shell.execute_reply": "2020-09-25T07:06:56.355456Z"
    }
   },
   "outputs": [],
   "source": [
    "run_id_n = t_numeric_run_ids[0]\n",
    "run_id_a = t_array_run_ids[0]"
   ]
  },
  {
   "cell_type": "code",
   "execution_count": 11,
   "metadata": {
    "execution": {
     "iopub.execute_input": "2020-09-25T07:06:56.362669Z",
     "iopub.status.busy": "2020-09-25T07:06:56.358974Z",
     "iopub.status.idle": "2020-09-25T07:06:56.369785Z",
     "shell.execute_reply": "2020-09-25T07:06:56.369322Z"
    },
    "scrolled": true
   },
   "outputs": [
    {
     "data": {
      "text/plain": [
       "{'x1': {'x1': array([0.4927901 , 0.4927901 , 0.65856443, 0.65856443, 0.41420754,\n",
       "         0.41420754, 0.18705369, 0.18705369, 0.96699427, 0.96699427,\n",
       "         0.44289053, 0.44289053, 0.16604492, 0.16604492, 0.98066488,\n",
       "         0.98066488, 0.49433999, 0.49433999, 0.25732544, 0.25732544,\n",
       "         0.05098738, 0.05098738, 0.22239229, 0.22239229, 0.26971631,\n",
       "         0.26971631, 0.33469571, 0.33469571, 0.20973874, 0.20973874,\n",
       "         0.51493719, 0.51493719, 0.39474118, 0.39474118, 0.01577139,\n",
       "         0.01577139, 0.16402642, 0.16402642, 0.51256571, 0.51256571,\n",
       "         0.89526165, 0.89526165, 0.8995982 , 0.8995982 , 0.76518664,\n",
       "         0.76518664, 0.67614955, 0.67614955, 0.57894695, 0.57894695,\n",
       "         0.10342989, 0.10342989, 0.00417347, 0.00417347, 0.92711912,\n",
       "         0.92711912, 0.2088436 , 0.2088436 , 0.15538645, 0.15538645,\n",
       "         0.10011732, 0.10011732, 0.82114545, 0.82114545, 0.07360172,\n",
       "         0.07360172, 0.5391284 , 0.5391284 , 0.45572611, 0.45572611,\n",
       "         0.36460733, 0.36460733, 0.70546211, 0.70546211, 0.25890568,\n",
       "         0.25890568, 0.22644722, 0.22644722, 0.49913909, 0.49913909,\n",
       "         0.56989831, 0.56989831, 0.02763121, 0.02763121, 0.84206481,\n",
       "         0.84206481, 0.85312194, 0.85312194, 0.87281078, 0.87281078,\n",
       "         0.47292762, 0.47292762, 0.76405374, 0.76405374, 0.50851187,\n",
       "         0.50851187, 0.57121275, 0.57121275, 0.55243405, 0.55243405,\n",
       "         0.06566468, 0.06566468, 0.60261623, 0.60261623, 0.27608048,\n",
       "         0.27608048, 0.55295185, 0.55295185, 0.54435105, 0.54435105,\n",
       "         0.89684819, 0.89684819, 0.56651086, 0.56651086, 0.7424925 ,\n",
       "         0.7424925 , 0.14242071, 0.14242071, 0.3307778 , 0.3307778 ,\n",
       "         0.55433361, 0.55433361, 0.99824991, 0.99824991, 0.80586757,\n",
       "         0.80586757, 0.19603463, 0.19603463, 0.63606418, 0.63606418,\n",
       "         0.22735529, 0.22735529, 0.33423133, 0.33423133, 0.81331527,\n",
       "         0.81331527, 0.11719553, 0.11719553, 0.02338276, 0.02338276,\n",
       "         0.80789146, 0.80789146, 0.50325438, 0.50325438, 0.85247343,\n",
       "         0.85247343, 0.24914504, 0.24914504, 0.00611117, 0.00611117,\n",
       "         0.11267589, 0.11267589, 0.11396361, 0.11396361, 0.90127482,\n",
       "         0.90127482, 0.49970264, 0.49970264, 0.58343515, 0.58343515,\n",
       "         0.86305276, 0.86305276, 0.76246873, 0.76246873, 0.41702164,\n",
       "         0.41702164, 0.12406709, 0.12406709, 0.13247051, 0.13247051,\n",
       "         0.48506036, 0.48506036, 0.2546045 , 0.2546045 , 0.2258147 ,\n",
       "         0.2258147 , 0.53283239, 0.53283239, 0.37445808, 0.37445808,\n",
       "         0.26361175, 0.26361175, 0.4822629 , 0.4822629 , 0.9494484 ,\n",
       "         0.9494484 , 0.09354293, 0.09354293, 0.33780979, 0.33780979,\n",
       "         0.69335626, 0.69335626, 0.51390926, 0.51390926, 0.40545623,\n",
       "         0.40545623, 0.5232979 , 0.5232979 , 0.91162341, 0.91162341])}}"
      ]
     },
     "execution_count": 1,
     "metadata": {},
     "output_type": "execute_result"
    }
   ],
   "source": [
    "ds = load_by_id(run_id_n)\n",
    "ds.get_parameter_data('x1')"
   ]
  },
  {
   "cell_type": "markdown",
   "metadata": {},
   "source": [
    "And a dataset stored as binary arrays"
   ]
  },
  {
   "cell_type": "code",
   "execution_count": 12,
   "metadata": {
    "execution": {
     "iopub.execute_input": "2020-09-25T07:06:56.372848Z",
     "iopub.status.busy": "2020-09-25T07:06:56.372000Z",
     "iopub.status.idle": "2020-09-25T07:06:56.423126Z",
     "shell.execute_reply": "2020-09-25T07:06:56.422741Z"
    },
    "scrolled": true
   },
   "outputs": [
    {
     "data": {
      "text/plain": [
       "{'x1': {'x1': array([[0.81284398],\n",
       "         [0.81284398],\n",
       "         [0.71837707],\n",
       "         [0.71837707],\n",
       "         [0.30366452],\n",
       "         [0.30366452],\n",
       "         [0.27798442],\n",
       "         [0.27798442],\n",
       "         [0.46489649],\n",
       "         [0.46489649],\n",
       "         [0.55658764],\n",
       "         [0.55658764],\n",
       "         [0.11026267],\n",
       "         [0.11026267],\n",
       "         [0.13633267],\n",
       "         [0.13633267],\n",
       "         [0.56778124],\n",
       "         [0.56778124],\n",
       "         [0.31882601],\n",
       "         [0.31882601],\n",
       "         [0.53909192],\n",
       "         [0.53909192],\n",
       "         [0.76129093],\n",
       "         [0.76129093],\n",
       "         [0.79765644],\n",
       "         [0.79765644],\n",
       "         [0.56127558],\n",
       "         [0.56127558],\n",
       "         [0.78537143],\n",
       "         [0.78537143],\n",
       "         [0.95816672],\n",
       "         [0.95816672],\n",
       "         [0.13817404],\n",
       "         [0.13817404],\n",
       "         [0.19620703],\n",
       "         [0.19620703],\n",
       "         [0.00702264],\n",
       "         [0.00702264],\n",
       "         [0.60362337],\n",
       "         [0.60362337],\n",
       "         [0.40845118],\n",
       "         [0.40845118],\n",
       "         [0.40858085],\n",
       "         [0.40858085],\n",
       "         [0.67987987],\n",
       "         [0.67987987],\n",
       "         [0.15694804],\n",
       "         [0.15694804],\n",
       "         [0.22999712],\n",
       "         [0.22999712],\n",
       "         [0.42538573],\n",
       "         [0.42538573],\n",
       "         [0.24241363],\n",
       "         [0.24241363],\n",
       "         [0.04029525],\n",
       "         [0.04029525],\n",
       "         [0.71924495],\n",
       "         [0.71924495],\n",
       "         [0.86429853],\n",
       "         [0.86429853],\n",
       "         [0.30975285],\n",
       "         [0.30975285],\n",
       "         [0.95524786],\n",
       "         [0.95524786],\n",
       "         [0.91181849],\n",
       "         [0.91181849],\n",
       "         [0.4650649 ],\n",
       "         [0.4650649 ],\n",
       "         [0.8382214 ],\n",
       "         [0.8382214 ],\n",
       "         [0.90057036],\n",
       "         [0.90057036],\n",
       "         [0.42090331],\n",
       "         [0.42090331],\n",
       "         [0.58206518],\n",
       "         [0.58206518],\n",
       "         [0.84839385],\n",
       "         [0.84839385],\n",
       "         [0.21433439],\n",
       "         [0.21433439],\n",
       "         [0.66781969],\n",
       "         [0.66781969],\n",
       "         [0.39797862],\n",
       "         [0.39797862],\n",
       "         [0.85815882],\n",
       "         [0.85815882],\n",
       "         [0.65663063],\n",
       "         [0.65663063],\n",
       "         [0.8749335 ],\n",
       "         [0.8749335 ],\n",
       "         [0.90432909],\n",
       "         [0.90432909],\n",
       "         [0.24436833],\n",
       "         [0.24436833],\n",
       "         [0.85034557],\n",
       "         [0.85034557],\n",
       "         [0.3444026 ],\n",
       "         [0.3444026 ],\n",
       "         [0.63468864],\n",
       "         [0.63468864],\n",
       "         [0.08060033],\n",
       "         [0.08060033],\n",
       "         [0.26261684],\n",
       "         [0.26261684],\n",
       "         [0.5355478 ],\n",
       "         [0.5355478 ],\n",
       "         [0.44757632],\n",
       "         [0.44757632],\n",
       "         [0.52209857],\n",
       "         [0.52209857],\n",
       "         [0.34273927],\n",
       "         [0.34273927],\n",
       "         [0.10008765],\n",
       "         [0.10008765],\n",
       "         [0.21608806],\n",
       "         [0.21608806],\n",
       "         [0.31668832],\n",
       "         [0.31668832],\n",
       "         [0.9249424 ],\n",
       "         [0.9249424 ],\n",
       "         [0.91744203],\n",
       "         [0.91744203],\n",
       "         [0.68913138],\n",
       "         [0.68913138],\n",
       "         [0.6744023 ],\n",
       "         [0.6744023 ],\n",
       "         [0.51879496],\n",
       "         [0.51879496],\n",
       "         [0.45760338],\n",
       "         [0.45760338],\n",
       "         [0.52185838],\n",
       "         [0.52185838],\n",
       "         [0.09894421],\n",
       "         [0.09894421],\n",
       "         [0.3414582 ],\n",
       "         [0.3414582 ],\n",
       "         [0.61790008],\n",
       "         [0.61790008],\n",
       "         [0.92796529],\n",
       "         [0.92796529],\n",
       "         [0.23851899],\n",
       "         [0.23851899],\n",
       "         [0.51493255],\n",
       "         [0.51493255],\n",
       "         [0.97917475],\n",
       "         [0.97917475],\n",
       "         [0.21307003],\n",
       "         [0.21307003],\n",
       "         [0.26551265],\n",
       "         [0.26551265],\n",
       "         [0.1618089 ],\n",
       "         [0.1618089 ],\n",
       "         [0.32292112],\n",
       "         [0.32292112],\n",
       "         [0.9421629 ],\n",
       "         [0.9421629 ],\n",
       "         [0.88121774],\n",
       "         [0.88121774],\n",
       "         [0.70927146],\n",
       "         [0.70927146],\n",
       "         [0.7390122 ],\n",
       "         [0.7390122 ],\n",
       "         [0.73791086],\n",
       "         [0.73791086],\n",
       "         [0.44968562],\n",
       "         [0.44968562],\n",
       "         [0.48228284],\n",
       "         [0.48228284],\n",
       "         [0.28907432],\n",
       "         [0.28907432],\n",
       "         [0.23270464],\n",
       "         [0.23270464],\n",
       "         [0.46144535],\n",
       "         [0.46144535],\n",
       "         [0.41863456],\n",
       "         [0.41863456],\n",
       "         [0.50874312],\n",
       "         [0.50874312],\n",
       "         [0.19267168],\n",
       "         [0.19267168],\n",
       "         [0.26734344],\n",
       "         [0.26734344],\n",
       "         [0.16511383],\n",
       "         [0.16511383],\n",
       "         [0.29776831],\n",
       "         [0.29776831],\n",
       "         [0.4808764 ],\n",
       "         [0.4808764 ],\n",
       "         [0.26765991],\n",
       "         [0.26765991],\n",
       "         [0.97085305],\n",
       "         [0.97085305],\n",
       "         [0.13335427],\n",
       "         [0.13335427],\n",
       "         [0.88592785],\n",
       "         [0.88592785],\n",
       "         [0.5736607 ],\n",
       "         [0.5736607 ],\n",
       "         [0.48458435],\n",
       "         [0.48458435]])}}"
      ]
     },
     "execution_count": 1,
     "metadata": {},
     "output_type": "execute_result"
    }
   ],
   "source": [
    "ds = load_by_id(run_id_a)\n",
    "ds.get_parameter_data('x1')"
   ]
  },
  {
   "cell_type": "code",
   "execution_count": null,
   "metadata": {},
   "outputs": [],
   "source": []
  }
 ],
 "metadata": {
  "kernelspec": {
   "display_name": "Python 3",
   "language": "python",
   "name": "python3"
  },
  "language_info": {
   "codemirror_mode": {
    "name": "ipython",
    "version": 3
   },
   "file_extension": ".py",
   "mimetype": "text/x-python",
   "name": "python",
   "nbconvert_exporter": "python",
   "pygments_lexer": "ipython3",
   "version": "3.7.7"
  },
  "nbsphinx": {
   "timeout": 600
  },
  "toc": {
   "base_numbering": 1,
   "nav_menu": {},
   "number_sections": true,
   "sideBar": true,
   "skip_h1_title": false,
   "title_cell": "Table of Contents",
   "title_sidebar": "Contents",
   "toc_cell": false,
   "toc_position": {},
   "toc_section_display": true,
   "toc_window_display": false
  },
  "varInspector": {
   "cols": {
    "lenName": 16,
    "lenType": 16,
    "lenVar": 40
   },
   "kernels_config": {
    "python": {
     "delete_cmd_postfix": "",
     "delete_cmd_prefix": "del ",
     "library": "var_list.py",
     "varRefreshCmd": "print(var_dic_list())"
    },
    "r": {
     "delete_cmd_postfix": ") ",
     "delete_cmd_prefix": "rm(",
     "library": "var_list.r",
     "varRefreshCmd": "cat(var_dic_list()) "
    }
   },
   "types_to_exclude": [
    "module",
    "function",
    "builtin_function_or_method",
    "instance",
    "_Feature"
   ],
   "window_display": false
  }
 },
 "nbformat": 4,
 "nbformat_minor": 2
}
