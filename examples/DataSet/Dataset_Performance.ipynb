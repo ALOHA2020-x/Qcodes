{
 "cells": [
  {
   "cell_type": "markdown",
   "metadata": {},
   "source": [
    "# DataSet Performance\n",
    "\n",
    "This notebook shows the trade-off between inserting data into a database row-by-row and as binary blobs. Inserting the data row-by-row means that we have direct access to all the data and may perform queries directly on the values of the data. On the other hand, as we shall see, this is much slower than inserting the data directly as binary blobs."
   ]
  },
  {
   "cell_type": "markdown",
   "metadata": {},
   "source": [
    "First, we choose a new location for the database to ensure that we don't add a bunch of benchmarking data to the default one."
   ]
  },
  {
   "cell_type": "code",
   "execution_count": 1,
   "metadata": {
    "execution": {
     "iopub.execute_input": "2021-01-04T12:45:13.164764Z",
     "iopub.status.busy": "2021-01-04T12:45:13.163893Z",
     "iopub.status.idle": "2021-01-04T12:45:14.081253Z",
     "shell.execute_reply": "2021-01-04T12:45:14.080763Z"
    }
   },
   "outputs": [
    {
     "name": "stdout",
     "output_type": "stream",
     "text": [
      "Logging hadn't been started.\n",
      "Activating auto-logging. Current session state plus future input saved.\n",
      "Filename       : /home/vsts/.qcodes/logs/command_history.log\n",
      "Mode           : append\n",
      "Output logging : True\n",
      "Raw input log  : False\n",
      "Timestamping   : True\n",
      "State          : active\n"
     ]
    },
    {
     "name": "stdout",
     "output_type": "stream",
     "text": [
      "Qcodes Logfile : /home/vsts/.qcodes/logs/210104-13214-qcodes.log\n"
     ]
    }
   ],
   "source": [
    "import os\n",
    "cwd = os.getcwd()\n",
    "import qcodes as qc\n",
    "qc.config[\"core\"][\"db_location\"] = os.path.join(cwd, 'testing.db')\n"
   ]
  },
  {
   "cell_type": "code",
   "execution_count": 2,
   "metadata": {
    "execution": {
     "iopub.execute_input": "2021-01-04T12:45:14.086495Z",
     "iopub.status.busy": "2021-01-04T12:45:14.086041Z",
     "iopub.status.idle": "2021-01-04T12:45:14.248038Z",
     "shell.execute_reply": "2021-01-04T12:45:14.247231Z"
    }
   },
   "outputs": [],
   "source": [
    "%matplotlib inline\n",
    "import time\n",
    "import matplotlib.pyplot as plt\n",
    "import numpy as np\n",
    "\n",
    "import qcodes as qc\n",
    "from qcodes.instrument.parameter import ManualParameter\n",
    "from qcodes.dataset.experiment_container import (Experiment,\n",
    "                                                 load_last_experiment,\n",
    "                                                 new_experiment)\n",
    "from qcodes.dataset.sqlite.database import initialise_database\n",
    "from qcodes import load_or_create_experiment\n",
    "from qcodes.dataset.measurements import Measurement"
   ]
  },
  {
   "cell_type": "code",
   "execution_count": 3,
   "metadata": {
    "execution": {
     "iopub.execute_input": "2021-01-04T12:45:14.251586Z",
     "iopub.status.busy": "2021-01-04T12:45:14.250879Z",
     "iopub.status.idle": "2021-01-04T12:45:14.348810Z",
     "shell.execute_reply": "2021-01-04T12:45:14.348411Z"
    }
   },
   "outputs": [
    {
     "name": "stdout",
     "output_type": "stream",
     "text": [
      "\r",
      "0it [00:00, ?it/s]"
     ]
    },
    {
     "name": "stdout",
     "output_type": "stream",
     "text": [
      "\r",
      "Upgrading database; v0 -> v1: : 0it [00:00, ?it/s]"
     ]
    },
    {
     "name": "stdout",
     "output_type": "stream",
     "text": [
      "\r",
      "Upgrading database; v0 -> v1: : 0it [00:00, ?it/s]"
     ]
    },
    {
     "name": "stdout",
     "output_type": "stream",
     "text": [
      "\n",
      "\r",
      "  0%|          | 0/1 [00:00<?, ?it/s]"
     ]
    },
    {
     "name": "stdout",
     "output_type": "stream",
     "text": [
      "\r",
      "Upgrading database; v1 -> v2:   0%|          | 0/1 [00:00<?, ?it/s]"
     ]
    },
    {
     "name": "stdout",
     "output_type": "stream",
     "text": [
      "\r",
      "Upgrading database; v1 -> v2: 100%|██████████| 1/1 [00:00<00:00, 752.07it/s]"
     ]
    },
    {
     "name": "stdout",
     "output_type": "stream",
     "text": [
      "\n",
      "\r",
      "0it [00:00, ?it/s]"
     ]
    },
    {
     "name": "stdout",
     "output_type": "stream",
     "text": [
      "\r",
      "Upgrading database; v2 -> v3: : 0it [00:00, ?it/s]"
     ]
    },
    {
     "name": "stdout",
     "output_type": "stream",
     "text": [
      "\r",
      "Upgrading database; v2 -> v3: : 0it [00:00, ?it/s]"
     ]
    },
    {
     "name": "stdout",
     "output_type": "stream",
     "text": [
      "\n",
      "\r",
      "0it [00:00, ?it/s]"
     ]
    },
    {
     "name": "stdout",
     "output_type": "stream",
     "text": [
      "\r",
      "Upgrading database; v3 -> v4: : 0it [00:00, ?it/s]"
     ]
    },
    {
     "name": "stdout",
     "output_type": "stream",
     "text": [
      "\r",
      "Upgrading database; v3 -> v4: : 0it [00:00, ?it/s]"
     ]
    },
    {
     "name": "stdout",
     "output_type": "stream",
     "text": [
      "\n",
      "\r",
      "  0%|          | 0/1 [00:00<?, ?it/s]"
     ]
    },
    {
     "name": "stdout",
     "output_type": "stream",
     "text": [
      "\r",
      "Upgrading database; v4 -> v5:   0%|          | 0/1 [00:00<?, ?it/s]"
     ]
    },
    {
     "name": "stdout",
     "output_type": "stream",
     "text": [
      "\r",
      "Upgrading database; v4 -> v5: 100%|██████████| 1/1 [00:00<00:00, 1280.31it/s]"
     ]
    },
    {
     "name": "stdout",
     "output_type": "stream",
     "text": [
      "\n",
      "\r",
      "0it [00:00, ?it/s]"
     ]
    },
    {
     "name": "stdout",
     "output_type": "stream",
     "text": [
      "\r",
      "Upgrading database; v5 -> v6: : 0it [00:00, ?it/s]"
     ]
    },
    {
     "name": "stdout",
     "output_type": "stream",
     "text": [
      "\r",
      "Upgrading database; v5 -> v6: : 0it [00:00, ?it/s]"
     ]
    },
    {
     "name": "stdout",
     "output_type": "stream",
     "text": [
      "\n",
      "\r",
      "  0%|          | 0/1 [00:00<?, ?it/s]"
     ]
    },
    {
     "name": "stdout",
     "output_type": "stream",
     "text": [
      "\r",
      "Upgrading database; v6 -> v7:   0%|          | 0/1 [00:00<?, ?it/s]"
     ]
    },
    {
     "name": "stdout",
     "output_type": "stream",
     "text": [
      "\r",
      "Upgrading database; v6 -> v7: 100%|██████████| 1/1 [00:00<00:00, 548.85it/s]"
     ]
    },
    {
     "name": "stdout",
     "output_type": "stream",
     "text": [
      "\n",
      "\r",
      "  0%|          | 0/1 [00:00<?, ?it/s]"
     ]
    },
    {
     "name": "stdout",
     "output_type": "stream",
     "text": [
      "\r",
      "Upgrading database; v7 -> v8:   0%|          | 0/1 [00:00<?, ?it/s]"
     ]
    },
    {
     "name": "stdout",
     "output_type": "stream",
     "text": [
      "\r",
      "Upgrading database; v7 -> v8: 100%|██████████| 1/1 [00:00<00:00, 1298.14it/s]"
     ]
    },
    {
     "name": "stdout",
     "output_type": "stream",
     "text": [
      "\n",
      "\r",
      "  0%|          | 0/1 [00:00<?, ?it/s]"
     ]
    },
    {
     "name": "stdout",
     "output_type": "stream",
     "text": [
      "\r",
      "Upgrading database; v8 -> v9:   0%|          | 0/1 [00:00<?, ?it/s]"
     ]
    },
    {
     "name": "stdout",
     "output_type": "stream",
     "text": [
      "\r",
      "Upgrading database; v8 -> v9: 100%|██████████| 1/1 [00:00<00:00, 733.40it/s]"
     ]
    },
    {
     "name": "stdout",
     "output_type": "stream",
     "text": [
      "\n"
     ]
    }
   ],
   "source": [
    "initialise_database()\n",
    "exp = load_or_create_experiment(experiment_name='tutorial_exp', sample_name=\"no sample\")"
   ]
  },
  {
   "cell_type": "markdown",
   "metadata": {},
   "source": [
    "Here, we define a simple function to benchmark the time it takes to insert n points with either numeric or array data type.\n",
    "We will compare both the time used to call ``add_result`` and the time used for the full measurement."
   ]
  },
  {
   "cell_type": "code",
   "execution_count": 4,
   "metadata": {
    "execution": {
     "iopub.execute_input": "2021-01-04T12:45:14.355508Z",
     "iopub.status.busy": "2021-01-04T12:45:14.354405Z",
     "iopub.status.idle": "2021-01-04T12:45:14.358056Z",
     "shell.execute_reply": "2021-01-04T12:45:14.357670Z"
    }
   },
   "outputs": [],
   "source": [
    "def insert_data(paramtype, npoints, nreps=1):\n",
    "\n",
    "    meas = Measurement(exp=exp)\n",
    "\n",
    "    x1 = ManualParameter('x1')\n",
    "    x2 = ManualParameter('x2')\n",
    "    x3 = ManualParameter('x3')\n",
    "    y1 = ManualParameter('y1')\n",
    "    y2 = ManualParameter('y2')\n",
    "\n",
    "    meas.register_parameter(x1, paramtype=paramtype)\n",
    "    meas.register_parameter(x2, paramtype=paramtype)\n",
    "    meas.register_parameter(x3, paramtype=paramtype)\n",
    "    meas.register_parameter(y1, setpoints=[x1, x2, x3],\n",
    "                            paramtype=paramtype)\n",
    "    meas.register_parameter(y2, setpoints=[x1, x2, x3],\n",
    "                            paramtype=paramtype)\n",
    "    start = time.perf_counter()\n",
    "    with meas.run() as datasaver:\n",
    "        start_adding = time.perf_counter()\n",
    "        for i in range(nreps):\n",
    "            datasaver.add_result((x1, np.random.rand(npoints)),\n",
    "                                 (x2, np.random.rand(npoints)),\n",
    "                                 (x3, np.random.rand(npoints)),\n",
    "                                 (y1, np.random.rand(npoints)),\n",
    "                                 (y2, np.random.rand(npoints)))\n",
    "        stop_adding = time.perf_counter()\n",
    "        run_id = datasaver.run_id\n",
    "    stop = time.perf_counter()\n",
    "    tot_time = stop - start\n",
    "    add_time = stop_adding - start_adding\n",
    "    return tot_time, add_time, run_id"
   ]
  },
  {
   "cell_type": "markdown",
   "metadata": {},
   "source": [
    "## Comparison between numeric/array data and binary blob"
   ]
  },
  {
   "cell_type": "markdown",
   "metadata": {},
   "source": [
    "### Case1: Short experiment time"
   ]
  },
  {
   "cell_type": "code",
   "execution_count": 5,
   "metadata": {
    "execution": {
     "iopub.execute_input": "2021-01-04T12:45:14.363638Z",
     "iopub.status.busy": "2021-01-04T12:45:14.363139Z",
     "iopub.status.idle": "2021-01-04T12:45:15.088823Z",
     "shell.execute_reply": "2021-01-04T12:45:15.088038Z"
    }
   },
   "outputs": [
    {
     "name": "stdout",
     "output_type": "stream",
     "text": [
      "Starting experimental run with id: 1. \n",
      "Starting experimental run with id: 2. \n",
      "Starting experimental run with id: 3. \n",
      "Starting experimental run with id: 4. \n",
      "Starting experimental run with id: 5. \n",
      "Starting experimental run with id: 6. \n",
      "Starting experimental run with id: 7. \n"
     ]
    },
    {
     "name": "stdout",
     "output_type": "stream",
     "text": [
      "Starting experimental run with id: 8. \n"
     ]
    },
    {
     "name": "stdout",
     "output_type": "stream",
     "text": [
      "Starting experimental run with id: 9. \n",
      "Starting experimental run with id: 10. \n",
      "Starting experimental run with id: 11. \n"
     ]
    },
    {
     "name": "stdout",
     "output_type": "stream",
     "text": [
      "Starting experimental run with id: 12. \n",
      "Starting experimental run with id: 13. \n"
     ]
    },
    {
     "name": "stdout",
     "output_type": "stream",
     "text": [
      "Starting experimental run with id: 14. \n"
     ]
    }
   ],
   "source": [
    "sizes = [1,500,1000,2000,3000,4000,5000]\n",
    "t_numeric = []\n",
    "t_numeric_add = []\n",
    "t_array = []\n",
    "t_array_add = []\n",
    "for size in sizes:\n",
    "    tn, tna, run_id_n =  insert_data('numeric', size)\n",
    "    t_numeric.append(tn)\n",
    "    t_numeric_add.append(tna)\n",
    "\n",
    "    ta, taa, run_id_a =  insert_data('array', size)\n",
    "    t_array.append(ta)\n",
    "    t_array_add.append(taa)"
   ]
  },
  {
   "cell_type": "code",
   "execution_count": 6,
   "metadata": {
    "execution": {
     "iopub.execute_input": "2021-01-04T12:45:15.103894Z",
     "iopub.status.busy": "2021-01-04T12:45:15.103441Z",
     "iopub.status.idle": "2021-01-04T12:45:15.275913Z",
     "shell.execute_reply": "2021-01-04T12:45:15.275481Z"
    }
   },
   "outputs": [
    {
     "data": {
      "image/png": "[encoded data removed]",
      "text/plain": [
       "<Figure size 432x288 with 1 Axes>"
      ]
     },
     "metadata": {
      "needs_background": "light"
     },
     "output_type": "display_data"
    }
   ],
   "source": [
    "fig, ax = plt.subplots(1,1)\n",
    "ax.plot(sizes, t_numeric, 'o-', label='Inserting row-by-row')\n",
    "ax.plot(sizes, t_numeric_add, 'o-', label='Inserting row-by-row: add_result only')\n",
    "ax.plot(sizes, t_array, 'd-', label='Inserting as binary blob')\n",
    "ax.plot(sizes, t_array_add, 'd-', label='Inserting as binary blob: add_result only')\n",
    "ax.legend()\n",
    "ax.set_xlabel('Array length')\n",
    "ax.set_ylabel('Time (s)')\n",
    "fig.tight_layout()"
   ]
  },
  {
   "cell_type": "markdown",
   "metadata": {},
   "source": [
    "As shown in the latter figure, the time to setup and and close the experiment is approximately 0.4 sec. In case of small array sizes, the difference between inserting values of data as arrays and inserting them row-by-row is relatively unimportant. At larger array sizes, i.e. above 10000 points, the cost of writing data as individual datapoints starts to become important.\n"
   ]
  },
  {
   "cell_type": "markdown",
   "metadata": {},
   "source": [
    "### Case2: Long experiment time "
   ]
  },
  {
   "cell_type": "code",
   "execution_count": 7,
   "metadata": {
    "execution": {
     "iopub.execute_input": "2021-01-04T12:45:15.281816Z",
     "iopub.status.busy": "2021-01-04T12:45:15.280818Z",
     "iopub.status.idle": "2021-01-04T12:46:08.731907Z",
     "shell.execute_reply": "2021-01-04T12:46:08.731312Z"
    }
   },
   "outputs": [
    {
     "name": "stdout",
     "output_type": "stream",
     "text": [
      "Starting experimental run with id: 15. \n",
      "Starting experimental run with id: 16. \n",
      "Starting experimental run with id: 17. \n"
     ]
    },
    {
     "name": "stdout",
     "output_type": "stream",
     "text": [
      "Starting experimental run with id: 18. \n",
      "Starting experimental run with id: 19. \n"
     ]
    },
    {
     "name": "stdout",
     "output_type": "stream",
     "text": [
      "Starting experimental run with id: 20. \n"
     ]
    },
    {
     "name": "stdout",
     "output_type": "stream",
     "text": [
      "Starting experimental run with id: 21. \n"
     ]
    },
    {
     "name": "stdout",
     "output_type": "stream",
     "text": [
      "Starting experimental run with id: 22. \n"
     ]
    },
    {
     "name": "stdout",
     "output_type": "stream",
     "text": [
      "Starting experimental run with id: 23. \n"
     ]
    },
    {
     "name": "stdout",
     "output_type": "stream",
     "text": [
      "Starting experimental run with id: 24. \n"
     ]
    },
    {
     "name": "stdout",
     "output_type": "stream",
     "text": [
      "Starting experimental run with id: 25. \n"
     ]
    },
    {
     "name": "stdout",
     "output_type": "stream",
     "text": [
      "Starting experimental run with id: 26. \n"
     ]
    },
    {
     "name": "stdout",
     "output_type": "stream",
     "text": [
      "Starting experimental run with id: 27. \n"
     ]
    },
    {
     "name": "stdout",
     "output_type": "stream",
     "text": [
      "Starting experimental run with id: 28. \n"
     ]
    }
   ],
   "source": [
    "sizes = [1,500,1000,2000,3000,4000,5000]\n",
    "nreps = 100\n",
    "t_numeric = []\n",
    "t_numeric_add = []\n",
    "t_numeric_run_ids = []\n",
    "t_array = []\n",
    "t_array_add = []\n",
    "t_array_run_ids = []\n",
    "for size in sizes:\n",
    "    tn, tna, run_id_n =  insert_data('numeric', size, nreps=nreps)\n",
    "    t_numeric.append(tn)\n",
    "    t_numeric_add.append(tna)\n",
    "    t_numeric_run_ids.append(run_id_n)\n",
    "\n",
    "    ta, taa, run_id_a =  insert_data('array', size, nreps=nreps)\n",
    "    t_array.append(ta)\n",
    "    t_array_add.append(taa)\n",
    "    t_array_run_ids.append(run_id_a)"
   ]
  },
  {
   "cell_type": "code",
   "execution_count": 8,
   "metadata": {
    "execution": {
     "iopub.execute_input": "2021-01-04T12:46:08.757638Z",
     "iopub.status.busy": "2021-01-04T12:46:08.751836Z",
     "iopub.status.idle": "2021-01-04T12:46:08.906561Z",
     "shell.execute_reply": "2021-01-04T12:46:08.905884Z"
    },
    "scrolled": true
   },
   "outputs": [
    {
     "data": {
      "image/png": "[encoded data removed]",
      "text/plain": [
       "<Figure size 432x288 with 1 Axes>"
      ]
     },
     "metadata": {
      "needs_background": "light"
     },
     "output_type": "display_data"
    }
   ],
   "source": [
    "fig, ax = plt.subplots(1,1)\n",
    "ax.plot(sizes, t_numeric, 'o-', label='Inserting row-by-row')\n",
    "ax.plot(sizes, t_numeric_add, 'o-', label='Inserting row-by-row: add_result only')\n",
    "ax.plot(sizes, t_array, 'd-', label='Inserting as binary blob')\n",
    "ax.plot(sizes, t_array_add, 'd-', label='Inserting as binary blob: add_result only')\n",
    "ax.legend()\n",
    "ax.set_xlabel('Array length')\n",
    "ax.set_ylabel('Time (s)')\n",
    "fig.tight_layout()"
   ]
  },
  {
   "cell_type": "markdown",
   "metadata": {},
   "source": [
    "However, as we increase the length of the experiment, as seen here by repeating the insertion 100 times, we see a big difference between inserting values of the data row-by-row and inserting it as a binary blob."
   ]
  },
  {
   "cell_type": "markdown",
   "metadata": {},
   "source": [
    "## Loading the data "
   ]
  },
  {
   "cell_type": "code",
   "execution_count": 9,
   "metadata": {
    "execution": {
     "iopub.execute_input": "2021-01-04T12:46:08.910004Z",
     "iopub.status.busy": "2021-01-04T12:46:08.909558Z",
     "iopub.status.idle": "2021-01-04T12:46:08.912267Z",
     "shell.execute_reply": "2021-01-04T12:46:08.912615Z"
    }
   },
   "outputs": [],
   "source": [
    "from qcodes.dataset.data_set import load_by_id\n",
    "from qcodes.dataset.data_export import get_data_by_id"
   ]
  },
  {
   "cell_type": "markdown",
   "metadata": {},
   "source": [
    "As usual you can load the data by using the ``load_by_id`` function but you will notice that the different storage methods\n",
    "are reflected in shape of the data as it is retrieved. "
   ]
  },
  {
   "cell_type": "code",
   "execution_count": 10,
   "metadata": {
    "execution": {
     "iopub.execute_input": "2021-01-04T12:46:08.915757Z",
     "iopub.status.busy": "2021-01-04T12:46:08.915323Z",
     "iopub.status.idle": "2021-01-04T12:46:08.917900Z",
     "shell.execute_reply": "2021-01-04T12:46:08.918251Z"
    }
   },
   "outputs": [],
   "source": [
    "run_id_n = t_numeric_run_ids[0]\n",
    "run_id_a = t_array_run_ids[0]"
   ]
  },
  {
   "cell_type": "code",
   "execution_count": 11,
   "metadata": {
    "execution": {
     "iopub.execute_input": "2021-01-04T12:46:08.920935Z",
     "iopub.status.busy": "2021-01-04T12:46:08.920506Z",
     "iopub.status.idle": "2021-01-04T12:46:08.928617Z",
     "shell.execute_reply": "2021-01-04T12:46:08.928148Z"
    },
    "scrolled": true
   },
   "outputs": [
    {
     "data": {
      "text/plain": [
       "{'x1': {'x1': array([0.61667571, 0.61667571, 0.14071573, 0.14071573, 0.23821096,\n",
       "         0.23821096, 0.92477933, 0.92477933, 0.74009301, 0.74009301,\n",
       "         0.01498471, 0.01498471, 0.21646308, 0.21646308, 0.19108368,\n",
       "         0.19108368, 0.56841318, 0.56841318, 0.48175744, 0.48175744,\n",
       "         0.30076611, 0.30076611, 0.93694687, 0.93694687, 0.51846486,\n",
       "         0.51846486, 0.69192268, 0.69192268, 0.02718792, 0.02718792,\n",
       "         0.1274318 , 0.1274318 , 0.58309297, 0.58309297, 0.02761734,\n",
       "         0.02761734, 0.37514616, 0.37514616, 0.53486925, 0.53486925,\n",
       "         0.06145216, 0.06145216, 0.48563088, 0.48563088, 0.94638297,\n",
       "         0.94638297, 0.83781394, 0.83781394, 0.02786712, 0.02786712,\n",
       "         0.83133012, 0.83133012, 0.39369405, 0.39369405, 0.47879364,\n",
       "         0.47879364, 0.83989464, 0.83989464, 0.97559746, 0.97559746,\n",
       "         0.43516447, 0.43516447, 0.09283451, 0.09283451, 0.62795998,\n",
       "         0.62795998, 0.66717704, 0.66717704, 0.39208568, 0.39208568,\n",
       "         0.52454432, 0.52454432, 0.4961726 , 0.4961726 , 0.15942486,\n",
       "         0.15942486, 0.03711873, 0.03711873, 0.53241885, 0.53241885,\n",
       "         0.54363672, 0.54363672, 0.28281211, 0.28281211, 0.53664386,\n",
       "         0.53664386, 0.87315545, 0.87315545, 0.74800485, 0.74800485,\n",
       "         0.78162468, 0.78162468, 0.69753707, 0.69753707, 0.10374057,\n",
       "         0.10374057, 0.41730046, 0.41730046, 0.96179724, 0.96179724,\n",
       "         0.29563408, 0.29563408, 0.45281246, 0.45281246, 0.63064393,\n",
       "         0.63064393, 0.40552968, 0.40552968, 0.01833128, 0.01833128,\n",
       "         0.93926507, 0.93926507, 0.19878114, 0.19878114, 0.94340496,\n",
       "         0.94340496, 0.47261982, 0.47261982, 0.23117722, 0.23117722,\n",
       "         0.91799145, 0.91799145, 0.1275146 , 0.1275146 , 0.08203978,\n",
       "         0.08203978, 0.1428994 , 0.1428994 , 0.5804737 , 0.5804737 ,\n",
       "         0.28991686, 0.28991686, 0.66373563, 0.66373563, 0.87828155,\n",
       "         0.87828155, 0.3176687 , 0.3176687 , 0.63303374, 0.63303374,\n",
       "         0.13753628, 0.13753628, 0.62594476, 0.62594476, 0.07229944,\n",
       "         0.07229944, 0.66134455, 0.66134455, 0.01596731, 0.01596731,\n",
       "         0.39778278, 0.39778278, 0.68112613, 0.68112613, 0.36238106,\n",
       "         0.36238106, 0.57764897, 0.57764897, 0.04445162, 0.04445162,\n",
       "         0.32998815, 0.32998815, 0.84712387, 0.84712387, 0.37298162,\n",
       "         0.37298162, 0.90428329, 0.90428329, 0.04975501, 0.04975501,\n",
       "         0.3198177 , 0.3198177 , 0.45148262, 0.45148262, 0.7179126 ,\n",
       "         0.7179126 , 0.86778102, 0.86778102, 0.29612047, 0.29612047,\n",
       "         0.37614476, 0.37614476, 0.82076326, 0.82076326, 0.08898962,\n",
       "         0.08898962, 0.63910772, 0.63910772, 0.99435454, 0.99435454,\n",
       "         0.10926318, 0.10926318, 0.00387982, 0.00387982, 0.13843839,\n",
       "         0.13843839, 0.52888688, 0.52888688, 0.0690003 , 0.0690003 ])}}"
      ]
     },
     "execution_count": 1,
     "metadata": {},
     "output_type": "execute_result"
    }
   ],
   "source": [
    "ds = load_by_id(run_id_n)\n",
    "ds.get_parameter_data('x1')"
   ]
  },
  {
   "cell_type": "markdown",
   "metadata": {},
   "source": [
    "And a dataset stored as binary arrays"
   ]
  },
  {
   "cell_type": "code",
   "execution_count": 12,
   "metadata": {
    "execution": {
     "iopub.execute_input": "2021-01-04T12:46:08.931290Z",
     "iopub.status.busy": "2021-01-04T12:46:08.930861Z",
     "iopub.status.idle": "2021-01-04T12:46:08.976873Z",
     "shell.execute_reply": "2021-01-04T12:46:08.976381Z"
    },
    "scrolled": true
   },
   "outputs": [
    {
     "data": {
      "text/plain": [
       "{'x1': {'x1': array([[0.35768013],\n",
       "         [0.35768013],\n",
       "         [0.55625649],\n",
       "         [0.55625649],\n",
       "         [0.46608292],\n",
       "         [0.46608292],\n",
       "         [0.79057039],\n",
       "         [0.79057039],\n",
       "         [0.39850842],\n",
       "         [0.39850842],\n",
       "         [0.09206457],\n",
       "         [0.09206457],\n",
       "         [0.14264838],\n",
       "         [0.14264838],\n",
       "         [0.47622428],\n",
       "         [0.47622428],\n",
       "         [0.17861091],\n",
       "         [0.17861091],\n",
       "         [0.56345793],\n",
       "         [0.56345793],\n",
       "         [0.63648778],\n",
       "         [0.63648778],\n",
       "         [0.76567396],\n",
       "         [0.76567396],\n",
       "         [0.15723977],\n",
       "         [0.15723977],\n",
       "         [0.2082948 ],\n",
       "         [0.2082948 ],\n",
       "         [0.03223464],\n",
       "         [0.03223464],\n",
       "         [0.59857018],\n",
       "         [0.59857018],\n",
       "         [0.27922767],\n",
       "         [0.27922767],\n",
       "         [0.39671705],\n",
       "         [0.39671705],\n",
       "         [0.02576521],\n",
       "         [0.02576521],\n",
       "         [0.19447192],\n",
       "         [0.19447192],\n",
       "         [0.96326453],\n",
       "         [0.96326453],\n",
       "         [0.79207048],\n",
       "         [0.79207048],\n",
       "         [0.36240525],\n",
       "         [0.36240525],\n",
       "         [0.58795551],\n",
       "         [0.58795551],\n",
       "         [0.06684265],\n",
       "         [0.06684265],\n",
       "         [0.33139232],\n",
       "         [0.33139232],\n",
       "         [0.11820093],\n",
       "         [0.11820093],\n",
       "         [0.57624291],\n",
       "         [0.57624291],\n",
       "         [0.09592957],\n",
       "         [0.09592957],\n",
       "         [0.58541737],\n",
       "         [0.58541737],\n",
       "         [0.92110188],\n",
       "         [0.92110188],\n",
       "         [0.9378858 ],\n",
       "         [0.9378858 ],\n",
       "         [0.51123139],\n",
       "         [0.51123139],\n",
       "         [0.91383165],\n",
       "         [0.91383165],\n",
       "         [0.84362417],\n",
       "         [0.84362417],\n",
       "         [0.34528019],\n",
       "         [0.34528019],\n",
       "         [0.88351442],\n",
       "         [0.88351442],\n",
       "         [0.96236528],\n",
       "         [0.96236528],\n",
       "         [0.07804852],\n",
       "         [0.07804852],\n",
       "         [0.90326303],\n",
       "         [0.90326303],\n",
       "         [0.30061386],\n",
       "         [0.30061386],\n",
       "         [0.98966519],\n",
       "         [0.98966519],\n",
       "         [0.8437718 ],\n",
       "         [0.8437718 ],\n",
       "         [0.42561182],\n",
       "         [0.42561182],\n",
       "         [0.53326119],\n",
       "         [0.53326119],\n",
       "         [0.9123711 ],\n",
       "         [0.9123711 ],\n",
       "         [0.59084532],\n",
       "         [0.59084532],\n",
       "         [0.06627805],\n",
       "         [0.06627805],\n",
       "         [0.934908  ],\n",
       "         [0.934908  ],\n",
       "         [0.4173032 ],\n",
       "         [0.4173032 ],\n",
       "         [0.25735284],\n",
       "         [0.25735284],\n",
       "         [0.03033298],\n",
       "         [0.03033298],\n",
       "         [0.21161181],\n",
       "         [0.21161181],\n",
       "         [0.76471812],\n",
       "         [0.76471812],\n",
       "         [0.29165817],\n",
       "         [0.29165817],\n",
       "         [0.78396853],\n",
       "         [0.78396853],\n",
       "         [0.4983287 ],\n",
       "         [0.4983287 ],\n",
       "         [0.97962789],\n",
       "         [0.97962789],\n",
       "         [0.79520193],\n",
       "         [0.79520193],\n",
       "         [0.39755541],\n",
       "         [0.39755541],\n",
       "         [0.43289112],\n",
       "         [0.43289112],\n",
       "         [0.47585802],\n",
       "         [0.47585802],\n",
       "         [0.59647897],\n",
       "         [0.59647897],\n",
       "         [0.06917703],\n",
       "         [0.06917703],\n",
       "         [0.69312858],\n",
       "         [0.69312858],\n",
       "         [0.23897438],\n",
       "         [0.23897438],\n",
       "         [0.95827361],\n",
       "         [0.95827361],\n",
       "         [0.64370238],\n",
       "         [0.64370238],\n",
       "         [0.89386537],\n",
       "         [0.89386537],\n",
       "         [0.27926981],\n",
       "         [0.27926981],\n",
       "         [0.39589501],\n",
       "         [0.39589501],\n",
       "         [0.7179105 ],\n",
       "         [0.7179105 ],\n",
       "         [0.88445046],\n",
       "         [0.88445046],\n",
       "         [0.92256035],\n",
       "         [0.92256035],\n",
       "         [0.96279779],\n",
       "         [0.96279779],\n",
       "         [0.21063809],\n",
       "         [0.21063809],\n",
       "         [0.71056136],\n",
       "         [0.71056136],\n",
       "         [0.26163282],\n",
       "         [0.26163282],\n",
       "         [0.67781696],\n",
       "         [0.67781696],\n",
       "         [0.83587305],\n",
       "         [0.83587305],\n",
       "         [0.98099503],\n",
       "         [0.98099503],\n",
       "         [0.8285043 ],\n",
       "         [0.8285043 ],\n",
       "         [0.04703227],\n",
       "         [0.04703227],\n",
       "         [0.5801549 ],\n",
       "         [0.5801549 ],\n",
       "         [0.84474206],\n",
       "         [0.84474206],\n",
       "         [0.62522071],\n",
       "         [0.62522071],\n",
       "         [0.84458067],\n",
       "         [0.84458067],\n",
       "         [0.78661166],\n",
       "         [0.78661166],\n",
       "         [0.90742455],\n",
       "         [0.90742455],\n",
       "         [0.97790162],\n",
       "         [0.97790162],\n",
       "         [0.51642658],\n",
       "         [0.51642658],\n",
       "         [0.68312366],\n",
       "         [0.68312366],\n",
       "         [0.4645674 ],\n",
       "         [0.4645674 ],\n",
       "         [0.2246451 ],\n",
       "         [0.2246451 ],\n",
       "         [0.44656312],\n",
       "         [0.44656312],\n",
       "         [0.46518161],\n",
       "         [0.46518161],\n",
       "         [0.33515755],\n",
       "         [0.33515755],\n",
       "         [0.53772773],\n",
       "         [0.53772773],\n",
       "         [0.53398088],\n",
       "         [0.53398088],\n",
       "         [0.22631438],\n",
       "         [0.22631438]])}}"
      ]
     },
     "execution_count": 1,
     "metadata": {},
     "output_type": "execute_result"
    }
   ],
   "source": [
    "ds = load_by_id(run_id_a)\n",
    "ds.get_parameter_data('x1')"
   ]
  },
  {
   "cell_type": "code",
   "execution_count": null,
   "metadata": {},
   "outputs": [],
   "source": []
  }
 ],
 "metadata": {
  "kernelspec": {
   "display_name": "Python 3",
   "language": "python",
   "name": "python3"
  },
  "language_info": {
   "codemirror_mode": {
    "name": "ipython",
    "version": 3
   },
   "file_extension": ".py",
   "mimetype": "text/x-python",
   "name": "python",
   "nbconvert_exporter": "python",
   "pygments_lexer": "ipython3",
   "version": "3.7.9"
  },
  "nbsphinx": {
   "timeout": 600
  },
  "toc": {
   "base_numbering": 1,
   "nav_menu": {},
   "number_sections": true,
   "sideBar": true,
   "skip_h1_title": false,
   "title_cell": "Table of Contents",
   "title_sidebar": "Contents",
   "toc_cell": false,
   "toc_position": {},
   "toc_section_display": true,
   "toc_window_display": false
  },
  "varInspector": {
   "cols": {
    "lenName": 16,
    "lenType": 16,
    "lenVar": 40
   },
   "kernels_config": {
    "python": {
     "delete_cmd_postfix": "",
     "delete_cmd_prefix": "del ",
     "library": "var_list.py",
     "varRefreshCmd": "print(var_dic_list())"
    },
    "r": {
     "delete_cmd_postfix": ") ",
     "delete_cmd_prefix": "rm(",
     "library": "var_list.r",
     "varRefreshCmd": "cat(var_dic_list()) "
    }
   },
   "types_to_exclude": [
    "module",
    "function",
    "builtin_function_or_method",
    "instance",
    "_Feature"
   ],
   "window_display": false
  }
 },
 "nbformat": 4,
 "nbformat_minor": 2
}
