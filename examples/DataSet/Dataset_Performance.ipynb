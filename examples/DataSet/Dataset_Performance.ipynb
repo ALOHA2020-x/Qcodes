{
 "cells": [
  {
   "cell_type": "markdown",
   "metadata": {},
   "source": [
    "# DataSet Performance\n",
    "\n",
    "This notebook shows the trade-off between inserting data into a database row-by-row and as binary blobs. Inserting the data row-by-row means that we have direct access to all the data and may perform queries directly on the values of the data. On the other hand, as we shall see, this is much slower than inserting the data directly as binary blobs."
   ]
  },
  {
   "cell_type": "markdown",
   "metadata": {},
   "source": [
    "First, we choose a new location for the database to ensure that we don't add a bunch of benchmarking data to the default one."
   ]
  },
  {
   "cell_type": "code",
   "execution_count": 1,
   "metadata": {
    "execution": {
     "iopub.execute_input": "2021-02-15T14:50:28.831713Z",
     "iopub.status.busy": "2021-02-15T14:50:28.830806Z",
     "iopub.status.idle": "2021-02-15T14:50:29.747565Z",
     "shell.execute_reply": "2021-02-15T14:50:29.746918Z"
    }
   },
   "outputs": [
    {
     "name": "stdout",
     "output_type": "stream",
     "text": [
      "Logging hadn't been started.\n",
      "Activating auto-logging. Current session state plus future input saved.\n",
      "Filename       : /home/runner/.qcodes/logs/command_history.log\n",
      "Mode           : append\n",
      "Output logging : True\n",
      "Raw input log  : False\n",
      "Timestamping   : True\n",
      "State          : active\n"
     ]
    },
    {
     "name": "stdout",
     "output_type": "stream",
     "text": [
      "Qcodes Logfile : /home/runner/.qcodes/logs/210215-3911-qcodes.log\n"
     ]
    }
   ],
   "source": [
    "import os\n",
    "cwd = os.getcwd()\n",
    "import qcodes as qc\n",
    "qc.config[\"core\"][\"db_location\"] = os.path.join(cwd, 'testing.db')\n"
   ]
  },
  {
   "cell_type": "code",
   "execution_count": 2,
   "metadata": {
    "execution": {
     "iopub.execute_input": "2021-02-15T14:50:29.755154Z",
     "iopub.status.busy": "2021-02-15T14:50:29.753549Z",
     "iopub.status.idle": "2021-02-15T14:50:29.957599Z",
     "shell.execute_reply": "2021-02-15T14:50:29.956471Z"
    }
   },
   "outputs": [],
   "source": [
    "%matplotlib inline\n",
    "import time\n",
    "import matplotlib.pyplot as plt\n",
    "import numpy as np\n",
    "\n",
    "import qcodes as qc\n",
    "from qcodes.instrument.parameter import ManualParameter\n",
    "from qcodes.dataset.experiment_container import (Experiment,\n",
    "                                                 load_last_experiment,\n",
    "                                                 new_experiment)\n",
    "from qcodes.dataset.sqlite.database import initialise_database\n",
    "from qcodes import load_or_create_experiment\n",
    "from qcodes.dataset.measurements import Measurement"
   ]
  },
  {
   "cell_type": "code",
   "execution_count": 3,
   "metadata": {
    "execution": {
     "iopub.execute_input": "2021-02-15T14:50:29.961705Z",
     "iopub.status.busy": "2021-02-15T14:50:29.961082Z",
     "iopub.status.idle": "2021-02-15T14:50:30.073330Z",
     "shell.execute_reply": "2021-02-15T14:50:30.072789Z"
    }
   },
   "outputs": [
    {
     "name": "stdout",
     "output_type": "stream",
     "text": [
      "\r",
      "0it [00:00, ?it/s]"
     ]
    },
    {
     "name": "stdout",
     "output_type": "stream",
     "text": [
      "\r",
      "Upgrading database; v0 -> v1: : 0it [00:00, ?it/s]"
     ]
    },
    {
     "name": "stdout",
     "output_type": "stream",
     "text": [
      "\r",
      "Upgrading database; v0 -> v1: : 0it [00:00, ?it/s]"
     ]
    },
    {
     "name": "stdout",
     "output_type": "stream",
     "text": [
      "\n",
      "\r",
      "  0%|          | 0/1 [00:00<?, ?it/s]"
     ]
    },
    {
     "name": "stdout",
     "output_type": "stream",
     "text": [
      "\r",
      "Upgrading database; v1 -> v2:   0%|          | 0/1 [00:00<?, ?it/s]"
     ]
    },
    {
     "name": "stdout",
     "output_type": "stream",
     "text": [
      "\r",
      "Upgrading database; v1 -> v2: 100%|██████████| 1/1 [00:00<00:00, 618.63it/s]"
     ]
    },
    {
     "name": "stdout",
     "output_type": "stream",
     "text": [
      "\n",
      "\r",
      "0it [00:00, ?it/s]"
     ]
    },
    {
     "name": "stdout",
     "output_type": "stream",
     "text": [
      "\r",
      "Upgrading database; v2 -> v3: : 0it [00:00, ?it/s]"
     ]
    },
    {
     "name": "stdout",
     "output_type": "stream",
     "text": [
      "\r",
      "Upgrading database; v2 -> v3: : 0it [00:00, ?it/s]"
     ]
    },
    {
     "name": "stdout",
     "output_type": "stream",
     "text": [
      "\n",
      "\r",
      "0it [00:00, ?it/s]"
     ]
    },
    {
     "name": "stdout",
     "output_type": "stream",
     "text": [
      "\r",
      "Upgrading database; v3 -> v4: : 0it [00:00, ?it/s]"
     ]
    },
    {
     "name": "stdout",
     "output_type": "stream",
     "text": [
      "\r",
      "Upgrading database; v3 -> v4: : 0it [00:00, ?it/s]"
     ]
    },
    {
     "name": "stdout",
     "output_type": "stream",
     "text": [
      "\n",
      "\r",
      "  0%|          | 0/1 [00:00<?, ?it/s]"
     ]
    },
    {
     "name": "stdout",
     "output_type": "stream",
     "text": [
      "\r",
      "Upgrading database; v4 -> v5:   0%|          | 0/1 [00:00<?, ?it/s]"
     ]
    },
    {
     "name": "stdout",
     "output_type": "stream",
     "text": [
      "\r",
      "Upgrading database; v4 -> v5: 100%|██████████| 1/1 [00:00<00:00, 519.29it/s]"
     ]
    },
    {
     "name": "stdout",
     "output_type": "stream",
     "text": [
      "\n",
      "\r",
      "0it [00:00, ?it/s]"
     ]
    },
    {
     "name": "stdout",
     "output_type": "stream",
     "text": [
      "\r",
      "Upgrading database; v5 -> v6: : 0it [00:00, ?it/s]"
     ]
    },
    {
     "name": "stdout",
     "output_type": "stream",
     "text": [
      "\r",
      "Upgrading database; v5 -> v6: : 0it [00:00, ?it/s]"
     ]
    },
    {
     "name": "stdout",
     "output_type": "stream",
     "text": [
      "\n",
      "\r",
      "  0%|          | 0/1 [00:00<?, ?it/s]"
     ]
    },
    {
     "name": "stdout",
     "output_type": "stream",
     "text": [
      "\r",
      "Upgrading database; v6 -> v7:   0%|          | 0/1 [00:00<?, ?it/s]"
     ]
    },
    {
     "name": "stdout",
     "output_type": "stream",
     "text": [
      "\r",
      "Upgrading database; v6 -> v7: 100%|██████████| 1/1 [00:00<00:00, 305.28it/s]"
     ]
    },
    {
     "name": "stdout",
     "output_type": "stream",
     "text": [
      "\n",
      "\r",
      "  0%|          | 0/1 [00:00<?, ?it/s]"
     ]
    },
    {
     "name": "stdout",
     "output_type": "stream",
     "text": [
      "\r",
      "Upgrading database; v7 -> v8:   0%|          | 0/1 [00:00<?, ?it/s]"
     ]
    },
    {
     "name": "stdout",
     "output_type": "stream",
     "text": [
      "\r",
      "Upgrading database; v7 -> v8: 100%|██████████| 1/1 [00:00<00:00, 601.51it/s]"
     ]
    },
    {
     "name": "stdout",
     "output_type": "stream",
     "text": [
      "\n",
      "\r",
      "  0%|          | 0/1 [00:00<?, ?it/s]"
     ]
    },
    {
     "name": "stdout",
     "output_type": "stream",
     "text": [
      "\r",
      "Upgrading database; v8 -> v9:   0%|          | 0/1 [00:00<?, ?it/s]"
     ]
    },
    {
     "name": "stdout",
     "output_type": "stream",
     "text": [
      "\r",
      "Upgrading database; v8 -> v9: 100%|██████████| 1/1 [00:00<00:00, 377.29it/s]"
     ]
    },
    {
     "name": "stdout",
     "output_type": "stream",
     "text": [
      "\n"
     ]
    }
   ],
   "source": [
    "initialise_database()\n",
    "exp = load_or_create_experiment(experiment_name='tutorial_exp', sample_name=\"no sample\")"
   ]
  },
  {
   "cell_type": "markdown",
   "metadata": {},
   "source": [
    "Here, we define a simple function to benchmark the time it takes to insert n points with either numeric or array data type.\n",
    "We will compare both the time used to call ``add_result`` and the time used for the full measurement."
   ]
  },
  {
   "cell_type": "code",
   "execution_count": 4,
   "metadata": {
    "execution": {
     "iopub.execute_input": "2021-02-15T14:50:30.082893Z",
     "iopub.status.busy": "2021-02-15T14:50:30.082298Z",
     "iopub.status.idle": "2021-02-15T14:50:30.086061Z",
     "shell.execute_reply": "2021-02-15T14:50:30.085544Z"
    }
   },
   "outputs": [],
   "source": [
    "def insert_data(paramtype, npoints, nreps=1):\n",
    "\n",
    "    meas = Measurement(exp=exp)\n",
    "\n",
    "    x1 = ManualParameter('x1')\n",
    "    x2 = ManualParameter('x2')\n",
    "    x3 = ManualParameter('x3')\n",
    "    y1 = ManualParameter('y1')\n",
    "    y2 = ManualParameter('y2')\n",
    "\n",
    "    meas.register_parameter(x1, paramtype=paramtype)\n",
    "    meas.register_parameter(x2, paramtype=paramtype)\n",
    "    meas.register_parameter(x3, paramtype=paramtype)\n",
    "    meas.register_parameter(y1, setpoints=[x1, x2, x3],\n",
    "                            paramtype=paramtype)\n",
    "    meas.register_parameter(y2, setpoints=[x1, x2, x3],\n",
    "                            paramtype=paramtype)\n",
    "    start = time.perf_counter()\n",
    "    with meas.run() as datasaver:\n",
    "        start_adding = time.perf_counter()\n",
    "        for i in range(nreps):\n",
    "            datasaver.add_result((x1, np.random.rand(npoints)),\n",
    "                                 (x2, np.random.rand(npoints)),\n",
    "                                 (x3, np.random.rand(npoints)),\n",
    "                                 (y1, np.random.rand(npoints)),\n",
    "                                 (y2, np.random.rand(npoints)))\n",
    "        stop_adding = time.perf_counter()\n",
    "        run_id = datasaver.run_id\n",
    "    stop = time.perf_counter()\n",
    "    tot_time = stop - start\n",
    "    add_time = stop_adding - start_adding\n",
    "    return tot_time, add_time, run_id"
   ]
  },
  {
   "cell_type": "markdown",
   "metadata": {},
   "source": [
    "## Comparison between numeric/array data and binary blob"
   ]
  },
  {
   "cell_type": "markdown",
   "metadata": {},
   "source": [
    "### Case1: Short experiment time"
   ]
  },
  {
   "cell_type": "code",
   "execution_count": 5,
   "metadata": {
    "execution": {
     "iopub.execute_input": "2021-02-15T14:50:30.093518Z",
     "iopub.status.busy": "2021-02-15T14:50:30.092899Z",
     "iopub.status.idle": "2021-02-15T14:50:30.929935Z",
     "shell.execute_reply": "2021-02-15T14:50:30.930475Z"
    }
   },
   "outputs": [
    {
     "name": "stdout",
     "output_type": "stream",
     "text": [
      "Starting experimental run with id: 1. \n",
      "Starting experimental run with id: 2. \n",
      "Starting experimental run with id: 3. \n",
      "Starting experimental run with id: 4. \n",
      "Starting experimental run with id: 5. \n"
     ]
    },
    {
     "name": "stdout",
     "output_type": "stream",
     "text": [
      "Starting experimental run with id: 6. \n"
     ]
    },
    {
     "name": "stdout",
     "output_type": "stream",
     "text": [
      "Starting experimental run with id: 7. "
     ]
    },
    {
     "name": "stdout",
     "output_type": "stream",
     "text": [
      "\n"
     ]
    },
    {
     "name": "stdout",
     "output_type": "stream",
     "text": [
      "Starting experimental run with id: 8. \n",
      "Starting experimental run with id: 9. \n"
     ]
    },
    {
     "name": "stdout",
     "output_type": "stream",
     "text": [
      "Starting experimental run with id: 10. \n",
      "Starting experimental run with id: 11. \n"
     ]
    },
    {
     "name": "stdout",
     "output_type": "stream",
     "text": [
      "Starting experimental run with id: 12. \n",
      "Starting experimental run with id: 13. \n"
     ]
    },
    {
     "name": "stdout",
     "output_type": "stream",
     "text": [
      "Starting experimental run with id: 14. \n"
     ]
    }
   ],
   "source": [
    "sizes = [1,500,1000,2000,3000,4000,5000]\n",
    "t_numeric = []\n",
    "t_numeric_add = []\n",
    "t_array = []\n",
    "t_array_add = []\n",
    "for size in sizes:\n",
    "    tn, tna, run_id_n =  insert_data('numeric', size)\n",
    "    t_numeric.append(tn)\n",
    "    t_numeric_add.append(tna)\n",
    "\n",
    "    ta, taa, run_id_a =  insert_data('array', size)\n",
    "    t_array.append(ta)\n",
    "    t_array_add.append(taa)"
   ]
  },
  {
   "cell_type": "code",
   "execution_count": 6,
   "metadata": {
    "execution": {
     "iopub.execute_input": "2021-02-15T14:50:30.961984Z",
     "iopub.status.busy": "2021-02-15T14:50:30.948428Z",
     "iopub.status.idle": "2021-02-15T14:50:31.141440Z",
     "shell.execute_reply": "2021-02-15T14:50:31.141910Z"
    }
   },
   "outputs": [
    {
     "data": {
      "image/png": "[encoded data removed]",
      "text/plain": [
       "<Figure size 432x288 with 1 Axes>"
      ]
     },
     "metadata": {
      "needs_background": "light"
     },
     "output_type": "display_data"
    }
   ],
   "source": [
    "fig, ax = plt.subplots(1,1)\n",
    "ax.plot(sizes, t_numeric, 'o-', label='Inserting row-by-row')\n",
    "ax.plot(sizes, t_numeric_add, 'o-', label='Inserting row-by-row: add_result only')\n",
    "ax.plot(sizes, t_array, 'd-', label='Inserting as binary blob')\n",
    "ax.plot(sizes, t_array_add, 'd-', label='Inserting as binary blob: add_result only')\n",
    "ax.legend()\n",
    "ax.set_xlabel('Array length')\n",
    "ax.set_ylabel('Time (s)')\n",
    "fig.tight_layout()"
   ]
  },
  {
   "cell_type": "markdown",
   "metadata": {},
   "source": [
    "As shown in the latter figure, the time to setup and and close the experiment is approximately 0.4 sec. In case of small array sizes, the difference between inserting values of data as arrays and inserting them row-by-row is relatively unimportant. At larger array sizes, i.e. above 10000 points, the cost of writing data as individual datapoints starts to become important.\n"
   ]
  },
  {
   "cell_type": "markdown",
   "metadata": {},
   "source": [
    "### Case2: Long experiment time "
   ]
  },
  {
   "cell_type": "code",
   "execution_count": 7,
   "metadata": {
    "execution": {
     "iopub.execute_input": "2021-02-15T14:50:31.148970Z",
     "iopub.status.busy": "2021-02-15T14:50:31.148354Z",
     "iopub.status.idle": "2021-02-15T14:51:32.672788Z",
     "shell.execute_reply": "2021-02-15T14:51:32.671793Z"
    }
   },
   "outputs": [
    {
     "name": "stdout",
     "output_type": "stream",
     "text": [
      "Starting experimental run with id: 15. \n",
      "Starting experimental run with id: 16. \n",
      "Starting experimental run with id: 17. \n"
     ]
    },
    {
     "name": "stdout",
     "output_type": "stream",
     "text": [
      "Starting experimental run with id: 18. \n"
     ]
    },
    {
     "name": "stdout",
     "output_type": "stream",
     "text": [
      "Starting experimental run with id: 19. \n"
     ]
    },
    {
     "name": "stdout",
     "output_type": "stream",
     "text": [
      "Starting experimental run with id: 20. \n"
     ]
    },
    {
     "name": "stdout",
     "output_type": "stream",
     "text": [
      "Starting experimental run with id: 21. \n"
     ]
    },
    {
     "name": "stdout",
     "output_type": "stream",
     "text": [
      "Starting experimental run with id: 22. \n"
     ]
    },
    {
     "name": "stdout",
     "output_type": "stream",
     "text": [
      "Starting experimental run with id: 23. \n"
     ]
    },
    {
     "name": "stdout",
     "output_type": "stream",
     "text": [
      "Starting experimental run with id: 24. \n"
     ]
    },
    {
     "name": "stdout",
     "output_type": "stream",
     "text": [
      "Starting experimental run with id: 25. \n"
     ]
    },
    {
     "name": "stdout",
     "output_type": "stream",
     "text": [
      "Starting experimental run with id: 26. \n"
     ]
    },
    {
     "name": "stdout",
     "output_type": "stream",
     "text": [
      "Starting experimental run with id: 27. \n"
     ]
    },
    {
     "name": "stdout",
     "output_type": "stream",
     "text": [
      "Starting experimental run with id: 28. \n"
     ]
    }
   ],
   "source": [
    "sizes = [1,500,1000,2000,3000,4000,5000]\n",
    "nreps = 100\n",
    "t_numeric = []\n",
    "t_numeric_add = []\n",
    "t_numeric_run_ids = []\n",
    "t_array = []\n",
    "t_array_add = []\n",
    "t_array_run_ids = []\n",
    "for size in sizes:\n",
    "    tn, tna, run_id_n =  insert_data('numeric', size, nreps=nreps)\n",
    "    t_numeric.append(tn)\n",
    "    t_numeric_add.append(tna)\n",
    "    t_numeric_run_ids.append(run_id_n)\n",
    "\n",
    "    ta, taa, run_id_a =  insert_data('array', size, nreps=nreps)\n",
    "    t_array.append(ta)\n",
    "    t_array_add.append(taa)\n",
    "    t_array_run_ids.append(run_id_a)"
   ]
  },
  {
   "cell_type": "code",
   "execution_count": 8,
   "metadata": {
    "execution": {
     "iopub.execute_input": "2021-02-15T14:51:32.715580Z",
     "iopub.status.busy": "2021-02-15T14:51:32.714961Z",
     "iopub.status.idle": "2021-02-15T14:51:32.891367Z",
     "shell.execute_reply": "2021-02-15T14:51:32.892125Z"
    },
    "scrolled": true
   },
   "outputs": [
    {
     "data": {
      "image/png": "[encoded data removed]",
      "text/plain": [
       "<Figure size 432x288 with 1 Axes>"
      ]
     },
     "metadata": {
      "needs_background": "light"
     },
     "output_type": "display_data"
    }
   ],
   "source": [
    "fig, ax = plt.subplots(1,1)\n",
    "ax.plot(sizes, t_numeric, 'o-', label='Inserting row-by-row')\n",
    "ax.plot(sizes, t_numeric_add, 'o-', label='Inserting row-by-row: add_result only')\n",
    "ax.plot(sizes, t_array, 'd-', label='Inserting as binary blob')\n",
    "ax.plot(sizes, t_array_add, 'd-', label='Inserting as binary blob: add_result only')\n",
    "ax.legend()\n",
    "ax.set_xlabel('Array length')\n",
    "ax.set_ylabel('Time (s)')\n",
    "fig.tight_layout()"
   ]
  },
  {
   "cell_type": "markdown",
   "metadata": {},
   "source": [
    "However, as we increase the length of the experiment, as seen here by repeating the insertion 100 times, we see a big difference between inserting values of the data row-by-row and inserting it as a binary blob."
   ]
  },
  {
   "cell_type": "markdown",
   "metadata": {},
   "source": [
    "## Loading the data "
   ]
  },
  {
   "cell_type": "code",
   "execution_count": 9,
   "metadata": {
    "execution": {
     "iopub.execute_input": "2021-02-15T14:51:32.896933Z",
     "iopub.status.busy": "2021-02-15T14:51:32.895991Z",
     "iopub.status.idle": "2021-02-15T14:51:32.901025Z",
     "shell.execute_reply": "2021-02-15T14:51:32.900229Z"
    }
   },
   "outputs": [],
   "source": [
    "from qcodes.dataset.data_set import load_by_id\n",
    "from qcodes.dataset.data_export import get_data_by_id"
   ]
  },
  {
   "cell_type": "markdown",
   "metadata": {},
   "source": [
    "As usual you can load the data by using the ``load_by_id`` function but you will notice that the different storage methods\n",
    "are reflected in shape of the data as it is retrieved. "
   ]
  },
  {
   "cell_type": "code",
   "execution_count": 10,
   "metadata": {
    "execution": {
     "iopub.execute_input": "2021-02-15T14:51:32.905020Z",
     "iopub.status.busy": "2021-02-15T14:51:32.904444Z",
     "iopub.status.idle": "2021-02-15T14:51:32.908089Z",
     "shell.execute_reply": "2021-02-15T14:51:32.907576Z"
    }
   },
   "outputs": [],
   "source": [
    "run_id_n = t_numeric_run_ids[0]\n",
    "run_id_a = t_array_run_ids[0]"
   ]
  },
  {
   "cell_type": "code",
   "execution_count": 11,
   "metadata": {
    "execution": {
     "iopub.execute_input": "2021-02-15T14:51:32.911590Z",
     "iopub.status.busy": "2021-02-15T14:51:32.911014Z",
     "iopub.status.idle": "2021-02-15T14:51:32.921169Z",
     "shell.execute_reply": "2021-02-15T14:51:32.920647Z"
    },
    "scrolled": true
   },
   "outputs": [
    {
     "data": {
      "text/plain": [
       "{'x1': {'x1': array([3.13360575e-02, 3.13360575e-02, 6.97929550e-02, 6.97929550e-02,\n",
       "         1.00618351e-01, 1.00618351e-01, 2.49962202e-01, 2.49962202e-01,\n",
       "         1.41464462e-01, 1.41464462e-01, 8.64932009e-01, 8.64932009e-01,\n",
       "         7.69764418e-01, 7.69764418e-01, 3.58740542e-01, 3.58740542e-01,\n",
       "         8.10122677e-01, 8.10122677e-01, 6.28605591e-01, 6.28605591e-01,\n",
       "         2.56009080e-03, 2.56009080e-03, 7.37138577e-01, 7.37138577e-01,\n",
       "         9.49610977e-01, 9.49610977e-01, 8.18929026e-01, 8.18929026e-01,\n",
       "         7.84383762e-01, 7.84383762e-01, 8.60075460e-01, 8.60075460e-01,\n",
       "         6.13233432e-01, 6.13233432e-01, 6.34890356e-01, 6.34890356e-01,\n",
       "         2.68837364e-01, 2.68837364e-01, 4.71321795e-01, 4.71321795e-01,\n",
       "         7.69212206e-01, 7.69212206e-01, 9.34085527e-01, 9.34085527e-01,\n",
       "         7.08784624e-01, 7.08784624e-01, 1.63007647e-02, 1.63007647e-02,\n",
       "         4.13684953e-01, 4.13684953e-01, 9.19506716e-01, 9.19506716e-01,\n",
       "         1.58661448e-02, 1.58661448e-02, 1.70130518e-01, 1.70130518e-01,\n",
       "         9.58413838e-01, 9.58413838e-01, 8.87708077e-01, 8.87708077e-01,\n",
       "         4.95105765e-01, 4.95105765e-01, 3.47419221e-01, 3.47419221e-01,\n",
       "         1.93962713e-01, 1.93962713e-01, 2.59794273e-01, 2.59794273e-01,\n",
       "         8.66445841e-01, 8.66445841e-01, 6.87008862e-01, 6.87008862e-01,\n",
       "         4.63493961e-01, 4.63493961e-01, 8.83723933e-01, 8.83723933e-01,\n",
       "         7.05049045e-01, 7.05049045e-01, 7.71440349e-01, 7.71440349e-01,\n",
       "         7.39052025e-01, 7.39052025e-01, 6.25572065e-01, 6.25572065e-01,\n",
       "         1.94947273e-01, 1.94947273e-01, 3.15735547e-02, 3.15735547e-02,\n",
       "         5.69336368e-01, 5.69336368e-01, 5.80493346e-01, 5.80493346e-01,\n",
       "         8.94523976e-01, 8.94523976e-01, 7.68004838e-01, 7.68004838e-01,\n",
       "         9.80078258e-01, 9.80078258e-01, 4.93361571e-01, 4.93361571e-01,\n",
       "         4.51707747e-02, 4.51707747e-02, 9.22338528e-01, 9.22338528e-01,\n",
       "         6.40410300e-01, 6.40410300e-01, 7.90504724e-01, 7.90504724e-01,\n",
       "         9.70692493e-01, 9.70692493e-01, 9.40122604e-01, 9.40122604e-01,\n",
       "         8.06694363e-01, 8.06694363e-01, 3.65952467e-01, 3.65952467e-01,\n",
       "         8.17929956e-04, 8.17929956e-04, 2.35758274e-01, 2.35758274e-01,\n",
       "         4.91032865e-01, 4.91032865e-01, 7.79520828e-01, 7.79520828e-01,\n",
       "         3.40159923e-01, 3.40159923e-01, 3.41147793e-01, 3.41147793e-01,\n",
       "         6.80446148e-01, 6.80446148e-01, 4.21344533e-01, 4.21344533e-01,\n",
       "         4.72488651e-01, 4.72488651e-01, 8.27459676e-02, 8.27459676e-02,\n",
       "         1.49559658e-01, 1.49559658e-01, 6.86627952e-03, 6.86627952e-03,\n",
       "         1.96256448e-01, 1.96256448e-01, 1.85669786e-01, 1.85669786e-01,\n",
       "         7.65622003e-01, 7.65622003e-01, 2.03382853e-01, 2.03382853e-01,\n",
       "         1.07458318e-01, 1.07458318e-01, 8.14787542e-01, 8.14787542e-01,\n",
       "         1.99888518e-01, 1.99888518e-01, 8.36002172e-01, 8.36002172e-01,\n",
       "         4.64479200e-01, 4.64479200e-01, 8.45747943e-01, 8.45747943e-01,\n",
       "         1.06732394e-01, 1.06732394e-01, 3.82507557e-01, 3.82507557e-01,\n",
       "         3.85899093e-01, 3.85899093e-01, 7.60227252e-01, 7.60227252e-01,\n",
       "         2.03061196e-01, 2.03061196e-01, 3.89073412e-01, 3.89073412e-01,\n",
       "         8.96592237e-01, 8.96592237e-01, 2.37530517e-01, 2.37530517e-01,\n",
       "         5.55723029e-01, 5.55723029e-01, 5.30444439e-01, 5.30444439e-01,\n",
       "         1.73500762e-01, 1.73500762e-01, 3.03425278e-01, 3.03425278e-01,\n",
       "         6.19931291e-01, 6.19931291e-01, 1.51278357e-01, 1.51278357e-01,\n",
       "         1.26317196e-01, 1.26317196e-01, 4.35756421e-01, 4.35756421e-01,\n",
       "         3.84608701e-01, 3.84608701e-01, 9.28566904e-01, 9.28566904e-01,\n",
       "         7.40086339e-01, 7.40086339e-01, 4.59367378e-01, 4.59367378e-01])}}"
      ]
     },
     "execution_count": 1,
     "metadata": {},
     "output_type": "execute_result"
    }
   ],
   "source": [
    "ds = load_by_id(run_id_n)\n",
    "ds.get_parameter_data('x1')"
   ]
  },
  {
   "cell_type": "markdown",
   "metadata": {},
   "source": [
    "And a dataset stored as binary arrays"
   ]
  },
  {
   "cell_type": "code",
   "execution_count": 12,
   "metadata": {
    "execution": {
     "iopub.execute_input": "2021-02-15T14:51:32.924758Z",
     "iopub.status.busy": "2021-02-15T14:51:32.924184Z",
     "iopub.status.idle": "2021-02-15T14:51:32.984162Z",
     "shell.execute_reply": "2021-02-15T14:51:32.984810Z"
    },
    "scrolled": true
   },
   "outputs": [
    {
     "data": {
      "text/plain": [
       "{'x1': {'x1': array([[0.43904938],\n",
       "         [0.43904938],\n",
       "         [0.13805067],\n",
       "         [0.13805067],\n",
       "         [0.39350778],\n",
       "         [0.39350778],\n",
       "         [0.66370995],\n",
       "         [0.66370995],\n",
       "         [0.20102451],\n",
       "         [0.20102451],\n",
       "         [0.6235552 ],\n",
       "         [0.6235552 ],\n",
       "         [0.5761802 ],\n",
       "         [0.5761802 ],\n",
       "         [0.46990013],\n",
       "         [0.46990013],\n",
       "         [0.1739126 ],\n",
       "         [0.1739126 ],\n",
       "         [0.50031845],\n",
       "         [0.50031845],\n",
       "         [0.94020002],\n",
       "         [0.94020002],\n",
       "         [0.05122603],\n",
       "         [0.05122603],\n",
       "         [0.79590372],\n",
       "         [0.79590372],\n",
       "         [0.0310024 ],\n",
       "         [0.0310024 ],\n",
       "         [0.14436909],\n",
       "         [0.14436909],\n",
       "         [0.93252677],\n",
       "         [0.93252677],\n",
       "         [0.96234272],\n",
       "         [0.96234272],\n",
       "         [0.31488809],\n",
       "         [0.31488809],\n",
       "         [0.38953161],\n",
       "         [0.38953161],\n",
       "         [0.16547884],\n",
       "         [0.16547884],\n",
       "         [0.61390232],\n",
       "         [0.61390232],\n",
       "         [0.26831353],\n",
       "         [0.26831353],\n",
       "         [0.08749889],\n",
       "         [0.08749889],\n",
       "         [0.75654941],\n",
       "         [0.75654941],\n",
       "         [0.23257056],\n",
       "         [0.23257056],\n",
       "         [0.45083908],\n",
       "         [0.45083908],\n",
       "         [0.08205294],\n",
       "         [0.08205294],\n",
       "         [0.59367229],\n",
       "         [0.59367229],\n",
       "         [0.88430332],\n",
       "         [0.88430332],\n",
       "         [0.04813842],\n",
       "         [0.04813842],\n",
       "         [0.64012895],\n",
       "         [0.64012895],\n",
       "         [0.16850342],\n",
       "         [0.16850342],\n",
       "         [0.83396316],\n",
       "         [0.83396316],\n",
       "         [0.25789586],\n",
       "         [0.25789586],\n",
       "         [0.53535512],\n",
       "         [0.53535512],\n",
       "         [0.47436508],\n",
       "         [0.47436508],\n",
       "         [0.53537646],\n",
       "         [0.53537646],\n",
       "         [0.56092599],\n",
       "         [0.56092599],\n",
       "         [0.66559369],\n",
       "         [0.66559369],\n",
       "         [0.49709242],\n",
       "         [0.49709242],\n",
       "         [0.30698015],\n",
       "         [0.30698015],\n",
       "         [0.96784114],\n",
       "         [0.96784114],\n",
       "         [0.24542423],\n",
       "         [0.24542423],\n",
       "         [0.21582346],\n",
       "         [0.21582346],\n",
       "         [0.17711028],\n",
       "         [0.17711028],\n",
       "         [0.2033401 ],\n",
       "         [0.2033401 ],\n",
       "         [0.92890455],\n",
       "         [0.92890455],\n",
       "         [0.26134556],\n",
       "         [0.26134556],\n",
       "         [0.10726562],\n",
       "         [0.10726562],\n",
       "         [0.56330909],\n",
       "         [0.56330909],\n",
       "         [0.89241693],\n",
       "         [0.89241693],\n",
       "         [0.9459052 ],\n",
       "         [0.9459052 ],\n",
       "         [0.63566014],\n",
       "         [0.63566014],\n",
       "         [0.48586693],\n",
       "         [0.48586693],\n",
       "         [0.7291722 ],\n",
       "         [0.7291722 ],\n",
       "         [0.00231643],\n",
       "         [0.00231643],\n",
       "         [0.2855189 ],\n",
       "         [0.2855189 ],\n",
       "         [0.44766253],\n",
       "         [0.44766253],\n",
       "         [0.78928338],\n",
       "         [0.78928338],\n",
       "         [0.4799066 ],\n",
       "         [0.4799066 ],\n",
       "         [0.28353519],\n",
       "         [0.28353519],\n",
       "         [0.66971501],\n",
       "         [0.66971501],\n",
       "         [0.57977062],\n",
       "         [0.57977062],\n",
       "         [0.63717131],\n",
       "         [0.63717131],\n",
       "         [0.77034182],\n",
       "         [0.77034182],\n",
       "         [0.67957157],\n",
       "         [0.67957157],\n",
       "         [0.63248308],\n",
       "         [0.63248308],\n",
       "         [0.98271225],\n",
       "         [0.98271225],\n",
       "         [0.0036502 ],\n",
       "         [0.0036502 ],\n",
       "         [0.82856494],\n",
       "         [0.82856494],\n",
       "         [0.45970205],\n",
       "         [0.45970205],\n",
       "         [0.68905793],\n",
       "         [0.68905793],\n",
       "         [0.74178632],\n",
       "         [0.74178632],\n",
       "         [0.25041511],\n",
       "         [0.25041511],\n",
       "         [0.64400135],\n",
       "         [0.64400135],\n",
       "         [0.16493205],\n",
       "         [0.16493205],\n",
       "         [0.47220353],\n",
       "         [0.47220353],\n",
       "         [0.88903147],\n",
       "         [0.88903147],\n",
       "         [0.11347228],\n",
       "         [0.11347228],\n",
       "         [0.76927475],\n",
       "         [0.76927475],\n",
       "         [0.65006974],\n",
       "         [0.65006974],\n",
       "         [0.93669858],\n",
       "         [0.93669858],\n",
       "         [0.80706129],\n",
       "         [0.80706129],\n",
       "         [0.12357919],\n",
       "         [0.12357919],\n",
       "         [0.40216212],\n",
       "         [0.40216212],\n",
       "         [0.84035036],\n",
       "         [0.84035036],\n",
       "         [0.43134118],\n",
       "         [0.43134118],\n",
       "         [0.35095996],\n",
       "         [0.35095996],\n",
       "         [0.93280024],\n",
       "         [0.93280024],\n",
       "         [0.55986102],\n",
       "         [0.55986102],\n",
       "         [0.94858853],\n",
       "         [0.94858853],\n",
       "         [0.00208498],\n",
       "         [0.00208498],\n",
       "         [0.54939792],\n",
       "         [0.54939792],\n",
       "         [0.41811154],\n",
       "         [0.41811154],\n",
       "         [0.72849886],\n",
       "         [0.72849886],\n",
       "         [0.86063049],\n",
       "         [0.86063049],\n",
       "         [0.26094076],\n",
       "         [0.26094076],\n",
       "         [0.66289451],\n",
       "         [0.66289451],\n",
       "         [0.10119619],\n",
       "         [0.10119619],\n",
       "         [0.55980699],\n",
       "         [0.55980699]])}}"
      ]
     },
     "execution_count": 1,
     "metadata": {},
     "output_type": "execute_result"
    }
   ],
   "source": [
    "ds = load_by_id(run_id_a)\n",
    "ds.get_parameter_data('x1')"
   ]
  },
  {
   "cell_type": "code",
   "execution_count": null,
   "metadata": {},
   "outputs": [],
   "source": []
  }
 ],
 "metadata": {
  "kernelspec": {
   "display_name": "Python 3",
   "language": "python",
   "name": "python3"
  },
  "language_info": {
   "codemirror_mode": {
    "name": "ipython",
    "version": 3
   },
   "file_extension": ".py",
   "mimetype": "text/x-python",
   "name": "python",
   "nbconvert_exporter": "python",
   "pygments_lexer": "ipython3",
   "version": "3.7.9"
  },
  "nbsphinx": {
   "timeout": 600
  },
  "toc": {
   "base_numbering": 1,
   "nav_menu": {},
   "number_sections": true,
   "sideBar": true,
   "skip_h1_title": false,
   "title_cell": "Table of Contents",
   "title_sidebar": "Contents",
   "toc_cell": false,
   "toc_position": {},
   "toc_section_display": true,
   "toc_window_display": false
  },
  "varInspector": {
   "cols": {
    "lenName": 16,
    "lenType": 16,
    "lenVar": 40
   },
   "kernels_config": {
    "python": {
     "delete_cmd_postfix": "",
     "delete_cmd_prefix": "del ",
     "library": "var_list.py",
     "varRefreshCmd": "print(var_dic_list())"
    },
    "r": {
     "delete_cmd_postfix": ") ",
     "delete_cmd_prefix": "rm(",
     "library": "var_list.r",
     "varRefreshCmd": "cat(var_dic_list()) "
    }
   },
   "types_to_exclude": [
    "module",
    "function",
    "builtin_function_or_method",
    "instance",
    "_Feature"
   ],
   "window_display": false
  }
 },
 "nbformat": 4,
 "nbformat_minor": 2
}
