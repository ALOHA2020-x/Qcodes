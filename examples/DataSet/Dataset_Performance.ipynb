{
 "cells": [
  {
   "cell_type": "markdown",
   "metadata": {},
   "source": [
    "# DataSet Performance\n",
    "\n",
    "This notebook shows the trade-off between inserting data into a database row-by-row and as binary blobs. Inserting the data row-by-row means that we have direct access to all the data and may perform queries directly on the values of the data. On the other hand, as we shall see, this is much slower than inserting the data directly as binary blobs."
   ]
  },
  {
   "cell_type": "markdown",
   "metadata": {},
   "source": [
    "First, we choose a new location for the database to ensure that we don't add a bunch of benchmarking data to the default one."
   ]
  },
  {
   "cell_type": "code",
   "execution_count": 1,
   "metadata": {
    "execution": {
     "iopub.execute_input": "2021-01-04T11:05:15.190118Z",
     "iopub.status.busy": "2021-01-04T11:05:15.189523Z",
     "iopub.status.idle": "2021-01-04T11:05:16.379726Z",
     "shell.execute_reply": "2021-01-04T11:05:16.378771Z"
    }
   },
   "outputs": [
    {
     "name": "stdout",
     "output_type": "stream",
     "text": [
      "Logging hadn't been started.\n",
      "Activating auto-logging. Current session state plus future input saved.\n",
      "Filename       : /home/vsts/.qcodes/logs/command_history.log\n",
      "Mode           : append\n",
      "Output logging : True\n",
      "Raw input log  : False\n",
      "Timestamping   : True\n",
      "State          : active\n"
     ]
    },
    {
     "name": "stdout",
     "output_type": "stream",
     "text": [
      "Qcodes Logfile : /home/vsts/.qcodes/logs/210104-13319-qcodes.log\n"
     ]
    }
   ],
   "source": [
    "import os\n",
    "cwd = os.getcwd()\n",
    "import qcodes as qc\n",
    "qc.config[\"core\"][\"db_location\"] = os.path.join(cwd, 'testing.db')\n"
   ]
  },
  {
   "cell_type": "code",
   "execution_count": 2,
   "metadata": {
    "execution": {
     "iopub.execute_input": "2021-01-04T11:05:16.387132Z",
     "iopub.status.busy": "2021-01-04T11:05:16.385617Z",
     "iopub.status.idle": "2021-01-04T11:05:16.589146Z",
     "shell.execute_reply": "2021-01-04T11:05:16.588582Z"
    }
   },
   "outputs": [],
   "source": [
    "%matplotlib inline\n",
    "import time\n",
    "import matplotlib.pyplot as plt\n",
    "import numpy as np\n",
    "\n",
    "import qcodes as qc\n",
    "from qcodes.instrument.parameter import ManualParameter\n",
    "from qcodes.dataset.experiment_container import (Experiment,\n",
    "                                                 load_last_experiment,\n",
    "                                                 new_experiment)\n",
    "from qcodes.dataset.sqlite.database import initialise_database\n",
    "from qcodes import load_or_create_experiment\n",
    "from qcodes.dataset.measurements import Measurement"
   ]
  },
  {
   "cell_type": "code",
   "execution_count": 3,
   "metadata": {
    "execution": {
     "iopub.execute_input": "2021-01-04T11:05:16.592999Z",
     "iopub.status.busy": "2021-01-04T11:05:16.592396Z",
     "iopub.status.idle": "2021-01-04T11:05:16.719478Z",
     "shell.execute_reply": "2021-01-04T11:05:16.720106Z"
    }
   },
   "outputs": [
    {
     "name": "stdout",
     "output_type": "stream",
     "text": [
      "\r",
      "0it [00:00, ?it/s]"
     ]
    },
    {
     "name": "stdout",
     "output_type": "stream",
     "text": [
      "\r",
      "Upgrading database; v0 -> v1: : 0it [00:00, ?it/s]"
     ]
    },
    {
     "name": "stdout",
     "output_type": "stream",
     "text": [
      "\r",
      "Upgrading database; v0 -> v1: : 0it [00:00, ?it/s]"
     ]
    },
    {
     "name": "stdout",
     "output_type": "stream",
     "text": [
      "\n",
      "\r",
      "  0%|          | 0/1 [00:00<?, ?it/s]"
     ]
    },
    {
     "name": "stdout",
     "output_type": "stream",
     "text": [
      "\r",
      "Upgrading database; v1 -> v2:   0%|          | 0/1 [00:00<?, ?it/s]"
     ]
    },
    {
     "name": "stdout",
     "output_type": "stream",
     "text": [
      "\r",
      "Upgrading database; v1 -> v2: 100%|██████████| 1/1 [00:00<00:00, 678.47it/s]"
     ]
    },
    {
     "name": "stdout",
     "output_type": "stream",
     "text": [
      "\n",
      "\r",
      "0it [00:00, ?it/s]"
     ]
    },
    {
     "name": "stdout",
     "output_type": "stream",
     "text": [
      "\r",
      "Upgrading database; v2 -> v3: : 0it [00:00, ?it/s]"
     ]
    },
    {
     "name": "stdout",
     "output_type": "stream",
     "text": [
      "\r",
      "Upgrading database; v2 -> v3: : 0it [00:00, ?it/s]"
     ]
    },
    {
     "name": "stdout",
     "output_type": "stream",
     "text": [
      "\n",
      "\r",
      "0it [00:00, ?it/s]"
     ]
    },
    {
     "name": "stdout",
     "output_type": "stream",
     "text": [
      "\r",
      "Upgrading database; v3 -> v4: : 0it [00:00, ?it/s]"
     ]
    },
    {
     "name": "stdout",
     "output_type": "stream",
     "text": [
      "\r",
      "Upgrading database; v3 -> v4: : 0it [00:00, ?it/s]"
     ]
    },
    {
     "name": "stdout",
     "output_type": "stream",
     "text": [
      "\n",
      "\r",
      "  0%|          | 0/1 [00:00<?, ?it/s]"
     ]
    },
    {
     "name": "stdout",
     "output_type": "stream",
     "text": [
      "\r",
      "Upgrading database; v4 -> v5:   0%|          | 0/1 [00:00<?, ?it/s]"
     ]
    },
    {
     "name": "stdout",
     "output_type": "stream",
     "text": [
      "\r",
      "Upgrading database; v4 -> v5: 100%|██████████| 1/1 [00:00<00:00, 626.02it/s]"
     ]
    },
    {
     "name": "stdout",
     "output_type": "stream",
     "text": [
      "\n",
      "\r",
      "0it [00:00, ?it/s]"
     ]
    },
    {
     "name": "stdout",
     "output_type": "stream",
     "text": [
      "\r",
      "Upgrading database; v5 -> v6: : 0it [00:00, ?it/s]"
     ]
    },
    {
     "name": "stdout",
     "output_type": "stream",
     "text": [
      "\r",
      "Upgrading database; v5 -> v6: : 0it [00:00, ?it/s]"
     ]
    },
    {
     "name": "stdout",
     "output_type": "stream",
     "text": [
      "\n",
      "\r",
      "  0%|          | 0/1 [00:00<?, ?it/s]"
     ]
    },
    {
     "name": "stdout",
     "output_type": "stream",
     "text": [
      "\r",
      "Upgrading database; v6 -> v7:   0%|          | 0/1 [00:00<?, ?it/s]"
     ]
    },
    {
     "name": "stdout",
     "output_type": "stream",
     "text": [
      "\r",
      "Upgrading database; v6 -> v7: 100%|██████████| 1/1 [00:00<00:00, 228.40it/s]"
     ]
    },
    {
     "name": "stdout",
     "output_type": "stream",
     "text": [
      "\n",
      "\r",
      "  0%|          | 0/1 [00:00<?, ?it/s]"
     ]
    },
    {
     "name": "stdout",
     "output_type": "stream",
     "text": [
      "\r",
      "Upgrading database; v7 -> v8:   0%|          | 0/1 [00:00<?, ?it/s]"
     ]
    },
    {
     "name": "stdout",
     "output_type": "stream",
     "text": [
      "\r",
      "Upgrading database; v7 -> v8: 100%|██████████| 1/1 [00:00<00:00, 601.68it/s]"
     ]
    },
    {
     "name": "stdout",
     "output_type": "stream",
     "text": [
      "\n",
      "\r",
      "  0%|          | 0/1 [00:00<?, ?it/s]"
     ]
    },
    {
     "name": "stdout",
     "output_type": "stream",
     "text": [
      "\r",
      "Upgrading database; v8 -> v9:   0%|          | 0/1 [00:00<?, ?it/s]"
     ]
    },
    {
     "name": "stdout",
     "output_type": "stream",
     "text": [
      "\r",
      "Upgrading database; v8 -> v9: 100%|██████████| 1/1 [00:00<00:00, 330.60it/s]"
     ]
    },
    {
     "name": "stdout",
     "output_type": "stream",
     "text": [
      "\n"
     ]
    }
   ],
   "source": [
    "initialise_database()\n",
    "exp = load_or_create_experiment(experiment_name='tutorial_exp', sample_name=\"no sample\")"
   ]
  },
  {
   "cell_type": "markdown",
   "metadata": {},
   "source": [
    "Here, we define a simple function to benchmark the time it takes to insert n points with either numeric or array data type.\n",
    "We will compare both the time used to call ``add_result`` and the time used for the full measurement."
   ]
  },
  {
   "cell_type": "code",
   "execution_count": 4,
   "metadata": {
    "execution": {
     "iopub.execute_input": "2021-01-04T11:05:16.728737Z",
     "iopub.status.busy": "2021-01-04T11:05:16.728149Z",
     "iopub.status.idle": "2021-01-04T11:05:16.737429Z",
     "shell.execute_reply": "2021-01-04T11:05:16.736812Z"
    }
   },
   "outputs": [],
   "source": [
    "def insert_data(paramtype, npoints, nreps=1):\n",
    "\n",
    "    meas = Measurement(exp=exp)\n",
    "\n",
    "    x1 = ManualParameter('x1')\n",
    "    x2 = ManualParameter('x2')\n",
    "    x3 = ManualParameter('x3')\n",
    "    y1 = ManualParameter('y1')\n",
    "    y2 = ManualParameter('y2')\n",
    "\n",
    "    meas.register_parameter(x1, paramtype=paramtype)\n",
    "    meas.register_parameter(x2, paramtype=paramtype)\n",
    "    meas.register_parameter(x3, paramtype=paramtype)\n",
    "    meas.register_parameter(y1, setpoints=[x1, x2, x3],\n",
    "                            paramtype=paramtype)\n",
    "    meas.register_parameter(y2, setpoints=[x1, x2, x3],\n",
    "                            paramtype=paramtype)\n",
    "    start = time.perf_counter()\n",
    "    with meas.run() as datasaver:\n",
    "        start_adding = time.perf_counter()\n",
    "        for i in range(nreps):\n",
    "            datasaver.add_result((x1, np.random.rand(npoints)),\n",
    "                                 (x2, np.random.rand(npoints)),\n",
    "                                 (x3, np.random.rand(npoints)),\n",
    "                                 (y1, np.random.rand(npoints)),\n",
    "                                 (y2, np.random.rand(npoints)))\n",
    "        stop_adding = time.perf_counter()\n",
    "        run_id = datasaver.run_id\n",
    "    stop = time.perf_counter()\n",
    "    tot_time = stop - start\n",
    "    add_time = stop_adding - start_adding\n",
    "    return tot_time, add_time, run_id"
   ]
  },
  {
   "cell_type": "markdown",
   "metadata": {},
   "source": [
    "## Comparison between numeric/array data and binary blob"
   ]
  },
  {
   "cell_type": "markdown",
   "metadata": {},
   "source": [
    "### Case1: Short experiment time"
   ]
  },
  {
   "cell_type": "code",
   "execution_count": 5,
   "metadata": {
    "execution": {
     "iopub.execute_input": "2021-01-04T11:05:16.746667Z",
     "iopub.status.busy": "2021-01-04T11:05:16.745286Z",
     "iopub.status.idle": "2021-01-04T11:05:17.667968Z",
     "shell.execute_reply": "2021-01-04T11:05:17.666945Z"
    }
   },
   "outputs": [
    {
     "name": "stdout",
     "output_type": "stream",
     "text": [
      "Starting experimental run with id: 1. \n",
      "Starting experimental run with id: 2. \n",
      "Starting experimental run with id: 3. \n",
      "Starting experimental run with id: 4. \n"
     ]
    },
    {
     "name": "stdout",
     "output_type": "stream",
     "text": [
      "Starting experimental run with id: 5. \n"
     ]
    },
    {
     "name": "stdout",
     "output_type": "stream",
     "text": [
      "Starting experimental run with id: 6. \n",
      "Starting experimental run with id: 7. \n"
     ]
    },
    {
     "name": "stdout",
     "output_type": "stream",
     "text": [
      "Starting experimental run with id: 8. \n"
     ]
    },
    {
     "name": "stdout",
     "output_type": "stream",
     "text": [
      "Starting experimental run with id: 9. \n"
     ]
    },
    {
     "name": "stdout",
     "output_type": "stream",
     "text": [
      "Starting experimental run with id: 10. \n",
      "Starting experimental run with id: 11. \n"
     ]
    },
    {
     "name": "stdout",
     "output_type": "stream",
     "text": [
      "Starting experimental run with id: 12. \n"
     ]
    },
    {
     "name": "stdout",
     "output_type": "stream",
     "text": [
      "Starting experimental run with id: 13. \n"
     ]
    },
    {
     "name": "stdout",
     "output_type": "stream",
     "text": [
      "Starting experimental run with id: 14. \n"
     ]
    }
   ],
   "source": [
    "sizes = [1,500,1000,2000,3000,4000,5000]\n",
    "t_numeric = []\n",
    "t_numeric_add = []\n",
    "t_array = []\n",
    "t_array_add = []\n",
    "for size in sizes:\n",
    "    tn, tna, run_id_n =  insert_data('numeric', size)\n",
    "    t_numeric.append(tn)\n",
    "    t_numeric_add.append(tna)\n",
    "\n",
    "    ta, taa, run_id_a =  insert_data('array', size)\n",
    "    t_array.append(ta)\n",
    "    t_array_add.append(taa)"
   ]
  },
  {
   "cell_type": "code",
   "execution_count": 6,
   "metadata": {
    "execution": {
     "iopub.execute_input": "2021-01-04T11:05:17.688763Z",
     "iopub.status.busy": "2021-01-04T11:05:17.680413Z",
     "iopub.status.idle": "2021-01-04T11:05:17.929523Z",
     "shell.execute_reply": "2021-01-04T11:05:17.928655Z"
    }
   },
   "outputs": [
    {
     "data": {
      "image/png": "[encoded data removed]",
      "text/plain": [
       "<Figure size 432x288 with 1 Axes>"
      ]
     },
     "metadata": {
      "needs_background": "light"
     },
     "output_type": "display_data"
    }
   ],
   "source": [
    "fig, ax = plt.subplots(1,1)\n",
    "ax.plot(sizes, t_numeric, 'o-', label='Inserting row-by-row')\n",
    "ax.plot(sizes, t_numeric_add, 'o-', label='Inserting row-by-row: add_result only')\n",
    "ax.plot(sizes, t_array, 'd-', label='Inserting as binary blob')\n",
    "ax.plot(sizes, t_array_add, 'd-', label='Inserting as binary blob: add_result only')\n",
    "ax.legend()\n",
    "ax.set_xlabel('Array length')\n",
    "ax.set_ylabel('Time (s)')\n",
    "fig.tight_layout()"
   ]
  },
  {
   "cell_type": "markdown",
   "metadata": {},
   "source": [
    "As shown in the latter figure, the time to setup and and close the experiment is approximately 0.4 sec. In case of small array sizes, the difference between inserting values of data as arrays and inserting them row-by-row is relatively unimportant. At larger array sizes, i.e. above 10000 points, the cost of writing data as individual datapoints starts to become important.\n"
   ]
  },
  {
   "cell_type": "markdown",
   "metadata": {},
   "source": [
    "### Case2: Long experiment time "
   ]
  },
  {
   "cell_type": "code",
   "execution_count": 7,
   "metadata": {
    "execution": {
     "iopub.execute_input": "2021-01-04T11:05:17.937840Z",
     "iopub.status.busy": "2021-01-04T11:05:17.937137Z",
     "iopub.status.idle": "2021-01-04T11:06:21.017504Z",
     "shell.execute_reply": "2021-01-04T11:06:21.017008Z"
    }
   },
   "outputs": [
    {
     "name": "stdout",
     "output_type": "stream",
     "text": [
      "Starting experimental run with id: 15. \n",
      "Starting experimental run with id: 16. \n",
      "Starting experimental run with id: 17. \n"
     ]
    },
    {
     "name": "stdout",
     "output_type": "stream",
     "text": [
      "Starting experimental run with id: 18. \n",
      "Starting experimental run with id: 19. \n"
     ]
    },
    {
     "name": "stdout",
     "output_type": "stream",
     "text": [
      "Starting experimental run with id: 20. \n"
     ]
    },
    {
     "name": "stdout",
     "output_type": "stream",
     "text": [
      "Starting experimental run with id: 21. \n"
     ]
    },
    {
     "name": "stdout",
     "output_type": "stream",
     "text": [
      "Starting experimental run with id: 22. \n"
     ]
    },
    {
     "name": "stdout",
     "output_type": "stream",
     "text": [
      "Starting experimental run with id: 23. \n"
     ]
    },
    {
     "name": "stdout",
     "output_type": "stream",
     "text": [
      "Starting experimental run with id: 24. \n"
     ]
    },
    {
     "name": "stdout",
     "output_type": "stream",
     "text": [
      "Starting experimental run with id: 25. \n"
     ]
    },
    {
     "name": "stdout",
     "output_type": "stream",
     "text": [
      "Starting experimental run with id: 26. \n"
     ]
    },
    {
     "name": "stdout",
     "output_type": "stream",
     "text": [
      "Starting experimental run with id: 27. \n"
     ]
    },
    {
     "name": "stdout",
     "output_type": "stream",
     "text": [
      "Starting experimental run with id: 28. \n"
     ]
    }
   ],
   "source": [
    "sizes = [1,500,1000,2000,3000,4000,5000]\n",
    "nreps = 100\n",
    "t_numeric = []\n",
    "t_numeric_add = []\n",
    "t_numeric_run_ids = []\n",
    "t_array = []\n",
    "t_array_add = []\n",
    "t_array_run_ids = []\n",
    "for size in sizes:\n",
    "    tn, tna, run_id_n =  insert_data('numeric', size, nreps=nreps)\n",
    "    t_numeric.append(tn)\n",
    "    t_numeric_add.append(tna)\n",
    "    t_numeric_run_ids.append(run_id_n)\n",
    "\n",
    "    ta, taa, run_id_a =  insert_data('array', size, nreps=nreps)\n",
    "    t_array.append(ta)\n",
    "    t_array_add.append(taa)\n",
    "    t_array_run_ids.append(run_id_a)"
   ]
  },
  {
   "cell_type": "code",
   "execution_count": 8,
   "metadata": {
    "execution": {
     "iopub.execute_input": "2021-01-04T11:06:21.036248Z",
     "iopub.status.busy": "2021-01-04T11:06:21.035397Z",
     "iopub.status.idle": "2021-01-04T11:06:21.293369Z",
     "shell.execute_reply": "2021-01-04T11:06:21.292828Z"
    },
    "scrolled": true
   },
   "outputs": [
    {
     "data": {
      "image/png": "[encoded data removed]",
      "text/plain": [
       "<Figure size 432x288 with 1 Axes>"
      ]
     },
     "metadata": {
      "needs_background": "light"
     },
     "output_type": "display_data"
    }
   ],
   "source": [
    "fig, ax = plt.subplots(1,1)\n",
    "ax.plot(sizes, t_numeric, 'o-', label='Inserting row-by-row')\n",
    "ax.plot(sizes, t_numeric_add, 'o-', label='Inserting row-by-row: add_result only')\n",
    "ax.plot(sizes, t_array, 'd-', label='Inserting as binary blob')\n",
    "ax.plot(sizes, t_array_add, 'd-', label='Inserting as binary blob: add_result only')\n",
    "ax.legend()\n",
    "ax.set_xlabel('Array length')\n",
    "ax.set_ylabel('Time (s)')\n",
    "fig.tight_layout()"
   ]
  },
  {
   "cell_type": "markdown",
   "metadata": {},
   "source": [
    "However, as we increase the length of the experiment, as seen here by repeating the insertion 100 times, we see a big difference between inserting values of the data row-by-row and inserting it as a binary blob."
   ]
  },
  {
   "cell_type": "markdown",
   "metadata": {},
   "source": [
    "## Loading the data "
   ]
  },
  {
   "cell_type": "code",
   "execution_count": 9,
   "metadata": {
    "execution": {
     "iopub.execute_input": "2021-01-04T11:06:21.297734Z",
     "iopub.status.busy": "2021-01-04T11:06:21.297130Z",
     "iopub.status.idle": "2021-01-04T11:06:21.301284Z",
     "shell.execute_reply": "2021-01-04T11:06:21.300483Z"
    }
   },
   "outputs": [],
   "source": [
    "from qcodes.dataset.data_set import load_by_id\n",
    "from qcodes.dataset.data_export import get_data_by_id"
   ]
  },
  {
   "cell_type": "markdown",
   "metadata": {},
   "source": [
    "As usual you can load the data by using the ``load_by_id`` function but you will notice that the different storage methods\n",
    "are reflected in shape of the data as it is retrieved. "
   ]
  },
  {
   "cell_type": "code",
   "execution_count": 10,
   "metadata": {
    "execution": {
     "iopub.execute_input": "2021-01-04T11:06:21.306113Z",
     "iopub.status.busy": "2021-01-04T11:06:21.304888Z",
     "iopub.status.idle": "2021-01-04T11:06:21.306701Z",
     "shell.execute_reply": "2021-01-04T11:06:21.307331Z"
    }
   },
   "outputs": [],
   "source": [
    "run_id_n = t_numeric_run_ids[0]\n",
    "run_id_a = t_array_run_ids[0]"
   ]
  },
  {
   "cell_type": "code",
   "execution_count": 11,
   "metadata": {
    "execution": {
     "iopub.execute_input": "2021-01-04T11:06:21.311092Z",
     "iopub.status.busy": "2021-01-04T11:06:21.310461Z",
     "iopub.status.idle": "2021-01-04T11:06:21.321036Z",
     "shell.execute_reply": "2021-01-04T11:06:21.320421Z"
    },
    "scrolled": true
   },
   "outputs": [
    {
     "data": {
      "text/plain": [
       "{'x1': {'x1': array([0.06993251, 0.06993251, 0.39580843, 0.39580843, 0.46051443,\n",
       "         0.46051443, 0.04892726, 0.04892726, 0.85159915, 0.85159915,\n",
       "         0.5820487 , 0.5820487 , 0.26258048, 0.26258048, 0.49901942,\n",
       "         0.49901942, 0.79127538, 0.79127538, 0.5104563 , 0.5104563 ,\n",
       "         0.56716793, 0.56716793, 0.56419404, 0.56419404, 0.57672867,\n",
       "         0.57672867, 0.77086079, 0.77086079, 0.31843008, 0.31843008,\n",
       "         0.50517924, 0.50517924, 0.30569466, 0.30569466, 0.9617557 ,\n",
       "         0.9617557 , 0.11449531, 0.11449531, 0.20104816, 0.20104816,\n",
       "         0.21325771, 0.21325771, 0.73614757, 0.73614757, 0.69996421,\n",
       "         0.69996421, 0.07034324, 0.07034324, 0.11630361, 0.11630361,\n",
       "         0.88489998, 0.88489998, 0.65768721, 0.65768721, 0.50950696,\n",
       "         0.50950696, 0.28395   , 0.28395   , 0.70061312, 0.70061312,\n",
       "         0.45831999, 0.45831999, 0.02843054, 0.02843054, 0.76478573,\n",
       "         0.76478573, 0.09266533, 0.09266533, 0.52332255, 0.52332255,\n",
       "         0.11279936, 0.11279936, 0.19109565, 0.19109565, 0.86759832,\n",
       "         0.86759832, 0.85693057, 0.85693057, 0.28768741, 0.28768741,\n",
       "         0.97470573, 0.97470573, 0.91832937, 0.91832937, 0.29159778,\n",
       "         0.29159778, 0.29460726, 0.29460726, 0.50023593, 0.50023593,\n",
       "         0.60715222, 0.60715222, 0.40029347, 0.40029347, 0.61825647,\n",
       "         0.61825647, 0.93662902, 0.93662902, 0.54210905, 0.54210905,\n",
       "         0.19892587, 0.19892587, 0.92509199, 0.92509199, 0.02575046,\n",
       "         0.02575046, 0.43295871, 0.43295871, 0.56293642, 0.56293642,\n",
       "         0.86178354, 0.86178354, 0.91317356, 0.91317356, 0.3522516 ,\n",
       "         0.3522516 , 0.97942423, 0.97942423, 0.57518328, 0.57518328,\n",
       "         0.54061215, 0.54061215, 0.24334411, 0.24334411, 0.82171958,\n",
       "         0.82171958, 0.28520836, 0.28520836, 0.67527014, 0.67527014,\n",
       "         0.41990141, 0.41990141, 0.31895673, 0.31895673, 0.41889115,\n",
       "         0.41889115, 0.51218579, 0.51218579, 0.510746  , 0.510746  ,\n",
       "         0.86650107, 0.86650107, 0.15652884, 0.15652884, 0.07968557,\n",
       "         0.07968557, 0.64164918, 0.64164918, 0.82446261, 0.82446261,\n",
       "         0.2327864 , 0.2327864 , 0.2296166 , 0.2296166 , 0.90417898,\n",
       "         0.90417898, 0.72490119, 0.72490119, 0.80105135, 0.80105135,\n",
       "         0.89420506, 0.89420506, 0.07561207, 0.07561207, 0.96495671,\n",
       "         0.96495671, 0.16428877, 0.16428877, 0.07675727, 0.07675727,\n",
       "         0.72676276, 0.72676276, 0.1833825 , 0.1833825 , 0.75022151,\n",
       "         0.75022151, 0.84264341, 0.84264341, 0.88306585, 0.88306585,\n",
       "         0.60959322, 0.60959322, 0.3826677 , 0.3826677 , 0.92564682,\n",
       "         0.92564682, 0.36777348, 0.36777348, 0.8791053 , 0.8791053 ,\n",
       "         0.0836639 , 0.0836639 , 0.19637483, 0.19637483, 0.53784798,\n",
       "         0.53784798, 0.68355144, 0.68355144, 0.08266421, 0.08266421])}}"
      ]
     },
     "execution_count": 1,
     "metadata": {},
     "output_type": "execute_result"
    }
   ],
   "source": [
    "ds = load_by_id(run_id_n)\n",
    "ds.get_parameter_data('x1')"
   ]
  },
  {
   "cell_type": "markdown",
   "metadata": {},
   "source": [
    "And a dataset stored as binary arrays"
   ]
  },
  {
   "cell_type": "code",
   "execution_count": 12,
   "metadata": {
    "execution": {
     "iopub.execute_input": "2021-01-04T11:06:21.329415Z",
     "iopub.status.busy": "2021-01-04T11:06:21.328831Z",
     "iopub.status.idle": "2021-01-04T11:06:21.393557Z",
     "shell.execute_reply": "2021-01-04T11:06:21.394155Z"
    },
    "scrolled": true
   },
   "outputs": [
    {
     "data": {
      "text/plain": [
       "{'x1': {'x1': array([[0.61304961],\n",
       "         [0.61304961],\n",
       "         [0.74113884],\n",
       "         [0.74113884],\n",
       "         [0.81926407],\n",
       "         [0.81926407],\n",
       "         [0.14020723],\n",
       "         [0.14020723],\n",
       "         [0.40068019],\n",
       "         [0.40068019],\n",
       "         [0.60035755],\n",
       "         [0.60035755],\n",
       "         [0.89194873],\n",
       "         [0.89194873],\n",
       "         [0.99096728],\n",
       "         [0.99096728],\n",
       "         [0.93042092],\n",
       "         [0.93042092],\n",
       "         [0.21537973],\n",
       "         [0.21537973],\n",
       "         [0.84847709],\n",
       "         [0.84847709],\n",
       "         [0.88445358],\n",
       "         [0.88445358],\n",
       "         [0.63410361],\n",
       "         [0.63410361],\n",
       "         [0.95114547],\n",
       "         [0.95114547],\n",
       "         [0.94652639],\n",
       "         [0.94652639],\n",
       "         [0.36505164],\n",
       "         [0.36505164],\n",
       "         [0.55832558],\n",
       "         [0.55832558],\n",
       "         [0.71885473],\n",
       "         [0.71885473],\n",
       "         [0.72636786],\n",
       "         [0.72636786],\n",
       "         [0.82231189],\n",
       "         [0.82231189],\n",
       "         [0.67905889],\n",
       "         [0.67905889],\n",
       "         [0.19087343],\n",
       "         [0.19087343],\n",
       "         [0.16056881],\n",
       "         [0.16056881],\n",
       "         [0.89973402],\n",
       "         [0.89973402],\n",
       "         [0.55946374],\n",
       "         [0.55946374],\n",
       "         [0.83116571],\n",
       "         [0.83116571],\n",
       "         [0.53671171],\n",
       "         [0.53671171],\n",
       "         [0.86691238],\n",
       "         [0.86691238],\n",
       "         [0.97761906],\n",
       "         [0.97761906],\n",
       "         [0.62773512],\n",
       "         [0.62773512],\n",
       "         [0.42609872],\n",
       "         [0.42609872],\n",
       "         [0.54055875],\n",
       "         [0.54055875],\n",
       "         [0.44491496],\n",
       "         [0.44491496],\n",
       "         [0.42504265],\n",
       "         [0.42504265],\n",
       "         [0.23837981],\n",
       "         [0.23837981],\n",
       "         [0.62158324],\n",
       "         [0.62158324],\n",
       "         [0.02428604],\n",
       "         [0.02428604],\n",
       "         [0.36455303],\n",
       "         [0.36455303],\n",
       "         [0.3769342 ],\n",
       "         [0.3769342 ],\n",
       "         [0.3196202 ],\n",
       "         [0.3196202 ],\n",
       "         [0.53393496],\n",
       "         [0.53393496],\n",
       "         [0.96880921],\n",
       "         [0.96880921],\n",
       "         [0.51001287],\n",
       "         [0.51001287],\n",
       "         [0.3261755 ],\n",
       "         [0.3261755 ],\n",
       "         [0.90066908],\n",
       "         [0.90066908],\n",
       "         [0.91314865],\n",
       "         [0.91314865],\n",
       "         [0.87933245],\n",
       "         [0.87933245],\n",
       "         [0.49434221],\n",
       "         [0.49434221],\n",
       "         [0.17209441],\n",
       "         [0.17209441],\n",
       "         [0.73749712],\n",
       "         [0.73749712],\n",
       "         [0.19820191],\n",
       "         [0.19820191],\n",
       "         [0.20903578],\n",
       "         [0.20903578],\n",
       "         [0.85605145],\n",
       "         [0.85605145],\n",
       "         [0.27215442],\n",
       "         [0.27215442],\n",
       "         [0.72477146],\n",
       "         [0.72477146],\n",
       "         [0.12433377],\n",
       "         [0.12433377],\n",
       "         [0.20477061],\n",
       "         [0.20477061],\n",
       "         [0.80333412],\n",
       "         [0.80333412],\n",
       "         [0.05043631],\n",
       "         [0.05043631],\n",
       "         [0.22461326],\n",
       "         [0.22461326],\n",
       "         [0.96284708],\n",
       "         [0.96284708],\n",
       "         [0.30500132],\n",
       "         [0.30500132],\n",
       "         [0.93191091],\n",
       "         [0.93191091],\n",
       "         [0.60161454],\n",
       "         [0.60161454],\n",
       "         [0.6160167 ],\n",
       "         [0.6160167 ],\n",
       "         [0.50986112],\n",
       "         [0.50986112],\n",
       "         [0.43494323],\n",
       "         [0.43494323],\n",
       "         [0.84774831],\n",
       "         [0.84774831],\n",
       "         [0.50717995],\n",
       "         [0.50717995],\n",
       "         [0.8364004 ],\n",
       "         [0.8364004 ],\n",
       "         [0.83304636],\n",
       "         [0.83304636],\n",
       "         [0.86875957],\n",
       "         [0.86875957],\n",
       "         [0.14653706],\n",
       "         [0.14653706],\n",
       "         [0.97889748],\n",
       "         [0.97889748],\n",
       "         [0.89304795],\n",
       "         [0.89304795],\n",
       "         [0.062456  ],\n",
       "         [0.062456  ],\n",
       "         [0.52092953],\n",
       "         [0.52092953],\n",
       "         [0.05223484],\n",
       "         [0.05223484],\n",
       "         [0.0035666 ],\n",
       "         [0.0035666 ],\n",
       "         [0.48040551],\n",
       "         [0.48040551],\n",
       "         [0.63398336],\n",
       "         [0.63398336],\n",
       "         [0.2380863 ],\n",
       "         [0.2380863 ],\n",
       "         [0.99042266],\n",
       "         [0.99042266],\n",
       "         [0.98079771],\n",
       "         [0.98079771],\n",
       "         [0.60123064],\n",
       "         [0.60123064],\n",
       "         [0.20177333],\n",
       "         [0.20177333],\n",
       "         [0.03775525],\n",
       "         [0.03775525],\n",
       "         [0.72365423],\n",
       "         [0.72365423],\n",
       "         [0.73921299],\n",
       "         [0.73921299],\n",
       "         [0.13569656],\n",
       "         [0.13569656],\n",
       "         [0.91145837],\n",
       "         [0.91145837],\n",
       "         [0.98403198],\n",
       "         [0.98403198],\n",
       "         [0.86159091],\n",
       "         [0.86159091],\n",
       "         [0.99593951],\n",
       "         [0.99593951],\n",
       "         [0.62006786],\n",
       "         [0.62006786],\n",
       "         [0.56903526],\n",
       "         [0.56903526],\n",
       "         [0.91817323],\n",
       "         [0.91817323],\n",
       "         [0.12167194],\n",
       "         [0.12167194],\n",
       "         [0.74970749],\n",
       "         [0.74970749],\n",
       "         [0.89829739],\n",
       "         [0.89829739]])}}"
      ]
     },
     "execution_count": 1,
     "metadata": {},
     "output_type": "execute_result"
    }
   ],
   "source": [
    "ds = load_by_id(run_id_a)\n",
    "ds.get_parameter_data('x1')"
   ]
  },
  {
   "cell_type": "code",
   "execution_count": null,
   "metadata": {},
   "outputs": [],
   "source": []
  }
 ],
 "metadata": {
  "kernelspec": {
   "display_name": "Python 3",
   "language": "python",
   "name": "python3"
  },
  "language_info": {
   "codemirror_mode": {
    "name": "ipython",
    "version": 3
   },
   "file_extension": ".py",
   "mimetype": "text/x-python",
   "name": "python",
   "nbconvert_exporter": "python",
   "pygments_lexer": "ipython3",
   "version": "3.7.9"
  },
  "nbsphinx": {
   "timeout": 600
  },
  "toc": {
   "base_numbering": 1,
   "nav_menu": {},
   "number_sections": true,
   "sideBar": true,
   "skip_h1_title": false,
   "title_cell": "Table of Contents",
   "title_sidebar": "Contents",
   "toc_cell": false,
   "toc_position": {},
   "toc_section_display": true,
   "toc_window_display": false
  },
  "varInspector": {
   "cols": {
    "lenName": 16,
    "lenType": 16,
    "lenVar": 40
   },
   "kernels_config": {
    "python": {
     "delete_cmd_postfix": "",
     "delete_cmd_prefix": "del ",
     "library": "var_list.py",
     "varRefreshCmd": "print(var_dic_list())"
    },
    "r": {
     "delete_cmd_postfix": ") ",
     "delete_cmd_prefix": "rm(",
     "library": "var_list.r",
     "varRefreshCmd": "cat(var_dic_list()) "
    }
   },
   "types_to_exclude": [
    "module",
    "function",
    "builtin_function_or_method",
    "instance",
    "_Feature"
   ],
   "window_display": false
  }
 },
 "nbformat": 4,
 "nbformat_minor": 2
}
