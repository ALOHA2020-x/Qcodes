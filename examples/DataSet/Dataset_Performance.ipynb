{
 "cells": [
  {
   "cell_type": "markdown",
   "metadata": {},
   "source": [
    "# DataSet Performance\n",
    "\n",
    "This notebook shows the trade-off between inserting data into a database row-by-row and as binary blobs. Inserting the data row-by-row means that we have direct access to all the data and may perform queries directly on the values of the data. On the other hand, as we shall see, this is much slower than inserting the data directly as binary blobs."
   ]
  },
  {
   "cell_type": "markdown",
   "metadata": {},
   "source": [
    "First, we choose a new location for the database to ensure that we don't add a bunch of benchmarking data to the default one."
   ]
  },
  {
   "cell_type": "code",
   "execution_count": 1,
   "metadata": {
    "execution": {
     "iopub.execute_input": "2021-03-25T07:58:54.639844Z",
     "iopub.status.busy": "2021-03-25T07:58:54.639096Z",
     "iopub.status.idle": "2021-03-25T07:58:55.822687Z",
     "shell.execute_reply": "2021-03-25T07:58:55.821609Z"
    }
   },
   "outputs": [
    {
     "name": "stdout",
     "output_type": "stream",
     "text": [
      "Logging hadn't been started.\n",
      "Activating auto-logging. Current session state plus future input saved.\n",
      "Filename       : /home/runner/.qcodes/logs/command_history.log\n",
      "Mode           : append\n",
      "Output logging : True\n",
      "Raw input log  : False\n",
      "Timestamping   : True\n",
      "State          : active\n"
     ]
    },
    {
     "name": "stdout",
     "output_type": "stream",
     "text": [
      "Qcodes Logfile : /home/runner/.qcodes/logs/210325-4492-qcodes.log\n"
     ]
    }
   ],
   "source": [
    "import os\n",
    "cwd = os.getcwd()\n",
    "import qcodes as qc\n",
    "qc.config[\"core\"][\"db_location\"] = os.path.join(cwd, 'testing.db')\n"
   ]
  },
  {
   "cell_type": "code",
   "execution_count": 2,
   "metadata": {
    "execution": {
     "iopub.execute_input": "2021-03-25T07:58:55.831017Z",
     "iopub.status.busy": "2021-03-25T07:58:55.829606Z",
     "iopub.status.idle": "2021-03-25T07:58:56.125991Z",
     "shell.execute_reply": "2021-03-25T07:58:56.125379Z"
    }
   },
   "outputs": [],
   "source": [
    "%matplotlib inline\n",
    "import time\n",
    "import matplotlib.pyplot as plt\n",
    "import numpy as np\n",
    "\n",
    "import qcodes as qc\n",
    "from qcodes.instrument.parameter import ManualParameter\n",
    "from qcodes.dataset.experiment_container import (Experiment,\n",
    "                                                 load_last_experiment,\n",
    "                                                 new_experiment)\n",
    "from qcodes.dataset.sqlite.database import initialise_database\n",
    "from qcodes import load_or_create_experiment\n",
    "from qcodes.dataset.measurements import Measurement"
   ]
  },
  {
   "cell_type": "code",
   "execution_count": 3,
   "metadata": {
    "execution": {
     "iopub.execute_input": "2021-03-25T07:58:56.131560Z",
     "iopub.status.busy": "2021-03-25T07:58:56.129253Z",
     "iopub.status.idle": "2021-03-25T07:58:56.233812Z",
     "shell.execute_reply": "2021-03-25T07:58:56.232832Z"
    }
   },
   "outputs": [
    {
     "name": "stdout",
     "output_type": "stream",
     "text": [
      "\r",
      "0it [00:00, ?it/s]"
     ]
    },
    {
     "name": "stdout",
     "output_type": "stream",
     "text": [
      "\r",
      "Upgrading database; v0 -> v1: : 0it [00:00, ?it/s]"
     ]
    },
    {
     "name": "stdout",
     "output_type": "stream",
     "text": [
      "\r",
      "Upgrading database; v0 -> v1: : 0it [00:00, ?it/s]"
     ]
    },
    {
     "name": "stdout",
     "output_type": "stream",
     "text": [
      "\n",
      "\r",
      "  0%|          | 0/1 [00:00<?, ?it/s]"
     ]
    },
    {
     "name": "stdout",
     "output_type": "stream",
     "text": [
      "\r",
      "Upgrading database; v1 -> v2:   0%|          | 0/1 [00:00<?, ?it/s]"
     ]
    },
    {
     "name": "stdout",
     "output_type": "stream",
     "text": [
      "\r",
      "Upgrading database; v1 -> v2: 100%|██████████| 1/1 [00:00<00:00, 944.88it/s]"
     ]
    },
    {
     "name": "stdout",
     "output_type": "stream",
     "text": [
      "\n",
      "\r",
      "0it [00:00, ?it/s]"
     ]
    },
    {
     "name": "stdout",
     "output_type": "stream",
     "text": [
      "\r",
      "Upgrading database; v2 -> v3: : 0it [00:00, ?it/s]"
     ]
    },
    {
     "name": "stdout",
     "output_type": "stream",
     "text": [
      "\r",
      "Upgrading database; v2 -> v3: : 0it [00:00, ?it/s]"
     ]
    },
    {
     "name": "stdout",
     "output_type": "stream",
     "text": [
      "\n",
      "\r",
      "0it [00:00, ?it/s]"
     ]
    },
    {
     "name": "stdout",
     "output_type": "stream",
     "text": [
      "\r",
      "Upgrading database; v3 -> v4: : 0it [00:00, ?it/s]"
     ]
    },
    {
     "name": "stdout",
     "output_type": "stream",
     "text": [
      "\r",
      "Upgrading database; v3 -> v4: : 0it [00:00, ?it/s]"
     ]
    },
    {
     "name": "stdout",
     "output_type": "stream",
     "text": [
      "\n",
      "\r",
      "  0%|          | 0/1 [00:00<?, ?it/s]"
     ]
    },
    {
     "name": "stdout",
     "output_type": "stream",
     "text": [
      "\r",
      "Upgrading database; v4 -> v5:   0%|          | 0/1 [00:00<?, ?it/s]"
     ]
    },
    {
     "name": "stdout",
     "output_type": "stream",
     "text": [
      "\r",
      "Upgrading database; v4 -> v5: 100%|██████████| 1/1 [00:00<00:00, 258.37it/s]"
     ]
    },
    {
     "name": "stdout",
     "output_type": "stream",
     "text": [
      "\n",
      "\r",
      "0it [00:00, ?it/s]"
     ]
    },
    {
     "name": "stdout",
     "output_type": "stream",
     "text": [
      "\r",
      "Upgrading database; v5 -> v6: : 0it [00:00, ?it/s]"
     ]
    },
    {
     "name": "stdout",
     "output_type": "stream",
     "text": [
      "\r",
      "Upgrading database; v5 -> v6: : 0it [00:00, ?it/s]"
     ]
    },
    {
     "name": "stdout",
     "output_type": "stream",
     "text": [
      "\n",
      "\r",
      "  0%|          | 0/1 [00:00<?, ?it/s]"
     ]
    },
    {
     "name": "stdout",
     "output_type": "stream",
     "text": [
      "\r",
      "Upgrading database; v6 -> v7:   0%|          | 0/1 [00:00<?, ?it/s]"
     ]
    },
    {
     "name": "stdout",
     "output_type": "stream",
     "text": [
      "\r",
      "Upgrading database; v6 -> v7: 100%|██████████| 1/1 [00:00<00:00, 237.54it/s]"
     ]
    },
    {
     "name": "stdout",
     "output_type": "stream",
     "text": [
      "\n",
      "\r",
      "  0%|          | 0/1 [00:00<?, ?it/s]"
     ]
    },
    {
     "name": "stdout",
     "output_type": "stream",
     "text": [
      "\r",
      "Upgrading database; v7 -> v8:   0%|          | 0/1 [00:00<?, ?it/s]"
     ]
    },
    {
     "name": "stdout",
     "output_type": "stream",
     "text": [
      "\r",
      "Upgrading database; v7 -> v8: 100%|██████████| 1/1 [00:00<00:00, 422.73it/s]"
     ]
    },
    {
     "name": "stdout",
     "output_type": "stream",
     "text": [
      "\n",
      "\r",
      "  0%|          | 0/1 [00:00<?, ?it/s]"
     ]
    },
    {
     "name": "stdout",
     "output_type": "stream",
     "text": [
      "\r",
      "Upgrading database; v8 -> v9:   0%|          | 0/1 [00:00<?, ?it/s]"
     ]
    },
    {
     "name": "stdout",
     "output_type": "stream",
     "text": [
      "\r",
      "Upgrading database; v8 -> v9: 100%|██████████| 1/1 [00:00<00:00, 769.31it/s]"
     ]
    },
    {
     "name": "stdout",
     "output_type": "stream",
     "text": [
      "\n"
     ]
    }
   ],
   "source": [
    "initialise_database()\n",
    "exp = load_or_create_experiment(experiment_name='tutorial_exp', sample_name=\"no sample\")"
   ]
  },
  {
   "cell_type": "markdown",
   "metadata": {},
   "source": [
    "Here, we define a simple function to benchmark the time it takes to insert n points with either numeric or array data type.\n",
    "We will compare both the time used to call ``add_result`` and the time used for the full measurement."
   ]
  },
  {
   "cell_type": "code",
   "execution_count": 4,
   "metadata": {
    "execution": {
     "iopub.execute_input": "2021-03-25T07:58:56.243997Z",
     "iopub.status.busy": "2021-03-25T07:58:56.243249Z",
     "iopub.status.idle": "2021-03-25T07:58:56.247172Z",
     "shell.execute_reply": "2021-03-25T07:58:56.247756Z"
    }
   },
   "outputs": [],
   "source": [
    "def insert_data(paramtype, npoints, nreps=1):\n",
    "\n",
    "    meas = Measurement(exp=exp)\n",
    "\n",
    "    x1 = ManualParameter('x1')\n",
    "    x2 = ManualParameter('x2')\n",
    "    x3 = ManualParameter('x3')\n",
    "    y1 = ManualParameter('y1')\n",
    "    y2 = ManualParameter('y2')\n",
    "\n",
    "    meas.register_parameter(x1, paramtype=paramtype)\n",
    "    meas.register_parameter(x2, paramtype=paramtype)\n",
    "    meas.register_parameter(x3, paramtype=paramtype)\n",
    "    meas.register_parameter(y1, setpoints=[x1, x2, x3],\n",
    "                            paramtype=paramtype)\n",
    "    meas.register_parameter(y2, setpoints=[x1, x2, x3],\n",
    "                            paramtype=paramtype)\n",
    "    start = time.perf_counter()\n",
    "    with meas.run() as datasaver:\n",
    "        start_adding = time.perf_counter()\n",
    "        for i in range(nreps):\n",
    "            datasaver.add_result((x1, np.random.rand(npoints)),\n",
    "                                 (x2, np.random.rand(npoints)),\n",
    "                                 (x3, np.random.rand(npoints)),\n",
    "                                 (y1, np.random.rand(npoints)),\n",
    "                                 (y2, np.random.rand(npoints)))\n",
    "        stop_adding = time.perf_counter()\n",
    "        run_id = datasaver.run_id\n",
    "    stop = time.perf_counter()\n",
    "    tot_time = stop - start\n",
    "    add_time = stop_adding - start_adding\n",
    "    return tot_time, add_time, run_id"
   ]
  },
  {
   "cell_type": "markdown",
   "metadata": {},
   "source": [
    "## Comparison between numeric/array data and binary blob"
   ]
  },
  {
   "cell_type": "markdown",
   "metadata": {},
   "source": [
    "### Case1: Short experiment time"
   ]
  },
  {
   "cell_type": "code",
   "execution_count": 5,
   "metadata": {
    "execution": {
     "iopub.execute_input": "2021-03-25T07:58:56.255120Z",
     "iopub.status.busy": "2021-03-25T07:58:56.253762Z",
     "iopub.status.idle": "2021-03-25T07:58:57.237928Z",
     "shell.execute_reply": "2021-03-25T07:58:57.238524Z"
    }
   },
   "outputs": [
    {
     "name": "stdout",
     "output_type": "stream",
     "text": [
      "Starting experimental run with id: 1. \n",
      "Starting experimental run with id: 2. \n",
      "Starting experimental run with id: 3. \n"
     ]
    },
    {
     "name": "stdout",
     "output_type": "stream",
     "text": [
      "Starting experimental run with id: 4. \n"
     ]
    },
    {
     "name": "stdout",
     "output_type": "stream",
     "text": [
      "Starting experimental run with id: 5. \n"
     ]
    },
    {
     "name": "stdout",
     "output_type": "stream",
     "text": [
      "Starting experimental run with id: 6. \n",
      "Starting experimental run with id: 7. \n"
     ]
    },
    {
     "name": "stdout",
     "output_type": "stream",
     "text": [
      "Starting experimental run with id: 8. \n"
     ]
    },
    {
     "name": "stdout",
     "output_type": "stream",
     "text": [
      "Starting experimental run with id: 9. \n"
     ]
    },
    {
     "name": "stdout",
     "output_type": "stream",
     "text": [
      "Starting experimental run with id: 10. \n",
      "Starting experimental run with id: 11. \n"
     ]
    },
    {
     "name": "stdout",
     "output_type": "stream",
     "text": [
      "Starting experimental run with id: 12. \n",
      "Starting experimental run with id: 13. \n"
     ]
    },
    {
     "name": "stdout",
     "output_type": "stream",
     "text": [
      "Starting experimental run with id: 14. \n"
     ]
    }
   ],
   "source": [
    "sizes = [1,500,1000,2000,3000,4000,5000]\n",
    "t_numeric = []\n",
    "t_numeric_add = []\n",
    "t_array = []\n",
    "t_array_add = []\n",
    "for size in sizes:\n",
    "    tn, tna, run_id_n =  insert_data('numeric', size)\n",
    "    t_numeric.append(tn)\n",
    "    t_numeric_add.append(tna)\n",
    "\n",
    "    ta, taa, run_id_a =  insert_data('array', size)\n",
    "    t_array.append(ta)\n",
    "    t_array_add.append(taa)"
   ]
  },
  {
   "cell_type": "code",
   "execution_count": 6,
   "metadata": {
    "execution": {
     "iopub.execute_input": "2021-03-25T07:58:57.262267Z",
     "iopub.status.busy": "2021-03-25T07:58:57.261446Z",
     "iopub.status.idle": "2021-03-25T07:58:57.518746Z",
     "shell.execute_reply": "2021-03-25T07:58:57.518163Z"
    }
   },
   "outputs": [
    {
     "data": {
      "image/png": "[encoded data removed]",
      "text/plain": [
       "<Figure size 432x288 with 1 Axes>"
      ]
     },
     "metadata": {
      "needs_background": "light"
     },
     "output_type": "display_data"
    }
   ],
   "source": [
    "fig, ax = plt.subplots(1,1)\n",
    "ax.plot(sizes, t_numeric, 'o-', label='Inserting row-by-row')\n",
    "ax.plot(sizes, t_numeric_add, 'o-', label='Inserting row-by-row: add_result only')\n",
    "ax.plot(sizes, t_array, 'd-', label='Inserting as binary blob')\n",
    "ax.plot(sizes, t_array_add, 'd-', label='Inserting as binary blob: add_result only')\n",
    "ax.legend()\n",
    "ax.set_xlabel('Array length')\n",
    "ax.set_ylabel('Time (s)')\n",
    "fig.tight_layout()"
   ]
  },
  {
   "cell_type": "markdown",
   "metadata": {},
   "source": [
    "As shown in the latter figure, the time to setup and and close the experiment is approximately 0.4 sec. In case of small array sizes, the difference between inserting values of data as arrays and inserting them row-by-row is relatively unimportant. At larger array sizes, i.e. above 10000 points, the cost of writing data as individual datapoints starts to become important.\n"
   ]
  },
  {
   "cell_type": "markdown",
   "metadata": {},
   "source": [
    "### Case2: Long experiment time "
   ]
  },
  {
   "cell_type": "code",
   "execution_count": 7,
   "metadata": {
    "execution": {
     "iopub.execute_input": "2021-03-25T07:58:57.526376Z",
     "iopub.status.busy": "2021-03-25T07:58:57.523957Z",
     "iopub.status.idle": "2021-03-25T08:00:06.832904Z",
     "shell.execute_reply": "2021-03-25T08:00:06.831665Z"
    }
   },
   "outputs": [
    {
     "name": "stdout",
     "output_type": "stream",
     "text": [
      "Starting experimental run with id: 15. \n",
      "Starting experimental run with id: 16. \n"
     ]
    },
    {
     "name": "stdout",
     "output_type": "stream",
     "text": [
      "Starting experimental run with id: 17. \n"
     ]
    },
    {
     "name": "stdout",
     "output_type": "stream",
     "text": [
      "Starting experimental run with id: 18. \n"
     ]
    },
    {
     "name": "stdout",
     "output_type": "stream",
     "text": [
      "Starting experimental run with id: 19. \n"
     ]
    },
    {
     "name": "stdout",
     "output_type": "stream",
     "text": [
      "Starting experimental run with id: 20. \n"
     ]
    },
    {
     "name": "stdout",
     "output_type": "stream",
     "text": [
      "Starting experimental run with id: 21. \n"
     ]
    },
    {
     "name": "stdout",
     "output_type": "stream",
     "text": [
      "Starting experimental run with id: 22. \n"
     ]
    },
    {
     "name": "stdout",
     "output_type": "stream",
     "text": [
      "Starting experimental run with id: 23. \n"
     ]
    },
    {
     "name": "stdout",
     "output_type": "stream",
     "text": [
      "Starting experimental run with id: 24. \n"
     ]
    },
    {
     "name": "stdout",
     "output_type": "stream",
     "text": [
      "Starting experimental run with id: 25. \n"
     ]
    },
    {
     "name": "stdout",
     "output_type": "stream",
     "text": [
      "Starting experimental run with id: 26. \n"
     ]
    },
    {
     "name": "stdout",
     "output_type": "stream",
     "text": [
      "Starting experimental run with id: 27. \n"
     ]
    },
    {
     "name": "stdout",
     "output_type": "stream",
     "text": [
      "Starting experimental run with id: 28. \n"
     ]
    }
   ],
   "source": [
    "sizes = [1,500,1000,2000,3000,4000,5000]\n",
    "nreps = 100\n",
    "t_numeric = []\n",
    "t_numeric_add = []\n",
    "t_numeric_run_ids = []\n",
    "t_array = []\n",
    "t_array_add = []\n",
    "t_array_run_ids = []\n",
    "for size in sizes:\n",
    "    tn, tna, run_id_n =  insert_data('numeric', size, nreps=nreps)\n",
    "    t_numeric.append(tn)\n",
    "    t_numeric_add.append(tna)\n",
    "    t_numeric_run_ids.append(run_id_n)\n",
    "\n",
    "    ta, taa, run_id_a =  insert_data('array', size, nreps=nreps)\n",
    "    t_array.append(ta)\n",
    "    t_array_add.append(taa)\n",
    "    t_array_run_ids.append(run_id_a)"
   ]
  },
  {
   "cell_type": "code",
   "execution_count": 8,
   "metadata": {
    "execution": {
     "iopub.execute_input": "2021-03-25T08:00:06.860496Z",
     "iopub.status.busy": "2021-03-25T08:00:06.854166Z",
     "iopub.status.idle": "2021-03-25T08:00:07.105821Z",
     "shell.execute_reply": "2021-03-25T08:00:07.105214Z"
    },
    "scrolled": true
   },
   "outputs": [
    {
     "data": {
      "image/png": "[encoded data removed]",
      "text/plain": [
       "<Figure size 432x288 with 1 Axes>"
      ]
     },
     "metadata": {
      "needs_background": "light"
     },
     "output_type": "display_data"
    }
   ],
   "source": [
    "fig, ax = plt.subplots(1,1)\n",
    "ax.plot(sizes, t_numeric, 'o-', label='Inserting row-by-row')\n",
    "ax.plot(sizes, t_numeric_add, 'o-', label='Inserting row-by-row: add_result only')\n",
    "ax.plot(sizes, t_array, 'd-', label='Inserting as binary blob')\n",
    "ax.plot(sizes, t_array_add, 'd-', label='Inserting as binary blob: add_result only')\n",
    "ax.legend()\n",
    "ax.set_xlabel('Array length')\n",
    "ax.set_ylabel('Time (s)')\n",
    "fig.tight_layout()"
   ]
  },
  {
   "cell_type": "markdown",
   "metadata": {},
   "source": [
    "However, as we increase the length of the experiment, as seen here by repeating the insertion 100 times, we see a big difference between inserting values of the data row-by-row and inserting it as a binary blob."
   ]
  },
  {
   "cell_type": "markdown",
   "metadata": {},
   "source": [
    "## Loading the data "
   ]
  },
  {
   "cell_type": "code",
   "execution_count": 9,
   "metadata": {
    "execution": {
     "iopub.execute_input": "2021-03-25T08:00:07.111459Z",
     "iopub.status.busy": "2021-03-25T08:00:07.110026Z",
     "iopub.status.idle": "2021-03-25T08:00:07.113469Z",
     "shell.execute_reply": "2021-03-25T08:00:07.114025Z"
    }
   },
   "outputs": [],
   "source": [
    "from qcodes.dataset.data_set import load_by_id\n",
    "from qcodes.dataset.data_export import get_data_by_id"
   ]
  },
  {
   "cell_type": "markdown",
   "metadata": {},
   "source": [
    "As usual you can load the data by using the ``load_by_id`` function but you will notice that the different storage methods\n",
    "are reflected in shape of the data as it is retrieved. "
   ]
  },
  {
   "cell_type": "code",
   "execution_count": 10,
   "metadata": {
    "execution": {
     "iopub.execute_input": "2021-03-25T08:00:07.118966Z",
     "iopub.status.busy": "2021-03-25T08:00:07.117781Z",
     "iopub.status.idle": "2021-03-25T08:00:07.120135Z",
     "shell.execute_reply": "2021-03-25T08:00:07.120881Z"
    }
   },
   "outputs": [],
   "source": [
    "run_id_n = t_numeric_run_ids[0]\n",
    "run_id_a = t_array_run_ids[0]"
   ]
  },
  {
   "cell_type": "code",
   "execution_count": 11,
   "metadata": {
    "execution": {
     "iopub.execute_input": "2021-03-25T08:00:07.124999Z",
     "iopub.status.busy": "2021-03-25T08:00:07.124285Z",
     "iopub.status.idle": "2021-03-25T08:00:07.136423Z",
     "shell.execute_reply": "2021-03-25T08:00:07.136990Z"
    },
    "scrolled": true
   },
   "outputs": [
    {
     "data": {
      "text/plain": [
       "{'x1': {'x1': array([0.89465206, 0.89465206, 0.64585387, 0.64585387, 0.87589068,\n",
       "         0.87589068, 0.08306814, 0.08306814, 0.41615387, 0.41615387,\n",
       "         0.87330249, 0.87330249, 0.79676372, 0.79676372, 0.03667685,\n",
       "         0.03667685, 0.14765101, 0.14765101, 0.21451372, 0.21451372,\n",
       "         0.22639203, 0.22639203, 0.74843718, 0.74843718, 0.37128888,\n",
       "         0.37128888, 0.51910524, 0.51910524, 0.62929567, 0.62929567,\n",
       "         0.5355118 , 0.5355118 , 0.85356327, 0.85356327, 0.03903488,\n",
       "         0.03903488, 0.72506626, 0.72506626, 0.68525748, 0.68525748,\n",
       "         0.44624474, 0.44624474, 0.92958187, 0.92958187, 0.89335315,\n",
       "         0.89335315, 0.54286604, 0.54286604, 0.24891867, 0.24891867,\n",
       "         0.25159528, 0.25159528, 0.06717978, 0.06717978, 0.81435932,\n",
       "         0.81435932, 0.91867075, 0.91867075, 0.85942661, 0.85942661,\n",
       "         0.55162778, 0.55162778, 0.4890816 , 0.4890816 , 0.22289626,\n",
       "         0.22289626, 0.75260388, 0.75260388, 0.3891634 , 0.3891634 ,\n",
       "         0.87896349, 0.87896349, 0.94337207, 0.94337207, 0.51305669,\n",
       "         0.51305669, 0.79060452, 0.79060452, 0.04494684, 0.04494684,\n",
       "         0.00959796, 0.00959796, 0.48204903, 0.48204903, 0.55209386,\n",
       "         0.55209386, 0.89249625, 0.89249625, 0.69677375, 0.69677375,\n",
       "         0.45913044, 0.45913044, 0.36695975, 0.36695975, 0.35001092,\n",
       "         0.35001092, 0.62519815, 0.62519815, 0.90506864, 0.90506864,\n",
       "         0.8307262 , 0.8307262 , 0.57565787, 0.57565787, 0.13373083,\n",
       "         0.13373083, 0.07336079, 0.07336079, 0.04156678, 0.04156678,\n",
       "         0.50512913, 0.50512913, 0.00299174, 0.00299174, 0.25298437,\n",
       "         0.25298437, 0.95177108, 0.95177108, 0.30415962, 0.30415962,\n",
       "         0.21957237, 0.21957237, 0.20646804, 0.20646804, 0.88179885,\n",
       "         0.88179885, 0.49570668, 0.49570668, 0.93473478, 0.93473478,\n",
       "         0.71693103, 0.71693103, 0.73457219, 0.73457219, 0.88386931,\n",
       "         0.88386931, 0.4528967 , 0.4528967 , 0.68611179, 0.68611179,\n",
       "         0.37986163, 0.37986163, 0.56931629, 0.56931629, 0.36715763,\n",
       "         0.36715763, 0.32888535, 0.32888535, 0.89161596, 0.89161596,\n",
       "         0.24201659, 0.24201659, 0.50851099, 0.50851099, 0.97628395,\n",
       "         0.97628395, 0.10390482, 0.10390482, 0.77189664, 0.77189664,\n",
       "         0.57875999, 0.57875999, 0.88795993, 0.88795993, 0.25736872,\n",
       "         0.25736872, 0.31021342, 0.31021342, 0.25566369, 0.25566369,\n",
       "         0.77439048, 0.77439048, 0.34916213, 0.34916213, 0.28873293,\n",
       "         0.28873293, 0.23886509, 0.23886509, 0.63864478, 0.63864478,\n",
       "         0.49277804, 0.49277804, 0.90277325, 0.90277325, 0.67938734,\n",
       "         0.67938734, 0.28082516, 0.28082516, 0.57683018, 0.57683018,\n",
       "         0.67450183, 0.67450183, 0.58006642, 0.58006642, 0.62030846,\n",
       "         0.62030846, 0.39229971, 0.39229971, 0.72792957, 0.72792957])}}"
      ]
     },
     "execution_count": 1,
     "metadata": {},
     "output_type": "execute_result"
    }
   ],
   "source": [
    "ds = load_by_id(run_id_n)\n",
    "ds.get_parameter_data('x1')"
   ]
  },
  {
   "cell_type": "markdown",
   "metadata": {},
   "source": [
    "And a dataset stored as binary arrays"
   ]
  },
  {
   "cell_type": "code",
   "execution_count": 12,
   "metadata": {
    "execution": {
     "iopub.execute_input": "2021-03-25T08:00:07.141389Z",
     "iopub.status.busy": "2021-03-25T08:00:07.140635Z",
     "iopub.status.idle": "2021-03-25T08:00:07.216235Z",
     "shell.execute_reply": "2021-03-25T08:00:07.216802Z"
    },
    "scrolled": true
   },
   "outputs": [
    {
     "data": {
      "text/plain": [
       "{'x1': {'x1': array([[0.64302603],\n",
       "         [0.64302603],\n",
       "         [0.31546119],\n",
       "         [0.31546119],\n",
       "         [0.30633765],\n",
       "         [0.30633765],\n",
       "         [0.80188921],\n",
       "         [0.80188921],\n",
       "         [0.82619798],\n",
       "         [0.82619798],\n",
       "         [0.16506285],\n",
       "         [0.16506285],\n",
       "         [0.04238879],\n",
       "         [0.04238879],\n",
       "         [0.35225303],\n",
       "         [0.35225303],\n",
       "         [0.14793918],\n",
       "         [0.14793918],\n",
       "         [0.6310478 ],\n",
       "         [0.6310478 ],\n",
       "         [0.92648557],\n",
       "         [0.92648557],\n",
       "         [0.8234182 ],\n",
       "         [0.8234182 ],\n",
       "         [0.02549241],\n",
       "         [0.02549241],\n",
       "         [0.71017251],\n",
       "         [0.71017251],\n",
       "         [0.31977697],\n",
       "         [0.31977697],\n",
       "         [0.42793435],\n",
       "         [0.42793435],\n",
       "         [0.26757249],\n",
       "         [0.26757249],\n",
       "         [0.0756182 ],\n",
       "         [0.0756182 ],\n",
       "         [0.31828977],\n",
       "         [0.31828977],\n",
       "         [0.86616141],\n",
       "         [0.86616141],\n",
       "         [0.68070868],\n",
       "         [0.68070868],\n",
       "         [0.70224243],\n",
       "         [0.70224243],\n",
       "         [0.2935794 ],\n",
       "         [0.2935794 ],\n",
       "         [0.10359624],\n",
       "         [0.10359624],\n",
       "         [0.79459396],\n",
       "         [0.79459396],\n",
       "         [0.37651329],\n",
       "         [0.37651329],\n",
       "         [0.57436307],\n",
       "         [0.57436307],\n",
       "         [0.82072614],\n",
       "         [0.82072614],\n",
       "         [0.93433724],\n",
       "         [0.93433724],\n",
       "         [0.37348327],\n",
       "         [0.37348327],\n",
       "         [0.70464968],\n",
       "         [0.70464968],\n",
       "         [0.77090678],\n",
       "         [0.77090678],\n",
       "         [0.13402476],\n",
       "         [0.13402476],\n",
       "         [0.45009188],\n",
       "         [0.45009188],\n",
       "         [0.93990495],\n",
       "         [0.93990495],\n",
       "         [0.82669745],\n",
       "         [0.82669745],\n",
       "         [0.08197377],\n",
       "         [0.08197377],\n",
       "         [0.64114502],\n",
       "         [0.64114502],\n",
       "         [0.87453242],\n",
       "         [0.87453242],\n",
       "         [0.22608997],\n",
       "         [0.22608997],\n",
       "         [0.16729031],\n",
       "         [0.16729031],\n",
       "         [0.53723914],\n",
       "         [0.53723914],\n",
       "         [0.09884033],\n",
       "         [0.09884033],\n",
       "         [0.63233091],\n",
       "         [0.63233091],\n",
       "         [0.07230853],\n",
       "         [0.07230853],\n",
       "         [0.30867457],\n",
       "         [0.30867457],\n",
       "         [0.93075037],\n",
       "         [0.93075037],\n",
       "         [0.65013932],\n",
       "         [0.65013932],\n",
       "         [0.04958727],\n",
       "         [0.04958727],\n",
       "         [0.48412005],\n",
       "         [0.48412005],\n",
       "         [0.58438916],\n",
       "         [0.58438916],\n",
       "         [0.17745881],\n",
       "         [0.17745881],\n",
       "         [0.7823258 ],\n",
       "         [0.7823258 ],\n",
       "         [0.69978196],\n",
       "         [0.69978196],\n",
       "         [0.94707139],\n",
       "         [0.94707139],\n",
       "         [0.67172983],\n",
       "         [0.67172983],\n",
       "         [0.69456288],\n",
       "         [0.69456288],\n",
       "         [0.37543867],\n",
       "         [0.37543867],\n",
       "         [0.57368238],\n",
       "         [0.57368238],\n",
       "         [0.12398065],\n",
       "         [0.12398065],\n",
       "         [0.28835954],\n",
       "         [0.28835954],\n",
       "         [0.79161163],\n",
       "         [0.79161163],\n",
       "         [0.16779164],\n",
       "         [0.16779164],\n",
       "         [0.66561425],\n",
       "         [0.66561425],\n",
       "         [0.38928703],\n",
       "         [0.38928703],\n",
       "         [0.71159291],\n",
       "         [0.71159291],\n",
       "         [0.1314129 ],\n",
       "         [0.1314129 ],\n",
       "         [0.6277015 ],\n",
       "         [0.6277015 ],\n",
       "         [0.25555344],\n",
       "         [0.25555344],\n",
       "         [0.0818739 ],\n",
       "         [0.0818739 ],\n",
       "         [0.64925391],\n",
       "         [0.64925391],\n",
       "         [0.44102594],\n",
       "         [0.44102594],\n",
       "         [0.66389182],\n",
       "         [0.66389182],\n",
       "         [0.39351524],\n",
       "         [0.39351524],\n",
       "         [0.99438964],\n",
       "         [0.99438964],\n",
       "         [0.38667953],\n",
       "         [0.38667953],\n",
       "         [0.74149166],\n",
       "         [0.74149166],\n",
       "         [0.08776678],\n",
       "         [0.08776678],\n",
       "         [0.22706273],\n",
       "         [0.22706273],\n",
       "         [0.9979222 ],\n",
       "         [0.9979222 ],\n",
       "         [0.98555139],\n",
       "         [0.98555139],\n",
       "         [0.52180193],\n",
       "         [0.52180193],\n",
       "         [0.68454527],\n",
       "         [0.68454527],\n",
       "         [0.84768426],\n",
       "         [0.84768426],\n",
       "         [0.23651605],\n",
       "         [0.23651605],\n",
       "         [0.0430727 ],\n",
       "         [0.0430727 ],\n",
       "         [0.9302605 ],\n",
       "         [0.9302605 ],\n",
       "         [0.06536943],\n",
       "         [0.06536943],\n",
       "         [0.66385464],\n",
       "         [0.66385464],\n",
       "         [0.37682959],\n",
       "         [0.37682959],\n",
       "         [0.0280438 ],\n",
       "         [0.0280438 ],\n",
       "         [0.34291122],\n",
       "         [0.34291122],\n",
       "         [0.19703229],\n",
       "         [0.19703229],\n",
       "         [0.76661485],\n",
       "         [0.76661485],\n",
       "         [0.75492988],\n",
       "         [0.75492988],\n",
       "         [0.89264915],\n",
       "         [0.89264915],\n",
       "         [0.32468652],\n",
       "         [0.32468652],\n",
       "         [0.03261194],\n",
       "         [0.03261194],\n",
       "         [0.91823572],\n",
       "         [0.91823572],\n",
       "         [0.77861267],\n",
       "         [0.77861267]])}}"
      ]
     },
     "execution_count": 1,
     "metadata": {},
     "output_type": "execute_result"
    }
   ],
   "source": [
    "ds = load_by_id(run_id_a)\n",
    "ds.get_parameter_data('x1')"
   ]
  },
  {
   "cell_type": "code",
   "execution_count": null,
   "metadata": {},
   "outputs": [],
   "source": []
  }
 ],
 "metadata": {
  "kernelspec": {
   "display_name": "Python 3",
   "language": "python",
   "name": "python3"
  },
  "language_info": {
   "codemirror_mode": {
    "name": "ipython",
    "version": 3
   },
   "file_extension": ".py",
   "mimetype": "text/x-python",
   "name": "python",
   "nbconvert_exporter": "python",
   "pygments_lexer": "ipython3",
   "version": "3.7.10"
  },
  "nbsphinx": {
   "timeout": 600
  },
  "toc": {
   "base_numbering": 1,
   "nav_menu": {},
   "number_sections": true,
   "sideBar": true,
   "skip_h1_title": false,
   "title_cell": "Table of Contents",
   "title_sidebar": "Contents",
   "toc_cell": false,
   "toc_position": {},
   "toc_section_display": true,
   "toc_window_display": false
  },
  "varInspector": {
   "cols": {
    "lenName": 16,
    "lenType": 16,
    "lenVar": 40
   },
   "kernels_config": {
    "python": {
     "delete_cmd_postfix": "",
     "delete_cmd_prefix": "del ",
     "library": "var_list.py",
     "varRefreshCmd": "print(var_dic_list())"
    },
    "r": {
     "delete_cmd_postfix": ") ",
     "delete_cmd_prefix": "rm(",
     "library": "var_list.r",
     "varRefreshCmd": "cat(var_dic_list()) "
    }
   },
   "types_to_exclude": [
    "module",
    "function",
    "builtin_function_or_method",
    "instance",
    "_Feature"
   ],
   "window_display": false
  }
 },
 "nbformat": 4,
 "nbformat_minor": 2
}
