{
 "cells": [
  {
   "cell_type": "markdown",
   "metadata": {},
   "source": [
    "# DataSet Performance\n",
    "\n",
    "This notebook shows the trade-off between inserting data into a database row-by-row and as binary blobs. Inserting the data row-by-row means that we have direct access to all the data and may perform queries directly on the values of the data. On the other hand, as we shall see, this is much slower than inserting the data directly as binary blobs."
   ]
  },
  {
   "cell_type": "markdown",
   "metadata": {},
   "source": [
    "First, we choose a new location for the database to ensure that we don't add a bunch of benchmarking data to the default one."
   ]
  },
  {
   "cell_type": "code",
   "execution_count": 1,
   "metadata": {
    "execution": {
     "iopub.execute_input": "2020-09-21T16:09:00.255889Z",
     "iopub.status.busy": "2020-09-21T16:09:00.255335Z",
     "iopub.status.idle": "2020-09-21T16:09:01.418565Z",
     "shell.execute_reply": "2020-09-21T16:09:01.419122Z"
    }
   },
   "outputs": [
    {
     "name": "stdout",
     "output_type": "stream",
     "text": [
      "Logging hadn't been started.\n",
      "Activating auto-logging. Current session state plus future input saved.\n",
      "Filename       : /home/vsts/.qcodes/logs/command_history.log\n",
      "Mode           : append\n",
      "Output logging : True\n",
      "Raw input log  : False\n",
      "Timestamping   : True\n",
      "State          : active\n"
     ]
    },
    {
     "name": "stdout",
     "output_type": "stream",
     "text": [
      "Qcodes Logfile : /home/vsts/.qcodes/logs/200921-19258-qcodes.log\n"
     ]
    }
   ],
   "source": [
    "import os\n",
    "cwd = os.getcwd()\n",
    "import qcodes as qc\n",
    "qc.config[\"core\"][\"db_location\"] = os.path.join(cwd, 'testing.db')\n"
   ]
  },
  {
   "cell_type": "code",
   "execution_count": 2,
   "metadata": {
    "execution": {
     "iopub.execute_input": "2020-09-21T16:09:01.426800Z",
     "iopub.status.busy": "2020-09-21T16:09:01.425395Z",
     "iopub.status.idle": "2020-09-21T16:09:01.655877Z",
     "shell.execute_reply": "2020-09-21T16:09:01.655281Z"
    }
   },
   "outputs": [],
   "source": [
    "%matplotlib inline\n",
    "import time\n",
    "import matplotlib.pyplot as plt\n",
    "import numpy as np\n",
    "\n",
    "import qcodes as qc\n",
    "from qcodes.instrument.parameter import ManualParameter\n",
    "from qcodes.dataset.experiment_container import (Experiment,\n",
    "                                                 load_last_experiment,\n",
    "                                                 new_experiment)\n",
    "from qcodes.dataset.sqlite.database import initialise_database\n",
    "from qcodes import load_or_create_experiment\n",
    "from qcodes.dataset.measurements import Measurement"
   ]
  },
  {
   "cell_type": "code",
   "execution_count": 3,
   "metadata": {
    "execution": {
     "iopub.execute_input": "2020-09-21T16:09:01.660082Z",
     "iopub.status.busy": "2020-09-21T16:09:01.659101Z",
     "iopub.status.idle": "2020-09-21T16:09:01.794183Z",
     "shell.execute_reply": "2020-09-21T16:09:01.793593Z"
    }
   },
   "outputs": [
    {
     "name": "stdout",
     "output_type": "stream",
     "text": [
      "\r",
      "0it [00:00, ?it/s]"
     ]
    },
    {
     "name": "stdout",
     "output_type": "stream",
     "text": [
      "\r",
      "Upgrading database; v0 -> v1: : 0it [00:00, ?it/s]"
     ]
    },
    {
     "name": "stdout",
     "output_type": "stream",
     "text": [
      "\r",
      "Upgrading database; v0 -> v1: : 0it [00:00, ?it/s]"
     ]
    },
    {
     "name": "stdout",
     "output_type": "stream",
     "text": [
      "\n",
      "\r",
      "  0%|          | 0/1 [00:00<?, ?it/s]"
     ]
    },
    {
     "name": "stdout",
     "output_type": "stream",
     "text": [
      "\r",
      "Upgrading database; v1 -> v2:   0%|          | 0/1 [00:00<?, ?it/s]"
     ]
    },
    {
     "name": "stdout",
     "output_type": "stream",
     "text": [
      "\r",
      "Upgrading database; v1 -> v2: 100%|██████████| 1/1 [00:00<00:00, 307.82it/s]"
     ]
    },
    {
     "name": "stdout",
     "output_type": "stream",
     "text": [
      "\n",
      "\r",
      "0it [00:00, ?it/s]"
     ]
    },
    {
     "name": "stdout",
     "output_type": "stream",
     "text": [
      "\r",
      "Upgrading database; v2 -> v3: : 0it [00:00, ?it/s]"
     ]
    },
    {
     "name": "stdout",
     "output_type": "stream",
     "text": [
      "\r",
      "Upgrading database; v2 -> v3: : 0it [00:00, ?it/s]"
     ]
    },
    {
     "name": "stdout",
     "output_type": "stream",
     "text": [
      "\n",
      "\r",
      "0it [00:00, ?it/s]"
     ]
    },
    {
     "name": "stdout",
     "output_type": "stream",
     "text": [
      "\r",
      "Upgrading database; v3 -> v4: : 0it [00:00, ?it/s]"
     ]
    },
    {
     "name": "stdout",
     "output_type": "stream",
     "text": [
      "\r",
      "Upgrading database; v3 -> v4: : 0it [00:00, ?it/s]"
     ]
    },
    {
     "name": "stdout",
     "output_type": "stream",
     "text": [
      "\n",
      "\r",
      "  0%|          | 0/1 [00:00<?, ?it/s]"
     ]
    },
    {
     "name": "stdout",
     "output_type": "stream",
     "text": [
      "\r",
      "Upgrading database; v4 -> v5:   0%|          | 0/1 [00:00<?, ?it/s]"
     ]
    },
    {
     "name": "stdout",
     "output_type": "stream",
     "text": [
      "\r",
      "Upgrading database; v4 -> v5: 100%|██████████| 1/1 [00:00<00:00, 299.32it/s]"
     ]
    },
    {
     "name": "stdout",
     "output_type": "stream",
     "text": [
      "\n",
      "\r",
      "0it [00:00, ?it/s]"
     ]
    },
    {
     "name": "stdout",
     "output_type": "stream",
     "text": [
      "\r",
      "Upgrading database; v5 -> v6: : 0it [00:00, ?it/s]"
     ]
    },
    {
     "name": "stdout",
     "output_type": "stream",
     "text": [
      "\r",
      "Upgrading database; v5 -> v6: : 0it [00:00, ?it/s]"
     ]
    },
    {
     "name": "stdout",
     "output_type": "stream",
     "text": [
      "\n",
      "\r",
      "  0%|          | 0/1 [00:00<?, ?it/s]"
     ]
    },
    {
     "name": "stdout",
     "output_type": "stream",
     "text": [
      "\r",
      "Upgrading database; v6 -> v7:   0%|          | 0/1 [00:00<?, ?it/s]"
     ]
    },
    {
     "name": "stdout",
     "output_type": "stream",
     "text": [
      "\r",
      "Upgrading database; v6 -> v7: 100%|██████████| 1/1 [00:00<00:00, 219.60it/s]"
     ]
    },
    {
     "name": "stdout",
     "output_type": "stream",
     "text": [
      "\n",
      "\r",
      "  0%|          | 0/1 [00:00<?, ?it/s]"
     ]
    },
    {
     "name": "stdout",
     "output_type": "stream",
     "text": [
      "\r",
      "Upgrading database; v7 -> v8:   0%|          | 0/1 [00:00<?, ?it/s]"
     ]
    },
    {
     "name": "stdout",
     "output_type": "stream",
     "text": [
      "\r",
      "Upgrading database; v7 -> v8: 100%|██████████| 1/1 [00:00<00:00, 617.08it/s]"
     ]
    },
    {
     "name": "stdout",
     "output_type": "stream",
     "text": [
      "\n",
      "\r",
      "  0%|          | 0/1 [00:00<?, ?it/s]"
     ]
    },
    {
     "name": "stdout",
     "output_type": "stream",
     "text": [
      "\r",
      "Upgrading database; v8 -> v9:   0%|          | 0/1 [00:00<?, ?it/s]"
     ]
    },
    {
     "name": "stdout",
     "output_type": "stream",
     "text": [
      "\r",
      "Upgrading database; v8 -> v9: 100%|██████████| 1/1 [00:00<00:00, 793.77it/s]"
     ]
    },
    {
     "name": "stdout",
     "output_type": "stream",
     "text": [
      "\n"
     ]
    }
   ],
   "source": [
    "initialise_database()\n",
    "exp = load_or_create_experiment(experiment_name='tutorial_exp', sample_name=\"no sample\")"
   ]
  },
  {
   "cell_type": "markdown",
   "metadata": {},
   "source": [
    "Here, we define a simple function to benchmark the time it takes to insert n points with either numeric or array data type.\n",
    "We will compare both the time used to call ``add_result`` and the time used for the full measurement."
   ]
  },
  {
   "cell_type": "code",
   "execution_count": 4,
   "metadata": {
    "execution": {
     "iopub.execute_input": "2020-09-21T16:09:01.804155Z",
     "iopub.status.busy": "2020-09-21T16:09:01.802507Z",
     "iopub.status.idle": "2020-09-21T16:09:01.807019Z",
     "shell.execute_reply": "2020-09-21T16:09:01.807699Z"
    }
   },
   "outputs": [],
   "source": [
    "def insert_data(paramtype, npoints, nreps=1):\n",
    "\n",
    "    meas = Measurement(exp=exp)\n",
    "\n",
    "    x1 = ManualParameter('x1')\n",
    "    x2 = ManualParameter('x2')\n",
    "    x3 = ManualParameter('x3')\n",
    "    y1 = ManualParameter('y1')\n",
    "    y2 = ManualParameter('y2')\n",
    "\n",
    "    meas.register_parameter(x1, paramtype=paramtype)\n",
    "    meas.register_parameter(x2, paramtype=paramtype)\n",
    "    meas.register_parameter(x3, paramtype=paramtype)\n",
    "    meas.register_parameter(y1, setpoints=[x1, x2, x3],\n",
    "                            paramtype=paramtype)\n",
    "    meas.register_parameter(y2, setpoints=[x1, x2, x3],\n",
    "                            paramtype=paramtype)\n",
    "    start = time.perf_counter()\n",
    "    with meas.run() as datasaver:\n",
    "        start_adding = time.perf_counter()\n",
    "        for i in range(nreps):\n",
    "            datasaver.add_result((x1, np.random.rand(npoints)),\n",
    "                                 (x2, np.random.rand(npoints)),\n",
    "                                 (x3, np.random.rand(npoints)),\n",
    "                                 (y1, np.random.rand(npoints)),\n",
    "                                 (y2, np.random.rand(npoints)))\n",
    "        stop_adding = time.perf_counter()\n",
    "        run_id = datasaver.run_id\n",
    "    stop = time.perf_counter()\n",
    "    tot_time = stop - start\n",
    "    add_time = stop_adding - start_adding\n",
    "    return tot_time, add_time, run_id"
   ]
  },
  {
   "cell_type": "markdown",
   "metadata": {},
   "source": [
    "## Comparison between numeric/array data and binary blob"
   ]
  },
  {
   "cell_type": "markdown",
   "metadata": {},
   "source": [
    "### Case1: Short experiment time"
   ]
  },
  {
   "cell_type": "code",
   "execution_count": 5,
   "metadata": {
    "execution": {
     "iopub.execute_input": "2020-09-21T16:09:01.814896Z",
     "iopub.status.busy": "2020-09-21T16:09:01.814094Z",
     "iopub.status.idle": "2020-09-21T16:09:02.779940Z",
     "shell.execute_reply": "2020-09-21T16:09:02.779413Z"
    }
   },
   "outputs": [
    {
     "name": "stdout",
     "output_type": "stream",
     "text": [
      "Starting experimental run with id: 1. \n",
      "Starting experimental run with id: 2. \n",
      "Starting experimental run with id: 3. \n"
     ]
    },
    {
     "name": "stdout",
     "output_type": "stream",
     "text": [
      "Starting experimental run with id: 4. \n"
     ]
    },
    {
     "name": "stdout",
     "output_type": "stream",
     "text": [
      "Starting experimental run with id: 5. \n"
     ]
    },
    {
     "name": "stdout",
     "output_type": "stream",
     "text": [
      "Starting experimental run with id: 6. \n",
      "Starting experimental run with id: 7. \n"
     ]
    },
    {
     "name": "stdout",
     "output_type": "stream",
     "text": [
      "Starting experimental run with id: 8. \n"
     ]
    },
    {
     "name": "stdout",
     "output_type": "stream",
     "text": [
      "Starting experimental run with id: 9. \n"
     ]
    },
    {
     "name": "stdout",
     "output_type": "stream",
     "text": [
      "Starting experimental run with id: 10. \n",
      "Starting experimental run with id: 11. \n"
     ]
    },
    {
     "name": "stdout",
     "output_type": "stream",
     "text": [
      "Starting experimental run with id: 12. \n",
      "Starting experimental run with id: 13. \n"
     ]
    },
    {
     "name": "stdout",
     "output_type": "stream",
     "text": [
      "Starting experimental run with id: 14. \n"
     ]
    }
   ],
   "source": [
    "sizes = [1,500,1000,2000,3000,4000,5000]\n",
    "t_numeric = []\n",
    "t_numeric_add = []\n",
    "t_array = []\n",
    "t_array_add = []\n",
    "for size in sizes:\n",
    "    tn, tna, run_id_n =  insert_data('numeric', size)\n",
    "    t_numeric.append(tn)\n",
    "    t_numeric_add.append(tna)\n",
    "\n",
    "    ta, taa, run_id_a =  insert_data('array', size)\n",
    "    t_array.append(ta)\n",
    "    t_array_add.append(taa)"
   ]
  },
  {
   "cell_type": "code",
   "execution_count": 6,
   "metadata": {
    "execution": {
     "iopub.execute_input": "2020-09-21T16:09:02.802186Z",
     "iopub.status.busy": "2020-09-21T16:09:02.801293Z",
     "iopub.status.idle": "2020-09-21T16:09:03.037658Z",
     "shell.execute_reply": "2020-09-21T16:09:03.036914Z"
    }
   },
   "outputs": [
    {
     "data": {
      "image/png": "[encoded data removed]",
      "text/plain": [
       "<Figure size 432x288 with 1 Axes>"
      ]
     },
     "metadata": {
      "needs_background": "light"
     },
     "output_type": "display_data"
    }
   ],
   "source": [
    "fig, ax = plt.subplots(1,1)\n",
    "ax.plot(sizes, t_numeric, 'o-', label='Inserting row-by-row')\n",
    "ax.plot(sizes, t_numeric_add, 'o-', label='Inserting row-by-row: add_result only')\n",
    "ax.plot(sizes, t_array, 'd-', label='Inserting as binary blob')\n",
    "ax.plot(sizes, t_array_add, 'd-', label='Inserting as binary blob: add_result only')\n",
    "ax.legend()\n",
    "ax.set_xlabel('Array length')\n",
    "ax.set_ylabel('Time (s)')\n",
    "fig.tight_layout()"
   ]
  },
  {
   "cell_type": "markdown",
   "metadata": {},
   "source": [
    "As shown in the latter figure, the time to setup and and close the experiment is approximately 0.4 sec. In case of small array sizes, the difference between inserting values of data as arrays and inserting them row-by-row is relatively unimportant. At larger array sizes, i.e. above 10000 points, the cost of writing data as individual datapoints starts to become important.\n"
   ]
  },
  {
   "cell_type": "markdown",
   "metadata": {},
   "source": [
    "### Case2: Long experiment time "
   ]
  },
  {
   "cell_type": "code",
   "execution_count": 7,
   "metadata": {
    "execution": {
     "iopub.execute_input": "2020-09-21T16:09:03.046409Z",
     "iopub.status.busy": "2020-09-21T16:09:03.045460Z",
     "iopub.status.idle": "2020-09-21T16:10:06.947810Z",
     "shell.execute_reply": "2020-09-21T16:10:06.946935Z"
    }
   },
   "outputs": [
    {
     "name": "stdout",
     "output_type": "stream",
     "text": [
      "Starting experimental run with id: 15. \n",
      "Starting experimental run with id: 16. \n",
      "Starting experimental run with id: 17. \n"
     ]
    },
    {
     "name": "stdout",
     "output_type": "stream",
     "text": [
      "Starting experimental run with id: 18. \n",
      "Starting experimental run with id: 19. \n"
     ]
    },
    {
     "name": "stdout",
     "output_type": "stream",
     "text": [
      "Starting experimental run with id: 20. \n"
     ]
    },
    {
     "name": "stdout",
     "output_type": "stream",
     "text": [
      "Starting experimental run with id: 21. \n"
     ]
    },
    {
     "name": "stdout",
     "output_type": "stream",
     "text": [
      "Starting experimental run with id: 22. \n"
     ]
    },
    {
     "name": "stdout",
     "output_type": "stream",
     "text": [
      "Starting experimental run with id: 23. \n"
     ]
    },
    {
     "name": "stdout",
     "output_type": "stream",
     "text": [
      "Starting experimental run with id: 24. \n"
     ]
    },
    {
     "name": "stdout",
     "output_type": "stream",
     "text": [
      "Starting experimental run with id: 25. \n"
     ]
    },
    {
     "name": "stdout",
     "output_type": "stream",
     "text": [
      "Starting experimental run with id: 26. \n"
     ]
    },
    {
     "name": "stdout",
     "output_type": "stream",
     "text": [
      "Starting experimental run with id: 27. \n"
     ]
    },
    {
     "name": "stdout",
     "output_type": "stream",
     "text": [
      "Starting experimental run with id: 28. \n"
     ]
    }
   ],
   "source": [
    "sizes = [1,500,1000,2000,3000,4000,5000]\n",
    "nreps = 100\n",
    "t_numeric = []\n",
    "t_numeric_add = []\n",
    "t_numeric_run_ids = []\n",
    "t_array = []\n",
    "t_array_add = []\n",
    "t_array_run_ids = []\n",
    "for size in sizes:\n",
    "    tn, tna, run_id_n =  insert_data('numeric', size, nreps=nreps)\n",
    "    t_numeric.append(tn)\n",
    "    t_numeric_add.append(tna)\n",
    "    t_numeric_run_ids.append(run_id_n)\n",
    "\n",
    "    ta, taa, run_id_a =  insert_data('array', size, nreps=nreps)\n",
    "    t_array.append(ta)\n",
    "    t_array_add.append(taa)\n",
    "    t_array_run_ids.append(run_id_a)"
   ]
  },
  {
   "cell_type": "code",
   "execution_count": 8,
   "metadata": {
    "execution": {
     "iopub.execute_input": "2020-09-21T16:10:06.973642Z",
     "iopub.status.busy": "2020-09-21T16:10:06.970250Z",
     "iopub.status.idle": "2020-09-21T16:10:07.224608Z",
     "shell.execute_reply": "2020-09-21T16:10:07.223708Z"
    },
    "scrolled": true
   },
   "outputs": [
    {
     "data": {
      "image/png": "[encoded data removed]",
      "text/plain": [
       "<Figure size 432x288 with 1 Axes>"
      ]
     },
     "metadata": {
      "needs_background": "light"
     },
     "output_type": "display_data"
    }
   ],
   "source": [
    "fig, ax = plt.subplots(1,1)\n",
    "ax.plot(sizes, t_numeric, 'o-', label='Inserting row-by-row')\n",
    "ax.plot(sizes, t_numeric_add, 'o-', label='Inserting row-by-row: add_result only')\n",
    "ax.plot(sizes, t_array, 'd-', label='Inserting as binary blob')\n",
    "ax.plot(sizes, t_array_add, 'd-', label='Inserting as binary blob: add_result only')\n",
    "ax.legend()\n",
    "ax.set_xlabel('Array length')\n",
    "ax.set_ylabel('Time (s)')\n",
    "fig.tight_layout()"
   ]
  },
  {
   "cell_type": "markdown",
   "metadata": {},
   "source": [
    "However, as we increase the length of the experiment, as seen here by repeating the insertion 100 times, we see a big difference between inserting values of the data row-by-row and inserting it as a binary blob."
   ]
  },
  {
   "cell_type": "markdown",
   "metadata": {},
   "source": [
    "## Loading the data "
   ]
  },
  {
   "cell_type": "code",
   "execution_count": 9,
   "metadata": {
    "execution": {
     "iopub.execute_input": "2020-09-21T16:10:07.230191Z",
     "iopub.status.busy": "2020-09-21T16:10:07.228863Z",
     "iopub.status.idle": "2020-09-21T16:10:07.233843Z",
     "shell.execute_reply": "2020-09-21T16:10:07.233115Z"
    }
   },
   "outputs": [],
   "source": [
    "from qcodes.dataset.data_set import load_by_id\n",
    "from qcodes.dataset.data_export import get_data_by_id"
   ]
  },
  {
   "cell_type": "markdown",
   "metadata": {},
   "source": [
    "As usual you can load the data by using the ``load_by_id`` function but you will notice that the different storage methods\n",
    "are reflected in shape of the data as it is retrieved. "
   ]
  },
  {
   "cell_type": "code",
   "execution_count": 10,
   "metadata": {
    "execution": {
     "iopub.execute_input": "2020-09-21T16:10:07.237889Z",
     "iopub.status.busy": "2020-09-21T16:10:07.237234Z",
     "iopub.status.idle": "2020-09-21T16:10:07.241459Z",
     "shell.execute_reply": "2020-09-21T16:10:07.242140Z"
    }
   },
   "outputs": [],
   "source": [
    "run_id_n = t_numeric_run_ids[0]\n",
    "run_id_a = t_array_run_ids[0]"
   ]
  },
  {
   "cell_type": "code",
   "execution_count": 11,
   "metadata": {
    "execution": {
     "iopub.execute_input": "2020-09-21T16:10:07.246179Z",
     "iopub.status.busy": "2020-09-21T16:10:07.245285Z",
     "iopub.status.idle": "2020-09-21T16:10:07.261678Z",
     "shell.execute_reply": "2020-09-21T16:10:07.260714Z"
    },
    "scrolled": true
   },
   "outputs": [
    {
     "data": {
      "text/plain": [
       "{'x1': {'x1': array([0.39049878, 0.39049878, 0.17175017, 0.17175017, 0.85121588,\n",
       "         0.85121588, 0.22832129, 0.22832129, 0.52358037, 0.52358037,\n",
       "         0.02622574, 0.02622574, 0.5355525 , 0.5355525 , 0.57089209,\n",
       "         0.57089209, 0.1573059 , 0.1573059 , 0.84545996, 0.84545996,\n",
       "         0.39139551, 0.39139551, 0.48914264, 0.48914264, 0.7240701 ,\n",
       "         0.7240701 , 0.36876329, 0.36876329, 0.98466022, 0.98466022,\n",
       "         0.99565777, 0.99565777, 0.08325207, 0.08325207, 0.33344018,\n",
       "         0.33344018, 0.18230619, 0.18230619, 0.95592442, 0.95592442,\n",
       "         0.17680749, 0.17680749, 0.59648948, 0.59648948, 0.68668977,\n",
       "         0.68668977, 0.24264655, 0.24264655, 0.18427437, 0.18427437,\n",
       "         0.85820555, 0.85820555, 0.5668991 , 0.5668991 , 0.1927934 ,\n",
       "         0.1927934 , 0.36874536, 0.36874536, 0.02124253, 0.02124253,\n",
       "         0.18778891, 0.18778891, 0.62939651, 0.62939651, 0.95942237,\n",
       "         0.95942237, 0.55225638, 0.55225638, 0.62281784, 0.62281784,\n",
       "         0.63510917, 0.63510917, 0.01005408, 0.01005408, 0.05879721,\n",
       "         0.05879721, 0.17047852, 0.17047852, 0.41137012, 0.41137012,\n",
       "         0.22425659, 0.22425659, 0.06581764, 0.06581764, 0.72121441,\n",
       "         0.72121441, 0.60774082, 0.60774082, 0.5407027 , 0.5407027 ,\n",
       "         0.73021495, 0.73021495, 0.61484181, 0.61484181, 0.23575691,\n",
       "         0.23575691, 0.80423114, 0.80423114, 0.57263829, 0.57263829,\n",
       "         0.07066566, 0.07066566, 0.0274954 , 0.0274954 , 0.40786395,\n",
       "         0.40786395, 0.95178617, 0.95178617, 0.49928187, 0.49928187,\n",
       "         0.85104742, 0.85104742, 0.97301739, 0.97301739, 0.03595894,\n",
       "         0.03595894, 0.92110805, 0.92110805, 0.96873595, 0.96873595,\n",
       "         0.73212317, 0.73212317, 0.34744577, 0.34744577, 0.61659089,\n",
       "         0.61659089, 0.93312871, 0.93312871, 0.06462601, 0.06462601,\n",
       "         0.58951742, 0.58951742, 0.76520283, 0.76520283, 0.80272073,\n",
       "         0.80272073, 0.15149668, 0.15149668, 0.02081106, 0.02081106,\n",
       "         0.76302558, 0.76302558, 0.83445754, 0.83445754, 0.59706478,\n",
       "         0.59706478, 0.88837924, 0.88837924, 0.34784001, 0.34784001,\n",
       "         0.49312779, 0.49312779, 0.69771592, 0.69771592, 0.91209702,\n",
       "         0.91209702, 0.21499021, 0.21499021, 0.31825789, 0.31825789,\n",
       "         0.23261461, 0.23261461, 0.77319453, 0.77319453, 0.11626672,\n",
       "         0.11626672, 0.02297461, 0.02297461, 0.19443399, 0.19443399,\n",
       "         0.22792467, 0.22792467, 0.70013915, 0.70013915, 0.11875535,\n",
       "         0.11875535, 0.36402681, 0.36402681, 0.53408478, 0.53408478,\n",
       "         0.93757463, 0.93757463, 0.81592016, 0.81592016, 0.0332645 ,\n",
       "         0.0332645 , 0.15968053, 0.15968053, 0.38901131, 0.38901131,\n",
       "         0.76016489, 0.76016489, 0.22678684, 0.22678684, 0.87946629,\n",
       "         0.87946629, 0.74707775, 0.74707775, 0.00819614, 0.00819614])}}"
      ]
     },
     "execution_count": 1,
     "metadata": {},
     "output_type": "execute_result"
    }
   ],
   "source": [
    "ds = load_by_id(run_id_n)\n",
    "ds.get_parameter_data('x1')"
   ]
  },
  {
   "cell_type": "markdown",
   "metadata": {},
   "source": [
    "And a dataset stored as binary arrays"
   ]
  },
  {
   "cell_type": "code",
   "execution_count": 12,
   "metadata": {
    "execution": {
     "iopub.execute_input": "2020-09-21T16:10:07.266295Z",
     "iopub.status.busy": "2020-09-21T16:10:07.265399Z",
     "iopub.status.idle": "2020-09-21T16:10:07.335948Z",
     "shell.execute_reply": "2020-09-21T16:10:07.335226Z"
    },
    "scrolled": true
   },
   "outputs": [
    {
     "data": {
      "text/plain": [
       "{'x1': {'x1': array([[0.65804005],\n",
       "         [0.65804005],\n",
       "         [0.11633058],\n",
       "         [0.11633058],\n",
       "         [0.47949096],\n",
       "         [0.47949096],\n",
       "         [0.07866176],\n",
       "         [0.07866176],\n",
       "         [0.90518162],\n",
       "         [0.90518162],\n",
       "         [0.3487465 ],\n",
       "         [0.3487465 ],\n",
       "         [0.68355334],\n",
       "         [0.68355334],\n",
       "         [0.82060767],\n",
       "         [0.82060767],\n",
       "         [0.21852068],\n",
       "         [0.21852068],\n",
       "         [0.43055607],\n",
       "         [0.43055607],\n",
       "         [0.07941727],\n",
       "         [0.07941727],\n",
       "         [0.86965539],\n",
       "         [0.86965539],\n",
       "         [0.36775735],\n",
       "         [0.36775735],\n",
       "         [0.50447542],\n",
       "         [0.50447542],\n",
       "         [0.74500932],\n",
       "         [0.74500932],\n",
       "         [0.59910743],\n",
       "         [0.59910743],\n",
       "         [0.73050697],\n",
       "         [0.73050697],\n",
       "         [0.70623937],\n",
       "         [0.70623937],\n",
       "         [0.73546299],\n",
       "         [0.73546299],\n",
       "         [0.38992385],\n",
       "         [0.38992385],\n",
       "         [0.68587753],\n",
       "         [0.68587753],\n",
       "         [0.6040462 ],\n",
       "         [0.6040462 ],\n",
       "         [0.18692449],\n",
       "         [0.18692449],\n",
       "         [0.72378046],\n",
       "         [0.72378046],\n",
       "         [0.72762539],\n",
       "         [0.72762539],\n",
       "         [0.41118836],\n",
       "         [0.41118836],\n",
       "         [0.83671656],\n",
       "         [0.83671656],\n",
       "         [0.22539946],\n",
       "         [0.22539946],\n",
       "         [0.40130347],\n",
       "         [0.40130347],\n",
       "         [0.52353728],\n",
       "         [0.52353728],\n",
       "         [0.94889626],\n",
       "         [0.94889626],\n",
       "         [0.22378438],\n",
       "         [0.22378438],\n",
       "         [0.65096278],\n",
       "         [0.65096278],\n",
       "         [0.95368922],\n",
       "         [0.95368922],\n",
       "         [0.43716712],\n",
       "         [0.43716712],\n",
       "         [0.96588968],\n",
       "         [0.96588968],\n",
       "         [0.33777362],\n",
       "         [0.33777362],\n",
       "         [0.09599356],\n",
       "         [0.09599356],\n",
       "         [0.46439177],\n",
       "         [0.46439177],\n",
       "         [0.76624854],\n",
       "         [0.76624854],\n",
       "         [0.50096701],\n",
       "         [0.50096701],\n",
       "         [0.48869587],\n",
       "         [0.48869587],\n",
       "         [0.7187363 ],\n",
       "         [0.7187363 ],\n",
       "         [0.20297004],\n",
       "         [0.20297004],\n",
       "         [0.71329674],\n",
       "         [0.71329674],\n",
       "         [0.04889572],\n",
       "         [0.04889572],\n",
       "         [0.75032151],\n",
       "         [0.75032151],\n",
       "         [0.78033484],\n",
       "         [0.78033484],\n",
       "         [0.12312098],\n",
       "         [0.12312098],\n",
       "         [0.82801092],\n",
       "         [0.82801092],\n",
       "         [0.00963866],\n",
       "         [0.00963866],\n",
       "         [0.21572728],\n",
       "         [0.21572728],\n",
       "         [0.94241134],\n",
       "         [0.94241134],\n",
       "         [0.4533687 ],\n",
       "         [0.4533687 ],\n",
       "         [0.43168908],\n",
       "         [0.43168908],\n",
       "         [0.98591098],\n",
       "         [0.98591098],\n",
       "         [0.37445675],\n",
       "         [0.37445675],\n",
       "         [0.70100247],\n",
       "         [0.70100247],\n",
       "         [0.13507858],\n",
       "         [0.13507858],\n",
       "         [0.97651433],\n",
       "         [0.97651433],\n",
       "         [0.9120299 ],\n",
       "         [0.9120299 ],\n",
       "         [0.81507567],\n",
       "         [0.81507567],\n",
       "         [0.48567923],\n",
       "         [0.48567923],\n",
       "         [0.95044978],\n",
       "         [0.95044978],\n",
       "         [0.71045265],\n",
       "         [0.71045265],\n",
       "         [0.52870621],\n",
       "         [0.52870621],\n",
       "         [0.27007911],\n",
       "         [0.27007911],\n",
       "         [0.23708255],\n",
       "         [0.23708255],\n",
       "         [0.90602141],\n",
       "         [0.90602141],\n",
       "         [0.23097556],\n",
       "         [0.23097556],\n",
       "         [0.14999962],\n",
       "         [0.14999962],\n",
       "         [0.40559598],\n",
       "         [0.40559598],\n",
       "         [0.66347376],\n",
       "         [0.66347376],\n",
       "         [0.14560055],\n",
       "         [0.14560055],\n",
       "         [0.39513418],\n",
       "         [0.39513418],\n",
       "         [0.4116613 ],\n",
       "         [0.4116613 ],\n",
       "         [0.56534756],\n",
       "         [0.56534756],\n",
       "         [0.5921336 ],\n",
       "         [0.5921336 ],\n",
       "         [0.46367919],\n",
       "         [0.46367919],\n",
       "         [0.02989069],\n",
       "         [0.02989069],\n",
       "         [0.67168856],\n",
       "         [0.67168856],\n",
       "         [0.71851967],\n",
       "         [0.71851967],\n",
       "         [0.75697811],\n",
       "         [0.75697811],\n",
       "         [0.33878706],\n",
       "         [0.33878706],\n",
       "         [0.60113089],\n",
       "         [0.60113089],\n",
       "         [0.22286503],\n",
       "         [0.22286503],\n",
       "         [0.37080817],\n",
       "         [0.37080817],\n",
       "         [0.43295797],\n",
       "         [0.43295797],\n",
       "         [0.724882  ],\n",
       "         [0.724882  ],\n",
       "         [0.74652146],\n",
       "         [0.74652146],\n",
       "         [0.22903907],\n",
       "         [0.22903907],\n",
       "         [0.24743702],\n",
       "         [0.24743702],\n",
       "         [0.87742101],\n",
       "         [0.87742101],\n",
       "         [0.28809451],\n",
       "         [0.28809451],\n",
       "         [0.01648549],\n",
       "         [0.01648549],\n",
       "         [0.83553697],\n",
       "         [0.83553697],\n",
       "         [0.02264527],\n",
       "         [0.02264527],\n",
       "         [0.75221373],\n",
       "         [0.75221373],\n",
       "         [0.94665428],\n",
       "         [0.94665428],\n",
       "         [0.86056191],\n",
       "         [0.86056191]])}}"
      ]
     },
     "execution_count": 1,
     "metadata": {},
     "output_type": "execute_result"
    }
   ],
   "source": [
    "ds = load_by_id(run_id_a)\n",
    "ds.get_parameter_data('x1')"
   ]
  },
  {
   "cell_type": "code",
   "execution_count": null,
   "metadata": {},
   "outputs": [],
   "source": []
  }
 ],
 "metadata": {
  "kernelspec": {
   "display_name": "Python 3",
   "language": "python",
   "name": "python3"
  },
  "language_info": {
   "codemirror_mode": {
    "name": "ipython",
    "version": 3
   },
   "file_extension": ".py",
   "mimetype": "text/x-python",
   "name": "python",
   "nbconvert_exporter": "python",
   "pygments_lexer": "ipython3",
   "version": "3.7.7"
  },
  "nbsphinx": {
   "timeout": 600
  },
  "toc": {
   "base_numbering": 1,
   "nav_menu": {},
   "number_sections": true,
   "sideBar": true,
   "skip_h1_title": false,
   "title_cell": "Table of Contents",
   "title_sidebar": "Contents",
   "toc_cell": false,
   "toc_position": {},
   "toc_section_display": true,
   "toc_window_display": false
  },
  "varInspector": {
   "cols": {
    "lenName": 16,
    "lenType": 16,
    "lenVar": 40
   },
   "kernels_config": {
    "python": {
     "delete_cmd_postfix": "",
     "delete_cmd_prefix": "del ",
     "library": "var_list.py",
     "varRefreshCmd": "print(var_dic_list())"
    },
    "r": {
     "delete_cmd_postfix": ") ",
     "delete_cmd_prefix": "rm(",
     "library": "var_list.r",
     "varRefreshCmd": "cat(var_dic_list()) "
    }
   },
   "types_to_exclude": [
    "module",
    "function",
    "builtin_function_or_method",
    "instance",
    "_Feature"
   ],
   "window_display": false
  }
 },
 "nbformat": 4,
 "nbformat_minor": 2
}
