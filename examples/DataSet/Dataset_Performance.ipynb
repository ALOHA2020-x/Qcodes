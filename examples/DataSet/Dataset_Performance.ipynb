{
 "cells": [
  {
   "cell_type": "markdown",
   "metadata": {},
   "source": [
    "# DataSet Performance\n",
    "\n",
    "This notebook shows the trade-off between inserting data into a database row-by-row and as binary blobs. Inserting the data row-by-row means that we have direct access to all the data and may perform queries directly on the values of the data. On the other hand, as we shall see, this is much slower than inserting the data directly as binary blobs."
   ]
  },
  {
   "cell_type": "markdown",
   "metadata": {},
   "source": [
    "First, we choose a new location for the database to ensure that we don't add a bunch of benchmarking data to the default one."
   ]
  },
  {
   "cell_type": "code",
   "execution_count": 1,
   "metadata": {
    "execution": {
     "iopub.execute_input": "2021-03-17T09:40:04.341475Z",
     "iopub.status.busy": "2021-03-17T09:40:04.340804Z",
     "iopub.status.idle": "2021-03-17T09:40:05.342734Z",
     "shell.execute_reply": "2021-03-17T09:40:05.341722Z"
    }
   },
   "outputs": [
    {
     "name": "stdout",
     "output_type": "stream",
     "text": [
      "Logging hadn't been started.\n",
      "Activating auto-logging. Current session state plus future input saved.\n",
      "Filename       : /home/runner/.qcodes/logs/command_history.log\n",
      "Mode           : append\n",
      "Output logging : True\n",
      "Raw input log  : False\n",
      "Timestamping   : True\n",
      "State          : active\n"
     ]
    },
    {
     "name": "stdout",
     "output_type": "stream",
     "text": [
      "Qcodes Logfile : /home/runner/.qcodes/logs/210317-4705-qcodes.log\n"
     ]
    }
   ],
   "source": [
    "import os\n",
    "cwd = os.getcwd()\n",
    "import qcodes as qc\n",
    "qc.config[\"core\"][\"db_location\"] = os.path.join(cwd, 'testing.db')\n"
   ]
  },
  {
   "cell_type": "code",
   "execution_count": 2,
   "metadata": {
    "execution": {
     "iopub.execute_input": "2021-03-17T09:40:05.351167Z",
     "iopub.status.busy": "2021-03-17T09:40:05.349245Z",
     "iopub.status.idle": "2021-03-17T09:40:05.568633Z",
     "shell.execute_reply": "2021-03-17T09:40:05.569224Z"
    }
   },
   "outputs": [],
   "source": [
    "%matplotlib inline\n",
    "import time\n",
    "import matplotlib.pyplot as plt\n",
    "import numpy as np\n",
    "\n",
    "import qcodes as qc\n",
    "from qcodes.instrument.parameter import ManualParameter\n",
    "from qcodes.dataset.experiment_container import (Experiment,\n",
    "                                                 load_last_experiment,\n",
    "                                                 new_experiment)\n",
    "from qcodes.dataset.sqlite.database import initialise_database\n",
    "from qcodes import load_or_create_experiment\n",
    "from qcodes.dataset.measurements import Measurement"
   ]
  },
  {
   "cell_type": "code",
   "execution_count": 3,
   "metadata": {
    "execution": {
     "iopub.execute_input": "2021-03-17T09:40:05.573720Z",
     "iopub.status.busy": "2021-03-17T09:40:05.572593Z",
     "iopub.status.idle": "2021-03-17T09:40:05.697030Z",
     "shell.execute_reply": "2021-03-17T09:40:05.696373Z"
    }
   },
   "outputs": [
    {
     "name": "stdout",
     "output_type": "stream",
     "text": [
      "\r",
      "0it [00:00, ?it/s]"
     ]
    },
    {
     "name": "stdout",
     "output_type": "stream",
     "text": [
      "\r",
      "Upgrading database; v0 -> v1: : 0it [00:00, ?it/s]"
     ]
    },
    {
     "name": "stdout",
     "output_type": "stream",
     "text": [
      "\r",
      "Upgrading database; v0 -> v1: : 0it [00:00, ?it/s]"
     ]
    },
    {
     "name": "stdout",
     "output_type": "stream",
     "text": [
      "\n",
      "\r",
      "  0%|          | 0/1 [00:00<?, ?it/s]"
     ]
    },
    {
     "name": "stdout",
     "output_type": "stream",
     "text": [
      "\r",
      "Upgrading database; v1 -> v2:   0%|          | 0/1 [00:00<?, ?it/s]"
     ]
    },
    {
     "name": "stdout",
     "output_type": "stream",
     "text": [
      "\r",
      "Upgrading database; v1 -> v2: 100%|██████████| 1/1 [00:00<00:00, 377.73it/s]"
     ]
    },
    {
     "name": "stdout",
     "output_type": "stream",
     "text": [
      "\n",
      "\r",
      "0it [00:00, ?it/s]"
     ]
    },
    {
     "name": "stdout",
     "output_type": "stream",
     "text": [
      "\r",
      "Upgrading database; v2 -> v3: : 0it [00:00, ?it/s]"
     ]
    },
    {
     "name": "stdout",
     "output_type": "stream",
     "text": [
      "\r",
      "Upgrading database; v2 -> v3: : 0it [00:00, ?it/s]"
     ]
    },
    {
     "name": "stdout",
     "output_type": "stream",
     "text": [
      "\n",
      "\r",
      "0it [00:00, ?it/s]"
     ]
    },
    {
     "name": "stdout",
     "output_type": "stream",
     "text": [
      "\r",
      "Upgrading database; v3 -> v4: : 0it [00:00, ?it/s]"
     ]
    },
    {
     "name": "stdout",
     "output_type": "stream",
     "text": [
      "\r",
      "Upgrading database; v3 -> v4: : 0it [00:00, ?it/s]"
     ]
    },
    {
     "name": "stdout",
     "output_type": "stream",
     "text": [
      "\n",
      "\r",
      "  0%|          | 0/1 [00:00<?, ?it/s]"
     ]
    },
    {
     "name": "stdout",
     "output_type": "stream",
     "text": [
      "\r",
      "Upgrading database; v4 -> v5:   0%|          | 0/1 [00:00<?, ?it/s]"
     ]
    },
    {
     "name": "stdout",
     "output_type": "stream",
     "text": [
      "\r",
      "Upgrading database; v4 -> v5: 100%|██████████| 1/1 [00:00<00:00, 351.05it/s]"
     ]
    },
    {
     "name": "stdout",
     "output_type": "stream",
     "text": [
      "\n",
      "\r",
      "0it [00:00, ?it/s]"
     ]
    },
    {
     "name": "stdout",
     "output_type": "stream",
     "text": [
      "\r",
      "Upgrading database; v5 -> v6: : 0it [00:00, ?it/s]"
     ]
    },
    {
     "name": "stdout",
     "output_type": "stream",
     "text": [
      "\r",
      "Upgrading database; v5 -> v6: : 0it [00:00, ?it/s]"
     ]
    },
    {
     "name": "stdout",
     "output_type": "stream",
     "text": [
      "\n",
      "\r",
      "  0%|          | 0/1 [00:00<?, ?it/s]"
     ]
    },
    {
     "name": "stdout",
     "output_type": "stream",
     "text": [
      "\r",
      "Upgrading database; v6 -> v7:   0%|          | 0/1 [00:00<?, ?it/s]"
     ]
    },
    {
     "name": "stdout",
     "output_type": "stream",
     "text": [
      "\r",
      "Upgrading database; v6 -> v7: 100%|██████████| 1/1 [00:00<00:00, 234.49it/s]"
     ]
    },
    {
     "name": "stdout",
     "output_type": "stream",
     "text": [
      "\n",
      "\r",
      "  0%|          | 0/1 [00:00<?, ?it/s]"
     ]
    },
    {
     "name": "stdout",
     "output_type": "stream",
     "text": [
      "\r",
      "Upgrading database; v7 -> v8:   0%|          | 0/1 [00:00<?, ?it/s]"
     ]
    },
    {
     "name": "stdout",
     "output_type": "stream",
     "text": [
      "\r",
      "Upgrading database; v7 -> v8: 100%|██████████| 1/1 [00:00<00:00, 356.33it/s]"
     ]
    },
    {
     "name": "stdout",
     "output_type": "stream",
     "text": [
      "\n",
      "\r",
      "  0%|          | 0/1 [00:00<?, ?it/s]"
     ]
    },
    {
     "name": "stdout",
     "output_type": "stream",
     "text": [
      "\r",
      "Upgrading database; v8 -> v9:   0%|          | 0/1 [00:00<?, ?it/s]"
     ]
    },
    {
     "name": "stdout",
     "output_type": "stream",
     "text": [
      "\r",
      "Upgrading database; v8 -> v9: 100%|██████████| 1/1 [00:00<00:00, 558.64it/s]"
     ]
    },
    {
     "name": "stdout",
     "output_type": "stream",
     "text": [
      "\n"
     ]
    }
   ],
   "source": [
    "initialise_database()\n",
    "exp = load_or_create_experiment(experiment_name='tutorial_exp', sample_name=\"no sample\")"
   ]
  },
  {
   "cell_type": "markdown",
   "metadata": {},
   "source": [
    "Here, we define a simple function to benchmark the time it takes to insert n points with either numeric or array data type.\n",
    "We will compare both the time used to call ``add_result`` and the time used for the full measurement."
   ]
  },
  {
   "cell_type": "code",
   "execution_count": 4,
   "metadata": {
    "execution": {
     "iopub.execute_input": "2021-03-17T09:40:05.707111Z",
     "iopub.status.busy": "2021-03-17T09:40:05.706422Z",
     "iopub.status.idle": "2021-03-17T09:40:05.710189Z",
     "shell.execute_reply": "2021-03-17T09:40:05.710711Z"
    }
   },
   "outputs": [],
   "source": [
    "def insert_data(paramtype, npoints, nreps=1):\n",
    "\n",
    "    meas = Measurement(exp=exp)\n",
    "\n",
    "    x1 = ManualParameter('x1')\n",
    "    x2 = ManualParameter('x2')\n",
    "    x3 = ManualParameter('x3')\n",
    "    y1 = ManualParameter('y1')\n",
    "    y2 = ManualParameter('y2')\n",
    "\n",
    "    meas.register_parameter(x1, paramtype=paramtype)\n",
    "    meas.register_parameter(x2, paramtype=paramtype)\n",
    "    meas.register_parameter(x3, paramtype=paramtype)\n",
    "    meas.register_parameter(y1, setpoints=[x1, x2, x3],\n",
    "                            paramtype=paramtype)\n",
    "    meas.register_parameter(y2, setpoints=[x1, x2, x3],\n",
    "                            paramtype=paramtype)\n",
    "    start = time.perf_counter()\n",
    "    with meas.run() as datasaver:\n",
    "        start_adding = time.perf_counter()\n",
    "        for i in range(nreps):\n",
    "            datasaver.add_result((x1, np.random.rand(npoints)),\n",
    "                                 (x2, np.random.rand(npoints)),\n",
    "                                 (x3, np.random.rand(npoints)),\n",
    "                                 (y1, np.random.rand(npoints)),\n",
    "                                 (y2, np.random.rand(npoints)))\n",
    "        stop_adding = time.perf_counter()\n",
    "        run_id = datasaver.run_id\n",
    "    stop = time.perf_counter()\n",
    "    tot_time = stop - start\n",
    "    add_time = stop_adding - start_adding\n",
    "    return tot_time, add_time, run_id"
   ]
  },
  {
   "cell_type": "markdown",
   "metadata": {},
   "source": [
    "## Comparison between numeric/array data and binary blob"
   ]
  },
  {
   "cell_type": "markdown",
   "metadata": {},
   "source": [
    "### Case1: Short experiment time"
   ]
  },
  {
   "cell_type": "code",
   "execution_count": 5,
   "metadata": {
    "execution": {
     "iopub.execute_input": "2021-03-17T09:40:05.718617Z",
     "iopub.status.busy": "2021-03-17T09:40:05.717837Z",
     "iopub.status.idle": "2021-03-17T09:40:06.625118Z",
     "shell.execute_reply": "2021-03-17T09:40:06.628984Z"
    }
   },
   "outputs": [
    {
     "name": "stdout",
     "output_type": "stream",
     "text": [
      "Starting experimental run with id: 1. \n",
      "Starting experimental run with id: 2. \n",
      "Starting experimental run with id: 3. \n",
      "Starting experimental run with id: 4. \n"
     ]
    },
    {
     "name": "stdout",
     "output_type": "stream",
     "text": [
      "Starting experimental run with id: 5. \n"
     ]
    },
    {
     "name": "stdout",
     "output_type": "stream",
     "text": [
      "Starting experimental run with id: 6. \n",
      "Starting experimental run with id: 7. \n"
     ]
    },
    {
     "name": "stdout",
     "output_type": "stream",
     "text": [
      "Starting experimental run with id: 8. \n",
      "Starting experimental run with id: 9. \n"
     ]
    },
    {
     "name": "stdout",
     "output_type": "stream",
     "text": [
      "Starting experimental run with id: 10. \n",
      "Starting experimental run with id: 11. \n"
     ]
    },
    {
     "name": "stdout",
     "output_type": "stream",
     "text": [
      "Starting experimental run with id: 12. \n"
     ]
    },
    {
     "name": "stdout",
     "output_type": "stream",
     "text": [
      "Starting experimental run with id: 13. \n"
     ]
    },
    {
     "name": "stdout",
     "output_type": "stream",
     "text": [
      "Starting experimental run with id: 14. \n"
     ]
    }
   ],
   "source": [
    "sizes = [1,500,1000,2000,3000,4000,5000]\n",
    "t_numeric = []\n",
    "t_numeric_add = []\n",
    "t_array = []\n",
    "t_array_add = []\n",
    "for size in sizes:\n",
    "    tn, tna, run_id_n =  insert_data('numeric', size)\n",
    "    t_numeric.append(tn)\n",
    "    t_numeric_add.append(tna)\n",
    "\n",
    "    ta, taa, run_id_a =  insert_data('array', size)\n",
    "    t_array.append(ta)\n",
    "    t_array_add.append(taa)"
   ]
  },
  {
   "cell_type": "code",
   "execution_count": 6,
   "metadata": {
    "execution": {
     "iopub.execute_input": "2021-03-17T09:40:06.655569Z",
     "iopub.status.busy": "2021-03-17T09:40:06.653955Z",
     "iopub.status.idle": "2021-03-17T09:40:06.888538Z",
     "shell.execute_reply": "2021-03-17T09:40:06.889162Z"
    }
   },
   "outputs": [
    {
     "data": {
      "image/png": "[encoded data removed]",
      "text/plain": [
       "<Figure size 432x288 with 1 Axes>"
      ]
     },
     "metadata": {
      "needs_background": "light"
     },
     "output_type": "display_data"
    }
   ],
   "source": [
    "fig, ax = plt.subplots(1,1)\n",
    "ax.plot(sizes, t_numeric, 'o-', label='Inserting row-by-row')\n",
    "ax.plot(sizes, t_numeric_add, 'o-', label='Inserting row-by-row: add_result only')\n",
    "ax.plot(sizes, t_array, 'd-', label='Inserting as binary blob')\n",
    "ax.plot(sizes, t_array_add, 'd-', label='Inserting as binary blob: add_result only')\n",
    "ax.legend()\n",
    "ax.set_xlabel('Array length')\n",
    "ax.set_ylabel('Time (s)')\n",
    "fig.tight_layout()"
   ]
  },
  {
   "cell_type": "markdown",
   "metadata": {},
   "source": [
    "As shown in the latter figure, the time to setup and and close the experiment is approximately 0.4 sec. In case of small array sizes, the difference between inserting values of data as arrays and inserting them row-by-row is relatively unimportant. At larger array sizes, i.e. above 10000 points, the cost of writing data as individual datapoints starts to become important.\n"
   ]
  },
  {
   "cell_type": "markdown",
   "metadata": {},
   "source": [
    "### Case2: Long experiment time "
   ]
  },
  {
   "cell_type": "code",
   "execution_count": 7,
   "metadata": {
    "execution": {
     "iopub.execute_input": "2021-03-17T09:40:06.897589Z",
     "iopub.status.busy": "2021-03-17T09:40:06.896408Z",
     "iopub.status.idle": "2021-03-17T09:41:13.555226Z",
     "shell.execute_reply": "2021-03-17T09:41:13.554208Z"
    }
   },
   "outputs": [
    {
     "name": "stdout",
     "output_type": "stream",
     "text": [
      "Starting experimental run with id: 15. \n",
      "Starting experimental run with id: 16. \n"
     ]
    },
    {
     "name": "stdout",
     "output_type": "stream",
     "text": [
      "Starting experimental run with id: 17. \n"
     ]
    },
    {
     "name": "stdout",
     "output_type": "stream",
     "text": [
      "Starting experimental run with id: 18. \n"
     ]
    },
    {
     "name": "stdout",
     "output_type": "stream",
     "text": [
      "Starting experimental run with id: 19. \n"
     ]
    },
    {
     "name": "stdout",
     "output_type": "stream",
     "text": [
      "Starting experimental run with id: 20. \n"
     ]
    },
    {
     "name": "stdout",
     "output_type": "stream",
     "text": [
      "Starting experimental run with id: 21. \n"
     ]
    },
    {
     "name": "stdout",
     "output_type": "stream",
     "text": [
      "Starting experimental run with id: 22. \n"
     ]
    },
    {
     "name": "stdout",
     "output_type": "stream",
     "text": [
      "Starting experimental run with id: 23. \n"
     ]
    },
    {
     "name": "stdout",
     "output_type": "stream",
     "text": [
      "Starting experimental run with id: 24. \n"
     ]
    },
    {
     "name": "stdout",
     "output_type": "stream",
     "text": [
      "Starting experimental run with id: 25. \n"
     ]
    },
    {
     "name": "stdout",
     "output_type": "stream",
     "text": [
      "Starting experimental run with id: 26. \n"
     ]
    },
    {
     "name": "stdout",
     "output_type": "stream",
     "text": [
      "Starting experimental run with id: 27. \n"
     ]
    },
    {
     "name": "stdout",
     "output_type": "stream",
     "text": [
      "Starting experimental run with id: 28. \n"
     ]
    }
   ],
   "source": [
    "sizes = [1,500,1000,2000,3000,4000,5000]\n",
    "nreps = 100\n",
    "t_numeric = []\n",
    "t_numeric_add = []\n",
    "t_numeric_run_ids = []\n",
    "t_array = []\n",
    "t_array_add = []\n",
    "t_array_run_ids = []\n",
    "for size in sizes:\n",
    "    tn, tna, run_id_n =  insert_data('numeric', size, nreps=nreps)\n",
    "    t_numeric.append(tn)\n",
    "    t_numeric_add.append(tna)\n",
    "    t_numeric_run_ids.append(run_id_n)\n",
    "\n",
    "    ta, taa, run_id_a =  insert_data('array', size, nreps=nreps)\n",
    "    t_array.append(ta)\n",
    "    t_array_add.append(taa)\n",
    "    t_array_run_ids.append(run_id_a)"
   ]
  },
  {
   "cell_type": "code",
   "execution_count": 8,
   "metadata": {
    "execution": {
     "iopub.execute_input": "2021-03-17T09:41:13.586066Z",
     "iopub.status.busy": "2021-03-17T09:41:13.582549Z",
     "iopub.status.idle": "2021-03-17T09:41:13.811277Z",
     "shell.execute_reply": "2021-03-17T09:41:13.812095Z"
    },
    "scrolled": true
   },
   "outputs": [
    {
     "data": {
      "image/png": "[encoded data removed]",
      "text/plain": [
       "<Figure size 432x288 with 1 Axes>"
      ]
     },
     "metadata": {
      "needs_background": "light"
     },
     "output_type": "display_data"
    }
   ],
   "source": [
    "fig, ax = plt.subplots(1,1)\n",
    "ax.plot(sizes, t_numeric, 'o-', label='Inserting row-by-row')\n",
    "ax.plot(sizes, t_numeric_add, 'o-', label='Inserting row-by-row: add_result only')\n",
    "ax.plot(sizes, t_array, 'd-', label='Inserting as binary blob')\n",
    "ax.plot(sizes, t_array_add, 'd-', label='Inserting as binary blob: add_result only')\n",
    "ax.legend()\n",
    "ax.set_xlabel('Array length')\n",
    "ax.set_ylabel('Time (s)')\n",
    "fig.tight_layout()"
   ]
  },
  {
   "cell_type": "markdown",
   "metadata": {},
   "source": [
    "However, as we increase the length of the experiment, as seen here by repeating the insertion 100 times, we see a big difference between inserting values of the data row-by-row and inserting it as a binary blob."
   ]
  },
  {
   "cell_type": "markdown",
   "metadata": {},
   "source": [
    "## Loading the data "
   ]
  },
  {
   "cell_type": "code",
   "execution_count": 9,
   "metadata": {
    "execution": {
     "iopub.execute_input": "2021-03-17T09:41:13.817195Z",
     "iopub.status.busy": "2021-03-17T09:41:13.815932Z",
     "iopub.status.idle": "2021-03-17T09:41:13.819950Z",
     "shell.execute_reply": "2021-03-17T09:41:13.820544Z"
    }
   },
   "outputs": [],
   "source": [
    "from qcodes.dataset.data_set import load_by_id\n",
    "from qcodes.dataset.data_export import get_data_by_id"
   ]
  },
  {
   "cell_type": "markdown",
   "metadata": {},
   "source": [
    "As usual you can load the data by using the ``load_by_id`` function but you will notice that the different storage methods\n",
    "are reflected in shape of the data as it is retrieved. "
   ]
  },
  {
   "cell_type": "code",
   "execution_count": 10,
   "metadata": {
    "execution": {
     "iopub.execute_input": "2021-03-17T09:41:13.825847Z",
     "iopub.status.busy": "2021-03-17T09:41:13.824432Z",
     "iopub.status.idle": "2021-03-17T09:41:13.826560Z",
     "shell.execute_reply": "2021-03-17T09:41:13.827108Z"
    }
   },
   "outputs": [],
   "source": [
    "run_id_n = t_numeric_run_ids[0]\n",
    "run_id_a = t_array_run_ids[0]"
   ]
  },
  {
   "cell_type": "code",
   "execution_count": 11,
   "metadata": {
    "execution": {
     "iopub.execute_input": "2021-03-17T09:41:13.835130Z",
     "iopub.status.busy": "2021-03-17T09:41:13.834441Z",
     "iopub.status.idle": "2021-03-17T09:41:13.845938Z",
     "shell.execute_reply": "2021-03-17T09:41:13.846494Z"
    },
    "scrolled": true
   },
   "outputs": [
    {
     "data": {
      "text/plain": [
       "{'x1': {'x1': array([9.55159693e-01, 9.55159693e-01, 1.44819944e-01, 1.44819944e-01,\n",
       "         3.28398843e-01, 3.28398843e-01, 2.45210048e-01, 2.45210048e-01,\n",
       "         1.36701384e-01, 1.36701384e-01, 7.86386208e-01, 7.86386208e-01,\n",
       "         9.78132468e-01, 9.78132468e-01, 4.70980369e-01, 4.70980369e-01,\n",
       "         7.36094126e-01, 7.36094126e-01, 2.92038718e-02, 2.92038718e-02,\n",
       "         2.65486125e-01, 2.65486125e-01, 7.22887226e-01, 7.22887226e-01,\n",
       "         1.44723879e-01, 1.44723879e-01, 9.97051252e-01, 9.97051252e-01,\n",
       "         5.54362121e-01, 5.54362121e-01, 2.27838782e-01, 2.27838782e-01,\n",
       "         5.00331427e-01, 5.00331427e-01, 4.25375040e-02, 4.25375040e-02,\n",
       "         4.26078298e-01, 4.26078298e-01, 6.43982231e-01, 6.43982231e-01,\n",
       "         5.94466366e-01, 5.94466366e-01, 9.21936526e-01, 9.21936526e-01,\n",
       "         6.64522165e-01, 6.64522165e-01, 1.55126588e-02, 1.55126588e-02,\n",
       "         9.03004132e-01, 9.03004132e-01, 2.59612093e-01, 2.59612093e-01,\n",
       "         7.13025266e-01, 7.13025266e-01, 8.45112708e-01, 8.45112708e-01,\n",
       "         2.79255938e-01, 2.79255938e-01, 9.47996958e-01, 9.47996958e-01,\n",
       "         8.09731771e-01, 8.09731771e-01, 2.07053106e-01, 2.07053106e-01,\n",
       "         5.49615977e-01, 5.49615977e-01, 5.55324327e-01, 5.55324327e-01,\n",
       "         7.17062906e-01, 7.17062906e-01, 8.67144896e-01, 8.67144896e-01,\n",
       "         1.02641844e-02, 1.02641844e-02, 1.21636910e-01, 1.21636910e-01,\n",
       "         9.23953304e-01, 9.23953304e-01, 3.35184315e-01, 3.35184315e-01,\n",
       "         1.56014944e-02, 1.56014944e-02, 6.64735249e-01, 6.64735249e-01,\n",
       "         8.19222157e-01, 8.19222157e-01, 7.49501399e-01, 7.49501399e-01,\n",
       "         5.79559823e-01, 5.79559823e-01, 8.82440028e-01, 8.82440028e-01,\n",
       "         8.39617807e-01, 8.39617807e-01, 3.51986954e-01, 3.51986954e-01,\n",
       "         7.21130440e-01, 7.21130440e-01, 9.16374542e-01, 9.16374542e-01,\n",
       "         3.63779403e-01, 3.63779403e-01, 2.30448993e-01, 2.30448993e-01,\n",
       "         9.28256712e-04, 9.28256712e-04, 7.05718245e-01, 7.05718245e-01,\n",
       "         1.87740324e-01, 1.87740324e-01, 1.92401248e-01, 1.92401248e-01,\n",
       "         5.99086377e-01, 5.99086377e-01, 5.42925675e-01, 5.42925675e-01,\n",
       "         6.46237691e-01, 6.46237691e-01, 6.62139962e-01, 6.62139962e-01,\n",
       "         5.66725029e-01, 5.66725029e-01, 8.86708126e-01, 8.86708126e-01,\n",
       "         3.31270316e-01, 3.31270316e-01, 5.16492844e-01, 5.16492844e-01,\n",
       "         1.79437316e-01, 1.79437316e-01, 7.45587780e-01, 7.45587780e-01,\n",
       "         6.19610763e-02, 6.19610763e-02, 4.79796007e-01, 4.79796007e-01,\n",
       "         1.59582906e-01, 1.59582906e-01, 9.02598440e-01, 9.02598440e-01,\n",
       "         8.38296714e-01, 8.38296714e-01, 9.19617704e-01, 9.19617704e-01,\n",
       "         7.26065713e-02, 7.26065713e-02, 8.03335391e-01, 8.03335391e-01,\n",
       "         2.06815995e-01, 2.06815995e-01, 3.44744082e-02, 3.44744082e-02,\n",
       "         8.99609048e-01, 8.99609048e-01, 9.22715074e-02, 9.22715074e-02,\n",
       "         4.00614644e-01, 4.00614644e-01, 2.66230274e-01, 2.66230274e-01,\n",
       "         4.84218429e-01, 4.84218429e-01, 9.06907896e-01, 9.06907896e-01,\n",
       "         3.62686145e-01, 3.62686145e-01, 8.60073650e-01, 8.60073650e-01,\n",
       "         3.34402995e-01, 3.34402995e-01, 2.55140024e-01, 2.55140024e-01,\n",
       "         8.98539010e-01, 8.98539010e-01, 8.01719728e-01, 8.01719728e-01,\n",
       "         6.93736075e-01, 6.93736075e-01, 7.40681816e-01, 7.40681816e-01,\n",
       "         6.43127330e-01, 6.43127330e-01, 1.55378418e-02, 1.55378418e-02,\n",
       "         4.23246298e-01, 4.23246298e-01, 7.46763850e-01, 7.46763850e-01,\n",
       "         4.97184271e-01, 4.97184271e-01, 4.68939676e-01, 4.68939676e-01,\n",
       "         6.79976838e-01, 6.79976838e-01, 3.96358075e-01, 3.96358075e-01,\n",
       "         3.25240221e-01, 3.25240221e-01, 4.76497277e-01, 4.76497277e-01])}}"
      ]
     },
     "execution_count": 1,
     "metadata": {},
     "output_type": "execute_result"
    }
   ],
   "source": [
    "ds = load_by_id(run_id_n)\n",
    "ds.get_parameter_data('x1')"
   ]
  },
  {
   "cell_type": "markdown",
   "metadata": {},
   "source": [
    "And a dataset stored as binary arrays"
   ]
  },
  {
   "cell_type": "code",
   "execution_count": 12,
   "metadata": {
    "execution": {
     "iopub.execute_input": "2021-03-17T09:41:13.853706Z",
     "iopub.status.busy": "2021-03-17T09:41:13.853035Z",
     "iopub.status.idle": "2021-03-17T09:41:13.919502Z",
     "shell.execute_reply": "2021-03-17T09:41:13.920060Z"
    },
    "scrolled": true
   },
   "outputs": [
    {
     "data": {
      "text/plain": [
       "{'x1': {'x1': array([[6.43116287e-01],\n",
       "         [6.43116287e-01],\n",
       "         [8.03784696e-01],\n",
       "         [8.03784696e-01],\n",
       "         [9.20545193e-01],\n",
       "         [9.20545193e-01],\n",
       "         [9.40613808e-01],\n",
       "         [9.40613808e-01],\n",
       "         [4.88636577e-01],\n",
       "         [4.88636577e-01],\n",
       "         [2.85537706e-01],\n",
       "         [2.85537706e-01],\n",
       "         [4.56792672e-01],\n",
       "         [4.56792672e-01],\n",
       "         [2.53417803e-01],\n",
       "         [2.53417803e-01],\n",
       "         [5.72831084e-01],\n",
       "         [5.72831084e-01],\n",
       "         [5.52591184e-01],\n",
       "         [5.52591184e-01],\n",
       "         [8.77582254e-01],\n",
       "         [8.77582254e-01],\n",
       "         [2.89490348e-01],\n",
       "         [2.89490348e-01],\n",
       "         [7.33104883e-01],\n",
       "         [7.33104883e-01],\n",
       "         [6.93394821e-01],\n",
       "         [6.93394821e-01],\n",
       "         [1.81773947e-01],\n",
       "         [1.81773947e-01],\n",
       "         [5.83021612e-01],\n",
       "         [5.83021612e-01],\n",
       "         [9.75166320e-01],\n",
       "         [9.75166320e-01],\n",
       "         [6.19229354e-01],\n",
       "         [6.19229354e-01],\n",
       "         [7.46654935e-01],\n",
       "         [7.46654935e-01],\n",
       "         [3.62322076e-01],\n",
       "         [3.62322076e-01],\n",
       "         [7.62735480e-01],\n",
       "         [7.62735480e-01],\n",
       "         [9.97453680e-01],\n",
       "         [9.97453680e-01],\n",
       "         [9.40795425e-01],\n",
       "         [9.40795425e-01],\n",
       "         [3.31510014e-01],\n",
       "         [3.31510014e-01],\n",
       "         [4.46767476e-01],\n",
       "         [4.46767476e-01],\n",
       "         [5.45139784e-01],\n",
       "         [5.45139784e-01],\n",
       "         [1.77096719e-01],\n",
       "         [1.77096719e-01],\n",
       "         [3.24517810e-01],\n",
       "         [3.24517810e-01],\n",
       "         [4.66501757e-04],\n",
       "         [4.66501757e-04],\n",
       "         [4.62525174e-01],\n",
       "         [4.62525174e-01],\n",
       "         [1.54979059e-01],\n",
       "         [1.54979059e-01],\n",
       "         [2.99557785e-02],\n",
       "         [2.99557785e-02],\n",
       "         [8.89231154e-01],\n",
       "         [8.89231154e-01],\n",
       "         [9.64228762e-01],\n",
       "         [9.64228762e-01],\n",
       "         [2.08677745e-01],\n",
       "         [2.08677745e-01],\n",
       "         [6.03891107e-01],\n",
       "         [6.03891107e-01],\n",
       "         [7.36747602e-01],\n",
       "         [7.36747602e-01],\n",
       "         [3.11526741e-01],\n",
       "         [3.11526741e-01],\n",
       "         [5.07840168e-01],\n",
       "         [5.07840168e-01],\n",
       "         [9.31205628e-02],\n",
       "         [9.31205628e-02],\n",
       "         [2.36405339e-01],\n",
       "         [2.36405339e-01],\n",
       "         [7.54071842e-01],\n",
       "         [7.54071842e-01],\n",
       "         [5.96180522e-01],\n",
       "         [5.96180522e-01],\n",
       "         [7.61067119e-01],\n",
       "         [7.61067119e-01],\n",
       "         [5.90913486e-01],\n",
       "         [5.90913486e-01],\n",
       "         [4.47567956e-01],\n",
       "         [4.47567956e-01],\n",
       "         [2.74713578e-01],\n",
       "         [2.74713578e-01],\n",
       "         [1.23372969e-01],\n",
       "         [1.23372969e-01],\n",
       "         [3.61084720e-01],\n",
       "         [3.61084720e-01],\n",
       "         [8.11069185e-01],\n",
       "         [8.11069185e-01],\n",
       "         [9.88537110e-01],\n",
       "         [9.88537110e-01],\n",
       "         [5.97115354e-01],\n",
       "         [5.97115354e-01],\n",
       "         [3.06190752e-02],\n",
       "         [3.06190752e-02],\n",
       "         [1.70889125e-01],\n",
       "         [1.70889125e-01],\n",
       "         [6.47071586e-01],\n",
       "         [6.47071586e-01],\n",
       "         [4.44471949e-01],\n",
       "         [4.44471949e-01],\n",
       "         [5.84325602e-01],\n",
       "         [5.84325602e-01],\n",
       "         [2.04547732e-01],\n",
       "         [2.04547732e-01],\n",
       "         [5.72128900e-01],\n",
       "         [5.72128900e-01],\n",
       "         [5.57293139e-01],\n",
       "         [5.57293139e-01],\n",
       "         [8.70595855e-01],\n",
       "         [8.70595855e-01],\n",
       "         [1.20447209e-01],\n",
       "         [1.20447209e-01],\n",
       "         [2.60472794e-02],\n",
       "         [2.60472794e-02],\n",
       "         [7.32672004e-01],\n",
       "         [7.32672004e-01],\n",
       "         [8.90545984e-01],\n",
       "         [8.90545984e-01],\n",
       "         [3.70133119e-01],\n",
       "         [3.70133119e-01],\n",
       "         [1.85618651e-01],\n",
       "         [1.85618651e-01],\n",
       "         [9.34435760e-01],\n",
       "         [9.34435760e-01],\n",
       "         [9.42030703e-01],\n",
       "         [9.42030703e-01],\n",
       "         [8.15532521e-02],\n",
       "         [8.15532521e-02],\n",
       "         [3.47558662e-01],\n",
       "         [3.47558662e-01],\n",
       "         [5.66344952e-01],\n",
       "         [5.66344952e-01],\n",
       "         [9.88257528e-01],\n",
       "         [9.88257528e-01],\n",
       "         [8.69088004e-01],\n",
       "         [8.69088004e-01],\n",
       "         [7.59354335e-02],\n",
       "         [7.59354335e-02],\n",
       "         [1.01175129e-01],\n",
       "         [1.01175129e-01],\n",
       "         [7.26320527e-01],\n",
       "         [7.26320527e-01],\n",
       "         [7.54784495e-01],\n",
       "         [7.54784495e-01],\n",
       "         [3.54008494e-01],\n",
       "         [3.54008494e-01],\n",
       "         [3.58334454e-01],\n",
       "         [3.58334454e-01],\n",
       "         [8.16778171e-01],\n",
       "         [8.16778171e-01],\n",
       "         [8.73398446e-01],\n",
       "         [8.73398446e-01],\n",
       "         [9.51738042e-01],\n",
       "         [9.51738042e-01],\n",
       "         [6.60206754e-01],\n",
       "         [6.60206754e-01],\n",
       "         [8.78017632e-01],\n",
       "         [8.78017632e-01],\n",
       "         [3.29799205e-03],\n",
       "         [3.29799205e-03],\n",
       "         [6.64677553e-01],\n",
       "         [6.64677553e-01],\n",
       "         [1.31012547e-01],\n",
       "         [1.31012547e-01],\n",
       "         [8.60323152e-01],\n",
       "         [8.60323152e-01],\n",
       "         [7.11931370e-01],\n",
       "         [7.11931370e-01],\n",
       "         [4.05057486e-01],\n",
       "         [4.05057486e-01],\n",
       "         [6.70760822e-01],\n",
       "         [6.70760822e-01],\n",
       "         [4.45465881e-01],\n",
       "         [4.45465881e-01],\n",
       "         [1.22412135e-01],\n",
       "         [1.22412135e-01],\n",
       "         [9.81574614e-01],\n",
       "         [9.81574614e-01],\n",
       "         [6.01158029e-03],\n",
       "         [6.01158029e-03],\n",
       "         [4.58516038e-01],\n",
       "         [4.58516038e-01],\n",
       "         [4.15636888e-01],\n",
       "         [4.15636888e-01],\n",
       "         [1.18765410e-01],\n",
       "         [1.18765410e-01],\n",
       "         [8.19369632e-01],\n",
       "         [8.19369632e-01]])}}"
      ]
     },
     "execution_count": 1,
     "metadata": {},
     "output_type": "execute_result"
    }
   ],
   "source": [
    "ds = load_by_id(run_id_a)\n",
    "ds.get_parameter_data('x1')"
   ]
  },
  {
   "cell_type": "code",
   "execution_count": null,
   "metadata": {},
   "outputs": [],
   "source": []
  }
 ],
 "metadata": {
  "kernelspec": {
   "display_name": "Python 3",
   "language": "python",
   "name": "python3"
  },
  "language_info": {
   "codemirror_mode": {
    "name": "ipython",
    "version": 3
   },
   "file_extension": ".py",
   "mimetype": "text/x-python",
   "name": "python",
   "nbconvert_exporter": "python",
   "pygments_lexer": "ipython3",
   "version": "3.7.10"
  },
  "nbsphinx": {
   "timeout": 600
  },
  "toc": {
   "base_numbering": 1,
   "nav_menu": {},
   "number_sections": true,
   "sideBar": true,
   "skip_h1_title": false,
   "title_cell": "Table of Contents",
   "title_sidebar": "Contents",
   "toc_cell": false,
   "toc_position": {},
   "toc_section_display": true,
   "toc_window_display": false
  },
  "varInspector": {
   "cols": {
    "lenName": 16,
    "lenType": 16,
    "lenVar": 40
   },
   "kernels_config": {
    "python": {
     "delete_cmd_postfix": "",
     "delete_cmd_prefix": "del ",
     "library": "var_list.py",
     "varRefreshCmd": "print(var_dic_list())"
    },
    "r": {
     "delete_cmd_postfix": ") ",
     "delete_cmd_prefix": "rm(",
     "library": "var_list.r",
     "varRefreshCmd": "cat(var_dic_list()) "
    }
   },
   "types_to_exclude": [
    "module",
    "function",
    "builtin_function_or_method",
    "instance",
    "_Feature"
   ],
   "window_display": false
  }
 },
 "nbformat": 4,
 "nbformat_minor": 2
}
