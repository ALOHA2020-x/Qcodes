{
 "cells": [
  {
   "cell_type": "markdown",
   "metadata": {},
   "source": [
    "# DataSet Performance\n",
    "\n",
    "This notebook shows the trade-off between inserting data into a database row-by-row and as binary blobs. Inserting the data row-by-row means that we have direct access to all the data and may perform queries directly on the values of the data. On the other hand, as we shall see, this is much slower than inserting the data directly as binary blobs."
   ]
  },
  {
   "cell_type": "markdown",
   "metadata": {},
   "source": [
    "First, we choose a new location for the database to ensure that we don't add a bunch of benchmarking data to the default one."
   ]
  },
  {
   "cell_type": "code",
   "execution_count": 1,
   "metadata": {
    "execution": {
     "iopub.execute_input": "2020-10-20T06:14:58.024795Z",
     "iopub.status.busy": "2020-10-20T06:14:58.023872Z",
     "iopub.status.idle": "2020-10-20T06:14:59.005690Z",
     "shell.execute_reply": "2020-10-20T06:14:59.004729Z"
    }
   },
   "outputs": [
    {
     "name": "stdout",
     "output_type": "stream",
     "text": [
      "Logging hadn't been started.\n",
      "Activating auto-logging. Current session state plus future input saved.\n",
      "Filename       : /home/vsts/.qcodes/logs/command_history.log\n",
      "Mode           : append\n",
      "Output logging : True\n",
      "Raw input log  : False\n",
      "Timestamping   : True\n",
      "State          : active\n"
     ]
    },
    {
     "name": "stdout",
     "output_type": "stream",
     "text": [
      "Qcodes Logfile : /home/vsts/.qcodes/logs/201020-14961-qcodes.log\n"
     ]
    }
   ],
   "source": [
    "import os\n",
    "cwd = os.getcwd()\n",
    "import qcodes as qc\n",
    "qc.config[\"core\"][\"db_location\"] = os.path.join(cwd, 'testing.db')\n"
   ]
  },
  {
   "cell_type": "code",
   "execution_count": 2,
   "metadata": {
    "execution": {
     "iopub.execute_input": "2020-10-20T06:14:59.011347Z",
     "iopub.status.busy": "2020-10-20T06:14:59.010555Z",
     "iopub.status.idle": "2020-10-20T06:14:59.190150Z",
     "shell.execute_reply": "2020-10-20T06:14:59.189358Z"
    }
   },
   "outputs": [],
   "source": [
    "%matplotlib inline\n",
    "import time\n",
    "import matplotlib.pyplot as plt\n",
    "import numpy as np\n",
    "\n",
    "import qcodes as qc\n",
    "from qcodes.instrument.parameter import ManualParameter\n",
    "from qcodes.dataset.experiment_container import (Experiment,\n",
    "                                                 load_last_experiment,\n",
    "                                                 new_experiment)\n",
    "from qcodes.dataset.sqlite.database import initialise_database\n",
    "from qcodes import load_or_create_experiment\n",
    "from qcodes.dataset.measurements import Measurement"
   ]
  },
  {
   "cell_type": "code",
   "execution_count": 3,
   "metadata": {
    "execution": {
     "iopub.execute_input": "2020-10-20T06:14:59.193763Z",
     "iopub.status.busy": "2020-10-20T06:14:59.193238Z",
     "iopub.status.idle": "2020-10-20T06:14:59.298829Z",
     "shell.execute_reply": "2020-10-20T06:14:59.298274Z"
    }
   },
   "outputs": [
    {
     "name": "stdout",
     "output_type": "stream",
     "text": [
      "\r",
      "0it [00:00, ?it/s]"
     ]
    },
    {
     "name": "stdout",
     "output_type": "stream",
     "text": [
      "\r",
      "Upgrading database; v0 -> v1: : 0it [00:00, ?it/s]"
     ]
    },
    {
     "name": "stdout",
     "output_type": "stream",
     "text": [
      "\r",
      "Upgrading database; v0 -> v1: : 0it [00:00, ?it/s]"
     ]
    },
    {
     "name": "stdout",
     "output_type": "stream",
     "text": [
      "\n",
      "\r",
      "  0%|          | 0/1 [00:00<?, ?it/s]"
     ]
    },
    {
     "name": "stdout",
     "output_type": "stream",
     "text": [
      "\r",
      "Upgrading database; v1 -> v2:   0%|          | 0/1 [00:00<?, ?it/s]"
     ]
    },
    {
     "name": "stdout",
     "output_type": "stream",
     "text": [
      "\r",
      "Upgrading database; v1 -> v2: 100%|██████████| 1/1 [00:00<00:00, 971.58it/s]"
     ]
    },
    {
     "name": "stdout",
     "output_type": "stream",
     "text": [
      "\n",
      "\r",
      "0it [00:00, ?it/s]"
     ]
    },
    {
     "name": "stdout",
     "output_type": "stream",
     "text": [
      "\r",
      "Upgrading database; v2 -> v3: : 0it [00:00, ?it/s]"
     ]
    },
    {
     "name": "stdout",
     "output_type": "stream",
     "text": [
      "\r",
      "Upgrading database; v2 -> v3: : 0it [00:00, ?it/s]"
     ]
    },
    {
     "name": "stdout",
     "output_type": "stream",
     "text": [
      "\n",
      "\r",
      "0it [00:00, ?it/s]"
     ]
    },
    {
     "name": "stdout",
     "output_type": "stream",
     "text": [
      "\r",
      "Upgrading database; v3 -> v4: : 0it [00:00, ?it/s]"
     ]
    },
    {
     "name": "stdout",
     "output_type": "stream",
     "text": [
      "\r",
      "Upgrading database; v3 -> v4: : 0it [00:00, ?it/s]"
     ]
    },
    {
     "name": "stdout",
     "output_type": "stream",
     "text": [
      "\n",
      "\r",
      "  0%|          | 0/1 [00:00<?, ?it/s]"
     ]
    },
    {
     "name": "stdout",
     "output_type": "stream",
     "text": [
      "\r",
      "Upgrading database; v4 -> v5:   0%|          | 0/1 [00:00<?, ?it/s]"
     ]
    },
    {
     "name": "stdout",
     "output_type": "stream",
     "text": [
      "\r",
      "Upgrading database; v4 -> v5: 100%|██████████| 1/1 [00:00<00:00, 582.79it/s]"
     ]
    },
    {
     "name": "stdout",
     "output_type": "stream",
     "text": [
      "\n",
      "\r",
      "0it [00:00, ?it/s]"
     ]
    },
    {
     "name": "stdout",
     "output_type": "stream",
     "text": [
      "\r",
      "Upgrading database; v5 -> v6: : 0it [00:00, ?it/s]"
     ]
    },
    {
     "name": "stdout",
     "output_type": "stream",
     "text": [
      "\r",
      "Upgrading database; v5 -> v6: : 0it [00:00, ?it/s]"
     ]
    },
    {
     "name": "stdout",
     "output_type": "stream",
     "text": [
      "\n",
      "\r",
      "  0%|          | 0/1 [00:00<?, ?it/s]"
     ]
    },
    {
     "name": "stdout",
     "output_type": "stream",
     "text": [
      "\r",
      "Upgrading database; v6 -> v7:   0%|          | 0/1 [00:00<?, ?it/s]"
     ]
    },
    {
     "name": "stdout",
     "output_type": "stream",
     "text": [
      "\r",
      "Upgrading database; v6 -> v7: 100%|██████████| 1/1 [00:00<00:00, 303.52it/s]"
     ]
    },
    {
     "name": "stdout",
     "output_type": "stream",
     "text": [
      "\n",
      "\r",
      "  0%|          | 0/1 [00:00<?, ?it/s]"
     ]
    },
    {
     "name": "stdout",
     "output_type": "stream",
     "text": [
      "\r",
      "Upgrading database; v7 -> v8:   0%|          | 0/1 [00:00<?, ?it/s]"
     ]
    },
    {
     "name": "stdout",
     "output_type": "stream",
     "text": [
      "\r",
      "Upgrading database; v7 -> v8: 100%|██████████| 1/1 [00:00<00:00, 398.93it/s]"
     ]
    },
    {
     "name": "stdout",
     "output_type": "stream",
     "text": [
      "\n",
      "\r",
      "  0%|          | 0/1 [00:00<?, ?it/s]"
     ]
    },
    {
     "name": "stdout",
     "output_type": "stream",
     "text": [
      "\r",
      "Upgrading database; v8 -> v9:   0%|          | 0/1 [00:00<?, ?it/s]"
     ]
    },
    {
     "name": "stdout",
     "output_type": "stream",
     "text": [
      "\r",
      "Upgrading database; v8 -> v9: 100%|██████████| 1/1 [00:00<00:00, 999.36it/s]"
     ]
    },
    {
     "name": "stdout",
     "output_type": "stream",
     "text": [
      "\n"
     ]
    }
   ],
   "source": [
    "initialise_database()\n",
    "exp = load_or_create_experiment(experiment_name='tutorial_exp', sample_name=\"no sample\")"
   ]
  },
  {
   "cell_type": "markdown",
   "metadata": {},
   "source": [
    "Here, we define a simple function to benchmark the time it takes to insert n points with either numeric or array data type.\n",
    "We will compare both the time used to call ``add_result`` and the time used for the full measurement."
   ]
  },
  {
   "cell_type": "code",
   "execution_count": 4,
   "metadata": {
    "execution": {
     "iopub.execute_input": "2020-10-20T06:14:59.307364Z",
     "iopub.status.busy": "2020-10-20T06:14:59.306838Z",
     "iopub.status.idle": "2020-10-20T06:14:59.311035Z",
     "shell.execute_reply": "2020-10-20T06:14:59.310578Z"
    }
   },
   "outputs": [],
   "source": [
    "def insert_data(paramtype, npoints, nreps=1):\n",
    "\n",
    "    meas = Measurement(exp=exp)\n",
    "\n",
    "    x1 = ManualParameter('x1')\n",
    "    x2 = ManualParameter('x2')\n",
    "    x3 = ManualParameter('x3')\n",
    "    y1 = ManualParameter('y1')\n",
    "    y2 = ManualParameter('y2')\n",
    "\n",
    "    meas.register_parameter(x1, paramtype=paramtype)\n",
    "    meas.register_parameter(x2, paramtype=paramtype)\n",
    "    meas.register_parameter(x3, paramtype=paramtype)\n",
    "    meas.register_parameter(y1, setpoints=[x1, x2, x3],\n",
    "                            paramtype=paramtype)\n",
    "    meas.register_parameter(y2, setpoints=[x1, x2, x3],\n",
    "                            paramtype=paramtype)\n",
    "    start = time.perf_counter()\n",
    "    with meas.run() as datasaver:\n",
    "        start_adding = time.perf_counter()\n",
    "        for i in range(nreps):\n",
    "            datasaver.add_result((x1, np.random.rand(npoints)),\n",
    "                                 (x2, np.random.rand(npoints)),\n",
    "                                 (x3, np.random.rand(npoints)),\n",
    "                                 (y1, np.random.rand(npoints)),\n",
    "                                 (y2, np.random.rand(npoints)))\n",
    "        stop_adding = time.perf_counter()\n",
    "        run_id = datasaver.run_id\n",
    "    stop = time.perf_counter()\n",
    "    tot_time = stop - start\n",
    "    add_time = stop_adding - start_adding\n",
    "    return tot_time, add_time, run_id"
   ]
  },
  {
   "cell_type": "markdown",
   "metadata": {},
   "source": [
    "## Comparison between numeric/array data and binary blob"
   ]
  },
  {
   "cell_type": "markdown",
   "metadata": {},
   "source": [
    "### Case1: Short experiment time"
   ]
  },
  {
   "cell_type": "code",
   "execution_count": 5,
   "metadata": {
    "execution": {
     "iopub.execute_input": "2020-10-20T06:14:59.317072Z",
     "iopub.status.busy": "2020-10-20T06:14:59.315469Z",
     "iopub.status.idle": "2020-10-20T06:15:00.140756Z",
     "shell.execute_reply": "2020-10-20T06:15:00.139964Z"
    }
   },
   "outputs": [
    {
     "name": "stdout",
     "output_type": "stream",
     "text": [
      "Starting experimental run with id: 1. \n",
      "Starting experimental run with id: 2. \n",
      "Starting experimental run with id: 3. \n",
      "Starting experimental run with id: 4. \n",
      "Starting experimental run with id: 5. \n"
     ]
    },
    {
     "name": "stdout",
     "output_type": "stream",
     "text": [
      "Starting experimental run with id: 6. \n"
     ]
    },
    {
     "name": "stdout",
     "output_type": "stream",
     "text": [
      "Starting experimental run with id: 7. \n"
     ]
    },
    {
     "name": "stdout",
     "output_type": "stream",
     "text": [
      "Starting experimental run with id: 8. \n",
      "Starting experimental run with id: 9. \n"
     ]
    },
    {
     "name": "stdout",
     "output_type": "stream",
     "text": [
      "Starting experimental run with id: 10. \n",
      "Starting experimental run with id: 11. \n"
     ]
    },
    {
     "name": "stdout",
     "output_type": "stream",
     "text": [
      "Starting experimental run with id: 12. \n",
      "Starting experimental run with id: 13. \n"
     ]
    },
    {
     "name": "stdout",
     "output_type": "stream",
     "text": [
      "Starting experimental run with id: 14. \n"
     ]
    }
   ],
   "source": [
    "sizes = [1,500,1000,2000,3000,4000,5000]\n",
    "t_numeric = []\n",
    "t_numeric_add = []\n",
    "t_array = []\n",
    "t_array_add = []\n",
    "for size in sizes:\n",
    "    tn, tna, run_id_n =  insert_data('numeric', size)\n",
    "    t_numeric.append(tn)\n",
    "    t_numeric_add.append(tna)\n",
    "\n",
    "    ta, taa, run_id_a =  insert_data('array', size)\n",
    "    t_array.append(ta)\n",
    "    t_array_add.append(taa)"
   ]
  },
  {
   "cell_type": "code",
   "execution_count": 6,
   "metadata": {
    "execution": {
     "iopub.execute_input": "2020-10-20T06:15:00.146078Z",
     "iopub.status.busy": "2020-10-20T06:15:00.145552Z",
     "iopub.status.idle": "2020-10-20T06:15:00.337478Z",
     "shell.execute_reply": "2020-10-20T06:15:00.338022Z"
    }
   },
   "outputs": [
    {
     "data": {
      "image/png": "[encoded data removed]",
      "text/plain": [
       "<Figure size 432x288 with 1 Axes>"
      ]
     },
     "metadata": {
      "needs_background": "light"
     },
     "output_type": "display_data"
    }
   ],
   "source": [
    "fig, ax = plt.subplots(1,1)\n",
    "ax.plot(sizes, t_numeric, 'o-', label='Inserting row-by-row')\n",
    "ax.plot(sizes, t_numeric_add, 'o-', label='Inserting row-by-row: add_result only')\n",
    "ax.plot(sizes, t_array, 'd-', label='Inserting as binary blob')\n",
    "ax.plot(sizes, t_array_add, 'd-', label='Inserting as binary blob: add_result only')\n",
    "ax.legend()\n",
    "ax.set_xlabel('Array length')\n",
    "ax.set_ylabel('Time (s)')\n",
    "fig.tight_layout()"
   ]
  },
  {
   "cell_type": "markdown",
   "metadata": {},
   "source": [
    "As shown in the latter figure, the time to setup and and close the experiment is approximately 0.4 sec. In case of small array sizes, the difference between inserting values of data as arrays and inserting them row-by-row is relatively unimportant. At larger array sizes, i.e. above 10000 points, the cost of writing data as individual datapoints starts to become important.\n"
   ]
  },
  {
   "cell_type": "markdown",
   "metadata": {},
   "source": [
    "### Case2: Long experiment time "
   ]
  },
  {
   "cell_type": "code",
   "execution_count": 7,
   "metadata": {
    "execution": {
     "iopub.execute_input": "2020-10-20T06:15:00.340709Z",
     "iopub.status.busy": "2020-10-20T06:15:00.340020Z",
     "iopub.status.idle": "2020-10-20T06:16:00.216845Z",
     "shell.execute_reply": "2020-10-20T06:16:00.215916Z"
    }
   },
   "outputs": [
    {
     "name": "stdout",
     "output_type": "stream",
     "text": [
      "Starting experimental run with id: 15. \n",
      "Starting experimental run with id: 16. \n",
      "Starting experimental run with id: 17. \n"
     ]
    },
    {
     "name": "stdout",
     "output_type": "stream",
     "text": [
      "Starting experimental run with id: 18. \n",
      "Starting experimental run with id: 19. \n"
     ]
    },
    {
     "name": "stdout",
     "output_type": "stream",
     "text": [
      "Starting experimental run with id: 20. \n"
     ]
    },
    {
     "name": "stdout",
     "output_type": "stream",
     "text": [
      "Starting experimental run with id: 21. \n"
     ]
    },
    {
     "name": "stdout",
     "output_type": "stream",
     "text": [
      "Starting experimental run with id: 22. \n"
     ]
    },
    {
     "name": "stdout",
     "output_type": "stream",
     "text": [
      "Starting experimental run with id: 23. \n"
     ]
    },
    {
     "name": "stdout",
     "output_type": "stream",
     "text": [
      "Starting experimental run with id: 24. \n"
     ]
    },
    {
     "name": "stdout",
     "output_type": "stream",
     "text": [
      "Starting experimental run with id: 25. \n"
     ]
    },
    {
     "name": "stdout",
     "output_type": "stream",
     "text": [
      "Starting experimental run with id: 26. \n"
     ]
    },
    {
     "name": "stdout",
     "output_type": "stream",
     "text": [
      "Starting experimental run with id: 27. \n"
     ]
    },
    {
     "name": "stdout",
     "output_type": "stream",
     "text": [
      "Starting experimental run with id: 28. \n"
     ]
    }
   ],
   "source": [
    "sizes = [1,500,1000,2000,3000,4000,5000]\n",
    "nreps = 100\n",
    "t_numeric = []\n",
    "t_numeric_add = []\n",
    "t_numeric_run_ids = []\n",
    "t_array = []\n",
    "t_array_add = []\n",
    "t_array_run_ids = []\n",
    "for size in sizes:\n",
    "    tn, tna, run_id_n =  insert_data('numeric', size, nreps=nreps)\n",
    "    t_numeric.append(tn)\n",
    "    t_numeric_add.append(tna)\n",
    "    t_numeric_run_ids.append(run_id_n)\n",
    "\n",
    "    ta, taa, run_id_a =  insert_data('array', size, nreps=nreps)\n",
    "    t_array.append(ta)\n",
    "    t_array_add.append(taa)\n",
    "    t_array_run_ids.append(run_id_a)"
   ]
  },
  {
   "cell_type": "code",
   "execution_count": 8,
   "metadata": {
    "execution": {
     "iopub.execute_input": "2020-10-20T06:16:00.242792Z",
     "iopub.status.busy": "2020-10-20T06:16:00.233785Z",
     "iopub.status.idle": "2020-10-20T06:16:00.418625Z",
     "shell.execute_reply": "2020-10-20T06:16:00.419181Z"
    },
    "scrolled": true
   },
   "outputs": [
    {
     "data": {
      "image/png": "[encoded data removed]",
      "text/plain": [
       "<Figure size 432x288 with 1 Axes>"
      ]
     },
     "metadata": {
      "needs_background": "light"
     },
     "output_type": "display_data"
    }
   ],
   "source": [
    "fig, ax = plt.subplots(1,1)\n",
    "ax.plot(sizes, t_numeric, 'o-', label='Inserting row-by-row')\n",
    "ax.plot(sizes, t_numeric_add, 'o-', label='Inserting row-by-row: add_result only')\n",
    "ax.plot(sizes, t_array, 'd-', label='Inserting as binary blob')\n",
    "ax.plot(sizes, t_array_add, 'd-', label='Inserting as binary blob: add_result only')\n",
    "ax.legend()\n",
    "ax.set_xlabel('Array length')\n",
    "ax.set_ylabel('Time (s)')\n",
    "fig.tight_layout()"
   ]
  },
  {
   "cell_type": "markdown",
   "metadata": {},
   "source": [
    "However, as we increase the length of the experiment, as seen here by repeating the insertion 100 times, we see a big difference between inserting values of the data row-by-row and inserting it as a binary blob."
   ]
  },
  {
   "cell_type": "markdown",
   "metadata": {},
   "source": [
    "## Loading the data "
   ]
  },
  {
   "cell_type": "code",
   "execution_count": 9,
   "metadata": {
    "execution": {
     "iopub.execute_input": "2020-10-20T06:16:00.424233Z",
     "iopub.status.busy": "2020-10-20T06:16:00.423212Z",
     "iopub.status.idle": "2020-10-20T06:16:00.425841Z",
     "shell.execute_reply": "2020-10-20T06:16:00.425386Z"
    }
   },
   "outputs": [],
   "source": [
    "from qcodes.dataset.data_set import load_by_id\n",
    "from qcodes.dataset.data_export import get_data_by_id"
   ]
  },
  {
   "cell_type": "markdown",
   "metadata": {},
   "source": [
    "As usual you can load the data by using the ``load_by_id`` function but you will notice that the different storage methods\n",
    "are reflected in shape of the data as it is retrieved. "
   ]
  },
  {
   "cell_type": "code",
   "execution_count": 10,
   "metadata": {
    "execution": {
     "iopub.execute_input": "2020-10-20T06:16:00.430194Z",
     "iopub.status.busy": "2020-10-20T06:16:00.429106Z",
     "iopub.status.idle": "2020-10-20T06:16:00.430737Z",
     "shell.execute_reply": "2020-10-20T06:16:00.431268Z"
    }
   },
   "outputs": [],
   "source": [
    "run_id_n = t_numeric_run_ids[0]\n",
    "run_id_a = t_array_run_ids[0]"
   ]
  },
  {
   "cell_type": "code",
   "execution_count": 11,
   "metadata": {
    "execution": {
     "iopub.execute_input": "2020-10-20T06:16:00.434549Z",
     "iopub.status.busy": "2020-10-20T06:16:00.434031Z",
     "iopub.status.idle": "2020-10-20T06:16:00.443409Z",
     "shell.execute_reply": "2020-10-20T06:16:00.442845Z"
    },
    "scrolled": true
   },
   "outputs": [
    {
     "data": {
      "text/plain": [
       "{'x1': {'x1': array([0.50783422, 0.50783422, 0.91863221, 0.91863221, 0.21754015,\n",
       "         0.21754015, 0.68275045, 0.68275045, 0.22763688, 0.22763688,\n",
       "         0.69642094, 0.69642094, 0.17839597, 0.17839597, 0.74335054,\n",
       "         0.74335054, 0.69783099, 0.69783099, 0.86703506, 0.86703506,\n",
       "         0.23855919, 0.23855919, 0.50995059, 0.50995059, 0.77304762,\n",
       "         0.77304762, 0.89926005, 0.89926005, 0.2543698 , 0.2543698 ,\n",
       "         0.16631394, 0.16631394, 0.11246735, 0.11246735, 0.67014134,\n",
       "         0.67014134, 0.5948431 , 0.5948431 , 0.22365266, 0.22365266,\n",
       "         0.88566706, 0.88566706, 0.23099908, 0.23099908, 0.71792715,\n",
       "         0.71792715, 0.90491335, 0.90491335, 0.29345922, 0.29345922,\n",
       "         0.47052402, 0.47052402, 0.52849766, 0.52849766, 0.31141756,\n",
       "         0.31141756, 0.20094608, 0.20094608, 0.43345643, 0.43345643,\n",
       "         0.57531663, 0.57531663, 0.10194548, 0.10194548, 0.17959054,\n",
       "         0.17959054, 0.26798963, 0.26798963, 0.58856044, 0.58856044,\n",
       "         0.69123465, 0.69123465, 0.58564492, 0.58564492, 0.4691035 ,\n",
       "         0.4691035 , 0.81466476, 0.81466476, 0.57052975, 0.57052975,\n",
       "         0.54067192, 0.54067192, 0.54429351, 0.54429351, 0.28262943,\n",
       "         0.28262943, 0.00159685, 0.00159685, 0.37727026, 0.37727026,\n",
       "         0.2196231 , 0.2196231 , 0.00889694, 0.00889694, 0.34178513,\n",
       "         0.34178513, 0.59779396, 0.59779396, 0.28623415, 0.28623415,\n",
       "         0.14572432, 0.14572432, 0.91280342, 0.91280342, 0.40438909,\n",
       "         0.40438909, 0.63027327, 0.63027327, 0.44390765, 0.44390765,\n",
       "         0.95033349, 0.95033349, 0.23903529, 0.23903529, 0.30188582,\n",
       "         0.30188582, 0.1038121 , 0.1038121 , 0.02367375, 0.02367375,\n",
       "         0.54321586, 0.54321586, 0.60308059, 0.60308059, 0.7666188 ,\n",
       "         0.7666188 , 0.13107773, 0.13107773, 0.71614168, 0.71614168,\n",
       "         0.45782796, 0.45782796, 0.85312816, 0.85312816, 0.34946863,\n",
       "         0.34946863, 0.18015043, 0.18015043, 0.99380203, 0.99380203,\n",
       "         0.20274902, 0.20274902, 0.72368905, 0.72368905, 0.82531115,\n",
       "         0.82531115, 0.50320729, 0.50320729, 0.7977858 , 0.7977858 ,\n",
       "         0.66008583, 0.66008583, 0.58307089, 0.58307089, 0.93634121,\n",
       "         0.93634121, 0.18136321, 0.18136321, 0.81755831, 0.81755831,\n",
       "         0.40320397, 0.40320397, 0.63428976, 0.63428976, 0.59318459,\n",
       "         0.59318459, 0.39999164, 0.39999164, 0.6910015 , 0.6910015 ,\n",
       "         0.96383855, 0.96383855, 0.85899706, 0.85899706, 0.73174963,\n",
       "         0.73174963, 0.19882627, 0.19882627, 0.03659692, 0.03659692,\n",
       "         0.32829701, 0.32829701, 0.214094  , 0.214094  , 0.45420493,\n",
       "         0.45420493, 0.94947153, 0.94947153, 0.11564187, 0.11564187,\n",
       "         0.39087717, 0.39087717, 0.26831189, 0.26831189, 0.05527392,\n",
       "         0.05527392, 0.20750741, 0.20750741, 0.66450733, 0.66450733])}}"
      ]
     },
     "execution_count": 1,
     "metadata": {},
     "output_type": "execute_result"
    }
   ],
   "source": [
    "ds = load_by_id(run_id_n)\n",
    "ds.get_parameter_data('x1')"
   ]
  },
  {
   "cell_type": "markdown",
   "metadata": {},
   "source": [
    "And a dataset stored as binary arrays"
   ]
  },
  {
   "cell_type": "code",
   "execution_count": 12,
   "metadata": {
    "execution": {
     "iopub.execute_input": "2020-10-20T06:16:00.446720Z",
     "iopub.status.busy": "2020-10-20T06:16:00.446192Z",
     "iopub.status.idle": "2020-10-20T06:16:00.501033Z",
     "shell.execute_reply": "2020-10-20T06:16:00.502000Z"
    },
    "scrolled": true
   },
   "outputs": [
    {
     "data": {
      "text/plain": [
       "{'x1': {'x1': array([[0.21326693],\n",
       "         [0.21326693],\n",
       "         [0.34752734],\n",
       "         [0.34752734],\n",
       "         [0.06287021],\n",
       "         [0.06287021],\n",
       "         [0.20572989],\n",
       "         [0.20572989],\n",
       "         [0.78710312],\n",
       "         [0.78710312],\n",
       "         [0.23058292],\n",
       "         [0.23058292],\n",
       "         [0.40652314],\n",
       "         [0.40652314],\n",
       "         [0.89498848],\n",
       "         [0.89498848],\n",
       "         [0.4205381 ],\n",
       "         [0.4205381 ],\n",
       "         [0.2600099 ],\n",
       "         [0.2600099 ],\n",
       "         [0.40044449],\n",
       "         [0.40044449],\n",
       "         [0.70159349],\n",
       "         [0.70159349],\n",
       "         [0.97753222],\n",
       "         [0.97753222],\n",
       "         [0.27125652],\n",
       "         [0.27125652],\n",
       "         [0.50730928],\n",
       "         [0.50730928],\n",
       "         [0.31188685],\n",
       "         [0.31188685],\n",
       "         [0.30947833],\n",
       "         [0.30947833],\n",
       "         [0.73529548],\n",
       "         [0.73529548],\n",
       "         [0.87771933],\n",
       "         [0.87771933],\n",
       "         [0.98855589],\n",
       "         [0.98855589],\n",
       "         [0.43446799],\n",
       "         [0.43446799],\n",
       "         [0.56007897],\n",
       "         [0.56007897],\n",
       "         [0.60089456],\n",
       "         [0.60089456],\n",
       "         [0.14841408],\n",
       "         [0.14841408],\n",
       "         [0.70712679],\n",
       "         [0.70712679],\n",
       "         [0.63547102],\n",
       "         [0.63547102],\n",
       "         [0.33427831],\n",
       "         [0.33427831],\n",
       "         [0.1809095 ],\n",
       "         [0.1809095 ],\n",
       "         [0.07022694],\n",
       "         [0.07022694],\n",
       "         [0.78356016],\n",
       "         [0.78356016],\n",
       "         [0.97369297],\n",
       "         [0.97369297],\n",
       "         [0.8375843 ],\n",
       "         [0.8375843 ],\n",
       "         [0.3912441 ],\n",
       "         [0.3912441 ],\n",
       "         [0.14438479],\n",
       "         [0.14438479],\n",
       "         [0.63373385],\n",
       "         [0.63373385],\n",
       "         [0.90202775],\n",
       "         [0.90202775],\n",
       "         [0.49440465],\n",
       "         [0.49440465],\n",
       "         [0.94236936],\n",
       "         [0.94236936],\n",
       "         [0.90420496],\n",
       "         [0.90420496],\n",
       "         [0.96292035],\n",
       "         [0.96292035],\n",
       "         [0.35085293],\n",
       "         [0.35085293],\n",
       "         [0.12245948],\n",
       "         [0.12245948],\n",
       "         [0.60427746],\n",
       "         [0.60427746],\n",
       "         [0.68307599],\n",
       "         [0.68307599],\n",
       "         [0.42364483],\n",
       "         [0.42364483],\n",
       "         [0.55858902],\n",
       "         [0.55858902],\n",
       "         [0.56458396],\n",
       "         [0.56458396],\n",
       "         [0.06881446],\n",
       "         [0.06881446],\n",
       "         [0.44997437],\n",
       "         [0.44997437],\n",
       "         [0.57701863],\n",
       "         [0.57701863],\n",
       "         [0.47970895],\n",
       "         [0.47970895],\n",
       "         [0.88773645],\n",
       "         [0.88773645],\n",
       "         [0.76003926],\n",
       "         [0.76003926],\n",
       "         [0.52235728],\n",
       "         [0.52235728],\n",
       "         [0.13002417],\n",
       "         [0.13002417],\n",
       "         [0.84491539],\n",
       "         [0.84491539],\n",
       "         [0.65067087],\n",
       "         [0.65067087],\n",
       "         [0.07090189],\n",
       "         [0.07090189],\n",
       "         [0.86623241],\n",
       "         [0.86623241],\n",
       "         [0.32477216],\n",
       "         [0.32477216],\n",
       "         [0.27669337],\n",
       "         [0.27669337],\n",
       "         [0.27777942],\n",
       "         [0.27777942],\n",
       "         [0.05522945],\n",
       "         [0.05522945],\n",
       "         [0.24290033],\n",
       "         [0.24290033],\n",
       "         [0.27767019],\n",
       "         [0.27767019],\n",
       "         [0.95373573],\n",
       "         [0.95373573],\n",
       "         [0.41018731],\n",
       "         [0.41018731],\n",
       "         [0.70197894],\n",
       "         [0.70197894],\n",
       "         [0.98388024],\n",
       "         [0.98388024],\n",
       "         [0.24058997],\n",
       "         [0.24058997],\n",
       "         [0.00994266],\n",
       "         [0.00994266],\n",
       "         [0.38536647],\n",
       "         [0.38536647],\n",
       "         [0.26546263],\n",
       "         [0.26546263],\n",
       "         [0.84156843],\n",
       "         [0.84156843],\n",
       "         [0.42847241],\n",
       "         [0.42847241],\n",
       "         [0.1064765 ],\n",
       "         [0.1064765 ],\n",
       "         [0.57041414],\n",
       "         [0.57041414],\n",
       "         [0.84446662],\n",
       "         [0.84446662],\n",
       "         [0.26732507],\n",
       "         [0.26732507],\n",
       "         [0.81432961],\n",
       "         [0.81432961],\n",
       "         [0.31369812],\n",
       "         [0.31369812],\n",
       "         [0.42283474],\n",
       "         [0.42283474],\n",
       "         [0.96231764],\n",
       "         [0.96231764],\n",
       "         [0.06104703],\n",
       "         [0.06104703],\n",
       "         [0.67691892],\n",
       "         [0.67691892],\n",
       "         [0.35501172],\n",
       "         [0.35501172],\n",
       "         [0.38287676],\n",
       "         [0.38287676],\n",
       "         [0.57336604],\n",
       "         [0.57336604],\n",
       "         [0.42602425],\n",
       "         [0.42602425],\n",
       "         [0.94008474],\n",
       "         [0.94008474],\n",
       "         [0.82745556],\n",
       "         [0.82745556],\n",
       "         [0.26882536],\n",
       "         [0.26882536],\n",
       "         [0.13210741],\n",
       "         [0.13210741],\n",
       "         [0.00173384],\n",
       "         [0.00173384],\n",
       "         [0.13727041],\n",
       "         [0.13727041],\n",
       "         [0.61572318],\n",
       "         [0.61572318],\n",
       "         [0.71616257],\n",
       "         [0.71616257],\n",
       "         [0.3753438 ],\n",
       "         [0.3753438 ],\n",
       "         [0.59159713],\n",
       "         [0.59159713],\n",
       "         [0.07471504],\n",
       "         [0.07471504]])}}"
      ]
     },
     "execution_count": 1,
     "metadata": {},
     "output_type": "execute_result"
    }
   ],
   "source": [
    "ds = load_by_id(run_id_a)\n",
    "ds.get_parameter_data('x1')"
   ]
  },
  {
   "cell_type": "code",
   "execution_count": null,
   "metadata": {},
   "outputs": [],
   "source": []
  }
 ],
 "metadata": {
  "kernelspec": {
   "display_name": "Python 3",
   "language": "python",
   "name": "python3"
  },
  "language_info": {
   "codemirror_mode": {
    "name": "ipython",
    "version": 3
   },
   "file_extension": ".py",
   "mimetype": "text/x-python",
   "name": "python",
   "nbconvert_exporter": "python",
   "pygments_lexer": "ipython3",
   "version": "3.7.7"
  },
  "nbsphinx": {
   "timeout": 600
  },
  "toc": {
   "base_numbering": 1,
   "nav_menu": {},
   "number_sections": true,
   "sideBar": true,
   "skip_h1_title": false,
   "title_cell": "Table of Contents",
   "title_sidebar": "Contents",
   "toc_cell": false,
   "toc_position": {},
   "toc_section_display": true,
   "toc_window_display": false
  },
  "varInspector": {
   "cols": {
    "lenName": 16,
    "lenType": 16,
    "lenVar": 40
   },
   "kernels_config": {
    "python": {
     "delete_cmd_postfix": "",
     "delete_cmd_prefix": "del ",
     "library": "var_list.py",
     "varRefreshCmd": "print(var_dic_list())"
    },
    "r": {
     "delete_cmd_postfix": ") ",
     "delete_cmd_prefix": "rm(",
     "library": "var_list.r",
     "varRefreshCmd": "cat(var_dic_list()) "
    }
   },
   "types_to_exclude": [
    "module",
    "function",
    "builtin_function_or_method",
    "instance",
    "_Feature"
   ],
   "window_display": false
  }
 },
 "nbformat": 4,
 "nbformat_minor": 2
}
