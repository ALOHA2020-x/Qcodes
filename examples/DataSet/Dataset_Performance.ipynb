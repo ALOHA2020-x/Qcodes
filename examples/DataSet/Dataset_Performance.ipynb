{
 "cells": [
  {
   "cell_type": "markdown",
   "metadata": {},
   "source": [
    "# DataSet Performance\n",
    "\n",
    "This notebook shows the trade-off between inserting data into a database row-by-row and as binary blobs. Inserting the data row-by-row means that we have direct access to all the data and may perform queries directly on the values of the data. On the other hand, as we shall see, this is much slower than inserting the data directly as binary blobs."
   ]
  },
  {
   "cell_type": "markdown",
   "metadata": {},
   "source": [
    "First, we choose a new location for the database to ensure that we don't add a bunch of benchmarking data to the default one."
   ]
  },
  {
   "cell_type": "code",
   "execution_count": 1,
   "metadata": {
    "execution": {
     "iopub.execute_input": "2021-01-27T18:53:41.055904Z",
     "iopub.status.busy": "2021-01-27T18:53:41.055288Z",
     "iopub.status.idle": "2021-01-27T18:53:41.941922Z",
     "shell.execute_reply": "2021-01-27T18:53:41.942464Z"
    }
   },
   "outputs": [
    {
     "name": "stdout",
     "output_type": "stream",
     "text": [
      "Logging hadn't been started.\n",
      "Activating auto-logging. Current session state plus future input saved.\n",
      "Filename       : /home/vsts/.qcodes/logs/command_history.log\n",
      "Mode           : append\n",
      "Output logging : True\n",
      "Raw input log  : False\n",
      "Timestamping   : True\n",
      "State          : active\n"
     ]
    },
    {
     "name": "stdout",
     "output_type": "stream",
     "text": [
      "Qcodes Logfile : /home/vsts/.qcodes/logs/210127-13641-qcodes.log\n"
     ]
    }
   ],
   "source": [
    "import os\n",
    "cwd = os.getcwd()\n",
    "import qcodes as qc\n",
    "qc.config[\"core\"][\"db_location\"] = os.path.join(cwd, 'testing.db')\n"
   ]
  },
  {
   "cell_type": "code",
   "execution_count": 2,
   "metadata": {
    "execution": {
     "iopub.execute_input": "2021-01-27T18:53:41.948604Z",
     "iopub.status.busy": "2021-01-27T18:53:41.947950Z",
     "iopub.status.idle": "2021-01-27T18:53:42.103992Z",
     "shell.execute_reply": "2021-01-27T18:53:42.102874Z"
    }
   },
   "outputs": [],
   "source": [
    "%matplotlib inline\n",
    "import time\n",
    "import matplotlib.pyplot as plt\n",
    "import numpy as np\n",
    "\n",
    "import qcodes as qc\n",
    "from qcodes.instrument.parameter import ManualParameter\n",
    "from qcodes.dataset.experiment_container import (Experiment,\n",
    "                                                 load_last_experiment,\n",
    "                                                 new_experiment)\n",
    "from qcodes.dataset.sqlite.database import initialise_database\n",
    "from qcodes import load_or_create_experiment\n",
    "from qcodes.dataset.measurements import Measurement"
   ]
  },
  {
   "cell_type": "code",
   "execution_count": 3,
   "metadata": {
    "execution": {
     "iopub.execute_input": "2021-01-27T18:53:42.108402Z",
     "iopub.status.busy": "2021-01-27T18:53:42.107460Z",
     "iopub.status.idle": "2021-01-27T18:53:42.209443Z",
     "shell.execute_reply": "2021-01-27T18:53:42.208996Z"
    }
   },
   "outputs": [
    {
     "name": "stdout",
     "output_type": "stream",
     "text": [
      "\r",
      "0it [00:00, ?it/s]"
     ]
    },
    {
     "name": "stdout",
     "output_type": "stream",
     "text": [
      "\r",
      "Upgrading database; v0 -> v1: : 0it [00:00, ?it/s]"
     ]
    },
    {
     "name": "stdout",
     "output_type": "stream",
     "text": [
      "\r",
      "Upgrading database; v0 -> v1: : 0it [00:00, ?it/s]"
     ]
    },
    {
     "name": "stdout",
     "output_type": "stream",
     "text": [
      "\n",
      "\r",
      "  0%|          | 0/1 [00:00<?, ?it/s]"
     ]
    },
    {
     "name": "stdout",
     "output_type": "stream",
     "text": [
      "\r",
      "Upgrading database; v1 -> v2:   0%|          | 0/1 [00:00<?, ?it/s]"
     ]
    },
    {
     "name": "stdout",
     "output_type": "stream",
     "text": [
      "\r",
      "Upgrading database; v1 -> v2: 100%|██████████| 1/1 [00:00<00:00, 1269.46it/s]"
     ]
    },
    {
     "name": "stdout",
     "output_type": "stream",
     "text": [
      "\n",
      "\r",
      "0it [00:00, ?it/s]"
     ]
    },
    {
     "name": "stdout",
     "output_type": "stream",
     "text": [
      "\r",
      "Upgrading database; v2 -> v3: : 0it [00:00, ?it/s]"
     ]
    },
    {
     "name": "stdout",
     "output_type": "stream",
     "text": [
      "\r",
      "Upgrading database; v2 -> v3: : 0it [00:00, ?it/s]"
     ]
    },
    {
     "name": "stdout",
     "output_type": "stream",
     "text": [
      "\n",
      "\r",
      "0it [00:00, ?it/s]"
     ]
    },
    {
     "name": "stdout",
     "output_type": "stream",
     "text": [
      "\r",
      "Upgrading database; v3 -> v4: : 0it [00:00, ?it/s]"
     ]
    },
    {
     "name": "stdout",
     "output_type": "stream",
     "text": [
      "\r",
      "Upgrading database; v3 -> v4: : 0it [00:00, ?it/s]"
     ]
    },
    {
     "name": "stdout",
     "output_type": "stream",
     "text": [
      "\n",
      "\r",
      "  0%|          | 0/1 [00:00<?, ?it/s]"
     ]
    },
    {
     "name": "stdout",
     "output_type": "stream",
     "text": [
      "\r",
      "Upgrading database; v4 -> v5:   0%|          | 0/1 [00:00<?, ?it/s]"
     ]
    },
    {
     "name": "stdout",
     "output_type": "stream",
     "text": [
      "\r",
      "Upgrading database; v4 -> v5: 100%|██████████| 1/1 [00:00<00:00, 612.75it/s]"
     ]
    },
    {
     "name": "stdout",
     "output_type": "stream",
     "text": [
      "\n",
      "\r",
      "0it [00:00, ?it/s]"
     ]
    },
    {
     "name": "stdout",
     "output_type": "stream",
     "text": [
      "\r",
      "Upgrading database; v5 -> v6: : 0it [00:00, ?it/s]"
     ]
    },
    {
     "name": "stdout",
     "output_type": "stream",
     "text": [
      "\r",
      "Upgrading database; v5 -> v6: : 0it [00:00, ?it/s]"
     ]
    },
    {
     "name": "stdout",
     "output_type": "stream",
     "text": [
      "\n",
      "\r",
      "  0%|          | 0/1 [00:00<?, ?it/s]"
     ]
    },
    {
     "name": "stdout",
     "output_type": "stream",
     "text": [
      "\r",
      "Upgrading database; v6 -> v7:   0%|          | 0/1 [00:00<?, ?it/s]"
     ]
    },
    {
     "name": "stdout",
     "output_type": "stream",
     "text": [
      "\r",
      "Upgrading database; v6 -> v7: 100%|██████████| 1/1 [00:00<00:00, 359.90it/s]"
     ]
    },
    {
     "name": "stdout",
     "output_type": "stream",
     "text": [
      "\n",
      "\r",
      "  0%|          | 0/1 [00:00<?, ?it/s]"
     ]
    },
    {
     "name": "stdout",
     "output_type": "stream",
     "text": [
      "\r",
      "Upgrading database; v7 -> v8:   0%|          | 0/1 [00:00<?, ?it/s]"
     ]
    },
    {
     "name": "stdout",
     "output_type": "stream",
     "text": [
      "\r",
      "Upgrading database; v7 -> v8: 100%|██████████| 1/1 [00:00<00:00, 1017.54it/s]"
     ]
    },
    {
     "name": "stdout",
     "output_type": "stream",
     "text": [
      "\n",
      "\r",
      "  0%|          | 0/1 [00:00<?, ?it/s]"
     ]
    },
    {
     "name": "stdout",
     "output_type": "stream",
     "text": [
      "\r",
      "Upgrading database; v8 -> v9:   0%|          | 0/1 [00:00<?, ?it/s]"
     ]
    },
    {
     "name": "stdout",
     "output_type": "stream",
     "text": [
      "\r",
      "Upgrading database; v8 -> v9: 100%|██████████| 1/1 [00:00<00:00, 472.86it/s]"
     ]
    },
    {
     "name": "stdout",
     "output_type": "stream",
     "text": [
      "\n"
     ]
    }
   ],
   "source": [
    "initialise_database()\n",
    "exp = load_or_create_experiment(experiment_name='tutorial_exp', sample_name=\"no sample\")"
   ]
  },
  {
   "cell_type": "markdown",
   "metadata": {},
   "source": [
    "Here, we define a simple function to benchmark the time it takes to insert n points with either numeric or array data type.\n",
    "We will compare both the time used to call ``add_result`` and the time used for the full measurement."
   ]
  },
  {
   "cell_type": "code",
   "execution_count": 4,
   "metadata": {
    "execution": {
     "iopub.execute_input": "2021-01-27T18:53:42.216883Z",
     "iopub.status.busy": "2021-01-27T18:53:42.216464Z",
     "iopub.status.idle": "2021-01-27T18:53:42.219705Z",
     "shell.execute_reply": "2021-01-27T18:53:42.219049Z"
    }
   },
   "outputs": [],
   "source": [
    "def insert_data(paramtype, npoints, nreps=1):\n",
    "\n",
    "    meas = Measurement(exp=exp)\n",
    "\n",
    "    x1 = ManualParameter('x1')\n",
    "    x2 = ManualParameter('x2')\n",
    "    x3 = ManualParameter('x3')\n",
    "    y1 = ManualParameter('y1')\n",
    "    y2 = ManualParameter('y2')\n",
    "\n",
    "    meas.register_parameter(x1, paramtype=paramtype)\n",
    "    meas.register_parameter(x2, paramtype=paramtype)\n",
    "    meas.register_parameter(x3, paramtype=paramtype)\n",
    "    meas.register_parameter(y1, setpoints=[x1, x2, x3],\n",
    "                            paramtype=paramtype)\n",
    "    meas.register_parameter(y2, setpoints=[x1, x2, x3],\n",
    "                            paramtype=paramtype)\n",
    "    start = time.perf_counter()\n",
    "    with meas.run() as datasaver:\n",
    "        start_adding = time.perf_counter()\n",
    "        for i in range(nreps):\n",
    "            datasaver.add_result((x1, np.random.rand(npoints)),\n",
    "                                 (x2, np.random.rand(npoints)),\n",
    "                                 (x3, np.random.rand(npoints)),\n",
    "                                 (y1, np.random.rand(npoints)),\n",
    "                                 (y2, np.random.rand(npoints)))\n",
    "        stop_adding = time.perf_counter()\n",
    "        run_id = datasaver.run_id\n",
    "    stop = time.perf_counter()\n",
    "    tot_time = stop - start\n",
    "    add_time = stop_adding - start_adding\n",
    "    return tot_time, add_time, run_id"
   ]
  },
  {
   "cell_type": "markdown",
   "metadata": {},
   "source": [
    "## Comparison between numeric/array data and binary blob"
   ]
  },
  {
   "cell_type": "markdown",
   "metadata": {},
   "source": [
    "### Case1: Short experiment time"
   ]
  },
  {
   "cell_type": "code",
   "execution_count": 5,
   "metadata": {
    "execution": {
     "iopub.execute_input": "2021-01-27T18:53:42.224893Z",
     "iopub.status.busy": "2021-01-27T18:53:42.223972Z",
     "iopub.status.idle": "2021-01-27T18:53:42.974390Z",
     "shell.execute_reply": "2021-01-27T18:53:42.973965Z"
    }
   },
   "outputs": [
    {
     "name": "stdout",
     "output_type": "stream",
     "text": [
      "Starting experimental run with id: 1. \n",
      "Starting experimental run with id: 2. \n",
      "Starting experimental run with id: 3. \n",
      "Starting experimental run with id: 4. \n",
      "Starting experimental run with id: 5. \n"
     ]
    },
    {
     "name": "stdout",
     "output_type": "stream",
     "text": [
      "Starting experimental run with id: 6. "
     ]
    },
    {
     "name": "stdout",
     "output_type": "stream",
     "text": [
      "\n"
     ]
    },
    {
     "name": "stdout",
     "output_type": "stream",
     "text": [
      "Starting experimental run with id: 7. \n"
     ]
    },
    {
     "name": "stdout",
     "output_type": "stream",
     "text": [
      "Starting experimental run with id: 8. \n",
      "Starting experimental run with id: 9. \n"
     ]
    },
    {
     "name": "stdout",
     "output_type": "stream",
     "text": [
      "Starting experimental run with id: 10. \n"
     ]
    },
    {
     "name": "stdout",
     "output_type": "stream",
     "text": [
      "Starting experimental run with id: 11. \n"
     ]
    },
    {
     "name": "stdout",
     "output_type": "stream",
     "text": [
      "Starting experimental run with id: 12. \n",
      "Starting experimental run with id: 13. \n"
     ]
    },
    {
     "name": "stdout",
     "output_type": "stream",
     "text": [
      "Starting experimental run with id: 14. \n"
     ]
    }
   ],
   "source": [
    "sizes = [1,500,1000,2000,3000,4000,5000]\n",
    "t_numeric = []\n",
    "t_numeric_add = []\n",
    "t_array = []\n",
    "t_array_add = []\n",
    "for size in sizes:\n",
    "    tn, tna, run_id_n =  insert_data('numeric', size)\n",
    "    t_numeric.append(tn)\n",
    "    t_numeric_add.append(tna)\n",
    "\n",
    "    ta, taa, run_id_a =  insert_data('array', size)\n",
    "    t_array.append(ta)\n",
    "    t_array_add.append(taa)"
   ]
  },
  {
   "cell_type": "code",
   "execution_count": 6,
   "metadata": {
    "execution": {
     "iopub.execute_input": "2021-01-27T18:53:42.989937Z",
     "iopub.status.busy": "2021-01-27T18:53:42.979606Z",
     "iopub.status.idle": "2021-01-27T18:53:43.167865Z",
     "shell.execute_reply": "2021-01-27T18:53:43.168360Z"
    }
   },
   "outputs": [
    {
     "data": {
      "image/png": "[encoded data removed]",
      "text/plain": [
       "<Figure size 432x288 with 1 Axes>"
      ]
     },
     "metadata": {
      "needs_background": "light"
     },
     "output_type": "display_data"
    }
   ],
   "source": [
    "fig, ax = plt.subplots(1,1)\n",
    "ax.plot(sizes, t_numeric, 'o-', label='Inserting row-by-row')\n",
    "ax.plot(sizes, t_numeric_add, 'o-', label='Inserting row-by-row: add_result only')\n",
    "ax.plot(sizes, t_array, 'd-', label='Inserting as binary blob')\n",
    "ax.plot(sizes, t_array_add, 'd-', label='Inserting as binary blob: add_result only')\n",
    "ax.legend()\n",
    "ax.set_xlabel('Array length')\n",
    "ax.set_ylabel('Time (s)')\n",
    "fig.tight_layout()"
   ]
  },
  {
   "cell_type": "markdown",
   "metadata": {},
   "source": [
    "As shown in the latter figure, the time to setup and and close the experiment is approximately 0.4 sec. In case of small array sizes, the difference between inserting values of data as arrays and inserting them row-by-row is relatively unimportant. At larger array sizes, i.e. above 10000 points, the cost of writing data as individual datapoints starts to become important.\n"
   ]
  },
  {
   "cell_type": "markdown",
   "metadata": {},
   "source": [
    "### Case2: Long experiment time "
   ]
  },
  {
   "cell_type": "code",
   "execution_count": 7,
   "metadata": {
    "execution": {
     "iopub.execute_input": "2021-01-27T18:53:43.170769Z",
     "iopub.status.busy": "2021-01-27T18:53:43.170268Z",
     "iopub.status.idle": "2021-01-27T18:54:36.204066Z",
     "shell.execute_reply": "2021-01-27T18:54:36.204844Z"
    }
   },
   "outputs": [
    {
     "name": "stdout",
     "output_type": "stream",
     "text": [
      "Starting experimental run with id: 15. \n",
      "Starting experimental run with id: 16. \n",
      "Starting experimental run with id: 17. \n"
     ]
    },
    {
     "name": "stdout",
     "output_type": "stream",
     "text": [
      "Starting experimental run with id: 18. \n",
      "Starting experimental run with id: 19. \n"
     ]
    },
    {
     "name": "stdout",
     "output_type": "stream",
     "text": [
      "Starting experimental run with id: 20. \n"
     ]
    },
    {
     "name": "stdout",
     "output_type": "stream",
     "text": [
      "Starting experimental run with id: 21. \n"
     ]
    },
    {
     "name": "stdout",
     "output_type": "stream",
     "text": [
      "Starting experimental run with id: 22. \n"
     ]
    },
    {
     "name": "stdout",
     "output_type": "stream",
     "text": [
      "Starting experimental run with id: 23. \n"
     ]
    },
    {
     "name": "stdout",
     "output_type": "stream",
     "text": [
      "Starting experimental run with id: 24. \n"
     ]
    },
    {
     "name": "stdout",
     "output_type": "stream",
     "text": [
      "Starting experimental run with id: 25. \n"
     ]
    },
    {
     "name": "stdout",
     "output_type": "stream",
     "text": [
      "Starting experimental run with id: 26. \n"
     ]
    },
    {
     "name": "stdout",
     "output_type": "stream",
     "text": [
      "Starting experimental run with id: 27. \n"
     ]
    },
    {
     "name": "stdout",
     "output_type": "stream",
     "text": [
      "Starting experimental run with id: 28. \n"
     ]
    }
   ],
   "source": [
    "sizes = [1,500,1000,2000,3000,4000,5000]\n",
    "nreps = 100\n",
    "t_numeric = []\n",
    "t_numeric_add = []\n",
    "t_numeric_run_ids = []\n",
    "t_array = []\n",
    "t_array_add = []\n",
    "t_array_run_ids = []\n",
    "for size in sizes:\n",
    "    tn, tna, run_id_n =  insert_data('numeric', size, nreps=nreps)\n",
    "    t_numeric.append(tn)\n",
    "    t_numeric_add.append(tna)\n",
    "    t_numeric_run_ids.append(run_id_n)\n",
    "\n",
    "    ta, taa, run_id_a =  insert_data('array', size, nreps=nreps)\n",
    "    t_array.append(ta)\n",
    "    t_array_add.append(taa)\n",
    "    t_array_run_ids.append(run_id_a)"
   ]
  },
  {
   "cell_type": "code",
   "execution_count": 8,
   "metadata": {
    "execution": {
     "iopub.execute_input": "2021-01-27T18:54:36.219347Z",
     "iopub.status.busy": "2021-01-27T18:54:36.208846Z",
     "iopub.status.idle": "2021-01-27T18:54:36.382247Z",
     "shell.execute_reply": "2021-01-27T18:54:36.382678Z"
    },
    "scrolled": true
   },
   "outputs": [
    {
     "data": {
      "image/png": "[encoded data removed]",
      "text/plain": [
       "<Figure size 432x288 with 1 Axes>"
      ]
     },
     "metadata": {
      "needs_background": "light"
     },
     "output_type": "display_data"
    }
   ],
   "source": [
    "fig, ax = plt.subplots(1,1)\n",
    "ax.plot(sizes, t_numeric, 'o-', label='Inserting row-by-row')\n",
    "ax.plot(sizes, t_numeric_add, 'o-', label='Inserting row-by-row: add_result only')\n",
    "ax.plot(sizes, t_array, 'd-', label='Inserting as binary blob')\n",
    "ax.plot(sizes, t_array_add, 'd-', label='Inserting as binary blob: add_result only')\n",
    "ax.legend()\n",
    "ax.set_xlabel('Array length')\n",
    "ax.set_ylabel('Time (s)')\n",
    "fig.tight_layout()"
   ]
  },
  {
   "cell_type": "markdown",
   "metadata": {},
   "source": [
    "However, as we increase the length of the experiment, as seen here by repeating the insertion 100 times, we see a big difference between inserting values of the data row-by-row and inserting it as a binary blob."
   ]
  },
  {
   "cell_type": "markdown",
   "metadata": {},
   "source": [
    "## Loading the data "
   ]
  },
  {
   "cell_type": "code",
   "execution_count": 9,
   "metadata": {
    "execution": {
     "iopub.execute_input": "2021-01-27T18:54:36.385024Z",
     "iopub.status.busy": "2021-01-27T18:54:36.384599Z",
     "iopub.status.idle": "2021-01-27T18:54:36.387633Z",
     "shell.execute_reply": "2021-01-27T18:54:36.388046Z"
    }
   },
   "outputs": [],
   "source": [
    "from qcodes.dataset.data_set import load_by_id\n",
    "from qcodes.dataset.data_export import get_data_by_id"
   ]
  },
  {
   "cell_type": "markdown",
   "metadata": {},
   "source": [
    "As usual you can load the data by using the ``load_by_id`` function but you will notice that the different storage methods\n",
    "are reflected in shape of the data as it is retrieved. "
   ]
  },
  {
   "cell_type": "code",
   "execution_count": 10,
   "metadata": {
    "execution": {
     "iopub.execute_input": "2021-01-27T18:54:36.389945Z",
     "iopub.status.busy": "2021-01-27T18:54:36.389519Z",
     "iopub.status.idle": "2021-01-27T18:54:36.392049Z",
     "shell.execute_reply": "2021-01-27T18:54:36.392554Z"
    }
   },
   "outputs": [],
   "source": [
    "run_id_n = t_numeric_run_ids[0]\n",
    "run_id_a = t_array_run_ids[0]"
   ]
  },
  {
   "cell_type": "code",
   "execution_count": 11,
   "metadata": {
    "execution": {
     "iopub.execute_input": "2021-01-27T18:54:36.394685Z",
     "iopub.status.busy": "2021-01-27T18:54:36.394178Z",
     "iopub.status.idle": "2021-01-27T18:54:36.404171Z",
     "shell.execute_reply": "2021-01-27T18:54:36.403815Z"
    },
    "scrolled": true
   },
   "outputs": [
    {
     "data": {
      "text/plain": [
       "{'x1': {'x1': array([0.99307839, 0.99307839, 0.73115958, 0.73115958, 0.72032195,\n",
       "         0.72032195, 0.61169426, 0.61169426, 0.37691702, 0.37691702,\n",
       "         0.65994798, 0.65994798, 0.37677368, 0.37677368, 0.90505635,\n",
       "         0.90505635, 0.21961949, 0.21961949, 0.50593999, 0.50593999,\n",
       "         0.84247796, 0.84247796, 0.03931375, 0.03931375, 0.61947765,\n",
       "         0.61947765, 0.96528234, 0.96528234, 0.0830611 , 0.0830611 ,\n",
       "         0.22482064, 0.22482064, 0.06507335, 0.06507335, 0.84266891,\n",
       "         0.84266891, 0.16665135, 0.16665135, 0.80778854, 0.80778854,\n",
       "         0.50590702, 0.50590702, 0.06174171, 0.06174171, 0.0228638 ,\n",
       "         0.0228638 , 0.55548012, 0.55548012, 0.56043771, 0.56043771,\n",
       "         0.45102254, 0.45102254, 0.65362363, 0.65362363, 0.34039499,\n",
       "         0.34039499, 0.72599054, 0.72599054, 0.2615507 , 0.2615507 ,\n",
       "         0.379081  , 0.379081  , 0.35603756, 0.35603756, 0.86076313,\n",
       "         0.86076313, 0.0646469 , 0.0646469 , 0.31542529, 0.31542529,\n",
       "         0.90172521, 0.90172521, 0.68981693, 0.68981693, 0.57147173,\n",
       "         0.57147173, 0.85191059, 0.85191059, 0.19822619, 0.19822619,\n",
       "         0.67105768, 0.67105768, 0.83233456, 0.83233456, 0.77336882,\n",
       "         0.77336882, 0.93133162, 0.93133162, 0.64419938, 0.64419938,\n",
       "         0.46569388, 0.46569388, 0.42955413, 0.42955413, 0.32959568,\n",
       "         0.32959568, 0.31382168, 0.31382168, 0.87082829, 0.87082829,\n",
       "         0.65488716, 0.65488716, 0.21526455, 0.21526455, 0.61931686,\n",
       "         0.61931686, 0.53352719, 0.53352719, 0.64918617, 0.64918617,\n",
       "         0.20207742, 0.20207742, 0.74997122, 0.74997122, 0.1700249 ,\n",
       "         0.1700249 , 0.38040423, 0.38040423, 0.62214064, 0.62214064,\n",
       "         0.43825183, 0.43825183, 0.89411966, 0.89411966, 0.38569654,\n",
       "         0.38569654, 0.86967206, 0.86967206, 0.77761333, 0.77761333,\n",
       "         0.96673835, 0.96673835, 0.94003627, 0.94003627, 0.966835  ,\n",
       "         0.966835  , 0.26108739, 0.26108739, 0.38782782, 0.38782782,\n",
       "         0.81253882, 0.81253882, 0.59100752, 0.59100752, 0.64347697,\n",
       "         0.64347697, 0.68951464, 0.68951464, 0.01316911, 0.01316911,\n",
       "         0.97395464, 0.97395464, 0.53577253, 0.53577253, 0.72668975,\n",
       "         0.72668975, 0.2728409 , 0.2728409 , 0.01425827, 0.01425827,\n",
       "         0.89421311, 0.89421311, 0.28373245, 0.28373245, 0.58977206,\n",
       "         0.58977206, 0.57272982, 0.57272982, 0.51615508, 0.51615508,\n",
       "         0.76214636, 0.76214636, 0.36389592, 0.36389592, 0.40596446,\n",
       "         0.40596446, 0.92830963, 0.92830963, 0.52672946, 0.52672946,\n",
       "         0.82469286, 0.82469286, 0.75675166, 0.75675166, 0.07135437,\n",
       "         0.07135437, 0.07263149, 0.07263149, 0.18101014, 0.18101014,\n",
       "         0.06769793, 0.06769793, 0.42996472, 0.42996472, 0.89429127,\n",
       "         0.89429127, 0.91510951, 0.91510951, 0.37471619, 0.37471619])}}"
      ]
     },
     "execution_count": 1,
     "metadata": {},
     "output_type": "execute_result"
    }
   ],
   "source": [
    "ds = load_by_id(run_id_n)\n",
    "ds.get_parameter_data('x1')"
   ]
  },
  {
   "cell_type": "markdown",
   "metadata": {},
   "source": [
    "And a dataset stored as binary arrays"
   ]
  },
  {
   "cell_type": "code",
   "execution_count": 12,
   "metadata": {
    "execution": {
     "iopub.execute_input": "2021-01-27T18:54:36.407054Z",
     "iopub.status.busy": "2021-01-27T18:54:36.406589Z",
     "iopub.status.idle": "2021-01-27T18:54:36.458942Z",
     "shell.execute_reply": "2021-01-27T18:54:36.458175Z"
    },
    "scrolled": true
   },
   "outputs": [
    {
     "data": {
      "text/plain": [
       "{'x1': {'x1': array([[0.86457153],\n",
       "         [0.86457153],\n",
       "         [0.19613689],\n",
       "         [0.19613689],\n",
       "         [0.27424593],\n",
       "         [0.27424593],\n",
       "         [0.02676087],\n",
       "         [0.02676087],\n",
       "         [0.47446785],\n",
       "         [0.47446785],\n",
       "         [0.08526656],\n",
       "         [0.08526656],\n",
       "         [0.66932295],\n",
       "         [0.66932295],\n",
       "         [0.41704124],\n",
       "         [0.41704124],\n",
       "         [0.22810059],\n",
       "         [0.22810059],\n",
       "         [0.76288565],\n",
       "         [0.76288565],\n",
       "         [0.02346981],\n",
       "         [0.02346981],\n",
       "         [0.96906625],\n",
       "         [0.96906625],\n",
       "         [0.59608068],\n",
       "         [0.59608068],\n",
       "         [0.81571692],\n",
       "         [0.81571692],\n",
       "         [0.33112525],\n",
       "         [0.33112525],\n",
       "         [0.6840373 ],\n",
       "         [0.6840373 ],\n",
       "         [0.14045094],\n",
       "         [0.14045094],\n",
       "         [0.0181643 ],\n",
       "         [0.0181643 ],\n",
       "         [0.90895651],\n",
       "         [0.90895651],\n",
       "         [0.49019936],\n",
       "         [0.49019936],\n",
       "         [0.70270734],\n",
       "         [0.70270734],\n",
       "         [0.70592506],\n",
       "         [0.70592506],\n",
       "         [0.77273005],\n",
       "         [0.77273005],\n",
       "         [0.96728581],\n",
       "         [0.96728581],\n",
       "         [0.25207197],\n",
       "         [0.25207197],\n",
       "         [0.22177693],\n",
       "         [0.22177693],\n",
       "         [0.99749418],\n",
       "         [0.99749418],\n",
       "         [0.23134647],\n",
       "         [0.23134647],\n",
       "         [0.13682489],\n",
       "         [0.13682489],\n",
       "         [0.90396316],\n",
       "         [0.90396316],\n",
       "         [0.81093506],\n",
       "         [0.81093506],\n",
       "         [0.36021619],\n",
       "         [0.36021619],\n",
       "         [0.16839608],\n",
       "         [0.16839608],\n",
       "         [0.21790601],\n",
       "         [0.21790601],\n",
       "         [0.78643121],\n",
       "         [0.78643121],\n",
       "         [0.2899888 ],\n",
       "         [0.2899888 ],\n",
       "         [0.78723937],\n",
       "         [0.78723937],\n",
       "         [0.08583209],\n",
       "         [0.08583209],\n",
       "         [0.07793368],\n",
       "         [0.07793368],\n",
       "         [0.91534068],\n",
       "         [0.91534068],\n",
       "         [0.02279769],\n",
       "         [0.02279769],\n",
       "         [0.21488713],\n",
       "         [0.21488713],\n",
       "         [0.72179351],\n",
       "         [0.72179351],\n",
       "         [0.64488617],\n",
       "         [0.64488617],\n",
       "         [0.14249845],\n",
       "         [0.14249845],\n",
       "         [0.37543233],\n",
       "         [0.37543233],\n",
       "         [0.96859335],\n",
       "         [0.96859335],\n",
       "         [0.20538116],\n",
       "         [0.20538116],\n",
       "         [0.08898274],\n",
       "         [0.08898274],\n",
       "         [0.24185834],\n",
       "         [0.24185834],\n",
       "         [0.48029531],\n",
       "         [0.48029531],\n",
       "         [0.6940847 ],\n",
       "         [0.6940847 ],\n",
       "         [0.95420525],\n",
       "         [0.95420525],\n",
       "         [0.27572184],\n",
       "         [0.27572184],\n",
       "         [0.72421305],\n",
       "         [0.72421305],\n",
       "         [0.4150017 ],\n",
       "         [0.4150017 ],\n",
       "         [0.57061741],\n",
       "         [0.57061741],\n",
       "         [0.98379361],\n",
       "         [0.98379361],\n",
       "         [0.68617714],\n",
       "         [0.68617714],\n",
       "         [0.13387517],\n",
       "         [0.13387517],\n",
       "         [0.82763684],\n",
       "         [0.82763684],\n",
       "         [0.58459053],\n",
       "         [0.58459053],\n",
       "         [0.03311808],\n",
       "         [0.03311808],\n",
       "         [0.4977462 ],\n",
       "         [0.4977462 ],\n",
       "         [0.96691373],\n",
       "         [0.96691373],\n",
       "         [0.83280893],\n",
       "         [0.83280893],\n",
       "         [0.12643889],\n",
       "         [0.12643889],\n",
       "         [0.60811199],\n",
       "         [0.60811199],\n",
       "         [0.43365194],\n",
       "         [0.43365194],\n",
       "         [0.05928689],\n",
       "         [0.05928689],\n",
       "         [0.37965514],\n",
       "         [0.37965514],\n",
       "         [0.01788476],\n",
       "         [0.01788476],\n",
       "         [0.13780862],\n",
       "         [0.13780862],\n",
       "         [0.2011368 ],\n",
       "         [0.2011368 ],\n",
       "         [0.51360792],\n",
       "         [0.51360792],\n",
       "         [0.83558137],\n",
       "         [0.83558137],\n",
       "         [0.75495357],\n",
       "         [0.75495357],\n",
       "         [0.06099998],\n",
       "         [0.06099998],\n",
       "         [0.0400101 ],\n",
       "         [0.0400101 ],\n",
       "         [0.64008087],\n",
       "         [0.64008087],\n",
       "         [0.53502674],\n",
       "         [0.53502674],\n",
       "         [0.91530562],\n",
       "         [0.91530562],\n",
       "         [0.89050613],\n",
       "         [0.89050613],\n",
       "         [0.98809616],\n",
       "         [0.98809616],\n",
       "         [0.91481456],\n",
       "         [0.91481456],\n",
       "         [0.05437009],\n",
       "         [0.05437009],\n",
       "         [0.33985838],\n",
       "         [0.33985838],\n",
       "         [0.09931534],\n",
       "         [0.09931534],\n",
       "         [0.03158652],\n",
       "         [0.03158652],\n",
       "         [0.25109216],\n",
       "         [0.25109216],\n",
       "         [0.69729403],\n",
       "         [0.69729403],\n",
       "         [0.76379114],\n",
       "         [0.76379114],\n",
       "         [0.45462304],\n",
       "         [0.45462304],\n",
       "         [0.77714884],\n",
       "         [0.77714884],\n",
       "         [0.79688837],\n",
       "         [0.79688837],\n",
       "         [0.73975468],\n",
       "         [0.73975468],\n",
       "         [0.31556004],\n",
       "         [0.31556004],\n",
       "         [0.19663646],\n",
       "         [0.19663646],\n",
       "         [0.64694001],\n",
       "         [0.64694001],\n",
       "         [0.77049758],\n",
       "         [0.77049758]])}}"
      ]
     },
     "execution_count": 1,
     "metadata": {},
     "output_type": "execute_result"
    }
   ],
   "source": [
    "ds = load_by_id(run_id_a)\n",
    "ds.get_parameter_data('x1')"
   ]
  },
  {
   "cell_type": "code",
   "execution_count": null,
   "metadata": {},
   "outputs": [],
   "source": []
  }
 ],
 "metadata": {
  "kernelspec": {
   "display_name": "Python 3",
   "language": "python",
   "name": "python3"
  },
  "language_info": {
   "codemirror_mode": {
    "name": "ipython",
    "version": 3
   },
   "file_extension": ".py",
   "mimetype": "text/x-python",
   "name": "python",
   "nbconvert_exporter": "python",
   "pygments_lexer": "ipython3",
   "version": "3.7.9"
  },
  "nbsphinx": {
   "timeout": 600
  },
  "toc": {
   "base_numbering": 1,
   "nav_menu": {},
   "number_sections": true,
   "sideBar": true,
   "skip_h1_title": false,
   "title_cell": "Table of Contents",
   "title_sidebar": "Contents",
   "toc_cell": false,
   "toc_position": {},
   "toc_section_display": true,
   "toc_window_display": false
  },
  "varInspector": {
   "cols": {
    "lenName": 16,
    "lenType": 16,
    "lenVar": 40
   },
   "kernels_config": {
    "python": {
     "delete_cmd_postfix": "",
     "delete_cmd_prefix": "del ",
     "library": "var_list.py",
     "varRefreshCmd": "print(var_dic_list())"
    },
    "r": {
     "delete_cmd_postfix": ") ",
     "delete_cmd_prefix": "rm(",
     "library": "var_list.r",
     "varRefreshCmd": "cat(var_dic_list()) "
    }
   },
   "types_to_exclude": [
    "module",
    "function",
    "builtin_function_or_method",
    "instance",
    "_Feature"
   ],
   "window_display": false
  }
 },
 "nbformat": 4,
 "nbformat_minor": 2
}
