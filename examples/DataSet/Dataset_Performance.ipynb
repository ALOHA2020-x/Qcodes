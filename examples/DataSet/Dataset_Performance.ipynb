{
 "cells": [
  {
   "cell_type": "markdown",
   "metadata": {},
   "source": [
    "# DataSet Performance\n",
    "\n",
    "This notebook shows the trade-off between inserting data into a database row-by-row and as binary blobs. Inserting the data row-by-row means that we have direct access to all the data and may perform queries directly on the values of the data. On the other hand, as we shall see, this is much slower than inserting the data directly as binary blobs."
   ]
  },
  {
   "cell_type": "markdown",
   "metadata": {},
   "source": [
    "First, we choose a new location for the database to ensure that we don't add a bunch of benchmarking data to the default one."
   ]
  },
  {
   "cell_type": "code",
   "execution_count": 1,
   "metadata": {},
   "outputs": [
    {
     "name": "stdout",
     "output_type": "stream",
     "text": [
      "Logging hadn't been started.\n",
      "Activating auto-logging. Current session state plus future input saved.\n",
      "Filename       : /home/vsts/.qcodes/logs/command_history.log\n",
      "Mode           : append\n",
      "Output logging : True\n",
      "Raw input log  : False\n",
      "Timestamping   : True\n",
      "State          : active\n"
     ]
    },
    {
     "name": "stdout",
     "output_type": "stream",
     "text": [
      "Qcodes Logfile : /home/vsts/.qcodes/logs/200817-18466-qcodes.log\n"
     ]
    }
   ],
   "source": [
    "import os\n",
    "cwd = os.getcwd()\n",
    "import qcodes as qc\n",
    "qc.config[\"core\"][\"db_location\"] = os.path.join(cwd, 'testing.db')\n"
   ]
  },
  {
   "cell_type": "code",
   "execution_count": 2,
   "metadata": {},
   "outputs": [],
   "source": [
    "%matplotlib inline\n",
    "import time\n",
    "import matplotlib.pyplot as plt\n",
    "import numpy as np\n",
    "\n",
    "import qcodes as qc\n",
    "from qcodes.instrument.parameter import ManualParameter\n",
    "from qcodes.dataset.experiment_container import (Experiment,\n",
    "                                                 load_last_experiment,\n",
    "                                                 new_experiment)\n",
    "from qcodes.dataset.sqlite.database import initialise_database\n",
    "from qcodes import load_or_create_experiment\n",
    "from qcodes.dataset.measurements import Measurement"
   ]
  },
  {
   "cell_type": "code",
   "execution_count": 3,
   "metadata": {},
   "outputs": [
    {
     "name": "stdout",
     "output_type": "stream",
     "text": [
      "\r",
      "0it [00:00, ?it/s]"
     ]
    },
    {
     "name": "stdout",
     "output_type": "stream",
     "text": [
      "\r",
      "Upgrading database; v0 -> v1: : 0it [00:00, ?it/s]"
     ]
    },
    {
     "name": "stdout",
     "output_type": "stream",
     "text": [
      "\r",
      "Upgrading database; v0 -> v1: : 0it [00:00, ?it/s]"
     ]
    },
    {
     "name": "stdout",
     "output_type": "stream",
     "text": [
      "\n",
      "\r",
      "  0%|          | 0/1 [00:00<?, ?it/s]"
     ]
    },
    {
     "name": "stdout",
     "output_type": "stream",
     "text": [
      "\r",
      "Upgrading database; v1 -> v2:   0%|          | 0/1 [00:00<?, ?it/s]"
     ]
    },
    {
     "name": "stdout",
     "output_type": "stream",
     "text": [
      "\r",
      "Upgrading database; v1 -> v2: 100%|██████████| 1/1 [00:00<00:00, 838.86it/s]"
     ]
    },
    {
     "name": "stdout",
     "output_type": "stream",
     "text": [
      "\n",
      "\r",
      "0it [00:00, ?it/s]"
     ]
    },
    {
     "name": "stdout",
     "output_type": "stream",
     "text": [
      "\r",
      "Upgrading database; v2 -> v3: : 0it [00:00, ?it/s]"
     ]
    },
    {
     "name": "stdout",
     "output_type": "stream",
     "text": [
      "\r",
      "Upgrading database; v2 -> v3: : 0it [00:00, ?it/s]"
     ]
    },
    {
     "name": "stdout",
     "output_type": "stream",
     "text": [
      "\n",
      "\r",
      "0it [00:00, ?it/s]"
     ]
    },
    {
     "name": "stdout",
     "output_type": "stream",
     "text": [
      "\r",
      "Upgrading database; v3 -> v4: : 0it [00:00, ?it/s]"
     ]
    },
    {
     "name": "stdout",
     "output_type": "stream",
     "text": [
      "\r",
      "Upgrading database; v3 -> v4: : 0it [00:00, ?it/s]"
     ]
    },
    {
     "name": "stdout",
     "output_type": "stream",
     "text": [
      "\n",
      "\r",
      "  0%|          | 0/1 [00:00<?, ?it/s]"
     ]
    },
    {
     "name": "stdout",
     "output_type": "stream",
     "text": [
      "\r",
      "Upgrading database; v4 -> v5:   0%|          | 0/1 [00:00<?, ?it/s]"
     ]
    },
    {
     "name": "stdout",
     "output_type": "stream",
     "text": [
      "\r",
      "Upgrading database; v4 -> v5: 100%|██████████| 1/1 [00:00<00:00, 753.69it/s]"
     ]
    },
    {
     "name": "stdout",
     "output_type": "stream",
     "text": [
      "\n",
      "\r",
      "0it [00:00, ?it/s]"
     ]
    },
    {
     "name": "stdout",
     "output_type": "stream",
     "text": [
      "\r",
      "Upgrading database; v5 -> v6: : 0it [00:00, ?it/s]"
     ]
    },
    {
     "name": "stdout",
     "output_type": "stream",
     "text": [
      "\r",
      "Upgrading database; v5 -> v6: : 0it [00:00, ?it/s]"
     ]
    },
    {
     "name": "stdout",
     "output_type": "stream",
     "text": [
      "\n",
      "\r",
      "  0%|          | 0/1 [00:00<?, ?it/s]"
     ]
    },
    {
     "name": "stdout",
     "output_type": "stream",
     "text": [
      "\r",
      "Upgrading database; v6 -> v7:   0%|          | 0/1 [00:00<?, ?it/s]"
     ]
    },
    {
     "name": "stdout",
     "output_type": "stream",
     "text": [
      "\r",
      "Upgrading database; v6 -> v7: 100%|██████████| 1/1 [00:00<00:00, 407.21it/s]"
     ]
    },
    {
     "name": "stdout",
     "output_type": "stream",
     "text": [
      "\n",
      "\r",
      "  0%|          | 0/1 [00:00<?, ?it/s]"
     ]
    },
    {
     "name": "stdout",
     "output_type": "stream",
     "text": [
      "\r",
      "Upgrading database; v7 -> v8:   0%|          | 0/1 [00:00<?, ?it/s]"
     ]
    },
    {
     "name": "stdout",
     "output_type": "stream",
     "text": [
      "\r",
      "Upgrading database; v7 -> v8: 100%|██████████| 1/1 [00:00<00:00, 709.94it/s]"
     ]
    },
    {
     "name": "stdout",
     "output_type": "stream",
     "text": [
      "\n",
      "\r",
      "  0%|          | 0/1 [00:00<?, ?it/s]"
     ]
    },
    {
     "name": "stdout",
     "output_type": "stream",
     "text": [
      "\r",
      "Upgrading database; v8 -> v9:   0%|          | 0/1 [00:00<?, ?it/s]"
     ]
    },
    {
     "name": "stdout",
     "output_type": "stream",
     "text": [
      "\r",
      "Upgrading database; v8 -> v9: 100%|██████████| 1/1 [00:00<00:00, 908.25it/s]"
     ]
    },
    {
     "name": "stdout",
     "output_type": "stream",
     "text": [
      "\n"
     ]
    }
   ],
   "source": [
    "initialise_database()\n",
    "exp = load_or_create_experiment(experiment_name='tutorial_exp', sample_name=\"no sample\")"
   ]
  },
  {
   "cell_type": "markdown",
   "metadata": {},
   "source": [
    "Here, we define a simple function to benchmark the time it takes to insert n points with either numeric or array data type.\n",
    "We will compare both the time used to call ``add_result`` and the time used for the full measurement."
   ]
  },
  {
   "cell_type": "code",
   "execution_count": 4,
   "metadata": {},
   "outputs": [],
   "source": [
    "def insert_data(paramtype, npoints, nreps=1):\n",
    "\n",
    "    meas = Measurement(exp=exp)\n",
    "\n",
    "    x1 = ManualParameter('x1')\n",
    "    x2 = ManualParameter('x2')\n",
    "    x3 = ManualParameter('x3')\n",
    "    y1 = ManualParameter('y1')\n",
    "    y2 = ManualParameter('y2')\n",
    "\n",
    "    meas.register_parameter(x1, paramtype=paramtype)\n",
    "    meas.register_parameter(x2, paramtype=paramtype)\n",
    "    meas.register_parameter(x3, paramtype=paramtype)\n",
    "    meas.register_parameter(y1, setpoints=[x1, x2, x3],\n",
    "                            paramtype=paramtype)\n",
    "    meas.register_parameter(y2, setpoints=[x1, x2, x3],\n",
    "                            paramtype=paramtype)\n",
    "    start = time.perf_counter()\n",
    "    with meas.run() as datasaver:\n",
    "        start_adding = time.perf_counter()\n",
    "        for i in range(nreps):\n",
    "            datasaver.add_result((x1, np.random.rand(npoints)),\n",
    "                                 (x2, np.random.rand(npoints)),\n",
    "                                 (x3, np.random.rand(npoints)),\n",
    "                                 (y1, np.random.rand(npoints)),\n",
    "                                 (y2, np.random.rand(npoints)))\n",
    "        stop_adding = time.perf_counter()\n",
    "        run_id = datasaver.run_id\n",
    "    stop = time.perf_counter()\n",
    "    tot_time = stop - start\n",
    "    add_time = stop_adding - start_adding\n",
    "    return tot_time, add_time, run_id"
   ]
  },
  {
   "cell_type": "markdown",
   "metadata": {},
   "source": [
    "## Comparison between numeric/array data and binary blob"
   ]
  },
  {
   "cell_type": "markdown",
   "metadata": {},
   "source": [
    "### Case1: Short experiment time"
   ]
  },
  {
   "cell_type": "code",
   "execution_count": 5,
   "metadata": {},
   "outputs": [
    {
     "name": "stdout",
     "output_type": "stream",
     "text": [
      "Starting experimental run with id: 1. \n",
      "Starting experimental run with id: 2. \n",
      "Starting experimental run with id: 3. \n"
     ]
    },
    {
     "name": "stdout",
     "output_type": "stream",
     "text": [
      "Starting experimental run with id: 4. \n"
     ]
    },
    {
     "name": "stdout",
     "output_type": "stream",
     "text": [
      "Starting experimental run with id: 5. \n"
     ]
    },
    {
     "name": "stdout",
     "output_type": "stream",
     "text": [
      "Starting experimental run with id: 6. \n",
      "Starting experimental run with id: 7. \n"
     ]
    },
    {
     "name": "stdout",
     "output_type": "stream",
     "text": [
      "Starting experimental run with id: 8. \n",
      "Starting experimental run with id: 9. \n"
     ]
    },
    {
     "name": "stdout",
     "output_type": "stream",
     "text": [
      "Starting experimental run with id: 10. \n",
      "Starting experimental run with id: 11. \n"
     ]
    },
    {
     "name": "stdout",
     "output_type": "stream",
     "text": [
      "Starting experimental run with id: 12. \n",
      "Starting experimental run with id: 13. \n"
     ]
    },
    {
     "name": "stdout",
     "output_type": "stream",
     "text": [
      "Starting experimental run with id: 14. \n"
     ]
    }
   ],
   "source": [
    "sizes = [1,500,1000,2000,3000,4000,5000]\n",
    "t_numeric = []\n",
    "t_numeric_add = []\n",
    "t_array = []\n",
    "t_array_add = []\n",
    "for size in sizes:\n",
    "    tn, tna, run_id_n =  insert_data('numeric', size)\n",
    "    t_numeric.append(tn)\n",
    "    t_numeric_add.append(tna)\n",
    "\n",
    "    ta, taa, run_id_a =  insert_data('array', size)\n",
    "    t_array.append(ta)\n",
    "    t_array_add.append(taa)"
   ]
  },
  {
   "cell_type": "code",
   "execution_count": 6,
   "metadata": {},
   "outputs": [
    {
     "data": {
      "image/png": "[encoded data removed]",
      "text/plain": [
       "<Figure size 432x288 with 1 Axes>"
      ]
     },
     "metadata": {
      "needs_background": "light"
     },
     "output_type": "display_data"
    }
   ],
   "source": [
    "fig, ax = plt.subplots(1,1)\n",
    "ax.plot(sizes, t_numeric, 'o-', label='Inserting row-by-row')\n",
    "ax.plot(sizes, t_numeric_add, 'o-', label='Inserting row-by-row: add_result only')\n",
    "ax.plot(sizes, t_array, 'd-', label='Inserting as binary blob')\n",
    "ax.plot(sizes, t_array_add, 'd-', label='Inserting as binary blob: add_result only')\n",
    "ax.legend()\n",
    "ax.set_xlabel('Array length')\n",
    "ax.set_ylabel('Time (s)')\n",
    "fig.tight_layout()"
   ]
  },
  {
   "cell_type": "markdown",
   "metadata": {},
   "source": [
    "As shown in the latter figure, the time to setup and and close the experiment is approximately 0.4 sec. In case of small array sizes, the difference between inserting values of data as arrays and inserting them row-by-row is relatively unimportant. At larger array sizes, i.e. above 10000 points, the cost of writing data as individual datapoints starts to become important.\n"
   ]
  },
  {
   "cell_type": "markdown",
   "metadata": {},
   "source": [
    "### Case2: Long experiment time "
   ]
  },
  {
   "cell_type": "code",
   "execution_count": 7,
   "metadata": {},
   "outputs": [
    {
     "name": "stdout",
     "output_type": "stream",
     "text": [
      "Starting experimental run with id: 15. \n",
      "Starting experimental run with id: 16. \n",
      "Starting experimental run with id: 17. \n"
     ]
    },
    {
     "name": "stdout",
     "output_type": "stream",
     "text": [
      "Starting experimental run with id: 18. \n",
      "Starting experimental run with id: 19. \n"
     ]
    },
    {
     "name": "stdout",
     "output_type": "stream",
     "text": [
      "Starting experimental run with id: 20. \n"
     ]
    },
    {
     "name": "stdout",
     "output_type": "stream",
     "text": [
      "Starting experimental run with id: 21. \n"
     ]
    },
    {
     "name": "stdout",
     "output_type": "stream",
     "text": [
      "Starting experimental run with id: 22. \n"
     ]
    },
    {
     "name": "stdout",
     "output_type": "stream",
     "text": [
      "Starting experimental run with id: 23. \n"
     ]
    },
    {
     "name": "stdout",
     "output_type": "stream",
     "text": [
      "Starting experimental run with id: 24. \n"
     ]
    },
    {
     "name": "stdout",
     "output_type": "stream",
     "text": [
      "Starting experimental run with id: 25. \n"
     ]
    },
    {
     "name": "stdout",
     "output_type": "stream",
     "text": [
      "Starting experimental run with id: 26. \n"
     ]
    },
    {
     "name": "stdout",
     "output_type": "stream",
     "text": [
      "Starting experimental run with id: 27. \n"
     ]
    },
    {
     "name": "stdout",
     "output_type": "stream",
     "text": [
      "Starting experimental run with id: 28. \n"
     ]
    }
   ],
   "source": [
    "sizes = [1,500,1000,2000,3000,4000,5000]\n",
    "nreps = 100\n",
    "t_numeric = []\n",
    "t_numeric_add = []\n",
    "t_numeric_run_ids = []\n",
    "t_array = []\n",
    "t_array_add = []\n",
    "t_array_run_ids = []\n",
    "for size in sizes:\n",
    "    tn, tna, run_id_n =  insert_data('numeric', size, nreps=nreps)\n",
    "    t_numeric.append(tn)\n",
    "    t_numeric_add.append(tna)\n",
    "    t_numeric_run_ids.append(run_id_n)\n",
    "\n",
    "    ta, taa, run_id_a =  insert_data('array', size, nreps=nreps)\n",
    "    t_array.append(ta)\n",
    "    t_array_add.append(taa)\n",
    "    t_array_run_ids.append(run_id_a)"
   ]
  },
  {
   "cell_type": "code",
   "execution_count": 8,
   "metadata": {
    "scrolled": true
   },
   "outputs": [
    {
     "data": {
      "image/png": "[encoded data removed]",
      "text/plain": [
       "<Figure size 432x288 with 1 Axes>"
      ]
     },
     "metadata": {
      "needs_background": "light"
     },
     "output_type": "display_data"
    }
   ],
   "source": [
    "fig, ax = plt.subplots(1,1)\n",
    "ax.plot(sizes, t_numeric, 'o-', label='Inserting row-by-row')\n",
    "ax.plot(sizes, t_numeric_add, 'o-', label='Inserting row-by-row: add_result only')\n",
    "ax.plot(sizes, t_array, 'd-', label='Inserting as binary blob')\n",
    "ax.plot(sizes, t_array_add, 'd-', label='Inserting as binary blob: add_result only')\n",
    "ax.legend()\n",
    "ax.set_xlabel('Array length')\n",
    "ax.set_ylabel('Time (s)')\n",
    "fig.tight_layout()"
   ]
  },
  {
   "cell_type": "markdown",
   "metadata": {},
   "source": [
    "However, as we increase the length of the experiment, as seen here by repeating the insertion 100 times, we see a big difference between inserting values of the data row-by-row and inserting it as a binary blob."
   ]
  },
  {
   "cell_type": "markdown",
   "metadata": {},
   "source": [
    "## Loading the data "
   ]
  },
  {
   "cell_type": "code",
   "execution_count": 9,
   "metadata": {},
   "outputs": [],
   "source": [
    "from qcodes.dataset.data_set import load_by_id\n",
    "from qcodes.dataset.data_export import get_data_by_id"
   ]
  },
  {
   "cell_type": "markdown",
   "metadata": {},
   "source": [
    "As usual you can load the data by using the ``load_by_id`` function but you will notice that the different storage methods\n",
    "are reflected in shape of the data as it is retrieved. "
   ]
  },
  {
   "cell_type": "code",
   "execution_count": 10,
   "metadata": {},
   "outputs": [],
   "source": [
    "run_id_n = t_numeric_run_ids[0]\n",
    "run_id_a = t_array_run_ids[0]"
   ]
  },
  {
   "cell_type": "code",
   "execution_count": 11,
   "metadata": {
    "scrolled": true
   },
   "outputs": [
    {
     "data": {
      "text/plain": [
       "{'x1': {'x1': array([0.84926859, 0.84926859, 0.84669279, 0.84669279, 0.37422392,\n",
       "         0.37422392, 0.12121754, 0.12121754, 0.62784833, 0.62784833,\n",
       "         0.60271096, 0.60271096, 0.14583816, 0.14583816, 0.59376315,\n",
       "         0.59376315, 0.36593605, 0.36593605, 0.81780132, 0.81780132,\n",
       "         0.92536459, 0.92536459, 0.65995418, 0.65995418, 0.01479004,\n",
       "         0.01479004, 0.43529007, 0.43529007, 0.1567107 , 0.1567107 ,\n",
       "         0.36090481, 0.36090481, 0.46435821, 0.46435821, 0.34793297,\n",
       "         0.34793297, 0.59523585, 0.59523585, 0.93374767, 0.93374767,\n",
       "         0.51855982, 0.51855982, 0.94847309, 0.94847309, 0.06651973,\n",
       "         0.06651973, 0.59432047, 0.59432047, 0.59478112, 0.59478112,\n",
       "         0.72392871, 0.72392871, 0.4982275 , 0.4982275 , 0.99508111,\n",
       "         0.99508111, 0.72750348, 0.72750348, 0.68142381, 0.68142381,\n",
       "         0.59773215, 0.59773215, 0.31185252, 0.31185252, 0.4857667 ,\n",
       "         0.4857667 , 0.22909115, 0.22909115, 0.55532625, 0.55532625,\n",
       "         0.19574555, 0.19574555, 0.88793903, 0.88793903, 0.06876697,\n",
       "         0.06876697, 0.26098411, 0.26098411, 0.23939629, 0.23939629,\n",
       "         0.98965253, 0.98965253, 0.65217723, 0.65217723, 0.6258952 ,\n",
       "         0.6258952 , 0.01526413, 0.01526413, 0.99724525, 0.99724525,\n",
       "         0.85300769, 0.85300769, 0.36125906, 0.36125906, 0.05392688,\n",
       "         0.05392688, 0.21539384, 0.21539384, 0.8957669 , 0.8957669 ,\n",
       "         0.27740716, 0.27740716, 0.68506217, 0.68506217, 0.29640638,\n",
       "         0.29640638, 0.51750354, 0.51750354, 0.65418351, 0.65418351,\n",
       "         0.07485269, 0.07485269, 0.22065568, 0.22065568, 0.25371754,\n",
       "         0.25371754, 0.93107474, 0.93107474, 0.93762668, 0.93762668,\n",
       "         0.81231085, 0.81231085, 0.10412739, 0.10412739, 0.37106259,\n",
       "         0.37106259, 0.2595823 , 0.2595823 , 0.77684806, 0.77684806,\n",
       "         0.66261953, 0.66261953, 0.96075179, 0.96075179, 0.59242686,\n",
       "         0.59242686, 0.5535027 , 0.5535027 , 0.13884308, 0.13884308,\n",
       "         0.68479937, 0.68479937, 0.04075355, 0.04075355, 0.74312042,\n",
       "         0.74312042, 0.32166239, 0.32166239, 0.89002638, 0.89002638,\n",
       "         0.78684727, 0.78684727, 0.14374586, 0.14374586, 0.68007984,\n",
       "         0.68007984, 0.81197618, 0.81197618, 0.46683413, 0.46683413,\n",
       "         0.89849473, 0.89849473, 0.76920606, 0.76920606, 0.85761332,\n",
       "         0.85761332, 0.84797399, 0.84797399, 0.81143921, 0.81143921,\n",
       "         0.25467764, 0.25467764, 0.77164281, 0.77164281, 0.06430891,\n",
       "         0.06430891, 0.99228955, 0.99228955, 0.34598947, 0.34598947,\n",
       "         0.88656886, 0.88656886, 0.13777374, 0.13777374, 0.3896506 ,\n",
       "         0.3896506 , 0.34134364, 0.34134364, 0.96579231, 0.96579231,\n",
       "         0.47153592, 0.47153592, 0.81541963, 0.81541963, 0.64676122,\n",
       "         0.64676122, 0.17511504, 0.17511504, 0.70206775, 0.70206775])}}"
      ]
     },
     "execution_count": 11,
     "metadata": {},
     "output_type": "execute_result"
    }
   ],
   "source": [
    "ds = load_by_id(run_id_n)\n",
    "ds.get_parameter_data('x1')"
   ]
  },
  {
   "cell_type": "markdown",
   "metadata": {},
   "source": [
    "And a dataset stored as binary arrays"
   ]
  },
  {
   "cell_type": "code",
   "execution_count": 12,
   "metadata": {
    "scrolled": true
   },
   "outputs": [
    {
     "data": {
      "text/plain": [
       "{'x1': {'x1': array([[0.77526631],\n",
       "         [0.77526631],\n",
       "         [0.65435486],\n",
       "         [0.65435486],\n",
       "         [0.72567459],\n",
       "         [0.72567459],\n",
       "         [0.94932376],\n",
       "         [0.94932376],\n",
       "         [0.90261191],\n",
       "         [0.90261191],\n",
       "         [0.59607371],\n",
       "         [0.59607371],\n",
       "         [0.60152935],\n",
       "         [0.60152935],\n",
       "         [0.08654709],\n",
       "         [0.08654709],\n",
       "         [0.96347039],\n",
       "         [0.96347039],\n",
       "         [0.64236867],\n",
       "         [0.64236867],\n",
       "         [0.64830729],\n",
       "         [0.64830729],\n",
       "         [0.83950552],\n",
       "         [0.83950552],\n",
       "         [0.75852485],\n",
       "         [0.75852485],\n",
       "         [0.92702155],\n",
       "         [0.92702155],\n",
       "         [0.03487681],\n",
       "         [0.03487681],\n",
       "         [0.53111126],\n",
       "         [0.53111126],\n",
       "         [0.67244517],\n",
       "         [0.67244517],\n",
       "         [0.73144525],\n",
       "         [0.73144525],\n",
       "         [0.33501911],\n",
       "         [0.33501911],\n",
       "         [0.23732528],\n",
       "         [0.23732528],\n",
       "         [0.63199459],\n",
       "         [0.63199459],\n",
       "         [0.79049176],\n",
       "         [0.79049176],\n",
       "         [0.47290298],\n",
       "         [0.47290298],\n",
       "         [0.13944291],\n",
       "         [0.13944291],\n",
       "         [0.45510029],\n",
       "         [0.45510029],\n",
       "         [0.11623357],\n",
       "         [0.11623357],\n",
       "         [0.15779195],\n",
       "         [0.15779195],\n",
       "         [0.4904608 ],\n",
       "         [0.4904608 ],\n",
       "         [0.25381077],\n",
       "         [0.25381077],\n",
       "         [0.63597017],\n",
       "         [0.63597017],\n",
       "         [0.89494824],\n",
       "         [0.89494824],\n",
       "         [0.7622545 ],\n",
       "         [0.7622545 ],\n",
       "         [0.92214311],\n",
       "         [0.92214311],\n",
       "         [0.07584176],\n",
       "         [0.07584176],\n",
       "         [0.62099085],\n",
       "         [0.62099085],\n",
       "         [0.31422091],\n",
       "         [0.31422091],\n",
       "         [0.6772018 ],\n",
       "         [0.6772018 ],\n",
       "         [0.00860849],\n",
       "         [0.00860849],\n",
       "         [0.24996478],\n",
       "         [0.24996478],\n",
       "         [0.21798068],\n",
       "         [0.21798068],\n",
       "         [0.52993075],\n",
       "         [0.52993075],\n",
       "         [0.45765469],\n",
       "         [0.45765469],\n",
       "         [0.12515822],\n",
       "         [0.12515822],\n",
       "         [0.11245783],\n",
       "         [0.11245783],\n",
       "         [0.37775299],\n",
       "         [0.37775299],\n",
       "         [0.51619322],\n",
       "         [0.51619322],\n",
       "         [0.45129249],\n",
       "         [0.45129249],\n",
       "         [0.06344332],\n",
       "         [0.06344332],\n",
       "         [0.74291114],\n",
       "         [0.74291114],\n",
       "         [0.69506431],\n",
       "         [0.69506431],\n",
       "         [0.22102009],\n",
       "         [0.22102009],\n",
       "         [0.90867111],\n",
       "         [0.90867111],\n",
       "         [0.4632991 ],\n",
       "         [0.4632991 ],\n",
       "         [0.38352455],\n",
       "         [0.38352455],\n",
       "         [0.52811892],\n",
       "         [0.52811892],\n",
       "         [0.3453329 ],\n",
       "         [0.3453329 ],\n",
       "         [0.6633438 ],\n",
       "         [0.6633438 ],\n",
       "         [0.56857839],\n",
       "         [0.56857839],\n",
       "         [0.72846174],\n",
       "         [0.72846174],\n",
       "         [0.25970167],\n",
       "         [0.25970167],\n",
       "         [0.4290631 ],\n",
       "         [0.4290631 ],\n",
       "         [0.25384472],\n",
       "         [0.25384472],\n",
       "         [0.18848085],\n",
       "         [0.18848085],\n",
       "         [0.02636145],\n",
       "         [0.02636145],\n",
       "         [0.04688846],\n",
       "         [0.04688846],\n",
       "         [0.71266037],\n",
       "         [0.71266037],\n",
       "         [0.6736821 ],\n",
       "         [0.6736821 ],\n",
       "         [0.52404217],\n",
       "         [0.52404217],\n",
       "         [0.53708975],\n",
       "         [0.53708975],\n",
       "         [0.55465138],\n",
       "         [0.55465138],\n",
       "         [0.90748332],\n",
       "         [0.90748332],\n",
       "         [0.06475068],\n",
       "         [0.06475068],\n",
       "         [0.27520435],\n",
       "         [0.27520435],\n",
       "         [0.93684827],\n",
       "         [0.93684827],\n",
       "         [0.37229784],\n",
       "         [0.37229784],\n",
       "         [0.95994868],\n",
       "         [0.95994868],\n",
       "         [0.69158407],\n",
       "         [0.69158407],\n",
       "         [0.82599548],\n",
       "         [0.82599548],\n",
       "         [0.99309764],\n",
       "         [0.99309764],\n",
       "         [0.91059973],\n",
       "         [0.91059973],\n",
       "         [0.40154165],\n",
       "         [0.40154165],\n",
       "         [0.06005797],\n",
       "         [0.06005797],\n",
       "         [0.75688042],\n",
       "         [0.75688042],\n",
       "         [0.41734099],\n",
       "         [0.41734099],\n",
       "         [0.95333251],\n",
       "         [0.95333251],\n",
       "         [0.44244875],\n",
       "         [0.44244875],\n",
       "         [0.28933962],\n",
       "         [0.28933962],\n",
       "         [0.20778291],\n",
       "         [0.20778291],\n",
       "         [0.56110268],\n",
       "         [0.56110268],\n",
       "         [0.64296024],\n",
       "         [0.64296024],\n",
       "         [0.7297319 ],\n",
       "         [0.7297319 ],\n",
       "         [0.62464712],\n",
       "         [0.62464712],\n",
       "         [0.30761055],\n",
       "         [0.30761055],\n",
       "         [0.07349671],\n",
       "         [0.07349671],\n",
       "         [0.49382785],\n",
       "         [0.49382785],\n",
       "         [0.25543102],\n",
       "         [0.25543102],\n",
       "         [0.71238544],\n",
       "         [0.71238544],\n",
       "         [0.21075739],\n",
       "         [0.21075739],\n",
       "         [0.65507506],\n",
       "         [0.65507506],\n",
       "         [0.84315625],\n",
       "         [0.84315625]])}}"
      ]
     },
     "execution_count": 12,
     "metadata": {},
     "output_type": "execute_result"
    }
   ],
   "source": [
    "ds = load_by_id(run_id_a)\n",
    "ds.get_parameter_data('x1')"
   ]
  },
  {
   "cell_type": "code",
   "execution_count": null,
   "metadata": {},
   "outputs": [],
   "source": []
  }
 ],
 "metadata": {
  "kernelspec": {
   "display_name": "Python 3",
   "language": "python",
   "name": "python3"
  },
  "language_info": {
   "codemirror_mode": {
    "name": "ipython",
    "version": 3
   },
   "file_extension": ".py",
   "mimetype": "text/x-python",
   "name": "python",
   "nbconvert_exporter": "python",
   "pygments_lexer": "ipython3",
   "version": "3.7.7"
  },
  "nbsphinx": {
   "timeout": 600
  },
  "toc": {
   "base_numbering": 1,
   "nav_menu": {},
   "number_sections": true,
   "sideBar": true,
   "skip_h1_title": false,
   "title_cell": "Table of Contents",
   "title_sidebar": "Contents",
   "toc_cell": false,
   "toc_position": {},
   "toc_section_display": true,
   "toc_window_display": false
  },
  "varInspector": {
   "cols": {
    "lenName": 16,
    "lenType": 16,
    "lenVar": 40
   },
   "kernels_config": {
    "python": {
     "delete_cmd_postfix": "",
     "delete_cmd_prefix": "del ",
     "library": "var_list.py",
     "varRefreshCmd": "print(var_dic_list())"
    },
    "r": {
     "delete_cmd_postfix": ") ",
     "delete_cmd_prefix": "rm(",
     "library": "var_list.r",
     "varRefreshCmd": "cat(var_dic_list()) "
    }
   },
   "types_to_exclude": [
    "module",
    "function",
    "builtin_function_or_method",
    "instance",
    "_Feature"
   ],
   "window_display": false
  }
 },
 "nbformat": 4,
 "nbformat_minor": 2
}
