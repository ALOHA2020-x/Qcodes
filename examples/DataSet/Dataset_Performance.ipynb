{
 "cells": [
  {
   "cell_type": "markdown",
   "metadata": {},
   "source": [
    "# DataSet Performance\n",
    "\n",
    "This notebook shows the trade-off between inserting data into a database row-by-row and as binary blobs. Inserting the data row-by-row means that we have direct access to all the data and may perform queries directly on the values of the data. On the other hand, as we shall see, this is much slower than inserting the data directly as binary blobs."
   ]
  },
  {
   "cell_type": "markdown",
   "metadata": {},
   "source": [
    "First, we choose a new location for the database to ensure that we don't add a bunch of benchmarking data to the default one."
   ]
  },
  {
   "cell_type": "code",
   "execution_count": 1,
   "metadata": {
    "execution": {
     "iopub.execute_input": "2021-03-26T09:41:33.333339Z",
     "iopub.status.busy": "2021-03-26T09:41:33.332666Z",
     "iopub.status.idle": "2021-03-26T09:41:34.484765Z",
     "shell.execute_reply": "2021-03-26T09:41:34.483316Z"
    }
   },
   "outputs": [
    {
     "name": "stdout",
     "output_type": "stream",
     "text": [
      "Logging hadn't been started.\n",
      "Activating auto-logging. Current session state plus future input saved.\n",
      "Filename       : /home/runner/.qcodes/logs/command_history.log\n",
      "Mode           : append\n",
      "Output logging : True\n",
      "Raw input log  : False\n",
      "Timestamping   : True\n",
      "State          : active\n"
     ]
    },
    {
     "name": "stdout",
     "output_type": "stream",
     "text": [
      "Qcodes Logfile : /home/runner/.qcodes/logs/210326-4579-qcodes.log\n"
     ]
    }
   ],
   "source": [
    "import os\n",
    "cwd = os.getcwd()\n",
    "import qcodes as qc\n",
    "qc.config[\"core\"][\"db_location\"] = os.path.join(cwd, 'testing.db')\n"
   ]
  },
  {
   "cell_type": "code",
   "execution_count": 2,
   "metadata": {
    "execution": {
     "iopub.execute_input": "2021-03-26T09:41:34.492388Z",
     "iopub.status.busy": "2021-03-26T09:41:34.490935Z",
     "iopub.status.idle": "2021-03-26T09:41:34.754798Z",
     "shell.execute_reply": "2021-03-26T09:41:34.754112Z"
    }
   },
   "outputs": [],
   "source": [
    "%matplotlib inline\n",
    "import time\n",
    "import matplotlib.pyplot as plt\n",
    "import numpy as np\n",
    "\n",
    "import qcodes as qc\n",
    "from qcodes.instrument.parameter import ManualParameter\n",
    "from qcodes.dataset.experiment_container import (Experiment,\n",
    "                                                 load_last_experiment,\n",
    "                                                 new_experiment)\n",
    "from qcodes.dataset.sqlite.database import initialise_database\n",
    "from qcodes import load_or_create_experiment\n",
    "from qcodes.dataset.measurements import Measurement"
   ]
  },
  {
   "cell_type": "code",
   "execution_count": 3,
   "metadata": {
    "execution": {
     "iopub.execute_input": "2021-03-26T09:41:34.759586Z",
     "iopub.status.busy": "2021-03-26T09:41:34.758822Z",
     "iopub.status.idle": "2021-03-26T09:41:34.841817Z",
     "shell.execute_reply": "2021-03-26T09:41:34.841203Z"
    }
   },
   "outputs": [
    {
     "name": "stdout",
     "output_type": "stream",
     "text": [
      "\r",
      "0it [00:00, ?it/s]"
     ]
    },
    {
     "name": "stdout",
     "output_type": "stream",
     "text": [
      "\r",
      "Upgrading database; v0 -> v1: : 0it [00:00, ?it/s]"
     ]
    },
    {
     "name": "stdout",
     "output_type": "stream",
     "text": [
      "\r",
      "Upgrading database; v0 -> v1: : 0it [00:00, ?it/s]"
     ]
    },
    {
     "name": "stdout",
     "output_type": "stream",
     "text": [
      "\n",
      "\r",
      "  0%|          | 0/1 [00:00<?, ?it/s]"
     ]
    },
    {
     "name": "stdout",
     "output_type": "stream",
     "text": [
      "\r",
      "Upgrading database; v1 -> v2:   0%|          | 0/1 [00:00<?, ?it/s]"
     ]
    },
    {
     "name": "stdout",
     "output_type": "stream",
     "text": [
      "\r",
      "Upgrading database; v1 -> v2: 100%|██████████| 1/1 [00:00<00:00, 419.93it/s]"
     ]
    },
    {
     "name": "stdout",
     "output_type": "stream",
     "text": [
      "\n",
      "\r",
      "0it [00:00, ?it/s]"
     ]
    },
    {
     "name": "stdout",
     "output_type": "stream",
     "text": [
      "\r",
      "Upgrading database; v2 -> v3: : 0it [00:00, ?it/s]"
     ]
    },
    {
     "name": "stdout",
     "output_type": "stream",
     "text": [
      "\r",
      "Upgrading database; v2 -> v3: : 0it [00:00, ?it/s]"
     ]
    },
    {
     "name": "stdout",
     "output_type": "stream",
     "text": [
      "\n",
      "\r",
      "0it [00:00, ?it/s]"
     ]
    },
    {
     "name": "stdout",
     "output_type": "stream",
     "text": [
      "\r",
      "Upgrading database; v3 -> v4: : 0it [00:00, ?it/s]"
     ]
    },
    {
     "name": "stdout",
     "output_type": "stream",
     "text": [
      "\r",
      "Upgrading database; v3 -> v4: : 0it [00:00, ?it/s]"
     ]
    },
    {
     "name": "stdout",
     "output_type": "stream",
     "text": [
      "\n",
      "\r",
      "  0%|          | 0/1 [00:00<?, ?it/s]"
     ]
    },
    {
     "name": "stdout",
     "output_type": "stream",
     "text": [
      "\r",
      "Upgrading database; v4 -> v5:   0%|          | 0/1 [00:00<?, ?it/s]"
     ]
    },
    {
     "name": "stdout",
     "output_type": "stream",
     "text": [
      "\r",
      "Upgrading database; v4 -> v5: 100%|██████████| 1/1 [00:00<00:00, 591.33it/s]"
     ]
    },
    {
     "name": "stdout",
     "output_type": "stream",
     "text": [
      "\n",
      "\r",
      "0it [00:00, ?it/s]"
     ]
    },
    {
     "name": "stdout",
     "output_type": "stream",
     "text": [
      "\r",
      "Upgrading database; v5 -> v6: : 0it [00:00, ?it/s]"
     ]
    },
    {
     "name": "stdout",
     "output_type": "stream",
     "text": [
      "\r",
      "Upgrading database; v5 -> v6: : 0it [00:00, ?it/s]"
     ]
    },
    {
     "name": "stdout",
     "output_type": "stream",
     "text": [
      "\n",
      "\r",
      "  0%|          | 0/1 [00:00<?, ?it/s]"
     ]
    },
    {
     "name": "stdout",
     "output_type": "stream",
     "text": [
      "\r",
      "Upgrading database; v6 -> v7:   0%|          | 0/1 [00:00<?, ?it/s]"
     ]
    },
    {
     "name": "stdout",
     "output_type": "stream",
     "text": [
      "\r",
      "Upgrading database; v6 -> v7: 100%|██████████| 1/1 [00:00<00:00, 297.95it/s]"
     ]
    },
    {
     "name": "stdout",
     "output_type": "stream",
     "text": [
      "\n",
      "\r",
      "  0%|          | 0/1 [00:00<?, ?it/s]"
     ]
    },
    {
     "name": "stdout",
     "output_type": "stream",
     "text": [
      "\r",
      "Upgrading database; v7 -> v8:   0%|          | 0/1 [00:00<?, ?it/s]"
     ]
    },
    {
     "name": "stdout",
     "output_type": "stream",
     "text": [
      "\r",
      "Upgrading database; v7 -> v8: 100%|██████████| 1/1 [00:00<00:00, 458.39it/s]"
     ]
    },
    {
     "name": "stdout",
     "output_type": "stream",
     "text": [
      "\n",
      "\r",
      "  0%|          | 0/1 [00:00<?, ?it/s]"
     ]
    },
    {
     "name": "stdout",
     "output_type": "stream",
     "text": [
      "\r",
      "Upgrading database; v8 -> v9:   0%|          | 0/1 [00:00<?, ?it/s]"
     ]
    },
    {
     "name": "stdout",
     "output_type": "stream",
     "text": [
      "\r",
      "Upgrading database; v8 -> v9: 100%|██████████| 1/1 [00:00<00:00, 397.56it/s]"
     ]
    },
    {
     "name": "stdout",
     "output_type": "stream",
     "text": [
      "\n"
     ]
    }
   ],
   "source": [
    "initialise_database()\n",
    "exp = load_or_create_experiment(experiment_name='tutorial_exp', sample_name=\"no sample\")"
   ]
  },
  {
   "cell_type": "markdown",
   "metadata": {},
   "source": [
    "Here, we define a simple function to benchmark the time it takes to insert n points with either numeric or array data type.\n",
    "We will compare both the time used to call ``add_result`` and the time used for the full measurement."
   ]
  },
  {
   "cell_type": "code",
   "execution_count": 4,
   "metadata": {
    "execution": {
     "iopub.execute_input": "2021-03-26T09:41:34.852010Z",
     "iopub.status.busy": "2021-03-26T09:41:34.851292Z",
     "iopub.status.idle": "2021-03-26T09:41:34.855824Z",
     "shell.execute_reply": "2021-03-26T09:41:34.855222Z"
    }
   },
   "outputs": [],
   "source": [
    "def insert_data(paramtype, npoints, nreps=1):\n",
    "\n",
    "    meas = Measurement(exp=exp)\n",
    "\n",
    "    x1 = ManualParameter('x1')\n",
    "    x2 = ManualParameter('x2')\n",
    "    x3 = ManualParameter('x3')\n",
    "    y1 = ManualParameter('y1')\n",
    "    y2 = ManualParameter('y2')\n",
    "\n",
    "    meas.register_parameter(x1, paramtype=paramtype)\n",
    "    meas.register_parameter(x2, paramtype=paramtype)\n",
    "    meas.register_parameter(x3, paramtype=paramtype)\n",
    "    meas.register_parameter(y1, setpoints=[x1, x2, x3],\n",
    "                            paramtype=paramtype)\n",
    "    meas.register_parameter(y2, setpoints=[x1, x2, x3],\n",
    "                            paramtype=paramtype)\n",
    "    start = time.perf_counter()\n",
    "    with meas.run() as datasaver:\n",
    "        start_adding = time.perf_counter()\n",
    "        for i in range(nreps):\n",
    "            datasaver.add_result((x1, np.random.rand(npoints)),\n",
    "                                 (x2, np.random.rand(npoints)),\n",
    "                                 (x3, np.random.rand(npoints)),\n",
    "                                 (y1, np.random.rand(npoints)),\n",
    "                                 (y2, np.random.rand(npoints)))\n",
    "        stop_adding = time.perf_counter()\n",
    "        run_id = datasaver.run_id\n",
    "    stop = time.perf_counter()\n",
    "    tot_time = stop - start\n",
    "    add_time = stop_adding - start_adding\n",
    "    return tot_time, add_time, run_id"
   ]
  },
  {
   "cell_type": "markdown",
   "metadata": {},
   "source": [
    "## Comparison between numeric/array data and binary blob"
   ]
  },
  {
   "cell_type": "markdown",
   "metadata": {},
   "source": [
    "### Case1: Short experiment time"
   ]
  },
  {
   "cell_type": "code",
   "execution_count": 5,
   "metadata": {
    "execution": {
     "iopub.execute_input": "2021-03-26T09:41:34.863618Z",
     "iopub.status.busy": "2021-03-26T09:41:34.860712Z",
     "iopub.status.idle": "2021-03-26T09:41:35.720421Z",
     "shell.execute_reply": "2021-03-26T09:41:35.721190Z"
    }
   },
   "outputs": [
    {
     "name": "stdout",
     "output_type": "stream",
     "text": [
      "Starting experimental run with id: 1. \n",
      "Starting experimental run with id: 2. \n",
      "Starting experimental run with id: 3. \n",
      "Starting experimental run with id: 4. \n",
      "Starting experimental run with id: 5. \n"
     ]
    },
    {
     "name": "stdout",
     "output_type": "stream",
     "text": [
      "Starting experimental run with id: 6. \n"
     ]
    },
    {
     "name": "stdout",
     "output_type": "stream",
     "text": [
      "Starting experimental run with id: 7. \n"
     ]
    },
    {
     "name": "stdout",
     "output_type": "stream",
     "text": [
      "Starting experimental run with id: 8. \n",
      "Starting experimental run with id: 9. \n"
     ]
    },
    {
     "name": "stdout",
     "output_type": "stream",
     "text": [
      "Starting experimental run with id: 10. \n",
      "Starting experimental run with id: 11. \n"
     ]
    },
    {
     "name": "stdout",
     "output_type": "stream",
     "text": [
      "Starting experimental run with id: 12. \n",
      "Starting experimental run with id: 13. \n"
     ]
    },
    {
     "name": "stdout",
     "output_type": "stream",
     "text": [
      "Starting experimental run with id: 14. \n"
     ]
    }
   ],
   "source": [
    "sizes = [1,500,1000,2000,3000,4000,5000]\n",
    "t_numeric = []\n",
    "t_numeric_add = []\n",
    "t_array = []\n",
    "t_array_add = []\n",
    "for size in sizes:\n",
    "    tn, tna, run_id_n =  insert_data('numeric', size)\n",
    "    t_numeric.append(tn)\n",
    "    t_numeric_add.append(tna)\n",
    "\n",
    "    ta, taa, run_id_a =  insert_data('array', size)\n",
    "    t_array.append(ta)\n",
    "    t_array_add.append(taa)"
   ]
  },
  {
   "cell_type": "code",
   "execution_count": 6,
   "metadata": {
    "execution": {
     "iopub.execute_input": "2021-03-26T09:41:35.749318Z",
     "iopub.status.busy": "2021-03-26T09:41:35.743148Z",
     "iopub.status.idle": "2021-03-26T09:41:36.031686Z",
     "shell.execute_reply": "2021-03-26T09:41:36.032443Z"
    }
   },
   "outputs": [
    {
     "data": {
      "image/png": "[encoded data removed]",
      "text/plain": [
       "<Figure size 432x288 with 1 Axes>"
      ]
     },
     "metadata": {
      "needs_background": "light"
     },
     "output_type": "display_data"
    }
   ],
   "source": [
    "fig, ax = plt.subplots(1,1)\n",
    "ax.plot(sizes, t_numeric, 'o-', label='Inserting row-by-row')\n",
    "ax.plot(sizes, t_numeric_add, 'o-', label='Inserting row-by-row: add_result only')\n",
    "ax.plot(sizes, t_array, 'd-', label='Inserting as binary blob')\n",
    "ax.plot(sizes, t_array_add, 'd-', label='Inserting as binary blob: add_result only')\n",
    "ax.legend()\n",
    "ax.set_xlabel('Array length')\n",
    "ax.set_ylabel('Time (s)')\n",
    "fig.tight_layout()"
   ]
  },
  {
   "cell_type": "markdown",
   "metadata": {},
   "source": [
    "As shown in the latter figure, the time to setup and and close the experiment is approximately 0.4 sec. In case of small array sizes, the difference between inserting values of data as arrays and inserting them row-by-row is relatively unimportant. At larger array sizes, i.e. above 10000 points, the cost of writing data as individual datapoints starts to become important.\n"
   ]
  },
  {
   "cell_type": "markdown",
   "metadata": {},
   "source": [
    "### Case2: Long experiment time "
   ]
  },
  {
   "cell_type": "code",
   "execution_count": 7,
   "metadata": {
    "execution": {
     "iopub.execute_input": "2021-03-26T09:41:36.042541Z",
     "iopub.status.busy": "2021-03-26T09:41:36.041169Z",
     "iopub.status.idle": "2021-03-26T09:42:38.469426Z",
     "shell.execute_reply": "2021-03-26T09:42:38.468419Z"
    }
   },
   "outputs": [
    {
     "name": "stdout",
     "output_type": "stream",
     "text": [
      "Starting experimental run with id: 15. \n",
      "Starting experimental run with id: 16. \n"
     ]
    },
    {
     "name": "stdout",
     "output_type": "stream",
     "text": [
      "Starting experimental run with id: 17. \n"
     ]
    },
    {
     "name": "stdout",
     "output_type": "stream",
     "text": [
      "Starting experimental run with id: 18. \n"
     ]
    },
    {
     "name": "stdout",
     "output_type": "stream",
     "text": [
      "Starting experimental run with id: 19. \n"
     ]
    },
    {
     "name": "stdout",
     "output_type": "stream",
     "text": [
      "Starting experimental run with id: 20. \n"
     ]
    },
    {
     "name": "stdout",
     "output_type": "stream",
     "text": [
      "Starting experimental run with id: 21. \n"
     ]
    },
    {
     "name": "stdout",
     "output_type": "stream",
     "text": [
      "Starting experimental run with id: 22. \n"
     ]
    },
    {
     "name": "stdout",
     "output_type": "stream",
     "text": [
      "Starting experimental run with id: 23. \n"
     ]
    },
    {
     "name": "stdout",
     "output_type": "stream",
     "text": [
      "Starting experimental run with id: 24. \n"
     ]
    },
    {
     "name": "stdout",
     "output_type": "stream",
     "text": [
      "Starting experimental run with id: 25. \n"
     ]
    },
    {
     "name": "stdout",
     "output_type": "stream",
     "text": [
      "Starting experimental run with id: 26. \n"
     ]
    },
    {
     "name": "stdout",
     "output_type": "stream",
     "text": [
      "Starting experimental run with id: 27. \n"
     ]
    },
    {
     "name": "stdout",
     "output_type": "stream",
     "text": [
      "Starting experimental run with id: 28. \n"
     ]
    }
   ],
   "source": [
    "sizes = [1,500,1000,2000,3000,4000,5000]\n",
    "nreps = 100\n",
    "t_numeric = []\n",
    "t_numeric_add = []\n",
    "t_numeric_run_ids = []\n",
    "t_array = []\n",
    "t_array_add = []\n",
    "t_array_run_ids = []\n",
    "for size in sizes:\n",
    "    tn, tna, run_id_n =  insert_data('numeric', size, nreps=nreps)\n",
    "    t_numeric.append(tn)\n",
    "    t_numeric_add.append(tna)\n",
    "    t_numeric_run_ids.append(run_id_n)\n",
    "\n",
    "    ta, taa, run_id_a =  insert_data('array', size, nreps=nreps)\n",
    "    t_array.append(ta)\n",
    "    t_array_add.append(taa)\n",
    "    t_array_run_ids.append(run_id_a)"
   ]
  },
  {
   "cell_type": "code",
   "execution_count": 8,
   "metadata": {
    "execution": {
     "iopub.execute_input": "2021-03-26T09:42:38.501074Z",
     "iopub.status.busy": "2021-03-26T09:42:38.492047Z",
     "iopub.status.idle": "2021-03-26T09:42:38.749194Z",
     "shell.execute_reply": "2021-03-26T09:42:38.749835Z"
    },
    "scrolled": true
   },
   "outputs": [
    {
     "data": {
      "image/png": "[encoded data removed]",
      "text/plain": [
       "<Figure size 432x288 with 1 Axes>"
      ]
     },
     "metadata": {
      "needs_background": "light"
     },
     "output_type": "display_data"
    }
   ],
   "source": [
    "fig, ax = plt.subplots(1,1)\n",
    "ax.plot(sizes, t_numeric, 'o-', label='Inserting row-by-row')\n",
    "ax.plot(sizes, t_numeric_add, 'o-', label='Inserting row-by-row: add_result only')\n",
    "ax.plot(sizes, t_array, 'd-', label='Inserting as binary blob')\n",
    "ax.plot(sizes, t_array_add, 'd-', label='Inserting as binary blob: add_result only')\n",
    "ax.legend()\n",
    "ax.set_xlabel('Array length')\n",
    "ax.set_ylabel('Time (s)')\n",
    "fig.tight_layout()"
   ]
  },
  {
   "cell_type": "markdown",
   "metadata": {},
   "source": [
    "However, as we increase the length of the experiment, as seen here by repeating the insertion 100 times, we see a big difference between inserting values of the data row-by-row and inserting it as a binary blob."
   ]
  },
  {
   "cell_type": "markdown",
   "metadata": {},
   "source": [
    "## Loading the data "
   ]
  },
  {
   "cell_type": "code",
   "execution_count": 9,
   "metadata": {
    "execution": {
     "iopub.execute_input": "2021-03-26T09:42:38.755344Z",
     "iopub.status.busy": "2021-03-26T09:42:38.753542Z",
     "iopub.status.idle": "2021-03-26T09:42:38.758256Z",
     "shell.execute_reply": "2021-03-26T09:42:38.757688Z"
    }
   },
   "outputs": [],
   "source": [
    "from qcodes.dataset.data_set import load_by_id\n",
    "from qcodes.dataset.data_export import get_data_by_id"
   ]
  },
  {
   "cell_type": "markdown",
   "metadata": {},
   "source": [
    "As usual you can load the data by using the ``load_by_id`` function but you will notice that the different storage methods\n",
    "are reflected in shape of the data as it is retrieved. "
   ]
  },
  {
   "cell_type": "code",
   "execution_count": 10,
   "metadata": {
    "execution": {
     "iopub.execute_input": "2021-03-26T09:42:38.763813Z",
     "iopub.status.busy": "2021-03-26T09:42:38.762324Z",
     "iopub.status.idle": "2021-03-26T09:42:38.764589Z",
     "shell.execute_reply": "2021-03-26T09:42:38.765138Z"
    }
   },
   "outputs": [],
   "source": [
    "run_id_n = t_numeric_run_ids[0]\n",
    "run_id_a = t_array_run_ids[0]"
   ]
  },
  {
   "cell_type": "code",
   "execution_count": 11,
   "metadata": {
    "execution": {
     "iopub.execute_input": "2021-03-26T09:42:38.769072Z",
     "iopub.status.busy": "2021-03-26T09:42:38.768421Z",
     "iopub.status.idle": "2021-03-26T09:42:38.780537Z",
     "shell.execute_reply": "2021-03-26T09:42:38.781164Z"
    },
    "scrolled": true
   },
   "outputs": [
    {
     "data": {
      "text/plain": [
       "{'x1': {'x1': array([0.96657243, 0.96657243, 0.98219854, 0.98219854, 0.92302197,\n",
       "         0.92302197, 0.52826227, 0.52826227, 0.22681317, 0.22681317,\n",
       "         0.52744792, 0.52744792, 0.41311507, 0.41311507, 0.81740174,\n",
       "         0.81740174, 0.0716187 , 0.0716187 , 0.37455281, 0.37455281,\n",
       "         0.85995711, 0.85995711, 0.69738918, 0.69738918, 0.16292483,\n",
       "         0.16292483, 0.44956886, 0.44956886, 0.59597639, 0.59597639,\n",
       "         0.31390508, 0.31390508, 0.9292015 , 0.9292015 , 0.626448  ,\n",
       "         0.626448  , 0.46801116, 0.46801116, 0.60759566, 0.60759566,\n",
       "         0.55531289, 0.55531289, 0.8927634 , 0.8927634 , 0.30380645,\n",
       "         0.30380645, 0.63139968, 0.63139968, 0.68032045, 0.68032045,\n",
       "         0.86739918, 0.86739918, 0.43567617, 0.43567617, 0.55289781,\n",
       "         0.55289781, 0.69413955, 0.69413955, 0.16053731, 0.16053731,\n",
       "         0.42410644, 0.42410644, 0.09570603, 0.09570603, 0.9240053 ,\n",
       "         0.9240053 , 0.48036215, 0.48036215, 0.07568106, 0.07568106,\n",
       "         0.26678936, 0.26678936, 0.3498702 , 0.3498702 , 0.98756989,\n",
       "         0.98756989, 0.22953133, 0.22953133, 0.26317119, 0.26317119,\n",
       "         0.55835771, 0.55835771, 0.84875855, 0.84875855, 0.25865548,\n",
       "         0.25865548, 0.87177541, 0.87177541, 0.86161551, 0.86161551,\n",
       "         0.50027558, 0.50027558, 0.42441779, 0.42441779, 0.99679139,\n",
       "         0.99679139, 0.81212815, 0.81212815, 0.31855582, 0.31855582,\n",
       "         0.63598387, 0.63598387, 0.77436207, 0.77436207, 0.54694999,\n",
       "         0.54694999, 0.48189037, 0.48189037, 0.83234523, 0.83234523,\n",
       "         0.03304769, 0.03304769, 0.24304012, 0.24304012, 0.92554272,\n",
       "         0.92554272, 0.37469301, 0.37469301, 0.14082504, 0.14082504,\n",
       "         0.20109735, 0.20109735, 0.06499485, 0.06499485, 0.25037394,\n",
       "         0.25037394, 0.5159138 , 0.5159138 , 0.84482   , 0.84482   ,\n",
       "         0.28745987, 0.28745987, 0.85548457, 0.85548457, 0.72706929,\n",
       "         0.72706929, 0.40862506, 0.40862506, 0.78721354, 0.78721354,\n",
       "         0.22116509, 0.22116509, 0.17914384, 0.17914384, 0.43529117,\n",
       "         0.43529117, 0.62957074, 0.62957074, 0.77656887, 0.77656887,\n",
       "         0.16049295, 0.16049295, 0.74490838, 0.74490838, 0.53444367,\n",
       "         0.53444367, 0.62135837, 0.62135837, 0.28962412, 0.28962412,\n",
       "         0.07309884, 0.07309884, 0.16686314, 0.16686314, 0.0996553 ,\n",
       "         0.0996553 , 0.38006868, 0.38006868, 0.27946652, 0.27946652,\n",
       "         0.48608918, 0.48608918, 0.96859671, 0.96859671, 0.20305143,\n",
       "         0.20305143, 0.82041224, 0.82041224, 0.19135738, 0.19135738,\n",
       "         0.43132816, 0.43132816, 0.41061564, 0.41061564, 0.21247344,\n",
       "         0.21247344, 0.37482993, 0.37482993, 0.3244106 , 0.3244106 ,\n",
       "         0.42230962, 0.42230962, 0.23719808, 0.23719808, 0.17610929,\n",
       "         0.17610929, 0.67258196, 0.67258196, 0.15345667, 0.15345667])}}"
      ]
     },
     "execution_count": 1,
     "metadata": {},
     "output_type": "execute_result"
    }
   ],
   "source": [
    "ds = load_by_id(run_id_n)\n",
    "ds.get_parameter_data('x1')"
   ]
  },
  {
   "cell_type": "markdown",
   "metadata": {},
   "source": [
    "And a dataset stored as binary arrays"
   ]
  },
  {
   "cell_type": "code",
   "execution_count": 12,
   "metadata": {
    "execution": {
     "iopub.execute_input": "2021-03-26T09:42:38.785287Z",
     "iopub.status.busy": "2021-03-26T09:42:38.784597Z",
     "iopub.status.idle": "2021-03-26T09:42:38.857182Z",
     "shell.execute_reply": "2021-03-26T09:42:38.857742Z"
    },
    "scrolled": true
   },
   "outputs": [
    {
     "data": {
      "text/plain": [
       "{'x1': {'x1': array([[0.74849916],\n",
       "         [0.74849916],\n",
       "         [0.00821872],\n",
       "         [0.00821872],\n",
       "         [0.0980254 ],\n",
       "         [0.0980254 ],\n",
       "         [0.37094768],\n",
       "         [0.37094768],\n",
       "         [0.38694006],\n",
       "         [0.38694006],\n",
       "         [0.58184404],\n",
       "         [0.58184404],\n",
       "         [0.85501438],\n",
       "         [0.85501438],\n",
       "         [0.61123134],\n",
       "         [0.61123134],\n",
       "         [0.53267335],\n",
       "         [0.53267335],\n",
       "         [0.11024359],\n",
       "         [0.11024359],\n",
       "         [0.23133386],\n",
       "         [0.23133386],\n",
       "         [0.67501287],\n",
       "         [0.67501287],\n",
       "         [0.3141994 ],\n",
       "         [0.3141994 ],\n",
       "         [0.17603208],\n",
       "         [0.17603208],\n",
       "         [0.28494414],\n",
       "         [0.28494414],\n",
       "         [0.23477737],\n",
       "         [0.23477737],\n",
       "         [0.49374773],\n",
       "         [0.49374773],\n",
       "         [0.09967762],\n",
       "         [0.09967762],\n",
       "         [0.28029999],\n",
       "         [0.28029999],\n",
       "         [0.98803438],\n",
       "         [0.98803438],\n",
       "         [0.67871919],\n",
       "         [0.67871919],\n",
       "         [0.05660856],\n",
       "         [0.05660856],\n",
       "         [0.13566503],\n",
       "         [0.13566503],\n",
       "         [0.73989894],\n",
       "         [0.73989894],\n",
       "         [0.5415509 ],\n",
       "         [0.5415509 ],\n",
       "         [0.64685803],\n",
       "         [0.64685803],\n",
       "         [0.37544336],\n",
       "         [0.37544336],\n",
       "         [0.5000556 ],\n",
       "         [0.5000556 ],\n",
       "         [0.32595803],\n",
       "         [0.32595803],\n",
       "         [0.32874086],\n",
       "         [0.32874086],\n",
       "         [0.15160257],\n",
       "         [0.15160257],\n",
       "         [0.47189292],\n",
       "         [0.47189292],\n",
       "         [0.79001222],\n",
       "         [0.79001222],\n",
       "         [0.59668264],\n",
       "         [0.59668264],\n",
       "         [0.73581376],\n",
       "         [0.73581376],\n",
       "         [0.83492963],\n",
       "         [0.83492963],\n",
       "         [0.89969626],\n",
       "         [0.89969626],\n",
       "         [0.74124593],\n",
       "         [0.74124593],\n",
       "         [0.32426013],\n",
       "         [0.32426013],\n",
       "         [0.83759525],\n",
       "         [0.83759525],\n",
       "         [0.6146608 ],\n",
       "         [0.6146608 ],\n",
       "         [0.66520142],\n",
       "         [0.66520142],\n",
       "         [0.33745261],\n",
       "         [0.33745261],\n",
       "         [0.41202127],\n",
       "         [0.41202127],\n",
       "         [0.01834498],\n",
       "         [0.01834498],\n",
       "         [0.40230168],\n",
       "         [0.40230168],\n",
       "         [0.83540144],\n",
       "         [0.83540144],\n",
       "         [0.99867736],\n",
       "         [0.99867736],\n",
       "         [0.13698122],\n",
       "         [0.13698122],\n",
       "         [0.30942089],\n",
       "         [0.30942089],\n",
       "         [0.28384386],\n",
       "         [0.28384386],\n",
       "         [0.07918485],\n",
       "         [0.07918485],\n",
       "         [0.85689007],\n",
       "         [0.85689007],\n",
       "         [0.46768477],\n",
       "         [0.46768477],\n",
       "         [0.63533438],\n",
       "         [0.63533438],\n",
       "         [0.49391048],\n",
       "         [0.49391048],\n",
       "         [0.75747506],\n",
       "         [0.75747506],\n",
       "         [0.25780763],\n",
       "         [0.25780763],\n",
       "         [0.30506827],\n",
       "         [0.30506827],\n",
       "         [0.66363686],\n",
       "         [0.66363686],\n",
       "         [0.98802325],\n",
       "         [0.98802325],\n",
       "         [0.30602001],\n",
       "         [0.30602001],\n",
       "         [0.39699195],\n",
       "         [0.39699195],\n",
       "         [0.8327921 ],\n",
       "         [0.8327921 ],\n",
       "         [0.60205971],\n",
       "         [0.60205971],\n",
       "         [0.9169762 ],\n",
       "         [0.9169762 ],\n",
       "         [0.61117822],\n",
       "         [0.61117822],\n",
       "         [0.03622192],\n",
       "         [0.03622192],\n",
       "         [0.41523605],\n",
       "         [0.41523605],\n",
       "         [0.4148897 ],\n",
       "         [0.4148897 ],\n",
       "         [0.17913325],\n",
       "         [0.17913325],\n",
       "         [0.34090109],\n",
       "         [0.34090109],\n",
       "         [0.16874157],\n",
       "         [0.16874157],\n",
       "         [0.98071072],\n",
       "         [0.98071072],\n",
       "         [0.78987331],\n",
       "         [0.78987331],\n",
       "         [0.45450533],\n",
       "         [0.45450533],\n",
       "         [0.33988544],\n",
       "         [0.33988544],\n",
       "         [0.22838137],\n",
       "         [0.22838137],\n",
       "         [0.00144389],\n",
       "         [0.00144389],\n",
       "         [0.05038493],\n",
       "         [0.05038493],\n",
       "         [0.62663003],\n",
       "         [0.62663003],\n",
       "         [0.25261042],\n",
       "         [0.25261042],\n",
       "         [0.48977403],\n",
       "         [0.48977403],\n",
       "         [0.51598527],\n",
       "         [0.51598527],\n",
       "         [0.63262471],\n",
       "         [0.63262471],\n",
       "         [0.11985036],\n",
       "         [0.11985036],\n",
       "         [0.42266993],\n",
       "         [0.42266993],\n",
       "         [0.35649227],\n",
       "         [0.35649227],\n",
       "         [0.4299383 ],\n",
       "         [0.4299383 ],\n",
       "         [0.01441914],\n",
       "         [0.01441914],\n",
       "         [0.07408239],\n",
       "         [0.07408239],\n",
       "         [0.50734846],\n",
       "         [0.50734846],\n",
       "         [0.83637369],\n",
       "         [0.83637369],\n",
       "         [0.79416885],\n",
       "         [0.79416885],\n",
       "         [0.9390922 ],\n",
       "         [0.9390922 ],\n",
       "         [0.06978466],\n",
       "         [0.06978466],\n",
       "         [0.29629245],\n",
       "         [0.29629245],\n",
       "         [0.5455788 ],\n",
       "         [0.5455788 ],\n",
       "         [0.61710212],\n",
       "         [0.61710212],\n",
       "         [0.5192428 ],\n",
       "         [0.5192428 ]])}}"
      ]
     },
     "execution_count": 1,
     "metadata": {},
     "output_type": "execute_result"
    }
   ],
   "source": [
    "ds = load_by_id(run_id_a)\n",
    "ds.get_parameter_data('x1')"
   ]
  },
  {
   "cell_type": "code",
   "execution_count": null,
   "metadata": {},
   "outputs": [],
   "source": []
  }
 ],
 "metadata": {
  "kernelspec": {
   "display_name": "Python 3",
   "language": "python",
   "name": "python3"
  },
  "language_info": {
   "codemirror_mode": {
    "name": "ipython",
    "version": 3
   },
   "file_extension": ".py",
   "mimetype": "text/x-python",
   "name": "python",
   "nbconvert_exporter": "python",
   "pygments_lexer": "ipython3",
   "version": "3.7.10"
  },
  "nbsphinx": {
   "timeout": 600
  },
  "toc": {
   "base_numbering": 1,
   "nav_menu": {},
   "number_sections": true,
   "sideBar": true,
   "skip_h1_title": false,
   "title_cell": "Table of Contents",
   "title_sidebar": "Contents",
   "toc_cell": false,
   "toc_position": {},
   "toc_section_display": true,
   "toc_window_display": false
  },
  "varInspector": {
   "cols": {
    "lenName": 16,
    "lenType": 16,
    "lenVar": 40
   },
   "kernels_config": {
    "python": {
     "delete_cmd_postfix": "",
     "delete_cmd_prefix": "del ",
     "library": "var_list.py",
     "varRefreshCmd": "print(var_dic_list())"
    },
    "r": {
     "delete_cmd_postfix": ") ",
     "delete_cmd_prefix": "rm(",
     "library": "var_list.r",
     "varRefreshCmd": "cat(var_dic_list()) "
    }
   },
   "types_to_exclude": [
    "module",
    "function",
    "builtin_function_or_method",
    "instance",
    "_Feature"
   ],
   "window_display": false
  }
 },
 "nbformat": 4,
 "nbformat_minor": 2
}
