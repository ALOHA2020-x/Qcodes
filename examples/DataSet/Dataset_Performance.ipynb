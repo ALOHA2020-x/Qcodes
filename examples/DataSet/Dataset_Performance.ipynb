{
 "cells": [
  {
   "cell_type": "markdown",
   "metadata": {},
   "source": [
    "# DataSet Performance\n",
    "\n",
    "This notebook shows the trade-off between inserting data into a database row-by-row and as binary blobs. Inserting the data row-by-row means that we have direct access to all the data and may perform queries directly on the values of the data. On the other hand, as we shall see, this is much slower than inserting the data directly as binary blobs."
   ]
  },
  {
   "cell_type": "markdown",
   "metadata": {},
   "source": [
    "First, we choose a new location for the database to ensure that we don't add a bunch of benchmarking data to the default one."
   ]
  },
  {
   "cell_type": "code",
   "execution_count": 1,
   "metadata": {
    "execution": {
     "iopub.execute_input": "2020-11-05T06:56:47.567783Z",
     "iopub.status.busy": "2020-11-05T06:56:47.567085Z",
     "iopub.status.idle": "2020-11-05T06:56:48.416892Z",
     "shell.execute_reply": "2020-11-05T06:56:48.416314Z"
    }
   },
   "outputs": [
    {
     "name": "stdout",
     "output_type": "stream",
     "text": [
      "Logging hadn't been started.\n",
      "Activating auto-logging. Current session state plus future input saved.\n",
      "Filename       : /home/vsts/.qcodes/logs/command_history.log\n",
      "Mode           : append\n",
      "Output logging : True\n",
      "Raw input log  : False\n",
      "Timestamping   : True\n",
      "State          : active\n"
     ]
    },
    {
     "name": "stdout",
     "output_type": "stream",
     "text": [
      "Qcodes Logfile : /home/vsts/.qcodes/logs/201105-14425-qcodes.log\n"
     ]
    }
   ],
   "source": [
    "import os\n",
    "cwd = os.getcwd()\n",
    "import qcodes as qc\n",
    "qc.config[\"core\"][\"db_location\"] = os.path.join(cwd, 'testing.db')\n"
   ]
  },
  {
   "cell_type": "code",
   "execution_count": 2,
   "metadata": {
    "execution": {
     "iopub.execute_input": "2020-11-05T06:56:48.423040Z",
     "iopub.status.busy": "2020-11-05T06:56:48.421692Z",
     "iopub.status.idle": "2020-11-05T06:56:48.584701Z",
     "shell.execute_reply": "2020-11-05T06:56:48.583880Z"
    }
   },
   "outputs": [],
   "source": [
    "%matplotlib inline\n",
    "import time\n",
    "import matplotlib.pyplot as plt\n",
    "import numpy as np\n",
    "\n",
    "import qcodes as qc\n",
    "from qcodes.instrument.parameter import ManualParameter\n",
    "from qcodes.dataset.experiment_container import (Experiment,\n",
    "                                                 load_last_experiment,\n",
    "                                                 new_experiment)\n",
    "from qcodes.dataset.sqlite.database import initialise_database\n",
    "from qcodes import load_or_create_experiment\n",
    "from qcodes.dataset.measurements import Measurement"
   ]
  },
  {
   "cell_type": "code",
   "execution_count": 3,
   "metadata": {
    "execution": {
     "iopub.execute_input": "2020-11-05T06:56:48.588115Z",
     "iopub.status.busy": "2020-11-05T06:56:48.587574Z",
     "iopub.status.idle": "2020-11-05T06:56:48.672011Z",
     "shell.execute_reply": "2020-11-05T06:56:48.671526Z"
    }
   },
   "outputs": [
    {
     "name": "stdout",
     "output_type": "stream",
     "text": [
      "\r",
      "0it [00:00, ?it/s]"
     ]
    },
    {
     "name": "stdout",
     "output_type": "stream",
     "text": [
      "\r",
      "Upgrading database; v0 -> v1: : 0it [00:00, ?it/s]"
     ]
    },
    {
     "name": "stdout",
     "output_type": "stream",
     "text": [
      "\r",
      "Upgrading database; v0 -> v1: : 0it [00:00, ?it/s]"
     ]
    },
    {
     "name": "stdout",
     "output_type": "stream",
     "text": [
      "\n",
      "\r",
      "  0%|          | 0/1 [00:00<?, ?it/s]"
     ]
    },
    {
     "name": "stdout",
     "output_type": "stream",
     "text": [
      "\r",
      "Upgrading database; v1 -> v2:   0%|          | 0/1 [00:00<?, ?it/s]"
     ]
    },
    {
     "name": "stdout",
     "output_type": "stream",
     "text": [
      "\r",
      "Upgrading database; v1 -> v2: 100%|██████████| 1/1 [00:00<00:00, 979.52it/s]"
     ]
    },
    {
     "name": "stdout",
     "output_type": "stream",
     "text": [
      "\n",
      "\r",
      "0it [00:00, ?it/s]"
     ]
    },
    {
     "name": "stdout",
     "output_type": "stream",
     "text": [
      "\r",
      "Upgrading database; v2 -> v3: : 0it [00:00, ?it/s]"
     ]
    },
    {
     "name": "stdout",
     "output_type": "stream",
     "text": [
      "\r",
      "Upgrading database; v2 -> v3: : 0it [00:00, ?it/s]"
     ]
    },
    {
     "name": "stdout",
     "output_type": "stream",
     "text": [
      "\n",
      "\r",
      "0it [00:00, ?it/s]"
     ]
    },
    {
     "name": "stdout",
     "output_type": "stream",
     "text": [
      "\r",
      "Upgrading database; v3 -> v4: : 0it [00:00, ?it/s]"
     ]
    },
    {
     "name": "stdout",
     "output_type": "stream",
     "text": [
      "\r",
      "Upgrading database; v3 -> v4: : 0it [00:00, ?it/s]"
     ]
    },
    {
     "name": "stdout",
     "output_type": "stream",
     "text": [
      "\n",
      "\r",
      "  0%|          | 0/1 [00:00<?, ?it/s]"
     ]
    },
    {
     "name": "stdout",
     "output_type": "stream",
     "text": [
      "\r",
      "Upgrading database; v4 -> v5:   0%|          | 0/1 [00:00<?, ?it/s]"
     ]
    },
    {
     "name": "stdout",
     "output_type": "stream",
     "text": [
      "\r",
      "Upgrading database; v4 -> v5: 100%|██████████| 1/1 [00:00<00:00, 614.19it/s]"
     ]
    },
    {
     "name": "stdout",
     "output_type": "stream",
     "text": [
      "\n",
      "\r",
      "0it [00:00, ?it/s]"
     ]
    },
    {
     "name": "stdout",
     "output_type": "stream",
     "text": [
      "\r",
      "Upgrading database; v5 -> v6: : 0it [00:00, ?it/s]"
     ]
    },
    {
     "name": "stdout",
     "output_type": "stream",
     "text": [
      "\r",
      "Upgrading database; v5 -> v6: : 0it [00:00, ?it/s]"
     ]
    },
    {
     "name": "stdout",
     "output_type": "stream",
     "text": [
      "\n",
      "\r",
      "  0%|          | 0/1 [00:00<?, ?it/s]"
     ]
    },
    {
     "name": "stdout",
     "output_type": "stream",
     "text": [
      "\r",
      "Upgrading database; v6 -> v7:   0%|          | 0/1 [00:00<?, ?it/s]"
     ]
    },
    {
     "name": "stdout",
     "output_type": "stream",
     "text": [
      "\r",
      "Upgrading database; v6 -> v7: 100%|██████████| 1/1 [00:00<00:00, 584.25it/s]"
     ]
    },
    {
     "name": "stdout",
     "output_type": "stream",
     "text": [
      "\n",
      "\r",
      "  0%|          | 0/1 [00:00<?, ?it/s]"
     ]
    },
    {
     "name": "stdout",
     "output_type": "stream",
     "text": [
      "\r",
      "Upgrading database; v7 -> v8:   0%|          | 0/1 [00:00<?, ?it/s]"
     ]
    },
    {
     "name": "stdout",
     "output_type": "stream",
     "text": [
      "\r",
      "Upgrading database; v7 -> v8: 100%|██████████| 1/1 [00:00<00:00, 1034.86it/s]"
     ]
    },
    {
     "name": "stdout",
     "output_type": "stream",
     "text": [
      "\n",
      "\r",
      "  0%|          | 0/1 [00:00<?, ?it/s]"
     ]
    },
    {
     "name": "stdout",
     "output_type": "stream",
     "text": [
      "\r",
      "Upgrading database; v8 -> v9:   0%|          | 0/1 [00:00<?, ?it/s]"
     ]
    },
    {
     "name": "stdout",
     "output_type": "stream",
     "text": [
      "\r",
      "Upgrading database; v8 -> v9: 100%|██████████| 1/1 [00:00<00:00, 988.52it/s]"
     ]
    },
    {
     "name": "stdout",
     "output_type": "stream",
     "text": [
      "\n"
     ]
    }
   ],
   "source": [
    "initialise_database()\n",
    "exp = load_or_create_experiment(experiment_name='tutorial_exp', sample_name=\"no sample\")"
   ]
  },
  {
   "cell_type": "markdown",
   "metadata": {},
   "source": [
    "Here, we define a simple function to benchmark the time it takes to insert n points with either numeric or array data type.\n",
    "We will compare both the time used to call ``add_result`` and the time used for the full measurement."
   ]
  },
  {
   "cell_type": "code",
   "execution_count": 4,
   "metadata": {
    "execution": {
     "iopub.execute_input": "2020-11-05T06:56:48.679572Z",
     "iopub.status.busy": "2020-11-05T06:56:48.678517Z",
     "iopub.status.idle": "2020-11-05T06:56:48.680109Z",
     "shell.execute_reply": "2020-11-05T06:56:48.680496Z"
    }
   },
   "outputs": [],
   "source": [
    "def insert_data(paramtype, npoints, nreps=1):\n",
    "\n",
    "    meas = Measurement(exp=exp)\n",
    "\n",
    "    x1 = ManualParameter('x1')\n",
    "    x2 = ManualParameter('x2')\n",
    "    x3 = ManualParameter('x3')\n",
    "    y1 = ManualParameter('y1')\n",
    "    y2 = ManualParameter('y2')\n",
    "\n",
    "    meas.register_parameter(x1, paramtype=paramtype)\n",
    "    meas.register_parameter(x2, paramtype=paramtype)\n",
    "    meas.register_parameter(x3, paramtype=paramtype)\n",
    "    meas.register_parameter(y1, setpoints=[x1, x2, x3],\n",
    "                            paramtype=paramtype)\n",
    "    meas.register_parameter(y2, setpoints=[x1, x2, x3],\n",
    "                            paramtype=paramtype)\n",
    "    start = time.perf_counter()\n",
    "    with meas.run() as datasaver:\n",
    "        start_adding = time.perf_counter()\n",
    "        for i in range(nreps):\n",
    "            datasaver.add_result((x1, np.random.rand(npoints)),\n",
    "                                 (x2, np.random.rand(npoints)),\n",
    "                                 (x3, np.random.rand(npoints)),\n",
    "                                 (y1, np.random.rand(npoints)),\n",
    "                                 (y2, np.random.rand(npoints)))\n",
    "        stop_adding = time.perf_counter()\n",
    "        run_id = datasaver.run_id\n",
    "    stop = time.perf_counter()\n",
    "    tot_time = stop - start\n",
    "    add_time = stop_adding - start_adding\n",
    "    return tot_time, add_time, run_id"
   ]
  },
  {
   "cell_type": "markdown",
   "metadata": {},
   "source": [
    "## Comparison between numeric/array data and binary blob"
   ]
  },
  {
   "cell_type": "markdown",
   "metadata": {},
   "source": [
    "### Case1: Short experiment time"
   ]
  },
  {
   "cell_type": "code",
   "execution_count": 5,
   "metadata": {
    "execution": {
     "iopub.execute_input": "2020-11-05T06:56:48.685534Z",
     "iopub.status.busy": "2020-11-05T06:56:48.684543Z",
     "iopub.status.idle": "2020-11-05T06:56:49.353049Z",
     "shell.execute_reply": "2020-11-05T06:56:49.352599Z"
    }
   },
   "outputs": [
    {
     "name": "stdout",
     "output_type": "stream",
     "text": [
      "Starting experimental run with id: 1. \n",
      "Starting experimental run with id: 2. \n",
      "Starting experimental run with id: 3. \n",
      "Starting experimental run with id: 4. \n",
      "Starting experimental run with id: 5. \n",
      "Starting experimental run with id: 6. \n",
      "Starting experimental run with id: 7. \n"
     ]
    },
    {
     "name": "stdout",
     "output_type": "stream",
     "text": [
      "Starting experimental run with id: 8. \n",
      "Starting experimental run with id: 9. \n"
     ]
    },
    {
     "name": "stdout",
     "output_type": "stream",
     "text": [
      "Starting experimental run with id: 10. \n",
      "Starting experimental run with id: 11. \n"
     ]
    },
    {
     "name": "stdout",
     "output_type": "stream",
     "text": [
      "Starting experimental run with id: 12. \n",
      "Starting experimental run with id: 13. \n"
     ]
    },
    {
     "name": "stdout",
     "output_type": "stream",
     "text": [
      "Starting experimental run with id: 14. \n"
     ]
    }
   ],
   "source": [
    "sizes = [1,500,1000,2000,3000,4000,5000]\n",
    "t_numeric = []\n",
    "t_numeric_add = []\n",
    "t_array = []\n",
    "t_array_add = []\n",
    "for size in sizes:\n",
    "    tn, tna, run_id_n =  insert_data('numeric', size)\n",
    "    t_numeric.append(tn)\n",
    "    t_numeric_add.append(tna)\n",
    "\n",
    "    ta, taa, run_id_a =  insert_data('array', size)\n",
    "    t_array.append(ta)\n",
    "    t_array_add.append(taa)"
   ]
  },
  {
   "cell_type": "code",
   "execution_count": 6,
   "metadata": {
    "execution": {
     "iopub.execute_input": "2020-11-05T06:56:49.368523Z",
     "iopub.status.busy": "2020-11-05T06:56:49.368031Z",
     "iopub.status.idle": "2020-11-05T06:56:49.539418Z",
     "shell.execute_reply": "2020-11-05T06:56:49.539820Z"
    }
   },
   "outputs": [
    {
     "data": {
      "image/png": "[encoded data removed]",
      "text/plain": [
       "<Figure size 432x288 with 1 Axes>"
      ]
     },
     "metadata": {
      "needs_background": "light"
     },
     "output_type": "display_data"
    }
   ],
   "source": [
    "fig, ax = plt.subplots(1,1)\n",
    "ax.plot(sizes, t_numeric, 'o-', label='Inserting row-by-row')\n",
    "ax.plot(sizes, t_numeric_add, 'o-', label='Inserting row-by-row: add_result only')\n",
    "ax.plot(sizes, t_array, 'd-', label='Inserting as binary blob')\n",
    "ax.plot(sizes, t_array_add, 'd-', label='Inserting as binary blob: add_result only')\n",
    "ax.legend()\n",
    "ax.set_xlabel('Array length')\n",
    "ax.set_ylabel('Time (s)')\n",
    "fig.tight_layout()"
   ]
  },
  {
   "cell_type": "markdown",
   "metadata": {},
   "source": [
    "As shown in the latter figure, the time to setup and and close the experiment is approximately 0.4 sec. In case of small array sizes, the difference between inserting values of data as arrays and inserting them row-by-row is relatively unimportant. At larger array sizes, i.e. above 10000 points, the cost of writing data as individual datapoints starts to become important.\n"
   ]
  },
  {
   "cell_type": "markdown",
   "metadata": {},
   "source": [
    "### Case2: Long experiment time "
   ]
  },
  {
   "cell_type": "code",
   "execution_count": 7,
   "metadata": {
    "execution": {
     "iopub.execute_input": "2020-11-05T06:56:49.545366Z",
     "iopub.status.busy": "2020-11-05T06:56:49.544530Z",
     "iopub.status.idle": "2020-11-05T06:57:39.461359Z",
     "shell.execute_reply": "2020-11-05T06:57:39.460849Z"
    }
   },
   "outputs": [
    {
     "name": "stdout",
     "output_type": "stream",
     "text": [
      "Starting experimental run with id: 15. \n",
      "Starting experimental run with id: 16. \n",
      "Starting experimental run with id: 17. \n"
     ]
    },
    {
     "name": "stdout",
     "output_type": "stream",
     "text": [
      "Starting experimental run with id: 18. \n",
      "Starting experimental run with id: 19. \n"
     ]
    },
    {
     "name": "stdout",
     "output_type": "stream",
     "text": [
      "Starting experimental run with id: 20. \n"
     ]
    },
    {
     "name": "stdout",
     "output_type": "stream",
     "text": [
      "Starting experimental run with id: 21. \n"
     ]
    },
    {
     "name": "stdout",
     "output_type": "stream",
     "text": [
      "Starting experimental run with id: 22. \n"
     ]
    },
    {
     "name": "stdout",
     "output_type": "stream",
     "text": [
      "Starting experimental run with id: 23. \n"
     ]
    },
    {
     "name": "stdout",
     "output_type": "stream",
     "text": [
      "Starting experimental run with id: 24. \n"
     ]
    },
    {
     "name": "stdout",
     "output_type": "stream",
     "text": [
      "Starting experimental run with id: 25. \n"
     ]
    },
    {
     "name": "stdout",
     "output_type": "stream",
     "text": [
      "Starting experimental run with id: 26. \n"
     ]
    },
    {
     "name": "stdout",
     "output_type": "stream",
     "text": [
      "Starting experimental run with id: 27. \n"
     ]
    },
    {
     "name": "stdout",
     "output_type": "stream",
     "text": [
      "Starting experimental run with id: 28. \n"
     ]
    }
   ],
   "source": [
    "sizes = [1,500,1000,2000,3000,4000,5000]\n",
    "nreps = 100\n",
    "t_numeric = []\n",
    "t_numeric_add = []\n",
    "t_numeric_run_ids = []\n",
    "t_array = []\n",
    "t_array_add = []\n",
    "t_array_run_ids = []\n",
    "for size in sizes:\n",
    "    tn, tna, run_id_n =  insert_data('numeric', size, nreps=nreps)\n",
    "    t_numeric.append(tn)\n",
    "    t_numeric_add.append(tna)\n",
    "    t_numeric_run_ids.append(run_id_n)\n",
    "\n",
    "    ta, taa, run_id_a =  insert_data('array', size, nreps=nreps)\n",
    "    t_array.append(ta)\n",
    "    t_array_add.append(taa)\n",
    "    t_array_run_ids.append(run_id_a)"
   ]
  },
  {
   "cell_type": "code",
   "execution_count": 8,
   "metadata": {
    "execution": {
     "iopub.execute_input": "2020-11-05T06:57:39.475733Z",
     "iopub.status.busy": "2020-11-05T06:57:39.475291Z",
     "iopub.status.idle": "2020-11-05T06:57:39.634832Z",
     "shell.execute_reply": "2020-11-05T06:57:39.634382Z"
    },
    "scrolled": true
   },
   "outputs": [
    {
     "data": {
      "image/png": "[encoded data removed]",
      "text/plain": [
       "<Figure size 432x288 with 1 Axes>"
      ]
     },
     "metadata": {
      "needs_background": "light"
     },
     "output_type": "display_data"
    }
   ],
   "source": [
    "fig, ax = plt.subplots(1,1)\n",
    "ax.plot(sizes, t_numeric, 'o-', label='Inserting row-by-row')\n",
    "ax.plot(sizes, t_numeric_add, 'o-', label='Inserting row-by-row: add_result only')\n",
    "ax.plot(sizes, t_array, 'd-', label='Inserting as binary blob')\n",
    "ax.plot(sizes, t_array_add, 'd-', label='Inserting as binary blob: add_result only')\n",
    "ax.legend()\n",
    "ax.set_xlabel('Array length')\n",
    "ax.set_ylabel('Time (s)')\n",
    "fig.tight_layout()"
   ]
  },
  {
   "cell_type": "markdown",
   "metadata": {},
   "source": [
    "However, as we increase the length of the experiment, as seen here by repeating the insertion 100 times, we see a big difference between inserting values of the data row-by-row and inserting it as a binary blob."
   ]
  },
  {
   "cell_type": "markdown",
   "metadata": {},
   "source": [
    "## Loading the data "
   ]
  },
  {
   "cell_type": "code",
   "execution_count": 9,
   "metadata": {
    "execution": {
     "iopub.execute_input": "2020-11-05T06:57:39.638508Z",
     "iopub.status.busy": "2020-11-05T06:57:39.637689Z",
     "iopub.status.idle": "2020-11-05T06:57:39.640992Z",
     "shell.execute_reply": "2020-11-05T06:57:39.640600Z"
    }
   },
   "outputs": [],
   "source": [
    "from qcodes.dataset.data_set import load_by_id\n",
    "from qcodes.dataset.data_export import get_data_by_id"
   ]
  },
  {
   "cell_type": "markdown",
   "metadata": {},
   "source": [
    "As usual you can load the data by using the ``load_by_id`` function but you will notice that the different storage methods\n",
    "are reflected in shape of the data as it is retrieved. "
   ]
  },
  {
   "cell_type": "code",
   "execution_count": 10,
   "metadata": {
    "execution": {
     "iopub.execute_input": "2020-11-05T06:57:39.644565Z",
     "iopub.status.busy": "2020-11-05T06:57:39.643617Z",
     "iopub.status.idle": "2020-11-05T06:57:39.645317Z",
     "shell.execute_reply": "2020-11-05T06:57:39.645709Z"
    }
   },
   "outputs": [],
   "source": [
    "run_id_n = t_numeric_run_ids[0]\n",
    "run_id_a = t_array_run_ids[0]"
   ]
  },
  {
   "cell_type": "code",
   "execution_count": 11,
   "metadata": {
    "execution": {
     "iopub.execute_input": "2020-11-05T06:57:39.648298Z",
     "iopub.status.busy": "2020-11-05T06:57:39.647838Z",
     "iopub.status.idle": "2020-11-05T06:57:39.654848Z",
     "shell.execute_reply": "2020-11-05T06:57:39.655215Z"
    },
    "scrolled": true
   },
   "outputs": [
    {
     "data": {
      "text/plain": [
       "{'x1': {'x1': array([0.13024305, 0.13024305, 0.80098947, 0.80098947, 0.69935227,\n",
       "         0.69935227, 0.7506913 , 0.7506913 , 0.2806798 , 0.2806798 ,\n",
       "         0.72680592, 0.72680592, 0.14225396, 0.14225396, 0.66019533,\n",
       "         0.66019533, 0.15366772, 0.15366772, 0.3392284 , 0.3392284 ,\n",
       "         0.42210166, 0.42210166, 0.38257309, 0.38257309, 0.67461391,\n",
       "         0.67461391, 0.11782089, 0.11782089, 0.8488722 , 0.8488722 ,\n",
       "         0.69278581, 0.69278581, 0.83443613, 0.83443613, 0.00639368,\n",
       "         0.00639368, 0.01775263, 0.01775263, 0.81447982, 0.81447982,\n",
       "         0.28021079, 0.28021079, 0.19243463, 0.19243463, 0.82772618,\n",
       "         0.82772618, 0.30100019, 0.30100019, 0.63350941, 0.63350941,\n",
       "         0.4377905 , 0.4377905 , 0.52755308, 0.52755308, 0.50085041,\n",
       "         0.50085041, 0.10308366, 0.10308366, 0.68217864, 0.68217864,\n",
       "         0.46084048, 0.46084048, 0.9516567 , 0.9516567 , 0.62145593,\n",
       "         0.62145593, 0.4348381 , 0.4348381 , 0.12474141, 0.12474141,\n",
       "         0.16094603, 0.16094603, 0.88536723, 0.88536723, 0.63125453,\n",
       "         0.63125453, 0.65334815, 0.65334815, 0.38212811, 0.38212811,\n",
       "         0.38427106, 0.38427106, 0.33778025, 0.33778025, 0.80631519,\n",
       "         0.80631519, 0.66746997, 0.66746997, 0.27425508, 0.27425508,\n",
       "         0.33584033, 0.33584033, 0.64958264, 0.64958264, 0.93472221,\n",
       "         0.93472221, 0.00204649, 0.00204649, 0.66330175, 0.66330175,\n",
       "         0.49282473, 0.49282473, 0.84288813, 0.84288813, 0.92892955,\n",
       "         0.92892955, 0.4672725 , 0.4672725 , 0.9590496 , 0.9590496 ,\n",
       "         0.38746923, 0.38746923, 0.94733713, 0.94733713, 0.95701626,\n",
       "         0.95701626, 0.88270663, 0.88270663, 0.59241409, 0.59241409,\n",
       "         0.1765734 , 0.1765734 , 0.26137945, 0.26137945, 0.67233737,\n",
       "         0.67233737, 0.92590945, 0.92590945, 0.93198749, 0.93198749,\n",
       "         0.73016775, 0.73016775, 0.35040978, 0.35040978, 0.6872396 ,\n",
       "         0.6872396 , 0.83685041, 0.83685041, 0.49062519, 0.49062519,\n",
       "         0.19259263, 0.19259263, 0.76194589, 0.76194589, 0.45539522,\n",
       "         0.45539522, 0.35994484, 0.35994484, 0.13705456, 0.13705456,\n",
       "         0.28608587, 0.28608587, 0.23121125, 0.23121125, 0.82016105,\n",
       "         0.82016105, 0.6670274 , 0.6670274 , 0.92876479, 0.92876479,\n",
       "         0.53962242, 0.53962242, 0.53409887, 0.53409887, 0.11496436,\n",
       "         0.11496436, 0.87736837, 0.87736837, 0.76453325, 0.76453325,\n",
       "         0.42234279, 0.42234279, 0.16558361, 0.16558361, 0.93202622,\n",
       "         0.93202622, 0.01890861, 0.01890861, 0.77592735, 0.77592735,\n",
       "         0.7464232 , 0.7464232 , 0.06155509, 0.06155509, 0.98236362,\n",
       "         0.98236362, 0.76196666, 0.76196666, 0.13949446, 0.13949446,\n",
       "         0.24844113, 0.24844113, 0.57895941, 0.57895941, 0.70256532,\n",
       "         0.70256532, 0.49541876, 0.49541876, 0.64033121, 0.64033121])}}"
      ]
     },
     "execution_count": 1,
     "metadata": {},
     "output_type": "execute_result"
    }
   ],
   "source": [
    "ds = load_by_id(run_id_n)\n",
    "ds.get_parameter_data('x1')"
   ]
  },
  {
   "cell_type": "markdown",
   "metadata": {},
   "source": [
    "And a dataset stored as binary arrays"
   ]
  },
  {
   "cell_type": "code",
   "execution_count": 12,
   "metadata": {
    "execution": {
     "iopub.execute_input": "2020-11-05T06:57:39.657868Z",
     "iopub.status.busy": "2020-11-05T06:57:39.657400Z",
     "iopub.status.idle": "2020-11-05T06:57:39.699006Z",
     "shell.execute_reply": "2020-11-05T06:57:39.698571Z"
    },
    "scrolled": true
   },
   "outputs": [
    {
     "data": {
      "text/plain": [
       "{'x1': {'x1': array([[0.58667865],\n",
       "         [0.58667865],\n",
       "         [0.96040395],\n",
       "         [0.96040395],\n",
       "         [0.52415418],\n",
       "         [0.52415418],\n",
       "         [0.41978524],\n",
       "         [0.41978524],\n",
       "         [0.89792455],\n",
       "         [0.89792455],\n",
       "         [0.33382171],\n",
       "         [0.33382171],\n",
       "         [0.65622935],\n",
       "         [0.65622935],\n",
       "         [0.42334124],\n",
       "         [0.42334124],\n",
       "         [0.67746416],\n",
       "         [0.67746416],\n",
       "         [0.9528499 ],\n",
       "         [0.9528499 ],\n",
       "         [0.8286407 ],\n",
       "         [0.8286407 ],\n",
       "         [0.14565517],\n",
       "         [0.14565517],\n",
       "         [0.81681144],\n",
       "         [0.81681144],\n",
       "         [0.34110955],\n",
       "         [0.34110955],\n",
       "         [0.52278232],\n",
       "         [0.52278232],\n",
       "         [0.98745213],\n",
       "         [0.98745213],\n",
       "         [0.58573113],\n",
       "         [0.58573113],\n",
       "         [0.16223415],\n",
       "         [0.16223415],\n",
       "         [0.68061733],\n",
       "         [0.68061733],\n",
       "         [0.68292163],\n",
       "         [0.68292163],\n",
       "         [0.95639215],\n",
       "         [0.95639215],\n",
       "         [0.69645857],\n",
       "         [0.69645857],\n",
       "         [0.916187  ],\n",
       "         [0.916187  ],\n",
       "         [0.09239021],\n",
       "         [0.09239021],\n",
       "         [0.09599403],\n",
       "         [0.09599403],\n",
       "         [0.49879216],\n",
       "         [0.49879216],\n",
       "         [0.72950327],\n",
       "         [0.72950327],\n",
       "         [0.31523917],\n",
       "         [0.31523917],\n",
       "         [0.4616615 ],\n",
       "         [0.4616615 ],\n",
       "         [0.52198393],\n",
       "         [0.52198393],\n",
       "         [0.08768265],\n",
       "         [0.08768265],\n",
       "         [0.00332406],\n",
       "         [0.00332406],\n",
       "         [0.26560575],\n",
       "         [0.26560575],\n",
       "         [0.38545619],\n",
       "         [0.38545619],\n",
       "         [0.67981499],\n",
       "         [0.67981499],\n",
       "         [0.59867368],\n",
       "         [0.59867368],\n",
       "         [0.68170641],\n",
       "         [0.68170641],\n",
       "         [0.7174309 ],\n",
       "         [0.7174309 ],\n",
       "         [0.80296481],\n",
       "         [0.80296481],\n",
       "         [0.21954503],\n",
       "         [0.21954503],\n",
       "         [0.69080704],\n",
       "         [0.69080704],\n",
       "         [0.38204478],\n",
       "         [0.38204478],\n",
       "         [0.04757104],\n",
       "         [0.04757104],\n",
       "         [0.50715793],\n",
       "         [0.50715793],\n",
       "         [0.039727  ],\n",
       "         [0.039727  ],\n",
       "         [0.52082695],\n",
       "         [0.52082695],\n",
       "         [0.39871888],\n",
       "         [0.39871888],\n",
       "         [0.97763995],\n",
       "         [0.97763995],\n",
       "         [0.4940422 ],\n",
       "         [0.4940422 ],\n",
       "         [0.42361335],\n",
       "         [0.42361335],\n",
       "         [0.46410549],\n",
       "         [0.46410549],\n",
       "         [0.33323957],\n",
       "         [0.33323957],\n",
       "         [0.34106275],\n",
       "         [0.34106275],\n",
       "         [0.27429088],\n",
       "         [0.27429088],\n",
       "         [0.24498255],\n",
       "         [0.24498255],\n",
       "         [0.56075981],\n",
       "         [0.56075981],\n",
       "         [0.46512578],\n",
       "         [0.46512578],\n",
       "         [0.80676643],\n",
       "         [0.80676643],\n",
       "         [0.71008738],\n",
       "         [0.71008738],\n",
       "         [0.75211463],\n",
       "         [0.75211463],\n",
       "         [0.69159755],\n",
       "         [0.69159755],\n",
       "         [0.59528642],\n",
       "         [0.59528642],\n",
       "         [0.86992107],\n",
       "         [0.86992107],\n",
       "         [0.51915974],\n",
       "         [0.51915974],\n",
       "         [0.19919124],\n",
       "         [0.19919124],\n",
       "         [0.49063442],\n",
       "         [0.49063442],\n",
       "         [0.16859104],\n",
       "         [0.16859104],\n",
       "         [0.39797333],\n",
       "         [0.39797333],\n",
       "         [0.535914  ],\n",
       "         [0.535914  ],\n",
       "         [0.7234538 ],\n",
       "         [0.7234538 ],\n",
       "         [0.24467016],\n",
       "         [0.24467016],\n",
       "         [0.88691406],\n",
       "         [0.88691406],\n",
       "         [0.89827666],\n",
       "         [0.89827666],\n",
       "         [0.67030857],\n",
       "         [0.67030857],\n",
       "         [0.40399436],\n",
       "         [0.40399436],\n",
       "         [0.1144282 ],\n",
       "         [0.1144282 ],\n",
       "         [0.84817198],\n",
       "         [0.84817198],\n",
       "         [0.29952862],\n",
       "         [0.29952862],\n",
       "         [0.94999011],\n",
       "         [0.94999011],\n",
       "         [0.48086489],\n",
       "         [0.48086489],\n",
       "         [0.17938468],\n",
       "         [0.17938468],\n",
       "         [0.26415556],\n",
       "         [0.26415556],\n",
       "         [0.12492522],\n",
       "         [0.12492522],\n",
       "         [0.66139771],\n",
       "         [0.66139771],\n",
       "         [0.598146  ],\n",
       "         [0.598146  ],\n",
       "         [0.89397392],\n",
       "         [0.89397392],\n",
       "         [0.9886019 ],\n",
       "         [0.9886019 ],\n",
       "         [0.17318563],\n",
       "         [0.17318563],\n",
       "         [0.79359519],\n",
       "         [0.79359519],\n",
       "         [0.40636842],\n",
       "         [0.40636842],\n",
       "         [0.86136324],\n",
       "         [0.86136324],\n",
       "         [0.49947223],\n",
       "         [0.49947223],\n",
       "         [0.29221879],\n",
       "         [0.29221879],\n",
       "         [0.7315522 ],\n",
       "         [0.7315522 ],\n",
       "         [0.54582843],\n",
       "         [0.54582843],\n",
       "         [0.0234079 ],\n",
       "         [0.0234079 ],\n",
       "         [0.74244259],\n",
       "         [0.74244259],\n",
       "         [0.88908021],\n",
       "         [0.88908021],\n",
       "         [0.62518566],\n",
       "         [0.62518566],\n",
       "         [0.4084095 ],\n",
       "         [0.4084095 ]])}}"
      ]
     },
     "execution_count": 1,
     "metadata": {},
     "output_type": "execute_result"
    }
   ],
   "source": [
    "ds = load_by_id(run_id_a)\n",
    "ds.get_parameter_data('x1')"
   ]
  },
  {
   "cell_type": "code",
   "execution_count": null,
   "metadata": {},
   "outputs": [],
   "source": []
  }
 ],
 "metadata": {
  "kernelspec": {
   "display_name": "Python 3",
   "language": "python",
   "name": "python3"
  },
  "language_info": {
   "codemirror_mode": {
    "name": "ipython",
    "version": 3
   },
   "file_extension": ".py",
   "mimetype": "text/x-python",
   "name": "python",
   "nbconvert_exporter": "python",
   "pygments_lexer": "ipython3",
   "version": "3.7.9"
  },
  "nbsphinx": {
   "timeout": 600
  },
  "toc": {
   "base_numbering": 1,
   "nav_menu": {},
   "number_sections": true,
   "sideBar": true,
   "skip_h1_title": false,
   "title_cell": "Table of Contents",
   "title_sidebar": "Contents",
   "toc_cell": false,
   "toc_position": {},
   "toc_section_display": true,
   "toc_window_display": false
  },
  "varInspector": {
   "cols": {
    "lenName": 16,
    "lenType": 16,
    "lenVar": 40
   },
   "kernels_config": {
    "python": {
     "delete_cmd_postfix": "",
     "delete_cmd_prefix": "del ",
     "library": "var_list.py",
     "varRefreshCmd": "print(var_dic_list())"
    },
    "r": {
     "delete_cmd_postfix": ") ",
     "delete_cmd_prefix": "rm(",
     "library": "var_list.r",
     "varRefreshCmd": "cat(var_dic_list()) "
    }
   },
   "types_to_exclude": [
    "module",
    "function",
    "builtin_function_or_method",
    "instance",
    "_Feature"
   ],
   "window_display": false
  }
 },
 "nbformat": 4,
 "nbformat_minor": 2
}
