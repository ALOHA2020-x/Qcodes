{
 "cells": [
  {
   "cell_type": "markdown",
   "metadata": {},
   "source": [
    "# DataSet Performance\n",
    "\n",
    "This notebook shows the trade-off between inserting data into a database row-by-row and as binary blobs. Inserting the data row-by-row means that we have direct access to all the data and may perform queries directly on the values of the data. On the other hand, as we shall see, this is much slower than inserting the data directly as binary blobs."
   ]
  },
  {
   "cell_type": "markdown",
   "metadata": {},
   "source": [
    "First, we choose a new location for the database to ensure that we don't add a bunch of benchmarking data to the default one."
   ]
  },
  {
   "cell_type": "code",
   "execution_count": 1,
   "metadata": {
    "execution": {
     "iopub.execute_input": "2021-02-05T09:41:20.246241Z",
     "iopub.status.busy": "2021-02-05T09:41:20.245722Z",
     "iopub.status.idle": "2021-02-05T09:41:21.142902Z",
     "shell.execute_reply": "2021-02-05T09:41:21.142220Z"
    }
   },
   "outputs": [
    {
     "name": "stdout",
     "output_type": "stream",
     "text": [
      "Logging hadn't been started.\n",
      "Activating auto-logging. Current session state plus future input saved.\n",
      "Filename       : /home/vsts/.qcodes/logs/command_history.log\n",
      "Mode           : append\n",
      "Output logging : True\n",
      "Raw input log  : False\n",
      "Timestamping   : True\n",
      "State          : active\n"
     ]
    },
    {
     "name": "stdout",
     "output_type": "stream",
     "text": [
      "Qcodes Logfile : /home/vsts/.qcodes/logs/210205-13804-qcodes.log\n"
     ]
    }
   ],
   "source": [
    "import os\n",
    "cwd = os.getcwd()\n",
    "import qcodes as qc\n",
    "qc.config[\"core\"][\"db_location\"] = os.path.join(cwd, 'testing.db')\n"
   ]
  },
  {
   "cell_type": "code",
   "execution_count": 2,
   "metadata": {
    "execution": {
     "iopub.execute_input": "2021-02-05T09:41:21.148338Z",
     "iopub.status.busy": "2021-02-05T09:41:21.147559Z",
     "iopub.status.idle": "2021-02-05T09:41:21.307515Z",
     "shell.execute_reply": "2021-02-05T09:41:21.306777Z"
    }
   },
   "outputs": [],
   "source": [
    "%matplotlib inline\n",
    "import time\n",
    "import matplotlib.pyplot as plt\n",
    "import numpy as np\n",
    "\n",
    "import qcodes as qc\n",
    "from qcodes.instrument.parameter import ManualParameter\n",
    "from qcodes.dataset.experiment_container import (Experiment,\n",
    "                                                 load_last_experiment,\n",
    "                                                 new_experiment)\n",
    "from qcodes.dataset.sqlite.database import initialise_database\n",
    "from qcodes import load_or_create_experiment\n",
    "from qcodes.dataset.measurements import Measurement"
   ]
  },
  {
   "cell_type": "code",
   "execution_count": 3,
   "metadata": {
    "execution": {
     "iopub.execute_input": "2021-02-05T09:41:21.310941Z",
     "iopub.status.busy": "2021-02-05T09:41:21.310171Z",
     "iopub.status.idle": "2021-02-05T09:41:21.412054Z",
     "shell.execute_reply": "2021-02-05T09:41:21.411611Z"
    }
   },
   "outputs": [
    {
     "name": "stdout",
     "output_type": "stream",
     "text": [
      "\r",
      "0it [00:00, ?it/s]"
     ]
    },
    {
     "name": "stdout",
     "output_type": "stream",
     "text": [
      "\r",
      "Upgrading database; v0 -> v1: : 0it [00:00, ?it/s]"
     ]
    },
    {
     "name": "stdout",
     "output_type": "stream",
     "text": [
      "\r",
      "Upgrading database; v0 -> v1: : 0it [00:00, ?it/s]"
     ]
    },
    {
     "name": "stdout",
     "output_type": "stream",
     "text": [
      "\n",
      "\r",
      "  0%|          | 0/1 [00:00<?, ?it/s]"
     ]
    },
    {
     "name": "stdout",
     "output_type": "stream",
     "text": [
      "\r",
      "Upgrading database; v1 -> v2:   0%|          | 0/1 [00:00<?, ?it/s]"
     ]
    },
    {
     "name": "stdout",
     "output_type": "stream",
     "text": [
      "\r",
      "Upgrading database; v1 -> v2: 100%|██████████| 1/1 [00:00<00:00, 412.83it/s]"
     ]
    },
    {
     "name": "stdout",
     "output_type": "stream",
     "text": [
      "\n",
      "\r",
      "0it [00:00, ?it/s]"
     ]
    },
    {
     "name": "stdout",
     "output_type": "stream",
     "text": [
      "\r",
      "Upgrading database; v2 -> v3: : 0it [00:00, ?it/s]"
     ]
    },
    {
     "name": "stdout",
     "output_type": "stream",
     "text": [
      "\r",
      "Upgrading database; v2 -> v3: : 0it [00:00, ?it/s]"
     ]
    },
    {
     "name": "stdout",
     "output_type": "stream",
     "text": [
      "\n",
      "\r",
      "0it [00:00, ?it/s]"
     ]
    },
    {
     "name": "stdout",
     "output_type": "stream",
     "text": [
      "\r",
      "Upgrading database; v3 -> v4: : 0it [00:00, ?it/s]"
     ]
    },
    {
     "name": "stdout",
     "output_type": "stream",
     "text": [
      "\r",
      "Upgrading database; v3 -> v4: : 0it [00:00, ?it/s]"
     ]
    },
    {
     "name": "stdout",
     "output_type": "stream",
     "text": [
      "\n",
      "\r",
      "  0%|          | 0/1 [00:00<?, ?it/s]"
     ]
    },
    {
     "name": "stdout",
     "output_type": "stream",
     "text": [
      "\r",
      "Upgrading database; v4 -> v5:   0%|          | 0/1 [00:00<?, ?it/s]"
     ]
    },
    {
     "name": "stdout",
     "output_type": "stream",
     "text": [
      "\r",
      "Upgrading database; v4 -> v5: 100%|██████████| 1/1 [00:00<00:00, 559.17it/s]"
     ]
    },
    {
     "name": "stdout",
     "output_type": "stream",
     "text": [
      "\n",
      "\r",
      "0it [00:00, ?it/s]"
     ]
    },
    {
     "name": "stdout",
     "output_type": "stream",
     "text": [
      "\r",
      "Upgrading database; v5 -> v6: : 0it [00:00, ?it/s]"
     ]
    },
    {
     "name": "stdout",
     "output_type": "stream",
     "text": [
      "\r",
      "Upgrading database; v5 -> v6: : 0it [00:00, ?it/s]"
     ]
    },
    {
     "name": "stdout",
     "output_type": "stream",
     "text": [
      "\n",
      "\r",
      "  0%|          | 0/1 [00:00<?, ?it/s]"
     ]
    },
    {
     "name": "stdout",
     "output_type": "stream",
     "text": [
      "\r",
      "Upgrading database; v6 -> v7:   0%|          | 0/1 [00:00<?, ?it/s]"
     ]
    },
    {
     "name": "stdout",
     "output_type": "stream",
     "text": [
      "\r",
      "Upgrading database; v6 -> v7: 100%|██████████| 1/1 [00:00<00:00, 261.31it/s]"
     ]
    },
    {
     "name": "stdout",
     "output_type": "stream",
     "text": [
      "\n",
      "\r",
      "  0%|          | 0/1 [00:00<?, ?it/s]"
     ]
    },
    {
     "name": "stdout",
     "output_type": "stream",
     "text": [
      "\r",
      "Upgrading database; v7 -> v8:   0%|          | 0/1 [00:00<?, ?it/s]"
     ]
    },
    {
     "name": "stdout",
     "output_type": "stream",
     "text": [
      "\r",
      "Upgrading database; v7 -> v8: 100%|██████████| 1/1 [00:00<00:00, 441.09it/s]"
     ]
    },
    {
     "name": "stdout",
     "output_type": "stream",
     "text": [
      "\n",
      "\r",
      "  0%|          | 0/1 [00:00<?, ?it/s]"
     ]
    },
    {
     "name": "stdout",
     "output_type": "stream",
     "text": [
      "\r",
      "Upgrading database; v8 -> v9:   0%|          | 0/1 [00:00<?, ?it/s]"
     ]
    },
    {
     "name": "stdout",
     "output_type": "stream",
     "text": [
      "\r",
      "Upgrading database; v8 -> v9: 100%|██████████| 1/1 [00:00<00:00, 628.08it/s]"
     ]
    },
    {
     "name": "stdout",
     "output_type": "stream",
     "text": [
      "\n"
     ]
    }
   ],
   "source": [
    "initialise_database()\n",
    "exp = load_or_create_experiment(experiment_name='tutorial_exp', sample_name=\"no sample\")"
   ]
  },
  {
   "cell_type": "markdown",
   "metadata": {},
   "source": [
    "Here, we define a simple function to benchmark the time it takes to insert n points with either numeric or array data type.\n",
    "We will compare both the time used to call ``add_result`` and the time used for the full measurement."
   ]
  },
  {
   "cell_type": "code",
   "execution_count": 4,
   "metadata": {
    "execution": {
     "iopub.execute_input": "2021-02-05T09:41:21.419238Z",
     "iopub.status.busy": "2021-02-05T09:41:21.418661Z",
     "iopub.status.idle": "2021-02-05T09:41:21.422474Z",
     "shell.execute_reply": "2021-02-05T09:41:21.423028Z"
    }
   },
   "outputs": [],
   "source": [
    "def insert_data(paramtype, npoints, nreps=1):\n",
    "\n",
    "    meas = Measurement(exp=exp)\n",
    "\n",
    "    x1 = ManualParameter('x1')\n",
    "    x2 = ManualParameter('x2')\n",
    "    x3 = ManualParameter('x3')\n",
    "    y1 = ManualParameter('y1')\n",
    "    y2 = ManualParameter('y2')\n",
    "\n",
    "    meas.register_parameter(x1, paramtype=paramtype)\n",
    "    meas.register_parameter(x2, paramtype=paramtype)\n",
    "    meas.register_parameter(x3, paramtype=paramtype)\n",
    "    meas.register_parameter(y1, setpoints=[x1, x2, x3],\n",
    "                            paramtype=paramtype)\n",
    "    meas.register_parameter(y2, setpoints=[x1, x2, x3],\n",
    "                            paramtype=paramtype)\n",
    "    start = time.perf_counter()\n",
    "    with meas.run() as datasaver:\n",
    "        start_adding = time.perf_counter()\n",
    "        for i in range(nreps):\n",
    "            datasaver.add_result((x1, np.random.rand(npoints)),\n",
    "                                 (x2, np.random.rand(npoints)),\n",
    "                                 (x3, np.random.rand(npoints)),\n",
    "                                 (y1, np.random.rand(npoints)),\n",
    "                                 (y2, np.random.rand(npoints)))\n",
    "        stop_adding = time.perf_counter()\n",
    "        run_id = datasaver.run_id\n",
    "    stop = time.perf_counter()\n",
    "    tot_time = stop - start\n",
    "    add_time = stop_adding - start_adding\n",
    "    return tot_time, add_time, run_id"
   ]
  },
  {
   "cell_type": "markdown",
   "metadata": {},
   "source": [
    "## Comparison between numeric/array data and binary blob"
   ]
  },
  {
   "cell_type": "markdown",
   "metadata": {},
   "source": [
    "### Case1: Short experiment time"
   ]
  },
  {
   "cell_type": "code",
   "execution_count": 5,
   "metadata": {
    "execution": {
     "iopub.execute_input": "2021-02-05T09:41:21.428398Z",
     "iopub.status.busy": "2021-02-05T09:41:21.427274Z",
     "iopub.status.idle": "2021-02-05T09:41:22.113332Z",
     "shell.execute_reply": "2021-02-05T09:41:22.113844Z"
    }
   },
   "outputs": [
    {
     "name": "stdout",
     "output_type": "stream",
     "text": [
      "Starting experimental run with id: 1. \n",
      "Starting experimental run with id: 2. \n",
      "Starting experimental run with id: 3. \n",
      "Starting experimental run with id: 4. \n",
      "Starting experimental run with id: 5. \n"
     ]
    },
    {
     "name": "stdout",
     "output_type": "stream",
     "text": [
      "Starting experimental run with id: 6. \n"
     ]
    },
    {
     "name": "stdout",
     "output_type": "stream",
     "text": [
      "Starting experimental run with id: 7. \n"
     ]
    },
    {
     "name": "stdout",
     "output_type": "stream",
     "text": [
      "Starting experimental run with id: 8. \n",
      "Starting experimental run with id: 9. \n",
      "Starting experimental run with id: 10. \n"
     ]
    },
    {
     "name": "stdout",
     "output_type": "stream",
     "text": [
      "Starting experimental run with id: 11. \n"
     ]
    },
    {
     "name": "stdout",
     "output_type": "stream",
     "text": [
      "Starting experimental run with id: 12. \n",
      "Starting experimental run with id: 13. \n"
     ]
    },
    {
     "name": "stdout",
     "output_type": "stream",
     "text": [
      "Starting experimental run with id: 14. \n"
     ]
    }
   ],
   "source": [
    "sizes = [1,500,1000,2000,3000,4000,5000]\n",
    "t_numeric = []\n",
    "t_numeric_add = []\n",
    "t_array = []\n",
    "t_array_add = []\n",
    "for size in sizes:\n",
    "    tn, tna, run_id_n =  insert_data('numeric', size)\n",
    "    t_numeric.append(tn)\n",
    "    t_numeric_add.append(tna)\n",
    "\n",
    "    ta, taa, run_id_a =  insert_data('array', size)\n",
    "    t_array.append(ta)\n",
    "    t_array_add.append(taa)"
   ]
  },
  {
   "cell_type": "code",
   "execution_count": 6,
   "metadata": {
    "execution": {
     "iopub.execute_input": "2021-02-05T09:41:22.131154Z",
     "iopub.status.busy": "2021-02-05T09:41:22.128979Z",
     "iopub.status.idle": "2021-02-05T09:41:22.340965Z",
     "shell.execute_reply": "2021-02-05T09:41:22.340526Z"
    }
   },
   "outputs": [
    {
     "data": {
      "image/png": "[encoded data removed]",
      "text/plain": [
       "<Figure size 432x288 with 1 Axes>"
      ]
     },
     "metadata": {
      "needs_background": "light"
     },
     "output_type": "display_data"
    }
   ],
   "source": [
    "fig, ax = plt.subplots(1,1)\n",
    "ax.plot(sizes, t_numeric, 'o-', label='Inserting row-by-row')\n",
    "ax.plot(sizes, t_numeric_add, 'o-', label='Inserting row-by-row: add_result only')\n",
    "ax.plot(sizes, t_array, 'd-', label='Inserting as binary blob')\n",
    "ax.plot(sizes, t_array_add, 'd-', label='Inserting as binary blob: add_result only')\n",
    "ax.legend()\n",
    "ax.set_xlabel('Array length')\n",
    "ax.set_ylabel('Time (s)')\n",
    "fig.tight_layout()"
   ]
  },
  {
   "cell_type": "markdown",
   "metadata": {},
   "source": [
    "As shown in the latter figure, the time to setup and and close the experiment is approximately 0.4 sec. In case of small array sizes, the difference between inserting values of data as arrays and inserting them row-by-row is relatively unimportant. At larger array sizes, i.e. above 10000 points, the cost of writing data as individual datapoints starts to become important.\n"
   ]
  },
  {
   "cell_type": "markdown",
   "metadata": {},
   "source": [
    "### Case2: Long experiment time "
   ]
  },
  {
   "cell_type": "code",
   "execution_count": 7,
   "metadata": {
    "execution": {
     "iopub.execute_input": "2021-02-05T09:41:22.347047Z",
     "iopub.status.busy": "2021-02-05T09:41:22.345957Z",
     "iopub.status.idle": "2021-02-05T09:42:11.597947Z",
     "shell.execute_reply": "2021-02-05T09:42:11.598424Z"
    }
   },
   "outputs": [
    {
     "name": "stdout",
     "output_type": "stream",
     "text": [
      "Starting experimental run with id: 15. \n",
      "Starting experimental run with id: 16. \n",
      "Starting experimental run with id: 17. \n"
     ]
    },
    {
     "name": "stdout",
     "output_type": "stream",
     "text": [
      "Starting experimental run with id: 18. \n",
      "Starting experimental run with id: 19. \n"
     ]
    },
    {
     "name": "stdout",
     "output_type": "stream",
     "text": [
      "Starting experimental run with id: 20. \n"
     ]
    },
    {
     "name": "stdout",
     "output_type": "stream",
     "text": [
      "Starting experimental run with id: 21. \n"
     ]
    },
    {
     "name": "stdout",
     "output_type": "stream",
     "text": [
      "Starting experimental run with id: 22. \n"
     ]
    },
    {
     "name": "stdout",
     "output_type": "stream",
     "text": [
      "Starting experimental run with id: 23. \n"
     ]
    },
    {
     "name": "stdout",
     "output_type": "stream",
     "text": [
      "Starting experimental run with id: 24. \n"
     ]
    },
    {
     "name": "stdout",
     "output_type": "stream",
     "text": [
      "Starting experimental run with id: 25. \n"
     ]
    },
    {
     "name": "stdout",
     "output_type": "stream",
     "text": [
      "Starting experimental run with id: 26. \n"
     ]
    },
    {
     "name": "stdout",
     "output_type": "stream",
     "text": [
      "Starting experimental run with id: 27. \n"
     ]
    },
    {
     "name": "stdout",
     "output_type": "stream",
     "text": [
      "Starting experimental run with id: 28. \n"
     ]
    }
   ],
   "source": [
    "sizes = [1,500,1000,2000,3000,4000,5000]\n",
    "nreps = 100\n",
    "t_numeric = []\n",
    "t_numeric_add = []\n",
    "t_numeric_run_ids = []\n",
    "t_array = []\n",
    "t_array_add = []\n",
    "t_array_run_ids = []\n",
    "for size in sizes:\n",
    "    tn, tna, run_id_n =  insert_data('numeric', size, nreps=nreps)\n",
    "    t_numeric.append(tn)\n",
    "    t_numeric_add.append(tna)\n",
    "    t_numeric_run_ids.append(run_id_n)\n",
    "\n",
    "    ta, taa, run_id_a =  insert_data('array', size, nreps=nreps)\n",
    "    t_array.append(ta)\n",
    "    t_array_add.append(taa)\n",
    "    t_array_run_ids.append(run_id_a)"
   ]
  },
  {
   "cell_type": "code",
   "execution_count": 8,
   "metadata": {
    "execution": {
     "iopub.execute_input": "2021-02-05T09:42:11.618806Z",
     "iopub.status.busy": "2021-02-05T09:42:11.615660Z",
     "iopub.status.idle": "2021-02-05T09:42:11.815097Z",
     "shell.execute_reply": "2021-02-05T09:42:11.815482Z"
    },
    "scrolled": true
   },
   "outputs": [
    {
     "data": {
      "image/png": "[encoded data removed]",
      "text/plain": [
       "<Figure size 432x288 with 1 Axes>"
      ]
     },
     "metadata": {
      "needs_background": "light"
     },
     "output_type": "display_data"
    }
   ],
   "source": [
    "fig, ax = plt.subplots(1,1)\n",
    "ax.plot(sizes, t_numeric, 'o-', label='Inserting row-by-row')\n",
    "ax.plot(sizes, t_numeric_add, 'o-', label='Inserting row-by-row: add_result only')\n",
    "ax.plot(sizes, t_array, 'd-', label='Inserting as binary blob')\n",
    "ax.plot(sizes, t_array_add, 'd-', label='Inserting as binary blob: add_result only')\n",
    "ax.legend()\n",
    "ax.set_xlabel('Array length')\n",
    "ax.set_ylabel('Time (s)')\n",
    "fig.tight_layout()"
   ]
  },
  {
   "cell_type": "markdown",
   "metadata": {},
   "source": [
    "However, as we increase the length of the experiment, as seen here by repeating the insertion 100 times, we see a big difference between inserting values of the data row-by-row and inserting it as a binary blob."
   ]
  },
  {
   "cell_type": "markdown",
   "metadata": {},
   "source": [
    "## Loading the data "
   ]
  },
  {
   "cell_type": "code",
   "execution_count": 9,
   "metadata": {
    "execution": {
     "iopub.execute_input": "2021-02-05T09:42:11.820454Z",
     "iopub.status.busy": "2021-02-05T09:42:11.819091Z",
     "iopub.status.idle": "2021-02-05T09:42:11.822518Z",
     "shell.execute_reply": "2021-02-05T09:42:11.822084Z"
    }
   },
   "outputs": [],
   "source": [
    "from qcodes.dataset.data_set import load_by_id\n",
    "from qcodes.dataset.data_export import get_data_by_id"
   ]
  },
  {
   "cell_type": "markdown",
   "metadata": {},
   "source": [
    "As usual you can load the data by using the ``load_by_id`` function but you will notice that the different storage methods\n",
    "are reflected in shape of the data as it is retrieved. "
   ]
  },
  {
   "cell_type": "code",
   "execution_count": 10,
   "metadata": {
    "execution": {
     "iopub.execute_input": "2021-02-05T09:42:11.827083Z",
     "iopub.status.busy": "2021-02-05T09:42:11.825564Z",
     "iopub.status.idle": "2021-02-05T09:42:11.827624Z",
     "shell.execute_reply": "2021-02-05T09:42:11.828210Z"
    }
   },
   "outputs": [],
   "source": [
    "run_id_n = t_numeric_run_ids[0]\n",
    "run_id_a = t_array_run_ids[0]"
   ]
  },
  {
   "cell_type": "code",
   "execution_count": 11,
   "metadata": {
    "execution": {
     "iopub.execute_input": "2021-02-05T09:42:11.831094Z",
     "iopub.status.busy": "2021-02-05T09:42:11.830605Z",
     "iopub.status.idle": "2021-02-05T09:42:11.839131Z",
     "shell.execute_reply": "2021-02-05T09:42:11.838703Z"
    },
    "scrolled": true
   },
   "outputs": [
    {
     "data": {
      "text/plain": [
       "{'x1': {'x1': array([0.77581943, 0.77581943, 0.59835588, 0.59835588, 0.96635606,\n",
       "         0.96635606, 0.78147286, 0.78147286, 0.55464566, 0.55464566,\n",
       "         0.78015886, 0.78015886, 0.45174739, 0.45174739, 0.67827485,\n",
       "         0.67827485, 0.31514478, 0.31514478, 0.74026698, 0.74026698,\n",
       "         0.21920124, 0.21920124, 0.47675568, 0.47675568, 0.28113132,\n",
       "         0.28113132, 0.32984215, 0.32984215, 0.61259906, 0.61259906,\n",
       "         0.4995554 , 0.4995554 , 0.24389769, 0.24389769, 0.50513232,\n",
       "         0.50513232, 0.83215515, 0.83215515, 0.05217461, 0.05217461,\n",
       "         0.50389299, 0.50389299, 0.04114513, 0.04114513, 0.42519072,\n",
       "         0.42519072, 0.7377079 , 0.7377079 , 0.06682365, 0.06682365,\n",
       "         0.84174404, 0.84174404, 0.28826143, 0.28826143, 0.52894281,\n",
       "         0.52894281, 0.84022376, 0.84022376, 0.56301124, 0.56301124,\n",
       "         0.09765179, 0.09765179, 0.72193131, 0.72193131, 0.86714725,\n",
       "         0.86714725, 0.77046403, 0.77046403, 0.90736368, 0.90736368,\n",
       "         0.11443933, 0.11443933, 0.33954644, 0.33954644, 0.54390179,\n",
       "         0.54390179, 0.50443361, 0.50443361, 0.88046537, 0.88046537,\n",
       "         0.31375278, 0.31375278, 0.09264387, 0.09264387, 0.63521513,\n",
       "         0.63521513, 0.95390409, 0.95390409, 0.95031784, 0.95031784,\n",
       "         0.21056551, 0.21056551, 0.16587651, 0.16587651, 0.93445687,\n",
       "         0.93445687, 0.5903107 , 0.5903107 , 0.12544119, 0.12544119,\n",
       "         0.26675841, 0.26675841, 0.85470108, 0.85470108, 0.94532458,\n",
       "         0.94532458, 0.92425246, 0.92425246, 0.28313121, 0.28313121,\n",
       "         0.98160977, 0.98160977, 0.0207867 , 0.0207867 , 0.27135244,\n",
       "         0.27135244, 0.30741982, 0.30741982, 0.98082098, 0.98082098,\n",
       "         0.87771437, 0.87771437, 0.40570429, 0.40570429, 0.57969409,\n",
       "         0.57969409, 0.48000494, 0.48000494, 0.46949145, 0.46949145,\n",
       "         0.08430907, 0.08430907, 0.10385905, 0.10385905, 0.20529957,\n",
       "         0.20529957, 0.06634793, 0.06634793, 0.88077878, 0.88077878,\n",
       "         0.15630859, 0.15630859, 0.96686918, 0.96686918, 0.37140985,\n",
       "         0.37140985, 0.23476709, 0.23476709, 0.49484109, 0.49484109,\n",
       "         0.70547149, 0.70547149, 0.84290257, 0.84290257, 0.49981395,\n",
       "         0.49981395, 0.90525765, 0.90525765, 0.05845529, 0.05845529,\n",
       "         0.84846632, 0.84846632, 0.3907367 , 0.3907367 , 0.1790138 ,\n",
       "         0.1790138 , 0.05280135, 0.05280135, 0.04363379, 0.04363379,\n",
       "         0.64313237, 0.64313237, 0.17736671, 0.17736671, 0.89996498,\n",
       "         0.89996498, 0.83975485, 0.83975485, 0.74088784, 0.74088784,\n",
       "         0.66759908, 0.66759908, 0.90753464, 0.90753464, 0.95310481,\n",
       "         0.95310481, 0.83868501, 0.83868501, 0.17719267, 0.17719267,\n",
       "         0.13011577, 0.13011577, 0.29259402, 0.29259402, 0.56445709,\n",
       "         0.56445709, 0.95797721, 0.95797721, 0.43365944, 0.43365944])}}"
      ]
     },
     "execution_count": 1,
     "metadata": {},
     "output_type": "execute_result"
    }
   ],
   "source": [
    "ds = load_by_id(run_id_n)\n",
    "ds.get_parameter_data('x1')"
   ]
  },
  {
   "cell_type": "markdown",
   "metadata": {},
   "source": [
    "And a dataset stored as binary arrays"
   ]
  },
  {
   "cell_type": "code",
   "execution_count": 12,
   "metadata": {
    "execution": {
     "iopub.execute_input": "2021-02-05T09:42:11.842238Z",
     "iopub.status.busy": "2021-02-05T09:42:11.841553Z",
     "iopub.status.idle": "2021-02-05T09:42:11.903781Z",
     "shell.execute_reply": "2021-02-05T09:42:11.903391Z"
    },
    "scrolled": true
   },
   "outputs": [
    {
     "data": {
      "text/plain": [
       "{'x1': {'x1': array([[0.97862271],\n",
       "         [0.97862271],\n",
       "         [0.21246327],\n",
       "         [0.21246327],\n",
       "         [0.43038941],\n",
       "         [0.43038941],\n",
       "         [0.24511168],\n",
       "         [0.24511168],\n",
       "         [0.68470221],\n",
       "         [0.68470221],\n",
       "         [0.49309088],\n",
       "         [0.49309088],\n",
       "         [0.76855339],\n",
       "         [0.76855339],\n",
       "         [0.2279152 ],\n",
       "         [0.2279152 ],\n",
       "         [0.9320699 ],\n",
       "         [0.9320699 ],\n",
       "         [0.60860201],\n",
       "         [0.60860201],\n",
       "         [0.76763721],\n",
       "         [0.76763721],\n",
       "         [0.33868316],\n",
       "         [0.33868316],\n",
       "         [0.34774884],\n",
       "         [0.34774884],\n",
       "         [0.47240291],\n",
       "         [0.47240291],\n",
       "         [0.19629739],\n",
       "         [0.19629739],\n",
       "         [0.68888564],\n",
       "         [0.68888564],\n",
       "         [0.55591875],\n",
       "         [0.55591875],\n",
       "         [0.85520068],\n",
       "         [0.85520068],\n",
       "         [0.57785796],\n",
       "         [0.57785796],\n",
       "         [0.94213096],\n",
       "         [0.94213096],\n",
       "         [0.78479962],\n",
       "         [0.78479962],\n",
       "         [0.52282652],\n",
       "         [0.52282652],\n",
       "         [0.88230466],\n",
       "         [0.88230466],\n",
       "         [0.38277476],\n",
       "         [0.38277476],\n",
       "         [0.98870524],\n",
       "         [0.98870524],\n",
       "         [0.19302398],\n",
       "         [0.19302398],\n",
       "         [0.3155186 ],\n",
       "         [0.3155186 ],\n",
       "         [0.58957157],\n",
       "         [0.58957157],\n",
       "         [0.74068581],\n",
       "         [0.74068581],\n",
       "         [0.84791208],\n",
       "         [0.84791208],\n",
       "         [0.75946631],\n",
       "         [0.75946631],\n",
       "         [0.49361115],\n",
       "         [0.49361115],\n",
       "         [0.19001673],\n",
       "         [0.19001673],\n",
       "         [0.97788516],\n",
       "         [0.97788516],\n",
       "         [0.90418   ],\n",
       "         [0.90418   ],\n",
       "         [0.52898353],\n",
       "         [0.52898353],\n",
       "         [0.14115713],\n",
       "         [0.14115713],\n",
       "         [0.5313914 ],\n",
       "         [0.5313914 ],\n",
       "         [0.30695581],\n",
       "         [0.30695581],\n",
       "         [0.80687815],\n",
       "         [0.80687815],\n",
       "         [0.53233281],\n",
       "         [0.53233281],\n",
       "         [0.13551147],\n",
       "         [0.13551147],\n",
       "         [0.1301889 ],\n",
       "         [0.1301889 ],\n",
       "         [0.60288449],\n",
       "         [0.60288449],\n",
       "         [0.84789274],\n",
       "         [0.84789274],\n",
       "         [0.44900168],\n",
       "         [0.44900168],\n",
       "         [0.80491749],\n",
       "         [0.80491749],\n",
       "         [0.9038237 ],\n",
       "         [0.9038237 ],\n",
       "         [0.92757144],\n",
       "         [0.92757144],\n",
       "         [0.15180103],\n",
       "         [0.15180103],\n",
       "         [0.43623703],\n",
       "         [0.43623703],\n",
       "         [0.96984552],\n",
       "         [0.96984552],\n",
       "         [0.81876168],\n",
       "         [0.81876168],\n",
       "         [0.94863866],\n",
       "         [0.94863866],\n",
       "         [0.82915147],\n",
       "         [0.82915147],\n",
       "         [0.94461757],\n",
       "         [0.94461757],\n",
       "         [0.25339558],\n",
       "         [0.25339558],\n",
       "         [0.80733057],\n",
       "         [0.80733057],\n",
       "         [0.15244513],\n",
       "         [0.15244513],\n",
       "         [0.8190657 ],\n",
       "         [0.8190657 ],\n",
       "         [0.52214314],\n",
       "         [0.52214314],\n",
       "         [0.94653005],\n",
       "         [0.94653005],\n",
       "         [0.90917493],\n",
       "         [0.90917493],\n",
       "         [0.1791443 ],\n",
       "         [0.1791443 ],\n",
       "         [0.93078416],\n",
       "         [0.93078416],\n",
       "         [0.37586714],\n",
       "         [0.37586714],\n",
       "         [0.26404418],\n",
       "         [0.26404418],\n",
       "         [0.15468601],\n",
       "         [0.15468601],\n",
       "         [0.90395444],\n",
       "         [0.90395444],\n",
       "         [0.98406165],\n",
       "         [0.98406165],\n",
       "         [0.54528709],\n",
       "         [0.54528709],\n",
       "         [0.13596251],\n",
       "         [0.13596251],\n",
       "         [0.46686801],\n",
       "         [0.46686801],\n",
       "         [0.18827024],\n",
       "         [0.18827024],\n",
       "         [0.980409  ],\n",
       "         [0.980409  ],\n",
       "         [0.17660153],\n",
       "         [0.17660153],\n",
       "         [0.58473727],\n",
       "         [0.58473727],\n",
       "         [0.48551687],\n",
       "         [0.48551687],\n",
       "         [0.0029896 ],\n",
       "         [0.0029896 ],\n",
       "         [0.54543517],\n",
       "         [0.54543517],\n",
       "         [0.0249319 ],\n",
       "         [0.0249319 ],\n",
       "         [0.41200668],\n",
       "         [0.41200668],\n",
       "         [0.88663104],\n",
       "         [0.88663104],\n",
       "         [0.2801619 ],\n",
       "         [0.2801619 ],\n",
       "         [0.47435756],\n",
       "         [0.47435756],\n",
       "         [0.22597217],\n",
       "         [0.22597217],\n",
       "         [0.62053243],\n",
       "         [0.62053243],\n",
       "         [0.02894706],\n",
       "         [0.02894706],\n",
       "         [0.73032631],\n",
       "         [0.73032631],\n",
       "         [0.80542786],\n",
       "         [0.80542786],\n",
       "         [0.30426516],\n",
       "         [0.30426516],\n",
       "         [0.87806092],\n",
       "         [0.87806092],\n",
       "         [0.05793134],\n",
       "         [0.05793134],\n",
       "         [0.55216979],\n",
       "         [0.55216979],\n",
       "         [0.85297473],\n",
       "         [0.85297473],\n",
       "         [0.81278588],\n",
       "         [0.81278588],\n",
       "         [0.22530851],\n",
       "         [0.22530851],\n",
       "         [0.17625656],\n",
       "         [0.17625656],\n",
       "         [0.81742976],\n",
       "         [0.81742976],\n",
       "         [0.61517559],\n",
       "         [0.61517559]])}}"
      ]
     },
     "execution_count": 1,
     "metadata": {},
     "output_type": "execute_result"
    }
   ],
   "source": [
    "ds = load_by_id(run_id_a)\n",
    "ds.get_parameter_data('x1')"
   ]
  },
  {
   "cell_type": "code",
   "execution_count": null,
   "metadata": {},
   "outputs": [],
   "source": []
  }
 ],
 "metadata": {
  "kernelspec": {
   "display_name": "Python 3",
   "language": "python",
   "name": "python3"
  },
  "language_info": {
   "codemirror_mode": {
    "name": "ipython",
    "version": 3
   },
   "file_extension": ".py",
   "mimetype": "text/x-python",
   "name": "python",
   "nbconvert_exporter": "python",
   "pygments_lexer": "ipython3",
   "version": "3.7.9"
  },
  "nbsphinx": {
   "timeout": 600
  },
  "toc": {
   "base_numbering": 1,
   "nav_menu": {},
   "number_sections": true,
   "sideBar": true,
   "skip_h1_title": false,
   "title_cell": "Table of Contents",
   "title_sidebar": "Contents",
   "toc_cell": false,
   "toc_position": {},
   "toc_section_display": true,
   "toc_window_display": false
  },
  "varInspector": {
   "cols": {
    "lenName": 16,
    "lenType": 16,
    "lenVar": 40
   },
   "kernels_config": {
    "python": {
     "delete_cmd_postfix": "",
     "delete_cmd_prefix": "del ",
     "library": "var_list.py",
     "varRefreshCmd": "print(var_dic_list())"
    },
    "r": {
     "delete_cmd_postfix": ") ",
     "delete_cmd_prefix": "rm(",
     "library": "var_list.r",
     "varRefreshCmd": "cat(var_dic_list()) "
    }
   },
   "types_to_exclude": [
    "module",
    "function",
    "builtin_function_or_method",
    "instance",
    "_Feature"
   ],
   "window_display": false
  }
 },
 "nbformat": 4,
 "nbformat_minor": 2
}
