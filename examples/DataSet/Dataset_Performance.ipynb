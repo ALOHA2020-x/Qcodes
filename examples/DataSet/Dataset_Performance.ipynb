{
 "cells": [
  {
   "cell_type": "markdown",
   "metadata": {},
   "source": [
    "# DataSet Performance\n",
    "\n",
    "This notebook shows the trade-off between inserting data into a database row-by-row and as binary blobs. Inserting the data row-by-row means that we have direct access to all the data and may perform queries directly on the values of the data. On the other hand, as we shall see, this is much slower than inserting the data directly as binary blobs."
   ]
  },
  {
   "cell_type": "markdown",
   "metadata": {},
   "source": [
    "First, we choose a new location for the database to ensure that we don't add a bunch of benchmarking data to the default one."
   ]
  },
  {
   "cell_type": "code",
   "execution_count": 1,
   "metadata": {},
   "outputs": [
    {
     "name": "stdout",
     "output_type": "stream",
     "text": [
      "Logging hadn't been started.\n",
      "Activating auto-logging. Current session state plus future input saved.\n",
      "Filename       : /home/vsts/.qcodes/logs/command_history.log\n",
      "Mode           : append\n",
      "Output logging : True\n",
      "Raw input log  : False\n",
      "Timestamping   : True\n",
      "State          : active\n"
     ]
    },
    {
     "name": "stdout",
     "output_type": "stream",
     "text": [
      "Qcodes Logfile : /home/vsts/.qcodes/logs/200813-18395-qcodes.log\n"
     ]
    }
   ],
   "source": [
    "import os\n",
    "cwd = os.getcwd()\n",
    "import qcodes as qc\n",
    "qc.config[\"core\"][\"db_location\"] = os.path.join(cwd, 'testing.db')\n"
   ]
  },
  {
   "cell_type": "code",
   "execution_count": 2,
   "metadata": {},
   "outputs": [],
   "source": [
    "%matplotlib inline\n",
    "import time\n",
    "import matplotlib.pyplot as plt\n",
    "import numpy as np\n",
    "\n",
    "import qcodes as qc\n",
    "from qcodes.instrument.parameter import ManualParameter\n",
    "from qcodes.dataset.experiment_container import (Experiment,\n",
    "                                                 load_last_experiment,\n",
    "                                                 new_experiment)\n",
    "from qcodes.dataset.sqlite.database import initialise_database\n",
    "from qcodes import load_or_create_experiment\n",
    "from qcodes.dataset.measurements import Measurement"
   ]
  },
  {
   "cell_type": "code",
   "execution_count": 3,
   "metadata": {},
   "outputs": [
    {
     "name": "stdout",
     "output_type": "stream",
     "text": [
      "\r",
      "0it [00:00, ?it/s]"
     ]
    },
    {
     "name": "stdout",
     "output_type": "stream",
     "text": [
      "\r",
      "Upgrading database; v0 -> v1: : 0it [00:00, ?it/s]"
     ]
    },
    {
     "name": "stdout",
     "output_type": "stream",
     "text": [
      "\r",
      "Upgrading database; v0 -> v1: : 0it [00:00, ?it/s]"
     ]
    },
    {
     "name": "stdout",
     "output_type": "stream",
     "text": [
      "\n",
      "\r",
      "  0%|          | 0/1 [00:00<?, ?it/s]"
     ]
    },
    {
     "name": "stdout",
     "output_type": "stream",
     "text": [
      "\r",
      "Upgrading database; v1 -> v2:   0%|          | 0/1 [00:00<?, ?it/s]"
     ]
    },
    {
     "name": "stdout",
     "output_type": "stream",
     "text": [
      "\r",
      "Upgrading database; v1 -> v2: 100%|██████████| 1/1 [00:00<00:00, 678.03it/s]"
     ]
    },
    {
     "name": "stdout",
     "output_type": "stream",
     "text": [
      "\n",
      "\r",
      "0it [00:00, ?it/s]"
     ]
    },
    {
     "name": "stdout",
     "output_type": "stream",
     "text": [
      "\r",
      "Upgrading database; v2 -> v3: : 0it [00:00, ?it/s]"
     ]
    },
    {
     "name": "stdout",
     "output_type": "stream",
     "text": [
      "\r",
      "Upgrading database; v2 -> v3: : 0it [00:00, ?it/s]"
     ]
    },
    {
     "name": "stdout",
     "output_type": "stream",
     "text": [
      "\n",
      "\r",
      "0it [00:00, ?it/s]"
     ]
    },
    {
     "name": "stdout",
     "output_type": "stream",
     "text": [
      "\r",
      "Upgrading database; v3 -> v4: : 0it [00:00, ?it/s]"
     ]
    },
    {
     "name": "stdout",
     "output_type": "stream",
     "text": [
      "\r",
      "Upgrading database; v3 -> v4: : 0it [00:00, ?it/s]"
     ]
    },
    {
     "name": "stdout",
     "output_type": "stream",
     "text": [
      "\n",
      "\r",
      "  0%|          | 0/1 [00:00<?, ?it/s]"
     ]
    },
    {
     "name": "stdout",
     "output_type": "stream",
     "text": [
      "\r",
      "Upgrading database; v4 -> v5:   0%|          | 0/1 [00:00<?, ?it/s]"
     ]
    },
    {
     "name": "stdout",
     "output_type": "stream",
     "text": [
      "\r",
      "Upgrading database; v4 -> v5: 100%|██████████| 1/1 [00:00<00:00, 642.41it/s]"
     ]
    },
    {
     "name": "stdout",
     "output_type": "stream",
     "text": [
      "\n",
      "\r",
      "0it [00:00, ?it/s]"
     ]
    },
    {
     "name": "stdout",
     "output_type": "stream",
     "text": [
      "\r",
      "Upgrading database; v5 -> v6: : 0it [00:00, ?it/s]"
     ]
    },
    {
     "name": "stdout",
     "output_type": "stream",
     "text": [
      "\r",
      "Upgrading database; v5 -> v6: : 0it [00:00, ?it/s]"
     ]
    },
    {
     "name": "stdout",
     "output_type": "stream",
     "text": [
      "\n",
      "\r",
      "  0%|          | 0/1 [00:00<?, ?it/s]"
     ]
    },
    {
     "name": "stdout",
     "output_type": "stream",
     "text": [
      "\r",
      "Upgrading database; v6 -> v7:   0%|          | 0/1 [00:00<?, ?it/s]"
     ]
    },
    {
     "name": "stdout",
     "output_type": "stream",
     "text": [
      "\r",
      "Upgrading database; v6 -> v7: 100%|██████████| 1/1 [00:00<00:00, 390.20it/s]"
     ]
    },
    {
     "name": "stdout",
     "output_type": "stream",
     "text": [
      "\n",
      "\r",
      "  0%|          | 0/1 [00:00<?, ?it/s]"
     ]
    },
    {
     "name": "stdout",
     "output_type": "stream",
     "text": [
      "\r",
      "Upgrading database; v7 -> v8:   0%|          | 0/1 [00:00<?, ?it/s]"
     ]
    },
    {
     "name": "stdout",
     "output_type": "stream",
     "text": [
      "\r",
      "Upgrading database; v7 -> v8: 100%|██████████| 1/1 [00:00<00:00, 543.44it/s]"
     ]
    },
    {
     "name": "stdout",
     "output_type": "stream",
     "text": [
      "\n",
      "\r",
      "  0%|          | 0/1 [00:00<?, ?it/s]"
     ]
    },
    {
     "name": "stdout",
     "output_type": "stream",
     "text": [
      "\r",
      "Upgrading database; v8 -> v9:   0%|          | 0/1 [00:00<?, ?it/s]"
     ]
    },
    {
     "name": "stdout",
     "output_type": "stream",
     "text": [
      "\r",
      "Upgrading database; v8 -> v9: 100%|██████████| 1/1 [00:00<00:00, 719.19it/s]"
     ]
    },
    {
     "name": "stdout",
     "output_type": "stream",
     "text": [
      "\n"
     ]
    }
   ],
   "source": [
    "initialise_database()\n",
    "exp = load_or_create_experiment(experiment_name='tutorial_exp', sample_name=\"no sample\")"
   ]
  },
  {
   "cell_type": "markdown",
   "metadata": {},
   "source": [
    "Here, we define a simple function to benchmark the time it takes to insert n points with either numeric or array data type.\n",
    "We will compare both the time used to call ``add_result`` and the time used for the full measurement."
   ]
  },
  {
   "cell_type": "code",
   "execution_count": 4,
   "metadata": {},
   "outputs": [],
   "source": [
    "def insert_data(paramtype, npoints, nreps=1):\n",
    "\n",
    "    meas = Measurement(exp=exp)\n",
    "\n",
    "    x1 = ManualParameter('x1')\n",
    "    x2 = ManualParameter('x2')\n",
    "    x3 = ManualParameter('x3')\n",
    "    y1 = ManualParameter('y1')\n",
    "    y2 = ManualParameter('y2')\n",
    "\n",
    "    meas.register_parameter(x1, paramtype=paramtype)\n",
    "    meas.register_parameter(x2, paramtype=paramtype)\n",
    "    meas.register_parameter(x3, paramtype=paramtype)\n",
    "    meas.register_parameter(y1, setpoints=[x1, x2, x3],\n",
    "                            paramtype=paramtype)\n",
    "    meas.register_parameter(y2, setpoints=[x1, x2, x3],\n",
    "                            paramtype=paramtype)\n",
    "    start = time.perf_counter()\n",
    "    with meas.run() as datasaver:\n",
    "        start_adding = time.perf_counter()\n",
    "        for i in range(nreps):\n",
    "            datasaver.add_result((x1, np.random.rand(npoints)),\n",
    "                                 (x2, np.random.rand(npoints)),\n",
    "                                 (x3, np.random.rand(npoints)),\n",
    "                                 (y1, np.random.rand(npoints)),\n",
    "                                 (y2, np.random.rand(npoints)))\n",
    "        stop_adding = time.perf_counter()\n",
    "        run_id = datasaver.run_id\n",
    "    stop = time.perf_counter()\n",
    "    tot_time = stop - start\n",
    "    add_time = stop_adding - start_adding\n",
    "    return tot_time, add_time, run_id"
   ]
  },
  {
   "cell_type": "markdown",
   "metadata": {},
   "source": [
    "## Comparison between numeric/array data and binary blob"
   ]
  },
  {
   "cell_type": "markdown",
   "metadata": {},
   "source": [
    "### Case1: Short experiment time"
   ]
  },
  {
   "cell_type": "code",
   "execution_count": 5,
   "metadata": {},
   "outputs": [
    {
     "name": "stdout",
     "output_type": "stream",
     "text": [
      "Starting experimental run with id: 1. \n",
      "Starting experimental run with id: 2. \n",
      "Starting experimental run with id: 3. \n"
     ]
    },
    {
     "name": "stdout",
     "output_type": "stream",
     "text": [
      "Starting experimental run with id: 4. \n"
     ]
    },
    {
     "name": "stdout",
     "output_type": "stream",
     "text": [
      "Starting experimental run with id: 5. \n",
      "Starting experimental run with id: 6. \n"
     ]
    },
    {
     "name": "stdout",
     "output_type": "stream",
     "text": [
      "Starting experimental run with id: 7. \n",
      "Starting experimental run with id: 8. \n"
     ]
    },
    {
     "name": "stdout",
     "output_type": "stream",
     "text": [
      "Starting experimental run with id: 9. \n"
     ]
    },
    {
     "name": "stdout",
     "output_type": "stream",
     "text": [
      "Starting experimental run with id: 10. \n",
      "Starting experimental run with id: 11. \n"
     ]
    },
    {
     "name": "stdout",
     "output_type": "stream",
     "text": [
      "Starting experimental run with id: 12. \n",
      "Starting experimental run with id: 13. \n"
     ]
    },
    {
     "name": "stdout",
     "output_type": "stream",
     "text": [
      "Starting experimental run with id: 14. \n"
     ]
    }
   ],
   "source": [
    "sizes = [1,500,1000,2000,3000,4000,5000]\n",
    "t_numeric = []\n",
    "t_numeric_add = []\n",
    "t_array = []\n",
    "t_array_add = []\n",
    "for size in sizes:\n",
    "    tn, tna, run_id_n =  insert_data('numeric', size)\n",
    "    t_numeric.append(tn)\n",
    "    t_numeric_add.append(tna)\n",
    "\n",
    "    ta, taa, run_id_a =  insert_data('array', size)\n",
    "    t_array.append(ta)\n",
    "    t_array_add.append(taa)"
   ]
  },
  {
   "cell_type": "code",
   "execution_count": 6,
   "metadata": {},
   "outputs": [
    {
     "data": {
      "image/png": "[encoded data removed]",
      "text/plain": [
       "<Figure size 432x288 with 1 Axes>"
      ]
     },
     "metadata": {
      "needs_background": "light"
     },
     "output_type": "display_data"
    }
   ],
   "source": [
    "fig, ax = plt.subplots(1,1)\n",
    "ax.plot(sizes, t_numeric, 'o-', label='Inserting row-by-row')\n",
    "ax.plot(sizes, t_numeric_add, 'o-', label='Inserting row-by-row: add_result only')\n",
    "ax.plot(sizes, t_array, 'd-', label='Inserting as binary blob')\n",
    "ax.plot(sizes, t_array_add, 'd-', label='Inserting as binary blob: add_result only')\n",
    "ax.legend()\n",
    "ax.set_xlabel('Array length')\n",
    "ax.set_ylabel('Time (s)')\n",
    "fig.tight_layout()"
   ]
  },
  {
   "cell_type": "markdown",
   "metadata": {},
   "source": [
    "As shown in the latter figure, the time to setup and and close the experiment is approximately 0.4 sec. In case of small array sizes, the difference between inserting values of data as arrays and inserting them row-by-row is relatively unimportant. At larger array sizes, i.e. above 10000 points, the cost of writing data as individual datapoints starts to become important.\n"
   ]
  },
  {
   "cell_type": "markdown",
   "metadata": {},
   "source": [
    "### Case2: Long experiment time "
   ]
  },
  {
   "cell_type": "code",
   "execution_count": 7,
   "metadata": {},
   "outputs": [
    {
     "name": "stdout",
     "output_type": "stream",
     "text": [
      "Starting experimental run with id: 15. \n",
      "Starting experimental run with id: 16. \n",
      "Starting experimental run with id: 17. \n"
     ]
    },
    {
     "name": "stdout",
     "output_type": "stream",
     "text": [
      "Starting experimental run with id: 18. \n",
      "Starting experimental run with id: 19. \n"
     ]
    },
    {
     "name": "stdout",
     "output_type": "stream",
     "text": [
      "Starting experimental run with id: 20. \n"
     ]
    },
    {
     "name": "stdout",
     "output_type": "stream",
     "text": [
      "Starting experimental run with id: 21. \n"
     ]
    },
    {
     "name": "stdout",
     "output_type": "stream",
     "text": [
      "Starting experimental run with id: 22. \n"
     ]
    },
    {
     "name": "stdout",
     "output_type": "stream",
     "text": [
      "Starting experimental run with id: 23. \n"
     ]
    },
    {
     "name": "stdout",
     "output_type": "stream",
     "text": [
      "Starting experimental run with id: 24. \n"
     ]
    },
    {
     "name": "stdout",
     "output_type": "stream",
     "text": [
      "Starting experimental run with id: 25. \n"
     ]
    },
    {
     "name": "stdout",
     "output_type": "stream",
     "text": [
      "Starting experimental run with id: 26. \n"
     ]
    },
    {
     "name": "stdout",
     "output_type": "stream",
     "text": [
      "Starting experimental run with id: 27. \n"
     ]
    },
    {
     "name": "stdout",
     "output_type": "stream",
     "text": [
      "Starting experimental run with id: 28. \n"
     ]
    }
   ],
   "source": [
    "sizes = [1,500,1000,2000,3000,4000,5000]\n",
    "nreps = 100\n",
    "t_numeric = []\n",
    "t_numeric_add = []\n",
    "t_numeric_run_ids = []\n",
    "t_array = []\n",
    "t_array_add = []\n",
    "t_array_run_ids = []\n",
    "for size in sizes:\n",
    "    tn, tna, run_id_n =  insert_data('numeric', size, nreps=nreps)\n",
    "    t_numeric.append(tn)\n",
    "    t_numeric_add.append(tna)\n",
    "    t_numeric_run_ids.append(run_id_n)\n",
    "\n",
    "    ta, taa, run_id_a =  insert_data('array', size, nreps=nreps)\n",
    "    t_array.append(ta)\n",
    "    t_array_add.append(taa)\n",
    "    t_array_run_ids.append(run_id_a)"
   ]
  },
  {
   "cell_type": "code",
   "execution_count": 8,
   "metadata": {
    "scrolled": true
   },
   "outputs": [
    {
     "data": {
      "image/png": "[encoded data removed]",
      "text/plain": [
       "<Figure size 432x288 with 1 Axes>"
      ]
     },
     "metadata": {
      "needs_background": "light"
     },
     "output_type": "display_data"
    }
   ],
   "source": [
    "fig, ax = plt.subplots(1,1)\n",
    "ax.plot(sizes, t_numeric, 'o-', label='Inserting row-by-row')\n",
    "ax.plot(sizes, t_numeric_add, 'o-', label='Inserting row-by-row: add_result only')\n",
    "ax.plot(sizes, t_array, 'd-', label='Inserting as binary blob')\n",
    "ax.plot(sizes, t_array_add, 'd-', label='Inserting as binary blob: add_result only')\n",
    "ax.legend()\n",
    "ax.set_xlabel('Array length')\n",
    "ax.set_ylabel('Time (s)')\n",
    "fig.tight_layout()"
   ]
  },
  {
   "cell_type": "markdown",
   "metadata": {},
   "source": [
    "However, as we increase the length of the experiment, as seen here by repeating the insertion 100 times, we see a big difference between inserting values of the data row-by-row and inserting it as a binary blob."
   ]
  },
  {
   "cell_type": "markdown",
   "metadata": {},
   "source": [
    "## Loading the data "
   ]
  },
  {
   "cell_type": "code",
   "execution_count": 9,
   "metadata": {},
   "outputs": [],
   "source": [
    "from qcodes.dataset.data_set import load_by_id\n",
    "from qcodes.dataset.data_export import get_data_by_id"
   ]
  },
  {
   "cell_type": "markdown",
   "metadata": {},
   "source": [
    "As usual you can load the data by using the ``load_by_id`` function but you will notice that the different storage methods\n",
    "are reflected in shape of the data as it is retrieved. "
   ]
  },
  {
   "cell_type": "code",
   "execution_count": 10,
   "metadata": {},
   "outputs": [],
   "source": [
    "run_id_n = t_numeric_run_ids[0]\n",
    "run_id_a = t_array_run_ids[0]"
   ]
  },
  {
   "cell_type": "code",
   "execution_count": 11,
   "metadata": {
    "scrolled": true
   },
   "outputs": [
    {
     "data": {
      "text/plain": [
       "{'x1': {'x1': array([0.61222935, 0.61222935, 0.44919493, 0.44919493, 0.77056708,\n",
       "         0.77056708, 0.56577002, 0.56577002, 0.26685056, 0.26685056,\n",
       "         0.22327849, 0.22327849, 0.27587521, 0.27587521, 0.72388748,\n",
       "         0.72388748, 0.08620432, 0.08620432, 0.39347585, 0.39347585,\n",
       "         0.79707107, 0.79707107, 0.22866914, 0.22866914, 0.63249082,\n",
       "         0.63249082, 0.19476257, 0.19476257, 0.18507311, 0.18507311,\n",
       "         0.22109552, 0.22109552, 0.96209002, 0.96209002, 0.47134752,\n",
       "         0.47134752, 0.61355789, 0.61355789, 0.51583454, 0.51583454,\n",
       "         0.08553773, 0.08553773, 0.00359173, 0.00359173, 0.04751769,\n",
       "         0.04751769, 0.70071911, 0.70071911, 0.03348239, 0.03348239,\n",
       "         0.56856136, 0.56856136, 0.87158239, 0.87158239, 0.13551306,\n",
       "         0.13551306, 0.23940198, 0.23940198, 0.15913529, 0.15913529,\n",
       "         0.68069263, 0.68069263, 0.22957913, 0.22957913, 0.6869374 ,\n",
       "         0.6869374 , 0.80132916, 0.80132916, 0.84772923, 0.84772923,\n",
       "         0.12942558, 0.12942558, 0.74517805, 0.74517805, 0.44817595,\n",
       "         0.44817595, 0.25559412, 0.25559412, 0.05319675, 0.05319675,\n",
       "         0.05911401, 0.05911401, 0.42501521, 0.42501521, 0.93121514,\n",
       "         0.93121514, 0.45550691, 0.45550691, 0.23980165, 0.23980165,\n",
       "         0.08138511, 0.08138511, 0.64291753, 0.64291753, 0.06793186,\n",
       "         0.06793186, 0.11599333, 0.11599333, 0.08444311, 0.08444311,\n",
       "         0.8911111 , 0.8911111 , 0.74223652, 0.74223652, 0.86485195,\n",
       "         0.86485195, 0.54656934, 0.54656934, 0.79320302, 0.79320302,\n",
       "         0.09885745, 0.09885745, 0.19948994, 0.19948994, 0.29942498,\n",
       "         0.29942498, 0.96075298, 0.96075298, 0.69305379, 0.69305379,\n",
       "         0.93244508, 0.93244508, 0.30036159, 0.30036159, 0.73254324,\n",
       "         0.73254324, 0.27598389, 0.27598389, 0.92681597, 0.92681597,\n",
       "         0.65766855, 0.65766855, 0.26321239, 0.26321239, 0.32454337,\n",
       "         0.32454337, 0.27057241, 0.27057241, 0.32000303, 0.32000303,\n",
       "         0.19287143, 0.19287143, 0.66442762, 0.66442762, 0.97572129,\n",
       "         0.97572129, 0.74484671, 0.74484671, 0.46761494, 0.46761494,\n",
       "         0.93266458, 0.93266458, 0.41006181, 0.41006181, 0.06865595,\n",
       "         0.06865595, 0.47806745, 0.47806745, 0.18746621, 0.18746621,\n",
       "         0.88849047, 0.88849047, 0.26476838, 0.26476838, 0.4218296 ,\n",
       "         0.4218296 , 0.0806688 , 0.0806688 , 0.79566591, 0.79566591,\n",
       "         0.25965751, 0.25965751, 0.10077733, 0.10077733, 0.31571705,\n",
       "         0.31571705, 0.13264709, 0.13264709, 0.21293709, 0.21293709,\n",
       "         0.12507531, 0.12507531, 0.21566287, 0.21566287, 0.68298091,\n",
       "         0.68298091, 0.01735971, 0.01735971, 0.35597107, 0.35597107,\n",
       "         0.87935065, 0.87935065, 0.68399972, 0.68399972, 0.26606176,\n",
       "         0.26606176, 0.60941873, 0.60941873, 0.32152107, 0.32152107])}}"
      ]
     },
     "execution_count": 11,
     "metadata": {},
     "output_type": "execute_result"
    }
   ],
   "source": [
    "ds = load_by_id(run_id_n)\n",
    "ds.get_parameter_data('x1')"
   ]
  },
  {
   "cell_type": "markdown",
   "metadata": {},
   "source": [
    "And a dataset stored as binary arrays"
   ]
  },
  {
   "cell_type": "code",
   "execution_count": 12,
   "metadata": {
    "scrolled": true
   },
   "outputs": [
    {
     "data": {
      "text/plain": [
       "{'x1': {'x1': array([[0.66614961],\n",
       "         [0.66614961],\n",
       "         [0.48568059],\n",
       "         [0.48568059],\n",
       "         [0.77452043],\n",
       "         [0.77452043],\n",
       "         [0.82883101],\n",
       "         [0.82883101],\n",
       "         [0.20063276],\n",
       "         [0.20063276],\n",
       "         [0.35170502],\n",
       "         [0.35170502],\n",
       "         [0.45195209],\n",
       "         [0.45195209],\n",
       "         [0.12505463],\n",
       "         [0.12505463],\n",
       "         [0.23672818],\n",
       "         [0.23672818],\n",
       "         [0.38914923],\n",
       "         [0.38914923],\n",
       "         [0.42695519],\n",
       "         [0.42695519],\n",
       "         [0.01264058],\n",
       "         [0.01264058],\n",
       "         [0.71194907],\n",
       "         [0.71194907],\n",
       "         [0.52497889],\n",
       "         [0.52497889],\n",
       "         [0.92487131],\n",
       "         [0.92487131],\n",
       "         [0.1107716 ],\n",
       "         [0.1107716 ],\n",
       "         [0.52173829],\n",
       "         [0.52173829],\n",
       "         [0.07244406],\n",
       "         [0.07244406],\n",
       "         [0.68186642],\n",
       "         [0.68186642],\n",
       "         [0.48589532],\n",
       "         [0.48589532],\n",
       "         [0.17522012],\n",
       "         [0.17522012],\n",
       "         [0.37900962],\n",
       "         [0.37900962],\n",
       "         [0.73594307],\n",
       "         [0.73594307],\n",
       "         [0.69470452],\n",
       "         [0.69470452],\n",
       "         [0.78812642],\n",
       "         [0.78812642],\n",
       "         [0.87664517],\n",
       "         [0.87664517],\n",
       "         [0.19612909],\n",
       "         [0.19612909],\n",
       "         [0.65975102],\n",
       "         [0.65975102],\n",
       "         [0.98734861],\n",
       "         [0.98734861],\n",
       "         [0.62987796],\n",
       "         [0.62987796],\n",
       "         [0.20908004],\n",
       "         [0.20908004],\n",
       "         [0.37171323],\n",
       "         [0.37171323],\n",
       "         [0.93154927],\n",
       "         [0.93154927],\n",
       "         [0.34328535],\n",
       "         [0.34328535],\n",
       "         [0.21179248],\n",
       "         [0.21179248],\n",
       "         [0.03563826],\n",
       "         [0.03563826],\n",
       "         [0.11886069],\n",
       "         [0.11886069],\n",
       "         [0.81231535],\n",
       "         [0.81231535],\n",
       "         [0.82638658],\n",
       "         [0.82638658],\n",
       "         [0.57545671],\n",
       "         [0.57545671],\n",
       "         [0.28529651],\n",
       "         [0.28529651],\n",
       "         [0.58190266],\n",
       "         [0.58190266],\n",
       "         [0.59281847],\n",
       "         [0.59281847],\n",
       "         [0.76596474],\n",
       "         [0.76596474],\n",
       "         [0.05438215],\n",
       "         [0.05438215],\n",
       "         [0.60226319],\n",
       "         [0.60226319],\n",
       "         [0.73558144],\n",
       "         [0.73558144],\n",
       "         [0.77740985],\n",
       "         [0.77740985],\n",
       "         [0.90999793],\n",
       "         [0.90999793],\n",
       "         [0.35722263],\n",
       "         [0.35722263],\n",
       "         [0.74404631],\n",
       "         [0.74404631],\n",
       "         [0.37048778],\n",
       "         [0.37048778],\n",
       "         [0.80291675],\n",
       "         [0.80291675],\n",
       "         [0.51457218],\n",
       "         [0.51457218],\n",
       "         [0.04043212],\n",
       "         [0.04043212],\n",
       "         [0.46098268],\n",
       "         [0.46098268],\n",
       "         [0.33257987],\n",
       "         [0.33257987],\n",
       "         [0.61064308],\n",
       "         [0.61064308],\n",
       "         [0.07824639],\n",
       "         [0.07824639],\n",
       "         [0.40838591],\n",
       "         [0.40838591],\n",
       "         [0.28300497],\n",
       "         [0.28300497],\n",
       "         [0.63100822],\n",
       "         [0.63100822],\n",
       "         [0.81415893],\n",
       "         [0.81415893],\n",
       "         [0.6298021 ],\n",
       "         [0.6298021 ],\n",
       "         [0.73870458],\n",
       "         [0.73870458],\n",
       "         [0.96513531],\n",
       "         [0.96513531],\n",
       "         [0.59061028],\n",
       "         [0.59061028],\n",
       "         [0.85618659],\n",
       "         [0.85618659],\n",
       "         [0.13803392],\n",
       "         [0.13803392],\n",
       "         [0.76215434],\n",
       "         [0.76215434],\n",
       "         [0.53470894],\n",
       "         [0.53470894],\n",
       "         [0.81502769],\n",
       "         [0.81502769],\n",
       "         [0.45865955],\n",
       "         [0.45865955],\n",
       "         [0.99416439],\n",
       "         [0.99416439],\n",
       "         [0.58769358],\n",
       "         [0.58769358],\n",
       "         [0.54867168],\n",
       "         [0.54867168],\n",
       "         [0.95276781],\n",
       "         [0.95276781],\n",
       "         [0.91088906],\n",
       "         [0.91088906],\n",
       "         [0.07235652],\n",
       "         [0.07235652],\n",
       "         [0.11558301],\n",
       "         [0.11558301],\n",
       "         [0.2637801 ],\n",
       "         [0.2637801 ],\n",
       "         [0.19523269],\n",
       "         [0.19523269],\n",
       "         [0.34533069],\n",
       "         [0.34533069],\n",
       "         [0.16483426],\n",
       "         [0.16483426],\n",
       "         [0.38778683],\n",
       "         [0.38778683],\n",
       "         [0.29439415],\n",
       "         [0.29439415],\n",
       "         [0.90974864],\n",
       "         [0.90974864],\n",
       "         [0.09023486],\n",
       "         [0.09023486],\n",
       "         [0.10649648],\n",
       "         [0.10649648],\n",
       "         [0.18739433],\n",
       "         [0.18739433],\n",
       "         [0.28334989],\n",
       "         [0.28334989],\n",
       "         [0.56213469],\n",
       "         [0.56213469],\n",
       "         [0.18039018],\n",
       "         [0.18039018],\n",
       "         [0.84978219],\n",
       "         [0.84978219],\n",
       "         [0.9271983 ],\n",
       "         [0.9271983 ],\n",
       "         [0.34532287],\n",
       "         [0.34532287],\n",
       "         [0.70019766],\n",
       "         [0.70019766],\n",
       "         [0.50958905],\n",
       "         [0.50958905],\n",
       "         [0.42638992],\n",
       "         [0.42638992],\n",
       "         [0.05552374],\n",
       "         [0.05552374]])}}"
      ]
     },
     "execution_count": 12,
     "metadata": {},
     "output_type": "execute_result"
    }
   ],
   "source": [
    "ds = load_by_id(run_id_a)\n",
    "ds.get_parameter_data('x1')"
   ]
  },
  {
   "cell_type": "code",
   "execution_count": null,
   "metadata": {},
   "outputs": [],
   "source": []
  }
 ],
 "metadata": {
  "kernelspec": {
   "display_name": "Python 3",
   "language": "python",
   "name": "python3"
  },
  "language_info": {
   "codemirror_mode": {
    "name": "ipython",
    "version": 3
   },
   "file_extension": ".py",
   "mimetype": "text/x-python",
   "name": "python",
   "nbconvert_exporter": "python",
   "pygments_lexer": "ipython3",
   "version": "3.7.7"
  },
  "nbsphinx": {
   "timeout": 600
  },
  "toc": {
   "base_numbering": 1,
   "nav_menu": {},
   "number_sections": true,
   "sideBar": true,
   "skip_h1_title": false,
   "title_cell": "Table of Contents",
   "title_sidebar": "Contents",
   "toc_cell": false,
   "toc_position": {},
   "toc_section_display": true,
   "toc_window_display": false
  },
  "varInspector": {
   "cols": {
    "lenName": 16,
    "lenType": 16,
    "lenVar": 40
   },
   "kernels_config": {
    "python": {
     "delete_cmd_postfix": "",
     "delete_cmd_prefix": "del ",
     "library": "var_list.py",
     "varRefreshCmd": "print(var_dic_list())"
    },
    "r": {
     "delete_cmd_postfix": ") ",
     "delete_cmd_prefix": "rm(",
     "library": "var_list.r",
     "varRefreshCmd": "cat(var_dic_list()) "
    }
   },
   "types_to_exclude": [
    "module",
    "function",
    "builtin_function_or_method",
    "instance",
    "_Feature"
   ],
   "window_display": false
  }
 },
 "nbformat": 4,
 "nbformat_minor": 2
}
