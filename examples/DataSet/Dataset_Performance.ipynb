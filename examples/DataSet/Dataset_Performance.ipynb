{
 "cells": [
  {
   "cell_type": "markdown",
   "metadata": {},
   "source": [
    "# DataSet Performance\n",
    "\n",
    "This notebook shows the trade-off between inserting data into a database row-by-row and as binary blobs. Inserting the data row-by-row means that we have direct access to all the data and may perform queries directly on the values of the data. On the other hand, as we shall see, this is much slower than inserting the data directly as binary blobs."
   ]
  },
  {
   "cell_type": "markdown",
   "metadata": {},
   "source": [
    "First, we choose a new location for the database to ensure that we don't add a bunch of benchmarking data to the default one."
   ]
  },
  {
   "cell_type": "code",
   "execution_count": 1,
   "metadata": {},
   "outputs": [
    {
     "name": "stdout",
     "output_type": "stream",
     "text": [
      "Logging hadn't been started.\n",
      "Activating auto-logging. Current session state plus future input saved.\n",
      "Filename       : /home/vsts/.qcodes/logs/command_history.log\n",
      "Mode           : append\n",
      "Output logging : True\n",
      "Raw input log  : False\n",
      "Timestamping   : True\n",
      "State          : active\n"
     ]
    },
    {
     "name": "stdout",
     "output_type": "stream",
     "text": [
      "Qcodes Logfile : /home/vsts/.qcodes/logs/200318-22957-qcodes.log\n"
     ]
    }
   ],
   "source": [
    "import os\n",
    "cwd = os.getcwd()\n",
    "import qcodes as qc\n",
    "qc.config[\"core\"][\"db_location\"] = os.path.join(cwd, 'testing.db')\n"
   ]
  },
  {
   "cell_type": "code",
   "execution_count": 2,
   "metadata": {},
   "outputs": [],
   "source": [
    "%matplotlib inline\n",
    "import time\n",
    "import matplotlib.pyplot as plt\n",
    "import numpy as np\n",
    "\n",
    "import qcodes as qc\n",
    "from qcodes.instrument.parameter import ManualParameter\n",
    "from qcodes.dataset.experiment_container import (Experiment,\n",
    "                                                 load_last_experiment,\n",
    "                                                 new_experiment)\n",
    "from qcodes.dataset.sqlite.database import initialise_database\n",
    "from qcodes import load_or_create_experiment\n",
    "from qcodes.dataset.measurements import Measurement"
   ]
  },
  {
   "cell_type": "code",
   "execution_count": 3,
   "metadata": {},
   "outputs": [
    {
     "name": "stdout",
     "output_type": "stream",
     "text": [
      "\r",
      "0it [00:00, ?it/s]"
     ]
    },
    {
     "name": "stdout",
     "output_type": "stream",
     "text": [
      "\r",
      "Upgrading database; v0 -> v1: : 0it [00:00, ?it/s]"
     ]
    },
    {
     "name": "stdout",
     "output_type": "stream",
     "text": [
      "\r",
      "Upgrading database; v0 -> v1: : 0it [00:00, ?it/s]"
     ]
    },
    {
     "name": "stdout",
     "output_type": "stream",
     "text": [
      "\n",
      "\r",
      "  0%|          | 0/1 [00:00<?, ?it/s]"
     ]
    },
    {
     "name": "stdout",
     "output_type": "stream",
     "text": [
      "\r",
      "Upgrading database; v1 -> v2:   0%|          | 0/1 [00:00<?, ?it/s]"
     ]
    },
    {
     "name": "stdout",
     "output_type": "stream",
     "text": [
      "\r",
      "Upgrading database; v1 -> v2: 100%|██████████| 1/1 [00:00<00:00, 1171.27it/s]"
     ]
    },
    {
     "name": "stdout",
     "output_type": "stream",
     "text": [
      "\n",
      "\r",
      "0it [00:00, ?it/s]"
     ]
    },
    {
     "name": "stdout",
     "output_type": "stream",
     "text": [
      "\r",
      "Upgrading database; v2 -> v3: : 0it [00:00, ?it/s]"
     ]
    },
    {
     "name": "stdout",
     "output_type": "stream",
     "text": [
      "\r",
      "Upgrading database; v2 -> v3: : 0it [00:00, ?it/s]"
     ]
    },
    {
     "name": "stdout",
     "output_type": "stream",
     "text": [
      "\n",
      "\r",
      "0it [00:00, ?it/s]"
     ]
    },
    {
     "name": "stdout",
     "output_type": "stream",
     "text": [
      "\r",
      "Upgrading database; v3 -> v4: : 0it [00:00, ?it/s]"
     ]
    },
    {
     "name": "stdout",
     "output_type": "stream",
     "text": [
      "\r",
      "Upgrading database; v3 -> v4: : 0it [00:00, ?it/s]"
     ]
    },
    {
     "name": "stdout",
     "output_type": "stream",
     "text": [
      "\n",
      "\r",
      "  0%|          | 0/1 [00:00<?, ?it/s]"
     ]
    },
    {
     "name": "stdout",
     "output_type": "stream",
     "text": [
      "\r",
      "Upgrading database; v4 -> v5:   0%|          | 0/1 [00:00<?, ?it/s]"
     ]
    },
    {
     "name": "stdout",
     "output_type": "stream",
     "text": [
      "\r",
      "Upgrading database; v4 -> v5: 100%|██████████| 1/1 [00:00<00:00, 853.72it/s]"
     ]
    },
    {
     "name": "stdout",
     "output_type": "stream",
     "text": [
      "\n",
      "\r",
      "0it [00:00, ?it/s]"
     ]
    },
    {
     "name": "stdout",
     "output_type": "stream",
     "text": [
      "\r",
      "Upgrading database; v5 -> v6: : 0it [00:00, ?it/s]"
     ]
    },
    {
     "name": "stdout",
     "output_type": "stream",
     "text": [
      "\r",
      "Upgrading database; v5 -> v6: : 0it [00:00, ?it/s]"
     ]
    },
    {
     "name": "stdout",
     "output_type": "stream",
     "text": [
      "\n",
      "\r",
      "  0%|          | 0/1 [00:00<?, ?it/s]"
     ]
    },
    {
     "name": "stdout",
     "output_type": "stream",
     "text": [
      "\r",
      "Upgrading database; v6 -> v7:   0%|          | 0/1 [00:00<?, ?it/s]"
     ]
    },
    {
     "name": "stdout",
     "output_type": "stream",
     "text": [
      "\r",
      "Upgrading database; v6 -> v7: 100%|██████████| 1/1 [00:00<00:00, 351.08it/s]"
     ]
    },
    {
     "name": "stdout",
     "output_type": "stream",
     "text": [
      "\n",
      "\r",
      "  0%|          | 0/1 [00:00<?, ?it/s]"
     ]
    },
    {
     "name": "stdout",
     "output_type": "stream",
     "text": [
      "\r",
      "Upgrading database; v7 -> v8:   0%|          | 0/1 [00:00<?, ?it/s]"
     ]
    },
    {
     "name": "stdout",
     "output_type": "stream",
     "text": [
      "\r",
      "Upgrading database; v7 -> v8: 100%|██████████| 1/1 [00:00<00:00, 794.38it/s]"
     ]
    },
    {
     "name": "stdout",
     "output_type": "stream",
     "text": [
      "\n",
      "\r",
      "  0%|          | 0/1 [00:00<?, ?it/s]"
     ]
    },
    {
     "name": "stdout",
     "output_type": "stream",
     "text": [
      "\r",
      "Upgrading database; v8 -> v9:   0%|          | 0/1 [00:00<?, ?it/s]"
     ]
    },
    {
     "name": "stdout",
     "output_type": "stream",
     "text": [
      "\r",
      "Upgrading database; v8 -> v9: 100%|██████████| 1/1 [00:00<00:00, 967.10it/s]"
     ]
    },
    {
     "name": "stdout",
     "output_type": "stream",
     "text": [
      "\n"
     ]
    }
   ],
   "source": [
    "initialise_database()\n",
    "exp = load_or_create_experiment(experiment_name='tutorial_exp', sample_name=\"no sample\")"
   ]
  },
  {
   "cell_type": "markdown",
   "metadata": {},
   "source": [
    "Here, we define a simple function to benchmark the time it takes to insert n points with either numeric or array data type.\n",
    "We will compare both the time used to call ``add_result`` and the time used for the full measurement."
   ]
  },
  {
   "cell_type": "code",
   "execution_count": 4,
   "metadata": {},
   "outputs": [],
   "source": [
    "def insert_data(paramtype, npoints, nreps=1):\n",
    "\n",
    "    meas = Measurement(exp=exp)\n",
    "\n",
    "    x1 = ManualParameter('x1')\n",
    "    x2 = ManualParameter('x2')\n",
    "    x3 = ManualParameter('x3')\n",
    "    y1 = ManualParameter('y1')\n",
    "    y2 = ManualParameter('y2')\n",
    "\n",
    "    meas.register_parameter(x1, paramtype=paramtype)\n",
    "    meas.register_parameter(x2, paramtype=paramtype)\n",
    "    meas.register_parameter(x3, paramtype=paramtype)\n",
    "    meas.register_parameter(y1, setpoints=[x1, x2, x3],\n",
    "                            paramtype=paramtype)\n",
    "    meas.register_parameter(y2, setpoints=[x1, x2, x3],\n",
    "                            paramtype=paramtype)\n",
    "    start = time.perf_counter()\n",
    "    with meas.run() as datasaver:\n",
    "        start_adding = time.perf_counter()\n",
    "        for i in range(nreps):\n",
    "            datasaver.add_result((x1, np.random.rand(npoints)),\n",
    "                                 (x2, np.random.rand(npoints)),\n",
    "                                 (x3, np.random.rand(npoints)),\n",
    "                                 (y1, np.random.rand(npoints)),\n",
    "                                 (y2, np.random.rand(npoints)))\n",
    "        stop_adding = time.perf_counter()\n",
    "        run_id = datasaver.run_id\n",
    "    stop = time.perf_counter()\n",
    "    tot_time = stop - start\n",
    "    add_time = stop_adding - start_adding\n",
    "    return tot_time, add_time, run_id"
   ]
  },
  {
   "cell_type": "markdown",
   "metadata": {},
   "source": [
    "## Comparison between numeric/array data and binary blob"
   ]
  },
  {
   "cell_type": "markdown",
   "metadata": {},
   "source": [
    "### Case1: Short experiment time"
   ]
  },
  {
   "cell_type": "code",
   "execution_count": 5,
   "metadata": {},
   "outputs": [
    {
     "name": "stdout",
     "output_type": "stream",
     "text": [
      "Starting experimental run with id: 1. \n",
      "Starting experimental run with id: 2. \n",
      "Starting experimental run with id: 3. \n",
      "Starting experimental run with id: 4. \n"
     ]
    },
    {
     "name": "stdout",
     "output_type": "stream",
     "text": [
      "Starting experimental run with id: 5. \n"
     ]
    },
    {
     "name": "stdout",
     "output_type": "stream",
     "text": [
      "Starting experimental run with id: 6. \n",
      "Starting experimental run with id: 7. \n"
     ]
    },
    {
     "name": "stdout",
     "output_type": "stream",
     "text": [
      "Starting experimental run with id: 8. \n"
     ]
    },
    {
     "name": "stdout",
     "output_type": "stream",
     "text": [
      "Starting experimental run with id: 9. \n"
     ]
    },
    {
     "name": "stdout",
     "output_type": "stream",
     "text": [
      "Starting experimental run with id: 10. \n",
      "Starting experimental run with id: 11. \n"
     ]
    },
    {
     "name": "stdout",
     "output_type": "stream",
     "text": [
      "Starting experimental run with id: 12. \n"
     ]
    },
    {
     "name": "stdout",
     "output_type": "stream",
     "text": [
      "Starting experimental run with id: 13. \n"
     ]
    },
    {
     "name": "stdout",
     "output_type": "stream",
     "text": [
      "Starting experimental run with id: 14. \n"
     ]
    }
   ],
   "source": [
    "sizes = [1,500,1000,2000,3000,4000,5000]\n",
    "t_numeric = []\n",
    "t_numeric_add = []\n",
    "t_array = []\n",
    "t_array_add = []\n",
    "for size in sizes:\n",
    "    tn, tna, run_id_n =  insert_data('numeric', size)\n",
    "    t_numeric.append(tn)\n",
    "    t_numeric_add.append(tna)\n",
    "\n",
    "    ta, taa, run_id_a =  insert_data('array', size)\n",
    "    t_array.append(ta)\n",
    "    t_array_add.append(taa)"
   ]
  },
  {
   "cell_type": "code",
   "execution_count": 6,
   "metadata": {},
   "outputs": [
    {
     "data": {
      "image/png": "[encoded data removed]",
      "text/plain": [
       "<Figure size 432x288 with 1 Axes>"
      ]
     },
     "metadata": {
      "needs_background": "light"
     },
     "output_type": "display_data"
    }
   ],
   "source": [
    "fig, ax = plt.subplots(1,1)\n",
    "ax.plot(sizes, t_numeric, 'o-', label='Inserting row-by-row')\n",
    "ax.plot(sizes, t_numeric_add, 'o-', label='Inserting row-by-row: add_result only')\n",
    "ax.plot(sizes, t_array, 'd-', label='Inserting as binary blob')\n",
    "ax.plot(sizes, t_array_add, 'd-', label='Inserting as binary blob: add_result only')\n",
    "ax.legend()\n",
    "ax.set_xlabel('Array length')\n",
    "ax.set_ylabel('Time (s)')\n",
    "fig.tight_layout()"
   ]
  },
  {
   "cell_type": "markdown",
   "metadata": {},
   "source": [
    "As shown in the latter figure, the time to setup and and close the experiment is approximately 0.4 sec. In case of small array sizes, the difference between inserting values of data as arrays and inserting them row-by-row is relatively unimportant. At larger array sizes, i.e. above 10000 points, the cost of writing data as individual datapoints starts to become important.\n"
   ]
  },
  {
   "cell_type": "markdown",
   "metadata": {},
   "source": [
    "### Case2: Long experiment time "
   ]
  },
  {
   "cell_type": "code",
   "execution_count": 7,
   "metadata": {},
   "outputs": [
    {
     "name": "stdout",
     "output_type": "stream",
     "text": [
      "Starting experimental run with id: 15. \n",
      "Starting experimental run with id: 16. \n",
      "Starting experimental run with id: 17. \n"
     ]
    },
    {
     "name": "stdout",
     "output_type": "stream",
     "text": [
      "Starting experimental run with id: 18. \n",
      "Starting experimental run with id: 19. \n"
     ]
    },
    {
     "name": "stdout",
     "output_type": "stream",
     "text": [
      "Starting experimental run with id: 20. \n"
     ]
    },
    {
     "name": "stdout",
     "output_type": "stream",
     "text": [
      "Starting experimental run with id: 21. \n"
     ]
    },
    {
     "name": "stdout",
     "output_type": "stream",
     "text": [
      "Starting experimental run with id: 22. \n"
     ]
    },
    {
     "name": "stdout",
     "output_type": "stream",
     "text": [
      "Starting experimental run with id: 23. \n"
     ]
    },
    {
     "name": "stdout",
     "output_type": "stream",
     "text": [
      "Starting experimental run with id: 24. \n"
     ]
    },
    {
     "name": "stdout",
     "output_type": "stream",
     "text": [
      "Starting experimental run with id: 25. \n"
     ]
    },
    {
     "name": "stdout",
     "output_type": "stream",
     "text": [
      "Starting experimental run with id: 26. \n"
     ]
    },
    {
     "name": "stdout",
     "output_type": "stream",
     "text": [
      "Starting experimental run with id: 27. \n"
     ]
    },
    {
     "name": "stdout",
     "output_type": "stream",
     "text": [
      "Starting experimental run with id: 28. \n"
     ]
    }
   ],
   "source": [
    "sizes = [1,500,1000,2000,3000,4000,5000]\n",
    "nreps = 100\n",
    "t_numeric = []\n",
    "t_numeric_add = []\n",
    "t_numeric_run_ids = []\n",
    "t_array = []\n",
    "t_array_add = []\n",
    "t_array_run_ids = []\n",
    "for size in sizes:\n",
    "    tn, tna, run_id_n =  insert_data('numeric', size, nreps=nreps)\n",
    "    t_numeric.append(tn)\n",
    "    t_numeric_add.append(tna)\n",
    "    t_numeric_run_ids.append(run_id_n)\n",
    "\n",
    "    ta, taa, run_id_a =  insert_data('array', size, nreps=nreps)\n",
    "    t_array.append(ta)\n",
    "    t_array_add.append(taa)\n",
    "    t_array_run_ids.append(run_id_a)"
   ]
  },
  {
   "cell_type": "code",
   "execution_count": 8,
   "metadata": {
    "scrolled": true
   },
   "outputs": [
    {
     "data": {
      "image/png": "[encoded data removed]",
      "text/plain": [
       "<Figure size 432x288 with 1 Axes>"
      ]
     },
     "metadata": {
      "needs_background": "light"
     },
     "output_type": "display_data"
    }
   ],
   "source": [
    "fig, ax = plt.subplots(1,1)\n",
    "ax.plot(sizes, t_numeric, 'o-', label='Inserting row-by-row')\n",
    "ax.plot(sizes, t_numeric_add, 'o-', label='Inserting row-by-row: add_result only')\n",
    "ax.plot(sizes, t_array, 'd-', label='Inserting as binary blob')\n",
    "ax.plot(sizes, t_array_add, 'd-', label='Inserting as binary blob: add_result only')\n",
    "ax.legend()\n",
    "ax.set_xlabel('Array length')\n",
    "ax.set_ylabel('Time (s)')\n",
    "fig.tight_layout()"
   ]
  },
  {
   "cell_type": "markdown",
   "metadata": {},
   "source": [
    "However, as we increase the length of the experiment, as seen here by repeating the insertion 100 times, we see a big difference between inserting values of the data row-by-row and inserting it as a binary blob."
   ]
  },
  {
   "cell_type": "markdown",
   "metadata": {},
   "source": [
    "## Loading the data "
   ]
  },
  {
   "cell_type": "code",
   "execution_count": 9,
   "metadata": {},
   "outputs": [],
   "source": [
    "from qcodes.dataset.data_set import load_by_id\n",
    "from qcodes.dataset.data_export import get_data_by_id"
   ]
  },
  {
   "cell_type": "markdown",
   "metadata": {},
   "source": [
    "As usual you can load the data by using the ``load_by_id`` function but you will notice that the different storage methods\n",
    "are reflected in shape of the data as it is retrieved. "
   ]
  },
  {
   "cell_type": "code",
   "execution_count": 10,
   "metadata": {},
   "outputs": [],
   "source": [
    "run_id_n = t_numeric_run_ids[0]\n",
    "run_id_a = t_array_run_ids[0]"
   ]
  },
  {
   "cell_type": "code",
   "execution_count": 11,
   "metadata": {
    "scrolled": true
   },
   "outputs": [
    {
     "data": {
      "text/plain": [
       "{'x1': {'x1': array([0.3938876 , 0.3938876 , 0.10726514, 0.10726514, 0.55916043,\n",
       "         0.55916043, 0.90782183, 0.90782183, 0.75612071, 0.75612071,\n",
       "         0.69928432, 0.69928432, 0.85212645, 0.85212645, 0.47836814,\n",
       "         0.47836814, 0.93549195, 0.93549195, 0.41492965, 0.41492965,\n",
       "         0.17749629, 0.17749629, 0.05254768, 0.05254768, 0.40259755,\n",
       "         0.40259755, 0.96793018, 0.96793018, 0.86774292, 0.86774292,\n",
       "         0.36054974, 0.36054974, 0.10577579, 0.10577579, 0.91625494,\n",
       "         0.91625494, 0.86762867, 0.86762867, 0.167295  , 0.167295  ,\n",
       "         0.92042896, 0.92042896, 0.38446764, 0.38446764, 0.15225646,\n",
       "         0.15225646, 0.38382453, 0.38382453, 0.88536374, 0.88536374,\n",
       "         0.18895406, 0.18895406, 0.15920695, 0.15920695, 0.02826374,\n",
       "         0.02826374, 0.38046843, 0.38046843, 0.90231146, 0.90231146,\n",
       "         0.91711758, 0.91711758, 0.26659372, 0.26659372, 0.69331165,\n",
       "         0.69331165, 0.66920677, 0.66920677, 0.73013015, 0.73013015,\n",
       "         0.3270711 , 0.3270711 , 0.00579359, 0.00579359, 0.09673357,\n",
       "         0.09673357, 0.16710137, 0.16710137, 0.06254845, 0.06254845,\n",
       "         0.67673153, 0.67673153, 0.97494006, 0.97494006, 0.42753611,\n",
       "         0.42753611, 0.20905475, 0.20905475, 0.57465891, 0.57465891,\n",
       "         0.80924411, 0.80924411, 0.5973228 , 0.5973228 , 0.21687745,\n",
       "         0.21687745, 0.33291041, 0.33291041, 0.95358153, 0.95358153,\n",
       "         0.35470469, 0.35470469, 0.10331237, 0.10331237, 0.07056636,\n",
       "         0.07056636, 0.33484279, 0.33484279, 0.0241879 , 0.0241879 ,\n",
       "         0.14394408, 0.14394408, 0.83389264, 0.83389264, 0.7202025 ,\n",
       "         0.7202025 , 0.09345729, 0.09345729, 0.51533436, 0.51533436,\n",
       "         0.4755359 , 0.4755359 , 0.31222238, 0.31222238, 0.12162174,\n",
       "         0.12162174, 0.90837391, 0.90837391, 0.96419179, 0.96419179,\n",
       "         0.72396349, 0.72396349, 0.89097749, 0.89097749, 0.26337328,\n",
       "         0.26337328, 0.45178041, 0.45178041, 0.17368803, 0.17368803,\n",
       "         0.94835132, 0.94835132, 0.68278189, 0.68278189, 0.62644251,\n",
       "         0.62644251, 0.24077524, 0.24077524, 0.7406846 , 0.7406846 ,\n",
       "         0.9974321 , 0.9974321 , 0.68243816, 0.68243816, 0.14116073,\n",
       "         0.14116073, 0.65728376, 0.65728376, 0.84529294, 0.84529294,\n",
       "         0.37743337, 0.37743337, 0.56116118, 0.56116118, 0.19475456,\n",
       "         0.19475456, 0.06824713, 0.06824713, 0.43579519, 0.43579519,\n",
       "         0.11469501, 0.11469501, 0.42410862, 0.42410862, 0.76153658,\n",
       "         0.76153658, 0.77071047, 0.77071047, 0.2816355 , 0.2816355 ,\n",
       "         0.99783249, 0.99783249, 0.97260406, 0.97260406, 0.7092837 ,\n",
       "         0.7092837 , 0.29729423, 0.29729423, 0.72714311, 0.72714311,\n",
       "         0.75931253, 0.75931253, 0.7518361 , 0.7518361 , 0.57778371,\n",
       "         0.57778371, 0.85569054, 0.85569054, 0.11331963, 0.11331963])}}"
      ]
     },
     "execution_count": 11,
     "metadata": {},
     "output_type": "execute_result"
    }
   ],
   "source": [
    "ds = load_by_id(run_id_n)\n",
    "ds.get_parameter_data('x1')"
   ]
  },
  {
   "cell_type": "markdown",
   "metadata": {},
   "source": [
    "And a dataset stored as binary arrays"
   ]
  },
  {
   "cell_type": "code",
   "execution_count": 12,
   "metadata": {
    "scrolled": true
   },
   "outputs": [
    {
     "data": {
      "text/plain": [
       "{'x1': {'x1': array([[0.19396658],\n",
       "         [0.19396658],\n",
       "         [0.77399752],\n",
       "         [0.77399752],\n",
       "         [0.6432005 ],\n",
       "         [0.6432005 ],\n",
       "         [0.73742994],\n",
       "         [0.73742994],\n",
       "         [0.9511384 ],\n",
       "         [0.9511384 ],\n",
       "         [0.10646962],\n",
       "         [0.10646962],\n",
       "         [0.28233851],\n",
       "         [0.28233851],\n",
       "         [0.67220878],\n",
       "         [0.67220878],\n",
       "         [0.00646496],\n",
       "         [0.00646496],\n",
       "         [0.90745069],\n",
       "         [0.90745069],\n",
       "         [0.57454289],\n",
       "         [0.57454289],\n",
       "         [0.99182383],\n",
       "         [0.99182383],\n",
       "         [0.1672012 ],\n",
       "         [0.1672012 ],\n",
       "         [0.92276716],\n",
       "         [0.92276716],\n",
       "         [0.93726194],\n",
       "         [0.93726194],\n",
       "         [0.93951033],\n",
       "         [0.93951033],\n",
       "         [0.82545038],\n",
       "         [0.82545038],\n",
       "         [0.12902278],\n",
       "         [0.12902278],\n",
       "         [0.29066366],\n",
       "         [0.29066366],\n",
       "         [0.61055468],\n",
       "         [0.61055468],\n",
       "         [0.86823602],\n",
       "         [0.86823602],\n",
       "         [0.83604444],\n",
       "         [0.83604444],\n",
       "         [0.83096558],\n",
       "         [0.83096558],\n",
       "         [0.10654904],\n",
       "         [0.10654904],\n",
       "         [0.20666947],\n",
       "         [0.20666947],\n",
       "         [0.43773204],\n",
       "         [0.43773204],\n",
       "         [0.43238024],\n",
       "         [0.43238024],\n",
       "         [0.77422152],\n",
       "         [0.77422152],\n",
       "         [0.82257476],\n",
       "         [0.82257476],\n",
       "         [0.70992816],\n",
       "         [0.70992816],\n",
       "         [0.36695743],\n",
       "         [0.36695743],\n",
       "         [0.09996461],\n",
       "         [0.09996461],\n",
       "         [0.27835165],\n",
       "         [0.27835165],\n",
       "         [0.30806159],\n",
       "         [0.30806159],\n",
       "         [0.54163263],\n",
       "         [0.54163263],\n",
       "         [0.08589488],\n",
       "         [0.08589488],\n",
       "         [0.75323855],\n",
       "         [0.75323855],\n",
       "         [0.79119025],\n",
       "         [0.79119025],\n",
       "         [0.00328836],\n",
       "         [0.00328836],\n",
       "         [0.46225139],\n",
       "         [0.46225139],\n",
       "         [0.51125558],\n",
       "         [0.51125558],\n",
       "         [0.56543099],\n",
       "         [0.56543099],\n",
       "         [0.63481943],\n",
       "         [0.63481943],\n",
       "         [0.83709431],\n",
       "         [0.83709431],\n",
       "         [0.78489969],\n",
       "         [0.78489969],\n",
       "         [0.84225124],\n",
       "         [0.84225124],\n",
       "         [0.18380887],\n",
       "         [0.18380887],\n",
       "         [0.75296039],\n",
       "         [0.75296039],\n",
       "         [0.20227526],\n",
       "         [0.20227526],\n",
       "         [0.46708122],\n",
       "         [0.46708122],\n",
       "         [0.1744344 ],\n",
       "         [0.1744344 ],\n",
       "         [0.09024395],\n",
       "         [0.09024395],\n",
       "         [0.99849038],\n",
       "         [0.99849038],\n",
       "         [0.96496498],\n",
       "         [0.96496498],\n",
       "         [0.25107391],\n",
       "         [0.25107391],\n",
       "         [0.90835758],\n",
       "         [0.90835758],\n",
       "         [0.25152391],\n",
       "         [0.25152391],\n",
       "         [0.64417816],\n",
       "         [0.64417816],\n",
       "         [0.99366229],\n",
       "         [0.99366229],\n",
       "         [0.23060574],\n",
       "         [0.23060574],\n",
       "         [0.21295604],\n",
       "         [0.21295604],\n",
       "         [0.59304794],\n",
       "         [0.59304794],\n",
       "         [0.67278735],\n",
       "         [0.67278735],\n",
       "         [0.43973504],\n",
       "         [0.43973504],\n",
       "         [0.64498703],\n",
       "         [0.64498703],\n",
       "         [0.09292743],\n",
       "         [0.09292743],\n",
       "         [0.92036108],\n",
       "         [0.92036108],\n",
       "         [0.96403922],\n",
       "         [0.96403922],\n",
       "         [0.27679901],\n",
       "         [0.27679901],\n",
       "         [0.56295962],\n",
       "         [0.56295962],\n",
       "         [0.61212521],\n",
       "         [0.61212521],\n",
       "         [0.2359679 ],\n",
       "         [0.2359679 ],\n",
       "         [0.37773999],\n",
       "         [0.37773999],\n",
       "         [0.35382653],\n",
       "         [0.35382653],\n",
       "         [0.35461422],\n",
       "         [0.35461422],\n",
       "         [0.50480599],\n",
       "         [0.50480599],\n",
       "         [0.75818846],\n",
       "         [0.75818846],\n",
       "         [0.18324617],\n",
       "         [0.18324617],\n",
       "         [0.42018292],\n",
       "         [0.42018292],\n",
       "         [0.33738136],\n",
       "         [0.33738136],\n",
       "         [0.97528509],\n",
       "         [0.97528509],\n",
       "         [0.50642594],\n",
       "         [0.50642594],\n",
       "         [0.16244463],\n",
       "         [0.16244463],\n",
       "         [0.74630174],\n",
       "         [0.74630174],\n",
       "         [0.67685436],\n",
       "         [0.67685436],\n",
       "         [0.29460307],\n",
       "         [0.29460307],\n",
       "         [0.69025266],\n",
       "         [0.69025266],\n",
       "         [0.5436446 ],\n",
       "         [0.5436446 ],\n",
       "         [0.09449516],\n",
       "         [0.09449516],\n",
       "         [0.10926002],\n",
       "         [0.10926002],\n",
       "         [0.27071027],\n",
       "         [0.27071027],\n",
       "         [0.92660727],\n",
       "         [0.92660727],\n",
       "         [0.15625825],\n",
       "         [0.15625825],\n",
       "         [0.49446019],\n",
       "         [0.49446019],\n",
       "         [0.32260152],\n",
       "         [0.32260152],\n",
       "         [0.46178613],\n",
       "         [0.46178613],\n",
       "         [0.6298751 ],\n",
       "         [0.6298751 ],\n",
       "         [0.75933273],\n",
       "         [0.75933273],\n",
       "         [0.78887567],\n",
       "         [0.78887567],\n",
       "         [0.30421143],\n",
       "         [0.30421143]])}}"
      ]
     },
     "execution_count": 12,
     "metadata": {},
     "output_type": "execute_result"
    }
   ],
   "source": [
    "ds = load_by_id(run_id_a)\n",
    "ds.get_parameter_data('x1')"
   ]
  },
  {
   "cell_type": "code",
   "execution_count": null,
   "metadata": {},
   "outputs": [],
   "source": []
  }
 ],
 "metadata": {
  "kernelspec": {
   "display_name": "Python 3",
   "language": "python",
   "name": "python3"
  },
  "language_info": {
   "codemirror_mode": {
    "name": "ipython",
    "version": 3
   },
   "file_extension": ".py",
   "mimetype": "text/x-python",
   "name": "python",
   "nbconvert_exporter": "python",
   "pygments_lexer": "ipython3",
   "version": "3.7.5"
  },
  "nbsphinx": {
   "timeout": 600
  },
  "toc": {
   "base_numbering": 1,
   "nav_menu": {},
   "number_sections": true,
   "sideBar": true,
   "skip_h1_title": false,
   "title_cell": "Table of Contents",
   "title_sidebar": "Contents",
   "toc_cell": false,
   "toc_position": {},
   "toc_section_display": true,
   "toc_window_display": false
  },
  "varInspector": {
   "cols": {
    "lenName": 16,
    "lenType": 16,
    "lenVar": 40
   },
   "kernels_config": {
    "python": {
     "delete_cmd_postfix": "",
     "delete_cmd_prefix": "del ",
     "library": "var_list.py",
     "varRefreshCmd": "print(var_dic_list())"
    },
    "r": {
     "delete_cmd_postfix": ") ",
     "delete_cmd_prefix": "rm(",
     "library": "var_list.r",
     "varRefreshCmd": "cat(var_dic_list()) "
    }
   },
   "types_to_exclude": [
    "module",
    "function",
    "builtin_function_or_method",
    "instance",
    "_Feature"
   ],
   "window_display": false
  }
 },
 "nbformat": 4,
 "nbformat_minor": 2
}
