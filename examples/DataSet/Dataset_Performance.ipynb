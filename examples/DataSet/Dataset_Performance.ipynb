{
 "cells": [
  {
   "cell_type": "markdown",
   "metadata": {},
   "source": [
    "# DataSet Performance\n",
    "\n",
    "This notebook shows the trade-off between inserting data into a database row-by-row and as binary blobs. Inserting the data row-by-row means that we have direct access to all the data and may perform queries directly on the values of the data. On the other hand, as we shall see, this is much slower than inserting the data directly as binary blobs."
   ]
  },
  {
   "cell_type": "markdown",
   "metadata": {},
   "source": [
    "First, we choose a new location for the database to ensure that we don't add a bunch of benchmarking data to the default one."
   ]
  },
  {
   "cell_type": "code",
   "execution_count": 1,
   "metadata": {
    "execution": {
     "iopub.execute_input": "2020-10-14T11:08:49.920049Z",
     "iopub.status.busy": "2020-10-14T11:08:49.919372Z",
     "iopub.status.idle": "2020-10-14T11:08:50.898639Z",
     "shell.execute_reply": "2020-10-14T11:08:50.897702Z"
    }
   },
   "outputs": [
    {
     "name": "stdout",
     "output_type": "stream",
     "text": [
      "Logging hadn't been started.\n",
      "Activating auto-logging. Current session state plus future input saved.\n",
      "Filename       : /home/vsts/.qcodes/logs/command_history.log\n",
      "Mode           : append\n",
      "Output logging : True\n",
      "Raw input log  : False\n",
      "Timestamping   : True\n",
      "State          : active\n"
     ]
    },
    {
     "name": "stdout",
     "output_type": "stream",
     "text": [
      "Qcodes Logfile : /home/vsts/.qcodes/logs/201014-14946-qcodes.log\n"
     ]
    }
   ],
   "source": [
    "import os\n",
    "cwd = os.getcwd()\n",
    "import qcodes as qc\n",
    "qc.config[\"core\"][\"db_location\"] = os.path.join(cwd, 'testing.db')\n"
   ]
  },
  {
   "cell_type": "code",
   "execution_count": 2,
   "metadata": {
    "execution": {
     "iopub.execute_input": "2020-10-14T11:08:50.905083Z",
     "iopub.status.busy": "2020-10-14T11:08:50.904389Z",
     "iopub.status.idle": "2020-10-14T11:08:51.071822Z",
     "shell.execute_reply": "2020-10-14T11:08:51.072240Z"
    }
   },
   "outputs": [],
   "source": [
    "%matplotlib inline\n",
    "import time\n",
    "import matplotlib.pyplot as plt\n",
    "import numpy as np\n",
    "\n",
    "import qcodes as qc\n",
    "from qcodes.instrument.parameter import ManualParameter\n",
    "from qcodes.dataset.experiment_container import (Experiment,\n",
    "                                                 load_last_experiment,\n",
    "                                                 new_experiment)\n",
    "from qcodes.dataset.sqlite.database import initialise_database\n",
    "from qcodes import load_or_create_experiment\n",
    "from qcodes.dataset.measurements import Measurement"
   ]
  },
  {
   "cell_type": "code",
   "execution_count": 3,
   "metadata": {
    "execution": {
     "iopub.execute_input": "2020-10-14T11:08:51.075707Z",
     "iopub.status.busy": "2020-10-14T11:08:51.075195Z",
     "iopub.status.idle": "2020-10-14T11:08:51.186358Z",
     "shell.execute_reply": "2020-10-14T11:08:51.186731Z"
    }
   },
   "outputs": [
    {
     "name": "stdout",
     "output_type": "stream",
     "text": [
      "\r",
      "0it [00:00, ?it/s]"
     ]
    },
    {
     "name": "stdout",
     "output_type": "stream",
     "text": [
      "\r",
      "Upgrading database; v0 -> v1: : 0it [00:00, ?it/s]"
     ]
    },
    {
     "name": "stdout",
     "output_type": "stream",
     "text": [
      "\r",
      "Upgrading database; v0 -> v1: : 0it [00:00, ?it/s]"
     ]
    },
    {
     "name": "stdout",
     "output_type": "stream",
     "text": [
      "\n",
      "\r",
      "  0%|          | 0/1 [00:00<?, ?it/s]"
     ]
    },
    {
     "name": "stdout",
     "output_type": "stream",
     "text": [
      "\r",
      "Upgrading database; v1 -> v2:   0%|          | 0/1 [00:00<?, ?it/s]"
     ]
    },
    {
     "name": "stdout",
     "output_type": "stream",
     "text": [
      "\r",
      "Upgrading database; v1 -> v2: 100%|██████████| 1/1 [00:00<00:00, 613.38it/s]"
     ]
    },
    {
     "name": "stdout",
     "output_type": "stream",
     "text": [
      "\n",
      "\r",
      "0it [00:00, ?it/s]"
     ]
    },
    {
     "name": "stdout",
     "output_type": "stream",
     "text": [
      "\r",
      "Upgrading database; v2 -> v3: : 0it [00:00, ?it/s]"
     ]
    },
    {
     "name": "stdout",
     "output_type": "stream",
     "text": [
      "\r",
      "Upgrading database; v2 -> v3: : 0it [00:00, ?it/s]"
     ]
    },
    {
     "name": "stdout",
     "output_type": "stream",
     "text": [
      "\n",
      "\r",
      "0it [00:00, ?it/s]"
     ]
    },
    {
     "name": "stdout",
     "output_type": "stream",
     "text": [
      "\r",
      "Upgrading database; v3 -> v4: : 0it [00:00, ?it/s]"
     ]
    },
    {
     "name": "stdout",
     "output_type": "stream",
     "text": [
      "\r",
      "Upgrading database; v3 -> v4: : 0it [00:00, ?it/s]"
     ]
    },
    {
     "name": "stdout",
     "output_type": "stream",
     "text": [
      "\n",
      "\r",
      "  0%|          | 0/1 [00:00<?, ?it/s]"
     ]
    },
    {
     "name": "stdout",
     "output_type": "stream",
     "text": [
      "\r",
      "Upgrading database; v4 -> v5:   0%|          | 0/1 [00:00<?, ?it/s]"
     ]
    },
    {
     "name": "stdout",
     "output_type": "stream",
     "text": [
      "\r",
      "Upgrading database; v4 -> v5: 100%|██████████| 1/1 [00:00<00:00, 469.53it/s]"
     ]
    },
    {
     "name": "stdout",
     "output_type": "stream",
     "text": [
      "\n",
      "\r",
      "0it [00:00, ?it/s]"
     ]
    },
    {
     "name": "stdout",
     "output_type": "stream",
     "text": [
      "\r",
      "Upgrading database; v5 -> v6: : 0it [00:00, ?it/s]"
     ]
    },
    {
     "name": "stdout",
     "output_type": "stream",
     "text": [
      "\r",
      "Upgrading database; v5 -> v6: : 0it [00:00, ?it/s]"
     ]
    },
    {
     "name": "stdout",
     "output_type": "stream",
     "text": [
      "\n",
      "\r",
      "  0%|          | 0/1 [00:00<?, ?it/s]"
     ]
    },
    {
     "name": "stdout",
     "output_type": "stream",
     "text": [
      "\r",
      "Upgrading database; v6 -> v7:   0%|          | 0/1 [00:00<?, ?it/s]"
     ]
    },
    {
     "name": "stdout",
     "output_type": "stream",
     "text": [
      "\r",
      "Upgrading database; v6 -> v7: 100%|██████████| 1/1 [00:00<00:00, 331.57it/s]"
     ]
    },
    {
     "name": "stdout",
     "output_type": "stream",
     "text": [
      "\n",
      "\r",
      "  0%|          | 0/1 [00:00<?, ?it/s]"
     ]
    },
    {
     "name": "stdout",
     "output_type": "stream",
     "text": [
      "\r",
      "Upgrading database; v7 -> v8:   0%|          | 0/1 [00:00<?, ?it/s]"
     ]
    },
    {
     "name": "stdout",
     "output_type": "stream",
     "text": [
      "\r",
      "Upgrading database; v7 -> v8: 100%|██████████| 1/1 [00:00<00:00, 452.26it/s]"
     ]
    },
    {
     "name": "stdout",
     "output_type": "stream",
     "text": [
      "\n",
      "\r",
      "  0%|          | 0/1 [00:00<?, ?it/s]"
     ]
    },
    {
     "name": "stdout",
     "output_type": "stream",
     "text": [
      "\r",
      "Upgrading database; v8 -> v9:   0%|          | 0/1 [00:00<?, ?it/s]"
     ]
    },
    {
     "name": "stdout",
     "output_type": "stream",
     "text": [
      "\r",
      "Upgrading database; v8 -> v9: 100%|██████████| 1/1 [00:00<00:00, 440.39it/s]"
     ]
    },
    {
     "name": "stdout",
     "output_type": "stream",
     "text": [
      "\n"
     ]
    }
   ],
   "source": [
    "initialise_database()\n",
    "exp = load_or_create_experiment(experiment_name='tutorial_exp', sample_name=\"no sample\")"
   ]
  },
  {
   "cell_type": "markdown",
   "metadata": {},
   "source": [
    "Here, we define a simple function to benchmark the time it takes to insert n points with either numeric or array data type.\n",
    "We will compare both the time used to call ``add_result`` and the time used for the full measurement."
   ]
  },
  {
   "cell_type": "code",
   "execution_count": 4,
   "metadata": {
    "execution": {
     "iopub.execute_input": "2020-10-14T11:08:51.196352Z",
     "iopub.status.busy": "2020-10-14T11:08:51.195165Z",
     "iopub.status.idle": "2020-10-14T11:08:51.196882Z",
     "shell.execute_reply": "2020-10-14T11:08:51.197399Z"
    }
   },
   "outputs": [],
   "source": [
    "def insert_data(paramtype, npoints, nreps=1):\n",
    "\n",
    "    meas = Measurement(exp=exp)\n",
    "\n",
    "    x1 = ManualParameter('x1')\n",
    "    x2 = ManualParameter('x2')\n",
    "    x3 = ManualParameter('x3')\n",
    "    y1 = ManualParameter('y1')\n",
    "    y2 = ManualParameter('y2')\n",
    "\n",
    "    meas.register_parameter(x1, paramtype=paramtype)\n",
    "    meas.register_parameter(x2, paramtype=paramtype)\n",
    "    meas.register_parameter(x3, paramtype=paramtype)\n",
    "    meas.register_parameter(y1, setpoints=[x1, x2, x3],\n",
    "                            paramtype=paramtype)\n",
    "    meas.register_parameter(y2, setpoints=[x1, x2, x3],\n",
    "                            paramtype=paramtype)\n",
    "    start = time.perf_counter()\n",
    "    with meas.run() as datasaver:\n",
    "        start_adding = time.perf_counter()\n",
    "        for i in range(nreps):\n",
    "            datasaver.add_result((x1, np.random.rand(npoints)),\n",
    "                                 (x2, np.random.rand(npoints)),\n",
    "                                 (x3, np.random.rand(npoints)),\n",
    "                                 (y1, np.random.rand(npoints)),\n",
    "                                 (y2, np.random.rand(npoints)))\n",
    "        stop_adding = time.perf_counter()\n",
    "        run_id = datasaver.run_id\n",
    "    stop = time.perf_counter()\n",
    "    tot_time = stop - start\n",
    "    add_time = stop_adding - start_adding\n",
    "    return tot_time, add_time, run_id"
   ]
  },
  {
   "cell_type": "markdown",
   "metadata": {},
   "source": [
    "## Comparison between numeric/array data and binary blob"
   ]
  },
  {
   "cell_type": "markdown",
   "metadata": {},
   "source": [
    "### Case1: Short experiment time"
   ]
  },
  {
   "cell_type": "code",
   "execution_count": 5,
   "metadata": {
    "execution": {
     "iopub.execute_input": "2020-10-14T11:08:51.203575Z",
     "iopub.status.busy": "2020-10-14T11:08:51.203027Z",
     "iopub.status.idle": "2020-10-14T11:08:52.013702Z",
     "shell.execute_reply": "2020-10-14T11:08:52.012905Z"
    }
   },
   "outputs": [
    {
     "name": "stdout",
     "output_type": "stream",
     "text": [
      "Starting experimental run with id: 1. \n",
      "Starting experimental run with id: 2. \n",
      "Starting experimental run with id: 3. \n",
      "Starting experimental run with id: 4. \n",
      "Starting experimental run with id: 5. \n"
     ]
    },
    {
     "name": "stdout",
     "output_type": "stream",
     "text": [
      "Starting experimental run with id: 6. \n"
     ]
    },
    {
     "name": "stdout",
     "output_type": "stream",
     "text": [
      "Starting experimental run with id: 7. \n"
     ]
    },
    {
     "name": "stdout",
     "output_type": "stream",
     "text": [
      "Starting experimental run with id: 8. \n",
      "Starting experimental run with id: 9. \n"
     ]
    },
    {
     "name": "stdout",
     "output_type": "stream",
     "text": [
      "Starting experimental run with id: 10. \n",
      "Starting experimental run with id: 11. \n"
     ]
    },
    {
     "name": "stdout",
     "output_type": "stream",
     "text": [
      "Starting experimental run with id: 12. \n",
      "Starting experimental run with id: 13. \n"
     ]
    },
    {
     "name": "stdout",
     "output_type": "stream",
     "text": [
      "Starting experimental run with id: 14. \n"
     ]
    }
   ],
   "source": [
    "sizes = [1,500,1000,2000,3000,4000,5000]\n",
    "t_numeric = []\n",
    "t_numeric_add = []\n",
    "t_array = []\n",
    "t_array_add = []\n",
    "for size in sizes:\n",
    "    tn, tna, run_id_n =  insert_data('numeric', size)\n",
    "    t_numeric.append(tn)\n",
    "    t_numeric_add.append(tna)\n",
    "\n",
    "    ta, taa, run_id_a =  insert_data('array', size)\n",
    "    t_array.append(ta)\n",
    "    t_array_add.append(taa)"
   ]
  },
  {
   "cell_type": "code",
   "execution_count": 6,
   "metadata": {
    "execution": {
     "iopub.execute_input": "2020-10-14T11:08:52.029204Z",
     "iopub.status.busy": "2020-10-14T11:08:52.018830Z",
     "iopub.status.idle": "2020-10-14T11:08:52.191865Z",
     "shell.execute_reply": "2020-10-14T11:08:52.192635Z"
    }
   },
   "outputs": [
    {
     "data": {
      "image/png": "[encoded data removed]",
      "text/plain": [
       "<Figure size 432x288 with 1 Axes>"
      ]
     },
     "metadata": {
      "needs_background": "light"
     },
     "output_type": "display_data"
    }
   ],
   "source": [
    "fig, ax = plt.subplots(1,1)\n",
    "ax.plot(sizes, t_numeric, 'o-', label='Inserting row-by-row')\n",
    "ax.plot(sizes, t_numeric_add, 'o-', label='Inserting row-by-row: add_result only')\n",
    "ax.plot(sizes, t_array, 'd-', label='Inserting as binary blob')\n",
    "ax.plot(sizes, t_array_add, 'd-', label='Inserting as binary blob: add_result only')\n",
    "ax.legend()\n",
    "ax.set_xlabel('Array length')\n",
    "ax.set_ylabel('Time (s)')\n",
    "fig.tight_layout()"
   ]
  },
  {
   "cell_type": "markdown",
   "metadata": {},
   "source": [
    "As shown in the latter figure, the time to setup and and close the experiment is approximately 0.4 sec. In case of small array sizes, the difference between inserting values of data as arrays and inserting them row-by-row is relatively unimportant. At larger array sizes, i.e. above 10000 points, the cost of writing data as individual datapoints starts to become important.\n"
   ]
  },
  {
   "cell_type": "markdown",
   "metadata": {},
   "source": [
    "### Case2: Long experiment time "
   ]
  },
  {
   "cell_type": "code",
   "execution_count": 7,
   "metadata": {
    "execution": {
     "iopub.execute_input": "2020-10-14T11:08:52.196284Z",
     "iopub.status.busy": "2020-10-14T11:08:52.194902Z",
     "iopub.status.idle": "2020-10-14T11:09:49.239315Z",
     "shell.execute_reply": "2020-10-14T11:09:49.237881Z"
    }
   },
   "outputs": [
    {
     "name": "stdout",
     "output_type": "stream",
     "text": [
      "Starting experimental run with id: 15. \n",
      "Starting experimental run with id: 16. \n",
      "Starting experimental run with id: 17. \n"
     ]
    },
    {
     "name": "stdout",
     "output_type": "stream",
     "text": [
      "Starting experimental run with id: 18. \n",
      "Starting experimental run with id: 19. \n"
     ]
    },
    {
     "name": "stdout",
     "output_type": "stream",
     "text": [
      "Starting experimental run with id: 20. \n"
     ]
    },
    {
     "name": "stdout",
     "output_type": "stream",
     "text": [
      "Starting experimental run with id: 21. \n"
     ]
    },
    {
     "name": "stdout",
     "output_type": "stream",
     "text": [
      "Starting experimental run with id: 22. \n"
     ]
    },
    {
     "name": "stdout",
     "output_type": "stream",
     "text": [
      "Starting experimental run with id: 23. \n"
     ]
    },
    {
     "name": "stdout",
     "output_type": "stream",
     "text": [
      "Starting experimental run with id: 24. \n"
     ]
    },
    {
     "name": "stdout",
     "output_type": "stream",
     "text": [
      "Starting experimental run with id: 25. \n"
     ]
    },
    {
     "name": "stdout",
     "output_type": "stream",
     "text": [
      "Starting experimental run with id: 26. \n"
     ]
    },
    {
     "name": "stdout",
     "output_type": "stream",
     "text": [
      "Starting experimental run with id: 27. \n"
     ]
    },
    {
     "name": "stdout",
     "output_type": "stream",
     "text": [
      "Starting experimental run with id: 28. \n"
     ]
    }
   ],
   "source": [
    "sizes = [1,500,1000,2000,3000,4000,5000]\n",
    "nreps = 100\n",
    "t_numeric = []\n",
    "t_numeric_add = []\n",
    "t_numeric_run_ids = []\n",
    "t_array = []\n",
    "t_array_add = []\n",
    "t_array_run_ids = []\n",
    "for size in sizes:\n",
    "    tn, tna, run_id_n =  insert_data('numeric', size, nreps=nreps)\n",
    "    t_numeric.append(tn)\n",
    "    t_numeric_add.append(tna)\n",
    "    t_numeric_run_ids.append(run_id_n)\n",
    "\n",
    "    ta, taa, run_id_a =  insert_data('array', size, nreps=nreps)\n",
    "    t_array.append(ta)\n",
    "    t_array_add.append(taa)\n",
    "    t_array_run_ids.append(run_id_a)"
   ]
  },
  {
   "cell_type": "code",
   "execution_count": 8,
   "metadata": {
    "execution": {
     "iopub.execute_input": "2020-10-14T11:09:49.245788Z",
     "iopub.status.busy": "2020-10-14T11:09:49.245213Z",
     "iopub.status.idle": "2020-10-14T11:09:49.422363Z",
     "shell.execute_reply": "2020-10-14T11:09:49.423103Z"
    },
    "scrolled": true
   },
   "outputs": [
    {
     "data": {
      "image/png": "[encoded data removed]",
      "text/plain": [
       "<Figure size 432x288 with 1 Axes>"
      ]
     },
     "metadata": {
      "needs_background": "light"
     },
     "output_type": "display_data"
    }
   ],
   "source": [
    "fig, ax = plt.subplots(1,1)\n",
    "ax.plot(sizes, t_numeric, 'o-', label='Inserting row-by-row')\n",
    "ax.plot(sizes, t_numeric_add, 'o-', label='Inserting row-by-row: add_result only')\n",
    "ax.plot(sizes, t_array, 'd-', label='Inserting as binary blob')\n",
    "ax.plot(sizes, t_array_add, 'd-', label='Inserting as binary blob: add_result only')\n",
    "ax.legend()\n",
    "ax.set_xlabel('Array length')\n",
    "ax.set_ylabel('Time (s)')\n",
    "fig.tight_layout()"
   ]
  },
  {
   "cell_type": "markdown",
   "metadata": {},
   "source": [
    "However, as we increase the length of the experiment, as seen here by repeating the insertion 100 times, we see a big difference between inserting values of the data row-by-row and inserting it as a binary blob."
   ]
  },
  {
   "cell_type": "markdown",
   "metadata": {},
   "source": [
    "## Loading the data "
   ]
  },
  {
   "cell_type": "code",
   "execution_count": 9,
   "metadata": {
    "execution": {
     "iopub.execute_input": "2020-10-14T11:09:49.426564Z",
     "iopub.status.busy": "2020-10-14T11:09:49.425553Z",
     "iopub.status.idle": "2020-10-14T11:09:49.430150Z",
     "shell.execute_reply": "2020-10-14T11:09:49.430757Z"
    }
   },
   "outputs": [],
   "source": [
    "from qcodes.dataset.data_set import load_by_id\n",
    "from qcodes.dataset.data_export import get_data_by_id"
   ]
  },
  {
   "cell_type": "markdown",
   "metadata": {},
   "source": [
    "As usual you can load the data by using the ``load_by_id`` function but you will notice that the different storage methods\n",
    "are reflected in shape of the data as it is retrieved. "
   ]
  },
  {
   "cell_type": "code",
   "execution_count": 10,
   "metadata": {
    "execution": {
     "iopub.execute_input": "2020-10-14T11:09:49.434770Z",
     "iopub.status.busy": "2020-10-14T11:09:49.434307Z",
     "iopub.status.idle": "2020-10-14T11:09:49.437473Z",
     "shell.execute_reply": "2020-10-14T11:09:49.436980Z"
    }
   },
   "outputs": [],
   "source": [
    "run_id_n = t_numeric_run_ids[0]\n",
    "run_id_a = t_array_run_ids[0]"
   ]
  },
  {
   "cell_type": "code",
   "execution_count": 11,
   "metadata": {
    "execution": {
     "iopub.execute_input": "2020-10-14T11:09:49.440325Z",
     "iopub.status.busy": "2020-10-14T11:09:49.439904Z",
     "iopub.status.idle": "2020-10-14T11:09:49.448573Z",
     "shell.execute_reply": "2020-10-14T11:09:49.448068Z"
    },
    "scrolled": true
   },
   "outputs": [
    {
     "data": {
      "text/plain": [
       "{'x1': {'x1': array([0.49866548, 0.49866548, 0.51160445, 0.51160445, 0.82750924,\n",
       "         0.82750924, 0.8337181 , 0.8337181 , 0.72216671, 0.72216671,\n",
       "         0.57951985, 0.57951985, 0.09655353, 0.09655353, 0.17779832,\n",
       "         0.17779832, 0.72914826, 0.72914826, 0.6686485 , 0.6686485 ,\n",
       "         0.93792847, 0.93792847, 0.28447016, 0.28447016, 0.65018064,\n",
       "         0.65018064, 0.58887564, 0.58887564, 0.88124149, 0.88124149,\n",
       "         0.7015476 , 0.7015476 , 0.75950278, 0.75950278, 0.4161501 ,\n",
       "         0.4161501 , 0.32551199, 0.32551199, 0.96082006, 0.96082006,\n",
       "         0.87167916, 0.87167916, 0.34915491, 0.34915491, 0.29609147,\n",
       "         0.29609147, 0.67928814, 0.67928814, 0.36754002, 0.36754002,\n",
       "         0.94467527, 0.94467527, 0.36673544, 0.36673544, 0.89270473,\n",
       "         0.89270473, 0.60085385, 0.60085385, 0.37558932, 0.37558932,\n",
       "         0.70411791, 0.70411791, 0.92575166, 0.92575166, 0.41232047,\n",
       "         0.41232047, 0.65436661, 0.65436661, 0.36657678, 0.36657678,\n",
       "         0.17152232, 0.17152232, 0.52469077, 0.52469077, 0.67691433,\n",
       "         0.67691433, 0.08698056, 0.08698056, 0.97917658, 0.97917658,\n",
       "         0.19837595, 0.19837595, 0.70431189, 0.70431189, 0.11379368,\n",
       "         0.11379368, 0.47314955, 0.47314955, 0.0356054 , 0.0356054 ,\n",
       "         0.92434373, 0.92434373, 0.43992575, 0.43992575, 0.30193115,\n",
       "         0.30193115, 0.6690003 , 0.6690003 , 0.52891901, 0.52891901,\n",
       "         0.38974791, 0.38974791, 0.91173376, 0.91173376, 0.66682874,\n",
       "         0.66682874, 0.96458686, 0.96458686, 0.78726909, 0.78726909,\n",
       "         0.86770401, 0.86770401, 0.64411184, 0.64411184, 0.17636633,\n",
       "         0.17636633, 0.63185893, 0.63185893, 0.2480402 , 0.2480402 ,\n",
       "         0.6269858 , 0.6269858 , 0.87435895, 0.87435895, 0.62934687,\n",
       "         0.62934687, 0.68379369, 0.68379369, 0.1760401 , 0.1760401 ,\n",
       "         0.05139704, 0.05139704, 0.64755235, 0.64755235, 0.51489237,\n",
       "         0.51489237, 0.21018851, 0.21018851, 0.24803371, 0.24803371,\n",
       "         0.28331675, 0.28331675, 0.44088675, 0.44088675, 0.16035773,\n",
       "         0.16035773, 0.33124583, 0.33124583, 0.87572834, 0.87572834,\n",
       "         0.29672905, 0.29672905, 0.60395759, 0.60395759, 0.27221829,\n",
       "         0.27221829, 0.87099749, 0.87099749, 0.59698643, 0.59698643,\n",
       "         0.63809045, 0.63809045, 0.57504614, 0.57504614, 0.45680693,\n",
       "         0.45680693, 0.47335096, 0.47335096, 0.39218678, 0.39218678,\n",
       "         0.28413393, 0.28413393, 0.60316493, 0.60316493, 0.62895678,\n",
       "         0.62895678, 0.65437144, 0.65437144, 0.99718427, 0.99718427,\n",
       "         0.15144303, 0.15144303, 0.18062126, 0.18062126, 0.65615876,\n",
       "         0.65615876, 0.22715503, 0.22715503, 0.34125845, 0.34125845,\n",
       "         0.51200792, 0.51200792, 0.08006435, 0.08006435, 0.75321115,\n",
       "         0.75321115, 0.81588092, 0.81588092, 0.49279766, 0.49279766])}}"
      ]
     },
     "execution_count": 1,
     "metadata": {},
     "output_type": "execute_result"
    }
   ],
   "source": [
    "ds = load_by_id(run_id_n)\n",
    "ds.get_parameter_data('x1')"
   ]
  },
  {
   "cell_type": "markdown",
   "metadata": {},
   "source": [
    "And a dataset stored as binary arrays"
   ]
  },
  {
   "cell_type": "code",
   "execution_count": 12,
   "metadata": {
    "execution": {
     "iopub.execute_input": "2020-10-14T11:09:49.451630Z",
     "iopub.status.busy": "2020-10-14T11:09:49.451099Z",
     "iopub.status.idle": "2020-10-14T11:09:49.503031Z",
     "shell.execute_reply": "2020-10-14T11:09:49.503944Z"
    },
    "scrolled": true
   },
   "outputs": [
    {
     "data": {
      "text/plain": [
       "{'x1': {'x1': array([[0.6673537 ],\n",
       "         [0.6673537 ],\n",
       "         [0.31320527],\n",
       "         [0.31320527],\n",
       "         [0.58341139],\n",
       "         [0.58341139],\n",
       "         [0.93278674],\n",
       "         [0.93278674],\n",
       "         [0.94717239],\n",
       "         [0.94717239],\n",
       "         [0.14409682],\n",
       "         [0.14409682],\n",
       "         [0.31520725],\n",
       "         [0.31520725],\n",
       "         [0.5973932 ],\n",
       "         [0.5973932 ],\n",
       "         [0.22403922],\n",
       "         [0.22403922],\n",
       "         [0.62086834],\n",
       "         [0.62086834],\n",
       "         [0.56781663],\n",
       "         [0.56781663],\n",
       "         [0.71888046],\n",
       "         [0.71888046],\n",
       "         [0.27127941],\n",
       "         [0.27127941],\n",
       "         [0.22785033],\n",
       "         [0.22785033],\n",
       "         [0.24143853],\n",
       "         [0.24143853],\n",
       "         [0.48139425],\n",
       "         [0.48139425],\n",
       "         [0.92065104],\n",
       "         [0.92065104],\n",
       "         [0.4561938 ],\n",
       "         [0.4561938 ],\n",
       "         [0.0292782 ],\n",
       "         [0.0292782 ],\n",
       "         [0.91358989],\n",
       "         [0.91358989],\n",
       "         [0.02213972],\n",
       "         [0.02213972],\n",
       "         [0.04284164],\n",
       "         [0.04284164],\n",
       "         [0.4765704 ],\n",
       "         [0.4765704 ],\n",
       "         [0.01220286],\n",
       "         [0.01220286],\n",
       "         [0.28906816],\n",
       "         [0.28906816],\n",
       "         [0.60430852],\n",
       "         [0.60430852],\n",
       "         [0.35095391],\n",
       "         [0.35095391],\n",
       "         [0.62235522],\n",
       "         [0.62235522],\n",
       "         [0.5862896 ],\n",
       "         [0.5862896 ],\n",
       "         [0.06439152],\n",
       "         [0.06439152],\n",
       "         [0.41862968],\n",
       "         [0.41862968],\n",
       "         [0.67327684],\n",
       "         [0.67327684],\n",
       "         [0.92432477],\n",
       "         [0.92432477],\n",
       "         [0.38206425],\n",
       "         [0.38206425],\n",
       "         [0.89265216],\n",
       "         [0.89265216],\n",
       "         [0.82660095],\n",
       "         [0.82660095],\n",
       "         [0.97337853],\n",
       "         [0.97337853],\n",
       "         [0.45479829],\n",
       "         [0.45479829],\n",
       "         [0.65121103],\n",
       "         [0.65121103],\n",
       "         [0.42384924],\n",
       "         [0.42384924],\n",
       "         [0.73839383],\n",
       "         [0.73839383],\n",
       "         [0.17595911],\n",
       "         [0.17595911],\n",
       "         [0.94764707],\n",
       "         [0.94764707],\n",
       "         [0.539316  ],\n",
       "         [0.539316  ],\n",
       "         [0.53991027],\n",
       "         [0.53991027],\n",
       "         [0.32877477],\n",
       "         [0.32877477],\n",
       "         [0.47390115],\n",
       "         [0.47390115],\n",
       "         [0.93966428],\n",
       "         [0.93966428],\n",
       "         [0.47388463],\n",
       "         [0.47388463],\n",
       "         [0.21453107],\n",
       "         [0.21453107],\n",
       "         [0.4716694 ],\n",
       "         [0.4716694 ],\n",
       "         [0.28577206],\n",
       "         [0.28577206],\n",
       "         [0.63422562],\n",
       "         [0.63422562],\n",
       "         [0.32230026],\n",
       "         [0.32230026],\n",
       "         [0.99967581],\n",
       "         [0.99967581],\n",
       "         [0.18231864],\n",
       "         [0.18231864],\n",
       "         [0.5197894 ],\n",
       "         [0.5197894 ],\n",
       "         [0.3148779 ],\n",
       "         [0.3148779 ],\n",
       "         [0.78907054],\n",
       "         [0.78907054],\n",
       "         [0.24606756],\n",
       "         [0.24606756],\n",
       "         [0.79198963],\n",
       "         [0.79198963],\n",
       "         [0.77006856],\n",
       "         [0.77006856],\n",
       "         [0.11312707],\n",
       "         [0.11312707],\n",
       "         [0.27665975],\n",
       "         [0.27665975],\n",
       "         [0.24237966],\n",
       "         [0.24237966],\n",
       "         [0.47611805],\n",
       "         [0.47611805],\n",
       "         [0.51701843],\n",
       "         [0.51701843],\n",
       "         [0.70675616],\n",
       "         [0.70675616],\n",
       "         [0.18169139],\n",
       "         [0.18169139],\n",
       "         [0.72841282],\n",
       "         [0.72841282],\n",
       "         [0.1977519 ],\n",
       "         [0.1977519 ],\n",
       "         [0.55536154],\n",
       "         [0.55536154],\n",
       "         [0.9701428 ],\n",
       "         [0.9701428 ],\n",
       "         [0.41466923],\n",
       "         [0.41466923],\n",
       "         [0.25923292],\n",
       "         [0.25923292],\n",
       "         [0.93277674],\n",
       "         [0.93277674],\n",
       "         [0.2997913 ],\n",
       "         [0.2997913 ],\n",
       "         [0.9076127 ],\n",
       "         [0.9076127 ],\n",
       "         [0.99427919],\n",
       "         [0.99427919],\n",
       "         [0.87363445],\n",
       "         [0.87363445],\n",
       "         [0.64828172],\n",
       "         [0.64828172],\n",
       "         [0.57790495],\n",
       "         [0.57790495],\n",
       "         [0.34942297],\n",
       "         [0.34942297],\n",
       "         [0.17317618],\n",
       "         [0.17317618],\n",
       "         [0.79639982],\n",
       "         [0.79639982],\n",
       "         [0.11030095],\n",
       "         [0.11030095],\n",
       "         [0.25189618],\n",
       "         [0.25189618],\n",
       "         [0.31157884],\n",
       "         [0.31157884],\n",
       "         [0.12664477],\n",
       "         [0.12664477],\n",
       "         [0.61304469],\n",
       "         [0.61304469],\n",
       "         [0.91896501],\n",
       "         [0.91896501],\n",
       "         [0.14791884],\n",
       "         [0.14791884],\n",
       "         [0.44518402],\n",
       "         [0.44518402],\n",
       "         [0.29725577],\n",
       "         [0.29725577],\n",
       "         [0.00851396],\n",
       "         [0.00851396],\n",
       "         [0.0766729 ],\n",
       "         [0.0766729 ],\n",
       "         [0.20567681],\n",
       "         [0.20567681],\n",
       "         [0.84911296],\n",
       "         [0.84911296],\n",
       "         [0.96188673],\n",
       "         [0.96188673],\n",
       "         [0.2281315 ],\n",
       "         [0.2281315 ]])}}"
      ]
     },
     "execution_count": 1,
     "metadata": {},
     "output_type": "execute_result"
    }
   ],
   "source": [
    "ds = load_by_id(run_id_a)\n",
    "ds.get_parameter_data('x1')"
   ]
  },
  {
   "cell_type": "code",
   "execution_count": null,
   "metadata": {},
   "outputs": [],
   "source": []
  }
 ],
 "metadata": {
  "kernelspec": {
   "display_name": "Python 3",
   "language": "python",
   "name": "python3"
  },
  "language_info": {
   "codemirror_mode": {
    "name": "ipython",
    "version": 3
   },
   "file_extension": ".py",
   "mimetype": "text/x-python",
   "name": "python",
   "nbconvert_exporter": "python",
   "pygments_lexer": "ipython3",
   "version": "3.7.7"
  },
  "nbsphinx": {
   "timeout": 600
  },
  "toc": {
   "base_numbering": 1,
   "nav_menu": {},
   "number_sections": true,
   "sideBar": true,
   "skip_h1_title": false,
   "title_cell": "Table of Contents",
   "title_sidebar": "Contents",
   "toc_cell": false,
   "toc_position": {},
   "toc_section_display": true,
   "toc_window_display": false
  },
  "varInspector": {
   "cols": {
    "lenName": 16,
    "lenType": 16,
    "lenVar": 40
   },
   "kernels_config": {
    "python": {
     "delete_cmd_postfix": "",
     "delete_cmd_prefix": "del ",
     "library": "var_list.py",
     "varRefreshCmd": "print(var_dic_list())"
    },
    "r": {
     "delete_cmd_postfix": ") ",
     "delete_cmd_prefix": "rm(",
     "library": "var_list.r",
     "varRefreshCmd": "cat(var_dic_list()) "
    }
   },
   "types_to_exclude": [
    "module",
    "function",
    "builtin_function_or_method",
    "instance",
    "_Feature"
   ],
   "window_display": false
  }
 },
 "nbformat": 4,
 "nbformat_minor": 2
}
