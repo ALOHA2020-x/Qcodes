{
 "cells": [
  {
   "cell_type": "markdown",
   "metadata": {},
   "source": [
    "# DataSet Performance\n",
    "\n",
    "This notebook shows the trade-off between inserting data into a database row-by-row and as binary blobs. Inserting the data row-by-row means that we have direct access to all the data and may perform queries directly on the values of the data. On the other hand, as we shall see, this is much slower than inserting the data directly as binary blobs."
   ]
  },
  {
   "cell_type": "markdown",
   "metadata": {},
   "source": [
    "First, we choose a new location for the database to ensure that we don't add a bunch of benchmarking data to the default one."
   ]
  },
  {
   "cell_type": "code",
   "execution_count": 1,
   "metadata": {
    "execution": {
     "iopub.execute_input": "2020-10-03T21:01:44.136251Z",
     "iopub.status.busy": "2020-10-03T21:01:44.135700Z",
     "iopub.status.idle": "2020-10-03T21:01:45.169127Z",
     "shell.execute_reply": "2020-10-03T21:01:45.169586Z"
    }
   },
   "outputs": [
    {
     "name": "stdout",
     "output_type": "stream",
     "text": [
      "Logging hadn't been started.\n",
      "Activating auto-logging. Current session state plus future input saved.\n",
      "Filename       : /home/vsts/.qcodes/logs/command_history.log\n",
      "Mode           : append\n",
      "Output logging : True\n",
      "Raw input log  : False\n",
      "Timestamping   : True\n",
      "State          : active\n"
     ]
    },
    {
     "name": "stdout",
     "output_type": "stream",
     "text": [
      "Qcodes Logfile : /home/vsts/.qcodes/logs/201003-19860-qcodes.log\n"
     ]
    }
   ],
   "source": [
    "import os\n",
    "cwd = os.getcwd()\n",
    "import qcodes as qc\n",
    "qc.config[\"core\"][\"db_location\"] = os.path.join(cwd, 'testing.db')\n"
   ]
  },
  {
   "cell_type": "code",
   "execution_count": 2,
   "metadata": {
    "execution": {
     "iopub.execute_input": "2020-10-03T21:01:45.177261Z",
     "iopub.status.busy": "2020-10-03T21:01:45.175695Z",
     "iopub.status.idle": "2020-10-03T21:01:45.369686Z",
     "shell.execute_reply": "2020-10-03T21:01:45.368787Z"
    }
   },
   "outputs": [],
   "source": [
    "%matplotlib inline\n",
    "import time\n",
    "import matplotlib.pyplot as plt\n",
    "import numpy as np\n",
    "\n",
    "import qcodes as qc\n",
    "from qcodes.instrument.parameter import ManualParameter\n",
    "from qcodes.dataset.experiment_container import (Experiment,\n",
    "                                                 load_last_experiment,\n",
    "                                                 new_experiment)\n",
    "from qcodes.dataset.sqlite.database import initialise_database\n",
    "from qcodes import load_or_create_experiment\n",
    "from qcodes.dataset.measurements import Measurement"
   ]
  },
  {
   "cell_type": "code",
   "execution_count": 3,
   "metadata": {
    "execution": {
     "iopub.execute_input": "2020-10-03T21:01:45.373527Z",
     "iopub.status.busy": "2020-10-03T21:01:45.372975Z",
     "iopub.status.idle": "2020-10-03T21:01:45.492262Z",
     "shell.execute_reply": "2020-10-03T21:01:45.492761Z"
    }
   },
   "outputs": [
    {
     "name": "stdout",
     "output_type": "stream",
     "text": [
      "\r",
      "0it [00:00, ?it/s]"
     ]
    },
    {
     "name": "stdout",
     "output_type": "stream",
     "text": [
      "\r",
      "Upgrading database; v0 -> v1: : 0it [00:00, ?it/s]"
     ]
    },
    {
     "name": "stdout",
     "output_type": "stream",
     "text": [
      "\r",
      "Upgrading database; v0 -> v1: : 0it [00:00, ?it/s]"
     ]
    },
    {
     "name": "stdout",
     "output_type": "stream",
     "text": [
      "\n",
      "\r",
      "  0%|          | 0/1 [00:00<?, ?it/s]"
     ]
    },
    {
     "name": "stdout",
     "output_type": "stream",
     "text": [
      "\r",
      "Upgrading database; v1 -> v2:   0%|          | 0/1 [00:00<?, ?it/s]"
     ]
    },
    {
     "name": "stdout",
     "output_type": "stream",
     "text": [
      "\r",
      "Upgrading database; v1 -> v2: 100%|██████████| 1/1 [00:00<00:00, 379.03it/s]"
     ]
    },
    {
     "name": "stdout",
     "output_type": "stream",
     "text": [
      "\n",
      "\r",
      "0it [00:00, ?it/s]"
     ]
    },
    {
     "name": "stdout",
     "output_type": "stream",
     "text": [
      "\r",
      "Upgrading database; v2 -> v3: : 0it [00:00, ?it/s]"
     ]
    },
    {
     "name": "stdout",
     "output_type": "stream",
     "text": [
      "\r",
      "Upgrading database; v2 -> v3: : 0it [00:00, ?it/s]"
     ]
    },
    {
     "name": "stdout",
     "output_type": "stream",
     "text": [
      "\n",
      "\r",
      "0it [00:00, ?it/s]"
     ]
    },
    {
     "name": "stdout",
     "output_type": "stream",
     "text": [
      "\r",
      "Upgrading database; v3 -> v4: : 0it [00:00, ?it/s]"
     ]
    },
    {
     "name": "stdout",
     "output_type": "stream",
     "text": [
      "\r",
      "Upgrading database; v3 -> v4: : 0it [00:00, ?it/s]"
     ]
    },
    {
     "name": "stdout",
     "output_type": "stream",
     "text": [
      "\n",
      "\r",
      "  0%|          | 0/1 [00:00<?, ?it/s]"
     ]
    },
    {
     "name": "stdout",
     "output_type": "stream",
     "text": [
      "\r",
      "Upgrading database; v4 -> v5:   0%|          | 0/1 [00:00<?, ?it/s]"
     ]
    },
    {
     "name": "stdout",
     "output_type": "stream",
     "text": [
      "\r",
      "Upgrading database; v4 -> v5: 100%|██████████| 1/1 [00:00<00:00, 430.14it/s]"
     ]
    },
    {
     "name": "stdout",
     "output_type": "stream",
     "text": [
      "\n",
      "\r",
      "0it [00:00, ?it/s]"
     ]
    },
    {
     "name": "stdout",
     "output_type": "stream",
     "text": [
      "\r",
      "Upgrading database; v5 -> v6: : 0it [00:00, ?it/s]"
     ]
    },
    {
     "name": "stdout",
     "output_type": "stream",
     "text": [
      "\r",
      "Upgrading database; v5 -> v6: : 0it [00:00, ?it/s]"
     ]
    },
    {
     "name": "stdout",
     "output_type": "stream",
     "text": [
      "\n",
      "\r",
      "  0%|          | 0/1 [00:00<?, ?it/s]"
     ]
    },
    {
     "name": "stdout",
     "output_type": "stream",
     "text": [
      "\r",
      "Upgrading database; v6 -> v7:   0%|          | 0/1 [00:00<?, ?it/s]"
     ]
    },
    {
     "name": "stdout",
     "output_type": "stream",
     "text": [
      "\r",
      "Upgrading database; v6 -> v7: 100%|██████████| 1/1 [00:00<00:00, 208.96it/s]"
     ]
    },
    {
     "name": "stdout",
     "output_type": "stream",
     "text": [
      "\n",
      "\r",
      "  0%|          | 0/1 [00:00<?, ?it/s]"
     ]
    },
    {
     "name": "stdout",
     "output_type": "stream",
     "text": [
      "\r",
      "Upgrading database; v7 -> v8:   0%|          | 0/1 [00:00<?, ?it/s]"
     ]
    },
    {
     "name": "stdout",
     "output_type": "stream",
     "text": [
      "\r",
      "Upgrading database; v7 -> v8: 100%|██████████| 1/1 [00:00<00:00, 442.76it/s]"
     ]
    },
    {
     "name": "stdout",
     "output_type": "stream",
     "text": [
      "\n",
      "\r",
      "  0%|          | 0/1 [00:00<?, ?it/s]"
     ]
    },
    {
     "name": "stdout",
     "output_type": "stream",
     "text": [
      "\r",
      "Upgrading database; v8 -> v9:   0%|          | 0/1 [00:00<?, ?it/s]"
     ]
    },
    {
     "name": "stdout",
     "output_type": "stream",
     "text": [
      "\r",
      "Upgrading database; v8 -> v9: 100%|██████████| 1/1 [00:00<00:00, 345.30it/s]"
     ]
    },
    {
     "name": "stdout",
     "output_type": "stream",
     "text": [
      "\n"
     ]
    }
   ],
   "source": [
    "initialise_database()\n",
    "exp = load_or_create_experiment(experiment_name='tutorial_exp', sample_name=\"no sample\")"
   ]
  },
  {
   "cell_type": "markdown",
   "metadata": {},
   "source": [
    "Here, we define a simple function to benchmark the time it takes to insert n points with either numeric or array data type.\n",
    "We will compare both the time used to call ``add_result`` and the time used for the full measurement."
   ]
  },
  {
   "cell_type": "code",
   "execution_count": 4,
   "metadata": {
    "execution": {
     "iopub.execute_input": "2020-10-03T21:01:45.501327Z",
     "iopub.status.busy": "2020-10-03T21:01:45.499607Z",
     "iopub.status.idle": "2020-10-03T21:01:45.502965Z",
     "shell.execute_reply": "2020-10-03T21:01:45.503916Z"
    }
   },
   "outputs": [],
   "source": [
    "def insert_data(paramtype, npoints, nreps=1):\n",
    "\n",
    "    meas = Measurement(exp=exp)\n",
    "\n",
    "    x1 = ManualParameter('x1')\n",
    "    x2 = ManualParameter('x2')\n",
    "    x3 = ManualParameter('x3')\n",
    "    y1 = ManualParameter('y1')\n",
    "    y2 = ManualParameter('y2')\n",
    "\n",
    "    meas.register_parameter(x1, paramtype=paramtype)\n",
    "    meas.register_parameter(x2, paramtype=paramtype)\n",
    "    meas.register_parameter(x3, paramtype=paramtype)\n",
    "    meas.register_parameter(y1, setpoints=[x1, x2, x3],\n",
    "                            paramtype=paramtype)\n",
    "    meas.register_parameter(y2, setpoints=[x1, x2, x3],\n",
    "                            paramtype=paramtype)\n",
    "    start = time.perf_counter()\n",
    "    with meas.run() as datasaver:\n",
    "        start_adding = time.perf_counter()\n",
    "        for i in range(nreps):\n",
    "            datasaver.add_result((x1, np.random.rand(npoints)),\n",
    "                                 (x2, np.random.rand(npoints)),\n",
    "                                 (x3, np.random.rand(npoints)),\n",
    "                                 (y1, np.random.rand(npoints)),\n",
    "                                 (y2, np.random.rand(npoints)))\n",
    "        stop_adding = time.perf_counter()\n",
    "        run_id = datasaver.run_id\n",
    "    stop = time.perf_counter()\n",
    "    tot_time = stop - start\n",
    "    add_time = stop_adding - start_adding\n",
    "    return tot_time, add_time, run_id"
   ]
  },
  {
   "cell_type": "markdown",
   "metadata": {},
   "source": [
    "## Comparison between numeric/array data and binary blob"
   ]
  },
  {
   "cell_type": "markdown",
   "metadata": {},
   "source": [
    "### Case1: Short experiment time"
   ]
  },
  {
   "cell_type": "code",
   "execution_count": 5,
   "metadata": {
    "execution": {
     "iopub.execute_input": "2020-10-03T21:01:45.510275Z",
     "iopub.status.busy": "2020-10-03T21:01:45.508786Z",
     "iopub.status.idle": "2020-10-03T21:01:46.338514Z",
     "shell.execute_reply": "2020-10-03T21:01:46.337988Z"
    }
   },
   "outputs": [
    {
     "name": "stdout",
     "output_type": "stream",
     "text": [
      "Starting experimental run with id: 1. \n",
      "Starting experimental run with id: 2. \n",
      "Starting experimental run with id: 3. \n",
      "Starting experimental run with id: 4. \n",
      "Starting experimental run with id: 5. \n"
     ]
    },
    {
     "name": "stdout",
     "output_type": "stream",
     "text": [
      "Starting experimental run with id: 6. \n"
     ]
    },
    {
     "name": "stdout",
     "output_type": "stream",
     "text": [
      "Starting experimental run with id: 7. \n"
     ]
    },
    {
     "name": "stdout",
     "output_type": "stream",
     "text": [
      "Starting experimental run with id: 8. \n",
      "Starting experimental run with id: 9. \n"
     ]
    },
    {
     "name": "stdout",
     "output_type": "stream",
     "text": [
      "Starting experimental run with id: 10. \n",
      "Starting experimental run with id: 11. \n"
     ]
    },
    {
     "name": "stdout",
     "output_type": "stream",
     "text": [
      "Starting experimental run with id: 12. \n",
      "Starting experimental run with id: 13. \n"
     ]
    },
    {
     "name": "stdout",
     "output_type": "stream",
     "text": [
      "Starting experimental run with id: 14. \n"
     ]
    }
   ],
   "source": [
    "sizes = [1,500,1000,2000,3000,4000,5000]\n",
    "t_numeric = []\n",
    "t_numeric_add = []\n",
    "t_array = []\n",
    "t_array_add = []\n",
    "for size in sizes:\n",
    "    tn, tna, run_id_n =  insert_data('numeric', size)\n",
    "    t_numeric.append(tn)\n",
    "    t_numeric_add.append(tna)\n",
    "\n",
    "    ta, taa, run_id_a =  insert_data('array', size)\n",
    "    t_array.append(ta)\n",
    "    t_array_add.append(taa)"
   ]
  },
  {
   "cell_type": "code",
   "execution_count": 6,
   "metadata": {
    "execution": {
     "iopub.execute_input": "2020-10-03T21:01:46.357210Z",
     "iopub.status.busy": "2020-10-03T21:01:46.342970Z",
     "iopub.status.idle": "2020-10-03T21:01:46.571865Z",
     "shell.execute_reply": "2020-10-03T21:01:46.571285Z"
    }
   },
   "outputs": [
    {
     "data": {
      "image/png": "[encoded data removed]",
      "text/plain": [
       "<Figure size 432x288 with 1 Axes>"
      ]
     },
     "metadata": {
      "needs_background": "light"
     },
     "output_type": "display_data"
    }
   ],
   "source": [
    "fig, ax = plt.subplots(1,1)\n",
    "ax.plot(sizes, t_numeric, 'o-', label='Inserting row-by-row')\n",
    "ax.plot(sizes, t_numeric_add, 'o-', label='Inserting row-by-row: add_result only')\n",
    "ax.plot(sizes, t_array, 'd-', label='Inserting as binary blob')\n",
    "ax.plot(sizes, t_array_add, 'd-', label='Inserting as binary blob: add_result only')\n",
    "ax.legend()\n",
    "ax.set_xlabel('Array length')\n",
    "ax.set_ylabel('Time (s)')\n",
    "fig.tight_layout()"
   ]
  },
  {
   "cell_type": "markdown",
   "metadata": {},
   "source": [
    "As shown in the latter figure, the time to setup and and close the experiment is approximately 0.4 sec. In case of small array sizes, the difference between inserting values of data as arrays and inserting them row-by-row is relatively unimportant. At larger array sizes, i.e. above 10000 points, the cost of writing data as individual datapoints starts to become important.\n"
   ]
  },
  {
   "cell_type": "markdown",
   "metadata": {},
   "source": [
    "### Case2: Long experiment time "
   ]
  },
  {
   "cell_type": "code",
   "execution_count": 7,
   "metadata": {
    "execution": {
     "iopub.execute_input": "2020-10-03T21:01:46.578831Z",
     "iopub.status.busy": "2020-10-03T21:01:46.577853Z",
     "iopub.status.idle": "2020-10-03T21:02:48.715564Z",
     "shell.execute_reply": "2020-10-03T21:02:48.716050Z"
    }
   },
   "outputs": [
    {
     "name": "stdout",
     "output_type": "stream",
     "text": [
      "Starting experimental run with id: 15. \n",
      "Starting experimental run with id: 16. \n",
      "Starting experimental run with id: 17. \n"
     ]
    },
    {
     "name": "stdout",
     "output_type": "stream",
     "text": [
      "Starting experimental run with id: 18. \n",
      "Starting experimental run with id: 19. \n"
     ]
    },
    {
     "name": "stdout",
     "output_type": "stream",
     "text": [
      "Starting experimental run with id: 20. \n"
     ]
    },
    {
     "name": "stdout",
     "output_type": "stream",
     "text": [
      "Starting experimental run with id: 21. \n"
     ]
    },
    {
     "name": "stdout",
     "output_type": "stream",
     "text": [
      "Starting experimental run with id: 22. \n"
     ]
    },
    {
     "name": "stdout",
     "output_type": "stream",
     "text": [
      "Starting experimental run with id: 23. \n"
     ]
    },
    {
     "name": "stdout",
     "output_type": "stream",
     "text": [
      "Starting experimental run with id: 24. \n"
     ]
    },
    {
     "name": "stdout",
     "output_type": "stream",
     "text": [
      "Starting experimental run with id: 25. \n"
     ]
    },
    {
     "name": "stdout",
     "output_type": "stream",
     "text": [
      "Starting experimental run with id: 26. \n"
     ]
    },
    {
     "name": "stdout",
     "output_type": "stream",
     "text": [
      "Starting experimental run with id: 27. \n"
     ]
    },
    {
     "name": "stdout",
     "output_type": "stream",
     "text": [
      "Starting experimental run with id: 28. \n"
     ]
    }
   ],
   "source": [
    "sizes = [1,500,1000,2000,3000,4000,5000]\n",
    "nreps = 100\n",
    "t_numeric = []\n",
    "t_numeric_add = []\n",
    "t_numeric_run_ids = []\n",
    "t_array = []\n",
    "t_array_add = []\n",
    "t_array_run_ids = []\n",
    "for size in sizes:\n",
    "    tn, tna, run_id_n =  insert_data('numeric', size, nreps=nreps)\n",
    "    t_numeric.append(tn)\n",
    "    t_numeric_add.append(tna)\n",
    "    t_numeric_run_ids.append(run_id_n)\n",
    "\n",
    "    ta, taa, run_id_a =  insert_data('array', size, nreps=nreps)\n",
    "    t_array.append(ta)\n",
    "    t_array_add.append(taa)\n",
    "    t_array_run_ids.append(run_id_a)"
   ]
  },
  {
   "cell_type": "code",
   "execution_count": 8,
   "metadata": {
    "execution": {
     "iopub.execute_input": "2020-10-03T21:02:48.734518Z",
     "iopub.status.busy": "2020-10-03T21:02:48.732802Z",
     "iopub.status.idle": "2020-10-03T21:02:48.953708Z",
     "shell.execute_reply": "2020-10-03T21:02:48.954138Z"
    },
    "scrolled": true
   },
   "outputs": [
    {
     "data": {
      "image/png": "[encoded data removed]",
      "text/plain": [
       "<Figure size 432x288 with 1 Axes>"
      ]
     },
     "metadata": {
      "needs_background": "light"
     },
     "output_type": "display_data"
    }
   ],
   "source": [
    "fig, ax = plt.subplots(1,1)\n",
    "ax.plot(sizes, t_numeric, 'o-', label='Inserting row-by-row')\n",
    "ax.plot(sizes, t_numeric_add, 'o-', label='Inserting row-by-row: add_result only')\n",
    "ax.plot(sizes, t_array, 'd-', label='Inserting as binary blob')\n",
    "ax.plot(sizes, t_array_add, 'd-', label='Inserting as binary blob: add_result only')\n",
    "ax.legend()\n",
    "ax.set_xlabel('Array length')\n",
    "ax.set_ylabel('Time (s)')\n",
    "fig.tight_layout()"
   ]
  },
  {
   "cell_type": "markdown",
   "metadata": {},
   "source": [
    "However, as we increase the length of the experiment, as seen here by repeating the insertion 100 times, we see a big difference between inserting values of the data row-by-row and inserting it as a binary blob."
   ]
  },
  {
   "cell_type": "markdown",
   "metadata": {},
   "source": [
    "## Loading the data "
   ]
  },
  {
   "cell_type": "code",
   "execution_count": 9,
   "metadata": {
    "execution": {
     "iopub.execute_input": "2020-10-03T21:02:48.958717Z",
     "iopub.status.busy": "2020-10-03T21:02:48.957592Z",
     "iopub.status.idle": "2020-10-03T21:02:48.961177Z",
     "shell.execute_reply": "2020-10-03T21:02:48.960541Z"
    }
   },
   "outputs": [],
   "source": [
    "from qcodes.dataset.data_set import load_by_id\n",
    "from qcodes.dataset.data_export import get_data_by_id"
   ]
  },
  {
   "cell_type": "markdown",
   "metadata": {},
   "source": [
    "As usual you can load the data by using the ``load_by_id`` function but you will notice that the different storage methods\n",
    "are reflected in shape of the data as it is retrieved. "
   ]
  },
  {
   "cell_type": "code",
   "execution_count": 10,
   "metadata": {
    "execution": {
     "iopub.execute_input": "2020-10-03T21:02:48.965599Z",
     "iopub.status.busy": "2020-10-03T21:02:48.964443Z",
     "iopub.status.idle": "2020-10-03T21:02:48.966237Z",
     "shell.execute_reply": "2020-10-03T21:02:48.966763Z"
    }
   },
   "outputs": [],
   "source": [
    "run_id_n = t_numeric_run_ids[0]\n",
    "run_id_a = t_array_run_ids[0]"
   ]
  },
  {
   "cell_type": "code",
   "execution_count": 11,
   "metadata": {
    "execution": {
     "iopub.execute_input": "2020-10-03T21:02:48.970162Z",
     "iopub.status.busy": "2020-10-03T21:02:48.969613Z",
     "iopub.status.idle": "2020-10-03T21:02:48.978740Z",
     "shell.execute_reply": "2020-10-03T21:02:48.978291Z"
    },
    "scrolled": true
   },
   "outputs": [
    {
     "data": {
      "text/plain": [
       "{'x1': {'x1': array([0.80423943, 0.80423943, 0.6972876 , 0.6972876 , 0.02390677,\n",
       "         0.02390677, 0.13726025, 0.13726025, 0.31361515, 0.31361515,\n",
       "         0.90362151, 0.90362151, 0.98907758, 0.98907758, 0.04345405,\n",
       "         0.04345405, 0.23280486, 0.23280486, 0.69201267, 0.69201267,\n",
       "         0.31293331, 0.31293331, 0.45436218, 0.45436218, 0.05881142,\n",
       "         0.05881142, 0.09731195, 0.09731195, 0.02165834, 0.02165834,\n",
       "         0.55263467, 0.55263467, 0.47923929, 0.47923929, 0.42588024,\n",
       "         0.42588024, 0.40503528, 0.40503528, 0.48421231, 0.48421231,\n",
       "         0.73035244, 0.73035244, 0.16787327, 0.16787327, 0.86740806,\n",
       "         0.86740806, 0.84285531, 0.84285531, 0.12917895, 0.12917895,\n",
       "         0.68905814, 0.68905814, 0.77970061, 0.77970061, 0.01376764,\n",
       "         0.01376764, 0.00421622, 0.00421622, 0.41963209, 0.41963209,\n",
       "         0.05804941, 0.05804941, 0.22687635, 0.22687635, 0.15582183,\n",
       "         0.15582183, 0.08806604, 0.08806604, 0.61748196, 0.61748196,\n",
       "         0.94617971, 0.94617971, 0.53232248, 0.53232248, 0.20903556,\n",
       "         0.20903556, 0.75550359, 0.75550359, 0.85228887, 0.85228887,\n",
       "         0.84052162, 0.84052162, 0.85303198, 0.85303198, 0.99621198,\n",
       "         0.99621198, 0.70067656, 0.70067656, 0.7822155 , 0.7822155 ,\n",
       "         0.96008247, 0.96008247, 0.59746765, 0.59746765, 0.40875162,\n",
       "         0.40875162, 0.20478689, 0.20478689, 0.92684797, 0.92684797,\n",
       "         0.34533644, 0.34533644, 0.09847553, 0.09847553, 0.46325711,\n",
       "         0.46325711, 0.94645275, 0.94645275, 0.4338682 , 0.4338682 ,\n",
       "         0.98848799, 0.98848799, 0.97657811, 0.97657811, 0.82419616,\n",
       "         0.82419616, 0.73035426, 0.73035426, 0.65752824, 0.65752824,\n",
       "         0.54137115, 0.54137115, 0.21919337, 0.21919337, 0.55010057,\n",
       "         0.55010057, 0.32547298, 0.32547298, 0.23190463, 0.23190463,\n",
       "         0.24659823, 0.24659823, 0.9899473 , 0.9899473 , 0.70595866,\n",
       "         0.70595866, 0.19459318, 0.19459318, 0.09706661, 0.09706661,\n",
       "         0.90585729, 0.90585729, 0.42752657, 0.42752657, 0.63482345,\n",
       "         0.63482345, 0.12312124, 0.12312124, 0.12373022, 0.12373022,\n",
       "         0.47826344, 0.47826344, 0.38270576, 0.38270576, 0.18256241,\n",
       "         0.18256241, 0.12484868, 0.12484868, 0.40986211, 0.40986211,\n",
       "         0.02736259, 0.02736259, 0.54466471, 0.54466471, 0.83465368,\n",
       "         0.83465368, 0.85375533, 0.85375533, 0.05924047, 0.05924047,\n",
       "         0.77786007, 0.77786007, 0.2295278 , 0.2295278 , 0.63842134,\n",
       "         0.63842134, 0.69559592, 0.69559592, 0.51187683, 0.51187683,\n",
       "         0.35356567, 0.35356567, 0.43538023, 0.43538023, 0.51940215,\n",
       "         0.51940215, 0.96813553, 0.96813553, 0.37864238, 0.37864238,\n",
       "         0.36821045, 0.36821045, 0.53486038, 0.53486038, 0.36178698,\n",
       "         0.36178698, 0.6474751 , 0.6474751 , 0.72947903, 0.72947903])}}"
      ]
     },
     "execution_count": 1,
     "metadata": {},
     "output_type": "execute_result"
    }
   ],
   "source": [
    "ds = load_by_id(run_id_n)\n",
    "ds.get_parameter_data('x1')"
   ]
  },
  {
   "cell_type": "markdown",
   "metadata": {},
   "source": [
    "And a dataset stored as binary arrays"
   ]
  },
  {
   "cell_type": "code",
   "execution_count": 12,
   "metadata": {
    "execution": {
     "iopub.execute_input": "2020-10-03T21:02:48.982988Z",
     "iopub.status.busy": "2020-10-03T21:02:48.982404Z",
     "iopub.status.idle": "2020-10-03T21:02:49.041682Z",
     "shell.execute_reply": "2020-10-03T21:02:49.041142Z"
    },
    "scrolled": true
   },
   "outputs": [
    {
     "data": {
      "text/plain": [
       "{'x1': {'x1': array([[0.97498069],\n",
       "         [0.97498069],\n",
       "         [0.07767331],\n",
       "         [0.07767331],\n",
       "         [0.37903417],\n",
       "         [0.37903417],\n",
       "         [0.27129005],\n",
       "         [0.27129005],\n",
       "         [0.68788165],\n",
       "         [0.68788165],\n",
       "         [0.2633803 ],\n",
       "         [0.2633803 ],\n",
       "         [0.44987199],\n",
       "         [0.44987199],\n",
       "         [0.48068251],\n",
       "         [0.48068251],\n",
       "         [0.92382203],\n",
       "         [0.92382203],\n",
       "         [0.5805198 ],\n",
       "         [0.5805198 ],\n",
       "         [0.65357898],\n",
       "         [0.65357898],\n",
       "         [0.56237719],\n",
       "         [0.56237719],\n",
       "         [0.06397424],\n",
       "         [0.06397424],\n",
       "         [0.32270641],\n",
       "         [0.32270641],\n",
       "         [0.80719325],\n",
       "         [0.80719325],\n",
       "         [0.693606  ],\n",
       "         [0.693606  ],\n",
       "         [0.21382727],\n",
       "         [0.21382727],\n",
       "         [0.25639026],\n",
       "         [0.25639026],\n",
       "         [0.84370498],\n",
       "         [0.84370498],\n",
       "         [0.95600471],\n",
       "         [0.95600471],\n",
       "         [0.12269128],\n",
       "         [0.12269128],\n",
       "         [0.92288475],\n",
       "         [0.92288475],\n",
       "         [0.29837896],\n",
       "         [0.29837896],\n",
       "         [0.21803681],\n",
       "         [0.21803681],\n",
       "         [0.27122802],\n",
       "         [0.27122802],\n",
       "         [0.73558926],\n",
       "         [0.73558926],\n",
       "         [0.39501597],\n",
       "         [0.39501597],\n",
       "         [0.37025174],\n",
       "         [0.37025174],\n",
       "         [0.02733939],\n",
       "         [0.02733939],\n",
       "         [0.35057963],\n",
       "         [0.35057963],\n",
       "         [0.96688579],\n",
       "         [0.96688579],\n",
       "         [0.93003937],\n",
       "         [0.93003937],\n",
       "         [0.39826039],\n",
       "         [0.39826039],\n",
       "         [0.71708321],\n",
       "         [0.71708321],\n",
       "         [0.720945  ],\n",
       "         [0.720945  ],\n",
       "         [0.82166264],\n",
       "         [0.82166264],\n",
       "         [0.38906783],\n",
       "         [0.38906783],\n",
       "         [0.67086954],\n",
       "         [0.67086954],\n",
       "         [0.9379589 ],\n",
       "         [0.9379589 ],\n",
       "         [0.65018795],\n",
       "         [0.65018795],\n",
       "         [0.91725102],\n",
       "         [0.91725102],\n",
       "         [0.29401621],\n",
       "         [0.29401621],\n",
       "         [0.36460171],\n",
       "         [0.36460171],\n",
       "         [0.99107732],\n",
       "         [0.99107732],\n",
       "         [0.50300411],\n",
       "         [0.50300411],\n",
       "         [0.31292316],\n",
       "         [0.31292316],\n",
       "         [0.35297556],\n",
       "         [0.35297556],\n",
       "         [0.81325965],\n",
       "         [0.81325965],\n",
       "         [0.01572227],\n",
       "         [0.01572227],\n",
       "         [0.36246177],\n",
       "         [0.36246177],\n",
       "         [0.71407737],\n",
       "         [0.71407737],\n",
       "         [0.15594497],\n",
       "         [0.15594497],\n",
       "         [0.59958177],\n",
       "         [0.59958177],\n",
       "         [0.65091717],\n",
       "         [0.65091717],\n",
       "         [0.29204097],\n",
       "         [0.29204097],\n",
       "         [0.65587425],\n",
       "         [0.65587425],\n",
       "         [0.67854376],\n",
       "         [0.67854376],\n",
       "         [0.65433892],\n",
       "         [0.65433892],\n",
       "         [0.53320429],\n",
       "         [0.53320429],\n",
       "         [0.90795517],\n",
       "         [0.90795517],\n",
       "         [0.5973434 ],\n",
       "         [0.5973434 ],\n",
       "         [0.34078006],\n",
       "         [0.34078006],\n",
       "         [0.5843334 ],\n",
       "         [0.5843334 ],\n",
       "         [0.30209626],\n",
       "         [0.30209626],\n",
       "         [0.75518449],\n",
       "         [0.75518449],\n",
       "         [0.12361186],\n",
       "         [0.12361186],\n",
       "         [0.99461337],\n",
       "         [0.99461337],\n",
       "         [0.50929262],\n",
       "         [0.50929262],\n",
       "         [0.80052474],\n",
       "         [0.80052474],\n",
       "         [0.24997054],\n",
       "         [0.24997054],\n",
       "         [0.79641376],\n",
       "         [0.79641376],\n",
       "         [0.95101451],\n",
       "         [0.95101451],\n",
       "         [0.95811208],\n",
       "         [0.95811208],\n",
       "         [0.50211222],\n",
       "         [0.50211222],\n",
       "         [0.85788959],\n",
       "         [0.85788959],\n",
       "         [0.33450741],\n",
       "         [0.33450741],\n",
       "         [0.6072955 ],\n",
       "         [0.6072955 ],\n",
       "         [0.70460486],\n",
       "         [0.70460486],\n",
       "         [0.44179551],\n",
       "         [0.44179551],\n",
       "         [0.94228345],\n",
       "         [0.94228345],\n",
       "         [0.89516438],\n",
       "         [0.89516438],\n",
       "         [0.20630241],\n",
       "         [0.20630241],\n",
       "         [0.78535563],\n",
       "         [0.78535563],\n",
       "         [0.67113772],\n",
       "         [0.67113772],\n",
       "         [0.4246152 ],\n",
       "         [0.4246152 ],\n",
       "         [0.55338594],\n",
       "         [0.55338594],\n",
       "         [0.86693138],\n",
       "         [0.86693138],\n",
       "         [0.99334935],\n",
       "         [0.99334935],\n",
       "         [0.87653903],\n",
       "         [0.87653903],\n",
       "         [0.4286545 ],\n",
       "         [0.4286545 ],\n",
       "         [0.79704555],\n",
       "         [0.79704555],\n",
       "         [0.12322924],\n",
       "         [0.12322924],\n",
       "         [0.25219652],\n",
       "         [0.25219652],\n",
       "         [0.08067331],\n",
       "         [0.08067331],\n",
       "         [0.63157247],\n",
       "         [0.63157247],\n",
       "         [0.39884189],\n",
       "         [0.39884189],\n",
       "         [0.73471325],\n",
       "         [0.73471325],\n",
       "         [0.94375238],\n",
       "         [0.94375238],\n",
       "         [0.2298268 ],\n",
       "         [0.2298268 ],\n",
       "         [0.54292048],\n",
       "         [0.54292048]])}}"
      ]
     },
     "execution_count": 1,
     "metadata": {},
     "output_type": "execute_result"
    }
   ],
   "source": [
    "ds = load_by_id(run_id_a)\n",
    "ds.get_parameter_data('x1')"
   ]
  },
  {
   "cell_type": "code",
   "execution_count": null,
   "metadata": {},
   "outputs": [],
   "source": []
  }
 ],
 "metadata": {
  "kernelspec": {
   "display_name": "Python 3",
   "language": "python",
   "name": "python3"
  },
  "language_info": {
   "codemirror_mode": {
    "name": "ipython",
    "version": 3
   },
   "file_extension": ".py",
   "mimetype": "text/x-python",
   "name": "python",
   "nbconvert_exporter": "python",
   "pygments_lexer": "ipython3",
   "version": "3.7.7"
  },
  "nbsphinx": {
   "timeout": 600
  },
  "toc": {
   "base_numbering": 1,
   "nav_menu": {},
   "number_sections": true,
   "sideBar": true,
   "skip_h1_title": false,
   "title_cell": "Table of Contents",
   "title_sidebar": "Contents",
   "toc_cell": false,
   "toc_position": {},
   "toc_section_display": true,
   "toc_window_display": false
  },
  "varInspector": {
   "cols": {
    "lenName": 16,
    "lenType": 16,
    "lenVar": 40
   },
   "kernels_config": {
    "python": {
     "delete_cmd_postfix": "",
     "delete_cmd_prefix": "del ",
     "library": "var_list.py",
     "varRefreshCmd": "print(var_dic_list())"
    },
    "r": {
     "delete_cmd_postfix": ") ",
     "delete_cmd_prefix": "rm(",
     "library": "var_list.r",
     "varRefreshCmd": "cat(var_dic_list()) "
    }
   },
   "types_to_exclude": [
    "module",
    "function",
    "builtin_function_or_method",
    "instance",
    "_Feature"
   ],
   "window_display": false
  }
 },
 "nbformat": 4,
 "nbformat_minor": 2
}
