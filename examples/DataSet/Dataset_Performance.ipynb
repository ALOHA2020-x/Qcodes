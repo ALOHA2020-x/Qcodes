{
 "cells": [
  {
   "cell_type": "markdown",
   "metadata": {},
   "source": [
    "# DataSet Performance\n",
    "\n",
    "This notebook shows the trade-off between inserting data into a database row-by-row and as binary blobs. Inserting the data row-by-row means that we have direct access to all the data and may perform queries directly on the values of the data. On the other hand, as we shall see, this is much slower than inserting the data directly as binary blobs."
   ]
  },
  {
   "cell_type": "markdown",
   "metadata": {},
   "source": [
    "First, we choose a new location for the database to ensure that we don't add a bunch of benchmarking data to the default one."
   ]
  },
  {
   "cell_type": "code",
   "execution_count": 1,
   "metadata": {
    "execution": {
     "iopub.execute_input": "2021-02-01T07:54:41.150098Z",
     "iopub.status.busy": "2021-02-01T07:54:41.149569Z",
     "iopub.status.idle": "2021-02-01T07:54:42.232985Z",
     "shell.execute_reply": "2021-02-01T07:54:42.232351Z"
    }
   },
   "outputs": [
    {
     "name": "stdout",
     "output_type": "stream",
     "text": [
      "Logging hadn't been started.\n",
      "Activating auto-logging. Current session state plus future input saved.\n",
      "Filename       : /home/vsts/.qcodes/logs/command_history.log\n",
      "Mode           : append\n",
      "Output logging : True\n",
      "Raw input log  : False\n",
      "Timestamping   : True\n",
      "State          : active\n"
     ]
    },
    {
     "name": "stdout",
     "output_type": "stream",
     "text": [
      "Qcodes Logfile : /home/vsts/.qcodes/logs/210201-13633-qcodes.log\n"
     ]
    }
   ],
   "source": [
    "import os\n",
    "cwd = os.getcwd()\n",
    "import qcodes as qc\n",
    "qc.config[\"core\"][\"db_location\"] = os.path.join(cwd, 'testing.db')\n"
   ]
  },
  {
   "cell_type": "code",
   "execution_count": 2,
   "metadata": {
    "execution": {
     "iopub.execute_input": "2021-02-01T07:54:42.241166Z",
     "iopub.status.busy": "2021-02-01T07:54:42.240575Z",
     "iopub.status.idle": "2021-02-01T07:54:42.435979Z",
     "shell.execute_reply": "2021-02-01T07:54:42.435446Z"
    }
   },
   "outputs": [],
   "source": [
    "%matplotlib inline\n",
    "import time\n",
    "import matplotlib.pyplot as plt\n",
    "import numpy as np\n",
    "\n",
    "import qcodes as qc\n",
    "from qcodes.instrument.parameter import ManualParameter\n",
    "from qcodes.dataset.experiment_container import (Experiment,\n",
    "                                                 load_last_experiment,\n",
    "                                                 new_experiment)\n",
    "from qcodes.dataset.sqlite.database import initialise_database\n",
    "from qcodes import load_or_create_experiment\n",
    "from qcodes.dataset.measurements import Measurement"
   ]
  },
  {
   "cell_type": "code",
   "execution_count": 3,
   "metadata": {
    "execution": {
     "iopub.execute_input": "2021-02-01T07:54:42.439886Z",
     "iopub.status.busy": "2021-02-01T07:54:42.439212Z",
     "iopub.status.idle": "2021-02-01T07:54:42.578877Z",
     "shell.execute_reply": "2021-02-01T07:54:42.578330Z"
    }
   },
   "outputs": [
    {
     "name": "stdout",
     "output_type": "stream",
     "text": [
      "\r",
      "0it [00:00, ?it/s]"
     ]
    },
    {
     "name": "stdout",
     "output_type": "stream",
     "text": [
      "\r",
      "Upgrading database; v0 -> v1: : 0it [00:00, ?it/s]"
     ]
    },
    {
     "name": "stdout",
     "output_type": "stream",
     "text": [
      "\r",
      "Upgrading database; v0 -> v1: : 0it [00:00, ?it/s]"
     ]
    },
    {
     "name": "stdout",
     "output_type": "stream",
     "text": [
      "\n",
      "\r",
      "  0%|          | 0/1 [00:00<?, ?it/s]"
     ]
    },
    {
     "name": "stdout",
     "output_type": "stream",
     "text": [
      "\r",
      "Upgrading database; v1 -> v2:   0%|          | 0/1 [00:00<?, ?it/s]"
     ]
    },
    {
     "name": "stdout",
     "output_type": "stream",
     "text": [
      "\r",
      "Upgrading database; v1 -> v2: 100%|██████████| 1/1 [00:00<00:00, 392.95it/s]"
     ]
    },
    {
     "name": "stdout",
     "output_type": "stream",
     "text": [
      "\n",
      "\r",
      "0it [00:00, ?it/s]"
     ]
    },
    {
     "name": "stdout",
     "output_type": "stream",
     "text": [
      "\r",
      "Upgrading database; v2 -> v3: : 0it [00:00, ?it/s]"
     ]
    },
    {
     "name": "stdout",
     "output_type": "stream",
     "text": [
      "\r",
      "Upgrading database; v2 -> v3: : 0it [00:00, ?it/s]"
     ]
    },
    {
     "name": "stdout",
     "output_type": "stream",
     "text": [
      "\n",
      "\r",
      "0it [00:00, ?it/s]"
     ]
    },
    {
     "name": "stdout",
     "output_type": "stream",
     "text": [
      "\r",
      "Upgrading database; v3 -> v4: : 0it [00:00, ?it/s]"
     ]
    },
    {
     "name": "stdout",
     "output_type": "stream",
     "text": [
      "\r",
      "Upgrading database; v3 -> v4: : 0it [00:00, ?it/s]"
     ]
    },
    {
     "name": "stdout",
     "output_type": "stream",
     "text": [
      "\n",
      "\r",
      "  0%|          | 0/1 [00:00<?, ?it/s]"
     ]
    },
    {
     "name": "stdout",
     "output_type": "stream",
     "text": [
      "\r",
      "Upgrading database; v4 -> v5:   0%|          | 0/1 [00:00<?, ?it/s]"
     ]
    },
    {
     "name": "stdout",
     "output_type": "stream",
     "text": [
      "\r",
      "Upgrading database; v4 -> v5: 100%|██████████| 1/1 [00:00<00:00, 782.81it/s]"
     ]
    },
    {
     "name": "stdout",
     "output_type": "stream",
     "text": [
      "\n",
      "\r",
      "0it [00:00, ?it/s]"
     ]
    },
    {
     "name": "stdout",
     "output_type": "stream",
     "text": [
      "\r",
      "Upgrading database; v5 -> v6: : 0it [00:00, ?it/s]"
     ]
    },
    {
     "name": "stdout",
     "output_type": "stream",
     "text": [
      "\r",
      "Upgrading database; v5 -> v6: : 0it [00:00, ?it/s]"
     ]
    },
    {
     "name": "stdout",
     "output_type": "stream",
     "text": [
      "\n",
      "\r",
      "  0%|          | 0/1 [00:00<?, ?it/s]"
     ]
    },
    {
     "name": "stdout",
     "output_type": "stream",
     "text": [
      "\r",
      "Upgrading database; v6 -> v7:   0%|          | 0/1 [00:00<?, ?it/s]"
     ]
    },
    {
     "name": "stdout",
     "output_type": "stream",
     "text": [
      "\r",
      "Upgrading database; v6 -> v7: 100%|██████████| 1/1 [00:00<00:00, 296.44it/s]"
     ]
    },
    {
     "name": "stdout",
     "output_type": "stream",
     "text": [
      "\n",
      "\r",
      "  0%|          | 0/1 [00:00<?, ?it/s]"
     ]
    },
    {
     "name": "stdout",
     "output_type": "stream",
     "text": [
      "\r",
      "Upgrading database; v7 -> v8:   0%|          | 0/1 [00:00<?, ?it/s]"
     ]
    },
    {
     "name": "stdout",
     "output_type": "stream",
     "text": [
      "\r",
      "Upgrading database; v7 -> v8: 100%|██████████| 1/1 [00:00<00:00, 421.54it/s]"
     ]
    },
    {
     "name": "stdout",
     "output_type": "stream",
     "text": [
      "\n",
      "\r",
      "  0%|          | 0/1 [00:00<?, ?it/s]"
     ]
    },
    {
     "name": "stdout",
     "output_type": "stream",
     "text": [
      "\r",
      "Upgrading database; v8 -> v9:   0%|          | 0/1 [00:00<?, ?it/s]"
     ]
    },
    {
     "name": "stdout",
     "output_type": "stream",
     "text": [
      "\r",
      "Upgrading database; v8 -> v9: 100%|██████████| 1/1 [00:00<00:00, 558.50it/s]"
     ]
    },
    {
     "name": "stdout",
     "output_type": "stream",
     "text": [
      "\n"
     ]
    }
   ],
   "source": [
    "initialise_database()\n",
    "exp = load_or_create_experiment(experiment_name='tutorial_exp', sample_name=\"no sample\")"
   ]
  },
  {
   "cell_type": "markdown",
   "metadata": {},
   "source": [
    "Here, we define a simple function to benchmark the time it takes to insert n points with either numeric or array data type.\n",
    "We will compare both the time used to call ``add_result`` and the time used for the full measurement."
   ]
  },
  {
   "cell_type": "code",
   "execution_count": 4,
   "metadata": {
    "execution": {
     "iopub.execute_input": "2021-02-01T07:54:42.588060Z",
     "iopub.status.busy": "2021-02-01T07:54:42.587462Z",
     "iopub.status.idle": "2021-02-01T07:54:42.590838Z",
     "shell.execute_reply": "2021-02-01T07:54:42.591280Z"
    }
   },
   "outputs": [],
   "source": [
    "def insert_data(paramtype, npoints, nreps=1):\n",
    "\n",
    "    meas = Measurement(exp=exp)\n",
    "\n",
    "    x1 = ManualParameter('x1')\n",
    "    x2 = ManualParameter('x2')\n",
    "    x3 = ManualParameter('x3')\n",
    "    y1 = ManualParameter('y1')\n",
    "    y2 = ManualParameter('y2')\n",
    "\n",
    "    meas.register_parameter(x1, paramtype=paramtype)\n",
    "    meas.register_parameter(x2, paramtype=paramtype)\n",
    "    meas.register_parameter(x3, paramtype=paramtype)\n",
    "    meas.register_parameter(y1, setpoints=[x1, x2, x3],\n",
    "                            paramtype=paramtype)\n",
    "    meas.register_parameter(y2, setpoints=[x1, x2, x3],\n",
    "                            paramtype=paramtype)\n",
    "    start = time.perf_counter()\n",
    "    with meas.run() as datasaver:\n",
    "        start_adding = time.perf_counter()\n",
    "        for i in range(nreps):\n",
    "            datasaver.add_result((x1, np.random.rand(npoints)),\n",
    "                                 (x2, np.random.rand(npoints)),\n",
    "                                 (x3, np.random.rand(npoints)),\n",
    "                                 (y1, np.random.rand(npoints)),\n",
    "                                 (y2, np.random.rand(npoints)))\n",
    "        stop_adding = time.perf_counter()\n",
    "        run_id = datasaver.run_id\n",
    "    stop = time.perf_counter()\n",
    "    tot_time = stop - start\n",
    "    add_time = stop_adding - start_adding\n",
    "    return tot_time, add_time, run_id"
   ]
  },
  {
   "cell_type": "markdown",
   "metadata": {},
   "source": [
    "## Comparison between numeric/array data and binary blob"
   ]
  },
  {
   "cell_type": "markdown",
   "metadata": {},
   "source": [
    "### Case1: Short experiment time"
   ]
  },
  {
   "cell_type": "code",
   "execution_count": 5,
   "metadata": {
    "execution": {
     "iopub.execute_input": "2021-02-01T07:54:42.598910Z",
     "iopub.status.busy": "2021-02-01T07:54:42.597916Z",
     "iopub.status.idle": "2021-02-01T07:54:43.512938Z",
     "shell.execute_reply": "2021-02-01T07:54:43.513380Z"
    }
   },
   "outputs": [
    {
     "name": "stdout",
     "output_type": "stream",
     "text": [
      "Starting experimental run with id: 1. \n",
      "Starting experimental run with id: 2. \n",
      "Starting experimental run with id: 3. \n",
      "Starting experimental run with id: 4. \n"
     ]
    },
    {
     "name": "stdout",
     "output_type": "stream",
     "text": [
      "Starting experimental run with id: 5. \n"
     ]
    },
    {
     "name": "stdout",
     "output_type": "stream",
     "text": [
      "Starting experimental run with id: 6. "
     ]
    },
    {
     "name": "stdout",
     "output_type": "stream",
     "text": [
      "\n"
     ]
    },
    {
     "name": "stdout",
     "output_type": "stream",
     "text": [
      "Starting experimental run with id: 7. \n"
     ]
    },
    {
     "name": "stdout",
     "output_type": "stream",
     "text": [
      "Starting experimental run with id: 8. \n",
      "Starting experimental run with id: 9. \n"
     ]
    },
    {
     "name": "stdout",
     "output_type": "stream",
     "text": [
      "Starting experimental run with id: 10. \n",
      "Starting experimental run with id: 11. \n"
     ]
    },
    {
     "name": "stdout",
     "output_type": "stream",
     "text": [
      "Starting experimental run with id: 12. \n"
     ]
    },
    {
     "name": "stdout",
     "output_type": "stream",
     "text": [
      "Starting experimental run with id: 13. \n"
     ]
    },
    {
     "name": "stdout",
     "output_type": "stream",
     "text": [
      "Starting experimental run with id: 14. \n"
     ]
    }
   ],
   "source": [
    "sizes = [1,500,1000,2000,3000,4000,5000]\n",
    "t_numeric = []\n",
    "t_numeric_add = []\n",
    "t_array = []\n",
    "t_array_add = []\n",
    "for size in sizes:\n",
    "    tn, tna, run_id_n =  insert_data('numeric', size)\n",
    "    t_numeric.append(tn)\n",
    "    t_numeric_add.append(tna)\n",
    "\n",
    "    ta, taa, run_id_a =  insert_data('array', size)\n",
    "    t_array.append(ta)\n",
    "    t_array_add.append(taa)"
   ]
  },
  {
   "cell_type": "code",
   "execution_count": 6,
   "metadata": {
    "execution": {
     "iopub.execute_input": "2021-02-01T07:54:43.541008Z",
     "iopub.status.busy": "2021-02-01T07:54:43.530769Z",
     "iopub.status.idle": "2021-02-01T07:54:43.721408Z",
     "shell.execute_reply": "2021-02-01T07:54:43.720525Z"
    }
   },
   "outputs": [
    {
     "data": {
      "image/png": "[encoded data removed]",
      "text/plain": [
       "<Figure size 432x288 with 1 Axes>"
      ]
     },
     "metadata": {
      "needs_background": "light"
     },
     "output_type": "display_data"
    }
   ],
   "source": [
    "fig, ax = plt.subplots(1,1)\n",
    "ax.plot(sizes, t_numeric, 'o-', label='Inserting row-by-row')\n",
    "ax.plot(sizes, t_numeric_add, 'o-', label='Inserting row-by-row: add_result only')\n",
    "ax.plot(sizes, t_array, 'd-', label='Inserting as binary blob')\n",
    "ax.plot(sizes, t_array_add, 'd-', label='Inserting as binary blob: add_result only')\n",
    "ax.legend()\n",
    "ax.set_xlabel('Array length')\n",
    "ax.set_ylabel('Time (s)')\n",
    "fig.tight_layout()"
   ]
  },
  {
   "cell_type": "markdown",
   "metadata": {},
   "source": [
    "As shown in the latter figure, the time to setup and and close the experiment is approximately 0.4 sec. In case of small array sizes, the difference between inserting values of data as arrays and inserting them row-by-row is relatively unimportant. At larger array sizes, i.e. above 10000 points, the cost of writing data as individual datapoints starts to become important.\n"
   ]
  },
  {
   "cell_type": "markdown",
   "metadata": {},
   "source": [
    "### Case2: Long experiment time "
   ]
  },
  {
   "cell_type": "code",
   "execution_count": 7,
   "metadata": {
    "execution": {
     "iopub.execute_input": "2021-02-01T07:54:43.729964Z",
     "iopub.status.busy": "2021-02-01T07:54:43.728863Z",
     "iopub.status.idle": "2021-02-01T07:55:45.974031Z",
     "shell.execute_reply": "2021-02-01T07:55:45.973512Z"
    }
   },
   "outputs": [
    {
     "name": "stdout",
     "output_type": "stream",
     "text": [
      "Starting experimental run with id: 15. \n",
      "Starting experimental run with id: 16. \n",
      "Starting experimental run with id: 17. \n"
     ]
    },
    {
     "name": "stdout",
     "output_type": "stream",
     "text": [
      "Starting experimental run with id: 18. \n",
      "Starting experimental run with id: 19. \n"
     ]
    },
    {
     "name": "stdout",
     "output_type": "stream",
     "text": [
      "Starting experimental run with id: 20. \n"
     ]
    },
    {
     "name": "stdout",
     "output_type": "stream",
     "text": [
      "Starting experimental run with id: 21. \n"
     ]
    },
    {
     "name": "stdout",
     "output_type": "stream",
     "text": [
      "Starting experimental run with id: 22. \n"
     ]
    },
    {
     "name": "stdout",
     "output_type": "stream",
     "text": [
      "Starting experimental run with id: 23. \n"
     ]
    },
    {
     "name": "stdout",
     "output_type": "stream",
     "text": [
      "Starting experimental run with id: 24. \n"
     ]
    },
    {
     "name": "stdout",
     "output_type": "stream",
     "text": [
      "Starting experimental run with id: 25. \n"
     ]
    },
    {
     "name": "stdout",
     "output_type": "stream",
     "text": [
      "Starting experimental run with id: 26. \n"
     ]
    },
    {
     "name": "stdout",
     "output_type": "stream",
     "text": [
      "Starting experimental run with id: 27. \n"
     ]
    },
    {
     "name": "stdout",
     "output_type": "stream",
     "text": [
      "Starting experimental run with id: 28. \n"
     ]
    }
   ],
   "source": [
    "sizes = [1,500,1000,2000,3000,4000,5000]\n",
    "nreps = 100\n",
    "t_numeric = []\n",
    "t_numeric_add = []\n",
    "t_numeric_run_ids = []\n",
    "t_array = []\n",
    "t_array_add = []\n",
    "t_array_run_ids = []\n",
    "for size in sizes:\n",
    "    tn, tna, run_id_n =  insert_data('numeric', size, nreps=nreps)\n",
    "    t_numeric.append(tn)\n",
    "    t_numeric_add.append(tna)\n",
    "    t_numeric_run_ids.append(run_id_n)\n",
    "\n",
    "    ta, taa, run_id_a =  insert_data('array', size, nreps=nreps)\n",
    "    t_array.append(ta)\n",
    "    t_array_add.append(taa)\n",
    "    t_array_run_ids.append(run_id_a)"
   ]
  },
  {
   "cell_type": "code",
   "execution_count": 8,
   "metadata": {
    "execution": {
     "iopub.execute_input": "2021-02-01T07:55:46.017266Z",
     "iopub.status.busy": "2021-02-01T07:55:46.015977Z",
     "iopub.status.idle": "2021-02-01T07:55:46.193520Z",
     "shell.execute_reply": "2021-02-01T07:55:46.193012Z"
    },
    "scrolled": true
   },
   "outputs": [
    {
     "data": {
      "image/png": "[encoded data removed]",
      "text/plain": [
       "<Figure size 432x288 with 1 Axes>"
      ]
     },
     "metadata": {
      "needs_background": "light"
     },
     "output_type": "display_data"
    }
   ],
   "source": [
    "fig, ax = plt.subplots(1,1)\n",
    "ax.plot(sizes, t_numeric, 'o-', label='Inserting row-by-row')\n",
    "ax.plot(sizes, t_numeric_add, 'o-', label='Inserting row-by-row: add_result only')\n",
    "ax.plot(sizes, t_array, 'd-', label='Inserting as binary blob')\n",
    "ax.plot(sizes, t_array_add, 'd-', label='Inserting as binary blob: add_result only')\n",
    "ax.legend()\n",
    "ax.set_xlabel('Array length')\n",
    "ax.set_ylabel('Time (s)')\n",
    "fig.tight_layout()"
   ]
  },
  {
   "cell_type": "markdown",
   "metadata": {},
   "source": [
    "However, as we increase the length of the experiment, as seen here by repeating the insertion 100 times, we see a big difference between inserting values of the data row-by-row and inserting it as a binary blob."
   ]
  },
  {
   "cell_type": "markdown",
   "metadata": {},
   "source": [
    "## Loading the data "
   ]
  },
  {
   "cell_type": "code",
   "execution_count": 9,
   "metadata": {
    "execution": {
     "iopub.execute_input": "2021-02-01T07:55:46.198039Z",
     "iopub.status.busy": "2021-02-01T07:55:46.197060Z",
     "iopub.status.idle": "2021-02-01T07:55:46.200960Z",
     "shell.execute_reply": "2021-02-01T07:55:46.201387Z"
    }
   },
   "outputs": [],
   "source": [
    "from qcodes.dataset.data_set import load_by_id\n",
    "from qcodes.dataset.data_export import get_data_by_id"
   ]
  },
  {
   "cell_type": "markdown",
   "metadata": {},
   "source": [
    "As usual you can load the data by using the ``load_by_id`` function but you will notice that the different storage methods\n",
    "are reflected in shape of the data as it is retrieved. "
   ]
  },
  {
   "cell_type": "code",
   "execution_count": 10,
   "metadata": {
    "execution": {
     "iopub.execute_input": "2021-02-01T07:55:46.205576Z",
     "iopub.status.busy": "2021-02-01T07:55:46.205034Z",
     "iopub.status.idle": "2021-02-01T07:55:46.209731Z",
     "shell.execute_reply": "2021-02-01T07:55:46.209257Z"
    }
   },
   "outputs": [],
   "source": [
    "run_id_n = t_numeric_run_ids[0]\n",
    "run_id_a = t_array_run_ids[0]"
   ]
  },
  {
   "cell_type": "code",
   "execution_count": 11,
   "metadata": {
    "execution": {
     "iopub.execute_input": "2021-02-01T07:55:46.213187Z",
     "iopub.status.busy": "2021-02-01T07:55:46.212638Z",
     "iopub.status.idle": "2021-02-01T07:55:46.223835Z",
     "shell.execute_reply": "2021-02-01T07:55:46.224497Z"
    },
    "scrolled": true
   },
   "outputs": [
    {
     "data": {
      "text/plain": [
       "{'x1': {'x1': array([0.91140411, 0.91140411, 0.19304388, 0.19304388, 0.43304052,\n",
       "         0.43304052, 0.57043471, 0.57043471, 0.47529402, 0.47529402,\n",
       "         0.23429318, 0.23429318, 0.32299078, 0.32299078, 0.52168949,\n",
       "         0.52168949, 0.32338277, 0.32338277, 0.7383289 , 0.7383289 ,\n",
       "         0.31989306, 0.31989306, 0.71908145, 0.71908145, 0.16493257,\n",
       "         0.16493257, 0.26342668, 0.26342668, 0.66696839, 0.66696839,\n",
       "         0.58736163, 0.58736163, 0.54697552, 0.54697552, 0.05755083,\n",
       "         0.05755083, 0.90428059, 0.90428059, 0.78566462, 0.78566462,\n",
       "         0.49197315, 0.49197315, 0.03125496, 0.03125496, 0.17183532,\n",
       "         0.17183532, 0.54188277, 0.54188277, 0.93378463, 0.93378463,\n",
       "         0.97857047, 0.97857047, 0.3689851 , 0.3689851 , 0.06179675,\n",
       "         0.06179675, 0.42599996, 0.42599996, 0.90979014, 0.90979014,\n",
       "         0.60897995, 0.60897995, 0.60238814, 0.60238814, 0.64755868,\n",
       "         0.64755868, 0.88875549, 0.88875549, 0.32003288, 0.32003288,\n",
       "         0.52350032, 0.52350032, 0.94406773, 0.94406773, 0.06704803,\n",
       "         0.06704803, 0.19117848, 0.19117848, 0.43680103, 0.43680103,\n",
       "         0.40668694, 0.40668694, 0.43639006, 0.43639006, 0.07950873,\n",
       "         0.07950873, 0.20616655, 0.20616655, 0.87732496, 0.87732496,\n",
       "         0.51064745, 0.51064745, 0.10470688, 0.10470688, 0.96219911,\n",
       "         0.96219911, 0.89208084, 0.89208084, 0.83355079, 0.83355079,\n",
       "         0.23819162, 0.23819162, 0.11217595, 0.11217595, 0.13440668,\n",
       "         0.13440668, 0.53196531, 0.53196531, 0.66027491, 0.66027491,\n",
       "         0.27529458, 0.27529458, 0.30387143, 0.30387143, 0.95361372,\n",
       "         0.95361372, 0.83593746, 0.83593746, 0.50840799, 0.50840799,\n",
       "         0.04268646, 0.04268646, 0.15316872, 0.15316872, 0.30828515,\n",
       "         0.30828515, 0.23875314, 0.23875314, 0.57590768, 0.57590768,\n",
       "         0.42641749, 0.42641749, 0.59918776, 0.59918776, 0.70212097,\n",
       "         0.70212097, 0.24107816, 0.24107816, 0.13265284, 0.13265284,\n",
       "         0.59386871, 0.59386871, 0.41837836, 0.41837836, 0.95979154,\n",
       "         0.95979154, 0.83697482, 0.83697482, 0.8653396 , 0.8653396 ,\n",
       "         0.85110799, 0.85110799, 0.2914041 , 0.2914041 , 0.51127109,\n",
       "         0.51127109, 0.02102389, 0.02102389, 0.8875751 , 0.8875751 ,\n",
       "         0.41330491, 0.41330491, 0.22052473, 0.22052473, 0.56940228,\n",
       "         0.56940228, 0.13429049, 0.13429049, 0.14426371, 0.14426371,\n",
       "         0.75036394, 0.75036394, 0.72326405, 0.72326405, 0.61077469,\n",
       "         0.61077469, 0.0232989 , 0.0232989 , 0.14664809, 0.14664809,\n",
       "         0.33800924, 0.33800924, 0.74975448, 0.74975448, 0.92034524,\n",
       "         0.92034524, 0.03266206, 0.03266206, 0.24893403, 0.24893403,\n",
       "         0.5821231 , 0.5821231 , 0.0927948 , 0.0927948 , 0.63915739,\n",
       "         0.63915739, 0.68683195, 0.68683195, 0.75696639, 0.75696639])}}"
      ]
     },
     "execution_count": 1,
     "metadata": {},
     "output_type": "execute_result"
    }
   ],
   "source": [
    "ds = load_by_id(run_id_n)\n",
    "ds.get_parameter_data('x1')"
   ]
  },
  {
   "cell_type": "markdown",
   "metadata": {},
   "source": [
    "And a dataset stored as binary arrays"
   ]
  },
  {
   "cell_type": "code",
   "execution_count": 12,
   "metadata": {
    "execution": {
     "iopub.execute_input": "2021-02-01T07:55:46.228227Z",
     "iopub.status.busy": "2021-02-01T07:55:46.227693Z",
     "iopub.status.idle": "2021-02-01T07:55:46.285446Z",
     "shell.execute_reply": "2021-02-01T07:55:46.285900Z"
    },
    "scrolled": true
   },
   "outputs": [
    {
     "data": {
      "text/plain": [
       "{'x1': {'x1': array([[0.17889243],\n",
       "         [0.17889243],\n",
       "         [0.29092817],\n",
       "         [0.29092817],\n",
       "         [0.8216462 ],\n",
       "         [0.8216462 ],\n",
       "         [0.81798563],\n",
       "         [0.81798563],\n",
       "         [0.40819111],\n",
       "         [0.40819111],\n",
       "         [0.35902819],\n",
       "         [0.35902819],\n",
       "         [0.66864077],\n",
       "         [0.66864077],\n",
       "         [0.48148295],\n",
       "         [0.48148295],\n",
       "         [0.49593854],\n",
       "         [0.49593854],\n",
       "         [0.39613459],\n",
       "         [0.39613459],\n",
       "         [0.38196035],\n",
       "         [0.38196035],\n",
       "         [0.52154499],\n",
       "         [0.52154499],\n",
       "         [0.08473745],\n",
       "         [0.08473745],\n",
       "         [0.31611855],\n",
       "         [0.31611855],\n",
       "         [0.75914789],\n",
       "         [0.75914789],\n",
       "         [0.90217532],\n",
       "         [0.90217532],\n",
       "         [0.04825084],\n",
       "         [0.04825084],\n",
       "         [0.49747203],\n",
       "         [0.49747203],\n",
       "         [0.99649346],\n",
       "         [0.99649346],\n",
       "         [0.86457642],\n",
       "         [0.86457642],\n",
       "         [0.35270328],\n",
       "         [0.35270328],\n",
       "         [0.04983254],\n",
       "         [0.04983254],\n",
       "         [0.64033897],\n",
       "         [0.64033897],\n",
       "         [0.81542637],\n",
       "         [0.81542637],\n",
       "         [0.56622473],\n",
       "         [0.56622473],\n",
       "         [0.78941432],\n",
       "         [0.78941432],\n",
       "         [0.57603115],\n",
       "         [0.57603115],\n",
       "         [0.4183559 ],\n",
       "         [0.4183559 ],\n",
       "         [0.31142291],\n",
       "         [0.31142291],\n",
       "         [0.07308547],\n",
       "         [0.07308547],\n",
       "         [0.69197146],\n",
       "         [0.69197146],\n",
       "         [0.54525913],\n",
       "         [0.54525913],\n",
       "         [0.64316763],\n",
       "         [0.64316763],\n",
       "         [0.68583808],\n",
       "         [0.68583808],\n",
       "         [0.36867548],\n",
       "         [0.36867548],\n",
       "         [0.10136998],\n",
       "         [0.10136998],\n",
       "         [0.73574192],\n",
       "         [0.73574192],\n",
       "         [0.80875819],\n",
       "         [0.80875819],\n",
       "         [0.68573013],\n",
       "         [0.68573013],\n",
       "         [0.24363172],\n",
       "         [0.24363172],\n",
       "         [0.88268575],\n",
       "         [0.88268575],\n",
       "         [0.00789911],\n",
       "         [0.00789911],\n",
       "         [0.04458101],\n",
       "         [0.04458101],\n",
       "         [0.60693353],\n",
       "         [0.60693353],\n",
       "         [0.03649181],\n",
       "         [0.03649181],\n",
       "         [0.7707874 ],\n",
       "         [0.7707874 ],\n",
       "         [0.56542428],\n",
       "         [0.56542428],\n",
       "         [0.32375614],\n",
       "         [0.32375614],\n",
       "         [0.05445422],\n",
       "         [0.05445422],\n",
       "         [0.85092017],\n",
       "         [0.85092017],\n",
       "         [0.37447975],\n",
       "         [0.37447975],\n",
       "         [0.03680114],\n",
       "         [0.03680114],\n",
       "         [0.97937699],\n",
       "         [0.97937699],\n",
       "         [0.32362368],\n",
       "         [0.32362368],\n",
       "         [0.36943376],\n",
       "         [0.36943376],\n",
       "         [0.65913874],\n",
       "         [0.65913874],\n",
       "         [0.41346312],\n",
       "         [0.41346312],\n",
       "         [0.2442982 ],\n",
       "         [0.2442982 ],\n",
       "         [0.67868641],\n",
       "         [0.67868641],\n",
       "         [0.03492572],\n",
       "         [0.03492572],\n",
       "         [0.17222774],\n",
       "         [0.17222774],\n",
       "         [0.38208931],\n",
       "         [0.38208931],\n",
       "         [0.19386855],\n",
       "         [0.19386855],\n",
       "         [0.25724947],\n",
       "         [0.25724947],\n",
       "         [0.22231016],\n",
       "         [0.22231016],\n",
       "         [0.01331168],\n",
       "         [0.01331168],\n",
       "         [0.62647595],\n",
       "         [0.62647595],\n",
       "         [0.49873228],\n",
       "         [0.49873228],\n",
       "         [0.05133278],\n",
       "         [0.05133278],\n",
       "         [0.31451065],\n",
       "         [0.31451065],\n",
       "         [0.38398446],\n",
       "         [0.38398446],\n",
       "         [0.72927735],\n",
       "         [0.72927735],\n",
       "         [0.34299629],\n",
       "         [0.34299629],\n",
       "         [0.46314485],\n",
       "         [0.46314485],\n",
       "         [0.46052432],\n",
       "         [0.46052432],\n",
       "         [0.0533073 ],\n",
       "         [0.0533073 ],\n",
       "         [0.51628405],\n",
       "         [0.51628405],\n",
       "         [0.72262636],\n",
       "         [0.72262636],\n",
       "         [0.83956391],\n",
       "         [0.83956391],\n",
       "         [0.02032998],\n",
       "         [0.02032998],\n",
       "         [0.86078579],\n",
       "         [0.86078579],\n",
       "         [0.23873895],\n",
       "         [0.23873895],\n",
       "         [0.47524351],\n",
       "         [0.47524351],\n",
       "         [0.0564713 ],\n",
       "         [0.0564713 ],\n",
       "         [0.89384353],\n",
       "         [0.89384353],\n",
       "         [0.39887621],\n",
       "         [0.39887621],\n",
       "         [0.99317029],\n",
       "         [0.99317029],\n",
       "         [0.5126331 ],\n",
       "         [0.5126331 ],\n",
       "         [0.03316315],\n",
       "         [0.03316315],\n",
       "         [0.16461281],\n",
       "         [0.16461281],\n",
       "         [0.66798276],\n",
       "         [0.66798276],\n",
       "         [0.15178719],\n",
       "         [0.15178719],\n",
       "         [0.0452166 ],\n",
       "         [0.0452166 ],\n",
       "         [0.71847061],\n",
       "         [0.71847061],\n",
       "         [0.59635287],\n",
       "         [0.59635287],\n",
       "         [0.11442541],\n",
       "         [0.11442541],\n",
       "         [0.21500078],\n",
       "         [0.21500078],\n",
       "         [0.85457131],\n",
       "         [0.85457131],\n",
       "         [0.23224737],\n",
       "         [0.23224737],\n",
       "         [0.63853204],\n",
       "         [0.63853204]])}}"
      ]
     },
     "execution_count": 1,
     "metadata": {},
     "output_type": "execute_result"
    }
   ],
   "source": [
    "ds = load_by_id(run_id_a)\n",
    "ds.get_parameter_data('x1')"
   ]
  },
  {
   "cell_type": "code",
   "execution_count": null,
   "metadata": {},
   "outputs": [],
   "source": []
  }
 ],
 "metadata": {
  "kernelspec": {
   "display_name": "Python 3",
   "language": "python",
   "name": "python3"
  },
  "language_info": {
   "codemirror_mode": {
    "name": "ipython",
    "version": 3
   },
   "file_extension": ".py",
   "mimetype": "text/x-python",
   "name": "python",
   "nbconvert_exporter": "python",
   "pygments_lexer": "ipython3",
   "version": "3.7.9"
  },
  "nbsphinx": {
   "timeout": 600
  },
  "toc": {
   "base_numbering": 1,
   "nav_menu": {},
   "number_sections": true,
   "sideBar": true,
   "skip_h1_title": false,
   "title_cell": "Table of Contents",
   "title_sidebar": "Contents",
   "toc_cell": false,
   "toc_position": {},
   "toc_section_display": true,
   "toc_window_display": false
  },
  "varInspector": {
   "cols": {
    "lenName": 16,
    "lenType": 16,
    "lenVar": 40
   },
   "kernels_config": {
    "python": {
     "delete_cmd_postfix": "",
     "delete_cmd_prefix": "del ",
     "library": "var_list.py",
     "varRefreshCmd": "print(var_dic_list())"
    },
    "r": {
     "delete_cmd_postfix": ") ",
     "delete_cmd_prefix": "rm(",
     "library": "var_list.r",
     "varRefreshCmd": "cat(var_dic_list()) "
    }
   },
   "types_to_exclude": [
    "module",
    "function",
    "builtin_function_or_method",
    "instance",
    "_Feature"
   ],
   "window_display": false
  }
 },
 "nbformat": 4,
 "nbformat_minor": 2
}
