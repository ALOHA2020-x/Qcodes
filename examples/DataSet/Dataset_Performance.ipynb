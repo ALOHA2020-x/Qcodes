{
 "cells": [
  {
   "cell_type": "markdown",
   "metadata": {},
   "source": [
    "# DataSet Performance\n",
    "\n",
    "This notebook shows the trade-off between inserting data into a database row-by-row and as binary blobs. Inserting the data row-by-row means that we have direct access to all the data and may perform queries directly on the values of the data. On the other hand, as we shall see, this is much slower than inserting the data directly as binary blobs."
   ]
  },
  {
   "cell_type": "markdown",
   "metadata": {},
   "source": [
    "First, we choose a new location for the database to ensure that we don't add a bunch of benchmarking data to the default one."
   ]
  },
  {
   "cell_type": "code",
   "execution_count": 1,
   "metadata": {
    "execution": {
     "iopub.execute_input": "2020-12-14T13:41:15.598833Z",
     "iopub.status.busy": "2020-12-14T13:41:15.598207Z",
     "iopub.status.idle": "2020-12-14T13:41:16.754614Z",
     "shell.execute_reply": "2020-12-14T13:41:16.755136Z"
    }
   },
   "outputs": [
    {
     "name": "stdout",
     "output_type": "stream",
     "text": [
      "Logging hadn't been started.\n",
      "Activating auto-logging. Current session state plus future input saved.\n",
      "Filename       : /home/vsts/.qcodes/logs/command_history.log\n",
      "Mode           : append\n",
      "Output logging : True\n",
      "Raw input log  : False\n",
      "Timestamping   : True\n",
      "State          : active\n"
     ]
    },
    {
     "name": "stdout",
     "output_type": "stream",
     "text": [
      "Qcodes Logfile : /home/vsts/.qcodes/logs/201214-14309-qcodes.log\n"
     ]
    }
   ],
   "source": [
    "import os\n",
    "cwd = os.getcwd()\n",
    "import qcodes as qc\n",
    "qc.config[\"core\"][\"db_location\"] = os.path.join(cwd, 'testing.db')\n"
   ]
  },
  {
   "cell_type": "code",
   "execution_count": 2,
   "metadata": {
    "execution": {
     "iopub.execute_input": "2020-12-14T13:41:16.762749Z",
     "iopub.status.busy": "2020-12-14T13:41:16.762193Z",
     "iopub.status.idle": "2020-12-14T13:41:16.956058Z",
     "shell.execute_reply": "2020-12-14T13:41:16.955226Z"
    }
   },
   "outputs": [],
   "source": [
    "%matplotlib inline\n",
    "import time\n",
    "import matplotlib.pyplot as plt\n",
    "import numpy as np\n",
    "\n",
    "import qcodes as qc\n",
    "from qcodes.instrument.parameter import ManualParameter\n",
    "from qcodes.dataset.experiment_container import (Experiment,\n",
    "                                                 load_last_experiment,\n",
    "                                                 new_experiment)\n",
    "from qcodes.dataset.sqlite.database import initialise_database\n",
    "from qcodes import load_or_create_experiment\n",
    "from qcodes.dataset.measurements import Measurement"
   ]
  },
  {
   "cell_type": "code",
   "execution_count": 3,
   "metadata": {
    "execution": {
     "iopub.execute_input": "2020-12-14T13:41:16.960683Z",
     "iopub.status.busy": "2020-12-14T13:41:16.959844Z",
     "iopub.status.idle": "2020-12-14T13:41:17.088081Z",
     "shell.execute_reply": "2020-12-14T13:41:17.087484Z"
    }
   },
   "outputs": [
    {
     "name": "stdout",
     "output_type": "stream",
     "text": [
      "\r",
      "0it [00:00, ?it/s]"
     ]
    },
    {
     "name": "stdout",
     "output_type": "stream",
     "text": [
      "\r",
      "Upgrading database; v0 -> v1: : 0it [00:00, ?it/s]"
     ]
    },
    {
     "name": "stdout",
     "output_type": "stream",
     "text": [
      "\r",
      "Upgrading database; v0 -> v1: : 0it [00:00, ?it/s]"
     ]
    },
    {
     "name": "stdout",
     "output_type": "stream",
     "text": [
      "\n",
      "\r",
      "  0%|          | 0/1 [00:00<?, ?it/s]"
     ]
    },
    {
     "name": "stdout",
     "output_type": "stream",
     "text": [
      "\r",
      "Upgrading database; v1 -> v2:   0%|          | 0/1 [00:00<?, ?it/s]"
     ]
    },
    {
     "name": "stdout",
     "output_type": "stream",
     "text": [
      "\r",
      "Upgrading database; v1 -> v2: 100%|██████████| 1/1 [00:00<00:00, 624.71it/s]"
     ]
    },
    {
     "name": "stdout",
     "output_type": "stream",
     "text": [
      "\n",
      "\r",
      "0it [00:00, ?it/s]"
     ]
    },
    {
     "name": "stdout",
     "output_type": "stream",
     "text": [
      "\r",
      "Upgrading database; v2 -> v3: : 0it [00:00, ?it/s]"
     ]
    },
    {
     "name": "stdout",
     "output_type": "stream",
     "text": [
      "\r",
      "Upgrading database; v2 -> v3: : 0it [00:00, ?it/s]"
     ]
    },
    {
     "name": "stdout",
     "output_type": "stream",
     "text": [
      "\n",
      "\r",
      "0it [00:00, ?it/s]"
     ]
    },
    {
     "name": "stdout",
     "output_type": "stream",
     "text": [
      "\r",
      "Upgrading database; v3 -> v4: : 0it [00:00, ?it/s]"
     ]
    },
    {
     "name": "stdout",
     "output_type": "stream",
     "text": [
      "\r",
      "Upgrading database; v3 -> v4: : 0it [00:00, ?it/s]"
     ]
    },
    {
     "name": "stdout",
     "output_type": "stream",
     "text": [
      "\n",
      "\r",
      "  0%|          | 0/1 [00:00<?, ?it/s]"
     ]
    },
    {
     "name": "stdout",
     "output_type": "stream",
     "text": [
      "\r",
      "Upgrading database; v4 -> v5:   0%|          | 0/1 [00:00<?, ?it/s]"
     ]
    },
    {
     "name": "stdout",
     "output_type": "stream",
     "text": [
      "\r",
      "Upgrading database; v4 -> v5: 100%|██████████| 1/1 [00:00<00:00, 543.02it/s]"
     ]
    },
    {
     "name": "stdout",
     "output_type": "stream",
     "text": [
      "\n",
      "\r",
      "0it [00:00, ?it/s]"
     ]
    },
    {
     "name": "stdout",
     "output_type": "stream",
     "text": [
      "\r",
      "Upgrading database; v5 -> v6: : 0it [00:00, ?it/s]"
     ]
    },
    {
     "name": "stdout",
     "output_type": "stream",
     "text": [
      "\r",
      "Upgrading database; v5 -> v6: : 0it [00:00, ?it/s]"
     ]
    },
    {
     "name": "stdout",
     "output_type": "stream",
     "text": [
      "\n",
      "\r",
      "  0%|          | 0/1 [00:00<?, ?it/s]"
     ]
    },
    {
     "name": "stdout",
     "output_type": "stream",
     "text": [
      "\r",
      "Upgrading database; v6 -> v7:   0%|          | 0/1 [00:00<?, ?it/s]"
     ]
    },
    {
     "name": "stdout",
     "output_type": "stream",
     "text": [
      "\r",
      "Upgrading database; v6 -> v7: 100%|██████████| 1/1 [00:00<00:00, 272.09it/s]"
     ]
    },
    {
     "name": "stdout",
     "output_type": "stream",
     "text": [
      "\n",
      "\r",
      "  0%|          | 0/1 [00:00<?, ?it/s]"
     ]
    },
    {
     "name": "stdout",
     "output_type": "stream",
     "text": [
      "\r",
      "Upgrading database; v7 -> v8:   0%|          | 0/1 [00:00<?, ?it/s]"
     ]
    },
    {
     "name": "stdout",
     "output_type": "stream",
     "text": [
      "\r",
      "Upgrading database; v7 -> v8: 100%|██████████| 1/1 [00:00<00:00, 987.13it/s]"
     ]
    },
    {
     "name": "stdout",
     "output_type": "stream",
     "text": [
      "\n",
      "\r",
      "  0%|          | 0/1 [00:00<?, ?it/s]"
     ]
    },
    {
     "name": "stdout",
     "output_type": "stream",
     "text": [
      "\r",
      "Upgrading database; v8 -> v9:   0%|          | 0/1 [00:00<?, ?it/s]"
     ]
    },
    {
     "name": "stdout",
     "output_type": "stream",
     "text": [
      "\r",
      "Upgrading database; v8 -> v9: 100%|██████████| 1/1 [00:00<00:00, 473.61it/s]"
     ]
    },
    {
     "name": "stdout",
     "output_type": "stream",
     "text": [
      "\n"
     ]
    }
   ],
   "source": [
    "initialise_database()\n",
    "exp = load_or_create_experiment(experiment_name='tutorial_exp', sample_name=\"no sample\")"
   ]
  },
  {
   "cell_type": "markdown",
   "metadata": {},
   "source": [
    "Here, we define a simple function to benchmark the time it takes to insert n points with either numeric or array data type.\n",
    "We will compare both the time used to call ``add_result`` and the time used for the full measurement."
   ]
  },
  {
   "cell_type": "code",
   "execution_count": 4,
   "metadata": {
    "execution": {
     "iopub.execute_input": "2020-12-14T13:41:17.097291Z",
     "iopub.status.busy": "2020-12-14T13:41:17.096697Z",
     "iopub.status.idle": "2020-12-14T13:41:17.100266Z",
     "shell.execute_reply": "2020-12-14T13:41:17.100775Z"
    }
   },
   "outputs": [],
   "source": [
    "def insert_data(paramtype, npoints, nreps=1):\n",
    "\n",
    "    meas = Measurement(exp=exp)\n",
    "\n",
    "    x1 = ManualParameter('x1')\n",
    "    x2 = ManualParameter('x2')\n",
    "    x3 = ManualParameter('x3')\n",
    "    y1 = ManualParameter('y1')\n",
    "    y2 = ManualParameter('y2')\n",
    "\n",
    "    meas.register_parameter(x1, paramtype=paramtype)\n",
    "    meas.register_parameter(x2, paramtype=paramtype)\n",
    "    meas.register_parameter(x3, paramtype=paramtype)\n",
    "    meas.register_parameter(y1, setpoints=[x1, x2, x3],\n",
    "                            paramtype=paramtype)\n",
    "    meas.register_parameter(y2, setpoints=[x1, x2, x3],\n",
    "                            paramtype=paramtype)\n",
    "    start = time.perf_counter()\n",
    "    with meas.run() as datasaver:\n",
    "        start_adding = time.perf_counter()\n",
    "        for i in range(nreps):\n",
    "            datasaver.add_result((x1, np.random.rand(npoints)),\n",
    "                                 (x2, np.random.rand(npoints)),\n",
    "                                 (x3, np.random.rand(npoints)),\n",
    "                                 (y1, np.random.rand(npoints)),\n",
    "                                 (y2, np.random.rand(npoints)))\n",
    "        stop_adding = time.perf_counter()\n",
    "        run_id = datasaver.run_id\n",
    "    stop = time.perf_counter()\n",
    "    tot_time = stop - start\n",
    "    add_time = stop_adding - start_adding\n",
    "    return tot_time, add_time, run_id"
   ]
  },
  {
   "cell_type": "markdown",
   "metadata": {},
   "source": [
    "## Comparison between numeric/array data and binary blob"
   ]
  },
  {
   "cell_type": "markdown",
   "metadata": {},
   "source": [
    "### Case1: Short experiment time"
   ]
  },
  {
   "cell_type": "code",
   "execution_count": 5,
   "metadata": {
    "execution": {
     "iopub.execute_input": "2020-12-14T13:41:17.106695Z",
     "iopub.status.busy": "2020-12-14T13:41:17.105394Z",
     "iopub.status.idle": "2020-12-14T13:41:17.919964Z",
     "shell.execute_reply": "2020-12-14T13:41:17.919419Z"
    }
   },
   "outputs": [
    {
     "name": "stdout",
     "output_type": "stream",
     "text": [
      "Starting experimental run with id: 1. \n",
      "Starting experimental run with id: 2. \n",
      "Starting experimental run with id: 3. \n",
      "Starting experimental run with id: 4. \n",
      "Starting experimental run with id: 5. \n"
     ]
    },
    {
     "name": "stdout",
     "output_type": "stream",
     "text": [
      "Starting experimental run with id: 6. \n"
     ]
    },
    {
     "name": "stdout",
     "output_type": "stream",
     "text": [
      "Starting experimental run with id: 7. \n"
     ]
    },
    {
     "name": "stdout",
     "output_type": "stream",
     "text": [
      "Starting experimental run with id: 8. \n",
      "Starting experimental run with id: 9. \n"
     ]
    },
    {
     "name": "stdout",
     "output_type": "stream",
     "text": [
      "Starting experimental run with id: 10. \n",
      "Starting experimental run with id: 11. \n"
     ]
    },
    {
     "name": "stdout",
     "output_type": "stream",
     "text": [
      "Starting experimental run with id: 12. \n",
      "Starting experimental run with id: 13. \n"
     ]
    },
    {
     "name": "stdout",
     "output_type": "stream",
     "text": [
      "Starting experimental run with id: 14. \n"
     ]
    }
   ],
   "source": [
    "sizes = [1,500,1000,2000,3000,4000,5000]\n",
    "t_numeric = []\n",
    "t_numeric_add = []\n",
    "t_array = []\n",
    "t_array_add = []\n",
    "for size in sizes:\n",
    "    tn, tna, run_id_n =  insert_data('numeric', size)\n",
    "    t_numeric.append(tn)\n",
    "    t_numeric_add.append(tna)\n",
    "\n",
    "    ta, taa, run_id_a =  insert_data('array', size)\n",
    "    t_array.append(ta)\n",
    "    t_array_add.append(taa)"
   ]
  },
  {
   "cell_type": "code",
   "execution_count": 6,
   "metadata": {
    "execution": {
     "iopub.execute_input": "2020-12-14T13:41:17.940750Z",
     "iopub.status.busy": "2020-12-14T13:41:17.940130Z",
     "iopub.status.idle": "2020-12-14T13:41:18.147700Z",
     "shell.execute_reply": "2020-12-14T13:41:18.148384Z"
    }
   },
   "outputs": [
    {
     "data": {
      "image/png": "[encoded data removed]",
      "text/plain": [
       "<Figure size 432x288 with 1 Axes>"
      ]
     },
     "metadata": {
      "needs_background": "light"
     },
     "output_type": "display_data"
    }
   ],
   "source": [
    "fig, ax = plt.subplots(1,1)\n",
    "ax.plot(sizes, t_numeric, 'o-', label='Inserting row-by-row')\n",
    "ax.plot(sizes, t_numeric_add, 'o-', label='Inserting row-by-row: add_result only')\n",
    "ax.plot(sizes, t_array, 'd-', label='Inserting as binary blob')\n",
    "ax.plot(sizes, t_array_add, 'd-', label='Inserting as binary blob: add_result only')\n",
    "ax.legend()\n",
    "ax.set_xlabel('Array length')\n",
    "ax.set_ylabel('Time (s)')\n",
    "fig.tight_layout()"
   ]
  },
  {
   "cell_type": "markdown",
   "metadata": {},
   "source": [
    "As shown in the latter figure, the time to setup and and close the experiment is approximately 0.4 sec. In case of small array sizes, the difference between inserting values of data as arrays and inserting them row-by-row is relatively unimportant. At larger array sizes, i.e. above 10000 points, the cost of writing data as individual datapoints starts to become important.\n"
   ]
  },
  {
   "cell_type": "markdown",
   "metadata": {},
   "source": [
    "### Case2: Long experiment time "
   ]
  },
  {
   "cell_type": "code",
   "execution_count": 7,
   "metadata": {
    "execution": {
     "iopub.execute_input": "2020-12-14T13:41:18.156108Z",
     "iopub.status.busy": "2020-12-14T13:41:18.155191Z",
     "iopub.status.idle": "2020-12-14T13:42:19.925375Z",
     "shell.execute_reply": "2020-12-14T13:42:19.924797Z"
    }
   },
   "outputs": [
    {
     "name": "stdout",
     "output_type": "stream",
     "text": [
      "Starting experimental run with id: 15. \n",
      "Starting experimental run with id: 16. \n",
      "Starting experimental run with id: 17. \n"
     ]
    },
    {
     "name": "stdout",
     "output_type": "stream",
     "text": [
      "Starting experimental run with id: 18. \n",
      "Starting experimental run with id: 19. \n"
     ]
    },
    {
     "name": "stdout",
     "output_type": "stream",
     "text": [
      "Starting experimental run with id: 20. \n"
     ]
    },
    {
     "name": "stdout",
     "output_type": "stream",
     "text": [
      "Starting experimental run with id: 21. \n"
     ]
    },
    {
     "name": "stdout",
     "output_type": "stream",
     "text": [
      "Starting experimental run with id: 22. \n"
     ]
    },
    {
     "name": "stdout",
     "output_type": "stream",
     "text": [
      "Starting experimental run with id: 23. \n"
     ]
    },
    {
     "name": "stdout",
     "output_type": "stream",
     "text": [
      "Starting experimental run with id: 24. \n"
     ]
    },
    {
     "name": "stdout",
     "output_type": "stream",
     "text": [
      "Starting experimental run with id: 25. \n"
     ]
    },
    {
     "name": "stdout",
     "output_type": "stream",
     "text": [
      "Starting experimental run with id: 26. \n"
     ]
    },
    {
     "name": "stdout",
     "output_type": "stream",
     "text": [
      "Starting experimental run with id: 27. \n"
     ]
    },
    {
     "name": "stdout",
     "output_type": "stream",
     "text": [
      "Starting experimental run with id: 28. \n"
     ]
    }
   ],
   "source": [
    "sizes = [1,500,1000,2000,3000,4000,5000]\n",
    "nreps = 100\n",
    "t_numeric = []\n",
    "t_numeric_add = []\n",
    "t_numeric_run_ids = []\n",
    "t_array = []\n",
    "t_array_add = []\n",
    "t_array_run_ids = []\n",
    "for size in sizes:\n",
    "    tn, tna, run_id_n =  insert_data('numeric', size, nreps=nreps)\n",
    "    t_numeric.append(tn)\n",
    "    t_numeric_add.append(tna)\n",
    "    t_numeric_run_ids.append(run_id_n)\n",
    "\n",
    "    ta, taa, run_id_a =  insert_data('array', size, nreps=nreps)\n",
    "    t_array.append(ta)\n",
    "    t_array_add.append(taa)\n",
    "    t_array_run_ids.append(run_id_a)"
   ]
  },
  {
   "cell_type": "code",
   "execution_count": 8,
   "metadata": {
    "execution": {
     "iopub.execute_input": "2020-12-14T13:42:19.958405Z",
     "iopub.status.busy": "2020-12-14T13:42:19.948150Z",
     "iopub.status.idle": "2020-12-14T13:42:20.149150Z",
     "shell.execute_reply": "2020-12-14T13:42:20.148216Z"
    },
    "scrolled": true
   },
   "outputs": [
    {
     "data": {
      "image/png": "[encoded data removed]",
      "text/plain": [
       "<Figure size 432x288 with 1 Axes>"
      ]
     },
     "metadata": {
      "needs_background": "light"
     },
     "output_type": "display_data"
    }
   ],
   "source": [
    "fig, ax = plt.subplots(1,1)\n",
    "ax.plot(sizes, t_numeric, 'o-', label='Inserting row-by-row')\n",
    "ax.plot(sizes, t_numeric_add, 'o-', label='Inserting row-by-row: add_result only')\n",
    "ax.plot(sizes, t_array, 'd-', label='Inserting as binary blob')\n",
    "ax.plot(sizes, t_array_add, 'd-', label='Inserting as binary blob: add_result only')\n",
    "ax.legend()\n",
    "ax.set_xlabel('Array length')\n",
    "ax.set_ylabel('Time (s)')\n",
    "fig.tight_layout()"
   ]
  },
  {
   "cell_type": "markdown",
   "metadata": {},
   "source": [
    "However, as we increase the length of the experiment, as seen here by repeating the insertion 100 times, we see a big difference between inserting values of the data row-by-row and inserting it as a binary blob."
   ]
  },
  {
   "cell_type": "markdown",
   "metadata": {},
   "source": [
    "## Loading the data "
   ]
  },
  {
   "cell_type": "code",
   "execution_count": 9,
   "metadata": {
    "execution": {
     "iopub.execute_input": "2020-12-14T13:42:20.153739Z",
     "iopub.status.busy": "2020-12-14T13:42:20.152785Z",
     "iopub.status.idle": "2020-12-14T13:42:20.155543Z",
     "shell.execute_reply": "2020-12-14T13:42:20.155969Z"
    }
   },
   "outputs": [],
   "source": [
    "from qcodes.dataset.data_set import load_by_id\n",
    "from qcodes.dataset.data_export import get_data_by_id"
   ]
  },
  {
   "cell_type": "markdown",
   "metadata": {},
   "source": [
    "As usual you can load the data by using the ``load_by_id`` function but you will notice that the different storage methods\n",
    "are reflected in shape of the data as it is retrieved. "
   ]
  },
  {
   "cell_type": "code",
   "execution_count": 10,
   "metadata": {
    "execution": {
     "iopub.execute_input": "2020-12-14T13:42:20.159590Z",
     "iopub.status.busy": "2020-12-14T13:42:20.159061Z",
     "iopub.status.idle": "2020-12-14T13:42:20.161592Z",
     "shell.execute_reply": "2020-12-14T13:42:20.161047Z"
    }
   },
   "outputs": [],
   "source": [
    "run_id_n = t_numeric_run_ids[0]\n",
    "run_id_a = t_array_run_ids[0]"
   ]
  },
  {
   "cell_type": "code",
   "execution_count": 11,
   "metadata": {
    "execution": {
     "iopub.execute_input": "2020-12-14T13:42:20.164897Z",
     "iopub.status.busy": "2020-12-14T13:42:20.164289Z",
     "iopub.status.idle": "2020-12-14T13:42:20.173978Z",
     "shell.execute_reply": "2020-12-14T13:42:20.173528Z"
    },
    "scrolled": true
   },
   "outputs": [
    {
     "data": {
      "text/plain": [
       "{'x1': {'x1': array([0.09000053, 0.09000053, 0.90455682, 0.90455682, 0.4259935 ,\n",
       "         0.4259935 , 0.76850604, 0.76850604, 0.54300604, 0.54300604,\n",
       "         0.16440084, 0.16440084, 0.76370795, 0.76370795, 0.84552777,\n",
       "         0.84552777, 0.08913176, 0.08913176, 0.75053065, 0.75053065,\n",
       "         0.37514787, 0.37514787, 0.10198031, 0.10198031, 0.76409266,\n",
       "         0.76409266, 0.30863066, 0.30863066, 0.79141705, 0.79141705,\n",
       "         0.99643029, 0.99643029, 0.6548905 , 0.6548905 , 0.68832194,\n",
       "         0.68832194, 0.33847827, 0.33847827, 0.53151348, 0.53151348,\n",
       "         0.08704693, 0.08704693, 0.76593132, 0.76593132, 0.88071425,\n",
       "         0.88071425, 0.69283665, 0.69283665, 0.35604867, 0.35604867,\n",
       "         0.5679665 , 0.5679665 , 0.09062845, 0.09062845, 0.38134169,\n",
       "         0.38134169, 0.97115791, 0.97115791, 0.87640693, 0.87640693,\n",
       "         0.36985332, 0.36985332, 0.95151502, 0.95151502, 0.80306163,\n",
       "         0.80306163, 0.93200229, 0.93200229, 0.18336518, 0.18336518,\n",
       "         0.60033543, 0.60033543, 0.53438076, 0.53438076, 0.09027191,\n",
       "         0.09027191, 0.80183867, 0.80183867, 0.89120418, 0.89120418,\n",
       "         0.55666913, 0.55666913, 0.44662912, 0.44662912, 0.62671749,\n",
       "         0.62671749, 0.78090253, 0.78090253, 0.07428933, 0.07428933,\n",
       "         0.04404173, 0.04404173, 0.74076227, 0.74076227, 0.15091801,\n",
       "         0.15091801, 0.70923837, 0.70923837, 0.56296971, 0.56296971,\n",
       "         0.96084133, 0.96084133, 0.52570332, 0.52570332, 0.50511596,\n",
       "         0.50511596, 0.70679898, 0.70679898, 0.8060667 , 0.8060667 ,\n",
       "         0.27870214, 0.27870214, 0.72867542, 0.72867542, 0.7529732 ,\n",
       "         0.7529732 , 0.98361178, 0.98361178, 0.67640708, 0.67640708,\n",
       "         0.43332569, 0.43332569, 0.52983136, 0.52983136, 0.77610128,\n",
       "         0.77610128, 0.19705548, 0.19705548, 0.29134157, 0.29134157,\n",
       "         0.90226806, 0.90226806, 0.92463014, 0.92463014, 0.79440041,\n",
       "         0.79440041, 0.18701784, 0.18701784, 0.0451843 , 0.0451843 ,\n",
       "         0.98896795, 0.98896795, 0.35264393, 0.35264393, 0.64720017,\n",
       "         0.64720017, 0.62196751, 0.62196751, 0.33127164, 0.33127164,\n",
       "         0.80116315, 0.80116315, 0.96326894, 0.96326894, 0.29309424,\n",
       "         0.29309424, 0.05959116, 0.05959116, 0.06667069, 0.06667069,\n",
       "         0.30216095, 0.30216095, 0.87069798, 0.87069798, 0.24811628,\n",
       "         0.24811628, 0.90741553, 0.90741553, 0.11004573, 0.11004573,\n",
       "         0.16717326, 0.16717326, 0.44112128, 0.44112128, 0.90414621,\n",
       "         0.90414621, 0.36715435, 0.36715435, 0.26065465, 0.26065465,\n",
       "         0.47688623, 0.47688623, 0.63592015, 0.63592015, 0.05216359,\n",
       "         0.05216359, 0.2997485 , 0.2997485 , 0.89875093, 0.89875093,\n",
       "         0.07196526, 0.07196526, 0.53733521, 0.53733521, 0.7279255 ,\n",
       "         0.7279255 , 0.97527677, 0.97527677, 0.9250251 , 0.9250251 ])}}"
      ]
     },
     "execution_count": 1,
     "metadata": {},
     "output_type": "execute_result"
    }
   ],
   "source": [
    "ds = load_by_id(run_id_n)\n",
    "ds.get_parameter_data('x1')"
   ]
  },
  {
   "cell_type": "markdown",
   "metadata": {},
   "source": [
    "And a dataset stored as binary arrays"
   ]
  },
  {
   "cell_type": "code",
   "execution_count": 12,
   "metadata": {
    "execution": {
     "iopub.execute_input": "2020-12-14T13:42:20.177113Z",
     "iopub.status.busy": "2020-12-14T13:42:20.176595Z",
     "iopub.status.idle": "2020-12-14T13:42:20.240979Z",
     "shell.execute_reply": "2020-12-14T13:42:20.241414Z"
    },
    "scrolled": true
   },
   "outputs": [
    {
     "data": {
      "text/plain": [
       "{'x1': {'x1': array([[0.59656108],\n",
       "         [0.59656108],\n",
       "         [0.37664351],\n",
       "         [0.37664351],\n",
       "         [0.24982597],\n",
       "         [0.24982597],\n",
       "         [0.2586099 ],\n",
       "         [0.2586099 ],\n",
       "         [0.7174105 ],\n",
       "         [0.7174105 ],\n",
       "         [0.38046581],\n",
       "         [0.38046581],\n",
       "         [0.51234732],\n",
       "         [0.51234732],\n",
       "         [0.21891006],\n",
       "         [0.21891006],\n",
       "         [0.81771706],\n",
       "         [0.81771706],\n",
       "         [0.22417553],\n",
       "         [0.22417553],\n",
       "         [0.05421625],\n",
       "         [0.05421625],\n",
       "         [0.83307552],\n",
       "         [0.83307552],\n",
       "         [0.66872224],\n",
       "         [0.66872224],\n",
       "         [0.28042875],\n",
       "         [0.28042875],\n",
       "         [0.21590517],\n",
       "         [0.21590517],\n",
       "         [0.85088435],\n",
       "         [0.85088435],\n",
       "         [0.66103444],\n",
       "         [0.66103444],\n",
       "         [0.14264136],\n",
       "         [0.14264136],\n",
       "         [0.57999447],\n",
       "         [0.57999447],\n",
       "         [0.39070398],\n",
       "         [0.39070398],\n",
       "         [0.84800369],\n",
       "         [0.84800369],\n",
       "         [0.62758174],\n",
       "         [0.62758174],\n",
       "         [0.92814186],\n",
       "         [0.92814186],\n",
       "         [0.62026623],\n",
       "         [0.62026623],\n",
       "         [0.71266108],\n",
       "         [0.71266108],\n",
       "         [0.79201092],\n",
       "         [0.79201092],\n",
       "         [0.38515297],\n",
       "         [0.38515297],\n",
       "         [0.1256786 ],\n",
       "         [0.1256786 ],\n",
       "         [0.26532389],\n",
       "         [0.26532389],\n",
       "         [0.11005537],\n",
       "         [0.11005537],\n",
       "         [0.66076396],\n",
       "         [0.66076396],\n",
       "         [0.4955279 ],\n",
       "         [0.4955279 ],\n",
       "         [0.4472731 ],\n",
       "         [0.4472731 ],\n",
       "         [0.43507601],\n",
       "         [0.43507601],\n",
       "         [0.62982367],\n",
       "         [0.62982367],\n",
       "         [0.02665676],\n",
       "         [0.02665676],\n",
       "         [0.39875109],\n",
       "         [0.39875109],\n",
       "         [0.82298682],\n",
       "         [0.82298682],\n",
       "         [0.54386318],\n",
       "         [0.54386318],\n",
       "         [0.5130581 ],\n",
       "         [0.5130581 ],\n",
       "         [0.37069137],\n",
       "         [0.37069137],\n",
       "         [0.03073568],\n",
       "         [0.03073568],\n",
       "         [0.83127735],\n",
       "         [0.83127735],\n",
       "         [0.69070643],\n",
       "         [0.69070643],\n",
       "         [0.86545287],\n",
       "         [0.86545287],\n",
       "         [0.29016159],\n",
       "         [0.29016159],\n",
       "         [0.51595533],\n",
       "         [0.51595533],\n",
       "         [0.25852871],\n",
       "         [0.25852871],\n",
       "         [0.25000539],\n",
       "         [0.25000539],\n",
       "         [0.68786085],\n",
       "         [0.68786085],\n",
       "         [0.65568605],\n",
       "         [0.65568605],\n",
       "         [0.18051307],\n",
       "         [0.18051307],\n",
       "         [0.44238061],\n",
       "         [0.44238061],\n",
       "         [0.38385696],\n",
       "         [0.38385696],\n",
       "         [0.85659306],\n",
       "         [0.85659306],\n",
       "         [0.14238303],\n",
       "         [0.14238303],\n",
       "         [0.57114474],\n",
       "         [0.57114474],\n",
       "         [0.42087385],\n",
       "         [0.42087385],\n",
       "         [0.0943951 ],\n",
       "         [0.0943951 ],\n",
       "         [0.51519038],\n",
       "         [0.51519038],\n",
       "         [0.92266404],\n",
       "         [0.92266404],\n",
       "         [0.61029034],\n",
       "         [0.61029034],\n",
       "         [0.56496162],\n",
       "         [0.56496162],\n",
       "         [0.36351154],\n",
       "         [0.36351154],\n",
       "         [0.0455186 ],\n",
       "         [0.0455186 ],\n",
       "         [0.35116334],\n",
       "         [0.35116334],\n",
       "         [0.81528095],\n",
       "         [0.81528095],\n",
       "         [0.52589026],\n",
       "         [0.52589026],\n",
       "         [0.77882649],\n",
       "         [0.77882649],\n",
       "         [0.6510275 ],\n",
       "         [0.6510275 ],\n",
       "         [0.1007705 ],\n",
       "         [0.1007705 ],\n",
       "         [0.67720322],\n",
       "         [0.67720322],\n",
       "         [0.147304  ],\n",
       "         [0.147304  ],\n",
       "         [0.77045561],\n",
       "         [0.77045561],\n",
       "         [0.61911695],\n",
       "         [0.61911695],\n",
       "         [0.94451179],\n",
       "         [0.94451179],\n",
       "         [0.94236204],\n",
       "         [0.94236204],\n",
       "         [0.6501197 ],\n",
       "         [0.6501197 ],\n",
       "         [0.25784877],\n",
       "         [0.25784877],\n",
       "         [0.96577936],\n",
       "         [0.96577936],\n",
       "         [0.19933612],\n",
       "         [0.19933612],\n",
       "         [0.6321337 ],\n",
       "         [0.6321337 ],\n",
       "         [0.79941582],\n",
       "         [0.79941582],\n",
       "         [0.22865507],\n",
       "         [0.22865507],\n",
       "         [0.21746286],\n",
       "         [0.21746286],\n",
       "         [0.70802969],\n",
       "         [0.70802969],\n",
       "         [0.73018947],\n",
       "         [0.73018947],\n",
       "         [0.32910973],\n",
       "         [0.32910973],\n",
       "         [0.1325469 ],\n",
       "         [0.1325469 ],\n",
       "         [0.09096914],\n",
       "         [0.09096914],\n",
       "         [0.7075552 ],\n",
       "         [0.7075552 ],\n",
       "         [0.5627598 ],\n",
       "         [0.5627598 ],\n",
       "         [0.00677003],\n",
       "         [0.00677003],\n",
       "         [0.15787723],\n",
       "         [0.15787723],\n",
       "         [0.95151548],\n",
       "         [0.95151548],\n",
       "         [0.82457194],\n",
       "         [0.82457194],\n",
       "         [0.99987908],\n",
       "         [0.99987908],\n",
       "         [0.71073664],\n",
       "         [0.71073664],\n",
       "         [0.02392002],\n",
       "         [0.02392002],\n",
       "         [0.1413018 ],\n",
       "         [0.1413018 ]])}}"
      ]
     },
     "execution_count": 1,
     "metadata": {},
     "output_type": "execute_result"
    }
   ],
   "source": [
    "ds = load_by_id(run_id_a)\n",
    "ds.get_parameter_data('x1')"
   ]
  },
  {
   "cell_type": "code",
   "execution_count": null,
   "metadata": {},
   "outputs": [],
   "source": []
  }
 ],
 "metadata": {
  "kernelspec": {
   "display_name": "Python 3",
   "language": "python",
   "name": "python3"
  },
  "language_info": {
   "codemirror_mode": {
    "name": "ipython",
    "version": 3
   },
   "file_extension": ".py",
   "mimetype": "text/x-python",
   "name": "python",
   "nbconvert_exporter": "python",
   "pygments_lexer": "ipython3",
   "version": "3.7.9"
  },
  "nbsphinx": {
   "timeout": 600
  },
  "toc": {
   "base_numbering": 1,
   "nav_menu": {},
   "number_sections": true,
   "sideBar": true,
   "skip_h1_title": false,
   "title_cell": "Table of Contents",
   "title_sidebar": "Contents",
   "toc_cell": false,
   "toc_position": {},
   "toc_section_display": true,
   "toc_window_display": false
  },
  "varInspector": {
   "cols": {
    "lenName": 16,
    "lenType": 16,
    "lenVar": 40
   },
   "kernels_config": {
    "python": {
     "delete_cmd_postfix": "",
     "delete_cmd_prefix": "del ",
     "library": "var_list.py",
     "varRefreshCmd": "print(var_dic_list())"
    },
    "r": {
     "delete_cmd_postfix": ") ",
     "delete_cmd_prefix": "rm(",
     "library": "var_list.r",
     "varRefreshCmd": "cat(var_dic_list()) "
    }
   },
   "types_to_exclude": [
    "module",
    "function",
    "builtin_function_or_method",
    "instance",
    "_Feature"
   ],
   "window_display": false
  }
 },
 "nbformat": 4,
 "nbformat_minor": 2
}
