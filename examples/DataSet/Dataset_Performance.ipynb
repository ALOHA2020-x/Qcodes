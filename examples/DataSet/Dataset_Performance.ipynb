{
 "cells": [
  {
   "cell_type": "markdown",
   "metadata": {},
   "source": [
    "# DataSet Performance\n",
    "\n",
    "This notebook shows the trade-off between inserting data into a database row-by-row and as binary blobs. Inserting the data row-by-row means that we have direct access to all the data and may perform queries directly on the values of the data. On the other hand, as we shall see, this is much slower than inserting the data directly as binary blobs."
   ]
  },
  {
   "cell_type": "markdown",
   "metadata": {},
   "source": [
    "First, we choose a new location for the database to ensure that we don't add a bunch of benchmarking data to the default one."
   ]
  },
  {
   "cell_type": "code",
   "execution_count": 1,
   "metadata": {
    "execution": {
     "iopub.execute_input": "2021-03-08T11:50:43.113933Z",
     "iopub.status.busy": "2021-03-08T11:50:43.113293Z",
     "iopub.status.idle": "2021-03-08T11:50:44.092354Z",
     "shell.execute_reply": "2021-03-08T11:50:44.091684Z"
    }
   },
   "outputs": [
    {
     "name": "stdout",
     "output_type": "stream",
     "text": [
      "Logging hadn't been started.\n",
      "Activating auto-logging. Current session state plus future input saved.\n",
      "Filename       : /home/runner/.qcodes/logs/command_history.log\n",
      "Mode           : append\n",
      "Output logging : True\n",
      "Raw input log  : False\n",
      "Timestamping   : True\n",
      "State          : active\n"
     ]
    },
    {
     "name": "stdout",
     "output_type": "stream",
     "text": [
      "Qcodes Logfile : /home/runner/.qcodes/logs/210308-3986-qcodes.log\n"
     ]
    }
   ],
   "source": [
    "import os\n",
    "cwd = os.getcwd()\n",
    "import qcodes as qc\n",
    "qc.config[\"core\"][\"db_location\"] = os.path.join(cwd, 'testing.db')\n"
   ]
  },
  {
   "cell_type": "code",
   "execution_count": 2,
   "metadata": {
    "execution": {
     "iopub.execute_input": "2021-03-08T11:50:44.098204Z",
     "iopub.status.busy": "2021-03-08T11:50:44.097282Z",
     "iopub.status.idle": "2021-03-08T11:50:44.308795Z",
     "shell.execute_reply": "2021-03-08T11:50:44.307120Z"
    }
   },
   "outputs": [],
   "source": [
    "%matplotlib inline\n",
    "import time\n",
    "import matplotlib.pyplot as plt\n",
    "import numpy as np\n",
    "\n",
    "import qcodes as qc\n",
    "from qcodes.instrument.parameter import ManualParameter\n",
    "from qcodes.dataset.experiment_container import (Experiment,\n",
    "                                                 load_last_experiment,\n",
    "                                                 new_experiment)\n",
    "from qcodes.dataset.sqlite.database import initialise_database\n",
    "from qcodes import load_or_create_experiment\n",
    "from qcodes.dataset.measurements import Measurement"
   ]
  },
  {
   "cell_type": "code",
   "execution_count": 3,
   "metadata": {
    "execution": {
     "iopub.execute_input": "2021-03-08T11:50:44.313683Z",
     "iopub.status.busy": "2021-03-08T11:50:44.312615Z",
     "iopub.status.idle": "2021-03-08T11:50:44.439941Z",
     "shell.execute_reply": "2021-03-08T11:50:44.439113Z"
    }
   },
   "outputs": [
    {
     "name": "stdout",
     "output_type": "stream",
     "text": [
      "\r",
      "0it [00:00, ?it/s]"
     ]
    },
    {
     "name": "stdout",
     "output_type": "stream",
     "text": [
      "\r",
      "Upgrading database; v0 -> v1: : 0it [00:00, ?it/s]"
     ]
    },
    {
     "name": "stdout",
     "output_type": "stream",
     "text": [
      "\r",
      "Upgrading database; v0 -> v1: : 0it [00:00, ?it/s]"
     ]
    },
    {
     "name": "stdout",
     "output_type": "stream",
     "text": [
      "\n",
      "\r",
      "  0%|          | 0/1 [00:00<?, ?it/s]"
     ]
    },
    {
     "name": "stdout",
     "output_type": "stream",
     "text": [
      "\r",
      "Upgrading database; v1 -> v2:   0%|          | 0/1 [00:00<?, ?it/s]"
     ]
    },
    {
     "name": "stdout",
     "output_type": "stream",
     "text": [
      "\r",
      "Upgrading database; v1 -> v2: 100%|██████████| 1/1 [00:00<00:00, 622.39it/s]"
     ]
    },
    {
     "name": "stdout",
     "output_type": "stream",
     "text": [
      "\n",
      "\r",
      "0it [00:00, ?it/s]"
     ]
    },
    {
     "name": "stdout",
     "output_type": "stream",
     "text": [
      "\r",
      "Upgrading database; v2 -> v3: : 0it [00:00, ?it/s]"
     ]
    },
    {
     "name": "stdout",
     "output_type": "stream",
     "text": [
      "\r",
      "Upgrading database; v2 -> v3: : 0it [00:00, ?it/s]"
     ]
    },
    {
     "name": "stdout",
     "output_type": "stream",
     "text": [
      "\n",
      "\r",
      "0it [00:00, ?it/s]"
     ]
    },
    {
     "name": "stdout",
     "output_type": "stream",
     "text": [
      "\r",
      "Upgrading database; v3 -> v4: : 0it [00:00, ?it/s]"
     ]
    },
    {
     "name": "stdout",
     "output_type": "stream",
     "text": [
      "\r",
      "Upgrading database; v3 -> v4: : 0it [00:00, ?it/s]"
     ]
    },
    {
     "name": "stdout",
     "output_type": "stream",
     "text": [
      "\n",
      "\r",
      "  0%|          | 0/1 [00:00<?, ?it/s]"
     ]
    },
    {
     "name": "stdout",
     "output_type": "stream",
     "text": [
      "\r",
      "Upgrading database; v4 -> v5:   0%|          | 0/1 [00:00<?, ?it/s]"
     ]
    },
    {
     "name": "stdout",
     "output_type": "stream",
     "text": [
      "\r",
      "Upgrading database; v4 -> v5: 100%|██████████| 1/1 [00:00<00:00, 380.47it/s]"
     ]
    },
    {
     "name": "stdout",
     "output_type": "stream",
     "text": [
      "\n",
      "\r",
      "0it [00:00, ?it/s]"
     ]
    },
    {
     "name": "stdout",
     "output_type": "stream",
     "text": [
      "\r",
      "Upgrading database; v5 -> v6: : 0it [00:00, ?it/s]"
     ]
    },
    {
     "name": "stdout",
     "output_type": "stream",
     "text": [
      "\r",
      "Upgrading database; v5 -> v6: : 0it [00:00, ?it/s]"
     ]
    },
    {
     "name": "stdout",
     "output_type": "stream",
     "text": [
      "\n",
      "\r",
      "  0%|          | 0/1 [00:00<?, ?it/s]"
     ]
    },
    {
     "name": "stdout",
     "output_type": "stream",
     "text": [
      "\r",
      "Upgrading database; v6 -> v7:   0%|          | 0/1 [00:00<?, ?it/s]"
     ]
    },
    {
     "name": "stdout",
     "output_type": "stream",
     "text": [
      "\r",
      "Upgrading database; v6 -> v7: 100%|██████████| 1/1 [00:00<00:00, 301.62it/s]"
     ]
    },
    {
     "name": "stdout",
     "output_type": "stream",
     "text": [
      "\n",
      "\r",
      "  0%|          | 0/1 [00:00<?, ?it/s]"
     ]
    },
    {
     "name": "stdout",
     "output_type": "stream",
     "text": [
      "\r",
      "Upgrading database; v7 -> v8:   0%|          | 0/1 [00:00<?, ?it/s]"
     ]
    },
    {
     "name": "stdout",
     "output_type": "stream",
     "text": [
      "\r",
      "Upgrading database; v7 -> v8: 100%|██████████| 1/1 [00:00<00:00, 532.47it/s]"
     ]
    },
    {
     "name": "stdout",
     "output_type": "stream",
     "text": [
      "\n",
      "\r",
      "  0%|          | 0/1 [00:00<?, ?it/s]"
     ]
    },
    {
     "name": "stdout",
     "output_type": "stream",
     "text": [
      "\r",
      "Upgrading database; v8 -> v9:   0%|          | 0/1 [00:00<?, ?it/s]"
     ]
    },
    {
     "name": "stdout",
     "output_type": "stream",
     "text": [
      "\r",
      "Upgrading database; v8 -> v9: 100%|██████████| 1/1 [00:00<00:00, 1102.89it/s]"
     ]
    },
    {
     "name": "stdout",
     "output_type": "stream",
     "text": [
      "\n"
     ]
    }
   ],
   "source": [
    "initialise_database()\n",
    "exp = load_or_create_experiment(experiment_name='tutorial_exp', sample_name=\"no sample\")"
   ]
  },
  {
   "cell_type": "markdown",
   "metadata": {},
   "source": [
    "Here, we define a simple function to benchmark the time it takes to insert n points with either numeric or array data type.\n",
    "We will compare both the time used to call ``add_result`` and the time used for the full measurement."
   ]
  },
  {
   "cell_type": "code",
   "execution_count": 4,
   "metadata": {
    "execution": {
     "iopub.execute_input": "2021-03-08T11:50:44.449681Z",
     "iopub.status.busy": "2021-03-08T11:50:44.448786Z",
     "iopub.status.idle": "2021-03-08T11:50:44.452480Z",
     "shell.execute_reply": "2021-03-08T11:50:44.451914Z"
    }
   },
   "outputs": [],
   "source": [
    "def insert_data(paramtype, npoints, nreps=1):\n",
    "\n",
    "    meas = Measurement(exp=exp)\n",
    "\n",
    "    x1 = ManualParameter('x1')\n",
    "    x2 = ManualParameter('x2')\n",
    "    x3 = ManualParameter('x3')\n",
    "    y1 = ManualParameter('y1')\n",
    "    y2 = ManualParameter('y2')\n",
    "\n",
    "    meas.register_parameter(x1, paramtype=paramtype)\n",
    "    meas.register_parameter(x2, paramtype=paramtype)\n",
    "    meas.register_parameter(x3, paramtype=paramtype)\n",
    "    meas.register_parameter(y1, setpoints=[x1, x2, x3],\n",
    "                            paramtype=paramtype)\n",
    "    meas.register_parameter(y2, setpoints=[x1, x2, x3],\n",
    "                            paramtype=paramtype)\n",
    "    start = time.perf_counter()\n",
    "    with meas.run() as datasaver:\n",
    "        start_adding = time.perf_counter()\n",
    "        for i in range(nreps):\n",
    "            datasaver.add_result((x1, np.random.rand(npoints)),\n",
    "                                 (x2, np.random.rand(npoints)),\n",
    "                                 (x3, np.random.rand(npoints)),\n",
    "                                 (y1, np.random.rand(npoints)),\n",
    "                                 (y2, np.random.rand(npoints)))\n",
    "        stop_adding = time.perf_counter()\n",
    "        run_id = datasaver.run_id\n",
    "    stop = time.perf_counter()\n",
    "    tot_time = stop - start\n",
    "    add_time = stop_adding - start_adding\n",
    "    return tot_time, add_time, run_id"
   ]
  },
  {
   "cell_type": "markdown",
   "metadata": {},
   "source": [
    "## Comparison between numeric/array data and binary blob"
   ]
  },
  {
   "cell_type": "markdown",
   "metadata": {},
   "source": [
    "### Case1: Short experiment time"
   ]
  },
  {
   "cell_type": "code",
   "execution_count": 5,
   "metadata": {
    "execution": {
     "iopub.execute_input": "2021-03-08T11:50:44.459556Z",
     "iopub.status.busy": "2021-03-08T11:50:44.458903Z",
     "iopub.status.idle": "2021-03-08T11:50:45.378326Z",
     "shell.execute_reply": "2021-03-08T11:50:45.377733Z"
    }
   },
   "outputs": [
    {
     "name": "stdout",
     "output_type": "stream",
     "text": [
      "Starting experimental run with id: 1. \n",
      "Starting experimental run with id: 2. \n",
      "Starting experimental run with id: 3. \n",
      "Starting experimental run with id: 4. \n"
     ]
    },
    {
     "name": "stdout",
     "output_type": "stream",
     "text": [
      "Starting experimental run with id: 5. \n"
     ]
    },
    {
     "name": "stdout",
     "output_type": "stream",
     "text": [
      "Starting experimental run with id: 6. "
     ]
    },
    {
     "name": "stdout",
     "output_type": "stream",
     "text": [
      "\n",
      "Starting experimental run with id: 7. \n"
     ]
    },
    {
     "name": "stdout",
     "output_type": "stream",
     "text": [
      "Starting experimental run with id: 8. \n",
      "Starting experimental run with id: 9. \n"
     ]
    },
    {
     "name": "stdout",
     "output_type": "stream",
     "text": [
      "Starting experimental run with id: 10. \n",
      "Starting experimental run with id: 11. \n"
     ]
    },
    {
     "name": "stdout",
     "output_type": "stream",
     "text": [
      "Starting experimental run with id: 12. \n"
     ]
    },
    {
     "name": "stdout",
     "output_type": "stream",
     "text": [
      "Starting experimental run with id: 13. \n"
     ]
    },
    {
     "name": "stdout",
     "output_type": "stream",
     "text": [
      "Starting experimental run with id: 14. \n"
     ]
    }
   ],
   "source": [
    "sizes = [1,500,1000,2000,3000,4000,5000]\n",
    "t_numeric = []\n",
    "t_numeric_add = []\n",
    "t_array = []\n",
    "t_array_add = []\n",
    "for size in sizes:\n",
    "    tn, tna, run_id_n =  insert_data('numeric', size)\n",
    "    t_numeric.append(tn)\n",
    "    t_numeric_add.append(tna)\n",
    "\n",
    "    ta, taa, run_id_a =  insert_data('array', size)\n",
    "    t_array.append(ta)\n",
    "    t_array_add.append(taa)"
   ]
  },
  {
   "cell_type": "code",
   "execution_count": 6,
   "metadata": {
    "execution": {
     "iopub.execute_input": "2021-03-08T11:50:45.391832Z",
     "iopub.status.busy": "2021-03-08T11:50:45.383599Z",
     "iopub.status.idle": "2021-03-08T11:50:45.615832Z",
     "shell.execute_reply": "2021-03-08T11:50:45.616344Z"
    }
   },
   "outputs": [
    {
     "data": {
      "image/png": "[encoded data removed]",
      "text/plain": [
       "<Figure size 432x288 with 1 Axes>"
      ]
     },
     "metadata": {
      "needs_background": "light"
     },
     "output_type": "display_data"
    }
   ],
   "source": [
    "fig, ax = plt.subplots(1,1)\n",
    "ax.plot(sizes, t_numeric, 'o-', label='Inserting row-by-row')\n",
    "ax.plot(sizes, t_numeric_add, 'o-', label='Inserting row-by-row: add_result only')\n",
    "ax.plot(sizes, t_array, 'd-', label='Inserting as binary blob')\n",
    "ax.plot(sizes, t_array_add, 'd-', label='Inserting as binary blob: add_result only')\n",
    "ax.legend()\n",
    "ax.set_xlabel('Array length')\n",
    "ax.set_ylabel('Time (s)')\n",
    "fig.tight_layout()"
   ]
  },
  {
   "cell_type": "markdown",
   "metadata": {},
   "source": [
    "As shown in the latter figure, the time to setup and and close the experiment is approximately 0.4 sec. In case of small array sizes, the difference between inserting values of data as arrays and inserting them row-by-row is relatively unimportant. At larger array sizes, i.e. above 10000 points, the cost of writing data as individual datapoints starts to become important.\n"
   ]
  },
  {
   "cell_type": "markdown",
   "metadata": {},
   "source": [
    "### Case2: Long experiment time "
   ]
  },
  {
   "cell_type": "code",
   "execution_count": 7,
   "metadata": {
    "execution": {
     "iopub.execute_input": "2021-03-08T11:50:45.625154Z",
     "iopub.status.busy": "2021-03-08T11:50:45.624513Z",
     "iopub.status.idle": "2021-03-08T11:51:48.289449Z",
     "shell.execute_reply": "2021-03-08T11:51:48.288840Z"
    }
   },
   "outputs": [
    {
     "name": "stdout",
     "output_type": "stream",
     "text": [
      "Starting experimental run with id: 15. \n",
      "Starting experimental run with id: 16. \n"
     ]
    },
    {
     "name": "stdout",
     "output_type": "stream",
     "text": [
      "Starting experimental run with id: 17. \n"
     ]
    },
    {
     "name": "stdout",
     "output_type": "stream",
     "text": [
      "Starting experimental run with id: 18. \n"
     ]
    },
    {
     "name": "stdout",
     "output_type": "stream",
     "text": [
      "Starting experimental run with id: 19. \n"
     ]
    },
    {
     "name": "stdout",
     "output_type": "stream",
     "text": [
      "Starting experimental run with id: 20. \n"
     ]
    },
    {
     "name": "stdout",
     "output_type": "stream",
     "text": [
      "Starting experimental run with id: 21. \n"
     ]
    },
    {
     "name": "stdout",
     "output_type": "stream",
     "text": [
      "Starting experimental run with id: 22. \n"
     ]
    },
    {
     "name": "stdout",
     "output_type": "stream",
     "text": [
      "Starting experimental run with id: 23. \n"
     ]
    },
    {
     "name": "stdout",
     "output_type": "stream",
     "text": [
      "Starting experimental run with id: 24. \n"
     ]
    },
    {
     "name": "stdout",
     "output_type": "stream",
     "text": [
      "Starting experimental run with id: 25. \n"
     ]
    },
    {
     "name": "stdout",
     "output_type": "stream",
     "text": [
      "Starting experimental run with id: 26. \n"
     ]
    },
    {
     "name": "stdout",
     "output_type": "stream",
     "text": [
      "Starting experimental run with id: 27. \n"
     ]
    },
    {
     "name": "stdout",
     "output_type": "stream",
     "text": [
      "Starting experimental run with id: 28. \n"
     ]
    }
   ],
   "source": [
    "sizes = [1,500,1000,2000,3000,4000,5000]\n",
    "nreps = 100\n",
    "t_numeric = []\n",
    "t_numeric_add = []\n",
    "t_numeric_run_ids = []\n",
    "t_array = []\n",
    "t_array_add = []\n",
    "t_array_run_ids = []\n",
    "for size in sizes:\n",
    "    tn, tna, run_id_n =  insert_data('numeric', size, nreps=nreps)\n",
    "    t_numeric.append(tn)\n",
    "    t_numeric_add.append(tna)\n",
    "    t_numeric_run_ids.append(run_id_n)\n",
    "\n",
    "    ta, taa, run_id_a =  insert_data('array', size, nreps=nreps)\n",
    "    t_array.append(ta)\n",
    "    t_array_add.append(taa)\n",
    "    t_array_run_ids.append(run_id_a)"
   ]
  },
  {
   "cell_type": "code",
   "execution_count": 8,
   "metadata": {
    "execution": {
     "iopub.execute_input": "2021-03-08T11:51:48.312710Z",
     "iopub.status.busy": "2021-03-08T11:51:48.309619Z",
     "iopub.status.idle": "2021-03-08T11:51:48.530678Z",
     "shell.execute_reply": "2021-03-08T11:51:48.531192Z"
    },
    "scrolled": true
   },
   "outputs": [
    {
     "data": {
      "image/png": "[encoded data removed]",
      "text/plain": [
       "<Figure size 432x288 with 1 Axes>"
      ]
     },
     "metadata": {
      "needs_background": "light"
     },
     "output_type": "display_data"
    }
   ],
   "source": [
    "fig, ax = plt.subplots(1,1)\n",
    "ax.plot(sizes, t_numeric, 'o-', label='Inserting row-by-row')\n",
    "ax.plot(sizes, t_numeric_add, 'o-', label='Inserting row-by-row: add_result only')\n",
    "ax.plot(sizes, t_array, 'd-', label='Inserting as binary blob')\n",
    "ax.plot(sizes, t_array_add, 'd-', label='Inserting as binary blob: add_result only')\n",
    "ax.legend()\n",
    "ax.set_xlabel('Array length')\n",
    "ax.set_ylabel('Time (s)')\n",
    "fig.tight_layout()"
   ]
  },
  {
   "cell_type": "markdown",
   "metadata": {},
   "source": [
    "However, as we increase the length of the experiment, as seen here by repeating the insertion 100 times, we see a big difference between inserting values of the data row-by-row and inserting it as a binary blob."
   ]
  },
  {
   "cell_type": "markdown",
   "metadata": {},
   "source": [
    "## Loading the data "
   ]
  },
  {
   "cell_type": "code",
   "execution_count": 9,
   "metadata": {
    "execution": {
     "iopub.execute_input": "2021-03-08T11:51:48.535974Z",
     "iopub.status.busy": "2021-03-08T11:51:48.534891Z",
     "iopub.status.idle": "2021-03-08T11:51:48.539301Z",
     "shell.execute_reply": "2021-03-08T11:51:48.538774Z"
    }
   },
   "outputs": [],
   "source": [
    "from qcodes.dataset.data_set import load_by_id\n",
    "from qcodes.dataset.data_export import get_data_by_id"
   ]
  },
  {
   "cell_type": "markdown",
   "metadata": {},
   "source": [
    "As usual you can load the data by using the ``load_by_id`` function but you will notice that the different storage methods\n",
    "are reflected in shape of the data as it is retrieved. "
   ]
  },
  {
   "cell_type": "code",
   "execution_count": 10,
   "metadata": {
    "execution": {
     "iopub.execute_input": "2021-03-08T11:51:48.544335Z",
     "iopub.status.busy": "2021-03-08T11:51:48.542888Z",
     "iopub.status.idle": "2021-03-08T11:51:48.545155Z",
     "shell.execute_reply": "2021-03-08T11:51:48.545694Z"
    }
   },
   "outputs": [],
   "source": [
    "run_id_n = t_numeric_run_ids[0]\n",
    "run_id_a = t_array_run_ids[0]"
   ]
  },
  {
   "cell_type": "code",
   "execution_count": 11,
   "metadata": {
    "execution": {
     "iopub.execute_input": "2021-03-08T11:51:48.549311Z",
     "iopub.status.busy": "2021-03-08T11:51:48.548681Z",
     "iopub.status.idle": "2021-03-08T11:51:48.558626Z",
     "shell.execute_reply": "2021-03-08T11:51:48.559162Z"
    },
    "scrolled": true
   },
   "outputs": [
    {
     "data": {
      "text/plain": [
       "{'x1': {'x1': array([0.84780649, 0.84780649, 0.15199823, 0.15199823, 0.90003714,\n",
       "         0.90003714, 0.96333375, 0.96333375, 0.27876477, 0.27876477,\n",
       "         0.23804837, 0.23804837, 0.35431763, 0.35431763, 0.66550137,\n",
       "         0.66550137, 0.88332945, 0.88332945, 0.14049335, 0.14049335,\n",
       "         0.41517448, 0.41517448, 0.80744842, 0.80744842, 0.95540942,\n",
       "         0.95540942, 0.27783652, 0.27783652, 0.61925721, 0.61925721,\n",
       "         0.31494138, 0.31494138, 0.41849639, 0.41849639, 0.21006999,\n",
       "         0.21006999, 0.72052637, 0.72052637, 0.85413089, 0.85413089,\n",
       "         0.62435189, 0.62435189, 0.32937016, 0.32937016, 0.08624363,\n",
       "         0.08624363, 0.53743124, 0.53743124, 0.10432955, 0.10432955,\n",
       "         0.97752149, 0.97752149, 0.9500189 , 0.9500189 , 0.60225774,\n",
       "         0.60225774, 0.1770231 , 0.1770231 , 0.23716877, 0.23716877,\n",
       "         0.46283946, 0.46283946, 0.14042685, 0.14042685, 0.85042309,\n",
       "         0.85042309, 0.99856204, 0.99856204, 0.90230736, 0.90230736,\n",
       "         0.42454856, 0.42454856, 0.32098562, 0.32098562, 0.3538421 ,\n",
       "         0.3538421 , 0.13847736, 0.13847736, 0.45856273, 0.45856273,\n",
       "         0.13462046, 0.13462046, 0.29434517, 0.29434517, 0.65802854,\n",
       "         0.65802854, 0.90543259, 0.90543259, 0.25344605, 0.25344605,\n",
       "         0.41863588, 0.41863588, 0.29619918, 0.29619918, 0.02107705,\n",
       "         0.02107705, 0.16484024, 0.16484024, 0.76399133, 0.76399133,\n",
       "         0.16865886, 0.16865886, 0.70159602, 0.70159602, 0.68604824,\n",
       "         0.68604824, 0.35843686, 0.35843686, 0.16300709, 0.16300709,\n",
       "         0.7720393 , 0.7720393 , 0.35454553, 0.35454553, 0.41458516,\n",
       "         0.41458516, 0.07337624, 0.07337624, 0.06710563, 0.06710563,\n",
       "         0.62122675, 0.62122675, 0.36616079, 0.36616079, 0.57696144,\n",
       "         0.57696144, 0.01981054, 0.01981054, 0.77453878, 0.77453878,\n",
       "         0.32470814, 0.32470814, 0.26592092, 0.26592092, 0.52664683,\n",
       "         0.52664683, 0.84802157, 0.84802157, 0.25204939, 0.25204939,\n",
       "         0.99250578, 0.99250578, 0.07301655, 0.07301655, 0.9902658 ,\n",
       "         0.9902658 , 0.09255707, 0.09255707, 0.64479199, 0.64479199,\n",
       "         0.43091977, 0.43091977, 0.6352697 , 0.6352697 , 0.42498218,\n",
       "         0.42498218, 0.31558054, 0.31558054, 0.13882285, 0.13882285,\n",
       "         0.35894677, 0.35894677, 0.20110132, 0.20110132, 0.89357761,\n",
       "         0.89357761, 0.96077327, 0.96077327, 0.62168268, 0.62168268,\n",
       "         0.61023991, 0.61023991, 0.04258531, 0.04258531, 0.19823652,\n",
       "         0.19823652, 0.65344677, 0.65344677, 0.02278755, 0.02278755,\n",
       "         0.43054913, 0.43054913, 0.05487587, 0.05487587, 0.46332118,\n",
       "         0.46332118, 0.39104114, 0.39104114, 0.86054629, 0.86054629,\n",
       "         0.673304  , 0.673304  , 0.25717729, 0.25717729, 0.53198645,\n",
       "         0.53198645, 0.1574612 , 0.1574612 , 0.52051531, 0.52051531])}}"
      ]
     },
     "execution_count": 1,
     "metadata": {},
     "output_type": "execute_result"
    }
   ],
   "source": [
    "ds = load_by_id(run_id_n)\n",
    "ds.get_parameter_data('x1')"
   ]
  },
  {
   "cell_type": "markdown",
   "metadata": {},
   "source": [
    "And a dataset stored as binary arrays"
   ]
  },
  {
   "cell_type": "code",
   "execution_count": 12,
   "metadata": {
    "execution": {
     "iopub.execute_input": "2021-03-08T11:51:48.563640Z",
     "iopub.status.busy": "2021-03-08T11:51:48.562998Z",
     "iopub.status.idle": "2021-03-08T11:51:48.633274Z",
     "shell.execute_reply": "2021-03-08T11:51:48.633826Z"
    },
    "scrolled": true
   },
   "outputs": [
    {
     "data": {
      "text/plain": [
       "{'x1': {'x1': array([[0.93241022],\n",
       "         [0.93241022],\n",
       "         [0.61848939],\n",
       "         [0.61848939],\n",
       "         [0.45769181],\n",
       "         [0.45769181],\n",
       "         [0.83775487],\n",
       "         [0.83775487],\n",
       "         [0.57327857],\n",
       "         [0.57327857],\n",
       "         [0.53793097],\n",
       "         [0.53793097],\n",
       "         [0.40585954],\n",
       "         [0.40585954],\n",
       "         [0.9210103 ],\n",
       "         [0.9210103 ],\n",
       "         [0.88084085],\n",
       "         [0.88084085],\n",
       "         [0.37964402],\n",
       "         [0.37964402],\n",
       "         [0.14253416],\n",
       "         [0.14253416],\n",
       "         [0.39713782],\n",
       "         [0.39713782],\n",
       "         [0.11173289],\n",
       "         [0.11173289],\n",
       "         [0.48111197],\n",
       "         [0.48111197],\n",
       "         [0.49060636],\n",
       "         [0.49060636],\n",
       "         [0.96856471],\n",
       "         [0.96856471],\n",
       "         [0.84920285],\n",
       "         [0.84920285],\n",
       "         [0.55321516],\n",
       "         [0.55321516],\n",
       "         [0.95728285],\n",
       "         [0.95728285],\n",
       "         [0.35703739],\n",
       "         [0.35703739],\n",
       "         [0.14501713],\n",
       "         [0.14501713],\n",
       "         [0.52541476],\n",
       "         [0.52541476],\n",
       "         [0.43319166],\n",
       "         [0.43319166],\n",
       "         [0.98708226],\n",
       "         [0.98708226],\n",
       "         [0.46314217],\n",
       "         [0.46314217],\n",
       "         [0.37830234],\n",
       "         [0.37830234],\n",
       "         [0.95325785],\n",
       "         [0.95325785],\n",
       "         [0.8896088 ],\n",
       "         [0.8896088 ],\n",
       "         [0.37261975],\n",
       "         [0.37261975],\n",
       "         [0.5479912 ],\n",
       "         [0.5479912 ],\n",
       "         [0.38230122],\n",
       "         [0.38230122],\n",
       "         [0.97488969],\n",
       "         [0.97488969],\n",
       "         [0.99137583],\n",
       "         [0.99137583],\n",
       "         [0.77181639],\n",
       "         [0.77181639],\n",
       "         [0.04725738],\n",
       "         [0.04725738],\n",
       "         [0.39391788],\n",
       "         [0.39391788],\n",
       "         [0.64222836],\n",
       "         [0.64222836],\n",
       "         [0.43201446],\n",
       "         [0.43201446],\n",
       "         [0.64640101],\n",
       "         [0.64640101],\n",
       "         [0.18206365],\n",
       "         [0.18206365],\n",
       "         [0.78362719],\n",
       "         [0.78362719],\n",
       "         [0.71168595],\n",
       "         [0.71168595],\n",
       "         [0.10697109],\n",
       "         [0.10697109],\n",
       "         [0.268737  ],\n",
       "         [0.268737  ],\n",
       "         [0.61669821],\n",
       "         [0.61669821],\n",
       "         [0.09079146],\n",
       "         [0.09079146],\n",
       "         [0.95858754],\n",
       "         [0.95858754],\n",
       "         [0.09500863],\n",
       "         [0.09500863],\n",
       "         [0.35385524],\n",
       "         [0.35385524],\n",
       "         [0.01903896],\n",
       "         [0.01903896],\n",
       "         [0.66967429],\n",
       "         [0.66967429],\n",
       "         [0.9470367 ],\n",
       "         [0.9470367 ],\n",
       "         [0.53225685],\n",
       "         [0.53225685],\n",
       "         [0.25206186],\n",
       "         [0.25206186],\n",
       "         [0.70478202],\n",
       "         [0.70478202],\n",
       "         [0.61397629],\n",
       "         [0.61397629],\n",
       "         [0.82178385],\n",
       "         [0.82178385],\n",
       "         [0.58537591],\n",
       "         [0.58537591],\n",
       "         [0.90921717],\n",
       "         [0.90921717],\n",
       "         [0.59771416],\n",
       "         [0.59771416],\n",
       "         [0.37185834],\n",
       "         [0.37185834],\n",
       "         [0.39820383],\n",
       "         [0.39820383],\n",
       "         [0.16735498],\n",
       "         [0.16735498],\n",
       "         [0.1001618 ],\n",
       "         [0.1001618 ],\n",
       "         [0.50140391],\n",
       "         [0.50140391],\n",
       "         [0.548331  ],\n",
       "         [0.548331  ],\n",
       "         [0.29742831],\n",
       "         [0.29742831],\n",
       "         [0.22483736],\n",
       "         [0.22483736],\n",
       "         [0.26053642],\n",
       "         [0.26053642],\n",
       "         [0.19906313],\n",
       "         [0.19906313],\n",
       "         [0.06748813],\n",
       "         [0.06748813],\n",
       "         [0.39906723],\n",
       "         [0.39906723],\n",
       "         [0.77743787],\n",
       "         [0.77743787],\n",
       "         [0.99062055],\n",
       "         [0.99062055],\n",
       "         [0.77397225],\n",
       "         [0.77397225],\n",
       "         [0.22837891],\n",
       "         [0.22837891],\n",
       "         [0.58527786],\n",
       "         [0.58527786],\n",
       "         [0.44880749],\n",
       "         [0.44880749],\n",
       "         [0.80444448],\n",
       "         [0.80444448],\n",
       "         [0.56757541],\n",
       "         [0.56757541],\n",
       "         [0.99251341],\n",
       "         [0.99251341],\n",
       "         [0.75579976],\n",
       "         [0.75579976],\n",
       "         [0.20241273],\n",
       "         [0.20241273],\n",
       "         [0.93461553],\n",
       "         [0.93461553],\n",
       "         [0.76662252],\n",
       "         [0.76662252],\n",
       "         [0.58897362],\n",
       "         [0.58897362],\n",
       "         [0.49617246],\n",
       "         [0.49617246],\n",
       "         [0.55151503],\n",
       "         [0.55151503],\n",
       "         [0.0408401 ],\n",
       "         [0.0408401 ],\n",
       "         [0.11827801],\n",
       "         [0.11827801],\n",
       "         [0.59168254],\n",
       "         [0.59168254],\n",
       "         [0.78504829],\n",
       "         [0.78504829],\n",
       "         [0.33286496],\n",
       "         [0.33286496],\n",
       "         [0.782231  ],\n",
       "         [0.782231  ],\n",
       "         [0.78168743],\n",
       "         [0.78168743],\n",
       "         [0.37792705],\n",
       "         [0.37792705],\n",
       "         [0.05640485],\n",
       "         [0.05640485],\n",
       "         [0.17363141],\n",
       "         [0.17363141],\n",
       "         [0.69543346],\n",
       "         [0.69543346],\n",
       "         [0.19880805],\n",
       "         [0.19880805]])}}"
      ]
     },
     "execution_count": 1,
     "metadata": {},
     "output_type": "execute_result"
    }
   ],
   "source": [
    "ds = load_by_id(run_id_a)\n",
    "ds.get_parameter_data('x1')"
   ]
  },
  {
   "cell_type": "code",
   "execution_count": null,
   "metadata": {},
   "outputs": [],
   "source": []
  }
 ],
 "metadata": {
  "kernelspec": {
   "display_name": "Python 3",
   "language": "python",
   "name": "python3"
  },
  "language_info": {
   "codemirror_mode": {
    "name": "ipython",
    "version": 3
   },
   "file_extension": ".py",
   "mimetype": "text/x-python",
   "name": "python",
   "nbconvert_exporter": "python",
   "pygments_lexer": "ipython3",
   "version": "3.7.10"
  },
  "nbsphinx": {
   "timeout": 600
  },
  "toc": {
   "base_numbering": 1,
   "nav_menu": {},
   "number_sections": true,
   "sideBar": true,
   "skip_h1_title": false,
   "title_cell": "Table of Contents",
   "title_sidebar": "Contents",
   "toc_cell": false,
   "toc_position": {},
   "toc_section_display": true,
   "toc_window_display": false
  },
  "varInspector": {
   "cols": {
    "lenName": 16,
    "lenType": 16,
    "lenVar": 40
   },
   "kernels_config": {
    "python": {
     "delete_cmd_postfix": "",
     "delete_cmd_prefix": "del ",
     "library": "var_list.py",
     "varRefreshCmd": "print(var_dic_list())"
    },
    "r": {
     "delete_cmd_postfix": ") ",
     "delete_cmd_prefix": "rm(",
     "library": "var_list.r",
     "varRefreshCmd": "cat(var_dic_list()) "
    }
   },
   "types_to_exclude": [
    "module",
    "function",
    "builtin_function_or_method",
    "instance",
    "_Feature"
   ],
   "window_display": false
  }
 },
 "nbformat": 4,
 "nbformat_minor": 2
}
