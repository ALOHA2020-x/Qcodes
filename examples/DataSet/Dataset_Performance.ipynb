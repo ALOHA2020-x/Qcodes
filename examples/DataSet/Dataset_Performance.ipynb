{
 "cells": [
  {
   "cell_type": "markdown",
   "metadata": {},
   "source": [
    "# DataSet Performance\n",
    "\n",
    "This notebook shows the trade-off between inserting data into a database row-by-row and as binary blobs. Inserting the data row-by-row means that we have direct access to all the data and may perform queries directly on the values of the data. On the other hand, as we shall see, this is much slower than inserting the data directly as binary blobs."
   ]
  },
  {
   "cell_type": "markdown",
   "metadata": {},
   "source": [
    "First, we choose a new location for the database to ensure that we don't add a bunch of benchmarking data to the default one."
   ]
  },
  {
   "cell_type": "code",
   "execution_count": 1,
   "metadata": {
    "execution": {
     "iopub.execute_input": "2021-01-27T15:20:48.456218Z",
     "iopub.status.busy": "2021-01-27T15:20:48.455197Z",
     "iopub.status.idle": "2021-01-27T15:20:49.686094Z",
     "shell.execute_reply": "2021-01-27T15:20:49.685269Z"
    }
   },
   "outputs": [
    {
     "name": "stdout",
     "output_type": "stream",
     "text": [
      "Logging hadn't been started.\n",
      "Activating auto-logging. Current session state plus future input saved.\n",
      "Filename       : /home/vsts/.qcodes/logs/command_history.log\n",
      "Mode           : append\n",
      "Output logging : True\n",
      "Raw input log  : False\n",
      "Timestamping   : True\n",
      "State          : active\n"
     ]
    },
    {
     "name": "stdout",
     "output_type": "stream",
     "text": [
      "Qcodes Logfile : /home/vsts/.qcodes/logs/210127-13658-qcodes.log\n"
     ]
    }
   ],
   "source": [
    "import os\n",
    "cwd = os.getcwd()\n",
    "import qcodes as qc\n",
    "qc.config[\"core\"][\"db_location\"] = os.path.join(cwd, 'testing.db')\n"
   ]
  },
  {
   "cell_type": "code",
   "execution_count": 2,
   "metadata": {
    "execution": {
     "iopub.execute_input": "2021-01-27T15:20:49.694613Z",
     "iopub.status.busy": "2021-01-27T15:20:49.692730Z",
     "iopub.status.idle": "2021-01-27T15:20:49.908482Z",
     "shell.execute_reply": "2021-01-27T15:20:49.909105Z"
    }
   },
   "outputs": [],
   "source": [
    "%matplotlib inline\n",
    "import time\n",
    "import matplotlib.pyplot as plt\n",
    "import numpy as np\n",
    "\n",
    "import qcodes as qc\n",
    "from qcodes.instrument.parameter import ManualParameter\n",
    "from qcodes.dataset.experiment_container import (Experiment,\n",
    "                                                 load_last_experiment,\n",
    "                                                 new_experiment)\n",
    "from qcodes.dataset.sqlite.database import initialise_database\n",
    "from qcodes import load_or_create_experiment\n",
    "from qcodes.dataset.measurements import Measurement"
   ]
  },
  {
   "cell_type": "code",
   "execution_count": 3,
   "metadata": {
    "execution": {
     "iopub.execute_input": "2021-01-27T15:20:49.913813Z",
     "iopub.status.busy": "2021-01-27T15:20:49.913148Z",
     "iopub.status.idle": "2021-01-27T15:20:50.054943Z",
     "shell.execute_reply": "2021-01-27T15:20:50.055881Z"
    }
   },
   "outputs": [
    {
     "name": "stdout",
     "output_type": "stream",
     "text": [
      "\r",
      "0it [00:00, ?it/s]"
     ]
    },
    {
     "name": "stdout",
     "output_type": "stream",
     "text": [
      "\r",
      "Upgrading database; v0 -> v1: : 0it [00:00, ?it/s]"
     ]
    },
    {
     "name": "stdout",
     "output_type": "stream",
     "text": [
      "\r",
      "Upgrading database; v0 -> v1: : 0it [00:00, ?it/s]"
     ]
    },
    {
     "name": "stdout",
     "output_type": "stream",
     "text": [
      "\n",
      "\r",
      "  0%|          | 0/1 [00:00<?, ?it/s]"
     ]
    },
    {
     "name": "stdout",
     "output_type": "stream",
     "text": [
      "\r",
      "Upgrading database; v1 -> v2:   0%|          | 0/1 [00:00<?, ?it/s]"
     ]
    },
    {
     "name": "stdout",
     "output_type": "stream",
     "text": [
      "\r",
      "Upgrading database; v1 -> v2: 100%|██████████| 1/1 [00:00<00:00, 462.95it/s]"
     ]
    },
    {
     "name": "stdout",
     "output_type": "stream",
     "text": [
      "\n",
      "\r",
      "0it [00:00, ?it/s]"
     ]
    },
    {
     "name": "stdout",
     "output_type": "stream",
     "text": [
      "\r",
      "Upgrading database; v2 -> v3: : 0it [00:00, ?it/s]"
     ]
    },
    {
     "name": "stdout",
     "output_type": "stream",
     "text": [
      "\r",
      "Upgrading database; v2 -> v3: : 0it [00:00, ?it/s]"
     ]
    },
    {
     "name": "stdout",
     "output_type": "stream",
     "text": [
      "\n",
      "\r",
      "0it [00:00, ?it/s]"
     ]
    },
    {
     "name": "stdout",
     "output_type": "stream",
     "text": [
      "\r",
      "Upgrading database; v3 -> v4: : 0it [00:00, ?it/s]"
     ]
    },
    {
     "name": "stdout",
     "output_type": "stream",
     "text": [
      "\r",
      "Upgrading database; v3 -> v4: : 0it [00:00, ?it/s]"
     ]
    },
    {
     "name": "stdout",
     "output_type": "stream",
     "text": [
      "\n",
      "\r",
      "  0%|          | 0/1 [00:00<?, ?it/s]"
     ]
    },
    {
     "name": "stdout",
     "output_type": "stream",
     "text": [
      "\r",
      "Upgrading database; v4 -> v5:   0%|          | 0/1 [00:00<?, ?it/s]"
     ]
    },
    {
     "name": "stdout",
     "output_type": "stream",
     "text": [
      "\r",
      "Upgrading database; v4 -> v5: 100%|██████████| 1/1 [00:00<00:00, 500.39it/s]"
     ]
    },
    {
     "name": "stdout",
     "output_type": "stream",
     "text": [
      "\n",
      "\r",
      "0it [00:00, ?it/s]"
     ]
    },
    {
     "name": "stdout",
     "output_type": "stream",
     "text": [
      "\r",
      "Upgrading database; v5 -> v6: : 0it [00:00, ?it/s]"
     ]
    },
    {
     "name": "stdout",
     "output_type": "stream",
     "text": [
      "\r",
      "Upgrading database; v5 -> v6: : 0it [00:00, ?it/s]"
     ]
    },
    {
     "name": "stdout",
     "output_type": "stream",
     "text": [
      "\n",
      "\r",
      "  0%|          | 0/1 [00:00<?, ?it/s]"
     ]
    },
    {
     "name": "stdout",
     "output_type": "stream",
     "text": [
      "\r",
      "Upgrading database; v6 -> v7:   0%|          | 0/1 [00:00<?, ?it/s]"
     ]
    },
    {
     "name": "stdout",
     "output_type": "stream",
     "text": [
      "\r",
      "Upgrading database; v6 -> v7: 100%|██████████| 1/1 [00:00<00:00, 264.99it/s]"
     ]
    },
    {
     "name": "stdout",
     "output_type": "stream",
     "text": [
      "\n",
      "\r",
      "  0%|          | 0/1 [00:00<?, ?it/s]"
     ]
    },
    {
     "name": "stdout",
     "output_type": "stream",
     "text": [
      "\r",
      "Upgrading database; v7 -> v8:   0%|          | 0/1 [00:00<?, ?it/s]"
     ]
    },
    {
     "name": "stdout",
     "output_type": "stream",
     "text": [
      "\r",
      "Upgrading database; v7 -> v8: 100%|██████████| 1/1 [00:00<00:00, 354.10it/s]"
     ]
    },
    {
     "name": "stdout",
     "output_type": "stream",
     "text": [
      "\n",
      "\r",
      "  0%|          | 0/1 [00:00<?, ?it/s]"
     ]
    },
    {
     "name": "stdout",
     "output_type": "stream",
     "text": [
      "\r",
      "Upgrading database; v8 -> v9:   0%|          | 0/1 [00:00<?, ?it/s]"
     ]
    },
    {
     "name": "stdout",
     "output_type": "stream",
     "text": [
      "\r",
      "Upgrading database; v8 -> v9: 100%|██████████| 1/1 [00:00<00:00, 365.90it/s]"
     ]
    },
    {
     "name": "stdout",
     "output_type": "stream",
     "text": [
      "\n"
     ]
    }
   ],
   "source": [
    "initialise_database()\n",
    "exp = load_or_create_experiment(experiment_name='tutorial_exp', sample_name=\"no sample\")"
   ]
  },
  {
   "cell_type": "markdown",
   "metadata": {},
   "source": [
    "Here, we define a simple function to benchmark the time it takes to insert n points with either numeric or array data type.\n",
    "We will compare both the time used to call ``add_result`` and the time used for the full measurement."
   ]
  },
  {
   "cell_type": "code",
   "execution_count": 4,
   "metadata": {
    "execution": {
     "iopub.execute_input": "2021-01-27T15:20:50.066038Z",
     "iopub.status.busy": "2021-01-27T15:20:50.065369Z",
     "iopub.status.idle": "2021-01-27T15:20:50.069708Z",
     "shell.execute_reply": "2021-01-27T15:20:50.069010Z"
    }
   },
   "outputs": [],
   "source": [
    "def insert_data(paramtype, npoints, nreps=1):\n",
    "\n",
    "    meas = Measurement(exp=exp)\n",
    "\n",
    "    x1 = ManualParameter('x1')\n",
    "    x2 = ManualParameter('x2')\n",
    "    x3 = ManualParameter('x3')\n",
    "    y1 = ManualParameter('y1')\n",
    "    y2 = ManualParameter('y2')\n",
    "\n",
    "    meas.register_parameter(x1, paramtype=paramtype)\n",
    "    meas.register_parameter(x2, paramtype=paramtype)\n",
    "    meas.register_parameter(x3, paramtype=paramtype)\n",
    "    meas.register_parameter(y1, setpoints=[x1, x2, x3],\n",
    "                            paramtype=paramtype)\n",
    "    meas.register_parameter(y2, setpoints=[x1, x2, x3],\n",
    "                            paramtype=paramtype)\n",
    "    start = time.perf_counter()\n",
    "    with meas.run() as datasaver:\n",
    "        start_adding = time.perf_counter()\n",
    "        for i in range(nreps):\n",
    "            datasaver.add_result((x1, np.random.rand(npoints)),\n",
    "                                 (x2, np.random.rand(npoints)),\n",
    "                                 (x3, np.random.rand(npoints)),\n",
    "                                 (y1, np.random.rand(npoints)),\n",
    "                                 (y2, np.random.rand(npoints)))\n",
    "        stop_adding = time.perf_counter()\n",
    "        run_id = datasaver.run_id\n",
    "    stop = time.perf_counter()\n",
    "    tot_time = stop - start\n",
    "    add_time = stop_adding - start_adding\n",
    "    return tot_time, add_time, run_id"
   ]
  },
  {
   "cell_type": "markdown",
   "metadata": {},
   "source": [
    "## Comparison between numeric/array data and binary blob"
   ]
  },
  {
   "cell_type": "markdown",
   "metadata": {},
   "source": [
    "### Case1: Short experiment time"
   ]
  },
  {
   "cell_type": "code",
   "execution_count": 5,
   "metadata": {
    "execution": {
     "iopub.execute_input": "2021-01-27T15:20:50.077451Z",
     "iopub.status.busy": "2021-01-27T15:20:50.076803Z",
     "iopub.status.idle": "2021-01-27T15:20:51.105654Z",
     "shell.execute_reply": "2021-01-27T15:20:51.103774Z"
    }
   },
   "outputs": [
    {
     "name": "stdout",
     "output_type": "stream",
     "text": [
      "Starting experimental run with id: 1. \n",
      "Starting experimental run with id: 2. \n",
      "Starting experimental run with id: 3. \n"
     ]
    },
    {
     "name": "stdout",
     "output_type": "stream",
     "text": [
      "Starting experimental run with id: 4. \n"
     ]
    },
    {
     "name": "stdout",
     "output_type": "stream",
     "text": [
      "Starting experimental run with id: 5. \n"
     ]
    },
    {
     "name": "stdout",
     "output_type": "stream",
     "text": [
      "Starting experimental run with id: 6. \n"
     ]
    },
    {
     "name": "stdout",
     "output_type": "stream",
     "text": [
      "Starting experimental run with id: 7. \n"
     ]
    },
    {
     "name": "stdout",
     "output_type": "stream",
     "text": [
      "Starting experimental run with id: 8. \n"
     ]
    },
    {
     "name": "stdout",
     "output_type": "stream",
     "text": [
      "Starting experimental run with id: 9. \n"
     ]
    },
    {
     "name": "stdout",
     "output_type": "stream",
     "text": [
      "Starting experimental run with id: 10. \n",
      "Starting experimental run with id: 11. \n"
     ]
    },
    {
     "name": "stdout",
     "output_type": "stream",
     "text": [
      "Starting experimental run with id: 12. \n",
      "Starting experimental run with id: 13. \n"
     ]
    },
    {
     "name": "stdout",
     "output_type": "stream",
     "text": [
      "Starting experimental run with id: 14. \n"
     ]
    }
   ],
   "source": [
    "sizes = [1,500,1000,2000,3000,4000,5000]\n",
    "t_numeric = []\n",
    "t_numeric_add = []\n",
    "t_array = []\n",
    "t_array_add = []\n",
    "for size in sizes:\n",
    "    tn, tna, run_id_n =  insert_data('numeric', size)\n",
    "    t_numeric.append(tn)\n",
    "    t_numeric_add.append(tna)\n",
    "\n",
    "    ta, taa, run_id_a =  insert_data('array', size)\n",
    "    t_array.append(ta)\n",
    "    t_array_add.append(taa)"
   ]
  },
  {
   "cell_type": "code",
   "execution_count": 6,
   "metadata": {
    "execution": {
     "iopub.execute_input": "2021-01-27T15:20:51.128784Z",
     "iopub.status.busy": "2021-01-27T15:20:51.128134Z",
     "iopub.status.idle": "2021-01-27T15:20:51.371664Z",
     "shell.execute_reply": "2021-01-27T15:20:51.372233Z"
    }
   },
   "outputs": [
    {
     "data": {
      "image/png": "[encoded data removed]",
      "text/plain": [
       "<Figure size 432x288 with 1 Axes>"
      ]
     },
     "metadata": {
      "needs_background": "light"
     },
     "output_type": "display_data"
    }
   ],
   "source": [
    "fig, ax = plt.subplots(1,1)\n",
    "ax.plot(sizes, t_numeric, 'o-', label='Inserting row-by-row')\n",
    "ax.plot(sizes, t_numeric_add, 'o-', label='Inserting row-by-row: add_result only')\n",
    "ax.plot(sizes, t_array, 'd-', label='Inserting as binary blob')\n",
    "ax.plot(sizes, t_array_add, 'd-', label='Inserting as binary blob: add_result only')\n",
    "ax.legend()\n",
    "ax.set_xlabel('Array length')\n",
    "ax.set_ylabel('Time (s)')\n",
    "fig.tight_layout()"
   ]
  },
  {
   "cell_type": "markdown",
   "metadata": {},
   "source": [
    "As shown in the latter figure, the time to setup and and close the experiment is approximately 0.4 sec. In case of small array sizes, the difference between inserting values of data as arrays and inserting them row-by-row is relatively unimportant. At larger array sizes, i.e. above 10000 points, the cost of writing data as individual datapoints starts to become important.\n"
   ]
  },
  {
   "cell_type": "markdown",
   "metadata": {},
   "source": [
    "### Case2: Long experiment time "
   ]
  },
  {
   "cell_type": "code",
   "execution_count": 7,
   "metadata": {
    "execution": {
     "iopub.execute_input": "2021-01-27T15:20:51.380426Z",
     "iopub.status.busy": "2021-01-27T15:20:51.379622Z",
     "iopub.status.idle": "2021-01-27T15:21:55.939669Z",
     "shell.execute_reply": "2021-01-27T15:21:55.940353Z"
    }
   },
   "outputs": [
    {
     "name": "stdout",
     "output_type": "stream",
     "text": [
      "Starting experimental run with id: 15. \n",
      "Starting experimental run with id: 16. \n"
     ]
    },
    {
     "name": "stdout",
     "output_type": "stream",
     "text": [
      "Starting experimental run with id: 17. \n"
     ]
    },
    {
     "name": "stdout",
     "output_type": "stream",
     "text": [
      "Starting experimental run with id: 18. \n",
      "Starting experimental run with id: 19. \n"
     ]
    },
    {
     "name": "stdout",
     "output_type": "stream",
     "text": [
      "Starting experimental run with id: 20. \n"
     ]
    },
    {
     "name": "stdout",
     "output_type": "stream",
     "text": [
      "Starting experimental run with id: 21. \n"
     ]
    },
    {
     "name": "stdout",
     "output_type": "stream",
     "text": [
      "Starting experimental run with id: 22. \n"
     ]
    },
    {
     "name": "stdout",
     "output_type": "stream",
     "text": [
      "Starting experimental run with id: 23. \n"
     ]
    },
    {
     "name": "stdout",
     "output_type": "stream",
     "text": [
      "Starting experimental run with id: 24. \n"
     ]
    },
    {
     "name": "stdout",
     "output_type": "stream",
     "text": [
      "Starting experimental run with id: 25. \n"
     ]
    },
    {
     "name": "stdout",
     "output_type": "stream",
     "text": [
      "Starting experimental run with id: 26. \n"
     ]
    },
    {
     "name": "stdout",
     "output_type": "stream",
     "text": [
      "Starting experimental run with id: 27. \n"
     ]
    },
    {
     "name": "stdout",
     "output_type": "stream",
     "text": [
      "Starting experimental run with id: 28. \n"
     ]
    }
   ],
   "source": [
    "sizes = [1,500,1000,2000,3000,4000,5000]\n",
    "nreps = 100\n",
    "t_numeric = []\n",
    "t_numeric_add = []\n",
    "t_numeric_run_ids = []\n",
    "t_array = []\n",
    "t_array_add = []\n",
    "t_array_run_ids = []\n",
    "for size in sizes:\n",
    "    tn, tna, run_id_n =  insert_data('numeric', size, nreps=nreps)\n",
    "    t_numeric.append(tn)\n",
    "    t_numeric_add.append(tna)\n",
    "    t_numeric_run_ids.append(run_id_n)\n",
    "\n",
    "    ta, taa, run_id_a =  insert_data('array', size, nreps=nreps)\n",
    "    t_array.append(ta)\n",
    "    t_array_add.append(taa)\n",
    "    t_array_run_ids.append(run_id_a)"
   ]
  },
  {
   "cell_type": "code",
   "execution_count": 8,
   "metadata": {
    "execution": {
     "iopub.execute_input": "2021-01-27T15:21:55.962660Z",
     "iopub.status.busy": "2021-01-27T15:21:55.959326Z",
     "iopub.status.idle": "2021-01-27T15:21:56.223503Z",
     "shell.execute_reply": "2021-01-27T15:21:56.222834Z"
    },
    "scrolled": true
   },
   "outputs": [
    {
     "data": {
      "image/png": "[encoded data removed]",
      "text/plain": [
       "<Figure size 432x288 with 1 Axes>"
      ]
     },
     "metadata": {
      "needs_background": "light"
     },
     "output_type": "display_data"
    }
   ],
   "source": [
    "fig, ax = plt.subplots(1,1)\n",
    "ax.plot(sizes, t_numeric, 'o-', label='Inserting row-by-row')\n",
    "ax.plot(sizes, t_numeric_add, 'o-', label='Inserting row-by-row: add_result only')\n",
    "ax.plot(sizes, t_array, 'd-', label='Inserting as binary blob')\n",
    "ax.plot(sizes, t_array_add, 'd-', label='Inserting as binary blob: add_result only')\n",
    "ax.legend()\n",
    "ax.set_xlabel('Array length')\n",
    "ax.set_ylabel('Time (s)')\n",
    "fig.tight_layout()"
   ]
  },
  {
   "cell_type": "markdown",
   "metadata": {},
   "source": [
    "However, as we increase the length of the experiment, as seen here by repeating the insertion 100 times, we see a big difference between inserting values of the data row-by-row and inserting it as a binary blob."
   ]
  },
  {
   "cell_type": "markdown",
   "metadata": {},
   "source": [
    "## Loading the data "
   ]
  },
  {
   "cell_type": "code",
   "execution_count": 9,
   "metadata": {
    "execution": {
     "iopub.execute_input": "2021-01-27T15:21:56.229280Z",
     "iopub.status.busy": "2021-01-27T15:21:56.227450Z",
     "iopub.status.idle": "2021-01-27T15:21:56.233386Z",
     "shell.execute_reply": "2021-01-27T15:21:56.232796Z"
    }
   },
   "outputs": [],
   "source": [
    "from qcodes.dataset.data_set import load_by_id\n",
    "from qcodes.dataset.data_export import get_data_by_id"
   ]
  },
  {
   "cell_type": "markdown",
   "metadata": {},
   "source": [
    "As usual you can load the data by using the ``load_by_id`` function but you will notice that the different storage methods\n",
    "are reflected in shape of the data as it is retrieved. "
   ]
  },
  {
   "cell_type": "code",
   "execution_count": 10,
   "metadata": {
    "execution": {
     "iopub.execute_input": "2021-01-27T15:21:56.238621Z",
     "iopub.status.busy": "2021-01-27T15:21:56.237330Z",
     "iopub.status.idle": "2021-01-27T15:21:56.239425Z",
     "shell.execute_reply": "2021-01-27T15:21:56.240077Z"
    }
   },
   "outputs": [],
   "source": [
    "run_id_n = t_numeric_run_ids[0]\n",
    "run_id_a = t_array_run_ids[0]"
   ]
  },
  {
   "cell_type": "code",
   "execution_count": 11,
   "metadata": {
    "execution": {
     "iopub.execute_input": "2021-01-27T15:21:56.244032Z",
     "iopub.status.busy": "2021-01-27T15:21:56.243243Z",
     "iopub.status.idle": "2021-01-27T15:21:56.254135Z",
     "shell.execute_reply": "2021-01-27T15:21:56.254893Z"
    },
    "scrolled": true
   },
   "outputs": [
    {
     "data": {
      "text/plain": [
       "{'x1': {'x1': array([0.04987627, 0.04987627, 0.72324162, 0.72324162, 0.15332887,\n",
       "         0.15332887, 0.50179311, 0.50179311, 0.66764755, 0.66764755,\n",
       "         0.34949375, 0.34949375, 0.27265806, 0.27265806, 0.63302082,\n",
       "         0.63302082, 0.27938568, 0.27938568, 0.10996707, 0.10996707,\n",
       "         0.38879527, 0.38879527, 0.52729432, 0.52729432, 0.0136563 ,\n",
       "         0.0136563 , 0.01668327, 0.01668327, 0.42290376, 0.42290376,\n",
       "         0.40946514, 0.40946514, 0.16000426, 0.16000426, 0.60129583,\n",
       "         0.60129583, 0.960723  , 0.960723  , 0.09998593, 0.09998593,\n",
       "         0.5491053 , 0.5491053 , 0.5057653 , 0.5057653 , 0.00894443,\n",
       "         0.00894443, 0.22894564, 0.22894564, 0.99372326, 0.99372326,\n",
       "         0.79931717, 0.79931717, 0.85399287, 0.85399287, 0.84711018,\n",
       "         0.84711018, 0.19300567, 0.19300567, 0.18685101, 0.18685101,\n",
       "         0.68844943, 0.68844943, 0.82330548, 0.82330548, 0.32186488,\n",
       "         0.32186488, 0.71372275, 0.71372275, 0.43910973, 0.43910973,\n",
       "         0.78888276, 0.78888276, 0.49916807, 0.49916807, 0.23659488,\n",
       "         0.23659488, 0.48959685, 0.48959685, 0.04397247, 0.04397247,\n",
       "         0.45722185, 0.45722185, 0.42931271, 0.42931271, 0.00629028,\n",
       "         0.00629028, 0.4280122 , 0.4280122 , 0.47176828, 0.47176828,\n",
       "         0.25926827, 0.25926827, 0.04714914, 0.04714914, 0.71977569,\n",
       "         0.71977569, 0.39751103, 0.39751103, 0.68912955, 0.68912955,\n",
       "         0.23662782, 0.23662782, 0.52378605, 0.52378605, 0.81411764,\n",
       "         0.81411764, 0.06277177, 0.06277177, 0.07294651, 0.07294651,\n",
       "         0.62476539, 0.62476539, 0.59147582, 0.59147582, 0.29925356,\n",
       "         0.29925356, 0.55743926, 0.55743926, 0.28091782, 0.28091782,\n",
       "         0.66608029, 0.66608029, 0.148152  , 0.148152  , 0.5365976 ,\n",
       "         0.5365976 , 0.88527191, 0.88527191, 0.93674024, 0.93674024,\n",
       "         0.38766857, 0.38766857, 0.55140051, 0.55140051, 0.01664619,\n",
       "         0.01664619, 0.70420474, 0.70420474, 0.40285323, 0.40285323,\n",
       "         0.78678566, 0.78678566, 0.60435783, 0.60435783, 0.02122303,\n",
       "         0.02122303, 0.6306355 , 0.6306355 , 0.86812811, 0.86812811,\n",
       "         0.47760223, 0.47760223, 0.04670291, 0.04670291, 0.97383706,\n",
       "         0.97383706, 0.49163621, 0.49163621, 0.28791533, 0.28791533,\n",
       "         0.95996923, 0.95996923, 0.02267363, 0.02267363, 0.83786606,\n",
       "         0.83786606, 0.95236283, 0.95236283, 0.55919867, 0.55919867,\n",
       "         0.88410398, 0.88410398, 0.24604096, 0.24604096, 0.94535677,\n",
       "         0.94535677, 0.10682247, 0.10682247, 0.11625   , 0.11625   ,\n",
       "         0.15470937, 0.15470937, 0.1976374 , 0.1976374 , 0.53954206,\n",
       "         0.53954206, 0.51896336, 0.51896336, 0.69677458, 0.69677458,\n",
       "         0.94323951, 0.94323951, 0.89517093, 0.89517093, 0.46122121,\n",
       "         0.46122121, 0.26407847, 0.26407847, 0.63951395, 0.63951395])}}"
      ]
     },
     "execution_count": 1,
     "metadata": {},
     "output_type": "execute_result"
    }
   ],
   "source": [
    "ds = load_by_id(run_id_n)\n",
    "ds.get_parameter_data('x1')"
   ]
  },
  {
   "cell_type": "markdown",
   "metadata": {},
   "source": [
    "And a dataset stored as binary arrays"
   ]
  },
  {
   "cell_type": "code",
   "execution_count": 12,
   "metadata": {
    "execution": {
     "iopub.execute_input": "2021-01-27T15:21:56.259269Z",
     "iopub.status.busy": "2021-01-27T15:21:56.258501Z",
     "iopub.status.idle": "2021-01-27T15:21:56.326225Z",
     "shell.execute_reply": "2021-01-27T15:21:56.326832Z"
    },
    "scrolled": true
   },
   "outputs": [
    {
     "data": {
      "text/plain": [
       "{'x1': {'x1': array([[0.00810037],\n",
       "         [0.00810037],\n",
       "         [0.6595782 ],\n",
       "         [0.6595782 ],\n",
       "         [0.94504188],\n",
       "         [0.94504188],\n",
       "         [0.86023457],\n",
       "         [0.86023457],\n",
       "         [0.74765436],\n",
       "         [0.74765436],\n",
       "         [0.62824908],\n",
       "         [0.62824908],\n",
       "         [0.027792  ],\n",
       "         [0.027792  ],\n",
       "         [0.19655386],\n",
       "         [0.19655386],\n",
       "         [0.68840682],\n",
       "         [0.68840682],\n",
       "         [0.37416011],\n",
       "         [0.37416011],\n",
       "         [0.53638384],\n",
       "         [0.53638384],\n",
       "         [0.80980811],\n",
       "         [0.80980811],\n",
       "         [0.76851858],\n",
       "         [0.76851858],\n",
       "         [0.49473577],\n",
       "         [0.49473577],\n",
       "         [0.20659218],\n",
       "         [0.20659218],\n",
       "         [0.99032296],\n",
       "         [0.99032296],\n",
       "         [0.45906364],\n",
       "         [0.45906364],\n",
       "         [0.03048951],\n",
       "         [0.03048951],\n",
       "         [0.68280116],\n",
       "         [0.68280116],\n",
       "         [0.43533845],\n",
       "         [0.43533845],\n",
       "         [0.37607324],\n",
       "         [0.37607324],\n",
       "         [0.23490177],\n",
       "         [0.23490177],\n",
       "         [0.7951705 ],\n",
       "         [0.7951705 ],\n",
       "         [0.32028293],\n",
       "         [0.32028293],\n",
       "         [0.28333268],\n",
       "         [0.28333268],\n",
       "         [0.31497385],\n",
       "         [0.31497385],\n",
       "         [0.14088302],\n",
       "         [0.14088302],\n",
       "         [0.00933367],\n",
       "         [0.00933367],\n",
       "         [0.42780839],\n",
       "         [0.42780839],\n",
       "         [0.60319049],\n",
       "         [0.60319049],\n",
       "         [0.7827994 ],\n",
       "         [0.7827994 ],\n",
       "         [0.04696976],\n",
       "         [0.04696976],\n",
       "         [0.12923786],\n",
       "         [0.12923786],\n",
       "         [0.41041716],\n",
       "         [0.41041716],\n",
       "         [0.47599254],\n",
       "         [0.47599254],\n",
       "         [0.42020938],\n",
       "         [0.42020938],\n",
       "         [0.02998264],\n",
       "         [0.02998264],\n",
       "         [0.0031313 ],\n",
       "         [0.0031313 ],\n",
       "         [0.27895512],\n",
       "         [0.27895512],\n",
       "         [0.86098823],\n",
       "         [0.86098823],\n",
       "         [0.70152197],\n",
       "         [0.70152197],\n",
       "         [0.93757068],\n",
       "         [0.93757068],\n",
       "         [0.14658208],\n",
       "         [0.14658208],\n",
       "         [0.31164556],\n",
       "         [0.31164556],\n",
       "         [0.96266847],\n",
       "         [0.96266847],\n",
       "         [0.18305251],\n",
       "         [0.18305251],\n",
       "         [0.13679061],\n",
       "         [0.13679061],\n",
       "         [0.80440101],\n",
       "         [0.80440101],\n",
       "         [0.00638481],\n",
       "         [0.00638481],\n",
       "         [0.32210793],\n",
       "         [0.32210793],\n",
       "         [0.48097616],\n",
       "         [0.48097616],\n",
       "         [0.01752102],\n",
       "         [0.01752102],\n",
       "         [0.82109248],\n",
       "         [0.82109248],\n",
       "         [0.87314315],\n",
       "         [0.87314315],\n",
       "         [0.7050699 ],\n",
       "         [0.7050699 ],\n",
       "         [0.48272216],\n",
       "         [0.48272216],\n",
       "         [0.92083479],\n",
       "         [0.92083479],\n",
       "         [0.85661471],\n",
       "         [0.85661471],\n",
       "         [0.12802883],\n",
       "         [0.12802883],\n",
       "         [0.53110384],\n",
       "         [0.53110384],\n",
       "         [0.04993203],\n",
       "         [0.04993203],\n",
       "         [0.48173045],\n",
       "         [0.48173045],\n",
       "         [0.6755141 ],\n",
       "         [0.6755141 ],\n",
       "         [0.6261938 ],\n",
       "         [0.6261938 ],\n",
       "         [0.29149717],\n",
       "         [0.29149717],\n",
       "         [0.87304156],\n",
       "         [0.87304156],\n",
       "         [0.16806049],\n",
       "         [0.16806049],\n",
       "         [0.78174772],\n",
       "         [0.78174772],\n",
       "         [0.51751302],\n",
       "         [0.51751302],\n",
       "         [0.92458373],\n",
       "         [0.92458373],\n",
       "         [0.24960879],\n",
       "         [0.24960879],\n",
       "         [0.90417297],\n",
       "         [0.90417297],\n",
       "         [0.45699051],\n",
       "         [0.45699051],\n",
       "         [0.52024406],\n",
       "         [0.52024406],\n",
       "         [0.93269139],\n",
       "         [0.93269139],\n",
       "         [0.66426466],\n",
       "         [0.66426466],\n",
       "         [0.27991475],\n",
       "         [0.27991475],\n",
       "         [0.9437609 ],\n",
       "         [0.9437609 ],\n",
       "         [0.90383112],\n",
       "         [0.90383112],\n",
       "         [0.38513171],\n",
       "         [0.38513171],\n",
       "         [0.18947721],\n",
       "         [0.18947721],\n",
       "         [0.4144848 ],\n",
       "         [0.4144848 ],\n",
       "         [0.87473432],\n",
       "         [0.87473432],\n",
       "         [0.70889807],\n",
       "         [0.70889807],\n",
       "         [0.88007925],\n",
       "         [0.88007925],\n",
       "         [0.73137522],\n",
       "         [0.73137522],\n",
       "         [0.44521119],\n",
       "         [0.44521119],\n",
       "         [0.15374615],\n",
       "         [0.15374615],\n",
       "         [0.65007229],\n",
       "         [0.65007229],\n",
       "         [0.42145392],\n",
       "         [0.42145392],\n",
       "         [0.77281063],\n",
       "         [0.77281063],\n",
       "         [0.83754291],\n",
       "         [0.83754291],\n",
       "         [0.80145965],\n",
       "         [0.80145965],\n",
       "         [0.16880922],\n",
       "         [0.16880922],\n",
       "         [0.26168402],\n",
       "         [0.26168402],\n",
       "         [0.21913354],\n",
       "         [0.21913354],\n",
       "         [0.02417855],\n",
       "         [0.02417855],\n",
       "         [0.76977466],\n",
       "         [0.76977466],\n",
       "         [0.5363404 ],\n",
       "         [0.5363404 ],\n",
       "         [0.29301805],\n",
       "         [0.29301805]])}}"
      ]
     },
     "execution_count": 1,
     "metadata": {},
     "output_type": "execute_result"
    }
   ],
   "source": [
    "ds = load_by_id(run_id_a)\n",
    "ds.get_parameter_data('x1')"
   ]
  },
  {
   "cell_type": "code",
   "execution_count": null,
   "metadata": {},
   "outputs": [],
   "source": []
  }
 ],
 "metadata": {
  "kernelspec": {
   "display_name": "Python 3",
   "language": "python",
   "name": "python3"
  },
  "language_info": {
   "codemirror_mode": {
    "name": "ipython",
    "version": 3
   },
   "file_extension": ".py",
   "mimetype": "text/x-python",
   "name": "python",
   "nbconvert_exporter": "python",
   "pygments_lexer": "ipython3",
   "version": "3.7.9"
  },
  "nbsphinx": {
   "timeout": 600
  },
  "toc": {
   "base_numbering": 1,
   "nav_menu": {},
   "number_sections": true,
   "sideBar": true,
   "skip_h1_title": false,
   "title_cell": "Table of Contents",
   "title_sidebar": "Contents",
   "toc_cell": false,
   "toc_position": {},
   "toc_section_display": true,
   "toc_window_display": false
  },
  "varInspector": {
   "cols": {
    "lenName": 16,
    "lenType": 16,
    "lenVar": 40
   },
   "kernels_config": {
    "python": {
     "delete_cmd_postfix": "",
     "delete_cmd_prefix": "del ",
     "library": "var_list.py",
     "varRefreshCmd": "print(var_dic_list())"
    },
    "r": {
     "delete_cmd_postfix": ") ",
     "delete_cmd_prefix": "rm(",
     "library": "var_list.r",
     "varRefreshCmd": "cat(var_dic_list()) "
    }
   },
   "types_to_exclude": [
    "module",
    "function",
    "builtin_function_or_method",
    "instance",
    "_Feature"
   ],
   "window_display": false
  }
 },
 "nbformat": 4,
 "nbformat_minor": 2
}
