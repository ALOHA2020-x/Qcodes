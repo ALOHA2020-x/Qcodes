{
 "cells": [
  {
   "cell_type": "markdown",
   "metadata": {},
   "source": [
    "# DataSet Performance\n",
    "\n",
    "This notebook shows the trade-off between inserting data into a database row-by-row and as binary blobs. Inserting the data row-by-row means that we have direct access to all the data and may perform queries directly on the values of the data. On the other hand, as we shall see, this is much slower than inserting the data directly as binary blobs."
   ]
  },
  {
   "cell_type": "markdown",
   "metadata": {},
   "source": [
    "First, we choose a new location for the database to ensure that we don't add a bunch of benchmarking data to the default one."
   ]
  },
  {
   "cell_type": "code",
   "execution_count": 1,
   "metadata": {},
   "outputs": [
    {
     "name": "stdout",
     "output_type": "stream",
     "text": [
      "Logging hadn't been started.\n",
      "Activating auto-logging. Current session state plus future input saved.\n",
      "Filename       : /home/vsts/.qcodes/logs/command_history.log\n",
      "Mode           : append\n",
      "Output logging : True\n",
      "Raw input log  : False\n",
      "Timestamping   : True\n",
      "State          : active\n"
     ]
    },
    {
     "name": "stdout",
     "output_type": "stream",
     "text": [
      "Qcodes Logfile : /home/vsts/.qcodes/logs/200812-19150-qcodes.log\n"
     ]
    }
   ],
   "source": [
    "import os\n",
    "cwd = os.getcwd()\n",
    "import qcodes as qc\n",
    "qc.config[\"core\"][\"db_location\"] = os.path.join(cwd, 'testing.db')\n"
   ]
  },
  {
   "cell_type": "code",
   "execution_count": 2,
   "metadata": {},
   "outputs": [],
   "source": [
    "%matplotlib inline\n",
    "import time\n",
    "import matplotlib.pyplot as plt\n",
    "import numpy as np\n",
    "\n",
    "import qcodes as qc\n",
    "from qcodes.instrument.parameter import ManualParameter\n",
    "from qcodes.dataset.experiment_container import (Experiment,\n",
    "                                                 load_last_experiment,\n",
    "                                                 new_experiment)\n",
    "from qcodes.dataset.sqlite.database import initialise_database\n",
    "from qcodes import load_or_create_experiment\n",
    "from qcodes.dataset.measurements import Measurement"
   ]
  },
  {
   "cell_type": "code",
   "execution_count": 3,
   "metadata": {},
   "outputs": [
    {
     "name": "stdout",
     "output_type": "stream",
     "text": [
      "\r",
      "0it [00:00, ?it/s]"
     ]
    },
    {
     "name": "stdout",
     "output_type": "stream",
     "text": [
      "\r",
      "Upgrading database; v0 -> v1: : 0it [00:00, ?it/s]"
     ]
    },
    {
     "name": "stdout",
     "output_type": "stream",
     "text": [
      "\r",
      "Upgrading database; v0 -> v1: : 0it [00:00, ?it/s]"
     ]
    },
    {
     "name": "stdout",
     "output_type": "stream",
     "text": [
      "\n",
      "\r",
      "  0%|          | 0/1 [00:00<?, ?it/s]"
     ]
    },
    {
     "name": "stdout",
     "output_type": "stream",
     "text": [
      "\r",
      "Upgrading database; v1 -> v2:   0%|          | 0/1 [00:00<?, ?it/s]"
     ]
    },
    {
     "name": "stdout",
     "output_type": "stream",
     "text": [
      "\r",
      "Upgrading database; v1 -> v2: 100%|██████████| 1/1 [00:00<00:00, 743.28it/s]"
     ]
    },
    {
     "name": "stdout",
     "output_type": "stream",
     "text": [
      "\n",
      "\r",
      "0it [00:00, ?it/s]"
     ]
    },
    {
     "name": "stdout",
     "output_type": "stream",
     "text": [
      "\r",
      "Upgrading database; v2 -> v3: : 0it [00:00, ?it/s]"
     ]
    },
    {
     "name": "stdout",
     "output_type": "stream",
     "text": [
      "\r",
      "Upgrading database; v2 -> v3: : 0it [00:00, ?it/s]"
     ]
    },
    {
     "name": "stdout",
     "output_type": "stream",
     "text": [
      "\n",
      "\r",
      "0it [00:00, ?it/s]"
     ]
    },
    {
     "name": "stdout",
     "output_type": "stream",
     "text": [
      "\r",
      "Upgrading database; v3 -> v4: : 0it [00:00, ?it/s]"
     ]
    },
    {
     "name": "stdout",
     "output_type": "stream",
     "text": [
      "\r",
      "Upgrading database; v3 -> v4: : 0it [00:00, ?it/s]"
     ]
    },
    {
     "name": "stdout",
     "output_type": "stream",
     "text": [
      "\n",
      "\r",
      "  0%|          | 0/1 [00:00<?, ?it/s]"
     ]
    },
    {
     "name": "stdout",
     "output_type": "stream",
     "text": [
      "\r",
      "Upgrading database; v4 -> v5:   0%|          | 0/1 [00:00<?, ?it/s]"
     ]
    },
    {
     "name": "stdout",
     "output_type": "stream",
     "text": [
      "\r",
      "Upgrading database; v4 -> v5: 100%|██████████| 1/1 [00:00<00:00, 635.69it/s]"
     ]
    },
    {
     "name": "stdout",
     "output_type": "stream",
     "text": [
      "\n",
      "\r",
      "0it [00:00, ?it/s]"
     ]
    },
    {
     "name": "stdout",
     "output_type": "stream",
     "text": [
      "\r",
      "Upgrading database; v5 -> v6: : 0it [00:00, ?it/s]"
     ]
    },
    {
     "name": "stdout",
     "output_type": "stream",
     "text": [
      "\r",
      "Upgrading database; v5 -> v6: : 0it [00:00, ?it/s]"
     ]
    },
    {
     "name": "stdout",
     "output_type": "stream",
     "text": [
      "\n",
      "\r",
      "  0%|          | 0/1 [00:00<?, ?it/s]"
     ]
    },
    {
     "name": "stdout",
     "output_type": "stream",
     "text": [
      "\r",
      "Upgrading database; v6 -> v7:   0%|          | 0/1 [00:00<?, ?it/s]"
     ]
    },
    {
     "name": "stdout",
     "output_type": "stream",
     "text": [
      "\r",
      "Upgrading database; v6 -> v7: 100%|██████████| 1/1 [00:00<00:00, 362.42it/s]"
     ]
    },
    {
     "name": "stdout",
     "output_type": "stream",
     "text": [
      "\n",
      "\r",
      "  0%|          | 0/1 [00:00<?, ?it/s]"
     ]
    },
    {
     "name": "stdout",
     "output_type": "stream",
     "text": [
      "\r",
      "Upgrading database; v7 -> v8:   0%|          | 0/1 [00:00<?, ?it/s]"
     ]
    },
    {
     "name": "stdout",
     "output_type": "stream",
     "text": [
      "\r",
      "Upgrading database; v7 -> v8: 100%|██████████| 1/1 [00:00<00:00, 599.36it/s]"
     ]
    },
    {
     "name": "stdout",
     "output_type": "stream",
     "text": [
      "\n",
      "\r",
      "  0%|          | 0/1 [00:00<?, ?it/s]"
     ]
    },
    {
     "name": "stdout",
     "output_type": "stream",
     "text": [
      "\r",
      "Upgrading database; v8 -> v9:   0%|          | 0/1 [00:00<?, ?it/s]"
     ]
    },
    {
     "name": "stdout",
     "output_type": "stream",
     "text": [
      "\r",
      "Upgrading database; v8 -> v9: 100%|██████████| 1/1 [00:00<00:00, 669.27it/s]"
     ]
    },
    {
     "name": "stdout",
     "output_type": "stream",
     "text": [
      "\n"
     ]
    }
   ],
   "source": [
    "initialise_database()\n",
    "exp = load_or_create_experiment(experiment_name='tutorial_exp', sample_name=\"no sample\")"
   ]
  },
  {
   "cell_type": "markdown",
   "metadata": {},
   "source": [
    "Here, we define a simple function to benchmark the time it takes to insert n points with either numeric or array data type.\n",
    "We will compare both the time used to call ``add_result`` and the time used for the full measurement."
   ]
  },
  {
   "cell_type": "code",
   "execution_count": 4,
   "metadata": {},
   "outputs": [],
   "source": [
    "def insert_data(paramtype, npoints, nreps=1):\n",
    "\n",
    "    meas = Measurement(exp=exp)\n",
    "\n",
    "    x1 = ManualParameter('x1')\n",
    "    x2 = ManualParameter('x2')\n",
    "    x3 = ManualParameter('x3')\n",
    "    y1 = ManualParameter('y1')\n",
    "    y2 = ManualParameter('y2')\n",
    "\n",
    "    meas.register_parameter(x1, paramtype=paramtype)\n",
    "    meas.register_parameter(x2, paramtype=paramtype)\n",
    "    meas.register_parameter(x3, paramtype=paramtype)\n",
    "    meas.register_parameter(y1, setpoints=[x1, x2, x3],\n",
    "                            paramtype=paramtype)\n",
    "    meas.register_parameter(y2, setpoints=[x1, x2, x3],\n",
    "                            paramtype=paramtype)\n",
    "    start = time.perf_counter()\n",
    "    with meas.run() as datasaver:\n",
    "        start_adding = time.perf_counter()\n",
    "        for i in range(nreps):\n",
    "            datasaver.add_result((x1, np.random.rand(npoints)),\n",
    "                                 (x2, np.random.rand(npoints)),\n",
    "                                 (x3, np.random.rand(npoints)),\n",
    "                                 (y1, np.random.rand(npoints)),\n",
    "                                 (y2, np.random.rand(npoints)))\n",
    "        stop_adding = time.perf_counter()\n",
    "        run_id = datasaver.run_id\n",
    "    stop = time.perf_counter()\n",
    "    tot_time = stop - start\n",
    "    add_time = stop_adding - start_adding\n",
    "    return tot_time, add_time, run_id"
   ]
  },
  {
   "cell_type": "markdown",
   "metadata": {},
   "source": [
    "## Comparison between numeric/array data and binary blob"
   ]
  },
  {
   "cell_type": "markdown",
   "metadata": {},
   "source": [
    "### Case1: Short experiment time"
   ]
  },
  {
   "cell_type": "code",
   "execution_count": 5,
   "metadata": {},
   "outputs": [
    {
     "name": "stdout",
     "output_type": "stream",
     "text": [
      "Starting experimental run with id: 1. \n",
      "Starting experimental run with id: 2. \n",
      "Starting experimental run with id: 3. \n"
     ]
    },
    {
     "name": "stdout",
     "output_type": "stream",
     "text": [
      "Starting experimental run with id: 4. \n"
     ]
    },
    {
     "name": "stdout",
     "output_type": "stream",
     "text": [
      "Starting experimental run with id: 5. \n"
     ]
    },
    {
     "name": "stdout",
     "output_type": "stream",
     "text": [
      "Starting experimental run with id: 6. \n",
      "Starting experimental run with id: 7. \n",
      "Starting experimental run with id: 8. \n"
     ]
    },
    {
     "name": "stdout",
     "output_type": "stream",
     "text": [
      "Starting experimental run with id: 9. \n"
     ]
    },
    {
     "name": "stdout",
     "output_type": "stream",
     "text": [
      "Starting experimental run with id: 10. \n",
      "Starting experimental run with id: 11. \n"
     ]
    },
    {
     "name": "stdout",
     "output_type": "stream",
     "text": [
      "Starting experimental run with id: 12. \n",
      "Starting experimental run with id: 13. \n"
     ]
    },
    {
     "name": "stdout",
     "output_type": "stream",
     "text": [
      "Starting experimental run with id: 14. \n"
     ]
    }
   ],
   "source": [
    "sizes = [1,500,1000,2000,3000,4000,5000]\n",
    "t_numeric = []\n",
    "t_numeric_add = []\n",
    "t_array = []\n",
    "t_array_add = []\n",
    "for size in sizes:\n",
    "    tn, tna, run_id_n =  insert_data('numeric', size)\n",
    "    t_numeric.append(tn)\n",
    "    t_numeric_add.append(tna)\n",
    "\n",
    "    ta, taa, run_id_a =  insert_data('array', size)\n",
    "    t_array.append(ta)\n",
    "    t_array_add.append(taa)"
   ]
  },
  {
   "cell_type": "code",
   "execution_count": 6,
   "metadata": {},
   "outputs": [
    {
     "data": {
      "image/png": "[encoded data removed]",
      "text/plain": [
       "<Figure size 432x288 with 1 Axes>"
      ]
     },
     "metadata": {
      "needs_background": "light"
     },
     "output_type": "display_data"
    }
   ],
   "source": [
    "fig, ax = plt.subplots(1,1)\n",
    "ax.plot(sizes, t_numeric, 'o-', label='Inserting row-by-row')\n",
    "ax.plot(sizes, t_numeric_add, 'o-', label='Inserting row-by-row: add_result only')\n",
    "ax.plot(sizes, t_array, 'd-', label='Inserting as binary blob')\n",
    "ax.plot(sizes, t_array_add, 'd-', label='Inserting as binary blob: add_result only')\n",
    "ax.legend()\n",
    "ax.set_xlabel('Array length')\n",
    "ax.set_ylabel('Time (s)')\n",
    "fig.tight_layout()"
   ]
  },
  {
   "cell_type": "markdown",
   "metadata": {},
   "source": [
    "As shown in the latter figure, the time to setup and and close the experiment is approximately 0.4 sec. In case of small array sizes, the difference between inserting values of data as arrays and inserting them row-by-row is relatively unimportant. At larger array sizes, i.e. above 10000 points, the cost of writing data as individual datapoints starts to become important.\n"
   ]
  },
  {
   "cell_type": "markdown",
   "metadata": {},
   "source": [
    "### Case2: Long experiment time "
   ]
  },
  {
   "cell_type": "code",
   "execution_count": 7,
   "metadata": {},
   "outputs": [
    {
     "name": "stdout",
     "output_type": "stream",
     "text": [
      "Starting experimental run with id: 15. \n",
      "Starting experimental run with id: 16. \n",
      "Starting experimental run with id: 17. \n"
     ]
    },
    {
     "name": "stdout",
     "output_type": "stream",
     "text": [
      "Starting experimental run with id: 18. \n",
      "Starting experimental run with id: 19. \n"
     ]
    },
    {
     "name": "stdout",
     "output_type": "stream",
     "text": [
      "Starting experimental run with id: 20. \n"
     ]
    },
    {
     "name": "stdout",
     "output_type": "stream",
     "text": [
      "Starting experimental run with id: 21. \n"
     ]
    },
    {
     "name": "stdout",
     "output_type": "stream",
     "text": [
      "Starting experimental run with id: 22. \n"
     ]
    },
    {
     "name": "stdout",
     "output_type": "stream",
     "text": [
      "Starting experimental run with id: 23. \n"
     ]
    },
    {
     "name": "stdout",
     "output_type": "stream",
     "text": [
      "Starting experimental run with id: 24. \n"
     ]
    },
    {
     "name": "stdout",
     "output_type": "stream",
     "text": [
      "Starting experimental run with id: 25. \n"
     ]
    },
    {
     "name": "stdout",
     "output_type": "stream",
     "text": [
      "Starting experimental run with id: 26. \n"
     ]
    },
    {
     "name": "stdout",
     "output_type": "stream",
     "text": [
      "Starting experimental run with id: 27. \n"
     ]
    },
    {
     "name": "stdout",
     "output_type": "stream",
     "text": [
      "Starting experimental run with id: 28. \n"
     ]
    }
   ],
   "source": [
    "sizes = [1,500,1000,2000,3000,4000,5000]\n",
    "nreps = 100\n",
    "t_numeric = []\n",
    "t_numeric_add = []\n",
    "t_numeric_run_ids = []\n",
    "t_array = []\n",
    "t_array_add = []\n",
    "t_array_run_ids = []\n",
    "for size in sizes:\n",
    "    tn, tna, run_id_n =  insert_data('numeric', size, nreps=nreps)\n",
    "    t_numeric.append(tn)\n",
    "    t_numeric_add.append(tna)\n",
    "    t_numeric_run_ids.append(run_id_n)\n",
    "\n",
    "    ta, taa, run_id_a =  insert_data('array', size, nreps=nreps)\n",
    "    t_array.append(ta)\n",
    "    t_array_add.append(taa)\n",
    "    t_array_run_ids.append(run_id_a)"
   ]
  },
  {
   "cell_type": "code",
   "execution_count": 8,
   "metadata": {
    "scrolled": true
   },
   "outputs": [
    {
     "data": {
      "image/png": "[encoded data removed]",
      "text/plain": [
       "<Figure size 432x288 with 1 Axes>"
      ]
     },
     "metadata": {
      "needs_background": "light"
     },
     "output_type": "display_data"
    }
   ],
   "source": [
    "fig, ax = plt.subplots(1,1)\n",
    "ax.plot(sizes, t_numeric, 'o-', label='Inserting row-by-row')\n",
    "ax.plot(sizes, t_numeric_add, 'o-', label='Inserting row-by-row: add_result only')\n",
    "ax.plot(sizes, t_array, 'd-', label='Inserting as binary blob')\n",
    "ax.plot(sizes, t_array_add, 'd-', label='Inserting as binary blob: add_result only')\n",
    "ax.legend()\n",
    "ax.set_xlabel('Array length')\n",
    "ax.set_ylabel('Time (s)')\n",
    "fig.tight_layout()"
   ]
  },
  {
   "cell_type": "markdown",
   "metadata": {},
   "source": [
    "However, as we increase the length of the experiment, as seen here by repeating the insertion 100 times, we see a big difference between inserting values of the data row-by-row and inserting it as a binary blob."
   ]
  },
  {
   "cell_type": "markdown",
   "metadata": {},
   "source": [
    "## Loading the data "
   ]
  },
  {
   "cell_type": "code",
   "execution_count": 9,
   "metadata": {},
   "outputs": [],
   "source": [
    "from qcodes.dataset.data_set import load_by_id\n",
    "from qcodes.dataset.data_export import get_data_by_id"
   ]
  },
  {
   "cell_type": "markdown",
   "metadata": {},
   "source": [
    "As usual you can load the data by using the ``load_by_id`` function but you will notice that the different storage methods\n",
    "are reflected in shape of the data as it is retrieved. "
   ]
  },
  {
   "cell_type": "code",
   "execution_count": 10,
   "metadata": {},
   "outputs": [],
   "source": [
    "run_id_n = t_numeric_run_ids[0]\n",
    "run_id_a = t_array_run_ids[0]"
   ]
  },
  {
   "cell_type": "code",
   "execution_count": 11,
   "metadata": {
    "scrolled": true
   },
   "outputs": [
    {
     "data": {
      "text/plain": [
       "{'x1': {'x1': array([0.83736386, 0.83736386, 0.33309321, 0.33309321, 0.61917697,\n",
       "         0.61917697, 0.53324721, 0.53324721, 0.73677972, 0.73677972,\n",
       "         0.37914207, 0.37914207, 0.95214625, 0.95214625, 0.40556653,\n",
       "         0.40556653, 0.33389708, 0.33389708, 0.08701381, 0.08701381,\n",
       "         0.56555599, 0.56555599, 0.15099153, 0.15099153, 0.20578326,\n",
       "         0.20578326, 0.58583281, 0.58583281, 0.8474502 , 0.8474502 ,\n",
       "         0.14522324, 0.14522324, 0.89687314, 0.89687314, 0.40052423,\n",
       "         0.40052423, 0.42767848, 0.42767848, 0.51629902, 0.51629902,\n",
       "         0.84202281, 0.84202281, 0.51688944, 0.51688944, 0.90359966,\n",
       "         0.90359966, 0.74931353, 0.74931353, 0.99038318, 0.99038318,\n",
       "         0.21409156, 0.21409156, 0.34710963, 0.34710963, 0.72946239,\n",
       "         0.72946239, 0.32784254, 0.32784254, 0.59156221, 0.59156221,\n",
       "         0.92038792, 0.92038792, 0.98232653, 0.98232653, 0.49832918,\n",
       "         0.49832918, 0.177263  , 0.177263  , 0.94770803, 0.94770803,\n",
       "         0.98984524, 0.98984524, 0.6496216 , 0.6496216 , 0.61058671,\n",
       "         0.61058671, 0.08945719, 0.08945719, 0.71735634, 0.71735634,\n",
       "         0.76660205, 0.76660205, 0.20518773, 0.20518773, 0.84713305,\n",
       "         0.84713305, 0.02203816, 0.02203816, 0.38565303, 0.38565303,\n",
       "         0.91888138, 0.91888138, 0.11944086, 0.11944086, 0.7951932 ,\n",
       "         0.7951932 , 0.49790653, 0.49790653, 0.03062245, 0.03062245,\n",
       "         0.51615266, 0.51615266, 0.09093671, 0.09093671, 0.92552066,\n",
       "         0.92552066, 0.69654548, 0.69654548, 0.45585646, 0.45585646,\n",
       "         0.32727452, 0.32727452, 0.60835614, 0.60835614, 0.0955993 ,\n",
       "         0.0955993 , 0.44765085, 0.44765085, 0.05467146, 0.05467146,\n",
       "         0.01495735, 0.01495735, 0.01576292, 0.01576292, 0.835064  ,\n",
       "         0.835064  , 0.13156612, 0.13156612, 0.78491778, 0.78491778,\n",
       "         0.10192149, 0.10192149, 0.10080098, 0.10080098, 0.46702876,\n",
       "         0.46702876, 0.4068679 , 0.4068679 , 0.66856605, 0.66856605,\n",
       "         0.04835486, 0.04835486, 0.95255012, 0.95255012, 0.38335443,\n",
       "         0.38335443, 0.82121259, 0.82121259, 0.09354292, 0.09354292,\n",
       "         0.50963745, 0.50963745, 0.02654354, 0.02654354, 0.21128979,\n",
       "         0.21128979, 0.00263289, 0.00263289, 0.81305158, 0.81305158,\n",
       "         0.34427737, 0.34427737, 0.33456748, 0.33456748, 0.79430245,\n",
       "         0.79430245, 0.35647706, 0.35647706, 0.39121939, 0.39121939,\n",
       "         0.25263478, 0.25263478, 0.15553471, 0.15553471, 0.11057974,\n",
       "         0.11057974, 0.83856188, 0.83856188, 0.21348416, 0.21348416,\n",
       "         0.94283746, 0.94283746, 0.26176673, 0.26176673, 0.438763  ,\n",
       "         0.438763  , 0.713267  , 0.713267  , 0.17347542, 0.17347542,\n",
       "         0.51020132, 0.51020132, 0.70063809, 0.70063809, 0.08211145,\n",
       "         0.08211145, 0.73501706, 0.73501706, 0.77365944, 0.77365944])}}"
      ]
     },
     "execution_count": 11,
     "metadata": {},
     "output_type": "execute_result"
    }
   ],
   "source": [
    "ds = load_by_id(run_id_n)\n",
    "ds.get_parameter_data('x1')"
   ]
  },
  {
   "cell_type": "markdown",
   "metadata": {},
   "source": [
    "And a dataset stored as binary arrays"
   ]
  },
  {
   "cell_type": "code",
   "execution_count": 12,
   "metadata": {
    "scrolled": true
   },
   "outputs": [
    {
     "data": {
      "text/plain": [
       "{'x1': {'x1': array([[0.93289574],\n",
       "         [0.93289574],\n",
       "         [0.05775926],\n",
       "         [0.05775926],\n",
       "         [0.3986161 ],\n",
       "         [0.3986161 ],\n",
       "         [0.25731487],\n",
       "         [0.25731487],\n",
       "         [0.98040646],\n",
       "         [0.98040646],\n",
       "         [0.66158701],\n",
       "         [0.66158701],\n",
       "         [0.66900976],\n",
       "         [0.66900976],\n",
       "         [0.32207192],\n",
       "         [0.32207192],\n",
       "         [0.60611956],\n",
       "         [0.60611956],\n",
       "         [0.88054205],\n",
       "         [0.88054205],\n",
       "         [0.54453594],\n",
       "         [0.54453594],\n",
       "         [0.14677284],\n",
       "         [0.14677284],\n",
       "         [0.70669208],\n",
       "         [0.70669208],\n",
       "         [0.4636451 ],\n",
       "         [0.4636451 ],\n",
       "         [0.75030708],\n",
       "         [0.75030708],\n",
       "         [0.83344813],\n",
       "         [0.83344813],\n",
       "         [0.90489106],\n",
       "         [0.90489106],\n",
       "         [0.9335498 ],\n",
       "         [0.9335498 ],\n",
       "         [0.58063195],\n",
       "         [0.58063195],\n",
       "         [0.80054851],\n",
       "         [0.80054851],\n",
       "         [0.83879069],\n",
       "         [0.83879069],\n",
       "         [0.35096974],\n",
       "         [0.35096974],\n",
       "         [0.23398682],\n",
       "         [0.23398682],\n",
       "         [0.23979996],\n",
       "         [0.23979996],\n",
       "         [0.74100842],\n",
       "         [0.74100842],\n",
       "         [0.82348084],\n",
       "         [0.82348084],\n",
       "         [0.65684958],\n",
       "         [0.65684958],\n",
       "         [0.83371824],\n",
       "         [0.83371824],\n",
       "         [0.88598838],\n",
       "         [0.88598838],\n",
       "         [0.92992849],\n",
       "         [0.92992849],\n",
       "         [0.4097909 ],\n",
       "         [0.4097909 ],\n",
       "         [0.80959022],\n",
       "         [0.80959022],\n",
       "         [0.78617482],\n",
       "         [0.78617482],\n",
       "         [0.28469976],\n",
       "         [0.28469976],\n",
       "         [0.00564775],\n",
       "         [0.00564775],\n",
       "         [0.82722887],\n",
       "         [0.82722887],\n",
       "         [0.19037113],\n",
       "         [0.19037113],\n",
       "         [0.85287129],\n",
       "         [0.85287129],\n",
       "         [0.88761357],\n",
       "         [0.88761357],\n",
       "         [0.45969454],\n",
       "         [0.45969454],\n",
       "         [0.29843201],\n",
       "         [0.29843201],\n",
       "         [0.46837469],\n",
       "         [0.46837469],\n",
       "         [0.14260185],\n",
       "         [0.14260185],\n",
       "         [0.7242771 ],\n",
       "         [0.7242771 ],\n",
       "         [0.91862476],\n",
       "         [0.91862476],\n",
       "         [0.77217862],\n",
       "         [0.77217862],\n",
       "         [0.03375843],\n",
       "         [0.03375843],\n",
       "         [0.73773933],\n",
       "         [0.73773933],\n",
       "         [0.60769849],\n",
       "         [0.60769849],\n",
       "         [0.45467115],\n",
       "         [0.45467115],\n",
       "         [0.36776415],\n",
       "         [0.36776415],\n",
       "         [0.70840018],\n",
       "         [0.70840018],\n",
       "         [0.17288021],\n",
       "         [0.17288021],\n",
       "         [0.13807438],\n",
       "         [0.13807438],\n",
       "         [0.53960658],\n",
       "         [0.53960658],\n",
       "         [0.41993171],\n",
       "         [0.41993171],\n",
       "         [0.99452456],\n",
       "         [0.99452456],\n",
       "         [0.01417163],\n",
       "         [0.01417163],\n",
       "         [0.12739953],\n",
       "         [0.12739953],\n",
       "         [0.26856246],\n",
       "         [0.26856246],\n",
       "         [0.90473475],\n",
       "         [0.90473475],\n",
       "         [0.92853695],\n",
       "         [0.92853695],\n",
       "         [0.185691  ],\n",
       "         [0.185691  ],\n",
       "         [0.34984377],\n",
       "         [0.34984377],\n",
       "         [0.93285982],\n",
       "         [0.93285982],\n",
       "         [0.17161169],\n",
       "         [0.17161169],\n",
       "         [0.82434948],\n",
       "         [0.82434948],\n",
       "         [0.89630196],\n",
       "         [0.89630196],\n",
       "         [0.85098477],\n",
       "         [0.85098477],\n",
       "         [0.56688021],\n",
       "         [0.56688021],\n",
       "         [0.96756481],\n",
       "         [0.96756481],\n",
       "         [0.09030977],\n",
       "         [0.09030977],\n",
       "         [0.08716238],\n",
       "         [0.08716238],\n",
       "         [0.29585458],\n",
       "         [0.29585458],\n",
       "         [0.27770689],\n",
       "         [0.27770689],\n",
       "         [0.29418584],\n",
       "         [0.29418584],\n",
       "         [0.34224289],\n",
       "         [0.34224289],\n",
       "         [0.43065655],\n",
       "         [0.43065655],\n",
       "         [0.18912216],\n",
       "         [0.18912216],\n",
       "         [0.4228535 ],\n",
       "         [0.4228535 ],\n",
       "         [0.1344385 ],\n",
       "         [0.1344385 ],\n",
       "         [0.10735917],\n",
       "         [0.10735917],\n",
       "         [0.3248726 ],\n",
       "         [0.3248726 ],\n",
       "         [0.27674094],\n",
       "         [0.27674094],\n",
       "         [0.67017736],\n",
       "         [0.67017736],\n",
       "         [0.12899891],\n",
       "         [0.12899891],\n",
       "         [0.02530914],\n",
       "         [0.02530914],\n",
       "         [0.99239578],\n",
       "         [0.99239578],\n",
       "         [0.12541046],\n",
       "         [0.12541046],\n",
       "         [0.15580814],\n",
       "         [0.15580814],\n",
       "         [0.59191971],\n",
       "         [0.59191971],\n",
       "         [0.03202288],\n",
       "         [0.03202288],\n",
       "         [0.19717559],\n",
       "         [0.19717559],\n",
       "         [0.8827435 ],\n",
       "         [0.8827435 ],\n",
       "         [0.75107673],\n",
       "         [0.75107673],\n",
       "         [0.57414894],\n",
       "         [0.57414894],\n",
       "         [0.97916633],\n",
       "         [0.97916633],\n",
       "         [0.44461387],\n",
       "         [0.44461387],\n",
       "         [0.63210572],\n",
       "         [0.63210572],\n",
       "         [0.63576222],\n",
       "         [0.63576222]])}}"
      ]
     },
     "execution_count": 12,
     "metadata": {},
     "output_type": "execute_result"
    }
   ],
   "source": [
    "ds = load_by_id(run_id_a)\n",
    "ds.get_parameter_data('x1')"
   ]
  },
  {
   "cell_type": "code",
   "execution_count": null,
   "metadata": {},
   "outputs": [],
   "source": []
  }
 ],
 "metadata": {
  "kernelspec": {
   "display_name": "Python 3",
   "language": "python",
   "name": "python3"
  },
  "language_info": {
   "codemirror_mode": {
    "name": "ipython",
    "version": 3
   },
   "file_extension": ".py",
   "mimetype": "text/x-python",
   "name": "python",
   "nbconvert_exporter": "python",
   "pygments_lexer": "ipython3",
   "version": "3.7.7"
  },
  "nbsphinx": {
   "timeout": 600
  },
  "toc": {
   "base_numbering": 1,
   "nav_menu": {},
   "number_sections": true,
   "sideBar": true,
   "skip_h1_title": false,
   "title_cell": "Table of Contents",
   "title_sidebar": "Contents",
   "toc_cell": false,
   "toc_position": {},
   "toc_section_display": true,
   "toc_window_display": false
  },
  "varInspector": {
   "cols": {
    "lenName": 16,
    "lenType": 16,
    "lenVar": 40
   },
   "kernels_config": {
    "python": {
     "delete_cmd_postfix": "",
     "delete_cmd_prefix": "del ",
     "library": "var_list.py",
     "varRefreshCmd": "print(var_dic_list())"
    },
    "r": {
     "delete_cmd_postfix": ") ",
     "delete_cmd_prefix": "rm(",
     "library": "var_list.r",
     "varRefreshCmd": "cat(var_dic_list()) "
    }
   },
   "types_to_exclude": [
    "module",
    "function",
    "builtin_function_or_method",
    "instance",
    "_Feature"
   ],
   "window_display": false
  }
 },
 "nbformat": 4,
 "nbformat_minor": 2
}
