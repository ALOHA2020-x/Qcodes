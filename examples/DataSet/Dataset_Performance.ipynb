{
 "cells": [
  {
   "cell_type": "markdown",
   "metadata": {},
   "source": [
    "# DataSet Performance\n",
    "\n",
    "This notebook shows the trade-off between inserting data into a database row-by-row and as binary blobs. Inserting the data row-by-row means that we have direct access to all the data and may perform queries directly on the values of the data. On the other hand, as we shall see, this is much slower than inserting the data directly as binary blobs."
   ]
  },
  {
   "cell_type": "markdown",
   "metadata": {},
   "source": [
    "First, we choose a new location for the database to ensure that we don't add a bunch of benchmarking data to the default one."
   ]
  },
  {
   "cell_type": "code",
   "execution_count": 1,
   "metadata": {
    "execution": {
     "iopub.execute_input": "2021-05-17T15:20:33.879292Z",
     "iopub.status.busy": "2021-05-17T15:20:33.878717Z",
     "iopub.status.idle": "2021-05-17T15:20:35.228437Z",
     "shell.execute_reply": "2021-05-17T15:20:35.227760Z"
    }
   },
   "outputs": [
    {
     "name": "stdout",
     "output_type": "stream",
     "text": [
      "Logging hadn't been started.\n",
      "Activating auto-logging. Current session state plus future input saved.\n",
      "Filename       : /home/runner/.qcodes/logs/command_history.log\n",
      "Mode           : append\n",
      "Output logging : True\n",
      "Raw input log  : False\n",
      "Timestamping   : True\n",
      "State          : active\n"
     ]
    },
    {
     "name": "stdout",
     "output_type": "stream",
     "text": [
      "Qcodes Logfile : /home/runner/.qcodes/logs/210517-4443-qcodes.log\n"
     ]
    }
   ],
   "source": [
    "import os\n",
    "cwd = os.getcwd()\n",
    "import qcodes as qc\n",
    "qc.config[\"core\"][\"db_location\"] = os.path.join(cwd, 'testing.db')\n"
   ]
  },
  {
   "cell_type": "code",
   "execution_count": 2,
   "metadata": {
    "execution": {
     "iopub.execute_input": "2021-05-17T15:20:35.235998Z",
     "iopub.status.busy": "2021-05-17T15:20:35.234694Z",
     "iopub.status.idle": "2021-05-17T15:20:35.470302Z",
     "shell.execute_reply": "2021-05-17T15:20:35.470934Z"
    }
   },
   "outputs": [],
   "source": [
    "%matplotlib inline\n",
    "import time\n",
    "import matplotlib.pyplot as plt\n",
    "import numpy as np\n",
    "\n",
    "import qcodes as qc\n",
    "from qcodes.instrument.parameter import ManualParameter\n",
    "from qcodes.dataset.experiment_container import (Experiment,\n",
    "                                                 load_last_experiment,\n",
    "                                                 new_experiment)\n",
    "from qcodes.dataset.sqlite.database import initialise_database\n",
    "from qcodes import load_or_create_experiment\n",
    "from qcodes.dataset.measurements import Measurement"
   ]
  },
  {
   "cell_type": "code",
   "execution_count": 3,
   "metadata": {
    "execution": {
     "iopub.execute_input": "2021-05-17T15:20:35.475452Z",
     "iopub.status.busy": "2021-05-17T15:20:35.474532Z",
     "iopub.status.idle": "2021-05-17T15:20:35.560822Z",
     "shell.execute_reply": "2021-05-17T15:20:35.561644Z"
    }
   },
   "outputs": [
    {
     "name": "stdout",
     "output_type": "stream",
     "text": [
      "\r",
      "0it [00:00, ?it/s]"
     ]
    },
    {
     "name": "stdout",
     "output_type": "stream",
     "text": [
      "\r",
      "Upgrading database; v0 -> v1: : 0it [00:00, ?it/s]"
     ]
    },
    {
     "name": "stdout",
     "output_type": "stream",
     "text": [
      "\r",
      "Upgrading database; v0 -> v1: : 0it [00:00, ?it/s]"
     ]
    },
    {
     "name": "stdout",
     "output_type": "stream",
     "text": [
      "\n",
      "\r",
      "  0%|          | 0/1 [00:00<?, ?it/s]"
     ]
    },
    {
     "name": "stdout",
     "output_type": "stream",
     "text": [
      "\r",
      "Upgrading database; v1 -> v2:   0%|          | 0/1 [00:00<?, ?it/s]"
     ]
    },
    {
     "name": "stdout",
     "output_type": "stream",
     "text": [
      "\r",
      "Upgrading database; v1 -> v2: 100%|██████████| 1/1 [00:00<00:00, 442.72it/s]"
     ]
    },
    {
     "name": "stdout",
     "output_type": "stream",
     "text": [
      "\n",
      "\r",
      "0it [00:00, ?it/s]"
     ]
    },
    {
     "name": "stdout",
     "output_type": "stream",
     "text": [
      "\r",
      "Upgrading database; v2 -> v3: : 0it [00:00, ?it/s]"
     ]
    },
    {
     "name": "stdout",
     "output_type": "stream",
     "text": [
      "\r",
      "Upgrading database; v2 -> v3: : 0it [00:00, ?it/s]"
     ]
    },
    {
     "name": "stdout",
     "output_type": "stream",
     "text": [
      "\n",
      "\r",
      "0it [00:00, ?it/s]"
     ]
    },
    {
     "name": "stdout",
     "output_type": "stream",
     "text": [
      "\r",
      "Upgrading database; v3 -> v4: : 0it [00:00, ?it/s]"
     ]
    },
    {
     "name": "stdout",
     "output_type": "stream",
     "text": [
      "\r",
      "Upgrading database; v3 -> v4: : 0it [00:00, ?it/s]"
     ]
    },
    {
     "name": "stdout",
     "output_type": "stream",
     "text": [
      "\n",
      "\r",
      "  0%|          | 0/1 [00:00<?, ?it/s]"
     ]
    },
    {
     "name": "stdout",
     "output_type": "stream",
     "text": [
      "\r",
      "Upgrading database; v4 -> v5:   0%|          | 0/1 [00:00<?, ?it/s]"
     ]
    },
    {
     "name": "stdout",
     "output_type": "stream",
     "text": [
      "\r",
      "Upgrading database; v4 -> v5: 100%|██████████| 1/1 [00:00<00:00, 393.57it/s]"
     ]
    },
    {
     "name": "stdout",
     "output_type": "stream",
     "text": [
      "\n",
      "\r",
      "0it [00:00, ?it/s]"
     ]
    },
    {
     "name": "stdout",
     "output_type": "stream",
     "text": [
      "\r",
      "Upgrading database; v5 -> v6: : 0it [00:00, ?it/s]"
     ]
    },
    {
     "name": "stdout",
     "output_type": "stream",
     "text": [
      "\r",
      "Upgrading database; v5 -> v6: : 0it [00:00, ?it/s]"
     ]
    },
    {
     "name": "stdout",
     "output_type": "stream",
     "text": [
      "\n",
      "\r",
      "  0%|          | 0/1 [00:00<?, ?it/s]"
     ]
    },
    {
     "name": "stdout",
     "output_type": "stream",
     "text": [
      "\r",
      "Upgrading database; v6 -> v7:   0%|          | 0/1 [00:00<?, ?it/s]"
     ]
    },
    {
     "name": "stdout",
     "output_type": "stream",
     "text": [
      "\r",
      "Upgrading database; v6 -> v7: 100%|██████████| 1/1 [00:00<00:00, 404.11it/s]"
     ]
    },
    {
     "name": "stdout",
     "output_type": "stream",
     "text": [
      "\n",
      "\r",
      "  0%|          | 0/1 [00:00<?, ?it/s]"
     ]
    },
    {
     "name": "stdout",
     "output_type": "stream",
     "text": [
      "\r",
      "Upgrading database; v7 -> v8:   0%|          | 0/1 [00:00<?, ?it/s]"
     ]
    },
    {
     "name": "stdout",
     "output_type": "stream",
     "text": [
      "\r",
      "Upgrading database; v7 -> v8: 100%|██████████| 1/1 [00:00<00:00, 512.38it/s]"
     ]
    },
    {
     "name": "stdout",
     "output_type": "stream",
     "text": [
      "\n",
      "\r",
      "  0%|          | 0/1 [00:00<?, ?it/s]"
     ]
    },
    {
     "name": "stdout",
     "output_type": "stream",
     "text": [
      "\r",
      "Upgrading database; v8 -> v9:   0%|          | 0/1 [00:00<?, ?it/s]"
     ]
    },
    {
     "name": "stdout",
     "output_type": "stream",
     "text": [
      "\r",
      "Upgrading database; v8 -> v9: 100%|██████████| 1/1 [00:00<00:00, 214.32it/s]"
     ]
    },
    {
     "name": "stdout",
     "output_type": "stream",
     "text": [
      "\n"
     ]
    }
   ],
   "source": [
    "initialise_database()\n",
    "exp = load_or_create_experiment(experiment_name='tutorial_exp', sample_name=\"no sample\")"
   ]
  },
  {
   "cell_type": "markdown",
   "metadata": {},
   "source": [
    "Here, we define a simple function to benchmark the time it takes to insert n points with either numeric or array data type.\n",
    "We will compare both the time used to call ``add_result`` and the time used for the full measurement."
   ]
  },
  {
   "cell_type": "code",
   "execution_count": 4,
   "metadata": {
    "execution": {
     "iopub.execute_input": "2021-05-17T15:20:35.572403Z",
     "iopub.status.busy": "2021-05-17T15:20:35.570282Z",
     "iopub.status.idle": "2021-05-17T15:20:35.574454Z",
     "shell.execute_reply": "2021-05-17T15:20:35.574990Z"
    }
   },
   "outputs": [],
   "source": [
    "def insert_data(paramtype, npoints, nreps=1):\n",
    "\n",
    "    meas = Measurement(exp=exp)\n",
    "\n",
    "    x1 = ManualParameter('x1')\n",
    "    x2 = ManualParameter('x2')\n",
    "    x3 = ManualParameter('x3')\n",
    "    y1 = ManualParameter('y1')\n",
    "    y2 = ManualParameter('y2')\n",
    "\n",
    "    meas.register_parameter(x1, paramtype=paramtype)\n",
    "    meas.register_parameter(x2, paramtype=paramtype)\n",
    "    meas.register_parameter(x3, paramtype=paramtype)\n",
    "    meas.register_parameter(y1, setpoints=[x1, x2, x3],\n",
    "                            paramtype=paramtype)\n",
    "    meas.register_parameter(y2, setpoints=[x1, x2, x3],\n",
    "                            paramtype=paramtype)\n",
    "    start = time.perf_counter()\n",
    "    with meas.run() as datasaver:\n",
    "        start_adding = time.perf_counter()\n",
    "        for i in range(nreps):\n",
    "            datasaver.add_result((x1, np.random.rand(npoints)),\n",
    "                                 (x2, np.random.rand(npoints)),\n",
    "                                 (x3, np.random.rand(npoints)),\n",
    "                                 (y1, np.random.rand(npoints)),\n",
    "                                 (y2, np.random.rand(npoints)))\n",
    "        stop_adding = time.perf_counter()\n",
    "        run_id = datasaver.run_id\n",
    "    stop = time.perf_counter()\n",
    "    tot_time = stop - start\n",
    "    add_time = stop_adding - start_adding\n",
    "    return tot_time, add_time, run_id"
   ]
  },
  {
   "cell_type": "markdown",
   "metadata": {},
   "source": [
    "## Comparison between numeric/array data and binary blob"
   ]
  },
  {
   "cell_type": "markdown",
   "metadata": {},
   "source": [
    "### Case1: Short experiment time"
   ]
  },
  {
   "cell_type": "code",
   "execution_count": 5,
   "metadata": {
    "execution": {
     "iopub.execute_input": "2021-05-17T15:20:35.582820Z",
     "iopub.status.busy": "2021-05-17T15:20:35.581069Z",
     "iopub.status.idle": "2021-05-17T15:20:36.463798Z",
     "shell.execute_reply": "2021-05-17T15:20:36.464723Z"
    }
   },
   "outputs": [
    {
     "name": "stdout",
     "output_type": "stream",
     "text": [
      "Starting experimental run with id: 1. \n",
      "Starting experimental run with id: 2. \n",
      "Starting experimental run with id: 3. \n"
     ]
    },
    {
     "name": "stdout",
     "output_type": "stream",
     "text": [
      "Starting experimental run with id: 4. \n"
     ]
    },
    {
     "name": "stdout",
     "output_type": "stream",
     "text": [
      "Starting experimental run with id: 5. \n"
     ]
    },
    {
     "name": "stdout",
     "output_type": "stream",
     "text": [
      "Starting experimental run with id: 6. \n",
      "Starting experimental run with id: 7. \n",
      "Starting experimental run with id: 8. \n"
     ]
    },
    {
     "name": "stdout",
     "output_type": "stream",
     "text": [
      "Starting experimental run with id: 9. \n"
     ]
    },
    {
     "name": "stdout",
     "output_type": "stream",
     "text": [
      "Starting experimental run with id: 10. \n",
      "Starting experimental run with id: 11. \n"
     ]
    },
    {
     "name": "stdout",
     "output_type": "stream",
     "text": [
      "Starting experimental run with id: 12. \n",
      "Starting experimental run with id: 13. \n"
     ]
    },
    {
     "name": "stdout",
     "output_type": "stream",
     "text": [
      "Starting experimental run with id: 14. \n"
     ]
    }
   ],
   "source": [
    "sizes = [1,500,1000,2000,3000,4000,5000]\n",
    "t_numeric = []\n",
    "t_numeric_add = []\n",
    "t_array = []\n",
    "t_array_add = []\n",
    "for size in sizes:\n",
    "    tn, tna, run_id_n =  insert_data('numeric', size)\n",
    "    t_numeric.append(tn)\n",
    "    t_numeric_add.append(tna)\n",
    "\n",
    "    ta, taa, run_id_a =  insert_data('array', size)\n",
    "    t_array.append(ta)\n",
    "    t_array_add.append(taa)"
   ]
  },
  {
   "cell_type": "code",
   "execution_count": 6,
   "metadata": {
    "execution": {
     "iopub.execute_input": "2021-05-17T15:20:36.470342Z",
     "iopub.status.busy": "2021-05-17T15:20:36.469705Z",
     "iopub.status.idle": "2021-05-17T15:20:36.775341Z",
     "shell.execute_reply": "2021-05-17T15:20:36.774686Z"
    }
   },
   "outputs": [
    {
     "data": {
      "image/png": "[encoded data removed]",
      "text/plain": [
       "<Figure size 432x288 with 1 Axes>"
      ]
     },
     "metadata": {
      "needs_background": "light"
     },
     "output_type": "display_data"
    }
   ],
   "source": [
    "fig, ax = plt.subplots(1,1)\n",
    "ax.plot(sizes, t_numeric, 'o-', label='Inserting row-by-row')\n",
    "ax.plot(sizes, t_numeric_add, 'o-', label='Inserting row-by-row: add_result only')\n",
    "ax.plot(sizes, t_array, 'd-', label='Inserting as binary blob')\n",
    "ax.plot(sizes, t_array_add, 'd-', label='Inserting as binary blob: add_result only')\n",
    "ax.legend()\n",
    "ax.set_xlabel('Array length')\n",
    "ax.set_ylabel('Time (s)')\n",
    "fig.tight_layout()"
   ]
  },
  {
   "cell_type": "markdown",
   "metadata": {},
   "source": [
    "As shown in the latter figure, the time to setup and and close the experiment is approximately 0.4 sec. In case of small array sizes, the difference between inserting values of data as arrays and inserting them row-by-row is relatively unimportant. At larger array sizes, i.e. above 10000 points, the cost of writing data as individual datapoints starts to become important.\n"
   ]
  },
  {
   "cell_type": "markdown",
   "metadata": {},
   "source": [
    "### Case2: Long experiment time "
   ]
  },
  {
   "cell_type": "code",
   "execution_count": 7,
   "metadata": {
    "execution": {
     "iopub.execute_input": "2021-05-17T15:20:36.839640Z",
     "iopub.status.busy": "2021-05-17T15:20:36.783330Z",
     "iopub.status.idle": "2021-05-17T15:21:36.188023Z",
     "shell.execute_reply": "2021-05-17T15:21:36.187381Z"
    }
   },
   "outputs": [
    {
     "name": "stdout",
     "output_type": "stream",
     "text": [
      "Starting experimental run with id: 15. \n",
      "Starting experimental run with id: 16. \n"
     ]
    },
    {
     "name": "stdout",
     "output_type": "stream",
     "text": [
      "Starting experimental run with id: 17. \n"
     ]
    },
    {
     "name": "stdout",
     "output_type": "stream",
     "text": [
      "Starting experimental run with id: 18. \n"
     ]
    },
    {
     "name": "stdout",
     "output_type": "stream",
     "text": [
      "Starting experimental run with id: 19. \n"
     ]
    },
    {
     "name": "stdout",
     "output_type": "stream",
     "text": [
      "Starting experimental run with id: 20. \n"
     ]
    },
    {
     "name": "stdout",
     "output_type": "stream",
     "text": [
      "Starting experimental run with id: 21. \n"
     ]
    },
    {
     "name": "stdout",
     "output_type": "stream",
     "text": [
      "Starting experimental run with id: 22. \n"
     ]
    },
    {
     "name": "stdout",
     "output_type": "stream",
     "text": [
      "Starting experimental run with id: 23. \n"
     ]
    },
    {
     "name": "stdout",
     "output_type": "stream",
     "text": [
      "Starting experimental run with id: 24. \n"
     ]
    },
    {
     "name": "stdout",
     "output_type": "stream",
     "text": [
      "Starting experimental run with id: 25. \n"
     ]
    },
    {
     "name": "stdout",
     "output_type": "stream",
     "text": [
      "Starting experimental run with id: 26. \n"
     ]
    },
    {
     "name": "stdout",
     "output_type": "stream",
     "text": [
      "Starting experimental run with id: 27. \n"
     ]
    },
    {
     "name": "stdout",
     "output_type": "stream",
     "text": [
      "Starting experimental run with id: 28. \n"
     ]
    }
   ],
   "source": [
    "sizes = [1,500,1000,2000,3000,4000,5000]\n",
    "nreps = 100\n",
    "t_numeric = []\n",
    "t_numeric_add = []\n",
    "t_numeric_run_ids = []\n",
    "t_array = []\n",
    "t_array_add = []\n",
    "t_array_run_ids = []\n",
    "for size in sizes:\n",
    "    tn, tna, run_id_n =  insert_data('numeric', size, nreps=nreps)\n",
    "    t_numeric.append(tn)\n",
    "    t_numeric_add.append(tna)\n",
    "    t_numeric_run_ids.append(run_id_n)\n",
    "\n",
    "    ta, taa, run_id_a =  insert_data('array', size, nreps=nreps)\n",
    "    t_array.append(ta)\n",
    "    t_array_add.append(taa)\n",
    "    t_array_run_ids.append(run_id_a)"
   ]
  },
  {
   "cell_type": "code",
   "execution_count": 8,
   "metadata": {
    "execution": {
     "iopub.execute_input": "2021-05-17T15:21:36.243819Z",
     "iopub.status.busy": "2021-05-17T15:21:36.228952Z",
     "iopub.status.idle": "2021-05-17T15:21:36.476526Z",
     "shell.execute_reply": "2021-05-17T15:21:36.475719Z"
    },
    "scrolled": true
   },
   "outputs": [
    {
     "data": {
      "image/png": "[encoded data removed]",
      "text/plain": [
       "<Figure size 432x288 with 1 Axes>"
      ]
     },
     "metadata": {
      "needs_background": "light"
     },
     "output_type": "display_data"
    }
   ],
   "source": [
    "fig, ax = plt.subplots(1,1)\n",
    "ax.plot(sizes, t_numeric, 'o-', label='Inserting row-by-row')\n",
    "ax.plot(sizes, t_numeric_add, 'o-', label='Inserting row-by-row: add_result only')\n",
    "ax.plot(sizes, t_array, 'd-', label='Inserting as binary blob')\n",
    "ax.plot(sizes, t_array_add, 'd-', label='Inserting as binary blob: add_result only')\n",
    "ax.legend()\n",
    "ax.set_xlabel('Array length')\n",
    "ax.set_ylabel('Time (s)')\n",
    "fig.tight_layout()"
   ]
  },
  {
   "cell_type": "markdown",
   "metadata": {},
   "source": [
    "However, as we increase the length of the experiment, as seen here by repeating the insertion 100 times, we see a big difference between inserting values of the data row-by-row and inserting it as a binary blob."
   ]
  },
  {
   "cell_type": "markdown",
   "metadata": {},
   "source": [
    "## Loading the data "
   ]
  },
  {
   "cell_type": "code",
   "execution_count": 9,
   "metadata": {
    "execution": {
     "iopub.execute_input": "2021-05-17T15:21:36.483190Z",
     "iopub.status.busy": "2021-05-17T15:21:36.481736Z",
     "iopub.status.idle": "2021-05-17T15:21:36.484023Z",
     "shell.execute_reply": "2021-05-17T15:21:36.484579Z"
    }
   },
   "outputs": [],
   "source": [
    "from qcodes.dataset.data_set import load_by_id"
   ]
  },
  {
   "cell_type": "markdown",
   "metadata": {},
   "source": [
    "As usual you can load the data by using the ``load_by_id`` function but you will notice that the different storage methods\n",
    "are reflected in shape of the data as it is retrieved. "
   ]
  },
  {
   "cell_type": "code",
   "execution_count": 10,
   "metadata": {
    "execution": {
     "iopub.execute_input": "2021-05-17T15:21:36.490491Z",
     "iopub.status.busy": "2021-05-17T15:21:36.488806Z",
     "iopub.status.idle": "2021-05-17T15:21:36.491322Z",
     "shell.execute_reply": "2021-05-17T15:21:36.491860Z"
    }
   },
   "outputs": [],
   "source": [
    "run_id_n = t_numeric_run_ids[0]\n",
    "run_id_a = t_array_run_ids[0]"
   ]
  },
  {
   "cell_type": "code",
   "execution_count": 11,
   "metadata": {
    "execution": {
     "iopub.execute_input": "2021-05-17T15:21:36.495973Z",
     "iopub.status.busy": "2021-05-17T15:21:36.495339Z",
     "iopub.status.idle": "2021-05-17T15:21:36.506983Z",
     "shell.execute_reply": "2021-05-17T15:21:36.506258Z"
    },
    "scrolled": true
   },
   "outputs": [
    {
     "data": {
      "text/plain": [
       "{'x1': {'x1': array([0.19988334, 0.19988334, 0.15304598, 0.15304598, 0.3239871 ,\n",
       "         0.3239871 , 0.89130404, 0.89130404, 0.08911558, 0.08911558,\n",
       "         0.29942172, 0.29942172, 0.5214015 , 0.5214015 , 0.19722349,\n",
       "         0.19722349, 0.87611297, 0.87611297, 0.47422998, 0.47422998,\n",
       "         0.25373738, 0.25373738, 0.34555764, 0.34555764, 0.4423535 ,\n",
       "         0.4423535 , 0.09363276, 0.09363276, 0.30447643, 0.30447643,\n",
       "         0.0700982 , 0.0700982 , 0.268642  , 0.268642  , 0.97835392,\n",
       "         0.97835392, 0.24138503, 0.24138503, 0.42035164, 0.42035164,\n",
       "         0.1257361 , 0.1257361 , 0.60924066, 0.60924066, 0.06615442,\n",
       "         0.06615442, 0.94222378, 0.94222378, 0.67650532, 0.67650532,\n",
       "         0.4677677 , 0.4677677 , 0.32338969, 0.32338969, 0.58396499,\n",
       "         0.58396499, 0.69990877, 0.69990877, 0.9731838 , 0.9731838 ,\n",
       "         0.57488791, 0.57488791, 0.61731809, 0.61731809, 0.09542113,\n",
       "         0.09542113, 0.71598906, 0.71598906, 0.58429963, 0.58429963,\n",
       "         0.14308315, 0.14308315, 0.79153133, 0.79153133, 0.6841764 ,\n",
       "         0.6841764 , 0.63367596, 0.63367596, 0.50931366, 0.50931366,\n",
       "         0.18030929, 0.18030929, 0.76616589, 0.76616589, 0.53012592,\n",
       "         0.53012592, 0.47289526, 0.47289526, 0.20788531, 0.20788531,\n",
       "         0.79052791, 0.79052791, 0.83577973, 0.83577973, 0.69921819,\n",
       "         0.69921819, 0.55438003, 0.55438003, 0.94432555, 0.94432555,\n",
       "         0.43548547, 0.43548547, 0.49943712, 0.49943712, 0.73611704,\n",
       "         0.73611704, 0.36768295, 0.36768295, 0.70285492, 0.70285492,\n",
       "         0.17284374, 0.17284374, 0.23199208, 0.23199208, 0.12531155,\n",
       "         0.12531155, 0.88511184, 0.88511184, 0.33268348, 0.33268348,\n",
       "         0.65826321, 0.65826321, 0.2095135 , 0.2095135 , 0.60766226,\n",
       "         0.60766226, 0.11583105, 0.11583105, 0.48911772, 0.48911772,\n",
       "         0.85038071, 0.85038071, 0.76730109, 0.76730109, 0.53284257,\n",
       "         0.53284257, 0.04003322, 0.04003322, 0.24264958, 0.24264958,\n",
       "         0.57386994, 0.57386994, 0.77116714, 0.77116714, 0.5898912 ,\n",
       "         0.5898912 , 0.59209092, 0.59209092, 0.87101274, 0.87101274,\n",
       "         0.04173659, 0.04173659, 0.22753855, 0.22753855, 0.74314555,\n",
       "         0.74314555, 0.98909126, 0.98909126, 0.15780763, 0.15780763,\n",
       "         0.63547452, 0.63547452, 0.11630808, 0.11630808, 0.66007749,\n",
       "         0.66007749, 0.05066453, 0.05066453, 0.99454312, 0.99454312,\n",
       "         0.38342518, 0.38342518, 0.44548674, 0.44548674, 0.82073168,\n",
       "         0.82073168, 0.2835829 , 0.2835829 , 0.81226162, 0.81226162,\n",
       "         0.80889823, 0.80889823, 0.415707  , 0.415707  , 0.54587324,\n",
       "         0.54587324, 0.45087383, 0.45087383, 0.12248817, 0.12248817,\n",
       "         0.12465181, 0.12465181, 0.39301303, 0.39301303, 0.85171261,\n",
       "         0.85171261, 0.68359246, 0.68359246, 0.64530516, 0.64530516])}}"
      ]
     },
     "execution_count": 1,
     "metadata": {},
     "output_type": "execute_result"
    }
   ],
   "source": [
    "ds = load_by_id(run_id_n)\n",
    "ds.get_parameter_data('x1')"
   ]
  },
  {
   "cell_type": "markdown",
   "metadata": {},
   "source": [
    "And a dataset stored as binary arrays"
   ]
  },
  {
   "cell_type": "code",
   "execution_count": 12,
   "metadata": {
    "execution": {
     "iopub.execute_input": "2021-05-17T15:21:36.510995Z",
     "iopub.status.busy": "2021-05-17T15:21:36.510319Z",
     "iopub.status.idle": "2021-05-17T15:21:36.579891Z",
     "shell.execute_reply": "2021-05-17T15:21:36.580496Z"
    },
    "scrolled": true
   },
   "outputs": [
    {
     "data": {
      "text/plain": [
       "{'x1': {'x1': array([[0.35909776],\n",
       "         [0.35909776],\n",
       "         [0.40515489],\n",
       "         [0.40515489],\n",
       "         [0.92768521],\n",
       "         [0.92768521],\n",
       "         [0.67899292],\n",
       "         [0.67899292],\n",
       "         [0.47139042],\n",
       "         [0.47139042],\n",
       "         [0.59265672],\n",
       "         [0.59265672],\n",
       "         [0.92228452],\n",
       "         [0.92228452],\n",
       "         [0.07564586],\n",
       "         [0.07564586],\n",
       "         [0.18449847],\n",
       "         [0.18449847],\n",
       "         [0.04361814],\n",
       "         [0.04361814],\n",
       "         [0.25031745],\n",
       "         [0.25031745],\n",
       "         [0.52901927],\n",
       "         [0.52901927],\n",
       "         [0.34460175],\n",
       "         [0.34460175],\n",
       "         [0.57031953],\n",
       "         [0.57031953],\n",
       "         [0.34374471],\n",
       "         [0.34374471],\n",
       "         [0.85795501],\n",
       "         [0.85795501],\n",
       "         [0.6583615 ],\n",
       "         [0.6583615 ],\n",
       "         [0.06149747],\n",
       "         [0.06149747],\n",
       "         [0.27918227],\n",
       "         [0.27918227],\n",
       "         [0.12800933],\n",
       "         [0.12800933],\n",
       "         [0.08093304],\n",
       "         [0.08093304],\n",
       "         [0.83385161],\n",
       "         [0.83385161],\n",
       "         [0.6233526 ],\n",
       "         [0.6233526 ],\n",
       "         [0.37369747],\n",
       "         [0.37369747],\n",
       "         [0.53765082],\n",
       "         [0.53765082],\n",
       "         [0.5819518 ],\n",
       "         [0.5819518 ],\n",
       "         [0.94928897],\n",
       "         [0.94928897],\n",
       "         [0.20336537],\n",
       "         [0.20336537],\n",
       "         [0.75425561],\n",
       "         [0.75425561],\n",
       "         [0.23556453],\n",
       "         [0.23556453],\n",
       "         [0.38579442],\n",
       "         [0.38579442],\n",
       "         [0.33320248],\n",
       "         [0.33320248],\n",
       "         [0.28287672],\n",
       "         [0.28287672],\n",
       "         [0.21769061],\n",
       "         [0.21769061],\n",
       "         [0.60727298],\n",
       "         [0.60727298],\n",
       "         [0.8202641 ],\n",
       "         [0.8202641 ],\n",
       "         [0.6359895 ],\n",
       "         [0.6359895 ],\n",
       "         [0.25843869],\n",
       "         [0.25843869],\n",
       "         [0.3260265 ],\n",
       "         [0.3260265 ],\n",
       "         [0.07847614],\n",
       "         [0.07847614],\n",
       "         [0.69475526],\n",
       "         [0.69475526],\n",
       "         [0.62415948],\n",
       "         [0.62415948],\n",
       "         [0.95122707],\n",
       "         [0.95122707],\n",
       "         [0.12662022],\n",
       "         [0.12662022],\n",
       "         [0.82941129],\n",
       "         [0.82941129],\n",
       "         [0.03001732],\n",
       "         [0.03001732],\n",
       "         [0.40303271],\n",
       "         [0.40303271],\n",
       "         [0.21560708],\n",
       "         [0.21560708],\n",
       "         [0.64513074],\n",
       "         [0.64513074],\n",
       "         [0.68705812],\n",
       "         [0.68705812],\n",
       "         [0.68332736],\n",
       "         [0.68332736],\n",
       "         [0.3252037 ],\n",
       "         [0.3252037 ],\n",
       "         [0.03722138],\n",
       "         [0.03722138],\n",
       "         [0.17583412],\n",
       "         [0.17583412],\n",
       "         [0.05568516],\n",
       "         [0.05568516],\n",
       "         [0.57470164],\n",
       "         [0.57470164],\n",
       "         [0.7198664 ],\n",
       "         [0.7198664 ],\n",
       "         [0.04637206],\n",
       "         [0.04637206],\n",
       "         [0.03330478],\n",
       "         [0.03330478],\n",
       "         [0.22907416],\n",
       "         [0.22907416],\n",
       "         [0.71974228],\n",
       "         [0.71974228],\n",
       "         [0.04518267],\n",
       "         [0.04518267],\n",
       "         [0.12022357],\n",
       "         [0.12022357],\n",
       "         [0.83826424],\n",
       "         [0.83826424],\n",
       "         [0.89870851],\n",
       "         [0.89870851],\n",
       "         [0.10202198],\n",
       "         [0.10202198],\n",
       "         [0.42792892],\n",
       "         [0.42792892],\n",
       "         [0.71686072],\n",
       "         [0.71686072],\n",
       "         [0.30701011],\n",
       "         [0.30701011],\n",
       "         [0.2677472 ],\n",
       "         [0.2677472 ],\n",
       "         [0.03549923],\n",
       "         [0.03549923],\n",
       "         [0.09669444],\n",
       "         [0.09669444],\n",
       "         [0.31290015],\n",
       "         [0.31290015],\n",
       "         [0.48144577],\n",
       "         [0.48144577],\n",
       "         [0.66881993],\n",
       "         [0.66881993],\n",
       "         [0.58783905],\n",
       "         [0.58783905],\n",
       "         [0.29264814],\n",
       "         [0.29264814],\n",
       "         [0.83369664],\n",
       "         [0.83369664],\n",
       "         [0.6431012 ],\n",
       "         [0.6431012 ],\n",
       "         [0.94604367],\n",
       "         [0.94604367],\n",
       "         [0.6604637 ],\n",
       "         [0.6604637 ],\n",
       "         [0.12825977],\n",
       "         [0.12825977],\n",
       "         [0.84120769],\n",
       "         [0.84120769],\n",
       "         [0.12970968],\n",
       "         [0.12970968],\n",
       "         [0.2376431 ],\n",
       "         [0.2376431 ],\n",
       "         [0.39715573],\n",
       "         [0.39715573],\n",
       "         [0.56108843],\n",
       "         [0.56108843],\n",
       "         [0.63612285],\n",
       "         [0.63612285],\n",
       "         [0.21596672],\n",
       "         [0.21596672],\n",
       "         [0.92762533],\n",
       "         [0.92762533],\n",
       "         [0.53534389],\n",
       "         [0.53534389],\n",
       "         [0.70617734],\n",
       "         [0.70617734],\n",
       "         [0.15876698],\n",
       "         [0.15876698],\n",
       "         [0.83557561],\n",
       "         [0.83557561],\n",
       "         [0.25733469],\n",
       "         [0.25733469],\n",
       "         [0.22446963],\n",
       "         [0.22446963],\n",
       "         [0.66273739],\n",
       "         [0.66273739],\n",
       "         [0.60438507],\n",
       "         [0.60438507],\n",
       "         [0.26038362],\n",
       "         [0.26038362],\n",
       "         [0.57064139],\n",
       "         [0.57064139]])}}"
      ]
     },
     "execution_count": 1,
     "metadata": {},
     "output_type": "execute_result"
    }
   ],
   "source": [
    "ds = load_by_id(run_id_a)\n",
    "ds.get_parameter_data('x1')"
   ]
  },
  {
   "cell_type": "code",
   "execution_count": null,
   "metadata": {},
   "outputs": [],
   "source": []
  }
 ],
 "metadata": {
  "kernelspec": {
   "display_name": "Python 3",
   "language": "python",
   "name": "python3"
  },
  "language_info": {
   "codemirror_mode": {
    "name": "ipython",
    "version": 3
   },
   "file_extension": ".py",
   "mimetype": "text/x-python",
   "name": "python",
   "nbconvert_exporter": "python",
   "pygments_lexer": "ipython3",
   "version": "3.7.10"
  },
  "nbsphinx": {
   "timeout": 600
  },
  "toc": {
   "base_numbering": 1,
   "nav_menu": {},
   "number_sections": true,
   "sideBar": true,
   "skip_h1_title": false,
   "title_cell": "Table of Contents",
   "title_sidebar": "Contents",
   "toc_cell": false,
   "toc_position": {},
   "toc_section_display": true,
   "toc_window_display": false
  },
  "varInspector": {
   "cols": {
    "lenName": 16,
    "lenType": 16,
    "lenVar": 40
   },
   "kernels_config": {
    "python": {
     "delete_cmd_postfix": "",
     "delete_cmd_prefix": "del ",
     "library": "var_list.py",
     "varRefreshCmd": "print(var_dic_list())"
    },
    "r": {
     "delete_cmd_postfix": ") ",
     "delete_cmd_prefix": "rm(",
     "library": "var_list.r",
     "varRefreshCmd": "cat(var_dic_list()) "
    }
   },
   "types_to_exclude": [
    "module",
    "function",
    "builtin_function_or_method",
    "instance",
    "_Feature"
   ],
   "window_display": false
  }
 },
 "nbformat": 4,
 "nbformat_minor": 4
}
