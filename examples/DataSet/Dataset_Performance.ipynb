{
 "cells": [
  {
   "cell_type": "markdown",
   "metadata": {},
   "source": [
    "# DataSet Performance\n",
    "\n",
    "This notebook shows the trade-off between inserting data into a database row-by-row and as binary blobs. Inserting the data row-by-row means that we have direct access to all the data and may perform queries directly on the values of the data. On the other hand, as we shall see, this is much slower than inserting the data directly as binary blobs."
   ]
  },
  {
   "cell_type": "markdown",
   "metadata": {},
   "source": [
    "First, we choose a new location for the database to ensure that we don't add a bunch of benchmarking data to the default one."
   ]
  },
  {
   "cell_type": "code",
   "execution_count": 1,
   "metadata": {
    "execution": {
     "iopub.execute_input": "2020-09-11T06:14:53.119117Z",
     "iopub.status.busy": "2020-09-11T06:14:53.118432Z",
     "iopub.status.idle": "2020-09-11T06:14:54.025661Z",
     "shell.execute_reply": "2020-09-11T06:14:54.025187Z"
    }
   },
   "outputs": [
    {
     "name": "stdout",
     "output_type": "stream",
     "text": [
      "Logging hadn't been started.\n",
      "Activating auto-logging. Current session state plus future input saved.\n",
      "Filename       : /home/vsts/.qcodes/logs/command_history.log\n",
      "Mode           : append\n",
      "Output logging : True\n",
      "Raw input log  : False\n",
      "Timestamping   : True\n",
      "State          : active\n"
     ]
    },
    {
     "name": "stdout",
     "output_type": "stream",
     "text": [
      "Qcodes Logfile : /home/vsts/.qcodes/logs/200911-18300-qcodes.log\n"
     ]
    }
   ],
   "source": [
    "import os\n",
    "cwd = os.getcwd()\n",
    "import qcodes as qc\n",
    "qc.config[\"core\"][\"db_location\"] = os.path.join(cwd, 'testing.db')\n"
   ]
  },
  {
   "cell_type": "code",
   "execution_count": 2,
   "metadata": {
    "execution": {
     "iopub.execute_input": "2020-09-11T06:14:54.030543Z",
     "iopub.status.busy": "2020-09-11T06:14:54.029595Z",
     "iopub.status.idle": "2020-09-11T06:14:54.176751Z",
     "shell.execute_reply": "2020-09-11T06:14:54.175832Z"
    }
   },
   "outputs": [],
   "source": [
    "%matplotlib inline\n",
    "import time\n",
    "import matplotlib.pyplot as plt\n",
    "import numpy as np\n",
    "\n",
    "import qcodes as qc\n",
    "from qcodes.instrument.parameter import ManualParameter\n",
    "from qcodes.dataset.experiment_container import (Experiment,\n",
    "                                                 load_last_experiment,\n",
    "                                                 new_experiment)\n",
    "from qcodes.dataset.sqlite.database import initialise_database\n",
    "from qcodes import load_or_create_experiment\n",
    "from qcodes.dataset.measurements import Measurement"
   ]
  },
  {
   "cell_type": "code",
   "execution_count": 3,
   "metadata": {
    "execution": {
     "iopub.execute_input": "2020-09-11T06:14:54.180354Z",
     "iopub.status.busy": "2020-09-11T06:14:54.179651Z",
     "iopub.status.idle": "2020-09-11T06:14:54.248154Z",
     "shell.execute_reply": "2020-09-11T06:14:54.247471Z"
    }
   },
   "outputs": [
    {
     "name": "stdout",
     "output_type": "stream",
     "text": [
      "\r",
      "0it [00:00, ?it/s]"
     ]
    },
    {
     "name": "stdout",
     "output_type": "stream",
     "text": [
      "\r",
      "Upgrading database; v0 -> v1: : 0it [00:00, ?it/s]"
     ]
    },
    {
     "name": "stdout",
     "output_type": "stream",
     "text": [
      "\r",
      "Upgrading database; v0 -> v1: : 0it [00:00, ?it/s]"
     ]
    },
    {
     "name": "stdout",
     "output_type": "stream",
     "text": [
      "\n",
      "\r",
      "  0%|          | 0/1 [00:00<?, ?it/s]"
     ]
    },
    {
     "name": "stdout",
     "output_type": "stream",
     "text": [
      "\r",
      "Upgrading database; v1 -> v2:   0%|          | 0/1 [00:00<?, ?it/s]"
     ]
    },
    {
     "name": "stdout",
     "output_type": "stream",
     "text": [
      "\r",
      "Upgrading database; v1 -> v2: 100%|██████████| 1/1 [00:00<00:00, 577.09it/s]"
     ]
    },
    {
     "name": "stdout",
     "output_type": "stream",
     "text": [
      "\n",
      "\r",
      "0it [00:00, ?it/s]"
     ]
    },
    {
     "name": "stdout",
     "output_type": "stream",
     "text": [
      "\r",
      "Upgrading database; v2 -> v3: : 0it [00:00, ?it/s]"
     ]
    },
    {
     "name": "stdout",
     "output_type": "stream",
     "text": [
      "\r",
      "Upgrading database; v2 -> v3: : 0it [00:00, ?it/s]"
     ]
    },
    {
     "name": "stdout",
     "output_type": "stream",
     "text": [
      "\n",
      "\r",
      "0it [00:00, ?it/s]"
     ]
    },
    {
     "name": "stdout",
     "output_type": "stream",
     "text": [
      "\r",
      "Upgrading database; v3 -> v4: : 0it [00:00, ?it/s]"
     ]
    },
    {
     "name": "stdout",
     "output_type": "stream",
     "text": [
      "\r",
      "Upgrading database; v3 -> v4: : 0it [00:00, ?it/s]"
     ]
    },
    {
     "name": "stdout",
     "output_type": "stream",
     "text": [
      "\n",
      "\r",
      "  0%|          | 0/1 [00:00<?, ?it/s]"
     ]
    },
    {
     "name": "stdout",
     "output_type": "stream",
     "text": [
      "\r",
      "Upgrading database; v4 -> v5:   0%|          | 0/1 [00:00<?, ?it/s]"
     ]
    },
    {
     "name": "stdout",
     "output_type": "stream",
     "text": [
      "\r",
      "Upgrading database; v4 -> v5: 100%|██████████| 1/1 [00:00<00:00, 716.24it/s]"
     ]
    },
    {
     "name": "stdout",
     "output_type": "stream",
     "text": [
      "\n",
      "\r",
      "0it [00:00, ?it/s]"
     ]
    },
    {
     "name": "stdout",
     "output_type": "stream",
     "text": [
      "\r",
      "Upgrading database; v5 -> v6: : 0it [00:00, ?it/s]"
     ]
    },
    {
     "name": "stdout",
     "output_type": "stream",
     "text": [
      "\r",
      "Upgrading database; v5 -> v6: : 0it [00:00, ?it/s]"
     ]
    },
    {
     "name": "stdout",
     "output_type": "stream",
     "text": [
      "\n",
      "\r",
      "  0%|          | 0/1 [00:00<?, ?it/s]"
     ]
    },
    {
     "name": "stdout",
     "output_type": "stream",
     "text": [
      "\r",
      "Upgrading database; v6 -> v7:   0%|          | 0/1 [00:00<?, ?it/s]"
     ]
    },
    {
     "name": "stdout",
     "output_type": "stream",
     "text": [
      "\r",
      "Upgrading database; v6 -> v7: 100%|██████████| 1/1 [00:00<00:00, 340.70it/s]"
     ]
    },
    {
     "name": "stdout",
     "output_type": "stream",
     "text": [
      "\n",
      "\r",
      "  0%|          | 0/1 [00:00<?, ?it/s]"
     ]
    },
    {
     "name": "stdout",
     "output_type": "stream",
     "text": [
      "\r",
      "Upgrading database; v7 -> v8:   0%|          | 0/1 [00:00<?, ?it/s]"
     ]
    },
    {
     "name": "stdout",
     "output_type": "stream",
     "text": [
      "\r",
      "Upgrading database; v7 -> v8: 100%|██████████| 1/1 [00:00<00:00, 300.47it/s]"
     ]
    },
    {
     "name": "stdout",
     "output_type": "stream",
     "text": [
      "\n",
      "\r",
      "  0%|          | 0/1 [00:00<?, ?it/s]"
     ]
    },
    {
     "name": "stdout",
     "output_type": "stream",
     "text": [
      "\r",
      "Upgrading database; v8 -> v9:   0%|          | 0/1 [00:00<?, ?it/s]"
     ]
    },
    {
     "name": "stdout",
     "output_type": "stream",
     "text": [
      "\r",
      "Upgrading database; v8 -> v9: 100%|██████████| 1/1 [00:00<00:00, 535.60it/s]"
     ]
    },
    {
     "name": "stdout",
     "output_type": "stream",
     "text": [
      "\n"
     ]
    }
   ],
   "source": [
    "initialise_database()\n",
    "exp = load_or_create_experiment(experiment_name='tutorial_exp', sample_name=\"no sample\")"
   ]
  },
  {
   "cell_type": "markdown",
   "metadata": {},
   "source": [
    "Here, we define a simple function to benchmark the time it takes to insert n points with either numeric or array data type.\n",
    "We will compare both the time used to call ``add_result`` and the time used for the full measurement."
   ]
  },
  {
   "cell_type": "code",
   "execution_count": 4,
   "metadata": {
    "execution": {
     "iopub.execute_input": "2020-09-11T06:14:54.254968Z",
     "iopub.status.busy": "2020-09-11T06:14:54.254486Z",
     "iopub.status.idle": "2020-09-11T06:14:54.257944Z",
     "shell.execute_reply": "2020-09-11T06:14:54.257311Z"
    }
   },
   "outputs": [],
   "source": [
    "def insert_data(paramtype, npoints, nreps=1):\n",
    "\n",
    "    meas = Measurement(exp=exp)\n",
    "\n",
    "    x1 = ManualParameter('x1')\n",
    "    x2 = ManualParameter('x2')\n",
    "    x3 = ManualParameter('x3')\n",
    "    y1 = ManualParameter('y1')\n",
    "    y2 = ManualParameter('y2')\n",
    "\n",
    "    meas.register_parameter(x1, paramtype=paramtype)\n",
    "    meas.register_parameter(x2, paramtype=paramtype)\n",
    "    meas.register_parameter(x3, paramtype=paramtype)\n",
    "    meas.register_parameter(y1, setpoints=[x1, x2, x3],\n",
    "                            paramtype=paramtype)\n",
    "    meas.register_parameter(y2, setpoints=[x1, x2, x3],\n",
    "                            paramtype=paramtype)\n",
    "    start = time.perf_counter()\n",
    "    with meas.run() as datasaver:\n",
    "        start_adding = time.perf_counter()\n",
    "        for i in range(nreps):\n",
    "            datasaver.add_result((x1, np.random.rand(npoints)),\n",
    "                                 (x2, np.random.rand(npoints)),\n",
    "                                 (x3, np.random.rand(npoints)),\n",
    "                                 (y1, np.random.rand(npoints)),\n",
    "                                 (y2, np.random.rand(npoints)))\n",
    "        stop_adding = time.perf_counter()\n",
    "        run_id = datasaver.run_id\n",
    "    stop = time.perf_counter()\n",
    "    tot_time = stop - start\n",
    "    add_time = stop_adding - start_adding\n",
    "    return tot_time, add_time, run_id"
   ]
  },
  {
   "cell_type": "markdown",
   "metadata": {},
   "source": [
    "## Comparison between numeric/array data and binary blob"
   ]
  },
  {
   "cell_type": "markdown",
   "metadata": {},
   "source": [
    "### Case1: Short experiment time"
   ]
  },
  {
   "cell_type": "code",
   "execution_count": 5,
   "metadata": {
    "execution": {
     "iopub.execute_input": "2020-09-11T06:14:54.262918Z",
     "iopub.status.busy": "2020-09-11T06:14:54.261998Z",
     "iopub.status.idle": "2020-09-11T06:14:55.020519Z",
     "shell.execute_reply": "2020-09-11T06:14:55.019577Z"
    }
   },
   "outputs": [
    {
     "name": "stdout",
     "output_type": "stream",
     "text": [
      "Starting experimental run with id: 1. \n",
      "Starting experimental run with id: 2. \n",
      "Starting experimental run with id: 3. \n",
      "Starting experimental run with id: 4. \n",
      "Starting experimental run with id: 5. \n"
     ]
    },
    {
     "name": "stdout",
     "output_type": "stream",
     "text": [
      "Starting experimental run with id: 6. \n"
     ]
    },
    {
     "name": "stdout",
     "output_type": "stream",
     "text": [
      "Starting experimental run with id: 7. \n"
     ]
    },
    {
     "name": "stdout",
     "output_type": "stream",
     "text": [
      "Starting experimental run with id: 8. \n",
      "Starting experimental run with id: 9. \n"
     ]
    },
    {
     "name": "stdout",
     "output_type": "stream",
     "text": [
      "Starting experimental run with id: 10. \n"
     ]
    },
    {
     "name": "stdout",
     "output_type": "stream",
     "text": [
      "Starting experimental run with id: 11. \n"
     ]
    },
    {
     "name": "stdout",
     "output_type": "stream",
     "text": [
      "Starting experimental run with id: 12. \n",
      "Starting experimental run with id: 13. \n"
     ]
    },
    {
     "name": "stdout",
     "output_type": "stream",
     "text": [
      "Starting experimental run with id: 14. \n"
     ]
    }
   ],
   "source": [
    "sizes = [1,500,1000,2000,3000,4000,5000]\n",
    "t_numeric = []\n",
    "t_numeric_add = []\n",
    "t_array = []\n",
    "t_array_add = []\n",
    "for size in sizes:\n",
    "    tn, tna, run_id_n =  insert_data('numeric', size)\n",
    "    t_numeric.append(tn)\n",
    "    t_numeric_add.append(tna)\n",
    "\n",
    "    ta, taa, run_id_a =  insert_data('array', size)\n",
    "    t_array.append(ta)\n",
    "    t_array_add.append(taa)"
   ]
  },
  {
   "cell_type": "code",
   "execution_count": 6,
   "metadata": {
    "execution": {
     "iopub.execute_input": "2020-09-11T06:14:55.026472Z",
     "iopub.status.busy": "2020-09-11T06:14:55.024888Z",
     "iopub.status.idle": "2020-09-11T06:14:55.240467Z",
     "shell.execute_reply": "2020-09-11T06:14:55.239992Z"
    }
   },
   "outputs": [
    {
     "data": {
      "image/png": "[encoded data removed]",
      "text/plain": [
       "<Figure size 432x288 with 1 Axes>"
      ]
     },
     "metadata": {
      "needs_background": "light"
     },
     "output_type": "display_data"
    }
   ],
   "source": [
    "fig, ax = plt.subplots(1,1)\n",
    "ax.plot(sizes, t_numeric, 'o-', label='Inserting row-by-row')\n",
    "ax.plot(sizes, t_numeric_add, 'o-', label='Inserting row-by-row: add_result only')\n",
    "ax.plot(sizes, t_array, 'd-', label='Inserting as binary blob')\n",
    "ax.plot(sizes, t_array_add, 'd-', label='Inserting as binary blob: add_result only')\n",
    "ax.legend()\n",
    "ax.set_xlabel('Array length')\n",
    "ax.set_ylabel('Time (s)')\n",
    "fig.tight_layout()"
   ]
  },
  {
   "cell_type": "markdown",
   "metadata": {},
   "source": [
    "As shown in the latter figure, the time to setup and and close the experiment is approximately 0.4 sec. In case of small array sizes, the difference between inserting values of data as arrays and inserting them row-by-row is relatively unimportant. At larger array sizes, i.e. above 10000 points, the cost of writing data as individual datapoints starts to become important.\n"
   ]
  },
  {
   "cell_type": "markdown",
   "metadata": {},
   "source": [
    "### Case2: Long experiment time "
   ]
  },
  {
   "cell_type": "code",
   "execution_count": 7,
   "metadata": {
    "execution": {
     "iopub.execute_input": "2020-09-11T06:14:55.246872Z",
     "iopub.status.busy": "2020-09-11T06:14:55.246032Z",
     "iopub.status.idle": "2020-09-11T06:15:48.172259Z",
     "shell.execute_reply": "2020-09-11T06:15:48.172787Z"
    }
   },
   "outputs": [
    {
     "name": "stdout",
     "output_type": "stream",
     "text": [
      "Starting experimental run with id: 15. \n",
      "Starting experimental run with id: 16. \n",
      "Starting experimental run with id: 17. \n"
     ]
    },
    {
     "name": "stdout",
     "output_type": "stream",
     "text": [
      "Starting experimental run with id: 18. \n",
      "Starting experimental run with id: 19. \n"
     ]
    },
    {
     "name": "stdout",
     "output_type": "stream",
     "text": [
      "Starting experimental run with id: 20. \n"
     ]
    },
    {
     "name": "stdout",
     "output_type": "stream",
     "text": [
      "Starting experimental run with id: 21. \n"
     ]
    },
    {
     "name": "stdout",
     "output_type": "stream",
     "text": [
      "Starting experimental run with id: 22. \n"
     ]
    },
    {
     "name": "stdout",
     "output_type": "stream",
     "text": [
      "Starting experimental run with id: 23. \n"
     ]
    },
    {
     "name": "stdout",
     "output_type": "stream",
     "text": [
      "Starting experimental run with id: 24. \n"
     ]
    },
    {
     "name": "stdout",
     "output_type": "stream",
     "text": [
      "Starting experimental run with id: 25. \n"
     ]
    },
    {
     "name": "stdout",
     "output_type": "stream",
     "text": [
      "Starting experimental run with id: 26. \n"
     ]
    },
    {
     "name": "stdout",
     "output_type": "stream",
     "text": [
      "Starting experimental run with id: 27. \n"
     ]
    },
    {
     "name": "stdout",
     "output_type": "stream",
     "text": [
      "Starting experimental run with id: 28. \n"
     ]
    }
   ],
   "source": [
    "sizes = [1,500,1000,2000,3000,4000,5000]\n",
    "nreps = 100\n",
    "t_numeric = []\n",
    "t_numeric_add = []\n",
    "t_numeric_run_ids = []\n",
    "t_array = []\n",
    "t_array_add = []\n",
    "t_array_run_ids = []\n",
    "for size in sizes:\n",
    "    tn, tna, run_id_n =  insert_data('numeric', size, nreps=nreps)\n",
    "    t_numeric.append(tn)\n",
    "    t_numeric_add.append(tna)\n",
    "    t_numeric_run_ids.append(run_id_n)\n",
    "\n",
    "    ta, taa, run_id_a =  insert_data('array', size, nreps=nreps)\n",
    "    t_array.append(ta)\n",
    "    t_array_add.append(taa)\n",
    "    t_array_run_ids.append(run_id_a)"
   ]
  },
  {
   "cell_type": "code",
   "execution_count": 8,
   "metadata": {
    "execution": {
     "iopub.execute_input": "2020-09-11T06:15:48.186802Z",
     "iopub.status.busy": "2020-09-11T06:15:48.177465Z",
     "iopub.status.idle": "2020-09-11T06:15:48.401235Z",
     "shell.execute_reply": "2020-09-11T06:15:48.400826Z"
    },
    "scrolled": true
   },
   "outputs": [
    {
     "data": {
      "image/png": "[encoded data removed]",
      "text/plain": [
       "<Figure size 432x288 with 1 Axes>"
      ]
     },
     "metadata": {
      "needs_background": "light"
     },
     "output_type": "display_data"
    }
   ],
   "source": [
    "fig, ax = plt.subplots(1,1)\n",
    "ax.plot(sizes, t_numeric, 'o-', label='Inserting row-by-row')\n",
    "ax.plot(sizes, t_numeric_add, 'o-', label='Inserting row-by-row: add_result only')\n",
    "ax.plot(sizes, t_array, 'd-', label='Inserting as binary blob')\n",
    "ax.plot(sizes, t_array_add, 'd-', label='Inserting as binary blob: add_result only')\n",
    "ax.legend()\n",
    "ax.set_xlabel('Array length')\n",
    "ax.set_ylabel('Time (s)')\n",
    "fig.tight_layout()"
   ]
  },
  {
   "cell_type": "markdown",
   "metadata": {},
   "source": [
    "However, as we increase the length of the experiment, as seen here by repeating the insertion 100 times, we see a big difference between inserting values of the data row-by-row and inserting it as a binary blob."
   ]
  },
  {
   "cell_type": "markdown",
   "metadata": {},
   "source": [
    "## Loading the data "
   ]
  },
  {
   "cell_type": "code",
   "execution_count": 9,
   "metadata": {
    "execution": {
     "iopub.execute_input": "2020-09-11T06:15:48.404933Z",
     "iopub.status.busy": "2020-09-11T06:15:48.404118Z",
     "iopub.status.idle": "2020-09-11T06:15:48.407923Z",
     "shell.execute_reply": "2020-09-11T06:15:48.407519Z"
    }
   },
   "outputs": [],
   "source": [
    "from qcodes.dataset.data_set import load_by_id\n",
    "from qcodes.dataset.data_export import get_data_by_id"
   ]
  },
  {
   "cell_type": "markdown",
   "metadata": {},
   "source": [
    "As usual you can load the data by using the ``load_by_id`` function but you will notice that the different storage methods\n",
    "are reflected in shape of the data as it is retrieved. "
   ]
  },
  {
   "cell_type": "code",
   "execution_count": 10,
   "metadata": {
    "execution": {
     "iopub.execute_input": "2020-09-11T06:15:48.411175Z",
     "iopub.status.busy": "2020-09-11T06:15:48.410683Z",
     "iopub.status.idle": "2020-09-11T06:15:48.413574Z",
     "shell.execute_reply": "2020-09-11T06:15:48.413957Z"
    }
   },
   "outputs": [],
   "source": [
    "run_id_n = t_numeric_run_ids[0]\n",
    "run_id_a = t_array_run_ids[0]"
   ]
  },
  {
   "cell_type": "code",
   "execution_count": 11,
   "metadata": {
    "execution": {
     "iopub.execute_input": "2020-09-11T06:15:48.417077Z",
     "iopub.status.busy": "2020-09-11T06:15:48.416345Z",
     "iopub.status.idle": "2020-09-11T06:15:48.425894Z",
     "shell.execute_reply": "2020-09-11T06:15:48.425461Z"
    },
    "scrolled": true
   },
   "outputs": [
    {
     "data": {
      "text/plain": [
       "{'x1': {'x1': array([0.62418417, 0.62418417, 0.42494255, 0.42494255, 0.87730514,\n",
       "         0.87730514, 0.39752471, 0.39752471, 0.23582797, 0.23582797,\n",
       "         0.99794159, 0.99794159, 0.8565548 , 0.8565548 , 0.92663473,\n",
       "         0.92663473, 0.5699312 , 0.5699312 , 0.48361412, 0.48361412,\n",
       "         0.9997441 , 0.9997441 , 0.64637337, 0.64637337, 0.70504597,\n",
       "         0.70504597, 0.10221528, 0.10221528, 0.91493613, 0.91493613,\n",
       "         0.27121972, 0.27121972, 0.3589345 , 0.3589345 , 0.55965937,\n",
       "         0.55965937, 0.33911813, 0.33911813, 0.61378797, 0.61378797,\n",
       "         0.9243183 , 0.9243183 , 0.28075126, 0.28075126, 0.34451339,\n",
       "         0.34451339, 0.38013792, 0.38013792, 0.5318079 , 0.5318079 ,\n",
       "         0.80295276, 0.80295276, 0.82971625, 0.82971625, 0.1132082 ,\n",
       "         0.1132082 , 0.18635599, 0.18635599, 0.28086012, 0.28086012,\n",
       "         0.64389972, 0.64389972, 0.85427443, 0.85427443, 0.82897795,\n",
       "         0.82897795, 0.86378132, 0.86378132, 0.81025301, 0.81025301,\n",
       "         0.88034557, 0.88034557, 0.94293692, 0.94293692, 0.59194995,\n",
       "         0.59194995, 0.5983669 , 0.5983669 , 0.20447314, 0.20447314,\n",
       "         0.32050285, 0.32050285, 0.92981129, 0.92981129, 0.59548738,\n",
       "         0.59548738, 0.43390775, 0.43390775, 0.95497457, 0.95497457,\n",
       "         0.32194232, 0.32194232, 0.89398286, 0.89398286, 0.75795335,\n",
       "         0.75795335, 0.43086516, 0.43086516, 0.41042068, 0.41042068,\n",
       "         0.13335435, 0.13335435, 0.02944422, 0.02944422, 0.72500277,\n",
       "         0.72500277, 0.71055738, 0.71055738, 0.78297574, 0.78297574,\n",
       "         0.08273509, 0.08273509, 0.59753232, 0.59753232, 0.07315969,\n",
       "         0.07315969, 0.24854418, 0.24854418, 0.41423689, 0.41423689,\n",
       "         0.96784481, 0.96784481, 0.075752  , 0.075752  , 0.73295348,\n",
       "         0.73295348, 0.61540234, 0.61540234, 0.4698397 , 0.4698397 ,\n",
       "         0.02273125, 0.02273125, 0.66997556, 0.66997556, 0.79271463,\n",
       "         0.79271463, 0.3753154 , 0.3753154 , 0.90067131, 0.90067131,\n",
       "         0.79990856, 0.79990856, 0.53634646, 0.53634646, 0.45271883,\n",
       "         0.45271883, 0.43656948, 0.43656948, 0.86669887, 0.86669887,\n",
       "         0.31480436, 0.31480436, 0.27686151, 0.27686151, 0.95843601,\n",
       "         0.95843601, 0.19262146, 0.19262146, 0.44693621, 0.44693621,\n",
       "         0.22015246, 0.22015246, 0.3443717 , 0.3443717 , 0.17093579,\n",
       "         0.17093579, 0.18412511, 0.18412511, 0.21324525, 0.21324525,\n",
       "         0.28243205, 0.28243205, 0.93813966, 0.93813966, 0.46937924,\n",
       "         0.46937924, 0.85507961, 0.85507961, 0.56567126, 0.56567126,\n",
       "         0.70045505, 0.70045505, 0.09787331, 0.09787331, 0.63512032,\n",
       "         0.63512032, 0.33935276, 0.33935276, 0.72302485, 0.72302485,\n",
       "         0.11544987, 0.11544987, 0.66135204, 0.66135204, 0.57832076,\n",
       "         0.57832076, 0.02793379, 0.02793379, 0.16909662, 0.16909662])}}"
      ]
     },
     "execution_count": 11,
     "metadata": {},
     "output_type": "execute_result"
    }
   ],
   "source": [
    "ds = load_by_id(run_id_n)\n",
    "ds.get_parameter_data('x1')"
   ]
  },
  {
   "cell_type": "markdown",
   "metadata": {},
   "source": [
    "And a dataset stored as binary arrays"
   ]
  },
  {
   "cell_type": "code",
   "execution_count": 12,
   "metadata": {
    "execution": {
     "iopub.execute_input": "2020-09-11T06:15:48.431725Z",
     "iopub.status.busy": "2020-09-11T06:15:48.431040Z",
     "iopub.status.idle": "2020-09-11T06:15:48.481849Z",
     "shell.execute_reply": "2020-09-11T06:15:48.482255Z"
    },
    "scrolled": true
   },
   "outputs": [
    {
     "data": {
      "text/plain": [
       "{'x1': {'x1': array([[0.46073679],\n",
       "         [0.46073679],\n",
       "         [0.07060107],\n",
       "         [0.07060107],\n",
       "         [0.37495414],\n",
       "         [0.37495414],\n",
       "         [0.99796002],\n",
       "         [0.99796002],\n",
       "         [0.78400408],\n",
       "         [0.78400408],\n",
       "         [0.72877923],\n",
       "         [0.72877923],\n",
       "         [0.74810975],\n",
       "         [0.74810975],\n",
       "         [0.76814427],\n",
       "         [0.76814427],\n",
       "         [0.02067826],\n",
       "         [0.02067826],\n",
       "         [0.84914131],\n",
       "         [0.84914131],\n",
       "         [0.39510925],\n",
       "         [0.39510925],\n",
       "         [0.98424356],\n",
       "         [0.98424356],\n",
       "         [0.84808918],\n",
       "         [0.84808918],\n",
       "         [0.72399637],\n",
       "         [0.72399637],\n",
       "         [0.28759844],\n",
       "         [0.28759844],\n",
       "         [0.82482325],\n",
       "         [0.82482325],\n",
       "         [0.67257051],\n",
       "         [0.67257051],\n",
       "         [0.13411604],\n",
       "         [0.13411604],\n",
       "         [0.64595172],\n",
       "         [0.64595172],\n",
       "         [0.23411091],\n",
       "         [0.23411091],\n",
       "         [0.57421065],\n",
       "         [0.57421065],\n",
       "         [0.70414607],\n",
       "         [0.70414607],\n",
       "         [0.31736174],\n",
       "         [0.31736174],\n",
       "         [0.79734705],\n",
       "         [0.79734705],\n",
       "         [0.5844273 ],\n",
       "         [0.5844273 ],\n",
       "         [0.15564431],\n",
       "         [0.15564431],\n",
       "         [0.11818013],\n",
       "         [0.11818013],\n",
       "         [0.62929459],\n",
       "         [0.62929459],\n",
       "         [0.94086566],\n",
       "         [0.94086566],\n",
       "         [0.47856807],\n",
       "         [0.47856807],\n",
       "         [0.14679765],\n",
       "         [0.14679765],\n",
       "         [0.87965021],\n",
       "         [0.87965021],\n",
       "         [0.29031041],\n",
       "         [0.29031041],\n",
       "         [0.53343096],\n",
       "         [0.53343096],\n",
       "         [0.57388005],\n",
       "         [0.57388005],\n",
       "         [0.85895132],\n",
       "         [0.85895132],\n",
       "         [0.00895144],\n",
       "         [0.00895144],\n",
       "         [0.81438984],\n",
       "         [0.81438984],\n",
       "         [0.26241635],\n",
       "         [0.26241635],\n",
       "         [0.13388316],\n",
       "         [0.13388316],\n",
       "         [0.08110406],\n",
       "         [0.08110406],\n",
       "         [0.90404984],\n",
       "         [0.90404984],\n",
       "         [0.87114435],\n",
       "         [0.87114435],\n",
       "         [0.11351565],\n",
       "         [0.11351565],\n",
       "         [0.03527865],\n",
       "         [0.03527865],\n",
       "         [0.14704504],\n",
       "         [0.14704504],\n",
       "         [0.65291051],\n",
       "         [0.65291051],\n",
       "         [0.00329726],\n",
       "         [0.00329726],\n",
       "         [0.54969352],\n",
       "         [0.54969352],\n",
       "         [0.04674536],\n",
       "         [0.04674536],\n",
       "         [0.23252218],\n",
       "         [0.23252218],\n",
       "         [0.91087474],\n",
       "         [0.91087474],\n",
       "         [0.02138536],\n",
       "         [0.02138536],\n",
       "         [0.4224495 ],\n",
       "         [0.4224495 ],\n",
       "         [0.65155068],\n",
       "         [0.65155068],\n",
       "         [0.80307955],\n",
       "         [0.80307955],\n",
       "         [0.18683498],\n",
       "         [0.18683498],\n",
       "         [0.96592585],\n",
       "         [0.96592585],\n",
       "         [0.83981386],\n",
       "         [0.83981386],\n",
       "         [0.15409537],\n",
       "         [0.15409537],\n",
       "         [0.03550928],\n",
       "         [0.03550928],\n",
       "         [0.16998597],\n",
       "         [0.16998597],\n",
       "         [0.39489635],\n",
       "         [0.39489635],\n",
       "         [0.8074132 ],\n",
       "         [0.8074132 ],\n",
       "         [0.32306444],\n",
       "         [0.32306444],\n",
       "         [0.11527438],\n",
       "         [0.11527438],\n",
       "         [0.77835186],\n",
       "         [0.77835186],\n",
       "         [0.21682709],\n",
       "         [0.21682709],\n",
       "         [0.65972409],\n",
       "         [0.65972409],\n",
       "         [0.06473394],\n",
       "         [0.06473394],\n",
       "         [0.41934386],\n",
       "         [0.41934386],\n",
       "         [0.39242621],\n",
       "         [0.39242621],\n",
       "         [0.26081233],\n",
       "         [0.26081233],\n",
       "         [0.78044027],\n",
       "         [0.78044027],\n",
       "         [0.68191291],\n",
       "         [0.68191291],\n",
       "         [0.42603753],\n",
       "         [0.42603753],\n",
       "         [0.55652517],\n",
       "         [0.55652517],\n",
       "         [0.7107279 ],\n",
       "         [0.7107279 ],\n",
       "         [0.70879918],\n",
       "         [0.70879918],\n",
       "         [0.21597387],\n",
       "         [0.21597387],\n",
       "         [0.76113354],\n",
       "         [0.76113354],\n",
       "         [0.39587392],\n",
       "         [0.39587392],\n",
       "         [0.68161074],\n",
       "         [0.68161074],\n",
       "         [0.8625142 ],\n",
       "         [0.8625142 ],\n",
       "         [0.97312494],\n",
       "         [0.97312494],\n",
       "         [0.61715595],\n",
       "         [0.61715595],\n",
       "         [0.75310954],\n",
       "         [0.75310954],\n",
       "         [0.42527558],\n",
       "         [0.42527558],\n",
       "         [0.07879785],\n",
       "         [0.07879785],\n",
       "         [0.33001059],\n",
       "         [0.33001059],\n",
       "         [0.41939887],\n",
       "         [0.41939887],\n",
       "         [0.88082596],\n",
       "         [0.88082596],\n",
       "         [0.01705067],\n",
       "         [0.01705067],\n",
       "         [0.25058751],\n",
       "         [0.25058751],\n",
       "         [0.64661049],\n",
       "         [0.64661049],\n",
       "         [0.40955967],\n",
       "         [0.40955967],\n",
       "         [0.68148938],\n",
       "         [0.68148938],\n",
       "         [0.911734  ],\n",
       "         [0.911734  ],\n",
       "         [0.77748783],\n",
       "         [0.77748783],\n",
       "         [0.4419692 ],\n",
       "         [0.4419692 ]])}}"
      ]
     },
     "execution_count": 12,
     "metadata": {},
     "output_type": "execute_result"
    }
   ],
   "source": [
    "ds = load_by_id(run_id_a)\n",
    "ds.get_parameter_data('x1')"
   ]
  },
  {
   "cell_type": "code",
   "execution_count": null,
   "metadata": {},
   "outputs": [],
   "source": []
  }
 ],
 "metadata": {
  "kernelspec": {
   "display_name": "Python 3",
   "language": "python",
   "name": "python3"
  },
  "language_info": {
   "codemirror_mode": {
    "name": "ipython",
    "version": 3
   },
   "file_extension": ".py",
   "mimetype": "text/x-python",
   "name": "python",
   "nbconvert_exporter": "python",
   "pygments_lexer": "ipython3",
   "version": "3.7.7"
  },
  "nbsphinx": {
   "timeout": 600
  },
  "toc": {
   "base_numbering": 1,
   "nav_menu": {},
   "number_sections": true,
   "sideBar": true,
   "skip_h1_title": false,
   "title_cell": "Table of Contents",
   "title_sidebar": "Contents",
   "toc_cell": false,
   "toc_position": {},
   "toc_section_display": true,
   "toc_window_display": false
  },
  "varInspector": {
   "cols": {
    "lenName": 16,
    "lenType": 16,
    "lenVar": 40
   },
   "kernels_config": {
    "python": {
     "delete_cmd_postfix": "",
     "delete_cmd_prefix": "del ",
     "library": "var_list.py",
     "varRefreshCmd": "print(var_dic_list())"
    },
    "r": {
     "delete_cmd_postfix": ") ",
     "delete_cmd_prefix": "rm(",
     "library": "var_list.r",
     "varRefreshCmd": "cat(var_dic_list()) "
    }
   },
   "types_to_exclude": [
    "module",
    "function",
    "builtin_function_or_method",
    "instance",
    "_Feature"
   ],
   "window_display": false
  }
 },
 "nbformat": 4,
 "nbformat_minor": 2
}
