{
 "cells": [
  {
   "cell_type": "markdown",
   "metadata": {},
   "source": [
    "# DataSet Performance\n",
    "\n",
    "This notebook shows the trade-off between inserting data into a database row-by-row and as binary blobs. Inserting the data row-by-row means that we have direct access to all the data and may perform queries directly on the values of the data. On the other hand, as we shall see, this is much slower than inserting the data directly as binary blobs."
   ]
  },
  {
   "cell_type": "markdown",
   "metadata": {},
   "source": [
    "First, we choose a new location for the database to ensure that we don't add a bunch of benchmarking data to the default one."
   ]
  },
  {
   "cell_type": "code",
   "execution_count": 1,
   "metadata": {
    "execution": {
     "iopub.execute_input": "2021-05-18T06:51:20.817318Z",
     "iopub.status.busy": "2021-05-18T06:51:20.816836Z",
     "iopub.status.idle": "2021-05-18T06:51:21.867271Z",
     "shell.execute_reply": "2021-05-18T06:51:21.866631Z"
    }
   },
   "outputs": [
    {
     "name": "stdout",
     "output_type": "stream",
     "text": [
      "Logging hadn't been started.\n",
      "Activating auto-logging. Current session state plus future input saved.\n",
      "Filename       : /home/runner/.qcodes/logs/command_history.log\n",
      "Mode           : append\n",
      "Output logging : True\n",
      "Raw input log  : False\n",
      "Timestamping   : True\n",
      "State          : active\n"
     ]
    },
    {
     "name": "stdout",
     "output_type": "stream",
     "text": [
      "Qcodes Logfile : /home/runner/.qcodes/logs/210518-4424-qcodes.log\n"
     ]
    }
   ],
   "source": [
    "import os\n",
    "cwd = os.getcwd()\n",
    "import qcodes as qc\n",
    "qc.config[\"core\"][\"db_location\"] = os.path.join(cwd, 'testing.db')\n"
   ]
  },
  {
   "cell_type": "code",
   "execution_count": 2,
   "metadata": {
    "execution": {
     "iopub.execute_input": "2021-05-18T06:51:21.873250Z",
     "iopub.status.busy": "2021-05-18T06:51:21.872751Z",
     "iopub.status.idle": "2021-05-18T06:51:22.050788Z",
     "shell.execute_reply": "2021-05-18T06:51:22.050217Z"
    }
   },
   "outputs": [],
   "source": [
    "%matplotlib inline\n",
    "import time\n",
    "import matplotlib.pyplot as plt\n",
    "import numpy as np\n",
    "\n",
    "import qcodes as qc\n",
    "from qcodes.instrument.parameter import ManualParameter\n",
    "from qcodes.dataset.experiment_container import (Experiment,\n",
    "                                                 load_last_experiment,\n",
    "                                                 new_experiment)\n",
    "from qcodes.dataset.sqlite.database import initialise_database\n",
    "from qcodes import load_or_create_experiment\n",
    "from qcodes.dataset.measurements import Measurement"
   ]
  },
  {
   "cell_type": "code",
   "execution_count": 3,
   "metadata": {
    "execution": {
     "iopub.execute_input": "2021-05-18T06:51:22.054715Z",
     "iopub.status.busy": "2021-05-18T06:51:22.054014Z",
     "iopub.status.idle": "2021-05-18T06:51:22.108608Z",
     "shell.execute_reply": "2021-05-18T06:51:22.108167Z"
    }
   },
   "outputs": [
    {
     "name": "stdout",
     "output_type": "stream",
     "text": [
      "\r",
      "0it [00:00, ?it/s]"
     ]
    },
    {
     "name": "stdout",
     "output_type": "stream",
     "text": [
      "\r",
      "Upgrading database; v0 -> v1: : 0it [00:00, ?it/s]"
     ]
    },
    {
     "name": "stdout",
     "output_type": "stream",
     "text": [
      "\r",
      "Upgrading database; v0 -> v1: : 0it [00:00, ?it/s]"
     ]
    },
    {
     "name": "stdout",
     "output_type": "stream",
     "text": [
      "\n",
      "\r",
      "  0%|          | 0/1 [00:00<?, ?it/s]"
     ]
    },
    {
     "name": "stdout",
     "output_type": "stream",
     "text": [
      "\r",
      "Upgrading database; v1 -> v2:   0%|          | 0/1 [00:00<?, ?it/s]"
     ]
    },
    {
     "name": "stdout",
     "output_type": "stream",
     "text": [
      "\r",
      "Upgrading database; v1 -> v2: 100%|██████████| 1/1 [00:00<00:00, 1395.78it/s]"
     ]
    },
    {
     "name": "stdout",
     "output_type": "stream",
     "text": [
      "\n",
      "\r",
      "0it [00:00, ?it/s]"
     ]
    },
    {
     "name": "stdout",
     "output_type": "stream",
     "text": [
      "\r",
      "Upgrading database; v2 -> v3: : 0it [00:00, ?it/s]"
     ]
    },
    {
     "name": "stdout",
     "output_type": "stream",
     "text": [
      "\r",
      "Upgrading database; v2 -> v3: : 0it [00:00, ?it/s]"
     ]
    },
    {
     "name": "stdout",
     "output_type": "stream",
     "text": [
      "\n",
      "\r",
      "0it [00:00, ?it/s]"
     ]
    },
    {
     "name": "stdout",
     "output_type": "stream",
     "text": [
      "\r",
      "Upgrading database; v3 -> v4: : 0it [00:00, ?it/s]"
     ]
    },
    {
     "name": "stdout",
     "output_type": "stream",
     "text": [
      "\r",
      "Upgrading database; v3 -> v4: : 0it [00:00, ?it/s]"
     ]
    },
    {
     "name": "stdout",
     "output_type": "stream",
     "text": [
      "\n",
      "\r",
      "  0%|          | 0/1 [00:00<?, ?it/s]"
     ]
    },
    {
     "name": "stdout",
     "output_type": "stream",
     "text": [
      "\r",
      "Upgrading database; v4 -> v5:   0%|          | 0/1 [00:00<?, ?it/s]"
     ]
    },
    {
     "name": "stdout",
     "output_type": "stream",
     "text": [
      "\r",
      "Upgrading database; v4 -> v5: 100%|██████████| 1/1 [00:00<00:00, 783.25it/s]"
     ]
    },
    {
     "name": "stdout",
     "output_type": "stream",
     "text": [
      "\n",
      "\r",
      "0it [00:00, ?it/s]"
     ]
    },
    {
     "name": "stdout",
     "output_type": "stream",
     "text": [
      "\r",
      "Upgrading database; v5 -> v6: : 0it [00:00, ?it/s]"
     ]
    },
    {
     "name": "stdout",
     "output_type": "stream",
     "text": [
      "\r",
      "Upgrading database; v5 -> v6: : 0it [00:00, ?it/s]"
     ]
    },
    {
     "name": "stdout",
     "output_type": "stream",
     "text": [
      "\n",
      "\r",
      "  0%|          | 0/1 [00:00<?, ?it/s]"
     ]
    },
    {
     "name": "stdout",
     "output_type": "stream",
     "text": [
      "\r",
      "Upgrading database; v6 -> v7:   0%|          | 0/1 [00:00<?, ?it/s]"
     ]
    },
    {
     "name": "stdout",
     "output_type": "stream",
     "text": [
      "\r",
      "Upgrading database; v6 -> v7: 100%|██████████| 1/1 [00:00<00:00, 613.20it/s]"
     ]
    },
    {
     "name": "stdout",
     "output_type": "stream",
     "text": [
      "\n",
      "\r",
      "  0%|          | 0/1 [00:00<?, ?it/s]"
     ]
    },
    {
     "name": "stdout",
     "output_type": "stream",
     "text": [
      "\r",
      "Upgrading database; v7 -> v8:   0%|          | 0/1 [00:00<?, ?it/s]"
     ]
    },
    {
     "name": "stdout",
     "output_type": "stream",
     "text": [
      "\r",
      "Upgrading database; v7 -> v8: 100%|██████████| 1/1 [00:00<00:00, 1260.31it/s]"
     ]
    },
    {
     "name": "stdout",
     "output_type": "stream",
     "text": [
      "\n",
      "\r",
      "  0%|          | 0/1 [00:00<?, ?it/s]"
     ]
    },
    {
     "name": "stdout",
     "output_type": "stream",
     "text": [
      "\r",
      "Upgrading database; v8 -> v9:   0%|          | 0/1 [00:00<?, ?it/s]"
     ]
    },
    {
     "name": "stdout",
     "output_type": "stream",
     "text": [
      "\r",
      "Upgrading database; v8 -> v9: 100%|██████████| 1/1 [00:00<00:00, 964.65it/s]"
     ]
    },
    {
     "name": "stdout",
     "output_type": "stream",
     "text": [
      "\n"
     ]
    }
   ],
   "source": [
    "initialise_database()\n",
    "exp = load_or_create_experiment(experiment_name='tutorial_exp', sample_name=\"no sample\")"
   ]
  },
  {
   "cell_type": "markdown",
   "metadata": {},
   "source": [
    "Here, we define a simple function to benchmark the time it takes to insert n points with either numeric or array data type.\n",
    "We will compare both the time used to call ``add_result`` and the time used for the full measurement."
   ]
  },
  {
   "cell_type": "code",
   "execution_count": 4,
   "metadata": {
    "execution": {
     "iopub.execute_input": "2021-05-18T06:51:22.117101Z",
     "iopub.status.busy": "2021-05-18T06:51:22.115990Z",
     "iopub.status.idle": "2021-05-18T06:51:22.117654Z",
     "shell.execute_reply": "2021-05-18T06:51:22.118051Z"
    }
   },
   "outputs": [],
   "source": [
    "def insert_data(paramtype, npoints, nreps=1):\n",
    "\n",
    "    meas = Measurement(exp=exp)\n",
    "\n",
    "    x1 = ManualParameter('x1')\n",
    "    x2 = ManualParameter('x2')\n",
    "    x3 = ManualParameter('x3')\n",
    "    y1 = ManualParameter('y1')\n",
    "    y2 = ManualParameter('y2')\n",
    "\n",
    "    meas.register_parameter(x1, paramtype=paramtype)\n",
    "    meas.register_parameter(x2, paramtype=paramtype)\n",
    "    meas.register_parameter(x3, paramtype=paramtype)\n",
    "    meas.register_parameter(y1, setpoints=[x1, x2, x3],\n",
    "                            paramtype=paramtype)\n",
    "    meas.register_parameter(y2, setpoints=[x1, x2, x3],\n",
    "                            paramtype=paramtype)\n",
    "    start = time.perf_counter()\n",
    "    with meas.run() as datasaver:\n",
    "        start_adding = time.perf_counter()\n",
    "        for i in range(nreps):\n",
    "            datasaver.add_result((x1, np.random.rand(npoints)),\n",
    "                                 (x2, np.random.rand(npoints)),\n",
    "                                 (x3, np.random.rand(npoints)),\n",
    "                                 (y1, np.random.rand(npoints)),\n",
    "                                 (y2, np.random.rand(npoints)))\n",
    "        stop_adding = time.perf_counter()\n",
    "        run_id = datasaver.run_id\n",
    "    stop = time.perf_counter()\n",
    "    tot_time = stop - start\n",
    "    add_time = stop_adding - start_adding\n",
    "    return tot_time, add_time, run_id"
   ]
  },
  {
   "cell_type": "markdown",
   "metadata": {},
   "source": [
    "## Comparison between numeric/array data and binary blob"
   ]
  },
  {
   "cell_type": "markdown",
   "metadata": {},
   "source": [
    "### Case1: Short experiment time"
   ]
  },
  {
   "cell_type": "code",
   "execution_count": 5,
   "metadata": {
    "execution": {
     "iopub.execute_input": "2021-05-18T06:51:22.124230Z",
     "iopub.status.busy": "2021-05-18T06:51:22.123656Z",
     "iopub.status.idle": "2021-05-18T06:51:22.834170Z",
     "shell.execute_reply": "2021-05-18T06:51:22.833664Z"
    }
   },
   "outputs": [
    {
     "name": "stdout",
     "output_type": "stream",
     "text": [
      "Starting experimental run with id: 1. \n",
      "Starting experimental run with id: 2. \n",
      "Starting experimental run with id: 3. \n",
      "Starting experimental run with id: 4. \n",
      "Starting experimental run with id: 5. \n"
     ]
    },
    {
     "name": "stdout",
     "output_type": "stream",
     "text": [
      "Starting experimental run with id: 6. \n"
     ]
    },
    {
     "name": "stdout",
     "output_type": "stream",
     "text": [
      "Starting experimental run with id: 7. \n"
     ]
    },
    {
     "name": "stdout",
     "output_type": "stream",
     "text": [
      "Starting experimental run with id: 8. \n",
      "Starting experimental run with id: 9. \n",
      "Starting experimental run with id: 10. \n"
     ]
    },
    {
     "name": "stdout",
     "output_type": "stream",
     "text": [
      "Starting experimental run with id: 11. \n"
     ]
    },
    {
     "name": "stdout",
     "output_type": "stream",
     "text": [
      "Starting experimental run with id: 12. \n",
      "Starting experimental run with id: 13. \n"
     ]
    },
    {
     "name": "stdout",
     "output_type": "stream",
     "text": [
      "Starting experimental run with id: 14. \n"
     ]
    }
   ],
   "source": [
    "sizes = [1,500,1000,2000,3000,4000,5000]\n",
    "t_numeric = []\n",
    "t_numeric_add = []\n",
    "t_array = []\n",
    "t_array_add = []\n",
    "for size in sizes:\n",
    "    tn, tna, run_id_n =  insert_data('numeric', size)\n",
    "    t_numeric.append(tn)\n",
    "    t_numeric_add.append(tna)\n",
    "\n",
    "    ta, taa, run_id_a =  insert_data('array', size)\n",
    "    t_array.append(ta)\n",
    "    t_array_add.append(taa)"
   ]
  },
  {
   "cell_type": "code",
   "execution_count": 6,
   "metadata": {
    "execution": {
     "iopub.execute_input": "2021-05-18T06:51:22.851087Z",
     "iopub.status.busy": "2021-05-18T06:51:22.850587Z",
     "iopub.status.idle": "2021-05-18T06:51:23.042980Z",
     "shell.execute_reply": "2021-05-18T06:51:23.042533Z"
    }
   },
   "outputs": [
    {
     "data": {
      "image/png": "[encoded data removed]",
      "text/plain": [
       "<Figure size 432x288 with 1 Axes>"
      ]
     },
     "metadata": {
      "needs_background": "light"
     },
     "output_type": "display_data"
    }
   ],
   "source": [
    "fig, ax = plt.subplots(1,1)\n",
    "ax.plot(sizes, t_numeric, 'o-', label='Inserting row-by-row')\n",
    "ax.plot(sizes, t_numeric_add, 'o-', label='Inserting row-by-row: add_result only')\n",
    "ax.plot(sizes, t_array, 'd-', label='Inserting as binary blob')\n",
    "ax.plot(sizes, t_array_add, 'd-', label='Inserting as binary blob: add_result only')\n",
    "ax.legend()\n",
    "ax.set_xlabel('Array length')\n",
    "ax.set_ylabel('Time (s)')\n",
    "fig.tight_layout()"
   ]
  },
  {
   "cell_type": "markdown",
   "metadata": {},
   "source": [
    "As shown in the latter figure, the time to setup and and close the experiment is approximately 0.4 sec. In case of small array sizes, the difference between inserting values of data as arrays and inserting them row-by-row is relatively unimportant. At larger array sizes, i.e. above 10000 points, the cost of writing data as individual datapoints starts to become important.\n"
   ]
  },
  {
   "cell_type": "markdown",
   "metadata": {},
   "source": [
    "### Case2: Long experiment time "
   ]
  },
  {
   "cell_type": "code",
   "execution_count": 7,
   "metadata": {
    "execution": {
     "iopub.execute_input": "2021-05-18T06:51:23.048778Z",
     "iopub.status.busy": "2021-05-18T06:51:23.048292Z",
     "iopub.status.idle": "2021-05-18T06:52:13.717757Z",
     "shell.execute_reply": "2021-05-18T06:52:13.716800Z"
    }
   },
   "outputs": [
    {
     "name": "stdout",
     "output_type": "stream",
     "text": [
      "Starting experimental run with id: 15. \n",
      "Starting experimental run with id: 16. \n",
      "Starting experimental run with id: 17. \n"
     ]
    },
    {
     "name": "stdout",
     "output_type": "stream",
     "text": [
      "Starting experimental run with id: 18. \n",
      "Starting experimental run with id: 19. \n"
     ]
    },
    {
     "name": "stdout",
     "output_type": "stream",
     "text": [
      "Starting experimental run with id: 20. \n"
     ]
    },
    {
     "name": "stdout",
     "output_type": "stream",
     "text": [
      "Starting experimental run with id: 21. \n"
     ]
    },
    {
     "name": "stdout",
     "output_type": "stream",
     "text": [
      "Starting experimental run with id: 22. \n"
     ]
    },
    {
     "name": "stdout",
     "output_type": "stream",
     "text": [
      "Starting experimental run with id: 23. \n"
     ]
    },
    {
     "name": "stdout",
     "output_type": "stream",
     "text": [
      "Starting experimental run with id: 24. \n"
     ]
    },
    {
     "name": "stdout",
     "output_type": "stream",
     "text": [
      "Starting experimental run with id: 25. \n"
     ]
    },
    {
     "name": "stdout",
     "output_type": "stream",
     "text": [
      "Starting experimental run with id: 26. \n"
     ]
    },
    {
     "name": "stdout",
     "output_type": "stream",
     "text": [
      "Starting experimental run with id: 27. \n"
     ]
    },
    {
     "name": "stdout",
     "output_type": "stream",
     "text": [
      "Starting experimental run with id: 28. \n"
     ]
    }
   ],
   "source": [
    "sizes = [1,500,1000,2000,3000,4000,5000]\n",
    "nreps = 100\n",
    "t_numeric = []\n",
    "t_numeric_add = []\n",
    "t_numeric_run_ids = []\n",
    "t_array = []\n",
    "t_array_add = []\n",
    "t_array_run_ids = []\n",
    "for size in sizes:\n",
    "    tn, tna, run_id_n =  insert_data('numeric', size, nreps=nreps)\n",
    "    t_numeric.append(tn)\n",
    "    t_numeric_add.append(tna)\n",
    "    t_numeric_run_ids.append(run_id_n)\n",
    "\n",
    "    ta, taa, run_id_a =  insert_data('array', size, nreps=nreps)\n",
    "    t_array.append(ta)\n",
    "    t_array_add.append(taa)\n",
    "    t_array_run_ids.append(run_id_a)"
   ]
  },
  {
   "cell_type": "code",
   "execution_count": 8,
   "metadata": {
    "execution": {
     "iopub.execute_input": "2021-05-18T06:52:13.756579Z",
     "iopub.status.busy": "2021-05-18T06:52:13.745307Z",
     "iopub.status.idle": "2021-05-18T06:52:13.913176Z",
     "shell.execute_reply": "2021-05-18T06:52:13.912714Z"
    },
    "scrolled": true
   },
   "outputs": [
    {
     "data": {
      "image/png": "[encoded data removed]",
      "text/plain": [
       "<Figure size 432x288 with 1 Axes>"
      ]
     },
     "metadata": {
      "needs_background": "light"
     },
     "output_type": "display_data"
    }
   ],
   "source": [
    "fig, ax = plt.subplots(1,1)\n",
    "ax.plot(sizes, t_numeric, 'o-', label='Inserting row-by-row')\n",
    "ax.plot(sizes, t_numeric_add, 'o-', label='Inserting row-by-row: add_result only')\n",
    "ax.plot(sizes, t_array, 'd-', label='Inserting as binary blob')\n",
    "ax.plot(sizes, t_array_add, 'd-', label='Inserting as binary blob: add_result only')\n",
    "ax.legend()\n",
    "ax.set_xlabel('Array length')\n",
    "ax.set_ylabel('Time (s)')\n",
    "fig.tight_layout()"
   ]
  },
  {
   "cell_type": "markdown",
   "metadata": {},
   "source": [
    "However, as we increase the length of the experiment, as seen here by repeating the insertion 100 times, we see a big difference between inserting values of the data row-by-row and inserting it as a binary blob."
   ]
  },
  {
   "cell_type": "markdown",
   "metadata": {},
   "source": [
    "## Loading the data "
   ]
  },
  {
   "cell_type": "code",
   "execution_count": 9,
   "metadata": {
    "execution": {
     "iopub.execute_input": "2021-05-18T06:52:13.917214Z",
     "iopub.status.busy": "2021-05-18T06:52:13.916733Z",
     "iopub.status.idle": "2021-05-18T06:52:13.920413Z",
     "shell.execute_reply": "2021-05-18T06:52:13.919985Z"
    }
   },
   "outputs": [],
   "source": [
    "from qcodes.dataset.data_set import load_by_id"
   ]
  },
  {
   "cell_type": "markdown",
   "metadata": {},
   "source": [
    "As usual you can load the data by using the ``load_by_id`` function but you will notice that the different storage methods\n",
    "are reflected in shape of the data as it is retrieved. "
   ]
  },
  {
   "cell_type": "code",
   "execution_count": 10,
   "metadata": {
    "execution": {
     "iopub.execute_input": "2021-05-18T06:52:13.924412Z",
     "iopub.status.busy": "2021-05-18T06:52:13.923402Z",
     "iopub.status.idle": "2021-05-18T06:52:13.925024Z",
     "shell.execute_reply": "2021-05-18T06:52:13.925428Z"
    }
   },
   "outputs": [],
   "source": [
    "run_id_n = t_numeric_run_ids[0]\n",
    "run_id_a = t_array_run_ids[0]"
   ]
  },
  {
   "cell_type": "code",
   "execution_count": 11,
   "metadata": {
    "execution": {
     "iopub.execute_input": "2021-05-18T06:52:13.928353Z",
     "iopub.status.busy": "2021-05-18T06:52:13.927873Z",
     "iopub.status.idle": "2021-05-18T06:52:13.936240Z",
     "shell.execute_reply": "2021-05-18T06:52:13.936619Z"
    },
    "scrolled": true
   },
   "outputs": [
    {
     "data": {
      "text/plain": [
       "{'x1': {'x1': array([0.31200654, 0.31200654, 0.6448575 , 0.6448575 , 0.86965786,\n",
       "         0.86965786, 0.41738184, 0.41738184, 0.47450874, 0.47450874,\n",
       "         0.24491365, 0.24491365, 0.18520771, 0.18520771, 0.36682336,\n",
       "         0.36682336, 0.7019828 , 0.7019828 , 0.29117114, 0.29117114,\n",
       "         0.92661832, 0.92661832, 0.67720699, 0.67720699, 0.19703223,\n",
       "         0.19703223, 0.11538537, 0.11538537, 0.46794473, 0.46794473,\n",
       "         0.78452881, 0.78452881, 0.35666916, 0.35666916, 0.76556995,\n",
       "         0.76556995, 0.4248392 , 0.4248392 , 0.7794333 , 0.7794333 ,\n",
       "         0.44265162, 0.44265162, 0.6206364 , 0.6206364 , 0.79735334,\n",
       "         0.79735334, 0.4258843 , 0.4258843 , 0.32182317, 0.32182317,\n",
       "         0.58822258, 0.58822258, 0.48549434, 0.48549434, 0.9367598 ,\n",
       "         0.9367598 , 0.07537788, 0.07537788, 0.92778825, 0.92778825,\n",
       "         0.56615711, 0.56615711, 0.76849543, 0.76849543, 0.79593495,\n",
       "         0.79593495, 0.58605741, 0.58605741, 0.06615042, 0.06615042,\n",
       "         0.68110725, 0.68110725, 0.4963362 , 0.4963362 , 0.03011297,\n",
       "         0.03011297, 0.95492102, 0.95492102, 0.33589869, 0.33589869,\n",
       "         0.80479724, 0.80479724, 0.99357469, 0.99357469, 0.54769417,\n",
       "         0.54769417, 0.41294507, 0.41294507, 0.28505245, 0.28505245,\n",
       "         0.88216591, 0.88216591, 0.33025893, 0.33025893, 0.37988587,\n",
       "         0.37988587, 0.77016121, 0.77016121, 0.19688912, 0.19688912,\n",
       "         0.22134615, 0.22134615, 0.65693678, 0.65693678, 0.6912508 ,\n",
       "         0.6912508 , 0.45014912, 0.45014912, 0.94593546, 0.94593546,\n",
       "         0.68010336, 0.68010336, 0.79132341, 0.79132341, 0.11911316,\n",
       "         0.11911316, 0.05996495, 0.05996495, 0.31463951, 0.31463951,\n",
       "         0.07745508, 0.07745508, 0.89328809, 0.89328809, 0.72297702,\n",
       "         0.72297702, 0.42359858, 0.42359858, 0.37786543, 0.37786543,\n",
       "         0.91347246, 0.91347246, 0.13005961, 0.13005961, 0.20320836,\n",
       "         0.20320836, 0.49299941, 0.49299941, 0.27436108, 0.27436108,\n",
       "         0.27950645, 0.27950645, 0.14508361, 0.14508361, 0.85727515,\n",
       "         0.85727515, 0.2461394 , 0.2461394 , 0.08039599, 0.08039599,\n",
       "         0.70733912, 0.70733912, 0.6733179 , 0.6733179 , 0.70568171,\n",
       "         0.70568171, 0.64118378, 0.64118378, 0.7052018 , 0.7052018 ,\n",
       "         0.98964016, 0.98964016, 0.13642526, 0.13642526, 0.68644321,\n",
       "         0.68644321, 0.9006555 , 0.9006555 , 0.58333115, 0.58333115,\n",
       "         0.24867014, 0.24867014, 0.23220153, 0.23220153, 0.02315868,\n",
       "         0.02315868, 0.99744053, 0.99744053, 0.56576076, 0.56576076,\n",
       "         0.44747648, 0.44747648, 0.45402863, 0.45402863, 0.44822251,\n",
       "         0.44822251, 0.20860228, 0.20860228, 0.77944854, 0.77944854,\n",
       "         0.02902212, 0.02902212, 0.85014539, 0.85014539, 0.76352691,\n",
       "         0.76352691, 0.50011361, 0.50011361, 0.02047952, 0.02047952])}}"
      ]
     },
     "execution_count": 1,
     "metadata": {},
     "output_type": "execute_result"
    }
   ],
   "source": [
    "ds = load_by_id(run_id_n)\n",
    "ds.get_parameter_data('x1')"
   ]
  },
  {
   "cell_type": "markdown",
   "metadata": {},
   "source": [
    "And a dataset stored as binary arrays"
   ]
  },
  {
   "cell_type": "code",
   "execution_count": 12,
   "metadata": {
    "execution": {
     "iopub.execute_input": "2021-05-18T06:52:13.939634Z",
     "iopub.status.busy": "2021-05-18T06:52:13.939154Z",
     "iopub.status.idle": "2021-05-18T06:52:13.987313Z",
     "shell.execute_reply": "2021-05-18T06:52:13.987782Z"
    },
    "scrolled": true
   },
   "outputs": [
    {
     "data": {
      "text/plain": [
       "{'x1': {'x1': array([[0.99748346],\n",
       "         [0.99748346],\n",
       "         [0.63640576],\n",
       "         [0.63640576],\n",
       "         [0.99591849],\n",
       "         [0.99591849],\n",
       "         [0.88769632],\n",
       "         [0.88769632],\n",
       "         [0.53397696],\n",
       "         [0.53397696],\n",
       "         [0.9508238 ],\n",
       "         [0.9508238 ],\n",
       "         [0.32896312],\n",
       "         [0.32896312],\n",
       "         [0.15568074],\n",
       "         [0.15568074],\n",
       "         [0.0285203 ],\n",
       "         [0.0285203 ],\n",
       "         [0.98154853],\n",
       "         [0.98154853],\n",
       "         [0.41526106],\n",
       "         [0.41526106],\n",
       "         [0.89220079],\n",
       "         [0.89220079],\n",
       "         [0.57449196],\n",
       "         [0.57449196],\n",
       "         [0.61303231],\n",
       "         [0.61303231],\n",
       "         [0.71237894],\n",
       "         [0.71237894],\n",
       "         [0.17012003],\n",
       "         [0.17012003],\n",
       "         [0.95469384],\n",
       "         [0.95469384],\n",
       "         [0.69916239],\n",
       "         [0.69916239],\n",
       "         [0.41156018],\n",
       "         [0.41156018],\n",
       "         [0.68826052],\n",
       "         [0.68826052],\n",
       "         [0.8481549 ],\n",
       "         [0.8481549 ],\n",
       "         [0.66929714],\n",
       "         [0.66929714],\n",
       "         [0.78820344],\n",
       "         [0.78820344],\n",
       "         [0.14960278],\n",
       "         [0.14960278],\n",
       "         [0.42625766],\n",
       "         [0.42625766],\n",
       "         [0.19383922],\n",
       "         [0.19383922],\n",
       "         [0.85817386],\n",
       "         [0.85817386],\n",
       "         [0.77573517],\n",
       "         [0.77573517],\n",
       "         [0.88160289],\n",
       "         [0.88160289],\n",
       "         [0.31111657],\n",
       "         [0.31111657],\n",
       "         [0.4259988 ],\n",
       "         [0.4259988 ],\n",
       "         [0.69428826],\n",
       "         [0.69428826],\n",
       "         [0.28740434],\n",
       "         [0.28740434],\n",
       "         [0.10181032],\n",
       "         [0.10181032],\n",
       "         [0.05837945],\n",
       "         [0.05837945],\n",
       "         [0.88973431],\n",
       "         [0.88973431],\n",
       "         [0.46701138],\n",
       "         [0.46701138],\n",
       "         [0.88164067],\n",
       "         [0.88164067],\n",
       "         [0.1394456 ],\n",
       "         [0.1394456 ],\n",
       "         [0.61836381],\n",
       "         [0.61836381],\n",
       "         [0.3239768 ],\n",
       "         [0.3239768 ],\n",
       "         [0.80804945],\n",
       "         [0.80804945],\n",
       "         [0.81985161],\n",
       "         [0.81985161],\n",
       "         [0.38189965],\n",
       "         [0.38189965],\n",
       "         [0.06348504],\n",
       "         [0.06348504],\n",
       "         [0.66733675],\n",
       "         [0.66733675],\n",
       "         [0.45498161],\n",
       "         [0.45498161],\n",
       "         [0.27825176],\n",
       "         [0.27825176],\n",
       "         [0.6744406 ],\n",
       "         [0.6744406 ],\n",
       "         [0.2742375 ],\n",
       "         [0.2742375 ],\n",
       "         [0.85351176],\n",
       "         [0.85351176],\n",
       "         [0.60181847],\n",
       "         [0.60181847],\n",
       "         [0.5008045 ],\n",
       "         [0.5008045 ],\n",
       "         [0.20303445],\n",
       "         [0.20303445],\n",
       "         [0.57616931],\n",
       "         [0.57616931],\n",
       "         [0.60216379],\n",
       "         [0.60216379],\n",
       "         [0.04279432],\n",
       "         [0.04279432],\n",
       "         [0.56645165],\n",
       "         [0.56645165],\n",
       "         [0.6662692 ],\n",
       "         [0.6662692 ],\n",
       "         [0.91965718],\n",
       "         [0.91965718],\n",
       "         [0.01481631],\n",
       "         [0.01481631],\n",
       "         [0.96722997],\n",
       "         [0.96722997],\n",
       "         [0.78436864],\n",
       "         [0.78436864],\n",
       "         [0.48974996],\n",
       "         [0.48974996],\n",
       "         [0.45780078],\n",
       "         [0.45780078],\n",
       "         [0.94772671],\n",
       "         [0.94772671],\n",
       "         [0.74503533],\n",
       "         [0.74503533],\n",
       "         [0.51704804],\n",
       "         [0.51704804],\n",
       "         [0.72069939],\n",
       "         [0.72069939],\n",
       "         [0.00281856],\n",
       "         [0.00281856],\n",
       "         [0.58839608],\n",
       "         [0.58839608],\n",
       "         [0.67518999],\n",
       "         [0.67518999],\n",
       "         [0.05706331],\n",
       "         [0.05706331],\n",
       "         [0.54818853],\n",
       "         [0.54818853],\n",
       "         [0.2169888 ],\n",
       "         [0.2169888 ],\n",
       "         [0.79961828],\n",
       "         [0.79961828],\n",
       "         [0.27897491],\n",
       "         [0.27897491],\n",
       "         [0.66073518],\n",
       "         [0.66073518],\n",
       "         [0.64334321],\n",
       "         [0.64334321],\n",
       "         [0.47623471],\n",
       "         [0.47623471],\n",
       "         [0.0441643 ],\n",
       "         [0.0441643 ],\n",
       "         [0.2212237 ],\n",
       "         [0.2212237 ],\n",
       "         [0.70877082],\n",
       "         [0.70877082],\n",
       "         [0.6784743 ],\n",
       "         [0.6784743 ],\n",
       "         [0.3216088 ],\n",
       "         [0.3216088 ],\n",
       "         [0.98131007],\n",
       "         [0.98131007],\n",
       "         [0.10627344],\n",
       "         [0.10627344],\n",
       "         [0.89189496],\n",
       "         [0.89189496],\n",
       "         [0.40726732],\n",
       "         [0.40726732],\n",
       "         [0.40936329],\n",
       "         [0.40936329],\n",
       "         [0.66930537],\n",
       "         [0.66930537],\n",
       "         [0.30991778],\n",
       "         [0.30991778],\n",
       "         [0.81041746],\n",
       "         [0.81041746],\n",
       "         [0.97100017],\n",
       "         [0.97100017],\n",
       "         [0.9727854 ],\n",
       "         [0.9727854 ],\n",
       "         [0.72244937],\n",
       "         [0.72244937],\n",
       "         [0.90538254],\n",
       "         [0.90538254],\n",
       "         [0.93195898],\n",
       "         [0.93195898],\n",
       "         [0.68025592],\n",
       "         [0.68025592],\n",
       "         [0.99286398],\n",
       "         [0.99286398]])}}"
      ]
     },
     "execution_count": 1,
     "metadata": {},
     "output_type": "execute_result"
    }
   ],
   "source": [
    "ds = load_by_id(run_id_a)\n",
    "ds.get_parameter_data('x1')"
   ]
  },
  {
   "cell_type": "code",
   "execution_count": null,
   "metadata": {},
   "outputs": [],
   "source": []
  }
 ],
 "metadata": {
  "kernelspec": {
   "display_name": "Python 3",
   "language": "python",
   "name": "python3"
  },
  "language_info": {
   "codemirror_mode": {
    "name": "ipython",
    "version": 3
   },
   "file_extension": ".py",
   "mimetype": "text/x-python",
   "name": "python",
   "nbconvert_exporter": "python",
   "pygments_lexer": "ipython3",
   "version": "3.7.10"
  },
  "nbsphinx": {
   "timeout": 600
  },
  "toc": {
   "base_numbering": 1,
   "nav_menu": {},
   "number_sections": true,
   "sideBar": true,
   "skip_h1_title": false,
   "title_cell": "Table of Contents",
   "title_sidebar": "Contents",
   "toc_cell": false,
   "toc_position": {},
   "toc_section_display": true,
   "toc_window_display": false
  },
  "varInspector": {
   "cols": {
    "lenName": 16,
    "lenType": 16,
    "lenVar": 40
   },
   "kernels_config": {
    "python": {
     "delete_cmd_postfix": "",
     "delete_cmd_prefix": "del ",
     "library": "var_list.py",
     "varRefreshCmd": "print(var_dic_list())"
    },
    "r": {
     "delete_cmd_postfix": ") ",
     "delete_cmd_prefix": "rm(",
     "library": "var_list.r",
     "varRefreshCmd": "cat(var_dic_list()) "
    }
   },
   "types_to_exclude": [
    "module",
    "function",
    "builtin_function_or_method",
    "instance",
    "_Feature"
   ],
   "window_display": false
  }
 },
 "nbformat": 4,
 "nbformat_minor": 4
}
