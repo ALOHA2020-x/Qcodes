{
 "cells": [
  {
   "cell_type": "markdown",
   "metadata": {},
   "source": [
    "# DataSet Performance\n",
    "\n",
    "This notebook shows the trade-off between inserting data into a database row-by-row and as binary blobs. Inserting the data row-by-row means that we have direct access to all the data and may perform queries directly on the values of the data. On the other hand, as we shall see, this is much slower than inserting the data directly as binary blobs."
   ]
  },
  {
   "cell_type": "markdown",
   "metadata": {},
   "source": [
    "First, we choose a new location for the database to ensure that we don't add a bunch of benchmarking data to the default one."
   ]
  },
  {
   "cell_type": "code",
   "execution_count": 1,
   "metadata": {
    "execution": {
     "iopub.execute_input": "2020-11-09T08:05:34.452244Z",
     "iopub.status.busy": "2020-11-09T08:05:34.451701Z",
     "iopub.status.idle": "2020-11-09T08:05:35.492150Z",
     "shell.execute_reply": "2020-11-09T08:05:35.491208Z"
    }
   },
   "outputs": [
    {
     "name": "stdout",
     "output_type": "stream",
     "text": [
      "Logging hadn't been started.\n",
      "Activating auto-logging. Current session state plus future input saved.\n",
      "Filename       : /home/vsts/.qcodes/logs/command_history.log\n",
      "Mode           : append\n",
      "Output logging : True\n",
      "Raw input log  : False\n",
      "Timestamping   : True\n",
      "State          : active\n"
     ]
    },
    {
     "name": "stdout",
     "output_type": "stream",
     "text": [
      "Qcodes Logfile : /home/vsts/.qcodes/logs/201109-14541-qcodes.log\n"
     ]
    }
   ],
   "source": [
    "import os\n",
    "cwd = os.getcwd()\n",
    "import qcodes as qc\n",
    "qc.config[\"core\"][\"db_location\"] = os.path.join(cwd, 'testing.db')\n"
   ]
  },
  {
   "cell_type": "code",
   "execution_count": 2,
   "metadata": {
    "execution": {
     "iopub.execute_input": "2020-11-09T08:05:35.498946Z",
     "iopub.status.busy": "2020-11-09T08:05:35.498344Z",
     "iopub.status.idle": "2020-11-09T08:05:35.688590Z",
     "shell.execute_reply": "2020-11-09T08:05:35.687732Z"
    }
   },
   "outputs": [],
   "source": [
    "%matplotlib inline\n",
    "import time\n",
    "import matplotlib.pyplot as plt\n",
    "import numpy as np\n",
    "\n",
    "import qcodes as qc\n",
    "from qcodes.instrument.parameter import ManualParameter\n",
    "from qcodes.dataset.experiment_container import (Experiment,\n",
    "                                                 load_last_experiment,\n",
    "                                                 new_experiment)\n",
    "from qcodes.dataset.sqlite.database import initialise_database\n",
    "from qcodes import load_or_create_experiment\n",
    "from qcodes.dataset.measurements import Measurement"
   ]
  },
  {
   "cell_type": "code",
   "execution_count": 3,
   "metadata": {
    "execution": {
     "iopub.execute_input": "2020-11-09T08:05:35.693565Z",
     "iopub.status.busy": "2020-11-09T08:05:35.692571Z",
     "iopub.status.idle": "2020-11-09T08:05:35.794644Z",
     "shell.execute_reply": "2020-11-09T08:05:35.795065Z"
    }
   },
   "outputs": [
    {
     "name": "stdout",
     "output_type": "stream",
     "text": [
      "\r",
      "0it [00:00, ?it/s]"
     ]
    },
    {
     "name": "stdout",
     "output_type": "stream",
     "text": [
      "\r",
      "Upgrading database; v0 -> v1: : 0it [00:00, ?it/s]"
     ]
    },
    {
     "name": "stdout",
     "output_type": "stream",
     "text": [
      "\r",
      "Upgrading database; v0 -> v1: : 0it [00:00, ?it/s]"
     ]
    },
    {
     "name": "stdout",
     "output_type": "stream",
     "text": [
      "\n",
      "\r",
      "  0%|          | 0/1 [00:00<?, ?it/s]"
     ]
    },
    {
     "name": "stdout",
     "output_type": "stream",
     "text": [
      "\r",
      "Upgrading database; v1 -> v2:   0%|          | 0/1 [00:00<?, ?it/s]"
     ]
    },
    {
     "name": "stdout",
     "output_type": "stream",
     "text": [
      "\r",
      "Upgrading database; v1 -> v2: 100%|██████████| 1/1 [00:00<00:00, 539.11it/s]"
     ]
    },
    {
     "name": "stdout",
     "output_type": "stream",
     "text": [
      "\n",
      "\r",
      "0it [00:00, ?it/s]"
     ]
    },
    {
     "name": "stdout",
     "output_type": "stream",
     "text": [
      "\r",
      "Upgrading database; v2 -> v3: : 0it [00:00, ?it/s]"
     ]
    },
    {
     "name": "stdout",
     "output_type": "stream",
     "text": [
      "\r",
      "Upgrading database; v2 -> v3: : 0it [00:00, ?it/s]"
     ]
    },
    {
     "name": "stdout",
     "output_type": "stream",
     "text": [
      "\n",
      "\r",
      "0it [00:00, ?it/s]"
     ]
    },
    {
     "name": "stdout",
     "output_type": "stream",
     "text": [
      "\r",
      "Upgrading database; v3 -> v4: : 0it [00:00, ?it/s]"
     ]
    },
    {
     "name": "stdout",
     "output_type": "stream",
     "text": [
      "\r",
      "Upgrading database; v3 -> v4: : 0it [00:00, ?it/s]"
     ]
    },
    {
     "name": "stdout",
     "output_type": "stream",
     "text": [
      "\n",
      "\r",
      "  0%|          | 0/1 [00:00<?, ?it/s]"
     ]
    },
    {
     "name": "stdout",
     "output_type": "stream",
     "text": [
      "\r",
      "Upgrading database; v4 -> v5:   0%|          | 0/1 [00:00<?, ?it/s]"
     ]
    },
    {
     "name": "stdout",
     "output_type": "stream",
     "text": [
      "\r",
      "Upgrading database; v4 -> v5: 100%|██████████| 1/1 [00:00<00:00, 446.35it/s]"
     ]
    },
    {
     "name": "stdout",
     "output_type": "stream",
     "text": [
      "\n",
      "\r",
      "0it [00:00, ?it/s]"
     ]
    },
    {
     "name": "stdout",
     "output_type": "stream",
     "text": [
      "\r",
      "Upgrading database; v5 -> v6: : 0it [00:00, ?it/s]"
     ]
    },
    {
     "name": "stdout",
     "output_type": "stream",
     "text": [
      "\r",
      "Upgrading database; v5 -> v6: : 0it [00:00, ?it/s]"
     ]
    },
    {
     "name": "stdout",
     "output_type": "stream",
     "text": [
      "\n",
      "\r",
      "  0%|          | 0/1 [00:00<?, ?it/s]"
     ]
    },
    {
     "name": "stdout",
     "output_type": "stream",
     "text": [
      "\r",
      "Upgrading database; v6 -> v7:   0%|          | 0/1 [00:00<?, ?it/s]"
     ]
    },
    {
     "name": "stdout",
     "output_type": "stream",
     "text": [
      "\r",
      "Upgrading database; v6 -> v7: 100%|██████████| 1/1 [00:00<00:00, 405.33it/s]"
     ]
    },
    {
     "name": "stdout",
     "output_type": "stream",
     "text": [
      "\n",
      "\r",
      "  0%|          | 0/1 [00:00<?, ?it/s]"
     ]
    },
    {
     "name": "stdout",
     "output_type": "stream",
     "text": [
      "\r",
      "Upgrading database; v7 -> v8:   0%|          | 0/1 [00:00<?, ?it/s]"
     ]
    },
    {
     "name": "stdout",
     "output_type": "stream",
     "text": [
      "\r",
      "Upgrading database; v7 -> v8: 100%|██████████| 1/1 [00:00<00:00, 416.39it/s]"
     ]
    },
    {
     "name": "stdout",
     "output_type": "stream",
     "text": [
      "\n",
      "\r",
      "  0%|          | 0/1 [00:00<?, ?it/s]"
     ]
    },
    {
     "name": "stdout",
     "output_type": "stream",
     "text": [
      "\r",
      "Upgrading database; v8 -> v9:   0%|          | 0/1 [00:00<?, ?it/s]"
     ]
    },
    {
     "name": "stdout",
     "output_type": "stream",
     "text": [
      "\r",
      "Upgrading database; v8 -> v9: 100%|██████████| 1/1 [00:00<00:00, 1069.43it/s]"
     ]
    },
    {
     "name": "stdout",
     "output_type": "stream",
     "text": [
      "\n"
     ]
    }
   ],
   "source": [
    "initialise_database()\n",
    "exp = load_or_create_experiment(experiment_name='tutorial_exp', sample_name=\"no sample\")"
   ]
  },
  {
   "cell_type": "markdown",
   "metadata": {},
   "source": [
    "Here, we define a simple function to benchmark the time it takes to insert n points with either numeric or array data type.\n",
    "We will compare both the time used to call ``add_result`` and the time used for the full measurement."
   ]
  },
  {
   "cell_type": "code",
   "execution_count": 4,
   "metadata": {
    "execution": {
     "iopub.execute_input": "2020-11-09T08:05:35.803673Z",
     "iopub.status.busy": "2020-11-09T08:05:35.803101Z",
     "iopub.status.idle": "2020-11-09T08:05:35.806113Z",
     "shell.execute_reply": "2020-11-09T08:05:35.806528Z"
    }
   },
   "outputs": [],
   "source": [
    "def insert_data(paramtype, npoints, nreps=1):\n",
    "\n",
    "    meas = Measurement(exp=exp)\n",
    "\n",
    "    x1 = ManualParameter('x1')\n",
    "    x2 = ManualParameter('x2')\n",
    "    x3 = ManualParameter('x3')\n",
    "    y1 = ManualParameter('y1')\n",
    "    y2 = ManualParameter('y2')\n",
    "\n",
    "    meas.register_parameter(x1, paramtype=paramtype)\n",
    "    meas.register_parameter(x2, paramtype=paramtype)\n",
    "    meas.register_parameter(x3, paramtype=paramtype)\n",
    "    meas.register_parameter(y1, setpoints=[x1, x2, x3],\n",
    "                            paramtype=paramtype)\n",
    "    meas.register_parameter(y2, setpoints=[x1, x2, x3],\n",
    "                            paramtype=paramtype)\n",
    "    start = time.perf_counter()\n",
    "    with meas.run() as datasaver:\n",
    "        start_adding = time.perf_counter()\n",
    "        for i in range(nreps):\n",
    "            datasaver.add_result((x1, np.random.rand(npoints)),\n",
    "                                 (x2, np.random.rand(npoints)),\n",
    "                                 (x3, np.random.rand(npoints)),\n",
    "                                 (y1, np.random.rand(npoints)),\n",
    "                                 (y2, np.random.rand(npoints)))\n",
    "        stop_adding = time.perf_counter()\n",
    "        run_id = datasaver.run_id\n",
    "    stop = time.perf_counter()\n",
    "    tot_time = stop - start\n",
    "    add_time = stop_adding - start_adding\n",
    "    return tot_time, add_time, run_id"
   ]
  },
  {
   "cell_type": "markdown",
   "metadata": {},
   "source": [
    "## Comparison between numeric/array data and binary blob"
   ]
  },
  {
   "cell_type": "markdown",
   "metadata": {},
   "source": [
    "### Case1: Short experiment time"
   ]
  },
  {
   "cell_type": "code",
   "execution_count": 5,
   "metadata": {
    "execution": {
     "iopub.execute_input": "2020-11-09T08:05:35.811342Z",
     "iopub.status.busy": "2020-11-09T08:05:35.810289Z",
     "iopub.status.idle": "2020-11-09T08:05:36.667060Z",
     "shell.execute_reply": "2020-11-09T08:05:36.666555Z"
    }
   },
   "outputs": [
    {
     "name": "stdout",
     "output_type": "stream",
     "text": [
      "Starting experimental run with id: 1. \n",
      "Starting experimental run with id: 2. \n",
      "Starting experimental run with id: 3. \n",
      "Starting experimental run with id: 4. \n",
      "Starting experimental run with id: 5. \n"
     ]
    },
    {
     "name": "stdout",
     "output_type": "stream",
     "text": [
      "Starting experimental run with id: 6. \n"
     ]
    },
    {
     "name": "stdout",
     "output_type": "stream",
     "text": [
      "Starting experimental run with id: 7. \n"
     ]
    },
    {
     "name": "stdout",
     "output_type": "stream",
     "text": [
      "Starting experimental run with id: 8. \n",
      "Starting experimental run with id: 9. \n"
     ]
    },
    {
     "name": "stdout",
     "output_type": "stream",
     "text": [
      "Starting experimental run with id: 10. \n",
      "Starting experimental run with id: 11. \n"
     ]
    },
    {
     "name": "stdout",
     "output_type": "stream",
     "text": [
      "Starting experimental run with id: 12. \n",
      "Starting experimental run with id: 13. \n"
     ]
    },
    {
     "name": "stdout",
     "output_type": "stream",
     "text": [
      "Starting experimental run with id: 14. \n"
     ]
    }
   ],
   "source": [
    "sizes = [1,500,1000,2000,3000,4000,5000]\n",
    "t_numeric = []\n",
    "t_numeric_add = []\n",
    "t_array = []\n",
    "t_array_add = []\n",
    "for size in sizes:\n",
    "    tn, tna, run_id_n =  insert_data('numeric', size)\n",
    "    t_numeric.append(tn)\n",
    "    t_numeric_add.append(tna)\n",
    "\n",
    "    ta, taa, run_id_a =  insert_data('array', size)\n",
    "    t_array.append(ta)\n",
    "    t_array_add.append(taa)"
   ]
  },
  {
   "cell_type": "code",
   "execution_count": 6,
   "metadata": {
    "execution": {
     "iopub.execute_input": "2020-11-09T08:05:36.709229Z",
     "iopub.status.busy": "2020-11-09T08:05:36.684257Z",
     "iopub.status.idle": "2020-11-09T08:05:36.859954Z",
     "shell.execute_reply": "2020-11-09T08:05:36.860386Z"
    }
   },
   "outputs": [
    {
     "data": {
      "image/png": "[encoded data removed]",
      "text/plain": [
       "<Figure size 432x288 with 1 Axes>"
      ]
     },
     "metadata": {
      "needs_background": "light"
     },
     "output_type": "display_data"
    }
   ],
   "source": [
    "fig, ax = plt.subplots(1,1)\n",
    "ax.plot(sizes, t_numeric, 'o-', label='Inserting row-by-row')\n",
    "ax.plot(sizes, t_numeric_add, 'o-', label='Inserting row-by-row: add_result only')\n",
    "ax.plot(sizes, t_array, 'd-', label='Inserting as binary blob')\n",
    "ax.plot(sizes, t_array_add, 'd-', label='Inserting as binary blob: add_result only')\n",
    "ax.legend()\n",
    "ax.set_xlabel('Array length')\n",
    "ax.set_ylabel('Time (s)')\n",
    "fig.tight_layout()"
   ]
  },
  {
   "cell_type": "markdown",
   "metadata": {},
   "source": [
    "As shown in the latter figure, the time to setup and and close the experiment is approximately 0.4 sec. In case of small array sizes, the difference between inserting values of data as arrays and inserting them row-by-row is relatively unimportant. At larger array sizes, i.e. above 10000 points, the cost of writing data as individual datapoints starts to become important.\n"
   ]
  },
  {
   "cell_type": "markdown",
   "metadata": {},
   "source": [
    "### Case2: Long experiment time "
   ]
  },
  {
   "cell_type": "code",
   "execution_count": 7,
   "metadata": {
    "execution": {
     "iopub.execute_input": "2020-11-09T08:05:36.866564Z",
     "iopub.status.busy": "2020-11-09T08:05:36.865998Z",
     "iopub.status.idle": "2020-11-09T08:06:39.314044Z",
     "shell.execute_reply": "2020-11-09T08:06:39.313529Z"
    }
   },
   "outputs": [
    {
     "name": "stdout",
     "output_type": "stream",
     "text": [
      "Starting experimental run with id: 15. \n",
      "Starting experimental run with id: 16. \n",
      "Starting experimental run with id: 17. \n"
     ]
    },
    {
     "name": "stdout",
     "output_type": "stream",
     "text": [
      "Starting experimental run with id: 18. \n",
      "Starting experimental run with id: 19. \n"
     ]
    },
    {
     "name": "stdout",
     "output_type": "stream",
     "text": [
      "Starting experimental run with id: 20. \n"
     ]
    },
    {
     "name": "stdout",
     "output_type": "stream",
     "text": [
      "Starting experimental run with id: 21. \n"
     ]
    },
    {
     "name": "stdout",
     "output_type": "stream",
     "text": [
      "Starting experimental run with id: 22. \n"
     ]
    },
    {
     "name": "stdout",
     "output_type": "stream",
     "text": [
      "Starting experimental run with id: 23. \n"
     ]
    },
    {
     "name": "stdout",
     "output_type": "stream",
     "text": [
      "Starting experimental run with id: 24. \n"
     ]
    },
    {
     "name": "stdout",
     "output_type": "stream",
     "text": [
      "Starting experimental run with id: 25. \n"
     ]
    },
    {
     "name": "stdout",
     "output_type": "stream",
     "text": [
      "Starting experimental run with id: 26. \n"
     ]
    },
    {
     "name": "stdout",
     "output_type": "stream",
     "text": [
      "Starting experimental run with id: 27. \n"
     ]
    },
    {
     "name": "stdout",
     "output_type": "stream",
     "text": [
      "Starting experimental run with id: 28. \n"
     ]
    }
   ],
   "source": [
    "sizes = [1,500,1000,2000,3000,4000,5000]\n",
    "nreps = 100\n",
    "t_numeric = []\n",
    "t_numeric_add = []\n",
    "t_numeric_run_ids = []\n",
    "t_array = []\n",
    "t_array_add = []\n",
    "t_array_run_ids = []\n",
    "for size in sizes:\n",
    "    tn, tna, run_id_n =  insert_data('numeric', size, nreps=nreps)\n",
    "    t_numeric.append(tn)\n",
    "    t_numeric_add.append(tna)\n",
    "    t_numeric_run_ids.append(run_id_n)\n",
    "\n",
    "    ta, taa, run_id_a =  insert_data('array', size, nreps=nreps)\n",
    "    t_array.append(ta)\n",
    "    t_array_add.append(taa)\n",
    "    t_array_run_ids.append(run_id_a)"
   ]
  },
  {
   "cell_type": "code",
   "execution_count": 8,
   "metadata": {
    "execution": {
     "iopub.execute_input": "2020-11-09T08:06:39.330113Z",
     "iopub.status.busy": "2020-11-09T08:06:39.319379Z",
     "iopub.status.idle": "2020-11-09T08:06:39.494953Z",
     "shell.execute_reply": "2020-11-09T08:06:39.495425Z"
    },
    "scrolled": true
   },
   "outputs": [
    {
     "data": {
      "image/png": "[encoded data removed]",
      "text/plain": [
       "<Figure size 432x288 with 1 Axes>"
      ]
     },
     "metadata": {
      "needs_background": "light"
     },
     "output_type": "display_data"
    }
   ],
   "source": [
    "fig, ax = plt.subplots(1,1)\n",
    "ax.plot(sizes, t_numeric, 'o-', label='Inserting row-by-row')\n",
    "ax.plot(sizes, t_numeric_add, 'o-', label='Inserting row-by-row: add_result only')\n",
    "ax.plot(sizes, t_array, 'd-', label='Inserting as binary blob')\n",
    "ax.plot(sizes, t_array_add, 'd-', label='Inserting as binary blob: add_result only')\n",
    "ax.legend()\n",
    "ax.set_xlabel('Array length')\n",
    "ax.set_ylabel('Time (s)')\n",
    "fig.tight_layout()"
   ]
  },
  {
   "cell_type": "markdown",
   "metadata": {},
   "source": [
    "However, as we increase the length of the experiment, as seen here by repeating the insertion 100 times, we see a big difference between inserting values of the data row-by-row and inserting it as a binary blob."
   ]
  },
  {
   "cell_type": "markdown",
   "metadata": {},
   "source": [
    "## Loading the data "
   ]
  },
  {
   "cell_type": "code",
   "execution_count": 9,
   "metadata": {
    "execution": {
     "iopub.execute_input": "2020-11-09T08:06:39.499172Z",
     "iopub.status.busy": "2020-11-09T08:06:39.498634Z",
     "iopub.status.idle": "2020-11-09T08:06:39.500701Z",
     "shell.execute_reply": "2020-11-09T08:06:39.501255Z"
    }
   },
   "outputs": [],
   "source": [
    "from qcodes.dataset.data_set import load_by_id\n",
    "from qcodes.dataset.data_export import get_data_by_id"
   ]
  },
  {
   "cell_type": "markdown",
   "metadata": {},
   "source": [
    "As usual you can load the data by using the ``load_by_id`` function but you will notice that the different storage methods\n",
    "are reflected in shape of the data as it is retrieved. "
   ]
  },
  {
   "cell_type": "code",
   "execution_count": 10,
   "metadata": {
    "execution": {
     "iopub.execute_input": "2020-11-09T08:06:39.504806Z",
     "iopub.status.busy": "2020-11-09T08:06:39.504269Z",
     "iopub.status.idle": "2020-11-09T08:06:39.505738Z",
     "shell.execute_reply": "2020-11-09T08:06:39.506255Z"
    }
   },
   "outputs": [],
   "source": [
    "run_id_n = t_numeric_run_ids[0]\n",
    "run_id_a = t_array_run_ids[0]"
   ]
  },
  {
   "cell_type": "code",
   "execution_count": 11,
   "metadata": {
    "execution": {
     "iopub.execute_input": "2020-11-09T08:06:39.508583Z",
     "iopub.status.busy": "2020-11-09T08:06:39.508020Z",
     "iopub.status.idle": "2020-11-09T08:06:39.517547Z",
     "shell.execute_reply": "2020-11-09T08:06:39.518074Z"
    },
    "scrolled": true
   },
   "outputs": [
    {
     "data": {
      "text/plain": [
       "{'x1': {'x1': array([0.05393817, 0.05393817, 0.61544283, 0.61544283, 0.53962648,\n",
       "         0.53962648, 0.20308832, 0.20308832, 0.9427283 , 0.9427283 ,\n",
       "         0.91653192, 0.91653192, 0.93853696, 0.93853696, 0.80244216,\n",
       "         0.80244216, 0.66955582, 0.66955582, 0.96703453, 0.96703453,\n",
       "         0.48548287, 0.48548287, 0.67063685, 0.67063685, 0.72726442,\n",
       "         0.72726442, 0.32552633, 0.32552633, 0.37684843, 0.37684843,\n",
       "         0.76558001, 0.76558001, 0.68215879, 0.68215879, 0.81708846,\n",
       "         0.81708846, 0.60284012, 0.60284012, 0.72960341, 0.72960341,\n",
       "         0.689584  , 0.689584  , 0.58226824, 0.58226824, 0.4302883 ,\n",
       "         0.4302883 , 0.45805519, 0.45805519, 0.06806007, 0.06806007,\n",
       "         0.61873206, 0.61873206, 0.31563756, 0.31563756, 0.23201118,\n",
       "         0.23201118, 0.86227853, 0.86227853, 0.75649619, 0.75649619,\n",
       "         0.83392612, 0.83392612, 0.39421296, 0.39421296, 0.12154222,\n",
       "         0.12154222, 0.55156888, 0.55156888, 0.38744899, 0.38744899,\n",
       "         0.23449862, 0.23449862, 0.32663521, 0.32663521, 0.6431489 ,\n",
       "         0.6431489 , 0.84207135, 0.84207135, 0.96329584, 0.96329584,\n",
       "         0.99247178, 0.99247178, 0.10875634, 0.10875634, 0.72267114,\n",
       "         0.72267114, 0.39056478, 0.39056478, 0.053071  , 0.053071  ,\n",
       "         0.63733129, 0.63733129, 0.26244814, 0.26244814, 0.72627543,\n",
       "         0.72627543, 0.76444158, 0.76444158, 0.98337408, 0.98337408,\n",
       "         0.88452526, 0.88452526, 0.35286844, 0.35286844, 0.42764321,\n",
       "         0.42764321, 0.61496143, 0.61496143, 0.0852773 , 0.0852773 ,\n",
       "         0.33124272, 0.33124272, 0.68553185, 0.68553185, 0.08507334,\n",
       "         0.08507334, 0.36667869, 0.36667869, 0.75300932, 0.75300932,\n",
       "         0.07049863, 0.07049863, 0.66798367, 0.66798367, 0.30955863,\n",
       "         0.30955863, 0.94904722, 0.94904722, 0.56478163, 0.56478163,\n",
       "         0.29904188, 0.29904188, 0.76332215, 0.76332215, 0.86903696,\n",
       "         0.86903696, 0.91070041, 0.91070041, 0.93838864, 0.93838864,\n",
       "         0.23402425, 0.23402425, 0.87654103, 0.87654103, 0.8973234 ,\n",
       "         0.8973234 , 0.27678731, 0.27678731, 0.65616871, 0.65616871,\n",
       "         0.35477636, 0.35477636, 0.27662188, 0.27662188, 0.4455021 ,\n",
       "         0.4455021 , 0.61995204, 0.61995204, 0.35242577, 0.35242577,\n",
       "         0.69662508, 0.69662508, 0.184443  , 0.184443  , 0.96351038,\n",
       "         0.96351038, 0.60406444, 0.60406444, 0.35208884, 0.35208884,\n",
       "         0.01073147, 0.01073147, 0.14168188, 0.14168188, 0.65847848,\n",
       "         0.65847848, 0.37117742, 0.37117742, 0.29850375, 0.29850375,\n",
       "         0.76261754, 0.76261754, 0.82806786, 0.82806786, 0.49540319,\n",
       "         0.49540319, 0.90201396, 0.90201396, 0.13339056, 0.13339056,\n",
       "         0.39953245, 0.39953245, 0.17011958, 0.17011958, 0.41781081,\n",
       "         0.41781081, 0.58904145, 0.58904145, 0.05211467, 0.05211467])}}"
      ]
     },
     "execution_count": 1,
     "metadata": {},
     "output_type": "execute_result"
    }
   ],
   "source": [
    "ds = load_by_id(run_id_n)\n",
    "ds.get_parameter_data('x1')"
   ]
  },
  {
   "cell_type": "markdown",
   "metadata": {},
   "source": [
    "And a dataset stored as binary arrays"
   ]
  },
  {
   "cell_type": "code",
   "execution_count": 12,
   "metadata": {
    "execution": {
     "iopub.execute_input": "2020-11-09T08:06:39.521352Z",
     "iopub.status.busy": "2020-11-09T08:06:39.520784Z",
     "iopub.status.idle": "2020-11-09T08:06:39.575278Z",
     "shell.execute_reply": "2020-11-09T08:06:39.575735Z"
    },
    "scrolled": true
   },
   "outputs": [
    {
     "data": {
      "text/plain": [
       "{'x1': {'x1': array([[0.26222667],\n",
       "         [0.26222667],\n",
       "         [0.05139341],\n",
       "         [0.05139341],\n",
       "         [0.03663041],\n",
       "         [0.03663041],\n",
       "         [0.92898996],\n",
       "         [0.92898996],\n",
       "         [0.36284319],\n",
       "         [0.36284319],\n",
       "         [0.95847923],\n",
       "         [0.95847923],\n",
       "         [0.3777733 ],\n",
       "         [0.3777733 ],\n",
       "         [0.39845231],\n",
       "         [0.39845231],\n",
       "         [0.84964672],\n",
       "         [0.84964672],\n",
       "         [0.24920121],\n",
       "         [0.24920121],\n",
       "         [0.26049089],\n",
       "         [0.26049089],\n",
       "         [0.84054344],\n",
       "         [0.84054344],\n",
       "         [0.95831188],\n",
       "         [0.95831188],\n",
       "         [0.38261717],\n",
       "         [0.38261717],\n",
       "         [0.13946999],\n",
       "         [0.13946999],\n",
       "         [0.37657083],\n",
       "         [0.37657083],\n",
       "         [0.53791934],\n",
       "         [0.53791934],\n",
       "         [0.29948599],\n",
       "         [0.29948599],\n",
       "         [0.352786  ],\n",
       "         [0.352786  ],\n",
       "         [0.28706345],\n",
       "         [0.28706345],\n",
       "         [0.61716135],\n",
       "         [0.61716135],\n",
       "         [0.23797563],\n",
       "         [0.23797563],\n",
       "         [0.63479572],\n",
       "         [0.63479572],\n",
       "         [0.47551986],\n",
       "         [0.47551986],\n",
       "         [0.61756532],\n",
       "         [0.61756532],\n",
       "         [0.70472149],\n",
       "         [0.70472149],\n",
       "         [0.9146258 ],\n",
       "         [0.9146258 ],\n",
       "         [0.41381562],\n",
       "         [0.41381562],\n",
       "         [0.8605656 ],\n",
       "         [0.8605656 ],\n",
       "         [0.3985054 ],\n",
       "         [0.3985054 ],\n",
       "         [0.11061441],\n",
       "         [0.11061441],\n",
       "         [0.04270682],\n",
       "         [0.04270682],\n",
       "         [0.04961598],\n",
       "         [0.04961598],\n",
       "         [0.92927697],\n",
       "         [0.92927697],\n",
       "         [0.34867133],\n",
       "         [0.34867133],\n",
       "         [0.8316729 ],\n",
       "         [0.8316729 ],\n",
       "         [0.61080897],\n",
       "         [0.61080897],\n",
       "         [0.76425628],\n",
       "         [0.76425628],\n",
       "         [0.90994509],\n",
       "         [0.90994509],\n",
       "         [0.3998057 ],\n",
       "         [0.3998057 ],\n",
       "         [0.21787525],\n",
       "         [0.21787525],\n",
       "         [0.59711225],\n",
       "         [0.59711225],\n",
       "         [0.79379468],\n",
       "         [0.79379468],\n",
       "         [0.20200331],\n",
       "         [0.20200331],\n",
       "         [0.30563446],\n",
       "         [0.30563446],\n",
       "         [0.34610872],\n",
       "         [0.34610872],\n",
       "         [0.16480222],\n",
       "         [0.16480222],\n",
       "         [0.37822949],\n",
       "         [0.37822949],\n",
       "         [0.46035518],\n",
       "         [0.46035518],\n",
       "         [0.40741235],\n",
       "         [0.40741235],\n",
       "         [0.81404746],\n",
       "         [0.81404746],\n",
       "         [0.11160238],\n",
       "         [0.11160238],\n",
       "         [0.75701455],\n",
       "         [0.75701455],\n",
       "         [0.5338275 ],\n",
       "         [0.5338275 ],\n",
       "         [0.45330121],\n",
       "         [0.45330121],\n",
       "         [0.5112311 ],\n",
       "         [0.5112311 ],\n",
       "         [0.81126724],\n",
       "         [0.81126724],\n",
       "         [0.61622066],\n",
       "         [0.61622066],\n",
       "         [0.73958865],\n",
       "         [0.73958865],\n",
       "         [0.70341861],\n",
       "         [0.70341861],\n",
       "         [0.4715413 ],\n",
       "         [0.4715413 ],\n",
       "         [0.78020679],\n",
       "         [0.78020679],\n",
       "         [0.99380533],\n",
       "         [0.99380533],\n",
       "         [0.14101283],\n",
       "         [0.14101283],\n",
       "         [0.79315314],\n",
       "         [0.79315314],\n",
       "         [0.28713439],\n",
       "         [0.28713439],\n",
       "         [0.32984449],\n",
       "         [0.32984449],\n",
       "         [0.6170827 ],\n",
       "         [0.6170827 ],\n",
       "         [0.39325044],\n",
       "         [0.39325044],\n",
       "         [0.3669827 ],\n",
       "         [0.3669827 ],\n",
       "         [0.81454649],\n",
       "         [0.81454649],\n",
       "         [0.48075044],\n",
       "         [0.48075044],\n",
       "         [0.76707078],\n",
       "         [0.76707078],\n",
       "         [0.95818003],\n",
       "         [0.95818003],\n",
       "         [0.74360844],\n",
       "         [0.74360844],\n",
       "         [0.89625467],\n",
       "         [0.89625467],\n",
       "         [0.45093087],\n",
       "         [0.45093087],\n",
       "         [0.24457319],\n",
       "         [0.24457319],\n",
       "         [0.18821609],\n",
       "         [0.18821609],\n",
       "         [0.66101978],\n",
       "         [0.66101978],\n",
       "         [0.07163254],\n",
       "         [0.07163254],\n",
       "         [0.65739786],\n",
       "         [0.65739786],\n",
       "         [0.75744536],\n",
       "         [0.75744536],\n",
       "         [0.0243199 ],\n",
       "         [0.0243199 ],\n",
       "         [0.2440471 ],\n",
       "         [0.2440471 ],\n",
       "         [0.29002337],\n",
       "         [0.29002337],\n",
       "         [0.65334514],\n",
       "         [0.65334514],\n",
       "         [0.57897386],\n",
       "         [0.57897386],\n",
       "         [0.12818022],\n",
       "         [0.12818022],\n",
       "         [0.31597201],\n",
       "         [0.31597201],\n",
       "         [0.25969716],\n",
       "         [0.25969716],\n",
       "         [0.11602467],\n",
       "         [0.11602467],\n",
       "         [0.81226523],\n",
       "         [0.81226523],\n",
       "         [0.93687876],\n",
       "         [0.93687876],\n",
       "         [0.570732  ],\n",
       "         [0.570732  ],\n",
       "         [0.38863862],\n",
       "         [0.38863862],\n",
       "         [0.70169844],\n",
       "         [0.70169844],\n",
       "         [0.9126042 ],\n",
       "         [0.9126042 ],\n",
       "         [0.57155719],\n",
       "         [0.57155719],\n",
       "         [0.7256607 ],\n",
       "         [0.7256607 ]])}}"
      ]
     },
     "execution_count": 1,
     "metadata": {},
     "output_type": "execute_result"
    }
   ],
   "source": [
    "ds = load_by_id(run_id_a)\n",
    "ds.get_parameter_data('x1')"
   ]
  },
  {
   "cell_type": "code",
   "execution_count": null,
   "metadata": {},
   "outputs": [],
   "source": []
  }
 ],
 "metadata": {
  "kernelspec": {
   "display_name": "Python 3",
   "language": "python",
   "name": "python3"
  },
  "language_info": {
   "codemirror_mode": {
    "name": "ipython",
    "version": 3
   },
   "file_extension": ".py",
   "mimetype": "text/x-python",
   "name": "python",
   "nbconvert_exporter": "python",
   "pygments_lexer": "ipython3",
   "version": "3.7.9"
  },
  "nbsphinx": {
   "timeout": 600
  },
  "toc": {
   "base_numbering": 1,
   "nav_menu": {},
   "number_sections": true,
   "sideBar": true,
   "skip_h1_title": false,
   "title_cell": "Table of Contents",
   "title_sidebar": "Contents",
   "toc_cell": false,
   "toc_position": {},
   "toc_section_display": true,
   "toc_window_display": false
  },
  "varInspector": {
   "cols": {
    "lenName": 16,
    "lenType": 16,
    "lenVar": 40
   },
   "kernels_config": {
    "python": {
     "delete_cmd_postfix": "",
     "delete_cmd_prefix": "del ",
     "library": "var_list.py",
     "varRefreshCmd": "print(var_dic_list())"
    },
    "r": {
     "delete_cmd_postfix": ") ",
     "delete_cmd_prefix": "rm(",
     "library": "var_list.r",
     "varRefreshCmd": "cat(var_dic_list()) "
    }
   },
   "types_to_exclude": [
    "module",
    "function",
    "builtin_function_or_method",
    "instance",
    "_Feature"
   ],
   "window_display": false
  }
 },
 "nbformat": 4,
 "nbformat_minor": 2
}
