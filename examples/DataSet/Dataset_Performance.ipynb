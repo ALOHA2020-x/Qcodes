{
 "cells": [
  {
   "cell_type": "markdown",
   "metadata": {},
   "source": [
    "# DataSet Performance\n",
    "\n",
    "This notebook shows the trade-off between inserting data into a database row-by-row and as binary blobs. Inserting the data row-by-row means that we have direct access to all the data and may perform queries directly on the values of the data. On the other hand, as we shall see, this is much slower than inserting the data directly as binary blobs."
   ]
  },
  {
   "cell_type": "markdown",
   "metadata": {},
   "source": [
    "First, we choose a new location for the database to ensure that we don't add a bunch of benchmarking data to the default one."
   ]
  },
  {
   "cell_type": "code",
   "execution_count": 1,
   "metadata": {
    "execution": {
     "iopub.execute_input": "2020-10-20T10:58:07.996417Z",
     "iopub.status.busy": "2020-10-20T10:58:07.995873Z",
     "iopub.status.idle": "2020-10-20T10:58:09.090019Z",
     "shell.execute_reply": "2020-10-20T10:58:09.089417Z"
    }
   },
   "outputs": [
    {
     "name": "stdout",
     "output_type": "stream",
     "text": [
      "Logging hadn't been started.\n",
      "Activating auto-logging. Current session state plus future input saved.\n",
      "Filename       : /home/vsts/.qcodes/logs/command_history.log\n",
      "Mode           : append\n",
      "Output logging : True\n",
      "Raw input log  : False\n",
      "Timestamping   : True\n",
      "State          : active\n"
     ]
    },
    {
     "name": "stdout",
     "output_type": "stream",
     "text": [
      "Qcodes Logfile : /home/vsts/.qcodes/logs/201020-14847-qcodes.log\n"
     ]
    }
   ],
   "source": [
    "import os\n",
    "cwd = os.getcwd()\n",
    "import qcodes as qc\n",
    "qc.config[\"core\"][\"db_location\"] = os.path.join(cwd, 'testing.db')\n"
   ]
  },
  {
   "cell_type": "code",
   "execution_count": 2,
   "metadata": {
    "execution": {
     "iopub.execute_input": "2020-10-20T10:58:09.096553Z",
     "iopub.status.busy": "2020-10-20T10:58:09.095119Z",
     "iopub.status.idle": "2020-10-20T10:58:09.279901Z",
     "shell.execute_reply": "2020-10-20T10:58:09.280352Z"
    }
   },
   "outputs": [],
   "source": [
    "%matplotlib inline\n",
    "import time\n",
    "import matplotlib.pyplot as plt\n",
    "import numpy as np\n",
    "\n",
    "import qcodes as qc\n",
    "from qcodes.instrument.parameter import ManualParameter\n",
    "from qcodes.dataset.experiment_container import (Experiment,\n",
    "                                                 load_last_experiment,\n",
    "                                                 new_experiment)\n",
    "from qcodes.dataset.sqlite.database import initialise_database\n",
    "from qcodes import load_or_create_experiment\n",
    "from qcodes.dataset.measurements import Measurement"
   ]
  },
  {
   "cell_type": "code",
   "execution_count": 3,
   "metadata": {
    "execution": {
     "iopub.execute_input": "2020-10-20T10:58:09.284300Z",
     "iopub.status.busy": "2020-10-20T10:58:09.283665Z",
     "iopub.status.idle": "2020-10-20T10:58:09.400258Z",
     "shell.execute_reply": "2020-10-20T10:58:09.399682Z"
    }
   },
   "outputs": [
    {
     "name": "stdout",
     "output_type": "stream",
     "text": [
      "\r",
      "0it [00:00, ?it/s]"
     ]
    },
    {
     "name": "stdout",
     "output_type": "stream",
     "text": [
      "\r",
      "Upgrading database; v0 -> v1: : 0it [00:00, ?it/s]"
     ]
    },
    {
     "name": "stdout",
     "output_type": "stream",
     "text": [
      "\r",
      "Upgrading database; v0 -> v1: : 0it [00:00, ?it/s]"
     ]
    },
    {
     "name": "stdout",
     "output_type": "stream",
     "text": [
      "\n",
      "\r",
      "  0%|          | 0/1 [00:00<?, ?it/s]"
     ]
    },
    {
     "name": "stdout",
     "output_type": "stream",
     "text": [
      "\r",
      "Upgrading database; v1 -> v2:   0%|          | 0/1 [00:00<?, ?it/s]"
     ]
    },
    {
     "name": "stdout",
     "output_type": "stream",
     "text": [
      "\r",
      "Upgrading database; v1 -> v2: 100%|██████████| 1/1 [00:00<00:00, 1066.71it/s]"
     ]
    },
    {
     "name": "stdout",
     "output_type": "stream",
     "text": [
      "\n",
      "\r",
      "0it [00:00, ?it/s]"
     ]
    },
    {
     "name": "stdout",
     "output_type": "stream",
     "text": [
      "\r",
      "Upgrading database; v2 -> v3: : 0it [00:00, ?it/s]"
     ]
    },
    {
     "name": "stdout",
     "output_type": "stream",
     "text": [
      "\r",
      "Upgrading database; v2 -> v3: : 0it [00:00, ?it/s]"
     ]
    },
    {
     "name": "stdout",
     "output_type": "stream",
     "text": [
      "\n",
      "\r",
      "0it [00:00, ?it/s]"
     ]
    },
    {
     "name": "stdout",
     "output_type": "stream",
     "text": [
      "\r",
      "Upgrading database; v3 -> v4: : 0it [00:00, ?it/s]"
     ]
    },
    {
     "name": "stdout",
     "output_type": "stream",
     "text": [
      "\r",
      "Upgrading database; v3 -> v4: : 0it [00:00, ?it/s]"
     ]
    },
    {
     "name": "stdout",
     "output_type": "stream",
     "text": [
      "\n",
      "\r",
      "  0%|          | 0/1 [00:00<?, ?it/s]"
     ]
    },
    {
     "name": "stdout",
     "output_type": "stream",
     "text": [
      "\r",
      "Upgrading database; v4 -> v5:   0%|          | 0/1 [00:00<?, ?it/s]"
     ]
    },
    {
     "name": "stdout",
     "output_type": "stream",
     "text": [
      "\r",
      "Upgrading database; v4 -> v5: 100%|██████████| 1/1 [00:00<00:00, 490.10it/s]"
     ]
    },
    {
     "name": "stdout",
     "output_type": "stream",
     "text": [
      "\n",
      "\r",
      "0it [00:00, ?it/s]"
     ]
    },
    {
     "name": "stdout",
     "output_type": "stream",
     "text": [
      "\r",
      "Upgrading database; v5 -> v6: : 0it [00:00, ?it/s]"
     ]
    },
    {
     "name": "stdout",
     "output_type": "stream",
     "text": [
      "\r",
      "Upgrading database; v5 -> v6: : 0it [00:00, ?it/s]"
     ]
    },
    {
     "name": "stdout",
     "output_type": "stream",
     "text": [
      "\n",
      "\r",
      "  0%|          | 0/1 [00:00<?, ?it/s]"
     ]
    },
    {
     "name": "stdout",
     "output_type": "stream",
     "text": [
      "\r",
      "Upgrading database; v6 -> v7:   0%|          | 0/1 [00:00<?, ?it/s]"
     ]
    },
    {
     "name": "stdout",
     "output_type": "stream",
     "text": [
      "\r",
      "Upgrading database; v6 -> v7: 100%|██████████| 1/1 [00:00<00:00, 282.43it/s]"
     ]
    },
    {
     "name": "stdout",
     "output_type": "stream",
     "text": [
      "\n",
      "\r",
      "  0%|          | 0/1 [00:00<?, ?it/s]"
     ]
    },
    {
     "name": "stdout",
     "output_type": "stream",
     "text": [
      "\r",
      "Upgrading database; v7 -> v8:   0%|          | 0/1 [00:00<?, ?it/s]"
     ]
    },
    {
     "name": "stdout",
     "output_type": "stream",
     "text": [
      "\r",
      "Upgrading database; v7 -> v8: 100%|██████████| 1/1 [00:00<00:00, 562.62it/s]"
     ]
    },
    {
     "name": "stdout",
     "output_type": "stream",
     "text": [
      "\n",
      "\r",
      "  0%|          | 0/1 [00:00<?, ?it/s]"
     ]
    },
    {
     "name": "stdout",
     "output_type": "stream",
     "text": [
      "\r",
      "Upgrading database; v8 -> v9:   0%|          | 0/1 [00:00<?, ?it/s]"
     ]
    },
    {
     "name": "stdout",
     "output_type": "stream",
     "text": [
      "\r",
      "Upgrading database; v8 -> v9: 100%|██████████| 1/1 [00:00<00:00, 1186.84it/s]"
     ]
    },
    {
     "name": "stdout",
     "output_type": "stream",
     "text": [
      "\n"
     ]
    }
   ],
   "source": [
    "initialise_database()\n",
    "exp = load_or_create_experiment(experiment_name='tutorial_exp', sample_name=\"no sample\")"
   ]
  },
  {
   "cell_type": "markdown",
   "metadata": {},
   "source": [
    "Here, we define a simple function to benchmark the time it takes to insert n points with either numeric or array data type.\n",
    "We will compare both the time used to call ``add_result`` and the time used for the full measurement."
   ]
  },
  {
   "cell_type": "code",
   "execution_count": 4,
   "metadata": {
    "execution": {
     "iopub.execute_input": "2020-10-20T10:58:09.409633Z",
     "iopub.status.busy": "2020-10-20T10:58:09.409071Z",
     "iopub.status.idle": "2020-10-20T10:58:09.413219Z",
     "shell.execute_reply": "2020-10-20T10:58:09.412563Z"
    }
   },
   "outputs": [],
   "source": [
    "def insert_data(paramtype, npoints, nreps=1):\n",
    "\n",
    "    meas = Measurement(exp=exp)\n",
    "\n",
    "    x1 = ManualParameter('x1')\n",
    "    x2 = ManualParameter('x2')\n",
    "    x3 = ManualParameter('x3')\n",
    "    y1 = ManualParameter('y1')\n",
    "    y2 = ManualParameter('y2')\n",
    "\n",
    "    meas.register_parameter(x1, paramtype=paramtype)\n",
    "    meas.register_parameter(x2, paramtype=paramtype)\n",
    "    meas.register_parameter(x3, paramtype=paramtype)\n",
    "    meas.register_parameter(y1, setpoints=[x1, x2, x3],\n",
    "                            paramtype=paramtype)\n",
    "    meas.register_parameter(y2, setpoints=[x1, x2, x3],\n",
    "                            paramtype=paramtype)\n",
    "    start = time.perf_counter()\n",
    "    with meas.run() as datasaver:\n",
    "        start_adding = time.perf_counter()\n",
    "        for i in range(nreps):\n",
    "            datasaver.add_result((x1, np.random.rand(npoints)),\n",
    "                                 (x2, np.random.rand(npoints)),\n",
    "                                 (x3, np.random.rand(npoints)),\n",
    "                                 (y1, np.random.rand(npoints)),\n",
    "                                 (y2, np.random.rand(npoints)))\n",
    "        stop_adding = time.perf_counter()\n",
    "        run_id = datasaver.run_id\n",
    "    stop = time.perf_counter()\n",
    "    tot_time = stop - start\n",
    "    add_time = stop_adding - start_adding\n",
    "    return tot_time, add_time, run_id"
   ]
  },
  {
   "cell_type": "markdown",
   "metadata": {},
   "source": [
    "## Comparison between numeric/array data and binary blob"
   ]
  },
  {
   "cell_type": "markdown",
   "metadata": {},
   "source": [
    "### Case1: Short experiment time"
   ]
  },
  {
   "cell_type": "code",
   "execution_count": 5,
   "metadata": {
    "execution": {
     "iopub.execute_input": "2020-10-20T10:58:09.418950Z",
     "iopub.status.busy": "2020-10-20T10:58:09.417847Z",
     "iopub.status.idle": "2020-10-20T10:58:10.200913Z",
     "shell.execute_reply": "2020-10-20T10:58:10.201475Z"
    }
   },
   "outputs": [
    {
     "name": "stdout",
     "output_type": "stream",
     "text": [
      "Starting experimental run with id: 1. \n",
      "Starting experimental run with id: 2. \n",
      "Starting experimental run with id: 3. \n",
      "Starting experimental run with id: 4. \n",
      "Starting experimental run with id: 5. \n"
     ]
    },
    {
     "name": "stdout",
     "output_type": "stream",
     "text": [
      "Starting experimental run with id: 6. \n"
     ]
    },
    {
     "name": "stdout",
     "output_type": "stream",
     "text": [
      "Starting experimental run with id: 7. \n"
     ]
    },
    {
     "name": "stdout",
     "output_type": "stream",
     "text": [
      "Starting experimental run with id: 8. \n",
      "Starting experimental run with id: 9. \n"
     ]
    },
    {
     "name": "stdout",
     "output_type": "stream",
     "text": [
      "Starting experimental run with id: 10. \n",
      "Starting experimental run with id: 11. \n"
     ]
    },
    {
     "name": "stdout",
     "output_type": "stream",
     "text": [
      "Starting experimental run with id: 12. \n",
      "Starting experimental run with id: 13. \n"
     ]
    },
    {
     "name": "stdout",
     "output_type": "stream",
     "text": [
      "Starting experimental run with id: 14. \n"
     ]
    }
   ],
   "source": [
    "sizes = [1,500,1000,2000,3000,4000,5000]\n",
    "t_numeric = []\n",
    "t_numeric_add = []\n",
    "t_array = []\n",
    "t_array_add = []\n",
    "for size in sizes:\n",
    "    tn, tna, run_id_n =  insert_data('numeric', size)\n",
    "    t_numeric.append(tn)\n",
    "    t_numeric_add.append(tna)\n",
    "\n",
    "    ta, taa, run_id_a =  insert_data('array', size)\n",
    "    t_array.append(ta)\n",
    "    t_array_add.append(taa)"
   ]
  },
  {
   "cell_type": "code",
   "execution_count": 6,
   "metadata": {
    "execution": {
     "iopub.execute_input": "2020-10-20T10:58:10.220633Z",
     "iopub.status.busy": "2020-10-20T10:58:10.220042Z",
     "iopub.status.idle": "2020-10-20T10:58:10.415633Z",
     "shell.execute_reply": "2020-10-20T10:58:10.416079Z"
    }
   },
   "outputs": [
    {
     "data": {
      "image/png": "[encoded data removed]",
      "text/plain": [
       "<Figure size 432x288 with 1 Axes>"
      ]
     },
     "metadata": {
      "needs_background": "light"
     },
     "output_type": "display_data"
    }
   ],
   "source": [
    "fig, ax = plt.subplots(1,1)\n",
    "ax.plot(sizes, t_numeric, 'o-', label='Inserting row-by-row')\n",
    "ax.plot(sizes, t_numeric_add, 'o-', label='Inserting row-by-row: add_result only')\n",
    "ax.plot(sizes, t_array, 'd-', label='Inserting as binary blob')\n",
    "ax.plot(sizes, t_array_add, 'd-', label='Inserting as binary blob: add_result only')\n",
    "ax.legend()\n",
    "ax.set_xlabel('Array length')\n",
    "ax.set_ylabel('Time (s)')\n",
    "fig.tight_layout()"
   ]
  },
  {
   "cell_type": "markdown",
   "metadata": {},
   "source": [
    "As shown in the latter figure, the time to setup and and close the experiment is approximately 0.4 sec. In case of small array sizes, the difference between inserting values of data as arrays and inserting them row-by-row is relatively unimportant. At larger array sizes, i.e. above 10000 points, the cost of writing data as individual datapoints starts to become important.\n"
   ]
  },
  {
   "cell_type": "markdown",
   "metadata": {},
   "source": [
    "### Case2: Long experiment time "
   ]
  },
  {
   "cell_type": "code",
   "execution_count": 7,
   "metadata": {
    "execution": {
     "iopub.execute_input": "2020-10-20T10:58:10.422396Z",
     "iopub.status.busy": "2020-10-20T10:58:10.421823Z",
     "iopub.status.idle": "2020-10-20T10:59:09.749984Z",
     "shell.execute_reply": "2020-10-20T10:59:09.749066Z"
    }
   },
   "outputs": [
    {
     "name": "stdout",
     "output_type": "stream",
     "text": [
      "Starting experimental run with id: 15. \n",
      "Starting experimental run with id: 16. \n",
      "Starting experimental run with id: 17. \n"
     ]
    },
    {
     "name": "stdout",
     "output_type": "stream",
     "text": [
      "Starting experimental run with id: 18. \n",
      "Starting experimental run with id: 19. \n"
     ]
    },
    {
     "name": "stdout",
     "output_type": "stream",
     "text": [
      "Starting experimental run with id: 20. \n"
     ]
    },
    {
     "name": "stdout",
     "output_type": "stream",
     "text": [
      "Starting experimental run with id: 21. \n"
     ]
    },
    {
     "name": "stdout",
     "output_type": "stream",
     "text": [
      "Starting experimental run with id: 22. \n"
     ]
    },
    {
     "name": "stdout",
     "output_type": "stream",
     "text": [
      "Starting experimental run with id: 23. \n"
     ]
    },
    {
     "name": "stdout",
     "output_type": "stream",
     "text": [
      "Starting experimental run with id: 24. \n"
     ]
    },
    {
     "name": "stdout",
     "output_type": "stream",
     "text": [
      "Starting experimental run with id: 25. \n"
     ]
    },
    {
     "name": "stdout",
     "output_type": "stream",
     "text": [
      "Starting experimental run with id: 26. \n"
     ]
    },
    {
     "name": "stdout",
     "output_type": "stream",
     "text": [
      "Starting experimental run with id: 27. \n"
     ]
    },
    {
     "name": "stdout",
     "output_type": "stream",
     "text": [
      "Starting experimental run with id: 28. \n"
     ]
    }
   ],
   "source": [
    "sizes = [1,500,1000,2000,3000,4000,5000]\n",
    "nreps = 100\n",
    "t_numeric = []\n",
    "t_numeric_add = []\n",
    "t_numeric_run_ids = []\n",
    "t_array = []\n",
    "t_array_add = []\n",
    "t_array_run_ids = []\n",
    "for size in sizes:\n",
    "    tn, tna, run_id_n =  insert_data('numeric', size, nreps=nreps)\n",
    "    t_numeric.append(tn)\n",
    "    t_numeric_add.append(tna)\n",
    "    t_numeric_run_ids.append(run_id_n)\n",
    "\n",
    "    ta, taa, run_id_a =  insert_data('array', size, nreps=nreps)\n",
    "    t_array.append(ta)\n",
    "    t_array_add.append(taa)\n",
    "    t_array_run_ids.append(run_id_a)"
   ]
  },
  {
   "cell_type": "code",
   "execution_count": 8,
   "metadata": {
    "execution": {
     "iopub.execute_input": "2020-10-20T10:59:09.769340Z",
     "iopub.status.busy": "2020-10-20T10:59:09.766930Z",
     "iopub.status.idle": "2020-10-20T10:59:09.970544Z",
     "shell.execute_reply": "2020-10-20T10:59:09.970046Z"
    },
    "scrolled": true
   },
   "outputs": [
    {
     "data": {
      "image/png": "[encoded data removed]",
      "text/plain": [
       "<Figure size 432x288 with 1 Axes>"
      ]
     },
     "metadata": {
      "needs_background": "light"
     },
     "output_type": "display_data"
    }
   ],
   "source": [
    "fig, ax = plt.subplots(1,1)\n",
    "ax.plot(sizes, t_numeric, 'o-', label='Inserting row-by-row')\n",
    "ax.plot(sizes, t_numeric_add, 'o-', label='Inserting row-by-row: add_result only')\n",
    "ax.plot(sizes, t_array, 'd-', label='Inserting as binary blob')\n",
    "ax.plot(sizes, t_array_add, 'd-', label='Inserting as binary blob: add_result only')\n",
    "ax.legend()\n",
    "ax.set_xlabel('Array length')\n",
    "ax.set_ylabel('Time (s)')\n",
    "fig.tight_layout()"
   ]
  },
  {
   "cell_type": "markdown",
   "metadata": {},
   "source": [
    "However, as we increase the length of the experiment, as seen here by repeating the insertion 100 times, we see a big difference between inserting values of the data row-by-row and inserting it as a binary blob."
   ]
  },
  {
   "cell_type": "markdown",
   "metadata": {},
   "source": [
    "## Loading the data "
   ]
  },
  {
   "cell_type": "code",
   "execution_count": 9,
   "metadata": {
    "execution": {
     "iopub.execute_input": "2020-10-20T10:59:09.974873Z",
     "iopub.status.busy": "2020-10-20T10:59:09.973696Z",
     "iopub.status.idle": "2020-10-20T10:59:09.977906Z",
     "shell.execute_reply": "2020-10-20T10:59:09.978464Z"
    }
   },
   "outputs": [],
   "source": [
    "from qcodes.dataset.data_set import load_by_id\n",
    "from qcodes.dataset.data_export import get_data_by_id"
   ]
  },
  {
   "cell_type": "markdown",
   "metadata": {},
   "source": [
    "As usual you can load the data by using the ``load_by_id`` function but you will notice that the different storage methods\n",
    "are reflected in shape of the data as it is retrieved. "
   ]
  },
  {
   "cell_type": "code",
   "execution_count": 10,
   "metadata": {
    "execution": {
     "iopub.execute_input": "2020-10-20T10:59:09.981993Z",
     "iopub.status.busy": "2020-10-20T10:59:09.981436Z",
     "iopub.status.idle": "2020-10-20T10:59:09.983407Z",
     "shell.execute_reply": "2020-10-20T10:59:09.983927Z"
    }
   },
   "outputs": [],
   "source": [
    "run_id_n = t_numeric_run_ids[0]\n",
    "run_id_a = t_array_run_ids[0]"
   ]
  },
  {
   "cell_type": "code",
   "execution_count": 11,
   "metadata": {
    "execution": {
     "iopub.execute_input": "2020-10-20T10:59:09.986858Z",
     "iopub.status.busy": "2020-10-20T10:59:09.986340Z",
     "iopub.status.idle": "2020-10-20T10:59:09.996670Z",
     "shell.execute_reply": "2020-10-20T10:59:09.996174Z"
    },
    "scrolled": true
   },
   "outputs": [
    {
     "data": {
      "text/plain": [
       "{'x1': {'x1': array([0.6016519 , 0.6016519 , 0.90137928, 0.90137928, 0.3788301 ,\n",
       "         0.3788301 , 0.38886073, 0.38886073, 0.38463271, 0.38463271,\n",
       "         0.05219116, 0.05219116, 0.21925976, 0.21925976, 0.84831057,\n",
       "         0.84831057, 0.24004633, 0.24004633, 0.77520704, 0.77520704,\n",
       "         0.9536906 , 0.9536906 , 0.2803175 , 0.2803175 , 0.81270374,\n",
       "         0.81270374, 0.26643408, 0.26643408, 0.24546761, 0.24546761,\n",
       "         0.08352076, 0.08352076, 0.05087247, 0.05087247, 0.05462372,\n",
       "         0.05462372, 0.48066612, 0.48066612, 0.21831315, 0.21831315,\n",
       "         0.4836833 , 0.4836833 , 0.65077472, 0.65077472, 0.81324237,\n",
       "         0.81324237, 0.2011328 , 0.2011328 , 0.18894547, 0.18894547,\n",
       "         0.35986317, 0.35986317, 0.53629145, 0.53629145, 0.7244639 ,\n",
       "         0.7244639 , 0.0694088 , 0.0694088 , 0.64389049, 0.64389049,\n",
       "         0.3444148 , 0.3444148 , 0.53606128, 0.53606128, 0.83461991,\n",
       "         0.83461991, 0.00939613, 0.00939613, 0.53750814, 0.53750814,\n",
       "         0.39858791, 0.39858791, 0.69375019, 0.69375019, 0.67693458,\n",
       "         0.67693458, 0.17206278, 0.17206278, 0.47397347, 0.47397347,\n",
       "         0.13448063, 0.13448063, 0.0946115 , 0.0946115 , 0.63247636,\n",
       "         0.63247636, 0.94051077, 0.94051077, 0.88313122, 0.88313122,\n",
       "         0.47680368, 0.47680368, 0.04910635, 0.04910635, 0.81268612,\n",
       "         0.81268612, 0.55645322, 0.55645322, 0.39771921, 0.39771921,\n",
       "         0.11431149, 0.11431149, 0.63425414, 0.63425414, 0.36897732,\n",
       "         0.36897732, 0.98934169, 0.98934169, 0.50281959, 0.50281959,\n",
       "         0.96482719, 0.96482719, 0.77162554, 0.77162554, 0.61122818,\n",
       "         0.61122818, 0.05377281, 0.05377281, 0.65135448, 0.65135448,\n",
       "         0.48477298, 0.48477298, 0.32375273, 0.32375273, 0.09913074,\n",
       "         0.09913074, 0.32698376, 0.32698376, 0.73279479, 0.73279479,\n",
       "         0.69035765, 0.69035765, 0.88451537, 0.88451537, 0.2049782 ,\n",
       "         0.2049782 , 0.72307524, 0.72307524, 0.06024559, 0.06024559,\n",
       "         0.30685066, 0.30685066, 0.32893872, 0.32893872, 0.30660547,\n",
       "         0.30660547, 0.17954548, 0.17954548, 0.38182129, 0.38182129,\n",
       "         0.39713417, 0.39713417, 0.25349873, 0.25349873, 0.65088698,\n",
       "         0.65088698, 0.3355085 , 0.3355085 , 0.89184349, 0.89184349,\n",
       "         0.37498572, 0.37498572, 0.38768267, 0.38768267, 0.09461785,\n",
       "         0.09461785, 0.55360879, 0.55360879, 0.52743478, 0.52743478,\n",
       "         0.59960981, 0.59960981, 0.32959808, 0.32959808, 0.58095375,\n",
       "         0.58095375, 0.3836223 , 0.3836223 , 0.10574574, 0.10574574,\n",
       "         0.50158615, 0.50158615, 0.20810243, 0.20810243, 0.38740232,\n",
       "         0.38740232, 0.52827087, 0.52827087, 0.81135593, 0.81135593,\n",
       "         0.06178775, 0.06178775, 0.09519602, 0.09519602, 0.1178154 ,\n",
       "         0.1178154 , 0.5598155 , 0.5598155 , 0.17251886, 0.17251886])}}"
      ]
     },
     "execution_count": 1,
     "metadata": {},
     "output_type": "execute_result"
    }
   ],
   "source": [
    "ds = load_by_id(run_id_n)\n",
    "ds.get_parameter_data('x1')"
   ]
  },
  {
   "cell_type": "markdown",
   "metadata": {},
   "source": [
    "And a dataset stored as binary arrays"
   ]
  },
  {
   "cell_type": "code",
   "execution_count": 12,
   "metadata": {
    "execution": {
     "iopub.execute_input": "2020-10-20T10:59:09.999922Z",
     "iopub.status.busy": "2020-10-20T10:59:09.999397Z",
     "iopub.status.idle": "2020-10-20T10:59:10.058795Z",
     "shell.execute_reply": "2020-10-20T10:59:10.058230Z"
    },
    "scrolled": true
   },
   "outputs": [
    {
     "data": {
      "text/plain": [
       "{'x1': {'x1': array([[0.07481335],\n",
       "         [0.07481335],\n",
       "         [0.00223342],\n",
       "         [0.00223342],\n",
       "         [0.50587065],\n",
       "         [0.50587065],\n",
       "         [0.46691142],\n",
       "         [0.46691142],\n",
       "         [0.76822718],\n",
       "         [0.76822718],\n",
       "         [0.92632114],\n",
       "         [0.92632114],\n",
       "         [0.24569177],\n",
       "         [0.24569177],\n",
       "         [0.71765228],\n",
       "         [0.71765228],\n",
       "         [0.15179969],\n",
       "         [0.15179969],\n",
       "         [0.83065166],\n",
       "         [0.83065166],\n",
       "         [0.34279756],\n",
       "         [0.34279756],\n",
       "         [0.64890288],\n",
       "         [0.64890288],\n",
       "         [0.0588808 ],\n",
       "         [0.0588808 ],\n",
       "         [0.88270006],\n",
       "         [0.88270006],\n",
       "         [0.34620737],\n",
       "         [0.34620737],\n",
       "         [0.77515298],\n",
       "         [0.77515298],\n",
       "         [0.60203049],\n",
       "         [0.60203049],\n",
       "         [0.50126155],\n",
       "         [0.50126155],\n",
       "         [0.57604559],\n",
       "         [0.57604559],\n",
       "         [0.29169885],\n",
       "         [0.29169885],\n",
       "         [0.26409995],\n",
       "         [0.26409995],\n",
       "         [0.0768474 ],\n",
       "         [0.0768474 ],\n",
       "         [0.10572567],\n",
       "         [0.10572567],\n",
       "         [0.01061891],\n",
       "         [0.01061891],\n",
       "         [0.34255591],\n",
       "         [0.34255591],\n",
       "         [0.24388603],\n",
       "         [0.24388603],\n",
       "         [0.59391429],\n",
       "         [0.59391429],\n",
       "         [0.05681544],\n",
       "         [0.05681544],\n",
       "         [0.7849749 ],\n",
       "         [0.7849749 ],\n",
       "         [0.96354036],\n",
       "         [0.96354036],\n",
       "         [0.72415454],\n",
       "         [0.72415454],\n",
       "         [0.85842371],\n",
       "         [0.85842371],\n",
       "         [0.20587786],\n",
       "         [0.20587786],\n",
       "         [0.76723218],\n",
       "         [0.76723218],\n",
       "         [0.75006847],\n",
       "         [0.75006847],\n",
       "         [0.69945502],\n",
       "         [0.69945502],\n",
       "         [0.90763952],\n",
       "         [0.90763952],\n",
       "         [0.47206401],\n",
       "         [0.47206401],\n",
       "         [0.34249049],\n",
       "         [0.34249049],\n",
       "         [0.04494818],\n",
       "         [0.04494818],\n",
       "         [0.29864034],\n",
       "         [0.29864034],\n",
       "         [0.22644809],\n",
       "         [0.22644809],\n",
       "         [0.31165366],\n",
       "         [0.31165366],\n",
       "         [0.95087049],\n",
       "         [0.95087049],\n",
       "         [0.79410365],\n",
       "         [0.79410365],\n",
       "         [0.17750404],\n",
       "         [0.17750404],\n",
       "         [0.51811196],\n",
       "         [0.51811196],\n",
       "         [0.71230475],\n",
       "         [0.71230475],\n",
       "         [0.60697423],\n",
       "         [0.60697423],\n",
       "         [0.32032738],\n",
       "         [0.32032738],\n",
       "         [0.09759642],\n",
       "         [0.09759642],\n",
       "         [0.32849258],\n",
       "         [0.32849258],\n",
       "         [0.75415863],\n",
       "         [0.75415863],\n",
       "         [0.95727724],\n",
       "         [0.95727724],\n",
       "         [0.71753121],\n",
       "         [0.71753121],\n",
       "         [0.73425181],\n",
       "         [0.73425181],\n",
       "         [0.79355765],\n",
       "         [0.79355765],\n",
       "         [0.81938846],\n",
       "         [0.81938846],\n",
       "         [0.37312815],\n",
       "         [0.37312815],\n",
       "         [0.27085509],\n",
       "         [0.27085509],\n",
       "         [0.68703088],\n",
       "         [0.68703088],\n",
       "         [0.78347488],\n",
       "         [0.78347488],\n",
       "         [0.22110075],\n",
       "         [0.22110075],\n",
       "         [0.48892538],\n",
       "         [0.48892538],\n",
       "         [0.82852951],\n",
       "         [0.82852951],\n",
       "         [0.87326688],\n",
       "         [0.87326688],\n",
       "         [0.27720019],\n",
       "         [0.27720019],\n",
       "         [0.43884158],\n",
       "         [0.43884158],\n",
       "         [0.185979  ],\n",
       "         [0.185979  ],\n",
       "         [0.525622  ],\n",
       "         [0.525622  ],\n",
       "         [0.13861145],\n",
       "         [0.13861145],\n",
       "         [0.77860923],\n",
       "         [0.77860923],\n",
       "         [0.98586492],\n",
       "         [0.98586492],\n",
       "         [0.40283134],\n",
       "         [0.40283134],\n",
       "         [0.78692322],\n",
       "         [0.78692322],\n",
       "         [0.48069274],\n",
       "         [0.48069274],\n",
       "         [0.32215086],\n",
       "         [0.32215086],\n",
       "         [0.46324818],\n",
       "         [0.46324818],\n",
       "         [0.41458535],\n",
       "         [0.41458535],\n",
       "         [0.49803514],\n",
       "         [0.49803514],\n",
       "         [0.94784372],\n",
       "         [0.94784372],\n",
       "         [0.6622685 ],\n",
       "         [0.6622685 ],\n",
       "         [0.98431722],\n",
       "         [0.98431722],\n",
       "         [0.51944171],\n",
       "         [0.51944171],\n",
       "         [0.64573116],\n",
       "         [0.64573116],\n",
       "         [0.12207354],\n",
       "         [0.12207354],\n",
       "         [0.79305487],\n",
       "         [0.79305487],\n",
       "         [0.6633493 ],\n",
       "         [0.6633493 ],\n",
       "         [0.9294795 ],\n",
       "         [0.9294795 ],\n",
       "         [0.12205363],\n",
       "         [0.12205363],\n",
       "         [0.17783259],\n",
       "         [0.17783259],\n",
       "         [0.32507701],\n",
       "         [0.32507701],\n",
       "         [0.76932811],\n",
       "         [0.76932811],\n",
       "         [0.23416661],\n",
       "         [0.23416661],\n",
       "         [0.23899642],\n",
       "         [0.23899642],\n",
       "         [0.43641213],\n",
       "         [0.43641213],\n",
       "         [0.8490474 ],\n",
       "         [0.8490474 ],\n",
       "         [0.3148399 ],\n",
       "         [0.3148399 ],\n",
       "         [0.66552978],\n",
       "         [0.66552978],\n",
       "         [0.32754838],\n",
       "         [0.32754838]])}}"
      ]
     },
     "execution_count": 1,
     "metadata": {},
     "output_type": "execute_result"
    }
   ],
   "source": [
    "ds = load_by_id(run_id_a)\n",
    "ds.get_parameter_data('x1')"
   ]
  },
  {
   "cell_type": "code",
   "execution_count": null,
   "metadata": {},
   "outputs": [],
   "source": []
  }
 ],
 "metadata": {
  "kernelspec": {
   "display_name": "Python 3",
   "language": "python",
   "name": "python3"
  },
  "language_info": {
   "codemirror_mode": {
    "name": "ipython",
    "version": 3
   },
   "file_extension": ".py",
   "mimetype": "text/x-python",
   "name": "python",
   "nbconvert_exporter": "python",
   "pygments_lexer": "ipython3",
   "version": "3.7.7"
  },
  "nbsphinx": {
   "timeout": 600
  },
  "toc": {
   "base_numbering": 1,
   "nav_menu": {},
   "number_sections": true,
   "sideBar": true,
   "skip_h1_title": false,
   "title_cell": "Table of Contents",
   "title_sidebar": "Contents",
   "toc_cell": false,
   "toc_position": {},
   "toc_section_display": true,
   "toc_window_display": false
  },
  "varInspector": {
   "cols": {
    "lenName": 16,
    "lenType": 16,
    "lenVar": 40
   },
   "kernels_config": {
    "python": {
     "delete_cmd_postfix": "",
     "delete_cmd_prefix": "del ",
     "library": "var_list.py",
     "varRefreshCmd": "print(var_dic_list())"
    },
    "r": {
     "delete_cmd_postfix": ") ",
     "delete_cmd_prefix": "rm(",
     "library": "var_list.r",
     "varRefreshCmd": "cat(var_dic_list()) "
    }
   },
   "types_to_exclude": [
    "module",
    "function",
    "builtin_function_or_method",
    "instance",
    "_Feature"
   ],
   "window_display": false
  }
 },
 "nbformat": 4,
 "nbformat_minor": 2
}
