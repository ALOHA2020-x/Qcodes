{
 "cells": [
  {
   "cell_type": "markdown",
   "metadata": {},
   "source": [
    "# DataSet Performance\n",
    "\n",
    "This notebook shows the trade-off between inserting data into a database row-by-row and as binary blobs. Inserting the data row-by-row means that we have direct access to all the data and may perform queries directly on the values of the data. On the other hand, as we shall see, this is much slower than inserting the data directly as binary blobs."
   ]
  },
  {
   "cell_type": "markdown",
   "metadata": {},
   "source": [
    "First, we choose a new location for the database to ensure that we don't add a bunch of benchmarking data to the default one."
   ]
  },
  {
   "cell_type": "code",
   "execution_count": 1,
   "metadata": {
    "execution": {
     "iopub.execute_input": "2020-09-23T20:45:58.808587Z",
     "iopub.status.busy": "2020-09-23T20:45:58.807913Z",
     "iopub.status.idle": "2020-09-23T20:45:59.938026Z",
     "shell.execute_reply": "2020-09-23T20:45:59.937257Z"
    }
   },
   "outputs": [
    {
     "name": "stdout",
     "output_type": "stream",
     "text": [
      "Logging hadn't been started.\n",
      "Activating auto-logging. Current session state plus future input saved.\n",
      "Filename       : /home/vsts/.qcodes/logs/command_history.log\n",
      "Mode           : append\n",
      "Output logging : True\n",
      "Raw input log  : False\n",
      "Timestamping   : True\n",
      "State          : active\n"
     ]
    },
    {
     "name": "stdout",
     "output_type": "stream",
     "text": [
      "Qcodes Logfile : /home/vsts/.qcodes/logs/200923-18895-qcodes.log\n"
     ]
    }
   ],
   "source": [
    "import os\n",
    "cwd = os.getcwd()\n",
    "import qcodes as qc\n",
    "qc.config[\"core\"][\"db_location\"] = os.path.join(cwd, 'testing.db')\n"
   ]
  },
  {
   "cell_type": "code",
   "execution_count": 2,
   "metadata": {
    "execution": {
     "iopub.execute_input": "2020-09-23T20:45:59.945678Z",
     "iopub.status.busy": "2020-09-23T20:45:59.944170Z",
     "iopub.status.idle": "2020-09-23T20:46:00.150913Z",
     "shell.execute_reply": "2020-09-23T20:46:00.149718Z"
    }
   },
   "outputs": [],
   "source": [
    "%matplotlib inline\n",
    "import time\n",
    "import matplotlib.pyplot as plt\n",
    "import numpy as np\n",
    "\n",
    "import qcodes as qc\n",
    "from qcodes.instrument.parameter import ManualParameter\n",
    "from qcodes.dataset.experiment_container import (Experiment,\n",
    "                                                 load_last_experiment,\n",
    "                                                 new_experiment)\n",
    "from qcodes.dataset.sqlite.database import initialise_database\n",
    "from qcodes import load_or_create_experiment\n",
    "from qcodes.dataset.measurements import Measurement"
   ]
  },
  {
   "cell_type": "code",
   "execution_count": 3,
   "metadata": {
    "execution": {
     "iopub.execute_input": "2020-09-23T20:46:00.155466Z",
     "iopub.status.busy": "2020-09-23T20:46:00.154429Z",
     "iopub.status.idle": "2020-09-23T20:46:00.270687Z",
     "shell.execute_reply": "2020-09-23T20:46:00.269952Z"
    }
   },
   "outputs": [
    {
     "name": "stdout",
     "output_type": "stream",
     "text": [
      "\r",
      "0it [00:00, ?it/s]"
     ]
    },
    {
     "name": "stdout",
     "output_type": "stream",
     "text": [
      "\r",
      "Upgrading database; v0 -> v1: : 0it [00:00, ?it/s]"
     ]
    },
    {
     "name": "stdout",
     "output_type": "stream",
     "text": [
      "\r",
      "Upgrading database; v0 -> v1: : 0it [00:00, ?it/s]"
     ]
    },
    {
     "name": "stdout",
     "output_type": "stream",
     "text": [
      "\n",
      "\r",
      "  0%|          | 0/1 [00:00<?, ?it/s]"
     ]
    },
    {
     "name": "stdout",
     "output_type": "stream",
     "text": [
      "\r",
      "Upgrading database; v1 -> v2:   0%|          | 0/1 [00:00<?, ?it/s]"
     ]
    },
    {
     "name": "stdout",
     "output_type": "stream",
     "text": [
      "\r",
      "Upgrading database; v1 -> v2: 100%|██████████| 1/1 [00:00<00:00, 271.72it/s]"
     ]
    },
    {
     "name": "stdout",
     "output_type": "stream",
     "text": [
      "\n",
      "\r",
      "0it [00:00, ?it/s]"
     ]
    },
    {
     "name": "stdout",
     "output_type": "stream",
     "text": [
      "\r",
      "Upgrading database; v2 -> v3: : 0it [00:00, ?it/s]"
     ]
    },
    {
     "name": "stdout",
     "output_type": "stream",
     "text": [
      "\r",
      "Upgrading database; v2 -> v3: : 0it [00:00, ?it/s]"
     ]
    },
    {
     "name": "stdout",
     "output_type": "stream",
     "text": [
      "\n",
      "\r",
      "0it [00:00, ?it/s]"
     ]
    },
    {
     "name": "stdout",
     "output_type": "stream",
     "text": [
      "\r",
      "Upgrading database; v3 -> v4: : 0it [00:00, ?it/s]"
     ]
    },
    {
     "name": "stdout",
     "output_type": "stream",
     "text": [
      "\r",
      "Upgrading database; v3 -> v4: : 0it [00:00, ?it/s]"
     ]
    },
    {
     "name": "stdout",
     "output_type": "stream",
     "text": [
      "\n",
      "\r",
      "  0%|          | 0/1 [00:00<?, ?it/s]"
     ]
    },
    {
     "name": "stdout",
     "output_type": "stream",
     "text": [
      "\r",
      "Upgrading database; v4 -> v5:   0%|          | 0/1 [00:00<?, ?it/s]"
     ]
    },
    {
     "name": "stdout",
     "output_type": "stream",
     "text": [
      "\r",
      "Upgrading database; v4 -> v5: 100%|██████████| 1/1 [00:00<00:00, 472.60it/s]"
     ]
    },
    {
     "name": "stdout",
     "output_type": "stream",
     "text": [
      "\n",
      "\r",
      "0it [00:00, ?it/s]"
     ]
    },
    {
     "name": "stdout",
     "output_type": "stream",
     "text": [
      "\r",
      "Upgrading database; v5 -> v6: : 0it [00:00, ?it/s]"
     ]
    },
    {
     "name": "stdout",
     "output_type": "stream",
     "text": [
      "\r",
      "Upgrading database; v5 -> v6: : 0it [00:00, ?it/s]"
     ]
    },
    {
     "name": "stdout",
     "output_type": "stream",
     "text": [
      "\n",
      "\r",
      "  0%|          | 0/1 [00:00<?, ?it/s]"
     ]
    },
    {
     "name": "stdout",
     "output_type": "stream",
     "text": [
      "\r",
      "Upgrading database; v6 -> v7:   0%|          | 0/1 [00:00<?, ?it/s]"
     ]
    },
    {
     "name": "stdout",
     "output_type": "stream",
     "text": [
      "\r",
      "Upgrading database; v6 -> v7: 100%|██████████| 1/1 [00:00<00:00, 318.67it/s]"
     ]
    },
    {
     "name": "stdout",
     "output_type": "stream",
     "text": [
      "\n",
      "\r",
      "  0%|          | 0/1 [00:00<?, ?it/s]"
     ]
    },
    {
     "name": "stdout",
     "output_type": "stream",
     "text": [
      "\r",
      "Upgrading database; v7 -> v8:   0%|          | 0/1 [00:00<?, ?it/s]"
     ]
    },
    {
     "name": "stdout",
     "output_type": "stream",
     "text": [
      "\r",
      "Upgrading database; v7 -> v8: 100%|██████████| 1/1 [00:00<00:00, 433.39it/s]"
     ]
    },
    {
     "name": "stdout",
     "output_type": "stream",
     "text": [
      "\n",
      "\r",
      "  0%|          | 0/1 [00:00<?, ?it/s]"
     ]
    },
    {
     "name": "stdout",
     "output_type": "stream",
     "text": [
      "\r",
      "Upgrading database; v8 -> v9:   0%|          | 0/1 [00:00<?, ?it/s]"
     ]
    },
    {
     "name": "stdout",
     "output_type": "stream",
     "text": [
      "\r",
      "Upgrading database; v8 -> v9: 100%|██████████| 1/1 [00:00<00:00, 923.45it/s]"
     ]
    },
    {
     "name": "stdout",
     "output_type": "stream",
     "text": [
      "\n"
     ]
    }
   ],
   "source": [
    "initialise_database()\n",
    "exp = load_or_create_experiment(experiment_name='tutorial_exp', sample_name=\"no sample\")"
   ]
  },
  {
   "cell_type": "markdown",
   "metadata": {},
   "source": [
    "Here, we define a simple function to benchmark the time it takes to insert n points with either numeric or array data type.\n",
    "We will compare both the time used to call ``add_result`` and the time used for the full measurement."
   ]
  },
  {
   "cell_type": "code",
   "execution_count": 4,
   "metadata": {
    "execution": {
     "iopub.execute_input": "2020-09-23T20:46:00.280883Z",
     "iopub.status.busy": "2020-09-23T20:46:00.279648Z",
     "iopub.status.idle": "2020-09-23T20:46:00.281425Z",
     "shell.execute_reply": "2020-09-23T20:46:00.281928Z"
    }
   },
   "outputs": [],
   "source": [
    "def insert_data(paramtype, npoints, nreps=1):\n",
    "\n",
    "    meas = Measurement(exp=exp)\n",
    "\n",
    "    x1 = ManualParameter('x1')\n",
    "    x2 = ManualParameter('x2')\n",
    "    x3 = ManualParameter('x3')\n",
    "    y1 = ManualParameter('y1')\n",
    "    y2 = ManualParameter('y2')\n",
    "\n",
    "    meas.register_parameter(x1, paramtype=paramtype)\n",
    "    meas.register_parameter(x2, paramtype=paramtype)\n",
    "    meas.register_parameter(x3, paramtype=paramtype)\n",
    "    meas.register_parameter(y1, setpoints=[x1, x2, x3],\n",
    "                            paramtype=paramtype)\n",
    "    meas.register_parameter(y2, setpoints=[x1, x2, x3],\n",
    "                            paramtype=paramtype)\n",
    "    start = time.perf_counter()\n",
    "    with meas.run() as datasaver:\n",
    "        start_adding = time.perf_counter()\n",
    "        for i in range(nreps):\n",
    "            datasaver.add_result((x1, np.random.rand(npoints)),\n",
    "                                 (x2, np.random.rand(npoints)),\n",
    "                                 (x3, np.random.rand(npoints)),\n",
    "                                 (y1, np.random.rand(npoints)),\n",
    "                                 (y2, np.random.rand(npoints)))\n",
    "        stop_adding = time.perf_counter()\n",
    "        run_id = datasaver.run_id\n",
    "    stop = time.perf_counter()\n",
    "    tot_time = stop - start\n",
    "    add_time = stop_adding - start_adding\n",
    "    return tot_time, add_time, run_id"
   ]
  },
  {
   "cell_type": "markdown",
   "metadata": {},
   "source": [
    "## Comparison between numeric/array data and binary blob"
   ]
  },
  {
   "cell_type": "markdown",
   "metadata": {},
   "source": [
    "### Case1: Short experiment time"
   ]
  },
  {
   "cell_type": "code",
   "execution_count": 5,
   "metadata": {
    "execution": {
     "iopub.execute_input": "2020-09-23T20:46:00.288152Z",
     "iopub.status.busy": "2020-09-23T20:46:00.286331Z",
     "iopub.status.idle": "2020-09-23T20:46:01.148867Z",
     "shell.execute_reply": "2020-09-23T20:46:01.148088Z"
    }
   },
   "outputs": [
    {
     "name": "stdout",
     "output_type": "stream",
     "text": [
      "Starting experimental run with id: 1. \n",
      "Starting experimental run with id: 2. \n",
      "Starting experimental run with id: 3. \n",
      "Starting experimental run with id: 4. \n",
      "Starting experimental run with id: 5. \n"
     ]
    },
    {
     "name": "stdout",
     "output_type": "stream",
     "text": [
      "Starting experimental run with id: 6. \n"
     ]
    },
    {
     "name": "stdout",
     "output_type": "stream",
     "text": [
      "Starting experimental run with id: 7. \n"
     ]
    },
    {
     "name": "stdout",
     "output_type": "stream",
     "text": [
      "Starting experimental run with id: 8. \n",
      "Starting experimental run with id: 9. \n"
     ]
    },
    {
     "name": "stdout",
     "output_type": "stream",
     "text": [
      "Starting experimental run with id: 10. \n",
      "Starting experimental run with id: 11. \n"
     ]
    },
    {
     "name": "stdout",
     "output_type": "stream",
     "text": [
      "Starting experimental run with id: 12. \n",
      "Starting experimental run with id: 13. \n"
     ]
    },
    {
     "name": "stdout",
     "output_type": "stream",
     "text": [
      "Starting experimental run with id: 14. \n"
     ]
    }
   ],
   "source": [
    "sizes = [1,500,1000,2000,3000,4000,5000]\n",
    "t_numeric = []\n",
    "t_numeric_add = []\n",
    "t_array = []\n",
    "t_array_add = []\n",
    "for size in sizes:\n",
    "    tn, tna, run_id_n =  insert_data('numeric', size)\n",
    "    t_numeric.append(tn)\n",
    "    t_numeric_add.append(tna)\n",
    "\n",
    "    ta, taa, run_id_a =  insert_data('array', size)\n",
    "    t_array.append(ta)\n",
    "    t_array_add.append(taa)"
   ]
  },
  {
   "cell_type": "code",
   "execution_count": 6,
   "metadata": {
    "execution": {
     "iopub.execute_input": "2020-09-23T20:46:01.170338Z",
     "iopub.status.busy": "2020-09-23T20:46:01.169527Z",
     "iopub.status.idle": "2020-09-23T20:46:01.403188Z",
     "shell.execute_reply": "2020-09-23T20:46:01.403939Z"
    }
   },
   "outputs": [
    {
     "data": {
      "image/png": "[encoded data removed]",
      "text/plain": [
       "<Figure size 432x288 with 1 Axes>"
      ]
     },
     "metadata": {
      "needs_background": "light"
     },
     "output_type": "display_data"
    }
   ],
   "source": [
    "fig, ax = plt.subplots(1,1)\n",
    "ax.plot(sizes, t_numeric, 'o-', label='Inserting row-by-row')\n",
    "ax.plot(sizes, t_numeric_add, 'o-', label='Inserting row-by-row: add_result only')\n",
    "ax.plot(sizes, t_array, 'd-', label='Inserting as binary blob')\n",
    "ax.plot(sizes, t_array_add, 'd-', label='Inserting as binary blob: add_result only')\n",
    "ax.legend()\n",
    "ax.set_xlabel('Array length')\n",
    "ax.set_ylabel('Time (s)')\n",
    "fig.tight_layout()"
   ]
  },
  {
   "cell_type": "markdown",
   "metadata": {},
   "source": [
    "As shown in the latter figure, the time to setup and and close the experiment is approximately 0.4 sec. In case of small array sizes, the difference between inserting values of data as arrays and inserting them row-by-row is relatively unimportant. At larger array sizes, i.e. above 10000 points, the cost of writing data as individual datapoints starts to become important.\n"
   ]
  },
  {
   "cell_type": "markdown",
   "metadata": {},
   "source": [
    "### Case2: Long experiment time "
   ]
  },
  {
   "cell_type": "code",
   "execution_count": 7,
   "metadata": {
    "execution": {
     "iopub.execute_input": "2020-09-23T20:46:01.411990Z",
     "iopub.status.busy": "2020-09-23T20:46:01.411415Z",
     "iopub.status.idle": "2020-09-23T20:47:03.399813Z",
     "shell.execute_reply": "2020-09-23T20:47:03.398769Z"
    }
   },
   "outputs": [
    {
     "name": "stdout",
     "output_type": "stream",
     "text": [
      "Starting experimental run with id: 15. \n",
      "Starting experimental run with id: 16. \n",
      "Starting experimental run with id: 17. \n"
     ]
    },
    {
     "name": "stdout",
     "output_type": "stream",
     "text": [
      "Starting experimental run with id: 18. \n",
      "Starting experimental run with id: 19. \n"
     ]
    },
    {
     "name": "stdout",
     "output_type": "stream",
     "text": [
      "Starting experimental run with id: 20. \n"
     ]
    },
    {
     "name": "stdout",
     "output_type": "stream",
     "text": [
      "Starting experimental run with id: 21. \n"
     ]
    },
    {
     "name": "stdout",
     "output_type": "stream",
     "text": [
      "Starting experimental run with id: 22. \n"
     ]
    },
    {
     "name": "stdout",
     "output_type": "stream",
     "text": [
      "Starting experimental run with id: 23. \n"
     ]
    },
    {
     "name": "stdout",
     "output_type": "stream",
     "text": [
      "Starting experimental run with id: 24. \n"
     ]
    },
    {
     "name": "stdout",
     "output_type": "stream",
     "text": [
      "Starting experimental run with id: 25. \n"
     ]
    },
    {
     "name": "stdout",
     "output_type": "stream",
     "text": [
      "Starting experimental run with id: 26. \n"
     ]
    },
    {
     "name": "stdout",
     "output_type": "stream",
     "text": [
      "Starting experimental run with id: 27. \n"
     ]
    },
    {
     "name": "stdout",
     "output_type": "stream",
     "text": [
      "Starting experimental run with id: 28. \n"
     ]
    }
   ],
   "source": [
    "sizes = [1,500,1000,2000,3000,4000,5000]\n",
    "nreps = 100\n",
    "t_numeric = []\n",
    "t_numeric_add = []\n",
    "t_numeric_run_ids = []\n",
    "t_array = []\n",
    "t_array_add = []\n",
    "t_array_run_ids = []\n",
    "for size in sizes:\n",
    "    tn, tna, run_id_n =  insert_data('numeric', size, nreps=nreps)\n",
    "    t_numeric.append(tn)\n",
    "    t_numeric_add.append(tna)\n",
    "    t_numeric_run_ids.append(run_id_n)\n",
    "\n",
    "    ta, taa, run_id_a =  insert_data('array', size, nreps=nreps)\n",
    "    t_array.append(ta)\n",
    "    t_array_add.append(taa)\n",
    "    t_array_run_ids.append(run_id_a)"
   ]
  },
  {
   "cell_type": "code",
   "execution_count": 8,
   "metadata": {
    "execution": {
     "iopub.execute_input": "2020-09-23T20:47:03.421040Z",
     "iopub.status.busy": "2020-09-23T20:47:03.419368Z",
     "iopub.status.idle": "2020-09-23T20:47:03.654143Z",
     "shell.execute_reply": "2020-09-23T20:47:03.653027Z"
    },
    "scrolled": true
   },
   "outputs": [
    {
     "data": {
      "image/png": "[encoded data removed]",
      "text/plain": [
       "<Figure size 432x288 with 1 Axes>"
      ]
     },
     "metadata": {
      "needs_background": "light"
     },
     "output_type": "display_data"
    }
   ],
   "source": [
    "fig, ax = plt.subplots(1,1)\n",
    "ax.plot(sizes, t_numeric, 'o-', label='Inserting row-by-row')\n",
    "ax.plot(sizes, t_numeric_add, 'o-', label='Inserting row-by-row: add_result only')\n",
    "ax.plot(sizes, t_array, 'd-', label='Inserting as binary blob')\n",
    "ax.plot(sizes, t_array_add, 'd-', label='Inserting as binary blob: add_result only')\n",
    "ax.legend()\n",
    "ax.set_xlabel('Array length')\n",
    "ax.set_ylabel('Time (s)')\n",
    "fig.tight_layout()"
   ]
  },
  {
   "cell_type": "markdown",
   "metadata": {},
   "source": [
    "However, as we increase the length of the experiment, as seen here by repeating the insertion 100 times, we see a big difference between inserting values of the data row-by-row and inserting it as a binary blob."
   ]
  },
  {
   "cell_type": "markdown",
   "metadata": {},
   "source": [
    "## Loading the data "
   ]
  },
  {
   "cell_type": "code",
   "execution_count": 9,
   "metadata": {
    "execution": {
     "iopub.execute_input": "2020-09-23T20:47:03.658441Z",
     "iopub.status.busy": "2020-09-23T20:47:03.657463Z",
     "iopub.status.idle": "2020-09-23T20:47:03.661268Z",
     "shell.execute_reply": "2020-09-23T20:47:03.661868Z"
    }
   },
   "outputs": [],
   "source": [
    "from qcodes.dataset.data_set import load_by_id\n",
    "from qcodes.dataset.data_export import get_data_by_id"
   ]
  },
  {
   "cell_type": "markdown",
   "metadata": {},
   "source": [
    "As usual you can load the data by using the ``load_by_id`` function but you will notice that the different storage methods\n",
    "are reflected in shape of the data as it is retrieved. "
   ]
  },
  {
   "cell_type": "code",
   "execution_count": 10,
   "metadata": {
    "execution": {
     "iopub.execute_input": "2020-09-23T20:47:03.665494Z",
     "iopub.status.busy": "2020-09-23T20:47:03.664930Z",
     "iopub.status.idle": "2020-09-23T20:47:03.668326Z",
     "shell.execute_reply": "2020-09-23T20:47:03.668864Z"
    }
   },
   "outputs": [],
   "source": [
    "run_id_n = t_numeric_run_ids[0]\n",
    "run_id_a = t_array_run_ids[0]"
   ]
  },
  {
   "cell_type": "code",
   "execution_count": 11,
   "metadata": {
    "execution": {
     "iopub.execute_input": "2020-09-23T20:47:03.672125Z",
     "iopub.status.busy": "2020-09-23T20:47:03.671462Z",
     "iopub.status.idle": "2020-09-23T20:47:03.681028Z",
     "shell.execute_reply": "2020-09-23T20:47:03.680544Z"
    },
    "scrolled": true
   },
   "outputs": [
    {
     "data": {
      "text/plain": [
       "{'x1': {'x1': array([0.42341236, 0.42341236, 0.14020304, 0.14020304, 0.93671253,\n",
       "         0.93671253, 0.771225  , 0.771225  , 0.02201625, 0.02201625,\n",
       "         0.0853543 , 0.0853543 , 0.19956807, 0.19956807, 0.62116558,\n",
       "         0.62116558, 0.69247791, 0.69247791, 0.34333367, 0.34333367,\n",
       "         0.21135991, 0.21135991, 0.29806781, 0.29806781, 0.05129284,\n",
       "         0.05129284, 0.593415  , 0.593415  , 0.01667023, 0.01667023,\n",
       "         0.76923323, 0.76923323, 0.53526662, 0.53526662, 0.28950294,\n",
       "         0.28950294, 0.97575752, 0.97575752, 0.07215471, 0.07215471,\n",
       "         0.99723071, 0.99723071, 0.52942732, 0.52942732, 0.90590986,\n",
       "         0.90590986, 0.37165844, 0.37165844, 0.56793516, 0.56793516,\n",
       "         0.84836067, 0.84836067, 0.01330172, 0.01330172, 0.38390446,\n",
       "         0.38390446, 0.7870431 , 0.7870431 , 0.67999378, 0.67999378,\n",
       "         0.92217388, 0.92217388, 0.67893301, 0.67893301, 0.9302345 ,\n",
       "         0.9302345 , 0.61307933, 0.61307933, 0.42530329, 0.42530329,\n",
       "         0.21573347, 0.21573347, 0.47345804, 0.47345804, 0.92263639,\n",
       "         0.92263639, 0.27981213, 0.27981213, 0.6125681 , 0.6125681 ,\n",
       "         0.10900931, 0.10900931, 0.75175388, 0.75175388, 0.2288037 ,\n",
       "         0.2288037 , 0.59819552, 0.59819552, 0.65764211, 0.65764211,\n",
       "         0.05507684, 0.05507684, 0.97843388, 0.97843388, 0.94436087,\n",
       "         0.94436087, 0.03894182, 0.03894182, 0.31797167, 0.31797167,\n",
       "         0.02191045, 0.02191045, 0.04413522, 0.04413522, 0.87477233,\n",
       "         0.87477233, 0.63357646, 0.63357646, 0.33087609, 0.33087609,\n",
       "         0.47574914, 0.47574914, 0.14725475, 0.14725475, 0.38703308,\n",
       "         0.38703308, 0.01578909, 0.01578909, 0.73830379, 0.73830379,\n",
       "         0.24643607, 0.24643607, 0.86660174, 0.86660174, 0.09379417,\n",
       "         0.09379417, 0.83522055, 0.83522055, 0.00832622, 0.00832622,\n",
       "         0.39318146, 0.39318146, 0.51010437, 0.51010437, 0.89534786,\n",
       "         0.89534786, 0.61801766, 0.61801766, 0.82637159, 0.82637159,\n",
       "         0.60682315, 0.60682315, 0.10043177, 0.10043177, 0.6980568 ,\n",
       "         0.6980568 , 0.92269811, 0.92269811, 0.71465527, 0.71465527,\n",
       "         0.6801969 , 0.6801969 , 0.03103438, 0.03103438, 0.19075723,\n",
       "         0.19075723, 0.77025612, 0.77025612, 0.20433567, 0.20433567,\n",
       "         0.81296815, 0.81296815, 0.81465829, 0.81465829, 0.8896225 ,\n",
       "         0.8896225 , 0.84498903, 0.84498903, 0.08857873, 0.08857873,\n",
       "         0.44382104, 0.44382104, 0.28251882, 0.28251882, 0.46745966,\n",
       "         0.46745966, 0.71067411, 0.71067411, 0.48775335, 0.48775335,\n",
       "         0.30367098, 0.30367098, 0.98014314, 0.98014314, 0.76424163,\n",
       "         0.76424163, 0.0677245 , 0.0677245 , 0.77540413, 0.77540413,\n",
       "         0.80148541, 0.80148541, 0.23037965, 0.23037965, 0.9575284 ,\n",
       "         0.9575284 , 0.77532565, 0.77532565, 0.45763964, 0.45763964])}}"
      ]
     },
     "execution_count": 1,
     "metadata": {},
     "output_type": "execute_result"
    }
   ],
   "source": [
    "ds = load_by_id(run_id_n)\n",
    "ds.get_parameter_data('x1')"
   ]
  },
  {
   "cell_type": "markdown",
   "metadata": {},
   "source": [
    "And a dataset stored as binary arrays"
   ]
  },
  {
   "cell_type": "code",
   "execution_count": 12,
   "metadata": {
    "execution": {
     "iopub.execute_input": "2020-09-23T20:47:03.684260Z",
     "iopub.status.busy": "2020-09-23T20:47:03.683736Z",
     "iopub.status.idle": "2020-09-23T20:47:03.754712Z",
     "shell.execute_reply": "2020-09-23T20:47:03.754199Z"
    },
    "scrolled": true
   },
   "outputs": [
    {
     "data": {
      "text/plain": [
       "{'x1': {'x1': array([[0.0121669 ],\n",
       "         [0.0121669 ],\n",
       "         [0.8571928 ],\n",
       "         [0.8571928 ],\n",
       "         [0.87663919],\n",
       "         [0.87663919],\n",
       "         [0.18152863],\n",
       "         [0.18152863],\n",
       "         [0.51967274],\n",
       "         [0.51967274],\n",
       "         [0.70925883],\n",
       "         [0.70925883],\n",
       "         [0.30671076],\n",
       "         [0.30671076],\n",
       "         [0.21500205],\n",
       "         [0.21500205],\n",
       "         [0.36386163],\n",
       "         [0.36386163],\n",
       "         [0.10811999],\n",
       "         [0.10811999],\n",
       "         [0.17129291],\n",
       "         [0.17129291],\n",
       "         [0.47150677],\n",
       "         [0.47150677],\n",
       "         [0.08182861],\n",
       "         [0.08182861],\n",
       "         [0.05266228],\n",
       "         [0.05266228],\n",
       "         [0.94731942],\n",
       "         [0.94731942],\n",
       "         [0.69077626],\n",
       "         [0.69077626],\n",
       "         [0.75958315],\n",
       "         [0.75958315],\n",
       "         [0.74277339],\n",
       "         [0.74277339],\n",
       "         [0.6464497 ],\n",
       "         [0.6464497 ],\n",
       "         [0.51501646],\n",
       "         [0.51501646],\n",
       "         [0.27824351],\n",
       "         [0.27824351],\n",
       "         [0.59299098],\n",
       "         [0.59299098],\n",
       "         [0.80176402],\n",
       "         [0.80176402],\n",
       "         [0.06419722],\n",
       "         [0.06419722],\n",
       "         [0.03972411],\n",
       "         [0.03972411],\n",
       "         [0.16492777],\n",
       "         [0.16492777],\n",
       "         [0.77092887],\n",
       "         [0.77092887],\n",
       "         [0.28705431],\n",
       "         [0.28705431],\n",
       "         [0.83031697],\n",
       "         [0.83031697],\n",
       "         [0.43567041],\n",
       "         [0.43567041],\n",
       "         [0.16598106],\n",
       "         [0.16598106],\n",
       "         [0.90330858],\n",
       "         [0.90330858],\n",
       "         [0.19194461],\n",
       "         [0.19194461],\n",
       "         [0.93685979],\n",
       "         [0.93685979],\n",
       "         [0.54070024],\n",
       "         [0.54070024],\n",
       "         [0.86278945],\n",
       "         [0.86278945],\n",
       "         [0.30319307],\n",
       "         [0.30319307],\n",
       "         [0.23279171],\n",
       "         [0.23279171],\n",
       "         [0.3034486 ],\n",
       "         [0.3034486 ],\n",
       "         [0.545686  ],\n",
       "         [0.545686  ],\n",
       "         [0.0284717 ],\n",
       "         [0.0284717 ],\n",
       "         [0.19967419],\n",
       "         [0.19967419],\n",
       "         [0.12703999],\n",
       "         [0.12703999],\n",
       "         [0.4447511 ],\n",
       "         [0.4447511 ],\n",
       "         [0.01730831],\n",
       "         [0.01730831],\n",
       "         [0.0793453 ],\n",
       "         [0.0793453 ],\n",
       "         [0.98654339],\n",
       "         [0.98654339],\n",
       "         [0.63139615],\n",
       "         [0.63139615],\n",
       "         [0.05341649],\n",
       "         [0.05341649],\n",
       "         [0.19244219],\n",
       "         [0.19244219],\n",
       "         [0.52593778],\n",
       "         [0.52593778],\n",
       "         [0.58021197],\n",
       "         [0.58021197],\n",
       "         [0.26653928],\n",
       "         [0.26653928],\n",
       "         [0.77114242],\n",
       "         [0.77114242],\n",
       "         [0.67356693],\n",
       "         [0.67356693],\n",
       "         [0.23620906],\n",
       "         [0.23620906],\n",
       "         [0.98028297],\n",
       "         [0.98028297],\n",
       "         [0.86804843],\n",
       "         [0.86804843],\n",
       "         [0.66855466],\n",
       "         [0.66855466],\n",
       "         [0.856192  ],\n",
       "         [0.856192  ],\n",
       "         [0.60819253],\n",
       "         [0.60819253],\n",
       "         [0.01769618],\n",
       "         [0.01769618],\n",
       "         [0.88922302],\n",
       "         [0.88922302],\n",
       "         [0.51889911],\n",
       "         [0.51889911],\n",
       "         [0.18703658],\n",
       "         [0.18703658],\n",
       "         [0.17149553],\n",
       "         [0.17149553],\n",
       "         [0.46859545],\n",
       "         [0.46859545],\n",
       "         [0.3274965 ],\n",
       "         [0.3274965 ],\n",
       "         [0.6524695 ],\n",
       "         [0.6524695 ],\n",
       "         [0.15196627],\n",
       "         [0.15196627],\n",
       "         [0.83824184],\n",
       "         [0.83824184],\n",
       "         [0.37702465],\n",
       "         [0.37702465],\n",
       "         [0.1277242 ],\n",
       "         [0.1277242 ],\n",
       "         [0.61785235],\n",
       "         [0.61785235],\n",
       "         [0.22809511],\n",
       "         [0.22809511],\n",
       "         [0.08757864],\n",
       "         [0.08757864],\n",
       "         [0.07517403],\n",
       "         [0.07517403],\n",
       "         [0.80294663],\n",
       "         [0.80294663],\n",
       "         [0.62874799],\n",
       "         [0.62874799],\n",
       "         [0.93420747],\n",
       "         [0.93420747],\n",
       "         [0.5062212 ],\n",
       "         [0.5062212 ],\n",
       "         [0.7473083 ],\n",
       "         [0.7473083 ],\n",
       "         [0.4578814 ],\n",
       "         [0.4578814 ],\n",
       "         [0.67542948],\n",
       "         [0.67542948],\n",
       "         [0.10653882],\n",
       "         [0.10653882],\n",
       "         [0.98439742],\n",
       "         [0.98439742],\n",
       "         [0.02826709],\n",
       "         [0.02826709],\n",
       "         [0.32237415],\n",
       "         [0.32237415],\n",
       "         [0.37968469],\n",
       "         [0.37968469],\n",
       "         [0.75943432],\n",
       "         [0.75943432],\n",
       "         [0.25537215],\n",
       "         [0.25537215],\n",
       "         [0.7685747 ],\n",
       "         [0.7685747 ],\n",
       "         [0.81565251],\n",
       "         [0.81565251],\n",
       "         [0.7682474 ],\n",
       "         [0.7682474 ],\n",
       "         [0.81035875],\n",
       "         [0.81035875],\n",
       "         [0.15235545],\n",
       "         [0.15235545],\n",
       "         [0.25106904],\n",
       "         [0.25106904],\n",
       "         [0.12701945],\n",
       "         [0.12701945],\n",
       "         [0.84932466],\n",
       "         [0.84932466],\n",
       "         [0.09717123],\n",
       "         [0.09717123]])}}"
      ]
     },
     "execution_count": 1,
     "metadata": {},
     "output_type": "execute_result"
    }
   ],
   "source": [
    "ds = load_by_id(run_id_a)\n",
    "ds.get_parameter_data('x1')"
   ]
  },
  {
   "cell_type": "code",
   "execution_count": null,
   "metadata": {},
   "outputs": [],
   "source": []
  }
 ],
 "metadata": {
  "kernelspec": {
   "display_name": "Python 3",
   "language": "python",
   "name": "python3"
  },
  "language_info": {
   "codemirror_mode": {
    "name": "ipython",
    "version": 3
   },
   "file_extension": ".py",
   "mimetype": "text/x-python",
   "name": "python",
   "nbconvert_exporter": "python",
   "pygments_lexer": "ipython3",
   "version": "3.7.7"
  },
  "nbsphinx": {
   "timeout": 600
  },
  "toc": {
   "base_numbering": 1,
   "nav_menu": {},
   "number_sections": true,
   "sideBar": true,
   "skip_h1_title": false,
   "title_cell": "Table of Contents",
   "title_sidebar": "Contents",
   "toc_cell": false,
   "toc_position": {},
   "toc_section_display": true,
   "toc_window_display": false
  },
  "varInspector": {
   "cols": {
    "lenName": 16,
    "lenType": 16,
    "lenVar": 40
   },
   "kernels_config": {
    "python": {
     "delete_cmd_postfix": "",
     "delete_cmd_prefix": "del ",
     "library": "var_list.py",
     "varRefreshCmd": "print(var_dic_list())"
    },
    "r": {
     "delete_cmd_postfix": ") ",
     "delete_cmd_prefix": "rm(",
     "library": "var_list.r",
     "varRefreshCmd": "cat(var_dic_list()) "
    }
   },
   "types_to_exclude": [
    "module",
    "function",
    "builtin_function_or_method",
    "instance",
    "_Feature"
   ],
   "window_display": false
  }
 },
 "nbformat": 4,
 "nbformat_minor": 2
}
