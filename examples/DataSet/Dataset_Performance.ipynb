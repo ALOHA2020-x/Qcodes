{
 "cells": [
  {
   "cell_type": "markdown",
   "metadata": {},
   "source": [
    "# DataSet Performance\n",
    "\n",
    "This notebook shows the trade-off between inserting data into a database row-by-row and as binary blobs. Inserting the data row-by-row means that we have direct access to all the data and may perform queries directly on the values of the data. On the other hand, as we shall see, this is much slower than inserting the data directly as binary blobs."
   ]
  },
  {
   "cell_type": "markdown",
   "metadata": {},
   "source": [
    "First, we choose a new location for the database to ensure that we don't add a bunch of benchmarking data to the default one."
   ]
  },
  {
   "cell_type": "code",
   "execution_count": 1,
   "metadata": {},
   "outputs": [
    {
     "name": "stdout",
     "output_type": "stream",
     "text": [
      "Logging hadn't been started.\n",
      "Activating auto-logging. Current session state plus future input saved.\n",
      "Filename       : /home/vsts/.qcodes/logs/command_history.log\n",
      "Mode           : append\n",
      "Output logging : True\n",
      "Raw input log  : False\n",
      "Timestamping   : True\n",
      "State          : active\n"
     ]
    },
    {
     "name": "stdout",
     "output_type": "stream",
     "text": [
      "Qcodes Logfile : /home/vsts/.qcodes/logs/200513-18961-qcodes.log\n"
     ]
    }
   ],
   "source": [
    "import os\n",
    "cwd = os.getcwd()\n",
    "import qcodes as qc\n",
    "qc.config[\"core\"][\"db_location\"] = os.path.join(cwd, 'testing.db')\n"
   ]
  },
  {
   "cell_type": "code",
   "execution_count": 2,
   "metadata": {},
   "outputs": [],
   "source": [
    "%matplotlib inline\n",
    "import time\n",
    "import matplotlib.pyplot as plt\n",
    "import numpy as np\n",
    "\n",
    "import qcodes as qc\n",
    "from qcodes.instrument.parameter import ManualParameter\n",
    "from qcodes.dataset.experiment_container import (Experiment,\n",
    "                                                 load_last_experiment,\n",
    "                                                 new_experiment)\n",
    "from qcodes.dataset.sqlite.database import initialise_database\n",
    "from qcodes import load_or_create_experiment\n",
    "from qcodes.dataset.measurements import Measurement"
   ]
  },
  {
   "cell_type": "code",
   "execution_count": 3,
   "metadata": {},
   "outputs": [
    {
     "name": "stdout",
     "output_type": "stream",
     "text": [
      "\r",
      "0it [00:00, ?it/s]"
     ]
    },
    {
     "name": "stdout",
     "output_type": "stream",
     "text": [
      "\r",
      "Upgrading database; v0 -> v1: : 0it [00:00, ?it/s]"
     ]
    },
    {
     "name": "stdout",
     "output_type": "stream",
     "text": [
      "\r",
      "Upgrading database; v0 -> v1: : 0it [00:00, ?it/s]"
     ]
    },
    {
     "name": "stdout",
     "output_type": "stream",
     "text": [
      "\n",
      "\r",
      "  0%|          | 0/1 [00:00<?, ?it/s]"
     ]
    },
    {
     "name": "stdout",
     "output_type": "stream",
     "text": [
      "\r",
      "Upgrading database; v1 -> v2:   0%|          | 0/1 [00:00<?, ?it/s]"
     ]
    },
    {
     "name": "stdout",
     "output_type": "stream",
     "text": [
      "\r",
      "Upgrading database; v1 -> v2: 100%|██████████| 1/1 [00:00<00:00, 685.12it/s]"
     ]
    },
    {
     "name": "stdout",
     "output_type": "stream",
     "text": [
      "\n",
      "\r",
      "0it [00:00, ?it/s]"
     ]
    },
    {
     "name": "stdout",
     "output_type": "stream",
     "text": [
      "\r",
      "Upgrading database; v2 -> v3: : 0it [00:00, ?it/s]"
     ]
    },
    {
     "name": "stdout",
     "output_type": "stream",
     "text": [
      "\r",
      "Upgrading database; v2 -> v3: : 0it [00:00, ?it/s]"
     ]
    },
    {
     "name": "stdout",
     "output_type": "stream",
     "text": [
      "\n",
      "\r",
      "0it [00:00, ?it/s]"
     ]
    },
    {
     "name": "stdout",
     "output_type": "stream",
     "text": [
      "\r",
      "Upgrading database; v3 -> v4: : 0it [00:00, ?it/s]"
     ]
    },
    {
     "name": "stdout",
     "output_type": "stream",
     "text": [
      "\r",
      "Upgrading database; v3 -> v4: : 0it [00:00, ?it/s]"
     ]
    },
    {
     "name": "stdout",
     "output_type": "stream",
     "text": [
      "\n",
      "\r",
      "  0%|          | 0/1 [00:00<?, ?it/s]"
     ]
    },
    {
     "name": "stdout",
     "output_type": "stream",
     "text": [
      "\r",
      "Upgrading database; v4 -> v5:   0%|          | 0/1 [00:00<?, ?it/s]"
     ]
    },
    {
     "name": "stdout",
     "output_type": "stream",
     "text": [
      "\r",
      "Upgrading database; v4 -> v5: 100%|██████████| 1/1 [00:00<00:00, 683.33it/s]"
     ]
    },
    {
     "name": "stdout",
     "output_type": "stream",
     "text": [
      "\n",
      "\r",
      "0it [00:00, ?it/s]"
     ]
    },
    {
     "name": "stdout",
     "output_type": "stream",
     "text": [
      "\r",
      "Upgrading database; v5 -> v6: : 0it [00:00, ?it/s]"
     ]
    },
    {
     "name": "stdout",
     "output_type": "stream",
     "text": [
      "\r",
      "Upgrading database; v5 -> v6: : 0it [00:00, ?it/s]"
     ]
    },
    {
     "name": "stdout",
     "output_type": "stream",
     "text": [
      "\n",
      "\r",
      "  0%|          | 0/1 [00:00<?, ?it/s]"
     ]
    },
    {
     "name": "stdout",
     "output_type": "stream",
     "text": [
      "\r",
      "Upgrading database; v6 -> v7:   0%|          | 0/1 [00:00<?, ?it/s]"
     ]
    },
    {
     "name": "stdout",
     "output_type": "stream",
     "text": [
      "\r",
      "Upgrading database; v6 -> v7: 100%|██████████| 1/1 [00:00<00:00, 384.02it/s]"
     ]
    },
    {
     "name": "stdout",
     "output_type": "stream",
     "text": [
      "\n",
      "\r",
      "  0%|          | 0/1 [00:00<?, ?it/s]"
     ]
    },
    {
     "name": "stdout",
     "output_type": "stream",
     "text": [
      "\r",
      "Upgrading database; v7 -> v8:   0%|          | 0/1 [00:00<?, ?it/s]"
     ]
    },
    {
     "name": "stdout",
     "output_type": "stream",
     "text": [
      "\r",
      "Upgrading database; v7 -> v8: 100%|██████████| 1/1 [00:00<00:00, 710.06it/s]"
     ]
    },
    {
     "name": "stdout",
     "output_type": "stream",
     "text": [
      "\n",
      "\r",
      "  0%|          | 0/1 [00:00<?, ?it/s]"
     ]
    },
    {
     "name": "stdout",
     "output_type": "stream",
     "text": [
      "\r",
      "Upgrading database; v8 -> v9:   0%|          | 0/1 [00:00<?, ?it/s]"
     ]
    },
    {
     "name": "stdout",
     "output_type": "stream",
     "text": [
      "\r",
      "Upgrading database; v8 -> v9: 100%|██████████| 1/1 [00:00<00:00, 822.41it/s]"
     ]
    },
    {
     "name": "stdout",
     "output_type": "stream",
     "text": [
      "\n"
     ]
    }
   ],
   "source": [
    "initialise_database()\n",
    "exp = load_or_create_experiment(experiment_name='tutorial_exp', sample_name=\"no sample\")"
   ]
  },
  {
   "cell_type": "markdown",
   "metadata": {},
   "source": [
    "Here, we define a simple function to benchmark the time it takes to insert n points with either numeric or array data type.\n",
    "We will compare both the time used to call ``add_result`` and the time used for the full measurement."
   ]
  },
  {
   "cell_type": "code",
   "execution_count": 4,
   "metadata": {},
   "outputs": [],
   "source": [
    "def insert_data(paramtype, npoints, nreps=1):\n",
    "\n",
    "    meas = Measurement(exp=exp)\n",
    "\n",
    "    x1 = ManualParameter('x1')\n",
    "    x2 = ManualParameter('x2')\n",
    "    x3 = ManualParameter('x3')\n",
    "    y1 = ManualParameter('y1')\n",
    "    y2 = ManualParameter('y2')\n",
    "\n",
    "    meas.register_parameter(x1, paramtype=paramtype)\n",
    "    meas.register_parameter(x2, paramtype=paramtype)\n",
    "    meas.register_parameter(x3, paramtype=paramtype)\n",
    "    meas.register_parameter(y1, setpoints=[x1, x2, x3],\n",
    "                            paramtype=paramtype)\n",
    "    meas.register_parameter(y2, setpoints=[x1, x2, x3],\n",
    "                            paramtype=paramtype)\n",
    "    start = time.perf_counter()\n",
    "    with meas.run() as datasaver:\n",
    "        start_adding = time.perf_counter()\n",
    "        for i in range(nreps):\n",
    "            datasaver.add_result((x1, np.random.rand(npoints)),\n",
    "                                 (x2, np.random.rand(npoints)),\n",
    "                                 (x3, np.random.rand(npoints)),\n",
    "                                 (y1, np.random.rand(npoints)),\n",
    "                                 (y2, np.random.rand(npoints)))\n",
    "        stop_adding = time.perf_counter()\n",
    "        run_id = datasaver.run_id\n",
    "    stop = time.perf_counter()\n",
    "    tot_time = stop - start\n",
    "    add_time = stop_adding - start_adding\n",
    "    return tot_time, add_time, run_id"
   ]
  },
  {
   "cell_type": "markdown",
   "metadata": {},
   "source": [
    "## Comparison between numeric/array data and binary blob"
   ]
  },
  {
   "cell_type": "markdown",
   "metadata": {},
   "source": [
    "### Case1: Short experiment time"
   ]
  },
  {
   "cell_type": "code",
   "execution_count": 5,
   "metadata": {},
   "outputs": [
    {
     "name": "stdout",
     "output_type": "stream",
     "text": [
      "Starting experimental run with id: 1. \n",
      "Starting experimental run with id: 2. \n",
      "Starting experimental run with id: 3. \n"
     ]
    },
    {
     "name": "stdout",
     "output_type": "stream",
     "text": [
      "Starting experimental run with id: 4. \n"
     ]
    },
    {
     "name": "stdout",
     "output_type": "stream",
     "text": [
      "Starting experimental run with id: 5. \n",
      "Starting experimental run with id: 6. \n"
     ]
    },
    {
     "name": "stdout",
     "output_type": "stream",
     "text": [
      "Starting experimental run with id: 7. \n",
      "Starting experimental run with id: 8. \n"
     ]
    },
    {
     "name": "stdout",
     "output_type": "stream",
     "text": [
      "Starting experimental run with id: 9. \n"
     ]
    },
    {
     "name": "stdout",
     "output_type": "stream",
     "text": [
      "Starting experimental run with id: 10. \n",
      "Starting experimental run with id: 11. \n"
     ]
    },
    {
     "name": "stdout",
     "output_type": "stream",
     "text": [
      "Starting experimental run with id: 12. \n"
     ]
    },
    {
     "name": "stdout",
     "output_type": "stream",
     "text": [
      "Starting experimental run with id: 13. \n"
     ]
    },
    {
     "name": "stdout",
     "output_type": "stream",
     "text": [
      "Starting experimental run with id: 14. \n"
     ]
    }
   ],
   "source": [
    "sizes = [1,500,1000,2000,3000,4000,5000]\n",
    "t_numeric = []\n",
    "t_numeric_add = []\n",
    "t_array = []\n",
    "t_array_add = []\n",
    "for size in sizes:\n",
    "    tn, tna, run_id_n =  insert_data('numeric', size)\n",
    "    t_numeric.append(tn)\n",
    "    t_numeric_add.append(tna)\n",
    "\n",
    "    ta, taa, run_id_a =  insert_data('array', size)\n",
    "    t_array.append(ta)\n",
    "    t_array_add.append(taa)"
   ]
  },
  {
   "cell_type": "code",
   "execution_count": 6,
   "metadata": {},
   "outputs": [
    {
     "data": {
      "image/png": "[encoded data removed]",
      "text/plain": [
       "<Figure size 432x288 with 1 Axes>"
      ]
     },
     "metadata": {
      "needs_background": "light"
     },
     "output_type": "display_data"
    }
   ],
   "source": [
    "fig, ax = plt.subplots(1,1)\n",
    "ax.plot(sizes, t_numeric, 'o-', label='Inserting row-by-row')\n",
    "ax.plot(sizes, t_numeric_add, 'o-', label='Inserting row-by-row: add_result only')\n",
    "ax.plot(sizes, t_array, 'd-', label='Inserting as binary blob')\n",
    "ax.plot(sizes, t_array_add, 'd-', label='Inserting as binary blob: add_result only')\n",
    "ax.legend()\n",
    "ax.set_xlabel('Array length')\n",
    "ax.set_ylabel('Time (s)')\n",
    "fig.tight_layout()"
   ]
  },
  {
   "cell_type": "markdown",
   "metadata": {},
   "source": [
    "As shown in the latter figure, the time to setup and and close the experiment is approximately 0.4 sec. In case of small array sizes, the difference between inserting values of data as arrays and inserting them row-by-row is relatively unimportant. At larger array sizes, i.e. above 10000 points, the cost of writing data as individual datapoints starts to become important.\n"
   ]
  },
  {
   "cell_type": "markdown",
   "metadata": {},
   "source": [
    "### Case2: Long experiment time "
   ]
  },
  {
   "cell_type": "code",
   "execution_count": 7,
   "metadata": {},
   "outputs": [
    {
     "name": "stdout",
     "output_type": "stream",
     "text": [
      "Starting experimental run with id: 15. \n",
      "Starting experimental run with id: 16. \n"
     ]
    },
    {
     "name": "stdout",
     "output_type": "stream",
     "text": [
      "Starting experimental run with id: 17. \n"
     ]
    },
    {
     "name": "stdout",
     "output_type": "stream",
     "text": [
      "Starting experimental run with id: 18. \n",
      "Starting experimental run with id: 19. \n"
     ]
    },
    {
     "name": "stdout",
     "output_type": "stream",
     "text": [
      "Starting experimental run with id: 20. \n"
     ]
    },
    {
     "name": "stdout",
     "output_type": "stream",
     "text": [
      "Starting experimental run with id: 21. \n"
     ]
    },
    {
     "name": "stdout",
     "output_type": "stream",
     "text": [
      "Starting experimental run with id: 22. \n"
     ]
    },
    {
     "name": "stdout",
     "output_type": "stream",
     "text": [
      "Starting experimental run with id: 23. \n"
     ]
    },
    {
     "name": "stdout",
     "output_type": "stream",
     "text": [
      "Starting experimental run with id: 24. \n"
     ]
    },
    {
     "name": "stdout",
     "output_type": "stream",
     "text": [
      "Starting experimental run with id: 25. \n"
     ]
    },
    {
     "name": "stdout",
     "output_type": "stream",
     "text": [
      "Starting experimental run with id: 26. \n"
     ]
    },
    {
     "name": "stdout",
     "output_type": "stream",
     "text": [
      "Starting experimental run with id: 27. \n"
     ]
    },
    {
     "name": "stdout",
     "output_type": "stream",
     "text": [
      "Starting experimental run with id: 28. \n"
     ]
    }
   ],
   "source": [
    "sizes = [1,500,1000,2000,3000,4000,5000]\n",
    "nreps = 100\n",
    "t_numeric = []\n",
    "t_numeric_add = []\n",
    "t_numeric_run_ids = []\n",
    "t_array = []\n",
    "t_array_add = []\n",
    "t_array_run_ids = []\n",
    "for size in sizes:\n",
    "    tn, tna, run_id_n =  insert_data('numeric', size, nreps=nreps)\n",
    "    t_numeric.append(tn)\n",
    "    t_numeric_add.append(tna)\n",
    "    t_numeric_run_ids.append(run_id_n)\n",
    "\n",
    "    ta, taa, run_id_a =  insert_data('array', size, nreps=nreps)\n",
    "    t_array.append(ta)\n",
    "    t_array_add.append(taa)\n",
    "    t_array_run_ids.append(run_id_a)"
   ]
  },
  {
   "cell_type": "code",
   "execution_count": 8,
   "metadata": {
    "scrolled": true
   },
   "outputs": [
    {
     "data": {
      "image/png": "[encoded data removed]",
      "text/plain": [
       "<Figure size 432x288 with 1 Axes>"
      ]
     },
     "metadata": {
      "needs_background": "light"
     },
     "output_type": "display_data"
    }
   ],
   "source": [
    "fig, ax = plt.subplots(1,1)\n",
    "ax.plot(sizes, t_numeric, 'o-', label='Inserting row-by-row')\n",
    "ax.plot(sizes, t_numeric_add, 'o-', label='Inserting row-by-row: add_result only')\n",
    "ax.plot(sizes, t_array, 'd-', label='Inserting as binary blob')\n",
    "ax.plot(sizes, t_array_add, 'd-', label='Inserting as binary blob: add_result only')\n",
    "ax.legend()\n",
    "ax.set_xlabel('Array length')\n",
    "ax.set_ylabel('Time (s)')\n",
    "fig.tight_layout()"
   ]
  },
  {
   "cell_type": "markdown",
   "metadata": {},
   "source": [
    "However, as we increase the length of the experiment, as seen here by repeating the insertion 100 times, we see a big difference between inserting values of the data row-by-row and inserting it as a binary blob."
   ]
  },
  {
   "cell_type": "markdown",
   "metadata": {},
   "source": [
    "## Loading the data "
   ]
  },
  {
   "cell_type": "code",
   "execution_count": 9,
   "metadata": {},
   "outputs": [],
   "source": [
    "from qcodes.dataset.data_set import load_by_id\n",
    "from qcodes.dataset.data_export import get_data_by_id"
   ]
  },
  {
   "cell_type": "markdown",
   "metadata": {},
   "source": [
    "As usual you can load the data by using the ``load_by_id`` function but you will notice that the different storage methods\n",
    "are reflected in shape of the data as it is retrieved. "
   ]
  },
  {
   "cell_type": "code",
   "execution_count": 10,
   "metadata": {},
   "outputs": [],
   "source": [
    "run_id_n = t_numeric_run_ids[0]\n",
    "run_id_a = t_array_run_ids[0]"
   ]
  },
  {
   "cell_type": "code",
   "execution_count": 11,
   "metadata": {
    "scrolled": true
   },
   "outputs": [
    {
     "data": {
      "text/plain": [
       "{'x1': {'x1': array([0.28733794, 0.28733794, 0.73179294, 0.73179294, 0.51117178,\n",
       "         0.51117178, 0.76823309, 0.76823309, 0.36966156, 0.36966156,\n",
       "         0.86452168, 0.86452168, 0.06891867, 0.06891867, 0.75927045,\n",
       "         0.75927045, 0.83895632, 0.83895632, 0.30910157, 0.30910157,\n",
       "         0.81960687, 0.81960687, 0.85969247, 0.85969247, 0.00128276,\n",
       "         0.00128276, 0.72350472, 0.72350472, 0.12867312, 0.12867312,\n",
       "         0.76162385, 0.76162385, 0.58252368, 0.58252368, 0.74242421,\n",
       "         0.74242421, 0.3794011 , 0.3794011 , 0.69051668, 0.69051668,\n",
       "         0.58440271, 0.58440271, 0.38005209, 0.38005209, 0.76161879,\n",
       "         0.76161879, 0.33807303, 0.33807303, 0.7807867 , 0.7807867 ,\n",
       "         0.63455156, 0.63455156, 0.05287432, 0.05287432, 0.6622574 ,\n",
       "         0.6622574 , 0.49084763, 0.49084763, 0.92781377, 0.92781377,\n",
       "         0.60042417, 0.60042417, 0.43435471, 0.43435471, 0.89112347,\n",
       "         0.89112347, 0.91780209, 0.91780209, 0.46139688, 0.46139688,\n",
       "         0.83814409, 0.83814409, 0.69412055, 0.69412055, 0.52595089,\n",
       "         0.52595089, 0.98206481, 0.98206481, 0.6326266 , 0.6326266 ,\n",
       "         0.20120477, 0.20120477, 0.40281362, 0.40281362, 0.04953982,\n",
       "         0.04953982, 0.84976147, 0.84976147, 0.4749252 , 0.4749252 ,\n",
       "         0.86957525, 0.86957525, 0.11370883, 0.11370883, 0.42104751,\n",
       "         0.42104751, 0.09683521, 0.09683521, 0.99387443, 0.99387443,\n",
       "         0.86314422, 0.86314422, 0.98455539, 0.98455539, 0.22211678,\n",
       "         0.22211678, 0.85297734, 0.85297734, 0.8652315 , 0.8652315 ,\n",
       "         0.6817722 , 0.6817722 , 0.22120008, 0.22120008, 0.18547633,\n",
       "         0.18547633, 0.34416128, 0.34416128, 0.61047974, 0.61047974,\n",
       "         0.79363988, 0.79363988, 0.13800702, 0.13800702, 0.64567359,\n",
       "         0.64567359, 0.18238003, 0.18238003, 0.685209  , 0.685209  ,\n",
       "         0.39143631, 0.39143631, 0.71339882, 0.71339882, 0.28252845,\n",
       "         0.28252845, 0.03176151, 0.03176151, 0.12346127, 0.12346127,\n",
       "         0.59575331, 0.59575331, 0.61826088, 0.61826088, 0.3164851 ,\n",
       "         0.3164851 , 0.09863355, 0.09863355, 0.15394184, 0.15394184,\n",
       "         0.64712733, 0.64712733, 0.25535375, 0.25535375, 0.4070354 ,\n",
       "         0.4070354 , 0.76259511, 0.76259511, 0.03965363, 0.03965363,\n",
       "         0.32640972, 0.32640972, 0.36099896, 0.36099896, 0.99946957,\n",
       "         0.99946957, 0.37300302, 0.37300302, 0.29060753, 0.29060753,\n",
       "         0.9074506 , 0.9074506 , 0.15051264, 0.15051264, 0.32308621,\n",
       "         0.32308621, 0.47852487, 0.47852487, 0.77698655, 0.77698655,\n",
       "         0.57325656, 0.57325656, 0.11730838, 0.11730838, 0.40951607,\n",
       "         0.40951607, 0.41126906, 0.41126906, 0.70993394, 0.70993394,\n",
       "         0.72538086, 0.72538086, 0.19472087, 0.19472087, 0.91498758,\n",
       "         0.91498758, 0.25027934, 0.25027934, 0.87169708, 0.87169708])}}"
      ]
     },
     "execution_count": 11,
     "metadata": {},
     "output_type": "execute_result"
    }
   ],
   "source": [
    "ds = load_by_id(run_id_n)\n",
    "ds.get_parameter_data('x1')"
   ]
  },
  {
   "cell_type": "markdown",
   "metadata": {},
   "source": [
    "And a dataset stored as binary arrays"
   ]
  },
  {
   "cell_type": "code",
   "execution_count": 12,
   "metadata": {
    "scrolled": true
   },
   "outputs": [
    {
     "data": {
      "text/plain": [
       "{'x1': {'x1': array([[0.64872608],\n",
       "         [0.64872608],\n",
       "         [0.45292324],\n",
       "         [0.45292324],\n",
       "         [0.40802233],\n",
       "         [0.40802233],\n",
       "         [0.26279404],\n",
       "         [0.26279404],\n",
       "         [0.61953453],\n",
       "         [0.61953453],\n",
       "         [0.20948043],\n",
       "         [0.20948043],\n",
       "         [0.59634858],\n",
       "         [0.59634858],\n",
       "         [0.81061906],\n",
       "         [0.81061906],\n",
       "         [0.37912292],\n",
       "         [0.37912292],\n",
       "         [0.58824861],\n",
       "         [0.58824861],\n",
       "         [0.96624179],\n",
       "         [0.96624179],\n",
       "         [0.30590402],\n",
       "         [0.30590402],\n",
       "         [0.84561856],\n",
       "         [0.84561856],\n",
       "         [0.1399212 ],\n",
       "         [0.1399212 ],\n",
       "         [0.48360068],\n",
       "         [0.48360068],\n",
       "         [0.0110842 ],\n",
       "         [0.0110842 ],\n",
       "         [0.47195649],\n",
       "         [0.47195649],\n",
       "         [0.68341714],\n",
       "         [0.68341714],\n",
       "         [0.37325105],\n",
       "         [0.37325105],\n",
       "         [0.57757025],\n",
       "         [0.57757025],\n",
       "         [0.51064823],\n",
       "         [0.51064823],\n",
       "         [0.24467419],\n",
       "         [0.24467419],\n",
       "         [0.18286532],\n",
       "         [0.18286532],\n",
       "         [0.47487592],\n",
       "         [0.47487592],\n",
       "         [0.9000218 ],\n",
       "         [0.9000218 ],\n",
       "         [0.78273976],\n",
       "         [0.78273976],\n",
       "         [0.51575467],\n",
       "         [0.51575467],\n",
       "         [0.16838666],\n",
       "         [0.16838666],\n",
       "         [0.01038984],\n",
       "         [0.01038984],\n",
       "         [0.63812326],\n",
       "         [0.63812326],\n",
       "         [0.29343819],\n",
       "         [0.29343819],\n",
       "         [0.12239497],\n",
       "         [0.12239497],\n",
       "         [0.79130074],\n",
       "         [0.79130074],\n",
       "         [0.44389624],\n",
       "         [0.44389624],\n",
       "         [0.3013567 ],\n",
       "         [0.3013567 ],\n",
       "         [0.63575393],\n",
       "         [0.63575393],\n",
       "         [0.84984727],\n",
       "         [0.84984727],\n",
       "         [0.75682161],\n",
       "         [0.75682161],\n",
       "         [0.64872249],\n",
       "         [0.64872249],\n",
       "         [0.23940787],\n",
       "         [0.23940787],\n",
       "         [0.92848995],\n",
       "         [0.92848995],\n",
       "         [0.79654941],\n",
       "         [0.79654941],\n",
       "         [0.76897504],\n",
       "         [0.76897504],\n",
       "         [0.48697196],\n",
       "         [0.48697196],\n",
       "         [0.32239308],\n",
       "         [0.32239308],\n",
       "         [0.45927499],\n",
       "         [0.45927499],\n",
       "         [0.03917579],\n",
       "         [0.03917579],\n",
       "         [0.52269983],\n",
       "         [0.52269983],\n",
       "         [0.36832867],\n",
       "         [0.36832867],\n",
       "         [0.25079403],\n",
       "         [0.25079403],\n",
       "         [0.78573423],\n",
       "         [0.78573423],\n",
       "         [0.45735483],\n",
       "         [0.45735483],\n",
       "         [0.00763683],\n",
       "         [0.00763683],\n",
       "         [0.93200306],\n",
       "         [0.93200306],\n",
       "         [0.89144066],\n",
       "         [0.89144066],\n",
       "         [0.36380289],\n",
       "         [0.36380289],\n",
       "         [0.55613618],\n",
       "         [0.55613618],\n",
       "         [0.36457641],\n",
       "         [0.36457641],\n",
       "         [0.7414728 ],\n",
       "         [0.7414728 ],\n",
       "         [0.46863271],\n",
       "         [0.46863271],\n",
       "         [0.60171047],\n",
       "         [0.60171047],\n",
       "         [0.04935018],\n",
       "         [0.04935018],\n",
       "         [0.09141974],\n",
       "         [0.09141974],\n",
       "         [0.74424523],\n",
       "         [0.74424523],\n",
       "         [0.68198033],\n",
       "         [0.68198033],\n",
       "         [0.09507952],\n",
       "         [0.09507952],\n",
       "         [0.23758608],\n",
       "         [0.23758608],\n",
       "         [0.55807255],\n",
       "         [0.55807255],\n",
       "         [0.11009744],\n",
       "         [0.11009744],\n",
       "         [0.77023532],\n",
       "         [0.77023532],\n",
       "         [0.43283709],\n",
       "         [0.43283709],\n",
       "         [0.49683926],\n",
       "         [0.49683926],\n",
       "         [0.92486053],\n",
       "         [0.92486053],\n",
       "         [0.91928111],\n",
       "         [0.91928111],\n",
       "         [0.71058512],\n",
       "         [0.71058512],\n",
       "         [0.41110124],\n",
       "         [0.41110124],\n",
       "         [0.59554061],\n",
       "         [0.59554061],\n",
       "         [0.67271234],\n",
       "         [0.67271234],\n",
       "         [0.03023036],\n",
       "         [0.03023036],\n",
       "         [0.96557765],\n",
       "         [0.96557765],\n",
       "         [0.61047054],\n",
       "         [0.61047054],\n",
       "         [0.80335479],\n",
       "         [0.80335479],\n",
       "         [0.93252527],\n",
       "         [0.93252527],\n",
       "         [0.79534246],\n",
       "         [0.79534246],\n",
       "         [0.44719423],\n",
       "         [0.44719423],\n",
       "         [0.26363036],\n",
       "         [0.26363036],\n",
       "         [0.82809683],\n",
       "         [0.82809683],\n",
       "         [0.76297029],\n",
       "         [0.76297029],\n",
       "         [0.01291344],\n",
       "         [0.01291344],\n",
       "         [0.93795162],\n",
       "         [0.93795162],\n",
       "         [0.96066358],\n",
       "         [0.96066358],\n",
       "         [0.71423662],\n",
       "         [0.71423662],\n",
       "         [0.25607967],\n",
       "         [0.25607967],\n",
       "         [0.45406177],\n",
       "         [0.45406177],\n",
       "         [0.25187651],\n",
       "         [0.25187651],\n",
       "         [0.18882736],\n",
       "         [0.18882736],\n",
       "         [0.12269514],\n",
       "         [0.12269514],\n",
       "         [0.76329101],\n",
       "         [0.76329101],\n",
       "         [0.69319556],\n",
       "         [0.69319556],\n",
       "         [0.42338197],\n",
       "         [0.42338197]])}}"
      ]
     },
     "execution_count": 12,
     "metadata": {},
     "output_type": "execute_result"
    }
   ],
   "source": [
    "ds = load_by_id(run_id_a)\n",
    "ds.get_parameter_data('x1')"
   ]
  },
  {
   "cell_type": "code",
   "execution_count": null,
   "metadata": {},
   "outputs": [],
   "source": []
  }
 ],
 "metadata": {
  "kernelspec": {
   "display_name": "Python 3",
   "language": "python",
   "name": "python3"
  },
  "language_info": {
   "codemirror_mode": {
    "name": "ipython",
    "version": 3
   },
   "file_extension": ".py",
   "mimetype": "text/x-python",
   "name": "python",
   "nbconvert_exporter": "python",
   "pygments_lexer": "ipython3",
   "version": "3.7.7"
  },
  "nbsphinx": {
   "timeout": 600
  },
  "toc": {
   "base_numbering": 1,
   "nav_menu": {},
   "number_sections": true,
   "sideBar": true,
   "skip_h1_title": false,
   "title_cell": "Table of Contents",
   "title_sidebar": "Contents",
   "toc_cell": false,
   "toc_position": {},
   "toc_section_display": true,
   "toc_window_display": false
  },
  "varInspector": {
   "cols": {
    "lenName": 16,
    "lenType": 16,
    "lenVar": 40
   },
   "kernels_config": {
    "python": {
     "delete_cmd_postfix": "",
     "delete_cmd_prefix": "del ",
     "library": "var_list.py",
     "varRefreshCmd": "print(var_dic_list())"
    },
    "r": {
     "delete_cmd_postfix": ") ",
     "delete_cmd_prefix": "rm(",
     "library": "var_list.r",
     "varRefreshCmd": "cat(var_dic_list()) "
    }
   },
   "types_to_exclude": [
    "module",
    "function",
    "builtin_function_or_method",
    "instance",
    "_Feature"
   ],
   "window_display": false
  }
 },
 "nbformat": 4,
 "nbformat_minor": 2
}
