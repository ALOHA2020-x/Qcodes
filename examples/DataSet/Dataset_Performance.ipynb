{
 "cells": [
  {
   "cell_type": "markdown",
   "metadata": {},
   "source": [
    "# DataSet Performance\n",
    "\n",
    "This notebook shows the trade-off between inserting data into a database row-by-row and as binary blobs. Inserting the data row-by-row means that we have direct access to all the data and may perform queries directly on the values of the data. On the other hand, as we shall see, this is much slower than inserting the data directly as binary blobs."
   ]
  },
  {
   "cell_type": "markdown",
   "metadata": {},
   "source": [
    "First, we choose a new location for the database to ensure that we don't add a bunch of benchmarking data to the default one."
   ]
  },
  {
   "cell_type": "code",
   "execution_count": 1,
   "metadata": {
    "execution": {
     "iopub.execute_input": "2020-11-25T12:42:06.483025Z",
     "iopub.status.busy": "2020-11-25T12:42:06.482478Z",
     "iopub.status.idle": "2020-11-25T12:42:07.591056Z",
     "shell.execute_reply": "2020-11-25T12:42:07.591521Z"
    }
   },
   "outputs": [
    {
     "name": "stdout",
     "output_type": "stream",
     "text": [
      "Logging hadn't been started.\n",
      "Activating auto-logging. Current session state plus future input saved.\n",
      "Filename       : /home/vsts/.qcodes/logs/command_history.log\n",
      "Mode           : append\n",
      "Output logging : True\n",
      "Raw input log  : False\n",
      "Timestamping   : True\n",
      "State          : active\n"
     ]
    },
    {
     "name": "stdout",
     "output_type": "stream",
     "text": [
      "Qcodes Logfile : /home/vsts/.qcodes/logs/201125-14303-qcodes.log\n"
     ]
    }
   ],
   "source": [
    "import os\n",
    "cwd = os.getcwd()\n",
    "import qcodes as qc\n",
    "qc.config[\"core\"][\"db_location\"] = os.path.join(cwd, 'testing.db')\n"
   ]
  },
  {
   "cell_type": "code",
   "execution_count": 2,
   "metadata": {
    "execution": {
     "iopub.execute_input": "2020-11-25T12:42:07.598927Z",
     "iopub.status.busy": "2020-11-25T12:42:07.596940Z",
     "iopub.status.idle": "2020-11-25T12:42:07.793671Z",
     "shell.execute_reply": "2020-11-25T12:42:07.792683Z"
    }
   },
   "outputs": [],
   "source": [
    "%matplotlib inline\n",
    "import time\n",
    "import matplotlib.pyplot as plt\n",
    "import numpy as np\n",
    "\n",
    "import qcodes as qc\n",
    "from qcodes.instrument.parameter import ManualParameter\n",
    "from qcodes.dataset.experiment_container import (Experiment,\n",
    "                                                 load_last_experiment,\n",
    "                                                 new_experiment)\n",
    "from qcodes.dataset.sqlite.database import initialise_database\n",
    "from qcodes import load_or_create_experiment\n",
    "from qcodes.dataset.measurements import Measurement"
   ]
  },
  {
   "cell_type": "code",
   "execution_count": 3,
   "metadata": {
    "execution": {
     "iopub.execute_input": "2020-11-25T12:42:07.797918Z",
     "iopub.status.busy": "2020-11-25T12:42:07.797282Z",
     "iopub.status.idle": "2020-11-25T12:42:07.929523Z",
     "shell.execute_reply": "2020-11-25T12:42:07.929991Z"
    }
   },
   "outputs": [
    {
     "name": "stdout",
     "output_type": "stream",
     "text": [
      "\r",
      "0it [00:00, ?it/s]"
     ]
    },
    {
     "name": "stdout",
     "output_type": "stream",
     "text": [
      "\r",
      "Upgrading database; v0 -> v1: : 0it [00:00, ?it/s]"
     ]
    },
    {
     "name": "stdout",
     "output_type": "stream",
     "text": [
      "\r",
      "Upgrading database; v0 -> v1: : 0it [00:00, ?it/s]"
     ]
    },
    {
     "name": "stdout",
     "output_type": "stream",
     "text": [
      "\n",
      "\r",
      "  0%|          | 0/1 [00:00<?, ?it/s]"
     ]
    },
    {
     "name": "stdout",
     "output_type": "stream",
     "text": [
      "\r",
      "Upgrading database; v1 -> v2:   0%|          | 0/1 [00:00<?, ?it/s]"
     ]
    },
    {
     "name": "stdout",
     "output_type": "stream",
     "text": [
      "\r",
      "Upgrading database; v1 -> v2: 100%|██████████| 1/1 [00:00<00:00, 888.62it/s]"
     ]
    },
    {
     "name": "stdout",
     "output_type": "stream",
     "text": [
      "\n",
      "\r",
      "0it [00:00, ?it/s]"
     ]
    },
    {
     "name": "stdout",
     "output_type": "stream",
     "text": [
      "\r",
      "Upgrading database; v2 -> v3: : 0it [00:00, ?it/s]"
     ]
    },
    {
     "name": "stdout",
     "output_type": "stream",
     "text": [
      "\r",
      "Upgrading database; v2 -> v3: : 0it [00:00, ?it/s]"
     ]
    },
    {
     "name": "stdout",
     "output_type": "stream",
     "text": [
      "\n",
      "\r",
      "0it [00:00, ?it/s]"
     ]
    },
    {
     "name": "stdout",
     "output_type": "stream",
     "text": [
      "\r",
      "Upgrading database; v3 -> v4: : 0it [00:00, ?it/s]"
     ]
    },
    {
     "name": "stdout",
     "output_type": "stream",
     "text": [
      "\r",
      "Upgrading database; v3 -> v4: : 0it [00:00, ?it/s]"
     ]
    },
    {
     "name": "stdout",
     "output_type": "stream",
     "text": [
      "\n",
      "\r",
      "  0%|          | 0/1 [00:00<?, ?it/s]"
     ]
    },
    {
     "name": "stdout",
     "output_type": "stream",
     "text": [
      "\r",
      "Upgrading database; v4 -> v5:   0%|          | 0/1 [00:00<?, ?it/s]"
     ]
    },
    {
     "name": "stdout",
     "output_type": "stream",
     "text": [
      "\r",
      "Upgrading database; v4 -> v5: 100%|██████████| 1/1 [00:00<00:00, 626.95it/s]"
     ]
    },
    {
     "name": "stdout",
     "output_type": "stream",
     "text": [
      "\n",
      "\r",
      "0it [00:00, ?it/s]"
     ]
    },
    {
     "name": "stdout",
     "output_type": "stream",
     "text": [
      "\r",
      "Upgrading database; v5 -> v6: : 0it [00:00, ?it/s]"
     ]
    },
    {
     "name": "stdout",
     "output_type": "stream",
     "text": [
      "\r",
      "Upgrading database; v5 -> v6: : 0it [00:00, ?it/s]"
     ]
    },
    {
     "name": "stdout",
     "output_type": "stream",
     "text": [
      "\n",
      "\r",
      "  0%|          | 0/1 [00:00<?, ?it/s]"
     ]
    },
    {
     "name": "stdout",
     "output_type": "stream",
     "text": [
      "\r",
      "Upgrading database; v6 -> v7:   0%|          | 0/1 [00:00<?, ?it/s]"
     ]
    },
    {
     "name": "stdout",
     "output_type": "stream",
     "text": [
      "\r",
      "Upgrading database; v6 -> v7: 100%|██████████| 1/1 [00:00<00:00, 371.14it/s]"
     ]
    },
    {
     "name": "stdout",
     "output_type": "stream",
     "text": [
      "\n",
      "\r",
      "  0%|          | 0/1 [00:00<?, ?it/s]"
     ]
    },
    {
     "name": "stdout",
     "output_type": "stream",
     "text": [
      "\r",
      "Upgrading database; v7 -> v8:   0%|          | 0/1 [00:00<?, ?it/s]"
     ]
    },
    {
     "name": "stdout",
     "output_type": "stream",
     "text": [
      "\r",
      "Upgrading database; v7 -> v8: 100%|██████████| 1/1 [00:00<00:00, 738.56it/s]"
     ]
    },
    {
     "name": "stdout",
     "output_type": "stream",
     "text": [
      "\n",
      "\r",
      "  0%|          | 0/1 [00:00<?, ?it/s]"
     ]
    },
    {
     "name": "stdout",
     "output_type": "stream",
     "text": [
      "\r",
      "Upgrading database; v8 -> v9:   0%|          | 0/1 [00:00<?, ?it/s]"
     ]
    },
    {
     "name": "stdout",
     "output_type": "stream",
     "text": [
      "\r",
      "Upgrading database; v8 -> v9: 100%|██████████| 1/1 [00:00<00:00, 771.44it/s]"
     ]
    },
    {
     "name": "stdout",
     "output_type": "stream",
     "text": [
      "\n"
     ]
    }
   ],
   "source": [
    "initialise_database()\n",
    "exp = load_or_create_experiment(experiment_name='tutorial_exp', sample_name=\"no sample\")"
   ]
  },
  {
   "cell_type": "markdown",
   "metadata": {},
   "source": [
    "Here, we define a simple function to benchmark the time it takes to insert n points with either numeric or array data type.\n",
    "We will compare both the time used to call ``add_result`` and the time used for the full measurement."
   ]
  },
  {
   "cell_type": "code",
   "execution_count": 4,
   "metadata": {
    "execution": {
     "iopub.execute_input": "2020-11-25T12:42:07.939984Z",
     "iopub.status.busy": "2020-11-25T12:42:07.938868Z",
     "iopub.status.idle": "2020-11-25T12:42:07.940840Z",
     "shell.execute_reply": "2020-11-25T12:42:07.941434Z"
    }
   },
   "outputs": [],
   "source": [
    "def insert_data(paramtype, npoints, nreps=1):\n",
    "\n",
    "    meas = Measurement(exp=exp)\n",
    "\n",
    "    x1 = ManualParameter('x1')\n",
    "    x2 = ManualParameter('x2')\n",
    "    x3 = ManualParameter('x3')\n",
    "    y1 = ManualParameter('y1')\n",
    "    y2 = ManualParameter('y2')\n",
    "\n",
    "    meas.register_parameter(x1, paramtype=paramtype)\n",
    "    meas.register_parameter(x2, paramtype=paramtype)\n",
    "    meas.register_parameter(x3, paramtype=paramtype)\n",
    "    meas.register_parameter(y1, setpoints=[x1, x2, x3],\n",
    "                            paramtype=paramtype)\n",
    "    meas.register_parameter(y2, setpoints=[x1, x2, x3],\n",
    "                            paramtype=paramtype)\n",
    "    start = time.perf_counter()\n",
    "    with meas.run() as datasaver:\n",
    "        start_adding = time.perf_counter()\n",
    "        for i in range(nreps):\n",
    "            datasaver.add_result((x1, np.random.rand(npoints)),\n",
    "                                 (x2, np.random.rand(npoints)),\n",
    "                                 (x3, np.random.rand(npoints)),\n",
    "                                 (y1, np.random.rand(npoints)),\n",
    "                                 (y2, np.random.rand(npoints)))\n",
    "        stop_adding = time.perf_counter()\n",
    "        run_id = datasaver.run_id\n",
    "    stop = time.perf_counter()\n",
    "    tot_time = stop - start\n",
    "    add_time = stop_adding - start_adding\n",
    "    return tot_time, add_time, run_id"
   ]
  },
  {
   "cell_type": "markdown",
   "metadata": {},
   "source": [
    "## Comparison between numeric/array data and binary blob"
   ]
  },
  {
   "cell_type": "markdown",
   "metadata": {},
   "source": [
    "### Case1: Short experiment time"
   ]
  },
  {
   "cell_type": "code",
   "execution_count": 5,
   "metadata": {
    "execution": {
     "iopub.execute_input": "2020-11-25T12:42:07.950542Z",
     "iopub.status.busy": "2020-11-25T12:42:07.949611Z",
     "iopub.status.idle": "2020-11-25T12:42:08.851832Z",
     "shell.execute_reply": "2020-11-25T12:42:08.851245Z"
    }
   },
   "outputs": [
    {
     "name": "stdout",
     "output_type": "stream",
     "text": [
      "Starting experimental run with id: 1. \n",
      "Starting experimental run with id: 2. \n",
      "Starting experimental run with id: 3. \n",
      "Starting experimental run with id: 4. \n"
     ]
    },
    {
     "name": "stdout",
     "output_type": "stream",
     "text": [
      "Starting experimental run with id: 5. \n"
     ]
    },
    {
     "name": "stdout",
     "output_type": "stream",
     "text": [
      "Starting experimental run with id: 6. \n"
     ]
    },
    {
     "name": "stdout",
     "output_type": "stream",
     "text": [
      "Starting experimental run with id: 7. \n"
     ]
    },
    {
     "name": "stdout",
     "output_type": "stream",
     "text": [
      "Starting experimental run with id: 8. \n",
      "Starting experimental run with id: 9. \n"
     ]
    },
    {
     "name": "stdout",
     "output_type": "stream",
     "text": [
      "Starting experimental run with id: 10. \n",
      "Starting experimental run with id: 11. \n"
     ]
    },
    {
     "name": "stdout",
     "output_type": "stream",
     "text": [
      "Starting experimental run with id: 12. \n"
     ]
    },
    {
     "name": "stdout",
     "output_type": "stream",
     "text": [
      "Starting experimental run with id: 13. \n"
     ]
    },
    {
     "name": "stdout",
     "output_type": "stream",
     "text": [
      "Starting experimental run with id: 14. \n"
     ]
    }
   ],
   "source": [
    "sizes = [1,500,1000,2000,3000,4000,5000]\n",
    "t_numeric = []\n",
    "t_numeric_add = []\n",
    "t_array = []\n",
    "t_array_add = []\n",
    "for size in sizes:\n",
    "    tn, tna, run_id_n =  insert_data('numeric', size)\n",
    "    t_numeric.append(tn)\n",
    "    t_numeric_add.append(tna)\n",
    "\n",
    "    ta, taa, run_id_a =  insert_data('array', size)\n",
    "    t_array.append(ta)\n",
    "    t_array_add.append(taa)"
   ]
  },
  {
   "cell_type": "code",
   "execution_count": 6,
   "metadata": {
    "execution": {
     "iopub.execute_input": "2020-11-25T12:42:08.898848Z",
     "iopub.status.busy": "2020-11-25T12:42:08.885611Z",
     "iopub.status.idle": "2020-11-25T12:42:09.083777Z",
     "shell.execute_reply": "2020-11-25T12:42:09.083262Z"
    }
   },
   "outputs": [
    {
     "data": {
      "image/png": "[encoded data removed]",
      "text/plain": [
       "<Figure size 432x288 with 1 Axes>"
      ]
     },
     "metadata": {
      "needs_background": "light"
     },
     "output_type": "display_data"
    }
   ],
   "source": [
    "fig, ax = plt.subplots(1,1)\n",
    "ax.plot(sizes, t_numeric, 'o-', label='Inserting row-by-row')\n",
    "ax.plot(sizes, t_numeric_add, 'o-', label='Inserting row-by-row: add_result only')\n",
    "ax.plot(sizes, t_array, 'd-', label='Inserting as binary blob')\n",
    "ax.plot(sizes, t_array_add, 'd-', label='Inserting as binary blob: add_result only')\n",
    "ax.legend()\n",
    "ax.set_xlabel('Array length')\n",
    "ax.set_ylabel('Time (s)')\n",
    "fig.tight_layout()"
   ]
  },
  {
   "cell_type": "markdown",
   "metadata": {},
   "source": [
    "As shown in the latter figure, the time to setup and and close the experiment is approximately 0.4 sec. In case of small array sizes, the difference between inserting values of data as arrays and inserting them row-by-row is relatively unimportant. At larger array sizes, i.e. above 10000 points, the cost of writing data as individual datapoints starts to become important.\n"
   ]
  },
  {
   "cell_type": "markdown",
   "metadata": {},
   "source": [
    "### Case2: Long experiment time "
   ]
  },
  {
   "cell_type": "code",
   "execution_count": 7,
   "metadata": {
    "execution": {
     "iopub.execute_input": "2020-11-25T12:42:09.091930Z",
     "iopub.status.busy": "2020-11-25T12:42:09.090992Z",
     "iopub.status.idle": "2020-11-25T12:43:09.788788Z",
     "shell.execute_reply": "2020-11-25T12:43:09.788266Z"
    }
   },
   "outputs": [
    {
     "name": "stdout",
     "output_type": "stream",
     "text": [
      "Starting experimental run with id: 15. \n",
      "Starting experimental run with id: 16. \n",
      "Starting experimental run with id: 17. \n"
     ]
    },
    {
     "name": "stdout",
     "output_type": "stream",
     "text": [
      "Starting experimental run with id: 18. \n",
      "Starting experimental run with id: 19. \n"
     ]
    },
    {
     "name": "stdout",
     "output_type": "stream",
     "text": [
      "Starting experimental run with id: 20. \n"
     ]
    },
    {
     "name": "stdout",
     "output_type": "stream",
     "text": [
      "Starting experimental run with id: 21. \n"
     ]
    },
    {
     "name": "stdout",
     "output_type": "stream",
     "text": [
      "Starting experimental run with id: 22. \n"
     ]
    },
    {
     "name": "stdout",
     "output_type": "stream",
     "text": [
      "Starting experimental run with id: 23. \n"
     ]
    },
    {
     "name": "stdout",
     "output_type": "stream",
     "text": [
      "Starting experimental run with id: 24. \n"
     ]
    },
    {
     "name": "stdout",
     "output_type": "stream",
     "text": [
      "Starting experimental run with id: 25. \n"
     ]
    },
    {
     "name": "stdout",
     "output_type": "stream",
     "text": [
      "Starting experimental run with id: 26. \n"
     ]
    },
    {
     "name": "stdout",
     "output_type": "stream",
     "text": [
      "Starting experimental run with id: 27. \n"
     ]
    },
    {
     "name": "stdout",
     "output_type": "stream",
     "text": [
      "Starting experimental run with id: 28. \n"
     ]
    }
   ],
   "source": [
    "sizes = [1,500,1000,2000,3000,4000,5000]\n",
    "nreps = 100\n",
    "t_numeric = []\n",
    "t_numeric_add = []\n",
    "t_numeric_run_ids = []\n",
    "t_array = []\n",
    "t_array_add = []\n",
    "t_array_run_ids = []\n",
    "for size in sizes:\n",
    "    tn, tna, run_id_n =  insert_data('numeric', size, nreps=nreps)\n",
    "    t_numeric.append(tn)\n",
    "    t_numeric_add.append(tna)\n",
    "    t_numeric_run_ids.append(run_id_n)\n",
    "\n",
    "    ta, taa, run_id_a =  insert_data('array', size, nreps=nreps)\n",
    "    t_array.append(ta)\n",
    "    t_array_add.append(taa)\n",
    "    t_array_run_ids.append(run_id_a)"
   ]
  },
  {
   "cell_type": "code",
   "execution_count": 8,
   "metadata": {
    "execution": {
     "iopub.execute_input": "2020-11-25T12:43:09.831297Z",
     "iopub.status.busy": "2020-11-25T12:43:09.830246Z",
     "iopub.status.idle": "2020-11-25T12:43:10.010411Z",
     "shell.execute_reply": "2020-11-25T12:43:10.009892Z"
    },
    "scrolled": true
   },
   "outputs": [
    {
     "data": {
      "image/png": "[encoded data removed]",
      "text/plain": [
       "<Figure size 432x288 with 1 Axes>"
      ]
     },
     "metadata": {
      "needs_background": "light"
     },
     "output_type": "display_data"
    }
   ],
   "source": [
    "fig, ax = plt.subplots(1,1)\n",
    "ax.plot(sizes, t_numeric, 'o-', label='Inserting row-by-row')\n",
    "ax.plot(sizes, t_numeric_add, 'o-', label='Inserting row-by-row: add_result only')\n",
    "ax.plot(sizes, t_array, 'd-', label='Inserting as binary blob')\n",
    "ax.plot(sizes, t_array_add, 'd-', label='Inserting as binary blob: add_result only')\n",
    "ax.legend()\n",
    "ax.set_xlabel('Array length')\n",
    "ax.set_ylabel('Time (s)')\n",
    "fig.tight_layout()"
   ]
  },
  {
   "cell_type": "markdown",
   "metadata": {},
   "source": [
    "However, as we increase the length of the experiment, as seen here by repeating the insertion 100 times, we see a big difference between inserting values of the data row-by-row and inserting it as a binary blob."
   ]
  },
  {
   "cell_type": "markdown",
   "metadata": {},
   "source": [
    "## Loading the data "
   ]
  },
  {
   "cell_type": "code",
   "execution_count": 9,
   "metadata": {
    "execution": {
     "iopub.execute_input": "2020-11-25T12:43:10.014823Z",
     "iopub.status.busy": "2020-11-25T12:43:10.013918Z",
     "iopub.status.idle": "2020-11-25T12:43:10.017729Z",
     "shell.execute_reply": "2020-11-25T12:43:10.018189Z"
    }
   },
   "outputs": [],
   "source": [
    "from qcodes.dataset.data_set import load_by_id\n",
    "from qcodes.dataset.data_export import get_data_by_id"
   ]
  },
  {
   "cell_type": "markdown",
   "metadata": {},
   "source": [
    "As usual you can load the data by using the ``load_by_id`` function but you will notice that the different storage methods\n",
    "are reflected in shape of the data as it is retrieved. "
   ]
  },
  {
   "cell_type": "code",
   "execution_count": 10,
   "metadata": {
    "execution": {
     "iopub.execute_input": "2020-11-25T12:43:10.024156Z",
     "iopub.status.busy": "2020-11-25T12:43:10.022167Z",
     "iopub.status.idle": "2020-11-25T12:43:10.024836Z",
     "shell.execute_reply": "2020-11-25T12:43:10.030004Z"
    }
   },
   "outputs": [],
   "source": [
    "run_id_n = t_numeric_run_ids[0]\n",
    "run_id_a = t_array_run_ids[0]"
   ]
  },
  {
   "cell_type": "code",
   "execution_count": 11,
   "metadata": {
    "execution": {
     "iopub.execute_input": "2020-11-25T12:43:10.034569Z",
     "iopub.status.busy": "2020-11-25T12:43:10.033932Z",
     "iopub.status.idle": "2020-11-25T12:43:10.047292Z",
     "shell.execute_reply": "2020-11-25T12:43:10.046784Z"
    },
    "scrolled": true
   },
   "outputs": [
    {
     "data": {
      "text/plain": [
       "{'x1': {'x1': array([0.26558879, 0.26558879, 0.48899506, 0.48899506, 0.12363119,\n",
       "         0.12363119, 0.16273319, 0.16273319, 0.3711141 , 0.3711141 ,\n",
       "         0.11840237, 0.11840237, 0.37634063, 0.37634063, 0.73351387,\n",
       "         0.73351387, 0.3636659 , 0.3636659 , 0.96413007, 0.96413007,\n",
       "         0.01589642, 0.01589642, 0.98928015, 0.98928015, 0.61621189,\n",
       "         0.61621189, 0.59563536, 0.59563536, 0.1600588 , 0.1600588 ,\n",
       "         0.64322744, 0.64322744, 0.88455933, 0.88455933, 0.18714553,\n",
       "         0.18714553, 0.06533805, 0.06533805, 0.10092525, 0.10092525,\n",
       "         0.32725154, 0.32725154, 0.4421411 , 0.4421411 , 0.76047211,\n",
       "         0.76047211, 0.57038445, 0.57038445, 0.10462612, 0.10462612,\n",
       "         0.48207299, 0.48207299, 0.83065874, 0.83065874, 0.28862028,\n",
       "         0.28862028, 0.54944799, 0.54944799, 0.38470415, 0.38470415,\n",
       "         0.16157962, 0.16157962, 0.64617595, 0.64617595, 0.40189724,\n",
       "         0.40189724, 0.52050859, 0.52050859, 0.41626693, 0.41626693,\n",
       "         0.79586686, 0.79586686, 0.81970115, 0.81970115, 0.26960993,\n",
       "         0.26960993, 0.75009832, 0.75009832, 0.46765222, 0.46765222,\n",
       "         0.06749062, 0.06749062, 0.2811117 , 0.2811117 , 0.56639794,\n",
       "         0.56639794, 0.9945132 , 0.9945132 , 0.68649556, 0.68649556,\n",
       "         0.41412683, 0.41412683, 0.26902816, 0.26902816, 0.5841513 ,\n",
       "         0.5841513 , 0.47822661, 0.47822661, 0.20111626, 0.20111626,\n",
       "         0.52158051, 0.52158051, 0.10494179, 0.10494179, 0.21981001,\n",
       "         0.21981001, 0.06080718, 0.06080718, 0.53378039, 0.53378039,\n",
       "         0.57978907, 0.57978907, 0.45635161, 0.45635161, 0.79250999,\n",
       "         0.79250999, 0.68763694, 0.68763694, 0.10882612, 0.10882612,\n",
       "         0.10689325, 0.10689325, 0.03360571, 0.03360571, 0.79722666,\n",
       "         0.79722666, 0.82052582, 0.82052582, 0.50484794, 0.50484794,\n",
       "         0.02428687, 0.02428687, 0.83243894, 0.83243894, 0.8495858 ,\n",
       "         0.8495858 , 0.30011246, 0.30011246, 0.9035492 , 0.9035492 ,\n",
       "         0.08086841, 0.08086841, 0.93364523, 0.93364523, 0.02532159,\n",
       "         0.02532159, 0.93156384, 0.93156384, 0.9419196 , 0.9419196 ,\n",
       "         0.25428589, 0.25428589, 0.02762234, 0.02762234, 0.83482848,\n",
       "         0.83482848, 0.70442156, 0.70442156, 0.00287889, 0.00287889,\n",
       "         0.8225969 , 0.8225969 , 0.35832497, 0.35832497, 0.63196747,\n",
       "         0.63196747, 0.17969059, 0.17969059, 0.86557191, 0.86557191,\n",
       "         0.04197866, 0.04197866, 0.70500724, 0.70500724, 0.92594943,\n",
       "         0.92594943, 0.06147584, 0.06147584, 0.04524662, 0.04524662,\n",
       "         0.18782936, 0.18782936, 0.61510481, 0.61510481, 0.60376928,\n",
       "         0.60376928, 0.59426674, 0.59426674, 0.35763395, 0.35763395,\n",
       "         0.92750274, 0.92750274, 0.05506004, 0.05506004, 0.60030464,\n",
       "         0.60030464, 0.01456949, 0.01456949, 0.35314665, 0.35314665])}}"
      ]
     },
     "execution_count": 1,
     "metadata": {},
     "output_type": "execute_result"
    }
   ],
   "source": [
    "ds = load_by_id(run_id_n)\n",
    "ds.get_parameter_data('x1')"
   ]
  },
  {
   "cell_type": "markdown",
   "metadata": {},
   "source": [
    "And a dataset stored as binary arrays"
   ]
  },
  {
   "cell_type": "code",
   "execution_count": 12,
   "metadata": {
    "execution": {
     "iopub.execute_input": "2020-11-25T12:43:10.053742Z",
     "iopub.status.busy": "2020-11-25T12:43:10.053144Z",
     "iopub.status.idle": "2020-11-25T12:43:10.109920Z",
     "shell.execute_reply": "2020-11-25T12:43:10.110382Z"
    },
    "scrolled": true
   },
   "outputs": [
    {
     "data": {
      "text/plain": [
       "{'x1': {'x1': array([[0.96304527],\n",
       "         [0.96304527],\n",
       "         [0.30866011],\n",
       "         [0.30866011],\n",
       "         [0.65214566],\n",
       "         [0.65214566],\n",
       "         [0.28446132],\n",
       "         [0.28446132],\n",
       "         [0.20135958],\n",
       "         [0.20135958],\n",
       "         [0.87290336],\n",
       "         [0.87290336],\n",
       "         [0.58503967],\n",
       "         [0.58503967],\n",
       "         [0.0794547 ],\n",
       "         [0.0794547 ],\n",
       "         [0.53288626],\n",
       "         [0.53288626],\n",
       "         [0.38900641],\n",
       "         [0.38900641],\n",
       "         [0.25467129],\n",
       "         [0.25467129],\n",
       "         [0.84645754],\n",
       "         [0.84645754],\n",
       "         [0.07596357],\n",
       "         [0.07596357],\n",
       "         [0.02099907],\n",
       "         [0.02099907],\n",
       "         [0.69432487],\n",
       "         [0.69432487],\n",
       "         [0.63754103],\n",
       "         [0.63754103],\n",
       "         [0.76928424],\n",
       "         [0.76928424],\n",
       "         [0.193775  ],\n",
       "         [0.193775  ],\n",
       "         [0.53425725],\n",
       "         [0.53425725],\n",
       "         [0.39421356],\n",
       "         [0.39421356],\n",
       "         [0.13121349],\n",
       "         [0.13121349],\n",
       "         [0.20009202],\n",
       "         [0.20009202],\n",
       "         [0.8292509 ],\n",
       "         [0.8292509 ],\n",
       "         [0.12035754],\n",
       "         [0.12035754],\n",
       "         [0.78618   ],\n",
       "         [0.78618   ],\n",
       "         [0.73157945],\n",
       "         [0.73157945],\n",
       "         [0.43653114],\n",
       "         [0.43653114],\n",
       "         [0.85118276],\n",
       "         [0.85118276],\n",
       "         [0.49442542],\n",
       "         [0.49442542],\n",
       "         [0.86510674],\n",
       "         [0.86510674],\n",
       "         [0.50420858],\n",
       "         [0.50420858],\n",
       "         [0.69174982],\n",
       "         [0.69174982],\n",
       "         [0.79930964],\n",
       "         [0.79930964],\n",
       "         [0.6532293 ],\n",
       "         [0.6532293 ],\n",
       "         [0.74660538],\n",
       "         [0.74660538],\n",
       "         [0.28910374],\n",
       "         [0.28910374],\n",
       "         [0.74012461],\n",
       "         [0.74012461],\n",
       "         [0.65983515],\n",
       "         [0.65983515],\n",
       "         [0.85113852],\n",
       "         [0.85113852],\n",
       "         [0.01345535],\n",
       "         [0.01345535],\n",
       "         [0.46463326],\n",
       "         [0.46463326],\n",
       "         [0.1596507 ],\n",
       "         [0.1596507 ],\n",
       "         [0.28159475],\n",
       "         [0.28159475],\n",
       "         [0.00622536],\n",
       "         [0.00622536],\n",
       "         [0.88204887],\n",
       "         [0.88204887],\n",
       "         [0.19606201],\n",
       "         [0.19606201],\n",
       "         [0.2447107 ],\n",
       "         [0.2447107 ],\n",
       "         [0.29880339],\n",
       "         [0.29880339],\n",
       "         [0.70213649],\n",
       "         [0.70213649],\n",
       "         [0.25805324],\n",
       "         [0.25805324],\n",
       "         [0.79165035],\n",
       "         [0.79165035],\n",
       "         [0.68471737],\n",
       "         [0.68471737],\n",
       "         [0.21861754],\n",
       "         [0.21861754],\n",
       "         [0.51487679],\n",
       "         [0.51487679],\n",
       "         [0.42234405],\n",
       "         [0.42234405],\n",
       "         [0.83068114],\n",
       "         [0.83068114],\n",
       "         [0.82235491],\n",
       "         [0.82235491],\n",
       "         [0.53531771],\n",
       "         [0.53531771],\n",
       "         [0.11689998],\n",
       "         [0.11689998],\n",
       "         [0.46036993],\n",
       "         [0.46036993],\n",
       "         [0.35044298],\n",
       "         [0.35044298],\n",
       "         [0.03297916],\n",
       "         [0.03297916],\n",
       "         [0.65380628],\n",
       "         [0.65380628],\n",
       "         [0.85061639],\n",
       "         [0.85061639],\n",
       "         [0.98598875],\n",
       "         [0.98598875],\n",
       "         [0.49081629],\n",
       "         [0.49081629],\n",
       "         [0.06987207],\n",
       "         [0.06987207],\n",
       "         [0.14339712],\n",
       "         [0.14339712],\n",
       "         [0.60576976],\n",
       "         [0.60576976],\n",
       "         [0.18848888],\n",
       "         [0.18848888],\n",
       "         [0.35800728],\n",
       "         [0.35800728],\n",
       "         [0.85488495],\n",
       "         [0.85488495],\n",
       "         [0.40880551],\n",
       "         [0.40880551],\n",
       "         [0.02844491],\n",
       "         [0.02844491],\n",
       "         [0.07953582],\n",
       "         [0.07953582],\n",
       "         [0.59190455],\n",
       "         [0.59190455],\n",
       "         [0.07611984],\n",
       "         [0.07611984],\n",
       "         [0.01700557],\n",
       "         [0.01700557],\n",
       "         [0.72215825],\n",
       "         [0.72215825],\n",
       "         [0.97454042],\n",
       "         [0.97454042],\n",
       "         [0.87286389],\n",
       "         [0.87286389],\n",
       "         [0.16571716],\n",
       "         [0.16571716],\n",
       "         [0.48615249],\n",
       "         [0.48615249],\n",
       "         [0.15525809],\n",
       "         [0.15525809],\n",
       "         [0.16947988],\n",
       "         [0.16947988],\n",
       "         [0.43003047],\n",
       "         [0.43003047],\n",
       "         [0.29574025],\n",
       "         [0.29574025],\n",
       "         [0.27036387],\n",
       "         [0.27036387],\n",
       "         [0.82402157],\n",
       "         [0.82402157],\n",
       "         [0.71305567],\n",
       "         [0.71305567],\n",
       "         [0.13015904],\n",
       "         [0.13015904],\n",
       "         [0.95998394],\n",
       "         [0.95998394],\n",
       "         [0.50907405],\n",
       "         [0.50907405],\n",
       "         [0.90931581],\n",
       "         [0.90931581],\n",
       "         [0.05363248],\n",
       "         [0.05363248],\n",
       "         [0.21085194],\n",
       "         [0.21085194],\n",
       "         [0.53629035],\n",
       "         [0.53629035],\n",
       "         [0.28730984],\n",
       "         [0.28730984],\n",
       "         [0.48905815],\n",
       "         [0.48905815],\n",
       "         [0.58113184],\n",
       "         [0.58113184]])}}"
      ]
     },
     "execution_count": 1,
     "metadata": {},
     "output_type": "execute_result"
    }
   ],
   "source": [
    "ds = load_by_id(run_id_a)\n",
    "ds.get_parameter_data('x1')"
   ]
  },
  {
   "cell_type": "code",
   "execution_count": null,
   "metadata": {},
   "outputs": [],
   "source": []
  }
 ],
 "metadata": {
  "kernelspec": {
   "display_name": "Python 3",
   "language": "python",
   "name": "python3"
  },
  "language_info": {
   "codemirror_mode": {
    "name": "ipython",
    "version": 3
   },
   "file_extension": ".py",
   "mimetype": "text/x-python",
   "name": "python",
   "nbconvert_exporter": "python",
   "pygments_lexer": "ipython3",
   "version": "3.7.9"
  },
  "nbsphinx": {
   "timeout": 600
  },
  "toc": {
   "base_numbering": 1,
   "nav_menu": {},
   "number_sections": true,
   "sideBar": true,
   "skip_h1_title": false,
   "title_cell": "Table of Contents",
   "title_sidebar": "Contents",
   "toc_cell": false,
   "toc_position": {},
   "toc_section_display": true,
   "toc_window_display": false
  },
  "varInspector": {
   "cols": {
    "lenName": 16,
    "lenType": 16,
    "lenVar": 40
   },
   "kernels_config": {
    "python": {
     "delete_cmd_postfix": "",
     "delete_cmd_prefix": "del ",
     "library": "var_list.py",
     "varRefreshCmd": "print(var_dic_list())"
    },
    "r": {
     "delete_cmd_postfix": ") ",
     "delete_cmd_prefix": "rm(",
     "library": "var_list.r",
     "varRefreshCmd": "cat(var_dic_list()) "
    }
   },
   "types_to_exclude": [
    "module",
    "function",
    "builtin_function_or_method",
    "instance",
    "_Feature"
   ],
   "window_display": false
  }
 },
 "nbformat": 4,
 "nbformat_minor": 2
}
