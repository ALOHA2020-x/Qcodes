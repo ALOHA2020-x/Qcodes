{
 "cells": [
  {
   "cell_type": "markdown",
   "metadata": {},
   "source": [
    "# DataSet Performance\n",
    "\n",
    "This notebook shows the trade-off between inserting data into a database row-by-row and as binary blobs. Inserting the data row-by-row means that we have direct access to all the data and may perform queries directly on the values of the data. On the other hand, as we shall see, this is much slower than inserting the data directly as binary blobs."
   ]
  },
  {
   "cell_type": "markdown",
   "metadata": {},
   "source": [
    "First, we choose a new location for the database to ensure that we don't add a bunch of benchmarking data to the default one."
   ]
  },
  {
   "cell_type": "code",
   "execution_count": 1,
   "metadata": {
    "execution": {
     "iopub.execute_input": "2021-02-24T06:04:44.100850Z",
     "iopub.status.busy": "2021-02-24T06:04:44.099940Z",
     "iopub.status.idle": "2021-02-24T06:04:44.977040Z",
     "shell.execute_reply": "2021-02-24T06:04:44.976405Z"
    }
   },
   "outputs": [
    {
     "name": "stdout",
     "output_type": "stream",
     "text": [
      "Logging hadn't been started.\n",
      "Activating auto-logging. Current session state plus future input saved.\n",
      "Filename       : /home/runner/.qcodes/logs/command_history.log\n",
      "Mode           : append\n",
      "Output logging : True\n",
      "Raw input log  : False\n",
      "Timestamping   : True\n",
      "State          : active\n"
     ]
    },
    {
     "name": "stdout",
     "output_type": "stream",
     "text": [
      "Qcodes Logfile : /home/runner/.qcodes/logs/210224-3798-qcodes.log\n"
     ]
    }
   ],
   "source": [
    "import os\n",
    "cwd = os.getcwd()\n",
    "import qcodes as qc\n",
    "qc.config[\"core\"][\"db_location\"] = os.path.join(cwd, 'testing.db')\n"
   ]
  },
  {
   "cell_type": "code",
   "execution_count": 2,
   "metadata": {
    "execution": {
     "iopub.execute_input": "2021-02-24T06:04:44.983239Z",
     "iopub.status.busy": "2021-02-24T06:04:44.982584Z",
     "iopub.status.idle": "2021-02-24T06:04:45.169130Z",
     "shell.execute_reply": "2021-02-24T06:04:45.169664Z"
    }
   },
   "outputs": [],
   "source": [
    "%matplotlib inline\n",
    "import time\n",
    "import matplotlib.pyplot as plt\n",
    "import numpy as np\n",
    "\n",
    "import qcodes as qc\n",
    "from qcodes.instrument.parameter import ManualParameter\n",
    "from qcodes.dataset.experiment_container import (Experiment,\n",
    "                                                 load_last_experiment,\n",
    "                                                 new_experiment)\n",
    "from qcodes.dataset.sqlite.database import initialise_database\n",
    "from qcodes import load_or_create_experiment\n",
    "from qcodes.dataset.measurements import Measurement"
   ]
  },
  {
   "cell_type": "code",
   "execution_count": 3,
   "metadata": {
    "execution": {
     "iopub.execute_input": "2021-02-24T06:04:45.173935Z",
     "iopub.status.busy": "2021-02-24T06:04:45.173198Z",
     "iopub.status.idle": "2021-02-24T06:04:45.291192Z",
     "shell.execute_reply": "2021-02-24T06:04:45.291747Z"
    }
   },
   "outputs": [
    {
     "name": "stdout",
     "output_type": "stream",
     "text": [
      "\r",
      "0it [00:00, ?it/s]"
     ]
    },
    {
     "name": "stdout",
     "output_type": "stream",
     "text": [
      "\r",
      "Upgrading database; v0 -> v1: : 0it [00:00, ?it/s]"
     ]
    },
    {
     "name": "stdout",
     "output_type": "stream",
     "text": [
      "\r",
      "Upgrading database; v0 -> v1: : 0it [00:00, ?it/s]"
     ]
    },
    {
     "name": "stdout",
     "output_type": "stream",
     "text": [
      "\n",
      "\r",
      "  0%|          | 0/1 [00:00<?, ?it/s]"
     ]
    },
    {
     "name": "stdout",
     "output_type": "stream",
     "text": [
      "\r",
      "Upgrading database; v1 -> v2:   0%|          | 0/1 [00:00<?, ?it/s]"
     ]
    },
    {
     "name": "stdout",
     "output_type": "stream",
     "text": [
      "\r",
      "Upgrading database; v1 -> v2: 100%|██████████| 1/1 [00:00<00:00, 431.65it/s]"
     ]
    },
    {
     "name": "stdout",
     "output_type": "stream",
     "text": [
      "\n",
      "\r",
      "0it [00:00, ?it/s]"
     ]
    },
    {
     "name": "stdout",
     "output_type": "stream",
     "text": [
      "\r",
      "Upgrading database; v2 -> v3: : 0it [00:00, ?it/s]"
     ]
    },
    {
     "name": "stdout",
     "output_type": "stream",
     "text": [
      "\r",
      "Upgrading database; v2 -> v3: : 0it [00:00, ?it/s]"
     ]
    },
    {
     "name": "stdout",
     "output_type": "stream",
     "text": [
      "\n",
      "\r",
      "0it [00:00, ?it/s]"
     ]
    },
    {
     "name": "stdout",
     "output_type": "stream",
     "text": [
      "\r",
      "Upgrading database; v3 -> v4: : 0it [00:00, ?it/s]"
     ]
    },
    {
     "name": "stdout",
     "output_type": "stream",
     "text": [
      "\r",
      "Upgrading database; v3 -> v4: : 0it [00:00, ?it/s]"
     ]
    },
    {
     "name": "stdout",
     "output_type": "stream",
     "text": [
      "\n",
      "\r",
      "  0%|          | 0/1 [00:00<?, ?it/s]"
     ]
    },
    {
     "name": "stdout",
     "output_type": "stream",
     "text": [
      "\r",
      "Upgrading database; v4 -> v5:   0%|          | 0/1 [00:00<?, ?it/s]"
     ]
    },
    {
     "name": "stdout",
     "output_type": "stream",
     "text": [
      "\r",
      "Upgrading database; v4 -> v5: 100%|██████████| 1/1 [00:00<00:00, 932.90it/s]"
     ]
    },
    {
     "name": "stdout",
     "output_type": "stream",
     "text": [
      "\n",
      "\r",
      "0it [00:00, ?it/s]"
     ]
    },
    {
     "name": "stdout",
     "output_type": "stream",
     "text": [
      "\r",
      "Upgrading database; v5 -> v6: : 0it [00:00, ?it/s]"
     ]
    },
    {
     "name": "stdout",
     "output_type": "stream",
     "text": [
      "\r",
      "Upgrading database; v5 -> v6: : 0it [00:00, ?it/s]"
     ]
    },
    {
     "name": "stdout",
     "output_type": "stream",
     "text": [
      "\n",
      "\r",
      "  0%|          | 0/1 [00:00<?, ?it/s]"
     ]
    },
    {
     "name": "stdout",
     "output_type": "stream",
     "text": [
      "\r",
      "Upgrading database; v6 -> v7:   0%|          | 0/1 [00:00<?, ?it/s]"
     ]
    },
    {
     "name": "stdout",
     "output_type": "stream",
     "text": [
      "\r",
      "Upgrading database; v6 -> v7: 100%|██████████| 1/1 [00:00<00:00, 249.50it/s]"
     ]
    },
    {
     "name": "stdout",
     "output_type": "stream",
     "text": [
      "\n",
      "\r",
      "  0%|          | 0/1 [00:00<?, ?it/s]"
     ]
    },
    {
     "name": "stdout",
     "output_type": "stream",
     "text": [
      "\r",
      "Upgrading database; v7 -> v8:   0%|          | 0/1 [00:00<?, ?it/s]"
     ]
    },
    {
     "name": "stdout",
     "output_type": "stream",
     "text": [
      "\r",
      "Upgrading database; v7 -> v8: 100%|██████████| 1/1 [00:00<00:00, 373.99it/s]"
     ]
    },
    {
     "name": "stdout",
     "output_type": "stream",
     "text": [
      "\n",
      "\r",
      "  0%|          | 0/1 [00:00<?, ?it/s]"
     ]
    },
    {
     "name": "stdout",
     "output_type": "stream",
     "text": [
      "\r",
      "Upgrading database; v8 -> v9:   0%|          | 0/1 [00:00<?, ?it/s]"
     ]
    },
    {
     "name": "stdout",
     "output_type": "stream",
     "text": [
      "\r",
      "Upgrading database; v8 -> v9: 100%|██████████| 1/1 [00:00<00:00, 362.55it/s]"
     ]
    },
    {
     "name": "stdout",
     "output_type": "stream",
     "text": [
      "\n"
     ]
    }
   ],
   "source": [
    "initialise_database()\n",
    "exp = load_or_create_experiment(experiment_name='tutorial_exp', sample_name=\"no sample\")"
   ]
  },
  {
   "cell_type": "markdown",
   "metadata": {},
   "source": [
    "Here, we define a simple function to benchmark the time it takes to insert n points with either numeric or array data type.\n",
    "We will compare both the time used to call ``add_result`` and the time used for the full measurement."
   ]
  },
  {
   "cell_type": "code",
   "execution_count": 4,
   "metadata": {
    "execution": {
     "iopub.execute_input": "2021-02-24T06:04:45.302046Z",
     "iopub.status.busy": "2021-02-24T06:04:45.300613Z",
     "iopub.status.idle": "2021-02-24T06:04:45.302787Z",
     "shell.execute_reply": "2021-02-24T06:04:45.303317Z"
    }
   },
   "outputs": [],
   "source": [
    "def insert_data(paramtype, npoints, nreps=1):\n",
    "\n",
    "    meas = Measurement(exp=exp)\n",
    "\n",
    "    x1 = ManualParameter('x1')\n",
    "    x2 = ManualParameter('x2')\n",
    "    x3 = ManualParameter('x3')\n",
    "    y1 = ManualParameter('y1')\n",
    "    y2 = ManualParameter('y2')\n",
    "\n",
    "    meas.register_parameter(x1, paramtype=paramtype)\n",
    "    meas.register_parameter(x2, paramtype=paramtype)\n",
    "    meas.register_parameter(x3, paramtype=paramtype)\n",
    "    meas.register_parameter(y1, setpoints=[x1, x2, x3],\n",
    "                            paramtype=paramtype)\n",
    "    meas.register_parameter(y2, setpoints=[x1, x2, x3],\n",
    "                            paramtype=paramtype)\n",
    "    start = time.perf_counter()\n",
    "    with meas.run() as datasaver:\n",
    "        start_adding = time.perf_counter()\n",
    "        for i in range(nreps):\n",
    "            datasaver.add_result((x1, np.random.rand(npoints)),\n",
    "                                 (x2, np.random.rand(npoints)),\n",
    "                                 (x3, np.random.rand(npoints)),\n",
    "                                 (y1, np.random.rand(npoints)),\n",
    "                                 (y2, np.random.rand(npoints)))\n",
    "        stop_adding = time.perf_counter()\n",
    "        run_id = datasaver.run_id\n",
    "    stop = time.perf_counter()\n",
    "    tot_time = stop - start\n",
    "    add_time = stop_adding - start_adding\n",
    "    return tot_time, add_time, run_id"
   ]
  },
  {
   "cell_type": "markdown",
   "metadata": {},
   "source": [
    "## Comparison between numeric/array data and binary blob"
   ]
  },
  {
   "cell_type": "markdown",
   "metadata": {},
   "source": [
    "### Case1: Short experiment time"
   ]
  },
  {
   "cell_type": "code",
   "execution_count": 5,
   "metadata": {
    "execution": {
     "iopub.execute_input": "2021-02-24T06:04:45.309453Z",
     "iopub.status.busy": "2021-02-24T06:04:45.308798Z",
     "iopub.status.idle": "2021-02-24T06:04:46.159156Z",
     "shell.execute_reply": "2021-02-24T06:04:46.158192Z"
    }
   },
   "outputs": [
    {
     "name": "stdout",
     "output_type": "stream",
     "text": [
      "Starting experimental run with id: 1. \n",
      "Starting experimental run with id: 2. \n",
      "Starting experimental run with id: 3. \n",
      "Starting experimental run with id: 4. \n"
     ]
    },
    {
     "name": "stdout",
     "output_type": "stream",
     "text": [
      "Starting experimental run with id: 5. \n"
     ]
    },
    {
     "name": "stdout",
     "output_type": "stream",
     "text": [
      "Starting experimental run with id: 6. \n",
      "Starting experimental run with id: 7. \n"
     ]
    },
    {
     "name": "stdout",
     "output_type": "stream",
     "text": [
      "Starting experimental run with id: 8. \n",
      "Starting experimental run with id: 9. \n"
     ]
    },
    {
     "name": "stdout",
     "output_type": "stream",
     "text": [
      "Starting experimental run with id: 10. \n",
      "Starting experimental run with id: 11. \n"
     ]
    },
    {
     "name": "stdout",
     "output_type": "stream",
     "text": [
      "Starting experimental run with id: 12. \n",
      "Starting experimental run with id: 13. \n"
     ]
    },
    {
     "name": "stdout",
     "output_type": "stream",
     "text": [
      "Starting experimental run with id: 14. \n"
     ]
    }
   ],
   "source": [
    "sizes = [1,500,1000,2000,3000,4000,5000]\n",
    "t_numeric = []\n",
    "t_numeric_add = []\n",
    "t_array = []\n",
    "t_array_add = []\n",
    "for size in sizes:\n",
    "    tn, tna, run_id_n =  insert_data('numeric', size)\n",
    "    t_numeric.append(tn)\n",
    "    t_numeric_add.append(tna)\n",
    "\n",
    "    ta, taa, run_id_a =  insert_data('array', size)\n",
    "    t_array.append(ta)\n",
    "    t_array_add.append(taa)"
   ]
  },
  {
   "cell_type": "code",
   "execution_count": 6,
   "metadata": {
    "execution": {
     "iopub.execute_input": "2021-02-24T06:04:46.178211Z",
     "iopub.status.busy": "2021-02-24T06:04:46.177525Z",
     "iopub.status.idle": "2021-02-24T06:04:46.384634Z",
     "shell.execute_reply": "2021-02-24T06:04:46.385180Z"
    }
   },
   "outputs": [
    {
     "data": {
      "image/png": "[encoded data removed]",
      "text/plain": [
       "<Figure size 432x288 with 1 Axes>"
      ]
     },
     "metadata": {
      "needs_background": "light"
     },
     "output_type": "display_data"
    }
   ],
   "source": [
    "fig, ax = plt.subplots(1,1)\n",
    "ax.plot(sizes, t_numeric, 'o-', label='Inserting row-by-row')\n",
    "ax.plot(sizes, t_numeric_add, 'o-', label='Inserting row-by-row: add_result only')\n",
    "ax.plot(sizes, t_array, 'd-', label='Inserting as binary blob')\n",
    "ax.plot(sizes, t_array_add, 'd-', label='Inserting as binary blob: add_result only')\n",
    "ax.legend()\n",
    "ax.set_xlabel('Array length')\n",
    "ax.set_ylabel('Time (s)')\n",
    "fig.tight_layout()"
   ]
  },
  {
   "cell_type": "markdown",
   "metadata": {},
   "source": [
    "As shown in the latter figure, the time to setup and and close the experiment is approximately 0.4 sec. In case of small array sizes, the difference between inserting values of data as arrays and inserting them row-by-row is relatively unimportant. At larger array sizes, i.e. above 10000 points, the cost of writing data as individual datapoints starts to become important.\n"
   ]
  },
  {
   "cell_type": "markdown",
   "metadata": {},
   "source": [
    "### Case2: Long experiment time "
   ]
  },
  {
   "cell_type": "code",
   "execution_count": 7,
   "metadata": {
    "execution": {
     "iopub.execute_input": "2021-02-24T06:04:46.391892Z",
     "iopub.status.busy": "2021-02-24T06:04:46.389736Z",
     "iopub.status.idle": "2021-02-24T06:05:43.838125Z",
     "shell.execute_reply": "2021-02-24T06:05:43.837151Z"
    }
   },
   "outputs": [
    {
     "name": "stdout",
     "output_type": "stream",
     "text": [
      "Starting experimental run with id: 15. \n",
      "Starting experimental run with id: 16. \n"
     ]
    },
    {
     "name": "stdout",
     "output_type": "stream",
     "text": [
      "Starting experimental run with id: 17. \n"
     ]
    },
    {
     "name": "stdout",
     "output_type": "stream",
     "text": [
      "Starting experimental run with id: 18. \n"
     ]
    },
    {
     "name": "stdout",
     "output_type": "stream",
     "text": [
      "Starting experimental run with id: 19. \n"
     ]
    },
    {
     "name": "stdout",
     "output_type": "stream",
     "text": [
      "Starting experimental run with id: 20. \n"
     ]
    },
    {
     "name": "stdout",
     "output_type": "stream",
     "text": [
      "Starting experimental run with id: 21. \n"
     ]
    },
    {
     "name": "stdout",
     "output_type": "stream",
     "text": [
      "Starting experimental run with id: 22. \n"
     ]
    },
    {
     "name": "stdout",
     "output_type": "stream",
     "text": [
      "Starting experimental run with id: 23. \n"
     ]
    },
    {
     "name": "stdout",
     "output_type": "stream",
     "text": [
      "Starting experimental run with id: 24. \n"
     ]
    },
    {
     "name": "stdout",
     "output_type": "stream",
     "text": [
      "Starting experimental run with id: 25. \n"
     ]
    },
    {
     "name": "stdout",
     "output_type": "stream",
     "text": [
      "Starting experimental run with id: 26. \n"
     ]
    },
    {
     "name": "stdout",
     "output_type": "stream",
     "text": [
      "Starting experimental run with id: 27. \n"
     ]
    },
    {
     "name": "stdout",
     "output_type": "stream",
     "text": [
      "Starting experimental run with id: 28. \n"
     ]
    }
   ],
   "source": [
    "sizes = [1,500,1000,2000,3000,4000,5000]\n",
    "nreps = 100\n",
    "t_numeric = []\n",
    "t_numeric_add = []\n",
    "t_numeric_run_ids = []\n",
    "t_array = []\n",
    "t_array_add = []\n",
    "t_array_run_ids = []\n",
    "for size in sizes:\n",
    "    tn, tna, run_id_n =  insert_data('numeric', size, nreps=nreps)\n",
    "    t_numeric.append(tn)\n",
    "    t_numeric_add.append(tna)\n",
    "    t_numeric_run_ids.append(run_id_n)\n",
    "\n",
    "    ta, taa, run_id_a =  insert_data('array', size, nreps=nreps)\n",
    "    t_array.append(ta)\n",
    "    t_array_add.append(taa)\n",
    "    t_array_run_ids.append(run_id_a)"
   ]
  },
  {
   "cell_type": "code",
   "execution_count": 8,
   "metadata": {
    "execution": {
     "iopub.execute_input": "2021-02-24T06:05:43.865707Z",
     "iopub.status.busy": "2021-02-24T06:05:43.858603Z",
     "iopub.status.idle": "2021-02-24T06:05:44.086438Z",
     "shell.execute_reply": "2021-02-24T06:05:44.085475Z"
    },
    "scrolled": true
   },
   "outputs": [
    {
     "data": {
      "image/png": "[encoded data removed]",
      "text/plain": [
       "<Figure size 432x288 with 1 Axes>"
      ]
     },
     "metadata": {
      "needs_background": "light"
     },
     "output_type": "display_data"
    }
   ],
   "source": [
    "fig, ax = plt.subplots(1,1)\n",
    "ax.plot(sizes, t_numeric, 'o-', label='Inserting row-by-row')\n",
    "ax.plot(sizes, t_numeric_add, 'o-', label='Inserting row-by-row: add_result only')\n",
    "ax.plot(sizes, t_array, 'd-', label='Inserting as binary blob')\n",
    "ax.plot(sizes, t_array_add, 'd-', label='Inserting as binary blob: add_result only')\n",
    "ax.legend()\n",
    "ax.set_xlabel('Array length')\n",
    "ax.set_ylabel('Time (s)')\n",
    "fig.tight_layout()"
   ]
  },
  {
   "cell_type": "markdown",
   "metadata": {},
   "source": [
    "However, as we increase the length of the experiment, as seen here by repeating the insertion 100 times, we see a big difference between inserting values of the data row-by-row and inserting it as a binary blob."
   ]
  },
  {
   "cell_type": "markdown",
   "metadata": {},
   "source": [
    "## Loading the data "
   ]
  },
  {
   "cell_type": "code",
   "execution_count": 9,
   "metadata": {
    "execution": {
     "iopub.execute_input": "2021-02-24T06:05:44.091426Z",
     "iopub.status.busy": "2021-02-24T06:05:44.090342Z",
     "iopub.status.idle": "2021-02-24T06:05:44.093860Z",
     "shell.execute_reply": "2021-02-24T06:05:44.093338Z"
    }
   },
   "outputs": [],
   "source": [
    "from qcodes.dataset.data_set import load_by_id\n",
    "from qcodes.dataset.data_export import get_data_by_id"
   ]
  },
  {
   "cell_type": "markdown",
   "metadata": {},
   "source": [
    "As usual you can load the data by using the ``load_by_id`` function but you will notice that the different storage methods\n",
    "are reflected in shape of the data as it is retrieved. "
   ]
  },
  {
   "cell_type": "code",
   "execution_count": 10,
   "metadata": {
    "execution": {
     "iopub.execute_input": "2021-02-24T06:05:44.098232Z",
     "iopub.status.busy": "2021-02-24T06:05:44.097508Z",
     "iopub.status.idle": "2021-02-24T06:05:44.100606Z",
     "shell.execute_reply": "2021-02-24T06:05:44.099945Z"
    }
   },
   "outputs": [],
   "source": [
    "run_id_n = t_numeric_run_ids[0]\n",
    "run_id_a = t_array_run_ids[0]"
   ]
  },
  {
   "cell_type": "code",
   "execution_count": 11,
   "metadata": {
    "execution": {
     "iopub.execute_input": "2021-02-24T06:05:44.104094Z",
     "iopub.status.busy": "2021-02-24T06:05:44.103433Z",
     "iopub.status.idle": "2021-02-24T06:05:44.115409Z",
     "shell.execute_reply": "2021-02-24T06:05:44.114835Z"
    },
    "scrolled": true
   },
   "outputs": [
    {
     "data": {
      "text/plain": [
       "{'x1': {'x1': array([0.18539908, 0.18539908, 0.37516373, 0.37516373, 0.33564849,\n",
       "         0.33564849, 0.38631258, 0.38631258, 0.63245455, 0.63245455,\n",
       "         0.8133835 , 0.8133835 , 0.58163445, 0.58163445, 0.55259682,\n",
       "         0.55259682, 0.30010515, 0.30010515, 0.48363343, 0.48363343,\n",
       "         0.9279425 , 0.9279425 , 0.77861744, 0.77861744, 0.39952651,\n",
       "         0.39952651, 0.02018759, 0.02018759, 0.03271764, 0.03271764,\n",
       "         0.6195722 , 0.6195722 , 0.55055755, 0.55055755, 0.4178615 ,\n",
       "         0.4178615 , 0.62530406, 0.62530406, 0.45278696, 0.45278696,\n",
       "         0.82887983, 0.82887983, 0.58882811, 0.58882811, 0.18240343,\n",
       "         0.18240343, 0.94342401, 0.94342401, 0.41212423, 0.41212423,\n",
       "         0.25932038, 0.25932038, 0.66544176, 0.66544176, 0.59298729,\n",
       "         0.59298729, 0.0649202 , 0.0649202 , 0.82710178, 0.82710178,\n",
       "         0.7604751 , 0.7604751 , 0.47665336, 0.47665336, 0.62822151,\n",
       "         0.62822151, 0.06045728, 0.06045728, 0.73575828, 0.73575828,\n",
       "         0.13639329, 0.13639329, 0.91116573, 0.91116573, 0.5279493 ,\n",
       "         0.5279493 , 0.80789931, 0.80789931, 0.25204743, 0.25204743,\n",
       "         0.35446603, 0.35446603, 0.64305677, 0.64305677, 0.56678429,\n",
       "         0.56678429, 0.61409552, 0.61409552, 0.30343343, 0.30343343,\n",
       "         0.24015929, 0.24015929, 0.71179396, 0.71179396, 0.68756572,\n",
       "         0.68756572, 0.94251529, 0.94251529, 0.47853233, 0.47853233,\n",
       "         0.47156108, 0.47156108, 0.95679541, 0.95679541, 0.50569316,\n",
       "         0.50569316, 0.11677538, 0.11677538, 0.5197632 , 0.5197632 ,\n",
       "         0.50094534, 0.50094534, 0.48163964, 0.48163964, 0.53562461,\n",
       "         0.53562461, 0.73223564, 0.73223564, 0.72079301, 0.72079301,\n",
       "         0.81504478, 0.81504478, 0.33587595, 0.33587595, 0.11700875,\n",
       "         0.11700875, 0.33330664, 0.33330664, 0.34129204, 0.34129204,\n",
       "         0.02001776, 0.02001776, 0.04328405, 0.04328405, 0.16496231,\n",
       "         0.16496231, 0.58725607, 0.58725607, 0.75151741, 0.75151741,\n",
       "         0.10615807, 0.10615807, 0.05300241, 0.05300241, 0.87636514,\n",
       "         0.87636514, 0.34595021, 0.34595021, 0.34467598, 0.34467598,\n",
       "         0.03490607, 0.03490607, 0.7874366 , 0.7874366 , 0.29501482,\n",
       "         0.29501482, 0.3213012 , 0.3213012 , 0.85649037, 0.85649037,\n",
       "         0.71609773, 0.71609773, 0.46436906, 0.46436906, 0.01901735,\n",
       "         0.01901735, 0.02969402, 0.02969402, 0.62900879, 0.62900879,\n",
       "         0.94697858, 0.94697858, 0.166226  , 0.166226  , 0.07237738,\n",
       "         0.07237738, 0.09944252, 0.09944252, 0.89143979, 0.89143979,\n",
       "         0.7816543 , 0.7816543 , 0.18963665, 0.18963665, 0.13442862,\n",
       "         0.13442862, 0.95421824, 0.95421824, 0.67874294, 0.67874294,\n",
       "         0.02644886, 0.02644886, 0.70427951, 0.70427951, 0.33266598,\n",
       "         0.33266598, 0.90356374, 0.90356374, 0.21866472, 0.21866472])}}"
      ]
     },
     "execution_count": 1,
     "metadata": {},
     "output_type": "execute_result"
    }
   ],
   "source": [
    "ds = load_by_id(run_id_n)\n",
    "ds.get_parameter_data('x1')"
   ]
  },
  {
   "cell_type": "markdown",
   "metadata": {},
   "source": [
    "And a dataset stored as binary arrays"
   ]
  },
  {
   "cell_type": "code",
   "execution_count": 12,
   "metadata": {
    "execution": {
     "iopub.execute_input": "2021-02-24T06:05:44.119210Z",
     "iopub.status.busy": "2021-02-24T06:05:44.118528Z",
     "iopub.status.idle": "2021-02-24T06:05:44.183767Z",
     "shell.execute_reply": "2021-02-24T06:05:44.183234Z"
    },
    "scrolled": true
   },
   "outputs": [
    {
     "data": {
      "text/plain": [
       "{'x1': {'x1': array([[0.90205926],\n",
       "         [0.90205926],\n",
       "         [0.94968808],\n",
       "         [0.94968808],\n",
       "         [0.02596534],\n",
       "         [0.02596534],\n",
       "         [0.9155121 ],\n",
       "         [0.9155121 ],\n",
       "         [0.90016888],\n",
       "         [0.90016888],\n",
       "         [0.70069188],\n",
       "         [0.70069188],\n",
       "         [0.96972706],\n",
       "         [0.96972706],\n",
       "         [0.50678   ],\n",
       "         [0.50678   ],\n",
       "         [0.12430401],\n",
       "         [0.12430401],\n",
       "         [0.85505475],\n",
       "         [0.85505475],\n",
       "         [0.20283921],\n",
       "         [0.20283921],\n",
       "         [0.0635715 ],\n",
       "         [0.0635715 ],\n",
       "         [0.52219599],\n",
       "         [0.52219599],\n",
       "         [0.23990191],\n",
       "         [0.23990191],\n",
       "         [0.15153299],\n",
       "         [0.15153299],\n",
       "         [0.61328298],\n",
       "         [0.61328298],\n",
       "         [0.25424138],\n",
       "         [0.25424138],\n",
       "         [0.91951541],\n",
       "         [0.91951541],\n",
       "         [0.54508639],\n",
       "         [0.54508639],\n",
       "         [0.07061671],\n",
       "         [0.07061671],\n",
       "         [0.58001285],\n",
       "         [0.58001285],\n",
       "         [0.54588589],\n",
       "         [0.54588589],\n",
       "         [0.16280457],\n",
       "         [0.16280457],\n",
       "         [0.68069148],\n",
       "         [0.68069148],\n",
       "         [0.67385857],\n",
       "         [0.67385857],\n",
       "         [0.42535586],\n",
       "         [0.42535586],\n",
       "         [0.45102148],\n",
       "         [0.45102148],\n",
       "         [0.48994446],\n",
       "         [0.48994446],\n",
       "         [0.40679423],\n",
       "         [0.40679423],\n",
       "         [0.43025062],\n",
       "         [0.43025062],\n",
       "         [0.56817875],\n",
       "         [0.56817875],\n",
       "         [0.56035963],\n",
       "         [0.56035963],\n",
       "         [0.22380016],\n",
       "         [0.22380016],\n",
       "         [0.73606508],\n",
       "         [0.73606508],\n",
       "         [0.3273297 ],\n",
       "         [0.3273297 ],\n",
       "         [0.08510016],\n",
       "         [0.08510016],\n",
       "         [0.38932702],\n",
       "         [0.38932702],\n",
       "         [0.84923062],\n",
       "         [0.84923062],\n",
       "         [0.74266569],\n",
       "         [0.74266569],\n",
       "         [0.19297263],\n",
       "         [0.19297263],\n",
       "         [0.18952694],\n",
       "         [0.18952694],\n",
       "         [0.97612384],\n",
       "         [0.97612384],\n",
       "         [0.15663399],\n",
       "         [0.15663399],\n",
       "         [0.46109779],\n",
       "         [0.46109779],\n",
       "         [0.61264307],\n",
       "         [0.61264307],\n",
       "         [0.69839221],\n",
       "         [0.69839221],\n",
       "         [0.53456933],\n",
       "         [0.53456933],\n",
       "         [0.87097408],\n",
       "         [0.87097408],\n",
       "         [0.58719309],\n",
       "         [0.58719309],\n",
       "         [0.59815587],\n",
       "         [0.59815587],\n",
       "         [0.91063738],\n",
       "         [0.91063738],\n",
       "         [0.14842453],\n",
       "         [0.14842453],\n",
       "         [0.37084977],\n",
       "         [0.37084977],\n",
       "         [0.87753735],\n",
       "         [0.87753735],\n",
       "         [0.59354568],\n",
       "         [0.59354568],\n",
       "         [0.60860763],\n",
       "         [0.60860763],\n",
       "         [0.0780168 ],\n",
       "         [0.0780168 ],\n",
       "         [0.55262443],\n",
       "         [0.55262443],\n",
       "         [0.52322871],\n",
       "         [0.52322871],\n",
       "         [0.11869766],\n",
       "         [0.11869766],\n",
       "         [0.52923864],\n",
       "         [0.52923864],\n",
       "         [0.68716153],\n",
       "         [0.68716153],\n",
       "         [0.26271053],\n",
       "         [0.26271053],\n",
       "         [0.19557834],\n",
       "         [0.19557834],\n",
       "         [0.65431132],\n",
       "         [0.65431132],\n",
       "         [0.02067793],\n",
       "         [0.02067793],\n",
       "         [0.28378851],\n",
       "         [0.28378851],\n",
       "         [0.67793341],\n",
       "         [0.67793341],\n",
       "         [0.4672895 ],\n",
       "         [0.4672895 ],\n",
       "         [0.41858278],\n",
       "         [0.41858278],\n",
       "         [0.76961264],\n",
       "         [0.76961264],\n",
       "         [0.8244404 ],\n",
       "         [0.8244404 ],\n",
       "         [0.95924416],\n",
       "         [0.95924416],\n",
       "         [0.16080914],\n",
       "         [0.16080914],\n",
       "         [0.54015434],\n",
       "         [0.54015434],\n",
       "         [0.26168971],\n",
       "         [0.26168971],\n",
       "         [0.2396303 ],\n",
       "         [0.2396303 ],\n",
       "         [0.83740513],\n",
       "         [0.83740513],\n",
       "         [0.6090652 ],\n",
       "         [0.6090652 ],\n",
       "         [0.22025658],\n",
       "         [0.22025658],\n",
       "         [0.67747578],\n",
       "         [0.67747578],\n",
       "         [0.38524282],\n",
       "         [0.38524282],\n",
       "         [0.16461434],\n",
       "         [0.16461434],\n",
       "         [0.28335848],\n",
       "         [0.28335848],\n",
       "         [0.65500112],\n",
       "         [0.65500112],\n",
       "         [0.46314286],\n",
       "         [0.46314286],\n",
       "         [0.06835725],\n",
       "         [0.06835725],\n",
       "         [0.67499745],\n",
       "         [0.67499745],\n",
       "         [0.90241907],\n",
       "         [0.90241907],\n",
       "         [0.92248175],\n",
       "         [0.92248175],\n",
       "         [0.62418398],\n",
       "         [0.62418398],\n",
       "         [0.18042063],\n",
       "         [0.18042063],\n",
       "         [0.20980101],\n",
       "         [0.20980101],\n",
       "         [0.47040842],\n",
       "         [0.47040842],\n",
       "         [0.67719666],\n",
       "         [0.67719666],\n",
       "         [0.62511208],\n",
       "         [0.62511208],\n",
       "         [0.54611138],\n",
       "         [0.54611138],\n",
       "         [0.74730663],\n",
       "         [0.74730663],\n",
       "         [0.04845129],\n",
       "         [0.04845129],\n",
       "         [0.04748322],\n",
       "         [0.04748322]])}}"
      ]
     },
     "execution_count": 1,
     "metadata": {},
     "output_type": "execute_result"
    }
   ],
   "source": [
    "ds = load_by_id(run_id_a)\n",
    "ds.get_parameter_data('x1')"
   ]
  },
  {
   "cell_type": "code",
   "execution_count": null,
   "metadata": {},
   "outputs": [],
   "source": []
  }
 ],
 "metadata": {
  "kernelspec": {
   "display_name": "Python 3",
   "language": "python",
   "name": "python3"
  },
  "language_info": {
   "codemirror_mode": {
    "name": "ipython",
    "version": 3
   },
   "file_extension": ".py",
   "mimetype": "text/x-python",
   "name": "python",
   "nbconvert_exporter": "python",
   "pygments_lexer": "ipython3",
   "version": "3.7.9"
  },
  "nbsphinx": {
   "timeout": 600
  },
  "toc": {
   "base_numbering": 1,
   "nav_menu": {},
   "number_sections": true,
   "sideBar": true,
   "skip_h1_title": false,
   "title_cell": "Table of Contents",
   "title_sidebar": "Contents",
   "toc_cell": false,
   "toc_position": {},
   "toc_section_display": true,
   "toc_window_display": false
  },
  "varInspector": {
   "cols": {
    "lenName": 16,
    "lenType": 16,
    "lenVar": 40
   },
   "kernels_config": {
    "python": {
     "delete_cmd_postfix": "",
     "delete_cmd_prefix": "del ",
     "library": "var_list.py",
     "varRefreshCmd": "print(var_dic_list())"
    },
    "r": {
     "delete_cmd_postfix": ") ",
     "delete_cmd_prefix": "rm(",
     "library": "var_list.r",
     "varRefreshCmd": "cat(var_dic_list()) "
    }
   },
   "types_to_exclude": [
    "module",
    "function",
    "builtin_function_or_method",
    "instance",
    "_Feature"
   ],
   "window_display": false
  }
 },
 "nbformat": 4,
 "nbformat_minor": 2
}
