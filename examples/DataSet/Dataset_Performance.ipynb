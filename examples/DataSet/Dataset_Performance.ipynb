{
 "cells": [
  {
   "cell_type": "markdown",
   "metadata": {},
   "source": [
    "# DataSet Performance\n",
    "\n",
    "This notebook shows the trade-off between inserting data into a database row-by-row and as binary blobs. Inserting the data row-by-row means that we have direct access to all the data and may perform queries directly on the values of the data. On the other hand, as we shall see, this is much slower than inserting the data directly as binary blobs."
   ]
  },
  {
   "cell_type": "markdown",
   "metadata": {},
   "source": [
    "First, we choose a new location for the database to ensure that we don't add a bunch of benchmarking data to the default one."
   ]
  },
  {
   "cell_type": "code",
   "execution_count": 1,
   "metadata": {
    "execution": {
     "iopub.execute_input": "2020-12-14T09:07:03.485498Z",
     "iopub.status.busy": "2020-12-14T09:07:03.484718Z",
     "iopub.status.idle": "2020-12-14T09:07:04.476149Z",
     "shell.execute_reply": "2020-12-14T09:07:04.475613Z"
    }
   },
   "outputs": [
    {
     "name": "stdout",
     "output_type": "stream",
     "text": [
      "Logging hadn't been started.\n",
      "Activating auto-logging. Current session state plus future input saved.\n",
      "Filename       : /home/vsts/.qcodes/logs/command_history.log\n",
      "Mode           : append\n",
      "Output logging : True\n",
      "Raw input log  : False\n",
      "Timestamping   : True\n",
      "State          : active\n"
     ]
    },
    {
     "name": "stdout",
     "output_type": "stream",
     "text": [
      "Qcodes Logfile : /home/vsts/.qcodes/logs/201214-14017-qcodes.log\n"
     ]
    }
   ],
   "source": [
    "import os\n",
    "cwd = os.getcwd()\n",
    "import qcodes as qc\n",
    "qc.config[\"core\"][\"db_location\"] = os.path.join(cwd, 'testing.db')\n"
   ]
  },
  {
   "cell_type": "code",
   "execution_count": 2,
   "metadata": {
    "execution": {
     "iopub.execute_input": "2020-12-14T09:07:04.483920Z",
     "iopub.status.busy": "2020-12-14T09:07:04.481095Z",
     "iopub.status.idle": "2020-12-14T09:07:04.640394Z",
     "shell.execute_reply": "2020-12-14T09:07:04.635925Z"
    }
   },
   "outputs": [],
   "source": [
    "%matplotlib inline\n",
    "import time\n",
    "import matplotlib.pyplot as plt\n",
    "import numpy as np\n",
    "\n",
    "import qcodes as qc\n",
    "from qcodes.instrument.parameter import ManualParameter\n",
    "from qcodes.dataset.experiment_container import (Experiment,\n",
    "                                                 load_last_experiment,\n",
    "                                                 new_experiment)\n",
    "from qcodes.dataset.sqlite.database import initialise_database\n",
    "from qcodes import load_or_create_experiment\n",
    "from qcodes.dataset.measurements import Measurement"
   ]
  },
  {
   "cell_type": "code",
   "execution_count": 3,
   "metadata": {
    "execution": {
     "iopub.execute_input": "2020-12-14T09:07:04.644083Z",
     "iopub.status.busy": "2020-12-14T09:07:04.643543Z",
     "iopub.status.idle": "2020-12-14T09:07:04.764737Z",
     "shell.execute_reply": "2020-12-14T09:07:04.764284Z"
    }
   },
   "outputs": [
    {
     "name": "stdout",
     "output_type": "stream",
     "text": [
      "\r",
      "0it [00:00, ?it/s]"
     ]
    },
    {
     "name": "stdout",
     "output_type": "stream",
     "text": [
      "\r",
      "Upgrading database; v0 -> v1: : 0it [00:00, ?it/s]"
     ]
    },
    {
     "name": "stdout",
     "output_type": "stream",
     "text": [
      "\r",
      "Upgrading database; v0 -> v1: : 0it [00:00, ?it/s]"
     ]
    },
    {
     "name": "stdout",
     "output_type": "stream",
     "text": [
      "\n",
      "\r",
      "  0%|          | 0/1 [00:00<?, ?it/s]"
     ]
    },
    {
     "name": "stdout",
     "output_type": "stream",
     "text": [
      "\r",
      "Upgrading database; v1 -> v2:   0%|          | 0/1 [00:00<?, ?it/s]"
     ]
    },
    {
     "name": "stdout",
     "output_type": "stream",
     "text": [
      "\r",
      "Upgrading database; v1 -> v2: 100%|██████████| 1/1 [00:00<00:00, 636.46it/s]"
     ]
    },
    {
     "name": "stdout",
     "output_type": "stream",
     "text": [
      "\n",
      "\r",
      "0it [00:00, ?it/s]"
     ]
    },
    {
     "name": "stdout",
     "output_type": "stream",
     "text": [
      "\r",
      "Upgrading database; v2 -> v3: : 0it [00:00, ?it/s]"
     ]
    },
    {
     "name": "stdout",
     "output_type": "stream",
     "text": [
      "\r",
      "Upgrading database; v2 -> v3: : 0it [00:00, ?it/s]"
     ]
    },
    {
     "name": "stdout",
     "output_type": "stream",
     "text": [
      "\n",
      "\r",
      "0it [00:00, ?it/s]"
     ]
    },
    {
     "name": "stdout",
     "output_type": "stream",
     "text": [
      "\r",
      "Upgrading database; v3 -> v4: : 0it [00:00, ?it/s]"
     ]
    },
    {
     "name": "stdout",
     "output_type": "stream",
     "text": [
      "\r",
      "Upgrading database; v3 -> v4: : 0it [00:00, ?it/s]"
     ]
    },
    {
     "name": "stdout",
     "output_type": "stream",
     "text": [
      "\n",
      "\r",
      "  0%|          | 0/1 [00:00<?, ?it/s]"
     ]
    },
    {
     "name": "stdout",
     "output_type": "stream",
     "text": [
      "\r",
      "Upgrading database; v4 -> v5:   0%|          | 0/1 [00:00<?, ?it/s]"
     ]
    },
    {
     "name": "stdout",
     "output_type": "stream",
     "text": [
      "\r",
      "Upgrading database; v4 -> v5: 100%|██████████| 1/1 [00:00<00:00, 1087.73it/s]"
     ]
    },
    {
     "name": "stdout",
     "output_type": "stream",
     "text": [
      "\n",
      "\r",
      "0it [00:00, ?it/s]"
     ]
    },
    {
     "name": "stdout",
     "output_type": "stream",
     "text": [
      "\r",
      "Upgrading database; v5 -> v6: : 0it [00:00, ?it/s]"
     ]
    },
    {
     "name": "stdout",
     "output_type": "stream",
     "text": [
      "\r",
      "Upgrading database; v5 -> v6: : 0it [00:00, ?it/s]"
     ]
    },
    {
     "name": "stdout",
     "output_type": "stream",
     "text": [
      "\n",
      "\r",
      "  0%|          | 0/1 [00:00<?, ?it/s]"
     ]
    },
    {
     "name": "stdout",
     "output_type": "stream",
     "text": [
      "\r",
      "Upgrading database; v6 -> v7:   0%|          | 0/1 [00:00<?, ?it/s]"
     ]
    },
    {
     "name": "stdout",
     "output_type": "stream",
     "text": [
      "\r",
      "Upgrading database; v6 -> v7: 100%|██████████| 1/1 [00:00<00:00, 423.37it/s]"
     ]
    },
    {
     "name": "stdout",
     "output_type": "stream",
     "text": [
      "\n",
      "\r",
      "  0%|          | 0/1 [00:00<?, ?it/s]"
     ]
    },
    {
     "name": "stdout",
     "output_type": "stream",
     "text": [
      "\r",
      "Upgrading database; v7 -> v8:   0%|          | 0/1 [00:00<?, ?it/s]"
     ]
    },
    {
     "name": "stdout",
     "output_type": "stream",
     "text": [
      "\r",
      "Upgrading database; v7 -> v8: 100%|██████████| 1/1 [00:00<00:00, 937.48it/s]"
     ]
    },
    {
     "name": "stdout",
     "output_type": "stream",
     "text": [
      "\n",
      "\r",
      "  0%|          | 0/1 [00:00<?, ?it/s]"
     ]
    },
    {
     "name": "stdout",
     "output_type": "stream",
     "text": [
      "\r",
      "Upgrading database; v8 -> v9:   0%|          | 0/1 [00:00<?, ?it/s]"
     ]
    },
    {
     "name": "stdout",
     "output_type": "stream",
     "text": [
      "\r",
      "Upgrading database; v8 -> v9: 100%|██████████| 1/1 [00:00<00:00, 1075.46it/s]"
     ]
    },
    {
     "name": "stdout",
     "output_type": "stream",
     "text": [
      "\n"
     ]
    }
   ],
   "source": [
    "initialise_database()\n",
    "exp = load_or_create_experiment(experiment_name='tutorial_exp', sample_name=\"no sample\")"
   ]
  },
  {
   "cell_type": "markdown",
   "metadata": {},
   "source": [
    "Here, we define a simple function to benchmark the time it takes to insert n points with either numeric or array data type.\n",
    "We will compare both the time used to call ``add_result`` and the time used for the full measurement."
   ]
  },
  {
   "cell_type": "code",
   "execution_count": 4,
   "metadata": {
    "execution": {
     "iopub.execute_input": "2020-12-14T09:07:04.773443Z",
     "iopub.status.busy": "2020-12-14T09:07:04.772266Z",
     "iopub.status.idle": "2020-12-14T09:07:04.773932Z",
     "shell.execute_reply": "2020-12-14T09:07:04.774408Z"
    }
   },
   "outputs": [],
   "source": [
    "def insert_data(paramtype, npoints, nreps=1):\n",
    "\n",
    "    meas = Measurement(exp=exp)\n",
    "\n",
    "    x1 = ManualParameter('x1')\n",
    "    x2 = ManualParameter('x2')\n",
    "    x3 = ManualParameter('x3')\n",
    "    y1 = ManualParameter('y1')\n",
    "    y2 = ManualParameter('y2')\n",
    "\n",
    "    meas.register_parameter(x1, paramtype=paramtype)\n",
    "    meas.register_parameter(x2, paramtype=paramtype)\n",
    "    meas.register_parameter(x3, paramtype=paramtype)\n",
    "    meas.register_parameter(y1, setpoints=[x1, x2, x3],\n",
    "                            paramtype=paramtype)\n",
    "    meas.register_parameter(y2, setpoints=[x1, x2, x3],\n",
    "                            paramtype=paramtype)\n",
    "    start = time.perf_counter()\n",
    "    with meas.run() as datasaver:\n",
    "        start_adding = time.perf_counter()\n",
    "        for i in range(nreps):\n",
    "            datasaver.add_result((x1, np.random.rand(npoints)),\n",
    "                                 (x2, np.random.rand(npoints)),\n",
    "                                 (x3, np.random.rand(npoints)),\n",
    "                                 (y1, np.random.rand(npoints)),\n",
    "                                 (y2, np.random.rand(npoints)))\n",
    "        stop_adding = time.perf_counter()\n",
    "        run_id = datasaver.run_id\n",
    "    stop = time.perf_counter()\n",
    "    tot_time = stop - start\n",
    "    add_time = stop_adding - start_adding\n",
    "    return tot_time, add_time, run_id"
   ]
  },
  {
   "cell_type": "markdown",
   "metadata": {},
   "source": [
    "## Comparison between numeric/array data and binary blob"
   ]
  },
  {
   "cell_type": "markdown",
   "metadata": {},
   "source": [
    "### Case1: Short experiment time"
   ]
  },
  {
   "cell_type": "code",
   "execution_count": 5,
   "metadata": {
    "execution": {
     "iopub.execute_input": "2020-12-14T09:07:04.780203Z",
     "iopub.status.busy": "2020-12-14T09:07:04.778109Z",
     "iopub.status.idle": "2020-12-14T09:07:05.634853Z",
     "shell.execute_reply": "2020-12-14T09:07:05.634408Z"
    }
   },
   "outputs": [
    {
     "name": "stdout",
     "output_type": "stream",
     "text": [
      "Starting experimental run with id: 1. \n",
      "Starting experimental run with id: 2. \n",
      "Starting experimental run with id: 3. \n",
      "Starting experimental run with id: 4. \n",
      "Starting experimental run with id: 5. \n"
     ]
    },
    {
     "name": "stdout",
     "output_type": "stream",
     "text": [
      "Starting experimental run with id: 6. \n"
     ]
    },
    {
     "name": "stdout",
     "output_type": "stream",
     "text": [
      "Starting experimental run with id: 7. \n"
     ]
    },
    {
     "name": "stdout",
     "output_type": "stream",
     "text": [
      "Starting experimental run with id: 8. \n",
      "Starting experimental run with id: 9. \n"
     ]
    },
    {
     "name": "stdout",
     "output_type": "stream",
     "text": [
      "Starting experimental run with id: 10. \n",
      "Starting experimental run with id: 11. \n"
     ]
    },
    {
     "name": "stdout",
     "output_type": "stream",
     "text": [
      "Starting experimental run with id: 12. \n",
      "Starting experimental run with id: 13. \n"
     ]
    },
    {
     "name": "stdout",
     "output_type": "stream",
     "text": [
      "Starting experimental run with id: 14. \n"
     ]
    }
   ],
   "source": [
    "sizes = [1,500,1000,2000,3000,4000,5000]\n",
    "t_numeric = []\n",
    "t_numeric_add = []\n",
    "t_array = []\n",
    "t_array_add = []\n",
    "for size in sizes:\n",
    "    tn, tna, run_id_n =  insert_data('numeric', size)\n",
    "    t_numeric.append(tn)\n",
    "    t_numeric_add.append(tna)\n",
    "\n",
    "    ta, taa, run_id_a =  insert_data('array', size)\n",
    "    t_array.append(ta)\n",
    "    t_array_add.append(taa)"
   ]
  },
  {
   "cell_type": "code",
   "execution_count": 6,
   "metadata": {
    "execution": {
     "iopub.execute_input": "2020-12-14T09:07:05.662767Z",
     "iopub.status.busy": "2020-12-14T09:07:05.638848Z",
     "iopub.status.idle": "2020-12-14T09:07:05.817159Z",
     "shell.execute_reply": "2020-12-14T09:07:05.816133Z"
    }
   },
   "outputs": [
    {
     "data": {
      "image/png": "[encoded data removed]",
      "text/plain": [
       "<Figure size 432x288 with 1 Axes>"
      ]
     },
     "metadata": {
      "needs_background": "light"
     },
     "output_type": "display_data"
    }
   ],
   "source": [
    "fig, ax = plt.subplots(1,1)\n",
    "ax.plot(sizes, t_numeric, 'o-', label='Inserting row-by-row')\n",
    "ax.plot(sizes, t_numeric_add, 'o-', label='Inserting row-by-row: add_result only')\n",
    "ax.plot(sizes, t_array, 'd-', label='Inserting as binary blob')\n",
    "ax.plot(sizes, t_array_add, 'd-', label='Inserting as binary blob: add_result only')\n",
    "ax.legend()\n",
    "ax.set_xlabel('Array length')\n",
    "ax.set_ylabel('Time (s)')\n",
    "fig.tight_layout()"
   ]
  },
  {
   "cell_type": "markdown",
   "metadata": {},
   "source": [
    "As shown in the latter figure, the time to setup and and close the experiment is approximately 0.4 sec. In case of small array sizes, the difference between inserting values of data as arrays and inserting them row-by-row is relatively unimportant. At larger array sizes, i.e. above 10000 points, the cost of writing data as individual datapoints starts to become important.\n"
   ]
  },
  {
   "cell_type": "markdown",
   "metadata": {},
   "source": [
    "### Case2: Long experiment time "
   ]
  },
  {
   "cell_type": "code",
   "execution_count": 7,
   "metadata": {
    "execution": {
     "iopub.execute_input": "2020-12-14T09:07:05.826087Z",
     "iopub.status.busy": "2020-12-14T09:07:05.825224Z",
     "iopub.status.idle": "2020-12-14T09:07:59.771765Z",
     "shell.execute_reply": "2020-12-14T09:07:59.771300Z"
    }
   },
   "outputs": [
    {
     "name": "stdout",
     "output_type": "stream",
     "text": [
      "Starting experimental run with id: 15. \n",
      "Starting experimental run with id: 16. \n",
      "Starting experimental run with id: 17. \n"
     ]
    },
    {
     "name": "stdout",
     "output_type": "stream",
     "text": [
      "Starting experimental run with id: 18. \n",
      "Starting experimental run with id: 19. \n"
     ]
    },
    {
     "name": "stdout",
     "output_type": "stream",
     "text": [
      "Starting experimental run with id: 20. \n"
     ]
    },
    {
     "name": "stdout",
     "output_type": "stream",
     "text": [
      "Starting experimental run with id: 21. \n"
     ]
    },
    {
     "name": "stdout",
     "output_type": "stream",
     "text": [
      "Starting experimental run with id: 22. \n"
     ]
    },
    {
     "name": "stdout",
     "output_type": "stream",
     "text": [
      "Starting experimental run with id: 23. \n"
     ]
    },
    {
     "name": "stdout",
     "output_type": "stream",
     "text": [
      "Starting experimental run with id: 24. \n"
     ]
    },
    {
     "name": "stdout",
     "output_type": "stream",
     "text": [
      "Starting experimental run with id: 25. \n"
     ]
    },
    {
     "name": "stdout",
     "output_type": "stream",
     "text": [
      "Starting experimental run with id: 26. \n"
     ]
    },
    {
     "name": "stdout",
     "output_type": "stream",
     "text": [
      "Starting experimental run with id: 27. \n"
     ]
    },
    {
     "name": "stdout",
     "output_type": "stream",
     "text": [
      "Starting experimental run with id: 28. \n"
     ]
    }
   ],
   "source": [
    "sizes = [1,500,1000,2000,3000,4000,5000]\n",
    "nreps = 100\n",
    "t_numeric = []\n",
    "t_numeric_add = []\n",
    "t_numeric_run_ids = []\n",
    "t_array = []\n",
    "t_array_add = []\n",
    "t_array_run_ids = []\n",
    "for size in sizes:\n",
    "    tn, tna, run_id_n =  insert_data('numeric', size, nreps=nreps)\n",
    "    t_numeric.append(tn)\n",
    "    t_numeric_add.append(tna)\n",
    "    t_numeric_run_ids.append(run_id_n)\n",
    "\n",
    "    ta, taa, run_id_a =  insert_data('array', size, nreps=nreps)\n",
    "    t_array.append(ta)\n",
    "    t_array_add.append(taa)\n",
    "    t_array_run_ids.append(run_id_a)"
   ]
  },
  {
   "cell_type": "code",
   "execution_count": 8,
   "metadata": {
    "execution": {
     "iopub.execute_input": "2020-12-14T09:07:59.811655Z",
     "iopub.status.busy": "2020-12-14T09:07:59.810750Z",
     "iopub.status.idle": "2020-12-14T09:07:59.962458Z",
     "shell.execute_reply": "2020-12-14T09:07:59.962003Z"
    },
    "scrolled": true
   },
   "outputs": [
    {
     "data": {
      "image/png": "[encoded data removed]",
      "text/plain": [
       "<Figure size 432x288 with 1 Axes>"
      ]
     },
     "metadata": {
      "needs_background": "light"
     },
     "output_type": "display_data"
    }
   ],
   "source": [
    "fig, ax = plt.subplots(1,1)\n",
    "ax.plot(sizes, t_numeric, 'o-', label='Inserting row-by-row')\n",
    "ax.plot(sizes, t_numeric_add, 'o-', label='Inserting row-by-row: add_result only')\n",
    "ax.plot(sizes, t_array, 'd-', label='Inserting as binary blob')\n",
    "ax.plot(sizes, t_array_add, 'd-', label='Inserting as binary blob: add_result only')\n",
    "ax.legend()\n",
    "ax.set_xlabel('Array length')\n",
    "ax.set_ylabel('Time (s)')\n",
    "fig.tight_layout()"
   ]
  },
  {
   "cell_type": "markdown",
   "metadata": {},
   "source": [
    "However, as we increase the length of the experiment, as seen here by repeating the insertion 100 times, we see a big difference between inserting values of the data row-by-row and inserting it as a binary blob."
   ]
  },
  {
   "cell_type": "markdown",
   "metadata": {},
   "source": [
    "## Loading the data "
   ]
  },
  {
   "cell_type": "code",
   "execution_count": 9,
   "metadata": {
    "execution": {
     "iopub.execute_input": "2020-12-14T09:07:59.966225Z",
     "iopub.status.busy": "2020-12-14T09:07:59.965768Z",
     "iopub.status.idle": "2020-12-14T09:07:59.969179Z",
     "shell.execute_reply": "2020-12-14T09:07:59.968779Z"
    }
   },
   "outputs": [],
   "source": [
    "from qcodes.dataset.data_set import load_by_id\n",
    "from qcodes.dataset.data_export import get_data_by_id"
   ]
  },
  {
   "cell_type": "markdown",
   "metadata": {},
   "source": [
    "As usual you can load the data by using the ``load_by_id`` function but you will notice that the different storage methods\n",
    "are reflected in shape of the data as it is retrieved. "
   ]
  },
  {
   "cell_type": "code",
   "execution_count": 10,
   "metadata": {
    "execution": {
     "iopub.execute_input": "2020-12-14T09:07:59.972613Z",
     "iopub.status.busy": "2020-12-14T09:07:59.972106Z",
     "iopub.status.idle": "2020-12-14T09:07:59.974370Z",
     "shell.execute_reply": "2020-12-14T09:07:59.973976Z"
    }
   },
   "outputs": [],
   "source": [
    "run_id_n = t_numeric_run_ids[0]\n",
    "run_id_a = t_array_run_ids[0]"
   ]
  },
  {
   "cell_type": "code",
   "execution_count": 11,
   "metadata": {
    "execution": {
     "iopub.execute_input": "2020-12-14T09:07:59.977408Z",
     "iopub.status.busy": "2020-12-14T09:07:59.976965Z",
     "iopub.status.idle": "2020-12-14T09:07:59.985800Z",
     "shell.execute_reply": "2020-12-14T09:07:59.985378Z"
    },
    "scrolled": true
   },
   "outputs": [
    {
     "data": {
      "text/plain": [
       "{'x1': {'x1': array([0.59804588, 0.59804588, 0.12415177, 0.12415177, 0.63465588,\n",
       "         0.63465588, 0.17346064, 0.17346064, 0.75433812, 0.75433812,\n",
       "         0.1221338 , 0.1221338 , 0.25997762, 0.25997762, 0.16787668,\n",
       "         0.16787668, 0.593719  , 0.593719  , 0.82965074, 0.82965074,\n",
       "         0.05412469, 0.05412469, 0.07639579, 0.07639579, 0.23789875,\n",
       "         0.23789875, 0.99123736, 0.99123736, 0.31161671, 0.31161671,\n",
       "         0.02027758, 0.02027758, 0.45079548, 0.45079548, 0.33642579,\n",
       "         0.33642579, 0.85122374, 0.85122374, 0.98909745, 0.98909745,\n",
       "         0.42193127, 0.42193127, 0.02883381, 0.02883381, 0.9612704 ,\n",
       "         0.9612704 , 0.86783081, 0.86783081, 0.90619732, 0.90619732,\n",
       "         0.55364366, 0.55364366, 0.40060745, 0.40060745, 0.95543857,\n",
       "         0.95543857, 0.51662904, 0.51662904, 0.32474798, 0.32474798,\n",
       "         0.20388255, 0.20388255, 0.74578771, 0.74578771, 0.51510188,\n",
       "         0.51510188, 0.35595054, 0.35595054, 0.19007591, 0.19007591,\n",
       "         0.95969961, 0.95969961, 0.90779728, 0.90779728, 0.53334987,\n",
       "         0.53334987, 0.83321359, 0.83321359, 0.85154461, 0.85154461,\n",
       "         0.2828558 , 0.2828558 , 0.68923147, 0.68923147, 0.25829018,\n",
       "         0.25829018, 0.35747495, 0.35747495, 0.60976908, 0.60976908,\n",
       "         0.30214066, 0.30214066, 0.85243685, 0.85243685, 0.17469594,\n",
       "         0.17469594, 0.75340325, 0.75340325, 0.5853729 , 0.5853729 ,\n",
       "         0.83515703, 0.83515703, 0.96762472, 0.96762472, 0.54287687,\n",
       "         0.54287687, 0.8585848 , 0.8585848 , 0.56415104, 0.56415104,\n",
       "         0.05716092, 0.05716092, 0.41117404, 0.41117404, 0.05703359,\n",
       "         0.05703359, 0.51654212, 0.51654212, 0.9156581 , 0.9156581 ,\n",
       "         0.23347786, 0.23347786, 0.75712102, 0.75712102, 0.44208987,\n",
       "         0.44208987, 0.12034626, 0.12034626, 0.00280316, 0.00280316,\n",
       "         0.67534797, 0.67534797, 0.69850033, 0.69850033, 0.98063724,\n",
       "         0.98063724, 0.52999199, 0.52999199, 0.40269525, 0.40269525,\n",
       "         0.87155837, 0.87155837, 0.90522806, 0.90522806, 0.1716309 ,\n",
       "         0.1716309 , 0.10788156, 0.10788156, 0.79762963, 0.79762963,\n",
       "         0.28618446, 0.28618446, 0.25454521, 0.25454521, 0.19222414,\n",
       "         0.19222414, 0.00490777, 0.00490777, 0.9376525 , 0.9376525 ,\n",
       "         0.92468733, 0.92468733, 0.52068412, 0.52068412, 0.24041517,\n",
       "         0.24041517, 0.54399529, 0.54399529, 0.89057647, 0.89057647,\n",
       "         0.80462463, 0.80462463, 0.41903126, 0.41903126, 0.05253742,\n",
       "         0.05253742, 0.34981033, 0.34981033, 0.35688342, 0.35688342,\n",
       "         0.74481708, 0.74481708, 0.84802095, 0.84802095, 0.60552202,\n",
       "         0.60552202, 0.27630507, 0.27630507, 0.57964756, 0.57964756,\n",
       "         0.14768857, 0.14768857, 0.34706253, 0.34706253, 0.0171303 ,\n",
       "         0.0171303 , 0.71866491, 0.71866491, 0.67959699, 0.67959699])}}"
      ]
     },
     "execution_count": 1,
     "metadata": {},
     "output_type": "execute_result"
    }
   ],
   "source": [
    "ds = load_by_id(run_id_n)\n",
    "ds.get_parameter_data('x1')"
   ]
  },
  {
   "cell_type": "markdown",
   "metadata": {},
   "source": [
    "And a dataset stored as binary arrays"
   ]
  },
  {
   "cell_type": "code",
   "execution_count": 12,
   "metadata": {
    "execution": {
     "iopub.execute_input": "2020-12-14T09:07:59.988900Z",
     "iopub.status.busy": "2020-12-14T09:07:59.988458Z",
     "iopub.status.idle": "2020-12-14T09:08:00.036468Z",
     "shell.execute_reply": "2020-12-14T09:08:00.036974Z"
    },
    "scrolled": true
   },
   "outputs": [
    {
     "data": {
      "text/plain": [
       "{'x1': {'x1': array([[1.47783029e-01],\n",
       "         [1.47783029e-01],\n",
       "         [7.99867919e-01],\n",
       "         [7.99867919e-01],\n",
       "         [1.60049169e-01],\n",
       "         [1.60049169e-01],\n",
       "         [1.72897969e-01],\n",
       "         [1.72897969e-01],\n",
       "         [9.81367424e-01],\n",
       "         [9.81367424e-01],\n",
       "         [5.51677351e-01],\n",
       "         [5.51677351e-01],\n",
       "         [2.27513677e-01],\n",
       "         [2.27513677e-01],\n",
       "         [4.72204074e-01],\n",
       "         [4.72204074e-01],\n",
       "         [7.02521629e-01],\n",
       "         [7.02521629e-01],\n",
       "         [6.37289624e-01],\n",
       "         [6.37289624e-01],\n",
       "         [9.16789243e-01],\n",
       "         [9.16789243e-01],\n",
       "         [5.31240545e-01],\n",
       "         [5.31240545e-01],\n",
       "         [4.73910800e-01],\n",
       "         [4.73910800e-01],\n",
       "         [6.52179246e-03],\n",
       "         [6.52179246e-03],\n",
       "         [2.27741108e-01],\n",
       "         [2.27741108e-01],\n",
       "         [5.79082783e-01],\n",
       "         [5.79082783e-01],\n",
       "         [1.77486323e-01],\n",
       "         [1.77486323e-01],\n",
       "         [6.85549407e-01],\n",
       "         [6.85549407e-01],\n",
       "         [6.93107612e-01],\n",
       "         [6.93107612e-01],\n",
       "         [6.74876954e-01],\n",
       "         [6.74876954e-01],\n",
       "         [1.31571864e-01],\n",
       "         [1.31571864e-01],\n",
       "         [6.34260079e-01],\n",
       "         [6.34260079e-01],\n",
       "         [1.11889791e-03],\n",
       "         [1.11889791e-03],\n",
       "         [6.66153459e-01],\n",
       "         [6.66153459e-01],\n",
       "         [1.95796034e-01],\n",
       "         [1.95796034e-01],\n",
       "         [4.82615909e-01],\n",
       "         [4.82615909e-01],\n",
       "         [9.90892509e-01],\n",
       "         [9.90892509e-01],\n",
       "         [8.42327445e-01],\n",
       "         [8.42327445e-01],\n",
       "         [2.91967053e-01],\n",
       "         [2.91967053e-01],\n",
       "         [2.41144220e-01],\n",
       "         [2.41144220e-01],\n",
       "         [5.40190552e-01],\n",
       "         [5.40190552e-01],\n",
       "         [8.45162386e-01],\n",
       "         [8.45162386e-01],\n",
       "         [7.70598943e-01],\n",
       "         [7.70598943e-01],\n",
       "         [8.09580906e-04],\n",
       "         [8.09580906e-04],\n",
       "         [4.74456935e-01],\n",
       "         [4.74456935e-01],\n",
       "         [3.04593193e-01],\n",
       "         [3.04593193e-01],\n",
       "         [1.47115685e-01],\n",
       "         [1.47115685e-01],\n",
       "         [9.49309872e-01],\n",
       "         [9.49309872e-01],\n",
       "         [7.61483123e-01],\n",
       "         [7.61483123e-01],\n",
       "         [6.82752034e-02],\n",
       "         [6.82752034e-02],\n",
       "         [7.68747104e-01],\n",
       "         [7.68747104e-01],\n",
       "         [1.03391228e-01],\n",
       "         [1.03391228e-01],\n",
       "         [4.25285275e-01],\n",
       "         [4.25285275e-01],\n",
       "         [7.43159132e-01],\n",
       "         [7.43159132e-01],\n",
       "         [3.28865273e-01],\n",
       "         [3.28865273e-01],\n",
       "         [1.87273136e-01],\n",
       "         [1.87273136e-01],\n",
       "         [9.45934946e-01],\n",
       "         [9.45934946e-01],\n",
       "         [5.23337757e-01],\n",
       "         [5.23337757e-01],\n",
       "         [5.15892353e-01],\n",
       "         [5.15892353e-01],\n",
       "         [6.66493859e-01],\n",
       "         [6.66493859e-01],\n",
       "         [7.70258629e-01],\n",
       "         [7.70258629e-01],\n",
       "         [8.94168302e-01],\n",
       "         [8.94168302e-01],\n",
       "         [2.00062974e-01],\n",
       "         [2.00062974e-01],\n",
       "         [9.99706050e-01],\n",
       "         [9.99706050e-01],\n",
       "         [7.56130873e-01],\n",
       "         [7.56130873e-01],\n",
       "         [7.88987773e-01],\n",
       "         [7.88987773e-01],\n",
       "         [4.49726380e-01],\n",
       "         [4.49726380e-01],\n",
       "         [2.24015435e-01],\n",
       "         [2.24015435e-01],\n",
       "         [5.32438557e-01],\n",
       "         [5.32438557e-01],\n",
       "         [8.04537648e-01],\n",
       "         [8.04537648e-01],\n",
       "         [2.48364203e-01],\n",
       "         [2.48364203e-01],\n",
       "         [2.36151923e-01],\n",
       "         [2.36151923e-01],\n",
       "         [3.89755839e-01],\n",
       "         [3.89755839e-01],\n",
       "         [7.59800340e-02],\n",
       "         [7.59800340e-02],\n",
       "         [4.14429111e-01],\n",
       "         [4.14429111e-01],\n",
       "         [9.45720113e-01],\n",
       "         [9.45720113e-01],\n",
       "         [9.90212495e-01],\n",
       "         [9.90212495e-01],\n",
       "         [8.47547346e-01],\n",
       "         [8.47547346e-01],\n",
       "         [5.63867203e-01],\n",
       "         [5.63867203e-01],\n",
       "         [4.74119176e-01],\n",
       "         [4.74119176e-01],\n",
       "         [8.61238910e-02],\n",
       "         [8.61238910e-02],\n",
       "         [1.96556784e-01],\n",
       "         [1.96556784e-01],\n",
       "         [5.96565325e-01],\n",
       "         [5.96565325e-01],\n",
       "         [7.84907322e-01],\n",
       "         [7.84907322e-01],\n",
       "         [4.71310310e-01],\n",
       "         [4.71310310e-01],\n",
       "         [2.09063824e-01],\n",
       "         [2.09063824e-01],\n",
       "         [4.03179904e-01],\n",
       "         [4.03179904e-01],\n",
       "         [9.36305559e-01],\n",
       "         [9.36305559e-01],\n",
       "         [4.27081477e-01],\n",
       "         [4.27081477e-01],\n",
       "         [4.57879895e-01],\n",
       "         [4.57879895e-01],\n",
       "         [6.73392302e-01],\n",
       "         [6.73392302e-01],\n",
       "         [5.16697454e-01],\n",
       "         [5.16697454e-01],\n",
       "         [8.50594835e-01],\n",
       "         [8.50594835e-01],\n",
       "         [5.65996224e-01],\n",
       "         [5.65996224e-01],\n",
       "         [5.65382727e-01],\n",
       "         [5.65382727e-01],\n",
       "         [5.92411793e-01],\n",
       "         [5.92411793e-01],\n",
       "         [1.96961198e-01],\n",
       "         [1.96961198e-01],\n",
       "         [1.96249908e-01],\n",
       "         [1.96249908e-01],\n",
       "         [7.71134316e-01],\n",
       "         [7.71134316e-01],\n",
       "         [3.07203015e-01],\n",
       "         [3.07203015e-01],\n",
       "         [8.06950694e-01],\n",
       "         [8.06950694e-01],\n",
       "         [4.42825366e-01],\n",
       "         [4.42825366e-01],\n",
       "         [3.51396051e-01],\n",
       "         [3.51396051e-01],\n",
       "         [8.66905653e-01],\n",
       "         [8.66905653e-01],\n",
       "         [6.00105556e-01],\n",
       "         [6.00105556e-01],\n",
       "         [1.68702600e-01],\n",
       "         [1.68702600e-01],\n",
       "         [8.23489063e-01],\n",
       "         [8.23489063e-01],\n",
       "         [5.17996033e-01],\n",
       "         [5.17996033e-01],\n",
       "         [1.20115871e-01],\n",
       "         [1.20115871e-01],\n",
       "         [3.26410223e-02],\n",
       "         [3.26410223e-02]])}}"
      ]
     },
     "execution_count": 1,
     "metadata": {},
     "output_type": "execute_result"
    }
   ],
   "source": [
    "ds = load_by_id(run_id_a)\n",
    "ds.get_parameter_data('x1')"
   ]
  },
  {
   "cell_type": "code",
   "execution_count": null,
   "metadata": {},
   "outputs": [],
   "source": []
  }
 ],
 "metadata": {
  "kernelspec": {
   "display_name": "Python 3",
   "language": "python",
   "name": "python3"
  },
  "language_info": {
   "codemirror_mode": {
    "name": "ipython",
    "version": 3
   },
   "file_extension": ".py",
   "mimetype": "text/x-python",
   "name": "python",
   "nbconvert_exporter": "python",
   "pygments_lexer": "ipython3",
   "version": "3.7.9"
  },
  "nbsphinx": {
   "timeout": 600
  },
  "toc": {
   "base_numbering": 1,
   "nav_menu": {},
   "number_sections": true,
   "sideBar": true,
   "skip_h1_title": false,
   "title_cell": "Table of Contents",
   "title_sidebar": "Contents",
   "toc_cell": false,
   "toc_position": {},
   "toc_section_display": true,
   "toc_window_display": false
  },
  "varInspector": {
   "cols": {
    "lenName": 16,
    "lenType": 16,
    "lenVar": 40
   },
   "kernels_config": {
    "python": {
     "delete_cmd_postfix": "",
     "delete_cmd_prefix": "del ",
     "library": "var_list.py",
     "varRefreshCmd": "print(var_dic_list())"
    },
    "r": {
     "delete_cmd_postfix": ") ",
     "delete_cmd_prefix": "rm(",
     "library": "var_list.r",
     "varRefreshCmd": "cat(var_dic_list()) "
    }
   },
   "types_to_exclude": [
    "module",
    "function",
    "builtin_function_or_method",
    "instance",
    "_Feature"
   ],
   "window_display": false
  }
 },
 "nbformat": 4,
 "nbformat_minor": 2
}
