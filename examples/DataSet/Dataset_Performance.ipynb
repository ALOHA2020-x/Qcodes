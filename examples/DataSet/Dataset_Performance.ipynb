{
 "cells": [
  {
   "cell_type": "markdown",
   "metadata": {},
   "source": [
    "# DataSet Performance\n",
    "\n",
    "This notebook shows the trade-off between inserting data into a database row-by-row and as binary blobs. Inserting the data row-by-row means that we have direct access to all the data and may perform queries directly on the values of the data. On the other hand, as we shall see, this is much slower than inserting the data directly as binary blobs."
   ]
  },
  {
   "cell_type": "markdown",
   "metadata": {},
   "source": [
    "First, we choose a new location for the database to ensure that we don't add a bunch of benchmarking data to the default one."
   ]
  },
  {
   "cell_type": "code",
   "execution_count": 1,
   "metadata": {},
   "outputs": [
    {
     "name": "stdout",
     "output_type": "stream",
     "text": [
      "Logging hadn't been started.\n",
      "Activating auto-logging. Current session state plus future input saved.\n",
      "Filename       : /home/vsts/.qcodes/logs/command_history.log\n",
      "Mode           : append\n",
      "Output logging : True\n",
      "Raw input log  : False\n",
      "Timestamping   : True\n",
      "State          : active\n"
     ]
    },
    {
     "name": "stdout",
     "output_type": "stream",
     "text": [
      "Qcodes Logfile : /home/vsts/.qcodes/logs/200227-19268-qcodes.log\n"
     ]
    }
   ],
   "source": [
    "import os\n",
    "cwd = os.getcwd()\n",
    "import qcodes as qc\n",
    "qc.config[\"core\"][\"db_location\"] = os.path.join(cwd, 'testing.db')\n"
   ]
  },
  {
   "cell_type": "code",
   "execution_count": 2,
   "metadata": {},
   "outputs": [],
   "source": [
    "%matplotlib inline\n",
    "import time\n",
    "import matplotlib.pyplot as plt\n",
    "import numpy as np\n",
    "\n",
    "import qcodes as qc\n",
    "from qcodes.instrument.parameter import ManualParameter\n",
    "from qcodes.dataset.experiment_container import (Experiment,\n",
    "                                                 load_last_experiment,\n",
    "                                                 new_experiment)\n",
    "from qcodes.dataset.sqlite.database import initialise_database\n",
    "from qcodes import load_or_create_experiment\n",
    "from qcodes.dataset.measurements import Measurement"
   ]
  },
  {
   "cell_type": "code",
   "execution_count": 3,
   "metadata": {},
   "outputs": [
    {
     "name": "stdout",
     "output_type": "stream",
     "text": [
      "\r",
      "0it [00:00, ?it/s]"
     ]
    },
    {
     "name": "stdout",
     "output_type": "stream",
     "text": [
      "\r",
      "Upgrading database; v0 -> v1: : 0it [00:00, ?it/s]"
     ]
    },
    {
     "name": "stdout",
     "output_type": "stream",
     "text": [
      "\r",
      "Upgrading database; v0 -> v1: : 0it [00:00, ?it/s]"
     ]
    },
    {
     "name": "stdout",
     "output_type": "stream",
     "text": [
      "\n",
      "\r",
      "  0%|          | 0/1 [00:00<?, ?it/s]"
     ]
    },
    {
     "name": "stdout",
     "output_type": "stream",
     "text": [
      "\r",
      "Upgrading database; v1 -> v2:   0%|          | 0/1 [00:00<?, ?it/s]"
     ]
    },
    {
     "name": "stdout",
     "output_type": "stream",
     "text": [
      "\r",
      "Upgrading database; v1 -> v2: 100%|██████████| 1/1 [00:00<00:00, 803.66it/s]"
     ]
    },
    {
     "name": "stdout",
     "output_type": "stream",
     "text": [
      "\n",
      "\r",
      "0it [00:00, ?it/s]"
     ]
    },
    {
     "name": "stdout",
     "output_type": "stream",
     "text": [
      "\r",
      "Upgrading database; v2 -> v3: : 0it [00:00, ?it/s]"
     ]
    },
    {
     "name": "stdout",
     "output_type": "stream",
     "text": [
      "\r",
      "Upgrading database; v2 -> v3: : 0it [00:00, ?it/s]"
     ]
    },
    {
     "name": "stdout",
     "output_type": "stream",
     "text": [
      "\n",
      "\r",
      "0it [00:00, ?it/s]"
     ]
    },
    {
     "name": "stdout",
     "output_type": "stream",
     "text": [
      "\r",
      "Upgrading database; v3 -> v4: : 0it [00:00, ?it/s]"
     ]
    },
    {
     "name": "stdout",
     "output_type": "stream",
     "text": [
      "\r",
      "Upgrading database; v3 -> v4: : 0it [00:00, ?it/s]"
     ]
    },
    {
     "name": "stdout",
     "output_type": "stream",
     "text": [
      "\n",
      "\r",
      "  0%|          | 0/1 [00:00<?, ?it/s]"
     ]
    },
    {
     "name": "stdout",
     "output_type": "stream",
     "text": [
      "\r",
      "Upgrading database; v4 -> v5:   0%|          | 0/1 [00:00<?, ?it/s]"
     ]
    },
    {
     "name": "stdout",
     "output_type": "stream",
     "text": [
      "\r",
      "Upgrading database; v4 -> v5: 100%|██████████| 1/1 [00:00<00:00, 802.28it/s]"
     ]
    },
    {
     "name": "stdout",
     "output_type": "stream",
     "text": [
      "\n",
      "\r",
      "0it [00:00, ?it/s]"
     ]
    },
    {
     "name": "stdout",
     "output_type": "stream",
     "text": [
      "\r",
      "Upgrading database; v5 -> v6: : 0it [00:00, ?it/s]"
     ]
    },
    {
     "name": "stdout",
     "output_type": "stream",
     "text": [
      "\r",
      "Upgrading database; v5 -> v6: : 0it [00:00, ?it/s]"
     ]
    },
    {
     "name": "stdout",
     "output_type": "stream",
     "text": [
      "\n",
      "\r",
      "  0%|          | 0/1 [00:00<?, ?it/s]"
     ]
    },
    {
     "name": "stdout",
     "output_type": "stream",
     "text": [
      "\r",
      "Upgrading database; v6 -> v7:   0%|          | 0/1 [00:00<?, ?it/s]"
     ]
    },
    {
     "name": "stdout",
     "output_type": "stream",
     "text": [
      "\r",
      "Upgrading database; v6 -> v7: 100%|██████████| 1/1 [00:00<00:00, 444.12it/s]"
     ]
    },
    {
     "name": "stdout",
     "output_type": "stream",
     "text": [
      "\n",
      "\r",
      "  0%|          | 0/1 [00:00<?, ?it/s]"
     ]
    },
    {
     "name": "stdout",
     "output_type": "stream",
     "text": [
      "\r",
      "Upgrading database; v7 -> v8:   0%|          | 0/1 [00:00<?, ?it/s]"
     ]
    },
    {
     "name": "stdout",
     "output_type": "stream",
     "text": [
      "\r",
      "Upgrading database; v7 -> v8: 100%|██████████| 1/1 [00:00<00:00, 690.31it/s]"
     ]
    },
    {
     "name": "stdout",
     "output_type": "stream",
     "text": [
      "\n",
      "\r",
      "  0%|          | 0/1 [00:00<?, ?it/s]"
     ]
    },
    {
     "name": "stdout",
     "output_type": "stream",
     "text": [
      "\r",
      "Upgrading database; v8 -> v9:   0%|          | 0/1 [00:00<?, ?it/s]"
     ]
    },
    {
     "name": "stdout",
     "output_type": "stream",
     "text": [
      "\r",
      "Upgrading database; v8 -> v9: 100%|██████████| 1/1 [00:00<00:00, 956.51it/s]"
     ]
    },
    {
     "name": "stdout",
     "output_type": "stream",
     "text": [
      "\n"
     ]
    }
   ],
   "source": [
    "initialise_database()\n",
    "exp = load_or_create_experiment(experiment_name='tutorial_exp', sample_name=\"no sample\")"
   ]
  },
  {
   "cell_type": "markdown",
   "metadata": {},
   "source": [
    "Here, we define a simple function to benchmark the time it takes to insert n points with either numeric or array data type.\n",
    "We will compare both the time used to call ``add_result`` and the time used for the full measurement."
   ]
  },
  {
   "cell_type": "code",
   "execution_count": 4,
   "metadata": {},
   "outputs": [],
   "source": [
    "def insert_data(paramtype, npoints, nreps=1):\n",
    "\n",
    "    meas = Measurement(exp=exp)\n",
    "\n",
    "    x1 = ManualParameter('x1')\n",
    "    x2 = ManualParameter('x2')\n",
    "    x3 = ManualParameter('x3')\n",
    "    y1 = ManualParameter('y1')\n",
    "    y2 = ManualParameter('y2')\n",
    "\n",
    "    meas.register_parameter(x1, paramtype=paramtype)\n",
    "    meas.register_parameter(x2, paramtype=paramtype)\n",
    "    meas.register_parameter(x3, paramtype=paramtype)\n",
    "    meas.register_parameter(y1, setpoints=[x1, x2, x3],\n",
    "                            paramtype=paramtype)\n",
    "    meas.register_parameter(y2, setpoints=[x1, x2, x3],\n",
    "                            paramtype=paramtype)\n",
    "    start = time.perf_counter()\n",
    "    with meas.run() as datasaver:\n",
    "        start_adding = time.perf_counter()\n",
    "        for i in range(nreps):\n",
    "            datasaver.add_result((x1, np.random.rand(npoints)),\n",
    "                                 (x2, np.random.rand(npoints)),\n",
    "                                 (x3, np.random.rand(npoints)),\n",
    "                                 (y1, np.random.rand(npoints)),\n",
    "                                 (y2, np.random.rand(npoints)))\n",
    "        stop_adding = time.perf_counter()\n",
    "        run_id = datasaver.run_id\n",
    "    stop = time.perf_counter()\n",
    "    tot_time = stop - start\n",
    "    add_time = stop_adding - start_adding\n",
    "    return tot_time, add_time, run_id"
   ]
  },
  {
   "cell_type": "markdown",
   "metadata": {},
   "source": [
    "## Comparison between numeric/array data and binary blob"
   ]
  },
  {
   "cell_type": "markdown",
   "metadata": {},
   "source": [
    "### Case1: Short experiment time"
   ]
  },
  {
   "cell_type": "code",
   "execution_count": 5,
   "metadata": {},
   "outputs": [
    {
     "name": "stdout",
     "output_type": "stream",
     "text": [
      "Starting experimental run with id: 1. \n",
      "Starting experimental run with id: 2. \n",
      "Starting experimental run with id: 3. \n"
     ]
    },
    {
     "name": "stdout",
     "output_type": "stream",
     "text": [
      "Starting experimental run with id: 4. \n"
     ]
    },
    {
     "name": "stdout",
     "output_type": "stream",
     "text": [
      "Starting experimental run with id: 5. \n"
     ]
    },
    {
     "name": "stdout",
     "output_type": "stream",
     "text": [
      "Starting experimental run with id: 6. \n"
     ]
    },
    {
     "name": "stdout",
     "output_type": "stream",
     "text": [
      "Starting experimental run with id: 7. \n"
     ]
    },
    {
     "name": "stdout",
     "output_type": "stream",
     "text": [
      "Starting experimental run with id: 8. \n",
      "Starting experimental run with id: 9. \n"
     ]
    },
    {
     "name": "stdout",
     "output_type": "stream",
     "text": [
      "Starting experimental run with id: 10. \n",
      "Starting experimental run with id: 11. \n"
     ]
    },
    {
     "name": "stdout",
     "output_type": "stream",
     "text": [
      "Starting experimental run with id: 12. \n",
      "Starting experimental run with id: 13. \n"
     ]
    },
    {
     "name": "stdout",
     "output_type": "stream",
     "text": [
      "Starting experimental run with id: 14. \n"
     ]
    }
   ],
   "source": [
    "sizes = [1,500,1000,2000,3000,4000,5000]\n",
    "t_numeric = []\n",
    "t_numeric_add = []\n",
    "t_array = []\n",
    "t_array_add = []\n",
    "for size in sizes:\n",
    "    tn, tna, run_id_n =  insert_data('numeric', size)\n",
    "    t_numeric.append(tn)\n",
    "    t_numeric_add.append(tna)\n",
    "\n",
    "    ta, taa, run_id_a =  insert_data('array', size)\n",
    "    t_array.append(ta)\n",
    "    t_array_add.append(taa)"
   ]
  },
  {
   "cell_type": "code",
   "execution_count": 6,
   "metadata": {},
   "outputs": [
    {
     "data": {
      "image/png": "[encoded data removed]",
      "text/plain": [
       "<Figure size 432x288 with 1 Axes>"
      ]
     },
     "metadata": {
      "needs_background": "light"
     },
     "output_type": "display_data"
    }
   ],
   "source": [
    "fig, ax = plt.subplots(1,1)\n",
    "ax.plot(sizes, t_numeric, 'o-', label='Inserting row-by-row')\n",
    "ax.plot(sizes, t_numeric_add, 'o-', label='Inserting row-by-row: add_result only')\n",
    "ax.plot(sizes, t_array, 'd-', label='Inserting as binary blob')\n",
    "ax.plot(sizes, t_array_add, 'd-', label='Inserting as binary blob: add_result only')\n",
    "ax.legend()\n",
    "ax.set_xlabel('Array length')\n",
    "ax.set_ylabel('Time (s)')\n",
    "fig.tight_layout()"
   ]
  },
  {
   "cell_type": "markdown",
   "metadata": {},
   "source": [
    "As shown in the latter figure, the time to setup and and close the experiment is approximately 0.4 sec. In case of small array sizes, the difference between inserting values of data as arrays and inserting them row-by-row is relatively unimportant. At larger array sizes, i.e. above 10000 points, the cost of writing data as individual datapoints starts to become important.\n"
   ]
  },
  {
   "cell_type": "markdown",
   "metadata": {},
   "source": [
    "### Case2: Long experiment time "
   ]
  },
  {
   "cell_type": "code",
   "execution_count": 7,
   "metadata": {},
   "outputs": [
    {
     "name": "stdout",
     "output_type": "stream",
     "text": [
      "Starting experimental run with id: 15. \n",
      "Starting experimental run with id: 16. \n",
      "Starting experimental run with id: 17. \n"
     ]
    },
    {
     "name": "stdout",
     "output_type": "stream",
     "text": [
      "Starting experimental run with id: 18. \n",
      "Starting experimental run with id: 19. \n"
     ]
    },
    {
     "name": "stdout",
     "output_type": "stream",
     "text": [
      "Starting experimental run with id: 20. \n"
     ]
    },
    {
     "name": "stdout",
     "output_type": "stream",
     "text": [
      "Starting experimental run with id: 21. \n"
     ]
    },
    {
     "name": "stdout",
     "output_type": "stream",
     "text": [
      "Starting experimental run with id: 22. \n"
     ]
    },
    {
     "name": "stdout",
     "output_type": "stream",
     "text": [
      "Starting experimental run with id: 23. \n"
     ]
    },
    {
     "name": "stdout",
     "output_type": "stream",
     "text": [
      "Starting experimental run with id: 24. \n"
     ]
    },
    {
     "name": "stdout",
     "output_type": "stream",
     "text": [
      "Starting experimental run with id: 25. \n"
     ]
    },
    {
     "name": "stdout",
     "output_type": "stream",
     "text": [
      "Starting experimental run with id: 26. \n"
     ]
    },
    {
     "name": "stdout",
     "output_type": "stream",
     "text": [
      "Starting experimental run with id: 27. \n"
     ]
    },
    {
     "name": "stdout",
     "output_type": "stream",
     "text": [
      "Starting experimental run with id: 28. \n"
     ]
    }
   ],
   "source": [
    "sizes = [1,500,1000,2000,3000,4000,5000]\n",
    "nreps = 100\n",
    "t_numeric = []\n",
    "t_numeric_add = []\n",
    "t_numeric_run_ids = []\n",
    "t_array = []\n",
    "t_array_add = []\n",
    "t_array_run_ids = []\n",
    "for size in sizes:\n",
    "    tn, tna, run_id_n =  insert_data('numeric', size, nreps=nreps)\n",
    "    t_numeric.append(tn)\n",
    "    t_numeric_add.append(tna)\n",
    "    t_numeric_run_ids.append(run_id_n)\n",
    "\n",
    "    ta, taa, run_id_a =  insert_data('array', size, nreps=nreps)\n",
    "    t_array.append(ta)\n",
    "    t_array_add.append(taa)\n",
    "    t_array_run_ids.append(run_id_a)"
   ]
  },
  {
   "cell_type": "code",
   "execution_count": 8,
   "metadata": {
    "scrolled": true
   },
   "outputs": [
    {
     "data": {
      "image/png": "[encoded data removed]",
      "text/plain": [
       "<Figure size 432x288 with 1 Axes>"
      ]
     },
     "metadata": {
      "needs_background": "light"
     },
     "output_type": "display_data"
    }
   ],
   "source": [
    "fig, ax = plt.subplots(1,1)\n",
    "ax.plot(sizes, t_numeric, 'o-', label='Inserting row-by-row')\n",
    "ax.plot(sizes, t_numeric_add, 'o-', label='Inserting row-by-row: add_result only')\n",
    "ax.plot(sizes, t_array, 'd-', label='Inserting as binary blob')\n",
    "ax.plot(sizes, t_array_add, 'd-', label='Inserting as binary blob: add_result only')\n",
    "ax.legend()\n",
    "ax.set_xlabel('Array length')\n",
    "ax.set_ylabel('Time (s)')\n",
    "fig.tight_layout()"
   ]
  },
  {
   "cell_type": "markdown",
   "metadata": {},
   "source": [
    "However, as we increase the length of the experiment, as seen here by repeating the insertion 100 times, we see a big difference between inserting values of the data row-by-row and inserting it as a binary blob."
   ]
  },
  {
   "cell_type": "markdown",
   "metadata": {},
   "source": [
    "## Loading the data "
   ]
  },
  {
   "cell_type": "code",
   "execution_count": 9,
   "metadata": {},
   "outputs": [],
   "source": [
    "from qcodes.dataset.data_set import load_by_id\n",
    "from qcodes.dataset.data_export import get_data_by_id"
   ]
  },
  {
   "cell_type": "markdown",
   "metadata": {},
   "source": [
    "As usual you can load the data by using the ``load_by_id`` function but you will notice that the different storage methods\n",
    "are reflected in shape of the data as it is retrieved. "
   ]
  },
  {
   "cell_type": "code",
   "execution_count": 10,
   "metadata": {},
   "outputs": [],
   "source": [
    "run_id_n = t_numeric_run_ids[0]\n",
    "run_id_a = t_array_run_ids[0]"
   ]
  },
  {
   "cell_type": "code",
   "execution_count": 11,
   "metadata": {
    "scrolled": true
   },
   "outputs": [
    {
     "data": {
      "text/plain": [
       "{'x1': {'x1': array([0.40707356, 0.40707356, 0.16868101, 0.16868101, 0.2963529 ,\n",
       "         0.2963529 , 0.1675631 , 0.1675631 , 0.50211065, 0.50211065,\n",
       "         0.93260776, 0.93260776, 0.3811109 , 0.3811109 , 0.637959  ,\n",
       "         0.637959  , 0.73831329, 0.73831329, 0.27764308, 0.27764308,\n",
       "         0.21310121, 0.21310121, 0.44480727, 0.44480727, 0.88725051,\n",
       "         0.88725051, 0.19097191, 0.19097191, 0.36204863, 0.36204863,\n",
       "         0.7646361 , 0.7646361 , 0.85118587, 0.85118587, 0.70900102,\n",
       "         0.70900102, 0.13485285, 0.13485285, 0.93552221, 0.93552221,\n",
       "         0.71733349, 0.71733349, 0.52890281, 0.52890281, 0.29129721,\n",
       "         0.29129721, 0.04951039, 0.04951039, 0.98872101, 0.98872101,\n",
       "         0.81391137, 0.81391137, 0.89086271, 0.89086271, 0.44563438,\n",
       "         0.44563438, 0.09565163, 0.09565163, 0.95725968, 0.95725968,\n",
       "         0.27422092, 0.27422092, 0.70131337, 0.70131337, 0.1032544 ,\n",
       "         0.1032544 , 0.67918597, 0.67918597, 0.53653921, 0.53653921,\n",
       "         0.97866073, 0.97866073, 0.85331961, 0.85331961, 0.62720004,\n",
       "         0.62720004, 0.42380166, 0.42380166, 0.94071032, 0.94071032,\n",
       "         0.4252178 , 0.4252178 , 0.30057808, 0.30057808, 0.9257345 ,\n",
       "         0.9257345 , 0.44875678, 0.44875678, 0.48073343, 0.48073343,\n",
       "         0.03747665, 0.03747665, 0.16404791, 0.16404791, 0.95625853,\n",
       "         0.95625853, 0.45040332, 0.45040332, 0.2990621 , 0.2990621 ,\n",
       "         0.50835567, 0.50835567, 0.94794575, 0.94794575, 0.38194935,\n",
       "         0.38194935, 0.25354165, 0.25354165, 0.14023596, 0.14023596,\n",
       "         0.34579386, 0.34579386, 0.56412   , 0.56412   , 0.32912684,\n",
       "         0.32912684, 0.7689731 , 0.7689731 , 0.60915889, 0.60915889,\n",
       "         0.39485557, 0.39485557, 0.73187871, 0.73187871, 0.856966  ,\n",
       "         0.856966  , 0.42220497, 0.42220497, 0.55335933, 0.55335933,\n",
       "         0.08820736, 0.08820736, 0.77387131, 0.77387131, 0.75943172,\n",
       "         0.75943172, 0.06341719, 0.06341719, 0.23921971, 0.23921971,\n",
       "         0.71216701, 0.71216701, 0.14773807, 0.14773807, 0.97207758,\n",
       "         0.97207758, 0.91282848, 0.91282848, 0.28581734, 0.28581734,\n",
       "         0.03246631, 0.03246631, 0.79082865, 0.79082865, 0.48022009,\n",
       "         0.48022009, 0.54213793, 0.54213793, 0.33276958, 0.33276958,\n",
       "         0.375089  , 0.375089  , 0.9025854 , 0.9025854 , 0.40322842,\n",
       "         0.40322842, 0.07478812, 0.07478812, 0.22730527, 0.22730527,\n",
       "         0.16146907, 0.16146907, 0.50380575, 0.50380575, 0.06048313,\n",
       "         0.06048313, 0.70307598, 0.70307598, 0.26126714, 0.26126714,\n",
       "         0.60867764, 0.60867764, 0.48597949, 0.48597949, 0.86980929,\n",
       "         0.86980929, 0.86253347, 0.86253347, 0.75368421, 0.75368421,\n",
       "         0.93228692, 0.93228692, 0.1157075 , 0.1157075 , 0.44443488,\n",
       "         0.44443488, 0.95631532, 0.95631532, 0.6599121 , 0.6599121 ])}}"
      ]
     },
     "execution_count": 11,
     "metadata": {},
     "output_type": "execute_result"
    }
   ],
   "source": [
    "ds = load_by_id(run_id_n)\n",
    "ds.get_parameter_data('x1')"
   ]
  },
  {
   "cell_type": "markdown",
   "metadata": {},
   "source": [
    "And a dataset stored as binary arrays"
   ]
  },
  {
   "cell_type": "code",
   "execution_count": 12,
   "metadata": {
    "scrolled": true
   },
   "outputs": [
    {
     "data": {
      "text/plain": [
       "{'x1': {'x1': array([[0.26882801],\n",
       "         [0.26882801],\n",
       "         [0.45727526],\n",
       "         [0.45727526],\n",
       "         [0.19589965],\n",
       "         [0.19589965],\n",
       "         [0.1362956 ],\n",
       "         [0.1362956 ],\n",
       "         [0.99926526],\n",
       "         [0.99926526],\n",
       "         [0.61554786],\n",
       "         [0.61554786],\n",
       "         [0.00247205],\n",
       "         [0.00247205],\n",
       "         [0.90283104],\n",
       "         [0.90283104],\n",
       "         [0.57418487],\n",
       "         [0.57418487],\n",
       "         [0.41956774],\n",
       "         [0.41956774],\n",
       "         [0.56742886],\n",
       "         [0.56742886],\n",
       "         [0.49801288],\n",
       "         [0.49801288],\n",
       "         [0.06646129],\n",
       "         [0.06646129],\n",
       "         [0.67057019],\n",
       "         [0.67057019],\n",
       "         [0.48331231],\n",
       "         [0.48331231],\n",
       "         [0.53143904],\n",
       "         [0.53143904],\n",
       "         [0.64974304],\n",
       "         [0.64974304],\n",
       "         [0.84614734],\n",
       "         [0.84614734],\n",
       "         [0.85870039],\n",
       "         [0.85870039],\n",
       "         [0.34842972],\n",
       "         [0.34842972],\n",
       "         [0.19546858],\n",
       "         [0.19546858],\n",
       "         [0.60405343],\n",
       "         [0.60405343],\n",
       "         [0.53414485],\n",
       "         [0.53414485],\n",
       "         [0.93746979],\n",
       "         [0.93746979],\n",
       "         [0.78433233],\n",
       "         [0.78433233],\n",
       "         [0.40996403],\n",
       "         [0.40996403],\n",
       "         [0.70063906],\n",
       "         [0.70063906],\n",
       "         [0.26177222],\n",
       "         [0.26177222],\n",
       "         [0.63484596],\n",
       "         [0.63484596],\n",
       "         [0.58229191],\n",
       "         [0.58229191],\n",
       "         [0.28906517],\n",
       "         [0.28906517],\n",
       "         [0.96033066],\n",
       "         [0.96033066],\n",
       "         [0.6362691 ],\n",
       "         [0.6362691 ],\n",
       "         [0.87987218],\n",
       "         [0.87987218],\n",
       "         [0.29228916],\n",
       "         [0.29228916],\n",
       "         [0.24640441],\n",
       "         [0.24640441],\n",
       "         [0.7914189 ],\n",
       "         [0.7914189 ],\n",
       "         [0.18957669],\n",
       "         [0.18957669],\n",
       "         [0.71345904],\n",
       "         [0.71345904],\n",
       "         [0.97501947],\n",
       "         [0.97501947],\n",
       "         [0.65100239],\n",
       "         [0.65100239],\n",
       "         [0.00584048],\n",
       "         [0.00584048],\n",
       "         [0.90975975],\n",
       "         [0.90975975],\n",
       "         [0.95056258],\n",
       "         [0.95056258],\n",
       "         [0.45052457],\n",
       "         [0.45052457],\n",
       "         [0.50666174],\n",
       "         [0.50666174],\n",
       "         [0.44162719],\n",
       "         [0.44162719],\n",
       "         [0.11856725],\n",
       "         [0.11856725],\n",
       "         [0.37797443],\n",
       "         [0.37797443],\n",
       "         [0.94047514],\n",
       "         [0.94047514],\n",
       "         [0.52873259],\n",
       "         [0.52873259],\n",
       "         [0.74540038],\n",
       "         [0.74540038],\n",
       "         [0.63765344],\n",
       "         [0.63765344],\n",
       "         [0.46601163],\n",
       "         [0.46601163],\n",
       "         [0.61414237],\n",
       "         [0.61414237],\n",
       "         [0.89054745],\n",
       "         [0.89054745],\n",
       "         [0.34763805],\n",
       "         [0.34763805],\n",
       "         [0.5129911 ],\n",
       "         [0.5129911 ],\n",
       "         [0.68603047],\n",
       "         [0.68603047],\n",
       "         [0.3784888 ],\n",
       "         [0.3784888 ],\n",
       "         [0.98881822],\n",
       "         [0.98881822],\n",
       "         [0.37684138],\n",
       "         [0.37684138],\n",
       "         [0.7280756 ],\n",
       "         [0.7280756 ],\n",
       "         [0.82550867],\n",
       "         [0.82550867],\n",
       "         [0.3870938 ],\n",
       "         [0.3870938 ],\n",
       "         [0.04245886],\n",
       "         [0.04245886],\n",
       "         [0.09990734],\n",
       "         [0.09990734],\n",
       "         [0.97964184],\n",
       "         [0.97964184],\n",
       "         [0.10778928],\n",
       "         [0.10778928],\n",
       "         [0.78246368],\n",
       "         [0.78246368],\n",
       "         [0.64896722],\n",
       "         [0.64896722],\n",
       "         [0.19768065],\n",
       "         [0.19768065],\n",
       "         [0.06782451],\n",
       "         [0.06782451],\n",
       "         [0.95240711],\n",
       "         [0.95240711],\n",
       "         [0.40920824],\n",
       "         [0.40920824],\n",
       "         [0.56713453],\n",
       "         [0.56713453],\n",
       "         [0.62700815],\n",
       "         [0.62700815],\n",
       "         [0.73604481],\n",
       "         [0.73604481],\n",
       "         [0.40740503],\n",
       "         [0.40740503],\n",
       "         [0.95104191],\n",
       "         [0.95104191],\n",
       "         [0.44864224],\n",
       "         [0.44864224],\n",
       "         [0.7450327 ],\n",
       "         [0.7450327 ],\n",
       "         [0.8366233 ],\n",
       "         [0.8366233 ],\n",
       "         [0.85379363],\n",
       "         [0.85379363],\n",
       "         [0.77380056],\n",
       "         [0.77380056],\n",
       "         [0.33484658],\n",
       "         [0.33484658],\n",
       "         [0.20537848],\n",
       "         [0.20537848],\n",
       "         [0.25859458],\n",
       "         [0.25859458],\n",
       "         [0.69888529],\n",
       "         [0.69888529],\n",
       "         [0.8746302 ],\n",
       "         [0.8746302 ],\n",
       "         [0.54500265],\n",
       "         [0.54500265],\n",
       "         [0.15593289],\n",
       "         [0.15593289],\n",
       "         [0.20126726],\n",
       "         [0.20126726],\n",
       "         [0.57738183],\n",
       "         [0.57738183],\n",
       "         [0.4966771 ],\n",
       "         [0.4966771 ],\n",
       "         [0.12640161],\n",
       "         [0.12640161],\n",
       "         [0.7769779 ],\n",
       "         [0.7769779 ],\n",
       "         [0.50775507],\n",
       "         [0.50775507],\n",
       "         [0.11777637],\n",
       "         [0.11777637],\n",
       "         [0.10273141],\n",
       "         [0.10273141]])}}"
      ]
     },
     "execution_count": 12,
     "metadata": {},
     "output_type": "execute_result"
    }
   ],
   "source": [
    "ds = load_by_id(run_id_a)\n",
    "ds.get_parameter_data('x1')"
   ]
  },
  {
   "cell_type": "code",
   "execution_count": null,
   "metadata": {},
   "outputs": [],
   "source": []
  }
 ],
 "metadata": {
  "kernelspec": {
   "display_name": "Python 3",
   "language": "python",
   "name": "python3"
  },
  "language_info": {
   "codemirror_mode": {
    "name": "ipython",
    "version": 3
   },
   "file_extension": ".py",
   "mimetype": "text/x-python",
   "name": "python",
   "nbconvert_exporter": "python",
   "pygments_lexer": "ipython3",
   "version": "3.7.5"
  },
  "nbsphinx": {
   "timeout": 600
  },
  "toc": {
   "base_numbering": 1,
   "nav_menu": {},
   "number_sections": true,
   "sideBar": true,
   "skip_h1_title": false,
   "title_cell": "Table of Contents",
   "title_sidebar": "Contents",
   "toc_cell": false,
   "toc_position": {},
   "toc_section_display": true,
   "toc_window_display": false
  },
  "varInspector": {
   "cols": {
    "lenName": 16,
    "lenType": 16,
    "lenVar": 40
   },
   "kernels_config": {
    "python": {
     "delete_cmd_postfix": "",
     "delete_cmd_prefix": "del ",
     "library": "var_list.py",
     "varRefreshCmd": "print(var_dic_list())"
    },
    "r": {
     "delete_cmd_postfix": ") ",
     "delete_cmd_prefix": "rm(",
     "library": "var_list.r",
     "varRefreshCmd": "cat(var_dic_list()) "
    }
   },
   "types_to_exclude": [
    "module",
    "function",
    "builtin_function_or_method",
    "instance",
    "_Feature"
   ],
   "window_display": false
  }
 },
 "nbformat": 4,
 "nbformat_minor": 2
}
