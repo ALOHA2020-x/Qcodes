{
 "cells": [
  {
   "cell_type": "markdown",
   "metadata": {},
   "source": [
    "# DataSet Performance\n",
    "\n",
    "This notebook shows the trade-off between inserting data into a database row-by-row and as binary blobs. Inserting the data row-by-row means that we have direct access to all the data and may perform queries directly on the values of the data. On the other hand, as we shall see, this is much slower than inserting the data directly as binary blobs."
   ]
  },
  {
   "cell_type": "markdown",
   "metadata": {},
   "source": [
    "First, we choose a new location for the database to ensure that we don't add a bunch of benchmarking data to the default one."
   ]
  },
  {
   "cell_type": "code",
   "execution_count": 1,
   "metadata": {
    "execution": {
     "iopub.execute_input": "2021-02-15T07:54:44.232494Z",
     "iopub.status.busy": "2021-02-15T07:54:44.231543Z",
     "iopub.status.idle": "2021-02-15T07:54:45.030677Z",
     "shell.execute_reply": "2021-02-15T07:54:45.031127Z"
    }
   },
   "outputs": [
    {
     "name": "stdout",
     "output_type": "stream",
     "text": [
      "Logging hadn't been started.\n",
      "Activating auto-logging. Current session state plus future input saved.\n",
      "Filename       : /home/runner/.qcodes/logs/command_history.log\n",
      "Mode           : append\n",
      "Output logging : True\n",
      "Raw input log  : False\n",
      "Timestamping   : True\n",
      "State          : active\n"
     ]
    },
    {
     "name": "stdout",
     "output_type": "stream",
     "text": [
      "Qcodes Logfile : /home/runner/.qcodes/logs/210215-3632-qcodes.log\n"
     ]
    }
   ],
   "source": [
    "import os\n",
    "cwd = os.getcwd()\n",
    "import qcodes as qc\n",
    "qc.config[\"core\"][\"db_location\"] = os.path.join(cwd, 'testing.db')\n"
   ]
  },
  {
   "cell_type": "code",
   "execution_count": 2,
   "metadata": {
    "execution": {
     "iopub.execute_input": "2021-02-15T07:54:45.038062Z",
     "iopub.status.busy": "2021-02-15T07:54:45.036551Z",
     "iopub.status.idle": "2021-02-15T07:54:45.212674Z",
     "shell.execute_reply": "2021-02-15T07:54:45.213156Z"
    }
   },
   "outputs": [],
   "source": [
    "%matplotlib inline\n",
    "import time\n",
    "import matplotlib.pyplot as plt\n",
    "import numpy as np\n",
    "\n",
    "import qcodes as qc\n",
    "from qcodes.instrument.parameter import ManualParameter\n",
    "from qcodes.dataset.experiment_container import (Experiment,\n",
    "                                                 load_last_experiment,\n",
    "                                                 new_experiment)\n",
    "from qcodes.dataset.sqlite.database import initialise_database\n",
    "from qcodes import load_or_create_experiment\n",
    "from qcodes.dataset.measurements import Measurement"
   ]
  },
  {
   "cell_type": "code",
   "execution_count": 3,
   "metadata": {
    "execution": {
     "iopub.execute_input": "2021-02-15T07:54:45.216968Z",
     "iopub.status.busy": "2021-02-15T07:54:45.216341Z",
     "iopub.status.idle": "2021-02-15T07:54:45.335937Z",
     "shell.execute_reply": "2021-02-15T07:54:45.335474Z"
    }
   },
   "outputs": [
    {
     "name": "stdout",
     "output_type": "stream",
     "text": [
      "\r",
      "0it [00:00, ?it/s]"
     ]
    },
    {
     "name": "stdout",
     "output_type": "stream",
     "text": [
      "\r",
      "Upgrading database; v0 -> v1: : 0it [00:00, ?it/s]"
     ]
    },
    {
     "name": "stdout",
     "output_type": "stream",
     "text": [
      "\r",
      "Upgrading database; v0 -> v1: : 0it [00:00, ?it/s]"
     ]
    },
    {
     "name": "stdout",
     "output_type": "stream",
     "text": [
      "\n",
      "\r",
      "  0%|          | 0/1 [00:00<?, ?it/s]"
     ]
    },
    {
     "name": "stdout",
     "output_type": "stream",
     "text": [
      "\r",
      "Upgrading database; v1 -> v2:   0%|          | 0/1 [00:00<?, ?it/s]"
     ]
    },
    {
     "name": "stdout",
     "output_type": "stream",
     "text": [
      "\r",
      "Upgrading database; v1 -> v2: 100%|██████████| 1/1 [00:00<00:00, 506.68it/s]"
     ]
    },
    {
     "name": "stdout",
     "output_type": "stream",
     "text": [
      "\n",
      "\r",
      "0it [00:00, ?it/s]"
     ]
    },
    {
     "name": "stdout",
     "output_type": "stream",
     "text": [
      "\r",
      "Upgrading database; v2 -> v3: : 0it [00:00, ?it/s]"
     ]
    },
    {
     "name": "stdout",
     "output_type": "stream",
     "text": [
      "\r",
      "Upgrading database; v2 -> v3: : 0it [00:00, ?it/s]"
     ]
    },
    {
     "name": "stdout",
     "output_type": "stream",
     "text": [
      "\n",
      "\r",
      "0it [00:00, ?it/s]"
     ]
    },
    {
     "name": "stdout",
     "output_type": "stream",
     "text": [
      "\r",
      "Upgrading database; v3 -> v4: : 0it [00:00, ?it/s]"
     ]
    },
    {
     "name": "stdout",
     "output_type": "stream",
     "text": [
      "\r",
      "Upgrading database; v3 -> v4: : 0it [00:00, ?it/s]"
     ]
    },
    {
     "name": "stdout",
     "output_type": "stream",
     "text": [
      "\n",
      "\r",
      "  0%|          | 0/1 [00:00<?, ?it/s]"
     ]
    },
    {
     "name": "stdout",
     "output_type": "stream",
     "text": [
      "\r",
      "Upgrading database; v4 -> v5:   0%|          | 0/1 [00:00<?, ?it/s]"
     ]
    },
    {
     "name": "stdout",
     "output_type": "stream",
     "text": [
      "\r",
      "Upgrading database; v4 -> v5: 100%|██████████| 1/1 [00:00<00:00, 1179.17it/s]"
     ]
    },
    {
     "name": "stdout",
     "output_type": "stream",
     "text": [
      "\n",
      "\r",
      "0it [00:00, ?it/s]"
     ]
    },
    {
     "name": "stdout",
     "output_type": "stream",
     "text": [
      "\r",
      "Upgrading database; v5 -> v6: : 0it [00:00, ?it/s]"
     ]
    },
    {
     "name": "stdout",
     "output_type": "stream",
     "text": [
      "\r",
      "Upgrading database; v5 -> v6: : 0it [00:00, ?it/s]"
     ]
    },
    {
     "name": "stdout",
     "output_type": "stream",
     "text": [
      "\n",
      "\r",
      "  0%|          | 0/1 [00:00<?, ?it/s]"
     ]
    },
    {
     "name": "stdout",
     "output_type": "stream",
     "text": [
      "\r",
      "Upgrading database; v6 -> v7:   0%|          | 0/1 [00:00<?, ?it/s]"
     ]
    },
    {
     "name": "stdout",
     "output_type": "stream",
     "text": [
      "\r",
      "Upgrading database; v6 -> v7: 100%|██████████| 1/1 [00:00<00:00, 522.26it/s]"
     ]
    },
    {
     "name": "stdout",
     "output_type": "stream",
     "text": [
      "\n",
      "\r",
      "  0%|          | 0/1 [00:00<?, ?it/s]"
     ]
    },
    {
     "name": "stdout",
     "output_type": "stream",
     "text": [
      "\r",
      "Upgrading database; v7 -> v8:   0%|          | 0/1 [00:00<?, ?it/s]"
     ]
    },
    {
     "name": "stdout",
     "output_type": "stream",
     "text": [
      "\r",
      "Upgrading database; v7 -> v8: 100%|██████████| 1/1 [00:00<00:00, 590.33it/s]"
     ]
    },
    {
     "name": "stdout",
     "output_type": "stream",
     "text": [
      "\n",
      "\r",
      "  0%|          | 0/1 [00:00<?, ?it/s]"
     ]
    },
    {
     "name": "stdout",
     "output_type": "stream",
     "text": [
      "\r",
      "Upgrading database; v8 -> v9:   0%|          | 0/1 [00:00<?, ?it/s]"
     ]
    },
    {
     "name": "stdout",
     "output_type": "stream",
     "text": [
      "\r",
      "Upgrading database; v8 -> v9: 100%|██████████| 1/1 [00:00<00:00, 619.54it/s]"
     ]
    },
    {
     "name": "stdout",
     "output_type": "stream",
     "text": [
      "\n"
     ]
    }
   ],
   "source": [
    "initialise_database()\n",
    "exp = load_or_create_experiment(experiment_name='tutorial_exp', sample_name=\"no sample\")"
   ]
  },
  {
   "cell_type": "markdown",
   "metadata": {},
   "source": [
    "Here, we define a simple function to benchmark the time it takes to insert n points with either numeric or array data type.\n",
    "We will compare both the time used to call ``add_result`` and the time used for the full measurement."
   ]
  },
  {
   "cell_type": "code",
   "execution_count": 4,
   "metadata": {
    "execution": {
     "iopub.execute_input": "2021-02-15T07:54:45.343507Z",
     "iopub.status.busy": "2021-02-15T07:54:45.342129Z",
     "iopub.status.idle": "2021-02-15T07:54:45.346395Z",
     "shell.execute_reply": "2021-02-15T07:54:45.345958Z"
    }
   },
   "outputs": [],
   "source": [
    "def insert_data(paramtype, npoints, nreps=1):\n",
    "\n",
    "    meas = Measurement(exp=exp)\n",
    "\n",
    "    x1 = ManualParameter('x1')\n",
    "    x2 = ManualParameter('x2')\n",
    "    x3 = ManualParameter('x3')\n",
    "    y1 = ManualParameter('y1')\n",
    "    y2 = ManualParameter('y2')\n",
    "\n",
    "    meas.register_parameter(x1, paramtype=paramtype)\n",
    "    meas.register_parameter(x2, paramtype=paramtype)\n",
    "    meas.register_parameter(x3, paramtype=paramtype)\n",
    "    meas.register_parameter(y1, setpoints=[x1, x2, x3],\n",
    "                            paramtype=paramtype)\n",
    "    meas.register_parameter(y2, setpoints=[x1, x2, x3],\n",
    "                            paramtype=paramtype)\n",
    "    start = time.perf_counter()\n",
    "    with meas.run() as datasaver:\n",
    "        start_adding = time.perf_counter()\n",
    "        for i in range(nreps):\n",
    "            datasaver.add_result((x1, np.random.rand(npoints)),\n",
    "                                 (x2, np.random.rand(npoints)),\n",
    "                                 (x3, np.random.rand(npoints)),\n",
    "                                 (y1, np.random.rand(npoints)),\n",
    "                                 (y2, np.random.rand(npoints)))\n",
    "        stop_adding = time.perf_counter()\n",
    "        run_id = datasaver.run_id\n",
    "    stop = time.perf_counter()\n",
    "    tot_time = stop - start\n",
    "    add_time = stop_adding - start_adding\n",
    "    return tot_time, add_time, run_id"
   ]
  },
  {
   "cell_type": "markdown",
   "metadata": {},
   "source": [
    "## Comparison between numeric/array data and binary blob"
   ]
  },
  {
   "cell_type": "markdown",
   "metadata": {},
   "source": [
    "### Case1: Short experiment time"
   ]
  },
  {
   "cell_type": "code",
   "execution_count": 5,
   "metadata": {
    "execution": {
     "iopub.execute_input": "2021-02-15T07:54:45.352638Z",
     "iopub.status.busy": "2021-02-15T07:54:45.350247Z",
     "iopub.status.idle": "2021-02-15T07:54:46.119065Z",
     "shell.execute_reply": "2021-02-15T07:54:46.118501Z"
    }
   },
   "outputs": [
    {
     "name": "stdout",
     "output_type": "stream",
     "text": [
      "Starting experimental run with id: 1. \n",
      "Starting experimental run with id: 2. \n",
      "Starting experimental run with id: 3. \n",
      "Starting experimental run with id: 4. \n",
      "Starting experimental run with id: 5. \n"
     ]
    },
    {
     "name": "stdout",
     "output_type": "stream",
     "text": [
      "Starting experimental run with id: 6. \n"
     ]
    },
    {
     "name": "stdout",
     "output_type": "stream",
     "text": [
      "Starting experimental run with id: 7. \n"
     ]
    },
    {
     "name": "stdout",
     "output_type": "stream",
     "text": [
      "Starting experimental run with id: 8. \n"
     ]
    },
    {
     "name": "stdout",
     "output_type": "stream",
     "text": [
      "Starting experimental run with id: 9. \n"
     ]
    },
    {
     "name": "stdout",
     "output_type": "stream",
     "text": [
      "Starting experimental run with id: 10. \n"
     ]
    },
    {
     "name": "stdout",
     "output_type": "stream",
     "text": [
      "Starting experimental run with id: 11. \n"
     ]
    },
    {
     "name": "stdout",
     "output_type": "stream",
     "text": [
      "Starting experimental run with id: 12. \n",
      "Starting experimental run with id: 13. \n"
     ]
    },
    {
     "name": "stdout",
     "output_type": "stream",
     "text": [
      "Starting experimental run with id: 14. \n"
     ]
    }
   ],
   "source": [
    "sizes = [1,500,1000,2000,3000,4000,5000]\n",
    "t_numeric = []\n",
    "t_numeric_add = []\n",
    "t_array = []\n",
    "t_array_add = []\n",
    "for size in sizes:\n",
    "    tn, tna, run_id_n =  insert_data('numeric', size)\n",
    "    t_numeric.append(tn)\n",
    "    t_numeric_add.append(tna)\n",
    "\n",
    "    ta, taa, run_id_a =  insert_data('array', size)\n",
    "    t_array.append(ta)\n",
    "    t_array_add.append(taa)"
   ]
  },
  {
   "cell_type": "code",
   "execution_count": 6,
   "metadata": {
    "execution": {
     "iopub.execute_input": "2021-02-15T07:54:46.136142Z",
     "iopub.status.busy": "2021-02-15T07:54:46.135590Z",
     "iopub.status.idle": "2021-02-15T07:54:46.307677Z",
     "shell.execute_reply": "2021-02-15T07:54:46.307199Z"
    }
   },
   "outputs": [
    {
     "data": {
      "image/png": "[encoded data removed]",
      "text/plain": [
       "<Figure size 432x288 with 1 Axes>"
      ]
     },
     "metadata": {
      "needs_background": "light"
     },
     "output_type": "display_data"
    }
   ],
   "source": [
    "fig, ax = plt.subplots(1,1)\n",
    "ax.plot(sizes, t_numeric, 'o-', label='Inserting row-by-row')\n",
    "ax.plot(sizes, t_numeric_add, 'o-', label='Inserting row-by-row: add_result only')\n",
    "ax.plot(sizes, t_array, 'd-', label='Inserting as binary blob')\n",
    "ax.plot(sizes, t_array_add, 'd-', label='Inserting as binary blob: add_result only')\n",
    "ax.legend()\n",
    "ax.set_xlabel('Array length')\n",
    "ax.set_ylabel('Time (s)')\n",
    "fig.tight_layout()"
   ]
  },
  {
   "cell_type": "markdown",
   "metadata": {},
   "source": [
    "As shown in the latter figure, the time to setup and and close the experiment is approximately 0.4 sec. In case of small array sizes, the difference between inserting values of data as arrays and inserting them row-by-row is relatively unimportant. At larger array sizes, i.e. above 10000 points, the cost of writing data as individual datapoints starts to become important.\n"
   ]
  },
  {
   "cell_type": "markdown",
   "metadata": {},
   "source": [
    "### Case2: Long experiment time "
   ]
  },
  {
   "cell_type": "code",
   "execution_count": 7,
   "metadata": {
    "execution": {
     "iopub.execute_input": "2021-02-15T07:54:46.315297Z",
     "iopub.status.busy": "2021-02-15T07:54:46.314393Z",
     "iopub.status.idle": "2021-02-15T07:55:40.587129Z",
     "shell.execute_reply": "2021-02-15T07:55:40.586555Z"
    }
   },
   "outputs": [
    {
     "name": "stdout",
     "output_type": "stream",
     "text": [
      "Starting experimental run with id: 15. \n",
      "Starting experimental run with id: 16. \n",
      "Starting experimental run with id: 17. \n"
     ]
    },
    {
     "name": "stdout",
     "output_type": "stream",
     "text": [
      "Starting experimental run with id: 18. \n",
      "Starting experimental run with id: 19. \n"
     ]
    },
    {
     "name": "stdout",
     "output_type": "stream",
     "text": [
      "Starting experimental run with id: 20. \n"
     ]
    },
    {
     "name": "stdout",
     "output_type": "stream",
     "text": [
      "Starting experimental run with id: 21. \n"
     ]
    },
    {
     "name": "stdout",
     "output_type": "stream",
     "text": [
      "Starting experimental run with id: 22. \n"
     ]
    },
    {
     "name": "stdout",
     "output_type": "stream",
     "text": [
      "Starting experimental run with id: 23. \n"
     ]
    },
    {
     "name": "stdout",
     "output_type": "stream",
     "text": [
      "Starting experimental run with id: 24. \n"
     ]
    },
    {
     "name": "stdout",
     "output_type": "stream",
     "text": [
      "Starting experimental run with id: 25. \n"
     ]
    },
    {
     "name": "stdout",
     "output_type": "stream",
     "text": [
      "Starting experimental run with id: 26. \n"
     ]
    },
    {
     "name": "stdout",
     "output_type": "stream",
     "text": [
      "Starting experimental run with id: 27. \n"
     ]
    },
    {
     "name": "stdout",
     "output_type": "stream",
     "text": [
      "Starting experimental run with id: 28. \n"
     ]
    }
   ],
   "source": [
    "sizes = [1,500,1000,2000,3000,4000,5000]\n",
    "nreps = 100\n",
    "t_numeric = []\n",
    "t_numeric_add = []\n",
    "t_numeric_run_ids = []\n",
    "t_array = []\n",
    "t_array_add = []\n",
    "t_array_run_ids = []\n",
    "for size in sizes:\n",
    "    tn, tna, run_id_n =  insert_data('numeric', size, nreps=nreps)\n",
    "    t_numeric.append(tn)\n",
    "    t_numeric_add.append(tna)\n",
    "    t_numeric_run_ids.append(run_id_n)\n",
    "\n",
    "    ta, taa, run_id_a =  insert_data('array', size, nreps=nreps)\n",
    "    t_array.append(ta)\n",
    "    t_array_add.append(taa)\n",
    "    t_array_run_ids.append(run_id_a)"
   ]
  },
  {
   "cell_type": "code",
   "execution_count": 8,
   "metadata": {
    "execution": {
     "iopub.execute_input": "2021-02-15T07:55:40.611562Z",
     "iopub.status.busy": "2021-02-15T07:55:40.603999Z",
     "iopub.status.idle": "2021-02-15T07:55:40.776914Z",
     "shell.execute_reply": "2021-02-15T07:55:40.776471Z"
    },
    "scrolled": true
   },
   "outputs": [
    {
     "data": {
      "image/png": "[encoded data removed]",
      "text/plain": [
       "<Figure size 432x288 with 1 Axes>"
      ]
     },
     "metadata": {
      "needs_background": "light"
     },
     "output_type": "display_data"
    }
   ],
   "source": [
    "fig, ax = plt.subplots(1,1)\n",
    "ax.plot(sizes, t_numeric, 'o-', label='Inserting row-by-row')\n",
    "ax.plot(sizes, t_numeric_add, 'o-', label='Inserting row-by-row: add_result only')\n",
    "ax.plot(sizes, t_array, 'd-', label='Inserting as binary blob')\n",
    "ax.plot(sizes, t_array_add, 'd-', label='Inserting as binary blob: add_result only')\n",
    "ax.legend()\n",
    "ax.set_xlabel('Array length')\n",
    "ax.set_ylabel('Time (s)')\n",
    "fig.tight_layout()"
   ]
  },
  {
   "cell_type": "markdown",
   "metadata": {},
   "source": [
    "However, as we increase the length of the experiment, as seen here by repeating the insertion 100 times, we see a big difference between inserting values of the data row-by-row and inserting it as a binary blob."
   ]
  },
  {
   "cell_type": "markdown",
   "metadata": {},
   "source": [
    "## Loading the data "
   ]
  },
  {
   "cell_type": "code",
   "execution_count": 9,
   "metadata": {
    "execution": {
     "iopub.execute_input": "2021-02-15T07:55:40.781028Z",
     "iopub.status.busy": "2021-02-15T07:55:40.780141Z",
     "iopub.status.idle": "2021-02-15T07:55:40.782790Z",
     "shell.execute_reply": "2021-02-15T07:55:40.783206Z"
    }
   },
   "outputs": [],
   "source": [
    "from qcodes.dataset.data_set import load_by_id\n",
    "from qcodes.dataset.data_export import get_data_by_id"
   ]
  },
  {
   "cell_type": "markdown",
   "metadata": {},
   "source": [
    "As usual you can load the data by using the ``load_by_id`` function but you will notice that the different storage methods\n",
    "are reflected in shape of the data as it is retrieved. "
   ]
  },
  {
   "cell_type": "code",
   "execution_count": 10,
   "metadata": {
    "execution": {
     "iopub.execute_input": "2021-02-15T07:55:40.787413Z",
     "iopub.status.busy": "2021-02-15T07:55:40.786411Z",
     "iopub.status.idle": "2021-02-15T07:55:40.788065Z",
     "shell.execute_reply": "2021-02-15T07:55:40.788470Z"
    }
   },
   "outputs": [],
   "source": [
    "run_id_n = t_numeric_run_ids[0]\n",
    "run_id_a = t_array_run_ids[0]"
   ]
  },
  {
   "cell_type": "code",
   "execution_count": 11,
   "metadata": {
    "execution": {
     "iopub.execute_input": "2021-02-15T07:55:40.791475Z",
     "iopub.status.busy": "2021-02-15T07:55:40.790981Z",
     "iopub.status.idle": "2021-02-15T07:55:40.799470Z",
     "shell.execute_reply": "2021-02-15T07:55:40.799867Z"
    },
    "scrolled": true
   },
   "outputs": [
    {
     "data": {
      "text/plain": [
       "{'x1': {'x1': array([0.06872047, 0.06872047, 0.29400843, 0.29400843, 0.00762832,\n",
       "         0.00762832, 0.43442549, 0.43442549, 0.25374038, 0.25374038,\n",
       "         0.08239635, 0.08239635, 0.89416386, 0.89416386, 0.72107488,\n",
       "         0.72107488, 0.32614947, 0.32614947, 0.55693755, 0.55693755,\n",
       "         0.06486139, 0.06486139, 0.4636345 , 0.4636345 , 0.80057474,\n",
       "         0.80057474, 0.60070216, 0.60070216, 0.65852494, 0.65852494,\n",
       "         0.69112254, 0.69112254, 0.26347634, 0.26347634, 0.17395383,\n",
       "         0.17395383, 0.54115564, 0.54115564, 0.20645672, 0.20645672,\n",
       "         0.43661893, 0.43661893, 0.18957951, 0.18957951, 0.88152054,\n",
       "         0.88152054, 0.40148135, 0.40148135, 0.66445438, 0.66445438,\n",
       "         0.96190833, 0.96190833, 0.70679579, 0.70679579, 0.57281538,\n",
       "         0.57281538, 0.93021339, 0.93021339, 0.58416538, 0.58416538,\n",
       "         0.08509418, 0.08509418, 0.43464224, 0.43464224, 0.46279844,\n",
       "         0.46279844, 0.98958519, 0.98958519, 0.40514131, 0.40514131,\n",
       "         0.66408966, 0.66408966, 0.05050829, 0.05050829, 0.60807281,\n",
       "         0.60807281, 0.23585073, 0.23585073, 0.22726276, 0.22726276,\n",
       "         0.81502926, 0.81502926, 0.6233778 , 0.6233778 , 0.92601761,\n",
       "         0.92601761, 0.95339674, 0.95339674, 0.10119178, 0.10119178,\n",
       "         0.11086028, 0.11086028, 0.11643991, 0.11643991, 0.35172217,\n",
       "         0.35172217, 0.30781113, 0.30781113, 0.346076  , 0.346076  ,\n",
       "         0.91570669, 0.91570669, 0.35749215, 0.35749215, 0.6402431 ,\n",
       "         0.6402431 , 0.89697276, 0.89697276, 0.08933089, 0.08933089,\n",
       "         0.30100538, 0.30100538, 0.12720468, 0.12720468, 0.97484755,\n",
       "         0.97484755, 0.40683131, 0.40683131, 0.20334286, 0.20334286,\n",
       "         0.20146432, 0.20146432, 0.06465028, 0.06465028, 0.2652301 ,\n",
       "         0.2652301 , 0.9255277 , 0.9255277 , 0.79157955, 0.79157955,\n",
       "         0.07280104, 0.07280104, 0.341911  , 0.341911  , 0.17212909,\n",
       "         0.17212909, 0.47980554, 0.47980554, 0.21689139, 0.21689139,\n",
       "         0.37821469, 0.37821469, 0.4076638 , 0.4076638 , 0.87834199,\n",
       "         0.87834199, 0.7250808 , 0.7250808 , 0.31938968, 0.31938968,\n",
       "         0.21245561, 0.21245561, 0.67890039, 0.67890039, 0.37782272,\n",
       "         0.37782272, 0.15526028, 0.15526028, 0.24454432, 0.24454432,\n",
       "         0.72450843, 0.72450843, 0.0204006 , 0.0204006 , 0.96328388,\n",
       "         0.96328388, 0.60674345, 0.60674345, 0.44634308, 0.44634308,\n",
       "         0.80096644, 0.80096644, 0.41640915, 0.41640915, 0.87156134,\n",
       "         0.87156134, 0.3112545 , 0.3112545 , 0.58194658, 0.58194658,\n",
       "         0.79373396, 0.79373396, 0.8577857 , 0.8577857 , 0.26794362,\n",
       "         0.26794362, 0.25610804, 0.25610804, 0.57366413, 0.57366413,\n",
       "         0.00282667, 0.00282667, 0.3886063 , 0.3886063 , 0.86077191,\n",
       "         0.86077191, 0.95909879, 0.95909879, 0.94850412, 0.94850412])}}"
      ]
     },
     "execution_count": 1,
     "metadata": {},
     "output_type": "execute_result"
    }
   ],
   "source": [
    "ds = load_by_id(run_id_n)\n",
    "ds.get_parameter_data('x1')"
   ]
  },
  {
   "cell_type": "markdown",
   "metadata": {},
   "source": [
    "And a dataset stored as binary arrays"
   ]
  },
  {
   "cell_type": "code",
   "execution_count": 12,
   "metadata": {
    "execution": {
     "iopub.execute_input": "2021-02-15T07:55:40.803331Z",
     "iopub.status.busy": "2021-02-15T07:55:40.802799Z",
     "iopub.status.idle": "2021-02-15T07:55:40.852243Z",
     "shell.execute_reply": "2021-02-15T07:55:40.852741Z"
    },
    "scrolled": true
   },
   "outputs": [
    {
     "data": {
      "text/plain": [
       "{'x1': {'x1': array([[0.79655859],\n",
       "         [0.79655859],\n",
       "         [0.8276675 ],\n",
       "         [0.8276675 ],\n",
       "         [0.78194215],\n",
       "         [0.78194215],\n",
       "         [0.96539815],\n",
       "         [0.96539815],\n",
       "         [0.86370391],\n",
       "         [0.86370391],\n",
       "         [0.09597819],\n",
       "         [0.09597819],\n",
       "         [0.78745378],\n",
       "         [0.78745378],\n",
       "         [0.03839708],\n",
       "         [0.03839708],\n",
       "         [0.64961821],\n",
       "         [0.64961821],\n",
       "         [0.08366383],\n",
       "         [0.08366383],\n",
       "         [0.21746957],\n",
       "         [0.21746957],\n",
       "         [0.24606355],\n",
       "         [0.24606355],\n",
       "         [0.8268617 ],\n",
       "         [0.8268617 ],\n",
       "         [0.41277927],\n",
       "         [0.41277927],\n",
       "         [0.15241992],\n",
       "         [0.15241992],\n",
       "         [0.72321977],\n",
       "         [0.72321977],\n",
       "         [0.2762522 ],\n",
       "         [0.2762522 ],\n",
       "         [0.8751449 ],\n",
       "         [0.8751449 ],\n",
       "         [0.43758808],\n",
       "         [0.43758808],\n",
       "         [0.06129586],\n",
       "         [0.06129586],\n",
       "         [0.31137813],\n",
       "         [0.31137813],\n",
       "         [0.60502001],\n",
       "         [0.60502001],\n",
       "         [0.18676355],\n",
       "         [0.18676355],\n",
       "         [0.14370523],\n",
       "         [0.14370523],\n",
       "         [0.60489277],\n",
       "         [0.60489277],\n",
       "         [0.30228473],\n",
       "         [0.30228473],\n",
       "         [0.34350023],\n",
       "         [0.34350023],\n",
       "         [0.78755475],\n",
       "         [0.78755475],\n",
       "         [0.43914932],\n",
       "         [0.43914932],\n",
       "         [0.07108343],\n",
       "         [0.07108343],\n",
       "         [0.08823409],\n",
       "         [0.08823409],\n",
       "         [0.72968296],\n",
       "         [0.72968296],\n",
       "         [0.6009976 ],\n",
       "         [0.6009976 ],\n",
       "         [0.45363549],\n",
       "         [0.45363549],\n",
       "         [0.31697951],\n",
       "         [0.31697951],\n",
       "         [0.98407691],\n",
       "         [0.98407691],\n",
       "         [0.70788498],\n",
       "         [0.70788498],\n",
       "         [0.0110475 ],\n",
       "         [0.0110475 ],\n",
       "         [0.6850153 ],\n",
       "         [0.6850153 ],\n",
       "         [0.56002298],\n",
       "         [0.56002298],\n",
       "         [0.10084648],\n",
       "         [0.10084648],\n",
       "         [0.45108493],\n",
       "         [0.45108493],\n",
       "         [0.20219162],\n",
       "         [0.20219162],\n",
       "         [0.65084707],\n",
       "         [0.65084707],\n",
       "         [0.54051545],\n",
       "         [0.54051545],\n",
       "         [0.60066507],\n",
       "         [0.60066507],\n",
       "         [0.50578991],\n",
       "         [0.50578991],\n",
       "         [0.18035532],\n",
       "         [0.18035532],\n",
       "         [0.60956485],\n",
       "         [0.60956485],\n",
       "         [0.62122525],\n",
       "         [0.62122525],\n",
       "         [0.16620461],\n",
       "         [0.16620461],\n",
       "         [0.92628695],\n",
       "         [0.92628695],\n",
       "         [0.09498472],\n",
       "         [0.09498472],\n",
       "         [0.14687965],\n",
       "         [0.14687965],\n",
       "         [0.12418203],\n",
       "         [0.12418203],\n",
       "         [0.59580722],\n",
       "         [0.59580722],\n",
       "         [0.55693282],\n",
       "         [0.55693282],\n",
       "         [0.21429477],\n",
       "         [0.21429477],\n",
       "         [0.97937352],\n",
       "         [0.97937352],\n",
       "         [0.2287559 ],\n",
       "         [0.2287559 ],\n",
       "         [0.51748072],\n",
       "         [0.51748072],\n",
       "         [0.92147533],\n",
       "         [0.92147533],\n",
       "         [0.17847529],\n",
       "         [0.17847529],\n",
       "         [0.95425134],\n",
       "         [0.95425134],\n",
       "         [0.75693741],\n",
       "         [0.75693741],\n",
       "         [0.39881942],\n",
       "         [0.39881942],\n",
       "         [0.89575136],\n",
       "         [0.89575136],\n",
       "         [0.95456147],\n",
       "         [0.95456147],\n",
       "         [0.72522436],\n",
       "         [0.72522436],\n",
       "         [0.09948485],\n",
       "         [0.09948485],\n",
       "         [0.54174153],\n",
       "         [0.54174153],\n",
       "         [0.46291447],\n",
       "         [0.46291447],\n",
       "         [0.25509098],\n",
       "         [0.25509098],\n",
       "         [0.17261124],\n",
       "         [0.17261124],\n",
       "         [0.55481093],\n",
       "         [0.55481093],\n",
       "         [0.35108263],\n",
       "         [0.35108263],\n",
       "         [0.53994578],\n",
       "         [0.53994578],\n",
       "         [0.98223457],\n",
       "         [0.98223457],\n",
       "         [0.72863358],\n",
       "         [0.72863358],\n",
       "         [0.26741782],\n",
       "         [0.26741782],\n",
       "         [0.1851173 ],\n",
       "         [0.1851173 ],\n",
       "         [0.14261095],\n",
       "         [0.14261095],\n",
       "         [0.79206642],\n",
       "         [0.79206642],\n",
       "         [0.89375593],\n",
       "         [0.89375593],\n",
       "         [0.01949064],\n",
       "         [0.01949064],\n",
       "         [0.44074057],\n",
       "         [0.44074057],\n",
       "         [0.19307195],\n",
       "         [0.19307195],\n",
       "         [0.13609549],\n",
       "         [0.13609549],\n",
       "         [0.24550336],\n",
       "         [0.24550336],\n",
       "         [0.67715913],\n",
       "         [0.67715913],\n",
       "         [0.02454397],\n",
       "         [0.02454397],\n",
       "         [0.55555917],\n",
       "         [0.55555917],\n",
       "         [0.5909714 ],\n",
       "         [0.5909714 ],\n",
       "         [0.27699237],\n",
       "         [0.27699237],\n",
       "         [0.44000741],\n",
       "         [0.44000741],\n",
       "         [0.086798  ],\n",
       "         [0.086798  ],\n",
       "         [0.89406074],\n",
       "         [0.89406074],\n",
       "         [0.67161586],\n",
       "         [0.67161586],\n",
       "         [0.87172438],\n",
       "         [0.87172438],\n",
       "         [0.65255773],\n",
       "         [0.65255773]])}}"
      ]
     },
     "execution_count": 1,
     "metadata": {},
     "output_type": "execute_result"
    }
   ],
   "source": [
    "ds = load_by_id(run_id_a)\n",
    "ds.get_parameter_data('x1')"
   ]
  },
  {
   "cell_type": "code",
   "execution_count": null,
   "metadata": {},
   "outputs": [],
   "source": []
  }
 ],
 "metadata": {
  "kernelspec": {
   "display_name": "Python 3",
   "language": "python",
   "name": "python3"
  },
  "language_info": {
   "codemirror_mode": {
    "name": "ipython",
    "version": 3
   },
   "file_extension": ".py",
   "mimetype": "text/x-python",
   "name": "python",
   "nbconvert_exporter": "python",
   "pygments_lexer": "ipython3",
   "version": "3.7.9"
  },
  "nbsphinx": {
   "timeout": 600
  },
  "toc": {
   "base_numbering": 1,
   "nav_menu": {},
   "number_sections": true,
   "sideBar": true,
   "skip_h1_title": false,
   "title_cell": "Table of Contents",
   "title_sidebar": "Contents",
   "toc_cell": false,
   "toc_position": {},
   "toc_section_display": true,
   "toc_window_display": false
  },
  "varInspector": {
   "cols": {
    "lenName": 16,
    "lenType": 16,
    "lenVar": 40
   },
   "kernels_config": {
    "python": {
     "delete_cmd_postfix": "",
     "delete_cmd_prefix": "del ",
     "library": "var_list.py",
     "varRefreshCmd": "print(var_dic_list())"
    },
    "r": {
     "delete_cmd_postfix": ") ",
     "delete_cmd_prefix": "rm(",
     "library": "var_list.r",
     "varRefreshCmd": "cat(var_dic_list()) "
    }
   },
   "types_to_exclude": [
    "module",
    "function",
    "builtin_function_or_method",
    "instance",
    "_Feature"
   ],
   "window_display": false
  }
 },
 "nbformat": 4,
 "nbformat_minor": 2
}
